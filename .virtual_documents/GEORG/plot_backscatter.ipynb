import os
import gc
import matplotlib.pyplot as plt
import numpy as np

from datetime import datetime, date
from pandas import DataFrame, read_pickle, date_range, concat, read_csv
from obspy import UTCDateTime, read, Trace, Stream, read_inventory
from scipy.signal import hilbert
from scipy.ndimage import gaussian_filter1d

# from functions.get_fft import __get_fft
# from functions.multitaper_psd import __multitaper_psd
# from functions.welch_psd import __welch_psd
# from functions.rotate_romy_ZUV_ZNE import __rotate_romy_ZUV_ZNE
# from functions.reduce import __reduce
from functions.load_backscatter_data import __load_backscatter_data

from andbro__read_sds import __read_sds
from andbro__readYaml import __readYaml
from andbro__load_FURT_stream import __load_furt_stream


if os.uname().nodename == 'lighthouse':
    root_path = '/home/andbro/'
    data_path = '/home/andbro/kilauea-data/'
    archive_path = '/home/andbro/freenas/'
    bay_path = '/home/andbro/ontap-ffb-bay200/'
    lamont_path = '/home/andbro/lamont/'
elif os.uname().nodename == 'kilauea':
    root_path = '/home/brotzer/'
    data_path = '/import/kilauea-data/'
    archive_path = '/import/freenas-ffb-01-data/'
    bay_path = '/import/ontap-ffb-bay200/'
    lamont_path = '/lamont/'
elif os.uname().nodename in ['lin-ffb-01', 'ambrym', 'hochfelln']:
    root_path = '/home/brotzer/'
    data_path = '/import/kilauea-data/'
    archive_path = '/import/freenas-ffb-01-data/'
    bay_path = '/import/ontap-ffb-bay200/'
    lamont_path = '/lamont/'


config = {}

config['ring'] = "Z"

config['delta'] = 10

# for FSR ex5 (after fixation 2024-10-01 14:00)
config['name'] = "ex0"
config['tbeg'] = UTCDateTime("2024-10-01 00:00")
config['tend'] = UTCDateTime("2024-10-01 04:00")
flim1, flim2 = 315.0, 316.0

# no jumps
# config['name'] = "no_jumps"
# config['tbeg'] = UTCDateTime("2024-09-12 16:00")
# config['tend'] = UTCDateTime("2024-09-14 02:00")
# flim1, flim2 = 553.572, 553.585

# path to Sagnac data
config['path_to_autodata'] = "/import/kilauea-data/sagnac_frequency/bonn/"

config['path_to_data'] = "/import/kilauea-data/sagnac_frequency/bonn/backscatter/"

config['path_to_out_data'] = "/import/kilauea-data/sagnac_frequency/bonn/data/"

config['path_to_figs'] = "/import/kilauea-data/sagnac_frequency/bonn/"



read_pickle("/import/kilauea-data/sagnac_frequency/bonn/FJZ_20241001_00:00:00_backscatter.pkl")


bs = __load_backscatter_data(config['tbeg'], config['tend']+86400, config['ring'], config['path_to_data'], label="")


# add time seconds
bs['time_sec'] = bs.time2 - bs.time1 + (bs.time1 - config['tbeg'])

# cut to time period
bs = bs[(bs.time1 > config['tbeg']) & (bs.time2 < config['tend'])]


bs


plt.plot(bs.time_sec/3600, bs.fj_fs)
plt.ylabel("Sagnac Frequency / Hz")
plt.xlabel("Time / hours")


from allantools import oadev, adev


# define tau range e.g. 5 (= 10⁵) and number of samples N
upper = 6
lower = -4
N = 150

# list of tau values in seconds
taux = np.logspace(lower, upper, N)

# smallest sampling in seconds
dtaux = taux[1]-taux[0]

omegaE = 2*np.pi/86400
scalef = 4/632.8e-9

data = bs.fj_fs.values / scalef / omegaE

taus, ad, ade, ns = oadev(data, rate=1/config['delta'], data_type="freq", taus=taux)



plt.loglog(taus, ad)
plt.grid(True, which="both")
plt.xlabel("Tau / s")
plt.ylabel("Overlapping Allan Deviation $\Omega$/$\Omega_E$")



