import numpy as np

from tqdm import tqdm
from andbro__querrySeismoData import __querrySeismoData
from pandas import read_csv
from obspy import UTCDateTime



seed_id = "BW.ROMY.10.BJZ"

ipath = "/home/andbro/Desktop/test/"

twin = 60 # seconds


cha = seed_id.split(".")[3]

date = UTCDateTime("2020-05-14")

if date.month < 10:
    mm = f"0{date.month}"
else:
    mm = date.month

if date.day < 10:
    dd = f"0{date.day}"
else:
    dd = date.day

iname = f"{cha}_{date.year}{mm}{dd}.SN95"

read_csv(ipath+iname, names=["time", "sn"], delimiter=",")



