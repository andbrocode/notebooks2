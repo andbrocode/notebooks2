import obspy
import numpy as np

from tqdm import tqdm
from andbro__querrySeismoData import __querrySeismoData



def __create_and_write_SN_data(trace, opath, twin, over):
    
    
    samples = trace[0].stats.npts
    deltaT  = trace[0].stats.delta
    steps = int(twin / deltaT) 



    binsize = twin / deltaT 
    overlap = int(binsize * over)


    bins = np.arange(binsize/2, len(trace[0].data)-binsize/2+overlap, overlap)

    
    ## allocate variable memory
    conf   = np.zeros(len(bins))
    timeline = np.zeros(len(bins))

    for l, xbin in enumerate(bins):
#                 print(f'{(xbin-binsize/2)*deltaT-1}--{(xbin+binsize/2)*deltaT-1}')

        wdata = trace[0].data[int(xbin-binsize/2):int(xbin+binsize/2)]

        idx = int(len(wdata)*0.95)

        conf[l] = np.sort(np.abs(wdata))[idx]

        timeline[l] = l*twin*over + twin*over
        
    
    ## writing output
    
    if trace[0].stats.starttime.month < 10:
        mm = f"0{trace[0].stats.starttime.month}"
    else:
        mm = trace[0].stats.starttime.month
          
    if trace[0].stats.starttime.day < 10:
        dd = f"0{trace[0].stats.starttime.day}"
    else:
        dd = trace[0].stats.starttime.day

        
    oname = f"{trace[0].stats.channel}_{trace[0].stats.starttime.year}{mm}{dd}.SN95"
    out = open(opath + oname, "a+")
    
    for idx in range(0,len(conf)):
        out.write(f"{timeline[idx]},{conf[idx]}\n")
    out.close()



tbeg = obspy.UTCDateTime("2020-01-01 00:00")
tend = obspy.UTCDateTime("2020-01-02 00:00")

seed_id = "BW.ROMY.10.BJZ"

opath = "/home/andbro/Desktop/test/"

twin = 60 # seconds


for day in tqdm(range(0, 366)):


    st, inv = __querrySeismoData(  seed_id=seed_id,
                                   starttime=tbeg,
                                   endtime=tend,
                                   where="george",
                                   restitute=True,
                                   detail=False,
                                 )

    __create_and_write_SN_data(st, opath, twin,  0.5)
    
    tbeg += 86400
    tend += 86400
    
    del st, inv



