import os, sys 
import numpy as np
import matplotlib.pyplot as plt



N = 2000
dn = 0.01
f1=0.009
f2=0.1
f3=0.005
binsize = 400 
overlap = 0.75*binsize

offset1 = 3
offset2 = 5

bins = np.arange(binsize/2, N, overlap)
print(len(bins))

xx = np.arange(0, N, dn)


yy =  1.* np.sin(xx*f2) * (np.sin(xx*f1)**2 + offset1) + np.sin(xx*f3) + offset2


maxima, minima, avg = [], [], []
for bi in bins:
    maxima.append(np.max(yy[int((bi-binsize/2)/dn):int((bi+binsize/2)/dn)]))
    minima.append(np.min(yy[int((bi-binsize/2)/dn):int((bi+binsize/2)/dn)]))
    avg.append(np.mean(yy[int((bi-binsize/2)/dn):int((bi+binsize/2)/dn)]))


max_idx = [np.where(yy == vmax) for vmax in maxima]
min_idx = [np.where(yy == vmin) for vmin in minima]

maxidx, minidx = [], []
for i in range(len(max_idx)):
    maxidx.append(max_idx[i][0][0]*dn)
    minidx.append(min_idx[i][0][0]*dn)

avgidx = bins

fig, ax = plt.subplots(1,1, figsize=(15,4))

fs = 12 


ax.plot(xx,yy)

binloc = np.ones(len(bins)); binloc[::2] *= -1
plt.errorbar(bins,offset2+2*offset1*binloc,marker='s',color="black",xerr=binsize/2, capsize=10, ecolor='grey', linestyle='') 

ax.plot(maxidx, maxima, 'rs', markersize=7)
ax.plot(minidx, minima, 'gs', markersize=7)
ax.plot(avgidx, avg, color="orange", marker='s', markersize=7, linestyle="--")

# ax.set_ylim(min(offset2+2*offset1*binloc)-1, max(offset2+2*offset1*binloc)+4 )
ax.set_xlabel('Samples', fontsize=fs)
ax.set_ylabel('Amplitude', fontsize=fs)

for k, bi in enumerate(bins):
    if k%2==0:
        c = 'grey'
    else:
        c = 'black'
        
    ax.axvspan(bi-binsize/2, bi+binsize/2, color=c, alpha=0.1)
    ax.axvline(bi-binsize/2, color=c)
    ax.axvline(bi+binsize/2, color=c)

## add legend 
from matplotlib.patches import Polygon, Patch

legend_elements = [
                   Patch(facecolor='red', edgecolor='black', label='bin maximum'),
                   Patch(facecolor='green', edgecolor='black', label='bin minimum'),
                   Patch(facecolor='orange', edgecolor='black', label='bin mean'),
                   Patch(facecolor='black', edgecolor='black', label='bin center')
                  ]

plt.legend(handles=legend_elements, loc='upper center', fontsize=fs, ncol=4, edgecolor='black', bbox_to_anchor=(0.5, 1.15))

fig.savefig("/home/andbro/Desktop/OBS/QualityCheck/"+f"ROMY-QualityQuantitiesScheme.png", dpi=300, format='png',pad_inches=0.1)



N = 2000
dn = 0.01
f1=0.009
f2=0.1
f3=0.005
binsize = 400 
overlap = 0.5*binsize

offset1 = 1#3
offset2 = 1.5#5

bins = np.arange(binsize/2, N, overlap)
print(len(bins))

xx = np.arange(0, N, dn)


yy =  0.5* np.sin((xx*f2)**1.05) * (np.sin(xx*f1)**2 + offset1) + 0.4*np.sin(xx*f3) + offset2


maxima, minima, avg = [], [], []
for bi in bins:
    maxima.append(np.max(yy[int((bi-binsize/2)/dn):int((bi+binsize/2)/dn)]))
    minima.append(np.min(yy[int((bi-binsize/2)/dn):int((bi+binsize/2)/dn)]))
    avg.append(np.mean(yy[int((bi-binsize/2)/dn):int((bi+binsize/2)/dn)]))


max_idx = [np.where(yy == vmax) for vmax in maxima]
min_idx = [np.where(yy == vmin) for vmin in minima]

maxidx, minidx = [], []
for i in range(len(max_idx)):
    maxidx.append(max_idx[i][0][0]*dn)
    minidx.append(min_idx[i][0][0]*dn)

avgidx = bins


fig, ax = plt.subplots(1,1, figsize=(15,4))

fs = 15

ll = 9

ax.plot(xx,yy)

binloc = np.ones(len(bins)); binloc[::2] *= -1

for i, bi in enumerate(bins[:ll]):
        
        if i in [2,3,6,7]:
            plt.errorbar(bins[i], offset2+2*offset1*binloc[i],marker='s',color="black",xerr=binsize/2, capsize=10, ecolor='grey', linestyle='') 
        else:
            plt.errorbar(bins[i], offset2+1.8*offset1*binloc[i],marker='s',color="black",xerr=binsize/2, capsize=10, ecolor='grey', linestyle='') 
            

ax.plot(maxidx[:ll], maxima[:ll], 'rs', markersize=7, zorder=3)
ax.plot(maxidx[:ll], maxima[:ll], 'r', ls='--', zorder=3)

ax.plot(minidx[:ll], minima[:ll], 'gs', markersize=7, zorder=3)
ax.plot(minidx[:ll], minima[:ll], 'g', ls='--', zorder=3)

ax.plot(avgidx[:ll], avg[:ll], color="orange", marker='s', markersize=7, linestyle="--", zorder=3)

ax.grid(ls='--', zorder=1)
ax.set_xlim(0, 2000)
# ax.set_ylim(min(offset2+2*offset1*binloc)-1, max(offset2+2*offset1*binloc)+4 )
ax.set_xlabel('Time (s)', fontsize=fs)
ax.set_ylabel('Amplitude (V)', fontsize=fs)

ax.set_xticks(range(0, int(ll/2*binsize), binsize))
ax.set_xticklabels(range(0, int(ll/2*20), 20), fontsize=fs-2)

ax.set_yticks(np.arange(0, 3.5, 0.5))
ax.set_yticklabels(np.arange(0, 3.5, 0.5), fontsize=fs-2)

## add legend 
from matplotlib.patches import Polygon, Patch

legend_elements = [
                   Patch(facecolor='red', edgecolor='black', label='bin maximum'),
                   Patch(facecolor='green', edgecolor='black', label='bin minimum'),
                   Patch(facecolor='orange', edgecolor='black', label='bin mean'),
                   Patch(facecolor='black', edgecolor='black', label='bin center')
                  ]

plt.legend(handles=legend_elements, loc='upper center', fontsize=fs-1, ncol=4, edgecolor='black', bbox_to_anchor=(0.5, 1.15))

fig.savefig("/home/andbro/Desktop/OBS/QualityCheck/"+f"ROMY-QualityQuantitiesScheme.png", dpi=300, format='png',pad_inches=0.1)





N = 550
dt = 0.05

f1 = 1.0
f2 = 1.2


t = np.arange(0, N*dt+dt, dt)

sig1 = np.cos(2*np.pi*t*f1)
sig2 = np.cos(2*np.pi*t*f2)

beat = 2*np.cos(np.pi*(f1+f2)*t)+np.cos(np.pi*(f1-f2)*t)
beat = 2*np.cos(np.pi*(f1-f2)*t)


fig, ax = plt.subplots(1,1, figsize=(15,4))

fs = 20

ll = 9

ax.plot(t, sig1+0, label="beam 1")
ax.plot(t, sig2+4, label="beam 2")

ax.plot(t, sig1+sig2+8, '--', color='darkred', label="inteference")
ax.plot(t, beat+8, color='darkred', label="beat note")

# for i in range(3):
#     ax.axhline(i*4, color='grey', ls=':', zorder=-1)
    
ax.set_yticks([0,4,8])
ax.set_yticklabels([])

ax.set_xlabel('Time', fontsize=fs)

# ax.legend(fontsize=fs-1)

fig.legend( loc='upper center', fontsize=fs, ncol=4, edgecolor='black', bbox_to_anchor=(0.5, 1.05))




