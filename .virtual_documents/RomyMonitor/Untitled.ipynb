import os


if os.uname().nodename == 'lighthouse':
    root_path = '/home/andbro/'
    data_path = '/home/andbro/kilauea-data/'
    archive_path = '/home/andbro/freenas/'
    bay_path = '/home/andbro/ontap-ffb-bay200/'
    lamont_path = '/home/andbro/lamont/'
elif os.uname().nodename == 'kilauea':
    root_path = '/home/brotzer/'
    data_path = '/import/kilauea-data/'
    archive_path = '/import/freenas-ffb-01-data/'
    bay_path = '/import/ontap-ffb-bay200/'
    lamont_path = '/lamont/'
elif os.uname().nodename in ['lin-ffb-01', 'ambrym', 'hochfelln']:
    root_path = '/home/brotzer/'
    data_path = '/import/kilauea-data/'
    archive_path = '/import/freenas-ffb-01-data/'
    bay_path = '/import/ontap-ffb-bay200/'
    lamont_path = '/lamont/'



class sixdegrees():

    from obspy import UTCDateTime, Stream

    def __init__(self, conf):

        self.config = conf

        # define startime
        if 'tbeg' in conf.keys():
            self.tbeg = UTCDateTime(conf['tbeg'])
        else:
            print("-> no starttime given!")

        # define endtime
        if 'tend' in conf.keys():
            self.tend = UTCDateTime(conf['tend'])
        else:
            print("-> no starttime given!")

        # set verbose (print information)
        if 'verbose' in conf.keys():
            self.verbose = conf['verbose']
        else:
            self.verbose = False

        # seed id of stream
        if 'seed' in conf.keys():
            self.net, self.sta, self.loc, self.cha = conf['seed'].split('.')
        else:
            self.net, self.sta, self.loc, self.cha = "XX.XXXX..".split('.')

        # seed id of rotation stream
        if 'rot_seed' in conf.keys():
            self.rot_seed = conf['rot_seed']
        else:
            print("-> no rotation seed id given!")

        # seed id of translation stream
        if 'tra_seed' in conf.keys():
            self.tra_seed = conf['tra_seed']
        else:
            print("-> no translation seed id given!")

        # define project name
        if 'project' in conf.keys():
            self.project = conf['project']
        else:
            self.project = "test"

        # define working directory
        if 'workdir' in conf.keys():
            self.workdir = conf['workdir']
        else:
            self.workdir = "./"

        # path to SDS file structure for rotation data
        if 'path_to_sds_rot' in conf.keys():
            self.rot_sds = conf['path_to_sds_rot']
        else:
            print("-> no path to SDS file structure for rotation data given!")

        # path to SDS file structure for translaton data
        if 'path_to_sds_tra' in conf.keys():
            self.tra_sds = conf['path_to_sds_tra']
        else:
            print("-> no path to SDS file structure for translaton data given!")

        # path to translation station inventory
        if 'path_to_inv_tra' in conf.keys():
            self.tra_inv = conf['path_to_inv_tra']
        else:
            print("-> no path to translation station inventory given!")

        # path to rotation station inventory
        if 'path_to_inv_rot' in conf.keys():
            self.rot_inv = conf['path_to_inv_rot']
        else:
            print("-> no path to rotation station inventory given!")


        self.tra_output = "ACC"

    # ____________________________________________________

    def load_data(self, t1, t2):

        def read_from_sds(path_to_archive, seed, tbeg, tend, data_format="MSEED"):
            """
            VARIABLES:
             - path_to_archive
             - seed
             - tbeg, tend
             - data_format

            DEPENDENCIES:
             - from obspy.core import UTCDateTime
             - from obspy.clients.filesystem.sds import Client

            OUTPUT:
             - stream

            EXAMPLE:
            >>> st = __read_sds(path_to_archive, seed, tbeg, tend, data_format="MSEED")
            """

            import os
            from obspy.core import UTCDateTime, Stream
            from obspy.clients.filesystem.sds import Client

            tbeg, tend = UTCDateTime(tbeg), UTCDateTime(tend)

            if not os.path.exists(path_to_archive):
                print(f" -> {path_to_archive} does not exist!")
                return

            ## separate seed id
            net, sta, loc, cha = seed.split('.')

            ## define SDS client
            client = Client(path_to_archive, sds_type='D', format=data_format)

            ## read waveforms
            try:
                st = client.get_waveforms(net, sta, loc, cha, tbeg, tend, merge=-1)
            except:
                print(f" -> failed to obtain waveforms!")
                st = Stream()

            return st


        from obspy import Stream, UTCDateTime

        st0 = Stream()

        t1, t2 = UTCDateTime(t1), UTCDateTime(t2)
        print(self.tra_sds, self.tra_seed)
        try:
            # read translational data
            tra = read_from_sds(self.tra_sds, self.tra_seed, t1-1, t2+1)

        except Exception as e:
            print(f" -> loading translation data failed!")
            if self.verbose:
                print(e)

        if self.verbose:
            print(tra)

        try:
            tra = tra.detrend("linear")

            tra = tra.filter('highpass', freq=0.005, zerophase=True)

            # remove response
            tra = tra.remove_response(self.tra_inv, output=self.tra_output)

            st0 += tra

        except Exception as e:
            print(f" -> removing response failed!")
            if self.verbose:
                print(e)

        try:
            # read rotational data
            rot = read_from_sds(self.rot_sds, self.rot_seed, t1-1, t2+1)

            st0 += rot

        except Exception as e:
            print(f" -> loading rotation data failed!")
            if self.verbose:
                print(e)

        if self.verbose:
            print(rot)

        # check if stream has correct length
        if len(st0) < 6:
            print(f" -> missing stream data")

       # check if merging is required
        if len(st0) > 6:
            st0 = st0.merge(method=1, fill_value=0)

        # change seed id
        for tr in st0:
            tr.stats.network = self.net
            tr.stats.station = self.sta
            tr.stats.location = self.loc

        # assign stream to object
        self.st = st0

    def trim_stream(self, set_common=True, set_interpolate=False):

        from numpy import interp, arange

        def __get_size(st0):
            return [tr.stats.npts for tr in st0]

        # get size of traces
        n_samples = __get_size(self.st)

        # check if all traces have same amount of samples
        if not all(x == n_samples[0] for x in n_samples):
            print(f" -> stream size inconsistent: {n_samples}")

            # if difference not larger than one -> adjust
            if any([abs(x-n_samples[0]) > 1 for x in n_samples]):

                # set to common minimum interval
                if set_common:
                    _tbeg = max([tr.stats.starttime for tr in self.st])
                    _tend = min([tr.stats.endtime for tr in self.st])
                    self.st = self.st.trim(_tbeg, _tend, nearest_sample=True)
                    print(f"  -> adjusted: {__get_size(self.st)}")

                    if set_interpolate:
                        _times = arange(0, min(__get_size(self.st)), self.st[0].stats.delta)
                        for tr in self.st:
                            tr.data = interp(_times, tr.times(reftime=_tbeg), tr.data)
            else:
                # adjust for difference of one sample
                for tr in self.st:
                    tr.data = tr.data[:min(n_samples)]
                print(f"  -> adjusted: {__get_size(self.st)}")



from obspy import UTCDateTime

config = {}

config['project'] = "rolode/"

config['verbose'] = True

config['tbeg'] = UTCDateTime("2024-09-09T00:00:00")
config['tend'] = UTCDateTime("2024-09-09T01:00:00")

config['tra_seed'] = 'GR.FUR..BH*' # seed of translational data
config['rot_seed'] = 'BW.ROMY.30.BJ*' # seed of rotational data

# specify response information file
config['path_to_inv_tra'] = data_path+'stationxml_ringlaser/station_GR_FUR.xml' #seismometer
config['path_to_inv_rot'] = data_path+'stationxml_ringlaser/station_BW_ROMY.xml' #blueSeis

config['path_to_sds_rot'] = archive_path+"temp_archive/"
config['path_to_sds_tra'] = bay_path+"mseed_online/archive/"

test = sixdegrees(config)


test.load_data(t1=config['tbeg'], t2=config['tend'])


test.trim_stream()


test.st



