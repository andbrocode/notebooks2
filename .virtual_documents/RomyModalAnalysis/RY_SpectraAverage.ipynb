import os
import pickle
import matplotlib.pyplot as plt
import numpy as np

from pandas import DataFrame, concat, Series, date_range, read_csv, read_pickle

from functions.get_fband_average import __get_fband_average
from functions.smoothing import __smooth


if os.uname().nodename == 'lighthouse':
    root_path = '/home/andbro/'
    data_path = '/home/andbro/kilauea-data/'
    archive_path = '/home/andbro/freenas/'
    bay_path = '/home/andbro/bay200/'
elif os.uname().nodename == 'kilauea':
    root_path = '/home/brotzer/'
    data_path = '/import/kilauea-data/'
    archive_path = '/import/freenas-ffb-01-data/'
    bay_path = '/bay200/'
elif os.uname().nodename == 'lin-ffb-01':
    root_path = '/home/brotzer/'
    data_path = '/import/kilauea-data/'
    archive_path = '/import/freenas-ffb-01-data/'
    bay_path = '/bay200/'


# path_to_data = data_path+"LNM2/data/"
path_to_data = archive_path+"ModalAnalysis/data/PSDS_median/"

path_to_figs = archive_path+f"ModalAnalysis/figures/"

# colors = {"FFB1":"darkblue", "FFB2":"cyan", "RY01":"tab:orange"}



# psds = {}

# stas = ["RY01", "RY02", "RY05", "RY06", "RY07", "RY08", "RY09"]

# for sta in stas:
#     for cha in ["Z", "N", "E"]:
#         _psd = read_pickle(path_to_data+f"2023_{sta}_HH{cha}_psd_median.pkl")
#         psds['ff'] = _psd.frequencies
#         if cha == "Z":
#             psds[sta] = {}
#         psds[sta][cha] = _psd.psds_median



psds = {}

# "RY03" is distorted
stas = ["FFB1", "FFB2", "FFB3",
        "RY01", "RY02", "RY04", "RY05", "RY06", "RY07", "RY08", "RY09"]

for i, sta in enumerate(stas):

    print(f"{sta} ...")
    try:
        _psd = read_pickle(path_to_data+f"{sta}_psd_stats.pkl")
    except:
        print(f" -> failed for {sta}")
        continue

    if i == 0:
        psds['ff'] = _psd.frequencies

    psds[sta] = {}

    for c in ["Z", "N", "E"]:
        try:
            psds[sta][c] = _psd[f"psds_median_{c}"].values
        except:
            print(f" -> all NaN for {sta}{c}")
            psds[sta][c] = psds['ff']*np.nan



psds_smth = {}

NN = 200

psds_smth['ff'] = __smooth(psds['ff'], NN)

for sta in stas:
    if sta == "ff":
        continue
    psds_smth[sta] = {}
    for c in ["Z", "N", "E"]:
        try:
            psds_smth[sta][c] = __smooth(psds[sta][c], NN)
        except:
            continue



def __makeplot():

    Nrow, Ncol = 3, 1

    font = 12

    fig, ax = plt.subplots(Nrow, Ncol, figsize=(15, 8), sharex=True)

    plt.subplots_adjust(hspace=0.1)

#     for sta in stas:
#         ax[0].loglog(psds["ff"], psds[sta]["Z"], label=f"{sta}")

#     for sta in stas:
#         ax[1].loglog(psds["ff"], psds[sta]["N"], label=f"{sta}")

#     for sta in stas:
#         ax[2].loglog(psds["ff"], psds[sta]["E"], label=f"{sta}")

    for sta in stas:
        for k, c in enumerate(["Z", "N", "E"]):
            try:
                ax[k].loglog(psds["ff"],
                             psds[sta][c],
                             label=f"{sta}",
                             # color=colors[sta]
                            )
            except:
                print(f" -> skip {sta}")
                continue

    for _n in range(Nrow):
        ax[_n].grid(which="both", ls=":", zorder=0)
        ax[_n].set_yscale('log')
        ax[_n].set_xscale('log')
        ax[_n].set_xlim(5e-1, 1e2)
        ax[_n].set_ylim(1e-19, 1e-13)
        ax[_n].set_ylabel(r"PSD (m$^2$/s$^2$/Hz)", fontsize=font)

    ax[2].set_xlabel("Frequency (Hz)", fontsize=font)

    ax[0].legend(bbox_to_anchor=(0.5, 1.1), loc="center", ncol=len(stas)+len(stas))

    ## panel labels
    ax[0].text(-.08, 1.05, '(a)', ha='left', va='top', transform=ax[0].transAxes, fontsize=font+2)
    ax[1].text(-.08, 1.05, '(b)', ha='left', va='top', transform=ax[1].transAxes, fontsize=font+2)
    ax[2].text(-.08, 1.05, '(c)', ha='left', va='top', transform=ax[2].transAxes, fontsize=font+2)

    ax[0].text(.96, .97, 'HHZ', ha='left', va='top', transform=ax[0].transAxes, fontsize=font)
    ax[1].text(.96, .97, 'HHN', ha='left', va='top', transform=ax[1].transAxes, fontsize=font)
    ax[2].text(.96, .97, 'HHE', ha='left', va='top', transform=ax[2].transAxes, fontsize=font)

    plt.show();
    return fig


fig = __makeplot();

# fig.savefig(path_to_figs+f"RY_Spectra_Averages.png", format="png", dpi=150, bbox_inches='tight')


def __makeplot2():

    Nrow, Ncol = 3, 1

    font = 12

    fig, ax = plt.subplots(Nrow, Ncol, figsize=(15, 8), sharex=True)

    plt.subplots_adjust(hspace=0.1)

    for sta in stas:
        for k, c in enumerate(["Z", "N", "E"]):
            try:
                ax[k].plot(psds_smth["ff"],
                           psds_smth[sta][c],
                           label=f"{sta}",
                           )
            except:
                continue

    for _n in range(Nrow):
        ax[_n].grid(which="both", ls=":", zorder=0)
        ax[_n].set_yscale('log')
        ax[_n].set_xscale('log')
        ax[_n].set_xlim(5e-1, 1e2)
        ax[_n].set_ylim(1e-19, 1e-13)
        ax[_n].set_ylabel(r"PSD (m$^2$/s$^2$/Hz)", fontsize=font)

    ax[2].set_xlabel("Frequency (Hz)", fontsize=font)

    ax[0].legend(bbox_to_anchor=(0.5, 1.05), loc="center", ncol=len(stas))

    # panel labels
    ax[0].text(-.06, 1.05, '(a)', ha='left', va='top', transform=ax[0].transAxes, fontsize=font+2)
    ax[1].text(-.06, 1.05, '(b)', ha='left', va='top', transform=ax[1].transAxes, fontsize=font+2)
    ax[2].text(-.06, 1.05, '(c)', ha='left', va='top', transform=ax[2].transAxes, fontsize=font+2)

    ax[0].text(.96, .97, 'HHZ', ha='left', va='top', transform=ax[0].transAxes, fontsize=font)
    ax[1].text(.96, .97, 'HHN', ha='left', va='top', transform=ax[1].transAxes, fontsize=font)
    ax[2].text(.96, .97, 'HHE', ha='left', va='top', transform=ax[2].transAxes, fontsize=font)

    plt.show();
    return fig


fig = __makeplot2();

# fig.savefig(path_to_figs+f"RY_Spectra_Averages_smoothed.png", format="png", dpi=150, bbox_inches='tight')



