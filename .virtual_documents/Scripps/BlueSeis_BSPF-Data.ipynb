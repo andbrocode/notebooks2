import os 
import obspy as obs
import numpy as np


def __request_data(seed, tbeg, tend):

    from obspy.clients.fdsn import Client

    client = Client("IRIS",)

    net, sta, loc, cha = seed.split(".")

    try:
        inventory = client.get_stations(network=net, 
                                         station=sta,
                                         starttime=tbeg,
                                         endtime=tend,
                                         level="response",
                                         )
    except:
        print("Failed to load inventory!")


    try:
        waveform = client.get_waveforms(network=net,
                                       station=sta,
                                       location=loc,
                                       channel=cha, 
                                       starttime=tbeg-60,
                                       endtime=tend+60,
                                       )

    except:
        print("Failed to load waveforms!")
        
    return waveform, inventory


config = {}

config['seed_blueseis'] = "PY.BSPF..HJ*"
config['seed_seismometer'] = "II.PFO.10.BH*"


## Event near PFO
config['tbeg'] = obs.UTCDateTime("2022-10-13 15:00:00")
config['tend'] = obs.UTCDateTime("2022-10-13 16:00:00")



py_bspf, py_bspf_inv = __request_data("PY.BSPF..HJ*", config['tbeg'], config['tend'])


print(py_bspf)
py_bspf.plot(equal_scale=False);


# ii_pfo, ii_pfo_inv = __request_data(config['seed_seismometer'], config['tbeg'], config['tend'])


# print(ii_pfo)
# ii_pfo.plot(equal_scale=False);



