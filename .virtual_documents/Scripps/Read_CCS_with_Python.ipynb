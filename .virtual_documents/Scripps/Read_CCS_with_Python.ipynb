import obspy


datapath = "/home/andbro/Documents/ROMY/Scripps_Fiber/data/experiments2/"
filename = "munki1.263.264.css.wfdisc"

## read data stream using obspy routine
st = obspy.read(datapath+filename, format="CSS")

## merge traces that might be split due to data gaps or overlaps
st.merge()

## setting the calibration variable if not already set
for tr in st:
    if tr.stats.calib == 0:
        tr.stats.calib = 1.0

## show all traces in data stream
st


st.plot(equal_scale=False);


starttime = obspy.UTCDateTime("2022-09-21 00:00:00")
endtime   = obspy.UTCDateTime("2022-09-21 02:00:00")

st.trim(starttime, endtime)

st.plot(equal_scale=False);


data = st[0].data
data


time = st[0].times()
time






