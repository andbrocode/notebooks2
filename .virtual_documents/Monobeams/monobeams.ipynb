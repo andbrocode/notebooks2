from andbro__querrySeismoData import __querrySeismoData
from obspy import UTCDateTime

import matplotlib.pyplot as plt



tbeg = UTCDateTime("2021-02-04 19:00")
tend = UTCDateTime("2021-02-04 19:30")


ipath = f"/import/freenas-ffb-01-data/romy_archive/{tbeg.year}/BW/DROMY/"


f1 , inv = __querrySeismoData(    
                                seed_id="BW.DROMY..F1V",
                                starttime=tbeg,
                                endtime=tend,
                                repository=,
                                path=ipath+"F1V.D/",
                                restitute=True,
                                detail=None,
                            )




f2 , inv = __querrySeismoData(    
                                seed_id="BW.DROMY..F2V",
                                starttime=tbeg,
                                endtime=tend,
                                repository="local",
                                path=ipath+"F2V.D/",
                                restitute=True,
                                detail=None,
                            )




from andbro__fft import __fft

f1_fft, ff1 = __fft(f1[0].data, f1[0].stats.delta)
f2_fft, ff2 = __fft(f2[0].data, f2[0].stats.delta)

fig, ax = plt.subplots(1,2, figsize=(15,5))

ax[0].plot(ff1,f1_fft,'r')
ax[1].plot(ff2,f2_fft,'b')


ax[0].set_xlim(445, 455)
ax[1].set_xlim(445, 455)

ax[0].set_ylim(0, 150)
ax[1].set_ylim(0, 150)

ax[0].set_ylabel(r"ASD (mV/$\sqrt{Hz}$)")
ax[1].set_ylabel(r"ASD (mV/$\sqrt{Hz}$)")

ax[0].set_xlabel("frequency (Hz)", fontsize=14)
ax[1].set_xlabel("frequency (Hz)", fontsize=14)

ax[0].legend(["beam 1"])
ax[1].legend(["beam 2"])



f1[0].data = f1[0].data*1e-3
f2[0].data = f2[0].data*1e-3


stop1, stop2 = 449, 451

f1.filter('bandstop', freqmin=stop1, freqmax=stop2, corners=4, zerophase=True)
f2.filter('bandstop', freqmin=stop1, freqmax=stop2, corners=4, zerophase=True)


f_lower, f_upper = 445, 449

# f1.taper(0.1);
# f2.taper(0.1);

f1.filter('bandpass', freqmin=f_lower, freqmax=f_upper, corners=4, zerophase=True);
f2.filter('bandpass', freqmin=f_lower, freqmax=f_upper, corners=4, zerophase=True);




from andbro__fft import __fft

f1_fft, ff1 = __fft(f1[0].data, f1[0].stats.delta)
f2_fft, ff2 = __fft(f2[0].data, f2[0].stats.delta)

fig, ax = plt.subplots(1,2, figsize=(15,5))

ax[0].plot(ff1,f1_fft,'r')
ax[1].plot(ff2,f2_fft,'b')

ax[0].set_xlim(440, 460)
ax[1].set_xlim(440, 460)

ax[0].set_ylabel(r"ASD (mV/$\sqrt{Hz}$)")
ax[1].set_ylabel(r"ASD (mV/$\sqrt{Hz}$)")

ax[0].set_xlabel("frequency (Hz)", fontsize=14)
ax[1].set_xlabel("frequency (Hz)", fontsize=14)


ax[0].legend(["beam 1"])
ax[1].legend(["beam 2"])



from scipy.signal import hilbert

env1 = abs(hilbert(f1[0].data))
env2 = abs(hilbert(f2[0].data))




fig, ax = plt.subplots(2,1, figsize=(15,5))

n1, n2 = 500, 2000


ax[0].plot(f1[0].data[n1:n2],'r')
ax[1].plot(f2[0].data[n1:n2],'b')

ax[0].plot(env1[n1:n2])
ax[1].plot(env2[n1:n2])

ax[1].set_xlabel("time (s)")

ax[0].set_ylabel("singal (mV)", fontsize=14)
ax[1].set_ylabel("singal (mV)", fontsize=14)


ax[0].legend(["beam 1"])
ax[1].legend(["beam 2"])



fig, ax = plt.subplots(2,1, figsize=(15,5))

n1, n2 = 10*5000, 60*5000

ax[0].plot(env1[n1:n2],'r')
ax[0].plot(env2[n1:n2],'b')

ax[1].plot(abs(env1[n1:n2]-env2[n1:n2]),'k')

ax[1].set_xlabel("time (s)")

ax[0].set_ylabel("singal (mV)", fontsize=14)
ax[1].set_ylabel("singal (mV)", fontsize=14)


ax[0].legend(["beam 1"])
ax[1].legend(["beam 2"])







