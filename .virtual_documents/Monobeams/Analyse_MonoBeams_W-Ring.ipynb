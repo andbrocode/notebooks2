import pandas as pd
import obspy as obs
import matplotlib.pyplot as plt

from obspy.signal import PPSD
from andbro__querrySeismoData import __querrySeismoData
from andbro__makeplot_trace_spectrum import __makeplot_trace_and_spectrum
from andbro__filterStream import __filterStream
from andbro__makeplot_trace_spectrogram import __makeplot_trace_spectrogram
from andbro__rotate_STS2 import __rotate_STS2


def __get_inventory_from_client(config):

    from obspy.clients.fdsn import Client

    cli = Client(base_url=config['client'], timeout=100)

    try:
        inv = cli.get_stations(network=config['seed'].split(".")[0],
                               station=config['seed'].split(".")[1],
                               location=config['seed'].split(".")[2],
                               channel='*',
                               starttime=tbeg,
                               endtime=tend,
                               level="response")
    except:
        print(f"ERROR: failed to load inventory for {config['seed'].split('.')[1]}!")

    return inv


config = {}

config['seeds'] = ["BW.DROMY..F1V", "BW.DROMY..F2V", "BW.DROMY..FJW"]

## After setup with Ulli and Jan @ 31.3.2022
config['tbeg'] = "2022-03-31 19:00"
config['tend'] = "2022-03-31 19:30"


## changed NW before Control Box & 50 Ohm endpieces for RE & RN
config['tbeg'] = "2022-04-05 03:00"
config['tend'] = "2022-04-05 06:00"


config['repo'] = "archive"
# config['repo'] = "george"


st0 = obs.Stream()
for seed in config['seeds']:

    st00, inv = __querrySeismoData(
                                seed_id=seed,
                                starttime=config.get("tbeg"),
                                endtime=config.get("tend"),
                                repository=config.get("repo"),
                                path=None,
                                restitute=False,
                                detail=True,
                                fill_value=None,
                                )
    
    st0 += st00

st0.plot(equal_scale=False);


for tr in st0:
    tr.data = tr.data*0.59604645e-6 # V / count  [0.59604645ug  from obsidian for F1V and F2V and FJW]


for tr in st0:
    __makeplot_trace_and_spectrum(tr,
                                  fmax=0.5/tr.stats.delta, 
                                  axis_scale="loglog", 
                                  grid=True, 
                                  smoothing=20, 
                                  fulloutput=True, 
                                  flip=True);

    fig, freqs, asd = __makeplot_trace_and_spectrum(tr, 
                                                    fmax=0.5/tr.stats.delta, 
                                                    axis_scale="linlin", 
                                                    grid=True, 
                                                    smoothing=20, 
                                                    fulloutput=True, 
                                                    flip=True);
plt.show();


params = [1048, 128, 32]

for tr in st0:
    __makeplot_trace_spectrogram(tr, unit='hour', normalize=True, spec_param=params);
plt.show();


st = st0.copy()


st.detrend('linear')

st.taper(0.1)

fmin, fmax = 400, 600
st.filter('bandpass', freqmin=fmin, freqmax=fmax, corners=4, zerophase=True)
# st.filter('lowpass', freq=fmax, corners=8, zerophase=True)
# st.filter('highpass', freq=fmin, corners=4, zerophase=True)
# st.filter('bandstop', freqmin=0.05, freqmax=0.08, corners=4)

# st.resample(fmax*2)

st.plot(equal_scale=False);


for tr in st:
    __makeplot_trace_and_spectrum(tr, 
                                  fmax=0.5/tr.stats.delta, 
                                  axis_scale="loglog", 
                                  grid=True, 
                                  smoothing=20, 
                                  fulloutput=True, 
                                  flip=True);
    
    fig, freqs, asd = __makeplot_trace_and_spectrum(tr, 
                                                    fmax=0.5/tr.stats.delta, 
                                                    axis_scale="linlin", 
                                                    grid=True, 
                                                    smoothing=20, 
                                                    fulloutput=True, 
                                                    flip=True);
plt.show();


params = [1048, 128, 32]

for tr in st0:
    __makeplot_trace_spectrogram(tr, unit='hour', normalize=True, spec_param=params);
plt.show();


from andbro__fft import __fft

asds = []

for tr in st:
    asd = __fft(tr.data, tr.stats.delta)
    asds.append(asd)


def __makeplot_asd_1(asds):
    fig, ax = plt.subplots(1,2, figsize=(15,5))

    # ax[0].plot(asds[0][1],asds[0][0],'r')
    # ax[1].plot(asds[1][1],asds[1][0],'b')
    ax[0].semilogy(asds[0][1],asds[0][0],'r')
    ax[1].semilogy(asds[1][1],asds[1][0],'b')


    # ax[0].set_xlim(100, 800)
    # ax[1].set_xlim(345, 555)
    ax[0].set_xlim(fmin-fmin/2, fmax+fmax/2)
    ax[1].set_xlim(fmin-fmin/2, fmax+fmax/2)

    # ax[0].set_ylim(0, 150)
    # ax[1].set_ylim(0, 150)

    ax[0].set_ylabel(r"ASD (mV/$\sqrt{Hz}$)")
    ax[1].set_ylabel(r"ASD (mV/$\sqrt{Hz}$)")

    ax[0].set_xlabel("frequency (Hz)", fontsize=14)
    ax[1].set_xlabel("frequency (Hz)", fontsize=14)

    ax[0].grid()
    ax[1].grid()

    ax[0].legend(["beam 1"])
    ax[1].legend(["beam 2"])

    plt.show();
    
__makeplot_asd_1(asds)


def __makeplot_asd_2(asds):
    fig, ax = plt.subplots(1,2, figsize=(15,5))

    # ax[0].plot(asds[0][1],asds[0][0],'r')
    # ax[1].plot(asds[1][1],asds[1][0],'b')
    ax[0].semilogy(asds[0][1],asds[0][0],'r')
    ax[1].semilogy(asds[1][1],asds[1][0],'b')


    ax[0].set_xlim(fmin, fmax)
    ax[1].set_xlim(fmin, fmax)

    ax[0].set_ylim(1e-9, 2e-3)
    ax[1].set_ylim(1e-9, 1e-3)

    ax[0].set_ylabel(r"ASD (mV/$\sqrt{Hz}$)")
    ax[1].set_ylabel(r"ASD (mV/$\sqrt{Hz}$)")

    ax[0].set_xlabel("frequency (Hz)", fontsize=14)
    ax[1].set_xlabel("frequency (Hz)", fontsize=14)

    ax[0].grid()
    ax[1].grid()

    ax[0].legend(["beam 1"])
    ax[1].legend(["beam 2"])

    plt.show();
    
__makeplot_asd_2(asds)


path = "/home/brotzer/Downloads/DROMY_F2V_2022-03-31_2hours.ascii"

df = pd.read_csv(path, header=1, delimiter="\t")
df



