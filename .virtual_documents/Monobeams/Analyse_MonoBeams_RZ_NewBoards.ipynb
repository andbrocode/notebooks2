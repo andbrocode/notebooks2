import pandas as pd
import numpy as np
import obspy as obs
import matplotlib.pyplot as plt

from obspy.signal import PPSD
from andbro__querrySeismoData import __querrySeismoData


def __get_inventory_from_client(config):

    from obspy.clients.fdsn import Client

    cli = Client(base_url=config['client'], timeout=100)

    try:
        inv = cli.get_stations(network=config['seed'].split(".")[0],
                               station=config['seed'].split(".")[1],
                               location=config['seed'].split(".")[2],
                               channel='*',
                               starttime=tbeg,
                               endtime=tend,
                               level="response")
    except:
        print(f"ERROR: failed to load inventory for {config['seed'].split('.')[1]}!")

    return inv


config = {}

config['seeds'] = ["BW.DROMY..F1V", #"BW.DROMY..F2V", "BW.DROMY..F3V",
                   "BW.DROMY..F4V", #"BW.DROMY..F5V", "BW.DROMY..F6V",
                   "BW.DROMY..FJU"]

# config['seeds'] = ["BW.DROMY..FJV"]

config['repo'] = "archive"

config['path_to_sds'] = "/import/freenas-ffb-01-data/romy_archive/"
config['path_to_sds'] = "/home/andbro/freenas/romy_archive/"



## After running both mono beam boards. F4V, F5V, F6V no power supply ! 
# config['tbeg'] = obs.UTCDateTime("2023-03-23 01:00")
# config['tend'] = obs.UTCDateTime("2023-03-23 01:30")


## all 6 recording [random sample period]
# config['tbeg'] = obs.UTCDateTime("2023-03-29 00:00")
# config['tend'] = obs.UTCDateTime("2023-03-29 01:00")

## all 6 recording [after prism installation]
config['tbeg'] = obs.UTCDateTime("2023-05-04 00:00")
config['tend'] = obs.UTCDateTime("2023-05-04 03:00")

config['tbeg'] = obs.UTCDateTime("2023-05-16 09:00")
config['tend'] = obs.UTCDateTime("2023-05-16 15:00")



## TEST 1: battery instead of AC generator for power supply
# config['tbeg'] = obs.UTCDateTime("2023-03-15 10:00")
# config['tend'] = obs.UTCDateTime("2023-03-15 10:05")

## TEST 2: battery instead of AC generator for power supply and connectors with resistors
# config['tbeg'] = obs.UTCDateTime("2023-03-15 10:15")
# config['tend'] = obs.UTCDateTime("2023-03-15 10:20")

## TEST 3: battery instead of AC generator for power supply, no connectors with resistors, no power for diode
# config['tbeg'] = obs.UTCDateTime("2023-03-15 11:20")
# config['tend'] = obs.UTCDateTime("2023-03-15 11:25")

## TEST 3: no power & diode reconnected
# config['tbeg'] = obs.UTCDateTime("2023-03-15 11:40")
# config['tend'] = obs.UTCDateTime("2023-03-15 11:45")


st0 = obs.Stream()

for seed in config['seeds']:

    print(f" -> loading {seed}...")
    
    try:
#         st00, inv = __querrySeismoData(
#                                     seed_id=seed,
#                                     starttime=config.get("tbeg"),
#                                     endtime=config.get("tend"),
#                                     repository=config.get("repo"),
#                                     path=None,
#                                     restitute=False,
#                                     detail=True,
#                                     fill_value=None,
#                                     )

        ## alternative
        from andbro__read_sds import __read_sds
        st00 = __read_sds(config['path_to_sds'], seed, config['tbeg'], config['tend'], data_format='MSEED')
    except:
        print(f" -> failed for {seed}")
        
    st0 += st00

st0 = st0.sort() 
    
st0.plot(equal_scale=False);


st0.trim(config['tbeg'], config['tbeg']+0.1).plot()


st = st0.copy()

st = st.split().merge(fill_value="interpolate")

st = st.sort(['channel'])

# st.detrend('demean')


for tr in st:
    tr.data = tr.data*0.59604645e-6 # V / count  [0.59604645ug  from obsidian]


st.copy().sort().trim(config['tbeg'], config['tbeg']+0.5).plot(equal_scale=False);


def __compute_fft_stream(st):
    
    from andbro__fft import __fft
    from numpy import array
    
    ffts, freqs, chas = [], [], []

#     st.detrend('demean')

    for i, tr in enumerate(st):

        spectrum, frequencies, phase = __fft(tr.data, tr.stats.delta, window='hanning', normalize=False)
        
        ffts.append(spectrum)
        freqs.append(frequencies)
        chas.append(tr.stats.channel)
        
    return array(ffts), array(freqs), array(chas)


# ffts, freqs, chas = __compute_fft_stream(st)


# plt.figure(figsize=(15,10))

# for f, fft, cha in zip(freqs, ffts, chas):

#     if cha == "FJZ":
#         plt.plot(f, fft, label=cha, zorder=-1)
#     else:
#         plt.plot(f, fft, label=cha)
    
#     plt.xscale("log")
#     plt.yscale("log")

#     plt.xlim(540, 560)
    
#     plt.ylim(1e-8, 1e-3)
    
#     plt.legend(loc=1)
    
# plt.show();


def __makeplot_stream_PSD(st, config):

    from scipy import fftpack
    from numpy import abs
    from scipy.signal import welch, hann
    import matplotlib.pyplot as plt


    nblock =  4096*10
    overlap = int(0.5*nblock)
    
    print(f" -> nseg = {nblock} | overlap = {overlap}")
    
    win = hann(nblock, True)

    
    fig, axes = plt.subplots(len(st),2,figsize=(15,10), sharex='col')

    plt.subplots_adjust(hspace=0.3)

    ## _______________________________________________

    st.sort(keys=['channel'], reverse=True)
    
    Pxxs, ffs, chs = [], [], []
    
    for i, tr in enumerate(st):

        ff, Pxx = welch(tr.data, fs=tr.stats.sampling_rate, 
                        window=win, noverlap=overlap, nfft=nblock,
                        scaling="density",
                        return_onesided=True)
        ffs.append(ff)
        chs.append(tr.stats.channel)
        Pxxs.append(Pxx)
        
        ## _________________________________________________________________
        axes[i,0].plot(
                    tr.times(),
                    tr.data,
                    color='black',
                    label='{} {}'.format(tr.stats.station, tr.stats.channel),
                    lw=1.0,
                    )


        ## _________________________________________________________________
        axes[i,1].loglog(
                    ff,
                    Pxx,
                    color='black',
                    lw=1.0,
                    )
        axes[i,1].set_ylim(min(Pxx[10:]), max(Pxx[10:]))
        
        axes[i,0].set_ylabel(r'U (volt)')    
        axes[i,1].set_ylabel(r'PSD (volt$^2$/Hz)')        
#         axes[i,0].legend(loc='upper left',bbox_to_anchor=(0.8, 1.10), framealpha=.8)
        axes[i,0].legend(loc='upper left', framealpha=.8)
        
#         axes[i,0].ticklabel_format(axis='y', style='sci', scilimits=(0,0))
#         axes[i,1].ticklabel_format(axis='y', style='sci', scilimits=(0,0))    

        axes[i,1].set_xlim(530, 570)
    
    plt.show();
    return fig, (Pxxs, ffs, chs)


fig, out = __makeplot_stream_PSD(st, config);


Pxxs, ffs, chs = out[0], out[1], out[2]


plt.figure(figsize=(15,10))

for f, pxx, cha in zip(ffs, Pxxs, chs):

    if cha == "FJZ":
        plt.plot(f, pxx, label=cha, zorder=1)
    else:
        plt.plot(f, pxx, label=cha, zorder=2)
    
    plt.xscale("log")
    plt.yscale("log")

#     plt.xlim(500, 560)
    
    plt.ylim(1e-10, 1e-3)
    
    plt.legend(loc=1)
    
    plt.ylabel(r"PSD (V/$\sqrt{Hz}$)", fontsize=14)
    plt.xlabel("Frequency (Hz)", fontsize=14)
    
    plt.grid(which="both", ls=":", zorder=-1, alpha=0.7)
    
plt.show();





tr  = st.select(channel="FJZ")[0]

dc_mean = []
dc_medi = []

ac_ptp = []
ac_per = []

contrast = []
contrast2 = []

NN = tr.stats.npts
n1 = 0
dn = int(5000*60)
while n1+dn < NN:
    
    n2 = n1+dn
    dat = tr.data[n1:n2]
    
    per = np.percentile(dat, [2.5, 97.5])
    
    ac_per.append(per[1]-per[0])
    ac_ptp.append(np.ptp(dat))

    dc_mean.append(np.mean(dat))
    dc_medi.append(np.median(dat))
    
    contrast.append((max(dat)-min(dat))/(max(dat)+min(dat)))
    contrast2.append((per[1]-per[0])/(per[1]+per[0]))
    
    n1+=dn


plt.figure()
plt.plot(dc_mean)
plt.plot(dc_medi)

plt.figure()
plt.plot(ac_per)
plt.plot(ac_ptp)

plt.figure()
plt.plot(contrast)
plt.plot(contrast2)

plt.plot(np.array(ac_per)/np.array(dc_mean)/2)
plt.plot(np.array(ac_per)/np.array(dc_medi)/2)
plt.plot(np.array(ac_ptp)/np.array(dc_mean)/2)
plt.plot(np.array(ac_ptp)/np.array(dc_medi)/2)

plt.legend()
plt.show();


plt.hist(contrast)


st_pro = st.copy()

st_pro.plot()

st_pro.detrend('demean')

st_pro.taper(0.1)

fmin, fmax = 540, 560

st_pro.filter('bandpass', freqmin=fmin, freqmax=fmax, corners=4, zerophase=True)

# st_pro.filter('lowpass', freq=fmax, corners=8, zerophase=True)
# st_pro.filter('highpass', freq=fmin, corners=4, zerophase=True)
# st_pro.filter('bandstop', freqmin=0.05, freqmax=0.08, corners=4)

st_pro.trim(config['tbeg']+1000, config['tbeg']+1000.1).plot(equal_scale=False);


ffts, freqs, chas = __compute_fft_stream(st_pro)


plt.figure(figsize=(15,10))

for f, fft, cha in zip(freqs, ffts, chas):
    plt.plot(f, fft, label=cha)
    
    plt.xscale("log")
    plt.yscale("log")

#     plt.xlim(540, 560)
    
#     plt.ylim(1e-10, 1e-1)
    
    plt.legend(loc=1)
    
plt.show();






