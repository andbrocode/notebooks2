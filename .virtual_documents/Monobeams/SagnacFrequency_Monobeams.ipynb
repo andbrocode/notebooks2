import os
import matplotlib.pyplot as plt

from datetime import datetime, date
from pandas import DataFrame, read_pickle, date_range, concat, read_csv
from obspy import UTCDateTime


if os.uname().nodename == 'lighthouse':
    root_path = '/home/andbro/'
    data_path = '/home/andbro/kilauea-data/'
    archive_path = '/home/andbro/freenas/'
elif os.uname().nodename == 'kilauea':
    root_path = '/home/brotzer/'
    data_path = '/import/kilauea-data/'
    archive_path = '/import/freenas-ffb-01-data/'


config = {}

# config['seed'] = "BW.DROMY..FJZ"

## Easter
config['tbeg'] = UTCDateTime("2023-04-07 00:00")
config['tend'] = UTCDateTime("2023-04-10 00:00")

config['datapath'] = data_path+"sagnac_frequency/easter/"


## PRISM
config['tbeg'] = UTCDateTime("2023-05-09 01:00")
config['tend'] = UTCDateTime("2023-05-09 04:00")

## RU witm PMT
config['tbeg'] = UTCDateTime("2023-08-31 00:00")
config['tend'] = UTCDateTime("2023-08-31 00:15")
config['datapath'] = data_path+"sagnac_frequency/nordring/"
config['seeds'] = ["BW.DROMY..FJU", "BW.DROMY..F1V", "BW.DROMY..F2V"]

## RU with PD
config['tbeg'] = UTCDateTime("2023-09-01 14:00")
config['tend'] = UTCDateTime("2023-09-01 14:30")
config['datapath'] = data_path+"sagnac_frequency/nordring/"
config['seeds'] = ["BW.DROMY..FJU", "BW.DROMY..F1V", "BW.DROMY..F2V"]

## RU with PD long
config['tbeg'] = UTCDateTime("2023-09-01 17:00")
config['tend'] = UTCDateTime("2023-09-01 19:00")
config['datapath'] = data_path+"sagnac_frequency/"
config['seeds'] = ["BW.DROMY..FJU", "BW.DROMY..F1V", "BW.DROMY..F2V"]


## compare 3 rings
config['tbeg'] = UTCDateTime("2023-09-01 14:00")
config['tend'] = UTCDateTime("2023-09-01 14:30")
config['datapath'] = data_path+"sagnac_frequency/compare_3rings/"
config['seeds'] = ["BW.DROMY..FJU", "BW.DROMY..FJZ", "BW.DROMY..FJV"]

## RU with one monobeam and new board
config['tbeg'] = UTCDateTime("2023-11-17 16:30")
config['tend'] = UTCDateTime("2023-09-01 16:40")
config['datapath'] = data_path+"sagnac_frequency/"
config['seeds'] = ["BW.DROMY..FJU", "BW.DROMY..F1V", "BW.DROMY..F2V"]



# def __load_autodata(config):

#     net, sta, loc, cha = config['seed'].split(".")

#     t1 = date.fromisoformat(str(config['tbeg'].date))
#     t2 = date.fromisoformat(str(config['tend'].date))

#     path = config['datapath']+str(config['tbeg'].year)+"/"+"R"+cha[-1]+"/"

#     df = DataFrame()
#     for dat in date_range(t1,t2):
#         file = cha+"_"+str(dat)[:10].replace("-","")+".pkl"

#         try:
#             df0 = read_pickle(path+file)
#             df = concat([df, df0])
#         except:
#             print(f"error for {path}{file}")

#     return df


def __load_data_psd(config):

    net, sta, loc, cha = config['seed'].split(".")

    t1 = date.fromisoformat(str(config['tbeg'].date))
    t2 = date.fromisoformat(str(config['tend'].date))

    path = config['datapath']

    df = DataFrame()
    for dat in date_range(t1,t2):
        # file = cha+"_"+str(dat)[:10].replace("-","")+cha".pkl"
        file = f"psd_{str(dat)[:10]}_{cha}.pkl"
        try:
            df0 = read_pickle(path+file)
            df = concat([df, df0])
        except:
            print(f"error for {path}{file}")

    return df


config['seed'] = config['seeds'][0]
fj = __load_data_psd(config)

config['seed'] = config['seeds'][1]
f1 = __load_data_psd(config)

config['seed'] = config['seeds'][2]
f2 = __load_data_psd(config)


def __makeplot_psd():

    font = 12

    fig, ax = plt.subplots(1, 2, figsize=(15,5))

    ax[0].loglog(fj.frequencies, fj.fjz_psd, alpha=0.5, label=config['seeds'][0][-3:])
    ax[0].loglog(f1.frequencies, f1.fjz_psd, alpha=0.5, label=config['seeds'][1][-3:])
    ax[0].loglog(f2.frequencies, f2.fjz_psd, alpha=0.5, label=config['seeds'][2][-3:])

    ax[0].set_xlim(0.1, 1000)


    ax[1].loglog(fj.frequencies, fj.fjz_psd, alpha=0.5, label=config['seeds'][0][-3:])
    ax[1].loglog(f1.frequencies, f1.fjz_psd, alpha=0.5, label=config['seeds'][1][-3:])
    ax[1].loglog(f2.frequencies, f2.fjz_psd, alpha=0.5, label=config['seeds'][2][-3:])

    ax[1].set_xlim(290, 315)
    # ax[1].set_xlim(270, 580)

    for i in range(2):
        ax[i].legend(loc=2)
        ax[i].grid(which="both", zorder=-1, alpha=0.3)
    #     ax[i].grid(zorder=-1, alpha=0.2)
    # #     ax[i.ticklabel_format(useOffset=False, style='plain')


    ax[0].set_ylabel("PSD FZ ($V^2 / Hz$)", fontsize=font)
    ax[1].set_ylabel("PSD CCW ($V^2 / Hz$)", fontsize=font)

    ax[0].set_xlabel("Frequency (Hz)", fontsize=font)
    ax[1].set_xlabel("Frequency (Hz)", fontsize=font)

    fig.suptitle(f"Nordring RU - Monobeams {config['tbeg'].date}  {config['tbeg'].time} - {config['tend'].time} UTC", fontsize=font)

    plt.show();
    return fig


fig = __makeplot_psd()

# fig.savefig("./PSD_RU_RV_RZ.png")


def __makeplot(df1, df2, df3):

    def __smooth(y, box_pts):
        from numpy import ones, convolve, hanning

#         win = ones(box_pts)/box_pts
        win = hanning(box_pts)
        y_smooth = convolve(y, win/sum(win), mode='same')

        return y_smooth

    time_scaling, time_unit = 1, "MJD"

    ## ___________________
    ##

    fig, ax = plt.subplots(3,1, figsize=(15,10), sharex=True)

    plt.subplots_adjust(hspace=0.05)

    font = 14
    smooting = 10
    cut_off = int(smooting/2)

    ## DF1
    ax[0].scatter(df1['times_mjd']/time_scaling, df1['freqs'], c="#3776ab", s=10, alpha=0.4, zorder=2, label="FJZ")
    ax[0].plot(df1['times_mjd'][cut_off:-cut_off]/time_scaling, __smooth(df1['freqs'],smooting)[cut_off:-cut_off], "k", zorder=2)


    ## DF2
    ax[1].scatter(df2['times_mjd']/time_scaling, df2['freqs'], c="#f48512", s=10, alpha=0.4, zorder=2, label="F1Z")
    ax[1].plot(df2['times_mjd'][cut_off:-cut_off]/time_scaling, __smooth(df2['freqs'],smooting)[cut_off:-cut_off], "k", zorder=2)


    ## DF3
    ax[2].scatter(df2['times_mjd']/time_scaling, df3['freqs'], c="darkred", s=10, alpha=0.4, zorder=2, label="F2Z")
    ax[2].plot(df2['times_mjd'][cut_off:-cut_off]/time_scaling, __smooth(df3['freqs'],smooting)[cut_off:-cut_off], "k", zorder=2)


#     ax[2].set_ylim(5e12, 2e14)

#     ax[0].set_ylim(min(df1['freqs'][1:10]), max(df1['freqs'][1:10]))

    ax[0].set_ylim(553.48, 553.495)
    ax[1].set_ylim(553.48, 553.495)

    ax[0].ticklabel_format(useOffset=False, style='plain')
    ax[1].ticklabel_format(useOffset=False, style='plain')
    ax[2].ticklabel_format(useOffset=False, style='plain')

#     ymin, ymax = ax[0].axes.get_ylim()
#     ax[1].set_ylim(ymin, ymax)
#     ax[2].set_ylim(ymin, ymax)

    ax[0].set_ylabel(r"Sagnac Beat (Hz)", fontsize=font)
    ax[1].set_ylabel(r"CCW (Hz)", fontsize=font)
    ax[2].set_ylabel(r"CW (Hz)", fontsize=font)

    ax[2].set_xlabel("Days (MJD)", fontsize=font)

#     ax[0].set_title("ROMY-U Sagnac-Frequency", fontsize=font+2, pad=10)
    ax[0].legend(loc=4)
    ax[1].legend(loc=4)
    ax[2].legend(loc=4)

    for i in range(3):
        ax[i].grid(zorder=0)

    plt.show();


__makeplot(fj, f1, f2)


def __makeplot_CC(df1, df2, df3):

    def __smooth(y, box_pts):
        from numpy import ones, convolve, hanning

#         win = ones(box_pts)/box_pts
        win = hanning(box_pts)
        y_smooth = convolve(y, win/sum(win), mode='same')

        return y_smooth
    
    time_scaling, time_unit = 1, "MJD"
    
    
    from scipy import signal
    from numpy import mean, nanmax, correlate, argmax, arange
    
    s1 = fjz.freqs - mean(fjz.freqs)
    s2 = f1z.freqs - mean(f1z.freqs)
    s3 = f1z.freqs - mean(f1z.freqs)


    corr1 = correlate(s1, s2, mode='same')
    corr1 /= nanmax(corr1)

    corr2 = correlate(s1, s3, mode='same')
    corr2 /= nanmax(corr2)
    
    xlags1 = arange(-corr1.size//2, corr1.size//2, 1)
    xlags2 = arange(-corr2.size//2, corr2.size//2, 1)
    
    cc1_max_x = xlags1[argmax(corr1)]
    cc2_max_x = xlags2[argmax(corr2)]
    
    print(cc1_max_x, cc2_max_x)
    
    ## ___________________
    ##
    
    fig, ax = plt.subplots(2,1, figsize=(15,7), sharex=False)
    
#     plt.subplots_adjust(hspace=0.05)
    
    font = 14
    smooting = 10
    cut_off = int(smooting/2)
    
    ## DF1
    ax[0].plot(df1['times_mjd']/time_scaling, df1['freqs'], c='k', alpha=0.4, zorder=2, label="FJZ")
    
    
    ## DF2
    ax[0].plot(df2['times_mjd']/time_scaling, df2['freqs'], c="#f48512", alpha=0.4, zorder=2, label="F1Z")


    ## DF3
    ax[0].plot(df2['times_mjd']/time_scaling, df3['freqs'], c="darkred", alpha=0.4, zorder=2, label="F2Z")


    ax[1].plot(xlags1, corr1, ls="--", label="FJZ-F1V")
    ax[1].plot(xlags2, corr2, ls=":", label="FJZ-F2V")
    

#     ax[0].set_ylim(553.462, 553.4725)
    
    
    ax[0].ticklabel_format(useOffset=False, style='plain')
    ax[1].ticklabel_format(useOffset=False, style='plain')

    
    ax[0].set_ylabel(r"Sagnac Beat (Hz)", fontsize=font)
    ax[1].set_ylabel(r"CC", fontsize=font)

    ax[1].set_xlabel("Days (MJD)", fontsize=font)
    
#     ax[0].set_title("ROMY-U Sagnac-Frequency", fontsize=font+2, pad=10)
    ax[0].legend(loc=1)
    ax[1].legend(loc=1)
    
    for i in range(2):
        ax[i].grid(zorder=0)

    plt.show();


__makeplot_CC(fjz, f1z, f2z)


def __makeplot_power(df1, df2, df3):
    
    def __smooth(y, box_pts):
        from numpy import ones, convolve, hanning

#         win = ones(box_pts)/box_pts
        win = hanning(box_pts)
        y_smooth = convolve(y, win/sum(win), mode='same')

        return y_smooth
    
    
    ## ___________________
    ##
    
    fig, ax = plt.subplots(2,1, figsize=(15,7), sharex=True)
    
    plt.subplots_adjust(hspace=0.05)
    
    font = 14
    smooting = 10
    cut_off = int(smooting/2)
    
    ## DF1
    ax[0].scatter(df1['times_mjd'], df1['psd_max'], c="#3776ab", s=10, alpha=0.4, zorder=2, label="FJZ")
#     ax[0].plot(df1['times_mjd'][cut_off:-cut_off]/time_scaling, __smooth(df1['freqs'],smooting)[cut_off:-cut_off], "k", zorder=2)
    
    
    ## DF2
    ax[1].scatter(df2['times_mjd'], df2['psd_max'], c="#f48512", s=10, alpha=0.4, zorder=2, label="F1Z*")
#     ax[1].plot(df2['times_mjd'][cut_off:-cut_off]/time_scaling, __smooth(df2['freqs'],smooting)[cut_off:-cut_off], "k", zorder=2)


    ## DF3
    ax[1].scatter(df2['times_mjd'], df3['psd_max'], c="darkred", s=10, alpha=0.4, zorder=2, label="F2Z")
#     ax[1].plot(df2['times_mjd'][cut_off:-cut_off]/time_scaling, __smooth(df3['freqs'],smooting)[cut_off:-cut_off], "k", zorder=2)


#     ax[2].set_ylim(5e12, 2e14)
        
#     ax[0].set_ylim(min(df1['freqs'][1:10]), max(df1['freqs'][1:10]))

#     ax[0].set_ylim(553.4550, 553.4655)
    
    
    ax[0].ticklabel_format(useOffset=False, style='plain')
    ax[1].ticklabel_format(useOffset=False, style='plain')
       
    ax[0].set_yscale("log")
    ax[1].set_yscale("log")
    
    ax[0].set_ylabel(r"PSD$_{max}$", fontsize=font)
    ax[1].set_ylabel(r"PSD$_{max}$", fontsize=font)

    ax[1].set_xlabel("Days (MJD)", fontsize=font)
    
#     ax[0].set_title("ROMY-U Sagnac-Frequency", fontsize=font+2, pad=10)
    ax[0].legend(loc=4)
    ax[1].legend(loc=4)
    
    for i in range(2):
        ax[i].grid(zorder=0)
    
    plt.show();


__makeplot_power(fjz, f1z, f2z)


from pandas import read_pickle

path = data_path+"sagnac_frequency/autodata/"

df = read_pickle(path+"FJZ_20230516.pkl")

df.sort_values(by="times_mjd", inplace=True)
df.reset_index(drop=True, inplace=True)
df.head()

# df = df[(df.times_mjd > 60074) & (df.times_mjd < 60075)]


def __makeplot_overview2(df):


    N = 5
    font = 12
    ms = 5
    
    fig, ax = plt.subplots(N,1,figsize=(15,10), sharex=True)

    # plt.subplots_adjust(wspace=0.2)


    ## ______________________________

    ax[0].scatter(df.times_mjd, df.fz, c="tab:blue", label="FZ", s=ms, alpha=0.4, zorder=2)
    ax[0].scatter(df.times_mjd, df.f1, c="tab:orange", label="CCW", s=ms, alpha=0.4, zorder=2)
    ax[0].scatter(df.times_mjd, df.f2, c="tab:red", label="CW", s=ms, alpha=0.4, zorder=2)

    ax[0].ticklabel_format(useOffset=False, style='plain')
    ax[0].set_ylabel("Freq. (Hz)", fontsize=font)
    ax[0].legend(loc=1, fontsize=font-2, ncol=3, bbox_to_anchor=(1, 1.3))
    

    ## ______________________________

    ax[1].scatter(df.times_mjd, df.fz, c="tab:blue", s=ms, alpha=0.4, zorder=2)
    ax[1].scatter(df.times_mjd, df.f1, c="tab:orange", s=ms, alpha=0.4, zorder=2)
    ax[1].scatter(df.times_mjd, df.f2, c="tab:red", s=ms, alpha=0.4, zorder=2)

#     ax[1].plot(df.times_mjd, df.fz, c="tab:blue", alpha=0.4, zorder=1)
#     ax[1].plot(df.times_mjd, df.f1, c="tab:orange", alpha=0.4, zorder=1)
#     ax[1].plot(df.times_mjd, df.f2, c="tab:red", alpha=0.4, zorder=1)


    ax[1].set_ylim(df.fz.mean()-0.5*df.fz.std(), df.fz.mean()+0.5*df.fz.std())
    ax[1].ticklabel_format(useOffset=False, style='plain')
    ax[1].set_ylabel("Freq. (Hz)", fontsize=font)

    ## ______________________________

    ax[2].scatter(df.times_mjd, df.ac_z, c="tab:blue", s=ms, alpha=0.4, zorder=2)
    ax[2].scatter(df.times_mjd, df.ac_1, c="tab:orange", s=ms, alpha=0.4, zorder=2)
    ax[2].scatter(df.times_mjd, df.ac_2, c="tab:red", s=ms, alpha=0.4, zorder=2)

#     ax[2].plot(df.times_mjd, df.ac_z, c="tab:blue", alpha=0.4, zorder=1)
#     ax[2].plot(df.times_mjd, df.ac_1, c="tab:orange", alpha=0.4, zorder=1)
#     ax[2].plot(df.times_mjd, df.ac_2, c="tab:red", alpha=0.4, zorder=1)

    ax[2].set_ylim(0, 0.5)
    ax[2].set_ylabel("AC (V)", fontsize=font)

    ## ______________________________

    ax[3].scatter(df.times_mjd, df.dc_z, c="tab:blue", s=ms, alpha=0.4, zorder=2)
    ax[3].scatter(df.times_mjd, df.dc_1, c="tab:orange", s=ms, alpha=0.4, zorder=2)
    ax[3].scatter(df.times_mjd, df.dc_2, c="tab:red", s=ms, alpha=0.4, zorder=2)

#     ax[3].plot(df.times_mjd, df.dc_z, c="tab:blue", alpha=0.4, zorder=1)
#     ax[3].plot(df.times_mjd, df.dc_1, c="tab:orange", alpha=0.4, zorder=1)
#     ax[3].plot(df.times_mjd, df.dc_2, c="tab:red", alpha=0.4, zorder=1)

    ax[3].set_ylabel("DC (V)", fontsize=font)
    # ax[3].set_ylim(0, 0.1)

    ## ______________________________

    ax[4].scatter(df.times_mjd, df.contrast_z, c="tab:blue", s=ms, alpha=0.4, zorder=2)
    ax[4].scatter(df.times_mjd, df.contrast_1, c="tab:orange", s=ms, alpha=0.4, zorder=2)
    ax[4].scatter(df.times_mjd, df.contrast_2, c="tab:red", s=ms, alpha=0.4, zorder=2)

#     ax[4].plot(df.times_mjd, df.contrast_z, c="tab:blue", alpha=0.4, zorder=1)
#     ax[4].plot(df.times_mjd, df.contrast_1, c="tab:orange", alpha=0.4, zorder=1)
#     ax[4].plot(df.times_mjd, df.contrast_2, c="tab:red", alpha=0.4, zorder=1)

    ax[4].set_ylim(0, 0.5)
    ax[4].set_ylabel("Contrast (V)", fontsize=font)

    
    
    for n in range(N):
        ax[n].grid(alpha=0.8, ls=":", zorder=0)

        
    ax[N-1].set_xlabel("Time (mjd)")
    ax[0].set_title("ROMY-Z Sagnac Signal ", fontsize=font+1, pad=10)
        
        
    return fig


__makeplot_overview2(df)



