import os
import obspy as obs
import numpy as np


from functions.request_data import __request_data


# def __request_data(seed, tbeg, tend):

#     from obspy.clients.fdsn import Client

#     client = Client("IRIS")

#     net, sta, loc, cha = seed.split(".")

#     try:
#         inventory = client.get_stations( network=net,
#                                          station=sta,
#                                          starttime=tbeg-60,
#                                          endtime=tend+60,
#                                          level="response",
#                                         )
#     except:
#         print("Failed to load inventory!")


#     try:
#         waveform = client.get_waveforms( network=net,
#                                          station=sta,
#                                          location=loc,
#                                          channel=cha,
#                                          starttime=tbeg-60,
#                                          endtime=tend+60,
#                                         )

#     except:
#         print("Failed to load waveforms!")

#     finally:
#         return waveform, inventory


config = {}

## Event M62
config['tbeg'] = obs.UTCDateTime("2022-11-22 16:38:00")
config['tend'] = obs.UTCDateTime("2022-11-22 16:52:00")

## Event M42
config['tbeg'] = obs.UTCDateTime("2022-12-31 12:12:07")
config['tend'] = obs.UTCDateTime("2022-12-31 12:13:20")

config['seed_blueseis'] = "PY.BSPF.*.HJ*"

if obs.UTCDateTime("2023-04-01") < config['tbeg']:
    config['seed_seismometer'] = "PY.PFOIX.*.HH*"
else:
    # config['seed_seismometer'] = "II.PFO.10.BH*"
    config['seed_seismometer'] = "II.XPFO.30.BH*"



rot, rot_inv = __request_data(config['seed_blueseis'], config['tbeg'], config['tend'])


rot_inv


print(rot)
rot.plot(equal_scale=False);


acc, acc_inv = __request_data(config['seed_seismometer'], config['tbeg'], config['tend'])


print(acc)
acc.plot(equal_scale=False);


acc_inv


st = obs.Stream()
st+=rot
st+=acc


# st.write("./event62_6C.mseed", format="MSEED")


acc_inv.write(f"{acc[0].stats.station}.xml", format="STATIONXML")
rot_inv.write(f"{rot[0].stats.station}.xml", format="STATIONXML")






