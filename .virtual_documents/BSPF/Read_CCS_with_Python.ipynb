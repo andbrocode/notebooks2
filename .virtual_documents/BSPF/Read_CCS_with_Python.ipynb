import obspy
import os


if os.uname().nodename == 'lighthouse':
    root_path = '/home/andbro/'
    data_path = '/home/andbro/kilauea-data/'
    archive_path = '/home/andbro/freenas/'
elif os.uname().nodename == 'kilauea':
    root_path = '/home/brotzer/'
    data_path = '/import/kilauea-data/'
    archive_path = '/import/freenas-ffb-01-data/'


get_ipython().getoutput("ls /home/andbro/kilauea-data/BSPF/data/strain")


datapath = data_path+"BSPF/data/strain/"
filename = "275.wfdisc"

## read data stream using obspy routine
st = obspy.read(datapath+filename, format="CSS")

## merge traces that might be split due to data gaps or overlaps
st.merge()

## setting the calibration variable if not already set
for tr in st:
    if tr.stats.calib == 0:
        tr.stats.calib = 1.0

## show all traces in data stream
st


st.plot(equal_scale=False);


starttime = obspy.UTCDateTime("2022-09-21 00:00:00")
endtime   = obspy.UTCDateTime("2022-09-21 02:00:00")

st.trim(starttime, endtime)

st.plot(equal_scale=False);


data = st[0].data
data


time = st[0].times()
time






