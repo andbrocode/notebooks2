import obspy
import os
import matplotlib.pyplot as plt

from datetime import datetime
from pandas import read_csv
from obspy import Stream, Trace


if os.uname().nodename == 'lighthouse':
    root_path = '/home/andbro/'
    data_path = '/home/andbro/kilauea-data/'
    archive_path = '/home/andbro/freenas/'
elif os.uname().nodename == 'kilauea':
    root_path = '/home/brotzer/'
    data_path = '/import/kilauea-data/'
    archive_path = '/import/freenas-ffb-01-data/'


get_ipython().getoutput("ls /home/andbro/kilauea-data/BSPF/data/strain")


path_to_data = data_path+"BSPF/data/strain/"

day = "2023262"

df = 20.0 ## Hz


df_EW = read_csv(path_to_data+f"EW-{day}.ascii", names=["EW"])
df_NW = read_csv(path_to_data+f"NW-{day}.ascii", names=["NW"])
df_ZZ = read_csv(path_to_data+f"vertical-{day}.ascii", names=["ZZ"])


def __create_trace(dat, df, seed, tbeg):

    from numpy import array

    net, sta, loc, cha = seed.split('.')

    tr = Trace()
    tr.data = array(dat)
    tr.stats.sampling_rate = df
    tr.stats.starttime = tbeg
    tr.stats.network = net
    tr.stats.station = sta
    tr.stats.location = loc
    tr.stats.channel = cha

    return tr


def __write_stream_to_sds(st, path_to_sds):

    import os

    ## check if output path exists
    if not os.path.exists(path_to_sds):
        print(f" -> {path_to_sds} does not exist!")
        return

    for tr in st:
        nn, ss, ll, cc = tr.stats.network, tr.stats.station, tr.stats.location, tr.stats.channel
        yy, jj = tr.stats.starttime.year, tr.stats.starttime.julday

        if not os.path.exists(path_to_sds+f"{yy}/"):
            os.mkdir(path_to_sds+f"{yy}/")
            print(f"creating: {path_to_sds}{yy}/")
        if not os.path.exists(path_to_sds+f"{yy}/{nn}/"):
            os.mkdir(path_to_sds+f"{yy}/{nn}/")
            print(f"creating: {path_to_sds}{yy}/{nn}/")
        if not os.path.exists(path_to_sds+f"{yy}/{nn}/{ss}/"):
            os.mkdir(path_to_sds+f"{yy}/{nn}/{ss}/")
            print(f"creating: {path_to_sds}{yy}/{nn}/{ss}/")
        if not os.path.exists(path_to_sds+f"{yy}/{nn}/{ss}/{cc}.D"):
            os.mkdir(path_to_sds+f"{yy}/{nn}/{ss}/{cc}.D")
            print(f"creating: {path_to_sds}{yy}/{nn}/{ss}/{cc}.D")

    for tr in st:
        nn, ss, ll, cc = tr.stats.network, tr.stats.station, tr.stats.location, tr.stats.channel
        yy, jj = tr.stats.starttime.year, str(tr.stats.starttime.julday).rjust(3,"0")

        try:
            st_tmp = st.copy()
            st_tmp.select(network=nn, station=ss, location=ll, channel=cc).write(path_to_sds+f"{yy}/{nn}/{ss}/{cc}.D/"+f"{nn}.{ss}.{ll}.{cc}.D.{yy}.{jj}", format="MSEED")
        except:
            print(f" -> failed to write: {cc}")
        finally:
            print(f" -> stored stream as: {yy}/{nn}/{ss}/{cc}.D/{nn}.{ss}.{ll}.{cc}.D.{yy}.{jj}")


date = datetime.strptime(day[:4] + "-" + day[-3:].rjust(3, '0'), "%Y-%j").strftime("%Y-%m-%d")

NW = __create_trace(df_NW.NW, df, "PY.LSM..BSV", f"{date} 00:00:00")
EW = __create_trace(df_EW.EW, df, "PY.LSM..BSE", f"{date} 00:00:00")
ZZ = __create_trace(df_ZZ.ZZ, df, "PY.LSM..BSZ", f"{date} 00:00:00")

st_out = Stream(traces=[NW, EW, ZZ])


st_out.detrend("linear").taper(0.01).filter("highpass", freq=0.01, corners=4, zerophase=True)
st_out.plot(equal_scale=False);


__write_stream_to_sds(st_out, path_to_data)



