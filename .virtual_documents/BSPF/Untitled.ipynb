import pandas as pd


df = pd.read_csv("/home/andbro/kilauea-data/LNM/data/FINAL/TLNM_to_RLNM.csv")


df


df_new = pd.DataFrame()
df_new['periods'] = df['periods']
df_new['rot_trans_lnm'] = df['rot_trans_lnm']
df_new['rot_trans_hnm'] = df['rot_trans_hnm']


df_new


import matplotlib.pyplot as plt

plt.loglog(df_new['periods'], df_new['rot_trans_lnm'])


df2 = pd.read_csv("/home/andbro/kilauea-data/LNM/data/FINAL/rlnm_theory.csv")


df2


plt.loglog(df2['period'], df2['rlnm_psd_median'])



