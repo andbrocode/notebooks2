import os
import obspy as obs
import matplotlib.pyplot as plt
import numpy as np
import pandas as pd

# from andbro__savefig import __savefig
from obspy.clients.fdsn import Client


if os.uname().nodename == 'lighthouse':
    root_path = '/home/andbro/'
    data_path = '/home/andbro/kilauea-data/'
    archive_path = '/home/andbro/freenas/'
elif os.uname().nodename == 'kilauea':
    root_path = '/home/brotzer/'
    data_path = '/import/kilauea-data/'
    archive_path = '/import/freenas-ffb-01-data/'


config = {}

## specify coordinates of station
config['BSPF_lon'] = np.array([-116.455439])
config['BSPF_lat'] = np.array([33.610643])

## first region specified
config['minlatitude'] = 31
config['maxlatitude'] = 35
config['minlongitude'] = -119
config['maxlongitude'] = -114

config['eventfile'] = "BSPF_catalog"

## extended region specified
# config['minlatitude'] = 31 -2
# config['maxlatitude'] = 35 +2
# config['minlongitude'] = -119 -2
# config['maxlongitude'] = -114 +2
# config['eventfile'] = "BSPF_catalog_extended"

# config['minmagnitude'] = 2.5

config['tbeg'] = obs.UTCDateTime("2022-10-01")
config['tend'] = obs.UTCDateTime("2023-10-01")  ## "2023-05-31"


config['trigger'] = data_path+"BSPF/trigger/"

config['outpath'] = data_path+"BSPF/data/catalogs/"
# config['outpath'] = "./"

config['outpath_figs'] = data_path+"BSPF/figures/"

## adjust eventfile name
config['eventfile'] += f"_{str(config['tbeg'].date).replace('-','')}"
config['eventfile'] += f"_{str(config['tend'].date).replace('-','')}"

config['str_dates'] = f"{str(config['tbeg'].date).replace('-','')}_{str(config['tend'].date).replace('-','')}"


from functions.catalog_to_dataframe import __catalog_to_dataframe


def __export_new_events(config, events_old, events):

    ## combine new and old catalog
    tmp = pd.concat([__cat_to_df(events_old), __cat_to_df(events)]).reset_index(drop=False)
    ## remove duplicates
    df = tmp.drop_duplicates(subset=['index'], keep=False)
    ## sort and set index
    df = df.sort_index(ascending=False)
    df.set_index('index', inplace=True, drop=True)

    ## export new events to pickle file
    print(f" -> export new events: {config['outpath']}new_events.pkl")
    df.to_pickle(config['outpath']+"new_events.pkl")

    del tmp, df


def __add_distances_and_backazimuth(config, df):

    from obspy.geodetics.base import gps2dist_azimuth

    dist = np.zeros(len(df))
    baz = np.zeros(len(df))


    for ii, ev in enumerate(df.index):
        try:
            dist[ii], az, baz[ii] = gps2dist_azimuth(config['BSPF_lat'], config['BSPF_lon'],
                                                     df.latitude[ii], df.longitude[ii],
                                                     a=6378137.0, f=0.0033528106647474805
                                                     )
        except:
            print(" -> failed to compute!")

    df['backazimuth'] = baz
    df['distances_km'] = dist/1000

    return df


client = Client("USGS")

## events - all in area and time period
events_all = client.get_events(minlatitude=config['minlatitude'], maxlatitude=config['maxlatitude'],
                               minlongitude=config['minlongitude'], maxlongitude=config['maxlongitude'],
                               starttime=config['tbeg'], endtime=config['tend'],
                               )


print(f" -> storing: {config['outpath']}{config['eventfile']}_all.xml")
events_all.write(config['outpath']+config['eventfile']+"_all.xml", format="QUAKEML")


# ## events smaller than 2.0
# events_1 = client.get_events(minlatitude=config['minlatitude'], maxlatitude=config['maxlatitude'],
#                              minlongitude=config['minlongitude'], maxlongitude=config['maxlongitude'],
#                              starttime=config['tbeg'],
#                              endtime=config['tend'],
#                              maxmagnitude=2.0,
#                             )

# ## events between 2.0 and 3.0 within distance 0.5 degrees
# events_2 = client.get_events(
#                              latitude=config['BSPF_lat'], longitude=config['BSPF_lon'],
#                              starttime=config['tbeg'],
#                              endtime=config['tend'],
#                              minmagnitude=2.0,
#                              maxmagnitude=3.0,
#                              maxradius=0.5,
#                             )

# ## events between 2.0 and 3.0 within distance 2.0 degrees
# events_3 = client.get_events(
#                              latitude=config['BSPF_lat'], longitude=config['BSPF_lon'],
#                              starttime=config['tbeg'],
#                              endtime=config['tend'],
#                              minmagnitude=3.0,
#                              maxmagnitude=5.0,
#                              maxradius=5.0,
#                             )

# ## events larger than 5.0 
# events_4 = events_all.filter("magnitude > 5.0")


# ## join specified event catalogs together
# events = events_2 + events_3 + events_4

# events.plot(projection="local");

# print(f" -> storing: {config['outpath']}{config['eventfile']}_filtered.xml")
# events.write(config['outpath']+config['eventfile']+"_filtered.xml", format="QUAKEML")


## convert catalog object to data frame
# events_df = __catalog_to_dataframe(events)
events_all_df = __catalog_to_dataframe(events_all)


## add epicentral distances
# __add_distances_and_backazimuth(config, events_df)
__add_distances_and_backazimuth(config, events_all_df)


## write data frame as pickle file
# events_df.to_pickle(config['outpath']+config['eventfile']+".pkl")
events_all_df.to_pickle(config['outpath']+config['eventfile']+"_all.pkl")


config['outpath']+config['eventfile']+"_all.pkl"


from functions.request_CMT_events import __request_CMT_events

# !rm /import/kilauea-data/BSPF/data/catalogs/gcmt_solutions_20221001_20230930.xml

__request_CMT_events(starttime=config['tbeg'], endtime=config['tend'], outtype="QUAKEML", outfile=config['outpath']+f"gcmt_solutions_{config['str_dates']}.xml")

# cgmt = obs.read_events(config['outpath']+'gcmt_solutions_{config['str_dates']}.xml')


events_all_df = events_all_df.rename_axis('timestamp').reset_index()
events_all_df['seconds'] = [abs((events_all_df.timestamp.min()-tt).total_seconds()) for tt in events_all_df.timestamp]
events_all_df

# events_df = events_df.rename_axis('timestamp').reset_index()
# events_df['seconds'] = [abs((events_df.timestamp.min()-tt).total_seconds()) for tt in events_df.timestamp]
# events_df


def __plot_timeline(catalog_all_df):

    fig, ax = plt.subplots(1, 1, figsize=(15,5))

    cax = ax.scatter(catalog_all_df.timestamp, catalog_all_df.distances_km, s=4**catalog_all_df.magnitude, 
                     c=catalog_all_df.magnitude, alpha=0.6, cmap='viridis')


    cbar = plt.colorbar(cax, ax=ax, pad=0.01)
    cbar.set_label("Magnitude", fontsize=14)

    ax.set_ylim(bottom=0)
    ax.set_ylabel("Distance (km)", fontsize=14)

    ax.grid(ls=":", zorder=-1)

#     ax.set_xlim(events_all_df.timestamp.min().date(), events_all_df.timestamp.max().date())
    ax.set_xlim(config['tbeg']-4*86400, config['tend']+4*86400)

#     ax.set_title(f"Events={len(catalog_df)}")
    ax.text(config['tend']-40*86400, catalog_all_df.distances_km.max(), f"Events={len(catalog_all_df)}")

    plt.show();
    return fig


fig = __plot_timeline(events_all_df)


fig.savefig(config['outpath_figs']+f"Plot_timeline_{config['eventfile']}_{config['str_dates']}_all.png", dpi=200, bbox_inches="tight", pad_inches=0.05)






