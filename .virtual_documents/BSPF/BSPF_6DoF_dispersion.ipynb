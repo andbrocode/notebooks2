import os, sys
import obspy as obs
import matplotlib.pyplot as plt
import numpy as np
import pandas as pd
import scipy

sys.path.append("/home/andbro/andbro_python")

from obspy.core import read

from andbro__store_as_pickle import __store_as_pickle
from andbro__savefig import __savefig


sys.path.append("/home/andbro/Documents/ROMY/twistpy/TwistPy/")

from twistpy.utils import stransform
from twistpy.convenience import ricker
from twistpy.polarization import (
    TimeDomainAnalysis6C,
    PolarizationModel6C,
    SupportVectorMachine,
    EstimatorConfiguration,
)
from twistpy.polarization import DispersionAnalysis
from twistpy.polarization.machinelearning import SupportVectorMachine


config = {}

## BSPF coordinates
config['BSPF_lon'] = -116.455439
config['BSPF_lat'] = 33.610643

config['fmin'], config['fmax'] = 1.0, 17


st = obs.read("./data/event42_6c.mseed")

tbeg = st[0].stats.starttime
tend = st[0].stats.endtime

st.plot(equal_scale=False);


from functions.makeplotStream_cwt import __makeplotStream_cwt


# fig = __makeplotStream_cwt(st, config);


acc = st.select(station="PFO*").copy()
rot = st.select(station="BSPF").copy()

acc.detrend("demean").taper(0.05)
rot.detrend("demean").taper(0.05)

scaling_velocity = 1000 ##2000

for tr in acc:
    tr.data /= scaling_velocity


svm = SupportVectorMachine(name="dispersion_analysis2")

get_ipython().getoutput("rm /home/andbro/Documents/ROMY/twistpy/TwistPy/twistpy/SVC_models/dispersion_analysis2.pkl")

svm.train(
            wave_types=["R", "L", "P", "SV", "Noise"],
            scaling_velocity=scaling_velocity,
            phi=(0, 360),
            vp=(400, 4000),
            vp_to_vs=(1.7, 2.2),
            vr=(100, 4000),
            vl=(100, 4000),
            xi=(-90, 90),
            theta=(0, 80),
            C=10,
            plot_confusion_matrix=False,
)


da = DispersionAnalysis(
                        traN=acc.select(channel="*N")[0],
                        traE=acc.select(channel="*E")[0],
                        traZ=acc.select(channel="*Z")[0],
                        rotN=rot.select(channel="*N")[0],
                        rotE=rot.select(channel="*E")[0],
                        rotZ=rot.select(channel="*Z")[0],
                        window={"number_of_periods": 3, "overlap": 0.5},
                        scaling_velocity=scaling_velocity,
                        verbose=True,
                        fmin=1,
                        fmax=15.0,
                        octaves=0.25,
                        svm=svm,
)


da.plot(nbins=150)


ff = da.f
cr = da.parameters[0]['c_r']


plt.plot(cr)


da.plot_baz(freq=10.0)


da.plot(nbins=200)



