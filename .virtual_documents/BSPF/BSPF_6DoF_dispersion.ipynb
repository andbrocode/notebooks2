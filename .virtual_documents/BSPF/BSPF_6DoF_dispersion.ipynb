import os, sys
import obspy as obs
import matplotlib.pyplot as plt
import numpy as np
import pandas as pd
import scipy

sys.path.append("/home/andbro/andbro_python")

from andbro__store_as_pickle import __store_as_pickle
from andbro__savefig import __savefig


from functions.request_data import __request_data


sys.path.append("/home/andbro/Documents/ROMY/twistpy/TwistPy/")

from twistpy.utils import stransform
from twistpy.convenience import ricker
from twistpy.polarization import (
    TimeDomainAnalysis6C,
    PolarizationModel6C,
    SupportVectorMachine,
    EstimatorConfiguration,
)


config = {}

## BSPF coordinates
config['BSPF_lon'] = -116.455439
config['BSPF_lat'] = 33.610643

config['fmin'], config['fmax'] = 1.0, 17


# from functions.request_data import __request_data


st = obs.read("./data/event42_6c.mseed")

tbeg = st[0].stats.starttime
tend = st[0].stats.endtime

st.plot(equal_scale=False);


acc = st.select(station="PFO*").copy()
rot = st.select(station="BSPF").copy()


from functions.makeplotStream_cwt import __makeplotStream_cwt


# fig = __makeplotStream_cwt(st, config);


from scipy.signal import hilbert, convolve

from twistpy.convenience import ricker
from twistpy.polarization import *


scaling_velocity = 1500

dt = rot[0].stats.delta


# !rm /home/brotzer/TwistPy/twistpy/SVC_models/nearsurface.pkl

svm = SupportVectorMachine(name="nearsurface")

svm.train(
    wave_types=["R", "L", "P", "SV", "SH", "Noise"],
    N=10000,
    scaling_velocity=scaling_velocity,
    vp=(100, 3000),
    vp_to_vs=(1.6, 2.2),
    vl=(100, 3000),
    vr=(100, 3000),
    phi=(0, 360),
    theta=(0, 90),
    xi=(-90, 90),
    free_surface=True,
    C=1,
    kernel="rbf",
    plot_confusion_matrix=False,
)


# rot.select(channel="*Z")[0].data *= -1

window = {"window_length_seconds": 10.0 * dt, "overlap": 0.5}

analysis = TimeDomainAnalysis6C(
    traN=acc.select(channel="*N")[0],
    traE=acc.select(channel="*E")[0],
    traZ=acc.select(channel="*Z")[0],
    rotN=rot.select(channel="*N")[0],
    rotE=rot.select(channel="*E")[0],
    rotZ=rot.select(channel="*Z")[0],
    window=window,
    scaling_velocity=scaling_velocity,
    timeaxis="rel",
)

analysis.classify(svm=svm, eigenvector_to_classify=0)

classification = analysis.classification["0"]

t_windows = (analysis.t_windows)  # Positions of the sliding time windows where the classification was performed





fig, (ax1, ax2) = plt.subplots(2, 1, sharex=True, figsize=(15, 5))

t = acc.select(channel="*N")[0].times()

ax1.plot(t, acc.select(channel="*N")[0].data, "k:", label="traN")
ax1.plot(t, acc.select(channel="*E")[0].data, "k--", label="traE")
ax1.plot(t, acc.select(channel="*Z")[0].data, "k", label="traZ")

ax1.plot(t, rot.select(channel="*N")[0].data*scaling_velocity, "r:", label="rotN")
ax1.plot(t, rot.select(channel="*E")[0].data*scaling_velocity, "r--", label="rotE")
ax1.plot(t, rot.select(channel="*Z")[0].data*scaling_velocity, "r", label="rotZ")

ax1.legend(loc="center left", bbox_to_anchor=(1, 0.5))
ax1.set_title("Input signal")

ax2.plot(t_windows, classification, "k.")
ax2.set_title("Wave type classification")
ax2.set_xlabel("Time (s)")
ax2.set_ylabel("Classification label")

plt.show();


window = {"number_of_periods": 1, "frequency_extent": 2}

analysis_tf = TimeFrequencyAnalysis6C(
                                        traN=acc.select(channel="*N")[0],
                                        traE=acc.select(channel="*E")[0],
                                        traZ=acc.select(channel="*Z")[0],
                                        rotN=rot.select(channel="*N")[0],
                                        rotE=rot.select(channel="*E")[0],
                                        rotZ=rot.select(channel="*Z")[0],
                                        window=window,
                                        timeaxis="rel",
)

analysis_tf.classify(svm=svm, eigenvector_to_classify=0)

classification_tf = analysis_tf.classification["0"]



fig, (ax1, ax2) = plt.subplots(2, 1, sharex=True, figsize=(15, 5))

t = acc.select(channel="*N")[0].times()

ax1.plot(t, acc.select(channel="*N")[0].data, "k:", label="traN")
ax1.plot(t, acc.select(channel="*E")[0].data, "k--", label="traE")
ax1.plot(t, acc.select(channel="*Z")[0].data, "k", label="traZ")
ax1.plot(t, rot.select(channel="*N")[0].data*scaling_velocity, "r:", label="rotN")
ax1.plot(t, rot.select(channel="*E")[0].data*scaling_velocity, "r--", label="rotE")
ax1.plot(t, rot.select(channel="*Z")[0].data*scaling_velocity, "r", label="rotZ")
ax1.legend(loc="center left", bbox_to_anchor=(1, 0.5))
ax1.set_title("Input signal")

pos = ax2.get_position()
pos0 = ax1.get_position()
ax1.set_position([pos0.x0, pos0.y0, pos.width, pos.height])


ax2.set_title("Wave type classification")
ax2.set_xlabel("Time (s)")
ax2.set_ylabel("Classification label")
analysis_tf.plot_classification(ax2)

plt.show();






