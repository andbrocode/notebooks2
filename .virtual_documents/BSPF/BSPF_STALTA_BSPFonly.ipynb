import os, sys
import obspy as obs
import matplotlib.pyplot as plt

from obspy.clients.fdsn import Client
from obspy.signal.trigger import coincidence_trigger


if os.uname().nodename == 'lighthouse':
    root_path = '/home/andbro/'
    data_path = '/home/andbro/kilauea-data/'
    archive_path = '/home/andbro/freenas/'
elif os.uname().nodename == 'kilauea':
    root_path = '/home/brotzer/'
    data_path = '/import/kilauea-data/'
    archive_path = '/import/freenas-ffb-01-data/'


config = {}

config['seeds'] = {"rotation":"PY.BSPF..HJ*", "translation1":"II.PFO.10.BH*", "translation2":"PY.PFOIX..HH*"}

# config['tbeg'] = obs.UTCDateTime("2022-10-03 16:00:00")
# config['tend'] = obs.UTCDateTime("2022-10-03 20:00:00")

# config['tbeg'] = obs.UTCDateTime("2022-10-28 12:00:00")
# config['tend'] = obs.UTCDateTime("2022-10-28 16:00:00")

# config['tbeg'] = obs.UTCDateTime("2022-12-31 11:00:00")
# config['tend'] = obs.UTCDateTime("2022-12-31 15:00:00")

# config['tbeg'] = obs.UTCDateTime("2023-04-02 16:00:00")
# config['tend'] = obs.UTCDateTime("2023-04-02 17:00:00")

config['tbeg'] = obs.UTCDateTime("2022-12-31 00:00:00")
config['tend'] = obs.UTCDateTime("2022-12-31 23:00:00")

config['output_path'] = data_path+"BSPF/data/"

config['client'] = Client("IRIS")


from functions.request_data import __request_data


# st_bspf, inv_bspf = __request_data(config['seeds']['rotation'], config['tbeg'], config['tend'])
st_bspf = obs.read("./20221231_entire_day.mseed")


# st_bspf.write("./20221231_entire_day.mseed", format="MSEED")


st_bspf


st_bspf = st_bspf.detrend("linear")

if len(st_bspf) > 3:
    st_bspf = st_bspf.merge(fill_value=0)


st_bspf


from obspy.signal.trigger import recursive_sta_lta, trigger_onset, plot_trigger
from obspy.signal.trigger import coincidence_trigger
from pprint import pprint

st = st_bspf.copy()

st = st.sort()

# st = st.detrend("simple")
# st = st.taper(0.1)
# st = st.filter("highpass", freq=0.01, corners=4, zerophase=True)
st = st.filter("bandpass", freqmin=1.0, freqmax=18.0, corners=4, zerophase=True)


# st = st.normalize(global_max=True)

df = st[0].stats.sampling_rate

config['trigger_type'] = 'recstalta'
config['thr_on'] = 1.9 # 2.0  # 2.0   ## thr_on (float) – threshold for switching single station trigger on
config['thr_off'] = 1.6 # 1.5 # 1.2   ## thr_off (float) – threshold for switching single station trigger off
config['lta'] = 15 # 10  # 10   ## seconds
config['sta'] = 1.5 # 1.5 # 1.5   ## seconds
config['thr_coincidence_sum'] = 1
# config['similarity_thresholds'] = {"BSPF": 0.5, "PFO": 0.5}


for ii, tr in enumerate(st):

    cft = recursive_sta_lta(tr.data, int(config['sta']*df), int(config['lta']*df))

    on_off = trigger_onset(cft, config['thr_on'], config['thr_off'])

    plot_trigger(tr, cft, config['thr_on'], config['thr_off'])


st.merge()
pprint(config)

trig = coincidence_trigger(config['trigger_type'],
                           config['thr_on'],
                           config['thr_off'],
                           stream = st,
                           thr_coincidence_sum = config['thr_coincidence_sum'],
                           sta=config['sta'],
                           lta=config['lta'],
#                            similarity_threshold=config['similarity_thresholds'],
                          )

pprint(trig), len(trig)


# fig, ax = plt.subplots(3,1)

# for i, tr in enumerate(st):
#     ax[i].plot(tr.times(), tr.data, 'k', zorder=2)

#     ttt = tl['time']-tr.stats.starttime
#     for tl in trig:
#         ax[i].axvline(ttt, color='r', zorder=5)
#         ax[i].axvline(ttt+tl['duration'], color='b', zorder=5)

#     ax[i].set_ylim(-5e-6, 5e-6)







