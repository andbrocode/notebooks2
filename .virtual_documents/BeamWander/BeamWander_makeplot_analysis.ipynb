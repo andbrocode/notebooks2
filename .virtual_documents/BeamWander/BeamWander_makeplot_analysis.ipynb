import os
import gc
import numpy as np

from scipy.optimize import curve_fit
from obspy import UTCDateTime
from pandas import DataFrame, date_range

import matplotlib.pyplot as plt


from functions.load_mlti import __load_mlti
from functions.get_mlti_intervals import __get_mlti_intervals
from functions.mlti_intervals_to_NaN import __mlti_intervals_to_NaN
from functions.conversion_to_tilt import __conversion_to_tilt
from functions.read_sds import __read_sds
from functions.read_yaml import __readYaml
from functions.smoothing import __smooth
from functions.reduce import __reduce


if os.uname().nodename == 'lighthouse':
    root_path = '/home/andbro/'
    data_path = '/home/andbro/kilauea-data/'
    archive_path = '/home/andbro/freenas/'
    bay_path = '/home/andbro/bay200/'
elif os.uname().nodename == 'kilauea':
    root_path = '/home/brotzer/'
    data_path = '/import/kilauea-data/'
    archive_path = '/import/freenas-ffb-01-data/'
    bay_path = '/bay200/'
elif os.uname().nodename == 'lin-ffb-01':
    root_path = '/home/brotzer/'
    data_path = '/import/kilauea-data/'
    archive_path = '/import/freenas-ffb-01-data/'
    bay_path = '/bay200/'


config = {}

config['camera'] = "01"

config['path_to_data'] = data_path+f"ids/"

config['path_to_outdata'] = data_path+f"ids/"

config['path_to_figs'] = data_path+"ids/figures/"

config['detrend'] = True

# conversion from pixel to mm
config['conversion'] = {"XX":1.67e-3,
                        "01":5.3e-3,
                        "03":5.3e-3,
                        "07":5.3e-3,
                       }

# experiment 1 (after setup at RZ (S))
config['date1'] = "2024-07-05 13:00"
config['date2'] = "2024-07-08 00:00"

# experiment 2
# config['date1'] = "2024-07-11 00:00"
# config['date2'] = "2024-07-14 00:00"

config['tbeg'] = UTCDateTime(config['date1'])
config['tend'] = UTCDateTime(config['date2'])


mlti = __load_mlti(config['date1'], config['date2'], "Z", archive_path)
mlti_t1, mlti_t2 = __get_mlti_intervals(mlti.time_utc)


def __load_beam_wander_data(tbeg, tend, path_to_data, cam):

    from obspy import UTCDateTime
    from datetime import date
    from pandas import read_pickle, concat, DataFrame, date_range, to_datetime

    path_to_data += f"data{cam}/"

    t1 = date.fromisoformat(str(UTCDateTime(tbeg).date))
    t2 = date.fromisoformat(str((UTCDateTime(tend)).date))

    df = DataFrame()
    for dat in date_range(t1, t2):
        print(str(dat)[:10])
        file = f"{str(dat)[:10].replace('-','')}.pkl"
        try:
            df0 = read_pickle(path_to_data+file)
            df = concat([df, df0])
        except:
            print(f"error for {file}")

    # remove NaN from time column
    df.dropna(subset=['time'], inplace=True)

    # reset the index column
    df.reset_index(inplace=True, drop=True)

    # add column for relative time in seconds
    df['time_sec'] = [UTCDateTime(_t) - UTCDateTime(df.time.iloc[0]) for _t in df.time]

    return df


df01 = __load_beam_wander_data(config['date1'], config['date2'], config['path_to_data'], "01")
df03 = __load_beam_wander_data(config['date1'], config['date2'], config['path_to_data'], "03")


df01 = df01[df01.time > config['tbeg']]
df03 = df03[df03.time > config['tbeg']]

df01 = df01[df01.time < config['tend']]
df03 = df03[df03.time < config['tend']]

df01.reset_index(inplace=True, drop=True)
df03.reset_index(inplace=True, drop=True)


def __convert(df0, conversion_factor):

    from functions.reduce import __reduce

    # add utc object
    df0['time_utc'] = [UTCDateTime(tl) for tl in df0.time]

    keys_to_convert = ["y_idx", "x_idx", "y", "x", "x_sig", "y_sig"]

    for k in keys_to_convert:
        df0[k] *= conversion_factor

    # to micrometer
    df0['x_um_rel'] = __reduce(df0.x, 50) * 1e3
    df0['y_um_rel'] = __reduce(df0.y, 50) * 1e3

    df0['x_um_sig'] = df0.x_sig * 1e3
    df0['y_um_sig'] = df0.y_sig * 1e3

    df0.reset_index(inplace=True, drop=True)
    return df0


df01 = __convert(df01, config['conversion']["01"])


df03 = __convert(df03, config['conversion']["03"])


def __filter(df0):

    n1 = df0.size

    # remove bad estimates
    df0 = df0[df0['y_sig_var'] != np.inf]
    df0 = df0[df0['x_sig_var'] != np.inf]

    # when intensity is super low, there is a black image
    df0 = df0[df0['amp'] > 20]

    # when intensity is super high or saturated, there is likely a MLTI boost
    df0 = df0[df0['amp'] < 255]

    if df0.size != n1:
        df0.reset_index(inplace=True)

    return df0


df01 = __filter(df01)


df03 = __filter(df03)


from scipy.signal import detrend

if config['detrend']:
    df01.y_um_rel = detrend(df01.y_um_rel, type="linear")
    df03.y_um_rel = detrend(df03.y_um_rel, type="linear")

    df01.x_um_rel = detrend(df01.x_um_rel, type="linear")
    df03.x_um_rel = detrend(df03.x_um_rel, type="linear")


# # turn times with MLTI to NaN
# df = __mlti_intervals_to_NaN(df, "y_idx", "time_utc", mlti_t1, mlti_t2, t_offset_sec=180)
# df = __mlti_intervals_to_NaN(df, "x_idx", "time_utc", mlti_t1, mlti_t2, t_offset_sec=180)



# path_to_tilt = data_path+"TiltmeterDataBackup/Tilt_downsampled/"
path_to_tilt = archive_path+"romy_archive/"

tromy0 =  __read_sds(path_to_tilt, "BW.ROMYT..MAN", config['tbeg']-600, config['tend']+600)
tromy0 += __read_sds(path_to_tilt, "BW.ROMYT..MAE", config['tbeg']-600, config['tend']+600)
tromy0 += __read_sds(path_to_tilt, "BW.ROMYT..MAT", config['tbeg']-600, config['tend']+600)


## tiltmeter configurations
confTilt = __readYaml(root_path+"Documents/ROMY/tiltmeter/", "tiltmeter.conf")

tromy0 = __conversion_to_tilt(tromy0, confTilt['TROMY'])

tromy0 = tromy0.trim(config['tbeg'], config['tend'], nearest_sample=False);

tromy = tromy0.copy();

tromy = tromy.merge();

tromy = tromy.trim(config['tbeg'], config['tend'])

tromy.plot(equal_scale=False);

del tromy0


if config['detrend']:
    tromy = tromy.detrend("linear")

Nsmooth = int(50*tromy.select(channel="*N")[0].stats.sampling_rate)
tromyN_smooth = __smooth(__reduce(tromy.select(channel="*N")[0].data, 10), Nsmooth)
tromyE_smooth = __smooth(__reduce(tromy.select(channel="*E")[0].data, 10), Nsmooth)


ffbi = __read_sds(archive_path+"temp_archive/", "BW.FFBI.30.LDF", config['tbeg'], config['tend'])
ffbi += __read_sds(archive_path+"temp_archive/", "BW.FFBI.30.LDO", config['tbeg'], config['tend'])


# ffbi_bdf_smooth1 = __smooth(ffbi.select(channel="*F")[0].data, int(60*ffbi.select(channel="*F")[0].stats.sampling_rate))
# ffbi_bdf_smooth2 = __smooth(ffbi.select(channel="*F")[0].data, int(3600*ffbi.select(channel="*F")[0].stats.sampling_rate))


from scipy.signal import hilbert

pp = ffbi.select(channel="*DO").copy()

hp = pp.copy()

if config['detrend']:
    pp = pp.detrend("linear")
    hp = hp.detrend("linear")

for tr in hp:
    NN = int(1e6)
    tr.data = np.pad(tr.data, (NN, NN), mode="edge")

    tr.data = np.imag(hilbert(tr.data))

    tr.data = tr.data[NN:-NN]

# hp = hp.detrend("simple")
# pp = pp.detrend("simple")

for tr in pp:
    tr.data = __reduce(tr.data, 10)
    tr.data += ffbi.select(channel="*DO")[0].data[0]

for tr in hp:
    tr.data = __reduce(tr.data, 10)
    tr.data += ffbi.select(channel="*DO")[0].data[0]

# pp.plot();
# hp.plot();


def __makeplot():

    ref_date = config['tbeg']

    fig, ax1 = plt.subplots(1, 1, figsize=(15, 5))

    font = 12

    ax1.scatter(df01.time_utc - df01.time_utc.iloc[0],
                -1*__reduce(df01.y_um_rel, 10),
                label=f"-1x Y (out-of-plane)",
                color="green",
                zorder=2,
                s=5,
               )
    ax1.scatter(df01.time_utc - df01.time_utc.iloc[0],
                __reduce(df01.x_um_rel, 10),
                label=f"X (in-plane)",
                color="orange",
                zorder=2,
                s=5,
               )
    # ax1.scatter(df03.time_utc - df03.time_utc.iloc[0],
    #             -1*__reduce(df03.y_um_rel, 10),
    #             label=f"-1x Y (out-of-plane)",
    #             color="green",
    #             zorder=2,
    #             s=5,
    #            )
    # ax1.scatter(df03.time_utc - df03.time_utc.iloc[0],
    #             __reduce(df03.x_um_rel, 10),
    #             label=f"X (in-plane)",
    #             color="orange",
    #             zorder=2,
    #             s=5,
    #            )

    # onyl add for legend label
    ax1.plot(tromy.select(component="E")[0].times(reftime=ref_date),
             tromyE_smooth*np.nan, color="red", label="E-W Tilt"
            )
    ax1.plot(tromy.select(component="N")[0].times(reftime=config['tbeg'])[::150],
             tromyN_smooth[::150]*np.nan, color="red", ls="--", label="N-S Tilt"
            )

    # ax1.set_ylim(-8, 3)
    ax1.set_ylabel("Beam Position ($\mu$m)", fontsize=font)

    ax41 = ax1.twinx()
    # ax41.plot(ffbi.select(channel="*O")[0].times(reftime=ref_date),
    #           ffbi.select(channel="*O")[0].data,
    #           color="blue"
    #           )
    NX = 10
    ax41.plot(pp.select(channel="*O")[0].times(reftime=ref_date)[::NX],
              pp.select(channel="*O")[0].data[::NX],
              color="blue"
              )
    ax41.plot(hp.select(channel="*O")[0].times(reftime=ref_date)[::NX],
              hp.select(channel="*O")[0].data[::NX],
              color="blue", ls=":"
              )
    ax41.set_ylabel("Pressure (hPa)", fontsize=font, color="blue")
    [t.set_color('blue') for t in ax41.yaxis.get_ticklabels()]

    ax2 = ax1.twinx()

    NX = 300
    ax2.plot(tromy.select(component="N")[0].times(reftime=config['tbeg'])[::NX],
             tromyN_smooth[::NX]*1e6, color="red", ls="--"
            )
    ax2.plot(tromy.select(component="E")[0].times(reftime=ref_date)[::NX],
             tromyE_smooth[::NX]*1e6, color="red"
            )
    ax2.set_ylim(-.4, .2)
    ax2.spines.right.set_position(("axes", 1.08))
    ax2.set_ylabel("Tilt ($\mu$rad)", fontsize=font, color="red")
    [t.set_color('red') for t in ax2.yaxis.get_ticklabels()]

    ax1.legend(loc=4)

    # add dates to x-axis
    tcks = ax1.get_xticks()
    tcklbls = [f"{UTCDateTime(UTCDateTime(ref_date)+t).date} \n {UTCDateTime(UTCDateTime(ref_date)+t).time}" for t in tcks]
    ax1.set_xticklabels(tcklbls)

    return fig

fig = __makeplot()

# fig.savefig(config['path_to_figs']+f"BW_RZ_environmentals_{config['tbeg'].date}_{config['tend'].date}_detrend.png", format="png", dpi=150, bbox_inches='tight')



def __makeplot():

    ref_date = config['tbeg']

    fig, (ax11, ax21) = plt.subplots(2, 1, figsize=(15, 8))

    font = 12

    plt.subplots_adjust(hspace=0.05)

    ax11.scatter(df01.time_utc - df01.time_utc.iloc[0],
                -1*__reduce(df01.y_um_rel, 10),
                label=f"-1x Y (out-of-plane)",
                color="green",
                zorder=2,
                s=5,
               )
    ax11.plot(df01.time_utc - df01.time_utc.iloc[0],
              -1*__smooth(__reduce(df01.y_um_rel, 10), 10),
              # label=f"X (in-plane)",
              color="k",
              zorder=2, ls="--"
              )

    ax21.scatter(df01.time_utc - df01.time_utc.iloc[0],
                __reduce(df01.x_um_rel, 10),
                label=f"X (in-plane)",
                color="orange",
                zorder=2,
                s=5,
               )
    ax21.plot(df01.time_utc - df01.time_utc.iloc[0],
              __smooth(__reduce(df01.x_um_rel, 10), 10),
              # label=f"X (in-plane)",
              color="k",
              zorder=2, ls="--"
              )

    # ax11.scatter(df03.time_utc - df03.time_utc.iloc[0],
    #             -1*__reduce(df03.y_um_rel, 10),
    #             label=f"-1x Y (out-of-plane)",
    #             color="green",
    #             zorder=2,
    #             s=5,
    #            )
    # ax21.scatter(df03.time_utc - df03.time_utc.iloc[0],
    #             __reduce(df03.x_um_rel, 10),
    #             label=f"X (in-plane)",
    #             color="orange",
    #             zorder=2,
    #             s=5,
    #
    # __________________________________________________
    # onyl add for legend label
    ax11.plot(tromy.select(component="E")[0].times(reftime=ref_date),
              tromyE_smooth*np.nan, color="red", label="E-W Tilt")
    ax11.plot(pp.select(channel="*O")[0].times(reftime=ref_date),
              pp.select(channel="*O")[0].data*np.nan, color="blue", label="Pressue P")
    ax11.plot(hp.select(channel="*O")[0].times(reftime=ref_date),
              hp.select(channel="*O")[0].data*np.nan, color="blue", ls=":", label="Hilbert(P)")
    ax21.plot(tromy.select(component="N")[0].times(reftime=config['tbeg'])[::150],
              tromyN_smooth[::150]*np.nan, color="red", ls="--", label="N-S Tilt")
    ax21.plot(pp.select(channel="*O")[0].times(reftime=ref_date),
              pp.select(channel="*O")[0].data*np.nan, color="blue", label="Pressue P")
    ax21.plot(hp.select(channel="*O")[0].times(reftime=ref_date),
              hp.select(channel="*O")[0].data*np.nan, color="blue", ls=":", label="Hilbert(P)")

    # ax1.set_ylim(-8, 3)
    ax11.set_ylabel("Beam Position ($\mu$m)", fontsize=font)
    ax21.set_ylabel("Beam Position ($\mu$m)", fontsize=font)

    # __________________________________________________
    ax41 = ax11.twinx()
    NX = 10
    ax41.plot(pp.select(channel="*O")[0].times(reftime=ref_date)[::NX],
              pp.select(channel="*O")[0].data[::NX],
              color="blue"
              )
    ax41.plot(hp.select(channel="*O")[0].times(reftime=ref_date)[::NX],
              hp.select(channel="*O")[0].data[::NX],
              color="blue", ls=":"
              )
    ax41.set_ylabel("Pressure (hPa)", fontsize=font, color="blue")
    [t.set_color('blue') for t in ax41.yaxis.get_ticklabels()]

    # __________________________________________________
    ax42 = ax21.twinx()
    NX = 10
    ax42.plot(pp.select(channel="*O")[0].times(reftime=ref_date)[::NX],
              pp.select(channel="*O")[0].data[::NX],
              color="blue"
              )
    ax42.plot(hp.select(channel="*O")[0].times(reftime=ref_date)[::NX],
              hp.select(channel="*O")[0].data[::NX],
              color="blue", ls=":"
              )
    ax42.set_ylabel("Pressure (hPa)", fontsize=font, color="blue")
    [t.set_color('blue') for t in ax42.yaxis.get_ticklabels()]

    # __________________________________________________
    ax112 = ax11.twinx()

    NX = 300
    ax112.plot(tromy.select(component="E")[0].times(reftime=ref_date)[::NX],
             tromyE_smooth[::NX]*1e6, color="darkred"
            )
    ax112.spines.right.set_position(("axes", 1.08))
    ax112.set_ylabel("Tilt ($\mu$rad)", fontsize=font, color="darkred")
    [t.set_color('darkred') for t in ax112.yaxis.get_ticklabels()]

    ax11.legend(loc=4)
    ax21.legend(loc=4)

    # __________________________________________________
    ax212 = ax21.twinx()

    NX = 300
    ax212.plot(tromy.select(component="N")[0].times(reftime=config['tbeg'])[::NX],
             tromyN_smooth[::NX]*1e6, color="darkred", ls="-"
            )
    ax212.set_ylim(-.1, .2)
    ax212.spines.right.set_position(("axes", 1.08))
    ax212.set_ylabel("Tilt ($\mu$rad)", fontsize=font, color="darkred")
    [t.set_color('darkred') for t in ax212.yaxis.get_ticklabels()]

    ax11.legend(loc=4)
    ax21.legend(loc=4)

    ax11.get_xaxis().set_visible(False)

    axes = [ax11, ax21]
    for _k, (ax, ll) in enumerate(zip(axes, ['(a)', '(b)'])):
        ax.text(.005, .97, ll, ha='left', va='top', transform=ax.transAxes, fontsize=font+2)

    # add dates to x-axis
    tcks = ax21.get_xticks()
    tcklbls = [f"{UTCDateTime(UTCDateTime(ref_date)+t).date} \n {UTCDateTime(UTCDateTime(ref_date)+t).time}" for t in tcks]
    ax21.set_xticklabels(tcklbls)

    return fig

fig = __makeplot()

fig.savefig(config['path_to_figs']+f"BW_RZ_environmentals2_{config['tbeg'].date}_{config['tend'].date}_detrend.png", format="png", dpi=150, bbox_inches='tight')



plt.scatter(tromyE_smooth, tromyN_smooth, c=tromy[0].times(), s=5)
plt.xlim(-3e-7, 1e-7)
plt.ylim(-3e-9, 3e-7)



