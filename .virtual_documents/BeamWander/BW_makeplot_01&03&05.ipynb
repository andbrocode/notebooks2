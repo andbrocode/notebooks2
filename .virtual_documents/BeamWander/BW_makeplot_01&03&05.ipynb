import os
import gc
import numpy as np

from scipy.optimize import curve_fit
from obspy import UTCDateTime
from pandas import DataFrame, date_range

import matplotlib.pyplot as plt


from functions.load_mlti import __load_mlti
from functions.get_mlti_intervals import __get_mlti_intervals
from functions.mlti_intervals_to_NaN import __mlti_intervals_to_NaN
from functions.reduce import __reduce
from functions.smoothing import __smooth
from functions.load_sagnac_beat_data import __load_sagnac_beat_data
from functions.load_beam_wander_data import __load_beam_wander_data


if os.uname().nodename == 'lighthouse':
    root_path = '/home/andbro/'
    data_path = '/home/andbro/kilauea-data/'
    archive_path = '/home/andbro/freenas/'
    bay_path = '/home/andbro/ontap-ffb-bay200/'
    lamont_path = '/home/andbro/lamont/'
elif os.uname().nodename == 'kilauea':
    root_path = '/home/brotzer/'
    data_path = '/import/kilauea-data/'
    archive_path = '/import/freenas-ffb-01-data/'
    bay_path = '/import/ontap-ffb-bay200/'
    lamont_path = '/lamont/'
elif os.uname().nodename in ['lin-ffb-01', 'ambrym', 'hochfelln']:
    root_path = '/home/brotzer/'
    data_path = '/import/kilauea-data/'
    archive_path = '/import/freenas-ffb-01-data/'
    bay_path = '/import/ontap-ffb-bay200/'
    lamont_path = '/lamont/'


config = {}

# config['camera'] = "01"

config['path_to_data'] = data_path+f"ids/"

config['path_to_outdata'] = data_path+f"ids/"

config['path_to_figures'] = data_path+"ids/figures/"

config['path_to_autodata'] = archive_path+f"romy_autodata/"

# conversion from pixel to mm
config['conversion'] = {"XX":1.67e-3,
                        "01":5.3e-3,
                        "03":5.3e-3,
                        "05":5.3e-3,
                        "07":5.3e-3,
                       }

# experiment 2 (after setup monobeams at RZ (S))
# config['date1'] = "2024-08-03"
# config['date2'] = "2024-08-09"

# experiment 3 (after setup monobeams at RZ (S))
# config['date1'] = "2024-08-09"
# config['date2'] = "2024-08-20"

# experiment with FSR 2024-08-22 12:00
config['date1'] = "2024-08-22"
config['date2'] = str(UTCDateTime.now().date)

# experiment with FSR after fixation 2024-09-24 12:00
config['date1'] = "2024-09-25"
config['date2'] = str(UTCDateTime.now().date)


config['t1'] = UTCDateTime(config['date1']) + 0*3600
config['t2'] = UTCDateTime(config['date2']) + 86400



mlti = __load_mlti(config['date1'], config['date2'], "Z", archive_path)

mlti_t1, mlti_t2 = __get_mlti_intervals(mlti.time_utc)


beatZ = __load_sagnac_beat_data(config['t1'], config['t2'], "Z", config['path_to_autodata'])


df01 = __load_beam_wander_data(config['date1'], config['date2'], config['path_to_data'], "01")

df03 = __load_beam_wander_data(config['date1'], config['date2'], config['path_to_data'], "03")

df05 = __load_beam_wander_data(config['date1'], config['date2'], config['path_to_data'], "05")



def __convert(df0, conversion_factor):

    from functions.reduce import __reduce

    # add utc object
    df0.loc[:, 'time_utc'] = [UTCDateTime(tl) for tl in df0.time]

    # cut to time period
    df0 = df0[(df0.time_utc >= config['t1']) & (df0.time_utc <= config['t2'])]
    df0.reset_index(drop=True, inplace=True)

    df0.loc[:, 'time_sec'] = df0.time_utc - config['t1']

    keys_to_convert = ["y_idx", "x_idx", "y", "x", "x_sig", "y_sig"]

    for k in keys_to_convert:
        df0.loc[:, k] = df0[k].values * conversion_factor

    # to micrometer
    df0.loc[:, 'x_um_rel'] = __reduce(df0.x.values * 1e3, 5)
    df0.loc[:, 'y_um_rel'] = __reduce(df0.y.values * 1e3, 5)

    df0.loc[:, 'x_um_sig'] = df0.x_sig.values * 1e3
    df0.loc[:, 'y_um_sig'] = df0.y_sig.values * 1e3

    df0.loc[:, 'x_um_var'] = df0.x_var.values * 1e3
    df0.loc[:, 'y_um_var'] = df0.y_var.values * 1e3

    df0.reset_index(drop=True, inplace=True)

    return df0


df01 = __convert(df01, config['conversion']["01"])

df03 = __convert(df03, config['conversion']["03"])

df05 = __convert(df05, config['conversion']["05"])


ids1x = df01.x_um_rel.values
ids3x = df03.x_um_rel.values
ids5x = df05.x_um_rel.values


def __filter(df0):

    n1 = df0.size

    # remove bad estimates
    df0 = df0[df0['y_sig_var'] != np.inf]
    df0 = df0[df0['x_sig_var'] != np.inf]

    # when intensity is super low, there is a black image
    df0 = df0[df0['amp'] > 20]

    # when intensity is super high or saturated, there is likely a MLTI boost
    df0 = df0[df0['amp'] < 255]

    if df0.size != n1:
        df0.reset_index(inplace=True)

    return df0


df01 = __filter(df01)

df03 = __filter(df03)

df05 = __filter(df05)


# # turn times with MLTI to NaN
# df = __mlti_intervals_to_NaN(df, "y_idx", "time_utc", mlti_t1, mlti_t2, t_offset_sec=180)
# df = __mlti_intervals_to_NaN(df, "x_idx", "time_utc", mlti_t1, mlti_t2, t_offset_sec=180)



from functions.load_lxx import __load_lxx
from functions.get_lxx_intervals import __get_lxx_intervals

lxx = __load_lxx(config['t1'], config['t2'], archive_path)

lxx_t1, lxx_t2 = __get_lxx_intervals(lxx.datetime)


df01.replace([np.inf, -np.inf], np.nan, inplace=True)
df03.replace([np.inf, -np.inf], np.nan, inplace=True)
df05.replace([np.inf, -np.inf], np.nan, inplace=True)

df01.dropna(inplace=True)
df03.dropna(inplace=True)
df05.dropna(inplace=True)


def __makeplot_beam_wander(dfs):

    import matplotlib.pyplot as plt
    from matplotlib.gridspec import GridSpec
    from functions.reduce import __reduce
    from matplotlib.ticker import (MultipleLocator, AutoMinorLocator)

    # reftime = UTCDateTime(dfs[0].time.iloc[0])
    reftime = UTCDateTime(config['t1'])

    time_scaling = 1/86400

    sigma_scaling = 1/2

    Ncol, Nrow = 1, 4

    font = 10

    fig = plt.figure(figsize=(12, 7))

    gs = GridSpec(Nrow, Ncol, figure=fig)

    ax0 = fig.add_subplot(gs[0, :])
    ax1 = fig.add_subplot(gs[1, :])
    ax2 = fig.add_subplot(gs[2, :])
    ax3 = fig.add_subplot(gs[3, :])

    plt.subplots_adjust(hspace=0.15)

    ax0.scatter((beatZ.times_utc - reftime)*time_scaling, beatZ.ac_z, s=0.2, color="k", label="RZ")

    # a00 = ax0.twinx()
    # a00.scatter(beatZ.times_utc - reftime, beatZ.dc_z, s=0.5, color="k")


    for i, df0 in enumerate(dfs):

        times_sec = df0.time_sec*time_scaling

        if i == 0:
            # ax1.scatter(times_sec, __reduce(df0.amp/255*100, 20),
            #             c="tab:orange", s=1, zorder=2, label="RZ (IDS01)", marker="d")
            ax1.plot(times_sec, __reduce(__smooth(df0.amp/255*100, 100), 5),
                        c="tab:orange", zorder=2, label="RZ (IDS01)")

            ax2.scatter(times_sec, df0.y_um_rel, c="tab:orange", s=1, zorder=1, label="RZ (IDS01)", marker="d")
            ax3.scatter(times_sec, df0.x_um_rel, c="tab:orange", s=1, zorder=1, label="RZ (IDS01)", marker="d")
            ax2.fill_between(times_sec,
                             df0.y_um_rel-abs(df0.y_um_var)*sigma_scaling,
                             df0.y_um_rel+abs(df0.y_um_var)*sigma_scaling,
                             color="tab:orange", alpha=0.2, interpolate=False
                            )
            ax3.fill_between(times_sec,
                             df0.x_um_rel-abs(df0.x_um_var)*sigma_scaling,
                             df0.x_um_rel+abs(df0.x_um_var)*sigma_scaling,
                             color="tab:orange", alpha=0.2, interpolate=False
                            )
        elif i == 1:

            # ax1.scatter(times_sec, __reduce(df0.amp/255*100, 20),
            #             c="tab:blue", s=1, zorder=2, label="RZ (IDS03)")
            ax1.plot(times_sec, __reduce(__smooth(df0.amp/255*100, 100), 5),
                        c="tab:blue", zorder=2, label="RZ (IDS03)")

            ax2.scatter(times_sec, df0.y_um_rel, c="tab:blue", s=1, zorder=2, label="RZ (IDS03)")
            ax3.scatter(times_sec, df0.x_um_rel, c="tab:blue", s=1, zorder=2, label="RZ (IDS03)")
            ax2.fill_between(times_sec,
                             df0.y_um_rel-abs(df0.y_um_var)*sigma_scaling,
                             df0.y_um_rel+abs(df0.y_um_var)*sigma_scaling,
                             color="tab:blue", alpha=0.2, interpolate=False
                            )
            ax3.fill_between(times_sec,
                             df0.x_um_rel-abs(df0.x_um_var)*sigma_scaling,
                             df0.x_um_rel+abs(df0.x_um_var)*sigma_scaling,
                             color="tab:blue", alpha=0.2, interpolate=False
                             )
        elif i == 2:

            # ax1.scatter(times_sec, __reduce(df0.amp/255*100, 20),
            #             c="tab:red", s=1, zorder=2, label="RZ (IDS05)", marker="^")
            ax1.plot(times_sec, __reduce(__smooth(df0.amp/255*100, 100), 5),
                        c="tab:red", zorder=2, label="RZ (IDS05)")

            ax2.scatter(times_sec, df0.y_um_rel, c="tab:red", s=1, zorder=2, label="RZ (IDS05)", marker="^")
            ax3.scatter(times_sec, df0.x_um_rel, c="tab:red", s=1, zorder=2, label="RZ (IDS05)", marker="^")
            ax2.fill_between(times_sec,
                             df0.y_um_rel-abs(df0.y_um_var)*sigma_scaling,
                             df0.y_um_rel+abs(df0.y_um_var)*sigma_scaling,
                             color="tab:red", alpha=0.2, interpolate=False
                            )
            ax3.fill_between(times_sec,
                             df0.x_um_rel-abs(df0.x_um_var)*sigma_scaling,
                             df0.x_um_rel+abs(df0.x_um_var)*sigma_scaling,
                             color="tab:red", alpha=0.2, interpolate=False
                             )

    ax0.set_ylabel("AC Value (V)", fontsize=font)
    ax1.set_ylabel("rel. peak Beam\nIntensity (%)", fontsize=font)
    ax2.set_ylabel("relative Y\nPosition ($\mu$m)", fontsize=font)
    ax3.set_ylabel("relative X\n Position ($\mu$m)", fontsize=font)
    ax3.set_xlabel(f"Time (days) since {str(reftime)[:10]} {str(reftime)[11:19]} UTC", fontsize=font)

    # ax1.yaxis.set_minor_locator(MultipleLocator(10))
    # ax2.yaxis.set_minor_locator(MultipleLocator(12.5))
    # ax3.yaxis.set_minor_locator(MultipleLocator(10))

    for ax in [ax0, ax1, ax2, ax3]:
        ax.xaxis.set_major_locator(MultipleLocator(1))
        ax.xaxis.set_minor_locator(MultipleLocator(.25))

    for _k, (ax, ll) in enumerate(zip([ax0, ax1, ax2, ax3], ['(a)', '(b)', '(c)', '(d)'])):
        ax.text(.005, .97, ll, ha='left', va='top', transform=ax.transAxes, fontsize=font+2)

        ax.set_xlim(0, (config['t2']-config['t1'])*time_scaling)

        _, _ , _ymin, _ymax = ax.axis()

        # add maintenance
        for lx1, lx2 in zip(lxx_t1, lxx_t2):
            lx1_sec = lx1-UTCDateTime(reftime)
            lx2_sec = lx2-UTCDateTime(reftime)
            ax.fill_betweenx([_ymin, _ymax],
                             lx1_sec*time_scaling,
                             lx2_sec*time_scaling,
                             color="yellow", alpha=0.5)

    for ax in [ax0, ax1, ax2, ax3]:
        ax.grid(ls=":", alpha=0.5, zorder=0, which="both")

    for ax in [ax0, ax1, ax2]:
        ax.set_xticklabels([])

    ax0.legend(loc=1, ncol=3, fontsize=font-2, markerscale=3)
    ax1.legend(loc=1, ncol=3, fontsize=font-2, markerscale=3)
    ax2.legend(loc=4, ncol=3, fontsize=font-2, markerscale=3)
    ax3.legend(loc=7, ncol=3, fontsize=font-2, markerscale=3)

    # ax0.set_ylim(1.0, 1.2)
    # ax1.set_ylim(-5, 5)
    # ax2.set_ylim(-30, 25)
    # ax3.set_ylim(-20, 25)

    # add title
    ax0.set_title(f"Beam Wander - Horizontal Ring [ {df0.time_utc.iloc[0].date} - {df0.time_utc.iloc[-1].date} ]", fontsize=font+1)

    plt.show();
    return fig

fig = __makeplot_beam_wander([df01, df03, df05])

fig.savefig(config['path_to_figures']+f"BeamWander_RZ_01_03_05_{config['date1']}_{config['date2']}_AC.png",
            format="png", dpi=150, bbox_inches='tight')



def __makeplot_beam_wander(dfs):

    import matplotlib.pyplot as plt
    from matplotlib.gridspec import GridSpec

    time_scaling = 1/86400

    colors = ["tab:blue", "tab:orange"]

    Ncol, Nrow = 2, 6

    font = 12

    fig = plt.figure(figsize=(8, 12))

    gs1 = GridSpec(Nrow, Ncol, figure=fig, hspace=0.7)
    gs2 = GridSpec(Nrow, Ncol, figure=fig)

    ax1 = fig.add_subplot(gs1[0:3, :])

    ax2 = fig.add_subplot(gs2[3, :])
    ax3 = fig.add_subplot(gs2[4, :])

    plt.subplots_adjust(hspace=0.25)

    for i, df0 in enumerate(dfs):
        if i == 0:
            cb = ax1.scatter(df0.x_um_rel, df0.y_um_rel, c=df0.time_sec*time_scaling, s=5, zorder=2, marker="d")
            ax2.scatter(df0.time_sec*time_scaling, df0.y_um_rel, c="tab:orange", s=5, zorder=2)
            ax3.scatter(df0.time_sec*time_scaling, df0.x_um_rel, c="tab:orange", s=5, zorder=2)
        elif i == 1:
            cb = ax1.scatter(df0.x_um_rel, df0.y_um_rel, c=df0.time_sec*time_scaling, s=5, zorder=2, marker=".")
            ax2.scatter(df0.time_sec*time_scaling, df0.y_um_rel, c="tab:blue", s=5, zorder=2)
            ax3.scatter(df0.time_sec*time_scaling, df0.x_um_rel, c="tab:blue", s=5, zorder=2)

#         cb = ax1.scatter(df0.x_um_rel, df0.y_um_rel, c=df0.time_sec*time_scaling, s=5, zorder=2)
#         ax2.scatter(df0.time_sec*time_scaling, df0.y_um_rel, c=df0.time_sec*time_scaling, s=5, zorder=2)
#         ax3.scatter(df0.time_sec*time_scaling, df0.x_um_rel, c=df0.time_sec*time_scaling, s=5, zorder=2)

    ax1.set_ylabel("Y ($\mu$m)")
    ax1.set_xlabel("X ($\mu$m)")

    ax2.set_ylabel("Y ($\mu$m)")
    # ax2.set_xlabel(f"Time (days) from {str(df.time_utc.iloc[0])[:10]}")

    ax3.set_ylabel("X ($\mu$m)")
    ax3.set_xlabel(f"Time (days) from {str(df0.time_utc.iloc[0])[:10]}")

    for ax in [ax1, ax2, ax3]:
        ax.grid(ls=":", alpha=0.5, zorder=0)

    x1, x2 = -10, 120
    y1, y2 = -10, 70

    # ax1.set_xlim(x1, x2)
    # ax1.set_ylim(y1, y2)
    # ax2.set_ylim(y1, y2)
    # ax3.set_ylim(x1, x2)

    # add title
    ax1.set_title(f"Beam Wander - Horizontal Ring (S) [ {df0.time_utc.iloc[0].date} - {df0.time_utc.iloc[-1].date} ]", fontsize=font+1)

    # add colorbar
    cax1 = ax1.inset_axes([0.05, 0.85, 0.4, 0.02])
    cb5 = plt.colorbar(cb, ax=ax1, cax=cax1, orientation="horizontal")
    cb5.set_label(f"Time from {df0.time_utc.iloc[0].date} (days)", fontsize=font, labelpad=-40)


    plt.show();
    return fig

# fig = __makeplot_beam_wander([df01, df03])

# fig.savefig(config['path_to_figures']+f"BeamWander_RZ_01_and_03_{config['date1']}_{config['date2']}.png",
#             format="png", dpi=150, bbox_inches='tight')



def __makeplot_beam_wander(dfs):

    import matplotlib.pyplot as plt
    from matplotlib.gridspec import GridSpec
    from functions.reduce import __reduce

    time_scaling = 1/86400

    sigma_scaling = 1/2

    Ncol, Nrow = 1, 3

    font = 12

    fig = plt.figure(figsize=(10, 7))

    gs = GridSpec(Nrow, Ncol, figure=fig)

    ax1 = fig.add_subplot(gs[0, :])
    ax2 = fig.add_subplot(gs[1, :])
    ax3 = fig.add_subplot(gs[2, :])

    plt.subplots_adjust(hspace=0.05)

    for i, df0 in enumerate(dfs):
        if i == 0:

            ax1.scatter(df0.time_sec*time_scaling, __reduce(df0.amp/255*100, 20),
                        c="tab:orange", s=1, zorder=2, label="RZ (01)", marker="d")
            ax2.scatter(df0.time_sec*time_scaling, df0.y_um_rel, c="tab:orange", s=1, zorder=1, label="RZ (01)", marker="d")
            ax3.scatter(df0.time_sec*time_scaling, df0.x_um_rel, c="tab:orange", s=1, zorder=1, label="RZ (01)", marker="d")
            ax2.fill_between(df0.time_sec*time_scaling,
                             df0.y_um_rel-abs(df0.y_um_var)*sigma_scaling,
                             df0.y_um_rel+abs(df0.y_um_var)*sigma_scaling,
                             color="tab:orange", alpha=0.2, interpolate=False
                            )
            ax3.fill_between(df0.time_sec*time_scaling,
                             df0.x_um_rel-abs(df0.x_um_var)*sigma_scaling,
                             df0.x_um_rel+abs(df0.x_um_var)*sigma_scaling,
                             color="tab:orange", alpha=0.2, interpolate=False
                            )
        elif i == 1:

            ax1.scatter(df0.time_sec*time_scaling, __reduce(df0.amp/255*100, 20),
                        c="tab:blue", s=1, zorder=2, label="RZ (03)")
            ax2.scatter(df0.time_sec*time_scaling, df0.y_um_rel, c="tab:blue", s=1, zorder=2, label="RZ (03)")
            ax3.scatter(df0.time_sec*time_scaling, df0.x_um_rel, c="tab:blue", s=1, zorder=2, label="RZ (03)")
            ax2.fill_between(df0.time_sec*time_scaling,
                             df0.y_um_rel-abs(df0.y_um_var)*sigma_scaling,
                             df0.y_um_rel+abs(df0.y_um_var)*sigma_scaling,
                             color="tab:blue", alpha=0.2, interpolate=False
                            )
            ax3.fill_between(df0.time_sec*time_scaling,
                             df0.x_um_rel-abs(df0.x_um_var)*sigma_scaling,
                             df0.x_um_rel+abs(df0.x_um_var)*sigma_scaling,
                             color="tab:blue", alpha=0.2, interpolate=False
                             )
        elif i == 2:

            ax1.scatter(df0.time_sec*time_scaling, __reduce(df0.amp/255*100, 20),
                        c="tab:red", s=1, zorder=2, label="RZ (05)")
            ax2.scatter(df0.time_sec*time_scaling, df0.y_um_rel, c="tab:red", s=1, zorder=2, label="RZ (05)")
            ax3.scatter(df0.time_sec*time_scaling, df0.x_um_rel, c="tab:red", s=1, zorder=2, label="RZ (05)")
            ax2.fill_between(df0.time_sec*time_scaling,
                             df0.y_um_rel-abs(df0.y_um_var)*sigma_scaling,
                             df0.y_um_rel+abs(df0.y_um_var)*sigma_scaling,
                             color="tab:red", alpha=0.2, interpolate=False
                            )
            ax3.fill_between(df0.time_sec*time_scaling,
                             df0.x_um_rel-abs(df0.x_um_var)*sigma_scaling,
                             df0.x_um_rel+abs(df0.x_um_var)*sigma_scaling,
                             color="tab:red", alpha=0.2, interpolate=False
                             )

    ax1.set_ylabel("rel. max. Intensity (%)")
    ax2.set_ylabel("rel. Y Position ($\mu$m)")
    ax3.set_ylabel("rel. X Position($\mu$m)")
    # ax3.set_xlabel(f"Time (days) from {str(df0.time_utc.iloc[0])[:10]} {str(df0.time_utc.iloc[0])[11:19]} UTC")
    ax3.set_xlabel(f"Time (days) from {str(df0.time_utc.iloc[0])[:10]}")


    for _k, (ax, ll) in enumerate(zip([ax1, ax2, ax3], ['(a)', '(b)', '(c)'])):
        ax.text(.005, .97, ll, ha='left', va='top', transform=ax.transAxes, fontsize=font+2)

    for ax in [ax1, ax2, ax3]:
        ax.grid(ls=":", alpha=0.5, zorder=0)
        ax.legend(loc=9, ncol=3)

    ax1.set_ylim(-45, 5)
    ax2.set_ylim(-50, 50)
    ax3.set_ylim(-50, 50)

    # add title
    ax1.set_title(f"Beam Wander - Horizontal Ring (S) [ {df0.time_utc.iloc[0].date} - {df0.time_utc.iloc[-1].date} ]", fontsize=font+1)

    plt.show();
    return fig

# fig = __makeplot_beam_wander([df01, df03, df05])

# fig.savefig(config['path_to_figures']+f"BeamWander_RZ_01_03_05_{config['date1']}_{config['date2']}_2.png",
#             format="png", dpi=150, bbox_inches='tight')



# opath = data_path+"manuscripts/manuscript_romy_drifts/data/"

# df01.to_pickle(opath+"ids01_fsr.pkl")
# df03.to_pickle(opath+"ids03_fsr.pkl")
# df05.to_pickle(opath+"ids05_fsr.pkl")



df = DataFrame()

reftime = config['t1']

N1 = 0
N2 = 144*4

dt = 1

df['time_utc'] = df01.time_utc[N1:N2:dt]

df['time_utc_sec'] = [_t - reftime for _t in df.time_utc]

df['x_um_rel_01'] = df01.x_um_rel[N1:N2:dt]
df['y_um_rel_01'] = df01.y_um_rel[N1:N2:dt]
df['a_01'] = np.sqrt(df.x_um_rel_01**2 + df.y_um_rel_01**2)
df['b_01'] = df.x_um_rel_01 + df.y_um_rel_01

df['x_um_rel_03'] = np.interp(df.time_utc_sec, df03.time_utc - UTCDateTime(df.time_utc.iloc[0]), df03.x_um_rel)
df['y_um_rel_03'] = np.interp(df.time_utc_sec, df03.time_utc - UTCDateTime(df.time_utc.iloc[0]), df03.y_um_rel)
df['a_03'] = np.sqrt(df.x_um_rel_03**2 + df.y_um_rel_03**2)
df['b_03'] = df.x_um_rel_03 + df.y_um_rel_03

df['x_um_rel_05'] = np.interp(df.time_utc_sec, df05.time_utc - UTCDateTime(df.time_utc.iloc[0]), df05.x_um_rel)
df['y_um_rel_05'] = np.interp(df.time_utc_sec, df05.time_utc - UTCDateTime(df.time_utc.iloc[0]), df05.y_um_rel)
df['a_05'] = np.sqrt(df.x_um_rel_05**2 + df.y_um_rel_05**2)
df['b_05'] = df.x_um_rel_05 + df.y_um_rel_05



plt.plot(df.a_01-df.a_03)
plt.plot(df.a_03-df.a_05)

plt.plot(df.b_05)

# plt.plot(df.b_01-df.b_03)



# plt.plot(df.x_um_rel_01 - df.x_um_rel_03)
# plt.plot(df.x_um_rel_05*-1)
plt.plot(-1*df.x_um_rel_01 - df.x_um_rel_05)
# plt.plot(df.x_um_rel_03 - df.x_um_rel_05)


plt.plot(df.a_01)
plt.plot(df.a_03)
plt.plot(df.a_05)


plt.plot(df.b_01-df.b_03)
# plt.plot(df.b_03-df.b_05)




