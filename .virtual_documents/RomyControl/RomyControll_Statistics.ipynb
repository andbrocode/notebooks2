import pandas as pd
import datetime
import matplotlib.pyplot as plt
import obspy
import numpy as np


path_to_file = f"/import/freenas-ffb-01-data/romy_archive/2022/BW/CROMY/"
filename = "romy_control.log"


df = pd.read_csv(path_to_file+filename, names=['timestamp', 'comment'])


mlti = df[df.comment.str.contains("ACTION", na=False)]
mlti.reset_index(drop=True, inplace=True)
mlti = mlti.assign(date = mlti.timestamp.str.split("T").str[0])
mlti = mlti.assign(time = mlti.timestamp.str.split("T").str[1])

mlti['num'] = np.ones(len(mlti))


actions = mlti.groupby(['date'])['num'].sum().reset_index()


from obspy import UTCDateTime

tdist = mlti

## calculate differences in MLTI times
tt = [UTCDateTime(str(t)) for t in mlti.timestamp]
tdist['time_diff'] = np.diff(tt, prepend=tt[0])
tdist

## remove super large values
max_time_to_next_mlti = 1e6
tdist['time_diff'].where(tdist['time_diff'] <= max_time_to_next_mlti, np.nan, inplace=True)



def __makeplot_bar(config):
    
    '''
    Config: 
        - xdata
        - ydata
        - xth
        - ylabel
        - title
        
    '''
    
    
    # Creating histogram
    fig, ax = plt.subplots(1, 1, figsize =(12, 5), tight_layout = True)

    NN = len(config['xdata'])

    # Remove axes splines
    for s in ['top', 'bottom', 'left', 'right']:
        ax.spines[s].set_visible(False)

    # Remove x, y ticks
    ax.xaxis.set_ticks_position('none')
    ax.yaxis.set_ticks_position('none')

    # Add padding between axes and labels
    ax.xaxis.set_tick_params(pad = 5)
    ax.yaxis.set_tick_params(pad = 10)

    # Add x, y gridlines
    ax.grid(b = True, color ='grey', linestyle ='-.', linewidth = 0.5, alpha = 0.6, zorder=0)


    # Creating histogram
    bars = range(0, NN)
    ax.bar(bars, config['ydata'], width=0.8, align='center', alpha=0.9)


    # Set ticks
    datelabel = config['xdata'][::config['xth']]
    dateticks = bars[::config['xth']]

    ax.set_xticklabels(datelabel)
    ax.set_xticks(dateticks)


    # Adding extra features   
    plt.ylabel(config['ylabel'])
    plt.title(config['title'])
              
    # Show plot
    plt.show();

    return fig


conf = {}

conf['xdata'] = actions.date
conf['ydata'] = actions.num
conf['ring'] = "RV"
conf['title'] = f"MLTI Initiations for {conf['ring']} from {actions.date.iloc[0]} -- {actions.date.iloc[-1]}"
conf['ylabel'] = "# MLTI Initiations per day"
conf['xth'] = 5


__makeplot_bar(conf);


def __makeplot_histogram(config):
    
    '''
    Config: 
        - ydata
        - bars
        - xth
        - ylabel
        - title
        - xlogscale
        - ylogscale
        
    '''
    
    
    # Creating histogram
    fig, ax = plt.subplots(1, 1, figsize =(12, 5), tight_layout = True)

#     NN = len(config['xdata'])

    # Remove axes splines
    for s in ['top', 'bottom', 'left', 'right']:
        ax.spines[s].set_visible(False)

    # Remove x, y ticks
    ax.xaxis.set_ticks_position('none')
    ax.yaxis.set_ticks_position('none')

    # Add padding between axes and labels
    ax.xaxis.set_tick_params(pad = 5)
    ax.yaxis.set_tick_params(pad = 10)

    # Add x, y gridlines
    ax.grid(b=True, color='grey', linestyle='-.', linewidth=0.5, alpha=0.6, zorder=0)


    # Creating histogram
    if config['xlogscale']:
        config['bins'] = 10 ** np.linspace(np.log10(60), np.log10(max(config['ydata'])), config['bins'])
        ax.set_xscale('log')
    if config['ylogscale']:
        ax.set_yscale('log')
        
    ax.hist(config['ydata'], bins=config['bins'], rwidth=0.8, align='left', alpha=0.9);


    # Adding extra features   
    plt.ylabel(config['ylabel'])
    plt.xlabel(config['xlabel'])
    plt.title(config['title'])
              
    # Show plot
    plt.show();

    return fig


conf = {}

conf['xdata'] = None
conf['bins']  = 100
conf['xlogscale'] = False
conf['ylogscale'] = True
conf['ydata'] = tdist['time_diff']/60
conf['ring'] = "RV"
conf['title'] = f"Time to next MLTI Initiation  [{conf['ring']} from {actions.date.iloc[0]} -- {actions.date.iloc[-1]}]"
conf['ylabel'] = "# MLTI Initiations per day"
conf['xlabel'] = "Time to next MLTI (min)"

__makeplot_histogram(conf);


def __makeplot_timeline(config):
    
    '''
    Config: 
        - ydata
        - bars
        - xth
        - ylabel
        - title
        - xlogscale
        - ylogscale
        
    '''
    
    
    # Creating histogram
    fig, ax = plt.subplots(1, 1, figsize =(12, 5), tight_layout = True)

#     NN = len(config['xdata'])

    # Remove axes splines
    for s in ['top', 'bottom', 'left', 'right']:
        ax.spines[s].set_visible(False)

    # Remove x, y ticks
    ax.xaxis.set_ticks_position('none')
    ax.yaxis.set_ticks_position('none')

    # Add padding between axes and labels
    ax.xaxis.set_tick_params(pad = 5)
    ax.yaxis.set_tick_params(pad = 10)

    # Add x, y gridlines
    ax.grid(b=True, color='grey', linestyle='-.', linewidth=0.5, alpha=0.6, zorder=0)


    # Creating histogram
    if config['xlogscale']:
        ax.set_xscale('log')
    if config['ylogscale']:
        ax.set_yscale('log')
        
    ax.plot(range(0,len(config['ydata'])), config['ydata'],'o', markersize=1.5)


    # Adding extra features   
    plt.ylabel(config['ylabel'])
    plt.xlabel(config['xlabel'])
    plt.title(config['title'])
              
    # Show plot
    plt.show();

    return fig


conf = {}

conf['xdata'] = None
conf['bins']  = 50
conf['xlogscale'] = False
conf['ylogscale'] = True
conf['ydata'] = tdist['time_diff']
conf['ring'] = "RV"
conf['title'] = f"Time to next MLTI Initiation  [{conf['ring']} from {actions.date.iloc[0]} -- {actions.date.iloc[-1]}]"
conf['ylabel'] = "Time to next MLTI Initiation"
conf['xlabel'] = "MLTI Event"

__makeplot_timeline(conf);



