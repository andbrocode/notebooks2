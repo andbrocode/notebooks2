from obspy.core import read, UTCDateTime, Stream
from obspy.clients.fdsn import Client, RoutingClient


client = Client("http://george")

seed = "BW.RLAS.*.BJ*"

net, sta, loc, cha = seed.split(".")

starttime = "2027-01-01"
endtime = "2024-04-05"

inv = client.get_stations(
                          network=net,
                          station=sta,
                          location=loc,
                          channel=cha,
                          level="response",
                          # starttime=starttime,
                          # endtime=endtime,
                         )


inv.write("/home/andbro/Documents/ROMY/stationxml_ringlaser/rlas_george.xml", format="STATIONXML")



