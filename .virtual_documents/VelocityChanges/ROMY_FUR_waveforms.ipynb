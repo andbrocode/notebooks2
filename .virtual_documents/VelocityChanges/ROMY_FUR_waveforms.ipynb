import os, sys
import pickle
import matplotlib.pyplot as plt
import numpy as np

from obspy import UTCDateTime, read_inventory
from scipy.signal import welch

from functions.get_fband_average import __get_fband_average
from functions.get_median_psd import __get_median_psd


if os.uname().nodename == 'lighthouse':
    root_path = '/home/andbro/'
    data_path = '/home/andbro/kilauea-data/'
    archive_path = '/home/andbro/freenas/'
    bay_path = '/home/andbro/bay200/'
elif os.uname().nodename == 'kilauea':
    root_path = '/home/brotzer/'
    data_path = '/import/kilauea-data/'
    archive_path = '/import/freenas-ffb-01-data/'
    bay_path = '/bay200/'
elif os.uname().nodename == 'lin-ffb-01':
    root_path = '/home/brotzer/'
    data_path = '/import/kilauea-data/'
    archive_path = '/import/freenas-ffb-01-data/'
    bay_path = '/bay200/'





from andbro__read_sds import __read_sds


## ---------------------------------------

config = {}


config['station1'] = "BW.ROMY.10.BJZ"
config['station2'] = "GR.FUR..BHZ"

config['tbeg'] = "2023-09-23 01:00"

config['tend'] = "2023-09-23 02:00"

config['path_to_sds1'] = archive_path+"romy_archive/"
config['path_to_sds2'] = bay_path+f"mseed_online/archive/"

config['outpath_figures'] = data_path+f"VelocityChanges/figures/"

config['path_to_inv'] = root_path+"Documents/ROMY/stationxml_ringlaser/"


inv1 = read_inventory(config['path_to_inv']+"dataless.seed.BW_ROMY")
inv2 = read_inventory(config['path_to_inv']+"dataless.seed.GR_FUR")


st1 = __read_sds(config['path_to_sds1'], config['station1'], config['tbeg'], config['tend']);
st2 = __read_sds(config['path_to_sds2'], config['station2'], config['tbeg'], config['tend']);

st1.remove_sensitivity(inv1);
st2.remove_response(inv2, output="ACC", water_level=10);


st1.detrend("linear");
st2.detrend("linear");


st1.plot();
st2.plot();


from functions.get_xwt import __compute_cross_wavelet_transform


tt = st1[0].times()

dt = st1[0].stats.delta

dat1 = st1[0].data
dat2 = st2[0].data

out = __compute_cross_wavelet_transform(tt, dat1, dat2, dt,
                                        datalabels=["ROMY-Z", "FUR-Z"],
                                        xscale="log",
                                        cmap_scale="log",
                                        plot=True,
                                       )






