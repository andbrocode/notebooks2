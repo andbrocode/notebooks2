# import libraries
import os, sys, subprocess
import numpy as np
import matplotlib.pyplot as plt
import pandas as pd
import datetime

from pylab import figtext


# __________________________________________________________________________________

# define variables

ring = {1:'Z-Ring', 2:'W-Ring', 3:'N-Ring', 4:'E-Ring'}

path_to_data = "/import/kilauea-data/romy_ringdowntime/data/"

path_to_figs = "/import/kilauea-data/romy_ringdowntime/figures/"

# ____________________________

date = "2020-09-01"

outname1 = "20200901_b_cavity_lifetime"
outname2 = "20200901_b_cavity_lifetime_fit"
outname3 = "romy_20200901_loop_diode"

file1 = "20200901_cavity_lifetime_b1.csv"
file2 = "20200901_cavity_lifetime_b2.csv"
file3 = "20200901_cavity_lifetime_b3.csv"

cutoff = 50

factor = 1

# ____________________________

# date = "2020-07-17"

# outname1 = "romy_20200714_cavity_lifetime"
# outname2 = "romy_20200714_cavity_lifetime_fit"
# outname3 = "romy_20200714_loop_diode"

# file1 = "20200714_cavity_liftime_1.csv"
# file2 = "20200714_cavity_liftime_2.csv"
# file3 = "20200714_cavity_liftime_3.csv"
# file4 = "20200714_cavity_liftime_4.csv"

# cutoff = 110

# factor = -1


# file5 = "romy_regelung_jan_01.log"
# file6 = "romy_regelung_jan_02.log"



def get_data(path_name, file_name, head,cols):

    ''' dependencies: 
            import os 
            import pandas as pd
    '''

    # try to find and read mjd-files of ROMY
    if os.path.exists(path_name+file_name):

        if cols == 3:
            df = pd.read_csv(path_name+file_name,delimiter=',',header=head,names=['time','amp','empty'])
        elif cols == 2:
            df = pd.read_csv(path_name+file_name,delimiter=',',header=head,names=['time','amp'])

        df['time'] = pd.to_numeric(df['time'], errors='coerce')
        df['amp']  = pd.to_numeric(df['amp'], errors='coerce')

    else:
        print('\n!!! ERROR IMPORTING!!! \n \n--> Possibliy file does not exist?!   {}\n'.format(path_name+file_name))
        return

    # print file name
    print('\n reading   {} ... \n'.format(file_name))

    # print top of file
    print(df.head(2))
    print(df.tail(2))

    # print number of rows
    rows, cols = df.shape

    print('\n number of rows: {} \n number of columns: {} \n'.format(rows, cols))

    return df


def fit_exp(xarr,yarr,cut):
    from scipy import optimize

    def exponential(x, a, k, b):
        return a*np.exp(x*k) + b

    popt_exponential, pcov_exponential = optimize.curve_fit(exponential, xarr[cut:], yarr[cut:], p0=[0.7,-1/0.0004, 1])

    y = popt_exponential[0]*np.exp(popt_exponential[1]*xarr[cut:]) + popt_exponential[2]

    return y, popt_exponential[1]


df1 = get_data(path_to_data, file1, 2, 3)
df2 = get_data(path_to_data, file2, 2, 3)
df3 = get_data(path_to_data, file3, 2, 3)



tcut = 0.003

df1 = df1[df1['time'] < tcut]
df2 = df2[df2['time'] < tcut]
df3 = df3[df3['time'] < tcut]

df1['amp'] = df1['amp']*factor
df2['amp'] = df2['amp']*factor
df3['amp'] = df3['amp']*factor


def makeplot():

    fig, ax = plt.subplots(3, 1, figsize=(12, 8), sharex=True, sharey=True)

    plt.subplots_adjust(hspace=0.1)

    # cutoff = 50

    tscale, tunit = 1e3, "ms"

    y1, t1 = fit_exp(df1['time'], df1['amp'], cutoff)
    y2, t2 = fit_exp(df2['time'], df2['amp'], cutoff)
    y3, t3 = fit_exp(df3['time'], df3['amp'], cutoff)

    taus = np.array([-1/t1, -1/t2, -1/t3])

    f0 = 474*1e12 # Hz

    for tt in taus:
        print("Lifetime Run1: {:.3f} ms".format(tt*1e3))

    print("\nAverage Lifetime: ({:.3f} +- {:.3f}) ms".format(taus.mean()*1e3, taus.std()*1e3))

    print("\nQuality Factor: {:.0f}{}".format(2*np.pi*f0*taus.mean()*10e-11,'e11'))

    print("\nResonator Bandwidth: {:.0f} Hz".format(1/(2*np.pi*taus.mean())))

    sizing = 4

    fonts = 12

    print(len(df1['time'][cutoff:]))
    print(len(y1))

    ax[0].scatter(df1['time'][cutoff:]*tscale, df1['amp'][cutoff:],s=sizing,label='measured',color='b')
    ax[0].scatter(df1['time'][:cutoff]*tscale,df1['amp'][:cutoff],s=sizing/2,color='grey')
    ax[0].plot(df1['time'][cutoff:]*tscale,y1,'k',label="%5.4f ms"%(-1/t1*1e3), linewidth=2 )

    ax[1].scatter(df2['time'][cutoff:]*tscale,df2['amp'][cutoff:],s=sizing,label='measured',color='orange')
    ax[1].scatter(df2['time'][:cutoff]*tscale,df2['amp'][:cutoff],s=sizing/2,color='grey')
    ax[1].plot(df2['time'][cutoff:]*tscale,y2,'k',label="%5.4f ms"%(1/-t2*1e3), linewidth=2 )

    ax[2].scatter(df3['time'][cutoff:]*tscale,df3['amp'][cutoff:],s=sizing,label='measured',color='g')
    ax[2].scatter(df3['time'][:cutoff]*tscale,df3['amp'][:cutoff],s=sizing/2,color='grey')
    ax[2].plot(df3['time'][cutoff:]*tscale,y3,'k',label="%5.4f ms"%(1/-t3*1e3), linewidth=2 )

    for n in range(3):

        ax[n].legend(markerscale=2, shadow=True, fontsize=fonts*0.75, loc='best')
        ax[n].grid(ls="--", alpha=0.7, zorder=0)
        ax[n].set_ylabel('Amplitude (V)',fontsize=fonts)

    ax[2].set_xlabel(f'Time ({tunit})', fontsize=fonts)

    for _k, ll in enumerate(['(a)','(b)','(c)']):
        ax[_k].text(0.005, 0.97, ll, ha="left", va="top", transform=ax[_k].transAxes, fontsize=fonts+1)

    ax[0].set_title(date)

    plt.show();
    return fig


fig = makeplot()

fig.savefig(path_to_figs+f"{date}_ringdowntimes.png", format="png", dpi=150, bbox_inches='tight')


def makeplot2():

    fig, ax = plt.subplots(1, 1, figsize=(12, 5))

    tscale, tunit = 1e3, "ms"

    sizing = 4

    fonts = 14

    y1, t1 = fit_exp(df1['time'], df1['amp'], cutoff)

    ax.scatter(df1['time']*tscale, df1['amp'], s=sizing, marker="x", label='Run 1', color='tab:blue')
    ax.scatter(df2['time']*tscale, df2['amp'], s=sizing, marker=">", label='Run 2', color='tab:orange')
    ax.scatter(df3['time']*tscale, df3['amp'], s=sizing, label='Run 3', color='tab:green')

    ax.plot(df1['time'][cutoff:]*tscale, y1, 'k', label="%5.2f ms"%(-1/t1*1e3), linewidth=2)

    ax.legend(markerscale=3, shadow=True, fontsize=fonts*3/4, loc='best')

    ax.grid(ls="--", alpha=0.7, zorder=0)

    ax.set_xlabel(f'Time ({tunit})', fontsize=fonts)
    ax.set_ylabel(f'Amplitude (V)', fontsize=fonts)

    ax.set_title(date)

    plt.show();
    return fig


fig = makeplot2()

fig.savefig(path_to_figs+f"{date}_ringdowntime.png", format="png", dpi=150, bbox_inches='tight')


2*np.pi/632.8e-9*0.64e-3



