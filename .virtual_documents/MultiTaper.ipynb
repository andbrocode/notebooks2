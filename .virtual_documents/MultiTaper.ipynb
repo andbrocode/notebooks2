from spectrum import data_cosine, dpss, pmtm

import obspy
import pickle
import matplotlib.pyplot as plt
import numpy as np


# ifile="/home/andbro/notebooks/Sagnac_processing/data/greece.mod"

# st = obspy.read(ifile)
# st



ifile = open(f'/home/andbro/notebooks/Sagnac_processing/data/greece.syn',"rb")

synthetic_signal = pickle.load(ifile)


data = synthetic_signal[10_000:30_000]


tt = np.linspace(0, T, )

plt.plot(data)


N = len(data)
method = "eigen"
n_windows = 8

T  = 1600
fs = 5000
ff = np.arange(-fs/2, fs/2, 1/fs)

[tapers, eigen] = dpss(N, 2.5, n_windows)

sk_complex, weights, eigenvalues = pmtm(data, e=eigen, v=tapers, method=method, show=False)

sk = abs(sk_complex)**2

if method == "adapt":
    sk = sk.transpose()
    sk = np.mean(sk * weights, axis=1)
else:
    sk = np.mean(sk * weights, axis=0)


len(sk), N, len(ff)


plt.semilogy(sk[29_000:29_300])


32768/2



