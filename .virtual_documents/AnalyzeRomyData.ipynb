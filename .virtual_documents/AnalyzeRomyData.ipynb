import numpy as np 
import matplotlib.pyplot as plt
import sys
import obspy 

from andbro__querrySeismoData import __querrySeismoData
from andbro__savefig import __savefig


class configuration():
    
    def __init__(self):
        self.name="configurations"


## set path for figures
opathfigs = "/home/brotzer/Desktop/tmp/"

## create config object
config = configuration()


## define time period by user
# config.tbeg = input("Enter start time (e.g. 1999-01-01 00:00): ")
# config.tend = input("Enter end time (e.g. 1999-01-01 00:00): ")

## random
# config.tbeg = obspy.UTCDateTime("2021-04-21 15:00")
# config.tend = obspy.UTCDateTime("2021-04-21 18:00")

## PNG
# config.tbeg = obspy.UTCDateTime("2019-05-14 13:00")
# config.tend = obspy.UTCDateTime("2019-05-14 14:40")

## Greece
# config.tbeg = obspy.UTCDateTime("2021-03-03 10:15")
# config.tend = obspy.UTCDateTime("2021-03-03 10:40")

## Algeria
# config.tbeg = obspy.UTCDateTime("2021-03-18 00:05")
# config.tend = obspy.UTCDateTime("2021-03-18 00:35")

## Nicaragua
# config.tbeg = obspy.UTCDateTime("2021-11-09 06:30")
# config.tend = obspy.UTCDateTime("2021-11-09 08:00")

## Japan
config.tbeg = obspy.UTCDateTime("2022-03-16 14:36")
config.tend = obspy.UTCDateTime("2022-03-16 16:00")


## saving_options
config.save_figs   = True
config.save_stream = False
config.save_config = False

## set stations
config.seeds = ["BW.RLAS..BJZ", "BW.ROMY.20.BJZ", "BW.ROMY.10.BJZ", "BW.ROMY..BJU", "BW.ROMY..BJV", "BW.ROMY..BJW"]



set_filter = input("Apply Filter (y/n)").lower() or None; config.set_filter = set_filter

if set_filter in ['y','yes']:
    
    config.set_fitler = True
    config.filter_type = input("Apply lowpass (lp), highpass (hp) or bandpass (bp)?: ").lower() or None
    
    if config.filter_type in ["hp", "highpass"]:
        config.filter_type = "highpass"
        config.lower_corner = float(input("Enter lower corner frequency: "))
        config.upper_corner = None
        
    elif config.filter_type in ["lp", "lowpass"]:
        config.filter_type = "lowpass"
        config.upper_corner = float(input("Enter upper corner frequency: "))
        config.lower_corner = None 
        
    elif config.filter_type in ["bp", "bandpass"]:
        config.filter_type = "bandpass"        
        config.lower_corner = float(input("Enter lower corner frequency: "))
        config.upper_corner = float(input("Enter upper corner frequency: "))
        
    config.corner_frequency = {'lower':config.lower_corner, 'upper':config.upper_corner}

else:
    config.set_filter = False
# print(config.corner_frequency['lower'], config.corner_frequency['upper'])


st = obspy.Stream()

fails = 0

for seed in config.seeds:

    try:
        st0, inv = __querrySeismoData(    
                                    seed_id=seed,
                                    starttime=config.tbeg,
                                    endtime=config.tend,
                                    repository="george",
                                    path=None,
                                    restitute=True,
                                    detail=None,
                                     )

        st += st0
        
    except:
        print(f"failed to load data for: {seed}\n")
        st += obspy.Stream(traces=obspy.Trace())
        
        ## exit in case no data is loaded
        fails+=1
        if fails == len(config.seeds): 
            sys.exit


# def __fill_empty_traces(st):

#     empty = [i for i, tr in enumerate(st) if tr.stats.npts == 0]
#     full  = [i for i, tr in enumerate(st) if tr.stats.npts > 0]
#     if empty:
#         for k in empty:
#             dummy_data = np.empty(st[full[0]].stats.npts)
#             dummy_data[:] = np.nan
#             st[k].data = dummy_data
#             st[k].stats.sampling_rate = st[full[0]].stats.sampling_rate
#             st[k].stats.network, st[k].stats.station, st[k].stats.location, st[k].stats.channel = config.seeds[k].split(".")
# __fill_empty_traces(st)

from andbro__create_empty_traces import __create_empty_traces
__create_empty_traces(st, config)


import pickle

ofile = open(opathfigs+f"stream_{config.tbeg.date}.pick", 'wb')
pickle.dump(st, ofile)
ofile.close()


st.detrend("simple");

for tr in st:
    if tr.stats.npts != 0:
        if config.set_filter:
            if config.filter_type == 'bandpass':
                tr = tr.filter(config.filter_type, 
                          freqmin=config.corner_frequency['lower'], 
                          freqmax=config.corner_frequency['upper'],
                          corners=4,
                          zerophase=True,
                         );
            elif config.filter_type == 'lowpass':
                rt = tr.filter(config.filter_type, 
                          freq=config.corner_frequency['upper'],
                          corners=4,
                          zerophase=True,
                         );
            elif config.filter_type == 'bandpass':
                tr = tr.filter(config.filter_type, 
                          freq=config.corner_frequency['lower'], 
                          corners=4,
                          zerophase=True,
                         );


def __makeplot_sectra(st):

    from scipy import fftpack

   
    plt.style.use('default')

    N = len(st)

    fig, axes = plt.subplots(N,2,figsize=(15,10), sharex='col')

    plt.subplots_adjust(hspace=0.3)

    ## _______________________________________________


    for i, tr in enumerate(st):


        comp_fft = np.abs(fftpack.fft(tr.data))
        ff       = fftpack.fftfreq(comp_fft.size, d=1/tr.stats.sampling_rate)
        comp_fft = fftpack.fftshift(comp_fft)
        
        timeaxis = tr.times()
        
        if max(timeaxis) > 5*60: 
            timeaxis, timeunit = timeaxis/60, "min"
        if max(timeaxis) > 2*3600:
            timeaxis, timeunit = timeaxis/3600, "hours"            
        if max(timeaxis) > 2*86400:
            timeaxis, timeunit = timeaxis/86400, "days"
        
        
        if np.isnan(tr.data).all():
            axes[i,0].fill_between(timeaxis, -1, 1, color='red', alpha=0.3)
            axes[i,1].fill_between(timeaxis, 0, 2*config.corner_frequency['upper'], color='red', alpha=0.3)
        
        ## _________________________________________________________________
        axes[i,0].plot(
                    timeaxis,
                    tr.data,
                    color='black',
                    label='{} {}'.format(tr.stats.station, tr.stats.channel),
                    lw=1.0,
                    )


        ## _________________________________________________________________
        axes[i,1].plot(
                    ff[1:len(ff)//2],
                    np.abs(fftpack.fft(tr.data)[1:len(ff)//2]),
                    color='black',
                    lw=1.0,
                    )


        
        axes[i,0].set_ylabel(r'$\Omega$ (rad/s)')    
        axes[i,1].set_ylabel('ASD (rad/s/Hz)')        
#         axes[i,0].legend(loc='upper left',bbox_to_anchor=(0.8, 1.10), framealpha=1.0)
        axes[i,0].annotate('{} {}'.format(tr.stats.station, tr.stats.channel), 
                           xy=(0.4,0.93+i*-0.15),
                           xycoords='figure fraction', 
                           )
    

    
        if config.set_filter:
            if config.filter_type == "bp":
                axes[i,1].annotate('{}-{} Hz'.format(config.corner_frequency['lower'], config.corner_frequency['upper']), xy=(0.87,0.90+i*-0.18), xycoords='figure fraction')
            elif config.filter_type == "lp":
                axes[i,1].annotate('<{} Hz'.format(config.corner_frequency['upper']), xy=(0.87,0.90+i*-0.18), xycoords='figure fraction')
            elif config.filter_type == "hp":
                axes[i,1].annotate('>{} Hz'.format(config.corner_frequency['lower']), xy=(0.87,0.90+i*-0.18), xycoords='figure fraction')
        

#         axes[i,1].set_yscale('logit')

        if i == len(st)-1:
            axes[i,0].set_xlabel(f'Time ({timeunit})  from {tr.stats.starttime.date} {str(tr.stats.starttime.time)[0:8]} UTC')
            axes[i,1].set_xlabel('Frequency (Hz)')
    
        ## set scientific labels
        axes[i,0].ticklabel_format(axis="y", style='sci', scilimits=(0,0))
        axes[i,1].ticklabel_format(axis="y", style='sci', scilimits=(0,0))
        
    if config.set_filter:
        if config.corner_frequency['upper'] is not None:
            axes[i,1].set_xlim(0, 2*config.corner_frequency['upper'])


    return fig


## __________________________________

fig = __makeplot_sectra(st)


if config.save_figs:
    __savefig(fig, outpath=opathfigs, outname=f"TraceSpectrum_{config.tbeg.date}"+".png", mode="png");


def __makeplot_traces_and_spectrograms1(st):

    
    def __get_timeaxis(tr):
#         return np.arange(0, tr.stats.npts*tr.stats.delta, tr.stats.delta)
        return np.linspace(0, tr.stats.npts, tr.stats.npts)*tr.stats.delta
       
        
    nfft=512
    
    fig, ax = plt.subplots(int(len(config.seeds)*2), 1, figsize=(15,12), sharex=True)

    fig.subplots_adjust(hspace=0.4)

    i, ims = 0, []
    for tr in st:


        timeaxis = __get_timeaxis(tr)
        
        if np.isnan(tr.data).all():
            ax[i].fill_between(timeaxis, -1, 1, color='red', alpha=0.3)
            ax[i+1].fill_between(timeaxis, 0, 2*config.corner_frequency['upper'], color='red', alpha=0.3)
        else:
            ax[i].plot(timeaxis, tr.data, 'k', lw=0.5);


        ax[i].set_xlim(min(timeaxis), max(timeaxis))
        ax[i].set_ylabel(r"$\Omega$ (rad/s)")

#         ax[i].annotate('{} {}'.format(tr.stats.station, tr.stats.channel), 
#                         xy=(0.15,0.93+i*-0.09),
#                         xycoords='figure fraction', 
#                         )  

        
#         ff, tt, spec = scipy.signal.spectrogram(x, fs=1.0, window='tukey', 0.25, nperseg=None, noverlap=None, nfft=None, detrend='constant', return_onesided=True, scaling='density', axis=- 1, mode='psd')
        spec, f, t, cax  = ax[i+1].specgram(tr.data,  
                                             Fs=tr.stats.sampling_rate, 
                                             mode='psd', 
                                             cmap='inferno',
                                             NFFT=nfft, 
                                             Fc=None, 
                                             detrend=None, 
                                             window=np.hanning(nfft), 
                                             noverlap=int(0.5*nfft), 
                                             pad_to=None, 
                                             sides='onesided', 
                                             scale_by_freq=True,  
                                             scale='dB', 
                                             vmin=None, 
                                             vmax=None,
                                            )
                                             
        if config.set_filter and config.corner_frequency['upper'] is not None:
            ax[i+1].set_ylim(0, 2*config.corner_frequency['upper'])
        
        ax[i+1].set_xlim(min(timeaxis), max(timeaxis))
        ax[i+1].set_ylabel("f (Hz)")
        ax[len(st)*2-1].set_xlabel('time (s)  from {} {} UTC'.format(tr.stats.starttime.date, str(tr.stats.starttime.time)[0:8]), labelpad=10)
        
        ax[i+1].annotate('{} {}'.format(tr.stats.station, tr.stats.channel), 
                        xy=(0.036,0.85+i*-0.075),
                        xycoords='figure fraction', 
                        rotation=90,
                        fontsize=12,
                        )   

        
        ## compute limits for colormap
        lim1=10*np.log10(np.max(spec))
        lim2=10*np.log10(np.min(spec))+200
        
        cax.set_clim((lim2,lim1))
        ca = ax[i+1].inset_axes([1.02, 0.0, 0.02, 1], transform=ax[i+1].transAxes)
        cbar = fig.colorbar(cax, cax=ca, label='PSD (dB)')
        
        i+=2

    return fig



## __________________________

fig = __makeplot_traces_and_spectrograms1(st);


# if config.save_figs:
#     __savefig(fig, outpath=opathfigs, outname=f"TraceSpectrogram_{config.tbeg.date}"+".png", mode="png");


def __makeplot_traces_and_spectrograms2(st):

    
    def __get_timeaxis(tr):
#         return np.arange(0, tr.stats.npts*tr.stats.delta, tr.stats.delta)
        return np.linspace(0, tr.stats.npts, tr.stats.npts)*tr.stats.delta
       
        
    nfft=512
    
    fig, ax = plt.subplots(int(len(config.seeds)*2), 1, figsize=(15,12), sharex=True)

    fig.subplots_adjust(hspace=0.4)

    i, ims = 0, []
    for tr in st:


        timeaxis = __get_timeaxis(tr)
        
        if np.isnan(tr.data).all():
            ax[i].fill_between(timeaxis, -1, 1, color='red', alpha=0.3)
            ax[i+1].fill_between(timeaxis, 0, 2*config.corner_frequency['upper'], color='red', alpha=0.3)
        else:   
            ax[i].plot(timeaxis, tr.data, 'k', lw=0.5);


        ax[i].set_xlim(min(timeaxis), max(timeaxis))
        ax[i].set_ylabel(r"$\Omega$ (rad/s)")

#         ax[i].annotate('{} {}'.format(tr.stats.station, tr.stats.channel), 
#                         xy=(0.15,0.93+i*-0.09),
#                         xycoords='figure fraction', 
#                         )  

        
#         ff, tt, spec = scipy.signal.spectrogram(x, fs=1.0, window='tukey', 0.25, nperseg=None, noverlap=None, nfft=None, detrend='constant', return_onesided=True, scaling='density', axis=- 1, mode='psd')
        spec,  f, t, cax  = ax[i+1].specgram(tr.data,  
                                             Fs=tr.stats.sampling_rate, 
                                             mode='psd', 
                                             cmap='inferno',
                                             NFFT=nfft, 
                                             Fc=None, 
                                             detrend=None, 
                                             window=np.hanning(nfft), 
                                             noverlap=int(0.5*nfft), 
                                             pad_to=None, 
                                             sides='onesided', 
                                             scale_by_freq=True,  
                                             scale='dB', 
                                             vmin=None, 
                                             vmax=None,
                                            )
                                             
        if config.set_filter and config.corner_frequency['upper'] is not None:
            ax[i+1].set_ylim(0, 2*config.corner_frequency['upper'])
        
        ax[i+1].set_xlim(min(timeaxis), max(timeaxis))
        ax[i+1].set_ylabel("f (Hz)")
        ax[len(st)*2-1].set_xlabel('time (s)  from {} {} UTC'.format(tr.stats.starttime.date, str(tr.stats.starttime.time)[0:8]), labelpad=10)
        
        ax[i+1].annotate('{} {}'.format(tr.stats.station, tr.stats.channel), 
                        xy=(0.035,0.85+i*-0.075),
                        xycoords='figure fraction', 
                        rotation=90,
                        fontsize=12,
                        )   

        ## compute limits for colormap
        if i == 4:
            lim1=10*np.log10(np.max(spec))
            lim2=10*np.log10(np.min(spec))+200     
            
            
        ims.append(cax)    
        i+=2


    ## adjust colormap
    for im in ims:
#         im.set_clim((-220,-160))
        im.set_clim((lim2,lim1))

    fig.colorbar(ims[0], ax=ax,label='PSD (dB) rel. to 1 rad/s/Hz',pad=0.02)

    return fig



## __________________________

fig = __makeplot_traces_and_spectrograms2(st);


# if config.save_figs:
#     __savefig(fig, outpath=opathfigs, outname=f"TraceSpectrogram_{config.tbeg.date}"+".png", mode="png");



def __makeplot_comparison_Z(st):

    
    N = 4
    fig, ax = plt.subplots(N, 1, figsize=(15,10), sharex=True)

    fs=14
    
    def __get_timeaxis(tr):
#         return np.arange(0, tr.stats.npts*tr.stats.delta, tr.stats.delta)
        return np.linspace(0, tr.stats.npts, tr.stats.npts)* tr.stats.delta
       

    timeaxis1 = __get_timeaxis(st[0])/60
    timeaxis2 = __get_timeaxis(st[1])/60

    shifted_data = np.roll(st[1].data, -shift)

    Delta1 = st[0].data/max(st[0].data) - st[1].data/max(st[1].data)
    Delta2 = st[0].data/max(st[0].data) - shifted_data/max(shifted_data) 


    ax[0].plot(timeaxis1, st[0].data, color='black', label="G-ring")
    ax[0].set_ylabel(r"$\Omega$ (rad/s)", fontsize=fs)

    
    ax[1].plot(timeaxis2, st[1].data, color='darkorange', label="ROMY Z")
    ax[1].set_ylabel(r"$\Omega$ (rad/s)", fontsize=fs)

    ax[2].plot(timeaxis1, st[0].data/max(st[0].data), color='black', label="G-ring")
    ax[2].plot(timeaxis2, shifted_data/max(shifted_data), color='darkorange', alpha=0.6, label="ROMY Z")
    ax[2].set_ylabel(r"norm. $\Omega$ (rad/s)", fontsize=fs)
    ax[2].annotate(f'shifted by {round(shift*st[1].stats.delta,3)} s', xy=(0.5,0.7), zorder=1)

    ax[3].plot(timeaxis1, Delta1, color='darkblue', label=rf"$\Delta$ pre-shift: L$^2$= {int(sum(Delta1**2))}")
    ax[3].plot(timeaxis1, Delta2, color='darkred', alpha=0.6, label=rf"$\Delta$ post-shift: L$^2$={int(sum(Delta2**2))}")

    ax[3].set_ylabel(r"$\Omega$ (rad/s)", fontsize=fs)

    
    for k in range(N):
        ax[k].grid(color='grey', ls='--', zorder=0)
        ax[k].set_xlim(np.min([timeaxis1, timeaxis2]), np.max([timeaxis1, timeaxis2]))
        ax[k].legend(fontsize=fs-4, loc="upper right")
        
    ax[N-1].set_xlabel(f'Time (min)  from {config.tbeg.date} {str(config.tbeg.time)[0:8]} UTC', fontsize=fs)

    
    return fig



## __________________________

fig = __makeplot_comparison_Z(st)

if config.save_figs:
    __savefig(fig, outpath=opathfigs, outname=f"CrossCorr_G_and_Z_{config.tbeg.date}"+".png", mode="png");





from andbro__crosscorrelation import __crosscorrelation

out = __crosscorrelation(st[1].data, st[2].data, deltaT=st[0].stats.delta, labels=["ADR", "ROMY-Z"])






