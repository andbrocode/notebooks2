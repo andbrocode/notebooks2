import pandas as pd
import matplotlib.pyplot as plt
import numpy as np
import pickle
import os

from numpy import nan, nanmedian
from pathlib import Path
from obspy import UTCDateTime, Stream, read
from tqdm.notebook import tqdm_notebook
from datetime import datetime

from andbro__readYaml import __readYaml
from andbro__savefig import __savefig
# from andbro__logging_setup import __logging_setup


if os.uname().nodename == "lighthouse":
    root_path = "/home/andbro/"
    data_path = "/home/andbro/freenas/"
elif os.uname().nodename == "kilauea":
    root_path = "/home/brotzer/"
    data_path = "/import/kilauea-data/"
    archive_path = "/import/freenas-ffb-01-data/"


# def __read_wromy_data(config, date):
#     '''
#     reads data from T1 to T2
#     '''
    
#     doy = str(date.timetuple().tm_yday).rjust(3,"0")

#     path = f"{config['pathToData']}{date.year}/BW/WROMY/{config['channel']}.D/"

#     if not Path(path).exists():
#         __reply(f"Path: {path}, does not exists!")
#         return


#     fileName = f"BW.WROMY.{config['channel']}.D.{date.year}.{doy}"

# #         print(f'   reading {fileName} ...')

#     try:
#         df0 = pd.read_csv(path+fileName)
#         ## replace error indicating values (-9999, 999.9) with NaN values
#         df0.replace(to_replace=-9999, value=nan, inplace=True)
#         df0.replace(to_replace=999.9, value=nan, inplace=True)

# #             ## change time from in to 6 character string
#         df0.iloc[:,2] = [str(ttt).rjust(6,"0") for ttt in df0.iloc[:,2]]

#     except:
#         __reply(f"File: {fileName}, does not exists!")

    
#     df0.reset_index(inplace=True, drop=True)

#     ## add columns with total seconds
    
#     if 'Seconds' in df0.columns:
#         time_reference = datetime(2019,1,1)
#         time_offset_seconds = (datetime(config['tbeg'].year,config['tbeg'].month,config['tbeg'].day) - time_reference).total_seconds()
#         df0['totalSeconds'] = time_offset_seconds + df0['Seconds']
    
    
#     return df0


config = {}

# config['channel'] = "WS8"

config['stations'] = ["WS1","WS4","WS5","WS6","WS7","WS8","WS9"]

config['tbeg'] = UTCDateTime("2021-09-01")
config['tend'] = UTCDateTime("2022-09-01")

config['date_range']  = pd.date_range(config['tbeg'].date, config['tend'].date)

config['pathToData'] = f"{archive_path}romy_archive/"
# config['pathToData'] = f"/home/andbro/Downloads/tmp/wromy/"

config['pathToWromy'] = f"{data_path}wromy/"

## specify output directory for figures
config['output_figures'] = f"{root_path}Documents/ROMY/WROMY/figures/"

## specfiy path to data
config['datapath'] = f"{data_path}TiltmeterDataBackup/Tilt_downsampled/"

## correction of offset (e.g. reset mass)
offset_correction = __readYaml(f"{root_path}Documents/ROMY/tiltmeter/", "tiltmeter_steps.yml")

## correction for temperature trend
temperature_correction = __readYaml(f"{root_path}Documents/ROMY/tiltmeter/","temperature_correction.yml")



def __load_wromy_data(channel, path_to_data):
    
    from os import listdir
    from tqdm.notebook import tqdm
    
    files = listdir(path_to_data+channel)
    
    for n, file in enumerate(tqdm(files)):
        df0 = pd.read_pickle(path_to_data+channel+"/"+file)
        if n == 0:
            df_raw = df0
        else: 
            df_raw = pd.concat([df_raw,df0])
    df_raw.reset_index()
    return df_raw


ws = []
for sta in config['stations']:
    print(sta)
    df0 = __load_wromy_data(sta,config['pathToWromy'])
    df0.dropna(inplace=True)
    df0.sort_values('TimeStamp', inplace=True)
    df0.reset_index(drop=True, inplace=True)

    ws.append(df0)


FURT_raw = __load_wromy_data("FURT",config['pathToWromy']) 
furt = FURT_raw.copy()
furt.dropna(inplace=True)
furt.sort_values('TimeStamp', inplace=True)
furt.reset_index(drop=True, inplace=True)


def __makeplot_station(df):
    
    NN = 3
    font = 12
    
    fig, ax = plt.subplots(NN,1, figsize=(15,5), sharex=True)
    
    xx = (df['totalSeconds'] - df['totalSeconds'][0])/86400
    xx = (df['TimeStamp'])

    ax[0].scatter(xx, df['Temperature (°C)'], s=1, zorder=2)    
    ax[1].scatter(xx, df['Pressure (hPa)'], s=1, zorder=2)
    ax[2].scatter(xx, df['rel. Humidity (%)'], s=1, zorder=2)

    ax[0].set_ylabel("T (°C)", fontsize=font)
    ax[1].set_ylabel("P (hPa)", fontsize=font)
    ax[2].set_ylabel("H (%)", fontsize=font)
    
    for j in range(NN):
        ax[j].grid(zorder=0)
        ax[j].set_xlim(min(xx),max(xx))
        
    ax[NN-1].set_xlabel(f"Days from {str(df['TimeStamp'][0])[:10]}", fontsize=font)
    
    return fig

fig = __makeplot_station(ws[0])


def __makeplot_overview(config, dfs, furt=None):
    
    NN = 3
    font = 12
    
    fig, ax = plt.subplots(NN,1, figsize=(15,15), sharex=True)
    plt.subplots_adjust(hspace=0.1)
    
    for n, df in enumerate(dfs):

#         xx = (df['totalSeconds'] - df['totalSeconds'][0])/86400
        xx = (df['TimeStamp'])

        ax[0].scatter(xx, df['Temperature (°C)'], s=.1, zorder=2, label=config['stations'][n])    
        ax[1].scatter(xx, df['rel. Humidity (%)'], s=.1, zorder=2)
        ax[2].scatter(xx, df['Pressure (hPa)'], s=.1, zorder=2)
 
#         ax[0].plot(xx, df['Temperature (°C)'], zorder=2, label=config['stations'][n])    
#         ax[1].plot(xx, df['rel. Humidity (%)'], zorder=2)
#         ax[2].plot(xx, df['Pressure (hPa)'], zorder=2)

    if furt is not None:
        ax[0].plot(furt['TimeStamp'], furt['T'], zorder=1, color ="grey", alpha=0.4, label="FURT")    
        ax[1].plot(furt['TimeStamp'], furt['H'], zorder=1, color ="grey", alpha=0.4)    
        ax[2].plot(furt['TimeStamp'], furt['P'], zorder=1, color ="grey", alpha=0.4)    
        

    ax[0].set_ylabel("Temperature (°C)", fontsize=font)
    ax[1].set_ylabel("rel. Humidity (%)", fontsize=font)
    ax[2].set_ylabel("Pressure (hPa)", fontsize=font)
    
    ax[0].set_ylim(5,25)
    ax[1].set_ylim(30,100)

    for j in range(NN):
        ax[j].grid(zorder=0)
        ax[j].set_xlim(min(xx),max(xx))
    
    ax[0].legend(loc='upper center', bbox_to_anchor=(0.5, 1.05), ncol=9, fancybox=True, shadow=True, markerscale=15)
#     ax[NN-1].set_xlabel(f"Days from {str(df['TimeStamp'][0])[:10]}", fontsize=font)
    
    return fig

# fig = __makeplot_overview(config, ws)
fig = __makeplot_overview(config, ws, furt)


def __load_local(config, seed_id):
    
    from tqdm.notebook import tqdm
    from obspy.clients.filesystem.sds import Client
    
    net, sta, loc, cha = seed_id.split(".")
    
    tbeg, tend = config['tbeg'], config['tend']

    st0 = Client(config['datapath'],fileborder_samples=1000).get_waveforms(net, sta, loc, cha, tbeg, tend)
    
    st0.merge()
    
    return st0


TROMY0 = Stream()

TROMY0 = __load_local(config, "BW.TROMY..MA*")
TROMY0.sort();

TROMY0.trim(config['tbeg']+1, config['tend']-1, pad=False, fill_value=nan);
TROMY0.merge();


ROMYT0 = Stream()

ROMYT0 = __load_local(config, "BW.ROMYT..MA*")
ROMYT0.sort();

ROMYT0.trim(config['tbeg']+1, config['tend']-1, pad=False, fill_value=nan);
ROMYT0.merge();


BROMY0 = Stream()

BROMY0 = __load_local(config, "BW.DROMY..LA*")
BROMY0.sort();

BROMY0.trim(config['tbeg']+1, config['tend']-1, pad=False, fill_value=nan);
BROMY0.merge();


def __correct_offsets(st, offset_correction, plot=False):
    
    from numpy import nanmedian, nanmean
    from obspy import UTCDateTime, Stream
    
    st_out = Stream()
    
    for cc in ["N", "E", "T"]:

        if cc not in offset_correction.keys():
            st_out += st.select(channel=f"*{cc}").copy()
            continue
        
        st0 = st.select(channel=f"*{cc}").copy()

        tbeg, tend = st0[0].stats.starttime, st0[0].stats.endtime
        
        for nn in range(len(offset_correction[cc])):
            nn +=1

            if offset_correction[cc][nn]['time_reset'] < tbeg or offset_correction[cc][nn]['time_reset'] > tend:
                continue
                        
            step_time = UTCDateTime(offset_correction[cc][nn]['time_reset'])
            offset_time_before = offset_correction[cc][nn]['time_before']
            offset_time_after = offset_correction[cc][nn]['time_after']

            st0_before = st0.copy()
            st0_before.trim(tbeg, step_time-offset_time_before)

            st0_after  = st0.copy()
            st0_after.trim(step_time+offset_time_after, tend)    

            median_before = nanmean(st0_before[0].data[-100:])
            median_after  = nanmean(st0_after[0].data[:100]) 
            
            
            if (median_after - median_before) < 0: 
                st0_after[0].data += abs(median_after - median_before)
            elif (median_after - median_before) >= 0: 
                st0_after[0].data -= abs(median_after - median_before)

            st0_before += st0_after
            
            st0 = st0_before.merge(fill_value=nan)

        st_out += st0
        
#     st_out.trim(tbeg, tend, nearest_sample=False)

    if plot:
        fig, ax = plt.subplots(3,1, figsize=(15,8), sharex=True)

        ax[0].plot(st.select(channel="*N")[0].times()/86400, st.select(channel="*N")[0].data)
        ax[0].plot(st_out.select(channel="*N")[0].times()/86400, st_out.select(channel="*N")[0].data)

        ax[1].plot(st.select(channel="*E")[0].times()/86400, st.select(channel="*E")[0].data)
        ax[1].plot(st_out.select(channel="*E")[0].times()/86400, st_out.select(channel="*E")[0].data)

        ax[2].plot(st.select(channel="*T")[0].times()/86400, st.select(channel="*T")[0].data)
        ax[2].plot(st_out.select(channel="*T")[0].times()/86400, st_out.select(channel="*T")[0].data)

        ax[0].set_ylabel("MAN (counts)")
        ax[1].set_ylabel("MAE (counts)")
        ax[2].set_ylabel("MAT (counts)")
        ax[2].set_xlabel("Time (days)")
        
        plt.show();


    return st_out


TROMY = __correct_offsets(TROMY0, offset_correction['TROMY'], plot=True)
ROMYT = __correct_offsets(ROMYT0, offset_correction['ROMYT'], plot=False)
BROMY = __correct_offsets(BROMY0, offset_correction['BROMY'], plot=False)


def __conversion(st, conf):

    st0 = st.copy()
    
    def convertTemp(trace):
        Tvolt = trace.data * conf.get('gainTemp')
        coeff = conf.get('calcTempCoefficients')
        return coeff[0] + coeff[1]*Tvolt + coeff[2]*Tvolt**2 + coeff[3]*Tvolt**3
    
    def convertTilt(trace, conversion, sensitivity):
        return trace.data * conversion * sensitivity

    for tr in st0:
        if tr.stats.channel[-1] == 'T':
            tr.data = convertTemp(tr)
        elif tr.stats.channel[-1] == 'N':
            tr.data = convertTilt(tr, conf['convTN'], conf['gainTilt'])
        elif tr.stats.channel[-1] == 'E':
            tr.data = convertTilt(tr, conf['convTE'], conf['gainTilt'])
        else:
            print("no match")
            
    print(f"  -> converted data of {st[0].stats.station}")
    return st0


## tiltmeter configurations
confTilt = __readYaml(f"{root_path}Documents/ROMY/tiltmeter/","tiltmeter.conf")

## convert to radians
TROMY = __conversion(TROMY, confTilt['TROMY'])
ROMYT = __conversion(ROMYT, confTilt['ROMYT'])
BROMY = __conversion(BROMY, confTilt['BROMY'])


# ROMYT_long.select(channel="*E")[0].data *= -1

# ROMYT_long.select(channel="*E")[0].stats.channel = "MAP"
# ROMYT_long.select(channel="*N")[0].stats.channel = "MAE"
# ROMYT_long.select(channel="*P")[0].stats.channel = "MAN"


BROMY.trim(UTCDateTime("2021-12-15"), UTCDateTime("2022-06-01"))


def __cutout(st, channel, tbeg, tend):

    
    st0 = st.copy()
    
    starttime = st0.select(channel=f"*{channel}")[0].stats.starttime
    endtime   = st0.select(channel=f"*{channel}")[0].stats.endtime
    
    tmp = st0.copy()
    newE1 = tmp.select(channel=f"*{channel}").trim(starttime, UTCDateTime(tbeg))
    tmp = st0.copy()
    if UTCDateTime(tend) < endtime:
        newE2 = tmp.select(channel=f"*{channel}").trim(UTCDateTime(tend), endtime)
        newE1 += newE2
    newE1.merge()

    st0.select(channel=f"*{channel}")[0].data = newE1[0].data

    return st0


TROMY = __cutout(TROMY, "E", "2022-06-16 00:00:00", "2022-09-01 00:00:00")
ROMYT = __cutout(ROMYT, "N", "2022-06-14 12:00:00", "2022-09-01 00:00:00")


def __correct_temperature_trend(st, correction, relative=False):
    
    st0 = st.copy()
    temperature = st0.select(channel="*T")[0].data
    
    if relative: 
        temperature -= temperature[0]
    
#     st0.select(channel="*N")[0].data -= (correction['N_slope']* temperature + correction['N_intercept'])
#     st0.select(channel="*E")[0].data -= (correction['N_slope']* temperature + correction['N_intercept'])
    st0.select(channel="*N")[0].data -= (correction['N_slope']* temperature)
    st0.select(channel="*E")[0].data -= (correction['E_slope']* temperature)   
    
    return st0


ROMYR = ROMYT.split().merge(fill_value="interpolate")
TROMY = TROMY.split().merge(fill_value="interpolate")
BROMY = BROMY.split().merge(fill_value="interpolate")


TROMY_tc = __correct_temperature_trend(TROMY, temperature_correction['TROMY'], relative=True)
ROMYT_tc = __correct_temperature_trend(ROMYT, temperature_correction['ROMYT'], relative=True)
BROMY_tc = __correct_temperature_trend(BROMY, temperature_correction['ROMYT'], relative=True)


## Reset start to Zero
for st in [TROMY,ROMYT,BROMY,TROMY_tc,ROMYT_tc,BROMY_tc]:
    for tr in st:
        if not tr.stats.channel[-1] == "T" or tr.stats.channel[0] == "W":
            tr.data = tr.data - np.nanmean(np.array(tr.data[:10]))


BROMY_tc.split().merge(fill_value="interpolate")


def __makeplot_overview_tilt(config, dfs, tromy, romyt, bromy=None, furt=None):
    
    from datetime import datetime
    
    NN = 4
    font = 12
    
    scaling_tilt = 1e6 # micro rad
    tilt_unit = r"$\mu$rad"
    
    ## ____________________
    ##
    fig, ax = plt.subplots(NN, 1, figsize=(15,15), sharex=True)
    plt.subplots_adjust(hspace=0.1)
    
    for n, df in enumerate(dfs):
        xx = df['totalSeconds']
#         xx = (df['totalSeconds'] - df['totalSeconds'][0])/86400
#         xx = (df['TimeStamp'])

        ax[0].scatter(xx, df['Temperature (°C)'], s=.1, zorder=2, label=config['stations'][n])    
        ax[1].scatter(xx, df['rel. Humidity (%)'], s=.1, zorder=2)
        ax[2].scatter(xx, df['Pressure (hPa)'], s=.1, zorder=2)

#         ax[0].plot(xx, df['Temperature (°C)'], zorder=2, label=config['stations'][n])    
#         ax[1].plot(xx, df['rel. Humidity (%)'], zorder=2)
#         ax[2].plot(xx, df['Pressure (hPa)'], zorder=2)

    if furt is not None:
#         ax[0].plot(furt['TimeStamp'], furt['T'], zorder=1, color ="grey", alpha=0.4, label="FURT")    
#         ax[1].plot(furt['TimeStamp'], furt['H'], zorder=1, color ="grey", alpha=0.4)    
#         ax[2].plot(furt['TimeStamp'], furt['P'], zorder=1, color ="grey", alpha=0.4)    
        ax[0].plot(furt['totalSeconds'], furt['T'], zorder=1, color ="grey", alpha=0.4, label="FURT")    
        ax[1].plot(furt['totalSeconds'], furt['H'], zorder=1, color ="grey", alpha=0.4)    
        ax[2].plot(furt['totalSeconds'], furt['P'], zorder=1, color ="grey", alpha=0.4)    
        
        ## plot rain
        axes_rain = ax[2].twinx()
        axes_rain.fill_between(furt['totalSeconds'], 0, furt['Rc'], alpha=1)
        axes_rain.set_ylim(bottom=0)
        axes_rain.set_ylabel("Percipitation (mm)")
        
        
    ## ROMYT tiltmeter
    time_N_tromy = tromy.select(channel="*N")[0].times(reftime=UTCDateTime("2019-01-01T00"))
    ax[3].plot(time_N_tromy, tromy.select(channel="*N")[0].data*scaling_tilt, label="TROMY N-S")
    
    time_E_tromy = tromy.select(channel="*E")[0].times(reftime=UTCDateTime("2019-01-01T00"))
    ax[3].plot(time_E_tromy, tromy.select(channel="*E")[0].data*scaling_tilt, label="TROMY E-W")
    
    ax[0].plot(time_N_tromy, tromy.select(channel="*T")[0].data, color='k', label="TROMY-T")
    
    
    ## TROMY tiltmeter
    time_N_romyt = romyt.select(channel="*N")[0].times(reftime=UTCDateTime("2019-01-01T00"))
    ax[3].plot(time_N_romyt, romyt.select(channel="*N")[0].data*scaling_tilt, label="ROMYT N-S")
    
    time_E_romyt = romyt.select(channel="*E")[0].times(reftime=UTCDateTime("2019-01-01T00"))
    ax[3].plot(time_E_romyt, romyt.select(channel="*E")[0].data*scaling_tilt, label="ROMYT E-W")
    
    print()
    ## Borehole tiltmeter
    if bromy is not None:
        time_N_bromy = bromy.select(channel="*N")[0].times(reftime=UTCDateTime("2019-01-01T00"))
        ax[3].plot(time_N_bromy, bromy.select(channel="*N")[0].data*scaling_tilt, label="BROMY N-S")

        time_E_bromy = bromy.select(channel="*E")[0].times(reftime=UTCDateTime("2019-01-01T00"))
        ax[3].plot(time_E_bromy, bromy.select(channel="*E")[0].data*scaling_tilt, label="BROMY E-W")
    

    ax[0].set_ylabel("Temperature (°C)", fontsize=font)
    ax[1].set_ylabel("rel. Humidity (%)", fontsize=font)
    ax[2].set_ylabel("Pressure (hPa)", fontsize=font)
    ax[3].set_ylabel(f"Titl ({tilt_unit})", fontsize=font)
    
    ax[0].set_ylim(0,25)
    ax[1].set_ylim(30,100)

    for j in range(NN):
        ax[j].grid(zorder=0)
        ax[j].set_xlim(min(xx),max(xx))

    tcks= ax[NN-1].get_xticks()
    tcklbls = [datetime.fromtimestamp(t+datetime(2019,1,1).timestamp()).strftime("%Y-%m-%d") for t in tcks]
    ax[NN-1].set_xticklabels(tcklbls)
        
    ax[0].legend(loc='upper center', bbox_to_anchor=(0.5, 1.05), ncol=10, fancybox=True, shadow=True, markerscale=15)
    
    ax[3].legend(loc="upper left")
    
    plt.show();
    return fig

# fig = __makeplot_overview_tilt(config, ws, TROMY, ROMYT, bromy=BROMY, furt=furt);


# __savefig(fig, outpath=config['output_figures'], outname="WROMY_OneYear_and_Tilt_NoCorrection.png", mode="png", dpi=300)


def __makeplot_overview_tilt(config, dfs, tromy, romyt, bromy, tromy_tc, romyt_tc, bromy_tc, furt=None):
    
    from datetime import datetime
    
    NN = 5
    font = 14
    
    scaling_tilt = 1e6 # micro rad
    tilt_unit = r"$\mu$rad"
    
    ## ____________________
    ##
    fig, ax = plt.subplots(NN, 1, figsize=(15,15), sharex=True)
    plt.subplots_adjust(hspace=0.1)
    
    for n, df in enumerate(dfs):
        xx = df['totalSeconds']
#         xx = (df['totalSeconds'] - df['totalSeconds'][0])/86400
#         xx = (df['TimeStamp'])

        ax[0].scatter(xx, df['Temperature (°C)'], s=.1, zorder=2, label=config['stations'][n])    
        ax[1].scatter(xx, df['rel. Humidity (%)'], s=.1, zorder=2)
        ax[2].scatter(xx, df['Pressure (hPa)'], s=.1, zorder=2)

#         ax[0].plot(xx, df['Temperature (°C)'], zorder=2, label=config['stations'][n])    
#         ax[1].plot(xx, df['rel. Humidity (%)'], zorder=2)
#         ax[2].plot(xx, df['Pressure (hPa)'], zorder=2)

    if furt is not None:
#         ax[0].plot(furt['TimeStamp'], furt['T'], zorder=1, color ="grey", alpha=0.4, label="FURT")    
#         ax[1].plot(furt['TimeStamp'], furt['H'], zorder=1, color ="grey", alpha=0.4)    
#         ax[2].plot(furt['TimeStamp'], furt['P'], zorder=1, color ="grey", alpha=0.4)    
        ax[0].plot(furt['totalSeconds'], furt['T'], zorder=1, color ="grey", alpha=0.4, label="FURT")    
        ax[1].plot(furt['totalSeconds'], furt['H'], zorder=1, color ="grey", alpha=0.4)    
        ax[2].plot(furt['totalSeconds'], furt['P'], zorder=1, color ="grey", alpha=0.4)    
        
        ## plot rain
        axes_rain = ax[2].twinx()
        axes_rain.fill_between(furt['totalSeconds'], 0, furt['Rc'], alpha=1)
#         axes_rain.plot(furt['totalSeconds'], furt['Rc'], alpha=1)
        axes_rain.set_ylim(bottom=0)
        axes_rain.set_ylabel("Percipitation (mm)", fontsize=font)

        
    ## ROMYT tiltmeter
    time_N_tromy = tromy.select(channel="*N")[0].times(reftime=UTCDateTime("2019-01-01T00"))
    ax[3].plot(time_N_tromy, tromy.select(channel="*N")[0].data*scaling_tilt, label="TROMY N-S")
    
    time_E_tromy = tromy.select(channel="*E")[0].times(reftime=UTCDateTime("2019-01-01T00"))
    ax[3].plot(time_E_tromy, tromy.select(channel="*E")[0].data*scaling_tilt, label="TROMY E-W")
    
    ax[0].plot(time_N_tromy, tromy.select(channel="*T")[0].data, color='k', label="TROMY-T")
    
    
    ## TROMY tiltmeter
    time_N_romyt = romyt.select(channel="*N")[0].times(reftime=UTCDateTime("2019-01-01T00"))
    ax[3].plot(time_N_romyt, romyt.select(channel="*N")[0].data*scaling_tilt, label="ROMYT N-S")
    
    time_E_romyt = romyt.select(channel="*E")[0].times(reftime=UTCDateTime("2019-01-01T00"))
    ax[3].plot(time_E_romyt, romyt.select(channel="*E")[0].data*scaling_tilt, label="ROMYT E-W")
    
    ## Borehole tiltmeter
    time_N_bromy = bromy.select(channel="*N")[0].times(reftime=UTCDateTime("2019-01-01T00"))
    ax[3].plot(time_N_bromy, bromy.select(channel="*N")[0].data*scaling_tilt, label="BROMY N-S")

    time_E_bromy = bromy.select(channel="*E")[0].times(reftime=UTCDateTime("2019-01-01T00"))
    ax[3].plot(time_E_bromy, bromy.select(channel="*E")[0].data*scaling_tilt, label="BROMY E-W")

        
    ## ROMYT tiltmeter
    time_N_tromy_tc = tromy_tc.select(channel="*N")[0].times(reftime=UTCDateTime("2019-01-01T00"))
    ax[4].plot(time_N_tromy_tc, tromy_tc.select(channel="*N")[0].data*scaling_tilt, label="TROMY N-S")
    
    time_E_tromy_tc = tromy_tc.select(channel="*E")[0].times(reftime=UTCDateTime("2019-01-01T00"))
    ax[4].plot(time_E_tromy_tc, tromy_tc.select(channel="*E")[0].data*scaling_tilt, label="TROMY E-W")
        
    
    ## TROMY tiltmeter
    time_N_romyt_tc = romyt_tc.select(channel="*N")[0].times(reftime=UTCDateTime("2019-01-01T00"))
    ax[4].plot(time_N_romyt_tc[15:], romyt_tc.select(channel="*N")[0].data[15:]*scaling_tilt, label="ROMYT N-S")
    
    time_E_romyt_tc = romyt_tc.select(channel="*E")[0].times(reftime=UTCDateTime("2019-01-01T00"))
    ax[4].plot(time_E_romyt_tc[15:], romyt_tc.select(channel="*E")[0].data[15:]*scaling_tilt, label="ROMYT E-W")
    
    ## Borehole tiltmeter
    time_N_bromy_tc = bromy_tc.select(channel="*N")[0].times(reftime=UTCDateTime("2019-01-01T00"))
    ax[4].plot(time_N_bromy_tc, bromy_tc.select(channel="*N")[0].data*scaling_tilt, label="BROMY N-S")

    time_E_bromy_tc = bromy_tc.select(channel="*E")[0].times(reftime=UTCDateTime("2019-01-01T00"))
    ax[4].plot(time_E_bromy_tc, bromy_tc.select(channel="*E")[0].data*scaling_tilt, label="BROMY E-W")


    lbl = r"Tilt$_{corrected}$"
    ax[0].set_ylabel("Temperature (°C)", fontsize=font)
    ax[1].set_ylabel("rel. Humidity (%)", fontsize=font)
    ax[2].set_ylabel("Pressure (hPa)", fontsize=font)
    ax[3].set_ylabel(f"Tilt ({tilt_unit})", fontsize=font)
    ax[4].set_ylabel(f"{lbl} ({tilt_unit})", fontsize=font)
    
    ax[0].set_ylim(0, 25)
    ax[1].set_ylim(30, 100)
    ax[4].set_ylim(-25, 35)

#     for j in range(NN):
#         ax[j].grid(zorder=0)
#         ax[j].set_xlim(min(xx)-1,max(xx))

    tcks= ax[NN-1].get_xticks()
    tcklbls = [datetime.fromtimestamp(t+datetime(2019,1,1).timestamp()).strftime("%Y-%m-%d") for t in tcks]
    ax[NN-1].set_xticklabels(tcklbls)
        
    ax[0].legend(loc='upper center', bbox_to_anchor=(0.5, 1.05), ncol=10, fancybox=True, shadow=True, markerscale=15)
    
    ax[4].legend(loc="lower right", bbox_to_anchor=(1.03, 0.6), fancybox=True, shadow=True,)

    plt.show();
    return fig

fig = __makeplot_overview_tilt(config, ws, TROMY, ROMYT, BROMY, TROMY_tc, ROMYT_tc, BROMY_tc, furt=furt);


# __savefig(fig, outpath=config['output_figures'], outname="WROMY_OneYear_and_Tilt_Correction", mode="png", dpi=300)


dfs = ws.copy()

for n, df in enumerate(dfs): 
    df.dropna(inplace=True)
    df.sort_values('totalSeconds', inplace=True)
    dfs[n] = df


from numpy import pi


def __norm_to_2pi(data):
    return (data-min(data))*2*pi/max(data-min(data))

fig = plt.figure(figsize=(10,10))
ax = plt.subplot(111, projection='polar')

for df in dfs:

    xx = __norm_to_2pi(df['totalSeconds'][::100])

    ax.plot(xx, df['Temperature (°C)'][::100])

ax.set_theta_direction(-1)
ax.set_theta_offset(pi/2.0)

ax.set_xticks(np.linspace(0, 2*pi, 12, endpoint=False))
ax.set_xticklabels(['' for i in range(12)])
# ax.set_yticks((0.300,0.350,0.400,0.450,0.500,0.550,0.600))
ax.set_ylim([0,25])
# ax.set_yticklabels(('300','350','400','450','500','550','600'))

ax.set_theta_zero_location("E", offset=1.5)

plt.show();









