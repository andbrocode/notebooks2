import os
import pandas as pd
import matplotlib.pyplot as plt
import numpy as np

from obspy import UTCDateTime


if os.uname().nodename == 'lighthouse':
    root_path = '/home/andbro/'
    data_path = '/home/andbro/kilauea-data/'
    archive_path = '/home/andbro/freenas/'
    bay_path = '/home/andbro/bay200/'
elif os.uname().nodename == 'kilauea':
    root_path = '/home/brotzer/'
    data_path = '/import/kilauea-data/'
    archive_path = '/import/freenas-ffb-01-data/'
    bay_path = '/bay200/'
elif os.uname().nodename == 'lin-ffb-01':
    root_path = '/home/brotzer/'
    data_path = '/import/kilauea-data/'
    archive_path = '/import/freenas-ffb-01-data/'
    bay_path = '/bay200/'


def __read_wromy_data(t1, t2, cha, path_to_data):

    from os import path
    from pandas import DataFrame, read_csv, concat
    from numpy import nan
    from obspy import UTCDateTime


    datapath = f"{path_to_data}{UTCDateTime(t1).year}/BW/WROMY/{cha}.D/"

    if not path.isdir(datapath):
        print(f" -> Path: {datapath}, does not exists!")
        return

    j1, j2 = UTCDateTime(t1).julday, UTCDateTime(t2).julday
    year = UTCDateTime(t1).year

    df = DataFrame()

    for doy in range(j1, j2+1):

        doy = str(doy).rjust(3, "0")

        filename = f'BW.WROMY.{cha}.D.{year}.{doy}'

        # print(f'   reading {filename} ...')

        try:
            df0 = read_csv(datapath+filename)

            # replace error indicating values (-9999, 999.9) with NaN values
            df0.replace(to_replace=-9999, value=nan, inplace=True)
            df0.replace(to_replace=999.9, value=nan, inplace=True)


            if doy == j1:
                df = df0
            else:
                df = concat([df, df0])
        except:
            print(f" -> file: {filename}, does not exists!")

    df.reset_index(inplace=True, drop=True)

    # add columns with total seconds
    if 'Seconds' in df.columns:
        totalSeconds = df.Seconds + (df.Date - df.Date.iloc[0]) * 86400
        df['totalSeconds'] = totalSeconds

    return df


config = {}

config['channel'] = None

config['tend'] = UTCDateTime.now()
config['tend'] = UTCDateTime("2023-12-31")
config['tbeg'] = UTCDateTime("2023-01-01")

# define path to data
config['path_to_sds'] = archive_path+"romy_archive/"

config['wromy_stations'] = [1]


rdn = __read_wromy_data(config['tbeg'], config['tend'], "RDN", archive_path+"romy_archive/")

# add utc times
rdn['times_utc'] = [UTCDateTime(f"{d}T{str(t).rjust(6, '0')}") for d, t in zip(rdn['Date'], rdn['Time (UTC)'])]

rdn['times_utc_sec'] = rdn.times_utc - config['tbeg']

rdn


ws = __read_wromy_data(config['tbeg'], config['tend'], f"WS1", archive_path+"romy_archive/")

# ws_times_utc = [UTCDateTime(f"{d}T{str(t).rjust(6, '0')}") for d, t in zip(ws['Date'], ws['Time (UTC)'])]



ws


from andbro__read_sds import __read_sds

ws = __read_sds(archive_path+"temp_archive/", "BW.WROMY.01.LII", config['tbeg'], config['tend'])



ws


def __makeplot():

    import matplotlib.pyplot as plt

    Nrow, Ncol = 1, 1

    font = 12

    fig, ax = plt.subplots(Nrow, Ncol, figsize=(12, 5), sharex=True)

    plt.subplots_adjust(hspace=0.1)

    ax.plot(rdn.times_utc_sec/86400, rdn['Radon ST avg (Bq/m3)'])

    ax2 = ax.twinx()
    ax2.plot(ws[0].times(reftime=config['tbeg'])/86400, ws[0].data, color="tab:orange")

    # ax.set_yscale("log")

    ax.set_ylim(1, 3000)
    ax2.set_ylim(0,100)

    ax2.set_ylabel("Humidity (%))")

    ax.set_ylabel("Radon ST avg (Bq/m3)")
    ax.set_xlabel(f"Time (days) from {config['tbeg'].date}")

    # ax.grid(which="both", ls="--", color="grey", alpha=0.5, zorder=0)

    plt.show();
    return fig

fig = __makeplot();




