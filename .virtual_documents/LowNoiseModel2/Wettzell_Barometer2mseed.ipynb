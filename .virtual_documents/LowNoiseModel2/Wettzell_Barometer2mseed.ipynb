import os
import pandas as pd
import obspy as obs
import numpy as np

import matplotlib.pyplot as plt

from andbro__write_stream_to_sds import __write_stream_to_sds


if os.uname().nodename == 'lighthouse':
    root_path = '/home/andbro/'
    data_path = '/home/andbro/kilauea-data/'
    archive_path = '/home/andbro/freenas/'
    bay_path = '/home/andbro/bay200/'
elif os.uname().nodename == 'kilauea':
    root_path = '/home/brotzer/'
    data_path = '/import/kilauea-data/'
    archive_path = '/import/freenas-ffb-01-data/'
    bay_path = '/bay200/'
elif os.uname().nodename == 'lin-ffb-01':
    root_path = '/home/brotzer/'
    data_path = '/import/kilauea-data/'
    archive_path = '/import/freenas-ffb-01-data/'
    bay_path = '/bay200/'


path_to_data = data_path+"LNM2/data/wettzell/"


df = pd.read_csv(path_to_data+"luftdruck_wettzell.csv")


df


df_dummy = pd.DataFrame()

seconds = int(abs(obs.UTCDateTime(df.epoch.iloc[0][:-3]) - obs.UTCDateTime(df.epoch.iloc[-1][:-3])))

tt = []
for _n, _t in enumerate(np.arange(0, seconds+60, 60)):
    obst = obs.UTCDateTime(df.epoch.iloc[0][:-3]) + _t
    tt.append(f"{obst.date} {str(obst.time).split('.')[0]}+00")

df_dummy['epoch'] = tt

df_new = df_dummy.merge(df, how="outer", on="epoch")


# df_new[df_new.p.isna()]


tr = obs.Trace()

Tdelta = 60

tr.data = df_new.p.to_numpy()
tr.stats.delta = Tdelta
tr.stats.starttime = obs.UTCDateTime(df.epoch.iloc[0][:-3])
tr.stats.network = "BW"
tr.stats.station = "WETR"
tr.stats.location = ""
tr.stats.channel = "BDO"

st = obs.Stream(traces=tr)





for datetime in pd.date_range(str(st[0].stats.starttime.date), str(st[0].stats.endtime.date)):
    st_out = st.copy()
    st_out.trim(obs.UTCDateTime(datetime), obs.UTCDateTime(datetime)+86400-Tdelta)
    print(st_out)
    __write_stream_to_sds(st_out, path_to_data)


from andbro__read_sds import __read_sds


tbeg, tend = obs.UTCDateTime("2023-12-31 00:00"), obs.UTCDateTime("2023-12-31 06:00")

rlas = __read_sds(archive_path+"romy_archive", "BW.RLAS..BJZ", tbeg, tend)
wetr = __read_sds(data_path+"LNM2/data/wettzell/", "BW.WETR..BDO", tbeg, tend)


wetr.plot();

wetr.detrend("linear").detrend("demean")
wetr.taper(0.05)

wetr.plot();

# wetr.filter("lowpass", freq=0.007, corners=4, zerophase=True)
wetr.filter("bandpass", freqmin=5e-4, freqmax=0.005, corners=4, zerophase=True)

wetr.plot();

wetr.resample(0.016, no_filter=True)

wetr.plot();



 wetr


wetr[0].stats.sampling_rate



