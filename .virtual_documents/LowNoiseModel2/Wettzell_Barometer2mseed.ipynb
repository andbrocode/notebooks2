import os
import pandas as pd
import obspy as obs
import numpy as np

import matplotlib.pyplot as plt

from datetime import datetime

from andbro__write_stream_to_sds import __write_stream_to_sds


if os.uname().nodename == 'lighthouse':
    root_path = '/home/andbro/'
    data_path = '/home/andbro/kilauea-data/'
    archive_path = '/home/andbro/freenas/'
    bay_path = '/home/andbro/bay200/'
elif os.uname().nodename == 'kilauea':
    root_path = '/home/brotzer/'
    data_path = '/import/kilauea-data/'
    archive_path = '/import/freenas-ffb-01-data/'
    bay_path = '/bay200/'
elif os.uname().nodename == 'lin-ffb-01':
    root_path = '/home/brotzer/'
    data_path = '/import/kilauea-data/'
    archive_path = '/import/freenas-ffb-01-data/'
    bay_path = '/bay200/'


path_to_data = data_path+"LNM2/data/wettzell/"





files = os.listdir(path_to_data+"1sec/")
files = np.sort(files)

for file in files:
    df = pd.read_csv(path_to_data+"1sec/"+file, names=["mjd", "pressure_inside", "pressure_outside", "X"], delim_whitespace=True)

    year = file[12:16]
    doy  = file[17:20]

    date = datetime.strptime(f'{year} {doy}', '%Y %j')

    tr = obs.Trace()

    Tdelta = 1

    dat = df.pressure_outside.to_numpy()
    print(f" -> NaN: {len(dat[np.isnan(dat)])}")

    tr.data = df.pressure_outside.to_numpy()
    tr.stats.delta = Tdelta
    tr.stats.starttime = obs.UTCDateTime(str(date))
    tr.stats.network = "BW"
    tr.stats.station = "WETR"
    tr.stats.location = "01"
    tr.stats.channel = "BDO"

    st = obs.Stream(traces=tr)

    print(f" -> writing: {str(date)}")
    __write_stream_to_sds(st, path_to_data)






df = pd.read_csv(path_to_data+"luftdruck_wettzell.csv")


df_dummy = pd.DataFrame()

seconds = int(abs(obs.UTCDateTime(df.epoch.iloc[0][:-3]) - obs.UTCDateTime(df.epoch.iloc[-1][:-3])))

tt = []
for _n, _t in enumerate(np.arange(0, seconds+60, 60)):
    obst = obs.UTCDateTime(df.epoch.iloc[0][:-3]) + _t
    tt.append(f"{obst.date} {str(obst.time).split('.')[0]}+00")

df_dummy['epoch'] = tt

df_new = df_dummy.merge(df, how="outer", on="epoch")


# df_new[df_new.p.isna()]


tr = obs.Trace()

Tdelta = 60

tr.data = df_new.p.to_numpy()
tr.stats.delta = Tdelta
tr.stats.starttime = obs.UTCDateTime(df.epoch.iloc[0][:-3])
tr.stats.network = "BW"
tr.stats.station = "WETR"
tr.stats.location = ""
tr.stats.channel = "BDO"

st = obs.Stream(traces=tr)


for datetime in pd.date_range(str(st[0].stats.starttime.date), str(st[0].stats.endtime.date)):
    st_out = st.copy()
    st_out.trim(obs.UTCDateTime(datetime), obs.UTCDateTime(datetime)+86400-Tdelta)
    # print(st_out)
    __write_stream_to_sds(st_out, path_to_data)



