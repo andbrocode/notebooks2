from obspy import *
from pandas import *
from os import listdir

import os
import netCDF4 as nc
import numpy as np

import matplotlib.pyplot as plt

import warnings
warnings.filterwarnings('ignore')


if os.uname().nodename == 'lighthouse':
    root_path = '/home/andbro/'
    data_path = '/home/andbro/kilauea-data/'
    archive_path = '/home/andbro/freenas/'
elif os.uname().nodename == 'kilauea':
    root_path = '/home/brotzer/'
    data_path = '/import/kilauea-data/'
    archive_path = '/import/freenas-ffb-01-data/'


config = {}

config['workdir'] = data_path+"LNM/"

config['datadir_models'] = config['workdir']+"data/MODELS/"

config['datadir_data'] = config['workdir']+"data/"

config['datadir_final'] = config['workdir']+"data/FINAL/"

config['outdir_figures'] = config['workdir']+"figures_final/"

config['period_lower'] = 2.5
config['period_upper'] = 300


df_gsn = read_csv(config['datadir_models']+"GSN_noise_model.csv", 
              dtype={'period': np.float32, 'minH': np.float32, 'minZ': 'float32'})

df_gsn.sort_values("period", inplace=True)

df_gsn['minH_acc'] = [10**(xx/20) for xx in df_gsn['minH']]
df_gsn['minZ_acc'] = [10**(xx/20) for xx in df_gsn['minZ']]


tmp = np.load(config['datadir_models']+"noise_models.npz")

df_lnm = DataFrame()
df_lnm['periods'], df_lnm['nlnm'], df_lnm['nhnm'] = tmp['model_periods'], tmp['low_noise'], tmp['high_noise']; del tmp

df_lnm['nlnm_acc'] = [10**(xx/20) for xx in df_lnm['nlnm']]
df_lnm['nhnm_acc'] = [10**(xx/20) for xx in df_lnm['nhnm']]


df_bfo_vhz = read_csv(config['datadir_data']+"BFO_VHZ.csv", delimiter=" ",
                      dtype={'period': np.float32, 'minH': np.float32, 'minZ': 'float32'}, names=["f_mhz","db"])

df_bfo_vhz['periods'] = 1 / ( df_bfo_vhz.f_mhz * 1e-3 )
df_bfo_vhz['bhz'] = 10**(df_bfo_vhz.db/10)


df_bfo_vhe = read_csv(config['datadir_data']+"BFO_VHE.csv", delimiter=" ", 
                      dtype={'period': np.float32, 'minH': np.float32, 'minZ': 'float32'}, names=["f_mhz","db"])

df_bfo_vhe['periods'] = 1 / ( df_bfo_vhe.f_mhz * 1e-3 )
df_bfo_vhe['bhe'] = 10**(df_bfo_vhe.db/10)


rayleigh_model = "Rayleigh_Average/RAYLEIGH_vphase_land_only.pkl"
love_model = "Love_Average/LOVE_vphase_land_only.pkl"

vphase_rayl_median = read_pickle(config['workdir']+"data/PHASE_VELOCITY_MODEL/"+rayleigh_model)
vphase_love_median = read_pickle(config['workdir']+"data/PHASE_VELOCITY_MODEL/"+love_model)


def __get_percentiles(arr):

    from numpy import zeros, nanpercentile, shape

    percentiles_lower = zeros(shape(arr)[1])
    percentiles_upper = zeros(shape(arr)[1])

    for kk in range(shape(arr)[1]):
        out = nanpercentile(arr[:, kk],  [5, 95])
        percentiles_upper[kk] = out[1]
        percentiles_lower[kk] = out[0]

    return percentiles_lower, percentiles_upper


df_vphase_rayl = read_pickle(config['datadir_final']+"vphase_land_rayleigh.pkl")

arr = df_vphase_rayl.iloc[:,1:].to_numpy().T

rayl_perc_lower, rayl_perc_upper = __get_percentiles(arr)

df_vphase_love = read_pickle(config['datadir_final']+"vphase_land_love.pkl")
arr = df_vphase_love.iloc[:,1:].to_numpy().T
love_perc_lower, love_perc_upper = __get_percentiles(arr)


data = DataFrame()

data['periods'] = df_lnm['periods']

data['nlnm_acc'] = df_lnm['nlnm_acc']
data['nhnm_acc'] = df_lnm['nhnm_acc']


## phase velocities
data['vphase_rayl_median_interp'] = np.interp(data['periods'], vphase_rayl_median['periods_mod'], vphase_rayl_median['vphase_median'])
data['vphase_love_median_interp'] = np.interp(data['periods'], vphase_love_median['periods_mod'], vphase_love_median['vphase_median'])

## confidence interval Rayleigh
data['vphase_rayl_conf_upper'] = np.interp(data['periods'], df_vphase_rayl['period'], rayl_perc_upper)
data['vphase_rayl_conf_lower'] = np.interp(data['periods'], df_vphase_rayl['period'], rayl_perc_lower)

## confidence interval Love
data['vphase_love_conf_upper'] = np.interp(data['periods'], df_vphase_love['period'], love_perc_upper)
data['vphase_love_conf_lower'] = np.interp(data['periods'], df_vphase_love['period'], love_perc_lower)


data['gsn_minH_acc'] = np.interp(data['periods'], df_gsn['period'], df_gsn['minH_acc'])
data['gsn_minZ_acc'] = np.interp(data['periods'], df_gsn['period'], df_gsn['minZ_acc'])


data['rot_trans_lnm'] = data['nlnm_acc'] / (data['vphase_rayl_median_interp']*1000)
data['rot_trans_hnm'] = data['nhnm_acc'] / (data['vphase_rayl_median_interp']*1000)


data['rot_trans_gsn'] = data['gsn_minZ_acc'] / (data['vphase_rayl_median_interp']*1000)
data['rot_trans_gsn_conf_lower'] = data['gsn_minZ_acc'] / (data['vphase_rayl_conf_upper']*1000)
data['rot_trans_gsn_conf_upper'] = data['gsn_minZ_acc'] / (data['vphase_rayl_conf_lower']*1000)

data['rot_vert_gsn'] = -0.5* data['gsn_minH_acc'] / (data['vphase_love_median_interp']*1000)
data['rot_vert_gsn_conf_lower'] =  -0.5* data['gsn_minH_acc'] / (data['vphase_love_conf_upper']*1000)
data['rot_vert_gsn_conf_upper'] =  -0.5* data['gsn_minH_acc'] / (data['vphase_love_conf_lower']*1000)


g = 9.81

omega = (2*np.pi)/(data['periods'])

# data['rot_tilt'] = omega * data['gsn_minH_acc'] / g *np.pi/180 ## rad/s
data['rot_tilt'] = omega * data['gsn_minH_acc'] / g ## rad/s


# data['toroidal_hum'] = np.ones(data['periods'].size) * 10**(-185/10) / (2*data['vphase_love_median_interp']*1000)**2

# data.loc[data['periods'] < 1/0.007, 'toroidal_hum'] = np.nan
# data.loc[data['periods'] > 1/0.003, 'toroidal_hum'] = np.nan


df_bfo_vhe['vphase_love'] = np.interp(df_bfo_vhe.periods, data['periods'], data['vphase_love_median_interp'])
df_bfo_vhz['vphase_rayl'] = np.interp(df_bfo_vhz.periods, data['periods'], data['vphase_rayl_median_interp'])


df_bfo_vhe['toroidal_hum'] = np.sqrt(df_bfo_vhe.bhe) * (2*np.pi /df_bfo_vhe.periods /g)
df_bfo_vhe['toroidal_hum_vel'] = -0.5 * np.sqrt(df_bfo_vhe.bhe) / (df_bfo_vhe['vphase_love']*1000)

df_bfo_vhz['spheriodal_hum'] = np.sqrt(df_bfo_vhz.bhz) / (df_bfo_vhz['vphase_rayl']*1000)


data.loc[data['periods'] < df_bfo_vhe.periods.min(), 'bfo_vhe'] = np.nan
data.loc[data['periods'] > df_bfo_vhe.periods.max(), 'bfo_vhe'] = np.nan


# data['storm_g_ring'] = np.ones(data['periods'].size) * 1e-13 

# data.loc[data['periods'] < 1/0.09, 'storm_g_ring'] = np.nan
# data.loc[data['periods'] > 1/0.2, 'storm_g_ring'] = np.nan


data.sort_values("periods", inplace=True)
data.reset_index(drop=True, inplace=True)


baro_periods = np.arange(20, 10000, 10)
baro_model = baro_periods*3e-12
baro_model_rot = 2*np.pi/baro_periods*baro_model/g


baro_lnm = read_csv(config['datadir_models']+"baro_nlnm_nhnm.csv")

baro_lnm_periods = 1/baro_lnm.frequency

baro_lnm_acc = 1e-9 * 10**(baro_lnm.nlnm_baro_db/20) ## m/s^2

omega2 = 2*np.pi/baro_lnm_periods

baro_lnm_rot = omega2*baro_lnm_acc/g


baro_lnm_acc, baro_lnm_rot = [], []

factors = [0.01, 0.1, 0.5, 1, 5, 10, 20]
for fac in factors:
    graph = fac*1e-9 * 10**(baro_lnm.nlnm_baro_db/20)
    baro_lnm_acc.append(graph)
    baro_lnm_rot.append(omega2*graph/g)


scale_factor = 4*16/16/632e-9

earth_rotation = 2*np.pi/86400

ring_laser_rot = data['gsn_minH_acc']/g * earth_rotation


def __plot():
    
    from mycolorpy import colorlist as mcp
    
    colors = mcp.gen_color(cmap="Reds", n=len(factors), reverse=True)
    
    N = 3
    font = 14
    
    plim = 580
    
    
    fig, ax = plt.subplots(N, 1, figsize=(15,12), sharex=True)

    plt.subplots_adjust(hspace=0.1)
    
    ## __________________________
    
    ax[0].loglog(data['periods'], data['gsn_minZ_acc']**2, ls="-.", label="GSN-Z")
    ax[0].loglog(data['periods'], data['gsn_minH_acc']**2, ls="-.", label="GSN-H")
    ax[0].loglog(data['periods'], data['nlnm_acc']**2, label="NLNM", ls="-.", color="black")
#     ax[0].loglog(data['periods'], data['nhnm_acc']**2, label="NHNM", ls=":", color="black")
    
    ## add estimate for toridal hum to rotations
    ax[0].loglog(df_bfo_vhe['periods'], df_bfo_vhe['bhe'], 'red', ls="-.", label="Toriodal Hum", zorder=2, alpha=0.8)
    ax[0].loglog(df_bfo_vhz['periods'], df_bfo_vhz['bhz'], 'darkseagreen', ls="-.", label="Spheriodal Hum", zorder=2, alpha=0.8)
    

    ax[0].loglog(baro_periods, (baro_model)**2, color="cyan", label=r"$1/f^2$")

    for col, model, fac in zip(colors, baro_lnm_acc, factors):
        ax[0].loglog(baro_lnm_periods, model**2, color=col, label=f"{fac}e-9")
 

    ax[0].set_ylabel("PSD (m$^2$ /s$^2$ /Hz )", fontsize=font)
    ax[0].set_ylim(1e-20, 5e-14)
    
    ## __________________________
    
    ax[1].loglog(data['periods'][:plim], data['rot_vert_gsn'][:plim]**2, color="tab:orange", label=r"RLNM-V$_{GSN-H}$")
    ax[1].fill_between(data['periods'][:plim], data['rot_vert_gsn_conf_lower'][:plim]**2, data['rot_vert_gsn_conf_upper'][:plim]**2, color="orange", alpha=0.1)

    ax[1].loglog(df_bfo_vhz['periods'], df_bfo_vhz['spheriodal_hum']**2, 'darkseagreen', ls="-", label="Spheriodal Hum Rot.-T", zorder=2, alpha=0.8)
    
    ax[1].loglog(data['periods'][500:], ring_laser_rot[500:]**2, color="purple", label="N-S tilt on horiz. ring laser")
    
    
    ax[1].set_ylabel("PSD (rad$^2$ /s$^2$ /Hz )", fontsize=font)
    ax[1].set_ylim(1e-27, 1e-20)
    
    ## __________________________

    ax[2].loglog(data['periods'][:plim], data['rot_trans_gsn'][:plim]**2, ls=":", color="tab:blue")
    ax[2].loglog(data['periods'][:380], data['rot_trans_gsn'][:380]**2, color="tab:blue", label=r"RLNM-T$_{GSN-Z}$")
    
    ax[2].loglog(data['periods'][:plim], data['rot_trans_lnm'][:plim]**2, color="black", ls=":")
    ax[2].loglog(data['periods'][:380], data['rot_trans_lnm'][:380]**2, color="black", label="RLNM-T$_{NLNM}$")
    #     ax[2].loglog(data['periods'][:plim], data['rot_trans_hnm'][:plim]**2, color="black", label="RHNM-T$_{NHNM}$", ls=":")
    
    ax[2].fill_between(data['periods'][:plim], data['rot_trans_gsn_conf_lower'][:plim]**2, data['rot_trans_gsn_conf_upper'][:plim]**2, color="blue", alpha=0.1)


    ## add estimate for tilt to rotations
    ax[2].loglog(baro_periods, baro_model_rot**2, color="cyan", label=r"$1/f^2 (\omega/g)^2$")
    
    for col, model, fac in zip(colors, baro_lnm_rot, factors):
        ax[2].loglog(baro_lnm_periods, model**2, color=col, label=f"{fac}e-9")
    
    ax[2].loglog(data['periods'][580:], data['rot_tilt'][580:]**2, label="RLNM-T$_{TILT}$", ls=":", color="maroon")
    
    ## add estimate for toridal hum to rotations
    ax[2].loglog(df_bfo_vhe['periods'], df_bfo_vhe['toroidal_hum']**2, 'red', ls="-", label="Toriodal Hum Rot.-V (Tilt)", zorder=2, alpha=0.8)
    ax[2].loglog(df_bfo_vhe['periods'], df_bfo_vhe['toroidal_hum_vel']**2, 'red', ls=":", label="Toriodal Hum Rot.-V", zorder=2, alpha=0.8)
    
     
    ax[2].set_ylim(1e-27, 1e-20)

    ax[2].set_ylabel("PSD (rad$^2$ /s$^2$ /Hz )", fontsize=font)
    ax[2].set_xlabel("Period (s)", fontsize=font)
    
    for i in range(N):
        ax[i].grid(ls=":", zorder=-1, alpha=0.8, which="both")
        ax[i].tick_params(axis='x', labelsize=10)
        ax[i].tick_params(axis='y', labelsize=10)

    
#     lines = ax[2].get_lines()
#     legend1 = ax[N-1].legend([lines[i] for i in [0,1,2,3,4,5]],[lines[i].get_label() for i in [0,1,2,3,4,5]], loc=4, ncol=2)
#     legend2 = ax[N-1].legend([lines[i] for i in [6,7,8]],[lines[i].get_label() for i in [6,7,8]], loc=1, ncol=1)
#     plt.gca().add_artist(legend1)
    
    ax[0].text(.01, .99, 'a)', ha='left', va='top', transform=ax[0].transAxes, fontsize=font+2)
    ax[1].text(.01, .99, 'b)', ha='left', va='top', transform=ax[1].transAxes, fontsize=font+2)
    ax[2].text(.01, .99, 'c)', ha='left', va='top', transform=ax[2].transAxes, fontsize=font+2)
    
    ax[0].legend(fontsize=font-3, loc=1, ncol=8)
    ax[1].legend(fontsize=font-3, loc=1)        
    ax[N-1].legend(fontsize=font-3, loc=1, ncol=6)
    
    ax[N-1].set_xlim(2, 1e4)
    

    plt.show();
    return fig

fig = __plot()


from andbro__savefig import __savefig

__savefig(fig,  config['outdir_figures'], "TLNM_to_RLNM_withTilt", mode="png", dpi=300)


fname = "TLNM_to_RLNM.csv"

data.to_csv(config['datadir_final']+fname, sep=",")
print(f" -> writing to {config['datadir_final']}{fname}")



