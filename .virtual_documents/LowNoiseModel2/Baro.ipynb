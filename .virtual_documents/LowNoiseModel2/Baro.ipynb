import matplotlib.pyplot as plt
import os

from obspy import UTCDateTime, read, Stream, Trace, read_inventory
from obspy import read_inventory

from andbro__read_sds import __read_sds
from andbro__load_FURT_stream import __load_furt_stream

import warnings
warnings.filterwarnings('ignore')


if os.uname().nodename == 'lighthouse':
    root_path = '/home/andbro/'
    data_path = '/home/andbro/kilauea-data/'
    archive_path = '/home/andbro/freenas/'
elif os.uname().nodename == 'kilauea':
    root_path = '/home/brotzer/'
    data_path = '/import/kilauea-data/'
    archive_path = '/import/freenas-ffb-01-data/'


# tbeg, tend = UTCDateTime("2023-09-03"), UTCDateTime("2023-09-07")
tbeg, tend = UTCDateTime("2023-11-05"), UTCDateTime("2023-11-20")

path_to_figs = root_path+"Documents/ROMY/ROMY_infrasound/figures/"

## time of inlet below gravel
t_gravel = UTCDateTime("2023-09-20 12:00")

##
t_gravel_filter = UTCDateTime("2023-10-05 12:00")

##
t_mushroom_filter = UTCDateTime("2023-10-13 16:00")

##
t_mushroom_foam_filter = UTCDateTime("2023-11-09 13:00")

##
t_mushroom_foam_porous = UTCDateTime("2023-11-17 12:00")



## period to check data... one sided differential signals...
# tbeg, tend = "2023-08-13","2023-08-20"
# ffbi = __read_sds("/import/kilauea-data/LNM2/mb2000/sds/", "BW.IROMY..BD*", tbeg, tend)

ffbi = __read_sds(root_path+"/bay200/mseed_online/archive/", "BW.FFBI..BD*", tbeg, tend)
# ffbi = __read_sds("/home/andbro/bay200/", "BW.FFBI..BD*", tbeg, tend)

ffbi_inv = read_inventory(root_path+"/Documents/ROMY/ROMY_infrasound/station_BW_FFBI.xml")

if len(ffbi) != 2:
    ffbi.merge();

# ffbi = ffbi.remove_response(ffbi_inv)

## remove gain and sensitivity
for tr in ffbi:
    if "F" in tr.stats.channel:
        # tr = tr.remove_response(ffbi_inv)
        tr.data = tr.data *1.589e-6 /0.02  # gain=1 sensitivity_reftek=6.28099e5count/V; sensitivity_mb2005=0.02 VPa
    elif "O" in tr.stats.channel:
        tr.data = tr.data *1.589e-6 *1e5   # gain=1 sensitivity_reftek=6.28099e5count/V; sensitivity = 1 mV/hPa

ffbi.merge();

print(ffbi)

ffbi.plot(equal_scale=False);


promy = __read_sds(archive_path+"romy_archive/", "BW.PROMY..L*", tbeg, tend)
promy.merge();
promy.plot(equal_scale=False);


furt = __load_furt_stream(tbeg, tend, show_raw=False, sampling_rate=1.0, path_to_archive=root_path+"/bay200/gif_online/FURT/WETTER/")
furt.plot(equal_scale=False);


def __makeplot_overview():

    fig, ax = plt.subplots(4, 1, figsize=(15, 10), sharex=True)

    def smooth(y, box_pts):
        from numpy import ones, convolve, zeros, array, concatenate
        box = ones(box_pts)/box_pts
        y = concatenate((zeros(box_pts), array(y), zeros(box_pts)))
        y_smooth = convolve(y, box, mode='same')
        return y_smooth[box_pts:-box_pts]


    time_scaling = 86400

    ax[0].plot(ffbi.select(channel="*F")[0].times()/time_scaling, ffbi.select(channel="*F")[0].data, label="FFBI", color="k")


    ax[1].plot(ffbi.select(channel="*O")[0].times()/time_scaling, ffbi.select(channel="*O")[0].data/100, label="FFBI", color="k")
    ax[1].plot(promy.select(channel="LDI")[0].times()/time_scaling, promy.select(channel="LDI")[0].data/100, label="PROMY", color="tab:blue")
    ax[1].plot(furt.select(channel="LAP")[0].times()/time_scaling, furt.select(channel="LAP")[0].data, label="FURT", color="tab:orange")


    ax[2].plot(furt.select(channel="LAT")[0].times()/time_scaling, furt.select(channel="LAT")[0].data, label="FURT", color="tab:red")
    ax22 = ax[2].twinx()
    ax22.plot(promy.select(channel="LKI")[0].times()/time_scaling, promy.select(channel="LKI")[0].data, label="PROMY", color="tab:brown")
    ax22.legend(loc=4)
    ax22.tick_params(axis='y', colors="tab:brown")

    wind_force = smooth(furt.select(channel="LAW")[0].data, 900)
    ax[3].plot(furt.select(channel="LAW")[0].times()/time_scaling, wind_force, color="tab:green", label="15 min mean")

    ax32 = ax[3].twinx()
    wind_direction = smooth(furt.select(channel="LAD")[0].data, 900)
    ax32.plot(furt.select(channel="LAD")[0].times()/time_scaling, wind_direction, color="tab:purple", label="15 min mean")
    ax32.set_ylim(0, 360)
    ax32.tick_params(axis='y', colors="tab:purple")


    ax22.set_ylabel("Temperature (°C)", color="tab:brown")
    ax32.set_ylabel("Wind Direction (°)", color="tab:purple")
    ax[0].set_ylabel("Diff. Pressure (Pa)")
    ax[1].set_ylabel("Abs. Pressure (hPa)")
    ax[2].set_ylabel("Temperature (°C)")
    ax[3].set_ylabel("Wind (m/s)")

    ax[3].set_xlabel(f"Time from {tbeg.date} {str(tbeg.time).split('.')[0]} UTC (days)")

    for i in range(4):
        ax[i].grid(alpha=0.5, color="grey", zorder=0)
        ax[i].legend()
        ax[i].axvline((t_gravel-tbeg)/time_scaling, color="darkblue", ls="--")
        ax[i].axvline((t_mushroom_filter-tbeg)/time_scaling, color="purple", ls="--")
        ax[i].axvline((t_gravel_filter-tbeg)/time_scaling, color="cyan", ls="--")
        ax[i].axvline((t_mushroom_foam_filter-tbeg)/time_scaling, color="darkred", ls="--")
        ax[i].axvline((t_mushroom_foam_porous-tbeg)/time_scaling, color="darkgreen", ls="--")


    ax[1].legend(ncol=3)

    ax[1].set_ylim(900, 970)
    ax[3].set_xlim(0, max(ffbi.select(channel="*F")[0].times()/time_scaling))

    plt.show();
    return fig

fig = __makeplot_overview()


fig.savefig(path_to_figs+f"comparison_{tbeg.date}_{tend.date}.tiff", dpi=200, format="tiff", bbox_inches='tight')





mb2005 = ffbi.trim(UTCDateTime("2023-11-11"), UTCDateTime("2023-11-20"))
mb2005.resample(1.0)

dps310 = promy.trim(UTCDateTime("2023-11-11"), UTCDateTime("2023-11-20"))


mb2005, dps310


p_diff = mb2005.select(channel="BDO")[0].data - dps310.select(channel="LDI")[0].data





def __makeplot():

    Nrow, Ncol = 3, 1

    font = 12

    fig, ax = plt.subplots(Nrow, Ncol, figsize=(15, 8))

    t_axis = mb2005.select(channel="BDO")[0].times()/86400

    ax[0].plot(t_axis, mb2005.select(channel="BDO")[0].data, zorder=2, label="MB2005")
    ax[0].plot(t_axis, dps310.select(channel="LDI")[0].data, zorder=2, label="DSP310")

    ax[1].plot(t_axis, dps310.select(channel="LKI")[0].data, color="darkred", zorder=2, label="DSP310 LKI")

    ax[2].plot(t_axis, p_diff, color="black", zorder=2, label="MB2005 - DSP310")
    ax[2].set_ylim(600, 660)


    for _n in range(Nrow):
        ax[_n].grid(ls=":", zorder=0)
        ax[_n].legend(loc=1)

    ax[0].set_ylabel(f"Pressure (Pa)", fontsize=font)
    ax[1].set_ylabel(f"Temperature (°C)", fontsize=font)
    ax[2].set_ylabel(f"Pressure difference (Pa)", fontsize=font)
    ax[2].set_xlabel(f"Time from {mb2005[0].stats.starttime.date} UTC (days)", fontsize=font)

    plt.show();
    return fig


fig = __makeplot();

fig.savefig(path_to_figs+f"Compare_MB2005_DPS310_timeseries.png", format="png", dpi=200, bbox_inches='tight')


def __makeplot():

    Nrow, Ncol = 1, 1

    font = 12

    fig, ax = plt.subplots(Nrow, Ncol, figsize=(15, 8))

    t_axis = mb2005.select(channel="BDO")[0].times()/86400

    ax.scatter(dps310.select(channel="LKI")[0].data[10:-10], p_diff[10:-10], color="black", s=.1, zorder=2, label="MB2005 - DSP310 vs. LKI")


    ax.grid(ls=":", zorder=0)
    ax.legend(loc=1)

    ax.set_xlabel(f"Temperature (°C)", fontsize=font)
    ax.set_ylabel(f"Pressure Difference (Pa)", fontsize=font)

    plt.show();
    return fig


fig = __makeplot();

fig.savefig(path_to_figs+f"Compare_MB2005_DPS310_pressure_difference_vs_temperature.png", format="png", dpi=200, bbox_inches='tight')


def __multitaper_psd(arr, dt, n_win=5):

    import multitaper as mt

    out_psd = mt.MTSpec(arr, nw=n_win, kspec=0, dt=dt)

    _f, _psd = out_psd.rspec()

    f = _f.reshape(_f.size)
    psd = _psd.reshape(_psd.size)

    ## 95% confidence interval
    # _psd95 = out_psd.jackspec()
    # psd95_lower, psd95_upper = psd95[::2, 0], psd95[::2, 1]

    return f, psd


# f_mb2005, psd_mb2005 = __multitaper_psd(mb2005.select(channel="BDO")[0].data, 
#                                         mb2005.select(channel="BDO")[0].stats.delta,
#                                         n_win=5
#                                        )


def __welch_psd(arr, dt, twin_sec=60):

    from scipy.signal import welch
    from scipy.signal.windows import hann

    nblock = int(1/dt * twin_sec)
    overlap = int(0.5*nblock)
    win = hann(nblock, True)

    ff, Pxx = welch(arr,
                    fs=1/dt,
                    window=win, noverlap=overlap,
                    nfft=nblock,
                    scaling="density",
                    return_onesided=True)

    return ff, Pxx


f_mb2005, psd_mb2005 = __welch_psd(mb2005.select(channel="BDO")[0].data[10:-10],
                                   mb2005.select(channel="BDO")[0].stats.delta,
                                   twin_sec=10800,
                                   )

f_dps310, psd_dps310 = __welch_psd(dps310.select(channel="LDI")[0].data[10:-10],
                                     dps310.select(channel="LDI")[0].stats.delta,
                                     twin_sec=10800,
                                     )


from scipy.signal import coherence

df = dps310.select(channel="LDI")[0].stats.sampling_rate
nperseg = int(10800 * df)
noverlap = int(0.5*nperseg)

f_coh, coh = coherence(mb2005.select(channel="BDO")[0].data[10:-10],
                       dps310.select(channel="LDI")[0].data[10:-10],
                       fs = df, nperseg=nperseg, noverlap=noverlap)


def __makeplot():

    Nrow, Ncol = 2, 1

    font = 12

    fig, ax = plt.subplots(Nrow, Ncol, figsize=(15, 8))

    ax[0].loglog(f_mb2005, psd_mb2005, label="MB2005 (welch, 3hr)")
    ax[0].loglog(f_dps310, psd_dps310, label="DPS310 (welch, 3hr)")

    ax[1].semilogx(f_coh, coh, color="k", label="MB2005 vs. DPS310")

    for _n in range(Nrow):
        ax[_n].grid(ls=":", zorder=0)
        ax[_n].legend(loc=1)


    ax[0].set_ylabel("PSD (Pa$^2$ /Hz)", fontsize=font)
    ax[1].set_xlabel("Frequency (Hz)", fontsize=font)
    ax[1].set_ylabel("Coherence", fontsize=font)

    plt.show();
    return fig


fig = __makeplot();

fig.savefig(path_to_figs+f"Compare_MB2005_DPS310_PSD_Coherence.png", format="png", dpi=200, bbox_inches='tight')






