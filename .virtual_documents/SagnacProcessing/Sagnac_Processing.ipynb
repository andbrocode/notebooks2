import numpy as np
import matplotlib.pyplot as plt
import time

from scipy.signal import resample, hilbert, correlate
from tqdm import tqdm
from obspy import UTCDateTime




import sys
sys.path.insert(0, 'submodules')


from EchoPerformance import __echo_performance
from CreateSyntheticEventV2 import __create_synthetic_event_v2
from MakeplotDemodulationQuality import __makeplot_demodulation_quality
from MinimizeResidual import __minimize_residual
from CreateLinearChirp import __create_linear_chirp
from Tapering import __tapering
from InstaFreqHilbert import __insta_freq_hilbert
from Normalize import __normalize
from WriteToMseed import __write_to_mseed
from LoadMseed import __load_mseed
from Modulation import __modulation
from QuerrySeismoData import __querry_seismo_data



def third_order_derive(x, pos="MIDDLE"):

    coeff = np.zeros((5,5))
    norm = np.array([0,0])
    sum = 0.

    norm[0] = 12.;
    norm[1] = 84.;

    coeff[0][0] = -125.;
    coeff[0][1] =  136.;
    coeff[0][2] =   48.;
    coeff[0][3] =  -88.;
    coeff[0][4] =   29.;
    coeff[1][0] =  -38.;
    coeff[1][1] =   -2.;
    coeff[1][2] =   24.;
    coeff[1][3] =   26.;
    coeff[1][4] =  -10.;
    coeff[2][0] =    1.;
    coeff[2][1] =   -8.;
    coeff[2][2] =    0.;
    coeff[2][3] =    8.;
    coeff[2][4] =   -1.;
    coeff[3][0] =   10.;
    coeff[3][1] =  -26.;
    coeff[3][2] =  -24.;
    coeff[3][3] =    2.;
    coeff[3][4] =   38.;
    coeff[4][0] =  -29.;
    coeff[4][1] =   88.;
    coeff[4][2] =  -48.;
    coeff[4][3] = -136.;
    coeff[4][4] =  125.;

    for i in range(0, 5):
        sum += coeff[pos][i]*x[i];

    if pos == 'MIDDLE':
        sum /= norm[0];

    else:
        sum /= norm[1];


    return sum


import numpy as np

dt = 0.1
f = 0.1
t = np.arange(0, 100, dt)
y = np.sin(2*np.pi* f * t)
y2 = np.cos(2*np.pi* f * t)

# dy1 = third_order_derive(y)
dy2 = np.diff(y, n=1)/(2*np.pi*f)/dt
# dy3 = np.diff(y, n=2)/dt/dt
dy3 = np.gradient(y, edge_order=1)/(2*np.pi*f)/dt

plt.figure(figsize=(15,5))

plt.scatter(t,y,s=1, color='blue')
plt.plot(t, y2, color='orange')

plt.scatter(t[:-1], dy2, s=2, color="green")
plt.scatter(t, dy3, s=2, color="red")


plt.axhline(0, color='k')
plt.xlim(0,10)


from MakeplotTraceAndSpectrum import __makeplot_trace_and_spectrum
from MakeplotTraceAndPSD import __makeplot_trace_and_psd
from MakeplotModulatedSignal import __makeplot_modulated_signal



oversampling = 1

T = 1600

sps = 5000

sgnc = 550

f_lower, f_upper = 0.001, 0.05

# modulation_index = 1.0

frequency_deviation = 0.5
modulation_index = frequency_deviation/f_upper

modulation_scheme = 3


taper_type = "window"
taper_percent = 0.2


syn_signal = 'chirp'  ## 'chirp' or 'synthetic_trace' or 'real_trace'




sps = sps * oversampling


if syn_signal == 'synthetic_trace':

    ##_______________________________________________________________
    ## call synthetic event generator (version2)

    ## load trace or create and write one if not yet existing

    iname=f"data/SYN_T{int(T)}_fs{int(sps)}_f{f_lower}-{f_upper}.mseed"

    modeltrace, time_modeltrace = __load_mseed(iname, T, sps, f_lower, f_upper)

#     modeltrace = __tapering(modeltrace, taper_type, taper_percent)

     ## normalize trace to avoid issues with demodulation
    modeltrace = __normalize(modeltrace)

## ______________________________________________
elif syn_signal == 'chirp':
    ##_______________________________________________________________
    ## make chirp signal

    modeltrace, time_modeltrace = __create_linear_chirp(T,
                                                        sps,
                                                        f_lower,
                                                        f_upper,
                                                       )

## ______________________________________________
elif syn_signal == 'real_trace':

    ## set starttime and endtime
    tbeg = UTCDateTime(2020, 10, 30, 12, 0)
    tend = tbeg + T

    ## get stream data
    RLAS, RLAS_inv = __querry_seismo_data("BW.RLAS..HJZ",
                                          tbeg,
                                          tend,
                                          restitute=True,
                                          )

    RLAS[0].resample(sampling_rate=sps)

    RLAS[0].filter('bandpass', freqmin=f_lower, freqmax=f_upper, corners=4, zerophase=True)

    time_modeltrace = np.arange(0, T+1/sps, 1/sps)
    modeltrace = RLAS[0].data[0:time_modeltrace.size]

    modeltrace = __normalize(modeltrace)

## ______________________________________________*
else:
    print("Wrong choise!")



modeltrace = __tapering(modeltrace, taper_type='hann', percent=0.2)


__makeplot_trace_and_spectrum(modeltrace, time_modeltrace, fmax=2*f_upper);


# oname = f'data/syn_T{int(T)}_fs{int(sps)}_f{f_lower}-{f_upper}.mseed'

# __write_to_mseed(modeltrace, time_modeltrace, oname, sps)


# timeline, synthetic_signal = __modulation(modeltrace, time_modeltrace, T, sps, mod_index=modulation_index)


synthetic_signal, timeline = __modulation(modeltrace,
                                          time_modeltrace,
                                          sgnc,
                                          T,
                                          sps,
                                          modulation_index,
                                          modulation_scheme,
                                         )



# synthetic_signal = __tapering(synthetic_signal, taper_type='window', percent=0.2)


__makeplot_trace_and_psd(synthetic_signal, timeline, fmax=0.5*sps, t1=40, t2=40.01);


# __makeplot_modulated_signal(synthetic_signal, timeline);


# sps /= oversampling


# real_time = np.arange(0,T+1/sps,1/sps)

# tmp1 = np.interp(real_time, time_modeltrace, modeltrace)
# tmp2 = np.interp(real_time, modeltrace, time_modeltrace)
# tmp3 = np.interp(real_time, timeline, synthetic_signal)

# timeline = real_time

# modeltrace = tmp1
# time_modeltrace = tmp2
# synthetic_signal = tmp3


modeltrace = modeltrace[::oversampling]
time_modeltrace = time_modeltrace[::oversampling]

synthetic_signal = synthetic_signal[::oversampling]
timeline = timeline[::oversampling]

sps = 1/(timeline[1]-timeline[0])


__makeplot_trace_and_psd(synthetic_signal, timeline, fmax=0.5*sps, t1=10, t2=10.1);



# time_demod_signal, demod_signal = __insta_freq_hilbert(synthetic_signal, timeline, sps, sgnc)



def __hibert_filter(sig_in, time_in, fs):

    '''
    estimating the instantaneous frequency by using the formula of Jo

    sig_in    = input signal
    time_in   = input timeline
    fs        = sampling frequency of digital signal
    '''

    ## calulcate hilbert transform
    hil0 = hilbert(sig_in)

    ## extract imaginary part of hilbert transform 
    hil = np.imag(hil0)


    ## calculate derivatives 
    d_hil = np.gradient(hil, edge_order=1)
    d_sig = np.gradient(sig_in, edge_order=1)

    delta_f_full = (sig_in * d_hil - d_sig * hil) / (2*np.pi*np.sqrt(sig_in**2 + hil**2))
# #     delta_f_full = (sig_in[1:]*np.diff(hil) - np.diff(sig_in) * hil[1:]) / (2*np.pi*np.sqrt(sig_in[1:]**2 + hil[1:]**2))

    ## extract real part
    delta_f = np.real(delta_f_full)


    ## instert nan value for time zero (exluded bevause of np.diff() ) 
    sum0, idx = 0, []
    for k, x in enumerate(delta_f):
        if np.isnan(x):
            sum0 += 1
            idx.append(k)
    print(sum0, " nan found")

    for l in idx:
        delta_f[l] = 0


    ## _______________________________________________________________________________

#    return time_in[1:], delta_f
    return time_in, delta_f




time_demod_signal, demod_signal = __hibert_filter(synthetic_signal, timeline, sps)



print(f"theo. Sagnac Frequencs: {sgnc} Hz")
print(f"Median Demodulated Signal: {np.median(demod_signal)}")

# demod_signal = demod_signal - sgnc
demod_signal = demod_signal - np.median(demod_signal)


cutoff = int(0.01*demod_signal.size)

cut1 = np.array([i for i in demod_signal[:cutoff]])
cut2 = np.array([i for i in demod_signal[-cutoff:]])
demod_signal[:cutoff] = 0
demod_signal[-cutoff:] = 0


demod_signal_norm = __normalize(demod_signal)
modeltrace_norm = __normalize(modeltrace)

# demod_signal_norm = __tapering(demod_signal_norm, 'flanks', percent=0.1)


cross_corr = correlate(demod_signal, modeltrace, mode='same')

cross_corr_lags = np.arange(-cross_corr.size//2+1,cross_corr.size//2+1,1)


def __makeplot_demodulation_quality(time_modeltrace, modeltrace, time_demod_signal, demod_signal, cross_corr, cross_corr_lags, sps, c1=None, c2=None, fmax=1.0):

    import matplotlib.pyplot as plt
    from numpy import sqrt, mean, unwrap, where, linspace, arange
    from andbro__fft import __fft

    def __minimize_residual(model, original):

        from scipy.optimize import leastsq

        ## define cost function
        def __cost_function(params, x, y):
            a, b = params[0], params[1]
            residual = y-(a*x+b)
            return residual

        ## initials 
        params = [1, 0]

        result = leastsq(__cost_function, params, (model, original))

        model_new = model * result[0][0] + result[0][1]

        print(f'\noptimized: original -  {round(result[0][0],3)} * model + {round(result[0][1],3)}\n')

        residual = (model_new - original)
        return residual, model_new


    def __rmse(x1, x2, s1, s2, fmax, N):

        lims = linspace(0,fmax,N)

        res = []
        f_res = []
        for i in range(1, lims.size):
            idx1 = where(x1 >= lims[i-1])[0][0]
            idx2 = where(x1 <= lims[i])[0][-1]

            res.append(sqrt(mean(s1[idx1:idx2]-s2[idx1:idx2])**2))
            f_res.append(x1[(idx2-idx1)//2+idx1])

        return f_res, res


    sps = int(sps)


    ## caluclate spectral magnitude and phase
    # asd_demod, ff_demod, phase_demod = __fft(demod_signal[c1:c2], 1/sps, window=None, normalize=None)
    # asd_model, ff_model, phase_model = __fft(modeltrace[c1:c2], 1/sps, window=None, normalize=None)
    asd_demod, ff_demod, phase_demod = __fft(demod_signal, 1/sps, window=None, normalize=None)
    asd_model, ff_model, phase_model = __fft(modeltrace, 1/sps, window=None, normalize=None)

    ## calulcate rmse of asd and phase
    f_res_asd, res_asd = __rmse(ff_demod, ff_model, asd_demod, asd_model, fmax, fmax)
    f_res_phase, res_phase = __rmse(ff_demod, ff_model, phase_demod, phase_model, fmax, fmax)


    ## ______________________________________

    # residual_pre_opt  = modeltrace[c1:c2]-demod_signal[c1:c2]
    residual_pre_opt  = modeltrace-demod_signal

#     residual_post_opt, demod_signal_opt  = __minimize_residual(demod_signal[c1:c2], modeltrace[c1:c2])

    max_amp = max(abs(demod_signal))

    rmse_pre_opt = sqrt(mean(residual_pre_opt**2))
#     rmse_post_opt = sqrt(mean(residual_post_opt**2))

    ## ________________________________________________
    ## plotting

    fig, ax = plt.subplots(7, 1, figsize=(15, 15))

    font = 13

    plt.subplots_adjust(hspace = 0.4)


    ## ____________________________________________________________________________
    ##

    ax[0].plot(time_modeltrace, modeltrace, color='darkorange', linewidth=3)
    ax[0].plot(time_demod_signal, demod_signal)
#     ax[0].plot(time_demod_signal[c1:c2], demod_signal_opt, color='darkblue', linestyle='--')

    ax[0].set_xlabel("time (s)", fontsize=font)
    ax[0].tick_params(axis='both', labelsize=font-2)

    ax[0].set_ylim(-max_amp-0.1*max_amp, max_amp+0.1*max_amp)
    ax[0].set_ylabel('norm. amplitude', fontsize=font)

#     ax[0].set_title(f'rmse pre: {round(rmse_pre_opt,5)};  rmse post: {round(rmse_post_opt,5)}', fontsize=font)
    ax[0].set_title(f'rmse pre: {round(rmse_pre_opt,5)}', fontsize=font)

    ## ____________________________________________________________________________
    ##

    ax[1].plot(ff_demod, asd_demod, color='darkorange',lw=3)
    ax[1].plot(ff_model, asd_model)

    ax[1].set_xlabel("Frequency (Hz)", fontsize=font)
    ax[1].set_ylabel(r'spect. amplitude', fontsize=font)


    ## ____________________________________________________________________________
    ##

    idx = where(ff_demod <= fmax)[0][-1]+1

    ax[2].plot(ff_model[0:idx], unwrap(phase_model)[0:idx], color='darkorange',lw=3)
    ax[2].plot(ff_demod[0:idx], unwrap(phase_demod)[0:idx])

    ax[2].set_xlabel("Frequency (Hz)", fontsize=font)
    ax[2].set_ylabel('unwraped phase', fontsize=font)


    ## ____________________________________________________________________________
    ##

    # ax[3].plot(time_demod_signal[c1:c2], abs(residual_pre_opt), color='k')
    ax[3].plot(time_demod_signal, abs(residual_pre_opt), color='k')
#     ax[1].plot(time_demod_signal[c1:c2], abs(residual_post_opt), color='r')


    ax[3].set_xlabel("time (s)", fontsize=font)
    ax[3].tick_params(axis='both', labelsize=font-2)
    ax[3].set_ylabel('norm. residual', fontsize=font)

    ax[3].set_xlim(time_demod_signal[0], time_demod_signal[-1])

#     x1 = 0.1*time_demod_signal.size*(time_demod_signal[1]-time_demod_signal[0])
#     y1 = 0.75*max(residual_pre_opt)
#     print(max(residual_post_opt))
#     ax[1].text(x1, y1, f'rmse pre: {round(rmse_pre_opt,5)} \nrmse post: {round(rmse_post_opt,5)}', fontsize=font)

    ## ____________________________________________________________________________
    ##

    ax[4].axvline(0.0, color="grey", ls=":")
    ax[4].plot(cross_corr_lags*(time_demod_signal[1]), cross_corr, 'k')

    ax[4].set_xlabel('lag (s)', fontsize=font)
    ax[4].tick_params(axis='both', labelsize=font-2)
    ax[4].set_ylabel('cross-correlation', fontsize=font)

    x0 = 0.60*max(cross_corr_lags)*(time_demod_signal[1]-time_demod_signal[0])
    y0 = 0.75*max(cross_corr)

    ax[4].text(x0, y0, f'max. CC at lag {cross_corr_lags[abs(cross_corr).argmax()]/sps} s', fontsize=font)
#     ax[2].text(x0, y0, f'max. CC at lag {cross_corr_lags[abs(cross_corr).argmax()]}', fontsize=font)


    ## ____________________________________________________________________________
    ##

    ax[5].plot(f_res_asd, res_asd, color='k')
    ax[5].set_ylabel("rmse spectra", fontsize=font)
    ax[5].set_xlabel("frequency (Hz)", fontsize=font)
    ax[5].set_xlim(0,fmax)

    ## ____________________________________________________________________________
    ##

    ax[6].plot(f_res_phase, res_phase, color='k')
    ax[6].set_ylabel("rmse phase", fontsize=font)
    ax[6].set_xlabel("frequency (Hz)", fontsize=font)
    ax[6].set_xlim(0,fmax)


    ## ____________________________________________________________________________
    ##

    ax[0].legend(['synthetic', 'demodulated', 'demod. optimized'], loc="upper right", fontsize=font-2)
#     ax[3].legend(['residual', 'optimized res'], loc="upper right", fontsize=font-2)

    ax[0].set_xlim(time_demod_signal[0], time_demod_signal[-1])
    ax[3].set_xlim(time_demod_signal[0], time_demod_signal[-1])
    ax[4].set_xlim(-time_demod_signal[-1]/2, time_demod_signal[-1]/2)
    ax[1].set_xlim(0, fmax)
    ax[2].set_xlim(0, fmax)

    plt.show();

    return fig


plt.plot(timeline, modeltrace_norm)
plt.plot(time_demod_signal, demod_signal_norm)



fig = __makeplot_demodulation_quality(timeline,
                                      modeltrace_norm,
                                      time_demod_signal,
                                      demod_signal_norm,
                                      cross_corr,
                                      cross_corr_lags,
                                      sps,
                                     );



pname = f"{syn_signal}_{f_lower}-{f_upper}_T{int(T)}_fs{int(sps)}_mi{modulation_index}_S{int(sgnc)}_case{modulation_scheme}.pdf"

fig.savefig(f"plots/{pname}", dpi=300, format='pdf')









# def __modulation(modeltrace, time_modeltrace, T, sps, mod_index=0.1):

#     timeline = time_modeltrace

#     Npts = int(T*sps)

#     # tt = np.arange(0, T, 1/sps/fraction)
#     tt = time_modeltrace

# #     modulation_index = abs(f_upper-sgnc)/f_upper
# #     print(modulation_index)
    
#     fm = sgnc + mod_index * modeltrace




#     print(' Integrating ... ')
#     t1 = time.time()

#     ifm = np.zeros(Npts+1)
#     summe = 0

#     for i in range(0, Npts+1):
#         summe += fm[i]
#         ifm[i] = 2*np.pi*summe

#     ifm = ifm / sps # to finish integral

#     t2 = time.time()

#     __echo_performance(t1, t2)



#     synthetic_signal = np.sin( 2 * np.pi * ifm )
#     # synthetic_signal = np.cos( 2 * np.pi * ifm )

#     # synthetic_signal = np.cos(2*np.pi * (sgnc + 0.01 * ifm ))

#     # synthetic_signal = 1.0 * np.sin(2*np.pi*sgnc * timeline - 0.001 * np.cos(modeltrace*timeline))

#     return timeline, synthetic_signal

