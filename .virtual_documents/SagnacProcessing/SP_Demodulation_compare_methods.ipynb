import numpy as np
import matplotlib.pyplot as plt
import time
import gc
import os

from scipy.signal import resample, hilbert, correlate
from tqdm import tqdm
from obspy import UTCDateTime, read, Stream

from andbro__read_sds import __read_sds


if os.uname().nodename == 'lighthouse':
    root_path = '/home/andbro/'
    data_path = '/home/andbro/kilauea-data/'
    archive_path = '/home/andbro/freenas/'
    bay_path = '/home/andbro/bay200/'
elif os.uname().nodename == 'kilauea':
    root_path = '/home/brotzer/'
    data_path = '/import/kilauea-data/'
    archive_path = '/import/freenas-ffb-01-data/'
    bay_path = '/bay200/'
elif os.uname().nodename == 'lin-ffb-01':
    root_path = '/home/brotzer/'
    data_path = '/import/kilauea-data/'
    archive_path = '/import/freenas-ffb-01-data/'
    bay_path = '/bay200/'


import sys
sys.path.insert(0, 'submodules')


config = {}

config['path_to_data'] = archive_path+"romy_archive/"
config['path_to_tmp'] = archive_path+"temp_archive/"

config['tbeg'] = UTCDateTime("2024-07-11 15:00")
config['tend'] = UTCDateTime("2024-07-11 17:00")


st_classic = __read_sds(config['path_to_data'], "BW.ROMY..BJU", config['tbeg'], config['tend'])

st_classic = st_classic.detrend("linear")

print(st_classic)

st_classic.plot();


# st_modifed = __read_sds(config['path_to_data'], "BW.ROMY.30.BJN", config['tbeg'], config['tend'])

# st_modifed = st_modifed.detrend("linear")

# st_modifed.plot();


st_sine = __read_sds(config['path_to_tmp'], "BW.ROMY.60.BJU", config['tbeg'], config['tend'])

st_sine = st_sine.detrend("linear")

st_sine = st_sine.merge()

print(st_sine)

st_sine.plot();


st_hilbert = __read_sds(config['path_to_tmp'], "BW.ROMY.80.BJU", config['tbeg'], config['tend'])

st_hilbert = st_hilbert.detrend("linear")

# st_hilbert = st_hilbert.merge(fill_value=0)

print(st_hilbert)

st_hilbert.plot();


stt = Stream()

stt += st_classic.copy()
stt += st_hilbert.copy()



t1 = UTCDateTime("2024-07-11 15:40")
t2 = UTCDateTime("2024-07-11 16:00")

stt = stt.trim(t1, t2)


stt = stt.taper(0.01)
stt = stt.filter("bandpass", freqmin=0.01, freqmax=0.5, zerophase=True, corners=4)


stt.plot(equal_scale=False);


def __makeplot():

    Nrow, Ncol = 2, 1

    font = 12

    fig, ax = plt.subplots(Nrow, Ncol, figsize=(15, 8))

    for _i, tr in enumerate(stt):
        ax[_i].plot(tr.times(), tr.data, label=f"{tr.stats.location}")
        y_max = np.nanpercentile(abs(tr.data), 97)
        ax[_i].set_ylim(-y_max, y_max)

    for _n in range(Nrow):
        ax[_n].grid(ls=":", zorder=0)
        ax[_n].legend(loc=1)

    plt.show();
    return fig

fig = __makeplot();




