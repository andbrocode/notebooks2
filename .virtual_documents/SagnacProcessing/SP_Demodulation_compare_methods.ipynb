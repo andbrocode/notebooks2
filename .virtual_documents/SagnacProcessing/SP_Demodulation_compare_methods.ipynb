import numpy as np
import matplotlib.pyplot as plt
import time
import gc
import os

from scipy.signal import resample, hilbert, correlate
from tqdm import tqdm
from obspy import UTCDateTime, read, Stream, read_inventory

from andbro__read_sds import __read_sds


if os.uname().nodename == 'lighthouse':
    root_path = '/home/andbro/'
    data_path = '/home/andbro/kilauea-data/'
    archive_path = '/home/andbro/freenas/'
    bay_path = '/home/andbro/bay200/'
elif os.uname().nodename == 'kilauea':
    root_path = '/home/brotzer/'
    data_path = '/import/kilauea-data/'
    archive_path = '/import/freenas-ffb-01-data/'
    bay_path = '/bay200/'
elif os.uname().nodename == 'lin-ffb-01':
    root_path = '/home/brotzer/'
    data_path = '/import/kilauea-data/'
    archive_path = '/import/freenas-ffb-01-data/'
    bay_path = '/bay200/'


import sys
sys.path.insert(0, 'submodules')

from submodules.interpolate_nan import __interpolate_nan


config = {}

config['ring'] = "Z"

config['path_to_data'] = archive_path+"romy_archive/"

config['path_to_figs'] = data_path+"SagnacProcessing/figures/"

config['path_to_tmp'] = archive_path+"temp_archive/"

config['path_to_inventory'] = root_path+"Documents/ROMY/stationxml_ringlaser/dataless/"

config['tbeg'] = UTCDateTime("2024-07-11 15:00")
config['tend'] = UTCDateTime("2024-07-11 16:15")

config['tbeg'] = UTCDateTime("2024-07-11 00:00")
config['tend'] = UTCDateTime("2024-07-12 00:00")


st_classic = __read_sds(config['path_to_data'], f"BW.ROMY.10.BJ{config['ring']}", config['tbeg'], config['tend'])

romy_inv = read_inventory(config['path_to_inventory']+"dataless.seed.BW_ROMY")

st_classic = st_classic.remove_sensitivity(romy_inv)

st_classic = st_classic.detrend("linear")

print(st_classic)

st_classic.plot();


# st_modifed = __read_sds(config['path_to_data'], "BW.ROMY.30.BJN", config['tbeg'], config['tend'])

# st_modifed = st_modifed.detrend("linear")

# st_modifed.plot();


st_sine = __read_sds(config['path_to_tmp'], f"BW.ROMY.60.BJ{config['ring']}", config['tbeg'], config['tend'])

st_sine = st_sine.merge(fill_value="interpolate")
# st_sine = st_sine.merge(fill_value=np.nan)

for tr in st_sine:
    tr.data = __interpolate_nan(tr.data)

st_sine = st_sine.detrend("linear")

print(st_sine)

st_sine.plot();


st_hilbert = __read_sds(config['path_to_tmp'], f"BW.ROMY.80.BJ{config['ring']}", config['tbeg'], config['tend'])

st_hilbert = st_hilbert.detrend("linear")

st_hilbert = st_hilbert.merge(fill_value=0)

print(st_hilbert)

st_hilbert.plot();


from obspy.signal import rotate

st_fur = __read_sds(bay_path+"mseed_online/archive/", "GR.FUR..BHZ", config['tbeg'], config['tend'])
st_fur += __read_sds(bay_path+"mseed_online/archive/", "GR.FUR..BHN", config['tbeg'], config['tend'])
st_fur += __read_sds(bay_path+"mseed_online/archive/", "GR.FUR..BHE", config['tbeg'], config['tend'])

fur_inv = read_inventory(config['path_to_inventory']+"dataless.seed.GR_FUR")

st_fur = st_fur.remove_response(fur_inv, output="ACC", water_level=10)

st_fur = st_fur.rotate(method="NE->RT", back_azimuth=334, inventory=fur_inv)


stt = Stream()

stt += st_classic.copy()
# stt += st_hilbert.copy()
stt += st_sine.copy()

stt = stt.merge(fill_value="interpolate")
# stt = stt.merge(fill_value=0)

stt = stt.sort()

print(stt)

# t1 = UTCDateTime("2024-07-11 15:30")
# t2 = UTCDateTime("2024-07-11 16:00")

# t1 = UTCDateTime("2024-07-11 15:00")
# t2 = UTCDateTime("2024-07-11 16:30")

# stt = stt.trim(t1, t2)

l_min = min([len(tr.data) for tr in stt])
for tr in stt:
    tr.data = tr.data[:l_min]

print(stt)

stt.plot(equal_scale=False);


stt = stt.trim(config['tbeg']+6*3600, config['tbeg']+12*3600)


stt = stt.detrend("linear")

stt = stt.taper(0.01, type="cosine")

fmin, fmax = 0.001, 0.1
stt = stt.filter("bandpass", freqmin=fmin, freqmax=fmax, zerophase=True, corners=4)



stt.plot(equal_scale=False);


def __makeplot():

    Nrow, Ncol = 3, 1

    font = 12

    fig, ax = plt.subplots(Nrow, Ncol, figsize=(15, 8))

    for _i, tr in enumerate(stt):
        ax[_i].plot(tr.times(), tr.data, label=f"{tr.stats.location}")
        y_max = np.nanpercentile(abs(tr.data), 97)
        ax[_i].set_ylim(-y_max, y_max)

    for _n in range(Nrow):
        ax[_n].grid(ls=":", zorder=0)
        ax[_n].legend(loc=1)

    plt.show();
    return fig

# fig = __makeplot();



# for tr in stt:
#     if tr.stats.location == "60":
#         tr.data = np.roll(tr.data, int(0.45*20))


plt.figure(figsize=(15, 5))
plt.plot(stt.select(location="10")[0].data[30000:])
plt.plot(stt.select(location="60")[0].data[30000:])
plt.plot(stt.select(location="80")[0].data[30000:])



def __compare(st1, st2, fmin=0.01, fmax=10):

    from obspy.signal.cross_correlation import correlate, xcorr_max
    from numpy import nan_to_num, arange, array, linspace, imag, roll, nan
    from scipy.signal import hilbert
    from matplotlib.gridspec import GridSpec
    from submodules.compute_orthogonal_distance_regression import __compute_orthogonal_distance_regression
    from submodules.get_fft import __get_fft
    from matplotlib.ticker import (MultipleLocator, AutoMinorLocator)

    dt = st1[0].stats.delta

    tscale, tunit = 1/60, "min"
    yscale, yunit = 1e9, "nrad/s"

    times = st1[0].times()*tscale

    arr1 = st1[0].data*yscale
    arr2 = st2[0].data*yscale

    # arr1 /= max(abs(arr1))
    # arr2 /= max(abs(arr2))

    Nshift = len(arr1)

    ccf = correlate(arr1, arr2, shift=Nshift, demean=False, normalize='naive', method='fft')

    cclags = arange(-Nshift, Nshift+1) * dt

    shift, value = xcorr_max(ccf)

    arr2_shifted = roll(arr2, shift)

    print("Nshift: ", shift, "Tshift: ", shift*dt, "CC: ", value)


    b1, a1 = __compute_orthogonal_distance_regression(arr1, arr2, xerr=None, yerr=None, bx=None, by=None)

    b1_shifted, a1_shifted = __compute_orthogonal_distance_regression(arr1, arr2_shifted, xerr=None, yerr=None, bx=None, by=None)

    xxx = linspace(arr1.min(), arr1.max(), 100)

    res0 = arr1 - arr2

    res = arr1 - arr2_shifted

    if shift != 0:
        res[:2*shift] *= nan
        res[-2*shift:] *= nan

    spec1, f1, p1 = __get_fft(arr1, dt, window='hann')
    spec2, f2, p2 = __get_fft(arr2_shifted, dt, window='hann')

    # find index for frequency range
    idx1, idx2 = None, None
    for i, f in enumerate(f1):
        if f > fmin and idx1 is None:
            idx1 = i-1
        if f > fmax and idx2 is None:
            idx2 = i

    spec_diff = (spec2-spec1)/(spec2+spec1)*100
    f_spec_diff, spec_diff = f1[idx1:idx2], spec_diff[idx1:idx2]

    # ___________________________________________
    #

    Nrow, Ncol = 5, 2

    font = 12

    lw = 1

    fig = plt.figure(figsize=(12, 10))

    gs0 = GridSpec(Nrow, Ncol, figure=fig, hspace=0.5)
    gs = GridSpec(Nrow, Ncol, figure=fig, hspace=0.2)

    ax1 = fig.add_subplot(gs[0, :])
    ax2 = fig.add_subplot(gs[1, :])
    ax3 = fig.add_subplot(gs[2, :])
    ax4 = fig.add_subplot(gs0[3, :1])
    ax5 = fig.add_subplot(gs0[3, 1:])
    ax6 = fig.add_subplot(gs0[4, :1])
    ax7 = fig.add_subplot(gs0[4, 1:])

    plt.subplots_adjust(hspace=0.35)

    ax1.plot(times, arr1, color="black", label=f"D1={st1[0].stats.location}.{st1[0].stats.channel}", lw=lw)
    ax1.set_ylabel(f"$\Omega$ ({yunit})", fontsize=font)
    # ax1.get_xaxis().set_visible(False)
    ax1.legend(loc=1)

    ax2.plot(times, arr2, color="tab:red", label=f"D2={st2[0].stats.location}.{st2[0].stats.channel}", lw=lw)
    ax2.legend(loc=1, ncol=1)
    ax2.set_ylabel(f"$\Omega$ ({yunit})", fontsize=font)

    ax3.plot(times, res0, color="darkgrey", label=f"D1-D2", lw=lw)
    ax3.plot(times, res, color="lightgrey", label=f"D1-D2 (shifted)", lw=lw)
    ax3.legend(loc=1, ncol=1)
    ax3.set_ylabel(f"$\Omega$ ({yunit})", fontsize=font)
    ax3.set_xlabel(f"Time ({tunit})", fontsize=font, labelpad=1)

    ax4.scatter(arr1, arr2, color="black", s=2)
    ax4.plot(xxx, (a1+b1*xxx), ls="--", color="b", label=f"a={a1:.2f}; b={b1:.2f}")
    ax4.set_xlabel(f"D1 ({yunit})", fontsize=font)
    ax4.set_ylabel(f"D2 ({yunit})", fontsize=font)
    ax4.legend(loc=4)

    ax5.scatter(arr1, arr2_shifted, color="black", s=2)
    ax5.plot(xxx, (a1_shifted+b1_shifted*xxx), ls="--", color="b", label=f"a={a1_shifted:.2f}; b={b1_shifted:.2f}")
    ax5.set_xlabel(f"D1 ({yunit})", fontsize=font)
    ax5.set_ylabel(f"D2 ({yunit})", fontsize=font)
    ax5.legend(loc=4)

    ll = f"t={round(shift*dt, 2)} s  CC={round(value, 4)}"
    ax6.plot(cclags, ccf, color="k", label=ll)
    ax6.set_ylabel("CC-Coeff.", fontsize=font)
    ax6.set_xlabel("Lag time (s)", fontsize=font, labelpad=0)
    ax6.set_ylim(-1.1, 1.1)
    ax6.axvline(shift*dt, -1, 1, color="b", ls="--", zorder=0)
    ax6.scatter(shift*dt, value, color="b", marker="d", zorder=0)
    ax6.legend()
    # ax6.text(.005, .97, ll, ha='left', va='top', transform=ax6.transAxes, fontsize=font)

    ax7.plot(f_spec_diff, spec_diff, color="k", label=f"FJU-BJU")
    ax7.axhline(0, 0, 100, color="darkgrey", ls=":", lw=1)
    ax7.set_ylabel("Spec. Diff. (%)", fontsize=font)
    ax7.set_xlabel("Frequency (Hz)", fontsize=font, labelpad=0)
    ax7.set_xscale("log")
    ax7.set_xlim(fmin, fmax)
    ax7.legend(ncol=2, loc=8)
    ax7.set_ylim(-100, 100)

    ax7.yaxis.set_major_locator(MultipleLocator(50))
    ax7.yaxis.set_minor_locator(MultipleLocator(10))

    for _k, (ax, ll) in enumerate(zip([ax1, ax2, ax3, ax4, ax5, ax6, ax7], ['(a)', '(b)', '(c)', '(d)', '(e)', '(f)', '(g)'])):
        ax.text(.005, .97, ll, ha='left', va='top', transform=ax.transAxes, fontsize=font+2)

    ax1.set_title(f"f = {fmin} - {fmax} Hz")

    for ax in [ax1, ax2, ax3, ax4, ax5, ax7]:
        ax.grid(ls=":", alpha=0.5, zorder=0, color="grey")

    plt.show();
    return fig

st1 = stt.select(location="10").copy()
st2 = stt.select(location="60").copy()
# st2 = stt.select(location="80").copy()

fig = __compare(st1, st2, fmin, fmax)

# fig.savefig(path_to_figs+f"SP_{date}_{fmin}_{fmax}_comparison.png", format="png", dpi=150, bbox_inches='tight')



def __compare(st0):

    from obspy.signal.cross_correlation import correlate, xcorr_max
    from numpy import nan_to_num, arange, array, linspace, imag, roll
    from matplotlib.gridspec import GridSpec
    from scipy.signal import hilbert
    from submodules.compute_orthogonal_distance_regression import __compute_orthogonal_distance_regression
    from submodules.smoothing import __smooth
    from submodules.get_fft import __get_fft
    from matplotlib.ticker import (MultipleLocator, AutoMinorLocator)
    from submodules.welch_coherence import __welch_coherence
    from submodules.multitaper_coherence import __multitaper_coherence

    dt = st0[0].stats.delta

    yscale, yunit = 1e9, r"$nrad/s$"

    tscale, tunit = 1/60, "min"

    times = st0[0].times()*tscale

    arr0 = nan_to_num(st0.select(location="10", channel="*Z")[0].data, 0)
    arr1 = nan_to_num(st0.select(location="60", channel="*Z")[0].data, 0)
    arr2 = nan_to_num(st0.select(location="80", channel="*Z")[0].data, 0)

    # ________________________________________________________

    Nshift = len(arr0)

    ccf1 = correlate(arr0, arr1, shift=Nshift, demean=False, normalize='naive', method='fft')
    ccf2 = correlate(arr0, arr2, shift=Nshift, demean=False, normalize='naive', method='fft')

    cclags = arange(-Nshift, Nshift+1) * dt

    shift1, value1 = xcorr_max(ccf1)
    shift2, value2 = xcorr_max(ccf2)

    arr1_shifted = roll(arr1, shift1)
    arr2_shifted = roll(arr2, shift2)

    print("Nshift: ", shift1, "Tshift: ", shift1*dt, "CC: ", value1)
    print("Nshift: ", shift2, "Tshift: ", shift2*dt, "CC: ", value2)

    # ________________________________________________________

    b1, a1 = __compute_orthogonal_distance_regression(arr0, arr1, xerr=None, yerr=None, bx=None, by=None)
    b2, a2 = __compute_orthogonal_distance_regression(arr0, arr2, xerr=None, yerr=None, bx=None, by=None)

    b1_shifted, a1_shifted = __compute_orthogonal_distance_regression(arr0, arr1_shifted, xerr=None, yerr=None, bx=None, by=None)
    b2_shifted, a2_shifted = __compute_orthogonal_distance_regression(arr0, arr2_shifted, xerr=None, yerr=None, bx=None, by=None)

    xxx = linspace(arr0.min(), arr0.max(), 100)*yscale

    # ________________________________________________________

    spec0, f0, p0 = __get_fft(arr0, dt, window='hann')
    spec1, f1, p1 = __get_fft(arr1, dt, window='hann')
    spec2, f2, p2 = __get_fft(arr2, dt, window='hann')

    # find index for frequency range
    idx1, idx2 = None, None
    for i, f in enumerate(f1):
        if f > fmin and idx1 is None:
            idx1 = i-1
        if f > fmax and idx2 is None:
            idx2 = i

    spec_diff1 = (spec1-spec0)/(spec1+spec0)*100
    f1_spec_diff, spec_diff1 = f1[idx1:idx2], spec_diff1[idx1:idx2]

    spec_diff2 = (spec2-spec0)/(spec2+spec0)*100
    f2_spec_diff, spec_diff2 = f2[idx1:idx2], spec_diff2[idx1:idx2]

    # ________________________________________________________

    # out = __welch_coherence(arr0, arr1_shifted, dt, twin_sec=1000)
    out = __multitaper_coherence(arr0, arr1_shifted, dt,
                                 n_taper=5, time_bandwidth=3.5, method=2)
    fcoh1, coh1 = out['fcoh'], out['coh']
    # out = __welch_coherence(arr0, arr2_shifted, dt, twin_sec=1000)
    out = __multitaper_coherence(arr0, arr2_shifted, dt,
                                 n_taper=5, time_bandwidth=3.5, method=2)
    fcoh2, coh2 = out['fcoh'], out['coh']

    # ________________________________________________________

    Nrow, Ncol = 5, 2

    font = 12

    fig = plt.figure(figsize=(12, 10))

    gs0 = GridSpec(Nrow, Ncol, figure=fig, hspace=0)
    gs = GridSpec(Nrow, Ncol, figure=fig, hspace=0.5)

    ax1 = fig.add_subplot(gs[0, :])
    ax2 = fig.add_subplot(gs[1, :])
    ax3 = fig.add_subplot(gs[2, :1])
    ax4 = fig.add_subplot(gs[2, 1:])
    ax5 = fig.add_subplot(gs[3, :1])
    ax6 = fig.add_subplot(gs[3, 1:])
    ax7 = fig.add_subplot(gs[4, :1])
    ax8 = fig.add_subplot(gs[4, 1:])

    plt.subplots_adjust(hspace=0.35)

    ax1.plot(times, arr1*yscale, color="tab:blue", label="60.Z")
    ax1.plot(times, arr0*yscale, color="black", label=f"10.Z")
    ax1.set_ylabel(f"$\Omega$ ({yunit})", fontsize=font)
    ax1.get_xaxis().set_visible(False)
    ax1.legend(loc=1)
    ax1.set_ylim(min(arr0*yscale), max(arr0*yscale))

    ax2.plot(times, arr2*yscale, color="tab:orange", label="80.Z")
    ax2.plot(times, arr0*yscale, color="black", label=f"10.Z")
    ax2.legend(loc=1)
    ax2.set_ylabel(f"$\Omega$ ({yunit})", fontsize=font)
    ax2.set_xlabel(f"Time ({tunit})", fontsize=font, labelpad=1)
    ax2.set_ylim(min(arr0*yscale), max(arr0*yscale))

    ax3.plot(f1_spec_diff, spec_diff1, color="tab:blue", label=f"10.Z - 60.Z")
    ax3.plot(f2_spec_diff, spec_diff2, color="tab:orange", label=f"10.Z - 80.Z")
    ax3.axhline(0, 0, 100, color="darkgrey", ls=":", lw=1)
    ax3.set_ylabel("Spec. Diff. (%)", fontsize=font)
    ax3.set_xlabel("Frequency (Hz)", fontsize=font, labelpad=0)
    ax3.set_xscale("log")
    ax3.set_xlim(fmin, fmax)
    # ax3.legend(ncol=2, loc=8)
    ax3.set_ylim(-100, 100)
    ax3.yaxis.set_major_locator(MultipleLocator(50))
    ax3.yaxis.set_minor_locator(MultipleLocator(10))

    ax4.plot(fcoh1, coh1, color="tab:blue", label=f"10.Z - 60.Z")
    ax4.plot(fcoh2, coh2, color="tab:orange", label=f"10.Z - 80.Z")
    ax4.set_ylabel("Coherence", fontsize=font)
    ax4.set_xlabel("Frequency (Hz)", fontsize=font, labelpad=0)
    ax4.set_xscale("log")
    ax4.set_xlim(fmin, fmax)
    # ax4.legend(ncol=2, loc=8)
    ax4.yaxis.set_major_locator(MultipleLocator(0.5))
    ax4.yaxis.set_minor_locator(MultipleLocator(0.1))

    tshift_scale, tshift_unit = 1, "s"

    ll = f"t={round(shift1*tshift_scale*dt, 2)} {tshift_unit}  CC={round(value1, 5)}"
    ax5.plot(cclags*tshift_scale, ccf1, color="tab:blue", label=ll)
    ax5.set_ylabel("CC-Coeff.", fontsize=font)
    ax5.set_xlabel(f"Lag time ({tshift_unit})", fontsize=font, labelpad=0)
    ax5.set_ylim(-1, 1)
    ax5.axvline(shift1*tshift_scale*dt, -1, 1, color="k", ls="--", zorder=0)
    ax5.scatter(shift1*tshift_scale*dt, value1, color="k", marker="d", zorder=0)
    ax5.legend(loc=4)
    # ax5.text(.005, .97, ll, ha='left', va='top', transform=ax3.transAxes, fontsize=font)

    ll = f"t={round(shift2*tshift_scale*dt, 2)} {tshift_unit} CC={round(value2, 5)}"
    ax6.plot(cclags*tshift_scale, ccf2, color="tab:orange", label=ll)
    ax6.set_ylabel("CC-Coeff.", fontsize=font)
    ax6.set_xlabel(f"Lag time ({tshift_unit})", fontsize=font, labelpad=0)
    ax6.set_ylim(-1, 1)
    ax6.axvline(shift2*tshift_scale*dt, -1, 1, color="k", ls="--", zorder=0)
    ax6.scatter(shift2*tshift_scale*dt, value2, color="k", marker="d", zorder=0)
    ax6.legend(loc=4)
    # ax6.text(.005, .97, ll, ha='left', va='top', transform=ax4.transAxes, fontsize=font)

    ax7.scatter(arr0*yscale, arr1_shifted*yscale, color="tab:blue", s=1)
    ax7.plot(xxx, (a1_shifted+b1_shifted*xxx), ls="--", color="k", label=f"a={a1_shifted*yscale:.5f}; b={b1_shifted*yscale:.1f}")
    ax7.set_xlabel(f"$\Omega$ ({yunit})", fontsize=font)
    ax7.set_ylabel(f"$\Omega$ ({yunit})", fontsize=font)
    ax7.legend(loc=4)

    ax8.scatter(arr0*yscale, arr2_shifted*yscale, color="tab:orange", s=1)
    ax8.plot(xxx, (a2_shifted+b2_shifted*xxx), ls="--", color="k", label=f"a={a2_shifted*yscale:.5f}; b={b2_shifted*yscale:.1f}")
    ax8.set_xlabel(f"$\Omega$ ({yunit})", fontsize=font)
    ax8.set_ylabel(f"$\Omega$ ({yunit})", fontsize=font)
    ax8.legend(loc=4)

    for ax in [ax3, ax4, ax5, ax6, ax7, ax8]:
        ax.grid(ls=":", alpha=0.5, zorder=0, color="grey")

    axes = [ax1, ax2, ax3, ax4, ax5, ax6, ax7, ax8]
    for _k, (ax, ll) in enumerate(zip(axes, ['(a)', '(b)', '(c)', '(d)', '(e)', '(f)', '(g)', '(h)'])):
        ax.text(.005, .97, ll, ha='left', va='top', transform=ax.transAxes, fontsize=font+2)

    plt.show();
    return fig

fig = __compare(stt)

# fig.savefig(config['path_to_figs']+f"SP_compare_rotation_sine_hilbert.png", format="png", dpi=150, bbox_inches='tight')



st0 = Stream()
st0 += __read_sds(config['path_to_tmp'], f"BW.ROMY.60.BJ{config['ring']}", config['tbeg'], config['tend'])
st0 += __read_sds(config['path_to_tmp'], f"BW.ROMY.70.BJ{config['ring']}", config['tbeg'], config['tend'])

st0.plot(equal_scale=False);

# for tr in st0:
#     if tr.stats.location == "70":
#         tr = tr.differentiate(method="gradient")

st0 = st0.detrend("linear")
st0 = st0.taper(0.01)

fmin, fmax = 0.001, 0.5
st0 = st0.filter("bandpass", freqmin=fmin, freqmax=fmax, zerophase=True, corners=4)

st0.plot(equal_scale=False);


st_phase = __read_sds(config['path_to_tmp'], f"BW.ROMY.70.BJ{config['ring']}", config['tbeg'], config['tend'])

print(st_phase)

st_phase = st_phase.merge(fill_value=np.nan)
# st_phase = st_phase.split()

for tr in st_phase:
    tr.data = __interpolate_nan(tr.data)

    # scaling ???
    tr.data = tr.data / (2*np.pi) * 632.8e-9

    tr.data -= np.nanmean(tr.data[:10])

# st_phase = st_phase.detrend("linear")

print(st_phase)

st_phase.plot();


st2 = Stream()

st2 += st_fur.select(channel="BHT").copy()
# st2 += st_classic.copy()
st2 += st_sine.copy()
st2 += st_hilbert.copy()

t1 = UTCDateTime("2024-07-11 15:30")
t2 = UTCDateTime("2024-07-11 16:00")

st2 = st2.trim(t1, t2)

l_min = min([len(tr.data) for tr in st2])
for tr in st2:
    tr.data = tr.data[:l_min]

print(st2)

st2 = st2.detrend("linear")
st2 = st2.taper(0.01)

fmin, fmax = 0.001, 0.1
st2 = st2.filter("bandpass", freqmin=fmin, freqmax=fmax, zerophase=True, corners=4)



# plt.figure(figsize=(15, 5))
# plt.plot(st2.select(channel="*HT")[0].data)
# plt.plot(st2.select(channel="*JZ")[0].data*4000)



def __compare(st0):

    from obspy.signal.cross_correlation import correlate, xcorr_max
    from numpy import nan_to_num, arange, array, linspace, imag, roll
    from matplotlib.gridspec import GridSpec
    from scipy.signal import hilbert
    from submodules.compute_orthogonal_distance_regression import __compute_orthogonal_distance_regression
    from submodules.smoothing import __smooth
    from submodules.get_fft import __get_fft
    from matplotlib.ticker import (MultipleLocator, AutoMinorLocator)
    from submodules.welch_coherence import __welch_coherence
    from submodules.multitaper_coherence import __multitaper_coherence

    dt = st0[0].stats.delta

    yscale, yunit = 1e6, r"$\mu$m/s$^2$"

    rscale = 4000

    tscale, tunit = 1/60, "min"

    times = st0[0].times()*tscale

    arr0 = nan_to_num(st0.select(location="", channel="*HT")[0].data, 0)
    arr1 = nan_to_num(st0.select(location="60", channel="*Z")[0].data, 0) * rscale
    arr2 = nan_to_num(st0.select(location="80", channel="*Z")[0].data, 0) * rscale

    # ________________________________________________________

    Nshift = len(arr0)

    ccf1 = correlate(arr0, arr1, shift=Nshift, demean=False, normalize='naive', method='fft')
    ccf2 = correlate(arr0, arr2, shift=Nshift, demean=False, normalize='naive', method='fft')

    cclags = arange(-Nshift, Nshift+1) * dt

    shift1, value1 = xcorr_max(ccf1)
    shift2, value2 = xcorr_max(ccf2)

    arr1_shifted = roll(arr1, shift1)
    arr2_shifted = roll(arr2, shift2)

    print("Nshift: ", shift1, "Tshift: ", shift1*dt, "CC: ", value1)
    print("Nshift: ", shift2, "Tshift: ", shift2*dt, "CC: ", value2)

    # ________________________________________________________

    b1, a1 = __compute_orthogonal_distance_regression(arr0, arr1, xerr=None, yerr=None, bx=None, by=None)
    b2, a2 = __compute_orthogonal_distance_regression(arr0, arr2, xerr=None, yerr=None, bx=None, by=None)

    b1_shifted, a1_shifted = __compute_orthogonal_distance_regression(arr0, arr1_shifted, xerr=None, yerr=None, bx=None, by=None)
    b2_shifted, a2_shifted = __compute_orthogonal_distance_regression(arr0, arr2_shifted, xerr=None, yerr=None, bx=None, by=None)

    xxx = linspace(arr0.min(), arr0.max(), 100)*yscale

    # ________________________________________________________

    spec0, f0, p0 = __get_fft(arr0, dt, window='hann')
    spec1, f1, p1 = __get_fft(arr1_shifted, dt, window='hann')
    spec2, f2, p2 = __get_fft(arr2_shifted, dt, window='hann')

    # find index for frequency range
    idx1, idx2 = None, None
    for i, f in enumerate(f1):
        if f > fmin and idx1 is None:
            idx1 = i-1
        if f > fmax and idx2 is None:
            idx2 = i
    # ________________________________________________________

    # out = __welch_coherence(arr0, arr1_shifted, dt, twin_sec=1000)
    out = __multitaper_coherence(arr0, arr1_shifted, dt,
                                 n_taper=5, time_bandwidth=3.5, method=2)
    fcoh1, coh1 = out['fcoh'], out['coh']
    # out = __welch_coherence(arr0, arr2_shifted, dt, twin_sec=1000)
    out = __multitaper_coherence(arr0, arr2_shifted, dt,
                                 n_taper=5, time_bandwidth=3.5, method=2)
    fcoh2, coh2 = out['fcoh'], out['coh']

    # ________________________________________________________

    Nrow, Ncol = 5, 2

    font = 12

    fig = plt.figure(figsize=(12, 10))

    gs0 = GridSpec(Nrow, Ncol, figure=fig, hspace=-0.5)
    gs = GridSpec(Nrow, Ncol, figure=fig, hspace=0.5)

    ax1 = fig.add_subplot(gs[0, :])
    ax2 = fig.add_subplot(gs[1, :])
    ax3 = fig.add_subplot(gs[2, :1])
    ax4 = fig.add_subplot(gs[2, 1:])
    ax5 = fig.add_subplot(gs[3, :1])
    ax6 = fig.add_subplot(gs[3, 1:])
    ax7 = fig.add_subplot(gs[4, :1])
    ax8 = fig.add_subplot(gs[4, 1:])

    plt.subplots_adjust(hspace=0.35)

    ax1.plot(times, arr0*yscale, color="black", label=f"HT")
    ax1.plot(times, arr1*yscale, color="tab:blue", label="60.Z * 4 km/s")
    ax1.set_ylabel(r"Acc. (m/s$^2$)", fontsize=font)
    ax1.get_xaxis().set_visible(False)
    ax1.legend(loc=1, ncol=2)
    ax1.set_ylim(min(arr0*yscale), max(arr0*yscale))

    ax2.plot(times, arr0*yscale, color="black", label=f"HT")
    ax2.plot(times, arr2*yscale, color="tab:orange", label="80.Z * 4 km/s")
    ax2.legend(loc=1, ncol=2)
    ax2.set_ylabel(f"Acc. (m/s$^2$)", fontsize=font)
    ax2.set_xlabel(f"Time ({tunit})", fontsize=font, labelpad=1)
    ax2.set_ylim(min(arr0*yscale), max(arr0*yscale))

    # ax3.plot(f1[idx1:idx2], (spec1[idx1:idx2]-spec0[idx1:idx2])/spec0[idx1:idx2]*100, color="tab:blue", label=f"10.Z - 60.Z")
    # ax3.plot(f1[idx1:idx2], (spec2[idx1:idx2]-spec0[idx1:idx2])/spec0[idx1:idx2]*100, color="tab:orange", label=f"10.Z - 80.Z")
    ax3.plot(f1[idx1:idx2], spec0[idx1:idx2], color="k", label=f"10.Z")
    ax3.plot(f1[idx1:idx2], spec1[idx1:idx2], color="tab:blue", label=f"60.Z")
    ax3.plot(f1[idx1:idx2], spec2[idx1:idx2], color="tab:orange", label=f"80.Z")
    # ax3.axhline(0, 0, 100, color="darkgrey", ls=":", lw=1)
    sqrt=r"$\sqrt{Hz}$"
    ax3.set_ylabel(f"Spectrum\n{yunit}{sqrt}", fontsize=font)
    ax3.set_xlabel("Frequency (Hz)", fontsize=font, labelpad=0)
    ax3.set_xscale("log")
    ax3.set_yscale("log")
    ax3.set_xlim(fmin, fmax)
    # ax3.legend(ncol=2, loc=8)
    # ax3.set_ylim(-100, 100)
    # ax3.yaxis.set_major_locator(MultipleLocator(50))
    # ax3.yaxis.set_minor_locator(MultipleLocator(10))

    ax4.plot(fcoh1, coh1, color="tab:blue", label=f"HT - 60.Z")
    ax4.plot(fcoh2, coh2, color="tab:orange", label=f"HT - 80.Z")
    ax4.set_ylabel("Coherence", fontsize=font)
    ax4.set_xlabel("Frequency (Hz)", fontsize=font, labelpad=0)
    ax4.set_xscale("log")
    ax4.set_xlim(fmin, fmax)
    # ax4.legend(ncol=2, loc=8)
    ax4.yaxis.set_major_locator(MultipleLocator(0.5))
    ax4.yaxis.set_minor_locator(MultipleLocator(0.1))

    tshift_scale, tshift_unit = 1, "s"

    ll = f"t={round(shift1*tshift_scale*dt, 2)} {tshift_unit}  CC={round(value1, 5)}"
    ax5.plot(cclags*tshift_scale, ccf1, color="tab:blue", label=ll)
    ax5.set_ylabel("CC-Coeff.", fontsize=font)
    ax5.set_xlabel(f"Lag time ({tshift_unit})", fontsize=font, labelpad=0)
    ax5.set_ylim(-1, 1)
    ax5.axvline(shift1*tshift_scale*dt, -1, 1, color="k", ls="--", zorder=0)
    ax5.scatter(shift1*tshift_scale*dt, value1, color="k", marker="d", zorder=0)
    ax5.legend(loc=4)
    # ax5.text(.005, .97, ll, ha='left', va='top', transform=ax3.transAxes, fontsize=font)

    ll = f"t={round(shift2*tshift_scale*dt, 2)} {tshift_unit} CC={round(value2, 5)}"
    ax6.plot(cclags*tshift_scale, ccf2, color="tab:orange", label=ll)
    ax6.set_ylabel("CC-Coeff.", fontsize=font)
    ax6.set_xlabel(f"Lag time ({tshift_unit})", fontsize=font, labelpad=0)
    ax6.set_ylim(-1, 1)
    ax6.axvline(shift2*tshift_scale*dt, -1, 1, color="k", ls="--", zorder=0)
    ax6.scatter(shift2*tshift_scale*dt, value2, color="k", marker="d", zorder=0)
    ax6.legend(loc=4)
    # ax6.text(.005, .97, ll, ha='left', va='top', transform=ax4.transAxes, fontsize=font)


    ax7.scatter(arr0*yscale, arr1_shifted*yscale, color="tab:blue", s=1)
    ax7.plot(xxx, (a1_shifted+b1_shifted*xxx), ls="--", color="k", label=f"a={a1_shifted*yscale:.2f}; b={b1_shifted*yscale:.2f}")
    ax7.set_xlabel(r"Acc. (m/s$^2$)", fontsize=font)
    ax7.set_ylabel(f"Acc. (m/s$^2$)", fontsize=font)
    ax7.legend(loc=4)

    ax8.scatter(arr0*yscale, arr2_shifted*yscale, color="tab:orange", s=1)
    ax8.plot(xxx, (a2_shifted+b2_shifted*xxx), ls="--", color="k", label=f"a={a2_shifted*yscale:.2f}; b={b2_shifted*yscale:.2f}")
    ax8.set_xlabel(r"Acc. (m/s$^2$)", fontsize=font)
    ax8.set_ylabel(f"Acc. (m/s$^2$)", fontsize=font)
    ax8.legend(loc=4)

    for ax in [ax3, ax4, ax5, ax6, ax7, ax8]:
        ax.grid(ls=":", alpha=0.5, zorder=0, color="grey")

    axes = [ax1, ax2, ax3, ax4, ax5, ax6, ax7, ax8]
    for _k, (ax, ll) in enumerate(zip(axes, ['(a)', '(b)', '(c)', '(d)', '(e)', '(f)', '(g)', '(h)'])):
        ax.text(.005, .97, ll, ha='left', va='top', transform=ax.transAxes, fontsize=font+2)

    plt.show();
    return fig

fig = __compare(st2)

fig.savefig(config['path_to_figs']+f"SP_compare_rot_acc_sine_hilbert.png", format="png", dpi=150, bbox_inches='tight')







