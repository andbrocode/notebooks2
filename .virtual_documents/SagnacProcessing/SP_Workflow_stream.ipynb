import numpy as np
import matplotlib.pyplot as plt
import time
import gc
import os

from scipy.signal import resample, hilbert, correlate
from tqdm import tqdm
from obspy import UTCDateTime, read




if os.uname().nodename == 'lighthouse':
    root_path = '/home/andbro/'
    data_path = '/home/andbro/kilauea-data/'
    archive_path = '/home/andbro/freenas/'
    bay_path = '/home/andbro/bay200/'
elif os.uname().nodename == 'kilauea':
    root_path = '/home/brotzer/'
    data_path = '/import/kilauea-data/'
    archive_path = '/import/freenas-ffb-01-data/'
    bay_path = '/bay200/'
elif os.uname().nodename == 'lin-ffb-01':
    root_path = '/home/brotzer/'
    data_path = '/import/kilauea-data/'
    archive_path = '/import/freenas-ffb-01-data/'
    bay_path = '/bay200/'


import sys
sys.path.insert(0, 'submodules')

from MakeplotTraceAndSpectrum import __makeplot_trace_and_spectrum
from MakeplotTraceAndPSD import __makeplot_trace_and_psd
from MakeplotModulatedSignal import __makeplot_modulated_signal


upsampling_rate = 10000

downsampling_rate = 20

path_to_figs = data_path+"SagnacProcessing/figures/"

# tbeg = 
# tend = 

fband = 20 # Hz

fsagnac = 302 # Hz

cut_sec = 20 # seconds


def __hibert_filter2(stt, cut=20, df_out=200):

    '''
    estimating the instantaneous frequency by using the formula of Jo

    sig_in    = input signal
    time_in   = input timeline
    fs        = sampling frequency of digital signal
    '''

    import numpy as np
    from scipy.signal import decimate, detrend, hilbert
    from scipy import fftpack
    from obspy import Stream, Trace

    sig_in = stt[0].data

    df = stt[0].stats.sampling_rate

    ## estimate instantaneous frequency with hilbert
    # analytic_signal = hilbert(sig_in)
    analytic_signal = hilbert(sig_in, fftpack.next_fast_len(len(sig_in)))[:len(sig_in)]

    amplitude_envelope = np.abs(analytic_signal)

    insta_phase = np.unwrap(np.angle(analytic_signal))

    insta_frequency = np.diff(insta_phase) / (2.0*np.pi) * df

    insta_frequency = np.gradient(insta_phase) / (2.0*np.pi) * df

    stt[0].data = insta_frequency

    stt.decimate(2) # 10000 -> 5000
    stt.decimate(5) # 5000 -> 1000
    stt.decimate(5) # 1000 -> 200
    if df_out == 100 or df_out == 20:
        stt.decimate(2) # 200 -> 100
    if df_out == 20:
        stt.decimate(5) # 100 -> 20

    ## cut corrupt start and end
    t1 = stt[0].stats.starttime
    t2 = stt[0].stats.endtime
    stt = stt.trim(t1+cut, t2-cut)

    # remove trend
    stt = stt.detrend("linear")

    return stt


st = read(root_path+"/Downloads/mseed/30min/DROMY_FJU_2023-09-19.mseed")

for tr in st:
    tr.data = tr.data*0.59604645e-6 # V / count  [0.59604645ug  from obsidian]


st = st.detrend("linear")
st = st.taper(0.01)
st = st.filter("bandpass", freqmin=fsagnac-fband, freqmax=fsagnac+fband, corners=4, zerophase=True)

st = st.resample(upsampling_rate, no_filter=True)

stx = __hibert_filter2(st, cut=cut_sec, df_out=downsampling_rate)




stx.plot();


stt =  read(root_path+"/Downloads/mseed/30min/ROMY_BJU_2023-09-19.mseed")

stt = stt.detrend("linear")


t1 = stt[0].stats.starttime
t2 = stt[0].stats.endtime
stt = stt.trim(t1+cut_sec, t2-cut_sec)


stt.plot();


stt, stx


fmin, fmax = 0.001, 0.1

stt = stt.filter("bandpass", freqmin=fmin, freqmax=fmax, corners=4, zerophase=True)
stx = stx.filter("bandpass", freqmin=fmin, freqmax=fmax, corners=4, zerophase=True)

from numpy import roll

for tr in stt:
    tr.data = roll(tr.data, 2)



fig, ax = plt.subplots(3, 1, figsize=(15, 5))

ax[0].plot(stt[0].times(), stt[0].data)
ax[1].plot(stx[0].times(), stx[0].data)
ax[2].plot(stx[0].times(), stx[0].data/max(abs(stx[0].data))-stt[0].data/max(abs(stt[0].data)))




