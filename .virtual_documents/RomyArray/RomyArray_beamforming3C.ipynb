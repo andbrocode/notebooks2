# Use the FDSN webservice:
from obspy.clients.fdsn import Client
ncedc_client = Client("NCEDC")
# Check what's in it:
print(ncedc_client)


inv = ncedc_client.get_stations(network="BP", level="response")
inv = inv.select(channel="BP*")  # The * is a wildcard.
print(inv)


print(inv[0][0][0])


inv.get_coordinates('BP.CCRB..BP1')


from obspy.core import UTCDateTime
search_location = (inv[0][0][0].latitude, inv[0][0][0].longitude)
eqs = ncedc_client.get_events(UTCDateTime("2003-01-01T00:00:00.000"),
                              UTCDateTime("2004-01-01T00:00:00.000"),
                              minmagnitude=6, latitude=search_location[0],
                              longitude=search_location[1], maxradius=10)
print(eqs)
eqs.plot();


sansim = eqs[0]
sansimsource = sansim.origins[0]
print(sansim)
print(sansimsource)


t_start = sansimsource.time
time_span = 130
t_end = t_start + time_span
inv = inv.select(starttime=t_start, endtime=t_end)
print(inv)


from obspy_arraytools.seismic_array import SeismicArray
pfield = SeismicArray('pfield', inventory=inv)
# pfield.plot(projection='global')

from obspy.geodetics import gps2dist_azimuth
gps2dist_azimuth(pfield.center_of_gravity['latitude'],
                 pfield.center_of_gravity['longitude'],
                 sansimsource.latitude, sansimsource.longitude)


all_data = ncedc_client.get_waveforms("BP", "*", "*", "BP*", t_start, t_end)
all_data.attach_response(pfield.inventory)

sampling_rate = all_data.traces[0].stats.sampling_rate
data = all_data.select(npts=time_span * sampling_rate)

data.remove_response(output="vel")
vel = data

freq_range = [0.1, .5]
vel.detrend(type='simple')
vel.filter('bandpass', freqmin=freq_range[0], freqmax=freq_range[1])
print(vel)


pfield.inventory_cull(vel)
# See the updated inventory:
print(pfield.inventory)


[print(st.code, st[0].dip, st[1].azimuth, st[2].azimuth)
 for st in pfield.inventory[0]]





# Split the inventory:
inv2 = pfield.inventory.select(channel="BP2")
inv3 = pfield.inventory.select(channel="BP3")
# Iterate through the stations in both inventories in parallel, choosing
# radial/transverse channels:
for st2, st3 in zip(inv2[0], inv3[0]):
    bp2 = st2[0].azimuth
    bp3 = st3[0].azimuth
    if (bp2 - bp3 == 90) or (bp3 >= 270 and bp2 < 90):
        radial = bp3
    elif (bp3 - bp2 == 90) or (bp2 >= 270 and bp3 < 90):
        radial = bp2
    else:
        raise ValueError("Channels aren't at right angles.")
    back_azimuth = radial - 180 if radial >= 180 else radial + 180
    new_suffixes = ['T', 'R'] if radial == bp3 else ['R', 'T']

    # Streams containing just one trace, for the current station:
    current_stream2 = vel.select(channel='BP2', station=st2.code)
    current_stream3 = vel.select(channel='BP3', station=st3.code)

    # The channel code in the headers of all traces must be changed from e.g.
    # BP2 to BPR:
    for tr, suffix in zip([current_stream2[0], current_stream3[0]],
                          new_suffixes):
        tr.stats.channel = tr.stats.channel[:-1] + suffix

    # Rotate the seismic data. This updates the
    # channel codes of the streams to BPN and BPE.
    combined_streams = current_stream2 + current_stream3
    combined_streams.rotate('RT->NE', back_azimuth)

    # The information in the inventory needs to be updated manually to reflect
    # the new channel orientations and codes. Remember st2 and st3 only contain
    # a single channel each.
    new_N = st2.channels[0] if radial == bp2 else st3.channels[0]
    new_E = st3.channels[0] if radial == bp2 else st2.channels[0]
    new_N.azimuth = 0
    new_N.code = new_N.code[:-1] + 'N'
    new_E.azimuth = 90
    new_E.code = new_E.code[:-1] + 'E'

# Finally, rename the vertical channels in both the data streams and the
# inventory:
for tr in vel.select(channel='BP1'):
    tr.stats.channel = tr.stats.channel[:-1] + 'Z'
for st in pfield.inventory.select(channel='BP1')[0]:
    for ch in st:
        ch.code = ch.code[:-1] + 'Z'


# Define a slowness range in seconds per km:
s_min, s_max, s_step = [0, 0.6, 0.03]
# Define window length in seconds (powers of 2 make for faster Fourier
# transforms):
window_length = 64
# Need separate streams:
vel_n = vel.select(channel='BPN')
vel_e = vel.select(channel='BPE')
vel_z = vel.select(channel='BPZ')
out = pfield.three_component_beamforming(vel_n, vel_e, vel_e, window_length,
                                         s_min, s_max, s_step, wavetype='P',
                                         freq_range=freq_range, whiten=True)


out.plot_bf_plots(show=False)
out.plot_bf_plots(average_windows=False, show=False)
out.plot_baz_hist(show=True)

out.plot_radial_transfer_function()



