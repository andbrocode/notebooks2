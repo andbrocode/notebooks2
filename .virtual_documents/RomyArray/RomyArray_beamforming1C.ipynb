import obspy as obs
import numpy as np
import matplotlib.pyplot as plt

from andbro__write_stream_to_sds import __write_stream_to_sds
from andbro__querrySeismoData import __querrySeismoData

from functions.compute_beamforming_ROMY import __compute_beamforming_ROMY


config = {}

config['tbeg'] = obs.UTCDateTime("2024-03-01 12:00")
config['tend'] = obs.UTCDateTime("2024-03-01 13:00")

# config['seeds'] = [
#                    # 'BW.GELB..HH*',
#                    # 'BW.GRMB..HH*',
#                    # 'BW.ALFT..HH*',
#                    # 'BW.BIB..HH*',
#                    # 'BW.TON..HH*',
#                    'BW.FFB1..HH*',
#                    'BW.FFB2..HH*',
#                    'BW.FFB3..HH*',
#                    'GR.FUR..HH*',
# ]

# specify subarray [ inner, outer, all ]
config['subarray'] = "inner"

# specify component
config['component'] = "Z"


config['path_to_out_data'] = "/home/andbro/Downloads/mseed/array/"



out = __compute_beamforming_ROMY(
                                config['tbeg'],
                                config['tend'],
                                submask=config['subarray'],
                                fmin=0.5,
                                fmax=1.0,
                                component=config['component'],
                                bandpass=True,
                                plot=True,
)






