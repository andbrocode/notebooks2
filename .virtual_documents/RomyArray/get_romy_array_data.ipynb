import os
import obspy as obs
import numpy as np
import matplotlib.pyplot as plt

from andbro__write_stream_to_sds import __write_stream_to_sds
from andbro__querrySeismoData import __querrySeismoData



if os.uname().nodename == 'lighthouse':
    root_path = '/home/andbro/'
    data_path = '/home/andbro/kilauea-data/'
    archive_path = '/home/andbro/freenas/'
    bay_path = '/home/andbro/bay200/'
elif os.uname().nodename == 'kilauea':
    root_path = '/home/brotzer/'
    data_path = '/import/kilauea-data/'
    archive_path = '/import/freenas-ffb-01-data/'
    bay_path = '/bay200/'
elif os.uname().nodename == 'lin-ffb-01':
    root_path = '/home/brotzer/'
    data_path = '/import/kilauea-data/'
    archive_path = '/import/freenas-ffb-01-data/'
    bay_path = '/bay200/'


def __get_stream(seed, tbeg, tend, repository="online"):

    st = obs.Stream()

    invs = []

    print(f" -> loading {seed}...")
    try:
        st0, inv0 = __querrySeismoData(
                                    seed_id=seed,
                                    starttime=tbeg-10,
                                    endtime=tend+10,
                                    repository=repository,
                                    path=None,
                                    restitute=False,
                                    detail=None,
                                    fill_value=None,
                                    )

        st0 = st0.remove_response(inv0, output="VEL", water_level=60)

        st0 = st0.rotate('->ZNE', inventory=inv0)

        st0 = st0.trim(tbeg, tend)

        if len(st0) != 0:
            st += st0

    except Exception as e:
        print(e)
        print(f" -> failed to load data: {seed}")

    return st, invs


config = {}

config['tbeg'] = obs.UTCDateTime("2024-03-11 12:00")
config['tend'] = obs.UTCDateTime("2024-03-11 18:00")

config['tbeg'] = obs.UTCDateTime("2023-03-10 00:00")
config['tend'] = obs.UTCDateTime("2023-03-11 00:00")


config['seeds'] = [
                   # 'BW.GELB..HH*',
                   # 'BW.GRMB..HH*',
                   # 'BW.ALFT..HH*',
                   # 'BW.BIB..HH*',
                   # 'BW.TON..HH*',
                   'BW.FFB1..HH*',
                   'BW.FFB2..HH*',
                   'BW.FFB3..HH*',
                   'GR.FUR..HH*',
]

config['repository'] = "jane"

# config['path_to_out_data'] = "/home/andbro/Downloads/mseed/array/"
# config['path_to_out_data'] = data_path+"VelocityChanges/data/mseed/array/"
config['path_to_out_data'] = archive_path+f"ModalAnalysis/data/SDS/"




st00 = obs.Stream()

for seed in config['seeds']:

    try:
        st0, inv0 = __get_stream(seed, config['tbeg'], config['tend'], repository=config['repository'])

        st00 += st0

        del st0

        # __write_stream_to_sds(st00, config['path_to_out_data'])

    except:
        print(f"-> Error: {seed}")



from andbro__read_sds import __read_sds

__read_sds()


# st.plot(equal_scale=False);


st = st00.copy()

st = st.detrend("simple")

st = st.resample(100, no_filter=False)

st = st.detrend("simple")

st = st.filter("highpass", freq=0.01, corners=4, zerophase=True)

st = st.trim(config['tbeg'], config['tend'], nearest_sample=False)

st.plot(equal_scale=False);


print(st.__str__(extended=True))


# force same starttime for FUR (for geopsy)
for tr in st:
    tr.stats.starttime = obs.UTCDateTime("2024-03-11T12:00:00.000000Z")


st


__write_stream_to_sds(st, config['path_to_out_data'])



