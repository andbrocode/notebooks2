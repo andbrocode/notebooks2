from obspy import * 
from pandas import *
from os import listdir

import os
import netCDF4 as nc
import numpy as np

import matplotlib.pyplot as plt

import warnings
warnings.filterwarnings('ignore')


if os.uname().nodename == 'lighthouse':
    root_path = '/home/andbro/'
    data_path = '/home/andbro/kilauea-data/'
    archive_path = '/home/andbro/freenas/'
elif os.uname().nodename == 'kilauea':
    root_path = '/home/brotzer/'
    data_path = '/import/kilauea-data/'
    archive_path = '/import/freenas-ffb-01-data/'


config = {}

config['workdir'] = data_path+"LNM/"

config['datadir_models'] = config['workdir']+"data/MODELS/"

config['datadir_data'] = config['workdir']+"data/"

config['datadir_final'] = config['workdir']+"data/FINAL/"

config['outdir_figures'] = config['workdir']+"figures_final/"

config['period_lower'] = 2.5
config['period_upper'] = 300


df_gsn = read_csv(config['datadir_models']+"GSN_noise_model.csv", 
              dtype={'period': np.float32, 'minH': np.float32, 'minZ': 'float32'})

df_gsn.sort_values("period", inplace=True)

df_gsn['minH_acc'] = [10**(xx/20) for xx in df_gsn['minH']]
df_gsn['minZ_acc'] = [10**(xx/20) for xx in df_gsn['minZ']]


tmp = np.load(config['datadir_models']+"noise_models.npz")

df_lnm = DataFrame()
df_lnm['periods'], df_lnm['nlnm'], df_lnm['nhnm'] = tmp['model_periods'], tmp['low_noise'], tmp['high_noise']; del tmp

df_lnm['nlnm_acc'] = [10**(xx/20) for xx in df_lnm['nlnm']]
df_lnm['nhnm_acc'] = [10**(xx/20) for xx in df_lnm['nhnm']]


df_bfo_vhz = read_csv(config['datadir_data']+"BFO_VHZ.csv", delimiter=" ",
                      dtype={'period': np.float32, 'minH': np.float32, 'minZ': 'float32'}, names=["f_mhz","db"])

df_bfo_vhz['periods'] = 1 / ( df_bfo_vhz.f_mhz * 1e-3 )
df_bfo_vhz['bhz'] = 10**(df_bfo_vhz.db/10)


df_bfo_vhe = read_csv(config['datadir_data']+"BFO_VHE.csv", delimiter=" ", 
                      dtype={'period': np.float32, 'minH': np.float32, 'minZ': 'float32'}, names=["f_mhz","db"])

df_bfo_vhe['periods'] = 1 / ( df_bfo_vhe.f_mhz * 1e-3 )
df_bfo_vhe['bhe'] = 10**(df_bfo_vhe.db/10)


rayleigh_model = "Rayleigh_Average/RAYLEIGH_vphase_land_only.pkl"
love_model = "Love_Average/LOVE_vphase_land_only.pkl"

vphase_rayl_median = read_pickle(config['workdir']+"data/PHASE_VELOCITY_MODEL/"+rayleigh_model)
vphase_love_median = read_pickle(config['workdir']+"data/PHASE_VELOCITY_MODEL/"+love_model)


def __get_percentiles(arr):
    
    from numpy import zeros, nanpercentile, shape
    
    percentiles_lower = zeros(shape(arr)[1])
    percentiles_upper = zeros(shape(arr)[1])

    for kk in range(shape(arr)[1]):
        out = nanpercentile(arr[:, kk],  [5, 95])
        percentiles_upper[kk] = out[1]
        percentiles_lower[kk] = out[0]
        
    return percentiles_lower, percentiles_upper


df_vphase_rayl = read_pickle(config['datadir_final']+"vphase_land_rayleigh.pkl")

arr = df_vphase_rayl.iloc[:,1:].to_numpy().T

rayl_perc_lower, rayl_perc_upper = __get_percentiles(arr)

df_vphase_love = read_pickle(config['datadir_final']+"vphase_land_love.pkl")
arr = df_vphase_love.iloc[:,1:].to_numpy().T
love_perc_lower, love_perc_upper = __get_percentiles(arr)


data = DataFrame()

data['periods'] = df_lnm['periods']

data['nlnm_acc'] = ( df_lnm['nlnm_acc'] )**2
data['nhnm_acc'] = ( df_lnm['nhnm_acc'] )**2


## phase velocities
data['vphase_rayl_median_interp'] = np.interp(data['periods'], vphase_rayl_median['periods_mod'], vphase_rayl_median['vphase_median'])
data['vphase_love_median_interp'] = np.interp(data['periods'], vphase_love_median['periods_mod'], vphase_love_median['vphase_median'])

## confidence interval Rayleigh
data['vphase_rayl_conf_upper'] = np.interp(data['periods'], df_vphase_rayl['period'], rayl_perc_upper)
data['vphase_rayl_conf_lower'] = np.interp(data['periods'], df_vphase_rayl['period'], rayl_perc_lower)

## confidence interval Love
data['vphase_love_conf_upper'] = np.interp(data['periods'], df_vphase_love['period'], love_perc_upper)
data['vphase_love_conf_lower'] = np.interp(data['periods'], df_vphase_love['period'], love_perc_lower)


data['gsn_minH_acc'] = ( np.interp(data['periods'], df_gsn['period'], df_gsn['minH_acc']) )**2
data['gsn_minZ_acc'] = ( np.interp(data['periods'], df_gsn['period'], df_gsn['minZ_acc']) )**2


data['rot_trans_lnm'] = ( np.sqrt( data['nlnm_acc'] ) / (data['vphase_rayl_median_interp']*1000) )**2
data['rot_trans_hnm'] = ( np.sqrt( data['nhnm_acc'] ) / (data['vphase_rayl_median_interp']*1000) )**2


data['rot_trans_gsn'] = ( np.sqrt( data['gsn_minZ_acc'] ) / (data['vphase_rayl_median_interp']*1000) )**2
data['rot_trans_gsn_conf_lower'] = ( np.sqrt( data['gsn_minZ_acc'] ) / (data['vphase_rayl_conf_upper']*1000) )**2
data['rot_trans_gsn_conf_upper'] = ( np.sqrt( data['gsn_minZ_acc'] ) / (data['vphase_rayl_conf_lower']*1000) )**2

data['rot_vert_gsn'] = ( -0.5* np.sqrt( data['gsn_minH_acc'] ) / (data['vphase_love_median_interp']*1000) )**2
data['rot_vert_gsn_conf_lower'] = ( -0.5* np.sqrt( data['gsn_minH_acc'] ) / (data['vphase_love_conf_upper']*1000) )**2
data['rot_vert_gsn_conf_upper'] = ( -0.5* np.sqrt( data['gsn_minH_acc'] ) / (data['vphase_love_conf_lower']*1000) )**2


data.sort_values("periods", inplace=True)
data.reset_index(drop=True, inplace=True)


def __plot():
    
    N = 3
    font = 14
    
    plim = 580
    
    
    fig, ax = plt.subplots(N, 1, figsize=(15,10), sharex=True)

    plt.subplots_adjust(hspace=0.1)
    
    ## __________________________
    
    ax[0].loglog(data['periods'], data['gsn_minZ_acc'], ls="-.", label="GSN-Z")
    ax[0].loglog(data['periods'], data['gsn_minH_acc'], ls="-.", label="GSN-H")
    ax[0].loglog(data['periods'], data['nlnm_acc'], label="NLNM", ls="-.", color="black")
    ax[0].loglog(data['periods'], data['nhnm_acc'], label="NHNM", ls=":", color="black")
    

    ax[0].set_ylabel("PSD (m$^2$ /s$^2$ /Hz )", fontsize=font)
 
    ax[0].set_ylim(1e-20, 1e-9)
    
    ## __________________________
    
    ax[1].semilogx(data['periods'][:plim], data['vphase_love_median_interp'][:plim], label="Love phase velocity", color="darkgreen")
    ax[1].fill_between(data['periods'][:plim], data['vphase_love_conf_lower'][:plim], data['vphase_love_conf_upper'][:plim], color="darkgreen", alpha=0.3, zorder=0)

    ax[1].semilogx(data['periods'][:plim], data['vphase_rayl_median_interp'][:plim], label="Rayleigh phase velocity", color="purple")
    ax[1].fill_between(data['periods'][:plim], data['vphase_rayl_conf_lower'][:plim], data['vphase_rayl_conf_upper'][:plim], color="purple", alpha=0.3, zorder=0)

    
    ax[1].set_ylabel("Phase Velocity (km/s)", fontsize=font)
    
    ## __________________________
    
    ax[2].loglog(data['periods'][:plim], data['rot_trans_gsn'][:plim], label=r"RLNM-T$_{GSN-Z}$")
    ax[2].loglog(data['periods'][:plim], data['rot_vert_gsn'][:plim], label=r"RLNM-V$_{GSN-H}$")
    
    ax[2].loglog(data['periods'][:plim], data['rot_trans_lnm'][:plim], color="black", label="RLNM-T$_{NLNM}$")
    ax[2].loglog(data['periods'][:plim], data['rot_trans_hnm'][:plim], color="black", label="RHNM-T$_{NHNM}$", ls=":")
    
    ax[2].fill_between(data['periods'][:plim], data['rot_vert_gsn_conf_lower'][:plim], data['rot_vert_gsn_conf_upper'][:plim], color="orange", alpha=0.3)
    ax[2].fill_between(data['periods'][:plim], data['rot_trans_gsn_conf_lower'][:plim], data['rot_trans_gsn_conf_upper'][:plim], color="blue", alpha=0.3)

    
    
    ax[2].set_ylim(1e-28, 1e-16)

    ax[2].set_ylabel("PSD (rad$^2$ /s$^2$ /Hz )", fontsize=font)
    ax[2].set_xlabel("Period (s)", fontsize=font)
    
    for i in range(N):
        ax[i].grid(ls=":", zorder=-1, alpha=0.8, which="both")
        ax[i].tick_params(axis='x', labelsize=10)
        ax[i].tick_params(axis='y', labelsize=10)

    ax[0].text(.01, .99, '(a)', ha='left', va='top', transform=ax[0].transAxes, fontsize=font+2)
    ax[1].text(.01, .99, '(b)', ha='left', va='top', transform=ax[1].transAxes, fontsize=font+2)
    ax[2].text(.01, .99, '(c)', ha='left', va='top', transform=ax[2].transAxes, fontsize=font+2)
    
    ax[0].legend(fontsize=font-3, loc=1, ncol=4)
    ax[1].legend(fontsize=font-3, loc=4)        
    ax[N-1].legend(fontsize=font-3, loc=1, ncol=2)
    
    ax[N-1].set_xlim(2, 2e2)
    
#     from matplotlib import ticker as mticker
#     ax[2].yaxis.set_minor_locator(mticker.LogLocator(numticks=999, subs=[0.1,0.5]))
    
    plt.show();
    return fig

fig = __plot()


from andbro__savefig import __savefig

__savefig(fig,  config['outdir_figures'], "TLNM_to_RLNM_withGSN", mode="png", dpi=100)


data_out = data.copy()

data_out['frequencies'] = 1/data_out['periods']
data_out.rename(columns={'rot_trans_lnm':'nlnm_rot_rate'}, inplace=True)
data_out.rename(columns={'rot_trans_hnm':'nhnm_rot_rate'}, inplace=True)


data_out


fname = "TLNM_to_RLNM.csv"

data_out.to_csv(config['datadir_final']+fname, sep=",")
print(f" -> writing to {config['datadir_final']}{fname}")


fname = "RLNM_manuscript.csv"

data_out2 = DataFrame()
data_out2['periods'] = data_out['periods']
data_out2['nlnm_rot_rate'] = data_out['nlnm_rot_rate']
data_out2['nhnm_rot_rate'] = data_out['nhnm_rot_rate']

data_out2[::5]

# data_out2.to_csv(config['datadir_final']+fname, sep=",")
data_out2.to_csv("~/Desktop/"+fname, sep=",")

print(f" -> writing to {config['datadir_final']}{fname}")


df0 = data[:510]

dfx = df0.copy()

df1 = dfx[:250:15]
df2 = dfx[250:400:4]
df3 = dfx[400:510:15]

dfx = concat([df1, df2, df3])

dfx.shape

plt.loglog(df0['periods'], df0['rot_trans_lnm'])

plt.loglog(dfx['periods'], dfx['rot_trans_lnm'])


plt.loglog(df0['periods'], df0['rot_trans_lnm'])

plt.loglog(dfx['periods'], dfx['rot_trans_lnm'].iloc[0])



