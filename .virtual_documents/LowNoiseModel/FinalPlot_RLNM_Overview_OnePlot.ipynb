from obspy import *
from pandas import *
from os import listdir
# from scipy.stats import median_absolute_deviation as mad

import os
import pickle
import netCDF4 as nc
import numpy as np
import matplotlib.pyplot as plt

import warnings
warnings.filterwarnings('ignore')


if os.uname().nodename == 'lighthouse':
    root_path = '/home/andbro/'
    data_path = '/home/andbro/kilauea-data/'
    archive_path = '/home/andbro/freenas/'
elif os.uname().nodename == 'kilauea':
    root_path = '/home/brotzer/'
    data_path = '/import/kilauea-data/'
    archive_path = '/import/freenas-ffb-01-data/'


def __cut_frequencies_dataframe(df_psd, fmin, fmax):
    ind = []
    for i,f in enumerate(df_psd['frequencies']):
        if f >= fmin and f <= fmax:
            ind.append(i)

    df = df_psd.iloc[ind[0]:ind[-1],:]

    return df


def __conversion(data, informat=None, outformat=None):
    '''
    data:                  array 
    informat/outformat:    ASD, PSD, DB
    '''
    from numpy import log10, sqrt


    if informat == 'ASD' and outformat == 'PSD':
        return data**2

    elif informat == 'PSD' and outformat == 'ASD':
        return sqrt(data)

    elif informat == 'ASD' and outformat == 'DB':
        return 10*log10(data)

    elif informat == 'PSD' and outformat == 'DB':
        return 10*log10(data)

    elif informat == 'DB' and outformat == 'PSD':
        return 10**(data/10)

    elif informat == 'DB' and outformat == 'ASD':
        return sqrt(10**(data/10))

    else:
        print(" -> specified case not defined!")


config = {}

config['workdir'] = data_path+"LNM/data/"

config['year'] = "2018"

config['datadir_spectra'] = config['workdir']+config['year']+"/"

# config['outdir_figures'] = root_path+"Documents/ROMY/LowNoiseModel/figures/finalfinal/"
config['outdir_figures'] = data_path+"LNM/figures_final/"

config['spectra_files'] = listdir(config['datadir_spectra'])

# config['outdir'] = config['workdir']+"STATS/"


rlnm = read_csv(config['workdir']+"MODELS/"+"rlnm_theory.csv")

periods = rlnm['period']
rlnm_psd = rlnm['rlnm_psd_median']
rlnm_psd_max = rlnm['rlnm_psd_maximum']
rlnm_upper_psd = rlnm['rlnm_psd_upper']
rlnm_lower_psd = rlnm['rlnm_psd_lower']


rlnm_db       = __conversion(rlnm_psd, informat='PSD', outformat='DB')
rlnm_upper_db = __conversion(rlnm_upper_psd, informat='PSD', outformat='DB')
rlnm_lower_db = __conversion(rlnm_lower_psd, informat='PSD', outformat='DB')


rlas = read_pickle(config['workdir']+"STATS/"+"2019_RLAS-Z_hours_stats.pkl")


rlas_select = read_pickle(config['workdir']+"STATS/"+"2019_RLAS-Z_hours_select_stats.pkl")


romy_z = read_pickle(config['workdir']+"STATS/"+"2019_ROMY-Z_hours_stats.pkl")


romy_z_select = read_pickle(config['workdir']+"STATS/"+"2019_ROMY-Z_hours_select_stats.pkl")


# romy_u = read_pickle(config['workdir']+"STATS/"+"2019_ROMY-U_hours_stats.pkl")
# romy_v = read_pickle(config['workdir']+"STATS/"+"2019_ROMY-V_hours_stats.pkl")
# romy_w = read_pickle(config['workdir']+"STATS/"+"2019_ROMY-W_hours_stats.pkl")


path = data_path+f"LNM2/data/"

romy_u = read_pickle(path+"2023_ROMY_U_psd_median.pkl")
romy_v = read_pickle(path+"2023_ROMY_V_psd_median.pkl")


data_pfo_N = "run_2019_RPFO-N_3600/run_2019_RPFO-N_3600_stats_mod.pkl"
data_pfo_E = "run_2019_RPFO-E_3600/run_2019_RPFO-E_3600_stats_mod.pkl"
data_pfo_Z = "run_2019_RPFO-Z_3600/run_2019_RPFO-Z_3600_stats_mod.pkl"

PFO_N = read_pickle(config['workdir']+"FINAL/"+data_pfo_N)
PFO_E = read_pickle(config['workdir']+"FINAL/"+data_pfo_E)
PFO_Z = read_pickle(config['workdir']+"FINAL/"+data_pfo_Z)

fmin, fmax = 1/50, 1.0
PFO_N_all = __cut_frequencies_dataframe(PFO_N, fmin, fmax)
PFO_E_all = __cut_frequencies_dataframe(PFO_E, fmin, fmax)
PFO_Z_all = __cut_frequencies_dataframe(PFO_Z, fmin, fmax)

fmin, fmax = 0.00238*3800/730, 0.25*3800/730
PFO_N = __cut_frequencies_dataframe(PFO_N_all, fmin, fmax)
PFO_E = __cut_frequencies_dataframe(PFO_E_all, fmin, fmax)
PFO_Z = __cut_frequencies_dataframe(PFO_Z_all, fmin, fmax)


GRF_array = "GRF"

data_grf_N = f"run_2019_RGRF-N_3600_{GRF_array}/run_2019_RGRF-N_3600_{GRF_array}_stats_mod.pkl"
data_grf_E = f"run_2019_RGRF-E_3600_{GRF_array}/run_2019_RGRF-E_3600_{GRF_array}_stats_mod.pkl"
data_grf_Z = f"run_2019_RGRF-Z_3600_{GRF_array}/run_2019_RGRF-Z_3600_{GRF_array}_stats_mod.pkl"

GRF_N_all = read_pickle(config['workdir']+"FINAL/"+data_grf_N)
GRF_E_all = read_pickle(config['workdir']+"FINAL/"+data_grf_E)
GRF_Z_all = read_pickle(config['workdir']+"FINAL/"+data_grf_Z)

fmin, fmax = 0.03*3800/17851, 0.25*3800/17851
GRF_N = __cut_frequencies_dataframe(GRF_N_all, fmin, fmax)
GRF_E = __cut_frequencies_dataframe(GRF_E_all, fmin, fmax)
GRF_Z = __cut_frequencies_dataframe(GRF_Z_all, fmin, fmax)


ssm = read_pickle(config['workdir']+"STATS/"+"station_2019_derived_rlnm.pkl")

## cutoff first samples
ssm = ssm.iloc[:-10, :]

ssm['frequencies'] = 1/ssm['period']

fmin, fmax = 1/200, 3.0
ssm = __cut_frequencies_dataframe(ssm, fmin, fmax)

ssm_period = ssm['period']
ssm_median_psd = ssm['median']
ssm_minimal_psd = ssm['minimal']

ssm_median_psd = __conversion(ssm['median'], informat="ASD", outformat="PSD")
ssm_minimal_psd = __conversion(ssm['minimal'], informat="ASD", outformat="PSD")


# romy_v = read_pickle(config['workdir']+"STATS/"+"2022_ROMY-V_stats.pkl")

# romy_v_median_psd = romy_v['psds_median']
# romy_v_minimal_psd = romy_v['psds_minimal']


datapath = data_path+"ROMY/RotationSpectra/data/"

RMY_ADR_Z = read_pickle(datapath+"run_2019_ROMY_ADR-Z_3600_all/run_2019_ROMY_ADR-Z_3600_all_stats.pkl")
RMY_ADR_N = read_pickle(datapath+"run_2019_ROMY_ADR-N_3600_all/run_2019_ROMY_ADR-N_3600_all_stats.pkl")
RMY_ADR_E = read_pickle(datapath+"run_2019_ROMY_ADR-E_3600_all/run_2019_ROMY_ADR-E_3600_all_stats.pkl")

## cut at 50 seconds
RMY_ADR_Z = RMY_ADR_Z[RMY_ADR_Z['frequencies'] > 1/40]
RMY_ADR_N = RMY_ADR_N[RMY_ADR_N['frequencies'] > 1/40]
RMY_ADR_E = RMY_ADR_E[RMY_ADR_E['frequencies'] > 1/40]

RMY_ADR_Z_median_psd = RMY_ADR_Z['median']
RMY_ADR_N_median_psd = RMY_ADR_N['median']
RMY_ADR_E_median_psd = RMY_ADR_E['median']

RMY_ADR_Z_minimal_psd = RMY_ADR_Z['minimal']
RMY_ADR_N_minimal_psd = RMY_ADR_N['minimal']
RMY_ADR_E_minimal_psd = RMY_ADR_E['minimal']



with open(config['workdir']+"MODELS/"+"RLNM_distribution.pkl", 'rb') as f:
    output = pickle.load(f)


def __plot_rlnm_median_overview():

    font = 14

    fig, ax = plt.subplots(1, 1, figsize=(15, 8))

    ## add Frequency Axis
    g = lambda x: 1/x
    ax2 = ax.secondary_xaxis("top", functions=(g, g))
    ax2.set_xlabel("Frequency (Hz)", fontsize=font, labelpad=5)
    ax2.set_xticklabels(1/periods, fontsize=11)

    ## single stations model
#     plt.plot(ssm_period, ssm_median_psd, color="purple", zorder=2, label="Single-Stations 2019")


    ## PFO ADR data
#     lim_n, lim_e, lim_z = 17, 17, 80
#     plt.plot(1/PFO_N['frequencies'][lim_n:], PFO_N['median'][lim_n:],  color="darkgreen", zorder=2, label="PFO ADR-N 2019")
#     plt.plot(1/PFO_E['frequencies'][lim_e:], PFO_E['median'][lim_e:], color="yellowgreen", zorder=2, label="PFO ADR-E 2019")
#     plt.plot(1/PFO_Z['frequencies'][lim_z:], PFO_Z['median'][lim_z:], color="olive", zorder=2, label="PFO ADR-Z 2019")

#     plt.plot(1/PFO_N['frequencies'][:lim_n], PFO_N['median'][:lim_n], ls="--", color="darkgreen", zorder=2)
#     plt.plot(1/PFO_E['frequencies'][:lim_e], PFO_E['median'][:lim_e], ls="--", color="yellowgreen", zorder=2)
#     plt.plot(1/PFO_Z['frequencies'][:lim_z], PFO_Z['median'][:lim_z], ls="--", color="olive", zorder=2)


    ## GRF ADR data
#     lim_n, lim_e, lim_z = 13, 13, 40
#     plt.plot(1/GRF_N['frequencies'][lim_n:], GRF_N['median'][lim_n:], color="sienna", zorder=2, label=f"{GRF_array} ADR-N 2019")
#     plt.plot(1/GRF_E['frequencies'][lim_e:], GRF_E['median'][lim_e:], color="tan", zorder=2, label=f"{GRF_array} ADR-E 2019")
#     plt.plot(1/GRF_Z['frequencies'][lim_z:], GRF_Z['median'][lim_z:], color="indianred", zorder=2, label=f"{GRF_array} ADR-Z 2019")

#     plt.plot(1/GRF_N['frequencies'][:lim_n], GRF_N['median'][:lim_n], ls="--", color="sienna", zorder=2)
#     plt.plot(1/GRF_E['frequencies'][:lim_e], GRF_E['median'][:lim_e], ls="--", color="tan", zorder=2)
#     plt.plot(1/GRF_Z['frequencies'][:lim_z], GRF_Z['median'][:lim_z], ls="--", color="indianred", zorder=2)

#     lim1, lim2 = 20, 190
#     plt.plot(1/GRF_N_all['frequencies'][lim1:lim2], GRF_N_all['median'][lim1:lim2], ls=":", color="sienna", zorder=1, alpha=0.7)
#     plt.plot(1/GRF_E_all['frequencies'][lim1:lim2], GRF_E_all['median'][lim1:lim2], ls=":", color="tan", zorder=1, alpha=0.7)
#     plt.plot(1/GRF_Z_all['frequencies'][lim1:lim2], GRF_Z_all['median'][lim1:lim2], ls=":", color="indianred", zorder=1, alpha=0.7)

    ## ROMY ADR data 2019
#     lim_n, lim_e, lim_z = 15, 15, 80
#     plt.plot(1/RMY_ADR_N['frequencies'][lim_n:], RMY_ADR_N['median'][lim_n:], color="darkcyan", zorder=2, label="ROMY ADR-N 2019")
#     plt.plot(1/RMY_ADR_E['frequencies'][lim_e:], RMY_ADR_E['median'][lim_e:], color="skyblue", zorder=2, label="ROMY ADR-E 2019")
#     plt.plot(1/RMY_ADR_Z['frequencies'][lim_z:], RMY_ADR_Z['median'][lim_z:], color="cadetblue", zorder=2, label="ROMY ADR-Z 2019")

#     plt.plot(1/RMY_ADR_N['frequencies'][:lim_n], RMY_ADR_N['median'][:lim_n], ls="--", color="darkcyan", zorder=2)
#     plt.plot(1/RMY_ADR_E['frequencies'][:lim_e], RMY_ADR_E['median'][:lim_e], ls="--", color="skyblue", zorder=2)
#     plt.plot(1/RMY_ADR_Z['frequencies'][:lim_z], RMY_ADR_Z['median'][:lim_z], ls="--", color="cadetblue", zorder=2)

    ## romy data
    plt.plot(1/romy_z['frequencies'], romy_z['psds_median'], color="orange", zorder=4, label="ROMY-Z 2019")
    # plt.plot(1/romy_z_select['frequencies'], romy_z_select['psds_median'], color="orange", ls="--", zorder=3, label="ROMY-Z 2019 select")

    ## romy others
    plt.plot(1/romy_u['frequencies'], romy_u['psds_median'], color="purple", zorder=2, label="ROMY-U 2023")
    plt.plot(1/romy_v['frequencies'], romy_v['psds_median'], color="pink", zorder=2, label="ROMY-V 2023")
    # plt.plot(1/romy_w['frequencies'], romy_w['psds_median'], color="orchid", zorder=2, label="ROMY-W 2023")

    ## rlas data
    plt.plot(1/rlas['frequencies'], rlas['psds_median'], color="blue", zorder=4, label="G-ring 2019")
    # plt.plot(1/rlas_select['frequencies'], rlas_select['psds_median'], color="blue", ls="--", zorder=3, label="G-ring 2019 select")

    ## theoretical rlnm
    plt.plot(periods, rlnm_psd, color="black", zorder=2, lw=2, ls="--", label="RLNM")


    y_axis = 10**(output['bin_mids']/10)
    x_axis = output['period']

    ## plotting

    cmap = plt.cm.get_cmap('magma_r')
#     cmap = plt.cm.get_cmap('gray_r')
    cmap.set_under(color='white')

    im = plt.pcolor(x_axis, y_axis, output['dist'].T,
                    cmap=cmap,
                    vmin=1e-12,
                    alpha=0.99,
                   )

    ## add RLNM median
    # medians = 10**(output['bins_medians']/10)
    # plt.plot(output['period'], medians, color="black", zorder=2, lw=0.5, alpha=0.8, ls=":", label="median")

    ## add RLNM minima
    minimas = 10**(output['bins_minimum']/10)
#     plt.plot(output['period'], minimas, color="black", zorder=2, lw=1.5, alpha=0.8, label="RLNM")


    plt.xscale("log")
    plt.yscale("log")

    plt.xlim(1, 200)

    ymin, ymax = 1e-26, 2e-19

    plt.ylim(ymin, ymax)

#     plt.fill_betweenx(np.linspace(ymin,ymax,5), x1=0, x2=2.5, color="lightgrey", alpha=0.4, zorder=2)
#     plt.fill_betweenx(np.linspace(ymin-10,ymax+10,5), x1=100, x2=300, color="lightgrey", alpha=0.4, zorder=2)

    plt.tick_params(axis='both', labelsize=font-1)

    plt.grid(axis="both", which="both", ls="--", zorder=0)
    plt.legend()

    plt.xlabel("Period (s)", fontsize=font)
    plt.ylabel(r"PSD ($rad^2 /s^2 /Hz$)", fontsize=font)

    ## add colorbar
    cbar_ax = fig.add_axes([0.91, 0.125, 0.02, 0.755]) #[left, bottom, width, height]
    cb = plt.colorbar(im, cax=cbar_ax)
    cb.set_label("Propability Density", fontsize=font, labelpad=-40, color="white")

    plt.show();
    return fig


fig = __plot_rlnm_median_overview()


fig.savefig(config['outdir_figures']+"RLNM_OnePlot_ringlaser_all"+".jpeg", format="jpeg", bbox_inches="tight", dpi=150, transparent=None)


# fig.savefig(config['outdir_figures']+"Sequence/"+"Model_Data_Overview_Median_PSD_Distribution_SEQ5"+".png", fmt="png", bbox_inches="tight", dpi=300, transparent=None)

# fig.savefig(config['outdir_figures']+"Model_Data_Overview_Median_PSD_Distribution_ringlaser"+".png", fmt="png", bbox_inches="tight", dpi=300, transparent=None)


def __plot_rlnm_minimal_overview():

    font = 14

    fig, ax = plt.subplots(1, 1, figsize=(15, 8))

    ## add Frequency Axis
    g = lambda x: 1/x
    ax2 = ax.secondary_xaxis("top", functions=(g, g))
    ax2.set_xlabel("Frequency in Hz", fontsize=font, labelpad=5)
    ax2.set_xticklabels(1/periods, fontsize=11)

    ## single stations model
#     plt.plot(ssm_period, ssm_minimal_psd, color="purple", zorder=2, label="Single-Stations 2019")


    ## PFO data
#     plt.plot(1/PFO_N['frequencies'], PFO_N_minimal_psd, color="darkgreen", zorder=2, label="PFO ADR-N 2019")
#     plt.plot(1/PFO_E['frequencies'], PFO_E_minimal_psd, color="yellowgreen", zorder=2, label="PFO ADR-E 2019")
#     plt.plot(1/PFO_Z['frequencies'], PFO_Z_minimal_psd, color="olive", zorder=2, label="PFO ADR-Z 2019")

    ## ROMY ADR data 2022
#     plt.plot(romy_adr_z['frequencies'], romy_adr_z_minimal_psd, color="cadetblue", zorder=2, label="ROMY ADR-Z")
#     plt.plot(romy_adr_n['frequencies'], romy_adr_n_minimal_psd, color="darkcyan", zorder=2, label="ROMY ADR-N")
#     plt.plot(romy_adr_e['frequencies'], romy_adr_e_minimal_psd, color="skyblue", zorder=2, label="ROMY ADR-E")

    ## ROMY ADR data 2019
#     plt.plot(1/RMY_ADR_Z['frequencies'], RMY_ADR_Z_minimal_psd, color="cadetblue", zorder=2, label="ROMY ADR-Z 2019")
#     plt.plot(1/RMY_ADR_N['frequencies'], RMY_ADR_N_minimal_psd, color="darkcyan", zorder=2, label="ROMY ADR-N 2019")
#     plt.plot(1/RMY_ADR_E['frequencies'], RMY_ADR_E_minimal_psd, color="skyblue", zorder=2, label="ROMY ADR-E 2019")


    ## romy data
    plt.plot(1/romy_z['frequencies'], romy_z['psds_minimal'], color="orange", zorder=2, label="ROMY-Z 2019")

    # romy data 2022 march
#     plt.plot(romy_2022['frequencies'], romy_2022_median_psd, color="pink", zorder=2, label="ROMY-Z 2022")

    ## romy others
    plt.plot(1/romy_u['frequencies'], romy_u['psds_minimal'], color="pink", zorder=2, label="ROMY-U 2022")
    plt.plot(1/romy_v['frequencies'], romy_v['psds_minimal'], color="hotpink", zorder=2, label="ROMY-V 2022")
    plt.plot(1/romy_w['frequencies'], romy_w['psds_minimal'], color="orchid", zorder=2, label="ROMY-W 2022")

    ## rlas data
    plt.plot(1/rlas['frequencies'], rlas['psds_minimal'], color="blue", zorder=2, label="RLAS 2019")

    ## theoretical rlnm
#     plt.plot(periods, rlnm_minimal_psd, color="black", zorder=2, lw=2, label="RLNM")


    y_axis = 10**(output['bin_mids']/10)
    x_axis = output['period']

    ## plotting

    cmap = plt.cm.get_cmap('magma_r')
#     cmap = plt.cm.get_cmap('gray_r')
    cmap.set_under(color='white')

    im = plt.pcolor(x_axis, y_axis, output['dist'].T,
                    cmap=cmap,
                    vmin=1e-12,
                    alpha=0.99,
                   )

    ## add medians 
    medians = 10**(output['bins_medians']/10)
#     plt.plot(output['period'], medians, color="black", zorder=2, lw=0.5, alpha=0.8, ls=":", label="median")

    ## add minimas 
    minimas = 10**(output['bins_minimum']/10)
    plt.plot(output['period'], minimas, color="black", zorder=2, lw=1.5, alpha=0.8, label="RLNM")


    ## add colorbar
    caxes = fig.add_axes()
    cb = plt.colorbar(im, cax=caxes, alpha=1.0)
    cb.set_label("Propability Density", fontsize=font)


    plt.xscale("log")
    plt.yscale("log")

    plt.xlim(1, 300)

    ymin, ymax = 1e-26, 5e-20
    plt.ylim(ymin, ymax)

    plt.fill_betweenx(np.linspace(ymin,ymax,5), x1=0, x2=2.5, color="lightgrey", alpha=0.4, zorder=2)
    plt.fill_betweenx(np.linspace(ymin-10,ymax+10,5), x1=100, x2=300, color="lightgrey", alpha=0.4, zorder=2)


    plt.grid(axis="both", which="both", ls="--", zorder=0)
    plt.legend()

    plt.xlabel("Period in seconds", fontsize=font)
    plt.ylabel(r"PSD in $\frac{rad^2}{s^2 Hz}$",fontsize=font)

    plt.show();
    return fig

# fig = __plot_rlnm_minimal_overview()




# fig.savefig(config['outdir_figures']+"Sequence/"+"Model_Data_Overview_Minimal_PSD_Distribution_SEQ5"+".png", fmt="png", bbox_inches="tight", dpi=300, transparent=None)

# fig.savefig(config['outdir_figures']+"Model_Data_Overview_Minimal_PSD_Distribution_ringlaser"+".png", fmt="png", bbox_inches="tight", dpi=300, transparent=None)






