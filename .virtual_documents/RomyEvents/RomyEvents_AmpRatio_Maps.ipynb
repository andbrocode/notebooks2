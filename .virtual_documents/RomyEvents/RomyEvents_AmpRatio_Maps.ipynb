import os
import obspy as obs
import matplotlib.pyplot as plt
import numpy as np
import pandas as pd


if os.uname().nodename == 'lighthouse':
    root_path = '/home/andbro/'
    data_path = '/home/andbro/kilauea-data/'
    archive_path = '/home/andbro/freenas/'
    bay_path = '/home/andbro/bay200/'
elif os.uname().nodename == 'kilauea':
    root_path = '/home/brotzer/'
    data_path = '/import/kilauea-data/'
    archive_path = '/import/freenas-ffb-01-data/'
    bay_path = '/bay200/'
elif os.uname().nodename == 'lin-ffb-01':
    root_path = '/home/brotzer/'
    data_path = '/import/kilauea-data/'
    archive_path = '/import/freenas-ffb-01-data/'
    bay_path = '/bay200/'


config = {}

# path to data
config['path_to_data'] = data_path+"romy_events/data/"

config['path_to_figs'] = data_path+"romy_events/figures/"

# specify event file
config['eventfile'] = "ROMYevents_2020_2023_status.csv"
config['eventfile'] = "ROMYevents_2019_2024_status.csv"

# specify catalog
config['catalogfile'] = "catalogs/ROMY_global_catalog_20200101_20231231.pkl"

# ROMY coordinates
config['sta_lon'] = 11.275501
config['sta_lat'] = 48.162941



select_z =  pd.read_pickle(config['path_to_data']+config['eventfile'].split('.')[0]+"_select_z.pkl")


def __makeplot_mag_hdist(data1):

    import matplotlib


    # vmin, vmax = min([min(max_rot1), min(max_rot2), min(max_rot3)]), max([max(max_rot1), max(max_rot2), max(max_rot3)])
    vmin, vmax = 1, 100

    fig, ax = plt.subplots(1, 1, figsize=(15, 5))

    font = 14

    cmap = plt.get_cmap("viridis", 10)

    cax = ax.scatter(data1.distances_km, data1.magnitude, s=40, marker="o",
                     c=data1.depth_km, cmap=cmap, zorder=2,
                     label=f"Events M>6 (N={len(data1)})",
                     vmin=vmin, vmax=vmax, edgecolors="black")


    ax.grid(ls="--", color="grey", alpha=0.6, zorder=0, which="both")
    ax.legend(loc=2, fontsize=font-1)

    ax.set_ylabel("Magnitude", fontsize=font)
    ax.set_xlabel("Hypocentral Distance (km)", fontsize=font)

    ax.set_xscale("log")
    # ax.set_xlim(left=7)

    cbar = plt.colorbar(cax, pad=0.02)
    # cbar.set_label(r"log$_{10}$(max. rotation rate) (rad/s)", fontsize=font)
    cbar.set_label(r"Depth (km)", fontsize=font)

    ax.set_xticks([1500, 2000, 3000, 4000, 5000, 20000])
    ax.get_xaxis().set_major_formatter(matplotlib.ticker.ScalarFormatter())

    plt.show()
    return fig


fig = __makeplot_mag_hdist(select_z);

fig.savefig(config['path_to_figs']+"RomyEvents_Mag_Dist_Z.png", format="png", dpi=150, bbox_inches='tight')



select_z.time_utc.min()


def __plot_timeline(df0):

    from obspy import UTCDateTime

    fig, ax = plt.subplots(1, 1, figsize=(15, 5))

    cmap = plt.get_cmap('rainbow', 7)

    cax = ax.scatter(df0.timestamp, df0.distances_km, s=2**df0.magnitude,
                     c=df0.magnitude, alpha=0.6, cmap=cmap, zorder=2)


    cbar = plt.colorbar(cax, ax=ax, pad=0.01)
    cbar.set_label("Magnitude", fontsize=14)
    cax.set_clim(6, 9.5)

    ax.set_ylim(bottom=0)
    ax.set_ylabel("Epicentral Distance (km)", fontsize=14)

    ax.grid(ls=":", zorder=-1)


    t1 = UTCDateTime(df0.time_utc.min())
    t2 = UTCDateTime(df0.time_utc.max())

    ax.set_xlim(t1-15*86400, t2+15*86400)

    ax.text(t2-10*86400, df0.distances_km.max(), f"Events={len(df0)}", ha="right")

    plt.show();
    return fig


fig = __plot_timeline(select_z)

fig.savefig(config['path_to_figs']+"RomyEvents_timeline_Z.png", dpi=150, bbox_inches="tight", pad_inches=0.05)



def __polar_plot(data1):

    r1 = data1.distances_km

    theta1 = np.radians(data1.backazimuth)


    import matplotlib
    cmap = matplotlib.colors.ListedColormap(["tab:red", "tab:orange", "tab:green"])


    data1.sort_values(by="magnitude")

    fig, ax = plt.subplots(subplot_kw={'projection': 'polar'}, figsize=(8, 8))

    ax.set_theta_offset(np.pi/2)
    ax.set_theta_direction(-1)

    # ax.scatter(theta1, r1, s=2**data1.magnitude, c=data1.depth_km, cmap=cmap, zorder=2, edgecolors="k", alpha=0.7)
    ax.scatter(theta1, r1, s=2**data1.magnitude, zorder=2, edgecolors="k", alpha=0.7)

    # station location
    ax.scatter(0, 0, zorder=3, s=100, marker='^', c="r", lw=0.8, edgecolors="k")

    # specify maximum radial value
#     ax.set_rmax(2)

#     ax.set_rticks([0.5, 1, 1.5, 2])  # Less radial ticks
    ax.set_rlabel_position(-42.5)  # Move radial labels away from plotted line
    ax.grid(True, zorder=0)

    ax.set_title("", va='bottom')
    plt.show()
    return fig


__polar_plot(select_z);


select_z.shape


def __makeplot_polarmap(config, data1):

    import pygmt

    reg = [-170, 170, -80, 80]

    scale = "8c"

    proj = f"E{config['sta_lon']}/{config['sta_lat']}/180/{scale}"

    resolution = "03s"

    ## __________________________________________

    fig = pygmt.Figure()

    fig.coast(projection=proj, region=reg, land="grey")

    fig.coast(shorelines=True, frame=True)

    fig.basemap(
                region=[0, 360, 0, 10],
                projection=f"P{scale}+a",
                frame=["xa45fg45", "yg2", "+t"],
    )


    # make color pallets
#     cmap = pygmt.makecpt(cmap='etopo1', series='-7999/5000/1000', continuous=True)

#     ## define etopo data file
#     topo_data = pygmt.datasets.load_earth_relief(resolution=resolution, region=reg)


#     ##plot high res topography
#     fig.grdimage(
#         grid=topo_data,
#         region=reg,
#         projection=proj,
#         shading=True,
#         cmap = cmap,
#         frame=True,
#         nan_transparent=True
#     )

#     wet = topo_data * pygmt.grdlandmask(region=reg,  spacing=resolution, maskvalues=[1, "NaN"], resolution="f")

#     fig.grdimage(
#         grid=wet,
#         region=reg,
#         projection=proj,
#         shading=True,
#         cmap='seafloor',
#         frame=True,
#         nan_transparent=True
#     )

#     fig.coast(shorelines=True, borders="1/0.4p,black,solid", frame=False)

#     ## colorbar colormap
#     # cmap = pygmt.makecpt(cmap="viridis", series=[data1.magnitude.min(), data1.magnitude.max()])
#     # cmap = pygmt.makecpt(cmap="viridis", series=[data1.seconds.min(), data1.seconds.max()])
#     cmap = pygmt.makecpt(cmap="viridis", series=[data1.depth.min()/1000, data1.depth.max()/1000])

#     ## add fault lines
#     for n in range(faults.shape[0]):
#         try:
#             xx, yy = faults.geometry[n].coords.xy
#             fig.plot(x=xx,y=yy,pen="0.5p,red")
#         except:
#             print(n)


#     ## plot data coordinates
#     # data2.sort_values("magnitude", ascending=False)

#     # fig.plot(
#     #     x=data2.longitude,
#     #     y=data2.latitude,
#     #     size=0.04*2**data2.magnitude,
#     #     fill='grey',
#     #     style="cc",
#     #     pen="0p,black",
#     # )

#     data1.sort_values("magnitude", ascending=False)
    # cmap = pygmt.makecpt(cmap="viridis", series=[data1.magnitude.round(0).min(), data1.magnitude.round(0).max()])
    # cmap = pygmt.makecpt(cmap="viridis")

    fig.plot(
            region=reg, projection=proj,
            x=data1.longitude,
            y=data1.latitude,
            # fill=0.02*data1.magnitude,
            size=0.02*data1.magnitude,
            fill='red',
            # cmap=cmap,
            style="cc",
            pen="0.5p,black",
            transparency=40,
    )

    ## plot PFO
    fig.plot(
        region=reg, projection=proj,
        x=config['sta_lon'],
        y=config['sta_lat'],
        size=np.array([0.3]),
        fill="green",
        style="t0.25c",
        pen="black",
    )

    # fig.text(
    #     region=reg, projection=proj,
    #     text="ROMY",
    #     x=config['sta_lon']-50,
    #     y=config['sta_lat']-20,
    #     offset=[0.35],
    #     font="7p,Helvetica-Bold,darkgreen"
    # )


    fig.show()
    return fig

fig = __makeplot_polarmap(config, select_z);

fig.savefig(config['path_to_figs']+"RomyEvents_map_Z.png", dpi=150, bbox_inches="tight", pad_inches=0.05)



c1 = (df['ROMY-Z'] == True)
c2 = (df['ROMY-U'] == True)
c3 = (df['ROMY-V'] == True)
c4 = (df.ZQ == False)
c5 = (df.UQ == False)
c6 = (df.VQ == False)

select_zuv_idx = list(np.where(c1 & c2 & c3 & c4 & c5 & c6)[0])

select_zuv = df[df.index.isin(select_zuv_idx)]


select_zuv


__polar_plot(select_zuv);



