import os
import pygmt
import obspy as obs
import matplotlib.pyplot as plt
import numpy as np
import pandas as pd
import geopandas as gpd

from andbro__savefig import __savefig
from obspy.clients.fdsn import Client


from functions.catalog_to_dataframe import __catalog_to_dataframe
from functions.add_distances_and_backazimuth import __add_distances_and_backazimuth


if os.uname().nodename == 'lighthouse':
    root_path = '/home/andbro/'
    data_path = '/home/andbro/kilauea-data/'
    archive_path = '/home/andbro/freenas/'
elif os.uname().nodename == 'kilauea':
    root_path = '/home/brotzer/'
    data_path = '/import/kilauea-data/'
    archive_path = '/import/freenas-ffb-01-data/'


config = {}

date1 = "20221001"
date2 = "20230930"

## ______________________________________________
## small bounds
# config['minlatitude'], config['maxlatitude'] = 32, 35
# config['minlongitude'], config['maxlongitude'] = -118, -115
# config['eventfile'] = "BSPF_event_catalog"

## ______________________________________________
## normal bounds
config['minlatitude'], config['maxlatitude'] = 31, 35
config['minlongitude'], config['maxlongitude'] = -119, -114
config['eventfile'] = f"BSPF_catalog_{date1}_{date2}"

## ______________________________________________
## extended bounds
# config['minlatitude'], config['maxlatitude'] = 30, 37
# config['minlongitude'], config['maxlongitude'] = -120, -113
# config['eventfile'] = "BSPF_catalog_extended"


config['BSPF_lon'] = np.array([-116.455439])
config['BSPF_lat'] = np.array([33.610643])

# config['minmagnitude'] = 2.5

config['tbeg'] = obs.UTCDateTime(date1)
config['tend'] = obs.UTCDateTime(date2)

config['triggerfile'] = f"BSPF_catalog_{date1}_{date2}_triggered.pkl"

config['gcmt_file'] = f"gcmt_solutions_{date1}_{date2}.xml"

config['path_to_data'] = data_path+"BSPF/data/"

config['path_to_catalogs'] = data_path+"BSPF/data/catalogs/"

config['out_figures'] = data_path+"BSPF/figures/"

config['outpath'] = data_path+"BSPF/"


def __read_pickle(path, filename):

    import pickle

    with open(path+filename, 'rb') as f:
        triggerfile = pickle.load(f)

    return triggerfile


cat_all = obs.read_events(config['path_to_catalogs']+config['eventfile']+"_all.xml")

events_all_df = __catalog_to_dataframe(cat_all)

events_all_df = __add_distances_and_backazimuth(config['BSPF_lat'], config['BSPF_lon'], events_all_df)


events_all_df = events_all_df.rename_axis('timestamp').reset_index()
events_all_df['seconds'] = [abs((events_all_df.timestamp.min()-tt).total_seconds()) for tt in events_all_df.timestamp]


cat_select_df = __read_pickle(config['path_to_catalogs'], config['triggerfile'])


cat_select_df


cat_gcmt = obs.read_events(config['path_to_catalogs']+config['gcmt_file'])


cat_gcmt_df = __catalog_to_dataframe(cat_gcmt)
cat_gcmt_df.magnitude.min(), cat_gcmt_df.shape


# cat_gcmt_usgs = obs.read_events(config['path_to_catalogs']+f"gcmt_solutions_{date1}_{date2}.xml")
cat_gcmt_usgs = obs.read_events(config['path_to_catalogs']+f"gmt_usgs_m3_m4.xml")

cat_gcmt_usgs = cat_gcmt_usgs.filter("magnitude >= 4.0", "time > 2022-12-31", "time < 2023-01-01")
cat_gcmt_usgs


faults = gpd.read_file(config['path_to_data']+"hazfaults2014/hazfaults2014.shp")


# x,y = faults.geometry[0].coords.xy
# print(np.array(x))
# plt.plot(x,y)


citiesShp = os.path.join(config['path_to_data']+"urban_area/"+"ne_10m_urban_areas_landscan.shp")

gdf = gpd.read_file(citiesShp)


urban = []

urban.append(gdf[gdf['name_conve'] == "San Diego"])
urban.append(gdf[gdf['name_conve'] == "Palm Springs"])
urban.append(gdf[gdf['name_conve'] == "Los Angeles1"])



# for i in gdf[gdf['max_pop_al'] > 2e6].name_conve:
#     if "Los" in i:
#         print(i)


# region = [-119, -114, 31, 35]

# fig = pygmt.Figure()
# fig.basemap(region=region, projection="M4i", frame=True)

# fig.coast(
#             water='skyblue',
#             shorelines=True
# )


# for urban_shp in urban:
#     fig.plot(data=urban_shp, fill="darkred")

# fig.show();


events_all_df[events_all_df.magnitude > 4.1]


def __plot_timeline(catalog_df, catalog_all_df):

    fig, ax = plt.subplots(1, 1, figsize=(15,5))

    catalog_all_df.sort_values("magnitude")
    catalog_df.sort_values("magnitude")

    cm = plt.get_cmap('viridis', 5)
#     cm.set_under('gray')

    cax = ax.scatter(catalog_df.origin,
                     catalog_df.distances_km,
                     s=4**catalog_df.magnitude,
                     c=catalog_df.magnitude,
                     alpha=0.8,
                     cmap=cm,
                     marker='o',
                     facecolors='none',
                     edgecolors='k',
                     vmin=0,
                     vmax=5
                    )

    ax.scatter(catalog_all_df.timestamp, catalog_all_df.distances_km,
               s=4**catalog_all_df.magnitude,
               c='grey', alpha=0.5, zorder=-1)




    cbar = plt.colorbar(cax, ax=ax, cmap=cm, pad=0.01, aspect=15, drawedges=False)
    cbar.set_label(label='Magnitude', size=16, color="white", labelpad=-31)
#     cbar.set_clim(0.0, 5.0)
#     cbar.ax.set_ylim(0.0, 5.0)
#
    ax.set_ylim(bottom=0)
    ax.set_ylabel("Epicentral Distance (km)", fontsize=16)

    ax.grid(axis="y", ls="--", zorder=0, color="k", alpha=0.3)

    ax.set_xlim(ax.get_xlim()[0]+5, ax.get_xlim()[1]-5)
#     ax.set_xlim(config['tbeg']-4*86400, config['tend']+4*86400)

    # ax.set_title(f"triggered={len(catalog_df)} of {len(catalog_all_df)} events", fontsize=18)

    ax.tick_params(axis="y", labelsize=14)
    ax.tick_params(axis="x", labelsize=14)

    # ax.set_ylim(0, 100)

    plt.show();
    return fig


fig = __plot_timeline(cat_select_df, events_all_df)

fig.savefig(config['out_figures']+f"BSPF_timeline_triggered_{date1}_{date2}.png", format="png", dpi=150, bbox_inches='tight')



def __makeplot_eventmap(config, data1, data2):

    import pygmt
    import pandas as pd
    from obspy.imaging.beachball import beach

    def __plot_focal_mechanism(catalog):

        for ii in range(len(cat_gcmt_usgs)):

            try:
                strike = catalog.events[ii].focal_mechanisms[0].nodal_planes.nodal_plane_1.strike
                rake = catalog.events[ii].focal_mechanisms[0].nodal_planes.nodal_plane_1.rake
                dip = catalog.events[ii].focal_mechanisms[0].nodal_planes.nodal_plane_1.dip
                mag = catalog.events[ii].magnitudes[0].mag

                lat = catalog.events[ii].origins[0].latitude
                lon = catalog.events[ii].origins[0].longitude
                dep = catalog.events[ii].origins[0].depth

                focal_mechanism = dict(strike=strike, dip=dip, rake=rake, magnitude=mag)

                fig.meca(
                    spec=focal_mechanism,
                    scale="0.8c",
                    longitude=lon,
                    latitude=lat,
                    depth=dep,
                )

            except:
                print(f" -> failed for event {ii}")


    # Set the region
    region = [config['minlongitude'], config['maxlongitude'], config['minlatitude'], config['maxlatitude']]

    resolution = "03s" ## "01d"

    fig = pygmt.Figure()

    # fig.basemap(region=region, projection="M5i", frame=True)


    # make color pallets
    cmap = pygmt.makecpt(cmap='etopo1', series='-7999/5000/1000', continuous=True)
    # cmap = pygmt.makecpt(cmap='etopo1', continuous=True)

    ## define etopo data file
    topo_data = pygmt.datasets.load_earth_relief(resolution=resolution, region=region, data_source="gebco")
    # topo_data = '@earth_relief_30s'

    ## adjust land and sea/lakes
    # land = topo_data * pygmt.grdlandmask(region=region,
    #                                      spacing=resolution,
    #                                      maskvalues=[0, 1],
    #                                      resolution="f"
    #                                     )

    wet = topo_data * pygmt.grdlandmask(region=region,
                                        spacing=resolution,
                                        maskvalues=[1, "NaN"],
                                        resolution="f"
                                       )
    #plot high res topography
    fig.grdimage(
        grid=topo_data,
        region=region,
        projection='M5i',
        shading=True,
        cmap = cmap,
        frame=True,
        nan_transparent=True
    )


#     cmap_wet = pygmt.makecpt(cmap='etopo1', series='-7999/5000/1000', continuous=True)

    fig.grdimage(
        grid=wet,
        region=region,
        projection='M5i',
        shading=True,
        cmap='seafloor',
        frame=False,
        nan_transparent=True,
    )




    ## add coastlines
    fig.coast(shorelines=True, borders="1/0.4p,black,solid", frame=False)

    ## add map scale
    fig.basemap(map_scale="jBL+c32+f+w50k+u+o10.9/.57",frame=False)

    ## add north rose
    fig.basemap(rose='jTR+o0.3c+w1c',frame=False)

    ## add urban areas
    for urban_shp in urban:
        fig.plot(data=urban_shp, fill="darkred")

    ## add fault lines
    for n in range(faults.shape[0]):
        try:
            xx, yy = faults.geometry[n].coords.xy
            fig.plot(x=xx,y=yy,pen="0.5p,red")
        except:
            print(n)

    ## colorbar colormap
#     cmap_mag = pygmt.makecpt(cmap="viridis", series=[data1.magnitude.min(), data1.magnitude.max()])
#     cmap_mag = pygmt.makecpt(cmap="viridis", series=[data1.timestamp.astype(str)[0], data1.timestamp.astype(str)[len(data1)-1]])
#     cmap_mag = pygmt.makecpt(cmap="viridis", series=[data1.seconds.min(), data1.seconds.max()])
    cmap_depth = pygmt.makecpt(cmap="viridis", series=[data1.depth.min()/1000, data1.depth.max()/1000])

#     ## plot data coordinates
    fig.plot(
        x=data2.longitude,
        y=data2.latitude,
        size=0.04*2**data2.magnitude,
        fill='grey',
        style="cc",
        pen="0p,black",
    )

    fig.plot(
        x=data1.longitude,
        y=data1.latitude,
        size=0.04*2**data1.magnitude,
        fill=data1.depth/1000,
#         fill=data1.seconds,
        cmap=True,
        style="cc",
        pen="0.1p,black",
        transparency=50,
    )

    ## plot PFO
    fig.plot(
        x=config['BSPF_lon'],
        y=config['BSPF_lat'],
        size=np.array([0.3]),
        fill="red",
        style="t0.5c",
        pen="black",
    )

    fig.text(
        text="PFO",
        x=config['BSPF_lon'],
        y=config['BSPF_lat'],
        offset=[0.35],
        font="9p,Helvetica-Bold,black"
    )

    ## add beachball
    # __plot_focal_mechanism(cat_gcmt_usgs)


    ## add depth colorbar
#     fig.colorbar(frame='af+l"Depth (km)"', cmap=cmap_depth)
#     fig.colorbar(frame='af+l"Days"', transparency=20, cmap=cmap_mag,
#                  position="JMR+o-2.2c/3.1c+w5c/0.5c+n+mc", scale=1/86400,
#                  box="+gwhite+c0.1+r")

    fig.colorbar(frame='af+l"Depth (km)"', transparency=20, cmap=cmap_depth,
                 position="JMR+o-2.2c/3.5c+w3.2c/0.5c+n+mc",
                 # box="+gwhite+c0.1+r",
                )

    cmap = pygmt.makecpt(cmap='etopo1', series='-8000/5000/1000', continuous=True)
    fig.colorbar(cmap=cmap, position="g-114.85/32.1+w3.3c/0.5c", # box="+gwhite+c0.1+r",
                 frame='af+lElevation (km)', scale=0.001, transparency=20)
    # frame=["x+lElevation (km)", r"y+l(km)"],

    ## ________________________________________________
    ## overview plot

    region2 = [-128, -50, 20, 55]

    with fig.inset(position="jBL+o0.5c/0.2c", box="+pblack", region=region2, projection="M4c"):
        # Use a plotting method to create a figure inside the inset.
        fig.coast(
            land="gray",
            borders=[1, 2],
            shorelines="1/thin",
            water="white",
            # Use dcw to selectively highlight an area
#             dcw="US+gred",
        )
        fig.plot(
            x=config['BSPF_lon'],
            y=config['BSPF_lat'],
            size=np.array([0.3]),
            fill="red",
            style="t0.3c",
            pen="black",
        )


#     ## save figure to file
#     fig.savefig(config['outpath']+'tmp_event_map.png')

    fig.show();
    return fig


fig = __makeplot_eventmap(config, cat_select_df, events_all_df)


fig.savefig(config['out_figures']+"BSPF_map_triggered_X.png")





# client = Client("ISC")

## events - all in area and time period
# events_all = client.get_events(minlatitude=config['minlatitude'], maxlatitude=config['maxlatitude'],
#                                minlongitude=config['minlongitude'], maxlongitude=config['maxlongitude'],
#                                starttime=config['tbeg'],
#                                endtime=config['tend'],
#                                )


# origin = event.preferred_origin() or event.origins[0]
# focmec = event.preferred_focal_mechanism() or event.focal_mechanisms[0]
# tensor = focmec.moment_tensor.tensor
# moment_list = [tensor.m_rr, tensor.m_tt, tensor.m_pp,
#                tensor.m_rt, tensor.m_rp, tensor.m_tp]


def __makeplot_polarmap(config, data1, data2):

    import pygmt

    def __plot_focal_mechanism(catalog):

        for ii in range(len(cat_gcmt_usgs)):

            try:
                strike = catalog.events[ii].focal_mechanisms[0].nodal_planes.nodal_plane_1.strike
                rake = catalog.events[ii].focal_mechanisms[0].nodal_planes.nodal_plane_1.rake
                dip = catalog.events[ii].focal_mechanisms[0].nodal_planes.nodal_plane_1.dip
                mag = catalog.events[ii].magnitudes[0].mag

                lat = catalog.events[ii].origins[0].latitude
                lon = catalog.events[ii].origins[0].longitude
                dep = catalog.events[ii].origins[0].depth

                focal_mechanism = dict(strike=strike, dip=dip, rake=rake, magnitude=mag)

                fig.meca(
                    spec=focal_mechanism,
                    scale="0.8c",
                    longitude=lon,
                    latitude=lat,
                    depth=dep,
                )

            except:
                print(f" -> failed for event {ii}")


    reg = [config['minlongitude'], config['maxlongitude'], config['minlatitude'], config['maxlatitude']]

    scale = "8c"

    proj = f"E{config['BSPF_lon'][0]}/{config['BSPF_lat'][0]}/1/{scale}"

    resolution = "03s"

    ## __________________________________________

    fig = pygmt.Figure()

    fig.coast(projection=proj, region=reg, land="gray")


    fig.basemap(
        region=[0, 360, 0, 10],
        projection=f"P{scale}+a",
        frame=["xa45f", "+t"],
    )


    # make color pallets
    cmap = pygmt.makecpt(cmap='etopo1', series='-7999/5000/1000', continuous=True)

    ## define etopo data file
    topo_data = pygmt.datasets.load_earth_relief(resolution=resolution, region=reg)


    ##plot high res topography
    fig.grdimage(
        grid=topo_data,
        region=reg,
        projection=proj,
        shading=True,
        cmap = cmap,
        frame=True,
        nan_transparent=True
    )

    wet = topo_data * pygmt.grdlandmask(region=reg,  spacing=resolution, maskvalues=[1, "NaN"], resolution="f")

    fig.grdimage(
        grid=wet,
        region=reg,
        projection=proj,
        shading=True,
        cmap='seafloor',
        frame=True,
        nan_transparent=True
    )

    fig.coast(shorelines=True, borders="1/0.4p,black,solid", frame=False)

    ## colorbar colormap
    # cmap = pygmt.makecpt(cmap="viridis", series=[data1.magnitude.min(), data1.magnitude.max()])
    # cmap = pygmt.makecpt(cmap="viridis", series=[data1.seconds.min(), data1.seconds.max()])
    cmap = pygmt.makecpt(cmap="viridis", series=[data1.depth.min()/1000, data1.depth.max()/1000])

    ## add fault lines
    for n in range(faults.shape[0]):
        try:
            xx, yy = faults.geometry[n].coords.xy
            fig.plot(x=xx,y=yy,pen="0.5p,red")
        except:
            print(n)


    ## plot data coordinates
    # data2.sort_values("magnitude", ascending=False)

    # fig.plot(
    #     x=data2.longitude,
    #     y=data2.latitude,
    #     size=0.04*2**data2.magnitude,
    #     fill='grey',
    #     style="cc",
    #     pen="0p,black",
    # )

    data1.sort_values("magnitude", ascending=False)

    fig.plot(
        x=data1.longitude,
        y=data1.latitude,
        size=0.04*2**data1.magnitude,
        fill=data1.depth/1000,
        cmap=True,
        style="cc",
        pen="0.5p,black",
        transparency=50,
    )

    ## plot PFO
    fig.plot(
        region=reg, projection=proj,
        x=config['BSPF_lon'],
        y=config['BSPF_lat'],
        size=np.array([0.3]),
        fill="red",
        style="t0.5c",
        pen="black",
    )

    fig.text(
        region=reg, projection=proj,
        text="PFO",
        x=config['BSPF_lon'],
        y=config['BSPF_lat'],
        offset=[0.35],
        font="9p,Helvetica-Bold,black"
    )

    ## add beachball
    __plot_focal_mechanism(cat_gcmt_usgs)


    fig.coast(shorelines=True, borders="1/0.4p,black,solid", frame=True)


    fig.show()
    return fig


fig = __makeplot_polarmap(config, cat_select_df, events_all_df)


fig.savefig(config['out_figures']+f'BSPF_polarmap_X.png', dpi=200)


def __makeplot_histogram(catalog_all_df, catalog_df):

    from sklearn.linear_model import LinearRegression
    from numpy import log10, array, linspace


    catalog_all_df = catalog_all_df.sort_values("magnitude", ascending=False)
    catalog_df = catalog_df.sort_values("magnitude")

    ## bins=11, range=[-0.75,4.75]
#     hh_cum, bins_cum, _ = plt.hist(catalog_all_df.magnitude, bins=11, range=[-0.75,4.75], rwidth=0.9, color='#3776ab', cumulative=True)
#     plt.close()
#     bins_cum = [bins_cum[jj] + (abs(bins_cum[jj+1]-bins_cum[jj])/2) for jj in range(len(bins_cum)-1)]

    ## compute bins catalog all
    nn, bins = [], []
    for i in range(-1, 7, 1):
        nn.append(len(catalog_all_df[catalog_all_df.magnitude >= i]))
        bins.append(i+0.5)

    print(len(catalog_df), len(catalog_df[catalog_df.magnitude >= 4]))
    ## compute bins catalog triggered
    nn2, bins2 = [], []
    for i in range(-1, 7, 1):
        nn2.append(len(catalog_df[catalog_df.magnitude >= i]))
        bins2.append(i+0.5)


    x, y = array(bins)[2:-1], log10(nn[2:-1])

    ## ________________________________

    fig, ax = plt.subplots(1, 1, figsize=(5,5))

    ## plot histograms catalog all
    ax.bar(array(bins), nn, width=0.75, color='lightblue', zorder=2, alpha=0.8)
    ax.bar(x, 10**y, width=0.75, zorder=2)

    ## plot histograms catalog triggered
    ax.bar(array(bins2), nn2, width=0.5, color='darkorange', zorder=2, alpha=0.5)
#     ax.bar(x2, 10**y2, width=0.75, zorder=2)


    ## linear regression
    model = LinearRegression().fit(x.reshape((-1, 1)), y)
    r_sq = model.score(x.reshape((-1, 1)), y)
    x_axis = linspace(min(bins), max(bins), 50)
    reg1 = model.intercept_ + model.coef_ * x_axis

    ax.plot(x_axis, 10**reg1, color="k", ls="--", label=f"f(x)={round(model.coef_[0],2)}x+{round(model.intercept_,1)}")

    ## linear regression
    x2, y2 = x[:-1], y[:-1]
    model = LinearRegression().fit(x2.reshape((-1, 1)), y2)
    r_sq = model.score(x2.reshape((-1, 1)), y2)
    x_axis = linspace(min(bins), max(bins), 50)
    reg2 = model.intercept_ + model.coef_ * x_axis

#     ax.plot(x_axis, 10**reg2, color="k", ls=":", label=f"f(x)={round(model.coef_[0],2)}x+{round(model.intercept_,1)}")


    ax.text(3.5, 9e3, f"Total N = {len(catalog_all_df)}", fontsize=13)

    days = str(events_all_df.index.max()-events_all_df.index.min()).split(" ")[0]
    ax.text(3.5, 4e3, f"Days = {days}", fontsize=13)

    ax.grid(zorder=-1, ls=":", alpha=0.7, which="both")

    ax.legend(loc="upper right", fontsize=12)

    ax.set_yscale("log")

    ax.set_xlabel("Magnitude", fontsize=18)
    ax.set_ylabel("Number of Events", fontsize=18)

    ax.tick_params(axis='x', labelsize=11)
    ax.tick_params(axis='y', labelsize=11)

    ax.set_xticks(array(bins)-0.5)

    ax.set_title(f"Gutenberg-Richter Relation", fontsize=18)

    ax.tick_params(axis="y", labelsize=15)
    ax.tick_params(axis="x", labelsize=15)

    ax.set_ylim(0.2e0, 1e5)
    plt.show();
    return fig


fig = __makeplot_histogram(events_all_df, cat_select_df)

fig.savefig("catalog_all_histo.png")



import pygmt

fig = pygmt.Figure()

region = [config['minlongitude'], config['maxlongitude'], config['minlatitude'], config['maxlatitude']]


fig.basemap(region=region, projection="M15c", frame=True)

for ii in range(len(cat_gcmt_usgs)):

    try:
        strike = cat_gcmt_usgs.events[ii].focal_mechanisms[0].nodal_planes.nodal_plane_1.strike
        rake = cat_gcmt_usgs.events[ii].focal_mechanisms[0].nodal_planes.nodal_plane_1.rake
        dip = cat_gcmt_usgs.events[ii].focal_mechanisms[0].nodal_planes.nodal_plane_1.dip
        mag = cat_gcmt_usgs.events[ii].magnitudes[0].mag

        lat = cat_gcmt_usgs.events[ii].origins[0].latitude
        lon = cat_gcmt_usgs.events[ii].origins[0].longitude
        dep = cat_gcmt_usgs.events[ii].origins[0].depth

        focal_mechanism = dict(strike=strike, dip=dip, rake=rake, magnitude=mag)

        fig.meca(
            spec=focal_mechanism,
            scale="1c",
            longitude=lon,
            latitude=lat,
            depth=dep,
        )

    except:
        print(f" -> failed for event {ii}")


fig.show()





from obspy.imaging.beachball import beachball


mt = [0.91, -0.89, -0.02, 1.78, -1.55, 0.47]
beachball(mt, size=2, linewidth=2, facecolor='k')


for i in range(len(cat_gcmt_usgs)):
    print(type(cat_gcmt_usgs.events[i].focal_mechanisms[0].moment_tensor))
    try:
        print(cat_gcmt_usgs.events[i].focal_mechanisms[0].nodal_planes.nodal_plane_1.strike)
    except:
        print(i)


print(cat_gcmt_usgs.events[0].focal_mechanisms[0].nodal_planes.nodal_plane_1.rake)
print(cat_gcmt_usgs.events[0].magnitudes[0].mag)









