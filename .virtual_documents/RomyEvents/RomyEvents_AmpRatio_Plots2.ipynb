import os
import gc
import obspy as obs
import matplotlib.pyplot as plt
import numpy as np
import pandas as pd

from andbro__store_as_pickle import __store_as_pickle

from functions.get_median import __get_median
from functions.get_percentiles import __get_percentiles



if os.uname().nodename == 'lighthouse':
    root_path = '/home/andbro/'
    data_path = '/home/andbro/kilauea-data/'
    archive_path = '/home/andbro/freenas/'
    bay_path = '/home/andbro/bay200/'
elif os.uname().nodename == 'kilauea':
    root_path = '/home/brotzer/'
    data_path = '/import/kilauea-data/'
    archive_path = '/import/freenas-ffb-01-data/'
    bay_path = '/bay200/'
elif os.uname().nodename == 'lin-ffb-01':
    root_path = '/home/brotzer/'
    data_path = '/import/kilauea-data/'
    archive_path = '/import/freenas-ffb-01-data/'
    bay_path = '/bay200/'


config = {}

# path to data
config['path_to_data'] = data_path+"romy_events/data/"

config['path_to_figs'] = data_path+"romy_events/figures/"

config['path_to_mseed'] = data_path+"romy_events/data/waveforms/ACC/"

# specify event file
# config['eventfile'] = "ROMYevents_2020_2023_status.csv"
config['eventfile'] = "ROMYevents_2019_2024_status.csv"

# specify catalog
config['catalogfile'] = "catalogs/ROMY_global_catalog_20200101_20231231.pkl"

# ROMY coordinates
config['sta_lon'] = 11.275501
config['sta_lat'] = 48.162941



select_z =  pd.read_pickle(config['path_to_data']+config['eventfile'].split('.')[0]+"_select_z.pkl")


# specify amplitude type
amp_type = "perc95" # envelope maxima  perc95  mean

amp = pd.read_pickle(config['path_to_data']+f"amplitudes_{amp_type}.pkl")



amp.keys()


spec = pd.read_pickle(config['path_to_data']+f"spectra.pkl")


romy_z = {}
rlas_z = {}
fur_z = {}
wet_z = {}

# extract frequency bands
fbands = list(amp['002'].keys())

# fill dictionary with array for romy and rlas for all events with fband keys
for fband in fbands:
    romy_z[str(fband)] = []
    rlas_z[str(fband)] = []
    fur_z[str(fband)] = []
    wet_z[str(fband)] = []

    try:
        for evn in amp.keys():
            romy_z[str(fband)].append(amp[evn][fband]['ROMY.BJZ'])
            rlas_z[str(fband)].append(amp[evn][fband]['RLAS.BJZ'])
            fur_z[str(fband)].append(amp[evn][fband]['FUR.BHT'])
            wet_z[str(fband)].append(amp[evn][fband]['WET.BHT'])
    except:
        continue

# create lists of all maxima for plotting
romy_z_arr = []
rlas_z_arr = []
fur_z_arr = []
wet_z_arr = []

for fband in fbands:
    romy_z_arr.append(romy_z[str(fband)])
    rlas_z_arr.append(rlas_z[str(fband)])
    fur_z_arr.append(fur_z[str(fband)])
    wet_z_arr.append(wet_z[str(fband)])

# create lists of all maxima for plotting
romy_z_arr = np.array(romy_z_arr)
rlas_z_arr = np.array(rlas_z_arr)
fur_z_arr = np.array(fur_z_arr)
wet_z_arr = np.array(wet_z_arr)

romy_z_med = __get_median(romy_z_arr.T)
rlas_z_med = __get_median(rlas_z_arr.T)
fur_z_med = __get_median(fur_z_arr.T)
wet_z_med = __get_median(wet_z_arr.T)

plower, pupper = 20, 80
romy_z_plower, romy_z_pupper = __get_percentiles(romy_z_arr.T, p_low=plower, p_high=pupper)
rlas_z_plower, rlas_z_pupper = __get_percentiles(rlas_z_arr.T, p_low=plower, p_high=pupper)
fur_z_plower, fur_z_pupper = __get_percentiles(fur_z_arr.T, p_low=plower, p_high=pupper)
wet_z_plower, wet_z_pupper = __get_percentiles(wet_z_arr.T, p_low=plower, p_high=pupper)


print("Event Count: ", np.shape(fur_z_arr)[1])


def __makeplot():

    import matplotlib.pyplot as plt

    Nrow, Ncol = 2, 1

    font = 12

    fig, ax = plt.subplots(Nrow, Ncol, figsize=(12, 5), sharex=True)

    plt.subplots_adjust(hspace=0.1)

#     perc = 50

#     m_rlas, m_romy = [], []

#     e_upper, e_lower = [], []


    ax[0].fill_between(fbands, romy_z_plower, romy_z_pupper, color="tab:blue", alpha=0.3)
    ax[0].scatter(fbands, romy_z_med, label="ROMY",
                  s=10, color="tab:blue", edgecolor="k",
                  )


    ax[0].fill_between(fbands, rlas_z_plower, rlas_z_pupper, color="tab:orange", alpha=0.3)
    ax[0].scatter(fbands, rlas_z_med, label="RLAS",
                  s=10, color="tab:orange", edgecolor="k",
                  )


    ax[1].scatter(fbands, romy_z_med/rlas_z_med, label="ROMY/RLAS",
                  s=10, color="black", edgecolor="k",
                  )

#     for _i, (fb, r1) in enumerate(zip(fbands, romy_z_arr)):

#         if _i == 0:
#             ax[0].errorbar(fb, np.nanmedian(r1), yerr=np.nanstd(r1), label="ROMY",
#                            fmt="o", markersize=3, color="tab:blue", markeredgecolor="k",
#                           )
#         else:
#             ax[0].errorbar(fb, np.nanmedian(r1), yerr=np.nanstd(r1),
#                            fmt="o", markersize=3, color="tab:blue", markeredgecolor="k",
#                           )

#         e_upper.append(np.nanmedian(r1)+np.nanstd(r1))
#         e_lower.append(np.nanmedian(r1)-np.nanstd(r1))
#         # e_upper.append(np.nanpercentile(r1, perc))
#         # e_lower.append(np.nanpercentile(r1, perc))
#         m_romy.append(np.nanmedian(r1))

#     e_upper, e_lower = [], []
#     for _i, (fb, r1) in enumerate(zip(fbands, rlas_z_arr)):

#         if _i == 0:
#             ax[0].errorbar(fb, np.nanmedian(r1), yerr=np.nanstd(r1), label="RLAS",
#                            fmt="o", markersize=3, color="tab:orange", markeredgecolor="k",
#                           )
#         else:
#             ax[0].errorbar(fb, np.nanmedian(r1), yerr=np.nanstd(r1),
#                            fmt="o", markersize=3, color="tab:orange", markeredgecolor="k",
#                           )

#         e_upper.append(np.nanmedian(r1)+np.nanstd(r1))
#         e_lower.append(np.nanmedian(r1)-np.nanstd(r1))
#         # e_upper.append(np.nanpercentile(r1, perc))
#         # e_lower.append(np.nanpercentile(r1, perc))
#         m_rlas.append(np.nanmedian(r1))


    # ax[1].scatter(fbands, np.array(m_romy)/np.array(m_rlas), s=7, color="k", label="ROMY/RLAS")

    for _k in range(Nrow):
        ax[_k].legend(loc=4)
        ax[_k].grid(which="both", ls="--", color="grey", alpha=0.5, zorder=0)
        ax[_k].set_xscale("log")
        ax[_k].set_yscale("log")
        ax[_k].set_xlim(1e-3, 10)

    ax[0].set_ylabel("Peak Amplitude (rads/s)")
    ax[1].set_ylabel("Amplitude Ratio")
    ax[1].set_xlabel("Frequency (Hz)")

    ax[1].set_ylim(bottom=0.5)

    ax[0].text(.005, .97, "(a)", ha='left', va='top', transform=ax[0].transAxes, fontsize=font+2)
    ax[1].text(.005, .97, "(b)", ha='left', va='top', transform=ax[1].transAxes, fontsize=font+2)

    plt.show();
    return fig

fig = __makeplot();


fig.savefig(config['path_to_figs']+f"RomyEvents_Amplitude_Ratio_RomyRlas_{amp_type}.png", format="png", dpi=150, bbox_inches='tight')



def __makeplot():

    import matplotlib.pyplot as plt

    Nrow, Ncol = 2, 1

    font = 12

    fig, ax = plt.subplots(Nrow, Ncol, figsize=(12, 5), sharex=True)

    plt.subplots_adjust(hspace=0.1)


    ax[0].fill_between(fbands, fur_z_plower, fur_z_pupper, color="tab:blue", alpha=0.3)
    ax[0].scatter(fbands, fur_z_med, label="FUR",
                  s=10, color="tab:blue", edgecolor="k",
                  )


    ax[0].fill_between(fbands, wet_z_plower, wet_z_pupper, color="tab:orange", alpha=0.3)
    ax[0].scatter(fbands, wet_z_med, label="WET",
                  s=10, color="tab:orange", edgecolor="k",
                  )


    ax[1].scatter(fbands, fur_z_med/wet_z_med, label="FUR/WET",
                  s=10, color="black", edgecolor="k",
                  )

#     perc = 70

#     m_rlas, m_romy = [], []

#     e_upper, e_lower = [], []

#     for _i, (fb, r1) in enumerate(zip(fbands, fur_z_arr)):

#         if _i == 0:
#             ax[0].errorbar(fb, np.nanmedian(r1), yerr=np.nanstd(r1), label="FUR",
#                            fmt="o", markersize=3, color="tab:blue", markeredgecolor="k",
#                           )
#         else:
#             ax[0].errorbar(fb, np.nanmedian(r1), yerr=np.nanstd(r1),
#                            fmt="o", markersize=3, color="tab:blue", markeredgecolor="k",
#                           )

#         ax[0].fill_between(fbands, romy_z_plower, romy_z_pupper, color="tab:blue", alpha=0.3)

#         e_upper.append(np.nanmedian(r1)+np.nanstd(r1))
#         e_lower.append(np.nanmedian(r1)-np.nanstd(r1))
#         # e_upper.append(np.nanpercentile(r1, perc))
#         # e_lower.append(np.nanpercentile(r1, perc))
#         m_romy.append(np.nanmedian(r1))

#     e_upper, e_lower = [], []
#     for _i, (fb, r1) in enumerate(zip(fbands, wet_z_arr)):

#         if _i == 0:
#             ax[0].errorbar(fb, np.nanmedian(r1), yerr=np.nanstd(r1), label="WET",
#                            fmt="o", markersize=3, color="tab:orange", markeredgecolor="k",
#                           )
#         else:
#             ax[0].errorbar(fb, np.nanmedian(r1), yerr=np.nanstd(r1),
#                            fmt="o", markersize=3, color="tab:orange", markeredgecolor="k",
#                           )

#         e_upper.append(np.nanmedian(r1)+np.nanstd(r1))
#         e_lower.append(np.nanmedian(r1)-np.nanstd(r1))
#         # e_upper.append(np.nanpercentile(r1, perc))
#         # e_lower.append(np.nanpercentile(r1, perc))
#         m_rlas.append(np.nanmedian(r1))


#     ax[1].scatter(fbands, np.array(m_romy)/np.array(m_rlas), s=7, color="k", label="FUR/WET")

    for _k in range(Nrow):
        ax[_k].legend(loc=4)
        ax[_k].grid(which="both", ls="--", color="grey", alpha=0.5, zorder=0)
        ax[_k].set_xscale("log")
        ax[_k].set_yscale("log")
        ax[_k].set_xlim(1e-3, 10)

    ax[0].set_ylabel("Peak Amplitude (m/s$^2$)")
    ax[1].set_ylabel("Amplitude Ratio")
    ax[1].set_xlabel("Frequency (Hz)")

    ax[1].set_ylim(bottom=0.5)

    ax[0].text(.005, .97, "(a)", ha='left', va='top', transform=ax[0].transAxes, fontsize=font+2)
    ax[1].text(.005, .97, "(b)", ha='left', va='top', transform=ax[1].transAxes, fontsize=font+2)

    plt.show();
    return fig

fig = __makeplot();


fig.savefig(config['path_to_figs']+f"RomyEvents_Amplitude_Ratio_FURWET_{amp_type}.png", format="png", dpi=150, bbox_inches='tight')



spec['002']['freq']


spec_romy_z = []
spec_rlas_z = []
spec_fur_z = []
spec_wet_z = []

# extract frequency bands
# fbands = list(spec['002'].keys())
fbands = spec['002']['freq']

# fill dictionary with array for romy and rlas for all events with fband keys
for evn in spec.keys():
    spec_romy_z.append(spec[str(evn)]['ROMY_BJZ'])
    spec_rlas_z.append(spec[str(evn)]['RLAS_BJZ'])
    spec_fur_z.append(spec[str(evn)]['FUR_BHT'])
    spec_wet_z.append(spec[str(evn)]['WET_BHT'])

# create lists of all maxima for plotting
spec_romy_z_arr = np.array(spec_romy_z)
spec_rlas_z_arr = np.array(spec_rlas_z)
spec_fur_z_arr = np.array(spec_fur_z)
spec_wet_z_arr = np.array(spec_wet_z)


# median
spec_romy_z_med = __get_median(spec_romy_z_arr)
spec_rlas_z_med = __get_median(spec_rlas_z_arr)
spec_fur_z_med = __get_median(spec_fur_z_arr)
spec_wet_z_med = __get_median(spec_wet_z_arr)

plower, pupper = 20, 80
spec_romy_z_plower, spec_romy_z_pupper = __get_percentiles(spec_romy_z_arr, p_low=plower, p_high=pupper)
spec_rlas_z_plower, spec_rlas_z_pupper = __get_percentiles(spec_rlas_z_arr, p_low=plower, p_high=pupper)
spec_fur_z_plower, spec_fur_z_pupper = __get_percentiles(spec_fur_z_arr, p_low=plower, p_high=pupper)
spec_wet_z_plower, spec_wet_z_pupper = __get_percentiles(spec_wet_z_arr, p_low=plower, p_high=pupper)



def __makeplot():

    import matplotlib.pyplot as plt

    Nrow, Ncol = 2, 1

    font = 12
    sqrt = r"$\sqrt{Hz}$"

    fig, ax = plt.subplots(Nrow, Ncol, figsize=(12, 5), sharex=True)

    plt.subplots_adjust(hspace=0.1)


    ax[0].fill_between(fbands, spec_romy_z_plower, spec_romy_z_pupper, color="tab:blue", alpha=0.3)
    ax[0].scatter(fbands, spec_romy_z_med, label="ROMY",
                  s=10, color="tab:blue", edgecolor="k",
                  )


    ax[0].fill_between(fbands, spec_rlas_z_plower, spec_rlas_z_pupper, color="tab:orange", alpha=0.3)
    ax[0].scatter(fbands, spec_rlas_z_med, label="RLAS",
                  s=10, color="tab:orange", edgecolor="k",
                  )


    ax[1].scatter(fbands, spec_romy_z_med/spec_rlas_z_med, label="ROMY/RLAS",
                  s=10, color="black", edgecolor="k",
                  )

    for _k in range(Nrow):
        ax[_k].legend(loc=4, ncol=2)
        ax[_k].grid(which="both", ls="--", color="grey", alpha=0.5, zorder=0)
        ax[_k].set_xscale("log")
        ax[_k].set_yscale("log")
        ax[_k].set_xlim(1e-3, 5)


    ax[0].set_ylabel(f"Spectral Median\n(rads/s/{sqrt})")
    ax[1].set_ylabel("Spectral Ratio")
    ax[1].set_xlabel("Frequency (Hz)")

    ax[1].set_ylim(bottom=0.5)

    ax[0].text(.005, .97, "(a)", ha='left', va='top', transform=ax[0].transAxes, fontsize=font+2)
    ax[1].text(.005, .97, "(b)", ha='left', va='top', transform=ax[1].transAxes, fontsize=font+2)

    plt.show();
    return fig

fig = __makeplot();

fig.savefig(config['path_to_figs']+f"RomyEvents_Spectra_Ratio_ROMYRLAS.png", format="png", dpi=150, bbox_inches='tight')




def __makeplot():

    import matplotlib.pyplot as plt

    Nrow, Ncol = 2, 1

    font = 12
    sqrt = r"$\sqrt{Hz}$"

    fig, ax = plt.subplots(Nrow, Ncol, figsize=(12, 5), sharex=True)

    plt.subplots_adjust(hspace=0.1)


    ax[0].fill_between(fbands, spec_fur_z_plower, spec_fur_z_pupper, color="tab:blue", alpha=0.3)
    ax[0].scatter(fbands, spec_fur_z_med, label="FUR",
                  s=10, color="tab:blue", edgecolor="k",
                  )


    ax[0].fill_between(fbands, spec_wet_z_plower, spec_wet_z_pupper, color="tab:orange", alpha=0.3)
    ax[0].scatter(fbands, spec_wet_z_med, label="WET",
                  s=10, color="tab:orange", edgecolor="k",
                  )


    ax[1].scatter(fbands, spec_fur_z_med/spec_wet_z_med, label="FUR/WET",
                  s=10, color="black", edgecolor="k",
                  )

    for _k in range(Nrow):
        ax[_k].legend(loc=4, ncol=2)
        ax[_k].grid(which="both", ls="--", color="grey", alpha=0.5, zorder=0)
        ax[_k].set_xscale("log")
        ax[_k].set_yscale("log")
        ax[_k].set_xlim(1e-3, 5)


    ax[0].set_ylabel(f"Spectral Median\n(rads/s/{sqrt})")
    ax[1].set_ylabel("Spectral Ratio")
    ax[1].set_xlabel("Frequency (Hz)")

    ax[1].set_ylim(bottom=0.5)

    ax[0].text(.005, .97, "(a)", ha='left', va='top', transform=ax[0].transAxes, fontsize=font+2)
    ax[1].text(.005, .97, "(b)", ha='left', va='top', transform=ax[1].transAxes, fontsize=font+2)

    plt.show();
    return fig

fig = __makeplot();

fig.savefig(config['path_to_figs']+f"RomyEvents_Spectra_Ratio_FURWET.png", format="png", dpi=150, bbox_inches='tight')



def __select_frequency(dic, f=0.1):

    # select first event
    ev = list(dic.keys())[0]

    # select all frequencies
    freqs = np.array(list(dic[ev].keys()))

    # determine closest to request
    idx = np.absolute(freqs - f).argmin()
    val = freqs[idx]

    amp1 = {}
    amp2 = {}
    for k in dic.keys():
        amp1[k] = dic[k][val]["ROMY.BJZ"]
        amp2[k] = dic[k][val]["RLAS.BJZ"]

    return amp1, amp2, val

amp1_romyz, amp1_rlasz, fval = __select_frequency(amp, f=10)


freqs = [0.01, 0.1, 1.0, 5.0]
rows = [0, 0, 1, 1]
cols = [0, 1, 0, 1]
lbl = ["(a)", "(b)", "(c)", "(d)"]

Nrow, Ncol = 2, 2

fig, ax = plt.subplots(Nrow, Ncol, figsize=(10, 10), subplot_kw={'projection': 'polar'})


for _n, (i, j, _f, _l) in enumerate(zip(rows, cols, freqs, lbl)):

    amp1_romyz, amp1_rlasz, fval = __select_frequency(amp, f=_f)

    # create new frame
    amp1_df = pd.DataFrame()
    amp1_df['ev_num'] = [str(_k) for _k in amp1_romyz.keys()]
    amp1_df['romyz'] = [_v for _v in amp1_romyz.values()]
    amp1_df['rlasz'] = [_v for _v in amp1_rlasz.values()]

    # select subset of event frame
    tmp = select_z[['# Event', 'backazimuth']]
    tmp['ev_num'] = [str(int(_ev)).rjust(3, "0") for _ev in tmp['# Event']]

    # merge frames based on event number
    amp1 = pd.merge(left=tmp, right=amp1_df, on="ev_num")

    amp1 = amp1.sort_values(by="backazimuth", ascending=True)

    ax[i, j].scatter(np.deg2rad(amp1.backazimuth), amp1.romyz/amp1.rlasz, s=10, zorder=2)
    ax[i, j].plot(np.deg2rad(amp1.backazimuth), amp1.romyz/amp1.rlasz, zorder=1, alpha=0.4, lw=1, ls=":")

    ax[i, j].grid(True, which="both", axis="both", zorder=0, alpha=0.5)
    ax[i, j].set_rscale("log")
    ax[i, j].set_rlabel_position(-62.5)
    ax[i, j].set_theta_zero_location("N")
    ax[i, j].set_theta_direction(-1)
    ax[i, j].set_rmin(1e-1)
    ax[i, j].set_rmax(1e2)

    ax[i, j].set_title(f"{_l} {_f} Hz", loc="left")

plt.show();

fig.savefig(config['path_to_figs']+f"RomyEvents_AmpRatio_Backazimuth.png", format="png", dpi=150, bbox_inches='tight')



amp1[amp1.ev_num == str(343)]['backazimuth'].iloc[0]


amp1


freqs = [0.01, 0.1, 1.0, 5.0]
rows = [0, 0, 1, 1]
cols = [0, 1, 0, 1]
lbl = ["(a)", "(b)", "(c)", "(d)"]

Nrow, Ncol = 1, 1

fig, ax = plt.subplots(Nrow, Ncol, figsize=(12, 5))

for _n, (_f, _l) in enumerate(zip(freqs, lbl)):

    print(_n, _f, _l)

    amp1_romyz, amp1_rlasz, fval = __select_frequency(amp, f=_f)

    # create new frame
    amp1_df = pd.DataFrame()
    amp1_df['ev_num'] = [str(_k) for _k in amp1_romyz.keys()]
    amp1_df['romyz'] = [_v for _v in amp1_romyz.values()]
    amp1_df['rlasz'] = [_v for _v in amp1_rlasz.values()]

    amp1_df['baz'] = [amp1[amp1.ev_num == str(num)]['backazimuth'].iloc[0] for num in amp1_df.ev_num]

    amp1_df['ratio'] = amp1_df.romyz/amp1_df.rlasz

    amp1_df.sort_values(by="baz", inplace=True)

    # select subset of event frame
    tmp = select_z[['# Event', 'backazimuth']]
    tmp['ev_num'] = [str(int(_ev)).rjust(3, "0") for _ev in tmp['# Event']]

    ax.scatter(amp1_df.baz, amp1_df.ratio, s=10, zorder=2, label=_f)
    ax.plot(amp1_df.baz, amp1_df.ratio, zorder=1, alpha=0.4, lw=1, ls=":")

ax.set_yscale("log")
ax.legend()

plt.show();







