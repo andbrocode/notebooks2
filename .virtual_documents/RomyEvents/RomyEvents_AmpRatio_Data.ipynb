import os
import gc
import obspy as obs
import matplotlib.pyplot as plt
import numpy as np
import pandas as pd

from andbro__store_as_pickle import __store_as_pickle



if os.uname().nodename == 'lighthouse':
    root_path = '/home/andbro/'
    data_path = '/home/andbro/kilauea-data/'
    archive_path = '/home/andbro/freenas/'
    bay_path = '/home/andbro/bay200/'
elif os.uname().nodename == 'kilauea':
    root_path = '/home/brotzer/'
    data_path = '/import/kilauea-data/'
    archive_path = '/import/freenas-ffb-01-data/'
    bay_path = '/bay200/'
elif os.uname().nodename == 'lin-ffb-01':
    root_path = '/home/brotzer/'
    data_path = '/import/kilauea-data/'
    archive_path = '/import/freenas-ffb-01-data/'
    bay_path = '/bay200/'


config = {}

# path to data
config['path_to_data'] = data_path+"romy_events/data/"

config['path_to_figs'] = data_path+"romy_events/figures/"

config['path_to_mseed'] = data_path+"romy_events/data/waveforms/ACC/"

# specify event file
config['eventfile'] = "ROMYevents_2020_2023_status.csv"

# specify catalog
config['catalogfile'] = "catalogs/ROMY_global_catalog_20200101_20231231.pkl"

# ROMY coordinates
config['sta_lon'] = 11.275501
config['sta_lat'] = 48.162941



cat = pd.read_pickle(config['path_to_data']+config['catalogfile'])

# add row with UTC times
cat['time_utc'] = [str(obs.UTCDateTime(str(_e).split('.')[0], precision=0)) for _e in cat.timestamp]

cat['depth_km'] = cat.depth / 1000


cat


# load data base
events = pd.read_csv(config['path_to_data']+config['eventfile'], header=0, skiprows=4)

# prepare dataframe
events.dropna(subset="Event", inplace=True)
events.sort_values(by="# Event")
events.reset_index(drop=True, inplace=True)

# add row with UTC times
events['time_utc'] = [str(obs.UTCDateTime(f"{_e.split('_')[1]}T{_e.split('_')[2]}", precision=0)) for _e in events.Event]

events


df = pd.merge(left=cat, right=events, on="time_utc")


df


df.keys()


select_z_idx = list(np.where((df.RLAS == True) & (df['ROMY-Z'] == True) & (df.ZQ == False))[0])

select_z = df[df.index.isin(select_z_idx)]


select_z


def __get_event_window(st0, deltaT1=60, deltaT2=2, plot=False):

    from obspy.signal.trigger import coincidence_trigger
    from obspy.signal.trigger import recursive_sta_lta
    from obspy.signal.trigger import plot_trigger

    st_trig = obs.Stream()
    st_trig += st0.select(station="FUR", channel="*Z").copy()
    st_trig += st0.select(station="FUR", channel="*N").copy()
    st_trig += st0.select(station="FUR", channel="*E").copy()
    st_trig += st0.select(station="ROMY", channel="*Z").copy()

    st_trig = st_trig.detrend("demean")
    st_trig = st_trig.filter("bandpass", freqmin=0.01, freqmax=0.1, corners=4, zerophase=True)

    df = st_trig[0].stats.sampling_rate

    sta = 10 # seconds
    lta = 180 # seconds

    thr_on = 4
    thr_off = 0.1

    # cft = recursive_sta_lta(st_trig[3].data, int(sta * df), int(lta * df))
    # plot_trigger(st_trig[3], cft, thr_on, thr_off)

    trig = coincidence_trigger("recstalta", thr_on, thr_off, st_trig, 4, sta=sta, lta=lta, details=True, similarity_threshold=0.)

    t1 = trig[0]['time'] - deltaT1
    t2 = trig[0]['time'] + trig[0]['duration'] * deltaT2

    if plot:

        Nrow, Ncol = len(st_trig), 1

        font = 12

        fig, ax = plt.subplots(Nrow, Ncol, figsize=(15, 8), sharex=True)

        plt.subplots_adjust(hspace=0)

        for _k, tr in enumerate(st_trig):

            if "ROMY" in tr.stats.station:
                ax[_k].plot(tr.times(), tr.data*1e9, color="k", label=f"{tr.stats.station}.{tr.stats.channel}")
            else:
                ax[_k].plot(tr.times(), tr.data*1e6, color="k", label=f"{tr.stats.station}.{tr.stats.channel}")

            ax[_k].axvline(trig[0]['time']-tr.stats.starttime - deltaT1, -10, 10)
            ax[_k].axvline(trig[0]['time']-tr.stats.starttime + trig[0]['duration'] * deltaT2, -10, 10)


        for _n in range(Nrow):
            ax[_n].grid(ls=":", zorder=0)
            ax[_n].legend(loc=1)

        plt.show();


    return t1, t2


def __get_fband_amplitude(st0, fmin, fmax, t1, t2, amp="maxima", plot=False):

    st_amp = obs.Stream()
    st_amp += st0.select(station="FUR", channel="*Z").copy()
    st_amp += st0.select(station="FUR", channel="*N").copy()
    st_amp += st0.select(station="FUR", channel="*E").copy()
    st_amp += st0.select(station="WET", channel="*Z").copy()
    st_amp += st0.select(station="WET", channel="*N").copy()
    st_amp += st0.select(station="WET", channel="*E").copy()
    st_amp += st0.select(station="ROMY",channel="*Z").copy()
    st_amp += st0.select(station="RLAS",channel="*Z").copy()

    st_amp = st_amp.trim(t1, t2)
    st_amp = st_amp.detrend("demean")

    from functions.get_octave_bands import __get_octave_bands

    flower, fupper, fcenter = __get_octave_bands(fmin, fmax, faction_of_octave=6, plot=False)

    out = {}
    for fl, fu, fc in zip(flower, fupper, fcenter):

        out[fc] = {}

        stx = st_amp.copy()

        df = stx[0].stats.sampling_rate

        stx = stx.detrend("linear")

        stx = stx.taper(0.01, type="cosine")

        # zero padding to avoid filter shift effect
        for tr in stx:
            tr.data = np.pad(tr.data, (int(4*3600*df), int(4*3600*df)), 'constant', constant_values=(0, 0))


        stx = stx.filter("bandpass", freqmin=fl, freqmax=fu, corners=4, zerophase=True)

        # stx.plot(equal_scale=False);

        for tr in stx:
            name = f"{tr.stats.station}.{tr.stats.channel}"
            if amp == "maxima":
                out[fc][name] = np.nanmax(abs(tr.data))
            elif amp == "mean":
                out[fc][name] = np.nanmean(abs(tr.data))
            elif amp == "perc95":
                out[fc][name] = np.nanpercentile(abs(tr.data), 95)

    if plot:

        plt.figure(figsize=(15, 5))
        for _i, fc in enumerate(out.keys()):

            if _i == 0:
                plt.scatter(fc, out[fc]["ROMY.BJZ"], color="tab:blue", edgecolor="k", label="ROMY", zorder=2)
                plt.scatter(fc, out[fc]["RLAS.BJZ"], color="tab:orange", edgecolor="k", label="RLAS", zorder=2)
            else:
                plt.scatter(fc, out[fc]["ROMY.BJZ"], color="tab:blue", edgecolor="k", zorder=2)
                plt.scatter(fc, out[fc]["RLAS.BJZ"], color="tab:orange", edgecolor="k", zorder=2)

        plt.xscale("log")
        plt.yscale("log")
        plt.grid(which="both", zorder=0, alpha=0.5, color="grey")
        plt.legend(loc=2)
        plt.xlabel("Frequency (Hz)")
        plt.ylabel("Amplitude (rad/s)")
        plt.show();

    return out


def __make_control_plot(ev_num, st0, out, t1, t2, path_to_figs, plot=False):

    import gc
    import matplotlib.pyplot as plt
    from matplotlib.gridspec import GridSpec

    st1 = obs.Stream()
    st1 += st0.select(station="FUR", channel="*Z").copy()
    st1 += st0.select(station="FUR", channel="*N").copy()
    st1 += st0.select(station="FUR", channel="*E").copy()
    st1 += st0.select(station="WET", channel="*Z").copy()
    st1 += st0.select(station="WET", channel="*N").copy()
    st1 += st0.select(station="WET", channel="*E").copy()
    st1 += st0.select(station="ROMY", channel="*Z").copy()
    st1 += st0.select(station="RLAS", channel="*Z").copy()

    st1 = st1.detrend("demean")
    st1 = st1.filter("bandpass", freqmin=0.01, freqmax=0.1, corners=4, zerophase=True)

    Nrow, Ncol = 10, 1

    fig = plt.figure(figsize=(15, 14))

    gs = GridSpec(Nrow, Ncol, figure=fig, hspace=0)

    ax0 = fig.add_subplot(gs[0, :])
    ax1 = fig.add_subplot(gs[1, :])
    ax2 = fig.add_subplot(gs[2, :])
    ax3 = fig.add_subplot(gs[3, :])
    ax4 = fig.add_subplot(gs[4, :])
    ax5 = fig.add_subplot(gs[5, :])
    ax6 = fig.add_subplot(gs[6, :])
    ax7 = fig.add_subplot(gs[7, :])

    gs2 = plt.GridSpec(Nrow, Ncol, figure=fig, hspace=2, top=0.95)
    ax8 = fig.add_subplot(gs2[8:10, :])


    axes = [ax0, ax1, ax2, ax3, ax4, ax5, ax6, ax7]

    tscale = 1/60

    for ax, tr in zip(axes, st1):
        if "ROMY" in tr.stats.station or "RLAS" in tr.stats.station:
            ax.plot(tr.times()*tscale, tr.data*1e9, color="k", label=f"{tr.stats.station}.{tr.stats.channel}")
            ax.set_ylabel("Amplitude \n (rad/s)")
            ax.set_ylim(-np.amax(tr.data*1e9),np.amax(tr.data*1e9))
        else:
            ax.plot(tr.times()*tscale, tr.data*1e6, color="k", label=f"{tr.stats.station}.{tr.stats.channel}")
            ax.set_ylabel("Amplitude \n ($\mu$m/s$^2$)")
            ax.set_ylim(-np.amax(tr.data*1e6),np.amax(tr.data*1e6))
        ax.legend(loc=1)

        ax.axvline((t1-tr.stats.starttime)*tscale, -10, 10)
        ax.axvline((t2-tr.stats.starttime)*tscale, -10, 10)

        ax.fill_between([(t1-tr.stats.starttime)*tscale, (t2-tr.stats.starttime)*tscale],
                         -1e3, 1e3,
                        alpha=0.3
                        )

    ax7.set_xlabel("Time (min)")

    ax81 = ax8.twinx()
    for _i, fc in enumerate(out.keys()):

        if _i == 0:
            ax8.scatter(fc, out[fc]["ROMY.BJZ"], color="tab:blue", edgecolor="k", label="ROMY", zorder=2)
            ax8.scatter(fc, out[fc]["RLAS.BJZ"], color="tab:orange", edgecolor="k", label="RLAS", zorder=2)
        else:
            ax8.scatter(fc, out[fc]["ROMY.BJZ"], color="tab:blue", edgecolor="k", zorder=2)
            ax8.scatter(fc, out[fc]["RLAS.BJZ"], color="tab:orange", edgecolor="k", zorder=2)


        if _i == 0:
            ax81.scatter(fc, out[fc]["FUR.BHZ"], color="tab:blue", edgecolor="k", marker="d", label="FUR", zorder=2)
            ax81.scatter(fc, out[fc]["WET.BHZ"], color="tab:orange", edgecolor="k", marker="d", label="WET", zorder=2)
        else:
            ax81.scatter(fc, out[fc]["FUR.BHZ"], color="tab:blue", edgecolor="k", marker="d", zorder=2)
            ax81.scatter(fc, out[fc]["WET.BHZ"], color="tab:orange", edgecolor="k", marker="d", zorder=2)

    ax8.set_xscale("log")
    ax8.set_yscale("log")
    # ax8.grid(which="both", zorder=0, alpha=0.5, color="grey")
    ax8.legend(loc=2)
    ax8.set_xlabel("Frequency (Hz)")
    ax8.set_ylabel("Amplitude (rad/s)")

    ax81.set_ylabel("Amplitude (m/s$^2$)")
    ax81.legend(loc=1)
    ax81.set_xscale("log")
    ax81.set_yscale("log")

    # save image
    fig.savefig(path_to_figs+"auto_plots/"+f"{ev_num}.png", format="png", dpi=150, bbox_inches='tight')

    gc.collect();

    if plot:
        plt.show();
        return fig
    else:
        plt.close();



fmin, fmax = 0.001, 8.0

amp = {}

for _k, (_i, ev) in enumerate(select_z.iterrows()):

    if _k > 1:
        continue

    print(_k, "  ", ev.Event.replace("_filtered.png", ".mseed"))

    # specify waveform file name
    wavformfile = ev.Event.replace("_filtered.png", ".mseed")

    # load waveform data
    try:
        st0 = obs.read(config['path_to_mseed']+wavformfile)
    except:
        print(f" -> failed to load data")
        continue

    st0 = st0.detrend("demean")
    print(st0)
    try:
        # specify event number
        ev_num = str(int(ev['# Event'])).rjust(3, "0")

        # get window of event
        t1, t2 = __get_event_window(st0, deltaT1=60, deltaT2=2, plot=False)

        # get maxima for fbands
        out = __get_fband_amplitude(st0, fmin, fmax, t1, t2, amp="maxima", plot=False)
        # out = __get_fband_amplitude(st0, fmin, fmax, t1, t2, amp="mean", plot=False)
        # out = __get_fband_amplitude(st0, fmin, fmax, t1, t2, amp="perc95", plot=False)

        # store check up plot
        __make_control_plot(ev_num, st0, out, t1, t2, config['path_to_figs'], plot=False);

        # add maxima to dict
        amp[ev_num] = out

    except Exception as e:
        print(f" -> processing failed!")
        print(e)
        continue

    gc.collect();



# store data
# __store_as_pickle(amp, config['path_to_data']+"amplitudes.pkl")


# load data

amp_type = "maxima" # maxima  perc95  mean

amp = pd.read_pickle(config['path_to_data']+f"amplitudes_{amp_type}.pkl")



romy_z = {}
rlas_z = {}
fur_z = {}
wet_z = {}

# extract frequency bands
fbands = list(amp['014'].keys())

# fill dictionary with array for romy and rlas for all events with fband keys
for fband in fbands:
    romy_z[str(fband)] = []
    rlas_z[str(fband)] = []
    fur_z[str(fband)] = []
    wet_z[str(fband)] = []

    try:
        for evn in amp.keys():
            romy_z[str(fband)].append(amp[evn][fband]['ROMY.BJZ'])
            rlas_z[str(fband)].append(amp[evn][fband]['RLAS.BJZ'])
            fur_z[str(fband)].append(amp[evn][fband]['FUR.BHZ'])
            wet_z[str(fband)].append(amp[evn][fband]['WET.BHZ'])
    except:
        continue

# create lists of all maxima for plotting
romy_z_arr = []
rlas_z_arr = []
fur_z_arr = []
wet_z_arr = []

for fband in fbands:
    romy_z_arr.append(romy_z[str(fband)])
    rlas_z_arr.append(rlas_z[str(fband)])
    fur_z_arr.append(fur_z[str(fband)])
    wet_z_arr.append(wet_z[str(fband)])



print("Event Count: ", np.shape(fur_z_arr)[1])


def __makeplot():

    import matplotlib.pyplot as plt

    Nrow, Ncol = 2, 1

    font = 12

    fig, ax = plt.subplots(Nrow, Ncol, figsize=(12, 5), sharex=True)

    plt.subplots_adjust(hspace=0.1)



    m_rlas, m_romy = [], []

    e_upper, e_lower = [], []
    for _i, (fb, r1) in enumerate(zip(fbands, romy_z_arr)):
        if _i == 0:
            ax[0].errorbar(fb, np.nanmean(r1), yerr=np.nanpercentile(r1, 70), label="ROMY",
                           fmt="o", markersize=3, color="tab:blue", markeredgecolor="k",
                          )
        else:
            ax[0].errorbar(fb, np.nanmean(r1), yerr=np.nanpercentile(r1, 70),
                           fmt="o", markersize=3, color="tab:blue", markeredgecolor="k",
                          )

        e_upper.append(np.nanmean(r1)+np.nanstd(r1))
        e_lower.append(np.nanmean(r1)-np.nanstd(r1))
        m_romy.append(np.nanmean(r1))

    e_upper, e_lower = [], []
    for _i, (fb, r1) in enumerate(zip(fbands, rlas_z_arr)):

        if _i == 0:
            ax[0].errorbar(fb, np.nanmean(r1), yerr=np.nanpercentile(r1, 70), label="RLAS",
                           fmt="o", markersize=3, color="tab:orange", markeredgecolor="k",
                          )
        else:
            ax[0].errorbar(fb, np.nanmean(r1), yerr=np.nanpercentile(r1, 70),
                           fmt="o", markersize=3, color="tab:orange", markeredgecolor="k",
                          )

        e_upper.append(np.nanmean(r1)+np.nanstd(r1))
        e_lower.append(np.nanmean(r1)-np.nanstd(r1))
        m_rlas.append(np.nanmean(r1))


    ax[1].scatter(fbands, np.array(m_romy)/np.array(m_rlas), s=7, color="k", label="ROMY/RLAS")

    for _k in range(Nrow):
        ax[_k].legend()
        ax[_k].grid(which="both", ls="--", color="grey", alpha=0.5, zorder=0)
        ax[_k].set_xscale("log")
        ax[_k].set_yscale("log")

    ax[0].set_ylabel("Mean Amplitude (rads/s)")
    ax[1].set_ylabel("Amplitude Ratio")
    ax[1].set_xlabel("Frequency (Hz)")

    ax[1].set_ylim(bottom=0.5)

    plt.show();
    return fig

fig = __makeplot();


fig.savefig(config['path_to_figs']+f"RomyEvents_Amplitude_Ratio_RomyRlas_{amp_type}.png", format="png", dpi=150, bbox_inches='tight')



def __makeplot():

    import matplotlib.pyplot as plt

    Nrow, Ncol = 2, 1

    font = 12

    fig, ax = plt.subplots(Nrow, Ncol, figsize=(12, 5), sharex=True)

    plt.subplots_adjust(hspace=0.1)



    m_rlas, m_romy = [], []

    e_upper, e_lower = [], []
    for _i, (fb, r1) in enumerate(zip(fbands, fur_z_arr)):
        if _i == 0:
            ax[0].errorbar(fb, np.nanmean(r1), yerr=np.nanpercentile(r1, 70), label="FUR",
                           fmt="o", markersize=3, color="tab:blue", markeredgecolor="k",
                          )
        else:
            ax[0].errorbar(fb, np.nanmean(r1), yerr=np.nanpercentile(r1, 70),
                           fmt="o", markersize=3, color="tab:blue", markeredgecolor="k",
                          )

        e_upper.append(np.nanmean(r1)+np.nanstd(r1))
        e_lower.append(np.nanmean(r1)-np.nanstd(r1))
        m_romy.append(np.nanmean(r1))

    e_upper, e_lower = [], []
    for _i, (fb, r1) in enumerate(zip(fbands, wet_z_arr)):

        if _i == 0:
            ax[0].errorbar(fb, np.nanmean(r1), yerr=np.nanpercentile(r1, 70), label="WET",
                           fmt="o", markersize=3, color="tab:orange", markeredgecolor="k",
                          )
        else:
            ax[0].errorbar(fb, np.nanmean(r1), yerr=np.nanpercentile(r1, 70),
                           fmt="o", markersize=3, color="tab:orange", markeredgecolor="k",
                          )

        e_upper.append(np.nanmean(r1)+np.nanstd(r1))
        e_lower.append(np.nanmean(r1)-np.nanstd(r1))
        m_rlas.append(np.nanmean(r1))


    ax[1].scatter(fbands, np.array(m_romy)/np.array(m_rlas), s=7, color="k", label="FUR/WET")

    for _k in range(Nrow):
        ax[_k].legend()
        ax[_k].grid(which="both", ls="--", color="grey", alpha=0.5, zorder=0)
        ax[_k].set_xscale("log")
        ax[_k].set_yscale("log")

    ax[0].set_ylabel("Mean Amplitude (m/s$^2$)")
    ax[1].set_ylabel("Amplitude Ratio")
    ax[1].set_xlabel("Frequency (Hz)")

    ax[1].set_ylim(bottom=0.5)

    plt.show();
    return fig

fig = __makeplot();


fig.savefig(config['path_to_figs']+f"RomyEvents_Amplitude_Ratio_FURWET_{amp_type}.png", format="png", dpi=150, bbox_inches='tight')










