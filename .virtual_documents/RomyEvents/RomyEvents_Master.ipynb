import os
import obspy as obs
import matplotlib.pyplot as plt
import numpy as np
import multitaper

from obspy.clients.fdsn import Client

from andbro__read_sds import __read_sds


from functions.makeplot_spectra_comparison_fill import __makeplot_spectra_comparison_fill
from functions.compute_backazimuth import __compute_backazimuth
from functions.makeplot_waveform_comparison_cc import __makeplot_waveform_comparison_cc
from functions.makeplot_comparison_ccf import __makeplot_comparison_ccf
from functions.get_event_info import __get_event_info
from functions.compute_cross_wavelet_transform import __compute_cross_wavelet_transform
from functions.compute_cwt import __compute_cwt
from functions.makeplot_waveforms import __makeplot_waveforms


if os.uname().nodename == 'lighthouse':
    root_path = '/home/andbro/'
    data_path = '/home/andbro/kilauea-data/'
    archive_path = '/home/andbro/freenas/'
    bay_path = '/home/andbro/ontap-ffb-bay200/'
    lamont_path = '/home/andbro/lamont/'
elif os.uname().nodename == 'kilauea':
    root_path = '/home/brotzer/'
    data_path = '/import/kilauea-data/'
    archive_path = '/import/freenas-ffb-01-data/'
    bay_path = '/import/ontap-ffb-bay200/'
    lamont_path = '/lamont/'
elif os.uname().nodename in ['lin-ffb-01', 'ambrym', 'hochfelln']:
    root_path = '/home/brotzer/'
    data_path = '/import/kilauea-data/'
    archive_path = '/import/freenas-ffb-01-data/'
    bay_path = '/import/ontap-ffb-bay200/'
    lamont_path = '/lamont/'


config = {}

config['seis'] = "BW.DROMY" # "BW.DROMY" | "GR.FUR"

# output path for figures
config['path_to_figs'] = data_path+"romy_events/figures/"

# path to data archive
config['path_to_data'] = data_path+"romy_events/data/"

# path to metadata
config['path_to_inv'] = data_path+"stationxml_ringlaser/"


# Event
config['name'] = "Montenegro"
config['tbeg'] = obs.UTCDateTime("2024-03-14 03:06")
config['tend'] = obs.UTCDateTime("2024-03-14 03:36")
config['trim'] = [0, 0]

#
# config['name'] = "Germany"
# config['tbeg'] = obs.UTCDateTime("2024-03-22 05:31:10")
# config['tend'] = obs.UTCDateTime("2024-03-22 05:34:00")
# # config['trim'] = [60, 20]
# config['trim'] = [80, 40]

#
# config['name'] = "Italy2"
# config['tbeg'] = obs.UTCDateTime("2024-03-27 21:19:00")
# config['tend'] = obs.UTCDateTime("2024-03-27 21:35:00")
# config['trim'] = [30, 20]

#
# config['name'] = "Taiwan"
# config['tbeg'] = obs.UTCDateTime("2024-04-03 00:11:00")
# config['tend'] = obs.UTCDateTime("2024-04-03 03:11:00")
# config['trim'] = [0, 0]

#
# config['name'] = "Southern_Ocean"
# config['tbeg'] = obs.UTCDateTime("2024-07-10 04:55:00")
# config['tend'] = obs.UTCDateTime("2024-07-10 06:55:00")
# config['trim'] = [20*60, 1*1800]

#
# config['name'] = "Philippines"
# config['tbeg'] = obs.UTCDateTime("2024-07-11 02:13:00")
# config['tend'] = obs.UTCDateTime("2024-07-11 03:12:00")
# config['trim'] = [0, 0]

# config['name'] = "Vancouver"
# config['tbeg'] = obs.UTCDateTime("2024-07-11 15:08:00")
# config['tend'] = obs.UTCDateTime("2024-07-11 16:38:00")
# config['trim'] = [1000, 0]

# config['name'] = "Chile"
# config['tbeg'] = obs.UTCDateTime("2024-07-19 01:50:00")
# config['tend'] = obs.UTCDateTime("2024-07-19 02:50:00")
# config['trim'] = [0, 0]

config['name'] = "Japan"
config['tbeg'] = obs.UTCDateTime("2024-08-08 07:40:00")
config['tend'] = obs.UTCDateTime("2024-08-08 08:50:00")
config['trim'] = [600, 0]

# define input data file name
config['filename'] = f"ROMY_{config['seis']}_{config['name']}_{str(config['tbeg'].date).replace('-','')}_6C.mseed"

# specify client for event information
# config['Client'] = Client("USGS")
config['Client'] = Client("GFZ")

# ROMY coordinates
config['sta_lon'] = 11.275501
config['sta_lat'] = 48.162941

# create sub directory
if not os.path.isdir(config['path_to_figs']+config['name']):
    os.mkdir(config['path_to_figs']+config['name'])
    config['path_to_figs'] = config['path_to_figs']+config['name']+"/"


if "FUR" in config['seis']:
    seis_path = bay_path+"mseed_online/archive/"
    ch = "B"
    inv = obs.read_inventory(config['path_to_inv']+"station_GR_FUR.xml")
else:
    seis_path = archive_path+"romy_archive/"
    ch = "H"
    inv = obs.read_inventory(config['path_to_inv']+"dataless/dataless.seed.BW_DROMY")



config, dist, baz, az = __get_event_info(config, min_mag=6.0)


# st00 = obs.read(config['path_to_data']+config['filename'])


st00 = __read_sds(archive_path+"temp_archive/", "BW.ROMY.30.BJZ", config['tbeg'], config['tend'])
st00 += __read_sds(archive_path+"temp_archive/", "BW.ROMY.30.BJN", config['tbeg'], config['tend'])
st00 += __read_sds(archive_path+"temp_archive/", "BW.ROMY.30.BJE", config['tbeg'], config['tend'])

st00 += __read_sds(seis_path, f"{config['seis']}..{ch}HZ", config['tbeg'], config['tend'])
st00 += __read_sds(seis_path, f"{config['seis']}..{ch}HN", config['tbeg'], config['tend'])
st00 += __read_sds(seis_path, f"{config['seis']}..{ch}HE", config['tbeg'], config['tend'])

# remove response
for tr in st00:
    if "H" in tr.stats.channel:
        tr = tr.remove_response(inv, output="ACC")

# adjust sampling
if "FUR" not in config['seis']:
    for tr in st00:
        tr = tr.resample(20, no_filter=False)
        tr.stats.channel = f"B{tr.stats.channel[1:]}"

st00._trim_common_channels()



st00


st00.plot(equal_scale=False);


st0 = st00.copy()

# trim data
st0 = st0.trim(config['tbeg']+config['trim'][0], config['tend']-config['trim'][1])

if len(st0) > 6:
    st0 = st0.merge(fill_value=0)

st0.plot(equal_scale=False);



fmin, fmax = 0.001, 0.1

rot1 = st0.select(station="ROMY", channel="*J*").copy()
acc1 = st0.select(station=config['seis'].split('.')[1], channel="*H*").copy()

rot1 = rot1.detrend("linear").taper(0.01, type="cosine")
rot1 = rot1.filter("bandpass", freqmin=fmin, freqmax=fmax, corners=4, zerophase=True);

acc1 = acc1.detrend("linear").taper(0.01, type="cosine")
acc1 = acc1.filter("bandpass", freqmin=fmin, freqmax=fmax, corners=4, zerophase=True);


# for tr in acc1:
#     if "Z" in tr.stats.channel:
#         tr.data *= -1

# for tr in rot1:
#     if "Z" in tr.stats.channel:
#         tr.data = np.roll(tr.data, 3)

acc1._trim_common_channels()
rot1._trim_common_channels()

print(rot1, acc1)



fig = __makeplot_waveforms(acc1, rot1);

fig.savefig(config['path_to_figs']+f"ROMY_{config['name']}_waveforms.png", format="png", dpi=150, bbox_inches='tight')



# for tr in acc1:
#     if "Z" in tr.stats.channel:
#         tr.data *= -1


def __makeplot_waveform_comparison_cc(rot0, acc0, baz, fmin, fmax, polarity=None, distance=None, twin_sec=5, twin_overlap=0.5):

    from obspy.signal.cross_correlation import correlate
    from obspy.signal.rotate import rotate_ne_rt
    from numpy import linspace, ones
    import matplotlib.pyplot as plt

    def __get_incidence(wt, az, ar):
        angles = np.arange(0, 90, 1)
        misfit = np.zeros(len(angles))
        for _n, i in enumerate(angles):
            error = (wt - ( az*np.cos(np.deg2rad(i)) + ar*np.sin(np.deg2rad(i)) ))
            misfit[_n] = np.sqrt(error@error.T)
        return round(np.min(misfit), 0)
    
    def __rotate_incidence(ar, az, i):
        return az*np.cos(np.deg2rad(i)) + ar*np.sin(np.deg2rad(i))

    def __cross_correlation_windows(arr1, arr2, dt, Twin, overlap=0, lag=0, demean=True, plot=False):

        from obspy.signal.cross_correlation import correlate, xcorr_max
        from numpy import arange, array, roll

        N = len(arr1)
        n_interval = int(Twin/dt)
        n_overlap = int(overlap*Twin/dt)

        # time = arange(0, N*dt, dt)

        times, samples = [], []
        n1, n2 = 0, n_interval
        while n2 <= N:
            samples.append((n1, n2))
            times.append(int(n1+(n2-n1)/2)*dt)
            n1 = n1 + n_interval - n_overlap
            n2 = n2 + n_interval - n_overlap

        cc = []
        for _n, (n1, n2) in enumerate(samples):

            _arr1 = roll(arr1[n1:n2], lag)
            _arr2 = arr2[n1:n2]
            ccf = correlate(_arr1, _arr2, 0, demean=demean, normalize='naive', method='fft')
            shift, val = xcorr_max(ccf, abs_max=False)
            cc.append(val)

        return array(times), array(cc)

    if polarity is None:
        polarity = {"az":1, "ar":1, "at":1, "wz":1, "wr":1, "wt":1}

    rot = rot0.copy()
    acc = acc0.copy()

    Nrow, Ncol = 3, 1

    fig, ax = plt.subplots(Nrow, Ncol, figsize=(15, 6), sharex=True)

    acc_scaling, acc_unit = 1e3, f"mm/s$^2$"
    rot_scaling, rot_unit = 1e6, f"$\mu$rad/s"

    tmax = max(rot.select(channel="*Z")[0].times())
    if tmax > 1000:
        tscale, tunit = 1/60, "min"
    else:
        tscale, tunit = 1, "s"
        
    lw = 1

    font = 12

    acc_z = acc.select(channel="*Z")[0].data
    rot_z = rot.select(channel="*Z")[0].data

    acc_r, acc_t = rotate_ne_rt(acc.select(channel="*N")[0].data, acc.select(channel="*E")[0].data, baz)
    rot_r, rot_t = rotate_ne_rt(rot.select(channel="*N")[0].data, rot.select(channel="*E")[0].data, baz)

    rot_z = rot_z * rot_scaling * polarity['wz']
    rot_r = rot_r * rot_scaling * polarity['wr']
    rot_t = rot_t * rot_scaling * polarity['wt']

    acc_z = acc_z * acc_scaling * polarity['az']
    acc_r = acc_r * acc_scaling * polarity['ar']
    acc_t = acc_t * acc_scaling * polarity['at']

    acc_z_max = max([abs(min(acc_z)), abs(max(acc_z))])
    acc_r_max = max([abs(min(acc_r)), abs(max(acc_r))])
    acc_t_max = max([abs(min(acc_t)), abs(max(acc_t))])

    rot_z_max = max([abs(min(rot_z)), abs(max(rot_z))])
    rot_r_max = max([abs(min(rot_r)), abs(max(rot_r))])
    rot_t_max = max([abs(min(rot_t)), abs(max(rot_t))])

    dt = rot[0].stats.delta

    inc = __get_incidence(rot_t, acc_z, acc_r)
    
    acc_inc = __rotate_incidence(acc_r, acc_z, inc)

    rot0, acc0, rot0_lbl, acc0_lbl = rot_z, acc_t, f"{polarity['wz']}x ROT-Z", f"{polarity['at']}x ACC-T"
    rot1, acc1, rot1_lbl, acc1_lbl = rot_t, acc_z*np.cos(np.deg2rad(inc)), f"{polarity['wt']}x ROT-T", f"{polarity['az']}x ACC-Z"
    rot2, acc2, rot2_lbl, acc2_lbl = rot_t, acc_inc, f"{polarity['wr']}x ROT-T", f"ACC-Q"

    tt0, cc0 = __cross_correlation_windows(rot0, acc0, dt, twin_sec, overlap=twin_overlap, lag=0, demean=True)
    tt1, cc1 = __cross_correlation_windows(rot1, acc1, dt, twin_sec, overlap=twin_overlap, lag=0, demean=True)
    tt2, cc2 = __cross_correlation_windows(rot2, acc2, dt, twin_sec, overlap=twin_overlap, lag=0, demean=True)

    cmap = plt.get_cmap("coolwarm", 12)

    ax[0].plot(rot.select(channel="*Z")[0].times()*tscale, rot0, label=rot0_lbl, color="tab:red", lw=lw, zorder=3)
    ax00 = ax[0].twinx()
    ax00.plot(acc.select(channel="*Z")[0].times()*tscale, acc0, label=acc0_lbl, color="black", lw=lw)
    ax01 = ax[0].twinx()
    cm = ax01.scatter(tt0*tscale, ones(len(tt0))*-0.9, c=cc0, alpha=abs(cc0), cmap=cmap, label="")

    ax[0].set_ylim(-rot_z_max, rot_z_max)
    ax00.set_ylim(-acc_t_max, acc_t_max)
    ax01.set_ylim(-1, 1)
    ax01.yaxis.set_visible(False)

    ax[1].plot(rot.select(channel="*N")[0].times()*tscale, rot1, label=rot1_lbl, color="tab:red", lw=lw, zorder=3)
    ax11 = ax[1].twinx()
    ax11.plot(acc.select(channel="*Z")[0].times()*tscale, acc1, label=acc1_lbl, color="black", lw=lw)
    ax12 = ax[1].twinx()
    ax12.scatter(tt1*tscale, ones(len(tt1))*-0.9, c=cc1, alpha=abs(cc1), cmap=cmap, label="")

    ax[1].set_ylim(-rot_t_max, rot_t_max)
    ax11.set_ylim(-acc_z_max, acc_z_max)
    ax12.set_ylim(-1, 1)
    ax12.yaxis.set_visible(False)

    ax[2].plot(rot.select(channel="*N")[0].times()*tscale, rot2, label=rot2_lbl, color="tab:red", lw=lw, zorder=3)
    ax22 = ax[2].twinx()
    ax22.plot(acc.select(channel="*Z")[0].times()*tscale, acc2, label=acc2_lbl, color="black", lw=lw)
    ax23 = ax[2].twinx()
    ax23.scatter(tt2*tscale, ones(len(tt2))*-0.9, c=cc2, alpha=abs(cc2), cmap=cmap, label="")

    ax[2].set_ylim(-rot_z_max, rot_z_max)
    ax22.set_ylim(-acc_r_max, acc_r_max)
    ax23.set_ylim(-1, 1)
    ax23.yaxis.set_visible(False)
    
    try:
        cc0 = round(correlate(rot0, acc0, 0, demean=True, normalize='naive', method='auto')[0], 2)
    except:
        cc0 = 0
    try:
        cc1 = round(correlate(rot1, acc1, 0, demean=True, normalize='naive', method='auto')[0], 2)
    except:
        cc1 = 0        
    try:
        cc2 = round(correlate(rot2, acc2, 0, demean=True, normalize='naive', method='auto')[0], 2)
    except:
        cc2 = 0    
    cc = [cc0, cc1, cc2]

        

    ## sync twinx
    ax[0].set_yticks(linspace(ax[0].get_yticks()[0], ax[0].get_yticks()[-1], len(ax[0].get_yticks())))
    ax00.set_yticks(linspace(ax00.get_yticks()[0], ax00.get_yticks()[-1], len(ax[0].get_yticks())))

    ax[1].set_yticks(linspace(ax[1].get_yticks()[0], ax[1].get_yticks()[-1], len(ax[1].get_yticks())))
    ax11.set_yticks(linspace(ax11.get_yticks()[0], ax11.get_yticks()[-1], len(ax[1].get_yticks())))

    ax[2].set_yticks(linspace(ax[2].get_yticks()[0], ax[2].get_yticks()[-1], len(ax[2].get_yticks())))
    ax22.set_yticks(linspace(ax22.get_yticks()[0], ax22.get_yticks()[-1], len(ax[2].get_yticks())))

    for i in range(3):
        ax[i].legend(loc=1, ncols=4)
        ax[i].grid(which="both", alpha=0.5)
        ax[i].set_ylabel(f"$\Omega$ ({rot_unit})", fontsize=font)
        ax[i].set_xlim(0, tmax*tscale)
        if i < 2:
            ax[i].text(0.05, 0.9, f"CC={cc[i]}", ha='left', va='top', transform=ax[i].transAxes, fontsize=font-1)
        else:
            ax[i].text(0.05, 0.9, f"CC={cc[i]}  Inc = {inc}°", ha='left', va='top', transform=ax[i].transAxes, fontsize=font-1)

    for _ax in [ax00, ax11, ax22]:
        _ax.legend(loc=4)
        _ax.set_ylabel(f"$a$ ({acc_unit})", fontsize=font)

    for _k, ll in enumerate(['(a)','(b)','(c)']):
        ax[_k].text(0.005, 0.96, ll, ha="left", va="top", transform=ax[_k].transAxes, fontsize=font+1)

    ax[2].set_xlabel(f"Time ({tunit})", fontsize=font)

    tbeg = acc[0].stats.starttime
    ax[0].set_title(f"{tbeg.date} {str(tbeg.time).split('.')[0]} UTC  |  f = {fmin}-{fmax} Hz  |  BAz = {round(baz, 1)}°  |  ED = {round(distance/1000,1)} km  |  T = {twin_sec}s ({int(100*twin_overlap)}%)")

    cax = ax[Nrow-1].inset_axes([0.8, -0.35, 0.2, 0.1], transform=ax[Nrow-1].transAxes)
    cb = plt.colorbar(cm, cax=cax, shrink=0.4, location='bottom', orientation='horizontal')
    cm.set_clim(-1, 1)
    cb.set_label("Cross-Correlation", fontsize=font, loc="left", labelpad=-43, color="black", backgroundcolor="w")

    plt.show();
    
    return fig


# set polarity
pol={"az":-1, "ar":-1, "at":1, "wz":1, "wr":1, "wt":1}

fig = __makeplot_waveform_comparison_cc(rot1, acc1, baz, fmin, fmax,
                                        polarity=pol, distance=dist, twin_sec=60, twin_overlap=0.5)

fig.savefig(config['path_to_figs']+f"ROMY_{config['name']}_waveforms_cc.png", format="png", dpi=150, bbox_inches='tight');



def __makeplot_waveform_comparison(bspf, adr, submask):

    from obspy.signal.cross_correlation import correlate

    fig, ax = plt.subplots(3, 1, figsize=(15, 5))

    font = 14

    ax[0].plot(bspf.select(channel="*Z")[0].times(), bspf.select(channel="*Z")[0].data, label="BSPF Z")
    ax[0].plot(adr.select(channel="*Z")[0].times(), adr.select(channel="*Z")[0].data, label="ADR Z")

    ax[1].plot(bspf.select(channel="*N")[0].times(), bspf.select(channel="*N")[0].data, label="BSPF N")
    ax[1].plot(adr.select(channel="*N")[0].times(), adr.select(channel="*N")[0].data, label="ADR N")

    ax[2].plot(bspf.select(channel="*E")[0].times(), bspf.select(channel="*E")[0].data, label="BSPF E")
    ax[2].plot(adr.select(channel="*E")[0].times(), adr.select(channel="*E")[0].data, label="ADR E")

    cc_Z = round(correlate(bspf.select(channel="*Z")[0].data, adr.select(channel="*Z")[0].data, 0, demean=True, normalize='naive', method='auto')[0], 1)
    cc_N = round(correlate(bspf.select(channel="*N")[0].data, adr.select(channel="*N")[0].data, 0, demean=True, normalize='naive', method='auto')[0], 1)
    cc_E = round(correlate(bspf.select(channel="*E")[0].data, adr.select(channel="*E")[0].data, 0, demean=True, normalize='naive', method='auto')[0], 1)

    for i in range(3):
        ax[i].legend(loc=1, ncols=4)
        ax[i].grid(which="both", alpha=0.5)
        # ax[i].set_xscale("log")
        ax[i].set_ylabel("rot. rate (rad/s)")

    ax[2].set_xlabel("Frequency (Hz)")
    ax[0].set_title(f"{config['tbeg'].date} | {config['fmin']}-{config['fmax']} Hz | ADR {submask} | CCz = {cc_Z} | CCn = {cc_N} | CCe = {cc_E}")

    plt.show();
    return fig



fig = __makeplot_spectra_comparison_fill(rot1, acc1, fmin=fmin, fmax=fmax, ylog=False, xlog=False, fill=True)

fig.savefig(config['path_to_figs']+f"ROMY_{config['name']}_spectra_all.png", format="png", dpi=150, bbox_inches='tight');



outs = {}

rot00 = st00.copy().select(station="ROMY", location="30")

for component in ["E", "N", "Z"]:

    dt = rot00[0].stats.delta # seconds
    ttt = rot00[0].times()
    arr = rot00.select(channel=f"*{component}")[0].data

    out = __compute_cwt(ttt, arr, dt, tscale="sec",
                        datalabel=f"ROMY-{component}",
                        period=False,
                        ymax=1,
                        plot=True,
                        log=True,
                       )

    # add to dict
    outs[component] = out

    # store image
    out['fig'].savefig(config['path_to_figs']+f"ROMY_{config['name']}_cwt_{component}.png",
                       format="png", dpi=150, bbox_inches='tight');



def __makeplot_cwt_all(st0, out, clog=False, ylim=None):

    import matplotlib.pyplot as plt
    import numpy as np
    from matplotlib.gridspec import GridSpec

    def __rmse(arr1, arr2):
        return np.round(np.sqrt(np.mean((arr1-arr2)**2)), 2)

    tscale = 1

    times = st0.select(channel="*N")[0].times()*tscale

    Ncol, Nrow = 1, 9

    font = 12

    cmap = plt.get_cmap("viridis")

    tilt_scale, tilt_unit = 1e9, f"nrad/s"

    fig = plt.figure(figsize=(15, 8))

    gs = GridSpec(Nrow, Ncol, figure=fig, hspace=0.1)

    ax1 = fig.add_subplot(gs[0, :])
    ax2 = fig.add_subplot(gs[1:3, :])
    ax3 = fig.add_subplot(gs[3, :])
    ax4 = fig.add_subplot(gs[4:6, :])
    ax5 = fig.add_subplot(gs[6, :])
    ax6 = fig.add_subplot(gs[7:9, :])

    axes = [ax1, ax2, ax3, ax4, ax5, ax6]

    Z = st0.select(channel="*Z")[0].data*tilt_scale
    N = st0.select(channel="*N")[0].data*tilt_scale
    E = st0.select(channel="*E")[0].data*tilt_scale

    periodZ = outs['Z']['frequencies']
    periodN = outs['N']['frequencies']
    periodE = outs['N']['frequencies']

    # _______________________________________________________________
    #
    ax1.plot(times, N, color="k", label="N", lw=1)
    ax1.set_xlim(min(times), max(times))
    ax1.legend(loc=1)
    ax1.set_xticklabels([])

    if clog:
        vmin, vmax, norm = 0.01, 1, "log"
    else:
        vmin, vmax, norm = 0.0, 0.9, None
    # _______________________________________________________________
    #
    im1 = ax2.pcolormesh(out['N']['times']*tscale, periodN, out['N']['cwt_power'],
                         cmap=cmap,
                         vmin=vmin,
                         vmax=vmax,
                         norm=norm,
                        )
    ax2.plot(out['N']['times']*tscale, out['N']['cone'], color="white", ls="--")
    ax2.fill_between(out['N']['times']*tscale, out['N']['cone'], min(periodN)*np.ones(len(out['N']['cone'])), color="white", alpha=0.2)
    ax2.set_xticklabels([])

    if ylim is None:
        ax2.set_ylim(min(periodN), max(periodN))
    else:
        ax2.set_ylim(min(periodN), ylim)

    # _______________________________________________________________
    #
    ax3.plot(times, E, color="k", label="E", lw=1)
    ax3.set_xlim(min(times), max(times))
    ax3.legend(loc=1)
    ax3.set_xticklabels([])

    # _______________________________________________________________
    #
    im2 = ax4.pcolormesh(out['E']['times']*tscale, periodE, out['E']['cwt_power'],
                         cmap=cmap,
                         vmin=vmin,
                         vmax=vmax,
                         norm=norm,
                        )
    ax4.plot(out['E']['times']*tscale, out['E']['cone'], color="white", ls="--")
    ax4.fill_between(out['E']['times']*tscale, out['E']['cone'], min(periodE)*np.ones(len(out['E']['cone'])), color="white", alpha=0.2)
    ax4.set_xticklabels([])

    if ylim is None:
        ax4.set_ylim(min(periodE), max(periodE))
    else:
        ax4.set_ylim(min(periodE), ylim)

    # _______________________________________________________________
    #
    ax5.plot(times, Z, color="k", label="Z", lw=1)
    ax5.set_xlim(min(times), max(times))
    ax5.legend(loc=1)
    ax5.set_xticklabels([])

    # _______________________________________________________________
    #
    im3 = ax6.pcolormesh(out['Z']['times']*tscale, periodE, out['Z']['cwt_power'],
                         cmap=cmap,
                         vmin=vmin,
                         vmax=vmax,
                         norm=norm,
                        )
    ax6.plot(out['Z']['times']*tscale, out['Z']['cone'], color="white", ls="--")
    ax6.fill_between(out['Z']['times']*tscale, out['Z']['cone'], min(periodZ)*np.ones(len(out['Z']['cone'])), color="white", alpha=0.2)

    if ylim is None:
        ax6.set_ylim(min(periodZ), max(periodZ))
    else:
        ax6.set_ylim(min(periodZ), ylim)

    # _______________________________________________________________
    #
    ax1.set_ylabel(f"$\Omega$ ({tilt_unit})", fontsize=font)
    ax2.set_ylabel(f"Frequency (Hz)", fontsize=font)
    ax3.set_ylabel(f"$\Omega$ ({tilt_unit})", fontsize=font)
    ax4.set_ylabel(f"Frequency (Hz)", fontsize=font)
    ax5.set_ylabel(f"$\Omega$ ({tilt_unit})", fontsize=font)
    ax6.set_ylabel(f"Frequency (Hz)", fontsize=font)

    ax6.set_xlabel(f"Time (s) from {config['tbeg'].date} {str(config['tbeg'].time).split('.')[0]} UTC", fontsize=font)


    ax1.text(.005, .97, "(a)", ha='left', va='top', transform=ax1.transAxes, fontsize=font+2)
    ax2.text(.005, .97, "(b)", ha='left', va='top', transform=ax2.transAxes, fontsize=font+2, color="w")
    ax3.text(.005, .97, "(c)", ha='left', va='top', transform=ax3.transAxes, fontsize=font+2)
    ax4.text(.005, .97, "(d)", ha='left', va='top', transform=ax4.transAxes, fontsize=font+2, color="w")
    ax5.text(.005, .97, "(e)", ha='left', va='top', transform=ax5.transAxes, fontsize=font+2)
    ax6.text(.005, .97, "(f)", ha='left', va='top', transform=ax6.transAxes, fontsize=font+2, color="w")

    # add colorbar
    cbar_ax = fig.add_axes([0.91, 0.11, 0.01, 0.77]) #[left, bottom, width, height]
    cb = plt.colorbar(im1, cax=cbar_ax, extend="max")
    cb.set_label("norm. continuous wavelet transform power", fontsize=font, labelpad=5, color="black")

#     ax1.set_title(f"bandpass = {pmax} - {pmin} hours")

    plt.plot();
    return fig

fig = __makeplot_cwt_all(rot00, outs, clog=True, ylim=0.5)




out = __compute_cross_wavelet_transform(
                                        rot0[0].times(),
                                        rot0.select(channel=f"*{component}")[0].data,
                                        acc0.select(channel=f"*{component}")[0].data,
                                        rot0[0].stats.delta,
                                        xwt_threshold=0.,
                                        ymax=10,
                                        normalize=False,
                                        ylog=True,
                                        clog=True,
                                        plot=True,
)

out['fig'].savefig(config['path_to_figs']+f"ROMY_{config['name']}_xwt_{component}.png", dpi=200, bbox_inches='tight', pad_inches=0.05)



from scipy.signal import hilbert
from obspy.signal.tf_misfit import plot_tf_misfits

for component in ["Z", "N", "E"]:

    st1 = st0.copy()

    st1 = st1.detrend("demean").taper(0.01, type="cosine").filter("bandpass", freqmin=0.01, freqmax=10, corners=4, zerophase=True)

    s1 = st1.select(station="ROMY", channel=f"*{component}")[0].data
    s2 = st1.select(station=f"{config['seis']}", channel=f"*{component}")[0].data

    plot_tf_misfits(s1, s2, dt=st1[0].stats.delta, fmin=0.01, fmax=20, show=True, norm="global")



fig = __makeplot_comparison_ccf(rot1, acc1, baz, dist, twin_sec=1, twin_overlap=0.5, fmin=fmin, fmax=fmax)


from functions.compute_backazimuth import __compute_backazimuth
from functions.get_theoretical_backazimuth import __get_theoretical_backazimuth
from functions.compute_backazimuth_tangent import __compute_backazimuth_tangent
from functions.compare_backazimuth_codes import __compare_backazimuth_codes


config['station_longitude'] = config['sta_lon']
config['station_latitude'] = config['sta_lat']

## specify window length for baz estimation in seconds
config['win_length_sec'] = 60

## define an overlap for the windows in percent (50 -> 50%)
config['overlap'] = 50

## specify steps for degrees of baz
config['step'] = 1


baz, az, dist = __get_theoretical_backazimuth(config['sta_lat'], config['sta_lon'], event_obj=config['event'], fdsn_client='USGS')



out1 = __compute_backazimuth(
                            acc1,
                            rot1,
                            config,
                            wave_type='love',
                            event=config['event'],
                            plot=True,
                            flim=(fmin, fmax),
                            invert_rot_z=False,
                            show_details=False,
)

out1['fig'].savefig(config['path_to_figs']+f"ROMY_{config['name']}_baz_love_{fmin}_{fmax}.png", dpi=150, bbox_inches='tight', pad_inches=0.05)


out2 = __compute_backazimuth(
                            acc1,
                            rot1,
                            config,
                            wave_type='rayleigh',
                            event=config['event'],
                            plot=True,
                            flim=(fmin, fmax),
                            invert_rot_z=False,
                            show_details=False,
)

out2['fig'].savefig(config['path_to_figs']+f"ROMY_{config['name']}_baz_rayleigh_{fmin}_{fmax}.png", dpi=150, bbox_inches='tight', pad_inches=0.05)


out3 = __compute_backazimuth_tangent(
                                    rot1,
                                    acc1,
                                    win_time_s=config['win_length_sec'],
                                    overlap=config['overlap']/100,
                                    baz_theo=baz,
                                    cc_thres=0.1,
                                    plot=True,
                                    invert_acc_z=True,
                                    )

out3['fig'].savefig(config['path_to_figs']+f"ROMY_{config['name']}_baz_tangent_{rot1[0].stats.station}{fmin}_{fmax}.png", dpi=150, bbox_inches='tight', pad_inches=0.05)



# def __compare_backazimuth_codes(rot0, acc0, cat_event, fmin, fmax, Twin, Toverlap, cc_thres=None, invert_rot_z=False, invert_acc_z=False, plot=False):

#     import scipy.stats as sts
#     import matplotlib.pyplot as plt

#     from numpy import ones, linspace, histogram, concatenate, average, argmax, isnan, sqrt, cov, nan, array, arange
#     from obspy import UTCDateTime
#     from obspy.signal.rotate import rotate_ne_rt
#     from functions.compute_backazimuth import __compute_backazimuth
#     # from functions.compute_backazimuth_tangent import __compute_backazimuth_tangent

#     rot = rot0.copy()
#     acc = acc0.copy()

#     rot.detrend("demean").taper(0.1).filter("bandpass", freqmin=fmin, freqmax=fmax)
#     acc.detrend("demean").taper(0.1).filter("bandpass", freqmin=fmin, freqmax=fmax)

#     config = {}

#     config['tbeg'] = rot[0].stats.starttime
#     config['tend'] = rot[0].stats.endtime

#     ## Eventtime
#     config['eventtime'] = UTCDateTime(cat_event.origins[0].time)

#     ## specify coordinates of station
#     config['station_longitude'] = 11.275501
#     config['station_latitude']  = 48.162941

#     ## specify window length for baz estimation in seconds
#     config['win_length_sec'] = Twin

#     ## define an overlap for the windows in percent (50 -> 50%)
#     config['overlap'] = Toverlap

#     ## specify steps for degrees of baz
#     config['step'] = 1

#     ## change polarization
#     if invert_acc_z:
#         acc.select(channel="*Z")[0].data *= -1
#     if invert_rot_z:
#         rot.select(channel="*Z")[0].data *= -1

#     ## avoid double turn of polarization
#     invert_acc_z = not invert_acc_z

#     out1 = __compute_backazimuth(
#                                 acc,
#                                 rot,
#                                 config,
#                                 wave_type='rayleigh',
#                                 event=cat_event,
#                                 plot=False,
#                                 flim=(fmin, fmax),
#                                 show_details=False,
#     )

#     out2 = __compute_backazimuth(
#                                 acc,
#                                 rot,
#                                 config,
#                                 wave_type='love',
#                                 event=cat_event,
#                                 plot=False,
#                                 flim=(fmin, fmax),
#                                 show_details=False,
#     )

#     out3 = __compute_backazimuth_tangent(
#                                         rot,
#                                         acc,
#                                         win_time_s= config['win_length_sec'],
#                                         overlap=config['overlap']/100,
#                                         baz_theo=out2['baz_theo'],
#                                         cc_thres=0,
#                                         plot=False,
#                                         invert_acc_z=invert_acc_z,
#     )

#     ## filter according to cc-threshold
#     if cc_thres:
#         for ii, _cc in enumerate(out1['cc_max']):
#             if abs(_cc) <= cc_thres:
#                 out1['cc_max'][ii], out1['cc_max_y'][ii] = nan, nan
#         for ii, _cc in enumerate(out2['cc_max']):
#             if abs(_cc) <= cc_thres:
#                 out2['cc_max'][ii], out2['cc_max_y'][ii] = nan, nan
#         for ii, _cc in enumerate(out3['ccoef']):
#             if abs(_cc) <= cc_thres:
#                 out3['ccoef'][ii], out3['baz_est'][ii] = nan, nan



#     ## compute statistics
#     deltaa = 10
#     angles = arange(0, 365, deltaa)
#     angles2 = arange(0, 365, 1)

#     ## ______________________________________
#     ## Rayleigh
#     try:
#         baz_rayleigh_no_nan = out1['cc_max_y'][~isnan(out1['cc_max_y'])]
#         cc_rayleigh_no_nan = out1['cc_max'][~isnan(out1['cc_max'])]

#         hist = histogram(out1['cc_max_y'], bins=len(angles)-1, range=[min(angles), max(angles)], weights=out1['cc_max'], density=True)

#         baz_rayleigh_mean = round(average(baz_rayleigh_no_nan, weights=cc_rayleigh_no_nan), 0)
#         baz_rayleigh_std = sqrt(cov(baz_rayleigh_no_nan, aweights=cc_rayleigh_no_nan))

#         # baz_rayleigh_max = angles[argmax(hist[0])]+deltaa  ## add half of deltaa to be in the bin center
#         kde1 = sts.gaussian_kde(baz_rayleigh_no_nan, weights=baz_rayleigh_no_nan)
#         baz_rayleigh_max = angles2[argmax(kde1.pdf(angles2))]

#         ## ______________________________________
#         ## Love
#         baz_love_no_nan = out2['cc_max_y'][~isnan(out2['cc_max_y'])]
#         cc_love_no_nan = out2['cc_max'][~isnan(out2['cc_max'])]

#         hist = histogram(out2['cc_max_y'], bins=len(angles)-1, range=[min(angles), max(angles)], weights=out2['cc_max'], density=True)

#         baz_love_mean = round(average(baz_love_no_nan, weights=cc_love_no_nan), 0)
#         baz_love_std = sqrt(cov(baz_love_no_nan, aweights=cc_love_no_nan))

#         # baz_love_max = angles[argmax(hist[0])]+deltaa  ## add half of deltaa to be in the bin center
#         kde2 = sts.gaussian_kde(baz_love_no_nan, weights=cc_love_no_nan)
#         baz_love_max = angles2[argmax(kde2.pdf(angles2))]

#         ## ______________________________________
#         ## Tangent
#         baz_tangent_no_nan = out3['baz_est'][~isnan(out3['ccoef'])]
#         cc_tangent_no_nan = out3['baz_est'][~isnan(out3['ccoef'])]

#         hist = histogram(out3['baz_est'], bins=len(angles)-1, range=[min(angles), max(angles)], weights=out3['ccoef'], density=True)

#         baz_tangent_mean = round(average(baz_tangent_no_nan, weights=cc_tangent_no_nan), 0)
#         baz_tangent_std = sqrt(cov(baz_tangent_no_nan, aweights=cc_tangent_no_nan))

#         # baz_tangent_max = angles[argmax(hist[0])]+deltaa  ## add half of deltaa to be in the bin center
#         kde3 = sts.gaussian_kde(baz_tangent_no_nan, weights=cc_tangent_no_nan)
#         baz_tangent_max = angles2[argmax(kde3.pdf(angles2))]

#     except Exception as e:
#         print(e)
#         pass

#     if plot:

#         import matplotlib.pyplot as plt
#         from matplotlib.gridspec import GridSpec

#         Ncol, Nrow = 8, 6

#         fig3 = plt.figure(figsize=(15, 10))

#         gs = GridSpec(Nrow, Ncol, figure=fig3, hspace=0.15)

#         ax0 = fig3.add_subplot(gs[0, :])
#         ax1 = fig3.add_subplot(gs[1, :])
#         ax2 = fig3.add_subplot(gs[2, :])

#         ax3 = fig3.add_subplot(gs[3, :])
#         ax4 = fig3.add_subplot(gs[4, :])
#         ax5 = fig3.add_subplot(gs[5, :])

#         ax6 = fig3.add_subplot(gs[3, 7:])
#         ax7 = fig3.add_subplot(gs[4, 7:])
#         ax8 = fig3.add_subplot(gs[5, 7:])

#         ax6.set_axis_off()
#         ax7.set_axis_off()
#         ax8.set_axis_off()

#         for _ax in [ax0, ax1, ax2, ax3, ax4]:
#             _ax.set_xticklabels([])

#         rot_scaling, rot_unit = 1e6, r"$\mu$rad/s"
#         trans_scaling, trans_unit = 1e3, r"mm/s$^2$"

#         font = 12

#         hz = acc.select(channel="*HZ")[0]
#         hn = acc.select(channel="*HN")[0]
#         he = acc.select(channel="*HE")[0]

#         jz = rot.select(channel="*JZ")[0]
#         jn = rot.select(channel="*JN")[0]
#         je = rot.select(channel="*JE")[0]

#         hr, ht = rotate_ne_rt(hn.data, he.data, out3['baz_theo'])
#         jr, jt = rotate_ne_rt(jn.data, je.data, out3['baz_theo'])

#         ## reverse polarity of transverse rotation!!
#         # jt *= -1

#         t1, t2 = hz.times().min(), hz.times().max()

#         ax0.plot(hz.times(), (ht)*trans_scaling, 'black', label=f"ACC.T")
#         ax1.plot(hz.times(), (hz.data)*trans_scaling, 'black', label=f"ACC.Z")
#         ax2.plot(hz.times(), hr*trans_scaling, 'black', label=f"ACC.R")

#         ax0.set_ylim(-max(abs((ht)*trans_scaling)), max(abs((ht)*trans_scaling)))
#         ax1.set_ylim(-max(abs((hz.data)*trans_scaling)), max(abs((hz.data)*trans_scaling)))
#         ax2.set_ylim(-max(abs(hr*trans_scaling)), max(abs(hr*trans_scaling)))

#         ax00 = ax0.twinx()
#         ax00.plot(jz.times(), jz.data*rot_scaling, 'darkred', label=r"ROT.Z")

#         ax11 = ax1.twinx()
#         ax11.plot(jz.times(), jt*rot_scaling, 'darkred', label=r"ROT.T")

#         ax22 = ax2.twinx()
#         ax22.plot(jz.times(), jt*rot_scaling, 'darkred', label=r"ROT.T")

#         ax00.set_ylim(-max(abs(jz.data*rot_scaling)), max(abs(jz.data*rot_scaling)))
#         ax11.set_ylim(-max(abs(jt*rot_scaling)), max(abs(jt*rot_scaling)))
#         ax22.set_ylim(-max(abs(jt*rot_scaling)), max(abs(jt*rot_scaling)))

#         cmap = plt.get_cmap("viridis", 10)

#         ca3 = ax3.scatter(out1['cc_max_t'], out1['cc_max_y'], c=out1['cc_max'], s=50, cmap=cmap, edgecolors="k", lw=1, vmin=0, vmax=1, zorder=2)
#         ca4 = ax4.scatter(out2['cc_max_t'], out2['cc_max_y'], c=out2['cc_max'], s=50, cmap=cmap, edgecolors="k", lw=1, vmin=0, vmax=1, zorder=2)
#         ca5 = ax5.scatter(out3['t_win_center'], out3['baz_est'], c=out3['ccoef'], s=50, cmap=cmap, edgecolors="k", lw=1, vmin=0, vmax=1, zorder=2)

#         cax3 = ax3.inset_axes([1.01, 0., 0.02, 1])
#         cb3 = plt.colorbar(ca3, ax=ax3, cax=cax3)
#         cb3.set_label("CC-Coeff.", fontsize=font)

#         cax4 = ax4.inset_axes([1.01, 0., 0.02, 1])
#         cb4 = plt.colorbar(ca4, ax=ax4, cax=cax4)
#         cb4.set_label("CC-Coeff.", fontsize=font)

#         cax5 = ax5.inset_axes([1.01, 0., 0.02, 1])
#         cb5 = plt.colorbar(ca5, ax=ax5, cax=cax5)
#         cb5.set_label("CC-Coeff.", fontsize=font)

#         ax3.set_ylabel(f"Rayleigh Baz.(°)", fontsize=font)
#         ax4.set_ylabel(f"Love Baz.(°)", fontsize=font)
#         ax5.set_ylabel(f"CoVar. Baz.(°)", fontsize=font)

#         ax66 = ax6.twinx()
#         ax66.hist(out1['cc_max_y'], bins=len(angles)-1, range=[min(angles), max(angles)],
#                   weights=out1['cc_max'], orientation="horizontal", density=True, color="grey")
#         ax66.plot(kde1.pdf(angles), angles, c="k", lw=2, label='KDE')
#         ax66.axhline(baz_rayleigh_max, color="k", ls="--")
#         ax66.set_axis_off()
#         ax66.yaxis.tick_right()
#         ax66.invert_xaxis()

#         ax77 = ax7.twinx()
#         ax77.hist(out2['cc_max_y'], bins=len(angles)-1, range=[min(angles), max(angles)],
#                   weights=out2['cc_max'], orientation="horizontal", density=True, color="grey")
#         ax77.plot(kde2.pdf(angles), angles, c="k", lw=2, label='KDE')
#         ax77.axhline(baz_love_max, color="k", ls="--")
#         ax77.set_axis_off()
#         ax77.yaxis.tick_right()
#         ax77.invert_xaxis()

#         ax88 = ax8.twinx()
#         ax88.hist(out3['baz_est'], bins=len(angles)-1, range=[min(angles), max(angles)],
#                   weights=out3['ccoef'], orientation="horizontal", density=True, color="grey")
#         ax88.plot(kde3.pdf(angles), angles, c="k", lw=2, label='KDE')
#         ax88.axhline(baz_tangent_max, color="k", ls="--")
#         ax88.set_axis_off()
#         ax88.yaxis.tick_right()
#         ax88.invert_xaxis()


#         ax0.set_yticks(linspace(ax0.get_yticks()[0], ax0.get_yticks()[-1], len(ax0.get_yticks())))
#         ax00.set_yticks(linspace(ax00.get_yticks()[0], ax00.get_yticks()[-1], len(ax0.get_yticks())))

#         ax1.set_yticks(linspace(ax1.get_yticks()[0], ax1.get_yticks()[-1], len(ax1.get_yticks())))
#         ax11.set_yticks(linspace(ax11.get_yticks()[0], ax11.get_yticks()[-1], len(ax1.get_yticks())))

#         ax2.set_yticks(linspace(ax2.get_yticks()[0], ax2.get_yticks()[-1], len(ax2.get_yticks())))
#         ax22.set_yticks(linspace(ax22.get_yticks()[0], ax22.get_yticks()[-1], len(ax2.get_yticks())))

#         for _ax in [ax0, ax1, ax2]:
#             _ax.grid(which="both", ls=":", alpha=0.7, color="grey", zorder=0)
#             _ax.legend(loc=1)
#             _ax.set_ylabel(f"a ({trans_unit})", fontsize=font)
#             _ax.set_xlim(0, (config['tend']-config['tbeg'])*1.15)

#         for _ax in [ax3 ,ax4, ax5]:
#             _ax.set_ylim(-5, 365)
#             _ax.set_yticks(range(0, 360+60,60))
#             _ax.grid(which="both", ls=":", alpha=0.7, color="grey", zorder=0)
#             _ax.set_xlim(0,  (config['tend']-config['tbeg'])*1.15)

#             _ax.plot([t1, t2], ones(2)*out3['baz_theo'], lw=1.5, alpha=0.7, color="k", ls="--", zorder=1)
#             _ax.fill_between([t1, t2], ones(2)*out3['baz_theo']-10, ones(2)*out3['baz_theo']+10, lw=1.5, alpha=0.5, color="grey", zorder=1)

#         for aaxx in [ax00, ax11, ax22]:
#             aaxx.tick_params(axis='y', colors="darkred")
#             aaxx.set_ylabel(f"$\Omega$ ({rot_unit})", color="darkred", fontsize=font)
#             aaxx.legend(loc=4)

#         ax0.set_title(f" {config['tbeg'].date}  {str(config['tbeg'].time).split('.')[0]}-{str(config['tend'].time).split('.')[0]} UTC | f = {fmin}-{fmax} Hz | T = {config['win_length_sec']} s | {config['overlap']} % overlap")

#         ax5.set_xlabel("Time (s)", fontsize=font)

#         plt.show();


#     ## prepare output directory
#     out = {}
#     out['baz_theo'] = round(out2['baz_theo'], 0)
#     out['baz_angles'] = angles
#     out['baz_tangent_max'] = baz_tangent_max
#     out['baz_tangent_mean'] = baz_tangent_mean
#     out['baz_tangent_std'] = baz_tangent_std
#     out['baz_rayleigh_max'] = baz_rayleigh_max
#     out['baz_rayleigh_mean'] = baz_rayleigh_mean
#     out['baz_rayleigh_std'] = baz_rayleigh_std
#     out['baz_love_max'] = baz_love_max
#     out['baz_love_mean'] = baz_love_mean
#     out['baz_love_std'] = baz_love_std


#     if plot:
#         # out['fig1'] = fig1
#         # out['fig2'] = fig2
#         out['fig3'] = fig3

#     return out


# def __compute_backazimuth_tangent(rot0, acc0, win_time_s=0.5, overlap=0.5, baz_theo=None, cc_thres=None, plot=False, invert_acc_z=False):

#     from numpy import zeros, nan, ones, nanmean, array, nanmax
#     from numpy import arctan, pi, linspace, cov, argsort, corrcoef, correlate
#     from obspy.signal.rotate import rotate_ne_rt
#     from numpy.linalg import eigh
#     from obspy.signal.cross_correlation import correlate
#     import matplotlib.pyplot as plt

#     npts = rot0[0].stats.npts

#     df = rot0[0].stats.sampling_rate

#     # windows
#     t_win = win_time_s
#     n_win = int(win_time_s*df)
#     nover = int(overlap*n_win)

#     # extract components
#     rot_n = rot0.select(channel="*N")[0].data
#     rot_e = rot0.select(channel="*E")[0].data

#     if invert_acc_z:
#         acc_z = -acc0.select(channel="*Z")[0].data
#     else:
#         acc_z = acc0.select(channel="*Z")[0].data

#     # define windows
#     n, windows = 0, []
#     while n < npts-n_win:
#         windows.append((n, n+n_win))
#         n += n_win

#     # add overlap
#     if overlap != 0:
#         windows_overlap = []
#         for i, w in enumerate(windows):
#             if i == 0:
#                 windows_overlap.append((w[0], w[1]+nover))
#             elif i >= int(len(windows)-nover):
#                 windows_overlap.append((w[0]-nover, w[1]))
#             else:
#                 windows_overlap.append((w[0]-nover, w[1]+nover))
#     else:
#         windows_overlap = windows

#     # compute baz and ccorr for each window
#     baz, ccor = ones(len(windows_overlap))*nan, ones(len(windows_overlap))*nan

#     for j, (w1, w2) in enumerate(windows_overlap):

#         if int(w2-w1) < 10:
#             print(f" -> not enough samples in window (<10)")

#         dat = (zeros((len(rot_n[w1:w2]), 2)))
#         dat[:, 0] = rot_e[w1: w2]
#         dat[:, 1] = rot_n[w1: w2]

#         covar = cov(dat, rowvar=False)

#         Cprime, Q = eigh(covar, UPLO='U')

#         loc = argsort(abs(Cprime))[::-1]

#         Q = Q[:, loc]

#         baz0 = -arctan((Q[1, 0]/Q[0, 0]))*180/pi

#         # make sure baz is between 0 - 360
#         if baz0 <= 0:
#             baz0 += 180

#         # __________________________
#         # remove 180° ambiguity

#         rot_r, rot_t = rotate_ne_rt(rot_n[w1:w2], rot_e[w1:w2], baz0)

#         # compute zero-lag cross-correlation
#         corr_baz = correlate(acc_z[w1:w2], rot_t, 0, 'auto')[0]

#         # if (corr_baz > 0): # original
#         #     baz0 += 180

#         if (corr_baz < 0):
#             baz0 += 180

#         # add new values to array
#         if abs(corr_baz) > cc_thres:
#             baz[j] = baz0
#             ccor[j] = abs(corr_baz)


#     ## define time axis
#     t1 = array([w1/df for (w1, w2) in windows_overlap])
#     t2 = array([w2/df for (w1, w2) in windows_overlap])

#     time = array([((w2-w1)/2+w1)/df for (w1, w2) in windows_overlap])
#     terr = (t2-t1)/2

#     win_center = array([(((w2-w1)/2)+w1) for (w1, w2) in windows_overlap])
#     t_win_center = win_center/df


#     ## Plotting
#     if plot:

#         rot0_r, rot0_t = rotate_ne_rt(rot_n, rot_e, baz_theo)

#         cmap = plt.get_cmap("viridis", 10)

#         fig, ax = plt.subplots(1, 1, figsize=(15,5))

#         ax.plot(array(range(len(rot0_t)))/df, rot0_t/max(abs(rot0_t)), alpha=1, color="grey", label="rotation rate T (rad/s)")
#         ax.plot(array(range(len(acc_z)))/df, acc_z/max(abs(acc_z)), alpha=0.5, color="tab:red", label=r"acceleration Z (m/s$^2$)")


#         ax.set_ylim(-1, 1)
#         # ax.set_xlim(0, len(rot0_t)/df)
#         ax.set_xlabel("Time (s)", fontsize=14)
#         ax.set_ylabel("Norm. Amplitude", fontsize=14)
#         ax.grid(zorder=0)
#         ax.legend(loc=4, fontsize=13)

#         ax2 = ax.twinx()
#         cax = ax2.scatter(time, baz, c=ccor, s=50, cmap=cmap, edgecolors="k", lw=1, vmin=0, vmax=1, zorder=2)
#         ax2.errorbar(time, baz, xerr=terr, yerr=None, zorder=1, color="lightgrey", marker='o', markersize=2, ls="None")
#         ax2.set_ylabel("Backazimuth (°)", fontsize=14)
#         ax2.set_ylim(0, 360)
#         ax2.set_yticks(linspace(ax2.get_yticks()[0], ax2.get_yticks()[-1], len(ax.get_yticks())))

#         cbar = plt.colorbar(cax, pad=0.08)
#         cbar.set_label("Cross-Correlation Coefficient", fontsize=14)

#         cax.set_clip_on(False)

#         if baz_theo:
#             ax2.axhline(baz_theo, ls=":", c="k")

#         plt.show();

#         out = {"time":time, "baz_est":baz, "ccoef":ccor, "baz_theo":baz_theo, "t_win_center":t_win_center, "fig":fig}
#     else:
#         out = {"time":time, "baz_est":baz, "ccoef":ccor, "baz_theo":baz_theo, "t_win_center":t_win_center}

#     return out


out4 = __compare_backazimuth_codes(rot1, acc1, config['event'], fmin, fmax,
                                   config['win_length_sec'], config['overlap'],
                                   cc_thres=0.5, invert_acc_z=True, invert_rot_z=False, plot=True,
                                  );

out4['fig3'].savefig(config['path_to_figs']+f"ROMY_{config['name']}_baz_comparison_{rot1[0].stats.location}_{fmin}_{fmax}_all.png", dpi=150, bbox_inches='tight', pad_inches=0.05);






from functions.compute_velocity_from_amplitude_ratio import __compute_velocity_from_amplitude_ratio


#!/bin/python3


## End of File


out = __compute_velocity_from_amplitude_ratio(
                                                rot1,
                                                acc1,
                                                baz=baz,
                                                mode='love',
                                                win_time_s=config['win_length_sec'],
                                                cc_thres=0.8,
                                                overlap=config['overlap']/100,
                                                flim=(fmin, fmax),
                                                plot=True,
)

# out['fig'].savefig(config['path_to_figs']+f"ROMY_{config['event_name']}_velocity_love_{rot1[0].stats.station}_{fmin}_{fmax}.png", dpi=200, bbox_inches='tight', pad_inches=0.05)


out = __compute_velocity_from_amplitude_ratio(
                                                rot1,
                                                acc1,
                                                baz=baz,
                                                mode='rayleigh',
                                                win_time_s=config['win_length_sec'],
                                                cc_thres=0.8,
                                                overlap=config['overlap']/100,
                                                flim=(fmin, fmax),
                                                plot=True,
                                                reverse_accZ=True,
)

# out['fig'].savefig(config['path_to_figs']+f"ROMY_{config['event_name']}_velocity_rayleigh_{rot1[0].stats.station}_{fmin}_{fmax}.png", dpi=200, bbox_inches='tight', pad_inches=0.05)



def __makeplotStream_velocities2(rot, acc, fmin, fmax, baz, overlap=0.5, cc_threshold=0.2, twin=None, reverse_rotZ=False, reverse_accZ=False, ymax=4000):

    import matplotlib.pyplot as plt
    import numpy as np
    from functions.compute_velocity_from_amplitude_ratio import __compute_velocity_from_amplitude_ratio
    from obspy.signal.rotate import rotate_ne_rt

    rot00 = rot.copy()
    acc00 = acc.copy()

    if reverse_rotZ:
        rot00.select(channel="*Z")[0].data *= -1

    if reverse_accZ:
        acc00.select(channel="*Z")[0].data *= -1

    rot00 = rot00.detrend("demean").taper(0.1).filter("bandpass", freqmin=fmin, freqmax=fmax, zerophase=True, corners=4)
    acc00 = acc00.detrend("demean").taper(0.1).filter("bandpass", freqmin=fmin, freqmax=fmax, zerophase=True, corners=4)

    df = rot00[0].stats.sampling_rate

    if not twin:
        twin=1/fmin

    out1 = __compute_velocity_from_amplitude_ratio(
                                                    rot00,
                                                    acc00,
                                                    baz=baz,
                                                    mode='love',
                                                    win_time_s=twin,
                                                    cc_thres=cc_threshold,
                                                    overlap=overlap,
                                                    flim=(fmin, fmax),
                                                    plot=False,
                                                    reverse_rotZ=False,
                                                    reverse_accZ=False,
                                                    )

    out2 = __compute_velocity_from_amplitude_ratio(
                                                    rot00,
                                                    acc00,
                                                    baz=baz,
                                                    mode='rayleigh',
                                                    win_time_s=twin,
                                                    cc_thres=cc_threshold,
                                                    overlap=overlap,
                                                    flim=(fmin, fmax),
                                                    plot=False,
                                                    reverse_rotZ=False,
                                                    reverse_accZ=False,
                                                    )

    rot_r, rot_t = rotate_ne_rt(rot00.select(channel='*N')[0].data,
                                rot00.select(channel='*E')[0].data,
                                baz
                                )
    acc_r, acc_t = rotate_ne_rt(acc00.select(channel='*N')[0].data,
                                acc00.select(channel='*E')[0].data,
                                baz
                                )

    rot_z = rot00.select(channel="*Z")[0].data
    rot_n = rot00.select(channel="*N")[0].data
    rot_e = rot00.select(channel="*E")[0].data

    acc_z = acc00.select(channel="*Z")[0].data
    acc_n = acc00.select(channel="*N")[0].data
    acc_e = acc00.select(channel="*E")[0].data

    Nrow, Ncol = 4, 1

    font = 12

    fig, ax = plt.subplots(Nrow, Ncol, figsize=(15, 7), sharex=True)

    plt.subplots_adjust(hspace=0.1)

    cmap = plt.get_cmap("viridis", 10)


    ## waveform axis
    if reverse_rotZ:
        ax[0].plot(np.array(range(len(rot_z)))/df, rot_z/max(abs(rot_z)), alpha=1, color="black", label="-1*$\Omega_Z$ (rad/s)")
    else:
        ax[0].plot(np.array(range(len(rot_z)))/df, rot_z/max(abs(rot_z)), alpha=1, color="black", label="$\Omega_Z$ (rad/s)")

    ax[0].plot(np.array(range(len(acc_t)))/df, acc_t/max(abs(acc_t)), alpha=1, color="tab:red", label=r"$a_T$ (m/s$^2$)")
    ax[2].plot(np.array(range(len(rot_t)))/df, rot_t/max(abs(rot_t)), alpha=1, color="black", label="$\Omega_T$ (rad/s)")

    if reverse_accZ:
        ax[2].plot(np.array(range(len(acc_z)))/df, acc_z/max(abs(acc_z)), alpha=1, color="tab:red", label=r"-1x $a_Z$ (m/s$^2$)")
    else:
        ax[2].plot(np.array(range(len(acc_z)))/df, acc_z/max(abs(acc_z)), alpha=1, color="tab:red", label=r"$a_Z$ (m/s$^2$)")


    ## velocity axis
    caa = ax[1].scatter(out1['time'], out1['velocity'], c=out1['ccoef'], s=50,
                        cmap=cmap, edgecolors="k", lw=1, vmin=0, vmax=1,
                        label="phase velocity", zorder=2,
                        )

    ax[1].errorbar(out1['time'], out1['velocity'], xerr=out1['terr'], yerr=None,
                 zorder=1, color="black", alpha=0.4, marker='o', markersize=2, ls="None",
                )

    ax[1].set_ylabel(f"Love Phase \n Velocity (m/s)", fontsize=font)
    ax[1].set_ylim(bottom=0)
    # ax[1].set_yticks(np.linspace(ax0.get_yticks()[0], ax0.get_yticks()[-1], len(ax[0].get_yticks())))
    ax[1].legend(loc=4, fontsize=font-2)

    # cbar = plt.colorbar(caa, pad=0.08)
    # cbar.set_label("CC-Coefficient", fontsize=font)
    # # cbar.set_clip_on(False)

    caa = ax[3].scatter(out2['time'], out2['velocity'], c=out2['ccoef'], s=50,
                        cmap=cmap, edgecolors="k", lw=1, vmin=0, vmax=1,
                        label="phase velocity", zorder=2,
                       )

    ax[3].errorbar(out2['time'], out2['velocity'], xerr=out2['terr'], yerr=None,
                 zorder=1, color="black", alpha=0.4, marker='o', markersize=2, ls="None",
                )

    ax[3].set_ylabel(f" Rayleigh Phase \n Velocity (m/s)", fontsize=font)
    ax[3].set_ylim(bottom=0)
    # ax[3].set_yticks(np.linspace(ax[3].get_yticks()[0], ax[3].get_yticks()[-1], len(ax[1].get_yticks())))
    ax[3].legend(loc=4, fontsize=font-2)

    # cbar = plt.colorbar(caa, pad=0.08)
    # cbar.set_label("CC-Coefficient", fontsize=font)
    # # cbar.set_clip_on(False)

    # add colorbar
    cbar_ax = fig.add_axes([0.91, 0.11, 0.021, 0.77]) #[left, bottom, width, height]
    cb = plt.colorbar(caa, cax=cbar_ax)
    cb.set_label("Cross-Correlation-Coefficient", fontsize=font, labelpad=5, color="k")


    for _n in range(Nrow):
        ax[_n].grid(ls=":", zorder=0)
        ax[_n].legend(loc=1, ncol=2)
        ax[_n].set_xlim(0, len(rot_z)/df)

    ax[1].set_ylim(0, ymax)
    ax[3].set_ylim(0, ymax)

    ax[0].set_ylim(-1.1, 1.1)
    ax[2].set_ylim(-1.1, 1.1)

    ax[0].set_ylabel(f"norm.\nAmplitude", fontsize=font)
    ax[2].set_ylabel(f"norm.\nAmplitude", fontsize=font)

    ax[3].set_xlabel("Time (s)", fontsize=font)

    title_str = f"f = {fmin}-{fmax} Hz | T = {twin} s | Overlap = {int(overlap*100)}% | CC > {cc_threshold}"
    ax[0].set_title(title_str, fontsize=font+1)

    for _k, ll in enumerate(['(a)', '(b)', '(c)', '(d)']):
        ax[_k].text(.005, .97, ll, ha='left', va='top', transform=ax[_k].transAxes, fontsize=font+2)



    plt.show();
    return fig


fig = __makeplotStream_velocities2(rot1, acc1, fmin, fmax, baz,
                                   twin=config['win_length_sec'],
                                   overlap=config['overlap']/100, cc_threshold=0.7,
                                   reverse_rotZ=False, reverse_accZ=True, ymax=5000,
                                 );







from functions.estimate_velocity_in_fbands import __estimate_velocity_in_fbands


fig1, fig2 = __estimate_velocity_in_fbands(rot1, acc1, baz)


# fig1.savefig(config['path_to_figs']+f"BSFP_M42_Love_velocity_fbands_{rot[0].stats.station}.png", format="png", dpi=200, bbox_inches='tight')

# fig2.savefig(config['path_to_figs']+f"BSFP_M42_Rayleigh_velocity_fbands_{rot[0].stats.station}_{rot[0].stats.location}.png", format="png", dpi=200, bbox_inches='tight')


def __estimate_baz_in_fbands():

    # flower, fupper, fcenter = __get_octave_bands(0.5, 10, fband_type="one-third-octave", plot=False)
    flower, fupper, fcenter = __get_octave_bands(0.5, 10, fband_type="octave", plot=False)
    fbands = [(f1, f2) for f1, f2 in zip(flower, fupper)]


    # fbands = [(0.5,0.7), (0.7,0.9), (0.8,1.0), (1.0,2.0), (1.0,5.0), (3.0,8.0)]

    backazis = []
    flabels = []

    angles = np.arange(0, 365, 5)

    for fmin, fmax in fbands:

        print(fmin, fmax)

        acc = st0.select(station="PFO").copy();
        rot = st0.select(station="BSPF").copy();
        # rot = st0.select(station="RPFO").copy();

        rot = rot.detrend("demean").taper(0.01).filter("bandpass", freqmin=fmin, freqmax=fmax, zerophase=True, corners=8);
        acc = acc.detrend("demean").taper(0.01).filter("bandpass", freqmin=fmin, freqmax=fmax, zerophase=True, corners=8);

        win_time_s = 1/fmin
        cc_threshold = 0.2
        overlap = 0.9



        out3 = __compute_backazimuth_tangent(
                                            rot,
                                            acc,
                                            win_time_s=win_time_s,
                                            overlap=overlap,
                                            baz_theo=None,
                                            cc_thres=cc_threshold,
                                            plot=False,
        )


        if len(out3['baz_est']) > 0:
            hist = np.histogram(out3['baz_est'], bins=len(angles)-1, range=[min(angles), max(angles)], weights=(out3['ccoef']*100).astype(int), density=False)
            dat = np.concatenate([np.ones(int(nnn))*val for nnn, val in zip( hist[0], hist[1])], axis=0 )
            backazis.append(dat)
            flabels.append(f"{round(fmin,1)}-{round(fmax,1)}Hz")
        else:
            print(f"empty results")


    fig, ax = plt.subplots(1, 1, figsize=(15,5))


    ax.yaxis.grid(True)

    ax.violinplot(backazis, showmeans=False, showmedians=True, showextrema=True)

    ax.set_ylabel("Rayleigh Phase Velocity (m/s)")
    ax.set_xticks([y + 1 for y in range(len(data))], labels=flabels)

    ax.set_title(f" {acc[0].stats.station} - {rot[0].stats.station} | Overlap = {int(overlap*100)} % | CC_limit = {cc_threshold}")

    ax.set_ylim(0, 360)

    # fig.savefig(config['path_to_figs']+f"BSFP_Rayleigh_velocity_fbands_{rot[0].stats.station}.png", format="png", dpi=200, bbox_inches='tight')

    plt.show();

# __estimate_baz_in_fbands()



