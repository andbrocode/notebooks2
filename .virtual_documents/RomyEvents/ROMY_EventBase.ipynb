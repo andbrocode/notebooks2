import obspy as obs
import pandas as pd

from andbro__querryEventFromCatalog import __querry_event_from_catalog
from andbro__writeCatalogToExcel import __write_events_to_excel


config = {}

config['tbeg'] = "2021-10-30"
config['tend'] = "2021-11-02"

config['min_magnitude'] = 6.0

config['file'] = "/home/brotzer/Documents/ROMY/ROMY_EventBase.xls"


cat = __querry_event_from_catalog(config)
cat


user_params = {}

user_params['ROMY_Z'] = input("On ROMY Z (TRUE | FALSE)?: ") or False
user_params['ROMY_U'] = input("On ROMY U (TRUE | FALSE)?: ") or False
user_params['ROMY_V'] = input("On ROMY V (TRUE | FALSE)?: ") or False
user_params['ROMY_W'] = input("On ROMY W (TRUE | FALSE)?: ") or False


# df = __write_events_to_excel(cat, config.get('file'), user_params)
# df 



