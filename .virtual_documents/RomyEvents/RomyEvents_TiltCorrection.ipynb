import os
import obspy as obs
import matplotlib.pyplot as plt
import numpy as np
# import multitaper

from obspy.clients.fdsn import Client
from twistpy.tilt.correction import remove_tilt


from functions.makeplot_spectra_comparison_fill import __makeplot_spectra_comparison_fill
from functions.compute_backazimuth import __compute_backazimuth
from functions.makeplot_waveform_comparison_cc import __makeplot_waveform_comparison_cc
from functions.makeplot_comparison_ccf import __makeplot_comparison_ccf
from functions.get_event_info import __get_event_info
from functions.compute_cross_wavelet_transform import __compute_cross_wavelet_transform
from functions.compute_cwt import __compute_cwt
from functions.makeplot_waveforms import __makeplot_waveforms


if os.uname().nodename == 'lighthouse':
    root_path = '/home/andbro/'
    data_path = '/home/andbro/kilauea-data/'
    archive_path = '/home/andbro/freenas/'
elif os.uname().nodename == 'kilauea':
    root_path = '/home/brotzer/'
    data_path = '/import/kilauea-data/'
    archive_path = '/import/freenas-ffb-01-data/'


config = {}

## output path for figures
config['path_to_figs'] = data_path+"romy_events/figures/"

## path to data archive
config['path_to_data'] = data_path+"romy_events/data/"

## Event
config['event_name'] = "Montenegro"
config['tbeg'] = obs.UTCDateTime("2024-03-14 03:06")
config['tend'] = obs.UTCDateTime("2024-03-14 03:36")
config['trim'] = [120, 1100]

## Noise
config['event_name'] = "Noise"
config['tbeg'] = obs.UTCDateTime("2024-03-29 00:00")
config['tend'] = obs.UTCDateTime("2024-03-30 00:00")
config['trim'] = [15*3600, 4*3600]



config['filename'] = f"ROMY_{config['event_name']}_{str(config['tbeg'].date).replace('-','')}_6C.mseed"

config['Client'] = Client("USGS")

## ROMY coordinates
config['sta_lon'] = 11.275501
config['sta_lat'] = 48.162941




# config, dist, baz, az = __get_event_info(config)


st0 = obs.read(config['path_to_data']+config['filename'])

st0 = st0.trim(config['tbeg']+config['trim'][0], config['tend']-config['trim'][1])



st0.plot(equal_scale=False);


st0


fmin, fmax = 0.001, 0.01
# fmin, fmax = 0.01, 0.1

rot1 = st0.select(station="ROMY", channel="*J*").copy()
acc1 = st0.select(station="FUR*", channel="*H*").copy()

rot1 = rot1.detrend("linear").taper(0.1, type="cosine").filter("bandpass", freqmin=fmin, freqmax=fmax, corners=4, zerophase=True);
acc1 = acc1.detrend("linear").taper(0.1, type="cosine").filter("bandpass", freqmin=fmin, freqmax=fmax, corners=4, zerophase=True);

til1 = rot1.integrate()

# rot1 = rot1.detrend("demean")

til1.plot(equal_scale=False);


_acc = acc1.copy().select(channel="*N")[0].data
_til = til1.copy().select(channel="*E")[0].data * 9.81

plt.figure(figsize=(15,5))
plt.plot(_acc)
plt.plot(_til)


def __makeplot(til_in, acc_in, comp="N"):

    import matplotlib.pyplot as plt
    import numpy as np
    from matplotlib.gridspec import GridSpec

    def __integrate(stt, dat):
        _st = stt.copy()
        _st.data = dat
        _st.integrate()
        return _st.data

    def __rmse(arr1, arr2):
        return np.round(np.sqrt(np.mean((arr1-arr2)**2)), 4)

    def __remove_tilt(acc0, rot0, m="freq", scale=1):

        dt = acc0[0].stats.delta

        accN_cor = remove_tilt(acc0.select(channel="*N")[0].data,
                               rot0.select(channel="*E")[0].data,
                               dt,
                               fmin,
                               fmax,
                               parallel=True,
                               # smooth=100.0 / 164.0,
                               method=m,
                               threshold=0.5 # only for coh
                              )

        accE_cor = remove_tilt(acc0.select(channel="*E")[0].data,
                               rot0.select(channel="*N")[0].data,
                               dt,
                               fmin,
                               fmax,
                               parallel=True,
                               # smooth=100.0 / 164.0,
                               method=m,
                               threshold=0.5 # only for coh
                               )

        return accE_cor*scale, accN_cor*scale

    acc = acc_in.copy()
    til = til_in.copy()

    times = acc.select(channel="*N")[0].times()

    Ncol, Nrow = 1, 9

    font = 12

    lw = 1

    scale, unit = 1e6, f"$\mu$m/s$^2$"

    fig = plt.figure(figsize=(15, 8))

    gs = GridSpec(Nrow, Ncol, figure=fig, hspace=0)

    ax1 = fig.add_subplot(gs[0:2, :])
    ax2 = fig.add_subplot(gs[2, :])
    ax3 = fig.add_subplot(gs[3:5, :])
    ax4 = fig.add_subplot(gs[5, :])
    ax5 = fig.add_subplot(gs[6:8, :])
    ax6 = fig.add_subplot(gs[8, :])

    accN = acc.select(channel="*N")[0].data*scale
    accE = acc.select(channel="*E")[0].data*scale

    # accN = __integrate(acc.copy(), accN)
    # accE = __integrate(acc.copy(), accE)

    accE_f, accN_f = __remove_tilt(acc.copy(), til.copy(), m="freq", scale=scale)
    accE_c, accN_c = __remove_tilt(acc.copy(), til.copy(), m="coh", scale=scale)
    accE_t, accN_t = __remove_tilt(acc.copy(), til.copy(), m="direct", scale=scale)

    # accE_f, accN_f = __integrate(acc.copy(), accE_f), __integrate(acc.copy(), accN_f)
    # accE_c, accN_c = __integrate(acc.copy(), accE_c), __integrate(acc.copy(), accN_c)
    # accE_t, accN_t = __integrate(acc.copy(), accE_t), __integrate(acc.copy(), accN_t)


    if comp == "N":
        ax1.plot(times, accN, color="k", label="observed", lw=lw)
        ax1.plot(times, accN_f, color="tab:red", label="corrected (freq)", lw=lw)

        ax2.plot(times, (accN-accN_f), color="grey", label=f"RMSE = {__rmse(accN, accN_f)}", lw=lw)

        ax3.plot(times, accN, color="k", label="observed", lw=lw)
        ax3.plot(times, accN_c, color="tab:red", label="corrected (coh)", lw=lw)

        ax4.plot(times, (accN-accN_c), color="grey", label=f"RMSE = {__rmse(accN, accN_c)}", lw=lw)

        ax5.plot(times, accN, color="k", label="observed", lw=lw)
        ax5.plot(times, accN_t, color="tab:red", label="corrected (time)", lw=lw)

        ax6.plot(times, (accN-accN_t), color="grey", label=f"RMSE = {__rmse(accN, accN_t)}", lw=lw)

    elif comp == "E":
        ax1.plot(times, accE, color="k", label="observed", lw=lw)
        ax1.plot(times, accE_f, color="tab:red", label="corrected (freq)", lw=lw)

        ax2.plot(times, (accE-accE_f), color="grey", label=f"RMSE = {__rmse(accE, accE_f)}", lw=lw)

        ax3.plot(times, accE, color="k", label="observed", lw=lw)
        ax3.plot(times, accE_c, color="tab:red", label="corrected (coh)", lw=lw)

        ax4.plot(times, (accE-accE_c), color="grey", label=f"RMSE = {__rmse(accE, accE_c)}", lw=lw)

        ax5.plot(times, accE, color="k", label="observed", lw=lw)
        ax5.plot(times, accE_t, color="tab:red", label="corrected (time)", lw=lw)

        ax6.plot(times, (accE-accE_t), color="grey", label=f"RMSE = {__rmse(accE, accE_t)}", lw=lw)

    for ax in [ax1, ax2, ax3, ax4, ax5, ax6]:
        ax.legend(loc=1, ncol=2)

    ax1.set_ylabel(f"a ({unit})", fontsize=font)
    ax3.set_ylabel(f"a ({unit})", fontsize=font)
    ax5.set_ylabel(f"a ({unit})", fontsize=font)

    ax2.set_ylabel(f"Residual", fontsize=font)
    ax4.set_ylabel(f"Residual", fontsize=font)
    ax6.set_ylabel(f"Residual", fontsize=font)

    # ax1.axis('off')
    for ax in [ax1, ax2, ax3, ax4, ax5]:
        ax.get_xaxis().set_visible(False)

#     ax3.set_ylabel(f"East Tilt ({tilt_unit})", fontsize=font)
#     ax4.set_ylabel(f"Residual \n ({tilt_unit})", fontsize=font)
    ax6.set_xlabel(f"Time (s) from {config['tbeg'].date} {str(config['tbeg'].time).split('.')[0]} UTC", fontsize=font)

    ax1.text(.005, .97, "(a)", ha='left', va='top', transform=ax1.transAxes, fontsize=font+2)
    ax2.text(.005, .97, "(b)", ha='left', va='top', transform=ax2.transAxes, fontsize=font+2)
    ax3.text(.005, .97, "(c)", ha='left', va='top', transform=ax3.transAxes, fontsize=font+2)
    ax4.text(.005, .97, "(d)", ha='left', va='top', transform=ax4.transAxes, fontsize=font+2)
    ax5.text(.005, .97, "(e)", ha='left', va='top', transform=ax5.transAxes, fontsize=font+2)
    ax6.text(.005, .97, "(f)", ha='left', va='top', transform=ax6.transAxes, fontsize=font+2)

    ax1.set_title(f"component = {comp} | bandpass = {fmin} - {fmax} Hz")

    plt.plot();
    return fig

fig = __makeplot(til1, acc1, comp="N")

fig = __makeplot(til1, acc1, comp="E")



# dt = acc1[0].stats.delta

# accN_cor = remove_tilt(acc1.select(channel="*N")[0].data,
#                        til1.select(channel="*E")[0].data,
#                        dt,
#                        fmin,
#                        fmax,
#                        parallel=True,
# #                        smooth=100.0 / 164.0,
#                        method="freq",
#                       )

# accE_cor = remove_tilt(acc1.select(channel="*E")[0].data,
#                        til1.select(channel="*N")[0].data,
#                        dt,
#                        fmin,
#                        fmax,
#                        parallel=True,
# #                        smooth=100.0 / 164.0,
#                        method="freq",
#                        )





def __makeplot_waveform_comparison(bspf, adr, submask):

    from obspy.signal.cross_correlation import correlate

    fig, ax = plt.subplots(3, 1, figsize=(15, 5))

    font = 14

    ax[0].plot(bspf.select(channel="*Z")[0].times(), bspf.select(channel="*Z")[0].data, label="BSPF Z")
    ax[0].plot(adr.select(channel="*Z")[0].times(), adr.select(channel="*Z")[0].data, label="ADR Z")

    ax[1].plot(bspf.select(channel="*N")[0].times(), bspf.select(channel="*N")[0].data, label="BSPF N")
    ax[1].plot(adr.select(channel="*N")[0].times(), adr.select(channel="*N")[0].data, label="ADR N")

    ax[2].plot(bspf.select(channel="*E")[0].times(), bspf.select(channel="*E")[0].data, label="BSPF E")
    ax[2].plot(adr.select(channel="*E")[0].times(), adr.select(channel="*E")[0].data, label="ADR E")

    cc_Z = round(correlate(bspf.select(channel="*Z")[0].data, adr.select(channel="*Z")[0].data, 0, demean=True, normalize='naive', method='auto')[0], 1)
    cc_N = round(correlate(bspf.select(channel="*N")[0].data, adr.select(channel="*N")[0].data, 0, demean=True, normalize='naive', method='auto')[0], 1)
    cc_E = round(correlate(bspf.select(channel="*E")[0].data, adr.select(channel="*E")[0].data, 0, demean=True, normalize='naive', method='auto')[0], 1)

    for i in range(3):
        ax[i].legend(loc=1, ncols=4)
        ax[i].grid(which="both", alpha=0.5)
        # ax[i].set_xscale("log")
        ax[i].set_ylabel("rot. rate (rad/s)")

    ax[2].set_xlabel("Frequency (Hz)")
    ax[0].set_title(f"{config['tbeg'].date} | {config['fmin']}-{config['fmax']} Hz | ADR {submask} | CCz = {cc_Z} | CCn = {cc_N} | CCe = {cc_E}")

    plt.show();
    return fig



acc0 = st0.select(station="FUR*", channel="*H*").copy()
rot0 = st0.select(station="ROMY", channel="*J*").copy()

rot0 = rot0.detrend("simple")
acc0 = acc0.detrend("simple")

fig = __makeplot_spectra_comparison_fill(rot0, acc0, fmin=0.001, fmax=10, ylog=False, xlog=True, fill=True)

fig.savefig(config['path_to_figs']+f"ROMY_{config['event_name']}_spectra_all.png", format="png", dpi=150, bbox_inches='tight');



for component in ["E", "N", "Z"]:

    ttt = rot0[0].times()
    arr = rot0.select(channel=f"*{component}")[0].data
    dt = rot0[0].stats.delta # seconds

    out = __compute_cwt(ttt, arr, dt, tscale="sec",
                        datalabel=f"ROMY-{component}",
                        period=False,
                        ymax=10,
                        plot=True,
                       )

    out['fig'].savefig(config['path_to_figs']+f"ROMY_{config['event_name']}_cwt_{component}.png",
                       format="png", dpi=150, bbox_inches='tight');




out = __compute_cross_wavelet_transform(
                                        rot0[0].times(),
                                        rot0.select(channel=f"*{component}")[0].data,
                                        acc0.select(channel=f"*{component}")[0].data,
                                        rot0[0].stats.delta,
                                        xwt_threshold=0.,
                                        ymax=10,
                                        normalize=False,
                                        ylog=True,
                                        clog=True,
                                        plot=True,
)

out['fig'].savefig(config['path_to_figs']+f"ROMY_{config['event_name']}_xwt_{component}.png", dpi=200, bbox_inches='tight', pad_inches=0.05)



from scipy.signal import hilbert
from obspy.signal.tf_misfit import plot_tf_misfits

for component in ["Z", "N", "E"]:

    st1 = st0.copy()

    st1 = st1.detrend("demean").taper(0.01, type="cosine").filter("bandpass", freqmin=0.01, freqmax=10, corners=4, zerophase=True)

    s1 = st1.select(station="ROMY", channel=f"*{component}")[0].data
    s2 = st1.select(station="FUR", channel=f"*{component}")[0].data

    plot_tf_misfits(s1, s2, dt=st1[0].stats.delta, fmin=0.01, fmax=20, show=True, norm="global")




fmin, fmax = 0.01, 0.1

rot1 = st0.select(station="ROMY", channel="*J*").copy()
acc1 = st0.select(station="FUR*", channel="*H*").copy()

rot1 = rot1.detrend("linear").taper(0.01).filter("bandpass", freqmin=fmin, freqmax=fmax, corners=4, zerophase=True);
acc1 = acc1.detrend("linear").taper(0.01).filter("bandpass", freqmin=fmin, freqmax=fmax, corners=4, zerophase=True);



fig = __makeplot_waveforms(acc1, rot1);

fig.savefig(config['path_to_figs']+f"ROMY_{config['event_name']}_waveforms.png", format="png", dpi=200, bbox_inches='tight')









for tr in acc1:
    if "Z" in tr.stats.channel:
        tr.data *= -1

fig = __makeplot_waveform_comparison_cc(rot1, acc1, baz, fmin, fmax, dist, twin_sec=15, twin_overlap=0.5)

fig.savefig(config['path_to_figs']+f"ROMY_{config['event_name']}_waveforms_cc.png", format="png", dpi=150, bbox_inches='tight');



fig = __makeplot_comparison_ccf(rot1, acc1, baz, dist, twin_sec=10, twin_overlap=0.5, fmin=fmin, fmax=fmax)


from functions.compute_backazimuth import __compute_backazimuth
from functions.get_theoretical_backazimuth import __get_theoretical_backazimuth
from functions.compute_backazimuth_tangent import __compute_backazimuth_tangent
from functions.compare_backazimuth_codes import __compare_backazimuth_codes


config['station_longitude'] = config['ROMY_lon']
config['station_latitude']  = config['ROMY_lat']

## specify window length for baz estimation in seconds
config['win_length_sec'] = 20

## define an overlap for the windows in percent (50 -> 50%)
config['overlap'] = 75

## specify steps for degrees of baz
config['step'] = 1


baz, az, dist = __get_theoretical_backazimuth(config['ROMY_lat'], config['ROMY_lon'], event_obj=config['event'], fdsn_client='USGS')



out1 = __compute_backazimuth(
                            acc1,
                            rot1,
                            config,
                            wave_type='love',
                            event=config['event'],
                            plot=True,
                            flim=(fmin, fmax),
                            invert_rot_z=False,
                            show_details=False,
)

out1['fig'].savefig(config['path_to_figs']+f"ROMY_{config['event_name']}_baz_love_{fmin}_{fmax}.png", dpi=150, bbox_inches='tight', pad_inches=0.05)


out2 = __compute_backazimuth(
                            acc1,
                            rot1,
                            config,
                            wave_type='rayleigh',
                            event=config['event'],
                            plot=True,
                            flim=(fmin, fmax),
                            invert_rot_z=False,
                            show_details=False,
)

out2['fig'].savefig(config['path_to_figs']+f"ROMY_{config['event_name']}_baz_rayleigh_{fmin}_{fmax}.png", dpi=150, bbox_inches='tight', pad_inches=0.05)


out3 = __compute_backazimuth_tangent(
                                    rot1,
                                    acc1,
                                    win_time_s=config['win_length_sec'],
                                    overlap=config['overlap']/100,
                                    baz_theo=baz,
                                    cc_thres=0.1,
                                    plot=True,
                                    invert_acc_z=False,
                                    )

out3['fig'].savefig(config['path_to_figs']+f"ROMY_{config['event_name']}_baz_tangent_{rot1[0].stats.station}{fmin}_{fmax}.png", dpi=150, bbox_inches='tight', pad_inches=0.05)



out4 = __compare_backazimuth_codes(rot1, acc1, config['event'], fmin, fmax,
                                   config['win_length_sec'], config['overlap'],
                                   cc_thres=0.2, invert_acc_z=False, invert_rot_z=False, plot=True,
                                  );

out4['fig3'].savefig(config['path_to_figs']+f"ROMY_{config['event_name']}_baz_comparison_{rot1[0].stats.location}_{fmin}_{fmax}_all.png", dpi=150, bbox_inches='tight', pad_inches=0.05);






from functions.compute_velocity_from_amplitude_ratio import __compute_velocity_from_amplitude_ratio


out = __compute_velocity_from_amplitude_ratio(
                                                rot1,
                                                acc1,
                                                baz=baz,
                                                mode='love',
                                                win_time_s=config['win_length_sec'],
                                                cc_thres=0.5,
                                                overlap=config['overlap']/100,
                                                flim=(fmin, fmax),
                                                plot=True,
)

# out['fig'].savefig(config['path_to_figs']+f"ROMY_{config['event_name']}_velocity_love_{rot1[0].stats.station}_{fmin}_{fmax}.png", dpi=200, bbox_inches='tight', pad_inches=0.05)


out = __compute_velocity_from_amplitude_ratio(
                                                rot1,
                                                acc1,
                                                baz=baz,
                                                mode='rayleigh',
                                                win_time_s=config['win_length_sec'],
                                                cc_thres=0.5,
                                                overlap=config['overlap']/100,
                                                flim=(fmin, fmax),
                                                plot=True,
)

# out['fig'].savefig(config['path_to_figs']+f"ROMY_{config['event_name']}_velocity_rayleigh_{rot1[0].stats.station}_{fmin}_{fmax}.png", dpi=200, bbox_inches='tight', pad_inches=0.05)



from functions.estimate_velocity_in_fbands import __estimate_velocity_in_fbands


fig1, fig2 = __estimate_velocity_in_fbands(rot0, acc0, baz)


# fig1.savefig(config['path_to_figs']+f"BSFP_M42_Love_velocity_fbands_{rot[0].stats.station}.png", format="png", dpi=200, bbox_inches='tight')

# fig2.savefig(config['path_to_figs']+f"BSFP_M42_Rayleigh_velocity_fbands_{rot[0].stats.station}_{rot[0].stats.location}.png", format="png", dpi=200, bbox_inches='tight')


def __estimate_baz_in_fbands():

    # flower, fupper, fcenter = __get_octave_bands(0.5, 10, fband_type="one-third-octave", plot=False)
    flower, fupper, fcenter = __get_octave_bands(0.5, 10, fband_type="octave", plot=False)
    fbands = [(f1, f2) for f1, f2 in zip(flower, fupper)]


    # fbands = [(0.5,0.7), (0.7,0.9), (0.8,1.0), (1.0,2.0), (1.0,5.0), (3.0,8.0)]

    backazis = []
    flabels = []

    angles = np.arange(0, 365, 5)

    for fmin, fmax in fbands:

        print(fmin, fmax)

        acc = st0.select(station="PFO").copy();
        rot = st0.select(station="BSPF").copy();
        # rot = st0.select(station="RPFO").copy();

        rot = rot.detrend("demean").taper(0.01).filter("bandpass", freqmin=fmin, freqmax=fmax, zerophase=True, corners=8);
        acc = acc.detrend("demean").taper(0.01).filter("bandpass", freqmin=fmin, freqmax=fmax, zerophase=True, corners=8);

        win_time_s = 1/fmin
        cc_threshold = 0.2
        overlap = 0.9



        out3 = __compute_backazimuth_tangent(
                                            rot,
                                            acc,
                                            win_time_s=win_time_s,
                                            overlap=overlap,
                                            baz_theo=None,
                                            cc_thres=cc_threshold,
                                            plot=False,
        )


        if len(out3['baz_est']) > 0:
            hist = np.histogram(out3['baz_est'], bins=len(angles)-1, range=[min(angles), max(angles)], weights=(out3['ccoef']*100).astype(int), density=False)
            dat = np.concatenate([np.ones(int(nnn))*val for nnn, val in zip( hist[0], hist[1])], axis=0 )
            backazis.append(dat)
            flabels.append(f"{round(fmin,1)}-{round(fmax,1)}Hz")
        else:
            print(f"empty results")


    fig, ax = plt.subplots(1, 1, figsize=(15,5))


    ax.yaxis.grid(True)

    ax.violinplot(backazis, showmeans=False, showmedians=True, showextrema=True)

    ax.set_ylabel("Rayleigh Phase Velocity (m/s)")
    ax.set_xticks([y + 1 for y in range(len(data))], labels=flabels)

    ax.set_title(f" {acc[0].stats.station} - {rot[0].stats.station} | Overlap = {int(overlap*100)} % | CC_limit = {cc_threshold}")

    ax.set_ylim(0, 360)

    # fig.savefig(config['path_to_figs']+f"BSFP_Rayleigh_velocity_fbands_{rot[0].stats.station}.png", format="png", dpi=200, bbox_inches='tight')

    plt.show();

# __estimate_baz_in_fbands()



