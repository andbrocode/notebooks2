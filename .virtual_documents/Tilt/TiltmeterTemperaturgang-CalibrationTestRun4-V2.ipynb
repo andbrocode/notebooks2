from andbro__querrySeismoData import __querrySeismoData
from andbro__readYaml import __readYaml
from andbro__get_seconds import __get_seconds
from andbro__calculate_polynomial_fit import __calculate_polynomial_fit
from andbro__calculate_linear_regression import __calculate_linear_regression
from andbro__crosscorrelation import __crosscorrelation
from andbro__savefig import __savefig

from scipy import signal
from obspy import UTCDateTime, read, Stream, Trace

import os
import pandas as pd
import numpy as np
import matplotlib.pyplot as plt
import scipy.optimize


if os.uname().nodename == "lighthouse":
    root_path = "/home/andbro/"
    data_path = "/home/andbro/kilauea-data/"
    archive_path = "/home/andbro/freenas/"
elif os.uname().nodename == "kilauea":
    root_path = "/home/brotzer/"
    data_path = "/import/kilauea-data/"
    archive_path = "/import/freenas-ffb-01-data/"


def __removeLinearTrend(data):

    for i in range(2):
        N = data[i].stats.npts
        m = (data[i].data[-1] - data[i].data[0]) / (data[i].stats.delta * N)
        data[i].data = data[i].data - np.arange(0, N) * m
    return data


def __remove_nan_values(st):
    idx = []
    [idx.append(i) for i, value in enumerate(st[0].data) if not np.isnan(value)]
    st[0].data  = np.array([st[0].data[j] for j in idx])
    st[1].data  = np.array([st[1].data[j] for j in idx])
    st[2].data  = np.array([st[2].data[j] for j in idx])
    
    return st


def __smooth(y, box_pts):
    box = np.ones(box_pts)/box_pts
    y_smooth = np.convolve(y, box, mode='same')
    return y_smooth


def __calculate_polynomial_fit(x_array, y_array, order_of_fit=2, gradient=False, smoothing=False, cc_shift=False):
    '''
    __calculate_polynomial_fit(x_array, y_array, order_of_fit=2, gradient=False, smoothing=False, cc_shift=False)
    
    INPUT: 
        - x_array:       data for x-axis as numpy array
        - y_array:       data for y-axis as numpy array
        - order_of_fit:  highest order of polynom
        - gradient:      bool
        - smoothing:     value of smoothing+
        - cc_shift:      cross-correlation lag 
    OUTPUT:
        - output directory
    '''
    
    import numpy.polynomial.polynomial as poly
    from numpy import gradient
    
    output = {}
    output['gradient'] = gradient
    output['order_of_fit'] = order_of_fit
    output['smoothing'] = smoothing
    
    ## apply time shift according to crosscorrelation lag
    if cc_shift:
        y_array = roll(y_array, -cc_shift)
    
    ## calcuate gradient, if selected
    if gradient:
        x_array = gradient(x_array, 2)
        
    ## smoothing gradient
    if smoothing:
        x_array = __smooth(x_array,  smoothing)

    ## get poly coefficients
    output['coefficients'] = poly.polyfit(x_array, y_array, order_of_fit)

    ## calulate polynomial function
    output['fit'] = poly.polyval(x_array, output['coefficients'])

    return output


def __calculate_linear_regression(x_array, y_array, odr_mode=None, odr_std=[None, None], derive=None, smoothing=None, cc_shift=None):
    '''
    __calculate_linear_regression(x_array, y_array, odr=None, odr_std=[None, None] derive=None, smooth=None)
  
    INPUT: 
        - x_array:       data for x-axis as numpy array
        - y_array:       data for y-axis as numpy array
        - gradient:      bool
        - smoothing:     value of smoothing+
        - odr_mode:      select orthogonal distance regression (ODR) instead of linear regression
        - odr_std:       standard deviations for x-axis data and y-axis data [std_x, std_y]
        - cc_shift:      cross-correlation lag 
    OUTPUT:
        - output:        dictionary with output values and information
    '''
    
    from scipy import odr
    from numpy import gradient, roll, power, ones, convolve
    
    def __smooth(y, box_pts):
        box = ones(box_pts)/box_pts
        y_smooth = convolve(y, box, mode='same')
        return y_smooth
    
    def f(B, x):
        '''Linear function y = m*x + b'''
        return B[0]*x + B[1]

    ## avoid error change to dummy
    if odr_std[0] is None and odr_std[1] is None:
        odr_std = [1,1]
        
    ## define output dictionary
    output = {}
    output['gradient']  = gradient
    output['smoothing'] = smoothing
    output['cc_shift']  = cc_shift
    
    ## apply time shift according to crosscorrelation lag
    if cc_shift is not None:
        y_array = roll(y_array, -cc_shift)
    
#     ## calcuate gradient, if selected
    if derive is not None:
        x_array = gradient(x_array, 2)
        
#     ## smoothing gradient
    if smoothing is not None:
        x_array = __smooth(x_array,  smoothing)

    if odr_mode is not None: 
        sx, sy = odr_std[0], odr_std[1]
        linear = odr.Model(f)
        mydata = odr.Data(x_array, y_array, wd=1./power(sx,2), we=1./power(sy,2))
        myodr = odr.ODR(mydata, linear, beta0=[1e-8, 1e-8])
        myoutput = myodr.run()
        
        output['slope'] = myoutput.beta[0]
        output['intercept'] = myoutput.beta[1]
        
    else:
        linreg = scipy.stats.linregress(x_array, y_array)
        output['slope'] = linreg.slope
        output['intercept'] = linreg.intercept

    return output


# def __get_odr_estimate(st, std=[1, 1], derive=None, smooth=None):

#     from scipy import odr

#     def f(B, x):
#         '''Linear function y = m*x + b'''
#         return B[0]*x + B[1]
    
#     output = {}
#     output['slope'] = []
#     output['intercept'] = []
    
#     for i in range(2):
        
#         y = st[i].data
#         x = st[2].data

#         if derive: 
#             x = np.gradient(x, 2)
        
#         if smooth:
#             x = __smooth(x, smooth)
        
#         sx = std[0]
#         sy = std[1]

#         linear = odr.Model(f)

#         mydata = odr.Data(x, y, wd=1./np.power(sx,2), we=1./np.power(sy,2))

# #         myodr = odr.ODR(mydata, linear, beta0=[1., 1.])
#         myodr = odr.ODR(mydata, linear, beta0=[1e-8, 1e-8])

#         myoutput = myodr.run()
        
#         output['slope'].append(myoutput.beta[0])
#         output['intercept'].append(myoutput.beta[1])
        
#     return output


## configurations
config={}

path = f"{root_path}Desktop/tiltmeter/"

config['save'] = False

config['name'] = 'tiltmeter'

config['set_filter'] = 'n'

## define output path for figures
config['output_figures'] = f"{root_path}Documents/ROMY/tiltmeter/figures/"

## tiltmeter configurations
confTilt = __readYaml(f"{root_path}Documents/ROMY/tiltmeter/","tiltmeter.conf")


name = "TestRun4_longIntervals"


st =  read(f"{root_path}Documents/ROMY/tiltmeter/Temperature_Calibration/{name}/mseed/MAE.D/*")
st += read(f"{root_path}Documents/ROMY/tiltmeter/Temperature_Calibration/{name}/mseed/MAN.D/*")
st += read(f"{root_path}Documents/ROMY/tiltmeter/Temperature_Calibration/{name}/mseed/MAT.D/*")
st.merge()

## resampel to 1 Hz - high frequency changes don't really matter
st.resample(1.0)

## cutoff edges of tiltmeter data to avoid fast ambient adjustments
cutoff = 600 ## seconds 
st.trim(st[0].stats.starttime+cutoff, st[0].stats.endtime-cutoff)

timeFrameBeg = st[0].stats.starttime
timeFrameEnd = st[0].stats.endtime;


path_to_files = f"{root_path}Documents/ROMY/tiltmeter/Temperature_Calibration/{name}/temperature/"

filenames = ["BW.WROMY.WS9.D.2021.349","BW.WROMY.WS9.D.2021.350"]

## read data files
for i, num in enumerate(range(49,56)):
    
    filename = f'BW.WROMY.WS9.D.2021.3{num}'
    
    if i == 0:
        tf = pd.read_csv(path_to_files+filename)
    else:
        tf0 = pd.read_csv(path_to_files+filename)
        tf = pd.concat([tf, tf0], ignore_index=True)

tf.reindex()
        
## adjust Seconds vector for multiple days
tf['Seconds'] = [tf['Seconds'][i] + int(str(tf['Date'][i])[-2:])*86400 for i in range(tf['Date'].size)]
tf['Seconds'] -= int(str(tf['Date'][0])[-2:])*86400

## correct for onset of tilmeter recording
tf['Seconds'] -= __get_seconds(st[0].stats.starttime, mode='of_day')

## cut to tiltmeter recording periodf
tf = tf[tf['Seconds'] > 0]
tf.reset_index(inplace=True)

plt.scatter(tf['Seconds']/3600, tf['Temperature (°C)'], s=0.5);


tr = Trace(data=np.array(tf['Temperature (°C)']))

temp = Stream(traces=tr)

temp[0].stats.network = "BW"
temp[0].stats.station = "TEMP"
temp[0].stats.channel = "T"
temp[0].stats.starttime = UTCDateTime(f"{tf['Date'][0]} {tf['Time (UTC)'][0]}")
temp[0].stats.sampling_rate = 1.0

temp = temp.trim(timeFrameBeg, timeFrameEnd)

temp


def __make_set_temperature(steps, dt):
        
        temperature = np.array([])
        for i, step in enumerate(steps):
            
            if i != 0:
                slope = np.linspace(Tval, step[2], int(60/dt)) 
                temperature = np.append(temperature, slope)
            
            T = UTCDateTime(step[1])-UTCDateTime(step[0])
            data = np.ones(int(T/dt)) * step[2]
            temperature = np.append(temperature, data)
            
            Tval = step[2]
        
        totalT = UTCDateTime(steps[len(steps)-1][1]) - UTCDateTime(steps[0][0])
        taxis = np.arange(0, totalT, dt)
            
        return taxis, temperature


## sampling time for calibration data
dt = 10.0 ## seconds

## set intervals for calibration data manually
steps = [["2021-12-15 14:44", "2021-12-16 08:41", 10], 
         ["2021-12-16 08:42", "2021-12-17 09:36", 20],
         ["2021-12-17 09:37", "2021-12-17 14:29", 30]]


## generate calibration temperature curve
taxis, setTemperature = __make_set_temperature(steps, dt)

## reference to starttime of tiltmeter recordings
taxis -= st[0].stats.starttime - UTCDateTime(steps[0][0])

## transfer to data frame
setT = pd.DataFrame(data=None, columns = ["Seconds", "Temperature"])
setT['Seconds'] = taxis
setT['Temperature'] = setTemperature


def __conversion(st, conf):

    st0 = st.copy()
    
    def convertTemp(trace):
        Tvolt = trace.data * conf.get('gainTemp')
        coeff = conf.get('calcTempCoefficients')
        return coeff[0] + coeff[1]*Tvolt + coeff[2]*Tvolt**2 + coeff[3]*Tvolt**3
    
    def convertTilt(trace, conversion, sensitivity):
        return trace.data * conversion * sensitivity

    for tr in st0:
        if tr.stats.channel[-1] == 'T':
            tr.data = convertTemp(tr)
        elif tr.stats.channel[-1] == 'N':
            tr.data = convertTilt(tr, conf['convTN'], conf['gainTilt'])
        elif tr.stats.channel[-1] == 'E':
            tr.data = convertTilt(tr, conf['convTE'], conf['gainTilt'])
        else:
            print("no match")
            
    print(f"  -> converted data of {st[0].stats.station}")
    return st0


st = __conversion(st, confTilt['ROMYT'])


def __makeplot_data(pt, config, tf=None, setT=None):
    
    time_scale = 60
    
    font = 14
    
    
    ## _______________________
    
    fig, axes = plt.subplots(3, 1, figsize=(15,10), sharex=True)
    
    for i in range(3):        
        axes[i].grid(ls=":", color="grey", zorder=0)
    
    axes[0].plot(pt[0].times()/time_scale, pt[0].data)
    axes[1].plot(pt[1].times()/time_scale, pt[1].data)
    
    
    axes[2].plot(pt[2].times()/time_scale, pt[2].data, label="internal temperature")
    if tf is not None:
        axes[2].plot(tf['Seconds']/time_scale, tf['Temperature (°C)'], label="THP sensor")
    if setT is not None:
        axes[2].plot(setT['Seconds']/time_scale, setT['Temperature'], label="calibration temperature")
    
    axes[2].legend()
    
    axes[0].set_title('Platform Tiltmeter ROMY', fontsize=font+2)
    
    axes[2].set_xlabel("Time (min)", fontsize=font)
    
    axes[0].set_ylabel("$\Omega_{east}$ (rad)", fontsize=font)
    axes[1].set_ylabel("$\Omega_{north}$ (rad)", fontsize=font)
    axes[2].set_ylabel("Temp (°C)", fontsize=font)
    
    return fig 


fig = __makeplot_data(st, config, tf, setT);
# __savefig(fig, outpath=config['output_figures'], outname="ROMYT_TemperatureCorrection_Ex4", mode="png", dpi=300)


st_selection2 = st.copy()
temp_selection2 = temp.copy()

st_selection2 = __remove_nan_values(st_selection2)

## slow adjustment at the end
sel2_beg = UTCDateTime("2021-12-18 00:00")
sel2_end = UTCDateTime("2021-12-19 00:00")

## constant plateau inbetween
# sel2_beg = UTCDateTime("2021-12-15 18:00")
# sel2_end = UTCDateTime("2021-12-16 08:00")

## increasing temperature
# sel2_beg = UTCDateTime("2021-12-15 14:00")
# sel2_end = UTCDateTime("2021-12-15 16:00")

st_selection2.trim(sel2_beg, sel2_end)

temp_selection2.trim(sel2_beg, sel2_end)

fig = __makeplot_data(st_selection2, config, tf=None, setT=None);


def __estimate_linear_trend(st, derive=None, smooth=None, relative=False):
    
    from scipy.stats import linregress
    
    if derive:
        temp = np.gradient(temp, 2)
    else:
        temp = st.select(channel="*T")[0].data
        
    if relative:
        temp -= min(temp)
    
    if smooth:
        temp = __smooth(temp, smooth)

    ## compute linear regression of data
    out1 = linregress(temp, st.select(channel="*N")[0].data)
    out2 = linregress(temp, st.select(channel="*E")[0].data)
    
#     plt.plot(temp,  st.select(channel="*N")[0].data)
#     plt.plot(temp, out1.slope*temp+out1.intercept)
    
    ## prepare output dictionary
    output = {}
    output['slope'] = [out1.slope, out2.slope]
    output['intercept'] = [out1.intercept, out2.intercept]
    
    return output


def __makeplot_compare(st, slopes, intercepts, derive=None, poly=None, smooth=None, coeff=None, relative=False):
    
    N_trace = st.select(channel="MAN")[0]
    E_trace = st.select(channel="MAE")[0]
    T_trace = st.select(channel="MAT")[0]
        
    if derive:
        x_temp = np.gradient(T_trace.data, 2) 
    else:
        x_temp = T_trace.data

    if relative:
        x_temp -= min(x_temp)
        
    if smooth:
        x_temp = __smooth(x_temp, smooth)

    
    fig, ax = plt.subplots(3, 2, figsize=(15,10))

    plt.subplots_adjust(hspace=0.3)
    
    ax[0][0].plot(T_trace.times()/86400, T_trace.data, label="Temperature")
    
    if derive:
        axes1 = ax[0][0].twinx()
        axes1.plot(T_trace.times()/86400, x_temp, 'g', label="dT/dt")
    
    ax[0][1].plot(T_trace.times()/86400, T_trace.data, label="Temperature")
    
    if derive:
        axes2 = ax[0][1].twinx()
        axes2.plot(T_trace.times()/86400, x_temp, 'g', label="dT/dt")
    
    for i in range(2):
        
        if i == 0: 
            trace = N_trace
        elif i == 1:
            trace = E_trace
        
        ax[1][i].plot(x_temp, trace.data, 'k.', ms=0.2)

        if not poly:        
            if relative:
                ax[1][i].plot(x_temp, slopes[i]*x_temp, 'r', label=f"{slopes[i]:.2e}*x")
                correction = slopes[i] * x_temp
            else:    
                ax[1][i].plot(x_temp, slopes[i]*x_temp + intercepts[i], 'r', label=f"{slopes[i]:.2e}*x")
                correction = slopes[i] * x_temp + intercepts[i]
            


            ax[2][i].plot(trace.times()/86400, trace.data - correction, label="corrected")
            ax[2][i].plot(trace.times()/86400, trace.data, color='grey', alpha=0.5, label="observed")

        else: 
            ax[1][i].plot(x_temp, ffit[i], 'r')
            ax[2][i].plot(trace.times()/86400, trace.data - poly[i], label="corrected")
            ax[2][i].plot(trace.times()/86400, trace.data - coeff[i][0], color='grey', alpha=0.5, label="observed")
            
        ax[0][i].set_title(f"{trace.stats.channel[-1]}-Component")
    
    if derive:
        ax[1][0].set_xlabel("Derivative of Temperature (°C)")
        ax[1][1].set_xlabel("Derivative of Temperature (°C)")
    else:
        ax[1][0].set_xlabel("Temperature (°C)")
        ax[1][1].set_xlabel("Temperature (°C)")
        
    ax[0][0].set_xlabel("Time (days)")
    ax[0][1].set_xlabel("Time (days)")
    
    ax[2][0].set_xlabel("Time (days)")
    ax[2][1].set_xlabel("Time (days)")
    
    ax[0][0].set_ylabel("Temperature (°C)")
    
    ax[1][0].set_ylabel("Tilt (rad)")
    ax[2][0].set_ylabel("Tilt (rad)")

    
    ax[0][1].legend()
    ax[0][0].legend()
    ax[1][0].legend()
    ax[1][1].legend()
    ax[2][0].legend()
   
    if derive:
        axes1.legend()
        axes2.legend()
        axes2.set_ylabel("dT/dt ")
    
    plt.show();
    return fig


st_tmp = st_selection2.copy()

out_T = __estimate_linear_trend(st_tmp, derive=False, smooth=None, relative=False)
print(out_T)

fig = __makeplot_compare(st_tmp, out_T.get('slope'), out_T.get('intercept'), derive=False, smooth=None, relative=False);
# __savefig(fig, outpath=config['output_figures'], outname="ROMYT_TemperatureCorrection_Ex4_linear", mode="png", dpi=300)


st_tmp = st.copy()
sel_beg = UTCDateTime("2021-12-17 15:00")
sel_end = UTCDateTime("2021-12-18 15:00")
st_tmp.trim(sel_beg, sel_end)

out_dT = __estimate_linear_trend(st_tmp, derive=True, smooth=None)
print(out_dT)

fig = __makeplot_compare(st_tmp, out_dT.get('slope'), out_dT.get('intercept'), derive=True, smooth=None);


st_tmp = st.copy()
sel_beg = UTCDateTime("2021-12-17 14:00")
sel_end = UTCDateTime("2021-12-18 15:00")
st_tmp.trim(sel_beg, sel_end);

x_array, y_array_1, y_array_2 = st_tmp.select(channel="*T")[0].data,st_tmp.select(channel="*N")[0].data,st_tmp.select(channel="*E")[0].data

output1 = __calculate_polynomial_fit(x_array, y_array_1, order_of_fit=4, gradient=True, smoothing=0)
output2 = __calculate_polynomial_fit(x_array, y_array_2, order_of_fit=4, gradient=True, smoothing=0)

coefficients = [output1['coefficients'], output2['coefficients']]



N = st_selection2.select(channel="*N")[0].data
T = st_selection2.select(channel="*T")[0].data
dT = np.gradient(T, 2)

correct_T = out_T['slope'][0] * T + out_T['intercept'][0]
# correct_dT = out_dT['slope'][0] * dT + out_dT['intercept'][0]
N_new = N - correct_T 


fig, ax = plt.subplots(1,1, figsize=(15,10))
ax.plot(N)

ax2 = ax.twinx()
ax2.plot(N_new, 'darkorange')


from numpy import clip

N = st.select(channel="*N")[0].data
T = st.select(channel="*T")[0].data
dT = __smooth(np.gradient(T, 2), 100)

dT /= max(dT)

dT = clip(dT, a_max=0.005*max(dT), a_min=0.005*min(dT))

correct_T = out_T['slope'][0] * T + out_T['intercept'][0]
correct_dT = out_dT['slope'][0] * dT + out_dT['intercept'][0]

# correct_dT = output1['coefficients'][0] + output1['coefficients'][1] * dT + output1['coefficients'][2] *dT**2 + output1['coefficients'][3] *dT**3 

N_new = N - correct_T 

fig, ax = plt.subplots(1,1, figsize=(15,10))
ax.plot(N)

ax2 = ax.twinx()
ax2.plot(N_new, 'r')


plt.plot(dT)


plt.plot(correct_dT)





def __correction(temperature, mode):
    
    import numpy.polynomial.polynomial as poly
    
    def __smooth(y, box_pts):
        box = np.ones(box_pts)/box_pts
        y_smooth = np.convolve(y, box, mode='same')
        return y_smooth
    
    dt_temperature = np.gradient(temperature, 2)/1.0 # 1 Hz
    dt_temperature = __smooth(dt_temperature, 5)
        
    slopes     = [-5.7213704115443028e-06, 2.3228481759269141e-06] 
    intercepts = [3.7118519864895699e-05, -2.7996873715913916e-05]
    
    ## section 1
    component1 = [ -1.29070103e-05,   1.17506699e+00,   7.82954151e+04,   2.04435691e+09] 
    component2 = [ -7.46312739e-06,  -2.51982477e-01,  -1.10367487e+03,   1.30426291e+08]
    ## section 3
    component1 = [ -1.37554302e-05,  -4.06760215e-04,  -1.11930295e-01,   1.11625920e+02] 
    component2 = [ -7.41299125e-06,   4.91276111e-03,  -4.73974487e+00,   1.37157381e+03]  
    
    polyfit1 = poly.polyval(dt_temperature, component1)
    polyfit2 = poly.polyval(dt_temperature, component2)
    
    if mode == 'lin':
        correction1 = slopes[0]* temperature + intercepts[0]
        correction2 = slopes[1]* temperature + intercepts[1]
    if mode == 'lin+poly':
        correction1 = slopes[0]* temperature + intercepts[0] + polyfit1
        correction2 = slopes[1]* temperature + intercepts[1] + polyfit2
    
    ## test linear dt fit
    dt_slopes     = [-0.00017277688239036794, -0.0003238346385749619] 
    dt_intercepts = [-1.3977405041720336e-05, -5.5667712989062741e-06]
    
    if mode == 'lin+lin':
        correction1 = slopes[0]* temperature + intercepts[0] + dt_slopes[0] * dt_temperature + dt_intercepts[0]
        correction2 = slopes[1]* temperature + intercepts[1] + dt_slopes[0] * dt_temperature + dt_intercepts[0] 

    return correction1, correction2, dt_temperature


def __makeplot_correction(st, corrections, config, tf=None, setT=None, dtT=None):
    
    time_scale = 60
    
    font = 14
    
    
    ## _______________________
    
    fig, axes = plt.subplots(3, 1, figsize=(15,10), sharex=True)
    
    for i in range(3):        
        axes[i].grid(ls=":", color="grey", zorder=0)
    
    ## panel 0
    axes[0].plot(st[0].times()/time_scale, st[0].data, label="original")
    axes[0].plot(st[0].times()/time_scale, st[0].data - corrections[0], color="green", label="corrected")

    ## panel 1
    axes[1].plot(st[1].times()/time_scale, st[1].data, label="original")
    axes[1].plot(st[1].times()/time_scale, st[1].data - corrections[1], color="green", label="corrected")
    
    ## panel 2
    axes[2].plot(st[2].times()/time_scale, st[2].data, label="internal temperature")
    
    
    if tf is not None:
        axes[2].plot(tf['Seconds']/time_scale, tf['Temperature (°C)'], label="THP sensor")
    if setT is not None:
        axes[2].plot(setT['Seconds']/time_scale, setT['Temperature'], label="calibration temperature")
    if dtT is not None:
        axes[2].plot(st[1].times()/time_scale, dtT, label="dt temperature")
        
    axes[0].legend()
    axes[1].legend()
    axes[2].legend()
    
    axes[0].set_title('Platform Tiltmeter ROMY', fontsize=font+2)
    
    axes[2].set_xlabel("Time (min)", fontsize=font)
    
    axes[0].set_ylabel("$\Omega_{east}$ (rad)", fontsize=font)
    axes[1].set_ylabel("$\Omega_{north}$ (rad)", fontsize=font)
    axes[2].set_ylabel("Temp (°C)", fontsize=font)
    
    
    axes[0].set_ylim(-3e-5, 10e-5)
    axes[1].set_ylim(-8e-5, 8e-5)
    
    return fig 


corr1, corr2, dtT = __correction(st[2].data, mode='lin+poly')

timeaxis = st[0].times()


__makeplot_correction(st, [corr1, corr2], config, tf=None, setT=None, dtT=dtT*10000);


# import yaml

# correction = {'Tiltmeter': config.get("tiltmeter"),
#               'correction': 'LongTermTrendTemperature',
#               'slopes':  {'C1': str(out.get('slope')[0]), 'C2': str(out.get('slope')[1])},
#               'intercepts':  {'C1': str(out.get('intercept')[0]), 'C2': str(out.get('intercept')[1])},
#              }

# filename = f"correction_longterm_{config.get('tiltmeter')}"

# if config['save']:
#     with open(f'{filename}.yml', 'w') as yaml_file:
#         yaml.dump(correction, yaml_file, default_flow_style=False)


def __crosscorrelation(y1, y2, plot=True, deltaT=None, labels=None):
    
    """Calculates the cross correlation and lags.

    PARAMETER:
        - y1, y2     data1, data2 [must be of same length]
        - plot       boolean 
        - deltaT     smpling time     
        - labels     labels of the data

    RETURN:
        output: dictionary 
           - output.ccorr:      Maximum correlation without normalization.
           - output.lag:        The lag in terms of the index.
           - output.maximum:    tuple of maxima location
           
    EXAMPLE:   
    >>> x = np.arange(0, 1000, 1)
    >>> y1 = np.sin(2*np.pi*0.01*x)* np.hanning(len(x))
    >>> y2 = np.roll(y1, -30)
    >>> out = __crosscorrelation(y1, y2, deltaT=1)
    """
    
    from scipy.signal import correlate
    from numpy import dot, ones, argmax, arange, roll, sqrt
    import matplotlib.pyplot as plt

    if len(y1) != len(y2):
        raise ValueError('The lengths of the inputs should be the same.')

    ## check if labels are passed
    if labels is None:
        labels = ["Data 1", "Data 2"]
    
    ## normalize  
    y1 /= max(abs(y1))
    y2 /= max(abs(y2))
    
    ## calulate autocorrelation
    y1_auto_corr = dot(y1, y1) / len(y1)
    y2_auto_corr = dot(y2, y2) / len(y1)

    
    ## calculate crorrelation function
    corr = correlate(y1, y2, mode='same')
    
    # The unbiased sample size is N - lag.
    unbiased_sample_size = correlate(ones(len(y1)), ones(len(y1)), mode='same')

    ## scaling
    corr = corr / unbiased_sample_size / sqrt(y1_auto_corr * y2_auto_corr)

    ## calculate lag times 
    xlags = arange(-corr.size//2, corr.size//2, 1)
    
    ## get maximum    
    corr_max_x = argmax(abs(corr))-corr.size//2
    corr_max_y = corr[int(corr_max_x + corr.size//2)]
    
    ## compute shifted signal
    shifted = roll(y2*corr_max_y, corr_max_x)
   
    shift = corr_max_x

    
    ## get time axis
    if deltaT is None:
        timeline = arange(0, len(y1))
    else:
        timeline = arange(0, len(y1)*deltaT, deltaT)
    
    ## Plotting
    if plot == True:
    
        font=13
        
        fig, ax = plt.subplots(3, 1, figsize=(15,8))

        plt.subplots_adjust(hspace=0.3)
        
        ax[0].plot(timeline, y1, label=labels[0], lw=0.9)

        ax[1].plot(timeline, y1, label=labels[0], lw=0.9)

        if shift>=0:
            ax[1].plot(timeline[abs(shift):], shifted[abs(shift):], label=f"{labels[1]} shifted", lw=0.9)
        elif shift<0:
            ax[1].plot(timeline[:-abs(shift)], shifted[:-abs(shift)], label=f"{labels[1]} shifted", lw=0.9)
            
        ax[0].set_xlim(min(timeline), max(timeline))        
        ax[1].set_xlim(min(timeline), max(timeline))

        ax[2].plot(xlags, corr, color="black", lw=0.9, label="CC-Function")
        
#         ax[2].scatter(corr_max_x, corr_max_y, color='orange', zorder=3, label=f'x:{round(float(corr_max_x*deltaT),1)}s y:{round(float(corr_max_y),2)}')

        ax[2].axvline(corr_max_x, color='k', ls=":")
        ax[2].axhline(corr_max_y, color='k', ls=":")
        ax[2].set_xlim(min(xlags), max(xlags))
        
        for i in range(3):
            ax[i].grid(ls=":", zorder=1)
            ax[i].legend(loc="upper right",fontsize=font-1)

        ax[0].set_ylabel("Amplitude",fontsize=font)
        ax[1].set_ylabel("Amplitude",fontsize=font)
        ax[2].set_ylabel("CC value",fontsize=font)
        
        ax[0].set_xlabel("Time (s)",fontsize=font)
        ax[1].set_xlabel("Time (s)",fontsize=font)
        ax[2].set_xlabel("Cross-correlation Lag (samples)",fontsize=font)
            
        plt.show();

    output={}
    output['ccorr'] = corr
    output['xlags'] = xlags
    output['maximum'] = (corr_max_x, corr_max_y)
    
    if plot:
        output['figure'] = fig    

    print(f"Maximum Correlation: \n x: {corr_max_x} \n y: {round(corr_max_y,2)}")

    return output


st_new = st_selection2.copy()

st_new.detrend('constant')

out_E = __crosscorrelation(st_new.select(channel="*E")[0].data, st_new.select(channel="*T")[0].data, plot=True)
out_N = __crosscorrelation(st_new.select(channel="*N")[0].data, st_new.select(channel="*T")[0].data, plot=True)



