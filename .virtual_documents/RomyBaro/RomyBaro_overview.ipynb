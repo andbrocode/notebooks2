import matplotlib.pyplot as plt
import os

from obspy import UTCDateTime, read, Stream, Trace, read_inventory
from obspy import read_inventory
from pandas import read_csv

from andbro__read_sds import __read_sds
from andbro__load_FURT_stream import __load_furt_stream

import warnings
warnings.filterwarnings('ignore')


if os.uname().nodename == 'lighthouse':
    root_path = '/home/andbro/'
    data_path = '/home/andbro/kilauea-data/'
    archive_path = '/home/andbro/freenas/'
    bay_path = '/home/andbro/ontap-ffb-bay200/'
    lamont_path = '/home/andbro/lamont/'
elif os.uname().nodename == 'kilauea':
    root_path = '/home/brotzer/'
    data_path = '/import/kilauea-data/'
    archive_path = '/import/freenas-ffb-01-data/'
    bay_path = '/import/ontap-ffb-bay200/'
    lamont_path = '/lamont/'
elif os.uname().nodename in ['lin-ffb-01', 'ambrym', 'hochfelln']:
    root_path = '/home/brotzer/'
    data_path = '/import/kilauea-data/'
    archive_path = '/import/freenas-ffb-01-data/'
    bay_path = '/import/ontap-ffb-bay200/'
    lamont_path = '/lamont/'


# tbeg, tend = UTCDateTime("2023-09-03"), UTCDateTime("2023-09-07")
# tbeg, tend = UTCDateTime("2023-11-05"), UTCDateTime("2023-11-22")
# tbeg, tend = UTCDateTime("2023-12-01"), UTCDateTime("2023-12-31")
# tbeg, tend = UTCDateTime("2024-01-15"), UTCDateTime("2024-01-31")

# insulation finished
# tbeg, tend = UTCDateTime("2024-03-09"), UTCDateTime("2024-03-20")

# low infrasound power
# tbeg, tend = UTCDateTime("2024-09-12"), UTCDateTime("2024-09-13")

#
tbeg, tend = UTCDateTime("2024-09-15"), UTCDateTime("2024-09-25")

# path_to_figs = root_path+"Documents/ROMY/ROMY_infrasound/figures/"
path_to_figs = data_path+"romy_baro/figures/"



# time of inlet below gravel
t_gravel = UTCDateTime("2023-09-20 12:00")

##
t_gravel_filter = UTCDateTime("2023-10-05 12:00")

##
t_mushroom_filter = UTCDateTime("2023-10-13 16:00")

##
t_mushroom_foam_filter = UTCDateTime("2023-11-09 13:00")

##
t_mushroom_foam_porous = UTCDateTime("2023-11-17 12:00")


## period to check data... one sided differential signals...
# tbeg, tend = "2023-08-13","2023-08-20"
# ffbi = __read_sds("/import/kilauea-data/LNM2/mb2000/sds/", "BW.IROMY..BD*", tbeg, tend)

ffbi0 = __read_sds(bay_path+"mseed_online/archive/", "BW.FFBI..BD*", tbeg, tend)


ffbi = ffbi0.copy()

if len(ffbi) != 2:
    ffbi.merge();

ffbi_inv = read_inventory(root_path+"/Documents/ROMY/ROMY_infrasound/station_BW_FFBI.xml")
# ffbi = ffbi.remove_response(ffbi_inv, water_level=10)

ffbi_no_response = ffbi.copy()
for tr in ffbi_no_response:
    tr.data = tr.data *1.589e-6 /0.02  # gain=1 sensitivity_reftek=6.28099e5count/V; sensitivity_mb2005=0.02 V/Pa

# remove gain and sensitivity
for tr in ffbi:
    if "F" in tr.stats.channel:
        # tr = tr.remove_response(ffbi_inv)
        # tr.data = tr.data *1.589e-6 /0.02  # gain=1 sensitivity_reftek=6.28099e5count/V; sensitivity_mb2005=0.02 V/Pa
        # tr.data = tr.data *1/629129.0 /0.02  # gain=1 sensitivity_reftek=6.28099e5count/V; sensitivity_mb2005=0.02 V/Pa
        tr = tr.remove_response(ffbi_inv, water_level=10, plot=False)
    elif "O" in tr.stats.channel:
        tr.data = tr.data *1.589e-6 *1e5   # gain=1 sensitivity_reftek=6.28099e5count/V; sensitivity = 0.001 V/hPa
        # tr.data = tr.data *1/629129.0 *1e5   # gain=1 sensitivity_reftek=6.28099e5count/V; sensitivity = 0.001 V/hPa

ffbi.merge();

print(ffbi)

ffbi.plot(equal_scale=False);


promy = __read_sds(archive_path+"temp_archive/", "BW.PROMY.03.L*", tbeg, tend)

promy.merge();
promy.plot(equal_scale=False);


furt = __load_furt_stream(tbeg, tend, show_raw=False, path_to_archive=bay_path+"gif_online/FURT/WETTER/")

furt.plot(equal_scale=False);


from functions.load_lxx import __load_lxx
from functions.get_lxx_intervals import __get_lxx_intervals

lxx = __load_lxx(tbeg, tend, archive_path)

lxx_t1, lxx_t2 = __get_lxx_intervals(lxx.datetime)


from functions.smoothing import __smooth


def __makeplot_overview():

    import numpy as np

    fig, ax = plt.subplots(4, 1, figsize=(15, 10), sharex=True)

    plt.subplots_adjust(hspace=0.1)

    font = 12

    time_scaling = 86400

    ffbi_min, ffbi_max = -15, 15

    ax[0].plot(ffbi.select(channel="*F")[0].times()/time_scaling, ffbi.select(channel="*F")[0].data, label="FFBI", color="k")
    ax[0].set_ylim(ffbi_min, ffbi_max)

    ax[1].plot(ffbi.select(channel="*O")[0].times()/time_scaling, ffbi.select(channel="*O")[0].data/100, label="FFBI", color="k")
    ax[1].plot(promy.select(channel="LDI")[0].times()/time_scaling, promy.select(channel="LDI")[0].data/100, label=f"PS{promy[0].stats.location[-1]}", color="tab:blue")
    ax[1].plot(furt.select(channel="LAP")[0].times()/time_scaling, furt.select(channel="LAP")[0].data, label="FURT", color="tab:orange")
    ax[1].legend(ncol=3)
    ax[1].set_ylim(940, 970)

    ax[2].plot(furt.select(channel="LAT")[0].times()/time_scaling, furt.select(channel="LAT")[0].data, label="FURT", color="tab:red")
    ax[2].set_ylim(-10, 40)
    ax[2].tick_params(axis='y', colors="tab:red")

    ax22 = ax[2].twinx()
    ax22.plot(promy.select(channel="LKI")[0].times()/time_scaling, promy.select(channel="LKI")[0].data, label=f"PS{promy[0].stats.location[-1]}", color="tab:brown")
    ax22.legend(loc=4)
    ax22.tick_params(axis='y', colors="tab:brown")
    ax[2].set_yticks(np.linspace(ax[2].get_yticks()[0], ax[2].get_yticks()[-1], len(ax[2].get_yticks())))
    ax22.set_yticks(np.linspace(ax22.get_yticks()[0], ax22.get_yticks()[-1], len(ax[2].get_yticks())))


    wind_force = __smooth(furt.select(channel="LAW")[0].data, 30*60)
    ax[3].fill_between(furt.select(channel="LAW")[0].times()/time_scaling, 0, wind_force, 
                       color="tab:green", label="wind speed (15 min avg.)", alpha=0.7)
    ax[3].set_xlim(0, max(ffbi.select(channel="*F")[0].times()/time_scaling))
    ax[3].set_ylim(0, 10)
    ax[3].tick_params(axis='y', colors="tab:green")

    ax32 = ax[3].twinx()
    wind_direction = __smooth(furt.select(channel="LAD")[0].data, 30*60)
    ax32.plot(furt.select(channel="LAD")[0].times()/time_scaling, wind_direction, color="tab:purple", label="15 min mean")
    ax32.set_ylim(0, 360)
    ax32.tick_params(axis='y', colors="tab:purple")

    ax22.set_ylabel("Temperature (°C)", color="tab:brown", fontsize=font)
    ax32.set_ylabel("Wind Direction (°)", color="tab:purple", fontsize=font)
    ax[0].set_ylabel("Differential \n Pressure (Pa)", fontsize=font)
    ax[1].set_ylabel("Absolute \n Pressure (hPa)", fontsize=font)
    ax[2].set_ylabel("Temperature (°C)", color="tab:red", fontsize=font)
    ax[3].set_ylabel("Wind Speed (m/s)", color="tab:green", fontsize=font)

    ax[3].set_xlabel(f"Time (days) since {tbeg.date} {str(tbeg.time).split('.')[0]} UTC", fontsize=font)

    for i in range(4):
        ax[i].grid(alpha=0.5, color="grey", zorder=0)
        ax[i].legend(loc=1)
        ax[i].axvline((t_gravel-tbeg)/time_scaling, color="darkblue", ls="--")
        ax[i].axvline((t_mushroom_filter-tbeg)/time_scaling, color="purple", ls="--")
        ax[i].axvline((t_gravel_filter-tbeg)/time_scaling, color="cyan", ls="--")
        ax[i].axvline((t_mushroom_foam_filter-tbeg)/time_scaling, color="darkred", ls="--")
        ax[i].axvline((t_mushroom_foam_porous-tbeg)/time_scaling, color="darkgreen", ls="--")

        # add maintenance times
        ref_date = tbeg
        for lx1, lx2 in zip(lxx_t1, lxx_t2):
            lx1_sec = (lx1-UTCDateTime(ref_date)) / time_scaling
            lx2_sec = (lx2-UTCDateTime(ref_date)) / time_scaling
            ax[i].fill_betweenx([ax[i].get_ylim()[0], ax[i].get_ylim()[1]], lx1_sec, lx2_sec, color="yellow", alpha=0.3)

    for _k, ll in enumerate(['(a)', '(b)', '(c)', '(d)']):
        ax[_k].text(.005, .97, ll, ha='left', va='top', transform=ax[_k].transAxes, fontsize=font+2)

    plt.show();
    return fig

# fig = __makeplot_overview()

# fig.savefig(path_to_figs+f"comparison_{tbeg.date}_{tend.date}.png", dpi=150, format="png", bbox_inches='tight')



def __makeplot_overview():

    import numpy as np

    fig, ax = plt.subplots(3, 1, figsize=(15, 10), sharex=True)

    font = 12

    time_scaling = 86400

    ffbi_min, ffbi_max = -15, 15

    ax[0].plot(ffbi.select(channel="*F")[0].times()/time_scaling,
               ffbi.select(channel="*F")[0].data,
               label="FFBI.BDF", color="k"
              )
    ax[0].plot(ffbi.select(channel="*F")[0].times()/time_scaling,
               __smooth(ffbi.select(channel="*F")[0].data, 20*3600),
               color="w"
              )
    ax[0].set_ylim(ffbi_min, ffbi_max)

    ax[1].plot(ffbi.select(channel="*O")[0].times()/time_scaling, ffbi.select(channel="*O")[0].data/100, label="FFBI.BDO", color="k")
    ax[1].plot(promy.select(channel="LDI")[0].times()/time_scaling, promy.select(channel="LDI")[0].data/100, label=f"PS{promy[0].stats.location[-1]}", color="tab:blue")
    ax[1].plot(furt.select(channel="LAP")[0].times()/time_scaling, furt.select(channel="LAP")[0].data, label="FURT", color="tab:orange")
    ax[1].legend(ncol=3)
    ax[1].set_ylim(940, 970)

    wind_force = __smooth(furt.select(channel="LAW")[0].data, 30*60)
    ax[2].fill_between(furt.select(channel="LAW")[0].times()/time_scaling, 0, wind_force, 
                       color="tab:green", label="wind speed (15 min avg.)", alpha=0.7)
    ax[2].set_xlim(0, max(ffbi.select(channel="*F")[0].times()/time_scaling))
    ax[2].set_ylim(0, 10)
    ax[2].tick_params(axis='y', colors="tab:green")

    ax32 = ax[2].twinx()
    wind_direction = __smooth(furt.select(channel="LAD")[0].data, 30*60)
    ax32.plot(furt.select(channel="LAD")[0].times()/time_scaling, wind_direction, color="tab:purple", label="15 min mean")
    ax32.set_ylim(0, 360)
    ax32.tick_params(axis='y', colors="tab:purple")

    ax32.set_ylabel("Wind Direction (°)", color="tab:purple", fontsize=font)
    ax[0].set_ylabel("Infrasound (Pa)", fontsize=font)
    ax[1].set_ylabel("Barometric Pressure (hPa)", fontsize=font)
    ax[2].set_ylabel("Wind Speed (m/s)", color="tab:green", fontsize=font)

    ax[2].set_xlabel(f"Time (days) since {tbeg.date} {str(tbeg.time).split('.')[0]} UTC", fontsize=font)

    ax[0].legend(loc=1)
    ax[1].legend(loc=1)
    # ax[0].legend(loc=1)

    for i in range(3):
        ax[i].grid(alpha=0.5, color="grey", zorder=0)
        ax[i].axvline((t_gravel-tbeg)/time_scaling, color="darkblue", ls="--")
        ax[i].axvline((t_mushroom_filter-tbeg)/time_scaling, color="purple", ls="--")
        ax[i].axvline((t_gravel_filter-tbeg)/time_scaling, color="cyan", ls="--")
        ax[i].axvline((t_mushroom_foam_filter-tbeg)/time_scaling, color="darkred", ls="--")
        ax[i].axvline((t_mushroom_foam_porous-tbeg)/time_scaling, color="darkgreen", ls="--")

        # add maintenance times
        ref_date = tbeg
        for lx1, lx2 in zip(lxx_t1, lxx_t2):
            lx1_sec = (lx1-UTCDateTime(ref_date)) / time_scaling
            lx2_sec = (lx2-UTCDateTime(ref_date)) / time_scaling
            ax[i].fill_betweenx([ax[i].get_ylim()[0], ax[i].get_ylim()[1]], lx1_sec, lx2_sec, color="yellow", alpha=0.3)

    for _k, ll in enumerate(['(a)', '(b)', '(c)']):
        ax[_k].text(.005, .97, ll, ha='left', va='top', transform=ax[_k].transAxes, fontsize=font+2)

    plt.show();
    return fig

fig = __makeplot_overview()

fig.savefig(path_to_figs+f"comparison_{tbeg.date}_{tend.date}.png", dpi=150, format="png", bbox_inches='tight')



del fig


import gc; gc.collect()


from functions.compute_cwt import __compute_cwt


def __compute_cwt(times, arr1, tdelta,
                  datalabel="dat1",
                  cmap_scale="lin",
                  period=False,
                  tscale='sec',
                  fmax=None,
                  normalize=True,
                  plot=True
                 ):

    from pycwt import wct, xwt, Morlet, ar1, significance, cwt
    from numpy import std, nanmean, nan, nanmax, nanmin, nanvar, ones, nan_to_num, polyfit, polyval, array, reshape, nanpercentile
    from numpy import sum as npsum

    import matplotlib.colors as colors
    import matplotlib.pyplot as plt

    times = array(times, dtype='float64')
    arr1 = array(arr1, dtype='float64')

    if len(arr1) != len(arr1):
        print(" -> different lenght of arrays!")
        return

    def __mask_cone(arr2d, ff, thresholds, fill=nan):
        mask = ones(arr2d.shape)
        for k in range(arr2d.shape[0]):  ##85
            for l in range(arr2d.shape[1]):  ## 1401
                 if ff[k] < thresholds[l]:
                    mask[k,l] = fill
        return mask


    ## specify parameters
    N = len(arr1)
    dt = tdelta
    df = 1/dt
    significance_threshold = 0.95

    ## detrend data
    p = polyfit(times - times[0], arr1, 1)
    dat_notrend = arr1 - polyval(p, times - times[0])
    std = dat_notrend.std()  # Standard deviation
    var = std ** 2  # Variance
    arr1 = dat_notrend / std  # Normalized dataset

    ## create mother wavelet
    mother_wavelet = Morlet(6)
    s0_set = 2 * dt  # Starting scale
    dj_set = 1 / 12  # Twelve sub-octaves per octaves
    J_set = int(7 / dj_set)  # Seven powers of two with dj sub-octaves
    #print(s0_set, dj_set, J_set)


    cwt, scales, ff_cwt, cone_p, fft, fftfreqs = cwt(
                                                        arr1,
                                                        dt=dt,
                                                        dj=dj_set, #0.05,
                                                        s0=s0_set, #-1,
                                                        J=J_set, #-1,
                                                        wavelet=mother_wavelet,  # u'morlet',
                                                    )

    cone_f = 1/cone_p
    pp_cwt = 1/ff_cwt

    if tscale == "min":
        times /= 60
        cone_p /= 60
        pp_cwt /= 60
        unit = "min"
    elif tscale == "hour":
        times /= 3600
        cone_p /= 3600
        pp_cwt /= 3600
        unit = "hour"
    else:
        unit = "s"

    ## building cone
    mask_cone = __mask_cone(cwt, ff_cwt, cone_f, fill=nan)


    ## get real part
    cwt_power = abs(cwt)

    ## normalize cross wavelet transform
    if normalize:
        cwt_power /= nanmax(cwt_power.reshape((1, cwt_power.size))[0])

    ## apply masks
    # cwt_power_masked = cwt_power * mask_cwt * mask_cone
    cwt_power_masked = cwt_power * mask_cone

    ## compute global cross wavelet transform power
    global_mean_cwt_f = nanmean(cwt_power_masked, axis=1)
    global_sum_cwt_f = npsum(nan_to_num(cwt_power_masked, 0), axis=1)

    if normalize:
        global_sum_cwt_f /= max(global_sum_cwt_f)
        global_mean_cwt_f /= max(global_mean_cwt_f)


    ## ____________________________________________________
    ## plotting
    if plot:

        from mpl_toolkits.axes_grid1 import make_axes_locatable

        import matplotlib.pyplot as plt
        from matplotlib.gridspec import GridSpec

        Ncol, Nrow = 4, 3

        font = 12

        fig = plt.figure(figsize=(15, 8))

        gs = GridSpec(Nrow, Ncol, figure=fig)

        ax1 = fig.add_subplot(gs[0, :-1])
        ax2 = fig.add_subplot(gs[1:, :-1])
        ax3 = fig.add_subplot(gs[1:, 3:])

        ax1.set_xticklabels([])
        ax3.set_yticklabels([])

        plt.subplots_adjust(hspace=0.1, wspace=0.1)


        ax1.plot(times, arr1, alpha=1, color="black", lw=1, label=datalabel)

        ax1.set_xlim(min(times), max(times))
        ax1.set_ylabel("Amplitude", fontsize=font)
        ax1.legend(loc=1)

        max_power = nanpercentile(reshape(cwt_power, cwt_power.size), 95)
        min_power = nanpercentile(reshape(cwt_power, cwt_power.size), 5)

        if period:
            if cmap_scale == "log":
                ca2 = ax2.pcolormesh(
                                    times,
                                    pp_cwt,
                                    cwt_power,
                                    norm=colors.LogNorm(min_power, max_power),
                                    rasterized=True,
                                    )

                ax3.plot(global_mean_cwt_f, pp_cwt, color="black", label="global mean power")
                # ax3.plot(global_sum_cwt_f, pp_cwt, color="darkred", label="global sum power")
            else:
                ca2 = ax2.pcolormesh(
                                    times,
                                    pp_cwt,
                                    cwt_power,
                                    vmin=min(reshape(cwt_power, cwt_power.size)),
                                    vmax=max(reshape(cwt_power, cwt_power.size)),
                                    rasterized=True,
                                    )

                ax3.plot(global_mean_cwt_f, pp_cwt, color="black", label="global mean power")
                # ax3.plot(global_sum_cwt_f, pp_cwt, color="darkred", label="global sum power")

        else:
            if cmap_scale == "log":

                ca2 = ax2.pcolormesh(
                                    times,
                                    ff_cwt,
                                    cwt_power,
                                    norm=colors.LogNorm(min_power, max_power),
                                    rasterized=True,
                                    )
                ax3.plot(global_mean_cwt_f, ff_cwt, color="black", label="global mean power")
                # ax3.plot(global_sum_cwt_f, ff_cwt, color="darkred", label="global sum power")

            else:
                ca2 = ax2.pcolormesh(
                                    times,
                                    ff_cwt,
                                    cwt_power,
                                    vmin=min(reshape(cwt_power, cwt_power.size)),
                                    vmax=max(reshape(cwt_power, cwt_power.size)),
                                    rasterized=True,
                                    )

            ax3.plot(global_mean_cwt_f, ff_cwt, color="black", label="global mean power")
            # ax3.plot(global_sum_cwt_f, ff_cwt, color="darkred", label="global sum power")

        if period:
            ax2.plot(times, cone_p, color="white", ls="--")
            ax2.fill_between(times, cone_p, max(pp_cwt), color="white", alpha=0.2)
            ax2.set_ylabel(f"Period ({unit})", fontsize=font)
            ax3.set_xlabel("global power", fontsize=font)
        else:
            ax2.plot(times, cone_f, color="white")
            ax2.fill_between(times, cone_f, min(ff_cwt), color="white", alpha=0.2)
            ax2.set_ylabel("Frequency (Hz)", fontsize=font)
            ax3.set_xlabel("Frequency (Hz)", fontsize=font)

        ax3.legend()
        ax2.set_xlabel(f"Time ({unit})", fontsize=font)


        ## add colorbar
        cbar_ax = fig.add_axes([0.73, 0.75, 0.17, 0.08]) #[left, bottom, width, height]
        cb = plt.colorbar(ca2, cax=cbar_ax, orientation="horizontal", extend="both")
        cb.set_label("CWT power", fontsize=font, color="black")



        if fmax:
            if period:
                ax3.set_xlim(0, 1/(fmax*2))
            else:
                if fmax*2 <= 1/tdelta/2:
                    ax3.set_xlim(0, fmax*2)
                    ax2.set_ylim(0, fmax)
        else:
            if period:
                ax2.set_ylim(min(pp_cwt), max(pp_cwt))
            else:
                ax2.set_ylim(min(ff_cwt), max(ff_cwt))



        plt.show();

    ## prepare dict for return
    out = {}
    out['times'] = times
    out['frequencies'] = ff_cwt
    out['cwt_power'] = cwt_power
    out['cone_mask'] = mask_cone
    out['global_mean_cwt'] = global_mean_cwt_f
    out['global_sum_cwt'] = global_sum_cwt_f


    if plot:
        out['fig'] = fig

    return out


# # ttt = ffbi.select(channel="*O")[0].times()
# # arr = ffbi.select(channel="*O")[0].data

# ttt = promy.select(channel="*DI")[0].times()
# arr = promy.select(channel="*DI")[0].data
# dt = 60


# out = __compute_cwt(ttt, arr, dt, datalabel="Pressure (Pa)", tscale="hour", cmap_scale="log",
#                     period=True, fmax=False, plot=True, normalize=True)

# out['fig'].savefig(path_to_figs+f"comparison_{tbeg.date}_{tend.date}_cwt.png", dpi=200, format="png", bbox_inches='tight')







