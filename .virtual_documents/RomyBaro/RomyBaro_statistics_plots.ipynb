import os
import obspy as obs
import matplotlib.pyplot as plt
import numpy as np
import pandas as pd

from obspy import read_inventory

from andbro__read_sds import __read_sds


from functions.get_mean_promy_pressure import __get_mean_promy_pressure
from functions.get_mean_rmy_pressure import __get_mean_rmy_pressure


#%matplotlib tk


if os.uname().nodename == 'lighthouse':
    root_path = '/home/andbro/'
    data_path = '/home/andbro/kilauea-data/'
    archive_path = '/home/andbro/freenas/'
    bay_path = '/home/andbro/bay200/'
elif os.uname().nodename == 'kilauea':
    root_path = '/home/brotzer/'
    data_path = '/import/kilauea-data/'
    archive_path = '/import/freenas-ffb-01-data/'
    bay_path = '/bay200/'
elif os.uname().nodename in ['lin-ffb-01', 'ambrym', 'hochfelln']:
    root_path = '/home/brotzer/'
    data_path = '/import/kilauea-data/'
    archive_path = '/import/freenas-ffb-01-data/'
    bay_path = '/bay200/'


config = {}

# output path for figures
config['path_to_figs'] = data_path+"romy_baro/figures/"

# path to data archive
config['path_to_data'] = data_path+"romy_baro/data/"




df = pd.read_pickle(config['path_to_data']+"RB_statistics.pkl")


df = df[df.status == False]


df


df = df[df.b_e != 0]


df


plt.scatter(df.r_z, df.b_z)
plt.scatter(df.r_n, df.b_n)
plt.scatter(df.r_e, df.b_e)

plt.yscale("log")


plt.boxplot([abs(df.a_z), abs(df.a_n), abs(df.a_e), abs(df.b_z), abs(df.b_n), abs(df.b_e)],
            labels=[r"a$_Z$", r"a$_N$", r"a$_E$", r"b$_Z$", r"b$_N$", r"b$_E$"])
plt.yscale("log")
plt.show();


plt.boxplot([abs(df.b_z), abs(df.b_n), abs(df.b_e)], labels=["Z", "N", "E"])
plt.yscale("log")
plt.show();


plt.scatter(df.r_z, df.a_z)
plt.scatter(df.r_n, df.a_n)
plt.scatter(df.r_e, df.a_e)

plt.yscale("log")


plt.hist([df.r_n, df.r_e, df.r_z], bins=10, range=[0, 100], alpha=0.8, rwidth=0.8, align="mid", density=False, zorder=2)
plt.grid(alpha=0.2, ls="--", zorder=0)
plt.xlim(0, 100)


plt.scatter(df.shift_PP_E, df.cmax_PP_E)
plt.scatter(df.shift_PP_N, df.cmax_PP_N)

plt.xlim(-2000, 2000)


plt.scatter(df.shift_HP_E, df.cmax_HP_E)
plt.scatter(df.shift_HP_N, df.cmax_HP_N)

plt.xlim(-2000, 2000)


import pandas as pd

df2 = df.copy()
df2 = df2.loc[:, df2.columns != "t1"]
df2 = df2.loc[:, df2.columns != "t2"]
df2 = df2.loc[:, df2.columns != "status"]

df2

pd.plotting.scatter_matrix(df, alpha=0.2)



