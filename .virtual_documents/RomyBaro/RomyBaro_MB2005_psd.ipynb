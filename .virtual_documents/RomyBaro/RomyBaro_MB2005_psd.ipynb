import matplotlib.pyplot as plt
import numpy as np
import os

from obspy import UTCDateTime, read, Stream, Trace, read_inventory
from obspy import read_inventory
from pandas import read_csv, DataFrame, read_pickle

from andbro__read_sds import __read_sds
from andbro__load_FURT_stream import __load_furt_stream

import warnings
warnings.filterwarnings('ignore')

from functions.multitaper_psd import __multitaper_psd
from functions.welch_psd import __welch_psd


if os.uname().nodename == 'lighthouse':
    root_path = '/home/andbro/'
    data_path = '/home/andbro/kilauea-data/'
    archive_path = '/home/andbro/freenas/'
    bay_path = '/home/andbro/ontap-ffb-bay200/'
    lamont_path = '/home/andbro/lamont/'
elif os.uname().nodename == 'kilauea':
    root_path = '/home/brotzer/'
    data_path = '/import/kilauea-data/'
    archive_path = '/import/freenas-ffb-01-data/'
    bay_path = '/import/ontap-ffb-bay200/'
    lamont_path = '/lamont/'
elif os.uname().nodename in ['lin-ffb-01', 'ambrym', 'hochfelln']:
    root_path = '/home/brotzer/'
    data_path = '/import/kilauea-data/'
    archive_path = '/import/freenas-ffb-01-data/'
    bay_path = '/import/ontap-ffb-bay200/'
    lamont_path = '/lamont/'


# tbeg, tend = UTCDateTime("2023-09-03"), UTCDateTime("2023-09-07")
# tbeg, tend = UTCDateTime("2023-11-05"), UTCDateTime("2023-11-22")
# tbeg, tend = UTCDateTime("2023-12-01"), UTCDateTime("2023-12-31")
# tbeg, tend = UTCDateTime("2024-01-15"), UTCDateTime("2024-01-31")

# insulation finished
# tbeg, tend = UTCDateTime("2024-03-09"), UTCDateTime("2024-03-20")

# low infrasound power
tbeg, tend = UTCDateTime("2024-09-12"), UTCDateTime("2024-09-13")

# low infrasound power
# tbeg, tend = UTCDateTime("2024-02-12"), UTCDateTime("2024-02-13")


# path_to_figs = root_path+"Documents/ROMY/ROMY_infrasound/figures/"
path_to_figs = data_path+"romy_baro/figures/"



ffbi0 = __read_sds(bay_path+"mseed_online/archive/", "BW.FFBI..BD*", tbeg, tend)


ffbi = ffbi0.copy()

if len(ffbi) != 2:
    ffbi.merge();

ffbi_inv = read_inventory(root_path+"/Documents/ROMY/ROMY_infrasound/station_BW_FFBI.xml")
# ffbi = ffbi.remove_response(ffbi_inv, water_level=10)

ffbi_no_response = ffbi.copy()
for tr in ffbi_no_response:
    tr.data = tr.data *1.589e-6 /0.02  # gain=1 sensitivity_reftek=6.28099e5count/V; sensitivity_mb2005=0.02 V/Pa

# remove gain and sensitivity
for tr in ffbi:
    if "F" in tr.stats.channel:
        # tr.data = tr.data *1.589e-6 /0.02  # gain=1 sensitivity_reftek=6.28099e5count/V; sensitivity_mb2005=0.02 V/Pa
        # tr.data = tr.data *1/629129.0 /0.02  # gain=1 sensitivity_reftek=6.28099e5count/V; sensitivity_mb2005=0.02 V/Pa
        tr = tr.remove_response(ffbi_inv, water_level=10, plot=False)
    elif "O" in tr.stats.channel:
        tr.data = tr.data *1.589e-6 *1e5   # gain=1 sensitivity_reftek=6.28099e5count/V; sensitivity = 0.001 V/hPa

ffbi.merge();

print(ffbi)

ffbi.plot(equal_scale=False);


# # ffbi00 = __read_sds(archive_path+"temp_archive/", "BW.FFBI.30.LD*", UTCDateTime("2024-02-12"), UTCDateTime("2024-02-13"))

# # print(ffbi0)

# ffbi0 = ffbi.copy().trim(UTCDateTime("2024-02-12 19:00"), UTCDateTime("2024-02-12 22:00"))

# Nwin = 7200
# dt = ffbi0[0].stats.delta
# f1, psd1 = __welch_psd(ffbi0.select(channel="BDF")[0].data, dt, twin_sec=Nwin)
# f2, psd2 = __welch_psd(ffbi0.select(channel="BDO")[0].data, dt, twin_sec=Nwin)

# # store microbarom data
# dfout = DataFrame()
# dfout['freq'] = f1
# dfout['psd'] = psd1

# dfout.to_pickle("./microbarom_data.pkl")


from functions.smoothing import __smooth


barom = read_pickle("./microbarom_data.pkl")

barom['psd_db'] = 10*np.log10(barom['psd'])

barom['psd_smth'] = __smooth(barom['psd'], 60)

barom['psd_smth_db'] = __smooth(barom['psd_db'], 60)


baro_lnm = read_csv(data_path+f"LNM2/data/"+"baro_nlnm_nhnm.csv")

baro_lnm['nlnm_baro'] = 10**(baro_lnm['nlnm_baro_db']/10)
baro_lnm['nhnm_baro'] = 10**(baro_lnm['nhnm_baro_db']/10)


dt = ffbi[0].stats.delta

Nwin = 3600
f1, psd1 = __welch_psd(ffbi.select(channel="BDF")[0].data, dt, twin_sec=Nwin)
f2, psd2 = __welch_psd(ffbi.select(channel="BDO")[0].data, dt, twin_sec=Nwin)
f3, psd3 = __welch_psd(ffbi_no_response.select(channel="BDF")[0].data, dt, twin_sec=Nwin)


Nwin = 2e4
f1_low, psd1_low = __welch_psd(ffbi.select(channel="BDF")[0].data, dt, twin_sec=Nwin)
f2_low, psd2_low = __welch_psd(ffbi.select(channel="BDO")[0].data, dt, twin_sec=Nwin)
f3_low, psd3_low = __welch_psd(ffbi_no_response.select(channel="BDF")[0].data, dt, twin_sec=Nwin)


psd1_low_db = 10*np.log10(psd1_low)
psd2_low_db = 10*np.log10(psd2_low)
psd3_low_db = 10*np.log10(psd3_low)

psd1_db = 10*np.log10(psd1)
psd2_db = 10*np.log10(psd2)
psd3_db = 10*np.log10(psd3)


fig = plt.figure(figsize=(10, 5))

idx1 = 40
plt.loglog(f2[idx1:], psd2[idx1:], color="tab:blue", label="FFBI.BDO")
plt.loglog(f1[idx1:], psd1[idx1:], color="tab:orange", label="FFBI.BDF (response removed)")
plt.loglog(f3[idx1:], psd3[idx1:], color="tab:green", label="FFBI.BDF (sensitivity removed)")

idx2 = 250
plt.loglog(f2_low[:idx2], psd2_low[:idx2], color="tab:blue")
plt.loglog(f1_low[:idx2], psd1_low[:idx2], color="tab:orange")
plt.loglog(f3_low[:idx2], psd3_low[:idx2], color="tab:green")

idx0 = 100
plt.loglog(barom['freq'][idx0:], barom['psd_smth'][idx0:], color="grey")

plt.loglog(baro_lnm['frequency'], baro_lnm['nlnm_baro'], c="k", ls="--")
plt.loglog(baro_lnm['frequency'], baro_lnm['nhnm_baro'], c="k", ls="--")
plt.xlim(1e-4, 1e1)
plt.ylim(1e-6, 1e6)

plt.xlabel("Frequency (Hz)")
plt.ylabel("PSD (Pa$^2$/Hz)")

plt.title(f"MB2005 | {tbeg.date} {str(tbeg.time)[:10]} - {tend.date} {str(tend.time)[:10]}")

plt.legend()
plt.grid(which="both", alpha=0.5, zorder=0)
plt.show();

# fig.savefig(path_to_figs+f"CheckUp_BDO_BDF_response_{tbeg.date}_{tend.date}.png", format="png", dpi=150, bbox_inches='tight');



fig = plt.figure(figsize=(10, 5))

idx1 = 40
plt.semilogx(f2[idx1:], psd2_db[idx1:], color="tab:blue", label="FFBI.BDO")
plt.semilogx(f1[idx1:], psd1_db[idx1:], color="tab:orange", label="FFBI.BDF (response removed)")
plt.semilogx(f3[idx1:], psd3_db[idx1:], color="tab:green", label="FFBI.BDF (sensitivity removed)")

idx2 = 250
plt.semilogx(f2_low[:idx2], psd2_low_db[:idx2], color="tab:blue")
plt.semilogx(f1_low[:idx2], psd1_low_db[:idx2], color="tab:orange")
plt.semilogx(f3_low[:idx2], psd3_low_db[:idx2], color="tab:green")

idx0 = 100
plt.semilogx(barom['freq'][idx0:], barom['psd_smth_db'][idx0:], color="grey")

plt.semilogx(baro_lnm['frequency'], baro_lnm['nlnm_baro_db'], c="k", ls="--")
plt.semilogx(baro_lnm['frequency'], baro_lnm['nhnm_baro_db'], c="k", ls="--")
plt.xlim(1e-4, 1e1)
plt.ylim(-80, 70)

plt.xlabel("Frequency (Hz)")
plt.ylabel("PSD (dB wrt. 1 Pa$^2$/Hz)")

plt.title(f"MB2005 | {tbeg.date} {str(tbeg.time)[:10]} - {tend.date} {str(tend.time)[:10]}")

plt.legend()
plt.grid(which="both", alpha=0.5, zorder=0)
plt.show();

# fig.savefig(path_to_figs+f"CheckUp_BDO_BDF_response_{tbeg.date}_{tend.date}_dB.png", format="png", dpi=150, bbox_inches='tight');






def __compute_cwt(times, arr1, tdelta,
                  datalabel="dat1",
                  cmap_scale="lin",
                  period=False,
                  tscale='sec',
                  fmax=None,
                  normalize=True,
                  plot=True
                 ):

    from pycwt import wct, xwt, Morlet, ar1, significance, cwt
    from numpy import std, nanmean, nan, nanmax, nanmin, nanvar, ones, nan_to_num, polyfit, polyval, array, reshape, nanpercentile
    from numpy import sum as npsum

    import matplotlib.colors as colors
    import matplotlib.pyplot as plt

    times = array(times, dtype='float64')
    arr1 = array(arr1, dtype='float64')

    if len(arr1) != len(arr1):
        print(" -> different lenght of arrays!")
        return

    def __mask_cone(arr2d, ff, thresholds, fill=nan):
        mask = ones(arr2d.shape)
        for k in range(arr2d.shape[0]):  ##85
            for l in range(arr2d.shape[1]):  ## 1401
                 if ff[k] < thresholds[l]:
                    mask[k,l] = fill
        return mask


    ## specify parameters
    N = len(arr1)
    dt = tdelta
    df = 1/dt
    significance_threshold = 0.95

    ## detrend data
    p = polyfit(times - times[0], arr1, 1)
    dat_notrend = arr1 - polyval(p, times - times[0])
    std = dat_notrend.std()  # Standard deviation
    var = std ** 2  # Variance
    arr1 = dat_notrend / std  # Normalized dataset

    ## create mother wavelet
    mother_wavelet = Morlet(6)
    s0_set = 2 * dt  # Starting scale
    dj_set = 1 / 12  # Twelve sub-octaves per octaves
    J_set = int(7 / dj_set)  # Seven powers of two with dj sub-octaves
    #print(s0_set, dj_set, J_set)


    cwt, scales, ff_cwt, cone_p, fft, fftfreqs = cwt(
                                                        arr1,
                                                        dt=dt,
                                                        dj=dj_set, #0.05,
                                                        s0=s0_set, #-1,
                                                        J=J_set, #-1,
                                                        wavelet=mother_wavelet,  # u'morlet',
                                                    )

    cone_f = 1/cone_p
    pp_cwt = 1/ff_cwt

    if tscale == "min":
        times /= 60
        cone_p /= 60
        pp_cwt /= 60
        unit = "min"
    elif tscale == "hour":
        times /= 3600
        cone_p /= 3600
        pp_cwt /= 3600
        unit = "hour"
    else:
        unit = "s"

    ## building cone
    mask_cone = __mask_cone(cwt, ff_cwt, cone_f, fill=nan)


    ## get real part
    cwt_power = abs(cwt)

    ## normalize cross wavelet transform
    if normalize:
        cwt_power /= nanmax(cwt_power.reshape((1, cwt_power.size))[0])

    ## apply masks
    # cwt_power_masked = cwt_power * mask_cwt * mask_cone
    cwt_power_masked = cwt_power * mask_cone

    ## compute global cross wavelet transform power
    global_mean_cwt_f = nanmean(cwt_power_masked, axis=1)
    global_sum_cwt_f = npsum(nan_to_num(cwt_power_masked, 0), axis=1)

    if normalize:
        global_sum_cwt_f /= max(global_sum_cwt_f)
        global_mean_cwt_f /= max(global_mean_cwt_f)


    ## ____________________________________________________
    ## plotting
    if plot:

        from mpl_toolkits.axes_grid1 import make_axes_locatable

        import matplotlib.pyplot as plt
        from matplotlib.gridspec import GridSpec

        Ncol, Nrow = 4, 3

        font = 12

        fig = plt.figure(figsize=(15, 8))

        gs = GridSpec(Nrow, Ncol, figure=fig)

        ax1 = fig.add_subplot(gs[0, :-1])
        ax2 = fig.add_subplot(gs[1:, :-1])
        ax3 = fig.add_subplot(gs[1:, 3:])

        ax1.set_xticklabels([])
        ax3.set_yticklabels([])

        plt.subplots_adjust(hspace=0.1, wspace=0.1)


        ax1.plot(times, arr1, alpha=1, color="black", lw=1, label=datalabel)

        ax1.set_xlim(min(times), max(times))
        ax1.set_ylabel("Amplitude", fontsize=font)
        ax1.legend(loc=1)

        max_power = nanpercentile(reshape(cwt_power, cwt_power.size), 95)
        min_power = nanpercentile(reshape(cwt_power, cwt_power.size), 5)

        if period:
            if cmap_scale == "log":
                ca2 = ax2.pcolormesh(
                                    times,
                                    pp_cwt,
                                    cwt_power,
                                    norm=colors.LogNorm(min_power, max_power),
                                    rasterized=True,
                                    )

                ax3.plot(global_mean_cwt_f, pp_cwt, color="black", label="global mean power")
                # ax3.plot(global_sum_cwt_f, pp_cwt, color="darkred", label="global sum power")
            else:
                ca2 = ax2.pcolormesh(
                                    times,
                                    pp_cwt,
                                    cwt_power,
                                    vmin=min(reshape(cwt_power, cwt_power.size)),
                                    vmax=max(reshape(cwt_power, cwt_power.size)),
                                    rasterized=True,
                                    )

                ax3.plot(global_mean_cwt_f, pp_cwt, color="black", label="global mean power")
                # ax3.plot(global_sum_cwt_f, pp_cwt, color="darkred", label="global sum power")

        else:
            if cmap_scale == "log":

                ca2 = ax2.pcolormesh(
                                    times,
                                    ff_cwt,
                                    cwt_power,
                                    norm=colors.LogNorm(min_power, max_power),
                                    rasterized=True,
                                    )
                ax3.plot(global_mean_cwt_f, ff_cwt, color="black", label="global mean power")
                # ax3.plot(global_sum_cwt_f, ff_cwt, color="darkred", label="global sum power")

            else:
                ca2 = ax2.pcolormesh(
                                    times,
                                    ff_cwt,
                                    cwt_power,
                                    vmin=min(reshape(cwt_power, cwt_power.size)),
                                    vmax=max(reshape(cwt_power, cwt_power.size)),
                                    rasterized=True,
                                    )

            ax3.plot(global_mean_cwt_f, ff_cwt, color="black", label="global mean power")
            # ax3.plot(global_sum_cwt_f, ff_cwt, color="darkred", label="global sum power")

        if period:
            ax2.plot(times, cone_p, color="white", ls="--")
            ax2.fill_between(times, cone_p, max(pp_cwt), color="white", alpha=0.2)
            ax2.set_ylabel(f"Period ({unit})", fontsize=font)
            ax3.set_xlabel("global power", fontsize=font)
        else:
            ax2.plot(times, cone_f, color="white")
            ax2.fill_between(times, cone_f, min(ff_cwt), color="white", alpha=0.2)
            ax2.set_ylabel("Frequency (Hz)", fontsize=font)
            ax3.set_xlabel("Frequency (Hz)", fontsize=font)

        ax3.legend()
        ax2.set_xlabel(f"Time ({unit})", fontsize=font)


        ## add colorbar
        cbar_ax = fig.add_axes([0.73, 0.75, 0.17, 0.08]) #[left, bottom, width, height]
        cb = plt.colorbar(ca2, cax=cbar_ax, orientation="horizontal", extend="both")
        cb.set_label("CWT power", fontsize=font, color="black")



        if fmax:
            if period:
                ax3.set_xlim(0, 1/(fmax*2))
            else:
                if fmax*2 <= 1/tdelta/2:
                    ax3.set_xlim(0, fmax*2)
                    ax2.set_ylim(0, fmax)
        else:
            if period:
                ax2.set_ylim(min(pp_cwt), max(pp_cwt))
            else:
                ax2.set_ylim(min(ff_cwt), max(ff_cwt))



        plt.show();

    ## prepare dict for return
    out = {}
    out['times'] = times
    out['frequencies'] = ff_cwt
    out['cwt_power'] = cwt_power
    out['cone_mask'] = mask_cone
    out['global_mean_cwt'] = global_mean_cwt_f
    out['global_sum_cwt'] = global_sum_cwt_f


    if plot:
        out['fig'] = fig

    return out


# # ttt = ffbi.select(channel="*O")[0].times()
# # arr = ffbi.select(channel="*O")[0].data

# ttt = promy.select(channel="*DI")[0].times()
# arr = promy.select(channel="*DI")[0].data
# dt = 60


# out = __compute_cwt(ttt, arr, dt, datalabel="Pressure (Pa)", tscale="hour", cmap_scale="log",
#                     period=True, fmax=False, plot=True, normalize=True)

# out['fig'].savefig(path_to_figs+f"comparison_{tbeg.date}_{tend.date}_cwt.png", dpi=200, format="png", bbox_inches='tight')







