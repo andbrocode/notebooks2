import os
import matplotlib.pyplot as plt

from datetime import datetime, date
from pandas import DataFrame, read_pickle, date_range, concat, read_csv
from obspy import UTCDateTime
from numpy import log10

from andbro__savefig import __savefig



if os.uname().nodename == 'lighthouse':
    root_path = '/home/andbro/'
    data_path = '/home/andbro/kilauea-data/'
    archive_path = '/home/andbro/freenas/'
elif os.uname().nodename == 'kilauea':
    root_path = '/home/brotzer/'
    data_path = '/import/kilauea-data/'
    archive_path = '/import/freenas-ffb-01-data/'


# from matplotlib import rc
# rc('text', usetex=True)


config = {}


config['seeds'] = ["BW.DROMY..FJU", "BW.DROMY..FJU"]

config['path_to_sds'] = archive_path+"romy_archive/"

## time before change
config['tbeg1'] = UTCDateTime("2023-10-19 17:00")
config['tend1'] = UTCDateTime("2023-10-19 17:10")

## time after change
config['tbeg2'] = UTCDateTime("2023-10-19 14:00")
config['tend2'] = UTCDateTime("2023-10-19 14:10")

config['f_lower_zoomin'], config['f_upper_zoomin'] = 290, 310


config['datapath'] = data_path+"sagnac_frequency/prismspectra/"

config['path_to_figs'] = data_path+"sagnac_frequency/figures/"


def __compute_psd(st0, twin_sec=60):

    from scipy.signal import welch, hann

    _st = st0.copy()

    _st.sort(keys=['channel'], reverse=True)

    nblock = int(st[0].stats.sampling_rate * twin_sec)
    overlap = int(0.5*nblock)
    win = hann(nblock, True)

    Pxxs, ffs, chs = [], [], []

    for i, tr in enumerate(_st):

        ff, Pxx = welch(tr.data,
                        fs=tr.stats.sampling_rate,
                        window=win, noverlap=overlap,
                        nfft=nblock,
                        scaling="density",
                        return_onesided=True)

        ffs.append(ff)
        chs.append(tr.stats.channel)
        Pxxs.append(Pxx)

    out = {}
    out['Pxxs'] = Pxxs
    out['ffs'] = ffs
    out['chs'] = chs

    return out


def __load_romy_raw_data(seeds, tbeg, tend, path_to_sds):

    from andbro__read_sds import __read_sds
    from obspy import Stream, UTCDateTime

    st0 = Stream()

    for seed in seeds:

        print(f" -> loading {seed}...")

        try:
            st00 = __read_sds(path_to_sds, seed, tbeg,tend, data_format='MSEED')
        except:
            print(f" -> failed for {seed}")

        st0 += st00

    st0 = st0.sort()

    for tr in st0:
        tr.data = tr.data*0.59604645e-6 # V / count  [0.59604645ug  from obsidian]

    return st0


st1 = __load_romy_raw_data([config['seeds'][0]], config['tbeg1'], config['tend1'], config['path_to_sds'])
st2 = __load_romy_raw_data([config['seeds'][1]], config['tbeg2'], config['tend2'], config['path_to_sds'])


st = st1.copy()
st += st2.copy()

st.plot(equal_scale=False);


def __makeplot_stream_PSD(st, twin_sec=60, f_lower_zoom=540, f_upper_zoom=560):

    from scipy import fftpack
    from numpy import abs
    from scipy.signal import welch, hann
    import matplotlib.pyplot as plt


    nblock = int(st[0].stats.sampling_rate * twin_sec)
    overlap = int(0.5*nblock)

    print(f" -> nseg = {nblock} | overlap = {overlap}")

    win = hann(nblock, True)


    fig, axes = plt.subplots(len(st),2,figsize=(15,10), sharex='col')

    plt.subplots_adjust(hspace=0.1)

    ## _______________________________________________

    st.sort(keys=['channel'], reverse=True)

    Pxxs, ffs, chs = [], [], []

    for i, tr in enumerate(st):

        tr.data /= max(abs(tr.data))

        ff, Pxx = welch(tr.data,
                        fs=tr.stats.sampling_rate,
                        window=win, noverlap=overlap,
                        nfft=nblock,
                        scaling="density",
                        return_onesided=True)

        ffs.append(ff)
        chs.append(tr.stats.channel)
        Pxxs.append(Pxx)

        ## _________________________________________________________________
        axes[i,0].plot(
                    tr.times(),
                    tr.data,
                    color='black',
                    label='{} {}'.format(tr.stats.station, tr.stats.channel),
                    lw=1.0,
                    )


        ## _________________________________________________________________
        axes[i,1].semilogy(
                    ff,
                    Pxx,
                    color='black',
                    lw=1.0,
                    )

        axes[i,1].set_ylim(min(Pxx[10:]), max(Pxx[10:]))

        axes[i,0].set_ylabel(r'U (volt)')

        axes[i,1].set_ylabel(r'PSD (volt$^2$/Hz)')

        axes[i,0].legend(loc='upper left', framealpha=.8)

#         axes[i,0].ticklabel_format(axis='y', style='sci', scilimits=(0,0))
#         axes[i,1].ticklabel_format(axis='y', style='sci', scilimits=(0,0))

        axes[i,1].set_xlim(f_lower_zoom, f_upper_zoom)

    plt.show();
    return fig, (Pxxs, ffs, chs)


fig, out = __makeplot_stream_PSD(st, twin_sec=60, f_lower_zoom=config['f_lower_zoomin'], f_upper_zoom=config['f_upper_zoomin'])


fig, out = __makeplot_stream_PSD(st, twin_sec=60, f_lower_zoom=290, f_upper_zoom=315)

fig.savefig(config['path_to_figs']+f"Prismspectra_{st[0].stats.channel}_{st[1].stats.channel}_trace&PSD.png", format="png", dpi=200, bbox_inches='tight')


def __makeplot_psd_overview_with_zoomin(stx, twin_sec=60, plot_dB=True, f_lower_zoom=540, f_upper_zoom=560):

    import matplotlib.pyplot as plt
    from matplotlib.gridspec import GridSpec
    from numpy import log10

    font = 14

    # stx = stx.detrend("demean")
    # stx = stx.normalize()

    out = __compute_psd(stx, twin_sec=twin_sec)

    Pxxs, ffs, chs = out['Pxxs'], out['ffs'], out['chs']

    chs[0] = chs[0]+" before"
    chs[1] = chs[1]+" after"

    fig = plt.figure(figsize=(15, 8))

    plt.subplots_adjust(wspace=0.05)

    gs = GridSpec(1, 2, width_ratios=[2, 1])

    ax1 = fig.add_subplot(gs[0])
    ax2 = fig.add_subplot(gs[1])

    for jj in range(len(Pxxs)):
        if plot_dB:
            ax1.semilogx(ffs[jj], 20*log10(Pxxs[jj]/max(Pxxs[jj])), alpha=0.5, label=chs[jj])
            ax2.plot(ffs[jj], 20*log10(Pxxs[jj]/max(Pxxs[jj])), alpha=0.5, label=chs[jj])
            ax1.set_ylim(-190, 0)
            ax2.set_ylim(-190, 0)
        else:
            ax1.loglog(ffs[1], Pxxs[1], alpha=0.5, label=chs[1])
            ax2.loglog(ffs[1], Pxxs[1], alpha=0.5, label=chs[1])

    # ax1.semilogx(ffs[2], 20*log10(Pxxs[2]), alpha=0.5, color="tab:green", label=chs[2], zorder=2)

    ax1.grid(alpha=0.2, which="both")
    ax1.set_xlabel("Frequency (Hz)", fontsize=font)
    ax1.set_ylabel(f"PSD (dB rel. to (1 $V^2$/Hz))", fontsize=font)
    ax1.legend(loc="upper center", fontsize=font-1, ncol=3)
    ax1.tick_params(labelsize=font-2)



    ax2.set_xlabel("Frequency (Hz)", fontsize=font)
    ax2.grid(alpha=0.2, which="both")
    ax2.tick_params(labelsize=font-2)
    ax2.set_yticklabels([])

    # ax2.set_xlim(553-100, 553+100)
    ax2.set_xlim(f_lower_zoom, f_upper_zoom)

    ax1.text(.01, .99, '(a)', ha='left', va='top', transform=ax1.transAxes, fontsize=font+2)
    ax2.text(.01, .99, '(b)', ha='left', va='top', transform=ax2.transAxes, fontsize=font+2)

    time_str1 = f"{stx[0].stats.starttime.date} {str(stx[0].stats.starttime.time).split('.')[0]} - {str(stx[0].stats.endtime.time).split('.')[0]} UTC"
    time_str2 = f"{stx[1].stats.starttime.date} {str(stx[1].stats.starttime.time).split('.')[0]} - {str(stx[1].stats.endtime.time).split('.')[0]} UTC"

    ax1.set_title(f"{time_str1} vs. {time_str2}")

    plt.show();
    return fig


Pxxs, ffs, chs = out[0], out[1], out[2]

# fig = __makeplot_psd_overview_with_zoomin(st, twin_sec=60, plot_dB=True, f_lower_zoom=config['f_lower_zoomin']-20, f_upper_zoom=config['f_upper_zoomin']+20)
fig = __makeplot_psd_overview_with_zoomin(st, twin_sec=60, plot_dB=True, f_lower_zoom=290, f_upper_zoom=315)

fig.savefig(config['path_to_figs']+f"Prismspectra_{st[0].stats.channel}_{st[1].stats.channel}_zoomin.png", format="png", dpi=200, bbox_inches='tight')






