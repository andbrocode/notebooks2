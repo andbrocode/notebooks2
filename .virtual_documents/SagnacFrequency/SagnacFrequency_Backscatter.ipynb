import os
import matplotlib.pyplot as plt
import numpy as np

from datetime import datetime, date
from pandas import DataFrame, read_pickle, date_range, concat, read_csv
from obspy import UTCDateTime
from scipy.signal import hilbert



if os.uname().nodename == 'lighthouse':
    root_path = '/home/andbro/'
    data_path = '/home/andbro/kilauea-data/'
    archive_path = '/home/andbro/freenas/'
elif os.uname().nodename == 'kilauea':
    root_path = '/home/brotzer/'
    data_path = '/import/kilauea-data/'
    archive_path = '/import/freenas-ffb-01-data/'


# from matplotlib import rc
# rc('text', usetex=True)


config = {}

config['ring'] = "U"

# config['seeds'] = ["BW.DROMY..FJV", "BW.DROMY..FJW"]

config['path_to_sds'] = archive_path+"romy_archive/"

config['tbeg'] = UTCDateTime("2023-09-19 00:00")
config['tend'] = UTCDateTime("2023-09-19 10:00")

# config['f_lower_zoomin'], config['f_upper_zoomin'] = 448-10, 448+10

config['path_to_data'] = archive_path+f"romy_autodata/"

config['path_to_figs'] = data_path+"sagnac_frequency/figures/"


def __compute_psd(st0, twin_sec=60):

    from scipy.signal import welch, hann

    _st = st0.copy()

    _st.sort(keys=['channel'], reverse=True)

    nblock = int(st[0].stats.sampling_rate * twin_sec)
    overlap = int(0.5*nblock)
    win = hann(nblock, True)

    Pxxs, ffs, chs = [], [], []

    for i, tr in enumerate(_st):

        ff, Pxx = welch(tr.data,
                        fs=tr.stats.sampling_rate,
                        window=win, noverlap=overlap,
                        nfft=nblock,
                        scaling="spectrum",
                        return_onesided=True)

        ffs.append(ff)
        chs.append(tr.stats.channel)
        Pxxs.append(Pxx)

    out = {}
    out['Pxxs'] = Pxxs
    out['ffs'] = ffs
    out['chs'] = chs

    return out


def __load_romy_raw_data(seeds, tbeg, tend, path_to_sds):

    from andbro__read_sds import __read_sds
    from obspy import Stream, UTCDateTime

    st0 = Stream()

    for seed in seeds:

        print(f" -> loading {seed}...")

        try:
            st00 = __read_sds(path_to_sds, seed, tbeg,tend, data_format='MSEED')
        except:
            print(f" -> failed for {seed}")

        st0 += st00

    st0 = st0.sort()

    for tr in st0:
        tr.data = tr.data*0.59604645e-6 # V / count  [0.59604645ug  from obsidian]

    return st0


def __load_beat(tbeg, tend, ring, path_to_data):

    from datetime import date
    from pandas import read_pickle, concat
    from obspy import UTCDateTime


    tbeg, tend = UTCDateTime(tbeg), UTCDateTime(tend)

    dd1 = date.fromisoformat(str(tbeg.date))
    dd2 = date.fromisoformat(str(tend.date))

    year = str(tbeg.year)

    df = DataFrame()
    for dat in date_range(dd1, dd2):
        file = f"{year}/R{ring}/FJ{ring}_"+str(dat)[:10].replace("-", "")+".pkl"
        try:
            df0 = read_pickle(path_to_data+file)
            df = concat([df, df0])
        except:
            print(f"error for {file}")

    ## trim to defined times
    df = df[(df.times_utc >= tbeg) & (df.times_utc < tend)]

    ## correct seconds
    df['times_utc_sec'] = [abs(tbeg - UTCDateTime(_t))  for _t in df['times_utc']]

    return df


beat = __load_beat(config['tbeg'], config['tend'], config['ring'], config['path_to_data'])


beat


plt.plot(beat.times_utc_sec, beat.fj)


plt.plot(beat.times_utc_sec, abs(hilbert(beat.f1-beat.f2)))
plt.ylim(-1e-3, 1e-3)


# fractional beat modulations
m01 = beat.f1 / beat.fj * 100
m02 = beat.f2 / beat.fj * 100


# phase difference
phase0 = abs(hilbert(beat.f1 - beat.f2))

# beat signal observered
w_obs = beat.fj


## from Hurst 2014

## free spectral range fsr = c / P
fL = 8e6 ## Hz

## gain
alpha = 7.39e-6

## sekf-saturation coefficient
beta = 4.67e-5

## cross-saturation coefficient
theta = 1.014e-5

I0 = beat.ac_z + beat.dc_z


m1 = m01 * ( 1 + m01**2 / 4 )
m2 = m02 * ( 1 + m02**2 / 4 )





phase = phase0 + 0.5 * m1 * m2 * np.sin( phase0 )


m2c = ( m1**2 + m2**2 + 2*m1*m2*np.cos( phase ) ) / 4
m2d = ( m1**2 + m2**2 - 2*m1*m2*np.cos( phase ) ) / 4  ## different angle!


# m2c = m2c * ( 1 + ( beta + theta )**2 * fL**2 * I0**2 / ws**2 )





M = m2c - m2d + 0.25 * m1**2 * m2**2 * np.sin(phase)**2


plt.plot(M)


w_s = w_obs * ( 4 + M ) / ( 4 - M )


fig, ax = plt.subplots(5, 1, figsize=(15, 10), sharex=True)

ax[0].plot(beat.times_utc_sec, w_obs)

ax[1].plot(beat.times_utc_sec, m01)
ax[1].plot(beat.times_utc_sec, m02)
# ax[1].set_ylim(0, .1)

ax[2].plot(beat.times_utc_sec, phase)

ax[3].plot(beat.times_utc_sec, M)


ax[4].plot(beat.times_utc_sec, w_s)


plt.show();


t = np.linspace(0, 20, 1000)

a = 1.0 * np.sin(2*np.pi*1*t)
b = 0.8 * np.sin(2*np.pi*1.1*t)

plt.figure()
plt.plot(a)
plt.plot(b)

plt.figure()
plt.plot(abs((a-b)))
plt.plot(abs(hilbert(a-b)))






# def __makeplot_psd_overview_with_zoomin(stx, twin_sec=60, plot_dB=True):

#     import matplotlib.pyplot as plt
#     from matplotlib.gridspec import GridSpec
#     from numpy import log10

#     font = 14

#     # stx = stx.detrend("demean")
#     # stx = stx.normalize()

#     out = __compute_psd(stx, twin_sec=twin_sec)

#     Pxxs, ffs, chs = out['Pxxs'], out['ffs'], out['chs']

#     fig = plt.figure(figsize=(15, 8))

#     plt.subplots_adjust(wspace=0.05)

#     gs = GridSpec(1, 2, width_ratios=[2, 1])

#     ax1 = fig.add_subplot(gs[0])
#     ax2 = fig.add_subplot(gs[1])

#     for jj in range(len(Pxxs)):
#         if plot_dB:
#             ax1.semilogx(ffs[jj], 10*log10(Pxxs[jj]), alpha=0.5, label=chs[jj])
#             ax2.plot(ffs[jj], 10*log10(Pxxs[jj]), alpha=0.5, label=chs[jj])
#             ax1.set_ylim(-110, 0)
#             ax2.set_ylim(-110, 0)
#         else:
#             ax1.loglog(ffs[1], Pxxs[1], alpha=0.5, label=chs[1])
#             ax2.loglog(ffs[1], Pxxs[1], alpha=0.5, label=chs[1])

#     # ax1.semilogx(ffs[2], 20*log10(Pxxs[2]), alpha=0.5, color="tab:green", label=chs[2], zorder=2)

#     ax1.grid(alpha=0.2, which="both")
#     ax1.set_xlabel("Frequency (Hz)", fontsize=font)
#     ax1.set_ylabel(f"PSD (dB rel. to (1 $V^2$/Hz))", fontsize=font)
#     ax1.legend(loc="upper center", fontsize=font-1, ncol=3)
#     ax1.tick_params(labelsize=font-2)



#     ax2.set_xlabel("Frequency (Hz)", fontsize=font)
#     ax2.grid(alpha=0.2, which="both")
#     ax2.tick_params(labelsize=font-2)
#     ax2.set_yticklabels([])

#     ax2.set_xlim(config['f_lower_zoomin'], config['f_upper_zoomin'])

#     ax1.text(.01, .99, '(a)', ha='left', va='top', transform=ax1.transAxes, fontsize=font+2)
#     ax2.text(.01, .99, '(b)', ha='left', va='top', transform=ax2.transAxes, fontsize=font+2)

#     time_str = f"{str(stx[0].stats.starttime.time).split('.')[0]} - {str(stx[0].stats.endtime.time).split('.')[0]} UTC"
#     ax1.set_title(f"{stx[0].stats.starttime.date} {time_str}")

#     plt.show();
#     return fig
