from andbro__read_sds import __read_sds
from obspy import UTCDateTime


# t1 = UTCDateTime("2023-08-25 16:00")
# t2 = UTCDateTime("2023-08-25 16:30")

## mit PMT in central shaft with gain 600 V
# t1 = UTCDateTime("2023-08-31 15:15")
# t2 = UTCDateTime("2023-08-31 15:20")

## mit PD in central shaft with postampdiff boxes
# t1 = UTCDateTime("2023-09-01 14:15")
# t2 = UTCDateTime("2023-09-01 14:30")
t1 = UTCDateTime("2023-09-01 17:00")
t2 = UTCDateTime("2023-09-01 19:00")

path = "/import/freenas-ffb-01-data/"
path = "/home/andbro/freenas/"

st = __read_sds(path+"romy_archive/", "BW.DROMY..FJU", t1, t2)

st += __read_sds(path+"romy_archive/","BW.DROMY..F1V", t1, t2)

st += __read_sds(path+"romy_archive/", "BW.DROMY..F2V", t1, t2)


st.plot(equal_scale=False);


# st[0].spectrogram();

# st[1].spectrogram();

# st[2].spectrogram();






