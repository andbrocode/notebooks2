import os
import matplotlib.pyplot as plt
import numpy as np

from datetime import datetime, date
from pandas import DataFrame, read_pickle, date_range, concat, read_csv
from obspy import UTCDateTime, read, Trace
from scipy.signal import hilbert



from functions.load_mlti import __load_mlti
from functions.get_mlti_intervals import __get_mlti_intervals
from functions.load_beat import __load_beat
from functions.load_lxx import __load_lxx
from functions.get_lxx_intervals import __get_lxx_intervals
from functions.get_mlti_statistics import __get_mlti_statistics


if os.uname().nodename == 'lighthouse':
    root_path = '/home/andbro/'
    data_path = '/home/andbro/kilauea-data/'
    archive_path = '/home/andbro/freenas/'
    bay_path = '/home/andbro/bay200/'
elif os.uname().nodename == 'kilauea':
    root_path = '/home/brotzer/'
    data_path = '/import/kilauea-data/'
    archive_path = '/import/freenas-ffb-01-data/'
    bay_path = '/bay200/'
elif os.uname().nodename == 'lin-ffb-01':
    root_path = '/home/brotzer/'
    data_path = '/import/kilauea-data/'
    archive_path = '/import/freenas-ffb-01-data/'
    bay_path = '/bay200/'


config = {}

# random
config['tbeg'] = UTCDateTime("2023-09-01 00:00")
config['tend'] = UTCDateTime("2023-12-31 00:00")

# no isolation ?
config['tbeg'] = UTCDateTime("2023-03-01 00:00")
config['tend'] = UTCDateTime("2023-03-31 00:00")

# isolation
config['tbeg'] = UTCDateTime("2024-03-09 00:00")
config['tend'] = UTCDateTime("2024-04-09 00:00")

# test
# config['tbeg'] = UTCDateTime("2024-07-01 00:00")
# config['tend'] = UTCDateTime("2024-07-31 00:00")


config['path_to_figs'] = data_path+"sagnac_frequency/figures/"


lxx =__load_lxx(config['tbeg'], config['tend'], archive_path)

lxx_t1, lxx_t2 = __get_lxx_intervals(lxx.datetime)


mltiU = __load_mlti(config['tbeg'], config['tend'], "U", archive_path)


mltiV = __load_mlti(config['tbeg'], config['tend'], "V", archive_path)


mltiZ = __load_mlti(config['tbeg'], config['tend'], "Z", archive_path)


print(mltiU.shape, mltiV.shape, mltiZ.shape)


mltistats = {}

print(" U ...")
mltistats["U"] = __get_mlti_statistics(mltiU, config['tbeg'], config['tend'], intervals=True, plot=False, ylog=False)

print(" V ...")
mltistats["V"] = __get_mlti_statistics(mltiV, config['tbeg'], config['tend'], intervals=True, plot=False, ylog=False)

print(" Z ...")
mltistats["Z"] = __get_mlti_statistics(mltiZ, config['tbeg'], config['tend'], intervals=True, plot=False, ylog=False)


def __makeplot_mlti_statistics(data, ylog=False, sec=False):

    from matplotlib.ticker import (MultipleLocator, AutoMinorLocator)

    tscale = 1/86400

    fig, ax = plt.subplots(1, 2, figsize=(15, 5))

    plt.subplots_adjust(wspace=0.15)

    colors = {"Z":"tab:blue", "U":"tab:green", "V":"tab:red"}

    s_max = []
    for r in data.keys():
        s_max.append(max(data[r]["cumsumsec"]))
    s_max = max(s_max)

    if s_max > 3600:
        sscale, sunit = 1/60, "min"
    elif s_max > 86400:
        sscale, sunit = 1/3600, "hour"
    else:
        sscale, sunit = 1, "s"

    offset = [-0.3, 0, 0.3]
    for _i, r in enumerate(data.keys()):

        n = data[r]["cumsum"][-1].astype(int)

        if sec:
            ax[0].plot(data[r]["tsec"]*tscale, data[r]["cumsumsec"]*sscale, label=f"R{r} (N={n})", color=colors[r], zorder=3)
            ax[0].set_ylim(0, s_max*sscale)
            ax[0].set_ylabel(f"MLTI time ({sunit})", fontsize=12)
        else:
            ax[0].plot(data[r]["tsec"]*tscale, data[r]["cumsump"], label=f"R{r} (N={n})", color=colors[r], zorder=3)
            ax[0].set_ylim(0, 102)
            ax[0].set_ylabel("MLTI Count (%)", fontsize=12)

        imax = round(max(data[r]["intersec"]/3600), 1)
        h, b = np.histogram(data[r]["intersec"]/3600, bins=int(24/1), range=(0, 24))
        bins = b[:-1] + b[1]/2 + offset[_i]
        ax[1].bar(bins, h, width=0.3, color=colors[r], label=f"R{r} (max={imax} hours)")

    if ylog:
        ax[1].set_yscale("log")

    ax[0].set_xlim(0-0.5, max(data[r]["tsec"]*tscale)+0.5)
    ax[1].set_xlim(0-0.2, 24+0.2)

    ax[0].legend(loc=4)
    ax[1].legend(loc=9)

    ax[0].grid(color="grey", ls="--", alpha=0.4)
    ax[1].grid(color="grey", ls="--", alpha=0.4)

    ax[0].set_xlabel(f"Time (days) from {config['tbeg'].date}", fontsize=12)

    ax[1].set_xlabel("Inter-MLTI-Time (hours)", fontsize=12)
    ax[1].set_ylabel("MLTI Count", fontsize=12)

    majors = len(ax[0].get_xticks())
    ax[0].xaxis.set_major_locator(MultipleLocator(5))
    ax[0].xaxis.set_minor_locator(MultipleLocator(1))
    ax[1].xaxis.set_major_locator(MultipleLocator(4))
    ax[1].xaxis.set_minor_locator(MultipleLocator(1))

    for _k, ll in enumerate(['(a)', '(b)']):
        ax[_k].text(.006, .97, ll, ha='left', va='top', transform=ax[_k].transAxes, fontsize=14)

    # add maintenance times
    for lx1, lx2 in zip(lxx_t1, lxx_t2):
        lx1_sec = (lx1-UTCDateTime(config['tbeg']))*tscale
        lx2_sec = (lx2-UTCDateTime(config['tbeg']))*tscale
        ax[0].fill_betweenx([-10000, 10000], lx1_sec, lx2_sec, color="yellow", alpha=0.7)


    plt.show();
    return fig


fig = __makeplot_mlti_statistics(mltistats, ylog=True, sec=False)

fig.savefig(config['path_to_figs']+f"MLTIstats_{config['tbeg'].date}_{config['tend'].date}.png", format="png", dpi=150, bbox_inches='tight')



fig = __makeplot_mlti_statistics(mltistats, ylog=True, sec=True)

fig.savefig(config['path_to_figs']+f"MLTIstats_secs_{config['tbeg'].date}_{config['tend'].date}.png", format="png", dpi=150, bbox_inches='tight')



import seaborn as sns

sns.displot(data=iri, x='sepal length (cm)', hue='target', kind='kde',
            fill=True, palette=sns.color_palette('bright')[:3], height=5, aspect=1.5)



# tdelta = 100

# mltiU_t1, mltiU_t2 = __get_mlti_intervals(mltiU.time_utc, time_delta=tdelta)
# mltiZ_t1, mltiZ_t2 = __get_mlti_intervals(mltiZ.time_utc, time_delta=tdelta)
# mltiV_t1, mltiV_t2 = __get_mlti_intervals(mltiV.time_utc, time_delta=tdelta)



# dt = 60

# durationU = ( mltiU_t2 - mltiU_t1 ) / dt
# durationV = ( mltiV_t2 - mltiV_t1 ) / dt
# durationZ = ( mltiZ_t2 - mltiZ_t1 ) / dt



def __makeplot():

    Nrow, Ncol = 1, 3

    font = 12

    fig, ax = plt.subplots(Nrow, Ncol, figsize=(15, 5), sharex=True)

    plt.subplots_adjust(hspace=0.1)

    nbins = 20
    rmax = 1440

    ax[0].hist(durationU, bins=nbins, range=(0, rmax), log=True, rwidth=0.8, zorder=2)
    ax[1].hist(durationV, bins=nbins, range=(0, rmax), log=True, rwidth=0.8, zorder=2)
    ax[2].hist(durationZ, bins=nbins, range=(0, rmax), log=True, rwidth=0.8, zorder=2)

    ax[0].set_ylabel("Count")

    for i, ring in enumerate(["RU", "RV", "RZ"]):
        ax[i].set_xlabel("Inter-MLTI time (min)")
        ax[i].set_title(ring)
        ax[i].grid(which="both", zorder=0, alpha=0.5)

    plt.show();
    return fig

fig = __makeplot();







