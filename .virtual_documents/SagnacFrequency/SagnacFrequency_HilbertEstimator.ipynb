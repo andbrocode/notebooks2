import os
import obspy as obs
import matplotlib.pyplot as plt
import numpy as np
import allantools

from andbro__querrySeismoData import __querrySeismoData
from andbro__read_sds import __read_sds


if os.uname().nodename == 'lighthouse':
    root_path = '/home/andbro/'
    data_path = '/home/andbro/kilauea-data/'
    archive_path = '/home/andbro/freenas/'
elif os.uname().nodename == 'kilauea':
    root_path = '/home/brotzer/'
    data_path = '/import/kilauea-data/'
    archive_path = '/import/freenas-ffb-01-data/'


## Configurations

config = {}

config['tbeg'] = obs.UTCDateTime("2023-09-19 09:00")
config['tend'] = obs.UTCDateTime("2023-09-19 10:00")

config['seed'] = "BW.ROMY.10.BJZ"

config['repository'] = "archive"

config['output_figures'] = data_path+""

config['net'], config['sta'], config['loc'], config['cha'] = config['seed'].split(".")



# st = __read_sds(archive_path+"romy_archive", "BW.DROMY..FJZ", config['tbeg'], config['tend'])

# for tr in st:
#     tr.data = tr.data*0.59604645e-6 # V / count  [0.59604645ug  from obsidian]
# st


T0 = 10

fs0 = 10

t = np.arange(0, int(T0*fs0)) / fs0

f0 = 2

tr = obs.Trace()
tr.data = np.sin(2*np.pi*f0*t+0.5)+1.5
tr.stats.sampling_rate = fs0
tr.stats.starttime=config['tbeg']

st = obs.Stream(tr)
st


st.plot();


def __instantaneous_frequency(st0, df, f_expected):

    import numpy
    from scipy.signal import hilbert

    ## prepare data
    # st0 = st0.detrend("demean")
    # st0 = st0.taper(0.01)
    # st0 = st0.filter("bandpass", freqmin=f_expected-50, freqmax=f_expected+50, corners=8, zerophase=True)

    # estimate instantaneous frequency
    analytic_signal = hilbert(st[0].data)
    amplitude_envelope = np.abs(analytic_signal)
    instantaneous_phase = np.unwrap(np.angle(analytic_signal))
    instantaneous_frequency = (np.diff(instantaneous_phase) / (2.0*np.pi) * df)

#     x = st[0].data
#     H = np.imag(hilbert(x))
#     # dH = diff(H, prepend=H[0])
#     # dx = diff(x, prepend=x[0])
#     dH = np.gradient(H)
#     dx = np.gradient(x)

#     instantaneous_frequency = ( dH * x - dx * H ) / (2 * np.pi * np.sqrt( x**2 + H**2 ) )



#     ## cut first and last 5% (corrupted)
#     dd = int(0.1*len(instantaneous_frequency))
#     insta_f_cut = instantaneous_frequency[dd:-dd]

#     ## time
#     t = st0[0].times()
#     t_mid = t[int((len(t))/2)]

#     ## average
#     # insta_f_cut_mean = nanmean(insta_f_cut)
#     insta_f_cut_mean = np.nanmean(insta_f_cut)

    # return t, insta_f_cut_mean

    return instantaneous_frequency


def __get_time_intervals(tbeg, tend, interval_seconds, interval_overlap):

    from obspy import UTCDateTime

    tbeg, tend = UTCDateTime(tbeg), UTCDateTime(tend)

    times = []
    t1, t2 = tbeg, tbeg + interval_seconds
    while t2 <= tend:
        times.append((t1, t2))
        t1 = t1 + interval_seconds - interval_overlap
        t2 = t2 + interval_seconds - interval_overlap

    return times


# interval_seconds = 10
# interval_overlap = 0

# t = np.arange(0, int(config['tend'] - config['tbeg']), interval_seconds)

# times = __get_time_intervals(config['tbeg'], config['tend'], interval_seconds, interval_overlap)


from scipy.signal import hilbert

analytic_signal = hilbert(st[0].data)
amplitude_envelope = np.abs(analytic_signal)
instantaneous_phase = np.unwrap(np.angle(analytic_signal))
instantaneous_frequency = (np.diff(instantaneous_phase) /  (2.0*np.pi) * fs)

plt.plot(st[0].data)
plt.plot(instantaneous_frequency)


f_insta = []

for t1, t2 in times:

    try:
        _st = st.copy().trim(t1, t2, nearest_sample=False)

        _f = __instantaneous_frequency(_st, _st[0].stats.sampling_rate, 553.5)

    except:
        continue

    f_insta.append(_f)

plt.plot(f_insta)


import numpy as np

import matplotlib.pyplot as plt

from scipy.signal import hilbert, chirp


duration = 10.0

fs = 10.0

f0 = 2.0

samples = int(fs*duration)

t = np.arange(samples) / fs


# signal = chirp(t, 20.0, t[-1], 100.0)

signal = np.sin(2*np.pi*t*f0+0.1)

# signal *= (1.0 + 0.5 * np.sin(2.0*np.pi*3.0*t) )


def __hilbert(signal, fs):

    analytic_signal = hilbert(signal)

    amplitude_envelope = np.abs(analytic_signal)

    instantaneous_phase = np.unwrap(np.angle(analytic_signal))

    instantaneous_frequency = (np.diff(instantaneous_phase) /  (2.0*np.pi) * fs)

    return instantaneous_frequency


instantaneous_frequency = __hilbert(signal, fs)


instantaneous_frequency = __hilbert(st[0].data, f00)


fig, (ax0, ax1) = plt.subplots(nrows=2)

ax0.plot(t, signal, label='signal')

ax0.plot(t, amplitude_envelope, label='envelope')

ax0.set_xlabel("time in seconds")

ax0.legend()

ax1.plot(t[1:], instantaneous_frequency)

ax1.set_xlabel("time in seconds")

ax1.set_ylim(0.0, 120.0)

fig.tight_layout()

np.nanmean(instantaneous_frequency), np.mean(instantaneous_frequency)


def __instantaneous_frequency(arr, df):

    import numpy
    from scipy.signal import hilbert

    ## prepare data
    # st0 = st0.detrend("demean")
    # st0 = st0.taper(0.01)
    # st0 = st0.filter("bandpass", freqmin=f_expected-50, freqmax=f_expected+50, corners=8, zerophase=True)

    # estimate instantaneous frequency
    analytic_signal = hilbert(arr)
    amplitude_envelope = np.abs(analytic_signal)
    instantaneous_phase = np.unwrap(np.angle(analytic_signal))
    instantaneous_frequency = (np.diff(instantaneous_phase) / (2.0*np.pi) * df)

#     x = st[0].data
#     H = np.imag(hilbert(x))
#     # dH = diff(H, prepend=H[0])
#     # dx = diff(x, prepend=x[0])
#     dH = np.gradient(H)
#     dx = np.gradient(x)

#     instantaneous_frequency = ( dH * x - dx * H ) / (2 * np.pi * np.sqrt( x**2 + H**2 ) )



#     ## cut first and last 5% (corrupted)
#     dd = int(0.1*len(instantaneous_frequency))
#     insta_f_cut = instantaneous_frequency[dd:-dd]

#     ## time
#     t = st0[0].times()
#     t_mid = t[int((len(t))/2)]

#     ## average
#     # insta_f_cut_mean = nanmean(insta_f_cut)
#     insta_f_cut_mean = np.nanmean(insta_f_cut)

    # return t, insta_f_cut_mean

    return instantaneous_frequency


__instantaneous_frequency(st[0].data, fs0)


plt.plot(st[0].data)



