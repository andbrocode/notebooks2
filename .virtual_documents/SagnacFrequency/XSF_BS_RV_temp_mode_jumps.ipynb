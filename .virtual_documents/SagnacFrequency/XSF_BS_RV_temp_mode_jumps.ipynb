import os
import gc
import matplotlib.pyplot as plt
import numpy as np

from pandas import read_pickle
from obspy import UTCDateTime, Trace, Stream, read

from functions.smoothing import __smooth



if os.uname().nodename == 'lighthouse':
    root_path = '/home/andbro/'
    data_path = '/home/andbro/kilauea-data/'
    archive_path = '/home/andbro/freenas/'
    bay_path = '/home/andbro/bay200/'
elif os.uname().nodename == 'kilauea':
    root_path = '/home/brotzer/'
    data_path = '/import/kilauea-data/'
    archive_path = '/import/freenas-ffb-01-data/'
    bay_path = '/bay200/'
elif os.uname().nodename == 'lin-ffb-01':
    root_path = '/home/brotzer/'
    data_path = '/import/kilauea-data/'
    archive_path = '/import/freenas-ffb-01-data/'
    bay_path = '/bay200/'


config = {}

# specify ring
config['ring'] = "V"

# specify path to data
config['path_to_data'] = data_path+"manuscripts/manuscript_romy_drifts/data/"

# specify path to figures
config['path_to_figs'] = data_path+"manuscripts/manuscript_romy_drifts/figures/"

# time offset before and after
config['dt'] = 3600

# ____________________________________________________________
# example 1
# config['name'] = 1

# t1, t2 = UTCDateTime("2024-06-03 16:42:54"), UTCDateTime("2024-06-04 06:45:00")

# flower, fhigher = -1, 2

# alpha = 15e-6 # m/m/°C

# ____________________________________________________________
# example 2
config['name'] = 2

t1, t2 = UTCDateTime("2024-07-02 07:25:00"), UTCDateTime("2024-07-02 18:30:00")

flower, fhigher = -3, 1

alpha = 10e-6 # m/m/°C



bs = read_pickle(config['path_to_data']+f"bs_rv_mode_jumps{config['name']}.pkl")

bs['time_sec'] = bs.time2 - bs.time1 + (bs.time1 - bs.time1.loc[0])



ps = read(config['path_to_data']+f"temp_rv_mode_jumps{config['name']}.mseed")

_ps1 = ps.select(location="01")
_ps7 = ps.select(location="07")
_ps9 = ps.select(location="09")

for _ps in [_ps1, _ps7, _ps9]:
    _ps.detrend("demean")
    _ps.decimate(10, no_filter=False)
    _ps.decimate(6, no_filter=False)



from functions.sagnac_to_tilt import __sagnac_to_tilt

dff = np.array(bs.fj_fs_inter)

rx = Trace()
rx.data = dff
rx.stats.delta = 60
rx.stats.starttime = bs.time1.iloc[0]
rx.stats.station = "ROMY"
rx.stats.channel = f"FJ{config['ring']}"
rx.stats.network = "BW"

rx = Stream(rx)

rx.plot();


# from functions.read_sds import __read_sds

# _ps1 = __read_sds(archive_path+"temp_archive/", "BW.PROMY.01.LKI", t1-config['dt'], t2+config['dt'])
# _ps7 = __read_sds(archive_path+"temp_archive/", "BW.PROMY.07.LKI", t1-config['dt'], t2+config['dt'])
# _ps9 = __read_sds(archive_path+"temp_archive/", "BW.PROMY.09.LKI", t1-config['dt'], t2+config['dt'])

# ps = Stream()
# ps += _ps1
# ps += _ps7
# ps += _ps9

# opath = data_path+"manuscripts/manuscript_romy_drifts/data/"
# ps.write(opath+f"temp_rv_mode_jumps{config['name']}.mseed", "MSEED")


def __get_diff(arr):
    return round(arr[~np.isnan(arr)][-1] - arr[~np.isnan(arr)][0], 5)


# selected interval and surrounding
_rx0 = rx.copy()
rx0 = _rx0.trim(t1-config['dt'], t2+config['dt'])[0].data
trx0 = _rx0[0].times(reftime=t1)

_ps01 = _ps1.copy()
ps01 = _ps01[0].data
tps01 = _ps01[0].times(reftime=t1)

_ps07 = _ps7.copy()
ps07 = _ps07[0].data
tps07 = _ps07[0].times(reftime=t1)

_ps09 = _ps9.copy()
ps09 = _ps09[0].data
tps09 = _ps09[0].times(reftime=t1)

# selected interval
_rx1 = rx.copy()
rx1 = _rx1.trim(t1, t2)[0].data
trx1 = _rx1[0].times(reftime=t1)


_ps11 = _ps1.copy()
ps11 = _ps11.trim(t1, t2)[0].data
tps11 = _ps11[0].times(reftime=t1)

_ps17 = _ps7.copy()
ps17 = _ps17.trim(t1, t2)[0].data
tps17 = _ps17[0].times(reftime=t1)

_ps19 = _ps9.copy()
ps19 = _ps19.trim(t1, t2)[0].data
tps19 = _ps19[0].times(reftime=t1)

rn = 100
_reduce = np.nanmean(ps11[:rn])
ps11 -= _reduce
ps01 -= _reduce
_reduce = np.nanmean(ps17[:rn])
ps17 -= _reduce
ps07 -= _reduce
_reduce = np.nanmean(ps19[:rn])
ps19 -= _reduce
ps09 -= _reduce

rn = 10
_reduce = np.nanmean(rx1[:rn])
rx1 -= _reduce
rx0 -= _reduce

ps11_smooth = __smooth(ps01, 120)
ps17_smooth = __smooth(ps07, 120)
ps19_smooth = __smooth(ps09, 120)

rx1_smooth = __smooth(rx1, 180)
rx11_smooth = __smooth(rx0, 180)

ps_all = (ps01+ps07+ps09)
ps_all_smooth = __smooth(ps_all, 120)

print("ps11: ", __get_diff(ps11_smooth))
print("ps17: ", __get_diff(ps17_smooth))
print("ps19: ", __get_diff(ps19_smooth))


_ps_diff = np.nanmean(ps11[-10:]) - np.nanmean(ps11[:10])
print(_ps_diff)

_rx_diff = np.nanmean(rx1[-10:]) - np.nanmean(rx1[:10])
print(_rx_diff)


def __makeplot():

    Nrow, Ncol = 5, 1

    font = 12

    fig, ax = plt.subplots(Nrow, Ncol, figsize=(15, 10), sharex=True)

    plt.subplots_adjust(hspace=0.1)

    tscale, tunit = 1/3600, "hours"
    Tscale, Tunit = 1e3, "m°C"
    fscale, funit = 1e3, "mHz"

    ascale, aunit = 1e6, "$\mu\epsilon$/°C"
    escale, eunit = 1e9, "m/m"

    ps11_diff = round(__get_diff(ps11_smooth*alpha), 1)
    ps17_diff = round(__get_diff(ps17_smooth*alpha), 1)
    ps19_diff = round(__get_diff(ps19_smooth*alpha), 1)

    ax[0].plot(trx0*tscale, rx0*fscale, color="black", label="RV")
    ax[0].plot(trx1*tscale, rx1*fscale, color="tab:blue")
    # ax[0].plot(trx1*tscale, rx1_smooth*fscale, color="darkblue")
    ax[0].ticklabel_format(useOffset=False)

    ax[1].plot(tps01*tscale, ps01*Tscale, color="black", zorder=2)
    ax[1].plot(tps11*tscale, ps11*Tscale, color="tab:green", label="PS1", zorder=2)
    ax[1].plot(tps01*tscale, ps11_smooth*Tscale, color="darkgreen", zorder=2)

    ax111 = ax[1].twinx()
    ax111.plot(tps01*tscale, ps01*alpha*escale, color="tab:purple", zorder=0, alpha=0, label=f"PS1 ($\Delta\epsilon$ = {ps11_diff}nm)")

    ax[2].plot(tps07*tscale, ps07*Tscale, color="black", zorder=2)
    ax[2].plot(tps17*tscale, ps17*Tscale, color="tab:orange", label="PS7", zorder=2)
    ax[2].plot(tps07*tscale, ps17_smooth*Tscale, color="darkorange", zorder=2)

    ax222 = ax[2].twinx()
    ax222.plot(tps07*tscale, ps07*alpha*escale, color="tab:purple", zorder=0, alpha=0, label=f"PS7 ($\Delta\epsilon$ = {ps17_diff}nm)")

    ax[3].plot(tps09*tscale, ps09*Tscale, color="black", zorder=2)
    ax[3].plot(tps19*tscale, ps19*Tscale, color="tab:red", label="PS9", zorder=2)
    ax[3].plot(tps09*tscale, ps19_smooth*Tscale, color="darkred", zorder=2)

    ax333 = ax[3].twinx()
    ax333.plot(tps09*tscale, ps09*alpha*escale, color="tab:purple", zorder=0, alpha=0, label=f"PS9 ($\Delta\epsilon$ = {ps19_diff}nm)")

    ax[4].plot(tps09*tscale, ps_all*Tscale, color="black", label="PS1 + PS7 + Ps9", zorder=2)
    # ax[4].plot(tps09*tscale, ps_all*Tscale, color="black", zorder=2)

    ax444 = ax[4].twinx()
    ax444.plot(tps09*tscale, ps_all*alpha*escale, color="tab:purple", zorder=0, alpha=0, label=f"PS9 ($\Delta\epsilon$ = {ps19_diff}nm)")
    ax444.plot(tps09*tscale, ps_all_smooth*alpha*escale, color="black", zorder=0, label=f"PS9 ($\Delta\epsilon$ = {ps19_diff}nm)")


    ax[0].set_ylabel(f"$\Delta$f ({funit})", fontsize=font)
    ax[1].set_ylabel(f"T ({Tunit})", fontsize=font)
    ax[2].set_ylabel(f"T ({Tunit})", fontsize=font)
    ax[3].set_ylabel(f"T ({Tunit})", fontsize=font)
    ax[4].set_ylabel(f"T ({Tunit})", fontsize=font)
    ax[4].set_xlabel(f"Time ({tunit})", fontsize=font)

    ax111.set_ylabel(f"n$\epsilon$ ({eunit})", fontsize=font)
    ax222.set_ylabel(f"n$\epsilon$ ({eunit})", fontsize=font)
    ax333.set_ylabel(f"n$\epsilon$ ({eunit})", fontsize=font)
    ax444.set_ylabel(f"n$\epsilon$ ({eunit})", fontsize=font)

    ax[0].set_ylim(flower, fhigher)

    for f in range(1, 4):
        for a, e in zip([ax111, ax222, ax333, ax444], [ps01, ps07, ps09, ps_all]):
            if max(e*alpha*escale) > f*633:
                a.axhline(f*633, color="grey", ls="--", label="633 nm")
            if min(e*alpha*escale) < -f*633:
                a.axhline(-f*633, color="grey", ls="--", label="633 nm")

    for _n in range(Nrow):
        # ax[_n].grid(ls=":", zorder=0)
        ax[_n].legend(loc=1)

    for _k, ll in enumerate(['(a)', '(b)', '(c)', '(d)', '(e)']):
        ax[_k].text(.005, .97, ll, ha='left', va='top', transform=ax[_k].transAxes, fontsize=font+2)

    t_str = f"{t1.date} {str(t1.time).split('.')[0]} - {str(t2.time).split('.')[0]} UTC"
    aa = r"$\alpha$"
    ax[0].set_title(f"{t_str}  |  {aa} = {alpha*ascale} {aunit}")

    plt.show();
    return fig

fig = __makeplot();

fig.savefig(config['path_to_figs']+f"SF_BS_R{config['ring']}_temperature_trend_{config['name']}.png",
            format="png", dpi=150, bbox_inches='tight')







