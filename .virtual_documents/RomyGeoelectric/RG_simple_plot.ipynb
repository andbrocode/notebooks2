import os
import gc
import matplotlib.pyplot as plt
import numpy as np

from pandas import read_csv


if os.uname().nodename == 'lighthouse':
    root_path = '/home/andbro/'
    data_path = '/home/andbro/kilauea-data/'
    archive_path = '/home/andbro/freenas/'
    bay_path = '/home/andbro/bay200/'
elif os.uname().nodename == 'kilauea':
    root_path = '/home/brotzer/'
    data_path = '/import/kilauea-data/'
    archive_path = '/import/freenas-ffb-01-data/'
    bay_path = '/bay200/'
elif os.uname().nodename in ['lin-ffb-01', 'ambrym', 'hochfelln']:
    root_path = '/home/brotzer/'
    data_path = '/import/kilauea-data/'
    archive_path = '/import/freenas-ffb-01-data/'
    bay_path = '/bay200/'


config = {}

config['dates'] = ["20240701", "20240705", "20240708"]

config['path_to_data'] = data_path+"ROMY_geoelectric/data/"

config['path_to_figs'] = data_path+"ROMY_geoelectric/figures/"



header = ["channel", "spacing_m", "layer", "R_ohmm", "I_mA", "U_muV", "XX"]

dfs = []
for date in config['dates']:

    df0 = read_csv(config['path_to_data']+f"ROMY_{date}.csv", names=header)

    dfs.append(df0)



def __get_image(df0, value="SD"):
    max_layer = int(df0.layer.max())
    min_channel = int(df0.channel.min())
    max_channel = int(df0.channel.max())

    # image dummy
    img = np.ones((max_layer, max_channel))*np.nan

    # offset of layers to form triangle
    off = 0

    # loop over layers and channels
    for l in range(1, max_layer+1):
        for c in range(1, max_channel+1-off):
            _df = df0[(df0.layer == l) & (df0.channel == c)]
            if _df.empty:
                img[l-1, c-1+off] = np.nan
            elif float(_df.XX) == -1:
                img[l-1, c-1+off] = np.nan
            else:
                # img[l-1, c-1] = _df.SD
                img[l-1, c-1+off] = _df[value]
        off += 2

    return img[:, min_channel-1:max_channel]


imgs = []

for _df0 in dfs:
    imgs.append(__get_image(_df0, value="R_ohmm"))


vmax = np.percentile(df0["R_ohmm"], 95)
vmax


def __makeplot(imgs):

    from matplotlib.colors import LogNorm

    Nrow, Ncol = len(imgs), 1

    font = 12

    fig, ax = plt.subplots(Nrow, Ncol, figsize=(15, 8), sharex=True)

    plt.subplots_adjust(hspace=0.1)

    vmax = 550

    for j, im in enumerate(imgs):
        _im = ax[j].imshow(im, cmap="viridis", vmax=vmax)

        cb = plt.colorbar(_im)
        cb.set_label("R (Ohmm)", fontsize=font, labelpad=-50, color="k")


        ax[j].text(.02, .17, config['dates'][j], ha='left', va='top', transform=ax[j].transAxes, fontsize=font)


    plt.show();
    return fig

fig = __makeplot(imgs);

fig.savefig(config['path_to_figs']+f"RG_absolute.png", format="png", dpi=150, bbox_inches='tight')



def __makeplot(imgs):

    from matplotlib.colors import LogNorm

    Nrow, Ncol = len(imgs), 1

    font = 12

    fig, ax = plt.subplots(Nrow, Ncol, figsize=(15, 8), sharex=True)

    plt.subplots_adjust(hspace=0.1)

    vmax = 550

    for j, im in enumerate(imgs):
        if j == 0:
            im0 = im
            _im = ax[j].imshow(im, cmap="viridis", vmax=vmax)

            cb = plt.colorbar(_im)
            cb.set_label("R (Ohmm)", fontsize=font, labelpad=-50, color="k")

        else:
            _im = ax[j].imshow(im0-im, cmap="RdBu_r", vmin=-150, vmax=150)
            # _im = ax[j].imshow(im0-im, cmap="RdBu_r", norm=LogNorm(vmin=10, vmax=50))

            cb = plt.colorbar(_im, extend="both")
            cb.set_label("$\Delta$R (Ohmm)", fontsize=font, labelpad=-60, color="k")

        ax[j].text(.02, .17, config['dates'][j], ha='left', va='top', transform=ax[j].transAxes, fontsize=font)


    plt.show();
    return fig

fig = __makeplot(imgs);

fig.savefig(config['path_to_figs']+f"RG_change.png", format="png", dpi=150, bbox_inches='tight')















date = config['dates'][1]

header = ["channel", "spacing_m", "layer", "R_ohmm", "I_mA", "U_muV", "XX"]

df0 = read_csv(config['path_to_data']+f"ROMY_{date}_new.csv", names=header)

df0


max_layer = int(df0.layer.max())
min_channel = int(df0.channel.min())
max_channel = int(df0.channel.max())

img = np.ones((max_layer, max_channel))*np.nan


value = "SD"

off = 0
for l in range(1, max_layer+1):
    for c in range(1, max_channel+1-off):
        _df = df0[(df0.layer == l) & (df0.channel == c)]
        if _df.empty:
            img[l-1, c-1+off] = np.nan
        else:
            # img[l-1, c-1] = _df.SD
            img[l-1, c-1+off] = _df[value]
    off += 0


vmax = np.percentile(df0[value], 95)

plt.imshow(img, cmap="viridis", vmax=vmax)



