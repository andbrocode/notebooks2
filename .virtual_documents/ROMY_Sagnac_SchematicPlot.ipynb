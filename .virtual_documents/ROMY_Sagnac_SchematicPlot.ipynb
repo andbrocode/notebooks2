import os, sys 
import numpy as np
import matplotlib.pyplot as plt


N = 550
dt = 0.05

f1 = 1.0
f2 = 1.2


t = np.arange(0, N*dt+dt, dt)

sig1 = np.cos(2*np.pi*t*f1)
sig2 = np.cos(2*np.pi*t*f2)

beat = 2*np.cos(np.pi*(f1+f2)*t)+np.cos(np.pi*(f1-f2)*t)
beat = 2*np.cos(np.pi*(f1-f2)*t)


fig, ax = plt.subplots(1,1, figsize=(15,4))

fs = 20

ll = 9

ax.plot(t, sig1+0, label="beam 1")
ax.plot(t, sig2+4, label="beam 2")

ax.plot(t, sig1+sig2+8, '--', color='darkred', label="inteference")
ax.plot(t, beat+8, color='darkred', label="beat note")

# for i in range(3):
#     ax.axhline(i*4, color='grey', ls=':', zorder=-1)
    
ax.set_yticks([0,4,8])
ax.set_yticklabels([])

ax.set_xlabel('Time', fontsize=fs)

# ax.legend(fontsize=fs-1)

fig.legend( loc='upper center', fontsize=fs, ncol=4, edgecolor='black', bbox_to_anchor=(0.5, 1.05))




