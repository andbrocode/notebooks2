import os
import obspy as obs


from andbro__querrySeismoData import __querrySeismoData
from andbro__load_FURT_stream import __load_furt_stream


if os.uname().nodename == 'lighthouse':
    root_path = '/home/andbro/'
    data_path = '/home/andbro/kilauea-data/'
    archive_path = '/home/andbro/freenas/'
elif os.uname().nodename == 'kilauea':
    root_path = '/home/brotzer/'
    data_path = '/import/kilauea-data/'
    archive_path = '/import/freenas-ffb-01-data/'


__load_furt_stream(config)


# from obspy.clients.fdsn import Client

# client = Client("LMU")

# client.get_stations(t1, t2, network="BW", station="FURT")


config = {}

config['tbeg'] = obs.UTCDateTime("2023-07-11 00:00")
config['tend'] = obs.UTCDateTime("2023-07-11 01:00")

config['seed_romy'] = "BW.ROMY.10.BJZ"

config['path_to_archive'] = archive_path+"romy_archive"

furt = __load_furt_stream(config)


st, inv = __querrySeismoData(
                            seed_id="BW.ROMY.10.BJZ",
                            starttime=t1,
                            endtime=t2,
                            repository="george",
                            path=None,
                            restitute=True,
                            detail=None,
                            fill_value=None,
)


from andbro__read_sds import __read_sds


st = __read_sds(config['path_to_archive'], config['seed_romy'], config['tbeg'], config['tend'], data_format='MSEED')


st.plot()






