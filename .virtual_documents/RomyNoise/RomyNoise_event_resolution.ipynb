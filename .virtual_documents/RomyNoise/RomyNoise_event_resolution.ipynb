import os
import gc
import obspy as obs
import matplotlib.pyplot as plt
import numpy as np
import pandas as pd

from functions.get_fband_average import __get_fband_average



if os.uname().nodename == 'lighthouse':
    root_path = '/home/andbro/'
    data_path = '/home/andbro/kilauea-data/'
    archive_path = '/home/andbro/freenas/'
    bay_path = '/home/andbro/bay200/'
elif os.uname().nodename == 'kilauea':
    root_path = '/home/brotzer/'
    data_path = '/import/kilauea-data/'
    archive_path = '/import/freenas-ffb-01-data/'
    bay_path = '/bay200/'
elif os.uname().nodename == 'lin-ffb-01':
    root_path = '/home/brotzer/'
    data_path = '/import/kilauea-data/'
    archive_path = '/import/freenas-ffb-01-data/'
    bay_path = '/bay200/'


def compute_rms_amplitude(psd, frequencies):

    from numpy import sqrt, pi

    rms_amplitude = sqrt(psd/(2*pi*frequencies))
    rms_frequencies = frequencies

    return rms_frequencies, rms_amplitude


config = {}

config['path_to_models'] = data_path+f"LNM2/PSDS/"

config['path_to_figs'] = data_path+f"romy_noise/figures/"


df_models = pd.read_csv(data_path+"LNM/data/FINAL/"+"TLNM_to_RLNM.csv")


rlnm_rms_f, rlnm_rms = compute_rms_amplitude(df_models.nlnm_rot_rate[::-1], df_models.frequencies[::-1])


date_str = "2024-01-01_2024-03-31"

romy_z = pd.read_pickle(data_path+f"LNM2/data/PSD_statistics_ROMY_BJZ_{date_str}.pkl")
romy_n = pd.read_pickle(data_path+f"LNM2/data/PSD_statistics_ROMY_BJN_{date_str}.pkl")
romy_e = pd.read_pickle(data_path+f"LNM2/data/PSD_statistics_ROMY_BJE_{date_str}.pkl")

romy_u = pd.read_pickle(data_path+f"LNM2/data/PSD_statistics_ROMY_BJU_{date_str}.pkl")
romy_v = pd.read_pickle(data_path+f"LNM2/data/PSD_statistics_ROMY_BJV_{date_str}.pkl")

rlas_z = pd.read_pickle(data_path+f"LNM2/data/PSD_statistics_RLAS_BJZ_{date_str}.pkl")



out = __get_fband_average(np.array(romy_z.frequencies), np.array(romy_z.psds_median), faction_of_octave=6, average="mean")
romy_z_rms_f, romy_z_rms = compute_rms_amplitude(out['psd_means'], out['fcenter'])

out = __get_fband_average(np.array(rlas_z.frequencies), np.array(rlas_z.psds_median), faction_of_octave=6, average="mean")
rlas_z_rms_f, rlas_z_rms = compute_rms_amplitude(out['psd_means'], out['fcenter'])



path_to_data = "./data/"

mag15_20 = pd.read_csv(path_to_data+"Mag15_20km.txt", delimiter="\t", names=["freq", "acc", "rot"])
mag25_20 = pd.read_csv(path_to_data+"Mag25_20km.txt", delimiter="\t", names=["freq", "acc", "rot"])
mag45_20 = pd.read_csv(path_to_data+"Mag45_20km.txt", delimiter="\t", names=["freq", "acc", "rot"])
mag55_20 = pd.read_csv(path_to_data+"Mag55_20km.txt", delimiter="\t", names=["freq", "acc", "rot"])
mag65_20 = pd.read_csv(path_to_data+"Mag65_20km.txt", delimiter="\t", names=["freq", "acc", "rot"])
mag75_20 = pd.read_csv(path_to_data+"Mag75_20km.txt", delimiter="\t", names=["freq", "acc", "rot"])

mag55_200 = pd.read_csv(path_to_data+"Mag55_200km.txt", delimiter="\t", names=["freq", "acc", "rot"])

mag60_2000 = pd.read_csv(path_to_data+"Mag60_2000km.txt", delimiter="\t", names=["freq", "acc", "rot"])
mag70_2000 = pd.read_csv(path_to_data+"Mag70_2000km.txt", delimiter="\t", names=["freq", "acc", "rot"])
mag80_2000 = pd.read_csv(path_to_data+"Mag80_2000km.txt", delimiter="\t", names=["freq", "acc", "rot"])

events = [mag15_20, mag25_20, mag45_20, mag55_20, mag65_20, mag75_20, mag55_200, mag60_2000, mag70_2000, mag80_2000]

names = ["mag15_20", "mag25_20", "mag45_20", "mag55_20", "mag65_20", "mag75_20", "mag55_200", "mag60_2000", "mag70_2000", "mag80_2000"]
labels = [f"M{n[3]}.{n[4]} ({n[6:]}km)" for n in names]

coo = [(4.5e0, 3e-8, 55),
       (2.5e0, 8.5e-8, 51),
       (4.1e0, 2e-5, 43),
       (4e-1, 2.2e-7, 55),
       (4e-1, 1.2e-5, 50),
       (6e-1, 5e-4, 31),
       (6e-1, 1.8e-7, 40),
       (2.5e-1, 5e-10, 28),
       (3.5e-2, 2.5e-11, 60),
       (2e-2, 3e-11, 53),
      ]



def __makeplot():

    Nrow, Ncol = 1, 1

    font = 12

    fig, ax = plt.subplots(Nrow, Ncol, figsize=(12, 10))

    # ax.plot(df_models.frequencies, df_models.nlnm_rot_rate, ls="--", color="black")

    # ax.plot(romy_z.frequencies, romy_z.psds_median, ls="-", color="tab:blue", label="ROMY-Z")
    # ax.plot(romy_u.frequencies, romy_u.psds_median, ls="-", color="tab:orange", label="ROMY-U")
    # ax.plot(romy_v.frequencies, romy_v.psds_median, ls="-", color="tab:red", label="ROMY-V")
    # ax.plot(rlas_z.frequencies, rlas_z.psds_median, ls="-", color="tab:green", label="RLAS-Z")

    for i, (ev, ll, co) in enumerate(zip(events, labels, coo)):

        if "2000" in ll:
            ax.plot(ev.freq, ev.rot, color="black", ls="-.")
        else:
            ax.plot(ev.freq, ev.rot, color="black", ls="--")

        ax.text(co[0], co[1], ll, rotation=co[2])

    ax.plot(romy_z_rms_f, romy_z_rms, color="tab:blue", label="ROMY-Z (rms)")
    ax.plot(rlas_z_rms_f, rlas_z_rms, color="tab:red", label="RLAS-Z (rms)")

    ax.plot(rlnm_rms_f, rlnm_rms, color="black", ls=":", label="RLNM")


    ax.set_xlabel("Frequency (Hz)", fontsize=font)
    ax.set_ylabel("Amplitude (rad/s)", fontsize=font)

    ax.set_xscale("log")
    ax.set_yscale("log")
    ax.set_xlim(1e-3, 2e1)
    ax.set_ylim(1e-13, 1e-2)
    ax.legend(loc=2, ncol=1)
    ax.grid(which="both", axis="both", ls=":", zorder=0)

    plt.show();
    return fig

fig = __makeplot();

fig.savefig(config['path_to_figs']+f"RomyNoise_EventResolution.png", format="png", dpi=150, bbox_inches='tight')






def __makeplot():

    Nrow, Ncol = 1, 1

    font = 12

    fig, ax = plt.subplots(Nrow, Ncol, figsize=(12, 5))

    ax.plot(df_models.frequencies, df_models.nlnm_rot_rate, ls="--", color="black")

    ax.plot(romy_z.frequencies, romy_z.psds_median, ls="-", color="tab:blue", label="ROMY-Z")
    # ax.fill_between(romy_z.frequencies, romy_z.perc_low, romy_z.perc_high, color="tab:blue", alpha=0.3)

    ax.plot(romy_u.frequencies, romy_u.psds_median, ls="-", color="tab:orange", label="ROMY-U")
    # ax.fill_between(romy_u.frequencies, romy_u.perc_low, romy_u.perc_high, color="tab:orange", alpha=0.3)

    ax.plot(romy_v.frequencies, romy_v.psds_median, ls="-", color="tab:red", label="ROMY-V")
    # ax.fill_between(romy_v.frequencies, romy_v.perc_low, romy_v.perc_high, color="tab:red", alpha=0.3)

    ax.plot(rlas_z.frequencies, rlas_z.psds_median, ls="-", color="tab:green", label="RLAS-Z")

    ax.set_xlabel("Frequency (Hz)", fontsize=font)
    ax.set_ylabel("PSD (rad$^2$/s$^2$/Hz)", fontsize=font)

    ax.grid(which="both", ls=":", zorder=0)
    ax.legend(loc=1, ncol=4)
    ax.set_xscale("log")
    ax.set_yscale("log")
    ax.set_xlim(1e-3, 2e0)

    plt.show();
    return fig

fig = __makeplot();

fig.savefig(config['path_to_figs']+f"RomyNoise_ZUV_median.png", format="png", dpi=150, bbox_inches='tight')






def __makeplot():

    Nrow, Ncol = 1, 1

    font = 12

    fig, ax = plt.subplots(Nrow, Ncol, figsize=(12, 5))

    ax.plot(df_models.frequencies, df_models.nlnm_rot_rate, ls="--", color="black")

    ax.plot(romy_z.frequencies, romy_z.perc_low, ls="-", color="tab:blue", label="ROMY-Z (2.5th)")
    # ax.fill_between(romy_z.frequencies, romy_z.perc_low, romy_z.perc_high, color="tab:blue", alpha=0.3)

    ax.plot(romy_u.frequencies, romy_u.perc_low, ls="-", color="tab:orange", label="ROMY-U (2.5th)")
    # ax.fill_between(romy_u.frequencies, romy_u.perc_low, romy_u.perc_high, color="tab:orange", alpha=0.3)

    ax.plot(romy_v.frequencies, romy_v.perc_low, ls="-", color="tab:red", label="ROMY-V  (2.5th)")
    # ax.fill_between(romy_v.frequencies, romy_v.perc_low, romy_v.perc_high, color="tab:red", alpha=0.3)

    ax.plot(rlas_z.frequencies, rlas_z.perc_low, ls="-", color="tab:green", label="RLAS-Z (2.5th)")

    ax.set_xlabel("Frequency (Hz)", fontsize=font)
    ax.set_ylabel("PSD (rad$^2$/s$^2$/Hz)", fontsize=font)

    ax.grid(which="both", ls=":", zorder=0)
    ax.legend(loc=1, ncol=4)
    ax.set_xscale("log")
    ax.set_yscale("log")
    ax.set_xlim(1e-3, 2e0)

    plt.show();
    return fig

fig = __makeplot();

fig.savefig(config['path_to_figs']+f"RomyNoise_ZUV_percentile.png", format="png", dpi=150, bbox_inches='tight')



def __makeplot():

    Nrow, Ncol = 2, 2

    font = 12

    fig, ax = plt.subplots(Nrow, Ncol, figsize=(15, 8))


    ax[0, 0].plot(romy_z.frequencies, romy_z.psds_median, ls="-", color="tab:blue", label="ROMY-Z")
    ax[0, 0].fill_between(romy_z.frequencies, romy_z.perc_low, romy_z.perc_high, color="tab:blue", alpha=0.3)

    ax[0, 1].plot(romy_u.frequencies, romy_u.psds_median, ls="-", color="tab:orange", label="ROMY-U")
    ax[0, 1].fill_between(romy_u.frequencies, romy_u.perc_low, romy_u.perc_high, color="tab:orange", alpha=0.3)

    ax[1, 0].plot(romy_v.frequencies, romy_v.psds_median, ls="-", color="tab:red", label="ROMY-V")
    ax[1, 0].fill_between(romy_v.frequencies, romy_v.perc_low, romy_v.perc_high, color="tab:red", alpha=0.3)


    for i in range(Nrow):
        for j in range(Ncol):
            ax[i, j].plot(df_models.frequencies, df_models.nlnm_rot_rate, ls="--", color="black")

            ax[i, j].grid(which="both", ls=":", zorder=0)
            ax[i, j].legend(loc=1)
            ax[i, j].set_xscale("log")
            ax[i, j].set_yscale("log")
            ax[i, j].set_xlim(1e-3, 2e0)

            ax[i, j].set_xlabel("Frequency (Hz)", fontsize=font)
            ax[i, j].set_ylabel("PSD (rad$^2$/s$^2$/Hz)", fontsize=font)

    ax[0, 0].text(0.005, 0.97, "(a)", ha="left", va="top", transform=ax[0, 0].transAxes, fontsize=font+1)
    ax[0, 1].text(0.005, 0.97, "(b)", ha="left", va="top", transform=ax[0, 1].transAxes, fontsize=font+1)
    ax[1, 0].text(0.005, 0.97, "(c)", ha="left", va="top", transform=ax[1, 0].transAxes, fontsize=font+1)
    ax[1, 1].text(0.005, 0.97, "(d)", ha="left", va="top", transform=ax[1, 1].transAxes, fontsize=font+1)

    plt.show();
    return fig

fig = __makeplot();

fig.savefig(config['path_to_figs']+f"RomyNoise_ZUVW_individual.png", format="png", dpi=150, bbox_inches='tight')




def __makeplot():

    Nrow, Ncol = 2, 2

    font = 12

    fig, ax = plt.subplots(Nrow, Ncol, figsize=(15, 8))


    ax[0, 0].plot(romy_z.frequencies, romy_z.psds_median, ls="-", color="tab:blue", label="ROMY-Z")
    ax[0, 0].fill_between(romy_z.frequencies, romy_z.perc_low, romy_z.perc_high, color="tab:blue", alpha=0.3)

    ax[0, 1].plot(romy_n.frequencies, romy_n.psds_median, ls="-", color="tab:orange", label="ROMY-N")
    ax[0, 1].fill_between(romy_n.frequencies, romy_n.perc_low, romy_n.perc_high, color="tab:orange", alpha=0.3)

    ax[1, 0].plot(romy_e.frequencies, romy_e.psds_median, ls="-", color="tab:red", label="ROMY-E")
    ax[1, 0].fill_between(romy_e.frequencies, romy_e.perc_low, romy_e.perc_high, color="tab:red", alpha=0.3)

    ax[1, 1].plot(rlas_z.frequencies, rlas_z.psds_median, ls="-", color="tab:green", label="RLAS-Z")
    ax[1, 1].fill_between(rlas_z.frequencies, rlas_z.perc_low, rlas_z.perc_high, color="tab:green", alpha=0.3)

    for i in range(Nrow):
        for j in range(Ncol):
            ax[i, j].plot(df_models.frequencies, df_models.nlnm_rot_rate, ls="--", color="black")

            ax[i, j].grid(which="both", ls=":", zorder=0)
            ax[i, j].legend(loc=1)
            ax[i, j].set_xscale("log")
            ax[i, j].set_yscale("log")
            ax[i, j].set_xlim(1e-3, 2e0)
            ax[i, j].set_ylim(5e-27, 1e-17)

            ax[i, j].set_xlabel("Frequency (Hz)", fontsize=font)
            ax[i, j].set_ylabel("PSD (rad$^2$/s$^2$/Hz)", fontsize=font)

    ax[0, 0].text(0.005, 0.97, "(a)", ha="left", va="top", transform=ax[0, 0].transAxes, fontsize=font+1)
    ax[0, 1].text(0.005, 0.97, "(b)", ha="left", va="top", transform=ax[0, 1].transAxes, fontsize=font+1)
    ax[1, 0].text(0.005, 0.97, "(c)", ha="left", va="top", transform=ax[1, 0].transAxes, fontsize=font+1)
    ax[1, 1].text(0.005, 0.97, "(d)", ha="left", va="top", transform=ax[1, 1].transAxes, fontsize=font+1)

    plt.show();
    return fig

fig = __makeplot();

fig.savefig(config['path_to_figs']+f"RomyNoise_ZNE_Rlas_individual.png", format="png", dpi=150, bbox_inches='tight')











