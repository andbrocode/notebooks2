import os
import gc
import obspy as obs
import matplotlib.pyplot as plt
import numpy as np
import pandas as pd


if os.uname().nodename == 'lighthouse':
    root_path = '/home/andbro/'
    data_path = '/home/andbro/kilauea-data/'
    archive_path = '/home/andbro/freenas/'
    bay_path = '/home/andbro/bay200/'
elif os.uname().nodename == 'kilauea':
    root_path = '/home/brotzer/'
    data_path = '/import/kilauea-data/'
    archive_path = '/import/freenas-ffb-01-data/'
    bay_path = '/bay200/'
elif os.uname().nodename == 'lin-ffb-01':
    root_path = '/home/brotzer/'
    data_path = '/import/kilauea-data/'
    archive_path = '/import/freenas-ffb-01-data/'
    bay_path = '/bay200/'


config = {}

config['path_to_models'] = data_path+f"LNM2/PSDS/"

config['path_to_figs'] = data_path+f"RomyNoise/figures/"


df_models = pd.read_csv(data_path+"LNM/data/FINAL/"+"TLNM_to_RLNM.csv")


date_str = "2024-01-01_2024-03-31"

romy_z = pd.read_pickle(data_path+f"LNM2/data/PSD_statistics_ROMY_BJZ_{date_str}.pkl")
romy_n = pd.read_pickle(data_path+f"LNM2/data/PSD_statistics_ROMY_BJN_{date_str}.pkl")
romy_e = pd.read_pickle(data_path+f"LNM2/data/PSD_statistics_ROMY_BJE_{date_str}.pkl")

romy_u = pd.read_pickle(data_path+f"LNM2/data/PSD_statistics_ROMY_BJU_{date_str}.pkl")
romy_v = pd.read_pickle(data_path+f"LNM2/data/PSD_statistics_ROMY_BJV_{date_str}.pkl")

rlas_z = pd.read_pickle(data_path+f"LNM2/data/PSD_statistics_RLAS_BJZ_{date_str}.pkl")



romy_z


def __makeplot():

    Nrow, Ncol = 1, 1

    font = 12

    fig, ax = plt.subplots(Nrow, Ncol, figsize=(12, 5))

    ax.plot(df_models.frequencies, df_models.nlnm_rot_rate, ls="--", color="black")

    ax.plot(romy_z.frequencies, romy_z.psds_median, ls="-", color="tab:blue", label="ROMY-Z")
    # ax.fill_between(romy_z.frequencies, romy_z.perc_low, romy_z.perc_high, color="tab:blue", alpha=0.3)

    ax.plot(romy_u.frequencies, romy_u.psds_median, ls="-", color="tab:orange", label="ROMY-U")
    # ax.fill_between(romy_u.frequencies, romy_u.perc_low, romy_u.perc_high, color="tab:orange", alpha=0.3)

    ax.plot(romy_v.frequencies, romy_v.psds_median, ls="-", color="tab:red", label="ROMY-V")
    # ax.fill_between(romy_v.frequencies, romy_v.perc_low, romy_v.perc_high, color="tab:red", alpha=0.3)

    ax.plot(rlas_z.frequencies, rlas_z.psds_median, ls="-", color="tab:green", label="RLAS-Z")

    ax.set_xlabel("Frequency (Hz)", fontsize=font)
    ax.set_ylabel("PSD (rad$^2$/s$^2$/Hz)", fontsize=font)

    ax.grid(which="both", ls=":", zorder=0)
    ax.legend(loc=1, ncol=4)
    ax.set_xscale("log")
    ax.set_yscale("log")
    ax.set_xlim(1e-3, 2e0)

    plt.show();
    return fig

fig = __makeplot();

fig.savefig(config['path_to_figs']+f"RomyNoise_ZUV_median.png", format="png", dpi=150, bbox_inches='tight')






def __makeplot():

    Nrow, Ncol = 1, 1

    font = 12

    fig, ax = plt.subplots(Nrow, Ncol, figsize=(12, 5))

    ax.plot(df_models.frequencies, df_models.nlnm_rot_rate, ls="--", color="black")

    ax.plot(romy_z.frequencies, romy_z.perc_low, ls="-", color="tab:blue", label="ROMY-Z (2.5th)")
    # ax.fill_between(romy_z.frequencies, romy_z.perc_low, romy_z.perc_high, color="tab:blue", alpha=0.3)

    ax.plot(romy_u.frequencies, romy_u.perc_low, ls="-", color="tab:orange", label="ROMY-U (2.5th)")
    # ax.fill_between(romy_u.frequencies, romy_u.perc_low, romy_u.perc_high, color="tab:orange", alpha=0.3)

    ax.plot(romy_v.frequencies, romy_v.perc_low, ls="-", color="tab:red", label="ROMY-V  (2.5th)")
    # ax.fill_between(romy_v.frequencies, romy_v.perc_low, romy_v.perc_high, color="tab:red", alpha=0.3)

    ax.plot(rlas_z.frequencies, rlas_z.perc_low, ls="-", color="tab:green", label="RLAS-Z (2.5th)")

    ax.set_xlabel("Frequency (Hz)", fontsize=font)
    ax.set_ylabel("PSD (rad$^2$/s$^2$/Hz)", fontsize=font)

    ax.grid(which="both", ls=":", zorder=0)
    ax.legend(loc=1, ncol=4)
    ax.set_xscale("log")
    ax.set_yscale("log")
    ax.set_xlim(1e-3, 2e0)

    plt.show();
    return fig

fig = __makeplot();

fig.savefig(config['path_to_figs']+f"RomyNoise_ZUV_percentile.png", format="png", dpi=150, bbox_inches='tight')



def __makeplot():

    Nrow, Ncol = 2, 2

    font = 12

    fig, ax = plt.subplots(Nrow, Ncol, figsize=(15, 8))


    ax[0, 0].plot(romy_z.frequencies, romy_z.psds_median, ls="-", color="tab:blue", label="ROMY-Z")
    ax[0, 0].fill_between(romy_z.frequencies, romy_z.perc_low, romy_z.perc_high, color="tab:blue", alpha=0.3)

    ax[0, 1].plot(romy_u.frequencies, romy_u.psds_median, ls="-", color="tab:orange", label="ROMY-U")
    ax[0, 1].fill_between(romy_u.frequencies, romy_u.perc_low, romy_u.perc_high, color="tab:orange", alpha=0.3)

    ax[1, 0].plot(romy_v.frequencies, romy_v.psds_median, ls="-", color="tab:red", label="ROMY-V")
    ax[1, 0].fill_between(romy_v.frequencies, romy_v.perc_low, romy_v.perc_high, color="tab:red", alpha=0.3)


    for i in range(Nrow):
        for j in range(Ncol):
            ax[i, j].plot(df_models.frequencies, df_models.nlnm_rot_rate, ls="--", color="black")

            ax[i, j].grid(which="both", ls=":", zorder=0)
            ax[i, j].legend(loc=1)
            ax[i, j].set_xscale("log")
            ax[i, j].set_yscale("log")
            ax[i, j].set_xlim(1e-3, 2e0)

            ax[i, j].set_xlabel("Frequency (Hz)", fontsize=font)
            ax[i, j].set_ylabel("PSD (rad$^2$/s$^2$/Hz)", fontsize=font)

    plt.show();
    return fig

fig = __makeplot();

fig.savefig(config['path_to_figs']+f"RomyNoise_ZUVW_individual.png", format="png", dpi=150, bbox_inches='tight')




def __makeplot():

    Nrow, Ncol = 2, 2

    font = 12

    fig, ax = plt.subplots(Nrow, Ncol, figsize=(15, 8))


    ax[0, 0].plot(romy_z.frequencies, romy_z.psds_median, ls="-", color="tab:blue", label="ROMY-Z")
    ax[0, 0].fill_between(romy_z.frequencies, romy_z.perc_low, romy_z.perc_high, color="tab:blue", alpha=0.3)

    ax[0, 1].plot(romy_n.frequencies, romy_n.psds_median, ls="-", color="tab:orange", label="ROMY-N")
    ax[0, 1].fill_between(romy_n.frequencies, romy_n.perc_low, romy_n.perc_high, color="tab:orange", alpha=0.3)

    ax[1, 0].plot(romy_e.frequencies, romy_e.psds_median, ls="-", color="tab:red", label="ROMY-E")
    ax[1, 0].fill_between(romy_e.frequencies, romy_e.perc_low, romy_e.perc_high, color="tab:red", alpha=0.3)

    ax[1, 1].plot(rlas_z.frequencies, rlas_z.psds_median, ls="-", color="tab:green", label="RLAS-Z")
    ax[1, 1].fill_between(rlas_z.frequencies, rlas_z.perc_low, rlas_z.perc_high, color="tab:green", alpha=0.3)

    for i in range(Nrow):
        for j in range(Ncol):
            ax[i, j].plot(df_models.frequencies, df_models.nlnm_rot_rate, ls="--", color="black")

            ax[i, j].grid(which="both", ls=":", zorder=0)
            ax[i, j].legend(loc=1)
            ax[i, j].set_xscale("log")
            ax[i, j].set_yscale("log")
            ax[i, j].set_xlim(1e-3, 2e0)
            ax[i, j].set_ylim(5e-27, 1e-17)

            ax[i, j].set_xlabel("Frequency (Hz)", fontsize=font)
            ax[i, j].set_ylabel("PSD (rad$^2$/s$^2$/Hz)", fontsize=font)

    plt.show();
    return fig

fig = __makeplot();

fig.savefig(config['path_to_figs']+f"RomyNoise_ZNE_Rlas_individual.png", format="png", dpi=150, bbox_inches='tight')








