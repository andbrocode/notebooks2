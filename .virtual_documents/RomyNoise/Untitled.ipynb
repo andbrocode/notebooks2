import os
import gc
import obspy as obs
import matplotlib.pyplot as plt
import numpy as np
import pandas as pd


if os.uname().nodename == 'lighthouse':
    root_path = '/home/andbro/'
    data_path = '/home/andbro/kilauea-data/'
    archive_path = '/home/andbro/freenas/'
    bay_path = '/home/andbro/bay200/'
elif os.uname().nodename == 'kilauea':
    root_path = '/home/brotzer/'
    data_path = '/import/kilauea-data/'
    archive_path = '/import/freenas-ffb-01-data/'
    bay_path = '/bay200/'
elif os.uname().nodename == 'lin-ffb-01':
    root_path = '/home/brotzer/'
    data_path = '/import/kilauea-data/'
    archive_path = '/import/freenas-ffb-01-data/'
    bay_path = '/bay200/'


config = {}

config['path_to_models'] = data_path+f"LNM2/PSDS/"


df_models = pd.read_csv(data_path+"LNM/data/FINAL/"+"TLNM_to_RLNM.csv")


date_str = "2024-01-01_2024-03-31"

romy_z = pd.read_pickle(data_path+f"LNM2/data/PSD_statistics_ROMY_BJZ_{date_str}.pkl")
romy_n = pd.read_pickle(data_path+f"LNM2/data/PSD_statistics_ROMY_BJN_{date_str}.pkl")
romy_e = pd.read_pickle(data_path+f"LNM2/data/PSD_statistics_ROMY_BJE_{date_str}.pkl")

romy_u = pd.read_pickle(data_path+f"LNM2/data/PSD_statistics_ROMY_BJU_{date_str}.pkl")
romy_v = pd.read_pickle(data_path+f"LNM2/data/PSD_statistics_ROMY_BJV_{date_str}.pkl")



romy_z


def __makeplot():

    Nrow, Ncol = 1, 1

    font = 12

    fig, ax = plt.subplots(Nrow, Ncol, figsize=(15, 8))

    ax.plot(df_models.frequencies, df_models.nlnm_rot_rate, ls="--", color="black")

    ax.plot(romy_z.frequencies, romy_z.psds_median, ls="-", color="tab:blue")
    ax.fill_between(romy_z.frequencies, romy_z.perc_low, romy_z.perc_high, color="tab:blue", alpha=0.3)

    ax.plot(romy_u.frequencies, romy_u.psds_median, ls="-", color="tab:orange")
    ax.fill_between(romy_u.frequencies, romy_u.perc_low, romy_u.perc_high, color="tab:orange", alpha=0.3)

    ax.plot(romy_v.frequencies, romy_v.psds_median, ls="-", color="tab:red")
    ax.fill_between(romy_v.frequencies, romy_v.perc_low, romy_v.perc_high, color="tab:red", alpha=0.3)


    ax.grid(which="both", ls=":", zorder=0)
    ax.legend(loc=1)
    ax.set_xscale("log")
    ax.set_yscale("log")
    ax.set_xlim(1e-3, 2e0)

    plt.show();
    return fig


fig = __makeplot();









