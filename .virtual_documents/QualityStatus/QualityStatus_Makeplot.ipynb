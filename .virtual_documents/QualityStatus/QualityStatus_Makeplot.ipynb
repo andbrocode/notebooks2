import os
import sys
import numpy as np
import matplotlib.pyplot as plt
import obspy as obs
import matplotlib.colors

from pandas import DataFrame, merge
from andbro__save_to_pickle import __save_to_pickle


if os.uname().nodename == 'lighthouse':
    root_path = '/home/andbro/'
    data_path = '/home/andbro/kilauea-data/'
    archive_path = '/home/andbro/freenas/'
    bay_path = '/home/andbro/bay200/'
elif os.uname().nodename == 'kilauea':
    root_path = '/home/brotzer/'
    data_path = '/import/kilauea-data/'
    archive_path = '/import/freenas-ffb-01-data/'
    bay_path = '/bay200/'
elif os.uname().nodename == 'lin-ffb-01':
    root_path = '/home/brotzer/'
    data_path = '/import/kilauea-data/'
    archive_path = '/import/freenas-ffb-01-data/'
    bay_path = '/bay200/'


from functions.load_beat import __load_beat
from functions.load_mlti import __load_mlti
from functions.get_mlti_intervals import __get_mlti_intervals


config = {}


config['tbeg'] = obs.UTCDateTime("2023-09-01")
config['tend'] = obs.UTCDateTime("2023-09-30")

config['ring'] = "U"

config['path_to_figures'] = archive_path+f"romy_plots/{config['tbeg'].year}/R{config['ring']}/status/"

config['path_to_data'] = archive_path+f"temp_archive/"



from functions.load_status import __load_status


statusU = __load_status(config['tbeg'], config['tend'], "U", config['path_to_data'])


statusU[statusU.times_utc > obs.UTCDateTime("2023-09-06 23:59")]


statusV = __load_status(config['tbeg'], config['tend'], "V", config['path_to_data'])


statusZ = __load_status(config['tbeg'], config['tend'], "Z", config['path_to_data'])


def __makelplot_single_status(df):

    names = ["quality", "fsagnac", "mlti", "ac_threshold", "dc_threshold"]
    bars = np.ones(len(names))-0.5

    arr = np.ones((len(names), df['quality'].size))

    for _n, name in enumerate(names):
        arr[_n] *= df[name]

    time_scaling = 1/86400

    cmap = matplotlib.colors.ListedColormap(['darkred', 'green'])

    fig = plt.figure(figsize=(15, 4))

    c = plt.pcolormesh(df.times_utc_sec*time_scaling, names, arr, cmap=cmap, rasterized=True, alpha=0.8)

    for _k, bar in enumerate(bars):
        plt.axhline(bar+_k, color="k", alpha=0.5)

    plt.xlabel("Time (days)")

    plt.title(f"Quality Status from {config['tbeg'].date}")

    plt.show();
    return fig


fig = __makelplot_single_status(statusU)
fig = __makelplot_single_status(statusV)
fig = __makelplot_single_status(statusZ)


# print(f" -> stored: {config['path_to_figures']}R{config['ring']}_{config['tbeg'].date}_status.png")
# fig.savefig(config['path_to_figures']+f"R{config['ring']}_{config['tbeg'].date}_status.png", format="png", dpi=100, bbox_inches='tight')








statusZ_mod = statusZ[['times_utc','quality']]
statusU_mod = statusU[['times_utc','quality']]
statusV_mod = statusV[['times_utc','quality']]


statusZ_mod = statusZ_mod.dropna(subset="times_utc").reset_index()
statusV_mod = statusV_mod.dropna(subset="times_utc").reset_index()
statusU_mod = statusU_mod.dropna(subset="times_utc").reset_index()

statusZ_mod.shape, statusU_mod.shape, statusV_mod.shape


statusZ_mod['times_utc'] = statusZ_mod.times_utc.astype(str)
statusU_mod['times_utc'] = statusU_mod.times_utc.astype(str)
statusV_mod['times_utc'] = statusV_mod.times_utc.astype(str)



df_new = statusZ_mod.copy()

df_new = df_new.merge(statusU_mod, how="outer", on=["times_utc"])
df_new = df_new.merge(statusV_mod, how="outer", on=["times_utc"])

df_new.drop(columns=["index_x", "index_y", "index"], inplace=True)

df_new.rename(columns={"quality_x":"RU", "quality_y":"RV", "quality":"RZ"}, inplace=True)

ref_time = df_new.times_utc.iloc[0]
df_new['times_utc_sec'] = np.array([abs(obs.UTCDateTime(ref_time) - obs.UTCDateTime(_t)) for _t in df_new.times_utc])

df_new['RW'] = np.ones(df_new.shape[0])*np.nan

df_new.sort_values(by="times_utc", inplace=True)








def __makelplot_all_status(df):

    bars = np.ones(4)-0.5

    arr = np.ones((4, df.shape[0]))

    names = ["RZ", "RU", "RV", "RW"]
    for _n, name in enumerate(names):
        arr[_n] *= df[name]

    time_scaling = 1

    cmap = matplotlib.colors.ListedColormap(['darkred', 'green'])

    font = 12

    fig, ax = plt.subplots(1, 1, figsize=(15, 4))

    c = ax.pcolormesh(df.times_utc_sec*time_scaling, names, arr, cmap=cmap, rasterized=True, alpha=0.8)

    for _k, bar in enumerate(bars):
        ax.axhline(bar+_k, color="w", alpha=0.8, lw=2)

    # ax.set_xlabel("Time (days)")

    ax.set_title(f"Quality Status")

    ref_date = df.times_utc.iloc[0]
    tcks = ax.get_xticks()
    tcklbls = [str((obs.UTCDateTime(ref_date)+t).date) for t in tcks]
    ax.set_xticklabels(tcklbls)

    ax.tick_params(axis='y', labelsize=font)

    plt.show();
    return fig


fig = __makelplot_all_status(df_new);






