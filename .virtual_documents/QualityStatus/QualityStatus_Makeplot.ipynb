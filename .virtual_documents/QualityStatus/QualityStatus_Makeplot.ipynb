import os
import sys
import numpy as np
import matplotlib.pyplot as plt
import obspy as obs
import matplotlib.colors

from pandas import DataFrame
from andbro__save_to_pickle import __save_to_pickle


if os.uname().nodename == 'lighthouse':
    root_path = '/home/andbro/'
    data_path = '/home/andbro/kilauea-data/'
    archive_path = '/home/andbro/freenas/'
    bay_path = '/home/andbro/bay200/'
elif os.uname().nodename == 'kilauea':
    root_path = '/home/brotzer/'
    data_path = '/import/kilauea-data/'
    archive_path = '/import/freenas-ffb-01-data/'
    bay_path = '/bay200/'
elif os.uname().nodename == 'lin-ffb-01':
    root_path = '/home/brotzer/'
    data_path = '/import/kilauea-data/'
    archive_path = '/import/freenas-ffb-01-data/'
    bay_path = '/bay200/'


from functions.load_beat import __load_beat
from functions.load_mlti import __load_mlti
from functions.get_mlti_intervals import __get_mlti_intervals


config = {}


config['tbeg'] = obs.UTCDateTime("2023-09-01")
config['tend'] = obs.UTCDateTime("2023-09-30")

config['ring'] = "U"

config['path_to_figures'] = archive_path+f"romy_plots/{config['tbeg'].year}/R{config['ring']}/status/"

config['path_to_data'] = archive_path+f"temp_archive/"



from functions.load_status import __load_status


statusU = __load_status(config['tbeg'], config['tend'], "U", config['path_to_data'])


statusV = __load_status(config['tbeg'], config['tend'], "V", config['path_to_data'])


statusZ = __load_status(config['tbeg'], config['tend'], "Z", config['path_to_data'])


arr = np.ones((3, statusU['quality'].size))

arr[0] *= statusU['quality']
arr[1] *= statusU['fsagnac']
arr[2] *= statusU['mlti']


names = ["quality", "fsagnac", "mlti", "ac_threshold", "dc_threshold"]
bars = np.ones(len(names))-0.5

arr = np.ones((len(names), statusU['quality'].size))

for _n, name in enumerate(names):
    arr[_n] *= statusU[name]


cmap = matplotlib.colors.ListedColormap(['darkred', 'green'])

fig = plt.figure(figsize=(15, 4))

c = plt.pcolormesh(np.arange(0, arr.shape[1]), names, arr, cmap=cmap, rasterized=True, alpha=0.8)

for _k, bar in enumerate(bars):
    plt.axhline(bar+_k, color="k", alpha=0.5)

plt.xlabel("Time (min)")


plt.title(f"Quality Status of R{config['ring']} on {config['tbeg'].date}")

# plt.show();

# fig.savefig(config['path_to_figures']+f"status/VC_BAZ_{t1_t2}_status.png", format="png", dpi=100, bbox_inches='tight')
# print(f" -> stored: {config['path_to_figures']}status/VC_BAZ_{t1_t2}.png")




