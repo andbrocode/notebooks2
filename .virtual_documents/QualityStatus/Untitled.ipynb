import os
import numpy as np
import matplotlib.pyplot as plt
import obspy as obs


if os.uname().nodename == 'lighthouse':
    root_path = '/home/andbro/'
    data_path = '/home/andbro/kilauea-data/'
    archive_path = '/home/andbro/freenas/'
    bay_path = '/home/andbro/bay200/'
elif os.uname().nodename == 'kilauea':
    root_path = '/home/brotzer/'
    data_path = '/import/kilauea-data/'
    archive_path = '/import/freenas-ffb-01-data/'
    bay_path = '/bay200/'
elif os.uname().nodename == 'lin-ffb-01':
    root_path = '/home/brotzer/'
    data_path = '/import/kilauea-data/'
    archive_path = '/import/freenas-ffb-01-data/'
    bay_path = '/bay200/'


from functions.load_beat import __load_beat
from functions.load_mlti import __load_mlti


config = {}

config['tbeg'] = obs.UTCDateTime("2023-09-20")
config['tend'] = obs.UTCDateTime("2023-09-21")

config['path_to_autodata'] = archive_path+f"romy_autodata/"




beat = __load_beat(config['tbeg'], config['tend'], "U", config['path_to_autodata'])


beat.keys()


beat


plt.plot(beat.times_utc_sec, beat.fj)
plt.ylim(302.9, 303.3)


plt.plot(beat.times_utc_sec, beat.dc_z)



