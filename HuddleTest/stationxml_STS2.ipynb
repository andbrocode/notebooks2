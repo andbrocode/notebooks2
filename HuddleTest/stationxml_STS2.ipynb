{
 "cells": [
  {
   "cell_type": "markdown",
   "metadata": {},
   "source": [
    "## Obs Station Metadata"
   ]
  },
  {
   "cell_type": "code",
   "execution_count": 32,
   "metadata": {
    "ExecuteTime": {
     "end_time": "2021-02-17T11:17:09.372043Z",
     "start_time": "2021-02-17T11:17:08.758694Z"
    }
   },
   "outputs": [],
   "source": [
    "# %matplotlib nbagg\n",
    "\n",
    "import re\n",
    "from obspy import UTCDateTime, read_inventory\n",
    "from obspy.clients.nrl import NRL\n",
    "from obspy.io.xseed import Parser\n",
    "from obspy.core.inventory import Inventory, Network, Station, Channel, Site\n",
    "from obspy.clients.fdsn import Client as FDSNClient\n"
   ]
  },
  {
   "cell_type": "code",
   "execution_count": 33,
   "metadata": {
    "ExecuteTime": {
     "end_time": "2021-02-17T11:17:10.480396Z",
     "start_time": "2021-02-17T11:17:09.373350Z"
    }
   },
   "outputs": [],
   "source": [
    "# could be replaced with a local download of NRL\n",
    "nrl = NRL()"
   ]
  },
  {
   "cell_type": "markdown",
   "metadata": {},
   "source": [
    "### Example to find out correct keys for given sensor in NRL"
   ]
  },
  {
   "cell_type": "code",
   "execution_count": 36,
   "metadata": {
    "ExecuteTime": {
     "end_time": "2021-02-17T11:17:14.413151Z",
     "start_time": "2021-02-17T11:17:10.491958Z"
    }
   },
   "outputs": [
    {
     "name": "stdout",
     "output_type": "stream",
     "text": [
      "Select the sensor manufacturer (39 items):\n",
      "  'CEA-DASE', 'CME (now R-Sensors)', 'Chaparral Physics',\n",
      "  'DTCC (manuafacturers of SmartSolo)', 'EQMet', 'Eentec', 'GEObit',\n",
      "  'GEOsig', 'GaiaCode', 'Gem', 'Generic', 'Geo Space/OYO', 'Geodevice'\n",
      "  'Geotech', 'Guralp', 'HGS Products', 'High Tech', 'Hyperion',\n",
      "  'IESE', 'Johnson Infrasound', 'Kinemetrics', 'LaHusen', 'Lennartz',\n",
      "  'Lunitek', 'Magseis Fairfield', 'Metrozet', 'Nanometrics',\n",
      "  'R-Sensors (previously listed as CME', 'REF TEK',\n",
      "  'Raspberry Shake (formerly OSOP)', 'SARA', 'Seismo Wave',\n",
      "  'Sercel/Mark Products', 'Silicon Audio', 'SolGeo',\n",
      "  'Sprengnether (now Eentec)', 'Streckeisen', 'TDG', 'iTem'\n",
      "\n",
      "Choose manufacturer: Streckeisen\n",
      "\n",
      "_______________________________\n"
     ]
    }
   ],
   "source": [
    "print(nrl.sensors)\n",
    "\n",
    "manufacturer = input(\"\\nChoose manufacturer: \");print(\"\\n_______________________________\")"
   ]
  },
  {
   "cell_type": "code",
   "execution_count": 37,
   "metadata": {
    "ExecuteTime": {
     "end_time": "2021-02-17T11:17:25.012183Z",
     "start_time": "2021-02-17T11:17:19.279971Z"
    }
   },
   "outputs": [
    {
     "name": "stdout",
     "output_type": "stream",
     "text": [
      "Select the Streckeisen sensor model (5 items):\n",
      "  'STS-1', 'STS-2', 'STS-2.5', 'STS-3', 'STS-5A'\n",
      "\n",
      "Choose sensor: STS-2\n",
      "\n",
      "_______________________________\n"
     ]
    }
   ],
   "source": [
    "print(nrl.sensors[manufacturer])\n",
    "\n",
    "sensor = input(\"\\nChoose sensor: \");print(\"\\n_______________________________\")"
   ]
  },
  {
   "cell_type": "code",
   "execution_count": 38,
   "metadata": {
    "ExecuteTime": {
     "end_time": "2021-02-17T11:17:37.123704Z",
     "start_time": "2021-02-17T11:17:26.314327Z"
    }
   },
   "outputs": [
    {
     "name": "stdout",
     "output_type": "stream",
     "text": [
      "Select the sensor sensitivity in V/m/s (2 items):\n",
      "  '1500', '20000'\n",
      "\n",
      "Choose sensitivity: 1500\n",
      "\n",
      "_______________________________\n"
     ]
    }
   ],
   "source": [
    "print(nrl.sensors[manufacturer][sensor])\n",
    "\n",
    "sensitivity = input(\"\\nChoose sensitivity: \");print(\"\\n_______________________________\")\n"
   ]
  },
  {
   "cell_type": "code",
   "execution_count": 10,
   "metadata": {
    "ExecuteTime": {
     "end_time": "2021-02-17T11:17:58.972495Z",
     "start_time": "2021-02-17T11:17:38.348830Z"
    }
   },
   "outputs": [
    {
     "name": "stdout",
     "output_type": "stream",
     "text": [
      "Select the generation of electronics used in this STS-2 (3 items):\n",
      "  '1 - installed 01/90 to 09/94', '2 - installed 09/94 to 04/97',\n",
      "  '3 - installed 04/97 to present'\n",
      "\n",
      "Choose generation: 3 - installed 04/97 to present\n",
      "\n",
      "_______________________________\n"
     ]
    }
   ],
   "source": [
    "print(nrl.sensors[manufacturer][sensor][sensitivity])\n",
    "\n",
    "\n",
    "generation = input(\"\\nChoose generation: \");print(\"\\n_______________________________\")"
   ]
  },
  {
   "cell_type": "code",
   "execution_count": 11,
   "metadata": {
    "ExecuteTime": {
     "end_time": "2021-02-17T11:18:00.505985Z",
     "start_time": "2021-02-17T11:18:00.493187Z"
    }
   },
   "outputs": [
    {
     "data": {
      "text/plain": [
       "('STS-2, 120 s, 1500 V/m/s, generation 3 electronics',\n",
       " 'http://ds.iris.edu/NRL/sensors/streckeisen/RESP.XX.NS085..BHZ.STS2_gen3.120.1500')"
      ]
     },
     "execution_count": 11,
     "metadata": {},
     "output_type": "execute_result"
    }
   ],
   "source": [
    "nrl.sensors[manufacturer][sensor][sensitivity][generation]"
   ]
  },
  {
   "cell_type": "code",
   "execution_count": 12,
   "metadata": {
    "ExecuteTime": {
     "start_time": "2021-02-17T11:18:02.890Z"
    }
   },
   "outputs": [
    {
     "name": "stdout",
     "output_type": "stream",
     "text": [
      "Select the datalogger manufacturer (29 items):\n",
      "  'Agecodagis', 'CNSN', 'DAQ Systems (NetDAS)',\n",
      "  'DTCC (manufacturers of SmartSolo', 'DiGOS/Omnirecs', 'EQMet',\n",
      "  'Earth Data', 'Eentec', 'GEObit', 'Gem', 'Generic', 'GeoSIG',\n",
      "  'Geodevice', 'Geotech', 'Guralp', 'Kinemetrics', 'Lunitek',\n",
      "  'Magseis Fairfield', 'Nanometrics', 'Quanterra', 'R-Sensors',\n",
      "  'REF TEK', 'Raspberry Shake (formerly OSOP)', 'Seismic Source',\n",
      "  'SeismologyResearchCentre', 'Sercel', 'SolGeo', 'TDG',\n",
      "  'WorldSensing'\n",
      "\n",
      "Choose datalogger: REF TEK\n",
      "\n",
      "_______________________________\n"
     ]
    }
   ],
   "source": [
    "print(nrl.dataloggers)\n",
    "\n",
    "datalogger = input(\"\\nChoose datalogger: \");print(\"\\n_______________________________\")"
   ]
  },
  {
   "cell_type": "code",
   "execution_count": 15,
   "metadata": {
    "ExecuteTime": {
     "end_time": "2021-02-16T16:34:15.082331Z",
     "start_time": "2021-02-16T16:34:09.117119Z"
    }
   },
   "outputs": [
    {
     "name": "stdout",
     "output_type": "stream",
     "text": [
      "Select the REF TEK model (6 items):\n",
      "  'RT 125 & 125A', 'RT 130 & 130-SMA', 'RT 130S & 130-SMHR',\n",
      "  'RT 72A-06', 'RT 72A-07', 'RT 72A-08'\n",
      "\n",
      "Choose datalogger model: RT 130 & 130-SMA\n",
      "\n",
      "_______________________________\n"
     ]
    }
   ],
   "source": [
    "print(nrl.dataloggers[datalogger])\n",
    "\n",
    "model = input(\"\\nChoose datalogger model: \");print(\"\\n_______________________________\")"
   ]
  },
  {
   "cell_type": "code",
   "execution_count": 16,
   "metadata": {
    "ExecuteTime": {
     "start_time": "2021-02-16T16:35:28.498Z"
    }
   },
   "outputs": [
    {
     "name": "stdout",
     "output_type": "stream",
     "text": [
      "Select the preamplifier gain setting (2 items):\n",
      "  '1', '32'\n",
      "\n",
      "Choose datalogger gain: 1\n",
      "\n",
      "_______________________________\n"
     ]
    }
   ],
   "source": [
    "print(nrl.dataloggers[datalogger][model])\n",
    "\n",
    "gain = input(\"\\nChoose datalogger gain: \");print(\"\\n_______________________________\")"
   ]
  },
  {
   "cell_type": "code",
   "execution_count": 17,
   "metadata": {
    "ExecuteTime": {
     "end_time": "2021-02-16T12:34:47.342722Z",
     "start_time": "2021-02-16T12:34:44.250466Z"
    }
   },
   "outputs": [
    {
     "name": "stdout",
     "output_type": "stream",
     "text": [
      "Select the sample rate in samples per second for this channel (13 items):\n",
      "  '1', '10', '100', '1000', '125', '20', '200', '25', '250', '40', '5'\n",
      "  '50', '500'\n",
      "\n",
      "Choose datalogger sampling rate: 200\n",
      "\n",
      "_______________________________\n"
     ]
    }
   ],
   "source": [
    "print(nrl.dataloggers[datalogger][model][gain])\n",
    "\n",
    "sampling_rate = input(\"\\nChoose datalogger sampling rate: \");print(\"\\n_______________________________\")"
   ]
  },
  {
   "cell_type": "code",
   "execution_count": 18,
   "metadata": {
    "ExecuteTime": {
     "start_time": "2021-02-16T16:35:29.913Z"
    }
   },
   "outputs": [
    {
     "name": "stdout",
     "output_type": "stream",
     "text": [
      "('RT130, gain 1, 200 sps', 'http://ds.iris.edu/NRL/dataloggers/reftek/RESP.XX.NR010..HHZ.130.1.200')\n"
     ]
    }
   ],
   "source": [
    "print(nrl.dataloggers[datalogger][model][gain][sampling_rate])"
   ]
  },
  {
   "cell_type": "code",
   "execution_count": 19,
   "metadata": {
    "ExecuteTime": {
     "start_time": "2021-02-16T16:35:31.651Z"
    }
   },
   "outputs": [
    {
     "data": {
      "text/plain": [
       "['REF TEK', 'RT 130 & 130-SMA', '1', '200']"
      ]
     },
     "execution_count": 19,
     "metadata": {},
     "output_type": "execute_result"
    }
   ],
   "source": [
    "[datalogger, model, gain, sampling_rate]"
   ]
  },
  {
   "cell_type": "code",
   "execution_count": 20,
   "metadata": {
    "ExecuteTime": {
     "end_time": "2021-02-16T12:36:45.014373Z",
     "start_time": "2021-02-16T12:36:42.571378Z"
    }
   },
   "outputs": [],
   "source": [
    "response = nrl.get_response(\n",
    "    datalogger_keys=[datalogger, model, gain, sampling_rate],\n",
    "    sensor_keys=[manufacturer, sensor, sensitivity, generation]\n",
    "    )"
   ]
  },
  {
   "cell_type": "code",
   "execution_count": 21,
   "metadata": {
    "ExecuteTime": {
     "end_time": "2021-02-16T12:36:52.354843Z",
     "start_time": "2021-02-16T12:36:51.284530Z"
    }
   },
   "outputs": [
    {
     "name": "stderr",
     "output_type": "stream",
     "text": [
      "No handles with labels found to put in legend.\n"
     ]
    },
    {
     "data": {
      "image/png": "[encoded data removed]",
      "text/plain": [
       "<Figure size 432x288 with 2 Axes>"
      ]
     },
     "metadata": {
      "needs_background": "light"
     },
     "output_type": "display_data"
    }
   ],
   "source": [
    "response.plot(0.001);"
   ]
  },
  {
   "cell_type": "markdown",
   "metadata": {},
   "source": [
    "### Prepare Writing XML-File"
   ]
  },
  {
   "cell_type": "code",
   "execution_count": 27,
   "metadata": {
    "ExecuteTime": {
     "end_time": "2021-02-16T13:00:46.919948Z",
     "start_time": "2021-02-16T13:00:23.419570Z"
    }
   },
   "outputs": [
    {
     "name": "stdout",
     "output_type": "stream",
     "text": [
      "\n",
      "Enter network: BW\n",
      "\n",
      "_______________________________\n",
      "\n",
      "Enter station name: STS2\n",
      "\n",
      "_______________________________\n",
      "\n",
      "Enter site name: \n",
      "\n",
      "_______________________________\n",
      "\n",
      "Enter serial number: 1111\n",
      "\n",
      "_______________________________\n",
      "\n",
      "Enter path of output file: /home/brotzer/Desktop/\n",
      "\n",
      "_______________________________\n",
      "\n",
      "Specify location (y/n)? n\n"
     ]
    }
   ],
   "source": [
    "net = input(\"\\nEnter network: \");print(\"\\n_______________________________\")\n",
    "\n",
    "sta = input(\"\\nEnter station name: \");print(\"\\n_______________________________\")\n",
    "\n",
    "site_name = input(\"\\nEnter site name: \");print(\"\\n_______________________________\")\n",
    "\n",
    "serial_number = input(\"\\nEnter serial number: \");print(\"\\n_______________________________\")\n",
    "\n",
    "outpath = input(\"\\nEnter path of output file: \");print(\"\\n_______________________________\")\n",
    "\n",
    "location = input(\"\\nSpecify geographic location (y/n)? \")\n",
    "\n",
    "if location == \"y\" or location == \"yes\":\n",
    "    lat = input(\"Enter latitude: \")\n",
    "    lon = input(\"Enter longitude: \")\n",
    "    ele = input(\"Enter elevation: \")\n",
    "    \n",
    "else:\n",
    "    lat, lon, ele = 0.0, 0.0, 0.0\n",
    "\n",
    "outfile = f\"{serial_number}_{sta}.xml\""
   ]
  },
  {
   "cell_type": "code",
   "execution_count": 28,
   "metadata": {
    "ExecuteTime": {
     "end_time": "2021-02-16T13:00:50.040739Z",
     "start_time": "2021-02-16T13:00:50.033738Z"
    }
   },
   "outputs": [],
   "source": [
    "channel1 = Channel(code='HHZ', \n",
    "                   location_code='', \n",
    "                   latitude=lat, \n",
    "                   longitude=lon,\n",
    "                   elevation=ele, \n",
    "                   depth=0,\n",
    "#                    azimuth=0,\n",
    "#                    dip=-90,\n",
    "                   sample_rate=sampling_rate,\n",
    "                   response=response,\n",
    "                  )\n",
    "\n",
    "channel2 = Channel(code='HHN', \n",
    "                   location_code='', \n",
    "                   latitude=lat, \n",
    "                   longitude=lon,\n",
    "                   elevation=ele, \n",
    "                   depth=0,\n",
    "#                    azimuth=0,\n",
    "#                    dip=0,\n",
    "                   sample_rate=sampling_rate,\n",
    "                   response=response,\n",
    "                  )\n",
    "\n",
    "channel3 = Channel(code='HHE', \n",
    "                   location_code='', \n",
    "                   latitude=lat, \n",
    "                   longitude=lon,\n",
    "                   elevation=ele, \n",
    "                   depth=0,\n",
    "#                    azimuth=90,\n",
    "#                    dip=0,\n",
    "                   sample_rate=sampling_rate,\n",
    "                   response=response,\n",
    "                  )"
   ]
  },
  {
   "cell_type": "code",
   "execution_count": 29,
   "metadata": {
    "ExecuteTime": {
     "end_time": "2021-02-16T14:38:55.438654Z",
     "start_time": "2021-02-16T14:38:55.402686Z"
    }
   },
   "outputs": [],
   "source": [
    "site = Site(name=site_name)\n",
    "\n",
    "\n",
    "station = Station(code=sta, \n",
    "                  latitude=lat, \n",
    "                  longitude=lon,\n",
    "                  elevation=ele,\n",
    "                  channels=[channel1,channel2,channel3],\n",
    "                  site=site,\n",
    "                 )\n",
    "\n",
    "network = Network(code=net,\n",
    "                  stations=[station],\n",
    "                 )\n",
    "\n",
    "\n",
    "inv = Inventory(networks=[network], \n",
    "                source='LMU',\n",
    "               )\n",
    "\n",
    "\n",
    "if outpath[-1] == \"/\":\n",
    "    outpath = outpath[:-1]\n",
    "\n",
    "inv.write(f\"{outpath}/{outfile}\", \n",
    "          format='STATIONXML',\n",
    "         )"
   ]
  },
  {
   "cell_type": "code",
   "execution_count": 30,
   "metadata": {
    "ExecuteTime": {
     "end_time": "2021-02-16T13:05:32.746751Z",
     "start_time": "2021-02-16T13:05:32.723648Z"
    }
   },
   "outputs": [
    {
     "data": {
      "text/plain": [
       "Inventory created at 2022-02-01T17:14:19.351084Z\n",
       "\tCreated by: ObsPy 1.2.1\n",
       "\t\t    https://www.obspy.org\n",
       "\tSending institution: LMU\n",
       "\tContains:\n",
       "\t\tNetworks (1):\n",
       "\t\t\tBW\n",
       "\t\tStations (1):\n",
       "\t\t\tBW.STS2 ()\n",
       "\t\tChannels (3):\n",
       "\t\t\tBW.STS2..HHZ, BW.STS2..HHN, BW.STS2..HHE"
      ]
     },
     "execution_count": 30,
     "metadata": {},
     "output_type": "execute_result"
    },
    {
     "name": "stdout",
     "output_type": "stream",
     "text": [
      "\n",
      " DONE\n"
     ]
    }
   ],
   "source": [
    "try:\n",
    "    read_inventory(f\"{outpath}/{outfile}\")\n",
    "    print(\"\\n DONE\")\n",
    "except:\n",
    "    print(\"\\n Something went wrong! File: {outpath}/{outfile} could not be loaded!\")"
   ]
  },
  {
   "cell_type": "code",
   "execution_count": 70,
   "metadata": {
    "ExecuteTime": {
     "end_time": "2021-02-16T14:35:30.895756Z",
     "start_time": "2021-02-16T14:35:30.889087Z"
    },
    "code_folding": [
     1
    ]
   },
   "outputs": [],
   "source": [
    "\n",
    "def parse_response(line):\n",
    "    key, type_, data = line.split(None, 2)\n",
    "    if type_ == 'NRL':\n",
    "        match = re.search(r'\\[([^\\]]*)\\] \\[([^\\]]*)\\]', data)\n",
    "        args = []\n",
    "        for group in match.groups():\n",
    "            keys = re.findall(r\"'([^']*)'\", group)\n",
    "            args.append(keys)\n",
    "        response = nrl.get_response(*args)\n",
    "    else:\n",
    "        raise NotImplementedError()\n",
    "    return key, response\n"
   ]
  },
  {
   "cell_type": "code",
   "execution_count": 71,
   "metadata": {
    "ExecuteTime": {
     "end_time": "2021-02-16T14:35:31.126552Z",
     "start_time": "2021-02-16T14:35:31.119424Z"
    },
    "code_folding": [
     1
    ]
   },
   "outputs": [],
   "source": [
    "\n",
    "def add_station(network, line):\n",
    "    \n",
    "    parts = line.split(None, 4)\n",
    "    code, lat, lon, elevation, site_description = parts\n",
    "    lat = float(lat)\n",
    "    lon = float(lon)\n",
    "    elevation = float(elevation)\n",
    "    site = Site(name=site_description)\n",
    "    \n",
    "    sta = Station(code=code, latitude=lat, longitude=lon, elevation=elevation,\n",
    "                  channels=[], site=site)\n",
    "    network.stations.append(sta)\n",
    "\n",
    "    return sta\n"
   ]
  },
  {
   "cell_type": "code",
   "execution_count": 75,
   "metadata": {
    "ExecuteTime": {
     "end_time": "2021-02-16T14:36:03.467121Z",
     "start_time": "2021-02-16T14:36:03.457897Z"
    },
    "code_folding": [
     1
    ]
   },
   "outputs": [],
   "source": [
    "\n",
    "def add_channels(station, line):\n",
    "    parts = line.split()\n",
    "    loc, stream_label, components, azims, start, end, depth, sampling_rate, resp_key = parts\n",
    "    if loc == 'None':\n",
    "        loc = ''\n",
    "    if azims == 'None':\n",
    "        azi1 = 0\n",
    "        azi2 = 0\n",
    "        azi3 = 90\n",
    "    start = UTCDateTime(start)\n",
    "    if end == 'None':\n",
    "        end = None\n",
    "    else:\n",
    "        end = UTCDateTime(end)\n",
    "    depth = float(depth)\n",
    "    sampling_rate = float(sampling_rate)\n",
    "    response = responses[resp_key]\n",
    "    for component, azi, dip in zip(components, (azi1, azi2, azi3), (-90, 0, 0)):\n",
    "        cha = Channel(\n",
    "            code=stream_label + component, location_code=loc, start_date=start, end_date=end,\n",
    "            latitude=station.latitude, longitude=station.longitude, elevation=station.elevation,\n",
    "            depth=depth, azimuth=azi, dip=dip, sample_rate=sampling_rate, response=response)\n",
    "        station.channels.append(cha)\n",
    "        # update station epoch times\n",
    "        if station.start_date is None:\n",
    "            station.start_date = cha.start_date\n",
    "        else:\n",
    "            station.start_date = min(station.start_date, cha.start_date)\n",
    "        if station.end_date is None:\n",
    "            station.end_date = cha.end_date\n",
    "        else:\n",
    "            station.end_date = max(station.end_date, cha.end_date)\n"
   ]
  },
  {
   "cell_type": "code",
   "execution_count": 78,
   "metadata": {
    "ExecuteTime": {
     "end_time": "2021-02-16T14:36:20.342312Z",
     "start_time": "2021-02-16T14:36:17.833659Z"
    },
    "code_folding": []
   },
   "outputs": [],
   "source": [
    "# set up all responses\n",
    "responses = {}\n",
    "\n",
    "for line in response_lookup.splitlines():\n",
    "    key, response = parse_response(line)\n",
    "    responses[key] = response"
   ]
  },
  {
   "cell_type": "code",
   "execution_count": null,
   "metadata": {
    "ExecuteTime": {
     "end_time": "2021-02-16T11:35:58.410563Z",
     "start_time": "2021-02-16T11:35:58.403582Z"
    }
   },
   "outputs": [],
   "source": [
    "# assemble all epochs\n",
    "\n",
    "inventory = Inventory(networks=[], source='EDB')\n",
    "\n",
    "lines = data.splitlines()\n",
    "network = None\n",
    "station = None\n",
    "\n",
    "while lines:\n",
    "    line = lines.pop(0)\n",
    "    if line.startswith('  '):\n",
    "        add_channels(station, line)\n",
    "    elif line.startswith(' '):\n",
    "        station = add_station(network, line)\n",
    "    else:\n",
    "        network = Network(code=line, stations=[])\n",
    "        inventory.networks.append(network)"
   ]
  },
  {
   "cell_type": "code",
   "execution_count": null,
   "metadata": {},
   "outputs": [],
   "source": [
    "inventory.write('/tmp/example_stationxml_inventory.xml', format='STATIONXML')"
   ]
  },
  {
   "cell_type": "code",
   "execution_count": null,
   "metadata": {},
   "outputs": [],
   "source": []
  }
 ],
 "metadata": {
  "kernelspec": {
   "display_name": "Python 3",
   "language": "python",
   "name": "python3"
  },
  "language_info": {
   "codemirror_mode": {
    "name": "ipython",
    "version": 3
   },
   "file_extension": ".py",
   "mimetype": "text/x-python",
   "name": "python",
   "nbconvert_exporter": "python",
   "pygments_lexer": "ipython3",
   "version": "3.7.7"
  }
 },
 "nbformat": 4,
 "nbformat_minor": 2
}
