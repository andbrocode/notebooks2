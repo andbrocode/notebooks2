{
 "cells": [
  {
   "cell_type": "markdown",
   "metadata": {},
   "source": [
    "## Obs Station Metadata"
   ]
  },
  {
   "cell_type": "code",
   "execution_count": null,
   "metadata": {
    "ExecuteTime": {
     "end_time": "2021-02-18T17:31:23.307454Z",
     "start_time": "2021-02-18T17:31:22.827784Z"
    }
   },
   "outputs": [],
   "source": [
    "# %matplotlib nbagg\n",
    "\n",
    "import re\n",
    "from obspy import UTCDateTime, read_inventory\n",
    "from obspy.clients.nrl import NRL\n",
    "from obspy.io.xseed import Parser\n",
    "from obspy.core.inventory import Inventory, Network, Station, Channel, Site\n",
    "from obspy.clients.fdsn import Client as FDSNClient\n"
   ]
  },
  {
   "cell_type": "code",
   "execution_count": null,
   "metadata": {
    "ExecuteTime": {
     "end_time": "2021-02-18T17:31:25.125626Z",
     "start_time": "2021-02-18T17:31:23.311761Z"
    }
   },
   "outputs": [],
   "source": [
    "# could be replaced with a local download of NRL\n",
    "nrl = NRL()"
   ]
  },
  {
   "cell_type": "markdown",
   "metadata": {},
   "source": [
    "### Example to find out correct keys for given sensor in NRL"
   ]
  },
  {
   "cell_type": "code",
   "execution_count": null,
   "metadata": {
    "ExecuteTime": {
     "start_time": "2021-02-18T17:26:31.563Z"
    }
   },
   "outputs": [],
   "source": [
    "print(nrl.sensors)\n",
    "\n",
    "manufacturer = input(\"\\nChoose manufacturer: \");print(\"\\n_______________________________\")"
   ]
  },
  {
   "cell_type": "code",
   "execution_count": null,
   "metadata": {
    "ExecuteTime": {
     "start_time": "2021-02-18T17:27:05.853Z"
    }
   },
   "outputs": [],
   "source": [
    "print(nrl.sensors[manufacturer])\n",
    "\n",
    "sensor = input(\"\\nChoose sensor: \");print(\"\\n_______________________________\")"
   ]
  },
  {
   "cell_type": "code",
   "execution_count": null,
   "metadata": {
    "ExecuteTime": {
     "start_time": "2021-02-18T17:27:15.662Z"
    }
   },
   "outputs": [],
   "source": [
    "print(nrl.sensors[manufacturer][sensor])\n",
    "\n",
    "sensitivity = input(\"\\nChoose sensitivity: \");print(\"\\n_______________________________\")\n"
   ]
  },
  {
   "cell_type": "code",
   "execution_count": null,
   "metadata": {
    "ExecuteTime": {
     "start_time": "2021-02-18T17:27:16.238Z"
    }
   },
   "outputs": [],
   "source": [
    "print(nrl.sensors[manufacturer][sensor][sensitivity])\n",
    "\n",
    "\n",
    "generation = input(\"\\nChoose generation: \");print(\"\\n_______________________________\")"
   ]
  },
  {
   "cell_type": "code",
   "execution_count": null,
   "metadata": {
    "ExecuteTime": {
     "start_time": "2021-02-18T17:27:17.587Z"
    }
   },
   "outputs": [],
   "source": [
    "nrl.sensors[manufacturer][sensor][sensitivity][generation]"
   ]
  },
  {
   "cell_type": "code",
   "execution_count": 3,
   "metadata": {
    "ExecuteTime": {
     "end_time": "2021-02-18T17:31:31.555829Z",
     "start_time": "2021-02-18T17:31:25.820695Z"
    }
   },
   "outputs": [
    {
     "name": "stdout",
     "output_type": "stream",
     "text": [
      "Select the datalogger manufacturer (25 items):\n",
      "  'Agecodagis', 'DAQ Systems (NetDAS)',\n",
      "  'DTCC (manufacturers of SmartSolo', 'DiGOS/Omnirecs', 'EQMet',\n",
      "  'Earth Data', 'Eentec', 'GEObit', 'Gem', 'Generic', 'GeoSIG',\n",
      "  'Geodevice', 'Geotech', 'Guralp', 'Kinemetrics', 'Lunitek',\n",
      "  'Magseis Fairfield', 'Nanometrics', 'Quanterra', 'R-Sensors',\n",
      "  'REF TEK', 'Raspberry Shake (formerly OSOP)', 'Seismic Source',\n",
      "  'Sercel', 'SolGeo'\n",
      "\n",
      "Choose datalogger: REF TEK\n",
      "\n",
      "_______________________________\n"
     ]
    }
   ],
   "source": [
    "print(nrl.dataloggers)\n",
    "\n",
    "datalogger = input(\"\\nChoose datalogger: \");print(\"\\n_______________________________\")"
   ]
  },
  {
   "cell_type": "code",
   "execution_count": 4,
   "metadata": {
    "ExecuteTime": {
     "end_time": "2021-02-18T17:31:38.894604Z",
     "start_time": "2021-02-18T17:31:33.074729Z"
    }
   },
   "outputs": [
    {
     "name": "stdout",
     "output_type": "stream",
     "text": [
      "Select the REF TEK model (6 items):\n",
      "  'RT 125 & 125A', 'RT 130 & 130-SMA', 'RT 130S & 130-SMHR',\n",
      "  'RT 72A-06', 'RT 72A-07', 'RT 72A-08'\n",
      "\n",
      "Choose datalogger model: RT 130 & 130-SMA\n",
      "\n",
      "_______________________________\n"
     ]
    }
   ],
   "source": [
    "print(nrl.dataloggers[datalogger])\n",
    "\n",
    "model = input(\"\\nChoose datalogger model: \");print(\"\\n_______________________________\")"
   ]
  },
  {
   "cell_type": "code",
   "execution_count": 5,
   "metadata": {
    "ExecuteTime": {
     "end_time": "2021-02-18T17:31:43.527391Z",
     "start_time": "2021-02-18T17:31:40.169906Z"
    }
   },
   "outputs": [
    {
     "name": "stdout",
     "output_type": "stream",
     "text": [
      "Select the preamplifier gain setting (2 items):\n",
      "  '1', '32'\n",
      "\n",
      "Choose datalogger gain: 1\n",
      "\n",
      "_______________________________\n"
     ]
    }
   ],
   "source": [
    "print(nrl.dataloggers[datalogger][model])\n",
    "\n",
    "gain = input(\"\\nChoose datalogger gain: \");print(\"\\n_______________________________\")"
   ]
  },
  {
   "cell_type": "code",
   "execution_count": 6,
   "metadata": {
    "ExecuteTime": {
     "end_time": "2021-02-18T17:31:55.609771Z",
     "start_time": "2021-02-18T17:31:47.800779Z"
    }
   },
   "outputs": [
    {
     "name": "stdout",
     "output_type": "stream",
     "text": [
      "Select the sample rate in samples per second for this channel (13 items):\n",
      "  '1', '10', '100', '1000', '125', '20', '200', '25', '250', '40', '5'\n",
      "  '50', '500'\n",
      "\n",
      "Choose datalogger sampling rate: 5\n",
      "\n",
      "_______________________________\n"
     ]
    }
   ],
   "source": [
    "print(nrl.dataloggers[datalogger][model][gain])\n",
    "\n",
    "sampling_rate = input(\"\\nChoose datalogger sampling rate: \");print(\"\\n_______________________________\")"
   ]
  },
  {
   "cell_type": "code",
   "execution_count": 7,
   "metadata": {
    "ExecuteTime": {
     "end_time": "2021-02-18T17:31:58.376038Z",
     "start_time": "2021-02-18T17:31:58.371038Z"
    }
   },
   "outputs": [
    {
     "name": "stdout",
     "output_type": "stream",
     "text": [
      "('RT130, gain 1, 5 sps', 'http://ds.iris.edu/NRL/dataloggers/reftek/RESP.XX.NR002..MHZ.130.1.5')\n"
     ]
    }
   ],
   "source": [
    "print(nrl.dataloggers[datalogger][model][gain][sampling_rate])"
   ]
  },
  {
   "cell_type": "code",
   "execution_count": 8,
   "metadata": {
    "ExecuteTime": {
     "end_time": "2021-02-18T17:32:05.218975Z",
     "start_time": "2021-02-18T17:32:05.202460Z"
    }
   },
   "outputs": [
    {
     "data": {
      "text/plain": [
       "['REF TEK', 'RT 130 & 130-SMA', '1', '5']"
      ]
     },
     "execution_count": 8,
     "metadata": {},
     "output_type": "execute_result"
    }
   ],
   "source": [
    "[datalogger, model, gain, sampling_rate]"
   ]
  },
  {
   "cell_type": "code",
   "execution_count": 13,
   "metadata": {
    "ExecuteTime": {
     "end_time": "2021-02-18T17:33:44.158029Z",
     "start_time": "2021-02-18T17:33:44.124108Z"
    }
   },
   "outputs": [
    {
     "ename": "KeyError",
     "evalue": "1",
     "output_type": "error",
     "traceback": [
      "\u001b[0;31m---------------------------------------------------------------------------\u001b[0m",
      "\u001b[0;31mKeyError\u001b[0m                                  Traceback (most recent call last)",
      "\u001b[0;32m<ipython-input-13-eff225e877ec>\u001b[0m in \u001b[0;36m<module>\u001b[0;34m\u001b[0m\n\u001b[1;32m      1\u001b[0m response = nrl.get_response(\n\u001b[1;32m      2\u001b[0m     \u001b[0mdatalogger_keys\u001b[0m\u001b[0;34m=\u001b[0m\u001b[0;34m[\u001b[0m\u001b[0mdatalogger\u001b[0m\u001b[0;34m,\u001b[0m \u001b[0mmodel\u001b[0m\u001b[0;34m,\u001b[0m \u001b[0mgain\u001b[0m\u001b[0;34m,\u001b[0m \u001b[0msampling_rate\u001b[0m\u001b[0;34m]\u001b[0m\u001b[0;34m,\u001b[0m\u001b[0;34m\u001b[0m\u001b[0;34m\u001b[0m\u001b[0m\n\u001b[0;32m----> 3\u001b[0;31m     \u001b[0msensor_keys\u001b[0m\u001b[0;34m=\u001b[0m\u001b[0;34m[\u001b[0m\u001b[0;34m]\u001b[0m\u001b[0;34m\u001b[0m\u001b[0;34m\u001b[0m\u001b[0m\n\u001b[0m\u001b[1;32m      4\u001b[0m     )\n",
      "\u001b[0;32m~/anaconda3/envs/obs/lib/python3.7/site-packages/obspy/clients/nrl/client.py\u001b[0m in \u001b[0;36mget_response\u001b[0;34m(self, datalogger_keys, sensor_keys)\u001b[0m\n\u001b[1;32m    212\u001b[0m         \"\"\"\n\u001b[1;32m    213\u001b[0m         \u001b[0mdl_resp\u001b[0m \u001b[0;34m=\u001b[0m \u001b[0mself\u001b[0m\u001b[0;34m.\u001b[0m\u001b[0mget_datalogger_response\u001b[0m\u001b[0;34m(\u001b[0m\u001b[0mdatalogger_keys\u001b[0m\u001b[0;34m)\u001b[0m\u001b[0;34m\u001b[0m\u001b[0;34m\u001b[0m\u001b[0m\n\u001b[0;32m--> 214\u001b[0;31m         \u001b[0msensor_resp\u001b[0m \u001b[0;34m=\u001b[0m \u001b[0mself\u001b[0m\u001b[0;34m.\u001b[0m\u001b[0mget_sensor_response\u001b[0m\u001b[0;34m(\u001b[0m\u001b[0msensor_keys\u001b[0m\u001b[0;34m)\u001b[0m\u001b[0;34m\u001b[0m\u001b[0;34m\u001b[0m\u001b[0m\n\u001b[0m\u001b[1;32m    215\u001b[0m \u001b[0;34m\u001b[0m\u001b[0m\n\u001b[1;32m    216\u001b[0m         \u001b[0;31m# Combine both by replace stage one in the data logger with stage\u001b[0m\u001b[0;34m\u001b[0m\u001b[0;34m\u001b[0m\u001b[0;34m\u001b[0m\u001b[0m\n",
      "\u001b[0;32m~/anaconda3/envs/obs/lib/python3.7/site-packages/obspy/clients/nrl/client.py\u001b[0m in \u001b[0;36mget_sensor_response\u001b[0;34m(self, sensor_keys)\u001b[0m\n\u001b[1;32m    176\u001b[0m \u001b[0;34m\u001b[0m\u001b[0m\n\u001b[1;32m    177\u001b[0m         \u001b[0;31m# Parse to an inventory object and return a response object.\u001b[0m\u001b[0;34m\u001b[0m\u001b[0;34m\u001b[0m\u001b[0;34m\u001b[0m\u001b[0m\n\u001b[0;32m--> 178\u001b[0;31m         \u001b[0;32mwith\u001b[0m \u001b[0mio\u001b[0m\u001b[0;34m.\u001b[0m\u001b[0mBytesIO\u001b[0m\u001b[0;34m(\u001b[0m\u001b[0mself\u001b[0m\u001b[0;34m.\u001b[0m\u001b[0m_read_resp\u001b[0m\u001b[0;34m(\u001b[0m\u001b[0msensor\u001b[0m\u001b[0;34m[\u001b[0m\u001b[0;36m1\u001b[0m\u001b[0;34m]\u001b[0m\u001b[0;34m)\u001b[0m\u001b[0;34m.\u001b[0m\u001b[0mencode\u001b[0m\u001b[0;34m(\u001b[0m\u001b[0;34m)\u001b[0m\u001b[0;34m)\u001b[0m \u001b[0;32mas\u001b[0m \u001b[0mbuf\u001b[0m\u001b[0;34m:\u001b[0m\u001b[0;34m\u001b[0m\u001b[0;34m\u001b[0m\u001b[0m\n\u001b[0m\u001b[1;32m    179\u001b[0m             \u001b[0mbuf\u001b[0m\u001b[0;34m.\u001b[0m\u001b[0mseek\u001b[0m\u001b[0;34m(\u001b[0m\u001b[0;36m0\u001b[0m\u001b[0;34m,\u001b[0m \u001b[0;36m0\u001b[0m\u001b[0;34m)\u001b[0m\u001b[0;34m\u001b[0m\u001b[0;34m\u001b[0m\u001b[0m\n\u001b[1;32m    180\u001b[0m             \u001b[0;32mreturn\u001b[0m \u001b[0mobspy\u001b[0m\u001b[0;34m.\u001b[0m\u001b[0mread_inventory\u001b[0m\u001b[0;34m(\u001b[0m\u001b[0mbuf\u001b[0m\u001b[0;34m,\u001b[0m \u001b[0mformat\u001b[0m\u001b[0;34m=\u001b[0m\u001b[0;34m\"RESP\"\u001b[0m\u001b[0;34m)\u001b[0m\u001b[0;34m[\u001b[0m\u001b[0;36m0\u001b[0m\u001b[0;34m]\u001b[0m\u001b[0;34m[\u001b[0m\u001b[0;36m0\u001b[0m\u001b[0;34m]\u001b[0m\u001b[0;34m[\u001b[0m\u001b[0;36m0\u001b[0m\u001b[0;34m]\u001b[0m\u001b[0;34m.\u001b[0m\u001b[0mresponse\u001b[0m\u001b[0;34m\u001b[0m\u001b[0;34m\u001b[0m\u001b[0m\n",
      "\u001b[0;32m~/anaconda3/envs/obs/lib/python3.7/site-packages/obspy/clients/nrl/client.py\u001b[0m in \u001b[0;36m__getitem__\u001b[0;34m(self, name)\u001b[0m\n\u001b[1;32m    252\u001b[0m \u001b[0;34m\u001b[0m\u001b[0m\n\u001b[1;32m    253\u001b[0m     \u001b[0;32mdef\u001b[0m \u001b[0m__getitem__\u001b[0m\u001b[0;34m(\u001b[0m\u001b[0mself\u001b[0m\u001b[0;34m,\u001b[0m \u001b[0mname\u001b[0m\u001b[0;34m)\u001b[0m\u001b[0;34m:\u001b[0m\u001b[0;34m\u001b[0m\u001b[0;34m\u001b[0m\u001b[0m\n\u001b[0;32m--> 254\u001b[0;31m         \u001b[0mvalue\u001b[0m \u001b[0;34m=\u001b[0m \u001b[0msuper\u001b[0m\u001b[0;34m(\u001b[0m\u001b[0mNRLDict\u001b[0m\u001b[0;34m,\u001b[0m \u001b[0mself\u001b[0m\u001b[0;34m)\u001b[0m\u001b[0;34m.\u001b[0m\u001b[0m__getitem__\u001b[0m\u001b[0;34m(\u001b[0m\u001b[0mname\u001b[0m\u001b[0;34m)\u001b[0m\u001b[0;34m\u001b[0m\u001b[0;34m\u001b[0m\u001b[0m\n\u001b[0m\u001b[1;32m    255\u001b[0m         \u001b[0;31m# if encountering a not yet parsed NRL Path, expand it now\u001b[0m\u001b[0;34m\u001b[0m\u001b[0;34m\u001b[0m\u001b[0;34m\u001b[0m\u001b[0m\n\u001b[1;32m    256\u001b[0m         \u001b[0;32mif\u001b[0m \u001b[0misinstance\u001b[0m\u001b[0;34m(\u001b[0m\u001b[0mvalue\u001b[0m\u001b[0;34m,\u001b[0m \u001b[0mNRLPath\u001b[0m\u001b[0;34m)\u001b[0m\u001b[0;34m:\u001b[0m\u001b[0;34m\u001b[0m\u001b[0;34m\u001b[0m\u001b[0m\n",
      "\u001b[0;31mKeyError\u001b[0m: 1"
     ]
    }
   ],
   "source": [
    "response = nrl.get_response(\n",
    "    datalogger_keys=[datalogger, model, gain, sampling_rate],\n",
    "    sensor_keys=[]\n",
    "    )"
   ]
  },
  {
   "cell_type": "code",
   "execution_count": 14,
   "metadata": {
    "ExecuteTime": {
     "end_time": "2021-02-18T17:33:45.505017Z",
     "start_time": "2021-02-18T17:33:45.495668Z"
    }
   },
   "outputs": [
    {
     "ename": "NameError",
     "evalue": "name 'response' is not defined",
     "output_type": "error",
     "traceback": [
      "\u001b[0;31m---------------------------------------------------------------------------\u001b[0m",
      "\u001b[0;31mNameError\u001b[0m                                 Traceback (most recent call last)",
      "\u001b[0;32m<ipython-input-14-a4f0f897bdff>\u001b[0m in \u001b[0;36m<module>\u001b[0;34m\u001b[0m\n\u001b[0;32m----> 1\u001b[0;31m \u001b[0mresponse\u001b[0m\u001b[0;34m.\u001b[0m\u001b[0mplot\u001b[0m\u001b[0;34m(\u001b[0m\u001b[0;36m0.001\u001b[0m\u001b[0;34m)\u001b[0m\u001b[0;34m;\u001b[0m\u001b[0;34m\u001b[0m\u001b[0;34m\u001b[0m\u001b[0m\n\u001b[0m",
      "\u001b[0;31mNameError\u001b[0m: name 'response' is not defined"
     ]
    }
   ],
   "source": [
    "response.plot(0.001);"
   ]
  },
  {
   "cell_type": "markdown",
   "metadata": {},
   "source": [
    "### Prepare Writing XML-File"
   ]
  },
  {
   "cell_type": "code",
   "execution_count": null,
   "metadata": {
    "ExecuteTime": {
     "end_time": "2021-02-16T13:00:46.919948Z",
     "start_time": "2021-02-16T13:00:23.419570Z"
    }
   },
   "outputs": [],
   "source": [
    "net = input(\"\\nEnter network: \");print(\"\\n_______________________________\")\n",
    "\n",
    "sta = input(\"\\nEnter station name: \");print(\"\\n_______________________________\")\n",
    "\n",
    "site_name = input(\"\\nEnter site name: \");print(\"\\n_______________________________\")\n",
    "\n",
    "serial_number = input(\"\\nEnter serial number: \");print(\"\\n_______________________________\")\n",
    "\n",
    "outpath = input(\"\\nEnter path of output file: \");print(\"\\n_______________________________\")\n",
    "\n",
    "location = input(\"\\nSpecify location (y/n)? \")\n",
    "\n",
    "if location == \"y\" or location == \"yes\":\n",
    "    lat = input(\"Enter latitude: \")\n",
    "    lon = input(\"Enter longitude: \")\n",
    "    ele = input(\"Enter elevation: \")\n",
    "    \n",
    "else:\n",
    "    lat, lon, ele = 0.0, 0.0, 0.0\n",
    "\n",
    "outfile = f\"{serial_number}_{sta}.xml\""
   ]
  },
  {
   "cell_type": "code",
   "execution_count": null,
   "metadata": {
    "ExecuteTime": {
     "end_time": "2021-02-16T13:00:50.040739Z",
     "start_time": "2021-02-16T13:00:50.033738Z"
    }
   },
   "outputs": [],
   "source": [
    "channel1 = Channel(code='HHZ', \n",
    "                   location_code='', \n",
    "                   latitude=lat, \n",
    "                   longitude=lon,\n",
    "                   elevation=ele, \n",
    "                   depth=0,\n",
    "#                    azimuth=0,\n",
    "#                    dip=-90,\n",
    "                   sample_rate=sampling_rate,\n",
    "                   response=response,\n",
    "                  )\n",
    "\n",
    "channel2 = Channel(code='HHN', \n",
    "                   location_code='', \n",
    "                   latitude=lat, \n",
    "                   longitude=lon,\n",
    "                   elevation=ele, \n",
    "                   depth=0,\n",
    "#                    azimuth=0,\n",
    "#                    dip=0,\n",
    "                   sample_rate=sampling_rate,\n",
    "                   response=response,\n",
    "                  )\n",
    "\n",
    "channel3 = Channel(code='HHE', \n",
    "                   location_code='', \n",
    "                   latitude=lat, \n",
    "                   longitude=lon,\n",
    "                   elevation=ele, \n",
    "                   depth=0,\n",
    "#                    azimuth=90,\n",
    "#                    dip=0,\n",
    "                   sample_rate=sampling_rate,\n",
    "                   response=response,\n",
    "                  )"
   ]
  },
  {
   "cell_type": "code",
   "execution_count": null,
   "metadata": {
    "ExecuteTime": {
     "end_time": "2021-02-16T14:38:55.438654Z",
     "start_time": "2021-02-16T14:38:55.402686Z"
    }
   },
   "outputs": [],
   "source": [
    "site = Site(name=site_name)\n",
    "\n",
    "\n",
    "station = Station(code=sta, \n",
    "                  latitude=lat, \n",
    "                  longitude=lon,\n",
    "                  elevation=ele,\n",
    "                  channels=[channel1,channel2,channel3],\n",
    "                  site=site,\n",
    "                 )\n",
    "\n",
    "network = Network(code=net,\n",
    "                  stations=[station],\n",
    "                 )\n",
    "\n",
    "\n",
    "inv = Inventory(networks=[network], \n",
    "                source='LMU',\n",
    "               )\n",
    "\n",
    "\n",
    "if outpath[-1] == \"/\":\n",
    "    outpath = outpath[:-1]\n",
    "\n",
    "inv.write(f\"{outpath}/{outfile}\", \n",
    "          format='STATIONXML',\n",
    "         )"
   ]
  },
  {
   "cell_type": "code",
   "execution_count": null,
   "metadata": {
    "ExecuteTime": {
     "end_time": "2021-02-16T13:05:32.746751Z",
     "start_time": "2021-02-16T13:05:32.723648Z"
    }
   },
   "outputs": [],
   "source": [
    "try:\n",
    "    read_inventory(f\"{outpath}/{outfile}\")\n",
    "    print(\"\\n DONE\")\n",
    "except:\n",
    "    print(\"\\n Something went wrong! File: {outpath}/{outfile} could not be loaded!\")"
   ]
  },
  {
   "cell_type": "code",
   "execution_count": null,
   "metadata": {
    "ExecuteTime": {
     "end_time": "2021-02-16T14:39:24.218064Z",
     "start_time": "2021-02-16T14:39:24.211354Z"
    }
   },
   "outputs": [],
   "source": [
    "import sys\n",
    "sys.exit(1)"
   ]
  },
  {
   "cell_type": "code",
   "execution_count": null,
   "metadata": {
    "ExecuteTime": {
     "end_time": "2021-02-16T12:39:51.278016Z",
     "start_time": "2021-02-16T12:39:49.966879Z"
    },
    "scrolled": true
   },
   "outputs": [],
   "source": [
    "# compare with existing info in Jane\n",
    "client = FDSNClient('LMU')\n",
    "inv2 = client.get_stations(station='BE1', channel='HHZ', level='response')\n",
    "response2 = inv2[0][0][0].response\n",
    "response2.plot(0.001)\n",
    "print(response2)"
   ]
  },
  {
   "cell_type": "markdown",
   "metadata": {},
   "source": [
    "### Station Metadata Definitions"
   ]
  },
  {
   "cell_type": "code",
   "execution_count": null,
   "metadata": {
    "ExecuteTime": {
     "end_time": "2021-02-16T14:36:34.943138Z",
     "start_time": "2021-02-16T14:36:34.937542Z"
    }
   },
   "outputs": [],
   "source": [
    "# could be stored in some ASCII file instead for convenience\n",
    "\n",
    "# station line:\n",
    "# 1. station code\n",
    "# 2. latitude\n",
    "# 3. longitude\n",
    "# 4. elevation\n",
    "# 5. site description\n",
    "#  ... could be extended, see StationXML. e.g. site, vault, geology,\n",
    "#      contact person, description, comments etc.\n",
    "\n",
    "# channel line:  (if lon/lat/elevation changes: new station epoch!)\n",
    "# 1. location code (e.g. '', '00')\n",
    "# 2. stream label (e.g. 'HH', 'EH')\n",
    "# 3. components\n",
    "# 4. azimuths (e.g. '0,0,90' or 'None' for perfect ZNE orientation) \n",
    "# 5. start time\n",
    "# 6. end time\n",
    "# 7. depth\n",
    "# 8. sampling rate\n",
    "# 9. response lookup key\n",
    "#  ... could be extended, also needs means to specify orientation e.g. \n",
    "data = \"\"\"BW\n",
    " BE1 48.0 12.0 500.0 WbH Monatshausen, Bernried, Bavaria, Germany\n",
    "  None HH ZNE None 2010-01-01 None 0.0 200.0 RT130-1-200_TRC120s\n",
    "\"\"\"\n",
    "response_lookup = \"\"\"RT130-1-200_TRC120s NRL ['REF TEK', 'RT 130 & 130-SMA', '1', '200'] ['Nanometrics', 'Trillium Compact 120 (Vault, Posthole, OBS)', '754 V/m/s']\n",
    "\"\"\"\n",
    "data"
   ]
  },
  {
   "cell_type": "code",
   "execution_count": null,
   "metadata": {
    "ExecuteTime": {
     "end_time": "2021-02-16T14:37:33.390856Z",
     "start_time": "2021-02-16T14:37:33.385584Z"
    }
   },
   "outputs": [],
   "source": [
    "data = f\"{net}\\n {sta} {lat} {lon} {ele} {site_name}\\n {None} {sta[:2]} {'ZNE'} {None} {'2021-02-10'} {None} {0.0} {sampling_rate} {'RT130-1-200_TRC120s'}\\n\"\n",
    "data\n",
    "\n",
    "response_lookup = \"\"\"RT130-1-200_TRC120s NRL ['REF TEK', 'RT 130 & 130-SMA', '1', '200'] ['Nanometrics', 'Trillium Compact 120 (Vault, Posthole, OBS)', '754 V/m/s']\n",
    "\"\"\""
   ]
  },
  {
   "cell_type": "code",
   "execution_count": null,
   "metadata": {
    "ExecuteTime": {
     "end_time": "2021-02-16T14:35:30.895756Z",
     "start_time": "2021-02-16T14:35:30.889087Z"
    },
    "code_folding": [
     1
    ]
   },
   "outputs": [],
   "source": [
    "\n",
    "def parse_response(line):\n",
    "    key, type_, data = line.split(None, 2)\n",
    "    if type_ == 'NRL':\n",
    "        match = re.search(r'\\[([^\\]]*)\\] \\[([^\\]]*)\\]', data)\n",
    "        args = []\n",
    "        for group in match.groups():\n",
    "            keys = re.findall(r\"'([^']*)'\", group)\n",
    "            args.append(keys)\n",
    "        response = nrl.get_response(*args)\n",
    "    else:\n",
    "        raise NotImplementedError()\n",
    "    return key, response\n"
   ]
  },
  {
   "cell_type": "code",
   "execution_count": null,
   "metadata": {
    "ExecuteTime": {
     "end_time": "2021-02-16T14:35:31.126552Z",
     "start_time": "2021-02-16T14:35:31.119424Z"
    },
    "code_folding": [
     1
    ]
   },
   "outputs": [],
   "source": [
    "\n",
    "def add_station(network, line):\n",
    "    \n",
    "    parts = line.split(None, 4)\n",
    "    code, lat, lon, elevation, site_description = parts\n",
    "    lat = float(lat)\n",
    "    lon = float(lon)\n",
    "    elevation = float(elevation)\n",
    "    site = Site(name=site_description)\n",
    "    \n",
    "    sta = Station(code=code, latitude=lat, longitude=lon, elevation=elevation,\n",
    "                  channels=[], site=site)\n",
    "    network.stations.append(sta)\n",
    "\n",
    "    return sta\n"
   ]
  },
  {
   "cell_type": "code",
   "execution_count": null,
   "metadata": {
    "ExecuteTime": {
     "end_time": "2021-02-16T14:36:03.467121Z",
     "start_time": "2021-02-16T14:36:03.457897Z"
    },
    "code_folding": [
     1
    ]
   },
   "outputs": [],
   "source": [
    "\n",
    "def add_channels(station, line):\n",
    "    parts = line.split()\n",
    "    loc, stream_label, components, azims, start, end, depth, sampling_rate, resp_key = parts\n",
    "    if loc == 'None':\n",
    "        loc = ''\n",
    "    if azims == 'None':\n",
    "        azi1 = 0\n",
    "        azi2 = 0\n",
    "        azi3 = 90\n",
    "    start = UTCDateTime(start)\n",
    "    if end == 'None':\n",
    "        end = None\n",
    "    else:\n",
    "        end = UTCDateTime(end)\n",
    "    depth = float(depth)\n",
    "    sampling_rate = float(sampling_rate)\n",
    "    response = responses[resp_key]\n",
    "    for component, azi, dip in zip(components, (azi1, azi2, azi3), (-90, 0, 0)):\n",
    "        cha = Channel(\n",
    "            code=stream_label + component, location_code=loc, start_date=start, end_date=end,\n",
    "            latitude=station.latitude, longitude=station.longitude, elevation=station.elevation,\n",
    "            depth=depth, azimuth=azi, dip=dip, sample_rate=sampling_rate, response=response)\n",
    "        station.channels.append(cha)\n",
    "        # update station epoch times\n",
    "        if station.start_date is None:\n",
    "            station.start_date = cha.start_date\n",
    "        else:\n",
    "            station.start_date = min(station.start_date, cha.start_date)\n",
    "        if station.end_date is None:\n",
    "            station.end_date = cha.end_date\n",
    "        else:\n",
    "            station.end_date = max(station.end_date, cha.end_date)\n"
   ]
  },
  {
   "cell_type": "code",
   "execution_count": null,
   "metadata": {
    "ExecuteTime": {
     "end_time": "2021-02-16T14:36:20.342312Z",
     "start_time": "2021-02-16T14:36:17.833659Z"
    },
    "code_folding": []
   },
   "outputs": [],
   "source": [
    "# set up all responses\n",
    "responses = {}\n",
    "\n",
    "for line in response_lookup.splitlines():\n",
    "    key, response = parse_response(line)\n",
    "    responses[key] = response"
   ]
  },
  {
   "cell_type": "code",
   "execution_count": null,
   "metadata": {
    "ExecuteTime": {
     "end_time": "2021-02-16T11:35:58.410563Z",
     "start_time": "2021-02-16T11:35:58.403582Z"
    }
   },
   "outputs": [],
   "source": [
    "# assemble all epochs\n",
    "\n",
    "inventory = Inventory(networks=[], source='EDB')\n",
    "\n",
    "lines = data.splitlines()\n",
    "network = None\n",
    "station = None\n",
    "\n",
    "while lines:\n",
    "    line = lines.pop(0)\n",
    "    if line.startswith('  '):\n",
    "        add_channels(station, line)\n",
    "    elif line.startswith(' '):\n",
    "        station = add_station(network, line)\n",
    "    else:\n",
    "        network = Network(code=line, stations=[])\n",
    "        inventory.networks.append(network)"
   ]
  },
  {
   "cell_type": "code",
   "execution_count": null,
   "metadata": {},
   "outputs": [],
   "source": [
    "inventory.write('/tmp/example_stationxml_inventory.xml', format='STATIONXML')"
   ]
  },
  {
   "cell_type": "code",
   "execution_count": null,
   "metadata": {},
   "outputs": [],
   "source": []
  }
 ],
 "metadata": {
  "kernelspec": {
   "display_name": "Python 3",
   "language": "python",
   "name": "python3"
  },
  "language_info": {
   "codemirror_mode": {
    "name": "ipython",
    "version": 3
   },
   "file_extension": ".py",
   "mimetype": "text/x-python",
   "name": "python",
   "nbconvert_exporter": "python",
   "pygments_lexer": "ipython3",
   "version": "3.7.8"
  }
 },
 "nbformat": 4,
 "nbformat_minor": 2
}
