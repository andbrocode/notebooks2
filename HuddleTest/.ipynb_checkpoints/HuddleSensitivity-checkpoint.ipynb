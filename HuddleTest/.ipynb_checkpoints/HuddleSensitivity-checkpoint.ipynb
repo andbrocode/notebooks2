{
 "cells": [
  {
   "cell_type": "markdown",
   "id": "aboriginal-journal",
   "metadata": {
    "ExecuteTime": {
     "end_time": "2021-02-19T12:14:13.238049Z",
     "start_time": "2021-02-19T12:14:13.231795Z"
    }
   },
   "source": [
    "# Huddle Test - Sensitivity Matrix"
   ]
  },
  {
   "cell_type": "markdown",
   "id": "silver-sugar",
   "metadata": {},
   "source": [
    "### Import Libraries"
   ]
  },
  {
   "cell_type": "code",
   "execution_count": 1,
   "id": "bacterial-module",
   "metadata": {
    "ExecuteTime": {
     "end_time": "2021-02-24T12:58:16.970348Z",
     "start_time": "2021-02-24T12:58:15.862778Z"
    }
   },
   "outputs": [],
   "source": [
    "import os, sys\n",
    "import shutil\n",
    "import numpy as np\n",
    "import matplotlib.pyplot as plt\n",
    "\n",
    "from matplotlib import cm\n",
    "from matplotlib.patches import Rectangle\n",
    "from obspy import UTCDateTime, read, read_inventory\n",
    "from obspy.clients.filesystem.sds import Client\n",
    "from obspy.io.xseed import Parser\n",
    "from obspy.signal import PPSD\n",
    "from obspy.core.stream import Stream\n",
    "from obspy.signal.util import next_pow_2\n",
    "from obspy.signal.invsim import simulate_seismometer as seisSim\n",
    "from obspy.core import AttribDict\n",
    "from obspy.core.inventory import Inventory\n"
   ]
  },
  {
   "cell_type": "markdown",
   "id": "included-grounds",
   "metadata": {},
   "source": [
    "### Define Functions "
   ]
  },
  {
   "cell_type": "code",
   "execution_count": 2,
   "id": "terminal-brooks",
   "metadata": {
    "ExecuteTime": {
     "end_time": "2021-02-24T12:58:16.982562Z",
     "start_time": "2021-02-24T12:58:16.973523Z"
    },
    "code_folding": []
   },
   "outputs": [],
   "source": [
    "\n",
    "def __calib_stream(st0, inv, path_to_xml, frange):  \n",
    "    \n",
    "    if path_to_xml[-1] == \"/\":\n",
    "        path_to_xml = path_to_xml[:-1]\n",
    "    \n",
    "    st = st0.copy() # work on copy\n",
    "    \n",
    "    st.detrend('demean') # needed because submitted data may be sliced from longer (demeaned) original\n",
    "    \n",
    "    # remove poles and zeros ## but NOT sensitivity ## and replace data with its spectrum\n",
    "    NPTS = max([tr.stats.npts for tr in st])\n",
    "\n",
    "    nfft = next_pow_2(NPTS)\n",
    "\n",
    "    freqs = np.fft.fftfreq(nfft, st[0].stats.delta)[:int(nfft/2+1)] # only real frequencies\n",
    "    \n",
    "    freqs[-1] = np.abs(freqs[-1]) # max frequency should be positive\n",
    "\n",
    "    for tr in st:\n",
    "        \n",
    "        ## read local response file \n",
    "        inv = read_inventory(path_to_xml + \"/\" + tr.stats.station + \".xml\") #response files\n",
    "        \n",
    "        ## extract poles and zeros from response file\n",
    "        r = inv[0][0][0].response.get_paz()\n",
    "        \n",
    "        paz = {'poles': r.poles, 'zeros': r.zeros, 'gain': r.normalization_factor}\n",
    "        \n",
    "        ## simulate response function\n",
    "        tr.simulate(paz_remove=paz, remove_sensitivity=False)\n",
    "        \n",
    "        ## transform back to time domain\n",
    "        tr.data = np.fft.rfft(tr.data, nfft)\n",
    "        \n",
    "        print(tr.stats.station + ' response removed')\n",
    "\n",
    "#     return calib_spec(st, freqs, frange=frange)\n",
    "    return st, freqs, frange\n"
   ]
  },
  {
   "cell_type": "code",
   "execution_count": 3,
   "id": "silent-summit",
   "metadata": {
    "ExecuteTime": {
     "end_time": "2021-02-24T12:58:16.991645Z",
     "start_time": "2021-02-24T12:58:16.985159Z"
    },
    "code_folding": []
   },
   "outputs": [],
   "source": [
    "\n",
    "def __calib_spec(sp, freqs, frange):  #enter frequency range\n",
    "    '''\n",
    "    calibrate relative sensitivity matrix of __SPECTRA__ in Stream object sp\n",
    "\n",
    "    sp:     Stream, contains rfft spectra of traces to be calibrated against each other\n",
    "    freqs:  np.array, frequencies corresponding to samples in Spectra sp\n",
    "\n",
    "    frange: list, frequency range in which the amplitude response of tr and trref will be compared, \n",
    "            commonly around calibration frequency, which is often 1Hz. Thus default is 3s to 3Hz\n",
    "\n",
    "    returns sensitivity matrix\n",
    "            each row is a reference instrument, each column abs(XCORR/ACORR), averaged over frequencies in frange\n",
    "            sensitivity is thus in each row RELATIVE to the reference instrument, i.e. diagonal of matrix = 1\n",
    "    '''\n",
    "\n",
    "    sens = np.zeros((sp.count(), sp.count()))\n",
    "    for i, tr in enumerate(sp):\n",
    "        acorr = tr.data * np.conj(tr.data) # is real, np.all(acorr.imag == 0) is True\n",
    "        for j in range(i, sp.count()):\n",
    "            xcorr = sp[j].data * np.conj(tr.data)\n",
    "            sens[i, j] = np.abs((xcorr/acorr)[np.where(np.logical_and(freqs>min(frange), freqs<max(frange)))]).mean()\n",
    "#           if i != j: sens[j, i] = 1 / sens[i, j] ## fill lower triangle of matrix\n",
    "            if i != j: sens[j, i] = np.nan\n",
    "        \n",
    "    return sens\n"
   ]
  },
  {
   "cell_type": "code",
   "execution_count": 4,
   "id": "conscious-inspiration",
   "metadata": {
    "ExecuteTime": {
     "end_time": "2021-02-24T12:58:17.292339Z",
     "start_time": "2021-02-24T12:58:17.284181Z"
    },
    "code_folding": [
     1
    ]
   },
   "outputs": [],
   "source": [
    "\n",
    "def __load_streams(sensors, s0, s1, workdir, chn):\n",
    "\n",
    "    ## make list with yeardoy strings for loading the data\n",
    "    days = []\n",
    "    for i in range(s0.julday, s1.julday+1):\n",
    "        if i < 10:\n",
    "            i = f\"00{i}\"\n",
    "        elif (i >= 10 and i < 100):\n",
    "            i = f\"0{i}\"\n",
    "        days.append(f'{s0.year}{i}')\n",
    "    \n",
    "    \n",
    "    if workdir[-1] == \"/\":\n",
    "        workdir = workdir[:-1]\n",
    "    \n",
    "    \n",
    "    st_all_sensor_all_days = Stream()\n",
    "\n",
    "    \n",
    "    for sensor in sensors:\n",
    "\n",
    "        net, sta, loc, cha = sensor.split(\".\")\n",
    "        st_one_sensor_all_days = Stream()\n",
    "\n",
    "        cha = chn\n",
    "        for day in days:\n",
    "\n",
    "            year = day[:4]\n",
    "            doy = day[4:]\n",
    "            st_tmp = read(f\"{workdir}/{year}/{net}/{sta}/{cha}.D/{net}.{sta}.{loc}.{cha}.D.{year}.{doy}\")\n",
    "\n",
    "            st_one_sensor_all_days += st_tmp\n",
    "\n",
    "        st_one_sensor_all_days.merge()       \n",
    "        print(st_one_sensor_all_days)\n",
    "        st_all_sensor_all_days += st_one_sensor_all_days\n",
    "        \n",
    "        st_all_sensor_all_days.trim(s0, s1)\n",
    "        \n",
    "    return st_all_sensor_all_days\n"
   ]
  },
  {
   "cell_type": "code",
   "execution_count": 5,
   "id": "automated-slave",
   "metadata": {
    "ExecuteTime": {
     "end_time": "2021-02-24T12:58:17.585157Z",
     "start_time": "2021-02-24T12:58:17.567973Z"
    },
    "code_folding": [
     1
    ]
   },
   "outputs": [],
   "source": [
    "\n",
    "def __plot_matrix(pct, title_str, lbls, fname=None, cmap=plt.get_cmap(), full=False, \n",
    "                      clabel='deviation in spectral amplitude [%]', vmax=None):\n",
    "    '''\n",
    "    plot calibration matrix\n",
    "\n",
    "    pct: np.array, 2D matrix of relative sensitivities (result from calib_stream)\n",
    "    title_str: str, title of figure\n",
    "    lbls: str, x- and y-axis labels\n",
    "\n",
    "    optional:\n",
    "        fname: str, filename of figure to be saved, if 'None' figure will be displayed\n",
    "        cmap: matplotlib.cmap\n",
    "        full: bool, fill up half matrix with inverse values, default: False\n",
    "        clabel: str, colorbar label, what is shown in matrix pct?\n",
    "        vmax: float or None, limit of colorbar or None (default) which determines it automatically from standard deviation\n",
    "    '''\n",
    "    \n",
    "\n",
    "    def __myfmt(a):\n",
    "            if np.log10(abs(a)) > 3: return '%.0e' % a\n",
    "            elif np.log10(abs(a)) >= 0 or np.log10(abs(a)) == -np.inf: return '%i' % a # a>=1 or a=0\n",
    "            elif np.log10(abs(a)) >= -1: return '%.1f' % a \n",
    "            elif np.log10(abs(a)) >= -2: return '%.2f' % a\n",
    "            else: return '%.0e' % a\n",
    "\n",
    "\n",
    "    font = 15\n",
    "    \n",
    "    flip = 0\n",
    "    \n",
    "    if full:\n",
    "        m = pct.copy()\n",
    "        m[np.isnan(m)] = 0.\n",
    "        n = np.triu(1/m,1).T\n",
    "        n[np.isnan(n)] = 0.\n",
    "        pct = n+m\n",
    "\n",
    "    if np.isnan(pct[-1, 0]) or full: \n",
    "        pct = np.flipud(pct) # flip to lower triangle\n",
    "        flip = 1\n",
    "\n",
    "    plt.figure(figsize=(15,10))\n",
    "    \n",
    "    if vmax is None: vmax = min(np.nanstd(pct), 30) # cap to 30%\n",
    "    plt.imshow(pct, origin=\"upper\", interpolation=\"nearest\", cmap=cmap, vmin=-vmax, vmax=vmax)\n",
    "    cb = plt.colorbar(shrink=.8)\n",
    "    cb.set_label(clabel, fontsize=font-1)\n",
    "    \n",
    "    plt.title(title_str, fontsize=font)\n",
    "    plt.xlabel('Instrument ID', fontsize=font)\n",
    "    plt.ylabel('Reference Instrument ID', fontsize=font)\n",
    "\n",
    "    plt.xticks(range(len(lbls)), lbls, rotation=75, ha='center', fontsize=font-2)\n",
    "    plt.yticks(range(len(lbls)), lbls[::-1] if flip else lbls, fontsize=font-2)\n",
    "\n",
    "    ## overlay values\n",
    "    i = np.arange(len(lbls))\n",
    "    x, y = np.meshgrid(i, i)\n",
    "    for k, l in zip(x.flatten(), y.flatten()):\n",
    "        if not np.isnan(pct[l, k]): \n",
    "            plt.text(k, l, __myfmt(pct[l, k]), fontsize=font-2, ha='center', color='w', \n",
    "                     bbox={'pad': 2, 'alpha': .07, 'color': 'k', 'edgecolor': \"none\"}) \n",
    "\n",
    "    ## save or show\n",
    "    if fname is not None: \n",
    "        plt.savefig(fname)\n",
    "        plt.close()\n",
    "    else:\n",
    "        plt.show()\n",
    "\n",
    "    return\n"
   ]
  },
  {
   "cell_type": "code",
   "execution_count": 6,
   "id": "passing-synthetic",
   "metadata": {
    "ExecuteTime": {
     "end_time": "2021-02-24T12:58:17.971340Z",
     "start_time": "2021-02-24T12:58:17.964464Z"
    },
    "code_folding": [
     1
    ]
   },
   "outputs": [],
   "source": [
    "\n",
    "def __get_gain(path, xml_file):\n",
    "\n",
    "    if path[-1] == \"/\":\n",
    "        path = path[:-1]\n",
    "    \n",
    "    ## access response information\n",
    "    r = read_inventory(path+'/'+xml_file)[0][0][2].response\n",
    "    \n",
    "\n",
    "    ## split it up to get gain value (could surely be done more elegant...)\n",
    "#     gain = float(str(r).split(\"\\n\")[4].split(\" \")[8]) * float(str(r).split(\"\\n\")[5].split(\" \")[8]) \n",
    "    \n",
    "    gain = 1\n",
    "    for i in range(4, len(str(r).split(\"\\n\"))):\n",
    "        gain *= float(str(r).split(\"\\n\")[i].split(\" \")[8])\n",
    "\n",
    "    return float(gain)\n"
   ]
  },
  {
   "cell_type": "markdown",
   "id": "listed-cooking",
   "metadata": {},
   "source": [
    "### Configurations"
   ]
  },
  {
   "cell_type": "code",
   "execution_count": 7,
   "id": "beneficial-creator",
   "metadata": {
    "ExecuteTime": {
     "end_time": "2021-02-24T12:58:26.696262Z",
     "start_time": "2021-02-24T12:58:26.690951Z"
    }
   },
   "outputs": [],
   "source": [
    "# ## set paths to data and plots\n",
    "# ##\n",
    "# ## assumed file structure: path - year - network - stations - components - BW.29422..BHE.D.2021.041\n",
    "# ## (e.g.  path - 2021 - BW - 29422 - HHE.D - BW.29422..BHE.D.2021.041)\n",
    "\n",
    "# path = '/home/andbro/Desktop/Huddle_Test/Huddle_Test_1'\n",
    "# path2plot = '/home/andbro/Desktop/Huddle_Test/Huddle_Test_1/plots'\n",
    "\n",
    "\n",
    "# ## time window to analyze data\n",
    "# s0 = UTCDateTime('2021-02-11T00:00:00')\n",
    "# s1 = UTCDateTime('2021-02-12T12:00:00')\n",
    "# # s1 = UTCDateTime('2021-02-11T09:59:59')\n",
    "\n",
    "# ## choose colormap\n",
    "# cmap = cm.seismic\n",
    "\n",
    "# ## change title string\n",
    "# title_str = 'Huddle Test 1'\n",
    "\n",
    "# ##data client\n",
    "# client = Client(sds_root=path)\n",
    "\n",
    "# ## set channels\n",
    "# channels = [\"HHZ\", \"HHN\", \"HHE\"]\n",
    "\n",
    "# ## stations to be included \n",
    "# seed_id_1 = \"BW.29422..HH*\"\n",
    "# seed_id_2 = \"BW.59811..HH*\"\n",
    "# seed_id_3 = \"BW.49507..HH*\"\n",
    "# seed_id_4 = \"BW.horizon..HH*\"\n",
    "\n",
    "# sensors = [seed_id_1, seed_id_2, seed_id_3, seed_id_4]\n",
    "\n",
    "\n",
    "# ## frequency band\n",
    "# f_lower, f_upper = 0.01, 20.0"
   ]
  },
  {
   "cell_type": "code",
   "execution_count": 8,
   "id": "headed-approach",
   "metadata": {
    "ExecuteTime": {
     "end_time": "2021-02-24T12:58:49.287739Z",
     "start_time": "2021-02-24T12:58:49.277815Z"
    }
   },
   "outputs": [],
   "source": [
    "## set paths to data and plots\n",
    "##\n",
    "## assumed file structure: path - year - network - stations - components - BW.29422..BHE.D.2021.041\n",
    "## (e.g.  path - 2021 - BW - 29422 - HHE.D - BW.29422..BHE.D.2021.041)\n",
    "\n",
    "path = '/home/andbro/Desktop/Huddle_Test/Huddle_Test_2'\n",
    "path2plot = '/home/andbro/Desktop/Huddle_Test/Huddle_Test_2/plots'\n",
    "\n",
    "\n",
    "## time window to analyze data\n",
    "s0 = UTCDateTime('2021-02-12T18:00:00')\n",
    "s1 = UTCDateTime('2021-02-14T23:00:00')\n",
    "# s1 = UTCDateTime('2021-02-11T09:59:59')\n",
    "\n",
    "## choose colormap\n",
    "cmap = cm.seismic\n",
    "\n",
    "## change title string\n",
    "title_str = 'Huddle Test 2'\n",
    "\n",
    "##data client\n",
    "client = Client(sds_root=path)\n",
    "\n",
    "## set channels\n",
    "channels = [\"HHZ\", \"HHN\", \"HHE\"]\n",
    "\n",
    "## stations to be included \n",
    "seed_id_1 = \"BW.29422..HH*\"\n",
    "seed_id_2 = \"BW.49510..HH*\"\n",
    "seed_id_3 = \"BW.109610..HH*\"\n",
    "seed_id_4 = \"BW.horizon..HH*\"\n",
    "\n",
    "sensors = [seed_id_1, seed_id_2, seed_id_3, seed_id_4]\n",
    "\n",
    "\n",
    "## frequency band\n",
    "f_lower, f_upper = 0.01, 20.0\n",
    "\n",
    "## Save figure if True, else display it\n",
    "save = True \n"
   ]
  },
  {
   "cell_type": "markdown",
   "id": "south-facility",
   "metadata": {},
   "source": [
    "### Calculations and Plotting"
   ]
  },
  {
   "cell_type": "code",
   "execution_count": 9,
   "id": "lesbian-exercise",
   "metadata": {
    "ExecuteTime": {
     "end_time": "2021-02-24T13:02:36.329060Z",
     "start_time": "2021-02-24T12:58:51.777497Z"
    },
    "code_folding": []
   },
   "outputs": [
    {
     "name": "stdout",
     "output_type": "stream",
     "text": [
      "Processing channel: HHZ\n",
      "\n",
      "reading streams...\n",
      "1 Trace(s) in Stream:\n",
      "BW.29422..HHZ | 2021-02-12T14:38:44.000000Z - 2021-02-14T23:59:59.995000Z | 200.0 Hz, 41295200 samples\n",
      "1 Trace(s) in Stream:\n",
      "BW.49510..HHZ | 2021-02-12T14:42:14.000000Z - 2021-02-14T23:59:59.995000Z | 200.0 Hz, 41253200 samples\n",
      "1 Trace(s) in Stream:\n",
      "BW.10961..HHZ | 2021-02-12T14:42:14.000000Z - 2021-02-14T23:59:59.995000Z | 200.0 Hz, 41253200 samples\n",
      "1 Trace(s) in Stream:\n",
      "BW.HUDD..HHZ | 2021-02-12T00:00:00.000000Z - 2021-02-14T23:59:59.995000Z | 200.0 Hz, 51840000 samples\n",
      "4 Trace(s) in Stream:\n",
      "BW.10961..HHZ | 2021-02-12T18:00:00.000000Z - 2021-02-14T23:00:00.000000Z | 200.0 Hz, 38160001 samples\n",
      "BW.29422..HHZ | 2021-02-12T18:00:00.000000Z - 2021-02-14T23:00:00.000000Z | 200.0 Hz, 38160001 samples\n",
      "BW.49510..HHZ | 2021-02-12T18:00:00.000000Z - 2021-02-14T23:00:00.000000Z | 200.0 Hz, 38160001 samples\n",
      "BW.HUDD..HHZ  | 2021-02-12T18:00:00.000000Z - 2021-02-14T23:00:00.000000Z | 200.0 Hz, 38160001 samples\n",
      "\n",
      "processing t0: 2021-02-12T18:00:00.000000Z\n",
      "10961 response removed\n",
      "29422 response removed\n",
      "49510 response removed\n"
     ]
    },
    {
     "name": "stderr",
     "output_type": "stream",
     "text": [
      "/home/andbro/anaconda3/envs/obs/lib/python3.7/site-packages/obspy/core/inventory/response.py:1895: UserWarning: More than one PolesZerosResponseStage encountered. Returning first one found.\n",
      "  warnings.warn(msg)\n"
     ]
    },
    {
     "name": "stdout",
     "output_type": "stream",
     "text": [
      "HUDD response removed\n",
      "\n",
      "processing t0: 2021-02-12T19:00:00.000000Z\n",
      "10961 response removed\n",
      "29422 response removed\n",
      "49510 response removed\n"
     ]
    },
    {
     "name": "stderr",
     "output_type": "stream",
     "text": [
      "/home/andbro/anaconda3/envs/obs/lib/python3.7/site-packages/obspy/core/inventory/response.py:1895: UserWarning: More than one PolesZerosResponseStage encountered. Returning first one found.\n",
      "  warnings.warn(msg)\n"
     ]
    },
    {
     "name": "stdout",
     "output_type": "stream",
     "text": [
      "HUDD response removed\n",
      "\n",
      "processing t0: 2021-02-12T20:00:00.000000Z\n",
      "10961 response removed\n",
      "29422 response removed\n",
      "49510 response removed\n"
     ]
    },
    {
     "name": "stderr",
     "output_type": "stream",
     "text": [
      "/home/andbro/anaconda3/envs/obs/lib/python3.7/site-packages/obspy/core/inventory/response.py:1895: UserWarning: More than one PolesZerosResponseStage encountered. Returning first one found.\n",
      "  warnings.warn(msg)\n"
     ]
    },
    {
     "name": "stdout",
     "output_type": "stream",
     "text": [
      "HUDD response removed\n",
      "\n",
      "processing t0: 2021-02-12T21:00:00.000000Z\n",
      "10961 response removed\n",
      "29422 response removed\n",
      "49510 response removed\n"
     ]
    },
    {
     "name": "stderr",
     "output_type": "stream",
     "text": [
      "/home/andbro/anaconda3/envs/obs/lib/python3.7/site-packages/obspy/core/inventory/response.py:1895: UserWarning: More than one PolesZerosResponseStage encountered. Returning first one found.\n",
      "  warnings.warn(msg)\n"
     ]
    },
    {
     "name": "stdout",
     "output_type": "stream",
     "text": [
      "HUDD response removed\n",
      "\n",
      "processing t0: 2021-02-12T22:00:00.000000Z\n",
      "10961 response removed\n",
      "29422 response removed\n",
      "49510 response removed\n"
     ]
    },
    {
     "name": "stderr",
     "output_type": "stream",
     "text": [
      "/home/andbro/anaconda3/envs/obs/lib/python3.7/site-packages/obspy/core/inventory/response.py:1895: UserWarning: More than one PolesZerosResponseStage encountered. Returning first one found.\n",
      "  warnings.warn(msg)\n"
     ]
    },
    {
     "name": "stdout",
     "output_type": "stream",
     "text": [
      "HUDD response removed\n",
      "\n",
      "processing t0: 2021-02-12T23:00:00.000000Z\n",
      "10961 response removed\n",
      "29422 response removed\n",
      "49510 response removed\n"
     ]
    },
    {
     "name": "stderr",
     "output_type": "stream",
     "text": [
      "/home/andbro/anaconda3/envs/obs/lib/python3.7/site-packages/obspy/core/inventory/response.py:1895: UserWarning: More than one PolesZerosResponseStage encountered. Returning first one found.\n",
      "  warnings.warn(msg)\n"
     ]
    },
    {
     "name": "stdout",
     "output_type": "stream",
     "text": [
      "HUDD response removed\n",
      "\n",
      "processing t0: 2021-02-13T00:00:00.000000Z\n",
      "10961 response removed\n",
      "29422 response removed\n",
      "49510 response removed\n"
     ]
    },
    {
     "name": "stderr",
     "output_type": "stream",
     "text": [
      "/home/andbro/anaconda3/envs/obs/lib/python3.7/site-packages/obspy/core/inventory/response.py:1895: UserWarning: More than one PolesZerosResponseStage encountered. Returning first one found.\n",
      "  warnings.warn(msg)\n"
     ]
    },
    {
     "name": "stdout",
     "output_type": "stream",
     "text": [
      "HUDD response removed\n",
      "\n",
      "processing t0: 2021-02-13T01:00:00.000000Z\n",
      "10961 response removed\n",
      "29422 response removed\n",
      "49510 response removed\n"
     ]
    },
    {
     "name": "stderr",
     "output_type": "stream",
     "text": [
      "/home/andbro/anaconda3/envs/obs/lib/python3.7/site-packages/obspy/core/inventory/response.py:1895: UserWarning: More than one PolesZerosResponseStage encountered. Returning first one found.\n",
      "  warnings.warn(msg)\n"
     ]
    },
    {
     "name": "stdout",
     "output_type": "stream",
     "text": [
      "HUDD response removed\n",
      "\n",
      "processing t0: 2021-02-13T02:00:00.000000Z\n",
      "10961 response removed\n",
      "29422 response removed\n",
      "49510 response removed\n"
     ]
    },
    {
     "name": "stderr",
     "output_type": "stream",
     "text": [
      "/home/andbro/anaconda3/envs/obs/lib/python3.7/site-packages/obspy/core/inventory/response.py:1895: UserWarning: More than one PolesZerosResponseStage encountered. Returning first one found.\n",
      "  warnings.warn(msg)\n"
     ]
    },
    {
     "name": "stdout",
     "output_type": "stream",
     "text": [
      "HUDD response removed\n",
      "\n",
      "processing t0: 2021-02-13T03:00:00.000000Z\n",
      "10961 response removed\n",
      "29422 response removed\n",
      "49510 response removed\n"
     ]
    },
    {
     "name": "stderr",
     "output_type": "stream",
     "text": [
      "/home/andbro/anaconda3/envs/obs/lib/python3.7/site-packages/obspy/core/inventory/response.py:1895: UserWarning: More than one PolesZerosResponseStage encountered. Returning first one found.\n",
      "  warnings.warn(msg)\n"
     ]
    },
    {
     "name": "stdout",
     "output_type": "stream",
     "text": [
      "HUDD response removed\n",
      "\n",
      "processing t0: 2021-02-13T04:00:00.000000Z\n",
      "10961 response removed\n",
      "29422 response removed\n",
      "49510 response removed\n"
     ]
    },
    {
     "name": "stderr",
     "output_type": "stream",
     "text": [
      "/home/andbro/anaconda3/envs/obs/lib/python3.7/site-packages/obspy/core/inventory/response.py:1895: UserWarning: More than one PolesZerosResponseStage encountered. Returning first one found.\n",
      "  warnings.warn(msg)\n"
     ]
    },
    {
     "name": "stdout",
     "output_type": "stream",
     "text": [
      "HUDD response removed\n",
      "\n",
      "processing t0: 2021-02-13T05:00:00.000000Z\n",
      "10961 response removed\n",
      "29422 response removed\n",
      "49510 response removed\n"
     ]
    },
    {
     "name": "stderr",
     "output_type": "stream",
     "text": [
      "/home/andbro/anaconda3/envs/obs/lib/python3.7/site-packages/obspy/core/inventory/response.py:1895: UserWarning: More than one PolesZerosResponseStage encountered. Returning first one found.\n",
      "  warnings.warn(msg)\n"
     ]
    },
    {
     "name": "stdout",
     "output_type": "stream",
     "text": [
      "HUDD response removed\n",
      "\n",
      "processing t0: 2021-02-13T06:00:00.000000Z\n",
      "10961 response removed\n",
      "29422 response removed\n",
      "49510 response removed\n"
     ]
    },
    {
     "name": "stderr",
     "output_type": "stream",
     "text": [
      "/home/andbro/anaconda3/envs/obs/lib/python3.7/site-packages/obspy/core/inventory/response.py:1895: UserWarning: More than one PolesZerosResponseStage encountered. Returning first one found.\n",
      "  warnings.warn(msg)\n"
     ]
    },
    {
     "name": "stdout",
     "output_type": "stream",
     "text": [
      "HUDD response removed\n",
      "\n",
      "processing t0: 2021-02-13T07:00:00.000000Z\n",
      "10961 response removed\n",
      "29422 response removed\n",
      "49510 response removed\n"
     ]
    },
    {
     "name": "stderr",
     "output_type": "stream",
     "text": [
      "/home/andbro/anaconda3/envs/obs/lib/python3.7/site-packages/obspy/core/inventory/response.py:1895: UserWarning: More than one PolesZerosResponseStage encountered. Returning first one found.\n",
      "  warnings.warn(msg)\n"
     ]
    },
    {
     "name": "stdout",
     "output_type": "stream",
     "text": [
      "HUDD response removed\n",
      "\n",
      "processing t0: 2021-02-13T08:00:00.000000Z\n",
      "10961 response removed\n",
      "29422 response removed\n",
      "49510 response removed\n"
     ]
    },
    {
     "name": "stderr",
     "output_type": "stream",
     "text": [
      "/home/andbro/anaconda3/envs/obs/lib/python3.7/site-packages/obspy/core/inventory/response.py:1895: UserWarning: More than one PolesZerosResponseStage encountered. Returning first one found.\n",
      "  warnings.warn(msg)\n"
     ]
    },
    {
     "name": "stdout",
     "output_type": "stream",
     "text": [
      "HUDD response removed\n",
      "\n",
      "processing t0: 2021-02-13T09:00:00.000000Z\n",
      "10961 response removed\n",
      "29422 response removed\n",
      "49510 response removed\n"
     ]
    },
    {
     "name": "stderr",
     "output_type": "stream",
     "text": [
      "/home/andbro/anaconda3/envs/obs/lib/python3.7/site-packages/obspy/core/inventory/response.py:1895: UserWarning: More than one PolesZerosResponseStage encountered. Returning first one found.\n",
      "  warnings.warn(msg)\n"
     ]
    },
    {
     "name": "stdout",
     "output_type": "stream",
     "text": [
      "HUDD response removed\n",
      "\n",
      "processing t0: 2021-02-13T10:00:00.000000Z\n",
      "10961 response removed\n",
      "29422 response removed\n",
      "49510 response removed\n"
     ]
    },
    {
     "name": "stderr",
     "output_type": "stream",
     "text": [
      "/home/andbro/anaconda3/envs/obs/lib/python3.7/site-packages/obspy/core/inventory/response.py:1895: UserWarning: More than one PolesZerosResponseStage encountered. Returning first one found.\n",
      "  warnings.warn(msg)\n"
     ]
    },
    {
     "name": "stdout",
     "output_type": "stream",
     "text": [
      "HUDD response removed\n",
      "\n",
      "processing t0: 2021-02-13T11:00:00.000000Z\n",
      "10961 response removed\n",
      "29422 response removed\n",
      "49510 response removed\n"
     ]
    },
    {
     "name": "stderr",
     "output_type": "stream",
     "text": [
      "/home/andbro/anaconda3/envs/obs/lib/python3.7/site-packages/obspy/core/inventory/response.py:1895: UserWarning: More than one PolesZerosResponseStage encountered. Returning first one found.\n",
      "  warnings.warn(msg)\n"
     ]
    },
    {
     "name": "stdout",
     "output_type": "stream",
     "text": [
      "HUDD response removed\n",
      "\n",
      "processing t0: 2021-02-13T12:00:00.000000Z\n",
      "10961 response removed\n",
      "29422 response removed\n",
      "49510 response removed\n"
     ]
    },
    {
     "name": "stderr",
     "output_type": "stream",
     "text": [
      "/home/andbro/anaconda3/envs/obs/lib/python3.7/site-packages/obspy/core/inventory/response.py:1895: UserWarning: More than one PolesZerosResponseStage encountered. Returning first one found.\n",
      "  warnings.warn(msg)\n"
     ]
    },
    {
     "name": "stdout",
     "output_type": "stream",
     "text": [
      "HUDD response removed\n",
      "\n",
      "processing t0: 2021-02-13T13:00:00.000000Z\n",
      "10961 response removed\n",
      "29422 response removed\n",
      "49510 response removed\n"
     ]
    },
    {
     "name": "stderr",
     "output_type": "stream",
     "text": [
      "/home/andbro/anaconda3/envs/obs/lib/python3.7/site-packages/obspy/core/inventory/response.py:1895: UserWarning: More than one PolesZerosResponseStage encountered. Returning first one found.\n",
      "  warnings.warn(msg)\n"
     ]
    },
    {
     "name": "stdout",
     "output_type": "stream",
     "text": [
      "HUDD response removed\n",
      "\n",
      "processing t0: 2021-02-13T14:00:00.000000Z\n",
      "10961 response removed\n",
      "29422 response removed\n",
      "49510 response removed\n"
     ]
    },
    {
     "name": "stderr",
     "output_type": "stream",
     "text": [
      "/home/andbro/anaconda3/envs/obs/lib/python3.7/site-packages/obspy/core/inventory/response.py:1895: UserWarning: More than one PolesZerosResponseStage encountered. Returning first one found.\n",
      "  warnings.warn(msg)\n"
     ]
    },
    {
     "name": "stdout",
     "output_type": "stream",
     "text": [
      "HUDD response removed\n",
      "\n",
      "processing t0: 2021-02-13T15:00:00.000000Z\n",
      "10961 response removed\n",
      "29422 response removed\n",
      "49510 response removed\n"
     ]
    },
    {
     "name": "stderr",
     "output_type": "stream",
     "text": [
      "/home/andbro/anaconda3/envs/obs/lib/python3.7/site-packages/obspy/core/inventory/response.py:1895: UserWarning: More than one PolesZerosResponseStage encountered. Returning first one found.\n",
      "  warnings.warn(msg)\n"
     ]
    },
    {
     "name": "stdout",
     "output_type": "stream",
     "text": [
      "HUDD response removed\n",
      "\n",
      "processing t0: 2021-02-13T16:00:00.000000Z\n",
      "10961 response removed\n",
      "29422 response removed\n",
      "49510 response removed\n"
     ]
    },
    {
     "name": "stderr",
     "output_type": "stream",
     "text": [
      "/home/andbro/anaconda3/envs/obs/lib/python3.7/site-packages/obspy/core/inventory/response.py:1895: UserWarning: More than one PolesZerosResponseStage encountered. Returning first one found.\n",
      "  warnings.warn(msg)\n"
     ]
    },
    {
     "name": "stdout",
     "output_type": "stream",
     "text": [
      "HUDD response removed\n",
      "\n",
      "processing t0: 2021-02-13T17:00:00.000000Z\n",
      "10961 response removed\n",
      "29422 response removed\n",
      "49510 response removed\n"
     ]
    },
    {
     "name": "stderr",
     "output_type": "stream",
     "text": [
      "/home/andbro/anaconda3/envs/obs/lib/python3.7/site-packages/obspy/core/inventory/response.py:1895: UserWarning: More than one PolesZerosResponseStage encountered. Returning first one found.\n",
      "  warnings.warn(msg)\n"
     ]
    },
    {
     "name": "stdout",
     "output_type": "stream",
     "text": [
      "HUDD response removed\n",
      "\n",
      "processing t0: 2021-02-13T18:00:00.000000Z\n",
      "10961 response removed\n",
      "29422 response removed\n",
      "49510 response removed\n"
     ]
    },
    {
     "name": "stderr",
     "output_type": "stream",
     "text": [
      "/home/andbro/anaconda3/envs/obs/lib/python3.7/site-packages/obspy/core/inventory/response.py:1895: UserWarning: More than one PolesZerosResponseStage encountered. Returning first one found.\n",
      "  warnings.warn(msg)\n"
     ]
    },
    {
     "name": "stdout",
     "output_type": "stream",
     "text": [
      "HUDD response removed\n",
      "\n",
      "processing t0: 2021-02-13T19:00:00.000000Z\n",
      "10961 response removed\n",
      "29422 response removed\n",
      "49510 response removed\n"
     ]
    },
    {
     "name": "stderr",
     "output_type": "stream",
     "text": [
      "/home/andbro/anaconda3/envs/obs/lib/python3.7/site-packages/obspy/core/inventory/response.py:1895: UserWarning: More than one PolesZerosResponseStage encountered. Returning first one found.\n",
      "  warnings.warn(msg)\n"
     ]
    },
    {
     "name": "stdout",
     "output_type": "stream",
     "text": [
      "HUDD response removed\n",
      "\n",
      "processing t0: 2021-02-13T20:00:00.000000Z\n",
      "10961 response removed\n",
      "29422 response removed\n",
      "49510 response removed\n"
     ]
    },
    {
     "name": "stderr",
     "output_type": "stream",
     "text": [
      "/home/andbro/anaconda3/envs/obs/lib/python3.7/site-packages/obspy/core/inventory/response.py:1895: UserWarning: More than one PolesZerosResponseStage encountered. Returning first one found.\n",
      "  warnings.warn(msg)\n"
     ]
    },
    {
     "name": "stdout",
     "output_type": "stream",
     "text": [
      "HUDD response removed\n",
      "\n",
      "processing t0: 2021-02-13T21:00:00.000000Z\n",
      "10961 response removed\n",
      "29422 response removed\n",
      "49510 response removed\n"
     ]
    },
    {
     "name": "stderr",
     "output_type": "stream",
     "text": [
      "/home/andbro/anaconda3/envs/obs/lib/python3.7/site-packages/obspy/core/inventory/response.py:1895: UserWarning: More than one PolesZerosResponseStage encountered. Returning first one found.\n",
      "  warnings.warn(msg)\n"
     ]
    },
    {
     "name": "stdout",
     "output_type": "stream",
     "text": [
      "HUDD response removed\n",
      "\n",
      "processing t0: 2021-02-13T22:00:00.000000Z\n",
      "10961 response removed\n",
      "29422 response removed\n",
      "49510 response removed\n"
     ]
    },
    {
     "name": "stderr",
     "output_type": "stream",
     "text": [
      "/home/andbro/anaconda3/envs/obs/lib/python3.7/site-packages/obspy/core/inventory/response.py:1895: UserWarning: More than one PolesZerosResponseStage encountered. Returning first one found.\n",
      "  warnings.warn(msg)\n"
     ]
    },
    {
     "name": "stdout",
     "output_type": "stream",
     "text": [
      "HUDD response removed\n",
      "\n",
      "processing t0: 2021-02-13T23:00:00.000000Z\n",
      "10961 response removed\n",
      "29422 response removed\n",
      "49510 response removed\n"
     ]
    },
    {
     "name": "stderr",
     "output_type": "stream",
     "text": [
      "/home/andbro/anaconda3/envs/obs/lib/python3.7/site-packages/obspy/core/inventory/response.py:1895: UserWarning: More than one PolesZerosResponseStage encountered. Returning first one found.\n",
      "  warnings.warn(msg)\n"
     ]
    },
    {
     "name": "stdout",
     "output_type": "stream",
     "text": [
      "HUDD response removed\n",
      "\n",
      "processing t0: 2021-02-14T00:00:00.000000Z\n",
      "10961 response removed\n",
      "29422 response removed\n",
      "49510 response removed\n"
     ]
    },
    {
     "name": "stderr",
     "output_type": "stream",
     "text": [
      "/home/andbro/anaconda3/envs/obs/lib/python3.7/site-packages/obspy/core/inventory/response.py:1895: UserWarning: More than one PolesZerosResponseStage encountered. Returning first one found.\n",
      "  warnings.warn(msg)\n"
     ]
    },
    {
     "name": "stdout",
     "output_type": "stream",
     "text": [
      "HUDD response removed\n",
      "\n",
      "processing t0: 2021-02-14T01:00:00.000000Z\n",
      "10961 response removed\n",
      "29422 response removed\n",
      "49510 response removed\n"
     ]
    },
    {
     "name": "stderr",
     "output_type": "stream",
     "text": [
      "/home/andbro/anaconda3/envs/obs/lib/python3.7/site-packages/obspy/core/inventory/response.py:1895: UserWarning: More than one PolesZerosResponseStage encountered. Returning first one found.\n",
      "  warnings.warn(msg)\n"
     ]
    },
    {
     "name": "stdout",
     "output_type": "stream",
     "text": [
      "HUDD response removed\n",
      "\n",
      "processing t0: 2021-02-14T02:00:00.000000Z\n",
      "10961 response removed\n",
      "29422 response removed\n",
      "49510 response removed\n"
     ]
    },
    {
     "name": "stderr",
     "output_type": "stream",
     "text": [
      "/home/andbro/anaconda3/envs/obs/lib/python3.7/site-packages/obspy/core/inventory/response.py:1895: UserWarning: More than one PolesZerosResponseStage encountered. Returning first one found.\n",
      "  warnings.warn(msg)\n"
     ]
    },
    {
     "name": "stdout",
     "output_type": "stream",
     "text": [
      "HUDD response removed\n",
      "\n",
      "processing t0: 2021-02-14T03:00:00.000000Z\n",
      "10961 response removed\n",
      "29422 response removed\n",
      "49510 response removed\n"
     ]
    },
    {
     "name": "stderr",
     "output_type": "stream",
     "text": [
      "/home/andbro/anaconda3/envs/obs/lib/python3.7/site-packages/obspy/core/inventory/response.py:1895: UserWarning: More than one PolesZerosResponseStage encountered. Returning first one found.\n",
      "  warnings.warn(msg)\n"
     ]
    },
    {
     "name": "stdout",
     "output_type": "stream",
     "text": [
      "HUDD response removed\n",
      "\n",
      "processing t0: 2021-02-14T04:00:00.000000Z\n",
      "10961 response removed\n",
      "29422 response removed\n",
      "49510 response removed\n"
     ]
    },
    {
     "name": "stderr",
     "output_type": "stream",
     "text": [
      "/home/andbro/anaconda3/envs/obs/lib/python3.7/site-packages/obspy/core/inventory/response.py:1895: UserWarning: More than one PolesZerosResponseStage encountered. Returning first one found.\n",
      "  warnings.warn(msg)\n"
     ]
    },
    {
     "name": "stdout",
     "output_type": "stream",
     "text": [
      "HUDD response removed\n",
      "\n",
      "processing t0: 2021-02-14T05:00:00.000000Z\n",
      "10961 response removed\n",
      "29422 response removed\n",
      "49510 response removed\n"
     ]
    },
    {
     "name": "stderr",
     "output_type": "stream",
     "text": [
      "/home/andbro/anaconda3/envs/obs/lib/python3.7/site-packages/obspy/core/inventory/response.py:1895: UserWarning: More than one PolesZerosResponseStage encountered. Returning first one found.\n",
      "  warnings.warn(msg)\n"
     ]
    },
    {
     "name": "stdout",
     "output_type": "stream",
     "text": [
      "HUDD response removed\n",
      "\n",
      "processing t0: 2021-02-14T06:00:00.000000Z\n",
      "10961 response removed\n",
      "29422 response removed\n",
      "49510 response removed\n"
     ]
    },
    {
     "name": "stderr",
     "output_type": "stream",
     "text": [
      "/home/andbro/anaconda3/envs/obs/lib/python3.7/site-packages/obspy/core/inventory/response.py:1895: UserWarning: More than one PolesZerosResponseStage encountered. Returning first one found.\n",
      "  warnings.warn(msg)\n"
     ]
    },
    {
     "name": "stdout",
     "output_type": "stream",
     "text": [
      "HUDD response removed\n",
      "\n",
      "processing t0: 2021-02-14T07:00:00.000000Z\n",
      "10961 response removed\n",
      "29422 response removed\n",
      "49510 response removed\n"
     ]
    },
    {
     "name": "stderr",
     "output_type": "stream",
     "text": [
      "/home/andbro/anaconda3/envs/obs/lib/python3.7/site-packages/obspy/core/inventory/response.py:1895: UserWarning: More than one PolesZerosResponseStage encountered. Returning first one found.\n",
      "  warnings.warn(msg)\n"
     ]
    },
    {
     "name": "stdout",
     "output_type": "stream",
     "text": [
      "HUDD response removed\n",
      "\n",
      "processing t0: 2021-02-14T08:00:00.000000Z\n",
      "10961 response removed\n",
      "29422 response removed\n",
      "49510 response removed\n"
     ]
    },
    {
     "name": "stderr",
     "output_type": "stream",
     "text": [
      "/home/andbro/anaconda3/envs/obs/lib/python3.7/site-packages/obspy/core/inventory/response.py:1895: UserWarning: More than one PolesZerosResponseStage encountered. Returning first one found.\n",
      "  warnings.warn(msg)\n"
     ]
    },
    {
     "name": "stdout",
     "output_type": "stream",
     "text": [
      "HUDD response removed\n",
      "\n",
      "processing t0: 2021-02-14T09:00:00.000000Z\n",
      "10961 response removed\n",
      "29422 response removed\n",
      "49510 response removed\n"
     ]
    },
    {
     "name": "stderr",
     "output_type": "stream",
     "text": [
      "/home/andbro/anaconda3/envs/obs/lib/python3.7/site-packages/obspy/core/inventory/response.py:1895: UserWarning: More than one PolesZerosResponseStage encountered. Returning first one found.\n",
      "  warnings.warn(msg)\n"
     ]
    },
    {
     "name": "stdout",
     "output_type": "stream",
     "text": [
      "HUDD response removed\n",
      "\n",
      "processing t0: 2021-02-14T10:00:00.000000Z\n",
      "10961 response removed\n",
      "29422 response removed\n",
      "49510 response removed\n"
     ]
    },
    {
     "name": "stderr",
     "output_type": "stream",
     "text": [
      "/home/andbro/anaconda3/envs/obs/lib/python3.7/site-packages/obspy/core/inventory/response.py:1895: UserWarning: More than one PolesZerosResponseStage encountered. Returning first one found.\n",
      "  warnings.warn(msg)\n"
     ]
    },
    {
     "name": "stdout",
     "output_type": "stream",
     "text": [
      "HUDD response removed\n",
      "\n",
      "processing t0: 2021-02-14T11:00:00.000000Z\n",
      "10961 response removed\n",
      "29422 response removed\n",
      "49510 response removed\n"
     ]
    },
    {
     "name": "stderr",
     "output_type": "stream",
     "text": [
      "/home/andbro/anaconda3/envs/obs/lib/python3.7/site-packages/obspy/core/inventory/response.py:1895: UserWarning: More than one PolesZerosResponseStage encountered. Returning first one found.\n",
      "  warnings.warn(msg)\n"
     ]
    },
    {
     "name": "stdout",
     "output_type": "stream",
     "text": [
      "HUDD response removed\n",
      "\n",
      "processing t0: 2021-02-14T12:00:00.000000Z\n",
      "10961 response removed\n",
      "29422 response removed\n",
      "49510 response removed\n"
     ]
    },
    {
     "name": "stderr",
     "output_type": "stream",
     "text": [
      "/home/andbro/anaconda3/envs/obs/lib/python3.7/site-packages/obspy/core/inventory/response.py:1895: UserWarning: More than one PolesZerosResponseStage encountered. Returning first one found.\n",
      "  warnings.warn(msg)\n"
     ]
    },
    {
     "name": "stdout",
     "output_type": "stream",
     "text": [
      "HUDD response removed\n",
      "\n",
      "processing t0: 2021-02-14T13:00:00.000000Z\n",
      "10961 response removed\n",
      "29422 response removed\n",
      "49510 response removed\n"
     ]
    },
    {
     "name": "stderr",
     "output_type": "stream",
     "text": [
      "/home/andbro/anaconda3/envs/obs/lib/python3.7/site-packages/obspy/core/inventory/response.py:1895: UserWarning: More than one PolesZerosResponseStage encountered. Returning first one found.\n",
      "  warnings.warn(msg)\n"
     ]
    },
    {
     "name": "stdout",
     "output_type": "stream",
     "text": [
      "HUDD response removed\n",
      "\n",
      "processing t0: 2021-02-14T14:00:00.000000Z\n",
      "10961 response removed\n",
      "29422 response removed\n",
      "49510 response removed\n"
     ]
    },
    {
     "name": "stderr",
     "output_type": "stream",
     "text": [
      "/home/andbro/anaconda3/envs/obs/lib/python3.7/site-packages/obspy/core/inventory/response.py:1895: UserWarning: More than one PolesZerosResponseStage encountered. Returning first one found.\n",
      "  warnings.warn(msg)\n"
     ]
    },
    {
     "name": "stdout",
     "output_type": "stream",
     "text": [
      "HUDD response removed\n",
      "\n",
      "processing t0: 2021-02-14T15:00:00.000000Z\n",
      "10961 response removed\n",
      "29422 response removed\n",
      "49510 response removed\n"
     ]
    },
    {
     "name": "stderr",
     "output_type": "stream",
     "text": [
      "/home/andbro/anaconda3/envs/obs/lib/python3.7/site-packages/obspy/core/inventory/response.py:1895: UserWarning: More than one PolesZerosResponseStage encountered. Returning first one found.\n",
      "  warnings.warn(msg)\n"
     ]
    },
    {
     "name": "stdout",
     "output_type": "stream",
     "text": [
      "HUDD response removed\n",
      "\n",
      "processing t0: 2021-02-14T16:00:00.000000Z\n",
      "10961 response removed\n",
      "29422 response removed\n",
      "49510 response removed\n"
     ]
    },
    {
     "name": "stderr",
     "output_type": "stream",
     "text": [
      "/home/andbro/anaconda3/envs/obs/lib/python3.7/site-packages/obspy/core/inventory/response.py:1895: UserWarning: More than one PolesZerosResponseStage encountered. Returning first one found.\n",
      "  warnings.warn(msg)\n"
     ]
    },
    {
     "name": "stdout",
     "output_type": "stream",
     "text": [
      "HUDD response removed\n",
      "\n",
      "processing t0: 2021-02-14T17:00:00.000000Z\n",
      "10961 response removed\n",
      "29422 response removed\n",
      "49510 response removed\n"
     ]
    },
    {
     "name": "stderr",
     "output_type": "stream",
     "text": [
      "/home/andbro/anaconda3/envs/obs/lib/python3.7/site-packages/obspy/core/inventory/response.py:1895: UserWarning: More than one PolesZerosResponseStage encountered. Returning first one found.\n",
      "  warnings.warn(msg)\n"
     ]
    },
    {
     "name": "stdout",
     "output_type": "stream",
     "text": [
      "HUDD response removed\n",
      "\n",
      "processing t0: 2021-02-14T18:00:00.000000Z\n",
      "10961 response removed\n",
      "29422 response removed\n",
      "49510 response removed\n"
     ]
    },
    {
     "name": "stderr",
     "output_type": "stream",
     "text": [
      "/home/andbro/anaconda3/envs/obs/lib/python3.7/site-packages/obspy/core/inventory/response.py:1895: UserWarning: More than one PolesZerosResponseStage encountered. Returning first one found.\n",
      "  warnings.warn(msg)\n"
     ]
    },
    {
     "name": "stdout",
     "output_type": "stream",
     "text": [
      "HUDD response removed\n",
      "\n",
      "processing t0: 2021-02-14T19:00:00.000000Z\n",
      "10961 response removed\n",
      "29422 response removed\n",
      "49510 response removed\n"
     ]
    },
    {
     "name": "stderr",
     "output_type": "stream",
     "text": [
      "/home/andbro/anaconda3/envs/obs/lib/python3.7/site-packages/obspy/core/inventory/response.py:1895: UserWarning: More than one PolesZerosResponseStage encountered. Returning first one found.\n",
      "  warnings.warn(msg)\n"
     ]
    },
    {
     "name": "stdout",
     "output_type": "stream",
     "text": [
      "HUDD response removed\n",
      "\n",
      "processing t0: 2021-02-14T20:00:00.000000Z\n",
      "10961 response removed\n",
      "29422 response removed\n",
      "49510 response removed\n"
     ]
    },
    {
     "name": "stderr",
     "output_type": "stream",
     "text": [
      "/home/andbro/anaconda3/envs/obs/lib/python3.7/site-packages/obspy/core/inventory/response.py:1895: UserWarning: More than one PolesZerosResponseStage encountered. Returning first one found.\n",
      "  warnings.warn(msg)\n"
     ]
    },
    {
     "name": "stdout",
     "output_type": "stream",
     "text": [
      "HUDD response removed\n",
      "\n",
      "processing t0: 2021-02-14T21:00:00.000000Z\n",
      "10961 response removed\n",
      "29422 response removed\n",
      "49510 response removed\n"
     ]
    },
    {
     "name": "stderr",
     "output_type": "stream",
     "text": [
      "/home/andbro/anaconda3/envs/obs/lib/python3.7/site-packages/obspy/core/inventory/response.py:1895: UserWarning: More than one PolesZerosResponseStage encountered. Returning first one found.\n",
      "  warnings.warn(msg)\n"
     ]
    },
    {
     "name": "stdout",
     "output_type": "stream",
     "text": [
      "HUDD response removed\n",
      "\n",
      "processing t0: 2021-02-14T22:00:00.000000Z\n",
      "10961 response removed\n",
      "29422 response removed\n",
      "49510 response removed\n"
     ]
    },
    {
     "name": "stderr",
     "output_type": "stream",
     "text": [
      "/home/andbro/anaconda3/envs/obs/lib/python3.7/site-packages/obspy/core/inventory/response.py:1895: UserWarning: More than one PolesZerosResponseStage encountered. Returning first one found.\n",
      "  warnings.warn(msg)\n"
     ]
    },
    {
     "name": "stdout",
     "output_type": "stream",
     "text": [
      "HUDD response removed\n",
      "0.0\n",
      "5.29524222957\n",
      "0.0\n",
      "1.35689242629\n",
      "nan\n",
      "0.0\n",
      "0.876901230975\n",
      "-1.20587196521\n",
      "nan\n",
      "nan\n",
      "0.0\n",
      "1.35689242629\n",
      "nan\n",
      "nan\n",
      "nan\n",
      "0.0\n"
     ]
    },
    {
     "name": "stderr",
     "output_type": "stream",
     "text": [
      "/home/andbro/anaconda3/envs/obs/lib/python3.7/site-packages/ipykernel_launcher.py:20: RuntimeWarning: divide by zero encountered in log10\n",
      "/home/andbro/anaconda3/envs/obs/lib/python3.7/site-packages/ipykernel_launcher.py:21: RuntimeWarning: divide by zero encountered in log10\n",
      "/home/andbro/anaconda3/envs/obs/lib/python3.7/site-packages/ipykernel_launcher.py:62: UserWarning: Setting the 'color' property will override the edgecolor or facecolor properties.\n"
     ]
    },
    {
     "name": "stdout",
     "output_type": "stream",
     "text": [
      "Processing channel: HHN\n",
      "\n",
      "reading streams...\n",
      "1 Trace(s) in Stream:\n",
      "BW.29422..HHN | 2021-02-12T14:38:44.000000Z - 2021-02-14T23:59:59.995000Z | 200.0 Hz, 41295200 samples\n",
      "1 Trace(s) in Stream:\n",
      "BW.49510..HHN | 2021-02-12T14:42:14.000000Z - 2021-02-14T23:59:59.995000Z | 200.0 Hz, 41253200 samples\n",
      "1 Trace(s) in Stream:\n",
      "BW.10961..HHN | 2021-02-12T14:42:14.000000Z - 2021-02-14T23:59:59.995000Z | 200.0 Hz, 41253200 samples\n",
      "1 Trace(s) in Stream:\n",
      "BW.HUDD..HHN | 2021-02-12T00:00:00.000000Z - 2021-02-14T23:59:59.995000Z | 200.0 Hz, 51840000 samples\n",
      "4 Trace(s) in Stream:\n",
      "BW.10961..HHN | 2021-02-12T18:00:00.000000Z - 2021-02-14T23:00:00.000000Z | 200.0 Hz, 38160001 samples\n",
      "BW.29422..HHN | 2021-02-12T18:00:00.000000Z - 2021-02-14T23:00:00.000000Z | 200.0 Hz, 38160001 samples\n",
      "BW.49510..HHN | 2021-02-12T18:00:00.000000Z - 2021-02-14T23:00:00.000000Z | 200.0 Hz, 38160001 samples\n",
      "BW.HUDD..HHN  | 2021-02-12T18:00:00.000000Z - 2021-02-14T23:00:00.000000Z | 200.0 Hz, 38160001 samples\n",
      "\n",
      "processing t0: 2021-02-12T18:00:00.000000Z\n",
      "10961 response removed\n",
      "29422 response removed\n",
      "49510 response removed\n"
     ]
    },
    {
     "name": "stderr",
     "output_type": "stream",
     "text": [
      "/home/andbro/anaconda3/envs/obs/lib/python3.7/site-packages/obspy/core/inventory/response.py:1895: UserWarning: More than one PolesZerosResponseStage encountered. Returning first one found.\n",
      "  warnings.warn(msg)\n"
     ]
    },
    {
     "name": "stdout",
     "output_type": "stream",
     "text": [
      "HUDD response removed\n",
      "\n",
      "processing t0: 2021-02-12T19:00:00.000000Z\n",
      "10961 response removed\n",
      "29422 response removed\n",
      "49510 response removed\n"
     ]
    },
    {
     "name": "stderr",
     "output_type": "stream",
     "text": [
      "/home/andbro/anaconda3/envs/obs/lib/python3.7/site-packages/obspy/core/inventory/response.py:1895: UserWarning: More than one PolesZerosResponseStage encountered. Returning first one found.\n",
      "  warnings.warn(msg)\n"
     ]
    },
    {
     "name": "stdout",
     "output_type": "stream",
     "text": [
      "HUDD response removed\n",
      "\n",
      "processing t0: 2021-02-12T20:00:00.000000Z\n",
      "10961 response removed\n",
      "29422 response removed\n",
      "49510 response removed\n"
     ]
    },
    {
     "name": "stderr",
     "output_type": "stream",
     "text": [
      "/home/andbro/anaconda3/envs/obs/lib/python3.7/site-packages/obspy/core/inventory/response.py:1895: UserWarning: More than one PolesZerosResponseStage encountered. Returning first one found.\n",
      "  warnings.warn(msg)\n"
     ]
    },
    {
     "name": "stdout",
     "output_type": "stream",
     "text": [
      "HUDD response removed\n",
      "\n",
      "processing t0: 2021-02-12T21:00:00.000000Z\n",
      "10961 response removed\n",
      "29422 response removed\n",
      "49510 response removed\n"
     ]
    },
    {
     "name": "stderr",
     "output_type": "stream",
     "text": [
      "/home/andbro/anaconda3/envs/obs/lib/python3.7/site-packages/obspy/core/inventory/response.py:1895: UserWarning: More than one PolesZerosResponseStage encountered. Returning first one found.\n",
      "  warnings.warn(msg)\n"
     ]
    },
    {
     "name": "stdout",
     "output_type": "stream",
     "text": [
      "HUDD response removed\n",
      "\n",
      "processing t0: 2021-02-12T22:00:00.000000Z\n",
      "10961 response removed\n",
      "29422 response removed\n",
      "49510 response removed\n"
     ]
    },
    {
     "name": "stderr",
     "output_type": "stream",
     "text": [
      "/home/andbro/anaconda3/envs/obs/lib/python3.7/site-packages/obspy/core/inventory/response.py:1895: UserWarning: More than one PolesZerosResponseStage encountered. Returning first one found.\n",
      "  warnings.warn(msg)\n"
     ]
    },
    {
     "name": "stdout",
     "output_type": "stream",
     "text": [
      "HUDD response removed\n",
      "\n",
      "processing t0: 2021-02-12T23:00:00.000000Z\n",
      "10961 response removed\n",
      "29422 response removed\n",
      "49510 response removed\n"
     ]
    },
    {
     "name": "stderr",
     "output_type": "stream",
     "text": [
      "/home/andbro/anaconda3/envs/obs/lib/python3.7/site-packages/obspy/core/inventory/response.py:1895: UserWarning: More than one PolesZerosResponseStage encountered. Returning first one found.\n",
      "  warnings.warn(msg)\n"
     ]
    },
    {
     "name": "stdout",
     "output_type": "stream",
     "text": [
      "HUDD response removed\n",
      "\n",
      "processing t0: 2021-02-13T00:00:00.000000Z\n",
      "10961 response removed\n",
      "29422 response removed\n",
      "49510 response removed\n"
     ]
    },
    {
     "name": "stderr",
     "output_type": "stream",
     "text": [
      "/home/andbro/anaconda3/envs/obs/lib/python3.7/site-packages/obspy/core/inventory/response.py:1895: UserWarning: More than one PolesZerosResponseStage encountered. Returning first one found.\n",
      "  warnings.warn(msg)\n"
     ]
    },
    {
     "name": "stdout",
     "output_type": "stream",
     "text": [
      "HUDD response removed\n",
      "\n",
      "processing t0: 2021-02-13T01:00:00.000000Z\n",
      "10961 response removed\n",
      "29422 response removed\n",
      "49510 response removed\n"
     ]
    },
    {
     "name": "stderr",
     "output_type": "stream",
     "text": [
      "/home/andbro/anaconda3/envs/obs/lib/python3.7/site-packages/obspy/core/inventory/response.py:1895: UserWarning: More than one PolesZerosResponseStage encountered. Returning first one found.\n",
      "  warnings.warn(msg)\n"
     ]
    },
    {
     "name": "stdout",
     "output_type": "stream",
     "text": [
      "HUDD response removed\n",
      "\n",
      "processing t0: 2021-02-13T02:00:00.000000Z\n",
      "10961 response removed\n",
      "29422 response removed\n",
      "49510 response removed\n"
     ]
    },
    {
     "name": "stderr",
     "output_type": "stream",
     "text": [
      "/home/andbro/anaconda3/envs/obs/lib/python3.7/site-packages/obspy/core/inventory/response.py:1895: UserWarning: More than one PolesZerosResponseStage encountered. Returning first one found.\n",
      "  warnings.warn(msg)\n"
     ]
    },
    {
     "name": "stdout",
     "output_type": "stream",
     "text": [
      "HUDD response removed\n",
      "\n",
      "processing t0: 2021-02-13T03:00:00.000000Z\n",
      "10961 response removed\n",
      "29422 response removed\n",
      "49510 response removed\n"
     ]
    },
    {
     "name": "stderr",
     "output_type": "stream",
     "text": [
      "/home/andbro/anaconda3/envs/obs/lib/python3.7/site-packages/obspy/core/inventory/response.py:1895: UserWarning: More than one PolesZerosResponseStage encountered. Returning first one found.\n",
      "  warnings.warn(msg)\n"
     ]
    },
    {
     "name": "stdout",
     "output_type": "stream",
     "text": [
      "HUDD response removed\n",
      "\n",
      "processing t0: 2021-02-13T04:00:00.000000Z\n",
      "10961 response removed\n",
      "29422 response removed\n",
      "49510 response removed\n"
     ]
    },
    {
     "name": "stderr",
     "output_type": "stream",
     "text": [
      "/home/andbro/anaconda3/envs/obs/lib/python3.7/site-packages/obspy/core/inventory/response.py:1895: UserWarning: More than one PolesZerosResponseStage encountered. Returning first one found.\n",
      "  warnings.warn(msg)\n"
     ]
    },
    {
     "name": "stdout",
     "output_type": "stream",
     "text": [
      "HUDD response removed\n",
      "\n",
      "processing t0: 2021-02-13T05:00:00.000000Z\n",
      "10961 response removed\n",
      "29422 response removed\n",
      "49510 response removed\n"
     ]
    },
    {
     "name": "stderr",
     "output_type": "stream",
     "text": [
      "/home/andbro/anaconda3/envs/obs/lib/python3.7/site-packages/obspy/core/inventory/response.py:1895: UserWarning: More than one PolesZerosResponseStage encountered. Returning first one found.\n",
      "  warnings.warn(msg)\n"
     ]
    },
    {
     "name": "stdout",
     "output_type": "stream",
     "text": [
      "HUDD response removed\n",
      "\n",
      "processing t0: 2021-02-13T06:00:00.000000Z\n",
      "10961 response removed\n",
      "29422 response removed\n",
      "49510 response removed\n"
     ]
    },
    {
     "name": "stderr",
     "output_type": "stream",
     "text": [
      "/home/andbro/anaconda3/envs/obs/lib/python3.7/site-packages/obspy/core/inventory/response.py:1895: UserWarning: More than one PolesZerosResponseStage encountered. Returning first one found.\n",
      "  warnings.warn(msg)\n"
     ]
    },
    {
     "name": "stdout",
     "output_type": "stream",
     "text": [
      "HUDD response removed\n",
      "\n",
      "processing t0: 2021-02-13T07:00:00.000000Z\n",
      "10961 response removed\n",
      "29422 response removed\n",
      "49510 response removed\n"
     ]
    },
    {
     "name": "stderr",
     "output_type": "stream",
     "text": [
      "/home/andbro/anaconda3/envs/obs/lib/python3.7/site-packages/obspy/core/inventory/response.py:1895: UserWarning: More than one PolesZerosResponseStage encountered. Returning first one found.\n",
      "  warnings.warn(msg)\n"
     ]
    },
    {
     "name": "stdout",
     "output_type": "stream",
     "text": [
      "HUDD response removed\n",
      "\n",
      "processing t0: 2021-02-13T08:00:00.000000Z\n",
      "10961 response removed\n",
      "29422 response removed\n",
      "49510 response removed\n"
     ]
    },
    {
     "name": "stderr",
     "output_type": "stream",
     "text": [
      "/home/andbro/anaconda3/envs/obs/lib/python3.7/site-packages/obspy/core/inventory/response.py:1895: UserWarning: More than one PolesZerosResponseStage encountered. Returning first one found.\n",
      "  warnings.warn(msg)\n"
     ]
    },
    {
     "name": "stdout",
     "output_type": "stream",
     "text": [
      "HUDD response removed\n",
      "\n",
      "processing t0: 2021-02-13T09:00:00.000000Z\n",
      "10961 response removed\n",
      "29422 response removed\n",
      "49510 response removed\n"
     ]
    },
    {
     "name": "stderr",
     "output_type": "stream",
     "text": [
      "/home/andbro/anaconda3/envs/obs/lib/python3.7/site-packages/obspy/core/inventory/response.py:1895: UserWarning: More than one PolesZerosResponseStage encountered. Returning first one found.\n",
      "  warnings.warn(msg)\n"
     ]
    },
    {
     "name": "stdout",
     "output_type": "stream",
     "text": [
      "HUDD response removed\n",
      "\n",
      "processing t0: 2021-02-13T10:00:00.000000Z\n",
      "10961 response removed\n",
      "29422 response removed\n",
      "49510 response removed\n"
     ]
    },
    {
     "name": "stderr",
     "output_type": "stream",
     "text": [
      "/home/andbro/anaconda3/envs/obs/lib/python3.7/site-packages/obspy/core/inventory/response.py:1895: UserWarning: More than one PolesZerosResponseStage encountered. Returning first one found.\n",
      "  warnings.warn(msg)\n"
     ]
    },
    {
     "name": "stdout",
     "output_type": "stream",
     "text": [
      "HUDD response removed\n",
      "\n",
      "processing t0: 2021-02-13T11:00:00.000000Z\n",
      "10961 response removed\n",
      "29422 response removed\n",
      "49510 response removed\n"
     ]
    },
    {
     "name": "stderr",
     "output_type": "stream",
     "text": [
      "/home/andbro/anaconda3/envs/obs/lib/python3.7/site-packages/obspy/core/inventory/response.py:1895: UserWarning: More than one PolesZerosResponseStage encountered. Returning first one found.\n",
      "  warnings.warn(msg)\n"
     ]
    },
    {
     "name": "stdout",
     "output_type": "stream",
     "text": [
      "HUDD response removed\n",
      "\n",
      "processing t0: 2021-02-13T12:00:00.000000Z\n",
      "10961 response removed\n",
      "29422 response removed\n",
      "49510 response removed\n"
     ]
    },
    {
     "name": "stderr",
     "output_type": "stream",
     "text": [
      "/home/andbro/anaconda3/envs/obs/lib/python3.7/site-packages/obspy/core/inventory/response.py:1895: UserWarning: More than one PolesZerosResponseStage encountered. Returning first one found.\n",
      "  warnings.warn(msg)\n"
     ]
    },
    {
     "name": "stdout",
     "output_type": "stream",
     "text": [
      "HUDD response removed\n",
      "\n",
      "processing t0: 2021-02-13T13:00:00.000000Z\n",
      "10961 response removed\n",
      "29422 response removed\n",
      "49510 response removed\n"
     ]
    },
    {
     "name": "stderr",
     "output_type": "stream",
     "text": [
      "/home/andbro/anaconda3/envs/obs/lib/python3.7/site-packages/obspy/core/inventory/response.py:1895: UserWarning: More than one PolesZerosResponseStage encountered. Returning first one found.\n",
      "  warnings.warn(msg)\n"
     ]
    },
    {
     "name": "stdout",
     "output_type": "stream",
     "text": [
      "HUDD response removed\n",
      "\n",
      "processing t0: 2021-02-13T14:00:00.000000Z\n",
      "10961 response removed\n",
      "29422 response removed\n",
      "49510 response removed\n"
     ]
    },
    {
     "name": "stderr",
     "output_type": "stream",
     "text": [
      "/home/andbro/anaconda3/envs/obs/lib/python3.7/site-packages/obspy/core/inventory/response.py:1895: UserWarning: More than one PolesZerosResponseStage encountered. Returning first one found.\n",
      "  warnings.warn(msg)\n"
     ]
    },
    {
     "name": "stdout",
     "output_type": "stream",
     "text": [
      "HUDD response removed\n",
      "\n",
      "processing t0: 2021-02-13T15:00:00.000000Z\n",
      "10961 response removed\n",
      "29422 response removed\n",
      "49510 response removed\n"
     ]
    },
    {
     "name": "stderr",
     "output_type": "stream",
     "text": [
      "/home/andbro/anaconda3/envs/obs/lib/python3.7/site-packages/obspy/core/inventory/response.py:1895: UserWarning: More than one PolesZerosResponseStage encountered. Returning first one found.\n",
      "  warnings.warn(msg)\n"
     ]
    },
    {
     "name": "stdout",
     "output_type": "stream",
     "text": [
      "HUDD response removed\n",
      "\n",
      "processing t0: 2021-02-13T16:00:00.000000Z\n",
      "10961 response removed\n",
      "29422 response removed\n",
      "49510 response removed\n"
     ]
    },
    {
     "name": "stderr",
     "output_type": "stream",
     "text": [
      "/home/andbro/anaconda3/envs/obs/lib/python3.7/site-packages/obspy/core/inventory/response.py:1895: UserWarning: More than one PolesZerosResponseStage encountered. Returning first one found.\n",
      "  warnings.warn(msg)\n"
     ]
    },
    {
     "name": "stdout",
     "output_type": "stream",
     "text": [
      "HUDD response removed\n",
      "\n",
      "processing t0: 2021-02-13T17:00:00.000000Z\n",
      "10961 response removed\n",
      "29422 response removed\n",
      "49510 response removed\n"
     ]
    },
    {
     "name": "stderr",
     "output_type": "stream",
     "text": [
      "/home/andbro/anaconda3/envs/obs/lib/python3.7/site-packages/obspy/core/inventory/response.py:1895: UserWarning: More than one PolesZerosResponseStage encountered. Returning first one found.\n",
      "  warnings.warn(msg)\n"
     ]
    },
    {
     "name": "stdout",
     "output_type": "stream",
     "text": [
      "HUDD response removed\n",
      "\n",
      "processing t0: 2021-02-13T18:00:00.000000Z\n",
      "10961 response removed\n",
      "29422 response removed\n",
      "49510 response removed\n"
     ]
    },
    {
     "name": "stderr",
     "output_type": "stream",
     "text": [
      "/home/andbro/anaconda3/envs/obs/lib/python3.7/site-packages/obspy/core/inventory/response.py:1895: UserWarning: More than one PolesZerosResponseStage encountered. Returning first one found.\n",
      "  warnings.warn(msg)\n"
     ]
    },
    {
     "name": "stdout",
     "output_type": "stream",
     "text": [
      "HUDD response removed\n",
      "\n",
      "processing t0: 2021-02-13T19:00:00.000000Z\n",
      "10961 response removed\n",
      "29422 response removed\n",
      "49510 response removed\n"
     ]
    },
    {
     "name": "stderr",
     "output_type": "stream",
     "text": [
      "/home/andbro/anaconda3/envs/obs/lib/python3.7/site-packages/obspy/core/inventory/response.py:1895: UserWarning: More than one PolesZerosResponseStage encountered. Returning first one found.\n",
      "  warnings.warn(msg)\n"
     ]
    },
    {
     "name": "stdout",
     "output_type": "stream",
     "text": [
      "HUDD response removed\n",
      "\n",
      "processing t0: 2021-02-13T20:00:00.000000Z\n",
      "10961 response removed\n",
      "29422 response removed\n",
      "49510 response removed\n"
     ]
    },
    {
     "name": "stderr",
     "output_type": "stream",
     "text": [
      "/home/andbro/anaconda3/envs/obs/lib/python3.7/site-packages/obspy/core/inventory/response.py:1895: UserWarning: More than one PolesZerosResponseStage encountered. Returning first one found.\n",
      "  warnings.warn(msg)\n"
     ]
    },
    {
     "name": "stdout",
     "output_type": "stream",
     "text": [
      "HUDD response removed\n",
      "\n",
      "processing t0: 2021-02-13T21:00:00.000000Z\n",
      "10961 response removed\n",
      "29422 response removed\n",
      "49510 response removed\n"
     ]
    },
    {
     "name": "stderr",
     "output_type": "stream",
     "text": [
      "/home/andbro/anaconda3/envs/obs/lib/python3.7/site-packages/obspy/core/inventory/response.py:1895: UserWarning: More than one PolesZerosResponseStage encountered. Returning first one found.\n",
      "  warnings.warn(msg)\n"
     ]
    },
    {
     "name": "stdout",
     "output_type": "stream",
     "text": [
      "HUDD response removed\n",
      "\n",
      "processing t0: 2021-02-13T22:00:00.000000Z\n",
      "10961 response removed\n",
      "29422 response removed\n",
      "49510 response removed\n"
     ]
    },
    {
     "name": "stderr",
     "output_type": "stream",
     "text": [
      "/home/andbro/anaconda3/envs/obs/lib/python3.7/site-packages/obspy/core/inventory/response.py:1895: UserWarning: More than one PolesZerosResponseStage encountered. Returning first one found.\n",
      "  warnings.warn(msg)\n"
     ]
    },
    {
     "name": "stdout",
     "output_type": "stream",
     "text": [
      "HUDD response removed\n",
      "\n",
      "processing t0: 2021-02-13T23:00:00.000000Z\n",
      "10961 response removed\n",
      "29422 response removed\n",
      "49510 response removed\n"
     ]
    },
    {
     "name": "stderr",
     "output_type": "stream",
     "text": [
      "/home/andbro/anaconda3/envs/obs/lib/python3.7/site-packages/obspy/core/inventory/response.py:1895: UserWarning: More than one PolesZerosResponseStage encountered. Returning first one found.\n",
      "  warnings.warn(msg)\n"
     ]
    },
    {
     "name": "stdout",
     "output_type": "stream",
     "text": [
      "HUDD response removed\n",
      "\n",
      "processing t0: 2021-02-14T00:00:00.000000Z\n",
      "10961 response removed\n",
      "29422 response removed\n",
      "49510 response removed\n"
     ]
    },
    {
     "name": "stderr",
     "output_type": "stream",
     "text": [
      "/home/andbro/anaconda3/envs/obs/lib/python3.7/site-packages/obspy/core/inventory/response.py:1895: UserWarning: More than one PolesZerosResponseStage encountered. Returning first one found.\n",
      "  warnings.warn(msg)\n"
     ]
    },
    {
     "name": "stdout",
     "output_type": "stream",
     "text": [
      "HUDD response removed\n",
      "\n",
      "processing t0: 2021-02-14T01:00:00.000000Z\n",
      "10961 response removed\n",
      "29422 response removed\n",
      "49510 response removed\n"
     ]
    },
    {
     "name": "stderr",
     "output_type": "stream",
     "text": [
      "/home/andbro/anaconda3/envs/obs/lib/python3.7/site-packages/obspy/core/inventory/response.py:1895: UserWarning: More than one PolesZerosResponseStage encountered. Returning first one found.\n",
      "  warnings.warn(msg)\n"
     ]
    },
    {
     "name": "stdout",
     "output_type": "stream",
     "text": [
      "HUDD response removed\n",
      "\n",
      "processing t0: 2021-02-14T02:00:00.000000Z\n",
      "10961 response removed\n",
      "29422 response removed\n",
      "49510 response removed\n"
     ]
    },
    {
     "name": "stderr",
     "output_type": "stream",
     "text": [
      "/home/andbro/anaconda3/envs/obs/lib/python3.7/site-packages/obspy/core/inventory/response.py:1895: UserWarning: More than one PolesZerosResponseStage encountered. Returning first one found.\n",
      "  warnings.warn(msg)\n"
     ]
    },
    {
     "name": "stdout",
     "output_type": "stream",
     "text": [
      "HUDD response removed\n",
      "\n",
      "processing t0: 2021-02-14T03:00:00.000000Z\n",
      "10961 response removed\n",
      "29422 response removed\n",
      "49510 response removed\n"
     ]
    },
    {
     "name": "stderr",
     "output_type": "stream",
     "text": [
      "/home/andbro/anaconda3/envs/obs/lib/python3.7/site-packages/obspy/core/inventory/response.py:1895: UserWarning: More than one PolesZerosResponseStage encountered. Returning first one found.\n",
      "  warnings.warn(msg)\n"
     ]
    },
    {
     "name": "stdout",
     "output_type": "stream",
     "text": [
      "HUDD response removed\n",
      "\n",
      "processing t0: 2021-02-14T04:00:00.000000Z\n",
      "10961 response removed\n",
      "29422 response removed\n",
      "49510 response removed\n"
     ]
    },
    {
     "name": "stderr",
     "output_type": "stream",
     "text": [
      "/home/andbro/anaconda3/envs/obs/lib/python3.7/site-packages/obspy/core/inventory/response.py:1895: UserWarning: More than one PolesZerosResponseStage encountered. Returning first one found.\n",
      "  warnings.warn(msg)\n"
     ]
    },
    {
     "name": "stdout",
     "output_type": "stream",
     "text": [
      "HUDD response removed\n",
      "\n",
      "processing t0: 2021-02-14T05:00:00.000000Z\n",
      "10961 response removed\n",
      "29422 response removed\n",
      "49510 response removed\n"
     ]
    },
    {
     "name": "stderr",
     "output_type": "stream",
     "text": [
      "/home/andbro/anaconda3/envs/obs/lib/python3.7/site-packages/obspy/core/inventory/response.py:1895: UserWarning: More than one PolesZerosResponseStage encountered. Returning first one found.\n",
      "  warnings.warn(msg)\n"
     ]
    },
    {
     "name": "stdout",
     "output_type": "stream",
     "text": [
      "HUDD response removed\n",
      "\n",
      "processing t0: 2021-02-14T06:00:00.000000Z\n",
      "10961 response removed\n",
      "29422 response removed\n",
      "49510 response removed\n"
     ]
    },
    {
     "name": "stderr",
     "output_type": "stream",
     "text": [
      "/home/andbro/anaconda3/envs/obs/lib/python3.7/site-packages/obspy/core/inventory/response.py:1895: UserWarning: More than one PolesZerosResponseStage encountered. Returning first one found.\n",
      "  warnings.warn(msg)\n"
     ]
    },
    {
     "name": "stdout",
     "output_type": "stream",
     "text": [
      "HUDD response removed\n",
      "\n",
      "processing t0: 2021-02-14T07:00:00.000000Z\n",
      "10961 response removed\n",
      "29422 response removed\n",
      "49510 response removed\n"
     ]
    },
    {
     "name": "stderr",
     "output_type": "stream",
     "text": [
      "/home/andbro/anaconda3/envs/obs/lib/python3.7/site-packages/obspy/core/inventory/response.py:1895: UserWarning: More than one PolesZerosResponseStage encountered. Returning first one found.\n",
      "  warnings.warn(msg)\n"
     ]
    },
    {
     "name": "stdout",
     "output_type": "stream",
     "text": [
      "HUDD response removed\n",
      "\n",
      "processing t0: 2021-02-14T08:00:00.000000Z\n",
      "10961 response removed\n",
      "29422 response removed\n",
      "49510 response removed\n"
     ]
    },
    {
     "name": "stderr",
     "output_type": "stream",
     "text": [
      "/home/andbro/anaconda3/envs/obs/lib/python3.7/site-packages/obspy/core/inventory/response.py:1895: UserWarning: More than one PolesZerosResponseStage encountered. Returning first one found.\n",
      "  warnings.warn(msg)\n"
     ]
    },
    {
     "name": "stdout",
     "output_type": "stream",
     "text": [
      "HUDD response removed\n",
      "\n",
      "processing t0: 2021-02-14T09:00:00.000000Z\n",
      "10961 response removed\n",
      "29422 response removed\n",
      "49510 response removed\n"
     ]
    },
    {
     "name": "stderr",
     "output_type": "stream",
     "text": [
      "/home/andbro/anaconda3/envs/obs/lib/python3.7/site-packages/obspy/core/inventory/response.py:1895: UserWarning: More than one PolesZerosResponseStage encountered. Returning first one found.\n",
      "  warnings.warn(msg)\n"
     ]
    },
    {
     "name": "stdout",
     "output_type": "stream",
     "text": [
      "HUDD response removed\n",
      "\n",
      "processing t0: 2021-02-14T10:00:00.000000Z\n",
      "10961 response removed\n",
      "29422 response removed\n",
      "49510 response removed\n"
     ]
    },
    {
     "name": "stderr",
     "output_type": "stream",
     "text": [
      "/home/andbro/anaconda3/envs/obs/lib/python3.7/site-packages/obspy/core/inventory/response.py:1895: UserWarning: More than one PolesZerosResponseStage encountered. Returning first one found.\n",
      "  warnings.warn(msg)\n"
     ]
    },
    {
     "name": "stdout",
     "output_type": "stream",
     "text": [
      "HUDD response removed\n",
      "\n",
      "processing t0: 2021-02-14T11:00:00.000000Z\n",
      "10961 response removed\n",
      "29422 response removed\n",
      "49510 response removed\n"
     ]
    },
    {
     "name": "stderr",
     "output_type": "stream",
     "text": [
      "/home/andbro/anaconda3/envs/obs/lib/python3.7/site-packages/obspy/core/inventory/response.py:1895: UserWarning: More than one PolesZerosResponseStage encountered. Returning first one found.\n",
      "  warnings.warn(msg)\n"
     ]
    },
    {
     "name": "stdout",
     "output_type": "stream",
     "text": [
      "HUDD response removed\n",
      "\n",
      "processing t0: 2021-02-14T12:00:00.000000Z\n",
      "10961 response removed\n",
      "29422 response removed\n",
      "49510 response removed\n"
     ]
    },
    {
     "name": "stderr",
     "output_type": "stream",
     "text": [
      "/home/andbro/anaconda3/envs/obs/lib/python3.7/site-packages/obspy/core/inventory/response.py:1895: UserWarning: More than one PolesZerosResponseStage encountered. Returning first one found.\n",
      "  warnings.warn(msg)\n"
     ]
    },
    {
     "name": "stdout",
     "output_type": "stream",
     "text": [
      "HUDD response removed\n",
      "\n",
      "processing t0: 2021-02-14T13:00:00.000000Z\n",
      "10961 response removed\n",
      "29422 response removed\n",
      "49510 response removed\n"
     ]
    },
    {
     "name": "stderr",
     "output_type": "stream",
     "text": [
      "/home/andbro/anaconda3/envs/obs/lib/python3.7/site-packages/obspy/core/inventory/response.py:1895: UserWarning: More than one PolesZerosResponseStage encountered. Returning first one found.\n",
      "  warnings.warn(msg)\n"
     ]
    },
    {
     "name": "stdout",
     "output_type": "stream",
     "text": [
      "HUDD response removed\n",
      "\n",
      "processing t0: 2021-02-14T14:00:00.000000Z\n",
      "10961 response removed\n",
      "29422 response removed\n",
      "49510 response removed\n"
     ]
    },
    {
     "name": "stderr",
     "output_type": "stream",
     "text": [
      "/home/andbro/anaconda3/envs/obs/lib/python3.7/site-packages/obspy/core/inventory/response.py:1895: UserWarning: More than one PolesZerosResponseStage encountered. Returning first one found.\n",
      "  warnings.warn(msg)\n"
     ]
    },
    {
     "name": "stdout",
     "output_type": "stream",
     "text": [
      "HUDD response removed\n",
      "\n",
      "processing t0: 2021-02-14T15:00:00.000000Z\n",
      "10961 response removed\n",
      "29422 response removed\n",
      "49510 response removed\n"
     ]
    },
    {
     "name": "stderr",
     "output_type": "stream",
     "text": [
      "/home/andbro/anaconda3/envs/obs/lib/python3.7/site-packages/obspy/core/inventory/response.py:1895: UserWarning: More than one PolesZerosResponseStage encountered. Returning first one found.\n",
      "  warnings.warn(msg)\n"
     ]
    },
    {
     "name": "stdout",
     "output_type": "stream",
     "text": [
      "HUDD response removed\n",
      "\n",
      "processing t0: 2021-02-14T16:00:00.000000Z\n",
      "10961 response removed\n",
      "29422 response removed\n",
      "49510 response removed\n"
     ]
    },
    {
     "name": "stderr",
     "output_type": "stream",
     "text": [
      "/home/andbro/anaconda3/envs/obs/lib/python3.7/site-packages/obspy/core/inventory/response.py:1895: UserWarning: More than one PolesZerosResponseStage encountered. Returning first one found.\n",
      "  warnings.warn(msg)\n"
     ]
    },
    {
     "name": "stdout",
     "output_type": "stream",
     "text": [
      "HUDD response removed\n",
      "\n",
      "processing t0: 2021-02-14T17:00:00.000000Z\n",
      "10961 response removed\n",
      "29422 response removed\n",
      "49510 response removed\n"
     ]
    },
    {
     "name": "stderr",
     "output_type": "stream",
     "text": [
      "/home/andbro/anaconda3/envs/obs/lib/python3.7/site-packages/obspy/core/inventory/response.py:1895: UserWarning: More than one PolesZerosResponseStage encountered. Returning first one found.\n",
      "  warnings.warn(msg)\n"
     ]
    },
    {
     "name": "stdout",
     "output_type": "stream",
     "text": [
      "HUDD response removed\n",
      "\n",
      "processing t0: 2021-02-14T18:00:00.000000Z\n",
      "10961 response removed\n",
      "29422 response removed\n",
      "49510 response removed\n"
     ]
    },
    {
     "name": "stderr",
     "output_type": "stream",
     "text": [
      "/home/andbro/anaconda3/envs/obs/lib/python3.7/site-packages/obspy/core/inventory/response.py:1895: UserWarning: More than one PolesZerosResponseStage encountered. Returning first one found.\n",
      "  warnings.warn(msg)\n"
     ]
    },
    {
     "name": "stdout",
     "output_type": "stream",
     "text": [
      "HUDD response removed\n",
      "\n",
      "processing t0: 2021-02-14T19:00:00.000000Z\n",
      "10961 response removed\n",
      "29422 response removed\n",
      "49510 response removed\n"
     ]
    },
    {
     "name": "stderr",
     "output_type": "stream",
     "text": [
      "/home/andbro/anaconda3/envs/obs/lib/python3.7/site-packages/obspy/core/inventory/response.py:1895: UserWarning: More than one PolesZerosResponseStage encountered. Returning first one found.\n",
      "  warnings.warn(msg)\n"
     ]
    },
    {
     "name": "stdout",
     "output_type": "stream",
     "text": [
      "HUDD response removed\n",
      "\n",
      "processing t0: 2021-02-14T20:00:00.000000Z\n",
      "10961 response removed\n",
      "29422 response removed\n",
      "49510 response removed\n"
     ]
    },
    {
     "name": "stderr",
     "output_type": "stream",
     "text": [
      "/home/andbro/anaconda3/envs/obs/lib/python3.7/site-packages/obspy/core/inventory/response.py:1895: UserWarning: More than one PolesZerosResponseStage encountered. Returning first one found.\n",
      "  warnings.warn(msg)\n"
     ]
    },
    {
     "name": "stdout",
     "output_type": "stream",
     "text": [
      "HUDD response removed\n",
      "\n",
      "processing t0: 2021-02-14T21:00:00.000000Z\n",
      "10961 response removed\n",
      "29422 response removed\n",
      "49510 response removed\n"
     ]
    },
    {
     "name": "stderr",
     "output_type": "stream",
     "text": [
      "/home/andbro/anaconda3/envs/obs/lib/python3.7/site-packages/obspy/core/inventory/response.py:1895: UserWarning: More than one PolesZerosResponseStage encountered. Returning first one found.\n",
      "  warnings.warn(msg)\n"
     ]
    },
    {
     "name": "stdout",
     "output_type": "stream",
     "text": [
      "HUDD response removed\n",
      "\n",
      "processing t0: 2021-02-14T22:00:00.000000Z\n",
      "10961 response removed\n",
      "29422 response removed\n",
      "49510 response removed\n"
     ]
    },
    {
     "name": "stderr",
     "output_type": "stream",
     "text": [
      "/home/andbro/anaconda3/envs/obs/lib/python3.7/site-packages/obspy/core/inventory/response.py:1895: UserWarning: More than one PolesZerosResponseStage encountered. Returning first one found.\n",
      "  warnings.warn(msg)\n"
     ]
    },
    {
     "name": "stdout",
     "output_type": "stream",
     "text": [
      "HUDD response removed\n",
      "0.0\n",
      "0.478576149448\n",
      "0.0\n",
      "-2.49929039386\n",
      "nan\n",
      "0.0\n",
      "4.26318483704\n",
      "-0.822731746037\n",
      "nan\n",
      "nan\n",
      "0.0\n",
      "-2.49929039386\n",
      "nan\n",
      "nan\n",
      "nan\n",
      "0.0\n"
     ]
    },
    {
     "name": "stderr",
     "output_type": "stream",
     "text": [
      "/home/andbro/anaconda3/envs/obs/lib/python3.7/site-packages/ipykernel_launcher.py:20: RuntimeWarning: divide by zero encountered in log10\n",
      "/home/andbro/anaconda3/envs/obs/lib/python3.7/site-packages/ipykernel_launcher.py:21: RuntimeWarning: divide by zero encountered in log10\n",
      "/home/andbro/anaconda3/envs/obs/lib/python3.7/site-packages/ipykernel_launcher.py:62: UserWarning: Setting the 'color' property will override the edgecolor or facecolor properties.\n"
     ]
    },
    {
     "name": "stdout",
     "output_type": "stream",
     "text": [
      "Processing channel: HHE\n",
      "\n",
      "reading streams...\n",
      "1 Trace(s) in Stream:\n",
      "BW.29422..HHE | 2021-02-12T14:38:44.000000Z - 2021-02-14T23:59:59.995000Z | 200.0 Hz, 41295200 samples\n",
      "1 Trace(s) in Stream:\n",
      "BW.49510..HHE | 2021-02-12T14:42:14.000000Z - 2021-02-14T23:59:59.995000Z | 200.0 Hz, 41253200 samples\n",
      "1 Trace(s) in Stream:\n",
      "BW.10961..HHE | 2021-02-12T14:42:14.000000Z - 2021-02-14T23:59:59.995000Z | 200.0 Hz, 41253200 samples\n",
      "1 Trace(s) in Stream:\n",
      "BW.HUDD..HHE | 2021-02-12T00:00:00.000000Z - 2021-02-14T23:59:59.995000Z | 200.0 Hz, 51840000 samples\n",
      "4 Trace(s) in Stream:\n",
      "BW.10961..HHE | 2021-02-12T18:00:00.000000Z - 2021-02-14T23:00:00.000000Z | 200.0 Hz, 38160001 samples\n",
      "BW.29422..HHE | 2021-02-12T18:00:00.000000Z - 2021-02-14T23:00:00.000000Z | 200.0 Hz, 38160001 samples\n",
      "BW.49510..HHE | 2021-02-12T18:00:00.000000Z - 2021-02-14T23:00:00.000000Z | 200.0 Hz, 38160001 samples\n",
      "BW.HUDD..HHE  | 2021-02-12T18:00:00.000000Z - 2021-02-14T23:00:00.000000Z | 200.0 Hz, 38160001 samples\n",
      "\n",
      "processing t0: 2021-02-12T18:00:00.000000Z\n",
      "10961 response removed\n",
      "29422 response removed\n",
      "49510 response removed\n"
     ]
    },
    {
     "name": "stderr",
     "output_type": "stream",
     "text": [
      "/home/andbro/anaconda3/envs/obs/lib/python3.7/site-packages/obspy/core/inventory/response.py:1895: UserWarning: More than one PolesZerosResponseStage encountered. Returning first one found.\n",
      "  warnings.warn(msg)\n"
     ]
    },
    {
     "name": "stdout",
     "output_type": "stream",
     "text": [
      "HUDD response removed\n",
      "\n",
      "processing t0: 2021-02-12T19:00:00.000000Z\n",
      "10961 response removed\n",
      "29422 response removed\n",
      "49510 response removed\n"
     ]
    },
    {
     "name": "stderr",
     "output_type": "stream",
     "text": [
      "/home/andbro/anaconda3/envs/obs/lib/python3.7/site-packages/obspy/core/inventory/response.py:1895: UserWarning: More than one PolesZerosResponseStage encountered. Returning first one found.\n",
      "  warnings.warn(msg)\n"
     ]
    },
    {
     "name": "stdout",
     "output_type": "stream",
     "text": [
      "HUDD response removed\n",
      "\n",
      "processing t0: 2021-02-12T20:00:00.000000Z\n",
      "10961 response removed\n",
      "29422 response removed\n",
      "49510 response removed\n"
     ]
    },
    {
     "name": "stderr",
     "output_type": "stream",
     "text": [
      "/home/andbro/anaconda3/envs/obs/lib/python3.7/site-packages/obspy/core/inventory/response.py:1895: UserWarning: More than one PolesZerosResponseStage encountered. Returning first one found.\n",
      "  warnings.warn(msg)\n"
     ]
    },
    {
     "name": "stdout",
     "output_type": "stream",
     "text": [
      "HUDD response removed\n",
      "\n",
      "processing t0: 2021-02-12T21:00:00.000000Z\n",
      "10961 response removed\n",
      "29422 response removed\n",
      "49510 response removed\n"
     ]
    },
    {
     "name": "stderr",
     "output_type": "stream",
     "text": [
      "/home/andbro/anaconda3/envs/obs/lib/python3.7/site-packages/obspy/core/inventory/response.py:1895: UserWarning: More than one PolesZerosResponseStage encountered. Returning first one found.\n",
      "  warnings.warn(msg)\n"
     ]
    },
    {
     "name": "stdout",
     "output_type": "stream",
     "text": [
      "HUDD response removed\n",
      "\n",
      "processing t0: 2021-02-12T22:00:00.000000Z\n",
      "10961 response removed\n",
      "29422 response removed\n",
      "49510 response removed\n"
     ]
    },
    {
     "name": "stderr",
     "output_type": "stream",
     "text": [
      "/home/andbro/anaconda3/envs/obs/lib/python3.7/site-packages/obspy/core/inventory/response.py:1895: UserWarning: More than one PolesZerosResponseStage encountered. Returning first one found.\n",
      "  warnings.warn(msg)\n"
     ]
    },
    {
     "name": "stdout",
     "output_type": "stream",
     "text": [
      "HUDD response removed\n",
      "\n",
      "processing t0: 2021-02-12T23:00:00.000000Z\n",
      "10961 response removed\n",
      "29422 response removed\n",
      "49510 response removed\n"
     ]
    },
    {
     "name": "stderr",
     "output_type": "stream",
     "text": [
      "/home/andbro/anaconda3/envs/obs/lib/python3.7/site-packages/obspy/core/inventory/response.py:1895: UserWarning: More than one PolesZerosResponseStage encountered. Returning first one found.\n",
      "  warnings.warn(msg)\n"
     ]
    },
    {
     "name": "stdout",
     "output_type": "stream",
     "text": [
      "HUDD response removed\n",
      "\n",
      "processing t0: 2021-02-13T00:00:00.000000Z\n",
      "10961 response removed\n",
      "29422 response removed\n",
      "49510 response removed\n"
     ]
    },
    {
     "name": "stderr",
     "output_type": "stream",
     "text": [
      "/home/andbro/anaconda3/envs/obs/lib/python3.7/site-packages/obspy/core/inventory/response.py:1895: UserWarning: More than one PolesZerosResponseStage encountered. Returning first one found.\n",
      "  warnings.warn(msg)\n"
     ]
    },
    {
     "name": "stdout",
     "output_type": "stream",
     "text": [
      "HUDD response removed\n",
      "\n",
      "processing t0: 2021-02-13T01:00:00.000000Z\n",
      "10961 response removed\n",
      "29422 response removed\n",
      "49510 response removed\n"
     ]
    },
    {
     "name": "stderr",
     "output_type": "stream",
     "text": [
      "/home/andbro/anaconda3/envs/obs/lib/python3.7/site-packages/obspy/core/inventory/response.py:1895: UserWarning: More than one PolesZerosResponseStage encountered. Returning first one found.\n",
      "  warnings.warn(msg)\n"
     ]
    },
    {
     "name": "stdout",
     "output_type": "stream",
     "text": [
      "HUDD response removed\n",
      "\n",
      "processing t0: 2021-02-13T02:00:00.000000Z\n",
      "10961 response removed\n",
      "29422 response removed\n",
      "49510 response removed\n"
     ]
    },
    {
     "name": "stderr",
     "output_type": "stream",
     "text": [
      "/home/andbro/anaconda3/envs/obs/lib/python3.7/site-packages/obspy/core/inventory/response.py:1895: UserWarning: More than one PolesZerosResponseStage encountered. Returning first one found.\n",
      "  warnings.warn(msg)\n"
     ]
    },
    {
     "name": "stdout",
     "output_type": "stream",
     "text": [
      "HUDD response removed\n",
      "\n",
      "processing t0: 2021-02-13T03:00:00.000000Z\n",
      "10961 response removed\n",
      "29422 response removed\n",
      "49510 response removed\n"
     ]
    },
    {
     "name": "stderr",
     "output_type": "stream",
     "text": [
      "/home/andbro/anaconda3/envs/obs/lib/python3.7/site-packages/obspy/core/inventory/response.py:1895: UserWarning: More than one PolesZerosResponseStage encountered. Returning first one found.\n",
      "  warnings.warn(msg)\n"
     ]
    },
    {
     "name": "stdout",
     "output_type": "stream",
     "text": [
      "HUDD response removed\n",
      "\n",
      "processing t0: 2021-02-13T04:00:00.000000Z\n",
      "10961 response removed\n",
      "29422 response removed\n",
      "49510 response removed\n"
     ]
    },
    {
     "name": "stderr",
     "output_type": "stream",
     "text": [
      "/home/andbro/anaconda3/envs/obs/lib/python3.7/site-packages/obspy/core/inventory/response.py:1895: UserWarning: More than one PolesZerosResponseStage encountered. Returning first one found.\n",
      "  warnings.warn(msg)\n"
     ]
    },
    {
     "name": "stdout",
     "output_type": "stream",
     "text": [
      "HUDD response removed\n",
      "\n",
      "processing t0: 2021-02-13T05:00:00.000000Z\n",
      "10961 response removed\n",
      "29422 response removed\n",
      "49510 response removed\n"
     ]
    },
    {
     "name": "stderr",
     "output_type": "stream",
     "text": [
      "/home/andbro/anaconda3/envs/obs/lib/python3.7/site-packages/obspy/core/inventory/response.py:1895: UserWarning: More than one PolesZerosResponseStage encountered. Returning first one found.\n",
      "  warnings.warn(msg)\n"
     ]
    },
    {
     "name": "stdout",
     "output_type": "stream",
     "text": [
      "HUDD response removed\n",
      "\n",
      "processing t0: 2021-02-13T06:00:00.000000Z\n",
      "10961 response removed\n",
      "29422 response removed\n",
      "49510 response removed\n"
     ]
    },
    {
     "name": "stderr",
     "output_type": "stream",
     "text": [
      "/home/andbro/anaconda3/envs/obs/lib/python3.7/site-packages/obspy/core/inventory/response.py:1895: UserWarning: More than one PolesZerosResponseStage encountered. Returning first one found.\n",
      "  warnings.warn(msg)\n"
     ]
    },
    {
     "name": "stdout",
     "output_type": "stream",
     "text": [
      "HUDD response removed\n",
      "\n",
      "processing t0: 2021-02-13T07:00:00.000000Z\n",
      "10961 response removed\n",
      "29422 response removed\n",
      "49510 response removed\n"
     ]
    },
    {
     "name": "stderr",
     "output_type": "stream",
     "text": [
      "/home/andbro/anaconda3/envs/obs/lib/python3.7/site-packages/obspy/core/inventory/response.py:1895: UserWarning: More than one PolesZerosResponseStage encountered. Returning first one found.\n",
      "  warnings.warn(msg)\n"
     ]
    },
    {
     "name": "stdout",
     "output_type": "stream",
     "text": [
      "HUDD response removed\n",
      "\n",
      "processing t0: 2021-02-13T08:00:00.000000Z\n",
      "10961 response removed\n",
      "29422 response removed\n",
      "49510 response removed\n"
     ]
    },
    {
     "name": "stderr",
     "output_type": "stream",
     "text": [
      "/home/andbro/anaconda3/envs/obs/lib/python3.7/site-packages/obspy/core/inventory/response.py:1895: UserWarning: More than one PolesZerosResponseStage encountered. Returning first one found.\n",
      "  warnings.warn(msg)\n"
     ]
    },
    {
     "name": "stdout",
     "output_type": "stream",
     "text": [
      "HUDD response removed\n",
      "\n",
      "processing t0: 2021-02-13T09:00:00.000000Z\n",
      "10961 response removed\n",
      "29422 response removed\n",
      "49510 response removed\n"
     ]
    },
    {
     "name": "stderr",
     "output_type": "stream",
     "text": [
      "/home/andbro/anaconda3/envs/obs/lib/python3.7/site-packages/obspy/core/inventory/response.py:1895: UserWarning: More than one PolesZerosResponseStage encountered. Returning first one found.\n",
      "  warnings.warn(msg)\n"
     ]
    },
    {
     "name": "stdout",
     "output_type": "stream",
     "text": [
      "HUDD response removed\n",
      "\n",
      "processing t0: 2021-02-13T10:00:00.000000Z\n",
      "10961 response removed\n",
      "29422 response removed\n",
      "49510 response removed\n"
     ]
    },
    {
     "name": "stderr",
     "output_type": "stream",
     "text": [
      "/home/andbro/anaconda3/envs/obs/lib/python3.7/site-packages/obspy/core/inventory/response.py:1895: UserWarning: More than one PolesZerosResponseStage encountered. Returning first one found.\n",
      "  warnings.warn(msg)\n"
     ]
    },
    {
     "name": "stdout",
     "output_type": "stream",
     "text": [
      "HUDD response removed\n",
      "\n",
      "processing t0: 2021-02-13T11:00:00.000000Z\n",
      "10961 response removed\n",
      "29422 response removed\n",
      "49510 response removed\n"
     ]
    },
    {
     "name": "stderr",
     "output_type": "stream",
     "text": [
      "/home/andbro/anaconda3/envs/obs/lib/python3.7/site-packages/obspy/core/inventory/response.py:1895: UserWarning: More than one PolesZerosResponseStage encountered. Returning first one found.\n",
      "  warnings.warn(msg)\n"
     ]
    },
    {
     "name": "stdout",
     "output_type": "stream",
     "text": [
      "HUDD response removed\n",
      "\n",
      "processing t0: 2021-02-13T12:00:00.000000Z\n",
      "10961 response removed\n",
      "29422 response removed\n",
      "49510 response removed\n"
     ]
    },
    {
     "name": "stderr",
     "output_type": "stream",
     "text": [
      "/home/andbro/anaconda3/envs/obs/lib/python3.7/site-packages/obspy/core/inventory/response.py:1895: UserWarning: More than one PolesZerosResponseStage encountered. Returning first one found.\n",
      "  warnings.warn(msg)\n"
     ]
    },
    {
     "name": "stdout",
     "output_type": "stream",
     "text": [
      "HUDD response removed\n",
      "\n",
      "processing t0: 2021-02-13T13:00:00.000000Z\n",
      "10961 response removed\n",
      "29422 response removed\n",
      "49510 response removed\n"
     ]
    },
    {
     "name": "stderr",
     "output_type": "stream",
     "text": [
      "/home/andbro/anaconda3/envs/obs/lib/python3.7/site-packages/obspy/core/inventory/response.py:1895: UserWarning: More than one PolesZerosResponseStage encountered. Returning first one found.\n",
      "  warnings.warn(msg)\n"
     ]
    },
    {
     "name": "stdout",
     "output_type": "stream",
     "text": [
      "HUDD response removed\n",
      "\n",
      "processing t0: 2021-02-13T14:00:00.000000Z\n",
      "10961 response removed\n",
      "29422 response removed\n",
      "49510 response removed\n"
     ]
    },
    {
     "name": "stderr",
     "output_type": "stream",
     "text": [
      "/home/andbro/anaconda3/envs/obs/lib/python3.7/site-packages/obspy/core/inventory/response.py:1895: UserWarning: More than one PolesZerosResponseStage encountered. Returning first one found.\n",
      "  warnings.warn(msg)\n"
     ]
    },
    {
     "name": "stdout",
     "output_type": "stream",
     "text": [
      "HUDD response removed\n",
      "\n",
      "processing t0: 2021-02-13T15:00:00.000000Z\n",
      "10961 response removed\n",
      "29422 response removed\n",
      "49510 response removed\n"
     ]
    },
    {
     "name": "stderr",
     "output_type": "stream",
     "text": [
      "/home/andbro/anaconda3/envs/obs/lib/python3.7/site-packages/obspy/core/inventory/response.py:1895: UserWarning: More than one PolesZerosResponseStage encountered. Returning first one found.\n",
      "  warnings.warn(msg)\n"
     ]
    },
    {
     "name": "stdout",
     "output_type": "stream",
     "text": [
      "HUDD response removed\n",
      "\n",
      "processing t0: 2021-02-13T16:00:00.000000Z\n",
      "10961 response removed\n",
      "29422 response removed\n",
      "49510 response removed\n"
     ]
    },
    {
     "name": "stderr",
     "output_type": "stream",
     "text": [
      "/home/andbro/anaconda3/envs/obs/lib/python3.7/site-packages/obspy/core/inventory/response.py:1895: UserWarning: More than one PolesZerosResponseStage encountered. Returning first one found.\n",
      "  warnings.warn(msg)\n"
     ]
    },
    {
     "name": "stdout",
     "output_type": "stream",
     "text": [
      "HUDD response removed\n",
      "\n",
      "processing t0: 2021-02-13T17:00:00.000000Z\n",
      "10961 response removed\n",
      "29422 response removed\n",
      "49510 response removed\n"
     ]
    },
    {
     "name": "stderr",
     "output_type": "stream",
     "text": [
      "/home/andbro/anaconda3/envs/obs/lib/python3.7/site-packages/obspy/core/inventory/response.py:1895: UserWarning: More than one PolesZerosResponseStage encountered. Returning first one found.\n",
      "  warnings.warn(msg)\n"
     ]
    },
    {
     "name": "stdout",
     "output_type": "stream",
     "text": [
      "HUDD response removed\n",
      "\n",
      "processing t0: 2021-02-13T18:00:00.000000Z\n",
      "10961 response removed\n",
      "29422 response removed\n",
      "49510 response removed\n"
     ]
    },
    {
     "name": "stderr",
     "output_type": "stream",
     "text": [
      "/home/andbro/anaconda3/envs/obs/lib/python3.7/site-packages/obspy/core/inventory/response.py:1895: UserWarning: More than one PolesZerosResponseStage encountered. Returning first one found.\n",
      "  warnings.warn(msg)\n"
     ]
    },
    {
     "name": "stdout",
     "output_type": "stream",
     "text": [
      "HUDD response removed\n",
      "\n",
      "processing t0: 2021-02-13T19:00:00.000000Z\n",
      "10961 response removed\n",
      "29422 response removed\n",
      "49510 response removed\n"
     ]
    },
    {
     "name": "stderr",
     "output_type": "stream",
     "text": [
      "/home/andbro/anaconda3/envs/obs/lib/python3.7/site-packages/obspy/core/inventory/response.py:1895: UserWarning: More than one PolesZerosResponseStage encountered. Returning first one found.\n",
      "  warnings.warn(msg)\n"
     ]
    },
    {
     "name": "stdout",
     "output_type": "stream",
     "text": [
      "HUDD response removed\n",
      "\n",
      "processing t0: 2021-02-13T20:00:00.000000Z\n",
      "10961 response removed\n",
      "29422 response removed\n",
      "49510 response removed\n"
     ]
    },
    {
     "name": "stderr",
     "output_type": "stream",
     "text": [
      "/home/andbro/anaconda3/envs/obs/lib/python3.7/site-packages/obspy/core/inventory/response.py:1895: UserWarning: More than one PolesZerosResponseStage encountered. Returning first one found.\n",
      "  warnings.warn(msg)\n"
     ]
    },
    {
     "name": "stdout",
     "output_type": "stream",
     "text": [
      "HUDD response removed\n",
      "\n",
      "processing t0: 2021-02-13T21:00:00.000000Z\n",
      "10961 response removed\n",
      "29422 response removed\n",
      "49510 response removed\n"
     ]
    },
    {
     "name": "stderr",
     "output_type": "stream",
     "text": [
      "/home/andbro/anaconda3/envs/obs/lib/python3.7/site-packages/obspy/core/inventory/response.py:1895: UserWarning: More than one PolesZerosResponseStage encountered. Returning first one found.\n",
      "  warnings.warn(msg)\n"
     ]
    },
    {
     "name": "stdout",
     "output_type": "stream",
     "text": [
      "HUDD response removed\n",
      "\n",
      "processing t0: 2021-02-13T22:00:00.000000Z\n",
      "10961 response removed\n",
      "29422 response removed\n",
      "49510 response removed\n"
     ]
    },
    {
     "name": "stderr",
     "output_type": "stream",
     "text": [
      "/home/andbro/anaconda3/envs/obs/lib/python3.7/site-packages/obspy/core/inventory/response.py:1895: UserWarning: More than one PolesZerosResponseStage encountered. Returning first one found.\n",
      "  warnings.warn(msg)\n"
     ]
    },
    {
     "name": "stdout",
     "output_type": "stream",
     "text": [
      "HUDD response removed\n",
      "\n",
      "processing t0: 2021-02-13T23:00:00.000000Z\n",
      "10961 response removed\n",
      "29422 response removed\n",
      "49510 response removed\n"
     ]
    },
    {
     "name": "stderr",
     "output_type": "stream",
     "text": [
      "/home/andbro/anaconda3/envs/obs/lib/python3.7/site-packages/obspy/core/inventory/response.py:1895: UserWarning: More than one PolesZerosResponseStage encountered. Returning first one found.\n",
      "  warnings.warn(msg)\n"
     ]
    },
    {
     "name": "stdout",
     "output_type": "stream",
     "text": [
      "HUDD response removed\n",
      "\n",
      "processing t0: 2021-02-14T00:00:00.000000Z\n",
      "10961 response removed\n",
      "29422 response removed\n",
      "49510 response removed\n"
     ]
    },
    {
     "name": "stderr",
     "output_type": "stream",
     "text": [
      "/home/andbro/anaconda3/envs/obs/lib/python3.7/site-packages/obspy/core/inventory/response.py:1895: UserWarning: More than one PolesZerosResponseStage encountered. Returning first one found.\n",
      "  warnings.warn(msg)\n"
     ]
    },
    {
     "name": "stdout",
     "output_type": "stream",
     "text": [
      "HUDD response removed\n",
      "\n",
      "processing t0: 2021-02-14T01:00:00.000000Z\n",
      "10961 response removed\n",
      "29422 response removed\n",
      "49510 response removed\n"
     ]
    },
    {
     "name": "stderr",
     "output_type": "stream",
     "text": [
      "/home/andbro/anaconda3/envs/obs/lib/python3.7/site-packages/obspy/core/inventory/response.py:1895: UserWarning: More than one PolesZerosResponseStage encountered. Returning first one found.\n",
      "  warnings.warn(msg)\n"
     ]
    },
    {
     "name": "stdout",
     "output_type": "stream",
     "text": [
      "HUDD response removed\n",
      "\n",
      "processing t0: 2021-02-14T02:00:00.000000Z\n",
      "10961 response removed\n",
      "29422 response removed\n",
      "49510 response removed\n"
     ]
    },
    {
     "name": "stderr",
     "output_type": "stream",
     "text": [
      "/home/andbro/anaconda3/envs/obs/lib/python3.7/site-packages/obspy/core/inventory/response.py:1895: UserWarning: More than one PolesZerosResponseStage encountered. Returning first one found.\n",
      "  warnings.warn(msg)\n"
     ]
    },
    {
     "name": "stdout",
     "output_type": "stream",
     "text": [
      "HUDD response removed\n",
      "\n",
      "processing t0: 2021-02-14T03:00:00.000000Z\n",
      "10961 response removed\n",
      "29422 response removed\n",
      "49510 response removed\n"
     ]
    },
    {
     "name": "stderr",
     "output_type": "stream",
     "text": [
      "/home/andbro/anaconda3/envs/obs/lib/python3.7/site-packages/obspy/core/inventory/response.py:1895: UserWarning: More than one PolesZerosResponseStage encountered. Returning first one found.\n",
      "  warnings.warn(msg)\n"
     ]
    },
    {
     "name": "stdout",
     "output_type": "stream",
     "text": [
      "HUDD response removed\n",
      "\n",
      "processing t0: 2021-02-14T04:00:00.000000Z\n",
      "10961 response removed\n",
      "29422 response removed\n",
      "49510 response removed\n"
     ]
    },
    {
     "name": "stderr",
     "output_type": "stream",
     "text": [
      "/home/andbro/anaconda3/envs/obs/lib/python3.7/site-packages/obspy/core/inventory/response.py:1895: UserWarning: More than one PolesZerosResponseStage encountered. Returning first one found.\n",
      "  warnings.warn(msg)\n"
     ]
    },
    {
     "name": "stdout",
     "output_type": "stream",
     "text": [
      "HUDD response removed\n",
      "\n",
      "processing t0: 2021-02-14T05:00:00.000000Z\n",
      "10961 response removed\n",
      "29422 response removed\n",
      "49510 response removed\n"
     ]
    },
    {
     "name": "stderr",
     "output_type": "stream",
     "text": [
      "/home/andbro/anaconda3/envs/obs/lib/python3.7/site-packages/obspy/core/inventory/response.py:1895: UserWarning: More than one PolesZerosResponseStage encountered. Returning first one found.\n",
      "  warnings.warn(msg)\n"
     ]
    },
    {
     "name": "stdout",
     "output_type": "stream",
     "text": [
      "HUDD response removed\n",
      "\n",
      "processing t0: 2021-02-14T06:00:00.000000Z\n",
      "10961 response removed\n",
      "29422 response removed\n",
      "49510 response removed\n"
     ]
    },
    {
     "name": "stderr",
     "output_type": "stream",
     "text": [
      "/home/andbro/anaconda3/envs/obs/lib/python3.7/site-packages/obspy/core/inventory/response.py:1895: UserWarning: More than one PolesZerosResponseStage encountered. Returning first one found.\n",
      "  warnings.warn(msg)\n"
     ]
    },
    {
     "name": "stdout",
     "output_type": "stream",
     "text": [
      "HUDD response removed\n",
      "\n",
      "processing t0: 2021-02-14T07:00:00.000000Z\n",
      "10961 response removed\n",
      "29422 response removed\n",
      "49510 response removed\n"
     ]
    },
    {
     "name": "stderr",
     "output_type": "stream",
     "text": [
      "/home/andbro/anaconda3/envs/obs/lib/python3.7/site-packages/obspy/core/inventory/response.py:1895: UserWarning: More than one PolesZerosResponseStage encountered. Returning first one found.\n",
      "  warnings.warn(msg)\n"
     ]
    },
    {
     "name": "stdout",
     "output_type": "stream",
     "text": [
      "HUDD response removed\n",
      "\n",
      "processing t0: 2021-02-14T08:00:00.000000Z\n",
      "10961 response removed\n",
      "29422 response removed\n",
      "49510 response removed\n"
     ]
    },
    {
     "name": "stderr",
     "output_type": "stream",
     "text": [
      "/home/andbro/anaconda3/envs/obs/lib/python3.7/site-packages/obspy/core/inventory/response.py:1895: UserWarning: More than one PolesZerosResponseStage encountered. Returning first one found.\n",
      "  warnings.warn(msg)\n"
     ]
    },
    {
     "name": "stdout",
     "output_type": "stream",
     "text": [
      "HUDD response removed\n",
      "\n",
      "processing t0: 2021-02-14T09:00:00.000000Z\n",
      "10961 response removed\n",
      "29422 response removed\n",
      "49510 response removed\n"
     ]
    },
    {
     "name": "stderr",
     "output_type": "stream",
     "text": [
      "/home/andbro/anaconda3/envs/obs/lib/python3.7/site-packages/obspy/core/inventory/response.py:1895: UserWarning: More than one PolesZerosResponseStage encountered. Returning first one found.\n",
      "  warnings.warn(msg)\n"
     ]
    },
    {
     "name": "stdout",
     "output_type": "stream",
     "text": [
      "HUDD response removed\n",
      "\n",
      "processing t0: 2021-02-14T10:00:00.000000Z\n",
      "10961 response removed\n",
      "29422 response removed\n",
      "49510 response removed\n"
     ]
    },
    {
     "name": "stderr",
     "output_type": "stream",
     "text": [
      "/home/andbro/anaconda3/envs/obs/lib/python3.7/site-packages/obspy/core/inventory/response.py:1895: UserWarning: More than one PolesZerosResponseStage encountered. Returning first one found.\n",
      "  warnings.warn(msg)\n"
     ]
    },
    {
     "name": "stdout",
     "output_type": "stream",
     "text": [
      "HUDD response removed\n",
      "\n",
      "processing t0: 2021-02-14T11:00:00.000000Z\n",
      "10961 response removed\n",
      "29422 response removed\n",
      "49510 response removed\n"
     ]
    },
    {
     "name": "stderr",
     "output_type": "stream",
     "text": [
      "/home/andbro/anaconda3/envs/obs/lib/python3.7/site-packages/obspy/core/inventory/response.py:1895: UserWarning: More than one PolesZerosResponseStage encountered. Returning first one found.\n",
      "  warnings.warn(msg)\n"
     ]
    },
    {
     "name": "stdout",
     "output_type": "stream",
     "text": [
      "HUDD response removed\n",
      "\n",
      "processing t0: 2021-02-14T12:00:00.000000Z\n",
      "10961 response removed\n",
      "29422 response removed\n",
      "49510 response removed\n"
     ]
    },
    {
     "name": "stderr",
     "output_type": "stream",
     "text": [
      "/home/andbro/anaconda3/envs/obs/lib/python3.7/site-packages/obspy/core/inventory/response.py:1895: UserWarning: More than one PolesZerosResponseStage encountered. Returning first one found.\n",
      "  warnings.warn(msg)\n"
     ]
    },
    {
     "name": "stdout",
     "output_type": "stream",
     "text": [
      "HUDD response removed\n",
      "\n",
      "processing t0: 2021-02-14T13:00:00.000000Z\n",
      "10961 response removed\n",
      "29422 response removed\n",
      "49510 response removed\n"
     ]
    },
    {
     "name": "stderr",
     "output_type": "stream",
     "text": [
      "/home/andbro/anaconda3/envs/obs/lib/python3.7/site-packages/obspy/core/inventory/response.py:1895: UserWarning: More than one PolesZerosResponseStage encountered. Returning first one found.\n",
      "  warnings.warn(msg)\n"
     ]
    },
    {
     "name": "stdout",
     "output_type": "stream",
     "text": [
      "HUDD response removed\n",
      "\n",
      "processing t0: 2021-02-14T14:00:00.000000Z\n",
      "10961 response removed\n",
      "29422 response removed\n",
      "49510 response removed\n"
     ]
    },
    {
     "name": "stderr",
     "output_type": "stream",
     "text": [
      "/home/andbro/anaconda3/envs/obs/lib/python3.7/site-packages/obspy/core/inventory/response.py:1895: UserWarning: More than one PolesZerosResponseStage encountered. Returning first one found.\n",
      "  warnings.warn(msg)\n"
     ]
    },
    {
     "name": "stdout",
     "output_type": "stream",
     "text": [
      "HUDD response removed\n",
      "\n",
      "processing t0: 2021-02-14T15:00:00.000000Z\n",
      "10961 response removed\n",
      "29422 response removed\n",
      "49510 response removed\n"
     ]
    },
    {
     "name": "stderr",
     "output_type": "stream",
     "text": [
      "/home/andbro/anaconda3/envs/obs/lib/python3.7/site-packages/obspy/core/inventory/response.py:1895: UserWarning: More than one PolesZerosResponseStage encountered. Returning first one found.\n",
      "  warnings.warn(msg)\n"
     ]
    },
    {
     "name": "stdout",
     "output_type": "stream",
     "text": [
      "HUDD response removed\n",
      "\n",
      "processing t0: 2021-02-14T16:00:00.000000Z\n",
      "10961 response removed\n",
      "29422 response removed\n",
      "49510 response removed\n"
     ]
    },
    {
     "name": "stderr",
     "output_type": "stream",
     "text": [
      "/home/andbro/anaconda3/envs/obs/lib/python3.7/site-packages/obspy/core/inventory/response.py:1895: UserWarning: More than one PolesZerosResponseStage encountered. Returning first one found.\n",
      "  warnings.warn(msg)\n"
     ]
    },
    {
     "name": "stdout",
     "output_type": "stream",
     "text": [
      "HUDD response removed\n",
      "\n",
      "processing t0: 2021-02-14T17:00:00.000000Z\n",
      "10961 response removed\n",
      "29422 response removed\n",
      "49510 response removed\n"
     ]
    },
    {
     "name": "stderr",
     "output_type": "stream",
     "text": [
      "/home/andbro/anaconda3/envs/obs/lib/python3.7/site-packages/obspy/core/inventory/response.py:1895: UserWarning: More than one PolesZerosResponseStage encountered. Returning first one found.\n",
      "  warnings.warn(msg)\n"
     ]
    },
    {
     "name": "stdout",
     "output_type": "stream",
     "text": [
      "HUDD response removed\n",
      "\n",
      "processing t0: 2021-02-14T18:00:00.000000Z\n",
      "10961 response removed\n",
      "29422 response removed\n",
      "49510 response removed\n"
     ]
    },
    {
     "name": "stderr",
     "output_type": "stream",
     "text": [
      "/home/andbro/anaconda3/envs/obs/lib/python3.7/site-packages/obspy/core/inventory/response.py:1895: UserWarning: More than one PolesZerosResponseStage encountered. Returning first one found.\n",
      "  warnings.warn(msg)\n"
     ]
    },
    {
     "name": "stdout",
     "output_type": "stream",
     "text": [
      "HUDD response removed\n",
      "\n",
      "processing t0: 2021-02-14T19:00:00.000000Z\n",
      "10961 response removed\n",
      "29422 response removed\n",
      "49510 response removed\n"
     ]
    },
    {
     "name": "stderr",
     "output_type": "stream",
     "text": [
      "/home/andbro/anaconda3/envs/obs/lib/python3.7/site-packages/obspy/core/inventory/response.py:1895: UserWarning: More than one PolesZerosResponseStage encountered. Returning first one found.\n",
      "  warnings.warn(msg)\n"
     ]
    },
    {
     "name": "stdout",
     "output_type": "stream",
     "text": [
      "HUDD response removed\n",
      "\n",
      "processing t0: 2021-02-14T20:00:00.000000Z\n",
      "10961 response removed\n",
      "29422 response removed\n",
      "49510 response removed\n"
     ]
    },
    {
     "name": "stderr",
     "output_type": "stream",
     "text": [
      "/home/andbro/anaconda3/envs/obs/lib/python3.7/site-packages/obspy/core/inventory/response.py:1895: UserWarning: More than one PolesZerosResponseStage encountered. Returning first one found.\n",
      "  warnings.warn(msg)\n"
     ]
    },
    {
     "name": "stdout",
     "output_type": "stream",
     "text": [
      "HUDD response removed\n",
      "\n",
      "processing t0: 2021-02-14T21:00:00.000000Z\n",
      "10961 response removed\n",
      "29422 response removed\n",
      "49510 response removed\n"
     ]
    },
    {
     "name": "stderr",
     "output_type": "stream",
     "text": [
      "/home/andbro/anaconda3/envs/obs/lib/python3.7/site-packages/obspy/core/inventory/response.py:1895: UserWarning: More than one PolesZerosResponseStage encountered. Returning first one found.\n",
      "  warnings.warn(msg)\n"
     ]
    },
    {
     "name": "stdout",
     "output_type": "stream",
     "text": [
      "HUDD response removed\n",
      "\n",
      "processing t0: 2021-02-14T22:00:00.000000Z\n",
      "10961 response removed\n",
      "29422 response removed\n",
      "49510 response removed\n"
     ]
    },
    {
     "name": "stderr",
     "output_type": "stream",
     "text": [
      "/home/andbro/anaconda3/envs/obs/lib/python3.7/site-packages/obspy/core/inventory/response.py:1895: UserWarning: More than one PolesZerosResponseStage encountered. Returning first one found.\n",
      "  warnings.warn(msg)\n"
     ]
    },
    {
     "name": "stdout",
     "output_type": "stream",
     "text": [
      "HUDD response removed\n",
      "0.0\n",
      "-0.537929444628\n",
      "0.0\n",
      "0.216982053213\n",
      "nan\n",
      "0.0\n",
      "2.4499543326\n",
      "1.52299711718\n",
      "nan\n",
      "nan\n",
      "0.0\n",
      "0.216982053213\n",
      "nan\n",
      "nan\n",
      "nan\n",
      "0.0\n",
      "DONE\n"
     ]
    },
    {
     "name": "stderr",
     "output_type": "stream",
     "text": [
      "/home/andbro/anaconda3/envs/obs/lib/python3.7/site-packages/ipykernel_launcher.py:20: RuntimeWarning: divide by zero encountered in log10\n",
      "/home/andbro/anaconda3/envs/obs/lib/python3.7/site-packages/ipykernel_launcher.py:21: RuntimeWarning: divide by zero encountered in log10\n",
      "/home/andbro/anaconda3/envs/obs/lib/python3.7/site-packages/ipykernel_launcher.py:62: UserWarning: Setting the 'color' property will override the edgecolor or facecolor properties.\n"
     ]
    }
   ],
   "source": [
    "\n",
    "## ___________________________\n",
    "## LOOP over 1hr data windows\n",
    "\n",
    "for chn in channels:\n",
    "    print('Processing channel: ' + chn)\n",
    "    \n",
    "    cnt = 0 # count number of spectral ratios in sum\n",
    "    \n",
    "    timestr = \"%s - %s\" % (s0.strftime(\"%Y.%m.%dT%H:%M\"), (s1-1).strftime(\"%Y.%m.%dT%H:%M\"))\n",
    "    \n",
    "    \n",
    "    ## load one channel for all sensors in one stream\n",
    "    print(\"\\nreading streams...\")\n",
    "    st1 = __load_streams(sensors, s0, s1, path, chn)\n",
    "\n",
    "#     st1.detrend('demean')\n",
    "#     st1.filter('lowpass', freq=20.0, corners=4, zerophase=True)\n",
    "    \n",
    "\n",
    "    Z = st1.copy()\n",
    "    Z.merge()\n",
    "    Z.sort()\n",
    "    print(Z.__str__(extended=True))\n",
    "\n",
    "    if save:\n",
    "        fout = path2plot + f\"/{chn}_traces.png\"\n",
    "        Z.plot(outfile=fout)\n",
    "    else:\n",
    "        Z.plot();\n",
    "    \n",
    "    \n",
    "    t0, t1 = s0, s1\n",
    "\n",
    "    while t0 <= t1 - 3600:\n",
    "        print(\"\\nprocessing t0: %s\" % str(t0))\n",
    "        \n",
    "        ## call calibration function\n",
    "        st, freqs, frange = __calib_stream(Z.slice(starttime=t0, endtime=t0+3600), 1, path, [f_lower, f_upper])\n",
    "        \n",
    "        ## call calibration_spec\n",
    "        sens = __calib_spec(st, freqs, frange)\n",
    "        \n",
    "        if cnt == 0:\n",
    "            senssum = sens\n",
    "        else:\n",
    "            senssum = np.dstack((senssum, sens))\n",
    "        cnt += 1\n",
    "        t0 += 3600\n",
    "    \n",
    "    ## ___________________________\n",
    "    ## Postprocessing\n",
    "    \n",
    "    lbls = [tr.stats.station for tr in Z]\n",
    "#     print(lbls)\n",
    "    \n",
    "    m = np.median(senssum, axis = 2 ) # FINAL sensitivity matrix is median of all calculated matrices\n",
    "    \n",
    "    pct = (m - 1) * 100 # deviation in percent\n",
    "\n",
    "    d = m.copy()\n",
    "    \n",
    "\n",
    "    \n",
    "    \n",
    "    for i, sta1 in enumerate(lbls):\n",
    "        gain1 =  __get_gain(path, f'{sta1}.xml')\n",
    "        \n",
    "        \n",
    "        for j, sta2 in enumerate(lbls):\n",
    "            gain2 =  __get_gain(path, f'{sta2}.xml')\n",
    "\n",
    "\n",
    "            d[i,j] = (m[i,j]*gain1 - gain2) * 100 / gain2 # relative deviation in % from nominal value\n",
    "            print(d[i,j])\n",
    "        \n",
    "    ## _________________________\n",
    "    ## Plotting\n",
    "            \n",
    "    fname = f'{path2plot}/huddle_result_{chn}_RR_{f_lower}-{f_upper}Hz.png'  if save else None\n",
    "    \n",
    "    __plot_matrix(d, title_str + ' %s - %s' % (timestr, chn), \n",
    "                      lbls, \n",
    "                      fname=fname, \n",
    "                      cmap=cmap, \n",
    "                      clabel='deviation from nominal sensitivity in %', \n",
    "                      vmax=3,\n",
    "                     )\n",
    "    \n",
    "    if fname is not None:\n",
    "        np.savez(fname.rsplit(\".\", 1)[0], senssum=senssum, lbls=lbls)\n",
    "\n",
    "        \n",
    "print(\"DONE\")"
   ]
  },
  {
   "cell_type": "code",
   "execution_count": null,
   "id": "center-omaha",
   "metadata": {},
   "outputs": [],
   "source": []
  }
 ],
 "metadata": {
  "kernelspec": {
   "display_name": "Python 3",
   "language": "python",
   "name": "python3"
  },
  "language_info": {
   "codemirror_mode": {
    "name": "ipython",
    "version": 3
   },
   "file_extension": ".py",
   "mimetype": "text/x-python",
   "name": "python",
   "nbconvert_exporter": "python",
   "pygments_lexer": "ipython3",
   "version": "3.7.8"
  }
 },
 "nbformat": 4,
 "nbformat_minor": 5
}
