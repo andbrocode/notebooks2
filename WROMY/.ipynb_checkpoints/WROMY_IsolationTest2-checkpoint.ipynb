{
 "cells": [
  {
   "cell_type": "markdown",
   "id": "e9ee9386",
   "metadata": {},
   "source": [
    "## Isolation Test 2 - After Ceiling Plate had been installed"
   ]
  },
  {
   "cell_type": "code",
   "execution_count": 1,
   "id": "f27a8ba0",
   "metadata": {
    "ExecuteTime": {
     "end_time": "2023-06-05T14:47:11.420809Z",
     "start_time": "2023-06-05T14:47:08.861841Z"
    }
   },
   "outputs": [],
   "source": [
    "import pandas as pd\n",
    "import matplotlib.pyplot as plt\n",
    "import numpy as np\n",
    "\n",
    "from numpy import nan\n",
    "from pathlib import Path\n",
    "from obspy import UTCDateTime, Stream\n",
    "\n",
    "from andbro__get_timeaxis import __get_timeaxis\n",
    "from andbro__load_FURT_stream import __load_furt_stream\n",
    "from andbro__load_WROMY_stream import __load_wromy_stream"
   ]
  },
  {
   "cell_type": "markdown",
   "id": "a09ecf84",
   "metadata": {},
   "source": [
    "### Configurations"
   ]
  },
  {
   "cell_type": "code",
   "execution_count": 12,
   "id": "598bc2c0",
   "metadata": {
    "ExecuteTime": {
     "end_time": "2023-06-05T15:12:20.444886Z",
     "start_time": "2023-06-05T15:12:20.437616Z"
    }
   },
   "outputs": [],
   "source": [
    "config = {}\n",
    "\n",
    "config['channel'] = None\n",
    "\n",
    "config['tbeg'] = UTCDateTime(\"2023-03-26 23:00\")\n",
    "config['tend'] = UTCDateTime(\"2023-03-30 00:00\")\n",
    "\n",
    "config['tbeg'] = UTCDateTime(\"2023-04-01 00:00\")\n",
    "config['tend'] = UTCDateTime(\"2023-04-30 00:00\")\n",
    "\n",
    "\n",
    "config['path_to_sds'] = f'/import/freenas-ffb-01-data/romy_archive/'\n",
    "\n",
    "config['resample'] = 20\n",
    "\n",
    "config['colors'] = {  'WS1':'darkgreen', \n",
    "                      'WS4':'purple', \n",
    "                      'WS5':'darkred',\n",
    "                      'WS6':'darkblue',\n",
    "                      'WS7':'darkorange',\n",
    "                      'WS8':'darkcyan',\n",
    "                      'WS9':'cyan',\n",
    "                     }"
   ]
  },
  {
   "cell_type": "markdown",
   "id": "faf1a2ff",
   "metadata": {},
   "source": [
    "### Methods"
   ]
  },
  {
   "cell_type": "code",
   "execution_count": 13,
   "id": "af934955",
   "metadata": {
    "ExecuteTime": {
     "end_time": "2023-06-05T15:12:21.890005Z",
     "start_time": "2023-06-05T15:12:21.882638Z"
    },
    "code_folding": [
     0
    ]
   },
   "outputs": [],
   "source": [
    "def __indicate_gaps_with_nan(df, config):\n",
    "    \n",
    "    differences = np.diff(df.totalSeconds, n=1)\n",
    "    \n",
    "    \n",
    "    ## ______________\n",
    "    \n",
    "    sample_time_errors = [j for j in differences if j != config['resample']]\n",
    "\n",
    "    if len(sample_time_errors) != 0:\n",
    "        print(f\"  -> ERROR: Found {len(sample_time_errors)} errors for the sampling time!\\n\")\n",
    "    \n",
    "    \n",
    "    ## ______________\n",
    "    \n",
    "    gaps = [list(differences).index(k) for k in differences if k > 2*config['resample']] or []\n",
    "    if gaps and gaps[0] in [0, 0.0]:\n",
    "        gaps.pop(0)    \n",
    "    del differences\n",
    "    \n",
    "    for x in gaps:\n",
    "        fill_row = [i+config['resample'] if n not in [3,4,5] else np.nan for n, i in enumerate(df.iloc[x,:])]\n",
    "        fill_row[0] = int(df.iloc[x,0])\n",
    "        fill_row[1] = int(df.iloc[x,1])\n",
    "        fill_row[2] = int(df.iloc[x,2])\n",
    "        df.loc[x+0.5] = fill_row\n",
    "\n",
    "    \n",
    "    df = df.sort_index().reset_index(drop=True).convert_dtypes()\n",
    "\n",
    "    print(f\"  -> Marked {len(gaps)} gaps with NaN values!\\n\")\n",
    "    \n",
    "    return df"
   ]
  },
  {
   "cell_type": "code",
   "execution_count": 14,
   "id": "23104513",
   "metadata": {
    "ExecuteTime": {
     "end_time": "2023-06-05T15:12:22.062389Z",
     "start_time": "2023-06-05T15:12:22.059199Z"
    },
    "code_folding": [
     0
    ]
   },
   "outputs": [],
   "source": [
    "def __processing(data, config):\n",
    "    \n",
    "    filter_length = 10*config['resample']\n",
    "    \n",
    "    data.iloc[:,3:6] = data.iloc[:,3:6].rolling(filter_length).mean() \n",
    "    __reply(f\"Filter: rooling mean {filter_length}!\")\n",
    "    \n",
    "    data = data[data.index % config['resample'] == 0]\n",
    "    __reply(f\"Resampling: keep every {config['resample']}nth sample!\")\n",
    "    \n",
    "    return data"
   ]
  },
  {
   "cell_type": "markdown",
   "id": "b382acf5",
   "metadata": {
    "ExecuteTime": {
     "end_time": "2023-03-31T16:07:18.383338Z",
     "start_time": "2023-03-31T16:07:18.378475Z"
    }
   },
   "source": [
    "### Load WROMY Data"
   ]
  },
  {
   "cell_type": "code",
   "execution_count": 15,
   "id": "453a69be",
   "metadata": {
    "ExecuteTime": {
     "end_time": "2023-06-05T15:13:32.520342Z",
     "start_time": "2023-06-05T15:12:22.446410Z"
    }
   },
   "outputs": [
    {
     "data": {
      "application/vnd.jupyter.widget-view+json": {
       "model_id": "aba53e472eb34d5087794f134cbffbdd",
       "version_major": 2,
       "version_minor": 0
      },
      "text/plain": [
       "  0%|          | 0/30 [00:00<?, ?it/s]"
      ]
     },
     "metadata": {},
     "output_type": "display_data"
    },
    {
     "name": "stderr",
     "output_type": "stream",
     "text": [
      "/home/brotzer/anaconda3/lib/python3.7/site-packages/andbro__load_FURT_stream.py:51: SettingWithCopyWarning: \n",
      "A value is trying to be set on a copy of a slice from a DataFrame.\n",
      "Try using .loc[row_indexer,col_indexer] = value instead\n",
      "\n",
      "See the caveats in the documentation: https://pandas.pydata.org/pandas-docs/stable/user_guide/indexing.html#returning-a-view-versus-a-copy\n",
      "  df['datetime'] = to_datetime(df['datetime'], format=\"%d%m%y %H%M%S\", errors=\"coerce\")\n"
     ]
    },
    {
     "name": "stdout",
     "output_type": "stream",
     "text": [
      "  -> File: FURT.WSX.D.030423.0000, does not exists!\n",
      "Specified end: 2023-04-30T00:00:00.000000Z \n",
      "Trace end:     2023-04-30T00:00:00.000000Z\n"
     ]
    }
   ],
   "source": [
    "furt = __load_furt_stream(config)"
   ]
  },
  {
   "cell_type": "markdown",
   "id": "0f82073b",
   "metadata": {},
   "source": [
    "### Load WROMY Data"
   ]
  },
  {
   "cell_type": "code",
   "execution_count": 16,
   "id": "04e30f88",
   "metadata": {
    "ExecuteTime": {
     "end_time": "2023-06-05T15:13:32.641348Z",
     "start_time": "2023-06-05T15:13:32.521851Z"
    },
    "code_folding": [
     0
    ]
   },
   "outputs": [],
   "source": [
    "def __load_wromy_stream(path_to_sds, seed_id, tbeg, tend):\n",
    "    \n",
    "    '''\n",
    "    \n",
    "    reads WROMY data from tbeg to tend\n",
    "    \n",
    "    >>> __load_wromy_stream(path_to_sds, seed_id, tbeg, tend)\n",
    "    \n",
    "    '''\n",
    "\n",
    "    from os.path import exists\n",
    "    from pandas import date_range, read_csv, concat, DataFrame\n",
    "    from tqdm.notebook import tqdm_notebook\n",
    "    from obspy import Stream, UTCDateTime\n",
    "    from numpy import nan, inf\n",
    "    \n",
    "    def __add_trace(seed_id, ch, tbeg, dat):\n",
    "\n",
    "        from obspy import Trace, UTCDateTime\n",
    "        from numpy import array\n",
    "        from numpy.ma import masked_invalid\n",
    "\n",
    "        net, sta, loc, cha = seed_id.split(\".\")\n",
    "\n",
    "        tr = Trace()\n",
    "        tr.stats.network = net\n",
    "        tr.stats.station = 'WROMY'\n",
    "        tr.stats.location = cha\n",
    "        tr.stats.channel = str(ch)\n",
    "        tr.stats.sampling_rate = 1.0\n",
    "        tr.stats.starttime = UTCDateTime(tbeg)\n",
    "        tr.data = masked_invalid(array(dat))\n",
    "\n",
    "        return tr\n",
    "    \n",
    "    \n",
    "    t1 = tbeg\n",
    "    t2 = tend + 86410\n",
    "    \n",
    "    net, sta, loc, cha = seed_id.split(\".\")\n",
    "    \n",
    "    df = DataFrame()\n",
    "    \n",
    "    for n, date in enumerate(tqdm_notebook(date_range(t1.date, t2.date))):    \n",
    "        doy = str(date.timetuple().tm_yday).rjust(3,\"0\")\n",
    "        \n",
    "#        path = f\"/import/freenas-ffb-01-data/romy_archive/{date.year}/{net}/{sta}/{cha}.D/\"\n",
    "        path = f\"{path_to_sds}{date.year}/{net}/{sta}/{cha}.D/\"\n",
    "        \n",
    "        if not exists(path):\n",
    "            print(f\"Path: {path}, does not exists!\")\n",
    "            return\n",
    "\n",
    "    \n",
    "        fileName = f\"BW.WROMY.{cha}.D.{date.year}.{doy}\"\n",
    "\n",
    "#         print(f'   reading {fileName} ...')\n",
    "\n",
    "        try:\n",
    "            df0 = read_csv(path+fileName)\n",
    "            \n",
    "            ## replace error indicating values (-9999, 999.9) with NaN values\n",
    "            df0.replace(to_replace=-9999, value=nan, inplace=True)\n",
    "            df0.replace(to_replace=999.9, value=nan, inplace=True)\n",
    "            df0.replace(to_replace=inf, value=nan, inplace=True)\n",
    "              \n",
    "#             ## change time from in to 6 character string\n",
    "            df0.iloc[:,2] = [str(ttt).rjust(6,\"0\") for ttt in df0.iloc[:,2]]\n",
    "          \n",
    "            if n == 1:\n",
    "                df = df0\n",
    "            else: \n",
    "                df = concat([df,df0])\n",
    "        except:\n",
    "            print(f\"File: {fileName}, does not exists!\")\n",
    "       \n",
    "\n",
    "    \n",
    "    df.reset_index(inplace=True, drop=True)\n",
    "    \n",
    "    df_starttime = UTCDateTime(f\"{df['Date'][0]} {df['Time (UTC)'][0]}\")\n",
    "    \n",
    "    \n",
    "    ## add columns with total seconds\n",
    "    if 'Seconds' in df.columns:\n",
    "        totalSeconds = df.Seconds + (df.Date - df.Date.iloc[0]) * 86400\n",
    "        df['totalSeconds'] = totalSeconds\n",
    "    \n",
    "    st0 = Stream()\n",
    "    st0 += __add_trace(seed_id, \"LAT\", df_starttime, df['Temperature (°C)'])\n",
    "    st0 += __add_trace(seed_id, \"LAP\", df_starttime, df['Pressure (hPa)'])\n",
    "    st0 += __add_trace(seed_id, \"LAH\", df_starttime, df['rel. Humidity (%)'])\n",
    "        \n",
    "        \n",
    "    st0.trim(tbeg, tend)\n",
    "    \n",
    "    if len(st0) > 3:\n",
    "        print(\" -> split, interpolate, merge ...\")\n",
    "        st0.split().merge(fill_value=\"interpolate\")\n",
    "\n",
    "    \n",
    "    print(f\"Specified end: {tend} \\nTrace end:     {st0.select(channel='LAT')[0].stats.endtime}\")\n",
    "    \n",
    "    return st0"
   ]
  },
  {
   "cell_type": "code",
   "execution_count": 17,
   "id": "167e0b20",
   "metadata": {
    "ExecuteTime": {
     "end_time": "2023-06-05T15:13:47.097268Z",
     "start_time": "2023-06-05T15:13:32.642724Z"
    }
   },
   "outputs": [
    {
     "data": {
      "application/vnd.jupyter.widget-view+json": {
       "model_id": "546a0071048f4b51b6cdf4e338c27d88",
       "version_major": 2,
       "version_minor": 0
      },
      "text/plain": [
       "  0%|          | 0/31 [00:00<?, ?it/s]"
      ]
     },
     "metadata": {},
     "output_type": "display_data"
    },
    {
     "name": "stdout",
     "output_type": "stream",
     "text": [
      "Specified end: 2023-04-30T00:00:00.000000Z \n",
      "Trace end:     2023-04-30T00:00:00.000000Z\n"
     ]
    },
    {
     "data": {
      "application/vnd.jupyter.widget-view+json": {
       "model_id": "74891f9f7d084e2588c1f7745a18b297",
       "version_major": 2,
       "version_minor": 0
      },
      "text/plain": [
       "  0%|          | 0/31 [00:00<?, ?it/s]"
      ]
     },
     "metadata": {},
     "output_type": "display_data"
    },
    {
     "name": "stdout",
     "output_type": "stream",
     "text": [
      "Specified end: 2023-04-30T00:00:00.000000Z \n",
      "Trace end:     2023-04-30T00:00:00.000000Z\n"
     ]
    },
    {
     "data": {
      "application/vnd.jupyter.widget-view+json": {
       "model_id": "e23ef0ec733f43ba8b70f58e5ddc3d65",
       "version_major": 2,
       "version_minor": 0
      },
      "text/plain": [
       "  0%|          | 0/31 [00:00<?, ?it/s]"
      ]
     },
     "metadata": {},
     "output_type": "display_data"
    },
    {
     "name": "stdout",
     "output_type": "stream",
     "text": [
      "Specified end: 2023-04-30T00:00:00.000000Z \n",
      "Trace end:     2023-04-30T00:00:00.000000Z\n"
     ]
    }
   ],
   "source": [
    "ws7 = __load_wromy_stream(config['path_to_sds'], \"BW.WROMY..WS7\", config['tbeg'], config['tend'])\n",
    "ws8 = __load_wromy_stream(config['path_to_sds'], \"BW.WROMY..WS8\", config['tbeg'], config['tend'])\n",
    "ws9 = __load_wromy_stream(config['path_to_sds'], \"BW.WROMY..WS9\", config['tbeg'], config['tend'])"
   ]
  },
  {
   "cell_type": "markdown",
   "id": "7dcf5b76",
   "metadata": {},
   "source": [
    "### Plotting"
   ]
  },
  {
   "cell_type": "code",
   "execution_count": 25,
   "id": "e6ee3462",
   "metadata": {
    "ExecuteTime": {
     "end_time": "2023-06-05T15:28:13.703134Z",
     "start_time": "2023-06-05T15:28:06.553174Z"
    },
    "code_folding": []
   },
   "outputs": [
    {
     "data": {
      "image/png": "[encoded data removed]",
      "text/plain": [
       "<Figure size 1080x720 with 3 Axes>"
      ]
     },
     "metadata": {
      "needs_background": "light"
     },
     "output_type": "display_data"
    }
   ],
   "source": [
    "def __makeplot():\n",
    "    \n",
    "    N = 3\n",
    "    font = 13\n",
    "\n",
    "    fig, ax = plt.subplots(N, 1, figsize=(15,10), sharex=True)\n",
    "\n",
    "    ref_time = config['tbeg']\n",
    "    t_scale = 86400\n",
    "    \n",
    "    ax[0].plot(furt.select(channel=\"*T\")[0].times(reftime=ref_time)/t_scale, \n",
    "               furt.select(channel=\"*T\")[0].data, label=\"FURT\")\n",
    "\n",
    "    ax[1].plot(ws7.select(channel=\"*T\")[0].times(reftime=ref_time)/t_scale,\n",
    "               ws7.select(channel=\"*T\")[0].data, c=config['colors']['WS7'], label=\"WS7\")\n",
    "    ax[1].plot(ws8.select(channel=\"*T\")[0].times(reftime=ref_time)/t_scale, \n",
    "               ws8.select(channel=\"*T\")[0].data, c=config['colors']['WS8'], label=\"WS8\")\n",
    "    ax[1].plot(ws9.select(channel=\"*T\")[0].times(reftime=ref_time)/t_scale, \n",
    "               ws9.select(channel=\"*T\")[0].data, c=config['colors']['WS9'], label=\"WS9\")\n",
    "    \n",
    "    ax[2].plot(ws8.select(channel=\"*T\")[0].times(reftime=ref_time)/t_scale, \n",
    "               ws8.select(channel=\"*T\")[0].data, c=config['colors']['WS8'], label=\"WS8\")\n",
    " \n",
    "    ax[0].set_title(\"WROMY: Isolation Test with Ceiling Plate\", fontsize=font+1)\n",
    "\n",
    "    ax[0].set_ylabel(\"Temperature (°C)\", fontsize=font)\n",
    "    ax[1].set_ylabel(\"Temperature (°C)\", fontsize=font)\n",
    "    ax[2].set_ylabel(\"Temperature (°C)\", fontsize=font)\n",
    "    ax[2].set_xlabel(f\"Time (Days) from {str(ref_time).split('.')[0]}\", fontsize=font)\n",
    "\n",
    "    \n",
    "    for n in range(N):\n",
    "        ax[n].legend()\n",
    "        ax[n].grid(alpha=0.5, zorder=-1)\n",
    "        \n",
    "    plt.show();\n",
    "    return fig\n",
    "\n",
    "fig = __makeplot()"
   ]
  },
  {
   "cell_type": "code",
   "execution_count": null,
   "id": "1407233d",
   "metadata": {},
   "outputs": [],
   "source": []
  },
  {
   "cell_type": "code",
   "execution_count": null,
   "id": "9e95f0b8",
   "metadata": {},
   "outputs": [],
   "source": []
  }
 ],
 "metadata": {
  "kernelspec": {
   "display_name": "Python 3",
   "language": "python",
   "name": "python3"
  },
  "language_info": {
   "codemirror_mode": {
    "name": "ipython",
    "version": 3
   },
   "file_extension": ".py",
   "mimetype": "text/x-python",
   "name": "python",
   "nbconvert_exporter": "python",
   "pygments_lexer": "ipython3",
   "version": "3.7.7"
  },
  "toc": {
   "base_numbering": 1,
   "nav_menu": {},
   "number_sections": true,
   "sideBar": true,
   "skip_h1_title": false,
   "title_cell": "Table of Contents",
   "title_sidebar": "Contents",
   "toc_cell": false,
   "toc_position": {},
   "toc_section_display": true,
   "toc_window_display": false
  }
 },
 "nbformat": 4,
 "nbformat_minor": 5
}
