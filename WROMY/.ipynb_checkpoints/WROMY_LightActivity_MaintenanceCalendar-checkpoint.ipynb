{
 "cells": [
  {
   "cell_type": "code",
   "execution_count": null,
   "id": "6f335f58",
   "metadata": {},
   "outputs": [],
   "source": []
  },
  {
   "cell_type": "markdown",
   "id": "b762212d",
   "metadata": {},
   "source": [
    "# Generate Log for Maintenance Activitiy from LightSensors"
   ]
  },
  {
   "cell_type": "code",
   "execution_count": 1,
   "id": "a94dfa99",
   "metadata": {},
   "outputs": [],
   "source": [
    "import pandas as pd\n",
    "import matplotlib.pyplot as plt\n",
    "import numpy as np\n",
    "\n",
    "from pathlib import Path"
   ]
  },
  {
   "cell_type": "code",
   "execution_count": 5,
   "id": "d0c0f755",
   "metadata": {},
   "outputs": [],
   "source": [
    "config = {}\n",
    "\n",
    "config['threshold'] = 10 ## light threshold to classify as <light on> / <light off>\n",
    "\n",
    "config['output'] = \"/import/freenas-ffb-01-data/wromy_files/maintenance_lx_sensors.csv\"\n",
    "\n",
    "config['start_date'] = '01/01/2022' ## MM/DD/YYYY\n",
    "config['end_date']   = '04/10/2022' ## MM/DD/YYYY"
   ]
  },
  {
   "cell_type": "code",
   "execution_count": 132,
   "id": "22609f2e",
   "metadata": {
    "code_folding": [
     0
    ]
   },
   "outputs": [],
   "source": [
    "def __update_maintenance_protocoll(config):\n",
    "\n",
    "    ## make new output file with header\n",
    "    with open(config['output'], mode=\"w\") as f:\n",
    "        f.write(\"Sensor,Timestamp,Date,Time,State\\n\")\n",
    "    \n",
    "    ## iterate for dates\n",
    "    for date in pd.date_range(start=config['start_date'], end=config['end_date']):\n",
    "\n",
    "        fdate = str(date)[:10].replace(\"-\",\"\")\n",
    "\n",
    "        ## interate for all sensors of WROMY\n",
    "        for sensor in [1,4,5,6,7,8,9]:\n",
    "\n",
    "            filename = f'WS{sensor}_{fdate}.txt'\n",
    "            datapath = f'/import/freenas-ffb-01-data/romy_archive/{date.year}/BW/WROMY/LX{sensor}.D/'\n",
    "\n",
    "            ## read file\n",
    "            if Path(datapath+filename).exists():\n",
    "                df = pd.read_csv(datapath+filename, names=['Date', 'Time', 'State'])\n",
    "            else:\n",
    "                print(f\" -> {datapath+filename} does not exists!\")\n",
    "                continue\n",
    "                \n",
    "            ## smooth the light sensor data\n",
    "            df['smoothed'] = df['State'].rolling(10, center=True).mean()\n",
    "\n",
    "            ## apply threshold\n",
    "            df['smoothed'] = df['smoothed'].where(df.smoothed > config['threshold']).fillna(0)\n",
    "            df['smoothed'] = df['smoothed'].clip(lower=None, upper=config['threshold'])\n",
    "\n",
    "            ## calculate differences for picking\n",
    "            df['State'] = df.smoothed.diff()/config['threshold']\n",
    "\n",
    "            ## get start and end points of light period\n",
    "            select = df.where(abs(df.State) > 0).dropna()\n",
    "\n",
    "            ## modify data\n",
    "            select.drop(columns=[\"smoothed\"], inplace=True)\n",
    "            select = select.astype(int)\n",
    "        #     select.Time = select.Time.astype(int)\n",
    "            select['State'] = select['State'].replace(-1, 0)\n",
    "        \n",
    "            ## format and write to output file\n",
    "            with open(config['output'], mode=\"a\") as f:\n",
    "                for idx, row in select.iterrows():\n",
    "                    dd = str(row.Date)\n",
    "                    tt = str(row.Time).zfill(6)\n",
    "                    ts = f\"{dd[:4]}-{dd[4:6]}-{dd[6:8]}T{tt[:2]}:{tt[2:4]}:{tt[4:6]}\"\n",
    "                    f.write(f\"WS{sensor},{ts},{row.Date},{row.Time},{row.State}\\n\");"
   ]
  },
  {
   "cell_type": "code",
   "execution_count": 133,
   "id": "94b73be6",
   "metadata": {
    "code_folding": []
   },
   "outputs": [
    {
     "name": "stdout",
     "output_type": "stream",
     "text": [
      " -> /import/freenas-ffb-01-data/romy_archive/2022/BW/WROMY/LX1.D/WS1_20220101.txt does not exists!\n",
      " -> /import/freenas-ffb-01-data/romy_archive/2022/BW/WROMY/LX4.D/WS4_20220101.txt does not exists!\n",
      " -> /import/freenas-ffb-01-data/romy_archive/2022/BW/WROMY/LX5.D/WS5_20220101.txt does not exists!\n",
      " -> /import/freenas-ffb-01-data/romy_archive/2022/BW/WROMY/LX6.D/WS6_20220101.txt does not exists!\n",
      " -> /import/freenas-ffb-01-data/romy_archive/2022/BW/WROMY/LX7.D/WS7_20220101.txt does not exists!\n",
      " -> /import/freenas-ffb-01-data/romy_archive/2022/BW/WROMY/LX9.D/WS9_20220101.txt does not exists!\n",
      " -> /import/freenas-ffb-01-data/romy_archive/2022/BW/WROMY/LX1.D/WS1_20220102.txt does not exists!\n",
      " -> /import/freenas-ffb-01-data/romy_archive/2022/BW/WROMY/LX4.D/WS4_20220102.txt does not exists!\n",
      " -> /import/freenas-ffb-01-data/romy_archive/2022/BW/WROMY/LX5.D/WS5_20220102.txt does not exists!\n",
      " -> /import/freenas-ffb-01-data/romy_archive/2022/BW/WROMY/LX6.D/WS6_20220102.txt does not exists!\n",
      " -> /import/freenas-ffb-01-data/romy_archive/2022/BW/WROMY/LX7.D/WS7_20220102.txt does not exists!\n",
      " -> /import/freenas-ffb-01-data/romy_archive/2022/BW/WROMY/LX9.D/WS9_20220102.txt does not exists!\n",
      " -> /import/freenas-ffb-01-data/romy_archive/2022/BW/WROMY/LX1.D/WS1_20220103.txt does not exists!\n",
      " -> /import/freenas-ffb-01-data/romy_archive/2022/BW/WROMY/LX4.D/WS4_20220103.txt does not exists!\n",
      " -> /import/freenas-ffb-01-data/romy_archive/2022/BW/WROMY/LX5.D/WS5_20220103.txt does not exists!\n",
      " -> /import/freenas-ffb-01-data/romy_archive/2022/BW/WROMY/LX6.D/WS6_20220103.txt does not exists!\n",
      " -> /import/freenas-ffb-01-data/romy_archive/2022/BW/WROMY/LX7.D/WS7_20220103.txt does not exists!\n",
      " -> /import/freenas-ffb-01-data/romy_archive/2022/BW/WROMY/LX9.D/WS9_20220103.txt does not exists!\n"
     ]
    }
   ],
   "source": [
    "__update_maintenance_protocoll(config)"
   ]
  },
  {
   "cell_type": "code",
   "execution_count": 134,
   "id": "5ad668c6",
   "metadata": {},
   "outputs": [],
   "source": [
    "import calplot"
   ]
  },
  {
   "cell_type": "code",
   "execution_count": 135,
   "id": "9fcc9fc5",
   "metadata": {},
   "outputs": [
    {
     "data": {
      "text/html": [
       "<div>\n",
       "<style scoped>\n",
       "    .dataframe tbody tr th:only-of-type {\n",
       "        vertical-align: middle;\n",
       "    }\n",
       "\n",
       "    .dataframe tbody tr th {\n",
       "        vertical-align: top;\n",
       "    }\n",
       "\n",
       "    .dataframe thead th {\n",
       "        text-align: right;\n",
       "    }\n",
       "</style>\n",
       "<table border=\"1\" class=\"dataframe\">\n",
       "  <thead>\n",
       "    <tr style=\"text-align: right;\">\n",
       "      <th></th>\n",
       "      <th>Sensor</th>\n",
       "      <th>Timestamp</th>\n",
       "      <th>Date</th>\n",
       "      <th>Time</th>\n",
       "      <th>State</th>\n",
       "    </tr>\n",
       "  </thead>\n",
       "  <tbody>\n",
       "    <tr>\n",
       "      <th>0</th>\n",
       "      <td>WS8</td>\n",
       "      <td>2022-02-16T12:09:07</td>\n",
       "      <td>20220216</td>\n",
       "      <td>120907</td>\n",
       "      <td>1</td>\n",
       "    </tr>\n",
       "    <tr>\n",
       "      <th>1</th>\n",
       "      <td>WS8</td>\n",
       "      <td>2022-02-16T12:23:43</td>\n",
       "      <td>20220216</td>\n",
       "      <td>122343</td>\n",
       "      <td>0</td>\n",
       "    </tr>\n",
       "    <tr>\n",
       "      <th>2</th>\n",
       "      <td>WS8</td>\n",
       "      <td>2022-02-16T13:10:02</td>\n",
       "      <td>20220216</td>\n",
       "      <td>131002</td>\n",
       "      <td>1</td>\n",
       "    </tr>\n",
       "    <tr>\n",
       "      <th>3</th>\n",
       "      <td>WS8</td>\n",
       "      <td>2022-02-16T13:11:02</td>\n",
       "      <td>20220216</td>\n",
       "      <td>131102</td>\n",
       "      <td>0</td>\n",
       "    </tr>\n",
       "    <tr>\n",
       "      <th>4</th>\n",
       "      <td>WS1</td>\n",
       "      <td>2022-03-17T09:58:21</td>\n",
       "      <td>20220317</td>\n",
       "      <td>95821</td>\n",
       "      <td>1</td>\n",
       "    </tr>\n",
       "    <tr>\n",
       "      <th>...</th>\n",
       "      <td>...</td>\n",
       "      <td>...</td>\n",
       "      <td>...</td>\n",
       "      <td>...</td>\n",
       "      <td>...</td>\n",
       "    </tr>\n",
       "    <tr>\n",
       "      <th>85</th>\n",
       "      <td>WS9</td>\n",
       "      <td>2022-04-04T14:09:18</td>\n",
       "      <td>20220404</td>\n",
       "      <td>140918</td>\n",
       "      <td>0</td>\n",
       "    </tr>\n",
       "    <tr>\n",
       "      <th>86</th>\n",
       "      <td>WS5</td>\n",
       "      <td>2022-04-07T08:41:40</td>\n",
       "      <td>20220407</td>\n",
       "      <td>84140</td>\n",
       "      <td>1</td>\n",
       "    </tr>\n",
       "    <tr>\n",
       "      <th>87</th>\n",
       "      <td>WS5</td>\n",
       "      <td>2022-04-07T08:53:43</td>\n",
       "      <td>20220407</td>\n",
       "      <td>85343</td>\n",
       "      <td>0</td>\n",
       "    </tr>\n",
       "    <tr>\n",
       "      <th>88</th>\n",
       "      <td>WS5</td>\n",
       "      <td>2022-04-08T09:08:42</td>\n",
       "      <td>20220408</td>\n",
       "      <td>90842</td>\n",
       "      <td>1</td>\n",
       "    </tr>\n",
       "    <tr>\n",
       "      <th>89</th>\n",
       "      <td>WS5</td>\n",
       "      <td>2022-04-08T10:24:10</td>\n",
       "      <td>20220408</td>\n",
       "      <td>102410</td>\n",
       "      <td>0</td>\n",
       "    </tr>\n",
       "  </tbody>\n",
       "</table>\n",
       "<p>90 rows × 5 columns</p>\n",
       "</div>"
      ],
      "text/plain": [
       "   Sensor            Timestamp      Date    Time  State\n",
       "0     WS8  2022-02-16T12:09:07  20220216  120907      1\n",
       "1     WS8  2022-02-16T12:23:43  20220216  122343      0\n",
       "2     WS8  2022-02-16T13:10:02  20220216  131002      1\n",
       "3     WS8  2022-02-16T13:11:02  20220216  131102      0\n",
       "4     WS1  2022-03-17T09:58:21  20220317   95821      1\n",
       "..    ...                  ...       ...     ...    ...\n",
       "85    WS9  2022-04-04T14:09:18  20220404  140918      0\n",
       "86    WS5  2022-04-07T08:41:40  20220407   84140      1\n",
       "87    WS5  2022-04-07T08:53:43  20220407   85343      0\n",
       "88    WS5  2022-04-08T09:08:42  20220408   90842      1\n",
       "89    WS5  2022-04-08T10:24:10  20220408  102410      0\n",
       "\n",
       "[90 rows x 5 columns]"
      ]
     },
     "execution_count": 135,
     "metadata": {},
     "output_type": "execute_result"
    }
   ],
   "source": [
    "df = pd.read_csv(config['output'])\n",
    "df"
   ]
  },
  {
   "cell_type": "code",
   "execution_count": 136,
   "id": "940c48d3",
   "metadata": {},
   "outputs": [],
   "source": [
    "df['Timestamp'] = pd.to_datetime(df['Timestamp'].replace(\"T\",\" \"))\n",
    "\n",
    "df.set_index('Timestamp', inplace = True)"
   ]
  },
  {
   "cell_type": "code",
   "execution_count": 155,
   "id": "10b9c62b",
   "metadata": {},
   "outputs": [
    {
     "data": {
      "text/html": [
       "<div>\n",
       "<style scoped>\n",
       "    .dataframe tbody tr th:only-of-type {\n",
       "        vertical-align: middle;\n",
       "    }\n",
       "\n",
       "    .dataframe tbody tr th {\n",
       "        vertical-align: top;\n",
       "    }\n",
       "\n",
       "    .dataframe thead th {\n",
       "        text-align: right;\n",
       "    }\n",
       "</style>\n",
       "<table border=\"1\" class=\"dataframe\">\n",
       "  <thead>\n",
       "    <tr style=\"text-align: right;\">\n",
       "      <th></th>\n",
       "      <th>Date</th>\n",
       "      <th>State</th>\n",
       "    </tr>\n",
       "  </thead>\n",
       "  <tbody>\n",
       "    <tr>\n",
       "      <th>0</th>\n",
       "      <td>20220216</td>\n",
       "      <td>2</td>\n",
       "    </tr>\n",
       "    <tr>\n",
       "      <th>1</th>\n",
       "      <td>20220317</td>\n",
       "      <td>1</td>\n",
       "    </tr>\n",
       "    <tr>\n",
       "      <th>2</th>\n",
       "      <td>20220318</td>\n",
       "      <td>6</td>\n",
       "    </tr>\n",
       "    <tr>\n",
       "      <th>3</th>\n",
       "      <td>20220321</td>\n",
       "      <td>2</td>\n",
       "    </tr>\n",
       "    <tr>\n",
       "      <th>4</th>\n",
       "      <td>20220322</td>\n",
       "      <td>6</td>\n",
       "    </tr>\n",
       "    <tr>\n",
       "      <th>5</th>\n",
       "      <td>20220324</td>\n",
       "      <td>1</td>\n",
       "    </tr>\n",
       "    <tr>\n",
       "      <th>6</th>\n",
       "      <td>20220328</td>\n",
       "      <td>6</td>\n",
       "    </tr>\n",
       "    <tr>\n",
       "      <th>7</th>\n",
       "      <td>20220331</td>\n",
       "      <td>11</td>\n",
       "    </tr>\n",
       "    <tr>\n",
       "      <th>8</th>\n",
       "      <td>20220404</td>\n",
       "      <td>8</td>\n",
       "    </tr>\n",
       "    <tr>\n",
       "      <th>9</th>\n",
       "      <td>20220407</td>\n",
       "      <td>1</td>\n",
       "    </tr>\n",
       "    <tr>\n",
       "      <th>10</th>\n",
       "      <td>20220408</td>\n",
       "      <td>1</td>\n",
       "    </tr>\n",
       "  </tbody>\n",
       "</table>\n",
       "</div>"
      ],
      "text/plain": [
       "        Date  State\n",
       "0   20220216      2\n",
       "1   20220317      1\n",
       "2   20220318      6\n",
       "3   20220321      2\n",
       "4   20220322      6\n",
       "5   20220324      1\n",
       "6   20220328      6\n",
       "7   20220331     11\n",
       "8   20220404      8\n",
       "9   20220407      1\n",
       "10  20220408      1"
      ]
     },
     "execution_count": 155,
     "metadata": {},
     "output_type": "execute_result"
    }
   ],
   "source": [
    "df.groupby(['Date'])['State'].sum().reset_index()"
   ]
  },
  {
   "cell_type": "code",
   "execution_count": 156,
   "id": "feabaab6",
   "metadata": {},
   "outputs": [
    {
     "data": {
      "image/png": "[encoded data removed]",
      "text/plain": [
       "<Figure size 1250x170 with 2 Axes>"
      ]
     },
     "metadata": {
      "needs_background": "light"
     },
     "output_type": "display_data"
    }
   ],
   "source": [
    "pl1 = calplot.calplot(data = df['State'],\n",
    "                      how = 'sum', \n",
    "                      cmap = 'viridis_r', \n",
    "                      colorbar = True,\n",
    "#                       figsize = (16, 4), \n",
    "                      suptitle = \"Total Sales by Month and Year\")"
   ]
  },
  {
   "cell_type": "code",
   "execution_count": 157,
   "id": "3392a0ea",
   "metadata": {},
   "outputs": [
    {
     "data": {
      "image/png": "[encoded data removed]",
      "text/plain": [
       "<Figure size 1400x800 with 12 Axes>"
      ]
     },
     "metadata": {
      "needs_background": "light"
     },
     "output_type": "display_data"
    }
   ],
   "source": [
    "import july\n",
    "from july.utils import date_range\n",
    "\n",
    "dates = date_range(\"2022-01-01\", \"2022-12-31\")\n",
    "\n",
    "maintenance = pd.DataFrame()\n",
    "\n",
    "maintenance['dates'] = dates\n",
    "\n",
    "states = np.zeros(len(dates)) \n",
    "for n, date in enumerate(maintenance['dates']):\n",
    "    if str(date).replace(\"-\",\"\") in df['Date']:\n",
    "        states[n] = 1\n",
    "        \n",
    "maintenance['states'] = states\n",
    "\n",
    "july.calendar_plot(dates, \n",
    "                   maintenance['states'],\n",
    "                   cmap = 'Greens');"
   ]
  },
  {
   "cell_type": "code",
   "execution_count": 111,
   "id": "a4ff81ce",
   "metadata": {},
   "outputs": [
    {
     "data": {
      "image/png": "[encoded data removed]",
      "text/plain": [
       "<Figure size 1000x170 with 1 Axes>"
      ]
     },
     "metadata": {
      "needs_background": "light"
     },
     "output_type": "display_data"
    }
   ],
   "source": [
    "calplot.calplot(data = abs(df['State']), \n",
    "                cmap = 'GnBu', \n",
    "#                 figsize = (16, 8), \n",
    "                suptitle = \"Total Orders by Month and Year\");"
   ]
  },
  {
   "cell_type": "code",
   "execution_count": null,
   "id": "174cd0c7",
   "metadata": {},
   "outputs": [],
   "source": []
  },
  {
   "cell_type": "code",
   "execution_count": null,
   "id": "1a07783a",
   "metadata": {},
   "outputs": [],
   "source": []
  },
  {
   "cell_type": "code",
   "execution_count": null,
   "id": "dbc69d6c",
   "metadata": {},
   "outputs": [],
   "source": [
    "df = pd.read_csv(\"~/Downloads/tx.in\", names=['offset','times','uncertainty','phase'], delimiter=\"\\s+\")\n",
    "\n",
    "\n",
    "stations = ['101','101','101','102','102','103','103','104','104','105','105','106','106','107','107','108','108','109','109','119','120','121','300'\n",
    "]\n",
    "\n",
    "station = []\n",
    "n, k = 0, 0\n",
    "\n",
    "for phase in df['phase']:\n",
    "    \n",
    "    if phase == 0:\n",
    "        k = 0\n",
    "        n += 1\n",
    "            \n",
    "    sta = stations[n]\n",
    "    station.append(sta)\n",
    "\n",
    "df['station'] = station\n",
    "\n",
    "df = df[(df['times'] != -1) & (df['phase'] != 0)]"
   ]
  },
  {
   "cell_type": "code",
   "execution_count": null,
   "id": "236874e8",
   "metadata": {
    "code_folding": [
     0
    ]
   },
   "outputs": [],
   "source": [
    "def __makeplot(df):\n",
    "\n",
    "    plt.figure(figsize=(15,8))\n",
    "\n",
    "\n",
    "    for (offset, time, uncertainty) in zip(df['offset'], df['times'], df['uncertainty']):\n",
    "        plt.plot((offset, offset), (time-uncertainty, time+uncertainty), color='grey')\n",
    "\n",
    "    plt.scatter(df.offset, df.times, s=0.2, color='k')\n",
    "\n",
    "    plt.show();\n",
    "    \n",
    "__makeplot(df)"
   ]
  },
  {
   "cell_type": "code",
   "execution_count": null,
   "id": "45438f2c",
   "metadata": {},
   "outputs": [],
   "source": [
    "select = '109'\n",
    "\n",
    "df_select = df[df['station'] == select]\n",
    "\n",
    "__makeplot(df_select)"
   ]
  },
  {
   "cell_type": "code",
   "execution_count": null,
   "id": "6cd8fc23",
   "metadata": {},
   "outputs": [],
   "source": []
  }
 ],
 "metadata": {
  "kernelspec": {
   "display_name": "Python 3",
   "language": "python",
   "name": "python3"
  },
  "language_info": {
   "codemirror_mode": {
    "name": "ipython",
    "version": 3
   },
   "file_extension": ".py",
   "mimetype": "text/x-python",
   "name": "python",
   "nbconvert_exporter": "python",
   "pygments_lexer": "ipython3",
   "version": "3.7.7"
  }
 },
 "nbformat": 4,
 "nbformat_minor": 5
}
