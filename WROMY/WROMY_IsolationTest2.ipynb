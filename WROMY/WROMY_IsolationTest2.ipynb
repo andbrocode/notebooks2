{
 "cells": [
  {
   "cell_type": "markdown",
   "id": "e9ee9386",
   "metadata": {},
   "source": [
    "## Isolation Test 2 - After Ceiling Plate had been installed"
   ]
  },
  {
   "cell_type": "code",
   "execution_count": 2,
   "id": "f27a8ba0",
   "metadata": {
    "ExecuteTime": {
     "end_time": "2023-03-31T16:12:51.225050Z",
     "start_time": "2023-03-31T16:12:48.613023Z"
    }
   },
   "outputs": [],
   "source": [
    "import pandas as pd\n",
    "import matplotlib.pyplot as plt\n",
    "import numpy as np\n",
    "\n",
    "from numpy import nan\n",
    "from pathlib import Path\n",
    "from obspy import UTCDateTime, Stream\n",
    "\n",
    "from andbro__get_timeaxis import __get_timeaxis\n",
    "from andbro__load_FURT_stream import __load_furt_stream\n",
    "from andbro__load_WROMY_stream import __load_wromy_stream"
   ]
  },
  {
   "cell_type": "markdown",
   "id": "a09ecf84",
   "metadata": {},
   "source": [
    "### Configurations"
   ]
  },
  {
   "cell_type": "code",
   "execution_count": 46,
   "id": "598bc2c0",
   "metadata": {
    "ExecuteTime": {
     "end_time": "2023-03-31T16:26:53.724744Z",
     "start_time": "2023-03-31T16:26:53.718802Z"
    }
   },
   "outputs": [],
   "source": [
    "config = {}\n",
    "\n",
    "config['channel'] = None\n",
    "\n",
    "config['tbeg'] = UTCDateTime(\"2023-03-26 23:00\")\n",
    "config['tend'] = UTCDateTime(\"2023-03-30 00:00\")\n",
    "\n",
    "config['path_to_sds'] = f'/import/freenas-ffb-01-data/romy_archive/'\n",
    "\n",
    "config['resample'] = 20\n",
    "\n",
    "config['colors'] = {  'WS1':'darkgreen', \n",
    "                      'WS4':'purple', \n",
    "                      'WS5':'darkred',\n",
    "                      'WS6':'darkblue',\n",
    "                      'WS7':'darkorange',\n",
    "                      'WS8':'darkcyan',\n",
    "                      'WS9':'cyan',\n",
    "                     }"
   ]
  },
  {
   "cell_type": "markdown",
   "id": "faf1a2ff",
   "metadata": {},
   "source": [
    "### Methods"
   ]
  },
  {
   "cell_type": "code",
   "execution_count": 47,
   "id": "af934955",
   "metadata": {
    "ExecuteTime": {
     "end_time": "2023-03-31T16:26:54.652237Z",
     "start_time": "2023-03-31T16:26:54.629997Z"
    },
    "code_folding": [
     0
    ]
   },
   "outputs": [],
   "source": [
    "def __indicate_gaps_with_nan(df, config):\n",
    "    \n",
    "    differences = np.diff(df.totalSeconds, n=1)\n",
    "    \n",
    "    \n",
    "    ## ______________\n",
    "    \n",
    "    sample_time_errors = [j for j in differences if j != config['resample']]\n",
    "\n",
    "    if len(sample_time_errors) != 0:\n",
    "        print(f\"  -> ERROR: Found {len(sample_time_errors)} errors for the sampling time!\\n\")\n",
    "    \n",
    "    \n",
    "    ## ______________\n",
    "    \n",
    "    gaps = [list(differences).index(k) for k in differences if k > 2*config['resample']] or []\n",
    "    if gaps and gaps[0] in [0, 0.0]:\n",
    "        gaps.pop(0)    \n",
    "    del differences\n",
    "    \n",
    "    for x in gaps:\n",
    "        fill_row = [i+config['resample'] if n not in [3,4,5] else np.nan for n, i in enumerate(df.iloc[x,:])]\n",
    "        fill_row[0] = int(df.iloc[x,0])\n",
    "        fill_row[1] = int(df.iloc[x,1])\n",
    "        fill_row[2] = int(df.iloc[x,2])\n",
    "        df.loc[x+0.5] = fill_row\n",
    "\n",
    "    \n",
    "    df = df.sort_index().reset_index(drop=True).convert_dtypes()\n",
    "\n",
    "    print(f\"  -> Marked {len(gaps)} gaps with NaN values!\\n\")\n",
    "    \n",
    "    return df"
   ]
  },
  {
   "cell_type": "code",
   "execution_count": 48,
   "id": "23104513",
   "metadata": {
    "ExecuteTime": {
     "end_time": "2023-03-31T16:26:54.797338Z",
     "start_time": "2023-03-31T16:26:54.786836Z"
    },
    "code_folding": [
     0
    ]
   },
   "outputs": [],
   "source": [
    "def __processing(data, config):\n",
    "    \n",
    "    filter_length = 10*config['resample']\n",
    "    \n",
    "    data.iloc[:,3:6] = data.iloc[:,3:6].rolling(filter_length).mean() \n",
    "    __reply(f\"Filter: rooling mean {filter_length}!\")\n",
    "    \n",
    "    data = data[data.index % config['resample'] == 0]\n",
    "    __reply(f\"Resampling: keep every {config['resample']}nth sample!\")\n",
    "    \n",
    "    return data"
   ]
  },
  {
   "cell_type": "markdown",
   "id": "b382acf5",
   "metadata": {
    "ExecuteTime": {
     "end_time": "2023-03-31T16:07:18.383338Z",
     "start_time": "2023-03-31T16:07:18.378475Z"
    }
   },
   "source": [
    "### Load WROMY Data"
   ]
  },
  {
   "cell_type": "code",
   "execution_count": 49,
   "id": "453a69be",
   "metadata": {
    "ExecuteTime": {
     "end_time": "2023-03-31T16:27:02.074759Z",
     "start_time": "2023-03-31T16:26:55.132423Z"
    }
   },
   "outputs": [
    {
     "data": {
      "application/vnd.jupyter.widget-view+json": {
       "model_id": "604df31f6c664e9e8347a5ae01e9fb95",
       "version_major": 2,
       "version_minor": 0
      },
      "text/plain": [
       "  0%|          | 0/5 [00:00<?, ?it/s]"
      ]
     },
     "metadata": {},
     "output_type": "display_data"
    },
    {
     "name": "stdout",
     "output_type": "stream",
     "text": [
      "Specified end: 2023-03-30T00:00:00.000000Z \n",
      "Trace end:     2023-03-30T00:00:00.000000Z\n"
     ]
    },
    {
     "name": "stderr",
     "output_type": "stream",
     "text": [
      "/home/brotzer/anaconda3/lib/python3.7/site-packages/andbro__load_FURT_stream.py:51: SettingWithCopyWarning: \n",
      "A value is trying to be set on a copy of a slice from a DataFrame.\n",
      "Try using .loc[row_indexer,col_indexer] = value instead\n",
      "\n",
      "See the caveats in the documentation: https://pandas.pydata.org/pandas-docs/stable/user_guide/indexing.html#returning-a-view-versus-a-copy\n",
      "  df['datetime'] = to_datetime(df['datetime'], format=\"%d%m%y %H%M%S\", errors=\"coerce\")\n"
     ]
    }
   ],
   "source": [
    "furt = __load_furt_stream(config)"
   ]
  },
  {
   "cell_type": "markdown",
   "id": "0f82073b",
   "metadata": {},
   "source": [
    "### Load WROMY Data"
   ]
  },
  {
   "cell_type": "code",
   "execution_count": 50,
   "id": "04e30f88",
   "metadata": {
    "ExecuteTime": {
     "end_time": "2023-03-31T16:27:02.101825Z",
     "start_time": "2023-03-31T16:27:02.076391Z"
    },
    "code_folding": [
     0
    ]
   },
   "outputs": [],
   "source": [
    "def __load_wromy_stream(path_to_sds, seed_id, tbeg, tend):\n",
    "    \n",
    "    '''\n",
    "    \n",
    "    reads WROMY data from tbeg to tend\n",
    "    \n",
    "    >>> __load_wromy_stream(path_to_sds, seed_id, tbeg, tend)\n",
    "    \n",
    "    '''\n",
    "\n",
    "    from os.path import exists\n",
    "    from pandas import date_range, read_csv, concat, DataFrame\n",
    "    from tqdm.notebook import tqdm_notebook\n",
    "    from obspy import Stream, UTCDateTime\n",
    "    from numpy import nan, inf\n",
    "    \n",
    "    def __add_trace(seed_id, ch, tbeg, dat):\n",
    "\n",
    "        from obspy import Trace, UTCDateTime\n",
    "        from numpy import array\n",
    "        from numpy.ma import masked_invalid\n",
    "\n",
    "        net, sta, loc, cha = seed_id.split(\".\")\n",
    "\n",
    "        tr = Trace()\n",
    "        tr.stats.network = net\n",
    "        tr.stats.station = 'WROMY'\n",
    "        tr.stats.location = cha\n",
    "        tr.stats.channel = str(ch)\n",
    "        tr.stats.sampling_rate = 1.0\n",
    "        tr.stats.starttime = UTCDateTime(tbeg)\n",
    "        tr.data = masked_invalid(array(dat))\n",
    "\n",
    "        return tr\n",
    "    \n",
    "    \n",
    "    t1 = tbeg\n",
    "    t2 = tend + 86410\n",
    "    \n",
    "    net, sta, loc, cha = seed_id.split(\".\")\n",
    "    \n",
    "    df = DataFrame()\n",
    "    \n",
    "    for n, date in enumerate(tqdm_notebook(date_range(t1.date, t2.date))):    \n",
    "        doy = str(date.timetuple().tm_yday).rjust(3,\"0\")\n",
    "        \n",
    "#        path = f\"/import/freenas-ffb-01-data/romy_archive/{date.year}/{net}/{sta}/{cha}.D/\"\n",
    "        path = f\"{path_to_sds}{date.year}/{net}/{sta}/{cha}.D/\"\n",
    "        \n",
    "        if not exists(path):\n",
    "            print(f\"Path: {path}, does not exists!\")\n",
    "            return\n",
    "\n",
    "    \n",
    "        fileName = f\"BW.WROMY.{cha}.D.{date.year}.{doy}\"\n",
    "\n",
    "#         print(f'   reading {fileName} ...')\n",
    "\n",
    "        try:\n",
    "            df0 = read_csv(path+fileName)\n",
    "            \n",
    "            ## replace error indicating values (-9999, 999.9) with NaN values\n",
    "            df0.replace(to_replace=-9999, value=nan, inplace=True)\n",
    "            df0.replace(to_replace=999.9, value=nan, inplace=True)\n",
    "            df0.replace(to_replace=inf, value=nan, inplace=True)\n",
    "              \n",
    "#             ## change time from in to 6 character string\n",
    "            df0.iloc[:,2] = [str(ttt).rjust(6,\"0\") for ttt in df0.iloc[:,2]]\n",
    "          \n",
    "            if n == 1:\n",
    "                df = df0\n",
    "            else: \n",
    "                df = concat([df,df0])\n",
    "        except:\n",
    "            print(f\"File: {fileName}, does not exists!\")\n",
    "       \n",
    "\n",
    "    \n",
    "    df.reset_index(inplace=True, drop=True)\n",
    "    \n",
    "    df_starttime = UTCDateTime(f\"{df['Date'][0]} {df['Time (UTC)'][0]}\")\n",
    "    \n",
    "    \n",
    "    ## add columns with total seconds\n",
    "    if 'Seconds' in df.columns:\n",
    "        totalSeconds = df.Seconds + (df.Date - df.Date.iloc[0]) * 86400\n",
    "        df['totalSeconds'] = totalSeconds\n",
    "    \n",
    "    st0 = Stream()\n",
    "    st0 += __add_trace(seed_id, \"LAT\", df_starttime, df['Temperature (°C)'])\n",
    "    st0 += __add_trace(seed_id, \"LAP\", df_starttime, df['Pressure (hPa)'])\n",
    "    st0 += __add_trace(seed_id, \"LAH\", df_starttime, df['rel. Humidity (%)'])\n",
    "        \n",
    "        \n",
    "    st0.trim(tbeg, tend)\n",
    "    \n",
    "    if len(st0) > 3:\n",
    "        print(\" -> split, interpolate, merge ...\")\n",
    "        st0.split().merge(fill_value=\"interpolate\")\n",
    "\n",
    "    \n",
    "    print(f\"Specified end: {tend} \\nTrace end:     {st0.select(channel='LAT')[0].stats.endtime}\")\n",
    "    \n",
    "    return st0"
   ]
  },
  {
   "cell_type": "code",
   "execution_count": 51,
   "id": "167e0b20",
   "metadata": {
    "ExecuteTime": {
     "end_time": "2023-03-31T16:27:03.266743Z",
     "start_time": "2023-03-31T16:27:02.103363Z"
    }
   },
   "outputs": [
    {
     "data": {
      "application/vnd.jupyter.widget-view+json": {
       "model_id": "940aebd9e95a4c29a00b70cda7a907e6",
       "version_major": 2,
       "version_minor": 0
      },
      "text/plain": [
       "  0%|          | 0/6 [00:00<?, ?it/s]"
      ]
     },
     "metadata": {},
     "output_type": "display_data"
    },
    {
     "name": "stdout",
     "output_type": "stream",
     "text": [
      "Specified end: 2023-03-30T00:00:00.000000Z \n",
      "Trace end:     2023-03-30T00:00:00.000000Z\n"
     ]
    },
    {
     "data": {
      "application/vnd.jupyter.widget-view+json": {
       "model_id": "3e87bba59f92409aa0a23e1c65534819",
       "version_major": 2,
       "version_minor": 0
      },
      "text/plain": [
       "  0%|          | 0/6 [00:00<?, ?it/s]"
      ]
     },
     "metadata": {},
     "output_type": "display_data"
    },
    {
     "name": "stdout",
     "output_type": "stream",
     "text": [
      "Specified end: 2023-03-30T00:00:00.000000Z \n",
      "Trace end:     2023-03-30T00:00:00.000000Z\n"
     ]
    },
    {
     "data": {
      "application/vnd.jupyter.widget-view+json": {
       "model_id": "77080a2e87d44ce198d974cf2f8b2acd",
       "version_major": 2,
       "version_minor": 0
      },
      "text/plain": [
       "  0%|          | 0/6 [00:00<?, ?it/s]"
      ]
     },
     "metadata": {},
     "output_type": "display_data"
    },
    {
     "name": "stdout",
     "output_type": "stream",
     "text": [
      "Specified end: 2023-03-30T00:00:00.000000Z \n",
      "Trace end:     2023-03-30T00:00:00.000000Z\n"
     ]
    }
   ],
   "source": [
    "ws7 = __load_wromy_stream(config['path_to_sds'], \"BW.WROMY..WS7\", config['tbeg'], config['tend'])\n",
    "ws8 = __load_wromy_stream(config['path_to_sds'], \"BW.WROMY..WS8\", config['tbeg'], config['tend'])\n",
    "ws9 = __load_wromy_stream(config['path_to_sds'], \"BW.WROMY..WS9\", config['tbeg'], config['tend'])"
   ]
  },
  {
   "cell_type": "markdown",
   "id": "7dcf5b76",
   "metadata": {},
   "source": [
    "### Plotting"
   ]
  },
  {
   "cell_type": "code",
   "execution_count": 59,
   "id": "e6ee3462",
   "metadata": {
    "ExecuteTime": {
     "end_time": "2023-03-31T16:31:56.922562Z",
     "start_time": "2023-03-31T16:31:55.815138Z"
    },
    "code_folding": [
     0
    ]
   },
   "outputs": [
    {
     "data": {
      "image/png": "[encoded data removed]",
      "text/plain": [
       "<Figure size 1080x720 with 3 Axes>"
      ]
     },
     "metadata": {
      "needs_background": "light"
     },
     "output_type": "display_data"
    }
   ],
   "source": [
    "def __makeplot():\n",
    "    \n",
    "    N = 3\n",
    "    font = 13\n",
    "\n",
    "    fig, ax = plt.subplots(N, 1, figsize=(15,10), sharex=True)\n",
    "\n",
    "    ref_time = config['tbeg']\n",
    "    t_scale = 86400\n",
    "    \n",
    "    ax[0].plot(furt.select(channel=\"*T\")[0].times(reftime=ref_time)/t_scale, \n",
    "               furt.select(channel=\"*T\")[0].data, label=\"FURT\")\n",
    "\n",
    "    ax[1].plot(ws7.select(channel=\"*T\")[0].times(reftime=ref_time)/t_scale,\n",
    "               ws7.select(channel=\"*T\")[0].data, c=config['colors']['WS7'], label=\"WS7\")\n",
    "    ax[1].plot(ws8.select(channel=\"*T\")[0].times(reftime=ref_time)/t_scale, \n",
    "               ws8.select(channel=\"*T\")[0].data, c=config['colors']['WS8'], label=\"WS8\")\n",
    "    ax[1].plot(ws9.select(channel=\"*T\")[0].times(reftime=ref_time)/t_scale, \n",
    "               ws9.select(channel=\"*T\")[0].data, c=config['colors']['WS9'], label=\"WS9\")\n",
    "    \n",
    "    ax[2].plot(ws8.select(channel=\"*T\")[0].times(reftime=ref_time)/t_scale, \n",
    "               ws8.select(channel=\"*T\")[0].data, c=config['colors']['WS8'], label=\"WS8\")\n",
    " \n",
    "    ax[0].set_title(\"WROMY: Isolation Test with Ceiling Plate\", fontsize=font+1)\n",
    "\n",
    "    ax[0].set_ylabel(\"Temperature (°C)\", fontsize=font)\n",
    "    ax[1].set_ylabel(\"Temperature (°C)\", fontsize=font)\n",
    "    ax[2].set_ylabel(\"Temperature (°C)\", fontsize=font)\n",
    "    ax[2].set_xlabel(\"Time (Days)\", fontsize=font)\n",
    "\n",
    "    \n",
    "    for n in range(N):\n",
    "        ax[n].legend()\n",
    "    \n",
    "    plt.show();\n",
    "    return fig\n",
    "\n",
    "fig = __makeplot()"
   ]
  },
  {
   "cell_type": "code",
   "execution_count": null,
   "id": "1407233d",
   "metadata": {},
   "outputs": [],
   "source": []
  },
  {
   "cell_type": "code",
   "execution_count": null,
   "id": "4371124f",
   "metadata": {
    "ExecuteTime": {
     "end_time": "2023-03-31T16:01:23.176534Z",
     "start_time": "2023-03-31T16:01:15.009Z"
    },
    "code_folding": [
     0
    ],
    "scrolled": true
   },
   "outputs": [],
   "source": [
    "def __make_plot_one_station(data, station, config):\n",
    "\n",
    "    df = data.get(station)\n",
    "        \n",
    "    timeaxis, ticks, ticklabels, text = __get_timeaxis(dates=df.iloc[:,1], \n",
    "                                                       times=df.iloc[:,2], \n",
    "                                                       unit=\"date\", \n",
    "                                                       unitmode=\"relative\",\n",
    "                                                      )\n",
    "    \n",
    "    N = 3\n",
    "    font = 13\n",
    "\n",
    "    fig, axes = plt.subplots(N,1, figsize=[15,10], sharex=True)\n",
    "\n",
    "    for i in range(N):\n",
    "        ydata = df.iloc[:,i+3]\n",
    "        \n",
    "#         axes[i].scatter(timeaxis, df.iloc[:,i+3], s=1, color='grey',lw=3, zorder=2)\n",
    "        axes[i].plot(timeaxis, ydata, color=config['colors'][station], label=station, lw=1.5, zorder=2)\n",
    "#         axes[i].fill_between(timeaxis, ydata-0.05, ydata+0.05, color='gray', alpha=0.4)     \n",
    "\n",
    "    \n",
    "        axes[i].grid(ls=\"--\",color='grey', zorder=0)\n",
    "        axes[i].legend(loc=\"upper right\")\n",
    "        \n",
    "        if i == 0:\n",
    "            axes[i].set_ylabel(\"Temperature (°C)\",fontsize=font)\n",
    "        elif i == 1:\n",
    "            axes[i].set_ylabel(\"Air Pressure (hPa)\",fontsize=font)\n",
    "        elif i == 2:\n",
    "            axes[i].set_ylabel(\"rel. Humidity (%)\",fontsize=font)\n",
    "            axes[i].set_xlim(timeaxis[0], timeaxis[-1])\n",
    "\n",
    "\n",
    "        axes[N-1].set_xticklabels(ticklabels)\n",
    "        axes[N-1].set_xticks(ticks)\n",
    "        axes[N-1].set_xlabel(text, fontsize=font)\n",
    "\n",
    "    plt.show();\n",
    "    return fig\n",
    "\n",
    "# __make_plot_one_station(data, 'WS1', config);"
   ]
  },
  {
   "cell_type": "code",
   "execution_count": null,
   "id": "8ffe803c",
   "metadata": {
    "ExecuteTime": {
     "end_time": "2023-03-31T16:01:23.177268Z",
     "start_time": "2023-03-31T16:01:15.010Z"
    },
    "code_folding": [
     0
    ]
   },
   "outputs": [],
   "source": [
    "def __make_plot_all_stations(data, config):\n",
    "\n",
    "    N = 3\n",
    "    font = 13\n",
    "    datasize = 0\n",
    "    \n",
    "    fig, axes = plt.subplots(N,1, figsize=[15,10], sharex=True)\n",
    "    \n",
    "    plt.subplots_adjust(hspace=0.05)\n",
    "    \n",
    "    max_val, min_val = np.zeros(N)*np.nan, np.zeros(N)*np.nan\n",
    "\n",
    "    for station in data.keys():\n",
    "        \n",
    "        df = data.get(station)\n",
    "\n",
    "        for u in range(3):\n",
    "            maximum = df.iloc[:,u+3].dropna().max()\n",
    "            minimum = df.iloc[:,u+3].dropna().min()\n",
    "            if maximum > max_val[u] or np.isnan(max_val[u]):\n",
    "                max_val[u] = maximum\n",
    "            if minimum < min_val[u] or np.isnan(min_val[u]):\n",
    "                min_val[u] = minimum\n",
    "            \n",
    "        timeaxis, ticks, ticklabels, text = __get_timeaxis(dates=df.iloc[:,1], \n",
    "                                                           times=df.iloc[:,2], \n",
    "                                                           unit=\"days\", \n",
    "                                                           unitmode=\"relative\",\n",
    "                                                          )\n",
    "        print(timeaxis)\n",
    "        ## select ticks and ticklabels for longest data series\n",
    "        if df.shape[0] > datasize:\n",
    "            datasize = df.shape[0]\n",
    "            xticks = ticks\n",
    "            xlabels = ticklabels\n",
    "            timeaxis_min, timeaxis_max = timeaxis[0], timeaxis[-1]\n",
    "        \n",
    "        ## plot data and adjust axes automatically\n",
    "        for i in range(N):\n",
    "#             axes[i].scatter(timeaxis, df.iloc[:,i+3], s=1, color='grey',lw=3, zorder=2)\n",
    "            axes[i].plot(timeaxis, df.iloc[:,i+3].rolling(300).mean(), color=config['colors'][station], lw=1.5, zorder=2, label=station)\n",
    "#             axes[i].plot(timeaxis, df.iloc[:,i+3], color=config['colors'][station], lw=1.5, zorder=2, label=station)\n",
    "#             axes[i].fill_between(timeaxis, df.iloc[:,i+3]-0.05, df.iloc[:,i+3]+0.05, color='gray', alpha=0.2)     \n",
    "\n",
    "            axes[i].grid(ls=\"--\",color='grey', zorder=0)\n",
    "            \n",
    "            if i == 0:\n",
    "                axes[i].set_ylabel(\"Temperature (°C)\",fontsize=font)\n",
    "            elif i == 1:\n",
    "                axes[i].set_ylabel(\"Air Pressure (hPa)\",fontsize=font)\n",
    "            elif i == 2:\n",
    "                axes[i].set_ylabel(\"rel. Humidity (%)\",fontsize=font)\n",
    "                axes[i].set_xlim(timeaxis_min, timeaxis_max)\n",
    "\n",
    "            axes[N-1].set_xticklabels(xlabels)\n",
    "            axes[N-1].set_xticks(xticks)\n",
    "            axes[N-1].set_xlabel(text, fontsize=font)\n",
    "            axes[N-1].legend(loc='upper center', ncol=7, bbox_to_anchor=(0.5, -0.2), fancybox=True)\n",
    "        \n",
    "        ## adjust y-limits\n",
    "#     for k in range(N):\n",
    "#         axes[k].set_ylim(min_val[k]-0.005*min_val[k], max_val[k]+0.005*min_val[k])\n",
    "        \n",
    "    plt.show();\n",
    "    return fig\n",
    "\n",
    "#__make_plot_all_stations(data, config);"
   ]
  },
  {
   "cell_type": "code",
   "execution_count": null,
   "id": "8bf9652d",
   "metadata": {
    "ExecuteTime": {
     "end_time": "2023-03-31T16:01:23.177855Z",
     "start_time": "2023-03-31T16:01:15.012Z"
    },
    "code_folding": [
     0
    ]
   },
   "outputs": [],
   "source": [
    "def __make_plot_all_stations_and_furt(data, furt, config, events=None):\n",
    "    \n",
    "    N = 3\n",
    "    font = 13\n",
    "    datasize = 0\n",
    "    \n",
    "    fig, axes = plt.subplots(N,1, figsize=[15,10], sharex=True)\n",
    "    \n",
    "    plt.subplots_adjust(hspace=0.1)\n",
    "    \n",
    "    max_val, min_val = np.zeros(N)*np.nan, np.zeros(N)*np.nan\n",
    "    \n",
    "    timeaxis_furt, ticks_furt, ticklabels_furt, text_furt = __get_timeaxis(\n",
    "                                                                           dates=furt.iloc[:,0], \n",
    "                                                                           times=furt.iloc[:,1], \n",
    "                                                                           unit='date', \n",
    "                                                                           unitmode=\"absolute\",\n",
    "                                                                           dateformat=\"ddmmyy\",\n",
    "                                                                          )    \n",
    "    for station in data.keys():\n",
    "        \n",
    "        df = data.get(station)\n",
    "\n",
    "        for u in range(3):\n",
    "            maximum = df.iloc[:,u+3].dropna().max()\n",
    "            minimum = df.iloc[:,u+3].dropna().min()\n",
    "            if maximum > max_val[u] or np.isnan(max_val[u]):\n",
    "                max_val[u] = maximum\n",
    "            if minimum < min_val[u] or np.isnan(min_val[u]):\n",
    "                min_val[u] = minimum\n",
    "            \n",
    "        timeaxis, ticks, ticklabels, text = __get_timeaxis(dates=df.iloc[:,1], \n",
    "                                                           times=df.iloc[:,2], \n",
    "                                                           unit='date', \n",
    "                                                           unitmode=\"absolute\",\n",
    "                                                           dateformat=\"yyyymmdd\",\n",
    "                                                          )\n",
    "\n",
    "\n",
    "        ## select ticks and ticklabels for longest data series\n",
    "        if df.shape[0] > datasize:\n",
    "            datasize = df.shape[0]\n",
    "            xticks = ticks\n",
    "            xlabels = ticklabels\n",
    "            timeaxis_min, timeaxis_max = timeaxis[0], timeaxis[-1]\n",
    "        \n",
    "#         print(xticks, xlabels, ticklabels)\n",
    "#         print(len(timeaxis_furt), timeaxis_furt[0], timeaxis_furt[-1], len(timeaxis), timeaxis[0], timeaxis[-1])\n",
    "    \n",
    "        ## plot data and adjust axes automatically\n",
    "        for i in range(N):\n",
    "            \n",
    "#             axes[i].scatter(timeaxis, df.iloc[:,i+3], s=1, color='grey',lw=3, zorder=2)\n",
    "#             axes[i].plot(timeaxis, df.iloc[:,i+3], color=config['colors'][station], lw=1.5, zorder=2, label=station)\n",
    "            axes[i].plot(timeaxis, df.iloc[:,i+3].rolling(60).mean(), color=config['colors'][station], lw=1.5, zorder=2, label=station)\n",
    "\n",
    "            if station == list(data.keys())[-1]:\n",
    "                axes[i].plot(timeaxis_furt, furt.iloc[:,i+2], color='darkgrey', lw=1.5, zorder=1, label=\"FURT\")\n",
    "       \n",
    "            axes[i].grid(ls=\"--\",color='grey', zorder=0)\n",
    "            \n",
    "            if i == 0:\n",
    "                axes[i].set_ylabel(\"Temperature (°C)\",fontsize=font)\n",
    "            elif i == 1:\n",
    "                axes[i].set_ylabel(\"Air Pressure (hPa)\",fontsize=font)\n",
    "            elif i == 2:\n",
    "                axes[i].set_ylabel(\"rel. Humidity (%)\",fontsize=font)\n",
    "                axes[i].set_xlim(timeaxis_min, timeaxis_max)\n",
    "\n",
    "#             axes[N-1].set_xticklabels(xlabels[::4], fontsize=font-2)\n",
    "#             axes[N-1].set_xticks(xticks[::4])\n",
    "            axes[N-1].set_xticks(xticks)\n",
    "            axes[N-1].set_xticklabels(xlabels, fontsize=font-2)\n",
    "            axes[N-1].set_xlabel(text, fontsize=font)\n",
    "            axes[N-1].legend(loc='upper center', ncol=7+1, bbox_to_anchor=(0.5, -0.2), fancybox=True, fontsize=font-2)\n",
    "\n",
    "            if events:\n",
    "                for event in events:\n",
    "#                     axes[i].axvline(event, color='r', zorder=0, ls=\"-.\")\n",
    "                    axes[i].axvspan(event[0], event[1], color=\"lightgrey\", alpha=0.4, zorder=1)\n",
    "          \n",
    "        ## adjust y-limits\n",
    "#     for k in range(N):\n",
    "#         axes[k].set_ylim(min_val[k]-0.005*min_val[k], max_val[k]+0.005*min_val[k])\n",
    "        \n",
    "    plt.show();\n",
    "    return fig\n",
    "\n",
    "#__make_plot_all_stations_and_furt(data, furt, config, events=None);"
   ]
  },
  {
   "cell_type": "code",
   "execution_count": null,
   "id": "9e95f0b8",
   "metadata": {},
   "outputs": [],
   "source": []
  }
 ],
 "metadata": {
  "kernelspec": {
   "display_name": "Python 3",
   "language": "python",
   "name": "python3"
  },
  "language_info": {
   "codemirror_mode": {
    "name": "ipython",
    "version": 3
   },
   "file_extension": ".py",
   "mimetype": "text/x-python",
   "name": "python",
   "nbconvert_exporter": "python",
   "pygments_lexer": "ipython3",
   "version": "3.7.7"
  },
  "toc": {
   "base_numbering": 1,
   "nav_menu": {},
   "number_sections": true,
   "sideBar": true,
   "skip_h1_title": false,
   "title_cell": "Table of Contents",
   "title_sidebar": "Contents",
   "toc_cell": false,
   "toc_position": {},
   "toc_section_display": true,
   "toc_window_display": false
  }
 },
 "nbformat": 4,
 "nbformat_minor": 5
}
