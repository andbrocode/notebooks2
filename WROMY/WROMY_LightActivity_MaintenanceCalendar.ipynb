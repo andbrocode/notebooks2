{
 "cells": [
  {
   "cell_type": "markdown",
   "id": "aebdb3cc",
   "metadata": {},
   "source": [
    "# Generate Log for Maintenance Activitiy of WROMY LightSensors"
   ]
  },
  {
   "cell_type": "markdown",
   "id": "1819f3e0",
   "metadata": {},
   "source": [
    "Use the light sensors of WROMY to identify maintenance slots and plot them as calendar plots "
   ]
  },
  {
   "cell_type": "code",
   "execution_count": 25,
   "id": "ac6eb9b0",
   "metadata": {
    "ExecuteTime": {
     "end_time": "2022-08-16T15:07:53.981736Z",
     "start_time": "2022-08-16T15:07:53.979755Z"
    }
   },
   "outputs": [],
   "source": [
    "import pandas as pd\n",
    "import matplotlib.pyplot as plt\n",
    "import numpy as np\n",
    "\n",
    "import calplot\n",
    "\n",
    "import july\n",
    "from july.utils import date_range\n",
    "\n",
    "\n",
    "from pathlib import Path"
   ]
  },
  {
   "cell_type": "code",
   "execution_count": 26,
   "id": "6c88a61a",
   "metadata": {
    "ExecuteTime": {
     "end_time": "2022-08-16T15:07:54.003624Z",
     "start_time": "2022-08-16T15:07:53.982629Z"
    }
   },
   "outputs": [],
   "source": [
    "config = {}\n",
    "\n",
    "config['threshold'] = 10 ## light threshold to classify as <light on> / <light off>\n",
    "\n",
    "config['output'] = \"/import/freenas-ffb-01-data/wromy_files/maintenance_lx_sensors.csv\"\n",
    "\n",
    "config['start_date'] = '01/01/2022' ## MM/DD/YYYY\n",
    "config['end_date']   = '08/15/2022' ## MM/DD/YYYY"
   ]
  },
  {
   "cell_type": "code",
   "execution_count": 27,
   "id": "4cc35b20",
   "metadata": {
    "ExecuteTime": {
     "end_time": "2022-08-16T15:07:54.016055Z",
     "start_time": "2022-08-16T15:07:54.004610Z"
    },
    "code_folding": [
     0
    ]
   },
   "outputs": [],
   "source": [
    "def __update_maintenance_protocoll(config):\n",
    "\n",
    "    ## make new output file with header\n",
    "    with open(config['output'], mode=\"w\") as f:\n",
    "        f.write(\"Sensor,Timestamp,Date,Time,State\\n\")\n",
    "    \n",
    "    ## iterate for dates\n",
    "    for date in pd.date_range(start=config['start_date'], end=config['end_date']):\n",
    "\n",
    "        fdate = str(date)[:10].replace(\"-\",\"\")\n",
    "\n",
    "        ## interate for all sensors of WROMY\n",
    "        for sensor in [1,4,5,6,7,8,9]:\n",
    "\n",
    "            filename = f'WS{sensor}_{fdate}.txt'\n",
    "            datapath = f'/import/freenas-ffb-01-data/romy_archive/{date.year}/BW/WROMY/LX{sensor}.D/'\n",
    "\n",
    "            ## read file\n",
    "            if Path(datapath+filename).exists():\n",
    "                df = pd.read_csv(datapath+filename, names=['Date', 'Time', 'State'])\n",
    "            else:\n",
    "                print(f\" -> {datapath+filename} does not exists!\")\n",
    "                continue\n",
    "                \n",
    "            ## smooth the light sensor data\n",
    "            df['smoothed'] = df['State'].rolling(10, center=True).mean()\n",
    "\n",
    "            ## apply threshold\n",
    "            df['smoothed'] = df['smoothed'].where(df.smoothed > config['threshold']).fillna(0)\n",
    "            df['smoothed'] = df['smoothed'].clip(lower=None, upper=config['threshold'])\n",
    "\n",
    "            ## calculate differences for picking\n",
    "            df['State'] = df.smoothed.diff()/config['threshold']\n",
    "\n",
    "            ## get start and end points of light period\n",
    "            select = df.where(abs(df.State) > 0).dropna()\n",
    "\n",
    "            ## modify data\n",
    "            select.drop(columns=[\"smoothed\"], inplace=True)\n",
    "            select = select.astype(int)\n",
    "        #     select.Time = select.Time.astype(int)\n",
    "            select['State'] = select['State'].replace(-1, 0)\n",
    "        \n",
    "            ## format and write to output file\n",
    "            with open(config['output'], mode=\"a\") as f:\n",
    "                for idx, row in select.iterrows():\n",
    "                    dd = str(row.Date)\n",
    "                    tt = str(row.Time).zfill(6)\n",
    "                    ts = f\"{dd[:4]}-{dd[4:6]}-{dd[6:8]}T{tt[:2]}:{tt[2:4]}:{tt[4:6]}\"\n",
    "                    f.write(f\"WS{sensor},{ts},{row.Date},{row.Time},{row.State}\\n\");"
   ]
  },
  {
   "cell_type": "code",
   "execution_count": 28,
   "id": "b3961a32",
   "metadata": {
    "ExecuteTime": {
     "end_time": "2022-08-16T15:08:15.045547Z",
     "start_time": "2022-08-16T15:07:54.017079Z"
    },
    "code_folding": []
   },
   "outputs": [
    {
     "name": "stdout",
     "output_type": "stream",
     "text": [
      " -> /import/freenas-ffb-01-data/romy_archive/2022/BW/WROMY/LX1.D/WS1_20220101.txt does not exists!\n",
      " -> /import/freenas-ffb-01-data/romy_archive/2022/BW/WROMY/LX4.D/WS4_20220101.txt does not exists!\n",
      " -> /import/freenas-ffb-01-data/romy_archive/2022/BW/WROMY/LX5.D/WS5_20220101.txt does not exists!\n",
      " -> /import/freenas-ffb-01-data/romy_archive/2022/BW/WROMY/LX6.D/WS6_20220101.txt does not exists!\n",
      " -> /import/freenas-ffb-01-data/romy_archive/2022/BW/WROMY/LX7.D/WS7_20220101.txt does not exists!\n",
      " -> /import/freenas-ffb-01-data/romy_archive/2022/BW/WROMY/LX9.D/WS9_20220101.txt does not exists!\n",
      " -> /import/freenas-ffb-01-data/romy_archive/2022/BW/WROMY/LX1.D/WS1_20220102.txt does not exists!\n",
      " -> /import/freenas-ffb-01-data/romy_archive/2022/BW/WROMY/LX4.D/WS4_20220102.txt does not exists!\n",
      " -> /import/freenas-ffb-01-data/romy_archive/2022/BW/WROMY/LX5.D/WS5_20220102.txt does not exists!\n",
      " -> /import/freenas-ffb-01-data/romy_archive/2022/BW/WROMY/LX6.D/WS6_20220102.txt does not exists!\n",
      " -> /import/freenas-ffb-01-data/romy_archive/2022/BW/WROMY/LX7.D/WS7_20220102.txt does not exists!\n",
      " -> /import/freenas-ffb-01-data/romy_archive/2022/BW/WROMY/LX9.D/WS9_20220102.txt does not exists!\n",
      " -> /import/freenas-ffb-01-data/romy_archive/2022/BW/WROMY/LX1.D/WS1_20220103.txt does not exists!\n",
      " -> /import/freenas-ffb-01-data/romy_archive/2022/BW/WROMY/LX4.D/WS4_20220103.txt does not exists!\n",
      " -> /import/freenas-ffb-01-data/romy_archive/2022/BW/WROMY/LX5.D/WS5_20220103.txt does not exists!\n",
      " -> /import/freenas-ffb-01-data/romy_archive/2022/BW/WROMY/LX6.D/WS6_20220103.txt does not exists!\n",
      " -> /import/freenas-ffb-01-data/romy_archive/2022/BW/WROMY/LX7.D/WS7_20220103.txt does not exists!\n",
      " -> /import/freenas-ffb-01-data/romy_archive/2022/BW/WROMY/LX9.D/WS9_20220103.txt does not exists!\n"
     ]
    }
   ],
   "source": [
    "__update_maintenance_protocoll(config)"
   ]
  },
  {
   "cell_type": "markdown",
   "id": "52323b11",
   "metadata": {},
   "source": [
    "### Make Calendar Plots"
   ]
  },
  {
   "cell_type": "code",
   "execution_count": 29,
   "id": "f532ea47",
   "metadata": {
    "ExecuteTime": {
     "end_time": "2022-08-16T15:08:15.057780Z",
     "start_time": "2022-08-16T15:08:15.046907Z"
    }
   },
   "outputs": [],
   "source": [
    "## load the maintenance file\n",
    "df = pd.read_csv(config['output'])\n",
    "\n",
    "## convert to datetime objects\n",
    "df['Timestamp'] = pd.to_datetime(df['Timestamp'].replace(\"T\",\" \"))\n",
    "\n",
    "## reset the index\n",
    "df.set_index('Timestamp', inplace = True)\n",
    "\n",
    "## group by dates and sum the states\n",
    "df_compressed = df.groupby(['Date','Sensor'])['State'].sum().reset_index()\n",
    "df_compressed['sensor_count'] = np.ones(len(df_compressed))\n",
    "df_compressed = df_compressed.groupby(['Date'])['sensor_count'].sum().reset_index()\n",
    "df_compressed['Date'] = pd.to_datetime(df_compressed['Date'].astype(str), format=\"%Y%m%d\")\n",
    "df_compressed.set_index('Date', inplace = True)\n"
   ]
  },
  {
   "cell_type": "code",
   "execution_count": 30,
   "id": "da3a738c",
   "metadata": {
    "ExecuteTime": {
     "end_time": "2022-08-16T15:08:15.268396Z",
     "start_time": "2022-08-16T15:08:15.059492Z"
    }
   },
   "outputs": [
    {
     "data": {
      "image/png": "[encoded data removed]",
      "text/plain": [
       "<Figure size 1250x170 with 2 Axes>"
      ]
     },
     "metadata": {
      "needs_background": "light"
     },
     "output_type": "display_data"
    }
   ],
   "source": [
    "#cmap = plt.get_cmap('RdBu',7)\n",
    "\n",
    "pl1 = calplot.calplot(data = df_compressed['sensor_count'],\n",
    "                      how = 'sum', \n",
    "                      cmap = 'viridis_r', \n",
    "                      colorbar = True,\n",
    "#                       figsize = (16, 4), \n",
    "                      suptitle = \"Count of triggered sensors per day\")\n"
   ]
  },
  {
   "cell_type": "code",
   "execution_count": 31,
   "id": "75e2c8ad",
   "metadata": {
    "ExecuteTime": {
     "end_time": "2022-08-16T15:08:15.271345Z",
     "start_time": "2022-08-16T15:08:15.269557Z"
    }
   },
   "outputs": [],
   "source": [
    "# pl1 = calplot.calplot(data = df['State'],\n",
    "#                       how = 'sum', \n",
    "#                       cmap = 'viridis_r', \n",
    "#                       colorbar = True,\n",
    "# #                       figsize = (16, 4), \n",
    "#                       suptitle = \"Total Acivities per Day\")"
   ]
  },
  {
   "cell_type": "code",
   "execution_count": 40,
   "id": "aad2fffe",
   "metadata": {
    "ExecuteTime": {
     "end_time": "2022-08-16T15:11:58.624445Z",
     "start_time": "2022-08-16T15:11:58.517377Z"
    }
   },
   "outputs": [
    {
     "ename": "KeyError",
     "evalue": "('Date', 'sensor_count')",
     "output_type": "error",
     "traceback": [
      "\u001b[0;31m---------------------------------------------------------------------------\u001b[0m",
      "\u001b[0;31mKeyError\u001b[0m                                  Traceback (most recent call last)",
      "\u001b[0;32m~/anaconda3/lib/python3.7/site-packages/pandas/core/indexes/base.py\u001b[0m in \u001b[0;36mget_loc\u001b[0;34m(self, key, method, tolerance)\u001b[0m\n\u001b[1;32m   3360\u001b[0m             \u001b[0;32mtry\u001b[0m\u001b[0;34m:\u001b[0m\u001b[0;34m\u001b[0m\u001b[0;34m\u001b[0m\u001b[0m\n\u001b[0;32m-> 3361\u001b[0;31m                 \u001b[0;32mreturn\u001b[0m \u001b[0mself\u001b[0m\u001b[0;34m.\u001b[0m\u001b[0m_engine\u001b[0m\u001b[0;34m.\u001b[0m\u001b[0mget_loc\u001b[0m\u001b[0;34m(\u001b[0m\u001b[0mcasted_key\u001b[0m\u001b[0;34m)\u001b[0m\u001b[0;34m\u001b[0m\u001b[0;34m\u001b[0m\u001b[0m\n\u001b[0m\u001b[1;32m   3362\u001b[0m             \u001b[0;32mexcept\u001b[0m \u001b[0mKeyError\u001b[0m \u001b[0;32mas\u001b[0m \u001b[0merr\u001b[0m\u001b[0;34m:\u001b[0m\u001b[0;34m\u001b[0m\u001b[0;34m\u001b[0m\u001b[0m\n",
      "\u001b[0;32m~/anaconda3/lib/python3.7/site-packages/pandas/_libs/index.pyx\u001b[0m in \u001b[0;36mpandas._libs.index.IndexEngine.get_loc\u001b[0;34m()\u001b[0m\n",
      "\u001b[0;32m~/anaconda3/lib/python3.7/site-packages/pandas/_libs/index.pyx\u001b[0m in \u001b[0;36mpandas._libs.index.IndexEngine.get_loc\u001b[0;34m()\u001b[0m\n",
      "\u001b[0;32mpandas/_libs/hashtable_class_helper.pxi\u001b[0m in \u001b[0;36mpandas._libs.hashtable.PyObjectHashTable.get_item\u001b[0;34m()\u001b[0m\n",
      "\u001b[0;32mpandas/_libs/hashtable_class_helper.pxi\u001b[0m in \u001b[0;36mpandas._libs.hashtable.PyObjectHashTable.get_item\u001b[0;34m()\u001b[0m\n",
      "\u001b[0;31mKeyError\u001b[0m: ('Date', 'sensor_count')",
      "\nThe above exception was the direct cause of the following exception:\n",
      "\u001b[0;31mKeyError\u001b[0m                                  Traceback (most recent call last)",
      "\u001b[0;32m<ipython-input-40-fa730c9bf33c>\u001b[0m in \u001b[0;36m<module>\u001b[0;34m\u001b[0m\n\u001b[1;32m      8\u001b[0m \u001b[0;32mfor\u001b[0m \u001b[0mn\u001b[0m\u001b[0;34m,\u001b[0m \u001b[0mdate\u001b[0m \u001b[0;32min\u001b[0m \u001b[0menumerate\u001b[0m\u001b[0;34m(\u001b[0m\u001b[0mmaintenance\u001b[0m\u001b[0;34m[\u001b[0m\u001b[0;34m'dates'\u001b[0m\u001b[0;34m]\u001b[0m\u001b[0;34m)\u001b[0m\u001b[0;34m:\u001b[0m\u001b[0;34m\u001b[0m\u001b[0;34m\u001b[0m\u001b[0m\n\u001b[1;32m      9\u001b[0m     \u001b[0;32mif\u001b[0m \u001b[0mstr\u001b[0m\u001b[0;34m(\u001b[0m\u001b[0mdate\u001b[0m\u001b[0;34m)\u001b[0m\u001b[0;34m.\u001b[0m\u001b[0mreplace\u001b[0m\u001b[0;34m(\u001b[0m\u001b[0;34m\"-\"\u001b[0m\u001b[0;34m,\u001b[0m\u001b[0;34m\"\"\u001b[0m\u001b[0;34m)\u001b[0m \u001b[0;32min\u001b[0m \u001b[0mdf\u001b[0m\u001b[0;34m[\u001b[0m\u001b[0;34m'Date'\u001b[0m\u001b[0;34m]\u001b[0m\u001b[0;34m:\u001b[0m\u001b[0;34m\u001b[0m\u001b[0;34m\u001b[0m\u001b[0m\n\u001b[0;32m---> 10\u001b[0;31m         \u001b[0mstates\u001b[0m\u001b[0;34m[\u001b[0m\u001b[0mn\u001b[0m\u001b[0;34m]\u001b[0m \u001b[0;34m=\u001b[0m \u001b[0mdf\u001b[0m\u001b[0;34m[\u001b[0m\u001b[0;34m'Date'\u001b[0m\u001b[0;34m,\u001b[0m\u001b[0;34m'sensor_count'\u001b[0m\u001b[0;34m]\u001b[0m\u001b[0;34m\u001b[0m\u001b[0;34m\u001b[0m\u001b[0m\n\u001b[0m\u001b[1;32m     11\u001b[0m \u001b[0;34m\u001b[0m\u001b[0m\n\u001b[1;32m     12\u001b[0m \u001b[0mmaintenance\u001b[0m\u001b[0;34m[\u001b[0m\u001b[0;34m'states'\u001b[0m\u001b[0;34m]\u001b[0m \u001b[0;34m=\u001b[0m \u001b[0mstates\u001b[0m\u001b[0;34m\u001b[0m\u001b[0;34m\u001b[0m\u001b[0m\n",
      "\u001b[0;32m~/anaconda3/lib/python3.7/site-packages/pandas/core/frame.py\u001b[0m in \u001b[0;36m__getitem__\u001b[0;34m(self, key)\u001b[0m\n\u001b[1;32m   3456\u001b[0m             \u001b[0;32mif\u001b[0m \u001b[0mself\u001b[0m\u001b[0;34m.\u001b[0m\u001b[0mcolumns\u001b[0m\u001b[0;34m.\u001b[0m\u001b[0mnlevels\u001b[0m \u001b[0;34m>\u001b[0m \u001b[0;36m1\u001b[0m\u001b[0;34m:\u001b[0m\u001b[0;34m\u001b[0m\u001b[0;34m\u001b[0m\u001b[0m\n\u001b[1;32m   3457\u001b[0m                 \u001b[0;32mreturn\u001b[0m \u001b[0mself\u001b[0m\u001b[0;34m.\u001b[0m\u001b[0m_getitem_multilevel\u001b[0m\u001b[0;34m(\u001b[0m\u001b[0mkey\u001b[0m\u001b[0;34m)\u001b[0m\u001b[0;34m\u001b[0m\u001b[0;34m\u001b[0m\u001b[0m\n\u001b[0;32m-> 3458\u001b[0;31m             \u001b[0mindexer\u001b[0m \u001b[0;34m=\u001b[0m \u001b[0mself\u001b[0m\u001b[0;34m.\u001b[0m\u001b[0mcolumns\u001b[0m\u001b[0;34m.\u001b[0m\u001b[0mget_loc\u001b[0m\u001b[0;34m(\u001b[0m\u001b[0mkey\u001b[0m\u001b[0;34m)\u001b[0m\u001b[0;34m\u001b[0m\u001b[0;34m\u001b[0m\u001b[0m\n\u001b[0m\u001b[1;32m   3459\u001b[0m             \u001b[0;32mif\u001b[0m \u001b[0mis_integer\u001b[0m\u001b[0;34m(\u001b[0m\u001b[0mindexer\u001b[0m\u001b[0;34m)\u001b[0m\u001b[0;34m:\u001b[0m\u001b[0;34m\u001b[0m\u001b[0;34m\u001b[0m\u001b[0m\n\u001b[1;32m   3460\u001b[0m                 \u001b[0mindexer\u001b[0m \u001b[0;34m=\u001b[0m \u001b[0;34m[\u001b[0m\u001b[0mindexer\u001b[0m\u001b[0;34m]\u001b[0m\u001b[0;34m\u001b[0m\u001b[0;34m\u001b[0m\u001b[0m\n",
      "\u001b[0;32m~/anaconda3/lib/python3.7/site-packages/pandas/core/indexes/base.py\u001b[0m in \u001b[0;36mget_loc\u001b[0;34m(self, key, method, tolerance)\u001b[0m\n\u001b[1;32m   3361\u001b[0m                 \u001b[0;32mreturn\u001b[0m \u001b[0mself\u001b[0m\u001b[0;34m.\u001b[0m\u001b[0m_engine\u001b[0m\u001b[0;34m.\u001b[0m\u001b[0mget_loc\u001b[0m\u001b[0;34m(\u001b[0m\u001b[0mcasted_key\u001b[0m\u001b[0;34m)\u001b[0m\u001b[0;34m\u001b[0m\u001b[0;34m\u001b[0m\u001b[0m\n\u001b[1;32m   3362\u001b[0m             \u001b[0;32mexcept\u001b[0m \u001b[0mKeyError\u001b[0m \u001b[0;32mas\u001b[0m \u001b[0merr\u001b[0m\u001b[0;34m:\u001b[0m\u001b[0;34m\u001b[0m\u001b[0;34m\u001b[0m\u001b[0m\n\u001b[0;32m-> 3363\u001b[0;31m                 \u001b[0;32mraise\u001b[0m \u001b[0mKeyError\u001b[0m\u001b[0;34m(\u001b[0m\u001b[0mkey\u001b[0m\u001b[0;34m)\u001b[0m \u001b[0;32mfrom\u001b[0m \u001b[0merr\u001b[0m\u001b[0;34m\u001b[0m\u001b[0;34m\u001b[0m\u001b[0m\n\u001b[0m\u001b[1;32m   3364\u001b[0m \u001b[0;34m\u001b[0m\u001b[0m\n\u001b[1;32m   3365\u001b[0m         \u001b[0;32mif\u001b[0m \u001b[0mis_scalar\u001b[0m\u001b[0;34m(\u001b[0m\u001b[0mkey\u001b[0m\u001b[0;34m)\u001b[0m \u001b[0;32mand\u001b[0m \u001b[0misna\u001b[0m\u001b[0;34m(\u001b[0m\u001b[0mkey\u001b[0m\u001b[0;34m)\u001b[0m \u001b[0;32mand\u001b[0m \u001b[0;32mnot\u001b[0m \u001b[0mself\u001b[0m\u001b[0;34m.\u001b[0m\u001b[0mhasnans\u001b[0m\u001b[0;34m:\u001b[0m\u001b[0;34m\u001b[0m\u001b[0;34m\u001b[0m\u001b[0m\n",
      "\u001b[0;31mKeyError\u001b[0m: ('Date', 'sensor_count')"
     ]
    }
   ],
   "source": [
    "\n",
    "dates = date_range(\"2022-01-01\", \"2022-12-31\")\n",
    "\n",
    "maintenance = pd.DataFrame()\n",
    "\n",
    "maintenance['dates'] = dates\n",
    "\n",
    "states = np.zeros(len(dates)) \n",
    "for n, date in enumerate(maintenance['dates']):\n",
    "    if str(date).replace(\"-\",\"\") in df['Date']:\n",
    "        states[n] = df['Date','sensor_count']\n",
    "        \n",
    "maintenance['states'] = states\n",
    "\n",
    "july.calendar_plot(dates, \n",
    "                   maintenance['states'],\n",
    "                   cmap = 'Greens');"
   ]
  },
  {
   "cell_type": "code",
   "execution_count": 62,
   "id": "5c422f0f",
   "metadata": {
    "ExecuteTime": {
     "end_time": "2022-08-16T15:16:10.499590Z",
     "start_time": "2022-08-16T15:16:10.492475Z"
    }
   },
   "outputs": [
    {
     "data": {
      "text/html": [
       "<div>\n",
       "<style scoped>\n",
       "    .dataframe tbody tr th:only-of-type {\n",
       "        vertical-align: middle;\n",
       "    }\n",
       "\n",
       "    .dataframe tbody tr th {\n",
       "        vertical-align: top;\n",
       "    }\n",
       "\n",
       "    .dataframe thead th {\n",
       "        text-align: right;\n",
       "    }\n",
       "</style>\n",
       "<table border=\"1\" class=\"dataframe\">\n",
       "  <thead>\n",
       "    <tr style=\"text-align: right;\">\n",
       "      <th></th>\n",
       "      <th>sensor_count</th>\n",
       "    </tr>\n",
       "    <tr>\n",
       "      <th>Date</th>\n",
       "      <th></th>\n",
       "    </tr>\n",
       "  </thead>\n",
       "  <tbody>\n",
       "    <tr>\n",
       "      <th>2022-02-16</th>\n",
       "      <td>1.0</td>\n",
       "    </tr>\n",
       "    <tr>\n",
       "      <th>2022-03-17</th>\n",
       "      <td>1.0</td>\n",
       "    </tr>\n",
       "    <tr>\n",
       "      <th>2022-03-18</th>\n",
       "      <td>3.0</td>\n",
       "    </tr>\n",
       "    <tr>\n",
       "      <th>2022-03-21</th>\n",
       "      <td>1.0</td>\n",
       "    </tr>\n",
       "    <tr>\n",
       "      <th>2022-03-22</th>\n",
       "      <td>6.0</td>\n",
       "    </tr>\n",
       "    <tr>\n",
       "      <th>2022-03-24</th>\n",
       "      <td>1.0</td>\n",
       "    </tr>\n",
       "    <tr>\n",
       "      <th>2022-03-28</th>\n",
       "      <td>6.0</td>\n",
       "    </tr>\n",
       "    <tr>\n",
       "      <th>2022-03-31</th>\n",
       "      <td>6.0</td>\n",
       "    </tr>\n",
       "    <tr>\n",
       "      <th>2022-04-04</th>\n",
       "      <td>5.0</td>\n",
       "    </tr>\n",
       "    <tr>\n",
       "      <th>2022-04-07</th>\n",
       "      <td>1.0</td>\n",
       "    </tr>\n",
       "    <tr>\n",
       "      <th>2022-04-08</th>\n",
       "      <td>1.0</td>\n",
       "    </tr>\n",
       "    <tr>\n",
       "      <th>2022-04-12</th>\n",
       "      <td>5.0</td>\n",
       "    </tr>\n",
       "    <tr>\n",
       "      <th>2022-04-29</th>\n",
       "      <td>1.0</td>\n",
       "    </tr>\n",
       "    <tr>\n",
       "      <th>2022-05-30</th>\n",
       "      <td>2.0</td>\n",
       "    </tr>\n",
       "    <tr>\n",
       "      <th>2022-06-03</th>\n",
       "      <td>1.0</td>\n",
       "    </tr>\n",
       "    <tr>\n",
       "      <th>2022-06-08</th>\n",
       "      <td>1.0</td>\n",
       "    </tr>\n",
       "    <tr>\n",
       "      <th>2022-06-14</th>\n",
       "      <td>5.0</td>\n",
       "    </tr>\n",
       "    <tr>\n",
       "      <th>2022-06-15</th>\n",
       "      <td>3.0</td>\n",
       "    </tr>\n",
       "    <tr>\n",
       "      <th>2022-06-23</th>\n",
       "      <td>3.0</td>\n",
       "    </tr>\n",
       "    <tr>\n",
       "      <th>2022-07-05</th>\n",
       "      <td>5.0</td>\n",
       "    </tr>\n",
       "    <tr>\n",
       "      <th>2022-07-06</th>\n",
       "      <td>6.0</td>\n",
       "    </tr>\n",
       "    <tr>\n",
       "      <th>2022-07-18</th>\n",
       "      <td>4.0</td>\n",
       "    </tr>\n",
       "    <tr>\n",
       "      <th>2022-07-20</th>\n",
       "      <td>3.0</td>\n",
       "    </tr>\n",
       "    <tr>\n",
       "      <th>2022-07-21</th>\n",
       "      <td>2.0</td>\n",
       "    </tr>\n",
       "    <tr>\n",
       "      <th>2022-07-28</th>\n",
       "      <td>1.0</td>\n",
       "    </tr>\n",
       "    <tr>\n",
       "      <th>2022-08-04</th>\n",
       "      <td>2.0</td>\n",
       "    </tr>\n",
       "  </tbody>\n",
       "</table>\n",
       "</div>"
      ],
      "text/plain": [
       "            sensor_count\n",
       "Date                    \n",
       "2022-02-16           1.0\n",
       "2022-03-17           1.0\n",
       "2022-03-18           3.0\n",
       "2022-03-21           1.0\n",
       "2022-03-22           6.0\n",
       "2022-03-24           1.0\n",
       "2022-03-28           6.0\n",
       "2022-03-31           6.0\n",
       "2022-04-04           5.0\n",
       "2022-04-07           1.0\n",
       "2022-04-08           1.0\n",
       "2022-04-12           5.0\n",
       "2022-04-29           1.0\n",
       "2022-05-30           2.0\n",
       "2022-06-03           1.0\n",
       "2022-06-08           1.0\n",
       "2022-06-14           5.0\n",
       "2022-06-15           3.0\n",
       "2022-06-23           3.0\n",
       "2022-07-05           5.0\n",
       "2022-07-06           6.0\n",
       "2022-07-18           4.0\n",
       "2022-07-20           3.0\n",
       "2022-07-21           2.0\n",
       "2022-07-28           1.0\n",
       "2022-08-04           2.0"
      ]
     },
     "execution_count": 62,
     "metadata": {},
     "output_type": "execute_result"
    }
   ],
   "source": [
    "df_compressed"
   ]
  },
  {
   "cell_type": "code",
   "execution_count": null,
   "id": "e855d36e",
   "metadata": {},
   "outputs": [],
   "source": []
  },
  {
   "cell_type": "code",
   "execution_count": null,
   "id": "9366bc1f",
   "metadata": {},
   "outputs": [],
   "source": []
  },
  {
   "cell_type": "code",
   "execution_count": null,
   "id": "851f0bb3",
   "metadata": {},
   "outputs": [],
   "source": [
    "df = pd.read_csv(\"~/Downloads/tx.in\", names=['offset','times','uncertainty','phase'], delimiter=\"\\s+\")\n",
    "\n",
    "\n",
    "stations = ['101','101','101','102','102','103','103','104','104','105','105','106','106','107','107','108','108','109','109','119','120','121','300'\n",
    "]\n",
    "\n",
    "station = []\n",
    "n, k = 0, 0\n",
    "\n",
    "for phase in df['phase']:\n",
    "    \n",
    "    if phase == 0:\n",
    "        k = 0\n",
    "        n += 1\n",
    "            \n",
    "    sta = stations[n]\n",
    "    station.append(sta)\n",
    "\n",
    "df['station'] = station\n",
    "\n",
    "df = df[(df['times'] != -1) & (df['phase'] != 0)]"
   ]
  },
  {
   "cell_type": "code",
   "execution_count": null,
   "id": "3fd95fb2",
   "metadata": {
    "code_folding": [
     0
    ]
   },
   "outputs": [],
   "source": [
    "def __makeplot(df):\n",
    "\n",
    "    plt.figure(figsize=(15,8))\n",
    "\n",
    "\n",
    "    for (offset, time, uncertainty) in zip(df['offset'], df['times'], df['uncertainty']):\n",
    "        plt.plot((offset, offset), (time-uncertainty, time+uncertainty), color='grey')\n",
    "\n",
    "    plt.scatter(df.offset, df.times, s=0.2, color='k')\n",
    "\n",
    "    plt.show();\n",
    "    \n",
    "__makeplot(df)"
   ]
  },
  {
   "cell_type": "code",
   "execution_count": null,
   "id": "7e3fb1c4",
   "metadata": {},
   "outputs": [],
   "source": [
    "select = '109'\n",
    "\n",
    "df_select = df[df['station'] == select]\n",
    "\n",
    "__makeplot(df_select)"
   ]
  },
  {
   "cell_type": "code",
   "execution_count": null,
   "id": "9e0fd774",
   "metadata": {},
   "outputs": [],
   "source": []
  }
 ],
 "metadata": {
  "kernelspec": {
   "display_name": "Python 3",
   "language": "python",
   "name": "python3"
  },
  "language_info": {
   "codemirror_mode": {
    "name": "ipython",
    "version": 3
   },
   "file_extension": ".py",
   "mimetype": "text/x-python",
   "name": "python",
   "nbconvert_exporter": "python",
   "pygments_lexer": "ipython3",
   "version": "3.7.7"
  }
 },
 "nbformat": 4,
 "nbformat_minor": 5
}
