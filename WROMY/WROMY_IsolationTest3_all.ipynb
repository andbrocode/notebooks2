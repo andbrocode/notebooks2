{
 "cells": [
  {
   "cell_type": "markdown",
   "id": "e9ee9386",
   "metadata": {},
   "source": [
    "## Isolation Test 3 - After ALL Ceiling Plates had been installed"
   ]
  },
  {
   "cell_type": "code",
   "execution_count": 1,
   "id": "f27a8ba0",
   "metadata": {
    "ExecuteTime": {
     "end_time": "2023-06-05T14:47:11.420809Z",
     "start_time": "2023-06-05T14:47:08.861841Z"
    },
    "tags": []
   },
   "outputs": [],
   "source": [
    "import os\n",
    "import pandas as pd\n",
    "import matplotlib.pyplot as plt\n",
    "import numpy as np\n",
    "\n",
    "from numpy import nan\n",
    "from pathlib import Path\n",
    "from obspy import UTCDateTime, Stream\n",
    "\n",
    "from andbro__get_timeaxis import __get_timeaxis\n",
    "from andbro__load_FURT_stream import __load_furt_stream\n",
    "from andbro__load_WROMY_stream import __load_wromy_stream"
   ]
  },
  {
   "cell_type": "code",
   "execution_count": 2,
   "id": "39b0be83-6e93-41a5-b19f-d36226e2634c",
   "metadata": {
    "tags": []
   },
   "outputs": [],
   "source": [
    "if os.uname().nodename == 'lighthouse':\n",
    "    root_path = '/home/andbro/'\n",
    "    data_path = '/home/andbro/kilauea-data/'\n",
    "    archive_path = '/home/andbro/freenas/'\n",
    "    bay_path = '/home/andbro/bay200/'\n",
    "elif os.uname().nodename == 'kilauea':\n",
    "    root_path = '/home/brotzer/'\n",
    "    data_path = '/import/kilauea-data/'\n",
    "    archive_path = '/import/freenas-ffb-01-data/'\n",
    "    bay_path = '/bay200/'\n",
    "elif os.uname().nodename == 'lin-ffb-01':\n",
    "    root_path = '/home/brotzer/'\n",
    "    data_path = '/import/kilauea-data/'\n",
    "    archive_path = '/import/freenas-ffb-01-data/'\n",
    "    bay_path = '/bay200/'"
   ]
  },
  {
   "cell_type": "markdown",
   "id": "a09ecf84",
   "metadata": {},
   "source": [
    "### Configurations"
   ]
  },
  {
   "cell_type": "code",
   "execution_count": 3,
   "id": "598bc2c0",
   "metadata": {
    "ExecuteTime": {
     "end_time": "2023-06-05T15:12:20.444886Z",
     "start_time": "2023-06-05T15:12:20.437616Z"
    },
    "tags": []
   },
   "outputs": [],
   "source": [
    "config = {}\n",
    "\n",
    "config['channel'] = None\n",
    "\n",
    "config['tbeg'] = UTCDateTime(\"2022-09-01 00:00\")\n",
    "config['tend'] = UTCDateTime(\"2022-09-30 00:00\")\n",
    "\n",
    "# config['tbeg'] = UTCDateTime(\"2023-04-01 00:00\")\n",
    "# config['tend'] = UTCDateTime(\"2023-04-30 00:00\")\n",
    "\n",
    "config['path_to_figs'] = data_path+\"wromy/figures/\"\n",
    "\n",
    "config['path_to_sds'] = archive_path+f'romy_archive/'\n",
    "\n",
    "config['resample'] = 20\n",
    "\n",
    "config['colors'] = {  'WS1':'darkgreen',\n",
    "                      'WS4':'purple',\n",
    "                      'WS5':'darkred',\n",
    "                      'WS6':'darkblue',\n",
    "                      'WS7':'darkorange',\n",
    "                      'WS8':'darkcyan',\n",
    "                      'WS9':'cyan',\n",
    "                     }"
   ]
  },
  {
   "cell_type": "markdown",
   "id": "faf1a2ff",
   "metadata": {},
   "source": [
    "### Methods"
   ]
  },
  {
   "cell_type": "code",
   "execution_count": 4,
   "id": "af934955",
   "metadata": {
    "ExecuteTime": {
     "end_time": "2023-06-05T15:12:21.890005Z",
     "start_time": "2023-06-05T15:12:21.882638Z"
    },
    "code_folding": [
     0
    ],
    "tags": []
   },
   "outputs": [],
   "source": [
    "def __indicate_gaps_with_nan(df, config):\n",
    "\n",
    "    differences = np.diff(df.totalSeconds, n=1)\n",
    "\n",
    "\n",
    "    ## ______________\n",
    "\n",
    "    sample_time_errors = [j for j in differences if j != config['resample']]\n",
    "\n",
    "    if len(sample_time_errors) != 0:\n",
    "        print(f\"  -> ERROR: Found {len(sample_time_errors)} errors for the sampling time!\\n\")\n",
    "\n",
    "\n",
    "    ## ______________\n",
    "\n",
    "    gaps = [list(differences).index(k) for k in differences if k > 2*config['resample']] or []\n",
    "    if gaps and gaps[0] in [0, 0.0]:\n",
    "        gaps.pop(0)\n",
    "    del differences\n",
    "\n",
    "    for x in gaps:\n",
    "        fill_row = [i+config['resample'] if n not in [3,4,5] else np.nan for n, i in enumerate(df.iloc[x,:])]\n",
    "        fill_row[0] = int(df.iloc[x,0])\n",
    "        fill_row[1] = int(df.iloc[x,1])\n",
    "        fill_row[2] = int(df.iloc[x,2])\n",
    "        df.loc[x+0.5] = fill_row\n",
    "\n",
    "\n",
    "    df = df.sort_index().reset_index(drop=True).convert_dtypes()\n",
    "\n",
    "    print(f\"  -> Marked {len(gaps)} gaps with NaN values!\\n\")\n",
    "\n",
    "    return df"
   ]
  },
  {
   "cell_type": "code",
   "execution_count": 5,
   "id": "23104513",
   "metadata": {
    "ExecuteTime": {
     "end_time": "2023-06-05T15:12:22.062389Z",
     "start_time": "2023-06-05T15:12:22.059199Z"
    },
    "code_folding": [
     0
    ],
    "tags": []
   },
   "outputs": [],
   "source": [
    "def __processing(data, config):\n",
    "\n",
    "    filter_length = 10*config['resample']\n",
    "\n",
    "    data.iloc[:,3:6] = data.iloc[:,3:6].rolling(filter_length).mean() \n",
    "    print(f\" -> Filter: rooling mean {filter_length}!\")\n",
    "\n",
    "    data = data[data.index % config['resample'] == 0]\n",
    "    print(f\" -> Resampling: keep every {config['resample']}nth sample!\")\n",
    "\n",
    "    return data"
   ]
  },
  {
   "cell_type": "markdown",
   "id": "b382acf5",
   "metadata": {
    "ExecuteTime": {
     "end_time": "2023-03-31T16:07:18.383338Z",
     "start_time": "2023-03-31T16:07:18.378475Z"
    }
   },
   "source": [
    "### Load WROMY Data"
   ]
  },
  {
   "cell_type": "code",
   "execution_count": 6,
   "id": "453a69be",
   "metadata": {
    "ExecuteTime": {
     "end_time": "2023-06-05T15:13:32.520342Z",
     "start_time": "2023-06-05T15:12:22.446410Z"
    },
    "tags": []
   },
   "outputs": [
    {
     "name": "stderr",
     "output_type": "stream",
     "text": [
      "/home/andbro/andbro_python/andbro__load_FURT_stream.py:63: SettingWithCopyWarning: \n",
      "A value is trying to be set on a copy of a slice from a DataFrame.\n",
      "Try using .loc[row_indexer,col_indexer] = value instead\n",
      "\n",
      "See the caveats in the documentation: https://pandas.pydata.org/pandas-docs/stable/user_guide/indexing.html#returning-a-view-versus-a-copy\n",
      "  df['datetime'] = to_datetime(df['datetime'], format=\"%d%m%y %H%M%S\", errors=\"ignore\")\n"
     ]
    }
   ],
   "source": [
    "furt = __load_furt_stream(config['tbeg'], config['tend'], path_to_archive=bay_path+\"gif_online/FURT/WETTER/\")"
   ]
  },
  {
   "cell_type": "markdown",
   "id": "0f82073b",
   "metadata": {},
   "source": [
    "### Load WROMY Data"
   ]
  },
  {
   "cell_type": "code",
   "execution_count": 7,
   "id": "04e30f88",
   "metadata": {
    "ExecuteTime": {
     "end_time": "2023-06-05T15:13:32.641348Z",
     "start_time": "2023-06-05T15:13:32.521851Z"
    },
    "code_folding": [
     0
    ],
    "tags": []
   },
   "outputs": [],
   "source": [
    "from andbro__load_WROMY_stream import __load_wromy_stream"
   ]
  },
  {
   "cell_type": "code",
   "execution_count": null,
   "id": "167e0b20",
   "metadata": {
    "ExecuteTime": {
     "end_time": "2023-06-05T15:13:47.097268Z",
     "start_time": "2023-06-05T15:13:32.642724Z"
    },
    "tags": []
   },
   "outputs": [
    {
     "name": "stdout",
     "output_type": "stream",
     "text": [
      "Specified end: 2022-09-30T00:00:00.000000Z \n",
      "Trace end:     2022-09-29T23:59:59.000000Z\n",
      "Specified end: 2022-09-30T00:00:00.000000Z \n",
      "Trace end:     2022-09-29T23:59:59.000000Z\n",
      "Specified end: 2022-09-30T00:00:00.000000Z \n",
      "Trace end:     2022-09-29T23:59:59.000000Z\n"
     ]
    }
   ],
   "source": [
    "ws1 = __load_wromy_stream(config['path_to_sds'], \"BW.WROMY..WS1\", config['tbeg'], config['tend'])\n",
    "ws4 = __load_wromy_stream(config['path_to_sds'], \"BW.WROMY..WS4\", config['tbeg'], config['tend'])\n",
    "ws5 = __load_wromy_stream(config['path_to_sds'], \"BW.WROMY..WS5\", config['tbeg'], config['tend'])\n",
    "ws6 = __load_wromy_stream(config['path_to_sds'], \"BW.WROMY..WS6\", config['tbeg'], config['tend'])\n",
    "ws7 = __load_wromy_stream(config['path_to_sds'], \"BW.WROMY..WS7\", config['tbeg'], config['tend'])\n",
    "ws8 = __load_wromy_stream(config['path_to_sds'], \"BW.WROMY..WS8\", config['tbeg'], config['tend'])\n",
    "ws9 = __load_wromy_stream(config['path_to_sds'], \"BW.WROMY..WS9\", config['tbeg'], config['tend'])"
   ]
  },
  {
   "cell_type": "markdown",
   "id": "93072a97-4785-4836-87f4-d62875932118",
   "metadata": {
    "tags": []
   },
   "source": [
    "### Processing"
   ]
  },
  {
   "cell_type": "code",
   "execution_count": null,
   "id": "c2dbd6a2-c0c9-4f84-9b34-f1fdb8b36e64",
   "metadata": {},
   "outputs": [],
   "source": [
    "def __get_sunrise_sunset(tbeg, tend):\n",
    "\n",
    "    from obspy import UTCDateTime\n",
    "    from pandas import date_range\n",
    "    from suntime import Sun, SunTimeException\n",
    "\n",
    "    tbeg, tend = UTCDateTime(tbeg), UTCDateTime(tend)\n",
    "\n",
    "    sun = Sun(48.162941, 11.275501)\n",
    "\n",
    "    sr, ss = [], []\n",
    "    for _date in date_range(tbeg.date, tend.date):\n",
    "        # abd = datetime.date(2014, 10, 3)\n",
    "        sr.append(sun.get_local_sunrise_time(_date))\n",
    "        ss.append(sun.get_local_sunset_time(_date))\n",
    "\n",
    "    return sr, ss"
   ]
  },
  {
   "cell_type": "code",
   "execution_count": null,
   "id": "ec34bb60-3ecc-4b23-8d71-dfbec9624a24",
   "metadata": {
    "tags": []
   },
   "outputs": [],
   "source": [
    "def __smooth(y, box_pts):\n",
    "    from numpy import ones, convolve, hanning\n",
    "\n",
    "#     win = ones(box_pts)/box_pts\n",
    "    win = hanning(box_pts)\n",
    "    y_smooth = convolve(y, win/sum(win), mode='same')\n",
    "\n",
    "    return y_smooth"
   ]
  },
  {
   "cell_type": "code",
   "execution_count": null,
   "id": "7c864b46-1df6-48c7-a19f-c2096cc57f01",
   "metadata": {
    "tags": []
   },
   "outputs": [],
   "source": [
    "T = 3600\n",
    "\n",
    "for _ws in [ws1, ws4, ws5, ws6, ws7, ws8, ws9]:\n",
    "    _ws.select(channel=\"*T\")[0].data = __smooth(_ws.select(channel=\"*T\")[0].data, T)\n",
    "    _ws.select(channel=\"*T\")[0].data[:int(1.2*T)] = np.nan\n",
    "    _ws.select(channel=\"*T\")[0].data[int(-1.2*T):] = np.nan"
   ]
  },
  {
   "cell_type": "markdown",
   "id": "7dcf5b76",
   "metadata": {},
   "source": [
    "### Plotting"
   ]
  },
  {
   "cell_type": "code",
   "execution_count": null,
   "id": "e6ee3462",
   "metadata": {
    "ExecuteTime": {
     "end_time": "2023-06-05T15:28:13.703134Z",
     "start_time": "2023-06-05T15:28:06.553174Z"
    },
    "code_folding": [],
    "tags": []
   },
   "outputs": [],
   "source": [
    "def __makeplot():\n",
    "\n",
    "    N = 3\n",
    "    font = 13\n",
    "\n",
    "    fig, ax = plt.subplots(N, 1, figsize=(15, 10), sharex=True)\n",
    "\n",
    "    plt.subplots_adjust(hspace=0.1)\n",
    "\n",
    "    ref_time = config['tbeg']\n",
    "\n",
    "    t_scale = 86400\n",
    "\n",
    "    ax[0].plot(furt.select(channel=\"*T\")[0].times(reftime=ref_time)/t_scale,\n",
    "               furt.select(channel=\"*T\")[0].data, label=\"FURT\")\n",
    "\n",
    "    # ax[1].plot(ws1.select(channel=\"*T\")[0].times(reftime=ref_time)/t_scale,\n",
    "               # ws1.select(channel=\"*T\")[0].data, c=config['colors']['WS1'], label=\"WS1\")\n",
    "    ax[1].plot(ws4.select(channel=\"*T\")[0].times(reftime=ref_time)/t_scale,\n",
    "               ws4.select(channel=\"*T\")[0].data, c=config['colors']['WS4'], label=\"WS4\")\n",
    "    ax[1].plot(ws5.select(channel=\"*T\")[0].times(reftime=ref_time)/t_scale,\n",
    "               ws5.select(channel=\"*T\")[0].data, c=config['colors']['WS5'], label=\"WS5\")\n",
    "    ax[1].plot(ws6.select(channel=\"*T\")[0].times(reftime=ref_time)/t_scale,\n",
    "               ws6.select(channel=\"*T\")[0].data, c=config['colors']['WS6'], label=\"WS6\")\n",
    "    ax[1].plot(ws7.select(channel=\"*T\")[0].times(reftime=ref_time)/t_scale,\n",
    "               ws7.select(channel=\"*T\")[0].data, c=config['colors']['WS7'], label=\"WS7\")\n",
    "    ax[1].plot(ws8.select(channel=\"*T\")[0].times(reftime=ref_time)/t_scale,\n",
    "               ws8.select(channel=\"*T\")[0].data, c=config['colors']['WS8'], label=\"WS8\")\n",
    "    ax[1].plot(ws9.select(channel=\"*T\")[0].times(reftime=ref_time)/t_scale,\n",
    "               ws9.select(channel=\"*T\")[0].data, c=config['colors']['WS9'], label=\"WS9\")\n",
    "\n",
    "    ax[2].plot(ws1.select(channel=\"*T\")[0].times(reftime=ref_time)/t_scale,\n",
    "               ws1.select(channel=\"*T\")[0].data, c=config['colors']['WS1'], label=\"WS1\")\n",
    "\n",
    "    ax[0].set_title(f\"WROMY: Isolation Test with Ceiling Plates ({T} sec mean)\", fontsize=font+2)\n",
    "\n",
    "    ax[0].set_ylabel(\"Outside Temperature (°C)\", fontsize=font)\n",
    "    ax[1].set_ylabel(\"Inside Temperature (°C)\", fontsize=font)\n",
    "    ax[2].set_ylabel(\"Temperature (°C)\", fontsize=font)\n",
    "    ax[2].set_xlabel(f\"Time from {str(ref_time).split('.')[0]} UTC (days)\", fontsize=font)\n",
    "\n",
    "    y0min, y0max = ax[0].get_ylim()[0], ax[0].get_ylim()[1]\n",
    "    y1min, y1max = ax[1].get_ylim()[0], ax[1].get_ylim()[1]\n",
    "    y2min, y2max = ax[2].get_ylim()[0], ax[2].get_ylim()[1]\n",
    "\n",
    "    sr, ss = __get_sunrise_sunset(config['tbeg'], config['tend'])\n",
    "\n",
    "    for _n, (_sr, _ss) in enumerate(zip(sr, ss)):\n",
    "        t1, t2 = (UTCDateTime(_sr)-ref_time)/t_scale, (UTCDateTime(_ss)-ref_time)/t_scale\n",
    "        if _n == 0:\n",
    "            ax[0].fill_betweenx([y0min, y0max], t1, t2, color=\"lightgrey\", alpha=0.4, zorder=1, label=\"daytime\")\n",
    "        else:\n",
    "            ax[0].fill_betweenx([y0min, y0max], t1, t2, color=\"lightgrey\", alpha=0.4, zorder=1)\n",
    "\n",
    "        ax[1].fill_betweenx([y1min, y1max], t1, t2, color=\"lightgrey\", alpha=0.4, zorder=1)\n",
    "        ax[2].fill_betweenx([y2min, y2max], t1, t2, color=\"lightgrey\", alpha=0.4, zorder=1)\n",
    "\n",
    "    ax[0].set_ylim(y0min, y0max)\n",
    "    ax[1].set_ylim(y1min, y1max)\n",
    "    ax[2].set_ylim(y2min, y2max)\n",
    "\n",
    "    for n in range(N):\n",
    "        ax[n].legend(loc=1, ncol=2)\n",
    "        ax[n].grid(alpha=0.5, zorder=-1)\n",
    "        ax[n].set_xlim(0, (config['tend'] - ref_time)/t_scale)\n",
    "\n",
    "    plt.show();\n",
    "    return fig\n",
    "\n",
    "fig = __makeplot()\n",
    "\n",
    "# fig.savefig(config['path_to_figs']+f\"IsolationCheck_{config['tbeg'].date}_{config['tend'].date}.png\", format=\"png\", dpi=200, bbox_inches='tight')\n"
   ]
  },
  {
   "cell_type": "code",
   "execution_count": null,
   "id": "3f17ba9f-f3a5-4b6c-a13f-fcf49a485fb3",
   "metadata": {
    "tags": []
   },
   "outputs": [],
   "source": [
    "def __multitaper_psd(arr, dt, n_win=5, time_bandwidth=4.0):\n",
    "\n",
    "    import multitaper as mt\n",
    "\n",
    "    out_psd = mt.MTSpec(arr, nw=time_bandwidth, kspec=n_win, dt=dt, iadapt=2)\n",
    "\n",
    "    _f, _psd = out_psd.rspec()\n",
    "\n",
    "    f = _f.reshape(_f.size)\n",
    "    psd = _psd.reshape(_psd.size)\n",
    "\n",
    "    ## 95% confidence interval\n",
    "    # _psd95 = out_psd.jackspec()\n",
    "    # psd95_lower, psd95_upper = psd95[::2, 0], psd95[::2, 1]\n",
    "\n",
    "    return f, psd"
   ]
  },
  {
   "cell_type": "code",
   "execution_count": null,
   "id": "a4b63595-ce4a-474d-8e1f-ca500471fbc3",
   "metadata": {
    "tags": []
   },
   "outputs": [],
   "source": [
    "def __welch_psd(arr, dt, twin_sec=60):\n",
    "\n",
    "    from scipy.signal import welch\n",
    "    from scipy.signal.windows import hann\n",
    "\n",
    "    nblock = int(1/dt * twin_sec)\n",
    "    overlap = int(0.5*nblock)\n",
    "    win = hann(nblock, True)\n",
    "\n",
    "    ff, Pxx = welch(arr,\n",
    "                    fs=1/dt,\n",
    "                    window=win, noverlap=overlap,\n",
    "                    nfft=nblock,\n",
    "                    scaling=\"density\",\n",
    "                    return_onesided=True)\n",
    "\n",
    "    return ff, Pxx"
   ]
  },
  {
   "cell_type": "code",
   "execution_count": null,
   "id": "b0c8ffc1-eb48-46de-847f-e3330655c8d2",
   "metadata": {
    "tags": []
   },
   "outputs": [],
   "source": [
    "def __get_fft(signal_in, dt, window=None):\n",
    "\n",
    "    '''\n",
    "    Calculating a simple 1D FastFourierSpectrum of a time series.\n",
    "\n",
    "    RETURN:\n",
    "\n",
    "    frequencies, spectrum, phase\n",
    "\n",
    "    TEST:\n",
    "\n",
    "    >>> spectrum, frequencies, phase = __fft(signal_in, dt ,window=None,normalize=None)\n",
    "    '''\n",
    "\n",
    "    from scipy.fft import fft, fftfreq, fftshift\n",
    "    from scipy import signal\n",
    "    from numpy import angle, imag\n",
    "    ## determine length of the input time series\n",
    "    n = int(len(signal_in))\n",
    "\n",
    "\n",
    "    ## calculate spectrum (with or without window function applied to time series)\n",
    "    if window:\n",
    "        win = signal.get_window(window, n);\n",
    "        spectrum = fft(signal_in * win)\n",
    "\n",
    "    else:\n",
    "        spectrum = fft(signal_in)\n",
    "\n",
    "    ## calculate frequency array\n",
    "    frequencies = fftfreq(n, d=dt)\n",
    "\n",
    "\n",
    "    ## correct amplitudes of spectrum\n",
    "    magnitude = abs(spectrum) * 2.0 / n\n",
    "\n",
    "\n",
    "    phase = angle(spectrum, deg=False)\n",
    "    # phase = imag(spectrum)\n",
    "\n",
    "    ## return the positive frequencies\n",
    "    return frequencies[0:n//2], magnitude[0:n//2], phase[0:n//2]"
   ]
  },
  {
   "cell_type": "code",
   "execution_count": null,
   "id": "175c12c0-5b67-4f70-9a41-692c51315f2c",
   "metadata": {
    "tags": []
   },
   "outputs": [],
   "source": [
    "def interpolate_nan(array_like):\n",
    "\n",
    "    from numpy import isnan, interp\n",
    "\n",
    "    array = array_like.copy()\n",
    "\n",
    "    nans = isnan(array)\n",
    "\n",
    "    def get_x(a):\n",
    "        return a.nonzero()[0]\n",
    "\n",
    "    array[nans] = interp(get_x(nans), get_x(~nans), array[~nans])\n",
    "\n",
    "    return array"
   ]
  },
  {
   "cell_type": "code",
   "execution_count": null,
   "id": "27d4a2e0-5360-4233-9223-ba8744dcb152",
   "metadata": {
    "tags": []
   },
   "outputs": [],
   "source": [
    "Koffset = 273.15\n",
    "\n",
    "dat = furt.select(channel=\"*T\")[0].data\n",
    "\n",
    "dat = interpolate_nan(dat)\n",
    "dat = dat+Koffset\n",
    "dat -= np.mean(dat)\n",
    "\n",
    "f_furt, psd_furt = __multitaper_psd(dat, furt[0].stats.delta, n_win=5, time_bandwidth=3.0)\n",
    "# f_furt, psd_furt = __welch_psd(dat, furt[0].stats.delta, twin_sec=86400)\n",
    "# f_furt, psd_furt, ph_furt = __get_fft(dat, furt[0].stats.delta, window=\"hann\")\n",
    "\n",
    "# plt.loglog(f_furt, psd_furt)\n",
    "plt.semilogx(f_furt/86400, psd_furt)\n",
    "plt.xlim(1e-2, 1e1)"
   ]
  },
  {
   "cell_type": "code",
   "execution_count": null,
   "id": "1d2ed6fa-6efe-420c-a882-304727b7aabf",
   "metadata": {},
   "outputs": [],
   "source": [
    "Koffset = 273.15\n",
    "\n",
    "ff, psd = [], []\n",
    "for _ws in [ws1, ws4, ws5, ws6, ws7, ws8, ws9]:\n",
    "    _dat = interpolate_nan(_ws.select(channel=\"*T\")[0].data)\n",
    "    _dat = _dat+Koffset\n",
    "    _dat -= np.mean(_dat)\n",
    "\n",
    "    _ff, _psd = __multitaper_psd(_dat, _ws[0].stats.delta, n_win=5, time_bandwidth=3.0)\n",
    "    # _ff, _psd, _ph = __get_fft(_dat, _ws[0].stats.delta, window=\"hann\")\n",
    "\n",
    "    ff.append(_ff)\n",
    "    psd.append(_psd)"
   ]
  },
  {
   "cell_type": "code",
   "execution_count": null,
   "id": "b198da83-a173-44be-b3c0-63de2766856d",
   "metadata": {
    "tags": []
   },
   "outputs": [],
   "source": [
    "# Koffset = 273.15\n",
    "\n",
    "# dat = interpolate_nan(ws1.select(channel=\"*T\")[0].data)\n",
    "# dat -= np.mean(dat)\n",
    "# f_ws1, psd_ws1 = __multitaper_psd(dat, ws1[0].stats.delta+Koffset, n_win=5, time_bandwidth=4.0)\n",
    "# # f_ws1, psd_ws1, ph_ws1 = __get_fft(dat, ws1[0].stats.delta+Koffset, window=\"hann\")\n",
    "\n",
    "# dat = interpolate_nan(ws4.select(channel=\"*T\")[0].data)\n",
    "# dat -= np.mean(dat)\n",
    "# f_ws4, psd_ws4 = __multitaper_psd(dat, ws4[0].stats.delta+Koffset, n_win=5, time_bandwidth=4.0)\n",
    "# # f_ws4, psd_ws4, ph_ws4 = __get_fft(dat, ws4[0].stats.delta+Koffset, window=\"hann\")\n",
    "\n",
    "# dat = interpolate_nan(ws5.select(channel=\"*T\")[0].data)\n",
    "# dat -= np.mean(dat)\n",
    "# f_ws5, psd_ws5 = __multitaper_psd(dat, ws5[0].stats.delta+Koffset, n_win=5, time_bandwidth=4.0)\n",
    "# # f_ws5, psd_ws5, ph_ws5 = __get_fft(dat, ws5[0].stats.delta+Koffset, window=\"hann\")\n",
    "\n",
    "# dat = interpolate_nan(ws6.select(channel=\"*T\")[0].data)\n",
    "# dat -= np.mean(dat)\n",
    "# f_ws6, psd_ws6 = __multitaper_psd(dat, ws6[0].stats.delta+Koffset, n_win=5, time_bandwidth=4.0)\n",
    "# # f_ws6, psd_ws6, ph_ws6 = __get_fft(dat, ws6[0].stats.delta+Koffset, window=\"hann\")\n",
    "\n",
    "# dat = interpolate_nan(ws7.select(channel=\"*T\")[0].data)\n",
    "# dat -= np.mean(dat)\n",
    "# f_ws7, psd_ws7 = __multitaper_psd(dat, ws7[0].stats.delta+Koffset, n_win=5, time_bandwidth=4.0)\n",
    "# # f_ws7, psd_ws7, ph_ws7 = __get_fft(dat, ws7[0].stats.delta+Koffset, window=\"hann\")\n",
    "\n",
    "# dat = interpolate_nan(ws8.select(channel=\"*T\")[0].data)\n",
    "# dat -= np.mean(dat)\n",
    "# f_ws8, psd_ws8 = __multitaper_psd(dat, ws8[0].stats.delta+Koffset, n_win=5, time_bandwidth=4.0)\n",
    "# # f_ws8, psd_ws8, ph_ws8 = __get_fft(dat, ws8[0].stats.delta+Koffset, window=\"hann\")\n",
    "\n",
    "# dat = interpolate_nan(ws9.select(channel=\"*T\")[0].data)\n",
    "# dat -= np.mean(dat)\n",
    "# f_ws9, psd_ws9 = __multitaper_psd(dat, ws9[0].stats.delta+Koffset, n_win=5, time_bandwidth=4.0)\n",
    "# # f_ws9, psd_ws9, ph_ws9 = __get_fft(dat, ws9[0].stats.delta+Koffset, window=\"hann\")\n"
   ]
  },
  {
   "cell_type": "code",
   "execution_count": null,
   "id": "0672794b-76dc-4d25-91a3-8753d74a27ad",
   "metadata": {
    "tags": []
   },
   "outputs": [],
   "source": [
    "def __makeplot_frequency():\n",
    "\n",
    "    fig, ax = plt.subplots(1, 1, figsize=(15, 5))\n",
    "\n",
    "    ax0 = ax.twinx()\n",
    "\n",
    "    for _f, _psd in zip(ff, psd):\n",
    "        ax.semilogx(_f*86400, _psd, alpha=0.9)\n",
    "\n",
    "\n",
    "    ax.semilogx(f_furt*86400, psd_furt, color=\"k\", zorder=0)\n",
    "\n",
    "    ax.axvline(1/(24*3600)*86400, color=\"tab:grey\", ls=\"--\")\n",
    "    # ax.axvline(1/(16*3600)*86400, color=\"tab:grey\", ls=\"--\")\n",
    "    ax.axvline(1/(12*3600)*86400, color=\"tab:grey\", ls=\"--\")\n",
    "    # ax.axvline(1/(6*3600)*86400, color=\"tab:grey\", ls=\"--\")\n",
    "\n",
    "    ax.grid(which=\"both\", ls=\"--\", color=\"grey\", alpha=0.5, zorder=0)\n",
    "\n",
    "    ax.set_xlim(1e-2, 1e2)\n",
    "    # ax.set_ylim(0, 2)\n",
    "    # ax0.set_ylim(0, 0.01)\n",
    "\n",
    "    ax.set_yscale(\"log\")\n",
    "    ax0.set_yscale(\"log\")\n",
    "\n",
    "    ax.set_xlabel(\"Frequency (cycles/day)\")\n",
    "    ax.set_ylabel(\"PSD (K$^2$/Hz)\")\n",
    "    ax0.set_ylabel(\"PSD (K$^2$/Hz)\")\n",
    "\n",
    "    plt.show();\n",
    "    return fig\n",
    "\n",
    "fig = __makeplot_frequency()\n",
    "\n",
    "fig.savefig(config['path_to_figs']+f\"IsolationCheck_{config['tbeg'].date}_{config['tend'].date}_Spectrum.png\", format=\"png\", dpi=200, bbox_inches='tight')\n"
   ]
  },
  {
   "cell_type": "code",
   "execution_count": null,
   "id": "f4108e54-f719-43b2-8081-05a7b33f978f",
   "metadata": {},
   "outputs": [],
   "source": [
    "def __makeplot_period():\n",
    "\n",
    "    fig, ax = plt.subplots(1, 1, figsize=(15, 5))\n",
    "\n",
    "\n",
    "    ax0 = ax.twinx()\n",
    "    ax0.semilogx(1/f_ws1[1:], psd_ws1[1:], alpha=0.9)\n",
    "    ax0.semilogx(1/f_ws4[1:], psd_ws4[1:], alpha=0.9)\n",
    "    ax0.semilogx(1/f_ws5[1:], psd_ws5[1:], alpha=0.9)\n",
    "    ax0.semilogx(1/f_ws6[1:], psd_ws6[1:], alpha=0.9)\n",
    "    ax0.semilogx(1/f_ws7[1:], psd_ws7[1:], alpha=0.9)\n",
    "    ax0.semilogx(1/f_ws8[1:], psd_ws8[1:], alpha=0.9)\n",
    "    ax0.semilogx(1/f_ws9[1:], psd_ws9[1:], alpha=0.9)\n",
    "\n",
    "    ax.semilogx(1/f_furt[1:], psd_furt[1:]-Koffset, color=\"k\", zorder=0)\n",
    "\n",
    "    ax.axvline(24*3600, color=\"tab:grey\", ls=\"--\")\n",
    "    ax.axvline(12*3600, color=\"tab:grey\", ls=\"--\")\n",
    "\n",
    "    ax.grid(which=\"both\", ls=\"--\", color=\"grey\", alpha=0.5, zorder=0)\n",
    "\n",
    "    ax.set_xlim(1e2, 1e6)\n",
    "    # ax.set_ylim(0, 1.0)\n",
    "    # ax0.set_ylim(0, 0.25)\n",
    "\n",
    "    ax.set_yscale(\"log\")\n",
    "    ax0.set_yscale(\"log\")\n",
    "\n",
    "    ax.set_xlabel(\"Period (s)\")\n",
    "    ax.set_ylabel(\"PSD (K$^2$/Hz)\")\n",
    "    ax0.set_ylabel(\"PSD (K$^2$/Hz)\")\n",
    "\n",
    "    plt.show();\n",
    "\n",
    "__makeplot_period()"
   ]
  },
  {
   "cell_type": "code",
   "execution_count": null,
   "id": "869b57fe-18d8-4497-99fc-fd5d0819e5d4",
   "metadata": {
    "tags": []
   },
   "outputs": [],
   "source": []
  },
  {
   "cell_type": "code",
   "execution_count": null,
   "id": "e22a3169-0aca-40f0-b94f-4e087fe52a37",
   "metadata": {},
   "outputs": [],
   "source": []
  }
 ],
 "metadata": {
  "kernelspec": {
   "display_name": "Python 3 (ipykernel)",
   "language": "python",
   "name": "python3"
  },
  "language_info": {
   "codemirror_mode": {
    "name": "ipython",
    "version": 3
   },
   "file_extension": ".py",
   "mimetype": "text/x-python",
   "name": "python",
   "nbconvert_exporter": "python",
   "pygments_lexer": "ipython3",
   "version": "3.10.12"
  },
  "toc": {
   "base_numbering": 1,
   "nav_menu": {},
   "number_sections": true,
   "sideBar": true,
   "skip_h1_title": false,
   "title_cell": "Table of Contents",
   "title_sidebar": "Contents",
   "toc_cell": false,
   "toc_position": {},
   "toc_section_display": true,
   "toc_window_display": false
  }
 },
 "nbformat": 4,
 "nbformat_minor": 5
}
