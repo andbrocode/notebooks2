{
 "cells": [
  {
   "cell_type": "markdown",
   "id": "e9ee9386",
   "metadata": {},
   "source": [
    "## Plot WROMY data"
   ]
  },
  {
   "cell_type": "code",
   "execution_count": 1,
   "id": "f27a8ba0",
   "metadata": {},
   "outputs": [],
   "source": [
    "import pandas as pd\n",
    "import matplotlib.pyplot as plt\n",
    "import numpy as np\n",
    "\n",
    "from numpy import nan\n",
    "from pathlib import Path\n",
    "from obspy import UTCDateTime\n",
    "\n",
    "from andbro__get_timeaxis import __get_timeaxis"
   ]
  },
  {
   "cell_type": "markdown",
   "id": "bc90b005",
   "metadata": {},
   "source": [
    "### Methods"
   ]
  },
  {
   "cell_type": "code",
   "execution_count": 2,
   "id": "60a00db1",
   "metadata": {
    "code_folding": [
     0
    ]
   },
   "outputs": [],
   "source": [
    "def __read_furt_data(config):\n",
    "    '''\n",
    "    Load data of FURT wather station\n",
    "    \n",
    "    '''\n",
    "       \n",
    "    path_to_archive = '/bay200/gif_online/FURT/WETTER/'\n",
    "        \n",
    "    if not Path(path_to_archive).exists():\n",
    "        print(f\"  -> Path: {path_to_archive}, does not exists!\")\n",
    "        return    \n",
    "    \n",
    "    \n",
    "    df = pd.DataFrame()\n",
    "    \n",
    "    for i, date in enumerate(np.arange(config['tbeg'].date, (config['tend']+86400).date)):\n",
    "        \n",
    "        date = UTCDateTime(str(date)).date\n",
    "        filename = f'FURT.WSX.D.{str(date.day).rjust(2,\"0\")}{str(date.month).rjust(2,\"0\")}{str(date.year).rjust(2,\"0\")[-2:]}.0000'\n",
    "        \n",
    "        print(f'   reading {filename} ...')\n",
    "\n",
    "        try:\n",
    "\n",
    "            df0 = pd.read_csv(path_to_archive+filename, usecols=[0,1,10,12,13,14], names=['date', 'time', 'T', 'H', 'P','R'])\n",
    "            ## substitute strings with floats\n",
    "            df0['T'] = df0['T'].str.split(\"=\", expand=True)[1].str.split(\"C\", expand=True)[0].astype(float)\n",
    "            df0['P'] = df0['P'].str.split(\"=\", expand=True)[1].str.split(\"H\", expand=True)[0].astype(float)\n",
    "            df0['H'] = df0['H'].str.split(\"=\", expand=True)[1].str.split(\"P\", expand=True)[0].astype(float)\n",
    "            df0['R'] = df0['R'].str.split(\"=\", expand=True)[1].str.split(\"M\", expand=True)[0].astype(float)\n",
    "\n",
    "            \n",
    "            ## replace error indicating values (-9999, 999.9) with NaN values\n",
    "            df0.replace(to_replace=-9999, value=nan, inplace=True)\n",
    "            df0.replace(to_replace=999.9, value=nan, inplace=True)\n",
    "            \n",
    "            \n",
    "            if df.empty:\n",
    "                df = df0\n",
    "            else: \n",
    "                df = pd.concat([df, df0])\n",
    "        except:\n",
    "            print(f\"  -> File: {filename}, does not exists!\")\n",
    "   \n",
    "    df.reset_index(inplace=True, drop=True)\n",
    "        \n",
    "    return df"
   ]
  },
  {
   "cell_type": "code",
   "execution_count": 5,
   "id": "0dee1f6e",
   "metadata": {
    "code_folding": []
   },
   "outputs": [],
   "source": [
    "def __makeplot_percipitation(df, config):\n",
    "\n",
    "    ## extract the dates\n",
    "    days = df.date.unique()\n",
    "\n",
    "    ## get the cumulative rain per day\n",
    "    rain = []\n",
    "    for day in days:\n",
    "        tmp = df[df.date == day]\n",
    "        rain.append(tmp.R.max())\n",
    "    \n",
    "    ## make the plot\n",
    "    fig, ax = plt.subplots(1, figsize=(15,5))\n",
    "\n",
    "    font = 12\n",
    "\n",
    "    ax.bar(range(len(days)), rain, zorder=2, width=1, alpha=0.9)\n",
    "    ax.plot(np.linspace(-0.5, len(days)-0.5, len(df.R)), df.R, color='r',alpha=0.5, zorder=3)\n",
    "\n",
    "    ax.set_xticks(range(len(days)))\n",
    "    ax.set_xticklabels(days, rotation=40)\n",
    "\n",
    "    ax.set_ylabel(\"Percipitation (mm)\", fontsize=font)\n",
    "    ax.set_title(f\"Percipitation at {config.get('station')}\")\n",
    "    \n",
    "    ax.grid(zorder=0)\n",
    "\n",
    "    plt.show();\n",
    "    return fig"
   ]
  },
  {
   "cell_type": "markdown",
   "id": "a09ecf84",
   "metadata": {},
   "source": [
    "### Configurations"
   ]
  },
  {
   "cell_type": "code",
   "execution_count": 12,
   "id": "47516f40",
   "metadata": {},
   "outputs": [],
   "source": [
    "config = {}\n",
    "\n",
    "config['channel'] = None\n",
    "\n",
    "config['station'] = 'FURT'\n",
    "\n",
    "config['tbeg'] = UTCDateTime('2021-08-25')\n",
    "config['tend'] = UTCDateTime('2021-09-01')\n"
   ]
  },
  {
   "cell_type": "code",
   "execution_count": 13,
   "id": "8434e28a",
   "metadata": {},
   "outputs": [
    {
     "name": "stdout",
     "output_type": "stream",
     "text": [
      "   reading FURT.WSX.D.250821.0000 ...\n",
      "   reading FURT.WSX.D.260821.0000 ...\n",
      "   reading FURT.WSX.D.270821.0000 ...\n",
      "   reading FURT.WSX.D.280821.0000 ...\n",
      "   reading FURT.WSX.D.290821.0000 ...\n",
      "   reading FURT.WSX.D.300821.0000 ...\n",
      "   reading FURT.WSX.D.310821.0000 ...\n",
      "   reading FURT.WSX.D.010921.0000 ...\n"
     ]
    }
   ],
   "source": [
    "df0 = __read_furt_data(config)"
   ]
  },
  {
   "cell_type": "code",
   "execution_count": 14,
   "id": "43d4657e",
   "metadata": {},
   "outputs": [
    {
     "data": {
      "image/png": "[encoded data removed]",
      "text/plain": [
       "<Figure size 1080x360 with 1 Axes>"
      ]
     },
     "metadata": {
      "needs_background": "light"
     },
     "output_type": "display_data"
    }
   ],
   "source": [
    "df = df0.copy()\n",
    "\n",
    "__makeplot_percipitation(df, config);"
   ]
  },
  {
   "cell_type": "code",
   "execution_count": null,
   "id": "78a8246a",
   "metadata": {},
   "outputs": [],
   "source": []
  }
 ],
 "metadata": {
  "kernelspec": {
   "display_name": "Python 3 (ipykernel)",
   "language": "python",
   "name": "python3"
  },
  "language_info": {
   "codemirror_mode": {
    "name": "ipython",
    "version": 3
   },
   "file_extension": ".py",
   "mimetype": "text/x-python",
   "name": "python",
   "nbconvert_exporter": "python",
   "pygments_lexer": "ipython3",
   "version": "3.10.12"
  }
 },
 "nbformat": 4,
 "nbformat_minor": 5
}
