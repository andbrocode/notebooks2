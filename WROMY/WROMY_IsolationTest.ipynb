{
 "cells": [
  {
   "cell_type": "markdown",
   "id": "e9ee9386",
   "metadata": {},
   "source": [
    "## Plot WROMY data"
   ]
  },
  {
   "cell_type": "code",
   "execution_count": 1,
   "id": "f27a8ba0",
   "metadata": {},
   "outputs": [],
   "source": [
    "import pandas as pd\n",
    "import matplotlib.pyplot as plt\n",
    "import numpy as np\n",
    "\n",
    "from numpy import nan\n",
    "from pathlib import Path\n",
    "from obspy import UTCDateTime\n",
    "\n",
    "from andbro__get_timeaxis import __get_timeaxis"
   ]
  },
  {
   "cell_type": "markdown",
   "id": "a09ecf84",
   "metadata": {},
   "source": [
    "### Configurations"
   ]
  },
  {
   "cell_type": "code",
   "execution_count": 2,
   "id": "598bc2c0",
   "metadata": {},
   "outputs": [],
   "source": [
    "config = {}\n",
    "\n",
    "config['channel'] = None\n",
    "\n",
    "config['tend'] = UTCDateTime.now()\n",
    "config['tbeg'] = config['tend'] -12*86400\n",
    "\n",
    "config['pathToData'] = f'/import/freenas-ffb-01-data/romy_archive/'\n",
    "\n",
    "config['resample'] = 20\n",
    "\n",
    "config['colors'] = {  'WS1':'darkgreen', \n",
    "                      'WS4':'purple', \n",
    "                      'WS5':'darkred',\n",
    "                      'WS6':'darkblue',\n",
    "                      'WS7':'darkorange',\n",
    "                      'WS8':'darkcyan',\n",
    "                      'WS9':'cyan',\n",
    "                     }"
   ]
  },
  {
   "cell_type": "markdown",
   "id": "faf1a2ff",
   "metadata": {},
   "source": [
    "### Methods"
   ]
  },
  {
   "cell_type": "code",
   "execution_count": 3,
   "id": "5b47e1d6",
   "metadata": {
    "code_folding": [
     0
    ]
   },
   "outputs": [],
   "source": [
    "def __reply(msg):\n",
    "    print(f\"   -> {msg}\")"
   ]
  },
  {
   "cell_type": "code",
   "execution_count": 4,
   "id": "fe700894",
   "metadata": {
    "code_folding": [
     0
    ]
   },
   "outputs": [],
   "source": [
    "def __read_wromy_data(config):\n",
    "    '''\n",
    "    reads data from T1 to T2\n",
    "    '''\n",
    "\n",
    "    from pandas import date_range\n",
    "    from tqdm.notebook import tqdm_notebook\n",
    "\n",
    "    df = pd.DataFrame()\n",
    "    \n",
    "    for n, date in enumerate(tqdm_notebook(date_range(config['tbeg'].date, config['tend'].date))):    \n",
    "        doy = str(date.timetuple().tm_yday).rjust(3,\"0\")\n",
    "        \n",
    "        path = f\"{config['pathToData']}{date.year}/BW/WROMY/{config['channel']}.D/\"\n",
    "\n",
    "        if not Path(path).exists():\n",
    "            __reply(f\"Path: {path}, does not exists!\")\n",
    "            return\n",
    "\n",
    "    \n",
    "        fileName = f\"BW.WROMY.{config['channel']}.D.{date.year}.{doy}\"\n",
    "\n",
    "#         print(f'   reading {fileName} ...')\n",
    "\n",
    "        try:\n",
    "            df0 = pd.read_csv(path+fileName)\n",
    "            \n",
    "            ## replace error indicating values (-9999, 999.9) with NaN values\n",
    "            df0.replace(to_replace=-9999, value=nan, inplace=True)\n",
    "            df0.replace(to_replace=999.9, value=nan, inplace=True)\n",
    "              \n",
    "#             ## change time from in to 6 character string\n",
    "            df0.iloc[:,2] = [str(ttt).rjust(6,\"0\") for ttt in df0.iloc[:,2]]\n",
    "          \n",
    "            if n == 1:\n",
    "                df = df0\n",
    "            else: \n",
    "                df = pd.concat([df,df0])\n",
    "        except:\n",
    "            __reply(f\"File: {fileName}, does not exists!\")\n",
    "       \n",
    "    \n",
    "    df.reset_index(inplace=True, drop=True)\n",
    "\n",
    "    ## add columns with total seconds\n",
    "    if 'Seconds' in df.columns:\n",
    "        totalSeconds = df.Seconds + (df.Date - df.Date.iloc[0]) * 86400\n",
    "        df['totalSeconds'] = totalSeconds\n",
    "    \n",
    "\n",
    "    __reply(\"Done \\n\")\n",
    "    \n",
    "    return df "
   ]
  },
  {
   "cell_type": "code",
   "execution_count": 5,
   "id": "af934955",
   "metadata": {
    "code_folding": [
     0
    ]
   },
   "outputs": [],
   "source": [
    "def __indicate_gaps_with_nan(df, config):\n",
    "    \n",
    "    differences = np.diff(df.totalSeconds, n=1)\n",
    "    \n",
    "    \n",
    "    ## ______________\n",
    "    \n",
    "    sample_time_errors = [j for j in differences if j != config['resample']]\n",
    "\n",
    "    if len(sample_time_errors) != 0:\n",
    "        print(f\"  -> ERROR: Found {len(sample_time_errors)} errors for the sampling time!\\n\")\n",
    "    \n",
    "    \n",
    "    ## ______________\n",
    "    \n",
    "    gaps = [list(differences).index(k) for k in differences if k > 2*config['resample']] or []\n",
    "    if gaps and gaps[0] in [0, 0.0]:\n",
    "        gaps.pop(0)    \n",
    "    del differences\n",
    "    \n",
    "    for x in gaps:\n",
    "        fill_row = [i+config['resample'] if n not in [3,4,5] else np.nan for n, i in enumerate(df.iloc[x,:])]\n",
    "        fill_row[0] = int(df.iloc[x,0])\n",
    "        fill_row[1] = int(df.iloc[x,1])\n",
    "        fill_row[2] = int(df.iloc[x,2])\n",
    "        df.loc[x+0.5] = fill_row\n",
    "\n",
    "    \n",
    "    df = df.sort_index().reset_index(drop=True).convert_dtypes()\n",
    "\n",
    "    print(f\"  -> Marked {len(gaps)} gaps with NaN values!\\n\")\n",
    "    \n",
    "    return df"
   ]
  },
  {
   "cell_type": "code",
   "execution_count": 6,
   "id": "98557cc4",
   "metadata": {
    "code_folding": [
     0
    ]
   },
   "outputs": [],
   "source": [
    "# def __get_timeaxis(dates=None, times=None, utcdatetime=None, timestamp=None, unit='seconds', unitmode='relative', dateformat=\"yyyymmdd\"):\n",
    "#     '''\n",
    "#     This method returns a time axis and appropriate ticks & labels according to the set mode\n",
    "    \n",
    "#     ARGS: \n",
    "#         dates:       array/list of dates (e.g. 20210901)\n",
    "#         times:       array/list of times (e.g. 130405)\n",
    "#         utcdatetime: array/list of UTCDatt\n",
    "#         timestamp:   array/list of timestamps (e.g. '20210901 13:04:05)\n",
    "#         unit:        selected time unit: seconds, minutes, hours, days, time, date\n",
    "#         unitmode:    relative or absolute (default: relative )\n",
    "#         dateformat:  format of date passed (default: yyyymmdd)\n",
    "#     RETURN: \n",
    "#         timeaxis, ticks, ticklabels, axistext\n",
    "        \n",
    "#     '''\n",
    "    \n",
    "#     from obspy import UTCDateTime\n",
    "#     from numpy import array, linspace, around, unique, arange\n",
    "#     from math import floor, ceil\n",
    "#     from pandas import Series\n",
    "    \n",
    "#     ## _______________________________\n",
    "#     ## \n",
    "    \n",
    "#     def __time_to_seconds(arr):\n",
    "#         return array([int(str(i).rjust(6, \"0\")[:2])*3600+int(str(i).rjust(6, \"0\")[2:4])*60+int(str(i).rjust(6, \"0\")[-2:]) for i in arr])\n",
    "    \n",
    "#     def __date_to_seconds(arr):\n",
    "#         return array([UTCDateTime(str(i)).julday * 86400 for i in arr ])\n",
    "    \n",
    "#     def __timestamp_to_seconds(arr):\n",
    "#         try:\n",
    "#             x = UTCDateTime(str(arr[0]))\n",
    "#         except:\n",
    "#             print(\"Error: Not convertable to UTCDateTime! Aborting...\"); return\n",
    "        \n",
    "#         dd = array([UTCDateTime(str(i)).date for i in arr])\n",
    "#         tt = array([UTCDateTime(str(i)).time.strftime(\"%HH%MM%SS\") for i in arr])\n",
    "                  \n",
    "#         return __date_to_seconds(dates) + __time_to_seconds(times)      \n",
    "\n",
    "#     def __get_unique_dates(dates, times):\n",
    "#         a, b = unique(dates, return_index=True)\n",
    "        \n",
    "#         ## trying to avoid date that starts in the mid of the day due to gap\n",
    "# #         ud, udx = [], []\n",
    "# #         for m, (d, i) in enumerate(zip(a,b)):\n",
    "# #             if times[i] == 0:\n",
    "# #                 ud.append(d)\n",
    "# #                 udx.append(i)         \n",
    "# #         return ud, udx\n",
    "#         return a, b \n",
    "\n",
    "#     def __format_date(series, dateformat):\n",
    "        \n",
    "#         if \"-\" in dateformat: \n",
    "#             dateformat.replace(\"-\",\"\")\n",
    "#             series.str.replace(\"-\",\"\")\n",
    "        \n",
    "#         if dateformat is \"ddmmyy\":\n",
    "#             tmp = series.astype(str).str.rjust(6,\"0\")\n",
    "#             oseries = \"20\"+tmp.str[-2:]+\"-\"+tmp.str[2:4]+\"-\"+tmp.str[:2]; del tmp\n",
    "#             return oseries\n",
    "\n",
    "#     def __reduce(arr):\n",
    "#         if len(arr) <= 5:\n",
    "#             return arr\n",
    "#         else: \n",
    "#             return __reduce(arr[0:-1:2])    \n",
    "    \n",
    "#     ## _______________________________\n",
    "#     ## run checks\n",
    "                  \n",
    "#     if (dates is None and times is not None) or (dates is not None and times is None):\n",
    "#         print(\"ERROR: No valid arrays provide! Provide dates and times array!\"); return\n",
    "    \n",
    "#     if dateformat is not \"yyyymmdd\":\n",
    "#         dates = __format_date(Series(dates), dateformat)   \n",
    "#         print(f' -> Formating: date <{dateformat}> -> <yyyymmdd>')\n",
    "    \n",
    "#     if dates is not None and times is not None:\n",
    "#         case = 1\n",
    "        \n",
    "#         dates, times = array(dates), array(times)\n",
    "        \n",
    "#         date0_time0 = UTCDateTime(f'{dates[0]} {str(times[0]).rjust(6,\"0\")}')\n",
    "#         date0 = date0_time0.date.strftime(\"%Y-%m-%d\")\n",
    "#         time0 = date0_time0.time.strftime(\"%H:%M:%S\")\n",
    "    \n",
    "#     elif timestamp is not None: \n",
    "#         case = 2\n",
    "        \n",
    "#         date0, time0 = UTCDateTime(timestamp[0]).date, UTCDateTime(timestamp[0]).time\n",
    "\n",
    "#     elif utcdatetime is not None:\n",
    "#         case = 3 \n",
    "        \n",
    "#         date0, time0 = utcdatetime[0].date, utcdatetime[0].time\n",
    "#         dates, times = [], []\n",
    "        \n",
    "#         for dt in utcdatetime:\n",
    "#             dates.append(int(str(dt.date).replace(\"-\",\"\")))\n",
    "#             times.append(str(dt.time).split(\".\")[0].replace(\":\",\"\"))\n",
    "        \n",
    "#     if unitmode not in ['relative', 'absolute']:\n",
    "#         print(f\"ERROR: mode {unitmode} is not valid!\")\n",
    "\n",
    "#     units = {'seconds': ['sec', 1],\n",
    "#             'minutes': ['min', 60],\n",
    "#             'hours': ['hours', 3600],\n",
    "#             'days': ['days', 86400],\n",
    "#             'date': ['', 86400],\n",
    "#             'time': ['UTC', 1],\n",
    "#             }\n",
    "    \n",
    "#     if not unit in units.keys():\n",
    "#         print(f\"ERROR: unit {unit} is not valid!\")\n",
    "            \n",
    "#     ## _______________________________\n",
    "#     ## get timeaxis\n",
    "        \n",
    "#     ## as total seconds\n",
    "#     if case == 1 or case == 3:\n",
    "#         timeaxis = __date_to_seconds(dates) + __time_to_seconds(times)\n",
    "#     elif case == 2:\n",
    "#         timeaxis = __timestamp_to_seconds(timestamp)\n",
    "    \n",
    "#     ## _______________________________\n",
    "#     ## get ticks & lables\n",
    "#     numTicks = 5\n",
    "    \n",
    "#     ticks = linspace(min(timeaxis), max(timeaxis), numTicks)\n",
    "#     unique_dates, unique_dates_idx = __get_unique_dates(dates, times)\n",
    "    \n",
    "#     ## adjust if timeaxis is relative or absolute\n",
    "#     if unitmode is 'relative':\n",
    "#         lticks = linspace(min(timeaxis), max(timeaxis), numTicks) - min(timeaxis)\n",
    "#         text = f' Time ({units[unit][0]}) from {date0} {time0} UTC'\n",
    "        \n",
    "#     elif unitmode is 'absolute':\n",
    "#         lticks = linspace(min(timeaxis), max(timeaxis), numTicks)\n",
    "#         text = f' Time ({units[unit][0]})'\n",
    "    \n",
    "#     ## adjust to selected unit for timeaxis\n",
    "#     if unit in ['seconds', 'minutes', 'hours']:\n",
    "#         ticklabels = around(lticks/units[unit][1], decimals=0)\n",
    "#         ticklabels = [int(ll) for ll in ticklabels]\n",
    "        \n",
    "#     elif unit in ['time']:\n",
    "#         ticklabels = []\n",
    "#         for t in lticks:\n",
    "#             hh = str(int(t/3600-utcdatetime[0].julday*24)).rjust(2,\"0\") \n",
    "#             mm = str(int(t%3600/60)).rjust(2,\"0\")\n",
    "#             ss = str(int(t%3600%60)).rjust(2,\"0\")\n",
    "#             ticklabels.append(f'{hh}:{mm}:{ss}')\n",
    "#             text = f\"Time ({units[unit][0]}) on {date0}\"\n",
    "            \n",
    "#     elif unit in ['date', 'days']:\n",
    "#         ticks = [ timeaxis[idx] for idx in unique_dates_idx ]\n",
    "        \n",
    "#         if unit == 'date':\n",
    "#             ticklabels = [ str(dd) for dd in unique_dates ]       \n",
    "#             text = \"\"\n",
    "#         elif unit == 'days':\n",
    "#             ticks = ticks[1:]\n",
    "#             ticklabels = arange(1, len(ticks)+1, 1)\n",
    "#             text = f\"Time ({units[unit][0]}) from {date0} {time0} UTC\"\n",
    "#     else:\n",
    "#         print(f\" -> Mode: {unit} is not a valid option!\")       \n",
    "#         return \n",
    "    \n",
    "#     ## shorten list of ticklabels adaptively \n",
    "#     if len(ticks) > numTicks:\n",
    "#         idx = __reduce(ticks)\n",
    "#         ticklabels = [ ticklabels[n] if t in idx else '' for n, t in enumerate(ticks) ]\n",
    "#     else:\n",
    "#         idx = arange(0, numTicks, 1)\n",
    "#         ticklabels = [ l if n in idx else '' for n, l in enumerate(ticklabels) ]\n",
    "\n",
    "#     if unit == 'date':\n",
    "#         ticklabels = [f'{s[0:4]}-{s[4:6]}-{s[6:8]}' if len(s) > 0 else s for s in ticklabels ]\n",
    "        \n",
    "#     return timeaxis, ticks, ticklabels, text"
   ]
  },
  {
   "cell_type": "code",
   "execution_count": 7,
   "id": "23104513",
   "metadata": {
    "code_folding": [
     0
    ]
   },
   "outputs": [],
   "source": [
    "def __processing(data, config):\n",
    "    \n",
    "    filter_length = 10*config['resample']\n",
    "    \n",
    "    data.iloc[:,3:6] = data.iloc[:,3:6].rolling(filter_length).mean() \n",
    "    __reply(f\"Filter: rooling mean {filter_length}!\")\n",
    "    \n",
    "    data = data[data.index % config['resample'] == 0]\n",
    "    __reply(f\"Resampling: keep every {config['resample']}nth sample!\")\n",
    "    \n",
    "    return data"
   ]
  },
  {
   "cell_type": "code",
   "execution_count": 8,
   "id": "f137b8e3",
   "metadata": {},
   "outputs": [],
   "source": [
    "# path_to_archive = '/bay200/gif_online/FURT/WETTER/'\n",
    "\n",
    "# date = UTCDateTime(str(\"2021-11-26\")).date\n",
    "# filename = f'FURT.WSX.D.{str(date.day).rjust(2,\"0\")}{str(date.month).rjust(2,\"0\")}{str(date.year).rjust(2,\"0\")[-2:]}.0000'\n",
    "\n",
    "\n",
    "# pd.read_csv(path_to_archive+filename, usecols=[0,1,10,12,13,14], names=['date', 'time', 'T', 'H', 'P','Rc'])"
   ]
  },
  {
   "cell_type": "code",
   "execution_count": 9,
   "id": "6e374b4d",
   "metadata": {
    "code_folding": [
     0
    ]
   },
   "outputs": [],
   "source": [
    "def __read_furt_data(config, show_raw=False, path_to_archive = '/bay200/gif_online/FURT/WETTER/'):\n",
    "    '''\n",
    "    Load a selection of data of FURT weather station for time period\n",
    "    \n",
    "    \n",
    "    PARAMETERS:\n",
    "        - config:    configuration dictionary\n",
    "        - show_raw:  bool (True/False) -> shows raw data FURT head\n",
    "\n",
    "\n",
    "    RETURN:\n",
    "        - dataframe\n",
    "        \n",
    "    '''\n",
    "    \n",
    "    from pathlib import Path\n",
    "    from obspy import UTCDateTime\n",
    "    from tqdm.notebook import tqdm_notebook\n",
    "    \n",
    "    config['tbeg'] = UTCDateTime(config['tbeg'])\n",
    "    config['tend'] = UTCDateTime(config['tend'])\n",
    "    \n",
    "    output_text = []\n",
    "    \n",
    "    \n",
    "    if not Path(path_to_archive).exists():\n",
    "        output_text.append(f\"  -> Path: {path_to_archive}, does not exists!\")\n",
    "#         print(f\"  -> Path: {path_to_archive}, does not exists!\")\n",
    "        return    \n",
    "    \n",
    "    \n",
    "    ## list of parameters requried in configurations\n",
    "    params = ['tbeg', 'tend']\n",
    "    for param in params:\n",
    "        if not param in config.keys():\n",
    "            output_text.append(f\"ERROR: {param} not in config but required!\")\n",
    "#             print(f\"ERROR: {param} not in config but required!\")\n",
    "            return\n",
    "    \n",
    "    \n",
    "    ## declare empyt dataframe\n",
    "    df = pd.DataFrame()\n",
    "    \n",
    "    for i, date in enumerate(tqdm_notebook(np.arange(config['tbeg'].date, (config['tend']+86400).date))):\n",
    "        \n",
    "        date = UTCDateTime(str(date)).date\n",
    "        filename = f'FURT.WSX.D.{str(date.day).rjust(2,\"0\")}{str(date.month).rjust(2,\"0\")}{str(date.year).rjust(2,\"0\")[-2:]}.0000'\n",
    "        \n",
    "#         print(f'   reading {filename} ...')\n",
    "\n",
    "        try:\n",
    "            if show_raw:\n",
    "                df0 = pd.read_csv(path_to_archive+filename)            \n",
    "                print(df0.columns.tolist())\n",
    "                return\n",
    "            else:\n",
    "                df0 = pd.read_csv(path_to_archive+filename, usecols=[0,1,10,12,13,14], names=['date', 'time', 'T', 'H', 'P','Rc'])            \n",
    "            \n",
    "            ## substitute strings with floats\n",
    "            df0['T']  = df0['T'].str.split(\"=\", expand=True)[1].str.split(\"C\", expand=True)[0].astype(float)\n",
    "            df0['P']  = df0['P'].str.split(\"=\", expand=True)[1].str.split(\"H\", expand=True)[0].astype(float)\n",
    "            df0['H']  = df0['H'].str.split(\"=\", expand=True)[1].str.split(\"P\", expand=True)[0].astype(float)\n",
    "            df0['Rc'] = df0['Rc'].str.split(\"=\", expand=True)[1].str.split(\"M\", expand=True)[0].astype(float)\n",
    "           \n",
    "            \n",
    "            ## replace error indicating values (-9999, 999.9) with NaN values\n",
    "            df0.replace(to_replace=-9999, value=nan, inplace=True)\n",
    "            df0.replace(to_replace=999.9, value=nan, inplace=True)\n",
    "            \n",
    "            \n",
    "            if df.empty:\n",
    "                df = df0\n",
    "            else: \n",
    "                df = pd.concat([df, df0])\n",
    "        except:\n",
    "            output_text.append(f\"  -> File: {filename}, does not exists!\")\n",
    "#             print(f\"  -> File: {filename}, does not exists!\")\n",
    "   \n",
    "    df.reset_index(inplace=True, drop=True)\n",
    "        \n",
    "    for text in output_text:\n",
    "        print(text)\n",
    "        \n",
    "    return df"
   ]
  },
  {
   "cell_type": "code",
   "execution_count": 10,
   "id": "e83a01ac",
   "metadata": {
    "code_folding": [
     0
    ]
   },
   "outputs": [
    {
     "data": {
      "application/vnd.jupyter.widget-view+json": {
       "model_id": "ebb62224e0174ca0b263e17e04adf051",
       "version_major": 2,
       "version_minor": 0
      },
      "text/plain": [
       "  0%|          | 0/13 [00:00<?, ?it/s]"
      ]
     },
     "metadata": {},
     "output_type": "display_data"
    },
    {
     "name": "stdout",
     "output_type": "stream",
     "text": [
      "   -> Filter: rooling mean 200!\n",
      "   -> Resampling: keep every 20nth sample!\n"
     ]
    }
   ],
   "source": [
    "furt = __read_furt_data(config)\n",
    "furt = furt[['date', 'time', 'T', 'P', 'H', 'Rc']]\n",
    "furt = __processing(furt, config)"
   ]
  },
  {
   "cell_type": "markdown",
   "id": "0f82073b",
   "metadata": {},
   "source": [
    "### Load WROMY Data"
   ]
  },
  {
   "cell_type": "code",
   "execution_count": 11,
   "id": "a899b572",
   "metadata": {
    "code_folding": [],
    "scrolled": true
   },
   "outputs": [
    {
     "data": {
      "application/vnd.jupyter.widget-view+json": {
       "model_id": "083c3d81da9f4f0d9cf981f1be621043",
       "version_major": 2,
       "version_minor": 0
      },
      "text/plain": [
       "  0%|          | 0/13 [00:00<?, ?it/s]"
      ]
     },
     "metadata": {},
     "output_type": "display_data"
    },
    {
     "name": "stdout",
     "output_type": "stream",
     "text": [
      "   -> Done \n",
      "\n"
     ]
    },
    {
     "data": {
      "application/vnd.jupyter.widget-view+json": {
       "model_id": "ed8db3865eac4419a0a94d241f3ad26d",
       "version_major": 2,
       "version_minor": 0
      },
      "text/plain": [
       "  0%|          | 0/13 [00:00<?, ?it/s]"
      ]
     },
     "metadata": {},
     "output_type": "display_data"
    },
    {
     "name": "stdout",
     "output_type": "stream",
     "text": [
      "   -> Done \n",
      "\n"
     ]
    },
    {
     "data": {
      "application/vnd.jupyter.widget-view+json": {
       "model_id": "6b5bf133223042ecbde636a85c982d87",
       "version_major": 2,
       "version_minor": 0
      },
      "text/plain": [
       "  0%|          | 0/13 [00:00<?, ?it/s]"
      ]
     },
     "metadata": {},
     "output_type": "display_data"
    },
    {
     "name": "stdout",
     "output_type": "stream",
     "text": [
      "   -> Done \n",
      "\n"
     ]
    },
    {
     "data": {
      "application/vnd.jupyter.widget-view+json": {
       "model_id": "a62c68f3e72948f4a2f04c06f13c4f32",
       "version_major": 2,
       "version_minor": 0
      },
      "text/plain": [
       "  0%|          | 0/13 [00:00<?, ?it/s]"
      ]
     },
     "metadata": {},
     "output_type": "display_data"
    },
    {
     "name": "stdout",
     "output_type": "stream",
     "text": [
      "   -> Done \n",
      "\n"
     ]
    },
    {
     "data": {
      "application/vnd.jupyter.widget-view+json": {
       "model_id": "1ec70f79836d49aeac486ce4707851ff",
       "version_major": 2,
       "version_minor": 0
      },
      "text/plain": [
       "  0%|          | 0/13 [00:00<?, ?it/s]"
      ]
     },
     "metadata": {},
     "output_type": "display_data"
    },
    {
     "name": "stdout",
     "output_type": "stream",
     "text": [
      "   -> Done \n",
      "\n"
     ]
    },
    {
     "data": {
      "application/vnd.jupyter.widget-view+json": {
       "model_id": "78590139ced6445f89ef0a7f05ec79ad",
       "version_major": 2,
       "version_minor": 0
      },
      "text/plain": [
       "  0%|          | 0/13 [00:00<?, ?it/s]"
      ]
     },
     "metadata": {},
     "output_type": "display_data"
    },
    {
     "name": "stdout",
     "output_type": "stream",
     "text": [
      "   -> Done \n",
      "\n"
     ]
    },
    {
     "data": {
      "application/vnd.jupyter.widget-view+json": {
       "model_id": "89295067805846089344c01d965c90ae",
       "version_major": 2,
       "version_minor": 0
      },
      "text/plain": [
       "  0%|          | 0/13 [00:00<?, ?it/s]"
      ]
     },
     "metadata": {},
     "output_type": "display_data"
    },
    {
     "name": "stdout",
     "output_type": "stream",
     "text": [
      "   -> Done \n",
      "\n"
     ]
    }
   ],
   "source": [
    "data = {}\n",
    "\n",
    "for i in [1,4,5,6,7,8,9]:\n",
    "    \n",
    "    config['channel'] = 'WS'+str(i)\n",
    "    \n",
    "    ## load data as DataFrame\n",
    "    df_new = __read_wromy_data(config)\n",
    "    \n",
    "    ## check for gaps\n",
    "#     df_new = __indicate_gaps_with_nan(df_new, config)\n",
    "    \n",
    "    ## processing\n",
    "#     df_new = __processing(df_new, config)\n",
    "\n",
    "    \n",
    "    ## add to dictionary\n",
    "    data[config.get('channel')] = df_new; del df_new\n",
    "    "
   ]
  },
  {
   "cell_type": "markdown",
   "id": "7dcf5b76",
   "metadata": {},
   "source": [
    "### Plotting"
   ]
  },
  {
   "cell_type": "code",
   "execution_count": 12,
   "id": "4371124f",
   "metadata": {
    "code_folding": [
     0
    ],
    "scrolled": true
   },
   "outputs": [],
   "source": [
    "def __make_plot_one_station(data, station, config):\n",
    "\n",
    "    df = data.get(station)\n",
    "        \n",
    "    timeaxis, ticks, ticklabels, text = __get_timeaxis(dates=df.iloc[:,1], \n",
    "                                                       times=df.iloc[:,2], \n",
    "                                                       unit=\"date\", \n",
    "                                                       unitmode=\"relative\",\n",
    "                                                      )\n",
    "    \n",
    "    N = 3\n",
    "    font = 13\n",
    "\n",
    "    fig, axes = plt.subplots(N,1, figsize=[15,10], sharex=True)\n",
    "\n",
    "    for i in range(N):\n",
    "        ydata = df.iloc[:,i+3]\n",
    "        \n",
    "#         axes[i].scatter(timeaxis, df.iloc[:,i+3], s=1, color='grey',lw=3, zorder=2)\n",
    "        axes[i].plot(timeaxis, ydata, color=config['colors'][station], label=station, lw=1.5, zorder=2)\n",
    "#         axes[i].fill_between(timeaxis, ydata-0.05, ydata+0.05, color='gray', alpha=0.4)     \n",
    "\n",
    "    \n",
    "        axes[i].grid(ls=\"--\",color='grey', zorder=0)\n",
    "        axes[i].legend(loc=\"upper right\")\n",
    "        \n",
    "        if i == 0:\n",
    "            axes[i].set_ylabel(\"Temperature (°C)\",fontsize=font)\n",
    "        elif i == 1:\n",
    "            axes[i].set_ylabel(\"Air Pressure (hPa)\",fontsize=font)\n",
    "        elif i == 2:\n",
    "            axes[i].set_ylabel(\"rel. Humidity (%)\",fontsize=font)\n",
    "            axes[i].set_xlim(timeaxis[0], timeaxis[-1])\n",
    "\n",
    "\n",
    "        axes[N-1].set_xticklabels(ticklabels)\n",
    "        axes[N-1].set_xticks(ticks)\n",
    "        axes[N-1].set_xlabel(text, fontsize=font)\n",
    "\n",
    "    plt.show();\n",
    "    return fig\n",
    "\n",
    "# __make_plot_one_station(data, 'WS1', config);"
   ]
  },
  {
   "cell_type": "code",
   "execution_count": 13,
   "id": "8ffe803c",
   "metadata": {
    "code_folding": [
     0
    ]
   },
   "outputs": [],
   "source": [
    "def __make_plot_all_stations(data, config):\n",
    "\n",
    "    N = 3\n",
    "    font = 13\n",
    "    datasize = 0\n",
    "    \n",
    "    fig, axes = plt.subplots(N,1, figsize=[15,10], sharex=True)\n",
    "    \n",
    "    plt.subplots_adjust(hspace=0.05)\n",
    "    \n",
    "    max_val, min_val = np.zeros(N)*np.nan, np.zeros(N)*np.nan\n",
    "\n",
    "    for station in data.keys():\n",
    "        \n",
    "        df = data.get(station)\n",
    "\n",
    "        for u in range(3):\n",
    "            maximum = df.iloc[:,u+3].dropna().max()\n",
    "            minimum = df.iloc[:,u+3].dropna().min()\n",
    "            if maximum > max_val[u] or np.isnan(max_val[u]):\n",
    "                max_val[u] = maximum\n",
    "            if minimum < min_val[u] or np.isnan(min_val[u]):\n",
    "                min_val[u] = minimum\n",
    "            \n",
    "        timeaxis, ticks, ticklabels, text = __get_timeaxis(dates=df.iloc[:,1], \n",
    "                                                           times=df.iloc[:,2], \n",
    "                                                           unit=\"days\", \n",
    "                                                           unitmode=\"relative\",\n",
    "                                                          )\n",
    "        print(timeaxis)\n",
    "        ## select ticks and ticklabels for longest data series\n",
    "        if df.shape[0] > datasize:\n",
    "            datasize = df.shape[0]\n",
    "            xticks = ticks\n",
    "            xlabels = ticklabels\n",
    "            timeaxis_min, timeaxis_max = timeaxis[0], timeaxis[-1]\n",
    "        \n",
    "        ## plot data and adjust axes automatically\n",
    "        for i in range(N):\n",
    "#             axes[i].scatter(timeaxis, df.iloc[:,i+3], s=1, color='grey',lw=3, zorder=2)\n",
    "            axes[i].plot(timeaxis, df.iloc[:,i+3].rolling(300).mean(), color=config['colors'][station], lw=1.5, zorder=2, label=station)\n",
    "#             axes[i].plot(timeaxis, df.iloc[:,i+3], color=config['colors'][station], lw=1.5, zorder=2, label=station)\n",
    "#             axes[i].fill_between(timeaxis, df.iloc[:,i+3]-0.05, df.iloc[:,i+3]+0.05, color='gray', alpha=0.2)     \n",
    "\n",
    "            axes[i].grid(ls=\"--\",color='grey', zorder=0)\n",
    "            \n",
    "            if i == 0:\n",
    "                axes[i].set_ylabel(\"Temperature (°C)\",fontsize=font)\n",
    "            elif i == 1:\n",
    "                axes[i].set_ylabel(\"Air Pressure (hPa)\",fontsize=font)\n",
    "            elif i == 2:\n",
    "                axes[i].set_ylabel(\"rel. Humidity (%)\",fontsize=font)\n",
    "                axes[i].set_xlim(timeaxis_min, timeaxis_max)\n",
    "\n",
    "            axes[N-1].set_xticklabels(xlabels)\n",
    "            axes[N-1].set_xticks(xticks)\n",
    "            axes[N-1].set_xlabel(text, fontsize=font)\n",
    "            axes[N-1].legend(loc='upper center', ncol=7, bbox_to_anchor=(0.5, -0.2), fancybox=True)\n",
    "        \n",
    "        ## adjust y-limits\n",
    "#     for k in range(N):\n",
    "#         axes[k].set_ylim(min_val[k]-0.005*min_val[k], max_val[k]+0.005*min_val[k])\n",
    "        \n",
    "    plt.show();\n",
    "    return fig\n",
    "\n",
    "#__make_plot_all_stations(data, config);"
   ]
  },
  {
   "cell_type": "code",
   "execution_count": 14,
   "id": "8bf9652d",
   "metadata": {
    "code_folding": [
     0
    ]
   },
   "outputs": [],
   "source": [
    "def __make_plot_all_stations_and_furt(data, furt, config, events=None):\n",
    "    \n",
    "    N = 3\n",
    "    font = 13\n",
    "    datasize = 0\n",
    "    \n",
    "    fig, axes = plt.subplots(N,1, figsize=[15,10], sharex=True)\n",
    "    \n",
    "    plt.subplots_adjust(hspace=0.1)\n",
    "    \n",
    "    max_val, min_val = np.zeros(N)*np.nan, np.zeros(N)*np.nan\n",
    "    \n",
    "    timeaxis_furt, ticks_furt, ticklabels_furt, text_furt = __get_timeaxis(\n",
    "                                                                           dates=furt.iloc[:,0], \n",
    "                                                                           times=furt.iloc[:,1], \n",
    "                                                                           unit='date', \n",
    "                                                                           unitmode=\"absolute\",\n",
    "                                                                           dateformat=\"ddmmyy\",\n",
    "                                                                          )    \n",
    "    for station in data.keys():\n",
    "        \n",
    "        df = data.get(station)\n",
    "\n",
    "        for u in range(3):\n",
    "            maximum = df.iloc[:,u+3].dropna().max()\n",
    "            minimum = df.iloc[:,u+3].dropna().min()\n",
    "            if maximum > max_val[u] or np.isnan(max_val[u]):\n",
    "                max_val[u] = maximum\n",
    "            if minimum < min_val[u] or np.isnan(min_val[u]):\n",
    "                min_val[u] = minimum\n",
    "            \n",
    "        timeaxis, ticks, ticklabels, text = __get_timeaxis(dates=df.iloc[:,1], \n",
    "                                                           times=df.iloc[:,2], \n",
    "                                                           unit='date', \n",
    "                                                           unitmode=\"absolute\",\n",
    "                                                           dateformat=\"yyyymmdd\",\n",
    "                                                          )\n",
    "\n",
    "\n",
    "        ## select ticks and ticklabels for longest data series\n",
    "        if df.shape[0] > datasize:\n",
    "            datasize = df.shape[0]\n",
    "            xticks = ticks\n",
    "            xlabels = ticklabels\n",
    "            timeaxis_min, timeaxis_max = timeaxis[0], timeaxis[-1]\n",
    "        \n",
    "#         print(xticks, xlabels, ticklabels)\n",
    "#         print(len(timeaxis_furt), timeaxis_furt[0], timeaxis_furt[-1], len(timeaxis), timeaxis[0], timeaxis[-1])\n",
    "    \n",
    "        ## plot data and adjust axes automatically\n",
    "        for i in range(N):\n",
    "            \n",
    "#             axes[i].scatter(timeaxis, df.iloc[:,i+3], s=1, color='grey',lw=3, zorder=2)\n",
    "#             axes[i].plot(timeaxis, df.iloc[:,i+3], color=config['colors'][station], lw=1.5, zorder=2, label=station)\n",
    "            axes[i].plot(timeaxis, df.iloc[:,i+3].rolling(60).mean(), color=config['colors'][station], lw=1.5, zorder=2, label=station)\n",
    "\n",
    "            if station == list(data.keys())[-1]:\n",
    "                axes[i].plot(timeaxis_furt, furt.iloc[:,i+2], color='darkgrey', lw=1.5, zorder=1, label=\"FURT\")\n",
    "       \n",
    "            axes[i].grid(ls=\"--\",color='grey', zorder=0)\n",
    "            \n",
    "            if i == 0:\n",
    "                axes[i].set_ylabel(\"Temperature (°C)\",fontsize=font)\n",
    "            elif i == 1:\n",
    "                axes[i].set_ylabel(\"Air Pressure (hPa)\",fontsize=font)\n",
    "            elif i == 2:\n",
    "                axes[i].set_ylabel(\"rel. Humidity (%)\",fontsize=font)\n",
    "                axes[i].set_xlim(timeaxis_min, timeaxis_max)\n",
    "\n",
    "#             axes[N-1].set_xticklabels(xlabels[::4], fontsize=font-2)\n",
    "#             axes[N-1].set_xticks(xticks[::4])\n",
    "            axes[N-1].set_xticks(xticks)\n",
    "            axes[N-1].set_xticklabels(xlabels, fontsize=font-2)\n",
    "            axes[N-1].set_xlabel(text, fontsize=font)\n",
    "            axes[N-1].legend(loc='upper center', ncol=7+1, bbox_to_anchor=(0.5, -0.2), fancybox=True, fontsize=font-2)\n",
    "\n",
    "            if events:\n",
    "                for event in events:\n",
    "#                     axes[i].axvline(event, color='r', zorder=0, ls=\"-.\")\n",
    "                    axes[i].axvspan(event[0], event[1], color=\"lightgrey\", alpha=0.4, zorder=1)\n",
    "          \n",
    "        ## adjust y-limits\n",
    "#     for k in range(N):\n",
    "#         axes[k].set_ylim(min_val[k]-0.005*min_val[k], max_val[k]+0.005*min_val[k])\n",
    "        \n",
    "    plt.show();\n",
    "    return fig\n",
    "\n",
    "#__make_plot_all_stations_and_furt(data, furt, config, events=None);"
   ]
  },
  {
   "cell_type": "markdown",
   "id": "4c901c8b",
   "metadata": {},
   "source": [
    "## Comparison with Lids Opened"
   ]
  },
  {
   "cell_type": "code",
   "execution_count": 58,
   "id": "dd71a7ed",
   "metadata": {},
   "outputs": [
    {
     "name": "stdout",
     "output_type": "stream",
     "text": [
      " -> generate time axis\n",
      "  -> Formating: date <ddmmyy> -> <yyyymmdd>\n",
      " -> generate time axis\n",
      " -> generate time axis\n",
      " -> generate time axis\n"
     ]
    }
   ],
   "source": [
    "from andbro__get_timeaxis import __get_timeaxis\n",
    "\n",
    "furt1 = furt.copy()\n",
    "furt1 = furt1[furt1['date'] > 110422]\n",
    "\n",
    "ws8 = data['WS8']\n",
    "ws8 = ws8[ws8['Date'] > 20220411]\n",
    "\n",
    "ws6 = data['WS6']\n",
    "ws6 = ws6[ws6['Date'] > 20220411]\n",
    "\n",
    "\n",
    "\n",
    "timeaxis_furt, ticks_furt, ticklabels_furt, text_furt = __get_timeaxis(\n",
    "                                                                       dates=furt1.iloc[:,0], \n",
    "                                                                       times=furt1.iloc[:,1], \n",
    "                                                                       unit=\"date\", \n",
    "                                                                       unitmode=\"absolute\",\n",
    "                                                                       dateformat=\"ddmmyy\",\n",
    "                                                                      ) \n",
    "timeaxis8, ticks8, ticklabels8, text8 = __get_timeaxis(dates=ws8.iloc[:,1], \n",
    "                                                   times=ws8.iloc[:,2], \n",
    "                                                   unit=\"date\", \n",
    "                                                   unitmode=\"absolute\",\n",
    "                                                   dateformat=\"yyyymmdd\",\n",
    "                                                  )\n",
    "\n",
    "timeaxis6, ticks6, ticklabels6, text6 = __get_timeaxis(dates=ws6.iloc[:,1], \n",
    "                                                   times=ws6.iloc[:,2], \n",
    "                                                   unit=\"date\", \n",
    "                                                   unitmode=\"absolute\",\n",
    "                                                   dateformat=\"yyyymmdd\",\n",
    "                                                  )\n",
    "\n",
    "timeaxis_ev, *_ = __get_timeaxis(  \n",
    "                                dates=[ws8.iloc[0,1], 20220412], \n",
    "                                times=[ws8.iloc[0,2], 140000], \n",
    "                                unit=\"date\", \n",
    "                                unitmode=\"absolute\",\n",
    "                                dateformat=\"yyyymmdd\",\n",
    "                                )"
   ]
  },
  {
   "cell_type": "code",
   "execution_count": 62,
   "id": "ce0c2b4d",
   "metadata": {},
   "outputs": [
    {
     "data": {
      "image/png": "[encoded data removed]",
      "text/plain": [
       "<Figure size 1080x720 with 3 Axes>"
      ]
     },
     "metadata": {
      "needs_background": "light"
     },
     "output_type": "display_data"
    }
   ],
   "source": [
    "col,c = 5, \"H\"\n",
    "\n",
    "\n",
    "fig, ax = plt.subplots(3,1,figsize=(15,10))\n",
    "\n",
    "ax[0].plot(timeaxis_furt, furt1[c], 'grey',label=\"furt\")\n",
    "\n",
    "ax[0].plot(timeaxis8, ws8.iloc[:,col],'green',label=\"ws8\")\n",
    "\n",
    "ax[0].plot(timeaxis6, ws6.iloc[:,col],'blue',label=\"ws6\")\n",
    "\n",
    "\n",
    "ax[1].plot(timeaxis8, ws8.iloc[:,col],'green',label=\"ws8\")\n",
    "\n",
    "ax[2].plot(timeaxis6, ws6.iloc[:,col],'blue',label=\"ws6\")\n",
    "\n",
    "for i in range(3):\n",
    "    ax[i].axvline(timeaxis_ev[1], color=\"red\", zorder=-1, alpha=0.7, label=\"event\")\n",
    "\n",
    "ax[0].set_xticks(ticks_furt)\n",
    "ax[1].set_xticks(ticks8) \n",
    "ax[2].set_xticks(ticks6) \n",
    "\n",
    "\n",
    "ax[0].set_xticklabels(ticklabels_furt) \n",
    "ax[1].set_xticklabels(ticklabels8) \n",
    "ax[2].set_xticklabels(ticklabels6) \n",
    "\n",
    "for i in range(3):\n",
    "    ax[i].grid()\n",
    "    ax[i].legend()\n",
    "\n",
    "plt.show();"
   ]
  },
  {
   "cell_type": "markdown",
   "id": "f0723805",
   "metadata": {},
   "source": [
    "## Comparison with Lids Closed"
   ]
  },
  {
   "cell_type": "code",
   "execution_count": 55,
   "id": "715d3bde",
   "metadata": {},
   "outputs": [
    {
     "name": "stdout",
     "output_type": "stream",
     "text": [
      " -> generate time axis\n",
      "  -> Formating: date <ddmmyy> -> <yyyymmdd>\n",
      " -> generate time axis\n",
      " -> generate time axis\n"
     ]
    }
   ],
   "source": [
    "from andbro__get_timeaxis import __get_timeaxis\n",
    "\n",
    "furt1 = furt.copy()\n",
    "furt1 = furt1[furt1['date'] > 160422]\n",
    "\n",
    "ws8 = data['WS8']\n",
    "ws8 = ws8[ws8['Date'] > 20220416]\n",
    "\n",
    "ws6 = data['WS6']\n",
    "ws6 = ws6[ws6['Date'] > 20220416]\n",
    "\n",
    "\n",
    "\n",
    "timeaxis_furt, ticks_furt, ticklabels_furt, text_furt = __get_timeaxis(\n",
    "                                                                       dates=furt1.iloc[:,0], \n",
    "                                                                       times=furt1.iloc[:,1], \n",
    "                                                                       unit=\"date\", \n",
    "                                                                       unitmode=\"absolute\",\n",
    "                                                                       dateformat=\"ddmmyy\",\n",
    "                                                                      ) \n",
    "timeaxis8, ticks8, ticklabels8, text8 = __get_timeaxis(dates=ws8.iloc[:,1], \n",
    "                                                   times=ws8.iloc[:,2], \n",
    "                                                   unit=\"date\", \n",
    "                                                   unitmode=\"absolute\",\n",
    "                                                   dateformat=\"yyyymmdd\",\n",
    "                                                  )\n",
    "\n",
    "timeaxis6, ticks6, ticklabels6, text6 = __get_timeaxis(dates=ws6.iloc[:,1], \n",
    "                                                   times=ws6.iloc[:,2], \n",
    "                                                   unit=\"date\", \n",
    "                                                   unitmode=\"absolute\",\n",
    "                                                   dateformat=\"yyyymmdd\",\n",
    "                                                  )\n",
    "\n",
    "# timeaxis_ev, *_ = __get_timeaxis(  \n",
    "#                                 dates=[ws8.iloc[0,1], 20220412], \n",
    "#                                 times=[ws8.iloc[0,2], 140000], \n",
    "#                                 unit=\"date\", \n",
    "#                                 unitmode=\"absolute\",\n",
    "#                                 dateformat=\"yyyymmdd\",\n",
    "#                                 )"
   ]
  },
  {
   "cell_type": "code",
   "execution_count": 56,
   "id": "f1b891b3",
   "metadata": {},
   "outputs": [
    {
     "data": {
      "image/png": "[encoded data removed]",
      "text/plain": [
       "<Figure size 1080x720 with 2 Axes>"
      ]
     },
     "metadata": {
      "needs_background": "light"
     },
     "output_type": "display_data"
    }
   ],
   "source": [
    "col,c = 3, \"T\"\n",
    "\n",
    "fig, ax = plt.subplots(2,1,figsize=(15,10))\n",
    "\n",
    "ax[0].plot(timeaxis_furt, furt1[c], 'grey',label=\"furt\")\n",
    "\n",
    "ax[0].plot(timeaxis8, ws8.iloc[:,col],'green',label=\"ws8\")\n",
    "\n",
    "ax[0].plot(timeaxis6, ws6.iloc[:,col],'blue',label=\"ws6\")\n",
    "\n",
    "\n",
    "ax[1].plot(timeaxis8, ws8.iloc[:,col]-ws8.iloc[:,col].mean(),'green',label=\"ws8\")\n",
    "\n",
    "ax[1].plot(timeaxis6, ws6.iloc[:,col]-ws6.iloc[:,col].mean(),'blue',label=\"ws6\")\n",
    "\n",
    "# for i in range(3):\n",
    "#     ax[i].axvline(timeaxis_ev[1], color=\"red\", zorder=-1, alpha=0.7)\n",
    "\n",
    "ax[0].set_xticks(ticks_furt)\n",
    "ax[1].set_xticks(ticks8) \n",
    "\n",
    "\n",
    "ax[0].set_xticklabels(ticklabels_furt) \n",
    "ax[1].set_xticklabels(ticklabels8) \n",
    "\n",
    "for i in range(2):\n",
    "    ax[i].grid()\n",
    "    ax[i].legend()\n",
    "\n",
    "\n",
    "plt.show();"
   ]
  },
  {
   "cell_type": "code",
   "execution_count": 57,
   "id": "0f396919",
   "metadata": {},
   "outputs": [
    {
     "data": {
      "text/html": [
       "<div>\n",
       "<style scoped>\n",
       "    .dataframe tbody tr th:only-of-type {\n",
       "        vertical-align: middle;\n",
       "    }\n",
       "\n",
       "    .dataframe tbody tr th {\n",
       "        vertical-align: top;\n",
       "    }\n",
       "\n",
       "    .dataframe thead th {\n",
       "        text-align: right;\n",
       "    }\n",
       "</style>\n",
       "<table border=\"1\" class=\"dataframe\">\n",
       "  <thead>\n",
       "    <tr style=\"text-align: right;\">\n",
       "      <th></th>\n",
       "      <th>Seconds</th>\n",
       "      <th>Date</th>\n",
       "      <th>Time (UTC)</th>\n",
       "      <th>Temperature (°C)</th>\n",
       "      <th>Pressure (hPa)</th>\n",
       "      <th>rel. Humidity (%)</th>\n",
       "      <th>totalSeconds</th>\n",
       "    </tr>\n",
       "  </thead>\n",
       "  <tbody>\n",
       "    <tr>\n",
       "      <th>604801</th>\n",
       "      <td>0</td>\n",
       "      <td>20220417</td>\n",
       "      <td>000000</td>\n",
       "      <td>11.4</td>\n",
       "      <td>962.1</td>\n",
       "      <td>71.5</td>\n",
       "      <td>604800</td>\n",
       "    </tr>\n",
       "    <tr>\n",
       "      <th>604802</th>\n",
       "      <td>1</td>\n",
       "      <td>20220417</td>\n",
       "      <td>000001</td>\n",
       "      <td>11.4</td>\n",
       "      <td>962.1</td>\n",
       "      <td>71.5</td>\n",
       "      <td>604801</td>\n",
       "    </tr>\n",
       "    <tr>\n",
       "      <th>604803</th>\n",
       "      <td>2</td>\n",
       "      <td>20220417</td>\n",
       "      <td>000002</td>\n",
       "      <td>11.4</td>\n",
       "      <td>962.1</td>\n",
       "      <td>71.5</td>\n",
       "      <td>604802</td>\n",
       "    </tr>\n",
       "    <tr>\n",
       "      <th>604804</th>\n",
       "      <td>3</td>\n",
       "      <td>20220417</td>\n",
       "      <td>000003</td>\n",
       "      <td>11.4</td>\n",
       "      <td>962.1</td>\n",
       "      <td>71.5</td>\n",
       "      <td>604803</td>\n",
       "    </tr>\n",
       "    <tr>\n",
       "      <th>604805</th>\n",
       "      <td>4</td>\n",
       "      <td>20220417</td>\n",
       "      <td>000004</td>\n",
       "      <td>11.4</td>\n",
       "      <td>962.1</td>\n",
       "      <td>71.5</td>\n",
       "      <td>604804</td>\n",
       "    </tr>\n",
       "    <tr>\n",
       "      <th>...</th>\n",
       "      <td>...</td>\n",
       "      <td>...</td>\n",
       "      <td>...</td>\n",
       "      <td>...</td>\n",
       "      <td>...</td>\n",
       "      <td>...</td>\n",
       "      <td>...</td>\n",
       "    </tr>\n",
       "    <tr>\n",
       "      <th>1004398</th>\n",
       "      <td>53997</td>\n",
       "      <td>20220421</td>\n",
       "      <td>145957</td>\n",
       "      <td>11.6</td>\n",
       "      <td>940.9</td>\n",
       "      <td>69.6</td>\n",
       "      <td>1004397</td>\n",
       "    </tr>\n",
       "    <tr>\n",
       "      <th>1004399</th>\n",
       "      <td>53998</td>\n",
       "      <td>20220421</td>\n",
       "      <td>145958</td>\n",
       "      <td>11.6</td>\n",
       "      <td>940.9</td>\n",
       "      <td>69.6</td>\n",
       "      <td>1004398</td>\n",
       "    </tr>\n",
       "    <tr>\n",
       "      <th>1004400</th>\n",
       "      <td>53999</td>\n",
       "      <td>20220421</td>\n",
       "      <td>145959</td>\n",
       "      <td>11.6</td>\n",
       "      <td>940.8</td>\n",
       "      <td>69.6</td>\n",
       "      <td>1004399</td>\n",
       "    </tr>\n",
       "    <tr>\n",
       "      <th>1004401</th>\n",
       "      <td>54000</td>\n",
       "      <td>20220421</td>\n",
       "      <td>150000</td>\n",
       "      <td>11.6</td>\n",
       "      <td>940.8</td>\n",
       "      <td>69.6</td>\n",
       "      <td>1004400</td>\n",
       "    </tr>\n",
       "    <tr>\n",
       "      <th>1004402</th>\n",
       "      <td>54001</td>\n",
       "      <td>20220421</td>\n",
       "      <td>150001</td>\n",
       "      <td>11.6</td>\n",
       "      <td>940.8</td>\n",
       "      <td>69.6</td>\n",
       "      <td>1004401</td>\n",
       "    </tr>\n",
       "  </tbody>\n",
       "</table>\n",
       "<p>399602 rows × 7 columns</p>\n",
       "</div>"
      ],
      "text/plain": [
       "         Seconds      Date Time (UTC)  Temperature (°C)  Pressure (hPa)  \\\n",
       "604801         0  20220417     000000              11.4           962.1   \n",
       "604802         1  20220417     000001              11.4           962.1   \n",
       "604803         2  20220417     000002              11.4           962.1   \n",
       "604804         3  20220417     000003              11.4           962.1   \n",
       "604805         4  20220417     000004              11.4           962.1   \n",
       "...          ...       ...        ...               ...             ...   \n",
       "1004398    53997  20220421     145957              11.6           940.9   \n",
       "1004399    53998  20220421     145958              11.6           940.9   \n",
       "1004400    53999  20220421     145959              11.6           940.8   \n",
       "1004401    54000  20220421     150000              11.6           940.8   \n",
       "1004402    54001  20220421     150001              11.6           940.8   \n",
       "\n",
       "         rel. Humidity (%)  totalSeconds  \n",
       "604801                71.5        604800  \n",
       "604802                71.5        604801  \n",
       "604803                71.5        604802  \n",
       "604804                71.5        604803  \n",
       "604805                71.5        604804  \n",
       "...                    ...           ...  \n",
       "1004398               69.6       1004397  \n",
       "1004399               69.6       1004398  \n",
       "1004400               69.6       1004399  \n",
       "1004401               69.6       1004400  \n",
       "1004402               69.6       1004401  \n",
       "\n",
       "[399602 rows x 7 columns]"
      ]
     },
     "execution_count": 57,
     "metadata": {},
     "output_type": "execute_result"
    }
   ],
   "source": [
    "ws8"
   ]
  },
  {
   "cell_type": "code",
   "execution_count": null,
   "id": "9e95f0b8",
   "metadata": {},
   "outputs": [],
   "source": []
  }
 ],
 "metadata": {
  "kernelspec": {
   "display_name": "Python 3",
   "language": "python",
   "name": "python3"
  },
  "language_info": {
   "codemirror_mode": {
    "name": "ipython",
    "version": 3
   },
   "file_extension": ".py",
   "mimetype": "text/x-python",
   "name": "python",
   "nbconvert_exporter": "python",
   "pygments_lexer": "ipython3",
   "version": "3.7.7"
  }
 },
 "nbformat": 4,
 "nbformat_minor": 5
}
