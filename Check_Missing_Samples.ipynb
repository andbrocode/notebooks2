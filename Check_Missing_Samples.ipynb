{
 "cells": [
  {
   "cell_type": "code",
   "execution_count": 1,
   "id": "0d1fc31c",
   "metadata": {
    "ExecuteTime": {
     "end_time": "2022-08-16T14:37:42.560747Z",
     "start_time": "2022-08-16T14:37:39.338776Z"
    }
   },
   "outputs": [],
   "source": [
    "from obspy import * \n",
    "from pandas import *\n",
    "from tqdm.notebook import tqdm\n",
    "from datetime import datetime\n",
    "\n",
    "import numpy as np\n",
    "import matplotlib.pyplot as plt\n",
    "import os\n",
    "\n",
    "import warnings\n",
    "warnings.filterwarnings('ignore')"
   ]
  },
  {
   "cell_type": "code",
   "execution_count": 6,
   "id": "1a2017d6",
   "metadata": {
    "ExecuteTime": {
     "end_time": "2022-08-16T14:57:03.706582Z",
     "start_time": "2022-08-16T14:57:03.698490Z"
    }
   },
   "outputs": [],
   "source": [
    "config = {}\n",
    "\n",
    "config['host'] = \"brotzer\" # \"\"andbro\"\n",
    "\n",
    "config['year'] = \"2022\"\n",
    "\n",
    "config['seed'] = \"BW.ROMY.10.HJZ\"\n",
    "config['seed'] = \"BW.DROMY..FJZ\"\n",
    "\n",
    "config['doy_start'] = 1\n",
    "config['doys'] = 227"
   ]
  },
  {
   "cell_type": "code",
   "execution_count": null,
   "id": "c3efb75e",
   "metadata": {
    "ExecuteTime": {
     "start_time": "2022-08-16T14:57:05.138Z"
    }
   },
   "outputs": [
    {
     "data": {
      "application/vnd.jupyter.widget-view+json": {
       "model_id": "acb61687bd7d426b8ad654a7d7a59a22",
       "version_major": 2,
       "version_minor": 0
      },
      "text/plain": [
       "  0%|          | 0/227 [00:00<?, ?it/s]"
      ]
     },
     "metadata": {},
     "output_type": "display_data"
    },
    {
     "data": {
      "text/plain": [
       "1 Trace(s) in Stream:\n",
       "BW.DROMY..FJZ | 2022-01-01T00:00:00.014800Z - 2022-01-02T00:00:00.019600Z | 5000.0 Hz, 432000025 samples"
      ]
     },
     "execution_count": 7,
     "metadata": {},
     "output_type": "execute_result"
    },
    {
     "data": {
      "text/plain": [
       "1 Trace(s) in Stream:\n",
       "BW.DROMY..FJZ | 2022-01-02T00:00:00.019800Z - 2022-01-03T00:00:00.004000Z | 5000.0 Hz, 431999922 samples"
      ]
     },
     "execution_count": 7,
     "metadata": {},
     "output_type": "execute_result"
    },
    {
     "data": {
      "text/plain": [
       "1 Trace(s) in Stream:\n",
       "BW.DROMY..FJZ | 2022-01-03T00:00:00.004200Z - 2022-01-04T00:00:00.009000Z | 5000.0 Hz, 432000025 samples"
      ]
     },
     "execution_count": 7,
     "metadata": {},
     "output_type": "execute_result"
    },
    {
     "data": {
      "text/plain": [
       "1 Trace(s) in Stream:\n",
       "BW.DROMY..FJZ | 2022-01-04T00:00:00.009200Z - 2022-01-05T00:00:00.014000Z | 5000.0 Hz, 432000025 samples"
      ]
     },
     "execution_count": 7,
     "metadata": {},
     "output_type": "execute_result"
    },
    {
     "data": {
      "text/plain": [
       "1 Trace(s) in Stream:\n",
       "BW.DROMY..FJZ | 2022-01-05T00:00:00.014200Z - 2022-01-06T00:00:00.019000Z | 5000.0 Hz, 432000025 samples"
      ]
     },
     "execution_count": 7,
     "metadata": {},
     "output_type": "execute_result"
    },
    {
     "data": {
      "text/plain": [
       "1 Trace(s) in Stream:\n",
       "BW.DROMY..FJZ | 2022-01-06T00:00:00.019200Z - 2022-01-07T00:00:00.003400Z | 5000.0 Hz, 431999922 samples"
      ]
     },
     "execution_count": 7,
     "metadata": {},
     "output_type": "execute_result"
    },
    {
     "data": {
      "text/plain": [
       "1 Trace(s) in Stream:\n",
       "BW.DROMY..FJZ | 2022-01-07T00:00:00.003600Z - 2022-01-08T00:00:00.033200Z | 5000.0 Hz, 432000149 samples"
      ]
     },
     "execution_count": 7,
     "metadata": {},
     "output_type": "execute_result"
    },
    {
     "data": {
      "text/plain": [
       "1 Trace(s) in Stream:\n",
       "BW.DROMY..FJZ | 2022-01-08T00:00:00.033400Z - 2022-01-09T00:00:00.001400Z | 5000.0 Hz, 431999841 samples"
      ]
     },
     "execution_count": 7,
     "metadata": {},
     "output_type": "execute_result"
    },
    {
     "data": {
      "text/plain": [
       "1 Trace(s) in Stream:\n",
       "BW.DROMY..FJZ | 2022-01-09T00:00:00.001600Z - 2022-01-10T00:00:00.006400Z | 5000.0 Hz, 432000025 samples"
      ]
     },
     "execution_count": 7,
     "metadata": {},
     "output_type": "execute_result"
    },
    {
     "data": {
      "text/plain": [
       "1 Trace(s) in Stream:\n",
       "BW.DROMY..FJZ | 2022-01-10T00:00:00.006600Z - 2022-01-11T00:00:00.003000Z | 5000.0 Hz, 431999983 samples"
      ]
     },
     "execution_count": 7,
     "metadata": {},
     "output_type": "execute_result"
    },
    {
     "data": {
      "text/plain": [
       "1 Trace(s) in Stream:\n",
       "BW.DROMY..FJZ | 2022-01-11T00:00:00.003200Z - 2022-01-11T23:59:59.999800Z | 5000.0 Hz, 431999984 samples"
      ]
     },
     "execution_count": 7,
     "metadata": {},
     "output_type": "execute_result"
    },
    {
     "data": {
      "text/plain": [
       "1 Trace(s) in Stream:\n",
       "BW.DROMY..FJZ | 2022-01-12T00:00:00.000000Z - 2022-01-13T00:00:00.004800Z | 5000.0 Hz, 432000025 samples"
      ]
     },
     "execution_count": 7,
     "metadata": {},
     "output_type": "execute_result"
    },
    {
     "data": {
      "text/plain": [
       "1 Trace(s) in Stream:\n",
       "BW.DROMY..FJZ | 2022-01-13T00:00:00.005000Z - 2022-01-14T00:00:00.009800Z | 5000.0 Hz, 432000025 samples"
      ]
     },
     "execution_count": 7,
     "metadata": {},
     "output_type": "execute_result"
    },
    {
     "data": {
      "text/plain": [
       "1 Trace(s) in Stream:\n",
       "BW.DROMY..FJZ | 2022-01-14T00:00:00.010000Z - 2022-01-15T00:00:00.014800Z | 5000.0 Hz, 432000025 samples"
      ]
     },
     "execution_count": 7,
     "metadata": {},
     "output_type": "execute_result"
    },
    {
     "data": {
      "text/plain": [
       "1 Trace(s) in Stream:\n",
       "BW.DROMY..FJZ | 2022-01-15T00:00:00.015000Z - 2022-01-16T00:00:00.019800Z | 5000.0 Hz, 432000025 samples"
      ]
     },
     "execution_count": 7,
     "metadata": {},
     "output_type": "execute_result"
    },
    {
     "data": {
      "text/plain": [
       "1 Trace(s) in Stream:\n",
       "BW.DROMY..FJZ | 2022-01-16T00:00:00.020000Z - 2022-01-17T00:00:00.004200Z | 5000.0 Hz, 431999922 samples"
      ]
     },
     "execution_count": 7,
     "metadata": {},
     "output_type": "execute_result"
    },
    {
     "data": {
      "text/plain": [
       "1 Trace(s) in Stream:\n",
       "BW.DROMY..FJZ | 2022-01-17T00:00:00.004400Z - 2022-01-18T00:00:00.009200Z | 5000.0 Hz, 432000025 samples"
      ]
     },
     "execution_count": 7,
     "metadata": {},
     "output_type": "execute_result"
    },
    {
     "data": {
      "text/plain": [
       "1 Trace(s) in Stream:\n",
       "BW.DROMY..FJZ | 2022-01-18T00:00:00.009400Z - 2022-01-19T00:00:00.007200Z | 5000.0 Hz, 431999990 samples"
      ]
     },
     "execution_count": 7,
     "metadata": {},
     "output_type": "execute_result"
    },
    {
     "data": {
      "text/plain": [
       "1 Trace(s) in Stream:\n",
       "BW.DROMY..FJZ | 2022-01-19T00:00:00.007400Z - 2022-01-20T00:00:00.012200Z | 5000.0 Hz, 432000025 samples"
      ]
     },
     "execution_count": 7,
     "metadata": {},
     "output_type": "execute_result"
    },
    {
     "data": {
      "text/plain": [
       "1 Trace(s) in Stream:\n",
       "BW.DROMY..FJZ | 2022-01-20T00:00:00.012400Z - 2022-01-21T00:00:00.009000Z | 5000.0 Hz, 431999984 samples"
      ]
     },
     "execution_count": 7,
     "metadata": {},
     "output_type": "execute_result"
    },
    {
     "data": {
      "text/plain": [
       "1 Trace(s) in Stream:\n",
       "BW.DROMY..FJZ | 2022-01-21T00:00:00.009200Z - 2022-01-22T00:00:00.014000Z | 5000.0 Hz, 432000025 samples"
      ]
     },
     "execution_count": 7,
     "metadata": {},
     "output_type": "execute_result"
    },
    {
     "data": {
      "text/plain": [
       "1 Trace(s) in Stream:\n",
       "BW.DROMY..FJZ | 2022-01-22T00:00:00.014200Z - 2022-01-23T00:00:00.019000Z | 5000.0 Hz, 432000025 samples"
      ]
     },
     "execution_count": 7,
     "metadata": {},
     "output_type": "execute_result"
    },
    {
     "data": {
      "text/plain": [
       "1 Trace(s) in Stream:\n",
       "BW.DROMY..FJZ | 2022-01-23T00:00:00.019200Z - 2022-01-24T00:00:00.005800Z | 5000.0 Hz, 431999934 samples"
      ]
     },
     "execution_count": 7,
     "metadata": {},
     "output_type": "execute_result"
    },
    {
     "data": {
      "text/plain": [
       "1 Trace(s) in Stream:\n",
       "BW.DROMY..FJZ | 2022-01-24T00:00:00.006000Z - 2022-01-25T00:00:00.010800Z | 5000.0 Hz, 432000025 samples"
      ]
     },
     "execution_count": 7,
     "metadata": {},
     "output_type": "execute_result"
    },
    {
     "data": {
      "text/plain": [
       "1 Trace(s) in Stream:\n",
       "BW.DROMY..FJZ | 2022-01-25T00:00:00.011000Z - 2022-01-26T00:00:00.005400Z | 5000.0 Hz, 431999973 samples"
      ]
     },
     "execution_count": 7,
     "metadata": {},
     "output_type": "execute_result"
    },
    {
     "data": {
      "text/plain": [
       "1 Trace(s) in Stream:\n",
       "BW.DROMY..FJZ | 2022-01-26T00:00:00.005600Z - 2022-01-27T00:00:00.005200Z | 5000.0 Hz, 431999999 samples"
      ]
     },
     "execution_count": 7,
     "metadata": {},
     "output_type": "execute_result"
    },
    {
     "data": {
      "text/plain": [
       "1 Trace(s) in Stream:\n",
       "BW.DROMY..FJZ | 2022-01-27T00:00:00.005400Z - 2022-01-28T00:00:00.008600Z | 5000.0 Hz, 432000017 samples"
      ]
     },
     "execution_count": 7,
     "metadata": {},
     "output_type": "execute_result"
    },
    {
     "data": {
      "text/plain": [
       "1 Trace(s) in Stream:\n",
       "BW.DROMY..FJZ | 2022-01-28T00:00:00.008800Z - 2022-01-29T00:00:00.013600Z | 5000.0 Hz, 432000025 samples"
      ]
     },
     "execution_count": 7,
     "metadata": {},
     "output_type": "execute_result"
    },
    {
     "data": {
      "text/plain": [
       "1 Trace(s) in Stream:\n",
       "BW.DROMY..FJZ | 2022-01-29T00:00:00.013800Z - 2022-01-30T00:00:00.018600Z | 5000.0 Hz, 432000025 samples"
      ]
     },
     "execution_count": 7,
     "metadata": {},
     "output_type": "execute_result"
    },
    {
     "data": {
      "text/plain": [
       "1 Trace(s) in Stream:\n",
       "BW.DROMY..FJZ | 2022-01-30T00:00:00.018800Z - 2022-01-31T00:00:00.003000Z | 5000.0 Hz, 431999922 samples"
      ]
     },
     "execution_count": 7,
     "metadata": {},
     "output_type": "execute_result"
    },
    {
     "data": {
      "text/plain": [
       "1 Trace(s) in Stream:\n",
       "BW.DROMY..FJZ | 2022-01-31T00:00:00.003200Z - 2022-02-01T00:00:00.004600Z | 5000.0 Hz, 432000008 samples"
      ]
     },
     "execution_count": 7,
     "metadata": {},
     "output_type": "execute_result"
    },
    {
     "data": {
      "text/plain": [
       "1 Trace(s) in Stream:\n",
       "BW.DROMY..FJZ | 2022-02-01T00:00:00.004800Z - 2022-02-02T00:00:00.014800Z | 5000.0 Hz, 432000051 samples"
      ]
     },
     "execution_count": 7,
     "metadata": {},
     "output_type": "execute_result"
    },
    {
     "data": {
      "text/plain": [
       "1 Trace(s) in Stream:\n",
       "BW.DROMY..FJZ | 2022-02-02T00:00:00.015000Z - 2022-02-03T00:00:00.005200Z | 5000.0 Hz, 431999952 samples"
      ]
     },
     "execution_count": 7,
     "metadata": {},
     "output_type": "execute_result"
    },
    {
     "data": {
      "text/plain": [
       "1 Trace(s) in Stream:\n",
       "BW.DROMY..FJZ | 2022-02-03T00:00:00.005400Z - 2022-02-04T00:00:00.013800Z | 5000.0 Hz, 432000043 samples"
      ]
     },
     "execution_count": 7,
     "metadata": {},
     "output_type": "execute_result"
    },
    {
     "data": {
      "text/plain": [
       "1 Trace(s) in Stream:\n",
       "BW.DROMY..FJZ | 2022-02-04T00:00:00.014000Z - 2022-02-05T00:00:00.018800Z | 5000.0 Hz, 432000025 samples"
      ]
     },
     "execution_count": 7,
     "metadata": {},
     "output_type": "execute_result"
    },
    {
     "data": {
      "text/plain": [
       "1 Trace(s) in Stream:\n",
       "BW.DROMY..FJZ | 2022-02-05T00:00:00.019000Z - 2022-02-06T00:00:00.012000Z | 5000.0 Hz, 431999966 samples"
      ]
     },
     "execution_count": 7,
     "metadata": {},
     "output_type": "execute_result"
    },
    {
     "data": {
      "text/plain": [
       "1 Trace(s) in Stream:\n",
       "BW.DROMY..FJZ | 2022-02-06T00:00:00.012200Z - 2022-02-07T00:00:00.019800Z | 5000.0 Hz, 432000039 samples"
      ]
     },
     "execution_count": 7,
     "metadata": {},
     "output_type": "execute_result"
    },
    {
     "data": {
      "text/plain": [
       "1 Trace(s) in Stream:\n",
       "BW.DROMY..FJZ | 2022-02-07T00:00:00.020000Z - 2022-02-08T00:00:00.004400Z | 5000.0 Hz, 431999923 samples"
      ]
     },
     "execution_count": 7,
     "metadata": {},
     "output_type": "execute_result"
    },
    {
     "data": {
      "text/plain": [
       "1 Trace(s) in Stream:\n",
       "BW.DROMY..FJZ | 2022-02-08T00:00:00.004600Z - 2022-02-09T00:00:00.013200Z | 5000.0 Hz, 432000044 samples"
      ]
     },
     "execution_count": 7,
     "metadata": {},
     "output_type": "execute_result"
    },
    {
     "data": {
      "text/plain": [
       "1 Trace(s) in Stream:\n",
       "BW.DROMY..FJZ | 2022-02-09T00:00:00.013400Z - 2022-02-10T00:00:00.001200Z | 5000.0 Hz, 431999940 samples"
      ]
     },
     "execution_count": 7,
     "metadata": {},
     "output_type": "execute_result"
    },
    {
     "data": {
      "text/plain": [
       "1 Trace(s) in Stream:\n",
       "BW.DROMY..FJZ | 2022-02-10T00:00:00.001400Z - 2022-02-11T00:00:00.006200Z | 5000.0 Hz, 432000025 samples"
      ]
     },
     "execution_count": 7,
     "metadata": {},
     "output_type": "execute_result"
    },
    {
     "data": {
      "text/plain": [
       "1 Trace(s) in Stream:\n",
       "BW.DROMY..FJZ | 2022-02-11T00:00:00.006400Z - 2022-02-12T00:00:00.008600Z | 5000.0 Hz, 432000012 samples"
      ]
     },
     "execution_count": 7,
     "metadata": {},
     "output_type": "execute_result"
    },
    {
     "data": {
      "text/plain": [
       "1 Trace(s) in Stream:\n",
       "BW.DROMY..FJZ | 2022-02-12T00:00:00.008800Z - 2022-02-13T00:00:00.004800Z | 5000.0 Hz, 431999981 samples"
      ]
     },
     "execution_count": 7,
     "metadata": {},
     "output_type": "execute_result"
    },
    {
     "data": {
      "text/plain": [
       "1 Trace(s) in Stream:\n",
       "BW.DROMY..FJZ | 2022-02-13T00:00:00.005000Z - 2022-02-14T00:00:00.000000Z | 5000.0 Hz, 431999976 samples"
      ]
     },
     "execution_count": 7,
     "metadata": {},
     "output_type": "execute_result"
    },
    {
     "data": {
      "text/plain": [
       "1 Trace(s) in Stream:\n",
       "BW.DROMY..FJZ | 2022-02-14T00:00:00.000200Z - 2022-02-15T00:00:00.005000Z | 5000.0 Hz, 432000025 samples"
      ]
     },
     "execution_count": 7,
     "metadata": {},
     "output_type": "execute_result"
    },
    {
     "data": {
      "text/plain": [
       "1 Trace(s) in Stream:\n",
       "BW.DROMY..FJZ | 2022-02-15T00:00:00.005200Z - 2022-02-16T00:00:00.007200Z | 5000.0 Hz, 432000011 samples"
      ]
     },
     "execution_count": 7,
     "metadata": {},
     "output_type": "execute_result"
    },
    {
     "data": {
      "text/plain": [
       "1 Trace(s) in Stream:\n",
       "BW.DROMY..FJZ | 2022-02-16T00:00:00.007400Z - 2022-02-17T00:00:00.019200Z | 5000.0 Hz, 432000060 samples"
      ]
     },
     "execution_count": 7,
     "metadata": {},
     "output_type": "execute_result"
    },
    {
     "data": {
      "text/plain": [
       "1 Trace(s) in Stream:\n",
       "BW.DROMY..FJZ | 2022-02-17T00:00:00.019400Z - 2022-02-18T00:00:00.003600Z | 5000.0 Hz, 431999922 samples"
      ]
     },
     "execution_count": 7,
     "metadata": {},
     "output_type": "execute_result"
    },
    {
     "data": {
      "text/plain": [
       "1 Trace(s) in Stream:\n",
       "BW.DROMY..FJZ | 2022-02-18T00:00:00.003800Z - 2022-02-19T00:00:00.010000Z | 5000.0 Hz, 432000032 samples"
      ]
     },
     "execution_count": 7,
     "metadata": {},
     "output_type": "execute_result"
    },
    {
     "data": {
      "text/plain": [
       "1 Trace(s) in Stream:\n",
       "BW.DROMY..FJZ | 2022-02-19T00:00:00.010200Z - 2022-02-20T00:00:00.001600Z | 5000.0 Hz, 431999958 samples"
      ]
     },
     "execution_count": 7,
     "metadata": {},
     "output_type": "execute_result"
    },
    {
     "data": {
      "text/plain": [
       "1 Trace(s) in Stream:\n",
       "BW.DROMY..FJZ | 2022-02-20T00:00:00.001800Z - 2022-02-21T00:00:00.007200Z | 5000.0 Hz, 432000028 samples"
      ]
     },
     "execution_count": 7,
     "metadata": {},
     "output_type": "execute_result"
    },
    {
     "data": {
      "text/plain": [
       "1 Trace(s) in Stream:\n",
       "BW.DROMY..FJZ | 2022-02-21T00:00:00.007400Z - 2022-02-22T00:00:00.012200Z | 5000.0 Hz, 432000025 samples"
      ]
     },
     "execution_count": 7,
     "metadata": {},
     "output_type": "execute_result"
    },
    {
     "data": {
      "text/plain": [
       "1 Trace(s) in Stream:\n",
       "BW.DROMY..FJZ | 2022-02-22T00:00:00.012400Z - 2022-02-23T00:00:00.017200Z | 5000.0 Hz, 432000025 samples"
      ]
     },
     "execution_count": 7,
     "metadata": {},
     "output_type": "execute_result"
    },
    {
     "data": {
      "text/plain": [
       "1 Trace(s) in Stream:\n",
       "BW.DROMY..FJZ | 2022-02-23T00:00:00.017400Z - 2022-02-24T00:00:00.001600Z | 5000.0 Hz, 431999922 samples"
      ]
     },
     "execution_count": 7,
     "metadata": {},
     "output_type": "execute_result"
    },
    {
     "data": {
      "text/plain": [
       "1 Trace(s) in Stream:\n",
       "BW.DROMY..FJZ | 2022-02-24T00:00:00.001800Z - 2022-02-25T00:00:00.006600Z | 5000.0 Hz, 432000025 samples"
      ]
     },
     "execution_count": 7,
     "metadata": {},
     "output_type": "execute_result"
    },
    {
     "data": {
      "text/plain": [
       "1 Trace(s) in Stream:\n",
       "BW.DROMY..FJZ | 2022-02-25T00:00:00.006800Z - 2022-02-26T00:00:00.011600Z | 5000.0 Hz, 432000025 samples"
      ]
     },
     "execution_count": 7,
     "metadata": {},
     "output_type": "execute_result"
    },
    {
     "data": {
      "text/plain": [
       "1 Trace(s) in Stream:\n",
       "BW.DROMY..FJZ | 2022-02-26T00:00:00.011800Z - 2022-02-27T00:00:00.017000Z | 5000.0 Hz, 432000027 samples"
      ]
     },
     "execution_count": 7,
     "metadata": {},
     "output_type": "execute_result"
    },
    {
     "data": {
      "text/plain": [
       "1 Trace(s) in Stream:\n",
       "BW.DROMY..FJZ | 2022-02-27T00:00:00.017200Z - 2022-02-28T00:00:00.015600Z | 5000.0 Hz, 431999993 samples"
      ]
     },
     "execution_count": 7,
     "metadata": {},
     "output_type": "execute_result"
    },
    {
     "data": {
      "text/plain": [
       "1 Trace(s) in Stream:\n",
       "BW.DROMY..FJZ | 2022-02-28T00:00:00.015800Z - 2022-03-01T00:00:00.008200Z | 5000.0 Hz, 431999963 samples"
      ]
     },
     "execution_count": 7,
     "metadata": {},
     "output_type": "execute_result"
    },
    {
     "data": {
      "text/plain": [
       "1 Trace(s) in Stream:\n",
       "BW.DROMY..FJZ | 2022-03-01T00:00:00.008400Z - 2022-03-02T00:00:00.009400Z | 5000.0 Hz, 432000006 samples"
      ]
     },
     "execution_count": 7,
     "metadata": {},
     "output_type": "execute_result"
    },
    {
     "data": {
      "text/plain": [
       "1 Trace(s) in Stream:\n",
       "BW.DROMY..FJZ | 2022-03-02T00:00:00.009600Z - 2022-03-03T00:00:00.015800Z | 5000.0 Hz, 432000032 samples"
      ]
     },
     "execution_count": 7,
     "metadata": {},
     "output_type": "execute_result"
    },
    {
     "data": {
      "text/plain": [
       "1 Trace(s) in Stream:\n",
       "BW.DROMY..FJZ | 2022-03-03T00:00:00.016000Z - 2022-03-04T00:00:00.002200Z | 5000.0 Hz, 431999932 samples"
      ]
     },
     "execution_count": 7,
     "metadata": {},
     "output_type": "execute_result"
    },
    {
     "data": {
      "text/plain": [
       "1 Trace(s) in Stream:\n",
       "BW.DROMY..FJZ | 2022-03-04T00:00:00.002400Z - 2022-03-05T00:00:00.007200Z | 5000.0 Hz, 432000025 samples"
      ]
     },
     "execution_count": 7,
     "metadata": {},
     "output_type": "execute_result"
    },
    {
     "data": {
      "text/plain": [
       "1 Trace(s) in Stream:\n",
       "BW.DROMY..FJZ | 2022-03-05T00:00:00.007400Z - 2022-03-06T00:00:00.011600Z | 5000.0 Hz, 432000022 samples"
      ]
     },
     "execution_count": 7,
     "metadata": {},
     "output_type": "execute_result"
    },
    {
     "data": {
      "text/plain": [
       "1 Trace(s) in Stream:\n",
       "BW.DROMY..FJZ | 2022-03-06T00:00:00.011800Z - 2022-03-07T00:00:00.011000Z | 5000.0 Hz, 431999997 samples"
      ]
     },
     "execution_count": 7,
     "metadata": {},
     "output_type": "execute_result"
    },
    {
     "data": {
      "text/plain": [
       "1 Trace(s) in Stream:\n",
       "BW.DROMY..FJZ | 2022-03-07T00:00:00.011200Z - 2022-03-08T00:00:00.006400Z | 5000.0 Hz, 431999977 samples"
      ]
     },
     "execution_count": 7,
     "metadata": {},
     "output_type": "execute_result"
    },
    {
     "data": {
      "text/plain": [
       "1 Trace(s) in Stream:\n",
       "BW.DROMY..FJZ | 2022-03-08T00:00:00.006600Z - 2022-03-09T00:00:00.005800Z | 5000.0 Hz, 431999997 samples"
      ]
     },
     "execution_count": 7,
     "metadata": {},
     "output_type": "execute_result"
    },
    {
     "data": {
      "text/plain": [
       "1 Trace(s) in Stream:\n",
       "BW.DROMY..FJZ | 2022-03-09T00:00:00.006000Z - 2022-03-10T00:00:00.017400Z | 5000.0 Hz, 432000058 samples"
      ]
     },
     "execution_count": 7,
     "metadata": {},
     "output_type": "execute_result"
    },
    {
     "data": {
      "text/plain": [
       "1 Trace(s) in Stream:\n",
       "BW.DROMY..FJZ | 2022-03-10T00:00:00.017600Z - 2022-03-11T00:00:00.006800Z | 5000.0 Hz, 431999947 samples"
      ]
     },
     "execution_count": 7,
     "metadata": {},
     "output_type": "execute_result"
    },
    {
     "data": {
      "text/plain": [
       "1 Trace(s) in Stream:\n",
       "BW.DROMY..FJZ | 2022-03-11T00:00:00.007000Z - 2022-03-12T00:00:00.010200Z | 5000.0 Hz, 432000017 samples"
      ]
     },
     "execution_count": 7,
     "metadata": {},
     "output_type": "execute_result"
    },
    {
     "data": {
      "text/plain": [
       "1 Trace(s) in Stream:\n",
       "BW.DROMY..FJZ | 2022-03-12T00:00:00.010400Z - 2022-03-13T00:00:00.015200Z | 5000.0 Hz, 432000025 samples"
      ]
     },
     "execution_count": 7,
     "metadata": {},
     "output_type": "execute_result"
    },
    {
     "data": {
      "text/plain": [
       "1 Trace(s) in Stream:\n",
       "BW.DROMY..FJZ | 2022-03-13T00:00:00.015400Z - 2022-03-14T00:00:00.020200Z | 5000.0 Hz, 432000025 samples"
      ]
     },
     "execution_count": 7,
     "metadata": {},
     "output_type": "execute_result"
    },
    {
     "data": {
      "text/plain": [
       "1 Trace(s) in Stream:\n",
       "BW.DROMY..FJZ | 2022-03-14T00:00:00.020400Z - 2022-03-15T00:00:00.004600Z | 5000.0 Hz, 431999922 samples"
      ]
     },
     "execution_count": 7,
     "metadata": {},
     "output_type": "execute_result"
    },
    {
     "data": {
      "text/plain": [
       "1 Trace(s) in Stream:\n",
       "BW.DROMY..FJZ | 2022-03-15T00:00:00.004800Z - 2022-03-16T00:00:00.009600Z | 5000.0 Hz, 432000025 samples"
      ]
     },
     "execution_count": 7,
     "metadata": {},
     "output_type": "execute_result"
    },
    {
     "data": {
      "text/plain": [
       "1 Trace(s) in Stream:\n",
       "BW.DROMY..FJZ | 2022-03-16T00:00:00.009800Z - 2022-03-17T00:00:00.014600Z | 5000.0 Hz, 432000025 samples"
      ]
     },
     "execution_count": 7,
     "metadata": {},
     "output_type": "execute_result"
    },
    {
     "data": {
      "text/plain": [
       "1 Trace(s) in Stream:\n",
       "BW.DROMY..FJZ | 2022-03-17T00:00:00.014800Z - 2022-03-18T00:00:00.019600Z | 5000.0 Hz, 432000025 samples"
      ]
     },
     "execution_count": 7,
     "metadata": {},
     "output_type": "execute_result"
    },
    {
     "data": {
      "text/plain": [
       "1 Trace(s) in Stream:\n",
       "BW.DROMY..FJZ | 2022-03-18T00:00:00.019800Z - 2022-03-19T00:00:00.001400Z | 5000.0 Hz, 431999909 samples"
      ]
     },
     "execution_count": 7,
     "metadata": {},
     "output_type": "execute_result"
    },
    {
     "data": {
      "text/plain": [
       "1 Trace(s) in Stream:\n",
       "BW.DROMY..FJZ | 2022-03-19T00:00:00.001600Z - 2022-03-20T00:00:00.006400Z | 5000.0 Hz, 432000025 samples"
      ]
     },
     "execution_count": 7,
     "metadata": {},
     "output_type": "execute_result"
    },
    {
     "data": {
      "text/plain": [
       "1 Trace(s) in Stream:\n",
       "BW.DROMY..FJZ | 2022-03-20T00:00:00.006600Z - 2022-03-21T00:00:00.011400Z | 5000.0 Hz, 432000025 samples"
      ]
     },
     "execution_count": 7,
     "metadata": {},
     "output_type": "execute_result"
    },
    {
     "data": {
      "text/plain": [
       "1 Trace(s) in Stream:\n",
       "BW.DROMY..FJZ | 2022-03-21T00:00:00.011600Z - 2022-03-22T00:00:00.016400Z | 5000.0 Hz, 432000025 samples"
      ]
     },
     "execution_count": 7,
     "metadata": {},
     "output_type": "execute_result"
    },
    {
     "data": {
      "text/plain": [
       "1 Trace(s) in Stream:\n",
       "BW.DROMY..FJZ | 2022-03-22T00:00:00.016600Z - 2022-03-23T00:00:00.001000Z | 5000.0 Hz, 431999923 samples"
      ]
     },
     "execution_count": 7,
     "metadata": {},
     "output_type": "execute_result"
    },
    {
     "data": {
      "text/plain": [
       "1 Trace(s) in Stream:\n",
       "BW.DROMY..FJZ | 2022-03-23T00:00:00.001200Z - 2022-03-24T00:00:00.006000Z | 5000.0 Hz, 432000025 samples"
      ]
     },
     "execution_count": 7,
     "metadata": {},
     "output_type": "execute_result"
    },
    {
     "data": {
      "text/plain": [
       "1 Trace(s) in Stream:\n",
       "BW.DROMY..FJZ | 2022-03-24T00:00:00.006200Z - 2022-03-25T00:00:00.014800Z | 5000.0 Hz, 432000044 samples"
      ]
     },
     "execution_count": 7,
     "metadata": {},
     "output_type": "execute_result"
    },
    {
     "data": {
      "text/plain": [
       "1 Trace(s) in Stream:\n",
       "BW.DROMY..FJZ | 2022-03-25T00:00:00.015000Z - 2022-03-26T00:00:00.019800Z | 5000.0 Hz, 432000025 samples"
      ]
     },
     "execution_count": 7,
     "metadata": {},
     "output_type": "execute_result"
    },
    {
     "data": {
      "text/plain": [
       "1 Trace(s) in Stream:\n",
       "BW.DROMY..FJZ | 2022-03-26T00:00:00.020000Z - 2022-03-27T00:00:00.004200Z | 5000.0 Hz, 431999922 samples"
      ]
     },
     "execution_count": 7,
     "metadata": {},
     "output_type": "execute_result"
    },
    {
     "data": {
      "text/plain": [
       "1 Trace(s) in Stream:\n",
       "BW.DROMY..FJZ | 2022-03-27T00:00:00.004400Z - 2022-03-28T00:00:00.000800Z | 5000.0 Hz, 431999983 samples"
      ]
     },
     "execution_count": 7,
     "metadata": {},
     "output_type": "execute_result"
    },
    {
     "data": {
      "text/plain": [
       "1 Trace(s) in Stream:\n",
       "BW.DROMY..FJZ | 2022-03-28T00:00:00.001000Z - 2022-03-29T00:00:00.001600Z | 5000.0 Hz, 432000004 samples"
      ]
     },
     "execution_count": 7,
     "metadata": {},
     "output_type": "execute_result"
    },
    {
     "data": {
      "text/plain": [
       "1 Trace(s) in Stream:\n",
       "BW.DROMY..FJZ | 2022-03-29T00:00:00.001800Z - 2022-03-30T00:00:00.006600Z | 5000.0 Hz, 432000025 samples"
      ]
     },
     "execution_count": 7,
     "metadata": {},
     "output_type": "execute_result"
    },
    {
     "data": {
      "text/plain": [
       "1 Trace(s) in Stream:\n",
       "BW.DROMY..FJZ | 2022-03-30T00:00:00.006800Z - 2022-03-31T00:00:00.011800Z | 5000.0 Hz, 432000026 samples"
      ]
     },
     "execution_count": 7,
     "metadata": {},
     "output_type": "execute_result"
    },
    {
     "data": {
      "text/plain": [
       "1 Trace(s) in Stream:\n",
       "BW.DROMY..FJZ | 2022-03-31T00:00:00.012000Z - 2022-04-01T00:00:00.013000Z | 5000.0 Hz, 432000006 samples (masked)"
      ]
     },
     "execution_count": 7,
     "metadata": {},
     "output_type": "execute_result"
    },
    {
     "data": {
      "text/plain": [
       "1 Trace(s) in Stream:\n",
       "BW.DROMY..FJZ | 2022-04-01T00:00:00.013200Z - 2022-04-02T00:00:00.013000Z | 5000.0 Hz, 432000000 samples"
      ]
     },
     "execution_count": 7,
     "metadata": {},
     "output_type": "execute_result"
    }
   ],
   "source": [
    "if config['host'] == \"andbro\":\n",
    "    seed = config['seed'].split(\".\")\n",
    "    path = f\"/home/andbro/romy-archive/romy_archive/{seed[0]}/{seed[1]}/{seed[3]}.D/\"\n",
    "elif config['host'] == \"brotzer\":\n",
    "    seed = config['seed'].split(\".\")\n",
    "    path = f\"/import/freenas-ffb-01-data/romy_archive/{config['year']}/{seed[0]}/{seed[1]}/{seed[3]}.D/\"\n",
    "\n",
    "     \n",
    "    \n",
    "N = config['doys']-config['doy_start']+1\n",
    "masked, byte_size, samples, fragments = np.zeros(N), np.zeros(N), np.zeros(N), np.zeros(N)\n",
    "time_deviation = np.zeros(N)\n",
    "\n",
    "\n",
    "doys = np.arange(config['doy_start'],config['doys']+1)\n",
    "for i, doy in enumerate(tqdm(doys)):\n",
    "\n",
    "    doy = str(doy).rjust(3,\"0\")\n",
    "#     print(f\"working on {doy}\")\n",
    "    \n",
    "    file = f\"{config['seed']}.D.{config['year']}.{doy}\"\n",
    "    try:\n",
    "        st = read(path+file);\n",
    "    except:\n",
    "        continue\n",
    "        \n",
    "    byte_size[i] = os.path.getsize(path+file)\n",
    "    \n",
    "    fragments[i] = len(st)-1\n",
    "    \n",
    "    st.merge();\n",
    "    \n",
    "    if np.ma.is_masked(st[0].data):\n",
    "        masked[i] = 1\n",
    "    \n",
    "    samples[i] = st[0].stats.npts\n",
    "    \n",
    "    t1 = UTCDateTime(str(datetime.strptime(f\"{config['year']}-{doy}\", \"%Y-%j\")))\n",
    "    t2 = UTCDateTime(str(datetime.strptime(f\"{config['year']}-{int(doy)+1}\", \"%Y-%j\")))\n",
    "\n",
    "    td1 = (st[0].stats.starttime-t1) / st[0].stats.delta\n",
    "    td2 = (st[0].stats.endtime-t2) / st[0].stats.delta\n",
    "\n",
    "    time_deviation[i] = (td2 - td1)\n",
    "    \n",
    "    \n",
    "    del st;"
   ]
  },
  {
   "cell_type": "code",
   "execution_count": null,
   "id": "278dbe44",
   "metadata": {
    "ExecuteTime": {
     "start_time": "2022-08-16T14:57:05.318Z"
    }
   },
   "outputs": [],
   "source": [
    "\n",
    "if config['seed'].split(\".\")[3][0] == \"B\":\n",
    "    expected_samples = 20 * 86400\n",
    "elif config['seed'].split(\".\")[3][0] == \"H\":\n",
    "    expected_samples = 100 * 86400\n",
    "elif config['seed'].split(\".\")[3][0] == \"F\":\n",
    "    expected_samples = 5000 * 86400\n",
    "\n",
    "fig, ax = plt.subplots(4,1,figsize=(15,8), sharex=True)\n",
    "\n",
    "\n",
    "font = 12\n",
    "\n",
    "ax[0].bar(doys, expected_samples-samples, width=0.8)\n",
    "\n",
    "ax[1].bar(doys, abs(expected_samples-samples+time_deviation), width=0.8)\n",
    "\n",
    "\n",
    "count = 0\n",
    "for k, doy in enumerate(doys):\n",
    "    if masked[k] == 1:\n",
    "        ax[1].bar(doys[k],abs(expected_samples-samples[k]+time_deviation[k]), width=0.8, color=\"orange\", label=\"masked\")\n",
    "        ax[0].bar(doys[k],expected_samples-samples[k], width=0.8, color=\"orange\", label=\"masked\")\n",
    "        count += 1\n",
    "        if count == 1:\n",
    "            ax[0].legend(loc=\"upper right\")\n",
    "            \n",
    "ax[2].bar(doys, abs(byte_size-np.max(byte_size))/1e6)\n",
    "\n",
    "ax[3].bar(doys, fragments)\n",
    "\n",
    "plt.xlim(np.min(doys)-1, np.max(doys)+1)\n",
    "\n",
    "ax[0].set_title(f\"{config['seed']}  {config['year']}\", fontsize=font+3)\n",
    "\n",
    "ax[0].set_ylabel(\"Deviatin of \\n nom. samples\", fontsize=font)\n",
    "ax[1].set_ylabel(\"Corrected abs. \\n deviatin of \\n nom. samples\", fontsize=font)\n",
    "ax[2].set_ylabel(\"Difference in \\n Filesize (MByte)\", fontsize=font)\n",
    "ax[3].set_ylabel(\"# Fragments\", fontsize=font)\n",
    "\n",
    "plt.xlabel(\"Day of Year\", fontsize=font)\n",
    "\n",
    "plt.show();"
   ]
  },
  {
   "cell_type": "code",
   "execution_count": null,
   "id": "27ce450d",
   "metadata": {
    "ExecuteTime": {
     "start_time": "2022-08-16T15:34:44.315Z"
    }
   },
   "outputs": [],
   "source": [
    "from andbro__savefig import __savefig\n",
    "__savefig(fig, f\"/home/brotzer/Documents/ROMY/Check_Samples/\",f\"CheckSamples_{config['seed'].split('.')[1]}_{config['seed'].split('.')[3]}_{config['year']}\", mode=\"png\")"
   ]
  },
  {
   "cell_type": "code",
   "execution_count": null,
   "id": "5409e664",
   "metadata": {},
   "outputs": [],
   "source": []
  },
  {
   "cell_type": "code",
   "execution_count": null,
   "id": "4ed7fa17",
   "metadata": {},
   "outputs": [],
   "source": []
  },
  {
   "cell_type": "code",
   "execution_count": null,
   "id": "9688a39c",
   "metadata": {},
   "outputs": [],
   "source": []
  }
 ],
 "metadata": {
  "kernelspec": {
   "display_name": "Python 3",
   "language": "python",
   "name": "python3"
  },
  "language_info": {
   "codemirror_mode": {
    "name": "ipython",
    "version": 3
   },
   "file_extension": ".py",
   "mimetype": "text/x-python",
   "name": "python",
   "nbconvert_exporter": "python",
   "pygments_lexer": "ipython3",
   "version": "3.7.7"
  },
  "latex_envs": {
   "LaTeX_envs_menu_present": true,
   "autoclose": false,
   "autocomplete": true,
   "bibliofile": "biblio.bib",
   "cite_by": "apalike",
   "current_citInitial": 1,
   "eqLabelWithNumbers": true,
   "eqNumInitial": 1,
   "hotkeys": {
    "equation": "Ctrl-E",
    "itemize": "Ctrl-I"
   },
   "labels_anchors": false,
   "latex_user_defs": false,
   "report_style_numbering": false,
   "user_envs_cfg": false
  },
  "toc": {
   "base_numbering": 1,
   "nav_menu": {},
   "number_sections": true,
   "sideBar": true,
   "skip_h1_title": false,
   "title_cell": "Table of Contents",
   "title_sidebar": "Contents",
   "toc_cell": false,
   "toc_position": {},
   "toc_section_display": true,
   "toc_window_display": false
  }
 },
 "nbformat": 4,
 "nbformat_minor": 5
}
