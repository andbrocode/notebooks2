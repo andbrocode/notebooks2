{
 "cells": [
  {
   "cell_type": "markdown",
   "metadata": {},
   "source": [
    "<div style='background-image: url(\"https://www.geophysik.uni-muenchen.de/ROMY/theme/images/ringlaser_wideformat.jpg\") ; padding: 0px ; background-size: cover ; border-radius: 15px ; height: 250px; background-position: 0% 80%'>\n",
    "    <div style=\"float: left ; margin: 50px ; padding: 20px ; background: rgba(255 , 255 , 255 , 0.9) ; width: 35% ; height: 150px\">\n",
    "        <div style=\"position: relative ; top: 50%;  transform: translatey(-50%)\">\n",
    "            <div style=\"font-size: xx-large ; font-weight: 900 ; color: rgba(0 , 0 , 0 , 0.9) ; line-height: 100%\"> <br>ROMY - <br><br>  Synthetic Sagnac Processing </div>\n",
    "            <div style=\"font-size: large ; padding-top: 20px ; color: rgba(0 , 0 , 0 , 0.7)\"></div>\n",
    "        </div>\n",
    "    </div>"
   ]
  },
  {
   "cell_type": "markdown",
   "metadata": {
    "ExecuteTime": {
     "end_time": "2021-01-29T15:14:27.795046Z",
     "start_time": "2021-01-29T15:14:27.791664Z"
    }
   },
   "source": [
    "## Import "
   ]
  },
  {
   "cell_type": "markdown",
   "metadata": {
    "ExecuteTime": {
     "end_time": "2021-01-29T15:15:30.279221Z",
     "start_time": "2021-01-29T15:15:30.275801Z"
    }
   },
   "source": [
    "### Official Libraries"
   ]
  },
  {
   "cell_type": "code",
   "execution_count": 1,
   "metadata": {
    "ExecuteTime": {
     "end_time": "2021-03-18T22:38:05.208858Z",
     "start_time": "2021-03-18T22:38:04.592580Z"
    }
   },
   "outputs": [],
   "source": [
    "import numpy as np \n",
    "import matplotlib.pyplot as plt \n",
    "import time\n",
    "\n",
    "from scipy.signal import resample, hilbert, correlate, decimate, butter, spectrogram, sosfilt, filtfilt\n",
    "from tqdm import tqdm\n",
    "from obspy import UTCDateTime, read, read_inventory, Trace\n",
    "import obspy"
   ]
  },
  {
   "cell_type": "markdown",
   "metadata": {},
   "source": [
    "### Own Processing Methods"
   ]
  },
  {
   "cell_type": "code",
   "execution_count": 2,
   "metadata": {
    "ExecuteTime": {
     "end_time": "2021-03-18T22:38:05.213195Z",
     "start_time": "2021-03-18T22:38:05.210465Z"
    }
   },
   "outputs": [],
   "source": [
    "import sys\n",
    "sys.path.insert(0, 'submodules')"
   ]
  },
  {
   "cell_type": "code",
   "execution_count": 3,
   "metadata": {
    "ExecuteTime": {
     "end_time": "2021-03-18T22:38:05.244374Z",
     "start_time": "2021-03-18T22:38:05.234391Z"
    }
   },
   "outputs": [],
   "source": [
    "from EchoPerformance import __echo_performance\n",
    "from CreateSyntheticEventV2 import __create_synthetic_event_v2\n",
    "from MakeplotDemodulationQuality import __makeplot_demodulation_quality\n",
    "from MinimizeResidual import __minimize_residual\n",
    "from CreateLinearChirp import __create_linear_chirp\n",
    "from Tapering import __tapering\n",
    "from InstaFreqHilbert import __insta_freq_hilbert\n",
    "from Normalize import __normalize\n",
    "from WriteToMseed import __write_to_mseed\n",
    "from LoadMseed import __load_mseed\n",
    "from Modulation import __modulation\n",
    "from QuerrySeismoData import __querry_seismo_data\n",
    "from RingLaser import RingLaser\n"
   ]
  },
  {
   "cell_type": "code",
   "execution_count": 4,
   "metadata": {
    "ExecuteTime": {
     "end_time": "2021-03-18T22:38:05.423447Z",
     "start_time": "2021-03-18T22:38:05.419677Z"
    },
    "code_folding": [
     0
    ]
   },
   "outputs": [],
   "source": [
    "# def third_order_derive(x, pos=\"MIDDLE\"):\n",
    "\n",
    "#     coeff = np.zeros((5,5))\n",
    "#     norm = np.array([0,0])\n",
    "#     sum = 0.\n",
    "\n",
    "#     norm[0] = 12.;\n",
    "#     norm[1] = 84.;\n",
    "\n",
    "#     coeff[0][0] = -125.;\n",
    "#     coeff[0][1] =  136.;\n",
    "#     coeff[0][2] =   48.;\n",
    "#     coeff[0][3] =  -88.;\n",
    "#     coeff[0][4] =   29.;\n",
    "#     coeff[1][0] =  -38.;\n",
    "#     coeff[1][1] =   -2.;\n",
    "#     coeff[1][2] =   24.;\n",
    "#     coeff[1][3] =   26.;\n",
    "#     coeff[1][4] =  -10.;\n",
    "#     coeff[2][0] =    1.;\n",
    "#     coeff[2][1] =   -8.;\n",
    "#     coeff[2][2] =    0.;\n",
    "#     coeff[2][3] =    8.;\n",
    "#     coeff[2][4] =   -1.;\n",
    "#     coeff[3][0] =   10.;\n",
    "#     coeff[3][1] =  -26.;\n",
    "#     coeff[3][2] =  -24.;\n",
    "#     coeff[3][3] =    2.;\n",
    "#     coeff[3][4] =   38.;\n",
    "#     coeff[4][0] =  -29.;\n",
    "#     coeff[4][1] =   88.;\n",
    "#     coeff[4][2] =  -48.;\n",
    "#     coeff[4][3] = -136.;\n",
    "#     coeff[4][4] =  125.;\n",
    "\n",
    "#     for i in range(0, 5):\n",
    "#         sum += coeff[pos][i]*x[i];\n",
    "    \n",
    "#     if pos == 'MIDDLE':\n",
    "#         sum /= norm[0];\n",
    "    \n",
    "#     else:\n",
    "#         sum /= norm[1];\n",
    "\n",
    "\n",
    "#     return sum"
   ]
  },
  {
   "cell_type": "code",
   "execution_count": null,
   "metadata": {
    "ExecuteTime": {
     "end_time": "2021-03-18T22:24:33.684823Z",
     "start_time": "2021-03-18T22:24:33.680886Z"
    }
   },
   "outputs": [],
   "source": [
    "from RingLaser import RingLaser\n",
    "\n",
    "## define G-Ring\n",
    "G = RingLaser(side=4., form=\"square\", wl=632.8e-9, lat=49.16)\n",
    "\n",
    "## define ROMY Z-Ring\n",
    "ROMY_Z = RingLaser(side=11., form=\"triangle\", wl=632.8e-9, lat=49.16)\n"
   ]
  },
  {
   "cell_type": "markdown",
   "metadata": {},
   "source": [
    "### Own Plotting Methods"
   ]
  },
  {
   "cell_type": "code",
   "execution_count": null,
   "metadata": {
    "ExecuteTime": {
     "end_time": "2021-03-18T22:24:33.688448Z",
     "start_time": "2021-03-18T22:24:33.686300Z"
    }
   },
   "outputs": [],
   "source": [
    "from MakeplotTraceAndSpectrum import __makeplot_trace_and_spectrum\n",
    "from MakeplotTraceAndPSD import __makeplot_trace_and_psd\n",
    "from MakeplotModulatedSignal import __makeplot_modulated_signal"
   ]
  },
  {
   "cell_type": "markdown",
   "metadata": {},
   "source": [
    "## Configurations"
   ]
  },
  {
   "cell_type": "code",
   "execution_count": null,
   "metadata": {
    "ExecuteTime": {
     "end_time": "2021-03-18T22:24:33.693623Z",
     "start_time": "2021-03-18T22:24:33.689851Z"
    }
   },
   "outputs": [],
   "source": [
    "\n",
    "T = 1000\n",
    "\n",
    "sps = 5000\n",
    "\n",
    "sgnc = ROMY_Z.get_sagnac_frequency()\n",
    "\n",
    "\n",
    "modulation_index = ROMY_Z.get_scale_factor()\n",
    "\n",
    "modulation_scheme = 3\n",
    "\n",
    "\n",
    "taper_type = \"window\"\n",
    "taper_percent = 0.2\n",
    "\n",
    "\n",
    "upsampling_factor = 2\n",
    "\n",
    "\n",
    "f_lower_bp, f_upper_bp = 545, 558\n",
    "\n",
    "\n",
    "signal = 'real'  ## 'synthetic'  or 'real'\n",
    "\n",
    "\n",
    "Twindow = 800 # seconds\n",
    "\n",
    "upsampling = False\n",
    "\n",
    "bandpass_pre = True\n",
    "lowpass_post = True\n",
    "\n",
    "normalize = True\n",
    "remove_median = True\n"
   ]
  },
  {
   "cell_type": "markdown",
   "metadata": {},
   "source": [
    "## Read synthetic"
   ]
  },
  {
   "cell_type": "code",
   "execution_count": null,
   "metadata": {
    "ExecuteTime": {
     "end_time": "2021-03-18T22:24:33.702853Z",
     "start_time": "2021-03-18T22:24:33.697329Z"
    },
    "code_folding": [
     2
    ]
   },
   "outputs": [],
   "source": [
    "import pickle\n",
    "\n",
    "if signal == 'synthetic':\n",
    "\n",
    "    name = 'greece2'  # 'model_greece' (greece), 'model_lowperiod' (kermadec 0.001-0.1 Hz), 'car' (1.0-10.0 Hz), 'eigenmodes' (0.003-0.03 Hz)\n",
    "    \n",
    "    ifile = open(f'/home/andbro/notebooks/Sagnac_processing/data/{name}.syn',\"rb\")\n",
    "\n",
    "    synthetic_signal = pickle.load(ifile)\n",
    "    timeline = np.arange(0, T+1/sps, 1/sps)\n",
    "    \n",
    "    ifile = open(f'/home/andbro/notebooks/Sagnac_processing/data/{name}.mod',\"rb\")\n",
    "        \n",
    "    modeltrace = pickle.load(ifile)\n",
    "    time_modeltrace = np.arange(0, T+1/sps, 1/sps)\n",
    "    \n",
    "    synthetic_signal.size, timeline.size, modeltrace.size, time_modeltrace.size"
   ]
  },
  {
   "cell_type": "markdown",
   "metadata": {},
   "source": [
    "## Read raw real"
   ]
  },
  {
   "cell_type": "code",
   "execution_count": null,
   "metadata": {
    "ExecuteTime": {
     "end_time": "2021-03-18T22:24:33.710605Z",
     "start_time": "2021-03-18T22:24:33.706139Z"
    }
   },
   "outputs": [],
   "source": [
    "from andbro__querrySeismoData import __querrySeismoData\n",
    "\n",
    "tbeg = UTCDateTime(\"2021-03-04 18:35\")\n",
    "tend = UTCDateTime(\"2021-03-04 18:35\")+T\n"
   ]
  },
  {
   "cell_type": "code",
   "execution_count": null,
   "metadata": {
    "ExecuteTime": {
     "end_time": "2021-03-18T22:24:34.254898Z",
     "start_time": "2021-03-18T22:24:33.713458Z"
    },
    "code_folding": [
     0
    ]
   },
   "outputs": [],
   "source": [
    "if signal == 'real':\n",
    "    \n",
    "    # st = read('/home/andbro/Documents/ROMY/data/BW.DROMY..FJZ.D.2021.049', \n",
    "    #          starttime=UTCDateTime(\"2021-02-18 15:00\"),\n",
    "    #          endtime=UTCDateTime(\"2021-02-18 15:00\")+T,\n",
    "    #          )\n",
    "\n",
    "    st = obspy.read(f\"/home/andbro/notebooks/Sagnac_processing/data/event_T{T}.mseed\")\n",
    "\n",
    "#     st, inv = __querrySeismoData(    \n",
    "#                                 seed_id='BW.DROMY..FJZ',\n",
    "#                                 starttime=tbeg,\n",
    "#                                 endtime=tend,\n",
    "#                                 where=\"george\",\n",
    "#                                 path=None,\n",
    "#                                 restitute=True,\n",
    "#                                 detail=None,\n",
    "#                                 )\n",
    "\n",
    "#     st.write(f\"/home/andbro/notebooks/Sagnac_processing/data/event_T{T}.mseed\", format=\"MSEED\")\n",
    "\n",
    "    print(st)\n",
    "    # st.taper(0.01)\n",
    "\n",
    "    ## define synthetic signal\n",
    "    synthetic_signal = st[0].data; del st\n",
    "\n",
    "    ## normalized signal\n",
    "    synthetic_signal = __normalize(synthetic_signal)\n",
    "    \n",
    "    ## define time axis for synthetic axis\n",
    "    timeline = np.linspace(0, T, len(synthetic_signal))\n",
    "    "
   ]
  },
  {
   "cell_type": "code",
   "execution_count": null,
   "metadata": {
    "ExecuteTime": {
     "end_time": "2021-03-18T22:24:36.166606Z",
     "start_time": "2021-03-18T22:24:34.257094Z"
    },
    "code_folding": [
     0
    ]
   },
   "outputs": [],
   "source": [
    "if signal == 'real':\n",
    "    \n",
    "    # trace = read('/home/andbro/Documents/ROMY/data/ROMY_BJZ_2021-02-18.mseed',\n",
    "    #             starttime= UTCDateTime(\"2021-02-18 14:59\"), \n",
    "    #             endtime=UTCDateTime(\"2021-02-18 15:00\")+T+1\n",
    "    #             )\n",
    "\n",
    "    trace, inv = __querrySeismoData(    \n",
    "                                seed_id='BW.ROMY.10.BJZ',\n",
    "                                starttime=tbeg-1,\n",
    "                                endtime=tend+1,\n",
    "                                where=\"george\",\n",
    "                                path=None,\n",
    "                                restitute=True,\n",
    "                                detail=None,\n",
    "                                 )\n",
    "\n",
    "    ## resample to sps and remove mean\n",
    "    trace.resample(sps)\n",
    "    trace.detrend('demean')\n",
    "\n",
    "    ## adjust length to match signal\n",
    "    trace.trim(starttime=tbeg, endtime=tend+T)\n",
    "    print(trace)\n",
    "\n",
    "    ## define model trace\n",
    "    modeltrace = trace[0].data; del trace\n",
    "\n",
    "    ## define time axis for model trace\n",
    "    time_modeltrace = np.linspace(0, T, len(modeltrace))\n",
    "   "
   ]
  },
  {
   "cell_type": "code",
   "execution_count": null,
   "metadata": {
    "ExecuteTime": {
     "end_time": "2021-03-18T22:24:38.632501Z",
     "start_time": "2021-03-18T22:24:36.168955Z"
    }
   },
   "outputs": [],
   "source": [
    "__makeplot_trace_and_spectrum(modeltrace, time_modeltrace, fmax=5); "
   ]
  },
  {
   "cell_type": "markdown",
   "metadata": {},
   "source": [
    "## Remove Median"
   ]
  },
  {
   "cell_type": "markdown",
   "metadata": {},
   "source": [
    "Median is calulcated and removed since not relevant for instanenous frequency. "
   ]
  },
  {
   "cell_type": "code",
   "execution_count": null,
   "metadata": {
    "ExecuteTime": {
     "end_time": "2021-03-18T22:24:38.712261Z",
     "start_time": "2021-03-18T22:24:38.634839Z"
    }
   },
   "outputs": [],
   "source": [
    "if remove_median:\n",
    "    med = np.median(synthetic_signal)\n",
    "    synthetic_signal= synthetic_signal - np.median(synthetic_signal)\n"
   ]
  },
  {
   "cell_type": "code",
   "execution_count": null,
   "metadata": {
    "ExecuteTime": {
     "end_time": "2021-03-18T22:24:39.558210Z",
     "start_time": "2021-03-18T22:24:38.714100Z"
    }
   },
   "outputs": [],
   "source": [
    "__makeplot_trace_and_psd(synthetic_signal, timeline, fmax=0.5*sps, t1=50, t2=50.02); "
   ]
  },
  {
   "cell_type": "markdown",
   "metadata": {},
   "source": [
    "## Upsampling"
   ]
  },
  {
   "cell_type": "markdown",
   "metadata": {},
   "source": [
    "Upsampling using a scipy method called 'resample()' which is based on the FFT\n",
    "\n",
    "https://docs.scipy.org/doc/scipy/reference/generated/scipy.signal.resample.html#scipy.signal.resample"
   ]
  },
  {
   "cell_type": "code",
   "execution_count": null,
   "metadata": {
    "ExecuteTime": {
     "end_time": "2021-03-18T22:24:39.566872Z",
     "start_time": "2021-03-18T22:24:39.559920Z"
    },
    "code_folding": [
     1
    ]
   },
   "outputs": [],
   "source": [
    "\n",
    "def __interpolation_fft(trace, time, T, sps):\n",
    "    \n",
    "    from scipy.signal import resample\n",
    "    from numpy import arange\n",
    "    \n",
    "    ## interpolate modeltrace to sps \n",
    "    l1 = trace.size\n",
    "    \n",
    "    trace = resample(trace, int(T*sps+1)) ## using FFT\n",
    "#     time = resample(time, int(T*sps+1))    \n",
    "    \n",
    "    l2 = trace.size\n",
    "    \n",
    "    print(f\"modeltrace is interpolated: {l1} samples --> {l2} samples\")\n",
    "#     print(f\"time_modeltrace is interpolated: {l1} samples --> {l2} samples\")\n",
    "\n",
    "    time = np.arange(0, T+1/sps, 1/sps)\n",
    "\n",
    "    return trace, time\n"
   ]
  },
  {
   "cell_type": "markdown",
   "metadata": {},
   "source": [
    "Upsampling using a scipy method called 'resample_poly()' based on a fir filter. up / down = sampling rate, where down is estimated. \n",
    "\n",
    "https://docs.scipy.org/doc/scipy/reference/generated/scipy.signal.resample_poly.html"
   ]
  },
  {
   "cell_type": "code",
   "execution_count": null,
   "metadata": {
    "ExecuteTime": {
     "end_time": "2021-03-18T22:24:39.575771Z",
     "start_time": "2021-03-18T22:24:39.570840Z"
    },
    "code_folding": [
     1
    ]
   },
   "outputs": [],
   "source": [
    "\n",
    "def __upsample_FIR(signal_in, sps, T, sampling_factor=2):\n",
    "    \n",
    "    from scipy.signal import upfirdn, resample_poly\n",
    "    \n",
    "    lower = 50\n",
    "    upper = sampling_factor*lower\n",
    "    \n",
    "    signal_out = resample_poly(signal_in, upper, lower, padtype=\"line\") ## using FIR filter\n",
    "    \n",
    "    ## adjsut sampling frequency with sampling factor\n",
    "    sps_new = int(sps*sampling_factor)\n",
    "    \n",
    "    ## adjust time axis\n",
    "    time_out = np.arange(0, T+1/sps_new, 1/sps_new)\n",
    "    \n",
    "    return signal_out[:-1], time_out\n"
   ]
  },
  {
   "cell_type": "code",
   "execution_count": null,
   "metadata": {
    "ExecuteTime": {
     "end_time": "2021-03-18T22:24:39.582626Z",
     "start_time": "2021-03-18T22:24:39.579302Z"
    },
    "code_folding": []
   },
   "outputs": [],
   "source": [
    "if upsampling:\n",
    "    \n",
    "    upsampling_factor = 2\n",
    "    \n",
    "#     synthetic_signal, timeline = __upsample_FIR(synthetic_signal, sps, T, sampling_factor=upsampling_factor)\n",
    "\n",
    "    synthetic_signal, timeline = __interpolation_fft(synthetic_signal, timeline, T, sps*upsampling_factor)\n",
    "    \n",
    "    sps = sps*upsampling_factor"
   ]
  },
  {
   "cell_type": "code",
   "execution_count": null,
   "metadata": {
    "ExecuteTime": {
     "end_time": "2021-03-18T22:24:39.589939Z",
     "start_time": "2021-03-18T22:24:39.586625Z"
    }
   },
   "outputs": [],
   "source": [
    "synthetic_signal.size, timeline.size, sps, timeline[-1]"
   ]
  },
  {
   "cell_type": "code",
   "execution_count": null,
   "metadata": {
    "ExecuteTime": {
     "end_time": "2021-03-18T22:24:40.450830Z",
     "start_time": "2021-03-18T22:24:39.591235Z"
    }
   },
   "outputs": [],
   "source": [
    "__makeplot_trace_and_psd(synthetic_signal, timeline, fmax=0.5*sps, t1=50, t2=50.02); "
   ]
  },
  {
   "cell_type": "markdown",
   "metadata": {},
   "source": [
    "## Bandpass"
   ]
  },
  {
   "cell_type": "code",
   "execution_count": null,
   "metadata": {
    "ExecuteTime": {
     "end_time": "2021-03-18T22:24:44.720526Z",
     "start_time": "2021-03-18T22:24:40.452856Z"
    }
   },
   "outputs": [],
   "source": [
    "if bandpass_pre:\n",
    "\n",
    "    ## create butterworth bandpass\n",
    "    b, a = butter(4, [f_lower_bp, f_upper_bp], 'bp', fs=sps)\n",
    "\n",
    "    ## apply butterworth bandpass forward and backwards\n",
    "    synthetic_signal = filtfilt(b, a, synthetic_signal, method=\"gust\")\n"
   ]
  },
  {
   "cell_type": "code",
   "execution_count": null,
   "metadata": {
    "ExecuteTime": {
     "end_time": "2021-03-18T22:24:45.622433Z",
     "start_time": "2021-03-18T22:24:44.721469Z"
    }
   },
   "outputs": [],
   "source": [
    "__makeplot_trace_and_psd(synthetic_signal, timeline, fmax=0.5*sps, t1=50, t2=50.02); "
   ]
  },
  {
   "cell_type": "markdown",
   "metadata": {},
   "source": [
    "# Demodulation"
   ]
  },
  {
   "cell_type": "markdown",
   "metadata": {
    "ExecuteTime": {
     "end_time": "2021-01-29T15:18:35.118865Z",
     "start_time": "2021-01-29T15:18:35.114054Z"
    }
   },
   "source": [
    "In order to evaluate the demodulated signal it is compared to the kown synthetic signalthe. For this, the median is substracted and 1% of the edges are cut off. Then both, the orignal and the retrieved signal are normalized and a cross-correlation calculated."
   ]
  },
  {
   "cell_type": "code",
   "execution_count": null,
   "metadata": {
    "ExecuteTime": {
     "end_time": "2021-03-18T22:24:45.627250Z",
     "start_time": "2021-03-18T22:24:45.624161Z"
    },
    "code_folding": [
     0
    ]
   },
   "outputs": [],
   "source": [
    "\n",
    "# def __insta_freq_sinus_fit(time, signal, samples_to_fit, shift_samples, sgnc):\n",
    "\n",
    "#     '''\n",
    "#     Fitting a sin-function to the resampled data to\n",
    "#     estimate an instantaneous frequency \n",
    "    \n",
    "#     '''\n",
    "    \n",
    "#     from tqdm import tqdm \n",
    "#     from scipy import optimize\n",
    "    \n",
    "#     ## check if samples_to_fit is an even integer\n",
    "#     if str(type(samples_to_fit)) != \"<class 'int'>\" or samples_to_fit%2 != 0:\n",
    "#         print(\"samples_to_fit should be an even integer\") \n",
    "    \n",
    "#     hs = int(samples_to_fit/2)\n",
    "    \n",
    "    \n",
    "#     ## hanning tapered sine function \n",
    "#     def func(x, a, b): \n",
    "#         return a * np.sin(2*np.pi* b * x) * np.hanning(len(x))\n",
    "\n",
    "    \n",
    "#     ## get delta t\n",
    "#     if abs((time[2]-time[1]) - (time[-2]-time[-3])) > 1e-10:\n",
    "#         print(\"problem with sampling interval!\")\n",
    "#     else:\n",
    "#         dt = (time[2]-time[1])\n",
    "    \n",
    "        \n",
    "#     amps=[]\n",
    "#     freq=[]\n",
    "\n",
    "#     ## create time refernce \n",
    "#     tt = np.arange(samples_to_fit/2, len(time)-samples_to_fit/2, shift_samples) \n",
    "\n",
    "    \n",
    "#     for idx in tqdm(tt):\n",
    "#         idx = int(idx)\n",
    "        \n",
    "#         ## start values for fitting\n",
    "#         a0 = 1.0\n",
    "#         b0 = 0\n",
    "#         b1 = sgnc\n",
    "        \n",
    "#         ## condition for fit\n",
    "#         while abs(b0-b1) > 0.05:\n",
    "#             b0 = b1\n",
    "#             params, params_covariance = optimize.curve_fit(func, time[idx-hs:idx+hs], \n",
    "#                                                            np.hanning(len(signal[idx-hs:idx+hs]))*signal[idx-hs:idx+hs],\n",
    "#                                                            p0=[a0, b0]\n",
    "#                                                           )\n",
    "#             b1 = params[1]\n",
    "\n",
    "\n",
    "#         amps.append(params[0])\n",
    "#         freq.append(params[1])\n",
    "    \n",
    "#     ## convert lists to arrays\n",
    "#     amps = np.array(amps)\n",
    "#     freq = np.array(freq)\n",
    "    \n",
    "    \n",
    "#     ## instert nan value for time zero (exluded because of np.diff() ) \n",
    "#     #freq = np.insert(freq, 0, np.nan, axis=0)\n",
    "#     #tt   = np.insert(tt, 0, 0.0, axis=0)\n",
    "#     for f in freq:\n",
    "#         if f == 0:\n",
    "#             print(\"at least one frequency estimated to zero!\")\n",
    "#         if str(f) == \"nan\":\n",
    "#             print(\"at least one frequency estimated to nan!\")\n",
    "           \n",
    "        \n",
    "#     ## extend frequency array for one sample at start and end \n",
    "#     #frequencies = np.concatenate((np.zeros(1), freq, np.zeros(1)), axis=0)       \n",
    "#     frequencies = np.concatenate((np.ones(1)*sgnc, freq, np.ones(2)*sgnc), axis=0)       \n",
    "\n",
    "#     ## calculate correct timeline\n",
    "#     delta = dt*shift_samples\n",
    "#     times = np.arange(0,len(frequencies)*delta,delta)\n",
    "                                \n",
    "#     print(len(time), len(signal), ) \n",
    "#     print(len(frequencies), len(times), times[0], times[-1])\n",
    "\n",
    "    \n",
    "#     ## _______________________________________________________________________________\n",
    "\n",
    "# #     fig, ax = plt.subplots(1,1,figsize=(15,5))\n",
    "\n",
    "    \n",
    "# #     i = 1000\n",
    "# #     idx1 = i - hs\n",
    "# #     idx2 = i + hs\n",
    "    \n",
    "# #     xx = np.linspace(time[idx1],time[idx2],samples_to_fit*8) \n",
    "    \n",
    "# #     ax.scatter(time[idx1:idx2], np.hanning(len(signal[idx1:idx2]))*signal[idx1:idx2], s=10, color='black')\n",
    "# #     ax.plot(xx, func(xx, params[0], params[1]), color='red')\n",
    "\n",
    "\n",
    "\n",
    "# #     plt.show();\n",
    "    \n",
    "# #     ## _______________________________________________________________________________\n",
    "   \n",
    "    \n",
    "#     return  times , frequencies\n"
   ]
  },
  {
   "cell_type": "code",
   "execution_count": null,
   "metadata": {
    "ExecuteTime": {
     "end_time": "2021-03-18T22:24:45.644858Z",
     "start_time": "2021-03-18T22:24:45.629859Z"
    },
    "code_folding": []
   },
   "outputs": [],
   "source": [
    "# samples_to_fit = 10\n",
    "# shift_samples  = 5\n",
    "# time_demod_signal, demod_signal = __insta_freq_sinus_fit(timeline, \n",
    "#                                                          synthetic_signal, \n",
    "#                                                          samples_to_fit, \n",
    "#                                                          shift_samples, \n",
    "#                                                          sgnc,\n",
    "#                                                          ); "
   ]
  },
  {
   "cell_type": "code",
   "execution_count": null,
   "metadata": {
    "ExecuteTime": {
     "end_time": "2021-03-18T22:25:15.192953Z",
     "start_time": "2021-03-18T22:25:15.185994Z"
    },
    "code_folding": [
     1
    ]
   },
   "outputs": [],
   "source": [
    "\n",
    "# def __insta_freq_hilbert(sig_in, time_in, fs):\n",
    "    \n",
    "#     ''' Estimation of the instantaneous frequency (modulated signal) by using integrated python methods '''\n",
    "    \n",
    "#     sig_hil = hilbert(sig_in)\n",
    "    \n",
    "#     insta_phase = np.unwrap(np.angle(sig_hil))\n",
    "    \n",
    "#     insta_freq  = 2* (np.diff(insta_phase) / (2.0 * np.pi)  * fs)\n",
    "\n",
    "#     ## instert nan value for time zero (exluded bevause of np.diff() ) \n",
    "#     insta_freq = np.insert(insta_freq, 0, np.nan, axis=0)\n",
    "    \n",
    "#     ## first sample is nan and replaced with second \n",
    "#     insta_freq[0] = insta_freq[1]\n",
    "    \n",
    "    \n",
    "#     return  insta_freq, time_in\n"
   ]
  },
  {
   "cell_type": "code",
   "execution_count": null,
   "metadata": {
    "ExecuteTime": {
     "end_time": "2021-03-18T22:30:52.707376Z",
     "start_time": "2021-03-18T22:30:50.266685Z"
    }
   },
   "outputs": [],
   "source": [
    "# demod_signal, time_demod_signal = __insta_freq_hilbert(synthetic_signal, timeline, sps)\n",
    "\n",
    "# demod_signal = demod_signal - np.median(demod_signal)\n",
    "\n",
    "# num = int(10*5000)\n",
    "# demod_signal[:num] = 0\n",
    "# demod_signal[-num:] = 0"
   ]
  },
  {
   "cell_type": "code",
   "execution_count": null,
   "metadata": {
    "ExecuteTime": {
     "end_time": "2021-03-18T22:27:56.203200Z",
     "start_time": "2021-03-18T22:27:56.198743Z"
    },
    "code_folding": [
     1
    ]
   },
   "outputs": [],
   "source": [
    "\n",
    "def __hibert_filter(sig_in, time_in, fs):\n",
    "    \n",
    "    '''\n",
    "    estimating the instantaneous frequency by using the formula of Jo\n",
    "    \n",
    "    sig_in    = input signal\n",
    "    time_in   = input timeline\n",
    "    fs        = sampling frequency of digital signal\n",
    "    '''\n",
    "\n",
    "    def __check_for_NaN(array):\n",
    "        \n",
    "        sum0, idx = 0, []\n",
    "        for k, x in enumerate(array):\n",
    "            if np.isnan(x):\n",
    "                sum0 += 1\n",
    "                idx.append(k)\n",
    "\n",
    "        if sum0 != 0:\n",
    "            print(sum0, f\" nan found of {len(array)}\")\n",
    "    \n",
    "        return(idx)\n",
    "            \n",
    "            \n",
    "            \n",
    "    ## calulcate hilbert transform\n",
    "    hil0 = hilbert(sig_in)\n",
    "    \n",
    "    ## extract imaginary part of hilbert transform \n",
    "    hil = np.imag(hil0)\n",
    "    \n",
    "#     env = abs(hil)\n",
    "#     hil = hil/max(env)\n",
    "    \n",
    "    ## calculate derivatives (second order central differences)\n",
    "    d_hil = np.gradient(hil, edge_order=1)*fs\n",
    "    d_sig = np.gradient(sig_in, edge_order=1)*fs\n",
    "    \n",
    "    \n",
    "    ## check if nan are in derivative\n",
    "    idx = __check_for_NaN(d_hil)\n",
    "    \n",
    "    \n",
    "#     delta_f_full = (sig_in * d_hil - d_sig * hil) / (2*np.pi*np.sqrt(sig_in**2 + hil**2))\n",
    "    \n",
    "    ## without sqrt as found on Wikipedia\n",
    "    delta_f_full = (sig_in * d_hil - d_sig * hil) / (2*np.pi*(sig_in**2 + hil**2))\n",
    "\n",
    "\n",
    "    ## extract real part\n",
    "    delta_f = np.real(delta_f_full)\n",
    "    \n",
    "    \n",
    "    ## instert nan value for time zero (exluded bevause of np.diff() ) \n",
    "    idx = __check_for_NaN(delta_f)\n",
    "    \n",
    "    for l in idx:\n",
    "        delta_f[l] = 0.0\n",
    "\n",
    "    \n",
    "    return time_in, delta_f\n"
   ]
  },
  {
   "cell_type": "code",
   "execution_count": null,
   "metadata": {
    "ExecuteTime": {
     "end_time": "2021-03-18T22:27:56.209590Z",
     "start_time": "2021-03-18T22:27:56.204913Z"
    },
    "code_folding": [
     1
    ]
   },
   "outputs": [],
   "source": [
    "\n",
    "def __demodulate(x, y, Twindow, sps):\n",
    "\n",
    "    window_size = int(Twindow * sps)\n",
    "\n",
    "    stepsize = int(window_size/2) \n",
    "\n",
    "    out1, out2 = np.array([]), np.array([])\n",
    "    for i in tqdm(range(0,len(x), stepsize)):\n",
    "\n",
    "        if int(i+window_size) > len(x):\n",
    "            print(f\"break for {i/sps}\")\n",
    "            break\n",
    "\n",
    "        win1 = x[i:int(i+window_size)]\n",
    "        win2 = y[i:int(i+window_size)]\n",
    "\n",
    "\n",
    "\n",
    "        t, sig = __hibert_filter(win1, win2, sps)\n",
    "\n",
    "    #     plt.plot(t[int(stepsize/2):window_size-int(stepsize/2)], sig[int(stepsize/2):window_size-int(stepsize/2)])\n",
    "    #     plt.show();\n",
    "\n",
    "        out1 = np.append(out1, sig[int(stepsize/2):window_size-int(stepsize/2)])\n",
    "        out2 = np.append(out2, t[int(stepsize/2):window_size-int(stepsize/2)])\n",
    "    #     plt.plot(out2,out1)\n",
    "\n",
    "    return out1, out2\n"
   ]
  },
  {
   "cell_type": "code",
   "execution_count": null,
   "metadata": {
    "ExecuteTime": {
     "end_time": "2021-03-18T22:28:03.737387Z",
     "start_time": "2021-03-18T22:27:56.211123Z"
    },
    "code_folding": []
   },
   "outputs": [],
   "source": [
    "\n",
    "# Twindow = 100 # seconds\n",
    "\n",
    "demod_signal, time_demod_signal = __demodulate(synthetic_signal, timeline, Twindow, sps)\n",
    "\n",
    "time_demod_signal.size, demod_signal.size"
   ]
  },
  {
   "cell_type": "code",
   "execution_count": null,
   "metadata": {
    "ExecuteTime": {
     "end_time": "2021-03-18T22:28:03.739334Z",
     "start_time": "2021-03-18T22:27:55.741Z"
    }
   },
   "outputs": [],
   "source": [
    "\n",
    "# time_demod_signal, demod_signal = __hibert_filter(synthetic_signal, timeline, sps)\n"
   ]
  },
  {
   "cell_type": "code",
   "execution_count": null,
   "metadata": {
    "ExecuteTime": {
     "end_time": "2021-03-18T22:30:55.403057Z",
     "start_time": "2021-03-18T22:30:52.709826Z"
    }
   },
   "outputs": [],
   "source": [
    "__makeplot_trace_and_spectrum(demod_signal, time_demod_signal, fmax=2); \n",
    "__makeplot_trace_and_psd(demod_signal, time_demod_signal, fmax=0.5*sps, t1=100, t2=101); "
   ]
  },
  {
   "cell_type": "markdown",
   "metadata": {},
   "source": [
    "### Remove Offset"
   ]
  },
  {
   "cell_type": "code",
   "execution_count": null,
   "metadata": {
    "ExecuteTime": {
     "end_time": "2021-03-18T22:30:57.010802Z",
     "start_time": "2021-03-18T22:30:56.969575Z"
    },
    "code_folding": [
     0
    ]
   },
   "outputs": [],
   "source": [
    "print(f\"theo. Sagnac Frequencs: {sgnc} Hz\")\n",
    "print(f\"Median Demodulated Signal: {np.median(demod_signal)}\")\n",
    "\n",
    "\n",
    "# demod_signal = demod_signal - sgnc\n",
    "demod_signal = demod_signal - np.median(demod_signal)"
   ]
  },
  {
   "cell_type": "markdown",
   "metadata": {},
   "source": [
    "### Padding Edges"
   ]
  },
  {
   "cell_type": "code",
   "execution_count": null,
   "metadata": {
    "ExecuteTime": {
     "end_time": "2021-03-18T22:30:57.544532Z",
     "start_time": "2021-03-18T22:30:57.514441Z"
    }
   },
   "outputs": [],
   "source": [
    "## samples from left and right to be ignored due to dynamic demodulation\n",
    "index1 = int(time_demod_signal[0]*sps)+1\n",
    "\n",
    "if upsampling:\n",
    "    index2 = int(int(T-time_demod_signal[-1])*sps)+1\n",
    "else:\n",
    "    index2 = int(int(T-time_demod_signal[-1])*sps)+1\n",
    "\n",
    "## padding demodulated signal at the edges\n",
    "demod_signal = np.pad(demod_signal, (index1, index2), constant_values=(0, 0))\n",
    "\n",
    "## adjust time axis\n",
    "time_demod_signal = np.arange(len(demod_signal))/sps\n",
    "\n",
    "\n",
    "\n",
    "time_demod_signal.size, demod_signal.size, index1, index2"
   ]
  },
  {
   "cell_type": "code",
   "execution_count": null,
   "metadata": {
    "ExecuteTime": {
     "end_time": "2021-03-18T22:30:59.309472Z",
     "start_time": "2021-03-18T22:30:57.728924Z"
    },
    "scrolled": false
   },
   "outputs": [],
   "source": [
    "# __makeplot_trace_and_psd(demod_signal, time_demod_signal, fmax=0.5*sps, t1=100, t2=101); \n",
    "__makeplot_trace_and_spectrum(demod_signal, time_demod_signal, fmax=1.0); "
   ]
  },
  {
   "cell_type": "markdown",
   "metadata": {
    "ExecuteTime": {
     "end_time": "2021-02-23T22:51:28.698061Z",
     "start_time": "2021-02-23T22:50:38.717Z"
    }
   },
   "source": [
    "### Downsampling "
   ]
  },
  {
   "cell_type": "code",
   "execution_count": null,
   "metadata": {
    "ExecuteTime": {
     "end_time": "2021-03-18T22:30:59.313721Z",
     "start_time": "2021-03-18T22:30:59.310743Z"
    },
    "code_folding": [
     1
    ]
   },
   "outputs": [],
   "source": [
    "\n",
    "def __downsample(signal_in, sps, ds_factor=2):\n",
    "\n",
    "    \n",
    "    ## downsample using a FIR filter\n",
    "    signal_out = decimate(signal_in, ds_factor, n=None, ftype='fir', axis=-1, zero_phase=True)\n",
    "\n",
    "\n",
    "    ## adjust sampling frequency\n",
    "    sps = int(sps/ds_factor)\n",
    "\n",
    "    ## adjust time axis\n",
    "    time_out = np.arange(signal_out.size)/sps\n",
    "\n",
    "    return signal_out, time_out, sps\n"
   ]
  },
  {
   "cell_type": "code",
   "execution_count": null,
   "metadata": {
    "ExecuteTime": {
     "end_time": "2021-03-18T22:31:01.324732Z",
     "start_time": "2021-03-18T22:30:59.316135Z"
    }
   },
   "outputs": [],
   "source": [
    "if upsampling:\n",
    "\n",
    "    \n",
    "    downsampling_factor = 2\n",
    "\n",
    "    sps0 = sps ## prevent overwriting\n",
    "    demod_signal, time_demod_signal, sps = __downsample(demod_signal, sps0, ds_factor=downsampling_factor)\n",
    "#     modeltrace, time_modeltrace, sps = __downsample(modeltrace, sps0, ds_factor=downsampling_factor)\n",
    "    \n",
    "\n",
    "    ## adjust index after resampling\n",
    "    index1=int(index1/downsampling_factor)\n",
    "    index2=int(index2/downsampling_factor)\n",
    "    \n",
    "\n",
    "if lowpass_post:\n",
    "    \n",
    "    f_upper = 20\n",
    "    \n",
    "    ## create digital lowpass filter of seconds order section \n",
    "#     sos = butter(10, f_upper, 'lp', fs=sps, output='sos')\n",
    "#     demod_signal = sosfilt(sos, demod_signal)\n",
    "\n",
    "    ## create digital lowpass filter, which is applied forwards and backwards\n",
    "    b, a = butter(4, f_upper, 'lp', fs=sps)\n",
    "    demod_signal = filtfilt(b, a, demod_signal, method=\"gust\")\n",
    "    \n",
    "    ## apply lowpass filter of obspy (using fft)\n",
    "#     tmp = Trace(demod_signal)\n",
    "#     tmp.stats.delta = 1/sps\n",
    "    \n",
    "#     tmp.filter('lowpass', freq=f_upper, corners=4, zerophase=True)\n",
    "#     demod_signal = tmp.data\n",
    "\n",
    "\n",
    "demod_signal.size, time_demod_signal.size"
   ]
  },
  {
   "cell_type": "code",
   "execution_count": null,
   "metadata": {
    "ExecuteTime": {
     "end_time": "2021-03-18T22:31:02.270813Z",
     "start_time": "2021-03-18T22:31:01.325712Z"
    }
   },
   "outputs": [],
   "source": [
    "__makeplot_trace_and_psd(demod_signal, time_demod_signal, fmax=0.5*sps, t1=100, t2=101); \n",
    "# __makeplot_trace_and_spectrum(demod_signal, time_demod_signal, fmax=20'.0); "
   ]
  },
  {
   "cell_type": "markdown",
   "metadata": {},
   "source": [
    "### Normalize"
   ]
  },
  {
   "cell_type": "code",
   "execution_count": null,
   "metadata": {
    "ExecuteTime": {
     "end_time": "2021-03-18T22:31:02.279921Z",
     "start_time": "2021-03-18T22:31:02.272979Z"
    }
   },
   "outputs": [],
   "source": [
    "## apply conversion counts -> volt of obsidian digitizer\n",
    "demod_signal *= 0.59604645e-6"
   ]
  },
  {
   "cell_type": "code",
   "execution_count": null,
   "metadata": {
    "ExecuteTime": {
     "end_time": "2021-03-18T22:31:02.887874Z",
     "start_time": "2021-03-18T22:31:02.281836Z"
    }
   },
   "outputs": [],
   "source": [
    "max(demod_signal), max(modeltrace)"
   ]
  },
  {
   "cell_type": "code",
   "execution_count": null,
   "metadata": {
    "ExecuteTime": {
     "end_time": "2021-03-18T22:32:26.587227Z",
     "start_time": "2021-03-18T22:32:26.583613Z"
    },
    "code_folding": []
   },
   "outputs": [],
   "source": [
    "if normalize:\n",
    "    demod_signal = __normalize(demod_signal)\n",
    "    modeltrace   = __normalize(modeltrace)\n"
   ]
  },
  {
   "cell_type": "code",
   "execution_count": null,
   "metadata": {
    "ExecuteTime": {
     "end_time": "2021-03-18T22:32:29.124962Z",
     "start_time": "2021-03-18T22:32:26.867219Z"
    }
   },
   "outputs": [],
   "source": [
    "# __makeplot_trace_and_psd(demod_signal, time_demod_signal, fmax=0.5*sps, t1=100, t2=101); \n",
    "__makeplot_trace_and_spectrum(demod_signal, time_demod_signal, fmax=1.0); "
   ]
  },
  {
   "cell_type": "markdown",
   "metadata": {},
   "source": [
    "### Cross-Correlation"
   ]
  },
  {
   "cell_type": "code",
   "execution_count": null,
   "metadata": {
    "ExecuteTime": {
     "end_time": "2021-03-18T22:32:30.243421Z",
     "start_time": "2021-03-18T22:32:29.129066Z"
    },
    "code_folding": [
     0
    ]
   },
   "outputs": [],
   "source": [
    "cross_corr = correlate(demod_signal, modeltrace, mode='same')\n",
    "\n",
    "cross_corr_lags = np.arange(-cross_corr.size//2+1,cross_corr.size//2+1,1)"
   ]
  },
  {
   "cell_type": "markdown",
   "metadata": {},
   "source": [
    "### Final Plotting"
   ]
  },
  {
   "cell_type": "code",
   "execution_count": null,
   "metadata": {
    "ExecuteTime": {
     "end_time": "2021-03-18T22:32:30.248482Z",
     "start_time": "2021-03-18T22:32:30.244746Z"
    },
    "code_folding": []
   },
   "outputs": [],
   "source": [
    "if lowpass_post:\n",
    "    cut1 = int(index1)\n",
    "    cut2 = int(len(demod_signal)-index2)\n",
    "else:\n",
    "    cut1 = int(index1)\n",
    "    cut2 = int(len(demod_signal)-index2)   \n",
    "    \n",
    "\n",
    "cut1, cut2"
   ]
  },
  {
   "cell_type": "code",
   "execution_count": null,
   "metadata": {
    "ExecuteTime": {
     "end_time": "2021-03-18T22:32:39.346687Z",
     "start_time": "2021-03-18T22:32:30.249551Z"
    },
    "code_folding": []
   },
   "outputs": [],
   "source": [
    "fig = __makeplot_demodulation_quality(time_modeltrace, \n",
    "                                      modeltrace, \n",
    "                                      time_demod_signal,\n",
    "                                      demod_signal,\n",
    "                                      cross_corr,\n",
    "                                      cross_corr_lags,\n",
    "                                      sps,\n",
    "                                      cut1,\n",
    "                                      cut2,\n",
    "                                      fmax=10\n",
    "                                     );"
   ]
  },
  {
   "cell_type": "code",
   "execution_count": null,
   "metadata": {
    "ExecuteTime": {
     "end_time": "2021-03-18T22:31:15.239004Z",
     "start_time": "2021-03-18T22:31:15.234067Z"
    },
    "code_folding": [
     1
    ]
   },
   "outputs": [],
   "source": [
    "\n",
    "# def __makeplot_evaluation():\n",
    "\n",
    "#     from andbro__fft import __fft\n",
    "\n",
    "#     asd_demod, ff_demod, phase_demod = __fft(demod_signal, 1/sps, window=None, normalize=None)\n",
    "#     asd_model, ff_model, phase_model = __fft(modeltrace, 1/sps, window=None, normalize=None)\n",
    "\n",
    "\n",
    "#     ## __________________________________________________________\n",
    "\n",
    "#     fig, ax = plt.subplots(4,1, figsize=(15,10))\n",
    "\n",
    "#     fig.subplots_adjust(hspace = 0.4)\n",
    "    \n",
    "#     font = 13\n",
    "\n",
    "#     ax[0].plot(time_modeltrace, modeltrace, color='k', lw=2)\n",
    "#     ax[0].plot(time_demod_signal[1000:-1000], demod_signal[1000:-1000], color='green', lw=2)\n",
    "\n",
    "    \n",
    "#     ax[1].plot(ff_model, asd_model, color='k')\n",
    "#     ax[1].plot(ff_demod, asd_demod, color='green')\n",
    "\n",
    "    \n",
    "#     ax[2].plot(ff_model, np.unwrap(phase_model), color='k')\n",
    "#     ax[2].plot(ff_demod, np.unwrap(phase_demod), color='green')\n",
    "\n",
    "    \n",
    "    \n",
    "#     # ax[3].plot(time_modeltrace, modeltrace, color='k')\n",
    "#     # ax[3].plot(time_demod_signal, demod_signal, color='darkred')\n",
    "#     ax[3].axvline(0.0, color=\"grey\", ls=\":\")\n",
    "#     ax[3].plot(cross_corr_lags/sps, cross_corr,'k')\n",
    "\n",
    "    \n",
    "#     ax[0].set_xlabel(\"Frequency (Hz)\", fontsize=font)\n",
    "#     ax[1].set_xlabel(\"Frequency (Hz)\", fontsize=font)\n",
    "#     ax[2].set_xlabel(\"Frequency (Hz)\", fontsize=font)\n",
    "#     ax[3].set_xlabel('lag (s)', fontsize=font)\n",
    "    \n",
    "#     ax[0].set_ylabel('norm. rot. rate', fontsize=font)\n",
    "#     ax[1].set_ylabel(r'spect. amplitude \\n (rad/s $\\sqrt{Hz}$)', fontsize=font)\n",
    "#     ax[2].set_ylabel('unwraped phase', fontsize=font)    \n",
    "#     ax[3].set_ylabel('cross-correlation', fontsize=font)\n",
    "    \n",
    "#     ax[3].tick_params(axis='both', labelsize=font-2)\n",
    "\n",
    "#     x0 = 0.6*max(cross_corr_lags)/sps\n",
    "#     y0 = 0.75*max(cross_corr)\n",
    "\n",
    "#     ax[3].text(x0, y0, f'max. CC at lag {cross_corr_lags[abs(cross_corr).argmax()]/sps} s', fontsize=font)\n",
    "# #     ax[3].text(x0, y0, f'max. CC at lag {cross_corr_lags[abs(cross_corr).argmax()]}', fontsize=font)\n",
    "\n",
    "\n",
    "#     ax[1].set_xlim(0,0.2)\n",
    "\n",
    "#     for i in range(4):\n",
    "#         ax[i].grid(ls='--',zorder=0)\n",
    "\n",
    "# __makeplot_evaluation()    "
   ]
  },
  {
   "cell_type": "code",
   "execution_count": null,
   "metadata": {
    "ExecuteTime": {
     "end_time": "2021-03-18T22:31:15.242530Z",
     "start_time": "2021-03-18T22:31:15.240611Z"
    }
   },
   "outputs": [],
   "source": [
    "# print(modeltrace.size, demod_signal.size)\n",
    "\n",
    "# modeltrace2, time_modeltrace2, sps = __downsample(modeltrace, sps, ds_factor=100)\n",
    "# demod_signal2, time_demod_signal2, sps = __downsample(demod_signal, sps, ds_factor=100)\n",
    "\n",
    "# sps2 = sps / 100\n",
    "# print(modeltrace2.size, demod_signal2.size)\n",
    "\n",
    "# plt.plot(modeltrace2)\n",
    "# plt.plot(demod_signal2)"
   ]
  },
  {
   "cell_type": "markdown",
   "metadata": {
    "ExecuteTime": {
     "end_time": "2021-02-01T10:36:59.647494Z",
     "start_time": "2021-02-01T10:36:59.643870Z"
    }
   },
   "source": [
    "### Save Plot"
   ]
  },
  {
   "cell_type": "code",
   "execution_count": null,
   "metadata": {
    "ExecuteTime": {
     "end_time": "2021-03-18T22:24:14.162775Z",
     "start_time": "2021-03-18T22:24:05.358Z"
    },
    "code_folding": []
   },
   "outputs": [],
   "source": [
    "pname = f\"plot_T{int(T)}_fs{int(sps)}_{signal}_{name}\n",
    "_{Twindow}.png\"\n",
    "\n",
    "fig.savefig(\n",
    "            f\"plots/cases/{pname}\",\n",
    "            dpi=300, facecolor='w', \n",
    "            edgecolor='w',\n",
    "            orientation='portrait', \n",
    "            format=\"png\",\n",
    "            transparent=False, \n",
    "            bbox_inches=\"tight\", \n",
    "            pad_inches=0.2,\n",
    "           )\n"
   ]
  },
  {
   "cell_type": "markdown",
   "metadata": {},
   "source": [
    "## Tests"
   ]
  },
  {
   "cell_type": "code",
   "execution_count": 138,
   "metadata": {
    "ExecuteTime": {
     "end_time": "2021-03-18T23:05:21.365250Z",
     "start_time": "2021-03-18T23:05:21.244192Z"
    }
   },
   "outputs": [
    {
     "data": {
      "text/plain": [
       "<matplotlib.collections.PathCollection at 0x7fef1022fcd0>"
      ]
     },
     "execution_count": 138,
     "metadata": {},
     "output_type": "execute_result"
    },
    {
     "data": {
      "image/png": "[encoded data removed]",
      "text/plain": [
       "<Figure size 432x288 with 1 Axes>"
      ]
     },
     "metadata": {
      "needs_background": "light"
     },
     "output_type": "display_data"
    }
   ],
   "source": [
    "fs = 5000\n",
    "f0 = 500\n",
    "\n",
    "x = np.arange(0, 200/fs, 1/fs)\n",
    "y = np.sin(2*np.pi*(f0*x)**1.)\n",
    "x = x[20:]; y = y[20:]\n",
    "\n",
    "plt.plot(x,y)\n",
    "plt.scatter(x,y,s=5)"
   ]
  },
  {
   "cell_type": "code",
   "execution_count": 139,
   "metadata": {
    "ExecuteTime": {
     "end_time": "2021-03-18T23:05:21.558295Z",
     "start_time": "2021-03-18T23:05:21.548144Z"
    },
    "code_folding": []
   },
   "outputs": [],
   "source": [
    "\n",
    "def __make_spectra_MT(sig_in, fs, method=\"unity\"):\n",
    "    \n",
    "    from spectrum import data_cosine, dpss, pmtm\n",
    "    \n",
    "#     tt = np.arange(samples_to_fit/2, len(time)-samples_to_fit/2, shift_samples) \n",
    "\n",
    "    window_length = len(sig_in)\n",
    "    time_half_bandwidth = 3\n",
    "    first_k_slepian_sequences = 2\n",
    "    \n",
    "    [tapers, eigen] = dpss(window_length, time_half_bandwidth, first_k_slepian_sequences)\n",
    "    \n",
    "    specs = []    \n",
    "\n",
    "    if method == 'unity':\n",
    "\n",
    "        ## call pmtm function of spectrum library\n",
    "        sk_complex, weights, eigen = pmtm(sig_in, e=eigen, v=tapers, show=False, method='unity')\n",
    "\n",
    "        ## right scaling\n",
    "        sk = abs(sk_complex)**2\n",
    "\n",
    "        ## redefine weithgts, since wrong in dimension\n",
    "        weights = np.transpose(np.ones(np.shape(sk)))\n",
    "\n",
    "        ## multiply output sk matrix and weights matrix and average rows \n",
    "        out = np.mean(np.matmul(weights,sk), axis=0)            \n",
    "\n",
    "\n",
    "    elif method == 'adapt':\n",
    "\n",
    "        ## call pmtm function of spectrum library\n",
    "        sk_complex, weights, eigen = pmtm(sig_in, e=eigen, v=tapers, show=False, method='adapt')\n",
    "\n",
    "        ## multiply output sk matrix and weights matrix and average rows \n",
    "\n",
    "        ## right scaling            \n",
    "        sk = abs(sk_complex)**2\n",
    "\n",
    "        ## multiply output sk matrix and weights matrix and average rows             \n",
    "        out = np.mean(np.matmul(weights,sk), axis=1)\n",
    "\n",
    "    ## return one-sided spectrum\n",
    "    out = out[:window_length//2]\n",
    "        \n",
    "    ##gather outputs\n",
    "    specs.append(out)\n",
    "#     del out\n",
    "    \n",
    "    ## generate frequency axius\n",
    "    freqs = np.linspace(0, 0.5*fs, len(specs[0]))         \n",
    "    \n",
    "    return specs, freqs\n"
   ]
  },
  {
   "cell_type": "code",
   "execution_count": 140,
   "metadata": {
    "ExecuteTime": {
     "end_time": "2021-03-18T23:05:21.815234Z",
     "start_time": "2021-03-18T23:05:21.730908Z"
    }
   },
   "outputs": [
    {
     "data": {
      "text/plain": [
       "758.42696629213481"
      ]
     },
     "execution_count": 140,
     "metadata": {},
     "output_type": "execute_result"
    },
    {
     "data": {
      "image/png": "[encoded data removed]",
      "text/plain": [
       "<Figure size 432x288 with 1 Axes>"
      ]
     },
     "metadata": {
      "needs_background": "light"
     },
     "output_type": "display_data"
    }
   ],
   "source": [
    "\n",
    "\n",
    "specs, freqs = __make_spectra_MT(y, fs, method=\"adapt\")\n",
    "\n",
    "plt.plot(freqs, specs[0])\n",
    "\n",
    "freqs[specs[0].argmax()]"
   ]
  },
  {
   "cell_type": "code",
   "execution_count": 141,
   "metadata": {
    "ExecuteTime": {
     "end_time": "2021-03-18T23:05:21.875920Z",
     "start_time": "2021-03-18T23:05:21.871697Z"
    }
   },
   "outputs": [],
   "source": [
    "# from scipy import optimize\n",
    "\n",
    "# fs = 10\n",
    "# f0 = 0.1\n",
    "# y0 = 2\n",
    "# x = np.arange(0, 200/fs, 1/fs)\n",
    "# y = np.sin(2*np.pi*(f0*x)**1.3)\n",
    "# x = x[20:]; y = y[20:]\n",
    "\n",
    "\n",
    "# time = x\n",
    "# samples_to_fit = 6\n",
    "# shift_samples  = 2\n",
    "\n",
    "# ## get delta t\n",
    "# if abs((time[2]-time[1]) - (time[-2]-time[-3])) > 1e-10:\n",
    "#     print(\"problem with sampling interval!\")\n",
    "# else:\n",
    "#     dt = (time[2]-time[1])\n",
    "\n",
    "\n",
    "# amps=[]\n",
    "# freq=[]\n",
    "\n",
    "# hs = int(samples_to_fit/2)\n",
    "\n",
    "# ## create time refernce \n",
    "# tt = np.arange(samples_to_fit/2, len(time)-samples_to_fit/2, shift_samples) \n",
    "\n",
    "\n",
    "\n",
    "# ## hanning tapered sine function \n",
    "# def func(x, a, b): \n",
    "#     return a * np.sin(2*np.pi* b * x) * np.hanning(len(x) )\n",
    "\n",
    "# win = np.hanning(samples_to_fit)\n",
    "\n",
    "# for idx in tqdm(tt):\n",
    "#     idx = int(idx)\n",
    "    \n",
    "    \n",
    "#     ## startvalues for fitting\n",
    "#     a0 = 2.0\n",
    "#     b0 = 1.9\n",
    "#     b_set = 0.1\n",
    "\n",
    "\n",
    "#     while abs(b0-b_set) > 0.05:\n",
    "#         b0 = b_set\n",
    "#         params, params_covariance = optimize.curve_fit(func, time[idx-hs:idx+hs], \n",
    "#                                                        win*y[idx-hs:idx+hs],\n",
    "#                                                        p0=[a0, b0]\n",
    "#                                                       )\n",
    "#         b_set = params[1]\n",
    "\n",
    "\n",
    "#     amps.append(params[0])\n",
    "#     freq.append(params[1])\n",
    "\n",
    "# ## convert lists to arrays\n",
    "# amps = np.array(amps)\n",
    "# freq = np.array(freq)\n",
    "\n",
    "# tt=tt/fs\n",
    "\n",
    "# plt.plot(x,y)\n",
    "# plt.plot(tt, amps*np.sin(2*np.pi*freq*tt))\n"
   ]
  },
  {
   "cell_type": "code",
   "execution_count": null,
   "metadata": {
    "ExecuteTime": {
     "end_time": "2021-03-18T22:24:14.166177Z",
     "start_time": "2021-03-18T22:24:05.371Z"
    },
    "code_folding": [
     1
    ]
   },
   "outputs": [],
   "source": [
    "\n",
    "# def __resample_digital_signal(signal_in, fs, sampling_factor, taper=False):\n",
    "\n",
    "#     ''' \n",
    "#     up-samping of the simulated digital signal \n",
    "    \n",
    "#     sig_in   = input signal\n",
    "#     fs       = sampling frequency of digital signal\n",
    "#     fac      = sampling factor (2 = double)\n",
    "#     taper    = True/False , to either taper or not taper output\n",
    "    \n",
    "#     '''\n",
    "    \n",
    "\n",
    "# #     def butter_bandpass(lowcut, highcut, fs, order=5):\n",
    "# #         nyq = 0.5 * fs\n",
    "# #         low = lowcut / nyq\n",
    "# #         high = highcut / nyq\n",
    "# #         b, a = butter(order, [low, high], btype='band')\n",
    "# #         return b, a\n",
    "\n",
    "\n",
    "# #     def butter_bandpass_filter(data, lowcut, highcut, fs, order=5):\n",
    "# #         b, a = butter_bandpass(lowcut, highcut, fs, order=order)\n",
    "# #         y = lfilter(b, a, data)\n",
    "# #         return y\n",
    "\n",
    "\n",
    "#     def resampling(sig_in, factor, fs, case):\n",
    "\n",
    "#         if case == 1:\n",
    "#             sig_out = resample(sig_in, len(sig_in)*factor)\n",
    "\n",
    "#         elif case == 2:\n",
    "#             sig = list(sig_in); i=0\n",
    "\n",
    "#             while i < len(sig):\n",
    "#                 sig.insert(i, 0.0)\n",
    "#                 i += 2\n",
    "#             sig_out = np.array(sig)\n",
    "\n",
    "#         t_out = np.arange(0,len(sig_in)/fs,1/(fs*factor))\n",
    "\n",
    "#         return  (sig_out, t_out)\n",
    "\n",
    "\n",
    "\n",
    "#     #sig_dig_fil_res, tt_res = resampling(sig_dig_fil,2,fs,2)\n",
    "#     signal_out, time_out = resampling(signal_in, sampling_factor, fs, case=1)\n",
    "\n",
    "#     if taper:\n",
    "#         signal_out = np.hanning(signal_out.size) * sig_nal_out\n",
    "#         #signal_out = butter_bandpass_filter(sig_dig_res_tap,0.1,100,fs,4)\n",
    "   \n",
    "    \n",
    "#     return signal_out, time_out\n",
    "    "
   ]
  }
 ],
 "metadata": {
  "kernelspec": {
   "display_name": "Python 3",
   "language": "python",
   "name": "python3"
  },
  "language_info": {
   "codemirror_mode": {
    "name": "ipython",
    "version": 3
   },
   "file_extension": ".py",
   "mimetype": "text/x-python",
   "name": "python",
   "nbconvert_exporter": "python",
   "pygments_lexer": "ipython3",
   "version": "3.7.8"
  }
 },
 "nbformat": 4,
 "nbformat_minor": 4
}
