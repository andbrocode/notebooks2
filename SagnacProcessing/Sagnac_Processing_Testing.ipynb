{
 "cells": [
  {
   "cell_type": "markdown",
   "metadata": {},
   "source": [
    "<div style='background-image: url(\"https://www.geophysik.uni-muenchen.de/ROMY/theme/images/ringlaser_wideformat.jpg\") ; padding: 0px ; background-size: cover ; border-radius: 15px ; height: 250px; background-position: 0% 80%'>\n",
    "    <div style=\"float: left ; margin: 50px ; padding: 20px ; background: rgba(255 , 255 , 255 , 0.9) ; width: 35% ; height: 150px\">\n",
    "        <div style=\"position: relative ; top: 50%;  transform: translatey(-50%)\">\n",
    "            <div style=\"font-size: xx-large ; font-weight: 900 ; color: rgba(0 , 0 , 0 , 0.9) ; line-height: 100%\"> <br>ROMY - <br><br>  Synthetic Sagnac Processing </div>\n",
    "            <div style=\"font-size: large ; padding-top: 20px ; color: rgba(0 , 0 , 0 , 0.7)\"></div>\n",
    "        </div>\n",
    "    </div>"
   ]
  },
  {
   "cell_type": "markdown",
   "metadata": {
    "ExecuteTime": {
     "end_time": "2021-01-29T15:14:27.795046Z",
     "start_time": "2021-01-29T15:14:27.791664Z"
    }
   },
   "source": [
    "## Import "
   ]
  },
  {
   "cell_type": "markdown",
   "metadata": {
    "ExecuteTime": {
     "end_time": "2021-01-29T15:15:30.279221Z",
     "start_time": "2021-01-29T15:15:30.275801Z"
    }
   },
   "source": [
    "### Official Libraries"
   ]
  },
  {
   "cell_type": "code",
   "execution_count": 1,
   "metadata": {
    "ExecuteTime": {
     "end_time": "2021-11-25T15:04:33.645246Z",
     "start_time": "2021-11-25T15:04:33.004854Z"
    }
   },
   "outputs": [],
   "source": [
    "import numpy as np \n",
    "import matplotlib.pyplot as plt \n",
    "import time \n",
    "import pickle\n",
    "\n",
    "from scipy.signal import resample, hilbert, correlate\n",
    "from tqdm import tqdm\n",
    "from obspy import UTCDateTime, read, read_inventory\n",
    "\n"
   ]
  },
  {
   "cell_type": "code",
   "execution_count": 2,
   "metadata": {
    "ExecuteTime": {
     "end_time": "2021-11-25T15:04:33.650774Z",
     "start_time": "2021-11-25T15:04:33.647813Z"
    }
   },
   "outputs": [],
   "source": [
    "import sys\n",
    "sys.path.insert(0, 'submodules')"
   ]
  },
  {
   "cell_type": "markdown",
   "metadata": {},
   "source": [
    "### Own Plotting Methods"
   ]
  },
  {
   "cell_type": "code",
   "execution_count": 3,
   "metadata": {
    "ExecuteTime": {
     "end_time": "2021-11-25T15:04:33.658966Z",
     "start_time": "2021-11-25T15:04:33.653678Z"
    }
   },
   "outputs": [],
   "source": [
    "from MakeplotTraceAndSpectrum import __makeplot_trace_and_spectrum\n",
    "from MakeplotTraceAndPSD import __makeplot_trace_and_psd\n",
    "from MakeplotModulatedSignal import __makeplot_modulated_signal"
   ]
  },
  {
   "cell_type": "markdown",
   "metadata": {},
   "source": [
    "### Own Processing Methods"
   ]
  },
  {
   "cell_type": "code",
   "execution_count": 4,
   "metadata": {
    "ExecuteTime": {
     "end_time": "2021-11-25T15:04:33.920858Z",
     "start_time": "2021-11-25T15:04:33.911815Z"
    }
   },
   "outputs": [],
   "source": [
    "from EchoPerformance import __echo_performance\n",
    "from CreateSyntheticEventV2 import __create_synthetic_event_v2\n",
    "from MakeplotDemodulationQuality import __makeplot_demodulation_quality\n",
    "from MinimizeResidual import __minimize_residual\n",
    "from CreateLinearChirp import __create_linear_chirp\n",
    "from Tapering import __tapering\n",
    "from InstaFreqHilbert import __insta_freq_hilbert\n",
    "from Normalize import __normalize\n",
    "from WriteToMseed import __write_to_mseed\n",
    "from LoadMseed import __load_mseed\n",
    "from Modulation import __modulation\n",
    "from QuerrySeismoData import __querry_seismo_data\n",
    "from RingLaser import RingLaser\n"
   ]
  },
  {
   "cell_type": "code",
   "execution_count": 5,
   "metadata": {
    "ExecuteTime": {
     "end_time": "2021-11-25T15:04:34.101404Z",
     "start_time": "2021-11-25T15:04:34.095064Z"
    }
   },
   "outputs": [
    {
     "name": "stdout",
     "output_type": "stream",
     "text": [
      "Sagnac frequency (G-ring) : 348.721 Hz\n",
      "Sagnac frequency (ROMY Z-ring) : 553.669 Hz\n"
     ]
    }
   ],
   "source": [
    "from RingLaser import RingLaser\n",
    "\n",
    "## define G-Ring\n",
    "G = RingLaser(side=4., form=\"square\", wl=632.8e-9, lat=49.16)\n",
    "G_sgnc = G.get_sagnac_frequency()\n",
    "\n",
    "\n",
    "## define ROMY Z-Ring\n",
    "ROMY_Z = RingLaser(side=11., form=\"triangle\", wl=632.8e-9, lat=49.16)\n",
    "ROMY_Z_sgnc = ROMY_Z.get_sagnac_frequency()\n",
    "\n",
    "\n",
    "print(f'Sagnac frequency (G-ring) : {round(G_sgnc,3)} Hz')\n",
    "print(f'Sagnac frequency (ROMY Z-ring) : {round(ROMY_Z_sgnc,3)} Hz')\n"
   ]
  },
  {
   "cell_type": "code",
   "execution_count": 6,
   "metadata": {
    "ExecuteTime": {
     "end_time": "2021-11-25T15:04:34.389266Z",
     "start_time": "2021-11-25T15:04:34.375276Z"
    },
    "code_folding": [
     1
    ]
   },
   "outputs": [],
   "source": [
    "\n",
    "def third_order_derive(x, pos=\"MIDDLE\"):\n",
    "\n",
    "    coeff = np.zeros((5,5))\n",
    "    norm = np.array([0,0])\n",
    "    sum = 0.\n",
    "\n",
    "    norm[0] = 12.;\n",
    "    norm[1] = 84.;\n",
    "\n",
    "    coeff[0][0] = -125.;\n",
    "    coeff[0][1] =  136.;\n",
    "    coeff[0][2] =   48.;\n",
    "    coeff[0][3] =  -88.;\n",
    "    coeff[0][4] =   29.;\n",
    "    coeff[1][0] =  -38.;\n",
    "    coeff[1][1] =   -2.;\n",
    "    coeff[1][2] =   24.;\n",
    "    coeff[1][3] =   26.;\n",
    "    coeff[1][4] =  -10.;\n",
    "    coeff[2][0] =    1.;\n",
    "    coeff[2][1] =   -8.;\n",
    "    coeff[2][2] =    0.;\n",
    "    coeff[2][3] =    8.;\n",
    "    coeff[2][4] =   -1.;\n",
    "    coeff[3][0] =   10.;\n",
    "    coeff[3][1] =  -26.;\n",
    "    coeff[3][2] =  -24.;\n",
    "    coeff[3][3] =    2.;\n",
    "    coeff[3][4] =   38.;\n",
    "    coeff[4][0] =  -29.;\n",
    "    coeff[4][1] =   88.;\n",
    "    coeff[4][2] =  -48.;\n",
    "    coeff[4][3] = -136.;\n",
    "    coeff[4][4] =  125.;\n",
    "\n",
    "    for i in range(0, 5):\n",
    "        sum += coeff[pos][i]*x[i];\n",
    "    \n",
    "    if pos == 'MIDDLE':\n",
    "        sum /= norm[0];\n",
    "    \n",
    "    else:\n",
    "        sum /= norm[1];\n",
    "\n",
    "\n",
    "    return sum\n"
   ]
  },
  {
   "cell_type": "code",
   "execution_count": 7,
   "metadata": {
    "ExecuteTime": {
     "end_time": "2021-11-25T15:04:34.664071Z",
     "start_time": "2021-11-25T15:04:34.655094Z"
    },
    "code_folding": [
     1
    ]
   },
   "outputs": [],
   "source": [
    "\n",
    "def __hibert_filter(sig_in, time_in, fs):\n",
    "    \n",
    "    '''\n",
    "    estimating the instantaneous frequency by using the formula of Jo\n",
    "    \n",
    "    sig_in    = input signal\n",
    "    time_in   = input timeline\n",
    "    fs        = sampling frequency of digital signal\n",
    "    '''\n",
    "    \n",
    "    ## calulcate hilbert transform\n",
    "    hil0 = hilbert(sig_in)\n",
    "    \n",
    "    ## extract imaginary part of hilbert transform \n",
    "    hil = np.imag(hil0)\n",
    "    \n",
    "    \n",
    "    ## calculate derivatives \n",
    "    d_hil = np.gradient(hil, edge_order=1)*sps/(2*np.pi*sgnc)\n",
    "    d_sig = np.gradient(sig_in, edge_order=1)*sps/(2*np.pi*sgnc)\n",
    "    \n",
    "    delta_f_full = (sig_in * d_hil - d_sig * hil) / (2*np.pi*np.sqrt(sig_in**2 + hil**2))\n",
    "# #     delta_f_full = (sig_in[1:]*np.diff(hil) - np.diff(sig_in) * hil[1:]) / (2*np.pi*np.sqrt(sig_in[1:]**2 + hil[1:]**2))\n",
    "\n",
    "    ## extract real part\n",
    "    delta_f = np.real(delta_f_full)\n",
    "    \n",
    "    \n",
    "    ## instert nan value for time zero (exluded bevause of np.diff() ) \n",
    "    sum0, idx = 0, []\n",
    "    for k, x in enumerate(delta_f):\n",
    "        if np.isnan(x):\n",
    "            sum0 += 1\n",
    "            idx.append(k)\n",
    "    \n",
    "    if sum0 != 0:\n",
    "        print(sum0, \" nan found\")\n",
    "    \n",
    "    for l in idx:\n",
    "        delta_f[l] = 0\n",
    "\n",
    "    \n",
    "    ## _______________________________________________________________________________\n",
    "\n",
    "#    return time_in[1:], delta_f\n",
    "    return time_in, delta_f\n"
   ]
  },
  {
   "cell_type": "code",
   "execution_count": 8,
   "metadata": {
    "ExecuteTime": {
     "end_time": "2021-11-25T15:04:34.887682Z",
     "start_time": "2021-11-25T15:04:34.879148Z"
    },
    "code_folding": [
     1
    ]
   },
   "outputs": [],
   "source": [
    "\n",
    "def __demodulate(x, y, Twindow, sps):\n",
    "\n",
    "    window_size = int(Twindow * sps)\n",
    "\n",
    "    stepsize = int(window_size/2) \n",
    "\n",
    "    out1, out2 = np.array([]), np.array([])\n",
    "    for i in tqdm(range(0,len(x), stepsize)):\n",
    "\n",
    "        if int(i+window_size) > len(x):\n",
    "            print(f\"break for {i/sps}\")\n",
    "            break\n",
    "\n",
    "        win1 = x[i:int(i+window_size)]\n",
    "        win2 = y[i:int(i+window_size)]\n",
    "\n",
    "\n",
    "\n",
    "        t, sig = __hibert_filter(win1, win2, sps)\n",
    "\n",
    "    #     plt.plot(t[int(stepsize/2):window_size-int(stepsize/2)], sig[int(stepsize/2):window_size-int(stepsize/2)])\n",
    "    #     plt.show();\n",
    "\n",
    "        out1 = np.append(out1, sig[int(stepsize/2):window_size-int(stepsize/2)])\n",
    "        out2 = np.append(out2, t[int(stepsize/2):window_size-int(stepsize/2)])\n",
    "    #     plt.plot(out2,out1)\n",
    "\n",
    "    return out1, out2\n"
   ]
  },
  {
   "cell_type": "code",
   "execution_count": 9,
   "metadata": {
    "ExecuteTime": {
     "end_time": "2021-11-25T15:04:35.102294Z",
     "start_time": "2021-11-25T15:04:35.096657Z"
    },
    "code_folding": [
     1
    ]
   },
   "outputs": [],
   "source": [
    "\n",
    "def __minimize_residual(model, original):\n",
    "\n",
    "    from scipy.optimize import leastsq\n",
    "\n",
    "    ## define cost function\n",
    "    def __cost_function(params, x, y):\n",
    "        a, b = params[0], params[1]\n",
    "        residual = y-(a*x+b)\n",
    "        return residual\n",
    "\n",
    "    ## initials \n",
    "    params = [1,0]\n",
    "\n",
    "    result = leastsq(__cost_function, params, (model, original))\n",
    "\n",
    "    model_new = model * result[0][0] + result[0][1]\n",
    "\n",
    "    print(f'\\noptimized: original -  {round(result[0][0],3)} * model + {round(result[0][1],3)}\\n')\n",
    "\n",
    "    residual = (model_new - original)\n",
    "    return residual, model_new\n"
   ]
  },
  {
   "cell_type": "markdown",
   "metadata": {},
   "source": [
    "## Configurations"
   ]
  },
  {
   "cell_type": "code",
   "execution_count": 10,
   "metadata": {
    "ExecuteTime": {
     "end_time": "2021-11-25T15:04:35.483907Z",
     "start_time": "2021-11-25T15:04:35.479189Z"
    }
   },
   "outputs": [],
   "source": [
    "\n",
    "oversampling = 1\n",
    "\n",
    "T = 3200\n",
    "\n",
    "sps = 5000\n",
    "\n",
    "sgnc = ROMY_Z.get_sagnac_frequency()\n",
    "\n",
    "f_lower, f_upper = 0.001, 1.0\n",
    "\n",
    "# frequency_deviation = 0.5\n",
    "\n",
    "# modulation_index = frequency_deviation/f_upper\n",
    "\n",
    "modulation_index = ROMY_Z.get_scale_factor()\n",
    "\n",
    "modulation_scheme = 3\n",
    "\n",
    "\n",
    "taper_type = \"window\"\n",
    "taper_percent = 0.2\n",
    "\n",
    "\n",
    "syn_signal = 'synthetic_trace'  ## 'chirp' or 'synthetic_trace' or 'real_trace'\n",
    "\n",
    "normalize = True"
   ]
  },
  {
   "cell_type": "code",
   "execution_count": 11,
   "metadata": {
    "ExecuteTime": {
     "end_time": "2021-11-25T15:04:35.725630Z",
     "start_time": "2021-11-25T15:04:35.712697Z"
    },
    "code_folding": [
     1
    ]
   },
   "outputs": [],
   "source": [
    "\n",
    "def __run(sps):\n",
    "\n",
    "    ## ______________________________________________________\n",
    "\n",
    "    modeltrace = read(\"data/testtrace_0.001-20Hz.signal\")\n",
    "\n",
    "    time_modeltrace = pickle.load(open( \"data/testtrace_0.001-20Hz.time\", \"rb\" ))\n",
    "\n",
    "    modeltrace = modeltrace[0].filter('bandpass', freqmin=f_lower, freqmax=f_upper, corners=4, zerophase=True)\n",
    "\n",
    "    modeltrace = modeltrace.data\n",
    "\n",
    "    # __makeplot_trace_and_spectrum(modeltrace, time_modeltrace, fmax=2*f_upper);\n",
    "\n",
    "\n",
    "\n",
    "    ## ______________________________________________________\n",
    "\n",
    "\n",
    "    synthetic_signal, timeline = __modulation(modeltrace,\n",
    "                                              time_modeltrace, \n",
    "                                              sgnc, \n",
    "                                              T, \n",
    "                                              sps, \n",
    "                                              modulation_index, \n",
    "                                              modulation_scheme,\n",
    "                                             )\n",
    "\n",
    "    # __makeplot_trace_and_psd(synthetic_signal, timeline, fmax=0.5*sps, t1=40, t2=40.01);\n",
    "\n",
    "    # __makeplot_modulated_signal(synthetic_signal,timeline);\n",
    "\n",
    "    ## ______________________________________________________\n",
    "\n",
    "    modeltrace = modeltrace[::oversampling]\n",
    "    time_modeltrace = time_modeltrace[::oversampling]\n",
    "\n",
    "    synthetic_signal = synthetic_signal[::oversampling]\n",
    "    timeline = timeline[::oversampling]\n",
    "\n",
    "    sps = 1/(timeline[1]-timeline[0])\n",
    "\n",
    "    # __makeplot_trace_and_psd(synthetic_signal, timeline, fmax=0.5*sps, t1=10, t2=10.1); \n",
    "\n",
    "    ## ______________________________________________________\n",
    "\n",
    "\n",
    "    Twindow = 400 # seconds\n",
    "\n",
    "    print(\"\\nDemdulation in windows...\");time.sleep(2)\n",
    "\n",
    "    demod_signal, time_demod_signal = __demodulate(synthetic_signal, timeline, Twindow, sps)\n",
    "\n",
    "\n",
    "\n",
    "    print(f\"\\ntheo. Sagnac Frequencs: {sgnc} Hz\")\n",
    "    print(f\"Median Demodulated Signal: {np.median(demod_signal)}\")\n",
    "\n",
    "    demod_signal = demod_signal - np.median(demod_signal)\n",
    "\n",
    "\n",
    "\n",
    "    x1 = int(time_demod_signal[0]*sps)\n",
    "    x2 = int(int(T-time_demod_signal[-1])*sps)+1\n",
    "\n",
    "    demod_signal = np.pad(demod_signal, (x1, x2), constant_values=(0, 0))\n",
    "\n",
    "    time_demod_signal = timeline\n",
    "\n",
    "    time_demod_signal.size, demod_signal.size\n",
    "\n",
    "\n",
    "    if normalize:\n",
    "        demod_signal = __normalize(demod_signal)\n",
    "        modeltrace = __normalize(modeltrace)\n",
    "\n",
    "    #     demod_signal_norm = __tapering(demod_signal_norm, 'flanks', percent=0.1)\n",
    "\n",
    "    cross_corr = correlate(demod_signal, modeltrace, mode='same')\n",
    "\n",
    "    cross_corr_lags = np.arange(-cross_corr.size//2+1,cross_corr.size//2+1,1)\n",
    "\n",
    "    cc_lag_zero = cross_corr_lags[abs(cross_corr).argmax()]\n",
    "    \n",
    "    c1 = x1\n",
    "    c2 = int(len(demod_signal)-x2)\n",
    "    \n",
    "    \n",
    "    residual_pre_opt  = modeltrace[c1:c2]-demod_signal[c1:c2]\n",
    "\n",
    "    residual_post_opt, demod_signal_opt  = __minimize_residual(demod_signal[c1:c2], modeltrace[c1:c2])\n",
    "\n",
    "    max_amp = max(abs(demod_signal))\n",
    "\n",
    "    rmse_pre_opt  = np.sqrt(np.mean(residual_pre_opt**2))\n",
    "    rmse_post_opt = np.sqrt(np.mean(residual_post_opt**2))\n",
    "\n",
    "\n",
    "#     fig = __makeplot_demodulation_quality(time_modeltrace, \n",
    "#                                           modeltrace, \n",
    "#                                           time_demod_signal,\n",
    "#                                           demod_signal,\n",
    "#                                           cross_corr,\n",
    "#                                           cross_corr_lags,\n",
    "#                                           c1,\n",
    "#                                           c2,\n",
    "#                                          );\n",
    "    \n",
    "    del modeltrace, demod_signal, time_modeltrace, time_demod_signal\n",
    "    \n",
    "    return rmse_pre_opt, rmse_post_opt, cc_lag_zero, max_amp\n",
    "    "
   ]
  },
  {
   "cell_type": "code",
   "execution_count": 12,
   "metadata": {
    "ExecuteTime": {
     "end_time": "2021-11-25T15:04:36.779297Z",
     "start_time": "2021-11-25T15:04:36.775867Z"
    }
   },
   "outputs": [],
   "source": [
    "# rsme_prior, rmse_after, cc_lags = __run(sps)"
   ]
  },
  {
   "cell_type": "code",
   "execution_count": 13,
   "metadata": {
    "ExecuteTime": {
     "end_time": "2021-11-25T15:14:27.368220Z",
     "start_time": "2021-11-25T15:04:37.007311Z"
    }
   },
   "outputs": [
    {
     "name": "stdout",
     "output_type": "stream",
     "text": [
      "\n",
      "Modulation option 3 is executed ...\n",
      "\n",
      " --> integrating ... \n",
      "\n",
      " elapsed time: 6.31 sec\n",
      "\n",
      "Demdulation in windows...\n"
     ]
    },
    {
     "name": "stderr",
     "output_type": "stream",
     "text": [
      " 88%|████████▊ | 15/17 [00:43<00:05,  2.91s/it]\n"
     ]
    },
    {
     "name": "stdout",
     "output_type": "stream",
     "text": [
      "break for 3000.0\n",
      "\n",
      "theo. Sagnac Frequencs: 553.6690497710365 Hz\n",
      "Median Demodulated Signal: 0.14662147172147316\n",
      "\n",
      "optimized: original -  1.338 * model + -0.007\n",
      "\n",
      "\n",
      "Modulation option 3 is executed ...\n",
      "\n",
      " --> integrating ... \n",
      "\n",
      " elapsed time: 5.98 sec\n",
      "\n",
      "Demdulation in windows...\n"
     ]
    },
    {
     "name": "stderr",
     "output_type": "stream",
     "text": [
      " 88%|████████▊ | 15/17 [00:42<00:05,  2.86s/it]\n"
     ]
    },
    {
     "name": "stdout",
     "output_type": "stream",
     "text": [
      "break for 3000.0\n",
      "\n",
      "theo. Sagnac Frequencs: 553.6690497710365 Hz\n",
      "Median Demodulated Signal: 0.14662147172263812\n",
      "\n",
      "optimized: original -  0.935 * model + -0.003\n",
      "\n",
      "\n",
      "Modulation option 3 is executed ...\n",
      "\n",
      " --> integrating ... \n",
      "\n",
      " elapsed time: 6.01 sec\n",
      "\n",
      "Demdulation in windows...\n"
     ]
    },
    {
     "name": "stderr",
     "output_type": "stream",
     "text": [
      " 88%|████████▊ | 15/17 [00:42<00:05,  2.81s/it]\n"
     ]
    },
    {
     "name": "stdout",
     "output_type": "stream",
     "text": [
      "break for 3000.0\n",
      "\n",
      "theo. Sagnac Frequencs: 553.6690497710365 Hz\n",
      "Median Demodulated Signal: 0.14662147170466644\n",
      "\n",
      "optimized: original -  0.807 * model + -0.011\n",
      "\n",
      "\n",
      "Modulation option 3 is executed ...\n",
      "\n",
      " --> integrating ... \n",
      "\n",
      " elapsed time: 6.05 sec\n",
      "\n",
      "Demdulation in windows...\n"
     ]
    },
    {
     "name": "stderr",
     "output_type": "stream",
     "text": [
      " 88%|████████▊ | 15/17 [00:42<00:05,  2.86s/it]\n"
     ]
    },
    {
     "name": "stdout",
     "output_type": "stream",
     "text": [
      "break for 3000.0\n",
      "\n",
      "theo. Sagnac Frequencs: 553.6690497710365 Hz\n",
      "Median Demodulated Signal: 0.14662147167611833\n",
      "\n",
      "optimized: original -  1.005 * model + -0.004\n",
      "\n",
      "\n",
      "Modulation option 3 is executed ...\n",
      "\n",
      " --> integrating ... \n",
      "\n",
      " elapsed time: 5.91 sec\n",
      "\n",
      "Demdulation in windows...\n"
     ]
    },
    {
     "name": "stderr",
     "output_type": "stream",
     "text": [
      " 88%|████████▊ | 15/17 [00:42<00:05,  2.85s/it]\n"
     ]
    },
    {
     "name": "stdout",
     "output_type": "stream",
     "text": [
      "break for 3000.0\n",
      "\n",
      "theo. Sagnac Frequencs: 553.6690497710365 Hz\n",
      "Median Demodulated Signal: 0.14662147179462787\n",
      "\n",
      "optimized: original -  1.0 * model + 0.0\n",
      "\n",
      "\n",
      "Modulation option 3 is executed ...\n",
      "\n",
      " --> integrating ... \n",
      "\n",
      " elapsed time: 6.04 sec\n",
      "\n",
      "Demdulation in windows...\n"
     ]
    },
    {
     "name": "stderr",
     "output_type": "stream",
     "text": [
      " 88%|████████▊ | 15/17 [00:42<00:05,  2.86s/it]\n"
     ]
    },
    {
     "name": "stdout",
     "output_type": "stream",
     "text": [
      "break for 3000.0\n",
      "\n",
      "theo. Sagnac Frequencs: 553.6690497710365 Hz\n",
      "Median Demodulated Signal: 0.14662147043764365\n",
      "\n",
      "optimized: original -  1.001 * model + -0.001\n",
      "\n",
      "\n",
      "Modulation option 3 is executed ...\n",
      "\n",
      " --> integrating ... \n",
      "\n",
      " elapsed time: 6.04 sec\n",
      "\n",
      "Demdulation in windows...\n"
     ]
    },
    {
     "name": "stderr",
     "output_type": "stream",
     "text": [
      " 88%|████████▊ | 15/17 [00:42<00:05,  2.83s/it]\n"
     ]
    },
    {
     "name": "stdout",
     "output_type": "stream",
     "text": [
      "break for 3000.0\n",
      "\n",
      "theo. Sagnac Frequencs: 553.6690497710365 Hz\n",
      "Median Demodulated Signal: 0.14662138022832774\n",
      "\n",
      "optimized: original -  1.003 * model + -0.003\n",
      "\n",
      "\n",
      "Modulation option 3 is executed ...\n",
      "\n",
      " --> integrating ... \n",
      "\n",
      " elapsed time: 6.04 sec\n",
      "\n",
      "Demdulation in windows...\n"
     ]
    },
    {
     "name": "stderr",
     "output_type": "stream",
     "text": [
      " 88%|████████▊ | 15/17 [00:42<00:05,  2.83s/it]\n"
     ]
    },
    {
     "name": "stdout",
     "output_type": "stream",
     "text": [
      "break for 3000.0\n",
      "\n",
      "theo. Sagnac Frequencs: 553.6690497710365 Hz\n",
      "Median Demodulated Signal: 0.14662098371666302\n",
      "\n",
      "optimized: original -  1.002 * model + -0.002\n",
      "\n",
      "\n",
      "Modulation option 3 is executed ...\n",
      "\n",
      " --> integrating ... \n",
      "\n",
      " elapsed time: 6.23 sec\n",
      "\n",
      "Demdulation in windows...\n"
     ]
    },
    {
     "name": "stderr",
     "output_type": "stream",
     "text": [
      " 88%|████████▊ | 15/17 [00:42<00:05,  2.86s/it]\n"
     ]
    },
    {
     "name": "stdout",
     "output_type": "stream",
     "text": [
      "break for 3000.0\n",
      "\n",
      "theo. Sagnac Frequencs: 553.6690497710365 Hz\n",
      "Median Demodulated Signal: 0.14662076957872344\n",
      "\n",
      "optimized: original -  1.003 * model + -0.003\n",
      "\n",
      "\n",
      "Modulation option 3 is executed ...\n",
      "\n",
      " --> integrating ... \n",
      "\n",
      " elapsed time: 6.08 sec\n",
      "\n",
      "Demdulation in windows...\n"
     ]
    },
    {
     "name": "stderr",
     "output_type": "stream",
     "text": [
      " 88%|████████▊ | 15/17 [00:42<00:05,  2.85s/it]\n"
     ]
    },
    {
     "name": "stdout",
     "output_type": "stream",
     "text": [
      "break for 3000.0\n",
      "\n",
      "theo. Sagnac Frequencs: 553.6690497710365 Hz\n",
      "Median Demodulated Signal: 0.1466207690785598\n",
      "\n",
      "optimized: original -  1.003 * model + -0.003\n",
      "\n"
     ]
    }
   ],
   "source": [
    "freqs = np.logspace(-2, 2, 10)\n",
    "\n",
    "rmse_prior_opt = []\n",
    "rmse_after_opt = []\n",
    "cc_lags = []\n",
    "max_amps = []\n",
    "\n",
    "for f_upper in freqs:\n",
    "    \n",
    "    rmse_prior, rmse_after, cc_lag, max_amp = __run(sps)\n",
    "    \n",
    "    rmse_prior_opt.append(rmse_prior)\n",
    "    rmse_after_opt.append(rmse_after)\n",
    "    cc_lags.append(cc_lag)\n",
    "    max_amps.append(max_amp)"
   ]
  },
  {
   "cell_type": "code",
   "execution_count": 52,
   "metadata": {
    "ExecuteTime": {
     "end_time": "2021-02-23T22:44:17.128799Z",
     "start_time": "2021-02-23T22:44:16.422932Z"
    }
   },
   "outputs": [
    {
     "data": {
      "text/plain": [
       "<matplotlib.legend.Legend at 0x7f95e5005850>"
      ]
     },
     "execution_count": 52,
     "metadata": {},
     "output_type": "execute_result"
    },
    {
     "data": {
      "image/png": "[encoded data removed]",
      "text/plain": [
       "<Figure size 1080x360 with 2 Axes>"
      ]
     },
     "metadata": {
      "needs_background": "light"
     },
     "output_type": "display_data"
    }
   ],
   "source": [
    "fig, ax = plt.subplots(1,2, figsize=(15,5))\n",
    "\n",
    "font=14\n",
    "\n",
    "ax[0].scatter(freqs, rmse_prior_opt, zorder=2, label=\"prior optimization\")\n",
    "ax[0].plot(freqs, rmse_prior_opt, ls='--', zorder=2)\n",
    "\n",
    "ax[0].scatter(freqs, rmse_after_opt, zorder=2, label=\"after optimization\")\n",
    "ax[0].plot(freqs, rmse_after_opt, ls='--', zorder=2)\n",
    "\n",
    "ax[0].set_yscale(\"log\")\n",
    "ax[0].set_xscale(\"log\")\n",
    "\n",
    "ax[1].scatter(freqs, cc_lags, color='k', zorder=2, label=\"cc lag at maximum\")\n",
    "ax[1].plot(freqs, cc_lags, color='k', ls='--', zorder=2)\n",
    "\n",
    "ax[0].grid(ls='--', color='grey', zorder=0)\n",
    "ax[1].grid(ls='--', color='grey', zorder=0)\n",
    "\n",
    "ax[0].set_xlabel('upper corner frequency (Hz)', fontsize=font)\n",
    "ax[1].set_xlabel('upper corner frequency (Hz)', fontsize=font)\n",
    "\n",
    "ax[0].set_ylabel('normalized residual', fontsize=font)\n",
    "ax[1].set_ylabel('cc lag time at maximum', fontsize=font)\n",
    "\n",
    "ax[1].set_xscale(\"log\")\n",
    "\n",
    "ax[0].legend(loc=\"upper right\", fontsize=font-2)\n",
    "ax[1].legend(loc=\"lower right\", fontsize=font-2)\n"
   ]
  },
  {
   "cell_type": "code",
   "execution_count": 16,
   "metadata": {
    "ExecuteTime": {
     "end_time": "2021-02-23T22:22:50.984673Z",
     "start_time": "2021-02-23T22:22:50.982325Z"
    }
   },
   "outputs": [],
   "source": [
    "# pname = f\"{syn_signal}_{f_lower}-{f_upper}_T{int(T)}_fs{int(sps)}_mi{modulation_index}_S{int(sgnc)}_case{modulation_scheme}.pdf\"\n",
    "\n",
    "# fig.savefig(f\"plots/{pname}\", dpi=300, format='pdf')"
   ]
  }
 ],
 "metadata": {
  "kernelspec": {
   "display_name": "Python 3",
   "language": "python",
   "name": "python3"
  },
  "language_info": {
   "codemirror_mode": {
    "name": "ipython",
    "version": 3
   },
   "file_extension": ".py",
   "mimetype": "text/x-python",
   "name": "python",
   "nbconvert_exporter": "python",
   "pygments_lexer": "ipython3",
   "version": "3.7.8"
  }
 },
 "nbformat": 4,
 "nbformat_minor": 4
}
