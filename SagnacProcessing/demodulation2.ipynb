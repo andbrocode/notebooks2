{
 "cells": [
  {
   "cell_type": "markdown",
   "metadata": {},
   "source": [
    "# Demodulation of Sagnac"
   ]
  },
  {
   "cell_type": "code",
   "execution_count": 31,
   "metadata": {},
   "outputs": [],
   "source": [
    "import numpy as np\n",
    "import matplotlib.pyplot as plt\n",
    "import obspy\n",
    "\n",
    "\n",
    "from scipy.fft import fft\n",
    "from scipy import optimize\n",
    "from scipy.signal import butter, lfilter, resample, hilbert, ricker\n"
   ]
  },
  {
   "cell_type": "markdown",
   "metadata": {},
   "source": [
    "### Setting crucial parameters"
   ]
  },
  {
   "cell_type": "code",
   "execution_count": 2,
   "metadata": {},
   "outputs": [],
   "source": [
    "## dividing by\n",
    "div = 10\n",
    "\n",
    "## set Parameters -------------------------------------\n",
    "\n",
    "## assumed sagnac frequency \n",
    "sgnc = 55\n",
    "\n",
    "## sampling, time duration and points \n",
    "sps = 500\n",
    "T   = 160\n",
    "pts = sps * T\n",
    "\n",
    "\n",
    "## calculate further paremters ------------------------\n",
    "\n",
    "## time axis\n",
    "time = np.arange(0, T, 1/sps)\n",
    "\n",
    "#fg = 0.001\n",
    "\n",
    "noise = np.random.rand(len(time))\n",
    "\n"
   ]
  },
  {
   "cell_type": "markdown",
   "metadata": {},
   "source": [
    "### Defining several methods"
   ]
  },
  {
   "cell_type": "code",
   "execution_count": 91,
   "metadata": {
    "code_folding": [
     5
    ]
   },
   "outputs": [
    {
     "name": "stdout",
     "output_type": "stream",
     "text": [
      "Sagnac frequency (G-ring) : 348.7210635570242 Hz\n"
     ]
    }
   ],
   "source": [
    "class RingLaser:\n",
    "\n",
    "    def __init__(self, p=None, a=None, wl=None, lat=None):\n",
    "        self.area = a\n",
    "        self.perimeter = p\n",
    "        self.wavelength = wl\n",
    "        self.latitude = lat\n",
    "\n",
    "        self.length_of_day = 23*3600+56*60+4.1\n",
    "        self.earth_rotation_rate = 2 * np.pi / self.length_of_day\n",
    "\n",
    "\n",
    "    def get_sagnac_frequency(self):\n",
    "\n",
    "        scale_factor = (4*self.area)/(self.wavelength*self.perimeter)\n",
    "        projected_omega = self.earth_rotation_rate*np.sin(self.latitude/180.*np.pi)\n",
    "\n",
    "        return scale_factor * projected_omega\n",
    "\n",
    "G = RingLaser(p=16., a=16., wl=632.8e-9, lat=49.16)\n",
    "\n",
    "G_sgnc = G.get_sagnac_frequency()\n",
    "\n",
    "print(f'Sagnac frequency (G-ring) : {G_sgnc} Hz')"
   ]
  },
  {
   "cell_type": "code",
   "execution_count": 29,
   "metadata": {
    "code_folding": [
     1
    ]
   },
   "outputs": [],
   "source": [
    "\n",
    "def __querrySeismoData(seed_id=None, beg=None, end=None, restitute=True):\n",
    "    '''\n",
    "    querry seismic traces and station data\n",
    "    \n",
    "    Dependencies: \n",
    "        from obspy.clients.fdsn import Client, RoutingClient\n",
    "        \n",
    "    example:\n",
    "    \t>>> fur, fur_inv = getMeMyData(\"GR.FUR..BH*\", tbeg, tend, restitute=True)\n",
    "    ''' \n",
    "    \n",
    "    from obspy.clients.fdsn import Client, RoutingClient\n",
    "      \n",
    "    ## split seed_id string \n",
    "    net, sta, loc, cha = seed_id.split(\".\")\n",
    "    \n",
    "    ## check if input variables are as expected\n",
    "    for arg in [net, sta, loc, cha, beg, end]:\n",
    "        if arg is None and not 'loc':\n",
    "            raise NameError(print(f\"\\nwell, {arg} has not been defined after all!\"))\n",
    "            exit()\n",
    "            \n",
    "    ## state which data is requested        \n",
    "    if loc != None:\n",
    "        print(f'\\nGet data:  {net}.{sta}.{loc}.{cha} ({float(end-beg)/60}) ...')\n",
    "    else: \n",
    "        print(f'\\nGet data:  {net}.{sta}..{cha} (traces of {float(end-beg)/60} min duration) ...')\n",
    "        \n",
    "    ## attempting to get data from either EIDA or IRIS.\n",
    "    try: \n",
    "        route = RoutingClient(\"eida-routing\")\n",
    "        print(\"\\nUsing Eida-Routing...\")\n",
    "        if route:\n",
    "            inv = route.get_stations(network=net, station=sta, location=loc, channel=cha,\n",
    "                                     starttime=beg, endtime=end, level=\"response\")\n",
    "            print(f\"\\nRequesting from {len(inv.get_contents()['networks'])} network(s) and {len(inv.get_contents()['stations'])} stations\")\n",
    "\n",
    "            st = route.get_waveforms(network=net, station=sta, location=loc, channel=cha, \n",
    "                                     starttime=beg, endtime=end)\n",
    "\n",
    "    except: \n",
    "        route = RoutingClient(\"iris-federator\")\n",
    "        print(\"\\nUsing Iris-Federator...\")\n",
    "        if route:\n",
    "            inv = route.get_stations(network=net, station=sta, location=loc, channel=cha,\n",
    "                                     starttime=beg, endtime=end, level=\"response\")\n",
    "            print(f\"\\nRequesting from {len(inv.get_contents()['networks'])} network(s) and {len(inv.get_contents()['stations'])} stations\")\n",
    "        \n",
    "            st = route.get_waveforms(network=net, station=sta, location=loc, channel=cha, \n",
    "                                     starttime=beg, endtime=end)\n",
    "    \n",
    "    ## remove response of instrument specified in inventory\n",
    "    if restitute:\n",
    "               \n",
    "#        pre_filt = [0.001, 0.005, 45, 50]\n",
    "        \n",
    "        out=\"VEL\"  # \"DISP\" \"ACC\"\n",
    "        \n",
    "        st.remove_response(\n",
    "            inventory=inv, \n",
    "#             pre_filt=pre_fit,\n",
    "            output=out\n",
    "        )\n",
    "        \n",
    "        print(f\"\\nremoving response ...\")\n",
    "        print(f\"\\noutput {out}\")\n",
    "        \n",
    "    print('\\nFinished\\n_______________\\n')\n",
    "    \n",
    "    return st, inv\n"
   ]
  },
  {
   "cell_type": "code",
   "execution_count": 68,
   "metadata": {
    "code_folding": [
     1
    ]
   },
   "outputs": [],
   "source": [
    "\n",
    "def __fft(signal_in, dt ,window=None,normalize=None):\n",
    "\n",
    "\t'''\n",
    "\tCalculating a simple 1D FastFourierSpectrum of a time series.\n",
    "\n",
    "\tExample:\n",
    "\t>>> N = 600\n",
    "\t>>> dt = 0.01\n",
    "\t>>> x = np.linspace(0.0, N*dt, N)\n",
    "\t>>> y = np.sin(10.0 * 2.0*np.pi*x) + 0.5*np.sin(15.0 * 2.0*np.pi*x)\n",
    "\n",
    "\t>>> sp, ff = __fft(y,dt,window=True,normalize=False)\n",
    "\n",
    "\t'''\n",
    "\n",
    "\tfrom scipy.fft import fft, fftfreq, fftshift\n",
    "\tfrom scipy import signal\n",
    "\t    \n",
    "\t## determine length of the input time series\n",
    "\tn = int(len(signal_in))\n",
    "\n",
    "\n",
    "\n",
    "\t## calculate spectrum (with or without window function applied to time series)\n",
    "\tif window is None or window is False:\n",
    "\t\tspectrum = fft( signal_in )\n",
    "\n",
    "\telif window is True:\n",
    "\t\twindow = signal.hann(n); print('Hanning window applied \\n')\n",
    "\t\t#window = signal.kaiser(n, beta=14); print('Kaiser window (beta = 14) applied \\n')\n",
    "\t\t#window = signal.gaussian(n, std=20); print('Gaussian window (std = 20) applied \\n')\n",
    "\t\tspectrum = fft( signal_in * window )\n",
    "\n",
    "\t## calculate frequency array \n",
    "\tfrequencies = fftfreq(n, d=dt)\n",
    "\t\n",
    "\n",
    "\t## correct amplitudes of spectrum and optional normalize\n",
    "\tif normalize == None or normalize == False:\n",
    "\t\tspectrum_out = 2.0 / n * abs( spectrum )\n",
    "\t\n",
    "\telif normalize == True:\n",
    "\t\tspectrum_out = abs( spectrum / abs(spectrum).max()); print('Spectrum normalized \\n')\n",
    "\n",
    "\t## return the positive frequencies\n",
    "\treturn spectrum_out[1:n//2], frequencies[1:n//2]\n"
   ]
  },
  {
   "cell_type": "code",
   "execution_count": 94,
   "metadata": {
    "code_folding": [
     1
    ]
   },
   "outputs": [],
   "source": [
    "\n",
    "def __create_synthetic_event(T, sps, frequency, noise):\n",
    "    \n",
    "    '''\n",
    "    creating a transient event signal by combining ricker wavelets, which is subsequently modulated onto the carrier signal\n",
    "    \n",
    "    T         = total time of trace\n",
    "    sps       = samples per second corresponding to anlog signal\n",
    "    frequency = dominant frequency of ricker wavelet\n",
    "    noise     = True/False , to either include or exclude noise for the event signal\n",
    "    '''\n",
    "    \n",
    "    ## shift the transient signal along the trace in time dimension\n",
    "    offset = 3000\n",
    "    \n",
    "\n",
    "    spikes = np.array([1,5,4,8,15,17,70,72,75,79,85])*10 + offset\n",
    "    ref = np.zeros(int(T*sps))\n",
    "    rick = ricker(pts, frequency)\n",
    "\n",
    "    for i in spikes:\n",
    "        ref[i] = 1\n",
    "        \n",
    "    if noise:        \n",
    "        noise = np.random.rand(T*sps)\n",
    "        event = np.convolve(rick, ref, 'same') + 0.03 * noise\n",
    "    else:\n",
    "        event = np.convolve(rick, ref, 'same')\n",
    "\n",
    "\n",
    "    event_fft = fft(event)\n",
    "    #event_fft_db = 20*np.log10(event_fft/max(event_fft))\n",
    "\n",
    "\n",
    "    ## _______________________________________________________________________________\n",
    "    ## Plotting \n",
    "    \n",
    "    fig, (ax1, ax2) = plt.subplots(1,2,figsize=(15,5))\n",
    "\n",
    "    ff = np.linspace(0,0.5*sps,pts)\n",
    "    N = len(ff)\n",
    "    time = np.arange(0,T,1/sps)\n",
    "\n",
    "    ax1.plot(time,event,color='black')\n",
    "    ax2.plot(ff[:N // 2],np.abs(event_fft[:N // 2]))\n",
    "\n",
    "    ax1.set_xlim(min(spikes)/sps-0.1*min(spikes)/sps,max(spikes)/sps+0.1*max(spikes)/sps)\n",
    "    ax1.set_xlabel('Time (s)')\n",
    "    ax1.set_ylabel('Counts')\n",
    "    \n",
    "    ax2.set_xlim(0,200/frequency)\n",
    "    ax2.set_ylim(0,max(np.abs(event_fft[10:N // 2]))+0.01*max(np.abs(event_fft[:N // 2])))\n",
    "    ax2.set_xlabel('Frequency (Hz)')\n",
    "    ax2.set_ylabel('Spectral Amplitude')\n",
    "    \n",
    "    plt.show();\n",
    "    \n",
    "    return time, event\n"
   ]
  },
  {
   "cell_type": "code",
   "execution_count": 4,
   "metadata": {
    "code_folding": [
     1
    ]
   },
   "outputs": [],
   "source": [
    "\n",
    "def __analog_to_digital(sgnc, event , T, sps, fsd, factor):\n",
    "\n",
    "    ''' \n",
    "    resample the simulated analog signal to get a digital \n",
    "    data stream \n",
    "    \n",
    "    '''\n",
    "\n",
    "    sig_ana = np.sin(2*np.pi*(sgnc + factor * event ) * time ) \n",
    "    #sig_ana = np.sin(2*np.pi*(sgnc ) * time ) \n",
    "\n",
    "\n",
    "    ## --------------------------------------------------------------------\n",
    "\n",
    "    #fsd = sps/2\n",
    "\n",
    "\n",
    "    sp  = np.arange(0,T*sps,sps/fsd)\n",
    "    spt = np.arange(0,T,1/fsd)\n",
    "\n",
    "\n",
    "    sig_dig = []\n",
    "    for i in sp:\n",
    "        sig_dig.append(sig_ana[int(i)])\n",
    "\n",
    "    sig_dig = np.array(sig_dig)\n",
    "\n",
    "    return sig_dig\n",
    "\n",
    "    ## _______________________________________________________________________________\n",
    "\n",
    "    fig, ax = plt.subplots(1,1,figsize=(15,5))\n",
    "\n",
    "    #ax.scatter(sp,sig,s=0.01)\n",
    "    #ax.plot(time,sig_ana)\n",
    "\n",
    "    ax.scatter(spt,sig_dig,s=15,color='black')\n",
    "    ax.plot(spt,sig_dig,color='grey')\n",
    "\n",
    "    ax.set_xlabel('Time (s)')\n",
    "    ax.set_ylabel('Counts')\n",
    "    ax.set_xlim(0,0.25)\n",
    "\n",
    "    plt.show();\n",
    "    "
   ]
  },
  {
   "cell_type": "code",
   "execution_count": 5,
   "metadata": {
    "code_folding": [
     1
    ]
   },
   "outputs": [],
   "source": [
    "\n",
    "def __resample_digital_signal(sig_in,fs,fac,taper):\n",
    "\n",
    "    ''' \n",
    "    \n",
    "    up-samping of the simulated digital signal \n",
    "    \n",
    "    sig_in   = input signal\n",
    "    fs       = sampling frequency of digital signal\n",
    "    fac      = sampling factor (2 = double)\n",
    "    taper    = True/False , to either taper or not taper output\n",
    "    \n",
    "    '''\n",
    "    \n",
    "\n",
    "    def butter_bandpass(lowcut, highcut, fs, order=5):\n",
    "        nyq = 0.5 * fs\n",
    "        low = lowcut / nyq\n",
    "        high = highcut / nyq\n",
    "        b, a = butter(order, [low, high], btype='band')\n",
    "        return b, a\n",
    "\n",
    "\n",
    "    def butter_bandpass_filter(data, lowcut, highcut, fs, order=5):\n",
    "        b, a = butter_bandpass(lowcut, highcut, fs, order=order)\n",
    "        y = lfilter(b, a, data)\n",
    "        return y\n",
    "\n",
    "\n",
    "    def resampling(sig_in,fac,fs,select):\n",
    "\n",
    "        if select == 1:\n",
    "            sig_out = resample(sig_in,len(sig_in)*fac)\n",
    "\n",
    "        elif select == 2:\n",
    "            sig = list(sig_in); i=0\n",
    "\n",
    "            while i < len(sig):\n",
    "                sig.insert(i, 0.0)\n",
    "                i += 2\n",
    "            sig_out = np.array(sig)\n",
    "\n",
    "        time_out = np.arange(0,len(sig_in)/fs,1/(fs*fac))\n",
    "\n",
    "        return  (sig_out, time_out)\n",
    "\n",
    "\n",
    "\n",
    "    #sig_dig_fil_res, tt_res = resampling(sig_dig_fil,2,fs,2)\n",
    "    sig_dig_res, tt_res = resampling(sig_in,2,fs,1)\n",
    "\n",
    "\n",
    "    sig_dig_res_tap = np.hanning(len(sig_dig_res)) * sig_dig_res\n",
    "    #sig_dig_res_tap_fil = butter_bandpass_filter(sig_dig_res_tap,0.1,100,fs,4)\n",
    "\n",
    "\n",
    "    ## _______________________________________________________________________________\n",
    "\n",
    "    fig, ax = plt.subplots(1,1,figsize=(15,5))\n",
    "\n",
    "    tt     = tt_res\n",
    "    signal = sig_dig_res\n",
    "    \n",
    "    \n",
    "    ax.plot(tt,signal,color='grey')\n",
    "\n",
    "    ax.scatter(tt,signal,s=15,color='black')\n",
    "\n",
    "    ax.scatter(tt[::2],signal[::2],s=15,color='red')\n",
    "    #ax.plot(tt[1::2],signal[1::2],color='darkred')\n",
    "\n",
    "\n",
    "    ax.set_xlim(0,0.25)\n",
    "    ax.set_xlabel('Time (s)')\n",
    "    ax.set_ylabel('Counts')\n",
    "\n",
    "    plt.show();\n",
    "    \n",
    "    ## _______________________________________________________________________________\n",
    "   \n",
    "    \n",
    "    if taper:\n",
    "        return tt_res, sig_dig_res_tap\n",
    "    \n",
    "    elif not taper:\n",
    "        return tt_res, sig_dig_res\n",
    "    "
   ]
  },
  {
   "cell_type": "code",
   "execution_count": 6,
   "metadata": {
    "code_folding": [
     1
    ]
   },
   "outputs": [],
   "source": [
    "\n",
    "def __sinus_fit(input1, input2, step, over):\n",
    "\n",
    "    ''' Fitting a sin-functionto the resampled data to estimate an instantaneous frequency '''\n",
    "    \n",
    "    def func(x, a, b):\n",
    "        return a * np.sin(2*np.pi* b * x) * np.hanning(len(x))\n",
    "\n",
    "    dt = (input1[2]-input1[1])\n",
    "\n",
    "    amps=[]\n",
    "    freq=[]\n",
    "\n",
    "    ## create time refernce \n",
    "    tt = np.arange(step,len(input1)-step, over) \n",
    "\n",
    "    \n",
    "    for idx in tt:\n",
    "\n",
    "        idx = int(idx)\n",
    "        \n",
    "        ## start values for fit\n",
    "        a0 = 0.9\n",
    "        b0 = 54\n",
    "        b1 = 55\n",
    "        \n",
    "        ## condition for fit\n",
    "        while abs(b0-b1) > 0.1:\n",
    "            b0 = b1\n",
    "            params, params_covariance = optimize.curve_fit(func, input1[idx-step:idx+step], np.hanning(len(input2[idx-step:idx+step]))*input2[idx-step:idx+step],p0=[a0, b0])\n",
    "            b1 = params[1]\n",
    "\n",
    "\n",
    "        amps.append(params[0])\n",
    "        freq.append(params[1])\n",
    "    \n",
    "    ## convert lists to arrays\n",
    "    amps = np.array(amps)\n",
    "    freq = np.array(freq)\n",
    "    \n",
    "    \n",
    "    ## instert nan value for time zero (exluded bevause of np.diff() ) \n",
    "    freq = np.insert(freq, 0, np.nan, axis=0)\n",
    "    tt   = np.insert(tt, 0, 0.0, axis=0)\n",
    "    \n",
    "    \n",
    "    \n",
    "    ## _______________________________________________________________________________\n",
    "\n",
    "    fig, ax = plt.subplots(1,1,figsize=(15,5))\n",
    "\n",
    "    idx1 = 100\n",
    "    idx2 = idx1+step\n",
    "    \n",
    "    xx = np.linspace(input1[idx1],input1[idx2],step*8) \n",
    "    \n",
    "    ax.scatter(input1[idx1:idx2],np.hanning(len(input2[idx1:idx2]))*input2[idx1:idx2],s=10,color='black')\n",
    "    ax.plot(xx,func(xx,params[0],params[1]),color='red')\n",
    "\n",
    "\n",
    "\n",
    "    plt.show();\n",
    "    \n",
    "    ## _______________________________________________________________________________\n",
    "   \n",
    "    \n",
    "    return  tt*dt , freq\n"
   ]
  },
  {
   "cell_type": "code",
   "execution_count": 7,
   "metadata": {
    "code_folding": [
     1
    ]
   },
   "outputs": [],
   "source": [
    "\n",
    "def __instantaneous_frequency_hilbert(sig_in,time_in,fs):\n",
    "    \n",
    "    ''' Estimation of the instantaneous frequency (modulated signal) by using integrated python methods '''\n",
    "    \n",
    "    sig_hil = hilbert(sig_in)\n",
    "    \n",
    "    insta_phase = np.unwrap(np.angle(sig_hil))\n",
    "    \n",
    "    insta_freq  = 2* (np.diff(insta_phase) / (2.0 * np.pi)  * fs)\n",
    "\n",
    "    ## instert nan value for time zero (exluded bevause of np.diff() ) \n",
    "    insta_freq = np.insert(insta_freq, 0, np.nan, axis=0)\n",
    "\n",
    "    \n",
    "    ## _______________________________________________________________________________\n",
    "\n",
    "    fig, ax = plt.subplots(1,1,figsize=(15,5))\n",
    "\n",
    "    ax.plot(time_in,insta_freq,color='grey')\n",
    "\n",
    "    x1=5\n",
    "    x2=10\n",
    "\n",
    "    ax.set_xlim(x1,x2)\n",
    "    ax.set_ylim(min(insta_freq[int(x1*fs*2):int(x2*fs*2)])-0.5,max(insta_freq[int(x1*fs*2):int(x2*fs*2)])+0.5)\n",
    "\n",
    "    ax.set_ylabel('$\\Delta$ f (Hz)')\n",
    "    ax.set_xlabel('Time (s)')\n",
    "    \n",
    "    plt.show();    \n",
    "    \n",
    "    ## _______________________________________________________________________________\n",
    "\n",
    "    return time_in, insta_freq\n"
   ]
  },
  {
   "cell_type": "code",
   "execution_count": 8,
   "metadata": {
    "code_folding": [
     1
    ]
   },
   "outputs": [],
   "source": [
    "\n",
    "def __hibert_filter(sig_in,time_in,fs):\n",
    "    \n",
    "    '''\n",
    "    estimating the instantaneous frequency by using the formula of Jo\n",
    "    \n",
    "    sig_in    = input signal\n",
    "    time_in   = input timeline\n",
    "    fs        = sampling frequency of digital signal\n",
    "    '''\n",
    "    \n",
    "    hil0 = hilbert(sig_in)\n",
    "    hil = np.imag(hil0)\n",
    "    \n",
    "    delta_f_full = (sig_in[1:]*np.diff(hil) - np.diff(sig_in) * hil[1:]) / (2*np.pi*(sig_in[1:]**2 + hil[1:]**2))\n",
    "\n",
    "    delta_f = np.real(delta_f_full)\n",
    "    \n",
    "    ## instert nan value for time zero (exluded bevause of np.diff() ) \n",
    "    delta_f = np.insert(delta_f, 0, np.nan, axis=0)\n",
    "\n",
    "    ## _______________________________________________________________________________\n",
    "\n",
    "    fig, ax = plt.subplots(1,1,figsize=(15,5))\n",
    "\n",
    "#    ax.plot(time_in[1:],delta_f,color='grey')\n",
    "    ax.plot(time_in,delta_f,color='grey')\n",
    "\n",
    "    x1=5\n",
    "    x2=10\n",
    "\n",
    "    ax.set_xlim(x1,x2)\n",
    "    ax.set_ylim(min(delta_f[int(x1*fs):int(x2*fs)])-0.5,max(delta_f[int(x1*fs):int(x2*fs)])+0.5)\n",
    "\n",
    "    ax.set_ylabel('$\\Delta$ f (Hz)')\n",
    "    ax.set_xlabel('Time (s)')\n",
    "    \n",
    "    plt.show();    \n",
    "    \n",
    "    ## _______________________________________________________________________________\n",
    "\n",
    "#    return time_in[1:], delta_f\n",
    "    return time_in, delta_f\n"
   ]
  },
  {
   "cell_type": "code",
   "execution_count": 9,
   "metadata": {
    "code_folding": [
     1
    ]
   },
   "outputs": [],
   "source": [
    "\n",
    "def __makeplot_diff(time_in, sig_in):\n",
    "\n",
    "    \n",
    "    fig, ax = plt.subplots(1,1,figsize=(15,5))\n",
    "\n",
    "    ax.plot(time_in,sig_in, color='black')\n",
    "\n",
    "    ax.set_xlabel('Time (s)')\n",
    "    ax.set_ylabel('Amplitude')\n",
    "\n",
    "    plt.show()\n"
   ]
  },
  {
   "cell_type": "code",
   "execution_count": 10,
   "metadata": {
    "code_folding": [
     1
    ]
   },
   "outputs": [],
   "source": [
    "\n",
    "def __makeplot_comparison(time_in1, sig_in, time_in2, event_in, option, sps, sgnc):\n",
    "\n",
    "    x1 = 5\n",
    "    x2 = 10\n",
    "\n",
    "    if option == 'option1' or option == 'option2':\n",
    "        signal = sig_in - sgnc\n",
    "    elif option == 'option3':\n",
    "        signal = sig_in\n",
    "\n",
    "    fig, ax = plt.subplots(1,1,figsize=(15,5))\n",
    "\n",
    "    ax.plot(time_in2,event_in,color='black')\n",
    "\n",
    "    ax.set_xlabel('Time (s)')\n",
    "    ax.set_ylabel('Amplitude')\n",
    "\n",
    "\n",
    "    ax.set_xlim(x1,x2)\n",
    "    ax.set_ylim(-max(abs(event_in[x1*sps:x2*sps])),max(abs(event_in[x1*sps:x2*sps])))\n",
    "\n",
    "    ax2 = ax.twinx()\n",
    "    ax2.plot(time_in1, signal,color='red')\n",
    "\n",
    "    ax2.set_ylabel('$\\Delta$ f (Hz)')\n",
    "    ax2.yaxis.label.set_color('red')\n",
    "    ax2.tick_params(axis='y', colors='red')\n",
    "\n",
    "    if option == 'option1':\n",
    "        ax2.set_ylim(-max(abs(signal[int(x1*sps/2):int(x2*sps/2)])),max(abs(signal[int(x1*sps/2):int(x2*sps/2)])))\n",
    "    elif option == 'option2':\n",
    "        ax2.set_ylim(-max(abs(signal[int(x1*sps):int(x2*sps)])),max(abs(signal[int(x1*sps):int(x2*sps)])))\n",
    "    elif option == 'option3':\n",
    "        ax2.set_ylim(-max(abs(signal[int(x1*sps):int(x2*sps)])),max(abs(signal[int(x1*sps):int(x2*sps)])))\n",
    "\n",
    "\n",
    "    plt.show();\n"
   ]
  },
  {
   "cell_type": "code",
   "execution_count": 86,
   "metadata": {
    "code_folding": [
     0
    ]
   },
   "outputs": [],
   "source": [
    "def __makeplot_trace_and_spectrum(trace, timeline):\n",
    "\n",
    "    fig, (ax1, ax2) = plt.subplots(1, 2, figsize=(15,5))\n",
    "\n",
    "    trace_fft, ff = __fft(signal_in=trace, dt=trace.stats.delta , window=None, normalize=None)\n",
    "\n",
    "    ax1.plot(timeline, trace)\n",
    "\n",
    "    ax2.plot(ff[:N // 2],np.abs(trace_fft[:N // 2]))\n",
    "\n",
    "    plt.show();\n"
   ]
  },
  {
   "cell_type": "markdown",
   "metadata": {},
   "source": [
    "### Querry seismic data "
   ]
  },
  {
   "cell_type": "code",
   "execution_count": 32,
   "metadata": {},
   "outputs": [
    {
     "name": "stdout",
     "output_type": "stream",
     "text": [
      "\n",
      "Get data:  BW.RLAS..BJZ (30.0) ...\n",
      "\n",
      "Using Eida-Routing...\n",
      "\n",
      "Requesting from 1 network(s) and 1 stations\n",
      "\n",
      "removing response ...\n",
      "\n",
      "output VEL\n",
      "\n",
      "Finished\n",
      "_______________\n",
      "\n"
     ]
    },
    {
     "name": "stderr",
     "output_type": "stream",
     "text": [
      "/home/andbro/anaconda3/envs/obs/lib/python3.7/site-packages/obspy/core/inventory/response.py:1193: UserWarning: The unit 'RAD/S' is not known to ObsPy. It will be assumed to be displacement for the calculations. This mostly does the right thing but please proceed with caution.\n",
      "  warnings.warn(msg)\n"
     ]
    }
   ],
   "source": [
    "tbeg = obspy.UTCDateTime(2020, 10, 30, 11, 50)\n",
    "tend = obspy.UTCDateTime(2020, 10, 30, 12, 20)\n",
    "\n",
    "RLAS, RLAS_inv = __querrySeismoData(\"BW.RLAS..BJZ\", tbeg, tend, \n",
    "                                    restitute=True)\n",
    "\n",
    "RLAS.plot();"
   ]
  },
  {
   "cell_type": "markdown",
   "metadata": {},
   "source": [
    "### Process seismic data"
   ]
  },
  {
   "cell_type": "code",
   "execution_count": 88,
   "metadata": {
    "code_folding": []
   },
   "outputs": [
    {
     "name": "stdout",
     "output_type": "stream",
     "text": [
      "Maximum amplitude RLAS:  3.41066942851e-08 rad/s\n",
      "Maximum amplitude dat:  -1.71214928916e-08 rad/s\n"
     ]
    },
    {
     "data": {
      "image/png": "[encoded data removed]",
      "text/plain": [
       "<Figure size 1080x360 with 2 Axes>"
      ]
     },
     "metadata": {
      "needs_background": "light"
     },
     "output_type": "display_data"
    }
   ],
   "source": [
    "if 'dat' in globals():\n",
    "    del dat\n",
    "    \n",
    "dat = RLAS[0].copy()\n",
    "\n",
    "## filter corners\n",
    "dat.filter(\"lowpass\", freq=1.0, corners=2)\n",
    "\n",
    "## Sampling rate of original seismogram and sampling interval\n",
    "dt, fs  = dat.stats.delta, 1/dat.stats.delta\n",
    "\n",
    "## Choose window (otherwise core runs too long)\n",
    "shift = 12 # minutes\n",
    "dat.trim(tbeg+shift*60, tbeg+(shift+1)*60)\n",
    "\n",
    "\n",
    "## Taper at both ends (one could also use obspy taper!)\n",
    "dat.taper(0.1, type='hann', max_length=None, side='both')\n",
    "\n",
    "## Initialize time for original data\n",
    "timeline = np.linspace(0, np.size(dat) * dt, np.size(dat))\n",
    "\n",
    "## Print metadata and min max values \n",
    "print('Maximum amplitude RLAS: ', RLAS[0].max(), 'rad/s')\n",
    "print('Maximum amplitude dat: ', dat.max(), 'rad/s')\n",
    "\n",
    "## for further code to work\n",
    "torig = timeline\n",
    "data = dat\n",
    "\n",
    "## _______________________________________________\n",
    "\n",
    "__makeplot_trace_and_spectrum(dat, timeline)"
   ]
  },
  {
   "cell_type": "markdown",
   "metadata": {},
   "source": [
    "### Choosing configuration"
   ]
  },
  {
   "cell_type": "code",
   "execution_count": 101,
   "metadata": {},
   "outputs": [
    {
     "data": {
      "image/png": "[encoded data removed]",
      "text/plain": [
       "<Figure size 1080x360 with 2 Axes>"
      ]
     },
     "metadata": {
      "needs_background": "light"
     },
     "output_type": "display_data"
    },
    {
     "ename": "TypeError",
     "evalue": "unsupported operand type(s) for *: 'float' and 'Trace'",
     "output_type": "error",
     "traceback": [
      "\u001b[0;31m---------------------------------------------------------------------------\u001b[0m",
      "\u001b[0;31mTypeError\u001b[0m                                 Traceback (most recent call last)",
      "\u001b[0;32m<ipython-input-101-1371f1ed3a47>\u001b[0m in \u001b[0;36m<module>\u001b[0;34m\u001b[0m\n\u001b[1;32m      9\u001b[0m \u001b[0;34m\"\"\"sampling the synthetic analog signal to a digital time series\"\"\"\u001b[0m\u001b[0;34m\u001b[0m\u001b[0;34m\u001b[0m\u001b[0m\n\u001b[1;32m     10\u001b[0m \u001b[0;31m#sig_dig = __analog_to_digital(sgnc, event, T, sps, fs_digi, 0.1)\u001b[0m\u001b[0;34m\u001b[0m\u001b[0;34m\u001b[0m\u001b[0;34m\u001b[0m\u001b[0m\n\u001b[0;32m---> 11\u001b[0;31m \u001b[0msig_dig\u001b[0m \u001b[0;34m=\u001b[0m \u001b[0m__analog_to_digital\u001b[0m\u001b[0;34m(\u001b[0m\u001b[0mG_sgnc\u001b[0m\u001b[0;34m,\u001b[0m \u001b[0mdat\u001b[0m\u001b[0;34m,\u001b[0m \u001b[0mT\u001b[0m\u001b[0;34m,\u001b[0m \u001b[0msps\u001b[0m\u001b[0;34m,\u001b[0m \u001b[0mfs_digi\u001b[0m\u001b[0;34m,\u001b[0m \u001b[0;36m0.1\u001b[0m\u001b[0;34m)\u001b[0m\u001b[0;34m\u001b[0m\u001b[0;34m\u001b[0m\u001b[0m\n\u001b[0m\u001b[1;32m     12\u001b[0m \u001b[0;34m\u001b[0m\u001b[0m\n\u001b[1;32m     13\u001b[0m \u001b[0;34m\"\"\"interpolate the digital time series\"\"\"\u001b[0m\u001b[0;34m\u001b[0m\u001b[0;34m\u001b[0m\u001b[0m\n",
      "\u001b[0;32m<ipython-input-4-f821c833b588>\u001b[0m in \u001b[0;36m__analog_to_digital\u001b[0;34m(sgnc, event, T, sps, fsd, factor)\u001b[0m\n\u001b[1;32m      4\u001b[0m \u001b[0;34m\u001b[0m\u001b[0m\n\u001b[1;32m      5\u001b[0m \u001b[0;34m\u001b[0m\u001b[0m\n\u001b[0;32m----> 6\u001b[0;31m     \u001b[0msig_ana\u001b[0m \u001b[0;34m=\u001b[0m \u001b[0mnp\u001b[0m\u001b[0;34m.\u001b[0m\u001b[0msin\u001b[0m\u001b[0;34m(\u001b[0m\u001b[0;36m2\u001b[0m\u001b[0;34m*\u001b[0m\u001b[0mnp\u001b[0m\u001b[0;34m.\u001b[0m\u001b[0mpi\u001b[0m\u001b[0;34m*\u001b[0m\u001b[0;34m(\u001b[0m\u001b[0msgnc\u001b[0m \u001b[0;34m+\u001b[0m \u001b[0mfactor\u001b[0m \u001b[0;34m*\u001b[0m \u001b[0mevent\u001b[0m \u001b[0;34m)\u001b[0m \u001b[0;34m*\u001b[0m \u001b[0mtime\u001b[0m \u001b[0;34m)\u001b[0m\u001b[0;34m\u001b[0m\u001b[0;34m\u001b[0m\u001b[0m\n\u001b[0m\u001b[1;32m      7\u001b[0m     \u001b[0;31m#sig_ana = np.sin(2*np.pi*(sgnc ) * time )\u001b[0m\u001b[0;34m\u001b[0m\u001b[0;34m\u001b[0m\u001b[0;34m\u001b[0m\u001b[0m\n\u001b[1;32m      8\u001b[0m \u001b[0;34m\u001b[0m\u001b[0m\n",
      "\u001b[0;31mTypeError\u001b[0m: unsupported operand type(s) for *: 'float' and 'Trace'"
     ]
    }
   ],
   "source": [
    "## set sampling frequency for digital signal \n",
    "fs_digi = sps/2\n",
    "\n",
    "\n",
    "\"\"\"creating an event with center frequency fc\"\"\"\n",
    "fc = 20 # Hz\n",
    "tt_event, event = __create_synthetic_event(T, sps, fc, True)\n",
    "\n",
    "\"\"\"sampling the synthetic analog signal to a digital time series\"\"\"\n",
    "#sig_dig = __analog_to_digital(sgnc, event, T, sps, fs_digi, 0.1)\n",
    "sig_dig = __analog_to_digital(G_sgnc, dat, T, sps, fs_digi, 0.1)\n",
    "\n",
    "\"\"\"interpolate the digital time series\"\"\"\n",
    "#tt_res, sig_dig_res = __resample_digital_signal(sig_dig, fs_digi, 1, False)\n",
    "\n",
    "\n",
    "# _____________________________________________________________________________________________________________\n",
    "#tt_demod, sig_demod = __sinus_fit(tt_res, sig_dig_res, 10, 2) ; option = 'option1'\n",
    "\n",
    "# _____________________________________________________________________________________________________________\n",
    "#tt_demod, sig_demod = __instantaneous_frequency_hilbert(sig_dig_res, tt_res, fs_digi) ; option = 'option2'\n",
    "\n",
    "# _____________________________________________________________________________________________________________\n",
    "#tt_demod, sig_demod = __hibert_filter(sig_dig_res,tt_res,fs_digi) ; option = 'option3'\n",
    "\n",
    "\n",
    "\n",
    "\n",
    "## _______________________________________________________________________________\n",
    "\n",
    "\n",
    "__makeplot_comparison(tt_demod, sig_demod, tt_event, event, option, sps, sgnc)\n",
    "\n",
    "\n",
    "__makeplot_diff(tt_demod, sig_demod-event)\n"
   ]
  },
  {
   "cell_type": "code",
   "execution_count": null,
   "metadata": {},
   "outputs": [],
   "source": []
  }
 ],
 "metadata": {
  "kernelspec": {
   "display_name": "Python 3 (ipykernel)",
   "language": "python",
   "name": "python3"
  },
  "language_info": {
   "codemirror_mode": {
    "name": "ipython",
    "version": 3
   },
   "file_extension": ".py",
   "mimetype": "text/x-python",
   "name": "python",
   "nbconvert_exporter": "python",
   "pygments_lexer": "ipython3",
   "version": "3.9.16"
  }
 },
 "nbformat": 4,
 "nbformat_minor": 4
}
