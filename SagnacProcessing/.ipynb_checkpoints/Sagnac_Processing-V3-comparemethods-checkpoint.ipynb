{
 "cells": [
  {
   "cell_type": "markdown",
   "metadata": {},
   "source": [
    "<div style='background-image: url(\"https://www.geophysik.uni-muenchen.de/ROMY/theme/images/ringlaser_wideformat.jpg\") ; padding: 0px ; background-size: cover ; border-radius: 15px ; height: 250px; background-position: 0% 80%'>\n",
    "    <div style=\"float: left ; margin: 50px ; padding: 20px ; background: rgba(255 , 255 , 255 , 0.9) ; width: 35% ; height: 150px\">\n",
    "        <div style=\"position: relative ; top: 50%;  transform: translatey(-50%)\">\n",
    "            <div style=\"font-size: xx-large ; font-weight: 900 ; color: rgba(0 , 0 , 0 , 0.9) ; line-height: 100%\"> <br>ROMY - <br><br>  Synthetic Sagnac Processing </div>\n",
    "            <div style=\"font-size: large ; padding-top: 20px ; color: rgba(0 , 0 , 0 , 0.7)\"></div>\n",
    "        </div>\n",
    "    </div>"
   ]
  },
  {
   "cell_type": "markdown",
   "metadata": {
    "ExecuteTime": {
     "end_time": "2021-01-29T15:14:27.795046Z",
     "start_time": "2021-01-29T15:14:27.791664Z"
    }
   },
   "source": [
    "## Import "
   ]
  },
  {
   "cell_type": "markdown",
   "metadata": {
    "ExecuteTime": {
     "end_time": "2021-01-29T15:15:30.279221Z",
     "start_time": "2021-01-29T15:15:30.275801Z"
    }
   },
   "source": [
    "### Official Libraries"
   ]
  },
  {
   "cell_type": "code",
   "execution_count": 1,
   "metadata": {
    "ExecuteTime": {
     "end_time": "2021-03-18T18:29:40.078569Z",
     "start_time": "2021-03-18T18:29:39.387466Z"
    }
   },
   "outputs": [],
   "source": [
    "import numpy as np \n",
    "import matplotlib.pyplot as plt \n",
    "import time\n",
    "\n",
    "from scipy.signal import resample, hilbert, correlate, decimate, butter, spectrogram, sosfilt, filtfilt\n",
    "from tqdm import tqdm\n",
    "from obspy import UTCDateTime, read, read_inventory, Trace\n",
    "import obspy"
   ]
  },
  {
   "cell_type": "markdown",
   "metadata": {},
   "source": [
    "### Own Processing Methods"
   ]
  },
  {
   "cell_type": "code",
   "execution_count": 2,
   "metadata": {
    "ExecuteTime": {
     "end_time": "2021-03-18T18:29:40.083355Z",
     "start_time": "2021-03-18T18:29:40.080942Z"
    }
   },
   "outputs": [],
   "source": [
    "import sys\n",
    "sys.path.insert(0, 'submodules')"
   ]
  },
  {
   "cell_type": "code",
   "execution_count": 3,
   "metadata": {
    "ExecuteTime": {
     "end_time": "2021-03-18T18:29:40.094002Z",
     "start_time": "2021-03-18T18:29:40.085837Z"
    }
   },
   "outputs": [],
   "source": [
    "from EchoPerformance import __echo_performance\n",
    "from CreateSyntheticEventV2 import __create_synthetic_event_v2\n",
    "from MakeplotDemodulationQuality import __makeplot_demodulation_quality\n",
    "from MinimizeResidual import __minimize_residual\n",
    "from CreateLinearChirp import __create_linear_chirp\n",
    "from Tapering import __tapering\n",
    "from InstaFreqHilbert import __insta_freq_hilbert\n",
    "from Normalize import __normalize\n",
    "from WriteToMseed import __write_to_mseed\n",
    "from LoadMseed import __load_mseed\n",
    "from Modulation import __modulation\n",
    "from QuerrySeismoData import __querry_seismo_data\n",
    "from RingLaser import RingLaser\n"
   ]
  },
  {
   "cell_type": "code",
   "execution_count": 4,
   "metadata": {
    "ExecuteTime": {
     "end_time": "2021-03-18T18:29:40.103055Z",
     "start_time": "2021-03-18T18:29:40.100573Z"
    },
    "code_folding": [
     0
    ]
   },
   "outputs": [],
   "source": [
    "# def third_order_derive(x, pos=\"MIDDLE\"):\n",
    "\n",
    "#     coeff = np.zeros((5,5))\n",
    "#     norm = np.array([0,0])\n",
    "#     sum = 0.\n",
    "\n",
    "#     norm[0] = 12.;\n",
    "#     norm[1] = 84.;\n",
    "\n",
    "#     coeff[0][0] = -125.;\n",
    "#     coeff[0][1] =  136.;\n",
    "#     coeff[0][2] =   48.;\n",
    "#     coeff[0][3] =  -88.;\n",
    "#     coeff[0][4] =   29.;\n",
    "#     coeff[1][0] =  -38.;\n",
    "#     coeff[1][1] =   -2.;\n",
    "#     coeff[1][2] =   24.;\n",
    "#     coeff[1][3] =   26.;\n",
    "#     coeff[1][4] =  -10.;\n",
    "#     coeff[2][0] =    1.;\n",
    "#     coeff[2][1] =   -8.;\n",
    "#     coeff[2][2] =    0.;\n",
    "#     coeff[2][3] =    8.;\n",
    "#     coeff[2][4] =   -1.;\n",
    "#     coeff[3][0] =   10.;\n",
    "#     coeff[3][1] =  -26.;\n",
    "#     coeff[3][2] =  -24.;\n",
    "#     coeff[3][3] =    2.;\n",
    "#     coeff[3][4] =   38.;\n",
    "#     coeff[4][0] =  -29.;\n",
    "#     coeff[4][1] =   88.;\n",
    "#     coeff[4][2] =  -48.;\n",
    "#     coeff[4][3] = -136.;\n",
    "#     coeff[4][4] =  125.;\n",
    "\n",
    "#     for i in range(0, 5):\n",
    "#         sum += coeff[pos][i]*x[i];\n",
    "    \n",
    "#     if pos == 'MIDDLE':\n",
    "#         sum /= norm[0];\n",
    "    \n",
    "#     else:\n",
    "#         sum /= norm[1];\n",
    "\n",
    "\n",
    "#     return sum"
   ]
  },
  {
   "cell_type": "code",
   "execution_count": 5,
   "metadata": {
    "ExecuteTime": {
     "end_time": "2021-03-18T18:29:40.108983Z",
     "start_time": "2021-03-18T18:29:40.104455Z"
    }
   },
   "outputs": [],
   "source": [
    "from RingLaser import RingLaser\n",
    "\n",
    "## define G-Ring\n",
    "G = RingLaser(side=4., form=\"square\", wl=632.8e-9, lat=49.16)\n",
    "\n",
    "## define ROMY Z-Ring\n",
    "ROMY_Z = RingLaser(side=11., form=\"triangle\", wl=632.8e-9, lat=49.16)\n"
   ]
  },
  {
   "cell_type": "markdown",
   "metadata": {},
   "source": [
    "### Own Plotting Methods"
   ]
  },
  {
   "cell_type": "code",
   "execution_count": 6,
   "metadata": {
    "ExecuteTime": {
     "end_time": "2021-03-18T18:29:40.114058Z",
     "start_time": "2021-03-18T18:29:40.110670Z"
    }
   },
   "outputs": [],
   "source": [
    "from MakeplotTraceAndSpectrum import __makeplot_trace_and_spectrum\n",
    "from MakeplotTraceAndPSD import __makeplot_trace_and_psd\n",
    "from MakeplotModulatedSignal import __makeplot_modulated_signal"
   ]
  },
  {
   "cell_type": "markdown",
   "metadata": {},
   "source": [
    "## Configurations"
   ]
  },
  {
   "cell_type": "code",
   "execution_count": 7,
   "metadata": {
    "ExecuteTime": {
     "end_time": "2021-03-18T18:29:40.121510Z",
     "start_time": "2021-03-18T18:29:40.116483Z"
    }
   },
   "outputs": [],
   "source": [
    "\n",
    "T = 1600\n",
    "\n",
    "sps = 5000\n",
    "\n",
    "sgnc = ROMY_Z.get_sagnac_frequency()\n",
    "\n",
    "\n",
    "modulation_index = ROMY_Z.get_scale_factor()\n",
    "\n",
    "modulation_scheme = 3\n",
    "\n",
    "\n",
    "taper_type = \"window\"\n",
    "taper_percent = 0.2\n",
    "\n",
    "\n",
    "signal = 'real'  ## 'synthetic'  or 'real'\n",
    "\n",
    "\n",
    "Twindow = 1000 # seconds\n",
    "\n",
    "upsampling = True\n",
    "\n",
    "lowpass_pre = False\n",
    "lowpass_post = False\n",
    "\n",
    "normalize = True\n",
    "remove_median = True\n"
   ]
  },
  {
   "cell_type": "markdown",
   "metadata": {},
   "source": [
    "## Read synthetic"
   ]
  },
  {
   "cell_type": "code",
   "execution_count": 8,
   "metadata": {
    "ExecuteTime": {
     "end_time": "2021-03-18T18:29:40.129562Z",
     "start_time": "2021-03-18T18:29:40.123453Z"
    },
    "code_folding": []
   },
   "outputs": [],
   "source": [
    "import pickle\n",
    "\n",
    "if signal == 'synthetic':\n",
    "\n",
    "    name = 'greece2'  # 'model_greece' (greece), 'model_lowperiod' (kermadec 0.001-0.1 Hz), 'car' (1.0-10.0 Hz), 'eigenmodes' (0.003-0.03 Hz)\n",
    "    \n",
    "    ifile = open(f'/home/andbro/notebooks/Sagnac_processing/data/{name}.syn',\"rb\")\n",
    "\n",
    "    synthetic_signal = pickle.load(ifile)\n",
    "    timeline = np.arange(0, T+1/sps, 1/sps)\n",
    "    \n",
    "    ifile = open(f'/home/andbro/notebooks/Sagnac_processing/data/{name}.mod',\"rb\")\n",
    "        \n",
    "    modeltrace = pickle.load(ifile)\n",
    "    time_modeltrace = np.arange(0, T+1/sps, 1/sps)\n",
    "    \n",
    "    synthetic_signal.size, timeline.size, modeltrace.size, time_modeltrace.size"
   ]
  },
  {
   "cell_type": "markdown",
   "metadata": {},
   "source": [
    "## Read raw real"
   ]
  },
  {
   "cell_type": "code",
   "execution_count": 9,
   "metadata": {
    "ExecuteTime": {
     "end_time": "2021-03-18T18:29:40.137509Z",
     "start_time": "2021-03-18T18:29:40.130867Z"
    }
   },
   "outputs": [],
   "source": [
    "from andbro__querrySeismoData import __querrySeismoData\n",
    "\n",
    "tbeg = UTCDateTime(\"2021-03-04 18:35\")\n",
    "tend = UTCDateTime(\"2021-03-04 18:35\")+T\n"
   ]
  },
  {
   "cell_type": "code",
   "execution_count": 12,
   "metadata": {
    "ExecuteTime": {
     "end_time": "2021-03-18T18:30:23.061986Z",
     "start_time": "2021-03-18T18:30:22.337784Z"
    },
    "code_folding": [
     0
    ]
   },
   "outputs": [
    {
     "name": "stdout",
     "output_type": "stream",
     "text": [
      "1 Trace(s) in Stream:\n",
      "BW.DROMY..FJZ | 2021-03-04T18:35:00.000000Z - 2021-03-04T19:01:40.000000Z | 5000.0 Hz, 8000001 samples\n"
     ]
    }
   ],
   "source": [
    "if signal == 'real':\n",
    "    \n",
    "    # st = read('/home/andbro/Documents/ROMY/data/BW.DROMY..FJZ.D.2021.049', \n",
    "    #          starttime=UTCDateTime(\"2021-02-18 15:00\"),\n",
    "    #          endtime=UTCDateTime(\"2021-02-18 15:00\")+T,\n",
    "    #          )\n",
    "\n",
    "    st = obspy.read(f\"/home/andbro/notebooks/Sagnac_processing/data/event_T{T}.mseed\")\n",
    "\n",
    "#     st, inv = __querrySeismoData(    \n",
    "#                                 seed_id='BW.DROMY..FJZ',\n",
    "#                                 starttime=tbeg,\n",
    "#                                 endtime=tend,\n",
    "#                                 where=\"george\",\n",
    "#                                 path=None,\n",
    "#                                 restitute=True,\n",
    "#                                 detail=None,\n",
    "#                                 )\n",
    "\n",
    "#     st.write(f\"/home/andbro/notebooks/Sagnac_processing/data/event_T{T}.mseed\", format=\"MSEED\")\n",
    "\n",
    "    print(st)\n",
    "    # st.taper(0.01)\n",
    "\n",
    "    ## define synthetic signal\n",
    "    synthetic_signal = st[0].data; del st\n",
    "\n",
    "    ## normalized signal\n",
    "    synthetic_signal = __normalize(synthetic_signal)\n",
    "    \n",
    "    ## define time axis for synthetic axis\n",
    "    timeline = np.linspace(0, T, len(synthetic_signal))\n",
    "    "
   ]
  },
  {
   "cell_type": "code",
   "execution_count": 13,
   "metadata": {
    "ExecuteTime": {
     "end_time": "2021-03-18T18:30:23.877464Z",
     "start_time": "2021-03-18T18:30:23.847724Z"
    },
    "code_folding": [
     0
    ]
   },
   "outputs": [
    {
     "ename": "FDSNException",
     "evalue": "No FDSN services could be discovered at 'http://george'. This could be due to a temporary service outage or an invalid FDSN service address.",
     "output_type": "error",
     "traceback": [
      "\u001b[0;31m---------------------------------------------------------------------------\u001b[0m",
      "\u001b[0;31mFDSNException\u001b[0m                             Traceback (most recent call last)",
      "\u001b[0;32m<ipython-input-13-d843cdca2ef7>\u001b[0m in \u001b[0;36m<module>\u001b[0;34m\u001b[0m\n\u001b[1;32m     13\u001b[0m                                 \u001b[0mpath\u001b[0m\u001b[0;34m=\u001b[0m\u001b[0;32mNone\u001b[0m\u001b[0;34m,\u001b[0m\u001b[0;34m\u001b[0m\u001b[0;34m\u001b[0m\u001b[0m\n\u001b[1;32m     14\u001b[0m                                 \u001b[0mrestitute\u001b[0m\u001b[0;34m=\u001b[0m\u001b[0;32mTrue\u001b[0m\u001b[0;34m,\u001b[0m\u001b[0;34m\u001b[0m\u001b[0;34m\u001b[0m\u001b[0m\n\u001b[0;32m---> 15\u001b[0;31m                                 \u001b[0mdetail\u001b[0m\u001b[0;34m=\u001b[0m\u001b[0;32mNone\u001b[0m\u001b[0;34m,\u001b[0m\u001b[0;34m\u001b[0m\u001b[0;34m\u001b[0m\u001b[0m\n\u001b[0m\u001b[1;32m     16\u001b[0m                                  )\n\u001b[1;32m     17\u001b[0m \u001b[0;34m\u001b[0m\u001b[0m\n",
      "\u001b[0;32m~/anaconda3/envs/obs/lib/python3.7/site-packages/andbro__querrySeismoData.py\u001b[0m in \u001b[0;36m__querrySeismoData\u001b[0;34m(seed_id, starttime, endtime, where, path, restitute, detail)\u001b[0m\n\u001b[1;32m    150\u001b[0m     \u001b[0;32mif\u001b[0m \u001b[0mwhere\u001b[0m \u001b[0;34m==\u001b[0m \u001b[0;34m'george'\u001b[0m\u001b[0;34m:\u001b[0m\u001b[0;34m\u001b[0m\u001b[0;34m\u001b[0m\u001b[0m\n\u001b[1;32m    151\u001b[0m \u001b[0;34m\u001b[0m\u001b[0m\n\u001b[0;32m--> 152\u001b[0;31m         \u001b[0mwaveform_client\u001b[0m \u001b[0;34m=\u001b[0m \u001b[0mClient\u001b[0m\u001b[0;34m(\u001b[0m\u001b[0mbase_url\u001b[0m\u001b[0;34m=\u001b[0m\u001b[0;34m'http://george'\u001b[0m\u001b[0;34m,\u001b[0m \u001b[0mtimeout\u001b[0m\u001b[0;34m=\u001b[0m\u001b[0;36m200\u001b[0m\u001b[0;34m)\u001b[0m\u001b[0;34m\u001b[0m\u001b[0;34m\u001b[0m\u001b[0m\n\u001b[0m\u001b[1;32m    153\u001b[0m         \u001b[0mroute\u001b[0m \u001b[0;34m=\u001b[0m \u001b[0mRoutingClient\u001b[0m\u001b[0;34m(\u001b[0m\u001b[0;34m\"eida-routing\"\u001b[0m\u001b[0;34m)\u001b[0m\u001b[0;34m\u001b[0m\u001b[0;34m\u001b[0m\u001b[0m\n\u001b[1;32m    154\u001b[0m \u001b[0;34m\u001b[0m\u001b[0m\n",
      "\u001b[0;32m~/anaconda3/envs/obs/lib/python3.7/site-packages/obspy/clients/fdsn/client.py\u001b[0m in \u001b[0;36m__init__\u001b[0;34m(self, base_url, major_versions, user, password, user_agent, debug, timeout, service_mappings, force_redirect, eida_token, _discover_services)\u001b[0m\n\u001b[1;32m    261\u001b[0m \u001b[0;34m\u001b[0m\u001b[0m\n\u001b[1;32m    262\u001b[0m         \u001b[0;32mif\u001b[0m \u001b[0m_discover_services\u001b[0m\u001b[0;34m:\u001b[0m\u001b[0;34m\u001b[0m\u001b[0;34m\u001b[0m\u001b[0m\n\u001b[0;32m--> 263\u001b[0;31m             \u001b[0mself\u001b[0m\u001b[0;34m.\u001b[0m\u001b[0m_discover_services\u001b[0m\u001b[0;34m(\u001b[0m\u001b[0;34m)\u001b[0m\u001b[0;34m\u001b[0m\u001b[0;34m\u001b[0m\u001b[0m\n\u001b[0m\u001b[1;32m    264\u001b[0m         \u001b[0;32melse\u001b[0m\u001b[0;34m:\u001b[0m\u001b[0;34m\u001b[0m\u001b[0;34m\u001b[0m\u001b[0m\n\u001b[1;32m    265\u001b[0m             \u001b[0mself\u001b[0m\u001b[0;34m.\u001b[0m\u001b[0mservices\u001b[0m \u001b[0;34m=\u001b[0m \u001b[0mDEFAULT_SERVICES\u001b[0m\u001b[0;34m\u001b[0m\u001b[0;34m\u001b[0m\u001b[0m\n",
      "\u001b[0;32m~/anaconda3/envs/obs/lib/python3.7/site-packages/obspy/clients/fdsn/client.py\u001b[0m in \u001b[0;36m_discover_services\u001b[0;34m(self)\u001b[0m\n\u001b[1;32m   1547\u001b[0m                    \u001b[0;34m\"be due to a temporary service outage or an invalid FDSN \"\u001b[0m\u001b[0;34m\u001b[0m\u001b[0;34m\u001b[0m\u001b[0m\n\u001b[1;32m   1548\u001b[0m                    \"service address.\" % self.base_url)\n\u001b[0;32m-> 1549\u001b[0;31m             \u001b[0;32mraise\u001b[0m \u001b[0mFDSNException\u001b[0m\u001b[0;34m(\u001b[0m\u001b[0mmsg\u001b[0m\u001b[0;34m)\u001b[0m\u001b[0;34m\u001b[0m\u001b[0;34m\u001b[0m\u001b[0m\n\u001b[0m\u001b[1;32m   1550\u001b[0m \u001b[0;34m\u001b[0m\u001b[0m\n\u001b[1;32m   1551\u001b[0m         \u001b[0;31m# Cache.\u001b[0m\u001b[0;34m\u001b[0m\u001b[0;34m\u001b[0m\u001b[0;34m\u001b[0m\u001b[0m\n",
      "\u001b[0;31mFDSNException\u001b[0m: No FDSN services could be discovered at 'http://george'. This could be due to a temporary service outage or an invalid FDSN service address."
     ]
    }
   ],
   "source": [
    "if signal == 'real':\n",
    "    \n",
    "    # trace = read('/home/andbro/Documents/ROMY/data/ROMY_BJZ_2021-02-18.mseed',\n",
    "    #             starttime= UTCDateTime(\"2021-02-18 14:59\"), \n",
    "    #             endtime=UTCDateTime(\"2021-02-18 15:00\")+T+1\n",
    "    #             )\n",
    "\n",
    "    trace, inv = __querrySeismoData(    \n",
    "                                seed_id='BW.ROMY.10.BJZ',\n",
    "                                starttime=tbeg-1,\n",
    "                                endtime=tend+1,\n",
    "                                where=\"george\",\n",
    "                                path=None,\n",
    "                                restitute=True,\n",
    "                                detail=None,\n",
    "                                 )\n",
    "\n",
    "    ## resample to sps and remove mean\n",
    "    trace.resample(sps)\n",
    "    trace.detrend('demean')\n",
    "\n",
    "    ## adjust length to match signal\n",
    "    trace.trim(starttime=tbeg, endtime=tend+T)\n",
    "    print(trace)\n",
    "\n",
    "    ## define model trace\n",
    "    modeltrace = trace[0].data; del trace\n",
    "\n",
    "    ## define time axis for model trace\n",
    "    time_modeltrace = np.linspace(0, T, len(modeltrace))\n",
    "   "
   ]
  },
  {
   "cell_type": "code",
   "execution_count": 14,
   "metadata": {
    "ExecuteTime": {
     "end_time": "2021-03-18T18:30:24.370647Z",
     "start_time": "2021-03-18T18:30:24.359542Z"
    }
   },
   "outputs": [
    {
     "ename": "NameError",
     "evalue": "name 'modeltrace' is not defined",
     "output_type": "error",
     "traceback": [
      "\u001b[0;31m---------------------------------------------------------------------------\u001b[0m",
      "\u001b[0;31mNameError\u001b[0m                                 Traceback (most recent call last)",
      "\u001b[0;32m<ipython-input-14-637f4cc2c9ae>\u001b[0m in \u001b[0;36m<module>\u001b[0;34m\u001b[0m\n\u001b[0;32m----> 1\u001b[0;31m \u001b[0m__makeplot_trace_and_spectrum\u001b[0m\u001b[0;34m(\u001b[0m\u001b[0mmodeltrace\u001b[0m\u001b[0;34m,\u001b[0m \u001b[0mtime_modeltrace\u001b[0m\u001b[0;34m,\u001b[0m \u001b[0mfmax\u001b[0m\u001b[0;34m=\u001b[0m\u001b[0;36m5\u001b[0m\u001b[0;34m)\u001b[0m\u001b[0;34m;\u001b[0m\u001b[0;34m\u001b[0m\u001b[0;34m\u001b[0m\u001b[0m\n\u001b[0m",
      "\u001b[0;31mNameError\u001b[0m: name 'modeltrace' is not defined"
     ]
    }
   ],
   "source": [
    "__makeplot_trace_and_spectrum(modeltrace, time_modeltrace, fmax=5); "
   ]
  },
  {
   "cell_type": "markdown",
   "metadata": {},
   "source": [
    "## Remove Median"
   ]
  },
  {
   "cell_type": "markdown",
   "metadata": {},
   "source": [
    "Median is calulcated and removed since not relevant for instanenous frequency. "
   ]
  },
  {
   "cell_type": "code",
   "execution_count": 15,
   "metadata": {
    "ExecuteTime": {
     "end_time": "2021-03-18T18:30:25.951244Z",
     "start_time": "2021-03-18T18:30:25.800279Z"
    }
   },
   "outputs": [],
   "source": [
    "if remove_median:\n",
    "    med = np.median(synthetic_signal)\n",
    "    synthetic_signal= synthetic_signal - np.median(synthetic_signal)\n"
   ]
  },
  {
   "cell_type": "code",
   "execution_count": 16,
   "metadata": {
    "ExecuteTime": {
     "end_time": "2021-03-18T18:30:27.197578Z",
     "start_time": "2021-03-18T18:30:25.969551Z"
    }
   },
   "outputs": [
    {
     "name": "stdout",
     "output_type": "stream",
     "text": [
      "-553.35 0.227619396198\n"
     ]
    },
    {
     "data": {
      "image/png": "[encoded data removed]",
      "text/plain": [
       "<Figure size 1080x360 with 2 Axes>"
      ]
     },
     "metadata": {
      "needs_background": "light"
     },
     "output_type": "display_data"
    }
   ],
   "source": [
    "__makeplot_trace_and_psd(synthetic_signal, timeline, fmax=0.5*sps, t1=50, t2=50.02); "
   ]
  },
  {
   "cell_type": "markdown",
   "metadata": {},
   "source": [
    "## Upsampling"
   ]
  },
  {
   "cell_type": "markdown",
   "metadata": {},
   "source": [
    "Upsampling using a scipy method called 'resample()' which is based on the FFT\n",
    "\n",
    "https://docs.scipy.org/doc/scipy/reference/generated/scipy.signal.resample.html#scipy.signal.resample"
   ]
  },
  {
   "cell_type": "code",
   "execution_count": 17,
   "metadata": {
    "ExecuteTime": {
     "end_time": "2021-03-18T18:30:27.788849Z",
     "start_time": "2021-03-18T18:30:27.785567Z"
    },
    "code_folding": [
     1
    ]
   },
   "outputs": [],
   "source": [
    "\n",
    "def __interpolation_fft(trace, time, T, sps):\n",
    "    \n",
    "    from scipy.signal import resample\n",
    "    from numpy import arange\n",
    "    \n",
    "    ## interpolate modeltrace to sps \n",
    "    l1 = trace.size\n",
    "    \n",
    "    trace = resample(trace, int(T*sps+1)) ## using FFT\n",
    "#     time = resample(time, int(T*sps+1))    \n",
    "    \n",
    "    l2 = trace.size\n",
    "    \n",
    "    print(f\"modeltrace is interpolated: {l1} samples --> {l2} samples\")\n",
    "#     print(f\"time_modeltrace is interpolated: {l1} samples --> {l2} samples\")\n",
    "\n",
    "    time = np.arange(0, T+1/sps, 1/sps)\n",
    "\n",
    "    return trace, time\n"
   ]
  },
  {
   "cell_type": "markdown",
   "metadata": {},
   "source": [
    "Upsampling using a scipy method called 'resample_poly()' based on a fir filter. up / down = sampling rate, where down is estimated. \n",
    "\n",
    "https://docs.scipy.org/doc/scipy/reference/generated/scipy.signal.resample_poly.html"
   ]
  },
  {
   "cell_type": "code",
   "execution_count": 18,
   "metadata": {
    "ExecuteTime": {
     "end_time": "2021-03-18T18:30:28.141746Z",
     "start_time": "2021-03-18T18:30:28.134742Z"
    },
    "code_folding": [
     1
    ]
   },
   "outputs": [],
   "source": [
    "\n",
    "def __upsample_FIR(signal_in, sps, T, sampling_factor=2):\n",
    "    \n",
    "    from scipy.signal import upfirdn, resample_poly\n",
    "    \n",
    "    lower = 50\n",
    "    upper = sampling_factor*lower\n",
    "    \n",
    "    signal_out = resample_poly(signal_in, upper, lower, padtype=\"line\") ## using FIR filter\n",
    "    \n",
    "    ## adjsut sampling frequency with sampling factor\n",
    "    sps_new = int(sps*sampling_factor)\n",
    "    \n",
    "    ## adjust time axis\n",
    "    time_out = np.arange(0, T+1/sps_new, 1/sps_new)\n",
    "    \n",
    "    return signal_out[:-1], time_out\n"
   ]
  },
  {
   "cell_type": "code",
   "execution_count": 19,
   "metadata": {
    "ExecuteTime": {
     "end_time": "2021-03-18T18:30:34.944545Z",
     "start_time": "2021-03-18T18:30:28.314345Z"
    },
    "code_folding": []
   },
   "outputs": [
    {
     "name": "stdout",
     "output_type": "stream",
     "text": [
      "modeltrace is interpolated: 8000001 samples --> 16000001 samples\n"
     ]
    }
   ],
   "source": [
    "if upsampling:\n",
    "    \n",
    "    upsampling_factor = 2\n",
    "    \n",
    "#     synthetic_signal, timeline = __upsample_FIR(synthetic_signal, sps, T, sampling_factor=upsampling_factor)\n",
    "\n",
    "    synthetic_signal, timeline = __interpolation_fft(synthetic_signal, timeline, T, sps*upsampling_factor)\n",
    "    \n",
    "    sps = sps*upsampling_factor"
   ]
  },
  {
   "cell_type": "code",
   "execution_count": 20,
   "metadata": {
    "ExecuteTime": {
     "end_time": "2021-03-18T18:30:34.951670Z",
     "start_time": "2021-03-18T18:30:34.946852Z"
    }
   },
   "outputs": [
    {
     "data": {
      "text/plain": [
       "(16000001, 16000001, 10000, 1600.0)"
      ]
     },
     "execution_count": 20,
     "metadata": {},
     "output_type": "execute_result"
    }
   ],
   "source": [
    "synthetic_signal.size, timeline.size, sps, timeline[-1]"
   ]
  },
  {
   "cell_type": "code",
   "execution_count": 21,
   "metadata": {
    "ExecuteTime": {
     "end_time": "2021-03-18T18:30:37.058906Z",
     "start_time": "2021-03-18T18:30:34.953481Z"
    }
   },
   "outputs": [
    {
     "name": "stdout",
     "output_type": "stream",
     "text": [
      "-553.4 0.124941057481\n"
     ]
    },
    {
     "data": {
      "image/png": "[encoded data removed]",
      "text/plain": [
       "<Figure size 1080x360 with 2 Axes>"
      ]
     },
     "metadata": {
      "needs_background": "light"
     },
     "output_type": "display_data"
    }
   ],
   "source": [
    "__makeplot_trace_and_psd(synthetic_signal, timeline, fmax=0.5*sps, t1=50, t2=50.02); "
   ]
  },
  {
   "cell_type": "markdown",
   "metadata": {},
   "source": [
    "## Lowpass "
   ]
  },
  {
   "cell_type": "code",
   "execution_count": 22,
   "metadata": {
    "ExecuteTime": {
     "end_time": "2021-03-18T18:30:37.062217Z",
     "start_time": "2021-03-18T18:30:37.060011Z"
    }
   },
   "outputs": [],
   "source": [
    "if lowpass_pre:\n",
    "\n",
    "    f_upper = 1000\n",
    "    ## create digital lowpass filter, which is applied forwards and backwards\n",
    "    b, a = butter(4, f_upper, 'lp', fs=sps)\n",
    "\n",
    "    synthetic_signal = filtfilt(b, a, synthetic_signal, method=\"gust\")\n"
   ]
  },
  {
   "cell_type": "code",
   "execution_count": 23,
   "metadata": {
    "ExecuteTime": {
     "end_time": "2021-03-18T18:30:39.248641Z",
     "start_time": "2021-03-18T18:30:37.063728Z"
    }
   },
   "outputs": [
    {
     "name": "stdout",
     "output_type": "stream",
     "text": [
      "-553.4 0.124941057481\n"
     ]
    },
    {
     "data": {
      "image/png": "[encoded data removed]",
      "text/plain": [
       "<Figure size 1080x360 with 2 Axes>"
      ]
     },
     "metadata": {
      "needs_background": "light"
     },
     "output_type": "display_data"
    }
   ],
   "source": [
    "__makeplot_trace_and_psd(synthetic_signal, timeline, fmax=0.5*sps, t1=50, t2=50.02); "
   ]
  },
  {
   "cell_type": "markdown",
   "metadata": {},
   "source": [
    "# Demodulation"
   ]
  },
  {
   "cell_type": "markdown",
   "metadata": {
    "ExecuteTime": {
     "end_time": "2021-01-29T15:18:35.118865Z",
     "start_time": "2021-01-29T15:18:35.114054Z"
    }
   },
   "source": [
    "In order to evaluate the demodulated signal it is compared to the kown synthetic signalthe. For this, the median is substracted and 1% of the edges are cut off. Then both, the orignal and the retrieved signal are normalized and a cross-correlation calculated."
   ]
  },
  {
   "cell_type": "code",
   "execution_count": 24,
   "metadata": {
    "ExecuteTime": {
     "end_time": "2021-03-18T18:30:39.255987Z",
     "start_time": "2021-03-18T18:30:39.250564Z"
    },
    "code_folding": []
   },
   "outputs": [],
   "source": [
    "\n",
    "def __hibert_filter(sig_in, time_in, fs):\n",
    "    \n",
    "    '''\n",
    "    estimating the instantaneous frequency by using the formula of Jo\n",
    "    \n",
    "    sig_in    = input signal\n",
    "    time_in   = input timeline\n",
    "    fs        = sampling frequency of digital signal\n",
    "    '''\n",
    "\n",
    "    def __check_for_NaN(array):\n",
    "        \n",
    "        sum0, idx = 0, []\n",
    "        for k, x in enumerate(array):\n",
    "            if np.isnan(x):\n",
    "                sum0 += 1\n",
    "                idx.append(k)\n",
    "\n",
    "        if sum0 != 0:\n",
    "            print(sum0, f\" nan found of {len(array)}\")\n",
    "    \n",
    "        return(idx)\n",
    "            \n",
    "            \n",
    "            \n",
    "    ## calulcate hilbert transform\n",
    "    hil0 = hilbert(sig_in)\n",
    "    \n",
    "    ## extract imaginary part of hilbert transform \n",
    "    hil = np.imag(hil0)\n",
    "    \n",
    "#     env = abs(hil)\n",
    "#     hil = hil/max(env)\n",
    "    \n",
    "    ## calculate derivatives (second order central differences)\n",
    "    d_hil = np.gradient(hil, edge_order=1)*fs\n",
    "    d_sig = np.gradient(sig_in, edge_order=1)*fs\n",
    "    \n",
    "    \n",
    "    ## check if nan are in derivative\n",
    "    idx = __check_for_NaN(d_hil)\n",
    "    \n",
    "    \n",
    "#     delta_f_full = (sig_in * d_hil - d_sig * hil) / (2*np.pi*np.sqrt(sig_in**2 + hil**2))\n",
    "    \n",
    "    ## without sqrt as found on Wikipedia\n",
    "    delta_f_full = (sig_in * d_hil - d_sig * hil) / (2*np.pi*(sig_in**2 + hil**2))\n",
    "\n",
    "\n",
    "    ## extract real part\n",
    "    delta_f = np.real(delta_f_full)\n",
    "    \n",
    "    \n",
    "    ## instert nan value for time zero (exluded bevause of np.diff() ) \n",
    "    idx = __check_for_NaN(delta_f)\n",
    "    \n",
    "    for l in idx:\n",
    "        delta_f[l] = 0.0\n",
    "\n",
    "    \n",
    "    return time_in, delta_f\n"
   ]
  },
  {
   "cell_type": "code",
   "execution_count": 25,
   "metadata": {
    "ExecuteTime": {
     "end_time": "2021-03-18T18:30:40.160952Z",
     "start_time": "2021-03-18T18:30:40.152642Z"
    },
    "code_folding": [
     1
    ]
   },
   "outputs": [],
   "source": [
    "\n",
    "def __demodulate(x, y, Twindow, sps):\n",
    "\n",
    "    window_size = int(Twindow * sps)\n",
    "\n",
    "    stepsize = int(window_size/2) \n",
    "\n",
    "    out1, out2 = np.array([]), np.array([])\n",
    "    for i in tqdm(range(0,len(x), stepsize)):\n",
    "\n",
    "        if int(i+window_size) > len(x):\n",
    "            print(f\"break for {i/sps}\")\n",
    "            break\n",
    "\n",
    "        win1 = x[i:int(i+window_size)]\n",
    "        win2 = y[i:int(i+window_size)]\n",
    "\n",
    "\n",
    "\n",
    "        t, sig = __hibert_filter(win1, win2, sps)\n",
    "\n",
    "    #     plt.plot(t[int(stepsize/2):window_size-int(stepsize/2)], sig[int(stepsize/2):window_size-int(stepsize/2)])\n",
    "    #     plt.show();\n",
    "\n",
    "        out1 = np.append(out1, sig[int(stepsize/2):window_size-int(stepsize/2)])\n",
    "        out2 = np.append(out2, t[int(stepsize/2):window_size-int(stepsize/2)])\n",
    "    #     plt.plot(out2,out1)\n",
    "\n",
    "    return out1, out2\n"
   ]
  },
  {
   "cell_type": "code",
   "execution_count": null,
   "metadata": {
    "ExecuteTime": {
     "start_time": "2021-03-18T18:30:40.771Z"
    },
    "code_folding": []
   },
   "outputs": [
    {
     "name": "stderr",
     "output_type": "stream",
     "text": [
      "\r",
      "  0%|          | 0/4 [00:00<?, ?it/s]"
     ]
    }
   ],
   "source": [
    "\n",
    "# Twindow = 100 # seconds\n",
    "\n",
    "demod_signal, time_demod_signal = __demodulate(synthetic_signal, timeline, Twindow, sps)\n",
    "\n",
    "time_demod_signal.size, demod_signal.size"
   ]
  },
  {
   "cell_type": "code",
   "execution_count": null,
   "metadata": {
    "ExecuteTime": {
     "start_time": "2021-03-18T18:30:40.983Z"
    }
   },
   "outputs": [],
   "source": [
    "\n",
    "# time_demod_signal, demod_signal = __hibert_filter(synthetic_signal, timeline, sps)\n"
   ]
  },
  {
   "cell_type": "code",
   "execution_count": null,
   "metadata": {
    "ExecuteTime": {
     "start_time": "2021-03-18T18:30:41.946Z"
    }
   },
   "outputs": [],
   "source": [
    "__makeplot_trace_and_spectrum(demod_signal, time_demod_signal, fmax=2); \n",
    "__makeplot_trace_and_psd(demod_signal, time_demod_signal, fmax=0.5*sps, t1=100, t2=101); "
   ]
  },
  {
   "cell_type": "markdown",
   "metadata": {},
   "source": [
    "### Remove Offset"
   ]
  },
  {
   "cell_type": "code",
   "execution_count": null,
   "metadata": {
    "ExecuteTime": {
     "start_time": "2021-03-18T18:30:42.453Z"
    },
    "code_folding": [
     0
    ]
   },
   "outputs": [],
   "source": [
    "print(f\"theo. Sagnac Frequencs: {sgnc} Hz\")\n",
    "print(f\"Median Demodulated Signal: {np.median(demod_signal)}\")\n",
    "\n",
    "\n",
    "# demod_signal = demod_signal - sgnc\n",
    "demod_signal = demod_signal - np.median(demod_signal)"
   ]
  },
  {
   "cell_type": "markdown",
   "metadata": {},
   "source": [
    "### Padding Edges"
   ]
  },
  {
   "cell_type": "code",
   "execution_count": null,
   "metadata": {
    "ExecuteTime": {
     "end_time": "2021-03-18T18:29:41.136425Z",
     "start_time": "2021-03-18T18:29:39.451Z"
    }
   },
   "outputs": [],
   "source": [
    "## samples from left and right to be ignored due to dynamic demodulation\n",
    "index1 = int(time_demod_signal[0]*sps)+1\n",
    "\n",
    "if upsampling:\n",
    "    index2 = int(int(T-time_demod_signal[-1])*sps)+1\n",
    "else:\n",
    "    index2 = int(int(T-time_demod_signal[-1])*sps)+1\n",
    "\n",
    "## padding demodulated signal at the edges\n",
    "demod_signal = np.pad(demod_signal, (index1, index2), constant_values=(0, 0))\n",
    "\n",
    "## adjust time axis\n",
    "time_demod_signal = np.arange(len(demod_signal))/sps\n",
    "\n",
    "\n",
    "\n",
    "time_demod_signal.size, demod_signal.size, index1, index2"
   ]
  },
  {
   "cell_type": "code",
   "execution_count": null,
   "metadata": {
    "ExecuteTime": {
     "end_time": "2021-03-18T18:29:41.136912Z",
     "start_time": "2021-03-18T18:29:39.453Z"
    },
    "scrolled": false
   },
   "outputs": [],
   "source": [
    "# __makeplot_trace_and_psd(demod_signal, time_demod_signal, fmax=0.5*sps, t1=100, t2=101); \n",
    "__makeplot_trace_and_spectrum(demod_signal, time_demod_signal, fmax=1.0); "
   ]
  },
  {
   "cell_type": "markdown",
   "metadata": {
    "ExecuteTime": {
     "end_time": "2021-02-23T22:51:28.698061Z",
     "start_time": "2021-02-23T22:50:38.717Z"
    }
   },
   "source": [
    "### Downsampling "
   ]
  },
  {
   "cell_type": "code",
   "execution_count": null,
   "metadata": {
    "ExecuteTime": {
     "end_time": "2021-03-18T18:29:41.137312Z",
     "start_time": "2021-03-18T18:29:39.455Z"
    },
    "code_folding": [
     1
    ]
   },
   "outputs": [],
   "source": [
    "\n",
    "def __downsample(signal_in, sps, ds_factor=2):\n",
    "\n",
    "    \n",
    "    ## downsample using a FIR filter\n",
    "    signal_out = decimate(signal_in, ds_factor, n=None, ftype='fir', axis=-1, zero_phase=True)\n",
    "\n",
    "\n",
    "    ## adjust sampling frequency\n",
    "    sps = int(sps/ds_factor)\n",
    "\n",
    "    ## adjust time axis\n",
    "    time_out = np.arange(signal_out.size)/sps\n",
    "\n",
    "    return signal_out, time_out, sps\n"
   ]
  },
  {
   "cell_type": "code",
   "execution_count": null,
   "metadata": {
    "ExecuteTime": {
     "end_time": "2021-03-18T18:29:41.137715Z",
     "start_time": "2021-03-18T18:29:39.457Z"
    }
   },
   "outputs": [],
   "source": [
    "if upsampling:\n",
    "\n",
    "    \n",
    "    downsampling_factor = 2\n",
    "\n",
    "    sps0 = sps ## prevent overwriting\n",
    "    demod_signal, time_demod_signal, sps = __downsample(demod_signal, sps0, ds_factor=downsampling_factor)\n",
    "#     modeltrace, time_modeltrace, sps = __downsample(modeltrace, sps0, ds_factor=downsampling_factor)\n",
    "    \n",
    "\n",
    "    ## adjust index after resampling\n",
    "    index1=int(index1/downsampling_factor)\n",
    "    index2=int(index2/downsampling_factor)\n",
    "    \n",
    "\n",
    "if lowpass_post:\n",
    "    \n",
    "    f_upper = 20\n",
    "    \n",
    "    ## create digital lowpass filter of seconds order section \n",
    "#     sos = butter(10, f_upper, 'lp', fs=sps, output='sos')\n",
    "#     demod_signal = sosfilt(sos, demod_signal)\n",
    "\n",
    "    ## create digital lowpass filter, which is applied forwards and backwards\n",
    "    b, a = butter(4, f_upper, 'lp', fs=sps)\n",
    "    demod_signal = filtfilt(b, a, demod_signal, method=\"gust\")\n",
    "    \n",
    "    ## apply lowpass filter of obspy (using fft)\n",
    "#     tmp = Trace(demod_signal)\n",
    "#     tmp.stats.delta = 1/sps\n",
    "    \n",
    "#     tmp.filter('lowpass', freq=f_upper, corners=4, zerophase=True)\n",
    "#     demod_signal = tmp.data\n",
    "\n",
    "\n",
    "demod_signal.size, time_demod_signal.size"
   ]
  },
  {
   "cell_type": "code",
   "execution_count": null,
   "metadata": {
    "ExecuteTime": {
     "end_time": "2021-03-18T18:29:41.138159Z",
     "start_time": "2021-03-18T18:29:39.458Z"
    }
   },
   "outputs": [],
   "source": [
    "__makeplot_trace_and_psd(demod_signal, time_demod_signal, fmax=0.5*sps, t1=100, t2=101); \n",
    "# __makeplot_trace_and_spectrum(demod_signal, time_demod_signal, fmax=20'.0); "
   ]
  },
  {
   "cell_type": "markdown",
   "metadata": {},
   "source": [
    "### Normalize"
   ]
  },
  {
   "cell_type": "code",
   "execution_count": null,
   "metadata": {
    "ExecuteTime": {
     "end_time": "2021-03-18T18:29:41.138566Z",
     "start_time": "2021-03-18T18:29:39.461Z"
    }
   },
   "outputs": [],
   "source": [
    "## apply conversion counts -> volt of obsidian digitizer\n",
    "demod_signal *= 0.59604645e-6"
   ]
  },
  {
   "cell_type": "code",
   "execution_count": null,
   "metadata": {
    "ExecuteTime": {
     "end_time": "2021-03-18T18:29:41.139109Z",
     "start_time": "2021-03-18T18:29:39.464Z"
    }
   },
   "outputs": [],
   "source": [
    "max(demod_signal), max(modeltrace)"
   ]
  },
  {
   "cell_type": "code",
   "execution_count": null,
   "metadata": {
    "ExecuteTime": {
     "end_time": "2021-03-18T18:29:41.139643Z",
     "start_time": "2021-03-18T18:29:39.465Z"
    },
    "code_folding": [
     0
    ]
   },
   "outputs": [],
   "source": [
    "if normalize:\n",
    "    demod_signal = __normalize(demod_signal)\n",
    "    modeltrace   = __normalize(modeltrace)\n"
   ]
  },
  {
   "cell_type": "code",
   "execution_count": null,
   "metadata": {
    "ExecuteTime": {
     "end_time": "2021-03-18T18:29:41.140125Z",
     "start_time": "2021-03-18T18:29:39.467Z"
    }
   },
   "outputs": [],
   "source": [
    "# __makeplot_trace_and_psd(demod_signal, time_demod_signal, fmax=0.5*sps, t1=100, t2=101); \n",
    "__makeplot_trace_and_spectrum(demod_signal, time_demod_signal, fmax=1.0); "
   ]
  },
  {
   "cell_type": "markdown",
   "metadata": {},
   "source": [
    "### Cross-Correlation"
   ]
  },
  {
   "cell_type": "code",
   "execution_count": null,
   "metadata": {
    "ExecuteTime": {
     "end_time": "2021-03-18T18:29:41.140665Z",
     "start_time": "2021-03-18T18:29:39.469Z"
    },
    "code_folding": [
     0
    ]
   },
   "outputs": [],
   "source": [
    "cross_corr = correlate(demod_signal, modeltrace, mode='same')\n",
    "\n",
    "cross_corr_lags = np.arange(-cross_corr.size//2+1,cross_corr.size//2+1,1)"
   ]
  },
  {
   "cell_type": "markdown",
   "metadata": {},
   "source": [
    "### Final Plotting"
   ]
  },
  {
   "cell_type": "code",
   "execution_count": null,
   "metadata": {
    "ExecuteTime": {
     "end_time": "2021-03-18T18:29:41.141269Z",
     "start_time": "2021-03-18T18:29:39.471Z"
    },
    "code_folding": []
   },
   "outputs": [],
   "source": [
    "if lowpass_post:\n",
    "    cut1 = int(index1)\n",
    "    cut2 = int(len(demod_signal)-index2)\n",
    "else:\n",
    "    cut1 = int(index1)\n",
    "    cut2 = int(len(demod_signal)-index2)   \n",
    "    \n",
    "\n",
    "cut1, cut2"
   ]
  },
  {
   "cell_type": "code",
   "execution_count": null,
   "metadata": {
    "ExecuteTime": {
     "end_time": "2021-03-18T18:29:41.142115Z",
     "start_time": "2021-03-18T18:29:39.473Z"
    },
    "code_folding": []
   },
   "outputs": [],
   "source": [
    "fig = __makeplot_demodulation_quality(time_modeltrace, \n",
    "                                      modeltrace, \n",
    "                                      time_demod_signal,\n",
    "                                      demod_signal,\n",
    "                                      cross_corr,\n",
    "                                      cross_corr_lags,\n",
    "                                      sps,\n",
    "                                      cut1,\n",
    "                                      cut2,\n",
    "                                      fmax=10\n",
    "                                     );"
   ]
  },
  {
   "cell_type": "code",
   "execution_count": null,
   "metadata": {
    "ExecuteTime": {
     "end_time": "2021-03-18T18:29:41.142643Z",
     "start_time": "2021-03-18T18:29:39.475Z"
    },
    "code_folding": [
     1
    ]
   },
   "outputs": [],
   "source": [
    "\n",
    "# def __makeplot_evaluation():\n",
    "\n",
    "#     from andbro__fft import __fft\n",
    "\n",
    "#     asd_demod, ff_demod, phase_demod = __fft(demod_signal, 1/sps, window=None, normalize=None)\n",
    "#     asd_model, ff_model, phase_model = __fft(modeltrace, 1/sps, window=None, normalize=None)\n",
    "\n",
    "\n",
    "#     ## __________________________________________________________\n",
    "\n",
    "#     fig, ax = plt.subplots(4,1, figsize=(15,10))\n",
    "\n",
    "#     fig.subplots_adjust(hspace = 0.4)\n",
    "    \n",
    "#     font = 13\n",
    "\n",
    "#     ax[0].plot(time_modeltrace, modeltrace, color='k', lw=2)\n",
    "#     ax[0].plot(time_demod_signal[1000:-1000], demod_signal[1000:-1000], color='green', lw=2)\n",
    "\n",
    "    \n",
    "#     ax[1].plot(ff_model, asd_model, color='k')\n",
    "#     ax[1].plot(ff_demod, asd_demod, color='green')\n",
    "\n",
    "    \n",
    "#     ax[2].plot(ff_model, np.unwrap(phase_model), color='k')\n",
    "#     ax[2].plot(ff_demod, np.unwrap(phase_demod), color='green')\n",
    "\n",
    "    \n",
    "    \n",
    "#     # ax[3].plot(time_modeltrace, modeltrace, color='k')\n",
    "#     # ax[3].plot(time_demod_signal, demod_signal, color='darkred')\n",
    "#     ax[3].axvline(0.0, color=\"grey\", ls=\":\")\n",
    "#     ax[3].plot(cross_corr_lags/sps, cross_corr,'k')\n",
    "\n",
    "    \n",
    "#     ax[0].set_xlabel(\"Frequency (Hz)\", fontsize=font)\n",
    "#     ax[1].set_xlabel(\"Frequency (Hz)\", fontsize=font)\n",
    "#     ax[2].set_xlabel(\"Frequency (Hz)\", fontsize=font)\n",
    "#     ax[3].set_xlabel('lag (s)', fontsize=font)\n",
    "    \n",
    "#     ax[0].set_ylabel('norm. rot. rate', fontsize=font)\n",
    "#     ax[1].set_ylabel(r'spect. amplitude \\n (rad/s $\\sqrt{Hz}$)', fontsize=font)\n",
    "#     ax[2].set_ylabel('unwraped phase', fontsize=font)    \n",
    "#     ax[3].set_ylabel('cross-correlation', fontsize=font)\n",
    "    \n",
    "#     ax[3].tick_params(axis='both', labelsize=font-2)\n",
    "\n",
    "#     x0 = 0.6*max(cross_corr_lags)/sps\n",
    "#     y0 = 0.75*max(cross_corr)\n",
    "\n",
    "#     ax[3].text(x0, y0, f'max. CC at lag {cross_corr_lags[abs(cross_corr).argmax()]/sps} s', fontsize=font)\n",
    "# #     ax[3].text(x0, y0, f'max. CC at lag {cross_corr_lags[abs(cross_corr).argmax()]}', fontsize=font)\n",
    "\n",
    "\n",
    "#     ax[1].set_xlim(0,0.2)\n",
    "\n",
    "#     for i in range(4):\n",
    "#         ax[i].grid(ls='--',zorder=0)\n",
    "\n",
    "# __makeplot_evaluation()    "
   ]
  },
  {
   "cell_type": "code",
   "execution_count": null,
   "metadata": {
    "ExecuteTime": {
     "end_time": "2021-03-18T18:29:41.144069Z",
     "start_time": "2021-03-18T18:29:39.477Z"
    }
   },
   "outputs": [],
   "source": [
    "# print(modeltrace.size, demod_signal.size)\n",
    "\n",
    "# modeltrace2, time_modeltrace2, sps = __downsample(modeltrace, sps, ds_factor=100)\n",
    "# demod_signal2, time_demod_signal2, sps = __downsample(demod_signal, sps, ds_factor=100)\n",
    "\n",
    "# sps2 = sps / 100\n",
    "# print(modeltrace2.size, demod_signal2.size)\n",
    "\n",
    "# plt.plot(modeltrace2)\n",
    "# plt.plot(demod_signal2)"
   ]
  },
  {
   "cell_type": "markdown",
   "metadata": {
    "ExecuteTime": {
     "end_time": "2021-02-01T10:36:59.647494Z",
     "start_time": "2021-02-01T10:36:59.643870Z"
    }
   },
   "source": [
    "### Save Plot"
   ]
  },
  {
   "cell_type": "code",
   "execution_count": null,
   "metadata": {
    "ExecuteTime": {
     "end_time": "2021-03-18T18:29:41.144534Z",
     "start_time": "2021-03-18T18:29:39.480Z"
    },
    "code_folding": []
   },
   "outputs": [],
   "source": [
    "pname = f\"plot_T{int(T)}_fs{int(sps)}_{signal}_{name}\n",
    "_{Twindow}.png\"\n",
    "\n",
    "fig.savefig(\n",
    "            f\"plots/cases/{pname}\",\n",
    "            dpi=300, facecolor='w', \n",
    "            edgecolor='w',\n",
    "            orientation='portrait', \n",
    "            format=\"png\",\n",
    "            transparent=False, \n",
    "            bbox_inches=\"tight\", \n",
    "            pad_inches=0.2,\n",
    "           )\n"
   ]
  },
  {
   "cell_type": "markdown",
   "metadata": {},
   "source": [
    "## Tests"
   ]
  },
  {
   "cell_type": "code",
   "execution_count": null,
   "metadata": {},
   "outputs": [],
   "source": []
  },
  {
   "cell_type": "code",
   "execution_count": null,
   "metadata": {
    "ExecuteTime": {
     "end_time": "2021-03-18T18:29:41.145155Z",
     "start_time": "2021-03-18T18:29:39.483Z"
    },
    "code_folding": [
     1
    ]
   },
   "outputs": [],
   "source": [
    "\n",
    "# def __resample_digital_signal(signal_in, fs, sampling_factor, taper=False):\n",
    "\n",
    "#     ''' \n",
    "#     up-samping of the simulated digital signal \n",
    "    \n",
    "#     sig_in   = input signal\n",
    "#     fs       = sampling frequency of digital signal\n",
    "#     fac      = sampling factor (2 = double)\n",
    "#     taper    = True/False , to either taper or not taper output\n",
    "    \n",
    "#     '''\n",
    "    \n",
    "\n",
    "# #     def butter_bandpass(lowcut, highcut, fs, order=5):\n",
    "# #         nyq = 0.5 * fs\n",
    "# #         low = lowcut / nyq\n",
    "# #         high = highcut / nyq\n",
    "# #         b, a = butter(order, [low, high], btype='band')\n",
    "# #         return b, a\n",
    "\n",
    "\n",
    "# #     def butter_bandpass_filter(data, lowcut, highcut, fs, order=5):\n",
    "# #         b, a = butter_bandpass(lowcut, highcut, fs, order=order)\n",
    "# #         y = lfilter(b, a, data)\n",
    "# #         return y\n",
    "\n",
    "\n",
    "#     def resampling(sig_in, factor, fs, case):\n",
    "\n",
    "#         if case == 1:\n",
    "#             sig_out = resample(sig_in, len(sig_in)*factor)\n",
    "\n",
    "#         elif case == 2:\n",
    "#             sig = list(sig_in); i=0\n",
    "\n",
    "#             while i < len(sig):\n",
    "#                 sig.insert(i, 0.0)\n",
    "#                 i += 2\n",
    "#             sig_out = np.array(sig)\n",
    "\n",
    "#         t_out = np.arange(0,len(sig_in)/fs,1/(fs*factor))\n",
    "\n",
    "#         return  (sig_out, t_out)\n",
    "\n",
    "\n",
    "\n",
    "#     #sig_dig_fil_res, tt_res = resampling(sig_dig_fil,2,fs,2)\n",
    "#     signal_out, time_out = resampling(signal_in, sampling_factor, fs, case=1)\n",
    "\n",
    "#     if taper:\n",
    "#         signal_out = np.hanning(signal_out.size) * sig_nal_out\n",
    "#         #signal_out = butter_bandpass_filter(sig_dig_res_tap,0.1,100,fs,4)\n",
    "   \n",
    "    \n",
    "#     return signal_out, time_out\n",
    "    "
   ]
  }
 ],
 "metadata": {
  "kernelspec": {
   "display_name": "Python 3",
   "language": "python",
   "name": "python3"
  },
  "language_info": {
   "codemirror_mode": {
    "name": "ipython",
    "version": 3
   },
   "file_extension": ".py",
   "mimetype": "text/x-python",
   "name": "python",
   "nbconvert_exporter": "python",
   "pygments_lexer": "ipython3",
   "version": "3.7.8"
  }
 },
 "nbformat": 4,
 "nbformat_minor": 4
}
