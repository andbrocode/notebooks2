{
 "cells": [
  {
   "cell_type": "markdown",
   "metadata": {},
   "source": [
    "<div style='background-image: url(\"https://www.geophysik.uni-muenchen.de/ROMY/theme/images/ringlaser_wideformat.jpg\") ; padding: 0px ; background-size: cover ; border-radius: 15px ; height: 250px; background-position: 0% 80%'>\n",
    "    <div style=\"float: left ; margin: 50px ; padding: 20px ; background: rgba(255 , 255 , 255 , 0.9) ; width: 35% ; height: 180px\">\n",
    "        <div style=\"position: relative ; top: 50%;  transform: translatey(-50%)\">\n",
    "            <div style=\"font-size: xx-large ; font-weight: 900 ; color: rgba(0 , 0 , 0 , 0.9) ; line-height: 100%\"> <br>ROMY - <br><br>  Snythetic Modulation of Real Trace </div>\n",
    "            <div style=\"font-size: large ; padding-top: 20px ; color: rgba(0 , 0 , 0 , 0.7)\"></div>\n",
    "        </div>\n",
    "    </div>"
   ]
  },
  {
   "cell_type": "markdown",
   "metadata": {
    "ExecuteTime": {
     "end_time": "2021-01-29T15:14:27.795046Z",
     "start_time": "2021-01-29T15:14:27.791664Z"
    }
   },
   "source": [
    "## Import Libraries"
   ]
  },
  {
   "cell_type": "markdown",
   "metadata": {
    "ExecuteTime": {
     "end_time": "2021-01-29T15:15:30.279221Z",
     "start_time": "2021-01-29T15:15:30.275801Z"
    }
   },
   "source": [
    "### Official Libraries"
   ]
  },
  {
   "cell_type": "code",
   "execution_count": 1,
   "metadata": {
    "ExecuteTime": {
     "end_time": "2021-11-19T14:02:46.724124Z",
     "start_time": "2021-11-19T14:02:45.932251Z"
    }
   },
   "outputs": [],
   "source": [
    "import numpy as np \n",
    "import matplotlib.pyplot as plt \n",
    "import time\n",
    "import pickle\n",
    "\n",
    "from scipy.signal import resample, hilbert, correlate, decimate\n",
    "from tqdm import tqdm\n",
    "from obspy import UTCDateTime, read, read_inventory, Trace"
   ]
  },
  {
   "cell_type": "markdown",
   "metadata": {},
   "source": [
    "### Own Processing Methods"
   ]
  },
  {
   "cell_type": "code",
   "execution_count": 2,
   "metadata": {
    "ExecuteTime": {
     "end_time": "2021-11-19T14:02:46.728005Z",
     "start_time": "2021-11-19T14:02:46.725861Z"
    }
   },
   "outputs": [],
   "source": [
    "import sys\n",
    "sys.path.insert(0, 'submodules')"
   ]
  },
  {
   "cell_type": "code",
   "execution_count": 3,
   "metadata": {
    "ExecuteTime": {
     "end_time": "2021-11-19T14:02:46.737611Z",
     "start_time": "2021-11-19T14:02:46.729339Z"
    }
   },
   "outputs": [],
   "source": [
    "from EchoPerformance import __echo_performance\n",
    "from CreateSyntheticEventV2 import __create_synthetic_event_v2\n",
    "from MakeplotDemodulationQuality import __makeplot_demodulation_quality\n",
    "from MinimizeResidual import __minimize_residual\n",
    "from CreateLinearChirp import __create_linear_chirp\n",
    "from Tapering import __tapering\n",
    "from InstaFreqHilbert import __insta_freq_hilbert\n",
    "from Normalize import __normalize\n",
    "from WriteToMseed import __write_to_mseed\n",
    "from LoadMseed import __load_mseed\n",
    "from Modulation import __modulation\n",
    "from QuerrySeismoData import __querry_seismo_data\n",
    "from Interpolation import __interpolation"
   ]
  },
  {
   "cell_type": "code",
   "execution_count": 4,
   "metadata": {
    "ExecuteTime": {
     "end_time": "2021-11-19T14:02:46.742444Z",
     "start_time": "2021-11-19T14:02:46.739228Z"
    }
   },
   "outputs": [],
   "source": [
    "from RingLaser import RingLaser\n",
    "\n",
    "## define G-Ring\n",
    "G = RingLaser(side=4., form=\"square\", wl=632.8e-9, lat=49.16)\n",
    "\n",
    "## define ROMY Z-Ring\n",
    "ROMY_Z = RingLaser(side=11., form=\"triangle\", wl=632.8e-9, lat=49.16)\n"
   ]
  },
  {
   "cell_type": "markdown",
   "metadata": {},
   "source": [
    "### Own Plotting Methods"
   ]
  },
  {
   "cell_type": "code",
   "execution_count": 5,
   "metadata": {
    "ExecuteTime": {
     "end_time": "2021-11-19T14:02:46.746553Z",
     "start_time": "2021-11-19T14:02:46.743370Z"
    }
   },
   "outputs": [],
   "source": [
    "from MakeplotTraceAndSpectrum import __makeplot_trace_and_spectrum\n",
    "from MakeplotTraceAndPSD import __makeplot_trace_and_psd\n",
    "from MakeplotModulatedSignal import __makeplot_modulated_signal"
   ]
  },
  {
   "cell_type": "code",
   "execution_count": 6,
   "metadata": {
    "ExecuteTime": {
     "end_time": "2021-11-19T14:02:46.750341Z",
     "start_time": "2021-11-19T14:02:46.747398Z"
    },
    "code_folding": [
     1
    ]
   },
   "outputs": [],
   "source": [
    "\n",
    "def __upsample_FIR(signal_in, sampling_factor, sps):\n",
    "    \n",
    "    from scipy.signal import upfirdn, resample_poly\n",
    "    \n",
    "    \n",
    "    lower = 50\n",
    "    upper = sampling_factor*lower\n",
    "    \n",
    "    signal_out = resample_poly(signal_in, upper, lower)\n",
    "    \n",
    "    time_out = np.arange(len(signal_out))/(sps*sampling_factor)\n",
    "    \n",
    "    return signal_out, time_out\n"
   ]
  },
  {
   "cell_type": "code",
   "execution_count": 7,
   "metadata": {
    "ExecuteTime": {
     "end_time": "2021-11-19T14:02:46.754691Z",
     "start_time": "2021-11-19T14:02:46.752121Z"
    },
    "code_folding": [
     1
    ]
   },
   "outputs": [],
   "source": [
    "\n",
    "# def __interpolation(trace, time, T, sps):\n",
    "    \n",
    "#     from scipy.signal import resample\n",
    "#     from numpy import arange\n",
    "    \n",
    "#     ## interpolate modeltrace to sps \n",
    "#     l1 = trace.size\n",
    "    \n",
    "#     trace = resample(trace, int(T*sps+1))\n",
    "# #     time = resample(time, int(T*sps+1))    \n",
    "    \n",
    "#     l2 = trace.size\n",
    "    \n",
    "#     print(f\"modeltrace is interpolated: {l1} samples --> {l2} samples\")\n",
    "# #     print(f\"time_modeltrace is interpolated: {l1} samples --> {l2} samples\")\n",
    "\n",
    "#     time = arange(0, T+1/sps, 1/sps)\n",
    "\n",
    "#     return trace, time\n"
   ]
  },
  {
   "cell_type": "markdown",
   "metadata": {},
   "source": [
    "## Configurations"
   ]
  },
  {
   "cell_type": "code",
   "execution_count": 9,
   "metadata": {
    "ExecuteTime": {
     "end_time": "2021-11-19T14:03:17.059592Z",
     "start_time": "2021-11-19T14:03:17.052137Z"
    }
   },
   "outputs": [
    {
     "name": "stdout",
     "output_type": "stream",
     "text": [
      "Total Samples: 8000000\n",
      "Rounded Sagnac Frequency: 553.67 Hz\n",
      "Modulation Index (scale factor): 10036114.034585783\n"
     ]
    }
   ],
   "source": [
    "config = {}\n",
    "\n",
    "## time period\n",
    "config['T'] = 1600  ## seconds\n",
    "\n",
    "## samles per second\n",
    "config['sps'] = 5000\n",
    "\n",
    "print(f\"Total Samples: {config['T']*config['sps']}\")\n",
    "\n",
    "\n",
    "config['sgnc'] = round(ROMY_Z.get_sagnac_frequency(), 2)\n",
    "print(f\"Rounded Sagnac Frequency: {round(config['sgnc'],2)} Hz\")\n",
    "\n",
    "config['modulation_index'] = ROMY_Z.get_scale_factor()\n",
    "print(f\"Modulation Index (scale factor): {config['modulation_index']}\")\n",
    "\n",
    "config['modulation_scheme'] = 3\n",
    "\n",
    "\n",
    "## decide if oversampling is set (bool) and how much oversampling\n",
    "config['oversampling'] = True\n",
    "config['oversampling_factor'] = 4"
   ]
  },
  {
   "cell_type": "markdown",
   "metadata": {
    "ExecuteTime": {
     "end_time": "2021-11-10T13:18:57.922774Z",
     "start_time": "2021-11-10T13:18:57.919243Z"
    }
   },
   "source": [
    "## Real Data from recorded Events"
   ]
  },
  {
   "cell_type": "code",
   "execution_count": 13,
   "metadata": {
    "ExecuteTime": {
     "end_time": "2021-11-19T14:03:55.111435Z",
     "start_time": "2021-11-19T14:03:55.105811Z"
    }
   },
   "outputs": [],
   "source": [
    "from obspy import UTCDateTime\n",
    "from andbro__querrySeismoData import __querrySeismoData\n",
    "\n",
    "## Kermadec Event\n",
    "# tbeg = UTCDateTime(\"2021-03-04 18:40\")\n",
    "# tend = UTCDateTime(\"2021-03-04 18:40\")+T\n",
    "# f_lower, f_upper = 0.001, 0.1\n",
    "\n",
    "## (possibly) Eigenmodes\n",
    "# tbeg = UTCDateTime(\"2021-03-04 18:58\")\n",
    "# tend = UTCDateTime(\"2021-03-04 18:58\")+T\n",
    "# f_lower, f_upper = 0.003, 0.01\n",
    "\n",
    "## Greece Event\n",
    "tbeg = UTCDateTime(\"2021-03-03 10:18\")\n",
    "tend = UTCDateTime(\"2021-03-03 10:18\")+config['T']\n",
    "f_lower, f_upper = 0.01, 0.5\n",
    "\n",
    "\n",
    "## car / ambient noise - high frequent\n",
    "# tbeg = UTCDateTime(\"2021-03-10 12:00\")\n",
    "# tend = UTCDateTime(\"2021-03-10 12:00\")+T\n",
    "# f_lower, f_upper = 1.0, 10.0\n",
    "\n",
    "\n",
    "config['tbeg'], config['tend'] = tbeg, tend\n",
    "config['f_lower'], config['f_upper'] = f_lower, f_upper"
   ]
  },
  {
   "cell_type": "code",
   "execution_count": 14,
   "metadata": {
    "ExecuteTime": {
     "end_time": "2021-11-19T14:03:56.414133Z",
     "start_time": "2021-11-19T14:03:56.326781Z"
    }
   },
   "outputs": [
    {
     "ename": "FDSNException",
     "evalue": "No FDSN services could be discovered at 'http://george'. This could be due to a temporary service outage or an invalid FDSN service address.",
     "output_type": "error",
     "traceback": [
      "\u001b[0;31m---------------------------------------------------------------------------\u001b[0m",
      "\u001b[0;31mFDSNException\u001b[0m                             Traceback (most recent call last)",
      "\u001b[0;32m<ipython-input-14-3740e60abe09>\u001b[0m in \u001b[0;36m<module>\u001b[0;34m\u001b[0m\n\u001b[1;32m      6\u001b[0m                             \u001b[0mpath\u001b[0m\u001b[0;34m=\u001b[0m\u001b[0;32mNone\u001b[0m\u001b[0;34m,\u001b[0m\u001b[0;34m\u001b[0m\u001b[0;34m\u001b[0m\u001b[0m\n\u001b[1;32m      7\u001b[0m                             \u001b[0mrestitute\u001b[0m\u001b[0;34m=\u001b[0m\u001b[0;32mTrue\u001b[0m\u001b[0;34m,\u001b[0m\u001b[0;34m\u001b[0m\u001b[0;34m\u001b[0m\u001b[0m\n\u001b[0;32m----> 8\u001b[0;31m                             \u001b[0mdetail\u001b[0m\u001b[0;34m=\u001b[0m\u001b[0;32mNone\u001b[0m\u001b[0;34m,\u001b[0m\u001b[0;34m\u001b[0m\u001b[0;34m\u001b[0m\u001b[0m\n\u001b[0m\u001b[1;32m      9\u001b[0m                              )\n\u001b[1;32m     10\u001b[0m \u001b[0mst\u001b[0m\u001b[0;34m.\u001b[0m\u001b[0mplot\u001b[0m\u001b[0;34m(\u001b[0m\u001b[0;34m)\u001b[0m\u001b[0;34m;\u001b[0m\u001b[0;34m\u001b[0m\u001b[0;34m\u001b[0m\u001b[0m\n",
      "\u001b[0;32m~/anaconda3/envs/obs/lib/python3.7/site-packages/andbro__querrySeismoData.py\u001b[0m in \u001b[0;36m__querrySeismoData\u001b[0;34m(seed_id, starttime, endtime, where, path, restitute, detail, fill_value)\u001b[0m\n\u001b[1;32m    175\u001b[0m \u001b[0;34m\u001b[0m\u001b[0m\n\u001b[1;32m    176\u001b[0m         \u001b[0;32mif\u001b[0m \u001b[0mwhere\u001b[0m\u001b[0;34m.\u001b[0m\u001b[0mlower\u001b[0m\u001b[0;34m(\u001b[0m\u001b[0;34m)\u001b[0m \u001b[0;34m==\u001b[0m \u001b[0;34m'george'\u001b[0m\u001b[0;34m:\u001b[0m\u001b[0;34m\u001b[0m\u001b[0;34m\u001b[0m\u001b[0m\n\u001b[0;32m--> 177\u001b[0;31m             \u001b[0mwaveform_client\u001b[0m \u001b[0;34m=\u001b[0m \u001b[0mClient\u001b[0m\u001b[0;34m(\u001b[0m\u001b[0mbase_url\u001b[0m\u001b[0;34m=\u001b[0m\u001b[0;34m'http://george'\u001b[0m\u001b[0;34m,\u001b[0m \u001b[0mtimeout\u001b[0m\u001b[0;34m=\u001b[0m\u001b[0;36m200\u001b[0m\u001b[0;34m)\u001b[0m\u001b[0;34m\u001b[0m\u001b[0;34m\u001b[0m\u001b[0m\n\u001b[0m\u001b[1;32m    178\u001b[0m         \u001b[0;32melif\u001b[0m \u001b[0mwhere\u001b[0m\u001b[0;34m.\u001b[0m\u001b[0mlower\u001b[0m\u001b[0;34m(\u001b[0m\u001b[0;34m)\u001b[0m \u001b[0;34m==\u001b[0m \u001b[0;34m'jane'\u001b[0m\u001b[0;34m:\u001b[0m\u001b[0;34m\u001b[0m\u001b[0;34m\u001b[0m\u001b[0m\n\u001b[1;32m    179\u001b[0m             \u001b[0mwaveform_client\u001b[0m \u001b[0;34m=\u001b[0m \u001b[0mClient\u001b[0m\u001b[0;34m(\u001b[0m\u001b[0mbase_url\u001b[0m\u001b[0;34m=\u001b[0m\u001b[0;34m'http://jane'\u001b[0m\u001b[0;34m,\u001b[0m \u001b[0mtimeout\u001b[0m\u001b[0;34m=\u001b[0m\u001b[0;36m200\u001b[0m\u001b[0;34m)\u001b[0m\u001b[0;34m\u001b[0m\u001b[0;34m\u001b[0m\u001b[0m\n",
      "\u001b[0;32m~/anaconda3/envs/obs/lib/python3.7/site-packages/obspy/clients/fdsn/client.py\u001b[0m in \u001b[0;36m__init__\u001b[0;34m(self, base_url, major_versions, user, password, user_agent, debug, timeout, service_mappings, force_redirect, eida_token, _discover_services)\u001b[0m\n\u001b[1;32m    261\u001b[0m \u001b[0;34m\u001b[0m\u001b[0m\n\u001b[1;32m    262\u001b[0m         \u001b[0;32mif\u001b[0m \u001b[0m_discover_services\u001b[0m\u001b[0;34m:\u001b[0m\u001b[0;34m\u001b[0m\u001b[0;34m\u001b[0m\u001b[0m\n\u001b[0;32m--> 263\u001b[0;31m             \u001b[0mself\u001b[0m\u001b[0;34m.\u001b[0m\u001b[0m_discover_services\u001b[0m\u001b[0;34m(\u001b[0m\u001b[0;34m)\u001b[0m\u001b[0;34m\u001b[0m\u001b[0;34m\u001b[0m\u001b[0m\n\u001b[0m\u001b[1;32m    264\u001b[0m         \u001b[0;32melse\u001b[0m\u001b[0;34m:\u001b[0m\u001b[0;34m\u001b[0m\u001b[0;34m\u001b[0m\u001b[0m\n\u001b[1;32m    265\u001b[0m             \u001b[0mself\u001b[0m\u001b[0;34m.\u001b[0m\u001b[0mservices\u001b[0m \u001b[0;34m=\u001b[0m \u001b[0mDEFAULT_SERVICES\u001b[0m\u001b[0;34m\u001b[0m\u001b[0;34m\u001b[0m\u001b[0m\n",
      "\u001b[0;32m~/anaconda3/envs/obs/lib/python3.7/site-packages/obspy/clients/fdsn/client.py\u001b[0m in \u001b[0;36m_discover_services\u001b[0;34m(self)\u001b[0m\n\u001b[1;32m   1547\u001b[0m                    \u001b[0;34m\"be due to a temporary service outage or an invalid FDSN \"\u001b[0m\u001b[0;34m\u001b[0m\u001b[0;34m\u001b[0m\u001b[0m\n\u001b[1;32m   1548\u001b[0m                    \"service address.\" % self.base_url)\n\u001b[0;32m-> 1549\u001b[0;31m             \u001b[0;32mraise\u001b[0m \u001b[0mFDSNException\u001b[0m\u001b[0;34m(\u001b[0m\u001b[0mmsg\u001b[0m\u001b[0;34m)\u001b[0m\u001b[0;34m\u001b[0m\u001b[0;34m\u001b[0m\u001b[0m\n\u001b[0m\u001b[1;32m   1550\u001b[0m \u001b[0;34m\u001b[0m\u001b[0m\n\u001b[1;32m   1551\u001b[0m         \u001b[0;31m# Cache.\u001b[0m\u001b[0;34m\u001b[0m\u001b[0;34m\u001b[0m\u001b[0;34m\u001b[0m\u001b[0m\n",
      "\u001b[0;31mFDSNException\u001b[0m: No FDSN services could be discovered at 'http://george'. This could be due to a temporary service outage or an invalid FDSN service address."
     ]
    }
   ],
   "source": [
    "st, inv = __querrySeismoData(    \n",
    "                            seed_id='BW.ROMY.10.BJZ',\n",
    "                            starttime=config['tbeg'],\n",
    "                            endtime=config['tend'],\n",
    "                            where=\"george\",\n",
    "                            path=None,\n",
    "                            restitute=True,\n",
    "                            detail=None,\n",
    "                             )\n",
    "st.plot();\n",
    "\n",
    "## narrow signal to specified frequency band\n",
    "st.filter('bandpass', freqmin=config['f_lower'], freqmax=config['f_upper'], corners=8, zerophase=True)\n",
    "\n",
    "## get data from stream\n",
    "modeltrace = st[0].data\n",
    "\n",
    "## generate a time axis for the model\n",
    "time_modeltrace = np.arange(modeltrace.size)/st[0].stats.sampling_rate\n",
    "\n",
    "## free some space\n",
    "del st\n",
    "\n",
    "## plot the trace and amplitude spectrum\n",
    "__makeplot_trace_and_spectrum(modeltrace, time_modeltrace, fmax=1.5*config['f_upper']); "
   ]
  },
  {
   "cell_type": "markdown",
   "metadata": {
    "ExecuteTime": {
     "end_time": "2021-11-10T13:52:54.693409Z",
     "start_time": "2021-11-10T13:52:54.690327Z"
    }
   },
   "source": [
    "## Upsample the signal"
   ]
  },
  {
   "cell_type": "code",
   "execution_count": null,
   "metadata": {
    "ExecuteTime": {
     "end_time": "2021-11-19T14:02:46.837406Z",
     "start_time": "2021-11-19T14:02:45.986Z"
    }
   },
   "outputs": [],
   "source": [
    "if oversampling:\n",
    "    \n",
    "    ## upsample using FIR filter\n",
    "#     modeltrace, time_modeltrace = __upsample_FIR(modeltrace, oversampling_factor, sps)\n",
    "\n",
    "    ## upsample using interpolation method\n",
    "    modeltrace, time_modeltrace = __interpolation(modeltrace, time_modeltrace, config['T'], config['oversampling_factor']*config['sps'])\n",
    "    \n",
    "    ## adjust sps value\n",
    "    config['sps'] *= config['oversampling_factor']\n",
    "\n",
    "## check size of arrays\n",
    "modeltrace.size, time_modeltrace.size"
   ]
  },
  {
   "cell_type": "code",
   "execution_count": null,
   "metadata": {
    "ExecuteTime": {
     "end_time": "2021-11-19T14:02:46.837818Z",
     "start_time": "2021-11-19T14:02:45.990Z"
    }
   },
   "outputs": [],
   "source": [
    "__makeplot_trace_and_spectrum(modeltrace, time_modeltrace, fmax=1); "
   ]
  },
  {
   "cell_type": "markdown",
   "metadata": {},
   "source": [
    "# Modulation"
   ]
  },
  {
   "cell_type": "code",
   "execution_count": null,
   "metadata": {
    "ExecuteTime": {
     "end_time": "2021-11-19T14:02:46.838560Z",
     "start_time": "2021-11-19T14:02:45.997Z"
    },
    "scrolled": true
   },
   "outputs": [],
   "source": [
    "\n",
    "synthetic_signal, timeline = __modulation(\n",
    "                                          modeltrace,\n",
    "                                          time_modeltrace, \n",
    "                                          config['sgnc'], \n",
    "                                          config['T'], \n",
    "                                          config['sps'], \n",
    "                                          config['modulation_index'], \n",
    "                                          config['modulation_scheme'],\n",
    "                                         )\n"
   ]
  },
  {
   "cell_type": "code",
   "execution_count": null,
   "metadata": {
    "ExecuteTime": {
     "end_time": "2021-11-19T14:02:46.839632Z",
     "start_time": "2021-11-19T14:02:46.000Z"
    }
   },
   "outputs": [],
   "source": [
    "synthetic_signal = synthetic_signal + np.random.random(size=len(synthetic_signal))*0.05"
   ]
  },
  {
   "cell_type": "markdown",
   "metadata": {},
   "source": [
    "### Taper"
   ]
  },
  {
   "cell_type": "code",
   "execution_count": null,
   "metadata": {
    "ExecuteTime": {
     "end_time": "2021-11-19T14:02:46.840183Z",
     "start_time": "2021-11-19T14:02:46.006Z"
    }
   },
   "outputs": [],
   "source": [
    "synthetic_signal = __tapering(synthetic_signal, taper_type='hann', percent=0.2)"
   ]
  },
  {
   "cell_type": "markdown",
   "metadata": {},
   "source": [
    "### Plots"
   ]
  },
  {
   "cell_type": "code",
   "execution_count": null,
   "metadata": {
    "ExecuteTime": {
     "end_time": "2021-11-19T14:02:46.840681Z",
     "start_time": "2021-11-19T14:02:46.022Z"
    }
   },
   "outputs": [],
   "source": [
    "__makeplot_trace_and_psd(synthetic_signal, timeline, fmax=1/config['oversampling_factor']*config['sps'], t1=500, t2=500.1);"
   ]
  },
  {
   "cell_type": "code",
   "execution_count": null,
   "metadata": {
    "ExecuteTime": {
     "end_time": "2021-11-19T14:02:46.841173Z",
     "start_time": "2021-11-19T14:02:46.025Z"
    }
   },
   "outputs": [],
   "source": [
    "__makeplot_trace_and_psd(synthetic_signal, timeline, fmin=550, fmax=558, t1=500, t2=500.1); "
   ]
  },
  {
   "cell_type": "markdown",
   "metadata": {},
   "source": [
    "## Downsample"
   ]
  },
  {
   "cell_type": "markdown",
   "metadata": {},
   "source": [
    "The modulation has been performed with an oversampling factor to avoid erros. Now the result is resampled mimicing the real sampling of the analog signal."
   ]
  },
  {
   "cell_type": "code",
   "execution_count": null,
   "metadata": {
    "ExecuteTime": {
     "end_time": "2021-11-19T14:02:46.841561Z",
     "start_time": "2021-11-19T14:02:46.035Z"
    },
    "code_folding": [
     1
    ]
   },
   "outputs": [],
   "source": [
    "\n",
    "def __downsample(signal_in, config['sps'], ds_factor=config['oversampling_factor']):\n",
    "    \n",
    "    \n",
    "#     tmp = Trace(signal_in)\n",
    "#     tmp.stats.delta = 1/sps\n",
    "    \n",
    "#     tmp.resample(int(sps/2)) # using FFT\n",
    "    \n",
    "#     tmp.filter('lowpass', freq=2400, corners=8, zerophase=True)\n",
    "#     signal_out = tmp.data\n",
    "\n",
    "    signal_out = decimate(signal_in, ds_factor, n=None, ftype='fir', axis=-1, zero_phase=True)\n",
    "    \n",
    "    sps = int(sps/ds_factor)\n",
    "    \n",
    "#     signal_out = signal_out[::ds_factor]\n",
    "    time_out = np.arange(signal_out.size)/sps\n",
    "\n",
    "    return signal_out, time_out, sps\n"
   ]
  },
  {
   "cell_type": "code",
   "execution_count": null,
   "metadata": {
    "ExecuteTime": {
     "end_time": "2021-11-19T14:02:46.841961Z",
     "start_time": "2021-11-19T14:02:46.038Z"
    },
    "code_folding": []
   },
   "outputs": [],
   "source": [
    "## check array size\n",
    "synthetic_signal.size, modeltrace.size\n",
    "\n",
    "if oversampling:\n",
    "\n",
    "    sps0 = config['sps'] ## prevent overwriting\n",
    "    \n",
    "    ## downsample synthetic\n",
    "    synthetic_signal, timeline, config['sps'] = __downsample(synthetic_signal, sps0, ds_factor=config['oversampling_factor'])\n",
    "    \n",
    "    ## downsample model\n",
    "    modeltrace, time_modeltrace, config['sps'] = __downsample(modeltrace, sps0, ds_factor=config['oversampling_factor'])\n",
    "\n",
    "## check array size\n",
    "synthetic_signal.size, modeltrace.size"
   ]
  },
  {
   "cell_type": "code",
   "execution_count": null,
   "metadata": {
    "ExecuteTime": {
     "end_time": "2021-11-19T14:02:46.842403Z",
     "start_time": "2021-11-19T14:02:46.040Z"
    }
   },
   "outputs": [],
   "source": [
    "__makeplot_trace_and_psd(synthetic_signal, timeline, fmax=0.5*config['sps'], t1=500, t2=500.1); "
   ]
  },
  {
   "cell_type": "code",
   "execution_count": null,
   "metadata": {
    "ExecuteTime": {
     "end_time": "2021-11-19T14:02:46.842939Z",
     "start_time": "2021-11-19T14:02:46.042Z"
    }
   },
   "outputs": [],
   "source": [
    "__makeplot_trace_and_psd(synthetic_signal, timeline, fmin=550, fmax=558, t1=500, t2=500.1); "
   ]
  },
  {
   "cell_type": "markdown",
   "metadata": {},
   "source": [
    "## Get Raw Signal for Comparison"
   ]
  },
  {
   "cell_type": "code",
   "execution_count": null,
   "metadata": {
    "ExecuteTime": {
     "end_time": "2021-11-19T14:02:46.843341Z",
     "start_time": "2021-11-19T14:02:46.048Z"
    }
   },
   "outputs": [],
   "source": [
    "try: \n",
    "    print(st0)\n",
    "except:\n",
    "    st0, inv = __querrySeismoData( \n",
    "                                seed_id='BW.DROMY..FJZ',\n",
    "                                starttime=config['tbeg'],\n",
    "                                endtime=config['tend'],\n",
    "                                where=\"george\",\n",
    "                                path=None,\n",
    "                                restitute=True,\n",
    "                                detail=None,\n",
    "                                 )\n",
    "\n",
    "    ## remove DC offset\n",
    "    st0.detrend('demean')\n",
    "\n",
    "## show data\n",
    "st0.plot();"
   ]
  },
  {
   "cell_type": "code",
   "execution_count": null,
   "metadata": {
    "ExecuteTime": {
     "end_time": "2021-11-19T14:02:46.843755Z",
     "start_time": "2021-11-19T14:02:46.050Z"
    }
   },
   "outputs": [],
   "source": [
    "## get data from stream\n",
    "rawtrace = st0[0].data\n",
    "\n",
    "rawtrace = __normalize(rawtrace)\n",
    "\n",
    "## generate a time axis for the model\n",
    "time_rawtrace = np.arange(rawtrace.size)/st0[0].stats.sampling_rate"
   ]
  },
  {
   "cell_type": "code",
   "execution_count": null,
   "metadata": {
    "ExecuteTime": {
     "end_time": "2021-11-19T14:02:46.844260Z",
     "start_time": "2021-11-19T14:02:46.052Z"
    }
   },
   "outputs": [],
   "source": [
    "__makeplot_trace_and_psd(rawtrace, time_rawtrace, fmin=550, fmax=558, t1=10, t2=10.1); "
   ]
  },
  {
   "cell_type": "code",
   "execution_count": null,
   "metadata": {
    "ExecuteTime": {
     "end_time": "2021-11-19T14:02:46.844669Z",
     "start_time": "2021-11-19T14:02:46.057Z"
    }
   },
   "outputs": [],
   "source": [
    "__makeplot_trace_and_psd(synthetic_signal, timeline, fmin=0, fmax=0.5*config['sps'], t1=500, t2=500.1); \n",
    "__makeplot_trace_and_psd(rawtrace, time_rawtrace, fmin=0, fmax=0.5*config['sps'], t1=500, t2=500.1); "
   ]
  },
  {
   "cell_type": "code",
   "execution_count": null,
   "metadata": {
    "ExecuteTime": {
     "end_time": "2021-11-19T14:02:46.845053Z",
     "start_time": "2021-11-19T14:02:46.059Z"
    }
   },
   "outputs": [],
   "source": [
    "from andbro__crosscorrelation import __crosscorrelation"
   ]
  },
  {
   "cell_type": "code",
   "execution_count": null,
   "metadata": {
    "ExecuteTime": {
     "end_time": "2021-11-19T14:02:46.845425Z",
     "start_time": "2021-11-19T14:02:46.062Z"
    }
   },
   "outputs": [],
   "source": [
    "rawtrace.size, synthetic_signal.size"
   ]
  },
  {
   "cell_type": "code",
   "execution_count": null,
   "metadata": {
    "ExecuteTime": {
     "end_time": "2021-11-19T14:02:46.845824Z",
     "start_time": "2021-11-19T14:02:46.065Z"
    },
    "scrolled": true
   },
   "outputs": [],
   "source": [
    "set1, set2 = int(500*sps), int(500.01*sps)\n",
    "\n",
    "out = __crosscorrelation(rawtrace[set1:set2], synthetic_signal[set1:set2], plot=True)\n",
    "\n",
    "print(f\" max_X: {out['maximum'][0]}\\n max_Y: {out['maximum'][1]}\")"
   ]
  },
  {
   "cell_type": "markdown",
   "metadata": {},
   "source": [
    "## Write "
   ]
  },
  {
   "cell_type": "code",
   "execution_count": null,
   "metadata": {
    "ExecuteTime": {
     "end_time": "2021-11-19T14:02:46.846220Z",
     "start_time": "2021-11-19T14:02:46.071Z"
    }
   },
   "outputs": [],
   "source": [
    "# outpath = \"/home/andbro/notebooks/Sagnac_processing/data/\"\n",
    "\n",
    "# ## store synthetic trace\n",
    "# oname = \"realtrace\" \n",
    "# ofile = open(f\"{outpath}{oname}.syn\",\"wb\")\n",
    "# pickle.dump(synthetic_signal, ofile)\n",
    "# ofile.close()\n",
    "\n",
    "# ## store model trace\n",
    "# ofile = open(f\"{outpath}{oname}.mod\",\"wb\")\n",
    "# pickle.dump(modeltrace, ofile)\n",
    "# ofile.close()\n",
    "\n",
    "# ## store configurations\n",
    "# ofile = open(f\"{outpath}{oname}.conf\",\"wb\")\n",
    "# pickle.dump(config, ofile)\n",
    "# ofile.close()\n"
   ]
  },
  {
   "cell_type": "code",
   "execution_count": null,
   "metadata": {},
   "outputs": [],
   "source": []
  }
 ],
 "metadata": {
  "kernelspec": {
   "display_name": "Python 3",
   "language": "python",
   "name": "python3"
  },
  "language_info": {
   "codemirror_mode": {
    "name": "ipython",
    "version": 3
   },
   "file_extension": ".py",
   "mimetype": "text/x-python",
   "name": "python",
   "nbconvert_exporter": "python",
   "pygments_lexer": "ipython3",
   "version": "3.7.8"
  }
 },
 "nbformat": 4,
 "nbformat_minor": 4
}
