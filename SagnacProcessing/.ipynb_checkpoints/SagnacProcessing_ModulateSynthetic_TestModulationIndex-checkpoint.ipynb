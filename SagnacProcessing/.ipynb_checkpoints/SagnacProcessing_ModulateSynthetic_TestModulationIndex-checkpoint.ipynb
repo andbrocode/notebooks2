{
 "cells": [
  {
   "cell_type": "markdown",
   "metadata": {},
   "source": [
    "<div style='background-image: url(\"https://www.geophysik.uni-muenchen.de/ROMY/theme/images/ringlaser_wideformat.jpg\") ; padding: 0px ; background-size: cover ; border-radius: 15px ; height: 250px; background-position: 0% 80%'>\n",
    "    <div style=\"float: left ; margin: 50px ; padding: 60px ; background: rgba(255 , 255 , 255 , 0.9) ; width: 40% ; height: 180px\">\n",
    "        <div style=\"position: relative ; top: 50%;  transform: translatey(-50%)\">\n",
    "            <div style=\"font-size: xx-large ; font-weight: 900 ; color: rgba(0 , 0 , 0 , 0.9) ; line-height: 100%\"> <br>  Snythetic Modulation <br> <br> Test Modulation Index </div>\n",
    "            <div style=\"font-size: large ; padding-top: 20px ; color: rgba(0 , 0 , 0 , 0.7)\"></div>\n",
    "        </div>\n",
    "    </div>"
   ]
  },
  {
   "cell_type": "markdown",
   "metadata": {
    "ExecuteTime": {
     "end_time": "2021-01-29T15:14:27.795046Z",
     "start_time": "2021-01-29T15:14:27.791664Z"
    }
   },
   "source": [
    "## Import Libraries"
   ]
  },
  {
   "cell_type": "markdown",
   "metadata": {
    "ExecuteTime": {
     "end_time": "2021-01-29T15:15:30.279221Z",
     "start_time": "2021-01-29T15:15:30.275801Z"
    }
   },
   "source": [
    "### Official Libraries"
   ]
  },
  {
   "cell_type": "code",
   "execution_count": 1,
   "metadata": {
    "ExecuteTime": {
     "end_time": "2021-12-10T14:49:41.111356Z",
     "start_time": "2021-12-10T14:49:40.501257Z"
    }
   },
   "outputs": [],
   "source": [
    "import numpy as np \n",
    "import matplotlib.pyplot as plt \n",
    "import time\n",
    "import pickle\n",
    "\n",
    "from scipy.signal import resample, hilbert, correlate, decimate\n",
    "from tqdm import tqdm\n",
    "from obspy import UTCDateTime, read, read_inventory, Trace"
   ]
  },
  {
   "cell_type": "markdown",
   "metadata": {},
   "source": [
    "### Own Processing Methods"
   ]
  },
  {
   "cell_type": "code",
   "execution_count": 2,
   "metadata": {
    "ExecuteTime": {
     "end_time": "2021-12-10T14:49:41.115070Z",
     "start_time": "2021-12-10T14:49:41.112928Z"
    }
   },
   "outputs": [],
   "source": [
    "import sys\n",
    "sys.path.insert(0, 'submodules')"
   ]
  },
  {
   "cell_type": "code",
   "execution_count": 3,
   "metadata": {
    "ExecuteTime": {
     "end_time": "2021-12-10T14:49:41.139141Z",
     "start_time": "2021-12-10T14:49:41.130231Z"
    }
   },
   "outputs": [],
   "source": [
    "from EchoPerformance import __echo_performance\n",
    "from CreateSyntheticEventV2 import __create_synthetic_event_v2\n",
    "from MakeplotDemodulationQuality import __makeplot_demodulation_quality\n",
    "from MinimizeResidual import __minimize_residual\n",
    "from CreateLinearChirp import __create_linear_chirp\n",
    "from Tapering import __tapering\n",
    "from InstaFreqHilbert import __insta_freq_hilbert\n",
    "from Normalize import __normalize\n",
    "from WriteToMseed import __write_to_mseed\n",
    "from LoadMseed import __load_mseed\n",
    "from Modulation import __modulation\n",
    "from QuerrySeismoData import __querry_seismo_data\n",
    "from Interpolation import __interpolation"
   ]
  },
  {
   "cell_type": "code",
   "execution_count": 4,
   "metadata": {
    "ExecuteTime": {
     "end_time": "2021-12-10T14:49:41.800517Z",
     "start_time": "2021-12-10T14:49:41.795835Z"
    }
   },
   "outputs": [],
   "source": [
    "from RingLaser import RingLaser\n",
    "\n",
    "## define G-Ring\n",
    "G = RingLaser(side=4., form=\"square\", wl=632.8e-9, lat=49.16)\n",
    "\n",
    "## define ROMY Z-Ring\n",
    "ROMY_Z = RingLaser(side=11., form=\"triangle\", wl=632.8e-9, lat=49.16)\n"
   ]
  },
  {
   "cell_type": "markdown",
   "metadata": {},
   "source": [
    "### Own Plotting Methods"
   ]
  },
  {
   "cell_type": "code",
   "execution_count": 5,
   "metadata": {
    "ExecuteTime": {
     "end_time": "2021-12-10T14:49:42.168157Z",
     "start_time": "2021-12-10T14:49:42.164641Z"
    }
   },
   "outputs": [],
   "source": [
    "from MakeplotTraceAndSpectrum import __makeplot_trace_and_spectrum\n",
    "from MakeplotTraceAndPSD import __makeplot_trace_and_psd\n",
    "from MakeplotModulatedSignal import __makeplot_modulated_signal"
   ]
  },
  {
   "cell_type": "code",
   "execution_count": 6,
   "metadata": {
    "ExecuteTime": {
     "end_time": "2021-12-10T14:49:42.343130Z",
     "start_time": "2021-12-10T14:49:42.336528Z"
    },
    "code_folding": [
     1
    ]
   },
   "outputs": [],
   "source": [
    "\n",
    "def __upsample_FIR(signal_in, sampling_factor, sps):\n",
    "    \n",
    "    from scipy.signal import upfirdn, resample_poly\n",
    "    \n",
    "    \n",
    "    lower = 50\n",
    "    upper = sampling_factor*lower\n",
    "    \n",
    "    signal_out = resample_poly(signal_in, upper, lower)\n",
    "    \n",
    "    time_out = np.arange(len(signal_out))/(sps*sampling_factor)\n",
    "    \n",
    "    return signal_out, time_out\n"
   ]
  },
  {
   "cell_type": "markdown",
   "metadata": {},
   "source": [
    "## Configurations"
   ]
  },
  {
   "cell_type": "code",
   "execution_count": 7,
   "metadata": {
    "ExecuteTime": {
     "end_time": "2021-12-10T14:49:43.129314Z",
     "start_time": "2021-12-10T14:49:43.123953Z"
    }
   },
   "outputs": [
    {
     "name": "stdout",
     "output_type": "stream",
     "text": [
      "Total Samples: 8000000\n",
      "Rounded Sagnac Frequency: 553.37 Hz\n",
      "Modulation Index (scale factor): 10036114.034585783\n"
     ]
    }
   ],
   "source": [
    "# config = {}\n",
    "\n",
    "## time period\n",
    "T = 1600  ## seconds\n",
    "\n",
    "## samles per second\n",
    "sps = 5000\n",
    "\n",
    "print(f\"Total Samples: {T*sps}\")\n",
    "\n",
    "\n",
    "# sgnc = round(ROMY_Z.get_sagnac_frequency(), 2)\n",
    "sgnc = 553.37\n",
    "print(f\"Rounded Sagnac Frequency: {round(sgnc,2)} Hz\")\n",
    "\n",
    "modulation_index = ROMY_Z.get_scale_factor()\n",
    "print(f\"Modulation Index (scale factor): {modulation_index}\")\n",
    "\n",
    "modulation_scheme = 3\n",
    "\n",
    "\n",
    "## decide if oversampling is set (bool) and how much oversampling\n",
    "oversampling = True\n",
    "oversampling_factor = 4"
   ]
  },
  {
   "cell_type": "markdown",
   "metadata": {
    "ExecuteTime": {
     "end_time": "2021-11-10T13:18:57.922774Z",
     "start_time": "2021-11-10T13:18:57.919243Z"
    }
   },
   "source": [
    "## Real Data from recorded Events"
   ]
  },
  {
   "cell_type": "code",
   "execution_count": 8,
   "metadata": {
    "ExecuteTime": {
     "end_time": "2021-12-10T14:49:44.226282Z",
     "start_time": "2021-12-10T14:49:44.220047Z"
    }
   },
   "outputs": [],
   "source": [
    "from obspy import UTCDateTime\n",
    "from andbro__querrySeismoData import __querrySeismoData\n",
    "\n",
    "## Kermadec Event\n",
    "# tbeg = UTCDateTime(\"2021-03-04 18:40\")\n",
    "# tend = UTCDateTime(\"2021-03-04 18:40\")+T\n",
    "# f_lower, f_upper = 0.001, 0.1\n",
    "\n",
    "## (possibly) Eigenmodes\n",
    "# tbeg = UTCDateTime(\"2021-03-04 18:58\")\n",
    "# tend = UTCDateTime(\"2021-03-04 18:58\")+T\n",
    "# f_lower, f_upper = 0.003, 0.01\n",
    "\n",
    "## Greece Event\n",
    "tbeg = UTCDateTime(\"2021-03-03 10:18\")\n",
    "tend = UTCDateTime(\"2021-03-03 10:18\")+T\n",
    "f_lower, f_upper = 0.01, 0.5\n",
    "\n",
    "\n",
    "## car / ambient noise - high frequent\n",
    "# tbeg = UTCDateTime(\"2021-03-10 12:00\")\n",
    "# tend = UTCDateTime(\"2021-03-10 12:00\")+T\n",
    "# f_lower, f_upper = 1.0, 10.0\n"
   ]
  },
  {
   "cell_type": "code",
   "execution_count": 10,
   "metadata": {
    "ExecuteTime": {
     "end_time": "2021-12-10T14:49:55.375565Z",
     "start_time": "2021-12-10T14:49:55.340955Z"
    }
   },
   "outputs": [
    {
     "ename": "FDSNException",
     "evalue": "No FDSN services could be discovered at 'http://george'. This could be due to a temporary service outage or an invalid FDSN service address.",
     "output_type": "error",
     "traceback": [
      "\u001b[0;31m---------------------------------------------------------------------------\u001b[0m",
      "\u001b[0;31mFDSNException\u001b[0m                             Traceback (most recent call last)",
      "\u001b[0;32m<ipython-input-10-bec1473cf399>\u001b[0m in \u001b[0;36m<module>\u001b[0;34m\u001b[0m\n\u001b[1;32m      6\u001b[0m                             \u001b[0mpath\u001b[0m\u001b[0;34m=\u001b[0m\u001b[0;32mNone\u001b[0m\u001b[0;34m,\u001b[0m\u001b[0;34m\u001b[0m\u001b[0;34m\u001b[0m\u001b[0m\n\u001b[1;32m      7\u001b[0m                             \u001b[0mrestitute\u001b[0m\u001b[0;34m=\u001b[0m\u001b[0;32mTrue\u001b[0m\u001b[0;34m,\u001b[0m\u001b[0;34m\u001b[0m\u001b[0;34m\u001b[0m\u001b[0m\n\u001b[0;32m----> 8\u001b[0;31m                             \u001b[0mdetail\u001b[0m\u001b[0;34m=\u001b[0m\u001b[0;32mNone\u001b[0m\u001b[0;34m,\u001b[0m\u001b[0;34m\u001b[0m\u001b[0;34m\u001b[0m\u001b[0m\n\u001b[0m\u001b[1;32m      9\u001b[0m                              )\n\u001b[1;32m     10\u001b[0m \u001b[0mst\u001b[0m\u001b[0;34m.\u001b[0m\u001b[0mplot\u001b[0m\u001b[0;34m(\u001b[0m\u001b[0;34m)\u001b[0m\u001b[0;34m;\u001b[0m\u001b[0;34m\u001b[0m\u001b[0;34m\u001b[0m\u001b[0m\n",
      "\u001b[0;32m~/anaconda3/envs/obs/lib/python3.7/site-packages/andbro__querrySeismoData.py\u001b[0m in \u001b[0;36m__querrySeismoData\u001b[0;34m(seed_id, starttime, endtime, where, path, restitute, detail, fill_value)\u001b[0m\n\u001b[1;32m    175\u001b[0m \u001b[0;34m\u001b[0m\u001b[0m\n\u001b[1;32m    176\u001b[0m         \u001b[0;32mif\u001b[0m \u001b[0mwhere\u001b[0m\u001b[0;34m.\u001b[0m\u001b[0mlower\u001b[0m\u001b[0;34m(\u001b[0m\u001b[0;34m)\u001b[0m \u001b[0;34m==\u001b[0m \u001b[0;34m'george'\u001b[0m\u001b[0;34m:\u001b[0m\u001b[0;34m\u001b[0m\u001b[0;34m\u001b[0m\u001b[0m\n\u001b[0;32m--> 177\u001b[0;31m             \u001b[0mwaveform_client\u001b[0m \u001b[0;34m=\u001b[0m \u001b[0mClient\u001b[0m\u001b[0;34m(\u001b[0m\u001b[0mbase_url\u001b[0m\u001b[0;34m=\u001b[0m\u001b[0;34m'http://george'\u001b[0m\u001b[0;34m,\u001b[0m \u001b[0mtimeout\u001b[0m\u001b[0;34m=\u001b[0m\u001b[0;36m200\u001b[0m\u001b[0;34m)\u001b[0m\u001b[0;34m\u001b[0m\u001b[0;34m\u001b[0m\u001b[0m\n\u001b[0m\u001b[1;32m    178\u001b[0m         \u001b[0;32melif\u001b[0m \u001b[0mwhere\u001b[0m\u001b[0;34m.\u001b[0m\u001b[0mlower\u001b[0m\u001b[0;34m(\u001b[0m\u001b[0;34m)\u001b[0m \u001b[0;34m==\u001b[0m \u001b[0;34m'jane'\u001b[0m\u001b[0;34m:\u001b[0m\u001b[0;34m\u001b[0m\u001b[0;34m\u001b[0m\u001b[0m\n\u001b[1;32m    179\u001b[0m             \u001b[0mwaveform_client\u001b[0m \u001b[0;34m=\u001b[0m \u001b[0mClient\u001b[0m\u001b[0;34m(\u001b[0m\u001b[0mbase_url\u001b[0m\u001b[0;34m=\u001b[0m\u001b[0;34m'http://jane'\u001b[0m\u001b[0;34m,\u001b[0m \u001b[0mtimeout\u001b[0m\u001b[0;34m=\u001b[0m\u001b[0;36m200\u001b[0m\u001b[0;34m)\u001b[0m\u001b[0;34m\u001b[0m\u001b[0;34m\u001b[0m\u001b[0m\n",
      "\u001b[0;32m~/anaconda3/envs/obs/lib/python3.7/site-packages/obspy/clients/fdsn/client.py\u001b[0m in \u001b[0;36m__init__\u001b[0;34m(self, base_url, major_versions, user, password, user_agent, debug, timeout, service_mappings, force_redirect, eida_token, _discover_services)\u001b[0m\n\u001b[1;32m    261\u001b[0m \u001b[0;34m\u001b[0m\u001b[0m\n\u001b[1;32m    262\u001b[0m         \u001b[0;32mif\u001b[0m \u001b[0m_discover_services\u001b[0m\u001b[0;34m:\u001b[0m\u001b[0;34m\u001b[0m\u001b[0;34m\u001b[0m\u001b[0m\n\u001b[0;32m--> 263\u001b[0;31m             \u001b[0mself\u001b[0m\u001b[0;34m.\u001b[0m\u001b[0m_discover_services\u001b[0m\u001b[0;34m(\u001b[0m\u001b[0;34m)\u001b[0m\u001b[0;34m\u001b[0m\u001b[0;34m\u001b[0m\u001b[0m\n\u001b[0m\u001b[1;32m    264\u001b[0m         \u001b[0;32melse\u001b[0m\u001b[0;34m:\u001b[0m\u001b[0;34m\u001b[0m\u001b[0;34m\u001b[0m\u001b[0m\n\u001b[1;32m    265\u001b[0m             \u001b[0mself\u001b[0m\u001b[0;34m.\u001b[0m\u001b[0mservices\u001b[0m \u001b[0;34m=\u001b[0m \u001b[0mDEFAULT_SERVICES\u001b[0m\u001b[0;34m\u001b[0m\u001b[0;34m\u001b[0m\u001b[0m\n",
      "\u001b[0;32m~/anaconda3/envs/obs/lib/python3.7/site-packages/obspy/clients/fdsn/client.py\u001b[0m in \u001b[0;36m_discover_services\u001b[0;34m(self)\u001b[0m\n\u001b[1;32m   1547\u001b[0m                    \u001b[0;34m\"be due to a temporary service outage or an invalid FDSN \"\u001b[0m\u001b[0;34m\u001b[0m\u001b[0;34m\u001b[0m\u001b[0m\n\u001b[1;32m   1548\u001b[0m                    \"service address.\" % self.base_url)\n\u001b[0;32m-> 1549\u001b[0;31m             \u001b[0;32mraise\u001b[0m \u001b[0mFDSNException\u001b[0m\u001b[0;34m(\u001b[0m\u001b[0mmsg\u001b[0m\u001b[0;34m)\u001b[0m\u001b[0;34m\u001b[0m\u001b[0;34m\u001b[0m\u001b[0m\n\u001b[0m\u001b[1;32m   1550\u001b[0m \u001b[0;34m\u001b[0m\u001b[0m\n\u001b[1;32m   1551\u001b[0m         \u001b[0;31m# Cache.\u001b[0m\u001b[0;34m\u001b[0m\u001b[0;34m\u001b[0m\u001b[0;34m\u001b[0m\u001b[0m\n",
      "\u001b[0;31mFDSNException\u001b[0m: No FDSN services could be discovered at 'http://george'. This could be due to a temporary service outage or an invalid FDSN service address."
     ]
    }
   ],
   "source": [
    "st, inv = __querrySeismoData(    \n",
    "                            seed_id='BW.ROMY.10.BJZ',\n",
    "                            starttime=tbeg,\n",
    "                            endtime=tend,\n",
    "                            where=\"george\",\n",
    "                            path=None,\n",
    "                            restitute=True,\n",
    "                            detail=None,\n",
    "                             )\n",
    "st.plot();\n",
    "\n",
    "## narrow signal to specified frequency band\n",
    "st.filter('bandpass', freqmin=f_lower, freqmax=f_upper, corners=8, zerophase=True)\n",
    "\n",
    "## get data from stream\n",
    "modeltrace = st[0].data\n",
    "\n",
    "## generate a time axis for the model\n",
    "time_modeltrace = np.arange(modeltrace.size)/st[0].stats.sampling_rate\n",
    "\n",
    "## free some space\n",
    "del st\n",
    "\n",
    "## plot the trace and amplitude spectrum\n",
    "__makeplot_trace_and_spectrum(modeltrace, time_modeltrace, fmax=1.5*f_upper); "
   ]
  },
  {
   "cell_type": "markdown",
   "metadata": {
    "ExecuteTime": {
     "end_time": "2021-11-10T13:52:54.693409Z",
     "start_time": "2021-11-10T13:52:54.690327Z"
    }
   },
   "source": [
    "## Upsample the signal"
   ]
  },
  {
   "cell_type": "code",
   "execution_count": null,
   "metadata": {
    "ExecuteTime": {
     "end_time": "2021-12-06T15:14:59.064041Z",
     "start_time": "2021-12-06T15:14:48.592862Z"
    }
   },
   "outputs": [],
   "source": [
    "if oversampling:\n",
    "    \n",
    "    ## upsample using FIR filter\n",
    "#     modeltrace, time_modeltrace = __upsample_FIR(modeltrace, oversampling_factor, sps)\n",
    "\n",
    "    ## upsample using interpolation method\n",
    "    modeltrace, time_modeltrace = __interpolation(modeltrace, time_modeltrace, T, oversampling_factor*sps)\n",
    "    \n",
    "    ## adjust sps value\n",
    "    sps *= oversampling_factor\n",
    "\n",
    "## check size of arrays\n",
    "modeltrace.size, time_modeltrace.size"
   ]
  },
  {
   "cell_type": "code",
   "execution_count": null,
   "metadata": {
    "ExecuteTime": {
     "end_time": "2021-12-06T15:15:11.910245Z",
     "start_time": "2021-12-06T15:14:59.068207Z"
    }
   },
   "outputs": [],
   "source": [
    "__makeplot_trace_and_spectrum(modeltrace, time_modeltrace, fmax=1, text=True); "
   ]
  },
  {
   "cell_type": "markdown",
   "metadata": {},
   "source": [
    "# Modulation"
   ]
  },
  {
   "cell_type": "code",
   "execution_count": null,
   "metadata": {
    "ExecuteTime": {
     "end_time": "2021-12-06T15:15:23.765829Z",
     "start_time": "2021-12-06T15:15:11.911951Z"
    },
    "scrolled": true
   },
   "outputs": [],
   "source": [
    "\n",
    "synthetic_signal, timeline = __modulation(\n",
    "                                          modeltrace,\n",
    "                                          time_modeltrace, \n",
    "                                          sgnc, \n",
    "                                          T, \n",
    "                                          sps, \n",
    "                                          modulation_index, \n",
    "                                          modulation_scheme,\n",
    "                                         )\n"
   ]
  },
  {
   "cell_type": "code",
   "execution_count": null,
   "metadata": {
    "ExecuteTime": {
     "end_time": "2021-12-06T15:15:24.277877Z",
     "start_time": "2021-12-06T15:15:23.767717Z"
    }
   },
   "outputs": [],
   "source": [
    "synthetic_signal = __tapering(synthetic_signal, taper_type='hann', percent=0.2)"
   ]
  },
  {
   "cell_type": "code",
   "execution_count": null,
   "metadata": {
    "ExecuteTime": {
     "end_time": "2021-12-06T15:15:24.285670Z",
     "start_time": "2021-12-06T15:15:24.280670Z"
    },
    "code_folding": [
     1
    ]
   },
   "outputs": [],
   "source": [
    "\n",
    "def __downsample(signal_in, sps, ds_factor=oversampling_factor):\n",
    "    \n",
    "    \n",
    "#     tmp = Trace(signal_in)\n",
    "#     tmp.stats.delta = 1/sps\n",
    "    \n",
    "#     tmp.resample(int(sps/2)) # using FFT\n",
    "    \n",
    "#     tmp.filter('lowpass', freq=2400, corners=8, zerophase=True)\n",
    "#     signal_out = tmp.data\n",
    "\n",
    "    signal_out = decimate(signal_in, ds_factor, n=None, ftype='fir', axis=-1, zero_phase=True)\n",
    "    \n",
    "    sps = int(sps/ds_factor)\n",
    "    \n",
    "#     signal_out = signal_out[::ds_factor]\n",
    "    time_out = np.arange(signal_out.size)/sps\n",
    "\n",
    "    return signal_out, time_out, sps\n"
   ]
  },
  {
   "cell_type": "code",
   "execution_count": null,
   "metadata": {
    "ExecuteTime": {
     "end_time": "2021-12-06T15:15:24.846806Z",
     "start_time": "2021-12-06T15:15:24.287756Z"
    }
   },
   "outputs": [],
   "source": [
    "## downsample\n",
    "if oversampling:\n",
    "\n",
    "    ## downsample synthetic\n",
    "    synthetic_signal, timeline, sps = __downsample(synthetic_signal, sps, ds_factor=oversampling_factor)"
   ]
  },
  {
   "cell_type": "code",
   "execution_count": null,
   "metadata": {
    "ExecuteTime": {
     "end_time": "2021-12-06T15:15:25.958066Z",
     "start_time": "2021-12-06T15:15:24.848782Z"
    }
   },
   "outputs": [],
   "source": [
    "__makeplot_trace_and_psd(timeline, synthetic_signal, fmin=550, fmax=558, t1=10, t2=10.1); "
   ]
  },
  {
   "cell_type": "code",
   "execution_count": null,
   "metadata": {
    "ExecuteTime": {
     "end_time": "2021-12-06T15:15:26.077339Z",
     "start_time": "2021-12-06T15:15:25.960262Z"
    }
   },
   "outputs": [],
   "source": [
    "from submodules.FastFourierTransform import __fast_fourier_transform\n",
    "\n",
    "\n",
    "from numpy.fft import fftshift\n",
    "from scipy.signal import welch\n",
    "from random import uniform\n",
    "\n",
    "# noise_level = [0, 0.01, 0.1, 0.5, 1, 2]\n",
    "noise_level = np.logspace(-2, 1, 5) \n",
    "noise_level = np.insert(noise_level,0, 0)\n",
    "\n",
    "snr = []\n",
    "spectra = []\n",
    "\n",
    "sps0 = sps ## prevent overwriting\n",
    "\n",
    "for nl in noise_level:\n",
    "    \n",
    "    \n",
    "    N = len(synthetic_signal)\n",
    "    \n",
    "    ## add noise to modulated signal\n",
    "    random_noise = np.random.randn(size=N)*nl\n",
    "#     random_noise = np.array([uniform(-1, 1) for i in range(N)])*nl\n",
    "\n",
    "    syn_noise = synthetic_signal + random_noise\n",
    "    \n",
    "    \n",
    "    ## compute SNR\n",
    "    print(np.mean(abs(synthetic_signal))/np.mean(abs(random_noise)), np.mean(abs(synthetic_signal)/abs(random_noise)))\n",
    "    signal_to_noise = 20*np.log10(np.mean(abs(synthetic_signal))/np.mean(abs(random_noise)))\n",
    "    \n",
    "    if signal_to_noise == np.nan:\n",
    "        snr.append(0)\n",
    "    else:\n",
    "        snr.append(signal_to_noise)\n",
    "        \n",
    "    ## compute spectrum\n",
    "#     trace_fft, ff = __fast_fourier_transform(signal_in=syn_noise, dt=1/sps , window=None, normalize=None)\n",
    "#     spectra.append(abs(trace_fft[:N // 2]))\n",
    "#     freqs = ff[:N // 2]\n",
    "\n",
    "    ## compute psd\n",
    "    freqs, signal_psd = welch(syn_noise, sps, return_onesided=False, nperseg=1e6, scaling=\"density\")\n",
    "    freqs = fftshift(freqs)\n",
    "    spectra.append(abs(fftshift(signal_psd)))  \n",
    "    "
   ]
  },
  {
   "cell_type": "code",
   "execution_count": null,
   "metadata": {
    "ExecuteTime": {
     "end_time": "2021-12-06T15:15:26.079493Z",
     "start_time": "2021-12-06T15:14:44.970Z"
    }
   },
   "outputs": [],
   "source": [
    "np.mean(abs(synthetic_signal)), np.mean(abs(random_noise))"
   ]
  },
  {
   "cell_type": "markdown",
   "metadata": {},
   "source": [
    "## Get Raw Signal for Comparison"
   ]
  },
  {
   "cell_type": "code",
   "execution_count": null,
   "metadata": {
    "ExecuteTime": {
     "end_time": "2021-12-06T15:15:26.080124Z",
     "start_time": "2021-12-06T15:14:44.976Z"
    }
   },
   "outputs": [],
   "source": [
    "try: \n",
    "    print(st0)\n",
    "except:\n",
    "    st0, inv = __querrySeismoData( \n",
    "                                seed_id='BW.DROMY..FJZ',\n",
    "                                starttime=tbeg,\n",
    "                                endtime=tend,\n",
    "                                where=\"george\",\n",
    "                                path=None,\n",
    "                                restitute=True,\n",
    "                                detail=None,\n",
    "                                 )\n",
    "\n",
    "    ## remove DC offset\n",
    "    st0.detrend('demean')\n",
    "\n",
    "## show data\n",
    "st0.plot();"
   ]
  },
  {
   "cell_type": "code",
   "execution_count": null,
   "metadata": {
    "ExecuteTime": {
     "end_time": "2021-12-06T15:15:26.080670Z",
     "start_time": "2021-12-06T15:14:44.978Z"
    }
   },
   "outputs": [],
   "source": [
    "## get data from stream\n",
    "rawtrace = st0[0].data\n",
    "\n",
    "rawtrace = __normalize(rawtrace)\n",
    "\n",
    "## generate a time axis for the model\n",
    "time_rawtrace = np.arange(rawtrace.size)/st0[0].stats.sampling_rate\n",
    "\n",
    "## get PSD\n",
    "raw_freqs, raw_psd = welch(rawtrace, st0[0].stats.sampling_rate, return_onesided=False, nperseg=1e6, scaling=\"density\")\n",
    "raw_freqs = fftshift(raw_freqs)\n",
    "raw_psd = abs(fftshift(raw_psd)) "
   ]
  },
  {
   "cell_type": "markdown",
   "metadata": {},
   "source": [
    "# Plot"
   ]
  },
  {
   "cell_type": "code",
   "execution_count": null,
   "metadata": {
    "ExecuteTime": {
     "end_time": "2021-12-06T15:15:26.081740Z",
     "start_time": "2021-12-06T15:14:44.987Z"
    },
    "code_folding": [
     0
    ]
   },
   "outputs": [],
   "source": [
    "def __makeplot_noiselevel(text=True):\n",
    "\n",
    "    fig, ax = plt.subplots(1, 1, figsize=(15,8))\n",
    "\n",
    "    font = 14\n",
    "\n",
    "    for ss, nl, sn in zip(spectra, noise_level, snr):\n",
    "        ax.plot(freqs, ss, zorder=2, label=f'{round(sn,2)} dB')\n",
    "        ax.set_yscale('log')\n",
    "\n",
    "    try:\n",
    "        ax.plot(raw_freqs, raw_psd, zorder=2, label='observed',color='k')\n",
    "    except Exception as e:\n",
    "        print(e)\n",
    "\n",
    "    if text:\n",
    "        max_y, max_x = max(raw_psd), abs(raw_freqs[np.argmax(raw_psd)])\n",
    "        print(f' x: {max_x} \\n y: {max_y}')\n",
    "        ax.annotate(f'(x: {round(max_x,2)} | y: {round(max_y,5)})', xy=(max_x, max_y), xytext=(max_x, max_y))\n",
    "\n",
    "    ax.legend(loc=\"upper right\")\n",
    "    ax.grid(color=\"grey\", ls=\"--\", zorder=0)\n",
    "\n",
    "    ax.set_xlim(sgnc-3.2, sgnc+3.2)\n",
    "    ax.set_ylim(1e-11, 1e2)\n",
    "\n",
    "    ax.set_xlabel(\"Frequency (Hz)\", fontsize=font)\n",
    "    ax.set_ylabel(r\"Power Spectral Density ($\\frac{rad^2}{s^2 Hz }$)\", fontsize=font)\n",
    "    \n",
    "    plt.show();\n",
    "    return fig\n",
    "\n",
    "__makeplot_noiselevel(text=False);"
   ]
  },
  {
   "cell_type": "markdown",
   "metadata": {},
   "source": [
    "## Write "
   ]
  },
  {
   "cell_type": "code",
   "execution_count": null,
   "metadata": {
    "ExecuteTime": {
     "end_time": "2021-12-06T15:15:26.082227Z",
     "start_time": "2021-12-06T15:14:44.993Z"
    }
   },
   "outputs": [],
   "source": [
    "# ## store synthetic trace\n",
    "# oname = \"realtrace\" \n",
    "# ofile = open(f\"/home/andbro/notebooks/Sagnac_processing/data/{oname}.syn\",\"wb\")\n",
    "# pickle.dump(synthetic_signal, ofile)\n",
    "# ofile.close()\n",
    "\n",
    "# ## store model trace\n",
    "# ofile = open(f\"/home/andbro/notebooks/Sagnac_processing/data/{oname}.mod\",\"wb\")\n",
    "# pickle.dump(modeltrace, ofile)\n",
    "# ofile.close()"
   ]
  },
  {
   "cell_type": "code",
   "execution_count": null,
   "metadata": {
    "ExecuteTime": {
     "end_time": "2021-12-06T15:15:26.082783Z",
     "start_time": "2021-12-06T15:14:45.000Z"
    }
   },
   "outputs": [],
   "source": [
    "syn_test = synthetic_signal[500*sps:501*sps]\n",
    "t_test = np.arange(len(syn_test))\n",
    "\n",
    "plt.plot(t_test, syn_test)"
   ]
  },
  {
   "cell_type": "code",
   "execution_count": null,
   "metadata": {
    "ExecuteTime": {
     "end_time": "2021-12-06T15:15:26.083448Z",
     "start_time": "2021-12-06T15:14:45.001Z"
    }
   },
   "outputs": [],
   "source": [
    "from PyEMD import EMD\n",
    "from PyEMD import EEMD\n",
    "from PyEMD import Visualisation\n",
    "\n",
    "# Assign EEMD to `eemd` variable\n",
    "eemd = EEMD(DTYPE=np.float16)\n",
    "\n",
    "# Say we want detect extrema using parabolic method\n",
    "emd = eemd.EMD\n",
    "emd.extrema_detection=\"parabol\"\n",
    "\n",
    "# Execute EEMD on S\n",
    "eIMFs = eemd.eemd(syn_test, t_test, max_imf=3)\n",
    "nIMFs = eIMFs.shape[0]\n",
    "\n",
    "# Initiate visualisation with emd instance\n",
    "vis = Visualisation(emd)\n",
    "\n",
    "\n",
    "imfs, res = emd.get_imfs_and_residue()\n",
    "\n",
    "# Create a plot with all IMFs and residue\n",
    "# vis.plot_imfs(imfs=imfs, residue=res, t=t_test, include_residue=True)\n",
    "\n",
    "# Create a plot with instantaneous frequency of all IMFs\n",
    "# vis.plot_instant_freq(t_test, imfs=imfs)\n",
    "\n",
    "# Show both plots\n",
    "vis.show()"
   ]
  },
  {
   "cell_type": "code",
   "execution_count": null,
   "metadata": {
    "ExecuteTime": {
     "end_time": "2021-11-12T15:04:07.086388Z",
     "start_time": "2021-11-12T15:04:07.076088Z"
    }
   },
   "outputs": [],
   "source": []
  },
  {
   "cell_type": "code",
   "execution_count": null,
   "metadata": {
    "ExecuteTime": {
     "end_time": "2021-12-06T15:15:26.084001Z",
     "start_time": "2021-12-06T15:14:45.005Z"
    }
   },
   "outputs": [],
   "source": [
    "\n",
    "\n",
    "import tftb\n",
    "\n",
    "from tftb.processing import WignerVilleDistribution\n",
    "\n",
    "wvd = WignerVilleDistribution(syn_test)\n",
    "wvd.run()\n",
    "wvd.plot(kind='contour', extent=[0, 128, 0.01, 600])"
   ]
  },
  {
   "cell_type": "code",
   "execution_count": null,
   "metadata": {
    "ExecuteTime": {
     "end_time": "2021-11-12T19:16:00.910967Z",
     "start_time": "2021-11-12T19:16:00.896429Z"
    }
   },
   "outputs": [],
   "source": []
  },
  {
   "cell_type": "code",
   "execution_count": null,
   "metadata": {},
   "outputs": [],
   "source": []
  }
 ],
 "metadata": {
  "kernelspec": {
   "display_name": "Python 3",
   "language": "python",
   "name": "python3"
  },
  "language_info": {
   "codemirror_mode": {
    "name": "ipython",
    "version": 3
   },
   "file_extension": ".py",
   "mimetype": "text/x-python",
   "name": "python",
   "nbconvert_exporter": "python",
   "pygments_lexer": "ipython3",
   "version": "3.7.8"
  }
 },
 "nbformat": 4,
 "nbformat_minor": 4
}
