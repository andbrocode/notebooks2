{
 "cells": [
  {
   "cell_type": "markdown",
   "metadata": {},
   "source": [
    "<div style='background-image: url(\"https://www.geophysik.uni-muenchen.de/ROMY/theme/images/ringlaser_wideformat.jpg\") ; padding: 0px ; background-size: cover ; border-radius: 15px ; height: 250px; background-position: 0% 80%'>\n",
    "    <div style=\"float: left ; margin: 50px ; padding: 20px ; background: rgba(255 , 255 , 255 , 0.9) ; width: 35% ; height: 150px\">\n",
    "        <div style=\"position: relative ; top: 50%;  transform: translatey(-50%)\">\n",
    "            <div style=\"font-size: xx-large ; font-weight: 900 ; color: rgba(0 , 0 , 0 , 0.9) ; line-height: 100%\"> <br>ROMY - <br><br>  Synthetic Sagnac Processing </div>\n",
    "            <div style=\"font-size: large ; padding-top: 20px ; color: rgba(0 , 0 , 0 , 0.7)\"></div>\n",
    "        </div>\n",
    "    </div>"
   ]
  },
  {
   "cell_type": "markdown",
   "metadata": {
    "ExecuteTime": {
     "end_time": "2021-01-29T15:14:27.795046Z",
     "start_time": "2021-01-29T15:14:27.791664Z"
    }
   },
   "source": [
    "## Import "
   ]
  },
  {
   "cell_type": "markdown",
   "metadata": {
    "ExecuteTime": {
     "end_time": "2021-01-29T15:15:30.279221Z",
     "start_time": "2021-01-29T15:15:30.275801Z"
    }
   },
   "source": [
    "### Official Libraries"
   ]
  },
  {
   "cell_type": "code",
   "execution_count": 1,
   "metadata": {
    "ExecuteTime": {
     "end_time": "2021-03-23T14:07:52.862167Z",
     "start_time": "2021-03-23T14:07:52.255413Z"
    }
   },
   "outputs": [],
   "source": [
    "import numpy as np \n",
    "import matplotlib.pyplot as plt \n",
    "import time\n",
    "import pickle\n",
    "\n",
    "from scipy.signal import resample, hilbert, correlate, decimate, butter, spectrogram, sosfilt, filtfilt, iirnotch\n",
    "from tqdm import tqdm\n",
    "from obspy import UTCDateTime, read, read_inventory, Trace\n",
    "import obspy"
   ]
  },
  {
   "cell_type": "markdown",
   "metadata": {},
   "source": [
    "### Own Processing Methods"
   ]
  },
  {
   "cell_type": "code",
   "execution_count": 2,
   "metadata": {
    "ExecuteTime": {
     "end_time": "2021-03-23T14:07:52.865668Z",
     "start_time": "2021-03-23T14:07:52.863499Z"
    }
   },
   "outputs": [],
   "source": [
    "import sys\n",
    "sys.path.insert(0, 'submodules')"
   ]
  },
  {
   "cell_type": "code",
   "execution_count": 3,
   "metadata": {
    "ExecuteTime": {
     "end_time": "2021-03-23T14:07:52.872535Z",
     "start_time": "2021-03-23T14:07:52.866835Z"
    }
   },
   "outputs": [],
   "source": [
    "from EchoPerformance import __echo_performance\n",
    "from CreateSyntheticEventV2 import __create_synthetic_event_v2\n",
    "from MinimizeResidual import __minimize_residual\n",
    "from CreateLinearChirp import __create_linear_chirp\n",
    "from Tapering import __tapering\n",
    "from InstaFreqHilbert import __insta_freq_hilbert\n",
    "from Normalize import __normalize\n",
    "from WriteToMseed import __write_to_mseed\n",
    "from LoadMseed import __load_mseed\n",
    "from Modulation import __modulation\n",
    "from QuerrySeismoData import __querry_seismo_data\n",
    "from RingLaser import RingLaser\n",
    "from datetime import datetime\n"
   ]
  },
  {
   "cell_type": "code",
   "execution_count": 4,
   "metadata": {
    "ExecuteTime": {
     "end_time": "2021-03-23T14:07:52.877400Z",
     "start_time": "2021-03-23T14:07:52.874417Z"
    },
    "code_folding": [
     0
    ]
   },
   "outputs": [],
   "source": [
    "# def third_order_derive(x, pos=\"MIDDLE\"):\n",
    "\n",
    "#     coeff = np.zeros((5,5))\n",
    "#     norm = np.array([0,0])\n",
    "#     sum = 0.\n",
    "\n",
    "#     norm[0] = 12.;\n",
    "#     norm[1] = 84.;\n",
    "\n",
    "#     coeff[0][0] = -125.;\n",
    "#     coeff[0][1] =  136.;\n",
    "#     coeff[0][2] =   48.;\n",
    "#     coeff[0][3] =  -88.;\n",
    "#     coeff[0][4] =   29.;\n",
    "#     coeff[1][0] =  -38.;\n",
    "#     coeff[1][1] =   -2.;\n",
    "#     coeff[1][2] =   24.;\n",
    "#     coeff[1][3] =   26.;\n",
    "#     coeff[1][4] =  -10.;\n",
    "#     coeff[2][0] =    1.;\n",
    "#     coeff[2][1] =   -8.;\n",
    "#     coeff[2][2] =    0.;\n",
    "#     coeff[2][3] =    8.;\n",
    "#     coeff[2][4] =   -1.;\n",
    "#     coeff[3][0] =   10.;\n",
    "#     coeff[3][1] =  -26.;\n",
    "#     coeff[3][2] =  -24.;\n",
    "#     coeff[3][3] =    2.;\n",
    "#     coeff[3][4] =   38.;\n",
    "#     coeff[4][0] =  -29.;\n",
    "#     coeff[4][1] =   88.;\n",
    "#     coeff[4][2] =  -48.;\n",
    "#     coeff[4][3] = -136.;\n",
    "#     coeff[4][4] =  125.;\n",
    "\n",
    "#     for i in range(0, 5):\n",
    "#         sum += coeff[pos][i]*x[i];\n",
    "    \n",
    "#     if pos == 'MIDDLE':\n",
    "#         sum /= norm[0];\n",
    "    \n",
    "#     else:\n",
    "#         sum /= norm[1];\n",
    "\n",
    "\n",
    "#     return sum"
   ]
  },
  {
   "cell_type": "code",
   "execution_count": 5,
   "metadata": {
    "ExecuteTime": {
     "end_time": "2021-03-23T14:07:52.882773Z",
     "start_time": "2021-03-23T14:07:52.879085Z"
    }
   },
   "outputs": [],
   "source": [
    "from RingLaser import RingLaser\n",
    "\n",
    "## define G-Ring\n",
    "G = RingLaser(side=4., form=\"square\", wl=632.8e-9, lat=49.16)\n",
    "\n",
    "## define ROMY Z-Ring\n",
    "ROMY_Z = RingLaser(side=11., form=\"triangle\", wl=632.8e-9, lat=49.16)\n"
   ]
  },
  {
   "cell_type": "markdown",
   "metadata": {},
   "source": [
    "### Own Plotting Methods"
   ]
  },
  {
   "cell_type": "code",
   "execution_count": 6,
   "metadata": {
    "ExecuteTime": {
     "end_time": "2021-03-23T14:07:52.888185Z",
     "start_time": "2021-03-23T14:07:52.884732Z"
    }
   },
   "outputs": [],
   "source": [
    "from MakeplotTraceAndSpectrum import __makeplot_trace_and_spectrum\n",
    "from MakeplotTraceAndPSD import __makeplot_trace_and_psd\n",
    "from MakeplotModulatedSignal import __makeplot_modulated_signal\n",
    "from MakeplotDemodulationQuality import __makeplot_demodulation_quality\n"
   ]
  },
  {
   "cell_type": "markdown",
   "metadata": {},
   "source": [
    "## Configurations"
   ]
  },
  {
   "cell_type": "code",
   "execution_count": 7,
   "metadata": {
    "ExecuteTime": {
     "end_time": "2021-03-23T14:07:52.893328Z",
     "start_time": "2021-03-23T14:07:52.889182Z"
    }
   },
   "outputs": [],
   "source": [
    "## define configuration class \n",
    "class configuration():\n",
    "\n",
    "    def __init__(self):\n",
    "        \n",
    "        self.T = None\n",
    "        self.sps = None\n",
    "        self.sgnc = None\n",
    "\n",
    "    def show(self):\n",
    "        print(self.T, self.sps, )\n",
    "\n",
    "        \n",
    "\n",
    "## initalize new object\n",
    "conf = configuration()\n",
    "\n",
    "\n",
    "\n",
    "\n"
   ]
  },
  {
   "cell_type": "code",
   "execution_count": 26,
   "metadata": {
    "ExecuteTime": {
     "end_time": "2021-03-23T14:10:27.945176Z",
     "start_time": "2021-03-23T14:10:27.937224Z"
    }
   },
   "outputs": [],
   "source": [
    "path2plots=\"/home/andbro/Documents/ROMY/SagnacProcessing/plots/V3/\"\n",
    "\n",
    "save = True\n",
    "\n",
    "\n",
    "conf.T = 1400\n",
    "\n",
    "conf.sps = 5000\n",
    "\n",
    "conf.sgnc = ROMY_Z.get_sagnac_frequency()\n",
    "\n",
    "\n",
    "# modulation_index = ROMY_Z.get_scale_factor()\n",
    "\n",
    "# modulation_scheme = 3\n",
    "\n",
    "\n",
    "conf.win_type = \"flanks\"\n",
    "conf.win_perc = 5\n",
    "\n",
    "\n",
    "conf.upsampling_factor = 2\n",
    "\n",
    "conf.sgnc_is = 553.35\n",
    "\n",
    "conf.f_lower_bp, f_upper_bp = conf.sgnc_is-5, conf.sgnc_is+5\n",
    "\n",
    "conf.f_upper_lp = 200\n",
    "\n",
    "conf.signal = 'real'  ## 'synthetic'  or 'real'\n",
    "\n",
    "\n",
    "conf.Twindow = 200 # seconds\n",
    "\n",
    "\n",
    "conf.taper = False\n",
    "\n",
    "conf.upsampling = False\n",
    "\n",
    "conf.bandpass_pre = True\n",
    "conf.lowpass_post = False\n",
    "\n",
    "conf.normalize = True\n",
    "conf.remove_median = True\n",
    "\n",
    "conf.bools = {'taper':conf.taper,'upsampling':conf.upsampling,'bandpass_pre':conf.bandpass_pre,\n",
    "         'lowpass_post':conf.lowpass_post, 'normalize':conf.normalize, 'remove_median':conf.remove_median}"
   ]
  },
  {
   "cell_type": "markdown",
   "metadata": {},
   "source": [
    "## Read synthetic"
   ]
  },
  {
   "cell_type": "code",
   "execution_count": 27,
   "metadata": {
    "ExecuteTime": {
     "end_time": "2021-03-23T14:10:28.983550Z",
     "start_time": "2021-03-23T14:10:28.978039Z"
    },
    "code_folding": [
     2
    ]
   },
   "outputs": [],
   "source": [
    "\n",
    "if conf.signal == 'synthetic':\n",
    "\n",
    "    name = 'eigenmodes'  # 'model_greece' (greece), 'model_lowperiod' (kermadec 0.001-0.1 Hz), 'car' (1.0-10.0 Hz), 'eigenmodes' (0.003-0.03 Hz)\n",
    "    \n",
    "    ifile = open(f'/home/andbro/notebooks/Sagnac_processing/data/{name}.syn',\"rb\")\n",
    "\n",
    "    synthetic_signal = pickle.load(ifile)\n",
    "    timeline = np.arange(0, T+1/sps, 1/sps)\n",
    "    \n",
    "    ifile = open(f'/home/andbro/notebooks/Sagnac_processing/data/{name}.mod',\"rb\")\n",
    "        \n",
    "    modeltrace = pickle.load(ifile)\n",
    "    time_modeltrace = np.arange(0, T+1/sps, 1/sps)\n",
    "    \n",
    "    synthetic_signal.size, timeline.size, modeltrace.size, time_modeltrace.size\n",
    "    "
   ]
  },
  {
   "cell_type": "markdown",
   "metadata": {},
   "source": [
    "## Read raw real"
   ]
  },
  {
   "cell_type": "code",
   "execution_count": 28,
   "metadata": {
    "ExecuteTime": {
     "end_time": "2021-03-23T14:10:29.470947Z",
     "start_time": "2021-03-23T14:10:29.465944Z"
    }
   },
   "outputs": [],
   "source": [
    "from andbro__querrySeismoData import __querrySeismoData\n",
    "\n",
    "## kermadec\n",
    "# tbeg = UTCDateTime(\"2021-03-04 18:45\")\n",
    "# tend = UTCDateTime(\"2021-03-04 18:45\")+conf.T\n",
    "\n",
    "## greece\n",
    "tbeg = UTCDateTime(\"2021-03-03 10:18\")\n",
    "tend = UTCDateTime(\"2021-03-03 10:18\")+conf.T\n"
   ]
  },
  {
   "cell_type": "markdown",
   "metadata": {},
   "source": [
    "#### real synthetic trace"
   ]
  },
  {
   "cell_type": "code",
   "execution_count": 29,
   "metadata": {
    "ExecuteTime": {
     "end_time": "2021-03-23T14:11:33.201495Z",
     "start_time": "2021-03-23T14:10:29.886691Z"
    },
    "code_folding": [
     0
    ]
   },
   "outputs": [
    {
     "ename": "NameError",
     "evalue": "name 'T' is not defined",
     "output_type": "error",
     "traceback": [
      "\u001b[0;31m---------------------------------------------------------------------------\u001b[0m",
      "\u001b[0;31mFileNotFoundError\u001b[0m                         Traceback (most recent call last)",
      "\u001b[0;32m<ipython-input-29-481d180c2d7a>\u001b[0m in \u001b[0;36m<module>\u001b[0;34m\u001b[0m\n\u001b[1;32m      8\u001b[0m     \u001b[0;32mtry\u001b[0m\u001b[0;34m:\u001b[0m\u001b[0;34m\u001b[0m\u001b[0;34m\u001b[0m\u001b[0m\n\u001b[0;32m----> 9\u001b[0;31m         \u001b[0mst\u001b[0m \u001b[0;34m=\u001b[0m \u001b[0mobspy\u001b[0m\u001b[0;34m.\u001b[0m\u001b[0mread\u001b[0m\u001b[0;34m(\u001b[0m\u001b[0;34mf\"/home/andbro/notebooks/Sagnac_processing/data/event_T{conf.T}.mseed\"\u001b[0m\u001b[0;34m)\u001b[0m\u001b[0;34m\u001b[0m\u001b[0;34m\u001b[0m\u001b[0m\n\u001b[0m\u001b[1;32m     10\u001b[0m \u001b[0;34m\u001b[0m\u001b[0m\n",
      "\u001b[0;32m<decorator-gen-147>\u001b[0m in \u001b[0;36mread\u001b[0;34m(pathname_or_url, format, headonly, starttime, endtime, nearest_sample, dtype, apply_calib, check_compression, **kwargs)\u001b[0m\n",
      "\u001b[0;32m~/anaconda3/envs/obs/lib/python3.7/site-packages/obspy/core/util/decorator.py\u001b[0m in \u001b[0;36m_map_example_filename\u001b[0;34m(func, *args, **kwargs)\u001b[0m\n\u001b[1;32m    299\u001b[0m                             \u001b[0;32mpass\u001b[0m\u001b[0;34m\u001b[0m\u001b[0;34m\u001b[0m\u001b[0m\n\u001b[0;32m--> 300\u001b[0;31m         \u001b[0;32mreturn\u001b[0m \u001b[0mfunc\u001b[0m\u001b[0;34m(\u001b[0m\u001b[0;34m*\u001b[0m\u001b[0margs\u001b[0m\u001b[0;34m,\u001b[0m \u001b[0;34m**\u001b[0m\u001b[0mkwargs\u001b[0m\u001b[0;34m)\u001b[0m\u001b[0;34m\u001b[0m\u001b[0;34m\u001b[0m\u001b[0m\n\u001b[0m\u001b[1;32m    301\u001b[0m     \u001b[0;32mreturn\u001b[0m \u001b[0m_map_example_filename\u001b[0m\u001b[0;34m\u001b[0m\u001b[0;34m\u001b[0m\u001b[0m\n",
      "\u001b[0;32m~/anaconda3/envs/obs/lib/python3.7/site-packages/obspy/core/stream.py\u001b[0m in \u001b[0;36mread\u001b[0;34m(pathname_or_url, format, headonly, starttime, endtime, nearest_sample, dtype, apply_calib, check_compression, **kwargs)\u001b[0m\n\u001b[1;32m    211\u001b[0m     \u001b[0;32melse\u001b[0m\u001b[0;34m:\u001b[0m\u001b[0;34m\u001b[0m\u001b[0;34m\u001b[0m\u001b[0m\n\u001b[0;32m--> 212\u001b[0;31m         \u001b[0mst\u001b[0m \u001b[0;34m=\u001b[0m \u001b[0m_generic_reader\u001b[0m\u001b[0;34m(\u001b[0m\u001b[0mpathname_or_url\u001b[0m\u001b[0;34m,\u001b[0m \u001b[0m_read\u001b[0m\u001b[0;34m,\u001b[0m \u001b[0;34m**\u001b[0m\u001b[0mkwargs\u001b[0m\u001b[0;34m)\u001b[0m\u001b[0;34m\u001b[0m\u001b[0;34m\u001b[0m\u001b[0m\n\u001b[0m\u001b[1;32m    213\u001b[0m \u001b[0;34m\u001b[0m\u001b[0m\n",
      "\u001b[0;32m~/anaconda3/envs/obs/lib/python3.7/site-packages/obspy/core/util/base.py\u001b[0m in \u001b[0;36m_generic_reader\u001b[0;34m(pathname_or_url, callback_func, **kwargs)\u001b[0m\n\u001b[1;32m    699\u001b[0m             \u001b[0;32melif\u001b[0m \u001b[0;32mnot\u001b[0m \u001b[0mglob\u001b[0m\u001b[0;34m.\u001b[0m\u001b[0mhas_magic\u001b[0m\u001b[0;34m(\u001b[0m\u001b[0mpathname\u001b[0m\u001b[0;34m)\u001b[0m \u001b[0;32mand\u001b[0m \u001b[0;32mnot\u001b[0m \u001b[0mos\u001b[0m\u001b[0;34m.\u001b[0m\u001b[0mpath\u001b[0m\u001b[0;34m.\u001b[0m\u001b[0misfile\u001b[0m\u001b[0;34m(\u001b[0m\u001b[0mpathname\u001b[0m\u001b[0;34m)\u001b[0m\u001b[0;34m:\u001b[0m\u001b[0;34m\u001b[0m\u001b[0;34m\u001b[0m\u001b[0m\n\u001b[0;32m--> 700\u001b[0;31m                 \u001b[0;32mraise\u001b[0m \u001b[0mIOError\u001b[0m\u001b[0;34m(\u001b[0m\u001b[0;36m2\u001b[0m\u001b[0;34m,\u001b[0m \u001b[0;34m\"No such file or directory\"\u001b[0m\u001b[0;34m,\u001b[0m \u001b[0mpathname\u001b[0m\u001b[0;34m)\u001b[0m\u001b[0;34m\u001b[0m\u001b[0;34m\u001b[0m\u001b[0m\n\u001b[0m\u001b[1;32m    701\u001b[0m \u001b[0;34m\u001b[0m\u001b[0m\n",
      "\u001b[0;31mFileNotFoundError\u001b[0m: [Errno 2] No such file or directory: '/home/andbro/notebooks/Sagnac_processing/data/event_T1400.mseed'",
      "\nDuring handling of the above exception, another exception occurred:\n",
      "\u001b[0;31mNameError\u001b[0m                                 Traceback (most recent call last)",
      "\u001b[0;32m<ipython-input-29-481d180c2d7a>\u001b[0m in \u001b[0;36m<module>\u001b[0;34m\u001b[0m\n\u001b[1;32m     20\u001b[0m                                     )\n\u001b[1;32m     21\u001b[0m \u001b[0;34m\u001b[0m\u001b[0m\n\u001b[0;32m---> 22\u001b[0;31m         \u001b[0mst\u001b[0m\u001b[0;34m.\u001b[0m\u001b[0mwrite\u001b[0m\u001b[0;34m(\u001b[0m\u001b[0;34mf\"/home/andbro/notebooks/Sagnac_processing/data/event_T{T}.mseed\"\u001b[0m\u001b[0;34m,\u001b[0m \u001b[0mformat\u001b[0m\u001b[0;34m=\u001b[0m\u001b[0;34m\"MSEED\"\u001b[0m\u001b[0;34m)\u001b[0m\u001b[0;34m\u001b[0m\u001b[0;34m\u001b[0m\u001b[0m\n\u001b[0m\u001b[1;32m     23\u001b[0m \u001b[0;34m\u001b[0m\u001b[0m\n\u001b[1;32m     24\u001b[0m \u001b[0;34m\u001b[0m\u001b[0m\n",
      "\u001b[0;31mNameError\u001b[0m: name 'T' is not defined"
     ]
    }
   ],
   "source": [
    "if conf.signal == 'real':\n",
    "    \n",
    "    # st = read('/home/andbro/Documents/ROMY/data/BW.DROMY..FJZ.D.2021.049', \n",
    "    #          starttime=UTCDateTime(\"2021-02-18 15:00\"),\n",
    "    #          endtime=UTCDateTime(\"2021-02-18 15:00\")+T,\n",
    "    #          )\n",
    "    \n",
    "    try:\n",
    "        st = obspy.read(f\"/home/andbro/notebooks/Sagnac_processing/data/event_T{conf.T}.mseed\")\n",
    "\n",
    "    except:\n",
    "        st, inv = __querrySeismoData(\n",
    "                                    seed_id='BW.DROMY..FJZ',\n",
    "                                    starttime=tbeg,\n",
    "                                    endtime=tend,\n",
    "                                    where=\"george\",\n",
    "                                    path=None,\n",
    "                                    restitute=True,\n",
    "                                    detail=None,\n",
    "                                    )\n",
    "\n",
    "        st.write(f\"/home/andbro/notebooks/Sagnac_processing/data/event_T{T}.mseed\", format=\"MSEED\")\n",
    "\n",
    "\n",
    "    tbeg_new = st[0].stats.starttime\n",
    "    tend_new = st[0].stats.endtime\n",
    "    print(st)\n",
    "\n",
    "    ## define synthetic signal\n",
    "    synthetic_signal = st[0].data; del st\n",
    "\n",
    "    ## normalized signal\n",
    "    synthetic_signal = __normalize(synthetic_signal)\n",
    "    \n",
    "    ## define time axis for synthetic axis\n",
    "    timeline = np.linspace(0, conf.T, len(synthetic_signal))\n"
   ]
  },
  {
   "cell_type": "markdown",
   "metadata": {},
   "source": [
    "#### real model trace "
   ]
  },
  {
   "cell_type": "code",
   "execution_count": null,
   "metadata": {
    "ExecuteTime": {
     "end_time": "2021-03-23T14:11:33.203398Z",
     "start_time": "2021-03-23T14:10:30.256Z"
    },
    "code_folding": []
   },
   "outputs": [],
   "source": [
    "if conf.signal == 'real':\n",
    "    \n",
    "    # trace = read('/home/andbro/Documents/ROMY/data/ROMY_BJZ_2021-02-18.mseed',\n",
    "    #             starttime= UTCDateTime(\"2021-02-18 14:59\"), \n",
    "    #             endtime=UTCDateTime(\"2021-02-18 15:00\")+T+1\n",
    "    #             )\n",
    "    try:\n",
    "        trace, inv = __querrySeismoData(    \n",
    "                                        seed_id='BW.ROMY.10.BJZ',\n",
    "                                        starttime=tbeg-1,\n",
    "                                        endtime=tend+1,\n",
    "                                        where=\"george\",\n",
    "                                        path=None,\n",
    "                                        restitute=True,\n",
    "                                        detail=None,\n",
    "                                        )\n",
    "    except:\n",
    "        print('could not load data')\n",
    "        \n",
    "    ## resample to sps and remove mean\n",
    "    trace.detrend('demean')\n",
    "    trace.resample(conf.sps)\n",
    "\n",
    "    ## adjust length to match signal\n",
    "#     trace.trim(starttime=tbeg, endtime=tend+T)\n",
    "    trace.trim(starttime=tbeg_new, endtime=tend_new)\n",
    "    print(trace)\n",
    "\n",
    "    ## define model trace\n",
    "    modeltrace = trace[0].data; del trace\n",
    "\n",
    "    ## define time axis for model trace\n",
    "    time_modeltrace = np.linspace(0, conf.T, len(modeltrace))\n",
    "   "
   ]
  },
  {
   "cell_type": "code",
   "execution_count": null,
   "metadata": {
    "ExecuteTime": {
     "end_time": "2021-03-23T14:11:33.204152Z",
     "start_time": "2021-03-23T14:10:30.448Z"
    }
   },
   "outputs": [],
   "source": [
    "__makeplot_trace_and_spectrum(modeltrace, time_modeltrace, fmax=5); "
   ]
  },
  {
   "cell_type": "markdown",
   "metadata": {},
   "source": [
    "## Tests"
   ]
  },
  {
   "cell_type": "markdown",
   "metadata": {},
   "source": [
    "### Bandpass Test"
   ]
  },
  {
   "cell_type": "code",
   "execution_count": null,
   "metadata": {
    "ExecuteTime": {
     "end_time": "2021-03-22T21:55:33.917331Z",
     "start_time": "2021-03-22T21:42:28.664195Z"
    },
    "code_folding": []
   },
   "outputs": [],
   "source": [
    "from RunSagnacProcessing_V3 import __run_sagnac_processing\n",
    "\n",
    "outs, half_bands = [], []\n",
    "for half_band in range(1,50,1):\n",
    "    \n",
    "    conf.f_lower_bp, conf.f_upper_bp = conf.sgnc_is-half_band, conf.sgnc_is+half_band\n",
    "    print(half_band)\n",
    "    \n",
    "    out = __run_sagnac_processing(\n",
    "                                conf.sgnc, \n",
    "                                conf.T, \n",
    "                                conf.sps, \n",
    "                                conf.upsampling_factor, \n",
    "                                conf.f_lower_bp, \n",
    "                                conf.f_upper_bp, \n",
    "                                conf.signal,\n",
    "                                conf.Twindow,\n",
    "                                conf.win_type, \n",
    "                                conf.win_perc,\n",
    "                                conf.f_upper_lp,\n",
    "                                modeltrace,\n",
    "                                time_modeltrace,\n",
    "                                timeline,\n",
    "                                synthetic_signal,\n",
    "                                conf.bools,\n",
    "                                show=False\n",
    "                               )\n",
    "    outs.append(out)\n",
    "    half_bands.append(half_band)\n",
    "    \n",
    "    del out\n",
    "    "
   ]
  },
  {
   "cell_type": "code",
   "execution_count": null,
   "metadata": {
    "ExecuteTime": {
     "end_time": "2021-03-22T21:55:34.914031Z",
     "start_time": "2021-03-22T21:55:33.918658Z"
    }
   },
   "outputs": [],
   "source": [
    "# half_bands = range(1,25,1)\n",
    "vals = np.array(np.transpose(outs))\n",
    "bands = np.array(half_bands)*2\n",
    "\n",
    "## _______________________________________________________________\n",
    "\n",
    "fig, ax = plt.subplots(4, 1, figsize=(15, 10), sharex=True)\n",
    "\n",
    "font = 14\n",
    "\n",
    "\n",
    "for i in range(len(vals)):\n",
    "    ax[i].plot(bands, vals[i], zorder=1, color='grey')\n",
    "    ax[i].scatter(bands, vals[i], zorder=2, color='k')\n",
    "\n",
    "    ax[i].grid(zorder=0, ls='--')\n",
    "\n",
    "ax[0].set_ylabel(\"lag at max. CC (s)\", fontsize=font)\n",
    "ax[1].set_ylabel(\"rmse trace\", fontsize=font)\n",
    "ax[2].set_ylabel(\"rmse ASD\", fontsize=font)\n",
    "ax[3].set_ylabel(\"rmse phase\", fontsize=font)\n",
    "\n",
    "ax[3].set_xlabel(f\"frequency band width (Hz) - centered around Sagnac: {round(conf.sgnc,2)} Hz\", fontsize=font)\n",
    "\n",
    "# ax[0].set_title(f\"DC Offset Beam 1 and 2 (median = {round(med,2)} V)\", fontsize=font+2)\n",
    "\n",
    "\n",
    "if save:\n",
    "    datestamp = datetime.now().strftime(\"%Y%m%d_%H%M%S\")\n",
    "    \n",
    "    ## save plot\n",
    "    fig.savefig(path2plots+f\"plot__{datestamp}_bandwidth_test_50Hz\"+\".png\", \n",
    "                dpi=300, facecolor='w', edgecolor='w',\n",
    "                orientation='portrait', format=\"png\",\n",
    "                transparent=False, bbox_inches=\"tight\", pad_inches=0.2,\n",
    "               )\n",
    "    \n",
    "\n",
    "    ## save configurations\n",
    "    oconfig = f'{path2plots}parameters_{datestamp}.config'\n",
    "\n",
    "    picklefile = open(oconfig, \"wb\")\n",
    "    \n",
    "    pickle.dump(conf, picklefile); picklefile.close()\n",
    "    \n",
    "    \n",
    "    ## save output as object\n",
    "    odata = f'{path2plots}output_{datestamp}.data'\n",
    "\n",
    "    picklefile = open(odata, \"wb\")\n",
    "    \n",
    "    pickle.dump(outs, picklefile); picklefile.close()"
   ]
  },
  {
   "cell_type": "markdown",
   "metadata": {},
   "source": [
    "### Window Test"
   ]
  },
  {
   "cell_type": "code",
   "execution_count": null,
   "metadata": {
    "ExecuteTime": {
     "end_time": "2021-03-23T14:00:16.066833Z",
     "start_time": "2021-03-23T13:59:27.408Z"
    }
   },
   "outputs": [],
   "source": [
    "from RunSagnacProcessing_V3 import __run_sagnac_processing\n",
    "\n",
    "outs, wins = [], []\n",
    "for win in range(100,1000,100):\n",
    "    \n",
    "    conf.Twindow = win \n",
    "    \n",
    "    print(win)\n",
    "    \n",
    "    out = __run_sagnac_processing(\n",
    "                                conf.sgnc, \n",
    "                                conf.T, \n",
    "                                conf.sps, \n",
    "                                conf.upsampling_factor, \n",
    "                                conf.f_lower_bp, \n",
    "                                conf.f_upper_bp, \n",
    "                                conf.signal,\n",
    "                                conf.Twindow,\n",
    "                                conf.win_type, \n",
    "                                conf.win_perc,\n",
    "                                conf.f_upper_lp,\n",
    "                                modeltrace,\n",
    "                                time_modeltrace,\n",
    "                                timeline,\n",
    "                                synthetic_signal,\n",
    "                                conf.bools,\n",
    "                                show=False\n",
    "                               )\n",
    "    outs.append(out)\n",
    "    wins.append(win)\n",
    "    \n",
    "    del out\n",
    "    "
   ]
  },
  {
   "cell_type": "code",
   "execution_count": null,
   "metadata": {
    "ExecuteTime": {
     "end_time": "2021-03-23T14:00:16.068192Z",
     "start_time": "2021-03-23T13:59:27.824Z"
    }
   },
   "outputs": [],
   "source": [
    "vals = np.array(np.transpose(outs))\n",
    "\n",
    "\n",
    "\n",
    "## _______________________________________________________________\n",
    "\n",
    "fig, ax = plt.subplots(4, 1, figsize=(15, 10), sharex=True)\n",
    "\n",
    "font = 14\n",
    "\n",
    "\n",
    "for i in range(len(vals)):\n",
    "    ax[i].plot(wins, vals[i], zorder=1, color='grey')\n",
    "    ax[i].scatter(wins, vals[i], zorder=2, color='k')\n",
    "\n",
    "    ax[i].grid(zorder=0, ls='--')\n",
    "\n",
    "ax[0].set_ylabel(\"lag at max. CC (s)\", fontsize=font)\n",
    "ax[1].set_ylabel(\"rmse trace\", fontsize=font)\n",
    "ax[2].set_ylabel(\"rmse ASD\", fontsize=font)\n",
    "ax[3].set_ylabel(\"rmse phase\", fontsize=font)\n",
    "\n",
    "ax[3].set_xlabel(f\"window length (s)\", fontsize=font)\n",
    "\n",
    "# ax[0].set_title(f\"DC Offset Beam 1 and 2 (median = {round(med,2)} V)\", fontsize=font+2)\n",
    "\n",
    "\n",
    "if save:\n",
    "    datestamp = datetime.now().strftime(\"%Y%m%d_%H%M%S\")\n",
    "    \n",
    "    ## save plot\n",
    "    fig.savefig(path2plots+f\"plot__{datestamp}_wind_test_100-900\"+\".png\", \n",
    "                dpi=300, facecolor='w', edgecolor='w',\n",
    "                orientation='portrait', format=\"png\",\n",
    "                transparent=False, bbox_inches=\"tight\", pad_inches=0.2,\n",
    "               )\n",
    "    \n",
    "\n",
    "    ## save configurations\n",
    "    oconfig = f'{path2plots}parameters_{datestamp}.config'\n",
    "\n",
    "    picklefile = open(oconfig, \"wb\")\n",
    "    \n",
    "    pickle.dump(conf, picklefile); picklefile.close()\n",
    "    \n",
    "    \n",
    "    ## save output as object\n",
    "    odata = f'{path2plots}output_{datestamp}.data'\n",
    "\n",
    "    picklefile = open(odata, \"wb\")\n",
    "    \n",
    "    pickle.dump(outs, picklefile); picklefile.close()"
   ]
  },
  {
   "cell_type": "code",
   "execution_count": null,
   "metadata": {},
   "outputs": [],
   "source": []
  }
 ],
 "metadata": {
  "kernelspec": {
   "display_name": "Python 3",
   "language": "python",
   "name": "python3"
  },
  "language_info": {
   "codemirror_mode": {
    "name": "ipython",
    "version": 3
   },
   "file_extension": ".py",
   "mimetype": "text/x-python",
   "name": "python",
   "nbconvert_exporter": "python",
   "pygments_lexer": "ipython3",
   "version": "3.7.8"
  }
 },
 "nbformat": 4,
 "nbformat_minor": 4
}
