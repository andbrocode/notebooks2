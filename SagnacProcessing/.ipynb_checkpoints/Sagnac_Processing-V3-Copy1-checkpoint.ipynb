{
 "cells": [
  {
   "cell_type": "markdown",
   "metadata": {},
   "source": [
    "<div style='background-image: url(\"https://www.geophysik.uni-muenchen.de/ROMY/theme/images/ringlaser_wideformat.jpg\") ; padding: 0px ; background-size: cover ; border-radius: 15px ; height: 250px; background-position: 0% 80%'>\n",
    "    <div style=\"float: left ; margin: 50px ; padding: 20px ; background: rgba(255 , 255 , 255 , 0.9) ; width: 35% ; height: 150px\">\n",
    "        <div style=\"position: relative ; top: 50%;  transform: translatey(-50%)\">\n",
    "            <div style=\"font-size: xx-large ; font-weight: 900 ; color: rgba(0 , 0 , 0 , 0.9) ; line-height: 100%\"> <br>ROMY - <br><br>  Synthetic Sagnac Processing </div>\n",
    "            <div style=\"font-size: large ; padding-top: 20px ; color: rgba(0 , 0 , 0 , 0.7)\"></div>\n",
    "        </div>\n",
    "    </div>"
   ]
  },
  {
   "cell_type": "markdown",
   "metadata": {
    "ExecuteTime": {
     "end_time": "2021-01-29T15:14:27.795046Z",
     "start_time": "2021-01-29T15:14:27.791664Z"
    }
   },
   "source": [
    "## Import "
   ]
  },
  {
   "cell_type": "markdown",
   "metadata": {
    "ExecuteTime": {
     "end_time": "2021-01-29T15:15:30.279221Z",
     "start_time": "2021-01-29T15:15:30.275801Z"
    }
   },
   "source": [
    "### Official Libraries"
   ]
  },
  {
   "cell_type": "code",
   "execution_count": null,
   "metadata": {
    "ExecuteTime": {
     "end_time": "2021-11-10T13:05:07.316242Z",
     "start_time": "2021-11-10T13:05:06.676686Z"
    }
   },
   "outputs": [],
   "source": [
    "import numpy as np \n",
    "import matplotlib.pyplot as plt \n",
    "import time\n",
    "\n",
    "from scipy.signal import resample, hilbert, correlate, decimate, butter, spectrogram, sosfilt, filtfilt, iirnotch\n",
    "from tqdm import tqdm\n",
    "from obspy import UTCDateTime, read, read_inventory, Trace\n",
    "import obspy"
   ]
  },
  {
   "cell_type": "markdown",
   "metadata": {},
   "source": [
    "### Own Processing Methods"
   ]
  },
  {
   "cell_type": "code",
   "execution_count": null,
   "metadata": {
    "ExecuteTime": {
     "end_time": "2021-11-10T13:05:07.796534Z",
     "start_time": "2021-11-10T13:05:07.792792Z"
    }
   },
   "outputs": [],
   "source": [
    "import sys\n",
    "sys.path.insert(0, 'submodules')"
   ]
  },
  {
   "cell_type": "code",
   "execution_count": null,
   "metadata": {
    "ExecuteTime": {
     "end_time": "2021-11-10T13:05:08.108024Z",
     "start_time": "2021-11-10T13:05:08.097041Z"
    }
   },
   "outputs": [],
   "source": [
    "from EchoPerformance import __echo_performance\n",
    "from CreateSyntheticEventV2 import __create_synthetic_event_v2\n",
    "from MakeplotDemodulationQuality import __makeplot_demodulation_quality\n",
    "from MinimizeResidual import __minimize_residual\n",
    "from CreateLinearChirp import __create_linear_chirp\n",
    "from Tapering import __tapering\n",
    "from InstaFreqHilbert import __insta_freq_hilbert\n",
    "from Normalize import __normalize\n",
    "from WriteToMseed import __write_to_mseed\n",
    "from LoadMseed import __load_mseed\n",
    "from Modulation import __modulation\n",
    "from QuerrySeismoData import __querry_seismo_data\n",
    "from RingLaser import RingLaser\n"
   ]
  },
  {
   "cell_type": "code",
   "execution_count": null,
   "metadata": {
    "ExecuteTime": {
     "end_time": "2021-11-10T13:05:09.446203Z",
     "start_time": "2021-11-10T13:05:09.441980Z"
    },
    "code_folding": [
     0
    ]
   },
   "outputs": [],
   "source": [
    "# def third_order_derive(x, pos=\"MIDDLE\"):\n",
    "\n",
    "#     coeff = np.zeros((5,5))\n",
    "#     norm = np.array([0,0])\n",
    "#     sum = 0.\n",
    "\n",
    "#     norm[0] = 12.;\n",
    "#     norm[1] = 84.;\n",
    "\n",
    "#     coeff[0][0] = -125.;\n",
    "#     coeff[0][1] =  136.;\n",
    "#     coeff[0][2] =   48.;\n",
    "#     coeff[0][3] =  -88.;\n",
    "#     coeff[0][4] =   29.;\n",
    "#     coeff[1][0] =  -38.;\n",
    "#     coeff[1][1] =   -2.;\n",
    "#     coeff[1][2] =   24.;\n",
    "#     coeff[1][3] =   26.;\n",
    "#     coeff[1][4] =  -10.;\n",
    "#     coeff[2][0] =    1.;\n",
    "#     coeff[2][1] =   -8.;\n",
    "#     coeff[2][2] =    0.;\n",
    "#     coeff[2][3] =    8.;\n",
    "#     coeff[2][4] =   -1.;\n",
    "#     coeff[3][0] =   10.;\n",
    "#     coeff[3][1] =  -26.;\n",
    "#     coeff[3][2] =  -24.;\n",
    "#     coeff[3][3] =    2.;\n",
    "#     coeff[3][4] =   38.;\n",
    "#     coeff[4][0] =  -29.;\n",
    "#     coeff[4][1] =   88.;\n",
    "#     coeff[4][2] =  -48.;\n",
    "#     coeff[4][3] = -136.;\n",
    "#     coeff[4][4] =  125.;\n",
    "\n",
    "#     for i in range(0, 5):\n",
    "#         sum += coeff[pos][i]*x[i];\n",
    "    \n",
    "#     if pos == 'MIDDLE':\n",
    "#         sum /= norm[0];\n",
    "    \n",
    "#     else:\n",
    "#         sum /= norm[1];\n",
    "\n",
    "\n",
    "#     return sum"
   ]
  },
  {
   "cell_type": "code",
   "execution_count": null,
   "metadata": {
    "ExecuteTime": {
     "end_time": "2021-11-10T13:05:09.814403Z",
     "start_time": "2021-11-10T13:05:09.810459Z"
    }
   },
   "outputs": [],
   "source": [
    "from RingLaser import RingLaser\n",
    "\n",
    "## define G-Ring\n",
    "G = RingLaser(side=4., form=\"square\", wl=632.8e-9, lat=49.16)\n",
    "\n",
    "## define ROMY Z-Ring\n",
    "ROMY_Z = RingLaser(side=11., form=\"triangle\", wl=632.8e-9, lat=49.16)\n"
   ]
  },
  {
   "cell_type": "markdown",
   "metadata": {},
   "source": [
    "### Own Plotting Methods"
   ]
  },
  {
   "cell_type": "code",
   "execution_count": null,
   "metadata": {
    "ExecuteTime": {
     "end_time": "2021-11-10T13:05:22.850888Z",
     "start_time": "2021-11-10T13:05:22.846939Z"
    }
   },
   "outputs": [],
   "source": [
    "from MakeplotTraceAndSpectrum import __makeplot_trace_and_spectrum\n",
    "from MakeplotTraceAndPSD import __makeplot_trace_and_psd\n",
    "from MakeplotModulatedSignal import __makeplot_modulated_signal"
   ]
  },
  {
   "cell_type": "markdown",
   "metadata": {},
   "source": [
    "## Configurations"
   ]
  },
  {
   "cell_type": "code",
   "execution_count": null,
   "metadata": {
    "ExecuteTime": {
     "end_time": "2021-11-10T13:05:35.295784Z",
     "start_time": "2021-11-10T13:05:35.290153Z"
    }
   },
   "outputs": [],
   "source": [
    "\n",
    "T = 1000\n",
    "\n",
    "sps = 5000\n",
    "\n",
    "sgnc = ROMY_Z.get_sagnac_frequency()\n",
    "\n",
    "\n",
    "modulation_index = ROMY_Z.get_scale_factor()\n",
    "\n",
    "modulation_scheme = 3\n",
    "\n",
    "\n",
    "taper_type = \"window\"\n",
    "taper_percent = 0.2\n",
    "\n",
    "\n",
    "upsampling_factor = 2\n",
    "\n",
    "\n",
    "f_lower_bp, f_upper_bp = sgnc-15, sgnc+15\n",
    "\n",
    "\n",
    "signal = 'real'  ## 'synthetic'  or 'real'\n",
    "\n",
    "\n",
    "Twindow = 200 # seconds\n",
    "\n",
    "upsampling = False\n",
    "\n",
    "bandpass_pre = True\n",
    "lowpass_post = True\n",
    "\n",
    "normalize = False\n",
    "remove_median = True\n"
   ]
  },
  {
   "cell_type": "markdown",
   "metadata": {},
   "source": [
    "## Read synthetic"
   ]
  },
  {
   "cell_type": "code",
   "execution_count": null,
   "metadata": {
    "ExecuteTime": {
     "end_time": "2021-11-10T13:05:43.527680Z",
     "start_time": "2021-11-10T13:05:43.521601Z"
    },
    "code_folding": []
   },
   "outputs": [],
   "source": [
    "import pickle\n",
    "\n",
    "if signal == 'synthetic':\n",
    "\n",
    "    name = 'eigenmodes'  # 'model_greece' (greece), 'model_lowperiod' (kermadec 0.001-0.1 Hz), 'car' (1.0-10.0 Hz), 'eigenmodes' (0.003-0.03 Hz)\n",
    "    \n",
    "    ifile = open(f'/home/andbro/notebooks/Sagnac_processing/data/{name}.syn',\"rb\")\n",
    "\n",
    "    synthetic_signal = pickle.load(ifile)\n",
    "    timeline = np.arange(0, T+1/sps, 1/sps)\n",
    "    \n",
    "    ifile = open(f'/home/andbro/notebooks/Sagnac_processing/data/{name}.mod',\"rb\")\n",
    "        \n",
    "    modeltrace = pickle.load(ifile)\n",
    "    time_modeltrace = np.arange(0, T+1/sps, 1/sps)\n",
    "    \n",
    "    synthetic_signal.size, timeline.size, modeltrace.size, time_modeltrace.size"
   ]
  },
  {
   "cell_type": "markdown",
   "metadata": {},
   "source": [
    "## Read raw real"
   ]
  },
  {
   "cell_type": "code",
   "execution_count": null,
   "metadata": {
    "ExecuteTime": {
     "end_time": "2021-11-10T13:05:45.028527Z",
     "start_time": "2021-11-10T13:05:45.023573Z"
    }
   },
   "outputs": [],
   "source": [
    "from andbro__querrySeismoData import __querrySeismoData\n",
    "\n",
    "## kermadec\n",
    "# tbeg = UTCDateTime(\"2021-03-04 18:45\")\n",
    "# tend = UTCDateTime(\"2021-03-04 18:45\")+T\n",
    "\n",
    "## greece\n",
    "tbeg = UTCDateTime(\"2021-03-03 10:18\")\n",
    "tend = UTCDateTime(\"2021-03-03 10:18\")+T\n"
   ]
  },
  {
   "cell_type": "code",
   "execution_count": null,
   "metadata": {
    "ExecuteTime": {
     "end_time": "2021-11-10T13:05:46.694099Z",
     "start_time": "2021-11-10T13:05:46.033406Z"
    },
    "code_folding": [
     0
    ]
   },
   "outputs": [],
   "source": [
    "if signal == 'real':\n",
    "    \n",
    "    # st = read('/home/andbro/Documents/ROMY/data/BW.DROMY..FJZ.D.2021.049', \n",
    "    #          starttime=UTCDateTime(\"2021-02-18 15:00\"),\n",
    "    #          endtime=UTCDateTime(\"2021-02-18 15:00\")+T,\n",
    "    #          )\n",
    "\n",
    "    st = obspy.read(f\"/home/andbro/notebooks/Sagnac_processing/data/event_T{T}.mseed\")\n",
    "\n",
    "#     st, inv = __querrySeismoData(    \n",
    "#                                 seed_id='BW.DROMY..FJZ',\n",
    "#                                 starttime=tbeg,\n",
    "#                                 endtime=tend,\n",
    "#                                 where=\"george\",\n",
    "#                                 path=None,\n",
    "#                                 restitute=True,\n",
    "#                                 detail=None,\n",
    "#                                 )\n",
    "\n",
    "#     st.write(f\"/home/andbro/notebooks/Sagnac_processing/data/event_T{T}.mseed\", format=\"MSEED\")\n",
    "\n",
    "    print(st)\n",
    "    # st.taper(0.01)\n",
    "\n",
    "    ## define synthetic signal\n",
    "    synthetic_signal = st[0].data; del st\n",
    "\n",
    "    ## normalized signal\n",
    "    synthetic_signal = __normalize(synthetic_signal)\n",
    "    \n",
    "    ## define time axis for synthetic axis\n",
    "    timeline = np.linspace(0, T, len(synthetic_signal))\n"
   ]
  },
  {
   "cell_type": "code",
   "execution_count": null,
   "metadata": {
    "ExecuteTime": {
     "end_time": "2021-11-10T13:05:51.939176Z",
     "start_time": "2021-11-10T13:05:46.695325Z"
    },
    "code_folding": [
     0
    ]
   },
   "outputs": [],
   "source": [
    "if signal == 'real':\n",
    "    \n",
    "    # trace = read('/home/andbro/Documents/ROMY/data/ROMY_BJZ_2021-02-18.mseed',\n",
    "    #             starttime= UTCDateTime(\"2021-02-18 14:59\"), \n",
    "    #             endtime=UTCDateTime(\"2021-02-18 15:00\")+T+1\n",
    "    #             )\n",
    "\n",
    "    trace, inv = __querrySeismoData(    \n",
    "                                seed_id='BW.ROMY.10.BJZ',\n",
    "                                starttime=tbeg-1,\n",
    "                                endtime=tend+1,\n",
    "                                where=\"george\",\n",
    "                                path=None,\n",
    "                                restitute=True,\n",
    "                                detail=None,\n",
    "                                 )\n",
    "\n",
    "    ## resample to sps and remove mean\n",
    "    trace.resample(sps)\n",
    "    trace.detrend('demean')\n",
    "\n",
    "    ## adjust length to match signal\n",
    "    trace.trim(starttime=tbeg, endtime=tend+T)\n",
    "    print(trace)\n",
    "\n",
    "    ## define model trace\n",
    "    modeltrace = trace[0].data; del trace\n",
    "\n",
    "    ## define time axis for model trace\n",
    "    time_modeltrace = np.linspace(0, T, len(modeltrace))\n",
    "   "
   ]
  },
  {
   "cell_type": "code",
   "execution_count": null,
   "metadata": {
    "ExecuteTime": {
     "end_time": "2021-11-10T13:05:54.637143Z",
     "start_time": "2021-11-10T13:05:51.941182Z"
    }
   },
   "outputs": [],
   "source": [
    "__makeplot_trace_and_spectrum(modeltrace, time_modeltrace, fmax=5); "
   ]
  },
  {
   "cell_type": "markdown",
   "metadata": {},
   "source": [
    "## Remove Median"
   ]
  },
  {
   "cell_type": "markdown",
   "metadata": {},
   "source": [
    "Median is calulcated and removed since not relevant for instanenous frequency. "
   ]
  },
  {
   "cell_type": "code",
   "execution_count": null,
   "metadata": {
    "ExecuteTime": {
     "end_time": "2021-11-10T13:06:08.480835Z",
     "start_time": "2021-11-10T13:06:08.393191Z"
    }
   },
   "outputs": [],
   "source": [
    "if remove_median:\n",
    "    med = np.median(synthetic_signal)\n",
    "    synthetic_signal= synthetic_signal - np.median(synthetic_signal)\n"
   ]
  },
  {
   "cell_type": "code",
   "execution_count": null,
   "metadata": {
    "ExecuteTime": {
     "end_time": "2021-11-10T13:06:09.844328Z",
     "start_time": "2021-11-10T13:06:08.881577Z"
    }
   },
   "outputs": [],
   "source": [
    "__makeplot_trace_and_psd(synthetic_signal, timeline, fmax=0.5*sps, t1=50, t2=50.02); "
   ]
  },
  {
   "cell_type": "markdown",
   "metadata": {},
   "source": [
    "## Upsampling"
   ]
  },
  {
   "cell_type": "markdown",
   "metadata": {},
   "source": [
    "Upsampling using a scipy method called 'resample()' which is based on the FFT\n",
    "\n",
    "https://docs.scipy.org/doc/scipy/reference/generated/scipy.signal.resample.html#scipy.signal.resample"
   ]
  },
  {
   "cell_type": "code",
   "execution_count": null,
   "metadata": {
    "ExecuteTime": {
     "end_time": "2021-11-10T13:06:17.972084Z",
     "start_time": "2021-11-10T13:06:17.964990Z"
    },
    "code_folding": [
     1
    ]
   },
   "outputs": [],
   "source": [
    "\n",
    "def __interpolation_fft(trace, time, T, sps):\n",
    "    \n",
    "    from scipy.signal import resample\n",
    "    from numpy import arange\n",
    "    \n",
    "    ## interpolate modeltrace to sps \n",
    "    l1 = trace.size\n",
    "    \n",
    "    trace = resample(trace, int(T*sps+1)) ## using FFT\n",
    "#     time = resample(time, int(T*sps+1))    \n",
    "    \n",
    "    l2 = trace.size\n",
    "    \n",
    "    print(f\"modeltrace is interpolated: {l1} samples --> {l2} samples\")\n",
    "#     print(f\"time_modeltrace is interpolated: {l1} samples --> {l2} samples\")\n",
    "\n",
    "    time = np.arange(0, T+1/sps, 1/sps)\n",
    "\n",
    "    return trace, time\n"
   ]
  },
  {
   "cell_type": "markdown",
   "metadata": {},
   "source": [
    "Upsampling using a scipy method called 'resample_poly()' based on a fir filter. up / down = sampling rate, where down is estimated. \n",
    "\n",
    "https://docs.scipy.org/doc/scipy/reference/generated/scipy.signal.resample_poly.html"
   ]
  },
  {
   "cell_type": "code",
   "execution_count": null,
   "metadata": {
    "ExecuteTime": {
     "end_time": "2021-11-10T13:06:18.551820Z",
     "start_time": "2021-11-10T13:06:18.545999Z"
    },
    "code_folding": [
     1
    ]
   },
   "outputs": [],
   "source": [
    "\n",
    "def __upsample_FIR(signal_in, sps, T, sampling_factor=2):\n",
    "    \n",
    "    from scipy.signal import upfirdn, resample_poly\n",
    "    \n",
    "    lower = 50\n",
    "    upper = sampling_factor*lower\n",
    "    \n",
    "    signal_out = resample_poly(signal_in, upper, lower, padtype=\"line\") ## using FIR filter\n",
    "    \n",
    "    ## adjsut sampling frequency with sampling factor\n",
    "    sps_new = int(sps*sampling_factor)\n",
    "    \n",
    "    ## adjust time axis\n",
    "    time_out = np.arange(0, T+1/sps_new, 1/sps_new)\n",
    "    \n",
    "    return signal_out[:-1], time_out\n"
   ]
  },
  {
   "cell_type": "code",
   "execution_count": null,
   "metadata": {
    "ExecuteTime": {
     "end_time": "2021-11-10T13:06:20.326309Z",
     "start_time": "2021-11-10T13:06:20.315353Z"
    },
    "code_folding": [
     1
    ]
   },
   "outputs": [],
   "source": [
    "\n",
    "def __resample_signal_butter(signal_in, fs, up_factor, f_low=540, f_high=570, taper=False):\n",
    "\n",
    "    ''' \n",
    "    up-samping of the simulated digital signal \n",
    "    \n",
    "    sig_in   = input signal\n",
    "    fs       = sampling frequency of digital signal\n",
    "    fac      = sampling factor (2 = double)\n",
    "    taper    = True/False , to either taper or not taper output\n",
    "    \n",
    "    '''\n",
    "    ## add zeros to trace\n",
    "    sig_out= np.zeros(len(signal_in)*up_factor)\n",
    "    for h, i in enumerate(signal_in):\n",
    "        sig_out[h] = i\n",
    "        if up_factor > 2:\n",
    "            for i in range(up_factor):\n",
    "                sig_out[h] = 0\n",
    "        else:\n",
    "            sig_out[h] = 0\n",
    "\n",
    "    \n",
    "\n",
    "    ## butterworth bandpass filter\n",
    "    b, a = butter(4, [f_low, f_high], btype='band', fs=fs)\n",
    "       \n",
    "    synthetic_signal = filtfilt(b, a, np.array(sig_out), method=\"gust\")\n",
    "\n",
    "    time_out = np.arange(0, len(sig_out)*fs, 1/fs)\n",
    "    print(signal_in.size, sig_out.size)\n",
    "    \n",
    "    return np.array(sig_out), time_out\n",
    "    "
   ]
  },
  {
   "cell_type": "code",
   "execution_count": null,
   "metadata": {
    "ExecuteTime": {
     "end_time": "2021-11-10T13:06:26.208267Z",
     "start_time": "2021-11-10T13:06:26.201502Z"
    },
    "code_folding": [
     0
    ]
   },
   "outputs": [],
   "source": [
    "if upsampling:\n",
    "    \n",
    "    \n",
    "#     synthetic_signal, timeline = __upsample_FIR(synthetic_signal, \n",
    "#                                                 sps, \n",
    "#                                                 T, \n",
    "#                                                 sampling_factor=upsampling_factor,\n",
    "#                                                )\n",
    "\n",
    "    synthetic_signal, timeline = __interpolation_fft(synthetic_signal, \n",
    "                                                     timeline, \n",
    "                                                     T, \n",
    "                                                     sps*upsampling_factor,\n",
    "                                                    )\n",
    "    \n",
    "#     synthetic_signal, timeline = __resample_signal_butter(synthetic_signal, \n",
    "#                                                           sps, \n",
    "#                                                           upsampling_factor,\n",
    "#                                                           f_low=540, \n",
    "#                                                           f_high=570,\n",
    "#                                                          )\n",
    "    \n",
    "    \n",
    "    ## adjust sampling rate\n",
    "    sps = sps*upsampling_factor"
   ]
  },
  {
   "cell_type": "code",
   "execution_count": null,
   "metadata": {
    "ExecuteTime": {
     "end_time": "2021-11-10T13:06:28.990308Z",
     "start_time": "2021-11-10T13:06:27.314882Z"
    },
    "code_folding": []
   },
   "outputs": [],
   "source": [
    "## test to remove 50 Hz harmonics with notch filter ... not desired effect\n",
    "\n",
    "for f in range(50,1000,50):\n",
    "    b, a = iirnotch(f, 30, sps)\n",
    "    synthetic_signal = filtfilt(b, a, synthetic_signal, method=\"pad\")\n",
    "    \n",
    "# b, a = iirnotch(sgnc, 30, sps)\n",
    "# synthetic_signal = filtfilt(b, a, synthetic_signal, method=\"pad\")\n",
    "\n"
   ]
  },
  {
   "cell_type": "code",
   "execution_count": null,
   "metadata": {
    "ExecuteTime": {
     "end_time": "2021-11-10T13:06:29.008560Z",
     "start_time": "2021-11-10T13:06:29.001866Z"
    },
    "scrolled": true
   },
   "outputs": [],
   "source": [
    "synthetic_signal.size, timeline.size, sps, timeline[-1]"
   ]
  },
  {
   "cell_type": "code",
   "execution_count": null,
   "metadata": {
    "ExecuteTime": {
     "end_time": "2021-11-10T13:06:30.324973Z",
     "start_time": "2021-11-10T13:06:29.441327Z"
    }
   },
   "outputs": [],
   "source": [
    "__makeplot_trace_and_psd(synthetic_signal, timeline, fmax=0.5*sps, t1=50, t2=50.02); "
   ]
  },
  {
   "cell_type": "markdown",
   "metadata": {},
   "source": [
    "## Bandpass "
   ]
  },
  {
   "cell_type": "code",
   "execution_count": null,
   "metadata": {
    "ExecuteTime": {
     "end_time": "2021-11-10T13:06:48.041775Z",
     "start_time": "2021-11-10T13:06:43.034051Z"
    }
   },
   "outputs": [],
   "source": [
    "if bandpass_pre:\n",
    "\n",
    "    ## create butterworth bandpass\n",
    "    b, a = butter(4, [f_lower_bp, f_upper_bp], 'bp', fs=sps)\n",
    "\n",
    "    ## apply butterworth bandpass forward and backwards\n",
    "    synthetic_signal = filtfilt(b, a, synthetic_signal, method=\"gust\")\n"
   ]
  },
  {
   "cell_type": "code",
   "execution_count": null,
   "metadata": {
    "ExecuteTime": {
     "end_time": "2021-11-10T13:06:48.956210Z",
     "start_time": "2021-11-10T13:06:48.042716Z"
    }
   },
   "outputs": [],
   "source": [
    "__makeplot_trace_and_psd(synthetic_signal, timeline, fmax=0.5*sps, t1=50, t2=50.02); "
   ]
  },
  {
   "cell_type": "code",
   "execution_count": null,
   "metadata": {
    "ExecuteTime": {
     "end_time": "2021-03-19T09:20:54.482694Z",
     "start_time": "2021-03-19T09:20:54.480204Z"
    }
   },
   "outputs": [],
   "source": [
    "# synthetic_signal = __tapering(synthetic_signal, \"window\", 0.1)"
   ]
  },
  {
   "cell_type": "markdown",
   "metadata": {},
   "source": [
    "# Demodulation"
   ]
  },
  {
   "cell_type": "markdown",
   "metadata": {
    "ExecuteTime": {
     "end_time": "2021-01-29T15:18:35.118865Z",
     "start_time": "2021-01-29T15:18:35.114054Z"
    }
   },
   "source": [
    "In order to evaluate the demodulated signal it is compared to the kown synthetic signalthe. For this, the median is substracted and 1% of the edges are cut off. Then both, the orignal and the retrieved signal are normalized and a cross-correlation calculated."
   ]
  },
  {
   "cell_type": "code",
   "execution_count": null,
   "metadata": {
    "ExecuteTime": {
     "end_time": "2021-11-10T13:06:55.587149Z",
     "start_time": "2021-11-10T13:06:55.578353Z"
    },
    "code_folding": [
     1
    ]
   },
   "outputs": [],
   "source": [
    "\n",
    "def __hibert_filter(sig_in, time_in, fs):\n",
    "    \n",
    "    '''\n",
    "    estimating the instantaneous frequency by using the formula of Jo\n",
    "    \n",
    "    sig_in    = input signal\n",
    "    time_in   = input timeline\n",
    "    fs        = sampling frequency of digital signal\n",
    "    '''\n",
    "\n",
    "    def __check_for_NaN(array):\n",
    "        \n",
    "        sum0, idx = 0, []\n",
    "        for k, x in enumerate(array):\n",
    "            if np.isnan(x):\n",
    "                sum0 += 1\n",
    "                idx.append(k)\n",
    "\n",
    "        if sum0 != 0:\n",
    "            print(sum0, f\" nan found of {len(array)}\")\n",
    "    \n",
    "        return(idx)\n",
    "            \n",
    "            \n",
    "            \n",
    "    ## calulcate hilbert transform\n",
    "    hil0 = hilbert(sig_in)\n",
    "    \n",
    "    ## extract imaginary part of hilbert transform \n",
    "    hil = np.imag(hil0)\n",
    "    \n",
    "#     env = abs(hil)\n",
    "#     hil = hil/max(env)\n",
    "    \n",
    "    ## calculate derivatives (second order central differences)\n",
    "    d_hil = np.gradient(hil, edge_order=1)*fs\n",
    "    d_sig = np.gradient(sig_in, edge_order=1)*fs\n",
    "    \n",
    "    \n",
    "    ## check if nan are in derivative\n",
    "#     idx = __check_for_NaN(d_hil)\n",
    "    \n",
    "    \n",
    "#     delta_f_full = (sig_in * d_hil - d_sig * hil) / (2*np.pi*np.sqrt(sig_in**2 + hil**2))\n",
    "    \n",
    "    ## without sqrt as found on Wikipedia\n",
    "    delta_f_full = (sig_in * d_hil - d_sig * hil) / (2*np.pi*(sig_in**2 + hil**2))\n",
    "\n",
    "\n",
    "    ## extract real part\n",
    "    delta_f = np.real(delta_f_full)\n",
    "    \n",
    "    \n",
    "    ## instert nan value for time zero (exluded bevause of np.diff() ) \n",
    "    idx = __check_for_NaN(delta_f)\n",
    "    \n",
    "    for l in idx:\n",
    "        delta_f[l] = 0.0\n",
    "\n",
    "    \n",
    "    return time_in, delta_f\n"
   ]
  },
  {
   "cell_type": "code",
   "execution_count": null,
   "metadata": {
    "ExecuteTime": {
     "end_time": "2021-11-10T13:06:55.803614Z",
     "start_time": "2021-11-10T13:06:55.799637Z"
    },
    "code_folding": [
     1
    ]
   },
   "outputs": [],
   "source": [
    "\n",
    "def __demodulate(x, y, Twindow, sps):\n",
    "\n",
    "    window_size = int(Twindow * sps)\n",
    "\n",
    "    stepsize = int(window_size/2) \n",
    "\n",
    "    out1, out2 = np.array([]), np.array([])\n",
    "    for i in tqdm(range(0,len(x), stepsize)):\n",
    "\n",
    "        if int(i+window_size) > len(x):\n",
    "            print(f\"break for {i/sps}\")\n",
    "            break\n",
    "\n",
    "        win1 = x[i:int(i+window_size)]\n",
    "        win2 = y[i:int(i+window_size)]\n",
    "\n",
    "\n",
    "\n",
    "        t, sig = __hibert_filter(win1, win2, sps)\n",
    "\n",
    "    #     plt.plot(t[int(stepsize/2):window_size-int(stepsize/2)], sig[int(stepsize/2):window_size-int(stepsize/2)])\n",
    "    #     plt.show();\n",
    "\n",
    "        out1 = np.append(out1, sig[int(stepsize/2):window_size-int(stepsize/2)])\n",
    "        out2 = np.append(out2, t[int(stepsize/2):window_size-int(stepsize/2)])\n",
    "    #     plt.plot(out2,out1)\n",
    "\n",
    "    return out1, out2\n"
   ]
  },
  {
   "cell_type": "code",
   "execution_count": null,
   "metadata": {
    "ExecuteTime": {
     "end_time": "2021-11-10T13:07:10.372281Z",
     "start_time": "2021-11-10T13:06:56.656165Z"
    },
    "code_folding": []
   },
   "outputs": [],
   "source": [
    "\n",
    "# Twindow = 100 # seconds\n",
    "\n",
    "demod_signal, time_demod_signal = __demodulate(synthetic_signal, timeline, Twindow, sps)\n",
    "\n",
    "\n",
    "time_demod_signal.size, demod_signal.size"
   ]
  },
  {
   "cell_type": "code",
   "execution_count": null,
   "metadata": {
    "ExecuteTime": {
     "end_time": "2021-03-19T09:21:08.097175Z",
     "start_time": "2021-03-19T09:21:08.094621Z"
    }
   },
   "outputs": [],
   "source": [
    "# time_demod_signal, demod_signal = __hibert_filter(synthetic_signal, timeline, sps)\n",
    "\n",
    "# demod_signal = demod_signal - np.median(demod_signal)\n",
    "\n",
    "# num = int(10*5000)\n",
    "# demod_signal[:num] = 0\n",
    "# demod_signal[-num:] = 0"
   ]
  },
  {
   "cell_type": "code",
   "execution_count": null,
   "metadata": {
    "ExecuteTime": {
     "end_time": "2021-11-10T13:07:16.587332Z",
     "start_time": "2021-11-10T13:07:15.814517Z"
    }
   },
   "outputs": [],
   "source": [
    "__makeplot_trace_and_spectrum(demod_signal, time_demod_signal, fmax=2); "
   ]
  },
  {
   "cell_type": "markdown",
   "metadata": {},
   "source": [
    "### Remove Offset"
   ]
  },
  {
   "cell_type": "code",
   "execution_count": null,
   "metadata": {
    "ExecuteTime": {
     "end_time": "2021-11-10T13:07:19.306214Z",
     "start_time": "2021-11-10T13:07:19.229855Z"
    },
    "code_folding": [
     0
    ]
   },
   "outputs": [],
   "source": [
    "print(f\"theo. Sagnac Frequencs: {sgnc} Hz\")\n",
    "print(f\"Median Demodulated Signal: {np.median(demod_signal)}\")\n",
    "\n",
    "\n",
    "# demod_signal = demod_signal - sgnc\n",
    "demod_signal = demod_signal - np.median(demod_signal)"
   ]
  },
  {
   "cell_type": "code",
   "execution_count": null,
   "metadata": {
    "ExecuteTime": {
     "end_time": "2021-11-10T13:07:21.326188Z",
     "start_time": "2021-11-10T13:07:20.555441Z"
    },
    "scrolled": false
   },
   "outputs": [],
   "source": [
    "# __makeplot_trace_and_psd(demod_signal, time_demod_signal, fmax=0.5*sps, t1=100, t2=101); \n",
    "__makeplot_trace_and_spectrum(demod_signal, time_demod_signal, fmax=1.0); "
   ]
  },
  {
   "cell_type": "markdown",
   "metadata": {
    "ExecuteTime": {
     "end_time": "2021-02-23T22:51:28.698061Z",
     "start_time": "2021-02-23T22:50:38.717Z"
    }
   },
   "source": [
    "### Downsampling "
   ]
  },
  {
   "cell_type": "code",
   "execution_count": null,
   "metadata": {
    "ExecuteTime": {
     "end_time": "2021-11-10T13:07:25.600859Z",
     "start_time": "2021-11-10T13:07:25.594972Z"
    },
    "code_folding": [
     1
    ]
   },
   "outputs": [],
   "source": [
    "\n",
    "def __downsample(signal_in, sps, ds_factor=2):\n",
    "\n",
    "    \n",
    "    ## downsample using a FIR filter\n",
    "    signal_out = decimate(signal_in, ds_factor, n=None, ftype='fir', axis=-1, zero_phase=True)\n",
    "\n",
    "\n",
    "    ## adjust sampling frequency\n",
    "    sps = int(sps/ds_factor)\n",
    "\n",
    "    ## adjust time axis\n",
    "    time_out = np.arange(signal_out.size)/sps\n",
    "\n",
    "    return signal_out, time_out, sps\n"
   ]
  },
  {
   "cell_type": "code",
   "execution_count": null,
   "metadata": {
    "ExecuteTime": {
     "end_time": "2021-11-10T13:07:26.085539Z",
     "start_time": "2021-11-10T13:07:26.081481Z"
    }
   },
   "outputs": [],
   "source": [
    "if upsampling:\n",
    "\n",
    "    \n",
    "    downsampling_factor = upsampling_factor\n",
    "\n",
    "    sps0 = sps ## prevent overwriting\n",
    "    demod_signal, time_demod_signal, sps = __downsample(demod_signal, sps0, ds_factor=downsampling_factor)\n",
    "#     modeltrace, time_modeltrace, sps = __downsample(modeltrace, sps0, ds_factor=downsampling_factor)\n",
    "    \n",
    "\n",
    "    ## adjust index after resampling\n",
    "#     index1=int(index1/downsampling_factor)\n",
    "#     index2=int(index2/downsampling_factor)\n",
    "    "
   ]
  },
  {
   "cell_type": "markdown",
   "metadata": {},
   "source": [
    "### lowpass"
   ]
  },
  {
   "cell_type": "code",
   "execution_count": null,
   "metadata": {
    "ExecuteTime": {
     "end_time": "2021-11-10T13:07:29.091282Z",
     "start_time": "2021-11-10T13:07:28.986367Z"
    }
   },
   "outputs": [],
   "source": [
    "if lowpass_post:\n",
    "    \n",
    "    f_upper_lp = 200\n",
    "\n",
    "    ## create digital lowpass filter, which is applied forwards and backwards\n",
    "#     b, a = butter(8, f_upper_lp, 'lp', fs=sps)\n",
    "#     demod_signal = filtfilt(b, a, demod_signal, method=\"gust\")\n",
    "    \n",
    "    ## apply lowpass filter of obspy (using fft)\n",
    "#     tmp = Trace(demod_signal)\n",
    "#     tmp.stats.delta = 1/sps\n",
    "#     tmp.filter('lowpass', freq=f_upper_lp, corners=4, zerophase=True)\n",
    "#     demod_signal = tmp.data\n",
    "\n",
    "\n",
    "    ## create butterworth bandpass\n",
    "    b, a = butter(8, [0.001, 200], 'bp', fs=sps)\n",
    "\n",
    "    ## apply butterworth bandpass forward and backwards\n",
    "    synthetic_signal = filtfilt(b, a, synthetic_signal, method=\"pad\")\n",
    "\n",
    "\n",
    "demod_signal.size, time_demod_signal.size"
   ]
  },
  {
   "cell_type": "code",
   "execution_count": null,
   "metadata": {
    "ExecuteTime": {
     "end_time": "2021-11-10T13:07:31.670801Z",
     "start_time": "2021-11-10T13:07:30.761655Z"
    }
   },
   "outputs": [],
   "source": [
    "__makeplot_trace_and_psd(demod_signal, time_demod_signal, fmax=0.5*sps); \n",
    "# __makeplot_trace_and_spectrum(demod_signal, time_demod_signal, fmax=20'.0); "
   ]
  },
  {
   "cell_type": "markdown",
   "metadata": {},
   "source": [
    "### Normalize"
   ]
  },
  {
   "cell_type": "code",
   "execution_count": null,
   "metadata": {
    "ExecuteTime": {
     "end_time": "2021-11-10T13:07:38.714617Z",
     "start_time": "2021-11-10T13:07:38.706859Z"
    }
   },
   "outputs": [],
   "source": [
    "## apply conversion counts -> volt of obsidian digitizer\n",
    "demod_signal *= 0.59604645e-6"
   ]
  },
  {
   "cell_type": "code",
   "execution_count": null,
   "metadata": {
    "ExecuteTime": {
     "end_time": "2021-11-10T13:07:39.536171Z",
     "start_time": "2021-11-10T13:07:38.936236Z"
    }
   },
   "outputs": [],
   "source": [
    "max(demod_signal), max(modeltrace)"
   ]
  },
  {
   "cell_type": "code",
   "execution_count": null,
   "metadata": {
    "ExecuteTime": {
     "end_time": "2021-11-10T13:07:39.542311Z",
     "start_time": "2021-11-10T13:07:39.537359Z"
    },
    "code_folding": []
   },
   "outputs": [],
   "source": [
    "if normalize:\n",
    "    demod_signal = __normalize(demod_signal)\n",
    "    modeltrace   = __normalize(modeltrace)\n"
   ]
  },
  {
   "cell_type": "code",
   "execution_count": null,
   "metadata": {
    "ExecuteTime": {
     "end_time": "2021-11-10T13:07:41.138963Z",
     "start_time": "2021-11-10T13:07:40.314166Z"
    }
   },
   "outputs": [],
   "source": [
    "# __makeplot_trace_and_psd(demod_signal, time_demod_signal, fmax=0.5*sps, t1=100, t2=101); \n",
    "__makeplot_trace_and_spectrum(demod_signal, time_demod_signal, fmax=1.0); "
   ]
  },
  {
   "cell_type": "markdown",
   "metadata": {},
   "source": [
    "### Padding Edges"
   ]
  },
  {
   "cell_type": "code",
   "execution_count": null,
   "metadata": {
    "ExecuteTime": {
     "end_time": "2021-11-10T13:07:41.599157Z",
     "start_time": "2021-11-10T13:07:41.525200Z"
    }
   },
   "outputs": [],
   "source": [
    "## samples from left and right to be ignored due to dynamic demodulation\n",
    "index1 = int(time_demod_signal[0]*sps)+1\n",
    "\n",
    "if upsampling:\n",
    "    index2 = int(int(T-time_demod_signal[-1])*sps)+1\n",
    "else:\n",
    "    index2 = int(int(T-time_demod_signal[-1])*sps)+1\n",
    "\n",
    "## padding demodulated signal at the edges\n",
    "demod_signal = np.pad(demod_signal, (index1, index2), constant_values=(0, 0))\n",
    "\n",
    "## adjust time axis\n",
    "time_demod_signal = np.arange(len(demod_signal))/sps\n",
    "\n",
    "\n",
    "\n",
    "time_demod_signal.size, demod_signal.size, index1, index2"
   ]
  },
  {
   "cell_type": "markdown",
   "metadata": {},
   "source": [
    "### Final Plotting"
   ]
  },
  {
   "cell_type": "code",
   "execution_count": null,
   "metadata": {
    "ExecuteTime": {
     "end_time": "2021-11-10T13:07:41.942051Z",
     "start_time": "2021-11-10T13:07:41.936339Z"
    },
    "code_folding": []
   },
   "outputs": [],
   "source": [
    "if lowpass_post:\n",
    "    cut1 = int(index1)\n",
    "    cut2 = int(len(demod_signal)-index2)\n",
    "else:\n",
    "    cut1 = int(index1)\n",
    "    cut2 = int(len(demod_signal)-index2)   \n",
    "    \n",
    "\n",
    "cut1, cut2"
   ]
  },
  {
   "cell_type": "markdown",
   "metadata": {},
   "source": [
    "### Cross-Correlation"
   ]
  },
  {
   "cell_type": "code",
   "execution_count": null,
   "metadata": {
    "ExecuteTime": {
     "end_time": "2021-11-10T13:07:43.625540Z",
     "start_time": "2021-11-10T13:07:42.688939Z"
    },
    "code_folding": [
     0
    ]
   },
   "outputs": [],
   "source": [
    "cross_corr = correlate(demod_signal[cut1:cut2], modeltrace[cut1:cut2], mode='same')\n",
    "\n",
    "cross_corr_lags = np.arange(-cross_corr.size//2+1,cross_corr.size//2+1,1)"
   ]
  },
  {
   "cell_type": "code",
   "execution_count": null,
   "metadata": {
    "ExecuteTime": {
     "end_time": "2021-11-10T13:08:08.654883Z",
     "start_time": "2021-11-10T13:07:43.627544Z"
    },
    "code_folding": []
   },
   "outputs": [],
   "source": [
    "fig = __makeplot_demodulation_quality(time_modeltrace, \n",
    "                                      modeltrace, \n",
    "                                      time_demod_signal,\n",
    "                                      demod_signal,\n",
    "                                      cross_corr,\n",
    "                                      cross_corr_lags,\n",
    "                                      sps,\n",
    "                                      cut1,\n",
    "                                      cut2,\n",
    "                                      fmax=10\n",
    "                                     );"
   ]
  },
  {
   "cell_type": "code",
   "execution_count": null,
   "metadata": {
    "ExecuteTime": {
     "end_time": "2021-03-19T09:21:16.777645Z",
     "start_time": "2021-03-19T09:21:16.774763Z"
    },
    "code_folding": [
     1
    ]
   },
   "outputs": [],
   "source": [
    "\n",
    "# def __makeplot_evaluation():\n",
    "\n",
    "#     from andbro__fft import __fft\n",
    "\n",
    "#     asd_demod, ff_demod, phase_demod = __fft(demod_signal, 1/sps, window=None, normalize=None)\n",
    "#     asd_model, ff_model, phase_model = __fft(modeltrace, 1/sps, window=None, normalize=None)\n",
    "\n",
    "\n",
    "#     ## __________________________________________________________\n",
    "\n",
    "#     fig, ax = plt.subplots(4,1, figsize=(15,10))\n",
    "\n",
    "#     fig.subplots_adjust(hspace = 0.4)\n",
    "    \n",
    "#     font = 13\n",
    "\n",
    "#     ax[0].plot(time_modeltrace, modeltrace, color='k', lw=2)\n",
    "#     ax[0].plot(time_demod_signal[1000:-1000], demod_signal[1000:-1000], color='green', lw=2)\n",
    "\n",
    "    \n",
    "#     ax[1].plot(ff_model, asd_model, color='k')\n",
    "#     ax[1].plot(ff_demod, asd_demod, color='green')\n",
    "\n",
    "    \n",
    "#     ax[2].plot(ff_model, np.unwrap(phase_model), color='k')\n",
    "#     ax[2].plot(ff_demod, np.unwrap(phase_demod), color='green')\n",
    "\n",
    "    \n",
    "    \n",
    "#     # ax[3].plot(time_modeltrace, modeltrace, color='k')\n",
    "#     # ax[3].plot(time_demod_signal, demod_signal, color='darkred')\n",
    "#     ax[3].axvline(0.0, color=\"grey\", ls=\":\")\n",
    "#     ax[3].plot(cross_corr_lags/sps, cross_corr,'k')\n",
    "\n",
    "    \n",
    "#     ax[0].set_xlabel(\"Frequency (Hz)\", fontsize=font)\n",
    "#     ax[1].set_xlabel(\"Frequency (Hz)\", fontsize=font)\n",
    "#     ax[2].set_xlabel(\"Frequency (Hz)\", fontsize=font)\n",
    "#     ax[3].set_xlabel('lag (s)', fontsize=font)\n",
    "    \n",
    "#     ax[0].set_ylabel('norm. rot. rate', fontsize=font)\n",
    "#     ax[1].set_ylabel(r'spect. amplitude \\n (rad/s $\\sqrt{Hz}$)', fontsize=font)\n",
    "#     ax[2].set_ylabel('unwraped phase', fontsize=font)    \n",
    "#     ax[3].set_ylabel('cross-correlation', fontsize=font)\n",
    "    \n",
    "#     ax[3].tick_params(axis='both', labelsize=font-2)\n",
    "\n",
    "#     x0 = 0.6*max(cross_corr_lags)/sps\n",
    "#     y0 = 0.75*max(cross_corr)\n",
    "\n",
    "#     ax[3].text(x0, y0, f'max. CC at lag {cross_corr_lags[abs(cross_corr).argmax()]/sps} s', fontsize=font)\n",
    "# #     ax[3].text(x0, y0, f'max. CC at lag {cross_corr_lags[abs(cross_corr).argmax()]}', fontsize=font)\n",
    "\n",
    "\n",
    "#     ax[1].set_xlim(0,0.2)\n",
    "\n",
    "#     for i in range(4):\n",
    "#         ax[i].grid(ls='--',zorder=0)\n",
    "\n",
    "# __makeplot_evaluation()    "
   ]
  },
  {
   "cell_type": "code",
   "execution_count": null,
   "metadata": {
    "ExecuteTime": {
     "end_time": "2021-03-19T09:21:16.789234Z",
     "start_time": "2021-03-19T09:21:16.779384Z"
    }
   },
   "outputs": [],
   "source": [
    "# print(modeltrace.size, demod_signal.size)\n",
    "\n",
    "# modeltrace2, time_modeltrace2, sps = __downsample(modeltrace, sps, ds_factor=100)\n",
    "# demod_signal2, time_demod_signal2, sps = __downsample(demod_signal, sps, ds_factor=100)\n",
    "\n",
    "# sps2 = sps / 100\n",
    "# print(modeltrace2.size, demod_signal2.size)\n",
    "\n",
    "# plt.plot(modeltrace2)\n",
    "# plt.plot(demod_signal2)"
   ]
  },
  {
   "cell_type": "markdown",
   "metadata": {
    "ExecuteTime": {
     "end_time": "2021-02-01T10:36:59.647494Z",
     "start_time": "2021-02-01T10:36:59.643870Z"
    }
   },
   "source": [
    "### Save Plot"
   ]
  },
  {
   "cell_type": "code",
   "execution_count": null,
   "metadata": {
    "ExecuteTime": {
     "end_time": "2021-03-19T09:21:16.792714Z",
     "start_time": "2021-03-19T09:21:16.790516Z"
    },
    "code_folding": []
   },
   "outputs": [],
   "source": [
    "# pname = f\"plot_T{int(T)}_fs{int(sps)}_{signal}_{name}\n",
    "# _{Twindow}.png\"\n",
    "\n",
    "# fig.savefig(\n",
    "#             f\"plots/cases/{pname}\",\n",
    "#             dpi=300, facecolor='w', \n",
    "#             edgecolor='w',\n",
    "#             orientation='portrait', \n",
    "#             format=\"png\",\n",
    "#             transparent=False, \n",
    "#             bbox_inches=\"tight\", \n",
    "#             pad_inches=0.2,\n",
    "#            )\n"
   ]
  }
 ],
 "metadata": {
  "kernelspec": {
   "display_name": "Python 3",
   "language": "python",
   "name": "python3"
  },
  "language_info": {
   "codemirror_mode": {
    "name": "ipython",
    "version": 3
   },
   "file_extension": ".py",
   "mimetype": "text/x-python",
   "name": "python",
   "nbconvert_exporter": "python",
   "pygments_lexer": "ipython3",
   "version": "3.7.8"
  }
 },
 "nbformat": 4,
 "nbformat_minor": 4
}
