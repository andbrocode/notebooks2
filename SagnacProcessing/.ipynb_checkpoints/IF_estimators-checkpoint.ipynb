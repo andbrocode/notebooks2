{
 "cells": [
  {
   "cell_type": "code",
   "execution_count": 1,
   "id": "furnished-chain",
   "metadata": {
    "ExecuteTime": {
     "end_time": "2021-05-14T14:58:17.556975Z",
     "start_time": "2021-05-14T14:58:16.943155Z"
    }
   },
   "outputs": [],
   "source": [
    "import matplotlib.pyplot as plt\n",
    "\n",
    "from submodules.CreateSyntheticEventV2 import __create_synthetic_event_v2\n",
    "from submodules.MakeplotTraceAndSpectrum import __makeplot_trace_and_spectrum"
   ]
  },
  {
   "cell_type": "code",
   "execution_count": 2,
   "id": "virgin-undergraduate",
   "metadata": {
    "ExecuteTime": {
     "end_time": "2021-05-14T14:58:17.565561Z",
     "start_time": "2021-05-14T14:58:17.558716Z"
    }
   },
   "outputs": [],
   "source": [
    "#!/usr/bin/env python\n",
    "# coding: utf-8\n",
    "\n",
    "import random\n",
    "from scipy.signal import ricker, resample\n",
    "from numpy import zeros, random, convolve, arange, kaiser, hamming, array\n",
    "from submodules.MakeplotTraceAndSpectrum import __makeplot_trace_and_spectrum\n",
    "from obspy.core.trace import Trace\n",
    "\n",
    "def __create_synthetic_event_v2(T, sps, f_lower, f_upper, noise=False, padding=None, noise_level=None):\n",
    "    \n",
    "    '''\n",
    "    \n",
    "    Dependency:\n",
    "       \n",
    "        import random\n",
    "        from scipy.signal import ricker, resample\n",
    "        from numpy import zeros, random, convolve, arange, kaiser, hamming, array\n",
    "        from submodules.MakeplotTraceAndSpectrum import __makeplot_trace_and_spectrum\n",
    "        from obspy.core.trace import Trace\n",
    "\n",
    "    Example:\n",
    "    \n",
    "        x, t = __create_synthetic_event_v2(T, sps, f_lower, f_upper, noise=False, padding=None, noise_level=None)\n",
    "        \n",
    "    '''\n",
    "    \n",
    "    \n",
    "    ## reduce the ull window due to efficiency\n",
    "    Npts = int(T*sps/10)\n",
    "    \n",
    "\n",
    "    ## define a ricker wavelet\n",
    "    w = 2\n",
    "    n = 1e2\n",
    "    rick = ricker(n, w)\n",
    "\n",
    "    ## define random locations \n",
    "    spikes = zeros(Npts)\n",
    "\n",
    "#     ## exclude edges to avoid edge effects \n",
    "#     k = int(Npts/5)\n",
    "    \n",
    "#     for i in range(k):\n",
    "            \n",
    "#         n = random.randint(k, int(Npts-border))\n",
    "        \n",
    "    ## set spikes with random amplitude within 0.8 and 1.2\n",
    "    spikes = [random.randint(0.8,1.2) for i in range(0,Npts)]\n",
    "\n",
    "    ## taper spike distribution\n",
    "    spikes *= hamming(Npts)\n",
    "\n",
    "    ## convolve ricker wavelet with locations \n",
    "    if noise_level:        \n",
    "        print(\"noise added ...\")\n",
    "        event = convolve(rick, spikes, 'same') \n",
    "        noises = array(random.rand(event.size))\n",
    "        event += noise_level * noises\n",
    "    else:\n",
    "        event = convolve(rick, spikes, 'same')\n",
    "        \n",
    "        \n",
    "    ## time axis as it should be (for resample)\n",
    "    timeline = arange(0,T+1/sps,1/sps)\n",
    "\n",
    "    ## resample to acutal sampling rate (= sps) and apply taper\n",
    "    event = resample(event, int(timeline.size)) \n",
    "    \n",
    "    xtrace = Trace(event)\n",
    "    xtrace.stats.sampling_rate=sps\n",
    "    xtrace.filter('bandpass', freqmin=f_lower, freqmax=f_upper/2, corners=4, zerophase=True)\n",
    "    event = xtrace.data\n",
    "\n",
    "    return event, timeline\n"
   ]
  },
  {
   "cell_type": "code",
   "execution_count": 3,
   "id": "biological-coordination",
   "metadata": {
    "ExecuteTime": {
     "end_time": "2021-05-14T14:58:17.569078Z",
     "start_time": "2021-05-14T14:58:17.566652Z"
    }
   },
   "outputs": [],
   "source": [
    "T = 1000\n",
    "fs = 10; sps = fs\n",
    "\n",
    "f_lower, f_upper = 0.01, 0.1\n"
   ]
  },
  {
   "cell_type": "code",
   "execution_count": 6,
   "id": "korean-civilian",
   "metadata": {
    "ExecuteTime": {
     "end_time": "2021-05-14T14:58:31.317616Z",
     "start_time": "2021-05-14T14:58:31.056807Z"
    }
   },
   "outputs": [
    {
     "data": {
      "image/png": "[encoded data removed]",
      "text/plain": [
       "<Figure size 1080x360 with 2 Axes>"
      ]
     },
     "metadata": {
      "needs_background": "light"
     },
     "output_type": "display_data"
    }
   ],
   "source": [
    "event, event_time =__create_synthetic_event_v2( T,\n",
    "                                                sps,\n",
    "                                                f_lower,\n",
    "                                                f_upper,\n",
    "                                                padding=None,\n",
    "                                                noise_level=None,\n",
    "                                               )\n",
    "\n",
    "__makeplot_trace_and_spectrum(event, event_time, fmax=2*f_upper);"
   ]
  },
  {
   "cell_type": "code",
   "execution_count": null,
   "id": "round-cowboy",
   "metadata": {},
   "outputs": [],
   "source": []
  }
 ],
 "metadata": {
  "kernelspec": {
   "display_name": "Python 3",
   "language": "python",
   "name": "python3"
  },
  "language_info": {
   "codemirror_mode": {
    "name": "ipython",
    "version": 3
   },
   "file_extension": ".py",
   "mimetype": "text/x-python",
   "name": "python",
   "nbconvert_exporter": "python",
   "pygments_lexer": "ipython3",
   "version": "3.7.8"
  }
 },
 "nbformat": 4,
 "nbformat_minor": 5
}
