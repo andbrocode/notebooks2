{
 "cells": [
  {
   "cell_type": "markdown",
   "metadata": {},
   "source": [
    "<div style='background-image: url(\"https://www.geophysik.uni-muenchen.de/ROMY/theme/images/ringlaser_wideformat.jpg\") ; padding: 0px ; background-size: cover ; border-radius: 15px ; height: 250px; background-position: 0% 80%'>\n",
    "    <div style=\"float: left ; margin: 50px ; padding: 20px ; background: rgba(255 , 255 , 255 , 0.9) ; width: 40% ; height: 150px\">\n",
    "        <div style=\"position: relative ; top: 50%;  transform: translatey(-50%)\">\n",
    "            <div style=\"font-size: xx-large ; font-weight: 900 ; color: rgba(0 , 0 , 0 , 0.9) ; line-height: 100%\">ROMY - <br> Sagnac Demodulation </div>\n",
    "            <div style=\"font-size: large ; padding-top: 20px ; color: rgba(0 , 0 , 0 , 0.7)\"></div>\n",
    "        </div>\n",
    "    </div>"
   ]
  },
  {
   "cell_type": "markdown",
   "metadata": {},
   "source": [
    "# Demodulation of Sagnac Signal"
   ]
  },
  {
   "cell_type": "code",
   "execution_count": 13,
   "metadata": {},
   "outputs": [],
   "source": [
    "import warnings\n",
    "warnings.filterwarnings(\"ignore\")\n",
    "\n",
    "import numpy as np \n",
    "import matplotlib.pyplot as plt\n",
    "import obspy \n",
    "import time\n",
    "\n",
    "from scipy import optimize\n",
    "from scipy.signal import  hilbert, decimate, resample, correlate\n"
   ]
  },
  {
   "cell_type": "markdown",
   "metadata": {},
   "source": [
    "### Defining Methods"
   ]
  },
  {
   "cell_type": "code",
   "execution_count": 14,
   "metadata": {},
   "outputs": [],
   "source": [
    "from EchoPerformance import __echo_performance\n",
    "from LoadSignalMseed import __load_signal_mseed"
   ]
  },
  {
   "cell_type": "code",
   "execution_count": 15,
   "metadata": {
    "code_folding": [
     0
    ]
   },
   "outputs": [],
   "source": [
    "def __normalize(array):\n",
    "    return array/max(abs(array))"
   ]
  },
  {
   "cell_type": "code",
   "execution_count": 16,
   "metadata": {
    "code_folding": [
     0
    ]
   },
   "outputs": [],
   "source": [
    "def __minimize_residual(model, original):\n",
    "\n",
    "    from scipy.optimize import leastsq\n",
    "\n",
    "    ## define cost function\n",
    "    def __cost_function(params, x, y):\n",
    "        a, b = params[0], params[1]\n",
    "        residual = y-(a*x+b)\n",
    "        return residual\n",
    "\n",
    "    ## initials \n",
    "    params = [1,0]\n",
    "\n",
    "    result = leastsq(__cost_function, params, (model, original))\n",
    "\n",
    "    model_new = model * result[0][0] + result[0][1]\n",
    "\n",
    "    print(f'\\noptimized: original -  {round(result[0][0],3)} * model + {round(result[0][1],3)}\\n')\n",
    "    \n",
    "    residual = (model_new - original)\n",
    "    return residual, model_new"
   ]
  },
  {
   "cell_type": "code",
   "execution_count": 17,
   "metadata": {
    "code_folding": [
     0
    ]
   },
   "outputs": [],
   "source": [
    "def __interpolation_with_filter(time_axis, signal, factor=2):\n",
    "    \n",
    "#     import obspy \n",
    "    \n",
    "    dt = time_axis[1]-time_axis[0]\n",
    "    \n",
    "    T = int(time_axis[-1])\n",
    "    \n",
    "    fs = 1/dt\n",
    "    \n",
    "    ## add zero sample at every x index\n",
    "    signal_interpol = np.zeros(time_axis.size*factor)\n",
    "\n",
    "    signal_interpol[::factor] = signal; signal_interpol = signal_interpol[:-1] # last has to be removed for correct length\n",
    "    \n",
    "    time_axis_interpol = np.linspace(0,T,time_axis.size*2-1)\n",
    "    \n",
    "    xtrace = obspy.core.trace.Trace(signal_interpol)\n",
    "    \n",
    "    xtrace.filter('lowpass', freq=0.2, corners=4, zerophase=True)\n",
    "\n",
    "    \n",
    "    # plt.figure(figsize=(15,5))\n",
    "    # plt.scatter(time_axis, signal, color='b')\n",
    "    \n",
    "    # plt.scatter(timex, xtrace, color='r')\n",
    "    \n",
    "    # plt.plot(timex, xtrace*2, color='g')\n",
    "    # plt.scatter(timex, xtrace*2, color='g', s=10)\n",
    "\n",
    "    # plt.xlim(10,11)\n",
    "\n",
    "    \n",
    "    return xtrace.data*2, time_axis_interpol"
   ]
  },
  {
   "cell_type": "code",
   "execution_count": 18,
   "metadata": {
    "code_folding": [
     1
    ]
   },
   "outputs": [
    {
     "ename": "NameError",
     "evalue": "name 'time_synthetic_signal' is not defined",
     "output_type": "error",
     "traceback": [
      "\u001b[0;31m---------------------------------------------------------------------------\u001b[0m",
      "\u001b[0;31mNameError\u001b[0m                                 Traceback (most recent call last)",
      "\u001b[0;32m<ipython-input-18-fdb3893a2116>\u001b[0m in \u001b[0;36m<module>\u001b[0;34m\u001b[0m\n\u001b[1;32m    108\u001b[0m \u001b[0;34m\u001b[0m\u001b[0m\n\u001b[1;32m    109\u001b[0m \u001b[0mplt\u001b[0m\u001b[0;34m.\u001b[0m\u001b[0mfigure\u001b[0m\u001b[0;34m(\u001b[0m\u001b[0;34m)\u001b[0m\u001b[0;34m\u001b[0m\u001b[0;34m\u001b[0m\u001b[0m\n\u001b[0;32m--> 110\u001b[0;31m \u001b[0mplt\u001b[0m\u001b[0;34m.\u001b[0m\u001b[0mplot\u001b[0m\u001b[0;34m(\u001b[0m\u001b[0mtime_synthetic_signal\u001b[0m\u001b[0;34m,\u001b[0m \u001b[0msynthetic_signal\u001b[0m\u001b[0;34m)\u001b[0m\u001b[0;34m\u001b[0m\u001b[0;34m\u001b[0m\u001b[0m\n\u001b[0m\u001b[1;32m    111\u001b[0m \u001b[0mplt\u001b[0m\u001b[0;34m.\u001b[0m\u001b[0mxlim\u001b[0m\u001b[0;34m(\u001b[0m\u001b[0;36m0\u001b[0m\u001b[0;34m,\u001b[0m\u001b[0;36m10\u001b[0m\u001b[0;34m)\u001b[0m\u001b[0;34m\u001b[0m\u001b[0;34m\u001b[0m\u001b[0m\n\u001b[1;32m    112\u001b[0m \u001b[0;34m\u001b[0m\u001b[0m\n",
      "\u001b[0;31mNameError\u001b[0m: name 'time_synthetic_signal' is not defined"
     ]
    },
    {
     "data": {
      "text/plain": [
       "<Figure size 432x288 with 0 Axes>"
      ]
     },
     "metadata": {},
     "output_type": "display_data"
    }
   ],
   "source": [
    "\n",
    "def __insta_freq_sinus_fit(time, signal, samples_to_fit, shift_samples, sgnc):\n",
    "\n",
    "    '''\n",
    "    Fitting a sin-function to the resampled data to\n",
    "    estimate an instantaneous frequency \n",
    "    \n",
    "    '''\n",
    "    \n",
    "    from tqdm import tqdm \n",
    "    \n",
    "    \n",
    "    ## check if samples_to_fit is an even integer\n",
    "    if str(type(samples_to_fit)) != \"<class 'int'>\" or samples_to_fit%2 != 0:\n",
    "        print(\"samples_to_fit should be an even integer\") \n",
    "    \n",
    "    hs = int(samples_to_fit/2)\n",
    "    \n",
    "    \n",
    "    ## hanning tapered sine function \n",
    "    def func(x, a, b): \n",
    "        return a * np.sin(2*np.pi* b * x) * np.hanning(len(x))\n",
    "\n",
    "    \n",
    "    ## get delta t\n",
    "    if abs((time[2]-time[1]) - (time[-2]-time[-3])) > 1e-10:\n",
    "        print(\"problem with sampling interval!\")\n",
    "    else:\n",
    "        dt = (time[2]-time[1])\n",
    "    \n",
    "        \n",
    "    amps=[]\n",
    "    freq=[]\n",
    "\n",
    "    ## create time refernce \n",
    "    tt = np.arange(samples_to_fit/2, len(time)-samples_to_fit/2, shift_samples) \n",
    "\n",
    "    \n",
    "    for idx in tqdm(tt):\n",
    "        idx = int(idx)\n",
    "        \n",
    "        ## start values for fitting\n",
    "        a0 = 1.0\n",
    "        b0 = 53\n",
    "        b1 = sgnc-1\n",
    "        \n",
    "        ## condition for fit\n",
    "        while abs(b0-b1) > 0.05:\n",
    "            b0 = b1\n",
    "            params, params_covariance = optimize.curve_fit(func, time[idx-hs:idx+hs], \n",
    "                                                           np.hanning(len(signal[idx-hs:idx+hs]))*signal[idx-hs:idx+hs],\n",
    "                                                           p0=[a0, b0]\n",
    "                                                          )\n",
    "            b1 = params[1]\n",
    "\n",
    "\n",
    "        amps.append(params[0])\n",
    "        freq.append(params[1])\n",
    "    \n",
    "    ## convert lists to arrays\n",
    "    amps = np.array(amps)\n",
    "    freq = np.array(freq)\n",
    "    \n",
    "    \n",
    "    ## instert nan value for time zero (exluded because of np.diff() ) \n",
    "    #freq = np.insert(freq, 0, np.nan, axis=0)\n",
    "    #tt   = np.insert(tt, 0, 0.0, axis=0)\n",
    "    for f in freq:\n",
    "        if f == 0:\n",
    "            print(\"at least one frequency estimated to zero!\")\n",
    "        if str(f) == \"nan\":\n",
    "            print(\"at least one frequency estimated to nan!\")\n",
    "           \n",
    "        \n",
    "    ## extend frequency array for one sample at start and end \n",
    "    #frequencies = np.concatenate((np.zeros(1), freq, np.zeros(1)), axis=0)       \n",
    "    frequencies = np.concatenate((np.ones(1)*sgnc, freq, np.ones(2)*sgnc), axis=0)       \n",
    "\n",
    "    ## calculate correct timeline\n",
    "    delta = dt*shift_samples\n",
    "    times = np.arange(0,len(frequencies)*delta,delta)\n",
    "                                \n",
    "    print(len(time), len(signal), ) \n",
    "    print(len(frequencies), len(times), times[0], times[-1])\n",
    "\n",
    "    \n",
    "    ## _______________________________________________________________________________\n",
    "\n",
    "    fig, ax = plt.subplots(1,1,figsize=(15,5))\n",
    "\n",
    "    \n",
    "    i = 1000\n",
    "    idx1 = i - hs\n",
    "    idx2 = i + hs\n",
    "    \n",
    "    xx = np.linspace(time[idx1],time[idx2],samples_to_fit*8) \n",
    "    \n",
    "    ax.scatter(time[idx1:idx2], np.hanning(len(signal[idx1:idx2]))*signal[idx1:idx2], s=10, color='black')\n",
    "    ax.plot(xx, func(xx, params[0], params[1]), color='red')\n",
    "\n",
    "\n",
    "\n",
    "    plt.show();\n",
    "    \n",
    "    ## _______________________________________________________________________________\n",
    "   \n",
    "    \n",
    "    return  times , frequencies\n",
    "\n",
    "plt.figure()\n",
    "plt.plot(time_synthetic_signal, synthetic_signal)\n",
    "plt.xlim(0, 10)\n",
    "\n",
    "samples_to_fit = 20\n",
    "shift_samples = 5\n",
    "\n",
    "time_demod_signal, demod_signal = __insta_freq_sinus_fit(time_synthetic_signal,\n",
    "                                                         synthetic_signal,\n",
    "                                                         samples_to_fit,\n",
    "                                                         shift_samples,\n",
    "                                                         sgnc,\n",
    "                                                         );"
   ]
  },
  {
   "cell_type": "code",
   "execution_count": null,
   "metadata": {},
   "outputs": [],
   "source": [
    "\n"
   ]
  },
  {
   "cell_type": "code",
   "execution_count": 19,
   "metadata": {
    "code_folding": [
     1
    ]
   },
   "outputs": [],
   "source": [
    "\n",
    "def __insta_freq_hilbert(sig_in, time_in, fs):\n",
    "    \n",
    "    ''' Estimation of the instantaneous frequency (modulated signal) by using integrated python methods '''\n",
    "    \n",
    "    sig_hil = hilbert(sig_in)\n",
    "    \n",
    "    insta_phase = np.unwrap(np.angle(sig_hil))\n",
    "    \n",
    "    insta_freq  = 2* (np.diff(insta_phase) / (2.0 * np.pi)  * fs)\n",
    "\n",
    "    ## instert nan value for time zero (exluded bevause of np.diff() )\n",
    "    insta_freq = np.insert(insta_freq, 0, np.nan, axis=0)\n",
    "    \n",
    "    ## first sample is nan and replaced with second \n",
    "    insta_freq[0] = insta_freq[1]\n",
    "    \n",
    "    \n",
    "    return time_in, insta_freq\n"
   ]
  },
  {
   "cell_type": "code",
   "execution_count": 20,
   "metadata": {
    "code_folding": [
     1
    ]
   },
   "outputs": [],
   "source": [
    "\n",
    "def __hibert_filter(sig_in, time_in, fs):\n",
    "    \n",
    "    '''\n",
    "    estimating the instantaneous frequency by using the formula of Jo\n",
    "    \n",
    "    sig_in    = input signal\n",
    "    time_in   = input timeline\n",
    "    fs        = sampling frequency of digital signal\n",
    "    '''\n",
    "    \n",
    "    hil0 = hilbert(sig_in)\n",
    "    hil = np.imag(hil0)\n",
    "    \n",
    "    delta_f_full = (sig_in[1:]*np.diff(hil) - np.diff(sig_in) * hil[1:]) / (2*np.pi*(sig_in[1:]**2 + hil[1:]**2))\n",
    "\n",
    "    delta_f = np.real(delta_f_full)\n",
    "    \n",
    "    ## instert nan value for time zero (exluded bevause of np.diff() ) \n",
    "    delta_f = np.insert(delta_f, 0, np.nan, axis=0)\n",
    "\n",
    "    ## _______________________________________________________________________________\n",
    "\n",
    "    fig, ax = plt.subplots(1,1,figsize=(15,5))\n",
    "\n",
    "#    ax.plot(time_in[1:],delta_f,color='grey')\n",
    "    ax.plot(time_in,delta_f,color='grey')\n",
    "\n",
    "    x1=5\n",
    "    x2=10\n",
    "\n",
    "    ax.set_xlim(x1,x2)\n",
    "    ax.set_ylim(min(delta_f[int(x1*fs):int(x2*fs)])-0.5,max(delta_f[int(x1*fs):int(x2*fs)])+0.5)\n",
    "\n",
    "    ax.set_ylabel('$\\Delta$ f (Hz)')\n",
    "    ax.set_xlabel('Time (s)')\n",
    "    \n",
    "    plt.show();    \n",
    "    \n",
    "    ## _______________________________________________________________________________\n",
    "\n",
    "#    return time_in[1:], delta_f\n",
    "    return time_in, delta_f\n"
   ]
  },
  {
   "cell_type": "markdown",
   "metadata": {},
   "source": [
    "### Load Plotting Methods"
   ]
  },
  {
   "cell_type": "code",
   "execution_count": 21,
   "metadata": {},
   "outputs": [],
   "source": [
    "from MakeplotSignalComparison import __makeplot_signal_comparison\n",
    "from MakeplotTraceAndSpectrum import __makeplot_trace_and_spectrum"
   ]
  },
  {
   "cell_type": "code",
   "execution_count": 22,
   "metadata": {
    "code_folding": [
     1
    ]
   },
   "outputs": [],
   "source": [
    "\n",
    "def __makeplot_results(time_syn_event, syn_event, time_demod_signal, demod_signal, case, cut_edges=None):\n",
    "\n",
    "\n",
    "    def __normalize(array):\n",
    "        return array/max(abs(array))\n",
    "    \n",
    "    \n",
    "    ## check for NaN and replace them, if encountered\n",
    "    from math import isnan\n",
    "    \n",
    "    k=0\n",
    "    for i, j in enumerate(demod_signal):\n",
    "        if isnan(j):\n",
    "            demod_signal[i] = sgnc\n",
    "            k+=1\n",
    "    if k > 0:\n",
    "        print(f'\\n{k} NaN found and replaced with Sagnac frequency: {sgnc} Hz\\n')\n",
    "    \n",
    "    print(demod_signal.size)\n",
    "    if cut_edges is not None :\n",
    "        num = cut_edges * 5000 # 5000 = 1 sec\n",
    "        syn_event = syn_event[num:-num]\n",
    "        time_syn_event = time_syn_event[num:-num]\n",
    "        demod_signal = demod_signal[num:-num]\n",
    "        time_demod_signal = time_demod_signal[num:-num]\n",
    "    print(demod_signal.size)\n",
    "    \n",
    "    \n",
    "    ## interpolation of demodulated signal to match event size   \n",
    "    if time_demod_signal.size != time_syn_event:\n",
    "        print(\"interpolating ... \")\n",
    "        syn_event = np.interp(time_demod_signal, time_syn_event ,syn_event)\n",
    "    \n",
    "    ## remove offset \n",
    "    demod_signal = demod_signal - np.median(demod_signal)\n",
    "    print(\"remove mean of demodulated signal ...\")\n",
    "    \n",
    "    ## normalize signals \n",
    "    syn_event_interpol_norm = __normalize(syn_event)\n",
    "    demod_signal_norm = __normalize(demod_signal)\n",
    "    print(\"normalizing signals ...\")\n",
    "    \n",
    "    ## calulcate difference between original and demodulated   \n",
    "    difference = syn_event_interpol_norm - demod_signal_norm\n",
    "    \n",
    "    \n",
    "    print(f'\\nmaximal amplitude:')\n",
    "    print(f'\\n original: {round(max(demod_signal),10)}')\n",
    "    print(f'\\n demodulated: {round(max(syn_event_interpol),10)}')\n",
    "    print(f'\\n residual: {round(max(difference),10)}')\n",
    "\n",
    "    ## _________________________________________________________\n",
    "    ## plotting \n",
    "    fig, (ax1, ax2, ax3) = plt.subplots(3, 1, figsize=(15,5), sharex=True)\n",
    "    \n",
    "    plt.subplots_adjust(hspace=0.4)\n",
    "    \n",
    "    font=14\n",
    "    \n",
    "    ax1.plot(time_demod_signal, \n",
    "             syn_event_interpol_norm, \n",
    "             label=\"original\",\n",
    "            )\n",
    "    \n",
    "#     demod_signal-np.mean(demod_signal))/max(abs(demod_signal-np.mean(demod_signal)))\n",
    "    ax2.plot(time_demod_signal, \n",
    "             demod_signal_norm, \n",
    "             color='darkorange',\n",
    "             label='demodulated',\n",
    "            )\n",
    "    \n",
    "    ax3.plot(time_demod_signal, \n",
    "             difference, \n",
    "             color='k',\n",
    "             label='residual',\n",
    "            )\n",
    "\n",
    "    \n",
    "    ax1.tick_params(axis='both', labelsize=font)\n",
    "    ax2.tick_params(axis='both', labelsize=font)\n",
    "    ax3.tick_params(axis='both', labelsize=font)\n",
    "    \n",
    "    ax1.set_title(\"normalized signals and residual\", fontsize=font+2)\n",
    "    ax3.set_xlabel(\"Time (s)\", fontsize=font)\n",
    "    \n",
    "    ax1.legend(loc='upper right', fontsize=font-2); \n",
    "    ax2.legend(loc='upper right', fontsize=font-2); \n",
    "    ax3.legend(loc='upper right', fontsize=font-2)\n",
    "    \n",
    "    plt.show();\n",
    "    \n",
    "    return fig\n"
   ]
  },
  {
   "cell_type": "markdown",
   "metadata": {},
   "source": [
    "### Parameters Settings"
   ]
  },
  {
   "cell_type": "code",
   "execution_count": 23,
   "metadata": {},
   "outputs": [],
   "source": [
    "## dividing by\n",
    "div = 10\n",
    "\n",
    "## set Parameters -------------------------------------\n",
    "\n",
    "## assumed sagnac frequency \n",
    "sgnc = 550/div\n",
    "\n",
    "## sampling, time duration and points \n",
    "sps = 5000/div # samples per second\n",
    "T   = 1600/div # seconds\n",
    "pts = sps * T # points\n",
    "\n",
    "## choose which signal is loaded\n",
    "signal_option = 3\n"
   ]
  },
  {
   "cell_type": "markdown",
   "metadata": {},
   "source": [
    "### Load Synthetic Signal"
   ]
  },
  {
   "cell_type": "markdown",
   "metadata": {},
   "source": [
    "The modulated signal and used event traces of the modulation notebook are loaded and assigned to arrays"
   ]
  },
  {
   "cell_type": "code",
   "execution_count": 24,
   "metadata": {},
   "outputs": [],
   "source": [
    "# __load_signal_mseed(option)\n",
    "\n",
    "## load signal and assign arrays\n",
    "signal = obspy.read(f\"synthetic_signal_opt{signal_option}.mseed\")\n",
    "\n",
    "synthetic_signal = signal[0].data\n",
    "time_synthetic_signal = signal[1].data\n",
    "\n",
    "## load event and assign arrays\n",
    "event = obspy.read(f\"synthetic_event_opt{signal_option}.mseed\")\n",
    "\n",
    "synthetic_event = event[0].data\n",
    "time_synthetic_event = event[1].data"
   ]
  },
  {
   "cell_type": "code",
   "execution_count": 25,
   "metadata": {
    "scrolled": true
   },
   "outputs": [
    {
     "data": {
      "image/png": "[encoded data removed]",
      "text/plain": [
       "<Figure size 1080x360 with 2 Axes>"
      ]
     },
     "metadata": {
      "needs_background": "light"
     },
     "output_type": "display_data"
    },
    {
     "data": {
      "text/plain": [
       "(0.0, 2.0)"
      ]
     },
     "execution_count": 25,
     "metadata": {},
     "output_type": "execute_result"
    },
    {
     "data": {
      "image/png": "[encoded data removed]",
      "text/plain": [
       "<Figure size 432x288 with 1 Axes>"
      ]
     },
     "metadata": {
      "needs_background": "light"
     },
     "output_type": "display_data"
    }
   ],
   "source": [
    "__makeplot_trace_and_spectrum(synthetic_event, time_synthetic_event, fmax=1);\n",
    "\n",
    "# __makeplot_trace_and_spectrum(synthetic_signal, time_synthetic_signal, fmax=1);\n",
    "\n",
    "plt.figure()\n",
    "plt.plot(time_synthetic_signal, synthetic_signal)\n",
    "plt.xlim(0,2)\n"
   ]
  },
  {
   "cell_type": "markdown",
   "metadata": {},
   "source": [
    "### Taper"
   ]
  },
  {
   "cell_type": "code",
   "execution_count": 26,
   "metadata": {},
   "outputs": [],
   "source": [
    "taper = \"window\"\n",
    "\n",
    "if taper == \"flanks\":\n",
    "    flank_size = 300\n",
    "    synthetic_signal[:flank_size] = synthetic_signal[:flank_size] * np.linspace(0,max(synthetic_signal),flank_size)\n",
    "    synthetic_signal[-flank_size:] = synthetic_signal[-flank_size:] * np.linspace(max(synthetic_signal),0,flank_size)\n",
    "\n",
    "if taper == \"window\":\n",
    "    synthetic_signal = synthetic_signal * np.hanning(synthetic_signal.size)\n",
    "#     synthetic_signal = synthetic_signal * np.kaiser(synthetic_signal.size, 1)\n"
   ]
  },
  {
   "cell_type": "code",
   "execution_count": 27,
   "metadata": {
    "scrolled": true
   },
   "outputs": [
    {
     "data": {
      "image/png": "[encoded data removed]",
      "text/plain": [
       "<Figure size 1080x360 with 2 Axes>"
      ]
     },
     "metadata": {
      "needs_background": "light"
     },
     "output_type": "display_data"
    }
   ],
   "source": [
    "__makeplot_trace_and_spectrum(synthetic_signal, time_synthetic_signal, fmax=0.5*sps);"
   ]
  },
  {
   "cell_type": "markdown",
   "metadata": {},
   "source": [
    "### Interpolation - Double Sample Rate"
   ]
  },
  {
   "cell_type": "code",
   "execution_count": null,
   "metadata": {},
   "outputs": [],
   "source": [
    "interpolation_option = 2"
   ]
  },
  {
   "cell_type": "markdown",
   "metadata": {},
   "source": [
    "Option 1 with interp() method of numpy"
   ]
  },
  {
   "cell_type": "code",
   "execution_count": null,
   "metadata": {},
   "outputs": [],
   "source": [
    "if interpolation_option == 1:\n",
    "\n",
    "    new_time = np.linspace(0, T, time_synthetic_signal.size*2-1)\n",
    "\n",
    "    synthetic_signal = np.interp(new_time, time_synthetic_signal, synthetic_signal)\n",
    "    time_synthetic_signal = np.interp(new_time, time_synthetic_signal, time_synthetic_signal)\n",
    "\n",
    "    synthetic_event = np.interp(new_time, time_synthetic_event, synthetic_event)\n",
    "    time_synthetic_event = np.interp(new_time, time_synthetic_event, time_synthetic_event)\n"
   ]
  },
  {
   "cell_type": "markdown",
   "metadata": {},
   "source": [
    "Option 2 with filter "
   ]
  },
  {
   "cell_type": "code",
   "execution_count": null,
   "metadata": {},
   "outputs": [],
   "source": [
    "if interpolation_option == 2:\n",
    "\n",
    "    synthetic_signal, time_synthetic_signal = __interpolation_with_filter(time_synthetic_signal,\n",
    "                                                                          synthetic_signal,\n",
    "                                                                          factor=2,\n",
    "                                                                         )\n",
    "\n",
    "    synthetic_event, time_synthetic_event = __interpolation_with_filter(time_synthetic_event,\n",
    "                                                                        synthetic_event,\n",
    "                                                                        factor=2,\n",
    "                                                                       )"
   ]
  },
  {
   "cell_type": "code",
   "execution_count": null,
   "metadata": {},
   "outputs": [],
   "source": [
    "__makeplot_trace_and_spectrum(synthetic_signal, time_synthetic_signal, fmax=0.5*sps);"
   ]
  },
  {
   "cell_type": "markdown",
   "metadata": {},
   "source": [
    "## Demodulation"
   ]
  },
  {
   "cell_type": "markdown",
   "metadata": {},
   "source": [
    "### Instantaneous Frequency with Sine Fitting"
   ]
  },
  {
   "cell_type": "code",
   "execution_count": null,
   "metadata": {},
   "outputs": [],
   "source": [
    "option = 1\n",
    "\n",
    "samples_to_fit = 10\n",
    "shift_samples = 5\n",
    "\n",
    "tclock1 = time.time()\n",
    "\n",
    "time_demod_signal, demod_signal = __insta_freq_sinus_fit(time_synthetic_signal,\n",
    "                                                         synthetic_signal,\n",
    "                                                         samples_to_fit,\n",
    "                                                         shift_samples,\n",
    "                                                         sgnc,\n",
    "                                                         );\n",
    "\n",
    "\n",
    "tclock2 = time.time()\n",
    "\n",
    "print(f\"\\n fitting every {shift_samples} samples over {samples_to_fit} samples\")\n",
    "\n",
    "__echo_performance(tclock1, tclock2)\n",
    "\n",
    "print('\\n_____________________________')\n",
    "\n",
    "\n",
    "## _________________________________________\n",
    "## Plotting\n",
    "\n",
    "# __makeplot_results(time_synthetic_event,\n",
    "#                    synthetic_event,\n",
    "#                    time_demod_signal,\n",
    "#                    demod_signal,\n",
    "#                    case = option,\n",
    "#                    cut_edges = 5,\n",
    "#                   );"
   ]
  },
  {
   "cell_type": "markdown",
   "metadata": {},
   "source": [
    "### Instantaneous Frequency with Hilbert "
   ]
  },
  {
   "cell_type": "code",
   "execution_count": null,
   "metadata": {},
   "outputs": [],
   "source": [
    "option = 2\n",
    "\n",
    "tclock1 = time.time()\n",
    "\n",
    "time_demod_signal, demod_signal = __insta_freq_hilbert(synthetic_signal,\n",
    "                                                       time_synthetic_signal,\n",
    "                                                       sps,\n",
    "                                                       );\n",
    "\n",
    "\n",
    "tclock2 = time.time()\n",
    "\n",
    "\n",
    "__echo_performance(tclock1, tclock2)\n",
    "\n",
    "print('\\n_____________________________')\n",
    "\n",
    "## _________________________________________\n",
    "## Plotting\n",
    "\n",
    "# __makeplot_results(time_synthetic_event,\n",
    "#                    synthetic_event,\n",
    "#                    time_demod_signal,\n",
    "#                    demod_signal,\n",
    "#                    case = option,\n",
    "#                    cut_edges = 5,\n",
    "#                   );\n",
    "\n"
   ]
  },
  {
   "cell_type": "code",
   "execution_count": null,
   "metadata": {
    "code_folding": [
     1
    ]
   },
   "outputs": [],
   "source": [
    "\n",
    "def __makeplot_demodulation_quality(timeline, modeltrace_norm, demod_signal_norm):\n",
    "    \n",
    "    residual_pre_opt  = modeltrace_norm - demod_signal_norm\n",
    "    \n",
    "    residual_post_opt, demod_signal_opt  = __minimize_residual(demod_signal_norm, modeltrace_norm)\n",
    "    \n",
    "    cross_corr = correlate(demod_signal_norm, modeltrace_norm, mode='same')\n",
    "    cross_corr_lags = np.arange(-cross_corr.size//2,cross_corr.size//2,1)\n",
    "\n",
    "    \n",
    "    print(f'cutoff: {cutoff} --> residual median: {np.median(residual_post_opt)}')\n",
    "    \n",
    "    \n",
    "    ## ________________________________________________\n",
    "    ## plotting\n",
    "    \n",
    "    fig, ax = plt.subplots(3, 1, figsize=(15,8))\n",
    "\n",
    "    font = 13\n",
    "    \n",
    "    plt.subplots_adjust(hspace = 0.4)\n",
    "    \n",
    "    # ---------------\n",
    "    ax[0].plot(timeline, modeltrace_norm, color='darkorange')\n",
    "    ax[0].plot(timeline, demod_signal_norm)\n",
    "    ax[0].plot(timeline, demod_signal_opt, color='darkblue', linestyle='--')\n",
    "\n",
    "    ax[0].set_xlabel(\"time (s)\", fontsize=font)\n",
    "    ax[0].tick_params(axis='both', labelsize=font-2)\n",
    "\n",
    "    \n",
    "    # ---------------\n",
    "    ax[1].plot(timeline, np.abs(residual_pre_opt), color='k')\n",
    "    ax[1].plot(timeline, np.abs(residual_post_opt), color='r')\n",
    "    \n",
    "    ax[1].set_ylim(0,1)\n",
    "    ax[1].set_xlabel(\"time (s)\", fontsize=font)\n",
    "    ax[1].tick_params(axis='both', labelsize=font-2)\n",
    "    \n",
    "    # ---------------\n",
    "    ax[2].axvline(0.0, color=\"grey\")\n",
    "    ax[2].plot(cross_corr_lags*(timeline[1]), cross_corr,'k')\n",
    "    \n",
    "    ax[2].set_xlabel('lag (s)', fontsize=font)\n",
    "    ax[2].tick_params(axis='both', labelsize=font-2)\n",
    "\n",
    "    \n",
    "    plt.show();\n",
    "    \n",
    "    return fig\n"
   ]
  },
  {
   "cell_type": "code",
   "execution_count": null,
   "metadata": {},
   "outputs": [],
   "source": [
    "time_demod_signal, demod_signal = __insta_freq_hilbert(synthetic_signal, \n",
    "                                                       time_synthetic_signal, \n",
    "                                                       sps,\n",
    "                                                       );\n"
   ]
  },
  {
   "cell_type": "code",
   "execution_count": 1,
   "metadata": {},
   "outputs": [
    {
     "ename": "NameError",
     "evalue": "name 'demod_signal' is not defined",
     "output_type": "error",
     "traceback": [
      "\u001b[0;31m---------------------------------------------------------------------------\u001b[0m",
      "\u001b[0;31mNameError\u001b[0m                                 Traceback (most recent call last)",
      "\u001b[0;32m<ipython-input-1-293b4332d917>\u001b[0m in \u001b[0;36m<module>\u001b[0;34m\u001b[0m\n\u001b[1;32m      1\u001b[0m \u001b[0;31m## reduce carrier frequency\u001b[0m\u001b[0;34m\u001b[0m\u001b[0;34m\u001b[0m\u001b[0;34m\u001b[0m\u001b[0m\n\u001b[1;32m      2\u001b[0m \u001b[0;31m# demod_signal = demod_signal - sgnc\u001b[0m\u001b[0;34m\u001b[0m\u001b[0;34m\u001b[0m\u001b[0;34m\u001b[0m\u001b[0m\n\u001b[0;32m----> 3\u001b[0;31m \u001b[0mdemod_signal\u001b[0m \u001b[0;34m=\u001b[0m \u001b[0mdemod_signal\u001b[0m \u001b[0;34m-\u001b[0m \u001b[0mnp\u001b[0m\u001b[0;34m.\u001b[0m\u001b[0mmedian\u001b[0m\u001b[0;34m(\u001b[0m\u001b[0mdemod_signal\u001b[0m\u001b[0;34m)\u001b[0m\u001b[0;34m\u001b[0m\u001b[0;34m\u001b[0m\u001b[0m\n\u001b[0m\u001b[1;32m      4\u001b[0m \u001b[0;34m\u001b[0m\u001b[0m\n\u001b[1;32m      5\u001b[0m \u001b[0mcutoff\u001b[0m \u001b[0;34m=\u001b[0m \u001b[0;36m100\u001b[0m\u001b[0;34m\u001b[0m\u001b[0;34m\u001b[0m\u001b[0m\n",
      "\u001b[0;31mNameError\u001b[0m: name 'demod_signal' is not defined"
     ]
    }
   ],
   "source": [
    "## reduce carrier frequency\n",
    "# demod_signal = demod_signal - sgnc\n",
    "demod_signal = demod_signal - np.median(demod_signal)\n",
    "\n",
    "cutoff = 100\n",
    "demod_signal[:cutoff] = demod_signal[cutoff]\n",
    "demod_signal[-cutoff:] = demod_signal[-cutoff]\n",
    "\n",
    "\n",
    "## normalized demodulated and orignial signal\n",
    "demod_signal_norm = __normalize(demod_signal)\n",
    "synthetic_event_norm = __normalize(synthetic_event)\n",
    "\n",
    "\n",
    "# residual_pre_opt  = modeltrace_norm-demod_signal_norm\n",
    "\n",
    "# cross_corr = correlate(demod_signal, modeltrace, mode='same')\n",
    "# cross_corr_lags = np.arange(-cross_corr.size//2,cross_corr.size//2,1)\n",
    "\n",
    "# residual_post_opt, demod_signal_opt  = __minimize_residual(demod_signal_norm, modeltrace_norm)\n"
   ]
  },
  {
   "cell_type": "code",
   "execution_count": 2,
   "metadata": {},
   "outputs": [
    {
     "ename": "NameError",
     "evalue": "name '__makeplot_demodulation_quality' is not defined",
     "output_type": "error",
     "traceback": [
      "\u001b[0;31m---------------------------------------------------------------------------\u001b[0m",
      "\u001b[0;31mNameError\u001b[0m                                 Traceback (most recent call last)",
      "\u001b[0;32m<ipython-input-2-112c4bc59e69>\u001b[0m in \u001b[0;36m<module>\u001b[0;34m\u001b[0m\n\u001b[0;32m----> 1\u001b[0;31m \u001b[0m__makeplot_demodulation_quality\u001b[0m\u001b[0;34m(\u001b[0m\u001b[0mtime_synthetic_signal\u001b[0m\u001b[0;34m,\u001b[0m \u001b[0msynthetic_event_norm\u001b[0m\u001b[0;34m,\u001b[0m \u001b[0mdemod_signal_norm\u001b[0m\u001b[0;34m)\u001b[0m\u001b[0;34m;\u001b[0m\u001b[0;34m\u001b[0m\u001b[0;34m\u001b[0m\u001b[0m\n\u001b[0m",
      "\u001b[0;31mNameError\u001b[0m: name '__makeplot_demodulation_quality' is not defined"
     ]
    }
   ],
   "source": [
    "__makeplot_demodulation_quality(time_synthetic_signal, synthetic_event_norm, demod_signal_norm);"
   ]
  },
  {
   "cell_type": "markdown",
   "metadata": {},
   "source": [
    "#### Instantaneous Frequency with Hilbert Filter"
   ]
  },
  {
   "cell_type": "code",
   "execution_count": null,
   "metadata": {
    "code_folding": []
   },
   "outputs": [],
   "source": [
    "# _____________________________________________________________________________________________________________\n",
    "tt_demod, sig_demod = __hibert_filter(sig_dig_res,tt_res,fs_digi) ; option = 'option3'\n",
    "\n",
    "__makeplot_results(time_sythetic_event, synthetic_event, tt_demod, sig_demod);\n"
   ]
  },
  {
   "cell_type": "markdown",
   "metadata": {},
   "source": [
    "### Other"
   ]
  },
  {
   "cell_type": "code",
   "execution_count": null,
   "metadata": {},
   "outputs": [],
   "source": []
  }
 ],
 "metadata": {
  "kernelspec": {
   "display_name": "Python 3 (ipykernel)",
   "language": "python",
   "name": "python3"
  },
  "language_info": {
   "codemirror_mode": {
    "name": "ipython",
    "version": 3
   },
   "file_extension": ".py",
   "mimetype": "text/x-python",
   "name": "python",
   "nbconvert_exporter": "python",
   "pygments_lexer": "ipython3",
   "version": "3.10.12"
  }
 },
 "nbformat": 4,
 "nbformat_minor": 4
}
