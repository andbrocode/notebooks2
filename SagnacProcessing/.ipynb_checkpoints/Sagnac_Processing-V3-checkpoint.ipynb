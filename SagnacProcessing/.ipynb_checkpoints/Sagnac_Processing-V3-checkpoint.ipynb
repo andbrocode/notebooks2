{
 "cells": [
  {
   "cell_type": "markdown",
   "metadata": {},
   "source": [
    "<div style='background-image: url(\"https://www.geophysik.uni-muenchen.de/ROMY/theme/images/ringlaser_wideformat.jpg\") ; padding: 0px ; background-size: cover ; border-radius: 15px ; height: 250px; background-position: 0% 80%'>\n",
    "    <div style=\"float: left ; margin: 50px ; padding: 20px ; background: rgba(255 , 255 , 255 , 0.9) ; width: 35% ; height: 150px\">\n",
    "        <div style=\"position: relative ; top: 50%;  transform: translatey(-50%)\">\n",
    "            <div style=\"font-size: xx-large ; font-weight: 900 ; color: rgba(0 , 0 , 0 , 0.9) ; line-height: 100%\"> <br>ROMY - <br><br>  Synthetic Sagnac Processing </div>\n",
    "            <div style=\"font-size: large ; padding-top: 20px ; color: rgba(0 , 0 , 0 , 0.7)\"></div>\n",
    "        </div>\n",
    "    </div>"
   ]
  },
  {
   "cell_type": "markdown",
   "metadata": {
    "ExecuteTime": {
     "end_time": "2021-01-29T15:14:27.795046Z",
     "start_time": "2021-01-29T15:14:27.791664Z"
    }
   },
   "source": [
    "## Import "
   ]
  },
  {
   "cell_type": "markdown",
   "metadata": {
    "ExecuteTime": {
     "end_time": "2021-01-29T15:15:30.279221Z",
     "start_time": "2021-01-29T15:15:30.275801Z"
    }
   },
   "source": [
    "### Official Libraries"
   ]
  },
  {
   "cell_type": "code",
   "execution_count": 1,
   "metadata": {
    "ExecuteTime": {
     "end_time": "2021-03-14T21:43:39.819149Z",
     "start_time": "2021-03-14T21:43:39.190945Z"
    }
   },
   "outputs": [],
   "source": [
    "import numpy as np \n",
    "import matplotlib.pyplot as plt \n",
    "import time \n",
    "\n",
    "from scipy.signal import resample, hilbert, correlate, decimate, butter, spectrogram, sosfilt, filtfilt\n",
    "from tqdm import tqdm\n",
    "from obspy import UTCDateTime, read, read_inventory, Trace\n",
    "import obspy"
   ]
  },
  {
   "cell_type": "markdown",
   "metadata": {},
   "source": [
    "### Own Processing Methods"
   ]
  },
  {
   "cell_type": "code",
   "execution_count": 2,
   "metadata": {
    "ExecuteTime": {
     "end_time": "2021-03-14T21:43:39.823773Z",
     "start_time": "2021-03-14T21:43:39.820984Z"
    }
   },
   "outputs": [],
   "source": [
    "import sys\n",
    "sys.path.insert(0, 'submodules')"
   ]
  },
  {
   "cell_type": "code",
   "execution_count": 3,
   "metadata": {
    "ExecuteTime": {
     "end_time": "2021-03-14T21:43:39.835594Z",
     "start_time": "2021-03-14T21:43:39.826117Z"
    }
   },
   "outputs": [],
   "source": [
    "from EchoPerformance import __echo_performance\n",
    "from CreateSyntheticEventV2 import __create_synthetic_event_v2\n",
    "from MakeplotDemodulationQuality import __makeplot_demodulation_quality\n",
    "from MinimizeResidual import __minimize_residual\n",
    "from CreateLinearChirp import __create_linear_chirp\n",
    "from Tapering import __tapering\n",
    "from InstaFreqHilbert import __insta_freq_hilbert\n",
    "from Normalize import __normalize\n",
    "from WriteToMseed import __write_to_mseed\n",
    "from LoadMseed import __load_mseed\n",
    "from Modulation import __modulation\n",
    "from QuerrySeismoData import __querry_seismo_data\n",
    "from RingLaser import RingLaser\n"
   ]
  },
  {
   "cell_type": "code",
   "execution_count": 4,
   "metadata": {
    "ExecuteTime": {
     "end_time": "2021-03-14T21:43:39.838447Z",
     "start_time": "2021-03-14T21:43:39.836555Z"
    },
    "code_folding": [
     0
    ]
   },
   "outputs": [],
   "source": [
    "# def third_order_derive(x, pos=\"MIDDLE\"):\n",
    "\n",
    "#     coeff = np.zeros((5,5))\n",
    "#     norm = np.array([0,0])\n",
    "#     sum = 0.\n",
    "\n",
    "#     norm[0] = 12.;\n",
    "#     norm[1] = 84.;\n",
    "\n",
    "#     coeff[0][0] = -125.;\n",
    "#     coeff[0][1] =  136.;\n",
    "#     coeff[0][2] =   48.;\n",
    "#     coeff[0][3] =  -88.;\n",
    "#     coeff[0][4] =   29.;\n",
    "#     coeff[1][0] =  -38.;\n",
    "#     coeff[1][1] =   -2.;\n",
    "#     coeff[1][2] =   24.;\n",
    "#     coeff[1][3] =   26.;\n",
    "#     coeff[1][4] =  -10.;\n",
    "#     coeff[2][0] =    1.;\n",
    "#     coeff[2][1] =   -8.;\n",
    "#     coeff[2][2] =    0.;\n",
    "#     coeff[2][3] =    8.;\n",
    "#     coeff[2][4] =   -1.;\n",
    "#     coeff[3][0] =   10.;\n",
    "#     coeff[3][1] =  -26.;\n",
    "#     coeff[3][2] =  -24.;\n",
    "#     coeff[3][3] =    2.;\n",
    "#     coeff[3][4] =   38.;\n",
    "#     coeff[4][0] =  -29.;\n",
    "#     coeff[4][1] =   88.;\n",
    "#     coeff[4][2] =  -48.;\n",
    "#     coeff[4][3] = -136.;\n",
    "#     coeff[4][4] =  125.;\n",
    "\n",
    "#     for i in range(0, 5):\n",
    "#         sum += coeff[pos][i]*x[i];\n",
    "    \n",
    "#     if pos == 'MIDDLE':\n",
    "#         sum /= norm[0];\n",
    "    \n",
    "#     else:\n",
    "#         sum /= norm[1];\n",
    "\n",
    "\n",
    "#     return sum"
   ]
  },
  {
   "cell_type": "code",
   "execution_count": 5,
   "metadata": {
    "ExecuteTime": {
     "end_time": "2021-03-14T21:43:39.847307Z",
     "start_time": "2021-03-14T21:43:39.843494Z"
    }
   },
   "outputs": [],
   "source": [
    "from RingLaser import RingLaser\n",
    "\n",
    "## define G-Ring\n",
    "G = RingLaser(side=4., form=\"square\", wl=632.8e-9, lat=49.16)\n",
    "\n",
    "## define ROMY Z-Ring\n",
    "ROMY_Z = RingLaser(side=11., form=\"triangle\", wl=632.8e-9, lat=49.16)\n"
   ]
  },
  {
   "cell_type": "markdown",
   "metadata": {},
   "source": [
    "### Own Plotting Methods"
   ]
  },
  {
   "cell_type": "code",
   "execution_count": 6,
   "metadata": {
    "ExecuteTime": {
     "end_time": "2021-03-14T21:43:39.856647Z",
     "start_time": "2021-03-14T21:43:39.850732Z"
    }
   },
   "outputs": [],
   "source": [
    "from MakeplotTraceAndSpectrum import __makeplot_trace_and_spectrum\n",
    "from MakeplotTraceAndPSD import __makeplot_trace_and_psd\n",
    "from MakeplotModulatedSignal import __makeplot_modulated_signal"
   ]
  },
  {
   "cell_type": "markdown",
   "metadata": {},
   "source": [
    "## Configurations"
   ]
  },
  {
   "cell_type": "code",
   "execution_count": 7,
   "metadata": {
    "ExecuteTime": {
     "end_time": "2021-03-14T21:43:39.863803Z",
     "start_time": "2021-03-14T21:43:39.858717Z"
    }
   },
   "outputs": [],
   "source": [
    "\n",
    "\n",
    "T = 1000\n",
    "\n",
    "sps = 5000\n",
    "\n",
    "sgnc = ROMY_Z.get_sagnac_frequency()\n",
    "\n",
    "# f_lower, f_upper = 0.001, 0.1\n",
    "\n",
    "# frequency_deviation = 0.5\n",
    "\n",
    "# modulation_index = frequency_deviation/f_upper\n",
    "\n",
    "modulation_index = ROMY_Z.get_scale_factor()\n",
    "\n",
    "modulation_scheme = 3\n",
    "\n",
    "\n",
    "taper_type = \"window\"\n",
    "taper_percent = 0.2\n",
    "\n",
    "\n",
    "signal = 'real'  ## 'synthetic'  or 'real'\n",
    "\n",
    "upsampling = False\n",
    "bandpass = False\n",
    "normalize = True\n",
    "remove_median = True"
   ]
  },
  {
   "cell_type": "markdown",
   "metadata": {},
   "source": [
    "## Read synthetic"
   ]
  },
  {
   "cell_type": "code",
   "execution_count": 9,
   "metadata": {
    "ExecuteTime": {
     "end_time": "2021-03-14T21:46:21.068338Z",
     "start_time": "2021-03-14T21:46:21.062826Z"
    },
    "code_folding": []
   },
   "outputs": [],
   "source": [
    "import pickle\n",
    "\n",
    "if signal == 'synthetic':\n",
    "\n",
    "    name = 'model_lowperiod2'  # 'model_regional' (greece), 'model_lowperiod' (kermadec <0.1)\n",
    "    \n",
    "    ifile = open(f'/home/andbro/notebooks/Sagnac_processing/data/{name}.syn',\"rb\")\n",
    "\n",
    "    synthetic_signal = pickle.load(ifile)\n",
    "    timeline = np.arange(0, T+1/sps, 1/sps)\n",
    "    \n",
    "    ifile = open(f'/home/andbro/notebooks/Sagnac_processing/data/{name}.mod',\"rb\")\n",
    "        \n",
    "    modeltrace = pickle.load(ifile)\n",
    "    time_modeltrace = np.arange(0, T+1/sps, 1/sps)\n",
    "    \n",
    "    synthetic_signal.size, timeline.size, modeltrace.size, time_modeltrace.size"
   ]
  },
  {
   "cell_type": "markdown",
   "metadata": {},
   "source": [
    "## Read raw real"
   ]
  },
  {
   "cell_type": "code",
   "execution_count": 10,
   "metadata": {
    "ExecuteTime": {
     "end_time": "2021-03-14T21:46:21.947693Z",
     "start_time": "2021-03-14T21:46:21.941628Z"
    }
   },
   "outputs": [],
   "source": [
    "from andbro__querrySeismoData import __querrySeismoData\n",
    "\n",
    "tbeg = UTCDateTime(\"2021-03-04 18:35\")\n",
    "tend = UTCDateTime(\"2021-03-04 18:35\")+T\n"
   ]
  },
  {
   "cell_type": "code",
   "execution_count": 11,
   "metadata": {
    "ExecuteTime": {
     "end_time": "2021-03-14T21:46:22.373498Z",
     "start_time": "2021-03-14T21:46:22.139498Z"
    },
    "code_folding": []
   },
   "outputs": [
    {
     "name": "stdout",
     "output_type": "stream",
     "text": [
      "1 Trace(s) in Stream:\n",
      "BW.DROMY..FJZ | 2021-03-04T18:35:00.000000Z - 2021-03-04T18:51:40.000000Z | 5000.0 Hz, 5000001 samples\n"
     ]
    }
   ],
   "source": [
    "if signal == 'real':\n",
    "    \n",
    "    # st = read('/home/andbro/Documents/ROMY/data/BW.DROMY..FJZ.D.2021.049', \n",
    "    #          starttime=UTCDateTime(\"2021-02-18 15:00\"),\n",
    "    #          endtime=UTCDateTime(\"2021-02-18 15:00\")+T,\n",
    "    #          )\n",
    "\n",
    "    st = obspy.read('/home/andbro/notebooks/Sagnac_processing/data/event.mseed')\n",
    "\n",
    "    # st, inv = __querrySeismoData(    \n",
    "    #                             seed_id='BW.DROMY..FJZ',\n",
    "    #                             starttime=tbeg,\n",
    "    #                             endtime=tend,\n",
    "    #                             where=\"george\",\n",
    "    #                             path=None,\n",
    "    #                             restitute=True,\n",
    "    #                             detail=None,\n",
    "    #                             )\n",
    "\n",
    "    # st.write(\"/home/andbro/notebooks/Sagnac_processing/data/event.mseed\", format=\"MSEED\")\n",
    "\n",
    "    print(st)\n",
    "    # st.taper(0.01)\n",
    "\n",
    "    ## define synthetic signal\n",
    "    synthetic_signal = st[0].data; del st\n",
    "\n",
    "    ## normalized signal\n",
    "    __normalize()\n",
    "    \n",
    "    ## define time axis for synthetic axis\n",
    "    timeline = np.linspace(0, T, len(synthetic_signal))\n",
    "    "
   ]
  },
  {
   "cell_type": "code",
   "execution_count": 12,
   "metadata": {
    "ExecuteTime": {
     "end_time": "2021-03-14T21:46:24.806680Z",
     "start_time": "2021-03-14T21:46:22.566291Z"
    },
    "code_folding": [
     0
    ]
   },
   "outputs": [
    {
     "name": "stdout",
     "output_type": "stream",
     "text": [
      "1 Trace(s) in Stream:\n",
      "BW.ROMY.10.BJZ | 2021-03-04T18:34:59.999999Z - 2021-03-04T18:51:41.055599Z | 5000.0 Hz, 5005279 samples\n"
     ]
    }
   ],
   "source": [
    "if signal == 'real':\n",
    "    \n",
    "    # trace = read('/home/andbro/Documents/ROMY/data/ROMY_BJZ_2021-02-18.mseed',\n",
    "    #             starttime= UTCDateTime(\"2021-02-18 14:59\"), \n",
    "    #             endtime=UTCDateTime(\"2021-02-18 15:00\")+T+1\n",
    "    #             )\n",
    "\n",
    "    trace, inv = __querrySeismoData(    \n",
    "                                seed_id='BW.ROMY.10.BJZ',\n",
    "                                starttime=tbeg-1,\n",
    "                                endtime=tend+1,\n",
    "                                where=\"george\",\n",
    "                                path=None,\n",
    "                                restitute=True,\n",
    "                                detail=None,\n",
    "                                 )\n",
    "\n",
    "    ## resample to sps and remove mean\n",
    "    trace.resample(sps)\n",
    "    trace.detrend('demean')\n",
    "\n",
    "    ## adjust length to match signal\n",
    "    trace.trim(starttime=tbeg, endtime=tend+T)\n",
    "    print(trace)\n",
    "\n",
    "    ## define model trace\n",
    "    modeltrace = trace[0].data; del trace\n",
    "\n",
    "    ## define time axis for model trace\n",
    "    time_modeltrace = np.linspace(0, T, len(modeltrace))\n",
    "\n",
    "    "
   ]
  },
  {
   "cell_type": "code",
   "execution_count": 13,
   "metadata": {
    "ExecuteTime": {
     "end_time": "2021-03-14T21:46:27.091628Z",
     "start_time": "2021-03-14T21:46:24.809568Z"
    }
   },
   "outputs": [
    {
     "data": {
      "image/png": "[encoded data removed]",
      "text/plain": [
       "<Figure size 1080x360 with 2 Axes>"
      ]
     },
     "metadata": {
      "needs_background": "light"
     },
     "output_type": "display_data"
    }
   ],
   "source": [
    "__makeplot_trace_and_spectrum(modeltrace, time_modeltrace, fmax=1.0); "
   ]
  },
  {
   "cell_type": "markdown",
   "metadata": {},
   "source": [
    "## Remove Median"
   ]
  },
  {
   "cell_type": "markdown",
   "metadata": {},
   "source": [
    "Median is calulcated and removed since not relevant for instanenous frequency. "
   ]
  },
  {
   "cell_type": "code",
   "execution_count": 14,
   "metadata": {
    "ExecuteTime": {
     "end_time": "2021-03-14T21:46:31.904204Z",
     "start_time": "2021-03-14T21:46:31.829471Z"
    }
   },
   "outputs": [],
   "source": [
    "if remove_median:\n",
    "    med = np.median(synthetic_signal)\n",
    "    synthetic_signal= synthetic_signal - np.median(synthetic_signal)\n"
   ]
  },
  {
   "cell_type": "code",
   "execution_count": 15,
   "metadata": {
    "ExecuteTime": {
     "end_time": "2021-03-14T21:46:33.230009Z",
     "start_time": "2021-03-14T21:46:32.453689Z"
    }
   },
   "outputs": [
    {
     "name": "stdout",
     "output_type": "stream",
     "text": [
      "-553.35 830647219040.0\n"
     ]
    },
    {
     "data": {
      "image/png": "[encoded data removed]",
      "text/plain": [
       "<Figure size 1080x360 with 2 Axes>"
      ]
     },
     "metadata": {
      "needs_background": "light"
     },
     "output_type": "display_data"
    }
   ],
   "source": [
    "__makeplot_trace_and_psd(synthetic_signal, timeline, fmax=0.5*sps, t1=50, t2=50.02); "
   ]
  },
  {
   "cell_type": "markdown",
   "metadata": {},
   "source": [
    "## Upsampling"
   ]
  },
  {
   "cell_type": "code",
   "execution_count": 16,
   "metadata": {
    "ExecuteTime": {
     "end_time": "2021-03-14T21:46:48.586099Z",
     "start_time": "2021-03-14T21:46:48.582589Z"
    },
    "code_folding": [
     1
    ]
   },
   "outputs": [],
   "source": [
    "\n",
    "# def __resample_digital_signal(signal_in, fs, sampling_factor, taper=False):\n",
    "\n",
    "#     ''' \n",
    "#     up-samping of the simulated digital signal \n",
    "    \n",
    "#     sig_in   = input signal\n",
    "#     fs       = sampling frequency of digital signal\n",
    "#     fac      = sampling factor (2 = double)\n",
    "#     taper    = True/False , to either taper or not taper output\n",
    "    \n",
    "#     '''\n",
    "    \n",
    "\n",
    "# #     def butter_bandpass(lowcut, highcut, fs, order=5):\n",
    "# #         nyq = 0.5 * fs\n",
    "# #         low = lowcut / nyq\n",
    "# #         high = highcut / nyq\n",
    "# #         b, a = butter(order, [low, high], btype='band')\n",
    "# #         return b, a\n",
    "\n",
    "\n",
    "# #     def butter_bandpass_filter(data, lowcut, highcut, fs, order=5):\n",
    "# #         b, a = butter_bandpass(lowcut, highcut, fs, order=order)\n",
    "# #         y = lfilter(b, a, data)\n",
    "# #         return y\n",
    "\n",
    "\n",
    "#     def resampling(sig_in, factor, fs, case):\n",
    "\n",
    "#         if case == 1:\n",
    "#             sig_out = resample(sig_in, len(sig_in)*factor)\n",
    "\n",
    "#         elif case == 2:\n",
    "#             sig = list(sig_in); i=0\n",
    "\n",
    "#             while i < len(sig):\n",
    "#                 sig.insert(i, 0.0)\n",
    "#                 i += 2\n",
    "#             sig_out = np.array(sig)\n",
    "\n",
    "#         t_out = np.arange(0,len(sig_in)/fs,1/(fs*factor))\n",
    "\n",
    "#         return  (sig_out, t_out)\n",
    "\n",
    "\n",
    "\n",
    "#     #sig_dig_fil_res, tt_res = resampling(sig_dig_fil,2,fs,2)\n",
    "#     signal_out, time_out = resampling(signal_in, sampling_factor, fs, case=1)\n",
    "\n",
    "#     if taper:\n",
    "#         signal_out = np.hanning(signal_out.size) * sig_nal_out\n",
    "#         #signal_out = butter_bandpass_filter(sig_dig_res_tap,0.1,100,fs,4)\n",
    "   \n",
    "    \n",
    "#     return signal_out, time_out\n",
    "    "
   ]
  },
  {
   "cell_type": "markdown",
   "metadata": {},
   "source": [
    "Upsampling using a scipy method called 'resample()' which is based on the FFT\n",
    "\n",
    "https://docs.scipy.org/doc/scipy/reference/generated/scipy.signal.resample.html#scipy.signal.resample"
   ]
  },
  {
   "cell_type": "code",
   "execution_count": 17,
   "metadata": {
    "ExecuteTime": {
     "end_time": "2021-03-14T21:46:49.331509Z",
     "start_time": "2021-03-14T21:46:49.326460Z"
    },
    "code_folding": [
     1
    ]
   },
   "outputs": [],
   "source": [
    "\n",
    "def __interpolation_fft(trace, time, T, sps):\n",
    "    \n",
    "    from scipy.signal import resample\n",
    "    from numpy import arange\n",
    "    \n",
    "    ## interpolate modeltrace to sps \n",
    "    l1 = trace.size\n",
    "    \n",
    "    trace = resample(trace, int(T*sps+1)) ## using FFT\n",
    "#     time = resample(time, int(T*sps+1))    \n",
    "    \n",
    "    l2 = trace.size\n",
    "    \n",
    "    print(f\"modeltrace is interpolated: {l1} samples --> {l2} samples\")\n",
    "#     print(f\"time_modeltrace is interpolated: {l1} samples --> {l2} samples\")\n",
    "\n",
    "    time = np.arange(0, T+1/sps, 1/sps)\n",
    "\n",
    "    return trace, time\n"
   ]
  },
  {
   "cell_type": "markdown",
   "metadata": {},
   "source": [
    "Upsampling using a scipy method called 'resample_poly()' based on a fir filter. up / down = sampling rate, where down is estimated. \n",
    "\n",
    "https://docs.scipy.org/doc/scipy/reference/generated/scipy.signal.resample_poly.html"
   ]
  },
  {
   "cell_type": "code",
   "execution_count": 18,
   "metadata": {
    "ExecuteTime": {
     "end_time": "2021-03-14T21:46:50.443161Z",
     "start_time": "2021-03-14T21:46:50.437317Z"
    },
    "code_folding": [
     1
    ]
   },
   "outputs": [],
   "source": [
    "\n",
    "def __upsample_FIR(signal_in, sps, T, sampling_factor=2):\n",
    "    \n",
    "    from scipy.signal import upfirdn, resample_poly\n",
    "    \n",
    "    lower = 50\n",
    "    upper = sampling_factor*lower\n",
    "    \n",
    "    signal_out = resample_poly(signal_in, upper, lower, padtype=\"line\") ## using FIR filter\n",
    "    \n",
    "    ## adjsut sampling frequency with sampling factor\n",
    "    sps_new = int(sps*sampling_factor)\n",
    "    \n",
    "    ## adjust time axis\n",
    "    time_out = np.arange(0, T+1/sps_new, 1/sps_new)\n",
    "    \n",
    "    return signal_out[:-1], time_out\n"
   ]
  },
  {
   "cell_type": "code",
   "execution_count": 19,
   "metadata": {
    "ExecuteTime": {
     "end_time": "2021-03-14T21:46:50.634996Z",
     "start_time": "2021-03-14T21:46:50.631342Z"
    },
    "code_folding": []
   },
   "outputs": [],
   "source": [
    "if upsampling:\n",
    "    \n",
    "    upsampling_factor = 2\n",
    "    \n",
    "    synthetic_signal, timeline = __upsample_FIR(synthetic_signal, sps, T, sampling_factor=upsampling_factor)\n",
    "\n",
    "#     synthetic_signal, timeline = __interpolation_fft(synthetic_signal, timeline, T, sps*upsampling_factor)\n",
    "    \n",
    "    sps = sps*upsampling_facto"
   ]
  },
  {
   "cell_type": "code",
   "execution_count": 20,
   "metadata": {
    "ExecuteTime": {
     "end_time": "2021-03-14T21:46:50.870091Z",
     "start_time": "2021-03-14T21:46:50.864217Z"
    }
   },
   "outputs": [
    {
     "data": {
      "text/plain": [
       "(5000001, 5000001, 5000, 1000.0)"
      ]
     },
     "execution_count": 20,
     "metadata": {},
     "output_type": "execute_result"
    }
   ],
   "source": [
    "synthetic_signal.size, timeline.size, sps, timeline[-1]"
   ]
  },
  {
   "cell_type": "code",
   "execution_count": null,
   "metadata": {
    "ExecuteTime": {
     "end_time": "2021-03-14T21:43:39.958364Z",
     "start_time": "2021-03-14T21:43:39.236Z"
    }
   },
   "outputs": [],
   "source": [
    "__makeplot_trace_and_psd(synthetic_signal, timeline, fmax=0.5*sps, t1=50, t2=50.02); "
   ]
  },
  {
   "cell_type": "markdown",
   "metadata": {},
   "source": [
    "## Lowpass "
   ]
  },
  {
   "cell_type": "code",
   "execution_count": null,
   "metadata": {
    "ExecuteTime": {
     "end_time": "2021-03-14T21:43:39.958847Z",
     "start_time": "2021-03-14T21:43:39.239Z"
    }
   },
   "outputs": [],
   "source": [
    "f_upper = 1000\n",
    "## create digital lowpass filter, which is applied forwards and backwards\n",
    "b, a = butter(4, f_upper, 'lp', fs=sps)\n",
    "\n",
    "synthetic_signal = filtfilt(b, a, synthetic_signal, method=\"gust\")\n"
   ]
  },
  {
   "cell_type": "code",
   "execution_count": null,
   "metadata": {
    "ExecuteTime": {
     "end_time": "2021-03-14T21:43:39.959428Z",
     "start_time": "2021-03-14T21:43:39.241Z"
    }
   },
   "outputs": [],
   "source": [
    "__makeplot_trace_and_psd(synthetic_signal, timeline, fmax=0.5*sps, t1=50, t2=50.02); "
   ]
  },
  {
   "cell_type": "markdown",
   "metadata": {},
   "source": [
    "# Demodulation"
   ]
  },
  {
   "cell_type": "markdown",
   "metadata": {
    "ExecuteTime": {
     "end_time": "2021-01-29T15:18:35.118865Z",
     "start_time": "2021-01-29T15:18:35.114054Z"
    }
   },
   "source": [
    "In order to evaluate the demodulated signal it is compared to the kown synthetic signalthe. For this, the median is substracted and 1% of the edges are cut off. Then both, the orignal and the retrieved signal are normalized and a cross-correlation calculated."
   ]
  },
  {
   "cell_type": "code",
   "execution_count": null,
   "metadata": {
    "ExecuteTime": {
     "end_time": "2021-03-14T21:43:39.960001Z",
     "start_time": "2021-03-14T21:43:39.245Z"
    },
    "code_folding": [
     1
    ]
   },
   "outputs": [],
   "source": [
    "\n",
    "def __hibert_filter(sig_in, time_in, fs):\n",
    "    \n",
    "    '''\n",
    "    estimating the instantaneous frequency by using the formula of Jo\n",
    "    \n",
    "    sig_in    = input signal\n",
    "    time_in   = input timeline\n",
    "    fs        = sampling frequency of digital signal\n",
    "    '''\n",
    "\n",
    "    def __check_for_NaN(array):\n",
    "        \n",
    "        sum0, idx = 0, []\n",
    "        for k, x in enumerate(array):\n",
    "            if np.isnan(x):\n",
    "                sum0 += 1\n",
    "                idx.append(k)\n",
    "\n",
    "        if sum0 != 0:\n",
    "            print(sum0, f\" nan found of {len(array)}\")\n",
    "    \n",
    "        return(idx)\n",
    "            \n",
    "            \n",
    "            \n",
    "    ## calulcate hilbert transform\n",
    "    hil0 = hilbert(sig_in)\n",
    "    \n",
    "    ## extract imaginary part of hilbert transform \n",
    "    hil = np.imag(hil0)\n",
    "    \n",
    "#     env = abs(hil)\n",
    "#     hil = hil/max(env)\n",
    "    \n",
    "    ## calculate derivatives (second order central differences)\n",
    "    d_hil = np.gradient(hil, edge_order=1)*fs\n",
    "    d_sig = np.gradient(sig_in, edge_order=1)*fs\n",
    "    \n",
    "    \n",
    "    ## check if nan are in derivative\n",
    "    idx = __check_for_NaN(d_hil)\n",
    "    \n",
    "    \n",
    "    delta_f_full = (sig_in * d_hil - d_sig * hil) / (2*np.pi*np.sqrt(sig_in**2 + hil**2))\n",
    "# #     delta_f_full = (sig_in[1:]*np.diff(hil) - np.diff(sig_in) * hil[1:]) / (2*np.pi*np.sqrt(sig_in[1:]**2 + hil[1:]**2))\n",
    "\n",
    "\n",
    "    ## extract real part\n",
    "    delta_f = np.real(delta_f_full)\n",
    "    \n",
    "    \n",
    "    ## instert nan value for time zero (exluded bevause of np.diff() ) \n",
    "    idx = __check_for_NaN(delta_f)\n",
    "    \n",
    "    for l in idx:\n",
    "        delta_f[l] = 0.0\n",
    "\n",
    "    \n",
    "    return time_in, delta_f\n"
   ]
  },
  {
   "cell_type": "code",
   "execution_count": null,
   "metadata": {
    "ExecuteTime": {
     "end_time": "2021-03-14T21:43:39.960505Z",
     "start_time": "2021-03-14T21:43:39.247Z"
    },
    "code_folding": [
     1
    ]
   },
   "outputs": [],
   "source": [
    "\n",
    "def __demodulate(x, y, Twindow, sps):\n",
    "\n",
    "    window_size = int(Twindow * sps)\n",
    "\n",
    "    stepsize = int(window_size/2) \n",
    "\n",
    "    out1, out2 = np.array([]), np.array([])\n",
    "    for i in tqdm(range(0,len(x), stepsize)):\n",
    "\n",
    "        if int(i+window_size) > len(x):\n",
    "            print(f\"break for {i/sps}\")\n",
    "            break\n",
    "\n",
    "        win1 = x[i:int(i+window_size)]\n",
    "        win2 = y[i:int(i+window_size)]\n",
    "\n",
    "\n",
    "\n",
    "        t, sig = __hibert_filter(win1, win2, sps)\n",
    "\n",
    "    #     plt.plot(t[int(stepsize/2):window_size-int(stepsize/2)], sig[int(stepsize/2):window_size-int(stepsize/2)])\n",
    "    #     plt.show();\n",
    "\n",
    "        out1 = np.append(out1, sig[int(stepsize/2):window_size-int(stepsize/2)])\n",
    "        out2 = np.append(out2, t[int(stepsize/2):window_size-int(stepsize/2)])\n",
    "    #     plt.plot(out2,out1)\n",
    "\n",
    "    return out1, out2\n"
   ]
  },
  {
   "cell_type": "code",
   "execution_count": null,
   "metadata": {
    "ExecuteTime": {
     "end_time": "2021-03-14T21:43:39.961003Z",
     "start_time": "2021-03-14T21:43:39.251Z"
    },
    "code_folding": []
   },
   "outputs": [],
   "source": [
    "\n",
    "Twindow = 100 # seconds\n",
    "\n",
    "demod_signal, time_demod_signal = __demodulate(synthetic_signal, timeline, Twindow, sps)\n",
    "\n",
    "time_demod_signal.size, demod_signal.size"
   ]
  },
  {
   "cell_type": "code",
   "execution_count": null,
   "metadata": {
    "ExecuteTime": {
     "end_time": "2021-03-14T21:43:39.961546Z",
     "start_time": "2021-03-14T21:43:39.255Z"
    }
   },
   "outputs": [],
   "source": [
    "__makeplot_trace_and_spectrum(demod_signal, time_demod_signal, fmax=1.0); "
   ]
  },
  {
   "cell_type": "markdown",
   "metadata": {},
   "source": [
    "### Remove Offset"
   ]
  },
  {
   "cell_type": "code",
   "execution_count": null,
   "metadata": {
    "ExecuteTime": {
     "end_time": "2021-03-14T21:43:39.962090Z",
     "start_time": "2021-03-14T21:43:39.257Z"
    },
    "code_folding": [
     0
    ]
   },
   "outputs": [],
   "source": [
    "print(f\"theo. Sagnac Frequencs: {sgnc} Hz\")\n",
    "print(f\"Median Demodulated Signal: {np.median(demod_signal)}\")\n",
    "\n",
    "\n",
    "# demod_signal = demod_signal - sgnc\n",
    "demod_signal = demod_signal - np.median(demod_signal)"
   ]
  },
  {
   "cell_type": "markdown",
   "metadata": {},
   "source": [
    "### Padding Edges"
   ]
  },
  {
   "cell_type": "code",
   "execution_count": null,
   "metadata": {
    "ExecuteTime": {
     "end_time": "2021-03-14T21:43:39.963174Z",
     "start_time": "2021-03-14T21:43:39.261Z"
    }
   },
   "outputs": [],
   "source": [
    "## samples from left and right to be ignored due to dynamic demodulation\n",
    "index1 = int(time_demod_signal[0]*sps)+5\n",
    "\n",
    "if upsampling:\n",
    "    index2 = int(int(T-time_demod_signal[-1])*sps)+5\n",
    "else:\n",
    "    index2 = int(int(T-time_demod_signal[-1])*sps)+5\n",
    "\n",
    "## padding demodulated signal at the edges\n",
    "demod_signal = np.pad(demod_signal, (index1, index2), constant_values=(0, 0))\n",
    "\n",
    "## adjust time axis\n",
    "time_demod_signal = np.arange(len(demod_signal))/sps\n",
    "\n",
    "\n",
    "\n",
    "time_demod_signal.size, demod_signal.size, index1, index2"
   ]
  },
  {
   "cell_type": "code",
   "execution_count": null,
   "metadata": {
    "ExecuteTime": {
     "end_time": "2021-03-14T21:43:39.963690Z",
     "start_time": "2021-03-14T21:43:39.263Z"
    },
    "scrolled": false
   },
   "outputs": [],
   "source": [
    "# __makeplot_trace_and_psd(demod_signal, time_demod_signal, fmax=0.5*sps, t1=100, t2=101); \n",
    "__makeplot_trace_and_spectrum(demod_signal, time_demod_signal, fmax=1.0); "
   ]
  },
  {
   "cell_type": "markdown",
   "metadata": {
    "ExecuteTime": {
     "end_time": "2021-02-23T22:51:28.698061Z",
     "start_time": "2021-02-23T22:50:38.717Z"
    }
   },
   "source": [
    "### Downsampling "
   ]
  },
  {
   "cell_type": "code",
   "execution_count": null,
   "metadata": {
    "ExecuteTime": {
     "end_time": "2021-03-14T21:43:39.964244Z",
     "start_time": "2021-03-14T21:43:39.266Z"
    },
    "code_folding": [
     1
    ]
   },
   "outputs": [],
   "source": [
    "\n",
    "def __downsample(signal_in, sps, ds_factor=2):\n",
    "\n",
    "    \n",
    "    ## downsample using a FIR filter\n",
    "    signal_out = decimate(signal_in, ds_factor, n=None, ftype='fir', axis=-1, zero_phase=True)\n",
    "\n",
    "\n",
    "    ## adjust sampling frequency\n",
    "    sps = int(sps/ds_factor)\n",
    "\n",
    "    ## adjust time axis\n",
    "    time_out = np.arange(signal_out.size)/sps\n",
    "\n",
    "    return signal_out, time_out, sps\n"
   ]
  },
  {
   "cell_type": "code",
   "execution_count": null,
   "metadata": {
    "ExecuteTime": {
     "end_time": "2021-03-14T21:43:39.965079Z",
     "start_time": "2021-03-14T21:43:39.270Z"
    }
   },
   "outputs": [],
   "source": [
    "if upsampling:\n",
    "\n",
    "    \n",
    "    downsampling_factor = 2\n",
    "\n",
    "    sps0 = sps ## prevent overwriting\n",
    "    demod_signal, time_demod_signal, sps = __downsample(demod_signal, sps0, ds_factor=downsampling_factor)\n",
    "#     modeltrace, time_modeltrace, sps = __downsample(modeltrace, sps0, ds_factor=downsampling_factor)\n",
    "    \n",
    "\n",
    "    ## adjust index after resampling\n",
    "    index1=int(index1/downsampling_factor)\n",
    "    index2=int(index2/downsampling_factor)\n",
    "    \n",
    "\n",
    "if bandpass:\n",
    "    \n",
    "    f_upper = 20\n",
    "    \n",
    "    ## create digital lowpass filter of seconds order section \n",
    "#     sos = butter(10, f_upper, 'lp', fs=sps, output='sos')\n",
    "#     demod_signal = sosfilt(sos, demod_signal)\n",
    "\n",
    "    ## create digital lowpass filter, which is applied forwards and backwards\n",
    "    b, a = butter(4, f_upper, 'lp', fs=sps)\n",
    "    demod_signal = filtfilt(b, a, demod_signal, method=\"gust\")\n",
    "    \n",
    "    ## apply lowpass filter of obspy (using fft)\n",
    "#     tmp = Trace(demod_signal)\n",
    "#     tmp.stats.delta = 1/sps\n",
    "    \n",
    "#     tmp.filter('lowpass', freq=f_upper, corners=4, zerophase=True)\n",
    "#     demod_signal = tmp.data\n",
    "\n",
    "\n",
    "demod_signal.size, time_demod_signal.size"
   ]
  },
  {
   "cell_type": "code",
   "execution_count": null,
   "metadata": {
    "ExecuteTime": {
     "end_time": "2021-03-14T21:43:39.965774Z",
     "start_time": "2021-03-14T21:43:39.272Z"
    }
   },
   "outputs": [],
   "source": [
    "# __makeplot_trace_and_psd(demod_signal, time_demod_signal, fmax=0.5*sps, t1=100, t2=101); \n",
    "__makeplot_trace_and_spectrum(demod_signal, time_demod_signal, fmax=1.0); "
   ]
  },
  {
   "cell_type": "markdown",
   "metadata": {},
   "source": [
    "### Normalize"
   ]
  },
  {
   "cell_type": "code",
   "execution_count": null,
   "metadata": {
    "ExecuteTime": {
     "end_time": "2021-03-14T21:43:39.966457Z",
     "start_time": "2021-03-14T21:43:39.275Z"
    }
   },
   "outputs": [],
   "source": [
    "## apply conversion counts -> volt of obsidian digitizer\n",
    "demod_signal *= 0.59604645e-6"
   ]
  },
  {
   "cell_type": "code",
   "execution_count": null,
   "metadata": {
    "ExecuteTime": {
     "end_time": "2021-03-14T21:43:39.967133Z",
     "start_time": "2021-03-14T21:43:39.278Z"
    }
   },
   "outputs": [],
   "source": [
    "max(demod_signal), max(modeltrace)"
   ]
  },
  {
   "cell_type": "code",
   "execution_count": null,
   "metadata": {
    "ExecuteTime": {
     "end_time": "2021-03-14T21:43:39.967683Z",
     "start_time": "2021-03-14T21:43:39.281Z"
    },
    "code_folding": [
     0
    ]
   },
   "outputs": [],
   "source": [
    "if normalize:\n",
    "    demod_signal = __normalize(demod_signal)\n",
    "    modeltrace   = __normalize(modeltrace)\n"
   ]
  },
  {
   "cell_type": "code",
   "execution_count": null,
   "metadata": {
    "ExecuteTime": {
     "end_time": "2021-03-14T21:43:39.968235Z",
     "start_time": "2021-03-14T21:43:39.284Z"
    }
   },
   "outputs": [],
   "source": [
    "# __makeplot_trace_and_psd(demod_signal, time_demod_signal, fmax=0.5*sps, t1=100, t2=101); \n",
    "__makeplot_trace_and_spectrum(demod_signal, time_demod_signal, fmax=1.0); "
   ]
  },
  {
   "cell_type": "markdown",
   "metadata": {},
   "source": [
    "### Cross-Correlation"
   ]
  },
  {
   "cell_type": "code",
   "execution_count": null,
   "metadata": {
    "ExecuteTime": {
     "end_time": "2021-03-14T21:43:39.968850Z",
     "start_time": "2021-03-14T21:43:39.288Z"
    },
    "code_folding": [
     0
    ]
   },
   "outputs": [],
   "source": [
    "cross_corr = correlate(demod_signal, modeltrace, mode='same')\n",
    "\n",
    "cross_corr_lags = np.arange(-cross_corr.size//2+1,cross_corr.size//2+1,1)"
   ]
  },
  {
   "cell_type": "markdown",
   "metadata": {},
   "source": [
    "### Final Plotting"
   ]
  },
  {
   "cell_type": "code",
   "execution_count": null,
   "metadata": {
    "ExecuteTime": {
     "end_time": "2021-03-14T21:43:39.969516Z",
     "start_time": "2021-03-14T21:43:39.290Z"
    },
    "code_folding": []
   },
   "outputs": [],
   "source": [
    "if bandpass:\n",
    "    cut1 = int(index1)\n",
    "    cut2 = int(len(demod_signal)-index2)\n",
    "else:\n",
    "    cut1 = int(index1)\n",
    "    cut2 = int(len(demod_signal)-index2)   \n",
    "    \n",
    "\n",
    "cut1, cut2"
   ]
  },
  {
   "cell_type": "code",
   "execution_count": null,
   "metadata": {
    "ExecuteTime": {
     "end_time": "2021-03-14T21:43:39.970191Z",
     "start_time": "2021-03-14T21:43:39.294Z"
    },
    "code_folding": []
   },
   "outputs": [],
   "source": [
    "fig = __makeplot_demodulation_quality(time_modeltrace, \n",
    "                                      modeltrace, \n",
    "                                      time_demod_signal,\n",
    "                                      demod_signal,\n",
    "                                      cross_corr,\n",
    "                                      cross_corr_lags,\n",
    "                                      sps,\n",
    "                                      cut1,\n",
    "                                      cut2,\n",
    "                                     );"
   ]
  },
  {
   "cell_type": "code",
   "execution_count": null,
   "metadata": {
    "ExecuteTime": {
     "end_time": "2021-03-14T21:43:39.970794Z",
     "start_time": "2021-03-14T21:43:39.297Z"
    },
    "code_folding": [
     1
    ]
   },
   "outputs": [],
   "source": [
    "\n",
    "# def __makeplot_evaluation():\n",
    "\n",
    "#     from andbro__fft import __fft\n",
    "\n",
    "#     asd_demod, ff_demod, phase_demod = __fft(demod_signal, 1/sps, window=None, normalize=None)\n",
    "#     asd_model, ff_model, phase_model = __fft(modeltrace, 1/sps, window=None, normalize=None)\n",
    "\n",
    "\n",
    "#     ## __________________________________________________________\n",
    "\n",
    "#     fig, ax = plt.subplots(4,1, figsize=(15,10))\n",
    "\n",
    "#     fig.subplots_adjust(hspace = 0.4)\n",
    "    \n",
    "#     font = 13\n",
    "\n",
    "#     ax[0].plot(time_modeltrace, modeltrace, color='k', lw=2)\n",
    "#     ax[0].plot(time_demod_signal, demod_signal, color='green', lw=2)\n",
    "\n",
    "    \n",
    "#     ax[1].plot(ff_model, asd_model, color='k')\n",
    "#     ax[1].plot(ff_demod, asd_demod, color='green')\n",
    "\n",
    "    \n",
    "#     ax[2].plot(ff_model, np.unwrap(phase_model), color='k')\n",
    "#     ax[2].plot(ff_demod, np.unwrap(phase_demod), color='green')\n",
    "\n",
    "    \n",
    "    \n",
    "#     # ax[3].plot(time_modeltrace, modeltrace, color='k')\n",
    "#     # ax[3].plot(time_demod_signal, demod_signal, color='darkred')\n",
    "#     ax[3].axvline(0.0, color=\"grey\", ls=\":\")\n",
    "#     ax[3].plot(cross_corr_lags/sps, cross_corr,'k')\n",
    "\n",
    "    \n",
    "#     ax[0].set_xlabel(\"Frequency (Hz)\", fontsize=font)\n",
    "#     ax[1].set_xlabel(\"Frequency (Hz)\", fontsize=font)\n",
    "#     ax[2].set_xlabel(\"Frequency (Hz)\", fontsize=font)\n",
    "#     ax[3].set_xlabel('lag (s)', fontsize=font)\n",
    "    \n",
    "#     ax[0].set_ylabel('norm. rot. rate', fontsize=font)\n",
    "#     ax[1].set_ylabel(r'spect. amplitude \\n (rad/s $\\sqrt{Hz}$)', fontsize=font)\n",
    "#     ax[2].set_ylabel('unwraped phase', fontsize=font)    \n",
    "#     ax[3].set_ylabel('cross-correlation', fontsize=font)\n",
    "    \n",
    "#     ax[3].tick_params(axis='both', labelsize=font-2)\n",
    "\n",
    "#     x0 = 0.6*max(cross_corr_lags)/sps\n",
    "#     y0 = 0.75*max(cross_corr)\n",
    "\n",
    "#     ax[3].text(x0, y0, f'max. CC at lag {cross_corr_lags[abs(cross_corr).argmax()]/sps} s', fontsize=font)\n",
    "# #     ax[3].text(x0, y0, f'max. CC at lag {cross_corr_lags[abs(cross_corr).argmax()]}', fontsize=font)\n",
    "\n",
    "\n",
    "#     ax[1].set_xlim(0,0.2)\n",
    "\n",
    "#     for i in range(4):\n",
    "#         ax[i].grid(ls='--',zorder=0)\n",
    "\n",
    "# __makeplot_evaluation()    "
   ]
  },
  {
   "cell_type": "code",
   "execution_count": null,
   "metadata": {
    "ExecuteTime": {
     "end_time": "2021-03-14T21:43:39.971476Z",
     "start_time": "2021-03-14T21:43:39.298Z"
    }
   },
   "outputs": [],
   "source": [
    "# print(modeltrace.size, demod_signal.size)\n",
    "\n",
    "# modeltrace2, time_modeltrace2, sps = __downsample(modeltrace, sps, ds_factor=100)\n",
    "# demod_signal2, time_demod_signal2, sps = __downsample(demod_signal, sps, ds_factor=100)\n",
    "\n",
    "# sps2 = sps / 100\n",
    "# print(modeltrace2.size, demod_signal2.size)\n",
    "\n",
    "# plt.plot(modeltrace2)\n",
    "# plt.plot(demod_signal2)"
   ]
  },
  {
   "cell_type": "code",
   "execution_count": null,
   "metadata": {
    "ExecuteTime": {
     "end_time": "2021-03-14T21:43:39.972100Z",
     "start_time": "2021-03-14T21:43:39.302Z"
    }
   },
   "outputs": [],
   "source": [
    "# nfft, nseg, overlap = 128, 64, 60\n",
    "# f_upper = 20\n",
    "\n",
    "# freqs1, times1, Sxx1 = spectrogram( \n",
    "#                                     demod_signal2, \n",
    "#                                     fs=sps2,\n",
    "#                                     nfft=nfft,\n",
    "#                                     nperseg=nseg,\n",
    "#                                     noverlap=overlap,\n",
    "#                                     scaling=\"density\",\n",
    "#                                   )\n",
    "\n",
    "# freqs2, times2, Sxx2 = spectrogram( \n",
    "#                                     modeltrace2, \n",
    "#                                     fs=sps2,\n",
    "#                                     nfft=nfft,\n",
    "#                                     nperseg=nseg,\n",
    "#                                     noverlap=overlap,\n",
    "#                                     scaling=\"density\",\n",
    "#                                   )\n",
    "\n",
    "# Sdiff = Sxx2-Sxx1"
   ]
  },
  {
   "cell_type": "code",
   "execution_count": null,
   "metadata": {
    "ExecuteTime": {
     "end_time": "2021-03-14T21:43:39.972773Z",
     "start_time": "2021-03-14T21:43:39.304Z"
    }
   },
   "outputs": [],
   "source": [
    "# idx2 = len(np.where(freqs2<=2*f_upper)[0])\n",
    "\n",
    "# plt.imshow(Sxx2[:][:idx2], \n",
    "#              aspect='auto', \n",
    "#              cmap='viridis', \n",
    "#              origin='lower', \n",
    "#              extent=[min(times2),max(times2),min(freqs2), 2],\n",
    "#             )"
   ]
  },
  {
   "cell_type": "markdown",
   "metadata": {
    "ExecuteTime": {
     "end_time": "2021-02-01T10:36:59.647494Z",
     "start_time": "2021-02-01T10:36:59.643870Z"
    }
   },
   "source": [
    "### Save Plot"
   ]
  },
  {
   "cell_type": "code",
   "execution_count": null,
   "metadata": {
    "ExecuteTime": {
     "end_time": "2021-03-14T21:43:39.974072Z",
     "start_time": "2021-03-14T21:43:39.307Z"
    },
    "code_folding": [
     0
    ]
   },
   "outputs": [],
   "source": [
    "# pname = f\"{syn_signal}_{f_lower}-{f_upper}_T{int(T)}_fs{int(sps)}_mi{modulation_index}_S{int(sgnc)}_case{modulation_scheme}.pdf\"\n",
    "\n",
    "# fig.savefig(f\"plots/{pname}\", dpi=300, format='pdf')"
   ]
  },
  {
   "cell_type": "code",
   "execution_count": null,
   "metadata": {
    "ExecuteTime": {
     "end_time": "2021-03-14T21:43:39.975712Z",
     "start_time": "2021-03-14T21:43:39.310Z"
    },
    "code_folding": [
     0
    ]
   },
   "outputs": [],
   "source": [
    "#!/usr/bin/env python\n",
    "# coding: utf-8\n",
    "\n",
    "import matplotlib.pyplot as plt\n",
    "from numpy import sqrt, mean, unwrap\n",
    "from andbro__fft import __fft\n",
    "\n",
    "def __makeplot_demodulation_quality(time_modeltrace, modeltrace, time_demod_signal, demod_signal, cross_corr, cross_corr_lags, sps, c1, c2):\n",
    "    \n",
    "    def __minimize_residual(model, original):\n",
    "\n",
    "        from scipy.optimize import leastsq\n",
    "\n",
    "        ## define cost function\n",
    "        def __cost_function(params, x, y):\n",
    "            a, b = params[0], params[1]\n",
    "            residual = y-(a*x+b)\n",
    "            return residual\n",
    "\n",
    "        ## initials \n",
    "        params = [1,0]\n",
    "\n",
    "        result = leastsq(__cost_function, params, (model, original))\n",
    "\n",
    "        model_new = model * result[0][0] + result[0][1]\n",
    "\n",
    "        print(f'\\noptimized: original -  {round(result[0][0],3)} * model + {round(result[0][1],3)}\\n')\n",
    "\n",
    "        residual = (model_new - original)\n",
    "        return residual, model_new\n",
    "\n",
    "    \n",
    "    ## caluclate spectral magnitude and phase\n",
    "    asd_demod, ff_demod, phase_demod = __fft(demod_signal, 1/sps, window=None, normalize=None)\n",
    "    asd_model, ff_model, phase_model = __fft(modeltrace, 1/sps, window=None, normalize=None)\n",
    "\n",
    "\n",
    "    \n",
    "    ## ______________________________________\n",
    "\n",
    "    residual_pre_opt  = modeltrace[c1:c2]-demod_signal[c1:c2]\n",
    "    \n",
    "    residual_post_opt, demod_signal_opt  = __minimize_residual(demod_signal[c1:c2], modeltrace[c1:c2])\n",
    "        \n",
    "    max_amp = max(abs(demod_signal))\n",
    "    \n",
    "    rmse_pre_opt  = sqrt(mean(residual_pre_opt**2))\n",
    "    rmse_post_opt = sqrt(mean(residual_post_opt**2))\n",
    "    \n",
    "    ## ________________________________________________\n",
    "    ## plotting\n",
    "    \n",
    "    fig, ax = plt.subplots(5, 1, figsize=(15,12))\n",
    "\n",
    "    font = 13\n",
    "    \n",
    "    plt.subplots_adjust(hspace = 0.4)\n",
    "    \n",
    "    \n",
    "    ## ____________________________________________________________________________\n",
    "    ##\n",
    "    \n",
    "    ax[0].plot(time_modeltrace, modeltrace, color='darkorange', linewidth=3)\n",
    "    ax[0].plot(time_demod_signal, demod_signal)\n",
    "    ax[0].plot(time_demod_signal[c1:c2], demod_signal_opt, color='darkblue', linestyle='--')\n",
    "\n",
    "    ax[0].set_xlabel(\"time (s)\", fontsize=font)\n",
    "    ax[0].tick_params(axis='both', labelsize=font-2)\n",
    "        \n",
    "    ax[0].set_ylim(-max_amp-0.1*max_amp, max_amp+0.1*max_amp)\n",
    "    ax[0].set_ylabel('norm. amplitude', fontsize=font)\n",
    "    \n",
    "    \n",
    "    ## ____________________________________________________________________________\n",
    "    ##\n",
    "        \n",
    "    ax[1].plot(time_demod_signal[c1:c2], abs(residual_pre_opt), color='k')\n",
    "    ax[1].plot(time_demod_signal[c1:c2], abs(residual_post_opt), color='r')\n",
    "\n",
    "    \n",
    "    ax[1].set_xlabel(\"time (s)\", fontsize=font)\n",
    "    ax[1].tick_params(axis='both', labelsize=font-2)\n",
    "    ax[1].set_ylabel('norm. residual', fontsize=font)\n",
    "    \n",
    "    ax[1].set_xlim(time_demod_signal[0], time_demod_signal[-1])\n",
    "    \n",
    "#     x1 = 0.1*time_demod_signal.size*(time_demod_signal[1]-time_demod_signal[0])\n",
    "#     y1 = 0.75*max(residual_pre_opt)    \n",
    "#     print(max(residual_post_opt))\n",
    "#     ax[1].text(x1, y1, f'rmse pre: {round(rmse_pre_opt,5)} \\nrmse post: {round(rmse_post_opt,5)}', fontsize=font)    \n",
    "    \n",
    "    ax[0].set_title(f'rmse pre: {round(rmse_pre_opt,5)};  rmse post: {round(rmse_post_opt,5)}', fontsize=font)\n",
    "    \n",
    "    \n",
    "    ## ____________________________________________________________________________\n",
    "    ##\n",
    "    \n",
    "    ax[2].axvline(0.0, color=\"grey\", ls=\":\")\n",
    "    ax[2].plot(cross_corr_lags*(time_demod_signal[1]), cross_corr,'k')\n",
    "    \n",
    "    ax[2].set_xlabel('lag (s)', fontsize=font)\n",
    "    ax[2].tick_params(axis='both', labelsize=font-2)\n",
    "    ax[2].set_ylabel('cross-correlation', fontsize=font)\n",
    "    \n",
    "    x0 = 0.60*max(cross_corr_lags)*(time_demod_signal[1]-time_demod_signal[0])\n",
    "    y0 = 0.75*max(cross_corr)\n",
    "    \n",
    "#     ax[2].text(x0, y0, f'max. CC at lag {cross_corr_lags[abs(cross_corr).argmax()]/sps} s', fontsize=font)\n",
    "    ax[2].text(x0, y0, f'max. CC at lag {cross_corr_lags[abs(cross_corr).argmax()]}', fontsize=font)\n",
    "\n",
    "    \n",
    "    ## ____________________________________________________________________________\n",
    "    ##\n",
    "    \n",
    "    ax[3].plot(ff_model, asd_model, color='k')\n",
    "    ax[3].plot(ff_demod, asd_demod, color='green')\n",
    "\n",
    "    ax[3].set_xlabel(\"Frequency (Hz)\", fontsize=font)\n",
    "    ax[3].set_ylabel(r'spect. amplitude \\n (rad/s $\\sqrt{Hz}$)', fontsize=font)\n",
    "    \n",
    "    \n",
    "    ## ____________________________________________________________________________\n",
    "    ##\n",
    "    \n",
    "    ax[4].plot(ff_model, unwrap(phase_model), color='k')\n",
    "    ax[4].plot(ff_demod, unwrap(phase_demod), color='green')\n",
    "\n",
    "    ax[4].set_xlabel(\"Frequency (Hz)\", fontsize=font)\n",
    "    ax[4].set_ylabel('unwraped phase', fontsize=font)    \n",
    "    \n",
    "        \n",
    "    ## ____________________________________________________________________________\n",
    "    ##\n",
    "    \n",
    "    ax[0].legend(['synthetic', 'demodulated', 'demod. optimized'], loc=\"upper right\", fontsize=font-2)\n",
    "    ax[1].legend(['residual', 'optimized res'], loc=\"upper right\", fontsize=font-2)\n",
    "\n",
    "    ax[0].set_xlim(time_demod_signal[0], time_demod_signal[-1])\n",
    "    ax[1].set_xlim(time_demod_signal[0], time_demod_signal[-1])\n",
    "    ax[2].set_xlim(-time_demod_signal[-1]/2, time_demod_signal[-1]/2)\n",
    "    ax[3].set_xlim(0, 0.2)\n",
    "\n",
    "    plt.show();\n",
    "    \n",
    "    return fig"
   ]
  },
  {
   "cell_type": "markdown",
   "metadata": {},
   "source": [
    "## Tests"
   ]
  },
  {
   "cell_type": "code",
   "execution_count": null,
   "metadata": {
    "ExecuteTime": {
     "end_time": "2021-03-14T21:43:39.977135Z",
     "start_time": "2021-03-14T21:43:39.314Z"
    }
   },
   "outputs": [],
   "source": [
    "from scipy.signal import kaiserord, lfilter, firwin, freqz\n",
    "from pylab import figure, clf, plot, xlabel, ylabel, xlim, ylim, title, grid, axes, show\n",
    "\n",
    "\n",
    "#------------------------------------------------\n",
    "# Create a signal for demonstration.\n",
    "#------------------------------------------------\n",
    "\n",
    "sample_rate = 100.0\n",
    "nsamples = 400\n",
    "t = arange(nsamples) / sample_rate\n",
    "x = cos(2*pi*0.5*t) + 0.2*sin(2*pi*2.5*t+0.1) + \\\n",
    "        0.2*sin(2*pi*15.3*t) + 0.1*sin(2*pi*16.7*t + 0.1) + \\\n",
    "            0.1*sin(2*pi*23.45*t+.8)\n",
    "\n",
    "\n",
    "#------------------------------------------------\n",
    "# Create a FIR filter and apply it to x.\n",
    "#------------------------------------------------\n",
    "\n",
    "# The Nyquist rate of the signal.\n",
    "nyq_rate = sample_rate / 2.0\n",
    "\n",
    "# The desired width of the transition from pass to stop,\n",
    "# relative to the Nyquist rate.  We'll design the filter\n",
    "# with a 5 Hz transition width.\n",
    "width = 5.0/nyq_rate\n",
    "\n",
    "# The desired attenuation in the stop band, in dB.\n",
    "ripple_db = 60.0\n",
    "\n",
    "# Compute the order and Kaiser parameter for the FIR filter.\n",
    "N, beta = kaiserord(ripple_db, width)\n",
    "\n",
    "# The cutoff frequency of the filter.\n",
    "cutoff_hz = 10.0\n",
    "\n",
    "# Use firwin with a Kaiser window to create a lowpass FIR filter.\n",
    "taps = firwin(N, cutoff_hz/nyq_rate, window=('kaiser', beta))\n",
    "\n",
    "# Use lfilter to filter x with the FIR filter.\n",
    "filtered_x = lfilter(taps, 1.0, x)"
   ]
  },
  {
   "cell_type": "code",
   "execution_count": null,
   "metadata": {
    "ExecuteTime": {
     "end_time": "2021-03-14T21:43:39.978433Z",
     "start_time": "2021-03-14T21:43:39.317Z"
    }
   },
   "outputs": [],
   "source": [
    "# from scipy.signal import upfirdn, resample_poly\n",
    "\n",
    "# x1 = np.arange(100)\n",
    "# y1 = np.sin(x1)\n",
    "# plt.plot(x1,y1)\n",
    "\n",
    "\n",
    "# up_fac = 2\n",
    "# y2 = upfirdn([0.3,1,0.3], y1, up_fac)\n",
    "# x2 = np.arange(len(y2))/up_fac\n",
    "\n",
    "# # y3 = resample_poly(y1, 100, 50)\n",
    "\n",
    "# y3, test = __upsample_FIR(y1, 2, 500)\n",
    "# x3 = np.arange(len(y3))/up_fac\n",
    "\n",
    "# # plt.plot(x2,y2)\n",
    "\n",
    "# plt.plot(x3,y3)"
   ]
  }
 ],
 "metadata": {
  "kernelspec": {
   "display_name": "Python 3",
   "language": "python",
   "name": "python3"
  },
  "language_info": {
   "codemirror_mode": {
    "name": "ipython",
    "version": 3
   },
   "file_extension": ".py",
   "mimetype": "text/x-python",
   "name": "python",
   "nbconvert_exporter": "python",
   "pygments_lexer": "ipython3",
   "version": "3.7.8"
  }
 },
 "nbformat": 4,
 "nbformat_minor": 4
}
