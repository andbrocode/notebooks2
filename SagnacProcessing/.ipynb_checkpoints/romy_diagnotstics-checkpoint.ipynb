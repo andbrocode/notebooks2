{
 "cells": [
  {
   "cell_type": "markdown",
   "id": "described-madness",
   "metadata": {
    "ExecuteTime": {
     "end_time": "2021-05-11T14:11:59.256526Z",
     "start_time": "2021-05-11T14:11:59.250009Z"
    }
   },
   "source": [
    "Script to plot diagnostics of ROMY for a user-specified period"
   ]
  },
  {
   "cell_type": "markdown",
   "id": "urban-terrace",
   "metadata": {},
   "source": [
    "### Load Libraries"
   ]
  },
  {
   "cell_type": "code",
   "execution_count": 1,
   "id": "broad-might",
   "metadata": {
    "ExecuteTime": {
     "end_time": "2021-05-11T20:27:33.429928Z",
     "start_time": "2021-05-11T20:27:32.720270Z"
    }
   },
   "outputs": [],
   "source": [
    "import matplotlib.pyplot as plt\n",
    "import os, os.path\n",
    "\n",
    "from datetime import datetime\n",
    "from numpy import arange, array, cumsum\n",
    "from pandas import read_csv, DataFrame\n",
    "from numpy import zeros, median, linspace\n",
    "from obspy import UTCDateTime\n",
    "from numpy import isnan\n",
    "from obspy import UTCDateTime"
   ]
  },
  {
   "cell_type": "code",
   "execution_count": 2,
   "id": "healthy-brick",
   "metadata": {
    "ExecuteTime": {
     "end_time": "2021-05-11T20:27:33.435708Z",
     "start_time": "2021-05-11T20:27:33.431313Z"
    },
    "code_folding": [
     0
    ]
   },
   "outputs": [],
   "source": [
    "def __get_doy_from_date(doy, year):\n",
    "    \n",
    "    '''\n",
    "    turn doy to date\n",
    "    \n",
    "    dependency: from dateime import datetime\n",
    "    '''\n",
    "\n",
    "    ## adjusting day num\n",
    "    day_num = str(doy)\n",
    "    day_num.rjust(3 + len(day_num), '0')\n",
    "  \n",
    "  \n",
    "    ## converting to date\n",
    "    res = datetime.strptime(str(year) + \"-\" + day_num, \"%Y-%j\").strftime(\"%Y-%m-%d\")\n",
    "  \n",
    "    return str(res)"
   ]
  },
  {
   "cell_type": "code",
   "execution_count": 3,
   "id": "informal-wallet",
   "metadata": {
    "ExecuteTime": {
     "end_time": "2021-05-11T20:27:33.446509Z",
     "start_time": "2021-05-11T20:27:33.438557Z"
    },
    "code_folding": [
     0
    ]
   },
   "outputs": [],
   "source": [
    "def __check_setup(paths):\n",
    "    \n",
    "    for path in paths: \n",
    "        if not os.path.exists(path):\n",
    "            print(f\"Error: directory {path} does not exists!\")"
   ]
  },
  {
   "cell_type": "code",
   "execution_count": 4,
   "id": "prospective-dominican",
   "metadata": {
    "ExecuteTime": {
     "end_time": "2021-05-11T20:27:33.452890Z",
     "start_time": "2021-05-11T20:27:33.449027Z"
    }
   },
   "outputs": [],
   "source": [
    "def __merge_figures(figures):\n",
    "    \n",
    "    from PyPDF2 import PdfFileMerger, PdfFileReader\n",
    " \n",
    "    ## Call the PdfFileMerger\n",
    "    mergedObject = PdfFileMerger()\n",
    "\n",
    "    ## Loop through all figures and append their pages\n",
    "    for figure in figures:\n",
    "        mergedObject.append(PdfFileReader(path2plots+figure+\".pdf\", 'rb'))\n",
    "\n",
    "    ## Write all the files into a file which is named as shown below\n",
    "    mergedObject.write(path2plots+\"output\"+\".pdf\")"
   ]
  },
  {
   "cell_type": "markdown",
   "id": "headed-pilot",
   "metadata": {
    "ExecuteTime": {
     "end_time": "2021-05-11T14:12:40.901403Z",
     "start_time": "2021-05-11T14:12:40.898626Z"
    }
   },
   "source": [
    "### User Configurations"
   ]
  },
  {
   "cell_type": "code",
   "execution_count": 5,
   "id": "mounted-partner",
   "metadata": {
    "ExecuteTime": {
     "end_time": "2021-05-11T20:27:50.119388Z",
     "start_time": "2021-05-11T20:27:33.455498Z"
    },
    "code_folding": [
     0
    ]
   },
   "outputs": [
    {
     "name": "stdout",
     "output_type": "stream",
     "text": [
      "\n",
      "Enter start date (e.g 2021-05-01): 2019-10-01\n",
      "Enter end date (default: equal startdate): 2019-11-30\n",
      "\n",
      "Enter end time (e.g. 00:00): 00:00\n",
      "Enter end time (default all day): \n"
     ]
    }
   ],
   "source": [
    "def __user_interaction():\n",
    "    \n",
    "    dbeg = input(\"\\nEnter start date (e.g 2021-05-01): \")\n",
    "    dend = input(\"Enter end date (default: equal startdate): \")\n",
    "    \n",
    "    if len(dend) == 0:\n",
    "        dend=dbeg\n",
    "\n",
    "    tbeg = input(\"\\nEnter end time (e.g. 00:00): \")\n",
    "    tend = input(\"Enter end time (default all day): \")\n",
    "    \n",
    "    if len(tend) == 0:\n",
    "        tend = \"23:59:59\"\n",
    "\n",
    "    beg = UTCDateTime(f\"{dbeg} {tbeg}\")\n",
    "    end = UTCDateTime(f\"{dend} {tend}\")    \n",
    "    \n",
    "    \n",
    "    return beg, end\n",
    "\n",
    "\n",
    "beg, end = __user_interaction()\n",
    "\n",
    "# beg = UTCDateTime(\"2019-10-01 00:00\")\n",
    "# end = UTCDateTime(\"2019-11-14 23:59:59\")\n",
    "\n",
    "##\n",
    "workdir = f'/home/andbro/Documents/ROMY/QualityCheck'\n",
    "\n",
    "cha = 'BJZ'\n",
    "\n",
    "mode = 'runw'\n",
    "\n",
    "## choose to save figures\n",
    "save = True\n"
   ]
  },
  {
   "cell_type": "code",
   "execution_count": 6,
   "id": "brilliant-suicide",
   "metadata": {
    "ExecuteTime": {
     "end_time": "2021-05-11T20:27:50.125760Z",
     "start_time": "2021-05-11T20:27:50.121353Z"
    }
   },
   "outputs": [],
   "source": [
    "## which data to be loaded\n",
    "year = beg.year\n",
    "\n",
    "## path specifications\n",
    "path2data = f'{workdir}/{mode}/logs/'\n",
    "path2plots = f'{workdir}/{mode}/figs/'\n",
    "\n",
    "__check_setup([workdir, path2data, path2plots])\n",
    "\n",
    "## filename of input data\n",
    "ifile = f'{year}_{cha}_overview'\n",
    "\n",
    "\n",
    "figures = []"
   ]
  },
  {
   "cell_type": "markdown",
   "id": "efficient-pencil",
   "metadata": {},
   "source": [
    "### Load Data"
   ]
  },
  {
   "cell_type": "code",
   "execution_count": 7,
   "id": "tribal-handle",
   "metadata": {
    "ExecuteTime": {
     "end_time": "2021-05-11T20:27:50.153476Z",
     "start_time": "2021-05-11T20:27:50.126761Z"
    },
    "code_folding": [
     0
    ]
   },
   "outputs": [],
   "source": [
    "def __load_data(beg, end, path, ifile):\n",
    "\n",
    "    '''\n",
    "    Loading overview data for specified time period. \n",
    "    Sorting and checking for doubles. \n",
    "    '''\n",
    "    \n",
    "    if os.path.isfile(path2data+ifile):\n",
    "\n",
    "        ## read data\n",
    "        try:\n",
    "            data = read_csv(path+ifile, delimiter=\",\")\n",
    "        except:\n",
    "            print(f\"Error occurred while loading file: {path}{ifile}\")\n",
    "\n",
    "\n",
    "        ## sort data frame in case any mixup occured\n",
    "        data = data.sort_values(by=['doy'], ascending=True, axis=0)\n",
    "\n",
    "\n",
    "        ## check for doubles \n",
    "        doubles = 0\n",
    "        if data.doy.duplicated().any():\n",
    "            doubles +=1\n",
    "        if doubles != 0:\n",
    "            print(f\"\\n Break because {doubles} doubles were found!\")\n",
    "            sys.exit\n",
    "\n",
    "        data_select = data[(data.doy >= beg.julday) & (data.doy <= end.julday)]\n",
    "        \n",
    "        return data_select\n",
    "    \n",
    "    else:\n",
    "        if os.path.isdir(path2data):\n",
    "            print(f\"Error: file not found: {ifile}\")\n",
    "        else:\n",
    "            print(f\"Error: directory not found: {path2data}\")\n",
    "\n",
    "        \n",
    "data = __load_data(beg, end, path2data, ifile)"
   ]
  },
  {
   "cell_type": "markdown",
   "id": "meaningful-jenny",
   "metadata": {},
   "source": [
    "### Calculations"
   ]
  },
  {
   "cell_type": "code",
   "execution_count": 8,
   "id": "developed-silicon",
   "metadata": {
    "ExecuteTime": {
     "end_time": "2021-05-11T20:27:50.162148Z",
     "start_time": "2021-05-11T20:27:50.154925Z"
    }
   },
   "outputs": [
    {
     "name": "stdout",
     "output_type": "stream",
     "text": [
      "median: 553.5 Hz \n",
      "average: 553.4 +- 0.125 Hz\n"
     ]
    }
   ],
   "source": [
    "## calculate shares\n",
    "max_samples_per_day = max(data.total_samples)\n",
    "\n",
    "q0p = data.Q0/max_samples_per_day*100\n",
    "q1p = data.Q1/max_samples_per_day*100\n",
    "q2p = data.Q2/max_samples_per_day*100\n",
    "\n",
    "## calulate average and median\n",
    "med = f'{round(data.frequency_med.median(),2)} Hz'\n",
    "avg = f'{round(data.frequency_med.mean(),2)} +- {round(data.frequency_med.std(),3)} Hz'\n",
    "print(f\"median: {med} \\naverage: {avg}\")\n",
    "\n",
    "## prepare month labels\n",
    "# month_names = ['Jan', 'Feb', 'Mar', 'Apr', 'May', 'Jun', 'Jul', 'Aug','Sep', 'Oct', 'Nov', 'Dec']\n",
    "# months = [0, 31, 28, 31, 30, 31, 30, 31, 31, 30 ,31, 30]\n",
    "# m_cum = cumsum(months)+1\n"
   ]
  },
  {
   "cell_type": "markdown",
   "id": "gothic-stake",
   "metadata": {},
   "source": [
    "### Plotting"
   ]
  },
  {
   "cell_type": "code",
   "execution_count": 21,
   "id": "together-craft",
   "metadata": {
    "ExecuteTime": {
     "end_time": "2021-05-11T20:30:40.281717Z",
     "start_time": "2021-05-11T20:30:39.827507Z"
    },
    "code_folding": []
   },
   "outputs": [
    {
     "data": {
      "image/png": "[encoded data removed]",
      "text/plain": [
       "<Figure size 1080x288 with 2 Axes>"
      ]
     },
     "metadata": {
      "needs_background": "light"
     },
     "output_type": "display_data"
    },
    {
     "name": "stdout",
     "output_type": "stream",
     "text": [
      "\n",
      "saving 2019_BJZ_overview_Nov2019_shares_frequency ...\n",
      "\n"
     ]
    }
   ],
   "source": [
    "def __makeplot_shares(cha, mode):\n",
    "\n",
    "    fig, ax = plt.subplots(1, 1, figsize=(15,4))\n",
    "\n",
    "    ## define font size\n",
    "    font=16\n",
    "\n",
    "    ## define x-bounds\n",
    "    x1, x2 = array(data.doy)[0]+0.5, array(data.doy)[-1]-0.5\n",
    "\n",
    "\n",
    "    width=0.8\n",
    "    ax.bar(data.doy, q0p, width, color=\"green\", alpha=0.6, label=\"Q0\", edgecolor=None, aa=True)\n",
    "    ax.bar(data.doy, q1p, width,bottom=q0p, color=\"gold\", alpha=0.8, label=\"Q1\", edgecolor=None, aa=True)\n",
    "    ax.bar(data.doy, q2p, width,bottom=q0p+q1p, color=\"darkred\", alpha=0.7, label=\"Q2\", edgecolor=None, aa=True)\n",
    "\n",
    "    ax.set_ylim(0,100)\n",
    "\n",
    "    ax.set_xticks(data.doy)\n",
    "    ax.set_xticklabels(data.doy, rotation=40)\n",
    "\n",
    "\n",
    "#     ax.axhline(95, color='black', ls=':', label=\"95%\")\n",
    "\n",
    "    ax.set_ylabel(\"daily share (%)\", fontsize=font+2)\n",
    "    ax.set_xlabel(f\"day of {year}\", fontsize=font+2)\n",
    "\n",
    "    ax.tick_params(axis='both', labelsize=font-1)\n",
    "\n",
    "    ax.set_title(f\"Quality Overview ROMY {cha[-1]}-component\", fontsize=font+4)\n",
    "\n",
    "    ax.legend(fontsize=font-3, loc=\"lower right\")\n",
    "\n",
    "    ax.set_xlim(x1,x2)\n",
    "\n",
    "\n",
    "    ## add second access\n",
    "    ax2 = ax.twinx()\n",
    "\n",
    "    col2 = \"darkblue\"\n",
    "    \n",
    "    ax2.plot(data.doy, data.frequency_med, color=col2, ls='--', zorder=1)\n",
    "    ax2.scatter(data.doy, data.frequency_med, color=col2, s=20, fc=\"white\", label=r\"f$_{median}$\", zorder=2)\n",
    "\n",
    "\n",
    "    ax2.tick_params(axis='both', labelsize=font-2, labelcolor=col2)\n",
    "    ax2.set_ylabel(\"median frequency (Hz)\", fontsize=font+2, color=col2, labelpad=10)\n",
    "\n",
    "#     if cha == \"BJZ\":\n",
    "#         ax2.set_ylim(553.2, 553.6)\n",
    "#     if cha == \"BJU\":\n",
    "#         ax2.set_ylim(302.5, 303.0)\n",
    "#     if cha == \"BJV\":\n",
    "#         ax2.set_ylim(447.7, 447.8)\n",
    "\n",
    "    plt.show();\n",
    "    \n",
    "    return fig\n",
    "\n",
    "\n",
    "## _____________________________________\n",
    "\n",
    "fig = __makeplot_shares(cha, mode)\n",
    "\n",
    "\n",
    "if save:\n",
    "    figname = f\"{year}_{cha}_overview_Nov2019_shares_frequency\"\n",
    "    print(f\"\\nsaving {figname} ...\\n\")\n",
    "    fig.savefig(path2plots+figname+\".pdf\", format=\"pdf\", dpi=300)\n",
    "    figures.append(figname)"
   ]
  },
  {
   "cell_type": "code",
   "execution_count": 10,
   "id": "applicable-avenue",
   "metadata": {
    "ExecuteTime": {
     "end_time": "2021-05-11T20:27:51.721662Z",
     "start_time": "2021-05-11T20:27:50.711323Z"
    },
    "code_folding": [
     0
    ]
   },
   "outputs": [
    {
     "name": "stdout",
     "output_type": "stream",
     "text": [
      "skipped 2019-10-01\n",
      "skipped 2019-10-02\n",
      "skipped 2019-10-03\n",
      "skipped 2019-10-04\n",
      "skipped 2019-10-05\n",
      "skipped 2019-10-06\n",
      "skipped 2019-10-07\n",
      "skipped 2019-10-08\n",
      "skipped 2019-10-09\n",
      "skipped 2019-10-10\n",
      "skipped 2019-10-11\n",
      "skipped 2019-10-12\n",
      "skipped 2019-10-13\n",
      "skipped 2019-10-14\n",
      "skipped 2019-10-15\n",
      "skipped 2019-10-16\n",
      "skipped 2019-10-17\n",
      "skipped 2019-10-18\n",
      "skipped 2019-10-19\n",
      "skipped 2019-10-20\n",
      "skipped 2019-10-21\n",
      "skipped 2019-10-22\n",
      "skipped 2019-10-23\n",
      "skipped 2019-10-24\n",
      "skipped 2019-10-25\n",
      "skipped 2019-10-26\n",
      "skipped 2019-10-27\n",
      "skipped 2019-10-28\n",
      "skipped 2019-10-29\n",
      "skipped 2019-10-30\n",
      "skipped 2019-10-31\n",
      "skipped 2019-11-27\n",
      "\n",
      "saving 2019_BJZ_overview_Nov2019_times ...\n",
      "\n"
     ]
    },
    {
     "data": {
      "image/png": "[encoded data removed]",
      "text/plain": [
       "<Figure size 1080x288 with 2 Axes>"
      ]
     },
     "metadata": {
      "needs_background": "light"
     },
     "output_type": "display_data"
    }
   ],
   "source": [
    "def __makeplot_times(cha, mode):\n",
    "\n",
    "    if mode == \"runy\":\n",
    "        hsw = 30\n",
    "    elif mode == \"runx\":\n",
    "        hsw = 90\n",
    "    elif mode == \"runz\":\n",
    "        hsw = 1        \n",
    "    elif mode == \"runq\":\n",
    "        hsw = 1     \n",
    "    elif mode == \"runw\":\n",
    "        hsw = 1          \n",
    "\n",
    "    \n",
    "    ## _______________________________________\n",
    "    ##\n",
    "    \n",
    "    fig, ax = plt.subplots(1,1, figsize=(15,4))\n",
    "\n",
    "    ## define fontsize\n",
    "    font = 16\n",
    "\n",
    "    daylabels, dayticks = [], []\n",
    "    \n",
    "    if beg.julday == end.julday:\n",
    "        doy1, doy2 = beg.julday, beg.julday+1\n",
    "    else:\n",
    "        doy1, doy2 = beg.julday, end.julday\n",
    "\n",
    "    j, not_first = 0, False\n",
    "    for doy in range(doy1, doy2):\n",
    "\n",
    "        date = UTCDateTime(__get_doy_from_date(doy, beg.year))\n",
    "\n",
    "        mm = str(date.month).rjust(2, \"0\")\n",
    "        dd = str(date.day).rjust(2, \"0\")\n",
    "        \n",
    "        path2cfiles = f\"{workdir}/{mode}/Cfiles/{date.year}-{mm}/{date.year}-{mm}-{dd}.C{cha[-1]}\"\n",
    "\n",
    "\n",
    "        try:\n",
    "\n",
    "            ## read daily C-file\n",
    "            df = read_csv(path2cfiles)\n",
    "\n",
    "\n",
    "            ## divide into bars of quality\n",
    "            bars = []\n",
    "            for l in range(df.seconds.size):\n",
    "                if l>0: \n",
    "                    bars.append(df.seconds[l] - df.seconds[l-1])\n",
    "\n",
    "            qual = df.quality[:-1]  \n",
    "\n",
    "            ## color dictionary\n",
    "            col_dict = {0:'green',1:'gold', 2:'darkred'}\n",
    "            alphas   = {0:0.6,1:0.8,2:0.7}\n",
    "\n",
    "            ## plotting of bars\n",
    "            for i, val in enumerate(bars):\n",
    "\n",
    "                ax.bar(doy, \n",
    "                       val, bottom=sum(bars[:i]), \n",
    "                       color=col_dict[qual[i]], \n",
    "                       alpha=alphas[qual[i]],\n",
    "                      )\n",
    "            \n",
    "            daylabels.append(str(f\"{doy}\"))\n",
    "            dayticks.append(int(doy))            \n",
    "            \n",
    "            j += 1\n",
    "            boolean = True\n",
    "            del df\n",
    "        \n",
    "        except:\n",
    "            print(f\"skipped {year}-{mm}-{dd}\")\n",
    "            \n",
    "            ## plot white bar if not first bar overall to fill gaps\n",
    "            if not_first == True:\n",
    "                ax.bar(doy, 86400, color=\"white\")\n",
    "                \n",
    "                daylabels.append(str(f\"{doy}\"))\n",
    "                dayticks.append(int(doy))  \n",
    "                \n",
    "        \n",
    "        ## tweak x axis    \n",
    "        ax.set_xticks(dayticks)   \n",
    "        ax.set_xticklabels(daylabels, fontsize=font, rotation=40)\n",
    "        ax.set_xlabel(f\"day of {year}\", fontsize=font+2)\n",
    "\n",
    "        ## tweak y axis\n",
    "        ax.set_yticks(linspace(0,86400,5))\n",
    "        ax.set_yticklabels(linspace(0,24,5, dtype=int), fontsize=font-1)\n",
    "        ax.set_ylim(0, 86400)\n",
    "        ax.set_ylabel('time (hours)', fontsize=font, labelpad=10)\n",
    "\n",
    "        ax.set_title(f\"Quality Overview ROMY.{cha} {year}            \", fontsize=font+4)\n",
    "        ax.set_title(f\"Quality Overview ROMY {cha[-1]}-component         \", fontsize=font+4)\n",
    "\n",
    "\n",
    "        from matplotlib.patches import Polygon, Patch\n",
    "        legend_elements = [Patch(facecolor='green'    , edgecolor='green', label='Q0', alpha=0.6),\n",
    "                           Patch(facecolor='gold'    , edgecolor='orange', label='Q1', alpha=0.8),\n",
    "                           Patch(facecolor='darkred', edgecolor='darkred', label='Q2', alpha=0.7),\n",
    "                          ]        \n",
    "\n",
    "        ax.legend(handles=legend_elements, fontsize=font-3, ncol=3, loc=\"upper right\", bbox_to_anchor=[0.99, 1.15])      \n",
    "\n",
    "\n",
    "\n",
    "    \n",
    "    ## add second access\n",
    "    ax2 = ax.twinx()\n",
    "\n",
    "    col2 = \"darkblue\"\n",
    "    \n",
    "    ax2.plot(data.doy, data.contrast, color=col2, ls='--', zorder=3)\n",
    "    ax2.scatter(data.doy, data.contrast, color=col2, s=20, fc=\"white\", label=r\"$\\Gamma_{median}$\", zorder=4)\n",
    "\n",
    "    ax2.tick_params(axis='both', labelsize=font-2, labelcolor=col2)\n",
    "    ax2.set_ylabel(r\"median $\\Gamma$\", fontsize=font+2, color=col2, labelpad=10)\n",
    "    \n",
    "    \n",
    "    ax.set_xlim(dayticks[0]-0.5, dayticks[-1]+0.5)\n",
    "    ax.set_ylim(0, 86400)\n",
    "    \n",
    "    \n",
    "    return fig\n",
    "\n",
    "        \n",
    "## _____________________________________\n",
    "\n",
    "fig = __makeplot_times(cha, mode)\n",
    "\n",
    "\n",
    "if save:\n",
    "    figname = f\"{year}_{cha}_overview_Nov2019_times\"\n",
    "    print(f\"\\nsaving {figname} ...\\n\")\n",
    "    fig.savefig(path2plots+ figname+\".pdf\", format=\"pdf\", dpi=300)\n",
    "    figures.append(figname)\n"
   ]
  },
  {
   "cell_type": "markdown",
   "id": "analyzed-bangkok",
   "metadata": {},
   "source": [
    "### Merge Figures"
   ]
  },
  {
   "cell_type": "code",
   "execution_count": 11,
   "id": "chronic-salmon",
   "metadata": {
    "ExecuteTime": {
     "end_time": "2021-05-11T20:27:51.745124Z",
     "start_time": "2021-05-11T20:27:51.722999Z"
    }
   },
   "outputs": [],
   "source": [
    "__merge_figures(figures)"
   ]
  },
  {
   "cell_type": "code",
   "execution_count": null,
   "id": "returning-ottawa",
   "metadata": {},
   "outputs": [],
   "source": []
  }
 ],
 "metadata": {
  "kernelspec": {
   "display_name": "Python 3",
   "language": "python",
   "name": "python3"
  },
  "language_info": {
   "codemirror_mode": {
    "name": "ipython",
    "version": 3
   },
   "file_extension": ".py",
   "mimetype": "text/x-python",
   "name": "python",
   "nbconvert_exporter": "python",
   "pygments_lexer": "ipython3",
   "version": "3.7.8"
  }
 },
 "nbformat": 4,
 "nbformat_minor": 5
}
