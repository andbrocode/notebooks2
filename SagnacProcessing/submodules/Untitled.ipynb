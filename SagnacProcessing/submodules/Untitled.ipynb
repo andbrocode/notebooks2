{
 "cells": [
  {
   "cell_type": "code",
   "execution_count": 1,
   "id": "be93eb0b",
   "metadata": {
    "ExecuteTime": {
     "end_time": "2021-11-10T14:03:26.833245Z",
     "start_time": "2021-11-10T14:03:26.829869Z"
    }
   },
   "outputs": [],
   "source": [
    "# !pip install git+https://github.com/TimeSynth/TimeSynth.git"
   ]
  },
  {
   "cell_type": "code",
   "execution_count": 2,
   "id": "cc4f0a0e",
   "metadata": {
    "ExecuteTime": {
     "end_time": "2021-11-10T14:03:34.208692Z",
     "start_time": "2021-11-10T14:03:33.890852Z"
    }
   },
   "outputs": [],
   "source": [
    "import timesynth as ts"
   ]
  },
  {
   "cell_type": "code",
   "execution_count": 3,
   "id": "98443543",
   "metadata": {
    "ExecuteTime": {
     "end_time": "2021-11-10T14:03:38.754169Z",
     "start_time": "2021-11-10T14:03:38.696371Z"
    }
   },
   "outputs": [
    {
     "ename": "NameError",
     "evalue": "name 'plt' is not defined",
     "output_type": "error",
     "traceback": [
      "\u001b[0;31m---------------------------------------------------------------------------\u001b[0m",
      "\u001b[0;31mNameError\u001b[0m                                 Traceback (most recent call last)",
      "\u001b[0;32m<ipython-input-3-8104679fa407>\u001b[0m in \u001b[0;36m<module>\u001b[0;34m\u001b[0m\n\u001b[1;32m      9\u001b[0m \u001b[0msamples_pp\u001b[0m\u001b[0;34m,\u001b[0m \u001b[0msignals_pp\u001b[0m\u001b[0;34m,\u001b[0m \u001b[0merrors_pp\u001b[0m \u001b[0;34m=\u001b[0m \u001b[0mtimeseries_pp\u001b[0m\u001b[0;34m.\u001b[0m\u001b[0msample\u001b[0m\u001b[0;34m(\u001b[0m\u001b[0mirregular_time_samples_pp\u001b[0m\u001b[0;34m)\u001b[0m\u001b[0;34m\u001b[0m\u001b[0;34m\u001b[0m\u001b[0m\n\u001b[1;32m     10\u001b[0m \u001b[0;34m\u001b[0m\u001b[0m\n\u001b[0;32m---> 11\u001b[0;31m \u001b[0mplt\u001b[0m\u001b[0;34m.\u001b[0m\u001b[0mplot\u001b[0m\u001b[0;34m(\u001b[0m\u001b[0mirregular_time_samples_pp\u001b[0m\u001b[0;34m,\u001b[0m \u001b[0msamples_pp\u001b[0m\u001b[0;34m,\u001b[0m \u001b[0mmarker\u001b[0m\u001b[0;34m=\u001b[0m\u001b[0;34m'o'\u001b[0m\u001b[0;34m)\u001b[0m\u001b[0;34m\u001b[0m\u001b[0;34m\u001b[0m\u001b[0m\n\u001b[0m\u001b[1;32m     12\u001b[0m \u001b[0mplt\u001b[0m\u001b[0;34m.\u001b[0m\u001b[0mxlabel\u001b[0m\u001b[0;34m(\u001b[0m\u001b[0;34m'Time'\u001b[0m\u001b[0;34m)\u001b[0m \u001b[0;31m#X-axis label\u001b[0m\u001b[0;34m\u001b[0m\u001b[0;34m\u001b[0m\u001b[0m\n\u001b[1;32m     13\u001b[0m \u001b[0mplt\u001b[0m\u001b[0;34m.\u001b[0m\u001b[0mylabel\u001b[0m\u001b[0;34m(\u001b[0m\u001b[0;34m'Magnitude'\u001b[0m\u001b[0;34m)\u001b[0m \u001b[0;31m#Y-axis label\u001b[0m\u001b[0;34m\u001b[0m\u001b[0;34m\u001b[0m\u001b[0m\n",
      "\u001b[0;31mNameError\u001b[0m: name 'plt' is not defined"
     ]
    }
   ],
   "source": [
    "time_sampler_pp = ts.TimeSampler(stop_time=20) \n",
    "\n",
    "irregular_time_samples_pp = time_sampler_pp.sample_irregular_time(resolution=0.05, keep_percentage=50)\n",
    "\n",
    "pseudo_periodic = ts.signals.PseudoPeriodic(frequency=2, freqSD=0.01, ampSD=0.5)\n",
    "\n",
    "timeseries_pp = ts.TimeSeries(pseudo_periodic)\n",
    "\n",
    "samples_pp, signals_pp, errors_pp = timeseries_pp.sample(irregular_time_samples_pp)\n",
    "\n",
    "plt.plot(irregular_time_samples_pp, samples_pp, marker='o')\n",
    "plt.xlabel('Time') #X-axis label\n",
    "plt.ylabel('Magnitude') #Y-axis label\n",
    "plt.title('Pseudoperiodic signal'); #title of the plot "
   ]
  },
  {
   "cell_type": "code",
   "execution_count": 4,
   "id": "d4a67ba4",
   "metadata": {
    "ExecuteTime": {
     "end_time": "2021-11-10T14:03:43.980569Z",
     "start_time": "2021-11-10T14:03:43.960870Z"
    }
   },
   "outputs": [
    {
     "ename": "NameError",
     "evalue": "name 'plt' is not defined",
     "output_type": "error",
     "traceback": [
      "\u001b[0;31m---------------------------------------------------------------------------\u001b[0m",
      "\u001b[0;31mNameError\u001b[0m                                 Traceback (most recent call last)",
      "\u001b[0;32m<ipython-input-4-403537cb6a81>\u001b[0m in \u001b[0;36m<module>\u001b[0;34m\u001b[0m\n\u001b[1;32m      7\u001b[0m \u001b[0msamples\u001b[0m \u001b[0;34m=\u001b[0m \u001b[0mcar_series\u001b[0m\u001b[0;34m.\u001b[0m\u001b[0msample\u001b[0m\u001b[0;34m(\u001b[0m\u001b[0mirregular_time_samples\u001b[0m\u001b[0;34m)\u001b[0m\u001b[0;34m\u001b[0m\u001b[0;34m\u001b[0m\u001b[0m\n\u001b[1;32m      8\u001b[0m \u001b[0;34m\u001b[0m\u001b[0m\n\u001b[0;32m----> 9\u001b[0;31m \u001b[0mplt\u001b[0m\u001b[0;34m.\u001b[0m\u001b[0mplot\u001b[0m\u001b[0;34m(\u001b[0m\u001b[0mirregular_time_samples\u001b[0m\u001b[0;34m,\u001b[0m \u001b[0msamples\u001b[0m\u001b[0;34m[\u001b[0m\u001b[0;36m0\u001b[0m\u001b[0;34m]\u001b[0m\u001b[0;34m,\u001b[0m \u001b[0mmarker\u001b[0m\u001b[0;34m=\u001b[0m\u001b[0;34m'o'\u001b[0m\u001b[0;34m,\u001b[0m \u001b[0mmarkersize\u001b[0m\u001b[0;34m=\u001b[0m\u001b[0;36m4\u001b[0m\u001b[0;34m)\u001b[0m\u001b[0;34m\u001b[0m\u001b[0;34m\u001b[0m\u001b[0m\n\u001b[0m\u001b[1;32m     10\u001b[0m \u001b[0mplt\u001b[0m\u001b[0;34m.\u001b[0m\u001b[0mxlabel\u001b[0m\u001b[0;34m(\u001b[0m\u001b[0;34m'Time'\u001b[0m\u001b[0;34m)\u001b[0m  \u001b[0;31m#X-axis label\u001b[0m\u001b[0;34m\u001b[0m\u001b[0;34m\u001b[0m\u001b[0m\n\u001b[1;32m     11\u001b[0m \u001b[0mplt\u001b[0m\u001b[0;34m.\u001b[0m\u001b[0mylabel\u001b[0m\u001b[0;34m(\u001b[0m\u001b[0;34m'Value'\u001b[0m\u001b[0;34m)\u001b[0m  \u001b[0;31m#Y-axis label\u001b[0m\u001b[0;34m\u001b[0m\u001b[0;34m\u001b[0m\u001b[0m\n",
      "\u001b[0;31mNameError\u001b[0m: name 'plt' is not defined"
     ]
    }
   ],
   "source": [
    "car = ts.signals.CAR(ar_param=0.9, sigma=0.01)\n",
    "\n",
    "car_series = ts.TimeSeries(signal_generator=car)\n",
    "\n",
    "irregular_time_samples = time_sampler_pp.sample_irregular_time(resolution=0.05, keep_percentage=50)\n",
    "\n",
    "samples = car_series.sample(irregular_time_samples)\n",
    "\n",
    "plt.plot(irregular_time_samples, samples[0], marker='o', markersize=4)\n",
    "plt.xlabel('Time')  #X-axis label\n",
    "plt.ylabel('Value')  #Y-axis label\n",
    "plt.title(' Continuous Autoregressive process');  #title of the plot "
   ]
  },
  {
   "cell_type": "code",
   "execution_count": null,
   "id": "725d8c43",
   "metadata": {},
   "outputs": [],
   "source": []
  }
 ],
 "metadata": {
  "kernelspec": {
   "display_name": "Python 3",
   "language": "python",
   "name": "python3"
  },
  "language_info": {
   "codemirror_mode": {
    "name": "ipython",
    "version": 3
   },
   "file_extension": ".py",
   "mimetype": "text/x-python",
   "name": "python",
   "nbconvert_exporter": "python",
   "pygments_lexer": "ipython3",
   "version": "3.7.8"
  }
 },
 "nbformat": 4,
 "nbformat_minor": 5
}
