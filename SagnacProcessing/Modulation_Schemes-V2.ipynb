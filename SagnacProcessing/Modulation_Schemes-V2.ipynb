{
 "cells": [
  {
   "cell_type": "markdown",
   "metadata": {},
   "source": [
    "<div style='background-image: url(\"https://www.geophysik.uni-muenchen.de/ROMY/theme/images/ringlaser_wideformat.jpg\") ; padding: 0px ; background-size: cover ; border-radius: 15px ; height: 250px; background-position: 0% 80%'>\n",
    "    <div style=\"float: left ; margin: 50px ; padding: 20px ; background: rgba(255 , 255 , 255 , 0.9) ; width: 40% ; height: 150px\">\n",
    "        <div style=\"position: relative ; top: 50%;  transform: translatey(-50%)\">\n",
    "            <div style=\"font-size: xx-large ; font-weight: 900 ; color: rgba(0 , 0 , 0 , 0.9) ; line-height: 100%\">ROMY - <br> <br> Modulation Schemes </div>\n",
    "            <div style=\"font-size: large ; padding-top: 20px ; color: rgba(0 , 0 , 0 , 0.7)\"></div>\n",
    "        </div>\n",
    "    </div>"
   ]
  },
  {
   "cell_type": "markdown",
   "metadata": {},
   "source": [
    "# Modulation Schemes for synthetic Sagnac signal"
   ]
  },
  {
   "cell_type": "markdown",
   "metadata": {},
   "source": [
    "### Import Libraries"
   ]
  },
  {
   "cell_type": "code",
   "execution_count": null,
   "metadata": {
    "ExecuteTime": {
     "end_time": "2021-11-10T13:31:09.006531Z",
     "start_time": "2021-11-10T13:31:07.958544Z"
    }
   },
   "outputs": [],
   "source": [
    "import warnings\n",
    "warnings.filterwarnings(\"ignore\")\n",
    "\n",
    "import numpy as np \n",
    "import matplotlib.pyplot as plt\n",
    "import obspy \n",
    "import time\n",
    "\n",
    "\n",
    "from scipy.fft import fft\n",
    "from scipy import optimize\n",
    "from scipy.signal import butter, lfilter, resample, hilbert, ricker, decimate\n",
    "from tqdm import tqdm\n",
    "\n",
    "from andbro__querrySeismoData import __querrySeismoData"
   ]
  },
  {
   "cell_type": "markdown",
   "metadata": {},
   "source": [
    "### Load Processing Methods"
   ]
  },
  {
   "cell_type": "code",
   "execution_count": null,
   "metadata": {
    "ExecuteTime": {
     "end_time": "2021-11-10T13:31:09.010506Z",
     "start_time": "2021-11-10T13:31:09.008041Z"
    }
   },
   "outputs": [],
   "source": [
    "import sys\n",
    "sys.path.insert(0, 'submodules')"
   ]
  },
  {
   "cell_type": "code",
   "execution_count": null,
   "metadata": {
    "ExecuteTime": {
     "end_time": "2021-11-10T13:31:09.020619Z",
     "start_time": "2021-11-10T13:31:09.011836Z"
    },
    "code_folding": []
   },
   "outputs": [],
   "source": [
    "from QuerrySeismoData import __querry_seismo_data\n",
    "from FastFourierTransform import __fast_fourier_transform\n",
    "from CreateSyntheticEventV2 import __create_synthetic_event_v2\n",
    "from Modulation import __modulation\n",
    "from ResampleDigitalSignal import __resample_digital_signal\n",
    "from ProcessingModeltrace import __processing_modeltrace\n",
    "# from Interpolation import __interpolation\n",
    "from TracePadding import __trace_padding\n",
    "from EchoPerformance import __echo_performance\n",
    "from Tapering import __tapering\n",
    "from CreateLinearChirp import __create_linear_chirp\n",
    "from Normalize import __normalize"
   ]
  },
  {
   "cell_type": "markdown",
   "metadata": {},
   "source": [
    "### Load Plotting Methods"
   ]
  },
  {
   "cell_type": "code",
   "execution_count": null,
   "metadata": {
    "ExecuteTime": {
     "end_time": "2021-11-10T13:31:09.792202Z",
     "start_time": "2021-11-10T13:31:09.785862Z"
    },
    "code_folding": []
   },
   "outputs": [],
   "source": [
    "from MakeplotModulatedSignal import __makeplot_modulated_signal\n",
    "from MakeplotTraceAndSpectrum import __makeplot_trace_and_spectrum\n",
    "from MakeplotCompareSchemes import __makeplot_compare_schemes\n",
    "from MakeplotTraceAndPSD import __makeplot_trace_and_psd\n"
   ]
  },
  {
   "cell_type": "markdown",
   "metadata": {},
   "source": [
    "### Setting crucial parameters"
   ]
  },
  {
   "cell_type": "code",
   "execution_count": null,
   "metadata": {
    "ExecuteTime": {
     "end_time": "2021-11-10T13:31:10.234027Z",
     "start_time": "2021-11-10T13:31:10.223981Z"
    },
    "code_folding": []
   },
   "outputs": [],
   "source": [
    "from RingLaser import RingLaser\n",
    "\n",
    "## define G-Ring\n",
    "G = RingLaser(side=4., form=\"square\", wl=632.8e-9, lat=49.16)\n",
    "G_sgnc = G.get_sagnac_frequency()\n",
    "\n",
    "\n",
    "## define ROMY Z-Ring\n",
    "ROMY_Z = RingLaser(side=11., form=\"triangle\", wl=632.8e-9, lat=49.16)\n",
    "ROMY_Z_sgnc = ROMY_Z.get_sagnac_frequency()\n",
    "\n",
    "\n",
    "print(f'Sagnac frequency (G-ring) : {round(G_sgnc,3)} Hz')\n",
    "print(f'Sagnac frequency (ROMY Z-ring) : {round(ROMY_Z_sgnc,3)} Hz')\n"
   ]
  },
  {
   "cell_type": "markdown",
   "metadata": {},
   "source": [
    "## Configuration"
   ]
  },
  {
   "cell_type": "code",
   "execution_count": null,
   "metadata": {
    "ExecuteTime": {
     "end_time": "2021-11-10T13:31:11.084304Z",
     "start_time": "2021-11-10T13:31:11.080523Z"
    }
   },
   "outputs": [],
   "source": [
    "div = 10\n",
    "oversampling = 1\n",
    "\n",
    "T = 1600/div\n",
    "\n",
    "sps = 5000\n",
    "\n",
    "sgnc = 553\n",
    "\n",
    "f_lower, f_upper = 0.01, 5.0\n",
    "\n",
    "\n",
    "modulation_index = 0.1/f_lower\n",
    "print(modulation_index)\n",
    "modulation_index = 1.0\n",
    "\n",
    "\n",
    "syn_signal = 'synthetic_trace'  ## 'chirp' or 'synthetic_trace' or 'real_trace'\n",
    "\n"
   ]
  },
  {
   "cell_type": "markdown",
   "metadata": {},
   "source": [
    "## Get Synthetic Signal"
   ]
  },
  {
   "cell_type": "markdown",
   "metadata": {},
   "source": [
    "Depending on varibale: syn_signal, a synthetic signal is loaded or generated. \n",
    "\n",
    "#### 1: synthetic_trace: \n",
    "\n",
    "A synthetic trace is loaded or generated if not yet existing using ricker wavelets and random spikes. With limited bandwidth. \n",
    "\n",
    "#### 2: chirp: \n",
    "\n",
    "A chirp with respective bandwidth is generated.\n",
    "\n",
    "#### 3: real_trace:\n",
    "\n",
    "Querry data of RLAS for an arbitrary event on 2020-10-30. "
   ]
  },
  {
   "cell_type": "code",
   "execution_count": null,
   "metadata": {
    "ExecuteTime": {
     "end_time": "2021-11-10T13:31:12.491236Z",
     "start_time": "2021-11-10T13:31:12.487444Z"
    }
   },
   "outputs": [],
   "source": [
    "sps = sps * oversampling"
   ]
  },
  {
   "cell_type": "code",
   "execution_count": null,
   "metadata": {
    "ExecuteTime": {
     "end_time": "2021-11-10T14:02:01.411842Z",
     "start_time": "2021-11-10T14:02:01.032709Z"
    },
    "code_folding": [
     17,
     28,
     59
    ]
   },
   "outputs": [],
   "source": [
    "syn_signal = 'synthetic_trace'\n",
    "\n",
    "if syn_signal == 'synthetic_trace':\n",
    "\n",
    "    ##_______________________________________________________________\n",
    "    ## call synthetic event generator (version2)\n",
    "\n",
    "    modeltrace, time_modeltrace =  __create_synthetic_event_v2(T, \n",
    "                                                               sps,\n",
    "                                                               f_lower,\n",
    "                                                               f_upper,\n",
    "                                                               noise=False, \n",
    "                                                               padding=10,\n",
    "                                                              )\n",
    "    modeltrace = __normalize(modeltrace)\n",
    "\n",
    "## ______________________________________________\n",
    "elif syn_signal == 'chirp':\n",
    "    ##_______________________________________________________________\n",
    "    ## make chirp signal\n",
    "    \n",
    "    modeltrace, time_modeltrace = __create_linear_chirp(T, \n",
    "                                                        sps, \n",
    "                                                        f_lower, \n",
    "                                                        f_upper,\n",
    "                                                       )\n",
    "\n",
    "## ______________________________________________\n",
    "elif syn_signal == 'real_trace':\n",
    "    \n",
    "    ## set starttime and endtime\n",
    "    tbeg = obspy.UTCDateTime(2020, 10, 30, 12, 5)\n",
    "#     tend = obspy.UTCDateTime(2020, 10, 30, 12, 20)\n",
    "    tend = tbeg + T\n",
    "    \n",
    "    ## get stream data\n",
    "    RLAS, RLAS_inv = __querry_seismo_data(\"BW.RLAS..HJZ\", \n",
    "                                          tbeg, \n",
    "                                          tend, \n",
    "                                          restitute=True,\n",
    "                                          )\n",
    "    \n",
    "    RLAS[0].resample(sampling_rate=sps)\n",
    "    \n",
    "    RLAS[0].filter('bandpass', freqmin=f_lower, freqmax=f_upper, corners=4, zerophase=True)\n",
    "    \n",
    "    time_modeltrace = np.arange(0, T+1/sps, 1/sps)\n",
    "    modeltrace = RLAS[0].data[0:time_modeltrace.size]\n",
    "    \n",
    "    ## no normalization but rather scaling with ring scale factor\n",
    "#     modeltrace = __normalize(modeltrace)\n",
    "    modeltrace = modeltrace * ROMY_Z.get_scale_factor()\n",
    "    modulation_index = 0.1\n",
    "    \n",
    "#     modeltrace, time_modeltrace = __processing_modeltrace(RLAS, time_shift, duration)\n",
    "\n",
    "#     __makeplot_trace_and_spectrum(RLAS[0], RLAS[0].times(\"Matplotlib\"), fmax=1.);  \n",
    "    \n",
    "## ______________________________________________    \n",
    "else:\n",
    "    print(\"Wrong choise!\")\n",
    "    "
   ]
  },
  {
   "cell_type": "code",
   "execution_count": null,
   "metadata": {
    "ExecuteTime": {
     "end_time": "2021-11-10T14:02:02.320929Z",
     "start_time": "2021-11-10T14:02:02.201330Z"
    }
   },
   "outputs": [],
   "source": [
    "modeltrace = __tapering(modeltrace, taper_type='window', percent=0.2)"
   ]
  },
  {
   "cell_type": "code",
   "execution_count": null,
   "metadata": {
    "ExecuteTime": {
     "end_time": "2021-11-10T14:02:02.970936Z",
     "start_time": "2021-11-10T14:02:02.582297Z"
    },
    "scrolled": true
   },
   "outputs": [],
   "source": [
    "__makeplot_trace_and_spectrum(modeltrace, time_modeltrace, fmax=2*f_upper);"
   ]
  },
  {
   "cell_type": "markdown",
   "metadata": {},
   "source": [
    "# Modulation"
   ]
  },
  {
   "cell_type": "markdown",
   "metadata": {},
   "source": [
    "There are 3 different cases implemented for the modulation scheme:\n",
    "\n",
    "#### case == 1:\n",
    "\n",
    "$ s_1(t) = A_s \\cdot sin( \\ 2\\pi \\ (f_c + \\kappa \\cdot f_m ) \\cdot t \\ )$\n",
    "\n",
    "(often found, simple modulation equation, probaly not correct)\n",
    "\n",
    "________________________________\n",
    "\n",
    "#### case == 2:\n",
    "\n",
    "$ s_2(t) = A_s \\cdot sin( \\ \\omega_c \\cdot t - m_{fm} \\cdot cos(\\omega_m \\cdot t ) \\ )$\n",
    "\n",
    "inferred from $\\omega_i = \\omega_c + sin( \\ \\omega_m \\ \\cdot t \\ )$;\n",
    "\n",
    "$\\theta = \\int \\omega_i \\delta t  =  \\omega_c t - m_{fm} cos( \\ \\omega_m \\ \\cdot t \\ )$\n",
    "\n",
    "with $ m_{fm} = \\frac{ \\Delta f }{ f_m } $\n",
    "\n",
    "Source: https://en.wikibooks.org/wiki/Communication_Systems/Frequency_Modulation\n",
    "\n",
    "____________________\n",
    "\n",
    "#### case == 3: \n",
    "\n",
    "$ s(t) = A_s \\cdot \\sin( \\ 2 \\pi \\cdot \\ (f_{c} +  m_{f} \\int_0^t f_{mod}(\\tau) d\\tau )\\ ), $\n",
    "\n",
    "with $f_c$ being the carrier frequency, $A$ the carrier Amplitude and $ m_{f} = \\frac{ \\Delta f }{ f_{mod} } $ being the modulation index ($\\Delta f$ = peak frequency deviation; $f_{mod}$ = maximal frequency of modulation signal).\n",
    " "
   ]
  },
  {
   "cell_type": "markdown",
   "metadata": {},
   "source": [
    "### Compare Schemes"
   ]
  },
  {
   "cell_type": "code",
   "execution_count": null,
   "metadata": {
    "ExecuteTime": {
     "end_time": "2021-11-10T13:02:52.629578Z",
     "start_time": "2021-11-10T13:02:51.123765Z"
    }
   },
   "outputs": [],
   "source": [
    "syn_signal_1, timeline_1 = __modulation(modeltrace, time_modeltrace, sgnc, T, sps, modulation_index, case=1)\n",
    "syn_signal_2, timeline_2 = __modulation(modeltrace, time_modeltrace, sgnc, T, sps, modulation_index, case=2)\n",
    "syn_signal_3, timeline_3 = __modulation(modeltrace, time_modeltrace, sgnc, T, sps, modulation_index, case=3)\n",
    "\n",
    "\n",
    "for i, spl in enumerate(timeline_2-timeline_1):\n",
    "    if spl != 0:\n",
    "        print(i)"
   ]
  },
  {
   "cell_type": "code",
   "execution_count": null,
   "metadata": {
    "ExecuteTime": {
     "end_time": "2021-11-10T13:02:54.064882Z",
     "start_time": "2021-11-10T13:02:54.052170Z"
    },
    "code_folding": [
     1,
     3
    ]
   },
   "outputs": [],
   "source": [
    "\n",
    "def __makeplot_compare_modulation2(syn_signal_1, syn_signal_2, syn_signal_3, timeline, sgnc, shift, duration):\n",
    "\n",
    "    def __welch(syn_signal, sps):\n",
    "\n",
    "        from scipy.signal import welch\n",
    "        from numpy.fft import fftshift\n",
    "\n",
    "        freqs, signal_psd = welch(syn_signal, sps, return_onesided=True, nperseg=1e6, scaling=\"density\")\n",
    "\n",
    "        return signal_psd, freqs\n",
    "    \n",
    "    signal_psd_1, freqs_1 = __welch(syn_signal_1, sps)\n",
    "    signal_psd_2, freqs_2 = __welch(syn_signal_2, sps)\n",
    "    signal_psd_3, freqs_3 = __welch(syn_signal_3, sps)\n",
    "\n",
    "#     signal_psd_1 = 20 * np.log10(signal_psd_1)\n",
    "#     signal_psd_2 = 20 * np.log10(signal_psd_2)\n",
    "#     signal_psd_3 = 20 * np.log10(signal_psd_3)\n",
    "    \n",
    "    ## _____________________________________________________________________\n",
    "\n",
    "    fig, ax = plt.subplots(6, 1, figsize=(15,12))\n",
    "\n",
    "    plt.subplots_adjust(hspace=0.5)\n",
    "\n",
    "    font = 12\n",
    "    \n",
    "    ## _____________________________________________________________________\n",
    "    ax[0].plot(freqs_1, signal_psd_1,'r')\n",
    "\n",
    "    ax[0].plot(freqs_2, signal_psd_2,'b')\n",
    "\n",
    "    ax[0].plot(freqs_3, signal_psd_3,'g')\n",
    "    \n",
    "#     ax[0].set_xscale('log')\n",
    "    ax[0].set_yscale('log')\n",
    "\n",
    "    ax[0].grid(which='both', alpha=0.5, ls='--') \n",
    "\n",
    "    ax[0].set_xlabel('frequency (Hz)',fontsize=font)\n",
    "    ax[0].set_ylabel(r'PSD ($ \\frac{rad^2}{s^2 Hz}$)',fontsize=font)\n",
    "    \n",
    "    ax[0].legend(['M1','M2','M3'], loc=\"upper right\")\n",
    "\n",
    "    ax[0].set_xlim(sgnc-15, sgnc+15)\n",
    "    \n",
    "    ax[0].axvline(sgnc, color='darkgrey', ls='--')\n",
    "\n",
    "    \n",
    "    ## _____________________________________________________________________\n",
    "    num1 = int(shift/(timeline[1]-timeline[0]))\n",
    "    num2 = duration + num1\n",
    "    \n",
    "    ax[1].plot(timeline[num1:num2], syn_signal_1[num1:num2],'r')\n",
    "    ax[1].scatter(timeline[num1:num2], syn_signal_1[num1:num2], s=5, color='r')\n",
    "\n",
    "    ax[1].plot(timeline[num1:num2], syn_signal_2[num1:num2],'b')\n",
    "    ax[1].scatter(timeline[num1:num2], syn_signal_2[num1:num2], s=5, color='b')\n",
    "\n",
    "    ax[1].plot(timeline[num1:num2], syn_signal_3[num1:num2],'g')\n",
    "    ax[1].scatter(timeline[num1:num2], syn_signal_3[num1:num2], s=5, color='g')\n",
    "\n",
    "    \n",
    "    ax[1].set_xlabel('time (s)',fontsize=font)\n",
    "    ax[1].set_ylabel('amplitude',fontsize=font)\n",
    "\n",
    "    ax[1].grid(which='both', alpha=0.5, ls='--') \n",
    "    \n",
    "    ax[1].legend(['M1','M2','M3'], loc=\"upper right\")\n",
    "\n",
    "    ## _____________________________________________________________________\n",
    "\n",
    "    ax[2].plot(timeline[num1:num2], syn_signal_1[num1:num2]-syn_signal_2[num1:num2],'k', ls='-.')\n",
    "    \n",
    "    ax[2].plot(timeline[num1:num2], syn_signal_1[num1:num2]-syn_signal_3[num1:num2],'k', ls='--')\n",
    "\n",
    "    ax[2].plot(timeline[num1:num2], syn_signal_2[num1:num2]-syn_signal_3[num1:num2],'k', ls=':')\n",
    "\n",
    "    \n",
    "    ax[2].set_xlabel('time (s)',fontsize=font)\n",
    "    ax[2].set_ylabel('residual',fontsize=font)\n",
    "\n",
    "    ax[2].legend(['M1 - M2', 'M1 - M3', 'M2 - M3'], loc=\"upper right\")\n",
    "\n",
    "   \n",
    "    ax[2].grid(which='both', alpha=0.5, ls='--') \n",
    "\n",
    "    \n",
    "    ## _____________________________________________________________________\n",
    "\n",
    "    ax[3].plot(timeline, syn_signal_1-syn_signal_2,'k', ls='-.')\n",
    "\n",
    "    ax[3].set_xlabel('time (s)',fontsize=font)\n",
    "    ax[3].set_ylabel('residual',fontsize=font)\n",
    "\n",
    "    ax[3].legend(['M1 - M2'], loc=\"upper right\")\n",
    "    \n",
    "    ax[3].axvline(shift, color='y')\n",
    "    \n",
    "    ## _____________________________________________________________________\n",
    "\n",
    "    ax[4].plot(timeline, syn_signal_1-syn_signal_3,'k', ls='--')\n",
    "\n",
    "    ax[4].set_xlabel('time (s)',fontsize=font)\n",
    "    ax[4].set_ylabel('residual',fontsize=font)\n",
    "\n",
    "    ax[4].legend(['M1 - M3'], loc=\"upper right\")\n",
    "\n",
    "    ax[4].axvline(shift, color='y')\n",
    "\n",
    "    ## _____________________________________________________________________\n",
    "\n",
    "    ax[5].plot(timeline, syn_signal_2-syn_signal_3,'k', ls=':')\n",
    "\n",
    "    \n",
    "    ax[5].set_xlabel('time (s)',fontsize=font)\n",
    "    ax[5].set_ylabel('residual',fontsize=font)\n",
    "\n",
    "    ax[5].legend(['M2 - M3'], loc=\"upper right\")\n",
    "\n",
    "    ax[5].axvline(shift, color='y')\n",
    "   \n",
    "\n",
    "    plt.show();\n",
    "\n",
    "    return fig\n"
   ]
  },
  {
   "cell_type": "code",
   "execution_count": null,
   "metadata": {
    "ExecuteTime": {
     "end_time": "2021-11-10T13:02:55.939376Z",
     "start_time": "2021-11-10T13:02:54.339547Z"
    }
   },
   "outputs": [],
   "source": [
    "__makeplot_compare_modulation2(syn_signal_1, syn_signal_2, syn_signal_3, timeline_1, sgnc, 50, 500);"
   ]
  },
  {
   "cell_type": "code",
   "execution_count": null,
   "metadata": {
    "ExecuteTime": {
     "end_time": "2021-11-10T13:03:17.669942Z",
     "start_time": "2021-11-10T13:03:17.667091Z"
    }
   },
   "outputs": [],
   "source": [
    "import pickle\n",
    "\n",
    "# filename = 'test2'\n",
    "# outfile = open(filename,'wb')\n",
    "# pickle.dump(syn_signal_3,outfile)\n",
    "# outfile.close()"
   ]
  },
  {
   "cell_type": "code",
   "execution_count": null,
   "metadata": {
    "ExecuteTime": {
     "end_time": "2021-11-10T13:03:18.313010Z",
     "start_time": "2021-11-10T13:03:18.310033Z"
    }
   },
   "outputs": [],
   "source": [
    "# filename = 'test'\n",
    "# infile = open(filename,'rb')\n",
    "# syn_signal_1 = pickle.load(infile)\n",
    "# infile.close()\n",
    "\n",
    "# filename = 'test2'\n",
    "# infile = open(filename,'rb')\n",
    "# syn_signal_2 = pickle.load(infile)\n",
    "# infile.close()"
   ]
  },
  {
   "cell_type": "code",
   "execution_count": null,
   "metadata": {
    "ExecuteTime": {
     "end_time": "2021-11-10T13:03:19.455540Z",
     "start_time": "2021-11-10T13:03:18.516363Z"
    },
    "code_folding": [
     1
    ]
   },
   "outputs": [],
   "source": [
    "\n",
    "def __makeplot_compare_modulation3(syn_signal_1, syn_signal_2, syn_signal_3, timeline, sgnc, shift, duration):\n",
    "\n",
    "    def __welch(syn_signal, sps):\n",
    "\n",
    "        from scipy.signal import welch\n",
    "        from numpy.fft import fftshift\n",
    "\n",
    "        freqs, signal_psd = welch(syn_signal, sps, return_onesided=True, nperseg=1e6, scaling=\"density\")\n",
    "\n",
    "        return signal_psd, freqs\n",
    "    \n",
    "    signal_psd_1, freqs_1 = __welch(syn_signal_1, sps)\n",
    "    signal_psd_2, freqs_2 = __welch(syn_signal_2, sps)\n",
    "    signal_psd_3, freqs_3 = __welch(syn_signal_3, sps)\n",
    "\n",
    "#     signal_psd_1 = 20 * np.log10(signal_psd_1)\n",
    "#     signal_psd_2 = 20 * np.log10(signal_psd_2)\n",
    "#     signal_psd_3 = 20 * np.log10(signal_psd_3)\n",
    "    \n",
    "    ## _____________________________________________________________________\n",
    "\n",
    "    fig, ax = plt.subplots(2, 1, figsize=(15,8))\n",
    "\n",
    "    plt.subplots_adjust(hspace=0.5)\n",
    "\n",
    "    font = 12\n",
    "    \n",
    "    ## _____________________________________________________________________\n",
    "#     ax[0].plot(freqs_1, signal_psd_1, 'r')\n",
    "\n",
    "#     ax[0].plot(freqs_2, signal_psd_2,'b')\n",
    "\n",
    "    ax[0].plot(freqs_3, signal_psd_3, color='darkorange')\n",
    "    \n",
    "#     ax[0].set_xscale('log')\n",
    "    ax[0].set_yscale('log')\n",
    "\n",
    "    ax[0].grid(which='both', alpha=0.5, ls='--') \n",
    "\n",
    "    ax[0].set_xlabel('frequency (Hz)',fontsize=font)\n",
    "    ax[0].set_ylabel(r'PSD ($ \\frac{rad^2}{s^2 Hz}$)',fontsize=font)\n",
    "    \n",
    "    ax[0].legend(['M1','M2','M3'], loc=\"upper right\")\n",
    "\n",
    "    ax[0].set_xlim(sgnc-25, sgnc+25)\n",
    "    \n",
    "    ax[0].axvline(sgnc, color='darkgrey', ls='--', zorder=-1)\n",
    "\n",
    "    \n",
    "    ## _____________________________________________________________________\n",
    "    num1 = int(shift/(timeline[1]-timeline[0]))\n",
    "    num2 = duration + num1\n",
    "    \n",
    "#     ax[1].plot(timeline[num1:num2], syn_signal_1[num1:num2],'r')\n",
    "#     ax[1].scatter(timeline[num1:num2], syn_signal_1[num1:num2], s=10, color='r')\n",
    "\n",
    "#     ax[1].plot(timeline[num1:num2], syn_signal_2[num1:num2],'b')\n",
    "#     ax[1].scatter(timeline[num1:num2], syn_signal_2[num1:num2], s=10, color='b')\n",
    "\n",
    "    ax[1].plot(timeline[num1:num2], syn_signal_3[num1:num2], color='darkorange')\n",
    "    ax[1].scatter(timeline[num1:num2], syn_signal_3[num1:num2], s=10, color='darkorange')\n",
    "\n",
    "    \n",
    "    ax[1].set_xlabel('time (s)',fontsize=font)\n",
    "    ax[1].set_ylabel('amplitude',fontsize=font)\n",
    "\n",
    "    ax[1].grid(which='both', alpha=0.5, ls='--') \n",
    "    \n",
    "    ax[1].legend(['M1','M2','M3'], loc=\"upper right\")\n",
    "\n",
    "    ## _____________________________________________________________________\n",
    "\n",
    "    ax[2].plot(timeline[num1:num2], syn_signal_1[num1:num2]-syn_signal_2[num1:num2],'k', ls='-.')\n",
    "    \n",
    "    ax[2].plot(timeline[num1:num2], syn_signal_1[num1:num2]-syn_signal_3[num1:num2],'k', ls='--')\n",
    "\n",
    "    ax[2].plot(timeline[num1:num2], syn_signal_2[num1:num2]-syn_signal_3[num1:num2],'k', ls=':')\n",
    "\n",
    "    \n",
    "    ax[2].set_xlabel('time (s)',fontsize=font)\n",
    "    ax[2].set_ylabel('residual',fontsize=font)\n",
    "\n",
    "    ax[2].legend(['M1 - M2', 'M1 - M3', 'M2 - M3'], loc=\"upper right\")\n",
    "\n",
    "   \n",
    "    ax[2].grid(which='both', alpha=0.5, ls='--') \n",
    "\n",
    "  \n",
    "    plt.show();\n",
    "\n",
    "    return fig\n",
    "\n",
    "__makeplot_compare_modulation3(syn_signal_1, syn_signal_2, syn_signal_3, timeline_1, sgnc, shift=20, duration=100)\n"
   ]
  },
  {
   "cell_type": "markdown",
   "metadata": {},
   "source": [
    "### Reverse Oversampling"
   ]
  },
  {
   "cell_type": "code",
   "execution_count": null,
   "metadata": {
    "ExecuteTime": {
     "end_time": "2021-11-10T13:03:31.924199Z",
     "start_time": "2021-11-10T13:03:31.917299Z"
    }
   },
   "outputs": [],
   "source": [
    "modeltrace = modeltrace[::oversampling]\n",
    "time_modeltrace = time_modeltrace[::oversampling]\n",
    "\n",
    "syn_signal_1 = syn_signal_1[::oversampling]\n",
    "timeline_1 = timeline_1[::oversampling]\n",
    "\n",
    "syn_signal_2 = syn_signal_2[::oversampling]\n",
    "timeline_2 = timeline_2[::oversampling]\n",
    "\n",
    "syn_signal_3 = syn_signal_3[::oversampling]\n",
    "timeline_3 = timeline_3[::oversampling]\n",
    "\n",
    "sps = 1/(timeline_1[1]-timeline_1[0])"
   ]
  },
  {
   "cell_type": "code",
   "execution_count": null,
   "metadata": {
    "ExecuteTime": {
     "end_time": "2021-11-10T13:03:34.260893Z",
     "start_time": "2021-11-10T13:03:32.277255Z"
    }
   },
   "outputs": [],
   "source": [
    "fig1 = __makeplot_trace_and_spectrum(modeltrace, time_modeltrace, fmax=2*f_upper);\n",
    "\n",
    "fig2 = __makeplot_compare_modulation2(syn_signal_1, syn_signal_2, syn_signal_3, timeline_1, sgnc, 59, 200);"
   ]
  },
  {
   "cell_type": "code",
   "execution_count": null,
   "metadata": {
    "ExecuteTime": {
     "end_time": "2021-11-10T13:03:38.590988Z",
     "start_time": "2021-11-10T13:03:38.053123Z"
    }
   },
   "outputs": [],
   "source": [
    "oname=f\"plots/mod_schemes_{syn_signal}_T{int(T)}_fs{int(sps)}_f{f_lower}-{f_upper}_S{int(sgnc)}_Mind{round(modulation_index,1)}_IN.pdf\"\n",
    "fig1.savefig(oname, dpi=300, format='pdf')\n",
    "\n",
    "oname=f\"plots/mod_schemes_{syn_signal}_T{int(T)}_fs{int(sps)}_f{f_lower}-{f_upper}_S{int(sgnc)}_Mind{round(modulation_index,1)}.pdf\"\n",
    "fig2.savefig(oname, dpi=300, format='pdf')\n"
   ]
  },
  {
   "cell_type": "code",
   "execution_count": null,
   "metadata": {
    "ExecuteTime": {
     "end_time": "2021-11-10T13:03:34.829718Z",
     "start_time": "2021-11-10T13:03:34.826600Z"
    }
   },
   "outputs": [],
   "source": [
    "\n",
    "# __makeplot_trace_and_spectrum(modeltrace, time_modeltrace, fmax=2*f_upper);\n",
    "\n",
    "\n",
    "# __makeplot_compare_schemes(syn_signal_1,\n",
    "#                            time_axis_1,\n",
    "#                            syn_signal_2,\n",
    "#                            time_axis_2,\n",
    "#                            number_of_samples=1200,\n",
    "#                            shift_of_window=3000,\n",
    "#                           );\n"
   ]
  },
  {
   "cell_type": "code",
   "execution_count": null,
   "metadata": {},
   "outputs": [],
   "source": []
  },
  {
   "cell_type": "code",
   "execution_count": null,
   "metadata": {},
   "outputs": [],
   "source": []
  }
 ],
 "metadata": {
  "kernelspec": {
   "display_name": "Python 3",
   "language": "python",
   "name": "python3"
  },
  "language_info": {
   "codemirror_mode": {
    "name": "ipython",
    "version": 3
   },
   "file_extension": ".py",
   "mimetype": "text/x-python",
   "name": "python",
   "nbconvert_exporter": "python",
   "pygments_lexer": "ipython3",
   "version": "3.7.8"
  }
 },
 "nbformat": 4,
 "nbformat_minor": 4
}
