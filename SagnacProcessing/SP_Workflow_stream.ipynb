{
 "cells": [
  {
   "cell_type": "markdown",
   "metadata": {},
   "source": [
    "### Apply to Real Data"
   ]
  },
  {
   "cell_type": "markdown",
   "metadata": {
    "ExecuteTime": {
     "end_time": "2021-01-29T15:14:27.795046Z",
     "start_time": "2021-01-29T15:14:27.791664Z"
    }
   },
   "source": [
    "## Import "
   ]
  },
  {
   "cell_type": "markdown",
   "metadata": {
    "ExecuteTime": {
     "end_time": "2021-01-29T15:15:30.279221Z",
     "start_time": "2021-01-29T15:15:30.275801Z"
    }
   },
   "source": [
    "### Official Libraries"
   ]
  },
  {
   "cell_type": "code",
   "execution_count": null,
   "metadata": {
    "ExecuteTime": {
     "end_time": "2021-02-24T08:55:41.564072Z",
     "start_time": "2021-02-24T08:55:41.399596Z"
    }
   },
   "outputs": [],
   "source": [
    "import numpy as np\n",
    "import matplotlib.pyplot as plt\n",
    "import time\n",
    "import gc\n",
    "import os\n",
    "\n",
    "from scipy.signal import resample, hilbert, correlate\n",
    "from tqdm import tqdm\n",
    "from obspy import UTCDateTime, read\n"
   ]
  },
  {
   "cell_type": "code",
   "execution_count": null,
   "metadata": {
    "tags": []
   },
   "outputs": [],
   "source": [
    "if os.uname().nodename == 'lighthouse':\n",
    "    root_path = '/home/andbro/'\n",
    "    data_path = '/home/andbro/kilauea-data/'\n",
    "    archive_path = '/home/andbro/freenas/'\n",
    "    bay_path = '/home/andbro/bay200/'\n",
    "elif os.uname().nodename == 'kilauea':\n",
    "    root_path = '/home/brotzer/'\n",
    "    data_path = '/import/kilauea-data/'\n",
    "    archive_path = '/import/freenas-ffb-01-data/'\n",
    "    bay_path = '/bay200/'\n",
    "elif os.uname().nodename == 'lin-ffb-01':\n",
    "    root_path = '/home/brotzer/'\n",
    "    data_path = '/import/kilauea-data/'\n",
    "    archive_path = '/import/freenas-ffb-01-data/'\n",
    "    bay_path = '/bay200/'"
   ]
  },
  {
   "cell_type": "markdown",
   "metadata": {},
   "source": [
    "### Own Plotting Methods"
   ]
  },
  {
   "cell_type": "code",
   "execution_count": null,
   "metadata": {
    "ExecuteTime": {
     "end_time": "2021-02-24T08:55:42.823771Z",
     "start_time": "2021-02-24T08:55:42.818978Z"
    }
   },
   "outputs": [],
   "source": [
    "import sys\n",
    "sys.path.insert(0, 'submodules')\n",
    "\n",
    "from MakeplotTraceAndSpectrum import __makeplot_trace_and_spectrum\n",
    "from MakeplotTraceAndPSD import __makeplot_trace_and_psd\n",
    "from MakeplotModulatedSignal import __makeplot_modulated_signal"
   ]
  },
  {
   "cell_type": "markdown",
   "metadata": {},
   "source": [
    "## Configurations"
   ]
  },
  {
   "cell_type": "code",
   "execution_count": null,
   "metadata": {
    "ExecuteTime": {
     "end_time": "2021-02-24T08:55:43.392512Z",
     "start_time": "2021-02-24T08:55:43.386089Z"
    }
   },
   "outputs": [],
   "source": [
    "upsampling_rate = 10000\n",
    "upsampling = False\n",
    "\n",
    "downsampling_rate = 20\n",
    "\n",
    "path_to_figs = data_path+\"SagnacProcessing/figures/\"\n",
    "\n",
    "fband = 2 # Hz\n",
    "\n",
    "fsagnac = 302.5 # Hz\n",
    "\n",
    "cut_sec = 30 # seconds\n",
    "\n",
    "date = \"2023-09-19\" #noise\n",
    "# date = \"2023-09-08\" #event\n",
    "\n",
    "# tbeg = UTCDateTime(\"2023-09-08 22:15\")\n",
    "# tend = UTCDateTime(\"2023-09-08 22:35\")\n"
   ]
  },
  {
   "cell_type": "code",
   "execution_count": null,
   "metadata": {
    "tags": []
   },
   "outputs": [],
   "source": [
    "def __hibert_filter2(stt, cut=20, df_out=200):\n",
    "\n",
    "    '''\n",
    "    estimating the instantaneous frequency by using the formula of Jo\n",
    "\n",
    "    sig_in    = input signal\n",
    "    time_in   = input timeline\n",
    "    fs        = sampling frequency of digital signal\n",
    "    '''\n",
    "\n",
    "    import numpy as np\n",
    "    from scipy.signal import decimate, detrend, hilbert\n",
    "    from scipy import fftpack\n",
    "    from obspy import Stream, Trace\n",
    "\n",
    "    sig_in = stt[0].data\n",
    "\n",
    "    df = stt[0].stats.sampling_rate\n",
    "\n",
    "    ## estimate instantaneous frequency with hilbert\n",
    "    # analytic_signal = hilbert(sig_in)\n",
    "    analytic_signal = hilbert(sig_in, fftpack.next_fast_len(len(sig_in)))[:len(sig_in)]\n",
    "\n",
    "    amplitude_envelope = np.abs(analytic_signal)\n",
    "\n",
    "    insta_phase = np.unwrap(np.angle(analytic_signal))\n",
    "\n",
    "    insta_frequency = np.diff(insta_phase) / (2.0*np.pi) * df\n",
    "\n",
    "    insta_frequency = np.gradient(insta_phase) / (2.0*np.pi) * df\n",
    "\n",
    "    stt[0].data = insta_frequency\n",
    "\n",
    "    if upsampling:\n",
    "        stt.decimate(2) # 10000 -> 5000\n",
    "    stt.decimate(5) # 5000 -> 1000\n",
    "    stt.decimate(5) # 1000 -> 200\n",
    "    if df_out == 100 or df_out == 20:\n",
    "        stt.decimate(2) # 200 -> 100\n",
    "    if df_out == 20:\n",
    "        stt.decimate(5) # 100 -> 20\n",
    "\n",
    "    ## cut corrupt start and end\n",
    "    t1 = stt[0].stats.starttime\n",
    "    t2 = stt[0].stats.endtime\n",
    "    stt = stt.trim(t1+cut, t2-cut)\n",
    "\n",
    "    # remove trend\n",
    "    stt = stt.detrend(\"linear\")\n",
    "\n",
    "    return stt"
   ]
  },
  {
   "cell_type": "markdown",
   "metadata": {},
   "source": [
    "## Load Real Data"
   ]
  },
  {
   "cell_type": "code",
   "execution_count": null,
   "metadata": {
    "tags": []
   },
   "outputs": [],
   "source": [
    "st = read(root_path+f\"/Downloads/mseed/30min/DROMY_FJU_{date}.mseed\")\n",
    "\n",
    "# st = read(root_path+f\"/Downloads/mseed/DROMY_FJU_{date}.mseed\", starttime=tbeg, endtime=tend)\n",
    "\n",
    "for tr in st:\n",
    "    tr.data = tr.data*0.59604645e-6 # V / count  [0.59604645ug  from obsidian]\n",
    "\n",
    "\n",
    "st = st.detrend(\"linear\")\n",
    "st = st.taper(0.01)\n",
    "st = st.filter(\"bandpass\", freqmin=fsagnac-fband, freqmax=fsagnac+fband, corners=4, zerophase=True)\n",
    "\n",
    "if upsampling:\n",
    "    st = st.resample(upsampling_rate, no_filter=True)"
   ]
  },
  {
   "cell_type": "code",
   "execution_count": null,
   "metadata": {
    "tags": []
   },
   "outputs": [],
   "source": [
    "stx = __hibert_filter2(st, cut=cut_sec, df_out=downsampling_rate)"
   ]
  },
  {
   "cell_type": "code",
   "execution_count": null,
   "metadata": {
    "tags": []
   },
   "outputs": [],
   "source": [
    "stx.plot();"
   ]
  },
  {
   "cell_type": "markdown",
   "metadata": {
    "tags": []
   },
   "source": [
    "## Load Demodulated Data"
   ]
  },
  {
   "cell_type": "code",
   "execution_count": null,
   "metadata": {
    "tags": []
   },
   "outputs": [],
   "source": [
    "stt =  read(root_path+f\"/Downloads/mseed/30min/ROMY_BJU_{date}.mseed\")\n",
    "# stt =  read(root_path+f\"/Downloads/mseed/ROMY_BJU_{date}.mseed\", starttime=tbeg, endtime=tend)\n",
    "\n",
    "stt = stt.detrend(\"linear\")\n",
    "\n",
    "\n",
    "t1 = stt[0].stats.starttime\n",
    "t2 = stt[0].stats.endtime\n",
    "\n",
    "stt = stt.trim(t1+cut_sec, t2-cut_sec)\n",
    "\n",
    "stt.plot();"
   ]
  },
  {
   "cell_type": "code",
   "execution_count": null,
   "metadata": {
    "tags": []
   },
   "outputs": [],
   "source": [
    "stt, stx"
   ]
  },
  {
   "cell_type": "code",
   "execution_count": null,
   "metadata": {
    "tags": []
   },
   "outputs": [],
   "source": [
    "fmin, fmax = 0.001, 0.1\n",
    "\n",
    "stt = stt.filter(\"bandpass\", freqmin=fmin, freqmax=fmax, corners=4, zerophase=True)\n",
    "stx = stx.filter(\"bandpass\", freqmin=fmin, freqmax=fmax, corners=4, zerophase=True)\n"
   ]
  },
  {
   "cell_type": "code",
   "execution_count": null,
   "metadata": {
    "tags": []
   },
   "outputs": [],
   "source": [
    "def __compare(st1, st2):\n",
    "\n",
    "    from obspy.signal.cross_correlation import correlate, xcorr_max\n",
    "    from numpy import nan_to_num, arange, array, linspace, imag, roll, nan\n",
    "    from scipy.signal import hilbert\n",
    "    from matplotlib.gridspec import GridSpec\n",
    "    from submodules.compute_orthogonal_distance_regression import __compute_orthogonal_distance_regression\n",
    "    from submodules.get_fft import __get_fft\n",
    "\n",
    "    dt = st1[0].stats.delta\n",
    "\n",
    "    tscale, tunit = 1/60, \"min\"\n",
    "\n",
    "    times = st1[0].times()*tscale\n",
    "\n",
    "    arr1 = st1.select(channel=\"FJU\")[0].data\n",
    "    arr2 = st2.select(channel=\"BJU\")[0].data\n",
    "\n",
    "    arr1 /= max(abs(arr1))\n",
    "    arr2 /= max(abs(arr2))\n",
    "\n",
    "    Nshift = len(arr1)\n",
    "\n",
    "    ccf = correlate(arr1, arr2, shift=Nshift, demean=False, normalize='naive', method='fft')\n",
    "\n",
    "    cclags = arange(-Nshift, Nshift+1) * dt\n",
    "\n",
    "    shift, value = xcorr_max(ccf)\n",
    "\n",
    "    arr2_shifted = roll(arr2, shift)\n",
    "\n",
    "    print(\"Nshift: \", shift, \"Tshift: \", shift*dt, \"CC: \", value)\n",
    "\n",
    "\n",
    "    b1, a1 = __compute_orthogonal_distance_regression(arr1, arr2, xerr=None, yerr=None, bx=None, by=None)\n",
    "\n",
    "    b1_shifted, a1_shifted = __compute_orthogonal_distance_regression(arr1, arr2_shifted, xerr=None, yerr=None, bx=None, by=None)\n",
    "\n",
    "    xxx = linspace(arr1.min(), arr1.max(), 100)\n",
    "\n",
    "\n",
    "    res = arr1 - arr2_shifted\n",
    "\n",
    "    res[:2*shift] *= nan\n",
    "    res[-2*shift:] *= nan\n",
    "\n",
    "    spec1, f1, p1 = __get_fft(arr1, dt, window='hann')\n",
    "    spec2, f2, p2 = __get_fft(arr2_shifted, dt, window='hann')\n",
    "\n",
    "\n",
    "    # ___________________________________________\n",
    "    #\n",
    "\n",
    "    Nrow, Ncol = 5, 2\n",
    "    font = 12\n",
    "\n",
    "    fig = plt.figure(figsize=(12, 10))\n",
    "\n",
    "    gs0 = GridSpec(Nrow, Ncol, figure=fig, hspace=0.5)\n",
    "    gs = GridSpec(Nrow, Ncol, figure=fig, hspace=0.2)\n",
    "\n",
    "    ax1 = fig.add_subplot(gs[0, :])\n",
    "    ax2 = fig.add_subplot(gs[1, :])\n",
    "    ax3 = fig.add_subplot(gs[2, :])\n",
    "    ax4 = fig.add_subplot(gs0[3, :1])\n",
    "    ax5 = fig.add_subplot(gs0[3, 1:])\n",
    "    ax6 = fig.add_subplot(gs0[4, :1])\n",
    "    ax7 = fig.add_subplot(gs0[4, 1:])\n",
    "\n",
    "    plt.subplots_adjust(hspace=0.35)\n",
    "\n",
    "    ax1.plot(times, arr1, color=\"black\", label=f\"{st1[0].stats.channel}\")\n",
    "    ax1.set_ylabel(\"Arb. ()\", fontsize=font)\n",
    "    # ax1.get_xaxis().set_visible(False)\n",
    "    ax1.legend(loc=1)\n",
    "\n",
    "    ax2.plot(times, arr2, color=\"tab:red\", label=f\"{st2[0].stats.channel}\")\n",
    "    ax2.legend(loc=1, ncol=1)\n",
    "    ax2.set_ylabel(\"Arb. ()\", fontsize=font)\n",
    "\n",
    "    ax3.plot(times, res, color=\"grey\", label=f\"FJU-BJU\")\n",
    "    ax3.legend(loc=1, ncol=1)\n",
    "    ax3.set_ylabel(\"Arb. ()\", fontsize=font)\n",
    "    ax3.set_xlabel(f\"Time ({tunit})\", fontsize=font, labelpad=1)\n",
    "\n",
    "    ax4.scatter(arr1, arr2, color=\"black\", s=2)\n",
    "    ax4.plot(xxx, (a1+b1*xxx), ls=\"--\", color=\"b\", label=f\"a={a1:.2f}; b={b1:.2f}\")\n",
    "    ax4.set_xlabel(\"FJU\", fontsize=font)\n",
    "    ax4.set_ylabel(\"BJU\", fontsize=font)\n",
    "    ax4.legend(loc=4)\n",
    "\n",
    "    ax5.scatter(arr1, arr2_shifted, color=\"black\", s=2)\n",
    "    ax5.plot(xxx, (a1_shifted+b1_shifted*xxx), ls=\"--\", color=\"b\", label=f\"a={a1_shifted:.2f}; b={b1_shifted:.2f}\")\n",
    "    ax5.set_xlabel(\"FJU\", fontsize=font)\n",
    "    ax5.set_ylabel(\"BJU\", fontsize=font)\n",
    "    ax5.legend(loc=4)\n",
    "\n",
    "    ll = f\"t={round(shift*dt, 1)} s  CC={round(value, 5)}\"\n",
    "    ax6.plot(cclags, ccf, color=\"k\", label=ll)\n",
    "    ax6.set_ylabel(\"CC-Coeff.\", fontsize=font)\n",
    "    ax6.set_xlabel(\"Lag time (s)\", fontsize=font, labelpad=0)\n",
    "    ax6.set_ylim(-1.1, 1.1)\n",
    "    ax6.axvline(shift*dt, -1, 1, color=\"b\", ls=\"--\", zorder=0)\n",
    "    ax6.scatter(shift*dt, value, color=\"b\", marker=\"d\", zorder=0)\n",
    "    ax6.legend()\n",
    "    # ax6.text(.005, .97, ll, ha='left', va='top', transform=ax6.transAxes, fontsize=font)\n",
    "\n",
    "    ax7.plot(f1, (spec1-spec2), color=\"k\", label=f\"FJU-BJU\")\n",
    "    # ax7.plot(f2, spec2, color=\"tab:red\", label=f\"BJU\")\n",
    "    ax7.set_ylabel(\"Spec. Amp.\", fontsize=font)\n",
    "    ax7.set_xlabel(\"Frequency (Hz)\", fontsize=font, labelpad=0)\n",
    "    ax7.set_xscale(\"log\")\n",
    "    ax7.set_xlim(fmin, fmax)\n",
    "    ax7.legend(ncol=2, loc=8)\n",
    "\n",
    "    for _k, (ax, ll) in enumerate(zip([ax1, ax2, ax3, ax4, ax5, ax6, ax7], ['(a)', '(b)', '(c)', '(d)', '(e)', '(f)', '(g)'])):\n",
    "        ax.text(.005, .97, ll, ha='left', va='top', transform=ax.transAxes, fontsize=font+2)\n",
    "\n",
    "\n",
    "    ax1.set_title(f\"f = {fmin} - {fmax} Hz\")\n",
    "\n",
    "    for ax in [ax1, ax2, ax3, ax4, ax5]:\n",
    "        ax.grid(ls=\":\", alpha=0.5, zorder=0, color=\"grey\")\n",
    "\n",
    "    plt.show();\n",
    "    return fig\n",
    "\n",
    "fig = __compare(stx, stt)\n",
    "\n",
    "fig.savefig(path_to_figs+f\"SP_{date}_{fmin}_{fmax}_comparison.png\", format=\"png\", dpi=150, bbox_inches='tight')\n"
   ]
  },
  {
   "cell_type": "code",
   "execution_count": null,
   "metadata": {},
   "outputs": [],
   "source": []
  },
  {
   "cell_type": "code",
   "execution_count": null,
   "metadata": {},
   "outputs": [],
   "source": []
  },
  {
   "cell_type": "code",
   "execution_count": null,
   "metadata": {},
   "outputs": [],
   "source": []
  },
  {
   "cell_type": "code",
   "execution_count": null,
   "metadata": {
    "tags": []
   },
   "outputs": [],
   "source": [
    "from obspy.signal.cross_correlation import correlate, xcorr_max\n",
    "from numpy import roll\n",
    "\n",
    "# prepare arrays\n",
    "arr1 = stx.select(channel=\"FJU\")[0].data\n",
    "arr2 = stt.select(channel=\"BJU\")[0].data\n",
    "\n",
    "\n",
    "# number of samples\n",
    "Nshift = len(arr1)\n",
    "\n",
    "# extract sampling rate in seconds\n",
    "dt = stt[0].stats.delta\n",
    "\n",
    "# compute cross-correlation function\n",
    "ccf = correlate(arr1, arr2, shift=Nshift, demean=False, normalize='naive', method='fft')\n",
    "\n",
    "# compute lag time\n",
    "cclags = np.arange(-Nshift, Nshift+1) * dt\n",
    "\n",
    "# extract maximum CC and lag time\n",
    "shift, ccmax = xcorr_max(ccf)\n",
    "\n",
    "print(shift, ccmax)\n",
    "\n",
    "plt.plot(cclags, ccf)\n",
    "\n",
    "s = shift*2\n",
    "\n",
    "arr2 = roll(arr2, shift)\n"
   ]
  },
  {
   "cell_type": "code",
   "execution_count": null,
   "metadata": {
    "tags": []
   },
   "outputs": [],
   "source": [
    "t1 = stt[0].times()[s:-s]\n",
    "t2 = stx[0].times()[s:-s]\n",
    "\n",
    "dat1 = arr1[s:-s]/max(abs(arr1[s:-s]))\n",
    "dat2 = arr2[s:-s]/max(abs(arr2[s:-s]))\n",
    "\n",
    "residual = dat1 - dat2"
   ]
  },
  {
   "cell_type": "code",
   "execution_count": null,
   "metadata": {
    "tags": []
   },
   "outputs": [],
   "source": [
    "fig, ax = plt.subplots(3, 1, figsize=(15, 5))\n",
    "\n",
    "ax[0].plot(t1, dat1, color=\"tab:blue\")\n",
    "ax[1].plot(t2, dat2, color=\"tab:orange\")\n",
    "ax[2].plot(t1, residual, color=\"grey\")\n"
   ]
  },
  {
   "cell_type": "code",
   "execution_count": null,
   "metadata": {},
   "outputs": [],
   "source": []
  },
  {
   "cell_type": "code",
   "execution_count": null,
   "metadata": {},
   "outputs": [],
   "source": []
  }
 ],
 "metadata": {
  "kernelspec": {
   "display_name": "Python 3 (ipykernel)",
   "language": "python",
   "name": "python3"
  },
  "language_info": {
   "codemirror_mode": {
    "name": "ipython",
    "version": 3
   },
   "file_extension": ".py",
   "mimetype": "text/x-python",
   "name": "python",
   "nbconvert_exporter": "python",
   "pygments_lexer": "ipython3",
   "version": "3.10.12"
  }
 },
 "nbformat": 4,
 "nbformat_minor": 4
}
