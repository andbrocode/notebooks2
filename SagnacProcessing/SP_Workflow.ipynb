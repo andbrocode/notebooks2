{
 "cells": [
  {
   "cell_type": "markdown",
   "metadata": {
    "ExecuteTime": {
     "end_time": "2021-01-29T15:14:27.795046Z",
     "start_time": "2021-01-29T15:14:27.791664Z"
    }
   },
   "source": [
    "## Import "
   ]
  },
  {
   "cell_type": "markdown",
   "metadata": {
    "ExecuteTime": {
     "end_time": "2021-01-29T15:15:30.279221Z",
     "start_time": "2021-01-29T15:15:30.275801Z"
    }
   },
   "source": [
    "### Official Libraries"
   ]
  },
  {
   "cell_type": "code",
   "execution_count": null,
   "metadata": {
    "ExecuteTime": {
     "end_time": "2021-02-24T08:55:41.564072Z",
     "start_time": "2021-02-24T08:55:41.399596Z"
    }
   },
   "outputs": [],
   "source": [
    "import numpy as np\n",
    "import matplotlib.pyplot as plt\n",
    "import time\n",
    "import gc\n",
    "import os\n",
    "\n",
    "from scipy.signal import resample, hilbert, correlate\n",
    "from tqdm import tqdm\n",
    "from obspy import UTCDateTime\n"
   ]
  },
  {
   "cell_type": "markdown",
   "metadata": {},
   "source": [
    "### Own Processing Methods"
   ]
  },
  {
   "cell_type": "code",
   "execution_count": null,
   "metadata": {
    "ExecuteTime": {
     "end_time": "2021-02-24T08:55:41.793533Z",
     "start_time": "2021-02-24T08:55:41.789518Z"
    }
   },
   "outputs": [],
   "source": [
    "import sys\n",
    "sys.path.insert(0, 'submodules')"
   ]
  },
  {
   "cell_type": "code",
   "execution_count": null,
   "metadata": {
    "ExecuteTime": {
     "end_time": "2021-02-24T08:55:41.979579Z",
     "start_time": "2021-02-24T08:55:41.968732Z"
    }
   },
   "outputs": [],
   "source": [
    "from EchoPerformance import __echo_performance\n",
    "from CreateSyntheticEventV2 import __create_synthetic_event_v2\n",
    "from MakeplotDemodulationQuality import __makeplot_demodulation_quality\n",
    "from MinimizeResidual import __minimize_residual\n",
    "from CreateLinearChirp import __create_linear_chirp\n",
    "from Tapering import __tapering\n",
    "from InstaFreqHilbert import __insta_freq_hilbert\n",
    "from Normalize import __normalize\n",
    "from WriteToMseed import __write_to_mseed\n",
    "from LoadMseed import __load_mseed\n",
    "from Modulation import __modulation\n",
    "from QuerrySeismoData import __querry_seismo_data\n"
   ]
  },
  {
   "cell_type": "code",
   "execution_count": null,
   "metadata": {
    "tags": []
   },
   "outputs": [],
   "source": [
    "if os.uname().nodename == 'lighthouse':\n",
    "    root_path = '/home/andbro/'\n",
    "    data_path = '/home/andbro/kilauea-data/'\n",
    "    archive_path = '/home/andbro/freenas/'\n",
    "    bay_path = '/home/andbro/bay200/'\n",
    "elif os.uname().nodename == 'kilauea':\n",
    "    root_path = '/home/brotzer/'\n",
    "    data_path = '/import/kilauea-data/'\n",
    "    archive_path = '/import/freenas-ffb-01-data/'\n",
    "    bay_path = '/bay200/'\n",
    "elif os.uname().nodename == 'lin-ffb-01':\n",
    "    root_path = '/home/brotzer/'\n",
    "    data_path = '/import/kilauea-data/'\n",
    "    archive_path = '/import/freenas-ffb-01-data/'\n",
    "    bay_path = '/bay200/'"
   ]
  },
  {
   "cell_type": "code",
   "execution_count": null,
   "metadata": {},
   "outputs": [],
   "source": []
  },
  {
   "cell_type": "code",
   "execution_count": null,
   "metadata": {
    "ExecuteTime": {
     "end_time": "2021-02-24T08:55:42.164995Z",
     "start_time": "2021-02-24T08:55:42.149444Z"
    },
    "code_folding": [
     0
    ]
   },
   "outputs": [],
   "source": [
    "def third_order_derive(x, pos=\"MIDDLE\"):\n",
    "\n",
    "    coeff = np.zeros((5,5))\n",
    "    norm = np.array([0,0])\n",
    "    sum = 0.\n",
    "\n",
    "    norm[0] = 12.;\n",
    "    norm[1] = 84.;\n",
    "\n",
    "    coeff[0][0] = -125.;\n",
    "    coeff[0][1] =  136.;\n",
    "    coeff[0][2] =   48.;\n",
    "    coeff[0][3] =  -88.;\n",
    "    coeff[0][4] =   29.;\n",
    "    coeff[1][0] =  -38.;\n",
    "    coeff[1][1] =   -2.;\n",
    "    coeff[1][2] =   24.;\n",
    "    coeff[1][3] =   26.;\n",
    "    coeff[1][4] =  -10.;\n",
    "    coeff[2][0] =    1.;\n",
    "    coeff[2][1] =   -8.;\n",
    "    coeff[2][2] =    0.;\n",
    "    coeff[2][3] =    8.;\n",
    "    coeff[2][4] =   -1.;\n",
    "    coeff[3][0] =   10.;\n",
    "    coeff[3][1] =  -26.;\n",
    "    coeff[3][2] =  -24.;\n",
    "    coeff[3][3] =    2.;\n",
    "    coeff[3][4] =   38.;\n",
    "    coeff[4][0] =  -29.;\n",
    "    coeff[4][1] =   88.;\n",
    "    coeff[4][2] =  -48.;\n",
    "    coeff[4][3] = -136.;\n",
    "    coeff[4][4] =  125.;\n",
    "\n",
    "    for i in range(0, 5):\n",
    "        sum += coeff[pos][i]*x[i];\n",
    "\n",
    "    if pos == 'MIDDLE':\n",
    "        sum /= norm[0];\n",
    "\n",
    "    else:\n",
    "        sum /= norm[1];\n",
    "\n",
    "\n",
    "    return sum"
   ]
  },
  {
   "cell_type": "markdown",
   "metadata": {},
   "source": [
    "### Own Plotting Methods"
   ]
  },
  {
   "cell_type": "code",
   "execution_count": null,
   "metadata": {
    "ExecuteTime": {
     "end_time": "2021-02-24T08:55:42.823771Z",
     "start_time": "2021-02-24T08:55:42.818978Z"
    }
   },
   "outputs": [],
   "source": [
    "from MakeplotTraceAndSpectrum import __makeplot_trace_and_spectrum\n",
    "from MakeplotTraceAndPSD import __makeplot_trace_and_psd\n",
    "from MakeplotModulatedSignal import __makeplot_modulated_signal"
   ]
  },
  {
   "cell_type": "markdown",
   "metadata": {},
   "source": [
    "## Configurations"
   ]
  },
  {
   "cell_type": "code",
   "execution_count": null,
   "metadata": {
    "ExecuteTime": {
     "end_time": "2021-02-24T08:55:43.392512Z",
     "start_time": "2021-02-24T08:55:43.386089Z"
    }
   },
   "outputs": [],
   "source": [
    "\n",
    "oversampling = 1\n",
    "\n",
    "T = 1600 #seconds\n",
    "\n",
    "sps = 5000 #samples\n",
    "\n",
    "sgnc = 550 #Hz\n",
    "\n",
    "f_lower, f_upper = 0.001, 0.05 # 0.05\n",
    "\n",
    "# modulation_index = 1.0\n",
    "modulation_index = 0.1\n",
    "\n",
    "# frequency_deviation = 0.5\n",
    "# modulation_index = frequency_deviation/f_upper\n",
    "\n",
    "modulation_scheme = 3\n",
    "\n",
    "\n",
    "taper_type = \"window\"\n",
    "taper_percent = 0.02\n",
    "\n",
    "\n",
    "syn_signal = 'real_trace'  ## 'chirp' or 'synthetic_trace' or 'real_trace'\n",
    "\n",
    "path_to_figs = data_path+\"SagnacProcessing/figures/\""
   ]
  },
  {
   "cell_type": "markdown",
   "metadata": {},
   "source": [
    "## Get Synthetic Signal"
   ]
  },
  {
   "cell_type": "markdown",
   "metadata": {},
   "source": [
    "#### Random Trace Signal or Chirp"
   ]
  },
  {
   "cell_type": "code",
   "execution_count": null,
   "metadata": {
    "ExecuteTime": {
     "end_time": "2021-02-23T14:31:02.835930Z",
     "start_time": "2021-02-23T14:31:02.832962Z"
    }
   },
   "outputs": [],
   "source": [
    "sps = sps * oversampling"
   ]
  },
  {
   "cell_type": "code",
   "execution_count": null,
   "metadata": {
    "ExecuteTime": {
     "end_time": "2021-02-23T14:31:06.187200Z",
     "start_time": "2021-02-23T14:31:03.032183Z"
    },
    "code_folding": [
     0,
     17,
     28,
     51
    ]
   },
   "outputs": [],
   "source": [
    "if syn_signal == 'synthetic_trace':\n",
    "\n",
    "    ##_______________________________________________________________\n",
    "    ## call synthetic event generator (version2)\n",
    "\n",
    "    ## load trace or create and write one if not yet existing\n",
    "\n",
    "    # iname=f\"data/SYN_T{int(T)}_fs{int(sps)}_f{f_lower}-{f_upper}.mseed\"\n",
    "    # modeltrace, time_modeltrace = __load_mseed(iname, T, sps, f_lower, f_upper)\n",
    "\n",
    "    modeltrace, time_modeltrace =__create_synthetic_event_v2(T,\n",
    "                                                             sps,\n",
    "                                                             f_lower,\n",
    "                                                             f_upper,\n",
    "                                                             noise=False,\n",
    "                                                             padding=None,\n",
    "                                                             noise_level=None,\n",
    "                                                             )\n",
    "\n",
    "#     modeltrace = __tapering(modeltrace, taper_type, taper_percent)\n",
    "\n",
    "     ## normalize trace to avoid issues with demodulation\n",
    "    modeltrace = __normalize(modeltrace)\n",
    "\n",
    "## ______________________________________________\n",
    "elif syn_signal == 'chirp':\n",
    "    ##_______________________________________________________________\n",
    "    ## make chirp signal\n",
    "\n",
    "    modeltrace, time_modeltrace = __create_linear_chirp(T,\n",
    "                                                        sps,\n",
    "                                                        f_lower,\n",
    "                                                        f_upper,\n",
    "                                                       )\n",
    "\n",
    "## ______________________________________________\n",
    "elif syn_signal == 'real_trace':\n",
    "\n",
    "    ## set starttime and endtime\n",
    "    tbeg = UTCDateTime(2020, 10, 30, 12, 0)\n",
    "    tend = tbeg + T\n",
    "\n",
    "    ## get stream data\n",
    "    RLAS, RLAS_inv = __querry_seismo_data(\"BW.RLAS..HJZ\",\n",
    "                                          tbeg,\n",
    "                                          tend,\n",
    "                                          restitute=True,\n",
    "                                          )\n",
    "\n",
    "    RLAS[0].resample(sampling_rate=sps)\n",
    "\n",
    "    RLAS[0].filter('bandpass', freqmin=f_lower, freqmax=f_upper, corners=4, zerophase=True)\n",
    "\n",
    "    time_modeltrace = np.arange(0, T+1/sps, 1/sps)\n",
    "    modeltrace = RLAS[0].data[0:time_modeltrace.size]\n",
    "\n",
    "    modeltrace = __normalize(modeltrace)\n",
    "\n",
    "## ______________________________________________*\n",
    "else:\n",
    "    print(\"Wrong choise!\")\n"
   ]
  },
  {
   "cell_type": "markdown",
   "metadata": {},
   "source": [
    "Apply taper to avoid edge effects (not really necessary)\n"
   ]
  },
  {
   "cell_type": "code",
   "execution_count": null,
   "metadata": {
    "ExecuteTime": {
     "end_time": "2021-02-23T14:31:07.333057Z",
     "start_time": "2021-02-23T14:31:06.189100Z"
    }
   },
   "outputs": [],
   "source": [
    "modeltrace = __tapering(modeltrace, taper_type='hann', percent=0.2)"
   ]
  },
  {
   "cell_type": "markdown",
   "metadata": {},
   "source": [
    "Display the synthetic signal trace, which is modulated onto the carrier."
   ]
  },
  {
   "cell_type": "code",
   "execution_count": null,
   "metadata": {
    "ExecuteTime": {
     "end_time": "2021-02-23T14:31:09.621600Z",
     "start_time": "2021-02-23T14:31:07.334808Z"
    }
   },
   "outputs": [],
   "source": [
    "fig = __makeplot_trace_and_spectrum(modeltrace, time_modeltrace, fmax=2*f_upper);\n",
    "del fig"
   ]
  },
  {
   "cell_type": "code",
   "execution_count": null,
   "metadata": {
    "tags": []
   },
   "outputs": [],
   "source": [
    "# fig.savefig(path_to_figs+f\"SP_{syn_signal}_{f_lower}_{f_upper}_modeltrace.png\", format=\"png\", dpi=150, bbox_inches='tight')"
   ]
  },
  {
   "cell_type": "markdown",
   "metadata": {},
   "source": [
    "Possibility to write modeltrace and time axis to a stream as .mseed to load it in an other script. Load a trace enhances comparability since it is not randomly gereated each time."
   ]
  },
  {
   "cell_type": "code",
   "execution_count": null,
   "metadata": {
    "ExecuteTime": {
     "end_time": "2021-02-23T14:31:11.493942Z",
     "start_time": "2021-02-23T14:31:11.490814Z"
    },
    "code_folding": []
   },
   "outputs": [],
   "source": [
    "# oname = f'data/syn_T{int(T)}_fs{int(sps)}_f{f_lower}-{f_upper}.mseed'\n",
    "\n",
    "# __write_to_mseed(modeltrace, time_modeltrace, oname, sps)"
   ]
  },
  {
   "cell_type": "markdown",
   "metadata": {},
   "source": [
    "# Modulation"
   ]
  },
  {
   "cell_type": "code",
   "execution_count": null,
   "metadata": {
    "ExecuteTime": {
     "end_time": "2021-02-23T14:31:16.009304Z",
     "start_time": "2021-02-23T14:31:12.618898Z"
    },
    "scrolled": true
   },
   "outputs": [],
   "source": [
    "# timeline, synthetic_signal = __modulation(modeltrace, time_modeltrace, T, sps, mod_index=modulation_index)\n",
    "\n",
    "\n",
    "synthetic_signal, timeline = __modulation(modeltrace,\n",
    "                                          time_modeltrace,\n",
    "                                          sgnc,\n",
    "                                          T,\n",
    "                                          sps,\n",
    "                                          modulation_index,\n",
    "                                          modulation_scheme,\n",
    "                                         )\n"
   ]
  },
  {
   "cell_type": "code",
   "execution_count": null,
   "metadata": {
    "tags": []
   },
   "outputs": [],
   "source": [
    "gc.collect()"
   ]
  },
  {
   "cell_type": "markdown",
   "metadata": {},
   "source": [
    "### Noise"
   ]
  },
  {
   "cell_type": "code",
   "execution_count": null,
   "metadata": {
    "tags": []
   },
   "outputs": [],
   "source": [
    "a_max_percent = 1 # percent\n",
    "\n",
    "noise = np.random.random(size=T*sps+1) * a_max_percent/100"
   ]
  },
  {
   "cell_type": "code",
   "execution_count": null,
   "metadata": {
    "tags": []
   },
   "outputs": [],
   "source": [
    "fig = __makeplot_trace_and_psd(synthetic_signal, timeline, fmax=0.5*sps, t1=40, t2=40.01);\n",
    "# fig = __makeplot_trace_and_spectrum(synthetic_signal, timeline, fmax=2500);\n",
    "del fig"
   ]
  },
  {
   "cell_type": "code",
   "execution_count": null,
   "metadata": {
    "tags": []
   },
   "outputs": [],
   "source": [
    "synthetic_signal += noise"
   ]
  },
  {
   "cell_type": "code",
   "execution_count": null,
   "metadata": {
    "tags": []
   },
   "outputs": [],
   "source": [
    "fig = __makeplot_trace_and_psd(synthetic_signal, timeline, fmax=0.5*sps, t1=40, t2=40.01);\n",
    "del fig"
   ]
  },
  {
   "cell_type": "markdown",
   "metadata": {},
   "source": [
    "### Taper"
   ]
  },
  {
   "cell_type": "code",
   "execution_count": null,
   "metadata": {
    "ExecuteTime": {
     "end_time": "2021-02-23T14:31:19.302526Z",
     "start_time": "2021-02-23T14:31:19.299856Z"
    }
   },
   "outputs": [],
   "source": [
    "# synthetic_signal = __tapering(synthetic_signal, taper_type='window', percent=0.2)"
   ]
  },
  {
   "cell_type": "code",
   "execution_count": null,
   "metadata": {
    "ExecuteTime": {
     "end_time": "2021-02-23T14:31:20.689195Z",
     "start_time": "2021-02-23T14:31:19.529238Z"
    }
   },
   "outputs": [],
   "source": [
    "__makeplot_trace_and_psd(synthetic_signal, timeline, fmax=0.5*sps, t1=40, t2=40.01);"
   ]
  },
  {
   "cell_type": "code",
   "execution_count": null,
   "metadata": {
    "tags": []
   },
   "outputs": [],
   "source": [
    "# fig.savefig(path_to_figs+f\"SP_{syn_signal}_{f_lower}_{f_upper}_modulated.png\", format=\"png\", dpi=150, bbox_inches='tight')"
   ]
  },
  {
   "cell_type": "code",
   "execution_count": null,
   "metadata": {
    "ExecuteTime": {
     "end_time": "2021-02-23T14:31:24.746272Z",
     "start_time": "2021-02-23T14:31:20.690844Z"
    }
   },
   "outputs": [],
   "source": [
    "# __makeplot_modulated_signal(synthetic_signal, timeline);"
   ]
  },
  {
   "cell_type": "markdown",
   "metadata": {},
   "source": [
    "### Downsample"
   ]
  },
  {
   "cell_type": "markdown",
   "metadata": {},
   "source": [
    "The modulation has been performed with an oversampling factor to avoid erros. Now the result is resampled mimicing the real sampling of the analog signal."
   ]
  },
  {
   "cell_type": "code",
   "execution_count": null,
   "metadata": {
    "ExecuteTime": {
     "end_time": "2021-02-23T14:31:29.638277Z",
     "start_time": "2021-02-23T14:31:29.634792Z"
    }
   },
   "outputs": [],
   "source": [
    "# sps /= oversampling\n",
    "\n",
    "\n",
    "# real_time = np.arange(0,T+1/sps,1/sps)\n",
    "\n",
    "# tmp1 = np.interp(real_time, time_modeltrace, modeltrace)\n",
    "# tmp2 = np.interp(real_time, modeltrace, time_modeltrace)\n",
    "# tmp3 = np.interp(real_time, timeline, synthetic_signal)\n",
    "\n",
    "# timeline = real_time\n",
    "\n",
    "# modeltrace = tmp1\n",
    "# time_modeltrace = tmp2\n",
    "# synthetic_signal = tmp3"
   ]
  },
  {
   "cell_type": "code",
   "execution_count": null,
   "metadata": {
    "ExecuteTime": {
     "end_time": "2021-02-23T14:31:29.802499Z",
     "start_time": "2021-02-23T14:31:29.798628Z"
    }
   },
   "outputs": [],
   "source": [
    "modeltrace = modeltrace[::oversampling]\n",
    "time_modeltrace = time_modeltrace[::oversampling]\n",
    "\n",
    "synthetic_signal = synthetic_signal[::oversampling]\n",
    "timeline = timeline[::oversampling]\n",
    "\n",
    "sps = 1/(timeline[1]-timeline[0])"
   ]
  },
  {
   "cell_type": "code",
   "execution_count": null,
   "metadata": {
    "ExecuteTime": {
     "end_time": "2021-02-23T14:31:31.079932Z",
     "start_time": "2021-02-23T14:31:30.008517Z"
    }
   },
   "outputs": [],
   "source": [
    "__makeplot_trace_and_psd(synthetic_signal, timeline, fmax=0.5*sps, t1=10, t2=10.1);"
   ]
  },
  {
   "cell_type": "markdown",
   "metadata": {},
   "source": [
    "# Demodulation"
   ]
  },
  {
   "cell_type": "markdown",
   "metadata": {
    "ExecuteTime": {
     "end_time": "2021-01-29T15:18:35.118865Z",
     "start_time": "2021-01-29T15:18:35.114054Z"
    }
   },
   "source": [
    "In order to evaluate the demodulated signal it is compared to the kown synthetic signalthe. For this, the median is substracted and 1% of the edges are cut off. Then both, the orignal and the retrieved signal are normalized and a cross-correlation calculated."
   ]
  },
  {
   "cell_type": "code",
   "execution_count": null,
   "metadata": {
    "ExecuteTime": {
     "end_time": "2021-02-23T14:31:46.123450Z",
     "start_time": "2021-02-23T14:31:31.165167Z"
    },
    "code_folding": []
   },
   "outputs": [],
   "source": [
    "\n",
    "# time_demod_signal, demod_signal = __insta_freq_hilbert(synthetic_signal, timeline, sps, sgnc)\n"
   ]
  },
  {
   "cell_type": "code",
   "execution_count": null,
   "metadata": {
    "ExecuteTime": {
     "end_time": "2021-02-23T14:32:10.714657Z",
     "start_time": "2021-02-23T14:32:10.707213Z"
    },
    "code_folding": [
     1
    ]
   },
   "outputs": [],
   "source": [
    "def __hibert_filter(sig_in, time_in, fs):\n",
    "\n",
    "    '''\n",
    "    estimating the instantaneous frequency by using the formula of Jo\n",
    "\n",
    "    sig_in    = input signal\n",
    "    time_in   = input timeline\n",
    "    fs        = sampling frequency of digital signal\n",
    "    '''\n",
    "\n",
    "    ## calulcate hilbert transform\n",
    "    hil0 = hilbert(sig_in)\n",
    "\n",
    "    ## extract imaginary part of hilbert transform \n",
    "    hil = np.imag(hil0)\n",
    "\n",
    "\n",
    "    ## calculate derivatives \n",
    "    d_hil = np.gradient(hil, edge_order=1)\n",
    "    d_sig = np.gradient(sig_in, edge_order=1)\n",
    "\n",
    "    delta_f_full = (sig_in * d_hil - d_sig * hil) / (2*np.pi*np.sqrt(sig_in**2 + hil**2))\n",
    "# #     delta_f_full = (sig_in[1:]*np.diff(hil) - np.diff(sig_in) * hil[1:]) / (2*np.pi*np.sqrt(sig_in[1:]**2 + hil[1:]**2))\n",
    "\n",
    "    ## extract real part\n",
    "    delta_f = np.real(delta_f_full)\n",
    "\n",
    "\n",
    "    ## instert nan value for time zero (exluded bevause of np.diff() ) \n",
    "    sum0, idx = 0, []\n",
    "    for k, x in enumerate(delta_f):\n",
    "        if np.isnan(x):\n",
    "            sum0 += 1\n",
    "            idx.append(k)\n",
    "    print(sum0, \" nan found\")\n",
    "\n",
    "    for l in idx:\n",
    "        delta_f[l] = 0\n",
    "\n",
    "\n",
    "    ## _______________________________________________________________________________\n",
    "\n",
    "#    return time_in[1:], delta_f\n",
    "    return time_in, delta_f\n"
   ]
  },
  {
   "cell_type": "code",
   "execution_count": null,
   "metadata": {
    "ExecuteTime": {
     "end_time": "2021-02-23T14:32:26.129214Z",
     "start_time": "2021-02-23T14:32:11.906845Z"
    }
   },
   "outputs": [],
   "source": [
    "\n",
    "time_demod_signal, demod_signal = __hibert_filter(synthetic_signal, timeline, sps)\n"
   ]
  },
  {
   "cell_type": "markdown",
   "metadata": {},
   "source": [
    "### Remove Offset"
   ]
  },
  {
   "cell_type": "code",
   "execution_count": null,
   "metadata": {
    "ExecuteTime": {
     "end_time": "2021-02-23T14:32:26.211917Z",
     "start_time": "2021-02-23T14:32:26.130961Z"
    },
    "code_folding": [
     0
    ]
   },
   "outputs": [],
   "source": [
    "print(f\"theo. Sagnac Frequencs: {sgnc} Hz\")\n",
    "print(f\"Median Demodulated Signal: {np.median(demod_signal)}\")\n",
    "\n",
    "# demod_signal = demod_signal - sgnc\n",
    "demod_signal = demod_signal - np.median(demod_signal)"
   ]
  },
  {
   "cell_type": "markdown",
   "metadata": {},
   "source": [
    "### Remove Edges"
   ]
  },
  {
   "cell_type": "code",
   "execution_count": null,
   "metadata": {
    "ExecuteTime": {
     "end_time": "2021-02-23T14:32:26.233572Z",
     "start_time": "2021-02-23T14:32:26.213498Z"
    },
    "code_folding": [
     0
    ]
   },
   "outputs": [],
   "source": [
    "cutoff = int(0.01*demod_signal.size)\n",
    "\n",
    "cut1 = np.array([i for i in demod_signal[:cutoff]])\n",
    "cut2 = np.array([i for i in demod_signal[-cutoff:]])\n",
    "demod_signal[:cutoff] = 0\n",
    "demod_signal[-cutoff:] = 0"
   ]
  },
  {
   "cell_type": "markdown",
   "metadata": {},
   "source": [
    "### Normalize"
   ]
  },
  {
   "cell_type": "code",
   "execution_count": null,
   "metadata": {
    "ExecuteTime": {
     "end_time": "2021-02-23T14:32:27.464959Z",
     "start_time": "2021-02-23T14:32:26.234701Z"
    },
    "code_folding": [
     0
    ]
   },
   "outputs": [],
   "source": [
    "demod_signal_norm = __normalize(demod_signal)\n",
    "modeltrace_norm = __normalize(modeltrace)\n",
    "\n",
    "# demod_signal_norm = __tapering(demod_signal_norm, 'flanks', percent=0.1)"
   ]
  },
  {
   "cell_type": "markdown",
   "metadata": {},
   "source": [
    "### Cross-Correlation"
   ]
  },
  {
   "cell_type": "code",
   "execution_count": null,
   "metadata": {
    "ExecuteTime": {
     "end_time": "2021-02-23T14:32:28.844159Z",
     "start_time": "2021-02-23T14:32:27.466755Z"
    },
    "code_folding": [
     0
    ]
   },
   "outputs": [],
   "source": [
    "cross_corr = correlate(demod_signal, modeltrace, mode='same')\n",
    "\n",
    "cross_corr_lags = np.arange(-cross_corr.size//2+1,cross_corr.size//2+1,1)"
   ]
  },
  {
   "cell_type": "markdown",
   "metadata": {},
   "source": [
    "### Final Plotting"
   ]
  },
  {
   "cell_type": "code",
   "execution_count": null,
   "metadata": {
    "tags": []
   },
   "outputs": [],
   "source": [
    "plt.plot(timeline, modeltrace_norm)\n",
    "plt.plot(time_demod_signal, demod_signal_norm)"
   ]
  },
  {
   "cell_type": "code",
   "execution_count": null,
   "metadata": {
    "tags": []
   },
   "outputs": [],
   "source": [
    "def __makeplot_residual(arr1, arr2, t1, t2, pcut=0.05):\n",
    "\n",
    "    import matplotlib.pyplot as plt\n",
    "    import numpy as np\n",
    "    from matplotlib.gridspec import GridSpec\n",
    "\n",
    "    def __variance_reduction(arr1, arr2):\n",
    "        from numpy import var\n",
    "        sig1 = var(arr1)\n",
    "        sig2 = var(arr2)\n",
    "        return round( (sig1 - sig2) / sig1 * 100, 2)\n",
    "\n",
    "    def __integrate(stt, dat):\n",
    "        _st = stt.copy()\n",
    "        _st.data = dat\n",
    "        _st.integrate()\n",
    "        return _st.data\n",
    "\n",
    "    def __rmse(arr1, arr2):\n",
    "        return np.round(np.sqrt(np.mean((arr1-arr2)**2)), 4)\n",
    "\n",
    "    def __get_residual_percent(dat1, dat2):\n",
    "        imax, vmax = np.argmax(abs(dat2-dat1)), np.amax(abs(dat2-dat1))\n",
    "        pmax = round(np.amax(dat2-dat1)/dat1[imax]*1e2, 2)\n",
    "        return pmax\n",
    "\n",
    "    def __get_lim(arrs):\n",
    "        mins = [min(arr) for arr in arrs]\n",
    "        maxs = [max(arr) for arr in arrs]\n",
    "        return min(mins + maxs), max(mins + maxs)\n",
    "\n",
    "    def __cut(arr, pcut):\n",
    "        N = len(arr)\n",
    "        nx = int(N*pcut)\n",
    "        arr[:nx] = np.nan\n",
    "        arr[-nx:] = np.nan\n",
    "        return arr\n",
    "\n",
    "    tscale, tunit = 1, \"s\"\n",
    "\n",
    "\n",
    "    Ncol, Nrow = 1, 3\n",
    "\n",
    "    font = 12\n",
    "\n",
    "    lw = 1\n",
    "\n",
    "    scale, unit = 1, f\"Hz\"\n",
    "\n",
    "    fig = plt.figure(figsize=(15, 5))\n",
    "\n",
    "    gs = GridSpec(Nrow, Ncol, figure=fig, hspace=0)\n",
    "\n",
    "    ax1 = fig.add_subplot(gs[0:2, :])\n",
    "    ax2 = fig.add_subplot(gs[2, :])\n",
    "\n",
    "    ax1.plot(t1*tscale, arr1, color=\"black\", alpha=0.2)\n",
    "    ax1.plot(t2*tscale, arr2, color=\"tab:red\", alpha=0.2)\n",
    "\n",
    "    arr1x = __cut(arr1, pcut)\n",
    "    arr2x = __cut(arr2, pcut)\n",
    "\n",
    "    ax1.plot(t1*tscale, arr1x, color=\"black\", label=f\"modeltrace\")\n",
    "    ax1.plot(t2*tscale, arr2x, color=\"tab:red\", label=f\"hilbert demodulated\")\n",
    "\n",
    "    ax2.plot(t1*tscale, ( arr1x-arr2x ), color=\"grey\", lw=lw)\n",
    "\n",
    "    ax1.ticklabel_format(useOffset=False)\n",
    "    ax1.legend(loc=1, ncol=3)\n",
    "\n",
    "    ax1.set_ylabel(f\"$\\Omega$ (rad/s)\", fontsize=font)\n",
    "    ax2.set_ylabel(f\"residual\\n(rad/s)\", fontsize=font)\n",
    "\n",
    "    for ax in [ax1]:\n",
    "        ax.get_xaxis().set_visible(False)\n",
    "\n",
    "    ax2.set_xlabel(f\"Time ({tunit})\", fontsize=font)\n",
    "\n",
    "    ax1.text(.005, .97, \"(a)\", ha='left', va='top', transform=ax1.transAxes, fontsize=font+2)\n",
    "    ax2.text(.005, .97, \"(b)\", ha='left', va='top', transform=ax2.transAxes, fontsize=font+2)\n",
    "\n",
    "    arr1xn = np.nan_to_num(arr1x, 0)\n",
    "    arr2xn = np.nan_to_num(arr2x, 0)\n",
    "\n",
    "    R = __variance_reduction(arr1xn, arr1xn - arr2xn)\n",
    "\n",
    "    txt = f\"RMSE = {__rmse(arr1xn, arr2xn)}, max = {__get_residual_percent(arr1xn, arr2xn)}%, R = {R}%\"\n",
    "\n",
    "    ax2.text(.99, .97, txt, ha='right', va='top', transform=ax2.transAxes, fontsize=font-2)\n",
    "\n",
    "    ax1.set_title(f\" f = {f_lower} - {f_upper} Hz\")\n",
    "\n",
    "    # ax1.grid(ls=\":\", zorder=0)\n",
    "    # ax2.grid(ls=\":\", zorder=0)\n",
    "\n",
    "    gc.collect()\n",
    "\n",
    "    plt.plot();\n",
    "    return fig\n",
    "\n",
    "fig = __makeplot_residual(modeltrace_norm, demod_signal_norm, timeline, time_demod_signal, 0.01)\n",
    "\n",
    "fig.savefig(path_to_figs+f\"SP_{syn_signal}_{f_lower}_{f_upper}.png\", format=\"png\", dpi=150, bbox_inches='tight')\n",
    "\n",
    "del fig\n",
    "\n",
    "gc.collect()"
   ]
  },
  {
   "cell_type": "code",
   "execution_count": null,
   "metadata": {},
   "outputs": [],
   "source": []
  },
  {
   "cell_type": "code",
   "execution_count": null,
   "metadata": {},
   "outputs": [],
   "source": []
  },
  {
   "cell_type": "code",
   "execution_count": null,
   "metadata": {},
   "outputs": [],
   "source": [
    "import numpy as np\n",
    "\n",
    "dt = 0.1\n",
    "f = 0.1\n",
    "t = np.arange(0, 100, dt)\n",
    "y = np.sin(2*np.pi* f * t)\n",
    "y2 = np.cos(2*np.pi* f * t)\n",
    "\n",
    "# dy1 = third_order_derive(y)\n",
    "dy2 = np.diff(y, n=1)/(2*np.pi*f)/dt\n",
    "# dy3 = np.diff(y, n=2)/dt/dt\n",
    "dy3 = np.gradient(y, edge_order=1)/(2*np.pi*f)/dt\n",
    "\n",
    "plt.figure(figsize=(15,5))\n",
    "\n",
    "plt.scatter(t,y,s=1, color='blue')\n",
    "plt.plot(t, y2, color='orange')\n",
    "\n",
    "plt.scatter(t[:-1], dy2, s=2, color=\"green\")\n",
    "plt.scatter(t, dy3, s=2, color=\"red\")\n",
    "\n",
    "\n",
    "plt.axhline(0, color='k')\n",
    "plt.xlim(0,10)"
   ]
  },
  {
   "cell_type": "code",
   "execution_count": null,
   "metadata": {
    "ExecuteTime": {
     "end_time": "2021-02-23T14:32:38.608003Z",
     "start_time": "2021-02-23T14:32:28.845403Z"
    },
    "code_folding": [
     0
    ]
   },
   "outputs": [],
   "source": [
    "\n",
    "# fig = __makeplot_demodulation_quality(timeline,\n",
    "#                                       modeltrace_norm,\n",
    "#                                       time_demod_signal,\n",
    "#                                       demod_signal_norm,\n",
    "#                                       cross_corr,\n",
    "#                                       cross_corr_lags,\n",
    "#                                       sps,\n",
    "#                                      );\n"
   ]
  }
 ],
 "metadata": {
  "kernelspec": {
   "display_name": "Python 3 (ipykernel)",
   "language": "python",
   "name": "python3"
  },
  "language_info": {
   "codemirror_mode": {
    "name": "ipython",
    "version": 3
   },
   "file_extension": ".py",
   "mimetype": "text/x-python",
   "name": "python",
   "nbconvert_exporter": "python",
   "pygments_lexer": "ipython3",
   "version": "3.10.12"
  }
 },
 "nbformat": 4,
 "nbformat_minor": 4
}
