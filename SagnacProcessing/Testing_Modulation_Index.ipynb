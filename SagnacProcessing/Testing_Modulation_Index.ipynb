{
 "cells": [
  {
   "cell_type": "markdown",
   "metadata": {},
   "source": [
    "<div style='background-image: url(\"https://www.geophysik.uni-muenchen.de/ROMY/theme/images/ringlaser_wideformat.jpg\") ; padding: 0px ; background-size: cover ; border-radius: 15px ; height: 250px; background-position: 0% 80%'>\n",
    "    <div style=\"float: left ; margin: 50px ; padding: 20px ; background: rgba(255 , 255 , 255 , 0.9) ; width: 39% ; height: 150px\">\n",
    "        <div style=\"position: relative ; top: 50%;  transform: translatey(-50%)\">\n",
    "            <div style=\"font-size: xx-large ; font-weight: 900 ; color: rgba(0 , 0 , 0 , 0.9) ; line-height: 100%\"> <br>ROMY - <br> <br> Systematic Analysis <br> of Modulation Index </div>\n",
    "            <div style=\"font-size: large ; padding-top: 20px ; color: rgba(0 , 0 , 0 , 0.7)\"></div>\n",
    "        </div>\n",
    "    </div>"
   ]
  },
  {
   "cell_type": "markdown",
   "metadata": {
    "ExecuteTime": {
     "end_time": "2021-01-29T16:01:31.317075Z",
     "start_time": "2021-01-29T16:01:31.313590Z"
    }
   },
   "source": [
    "## Importing"
   ]
  },
  {
   "cell_type": "markdown",
   "metadata": {
    "ExecuteTime": {
     "end_time": "2021-01-29T16:01:45.451575Z",
     "start_time": "2021-01-29T16:01:45.448723Z"
    }
   },
   "source": [
    "### Official Libraries"
   ]
  },
  {
   "cell_type": "code",
   "execution_count": 1,
   "metadata": {
    "ExecuteTime": {
     "end_time": "2021-11-19T13:28:43.695659Z",
     "start_time": "2021-11-19T13:28:42.506376Z"
    }
   },
   "outputs": [],
   "source": [
    "import numpy as np \n",
    "import matplotlib.pyplot as plt \n",
    "import time \n",
    "import obspy\n",
    "\n",
    "from scipy.signal import resample, hilbert, correlate\n",
    "from tqdm import tqdm"
   ]
  },
  {
   "cell_type": "markdown",
   "metadata": {},
   "source": [
    "### Own Processing Methods"
   ]
  },
  {
   "cell_type": "code",
   "execution_count": 2,
   "metadata": {
    "ExecuteTime": {
     "end_time": "2021-11-19T13:28:43.699342Z",
     "start_time": "2021-11-19T13:28:43.697414Z"
    }
   },
   "outputs": [],
   "source": [
    "import sys\n",
    "sys.path.insert(0, 'submodules')"
   ]
  },
  {
   "cell_type": "code",
   "execution_count": 3,
   "metadata": {
    "ExecuteTime": {
     "end_time": "2021-11-19T13:28:43.704664Z",
     "start_time": "2021-11-19T13:28:43.700540Z"
    }
   },
   "outputs": [],
   "source": [
    "from EchoPerformance import __echo_performance\n",
    "from CreateSyntheticEventV2 import __create_synthetic_event_v2\n",
    "from MinimizeResidual import __minimize_residual\n",
    "from CreateLinearChirp import __create_linear_chirp\n",
    "from Tapering import __tapering\n",
    "from InstaFreqHilbert import __insta_freq_hilbert\n",
    "from LoadMseed import __load_mseed\n",
    "from Modulation import __modulation\n"
   ]
  },
  {
   "cell_type": "code",
   "execution_count": 4,
   "metadata": {
    "ExecuteTime": {
     "end_time": "2021-11-19T13:28:43.765238Z",
     "start_time": "2021-11-19T13:28:43.759197Z"
    },
    "code_folding": [
     0
    ]
   },
   "outputs": [],
   "source": [
    "# def __modulation(time_modeltrace, modeltrace, T, sps, mod_index):\n",
    "\n",
    "#     timeline = time_modeltrace\n",
    "\n",
    "#     Npts = int(T*sps)\n",
    "\n",
    "#     # tt = np.arange(0, T, 1/sps/fraction)\n",
    "#     tt = time_modeltrace\n",
    "\n",
    "# #     modulation_index = abs(f_upper-sgnc)/f_upper\n",
    "# #     print(modulation_index)\n",
    "    \n",
    "#     fm = sgnc + mod_index * modeltrace\n",
    "\n",
    "\n",
    "\n",
    "\n",
    "#     print(' Integrating ... ')\n",
    "#     t1 = time.time()\n",
    "\n",
    "#     ifm = np.zeros(Npts+1)\n",
    "#     summe = 0\n",
    "\n",
    "#     for i in range(0, Npts+1):\n",
    "#         summe += fm[i]\n",
    "#         ifm[i] = 2*np.pi*summe\n",
    "\n",
    "#     ifm = ifm / sps # to finish integral\n",
    "\n",
    "#     t2 = time.time()\n",
    "\n",
    "#     __echo_performance(t1, t2)\n",
    "\n",
    "\n",
    "\n",
    "#     synthetic_signal = np.sin( 2 * np.pi * ifm )\n",
    "#     # synthetic_signal = np.cos( 2 * np.pi * ifm )\n",
    "\n",
    "#     # synthetic_signal = np.cos(2*np.pi * (sgnc + 0.01 * ifm ))\n",
    "\n",
    "#     # synthetic_signal = 1.0 * np.sin(2*np.pi*sgnc * timeline - 0.001 * np.cos(modeltrace*timeline))\n",
    "\n",
    "#     return timeline, synthetic_signal"
   ]
  },
  {
   "cell_type": "markdown",
   "metadata": {},
   "source": [
    "### Own Plotting Methods"
   ]
  },
  {
   "cell_type": "code",
   "execution_count": 5,
   "metadata": {
    "ExecuteTime": {
     "end_time": "2021-11-19T13:28:44.832521Z",
     "start_time": "2021-11-19T13:28:44.826175Z"
    }
   },
   "outputs": [],
   "source": [
    "from MakeplotTraceAndSpectrum import __makeplot_trace_and_spectrum\n",
    "from MakeplotTraceAndPSD import __makeplot_trace_and_psd\n",
    "from MakeplotModulatedSignal import __makeplot_modulated_signal\n",
    "from MakeplotDemodulationQuality import __makeplot_demodulation_quality\n",
    "from Normalize import __normalize"
   ]
  },
  {
   "cell_type": "code",
   "execution_count": 6,
   "metadata": {
    "ExecuteTime": {
     "end_time": "2021-11-19T13:28:45.286517Z",
     "start_time": "2021-11-19T13:28:45.270336Z"
    },
    "code_folding": []
   },
   "outputs": [],
   "source": [
    "\n",
    "def __run(sgnc, T, sps, oversampling, mod_index, f_lower, f_upper, syn_signal, taper_type, taper_percent=0.2):\n",
    "    \n",
    "    sps *= oversampling\n",
    "    \n",
    "    ## ___________________________________________________\n",
    "    ## Synthetic Signal\n",
    "    \n",
    "    modeltrace, time_modeltrace = __create_linear_chirp(T, sps, f_lower, f_upper)\n",
    "\n",
    "    \n",
    "    ## __________________________________\n",
    "    if syn_signal == 'trace':\n",
    "        \n",
    "        ## load trace or create and write one if not yet existing\n",
    "        \n",
    "        iname=f\"data/SYN_T{int(T)}_fs{int(sps)}_f{f_lower}-{f_upper}.mseed\"\n",
    "        \n",
    "        modeltrace, time_modeltrace = __load_mseed(iname, T, sps, f_lower, f_upper)\n",
    "\n",
    "        modeltrace = __tapering(modeltrace, taper_type, taper_percent)\n",
    "\n",
    "         ## normalize trace to avoid issues with demodulation\n",
    "        modeltrace = __normalize(modeltrace)\n",
    "\n",
    "    ## __________________________________\n",
    "    elif syn_signal == 'chirp':\n",
    "        \n",
    "        ## generate normalized chrip signal \n",
    "        modeltrace, time_modeltrace = __create_linear_chirp(T, sps, f_lower, f_upper)\n",
    "\n",
    "    ## __________________________________    \n",
    "    elif syn_signal == 'real_trace':\n",
    "\n",
    "        ## set starttime and endtime\n",
    "        tbeg = obspy.UTCDateTime(2020, 10, 30, 12, 5)\n",
    "        tend = tbeg + T\n",
    "\n",
    "\n",
    "        RLAS, RLAS_inv = __querry_seismo_data(\"BW.RLAS..BJZ\", \n",
    "                                              tbeg, \n",
    "                                              tend, \n",
    "                                              restitute=True,\n",
    "                                              )\n",
    "\n",
    "        RLAS[0].resample(sampling_rate=sps)\n",
    "\n",
    "        RLAS[0].filter('bandpass', freqmin=f_lower, freqmax=f_upper, corners=4, zerophase=True)\n",
    "\n",
    "        time_modeltrace = np.arange(0, T+1/sps, 1/sps)\n",
    "        modeltrace = RLAS[0].data[0:time_modeltrace.size]\n",
    "\n",
    "        modeltrace = __normalize(modeltrace)\n",
    "\n",
    "    ## __________________________________\n",
    "    else:\n",
    "        print(\"Wrong choise!\")\n",
    "\n",
    "    __tapering(modeltrace, taper_type, taper_percent)\n",
    "\n",
    "    ## ___________________________________________________\n",
    "    ## Modulation\n",
    "    \n",
    "#     timeline, synthetic_signal = __modulation(time_modeltrace, modeltrace, T, sps, mod_index)\n",
    "    synthetic_signal, timeline = __modulation(modeltrace,\n",
    "                                              time_modeltrace, \n",
    "                                              sgnc, \n",
    "                                              T, \n",
    "                                              sps, \n",
    "                                              mod_index, \n",
    "                                              case = 3,\n",
    "                                             )    \n",
    "#     synthetic_signal = __tapering(synthetic_signal, taper_type, taper_percent)\n",
    "\n",
    "#     __makeplot_trace_and_psd(synthetic_signal, timeline, fmax=0.5*sps, t1=0, t2=2);\n",
    "\n",
    "\n",
    "    ## ___________________________________________________\n",
    "    ## Downsample\n",
    "    \n",
    "    modeltrace = modeltrace[::oversampling]\n",
    "    time_modeltrace = time_modeltrace[::oversampling]\n",
    "\n",
    "    synthetic_signal = synthetic_signal[::oversampling]\n",
    "    timeline = timeline[::oversampling]\n",
    "\n",
    "    sps = 1/(timeline[1]-timeline[0])    \n",
    "    \n",
    "#     __makeplot_trace_and_psd(synthetic_signal, timeline, fmax=0.5*sps);\n",
    "\n",
    "#     __makeplot_modulated_signal(synthetic_signal,timeline);\n",
    "\n",
    "    ## ___________________________________________________\n",
    "    ## Demodulation\n",
    "    \n",
    "    time_demod_signal, demod_signal = __insta_freq_hilbert(synthetic_signal, timeline, sps, sgnc)\n",
    "    \n",
    "    \n",
    "#     demod_signal = demod_signal - sgnc\n",
    "    demod_signal = demod_signal - np.median(demod_signal)\n",
    "\n",
    "    \n",
    "    \n",
    "    cutoff = int(0.01*demod_signal.size)\n",
    "    \n",
    "    ## store cutoffs for displaying\n",
    "    cut1 = np.array([i for i in demod_signal[:cutoff]])\n",
    "    cut2 = np.array([i for i in demod_signal[-cutoff:]])\n",
    "    \n",
    "    ## zero out 1% at both ends\n",
    "    demod_signal[:cutoff] = 0.0\n",
    "    demod_signal[-cutoff:] = 0.0\n",
    "\n",
    "    \n",
    "    ## normalize original and demodulated signal\n",
    "    demod_signal_norm = __normalize(demod_signal)\n",
    "    modeltrace_norm = __normalize(modeltrace)\n",
    "\n",
    "    \n",
    "    ## ___________________________________________________\n",
    "    ## CrossCorrelation  \n",
    "\n",
    "    cross_corr = correlate(demod_signal, modeltrace, mode='same')\n",
    "    cross_corr_lags = np.arange(-cross_corr.size//2+1,cross_corr.size//2+1,1)\n",
    "    \n",
    "    \n",
    "    idx = abs(cross_corr).argmax()\n",
    "    \n",
    "    cc = cross_corr[idx]\n",
    "    cclag = cross_corr_lags[idx]\n",
    "    \n",
    "    print(f\"\\n max lag CC: {cross_corr_lags.max()} \\n min lag CC: {cross_corr_lags.min()}\")\n",
    "\n",
    "    print(f\"\\n maximal CC: {round(cross_corr[idx],3)} at lag: {cross_corr_lags[idx]}\")\n",
    "    \n",
    "    ## ___________________________________________________\n",
    "    ## Residuals \n",
    "    \n",
    "    residual  = modeltrace - demod_signal\n",
    "    \n",
    "    residual_pre_opt  = modeltrace_norm - demod_signal_norm\n",
    "\n",
    "    residual_post_opt, demod_signal_opt  = __minimize_residual(demod_signal_norm, modeltrace_norm)\n",
    "    \n",
    "    N = residual.size \n",
    "    \n",
    "    rms_pre  = np.sqrt(np.mean(residual_pre_opt**2))\n",
    "    rms_post = np.sqrt(np.mean(residual_post_opt**2))\n",
    "    rms      = np.sqrt(np.mean(residual**2))\n",
    "    \n",
    "    print(f'cutoff: {cutoff} --> residual median: {np.median(residual_post_opt)}')\n",
    "\n",
    "    \n",
    "    ## ___________________________________________________\n",
    "    ## Plot\n",
    "    \n",
    "#     __makeplot_demodulation_quality(timeline, \n",
    "#                                     modeltrace_norm, \n",
    "#                                     demod_signal_norm,\n",
    "#                                     cross_corr,\n",
    "#                                     cross_corr_lags,\n",
    "#                                     cut1,\n",
    "#                                     cut2,\n",
    "#                                     );\n",
    "    \n",
    "    return cc, cclag, rms_pre, rms_post, rms\n"
   ]
  },
  {
   "cell_type": "markdown",
   "metadata": {},
   "source": [
    "## Configuration"
   ]
  },
  {
   "cell_type": "code",
   "execution_count": 7,
   "metadata": {
    "ExecuteTime": {
     "end_time": "2021-11-19T13:28:48.066814Z",
     "start_time": "2021-11-19T13:28:48.061717Z"
    }
   },
   "outputs": [],
   "source": [
    "\n",
    "div = 10\n",
    "oversampling = 10\n",
    "\n",
    "T = 1600/div\n",
    "sps = 5000\n",
    "\n",
    "sgnc = 553\n",
    "\n",
    "f_lower, f_upper = 0.01, 30.0\n",
    "\n",
    "taper_type=\"window\"\n",
    "\n",
    "syn_signal = \"trace\"\n",
    "\n",
    "freqs = np.arange(100, 600, 10)\n",
    "\n",
    "\n",
    "modulation_indicies = np.array([0.001, 0.003, 0.006, 0.01, 0.03, 0.06 ,0.1, 0.3, 0.6, 1, 2, 3, 4, 5, 10]) \n",
    "# modulation_indicies = np.logspace(-3, 1, num=11) \n"
   ]
  },
  {
   "cell_type": "markdown",
   "metadata": {},
   "source": [
    "## Test Modulation Index"
   ]
  },
  {
   "cell_type": "code",
   "execution_count": 8,
   "metadata": {
    "ExecuteTime": {
     "end_time": "2021-11-19T13:29:00.571070Z",
     "start_time": "2021-11-19T13:28:59.474451Z"
    }
   },
   "outputs": [
    {
     "ename": "ValueError",
     "evalue": "Taper type \"window\" is not supported. Supported types: barthann, bartlett, blackman, blackmanharris, bohman, boxcar, chebwin, cosine, flattop, gaussian, general_gaussian, hamming, hann, kaiser, nuttall, parzen, slepian, triang",
     "output_type": "error",
     "traceback": [
      "\u001b[0;31m---------------------------------------------------------------------------\u001b[0m",
      "\u001b[0;31mIndexError\u001b[0m                                Traceback (most recent call last)",
      "\u001b[0;32m~/anaconda3/envs/obs/lib/python3.7/site-packages/obspy/core/util/base.py\u001b[0m in \u001b[0;36m_get_function_from_entry_point\u001b[0;34m(group, type)\u001b[0m\n\u001b[1;32m    316\u001b[0m             entry_point = [v for k, v in ep_dict.items()\n\u001b[0;32m--> 317\u001b[0;31m                            if k.lower() == type.lower()][0]\n\u001b[0m\u001b[1;32m    318\u001b[0m     \u001b[0;32mexcept\u001b[0m \u001b[0;34m(\u001b[0m\u001b[0mKeyError\u001b[0m\u001b[0;34m,\u001b[0m \u001b[0mIndexError\u001b[0m\u001b[0;34m)\u001b[0m\u001b[0;34m:\u001b[0m\u001b[0;34m\u001b[0m\u001b[0;34m\u001b[0m\u001b[0m\n",
      "\u001b[0;31mIndexError\u001b[0m: list index out of range",
      "\nDuring handling of the above exception, another exception occurred:\n",
      "\u001b[0;31mValueError\u001b[0m                                Traceback (most recent call last)",
      "\u001b[0;32m<ipython-input-8-c1beeca0fabb>\u001b[0m in \u001b[0;36m<module>\u001b[0;34m\u001b[0m\n\u001b[1;32m     15\u001b[0m                                                \u001b[0msyn_signal\u001b[0m\u001b[0;34m,\u001b[0m\u001b[0;34m\u001b[0m\u001b[0;34m\u001b[0m\u001b[0m\n\u001b[1;32m     16\u001b[0m                                                \u001b[0mtaper_type\u001b[0m\u001b[0;34m,\u001b[0m\u001b[0;34m\u001b[0m\u001b[0;34m\u001b[0m\u001b[0m\n\u001b[0;32m---> 17\u001b[0;31m                                                \u001b[0mtaper_percent\u001b[0m\u001b[0;34m=\u001b[0m\u001b[0;36m0.2\u001b[0m\u001b[0;34m,\u001b[0m\u001b[0;34m\u001b[0m\u001b[0;34m\u001b[0m\u001b[0m\n\u001b[0m\u001b[1;32m     18\u001b[0m                                               )\n\u001b[1;32m     19\u001b[0m \u001b[0;34m\u001b[0m\u001b[0m\n",
      "\u001b[0;32m<ipython-input-6-e0201bf4d335>\u001b[0m in \u001b[0;36m__run\u001b[0;34m(sgnc, T, sps, oversampling, mod_index, f_lower, f_upper, syn_signal, taper_type, taper_percent)\u001b[0m\n\u001b[1;32m     18\u001b[0m         \u001b[0mmodeltrace\u001b[0m\u001b[0;34m,\u001b[0m \u001b[0mtime_modeltrace\u001b[0m \u001b[0;34m=\u001b[0m \u001b[0m__load_mseed\u001b[0m\u001b[0;34m(\u001b[0m\u001b[0miname\u001b[0m\u001b[0;34m,\u001b[0m \u001b[0mT\u001b[0m\u001b[0;34m,\u001b[0m \u001b[0msps\u001b[0m\u001b[0;34m,\u001b[0m \u001b[0mf_lower\u001b[0m\u001b[0;34m,\u001b[0m \u001b[0mf_upper\u001b[0m\u001b[0;34m)\u001b[0m\u001b[0;34m\u001b[0m\u001b[0;34m\u001b[0m\u001b[0m\n\u001b[1;32m     19\u001b[0m \u001b[0;34m\u001b[0m\u001b[0m\n\u001b[0;32m---> 20\u001b[0;31m         \u001b[0mmodeltrace\u001b[0m \u001b[0;34m=\u001b[0m \u001b[0m__tapering\u001b[0m\u001b[0;34m(\u001b[0m\u001b[0mmodeltrace\u001b[0m\u001b[0;34m,\u001b[0m \u001b[0mtaper_type\u001b[0m\u001b[0;34m,\u001b[0m \u001b[0mtaper_percent\u001b[0m\u001b[0;34m)\u001b[0m\u001b[0;34m\u001b[0m\u001b[0;34m\u001b[0m\u001b[0m\n\u001b[0m\u001b[1;32m     21\u001b[0m \u001b[0;34m\u001b[0m\u001b[0m\n\u001b[1;32m     22\u001b[0m          \u001b[0;31m## normalize trace to avoid issues with demodulation\u001b[0m\u001b[0;34m\u001b[0m\u001b[0;34m\u001b[0m\u001b[0;34m\u001b[0m\u001b[0m\n",
      "\u001b[0;32m~/notebooks/Sagnac_processing/submodules/Tapering.py\u001b[0m in \u001b[0;36m__tapering\u001b[0;34m(idata, taper_type, percent)\u001b[0m\n\u001b[1;32m     14\u001b[0m     \u001b[0mst\u001b[0m \u001b[0;34m=\u001b[0m \u001b[0mStream\u001b[0m\u001b[0;34m(\u001b[0m\u001b[0mTrace\u001b[0m\u001b[0;34m(\u001b[0m\u001b[0mdata\u001b[0m\u001b[0;34m=\u001b[0m\u001b[0midata\u001b[0m\u001b[0;34m)\u001b[0m\u001b[0;34m)\u001b[0m\u001b[0;34m\u001b[0m\u001b[0;34m\u001b[0m\u001b[0m\n\u001b[1;32m     15\u001b[0m \u001b[0;34m\u001b[0m\u001b[0m\n\u001b[0;32m---> 16\u001b[0;31m     \u001b[0mst\u001b[0m\u001b[0;34m.\u001b[0m\u001b[0mtaper\u001b[0m\u001b[0;34m(\u001b[0m\u001b[0mpercent\u001b[0m\u001b[0;34m,\u001b[0m \u001b[0mtaper_type\u001b[0m\u001b[0;34m)\u001b[0m\u001b[0;34m\u001b[0m\u001b[0;34m\u001b[0m\u001b[0m\n\u001b[0m\u001b[1;32m     17\u001b[0m \u001b[0;34m\u001b[0m\u001b[0m\n\u001b[1;32m     18\u001b[0m     \u001b[0;32mreturn\u001b[0m \u001b[0mst\u001b[0m\u001b[0;34m[\u001b[0m\u001b[0;36m0\u001b[0m\u001b[0;34m]\u001b[0m\u001b[0;34m.\u001b[0m\u001b[0mdata\u001b[0m\u001b[0;34m\u001b[0m\u001b[0;34m\u001b[0m\u001b[0m\n",
      "\u001b[0;32m~/anaconda3/envs/obs/lib/python3.7/site-packages/obspy/core/stream.py\u001b[0m in \u001b[0;36mtaper\u001b[0;34m(self, *args, **kwargs)\u001b[0m\n\u001b[1;32m   2515\u001b[0m         \"\"\"\n\u001b[1;32m   2516\u001b[0m         \u001b[0;32mfor\u001b[0m \u001b[0mtr\u001b[0m \u001b[0;32min\u001b[0m \u001b[0mself\u001b[0m\u001b[0;34m:\u001b[0m\u001b[0;34m\u001b[0m\u001b[0;34m\u001b[0m\u001b[0m\n\u001b[0;32m-> 2517\u001b[0;31m             \u001b[0mtr\u001b[0m\u001b[0;34m.\u001b[0m\u001b[0mtaper\u001b[0m\u001b[0;34m(\u001b[0m\u001b[0;34m*\u001b[0m\u001b[0margs\u001b[0m\u001b[0;34m,\u001b[0m \u001b[0;34m**\u001b[0m\u001b[0mkwargs\u001b[0m\u001b[0;34m)\u001b[0m\u001b[0;34m\u001b[0m\u001b[0;34m\u001b[0m\u001b[0m\n\u001b[0m\u001b[1;32m   2518\u001b[0m         \u001b[0;32mreturn\u001b[0m \u001b[0mself\u001b[0m\u001b[0;34m\u001b[0m\u001b[0;34m\u001b[0m\u001b[0m\n\u001b[1;32m   2519\u001b[0m \u001b[0;34m\u001b[0m\u001b[0m\n",
      "\u001b[0;32m~/anaconda3/envs/obs/lib/python3.7/site-packages/decorator.py\u001b[0m in \u001b[0;36mfun\u001b[0;34m(*args, **kw)\u001b[0m\n\u001b[1;32m    230\u001b[0m             \u001b[0;32mif\u001b[0m \u001b[0;32mnot\u001b[0m \u001b[0mkwsyntax\u001b[0m\u001b[0;34m:\u001b[0m\u001b[0;34m\u001b[0m\u001b[0;34m\u001b[0m\u001b[0m\n\u001b[1;32m    231\u001b[0m                 \u001b[0margs\u001b[0m\u001b[0;34m,\u001b[0m \u001b[0mkw\u001b[0m \u001b[0;34m=\u001b[0m \u001b[0mfix\u001b[0m\u001b[0;34m(\u001b[0m\u001b[0margs\u001b[0m\u001b[0;34m,\u001b[0m \u001b[0mkw\u001b[0m\u001b[0;34m,\u001b[0m \u001b[0msig\u001b[0m\u001b[0;34m)\u001b[0m\u001b[0;34m\u001b[0m\u001b[0;34m\u001b[0m\u001b[0m\n\u001b[0;32m--> 232\u001b[0;31m             \u001b[0;32mreturn\u001b[0m \u001b[0mcaller\u001b[0m\u001b[0;34m(\u001b[0m\u001b[0mfunc\u001b[0m\u001b[0;34m,\u001b[0m \u001b[0;34m*\u001b[0m\u001b[0;34m(\u001b[0m\u001b[0mextras\u001b[0m \u001b[0;34m+\u001b[0m \u001b[0margs\u001b[0m\u001b[0;34m)\u001b[0m\u001b[0;34m,\u001b[0m \u001b[0;34m**\u001b[0m\u001b[0mkw\u001b[0m\u001b[0;34m)\u001b[0m\u001b[0;34m\u001b[0m\u001b[0;34m\u001b[0m\u001b[0m\n\u001b[0m\u001b[1;32m    233\u001b[0m     \u001b[0mfun\u001b[0m\u001b[0;34m.\u001b[0m\u001b[0m__name__\u001b[0m \u001b[0;34m=\u001b[0m \u001b[0mfunc\u001b[0m\u001b[0;34m.\u001b[0m\u001b[0m__name__\u001b[0m\u001b[0;34m\u001b[0m\u001b[0;34m\u001b[0m\u001b[0m\n\u001b[1;32m    234\u001b[0m     \u001b[0mfun\u001b[0m\u001b[0;34m.\u001b[0m\u001b[0m__doc__\u001b[0m \u001b[0;34m=\u001b[0m \u001b[0mfunc\u001b[0m\u001b[0;34m.\u001b[0m\u001b[0m__doc__\u001b[0m\u001b[0;34m\u001b[0m\u001b[0;34m\u001b[0m\u001b[0m\n",
      "\u001b[0;32m~/anaconda3/envs/obs/lib/python3.7/site-packages/obspy/core/util/decorator.py\u001b[0m in \u001b[0;36mskip_if_no_data\u001b[0;34m(func, *args, **kwargs)\u001b[0m\n\u001b[1;32m    243\u001b[0m     \u001b[0;32mif\u001b[0m \u001b[0;32mnot\u001b[0m \u001b[0margs\u001b[0m\u001b[0;34m[\u001b[0m\u001b[0;36m0\u001b[0m\u001b[0;34m]\u001b[0m\u001b[0;34m:\u001b[0m\u001b[0;34m\u001b[0m\u001b[0;34m\u001b[0m\u001b[0m\n\u001b[1;32m    244\u001b[0m         \u001b[0;32mreturn\u001b[0m\u001b[0;34m\u001b[0m\u001b[0;34m\u001b[0m\u001b[0m\n\u001b[0;32m--> 245\u001b[0;31m     \u001b[0;32mreturn\u001b[0m \u001b[0mfunc\u001b[0m\u001b[0;34m(\u001b[0m\u001b[0;34m*\u001b[0m\u001b[0margs\u001b[0m\u001b[0;34m,\u001b[0m \u001b[0;34m**\u001b[0m\u001b[0mkwargs\u001b[0m\u001b[0;34m)\u001b[0m\u001b[0;34m\u001b[0m\u001b[0;34m\u001b[0m\u001b[0m\n\u001b[0m\u001b[1;32m    246\u001b[0m \u001b[0;34m\u001b[0m\u001b[0m\n\u001b[1;32m    247\u001b[0m \u001b[0;34m\u001b[0m\u001b[0m\n",
      "\u001b[0;32m~/anaconda3/envs/obs/lib/python3.7/site-packages/decorator.py\u001b[0m in \u001b[0;36mfun\u001b[0;34m(*args, **kw)\u001b[0m\n\u001b[1;32m    230\u001b[0m             \u001b[0;32mif\u001b[0m \u001b[0;32mnot\u001b[0m \u001b[0mkwsyntax\u001b[0m\u001b[0;34m:\u001b[0m\u001b[0;34m\u001b[0m\u001b[0;34m\u001b[0m\u001b[0m\n\u001b[1;32m    231\u001b[0m                 \u001b[0margs\u001b[0m\u001b[0;34m,\u001b[0m \u001b[0mkw\u001b[0m \u001b[0;34m=\u001b[0m \u001b[0mfix\u001b[0m\u001b[0;34m(\u001b[0m\u001b[0margs\u001b[0m\u001b[0;34m,\u001b[0m \u001b[0mkw\u001b[0m\u001b[0;34m,\u001b[0m \u001b[0msig\u001b[0m\u001b[0;34m)\u001b[0m\u001b[0;34m\u001b[0m\u001b[0;34m\u001b[0m\u001b[0m\n\u001b[0;32m--> 232\u001b[0;31m             \u001b[0;32mreturn\u001b[0m \u001b[0mcaller\u001b[0m\u001b[0;34m(\u001b[0m\u001b[0mfunc\u001b[0m\u001b[0;34m,\u001b[0m \u001b[0;34m*\u001b[0m\u001b[0;34m(\u001b[0m\u001b[0mextras\u001b[0m \u001b[0;34m+\u001b[0m \u001b[0margs\u001b[0m\u001b[0;34m)\u001b[0m\u001b[0;34m,\u001b[0m \u001b[0;34m**\u001b[0m\u001b[0mkw\u001b[0m\u001b[0;34m)\u001b[0m\u001b[0;34m\u001b[0m\u001b[0;34m\u001b[0m\u001b[0m\n\u001b[0m\u001b[1;32m    233\u001b[0m     \u001b[0mfun\u001b[0m\u001b[0;34m.\u001b[0m\u001b[0m__name__\u001b[0m \u001b[0;34m=\u001b[0m \u001b[0mfunc\u001b[0m\u001b[0;34m.\u001b[0m\u001b[0m__name__\u001b[0m\u001b[0;34m\u001b[0m\u001b[0;34m\u001b[0m\u001b[0m\n\u001b[1;32m    234\u001b[0m     \u001b[0mfun\u001b[0m\u001b[0;34m.\u001b[0m\u001b[0m__doc__\u001b[0m \u001b[0;34m=\u001b[0m \u001b[0mfunc\u001b[0m\u001b[0;34m.\u001b[0m\u001b[0m__doc__\u001b[0m\u001b[0;34m\u001b[0m\u001b[0;34m\u001b[0m\u001b[0m\n",
      "\u001b[0;32m~/anaconda3/envs/obs/lib/python3.7/site-packages/obspy/core/trace.py\u001b[0m in \u001b[0;36m_add_processing_info\u001b[0;34m(func, *args, **kwargs)\u001b[0m\n\u001b[1;32m    271\u001b[0m     \u001b[0minfo\u001b[0m \u001b[0;34m=\u001b[0m \u001b[0minfo\u001b[0m \u001b[0;34m%\u001b[0m \u001b[0;34m\"::\"\u001b[0m\u001b[0;34m.\u001b[0m\u001b[0mjoin\u001b[0m\u001b[0;34m(\u001b[0m\u001b[0marguments\u001b[0m\u001b[0;34m)\u001b[0m\u001b[0;34m\u001b[0m\u001b[0;34m\u001b[0m\u001b[0m\n\u001b[1;32m    272\u001b[0m     \u001b[0mself\u001b[0m \u001b[0;34m=\u001b[0m \u001b[0margs\u001b[0m\u001b[0;34m[\u001b[0m\u001b[0;36m0\u001b[0m\u001b[0;34m]\u001b[0m\u001b[0;34m\u001b[0m\u001b[0;34m\u001b[0m\u001b[0m\n\u001b[0;32m--> 273\u001b[0;31m     \u001b[0mresult\u001b[0m \u001b[0;34m=\u001b[0m \u001b[0mfunc\u001b[0m\u001b[0;34m(\u001b[0m\u001b[0;34m*\u001b[0m\u001b[0margs\u001b[0m\u001b[0;34m,\u001b[0m \u001b[0;34m**\u001b[0m\u001b[0mkwargs\u001b[0m\u001b[0;34m)\u001b[0m\u001b[0;34m\u001b[0m\u001b[0;34m\u001b[0m\u001b[0m\n\u001b[0m\u001b[1;32m    274\u001b[0m     \u001b[0;31m# Attach after executing the function to avoid having it attached\u001b[0m\u001b[0;34m\u001b[0m\u001b[0;34m\u001b[0m\u001b[0;34m\u001b[0m\u001b[0m\n\u001b[1;32m    275\u001b[0m     \u001b[0;31m# while the operation failed.\u001b[0m\u001b[0;34m\u001b[0m\u001b[0;34m\u001b[0m\u001b[0;34m\u001b[0m\u001b[0m\n",
      "\u001b[0;32m~/anaconda3/envs/obs/lib/python3.7/site-packages/obspy/core/trace.py\u001b[0m in \u001b[0;36mtaper\u001b[0;34m(self, max_percentage, type, max_length, side, **kwargs)\u001b[0m\n\u001b[1;32m   2127\u001b[0m             \u001b[0;32mraise\u001b[0m \u001b[0mValueError\u001b[0m\u001b[0;34m(\u001b[0m\u001b[0;34m\"'side' has to be one of: %s\"\u001b[0m \u001b[0;34m%\u001b[0m \u001b[0mside_valid\u001b[0m\u001b[0;34m)\u001b[0m\u001b[0;34m\u001b[0m\u001b[0;34m\u001b[0m\u001b[0m\n\u001b[1;32m   2128\u001b[0m         \u001b[0;31m# retrieve function call from entry points\u001b[0m\u001b[0;34m\u001b[0m\u001b[0;34m\u001b[0m\u001b[0;34m\u001b[0m\u001b[0m\n\u001b[0;32m-> 2129\u001b[0;31m         \u001b[0mfunc\u001b[0m \u001b[0;34m=\u001b[0m \u001b[0m_get_function_from_entry_point\u001b[0m\u001b[0;34m(\u001b[0m\u001b[0;34m'taper'\u001b[0m\u001b[0;34m,\u001b[0m \u001b[0mtype\u001b[0m\u001b[0;34m)\u001b[0m\u001b[0;34m\u001b[0m\u001b[0;34m\u001b[0m\u001b[0m\n\u001b[0m\u001b[1;32m   2130\u001b[0m         \u001b[0;31m# store all constraints for maximum taper length\u001b[0m\u001b[0;34m\u001b[0m\u001b[0;34m\u001b[0m\u001b[0;34m\u001b[0m\u001b[0m\n\u001b[1;32m   2131\u001b[0m         \u001b[0mmax_half_lenghts\u001b[0m \u001b[0;34m=\u001b[0m \u001b[0;34m[\u001b[0m\u001b[0;34m]\u001b[0m\u001b[0;34m\u001b[0m\u001b[0;34m\u001b[0m\u001b[0m\n",
      "\u001b[0;32m~/anaconda3/envs/obs/lib/python3.7/site-packages/obspy/core/util/base.py\u001b[0m in \u001b[0;36m_get_function_from_entry_point\u001b[0;34m(group, type)\u001b[0m\n\u001b[1;32m    325\u001b[0m         \u001b[0;31m# ok we have entry points, but specified function is not supported\u001b[0m\u001b[0;34m\u001b[0m\u001b[0;34m\u001b[0m\u001b[0;34m\u001b[0m\u001b[0m\n\u001b[1;32m    326\u001b[0m         \u001b[0mmsg\u001b[0m \u001b[0;34m=\u001b[0m \u001b[0;34m\"%s type \\\"%s\\\" is not supported. Supported types: %s\"\u001b[0m\u001b[0;34m\u001b[0m\u001b[0;34m\u001b[0m\u001b[0m\n\u001b[0;32m--> 327\u001b[0;31m         \u001b[0;32mraise\u001b[0m \u001b[0mValueError\u001b[0m\u001b[0;34m(\u001b[0m\u001b[0mmsg\u001b[0m \u001b[0;34m%\u001b[0m \u001b[0;34m(\u001b[0m\u001b[0mgroup\u001b[0m\u001b[0;34m.\u001b[0m\u001b[0mcapitalize\u001b[0m\u001b[0;34m(\u001b[0m\u001b[0;34m)\u001b[0m\u001b[0;34m,\u001b[0m \u001b[0mtype\u001b[0m\u001b[0;34m,\u001b[0m \u001b[0;34m', '\u001b[0m\u001b[0;34m.\u001b[0m\u001b[0mjoin\u001b[0m\u001b[0;34m(\u001b[0m\u001b[0mep_dict\u001b[0m\u001b[0;34m)\u001b[0m\u001b[0;34m)\u001b[0m\u001b[0;34m)\u001b[0m\u001b[0;34m\u001b[0m\u001b[0;34m\u001b[0m\u001b[0m\n\u001b[0m\u001b[1;32m    328\u001b[0m     \u001b[0;31m# import function point\u001b[0m\u001b[0;34m\u001b[0m\u001b[0;34m\u001b[0m\u001b[0;34m\u001b[0m\u001b[0m\n\u001b[1;32m    329\u001b[0m     \u001b[0;31m# any issue during import of entry point should be raised, so the user has\u001b[0m\u001b[0;34m\u001b[0m\u001b[0;34m\u001b[0m\u001b[0;34m\u001b[0m\u001b[0m\n",
      "\u001b[0;31mValueError\u001b[0m: Taper type \"window\" is not supported. Supported types: barthann, bartlett, blackman, blackmanharris, bohman, boxcar, chebwin, cosine, flattop, gaussian, general_gaussian, hamming, hann, kaiser, nuttall, parzen, slepian, triang"
     ]
    }
   ],
   "source": [
    "ccs, cclags, rms_pres, rms_posts, rmss = [], [], [], [], []\n",
    "\n",
    "\n",
    "for m_ind in modulation_indicies: \n",
    "    \n",
    "    modulation_index = m_ind\n",
    "    \n",
    "    cc, cclag, rms_pre, rms_post, rms = __run( sgnc, \n",
    "                                               T, \n",
    "                                               sps, \n",
    "                                               oversampling,\n",
    "                                               modulation_index,\n",
    "                                               f_lower, \n",
    "                                               f_upper, \n",
    "                                               syn_signal,\n",
    "                                               taper_type, \n",
    "                                               taper_percent=0.2,\n",
    "                                              )\n",
    "    \n",
    "    ccs.append(cc)\n",
    "    cclags.append(cclag)\n",
    "    rms_pres.append(rms_pre)\n",
    "    rms_posts.append(rms_post)\n",
    "    rmss.append(rms)\n",
    "    "
   ]
  },
  {
   "cell_type": "code",
   "execution_count": 9,
   "metadata": {
    "ExecuteTime": {
     "end_time": "2021-11-19T13:29:07.027029Z",
     "start_time": "2021-11-19T13:29:07.010619Z"
    },
    "code_folding": [
     1
    ]
   },
   "outputs": [],
   "source": [
    "\n",
    "def __makeplot_quality_quantity_mind(xaxis, ccs, cclags, rms_pres, rms_posts, rmss):\n",
    "\n",
    "    fig, ax = plt.subplots(2,2, figsize=(15,8))\n",
    "\n",
    "    font = 15\n",
    "    \n",
    "    fig.subplots_adjust(hspace=0.3)\n",
    "    \n",
    "    ## ________________________________________\n",
    "\n",
    "    ax[0,0].plot(xaxis, ccs, color='k', ls='-', label='max. CC')\n",
    "    ax[0,0].scatter(xaxis, ccs, color='k', s=10)\n",
    "\n",
    "    ax[0,0].grid(alpha=0.5, ls='--')\n",
    "\n",
    "    ax[0,0].legend(fontsize=font-2)\n",
    "    ax[0,0].set_xlabel(\"modulation index\", fontsize=font)\n",
    "    ax[0,0].set_ylabel(\"max. cross-correlation\", fontsize=font)\n",
    "    ax[0,0].set_xscale(\"log\")\n",
    "    \n",
    "    ## ________________________________________\n",
    "\n",
    "    ax[0,1].plot(xaxis, cclags, color='k', ls='-', label='lag of max. CC')\n",
    "    ax[0,1].scatter(xaxis, cclags, color='k', s=10)\n",
    "\n",
    "    ax[0,1].grid(alpha=0.5, ls='--')\n",
    "\n",
    "    ax[0,1].legend(fontsize=font-2)\n",
    "    ax[0,1].set_xlabel(\"modulation index\", fontsize=font)\n",
    "    ax[0,1].set_ylabel(\"cross-correlation lag\", fontsize=font)\n",
    "    ax[0,1].set_xscale(\"log\")\n",
    "\n",
    "    ## ________________________________________\n",
    "\n",
    "    ax[1,0].plot(xaxis, rms_pres, color='darkblue', ls='-', label='rmse norm.')\n",
    "    ax[1,0].scatter(xaxis, rms_pres, color='blue', s=10)\n",
    "\n",
    "    ax[1,0].plot(xaxis, rms_posts, color='darkred', ls='-', label='rmse norm. opt.')\n",
    "    ax[1,0].scatter(xaxis, rms_posts, color='red', s=10)\n",
    "\n",
    "    ax[1,0].grid(alpha=0.5, ls='--')\n",
    "\n",
    "    ax[1,0].legend(fontsize=font-2)\n",
    "    ax[1,0].set_xlabel(\"modulation index\", fontsize=font)\n",
    "    ax[1,0].set_ylabel(\"root mean square error\", fontsize=font)\n",
    "    ax[1,0].set_xscale(\"log\")\n",
    "\n",
    "    ## ________________________________________\n",
    "\n",
    "    ax[1,1].plot(xaxis, rmss, color='darkgreen', ls='-', label='rmse total')\n",
    "    ax[1,1].scatter(xaxis, rmss, color='green', s=10)\n",
    "\n",
    "    ax[1,1].grid(alpha=0.5, ls='--')\n",
    "\n",
    "    ax[1,1].legend(fontsize=font-2)\n",
    "    ax[1,1].set_xlabel(\"modulation index\", fontsize=font)\n",
    "    ax[1,1].set_ylabel(\"root mean square error\", fontsize=font)\n",
    "    ax[1,1].set_xscale(\"log\")\n",
    "    \n",
    "    ax[0,0].tick_params(labelsize=font-2)\n",
    "    ax[1,0].tick_params(labelsize=font-2)\n",
    "    ax[0,1].tick_params(labelsize=font-2)\n",
    "    ax[1,1].tick_params(labelsize=font-2)\n",
    "    \n",
    "    plt.show();\n",
    "    \n",
    "    return fig\n"
   ]
  },
  {
   "cell_type": "code",
   "execution_count": 10,
   "metadata": {
    "ExecuteTime": {
     "end_time": "2021-11-19T13:29:07.639391Z",
     "start_time": "2021-11-19T13:29:07.362554Z"
    }
   },
   "outputs": [
    {
     "ename": "ValueError",
     "evalue": "x and y must have same first dimension, but have shapes (15,) and (0,)",
     "output_type": "error",
     "traceback": [
      "\u001b[0;31m---------------------------------------------------------------------------\u001b[0m",
      "\u001b[0;31mValueError\u001b[0m                                Traceback (most recent call last)",
      "\u001b[0;32m<ipython-input-10-c6e399866871>\u001b[0m in \u001b[0;36m<module>\u001b[0;34m\u001b[0m\n\u001b[0;32m----> 1\u001b[0;31m \u001b[0mfig\u001b[0m \u001b[0;34m=\u001b[0m \u001b[0m__makeplot_quality_quantity_mind\u001b[0m\u001b[0;34m(\u001b[0m\u001b[0mmodulation_indicies\u001b[0m\u001b[0;34m,\u001b[0m \u001b[0mccs\u001b[0m\u001b[0;34m,\u001b[0m \u001b[0mcclags\u001b[0m\u001b[0;34m,\u001b[0m \u001b[0mrms_pres\u001b[0m\u001b[0;34m,\u001b[0m \u001b[0mrms_posts\u001b[0m\u001b[0;34m,\u001b[0m \u001b[0mrmss\u001b[0m\u001b[0;34m)\u001b[0m\u001b[0;34m\u001b[0m\u001b[0;34m\u001b[0m\u001b[0m\n\u001b[0m\u001b[1;32m      2\u001b[0m \u001b[0;34m\u001b[0m\u001b[0m\n\u001b[1;32m      3\u001b[0m \u001b[0mfig\u001b[0m\u001b[0;34m.\u001b[0m\u001b[0msavefig\u001b[0m\u001b[0;34m(\u001b[0m\u001b[0;34mf\"plots/test_mod-ind_{syn_signal}_{modulation_indicies[0]}-{modulation_indicies[-1]}_T{T}_fs{sps}_f{f_lower}-{f_upper}_S{sgnc}.pdf\"\u001b[0m\u001b[0;34m,\u001b[0m \u001b[0mdpi\u001b[0m\u001b[0;34m=\u001b[0m\u001b[0;36m300\u001b[0m\u001b[0;34m,\u001b[0m \u001b[0mformat\u001b[0m\u001b[0;34m=\u001b[0m\u001b[0;34m'pdf'\u001b[0m\u001b[0;34m)\u001b[0m\u001b[0;34m\u001b[0m\u001b[0;34m\u001b[0m\u001b[0m\n",
      "\u001b[0;32m<ipython-input-9-b9256d0f30dd>\u001b[0m in \u001b[0;36m__makeplot_quality_quantity_mind\u001b[0;34m(xaxis, ccs, cclags, rms_pres, rms_posts, rmss)\u001b[0m\n\u001b[1;32m      9\u001b[0m     \u001b[0;31m## ________________________________________\u001b[0m\u001b[0;34m\u001b[0m\u001b[0;34m\u001b[0m\u001b[0;34m\u001b[0m\u001b[0m\n\u001b[1;32m     10\u001b[0m \u001b[0;34m\u001b[0m\u001b[0m\n\u001b[0;32m---> 11\u001b[0;31m     \u001b[0max\u001b[0m\u001b[0;34m[\u001b[0m\u001b[0;36m0\u001b[0m\u001b[0;34m,\u001b[0m\u001b[0;36m0\u001b[0m\u001b[0;34m]\u001b[0m\u001b[0;34m.\u001b[0m\u001b[0mplot\u001b[0m\u001b[0;34m(\u001b[0m\u001b[0mxaxis\u001b[0m\u001b[0;34m,\u001b[0m \u001b[0mccs\u001b[0m\u001b[0;34m,\u001b[0m \u001b[0mcolor\u001b[0m\u001b[0;34m=\u001b[0m\u001b[0;34m'k'\u001b[0m\u001b[0;34m,\u001b[0m \u001b[0mls\u001b[0m\u001b[0;34m=\u001b[0m\u001b[0;34m'-'\u001b[0m\u001b[0;34m,\u001b[0m \u001b[0mlabel\u001b[0m\u001b[0;34m=\u001b[0m\u001b[0;34m'max. CC'\u001b[0m\u001b[0;34m)\u001b[0m\u001b[0;34m\u001b[0m\u001b[0;34m\u001b[0m\u001b[0m\n\u001b[0m\u001b[1;32m     12\u001b[0m     \u001b[0max\u001b[0m\u001b[0;34m[\u001b[0m\u001b[0;36m0\u001b[0m\u001b[0;34m,\u001b[0m\u001b[0;36m0\u001b[0m\u001b[0;34m]\u001b[0m\u001b[0;34m.\u001b[0m\u001b[0mscatter\u001b[0m\u001b[0;34m(\u001b[0m\u001b[0mxaxis\u001b[0m\u001b[0;34m,\u001b[0m \u001b[0mccs\u001b[0m\u001b[0;34m,\u001b[0m \u001b[0mcolor\u001b[0m\u001b[0;34m=\u001b[0m\u001b[0;34m'k'\u001b[0m\u001b[0;34m,\u001b[0m \u001b[0ms\u001b[0m\u001b[0;34m=\u001b[0m\u001b[0;36m10\u001b[0m\u001b[0;34m)\u001b[0m\u001b[0;34m\u001b[0m\u001b[0;34m\u001b[0m\u001b[0m\n\u001b[1;32m     13\u001b[0m \u001b[0;34m\u001b[0m\u001b[0m\n",
      "\u001b[0;32m~/anaconda3/envs/obs/lib/python3.7/site-packages/matplotlib/axes/_axes.py\u001b[0m in \u001b[0;36mplot\u001b[0;34m(self, scalex, scaley, data, *args, **kwargs)\u001b[0m\n\u001b[1;32m   1741\u001b[0m         \"\"\"\n\u001b[1;32m   1742\u001b[0m         \u001b[0mkwargs\u001b[0m \u001b[0;34m=\u001b[0m \u001b[0mcbook\u001b[0m\u001b[0;34m.\u001b[0m\u001b[0mnormalize_kwargs\u001b[0m\u001b[0;34m(\u001b[0m\u001b[0mkwargs\u001b[0m\u001b[0;34m,\u001b[0m \u001b[0mmlines\u001b[0m\u001b[0;34m.\u001b[0m\u001b[0mLine2D\u001b[0m\u001b[0;34m)\u001b[0m\u001b[0;34m\u001b[0m\u001b[0;34m\u001b[0m\u001b[0m\n\u001b[0;32m-> 1743\u001b[0;31m         \u001b[0mlines\u001b[0m \u001b[0;34m=\u001b[0m \u001b[0;34m[\u001b[0m\u001b[0;34m*\u001b[0m\u001b[0mself\u001b[0m\u001b[0;34m.\u001b[0m\u001b[0m_get_lines\u001b[0m\u001b[0;34m(\u001b[0m\u001b[0;34m*\u001b[0m\u001b[0margs\u001b[0m\u001b[0;34m,\u001b[0m \u001b[0mdata\u001b[0m\u001b[0;34m=\u001b[0m\u001b[0mdata\u001b[0m\u001b[0;34m,\u001b[0m \u001b[0;34m**\u001b[0m\u001b[0mkwargs\u001b[0m\u001b[0;34m)\u001b[0m\u001b[0;34m]\u001b[0m\u001b[0;34m\u001b[0m\u001b[0;34m\u001b[0m\u001b[0m\n\u001b[0m\u001b[1;32m   1744\u001b[0m         \u001b[0;32mfor\u001b[0m \u001b[0mline\u001b[0m \u001b[0;32min\u001b[0m \u001b[0mlines\u001b[0m\u001b[0;34m:\u001b[0m\u001b[0;34m\u001b[0m\u001b[0;34m\u001b[0m\u001b[0m\n\u001b[1;32m   1745\u001b[0m             \u001b[0mself\u001b[0m\u001b[0;34m.\u001b[0m\u001b[0madd_line\u001b[0m\u001b[0;34m(\u001b[0m\u001b[0mline\u001b[0m\u001b[0;34m)\u001b[0m\u001b[0;34m\u001b[0m\u001b[0;34m\u001b[0m\u001b[0m\n",
      "\u001b[0;32m~/anaconda3/envs/obs/lib/python3.7/site-packages/matplotlib/axes/_base.py\u001b[0m in \u001b[0;36m__call__\u001b[0;34m(self, data, *args, **kwargs)\u001b[0m\n\u001b[1;32m    271\u001b[0m                 \u001b[0mthis\u001b[0m \u001b[0;34m+=\u001b[0m \u001b[0margs\u001b[0m\u001b[0;34m[\u001b[0m\u001b[0;36m0\u001b[0m\u001b[0;34m]\u001b[0m\u001b[0;34m,\u001b[0m\u001b[0;34m\u001b[0m\u001b[0;34m\u001b[0m\u001b[0m\n\u001b[1;32m    272\u001b[0m                 \u001b[0margs\u001b[0m \u001b[0;34m=\u001b[0m \u001b[0margs\u001b[0m\u001b[0;34m[\u001b[0m\u001b[0;36m1\u001b[0m\u001b[0;34m:\u001b[0m\u001b[0;34m]\u001b[0m\u001b[0;34m\u001b[0m\u001b[0;34m\u001b[0m\u001b[0m\n\u001b[0;32m--> 273\u001b[0;31m             \u001b[0;32myield\u001b[0m \u001b[0;32mfrom\u001b[0m \u001b[0mself\u001b[0m\u001b[0;34m.\u001b[0m\u001b[0m_plot_args\u001b[0m\u001b[0;34m(\u001b[0m\u001b[0mthis\u001b[0m\u001b[0;34m,\u001b[0m \u001b[0mkwargs\u001b[0m\u001b[0;34m)\u001b[0m\u001b[0;34m\u001b[0m\u001b[0;34m\u001b[0m\u001b[0m\n\u001b[0m\u001b[1;32m    274\u001b[0m \u001b[0;34m\u001b[0m\u001b[0m\n\u001b[1;32m    275\u001b[0m     \u001b[0;32mdef\u001b[0m \u001b[0mget_next_color\u001b[0m\u001b[0;34m(\u001b[0m\u001b[0mself\u001b[0m\u001b[0;34m)\u001b[0m\u001b[0;34m:\u001b[0m\u001b[0;34m\u001b[0m\u001b[0;34m\u001b[0m\u001b[0m\n",
      "\u001b[0;32m~/anaconda3/envs/obs/lib/python3.7/site-packages/matplotlib/axes/_base.py\u001b[0m in \u001b[0;36m_plot_args\u001b[0;34m(self, tup, kwargs)\u001b[0m\n\u001b[1;32m    397\u001b[0m \u001b[0;34m\u001b[0m\u001b[0m\n\u001b[1;32m    398\u001b[0m         \u001b[0;32mif\u001b[0m \u001b[0mx\u001b[0m\u001b[0;34m.\u001b[0m\u001b[0mshape\u001b[0m\u001b[0;34m[\u001b[0m\u001b[0;36m0\u001b[0m\u001b[0;34m]\u001b[0m \u001b[0;34m!=\u001b[0m \u001b[0my\u001b[0m\u001b[0;34m.\u001b[0m\u001b[0mshape\u001b[0m\u001b[0;34m[\u001b[0m\u001b[0;36m0\u001b[0m\u001b[0;34m]\u001b[0m\u001b[0;34m:\u001b[0m\u001b[0;34m\u001b[0m\u001b[0;34m\u001b[0m\u001b[0m\n\u001b[0;32m--> 399\u001b[0;31m             raise ValueError(f\"x and y must have same first dimension, but \"\n\u001b[0m\u001b[1;32m    400\u001b[0m                              f\"have shapes {x.shape} and {y.shape}\")\n\u001b[1;32m    401\u001b[0m         \u001b[0;32mif\u001b[0m \u001b[0mx\u001b[0m\u001b[0;34m.\u001b[0m\u001b[0mndim\u001b[0m \u001b[0;34m>\u001b[0m \u001b[0;36m2\u001b[0m \u001b[0;32mor\u001b[0m \u001b[0my\u001b[0m\u001b[0;34m.\u001b[0m\u001b[0mndim\u001b[0m \u001b[0;34m>\u001b[0m \u001b[0;36m2\u001b[0m\u001b[0;34m:\u001b[0m\u001b[0;34m\u001b[0m\u001b[0;34m\u001b[0m\u001b[0m\n",
      "\u001b[0;31mValueError\u001b[0m: x and y must have same first dimension, but have shapes (15,) and (0,)"
     ]
    },
    {
     "data": {
      "image/png": "[encoded data removed]",
      "text/plain": [
       "<Figure size 1080x576 with 4 Axes>"
      ]
     },
     "metadata": {
      "needs_background": "light"
     },
     "output_type": "display_data"
    }
   ],
   "source": [
    "\n",
    "fig = __makeplot_quality_quantity_mind(modulation_indicies, ccs, cclags, rms_pres, rms_posts, rmss)\n",
    "\n",
    "fig.savefig(f\"plots/test_mod-ind_{syn_signal}_{modulation_indicies[0]}-{modulation_indicies[-1]}_T{T}_fs{sps}_f{f_lower}-{f_upper}_S{sgnc}.pdf\", dpi=300, format='pdf')\n"
   ]
  },
  {
   "cell_type": "code",
   "execution_count": null,
   "metadata": {},
   "outputs": [],
   "source": []
  }
 ],
 "metadata": {
  "kernelspec": {
   "display_name": "Python 3",
   "language": "python",
   "name": "python3"
  },
  "language_info": {
   "codemirror_mode": {
    "name": "ipython",
    "version": 3
   },
   "file_extension": ".py",
   "mimetype": "text/x-python",
   "name": "python",
   "nbconvert_exporter": "python",
   "pygments_lexer": "ipython3",
   "version": "3.7.8"
  }
 },
 "nbformat": 4,
 "nbformat_minor": 4
}
