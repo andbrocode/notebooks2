{
 "cells": [
  {
   "cell_type": "code",
   "execution_count": 5,
   "id": "under-cancellation",
   "metadata": {
    "ExecuteTime": {
     "end_time": "2021-03-15T18:18:23.031445Z",
     "start_time": "2021-03-15T18:18:23.019972Z"
    }
   },
   "outputs": [
    {
     "ename": "OSError",
     "evalue": "/home/brotzer/notebooks/cfiles/convolution.so: cannot open shared object file: No such file or directory",
     "output_type": "error",
     "traceback": [
      "\u001b[0;31m---------------------------------------------------------------------------\u001b[0m",
      "\u001b[0;31mOSError\u001b[0m                                   Traceback (most recent call last)",
      "\u001b[0;32m<ipython-input-5-c8d3dc150ed0>\u001b[0m in \u001b[0;36m<module>\u001b[0;34m\u001b[0m\n\u001b[1;32m     13\u001b[0m \u001b[0;34m\u001b[0m\u001b[0m\n\u001b[1;32m     14\u001b[0m \u001b[0;34m\u001b[0m\u001b[0m\n\u001b[0;32m---> 15\u001b[0;31m \u001b[0mconvolution_lib\u001b[0m \u001b[0;34m=\u001b[0m \u001b[0mctypes\u001b[0m\u001b[0;34m.\u001b[0m\u001b[0mCDLL\u001b[0m\u001b[0;34m(\u001b[0m\u001b[0;34m\"/home/brotzer/notebooks/cfiles/convolution.so\"\u001b[0m\u001b[0;34m)\u001b[0m\u001b[0;34m\u001b[0m\u001b[0;34m\u001b[0m\u001b[0m\n\u001b[0m\u001b[1;32m     16\u001b[0m \u001b[0;34m\u001b[0m\u001b[0m\n\u001b[1;32m     17\u001b[0m \u001b[0mhilber_lib\u001b[0m \u001b[0;34m=\u001b[0m \u001b[0mctypes\u001b[0m\u001b[0;34m.\u001b[0m\u001b[0mCDLL\u001b[0m\u001b[0;34m(\u001b[0m\u001b[0;34m\"/home/brotzer/notebooks/cfiles/hilbert.so\"\u001b[0m\u001b[0;34m)\u001b[0m\u001b[0;34m\u001b[0m\u001b[0;34m\u001b[0m\u001b[0m\n",
      "\u001b[0;32m~/anaconda3/envs/obs/lib/python3.7/ctypes/__init__.py\u001b[0m in \u001b[0;36m__init__\u001b[0;34m(self, name, mode, handle, use_errno, use_last_error)\u001b[0m\n\u001b[1;32m    362\u001b[0m \u001b[0;34m\u001b[0m\u001b[0m\n\u001b[1;32m    363\u001b[0m         \u001b[0;32mif\u001b[0m \u001b[0mhandle\u001b[0m \u001b[0;32mis\u001b[0m \u001b[0;32mNone\u001b[0m\u001b[0;34m:\u001b[0m\u001b[0;34m\u001b[0m\u001b[0;34m\u001b[0m\u001b[0m\n\u001b[0;32m--> 364\u001b[0;31m             \u001b[0mself\u001b[0m\u001b[0;34m.\u001b[0m\u001b[0m_handle\u001b[0m \u001b[0;34m=\u001b[0m \u001b[0m_dlopen\u001b[0m\u001b[0;34m(\u001b[0m\u001b[0mself\u001b[0m\u001b[0;34m.\u001b[0m\u001b[0m_name\u001b[0m\u001b[0;34m,\u001b[0m \u001b[0mmode\u001b[0m\u001b[0;34m)\u001b[0m\u001b[0;34m\u001b[0m\u001b[0;34m\u001b[0m\u001b[0m\n\u001b[0m\u001b[1;32m    365\u001b[0m         \u001b[0;32melse\u001b[0m\u001b[0;34m:\u001b[0m\u001b[0;34m\u001b[0m\u001b[0;34m\u001b[0m\u001b[0m\n\u001b[1;32m    366\u001b[0m             \u001b[0mself\u001b[0m\u001b[0;34m.\u001b[0m\u001b[0m_handle\u001b[0m \u001b[0;34m=\u001b[0m \u001b[0mhandle\u001b[0m\u001b[0;34m\u001b[0m\u001b[0;34m\u001b[0m\u001b[0m\n",
      "\u001b[0;31mOSError\u001b[0m: /home/brotzer/notebooks/cfiles/convolution.so: cannot open shared object file: No such file or directory"
     ]
    }
   ],
   "source": [
    "import ctypes\n",
    "\n",
    "# # A. Create library\n",
    "# C_library = ctypes.CDLL(\"/home/brotzer/notebooks/cfiles/clib.so\")\n",
    "\n",
    "# # B. Specify function signatures\n",
    "# hello_fxn = C_library.say_hello\n",
    "# hello_fxn.argtypes = [ctypes.c_int]\n",
    "\n",
    "# # C. Invoke function\n",
    "# num_repeats = 5\n",
    "# hello_fxn(num_repeats)\n",
    "\n",
    "\n",
    "convolution_lib = ctypes.CDLL(\"/home/brotzer/notebooks/cfiles/convolution.so\")\n",
    "\n",
    "hilber_lib = ctypes.CDLL(\"/home/brotzer/notebooks/cfiles/hilbert.so\")\n",
    "\n",
    "hilbert_c = hilbert_lib.hilbert\n",
    "hilbert_c.argtypes = [ctypes.c_int, ctypes_double, ctypes.double]\n",
    "hilbert_c.restpyes = [ctypes.double]\n",
    "\n",
    "# void hilbert (int n, double x[], double y[])"
   ]
  },
  {
   "cell_type": "code",
   "execution_count": 46,
   "id": "advised-foster",
   "metadata": {
    "ExecuteTime": {
     "end_time": "2021-03-16T09:41:15.959671Z",
     "start_time": "2021-03-16T09:41:15.953172Z"
    }
   },
   "outputs": [
    {
     "name": "stdout",
     "output_type": "stream",
     "text": [
      "2021-03-16 2021-03-16\n"
     ]
    }
   ],
   "source": [
    "\n",
    "from datetime import datetime \n",
    "import os\n",
    "\n",
    "current_date = datetime(2021, 3, 16).date().isoformat()\n",
    "\n",
    "print(current_date, datetime.utcnow().date().isoformat())\n",
    "\n",
    "if current_date != datetime.utcnow().date().isoformat():    \n",
    "    current_date = datetime.utcnow().date().isoformat()\n",
    "    ofile = f\"bme{current_date}.dat\"\n",
    "    os.mknod(f\"/home/andbro/Desktop/{ofile}\")\n"
   ]
  },
  {
   "cell_type": "code",
   "execution_count": null,
   "id": "exempt-feeling",
   "metadata": {},
   "outputs": [],
   "source": [
    "if i == 1:\n",
    "    ofile = f\"bme{datetime.utcnow().date().isoformat()}.dat\"\n",
    "    os.mknod(f\"/home/andbro/Desktop/{ofile}\")\n",
    "    "
   ]
  },
  {
   "cell_type": "code",
   "execution_count": null,
   "id": "likely-replacement",
   "metadata": {},
   "outputs": [],
   "source": []
  }
 ],
 "metadata": {
  "kernelspec": {
   "display_name": "Python 3",
   "language": "python",
   "name": "python3"
  },
  "language_info": {
   "codemirror_mode": {
    "name": "ipython",
    "version": 3
   },
   "file_extension": ".py",
   "mimetype": "text/x-python",
   "name": "python",
   "nbconvert_exporter": "python",
   "pygments_lexer": "ipython3",
   "version": "3.7.8"
  }
 },
 "nbformat": 4,
 "nbformat_minor": 5
}
