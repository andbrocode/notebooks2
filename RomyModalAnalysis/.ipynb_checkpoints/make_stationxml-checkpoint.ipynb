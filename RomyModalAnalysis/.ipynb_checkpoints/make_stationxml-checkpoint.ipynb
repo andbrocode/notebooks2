{
 "cells": [
  {
   "cell_type": "markdown",
   "metadata": {},
   "source": [
    "## Obs Station Metadata"
   ]
  },
  {
   "cell_type": "code",
   "execution_count": 1,
   "metadata": {
    "ExecuteTime": {
     "end_time": "2023-04-05T08:17:12.982891Z",
     "start_time": "2023-04-05T08:17:11.253323Z"
    }
   },
   "outputs": [],
   "source": [
    "# %matplotlib nbagg\n",
    "\n",
    "import re\n",
    "\n",
    "from obspy import UTCDateTime, read_inventory\n",
    "from obspy.clients.nrl import NRL\n",
    "from obspy.io.xseed import Parser\n",
    "from obspy.core.inventory import Inventory, Network, Station, Channel, Site\n",
    "from obspy.clients.fdsn import Client as FDSNClient"
   ]
  },
  {
   "cell_type": "code",
   "execution_count": 2,
   "metadata": {
    "ExecuteTime": {
     "end_time": "2023-04-05T08:17:14.077101Z",
     "start_time": "2023-04-05T08:17:12.983953Z"
    }
   },
   "outputs": [],
   "source": [
    "# could be replaced with a local download of NRL\n",
    "nrl = NRL()"
   ]
  },
  {
   "cell_type": "markdown",
   "metadata": {},
   "source": [
    "## Example to find out correct keys for given sensor in NRL"
   ]
  },
  {
   "cell_type": "markdown",
   "metadata": {},
   "source": [
    "### Sensor"
   ]
  },
  {
   "cell_type": "code",
   "execution_count": 3,
   "metadata": {
    "ExecuteTime": {
     "end_time": "2023-04-05T08:17:19.028589Z",
     "start_time": "2023-04-05T08:17:14.078652Z"
    }
   },
   "outputs": [
    {
     "name": "stdout",
     "output_type": "stream",
     "text": [
      "Select the sensor manufacturer (42 items):\n",
      "  'ASIR', 'CEA-DASE', 'CME (now R-Sensors)', 'Chaparral Physics',\n",
      "  'DTCC (manuafacturers of SmartSolo)', 'EQMet', 'Eentec', 'GEObit',\n",
      "  'GEOsig', 'GaiaCode', 'Gem', 'Generic', 'Geo Space/OYO', 'Geodevice'\n",
      "  'Geotech', 'Guralp', 'HGS Products', 'High Tech', 'Hyperion',\n",
      "  'IESE', 'Johnson Infrasound', 'Kinemetrics', 'LaHusen', 'Lennartz',\n",
      "  'Lunitek', 'Magseis Fairfield', 'Metrozet', 'Nanometrics',\n",
      "  'R-Sensors (previously listed as CME', 'REF TEK', 'RTClark', 'SARA'\n",
      "  'Seismo Wave', 'SensorNederland', 'Sercel/Mark Products',\n",
      "  'Silicon Audio', 'SolGeo', 'Sprengnether (now Eentec)',\n",
      "  'Streckeisen', 'Sunfull', 'TDG', 'iTem'\n",
      "\n",
      "Choose manufacturer: Nanometrics\n",
      "\n",
      "_______________________________\n"
     ]
    }
   ],
   "source": [
    "print(nrl.sensors)\n",
    "\n",
    "manufacturer = input(\"\\nChoose manufacturer: \");print(\"\\n_______________________________\")"
   ]
  },
  {
   "cell_type": "code",
   "execution_count": 4,
   "metadata": {
    "ExecuteTime": {
     "end_time": "2023-04-05T08:18:27.678186Z",
     "start_time": "2023-04-05T08:17:37.203638Z"
    }
   },
   "outputs": [
    {
     "name": "stdout",
     "output_type": "stream",
     "text": [
      "Select the Nanometrics sensor model (14 items):\n",
      "  'Meridian Compact Posthole', 'Meridian Posthole',\n",
      "  'Titan Accelerometer', 'Trillium 120 Horizon', 'Trillium 120P/PA',\n",
      "  'Trillium 120Q/QA,PH,BH (Vault, Posthole or Borehole)',\n",
      "  'Trillium 240', 'Trillium 360', 'Trillium 40',\n",
      "  'Trillium All-Terrain', 'Trillium Cascadia Accelerometer',\n",
      "  'Trillium Cascadia seismometer', 'Trillium Compact 120 (Vault,\n",
      "  Posthole, OBS)', 'Trillium Compact 20 (Vault, Posthole, OBS)'\n",
      "\n",
      "Choose sensor: Trillium 120 Horizon\n",
      "\n",
      "_______________________________\n"
     ]
    }
   ],
   "source": [
    "print(nrl.sensors[manufacturer])\n",
    "\n",
    "sensor = input(\"\\nChoose sensor: \");print(\"\\n_______________________________\")"
   ]
  },
  {
   "cell_type": "code",
   "execution_count": null,
   "metadata": {
    "ExecuteTime": {
     "start_time": "2023-04-05T08:18:42.691Z"
    }
   },
   "outputs": [
    {
     "name": "stdout",
     "output_type": "stream",
     "text": [
      "Select the Trillium Horizon 120 Version (2 items):\n",
      "  'Trillium 120 Horizon', 'Trillium 120 Horizon V2'\n"
     ]
    }
   ],
   "source": [
    "print(nrl.sensors[manufacturer][sensor])\n",
    "\n",
    "sensitivity = input(\"\\nChoose sensitivity: \");print(\"\\n_______________________________\")"
   ]
  },
  {
   "cell_type": "code",
   "execution_count": 35,
   "metadata": {
    "ExecuteTime": {
     "end_time": "2023-03-30T14:27:40.131735Z",
     "start_time": "2023-03-30T14:27:36.582931Z"
    }
   },
   "outputs": [
    {
     "name": "stdout",
     "output_type": "stream",
     "text": [
      "('Trillium Compact, 120 s, 754 V/m/s', 'http://ds.iris.edu/NRL/sensors/nanometrics/RESP.XX.NS124..BHZ.TrilliumCompact120.120.754')\n",
      "\n",
      "Choose generation: 'http://ds.iris.edu/NRL/sensors/nanometrics/RESP.XX.NS124..BHZ.TrilliumCompact120.120.754'\n",
      "\n",
      "_______________________________\n"
     ]
    }
   ],
   "source": [
    "print(nrl.sensors[manufacturer][sensor][sensitivity])\n",
    "\n",
    "generation = str(input(\"\\nChoose generation: \"));print(\"\\n_______________________________\")"
   ]
  },
  {
   "cell_type": "code",
   "execution_count": 40,
   "metadata": {
    "ExecuteTime": {
     "end_time": "2023-03-30T14:30:13.925840Z",
     "start_time": "2023-03-30T14:30:13.923208Z"
    }
   },
   "outputs": [
    {
     "data": {
      "text/plain": [
       "('Trillium Compact, 120 s, 754 V/m/s',\n",
       " 'http://ds.iris.edu/NRL/sensors/nanometrics/RESP.XX.NS124..BHZ.TrilliumCompact120.120.754')"
      ]
     },
     "execution_count": 40,
     "metadata": {},
     "output_type": "execute_result"
    }
   ],
   "source": [
    "# nrl.sensors[manufacturer][sensor][sensitivity][generation]\n",
    "nrl.sensors[manufacturer][sensor][sensitivity]"
   ]
  },
  {
   "cell_type": "code",
   "execution_count": 52,
   "metadata": {
    "ExecuteTime": {
     "end_time": "2023-03-30T14:34:39.788842Z",
     "start_time": "2023-03-30T14:34:39.770438Z"
    }
   },
   "outputs": [
    {
     "ename": "TypeError",
     "evalue": "list indices must be integers or slices, not str",
     "output_type": "error",
     "traceback": [
      "\u001b[0;31m---------------------------------------------------------------------------\u001b[0m",
      "\u001b[0;31mTypeError\u001b[0m                                 Traceback (most recent call last)",
      "\u001b[0;32m<ipython-input-52-94d2c3ab72d6>\u001b[0m in \u001b[0;36m<module>\u001b[0;34m\u001b[0m\n\u001b[0;32m----> 1\u001b[0;31m \u001b[0;34m[\u001b[0m\u001b[0mmanufacturer\u001b[0m\u001b[0;34m]\u001b[0m\u001b[0;34m[\u001b[0m\u001b[0msensor\u001b[0m\u001b[0;34m]\u001b[0m\u001b[0;34m[\u001b[0m\u001b[0msensitivity\u001b[0m\u001b[0;34m]\u001b[0m\u001b[0;34m\u001b[0m\u001b[0;34m\u001b[0m\u001b[0m\n\u001b[0m",
      "\u001b[0;31mTypeError\u001b[0m: list indices must be integers or slices, not str"
     ]
    }
   ],
   "source": [
    "[manufacturer][sensor][sensitivity]"
   ]
  },
  {
   "cell_type": "markdown",
   "metadata": {
    "ExecuteTime": {
     "end_time": "2023-03-30T14:33:20.710733Z",
     "start_time": "2023-03-30T14:33:20.705558Z"
    }
   },
   "source": [
    "### Data Logger"
   ]
  },
  {
   "cell_type": "code",
   "execution_count": 42,
   "metadata": {
    "ExecuteTime": {
     "end_time": "2023-03-30T14:30:32.894096Z",
     "start_time": "2023-03-30T14:30:22.136585Z"
    }
   },
   "outputs": [
    {
     "name": "stdout",
     "output_type": "stream",
     "text": [
      "Select the datalogger manufacturer (30 items):\n",
      "  'Agecodagis', 'CNSN', 'DAQ Systems (NetDAS)',\n",
      "  'DTCC (manufacturers of SmartSolo', 'DiGOS/Omnirecs', 'EQMet',\n",
      "  'Earth Data', 'Eentec', 'GEObit', 'Gem', 'Generic', 'GeoSIG',\n",
      "  'Geodevice', 'Geotech', 'Guralp', 'Kinemetrics', 'Lunitek',\n",
      "  'Magseis Fairfield', 'Nanometrics', 'Quanterra', 'R-Sensors',\n",
      "  'REF TEK', 'SARA', 'STANEO', 'Seismic Source',\n",
      "  'SeismologyResearchCentre', 'Sercel', 'SolGeo', 'TDG',\n",
      "  'WorldSensing'\n",
      "\n",
      "Choose datalogger: REF TEK\n",
      "\n",
      "_______________________________\n"
     ]
    }
   ],
   "source": [
    "print(nrl.dataloggers)\n",
    "\n",
    "datalogger = input(\"\\nChoose datalogger: \");print(\"\\n_______________________________\")"
   ]
  },
  {
   "cell_type": "code",
   "execution_count": 43,
   "metadata": {
    "ExecuteTime": {
     "end_time": "2023-03-30T14:30:49.776948Z",
     "start_time": "2023-03-30T14:30:35.644425Z"
    }
   },
   "outputs": [
    {
     "name": "stdout",
     "output_type": "stream",
     "text": [
      "Select the REF TEK model (7 items):\n",
      "  'RT 125 & 125A', 'RT 130 & 130-SMA', 'RT 130S & 130-SMHR',\n",
      "  'RT 72A-06', 'RT 72A-07', 'RT 72A-08', 'Wrangler'\n",
      "\n",
      "Choose datalogger model: RT 130 & 130-SMA\n",
      "\n",
      "_______________________________\n"
     ]
    }
   ],
   "source": [
    "print(nrl.dataloggers[datalogger])\n",
    "\n",
    "model = input(\"\\nChoose datalogger model: \");print(\"\\n_______________________________\")"
   ]
  },
  {
   "cell_type": "code",
   "execution_count": 44,
   "metadata": {
    "ExecuteTime": {
     "end_time": "2023-03-30T14:32:27.114796Z",
     "start_time": "2023-03-30T14:30:51.666489Z"
    }
   },
   "outputs": [
    {
     "name": "stdout",
     "output_type": "stream",
     "text": [
      "Select the preamplifier gain setting (2 items):\n",
      "  '1', '32'\n",
      "\n",
      "Choose datalogger gain: 1\n",
      "\n",
      "_______________________________\n"
     ]
    }
   ],
   "source": [
    "print(nrl.dataloggers[datalogger][model])\n",
    "\n",
    "gain = input(\"\\nChoose datalogger gain: \");print(\"\\n_______________________________\")"
   ]
  },
  {
   "cell_type": "code",
   "execution_count": 45,
   "metadata": {
    "ExecuteTime": {
     "end_time": "2023-03-30T14:32:39.934593Z",
     "start_time": "2023-03-30T14:32:34.271546Z"
    }
   },
   "outputs": [
    {
     "name": "stdout",
     "output_type": "stream",
     "text": [
      "Select the sample rate in samples per second for this channel (13 items):\n",
      "  '1', '10', '100', '1000', '125', '20', '200', '25', '250', '40', '5'\n",
      "  '50', '500'\n",
      "\n",
      "Choose datalogger sampling rate: 200\n",
      "\n",
      "_______________________________\n"
     ]
    }
   ],
   "source": [
    "print(nrl.dataloggers[datalogger][model][gain])\n",
    "\n",
    "sampling_rate = input(\"\\nChoose datalogger sampling rate: \");print(\"\\n_______________________________\")"
   ]
  },
  {
   "cell_type": "code",
   "execution_count": 46,
   "metadata": {
    "ExecuteTime": {
     "end_time": "2023-03-30T14:32:51.834388Z",
     "start_time": "2023-03-30T14:32:51.826456Z"
    }
   },
   "outputs": [
    {
     "name": "stdout",
     "output_type": "stream",
     "text": [
      "('RT130, gain 1, 200 sps', 'http://ds.iris.edu/NRL/dataloggers/reftek/RESP.XX.NR010..HHZ.130.1.200')\n"
     ]
    }
   ],
   "source": [
    "print(nrl.dataloggers[datalogger][model][gain][sampling_rate])"
   ]
  },
  {
   "cell_type": "code",
   "execution_count": 47,
   "metadata": {
    "ExecuteTime": {
     "end_time": "2023-03-30T14:32:57.582075Z",
     "start_time": "2023-03-30T14:32:57.579503Z"
    }
   },
   "outputs": [
    {
     "data": {
      "text/plain": [
       "['REF TEK', 'RT 130 & 130-SMA', '1', '200']"
      ]
     },
     "execution_count": 47,
     "metadata": {},
     "output_type": "execute_result"
    }
   ],
   "source": [
    "[datalogger, model, gain, sampling_rate]"
   ]
  },
  {
   "cell_type": "markdown",
   "metadata": {},
   "source": [
    "### Response"
   ]
  },
  {
   "cell_type": "code",
   "execution_count": 54,
   "metadata": {
    "ExecuteTime": {
     "end_time": "2023-03-30T14:34:57.101679Z",
     "start_time": "2023-03-30T14:34:56.330790Z"
    }
   },
   "outputs": [],
   "source": [
    "response = nrl.get_response(\n",
    "    datalogger_keys=[datalogger, model, gain, sampling_rate],\n",
    "    sensor_keys=[manufacturer,sensor,sensitivity]\n",
    "    )"
   ]
  },
  {
   "cell_type": "code",
   "execution_count": 55,
   "metadata": {
    "ExecuteTime": {
     "end_time": "2023-03-30T14:35:00.604714Z",
     "start_time": "2023-03-30T14:34:58.280157Z"
    }
   },
   "outputs": [
    {
     "name": "stderr",
     "output_type": "stream",
     "text": [
      "No handles with labels found to put in legend.\n"
     ]
    },
    {
     "data": {
      "image/png": "[encoded data removed]",
      "text/plain": [
       "<Figure size 432x288 with 2 Axes>"
      ]
     },
     "metadata": {
      "needs_background": "light"
     },
     "output_type": "display_data"
    }
   ],
   "source": [
    "response.plot(0.001);"
   ]
  },
  {
   "cell_type": "markdown",
   "metadata": {},
   "source": [
    "## More Details on Station"
   ]
  },
  {
   "cell_type": "code",
   "execution_count": 60,
   "metadata": {
    "ExecuteTime": {
     "end_time": "2023-03-30T14:51:56.463920Z",
     "start_time": "2023-03-30T14:51:43.286909Z"
    }
   },
   "outputs": [
    {
     "name": "stdout",
     "output_type": "stream",
     "text": [
      "\n",
      "Enter network: XX\n",
      "\n",
      "_______________________________\n",
      "\n",
      "Enter station: RY09\n",
      "\n",
      "_______________________________\n",
      "\n",
      "Enter location: \n",
      "\n",
      "_______________________________\n",
      "\n",
      "Enter serial number: 000218\n",
      "\n",
      "_______________________________\n",
      "\n",
      "Enter path of output file: .\n",
      "\n",
      "_______________________________\n",
      "\n",
      "Specify site coordinates (y/n)? n\n"
     ]
    }
   ],
   "source": [
    "net = input(\"\\nEnter network: \");print(\"\\n_______________________________\")\n",
    "\n",
    "sta = input(\"\\nEnter station: \");print(\"\\n_______________________________\")\n",
    "\n",
    "loc = input(\"\\nEnter location: \") or '';print(\"\\n_______________________________\")\n",
    "\n",
    "serial_number = input(\"\\nEnter serial number: \");print(\"\\n_______________________________\")\n",
    "\n",
    "outpath = input(\"\\nEnter path of output file: \");print(\"\\n_______________________________\")\n",
    "\n",
    "location = input(\"\\nSpecify site coordinates (y/n)? \")\n",
    "\n",
    "if location == \"y\" or location == \"yes\":\n",
    "    lat = input(\"Enter latitude: \")\n",
    "    lon = input(\"Enter longitude: \")\n",
    "    ele = input(\"Enter elevation: \")\n",
    "    \n",
    "else:\n",
    "    lat, lon, ele = 0.0, 0.0, 0.0\n",
    "\n",
    "outfile = f\"{serial_number}_{sta}.xml\""
   ]
  },
  {
   "cell_type": "code",
   "execution_count": 61,
   "metadata": {
    "ExecuteTime": {
     "end_time": "2023-03-30T14:52:01.442989Z",
     "start_time": "2023-03-30T14:52:01.429827Z"
    }
   },
   "outputs": [],
   "source": [
    "channel1 = Channel(code='HHZ', \n",
    "                   location_code=loc, \n",
    "                   latitude=lat, \n",
    "                   longitude=lon,\n",
    "                   elevation=ele, \n",
    "                   depth=0,\n",
    "#                    azimuth=0,\n",
    "#                    dip=-90,\n",
    "                   sample_rate=sampling_rate,\n",
    "                   response=response,\n",
    "                  )\n",
    "\n",
    "channel2 = Channel(code='HHN', \n",
    "                   location_code=loc, \n",
    "                   latitude=lat, \n",
    "                   longitude=lon,\n",
    "                   elevation=ele, \n",
    "                   depth=0,\n",
    "#                    azimuth=0,\n",
    "#                    dip=0,\n",
    "                   sample_rate=sampling_rate,\n",
    "                   response=response,\n",
    "                  )\n",
    "\n",
    "channel3 = Channel(code='HHE', \n",
    "                   location_code=loc, \n",
    "                   latitude=lat, \n",
    "                   longitude=lon,\n",
    "                   elevation=ele, \n",
    "                   depth=0,\n",
    "#                    azimuth=90,\n",
    "#                    dip=0,\n",
    "                   sample_rate=sampling_rate,\n",
    "                   response=response,\n",
    "                  )"
   ]
  },
  {
   "cell_type": "code",
   "execution_count": 62,
   "metadata": {
    "ExecuteTime": {
     "end_time": "2023-03-30T14:52:04.317676Z",
     "start_time": "2023-03-30T14:52:04.311691Z"
    }
   },
   "outputs": [],
   "source": [
    "site = Site(name=loc)\n",
    "\n",
    "\n",
    "station = Station(code=sta, \n",
    "                  latitude=lat, \n",
    "                  longitude=lon,\n",
    "                  elevation=ele,\n",
    "                  channels=[channel1,channel2,channel3],\n",
    "                  site=site,\n",
    "                 )\n",
    "\n",
    "network = Network(code=net,\n",
    "                  stations=[station],\n",
    "                 )\n",
    "\n",
    "\n",
    "inv = Inventory(networks=[network], \n",
    "                source='LMU',\n",
    "               )\n",
    "\n",
    "\n",
    "if outpath[-1] == \"/\":\n",
    "    outpath = outpath[:-1]"
   ]
  },
  {
   "cell_type": "markdown",
   "metadata": {},
   "source": [
    "### Write XML output"
   ]
  },
  {
   "cell_type": "code",
   "execution_count": 63,
   "metadata": {
    "ExecuteTime": {
     "end_time": "2023-03-30T14:52:06.305564Z",
     "start_time": "2023-03-30T14:52:06.202548Z"
    }
   },
   "outputs": [],
   "source": [
    "inv.write(f\"{outpath}/{outfile}\", format='STATIONXML')"
   ]
  },
  {
   "cell_type": "markdown",
   "metadata": {},
   "source": [
    "### Check if output is readable"
   ]
  },
  {
   "cell_type": "code",
   "execution_count": 64,
   "metadata": {
    "ExecuteTime": {
     "end_time": "2023-03-30T14:52:08.044357Z",
     "start_time": "2023-03-30T14:52:08.014434Z"
    }
   },
   "outputs": [
    {
     "data": {
      "text/plain": [
       "Inventory created at 2023-03-30T14:52:04.316327Z\n",
       "\tCreated by: ObsPy 1.2.1\n",
       "\t\t    https://www.obspy.org\n",
       "\tSending institution: LMU\n",
       "\tContains:\n",
       "\t\tNetworks (1):\n",
       "\t\t\tXX\n",
       "\t\tStations (1):\n",
       "\t\t\tXX.RY09 ()\n",
       "\t\tChannels (3):\n",
       "\t\t\tXX.RY09..HHZ, XX.RY09..HHN, XX.RY09..HHE"
      ]
     },
     "execution_count": 64,
     "metadata": {},
     "output_type": "execute_result"
    },
    {
     "name": "stdout",
     "output_type": "stream",
     "text": [
      "\n",
      " DONE\n"
     ]
    }
   ],
   "source": [
    "try:\n",
    "    read_inventory(f\"{outpath}/{outfile}\")\n",
    "    print(\"\\n DONE\")\n",
    "except:\n",
    "    print(\"\\n Something went wrong! File: {outpath}/{outfile} could not be loaded!\")"
   ]
  },
  {
   "cell_type": "code",
   "execution_count": null,
   "metadata": {},
   "outputs": [],
   "source": []
  },
  {
   "cell_type": "code",
   "execution_count": null,
   "metadata": {},
   "outputs": [],
   "source": []
  }
 ],
 "metadata": {
  "kernelspec": {
   "display_name": "Python 3",
   "language": "python",
   "name": "python3"
  },
  "language_info": {
   "codemirror_mode": {
    "name": "ipython",
    "version": 3
   },
   "file_extension": ".py",
   "mimetype": "text/x-python",
   "name": "python",
   "nbconvert_exporter": "python",
   "pygments_lexer": "ipython3",
   "version": "3.7.7"
  },
  "toc": {
   "base_numbering": 1,
   "nav_menu": {},
   "number_sections": true,
   "sideBar": true,
   "skip_h1_title": false,
   "title_cell": "Table of Contents",
   "title_sidebar": "Contents",
   "toc_cell": false,
   "toc_position": {},
   "toc_section_display": true,
   "toc_window_display": false
  }
 },
 "nbformat": 4,
 "nbformat_minor": 2
}
