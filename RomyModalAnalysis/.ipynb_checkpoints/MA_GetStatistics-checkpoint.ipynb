{
 "cells": [
  {
   "cell_type": "markdown",
   "id": "eda030d3",
   "metadata": {},
   "source": [
    "# Spectral Density"
   ]
  },
  {
   "cell_type": "markdown",
   "id": "protected-presentation",
   "metadata": {},
   "source": [
    "## Load Libraries"
   ]
  },
  {
   "cell_type": "code",
   "execution_count": 1,
   "id": "behind-arrangement",
   "metadata": {
    "ExecuteTime": {
     "end_time": "2023-08-07T14:02:02.205745Z",
     "start_time": "2023-08-07T14:01:59.488541Z"
    },
    "tags": []
   },
   "outputs": [],
   "source": [
    "import os\n",
    "import pickle\n",
    "import numpy as np\n",
    "\n",
    "from pandas import DataFrame, concat, Series, date_range, read_csv, read_pickle"
   ]
  },
  {
   "cell_type": "code",
   "execution_count": 2,
   "id": "108de4ae-3e3f-42d5-8fcd-8148e4c1f128",
   "metadata": {
    "tags": []
   },
   "outputs": [],
   "source": [
    "# from functions.get_hist_loglog import __get_hist_loglog\n",
    "from functions.replace_noise_psd_with_nan import __replace_noisy_psds_with_nan\n",
    "from functions.cut_frequencies_array import __cut_frequencies_array\n",
    "from functions.get_median_psd import __get_median_psd\n",
    "from functions.get_percentiles import __get_percentiles"
   ]
  },
  {
   "cell_type": "code",
   "execution_count": 3,
   "id": "f337911b",
   "metadata": {
    "ExecuteTime": {
     "end_time": "2023-08-07T14:02:02.308085Z",
     "start_time": "2023-08-07T14:02:02.293848Z"
    },
    "tags": []
   },
   "outputs": [],
   "source": [
    "if os.uname().nodename == 'lighthouse':\n",
    "    root_path = '/home/andbro/'\n",
    "    data_path = '/home/andbro/kilauea-data/'\n",
    "    archive_path = '/home/andbro/freenas/'\n",
    "    bay_path = '/home/andbro/bay200/'\n",
    "elif os.uname().nodename == 'kilauea':\n",
    "    root_path = '/home/brotzer/'\n",
    "    data_path = '/import/kilauea-data/'\n",
    "    archive_path = '/import/freenas-ffb-01-data/'\n",
    "    bay_path = '/bay200/'\n",
    "elif os.uname().nodename == 'lin-ffb-01':\n",
    "    root_path = '/home/brotzer/'\n",
    "    data_path = '/import/kilauea-data/'\n",
    "    archive_path = '/import/freenas-ffb-01-data/'\n",
    "    bay_path = '/bay200/'"
   ]
  },
  {
   "cell_type": "markdown",
   "id": "subject-expression",
   "metadata": {},
   "source": [
    "## Configurations"
   ]
  },
  {
   "cell_type": "code",
   "execution_count": 17,
   "id": "cea9400c-59b1-4a60-b81b-53e18fffc711",
   "metadata": {
    "tags": []
   },
   "outputs": [],
   "source": [
    "config = {}\n",
    "\n",
    "config['stations'] = ['FFB1', 'FFB2', 'FFB3']\n",
    "config['stations'] = ['RY01', 'RY02', 'RY03', 'RY04', 'RY05', 'RY06', 'RY07', 'RY08', 'RY09']\n",
    "\n",
    "config['d1'], config['d2'] = \"2023-03-10\", \"2023-03-17\"\n",
    "\n",
    "config['path_to_data'] = archive_path+f\"ModalAnalysis/data/PSDS/\"\n",
    "\n",
    "config['path_to_outdata'] = archive_path+f\"ModalAnalysis/data/PSDS_median/\"\n",
    "\n",
    "config['outpath_figures'] = data_path+f\"modal_analysis/figures/\"\n",
    "\n",
    "config['frequency_limits'] = 1e-3, 1e1\n",
    "\n",
    "config['plower'], config['pupper'] = 2.5, 97.5\n"
   ]
  },
  {
   "cell_type": "markdown",
   "id": "natural-beginning",
   "metadata": {},
   "source": [
    "## Methods"
   ]
  },
  {
   "cell_type": "code",
   "execution_count": 12,
   "id": "e8453ee6",
   "metadata": {
    "ExecuteTime": {
     "end_time": "2023-08-07T14:03:57.177938Z",
     "start_time": "2023-08-07T14:03:57.174706Z"
    },
    "code_folding": [
     0
    ],
    "tags": []
   },
   "outputs": [],
   "source": [
    "def __filter_psds(psds, thresholds):\n",
    "\n",
    "    from numpy import mean, array\n",
    "\n",
    "    psds_filtered = []\n",
    "        ## filter mean psds values\n",
    "#         m_psd = mean(psd)\n",
    "#         if m_psd > thresholds[0] and m_psd < thresholds[1]:\n",
    "#             psds_filtered.append(psd)\n",
    "\n",
    "    ## filter for periods larger than 20 seconds\n",
    "    if mean(psd[0:63]) < thresholds[0]:\n",
    "        psds_filtered.append(psd)\n",
    "\n",
    "    print(f\" -> removed {len(psds)- len(psds_filtered)} of {len(psds)} psds due to thresholds: {thresholds[0]} & {thresholds[1]}\")\n",
    "    return array(psds_filtered)"
   ]
  },
  {
   "cell_type": "code",
   "execution_count": 13,
   "id": "da5dafeb-4e6c-480e-8195-4c34315cc0e4",
   "metadata": {
    "tags": []
   },
   "outputs": [],
   "source": [
    "def __read_files2(seed, tbeg, tend):\n",
    "\n",
    "    from numpy import array\n",
    "    from pandas import read_pickle\n",
    "\n",
    "    net, sta, loc, cha = seed.split('.')\n",
    "\n",
    "    psds_medians_out, times_out = [], []\n",
    "\n",
    "    dat, dates = [], []\n",
    "    for jj, day in enumerate(date_range(tbeg, tend)):\n",
    "\n",
    "        day = str(day).split(\" \")[0].replace(\"-\", \"\")\n",
    "\n",
    "        filename = f\"{sta}/{cha}/{day[:4]}_{sta}_{cha[-1]}_3600_{day}_hourly.pkl\"\n",
    "\n",
    "        # skip if file does not exist\n",
    "        if not os.path.isfile(config['path_to_data']+filename):\n",
    "            print(f\" -> skipping {filename} ...\")\n",
    "            continue\n",
    "\n",
    "        print(filename)\n",
    "        try:\n",
    "            out = read_pickle(config['path_to_data']+filename)\n",
    "\n",
    "            ff1, dat1 = out['frequencies'], out['psd']\n",
    "\n",
    "        except Exception as e:\n",
    "            print(e)\n",
    "            print(f\" -> {day}: no data found\")\n",
    "            continue\n",
    "\n",
    "        for _k, _psd in enumerate(dat1):\n",
    "            dat.append(_psd)\n",
    "            dates.append(f\"{day}_{str(_k).rjust(2, '0')}\")\n",
    "\n",
    "    dat = array(dat)\n",
    "\n",
    "    return dat, ff1"
   ]
  },
  {
   "cell_type": "code",
   "execution_count": 14,
   "id": "49711943-45df-4b0c-9684-fca172ba0b67",
   "metadata": {},
   "outputs": [],
   "source": [
    "def __read_files(seed, tbeg, tend):\n",
    "\n",
    "    from numpy import array\n",
    "\n",
    "    net, sta, loc, cha = seed.split('.')\n",
    "\n",
    "    psds_medians_out, times_out = [], []\n",
    "\n",
    "    dat, dates = [], []\n",
    "    for jj, day in enumerate(date_range(tbeg, tend)):\n",
    "\n",
    "        day = str(day).split(\" \")[0].replace(\"-\", \"\")\n",
    "\n",
    "        filename = f\"{sta}/{cha}/{day[:4]}_{sta}_{cha}_{day}_hourly.pkl\"\n",
    "\n",
    "        # skip if file does not exist\n",
    "        if not os.path.isfile(config['path_to_data']+filename):\n",
    "            print(f\" -> skipping {filename} ...\")\n",
    "            continue\n",
    "\n",
    "        try:\n",
    "            out = read_pickle(config['path_to_data']+filename)\n",
    "\n",
    "            ff1, dat1 = out['frequencies'], out['psd']\n",
    "\n",
    "        except Exception as e:\n",
    "            print(e)\n",
    "            print(f\" -> {day}: no data found\")\n",
    "            continue\n",
    "\n",
    "        for _k, _psd in enumerate(dat1):\n",
    "            dat.append(_psd)\n",
    "            dates.append(f\"{day}_{str(_k).rjust(2, '0')}\")\n",
    "\n",
    "    dat = array(dat)\n",
    "\n",
    "    return dat, ff1"
   ]
  },
  {
   "cell_type": "markdown",
   "id": "3cff2634",
   "metadata": {},
   "source": [
    "## RUN for all files "
   ]
  },
  {
   "cell_type": "code",
   "execution_count": 15,
   "id": "0a0b0f40-834a-4771-b37f-4892f7f56b9e",
   "metadata": {},
   "outputs": [],
   "source": [
    "tmp_ff = read_pickle(\"./ff_template.pkl\")"
   ]
  },
  {
   "cell_type": "code",
   "execution_count": 18,
   "id": "370297c5-f36e-48c0-91ef-5e756667e8a4",
   "metadata": {},
   "outputs": [
    {
     "name": "stdout",
     "output_type": "stream",
     "text": [
      "-> RY01 ... \n",
      " -> Z ...\n",
      "720002 (192, 720002)\n",
      " -> N ...\n",
      "720002 (192, 720002)\n",
      " -> E ...\n",
      "720002 (192, 720002)\n",
      " -> stored: RY01_psd_stats.pkl\n"
     ]
    }
   ],
   "source": [
    "plower, pupper = config['plower'], config['pupper']\n",
    "\n",
    "for sta in config['stations']:\n",
    "\n",
    "    print(f\"-> {sta} ... \")\n",
    "\n",
    "    out_df = DataFrame()\n",
    "\n",
    "    for c in [\"Z\", \"N\", \"E\"]:\n",
    "        print(f\" -> {c} ...\")\n",
    "\n",
    "        try:\n",
    "            psds, ff = __read_files(f\"XX.{sta}..HH{c}\", config['d1'], config['d2'])\n",
    "        except:\n",
    "            print(f\" -> failed to load {c} data!\")\n",
    "\n",
    "        print(len(ff), np.shape(psds))\n",
    "        if len(ff) != np.shape(psds)[1]:\n",
    "            print(len(ff), \"!=\", np.shape(psds)[1])\n",
    "            ff = tmp_ff\n",
    "\n",
    "        try:\n",
    "            out_df['frequencies'] = ff\n",
    "\n",
    "            out_df[f'psds_median_{c}'] = __get_median_psd(psds)\n",
    "            out_df[f'perc_low_{c}'], out_df[f'perc_high_{c}'] = __get_percentiles(psds, p_low=plower, p_high=pupper)\n",
    "        except:\n",
    "            print(f\" -> processing failed!\")\n",
    "            pass\n",
    "\n",
    "    out_df.to_pickle(config['path_to_outdata']+f\"{sta}_psd_stats.pkl\")\n",
    "    print(f\" -> stored: {sta}_psd_stats.pkl\")\n"
   ]
  },
  {
   "cell_type": "code",
   "execution_count": 10,
   "id": "75ebb776-d551-4cb3-9507-bcdbda4ac34b",
   "metadata": {},
   "outputs": [],
   "source": [
    "# df = DataFrame()\n",
    "# df['ff'] = ff\n",
    "# df.to_pickle(\"./ff_template.pkl\")"
   ]
  },
  {
   "cell_type": "code",
   "execution_count": null,
   "id": "507801bd-f6df-44d4-937c-3359958e028b",
   "metadata": {},
   "outputs": [],
   "source": []
  }
 ],
 "metadata": {
  "kernelspec": {
   "display_name": "Python 3",
   "language": "python",
   "name": "python3"
  },
  "language_info": {
   "codemirror_mode": {
    "name": "ipython",
    "version": 3
   },
   "file_extension": ".py",
   "mimetype": "text/x-python",
   "name": "python",
   "nbconvert_exporter": "python",
   "pygments_lexer": "ipython3",
   "version": "3.7.7"
  },
  "latex_envs": {
   "LaTeX_envs_menu_present": true,
   "autoclose": false,
   "autocomplete": true,
   "bibliofile": "biblio.bib",
   "cite_by": "apalike",
   "current_citInitial": 1,
   "eqLabelWithNumbers": true,
   "eqNumInitial": 1,
   "hotkeys": {
    "equation": "Ctrl-E",
    "itemize": "Ctrl-I"
   },
   "labels_anchors": false,
   "latex_user_defs": false,
   "report_style_numbering": false,
   "user_envs_cfg": false
  },
  "toc": {
   "base_numbering": 1,
   "nav_menu": {},
   "number_sections": true,
   "sideBar": true,
   "skip_h1_title": false,
   "title_cell": "Table of Contents",
   "title_sidebar": "Contents",
   "toc_cell": false,
   "toc_position": {},
   "toc_section_display": true,
   "toc_window_display": false
  },
  "varInspector": {
   "cols": {
    "lenName": 16,
    "lenType": 16,
    "lenVar": 40
   },
   "kernels_config": {
    "python": {
     "delete_cmd_postfix": "",
     "delete_cmd_prefix": "del ",
     "library": "var_list.py",
     "varRefreshCmd": "print(var_dic_list())"
    },
    "r": {
     "delete_cmd_postfix": ") ",
     "delete_cmd_prefix": "rm(",
     "library": "var_list.r",
     "varRefreshCmd": "cat(var_dic_list()) "
    }
   },
   "types_to_exclude": [
    "module",
    "function",
    "builtin_function_or_method",
    "instance",
    "_Feature"
   ],
   "window_display": false
  }
 },
 "nbformat": 4,
 "nbformat_minor": 5
}
