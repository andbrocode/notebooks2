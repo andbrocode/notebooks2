{
 "cells": [
  {
   "cell_type": "markdown",
   "metadata": {},
   "source": [
    "## ROMY Array"
   ]
  },
  {
   "cell_type": "markdown",
   "metadata": {},
   "source": [
    "### Importing"
   ]
  },
  {
   "cell_type": "code",
   "execution_count": 1,
   "metadata": {
    "ExecuteTime": {
     "end_time": "2023-05-12T10:06:53.364605Z",
     "start_time": "2023-05-12T10:06:53.357330Z"
    }
   },
   "outputs": [],
   "source": [
    "import os, subprocess\n",
    "import numpy as np\n",
    "import matplotlib.pyplot as plt\n",
    "import obspy\n",
    "import pandas as pd\n",
    "\n",
    "from obspy.clients.fdsn import Client, RoutingClient\n",
    "from obspy.signal.array_analysis import array_transff_wavenumber\n",
    "from obspy.imaging.cm import obspy_sequential\n",
    "from obspy.geodetics import locations2degrees\n",
    "from andbro__querrySeismoData import __querrySeismoData\n",
    "from tqdm import tqdm\n",
    "from obspy.core.util import AttribDict\n",
    "\n",
    "# frompydsm.relab import shiftdim\n",
    "\n",
    "#from andbro__save_to import __save_to\n",
    "#from andbro__get_data import __get_data\n"
   ]
  },
  {
   "cell_type": "markdown",
   "metadata": {},
   "source": [
    "### Setting Variables"
   ]
  },
  {
   "cell_type": "code",
   "execution_count": 3,
   "metadata": {
    "ExecuteTime": {
     "end_time": "2023-05-11T17:08:36.465601Z",
     "start_time": "2023-05-11T17:08:36.459847Z"
    },
    "code_folding": []
   },
   "outputs": [],
   "source": [
    "config = {}\n",
    "\n",
    "config['klim'] = 50.\n",
    "config['kstep'] = config['klim'] / 100.\n",
    "\n",
    "config['tbeg'] = obspy.UTCDateTime(\"2019-05-14T12:17:00.000\")\n",
    "config['tend'] = obspy.UTCDateTime(\"2019-05-14T14:00:10.000\")\n",
    "\n",
    "\n",
    "config['client'] = RoutingClient(\"eida-routing\")"
   ]
  },
  {
   "cell_type": "markdown",
   "metadata": {},
   "source": [
    "### Defining Methods"
   ]
  },
  {
   "cell_type": "code",
   "execution_count": 4,
   "metadata": {
    "tags": []
   },
   "outputs": [],
   "source": [
    "def __getArrayStations(seed_id, tbeg, tend, fur_coords):\n",
    "\n",
    "    net, sta, loc, cha  = seed_id.split(\".\")\n",
    "\n",
    "    route =  RoutingClient(\"eida-routing\")\n",
    "\n",
    "    inv_check =route.get_stations(\n",
    "                            network=net,\n",
    "                            station=sta,\n",
    "                            channel=cha,\n",
    "                            starttime=tbeg,\n",
    "                            endtime=tend,\n",
    "                            latitude=fur_coords[0],\n",
    "                            longitude=fur_coords[1],\n",
    "                            minradius=0,\n",
    "                            maxradius=0.1,\n",
    "                            )\n",
    "\n",
    "    inv_check.plot(projection=\"local\");\n",
    "\n",
    "    codes, lon, lat, elev = [], [], [], []\n",
    "    for h, network in enumerate(inv_check):\n",
    "        for i, station in enumerate(network):\n",
    "\n",
    "            codes.append(f'{inv_check[h].code}.{station.code}')\n",
    "            lon.append(station.longitude)\n",
    "            lat.append(station.latitude)\n",
    "            elev.append(station.elevation/1000.)\n",
    "\n",
    "    frame = pd.DataFrame({'codes': codes, 'lon': lon, 'lat': lat, 'elev': elev})\n",
    "\n",
    "    return frame"
   ]
  },
  {
   "cell_type": "code",
   "execution_count": 5,
   "metadata": {},
   "outputs": [],
   "source": [
    "def __calculateDistanceOfStations(array_stations, output=\"km\", ref_station=None):\n",
    "    '''\n",
    "    from obspy.geodetics import locations2degrees\n",
    "\n",
    "    '''\n",
    "\n",
    "    N = len(array_stations)\n",
    "\n",
    "\n",
    "    if ref_station is not None:\n",
    "        dist_in_deg = {}\n",
    "        station1 = array_stations[array_stations.codes == ref_station]\n",
    "        lat1, lon1 = station1.lat, station1.lon\n",
    "        for j, station2 in array_stations.iterrows():\n",
    "            name = str(station2.codes)\n",
    "            _dist= locations2degrees(lat1  = lat1,\n",
    "                                      long1 = lon1,\n",
    "                                      lat2  = station2[2],\n",
    "                                      long2 = station2[1],\n",
    "                                      )\n",
    "            if output == \"km\":\n",
    "                dist_in_deg[name] = _dist[0]*111\n",
    "            elif output == \"deg\":\n",
    "                dist_in_deg[name] = _dist[0]\n",
    "\n",
    "    else:\n",
    "        dist_in_deg = np.zeros((N, N))\n",
    "        for i, station1 in array_stations.iterrows():\n",
    "            for j, station2 in array_stations.iterrows():\n",
    "                 _dist = locations2degrees(lat1  = station1[2],\n",
    "                                          long1 = station1[1],\n",
    "                                          lat2  = station2[2],\n",
    "                                          long2 = station2[1],\n",
    "                                          )\n",
    "            if output == \"km\":\n",
    "                dist_in_deg[i][j] = _dist*111\n",
    "            elif output == \"deg\":\n",
    "                dist_in_deg[i][j] = _dist\n",
    "\n",
    "    return dist_in_deg"
   ]
  },
  {
   "cell_type": "code",
   "execution_count": 6,
   "metadata": {
    "ExecuteTime": {
     "end_time": "2023-05-11T17:08:36.478850Z",
     "start_time": "2023-05-11T17:08:36.467049Z"
    },
    "code_folding": []
   },
   "outputs": [],
   "source": [
    "def __plotArrayGeometryAndResponse(array, transff, klim, kstep, names=None, unit=None):\n",
    "    \n",
    "    ## calulcate geometrical center of array\n",
    "    array_center = [np.median(array[:,0]), np.median(array[:,1])]\n",
    "    \n",
    "    ## find geometrical limits of array\n",
    "    lon_min, lon_max = np.min(array[:,0]), np.max(array[:,0])\n",
    "    lat_min, lat_max = np.min(array[:,1]), np.max(array[:,1])\n",
    "    \n",
    "    ## define bounds\n",
    "    kxmin, kxmax, kymin, kymax = -klim, klim, -klim, klim\n",
    "    \n",
    "    \n",
    "    ## _________________________________________________________\n",
    "    ##\n",
    "    fig, axes = plt.subplots(1,2, figsize=(16,6))\n",
    "\n",
    "    fs=12\n",
    "    \n",
    "    if unit == \"km\":\n",
    "        xdata = (array[:,0]-array_center[0])*111.\n",
    "        ydata = (array[:,1]-array_center[1])*111. * np.cos(array[:,1]/180.*np.pi)\n",
    "        x0, y0 = array_center[0]*111., array_center[1]*111. * np.cos(array[1]/180.*np.pi)\n",
    "    elif unit == \"deg\":\n",
    "        xdata = array[:,0]\n",
    "        ydata = array[:,1]\n",
    "        x0, y0 = array_center[0], array_center[1]\n",
    "        \n",
    "    ## ________________________________________________\n",
    "#     axes[0].plot(xdata, ydata,'kv')\n",
    "    axes[0].scatter(xdata, ydata, s=35, color='black', marker='v', zorder=3)\n",
    "    axes[0].scatter(x0, y0, color='red', marker='o', s=25, zorder=2)\n",
    "    \n",
    "    if unit == \"km\" or unit is None:\n",
    "        axes[0].set_xlabel('X (km)', fontsize=fs)\n",
    "        axes[0].set_ylabel('Y (km)', fontsize=fs)\n",
    "\n",
    "        axes[0].set_ylim([-max(abs(ydata)), max(abs(ydata))])\n",
    "        axes[0].set_ylim([-max(abs(ydata)), max(abs(ydata))])\n",
    "                 \n",
    "    elif unit == \"deg\":\n",
    "        axes[0].set_xlabel('Longitude (°)', fontsize=fs)\n",
    "        axes[0].set_ylabel('Latitude (°)', fontsize=fs)\n",
    "                 \n",
    "    axes[0].set_title('Square Array configuration', fontsize=fs+2)\n",
    "    \n",
    "    for x, y, s in zip(xdata, ydata, list(names)):\n",
    "        axes[0].text(x, y, s, ha=\"right\", va=\"top\")\n",
    "    \n",
    "    ## ________________________________________________\n",
    "    ax2 = axes[1].pcolor(np.arange(kxmin, kxmax + kstep * 1.1, kstep) - kstep / 2.,\n",
    "               np.arange(kymin, kymax + kstep * 1.1, kstep) - kstep / 2.,\n",
    "               transff.T, cmap=obspy_sequential)\n",
    "    \n",
    "    plt.colorbar(ax2, ax=axes[:])\n",
    "    ax2.set_clim(0., 1.)\n",
    "    \n",
    "    axes[1].set_xlim(kxmin, kxmax)\n",
    "    axes[1].set_ylim(kymin, kymax)\n",
    "    axes[1].set_xlabel('wave number (m$^{-1}$)', fontsize=fs)\n",
    "    axes[1].set_ylabel('wave number (m$^{-1}$)', fontsize=fs)\n",
    "    axes[1].set_title('ARF Square Array', fontsize=fs+2)\n",
    "    \n",
    "    plt.show()"
   ]
  },
  {
   "cell_type": "code",
   "execution_count": 7,
   "metadata": {
    "tags": []
   },
   "outputs": [
    {
     "data": {
      "text/plain": [
       "[48.1639, 11.2768, 565.0]"
      ]
     },
     "execution_count": 7,
     "metadata": {},
     "output_type": "execute_result"
    }
   ],
   "source": [
    "## get station info of FUR\n",
    "\n",
    "net, sta, loc, cha  = \"GR.FUR..BHZ\".split(\".\")\n",
    "\n",
    "inv_fur = config['client'].get_stations(\n",
    "                                        network = net,\n",
    "                                        station = sta,\n",
    "                                        channel = cha,\n",
    "                                        starttime = config['tbeg'],\n",
    "                                        endtime = config['tend']\n",
    "                                        ) \n",
    "\n",
    "fur_coords = [inv_fur[0][0].latitude, inv_fur[0][0].longitude, inv_fur[0][0].elevation]\n",
    "fur_coords"
   ]
  },
  {
   "cell_type": "code",
   "execution_count": null,
   "metadata": {
    "tags": []
   },
   "outputs": [],
   "source": [
    "## get all stations around ROMY\n",
    "\n",
    "array_stations = __getArrayStations(\"*.*..B*Z\", config['tbeg'], config['tend'], fur_coords)\n",
    "\n",
    "array_stations"
   ]
  },
  {
   "cell_type": "code",
   "execution_count": 13,
   "metadata": {
    "ExecuteTime": {
     "end_time": "2023-05-11T17:08:36.491317Z",
     "start_time": "2023-05-11T17:08:36.481949Z"
    },
    "code_folding": [
     1
    ]
   },
   "outputs": [],
   "source": [
    "def __array_latlon_to_xyz(array_stations, ref_station=\"GR.FUR\"):\n",
    "    \"\"\"Convert angluar to cartesian coordiantes\n",
    "\n",
    "    latitude is the 90deg - zenith angle in range [-90;90]\n",
    "    lonitude is the azimuthal angle in range [-180;180] \n",
    "    \"\"\"\n",
    "    import math\n",
    "    from numpy import zeros\n",
    "    import utm\n",
    "\n",
    "    def __latlon_to_xyz(lat, lon):\n",
    "        r = 6371 # earth radius\n",
    "        theta = math.pi/2 - math.radians(lat)\n",
    "        phi = math.radians(lon)\n",
    "        x = r * math.sin(theta) * math.cos(phi) # bronstein (3.381a)\n",
    "        y = r * math.sin(theta) * math.sin(phi)\n",
    "        z = r * math.cos(theta)\n",
    "        return x, y, z\n",
    "\n",
    "    if ref_station not in list(array_stations.codes):\n",
    "        print(f\"-> {ref_station} not vaild\")\n",
    "        return\n",
    "\n",
    "\n",
    "    for _i in [\"x\", \"y\", \"z\", \"utm_zone\", \"utm_letter\"]:\n",
    "        array_stations[_i] = zeros(array_stations.shape[0])\n",
    "\n",
    "    sta_ref = array_stations[array_stations.codes == ref_station]\n",
    "    utm_ref_e, utm_ref_n, utm_zone, utm_letter = utm.from_latlon(float(sta_ref.lat), float(sta_ref.lon))\n",
    "    z_ref = sta_ref.elev[0]\n",
    "\n",
    "    for i, sta in array_stations.iterrows():\n",
    "\n",
    "        utm_e, utm_n, utm_zone, utm_letter = utm.from_latlon(sta.lat, sta.lon)\n",
    "\n",
    "        array_stations.loc[i, \"x\"] = round(( utm_e - utm_ref_e ), 2)\n",
    "        array_stations.loc[i, \"y\"] = round(( utm_n - utm_ref_n ), 2)\n",
    "        array_stations.loc[i, \"z\"] = ( array_stations.loc[i, \"elev\"] - z_ref ) * 1e3\n",
    "        array_stations.loc[i, \"utm_zone\"] = utm_zone\n",
    "        array_stations.loc[i, \"utm_letter\"] = str(utm_letter)\n",
    "\n",
    "    return array_stations"
   ]
  },
  {
   "cell_type": "code",
   "execution_count": 37,
   "metadata": {
    "ExecuteTime": {
     "end_time": "2023-05-11T17:08:36.491317Z",
     "start_time": "2023-05-11T17:08:36.481949Z"
    },
    "code_folding": [
     1
    ]
   },
   "outputs": [
    {
     "name": "stderr",
     "output_type": "stream",
     "text": [
      "/tmp/ipykernel_22095/2662826430.py:29: FutureWarning: Calling float on a single element Series is deprecated and will raise a TypeError in the future. Use float(ser.iloc[0]) instead\n",
      "  utm_ref_e, utm_ref_n, utm_zone, utm_letter = utm.from_latlon(float(sta_ref.lat), float(sta_ref.lon))\n"
     ]
    }
   ],
   "source": [
    "array_stations2 = __array_latlon_to_xyz(array_stations, ref_station=\"GR.FUR\")"
   ]
  },
  {
   "cell_type": "code",
   "execution_count": 38,
   "metadata": {
    "tags": []
   },
   "outputs": [],
   "source": [
    "array_stations2 = array_stations2.drop(columns=[\"lat\", \"lon\", \"elev\", \"utm_zone\", \"utm_letter\"])\n",
    "\n",
    "new_codes = []\n",
    "for code in array_stations2.codes:\n",
    "    new_codes.append(code.replace(\".\", \"_\"))\n",
    "\n",
    "array_stations2.codes = new_codes\n",
    "\n",
    "array_stations2.to_csv(\"/home/andbro/Downloads/mseed/array/\"+\"setup_romy_array_all\", sep=\" \", index=False, header=False)"
   ]
  },
  {
   "cell_type": "markdown",
   "metadata": {},
   "source": [
    "## Compute station distance"
   ]
  },
  {
   "cell_type": "code",
   "execution_count": null,
   "metadata": {
    "ExecuteTime": {
     "end_time": "2023-05-11T17:08:36.500170Z",
     "start_time": "2023-05-11T17:08:36.493306Z"
    },
    "code_folding": [
     1
    ]
   },
   "outputs": [],
   "source": [
    "__calculateDistanceOfStations(array_stations, output=\"km\", ref_station=\"GR.FUR\")"
   ]
  },
  {
   "cell_type": "code",
   "execution_count": null,
   "metadata": {
    "tags": []
   },
   "outputs": [],
   "source": []
  },
  {
   "cell_type": "markdown",
   "metadata": {},
   "source": [
    "### Calulcate Distances, Plot Array Geometry and Response"
   ]
  },
  {
   "cell_type": "code",
   "execution_count": 34,
   "metadata": {
    "ExecuteTime": {
     "end_time": "2023-05-11T17:10:00.656542Z",
     "start_time": "2023-05-11T17:09:59.984535Z"
    },
    "code_folding": []
   },
   "outputs": [
    {
     "ename": "ValueError",
     "evalue": "too many values to unpack (expected 2)",
     "output_type": "error",
     "traceback": [
      "\u001b[0;31m---------------------------------------------------------------------------\u001b[0m",
      "\u001b[0;31mValueError\u001b[0m                                Traceback (most recent call last)",
      "Cell \u001b[0;32mIn[34], line 1\u001b[0m\n\u001b[0;32m----> 1\u001b[0m dist, dist_max \u001b[38;5;241m=\u001b[39m __calculateDistanceOfStations(array_stations)\n\u001b[1;32m      4\u001b[0m lambda_min \u001b[38;5;241m=\u001b[39m \u001b[38;5;241m.4\u001b[39m\u001b[38;5;241m*\u001b[39mdist_max \u001b[38;5;66;03m# in km\u001b[39;00m\n\u001b[1;32m      6\u001b[0m config[\u001b[38;5;124m'\u001b[39m\u001b[38;5;124mk_max\u001b[39m\u001b[38;5;124m'\u001b[39m] \u001b[38;5;241m=\u001b[39m \u001b[38;5;241m2\u001b[39m\u001b[38;5;241m*\u001b[39mnp\u001b[38;5;241m.\u001b[39mpi\u001b[38;5;241m/\u001b[39mlambda_min\n",
      "\u001b[0;31mValueError\u001b[0m: too many values to unpack (expected 2)"
     ]
    }
   ],
   "source": [
    "dist, dist_max = __calculateDistanceOfStations(array_stations)\n",
    "\n",
    "\n",
    "lambda_min = .4*dist_max # in km\n",
    "\n",
    "config['k_max'] = 2*np.pi/lambda_min\n",
    "config['k_step'] = config['k_max'] / 100.\n",
    "\n",
    "coordinates = np.column_stack([array_stations.lon, array_stations.lat, array_stations.elev])\n",
    "\n",
    "## compute transfer function as a function of wavenumber difference\n",
    "transff = array_transff_wavenumber(coordinates,\n",
    "                                   config['k_max'],\n",
    "                                   config['k_step'],\n",
    "                                   coordsys='lonlat'\n",
    "                                   )\n",
    "\n",
    "\n",
    "__plotArrayGeometryAndResponse(coordinates,\n",
    "                               transff,\n",
    "                               config['k_max'],\n",
    "                               config['k_step'],\n",
    "                               array_stations.codes,\n",
    "                               unit=\"deg\",\n",
    "                              )"
   ]
  },
  {
   "cell_type": "code",
   "execution_count": 35,
   "metadata": {
    "ExecuteTime": {
     "end_time": "2023-05-11T17:10:00.688221Z",
     "start_time": "2023-05-11T17:10:00.688212Z"
    },
    "code_folding": [
     2
    ]
   },
   "outputs": [
    {
     "name": "stderr",
     "output_type": "stream",
     "text": [
      "/tmp/ipykernel_22095/3160105971.py:46: FutureWarning: The 'color' parameter has been deprecated since v0.8.0 and will be removed in v0.12.0. Please use 'fill' instead.\n",
      "  fig.plot(array_stations.lon, array_stations.lat, style='i0.2i', color='white', pen=True)\n"
     ]
    },
    {
     "ename": "GMTInvalidInput",
     "evalue": "Too much data. Use either data or x and y.",
     "output_type": "error",
     "traceback": [
      "\u001b[0;31m---------------------------------------------------------------------------\u001b[0m",
      "\u001b[0;31mGMTInvalidInput\u001b[0m                           Traceback (most recent call last)",
      "Cell \u001b[0;32mIn[35], line 46\u001b[0m\n\u001b[1;32m     35\u001b[0m KWARGS \u001b[38;5;241m=\u001b[39m \u001b[38;5;28mdict\u001b[39m(\n\u001b[1;32m     36\u001b[0m               grid\u001b[38;5;241m=\u001b[39m\u001b[38;5;124m'\u001b[39m\u001b[38;5;124m@srtm_relief_01s\u001b[39m\u001b[38;5;124m'\u001b[39m,\n\u001b[1;32m     37\u001b[0m               region\u001b[38;5;241m=\u001b[39mregion,\n\u001b[0;32m   (...)\u001b[0m\n\u001b[1;32m     41\u001b[0m               cmap\u001b[38;5;241m=\u001b[39m\u001b[38;5;124m'\u001b[39m\u001b[38;5;124mearth\u001b[39m\u001b[38;5;124m'\u001b[39m,\n\u001b[1;32m     42\u001b[0m              )\n\u001b[1;32m     43\u001b[0m fig\u001b[38;5;241m.\u001b[39mgrdimage(\u001b[38;5;241m*\u001b[39m\u001b[38;5;241m*\u001b[39mKWARGS)\n\u001b[0;32m---> 46\u001b[0m \u001b[43mfig\u001b[49m\u001b[38;5;241;43m.\u001b[39;49m\u001b[43mplot\u001b[49m\u001b[43m(\u001b[49m\u001b[43marray_stations\u001b[49m\u001b[38;5;241;43m.\u001b[39;49m\u001b[43mlon\u001b[49m\u001b[43m,\u001b[49m\u001b[43m \u001b[49m\u001b[43marray_stations\u001b[49m\u001b[38;5;241;43m.\u001b[39;49m\u001b[43mlat\u001b[49m\u001b[43m,\u001b[49m\u001b[43m \u001b[49m\u001b[43mstyle\u001b[49m\u001b[38;5;241;43m=\u001b[39;49m\u001b[38;5;124;43m'\u001b[39;49m\u001b[38;5;124;43mi0.2i\u001b[39;49m\u001b[38;5;124;43m'\u001b[39;49m\u001b[43m,\u001b[49m\u001b[43m \u001b[49m\u001b[43mcolor\u001b[49m\u001b[38;5;241;43m=\u001b[39;49m\u001b[38;5;124;43m'\u001b[39;49m\u001b[38;5;124;43mwhite\u001b[39;49m\u001b[38;5;124;43m'\u001b[39;49m\u001b[43m,\u001b[49m\u001b[43m \u001b[49m\u001b[43mpen\u001b[49m\u001b[38;5;241;43m=\u001b[39;49m\u001b[38;5;28;43;01mTrue\u001b[39;49;00m\u001b[43m)\u001b[49m\n\u001b[1;32m     48\u001b[0m fig\u001b[38;5;241m.\u001b[39mtext(x\u001b[38;5;241m=\u001b[39marray_stations\u001b[38;5;241m.\u001b[39mlon, \n\u001b[1;32m     49\u001b[0m          y\u001b[38;5;241m=\u001b[39marray_stations\u001b[38;5;241m.\u001b[39mlat, \n\u001b[1;32m     50\u001b[0m          text\u001b[38;5;241m=\u001b[39m[code\u001b[38;5;241m.\u001b[39msplit(\u001b[38;5;124m\"\u001b[39m\u001b[38;5;124m.\u001b[39m\u001b[38;5;124m\"\u001b[39m)[\u001b[38;5;241m1\u001b[39m] \u001b[38;5;28;01mfor\u001b[39;00m code \u001b[38;5;129;01min\u001b[39;00m array_stations\u001b[38;5;241m.\u001b[39mcodes],\n\u001b[1;32m     51\u001b[0m          offset\u001b[38;5;241m=\u001b[39m[\u001b[38;5;241m0.2\u001b[39m, \u001b[38;5;241m0.5\u001b[39m],\n\u001b[1;32m     52\u001b[0m          font\u001b[38;5;241m=\u001b[39m\u001b[38;5;124m\"\u001b[39m\u001b[38;5;124m12p,Helvetica-Bold,white\u001b[39m\u001b[38;5;124m\"\u001b[39m\n\u001b[1;32m     53\u001b[0m         )\n\u001b[1;32m     55\u001b[0m fig\u001b[38;5;241m.\u001b[39mcolorbar()\n",
      "File \u001b[0;32m~/anaconda3/envs/obs2/lib/python3.10/site-packages/pygmt/helpers/decorators.py:818\u001b[0m, in \u001b[0;36mdeprecate_parameter.<locals>.deprecator.<locals>.new_module\u001b[0;34m(*args, **kwargs)\u001b[0m\n\u001b[1;32m    816\u001b[0m     warnings\u001b[38;5;241m.\u001b[39mwarn(msg, category\u001b[38;5;241m=\u001b[39m\u001b[38;5;167;01mFutureWarning\u001b[39;00m, stacklevel\u001b[38;5;241m=\u001b[39m\u001b[38;5;241m2\u001b[39m)\n\u001b[1;32m    817\u001b[0m     kwargs[newname] \u001b[38;5;241m=\u001b[39m kwargs\u001b[38;5;241m.\u001b[39mpop(oldname)\n\u001b[0;32m--> 818\u001b[0m \u001b[38;5;28;01mreturn\u001b[39;00m \u001b[43mmodule_func\u001b[49m\u001b[43m(\u001b[49m\u001b[38;5;241;43m*\u001b[39;49m\u001b[43margs\u001b[49m\u001b[43m,\u001b[49m\u001b[43m \u001b[49m\u001b[38;5;241;43m*\u001b[39;49m\u001b[38;5;241;43m*\u001b[39;49m\u001b[43mkwargs\u001b[49m\u001b[43m)\u001b[49m\n",
      "File \u001b[0;32m~/anaconda3/envs/obs2/lib/python3.10/site-packages/pygmt/helpers/decorators.py:598\u001b[0m, in \u001b[0;36muse_alias.<locals>.alias_decorator.<locals>.new_module\u001b[0;34m(*args, **kwargs)\u001b[0m\n\u001b[1;32m    591\u001b[0m     msg \u001b[38;5;241m=\u001b[39m (\n\u001b[1;32m    592\u001b[0m         \u001b[38;5;124m\"\u001b[39m\u001b[38;5;124mParameters \u001b[39m\u001b[38;5;124m'\u001b[39m\u001b[38;5;124mY\u001b[39m\u001b[38;5;124m'\u001b[39m\u001b[38;5;124m and \u001b[39m\u001b[38;5;124m'\u001b[39m\u001b[38;5;124myshift\u001b[39m\u001b[38;5;124m'\u001b[39m\u001b[38;5;124m are deprecated since v0.8.0. \u001b[39m\u001b[38;5;124m\"\u001b[39m\n\u001b[1;32m    593\u001b[0m         \u001b[38;5;124m\"\u001b[39m\u001b[38;5;124mand will be removed in v0.12.0. \u001b[39m\u001b[38;5;124m\"\u001b[39m\n\u001b[1;32m    594\u001b[0m         \u001b[38;5;124m\"\u001b[39m\u001b[38;5;124mUse Figure.shift_origin(yshift=...) instead.\u001b[39m\u001b[38;5;124m\"\u001b[39m\n\u001b[1;32m    595\u001b[0m     )\n\u001b[1;32m    596\u001b[0m     warnings\u001b[38;5;241m.\u001b[39mwarn(msg, category\u001b[38;5;241m=\u001b[39m\u001b[38;5;167;01mSyntaxWarning\u001b[39;00m, stacklevel\u001b[38;5;241m=\u001b[39m\u001b[38;5;241m2\u001b[39m)\n\u001b[0;32m--> 598\u001b[0m \u001b[38;5;28;01mreturn\u001b[39;00m \u001b[43mmodule_func\u001b[49m\u001b[43m(\u001b[49m\u001b[38;5;241;43m*\u001b[39;49m\u001b[43margs\u001b[49m\u001b[43m,\u001b[49m\u001b[43m \u001b[49m\u001b[38;5;241;43m*\u001b[39;49m\u001b[38;5;241;43m*\u001b[39;49m\u001b[43mkwargs\u001b[49m\u001b[43m)\u001b[49m\n",
      "File \u001b[0;32m~/anaconda3/envs/obs2/lib/python3.10/site-packages/pygmt/helpers/decorators.py:738\u001b[0m, in \u001b[0;36mkwargs_to_strings.<locals>.converter.<locals>.new_module\u001b[0;34m(*args, **kwargs)\u001b[0m\n\u001b[1;32m    736\u001b[0m             kwargs[arg] \u001b[38;5;241m=\u001b[39m separators[fmt]\u001b[38;5;241m.\u001b[39mjoin(\u001b[38;5;124mf\u001b[39m\u001b[38;5;124m\"\u001b[39m\u001b[38;5;132;01m{\u001b[39;00mitem\u001b[38;5;132;01m}\u001b[39;00m\u001b[38;5;124m\"\u001b[39m \u001b[38;5;28;01mfor\u001b[39;00m item \u001b[38;5;129;01min\u001b[39;00m value)\n\u001b[1;32m    737\u001b[0m \u001b[38;5;66;03m# Execute the original function and return its output\u001b[39;00m\n\u001b[0;32m--> 738\u001b[0m \u001b[38;5;28;01mreturn\u001b[39;00m \u001b[43mmodule_func\u001b[49m\u001b[43m(\u001b[49m\u001b[38;5;241;43m*\u001b[39;49m\u001b[43margs\u001b[49m\u001b[43m,\u001b[49m\u001b[43m \u001b[49m\u001b[38;5;241;43m*\u001b[39;49m\u001b[38;5;241;43m*\u001b[39;49m\u001b[43mkwargs\u001b[49m\u001b[43m)\u001b[49m\n",
      "File \u001b[0;32m~/anaconda3/envs/obs2/lib/python3.10/site-packages/pygmt/src/plot.py:216\u001b[0m, in \u001b[0;36mplot\u001b[0;34m(self, data, x, y, size, direction, **kwargs)\u001b[0m\n\u001b[1;32m    213\u001b[0m \u001b[38;5;66;03m# pylint: disable=too-many-locals\u001b[39;00m\n\u001b[1;32m    214\u001b[0m kwargs \u001b[38;5;241m=\u001b[39m \u001b[38;5;28mself\u001b[39m\u001b[38;5;241m.\u001b[39m_preprocess(\u001b[38;5;241m*\u001b[39m\u001b[38;5;241m*\u001b[39mkwargs)  \u001b[38;5;66;03m# pylint: disable=protected-access\u001b[39;00m\n\u001b[0;32m--> 216\u001b[0m kind \u001b[38;5;241m=\u001b[39m \u001b[43mdata_kind\u001b[49m\u001b[43m(\u001b[49m\u001b[43mdata\u001b[49m\u001b[43m,\u001b[49m\u001b[43m \u001b[49m\u001b[43mx\u001b[49m\u001b[43m,\u001b[49m\u001b[43m \u001b[49m\u001b[43my\u001b[49m\u001b[43m)\u001b[49m\n\u001b[1;32m    218\u001b[0m extra_arrays \u001b[38;5;241m=\u001b[39m []\n\u001b[1;32m    219\u001b[0m \u001b[38;5;28;01mif\u001b[39;00m kwargs\u001b[38;5;241m.\u001b[39mget(\u001b[38;5;124m\"\u001b[39m\u001b[38;5;124mS\u001b[39m\u001b[38;5;124m\"\u001b[39m) \u001b[38;5;129;01mis\u001b[39;00m \u001b[38;5;129;01mnot\u001b[39;00m \u001b[38;5;28;01mNone\u001b[39;00m \u001b[38;5;129;01mand\u001b[39;00m kwargs[\u001b[38;5;124m\"\u001b[39m\u001b[38;5;124mS\u001b[39m\u001b[38;5;124m\"\u001b[39m][\u001b[38;5;241m0\u001b[39m] \u001b[38;5;129;01min\u001b[39;00m \u001b[38;5;124m\"\u001b[39m\u001b[38;5;124mvV\u001b[39m\u001b[38;5;124m\"\u001b[39m \u001b[38;5;129;01mand\u001b[39;00m direction \u001b[38;5;129;01mis\u001b[39;00m \u001b[38;5;129;01mnot\u001b[39;00m \u001b[38;5;28;01mNone\u001b[39;00m:\n",
      "File \u001b[0;32m~/anaconda3/envs/obs2/lib/python3.10/site-packages/pygmt/helpers/utils.py:71\u001b[0m, in \u001b[0;36mdata_kind\u001b[0;34m(data, x, y, z, required_z)\u001b[0m\n\u001b[1;32m     69\u001b[0m     \u001b[38;5;28;01mraise\u001b[39;00m GMTInvalidInput(\u001b[38;5;124m\"\u001b[39m\u001b[38;5;124mNo input data provided.\u001b[39m\u001b[38;5;124m\"\u001b[39m)\n\u001b[1;32m     70\u001b[0m \u001b[38;5;28;01mif\u001b[39;00m data \u001b[38;5;129;01mis\u001b[39;00m \u001b[38;5;129;01mnot\u001b[39;00m \u001b[38;5;28;01mNone\u001b[39;00m \u001b[38;5;129;01mand\u001b[39;00m (x \u001b[38;5;129;01mis\u001b[39;00m \u001b[38;5;129;01mnot\u001b[39;00m \u001b[38;5;28;01mNone\u001b[39;00m \u001b[38;5;129;01mor\u001b[39;00m y \u001b[38;5;129;01mis\u001b[39;00m \u001b[38;5;129;01mnot\u001b[39;00m \u001b[38;5;28;01mNone\u001b[39;00m \u001b[38;5;129;01mor\u001b[39;00m z \u001b[38;5;129;01mis\u001b[39;00m \u001b[38;5;129;01mnot\u001b[39;00m \u001b[38;5;28;01mNone\u001b[39;00m):\n\u001b[0;32m---> 71\u001b[0m     \u001b[38;5;28;01mraise\u001b[39;00m GMTInvalidInput(\u001b[38;5;124m\"\u001b[39m\u001b[38;5;124mToo much data. Use either data or x and y.\u001b[39m\u001b[38;5;124m\"\u001b[39m)\n\u001b[1;32m     72\u001b[0m \u001b[38;5;28;01mif\u001b[39;00m data \u001b[38;5;129;01mis\u001b[39;00m \u001b[38;5;28;01mNone\u001b[39;00m \u001b[38;5;129;01mand\u001b[39;00m (x \u001b[38;5;129;01mis\u001b[39;00m \u001b[38;5;28;01mNone\u001b[39;00m \u001b[38;5;129;01mor\u001b[39;00m y \u001b[38;5;129;01mis\u001b[39;00m \u001b[38;5;28;01mNone\u001b[39;00m):\n\u001b[1;32m     73\u001b[0m     \u001b[38;5;28;01mraise\u001b[39;00m GMTInvalidInput(\u001b[38;5;124m\"\u001b[39m\u001b[38;5;124mMust provide both x and y.\u001b[39m\u001b[38;5;124m\"\u001b[39m)\n",
      "\u001b[0;31mGMTInvalidInput\u001b[0m: Too much data. Use either data or x and y."
     ]
    }
   ],
   "source": [
    "import pygmt\n",
    "\n",
    "def __getMapParameters(lats, lons):\n",
    "\n",
    "    # Determine a nice, padded region\n",
    "    region = [np.min(lons), np.max(lons), np.min(lats), np.max(lats)]\n",
    "    x_pad = (region[1] - region[0]) * 0.3\n",
    "    y_pad = (region[3] - region[2]) * 0.3\n",
    "    region = [region[0] - x_pad, region[1] + x_pad, region[2] - y_pad, region[3] + y_pad]\n",
    "\n",
    "    # Determine a nice stereographic projection\n",
    "    lon_0 = np.mean(region[:2])\n",
    "    lat_0 = np.mean(region[2:])\n",
    "    ref_lat = 90 if lat_0 > 0 else -90\n",
    "    projection = f'S{lon_0}/{ref_lat}/6i'\n",
    "\n",
    "    return region, projection\n",
    "\n",
    "region, projection = __getMapParameters(array_stations.lat, array_stations.lon)\n",
    "\n",
    "fig = pygmt.Figure()\n",
    "\n",
    "\n",
    "fig.coast(\n",
    "        region=region,\n",
    "        projection=projection,\n",
    "        shorelines=True,\n",
    "        water='lightblue',\n",
    "        rivers=[1],\n",
    "        land='lightgrey',\n",
    "        borders=[1, 2],\n",
    "        frame='a',\n",
    ")\n",
    "\n",
    "KWARGS = dict(\n",
    "              grid='@srtm_relief_01s',\n",
    "              region=region,\n",
    "              projection=projection,\n",
    "              frame=False,\n",
    "              shading=True,\n",
    "              cmap='earth',\n",
    "             )\n",
    "fig.grdimage(**KWARGS)\n",
    "\n",
    "\n",
    "fig.plot(array_stations.lon, array_stations.lat, style='i0.2i', color='white', pen=True)\n",
    "\n",
    "fig.text(x=array_stations.lon, \n",
    "         y=array_stations.lat, \n",
    "         text=[code.split(\".\")[1] for code in array_stations.codes],\n",
    "         offset=[0.2, 0.5],\n",
    "         font=\"12p,Helvetica-Bold,white\"\n",
    "        )\n",
    "\n",
    "fig.colorbar()\n",
    "\n",
    "\n",
    "fig.show()"
   ]
  },
  {
   "cell_type": "code",
   "execution_count": null,
   "metadata": {
    "ExecuteTime": {
     "end_time": "2023-05-11T17:09:21.061629Z",
     "start_time": "2023-05-11T17:09:21.045930Z"
    }
   },
   "outputs": [],
   "source": [
    "import xarray as xr\n",
    "\n",
    "axis = np.arange(-config['klim'], config['klim']+0.5,0.5)\n",
    "print( len(axis))\n",
    "\n",
    "model = xr.DataArray(transff.T, coords=(axis, axis), dims=('lat', 'lon'))\n",
    "\n",
    "\n",
    "fig = pygmt.Figure()\n",
    "\n",
    "\n",
    "fig.coast(\n",
    "        region=region,\n",
    "        projection=projection,\n",
    "        shorelines=True,\n",
    "        water='lightblue',\n",
    "        rivers=[1],\n",
    "        land='lightgrey',\n",
    "        borders=[1, 2],\n",
    "        frame='a',\n",
    ")\n",
    "\n",
    "KWARGS = dict(\n",
    "              grid=transff.T,\n",
    "              region=region,\n",
    "              projection=projection,\n",
    "              frame=False,\n",
    "              shading=True,\n",
    "              cmap='earth',\n",
    "             )\n",
    "fig.grdimage(**KWARGS)\n",
    "\n",
    "\n",
    "fig.plot(array_stations.lon, array_stations.lat, style='i0.2i', color='white', pen=True)\n",
    "\n",
    "fig.text(x=array_stations.lon, \n",
    "         y=array_stations.lat, \n",
    "         text=[code.split(\".\")[1] for code in array_stations.codes],\n",
    "         offset=[0.2, 0.5],\n",
    "         font=\"12p,Helvetica-Bold,white\"\n",
    "        )\n",
    "\n",
    "fig.colorbar()\n",
    "\n",
    "\n",
    "fig.show()"
   ]
  },
  {
   "cell_type": "code",
   "execution_count": null,
   "metadata": {
    "ExecuteTime": {
     "end_time": "2023-05-11T17:09:22.643912Z",
     "start_time": "2023-05-11T17:09:22.633213Z"
    }
   },
   "outputs": [],
   "source": [
    "transff.T.shape"
   ]
  },
  {
   "cell_type": "code",
   "execution_count": null,
   "metadata": {},
   "outputs": [],
   "source": []
  }
 ],
 "metadata": {
  "kernelspec": {
   "display_name": "Python 3 (ipykernel)",
   "language": "python",
   "name": "python3"
  },
  "language_info": {
   "codemirror_mode": {
    "name": "ipython",
    "version": 3
   },
   "file_extension": ".py",
   "mimetype": "text/x-python",
   "name": "python",
   "nbconvert_exporter": "python",
   "pygments_lexer": "ipython3",
   "version": "3.10.12"
  },
  "toc": {
   "base_numbering": 1,
   "nav_menu": {},
   "number_sections": true,
   "sideBar": true,
   "skip_h1_title": false,
   "title_cell": "Table of Contents",
   "title_sidebar": "Contents",
   "toc_cell": false,
   "toc_position": {},
   "toc_section_display": true,
   "toc_window_display": false
  },
  "varInspector": {
   "cols": {
    "lenName": 16,
    "lenType": 16,
    "lenVar": 40
   },
   "kernels_config": {
    "python": {
     "delete_cmd_postfix": "",
     "delete_cmd_prefix": "del ",
     "library": "var_list.py",
     "varRefreshCmd": "print(var_dic_list())"
    },
    "r": {
     "delete_cmd_postfix": ") ",
     "delete_cmd_prefix": "rm(",
     "library": "var_list.r",
     "varRefreshCmd": "cat(var_dic_list()) "
    }
   },
   "types_to_exclude": [
    "module",
    "function",
    "builtin_function_or_method",
    "instance",
    "_Feature"
   ],
   "window_display": false
  }
 },
 "nbformat": 4,
 "nbformat_minor": 4
}
