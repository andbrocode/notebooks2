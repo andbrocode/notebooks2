{
 "cells": [
  {
   "cell_type": "markdown",
   "id": "eb0eb2ff",
   "metadata": {},
   "source": [
    "# Plot Maps of ADR Arrays"
   ]
  },
  {
   "cell_type": "markdown",
   "id": "de0e247f",
   "metadata": {},
   "source": [
    "## Imports"
   ]
  },
  {
   "cell_type": "code",
   "execution_count": 2,
   "id": "6d6e9377",
   "metadata": {
    "ExecuteTime": {
     "end_time": "2023-08-02T14:18:32.991856Z",
     "start_time": "2023-08-02T14:18:32.103602Z"
    },
    "tags": []
   },
   "outputs": [],
   "source": [
    "from obspy import UTCDateTime\n",
    "from obspy.clients import fdsn\n",
    "from matplotlib.colorbar import ColorbarBase\n",
    "from matplotlib.colors import Normalize\n",
    "from obspy.geodetics.base import gps2dist_azimuth\n",
    "from obspy.geodetics import locations2degrees\n",
    "from obspy.clients.fdsn    import Client, RoutingClient\n",
    "from obspy.signal.rotate import rotate2zne\n",
    "from andbro__savefig import __savefig\n",
    "\n",
    "import os\n",
    "import obspy.signal.array_analysis as AA\n",
    "import matplotlib.pyplot  as plt\n",
    "import numpy as np\n",
    "\n",
    "import warnings\n",
    "warnings.filterwarnings('ignore')"
   ]
  },
  {
   "cell_type": "code",
   "execution_count": 3,
   "id": "325f56a8",
   "metadata": {
    "ExecuteTime": {
     "end_time": "2023-08-02T14:18:34.806796Z",
     "start_time": "2023-08-02T14:18:34.801404Z"
    },
    "tags": []
   },
   "outputs": [],
   "source": [
    "if os.uname().nodename == 'lighthouse':\n",
    "    root_path = '/home/andbro/'\n",
    "    data_path = '/home/andbro/kilauea-data/'\n",
    "    archive_path = '/home/andbro/freenas/'\n",
    "elif os.uname().nodename == 'kilauea':\n",
    "    root_path = '/home/brotzer/'\n",
    "    data_path = '/import/kilauea-data/'\n",
    "    archive_path = '/import/freenas-ffb-01-data/'"
   ]
  },
  {
   "cell_type": "code",
   "execution_count": 4,
   "id": "3c429cae",
   "metadata": {
    "ExecuteTime": {
     "end_time": "2023-08-02T14:18:35.436167Z",
     "start_time": "2023-08-02T14:18:35.427542Z"
    },
    "code_folding": [
     0
    ],
    "tags": []
   },
   "outputs": [],
   "source": [
    "def __get_coordinates(config):\n",
    "\n",
    "    coords = []\n",
    "    for i, station in enumerate(config['subarray_stations']):\n",
    "\n",
    "        net, sta = station.split(\".\")\n",
    "\n",
    "        inven = config['fdsn_client'][net].get_stations(network=net,\n",
    "                                                       station=sta,\n",
    "                                                       channel='BHZ',\n",
    "                                                       starttime=config['starttime'],\n",
    "                                                       endtime=config['starttime']+86400,\n",
    "                                                       level='response'\n",
    "                                                      )\n",
    "\n",
    "\n",
    "        l_lon =  float(inven.get_coordinates('%s.%s..BHZ'%(net,sta))['longitude'])\n",
    "        l_lat =  float(inven.get_coordinates('%s.%s..BHZ'%(net,sta))['latitude'])\n",
    "        height = float(inven.get_coordinates('%s.%s..BHZ'%(net,sta))['elevation'])\n",
    "\n",
    "        coords.append([l_lon,l_lat, height])\n",
    "\n",
    "    return np.array(coords)"
   ]
  },
  {
   "cell_type": "code",
   "execution_count": 5,
   "id": "a9620daa",
   "metadata": {
    "ExecuteTime": {
     "end_time": "2023-08-02T14:18:35.770195Z",
     "start_time": "2023-08-02T14:18:35.762389Z"
    },
    "code_folding": [
     0
    ],
    "tags": []
   },
   "outputs": [],
   "source": [
    "def __get_distances(config):\n",
    "\n",
    "    import obspy\n",
    "\n",
    "    cc_lon, cc_lat,cc_height = 0,0,0\n",
    "    for c in config['coordinates']:\n",
    "        cc_lon += c[0]\n",
    "        cc_lat += c[1]\n",
    "        cc_height += c[2]\n",
    "\n",
    "    cc_lon /= len(config['coordinates'])\n",
    "    cc_lat /= len(config['coordinates'])\n",
    "    cc_height /= len(config['coordinates'])\n",
    "\n",
    "    config['centroid'] = [cc_lon, cc_lat, cc_height]\n",
    "\n",
    "    dists = []\n",
    "    for lon,lat,height in config['coordinates']:    \n",
    "        dist_x, dist_y = obspy.signal.util.util_geo_km(cc_lon, cc_lat, lon, lat)\n",
    "        dists.append([dist_x*1000,dist_y*1000, height-cc_height])  #convert unit from km to m\n",
    "\n",
    "    return np.array(dists)"
   ]
  },
  {
   "cell_type": "code",
   "execution_count": 6,
   "id": "a91173f8",
   "metadata": {
    "ExecuteTime": {
     "end_time": "2023-08-02T14:18:36.079908Z",
     "start_time": "2023-08-02T14:18:36.069609Z"
    },
    "code_folding": [
     0
    ],
    "tags": []
   },
   "outputs": [],
   "source": [
    "def __get_aperture_old(config, reference_station=None):\n",
    "\n",
    "    from numpy import argmax, array, sqrt\n",
    "    import obspy\n",
    "\n",
    "    for n, sta in enumerate(config['subarray_stations']):\n",
    "        if sta == reference_station:\n",
    "            ref_lon, ref_lat, ref_height = config['coordinates'][n][0], config['coordinates'][n][1], config['coordinates'][n][2]\n",
    "\n",
    "    dists = []\n",
    "    for lon, lat, height in config['coordinates']:\n",
    "        dist_x, dist_y = obspy.signal.util.util_geo_km(ref_lon, ref_lat, lon, lat)\n",
    "        dists.append(sqrt((dist_x*1000)**2+(dist_y*1000)**2))  #convert unit from km to m\n",
    "\n",
    "\n",
    "    aperture = max(abs(array(dists)))\n",
    "    idx = argmax(abs(array(dists)))\n",
    "\n",
    "    connection = (ref_lon, ref_lat, config['coordinates'][idx][0], config['coordinates'][idx][1])\n",
    "    print(f\" -> Aperture of Array: {round(aperture,2)} m\")\n",
    "    return aperture, connection"
   ]
  },
  {
   "cell_type": "code",
   "execution_count": 7,
   "id": "602776e1-5445-4ed0-bd07-477f94750291",
   "metadata": {
    "tags": []
   },
   "outputs": [],
   "source": [
    "def __get_aperture(config, reference_station=None):\n",
    "\n",
    "    from numpy import argmax, array, sqrt\n",
    "    import obspy\n",
    "\n",
    "    dists, idx = [], []\n",
    "    for ii, (lon1, lat1, height1) in enumerate(config['coordinates']):\n",
    "        for jj, (lon2, lat2, height2) in enumerate(config['coordinates']):\n",
    "            dist_x, dist_y = obspy.signal.util.util_geo_km(lon1, lat1, lon2, lat2)\n",
    "            dists.append(sqrt((dist_x*1000)**2+(dist_y*1000)**2))  #convert unit from km to m\n",
    "            idx.append((ii, jj))\n",
    "\n",
    "    aperture = max(abs(array(dists)))\n",
    "    idx_max = int(argmax(abs(array(dists))))\n",
    "    _ii, _jj = idx[idx_max]\n",
    "\n",
    "    connection = (config['coordinates'][_ii][0], config['coordinates'][_ii][1],\n",
    "                  config['coordinates'][_jj][0], config['coordinates'][_jj][1])\n",
    "\n",
    "    print(f\" -> Aperture of Array: {round(aperture,2)} m\")\n",
    "    return aperture, connection"
   ]
  },
  {
   "cell_type": "markdown",
   "id": "8bafd4ee-5bba-4d72-9a52-d0815c3553c1",
   "metadata": {},
   "source": [
    "## Get F-band of array"
   ]
  },
  {
   "cell_type": "code",
   "execution_count": 20,
   "id": "74a5617a-6398-4d06-a3f3-84a910113b9d",
   "metadata": {
    "tags": []
   },
   "outputs": [],
   "source": [
    "def __get_fband_of_array(aperture, apparent_velocity):\n",
    "    fmin = 0.02 * apparent_velocity / aperture\n",
    "    fmax = 0.25 * apparent_velocity / aperture\n",
    "    return round(fmin, 2), round(fmax, 2)"
   ]
  },
  {
   "cell_type": "markdown",
   "id": "c78442c2",
   "metadata": {},
   "source": [
    "## PFO ARRAY"
   ]
  },
  {
   "cell_type": "code",
   "execution_count": 12,
   "id": "21abb908",
   "metadata": {
    "ExecuteTime": {
     "end_time": "2023-08-02T14:19:08.914807Z",
     "start_time": "2023-08-02T14:19:05.616272Z"
    },
    "tags": []
   },
   "outputs": [],
   "source": [
    "## generate configuration object\n",
    "config3 = {}\n",
    "\n",
    "## specify client\n",
    "config3['fdsn_client'] = {\"GR\":Client('BGR'), \"BW\":Client(\"LMU\")}\n",
    "\n",
    "#starttime for data process\n",
    "config3['starttime'] = UTCDateTime(\"2023-04-02T00:00:00\")\n",
    "\n",
    "config3['output_figs'] = data_path+\"romy_array/figures/\"\n",
    "\n",
    "config3['array_code'] = \"RMY\"\n",
    "\n",
    "#PFO array information\n",
    "config3['array_stations'] = [\"GR.FUR\", \"BW.FFB1\", \"BW.FFB2\", \"BW.FFB3\",\n",
    "                             \"BW.TON\", \"BW.BIB\", \"BW.GELB\", \"BW.GRMB\", \"BW.ALFT\",\n",
    "                            ]\n",
    "\n",
    "\n",
    "## reference stations for computation of aperture\n",
    "config3['reference_station'] = \"GR.FUR\"\n",
    "\n",
    "# config3['subarray_mask'] = [0, 1, 2, 3, 4, 5, 6, 7, 8] ##all\n",
    "# config3['subarray_mask'] = [0, 4, 5, 6, 7, 8] ## outer\n",
    "config3['subarray_mask'] = [0, 1, 2, 3] ##inner\n",
    "\n",
    "## adjust for sub array\n",
    "config3['subarray_stations'] = [config3['array_stations'][i] for i in config3['subarray_mask']]\n",
    "\n",
    "## request inventories\n",
    "config3['coordinates'] = __get_coordinates(config3)\n",
    "\n",
    "## get distances\n",
    "config3['distances'] = __get_distances(config3)"
   ]
  },
  {
   "cell_type": "markdown",
   "id": "3f63e85e-edc0-4613-8ab8-8bdd8e9d2173",
   "metadata": {},
   "source": [
    "### Get Frequency Band"
   ]
  },
  {
   "cell_type": "code",
   "execution_count": 19,
   "id": "fc565868-3a7d-467e-86d8-a5ae583df1cb",
   "metadata": {
    "tags": []
   },
   "outputs": [
    {
     "name": "stdout",
     "output_type": "stream",
     "text": [
      " -> Aperture of Array: 238.15 m\n"
     ]
    },
    {
     "data": {
      "text/plain": [
       "(238.14673519509145, (11.276289, 48.164883, 11.275065, 48.162904))"
      ]
     },
     "execution_count": 19,
     "metadata": {},
     "output_type": "execute_result"
    }
   ],
   "source": [
    "__get_aperture(config3, reference_station=\"BW.FFB3\")"
   ]
  },
  {
   "cell_type": "code",
   "execution_count": 23,
   "id": "4d87347c-9f88-4973-88d8-cfc236a5af21",
   "metadata": {
    "tags": []
   },
   "outputs": [
    {
     "name": "stdout",
     "output_type": "stream",
     "text": [
      "ADRi:  0.29 3.68\n",
      "ADRa:  0.02 0.21\n"
     ]
    }
   ],
   "source": [
    "apparent_velocity = 3500\n",
    "\n",
    "fmin, fmax = __get_fband_of_array(aperture=238, apparent_velocity=apparent_velocity)\n",
    "print(\"ADRi: \", fmin, fmax)\n",
    "\n",
    "# fmin, fmax = __get_fband_of_array(aperture=501, apparent_velocity=apparent_velocity)\n",
    "# print(\"ADRm: \", fmin, fmax)\n",
    "\n",
    "fmin, fmax = __get_fband_of_array(aperture=4153, apparent_velocity=apparent_velocity)\n",
    "print(\"ADRa: \", fmin, fmax)"
   ]
  },
  {
   "cell_type": "markdown",
   "id": "79a65843",
   "metadata": {},
   "source": [
    "## Single Map"
   ]
  },
  {
   "cell_type": "code",
   "execution_count": 16,
   "id": "fb2360df",
   "metadata": {
    "ExecuteTime": {
     "end_time": "2023-08-02T14:19:10.846864Z",
     "start_time": "2023-08-02T14:19:10.829729Z"
    },
    "code_folding": [
     0
    ],
    "tags": []
   },
   "outputs": [],
   "source": [
    "def __plot_array_map(config):\n",
    "\n",
    "    aper, connect = __get_aperture(config, reference_station=config['reference_station'])\n",
    "\n",
    "    fig, ax = plt.subplots(1,1, figsize=(7,7))\n",
    "\n",
    "    font = 14\n",
    "\n",
    "    for n, (c, sta) in enumerate(zip(config['coordinates'], config['subarray_stations'])):\n",
    "\n",
    "\n",
    "        if config['array_code'] == \"PFO\":\n",
    "            if n in [1,2,3,4]:\n",
    "                ax.scatter(c[0], c[1], c='g', marker=\"^\", s=80, zorder=2, edgecolors=\"k\")\n",
    "            elif n in [5,6,7,8]:\n",
    "                ax.scatter(c[0], c[1], c='b', marker=\"^\", s=80, zorder=2, edgecolors=\"k\")\n",
    "            elif n is 0:\n",
    "                ax.scatter(c[0], c[1], edgecolor='g', marker=\"^\", s=80, facecolor=(0,0,0,0), lw=2, zorder=2, edgecolors=\"k\")\n",
    "            else:\n",
    "                ax.scatter(c[0], c[1], c='r', marker=\"^\", s=80, zorder=2, edgecolors=\"k\")\n",
    "        else:\n",
    "            ax.scatter(c[0], c[1], c='r', marker=\"^\", s=80, zorder=2, edgecolors=\"k\")\n",
    "\n",
    "\n",
    "        ## add labels\n",
    "        label_adjustments = {\"PY.PFOIX\":[0, -4e-4], \"PY.BPH01\": [0, 2e-4],\"PY.BPH02\": [0, 2e-4],\"PY.BPH03\": [1e-4, -4e-4],\n",
    "                               \"PY.BPH04\": [-12e-4, 2e-4],\"PY.BPH05\": [0, 2e-4],\"PY.BPH06\": [0, 2e-4],\n",
    "                               \"PY.BPH07\": [3e-4, 2e-4],\"PY.BPH08\": [-14e-4, 2e-4],\"PY.BPH09\": [0, 2e-4],\n",
    "                               \"PY.BPH10\": [0, 2e-4],\"PY.BPH11\": [0, 2e-4],\n",
    "                               \"PY.BPH12\": [0, -4e-4],\"PY.BPH13\": [0,  2e-4],\n",
    "                            }\n",
    "\n",
    "        try:\n",
    "            x, y = label_adjustments[sta]\n",
    "            ax.text(c[0]+x, c[1]+y, sta, zorder=2)\n",
    "        except:\n",
    "            print(f\"{config['array_stations'][n]} has no label..\")\n",
    "\n",
    "    ## plot centroid\n",
    "#     ax.scatter(config['centroid'][0], config['centroid'][1], s=100, marker=\"+\", c='k',zorder=2)\n",
    "\n",
    "    ## plot aperture line\n",
    "    # ax.plot([connect[0], connect[2]], [connect[1], connect[3]], ls=\":\", zorder=0, color='k')\n",
    "\n",
    "\n",
    "    ax.set_title(f\"{config['array_code']} array stations | aperture: {int(round(aper,0))} m\")\n",
    "\n",
    "    ax.set_xlabel(\"Longitude (°)\", fontsize=font)\n",
    "    ax.set_ylabel(\"Latitude (°)\", fontsize=font)\n",
    "\n",
    "    ax.grid(alpha=0.8, zorder=0, ls=\":\")\n",
    "\n",
    "\n",
    "    lat_min, lat_max = config3['coordinates'][:,1].min(), config3['coordinates'][:,1].max()\n",
    "    lon_min, lon_max = config3['coordinates'][:,0].min(), config3['coordinates'][:,0].max()\n",
    "    ax.set_xlim(lon_min-0.001, lon_max+0.0015)\n",
    "    ax.set_ylim(lat_min-0.001, lat_max+0.0015)\n",
    "\n",
    "    ax.ticklabel_format(useOffset=False, style='plain')\n",
    "\n",
    "    plt.show();\n",
    "    return fig"
   ]
  },
  {
   "cell_type": "code",
   "execution_count": 17,
   "id": "54574a75",
   "metadata": {
    "ExecuteTime": {
     "end_time": "2023-08-02T14:19:11.383858Z",
     "start_time": "2023-08-02T14:19:11.222584Z"
    },
    "code_folding": [],
    "tags": []
   },
   "outputs": [
    {
     "name": "stdout",
     "output_type": "stream",
     "text": [
      " -> Aperture of Array: 4153.74 m\n",
      "GR.FUR has no label..\n",
      "BW.FFB1 has no label..\n",
      "BW.FFB2 has no label..\n",
      "BW.FFB3 has no label..\n",
      "BW.TON has no label..\n",
      "BW.BIB has no label..\n",
      "BW.GELB has no label..\n",
      "BW.GRMB has no label..\n",
      "BW.ALFT has no label..\n"
     ]
    },
    {
     "data": {
      "image/png": "[encoded data removed]",
      "text/plain": [
       "<Figure size 700x700 with 1 Axes>"
      ]
     },
     "metadata": {},
     "output_type": "display_data"
    }
   ],
   "source": [
    "fig = __plot_array_map(config3);"
   ]
  },
  {
   "cell_type": "code",
   "execution_count": 18,
   "id": "8ed7ab7d",
   "metadata": {
    "ExecuteTime": {
     "end_time": "2023-07-04T14:32:17.323212Z",
     "start_time": "2023-07-04T14:32:16.854887Z"
    },
    "tags": []
   },
   "outputs": [
    {
     "name": "stdout",
     "output_type": "stream",
     "text": [
      "\n",
      "   -> saving /import/kilauea-data/romy_array/figures/PFO_array_map_X.png ...\n",
      "\n"
     ]
    },
    {
     "ename": "FileNotFoundError",
     "evalue": "[Errno 2] No such file or directory: '/import/kilauea-data/romy_array/figures/PFO_array_map_X.png'",
     "output_type": "error",
     "traceback": [
      "\u001b[0;31m---------------------------------------------------------------------------\u001b[0m",
      "\u001b[0;31mFileNotFoundError\u001b[0m                         Traceback (most recent call last)",
      "Cell \u001b[0;32mIn[18], line 1\u001b[0m\n\u001b[0;32m----> 1\u001b[0m \u001b[43m__savefig\u001b[49m\u001b[43m(\u001b[49m\u001b[43mfig\u001b[49m\u001b[43m,\u001b[49m\u001b[43m \u001b[49m\u001b[43moutpath\u001b[49m\u001b[38;5;241;43m=\u001b[39;49m\u001b[43mconfig3\u001b[49m\u001b[43m[\u001b[49m\u001b[38;5;124;43m'\u001b[39;49m\u001b[38;5;124;43moutput_figs\u001b[39;49m\u001b[38;5;124;43m'\u001b[39;49m\u001b[43m]\u001b[49m\u001b[43m,\u001b[49m\u001b[43m \u001b[49m\u001b[43moutname\u001b[49m\u001b[38;5;241;43m=\u001b[39;49m\u001b[38;5;124;43m\"\u001b[39;49m\u001b[38;5;124;43mPFO_array_map_X\u001b[39;49m\u001b[38;5;124;43m\"\u001b[39;49m\u001b[43m,\u001b[49m\u001b[43m \u001b[49m\u001b[43mmode\u001b[49m\u001b[38;5;241;43m=\u001b[39;49m\u001b[38;5;124;43m\"\u001b[39;49m\u001b[38;5;124;43mpng\u001b[39;49m\u001b[38;5;124;43m\"\u001b[39;49m\u001b[43m,\u001b[49m\u001b[43m \u001b[49m\u001b[43mdpi\u001b[49m\u001b[38;5;241;43m=\u001b[39;49m\u001b[38;5;241;43m300\u001b[39;49m\u001b[43m)\u001b[49m\n",
      "File \u001b[0;32m~/andbro_python/andbro__savefig.py:67\u001b[0m, in \u001b[0;36m__savefig\u001b[0;34m(figs, outpath, outname, mode, dpi)\u001b[0m\n\u001b[1;32m     65\u001b[0m \u001b[38;5;28;01melif\u001b[39;00m mode \u001b[38;5;241m==\u001b[39m \u001b[38;5;124m'\u001b[39m\u001b[38;5;124mpng\u001b[39m\u001b[38;5;124m'\u001b[39m:\n\u001b[1;32m     66\u001b[0m \t\u001b[38;5;28mprint\u001b[39m(\u001b[38;5;124mf\u001b[39m\u001b[38;5;124m'\u001b[39m\u001b[38;5;130;01m\\n\u001b[39;00m\u001b[38;5;124m   -> saving \u001b[39m\u001b[38;5;132;01m{\u001b[39;00moutpath\u001b[38;5;132;01m}\u001b[39;00m\u001b[38;5;132;01m{\u001b[39;00moutname\u001b[38;5;132;01m}\u001b[39;00m\u001b[38;5;124m.\u001b[39m\u001b[38;5;132;01m{\u001b[39;00mmode\u001b[38;5;132;01m}\u001b[39;00m\u001b[38;5;124m ...\u001b[39m\u001b[38;5;130;01m\\n\u001b[39;00m\u001b[38;5;124m'\u001b[39m)\n\u001b[0;32m---> 67\u001b[0m \t\u001b[43mfigs\u001b[49m\u001b[38;5;241;43m.\u001b[39;49m\u001b[43msavefig\u001b[49m\u001b[43m(\u001b[49m\u001b[38;5;124;43mf\u001b[39;49m\u001b[38;5;124;43m\"\u001b[39;49m\u001b[38;5;132;43;01m{\u001b[39;49;00m\u001b[43moutpath\u001b[49m\u001b[38;5;132;43;01m}\u001b[39;49;00m\u001b[38;5;132;43;01m{\u001b[39;49;00m\u001b[43moutname\u001b[49m\u001b[38;5;132;43;01m}\u001b[39;49;00m\u001b[38;5;124;43m.\u001b[39;49m\u001b[38;5;132;43;01m{\u001b[39;49;00m\u001b[43mmode\u001b[49m\u001b[38;5;132;43;01m}\u001b[39;49;00m\u001b[38;5;124;43m\"\u001b[39;49m\u001b[43m,\u001b[49m\u001b[43m \u001b[49m\u001b[43mdpi\u001b[49m\u001b[38;5;241;43m=\u001b[39;49m\u001b[43mdpi\u001b[49m\u001b[43m,\u001b[49m\u001b[43m \u001b[49m\u001b[43mfacecolor\u001b[49m\u001b[38;5;241;43m=\u001b[39;49m\u001b[38;5;124;43m'\u001b[39;49m\u001b[38;5;124;43mw\u001b[39;49m\u001b[38;5;124;43m'\u001b[39;49m\u001b[43m,\u001b[49m\u001b[43m \u001b[49m\u001b[43medgecolor\u001b[49m\u001b[38;5;241;43m=\u001b[39;49m\u001b[38;5;124;43m'\u001b[39;49m\u001b[38;5;124;43mw\u001b[39;49m\u001b[38;5;124;43m'\u001b[39;49m\u001b[43m,\u001b[49m\u001b[43m \u001b[49m\u001b[43morientation\u001b[49m\u001b[38;5;241;43m=\u001b[39;49m\u001b[38;5;124;43m'\u001b[39;49m\u001b[38;5;124;43mportrait\u001b[39;49m\u001b[38;5;124;43m'\u001b[39;49m\u001b[43m,\u001b[49m\u001b[43m \u001b[49m\u001b[38;5;28;43mformat\u001b[39;49m\u001b[38;5;241;43m=\u001b[39;49m\u001b[38;5;124;43m'\u001b[39;49m\u001b[38;5;124;43mpng\u001b[39;49m\u001b[38;5;124;43m'\u001b[39;49m\u001b[43m,\u001b[49m\u001b[43m \u001b[49m\u001b[43mtransparent\u001b[49m\u001b[38;5;241;43m=\u001b[39;49m\u001b[38;5;28;43;01mFalse\u001b[39;49;00m\u001b[43m \u001b[49m\u001b[43m,\u001b[49m\u001b[43m \u001b[49m\u001b[43mbbox_inches\u001b[49m\u001b[38;5;241;43m=\u001b[39;49m\u001b[38;5;124;43m'\u001b[39;49m\u001b[38;5;124;43mtight\u001b[39;49m\u001b[38;5;124;43m'\u001b[39;49m\u001b[43m,\u001b[49m\u001b[43m \u001b[49m\u001b[43mpad_inches\u001b[49m\u001b[38;5;241;43m=\u001b[39;49m\u001b[38;5;241;43m0.1\u001b[39;49m\u001b[43m)\u001b[49m\n\u001b[1;32m     69\u001b[0m \u001b[38;5;28;01melse\u001b[39;00m:\n\u001b[1;32m     70\u001b[0m \t\u001b[38;5;28mprint\u001b[39m(\u001b[38;5;124m'\u001b[39m\u001b[38;5;130;01m\\n\u001b[39;00m\u001b[38;5;124m   -> mode not correct!\u001b[39m\u001b[38;5;124m'\u001b[39m)\n",
      "File \u001b[0;32m~/anaconda3/envs/obs2/lib/python3.9/site-packages/matplotlib/figure.py:3390\u001b[0m, in \u001b[0;36mFigure.savefig\u001b[0;34m(self, fname, transparent, **kwargs)\u001b[0m\n\u001b[1;32m   3388\u001b[0m     \u001b[38;5;28;01mfor\u001b[39;00m ax \u001b[38;5;129;01min\u001b[39;00m \u001b[38;5;28mself\u001b[39m\u001b[38;5;241m.\u001b[39maxes:\n\u001b[1;32m   3389\u001b[0m         _recursively_make_axes_transparent(stack, ax)\n\u001b[0;32m-> 3390\u001b[0m \u001b[38;5;28;43mself\u001b[39;49m\u001b[38;5;241;43m.\u001b[39;49m\u001b[43mcanvas\u001b[49m\u001b[38;5;241;43m.\u001b[39;49m\u001b[43mprint_figure\u001b[49m\u001b[43m(\u001b[49m\u001b[43mfname\u001b[49m\u001b[43m,\u001b[49m\u001b[43m \u001b[49m\u001b[38;5;241;43m*\u001b[39;49m\u001b[38;5;241;43m*\u001b[39;49m\u001b[43mkwargs\u001b[49m\u001b[43m)\u001b[49m\n",
      "File \u001b[0;32m~/anaconda3/envs/obs2/lib/python3.9/site-packages/matplotlib/backend_bases.py:2193\u001b[0m, in \u001b[0;36mFigureCanvasBase.print_figure\u001b[0;34m(self, filename, dpi, facecolor, edgecolor, orientation, format, bbox_inches, pad_inches, bbox_extra_artists, backend, **kwargs)\u001b[0m\n\u001b[1;32m   2189\u001b[0m \u001b[38;5;28;01mtry\u001b[39;00m:\n\u001b[1;32m   2190\u001b[0m     \u001b[38;5;66;03m# _get_renderer may change the figure dpi (as vector formats\u001b[39;00m\n\u001b[1;32m   2191\u001b[0m     \u001b[38;5;66;03m# force the figure dpi to 72), so we need to set it again here.\u001b[39;00m\n\u001b[1;32m   2192\u001b[0m     \u001b[38;5;28;01mwith\u001b[39;00m cbook\u001b[38;5;241m.\u001b[39m_setattr_cm(\u001b[38;5;28mself\u001b[39m\u001b[38;5;241m.\u001b[39mfigure, dpi\u001b[38;5;241m=\u001b[39mdpi):\n\u001b[0;32m-> 2193\u001b[0m         result \u001b[38;5;241m=\u001b[39m \u001b[43mprint_method\u001b[49m\u001b[43m(\u001b[49m\n\u001b[1;32m   2194\u001b[0m \u001b[43m            \u001b[49m\u001b[43mfilename\u001b[49m\u001b[43m,\u001b[49m\n\u001b[1;32m   2195\u001b[0m \u001b[43m            \u001b[49m\u001b[43mfacecolor\u001b[49m\u001b[38;5;241;43m=\u001b[39;49m\u001b[43mfacecolor\u001b[49m\u001b[43m,\u001b[49m\n\u001b[1;32m   2196\u001b[0m \u001b[43m            \u001b[49m\u001b[43medgecolor\u001b[49m\u001b[38;5;241;43m=\u001b[39;49m\u001b[43medgecolor\u001b[49m\u001b[43m,\u001b[49m\n\u001b[1;32m   2197\u001b[0m \u001b[43m            \u001b[49m\u001b[43morientation\u001b[49m\u001b[38;5;241;43m=\u001b[39;49m\u001b[43morientation\u001b[49m\u001b[43m,\u001b[49m\n\u001b[1;32m   2198\u001b[0m \u001b[43m            \u001b[49m\u001b[43mbbox_inches_restore\u001b[49m\u001b[38;5;241;43m=\u001b[39;49m\u001b[43m_bbox_inches_restore\u001b[49m\u001b[43m,\u001b[49m\n\u001b[1;32m   2199\u001b[0m \u001b[43m            \u001b[49m\u001b[38;5;241;43m*\u001b[39;49m\u001b[38;5;241;43m*\u001b[39;49m\u001b[43mkwargs\u001b[49m\u001b[43m)\u001b[49m\n\u001b[1;32m   2200\u001b[0m \u001b[38;5;28;01mfinally\u001b[39;00m:\n\u001b[1;32m   2201\u001b[0m     \u001b[38;5;28;01mif\u001b[39;00m bbox_inches \u001b[38;5;129;01mand\u001b[39;00m restore_bbox:\n",
      "File \u001b[0;32m~/anaconda3/envs/obs2/lib/python3.9/site-packages/matplotlib/backend_bases.py:2043\u001b[0m, in \u001b[0;36mFigureCanvasBase._switch_canvas_and_return_print_method.<locals>.<lambda>\u001b[0;34m(*args, **kwargs)\u001b[0m\n\u001b[1;32m   2039\u001b[0m     optional_kws \u001b[38;5;241m=\u001b[39m {  \u001b[38;5;66;03m# Passed by print_figure for other renderers.\u001b[39;00m\n\u001b[1;32m   2040\u001b[0m         \u001b[38;5;124m\"\u001b[39m\u001b[38;5;124mdpi\u001b[39m\u001b[38;5;124m\"\u001b[39m, \u001b[38;5;124m\"\u001b[39m\u001b[38;5;124mfacecolor\u001b[39m\u001b[38;5;124m\"\u001b[39m, \u001b[38;5;124m\"\u001b[39m\u001b[38;5;124medgecolor\u001b[39m\u001b[38;5;124m\"\u001b[39m, \u001b[38;5;124m\"\u001b[39m\u001b[38;5;124morientation\u001b[39m\u001b[38;5;124m\"\u001b[39m,\n\u001b[1;32m   2041\u001b[0m         \u001b[38;5;124m\"\u001b[39m\u001b[38;5;124mbbox_inches_restore\u001b[39m\u001b[38;5;124m\"\u001b[39m}\n\u001b[1;32m   2042\u001b[0m     skip \u001b[38;5;241m=\u001b[39m optional_kws \u001b[38;5;241m-\u001b[39m {\u001b[38;5;241m*\u001b[39minspect\u001b[38;5;241m.\u001b[39msignature(meth)\u001b[38;5;241m.\u001b[39mparameters}\n\u001b[0;32m-> 2043\u001b[0m     print_method \u001b[38;5;241m=\u001b[39m functools\u001b[38;5;241m.\u001b[39mwraps(meth)(\u001b[38;5;28;01mlambda\u001b[39;00m \u001b[38;5;241m*\u001b[39margs, \u001b[38;5;241m*\u001b[39m\u001b[38;5;241m*\u001b[39mkwargs: \u001b[43mmeth\u001b[49m\u001b[43m(\u001b[49m\n\u001b[1;32m   2044\u001b[0m \u001b[43m        \u001b[49m\u001b[38;5;241;43m*\u001b[39;49m\u001b[43margs\u001b[49m\u001b[43m,\u001b[49m\u001b[43m \u001b[49m\u001b[38;5;241;43m*\u001b[39;49m\u001b[38;5;241;43m*\u001b[39;49m\u001b[43m{\u001b[49m\u001b[43mk\u001b[49m\u001b[43m:\u001b[49m\u001b[43m \u001b[49m\u001b[43mv\u001b[49m\u001b[43m \u001b[49m\u001b[38;5;28;43;01mfor\u001b[39;49;00m\u001b[43m \u001b[49m\u001b[43mk\u001b[49m\u001b[43m,\u001b[49m\u001b[43m \u001b[49m\u001b[43mv\u001b[49m\u001b[43m \u001b[49m\u001b[38;5;129;43;01min\u001b[39;49;00m\u001b[43m \u001b[49m\u001b[43mkwargs\u001b[49m\u001b[38;5;241;43m.\u001b[39;49m\u001b[43mitems\u001b[49m\u001b[43m(\u001b[49m\u001b[43m)\u001b[49m\u001b[43m \u001b[49m\u001b[38;5;28;43;01mif\u001b[39;49;00m\u001b[43m \u001b[49m\u001b[43mk\u001b[49m\u001b[43m \u001b[49m\u001b[38;5;129;43;01mnot\u001b[39;49;00m\u001b[43m \u001b[49m\u001b[38;5;129;43;01min\u001b[39;49;00m\u001b[43m \u001b[49m\u001b[43mskip\u001b[49m\u001b[43m}\u001b[49m\u001b[43m)\u001b[49m)\n\u001b[1;32m   2045\u001b[0m \u001b[38;5;28;01melse\u001b[39;00m:  \u001b[38;5;66;03m# Let third-parties do as they see fit.\u001b[39;00m\n\u001b[1;32m   2046\u001b[0m     print_method \u001b[38;5;241m=\u001b[39m meth\n",
      "File \u001b[0;32m~/anaconda3/envs/obs2/lib/python3.9/site-packages/matplotlib/backends/backend_agg.py:497\u001b[0m, in \u001b[0;36mFigureCanvasAgg.print_png\u001b[0;34m(self, filename_or_obj, metadata, pil_kwargs)\u001b[0m\n\u001b[1;32m    450\u001b[0m \u001b[38;5;28;01mdef\u001b[39;00m \u001b[38;5;21mprint_png\u001b[39m(\u001b[38;5;28mself\u001b[39m, filename_or_obj, \u001b[38;5;241m*\u001b[39m, metadata\u001b[38;5;241m=\u001b[39m\u001b[38;5;28;01mNone\u001b[39;00m, pil_kwargs\u001b[38;5;241m=\u001b[39m\u001b[38;5;28;01mNone\u001b[39;00m):\n\u001b[1;32m    451\u001b[0m \u001b[38;5;250m    \u001b[39m\u001b[38;5;124;03m\"\"\"\u001b[39;00m\n\u001b[1;32m    452\u001b[0m \u001b[38;5;124;03m    Write the figure to a PNG file.\u001b[39;00m\n\u001b[1;32m    453\u001b[0m \n\u001b[0;32m   (...)\u001b[0m\n\u001b[1;32m    495\u001b[0m \u001b[38;5;124;03m        *metadata*, including the default 'Software' key.\u001b[39;00m\n\u001b[1;32m    496\u001b[0m \u001b[38;5;124;03m    \"\"\"\u001b[39;00m\n\u001b[0;32m--> 497\u001b[0m     \u001b[38;5;28;43mself\u001b[39;49m\u001b[38;5;241;43m.\u001b[39;49m\u001b[43m_print_pil\u001b[49m\u001b[43m(\u001b[49m\u001b[43mfilename_or_obj\u001b[49m\u001b[43m,\u001b[49m\u001b[43m \u001b[49m\u001b[38;5;124;43m\"\u001b[39;49m\u001b[38;5;124;43mpng\u001b[39;49m\u001b[38;5;124;43m\"\u001b[39;49m\u001b[43m,\u001b[49m\u001b[43m \u001b[49m\u001b[43mpil_kwargs\u001b[49m\u001b[43m,\u001b[49m\u001b[43m \u001b[49m\u001b[43mmetadata\u001b[49m\u001b[43m)\u001b[49m\n",
      "File \u001b[0;32m~/anaconda3/envs/obs2/lib/python3.9/site-packages/matplotlib/backends/backend_agg.py:446\u001b[0m, in \u001b[0;36mFigureCanvasAgg._print_pil\u001b[0;34m(self, filename_or_obj, fmt, pil_kwargs, metadata)\u001b[0m\n\u001b[1;32m    441\u001b[0m \u001b[38;5;250m\u001b[39m\u001b[38;5;124;03m\"\"\"\u001b[39;00m\n\u001b[1;32m    442\u001b[0m \u001b[38;5;124;03mDraw the canvas, then save it using `.image.imsave` (to which\u001b[39;00m\n\u001b[1;32m    443\u001b[0m \u001b[38;5;124;03m*pil_kwargs* and *metadata* are forwarded).\u001b[39;00m\n\u001b[1;32m    444\u001b[0m \u001b[38;5;124;03m\"\"\"\u001b[39;00m\n\u001b[1;32m    445\u001b[0m FigureCanvasAgg\u001b[38;5;241m.\u001b[39mdraw(\u001b[38;5;28mself\u001b[39m)\n\u001b[0;32m--> 446\u001b[0m \u001b[43mmpl\u001b[49m\u001b[38;5;241;43m.\u001b[39;49m\u001b[43mimage\u001b[49m\u001b[38;5;241;43m.\u001b[39;49m\u001b[43mimsave\u001b[49m\u001b[43m(\u001b[49m\n\u001b[1;32m    447\u001b[0m \u001b[43m    \u001b[49m\u001b[43mfilename_or_obj\u001b[49m\u001b[43m,\u001b[49m\u001b[43m \u001b[49m\u001b[38;5;28;43mself\u001b[39;49m\u001b[38;5;241;43m.\u001b[39;49m\u001b[43mbuffer_rgba\u001b[49m\u001b[43m(\u001b[49m\u001b[43m)\u001b[49m\u001b[43m,\u001b[49m\u001b[43m \u001b[49m\u001b[38;5;28;43mformat\u001b[39;49m\u001b[38;5;241;43m=\u001b[39;49m\u001b[43mfmt\u001b[49m\u001b[43m,\u001b[49m\u001b[43m \u001b[49m\u001b[43morigin\u001b[49m\u001b[38;5;241;43m=\u001b[39;49m\u001b[38;5;124;43m\"\u001b[39;49m\u001b[38;5;124;43mupper\u001b[39;49m\u001b[38;5;124;43m\"\u001b[39;49m\u001b[43m,\u001b[49m\n\u001b[1;32m    448\u001b[0m \u001b[43m    \u001b[49m\u001b[43mdpi\u001b[49m\u001b[38;5;241;43m=\u001b[39;49m\u001b[38;5;28;43mself\u001b[39;49m\u001b[38;5;241;43m.\u001b[39;49m\u001b[43mfigure\u001b[49m\u001b[38;5;241;43m.\u001b[39;49m\u001b[43mdpi\u001b[49m\u001b[43m,\u001b[49m\u001b[43m \u001b[49m\u001b[43mmetadata\u001b[49m\u001b[38;5;241;43m=\u001b[39;49m\u001b[43mmetadata\u001b[49m\u001b[43m,\u001b[49m\u001b[43m \u001b[49m\u001b[43mpil_kwargs\u001b[49m\u001b[38;5;241;43m=\u001b[39;49m\u001b[43mpil_kwargs\u001b[49m\u001b[43m)\u001b[49m\n",
      "File \u001b[0;32m~/anaconda3/envs/obs2/lib/python3.9/site-packages/matplotlib/image.py:1656\u001b[0m, in \u001b[0;36mimsave\u001b[0;34m(fname, arr, vmin, vmax, cmap, format, origin, dpi, metadata, pil_kwargs)\u001b[0m\n\u001b[1;32m   1654\u001b[0m pil_kwargs\u001b[38;5;241m.\u001b[39msetdefault(\u001b[38;5;124m\"\u001b[39m\u001b[38;5;124mformat\u001b[39m\u001b[38;5;124m\"\u001b[39m, \u001b[38;5;28mformat\u001b[39m)\n\u001b[1;32m   1655\u001b[0m pil_kwargs\u001b[38;5;241m.\u001b[39msetdefault(\u001b[38;5;124m\"\u001b[39m\u001b[38;5;124mdpi\u001b[39m\u001b[38;5;124m\"\u001b[39m, (dpi, dpi))\n\u001b[0;32m-> 1656\u001b[0m \u001b[43mimage\u001b[49m\u001b[38;5;241;43m.\u001b[39;49m\u001b[43msave\u001b[49m\u001b[43m(\u001b[49m\u001b[43mfname\u001b[49m\u001b[43m,\u001b[49m\u001b[43m \u001b[49m\u001b[38;5;241;43m*\u001b[39;49m\u001b[38;5;241;43m*\u001b[39;49m\u001b[43mpil_kwargs\u001b[49m\u001b[43m)\u001b[49m\n",
      "File \u001b[0;32m~/anaconda3/envs/obs2/lib/python3.9/site-packages/PIL/Image.py:2410\u001b[0m, in \u001b[0;36mImage.save\u001b[0;34m(self, fp, format, **params)\u001b[0m\n\u001b[1;32m   2408\u001b[0m         fp \u001b[38;5;241m=\u001b[39m builtins\u001b[38;5;241m.\u001b[39mopen(filename, \u001b[38;5;124m\"\u001b[39m\u001b[38;5;124mr+b\u001b[39m\u001b[38;5;124m\"\u001b[39m)\n\u001b[1;32m   2409\u001b[0m     \u001b[38;5;28;01melse\u001b[39;00m:\n\u001b[0;32m-> 2410\u001b[0m         fp \u001b[38;5;241m=\u001b[39m \u001b[43mbuiltins\u001b[49m\u001b[38;5;241;43m.\u001b[39;49m\u001b[43mopen\u001b[49m\u001b[43m(\u001b[49m\u001b[43mfilename\u001b[49m\u001b[43m,\u001b[49m\u001b[43m \u001b[49m\u001b[38;5;124;43m\"\u001b[39;49m\u001b[38;5;124;43mw+b\u001b[39;49m\u001b[38;5;124;43m\"\u001b[39;49m\u001b[43m)\u001b[49m\n\u001b[1;32m   2412\u001b[0m \u001b[38;5;28;01mtry\u001b[39;00m:\n\u001b[1;32m   2413\u001b[0m     save_handler(\u001b[38;5;28mself\u001b[39m, fp, filename)\n",
      "\u001b[0;31mFileNotFoundError\u001b[0m: [Errno 2] No such file or directory: '/import/kilauea-data/romy_array/figures/PFO_array_map_X.png'"
     ]
    }
   ],
   "source": [
    "# __savefig(fig, outpath=config3['output_figs'], outname=\"PFO_array_map_X\", mode=\"png\", dpi=300)"
   ]
  },
  {
   "cell_type": "markdown",
   "id": "49d042ee",
   "metadata": {},
   "source": [
    "## Array Response"
   ]
  },
  {
   "cell_type": "code",
   "execution_count": 19,
   "id": "d83b3763",
   "metadata": {
    "ExecuteTime": {
     "end_time": "2023-07-04T14:35:00.655325Z",
     "start_time": "2023-07-04T14:35:00.635762Z"
    },
    "code_folding": [
     0,
     5,
     27,
     42
    ],
    "tags": []
   },
   "outputs": [],
   "source": [
    "def __compute_array_response(array_stations, longitudes_deg, latitudes_deg, elevations_km, reference_station, axis_type=\"wave_numer\", plot=False):\n",
    "\n",
    "    from obspy.signal.array_analysis import array_transff_wavenumber, array_transff_freqslowness\n",
    "    from numpy import linspace, shape, arange, pi\n",
    "\n",
    "    def __calculateDistanceOfStations(array_stations, longitudes, latitudes):\n",
    "\n",
    "        from obspy.geodetics import locations2degrees\n",
    "        from numpy import array, nanmax\n",
    "\n",
    "        array_stations, longitudes, latitudes = array(array_stations), array(longitudes), array(latitudes)\n",
    "\n",
    "        N = len(array_stations)\n",
    "\n",
    "        dist_in_deg = np.zeros((N, N))\n",
    "\n",
    "        for i, station1 in enumerate(array_stations):\n",
    "            for j, station2 in enumerate(array_stations):\n",
    "                dist_in_deg[i][j] = locations2degrees(lat1  = latitudes[i], \n",
    "                                                      long1 = longitudes[i], \n",
    "                                                      lat2  = latitudes[j], \n",
    "                                                      long2 = longitudes[j],\n",
    "                                                      )\n",
    "\n",
    "        return dist_in_deg, nanmax(dist_in_deg)*111.0\n",
    "\n",
    "\n",
    "    def __get_aperture(longitudes, latitudes, reference_longitude, reference_latitude):\n",
    "\n",
    "        from numpy import argmax, array, sqrt\n",
    "        from obspy.signal.util import util_geo_km\n",
    "\n",
    "        distances = []\n",
    "        for lon, lat in zip(longitudes, latitudes):\n",
    "            dist_x, dist_y = util_geo_km(reference_longitude, reference_latitude, lon, lat)\n",
    "            distances.append(sqrt((dist_x*1000)**2+(dist_y*1000)**2))  ## convert unit from km to m\n",
    "\n",
    "        aperture = max(abs(array(distances)))\n",
    "                \n",
    "        return aperture\n",
    "    \n",
    "    \n",
    "    def __plot_array_response(kx, ky, res_func, aperture):\n",
    "\n",
    "        from numpy import arange\n",
    "        from obspy.imaging.cm import obspy_sequential\n",
    "        from mpl_toolkits.axes_grid1 import make_axes_locatable\n",
    "        import matplotlib.pyplot as plt\n",
    "        \n",
    "        fig, ax = plt.subplots(1,1, figsize=(7,7))\n",
    "\n",
    "        font = 14\n",
    "\n",
    "        colx = ax.pcolor(kx, ky, res_func.T, cmap=obspy_sequential)\n",
    "\n",
    "        ax.set_title(f\"array response | aperture: {int(round(dist_max*1000, 0))} m\")\n",
    "\n",
    "        ax.set_xlabel('wave number (km$^{-1}$)', fontsize=font)\n",
    "        ax.set_ylabel('wave number (km$^{-1}$)', fontsize=font)\n",
    "\n",
    "        ax.grid(alpha=0.1, zorder=0, ls=\"-\", color=\"white\")\n",
    "\n",
    "        ax.ticklabel_format(useOffset=False, style='plain')\n",
    "\n",
    "        ## add colorbar\n",
    "        cax = make_axes_locatable(ax).append_axes(\"right\", size=\"5%\", pad=0.05)\n",
    "        cbar = plt.colorbar(colx, cax=cax)\n",
    "    #     cbar.set_label('X+Y')\n",
    "\n",
    "        plt.show();\n",
    "\n",
    "\n",
    "    ## ____________________________________________________\n",
    "        \n",
    "    dist, dist_max = __calculateDistanceOfStations(array_stations, longitudes_deg, latitudes_deg)\n",
    "\n",
    "    ref_idx = [n for n, sta in enumerate(array_stations) if sta == reference_station]\n",
    "    aperture_m = __get_aperture(longitudes_deg, latitudes_deg, longitudes_deg[ref_idx], latitudes_deg[ref_idx])\n",
    "    print(f\" -> Aperture of Array: {round(aperture_m, 2)} m\")\n",
    "    \n",
    "\n",
    "\n",
    "    ## format coordinates\n",
    "    coordinates = np.column_stack([longitudes_deg, latitudes_deg, elevations_km])\n",
    "\n",
    "    if axis_type == \"wave_numer\":\n",
    "        \n",
    "        ## define minimal lambda   \n",
    "        lambda_min = 2*aperture_m/1000 ## in km\n",
    "        \n",
    "        ## define wavenumber limits\n",
    "        k_max = 4*pi/lambda_min\n",
    "        k_step = k_max / 100.\n",
    "\n",
    "        print(\" -> k_max = \", k_max, \"1/m\", \"\\n -> lambda_min = \", lambda_min, \"m\" )\n",
    "\n",
    "        ## compute transfer function as a function of wavenumbe\n",
    "        transff = array_transff_wavenumber(coordinates, k_max, k_step, coordsys='lonlat')\n",
    "\n",
    "        ## define wavenumber axes\n",
    "        x_array = arange(-k_max, k_max + k_step * 1.1, k_step) - k_step / 2.\n",
    "        y_array = arange(-k_max, k_max + k_step * 1.1, k_step) - k_step / 2.\n",
    "\n",
    "    elif axis_type == \"freq_slowness\":\n",
    "\n",
    "        fmin, fmax, fstep = 0, 10, 0.1\n",
    "        slim, sstep = 1/(fmax*lamdra_min), 0.1\n",
    "        \n",
    "        transff = array_transff_freqslowness(coordinates, slim, sstep, fmin, fmax, fstep, coordsys='lonlat')\n",
    "        \n",
    "#         x_array = arange(-fmax, fmax + fstep * 1.1, fstep) - fstep / 2.\n",
    "        x_array = arange(-slim, slim + sstep * 1.1, sstep) - sstep / 2.\n",
    "        y_array = arange(-slim, slim + sstep * 1.1, sstep) - sstep / 2.\n",
    "    \n",
    "    if plot:\n",
    "        __plot_array_response(x_array, y_array, transff, aperture_m)\n",
    "        \n",
    "    return x_array, y_array, transff"
   ]
  },
  {
   "cell_type": "code",
   "execution_count": 20,
   "id": "039077ee",
   "metadata": {
    "ExecuteTime": {
     "end_time": "2023-07-04T14:35:01.204918Z",
     "start_time": "2023-07-04T14:35:01.194886Z"
    },
    "code_folding": [
     0
    ],
    "tags": []
   },
   "outputs": [],
   "source": [
    "def __plot_array_response(kx, ky, res_func):\n",
    "\n",
    "    from numpy import arange\n",
    "    from obspy.imaging.cm import obspy_sequential\n",
    "    from mpl_toolkits.axes_grid1 import make_axes_locatable\n",
    "    \n",
    "    fig, ax = plt.subplots(1,1, figsize=(7,7))\n",
    "    \n",
    "    font = 14\n",
    "    \n",
    "    colx = ax.pcolor(kx, ky, res_func.T, cmap=obspy_sequential)\n",
    "    \n",
    "#     ax.set_title(f\"{config['array_code']} array stations | aperture: {int(round(aper,0))} m\")\n",
    "    \n",
    "    ax.set_xlabel('wave number (km$^{-1}$)', fontsize=font)\n",
    "    ax.set_ylabel('wave number (km$^{-1}$)', fontsize=font)\n",
    "    \n",
    "    ax.grid(alpha=0.1, zorder=0, ls=\"-\", color=\"white\")\n",
    "        \n",
    "    ax.ticklabel_format(useOffset=False, style='plain')\n",
    "\n",
    "    ## add colorbar\n",
    "    cax = make_axes_locatable(ax).append_axes(\"right\", size=\"5%\", pad=0.05)\n",
    "    cbar = plt.colorbar(colx, cax=cax)\n",
    "#     cbar.set_label('X+Y')\n",
    "    \n",
    "    plt.show();\n",
    "    return fig"
   ]
  },
  {
   "cell_type": "code",
   "execution_count": 21,
   "id": "4032cb0d",
   "metadata": {
    "ExecuteTime": {
     "end_time": "2023-07-04T14:35:01.509946Z",
     "start_time": "2023-07-04T14:35:01.473771Z"
    },
    "code_folding": [],
    "tags": []
   },
   "outputs": [
    {
     "name": "stdout",
     "output_type": "stream",
     "text": [
      " -> Aperture of Array: 2773.38 m\n",
      " -> k_max =  2.265530076482222 1/m \n",
      " -> lambda_min =  5.546768389794001 m\n"
     ]
    }
   ],
   "source": [
    "x, y, res_func = __compute_array_response(config3['subarray_stations'],\n",
    "                                            config3['coordinates'][:,0],\n",
    "                                            config3['coordinates'][:,1],\n",
    "                                            config3['coordinates'][:,2]/1000,\n",
    "                                            reference_station=config3['reference_station'],\n",
    "                                            axis_type=\"wave_numer\",\n",
    "                                            plot=False\n",
    "                                           )"
   ]
  },
  {
   "cell_type": "code",
   "execution_count": 22,
   "id": "753a1753",
   "metadata": {
    "ExecuteTime": {
     "end_time": "2023-07-04T14:35:02.172877Z",
     "start_time": "2023-07-04T14:35:02.169271Z"
    },
    "tags": []
   },
   "outputs": [
    {
     "name": "stdout",
     "output_type": "stream",
     "text": [
      "(202,) (202,)\n"
     ]
    }
   ],
   "source": [
    "print(x.shape, y.shape)"
   ]
  },
  {
   "cell_type": "code",
   "execution_count": 23,
   "id": "088ad70d",
   "metadata": {
    "ExecuteTime": {
     "end_time": "2023-07-04T14:35:02.739105Z",
     "start_time": "2023-07-04T14:35:02.367165Z"
    },
    "code_folding": [
     0
    ],
    "tags": []
   },
   "outputs": [
    {
     "data": {
      "image/png": "[encoded data removed]",
      "text/plain": [
       "<Figure size 700x700 with 2 Axes>"
      ]
     },
     "metadata": {},
     "output_type": "display_data"
    }
   ],
   "source": [
    "fig = __plot_array_response(x, y, res_func);"
   ]
  },
  {
   "cell_type": "code",
   "execution_count": 15,
   "id": "95074e44",
   "metadata": {
    "ExecuteTime": {
     "end_time": "2023-07-04T14:35:06.137810Z",
     "start_time": "2023-07-04T14:35:05.729503Z"
    },
    "tags": []
   },
   "outputs": [
    {
     "name": "stdout",
     "output_type": "stream",
     "text": [
      "\n",
      "   -> saving /home/andbro/kilauea-data/BSPF/figures/PFO_array_response.png ...\n",
      "\n",
      "   -> Done\n",
      "\n"
     ]
    }
   ],
   "source": [
    "__savefig(fig, outpath=config3['output_figs'], outname=\"PFO_array_response\", mode=\"png\", dpi=300)"
   ]
  },
  {
   "cell_type": "code",
   "execution_count": null,
   "id": "745049ce",
   "metadata": {
    "ExecuteTime": {
     "end_time": "2023-07-04T14:33:02.422507Z",
     "start_time": "2023-07-04T14:33:02.417047Z"
    }
   },
   "outputs": [],
   "source": []
  },
  {
   "cell_type": "code",
   "execution_count": null,
   "id": "dfe1f8e9",
   "metadata": {},
   "outputs": [],
   "source": []
  },
  {
   "cell_type": "code",
   "execution_count": null,
   "id": "c368b06e-0880-4728-a200-56b293833a82",
   "metadata": {},
   "outputs": [],
   "source": []
  },
  {
   "cell_type": "code",
   "execution_count": null,
   "id": "fc486863-9a35-40b7-96df-d9dde4d1998f",
   "metadata": {},
   "outputs": [],
   "source": []
  }
 ],
 "metadata": {
  "kernelspec": {
   "display_name": "Python 3 (ipykernel)",
   "language": "python",
   "name": "python3"
  },
  "language_info": {
   "codemirror_mode": {
    "name": "ipython",
    "version": 3
   },
   "file_extension": ".py",
   "mimetype": "text/x-python",
   "name": "python",
   "nbconvert_exporter": "python",
   "pygments_lexer": "ipython3",
   "version": "3.9.16"
  },
  "latex_envs": {
   "LaTeX_envs_menu_present": true,
   "autoclose": false,
   "autocomplete": true,
   "bibliofile": "biblio.bib",
   "cite_by": "apalike",
   "current_citInitial": 1,
   "eqLabelWithNumbers": true,
   "eqNumInitial": 1,
   "hotkeys": {
    "equation": "Ctrl-E",
    "itemize": "Ctrl-I"
   },
   "labels_anchors": false,
   "latex_user_defs": false,
   "report_style_numbering": false,
   "user_envs_cfg": false
  },
  "toc": {
   "base_numbering": 1,
   "nav_menu": {},
   "number_sections": true,
   "sideBar": true,
   "skip_h1_title": false,
   "title_cell": "Table of Contents",
   "title_sidebar": "Contents",
   "toc_cell": false,
   "toc_position": {},
   "toc_section_display": true,
   "toc_window_display": false
  },
  "varInspector": {
   "cols": {
    "lenName": 16,
    "lenType": 16,
    "lenVar": 40
   },
   "kernels_config": {
    "python": {
     "delete_cmd_postfix": "",
     "delete_cmd_prefix": "del ",
     "library": "var_list.py",
     "varRefreshCmd": "print(var_dic_list())"
    },
    "r": {
     "delete_cmd_postfix": ") ",
     "delete_cmd_prefix": "rm(",
     "library": "var_list.r",
     "varRefreshCmd": "cat(var_dic_list()) "
    }
   },
   "types_to_exclude": [
    "module",
    "function",
    "builtin_function_or_method",
    "instance",
    "_Feature"
   ],
   "window_display": false
  }
 },
 "nbformat": 4,
 "nbformat_minor": 5
}
