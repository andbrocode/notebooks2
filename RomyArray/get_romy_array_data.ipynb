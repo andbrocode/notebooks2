{
 "cells": [
  {
   "cell_type": "markdown",
   "id": "874786b9",
   "metadata": {},
   "source": [
    "### Import libraries"
   ]
  },
  {
   "cell_type": "code",
   "execution_count": 2,
   "id": "ca581778",
   "metadata": {
    "tags": []
   },
   "outputs": [],
   "source": [
    "import os\n",
    "import obspy as obs\n",
    "import numpy as np\n",
    "import matplotlib.pyplot as plt\n",
    "\n",
    "from andbro__write_stream_to_sds import __write_stream_to_sds\n",
    "from andbro__querrySeismoData import __querrySeismoData\n"
   ]
  },
  {
   "cell_type": "code",
   "execution_count": 3,
   "id": "aeaa5cdf-67a5-4045-b825-0a6b4ce076f0",
   "metadata": {
    "tags": []
   },
   "outputs": [],
   "source": [
    "if os.uname().nodename == 'lighthouse':\n",
    "    root_path = '/home/andbro/'\n",
    "    data_path = '/home/andbro/kilauea-data/'\n",
    "    archive_path = '/home/andbro/freenas/'\n",
    "    bay_path = '/home/andbro/bay200/'\n",
    "elif os.uname().nodename == 'kilauea':\n",
    "    root_path = '/home/brotzer/'\n",
    "    data_path = '/import/kilauea-data/'\n",
    "    archive_path = '/import/freenas-ffb-01-data/'\n",
    "    bay_path = '/bay200/'\n",
    "elif os.uname().nodename == 'lin-ffb-01':\n",
    "    root_path = '/home/brotzer/'\n",
    "    data_path = '/import/kilauea-data/'\n",
    "    archive_path = '/import/freenas-ffb-01-data/'\n",
    "    bay_path = '/bay200/'"
   ]
  },
  {
   "cell_type": "code",
   "execution_count": 4,
   "id": "4501986c",
   "metadata": {
    "code_folding": [
     0
    ],
    "tags": []
   },
   "outputs": [],
   "source": [
    "def __get_stream(seed, tbeg, tend, repository=\"online\"):\n",
    "\n",
    "    st = obs.Stream()\n",
    "\n",
    "    invs = []\n",
    "\n",
    "    print(f\" -> loading {seed}...\")\n",
    "    try:\n",
    "        st0, inv0 = __querrySeismoData(\n",
    "                                    seed_id=seed,\n",
    "                                    starttime=tbeg-10,\n",
    "                                    endtime=tend+10,\n",
    "                                    repository=repository,\n",
    "                                    path=None,\n",
    "                                    restitute=False,\n",
    "                                    detail=None,\n",
    "                                    fill_value=None,\n",
    "                                    )\n",
    "\n",
    "        st0 = st0.remove_response(inv0, output=\"VEL\", water_level=60)\n",
    "\n",
    "        st0 = st0.rotate('->ZNE', inventory=inv0)\n",
    "\n",
    "        st0 = st0.trim(tbeg, tend)\n",
    "\n",
    "        if len(st0) != 0:\n",
    "            st += st0\n",
    "\n",
    "    except Exception as e:\n",
    "        print(e)\n",
    "        print(f\" -> failed to load data: {seed}\")\n",
    "\n",
    "    return st, invs"
   ]
  },
  {
   "cell_type": "markdown",
   "id": "8c86a449",
   "metadata": {},
   "source": [
    "### Configurations"
   ]
  },
  {
   "cell_type": "code",
   "execution_count": 11,
   "id": "2355dcbe",
   "metadata": {
    "tags": []
   },
   "outputs": [],
   "source": [
    "config = {}\n",
    "\n",
    "config['tbeg'] = obs.UTCDateTime(\"2024-03-11 12:00\")\n",
    "config['tend'] = obs.UTCDateTime(\"2024-03-11 18:00\")\n",
    "\n",
    "config['tbeg'] = obs.UTCDateTime(\"2023-03-10 00:00\")\n",
    "config['tend'] = obs.UTCDateTime(\"2023-03-11 00:00\")\n",
    "\n",
    "\n",
    "config['seeds'] = [\n",
    "                   # 'BW.GELB..HH*',\n",
    "                   # 'BW.GRMB..HH*',\n",
    "                   # 'BW.ALFT..HH*',\n",
    "                   # 'BW.BIB..HH*',\n",
    "                   # 'BW.TON..HH*',\n",
    "                   'BW.FFB1..HH*',\n",
    "                   'BW.FFB2..HH*',\n",
    "                   'BW.FFB3..HH*',\n",
    "                   'GR.FUR..HH*',\n",
    "]\n",
    "\n",
    "config['repository'] = \"jane\"\n",
    "\n",
    "# config['path_to_out_data'] = \"/home/andbro/Downloads/mseed/array/\"\n",
    "# config['path_to_out_data'] = data_path+\"VelocityChanges/data/mseed/array/\"\n",
    "config['path_to_out_data'] = archive_path+f\"ModalAnalysis/data/SDS/\"\n",
    "\n"
   ]
  },
  {
   "cell_type": "code",
   "execution_count": null,
   "id": "38aef50b",
   "metadata": {
    "tags": []
   },
   "outputs": [
    {
     "name": "stdout",
     "output_type": "stream",
     "text": [
      " -> loading BW.FFB1..HH*...\n"
     ]
    }
   ],
   "source": [
    "st00 = obs.Stream()\n",
    "\n",
    "for seed in config['seeds']:\n",
    "\n",
    "    try:\n",
    "        st0, inv0 = __get_stream(seed, config['tbeg'], config['tend'], repository=config['repository'])\n",
    "\n",
    "        st00 += st0\n",
    "\n",
    "        __write_stream_to_sds(st00, config['path_to_out_data'])\n",
    "\n",
    "        del st00, st0\n",
    "\n",
    "    except:\n",
    "        print(f\"-> Error: {seed}\")\n"
   ]
  },
  {
   "cell_type": "code",
   "execution_count": null,
   "id": "beafebec-5931-4457-9959-17f2c5207e37",
   "metadata": {
    "tags": []
   },
   "outputs": [],
   "source": [
    "# st.plot(equal_scale=False);"
   ]
  },
  {
   "cell_type": "code",
   "execution_count": null,
   "id": "1b7aabf2-2efe-4509-bce6-ef44d6e03e49",
   "metadata": {
    "tags": []
   },
   "outputs": [],
   "source": [
    "st = st00.copy()\n",
    "\n",
    "st = st.detrend(\"simple\")\n",
    "\n",
    "st = st.resample(100, no_filter=False)\n",
    "\n",
    "st = st.detrend(\"simple\")\n",
    "\n",
    "st = st.filter(\"highpass\", freq=0.01, corners=4, zerophase=True)\n",
    "\n",
    "st = st.trim(config['tbeg'], config['tend'], nearest_sample=False)\n",
    "\n",
    "st.plot(equal_scale=False);"
   ]
  },
  {
   "cell_type": "code",
   "execution_count": null,
   "id": "f613c361-792b-455e-9880-626c9c10a6eb",
   "metadata": {
    "tags": []
   },
   "outputs": [],
   "source": [
    "print(st.__str__(extended=True))"
   ]
  },
  {
   "cell_type": "code",
   "execution_count": 11,
   "id": "c3c45c6b-fe14-4a5c-a07a-b2de834df488",
   "metadata": {
    "tags": []
   },
   "outputs": [],
   "source": [
    "# force same starttime for FUR (for geopsy)\n",
    "for tr in st:\n",
    "    tr.stats.starttime = obs.UTCDateTime(\"2024-03-11T12:00:00.000000Z\")"
   ]
  },
  {
   "cell_type": "code",
   "execution_count": 12,
   "id": "4b8dfe8e-7b00-4364-8136-6cd06c7f0228",
   "metadata": {
    "tags": []
   },
   "outputs": [
    {
     "data": {
      "text/plain": [
       "12 Trace(s) in Stream:\n",
       "BW.FFB1..HHZ | 2024-03-11T12:00:00.000000Z - 2024-03-11T17:59:59.990000Z | 100.0 Hz, 2160000 samples\n",
       "BW.FFB1..HHN | 2024-03-11T12:00:00.000000Z - 2024-03-11T17:59:59.990000Z | 100.0 Hz, 2160000 samples\n",
       "BW.FFB1..HHE | 2024-03-11T12:00:00.000000Z - 2024-03-11T17:59:59.990000Z | 100.0 Hz, 2160000 samples\n",
       "BW.FFB2..HHZ | 2024-03-11T12:00:00.000000Z - 2024-03-11T17:59:59.990000Z | 100.0 Hz, 2160000 samples\n",
       "BW.FFB2..HHN | 2024-03-11T12:00:00.000000Z - 2024-03-11T17:59:59.990000Z | 100.0 Hz, 2160000 samples\n",
       "BW.FFB2..HHE | 2024-03-11T12:00:00.000000Z - 2024-03-11T17:59:59.990000Z | 100.0 Hz, 2160000 samples\n",
       "BW.FFB3..HHZ | 2024-03-11T12:00:00.000000Z - 2024-03-11T17:59:59.990000Z | 100.0 Hz, 2160000 samples\n",
       "BW.FFB3..HHN | 2024-03-11T12:00:00.000000Z - 2024-03-11T17:59:59.990000Z | 100.0 Hz, 2160000 samples\n",
       "BW.FFB3..HHE | 2024-03-11T12:00:00.000000Z - 2024-03-11T17:59:59.990000Z | 100.0 Hz, 2160000 samples\n",
       "GR.FUR..HHE  | 2024-03-11T12:00:00.000000Z - 2024-03-11T17:59:59.990000Z | 100.0 Hz, 2160000 samples\n",
       "GR.FUR..HHN  | 2024-03-11T12:00:00.000000Z - 2024-03-11T17:59:59.990000Z | 100.0 Hz, 2160000 samples\n",
       "GR.FUR..HHZ  | 2024-03-11T12:00:00.000000Z - 2024-03-11T17:59:59.990000Z | 100.0 Hz, 2160000 samples"
      ]
     },
     "execution_count": 12,
     "metadata": {},
     "output_type": "execute_result"
    }
   ],
   "source": [
    "st"
   ]
  },
  {
   "cell_type": "markdown",
   "id": "3e997b17-aafc-4df2-bc7b-42773fb758b4",
   "metadata": {},
   "source": [
    "## Write Data to Files"
   ]
  },
  {
   "cell_type": "code",
   "execution_count": 22,
   "id": "c1526660-d423-4386-9dae-28ca7e48d6fa",
   "metadata": {
    "tags": []
   },
   "outputs": [
    {
     "name": "stdout",
     "output_type": "stream",
     "text": [
      "creating: /import/kilauea-data/VelocityChanges/data/mseed/array/2024/\n",
      "creating: /import/kilauea-data/VelocityChanges/data/mseed/array/2024/BW/\n",
      "creating: /import/kilauea-data/VelocityChanges/data/mseed/array/2024/BW/FFB1/\n",
      "creating: /import/kilauea-data/VelocityChanges/data/mseed/array/2024/BW/FFB1/HHZ.D\n",
      "creating: /import/kilauea-data/VelocityChanges/data/mseed/array/2024/BW/FFB1/HHN.D\n",
      "creating: /import/kilauea-data/VelocityChanges/data/mseed/array/2024/BW/FFB1/HHE.D\n",
      "creating: /import/kilauea-data/VelocityChanges/data/mseed/array/2024/BW/FFB2/\n",
      "creating: /import/kilauea-data/VelocityChanges/data/mseed/array/2024/BW/FFB2/HHZ.D\n",
      "creating: /import/kilauea-data/VelocityChanges/data/mseed/array/2024/BW/FFB2/HHN.D\n",
      "creating: /import/kilauea-data/VelocityChanges/data/mseed/array/2024/BW/FFB2/HHE.D\n",
      "creating: /import/kilauea-data/VelocityChanges/data/mseed/array/2024/BW/FFB3/\n",
      "creating: /import/kilauea-data/VelocityChanges/data/mseed/array/2024/BW/FFB3/HHZ.D\n",
      "creating: /import/kilauea-data/VelocityChanges/data/mseed/array/2024/BW/FFB3/HHN.D\n",
      "creating: /import/kilauea-data/VelocityChanges/data/mseed/array/2024/BW/FFB3/HHE.D\n",
      "creating: /import/kilauea-data/VelocityChanges/data/mseed/array/2024/GR/\n",
      "creating: /import/kilauea-data/VelocityChanges/data/mseed/array/2024/GR/FUR/\n",
      "creating: /import/kilauea-data/VelocityChanges/data/mseed/array/2024/GR/FUR/HHE.D\n",
      "creating: /import/kilauea-data/VelocityChanges/data/mseed/array/2024/GR/FUR/HHN.D\n",
      "creating: /import/kilauea-data/VelocityChanges/data/mseed/array/2024/GR/FUR/HHZ.D\n",
      " -> stored stream as: 2024/BW/FFB1/HHZ.D/BW.FFB1..HHZ.D.2024.071\n"
     ]
    },
    {
     "name": "stderr",
     "output_type": "stream",
     "text": [
      "/home/brotzer/anaconda3/envs/obs2/lib/python3.9/site-packages/obspy/io/mseed/core.py:770: UserWarning: The encoding specified in trace.stats.mseed.encoding does not match the dtype of the data.\n",
      "A suitable encoding will be chosen.\n",
      "  warnings.warn(msg, UserWarning)\n"
     ]
    },
    {
     "name": "stdout",
     "output_type": "stream",
     "text": [
      " -> stored stream as: 2024/BW/FFB1/HHN.D/BW.FFB1..HHN.D.2024.071\n",
      " -> stored stream as: 2024/BW/FFB1/HHE.D/BW.FFB1..HHE.D.2024.071\n",
      " -> stored stream as: 2024/BW/FFB2/HHZ.D/BW.FFB2..HHZ.D.2024.071\n",
      " -> stored stream as: 2024/BW/FFB2/HHN.D/BW.FFB2..HHN.D.2024.071\n",
      " -> stored stream as: 2024/BW/FFB2/HHE.D/BW.FFB2..HHE.D.2024.071\n",
      " -> stored stream as: 2024/BW/FFB3/HHZ.D/BW.FFB3..HHZ.D.2024.071\n",
      " -> stored stream as: 2024/BW/FFB3/HHN.D/BW.FFB3..HHN.D.2024.071\n",
      " -> stored stream as: 2024/BW/FFB3/HHE.D/BW.FFB3..HHE.D.2024.071\n",
      " -> stored stream as: 2024/GR/FUR/HHE.D/GR.FUR..HHE.D.2024.071\n",
      " -> stored stream as: 2024/GR/FUR/HHN.D/GR.FUR..HHN.D.2024.071\n",
      " -> stored stream as: 2024/GR/FUR/HHZ.D/GR.FUR..HHZ.D.2024.071\n"
     ]
    }
   ],
   "source": [
    "__write_stream_to_sds(st, config['path_to_out_data'])"
   ]
  },
  {
   "cell_type": "code",
   "execution_count": null,
   "id": "30a591c1-de79-471d-bf2e-143759d507f6",
   "metadata": {},
   "outputs": [],
   "source": []
  }
 ],
 "metadata": {
  "kernelspec": {
   "display_name": "Python 3 (ipykernel)",
   "language": "python",
   "name": "python3"
  },
  "language_info": {
   "codemirror_mode": {
    "name": "ipython",
    "version": 3
   },
   "file_extension": ".py",
   "mimetype": "text/x-python",
   "name": "python",
   "nbconvert_exporter": "python",
   "pygments_lexer": "ipython3",
   "version": "3.9.16"
  }
 },
 "nbformat": 4,
 "nbformat_minor": 5
}
