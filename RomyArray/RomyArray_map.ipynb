{
 "cells": [
  {
   "cell_type": "markdown",
   "metadata": {},
   "source": [
    "## ROMY Array - Map"
   ]
  },
  {
   "cell_type": "markdown",
   "metadata": {},
   "source": [
    "### Importing"
   ]
  },
  {
   "cell_type": "code",
   "execution_count": 1,
   "metadata": {
    "ExecuteTime": {
     "end_time": "2023-05-12T10:06:53.364605Z",
     "start_time": "2023-05-12T10:06:53.357330Z"
    },
    "tags": []
   },
   "outputs": [],
   "source": [
    "import os\n",
    "import subprocess\n",
    "import numpy as np\n",
    "import matplotlib.pyplot as plt\n",
    "import obspy\n",
    "import pandas as pd\n",
    "\n",
    "from obspy.clients.fdsn import Client, RoutingClient\n",
    "from obspy.signal.array_analysis import array_transff_wavenumber\n",
    "from obspy.imaging.cm import obspy_sequential\n",
    "from obspy.geodetics import locations2degrees\n",
    "\n",
    "from andbro__querrySeismoData import __querrySeismoData\n",
    "\n"
   ]
  },
  {
   "cell_type": "code",
   "execution_count": 2,
   "metadata": {
    "tags": []
   },
   "outputs": [],
   "source": [
    "if os.uname().nodename == 'lighthouse':\n",
    "    root_path = '/home/andbro/'\n",
    "    data_path = '/home/andbro/kilauea-data/'\n",
    "    archive_path = '/home/andbro/freenas/'\n",
    "    bay_path = '/home/andbro/bay200/'\n",
    "elif os.uname().nodename == 'kilauea':\n",
    "    root_path = '/home/brotzer/'\n",
    "    data_path = '/import/kilauea-data/'\n",
    "    archive_path = '/import/freenas-ffb-01-data/'\n",
    "    bay_path = '/bay200/'\n",
    "elif os.uname().nodename == 'lin-ffb-01':\n",
    "    root_path = '/home/brotzer/'\n",
    "    data_path = '/import/kilauea-data/'\n",
    "    archive_path = '/import/freenas-ffb-01-data/'\n",
    "    bay_path = '/bay200/'"
   ]
  },
  {
   "cell_type": "code",
   "execution_count": 3,
   "metadata": {
    "tags": []
   },
   "outputs": [],
   "source": [
    "from functions.read_DEM import __read_DEM\n",
    "from functions.array_latlon_to_xyz import __array_latlon_to_xyz"
   ]
  },
  {
   "cell_type": "markdown",
   "metadata": {},
   "source": [
    "### Setting Variables"
   ]
  },
  {
   "cell_type": "code",
   "execution_count": 4,
   "metadata": {
    "ExecuteTime": {
     "end_time": "2023-05-11T17:08:36.465601Z",
     "start_time": "2023-05-11T17:08:36.459847Z"
    },
    "code_folding": [],
    "tags": []
   },
   "outputs": [],
   "source": [
    "config = {}\n",
    "\n",
    "config['klim'] = 50.\n",
    "config['kstep'] = config['klim'] / 100.\n",
    "\n",
    "config['tbeg'] = obspy.UTCDateTime(\"2024-03-13 12:00\")\n",
    "config['tend'] = obspy.UTCDateTime(\"2024-03-13 18:00\")\n",
    "\n",
    "\n",
    "config['seeds'] = [\n",
    "                   'BW.GELB..HH*',\n",
    "                   'BW.GRMB..HH*',\n",
    "                   'BW.ALFT..HH*',\n",
    "                   'BW.BIB..HH*',\n",
    "                   'BW.TON..HH*',\n",
    "                   'BW.FFB1..HH*',\n",
    "                   'BW.FFB2..HH*',\n",
    "                   'BW.FFB3..HH*',\n",
    "                   'BW.DROMY..HH*',\n",
    "                   'GR.FUR..HH*',\n",
    "]\n",
    "\n",
    "config['fmin'] = 0.001\n",
    "config['fmax'] = 0.2\n",
    "\n",
    "\n",
    "config['ref_station'] = 'BW.DROMY..HH*'\n",
    "\n",
    "config['client'] = RoutingClient(\"eida-routing\")"
   ]
  },
  {
   "cell_type": "markdown",
   "metadata": {},
   "source": [
    "### Defining Methods"
   ]
  },
  {
   "cell_type": "code",
   "execution_count": 5,
   "metadata": {
    "tags": []
   },
   "outputs": [],
   "source": [
    "def __get_array_stations(seeds, tbeg, tend):\n",
    "\n",
    "    route =  RoutingClient(\"eida-routing\")\n",
    "\n",
    "    for _i, seed in enumerate(seeds):\n",
    "\n",
    "        net, sta, loc, cha = seed.split(\".\")\n",
    "\n",
    "\n",
    "        inv =route.get_stations(\n",
    "                                network=net,\n",
    "                                station=sta,\n",
    "                                channel=cha,\n",
    "                                starttime=tbeg,\n",
    "                                endtime=tend,\n",
    "                                # latitude=ref_coords[0],\n",
    "                                # longitude=ref_coords[1],\n",
    "                                # minradius=0,\n",
    "                                # maxradius=max_radius,\n",
    "                            )\n",
    "        if _i == 0:\n",
    "            invs = inv\n",
    "        else:\n",
    "            invs += inv\n",
    "\n",
    "    # inv_check.plot(projection=\"local\");\n",
    "\n",
    "    codes, lon, lat, elev = [], [], [], []\n",
    "    for h, network in enumerate(invs):\n",
    "        for i, station in enumerate(network):\n",
    "\n",
    "            codes.append(f'{invs[h].code}.{station.code}')\n",
    "            lon.append(station.longitude)\n",
    "            lat.append(station.latitude)\n",
    "            elev.append(station.elevation/1000.)\n",
    "\n",
    "    # create dataframe\n",
    "    frame = pd.DataFrame({'codes': codes, 'lon': lon, 'lat': lat, 'elev': elev})\n",
    "\n",
    "    # sort the dataframe\n",
    "    frame.sort_values(by=\"codes\", inplace=True)\n",
    "\n",
    "    return frame"
   ]
  },
  {
   "cell_type": "code",
   "execution_count": 6,
   "metadata": {
    "tags": []
   },
   "outputs": [],
   "source": [
    "array_stations = __get_array_stations(config['seeds'], config['tbeg'], config['tend'])"
   ]
  },
  {
   "cell_type": "code",
   "execution_count": 7,
   "metadata": {
    "tags": []
   },
   "outputs": [
    {
     "data": {
      "text/html": [
       "<div>\n",
       "<style scoped>\n",
       "    .dataframe tbody tr th:only-of-type {\n",
       "        vertical-align: middle;\n",
       "    }\n",
       "\n",
       "    .dataframe tbody tr th {\n",
       "        vertical-align: top;\n",
       "    }\n",
       "\n",
       "    .dataframe thead th {\n",
       "        text-align: right;\n",
       "    }\n",
       "</style>\n",
       "<table border=\"1\" class=\"dataframe\">\n",
       "  <thead>\n",
       "    <tr style=\"text-align: right;\">\n",
       "      <th></th>\n",
       "      <th>codes</th>\n",
       "      <th>lon</th>\n",
       "      <th>lat</th>\n",
       "      <th>elev</th>\n",
       "    </tr>\n",
       "  </thead>\n",
       "  <tbody>\n",
       "    <tr>\n",
       "      <th>2</th>\n",
       "      <td>BW.ALFT</td>\n",
       "      <td>11.279500</td>\n",
       "      <td>48.142334</td>\n",
       "      <td>0.593</td>\n",
       "    </tr>\n",
       "    <tr>\n",
       "      <th>3</th>\n",
       "      <td>BW.BIB</td>\n",
       "      <td>11.247300</td>\n",
       "      <td>48.152200</td>\n",
       "      <td>0.599</td>\n",
       "    </tr>\n",
       "    <tr>\n",
       "      <th>8</th>\n",
       "      <td>BW.DROMY</td>\n",
       "      <td>11.275476</td>\n",
       "      <td>48.162941</td>\n",
       "      <td>0.571</td>\n",
       "    </tr>\n",
       "    <tr>\n",
       "      <th>5</th>\n",
       "      <td>BW.FFB1</td>\n",
       "      <td>11.275065</td>\n",
       "      <td>48.162904</td>\n",
       "      <td>0.572</td>\n",
       "    </tr>\n",
       "    <tr>\n",
       "      <th>6</th>\n",
       "      <td>BW.FFB2</td>\n",
       "      <td>11.273684</td>\n",
       "      <td>48.164357</td>\n",
       "      <td>0.577</td>\n",
       "    </tr>\n",
       "    <tr>\n",
       "      <th>7</th>\n",
       "      <td>BW.FFB3</td>\n",
       "      <td>11.276289</td>\n",
       "      <td>48.164883</td>\n",
       "      <td>0.562</td>\n",
       "    </tr>\n",
       "    <tr>\n",
       "      <th>0</th>\n",
       "      <td>BW.GELB</td>\n",
       "      <td>11.251400</td>\n",
       "      <td>48.162900</td>\n",
       "      <td>0.628</td>\n",
       "    </tr>\n",
       "    <tr>\n",
       "      <th>1</th>\n",
       "      <td>BW.GRMB</td>\n",
       "      <td>11.263500</td>\n",
       "      <td>48.140600</td>\n",
       "      <td>0.656</td>\n",
       "    </tr>\n",
       "    <tr>\n",
       "      <th>4</th>\n",
       "      <td>BW.TON</td>\n",
       "      <td>11.288809</td>\n",
       "      <td>48.173897</td>\n",
       "      <td>0.564</td>\n",
       "    </tr>\n",
       "    <tr>\n",
       "      <th>9</th>\n",
       "      <td>GR.FUR</td>\n",
       "      <td>11.276800</td>\n",
       "      <td>48.163900</td>\n",
       "      <td>0.565</td>\n",
       "    </tr>\n",
       "  </tbody>\n",
       "</table>\n",
       "</div>"
      ],
      "text/plain": [
       "      codes        lon        lat   elev\n",
       "2   BW.ALFT  11.279500  48.142334  0.593\n",
       "3    BW.BIB  11.247300  48.152200  0.599\n",
       "8  BW.DROMY  11.275476  48.162941  0.571\n",
       "5   BW.FFB1  11.275065  48.162904  0.572\n",
       "6   BW.FFB2  11.273684  48.164357  0.577\n",
       "7   BW.FFB3  11.276289  48.164883  0.562\n",
       "0   BW.GELB  11.251400  48.162900  0.628\n",
       "1   BW.GRMB  11.263500  48.140600  0.656\n",
       "4    BW.TON  11.288809  48.173897  0.564\n",
       "9    GR.FUR  11.276800  48.163900  0.565"
      ]
     },
     "execution_count": 7,
     "metadata": {},
     "output_type": "execute_result"
    }
   ],
   "source": [
    "array_stations"
   ]
  },
  {
   "cell_type": "markdown",
   "metadata": {
    "ExecuteTime": {
     "end_time": "2023-05-11T17:08:36.491317Z",
     "start_time": "2023-05-11T17:08:36.481949Z"
    },
    "code_folding": [
     1
    ]
   },
   "source": [
    "### Add xyz and UTM"
   ]
  },
  {
   "cell_type": "code",
   "execution_count": 9,
   "metadata": {
    "tags": []
   },
   "outputs": [],
   "source": [
    "array_stations = __array_latlon_to_xyz(array_stations, ref_station=\"BW.FFB1..BHZ\")"
   ]
  },
  {
   "cell_type": "code",
   "execution_count": 10,
   "metadata": {
    "tags": []
   },
   "outputs": [
    {
     "data": {
      "text/html": [
       "<div>\n",
       "<style scoped>\n",
       "    .dataframe tbody tr th:only-of-type {\n",
       "        vertical-align: middle;\n",
       "    }\n",
       "\n",
       "    .dataframe tbody tr th {\n",
       "        vertical-align: top;\n",
       "    }\n",
       "\n",
       "    .dataframe thead th {\n",
       "        text-align: right;\n",
       "    }\n",
       "</style>\n",
       "<table border=\"1\" class=\"dataframe\">\n",
       "  <thead>\n",
       "    <tr style=\"text-align: right;\">\n",
       "      <th></th>\n",
       "      <th>codes</th>\n",
       "      <th>lon</th>\n",
       "      <th>lat</th>\n",
       "      <th>elev</th>\n",
       "      <th>x_m</th>\n",
       "      <th>y_m</th>\n",
       "      <th>z_m</th>\n",
       "      <th>utm_n</th>\n",
       "      <th>utm_e</th>\n",
       "      <th>utm_zone</th>\n",
       "      <th>utm_letter</th>\n",
       "    </tr>\n",
       "  </thead>\n",
       "  <tbody>\n",
       "    <tr>\n",
       "      <th>2</th>\n",
       "      <td>BW.ALFT</td>\n",
       "      <td>11.279500</td>\n",
       "      <td>48.142334</td>\n",
       "      <td>0.593</td>\n",
       "      <td>397.55</td>\n",
       "      <td>-2276.36</td>\n",
       "      <td>21.0</td>\n",
       "      <td>5.334633e+06</td>\n",
       "      <td>669567.346291</td>\n",
       "      <td>32.0</td>\n",
       "      <td>U</td>\n",
       "    </tr>\n",
       "    <tr>\n",
       "      <th>3</th>\n",
       "      <td>BW.BIB</td>\n",
       "      <td>11.247300</td>\n",
       "      <td>48.152200</td>\n",
       "      <td>0.599</td>\n",
       "      <td>-2029.66</td>\n",
       "      <td>-1250.37</td>\n",
       "      <td>27.0</td>\n",
       "      <td>5.335659e+06</td>\n",
       "      <td>667140.137071</td>\n",
       "      <td>32.0</td>\n",
       "      <td>U</td>\n",
       "    </tr>\n",
       "    <tr>\n",
       "      <th>8</th>\n",
       "      <td>BW.DROMY</td>\n",
       "      <td>11.275476</td>\n",
       "      <td>48.162941</td>\n",
       "      <td>0.571</td>\n",
       "      <td>30.44</td>\n",
       "      <td>5.02</td>\n",
       "      <td>-1.0</td>\n",
       "      <td>5.336915e+06</td>\n",
       "      <td>669200.235012</td>\n",
       "      <td>32.0</td>\n",
       "      <td>U</td>\n",
       "    </tr>\n",
       "    <tr>\n",
       "      <th>5</th>\n",
       "      <td>BW.FFB1</td>\n",
       "      <td>11.275065</td>\n",
       "      <td>48.162904</td>\n",
       "      <td>0.572</td>\n",
       "      <td>0.00</td>\n",
       "      <td>0.00</td>\n",
       "      <td>0.0</td>\n",
       "      <td>5.336910e+06</td>\n",
       "      <td>669169.797278</td>\n",
       "      <td>32.0</td>\n",
       "      <td>U</td>\n",
       "    </tr>\n",
       "    <tr>\n",
       "      <th>6</th>\n",
       "      <td>BW.FFB2</td>\n",
       "      <td>11.273684</td>\n",
       "      <td>48.164357</td>\n",
       "      <td>0.577</td>\n",
       "      <td>-107.46</td>\n",
       "      <td>158.45</td>\n",
       "      <td>5.0</td>\n",
       "      <td>5.337068e+06</td>\n",
       "      <td>669062.337441</td>\n",
       "      <td>32.0</td>\n",
       "      <td>U</td>\n",
       "    </tr>\n",
       "    <tr>\n",
       "      <th>7</th>\n",
       "      <td>BW.FFB3</td>\n",
       "      <td>11.276289</td>\n",
       "      <td>48.164883</td>\n",
       "      <td>0.562</td>\n",
       "      <td>84.50</td>\n",
       "      <td>222.64</td>\n",
       "      <td>-10.0</td>\n",
       "      <td>5.337132e+06</td>\n",
       "      <td>669254.292671</td>\n",
       "      <td>32.0</td>\n",
       "      <td>U</td>\n",
       "    </tr>\n",
       "    <tr>\n",
       "      <th>0</th>\n",
       "      <td>BW.GELB</td>\n",
       "      <td>11.251400</td>\n",
       "      <td>48.162900</td>\n",
       "      <td>0.628</td>\n",
       "      <td>-1759.57</td>\n",
       "      <td>-52.26</td>\n",
       "      <td>56.0</td>\n",
       "      <td>5.336857e+06</td>\n",
       "      <td>667410.222437</td>\n",
       "      <td>32.0</td>\n",
       "      <td>U</td>\n",
       "    </tr>\n",
       "    <tr>\n",
       "      <th>1</th>\n",
       "      <td>BW.GRMB</td>\n",
       "      <td>11.263500</td>\n",
       "      <td>48.140600</td>\n",
       "      <td>0.656</td>\n",
       "      <td>-786.92</td>\n",
       "      <td>-2504.24</td>\n",
       "      <td>84.0</td>\n",
       "      <td>5.334405e+06</td>\n",
       "      <td>668382.879818</td>\n",
       "      <td>32.0</td>\n",
       "      <td>U</td>\n",
       "    </tr>\n",
       "    <tr>\n",
       "      <th>4</th>\n",
       "      <td>BW.TON</td>\n",
       "      <td>11.288809</td>\n",
       "      <td>48.173897</td>\n",
       "      <td>0.564</td>\n",
       "      <td>985.54</td>\n",
       "      <td>1252.10</td>\n",
       "      <td>-8.0</td>\n",
       "      <td>5.338162e+06</td>\n",
       "      <td>670155.332442</td>\n",
       "      <td>32.0</td>\n",
       "      <td>U</td>\n",
       "    </tr>\n",
       "    <tr>\n",
       "      <th>9</th>\n",
       "      <td>GR.FUR</td>\n",
       "      <td>11.276800</td>\n",
       "      <td>48.163900</td>\n",
       "      <td>0.565</td>\n",
       "      <td>125.73</td>\n",
       "      <td>114.51</td>\n",
       "      <td>-7.0</td>\n",
       "      <td>5.337024e+06</td>\n",
       "      <td>669295.522351</td>\n",
       "      <td>32.0</td>\n",
       "      <td>U</td>\n",
       "    </tr>\n",
       "  </tbody>\n",
       "</table>\n",
       "</div>"
      ],
      "text/plain": [
       "      codes        lon        lat   elev      x_m      y_m   z_m  \\\n",
       "2   BW.ALFT  11.279500  48.142334  0.593   397.55 -2276.36  21.0   \n",
       "3    BW.BIB  11.247300  48.152200  0.599 -2029.66 -1250.37  27.0   \n",
       "8  BW.DROMY  11.275476  48.162941  0.571    30.44     5.02  -1.0   \n",
       "5   BW.FFB1  11.275065  48.162904  0.572     0.00     0.00   0.0   \n",
       "6   BW.FFB2  11.273684  48.164357  0.577  -107.46   158.45   5.0   \n",
       "7   BW.FFB3  11.276289  48.164883  0.562    84.50   222.64 -10.0   \n",
       "0   BW.GELB  11.251400  48.162900  0.628 -1759.57   -52.26  56.0   \n",
       "1   BW.GRMB  11.263500  48.140600  0.656  -786.92 -2504.24  84.0   \n",
       "4    BW.TON  11.288809  48.173897  0.564   985.54  1252.10  -8.0   \n",
       "9    GR.FUR  11.276800  48.163900  0.565   125.73   114.51  -7.0   \n",
       "\n",
       "          utm_n          utm_e  utm_zone utm_letter  \n",
       "2  5.334633e+06  669567.346291      32.0          U  \n",
       "3  5.335659e+06  667140.137071      32.0          U  \n",
       "8  5.336915e+06  669200.235012      32.0          U  \n",
       "5  5.336910e+06  669169.797278      32.0          U  \n",
       "6  5.337068e+06  669062.337441      32.0          U  \n",
       "7  5.337132e+06  669254.292671      32.0          U  \n",
       "0  5.336857e+06  667410.222437      32.0          U  \n",
       "1  5.334405e+06  668382.879818      32.0          U  \n",
       "4  5.338162e+06  670155.332442      32.0          U  \n",
       "9  5.337024e+06  669295.522351      32.0          U  "
      ]
     },
     "execution_count": 10,
     "metadata": {},
     "output_type": "execute_result"
    }
   ],
   "source": [
    "array_stations"
   ]
  },
  {
   "cell_type": "markdown",
   "metadata": {},
   "source": [
    "## Compute station distance"
   ]
  },
  {
   "cell_type": "code",
   "execution_count": null,
   "metadata": {},
   "outputs": [],
   "source": [
    "from functions.calculate_distance_of_stations import __calculate_distance_of_stations"
   ]
  },
  {
   "cell_type": "code",
   "execution_count": null,
   "metadata": {
    "ExecuteTime": {
     "end_time": "2023-05-11T17:08:36.500170Z",
     "start_time": "2023-05-11T17:08:36.493306Z"
    },
    "code_folding": [
     1
    ]
   },
   "outputs": [],
   "source": [
    "distances = __calculate_distance_of_stations(array_stations, output=\"km\", ref_station=config['ref_station'])\n",
    "distances"
   ]
  },
  {
   "cell_type": "code",
   "execution_count": null,
   "metadata": {
    "tags": []
   },
   "outputs": [],
   "source": [
    "cross_distances = __calculate_distance_of_stations(array_stations, output=\"km\", ref_station=None)\n",
    "cross_distances"
   ]
  },
  {
   "cell_type": "markdown",
   "metadata": {},
   "source": [
    "### Calulcate Distances, Plot Array Geometry and Response"
   ]
  },
  {
   "cell_type": "code",
   "execution_count": null,
   "metadata": {
    "ExecuteTime": {
     "end_time": "2023-05-11T17:08:36.478850Z",
     "start_time": "2023-05-11T17:08:36.467049Z"
    },
    "code_folding": []
   },
   "outputs": [],
   "source": [
    "def __plot_array_geometry_and_response(array, transff, klim, kstep, names=None, unit=None):\n",
    "\n",
    "    import numpy as np\n",
    "\n",
    "    # calulcate geometrical center of array\n",
    "    array_center = [np.median(array[:, 0]), np.median(array[:, 1])]\n",
    "\n",
    "    # find geometrical limits of array\n",
    "    lon_min, lon_max = np.min(array[:, 0]), np.max(array[:, 0])\n",
    "    lat_min, lat_max = np.min(array[:, 1]), np.max(array[:, 1])\n",
    "\n",
    "    # define bounds\n",
    "    kxmin, kxmax, kymin, kymax = -klim, klim, -klim, klim\n",
    "\n",
    "\n",
    "    # _________________________________________________________\n",
    "    #\n",
    "    fig, axes = plt.subplots(1,2, figsize=(16,6))\n",
    "\n",
    "    fs=12\n",
    "\n",
    "    if unit == \"km\":\n",
    "        xdata = (array[:, 0]-array_center[0])*111.\n",
    "        ydata = (array[:, 1]-array_center[1])*111. * np.cos(array[:,1]/180.*np.pi)\n",
    "        x0, y0 = array_center[0]*111., array_center[1]*111. * np.cos(array[1]/180.*np.pi)\n",
    "\n",
    "    elif unit == \"deg\":\n",
    "        xdata = array[:, 0]\n",
    "        ydata = array[:, 1]\n",
    "        x0, y0 = array_center[0], array_center[1]\n",
    "\n",
    "    # ________________________________________________\n",
    "    axes[0].scatter(xdata, ydata, s=35, color='black', marker='v', zorder=3)\n",
    "    axes[0].scatter(x0, y0, color='red', marker='o', s=25, zorder=2)\n",
    "\n",
    "    if unit == \"km\" or unit is None:\n",
    "        axes[0].set_xlabel('X (km)', fontsize=fs)\n",
    "        axes[0].set_ylabel('Y (km)', fontsize=fs)\n",
    "\n",
    "        axes[0].set_ylim([-max(abs(ydata))*0.99, max(abs(ydata))*1.01])\n",
    "        axes[0].set_xlim([-max(abs(xdata))*0.99, max(abs(xdata))*1.01])\n",
    "\n",
    "    elif unit == \"deg\":\n",
    "        axes[0].set_xlabel('Longitude (°)', fontsize=fs)\n",
    "        axes[0].set_ylabel('Latitude (°)', fontsize=fs)\n",
    "\n",
    "        axes[0].set_ylim([min(abs(ydata))*0.9999, max(abs(ydata))*1.0001])\n",
    "        axes[0].set_xlim([min(abs(xdata))*0.999, max(abs(xdata))*1.001])\n",
    "\n",
    "    axes[0].set_title('Array Stations', fontsize=fs+2)\n",
    "\n",
    "    for x, y, s in zip(xdata, ydata, list(names)):\n",
    "        axes[0].text(x, y, s, ha=\"right\", va=\"top\")\n",
    "\n",
    "    # ________________________________________________\n",
    "    ax2 = axes[1].pcolor(np.arange(kxmin, kxmax + kstep * 1.1, kstep) - kstep / 2.,\n",
    "                         np.arange(kymin, kymax + kstep * 1.1, kstep) - kstep / 2.,\n",
    "                         transff.T, cmap=obspy_sequential,\n",
    "                        )\n",
    "\n",
    "    plt.colorbar(ax2, ax=axes[:])\n",
    "    ax2.set_clim(0., 1.)\n",
    "\n",
    "    axes[1].set_xlim(kxmin, kxmax)\n",
    "    axes[1].set_ylim(kymin, kymax)\n",
    "    axes[1].set_xlabel('wave number (m$^{-1}$)', fontsize=fs)\n",
    "    axes[1].set_ylabel('wave number (m$^{-1}$)', fontsize=fs)\n",
    "    axes[1].set_title('Array Response Function', fontsize=fs+2)\n",
    "\n",
    "    plt.show();"
   ]
  },
  {
   "cell_type": "code",
   "execution_count": null,
   "metadata": {
    "ExecuteTime": {
     "end_time": "2023-05-11T17:10:00.656542Z",
     "start_time": "2023-05-11T17:09:59.984535Z"
    },
    "code_folding": []
   },
   "outputs": [],
   "source": [
    "# get maximal distance\n",
    "dist_max = max(distances.values())\n",
    "\n",
    "lambda_min = 1*dist_max # in km\n",
    "\n",
    "config['k_max'] = 2*np.pi/lambda_min\n",
    "config['k_step'] = config['k_max'] / 100.\n",
    "\n",
    "coordinates = np.column_stack([array_stations.lon, array_stations.lat, array_stations.elev])\n",
    "\n",
    "# compute transfer function as a function of wavenumber difference\n",
    "transff = array_transff_wavenumber(coordinates,\n",
    "                                   config['k_max'],\n",
    "                                   config['k_step'],\n",
    "                                   coordsys='lonlat'\n",
    "                                   )\n",
    "\n",
    "\n",
    "__plot_array_geometry_and_response(coordinates,\n",
    "                                   transff,\n",
    "                                   config['k_max'],\n",
    "                                   config['k_step'],\n",
    "                                   array_stations.codes,\n",
    "                                   unit=\"deg\",\n",
    "                                  )\n"
   ]
  },
  {
   "cell_type": "code",
   "execution_count": null,
   "metadata": {},
   "outputs": [],
   "source": []
  }
 ],
 "metadata": {
  "kernelspec": {
   "display_name": "Python 3 (ipykernel)",
   "language": "python",
   "name": "python3"
  },
  "language_info": {
   "codemirror_mode": {
    "name": "ipython",
    "version": 3
   },
   "file_extension": ".py",
   "mimetype": "text/x-python",
   "name": "python",
   "nbconvert_exporter": "python",
   "pygments_lexer": "ipython3",
   "version": "3.9.16"
  },
  "toc": {
   "base_numbering": 1,
   "nav_menu": {},
   "number_sections": true,
   "sideBar": true,
   "skip_h1_title": false,
   "title_cell": "Table of Contents",
   "title_sidebar": "Contents",
   "toc_cell": false,
   "toc_position": {},
   "toc_section_display": true,
   "toc_window_display": false
  },
  "varInspector": {
   "cols": {
    "lenName": 16,
    "lenType": 16,
    "lenVar": 40
   },
   "kernels_config": {
    "python": {
     "delete_cmd_postfix": "",
     "delete_cmd_prefix": "del ",
     "library": "var_list.py",
     "varRefreshCmd": "print(var_dic_list())"
    },
    "r": {
     "delete_cmd_postfix": ") ",
     "delete_cmd_prefix": "rm(",
     "library": "var_list.r",
     "varRefreshCmd": "cat(var_dic_list()) "
    }
   },
   "types_to_exclude": [
    "module",
    "function",
    "builtin_function_or_method",
    "instance",
    "_Feature"
   ],
   "window_display": false
  }
 },
 "nbformat": 4,
 "nbformat_minor": 4
}
