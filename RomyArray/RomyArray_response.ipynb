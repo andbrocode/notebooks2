{
 "cells": [
  {
   "cell_type": "markdown",
   "id": "eb0eb2ff",
   "metadata": {},
   "source": [
    "# Plot Maps of ROMY Array"
   ]
  },
  {
   "cell_type": "markdown",
   "id": "de0e247f",
   "metadata": {},
   "source": [
    "## Imports"
   ]
  },
  {
   "cell_type": "code",
   "execution_count": 1,
   "id": "baa19e4c-421d-43d9-a4fb-75156da6b344",
   "metadata": {
    "ExecuteTime": {
     "end_time": "2023-08-02T14:18:32.991856Z",
     "start_time": "2023-08-02T14:18:32.103602Z"
    },
    "tags": []
   },
   "outputs": [],
   "source": [
    "from obspy import UTCDateTime\n",
    "from obspy.clients import fdsn\n",
    "from matplotlib.colorbar import ColorbarBase\n",
    "from matplotlib.colors import Normalize\n",
    "from obspy.geodetics.base import gps2dist_azimuth\n",
    "from obspy.geodetics import locations2degrees\n",
    "from obspy.clients.fdsn    import Client, RoutingClient\n",
    "from obspy.signal.rotate import rotate2zne\n",
    "from andbro__savefig import __savefig\n",
    "\n",
    "import os\n",
    "import obspy.signal.array_analysis as AA\n",
    "import matplotlib.pyplot  as plt\n",
    "import numpy as np"
   ]
  },
  {
   "cell_type": "code",
   "execution_count": 2,
   "id": "247a1d5f-fd5e-47d2-ba07-1e9a65775a22",
   "metadata": {
    "ExecuteTime": {
     "end_time": "2023-08-02T14:18:32.991856Z",
     "start_time": "2023-08-02T14:18:32.103602Z"
    },
    "tags": []
   },
   "outputs": [],
   "source": [
    "import warnings\n",
    "warnings.filterwarnings('ignore')"
   ]
  },
  {
   "cell_type": "code",
   "execution_count": 3,
   "id": "325f56a8",
   "metadata": {
    "ExecuteTime": {
     "end_time": "2023-08-02T14:18:34.806796Z",
     "start_time": "2023-08-02T14:18:34.801404Z"
    },
    "tags": []
   },
   "outputs": [],
   "source": [
    "if os.uname().nodename == 'lighthouse':\n",
    "    root_path = '/home/andbro/'\n",
    "    data_path = '/home/andbro/kilauea-data/'\n",
    "    archive_path = '/home/andbro/freenas/'\n",
    "    bay_path = '/home/andbro/ontap-ffb-bay200/'\n",
    "    lamont_path = '/home/andbro/lamont/'\n",
    "elif os.uname().nodename == 'kilauea':\n",
    "    root_path = '/home/brotzer/'\n",
    "    data_path = '/import/kilauea-data/'\n",
    "    archive_path = '/import/freenas-ffb-01-data/'\n",
    "    bay_path = '/import/ontap-ffb-bay200/'\n",
    "    lamont_path = '/lamont/'\n",
    "elif os.uname().nodename in ['lin-ffb-01', 'ambrym', 'hochfelln']:\n",
    "    root_path = '/home/brotzer/'\n",
    "    data_path = '/import/kilauea-data/'\n",
    "    archive_path = '/import/freenas-ffb-01-data/'\n",
    "    bay_path = '/import/ontap-ffb-bay200/'\n",
    "    lamont_path = '/lamont/'"
   ]
  },
  {
   "cell_type": "code",
   "execution_count": 102,
   "id": "3c429cae",
   "metadata": {
    "ExecuteTime": {
     "end_time": "2023-08-02T14:18:35.436167Z",
     "start_time": "2023-08-02T14:18:35.427542Z"
    },
    "code_folding": [
     0
    ],
    "tags": []
   },
   "outputs": [],
   "source": [
    "def __get_coordinates(config, unit=\"degree\"):\n",
    "\n",
    "    from obspy.signal.util import util_geo_km\n",
    "\n",
    "    coords = {}\n",
    "    for i, station in enumerate(config['subarray_stations']):\n",
    "\n",
    "        net, sta = station.split(\".\")\n",
    "\n",
    "        inven = config['fdsn_client'][net].get_stations(network=net,\n",
    "                                                        station=sta,\n",
    "                                                        channel='BHZ',\n",
    "                                                        starttime=config['starttime'],\n",
    "                                                        endtime=config['starttime']+86400,\n",
    "                                                        level='response'\n",
    "                                                       )\n",
    "\n",
    "        # extract coordinates\n",
    "        l_lon = float(inven.get_coordinates('%s.%s..BHZ'%(net,sta))['longitude'])\n",
    "        l_lat = float(inven.get_coordinates('%s.%s..BHZ'%(net,sta))['latitude'])\n",
    "        height = float(inven.get_coordinates('%s.%s..BHZ'%(net,sta))['elevation'])\n",
    "\n",
    "        # manual correction\n",
    "        if sta == \"FUR\":\n",
    "            l_lon, l_lat, height = 11.27523, 48.16295, 564.0\n",
    "\n",
    "        if unit == \"degree\":\n",
    "            coords[sta] = [l_lon, l_lat, height]\n",
    "\n",
    "        if unit == \"meter\":\n",
    "            # store reference coordinates\n",
    "            if sta == config['reference_station'].split(\".\")[1]:\n",
    "                o_lon, o_lat, o_height = l_lon, l_lat, height\n",
    "\n",
    "            # compute relative distances to reference station in km\n",
    "            lon, lat = util_geo_km(o_lon, o_lat, l_lon, l_lat)\n",
    "\n",
    "            # store distances as meters\n",
    "            coords[sta] = [l_lon*1000, l_lat*1000, height-o_height]\n",
    "\n",
    "    return coords"
   ]
  },
  {
   "cell_type": "code",
   "execution_count": 122,
   "id": "a9620daa",
   "metadata": {
    "ExecuteTime": {
     "end_time": "2023-08-02T14:18:35.770195Z",
     "start_time": "2023-08-02T14:18:35.762389Z"
    },
    "code_folding": [
     0
    ],
    "tags": []
   },
   "outputs": [],
   "source": [
    "def __get_distances(config):\n",
    "\n",
    "    import obspy\n",
    "\n",
    "    n = len(config['coordinates'].keys())\n",
    "\n",
    "    cc_lon, cc_lat, cc_height = 0, 0, 0\n",
    "    for k in config['coordinates'].keys():\n",
    "        cc_lon += float(config['coordinates'][k][0])\n",
    "        cc_lat += float(config['coordinates'][k][1])\n",
    "        cc_height += float(config['coordinates'][k][2])\n",
    "\n",
    "    cc_lon /= n\n",
    "    cc_lat /= n\n",
    "    cc_height /= n\n",
    "\n",
    "    config['centroid'] = [cc_lon, cc_lat, cc_height]\n",
    "\n",
    "    dists = []\n",
    "    for k in config['coordinates'].keys():\n",
    "        lon, lat, height = config['coordinates'][k]\n",
    "        dist_x, dist_y = obspy.signal.util.util_geo_km(float(cc_lon), float(cc_lat), float(lon), float(lat))\n",
    "        dists.append([dist_x*1000, dist_y*1000, float(height)-float(cc_height)]) #convert unit from km to m\n",
    "\n",
    "    return np.array(dists)"
   ]
  },
  {
   "cell_type": "code",
   "execution_count": 117,
   "id": "602776e1-5445-4ed0-bd07-477f94750291",
   "metadata": {
    "tags": []
   },
   "outputs": [],
   "source": [
    "def __get_aperture(config, reference_station=None):\n",
    "\n",
    "    from numpy import argmax, array, sqrt\n",
    "    import obspy\n",
    "\n",
    "    dists, idx = [], []\n",
    "    for ii, (lon1, lat1, height1) in enumerate(config['coordinates']):\n",
    "        for jj, (lon2, lat2, height2) in enumerate(config['coordinates']):\n",
    "            dist_x, dist_y = obspy.signal.util.util_geo_km(lon1, lat1, lon2, lat2)\n",
    "            dists.append(sqrt((dist_x*1000)**2+(dist_y*1000)**2))  #convert unit from km to m\n",
    "            idx.append((ii, jj))\n",
    "\n",
    "    aperture = max(abs(array(dists)))\n",
    "    idx_max = int(argmax(abs(array(dists))))\n",
    "    _ii, _jj = idx[idx_max]\n",
    "\n",
    "    connection = (config['coordinates'][_ii][0], config['coordinates'][_ii][1],\n",
    "                  config['coordinates'][_jj][0], config['coordinates'][_jj][1])\n",
    "\n",
    "    print(f\" -> Aperture of Array: {round(aperture,2)} m\")\n",
    "    return aperture, connection"
   ]
  },
  {
   "cell_type": "code",
   "execution_count": 118,
   "id": "74a5617a-6398-4d06-a3f3-84a910113b9d",
   "metadata": {
    "tags": []
   },
   "outputs": [],
   "source": [
    "def __get_fband_of_array(aperture, apparent_velocity):\n",
    "    fmin = 0.02 * apparent_velocity / aperture\n",
    "    fmax = 0.25 * apparent_velocity / aperture\n",
    "    return round(fmin, 2), round(fmax, 2)"
   ]
  },
  {
   "cell_type": "markdown",
   "id": "c78442c2",
   "metadata": {},
   "source": [
    "## ROMY ARRAY"
   ]
  },
  {
   "cell_type": "code",
   "execution_count": 123,
   "id": "21abb908",
   "metadata": {
    "ExecuteTime": {
     "end_time": "2023-08-02T14:19:08.914807Z",
     "start_time": "2023-08-02T14:19:05.616272Z"
    },
    "tags": []
   },
   "outputs": [],
   "source": [
    "# generate configuration object\n",
    "config = {}\n",
    "\n",
    "# specify client\n",
    "config['fdsn_client'] = {\"GR\":Client('BGR'), \"BW\":Client(\"LMU\")}\n",
    "# config['fdsn_client'] = {\"GR\":Client('BGR'), \"BW\":Client(base_url=\"http://jane\")}\n",
    "\n",
    "# starttime for data process\n",
    "config['starttime'] = UTCDateTime().now()\n",
    "\n",
    "# specify path to figures\n",
    "config['output_figs'] = data_path+\"romy_array/figures/\"\n",
    "\n",
    "# specify code of array\n",
    "config['array_code'] = \"RMY\"\n",
    "\n",
    "# array information\n",
    "config['array_stations'] = [\"GR.FUR\", \"BW.FFB1\", \"BW.FFB2\", \"BW.FFB3\",\n",
    "                            \"BW.TON\", \"BW.BIB\", \"BW.GELB\", \"BW.GRMB\", \"BW.ALFT\",\n",
    "                           ]\n",
    "\n",
    "# reference stations for computation of aperture\n",
    "config['reference_station'] = \"GR.FUR\"\n",
    "\n",
    "# config3['subarray_mask'] = [0, 1, 2, 3, 4, 5, 6, 7, 8] ## all\n",
    "# config3['subarray_mask'] = [0, 4, 5, 6, 7, 8] ## outer\n",
    "config['subarray_mask'] = [0, 1, 2, 3] ## inner\n",
    "\n",
    "# adjust for sub array\n",
    "config['subarray_stations'] = [config['array_stations'][i] for i in config['subarray_mask']]\n",
    "\n",
    "# request inventories\n",
    "config['coordinates'] = __get_coordinates(config, unit=\"degree\")\n",
    "\n",
    "# get distances\n",
    "config['distances'] = __get_distances(config)\n"
   ]
  },
  {
   "cell_type": "code",
   "execution_count": 176,
   "id": "f8d3334a-004b-4624-be88-2ed76824d6aa",
   "metadata": {},
   "outputs": [
    {
     "data": {
      "text/plain": [
       "array([[  12.12557495,  -91.56826777,   -4.75      ],\n",
       "       [  -0.14878013,  -96.68319226,    3.25      ],\n",
       "       [-102.88000938,   64.88170521,    8.25      ],\n",
       "       [  90.90291446,  123.36975481,   -6.75      ]])"
      ]
     },
     "execution_count": 176,
     "metadata": {},
     "output_type": "execute_result"
    }
   ],
   "source": [
    "config['distances']"
   ]
  },
  {
   "cell_type": "code",
   "execution_count": 135,
   "id": "166669a5-8f19-4051-8cf7-6c963ea6c3a7",
   "metadata": {
    "tags": []
   },
   "outputs": [
    {
     "data": {
      "text/plain": [
       "{'FUR': [11.27523, 48.16295, 564.0],\n",
       " 'FFB1': [11.275065, 48.162904, 572.0],\n",
       " 'FFB2': [11.273684, 48.164357, 577.0],\n",
       " 'FFB3': [11.276289, 48.164883, 562.0]}"
      ]
     },
     "execution_count": 135,
     "metadata": {},
     "output_type": "execute_result"
    }
   ],
   "source": [
    "config['coordinates']"
   ]
  },
  {
   "cell_type": "code",
   "execution_count": 175,
   "id": "78b78f3c-98cd-4d73-9fe2-43c0a708068c",
   "metadata": {
    "tags": []
   },
   "outputs": [
    {
     "data": {
      "image/png": "[encoded data removed]",
      "text/plain": [
       "<Figure size 640x480 with 1 Axes>"
      ]
     },
     "metadata": {},
     "output_type": "display_data"
    }
   ],
   "source": [
    "for k in config['coordinates'].keys():\n",
    "    plt.scatter(float(config['coordinates'][k][0]), float(config['coordinates'][k][1]))\n",
    "plt.show();"
   ]
  },
  {
   "cell_type": "markdown",
   "id": "3f63e85e-edc0-4613-8ab8-8bdd8e9d2173",
   "metadata": {},
   "source": [
    "### Get Frequency Band"
   ]
  },
  {
   "cell_type": "code",
   "execution_count": 126,
   "id": "4d87347c-9f88-4973-88d8-cfc236a5af21",
   "metadata": {
    "tags": []
   },
   "outputs": [
    {
     "name": "stdout",
     "output_type": "stream",
     "text": [
      "ADRi:  0.29 3.68\n",
      "ADRa:  0.02 0.21\n"
     ]
    }
   ],
   "source": [
    "apparent_velocity = 3500\n",
    "\n",
    "fmin, fmax = __get_fband_of_array(aperture=238, apparent_velocity=apparent_velocity)\n",
    "print(\"ADRi: \", fmin, fmax)\n",
    "\n",
    "# fmin, fmax = __get_fband_of_array(aperture=501, apparent_velocity=apparent_velocity)\n",
    "# print(\"ADRm: \", fmin, fmax)\n",
    "\n",
    "fmin, fmax = __get_fband_of_array(aperture=4153, apparent_velocity=apparent_velocity)\n",
    "print(\"ADRa: \", fmin, fmax)"
   ]
  },
  {
   "cell_type": "markdown",
   "id": "79a65843",
   "metadata": {},
   "source": [
    "## Map"
   ]
  },
  {
   "cell_type": "code",
   "execution_count": 127,
   "id": "fb2360df",
   "metadata": {
    "ExecuteTime": {
     "end_time": "2023-08-02T14:19:10.846864Z",
     "start_time": "2023-08-02T14:19:10.829729Z"
    },
    "code_folding": [
     0
    ],
    "tags": []
   },
   "outputs": [],
   "source": [
    "def __plot_array_map(config):\n",
    "\n",
    "    aper, connect = __get_aperture(config, reference_station=config['reference_station'])\n",
    "\n",
    "    fig, ax = plt.subplots(1, 1, figsize=(7, 7))\n",
    "\n",
    "    font = 14\n",
    "\n",
    "    for n, c in enumerate(config['coordinates']):\n",
    "\n",
    "        sta = c[0]\n",
    "\n",
    "        c = [c[1], c[2], c[3]]\n",
    "\n",
    "        ax.scatter(c[0], c[1], c='r', marker=\"^\", s=80, zorder=2, edgecolors=\"k\")\n",
    "\n",
    "\n",
    "        ## add labels\n",
    "        label_adjustments = {\"PY.PFOIX\":[0, -4e-4], \"PY.BPH01\": [0, 2e-4],\"PY.BPH02\": [0, 2e-4],\"PY.BPH03\": [1e-4, -4e-4],\n",
    "                               \"PY.BPH04\": [-12e-4, 2e-4],\"PY.BPH05\": [0, 2e-4],\"PY.BPH06\": [0, 2e-4],\n",
    "                               \"PY.BPH07\": [3e-4, 2e-4],\"PY.BPH08\": [-14e-4, 2e-4],\"PY.BPH09\": [0, 2e-4],\n",
    "                               \"PY.BPH10\": [0, 2e-4],\"PY.BPH11\": [0, 2e-4],\n",
    "                               \"PY.BPH12\": [0, -4e-4],\"PY.BPH13\": [0,  2e-4],\n",
    "                            }\n",
    "\n",
    "        try:\n",
    "            # x, y = label_adjustments[sta]\n",
    "            ax.text(c[0], c[1], sta, zorder=2)\n",
    "        except:\n",
    "            print(f\"{config['array_stations'][n]} has no label..\")\n",
    "\n",
    "    ## plot centroid\n",
    "#     ax.scatter(config['centroid'][0], config['centroid'][1], s=100, marker=\"+\", c='k',zorder=2)\n",
    "\n",
    "    ## plot aperture line\n",
    "    # ax.plot([connect[0], connect[2]], [connect[1], connect[3]], ls=\":\", zorder=0, color='k')\n",
    "\n",
    "\n",
    "    ax.set_title(f\"{config['array_code']} array stations | aperture: {int(round(aper,0))} m\")\n",
    "\n",
    "    ax.set_xlabel(\"Longitude (°)\", fontsize=font)\n",
    "    ax.set_ylabel(\"Latitude (°)\", fontsize=font)\n",
    "\n",
    "    ax.grid(alpha=0.8, zorder=0, ls=\":\")\n",
    "\n",
    "\n",
    "    lat_min, lat_max = config3['coordinates'][:, 2].min(), config3['coordinates'][:, 2].max()\n",
    "    lon_min, lon_max = config3['coordinates'][:, 1].min(), config3['coordinates'][:, 1].max()\n",
    "    ax.set_xlim(lon_min-0.001, lon_max+0.0015)\n",
    "    ax.set_ylim(lat_min-0.001, lat_max+0.0015)\n",
    "\n",
    "    ax.ticklabel_format(useOffset=False, style='plain')\n",
    "\n",
    "    plt.show();\n",
    "    return fig"
   ]
  },
  {
   "cell_type": "code",
   "execution_count": 173,
   "id": "54574a75",
   "metadata": {
    "ExecuteTime": {
     "end_time": "2023-08-02T14:19:11.383858Z",
     "start_time": "2023-08-02T14:19:11.222584Z"
    },
    "code_folding": [],
    "tags": []
   },
   "outputs": [],
   "source": [
    "# fig = __plot_array_map(config);"
   ]
  },
  {
   "cell_type": "markdown",
   "id": "49d042ee",
   "metadata": {},
   "source": [
    "## Array Response"
   ]
  },
  {
   "cell_type": "code",
   "execution_count": 165,
   "id": "d83b3763",
   "metadata": {
    "ExecuteTime": {
     "end_time": "2023-07-04T14:35:00.655325Z",
     "start_time": "2023-07-04T14:35:00.635762Z"
    },
    "code_folding": [
     0,
     5,
     27,
     42
    ],
    "tags": []
   },
   "outputs": [],
   "source": [
    "def __compute_array_response(array_stations, coordinates, reference_station, axis_type=\"wave_numer\", plot=False):\n",
    "\n",
    "    from obspy.signal.array_analysis import array_transff_wavenumber, array_transff_freqslowness\n",
    "    from numpy import linspace, shape, arange, pi\n",
    "\n",
    "    def __calculateDistanceOfStations(array_stations, longitudes, latitudes):\n",
    "\n",
    "        from obspy.geodetics import locations2degrees\n",
    "        from numpy import array, nanmax\n",
    "\n",
    "        array_stations, longitudes, latitudes = array(array_stations), array(longitudes), array(latitudes)\n",
    "\n",
    "        N = len(array_stations)\n",
    "\n",
    "        dist_in_deg = np.zeros((N, N))\n",
    "\n",
    "        for i, station1 in enumerate(array_stations):\n",
    "            for j, station2 in enumerate(array_stations):\n",
    "                dist_in_deg[i][j] = locations2degrees(lat1  = latitudes[i], \n",
    "                                                      long1 = longitudes[i], \n",
    "                                                      lat2  = latitudes[j], \n",
    "                                                      long2 = longitudes[j],\n",
    "                                                      )\n",
    "\n",
    "        return dist_in_deg, nanmax(dist_in_deg)*111.0\n",
    "\n",
    "    def __get_aperture(longitudes, latitudes, reference_longitude, reference_latitude):\n",
    "\n",
    "        from numpy import argmax, array, sqrt\n",
    "        from obspy.signal.util import util_geo_km\n",
    "\n",
    "        distances = []\n",
    "        for lon, lat in zip(longitudes, latitudes):\n",
    "            dist_x, dist_y = util_geo_km(reference_longitude, reference_latitude, lon, lat)\n",
    "            distances.append(sqrt((dist_x*1000)**2+(dist_y*1000)**2))  # convert unit from km to m\n",
    "\n",
    "        aperture = max(abs(array(distances)))\n",
    "\n",
    "        return aperture\n",
    "\n",
    "    def __plot_array_response(kx, ky, res_func, aperture):\n",
    "\n",
    "        from numpy import arange\n",
    "        from obspy.imaging.cm import obspy_sequential\n",
    "        from mpl_toolkits.axes_grid1 import make_axes_locatable\n",
    "        import matplotlib.pyplot as plt\n",
    "\n",
    "        fig, ax = plt.subplots(1,1, figsize=(7,7))\n",
    "\n",
    "        font = 14\n",
    "\n",
    "        colx = ax.pcolor(kx, ky, res_func.T, cmap=obspy_sequential)\n",
    "\n",
    "        ax.set_title(f\"array response | aperture: {int(round(dist_max*1000, 0))} m\")\n",
    "\n",
    "        ax.set_xlabel('wave number (km$^{-1}$)', fontsize=font)\n",
    "        ax.set_ylabel('wave number (km$^{-1}$)', fontsize=font)\n",
    "\n",
    "        ax.grid(alpha=0.1, zorder=0, ls=\"-\", color=\"white\")\n",
    "\n",
    "        ax.ticklabel_format(useOffset=False, style='plain')\n",
    "\n",
    "        # add colorbar\n",
    "        cax = make_axes_locatable(ax).append_axes(\"right\", size=\"5%\", pad=0.05)\n",
    "        cbar = plt.colorbar(colx, cax=cax)\n",
    "\n",
    "        plt.show();\n",
    "\n",
    "    # extract coordinates\n",
    "    longitudes_deg = [config['coordinates'][k][0] for k in config['coordinates'].keys()]\n",
    "    latitudes_deg = [config['coordinates'][k][1] for k in config['coordinates'].keys()]\n",
    "    elevations_km = [config['coordinates'][k][2] for k in config['coordinates'].keys()]\n",
    "\n",
    "    # ____________________________________________________\n",
    "\n",
    "    dist, dist_max = __calculateDistanceOfStations(array_stations, longitudes_deg, latitudes_deg)\n",
    "\n",
    "    ref_idx = [n for n, sta in enumerate(array_stations) if sta == reference_station]\n",
    "\n",
    "    aperture_m = __get_aperture(longitudes_deg, latitudes_deg, longitudes_deg[ref_idx[0]], latitudes_deg[ref_idx[0]])\n",
    "\n",
    "    print(f\" -> Aperture of Array: {round(aperture_m, 2)} m\")\n",
    "\n",
    "    # format coordinates\n",
    "    coordinates = np.column_stack([longitudes_deg, latitudes_deg, elevations_km])\n",
    "\n",
    "    if axis_type == \"wave_numer\":\n",
    "\n",
    "        ## define minimal lambda\n",
    "        lambda_min = 2*aperture_m/1000 ## in km\n",
    "\n",
    "        ## define wavenumber limits\n",
    "        k_max = 4*pi/lambda_min\n",
    "        k_step = k_max / 100.\n",
    "\n",
    "        print(\" -> k_max = \", round(k_max, 2), \"1/m\", \"\\n -> lambda_min = \", round(lambda_min, 2), \"m\" )\n",
    "\n",
    "        ## compute transfer function as a function of wavenumbe\n",
    "        transff = array_transff_wavenumber(coordinates, k_max, k_step, coordsys='lonlat')\n",
    "\n",
    "        ## define wavenumber axes\n",
    "        x_array = arange(-k_max, k_max + k_step * 1.1, k_step) - k_step / 2.\n",
    "        y_array = arange(-k_max, k_max + k_step * 1.1, k_step) - k_step / 2.\n",
    "\n",
    "    elif axis_type == \"freq_slowness\":\n",
    "\n",
    "        fmin, fmax, fstep = 0, 10, 0.1\n",
    "        slim, sstep = 1/(fmax*lambda_min), 0.1\n",
    "\n",
    "        transff = array_transff_freqslowness(coordinates, slim, sstep, fmin, fmax, fstep, coordsys='lonlat')\n",
    "\n",
    "#         x_array = arange(-fmax, fmax + fstep * 1.1, fstep) - fstep / 2.\n",
    "        x_array = arange(-slim, slim + sstep * 1.1, sstep) - sstep / 2.\n",
    "        y_array = arange(-slim, slim + sstep * 1.1, sstep) - sstep / 2.\n",
    "\n",
    "    if plot:\n",
    "        __plot_array_response(x_array, y_array, transff, aperture_m)\n",
    "\n",
    "    return x_array, y_array, transff"
   ]
  },
  {
   "cell_type": "code",
   "execution_count": 167,
   "id": "4032cb0d",
   "metadata": {
    "ExecuteTime": {
     "end_time": "2023-07-04T14:35:01.509946Z",
     "start_time": "2023-07-04T14:35:01.473771Z"
    },
    "code_folding": [],
    "tags": []
   },
   "outputs": [
    {
     "name": "stdout",
     "output_type": "stream",
     "text": [
      " -> Aperture of Array: 228.92 m\n",
      " -> k_max =  27.45 1/m \n",
      " -> lambda_min =  0.46 m\n"
     ]
    }
   ],
   "source": [
    "x, y, res_func = __compute_array_response(config['subarray_stations'],\n",
    "                                          config['coordinates'],\n",
    "                                          reference_station=config['reference_station'],\n",
    "                                          axis_type=\"wave_numer\",\n",
    "                                          plot=False\n",
    "                                          )"
   ]
  },
  {
   "cell_type": "code",
   "execution_count": 177,
   "id": "039077ee",
   "metadata": {
    "ExecuteTime": {
     "end_time": "2023-07-04T14:35:01.204918Z",
     "start_time": "2023-07-04T14:35:01.194886Z"
    },
    "code_folding": [
     0
    ],
    "tags": []
   },
   "outputs": [],
   "source": [
    "def __plot_array_response(kx, ky, res_func):\n",
    "\n",
    "    from numpy import arange\n",
    "    from obspy.imaging.cm import obspy_sequential\n",
    "    from mpl_toolkits.axes_grid1 import make_axes_locatable\n",
    "    \n",
    "    fig, ax = plt.subplots(1, 1, figsize=(5, 5))\n",
    "    \n",
    "    font = 14\n",
    "    \n",
    "    colx = ax.pcolor(kx, ky, res_func.T, cmap=obspy_sequential)\n",
    "\n",
    "    ax.set_xlabel('wave number (km$^{-1}$)', fontsize=font)\n",
    "    ax.set_ylabel('wave number (km$^{-1}$)', fontsize=font)\n",
    "\n",
    "    ax.grid(alpha=0.1, zorder=0, ls=\"-\", color=\"white\")\n",
    "\n",
    "    ax.ticklabel_format(useOffset=False, style='plain')\n",
    "\n",
    "    # add colorbar\n",
    "    cax = make_axes_locatable(ax).append_axes(\"right\", size=\"5%\", pad=0.05)\n",
    "    cbar = plt.colorbar(colx, cax=cax)\n",
    "\n",
    "    plt.show();\n",
    "    return fig"
   ]
  },
  {
   "cell_type": "code",
   "execution_count": 178,
   "id": "088ad70d",
   "metadata": {
    "ExecuteTime": {
     "end_time": "2023-07-04T14:35:02.739105Z",
     "start_time": "2023-07-04T14:35:02.367165Z"
    },
    "code_folding": [
     0
    ],
    "tags": []
   },
   "outputs": [
    {
     "data": {
      "image/png": "[encoded data removed]",
      "text/plain": [
       "<Figure size 500x500 with 2 Axes>"
      ]
     },
     "metadata": {},
     "output_type": "display_data"
    }
   ],
   "source": [
    "fig = __plot_array_response(x, y, res_func);"
   ]
  },
  {
   "cell_type": "code",
   "execution_count": null,
   "id": "fc486863-9a35-40b7-96df-d9dde4d1998f",
   "metadata": {},
   "outputs": [],
   "source": []
  }
 ],
 "metadata": {
  "kernelspec": {
   "display_name": "Python 3 (ipykernel)",
   "language": "python",
   "name": "python3"
  },
  "language_info": {
   "codemirror_mode": {
    "name": "ipython",
    "version": 3
   },
   "file_extension": ".py",
   "mimetype": "text/x-python",
   "name": "python",
   "nbconvert_exporter": "python",
   "pygments_lexer": "ipython3",
   "version": "3.9.19"
  },
  "latex_envs": {
   "LaTeX_envs_menu_present": true,
   "autoclose": false,
   "autocomplete": true,
   "bibliofile": "biblio.bib",
   "cite_by": "apalike",
   "current_citInitial": 1,
   "eqLabelWithNumbers": true,
   "eqNumInitial": 1,
   "hotkeys": {
    "equation": "Ctrl-E",
    "itemize": "Ctrl-I"
   },
   "labels_anchors": false,
   "latex_user_defs": false,
   "report_style_numbering": false,
   "user_envs_cfg": false
  },
  "toc": {
   "base_numbering": 1,
   "nav_menu": {},
   "number_sections": true,
   "sideBar": true,
   "skip_h1_title": false,
   "title_cell": "Table of Contents",
   "title_sidebar": "Contents",
   "toc_cell": false,
   "toc_position": {},
   "toc_section_display": true,
   "toc_window_display": false
  },
  "varInspector": {
   "cols": {
    "lenName": 16,
    "lenType": 16,
    "lenVar": 40
   },
   "kernels_config": {
    "python": {
     "delete_cmd_postfix": "",
     "delete_cmd_prefix": "del ",
     "library": "var_list.py",
     "varRefreshCmd": "print(var_dic_list())"
    },
    "r": {
     "delete_cmd_postfix": ") ",
     "delete_cmd_prefix": "rm(",
     "library": "var_list.r",
     "varRefreshCmd": "cat(var_dic_list()) "
    }
   },
   "types_to_exclude": [
    "module",
    "function",
    "builtin_function_or_method",
    "instance",
    "_Feature"
   ],
   "window_display": false
  }
 },
 "nbformat": 4,
 "nbformat_minor": 5
}
