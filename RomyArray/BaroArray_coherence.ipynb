{
 "cells": [
  {
   "cell_type": "markdown",
   "metadata": {},
   "source": [
    "## Baro Array - Coherence"
   ]
  },
  {
   "cell_type": "markdown",
   "metadata": {},
   "source": [
    "### Importing"
   ]
  },
  {
   "cell_type": "code",
   "execution_count": 17,
   "metadata": {
    "ExecuteTime": {
     "end_time": "2023-05-12T10:06:53.364605Z",
     "start_time": "2023-05-12T10:06:53.357330Z"
    },
    "tags": []
   },
   "outputs": [],
   "source": [
    "import os\n",
    "import gc\n",
    "import subprocess\n",
    "import numpy as np\n",
    "import matplotlib.pyplot as plt\n",
    "import obspy\n",
    "import pandas as pd\n",
    "\n",
    "from obspy.clients.fdsn import Client, RoutingClient\n",
    "from obspy.signal.array_analysis import array_transff_wavenumber\n",
    "from obspy.imaging.cm import obspy_sequential\n",
    "from obspy.geodetics import locations2degrees\n",
    "from obspy import Stream\n",
    "\n",
    "from andbro__querrySeismoData import __querrySeismoData\n",
    "from andbro__compute_coherence_stream import __coherence_stream\n"
   ]
  },
  {
   "cell_type": "code",
   "execution_count": 3,
   "metadata": {
    "tags": []
   },
   "outputs": [],
   "source": [
    "if os.uname().nodename == 'lighthouse':\n",
    "    root_path = '/home/andbro/'\n",
    "    data_path = '/home/andbro/kilauea-data/'\n",
    "    archive_path = '/home/andbro/freenas/'\n",
    "    bay_path = '/home/andbro/bay200/'\n",
    "elif os.uname().nodename == 'kilauea':\n",
    "    root_path = '/home/brotzer/'\n",
    "    data_path = '/import/kilauea-data/'\n",
    "    archive_path = '/import/freenas-ffb-01-data/'\n",
    "    bay_path = '/bay200/'\n",
    "elif os.uname().nodename == 'lin-ffb-01':\n",
    "    root_path = '/home/brotzer/'\n",
    "    data_path = '/import/kilauea-data/'\n",
    "    archive_path = '/import/freenas-ffb-01-data/'\n",
    "    bay_path = '/bay200/'"
   ]
  },
  {
   "cell_type": "markdown",
   "metadata": {},
   "source": [
    "### Setting Variables"
   ]
  },
  {
   "cell_type": "code",
   "execution_count": 183,
   "metadata": {
    "ExecuteTime": {
     "end_time": "2023-05-11T17:08:36.465601Z",
     "start_time": "2023-05-11T17:08:36.459847Z"
    },
    "code_folding": [],
    "tags": []
   },
   "outputs": [],
   "source": [
    "config = {}\n",
    "\n",
    "config['klim'] = 50.\n",
    "config['kstep'] = config['klim'] / 100.\n",
    "\n",
    "# example 1\n",
    "config['tbeg'] = obspy.UTCDateTime(\"2024-03-16 06:00\")\n",
    "config['tend'] = obspy.UTCDateTime(\"2024-03-16 18:00\")\n",
    "\n",
    "# example 2\n",
    "config['tbeg'] = obspy.UTCDateTime(\"2024-03-23 06:00\")\n",
    "config['tend'] = obspy.UTCDateTime(\"2024-03-23 17:00\")\n",
    "\n",
    "\n",
    "config['seeds'] = [\n",
    "                   'BW.GELB..LDO',\n",
    "                   'BW.GRMB..LDO',\n",
    "                   'BW.ALFT..LDO',\n",
    "                   'BW.BIB..LDO',\n",
    "                   'BW.TON..LDO',\n",
    "                   'BW.ROMY..LDI',\n",
    "]\n",
    "\n",
    "config['fmin'] = 0.1e-3\n",
    "config['fmax'] = 0.1\n",
    "\n",
    "config['path_to_figs'] = data_path+\"/LNM2/figures/\"\n",
    "\n",
    "config['ref_station'] = 'BW.ROMY..HH*'\n",
    "\n",
    "config['client'] = RoutingClient(\"eida-routing\")"
   ]
  },
  {
   "cell_type": "markdown",
   "metadata": {},
   "source": [
    "### Load FURT Data"
   ]
  },
  {
   "cell_type": "code",
   "execution_count": 184,
   "metadata": {
    "tags": []
   },
   "outputs": [],
   "source": [
    "from andbro__load_FURT_stream import __load_furt_stream"
   ]
  },
  {
   "cell_type": "code",
   "execution_count": 185,
   "metadata": {
    "tags": []
   },
   "outputs": [],
   "source": [
    "# furt = __load_furt_stream(config['tbeg'], config['tend'], path_to_archive=bay_path+'gif_online/FURT/WETTER/')"
   ]
  },
  {
   "cell_type": "markdown",
   "metadata": {},
   "source": [
    "### Load Pressure Data"
   ]
  },
  {
   "cell_type": "code",
   "execution_count": 186,
   "metadata": {
    "tags": []
   },
   "outputs": [],
   "source": [
    "from andbro__read_sds import __read_sds"
   ]
  },
  {
   "cell_type": "code",
   "execution_count": 194,
   "metadata": {
    "tags": []
   },
   "outputs": [
    {
     "name": "stdout",
     "output_type": "stream",
     "text": [
      "1 Trace(s) in Stream:\n",
      "BW.GELB..LDO | 2024-03-23T06:00:00.000000Z - 2024-03-23T17:00:00.000000Z | 1.0 Hz, 39601 samples\n",
      "1 Trace(s) in Stream:\n",
      "BW.GRMB..LDO | 2024-03-23T06:00:00.000000Z - 2024-03-23T17:00:00.000000Z | 1.0 Hz, 39601 samples\n",
      "1 Trace(s) in Stream:\n",
      "BW.ALFT..LDO | 2024-03-23T06:00:00.000000Z - 2024-03-23T17:00:00.000000Z | 1.0 Hz, 39601 samples\n",
      "1 Trace(s) in Stream:\n",
      "BW.BIB..LDO | 2024-03-23T06:00:00.000000Z - 2024-03-23T17:00:00.000000Z | 1.0 Hz, 39601 samples\n",
      "1 Trace(s) in Stream:\n",
      "BW.TON..LDO | 2024-03-23T06:00:00.000000Z - 2024-03-23T17:00:00.000000Z | 1.0 Hz, 39601 samples\n",
      "0 Trace(s) in Stream:\n",
      "\n",
      "Error: BW.PROMY.03.LDI\n"
     ]
    }
   ],
   "source": [
    "df_pressure = pd.DataFrame()\n",
    "\n",
    "st = Stream()\n",
    "\n",
    "for _i, seed in enumerate(config['seeds']):\n",
    "\n",
    "    if \"ROMY\" in seed:\n",
    "        seed = \"BW.PROMY.03.LDI\"\n",
    "\n",
    "    ps = __read_sds(archive_path+\"temp_archive/\", seed, config['tbeg'], config['tend'])\n",
    "    print(ps)\n",
    "\n",
    "    try:\n",
    "        # convert from Pa to hPa\n",
    "        if \"ROMY\" in seed:\n",
    "            ps[0].data = ps[0].data / 100\n",
    "\n",
    "        ps = ps.detrend(\"simple\")\n",
    "\n",
    "        ps = ps.taper(0.01, type=\"cosine\")\n",
    "\n",
    "        ps = ps.filter(\"bandpass\", freqmin=config['fmin'], freqmax=config['fmax'], corners=4, zerophase=True)\n",
    "\n",
    "        ps = ps.resample(config['fmax']*4)\n",
    "\n",
    "        # convert from hPa to Pa\n",
    "        ps[0].data = ps[0].data * 100\n",
    "\n",
    "        if _i == 0:\n",
    "            df_pressure[\"time\"] = ps[0].times(reftime=config['tbeg'])\n",
    "\n",
    "        df_pressure[f\"{seed.split('.')[0]}.{seed.split('.')[1]}\"] = ps[0].data\n",
    "\n",
    "        ps.plot();\n",
    "\n",
    "        st += ps\n",
    "\n",
    "    except:\n",
    "        print(f\"Error: {seed}\")\n",
    "\n"
   ]
  },
  {
   "cell_type": "markdown",
   "metadata": {},
   "source": [
    "### Compute Coherence"
   ]
  },
  {
   "cell_type": "code",
   "execution_count": null,
   "metadata": {
    "tags": []
   },
   "outputs": [],
   "source": [
    "twin = 2.5/config['fmin'] # seconds\n",
    "print(twin)\n",
    "\n",
    "\n",
    "nseg = st[0].stats.sampling_rate*twin\n",
    "nover = 0.5*nseg\n",
    "\n",
    "ff, coh = __coherence_stream(st, st.select(station=\"PROMY\")[0], nseg=nseg, nover=nover)\n"
   ]
  },
  {
   "cell_type": "code",
   "execution_count": null,
   "metadata": {
    "tags": []
   },
   "outputs": [],
   "source": [
    "plt.semilogx(ff[0], coh[0])"
   ]
  },
  {
   "cell_type": "markdown",
   "metadata": {},
   "source": [
    "### Compute Fband Averages"
   ]
  },
  {
   "cell_type": "code",
   "execution_count": null,
   "metadata": {
    "tags": []
   },
   "outputs": [],
   "source": [
    "from functions.get_fband_average import __get_fband_average"
   ]
  },
  {
   "cell_type": "code",
   "execution_count": null,
   "metadata": {
    "tags": []
   },
   "outputs": [],
   "source": [
    "ff_avg, coh_avg = [], []\n",
    "\n",
    "for _f, _coh in zip(ff, coh):\n",
    "    out = __get_fband_average(_f,\n",
    "                              _coh,\n",
    "                              faction_of_octave=6,\n",
    "                              fmin=config['fmin'],\n",
    "                              fmax=config['fmax'],\n",
    "                              average='mean',\n",
    "                              )\n",
    "\n",
    "    ff_avg.append(out['fcenter'])\n",
    "    coh_avg.append(out['psd_means'])\n"
   ]
  },
  {
   "cell_type": "markdown",
   "metadata": {},
   "source": [
    "### Plotting"
   ]
  },
  {
   "cell_type": "code",
   "execution_count": null,
   "metadata": {
    "tags": []
   },
   "outputs": [],
   "source": [
    "def __makeplot_coherence(st_in, ff, coh, ref, twin=None):\n",
    "\n",
    "\n",
    "    st_ref = st_in.select(station=ref)\n",
    "\n",
    "    NN = 2\n",
    "\n",
    "    font = 14\n",
    "\n",
    "    if st_ref[0].stats.npts*st_ref[0].stats.delta > 10000:\n",
    "        time_scaling, time_unit = 1/3600, \"hour\"\n",
    "    else:\n",
    "        time_scaling, time_unit = 1/60, \"min\"\n",
    "\n",
    "    fig, ax = plt.subplots(NN, 1, figsize=(15, 8), gridspec_kw={'height_ratios': [1, 3]})\n",
    "\n",
    "    ax[0].plot(st_ref[0].times()*time_scaling, st_ref[0].data, color=\"k\", label=st_ref[0].stats.station+\".\"+st_ref[0].stats.channel, zorder=2)\n",
    "\n",
    "    for tr in st_in:\n",
    "        ax[0].plot(tr.times()*time_scaling, tr.data, color=\"grey\", alpha=0.5, zorder=1)\n",
    "\n",
    "\n",
    "    for f, c, tr in zip(ff, coh, st_in):\n",
    "        if tr.stats.station == ref:\n",
    "            ax[1].plot(f, c, color=\"k\", zorder=0, ls=\"-.\", label=tr.stats.station+\".\"+tr.stats.channel)\n",
    "        else:\n",
    "            ax[1].plot(f, c, label=tr.stats.station+\".\"+tr.stats.channel, alpha=0.8)\n",
    "\n",
    "    ax[0].legend(fontsize=font-2)\n",
    "    ax[1].legend(fontsize=font-2)\n",
    "\n",
    "    ax[1].set_xscale(\"log\")\n",
    "\n",
    "    ax[1].set_xlim(config['fmin'], config['fmax'])\n",
    "\n",
    "    ax[1].grid(ls=\":\", color=\"grey\", zorder=-1, which=\"both\")\n",
    "\n",
    "    ax[0].set_title(f\"Coherence (f = {config['fmin']}-{config['fmax']}Hz | window = {twin}s)\",fontsize=font+1, pad=10)\n",
    "    ax[0].set_ylabel(f\"norm. Amp. \\n (m/s)\", fontsize=font)\n",
    "    ax[0].set_xlabel(f\"Time ({time_unit})\", fontsize=font)\n",
    "    ax[1].set_ylabel(f\"Coherence\", fontsize=font)\n",
    "    ax[1].set_xlabel(f\"Frequency (Hz)\", fontsize=font)\n",
    "\n",
    "    ax[1].set_ylim(0, 1.05)\n",
    "\n",
    "    plt.show();\n",
    "    return fig"
   ]
  },
  {
   "cell_type": "code",
   "execution_count": 180,
   "metadata": {
    "tags": []
   },
   "outputs": [
    {
     "ename": "IndexError",
     "evalue": "list index out of range",
     "output_type": "error",
     "traceback": [
      "\u001b[0;31m---------------------------------------------------------------------------\u001b[0m",
      "\u001b[0;31mIndexError\u001b[0m                                Traceback (most recent call last)",
      "Cell \u001b[0;32mIn[180], line 1\u001b[0m\n\u001b[0;32m----> 1\u001b[0m fig \u001b[38;5;241m=\u001b[39m \u001b[43m__makeplot_coherence\u001b[49m\u001b[43m(\u001b[49m\u001b[43mst\u001b[49m\u001b[43m,\u001b[49m\u001b[43m \u001b[49m\u001b[43mff_avg\u001b[49m\u001b[43m,\u001b[49m\u001b[43m \u001b[49m\u001b[43mcoh_avg\u001b[49m\u001b[43m,\u001b[49m\u001b[43m \u001b[49m\u001b[38;5;124;43m\"\u001b[39;49m\u001b[38;5;124;43mPROMY\u001b[39;49m\u001b[38;5;124;43m\"\u001b[39;49m\u001b[43m,\u001b[49m\u001b[43m \u001b[49m\u001b[43mtwin\u001b[49m\u001b[38;5;241;43m=\u001b[39;49m\u001b[43mtwin\u001b[49m\u001b[43m)\u001b[49m\n",
      "Cell \u001b[0;32mIn[172], line 10\u001b[0m, in \u001b[0;36m__makeplot_coherence\u001b[0;34m(st_in, ff, coh, ref, twin)\u001b[0m\n\u001b[1;32m      6\u001b[0m NN \u001b[38;5;241m=\u001b[39m \u001b[38;5;241m2\u001b[39m\n\u001b[1;32m      8\u001b[0m font \u001b[38;5;241m=\u001b[39m \u001b[38;5;241m14\u001b[39m\n\u001b[0;32m---> 10\u001b[0m \u001b[38;5;28;01mif\u001b[39;00m \u001b[43mst_ref\u001b[49m\u001b[43m[\u001b[49m\u001b[38;5;241;43m0\u001b[39;49m\u001b[43m]\u001b[49m\u001b[38;5;241m.\u001b[39mstats\u001b[38;5;241m.\u001b[39mnpts\u001b[38;5;241m*\u001b[39mst_ref[\u001b[38;5;241m0\u001b[39m]\u001b[38;5;241m.\u001b[39mstats\u001b[38;5;241m.\u001b[39mdelta \u001b[38;5;241m>\u001b[39m \u001b[38;5;241m10000\u001b[39m:\n\u001b[1;32m     11\u001b[0m     time_scaling, time_unit \u001b[38;5;241m=\u001b[39m \u001b[38;5;241m1\u001b[39m\u001b[38;5;241m/\u001b[39m\u001b[38;5;241m3600\u001b[39m, \u001b[38;5;124m\"\u001b[39m\u001b[38;5;124mhour\u001b[39m\u001b[38;5;124m\"\u001b[39m\n\u001b[1;32m     12\u001b[0m \u001b[38;5;28;01melse\u001b[39;00m:\n",
      "File \u001b[0;32m~/anaconda3/envs/obs2/lib/python3.10/site-packages/obspy/core/stream.py:643\u001b[0m, in \u001b[0;36mStream.__getitem__\u001b[0;34m(self, index)\u001b[0m\n\u001b[1;32m    641\u001b[0m     \u001b[38;5;28;01mreturn\u001b[39;00m \u001b[38;5;28mself\u001b[39m\u001b[38;5;241m.\u001b[39m\u001b[38;5;18m__class__\u001b[39m(traces\u001b[38;5;241m=\u001b[39m\u001b[38;5;28mself\u001b[39m\u001b[38;5;241m.\u001b[39mtraces\u001b[38;5;241m.\u001b[39m\u001b[38;5;21m__getitem__\u001b[39m(index))\n\u001b[1;32m    642\u001b[0m \u001b[38;5;28;01melse\u001b[39;00m:\n\u001b[0;32m--> 643\u001b[0m     \u001b[38;5;28;01mreturn\u001b[39;00m \u001b[38;5;28;43mself\u001b[39;49m\u001b[38;5;241;43m.\u001b[39;49m\u001b[43mtraces\u001b[49m\u001b[38;5;241;43m.\u001b[39;49m\u001b[38;5;21;43m__getitem__\u001b[39;49m\u001b[43m(\u001b[49m\u001b[43mindex\u001b[49m\u001b[43m)\u001b[49m\n",
      "\u001b[0;31mIndexError\u001b[0m: list index out of range"
     ]
    }
   ],
   "source": [
    "fig = __makeplot_coherence(st, ff_avg, coh_avg, \"PROMY\", twin=twin)\n",
    "\n"
   ]
  },
  {
   "cell_type": "code",
   "execution_count": null,
   "metadata": {},
   "outputs": [],
   "source": []
  },
  {
   "cell_type": "code",
   "execution_count": null,
   "metadata": {},
   "outputs": [],
   "source": []
  }
 ],
 "metadata": {
  "kernelspec": {
   "display_name": "Python 3 (ipykernel)",
   "language": "python",
   "name": "python3"
  },
  "language_info": {
   "codemirror_mode": {
    "name": "ipython",
    "version": 3
   },
   "file_extension": ".py",
   "mimetype": "text/x-python",
   "name": "python",
   "nbconvert_exporter": "python",
   "pygments_lexer": "ipython3",
   "version": "3.10.12"
  },
  "toc": {
   "base_numbering": 1,
   "nav_menu": {},
   "number_sections": true,
   "sideBar": true,
   "skip_h1_title": false,
   "title_cell": "Table of Contents",
   "title_sidebar": "Contents",
   "toc_cell": false,
   "toc_position": {},
   "toc_section_display": true,
   "toc_window_display": false
  },
  "varInspector": {
   "cols": {
    "lenName": 16,
    "lenType": 16,
    "lenVar": 40
   },
   "kernels_config": {
    "python": {
     "delete_cmd_postfix": "",
     "delete_cmd_prefix": "del ",
     "library": "var_list.py",
     "varRefreshCmd": "print(var_dic_list())"
    },
    "r": {
     "delete_cmd_postfix": ") ",
     "delete_cmd_prefix": "rm(",
     "library": "var_list.r",
     "varRefreshCmd": "cat(var_dic_list()) "
    }
   },
   "types_to_exclude": [
    "module",
    "function",
    "builtin_function_or_method",
    "instance",
    "_Feature"
   ],
   "window_display": false
  }
 },
 "nbformat": 4,
 "nbformat_minor": 4
}
