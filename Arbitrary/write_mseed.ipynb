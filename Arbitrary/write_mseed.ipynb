{
 "cells": [
  {
   "cell_type": "markdown",
   "id": "f72d0afe",
   "metadata": {},
   "source": [
    "# Write data to .mseed files"
   ]
  },
  {
   "cell_type": "markdown",
   "id": "e3ff68a7",
   "metadata": {},
   "source": [
    "### Imports & Methods"
   ]
  },
  {
   "cell_type": "code",
   "execution_count": 1,
   "id": "66ae6c1c",
   "metadata": {},
   "outputs": [],
   "source": [
    "import sys\n",
    "import obspy as obs\n",
    "\n",
    "from andbro__querrySeismoData import __querrySeismoData"
   ]
  },
  {
   "cell_type": "code",
   "execution_count": 2,
   "id": "634bcfdd",
   "metadata": {
    "code_folding": [
     0
    ]
   },
   "outputs": [],
   "source": [
    "def __user_interaction():\n",
    "\n",
    "    conf = {}\n",
    "\n",
    "    conf['seed'] = input(\"\\nEnter seed name:  \") or None\n",
    "\n",
    "    if conf['seed'] is None:\n",
    "        print(\" -> No seed id provided!\")\n",
    "        sys.exit()\n",
    "\n",
    "    conf['repository'] = input(\"\\nEnter repository (archive / local / [george]):  \") or \"george\"  \n",
    "    \n",
    "    if conf['repository'].lower() == 'local':\n",
    "        conf['datapath'] = input(\"\\nEnter datapath:  \")\n",
    "    else:\n",
    "        conf['datapath'] = None\n",
    "\n",
    "\n",
    "    ## ask for time period\n",
    "    conf['tbeg'], conf['tend'] = None, None\n",
    "    while conf['tbeg'] is None:\n",
    "        conf['tbeg']  = obs.UTCDateTime(input(\"\\nEnter start time (e.g. 2020-06-29 09:52):  \")) or None\n",
    "\n",
    "    while conf['tend'] is None:\n",
    "        conf['tend']  = obs.UTCDateTime(input(\"\\nEnter end time (e.g. 2020-06-29 10:00):  \")) or None\n",
    "\n",
    "    conf['outpath'] = input(\"\\nEnter output path:  \") or None\n",
    "    \n",
    "    if conf['outpath'] is None:\n",
    "        print(\" -> No output path id provided!\")\n",
    "        sys.exit()\n",
    "    if conf['outpath'][-1] != \"/\":\n",
    "        conf['outpath'] += \"/\"\n",
    "        \n",
    "    conf['outformat'] = input(\"\\nEnter output file format (mseed | ascii):  \") or None\n",
    "\n",
    "    if conf['outformat'] == \"ascii\":\n",
    "        conf['outformat_type'] = \"SLIST\"\n",
    "    else:\n",
    "        conf['outformat_type'] = conf['outformat']\n",
    "        \n",
    "        \n",
    "        \n",
    "#     ## ask for filter parameters\n",
    "#     conf['set_filter'] = input(\"\\nSet Filter (yes/no)?  \") or None\n",
    "\n",
    "#     if conf['set_filter'].lower() in [\"yes\", \"y\"]:\n",
    "#         conf['filter_type'] = input(\"\\nEnter filter type (bp, lp, hp): \")\n",
    "\n",
    "#         if conf['filter_type'].lower() in ['bp', 'bandpass']:\n",
    "#             conf['filter_type'] = 'bandpass'\n",
    "#             conf['lower_corner_frequency'] = float(input(\"\\nEnter lower corner frequency (in Hz): \")) or None\n",
    "#             conf['upper_corner_frequency'] = float(input(\"Enter upper corner frequency (in Hz): \")) or None\n",
    "\n",
    "#         elif conf['filter_type'].lower() in ['hp', 'highpass']:\n",
    "#             conf['filter_type'] = 'highpass'\n",
    "#             conf['lower_corner_frequency'] = float(input(\"\\nEnter lower corner frequency (in Hz): \")) or None\n",
    "#             conf['upper_corner_frequency'] = None\n",
    "\n",
    "#         elif conf['filter_type'].lower() in ['lp', 'lowpass']:\n",
    "#             conf['filter_type'] = 'lowpass'\n",
    "#             conf['lower_corner_frequency'] = None\n",
    "#             conf['upper_corner_frequency'] = float(input(\"\\nEnter upper corner frequency (in Hz): \")) or None\n",
    "\n",
    "    return conf"
   ]
  },
  {
   "cell_type": "markdown",
   "id": "58bff24e",
   "metadata": {},
   "source": [
    "### Configurations"
   ]
  },
  {
   "cell_type": "code",
   "execution_count": 3,
   "id": "23ba9242",
   "metadata": {},
   "outputs": [
    {
     "name": "stdout",
     "output_type": "stream",
     "text": [
      "\n",
      "Enter seed name:  BW.DROMY..F2V\n",
      "\n",
      "Enter repository (archive / local / [george]):  archive\n",
      "\n",
      "Enter start time (e.g. 2020-06-29 09:52):  2022-03-31 19:00\n",
      "\n",
      "Enter end time (e.g. 2020-06-29 10:00):  2022-03-31 21:00\n",
      "\n",
      "Enter output path:  /home/brotzer/Downloads/\n",
      "\n",
      "Enter output file format (mseed | ascii):  mseed\n"
     ]
    }
   ],
   "source": [
    "config = __user_interaction()"
   ]
  },
  {
   "cell_type": "markdown",
   "id": "6e377569",
   "metadata": {},
   "source": [
    "### Load Data from Repository"
   ]
  },
  {
   "cell_type": "code",
   "execution_count": 4,
   "id": "21ebd39c",
   "metadata": {},
   "outputs": [
    {
     "name": "stdout",
     "output_type": "stream",
     "text": [
      "Coordinates could not be attached to Inventory!\n"
     ]
    },
    {
     "data": {
      "text/plain": [
       "1 Trace(s) in Stream:\n",
       "BW.DROMY..F2V | 2022-03-31T19:00:00.000000Z - 2022-03-31T21:00:00.000000Z | 5000.0 Hz, 36000001 samples"
      ]
     },
     "execution_count": 4,
     "metadata": {},
     "output_type": "execute_result"
    }
   ],
   "source": [
    "st0, inv = __querrySeismoData(\n",
    "                            seed_id=config.get(\"seed\"),\n",
    "                            starttime=config.get(\"tbeg\"),\n",
    "                            endtime=config.get(\"tend\"),\n",
    "                            repository=config.get(\"repository\"),\n",
    "                            path=config['datapath'],\n",
    "                            restitute=False,\n",
    "                            detail=True,\n",
    "                            fill_value=None,\n",
    "                            )\n",
    "st0"
   ]
  },
  {
   "cell_type": "markdown",
   "id": "6d12f79f",
   "metadata": {},
   "source": [
    "### Write Data to Output"
   ]
  },
  {
   "cell_type": "code",
   "execution_count": 5,
   "id": "dbcf2989",
   "metadata": {},
   "outputs": [],
   "source": [
    "for tr in st0:\n",
    "    sta = config['seed'].split(\".\")[1]\n",
    "    cha = config['seed'].split(\".\")[3]\n",
    "    tbeg_date = config['tbeg'].date\n",
    "\n",
    "    config['outname'] = f\"{sta}_{cha}_{tbeg_date}.{config['outformat']}\"\n",
    "\n",
    "    tr.write(config['outpath']+config['outname'], format=config['outformat_type'])"
   ]
  },
  {
   "cell_type": "code",
   "execution_count": null,
   "id": "09ec0756",
   "metadata": {},
   "outputs": [],
   "source": []
  }
 ],
 "metadata": {
  "kernelspec": {
   "display_name": "Python 3",
   "language": "python",
   "name": "python3"
  },
  "language_info": {
   "codemirror_mode": {
    "name": "ipython",
    "version": 3
   },
   "file_extension": ".py",
   "mimetype": "text/x-python",
   "name": "python",
   "nbconvert_exporter": "python",
   "pygments_lexer": "ipython3",
   "version": "3.7.7"
  }
 },
 "nbformat": 4,
 "nbformat_minor": 5
}
