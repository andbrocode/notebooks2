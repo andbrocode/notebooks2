{
 "cells": [
  {
   "cell_type": "markdown",
   "metadata": {},
   "source": [
    "## Joing Two Mseed Files"
   ]
  },
  {
   "cell_type": "markdown",
   "metadata": {},
   "source": [
    "### Importing"
   ]
  },
  {
   "cell_type": "code",
   "execution_count": 2,
   "metadata": {
    "ExecuteTime": {
     "end_time": "2022-12-02T14:03:23.871360Z",
     "start_time": "2022-12-02T14:03:23.864435Z"
    }
   },
   "outputs": [],
   "source": [
    "import os, sys\n",
    "import obspy as obs"
   ]
  },
  {
   "cell_type": "markdown",
   "metadata": {},
   "source": [
    "### Setting Variables"
   ]
  },
  {
   "cell_type": "code",
   "execution_count": 25,
   "metadata": {
    "ExecuteTime": {
     "end_time": "2022-12-02T14:22:18.456149Z",
     "start_time": "2022-12-02T14:22:18.451508Z"
    },
    "code_folding": []
   },
   "outputs": [],
   "source": [
    "##________________________________________________________\n",
    "\n",
    "ipath1 = '/import/kilauea-data/TiltmeterDataBackup/ROMYT_backup/mseed/MAE.D/BW.ROMYT..MAE.D.2022.299'\n",
    "# ipath1 = input(\"Enter data file 1: \")\n",
    "\n",
    "ipath2 = '/home/brotzer/Documents/ROMY/tiltmeter/DataTmp/mseed/MAE.D/BW.ROMYT..MAE.D.2022.299'\n",
    "# ipath2 = input(\"Enter data file 2: \")\n",
    "\n",
    "opath = '/home/brotzer/Downloads/tmp/'\n",
    "# opath = input(\"Enter data output path: \")\n",
    "\n",
    "if opath[-1] != \"/\":\n",
    "    opath = opath+\"/\"\n",
    "    \n"
   ]
  },
  {
   "cell_type": "code",
   "execution_count": 26,
   "metadata": {
    "ExecuteTime": {
     "end_time": "2022-12-02T14:22:18.822133Z",
     "start_time": "2022-12-02T14:22:18.742873Z"
    }
   },
   "outputs": [],
   "source": [
    "try:\n",
    "    st1 = obs.read(ipath1)\n",
    "except:\n",
    "    print(\" -> failed to load stream 1\")\n",
    "    \n",
    "try:\n",
    "    st2 = obs.read(ipath2)\n",
    "except:\n",
    "    print(\" -> failed to load stream 2\")\n"
   ]
  },
  {
   "cell_type": "code",
   "execution_count": 36,
   "metadata": {
    "ExecuteTime": {
     "end_time": "2022-12-02T14:27:05.690768Z",
     "start_time": "2022-12-02T14:27:05.583285Z"
    },
    "code_folding": []
   },
   "outputs": [
    {
     "name": "stdout",
     "output_type": "stream",
     "text": [
      "stream 1: 892\n",
      "stream 2: 431108\n"
     ]
    },
    {
     "data": {
      "text/plain": [
       "1 Trace(s) in Stream:\n",
       "BW.ROMYT..MAE | 2022-10-26T00:00:00.140000Z - 2022-10-26T23:59:59.940000Z | 5.0 Hz, 432000 samples"
      ]
     },
     "execution_count": 36,
     "metadata": {},
     "output_type": "execute_result"
    },
    {
     "name": "stdout",
     "output_type": "stream",
     "text": [
      " -> writing data to: /home/brotzer/Downloads/tmp/BW.ROMYT..MAE.D.2022.299\n"
     ]
    }
   ],
   "source": [
    "## perform basic checks\n",
    "        \n",
    "if len(st1) > 1:\n",
    "    print(f\"stream 1 has {len(st1)} traces!\")\n",
    "if len(st2) > 1:\n",
    "    print(f\"stream 2 has {len(st2)} traces!\")\n",
    "    \n",
    "for tr1, tr2 in zip(st1, st2):\n",
    "    if tr1.stats.network != tr2.stats.network:\n",
    "        print(f\" -> Error: networks apparently different! {tr1.stats.network} != {tr2.stats.network}\")\n",
    "        sys.exit()\n",
    "    if tr1.stats.station != tr2.stats.station:\n",
    "        print(f\" -> Error: networks apparently different! {tr1.stats.station} != {tr2.stats.station}\")\n",
    "        sys.exit()\n",
    "    if tr1.stats.channel != tr2.stats.channel:\n",
    "        print(f\" -> Error: networks apparently different! {tr1.stats.channel} != {tr2.stats.channel}\")\n",
    "        sys.exit()\n",
    "    \n",
    "ofile = ipath2.split(\"/\")[-1]\n",
    "    \n",
    "print(f\"stream 1: {st1[0].stats.npts}\")\n",
    "print(f\"stream 2: {st2[0].stats.npts}\")\n",
    "\n",
    "\n",
    "st_out = st1.copy();\n",
    "st_out += st2.copy();\n",
    "\n",
    "st_out.merge();\n",
    "\n",
    "if st_out[0].stats.npts < int(86400*st_out[0].stats.sampling_rate):\n",
    "    print(f\" -> masked stream!\")\n",
    "    print(st_out)\n",
    "    \n",
    "    \n",
    "print(f\" -> writing data to: {opath}{ofile}\")\n",
    "st_out.write(opath+ofile,\"MSEED\")\n",
    "st1.write(opath+ofile+\"_part1\",\"MSEED\")\n",
    "st2.write(opath+ofile+\"_part2\",\"MSEED\")"
   ]
  },
  {
   "cell_type": "code",
   "execution_count": null,
   "metadata": {
    "ExecuteTime": {
     "end_time": "2022-12-02T14:41:47.444781Z",
     "start_time": "2022-12-02T14:41:47.429651Z"
    }
   },
   "outputs": [],
   "source": []
  },
  {
   "cell_type": "code",
   "execution_count": null,
   "metadata": {},
   "outputs": [],
   "source": []
  }
 ],
 "metadata": {
  "kernelspec": {
   "display_name": "Python 3",
   "language": "python",
   "name": "python3"
  },
  "language_info": {
   "codemirror_mode": {
    "name": "ipython",
    "version": 3
   },
   "file_extension": ".py",
   "mimetype": "text/x-python",
   "name": "python",
   "nbconvert_exporter": "python",
   "pygments_lexer": "ipython3",
   "version": "3.7.7"
  },
  "toc": {
   "base_numbering": 1,
   "nav_menu": {},
   "number_sections": true,
   "sideBar": true,
   "skip_h1_title": false,
   "title_cell": "Table of Contents",
   "title_sidebar": "Contents",
   "toc_cell": false,
   "toc_position": {},
   "toc_section_display": true,
   "toc_window_display": false
  }
 },
 "nbformat": 4,
 "nbformat_minor": 4
}
