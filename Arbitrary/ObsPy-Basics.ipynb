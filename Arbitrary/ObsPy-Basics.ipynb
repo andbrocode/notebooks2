{
 "cells": [
  {
   "cell_type": "markdown",
   "metadata": {},
   "source": [
    "# ObsPY Basics"
   ]
  },
  {
   "cell_type": "markdown",
   "metadata": {},
   "source": [
    "### Imports & Methods"
   ]
  },
  {
   "cell_type": "code",
   "execution_count": 1,
   "metadata": {
    "ExecuteTime": {
     "end_time": "2022-04-10T14:26:54.574990Z",
     "start_time": "2022-04-10T14:26:53.641828Z"
    },
    "code_folding": []
   },
   "outputs": [],
   "source": [
    "import obspy \n",
    "from obspy.clients.fdsn import Client, RoutingClient\n",
    "\n",
    "def showClients():\n",
    "    from obspy.clients.fdsn.header import URL_MAPPINGS\n",
    "    names = []\n",
    "    for key in sorted(URL_MAPPINGS.keys()):\n",
    "\n",
    "        names.append(\"{0:<11} {1}\".format(key,  URL_MAPPINGS[key]))\n",
    "    return names\n",
    "\n"
   ]
  },
  {
   "cell_type": "markdown",
   "metadata": {},
   "source": [
    "### Parameters"
   ]
  },
  {
   "cell_type": "code",
   "execution_count": 2,
   "metadata": {
    "ExecuteTime": {
     "end_time": "2022-04-10T14:26:57.069364Z",
     "start_time": "2022-04-10T14:26:57.065432Z"
    }
   },
   "outputs": [],
   "source": [
    "# define parameters \n",
    "net, sta, loc, cha = [\"GR\", \"FUR\", \"\", \"BH*\"]\n",
    "#net, sta, loc, cha = [\"BW\", \"DROMY\", \"10\", \"BJZ\"]\n",
    "\n",
    "tbeg = obspy.UTCDateTime(2020, 10, 30, 11, 50)\n",
    "tend = obspy.UTCDateTime(2020, 10, 30, 12, 15)\n"
   ]
  },
  {
   "cell_type": "markdown",
   "metadata": {},
   "source": [
    "### Get online data"
   ]
  },
  {
   "cell_type": "code",
   "execution_count": 3,
   "metadata": {
    "ExecuteTime": {
     "end_time": "2022-04-10T14:27:02.230730Z",
     "start_time": "2022-04-10T14:26:57.882467Z"
    }
   },
   "outputs": [],
   "source": [
    "# define clients \n",
    "client = Client(base_url=\"IRIS\") #showClients()\n",
    "route = RoutingClient(\"eida-routing\") # \"iris-federator\"\n",
    "\n",
    "#route = Client(base_url=\"http://george\")\n",
    "\n",
    "\n",
    "\n",
    "# get inventory [information of station(s)]\n",
    "\n",
    "#inv = read_inventory()\n",
    "inv = route.get_stations(network=net, station=sta, location=loc, channel=cha, \n",
    "                         starttime=tbeg, endtime=tend, level=\"response\")\n",
    "\n",
    "# get waveform data as stream\n",
    "st = route.get_waveforms(network=net, station=sta, location=loc, channel=cha,\n",
    "                         starttime=tbeg, endtime=tend)\n"
   ]
  },
  {
   "cell_type": "markdown",
   "metadata": {},
   "source": [
    "### Get local data"
   ]
  },
  {
   "cell_type": "code",
   "execution_count": 4,
   "metadata": {
    "ExecuteTime": {
     "end_time": "2022-04-10T14:27:02.236066Z",
     "start_time": "2022-04-10T14:27:02.232285Z"
    }
   },
   "outputs": [
    {
     "ename": "SyntaxError",
     "evalue": "invalid syntax (<ipython-input-4-4a357c01d523>, line 3)",
     "output_type": "error",
     "traceback": [
      "\u001b[0;36m  File \u001b[0;32m\"<ipython-input-4-4a357c01d523>\"\u001b[0;36m, line \u001b[0;32m3\u001b[0m\n\u001b[0;31m    xml_file \"./this/is/a/test.xml\"\u001b[0m\n\u001b[0m                                  ^\u001b[0m\n\u001b[0;31mSyntaxError\u001b[0m\u001b[0;31m:\u001b[0m invalid syntax\n"
     ]
    }
   ],
   "source": [
    "seed_file = \"./this/is/a/test.mseed\"\n",
    "\n",
    "xml_file \"./this/is/a/test.xml\"\n",
    "\n",
    "# get wavefrom data as stream\n",
    "st = read(seed_file)\n",
    "\n",
    "# get inventory [information of station(s)]\n",
    "inv = read_inventory(xml_file)\n"
   ]
  },
  {
   "cell_type": "markdown",
   "metadata": {},
   "source": [
    "### Quickview of the data"
   ]
  },
  {
   "cell_type": "code",
   "execution_count": null,
   "metadata": {
    "ExecuteTime": {
     "end_time": "2022-04-10T14:27:02.237521Z",
     "start_time": "2022-04-10T14:27:01.177Z"
    }
   },
   "outputs": [],
   "source": [
    "st.plot();\n",
    "\n",
    "inv.plot();"
   ]
  },
  {
   "cell_type": "markdown",
   "metadata": {},
   "source": [
    "### Event Catalog"
   ]
  },
  {
   "cell_type": "code",
   "execution_count": 28,
   "metadata": {},
   "outputs": [
    {
     "data": {
      "text/plain": [
       "Event:\t2020-10-30T11:51:27.563000Z | +37.917,  +26.790 | 7.0 mww\n",
       "\n",
       "\t            resource_id: ResourceIdentifier(id=\"smi:service.iris.edu/fdsnws/event/1/query?eventid=11331986\")\n",
       "\t             event_type: 'earthquake'\n",
       "\t    preferred_origin_id: ResourceIdentifier(id=\"smi:service.iris.edu/fdsnws/event/1/query?originid=43955287\")\n",
       "\t preferred_magnitude_id: ResourceIdentifier(id=\"smi:service.iris.edu/fdsnws/event/1/query?magnitudeid=204410400\")\n",
       "\t                   ---------\n",
       "\t     event_descriptions: 1 Elements\n",
       "\t                origins: 1 Elements\n",
       "\t             magnitudes: 1 Elements"
      ]
     },
     "execution_count": 28,
     "metadata": {},
     "output_type": "execute_result"
    }
   ],
   "source": [
    "#cat = obspy.read_events(\"source.txt\")\n",
    "\n",
    "cat = client.get_events(\n",
    "    starttime=tbeg, \n",
    "    endtime=tend, \n",
    "    minmagnitude=6\n",
    ")\n",
    "\n",
    "cat\n",
    "cat.plot();"
   ]
  },
  {
   "cell_type": "code",
   "execution_count": null,
   "metadata": {},
   "outputs": [],
   "source": []
  }
 ],
 "metadata": {
  "kernelspec": {
   "display_name": "Python 3",
   "language": "python",
   "name": "python3"
  },
  "language_info": {
   "codemirror_mode": {
    "name": "ipython",
    "version": 3
   },
   "file_extension": ".py",
   "mimetype": "text/x-python",
   "name": "python",
   "nbconvert_exporter": "python",
   "pygments_lexer": "ipython3",
   "version": "3.7.8"
  }
 },
 "nbformat": 4,
 "nbformat_minor": 4
}
