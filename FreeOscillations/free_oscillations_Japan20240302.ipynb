{
 "cells": [
  {
   "cell_type": "markdown",
   "metadata": {},
   "source": [
    "# Eigen Modes"
   ]
  },
  {
   "cell_type": "markdown",
   "metadata": {
    "tags": []
   },
   "source": [
    "### References\n",
    "\n",
    "* Ammon, C. J., et al. (2005), Rupture process of the 2004 Sumatra-Andaman earthquake, *Science, 308*, 1133–1139.\n",
    "* Dahlen, F. A., and J. Tromp (1998), *Theoretical Global Seismology*, Princeton U. Press, Princeton, New Jersey, USA.\n",
    "* Lay, T., et al. (2005), The great Sumatra-Andaman earthquake of 26 December 2004, *Science, 308*, 1127–1133.\n",
    "* Ni, S., D. Helmberger, and H. Kanamori (2005), Energy radiation from the Sumatra earthquake, *Nature*, 434, 582.\n",
    "* Park, J., et al. (2005), Earth’s free oscillations excited by the 26 December 2004 Sumatra Andaman earthquake, *Science, 308*, 1139–1144.\n",
    "* Shearer, P. M. (2009), *Introduction to Seismology*, 2 ed., Cambridge U. Press, Cambridge, UK.\n",
    "* Stein, S., and M. Wysession (2003), *An Introduction to Seismology, Earthquakes, and Earth Structure*, Blackwell, Malden, Mass., USA."
   ]
  },
  {
   "cell_type": "markdown",
   "metadata": {},
   "source": [
    "## Import Libraries"
   ]
  },
  {
   "cell_type": "code",
   "execution_count": null,
   "metadata": {
    "ExecuteTime": {
     "end_time": "2021-03-18T16:31:35.111677Z",
     "start_time": "2021-03-18T16:31:34.437704Z"
    },
    "code_folding": []
   },
   "outputs": [],
   "source": [
    "# Preparation for programming\n",
    "\n",
    "%matplotlib inline\n",
    "\n",
    "# do not show warnings\n",
    "import warnings\n",
    "warnings.filterwarnings('ignore')\n",
    "\n",
    "import os\n",
    "import numpy as np\n",
    "import matplotlib.pylab as plt\n",
    "\n",
    "from obspy.core import read, UTCDateTime, Stream\n",
    "from obspy.clients.fdsn import Client, RoutingClient\n",
    "from obspy.signal.filter import lowpass\n",
    "from matplotlib.mlab import detrend\n",
    "from obspy.signal.invsim import cosine_taper\n",
    "from obspy.imaging.beachball import beach\n",
    "\n",
    "# plt.style.use('ggplot')"
   ]
  },
  {
   "cell_type": "code",
   "execution_count": null,
   "metadata": {
    "tags": []
   },
   "outputs": [],
   "source": [
    "if os.uname().nodename == 'lighthouse':\n",
    "    root_path = '/home/andbro/'\n",
    "    data_path = '/home/andbro/kilauea-data/'\n",
    "    archive_path = '/home/andbro/freenas/'\n",
    "    bay_path = '/home/andbro/bay200/'\n",
    "elif os.uname().nodename == 'kilauea':\n",
    "    root_path = '/home/brotzer/'\n",
    "    data_path = '/import/kilauea-data/'\n",
    "    archive_path = '/import/freenas-ffb-01-data/'\n",
    "    bay_path = '/bay200/'\n",
    "elif os.uname().nodename == 'lin-ffb-01':\n",
    "    root_path = '/home/brotzer/'\n",
    "    data_path = '/import/kilauea-data/'\n",
    "    archive_path = '/import/freenas-ffb-01-data/'\n",
    "    bay_path = '/bay200/'"
   ]
  },
  {
   "cell_type": "code",
   "execution_count": null,
   "metadata": {},
   "outputs": [],
   "source": []
  },
  {
   "cell_type": "markdown",
   "metadata": {
    "ExecuteTime": {
     "end_time": "2021-03-16T20:45:52.917812Z",
     "start_time": "2021-03-16T20:45:52.914067Z"
    }
   },
   "source": [
    "## Configurations"
   ]
  },
  {
   "cell_type": "code",
   "execution_count": null,
   "metadata": {
    "ExecuteTime": {
     "end_time": "2021-03-18T16:31:35.123393Z",
     "start_time": "2021-03-18T16:31:35.114241Z"
    }
   },
   "outputs": [],
   "source": [
    "## sumatra earthquake\n",
    "# t_origin = UTCDateTime(\"2004-12-26T00:58:53.0\")\n",
    "\n",
    "## tohoku earthquake\n",
    "# t_origin = UTCDateTime(\"2011-03-11T05:46:0.0\"); event = 'tohoku'\n",
    "\n",
    "## Kermadec earthquake\n",
    "# t_origin = UTCDateTime(\"2021-03-04T18:40:0.0\"); event = 'kermadec'\n",
    "\n",
    "## Alaska earthquakeabs\n",
    "t_origin = UTCDateTime(\"2024-04-02 00:11\");\n",
    "event = 'Japan'\n",
    "\n",
    "\n",
    "stations = [\"*.CAN.*.LHZ\", \"GR.BFO.*.LHZ\", \"GR.WET.*.LHZ\", \"BW.RLAS.*.BJZ\"]\n",
    "clients  = [\"IRIS\", \"BGR\", \"BGR\", \"LMU\"]\n",
    "\n",
    "# stations = [\"*.CAN.*.LHZ\", \"GR.BFO.*.LHZ\", \"GR.FUR.*.LHZ\", \"BW.ROMY.10.BJZ\"]\n",
    "# clients  = [\"IRIS\", \"BGR\", \"BGR\",\"http://george\"]\n",
    "\n",
    "\n",
    "starttime = t_origin - (24*3600*0.1)\n",
    "endtime   = t_origin + (24*3600*1.0)\n",
    "\n",
    "\n",
    "## as modelled by RPEM in muHz\n",
    "free_modes = {'0S2':309.28, '0S3':468.56, '0S4':647.07, '1S2':679.85, '0S0':814.31, \n",
    "              '0S5':840.42, '1S3':939.83, '3S1':943.95}"
   ]
  },
  {
   "cell_type": "code",
   "execution_count": null,
   "metadata": {
    "ExecuteTime": {
     "end_time": "2021-03-18T16:31:35.123393Z",
     "start_time": "2021-03-18T16:31:35.114241Z"
    }
   },
   "outputs": [],
   "source": [
    "config = {}\n",
    "\n",
    "## Japan earthquake\n",
    "config['t_origin'] = UTCDateTime(\"2024-04-02 23:58\");\n",
    "\n",
    "\n",
    "config['seeds'] = [\"GR.BFO.*.LHZ\",\n",
    "                   \"GR.WET.*.LHZ\",\n",
    "                   \"GR.FUR.*.LHZ\",\n",
    "                   \"BW.RLAS.*.BJZ\",\n",
    "                   \"BW.ROMY.10.BJZ\",]\n",
    "\n",
    "config['repositories'] = [\"online\", \"online\", \"online\", \"online\", \"archive\"]\n",
    "\n",
    "config['tbeg'] = config['t_origin']-10\n",
    "config['tend'] = config['t_origin'] + 15*3600\n",
    "\n",
    "config['path_to_sds'] = archive_path+\"romy_archive/\"\n"
   ]
  },
  {
   "cell_type": "markdown",
   "metadata": {},
   "source": [
    "## Import Data"
   ]
  },
  {
   "cell_type": "code",
   "execution_count": null,
   "metadata": {
    "ExecuteTime": {
     "end_time": "2021-03-18T16:31:47.281791Z",
     "start_time": "2021-03-18T16:31:47.276799Z"
    }
   },
   "outputs": [],
   "source": [
    "from andbro__querrySeismoData import __querrySeismoData\n",
    "\n",
    "st = Stream()\n",
    "for seed, repo in zip(config['seeds'], config['repositories']):\n",
    "\n",
    "    print(f\" -> loading {seed} ({repo})\")\n",
    "\n",
    "\n",
    "    net, sta, loc, cha = seed.split(\".\")\n",
    "\n",
    "    try:\n",
    "        st0, inv =  __querrySeismoData(\n",
    "                                        seed_id=seed,\n",
    "                                        starttime=config['tbeg']-100,\n",
    "                                        endtime=config['tend']+100,\n",
    "                                        repository=repo,\n",
    "                                        path=None,\n",
    "                                        restitute=True,\n",
    "                                        detail=None,\n",
    "                                        fill_value=None,\n",
    "                                       )\n",
    "        st += st0\n",
    "    except:\n",
    "        print(f\"  -> failed\")\n",
    "\n",
    "st = st.resample(1.0, no_filter=True)\n",
    "\n",
    "st = st.trim(config['tbeg'], config['tend'], nearest_sample=False)\n",
    "\n",
    "print(st)\n"
   ]
  },
  {
   "cell_type": "code",
   "execution_count": null,
   "metadata": {
    "tags": []
   },
   "outputs": [],
   "source": [
    "st.plot(equal_scale=False);"
   ]
  },
  {
   "cell_type": "code",
   "execution_count": null,
   "metadata": {
    "tags": []
   },
   "outputs": [],
   "source": [
    "st1 = st.copy()\n",
    "\n",
    "for tr in st1:\n",
    "    tr = tr.trim(config['tbeg']+3*3600, config['tend'])\n",
    "\n",
    "st1 = st1.detrend(\"linear\")\n",
    "st1 = st1.filter(\"lowpass\", freq=0.005, corners=4, zerophase=True)\n",
    "st1 = st1.filter(\"highpass\", freq=1e-5, corners=4, zerophase=True)\n",
    "st1 = st1.detrend(\"linear\")\n",
    "\n",
    "print(st1)\n",
    "\n",
    "del st\n",
    "\n",
    "st1.plot(equal_scale=False);"
   ]
  },
  {
   "cell_type": "markdown",
   "metadata": {},
   "source": [
    "### Calculating spectra of traces"
   ]
  },
  {
   "cell_type": "code",
   "execution_count": null,
   "metadata": {
    "ExecuteTime": {
     "end_time": "2021-03-18T16:31:47.286457Z",
     "start_time": "2021-03-18T16:31:47.283056Z"
    },
    "code_folding": [
     1
    ]
   },
   "outputs": [],
   "source": [
    "def __make_spectra_fft(st):\n",
    "    \n",
    "\n",
    "    specs = []    \n",
    "    for j in st:\n",
    "        \n",
    "        print(j.data.size)\n",
    "        \n",
    "        y_tapered = j.data * cosine_taper(j.data.size, 0.1)     # Define cosine taper to be used\n",
    "#         y_tapered = j.data * np.hanning(j.data.size)\n",
    "        \n",
    "        y_detrend = detrend(y_tapered, 'linear')\n",
    "        \n",
    "        y_fnew = np.fft.rfft(y_detrend)\n",
    "        \n",
    "#         y_pad = np.lib.pad(y_detrend, \n",
    "#                            (92289, 92289),\n",
    "#                            'constant',\n",
    "#                            constant_values=(0,0),\n",
    "#                           )\n",
    "        \n",
    "#         y_fpad= np.fft.rfft(y_pad)\n",
    "    \n",
    "        specs.append(abs(y_fnew))\n",
    "        \n",
    "    freqs = np.linspace(0, 0.5*st[0].stats.sampling_rate, len(specs[0]))         \n",
    "        \n",
    "    return specs, freqs"
   ]
  },
  {
   "cell_type": "code",
   "execution_count": null,
   "metadata": {
    "ExecuteTime": {
     "end_time": "2021-03-18T16:31:47.326897Z",
     "start_time": "2021-03-18T16:31:47.287825Z"
    },
    "code_folding": [
     0
    ]
   },
   "outputs": [],
   "source": [
    "specs, freqs = __make_spectra_fft(st1)"
   ]
  },
  {
   "cell_type": "code",
   "execution_count": null,
   "metadata": {
    "ExecuteTime": {
     "end_time": "2021-03-18T16:31:47.331280Z",
     "start_time": "2021-03-18T16:31:47.327977Z"
    },
    "code_folding": [
     1
    ]
   },
   "outputs": [],
   "source": [
    "def __make_spectra_welch(st, nsegments=int(100*4096)):\n",
    "\n",
    "    from scipy.signal import welch\n",
    "\n",
    "    specs = []\n",
    "\n",
    "    for j in st:\n",
    "\n",
    "        print(j.data.size)\n",
    "\n",
    "        psd = welch(\n",
    "                    j.data,\n",
    "                    fs=j.stats.sampling_rate,\n",
    "                    window='cosine',\n",
    "                    nperseg=nsegments,\n",
    "                    noverlap=None,\n",
    "                    nfft=None,\n",
    "                    detrend='constant',\n",
    "                    return_onesided=True,\n",
    "                    scaling='spectrum',\n",
    "                    average='mean',\n",
    "                    )\n",
    "\n",
    "        specs.append(psd[1])\n",
    "\n",
    "    freqs = psd[0]\n",
    "\n",
    "    return specs, freqs"
   ]
  },
  {
   "cell_type": "code",
   "execution_count": null,
   "metadata": {
    "ExecuteTime": {
     "end_time": "2021-03-18T16:31:47.367875Z",
     "start_time": "2021-03-18T16:31:47.333074Z"
    },
    "code_folding": [
     0
    ]
   },
   "outputs": [],
   "source": [
    "\n",
    "twin = 12 * 3600 # hours\n",
    "nwin = int(twin * st1[0].stats.sampling_rate)\n",
    "\n",
    "wspecs, wfreqs = __make_spectra_welch(st1, nsegments=nwin)\n",
    "# wspecs, wfreqs = __make_spectra_welch(st1)"
   ]
  },
  {
   "cell_type": "code",
   "execution_count": null,
   "metadata": {
    "tags": []
   },
   "outputs": [],
   "source": [
    "def __makeplot_spectra2(st0, freqs, specs):\n",
    "\n",
    "    fmax = 1.5e-3\n",
    "\n",
    "    for i, f in enumerate(freqs):\n",
    "        if f > fmax:\n",
    "            nmax = i\n",
    "            break\n",
    "\n",
    "    time = np.linspace(0, st0[0].stats.npts*st0[0].stats.delta,  st0[0].stats.npts)\n",
    "\n",
    "    N = len(config['seeds'])\n",
    "\n",
    "    fig, ax = plt.subplots(N, 1, figsize=(15, 10), sharex=True)\n",
    "\n",
    "    for i, seed in enumerate(config['seeds']):\n",
    "\n",
    "        print(seed)\n",
    "\n",
    "        net, sta, loc, cha = seed.split(\".\")\n",
    "\n",
    "        ax[i].semilogy(freqs[:nmax], specs[i][:nmax], label=f'{sta}.{cha}', lw=1, zorder=2)\n",
    "\n",
    "        if cha[1] == \"J\":\n",
    "            ax[i].set_ylabel(r\"PSD (rad/s)$^2$)\")\n",
    "        else:\n",
    "            ax[i].set_ylabel(r\"PSD (m/s$^2$)$^2$)\")\n",
    "\n",
    "        ax[i].legend(loc=\"upper right\")\n",
    "\n",
    "        ax[i].set_xlim(0.2e-3, freqs[nmax])\n",
    "\n",
    "        for mode in free_modes.values():\n",
    "            ax[i].axvline(mode*1e-6, color='grey', zorder=0)\n",
    "\n",
    "#     if event == 'kermadec':\n",
    "#         ax[0].set_ylim(0, 0.0004)\n",
    "#         ax[1].set_ylim(0, 0.0002)\n",
    "#         ax[2].set_ylim(0, 0.0006)\n",
    "#         ax[3].set_ylim(0, 0.5e-9)\n",
    "\n",
    "#     if event == 'tohoku':\n",
    "#         ax[0].set_ylim(0, 0.001)\n",
    "#         ax[1].set_ylim(0, 0.001)\n",
    "#         ax[2].set_ylim(0, 0.001)\n",
    "#         ax[3].set_ylim(0, 1e-9)\n",
    "\n",
    "    ax[N-1].set_xlabel(f\"days after {st0[0].stats.starttime.date} {str(st0[0].stats.starttime.time)[:9]} UTC\")\n",
    "\n",
    "    ax[0].set_title(\"power spectral density by Welch\")\n",
    "\n",
    "    plt.show();\n",
    "\n",
    "__makeplot_spectra2(st1, wfreqs, wspecs)\n"
   ]
  },
  {
   "cell_type": "code",
   "execution_count": null,
   "metadata": {
    "ExecuteTime": {
     "end_time": "2021-03-18T16:31:47.381118Z",
     "start_time": "2021-03-18T16:31:47.370813Z"
    },
    "code_folding": [
     1
    ]
   },
   "outputs": [],
   "source": [
    "def __make_spectra_MT(st, method=\"unity\"):\n",
    "\n",
    "    from spectrum import data_cosine, dpss, pmtm\n",
    "\n",
    "    window_length = st[0].stats.npts\n",
    "    time_half_bandwidth = 1.0\n",
    "    first_k_slepian_sequences = 10\n",
    "\n",
    "    [tapers, eigen] = dpss(window_length, time_half_bandwidth, first_k_slepian_sequences)\n",
    "\n",
    "    specs = []\n",
    "    for j in st:\n",
    "\n",
    "        print(j.data.size)\n",
    "\n",
    "\n",
    "        if method == 'unity':\n",
    "\n",
    "            ## call pmtm function of spectrum library\n",
    "            sk_complex, weights, eigen = pmtm(j.data, e=eigen, v=tapers, show=False, method='unity')\n",
    "\n",
    "            ## right scaling\n",
    "            sk = abs(sk_complex)**2\n",
    "\n",
    "            ## redefine weithgts, since wrong in dimension\n",
    "            weights = np.transpose(np.ones(np.shape(sk)))\n",
    "\n",
    "            ## multiply output sk matrix and weights matrix and average rows\n",
    "            out = np.mean(np.matmul(weights,sk), axis=0)\n",
    "\n",
    "\n",
    "        elif method == 'adapt':\n",
    "\n",
    "            ## call pmtm function of spectrum library\n",
    "            sk_complex, weights, eigen = pmtm(j.data, e=eigen, v=tapers, show=False, method='adapt')\n",
    "\n",
    "            ## multiply output sk matrix and weights matrix and average rows\n",
    "\n",
    "            ## right scaling\n",
    "            sk = abs(sk_complex)**2\n",
    "\n",
    "            ## multiply output sk matrix and weights matrix and average rows\n",
    "            out = np.mean(np.matmul(weights,sk), axis=1)\n",
    "\n",
    "        ## return one-sided spectrum\n",
    "        out = out[:window_length//2]\n",
    "\n",
    "        ## gather outputs\n",
    "        specs.append(out)\n",
    "        del out\n",
    "\n",
    "    ## generate frequency axius\n",
    "    freqs = np.linspace(0, 0.5*st[0].stats.sampling_rate, len(specs[0]))\n",
    "\n",
    "    return specs, freqs"
   ]
  },
  {
   "cell_type": "code",
   "execution_count": null,
   "metadata": {
    "ExecuteTime": {
     "end_time": "2021-03-18T16:31:50.555923Z",
     "start_time": "2021-03-18T16:31:50.329033Z"
    },
    "code_folding": [
     0
    ]
   },
   "outputs": [],
   "source": [
    "\n",
    "specsMT, freqsMT = __make_spectra_MT(st1, method=\"adapt\")\n",
    "\n",
    "print(len(specsMT));"
   ]
  },
  {
   "cell_type": "code",
   "execution_count": null,
   "metadata": {
    "ExecuteTime": {
     "end_time": "2021-03-18T16:31:52.010046Z",
     "start_time": "2021-03-18T16:31:51.999744Z"
    }
   },
   "outputs": [],
   "source": [
    "plt.semilogy(freqsMT, specsMT[1])\n",
    "plt.xlim(0.0001, 0.002)"
   ]
  },
  {
   "cell_type": "markdown",
   "metadata": {},
   "source": [
    "### Plotting Traces"
   ]
  },
  {
   "cell_type": "code",
   "execution_count": null,
   "metadata": {
    "ExecuteTime": {
     "end_time": "2021-03-18T16:28:20.950109Z",
     "start_time": "2021-03-18T16:28:20.520243Z"
    },
    "code_folding": [
     0
    ]
   },
   "outputs": [],
   "source": [
    "def __makeplot_traces(st0):\n",
    "\n",
    "    time = np.linspace(0, st[0].stats.npts*st[0].stats.delta,  st[0].stats.npts)\n",
    "\n",
    "    N = len(stations)\n",
    "\n",
    "    fig, ax = plt.subplots(N, 1, figsize=(15, 10), sharex=True)\n",
    "\n",
    "    for i in range(N):\n",
    "\n",
    "        print(st0[i])\n",
    "\n",
    "        ax[i].plot(time/24/3600, st0[i].data, 'k', label=f\"{st[i].stats.station}.{st0[i].stats.channel}\", lw=1)\n",
    "\n",
    "        ax[i].set_ylabel(r\"amplitude (m/s$^2$)\")\n",
    "\n",
    "        ax[i].legend(loc=\"upper right\")\n",
    "\n",
    "    ## Kermadec\n",
    "    # ax[0].set_ylim(-5e-5, 5e-5)\n",
    "    # ax[1].set_ylim(-2e-5, 2e-5)\n",
    "    # ax[2].set_ylim(-2.5e-5, 2.5e-5)\n",
    "#     ax[3].set_ylim(-1e-10, 1e-10)\n",
    "\n",
    "    ## Tohoku\n",
    "#     ax[0].set_ylim(-5e-5, 5e-5)\n",
    "#     ax[1].set_ylim(-2e-5, 2e-5)\n",
    "#     ax[2].set_ylim(-2.5e-5, 2.5e-5)\n",
    "#     ax[3].set_ylim(-1e-11, 1e-11)\n",
    "\n",
    "    ax[N-1].set_xlabel(f\"days after {st0[0].stats.starttime.date} {str(st0[0].stats.starttime.time)[:9]} UTC\")\n",
    "\n",
    "    plt.show();\n",
    "\n",
    "__makeplot_traces(st1)\n"
   ]
  },
  {
   "cell_type": "markdown",
   "metadata": {},
   "source": [
    "### Plotting spectra"
   ]
  },
  {
   "cell_type": "code",
   "execution_count": null,
   "metadata": {
    "ExecuteTime": {
     "end_time": "2021-03-18T16:28:21.386897Z",
     "start_time": "2021-03-18T16:28:20.951626Z"
    },
    "code_folding": [
     0
    ]
   },
   "outputs": [],
   "source": [
    "def __makeplot_spectra(freqs, specs):\n",
    "\n",
    "    fmax = 1.5e-3\n",
    "\n",
    "    for i, f in enumerate(freqs):\n",
    "        if f > fmax:\n",
    "            nmax = i\n",
    "            break\n",
    "\n",
    "    time = np.linspace(0, st[0].stats.npts*st[0].stats.delta,  st[0].stats.npts)\n",
    "\n",
    "    N = len(config['seeds'])\n",
    "\n",
    "    fig, ax = plt.subplots(N, 1, figsize=(15, 10), sharex=True)\n",
    "\n",
    "    for i, seed in enumerate(config['seeds']):\n",
    "\n",
    "        print(seed)\n",
    "\n",
    "        net, sta, loc, cha = seed.split(\".\")\n",
    "\n",
    "        ax[i].plot(freqs[:nmax], specs[i][:nmax], label=f'{sta}.{cha}', lw=1)\n",
    "\n",
    "        if cha[1] == \"J\":\n",
    "            ax[i].set_ylabel(r\"ASD (rad/s$\\sqrt{Hz}$)\")\n",
    "        else:\n",
    "            ax[i].set_ylabel(r\"ASD (m/s$^2$$\\sqrt{Hz}$)\")\n",
    "\n",
    "        ax[i].legend(loc=\"upper right\")\n",
    "\n",
    "        ax[i].set_xlim(0.2e-3, freqs[nmax])\n",
    "\n",
    "        # ax[i].set_yscale(\"log\")\n",
    "\n",
    "        for mode in free_modes.values():\n",
    "            ax[i].axvline(mode*1e-6, color='grey', zorder=0)\n",
    "\n",
    "    if event == 'kermadec':\n",
    "        ax[0].set_ylim(0, 0.0004)\n",
    "        ax[1].set_ylim(0, 0.0002)\n",
    "        ax[2].set_ylim(0, 0.0006)\n",
    "        ax[3].set_ylim(0, 0.5e-9)\n",
    "\n",
    "    if event == 'tohoku':\n",
    "        ax[0].set_ylim(0, 0.001)\n",
    "        ax[1].set_ylim(0, 0.001)\n",
    "        ax[2].set_ylim(0, 0.001)\n",
    "        ax[3].set_ylim(0, 1e-9)\n",
    "\n",
    "    ax[N-1].set_xlabel(f\"days after {st[0].stats.starttime.date} {str(st[0].stats.starttime.time)[:9]} UTC\")\n",
    "\n",
    "    plt.show();\n",
    "\n",
    "__makeplot_spectra(freqs, specs)\n"
   ]
  },
  {
   "cell_type": "code",
   "execution_count": null,
   "metadata": {
    "ExecuteTime": {
     "end_time": "2021-03-18T16:28:22.056710Z",
     "start_time": "2021-03-18T16:28:21.389704Z"
    },
    "code_folding": [
     0
    ]
   },
   "outputs": [],
   "source": []
  },
  {
   "cell_type": "code",
   "execution_count": null,
   "metadata": {},
   "outputs": [],
   "source": []
  },
  {
   "cell_type": "code",
   "execution_count": null,
   "metadata": {
    "ExecuteTime": {
     "end_time": "2021-03-18T16:28:22.455494Z",
     "start_time": "2021-03-18T16:28:22.058384Z"
    },
    "code_folding": [
     0
    ]
   },
   "outputs": [],
   "source": [
    "def __makeplot_spectra_MT(freqs, specs):\n",
    "\n",
    "    fmax = 1.5e-3\n",
    "\n",
    "    for i, f in enumerate(freqs):\n",
    "        if f > fmax:\n",
    "            nmax = i\n",
    "            break\n",
    "\n",
    "    time = np.linspace(0, st[0].stats.npts*st[0].stats.delta,  st[0].stats.npts)\n",
    "\n",
    "    N = len(config['seeds'])\n",
    "\n",
    "    fig, ax = plt.subplots(N, 1, figsize=(15, 10), sharex=True)\n",
    "\n",
    "    for i, seed in enumerate(config['seeds']):\n",
    "\n",
    "        print(seed)\n",
    "\n",
    "        net, sta, loc, cha = seed.split(\".\")\n",
    "\n",
    "        ax[i].plot(freqs[:nmax], specs[i][:nmax], label=f'{sta}.{cha}', lw=1)\n",
    "\n",
    "        if cha[1] == \"J\":\n",
    "            ax[i].set_ylabel(r\"ASD (rad/s$\\sqrt{Hz}$)\")\n",
    "        else:\n",
    "            ax[i].set_ylabel(r\"ASD (m/s$^2$$\\sqrt{Hz}$)\")\n",
    "\n",
    "        ax[i].legend(loc=\"upper right\")\n",
    "\n",
    "        ax[i].set_xlim(0.2e-3, freqs[nmax])\n",
    "\n",
    "        for mode in free_modes.values():\n",
    "            ax[i].axvline(mode*1e-6, color='grey', zorder=0)\n",
    "\n",
    "#     if event == 'kermadec':\n",
    "#         ax[0].set_ylim(0, 0.0004)\n",
    "#         ax[1].set_ylim(0, 0.0002)\n",
    "#         ax[2].set_ylim(0, 0.0006)\n",
    "#         ax[3].set_ylim(0, 0.5e-9)\n",
    "\n",
    "#     if event == 'tohoku':\n",
    "#         ax[0].set_ylim(0, 0.001)\n",
    "#         ax[1].set_ylim(0, 0.001)\n",
    "#         ax[2].set_ylim(0, 0.001)\n",
    "#         ax[3].set_ylim(0, 1e-9)\n",
    "\n",
    "\n",
    "    ax[N-1].set_xlabel(f\"days after {st[0].stats.starttime.date} {str(st[0].stats.starttime.time)[:9]} UTC\")\n",
    "\n",
    "    plt.show();\n",
    "\n",
    "__makeplot_spectra_MT(freqsMT, specsMT)\n"
   ]
  },
  {
   "cell_type": "code",
   "execution_count": null,
   "metadata": {},
   "outputs": [],
   "source": []
  },
  {
   "cell_type": "code",
   "execution_count": null,
   "metadata": {},
   "outputs": [],
   "source": []
  },
  {
   "cell_type": "markdown",
   "metadata": {},
   "source": [
    "## Tests"
   ]
  },
  {
   "cell_type": "code",
   "execution_count": null,
   "metadata": {
    "ExecuteTime": {
     "end_time": "2021-03-18T16:28:22.458960Z",
     "start_time": "2021-03-18T16:28:02.869Z"
    }
   },
   "outputs": [],
   "source": [
    "from obspy import Trace\n",
    "\n",
    "fs = 10\n",
    "t = np.arange(0, 1000/fs, 1/fs)\n",
    "y = 0.5*np.sin(2*np.pi*0.5*t) + 3*np.sin(2*np.pi*1*t)\n",
    "\n",
    "sty = Stream()\n",
    "tr  = Trace(y)\n",
    "tr.stats.sampling_rate = fs\n",
    "tr.taper(0.1)\n",
    "\n",
    "plt.figure()\n",
    "plt.plot(t,y)\n",
    "\n",
    "sty += tr\n",
    "sty[0]\n",
    "\n",
    "specs, freqs = __make_spectra_welch(sty)\n",
    "specs, freqs = __make_spectra_MT(sty, method='unity')\n",
    "\n",
    "plt.figure()\n",
    "plt.semilogy(freqs, specs[0])"
   ]
  },
  {
   "cell_type": "code",
   "execution_count": null,
   "metadata": {
    "ExecuteTime": {
     "end_time": "2021-03-18T16:28:22.460661Z",
     "start_time": "2021-03-18T16:28:02.871Z"
    },
    "scrolled": true
   },
   "outputs": [],
   "source": [
    "from pylab import grid, semilogy\n",
    "from spectrum import data_cosine, speriodogram, Periodogram\n",
    "\n",
    "num = 1\n",
    "data = st[num].data\n",
    "fs   = st[num].stats.sampling_rate\n",
    "npts = st[num].stats.npts\n",
    "\n",
    "from scipy.signal import welch\n",
    "\n",
    "factor = 50\n",
    "psd0 = welch(data, fs=fs, nperseg=int(4096*factor), nfft=int(4096*factor), window=\"hann\", scaling=\"density\")\n",
    "\n",
    "from spectrum import WelchPeriodogram\n",
    "psd = WelchPeriodogram(data, NFFT=int(4096*factor), sampling=fs); plt.close()\n",
    "\n",
    "specs, freqs = __make_spectra_fft(st)\n",
    "\n",
    "plt.figure()\n",
    "plt.plot(psd[0][1], 20*np.log10(psd[0][0]))\n",
    "plt.plot(psd0[0], 20*np.log10(psd0[1]))\n",
    "plt.plot(freqs, 20*np.log10((specs[num])**2))\n",
    "\n",
    "plt.xlim(0, 0.002)"
   ]
  },
  {
   "cell_type": "code",
   "execution_count": null,
   "metadata": {
    "ExecuteTime": {
     "end_time": "2021-03-18T16:28:22.462296Z",
     "start_time": "2021-03-18T16:28:02.873Z"
    },
    "scrolled": true
   },
   "outputs": [],
   "source": [
    "from spectrum import data_cosine, dpss, pmtm\n",
    "\n",
    "data = data_cosine(N=1024, A=0.01, sampling=1024, freq=200)\n",
    "\n",
    "\n",
    "[tapers, eigen] = dpss(1024, 3, 4)\n",
    "\n",
    "skc,w,e = pmtm(data, e=eigen, v=tapers, show=True, method='unity')\n",
    "\n",
    "sk = abs(skc)**2\n",
    "\n",
    "w = np.transpose(np.ones(np.shape(sk)))\n",
    "\n",
    "print(np.shape(w), np.shape(sk))\n",
    "\n",
    "out = np.matmul(np.transpose(sk), np.transpose(w))\n",
    "out = np.mean(np.matmul(w, sk) , axis=0)\n",
    "\n",
    "\n",
    "plt.semilogy(out)\n"
   ]
  },
  {
   "cell_type": "code",
   "execution_count": null,
   "metadata": {},
   "outputs": [],
   "source": []
  }
 ],
 "metadata": {
  "anaconda-cloud": {},
  "kernelspec": {
   "display_name": "Python 3 (ipykernel)",
   "language": "python",
   "name": "python3"
  },
  "language_info": {
   "codemirror_mode": {
    "name": "ipython",
    "version": 3
   },
   "file_extension": ".py",
   "mimetype": "text/x-python",
   "name": "python",
   "nbconvert_exporter": "python",
   "pygments_lexer": "ipython3",
   "version": "3.9.16"
  }
 },
 "nbformat": 4,
 "nbformat_minor": 4
}
