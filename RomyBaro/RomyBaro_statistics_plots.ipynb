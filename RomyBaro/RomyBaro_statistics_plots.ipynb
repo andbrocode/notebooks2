{
 "cells": [
  {
   "cell_type": "markdown",
   "id": "0b26487a",
   "metadata": {
    "ExecuteTime": {
     "end_time": "2022-09-13T00:35:24.926376Z",
     "start_time": "2022-09-13T00:35:24.923877Z"
    }
   },
   "source": [
    "# ROMY Barometer - Statistic Plots"
   ]
  },
  {
   "cell_type": "markdown",
   "id": "7742e363",
   "metadata": {},
   "source": []
  },
  {
   "cell_type": "code",
   "execution_count": 9,
   "id": "35a4ef94",
   "metadata": {
    "ExecuteTime": {
     "end_time": "2023-04-05T16:30:44.374156Z",
     "start_time": "2023-04-05T16:30:42.823021Z"
    },
    "tags": []
   },
   "outputs": [],
   "source": [
    "import os\n",
    "import obspy as obs\n",
    "import matplotlib.pyplot as plt\n",
    "import numpy as np\n",
    "import pandas as pd\n",
    "\n",
    "from obspy import read_inventory\n",
    "\n",
    "from andbro__read_sds import __read_sds"
   ]
  },
  {
   "cell_type": "code",
   "execution_count": 3,
   "id": "938b2d63",
   "metadata": {
    "tags": []
   },
   "outputs": [],
   "source": [
    "from functions.get_mean_promy_pressure import __get_mean_promy_pressure\n",
    "from functions.get_mean_rmy_pressure import __get_mean_rmy_pressure"
   ]
  },
  {
   "cell_type": "code",
   "execution_count": 4,
   "id": "01029ab1-9e4d-4c20-9b88-add9ca37c16a",
   "metadata": {},
   "outputs": [],
   "source": [
    "#%matplotlib tk"
   ]
  },
  {
   "cell_type": "code",
   "execution_count": 5,
   "id": "ead1b641",
   "metadata": {
    "tags": []
   },
   "outputs": [],
   "source": [
    "if os.uname().nodename == 'lighthouse':\n",
    "    root_path = '/home/andbro/'\n",
    "    data_path = '/home/andbro/kilauea-data/'\n",
    "    archive_path = '/home/andbro/freenas/'\n",
    "    bay_path = '/home/andbro/bay200/'\n",
    "elif os.uname().nodename == 'kilauea':\n",
    "    root_path = '/home/brotzer/'\n",
    "    data_path = '/import/kilauea-data/'\n",
    "    archive_path = '/import/freenas-ffb-01-data/'\n",
    "    bay_path = '/bay200/'\n",
    "elif os.uname().nodename in ['lin-ffb-01', 'ambrym', 'hochfelln']:\n",
    "    root_path = '/home/brotzer/'\n",
    "    data_path = '/import/kilauea-data/'\n",
    "    archive_path = '/import/freenas-ffb-01-data/'\n",
    "    bay_path = '/bay200/'"
   ]
  },
  {
   "cell_type": "markdown",
   "id": "a0057ee8",
   "metadata": {},
   "source": [
    "## Configurations"
   ]
  },
  {
   "cell_type": "code",
   "execution_count": 6,
   "id": "2759106e",
   "metadata": {
    "ExecuteTime": {
     "end_time": "2023-04-05T16:32:26.446824Z",
     "start_time": "2023-04-05T16:32:26.444464Z"
    },
    "tags": []
   },
   "outputs": [],
   "source": [
    "config = {}\n",
    "\n",
    "# output path for figures\n",
    "config['path_to_figs'] = data_path+\"romy_baro/figures/\"\n",
    "\n",
    "# path to data archive\n",
    "config['path_to_data'] = data_path+\"romy_baro/data/\"\n",
    "\n"
   ]
  },
  {
   "cell_type": "markdown",
   "id": "3914128a",
   "metadata": {},
   "source": [
    "## Load Data"
   ]
  },
  {
   "cell_type": "code",
   "execution_count": 20,
   "id": "f4cb0d37-a43d-4842-9da8-c59f6f2f09e1",
   "metadata": {
    "tags": []
   },
   "outputs": [],
   "source": [
    "df = pd.read_pickle(config['path_to_data']+\"RB_statistics.pkl\")"
   ]
  },
  {
   "cell_type": "code",
   "execution_count": 21,
   "id": "cd1dc094-ad67-4b84-9a7a-6fe230e43c13",
   "metadata": {
    "tags": []
   },
   "outputs": [],
   "source": [
    "df = df[df.status == False]"
   ]
  },
  {
   "cell_type": "code",
   "execution_count": 22,
   "id": "17b4efe5-2c93-4693-98af-6f430ca1dddb",
   "metadata": {
    "tags": []
   },
   "outputs": [
    {
     "data": {
      "text/html": [
       "<div>\n",
       "<style scoped>\n",
       "    .dataframe tbody tr th:only-of-type {\n",
       "        vertical-align: middle;\n",
       "    }\n",
       "\n",
       "    .dataframe tbody tr th {\n",
       "        vertical-align: top;\n",
       "    }\n",
       "\n",
       "    .dataframe thead th {\n",
       "        text-align: right;\n",
       "    }\n",
       "</style>\n",
       "<table border=\"1\" class=\"dataframe\">\n",
       "  <thead>\n",
       "    <tr style=\"text-align: right;\">\n",
       "      <th></th>\n",
       "      <th>t1</th>\n",
       "      <th>t2</th>\n",
       "      <th>status</th>\n",
       "      <th>shift_PP_N</th>\n",
       "      <th>shift_PP_E</th>\n",
       "      <th>shift_HP_N</th>\n",
       "      <th>shift_HP_E</th>\n",
       "      <th>cmax_PP_N</th>\n",
       "      <th>cmax_PP_E</th>\n",
       "      <th>cmax_HP_N</th>\n",
       "      <th>cmax_HP_E</th>\n",
       "      <th>r_z</th>\n",
       "      <th>r_n</th>\n",
       "      <th>r_e</th>\n",
       "      <th>a_z</th>\n",
       "      <th>a_n</th>\n",
       "      <th>a_e</th>\n",
       "      <th>b_z</th>\n",
       "      <th>b_n</th>\n",
       "      <th>b_e</th>\n",
       "    </tr>\n",
       "  </thead>\n",
       "  <tbody>\n",
       "    <tr>\n",
       "      <th>1</th>\n",
       "      <td>2024-04-20T02:00:00.000000Z</td>\n",
       "      <td>2024-04-20T05:00:00.000000Z</td>\n",
       "      <td>False</td>\n",
       "      <td>-374.0</td>\n",
       "      <td>-437.0</td>\n",
       "      <td>-46.0</td>\n",
       "      <td>-55.0</td>\n",
       "      <td>-0.523632</td>\n",
       "      <td>0.556844</td>\n",
       "      <td>-0.503033</td>\n",
       "      <td>0.617003</td>\n",
       "      <td>13.41</td>\n",
       "      <td>22.95</td>\n",
       "      <td>37.32</td>\n",
       "      <td>2.348783e-10</td>\n",
       "      <td>2.388746e-10</td>\n",
       "      <td>-4.750663e-10</td>\n",
       "      <td>-2.104374e-10</td>\n",
       "      <td>-1.512435e-09</td>\n",
       "      <td>9.378284e-10</td>\n",
       "    </tr>\n",
       "    <tr>\n",
       "      <th>2</th>\n",
       "      <td>2024-04-20T04:00:00.000000Z</td>\n",
       "      <td>2024-04-20T07:00:00.000000Z</td>\n",
       "      <td>False</td>\n",
       "      <td>277.0</td>\n",
       "      <td>4329.0</td>\n",
       "      <td>24.0</td>\n",
       "      <td>4686.0</td>\n",
       "      <td>-0.507900</td>\n",
       "      <td>-0.466901</td>\n",
       "      <td>0.549269</td>\n",
       "      <td>-0.505150</td>\n",
       "      <td>13.85</td>\n",
       "      <td>28.48</td>\n",
       "      <td>15.81</td>\n",
       "      <td>-8.101145e-10</td>\n",
       "      <td>6.746761e-11</td>\n",
       "      <td>7.839609e-11</td>\n",
       "      <td>3.039246e-09</td>\n",
       "      <td>1.937761e-09</td>\n",
       "      <td>-2.141780e-09</td>\n",
       "    </tr>\n",
       "    <tr>\n",
       "      <th>3</th>\n",
       "      <td>2024-04-20T06:00:00.000000Z</td>\n",
       "      <td>2024-04-20T09:00:00.000000Z</td>\n",
       "      <td>False</td>\n",
       "      <td>-4222.0</td>\n",
       "      <td>-475.0</td>\n",
       "      <td>-685.0</td>\n",
       "      <td>-726.0</td>\n",
       "      <td>0.298569</td>\n",
       "      <td>-0.419158</td>\n",
       "      <td>-0.301986</td>\n",
       "      <td>0.430946</td>\n",
       "      <td>14.46</td>\n",
       "      <td>5.35</td>\n",
       "      <td>6.92</td>\n",
       "      <td>-1.685316e-09</td>\n",
       "      <td>1.581034e-10</td>\n",
       "      <td>4.271367e-10</td>\n",
       "      <td>2.373188e-09</td>\n",
       "      <td>8.230512e-10</td>\n",
       "      <td>-1.190180e-09</td>\n",
       "    </tr>\n",
       "    <tr>\n",
       "      <th>4</th>\n",
       "      <td>2024-04-20T08:00:00.000000Z</td>\n",
       "      <td>2024-04-20T11:00:00.000000Z</td>\n",
       "      <td>False</td>\n",
       "      <td>-233.0</td>\n",
       "      <td>-3475.0</td>\n",
       "      <td>38.0</td>\n",
       "      <td>46.0</td>\n",
       "      <td>0.493583</td>\n",
       "      <td>0.408832</td>\n",
       "      <td>0.600588</td>\n",
       "      <td>-0.461417</td>\n",
       "      <td>7.75</td>\n",
       "      <td>36.67</td>\n",
       "      <td>18.63</td>\n",
       "      <td>-2.770947e-10</td>\n",
       "      <td>5.333925e-10</td>\n",
       "      <td>-2.458769e-10</td>\n",
       "      <td>1.020033e-09</td>\n",
       "      <td>1.221800e-09</td>\n",
       "      <td>-1.166897e-09</td>\n",
       "    </tr>\n",
       "    <tr>\n",
       "      <th>5</th>\n",
       "      <td>2024-04-20T10:00:00.000000Z</td>\n",
       "      <td>2024-04-20T13:00:00.000000Z</td>\n",
       "      <td>False</td>\n",
       "      <td>254.0</td>\n",
       "      <td>5651.0</td>\n",
       "      <td>28.0</td>\n",
       "      <td>5332.0</td>\n",
       "      <td>-0.421237</td>\n",
       "      <td>0.397080</td>\n",
       "      <td>0.540224</td>\n",
       "      <td>-0.412654</td>\n",
       "      <td>30.18</td>\n",
       "      <td>26.44</td>\n",
       "      <td>8.17</td>\n",
       "      <td>-1.401358e-09</td>\n",
       "      <td>7.109994e-11</td>\n",
       "      <td>3.327314e-10</td>\n",
       "      <td>4.783868e-11</td>\n",
       "      <td>8.962240e-10</td>\n",
       "      <td>-3.529778e-10</td>\n",
       "    </tr>\n",
       "    <tr>\n",
       "      <th>...</th>\n",
       "      <td>...</td>\n",
       "      <td>...</td>\n",
       "      <td>...</td>\n",
       "      <td>...</td>\n",
       "      <td>...</td>\n",
       "      <td>...</td>\n",
       "      <td>...</td>\n",
       "      <td>...</td>\n",
       "      <td>...</td>\n",
       "      <td>...</td>\n",
       "      <td>...</td>\n",
       "      <td>...</td>\n",
       "      <td>...</td>\n",
       "      <td>...</td>\n",
       "      <td>...</td>\n",
       "      <td>...</td>\n",
       "      <td>...</td>\n",
       "      <td>...</td>\n",
       "      <td>...</td>\n",
       "      <td>...</td>\n",
       "    </tr>\n",
       "    <tr>\n",
       "      <th>269</th>\n",
       "      <td>2024-05-12T10:00:00.000000Z</td>\n",
       "      <td>2024-05-12T13:00:00.000000Z</td>\n",
       "      <td>False</td>\n",
       "      <td>-223.0</td>\n",
       "      <td>-252.0</td>\n",
       "      <td>-12.0</td>\n",
       "      <td>-25.0</td>\n",
       "      <td>-0.350333</td>\n",
       "      <td>0.408628</td>\n",
       "      <td>-0.504098</td>\n",
       "      <td>0.453663</td>\n",
       "      <td>4.34</td>\n",
       "      <td>25.08</td>\n",
       "      <td>19.65</td>\n",
       "      <td>-2.437478e-10</td>\n",
       "      <td>1.147016e-10</td>\n",
       "      <td>4.697208e-12</td>\n",
       "      <td>-1.117166e-09</td>\n",
       "      <td>-3.029645e-09</td>\n",
       "      <td>3.298222e-09</td>\n",
       "    </tr>\n",
       "    <tr>\n",
       "      <th>270</th>\n",
       "      <td>2024-05-12T12:00:00.000000Z</td>\n",
       "      <td>2024-05-12T15:00:00.000000Z</td>\n",
       "      <td>False</td>\n",
       "      <td>456.0</td>\n",
       "      <td>393.0</td>\n",
       "      <td>198.0</td>\n",
       "      <td>665.0</td>\n",
       "      <td>0.503118</td>\n",
       "      <td>-0.511735</td>\n",
       "      <td>-0.462336</td>\n",
       "      <td>-0.460494</td>\n",
       "      <td>8.55</td>\n",
       "      <td>15.59</td>\n",
       "      <td>16.40</td>\n",
       "      <td>7.354768e-10</td>\n",
       "      <td>-6.045462e-09</td>\n",
       "      <td>1.757574e-09</td>\n",
       "      <td>-1.535439e-09</td>\n",
       "      <td>-6.451852e-09</td>\n",
       "      <td>5.145451e-09</td>\n",
       "    </tr>\n",
       "    <tr>\n",
       "      <th>283</th>\n",
       "      <td>2024-05-13T14:00:00.000000Z</td>\n",
       "      <td>2024-05-13T17:00:00.000000Z</td>\n",
       "      <td>False</td>\n",
       "      <td>4743.0</td>\n",
       "      <td>4740.0</td>\n",
       "      <td>4378.0</td>\n",
       "      <td>4377.0</td>\n",
       "      <td>-0.453514</td>\n",
       "      <td>0.454385</td>\n",
       "      <td>0.465788</td>\n",
       "      <td>-0.470558</td>\n",
       "      <td>3.77</td>\n",
       "      <td>10.84</td>\n",
       "      <td>8.28</td>\n",
       "      <td>-1.299465e-09</td>\n",
       "      <td>3.094864e-09</td>\n",
       "      <td>-1.099081e-09</td>\n",
       "      <td>-4.087190e-10</td>\n",
       "      <td>-1.240497e-08</td>\n",
       "      <td>6.954565e-09</td>\n",
       "    </tr>\n",
       "    <tr>\n",
       "      <th>284</th>\n",
       "      <td>2024-05-13T16:00:00.000000Z</td>\n",
       "      <td>2024-05-13T19:00:00.000000Z</td>\n",
       "      <td>False</td>\n",
       "      <td>-5436.0</td>\n",
       "      <td>-4457.0</td>\n",
       "      <td>-5786.0</td>\n",
       "      <td>-5794.0</td>\n",
       "      <td>0.450945</td>\n",
       "      <td>0.519023</td>\n",
       "      <td>-0.506075</td>\n",
       "      <td>0.552728</td>\n",
       "      <td>4.07</td>\n",
       "      <td>0.82</td>\n",
       "      <td>3.59</td>\n",
       "      <td>-1.102554e-09</td>\n",
       "      <td>-5.484462e-10</td>\n",
       "      <td>6.913658e-10</td>\n",
       "      <td>1.314332e-09</td>\n",
       "      <td>-4.116196e-10</td>\n",
       "      <td>-1.632000e-09</td>\n",
       "    </tr>\n",
       "    <tr>\n",
       "      <th>285</th>\n",
       "      <td>2024-05-13T18:00:00.000000Z</td>\n",
       "      <td>2024-05-13T21:00:00.000000Z</td>\n",
       "      <td>False</td>\n",
       "      <td>282.0</td>\n",
       "      <td>4269.0</td>\n",
       "      <td>-22.0</td>\n",
       "      <td>3960.0</td>\n",
       "      <td>-0.403951</td>\n",
       "      <td>0.379989</td>\n",
       "      <td>0.389694</td>\n",
       "      <td>-0.371994</td>\n",
       "      <td>4.02</td>\n",
       "      <td>15.68</td>\n",
       "      <td>11.11</td>\n",
       "      <td>-1.139428e-09</td>\n",
       "      <td>-4.266387e-09</td>\n",
       "      <td>5.411495e-09</td>\n",
       "      <td>-3.843112e-09</td>\n",
       "      <td>2.064522e-08</td>\n",
       "      <td>-1.128342e-08</td>\n",
       "    </tr>\n",
       "  </tbody>\n",
       "</table>\n",
       "<p>103 rows × 20 columns</p>\n",
       "</div>"
      ],
      "text/plain": [
       "                              t1                           t2  status  \\\n",
       "1    2024-04-20T02:00:00.000000Z  2024-04-20T05:00:00.000000Z   False   \n",
       "2    2024-04-20T04:00:00.000000Z  2024-04-20T07:00:00.000000Z   False   \n",
       "3    2024-04-20T06:00:00.000000Z  2024-04-20T09:00:00.000000Z   False   \n",
       "4    2024-04-20T08:00:00.000000Z  2024-04-20T11:00:00.000000Z   False   \n",
       "5    2024-04-20T10:00:00.000000Z  2024-04-20T13:00:00.000000Z   False   \n",
       "..                           ...                          ...     ...   \n",
       "269  2024-05-12T10:00:00.000000Z  2024-05-12T13:00:00.000000Z   False   \n",
       "270  2024-05-12T12:00:00.000000Z  2024-05-12T15:00:00.000000Z   False   \n",
       "283  2024-05-13T14:00:00.000000Z  2024-05-13T17:00:00.000000Z   False   \n",
       "284  2024-05-13T16:00:00.000000Z  2024-05-13T19:00:00.000000Z   False   \n",
       "285  2024-05-13T18:00:00.000000Z  2024-05-13T21:00:00.000000Z   False   \n",
       "\n",
       "     shift_PP_N  shift_PP_E  shift_HP_N  shift_HP_E  cmax_PP_N  cmax_PP_E  \\\n",
       "1        -374.0      -437.0       -46.0       -55.0  -0.523632   0.556844   \n",
       "2         277.0      4329.0        24.0      4686.0  -0.507900  -0.466901   \n",
       "3       -4222.0      -475.0      -685.0      -726.0   0.298569  -0.419158   \n",
       "4        -233.0     -3475.0        38.0        46.0   0.493583   0.408832   \n",
       "5         254.0      5651.0        28.0      5332.0  -0.421237   0.397080   \n",
       "..          ...         ...         ...         ...        ...        ...   \n",
       "269      -223.0      -252.0       -12.0       -25.0  -0.350333   0.408628   \n",
       "270       456.0       393.0       198.0       665.0   0.503118  -0.511735   \n",
       "283      4743.0      4740.0      4378.0      4377.0  -0.453514   0.454385   \n",
       "284     -5436.0     -4457.0     -5786.0     -5794.0   0.450945   0.519023   \n",
       "285       282.0      4269.0       -22.0      3960.0  -0.403951   0.379989   \n",
       "\n",
       "     cmax_HP_N  cmax_HP_E    r_z    r_n    r_e           a_z           a_n  \\\n",
       "1    -0.503033   0.617003  13.41  22.95  37.32  2.348783e-10  2.388746e-10   \n",
       "2     0.549269  -0.505150  13.85  28.48  15.81 -8.101145e-10  6.746761e-11   \n",
       "3    -0.301986   0.430946  14.46   5.35   6.92 -1.685316e-09  1.581034e-10   \n",
       "4     0.600588  -0.461417   7.75  36.67  18.63 -2.770947e-10  5.333925e-10   \n",
       "5     0.540224  -0.412654  30.18  26.44   8.17 -1.401358e-09  7.109994e-11   \n",
       "..         ...        ...    ...    ...    ...           ...           ...   \n",
       "269  -0.504098   0.453663   4.34  25.08  19.65 -2.437478e-10  1.147016e-10   \n",
       "270  -0.462336  -0.460494   8.55  15.59  16.40  7.354768e-10 -6.045462e-09   \n",
       "283   0.465788  -0.470558   3.77  10.84   8.28 -1.299465e-09  3.094864e-09   \n",
       "284  -0.506075   0.552728   4.07   0.82   3.59 -1.102554e-09 -5.484462e-10   \n",
       "285   0.389694  -0.371994   4.02  15.68  11.11 -1.139428e-09 -4.266387e-09   \n",
       "\n",
       "              a_e           b_z           b_n           b_e  \n",
       "1   -4.750663e-10 -2.104374e-10 -1.512435e-09  9.378284e-10  \n",
       "2    7.839609e-11  3.039246e-09  1.937761e-09 -2.141780e-09  \n",
       "3    4.271367e-10  2.373188e-09  8.230512e-10 -1.190180e-09  \n",
       "4   -2.458769e-10  1.020033e-09  1.221800e-09 -1.166897e-09  \n",
       "5    3.327314e-10  4.783868e-11  8.962240e-10 -3.529778e-10  \n",
       "..            ...           ...           ...           ...  \n",
       "269  4.697208e-12 -1.117166e-09 -3.029645e-09  3.298222e-09  \n",
       "270  1.757574e-09 -1.535439e-09 -6.451852e-09  5.145451e-09  \n",
       "283 -1.099081e-09 -4.087190e-10 -1.240497e-08  6.954565e-09  \n",
       "284  6.913658e-10  1.314332e-09 -4.116196e-10 -1.632000e-09  \n",
       "285  5.411495e-09 -3.843112e-09  2.064522e-08 -1.128342e-08  \n",
       "\n",
       "[103 rows x 20 columns]"
      ]
     },
     "execution_count": 22,
     "metadata": {},
     "output_type": "execute_result"
    }
   ],
   "source": [
    "df"
   ]
  },
  {
   "cell_type": "code",
   "execution_count": 23,
   "id": "9ef453a1-a579-4a6e-a004-4ca19203ec06",
   "metadata": {
    "tags": []
   },
   "outputs": [],
   "source": [
    "df = df[df.b_e != 0]"
   ]
  },
  {
   "cell_type": "code",
   "execution_count": 24,
   "id": "cc2db3b8-b1d9-4b98-b270-bf5c38fdcb30",
   "metadata": {
    "tags": []
   },
   "outputs": [
    {
     "data": {
      "text/html": [
       "<div>\n",
       "<style scoped>\n",
       "    .dataframe tbody tr th:only-of-type {\n",
       "        vertical-align: middle;\n",
       "    }\n",
       "\n",
       "    .dataframe tbody tr th {\n",
       "        vertical-align: top;\n",
       "    }\n",
       "\n",
       "    .dataframe thead th {\n",
       "        text-align: right;\n",
       "    }\n",
       "</style>\n",
       "<table border=\"1\" class=\"dataframe\">\n",
       "  <thead>\n",
       "    <tr style=\"text-align: right;\">\n",
       "      <th></th>\n",
       "      <th>t1</th>\n",
       "      <th>t2</th>\n",
       "      <th>status</th>\n",
       "      <th>shift_PP_N</th>\n",
       "      <th>shift_PP_E</th>\n",
       "      <th>shift_HP_N</th>\n",
       "      <th>shift_HP_E</th>\n",
       "      <th>cmax_PP_N</th>\n",
       "      <th>cmax_PP_E</th>\n",
       "      <th>cmax_HP_N</th>\n",
       "      <th>cmax_HP_E</th>\n",
       "      <th>r_z</th>\n",
       "      <th>r_n</th>\n",
       "      <th>r_e</th>\n",
       "      <th>a_z</th>\n",
       "      <th>a_n</th>\n",
       "      <th>a_e</th>\n",
       "      <th>b_z</th>\n",
       "      <th>b_n</th>\n",
       "      <th>b_e</th>\n",
       "    </tr>\n",
       "  </thead>\n",
       "  <tbody>\n",
       "    <tr>\n",
       "      <th>1</th>\n",
       "      <td>2024-04-20T02:00:00.000000Z</td>\n",
       "      <td>2024-04-20T05:00:00.000000Z</td>\n",
       "      <td>False</td>\n",
       "      <td>-374.0</td>\n",
       "      <td>-437.0</td>\n",
       "      <td>-46.0</td>\n",
       "      <td>-55.0</td>\n",
       "      <td>-0.523632</td>\n",
       "      <td>0.556844</td>\n",
       "      <td>-0.503033</td>\n",
       "      <td>0.617003</td>\n",
       "      <td>13.41</td>\n",
       "      <td>22.95</td>\n",
       "      <td>37.32</td>\n",
       "      <td>2.348783e-10</td>\n",
       "      <td>2.388746e-10</td>\n",
       "      <td>-4.750663e-10</td>\n",
       "      <td>-2.104374e-10</td>\n",
       "      <td>-1.512435e-09</td>\n",
       "      <td>9.378284e-10</td>\n",
       "    </tr>\n",
       "    <tr>\n",
       "      <th>2</th>\n",
       "      <td>2024-04-20T04:00:00.000000Z</td>\n",
       "      <td>2024-04-20T07:00:00.000000Z</td>\n",
       "      <td>False</td>\n",
       "      <td>277.0</td>\n",
       "      <td>4329.0</td>\n",
       "      <td>24.0</td>\n",
       "      <td>4686.0</td>\n",
       "      <td>-0.507900</td>\n",
       "      <td>-0.466901</td>\n",
       "      <td>0.549269</td>\n",
       "      <td>-0.505150</td>\n",
       "      <td>13.85</td>\n",
       "      <td>28.48</td>\n",
       "      <td>15.81</td>\n",
       "      <td>-8.101145e-10</td>\n",
       "      <td>6.746761e-11</td>\n",
       "      <td>7.839609e-11</td>\n",
       "      <td>3.039246e-09</td>\n",
       "      <td>1.937761e-09</td>\n",
       "      <td>-2.141780e-09</td>\n",
       "    </tr>\n",
       "    <tr>\n",
       "      <th>3</th>\n",
       "      <td>2024-04-20T06:00:00.000000Z</td>\n",
       "      <td>2024-04-20T09:00:00.000000Z</td>\n",
       "      <td>False</td>\n",
       "      <td>-4222.0</td>\n",
       "      <td>-475.0</td>\n",
       "      <td>-685.0</td>\n",
       "      <td>-726.0</td>\n",
       "      <td>0.298569</td>\n",
       "      <td>-0.419158</td>\n",
       "      <td>-0.301986</td>\n",
       "      <td>0.430946</td>\n",
       "      <td>14.46</td>\n",
       "      <td>5.35</td>\n",
       "      <td>6.92</td>\n",
       "      <td>-1.685316e-09</td>\n",
       "      <td>1.581034e-10</td>\n",
       "      <td>4.271367e-10</td>\n",
       "      <td>2.373188e-09</td>\n",
       "      <td>8.230512e-10</td>\n",
       "      <td>-1.190180e-09</td>\n",
       "    </tr>\n",
       "    <tr>\n",
       "      <th>4</th>\n",
       "      <td>2024-04-20T08:00:00.000000Z</td>\n",
       "      <td>2024-04-20T11:00:00.000000Z</td>\n",
       "      <td>False</td>\n",
       "      <td>-233.0</td>\n",
       "      <td>-3475.0</td>\n",
       "      <td>38.0</td>\n",
       "      <td>46.0</td>\n",
       "      <td>0.493583</td>\n",
       "      <td>0.408832</td>\n",
       "      <td>0.600588</td>\n",
       "      <td>-0.461417</td>\n",
       "      <td>7.75</td>\n",
       "      <td>36.67</td>\n",
       "      <td>18.63</td>\n",
       "      <td>-2.770947e-10</td>\n",
       "      <td>5.333925e-10</td>\n",
       "      <td>-2.458769e-10</td>\n",
       "      <td>1.020033e-09</td>\n",
       "      <td>1.221800e-09</td>\n",
       "      <td>-1.166897e-09</td>\n",
       "    </tr>\n",
       "    <tr>\n",
       "      <th>5</th>\n",
       "      <td>2024-04-20T10:00:00.000000Z</td>\n",
       "      <td>2024-04-20T13:00:00.000000Z</td>\n",
       "      <td>False</td>\n",
       "      <td>254.0</td>\n",
       "      <td>5651.0</td>\n",
       "      <td>28.0</td>\n",
       "      <td>5332.0</td>\n",
       "      <td>-0.421237</td>\n",
       "      <td>0.397080</td>\n",
       "      <td>0.540224</td>\n",
       "      <td>-0.412654</td>\n",
       "      <td>30.18</td>\n",
       "      <td>26.44</td>\n",
       "      <td>8.17</td>\n",
       "      <td>-1.401358e-09</td>\n",
       "      <td>7.109994e-11</td>\n",
       "      <td>3.327314e-10</td>\n",
       "      <td>4.783868e-11</td>\n",
       "      <td>8.962240e-10</td>\n",
       "      <td>-3.529778e-10</td>\n",
       "    </tr>\n",
       "    <tr>\n",
       "      <th>...</th>\n",
       "      <td>...</td>\n",
       "      <td>...</td>\n",
       "      <td>...</td>\n",
       "      <td>...</td>\n",
       "      <td>...</td>\n",
       "      <td>...</td>\n",
       "      <td>...</td>\n",
       "      <td>...</td>\n",
       "      <td>...</td>\n",
       "      <td>...</td>\n",
       "      <td>...</td>\n",
       "      <td>...</td>\n",
       "      <td>...</td>\n",
       "      <td>...</td>\n",
       "      <td>...</td>\n",
       "      <td>...</td>\n",
       "      <td>...</td>\n",
       "      <td>...</td>\n",
       "      <td>...</td>\n",
       "      <td>...</td>\n",
       "    </tr>\n",
       "    <tr>\n",
       "      <th>269</th>\n",
       "      <td>2024-05-12T10:00:00.000000Z</td>\n",
       "      <td>2024-05-12T13:00:00.000000Z</td>\n",
       "      <td>False</td>\n",
       "      <td>-223.0</td>\n",
       "      <td>-252.0</td>\n",
       "      <td>-12.0</td>\n",
       "      <td>-25.0</td>\n",
       "      <td>-0.350333</td>\n",
       "      <td>0.408628</td>\n",
       "      <td>-0.504098</td>\n",
       "      <td>0.453663</td>\n",
       "      <td>4.34</td>\n",
       "      <td>25.08</td>\n",
       "      <td>19.65</td>\n",
       "      <td>-2.437478e-10</td>\n",
       "      <td>1.147016e-10</td>\n",
       "      <td>4.697208e-12</td>\n",
       "      <td>-1.117166e-09</td>\n",
       "      <td>-3.029645e-09</td>\n",
       "      <td>3.298222e-09</td>\n",
       "    </tr>\n",
       "    <tr>\n",
       "      <th>270</th>\n",
       "      <td>2024-05-12T12:00:00.000000Z</td>\n",
       "      <td>2024-05-12T15:00:00.000000Z</td>\n",
       "      <td>False</td>\n",
       "      <td>456.0</td>\n",
       "      <td>393.0</td>\n",
       "      <td>198.0</td>\n",
       "      <td>665.0</td>\n",
       "      <td>0.503118</td>\n",
       "      <td>-0.511735</td>\n",
       "      <td>-0.462336</td>\n",
       "      <td>-0.460494</td>\n",
       "      <td>8.55</td>\n",
       "      <td>15.59</td>\n",
       "      <td>16.40</td>\n",
       "      <td>7.354768e-10</td>\n",
       "      <td>-6.045462e-09</td>\n",
       "      <td>1.757574e-09</td>\n",
       "      <td>-1.535439e-09</td>\n",
       "      <td>-6.451852e-09</td>\n",
       "      <td>5.145451e-09</td>\n",
       "    </tr>\n",
       "    <tr>\n",
       "      <th>283</th>\n",
       "      <td>2024-05-13T14:00:00.000000Z</td>\n",
       "      <td>2024-05-13T17:00:00.000000Z</td>\n",
       "      <td>False</td>\n",
       "      <td>4743.0</td>\n",
       "      <td>4740.0</td>\n",
       "      <td>4378.0</td>\n",
       "      <td>4377.0</td>\n",
       "      <td>-0.453514</td>\n",
       "      <td>0.454385</td>\n",
       "      <td>0.465788</td>\n",
       "      <td>-0.470558</td>\n",
       "      <td>3.77</td>\n",
       "      <td>10.84</td>\n",
       "      <td>8.28</td>\n",
       "      <td>-1.299465e-09</td>\n",
       "      <td>3.094864e-09</td>\n",
       "      <td>-1.099081e-09</td>\n",
       "      <td>-4.087190e-10</td>\n",
       "      <td>-1.240497e-08</td>\n",
       "      <td>6.954565e-09</td>\n",
       "    </tr>\n",
       "    <tr>\n",
       "      <th>284</th>\n",
       "      <td>2024-05-13T16:00:00.000000Z</td>\n",
       "      <td>2024-05-13T19:00:00.000000Z</td>\n",
       "      <td>False</td>\n",
       "      <td>-5436.0</td>\n",
       "      <td>-4457.0</td>\n",
       "      <td>-5786.0</td>\n",
       "      <td>-5794.0</td>\n",
       "      <td>0.450945</td>\n",
       "      <td>0.519023</td>\n",
       "      <td>-0.506075</td>\n",
       "      <td>0.552728</td>\n",
       "      <td>4.07</td>\n",
       "      <td>0.82</td>\n",
       "      <td>3.59</td>\n",
       "      <td>-1.102554e-09</td>\n",
       "      <td>-5.484462e-10</td>\n",
       "      <td>6.913658e-10</td>\n",
       "      <td>1.314332e-09</td>\n",
       "      <td>-4.116196e-10</td>\n",
       "      <td>-1.632000e-09</td>\n",
       "    </tr>\n",
       "    <tr>\n",
       "      <th>285</th>\n",
       "      <td>2024-05-13T18:00:00.000000Z</td>\n",
       "      <td>2024-05-13T21:00:00.000000Z</td>\n",
       "      <td>False</td>\n",
       "      <td>282.0</td>\n",
       "      <td>4269.0</td>\n",
       "      <td>-22.0</td>\n",
       "      <td>3960.0</td>\n",
       "      <td>-0.403951</td>\n",
       "      <td>0.379989</td>\n",
       "      <td>0.389694</td>\n",
       "      <td>-0.371994</td>\n",
       "      <td>4.02</td>\n",
       "      <td>15.68</td>\n",
       "      <td>11.11</td>\n",
       "      <td>-1.139428e-09</td>\n",
       "      <td>-4.266387e-09</td>\n",
       "      <td>5.411495e-09</td>\n",
       "      <td>-3.843112e-09</td>\n",
       "      <td>2.064522e-08</td>\n",
       "      <td>-1.128342e-08</td>\n",
       "    </tr>\n",
       "  </tbody>\n",
       "</table>\n",
       "<p>71 rows × 20 columns</p>\n",
       "</div>"
      ],
      "text/plain": [
       "                              t1                           t2  status  \\\n",
       "1    2024-04-20T02:00:00.000000Z  2024-04-20T05:00:00.000000Z   False   \n",
       "2    2024-04-20T04:00:00.000000Z  2024-04-20T07:00:00.000000Z   False   \n",
       "3    2024-04-20T06:00:00.000000Z  2024-04-20T09:00:00.000000Z   False   \n",
       "4    2024-04-20T08:00:00.000000Z  2024-04-20T11:00:00.000000Z   False   \n",
       "5    2024-04-20T10:00:00.000000Z  2024-04-20T13:00:00.000000Z   False   \n",
       "..                           ...                          ...     ...   \n",
       "269  2024-05-12T10:00:00.000000Z  2024-05-12T13:00:00.000000Z   False   \n",
       "270  2024-05-12T12:00:00.000000Z  2024-05-12T15:00:00.000000Z   False   \n",
       "283  2024-05-13T14:00:00.000000Z  2024-05-13T17:00:00.000000Z   False   \n",
       "284  2024-05-13T16:00:00.000000Z  2024-05-13T19:00:00.000000Z   False   \n",
       "285  2024-05-13T18:00:00.000000Z  2024-05-13T21:00:00.000000Z   False   \n",
       "\n",
       "     shift_PP_N  shift_PP_E  shift_HP_N  shift_HP_E  cmax_PP_N  cmax_PP_E  \\\n",
       "1        -374.0      -437.0       -46.0       -55.0  -0.523632   0.556844   \n",
       "2         277.0      4329.0        24.0      4686.0  -0.507900  -0.466901   \n",
       "3       -4222.0      -475.0      -685.0      -726.0   0.298569  -0.419158   \n",
       "4        -233.0     -3475.0        38.0        46.0   0.493583   0.408832   \n",
       "5         254.0      5651.0        28.0      5332.0  -0.421237   0.397080   \n",
       "..          ...         ...         ...         ...        ...        ...   \n",
       "269      -223.0      -252.0       -12.0       -25.0  -0.350333   0.408628   \n",
       "270       456.0       393.0       198.0       665.0   0.503118  -0.511735   \n",
       "283      4743.0      4740.0      4378.0      4377.0  -0.453514   0.454385   \n",
       "284     -5436.0     -4457.0     -5786.0     -5794.0   0.450945   0.519023   \n",
       "285       282.0      4269.0       -22.0      3960.0  -0.403951   0.379989   \n",
       "\n",
       "     cmax_HP_N  cmax_HP_E    r_z    r_n    r_e           a_z           a_n  \\\n",
       "1    -0.503033   0.617003  13.41  22.95  37.32  2.348783e-10  2.388746e-10   \n",
       "2     0.549269  -0.505150  13.85  28.48  15.81 -8.101145e-10  6.746761e-11   \n",
       "3    -0.301986   0.430946  14.46   5.35   6.92 -1.685316e-09  1.581034e-10   \n",
       "4     0.600588  -0.461417   7.75  36.67  18.63 -2.770947e-10  5.333925e-10   \n",
       "5     0.540224  -0.412654  30.18  26.44   8.17 -1.401358e-09  7.109994e-11   \n",
       "..         ...        ...    ...    ...    ...           ...           ...   \n",
       "269  -0.504098   0.453663   4.34  25.08  19.65 -2.437478e-10  1.147016e-10   \n",
       "270  -0.462336  -0.460494   8.55  15.59  16.40  7.354768e-10 -6.045462e-09   \n",
       "283   0.465788  -0.470558   3.77  10.84   8.28 -1.299465e-09  3.094864e-09   \n",
       "284  -0.506075   0.552728   4.07   0.82   3.59 -1.102554e-09 -5.484462e-10   \n",
       "285   0.389694  -0.371994   4.02  15.68  11.11 -1.139428e-09 -4.266387e-09   \n",
       "\n",
       "              a_e           b_z           b_n           b_e  \n",
       "1   -4.750663e-10 -2.104374e-10 -1.512435e-09  9.378284e-10  \n",
       "2    7.839609e-11  3.039246e-09  1.937761e-09 -2.141780e-09  \n",
       "3    4.271367e-10  2.373188e-09  8.230512e-10 -1.190180e-09  \n",
       "4   -2.458769e-10  1.020033e-09  1.221800e-09 -1.166897e-09  \n",
       "5    3.327314e-10  4.783868e-11  8.962240e-10 -3.529778e-10  \n",
       "..            ...           ...           ...           ...  \n",
       "269  4.697208e-12 -1.117166e-09 -3.029645e-09  3.298222e-09  \n",
       "270  1.757574e-09 -1.535439e-09 -6.451852e-09  5.145451e-09  \n",
       "283 -1.099081e-09 -4.087190e-10 -1.240497e-08  6.954565e-09  \n",
       "284  6.913658e-10  1.314332e-09 -4.116196e-10 -1.632000e-09  \n",
       "285  5.411495e-09 -3.843112e-09  2.064522e-08 -1.128342e-08  \n",
       "\n",
       "[71 rows x 20 columns]"
      ]
     },
     "execution_count": 24,
     "metadata": {},
     "output_type": "execute_result"
    }
   ],
   "source": [
    "df"
   ]
  },
  {
   "cell_type": "code",
   "execution_count": 25,
   "id": "2c98c814-dea2-4b35-88dd-2c0a207f75d2",
   "metadata": {
    "tags": []
   },
   "outputs": [
    {
     "data": {
      "image/png": "[encoded data removed]",
      "text/plain": [
       "<Figure size 640x480 with 1 Axes>"
      ]
     },
     "metadata": {},
     "output_type": "display_data"
    }
   ],
   "source": [
    "plt.scatter(df.r_z, df.b_z)\n",
    "plt.scatter(df.r_n, df.b_n)\n",
    "plt.scatter(df.r_e, df.b_e)\n",
    "\n",
    "plt.yscale(\"log\")"
   ]
  },
  {
   "cell_type": "code",
   "execution_count": 58,
   "id": "e23976dd-bf37-442e-841a-f9d4f7025fbb",
   "metadata": {
    "tags": []
   },
   "outputs": [
    {
     "data": {
      "image/png": "[encoded data removed]",
      "text/plain": [
       "<Figure size 640x480 with 1 Axes>"
      ]
     },
     "metadata": {},
     "output_type": "display_data"
    }
   ],
   "source": [
    "plt.boxplot([abs(df.a_z), abs(df.a_n), abs(df.a_e), abs(df.b_z), abs(df.b_n), abs(df.b_e)],\n",
    "            labels=[r\"a$_Z$\", r\"a$_N$\", r\"a$_E$\", r\"b$_Z$\", r\"b$_N$\", r\"b$_E$\"])\n",
    "plt.yscale(\"log\")\n",
    "plt.show();"
   ]
  },
  {
   "cell_type": "code",
   "execution_count": 50,
   "id": "c3734949-8219-448e-9ed3-4adbd75fc218",
   "metadata": {
    "tags": []
   },
   "outputs": [
    {
     "data": {
      "image/png": "[encoded data removed]",
      "text/plain": [
       "<Figure size 640x480 with 1 Axes>"
      ]
     },
     "metadata": {},
     "output_type": "display_data"
    }
   ],
   "source": [
    "plt.boxplot([abs(df.b_z), abs(df.b_n), abs(df.b_e)], labels=[\"Z\", \"N\", \"E\"])\n",
    "plt.yscale(\"log\")\n",
    "plt.show();"
   ]
  },
  {
   "cell_type": "code",
   "execution_count": 26,
   "id": "5687648d-ac4f-4659-85be-0e0972c9c2e1",
   "metadata": {
    "tags": []
   },
   "outputs": [
    {
     "data": {
      "image/png": "[encoded data removed]",
      "text/plain": [
       "<Figure size 640x480 with 1 Axes>"
      ]
     },
     "metadata": {},
     "output_type": "display_data"
    }
   ],
   "source": [
    "plt.scatter(df.r_z, df.a_z)\n",
    "plt.scatter(df.r_n, df.a_n)\n",
    "plt.scatter(df.r_e, df.a_e)\n",
    "\n",
    "plt.yscale(\"log\")"
   ]
  },
  {
   "cell_type": "code",
   "execution_count": 33,
   "id": "e6cd1ffe-a18c-4f90-9ada-bdd53d4de7a2",
   "metadata": {
    "tags": []
   },
   "outputs": [
    {
     "data": {
      "text/plain": [
       "(0.0, 100.0)"
      ]
     },
     "execution_count": 33,
     "metadata": {},
     "output_type": "execute_result"
    },
    {
     "data": {
      "image/png": "[encoded data removed]",
      "text/plain": [
       "<Figure size 640x480 with 1 Axes>"
      ]
     },
     "metadata": {},
     "output_type": "display_data"
    }
   ],
   "source": [
    "plt.hist([df.r_n, df.r_e, df.r_z], bins=10, range=[0, 100], alpha=0.8, rwidth=0.8, align=\"mid\", density=False, zorder=2)\n",
    "plt.grid(alpha=0.2, ls=\"--\", zorder=0)\n",
    "plt.xlim(0, 100)"
   ]
  },
  {
   "cell_type": "code",
   "execution_count": 34,
   "id": "adb91d72-2fe0-482c-88ca-e523bacb6979",
   "metadata": {
    "tags": []
   },
   "outputs": [
    {
     "data": {
      "text/plain": [
       "(-2000.0, 2000.0)"
      ]
     },
     "execution_count": 34,
     "metadata": {},
     "output_type": "execute_result"
    },
    {
     "data": {
      "image/png": "[encoded data removed]",
      "text/plain": [
       "<Figure size 640x480 with 1 Axes>"
      ]
     },
     "metadata": {},
     "output_type": "display_data"
    }
   ],
   "source": [
    "plt.scatter(df.shift_PP_E, df.cmax_PP_E)\n",
    "plt.scatter(df.shift_PP_N, df.cmax_PP_N)\n",
    "\n",
    "plt.xlim(-2000, 2000)"
   ]
  },
  {
   "cell_type": "code",
   "execution_count": 35,
   "id": "9b2f66af-49e2-41e6-9f8a-0c04507f8517",
   "metadata": {
    "tags": []
   },
   "outputs": [
    {
     "data": {
      "text/plain": [
       "(-2000.0, 2000.0)"
      ]
     },
     "execution_count": 35,
     "metadata": {},
     "output_type": "execute_result"
    },
    {
     "data": {
      "image/png": "[encoded data removed]",
      "text/plain": [
       "<Figure size 640x480 with 1 Axes>"
      ]
     },
     "metadata": {},
     "output_type": "display_data"
    }
   ],
   "source": [
    "plt.scatter(df.shift_HP_E, df.cmax_HP_E)\n",
    "plt.scatter(df.shift_HP_N, df.cmax_HP_N)\n",
    "\n",
    "plt.xlim(-2000, 2000)"
   ]
  },
  {
   "cell_type": "code",
   "execution_count": 30,
   "id": "c18e583a-d202-4551-8bc7-01e3040d9a19",
   "metadata": {
    "tags": []
   },
   "outputs": [
    {
     "ename": "TypeError",
     "evalue": "numpy boolean subtract, the `-` operator, is not supported, use the bitwise_xor, the `^` operator, or the logical_xor function instead.",
     "output_type": "error",
     "traceback": [
      "\u001b[0;31m---------------------------------------------------------------------------\u001b[0m",
      "\u001b[0;31mTypeError\u001b[0m                                 Traceback (most recent call last)",
      "Cell \u001b[0;32mIn[30], line 10\u001b[0m\n\u001b[1;32m      6\u001b[0m df2 \u001b[38;5;241m=\u001b[39m df2\u001b[38;5;241m.\u001b[39mloc[:, df2\u001b[38;5;241m.\u001b[39mcolumns \u001b[38;5;241m!=\u001b[39m \u001b[38;5;124m\"\u001b[39m\u001b[38;5;124mstatus\u001b[39m\u001b[38;5;124m\"\u001b[39m]\n\u001b[1;32m      8\u001b[0m df2\n\u001b[0;32m---> 10\u001b[0m \u001b[43mpd\u001b[49m\u001b[38;5;241;43m.\u001b[39;49m\u001b[43mplotting\u001b[49m\u001b[38;5;241;43m.\u001b[39;49m\u001b[43mscatter_matrix\u001b[49m\u001b[43m(\u001b[49m\u001b[43mdf\u001b[49m\u001b[43m,\u001b[49m\u001b[43m \u001b[49m\u001b[43malpha\u001b[49m\u001b[38;5;241;43m=\u001b[39;49m\u001b[38;5;241;43m0.2\u001b[39;49m\u001b[43m)\u001b[49m\n",
      "File \u001b[0;32m~/anaconda3/envs/obs2/lib/python3.10/site-packages/pandas/plotting/_misc.py:160\u001b[0m, in \u001b[0;36mscatter_matrix\u001b[0;34m(frame, alpha, figsize, ax, grid, diagonal, marker, density_kwds, hist_kwds, range_padding, **kwargs)\u001b[0m\n\u001b[1;32m    101\u001b[0m \u001b[38;5;250m\u001b[39m\u001b[38;5;124;03m\"\"\"\u001b[39;00m\n\u001b[1;32m    102\u001b[0m \u001b[38;5;124;03mDraw a matrix of scatter plots.\u001b[39;00m\n\u001b[1;32m    103\u001b[0m \n\u001b[0;32m   (...)\u001b[0m\n\u001b[1;32m    157\u001b[0m \u001b[38;5;124;03m        <AxesSubplot: xlabel='D', ylabel='D'>]], dtype=object)\u001b[39;00m\n\u001b[1;32m    158\u001b[0m \u001b[38;5;124;03m\"\"\"\u001b[39;00m\n\u001b[1;32m    159\u001b[0m plot_backend \u001b[38;5;241m=\u001b[39m _get_plot_backend(\u001b[38;5;124m\"\u001b[39m\u001b[38;5;124mmatplotlib\u001b[39m\u001b[38;5;124m\"\u001b[39m)\n\u001b[0;32m--> 160\u001b[0m \u001b[38;5;28;01mreturn\u001b[39;00m \u001b[43mplot_backend\u001b[49m\u001b[38;5;241;43m.\u001b[39;49m\u001b[43mscatter_matrix\u001b[49m\u001b[43m(\u001b[49m\n\u001b[1;32m    161\u001b[0m \u001b[43m    \u001b[49m\u001b[43mframe\u001b[49m\u001b[38;5;241;43m=\u001b[39;49m\u001b[43mframe\u001b[49m\u001b[43m,\u001b[49m\n\u001b[1;32m    162\u001b[0m \u001b[43m    \u001b[49m\u001b[43malpha\u001b[49m\u001b[38;5;241;43m=\u001b[39;49m\u001b[43malpha\u001b[49m\u001b[43m,\u001b[49m\n\u001b[1;32m    163\u001b[0m \u001b[43m    \u001b[49m\u001b[43mfigsize\u001b[49m\u001b[38;5;241;43m=\u001b[39;49m\u001b[43mfigsize\u001b[49m\u001b[43m,\u001b[49m\n\u001b[1;32m    164\u001b[0m \u001b[43m    \u001b[49m\u001b[43max\u001b[49m\u001b[38;5;241;43m=\u001b[39;49m\u001b[43max\u001b[49m\u001b[43m,\u001b[49m\n\u001b[1;32m    165\u001b[0m \u001b[43m    \u001b[49m\u001b[43mgrid\u001b[49m\u001b[38;5;241;43m=\u001b[39;49m\u001b[43mgrid\u001b[49m\u001b[43m,\u001b[49m\n\u001b[1;32m    166\u001b[0m \u001b[43m    \u001b[49m\u001b[43mdiagonal\u001b[49m\u001b[38;5;241;43m=\u001b[39;49m\u001b[43mdiagonal\u001b[49m\u001b[43m,\u001b[49m\n\u001b[1;32m    167\u001b[0m \u001b[43m    \u001b[49m\u001b[43mmarker\u001b[49m\u001b[38;5;241;43m=\u001b[39;49m\u001b[43mmarker\u001b[49m\u001b[43m,\u001b[49m\n\u001b[1;32m    168\u001b[0m \u001b[43m    \u001b[49m\u001b[43mdensity_kwds\u001b[49m\u001b[38;5;241;43m=\u001b[39;49m\u001b[43mdensity_kwds\u001b[49m\u001b[43m,\u001b[49m\n\u001b[1;32m    169\u001b[0m \u001b[43m    \u001b[49m\u001b[43mhist_kwds\u001b[49m\u001b[38;5;241;43m=\u001b[39;49m\u001b[43mhist_kwds\u001b[49m\u001b[43m,\u001b[49m\n\u001b[1;32m    170\u001b[0m \u001b[43m    \u001b[49m\u001b[43mrange_padding\u001b[49m\u001b[38;5;241;43m=\u001b[39;49m\u001b[43mrange_padding\u001b[49m\u001b[43m,\u001b[49m\n\u001b[1;32m    171\u001b[0m \u001b[43m    \u001b[49m\u001b[38;5;241;43m*\u001b[39;49m\u001b[38;5;241;43m*\u001b[39;49m\u001b[43mkwargs\u001b[49m\u001b[43m,\u001b[49m\n\u001b[1;32m    172\u001b[0m \u001b[43m\u001b[49m\u001b[43m)\u001b[49m\n",
      "File \u001b[0;32m~/anaconda3/envs/obs2/lib/python3.10/site-packages/pandas/plotting/_matplotlib/misc.py:70\u001b[0m, in \u001b[0;36mscatter_matrix\u001b[0;34m(frame, alpha, figsize, ax, grid, diagonal, marker, density_kwds, hist_kwds, range_padding, **kwds)\u001b[0m\n\u001b[1;32m     68\u001b[0m     values \u001b[38;5;241m=\u001b[39m df[a]\u001b[38;5;241m.\u001b[39mvalues[mask[a]\u001b[38;5;241m.\u001b[39mvalues]\n\u001b[1;32m     69\u001b[0m     rmin_, rmax_ \u001b[38;5;241m=\u001b[39m np\u001b[38;5;241m.\u001b[39mmin(values), np\u001b[38;5;241m.\u001b[39mmax(values)\n\u001b[0;32m---> 70\u001b[0m     rdelta_ext \u001b[38;5;241m=\u001b[39m (\u001b[43mrmax_\u001b[49m\u001b[43m \u001b[49m\u001b[38;5;241;43m-\u001b[39;49m\u001b[43m \u001b[49m\u001b[43mrmin_\u001b[49m) \u001b[38;5;241m*\u001b[39m range_padding \u001b[38;5;241m/\u001b[39m \u001b[38;5;241m2\u001b[39m\n\u001b[1;32m     71\u001b[0m     boundaries_list\u001b[38;5;241m.\u001b[39mappend((rmin_ \u001b[38;5;241m-\u001b[39m rdelta_ext, rmax_ \u001b[38;5;241m+\u001b[39m rdelta_ext))\n\u001b[1;32m     73\u001b[0m \u001b[38;5;28;01mfor\u001b[39;00m i, a \u001b[38;5;129;01min\u001b[39;00m \u001b[38;5;28menumerate\u001b[39m(df\u001b[38;5;241m.\u001b[39mcolumns):\n",
      "\u001b[0;31mTypeError\u001b[0m: numpy boolean subtract, the `-` operator, is not supported, use the bitwise_xor, the `^` operator, or the logical_xor function instead."
     ]
    },
    {
     "data": {
      "image/png": "[encoded data removed]",
      "text/plain": [
       "<Figure size 640x480 with 324 Axes>"
      ]
     },
     "metadata": {},
     "output_type": "display_data"
    }
   ],
   "source": [
    "import pandas as pd\n",
    "\n",
    "df2 = df.copy()\n",
    "df2 = df2.loc[:, df2.columns != \"t1\"]\n",
    "df2 = df2.loc[:, df2.columns != \"t2\"]\n",
    "df2 = df2.loc[:, df2.columns != \"status\"]\n",
    "\n",
    "df2\n",
    "\n",
    "pd.plotting.scatter_matrix(df, alpha=0.2)"
   ]
  },
  {
   "cell_type": "code",
   "execution_count": null,
   "id": "562442b4-5440-4b9a-ae21-1754b4029ee5",
   "metadata": {},
   "outputs": [],
   "source": []
  }
 ],
 "metadata": {
  "kernelspec": {
   "display_name": "Python 3 (ipykernel)",
   "language": "python",
   "name": "python3"
  },
  "language_info": {
   "codemirror_mode": {
    "name": "ipython",
    "version": 3
   },
   "file_extension": ".py",
   "mimetype": "text/x-python",
   "name": "python",
   "nbconvert_exporter": "python",
   "pygments_lexer": "ipython3",
   "version": "3.10.12"
  },
  "latex_envs": {
   "LaTeX_envs_menu_present": true,
   "autoclose": false,
   "autocomplete": true,
   "bibliofile": "biblio.bib",
   "cite_by": "apalike",
   "current_citInitial": 1,
   "eqLabelWithNumbers": true,
   "eqNumInitial": 1,
   "hotkeys": {
    "equation": "Ctrl-E",
    "itemize": "Ctrl-I"
   },
   "labels_anchors": false,
   "latex_user_defs": false,
   "report_style_numbering": false,
   "user_envs_cfg": false
  },
  "toc": {
   "base_numbering": 1,
   "nav_menu": {},
   "number_sections": true,
   "sideBar": true,
   "skip_h1_title": false,
   "title_cell": "Table of Contents",
   "title_sidebar": "Contents",
   "toc_cell": false,
   "toc_position": {},
   "toc_section_display": true,
   "toc_window_display": false
  },
  "varInspector": {
   "cols": {
    "lenName": 16,
    "lenType": 16,
    "lenVar": 40
   },
   "kernels_config": {
    "python": {
     "delete_cmd_postfix": "",
     "delete_cmd_prefix": "del ",
     "library": "var_list.py",
     "varRefreshCmd": "print(var_dic_list())"
    },
    "r": {
     "delete_cmd_postfix": ") ",
     "delete_cmd_prefix": "rm(",
     "library": "var_list.r",
     "varRefreshCmd": "cat(var_dic_list()) "
    }
   },
   "types_to_exclude": [
    "module",
    "function",
    "builtin_function_or_method",
    "instance",
    "_Feature"
   ],
   "window_display": false
  }
 },
 "nbformat": 4,
 "nbformat_minor": 5
}
