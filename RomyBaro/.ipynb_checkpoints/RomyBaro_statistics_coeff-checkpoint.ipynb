{
 "cells": [
  {
   "cell_type": "markdown",
   "id": "0b26487a",
   "metadata": {
    "ExecuteTime": {
     "end_time": "2022-09-13T00:35:24.926376Z",
     "start_time": "2022-09-13T00:35:24.923877Z"
    }
   },
   "source": [
    "# ROMY Barometer - Compare Coefficients"
   ]
  },
  {
   "cell_type": "markdown",
   "id": "7742e363",
   "metadata": {},
   "source": []
  },
  {
   "cell_type": "code",
   "execution_count": 1,
   "id": "35a4ef94",
   "metadata": {
    "ExecuteTime": {
     "end_time": "2023-04-05T16:30:44.374156Z",
     "start_time": "2023-04-05T16:30:42.823021Z"
    },
    "tags": []
   },
   "outputs": [],
   "source": [
    "import os\n",
    "import obspy as obs\n",
    "import matplotlib.pyplot as plt\n",
    "import numpy as np\n",
    "import pandas as pd\n",
    "\n",
    "from obspy import read_inventory\n",
    "\n",
    "from andbro__read_sds import __read_sds"
   ]
  },
  {
   "cell_type": "code",
   "execution_count": 2,
   "id": "938b2d63",
   "metadata": {
    "tags": []
   },
   "outputs": [],
   "source": [
    "from functions.get_mean_promy_pressure import __get_mean_promy_pressure\n",
    "from functions.get_mean_rmy_pressure import __get_mean_rmy_pressure"
   ]
  },
  {
   "cell_type": "code",
   "execution_count": 4,
   "id": "01029ab1-9e4d-4c20-9b88-add9ca37c16a",
   "metadata": {
    "tags": []
   },
   "outputs": [],
   "source": [
    "#%matplotlib tk"
   ]
  },
  {
   "cell_type": "code",
   "execution_count": 5,
   "id": "ead1b641",
   "metadata": {
    "tags": []
   },
   "outputs": [],
   "source": [
    "if os.uname().nodename == 'lighthouse':\n",
    "    root_path = '/home/andbro/'\n",
    "    data_path = '/home/andbro/kilauea-data/'\n",
    "    archive_path = '/home/andbro/freenas/'\n",
    "    bay_path = '/home/andbro/ontap-ffb-bay200/'\n",
    "    lamont_path = '/home/andbro/lamont/'\n",
    "elif os.uname().nodename == 'kilauea':\n",
    "    root_path = '/home/brotzer/'\n",
    "    data_path = '/import/kilauea-data/'\n",
    "    archive_path = '/import/freenas-ffb-01-data/'\n",
    "    bay_path = '/import/ontap-ffb-bay200/'\n",
    "    lamont_path = '/lamont/'\n",
    "elif os.uname().nodename in ['lin-ffb-01', 'ambrym', 'hochfelln']:\n",
    "    root_path = '/home/brotzer/'\n",
    "    data_path = '/import/kilauea-data/'\n",
    "    archive_path = '/import/freenas-ffb-01-data/'\n",
    "    bay_path = '/import/ontap-ffb-bay200/'\n",
    "    lamont_path = '/lamont/'"
   ]
  },
  {
   "cell_type": "markdown",
   "id": "a0057ee8",
   "metadata": {},
   "source": [
    "## Configurations"
   ]
  },
  {
   "cell_type": "code",
   "execution_count": 6,
   "id": "2759106e",
   "metadata": {
    "ExecuteTime": {
     "end_time": "2023-04-05T16:32:26.446824Z",
     "start_time": "2023-04-05T16:32:26.444464Z"
    },
    "tags": []
   },
   "outputs": [],
   "source": [
    "config = {}\n",
    "\n",
    "# output path for figures\n",
    "config['path_to_figs'] = data_path+\"romy_baro/figures/\"\n",
    "\n",
    "# path to data archive\n",
    "config['data1'] = \"ROMY\"\n",
    "config['path_to_data1'] = data_path+f\"romy_baro/data/{config['data1']}/\"\n",
    "\n",
    "config['tbeg'] = obs.UTCDateTime(\"2024-03-01\")\n",
    "config['tend'] = obs.UTCDateTime(\"2024-06-30\")\n",
    "\n",
    "# data with regression alternative\n",
    "config['data2'] = \"FUR\"\n",
    "config['path_to_data2'] = data_path+f\"romy_baro/data/{config['data2']}/\"\n"
   ]
  },
  {
   "cell_type": "markdown",
   "id": "3914128a",
   "metadata": {},
   "source": [
    "## Load Data"
   ]
  },
  {
   "cell_type": "code",
   "execution_count": 7,
   "id": "9c003c9d-2384-48d5-b811-d16ded038302",
   "metadata": {
    "tags": []
   },
   "outputs": [],
   "source": [
    "def __load_data(tbeg, tend, path_to_data):\n",
    "\n",
    "    from obspy import UTCDateTime\n",
    "    from datetime import date\n",
    "    from pandas import read_pickle, concat, DataFrame, date_range, to_datetime\n",
    "    from tqdm.notebook import tqdm\n",
    "\n",
    "    t1 = date.fromisoformat(str(UTCDateTime(tbeg).date))\n",
    "    t2 = date.fromisoformat(str((UTCDateTime(tend)).date))\n",
    "\n",
    "    df = DataFrame()\n",
    "    for dat in tqdm(date_range(t1, t2)):\n",
    "        # print(str(dat)[:10])\n",
    "        file = f\"RB_statistics_{str(dat)[:10]}.pkl\"\n",
    "        try:\n",
    "            df0 = read_pickle(path_to_data+file)\n",
    "            df = concat([df, df0])\n",
    "        except Exception as e:\n",
    "            print(e)\n",
    "            print(f\"error for {file}\")\n",
    "\n",
    "    # remove NaN from time column\n",
    "    # df.dropna(subset=['time'], inplace=True)\n",
    "\n",
    "    # reset the index column\n",
    "    df.reset_index(inplace=True, drop=True)\n",
    "\n",
    "    # add column for relative time in seconds\n",
    "    df['time_sec'] = [(_t2 - _t1)/2 + _t1 for _t1, _t2 in zip(df.t1, df.t2)]\n",
    "\n",
    "    return df"
   ]
  },
  {
   "cell_type": "code",
   "execution_count": 11,
   "id": "280c3dfc-0d20-4b79-aa26-4b846fc2bd57",
   "metadata": {
    "tags": []
   },
   "outputs": [
    {
     "data": {
      "application/vnd.jupyter.widget-view+json": {
       "model_id": "490642c0a03a46b499f71eaee7be76c8",
       "version_major": 2,
       "version_minor": 0
      },
      "text/plain": [
       "  0%|          | 0/122 [00:00<?, ?it/s]"
      ]
     },
     "metadata": {},
     "output_type": "display_data"
    },
    {
     "data": {
      "application/vnd.jupyter.widget-view+json": {
       "model_id": "71c10d3cca694a08adaeb1fd5c436bbf",
       "version_major": 2,
       "version_minor": 0
      },
      "text/plain": [
       "  0%|          | 0/122 [00:00<?, ?it/s]"
      ]
     },
     "metadata": {},
     "output_type": "display_data"
    }
   ],
   "source": [
    "df1 = __load_data(config['tbeg'], config['tend'], config['path_to_data1'])\n",
    "\n",
    "df2 = __load_data(config['tbeg'], config['tend'], config['path_to_data2'])\n"
   ]
  },
  {
   "cell_type": "code",
   "execution_count": 12,
   "id": "cd1dc094-ad67-4b84-9a7a-6fe230e43c13",
   "metadata": {
    "tags": []
   },
   "outputs": [],
   "source": [
    "df1 = df1[df1.status == False]\n",
    "df2 = df2[df2.status == False]"
   ]
  },
  {
   "cell_type": "code",
   "execution_count": 13,
   "id": "17b4efe5-2c93-4693-98af-6f430ca1dddb",
   "metadata": {
    "tags": []
   },
   "outputs": [],
   "source": [
    "for k in [\"shift_PP_N\", \"shift_PP_E\", \"shift_HP_N\", \"shift_HP_E\"]:\n",
    "    df1[k] = df1[k]/20 # 20 Hz sampling rate\n",
    "    df2[k] = df2[k]/20 # 20 Hz sampling rate"
   ]
  },
  {
   "cell_type": "code",
   "execution_count": 17,
   "id": "ed9e388e-b095-4495-917d-87fa6a4321c5",
   "metadata": {
    "tags": []
   },
   "outputs": [],
   "source": [
    "# select only those with CC > 0.7\n",
    "cc_threshold = 0.7\n",
    "df1N = df1[(df1.cmax_PP_N.abs() > cc_threshold) | (df1.cmax_HP_N.abs() > cc_threshold)]\n",
    "df1E = df1[(df1.cmax_PP_E.abs() > cc_threshold) | (df1.cmax_HP_E.abs() > cc_threshold)]\n",
    "df1Z = df1[(df1.cmax_PP_Z.abs() > cc_threshold) | (df1.cmax_HP_Z.abs() > cc_threshold)]\n",
    "\n",
    "cc_shift_threshold = 120\n",
    "df1N = df1N[(df1N.shift_PP_N.abs() < cc_shift_threshold) | (df1N.shift_HP_N.abs() < cc_shift_threshold)]\n",
    "df1E = df1E[(df1E.shift_PP_E.abs() < cc_shift_threshold) | (df1E.shift_HP_E.abs() < cc_shift_threshold)]\n",
    "df1Z = df1Z[(df1Z.shift_PP_Z.abs() < cc_shift_threshold) | (df1Z.shift_HP_Z.abs() < cc_shift_threshold)]\n"
   ]
  },
  {
   "cell_type": "code",
   "execution_count": 18,
   "id": "465d0012-9e1f-4488-8503-dfa6d36ecb86",
   "metadata": {
    "tags": []
   },
   "outputs": [],
   "source": [
    "# select only those with CC > 0.7\n",
    "cc_threshold = 0.7\n",
    "df2N = df2[(df2.cmax_PP_N.abs() > cc_threshold) | (df2.cmax_HP_N.abs() > cc_threshold)]\n",
    "df2E = df2[(df2.cmax_PP_E.abs() > cc_threshold) | (df2.cmax_HP_E.abs() > cc_threshold)]\n",
    "df2Z = df2[(df2.cmax_PP_Z.abs() > cc_threshold) | (df2.cmax_HP_Z.abs() > cc_threshold)]\n",
    "\n",
    "cc_shift_threshold = 120\n",
    "df2N = df2N[(df2N.shift_PP_N.abs() < cc_shift_threshold) | (df2N.shift_HP_N.abs() < cc_shift_threshold)]\n",
    "df2E = df2E[(df2E.shift_PP_E.abs() < cc_shift_threshold) | (df2E.shift_HP_E.abs() < cc_shift_threshold)]\n",
    "df2Z = df2Z[(df2Z.shift_PP_Z.abs() < cc_shift_threshold) | (df2Z.shift_HP_Z.abs() < cc_shift_threshold)]\n"
   ]
  },
  {
   "cell_type": "code",
   "execution_count": 32,
   "id": "d174ceee-d979-4591-959e-3d22e2655f89",
   "metadata": {
    "tags": []
   },
   "outputs": [
    {
     "name": "stdout",
     "output_type": "stream",
     "text": [
      "dict_keys(['whiskers', 'caps', 'boxes', 'medians', 'fliers', 'means'])\n",
      "  label  lower_whisker  lower_quartile     median  upper_quartile  \\\n",
      "0   a_z       0.000000        0.000000   0.000000        0.000000   \n",
      "1   a_n       8.349704       17.206150  19.817191       28.274792   \n",
      "2   a_e       6.016636       11.225048  13.049288       14.710325   \n",
      "3   b_z       0.000000        0.000000   0.000000        0.000000   \n",
      "4   b_n       0.002630        1.713771   3.430592        5.494190   \n",
      "5   b_e       0.000374        1.062146   2.451437        4.564108   \n",
      "\n",
      "   upper_whisker  \n",
      "0       0.000000  \n",
      "1      44.738926  \n",
      "2      19.691185  \n",
      "3       0.000000  \n",
      "4      11.125881  \n",
      "5       9.723336  \n"
     ]
    },
    {
     "data": {
      "image/png": "[encoded data removed]",
      "text/plain": [
       "<Figure size 1000x700 with 2 Axes>"
      ]
     },
     "metadata": {},
     "output_type": "display_data"
    }
   ],
   "source": [
    "def __makeplot_reg():\n",
    "\n",
    "    import matplotlib.pyplot as plt\n",
    "    from matplotlib.gridspec import GridSpec\n",
    "\n",
    "    def get_box_plot_data(labels, bp):\n",
    "        rows_list = []\n",
    "\n",
    "        for i in range(len(labels)):\n",
    "            dict1 = {}\n",
    "            dict1['label'] = labels[i]\n",
    "            dict1['lower_whisker'] = bp['whiskers'][i*2].get_ydata()[1]\n",
    "            dict1['lower_quartile'] = bp['boxes'][i].get_ydata()[1]\n",
    "            dict1['median'] = bp['medians'][i].get_ydata()[1]\n",
    "            dict1['upper_quartile'] = bp['boxes'][i].get_ydata()[2]\n",
    "            dict1['upper_whisker'] = bp['whiskers'][(i*2)+1].get_ydata()[1]\n",
    "            rows_list.append(dict1)\n",
    "\n",
    "        return pd.DataFrame(rows_list)\n",
    "\n",
    "    def __get_medians(_dict, _lbls):\n",
    "        medians = {}\n",
    "        for _i, _l in enumerate(_lbls):\n",
    "            medians[str(_l)] = _dict['medians'][_i].get_ydata()[1]\n",
    "        return medians\n",
    "\n",
    "    colors = {\"Z\":\"tab:green\", \"N\":\"tab:red\", \"E\":\"tab:blue\"}\n",
    "\n",
    "    Nrow, Ncol = 2, 1\n",
    "\n",
    "    font = 12\n",
    "\n",
    "    ms1, ms2 = 10, 20\n",
    "\n",
    "    scale, unit = 1e9, \"nrad/hPa\"\n",
    "\n",
    "    hil = r\"H[P]\"\n",
    "\n",
    "    fig = plt.figure(figsize=(10, 7))\n",
    "\n",
    "    gs = GridSpec(Nrow, Ncol, figure=fig, hspace=0.25)\n",
    "\n",
    "    ax1 = fig.add_subplot(gs[0])\n",
    "    ax2 = fig.add_subplot(gs[1])\n",
    "\n",
    "    # ___________________________________________________\n",
    "    a_z, a_n, a_e = abs(df1Z.a_z*scale), abs(df1N.a_n*scale), abs(df1E.a_e*scale)\n",
    "    b_z, b_n, b_e = abs(df1Z.b_z*scale), abs(df1N.b_n*scale), abs(df1E.b_e*scale)\n",
    "    arr = [a_z, a_n, a_e, b_z, b_n, b_e]\n",
    "\n",
    "    bp = ax1.boxplot(arr, showmeans=False)\n",
    "    meds = __get_medians(bp, ['a_z', 'a_n', 'a_e', 'b_z', 'b_n', 'b_e'])\n",
    "    lbls = [f\"a$_Z$ \\n (={int(meds['a_z'])})\", f\"a$_N$ \\n (={int(meds['a_n'])})\", f\"a$_E$ \\n (={int(meds['a_e'])})\",\n",
    "            f\"b$_Z$ \\n (={int(meds['b_z'])})\", f\"b$_N$ \\n (={int(meds['b_n'])})\", f\"b$_E$ \\n (={int(meds['b_e'])})\"]\n",
    "\n",
    "    ax1.set_xticklabels(lbls, fontsize=font)\n",
    "    ax1.set_yscale(\"log\")\n",
    "    ax1.set_ylabel(f\"compliance ({unit})\", fontsize=font)\n",
    "\n",
    "    ax1.text(.99, .1, f\"{config['data1']}\", ha='right', va='top', transform=ax1.transAxes, fontsize=font+2)\n",
    "\n",
    "    # ___________________________________________________\n",
    "    a_z, a_n, a_e = abs(df2Z.reg_a_z*0*scale), abs(df2N.reg_a_n*scale), abs(df2E.reg_a_e*scale)\n",
    "    b_z, b_n, b_e = abs(df2Z.reg_b_z*0*scale), abs(df2N.reg_b_n*scale), abs(df2E.reg_b_e*scale)\n",
    "    arr = [a_z, a_n, a_e, b_z, b_n, b_e]\n",
    "\n",
    "    bp = ax2.boxplot(arr, showmeans=False)\n",
    "    meds = __get_medians(bp, ['a_z', 'a_n', 'a_e', 'b_z', 'b_n', 'b_e'])\n",
    "    lbls = [f\"\", f\"a$_N$ \\n (={int(meds['a_n'])})\", f\"a$_E$ \\n (={int(meds['a_e'])})\",\n",
    "            f\"\", f\"b$_N$ \\n (={int(meds['b_n'])})\", f\"b$_E$ \\n (={int(meds['b_e'])})\"]\n",
    "\n",
    "    ax2.set_yscale(\"log\")\n",
    "    ax2.set_xticklabels(lbls, fontsize=font)\n",
    "    ax2.set_ylabel(f\"compliance ({unit})\", fontsize=font)\n",
    "\n",
    "    ax2.text(.99, .1, f\"{config['data2']}\", ha='right', va='top', transform=ax2.transAxes, fontsize=font+2)\n",
    "\n",
    "    # ___________________________________________________\n",
    "\n",
    "    ax1.text(.005, .97, \"(a)\", ha='left', va='top', transform=ax1.transAxes, fontsize=font+2)\n",
    "    ax2.text(.005, .97, \"(b)\", ha='left', va='top', transform=ax2.transAxes, fontsize=font+2)\n",
    "\n",
    "    axes = [ax1, ax2]\n",
    "    for ax in axes:\n",
    "        ax.grid(ls=\"--\", alpha=0.4, zorder=0)\n",
    "\n",
    "    print(bp.keys())\n",
    "    print(get_box_plot_data([\"a_z\", \"a_n\", \"a_e\", \"b_z\", \"b_n\", \"b_e\"], bp))\n",
    "\n",
    "    plt.show();\n",
    "    return fig\n",
    "\n",
    "fig = __makeplot_reg();\n",
    "\n",
    "fig.savefig(config['path_to_figs']+f\"RB_statistic_coeff_{config['tbeg'].date}_{config['tend'].date}_reg.png\", format=\"png\", dpi=150, bbox_inches='tight')\n"
   ]
  },
  {
   "cell_type": "code",
   "execution_count": null,
   "id": "9b7d6225-1642-49cd-a7dd-500a79a34474",
   "metadata": {},
   "outputs": [],
   "source": []
  }
 ],
 "metadata": {
  "kernelspec": {
   "display_name": "Python 3 (ipykernel)",
   "language": "python",
   "name": "python3"
  },
  "language_info": {
   "codemirror_mode": {
    "name": "ipython",
    "version": 3
   },
   "file_extension": ".py",
   "mimetype": "text/x-python",
   "name": "python",
   "nbconvert_exporter": "python",
   "pygments_lexer": "ipython3",
   "version": "3.10.12"
  },
  "latex_envs": {
   "LaTeX_envs_menu_present": true,
   "autoclose": false,
   "autocomplete": true,
   "bibliofile": "biblio.bib",
   "cite_by": "apalike",
   "current_citInitial": 1,
   "eqLabelWithNumbers": true,
   "eqNumInitial": 1,
   "hotkeys": {
    "equation": "Ctrl-E",
    "itemize": "Ctrl-I"
   },
   "labels_anchors": false,
   "latex_user_defs": false,
   "report_style_numbering": false,
   "user_envs_cfg": false
  },
  "toc": {
   "base_numbering": 1,
   "nav_menu": {},
   "number_sections": true,
   "sideBar": true,
   "skip_h1_title": false,
   "title_cell": "Table of Contents",
   "title_sidebar": "Contents",
   "toc_cell": false,
   "toc_position": {},
   "toc_section_display": true,
   "toc_window_display": false
  },
  "varInspector": {
   "cols": {
    "lenName": 16,
    "lenType": 16,
    "lenVar": 40
   },
   "kernels_config": {
    "python": {
     "delete_cmd_postfix": "",
     "delete_cmd_prefix": "del ",
     "library": "var_list.py",
     "varRefreshCmd": "print(var_dic_list())"
    },
    "r": {
     "delete_cmd_postfix": ") ",
     "delete_cmd_prefix": "rm(",
     "library": "var_list.r",
     "varRefreshCmd": "cat(var_dic_list()) "
    }
   },
   "types_to_exclude": [
    "module",
    "function",
    "builtin_function_or_method",
    "instance",
    "_Feature"
   ],
   "window_display": false
  }
 },
 "nbformat": 4,
 "nbformat_minor": 5
}
