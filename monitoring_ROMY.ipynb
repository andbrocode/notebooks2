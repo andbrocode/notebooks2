#!/usr/bin/env python3
# -*- coding: utf-8 -*-
"""
Created on Fri Jun 12 13:51:42 2020

@author: brotzer
"""


'''Monitor Parameters of ROMY'''


import numpy as np 
import matplotlib.pyplot as plt
import pandas as pd 


path='/home/brotzer/Documents/'
file='romy-01_2019_329.mjd'


try:
    data=pd.read_csv(path+file,delimiter='\t',names=['time','p1','p2','p3','p4','p5'])

except:
    print('\n!!! ERROR IMPORTING!!! \n-->Possibliy file does not exist?!\n{}\n'.format(path+file))
    
    
print(data.head())

print('number of rows: {}'.format(data.size))



## _______________________
##
#fig, (ax1,ax2,ax3,ax4,ax5) = plt.subplots(nrows=5, ncols=1)
#fig.subplots_adjust(hspace=1.5)

fig=plt.figure()

ax1 = plt.subplot(5,1,1)
ax1=plt.plot(data['time'],data['p1'])

#ax1.set_ylim(0,50)

ax2 = plt.subplot(5,1,2)


# ax2=plt.plot(data['time'],data['p2'])

# ax3=plt.plot(data['time'],data['p3'])

# ax4=plt.plot(data['time'],data['p4'])

# ax5=plt.plot(data['time'],data['p5'])



