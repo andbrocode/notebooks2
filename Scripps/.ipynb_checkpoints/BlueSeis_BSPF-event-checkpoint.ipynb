{
 "cells": [
  {
   "cell_type": "markdown",
   "id": "26ad060e",
   "metadata": {
    "ExecuteTime": {
     "end_time": "2022-09-13T00:35:24.926376Z",
     "start_time": "2022-09-13T00:35:24.923877Z"
    }
   },
   "source": [
    "# Analyse BlueSeis BSPF Events"
   ]
  },
  {
   "cell_type": "markdown",
   "id": "fa47ca0c",
   "metadata": {},
   "source": [
    "With pressure sensor parascientific and new sensor "
   ]
  },
  {
   "cell_type": "code",
   "execution_count": 18,
   "id": "7ae027cf",
   "metadata": {
    "ExecuteTime": {
     "end_time": "2022-10-13T16:17:41.306158Z",
     "start_time": "2022-10-13T16:17:41.297614Z"
    }
   },
   "outputs": [],
   "source": [
    "import os \n",
    "import obspy as obs\n",
    "import matplotlib.pyplot as plt\n",
    "import numpy as np\n",
    "import pandas as pd\n",
    "\n",
    "from andbro__savefig import __savefig"
   ]
  },
  {
   "cell_type": "code",
   "execution_count": 19,
   "id": "31994b59",
   "metadata": {
    "ExecuteTime": {
     "end_time": "2022-10-13T16:17:41.533124Z",
     "start_time": "2022-10-13T16:17:41.521906Z"
    },
    "code_folding": [
     0
    ]
   },
   "outputs": [],
   "source": [
    "def __request_data(seed, tbeg, tend):\n",
    "\n",
    "    from obspy.clients.fdsn import Client\n",
    "\n",
    "    client = Client(\"IRIS\",)\n",
    "\n",
    "    net, sta, loc, cha = seed.split(\".\")\n",
    "\n",
    "    try:\n",
    "        inventory = client.get_stations(network=net, \n",
    "                                         station=sta,\n",
    "                                         starttime=tbeg,\n",
    "                                         endtime=tend,\n",
    "                                         level=\"response\",\n",
    "                                         )\n",
    "    except:\n",
    "        print(\"Failed to load inventory!\")\n",
    "\n",
    "\n",
    "    try:\n",
    "        waveform = client.get_waveforms(network=net,\n",
    "                                       station=sta,\n",
    "                                       location=loc,\n",
    "                                       channel=cha, \n",
    "                                       starttime=tbeg-60,\n",
    "                                       endtime=tend+60,\n",
    "                                       )\n",
    "\n",
    "    except:\n",
    "        print(\"Failed to load waveforms!\")\n",
    "        \n",
    "    return waveform, inventory"
   ]
  },
  {
   "cell_type": "markdown",
   "id": "a9cfd05f",
   "metadata": {},
   "source": [
    "## Configurations"
   ]
  },
  {
   "cell_type": "code",
   "execution_count": 20,
   "id": "42cd60e7",
   "metadata": {
    "ExecuteTime": {
     "end_time": "2022-10-13T16:17:41.985306Z",
     "start_time": "2022-10-13T16:17:41.970512Z"
    }
   },
   "outputs": [],
   "source": [
    "config = {}"
   ]
  },
  {
   "cell_type": "code",
   "execution_count": 21,
   "id": "d4b1e0b9",
   "metadata": {
    "ExecuteTime": {
     "end_time": "2022-10-13T16:17:43.608465Z",
     "start_time": "2022-10-13T16:17:43.224482Z"
    }
   },
   "outputs": [
    {
     "name": "stderr",
     "output_type": "stream",
     "text": [
      "/home/andbro/anaconda3/envs/obs/lib/python3.7/site-packages/obspy/io/stationxml/core.py:98: UserWarning: The StationXML file has version 1, ObsPy can read versions (1.0, 1.1). Proceed with caution.\n",
      "  version, \", \".join(READABLE_VERSIONS)))\n"
     ]
    }
   ],
   "source": [
    "# config['datapath_femto'] = \"/home/andbro/Downloads/tmp/IXBL/HJ*.D/*\"\n",
    "config['datapath'] = \"/home/andbro/Downloads/tmp/BSPF/HJ*.D/*\"\n",
    "\n",
    "config['inventory'] = obs.read_inventory(\"/home/andbro/Documents/LMU_Docs/USA/BlueSeis/PY.BSPF.XX.xml\")\n",
    "\n",
    "config['seed_blueseis'] = \"PY.BSPF..HJ*\"\n",
    "config['seed_seismometer'] = \"II.PFO.10.BH*\""
   ]
  },
  {
   "cell_type": "markdown",
   "id": "c4eed2cb",
   "metadata": {},
   "source": [
    "## Event Info"
   ]
  },
  {
   "cell_type": "code",
   "execution_count": 23,
   "id": "3c1c5de6",
   "metadata": {
    "ExecuteTime": {
     "end_time": "2022-10-13T16:17:57.051201Z",
     "start_time": "2022-10-13T16:17:57.047131Z"
    }
   },
   "outputs": [],
   "source": [
    "## Peru / Ecuador \n",
    "# config['tbeg'] = obs.UTCDateTime(\"2022-10-05 10:26\")\n",
    "# config['tend'] = obs.UTCDateTime(\"2022-10-05 10:40\")\n",
    "\n",
    "## Near PFO\n",
    "config['tbeg'] = obs.UTCDateTime(\"2022-10-05 15:39:32\")\n",
    "config['tend'] = obs.UTCDateTime(\"2022-10-05 15:39:45\")"
   ]
  },
  {
   "cell_type": "markdown",
   "id": "47ff88ba",
   "metadata": {},
   "source": [
    "## Load Data"
   ]
  },
  {
   "cell_type": "code",
   "execution_count": 24,
   "id": "58cfe8e4",
   "metadata": {
    "ExecuteTime": {
     "end_time": "2022-10-13T16:17:57.784303Z",
     "start_time": "2022-10-13T16:17:57.781736Z"
    }
   },
   "outputs": [],
   "source": [
    "# py_bspf, py_bspf_inv = __request_data(\"PY.BSPF..HJ*\", config['tbeg'], config['tend'])"
   ]
  },
  {
   "cell_type": "code",
   "execution_count": 25,
   "id": "fd2c26a4",
   "metadata": {
    "ExecuteTime": {
     "end_time": "2022-10-13T16:18:12.177260Z",
     "start_time": "2022-10-13T16:17:57.960528Z"
    },
    "scrolled": true
   },
   "outputs": [
    {
     "name": "stdout",
     "output_type": "stream",
     "text": [
      "3 Trace(s) in Stream:\n",
      "PY.BSPF.XX.HJ3 | 2022-10-05T15:39:32.002200Z - 2022-10-05T15:39:45.002200Z | 200.0 Hz, 2601 samples\n",
      "PY.BSPF.XX.HJ2 | 2022-10-05T15:39:32.002200Z - 2022-10-05T15:39:45.002200Z | 200.0 Hz, 2601 samples\n",
      "PY.BSPF.XX.HJ1 | 2022-10-05T15:39:32.002200Z - 2022-10-05T15:39:45.002200Z | 200.0 Hz, 2601 samples\n"
     ]
    },
    {
     "data": {
      "image/png": "[encoded data removed]",
      "text/plain": [
       "<Figure size 800x750 with 3 Axes>"
      ]
     },
     "metadata": {
      "needs_background": "light"
     },
     "output_type": "display_data"
    }
   ],
   "source": [
    "## read data stream using obspy routine\n",
    "st0 = obs.read(config['datapath'], \n",
    "               format=\"MSEED\",\n",
    "               startime=config['tbeg']-60,\n",
    "               endtime=config['tend']+60)\n",
    "\n",
    "\n",
    "## merge traces that might be split due to data gaps or overlaps\n",
    "st0.merge(fill_value=\"interpolate\")\n",
    "\n",
    "## cut to event\n",
    "st0.trim(config['tbeg'], config['tend'])\n",
    "\n",
    "## remove mean\n",
    "st0.detrend(\"demean\")\n",
    "\n",
    "## apply taper\n",
    "st0.taper(0.1)\n",
    "\n",
    "## renove sensitivity\n",
    "st0.remove_sensitivity(config['inventory'])\n",
    "\n",
    "## show all traces in data stream\n",
    "print(st0)\n",
    "\n",
    "st0.plot(equal_scale=False);"
   ]
  },
  {
   "cell_type": "markdown",
   "id": "3e6072c2",
   "metadata": {},
   "source": [
    "## Compare with Seismometer"
   ]
  },
  {
   "cell_type": "code",
   "execution_count": 26,
   "id": "65b341bc",
   "metadata": {
    "ExecuteTime": {
     "end_time": "2022-10-13T16:18:15.109259Z",
     "start_time": "2022-10-13T16:18:12.183281Z"
    }
   },
   "outputs": [],
   "source": [
    "ii_pfo, ii_pfo_inv = __request_data(config['seed_seismometer'], config['tbeg'], config['tend'])"
   ]
  },
  {
   "cell_type": "code",
   "execution_count": null,
   "id": "e18f87d6",
   "metadata": {
    "ExecuteTime": {
     "end_time": "2022-10-13T12:43:20.926787Z",
     "start_time": "2022-10-13T12:43:11.819988Z"
    }
   },
   "outputs": [],
   "source": [
    "pre_filt = [0.005, 0.01, 19, 20]\n",
    "\n",
    "ii_pfo.trim(config['tbeg'], config['tend'])\n",
    "\n",
    "ii_pfo.detrend(\"demean\")\n",
    "\n",
    "ii_pfo.remove_response(inventory=ii_pfo_inv, \n",
    "                       pre_filt=pre_filt, \n",
    "                       output=\"VEL\",\n",
    "                       water_level=60, \n",
    "                       plot=True)\n",
    "\n",
    "\n",
    "# ii_pfo.detrend(\"linear\")\n",
    "ii_pfo.taper(0.1)\n",
    "\n",
    "ii_pfo.plot(equal_scale=False);"
   ]
  },
  {
   "cell_type": "markdown",
   "id": "9ba5c207",
   "metadata": {},
   "source": [
    "## Load ADR "
   ]
  },
  {
   "cell_type": "code",
   "execution_count": null,
   "id": "b77c5e06",
   "metadata": {
    "ExecuteTime": {
     "end_time": "2022-10-13T12:43:21.417885Z",
     "start_time": "2022-10-13T12:43:20.929399Z"
    }
   },
   "outputs": [],
   "source": [
    "datapath_adr = \"/home/andbro/Downloads/tmp/BSPF/adr/*.mseed\"\n",
    "\n",
    "## read data stream using obspy routine\n",
    "st_adr = obs.read( datapath_adr, \n",
    "                   format=\"MSEED\",\n",
    "                   startime=config['tbeg']-60,\n",
    "                   endtime=config['tend']+60,\n",
    "                 )\n",
    "\n",
    "# ## merge traces that might be split due to data gaps or overlaps\n",
    "st_adr.merge(fill_value=\"interpolate\")\n",
    "\n",
    "# ## cut to event\n",
    "st_adr.trim(config['tbeg'], config['tend'])\n",
    "\n",
    "# ## remove mean\n",
    "st_adr.detrend(\"demean\")\n",
    "\n",
    "# ## apply taper\n",
    "st_adr.taper(0.1)\n",
    "\n",
    "# ## renove sensitivity\n",
    "# st_adr.remove_sensitivity(config['inventory'])\n",
    "\n",
    "# ## show all traces in data stream\n",
    "print(st_adr)\n",
    "\n",
    "st_adr.plot(equal_scale=False);"
   ]
  },
  {
   "cell_type": "code",
   "execution_count": null,
   "id": "b2df93b4",
   "metadata": {
    "ExecuteTime": {
     "end_time": "2022-10-13T12:43:21.848067Z",
     "start_time": "2022-10-13T12:43:21.419964Z"
    }
   },
   "outputs": [],
   "source": [
    "datapath_adr = \"/home/andbro/Downloads/tmp/BSPF/adr/*.mseed\"\n",
    "\n",
    "## read data stream using obspy routine\n",
    "st_adr = obs.read( datapath_adr, \n",
    "                   format=\"MSEED\",\n",
    "                   startime=config['tbeg']-60,\n",
    "                   endtime=config['tend']+60,\n",
    "                 )\n",
    "\n",
    "\n",
    "# ## merge traces that might be split due to data gaps or overlaps\n",
    "st_adr.merge(fill_value=\"interpolate\")\n",
    "\n",
    "# ## cut to event\n",
    "st_adr.trim(config['tbeg'], config['tend'])\n",
    "\n",
    "# ## remove mean\n",
    "st_adr.detrend(\"demean\")\n",
    "\n",
    "# ## apply taper\n",
    "st_adr.taper(0.1)\n",
    "\n",
    "# ## renove sensitivity\n",
    "# st_adr.remove_sensitivity(config['inventory'])\n",
    "\n",
    "# ## show all traces in data stream\n",
    "print(st_adr)\n",
    "\n",
    "st_adr.plot(equal_scale=False);"
   ]
  },
  {
   "cell_type": "markdown",
   "id": "9606ebd4",
   "metadata": {},
   "source": [
    "## Combine Streams"
   ]
  },
  {
   "cell_type": "code",
   "execution_count": null,
   "id": "0ac97523",
   "metadata": {
    "ExecuteTime": {
     "end_time": "2022-10-13T12:43:22.455153Z",
     "start_time": "2022-10-13T12:43:21.850152Z"
    }
   },
   "outputs": [],
   "source": [
    "st3 = st0.copy()\n",
    "\n",
    "## add traces\n",
    "st3 += ii_pfo\n",
    "st3 += st_adr\n",
    "\n",
    "st3.sort()\n",
    "\n",
    "## filter\n",
    "config['fmin'], config['fmax'] = 0.5, 20.0\n",
    "st3.detrend(\"demean\")\n",
    "st3.filter(\"bandpass\", freqmin=config['fmin'], freqmax=config['fmax'], corners=4, zerophase=True)\n",
    "\n",
    "## resample all to 40 Hz\n",
    "st3.resample(40)\n",
    "\n",
    "print(st3)\n",
    "st3.plot(equal_scale=False);"
   ]
  },
  {
   "cell_type": "code",
   "execution_count": null,
   "id": "f2af45a3",
   "metadata": {
    "ExecuteTime": {
     "end_time": "2022-10-13T12:47:52.035469Z",
     "start_time": "2022-10-13T12:47:49.846425Z"
    },
    "code_folding": [
     0
    ]
   },
   "outputs": [],
   "source": [
    "def __makeplotStreamSpectra2(st, config, fscale=None):\n",
    "\n",
    "    from scipy import fftpack\n",
    "    from andbro__fft import __fft\n",
    "    import matplotlib.pyplot as plt\n",
    "\n",
    "    NN = len(st)\n",
    "    \n",
    "    fig, axes = plt.subplots(NN,2,figsize=(15,int(NN*2)), sharex='col')\n",
    "\n",
    "    plt.subplots_adjust(hspace=0.3)\n",
    "\n",
    "    ## _______________________________________________\n",
    "\n",
    "    st.sort(keys=['channel'], reverse=True)\n",
    "    \n",
    "    for i, tr in enumerate(st):\n",
    "\n",
    "#         comp_fft = abs(fftpack.fft(tr.data))\n",
    "#         ff       = fftpack.fftfreq(comp_fft.size, d=1/tr.stats.sampling_rate)\n",
    "#         comp_fft = fftpack.fftshift(comp_fft)\n",
    "#         ff, spec = ff[1:len(ff)//2], abs(fftpack.fft(tr.data)[1:len(ff)//2])\n",
    "\n",
    "        spec, ff, ph = __fft(tr.data, tr.stats.delta, window=None, normalize=None)\n",
    "\n",
    "        ## _________________________________________________________________\n",
    "        axes[i,0].plot(\n",
    "                    tr.times(),\n",
    "                    tr.data,\n",
    "                    color='black',\n",
    "                    label='{} {}'.format(tr.stats.station, tr.stats.channel),\n",
    "                    lw=1.0,\n",
    "                    )\n",
    "\n",
    "\n",
    "        ## _________________________________________________________________\n",
    "        if fscale == \"loglog\":\n",
    "            axes[i,1].loglog(ff, spec, color='black', lw=1.0)\n",
    "        elif fscale == \"loglin\":\n",
    "            axes[i,1].semilogx(ff, spec, color='black', lw=1.0)\n",
    "        elif fscale == \"linlog\":\n",
    "            axes[i,1].semilogy(ff, spec, color='black', lw=1.0)\n",
    "        else:\n",
    "            axes[i,1].plot(ff, spec, color='black', lw=1.0)         \n",
    "        \n",
    "        \n",
    "        if tr.stats.channel[1] == \"J\":\n",
    "            sym, unit = \"$\\Omega$\", \"rad/s\"\n",
    "        elif tr.stats.channel[1] == \"H\":\n",
    "            sym, unit = \"v\", \"m/s\"\n",
    "        else:\n",
    "            unit = \"Amplitude\", \"a.u.\"\n",
    "            \n",
    "        axes[i,0].set_ylabel(f'{sym} ({unit})')    \n",
    "        axes[i,1].set_ylabel(f'ASD ({unit}/Hz)')        \n",
    "        axes[i,0].legend(loc='upper left',bbox_to_anchor=(0.8, 1.10), framealpha=1.0)\n",
    "        \n",
    "#         axes[i,0].ticklabel_format(axis='y', style='sci', scilimits=(0,0))\n",
    "#         axes[i,1].ticklabel_format(axis='y', style='sci', scilimits=(0,0))\n",
    "\n",
    "    if \"fmin\" in config.keys() and \"fmax\" in config.keys():\n",
    "        axes[i,1].set_xlim(config['fmin'],config['fmax'])\n",
    "\n",
    "    axes[NN-1,0].set_xlabel(f\"Time from {tr.stats.starttime.date} {str(tr.stats.starttime.time)[:8]} (s)\" )     \n",
    "    axes[NN-1,1].set_xlabel(f\"Frequency (Hz)\" )     \n",
    "\n",
    "    return fig\n",
    "\n",
    "fig = __makeplotStreamSpectra2(st3, config, fscale=\"linlin\");"
   ]
  },
  {
   "cell_type": "code",
   "execution_count": null,
   "id": "a67f1259",
   "metadata": {
    "ExecuteTime": {
     "end_time": "2022-10-13T12:48:11.379057Z",
     "start_time": "2022-10-13T12:48:08.893754Z"
    }
   },
   "outputs": [],
   "source": [
    "# __savefig(fig, outpath=\"/home/andbro/Downloads/tmp/BSPF/\", outname=\"BSPF_event_1\", mode=\"png\", dpi=300)"
   ]
  },
  {
   "cell_type": "code",
   "execution_count": null,
   "id": "d4f700d7",
   "metadata": {
    "ExecuteTime": {
     "end_time": "2022-10-13T12:43:23.785817Z",
     "start_time": "2022-10-13T12:43:23.782448Z"
    }
   },
   "outputs": [],
   "source": [
    "from andbro__makeplot_trace_spectrogram import __makeplot_trace_spectrogram"
   ]
  },
  {
   "cell_type": "code",
   "execution_count": null,
   "id": "8fe4eb15",
   "metadata": {
    "ExecuteTime": {
     "end_time": "2022-10-13T12:43:24.109805Z",
     "start_time": "2022-10-13T12:43:23.786947Z"
    }
   },
   "outputs": [],
   "source": [
    "__makeplot_trace_spectrogram(st3[0], f_upper=config['fmax']);"
   ]
  },
  {
   "cell_type": "code",
   "execution_count": null,
   "id": "b6f10d2e",
   "metadata": {
    "ExecuteTime": {
     "end_time": "2022-10-13T12:43:25.387938Z",
     "start_time": "2022-10-13T12:43:24.111254Z"
    }
   },
   "outputs": [],
   "source": [
    "st3.spectrogram()"
   ]
  },
  {
   "cell_type": "code",
   "execution_count": null,
   "id": "2706b547",
   "metadata": {},
   "outputs": [],
   "source": []
  },
  {
   "cell_type": "code",
   "execution_count": null,
   "id": "8a0cd655",
   "metadata": {},
   "outputs": [],
   "source": []
  },
  {
   "cell_type": "code",
   "execution_count": null,
   "id": "13b45c1a",
   "metadata": {},
   "outputs": [],
   "source": []
  }
 ],
 "metadata": {
  "kernelspec": {
   "display_name": "Python 3",
   "language": "python",
   "name": "python3"
  },
  "language_info": {
   "codemirror_mode": {
    "name": "ipython",
    "version": 3
   },
   "file_extension": ".py",
   "mimetype": "text/x-python",
   "name": "python",
   "nbconvert_exporter": "python",
   "pygments_lexer": "ipython3",
   "version": "3.7.8"
  },
  "latex_envs": {
   "LaTeX_envs_menu_present": true,
   "autoclose": false,
   "autocomplete": true,
   "bibliofile": "biblio.bib",
   "cite_by": "apalike",
   "current_citInitial": 1,
   "eqLabelWithNumbers": true,
   "eqNumInitial": 1,
   "hotkeys": {
    "equation": "Ctrl-E",
    "itemize": "Ctrl-I"
   },
   "labels_anchors": false,
   "latex_user_defs": false,
   "report_style_numbering": false,
   "user_envs_cfg": false
  },
  "toc": {
   "base_numbering": 1,
   "nav_menu": {},
   "number_sections": true,
   "sideBar": true,
   "skip_h1_title": false,
   "title_cell": "Table of Contents",
   "title_sidebar": "Contents",
   "toc_cell": false,
   "toc_position": {},
   "toc_section_display": true,
   "toc_window_display": false
  }
 },
 "nbformat": 4,
 "nbformat_minor": 5
}
