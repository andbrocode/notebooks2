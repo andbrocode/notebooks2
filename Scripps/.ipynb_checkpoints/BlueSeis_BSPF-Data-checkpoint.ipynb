{
 "cells": [
  {
   "cell_type": "markdown",
   "id": "ff172478",
   "metadata": {
    "ExecuteTime": {
     "end_time": "2022-10-14T10:04:32.003164Z",
     "start_time": "2022-10-14T10:04:31.997241Z"
    }
   },
   "source": [
    "<img src=\"https://dgg-online.de/WordPress_01/wp-content/uploads/2022/10/20220928_000149_BlueSeis_Setup-scaled.jpg\" align=\"right\" alt=\"BlueSeis Image\" width=\"500\" height=\"100\" />"
   ]
  },
  {
   "cell_type": "markdown",
   "id": "26ad060e",
   "metadata": {
    "ExecuteTime": {
     "end_time": "2022-09-13T00:35:24.926376Z",
     "start_time": "2022-09-13T00:35:24.923877Z"
    }
   },
   "source": [
    "# Analyse BlueSeis BSPF Events"
   ]
  },
  {
   "cell_type": "markdown",
   "id": "fa47ca0c",
   "metadata": {},
   "source": [
    "Download Data of BlueSeis at Pinon Flat Observatory via IRIS. "
   ]
  },
  {
   "cell_type": "code",
   "execution_count": 5,
   "id": "7ae027cf",
   "metadata": {
    "ExecuteTime": {
     "end_time": "2022-10-14T10:19:33.523608Z",
     "start_time": "2022-10-14T10:19:31.936719Z"
    }
   },
   "outputs": [],
   "source": [
    "import os \n",
    "import obspy as obs\n",
    "import numpy as np"
   ]
  },
  {
   "cell_type": "code",
   "execution_count": 6,
   "id": "31994b59",
   "metadata": {
    "ExecuteTime": {
     "end_time": "2022-10-14T10:19:33.531358Z",
     "start_time": "2022-10-14T10:19:33.525595Z"
    },
    "code_folding": [
     0
    ]
   },
   "outputs": [],
   "source": [
    "def __request_data(seed, tbeg, tend):\n",
    "\n",
    "    from obspy.clients.fdsn import Client\n",
    "\n",
    "    client = Client(\"IRIS\",)\n",
    "\n",
    "    net, sta, loc, cha = seed.split(\".\")\n",
    "\n",
    "    try:\n",
    "        inventory = client.get_stations(network=net, \n",
    "                                         station=sta,\n",
    "                                         starttime=tbeg,\n",
    "                                         endtime=tend,\n",
    "                                         level=\"response\",\n",
    "                                         )\n",
    "    except:\n",
    "        print(\"Failed to load inventory!\")\n",
    "\n",
    "\n",
    "    try:\n",
    "        waveform = client.get_waveforms(network=net,\n",
    "                                       station=sta,\n",
    "                                       location=loc,\n",
    "                                       channel=cha, \n",
    "                                       starttime=tbeg-60,\n",
    "                                       endtime=tend+60,\n",
    "                                       )\n",
    "\n",
    "    except:\n",
    "        print(\"Failed to load waveforms!\")\n",
    "        \n",
    "    return waveform, inventory"
   ]
  },
  {
   "cell_type": "markdown",
   "id": "a9cfd05f",
   "metadata": {},
   "source": [
    "## Configurations"
   ]
  },
  {
   "cell_type": "code",
   "execution_count": 13,
   "id": "42cd60e7",
   "metadata": {
    "ExecuteTime": {
     "end_time": "2022-10-14T10:20:18.991094Z",
     "start_time": "2022-10-14T10:20:18.986069Z"
    }
   },
   "outputs": [],
   "source": [
    "config = {}\n",
    "\n",
    "config['seed_blueseis'] = \"PY.BSPF..HJ*\"\n",
    "config['seed_seismometer'] = \"II.PFO.10.BH*\"\n",
    "\n",
    "\n",
    "## Event near PFO\n",
    "config['tbeg'] = obs.UTCDateTime(\"2022-10-13 15:00:00\")\n",
    "config['tend'] = obs.UTCDateTime(\"2022-10-13 16:00:00\")\n"
   ]
  },
  {
   "cell_type": "markdown",
   "id": "47ff88ba",
   "metadata": {},
   "source": [
    "## Load Data"
   ]
  },
  {
   "cell_type": "code",
   "execution_count": null,
   "id": "818716ef",
   "metadata": {
    "ExecuteTime": {
     "start_time": "2022-10-14T10:20:20.700Z"
    }
   },
   "outputs": [],
   "source": [
    "py_bspf, py_bspf_inv = __request_data(\"PY.BSPF..HJ*\", config['tbeg'], config['tend'])"
   ]
  },
  {
   "cell_type": "code",
   "execution_count": null,
   "id": "58cfe8e4",
   "metadata": {
    "ExecuteTime": {
     "start_time": "2022-10-14T10:20:20.856Z"
    }
   },
   "outputs": [],
   "source": [
    "print(py_bspf)\n",
    "py_bspf.plot(equal_scale=False);"
   ]
  },
  {
   "cell_type": "code",
   "execution_count": 12,
   "id": "65b341bc",
   "metadata": {
    "ExecuteTime": {
     "end_time": "2022-10-14T10:19:58.953692Z",
     "start_time": "2022-10-14T10:19:58.951144Z"
    }
   },
   "outputs": [],
   "source": [
    "# ii_pfo, ii_pfo_inv = __request_data(config['seed_seismometer'], config['tbeg'], config['tend'])"
   ]
  },
  {
   "cell_type": "code",
   "execution_count": null,
   "id": "a198d1ed",
   "metadata": {},
   "outputs": [],
   "source": [
    "# print(ii_pfo)\n",
    "# ii_pfo.plot(equal_scale=False);"
   ]
  },
  {
   "cell_type": "code",
   "execution_count": null,
   "id": "13b45c1a",
   "metadata": {},
   "outputs": [],
   "source": []
  }
 ],
 "metadata": {
  "kernelspec": {
   "display_name": "Python 3",
   "language": "python",
   "name": "python3"
  },
  "language_info": {
   "codemirror_mode": {
    "name": "ipython",
    "version": 3
   },
   "file_extension": ".py",
   "mimetype": "text/x-python",
   "name": "python",
   "nbconvert_exporter": "python",
   "pygments_lexer": "ipython3",
   "version": "3.7.8"
  },
  "latex_envs": {
   "LaTeX_envs_menu_present": true,
   "autoclose": false,
   "autocomplete": true,
   "bibliofile": "biblio.bib",
   "cite_by": "apalike",
   "current_citInitial": 1,
   "eqLabelWithNumbers": true,
   "eqNumInitial": 1,
   "hotkeys": {
    "equation": "Ctrl-E",
    "itemize": "Ctrl-I"
   },
   "labels_anchors": false,
   "latex_user_defs": false,
   "report_style_numbering": false,
   "user_envs_cfg": false
  },
  "toc": {
   "base_numbering": 1,
   "nav_menu": {},
   "number_sections": true,
   "sideBar": true,
   "skip_h1_title": false,
   "title_cell": "Table of Contents",
   "title_sidebar": "Contents",
   "toc_cell": false,
   "toc_position": {},
   "toc_section_display": true,
   "toc_window_display": false
  }
 },
 "nbformat": 4,
 "nbformat_minor": 5
}
