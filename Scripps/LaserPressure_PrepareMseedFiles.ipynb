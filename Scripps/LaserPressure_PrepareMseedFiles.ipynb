{
 "cells": [
  {
   "cell_type": "markdown",
   "id": "26ad060e",
   "metadata": {
    "ExecuteTime": {
     "end_time": "2022-09-13T00:35:24.926376Z",
     "start_time": "2022-09-13T00:35:24.923877Z"
    }
   },
   "source": [
    "# Analyse Experiment - Prepare Mseed Files"
   ]
  },
  {
   "cell_type": "markdown",
   "id": "fa47ca0c",
   "metadata": {},
   "source": [
    "Read Data and write to mseed files "
   ]
  },
  {
   "cell_type": "code",
   "execution_count": 20,
   "id": "7ae027cf",
   "metadata": {
    "ExecuteTime": {
     "end_time": "2022-10-12T15:47:23.433152Z",
     "start_time": "2022-10-12T15:47:23.429364Z"
    }
   },
   "outputs": [],
   "source": [
    "import os \n",
    "import obspy as obs\n",
    "import matplotlib.pyplot as plt\n",
    "import numpy as np\n",
    "import pandas as pd"
   ]
  },
  {
   "cell_type": "code",
   "execution_count": 21,
   "id": "42cd60e7",
   "metadata": {
    "ExecuteTime": {
     "end_time": "2022-10-12T15:47:23.598684Z",
     "start_time": "2022-10-12T15:47:23.595394Z"
    }
   },
   "outputs": [],
   "source": [
    "config = {}"
   ]
  },
  {
   "cell_type": "code",
   "execution_count": 22,
   "id": "8d18305a",
   "metadata": {
    "ExecuteTime": {
     "end_time": "2022-10-12T15:47:23.741817Z",
     "start_time": "2022-10-12T15:47:23.738587Z"
    }
   },
   "outputs": [],
   "source": [
    "config['datapath_femto'] = \"/home/andbro/Documents/ROMY/Scripps_Fiber/data/femto/\"\n",
    "\n",
    "config['outpath_mseed'] = \"/home/andbro/Documents/ROMY/Scripps_Fiber/data/mseed/\"\n",
    "\n",
    "config['datapath_pressure'] = \"/home/andbro/Documents/ROMY/Scripps_Fiber/data/pressure/\""
   ]
  },
  {
   "cell_type": "markdown",
   "id": "bb9b09d5",
   "metadata": {},
   "source": [
    "## Experiment Configurations"
   ]
  },
  {
   "cell_type": "markdown",
   "id": "2511f64a",
   "metadata": {},
   "source": [
    "Experiment 6 - Valve open"
   ]
  },
  {
   "cell_type": "code",
   "execution_count": 46,
   "id": "db061581",
   "metadata": {
    "ExecuteTime": {
     "end_time": "2022-10-12T15:49:53.208551Z",
     "start_time": "2022-10-12T15:49:53.202544Z"
    }
   },
   "outputs": [],
   "source": [
    "config['outname_mseed'] = \"experiment0\"\n",
    "\n",
    "config['filename_femto'] = \"experiment0/munki1_241_242_243_css.wfdisc\"\n",
    "config['filename_pressure'] = \"DATA0.txt\"\n",
    "\n",
    "# config['tbeg'] = obs.UTCDateTime(\"2022-09-19 15:30\") + 7*3600  ## convert to UTC\n",
    "config['tbeg'] = obs.UTCDateTime(\"2022-08-30 17:00\") + 7*3600  ## convert to UTC\n",
    "config['tend'] = obs.UTCDateTime(\"2022-08-31 09:00\") + 7*3600  ## convert to UTC"
   ]
  },
  {
   "cell_type": "code",
   "execution_count": 47,
   "id": "d8f192cc",
   "metadata": {
    "ExecuteTime": {
     "end_time": "2022-10-12T15:49:54.240839Z",
     "start_time": "2022-10-12T15:49:54.237678Z"
    }
   },
   "outputs": [],
   "source": [
    "# config['outname_mseed'] = \"experiment1\"\n",
    "\n",
    "# config['filename_femto'] = \"experiment2/munki1.263.264.css.wfdisc\"\n",
    "# config['filename_pressure'] = \"DATA1.txt\"\n",
    "\n",
    "# # config['tbeg'] = obs.UTCDateTime(\"2022-09-19 15:30\") + 7*3600  ## convert to UTC\n",
    "# config['tbeg'] = obs.UTCDateTime(\"2022-09-19 16:30\") + 7*3600  ## convert to UTC\n",
    "# config['tend'] = obs.UTCDateTime(\"2022-09-19 18:30\") + 7*3600  ## convert to UTC"
   ]
  },
  {
   "cell_type": "code",
   "execution_count": 48,
   "id": "5b2a03ad",
   "metadata": {
    "ExecuteTime": {
     "end_time": "2022-10-12T15:49:54.437686Z",
     "start_time": "2022-10-12T15:49:54.434569Z"
    }
   },
   "outputs": [],
   "source": [
    "# config['outname_mseed'] = \"experiment2\"\n",
    "\n",
    "# config['filename_femto'] = \"experiment2/munki1.263.264.css.wfdisc\"\n",
    "# config['filename_pressure'] = \"DATA2.txt\"\n",
    "\n",
    "# config['tbeg'] = obs.UTCDateTime(\"2022-09-19 18:50\") + 7*3600  ## convert to UTC\n",
    "# config['tend'] = obs.UTCDateTime(\"2022-09-20 10:14\") + 7*3600  ## convert to UTC"
   ]
  },
  {
   "cell_type": "code",
   "execution_count": 49,
   "id": "eafd12fc",
   "metadata": {
    "ExecuteTime": {
     "end_time": "2022-10-12T15:49:54.577453Z",
     "start_time": "2022-10-12T15:49:54.574455Z"
    }
   },
   "outputs": [],
   "source": [
    "# config['outname_mseed'] = \"experiment3\"\n",
    "\n",
    "# config['filename_femto'] = \"experiment2/munki1.263.264.css.wfdisc\"\n",
    "# config['filename_pressure'] = \"DATA3.txt\"\n",
    "\n",
    "# config['tbeg'] = obs.UTCDateTime(\"2022-09-20 10:20\") + 7*3600  ## convert to UTC\n",
    "# config['tend'] = obs.UTCDateTime(\"2022-09-20 19:20\") + 7*3600  ## convert to UTC"
   ]
  },
  {
   "cell_type": "code",
   "execution_count": 50,
   "id": "ae7f4d58",
   "metadata": {
    "ExecuteTime": {
     "end_time": "2022-10-12T15:49:54.718403Z",
     "start_time": "2022-10-12T15:49:54.715617Z"
    }
   },
   "outputs": [],
   "source": [
    "# config['outname_mseed'] = \"experiment4\"\n",
    "\n",
    "# config['filename_femto'] = \"experiment2/munki1.263.264.css.wfdisc\"\n",
    "# config['filename_pressure'] = \"DATA4.txt\"\n",
    "\n",
    "# config['tbeg'] = obs.UTCDateTime(\"2022-09-20 19:30\") + 7*3600  ## convert to UTC\n",
    "# # config['tend'] = obs.UTCDateTime(\"2022-09-22 10:15\") + 7*3600  ## convert to UTC\n",
    "# config['tend'] = obs.UTCDateTime(\"2022-09-21 02:15\") + 7*3600  ## convert to UTC"
   ]
  },
  {
   "cell_type": "code",
   "execution_count": 51,
   "id": "9b19a866",
   "metadata": {
    "ExecuteTime": {
     "end_time": "2022-10-12T15:49:54.850144Z",
     "start_time": "2022-10-12T15:49:54.847788Z"
    }
   },
   "outputs": [],
   "source": [
    "# config['outname_mseed'] = \"experiment6\"\n",
    "\n",
    "# config['filename_femto'] = \"experiment6/munki1_269_css.wfdisc\"\n",
    "# config['filename_pressure'] = \"DATA6.txt\"\n",
    "\n",
    "# config['tbeg'] = obs.UTCDateTime(\"2022-09-26 11:35\") + 7*3600  ## convert to UTC\n",
    "# config['tend'] = obs.UTCDateTime(\"2022-09-26 13:35\") + 7*3600  ## convert to UTC"
   ]
  },
  {
   "cell_type": "code",
   "execution_count": 52,
   "id": "fb4febb6",
   "metadata": {
    "ExecuteTime": {
     "end_time": "2022-10-12T15:49:55.028161Z",
     "start_time": "2022-10-12T15:49:55.025610Z"
    }
   },
   "outputs": [],
   "source": [
    "# config['outname_mseed'] = \"experiment7\"\n",
    "\n",
    "# config['filename_femto'] = \"experiment6/munki1_269_css.wfdisc\"\n",
    "# config['filename_pressure'] = \"DATA7.txt\"\n",
    "\n",
    "# config['tbeg'] = obs.UTCDateTime(\"2022-09-26 13:45\") + 7*3600  ## convert to UTC\n",
    "# config['tend'] = obs.UTCDateTime(\"2022-09-26 15:15\") + 7*3600  ## convert to UTC"
   ]
  },
  {
   "cell_type": "code",
   "execution_count": 53,
   "id": "8dc43791",
   "metadata": {
    "ExecuteTime": {
     "end_time": "2022-10-12T15:49:55.207598Z",
     "start_time": "2022-10-12T15:49:55.204216Z"
    }
   },
   "outputs": [],
   "source": [
    "# config['outname_mseed'] = \"experiment8\"\n",
    "\n",
    "# config['filename_femto'] = \"experiment8/munki1_271_css.wfdisc\"\n",
    "# config['filename_pressure'] = \"DATA8.txt\"\n",
    "\n",
    "# ## alternative starttime due to missing data\n",
    "# # config['tbeg'] = obs.UTCDateTime(\"2022-09-26 16:40\") + 7*3600  ## convert to UTC\n",
    "# config['tbeg'] = obs.UTCDateTime(\"2022-09-28 00:00\") + 7*3600  ## convert to UTC \n",
    "# config['tend'] = obs.UTCDateTime(\"2022-09-28 09:30\") + 7*3600  ## convert to UTC"
   ]
  },
  {
   "cell_type": "code",
   "execution_count": 54,
   "id": "a97591d5",
   "metadata": {
    "ExecuteTime": {
     "end_time": "2022-10-12T15:49:55.379827Z",
     "start_time": "2022-10-12T15:49:55.377132Z"
    }
   },
   "outputs": [],
   "source": [
    "# config['outname_mseed'] = \"experiment9\"\n",
    "\n",
    "# config['filename_femto'] = \"experiment9/munki1_272_css.wfdisc\"\n",
    "# config['filename_pressure'] = \"DATA9.txt\"\n",
    "\n",
    "# config['tbeg'] = obs.UTCDateTime(\"2022-09-28 09:50\") + 7*3600  ## convert to UTC\n",
    "# config['tend'] = obs.UTCDateTime(\"2022-09-28 11:30\") + 7*3600  ## convert to UTC"
   ]
  },
  {
   "cell_type": "code",
   "execution_count": 55,
   "id": "5318ccd4",
   "metadata": {
    "ExecuteTime": {
     "end_time": "2022-10-12T15:49:55.548165Z",
     "start_time": "2022-10-12T15:49:55.545750Z"
    }
   },
   "outputs": [],
   "source": [
    "# config['outname_mseed'] = \"experiment10\"\n",
    "\n",
    "# config['filename_femto'] = \"experiment9/munki1_272_css.wfdisc\"\n",
    "# config['filename_pressure'] = \"DATA10.txt\"\n",
    "\n",
    "# config['tbeg'] = obs.UTCDateTime(\"2022-09-28 11:40\") + 7*3600  ## convert to UTC\n",
    "# config['tend'] = obs.UTCDateTime(\"2022-09-28 18:00\") + 7*3600  ## convert to UTC"
   ]
  },
  {
   "cell_type": "markdown",
   "id": "ba6ccc01",
   "metadata": {},
   "source": [
    "## Load Femto Data"
   ]
  },
  {
   "cell_type": "code",
   "execution_count": 56,
   "id": "fd2c26a4",
   "metadata": {
    "ExecuteTime": {
     "end_time": "2022-10-12T15:49:56.017955Z",
     "start_time": "2022-10-12T15:49:55.866424Z"
    }
   },
   "outputs": [
    {
     "name": "stdout",
     "output_type": "stream",
     "text": [
      "1 Trace(s) in Stream:\n",
      ".munki1..p1s32 | 2022-08-29T23:58:49.210440Z - 2022-08-31T18:24:49.460440Z | 20.0 Hz, 3055206 samples\n"
     ]
    },
    {
     "name": "stderr",
     "output_type": "stream",
     "text": [
      "/home/andbro/anaconda3/envs/obs/lib/python3.7/site-packages/obspy/core/trace.py:220: UserWarning: Calibration factor set to 0.0!\n",
      "  warnings.warn(msg, UserWarning)\n"
     ]
    },
    {
     "data": {
      "image/png": "[encoded data removed]",
      "text/plain": [
       "<Figure size 800x250 with 1 Axes>"
      ]
     },
     "metadata": {
      "needs_background": "light"
     },
     "output_type": "display_data"
    }
   ],
   "source": [
    "## read data stream using obspy routine\n",
    "st = obs.read(config['datapath_femto']+config['filename_femto'], format=\"CSS\")\n",
    "\n",
    "## merge traces that might be split due to data gaps or overlaps\n",
    "st.merge(fill_value=\"interpolate\")\n",
    "\n",
    "## setting the calibration variable if not already set\n",
    "st[0].stats.calib = 1.0\n",
    "\n",
    "## show all traces in data stream\n",
    "print(st)\n",
    "\n",
    "st.plot(equal_scale=False);"
   ]
  },
  {
   "cell_type": "markdown",
   "id": "2df2d0cb",
   "metadata": {
    "ExecuteTime": {
     "end_time": "2022-09-27T00:42:15.910258Z",
     "start_time": "2022-09-27T00:42:15.905717Z"
    }
   },
   "source": [
    "## Load Pressure Data"
   ]
  },
  {
   "cell_type": "code",
   "execution_count": 57,
   "id": "5dad57b3",
   "metadata": {
    "ExecuteTime": {
     "end_time": "2022-10-12T15:49:56.324644Z",
     "start_time": "2022-10-12T15:49:56.318467Z"
    }
   },
   "outputs": [],
   "source": [
    "if os.path.isfile(config['datapath_pressure']+config['filename_pressure']):\n",
    "    ## read data of parascientific barometer\n",
    "    pressure = pd.read_csv(config['datapath_pressure']+config['filename_pressure'], names=[\"timestamp\",\"pressure\"])\n",
    "\n",
    "    ## convert timestamp to datetime objects\n",
    "    pressure['timestamp'] = pd.to_datetime(pressure.timestamp)\n",
    "\n",
    "    ## make local time to UTC (+7 hours)\n",
    "    pressure['timestamp'] += pd.to_timedelta(7, unit='h')\n",
    "\n",
    "    ## resample with df=1sec\n",
    "    pressure = pressure.resample(\"1S\", on=\"timestamp\").mean().reset_index()\n",
    "\n",
    "    pressure.head()"
   ]
  },
  {
   "cell_type": "code",
   "execution_count": 58,
   "id": "bca83119",
   "metadata": {
    "ExecuteTime": {
     "end_time": "2022-10-12T15:49:56.778010Z",
     "start_time": "2022-10-12T15:49:56.636282Z"
    }
   },
   "outputs": [
    {
     "name": "stdout",
     "output_type": "stream",
     "text": [
      "-> no pressure trace added!\n",
      ".BARO..XXX | 2022-08-29T23:58:49.210440Z - 2022-10-04T08:38:54.210440Z | 1.0 Hz, 3055206 samples\n"
     ]
    },
    {
     "data": {
      "image/png": "[encoded data removed]",
      "text/plain": [
       "<Figure size 800x250 with 1 Axes>"
      ]
     },
     "metadata": {
      "needs_background": "light"
     },
     "output_type": "display_data"
    }
   ],
   "source": [
    "pressure_trace = obs.Trace()\n",
    "\n",
    "pressure_trace.stats.delta = 1.0\n",
    "pressure_trace.stats.station = \"BARO\"\n",
    "pressure_trace.stats.channel = \"XXX\"\n",
    "\n",
    "try:\n",
    "    pressure_trace.data = np.array(pressure.pressure)\n",
    "    pressure_trace.stats.starttime = obs.UTCDateTime(pressure.timestamp[0])\n",
    "except:\n",
    "    pressure_trace.data = np.zeros(len(st[0].data))\n",
    "    pressure_trace.stats.starttime = st[0].stats.starttime\n",
    "    print(\"-> no pressure trace added!\")\n",
    "\n",
    "print(pressure_trace)\n",
    "\n",
    "pressure_trace.plot();"
   ]
  },
  {
   "cell_type": "markdown",
   "id": "40380355",
   "metadata": {},
   "source": [
    "## Join Streams, Trim and Write Output"
   ]
  },
  {
   "cell_type": "code",
   "execution_count": 59,
   "id": "80e78b5d",
   "metadata": {
    "ExecuteTime": {
     "end_time": "2022-10-12T15:49:57.034357Z",
     "start_time": "2022-10-12T15:49:57.019131Z"
    },
    "code_folding": []
   },
   "outputs": [
    {
     "name": "stderr",
     "output_type": "stream",
     "text": [
      "/home/andbro/anaconda3/envs/obs/lib/python3.7/site-packages/obspy/io/mseed/core.py:838: UserWarning: File will be written with more than one different encodings.\n",
      "This might have a negative influence on the compatibility with other programs.\n",
      "  warnings.warn(msg % 'encodings')\n"
     ]
    }
   ],
   "source": [
    "st2 = st.copy()\n",
    "\n",
    "## add pressure trace\n",
    "st2 += pressure_trace\n",
    "\n",
    "## cut to experiment times\n",
    "st2.trim(config['tbeg'], config['tend'])\n",
    "\n",
    "## write to mseed files\n",
    "st2.write(config['outpath_mseed']+config['outname_mseed']+\".mseed\", format=\"MSEED\")"
   ]
  },
  {
   "cell_type": "markdown",
   "id": "4ae8aa00",
   "metadata": {},
   "source": [
    "## Plotting"
   ]
  },
  {
   "cell_type": "code",
   "execution_count": 60,
   "id": "2d20629a",
   "metadata": {
    "ExecuteTime": {
     "end_time": "2022-10-12T15:49:57.706945Z",
     "start_time": "2022-10-12T15:49:57.381483Z"
    },
    "code_folding": [
     0
    ]
   },
   "outputs": [
    {
     "data": {
      "image/png": "[encoded data removed]",
      "text/plain": [
       "<Figure size 1080x504 with 2 Axes>"
      ]
     },
     "metadata": {
      "needs_background": "light"
     },
     "output_type": "display_data"
    }
   ],
   "source": [
    "def __make_plot_traces():\n",
    "\n",
    "    fig, ax = plt.subplots(2,1, figsize=(15,7), sharex=True)\n",
    "\n",
    "    fig.subplots_adjust(hspace=0)\n",
    "\n",
    "    ax[0].plot(st2.select(station=\"BARO\")[0].times()/3600, st2.select(station=\"BARO\")[0].data)\n",
    "    ax[1].plot(st2.select(station=\"munki1\")[0].times()/3600, st2.select(station=\"munki1\")[0].data)\n",
    "\n",
    "    plt.xlabel(\"Time (hours)\", fontsize=12)\n",
    "    ax[0].set_ylabel(\"Pressure (kPa)\", fontsize=12)\n",
    "    ax[1].set_ylabel(\"Phase (rad)\", fontsize=12)\n",
    "\n",
    "__make_plot_traces()"
   ]
  },
  {
   "cell_type": "code",
   "execution_count": null,
   "id": "e5f76c05",
   "metadata": {},
   "outputs": [],
   "source": []
  },
  {
   "cell_type": "code",
   "execution_count": null,
   "id": "16095ed0",
   "metadata": {},
   "outputs": [],
   "source": []
  },
  {
   "cell_type": "code",
   "execution_count": null,
   "id": "d26266b7",
   "metadata": {},
   "outputs": [],
   "source": []
  }
 ],
 "metadata": {
  "kernelspec": {
   "display_name": "Python 3",
   "language": "python",
   "name": "python3"
  },
  "language_info": {
   "codemirror_mode": {
    "name": "ipython",
    "version": 3
   },
   "file_extension": ".py",
   "mimetype": "text/x-python",
   "name": "python",
   "nbconvert_exporter": "python",
   "pygments_lexer": "ipython3",
   "version": "3.7.8"
  },
  "latex_envs": {
   "LaTeX_envs_menu_present": true,
   "autoclose": false,
   "autocomplete": true,
   "bibliofile": "biblio.bib",
   "cite_by": "apalike",
   "current_citInitial": 1,
   "eqLabelWithNumbers": true,
   "eqNumInitial": 1,
   "hotkeys": {
    "equation": "Ctrl-E",
    "itemize": "Ctrl-I"
   },
   "labels_anchors": false,
   "latex_user_defs": false,
   "report_style_numbering": false,
   "user_envs_cfg": false
  },
  "toc": {
   "base_numbering": 1,
   "nav_menu": {},
   "number_sections": true,
   "sideBar": true,
   "skip_h1_title": false,
   "title_cell": "Table of Contents",
   "title_sidebar": "Contents",
   "toc_cell": false,
   "toc_position": {},
   "toc_section_display": true,
   "toc_window_display": false
  }
 },
 "nbformat": 4,
 "nbformat_minor": 5
}
