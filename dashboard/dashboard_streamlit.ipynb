{
 "cells": [
  {
   "cell_type": "code",
   "execution_count": null,
   "id": "0f0bb9f6",
   "metadata": {
    "ExecuteTime": {
     "start_time": "2023-06-30T09:47:16.517Z"
    },
    "code_folding": []
   },
   "outputs": [
    {
     "name": "stderr",
     "output_type": "stream",
     "text": [
      "2023-06-30 11:47:17.625 \n",
      "  \u001b[33m\u001b[1mWarning:\u001b[0m to view this Streamlit app on a browser, run it with the following\n",
      "  command:\n",
      "\n",
      "    streamlit run /home/andbro/anaconda3/envs/dash/lib/python3.11/site-packages/ipykernel_launcher.py [ARGUMENTS]\n",
      "2023-06-30 11:47:17.626 `st.experimental_memo` is deprecated. Please use the new command `st.cache_data` instead, which has the same behavior. More information [in our docs](https://docs.streamlit.io/library/advanced-features/caching).\n",
      "2023-06-30 11:47:17.627 No runtime found, using MemoryCacheStorageManager\n",
      "2023-06-30 11:47:17.629 No runtime found, using MemoryCacheStorageManager\n"
     ]
    }
   ],
   "source": [
    "import time  # to simulate a real time data, time loop\n",
    "\n",
    "import numpy as np  # np mean, np random\n",
    "import pandas as pd  # read csv, df manipulation\n",
    "import plotly.express as px  # interactive charts\n",
    "import streamlit as st  # 🎈 data web app development\n",
    "\n",
    "st.set_page_config(\n",
    "    page_title=\"Real-Time Data Science Dashboard\",\n",
    "    page_icon=\"✅\",\n",
    "    layout=\"wide\",\n",
    ")\n",
    "\n",
    "# read csv from a github repo\n",
    "dataset_url = \"https://raw.githubusercontent.com/Lexie88rus/bank-marketing-analysis/master/bank.csv\"\n",
    "\n",
    "# read csv from a URL\n",
    "@st.experimental_memo\n",
    "def get_data() -> pd.DataFrame:\n",
    "    return pd.read_csv(dataset_url)\n",
    "\n",
    "df = get_data()\n",
    "\n",
    "# dashboard title\n",
    "st.title(\"Real-Time / Live Data Science Dashboard\")\n",
    "\n",
    "# top-level filters\n",
    "job_filter = st.selectbox(\"Select the Job\", pd.unique(df[\"job\"]))\n",
    "\n",
    "# creating a single-element container\n",
    "placeholder = st.empty()\n",
    "\n",
    "# dataframe filter\n",
    "df = df[df[\"job\"] == job_filter]\n",
    "\n",
    "# near real-time / live feed simulation\n",
    "for seconds in range(200):\n",
    "\n",
    "    df[\"age_new\"] = df[\"age\"] * np.random.choice(range(1, 5))\n",
    "    df[\"balance_new\"] = df[\"balance\"] * np.random.choice(range(1, 5))\n",
    "\n",
    "    # creating KPIs\n",
    "    avg_age = np.mean(df[\"age_new\"])\n",
    "\n",
    "    count_married = int(\n",
    "        df[(df[\"marital\"] == \"married\")][\"marital\"].count()\n",
    "        + np.random.choice(range(1, 30))\n",
    "    )\n",
    "\n",
    "    balance = np.mean(df[\"balance_new\"])\n",
    "\n",
    "    with placeholder.container():\n",
    "\n",
    "        # create three columns\n",
    "        kpi1, kpi2, kpi3 = st.columns(3)\n",
    "\n",
    "        # fill in those three columns with respective metrics or KPIs\n",
    "        kpi1.metric(\n",
    "            label=\"Age ⏳\",\n",
    "            value=round(avg_age),\n",
    "            delta=round(avg_age) - 10,\n",
    "        )\n",
    "        \n",
    "        kpi2.metric(\n",
    "            label=\"Married Count 💍\",\n",
    "            value=int(count_married),\n",
    "            delta=-10 + count_married,\n",
    "        )\n",
    "        \n",
    "        kpi3.metric(\n",
    "            label=\"A/C Balance ＄\",\n",
    "            value=f\"$ {round(balance,2)} \",\n",
    "            delta=-round(balance / count_married) * 100,\n",
    "        )\n",
    "\n",
    "        # create two columns for charts\n",
    "        fig_col1, fig_col2 = st.columns(2)\n",
    "        with fig_col1:\n",
    "            st.markdown(\"### First Chart\")\n",
    "            fig = px.density_heatmap(\n",
    "                data_frame=df, y=\"age_new\", x=\"marital\"\n",
    "            )\n",
    "            st.write(fig)\n",
    "            \n",
    "        with fig_col2:\n",
    "            st.markdown(\"### Second Chart\")\n",
    "            fig2 = px.histogram(data_frame=df, x=\"age_new\")\n",
    "            st.write(fig2)\n",
    "\n",
    "        st.markdown(\"### Detailed Data View\")\n",
    "        st.dataframe(df)\n",
    "        time.sleep(1)\n"
   ]
  },
  {
   "cell_type": "code",
   "execution_count": null,
   "id": "a3e8e981",
   "metadata": {},
   "outputs": [],
   "source": []
  }
 ],
 "metadata": {
  "kernelspec": {
   "display_name": "Python 3 (ipykernel)",
   "language": "python",
   "name": "python3"
  },
  "language_info": {
   "codemirror_mode": {
    "name": "ipython",
    "version": 3
   },
   "file_extension": ".py",
   "mimetype": "text/x-python",
   "name": "python",
   "nbconvert_exporter": "python",
   "pygments_lexer": "ipython3",
   "version": "3.7.8"
  },
  "toc": {
   "base_numbering": 1,
   "nav_menu": {},
   "number_sections": true,
   "sideBar": true,
   "skip_h1_title": false,
   "title_cell": "Table of Contents",
   "title_sidebar": "Contents",
   "toc_cell": false,
   "toc_position": {},
   "toc_section_display": true,
   "toc_window_display": false
  },
  "varInspector": {
   "cols": {
    "lenName": 16,
    "lenType": 16,
    "lenVar": 40
   },
   "kernels_config": {
    "python": {
     "delete_cmd_postfix": "",
     "delete_cmd_prefix": "del ",
     "library": "var_list.py",
     "varRefreshCmd": "print(var_dic_list())"
    },
    "r": {
     "delete_cmd_postfix": ") ",
     "delete_cmd_prefix": "rm(",
     "library": "var_list.r",
     "varRefreshCmd": "cat(var_dic_list()) "
    }
   },
   "types_to_exclude": [
    "module",
    "function",
    "builtin_function_or_method",
    "instance",
    "_Feature"
   ],
   "window_display": false
  }
 },
 "nbformat": 4,
 "nbformat_minor": 5
}
