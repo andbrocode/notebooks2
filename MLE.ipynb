{
 "cells": [
  {
   "cell_type": "code",
   "execution_count": 11,
   "metadata": {},
   "outputs": [],
   "source": [
    "# import libraries\n",
    "import numpy as np\n",
    "import pandas as pd\n",
    "import seaborn as sns\n",
    "import scipy.stats as stats\n",
    "import pymc3 as pm3\n",
    "import numdifftools as ndt\n",
    "import statsmodels.api as sm\n",
    "\n",
    "from scipy.optimize import minimize\n",
    "from statsmodels.base.model import GenericLikelihoodModel\n",
    "from scipy.optimize import minimize\n",
    "from matplotlib import pyplot as plt\n",
    "\n",
    "\n",
    "%matplotlib inline\n",
    "\n"
   ]
  },
  {
   "cell_type": "code",
   "execution_count": 45,
   "metadata": {},
   "outputs": [
    {
     "data": {
      "text/plain": [
       "<matplotlib.axes._subplots.AxesSubplot at 0x7ff4ab600250>"
      ]
     },
     "execution_count": 45,
     "metadata": {},
     "output_type": "execute_result"
    },
    {
     "data": {
      "image/png": "[encoded data removed]",
      "text/plain": [
       "<Figure size 432x288 with 1 Axes>"
      ]
     },
     "metadata": {
      "needs_background": "light"
     },
     "output_type": "display_data"
    }
   ],
   "source": [
    "# generate data\n",
    "N = 100\n",
    "x = np.linspace(0,15,N)\n",
    "ϵ = np.random.normal(loc = 2.0, scale = 10.0, size = N)\n",
    "y = 3*x + ϵ\n",
    "df = pd.DataFrame({'y':y, 'x':x})\n",
    "df['constant'] = 1\n",
    "\n",
    "sns.regplot(df['x'],df['y'])"
   ]
  },
  {
   "cell_type": "code",
   "execution_count": 46,
   "metadata": {},
   "outputs": [
    {
     "data": {
      "text/html": [
       "<table class=\"simpletable\">\n",
       "<caption>OLS Regression Results</caption>\n",
       "<tr>\n",
       "  <th>Dep. Variable:</th>            <td>y</td>        <th>  R-squared:         </th> <td>   0.642</td>\n",
       "</tr>\n",
       "<tr>\n",
       "  <th>Model:</th>                   <td>OLS</td>       <th>  Adj. R-squared:    </th> <td>   0.638</td>\n",
       "</tr>\n",
       "<tr>\n",
       "  <th>Method:</th>             <td>Least Squares</td>  <th>  F-statistic:       </th> <td>   175.8</td>\n",
       "</tr>\n",
       "<tr>\n",
       "  <th>Date:</th>             <td>Mon, 07 Sep 2020</td> <th>  Prob (F-statistic):</th> <td>1.35e-23</td>\n",
       "</tr>\n",
       "<tr>\n",
       "  <th>Time:</th>                 <td>21:59:44</td>     <th>  Log-Likelihood:    </th> <td> -374.51</td>\n",
       "</tr>\n",
       "<tr>\n",
       "  <th>No. Observations:</th>      <td>   100</td>      <th>  AIC:               </th> <td>   753.0</td>\n",
       "</tr>\n",
       "<tr>\n",
       "  <th>Df Residuals:</th>          <td>    98</td>      <th>  BIC:               </th> <td>   758.2</td>\n",
       "</tr>\n",
       "<tr>\n",
       "  <th>Df Model:</th>              <td>     1</td>      <th>                     </th>     <td> </td>   \n",
       "</tr>\n",
       "<tr>\n",
       "  <th>Covariance Type:</th>      <td>nonrobust</td>    <th>                     </th>     <td> </td>   \n",
       "</tr>\n",
       "</table>\n",
       "<table class=\"simpletable\">\n",
       "<tr>\n",
       "      <td></td>        <th>coef</th>     <th>std err</th>      <th>t</th>      <th>P>|t|</th>  <th>[0.025</th>    <th>0.975]</th>  \n",
       "</tr>\n",
       "<tr>\n",
       "  <th>constant</th> <td>    0.8375</td> <td>    2.053</td> <td>    0.408</td> <td> 0.684</td> <td>   -3.237</td> <td>    4.912</td>\n",
       "</tr>\n",
       "<tr>\n",
       "  <th>x</th>        <td>    3.1358</td> <td>    0.236</td> <td>   13.260</td> <td> 0.000</td> <td>    2.666</td> <td>    3.605</td>\n",
       "</tr>\n",
       "</table>\n",
       "<table class=\"simpletable\">\n",
       "<tr>\n",
       "  <th>Omnibus:</th>       <td> 1.682</td> <th>  Durbin-Watson:     </th> <td>   2.162</td>\n",
       "</tr>\n",
       "<tr>\n",
       "  <th>Prob(Omnibus):</th> <td> 0.431</td> <th>  Jarque-Bera (JB):  </th> <td>   1.669</td>\n",
       "</tr>\n",
       "<tr>\n",
       "  <th>Skew:</th>          <td>-0.238</td> <th>  Prob(JB):          </th> <td>   0.434</td>\n",
       "</tr>\n",
       "<tr>\n",
       "  <th>Kurtosis:</th>      <td> 2.584</td> <th>  Cond. No.          </th> <td>    17.4</td>\n",
       "</tr>\n",
       "</table><br/><br/>Warnings:<br/>[1] Standard Errors assume that the covariance matrix of the errors is correctly specified."
      ],
      "text/plain": [
       "<class 'statsmodels.iolib.summary.Summary'>\n",
       "\"\"\"\n",
       "                            OLS Regression Results                            \n",
       "==============================================================================\n",
       "Dep. Variable:                      y   R-squared:                       0.642\n",
       "Model:                            OLS   Adj. R-squared:                  0.638\n",
       "Method:                 Least Squares   F-statistic:                     175.8\n",
       "Date:                Mon, 07 Sep 2020   Prob (F-statistic):           1.35e-23\n",
       "Time:                        21:59:44   Log-Likelihood:                -374.51\n",
       "No. Observations:                 100   AIC:                             753.0\n",
       "Df Residuals:                      98   BIC:                             758.2\n",
       "Df Model:                           1                                         \n",
       "Covariance Type:            nonrobust                                         \n",
       "==============================================================================\n",
       "                 coef    std err          t      P>|t|      [0.025      0.975]\n",
       "------------------------------------------------------------------------------\n",
       "constant       0.8375      2.053      0.408      0.684      -3.237       4.912\n",
       "x              3.1358      0.236     13.260      0.000       2.666       3.605\n",
       "==============================================================================\n",
       "Omnibus:                        1.682   Durbin-Watson:                   2.162\n",
       "Prob(Omnibus):                  0.431   Jarque-Bera (JB):                1.669\n",
       "Skew:                          -0.238   Prob(JB):                        0.434\n",
       "Kurtosis:                       2.584   Cond. No.                         17.4\n",
       "==============================================================================\n",
       "\n",
       "Warnings:\n",
       "[1] Standard Errors assume that the covariance matrix of the errors is correctly specified.\n",
       "\"\"\""
      ]
     },
     "execution_count": 46,
     "metadata": {},
     "output_type": "execute_result"
    }
   ],
   "source": [
    "X = df[['constant','x']]\n",
    "\n",
    "sm.OLS(y,X).fit().summary()"
   ]
  },
  {
   "cell_type": "code",
   "execution_count": 47,
   "metadata": {},
   "outputs": [],
   "source": [
    "# define likelihood function\n",
    "def MLERegression(params):\n",
    "    intercept, beta, sd = params[0], params[1], params[2] # inputs are guesses at our parameters\n",
    "    yhat = intercept + beta*x # predictions# next, we flip the Bayesian question\n",
    "    # compute PDF of observed values normally distributed around mean (yhat)\n",
    "    # with a standard deviation of sd\n",
    "    negLL = -np.sum( stats.norm.logpdf(y, loc=yhat, scale=sd) )# return negative LL\n",
    "    return(negLL)"
   ]
  },
  {
   "cell_type": "code",
   "execution_count": 48,
   "metadata": {},
   "outputs": [
    {
     "name": "stdout",
     "output_type": "stream",
     "text": [
      "Optimization terminated successfully.\n",
      "         Current function value: 374.511296\n",
      "         Iterations: 119\n",
      "         Function evaluations: 210\n",
      " final_simplex: (array([[ 0.83753938,  3.13576809, 10.23868253],\n",
      "       [ 0.83746345,  3.13577793, 10.23870128],\n",
      "       [ 0.83753756,  3.13577186, 10.23872525],\n",
      "       [ 0.83748452,  3.13578119, 10.23868289]]), array([374.51129577, 374.51129577, 374.51129577, 374.51129577]))\n",
      "           fun: 374.5112957664297\n",
      "       message: 'Optimization terminated successfully.'\n",
      "          nfev: 210\n",
      "           nit: 119\n",
      "        status: 0\n",
      "       success: True\n",
      "             x: array([ 0.83753938,  3.13576809, 10.23868253])\n"
     ]
    }
   ],
   "source": [
    "# let’s start with some random coefficient guesses and optimize\n",
    "\n",
    "guess = np.array([5,5,2])\n",
    "\n",
    "results = minimize(MLERegression, guess, method = 'Nelder-Mead',  options={'disp': True})\n",
    "\n",
    "print(results)"
   ]
  },
  {
   "cell_type": "code",
   "execution_count": 49,
   "metadata": {},
   "outputs": [
    {
     "data": {
      "text/html": [
       "<div>\n",
       "<style scoped>\n",
       "    .dataframe tbody tr th:only-of-type {\n",
       "        vertical-align: middle;\n",
       "    }\n",
       "\n",
       "    .dataframe tbody tr th {\n",
       "        vertical-align: top;\n",
       "    }\n",
       "\n",
       "    .dataframe thead th {\n",
       "        text-align: right;\n",
       "    }\n",
       "</style>\n",
       "<table border=\"1\" class=\"dataframe\">\n",
       "  <thead>\n",
       "    <tr style=\"text-align: right;\">\n",
       "      <th></th>\n",
       "      <th>coef</th>\n",
       "    </tr>\n",
       "  </thead>\n",
       "  <tbody>\n",
       "    <tr>\n",
       "      <th>constant</th>\n",
       "      <td>0.84</td>\n",
       "    </tr>\n",
       "    <tr>\n",
       "      <th>x</th>\n",
       "      <td>3.14</td>\n",
       "    </tr>\n",
       "    <tr>\n",
       "      <th>sigma</th>\n",
       "      <td>10.24</td>\n",
       "    </tr>\n",
       "  </tbody>\n",
       "</table>\n",
       "</div>"
      ],
      "text/plain": [
       "           coef\n",
       "constant   0.84\n",
       "x          3.14\n",
       "sigma     10.24"
      ]
     },
     "execution_count": 49,
     "metadata": {},
     "output_type": "execute_result"
    }
   ],
   "source": [
    "# drop results into df and round to match statsmodels\n",
    "\n",
    "resultsdf = pd.DataFrame({'coef':results['x']})\n",
    "\n",
    "resultsdf.index=['constant','x','sigma']   \n",
    "\n",
    "np.round(resultsdf.head(3), 2)"
   ]
  },
  {
   "cell_type": "code",
   "execution_count": 51,
   "metadata": {},
   "outputs": [
    {
     "data": {
      "text/plain": [
       "array([ 0.83753938,  3.13576809, 10.23868253])"
      ]
     },
     "execution_count": 51,
     "metadata": {},
     "output_type": "execute_result"
    }
   ],
   "source": [
    "results['x']"
   ]
  },
  {
   "cell_type": "code",
   "execution_count": null,
   "metadata": {},
   "outputs": [],
   "source": []
  }
 ],
 "metadata": {
  "kernelspec": {
   "display_name": "Python 3",
   "language": "python",
   "name": "python3"
  },
  "language_info": {
   "codemirror_mode": {
    "name": "ipython",
    "version": 3
   },
   "file_extension": ".py",
   "mimetype": "text/x-python",
   "name": "python",
   "nbconvert_exporter": "python",
   "pygments_lexer": "ipython3",
   "version": "3.7.6"
  }
 },
 "nbformat": 4,
 "nbformat_minor": 4
}
