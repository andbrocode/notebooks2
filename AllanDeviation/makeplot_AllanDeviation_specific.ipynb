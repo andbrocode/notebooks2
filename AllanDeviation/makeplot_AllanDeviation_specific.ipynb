{
 "cells": [
  {
   "cell_type": "markdown",
   "metadata": {
    "ExecuteTime": {
     "end_time": "2023-01-24T17:39:08.177978Z",
     "start_time": "2023-01-24T17:39:08.174409Z"
    }
   },
   "source": [
    "## Make Allan Deviation Plot"
   ]
  },
  {
   "cell_type": "code",
   "execution_count": null,
   "metadata": {
    "ExecuteTime": {
     "end_time": "2023-01-25T15:04:35.836581Z",
     "start_time": "2023-01-25T15:04:35.201483Z"
    }
   },
   "outputs": [],
   "source": [
    "import obspy as obs\n",
    "import matplotlib.pyplot as plt\n",
    "import numpy as np\n",
    "import allantools\n",
    "\n",
    "from andbro__querrySeismoData import __querrySeismoData\n",
    "from andbro__savefig import __savefig"
   ]
  },
  {
   "cell_type": "markdown",
   "metadata": {},
   "source": [
    "## Configurations"
   ]
  },
  {
   "cell_type": "code",
   "execution_count": null,
   "metadata": {
    "ExecuteTime": {
     "end_time": "2023-01-25T15:04:35.842323Z",
     "start_time": "2023-01-25T15:04:35.838259Z"
    }
   },
   "outputs": [],
   "source": [
    "## Configurations\n",
    "\n",
    "config = {}\n",
    "\n",
    "config['tbeg'] = obs.UTCDateTime(\"2023-01-12 00:00\")\n",
    "config['tend'] = config['tbeg']+ 86400\n",
    "\n",
    "# config['seed'] = \"BW.DROMY..FJZ\"\n",
    "config['seed'] = \"BW.ROMY.10.BJZ\"\n",
    "\n",
    "config['repository'] = \"george\"\n",
    "\n",
    "# config['outpath'] = f''\n",
    "# config['outfile'] = f''\n",
    "config['outfigs'] = f'./'\n",
    "\n",
    "config['net'], config['sta'], config['loc'], config['cha'] = config['seed'].split(\".\")\n",
    "\n",
    "## ALLAN\n",
    "config['errorbars'] = False\n",
    "config['relative'] = False"
   ]
  },
  {
   "cell_type": "markdown",
   "metadata": {},
   "source": [
    "## Load Data"
   ]
  },
  {
   "cell_type": "code",
   "execution_count": null,
   "metadata": {
    "ExecuteTime": {
     "end_time": "2023-01-25T15:04:40.063824Z",
     "start_time": "2023-01-25T15:04:35.845465Z"
    }
   },
   "outputs": [],
   "source": [
    "st, inv = __querrySeismoData(    \n",
    "                            seed_id=config['seed'],\n",
    "                            starttime=config['tbeg']-10,\n",
    "                            endtime=config['tend']+10,\n",
    "                            repository=config['repository'],\n",
    "                            path=None,\n",
    "                            restitute=False,\n",
    "                            detail=None,\n",
    "                            fill_value=None,\n",
    ")"
   ]
  },
  {
   "cell_type": "code",
   "execution_count": null,
   "metadata": {
    "ExecuteTime": {
     "end_time": "2023-01-25T15:04:40.085529Z",
     "start_time": "2023-01-25T15:04:40.067008Z"
    }
   },
   "outputs": [],
   "source": [
    "st.detrend(\"demean\")\n",
    "\n",
    "st.remove_sensitivity(inv)\n",
    "\n",
    "# st.trim(config['tbeg'], config['tend'])"
   ]
  },
  {
   "cell_type": "code",
   "execution_count": null,
   "metadata": {
    "ExecuteTime": {
     "end_time": "2023-01-25T15:04:40.282145Z",
     "start_time": "2023-01-25T15:04:40.086639Z"
    }
   },
   "outputs": [],
   "source": [
    "st.plot();"
   ]
  },
  {
   "cell_type": "markdown",
   "metadata": {
    "ExecuteTime": {
     "end_time": "2023-01-24T17:44:16.243978Z",
     "start_time": "2023-01-24T17:44:16.241375Z"
    }
   },
   "source": [
    "## Compute Allan Dev"
   ]
  },
  {
   "cell_type": "code",
   "execution_count": null,
   "metadata": {
    "ExecuteTime": {
     "end_time": "2023-01-25T15:05:00.349370Z",
     "start_time": "2023-01-25T15:04:40.283673Z"
    },
    "code_folding": [
     0
    ]
   },
   "outputs": [],
   "source": [
    "def __compute_allan_deviations(config, st):\n",
    "    \n",
    "    ## set interval\n",
    "    inter = 3600*2\n",
    "    \n",
    "    ## sampling rate\n",
    "    df = st[0].stats.sampling_rate\n",
    "    \n",
    "    ## looping hourly\n",
    "    t1, t2 = config['tbeg'], config['tbeg']+inter\n",
    "    \n",
    "    allans,traces = [], []\n",
    "    nn = 0\n",
    "    while t2 <= config['tend']:\n",
    "        \n",
    "        print(str(nn).rjust(2,\"0\"),\": \", t1, t2)\n",
    "        tmp = st.copy().trim(t1, t2)\n",
    "        traces.append(tmp[0].data)\n",
    "        \n",
    "        ## normal allan deviation\n",
    "        ## allan = (taus1, adevs1, errors, ns) \n",
    "        allan = allantools.adev(tmp[0].data, \n",
    "                                data_type='freq', \n",
    "                                rate=df, \n",
    "                                taus='all', ## all, octave, decade\n",
    "                                )\n",
    "        allans.append(allan)\n",
    "        t1 += inter\n",
    "        t2 += inter\n",
    "        nn += 1\n",
    "        \n",
    "    return allans, traces\n",
    "\n",
    "allan, traces = __compute_allan_deviations(config, st)"
   ]
  },
  {
   "cell_type": "markdown",
   "metadata": {},
   "source": [
    "## Plotting"
   ]
  },
  {
   "cell_type": "code",
   "execution_count": null,
   "metadata": {
    "ExecuteTime": {
     "end_time": "2023-01-25T15:05:01.772503Z",
     "start_time": "2023-01-25T15:05:00.350436Z"
    },
    "code_folding": [
     0
    ]
   },
   "outputs": [],
   "source": [
    "def __makeplot_allan_deviation_overview(config, st, allan, traces):\n",
    "\n",
    "    from numpy import shape, linspace\n",
    "    \n",
    "    taus, adev, errors, ns = allan[0], allan[1], allan[2], allan[3]\n",
    "\n",
    "    day = st[0].stats.starttime.date\n",
    "    tt1 = str(st[0].stats.starttime.time)[:8]\n",
    "    tt2 = str(st[0].stats.endtime.time)[:8]  \n",
    "    \n",
    "    if config['relative']:\n",
    "        adev = adev / 7.3e-5\n",
    "        \n",
    "    ## -------------------------------------------\n",
    "    fig, ax = plt.subplots(1,2, figsize=(18,6))\n",
    "\n",
    "    plt.subplots_adjust(wspace=0.15)\n",
    "    \n",
    "    font = 14\n",
    "\n",
    "    cols = plt.cm.viridis(linspace(0,1,shape(traces)[0]+1))\n",
    "    cols = plt.cm.rainbow(linspace(0,1,shape(traces)[0]+1))\n",
    "    \n",
    "    ## ___________________________________\n",
    "    ## PLOT 1\n",
    "    \n",
    "    for n, al in enumerate(allan):\n",
    "        taus, adev, errors, ns = al[0], al[1], al[2], al[3]\n",
    "\n",
    "        ax[0].plot(taus, adev, color=cols[n], label=f\"{config['sta']}.{config['cha']}\")\n",
    "        \n",
    "        \n",
    "    if config['relative']:\n",
    "        ax[0].set_ylabel(r\"Allan Deviation  $\\Omega$/$\\Omega_E$\", fontsize=font)\n",
    "    else:\n",
    "        ax[0].set_ylabel(r\"Allan Deviation $\\sigma_{\\tau}$ [rad/s]\", fontsize=font)\n",
    "\n",
    "    ax[0].set_xlabel(r\"$\\tau$ [s]\", fontsize=font)\n",
    "    \n",
    "    ax[0].set_xscale('log')\n",
    "    ax[0].set_yscale('log')\n",
    "\n",
    "    ax[0].grid(True, which=\"both\", ls=\"--\")\n",
    "\n",
    "    ax[0].tick_params(labelsize=font-1)\n",
    "    \n",
    "#     ax[0].set_title(f\"Allan Deviation for {config['net']}.{config['cha']} on {day}  [{tt1}-{tt2}]\", fontsize=font+3)\n",
    "\n",
    "    \n",
    "    ## ___________________________________\n",
    "    ## PLOT 2\n",
    "    \n",
    "    norm_st_max = max(st[0].data)\n",
    "    timeaxis = linspace(0, 120, len(traces[0]))\n",
    "    \n",
    "    for m, tr in enumerate(traces):\n",
    "        \n",
    "        norm_tr_max = max(tr)\n",
    "        \n",
    "        ax[1].plot(timeaxis, tr/norm_st_max + m, color=cols[m])\n",
    "    \n",
    "    ax[1].set_yticks(linspace(0,11,shape(traces)[0]))\n",
    "    ax[1].set_yticklabels([str(int(tt)).rjust(2,\"0\")+\":00\" for tt in linspace(0,22,shape(traces)[0])])\n",
    "    \n",
    "    ax[1].set_ylim(-1, shape(traces)[0])\n",
    "    \n",
    "    ax[1].set_xlabel(\"Time [min]\", fontsize=font)\n",
    "    \n",
    "    ax[1].tick_params(labelsize=font-1)\n",
    "\n",
    "    plt.show();\n",
    "    return fig \n",
    "\n",
    "fig = __makeplot_allan_deviation_overview(config, st, allan, traces)"
   ]
  },
  {
   "cell_type": "code",
   "execution_count": null,
   "metadata": {
    "ExecuteTime": {
     "end_time": "2023-01-25T15:05:03.854187Z",
     "start_time": "2023-01-25T15:05:01.775352Z"
    }
   },
   "outputs": [],
   "source": [
    "__savefig(fig, outpath=config['outfigs'], outname=f\"AllanDev_{config['sta']}_{config['cha']}_{str(config['tbeg'].date).replace('-','')}\", mode=\"png\", dpi=300)"
   ]
  },
  {
   "cell_type": "code",
   "execution_count": null,
   "metadata": {
    "ExecuteTime": {
     "end_time": "2023-01-25T14:52:55.738998Z",
     "start_time": "2023-01-25T14:52:55.584498Z"
    }
   },
   "outputs": [],
   "source": []
  },
  {
   "cell_type": "code",
   "execution_count": null,
   "metadata": {},
   "outputs": [],
   "source": []
  }
 ],
 "metadata": {
  "kernelspec": {
   "display_name": "Python 3 (ipykernel)",
   "language": "python",
   "name": "python3"
  },
  "language_info": {
   "codemirror_mode": {
    "name": "ipython",
    "version": 3
   },
   "file_extension": ".py",
   "mimetype": "text/x-python",
   "name": "python",
   "nbconvert_exporter": "python",
   "pygments_lexer": "ipython3",
   "version": "3.9.16"
  },
  "latex_envs": {
   "LaTeX_envs_menu_present": true,
   "autoclose": true,
   "autocomplete": true,
   "bibliofile": "biblio.bib",
   "cite_by": "apalike",
   "current_citInitial": 1,
   "eqLabelWithNumbers": true,
   "eqNumInitial": 1,
   "hotkeys": {
    "equation": "Ctrl-E",
    "itemize": "Ctrl-I"
   },
   "labels_anchors": false,
   "latex_user_defs": false,
   "report_style_numbering": false,
   "user_envs_cfg": false
  },
  "toc": {
   "base_numbering": 1,
   "nav_menu": {},
   "number_sections": true,
   "sideBar": true,
   "skip_h1_title": false,
   "title_cell": "Table of Contents",
   "title_sidebar": "Contents",
   "toc_cell": false,
   "toc_position": {},
   "toc_section_display": true,
   "toc_window_display": false
  }
 },
 "nbformat": 4,
 "nbformat_minor": 4
}
