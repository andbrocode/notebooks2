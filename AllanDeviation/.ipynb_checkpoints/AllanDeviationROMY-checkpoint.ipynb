{
 "cells": [
  {
   "cell_type": "markdown",
   "metadata": {},
   "source": [
    "# Allan deviation of ROMY components"
   ]
  },
  {
   "cell_type": "markdown",
   "metadata": {},
   "source": [
    "### Import libraries"
   ]
  },
  {
   "cell_type": "code",
   "execution_count": 2,
   "metadata": {
    "ExecuteTime": {
     "end_time": "2023-06-09T08:23:47.176719Z",
     "start_time": "2023-06-09T08:23:47.169486Z"
    }
   },
   "outputs": [
    {
     "ename": "ModuleNotFoundError",
     "evalue": "No module named 'allantools'",
     "output_type": "error",
     "traceback": [
      "\u001b[0;31m---------------------------------------------------------------------------\u001b[0m",
      "\u001b[0;31mModuleNotFoundError\u001b[0m                       Traceback (most recent call last)",
      "\u001b[0;32m<ipython-input-2-59111d4f9f63>\u001b[0m in \u001b[0;36m<module>\u001b[0;34m\u001b[0m\n\u001b[1;32m      3\u001b[0m \u001b[0;32mimport\u001b[0m \u001b[0mmatplotlib\u001b[0m\u001b[0;34m\u001b[0m\u001b[0;34m\u001b[0m\u001b[0m\n\u001b[1;32m      4\u001b[0m \u001b[0;32mimport\u001b[0m \u001b[0mmatplotlib\u001b[0m\u001b[0;34m.\u001b[0m\u001b[0mpyplot\u001b[0m \u001b[0;32mas\u001b[0m \u001b[0mplt\u001b[0m\u001b[0;34m\u001b[0m\u001b[0;34m\u001b[0m\u001b[0m\n\u001b[0;32m----> 5\u001b[0;31m \u001b[0;32mimport\u001b[0m \u001b[0mallantools\u001b[0m \u001b[0;32mas\u001b[0m \u001b[0mal\u001b[0m\u001b[0;34m\u001b[0m\u001b[0;34m\u001b[0m\u001b[0m\n\u001b[0m\u001b[1;32m      6\u001b[0m \u001b[0;34m\u001b[0m\u001b[0m\n\u001b[1;32m      7\u001b[0m \u001b[0;32mfrom\u001b[0m \u001b[0mmatplotlib\u001b[0m\u001b[0;34m.\u001b[0m\u001b[0mpylab\u001b[0m \u001b[0;32mimport\u001b[0m \u001b[0;34m*\u001b[0m\u001b[0;34m\u001b[0m\u001b[0;34m\u001b[0m\u001b[0m\n",
      "\u001b[0;31mModuleNotFoundError\u001b[0m: No module named 'allantools'"
     ]
    }
   ],
   "source": [
    "import sys\n",
    "import numpy as np\n",
    "import matplotlib\n",
    "import matplotlib.pyplot as plt\n",
    "import allantools as al\n",
    "\n",
    "from matplotlib.pylab import *\n",
    "from matplotlib import rc, font_manager\n",
    "from obspy import *"
   ]
  },
  {
   "cell_type": "code",
   "execution_count": null,
   "metadata": {
    "ExecuteTime": {
     "end_time": "2023-06-09T08:23:14.117133Z",
     "start_time": "2023-06-09T08:23:13.663Z"
    }
   },
   "outputs": [],
   "source": [
    "if os.uname().nodename == 'lighthouse':\n",
    "    root_path = '/home/andbro/'\n",
    "    data_path = '/home/andbro/kilauea-data/'\n",
    "    archive_path = '/home/andbro/freenas/'\n",
    "elif os.uname().nodename == 'kilauea':\n",
    "    root_path = '/home/brotzer/'\n",
    "    data_path = '/import/kilauea-data/'\n",
    "    archive_path = '/import/freenas-ffb-01-data/'"
   ]
  },
  {
   "cell_type": "markdown",
   "metadata": {},
   "source": [
    "### Import data"
   ]
  },
  {
   "cell_type": "code",
   "execution_count": null,
   "metadata": {
    "ExecuteTime": {
     "end_time": "2023-06-09T08:23:14.117631Z",
     "start_time": "2023-06-09T08:23:13.665Z"
    }
   },
   "outputs": [],
   "source": [
    "path = '/home/andbro/Desktop/GJI/Figure08/data/'\n",
    "\n",
    "stROMY = read(f\"{path}data/romyADEV_BJ.mseed\")\n",
    "stROMYZ = read(f\"{path}data/romyADEV_BJZ.mseed\")"
   ]
  },
  {
   "cell_type": "markdown",
   "metadata": {},
   "source": [
    "Resample to 1 Hz and define tau axis"
   ]
  },
  {
   "cell_type": "code",
   "execution_count": null,
   "metadata": {
    "ExecuteTime": {
     "end_time": "2023-06-09T08:23:14.118212Z",
     "start_time": "2023-06-09T08:23:13.666Z"
    }
   },
   "outputs": [],
   "source": [
    "\n",
    "stROMYZ.resample(1.0)\n",
    "stROMY.resample(1.0)\n",
    "\n",
    "\n",
    "tau1 = 0\n",
    "tau2 = 4\n",
    "taus = np.logspace(tau1, tau2, 1000)"
   ]
  },
  {
   "cell_type": "markdown",
   "metadata": {},
   "source": [
    "### Calculation of Allan deviation"
   ]
  },
  {
   "cell_type": "code",
   "execution_count": null,
   "metadata": {
    "ExecuteTime": {
     "end_time": "2023-06-09T08:23:14.118783Z",
     "start_time": "2023-06-09T08:23:13.667Z"
    }
   },
   "outputs": [],
   "source": [
    "(tZ, adZ, ade, adn) = al.adev(stROMYZ[0].data, \n",
    "                              rate=stROMYZ[0].stats.sampling_rate, \n",
    "                              data_type=\"freq\", \n",
    "                              taus=taus\n",
    "                             )\n",
    "(tU, adU, ade, adn) = al.adev(stROMY.select(channel='BJU')[0].data, \n",
    "                              rate=stROMY[0].stats.sampling_rate, \n",
    "                              data_type=\"freq\", \n",
    "                              taus=taus\n",
    "                             )\n",
    "(tV, adV, ade, adn) = al.adev(stROMY.select(channel='BJV')[0].data, \n",
    "                              rate=stROMY[0].stats.sampling_rate, \n",
    "                              data_type=\"freq\", \n",
    "                              taus=taus\n",
    "                             )\n",
    "(tW, adW, ade, adn) = al.adev(stROMY.select(channel='BJW')[0].data, \n",
    "                              rate=stROMY[0].stats.sampling_rate, \n",
    "                              data_type=\"freq\", \n",
    "                              taus=taus\n",
    "                             )"
   ]
  },
  {
   "cell_type": "markdown",
   "metadata": {},
   "source": [
    "### Plotting"
   ]
  },
  {
   "cell_type": "code",
   "execution_count": null,
   "metadata": {
    "ExecuteTime": {
     "end_time": "2023-06-09T08:23:14.119328Z",
     "start_time": "2023-06-09T08:23:13.669Z"
    }
   },
   "outputs": [],
   "source": [
    "sizeOfFont = 16\n",
    "\n",
    "fontProperties = {'weight' : 'bold', 'size' : sizeOfFont}\n",
    "\n",
    "rc('font',**fontProperties)\n",
    "\n",
    "## colors\n",
    "c_a = (0,0,1)\n",
    "c_z = (0,0,0)\n",
    "c_v = (0,0,0)\n",
    "c_w = (0,0,0)\n",
    "c_u = (0,0,0)"
   ]
  },
  {
   "cell_type": "code",
   "execution_count": null,
   "metadata": {
    "ExecuteTime": {
     "end_time": "2023-06-09T08:23:14.119934Z",
     "start_time": "2023-06-09T08:23:13.670Z"
    }
   },
   "outputs": [],
   "source": [
    "\n",
    "fig = plt.figure(figsize=(6, 6))\n",
    "ax00 = plt.subplot2grid((1, 1), (0, 0))\n",
    "\n",
    "line_z, = ax00.loglog(tZ, adZ, color=c_z, linewidth=2, linestyle='-')\n",
    "line_v, = ax00.loglog(tV, adV, color=c_v, linewidth=2, linestyle='--')\n",
    "line_w, = ax00.loglog(tW, adW, color=c_w, linewidth=2, linestyle=':')\n",
    "line_u, = ax00.loglog(tU, adU, color=c_u, linewidth=2, linestyle='-.')\n",
    "\n",
    "ax00.set_ylim(1e-12, 1.5e-10)    \n",
    "ax00.set_xlim(1, 2e3)    \n",
    "\n",
    "ax00.grid(which='major', color='k', alpha=0.4, linestyle='-')\n",
    "ax00.grid(which='minor', color='k', alpha=0.2, linestyle='--')\n",
    "ax00.tick_params(axis='x', which='major', direction='in', top=True)\n",
    "ax00.tick_params(axis='x', which='minor', direction='in', top=True)\n",
    "ax00.tick_params(axis='y', which='major', direction='in', right=True)\n",
    "ax00.tick_params(axis='y', which='minor', direction='in', right=True)\n",
    "\n",
    "ax00.set_xlabel(r'$\\tau$ [s]')\n",
    "ax00.set_ylabel(r'$\\sigma(\\tau)$ [rad/s]')\n",
    "\n",
    "# legend\n",
    "lines = [line_z, line_v, line_w, line_u]\n",
    "labels = ['Z',  'V', 'W', 'U']\n",
    "    \n",
    "plt.legend(lines, labels,\n",
    "            loc=(0.1, 0.1),\n",
    "            bbox_transform=None,\n",
    "            frameon=True,\n",
    "            ncol = 1,\n",
    "          )\n",
    "\n",
    "\n",
    "\n",
    "plt.subplots_adjust(\n",
    "                    top=0.98,\n",
    "                    bottom=0.1,\n",
    "                    left=0.15,\n",
    "                    right=0.98,\n",
    "                    hspace=0.05,\n",
    "                    wspace=0.05,\n",
    ")\n",
    "\n",
    "plt.savefig(f'{path}adev_ROMY_single.png')\n",
    "\n",
    "plt.show()\n"
   ]
  },
  {
   "cell_type": "code",
   "execution_count": null,
   "metadata": {},
   "outputs": [],
   "source": []
  },
  {
   "cell_type": "code",
   "execution_count": null,
   "metadata": {},
   "outputs": [],
   "source": []
  }
 ],
 "metadata": {
  "kernelspec": {
   "display_name": "Python 3",
   "language": "python",
   "name": "python3"
  },
  "language_info": {
   "codemirror_mode": {
    "name": "ipython",
    "version": 3
   },
   "file_extension": ".py",
   "mimetype": "text/x-python",
   "name": "python",
   "nbconvert_exporter": "python",
   "pygments_lexer": "ipython3",
   "version": "3.7.7"
  },
  "toc": {
   "base_numbering": 1,
   "nav_menu": {},
   "number_sections": true,
   "sideBar": true,
   "skip_h1_title": false,
   "title_cell": "Table of Contents",
   "title_sidebar": "Contents",
   "toc_cell": false,
   "toc_position": {},
   "toc_section_display": true,
   "toc_window_display": false
  }
 },
 "nbformat": 4,
 "nbformat_minor": 4
}
