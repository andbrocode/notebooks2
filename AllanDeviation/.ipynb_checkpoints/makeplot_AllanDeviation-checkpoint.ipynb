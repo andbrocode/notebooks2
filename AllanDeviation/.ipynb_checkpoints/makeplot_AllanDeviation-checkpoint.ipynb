{
 "cells": [
  {
   "cell_type": "markdown",
   "metadata": {
    "ExecuteTime": {
     "end_time": "2023-01-24T17:39:08.177978Z",
     "start_time": "2023-01-24T17:39:08.174409Z"
    }
   },
   "source": [
    "## Make Allan Deviation Plot"
   ]
  },
  {
   "cell_type": "code",
   "execution_count": 1,
   "metadata": {
    "ExecuteTime": {
     "end_time": "2023-06-09T12:17:54.912809Z",
     "start_time": "2023-06-09T12:17:50.278990Z"
    }
   },
   "outputs": [],
   "source": [
    "import os\n",
    "import obspy as obs\n",
    "import matplotlib.pyplot as plt\n",
    "import numpy as np\n",
    "import allantools\n",
    "\n",
    "from andbro__querrySeismoData import __querrySeismoData"
   ]
  },
  {
   "cell_type": "code",
   "execution_count": 2,
   "metadata": {
    "ExecuteTime": {
     "end_time": "2023-06-09T12:17:54.916078Z",
     "start_time": "2023-06-09T12:17:54.913867Z"
    }
   },
   "outputs": [],
   "source": [
    "if os.uname().nodename == 'lighthouse':\n",
    "    root_path = '/home/andbro/'\n",
    "    data_path = '/home/andbro/kilauea-data/'\n",
    "    archive_path = '/home/andbro/freenas/'\n",
    "elif os.uname().nodename == 'kilauea':\n",
    "    root_path = '/home/brotzer/'\n",
    "    data_path = '/import/kilauea-data/'\n",
    "    archive_path = '/import/freenas-ffb-01-data/'"
   ]
  },
  {
   "cell_type": "markdown",
   "metadata": {},
   "source": [
    "## Configurations"
   ]
  },
  {
   "cell_type": "code",
   "execution_count": 14,
   "metadata": {
    "ExecuteTime": {
     "end_time": "2023-06-09T15:47:10.211523Z",
     "start_time": "2023-06-09T15:47:10.208013Z"
    }
   },
   "outputs": [],
   "source": [
    "## Configurations\n",
    "\n",
    "config = {}\n",
    "\n",
    "config['tbeg'] = obs.UTCDateTime(\"2023-06-05 17:00\")\n",
    "config['tend'] = obs.UTCDateTime(\"2023-06-06 00:00\")\n",
    "\n",
    "config['tbeg'] = obs.UTCDateTime(\"2023-06-08 00:00\")\n",
    "config['tend'] = obs.UTCDateTime(\"2023-06-08 11:00\")\n",
    "\n",
    "# config['tbeg'] = obs.UTCDateTime(\"2023-06-04 17:00\")\n",
    "# config['tend'] = obs.UTCDateTime(\"2023-06-04 20:30\")\n",
    "\n",
    "# config['seed'] = \"BW.ROMY..FJV\"\n",
    "config['seed'] = \"BW.ROMY.10.BJZ\"\n",
    "\n",
    "config['repository'] = \"archive\"\n",
    "\n",
    "config['output_figures'] = root_path+\"Documents/LMU_Docs/GRM2023/Poster/\"\n",
    "\n",
    "# config['outpath'] = f''\n",
    "# config['outfile'] = f''\n",
    "# config['outfigs'] = f''\n",
    "\n",
    "config['net'], config['sta'], config['loc'], config['cha'] = config['seed'].split(\".\")\n",
    "\n",
    "## ALLAN\n",
    "config['errorbars'] = False\n",
    "config['relative'] = True\n",
    "\n",
    "config['tau'] = 'all' ## all, octave, decade\n",
    "config['method'] = 'oadev' ## adev, oadev, mdev"
   ]
  },
  {
   "cell_type": "markdown",
   "metadata": {},
   "source": [
    "## Load Data"
   ]
  },
  {
   "cell_type": "code",
   "execution_count": 15,
   "metadata": {
    "ExecuteTime": {
     "end_time": "2023-06-09T15:47:13.160075Z",
     "start_time": "2023-06-09T15:47:13.158086Z"
    }
   },
   "outputs": [],
   "source": [
    "from andbro__read_sds import __read_sds"
   ]
  },
  {
   "cell_type": "code",
   "execution_count": 16,
   "metadata": {
    "ExecuteTime": {
     "end_time": "2023-06-09T15:47:47.756382Z",
     "start_time": "2023-06-09T15:47:14.208726Z"
    }
   },
   "outputs": [
    {
     "data": {
      "text/plain": [
       "1 Trace(s) in Stream:\n",
       "BW.DROMY..FJZ | 2023-06-08T00:00:00.000000Z - 2023-06-08T11:00:00.000000Z | 5000.0 Hz, 198000001 samples"
      ]
     },
     "execution_count": 16,
     "metadata": {},
     "output_type": "execute_result"
    }
   ],
   "source": [
    "st = __read_sds(archive_path+\"romy_archive\", \"BW.DROMY..FJZ\", config['tbeg'], config['tend'])\n",
    "\n",
    "for tr in st:\n",
    "    tr.data = tr.data*0.59604645e-6 # V / count  [0.59604645ug  from obsidian]\n",
    "    tr.data = tr.data/10182093.88\n",
    "st"
   ]
  },
  {
   "cell_type": "code",
   "execution_count": null,
   "metadata": {
    "ExecuteTime": {
     "end_time": "2023-06-09T12:14:39.011024Z",
     "start_time": "2023-06-09T12:14:38.858996Z"
    }
   },
   "outputs": [],
   "source": [
    "st, inv = __querrySeismoData(    \n",
    "                            seed_id=config['seed'],\n",
    "                            starttime=config['tbeg']-10,\n",
    "                            endtime=config['tend']+10,\n",
    "                            repository=config['repository'],\n",
    "                            path=None,\n",
    "                            restitute=False,\n",
    "                            detail=None,\n",
    "                            fill_value=None,\n",
    ")"
   ]
  },
  {
   "cell_type": "code",
   "execution_count": null,
   "metadata": {
    "ExecuteTime": {
     "end_time": "2023-06-09T12:14:40.007750Z",
     "start_time": "2023-06-09T12:14:40.002804Z"
    }
   },
   "outputs": [],
   "source": [
    "st.detrend(\"demean\")\n",
    "\n",
    "st.remove_sensitivity(inv)\n",
    "\n",
    "st.trim(config['tbeg'], config['tend'])"
   ]
  },
  {
   "cell_type": "code",
   "execution_count": 17,
   "metadata": {
    "ExecuteTime": {
     "end_time": "2023-06-09T15:47:48.349719Z",
     "start_time": "2023-06-09T15:47:47.757601Z"
    }
   },
   "outputs": [
    {
     "data": {
      "image/png": "[encoded data removed]",
      "text/plain": [
       "<Figure size 800x250 with 1 Axes>"
      ]
     },
     "metadata": {
      "needs_background": "light"
     },
     "output_type": "display_data"
    }
   ],
   "source": [
    "st.plot();"
   ]
  },
  {
   "cell_type": "markdown",
   "metadata": {
    "ExecuteTime": {
     "end_time": "2023-01-24T17:44:16.243978Z",
     "start_time": "2023-01-24T17:44:16.241375Z"
    }
   },
   "source": [
    "## Compute Allan Dev"
   ]
  },
  {
   "cell_type": "code",
   "execution_count": 18,
   "metadata": {
    "ExecuteTime": {
     "end_time": "2023-06-09T15:47:48.352883Z",
     "start_time": "2023-06-09T15:47:48.350791Z"
    }
   },
   "outputs": [],
   "source": [
    "## define tau range e.g. 5 (= 10⁵) and number of samples N\n",
    "upper = 6\n",
    "lower = -4\n",
    "N = 500\n",
    "\n",
    "## list of tau values in seconds\n",
    "taux = np.logspace(lower, upper, N)\n",
    "\n",
    "## smallest sampling in seconds\n",
    "dtaux = taux[1]-taux[0]\n",
    "\n",
    "## sampling rate\n",
    "df = st[0].stats.sampling_rate"
   ]
  },
  {
   "cell_type": "code",
   "execution_count": null,
   "metadata": {
    "ExecuteTime": {
     "start_time": "2023-06-09T15:47:19.847Z"
    }
   },
   "outputs": [],
   "source": [
    "## normal allan deviation\n",
    "## allan = (taus1, adevs1, errors, ns) \n",
    "\n",
    "if config['method'] == \"oadev\":\n",
    "    allan = allantools.oadev(st[0].data, \n",
    "                             data_type='freq', \n",
    "                             rate=df, \n",
    "                             taus=config['tau'],\n",
    "                             )    \n",
    "\n",
    "elif config['method'] == \"mdev\":\n",
    "    allan = allantools.mdev(st[0].data, \n",
    "                            data_type='freq', \n",
    "                            rate=df, \n",
    "                            taus=config['tau'],\n",
    "                            )    \n",
    "    \n",
    "elif config['method'] == \"adev\":\n",
    "    allan = allantools.adev(st[0].data, \n",
    "                            data_type='freq', \n",
    "                            rate=df, \n",
    "                            taus=config['tau'],\n",
    "                            )"
   ]
  },
  {
   "cell_type": "markdown",
   "metadata": {},
   "source": [
    "## Plotting"
   ]
  },
  {
   "cell_type": "code",
   "execution_count": null,
   "metadata": {
    "ExecuteTime": {
     "start_time": "2023-06-09T15:47:20.703Z"
    }
   },
   "outputs": [],
   "source": [
    "config['relative'] = False"
   ]
  },
  {
   "cell_type": "code",
   "execution_count": null,
   "metadata": {
    "ExecuteTime": {
     "start_time": "2023-06-09T15:47:20.975Z"
    },
    "code_folding": [
     0
    ]
   },
   "outputs": [],
   "source": [
    "def __makeplot_allan_deviation(config, st, allan):\n",
    "\n",
    "    taus, adev, errors, ns = allan[0], allan[1], allan[2], allan[3]\n",
    "\n",
    "    day = st[0].stats.starttime.date\n",
    "    tt1 = str(st[0].stats.starttime.time)[:8]\n",
    "    tt2 = str(st[0].stats.endtime.time)[:8]  \n",
    "    \n",
    "    if config['relative']:\n",
    "        adev = adev / 7.3e-5\n",
    "        \n",
    "    ## -------------------------------------------\n",
    "    fig, ax = plt.subplots(1,1, figsize=(12,8))\n",
    "\n",
    "    font = 14\n",
    "\n",
    "\n",
    "    if config['errorbars']:\n",
    "        ax.scatter(taus, adev, color='darkred', label=f\"{config['sta']}.{config['cha']}\", zorder=2)\n",
    "        ax.errorbar(taus, adev, yerr=allan[2], color='darkred', fmt='none', zorder=1)\n",
    "    else:\n",
    "        ax.plot(taus, adev, color='darkred', label=f\"{config['sta']}.{config['cha']}\")\n",
    "        \n",
    "\n",
    "    ax.set_title(f\"Allan Deviation for {config['net']}.{config['cha']} on {day}  [{tt1}-{tt2} UTC]\", fontsize=font+3)\n",
    "    ax.set_xlabel(r\"$\\tau$ [s]\", fontsize=font)\n",
    "    \n",
    "    if config['relative']:\n",
    "        ax.set_ylabel(r\"Allan Deviation  $\\Omega$/$\\Omega_E$\", fontsize=font)\n",
    "    else:\n",
    "        ax.set_ylabel(r\"Allan Deviation $\\sigma_{\\tau}$ [rad/s]\", fontsize=font)\n",
    "\n",
    "    ax.set_xscale('log')\n",
    "    ax.set_yscale('log')\n",
    "\n",
    "    ax.legend(fontsize=font-2)\n",
    "\n",
    "    ax.grid(True, which=\"both\", ls=\"--\")\n",
    "\n",
    "    ax.tick_params(labelsize=font-1)\n",
    "\n",
    "    plt.show();\n",
    "    \n",
    "__makeplot_allan_deviation(config, st, allan)"
   ]
  },
  {
   "cell_type": "code",
   "execution_count": null,
   "metadata": {
    "ExecuteTime": {
     "start_time": "2023-06-09T15:47:21.207Z"
    },
    "code_folding": [
     0
    ]
   },
   "outputs": [],
   "source": [
    "def __makeplot_allan_deviation2(config, st, allan):\n",
    "\n",
    "    taus, adev, errors, ns = allan[0], allan[1], allan[2], allan[3]\n",
    "\n",
    "    day = st[0].stats.starttime.date\n",
    "    tt1 = str(st[0].stats.starttime.time)[:8]\n",
    "    tt2 = str(st[0].stats.endtime.time)[:8]  \n",
    "    \n",
    "    if config['relative']:\n",
    "        adev = adev / 7.3e-5\n",
    "        \n",
    "    ## -------------------------------------------\n",
    "    fig = plt.figure(constrained_layout=False, figsize=(15,8))\n",
    "    \n",
    "    widths = [1]\n",
    "    heights = [1/5,4/5]\n",
    "    spec = fig.add_gridspec(ncols=1, nrows=2, width_ratios=widths, height_ratios=heights)\n",
    "    print(spec)\n",
    "    plt.subplots_adjust(hspace=0.15, wspace=0.02)\n",
    "\n",
    "    ax1 = fig.add_subplot(spec[0])\n",
    "    ax2 = fig.add_subplot(spec[1])\n",
    "    \n",
    "    font = 14\n",
    "\n",
    "    # --------------------\n",
    "    ax1.plot(st[0].times()/3600, st[0].data*1e9, 'k')\n",
    "\n",
    "    ax1.set_title(f\"Allan Deviation for {config['sta']} on {day}  [{tt1}-{tt2} UTC]\", fontsize=font+3)\n",
    "    ax1.set_xlabel(f\"Time (hours)\", fontsize=font, labelpad=-2)\n",
    "    ax1.set_ylabel(f\"$\\Omega$ (nrad/s)\", fontsize=font)\n",
    "    \n",
    "    # --------------------\n",
    "    if config['errorbars']:\n",
    "        ax2.scatter(taus, adev, color='darkred', label=f\"{config['sta']}.{config['cha']}\", zorder=2)\n",
    "        ax2.errorbar(taus, adev, yerr=allan[2], color='darkred', fmt='none', zorder=1)\n",
    "    else:\n",
    "        ax2.plot(taus, adev, color='darkred', label=f\"{config['sta']}.{config['cha']}\")\n",
    "        \n",
    "\n",
    "    ax2.set_xlabel(r\"$\\tau$ [s]\", fontsize=font)\n",
    "    \n",
    "    if config['relative']:\n",
    "        ax2.set_ylabel(r\"Allan Deviation  $\\Omega$/$\\Omega_E$\", fontsize=font)\n",
    "    else:\n",
    "        ax2.set_ylabel(r\"Allan Deviation $\\sigma_{\\tau}$ [rad/s]\", fontsize=font)\n",
    "\n",
    "    ax2.set_xscale('log')\n",
    "    ax2.set_yscale('log')\n",
    "\n",
    "    ax2.legend(fontsize=font-2)\n",
    "\n",
    "    ax2.grid(True, which=\"both\", ls=\"--\")\n",
    "\n",
    "    ax2.tick_params(labelsize=font-1)\n",
    "\n",
    "    plt.show();\n",
    "    return fig\n",
    "\n",
    "fig = __makeplot_allan_deviation2(config, st, allan)"
   ]
  },
  {
   "cell_type": "code",
   "execution_count": null,
   "metadata": {
    "ExecuteTime": {
     "start_time": "2023-06-09T15:47:22.174Z"
    }
   },
   "outputs": [],
   "source": [
    "from andbro__savefig import __savefig\n",
    "# __savefig(fig, outpath=config['output_figures'], outname=\"RZ_allan_20230608_raw\", mode=\"png\", dpi=200)"
   ]
  },
  {
   "cell_type": "code",
   "execution_count": null,
   "metadata": {},
   "outputs": [],
   "source": []
  },
  {
   "cell_type": "code",
   "execution_count": null,
   "metadata": {},
   "outputs": [],
   "source": []
  }
 ],
 "metadata": {
  "kernelspec": {
   "display_name": "Python 3",
   "language": "python",
   "name": "python3"
  },
  "language_info": {
   "codemirror_mode": {
    "name": "ipython",
    "version": 3
   },
   "file_extension": ".py",
   "mimetype": "text/x-python",
   "name": "python",
   "nbconvert_exporter": "python",
   "pygments_lexer": "ipython3",
   "version": "3.7.7"
  },
  "latex_envs": {
   "LaTeX_envs_menu_present": true,
   "autoclose": true,
   "autocomplete": true,
   "bibliofile": "biblio.bib",
   "cite_by": "apalike",
   "current_citInitial": 1,
   "eqLabelWithNumbers": true,
   "eqNumInitial": 1,
   "hotkeys": {
    "equation": "Ctrl-E",
    "itemize": "Ctrl-I"
   },
   "labels_anchors": false,
   "latex_user_defs": false,
   "report_style_numbering": false,
   "user_envs_cfg": false
  },
  "toc": {
   "base_numbering": 1,
   "nav_menu": {},
   "number_sections": true,
   "sideBar": true,
   "skip_h1_title": false,
   "title_cell": "Table of Contents",
   "title_sidebar": "Contents",
   "toc_cell": false,
   "toc_position": {},
   "toc_section_display": true,
   "toc_window_display": false
  }
 },
 "nbformat": 4,
 "nbformat_minor": 4
}
