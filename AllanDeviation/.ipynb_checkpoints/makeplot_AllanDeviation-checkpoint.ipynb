{
 "cells": [
  {
   "cell_type": "markdown",
   "metadata": {
    "ExecuteTime": {
     "end_time": "2023-01-24T17:39:08.177978Z",
     "start_time": "2023-01-24T17:39:08.174409Z"
    }
   },
   "source": [
    "## Make Allan Deviation Plot"
   ]
  },
  {
   "cell_type": "code",
   "execution_count": 1,
   "metadata": {
    "ExecuteTime": {
     "end_time": "2023-01-24T17:54:40.578668Z",
     "start_time": "2023-01-24T17:54:39.982638Z"
    }
   },
   "outputs": [],
   "source": [
    "import obspy as obs\n",
    "import matplotlib.pyplot as plt\n",
    "import numpy as np\n",
    "import allantools\n",
    "\n",
    "from andbro__querrySeismoData import __querrySeismoData"
   ]
  },
  {
   "cell_type": "markdown",
   "metadata": {},
   "source": [
    "## Configurations"
   ]
  },
  {
   "cell_type": "code",
   "execution_count": 109,
   "metadata": {
    "ExecuteTime": {
     "end_time": "2023-01-24T18:20:26.237781Z",
     "start_time": "2023-01-24T18:20:26.229876Z"
    }
   },
   "outputs": [],
   "source": [
    "## Configurations\n",
    "\n",
    "config = {}\n",
    "\n",
    "config['tbeg'] = obs.UTCDateTime(\"2023-01-20 03:00\")\n",
    "config['tend'] = obs.UTCDateTime(\"2023-01-20 07:00\")\n",
    "\n",
    "config['seed'] = \"BW.DROMY..FJZ\"\n",
    "# config['seed'] = \"BW.ROMY.10.BJZ\"\n",
    "\n",
    "config['repository'] = \"george\"\n",
    "\n",
    "config['outpath'] = f''\n",
    "config['outfile'] = f''\n",
    "\n",
    "config['outfigs'] = f''\n",
    "\n",
    "config['net'], config['sta'], config['loc'], config['cha'] = config['seed'].split(\".\")\n",
    "\n",
    "## ALLAN\n",
    "config['errorbars'] = False"
   ]
  },
  {
   "cell_type": "markdown",
   "metadata": {},
   "source": [
    "## Load Data"
   ]
  },
  {
   "cell_type": "code",
   "execution_count": 110,
   "metadata": {
    "ExecuteTime": {
     "end_time": "2023-01-24T18:22:20.754968Z",
     "start_time": "2023-01-24T18:20:27.327299Z"
    }
   },
   "outputs": [],
   "source": [
    "st, inv = __querrySeismoData(    \n",
    "                            seed_id=config['seed'],\n",
    "                            starttime=config['tbeg'],\n",
    "                            endtime=config['tend'],\n",
    "                            repository=config['repository'],\n",
    "                            path=None,\n",
    "                            restitute=False,\n",
    "                            detail=None,\n",
    "                            fill_value=None,\n",
    ")"
   ]
  },
  {
   "cell_type": "code",
   "execution_count": 111,
   "metadata": {
    "ExecuteTime": {
     "end_time": "2023-01-24T18:22:21.172388Z",
     "start_time": "2023-01-24T18:22:20.757625Z"
    }
   },
   "outputs": [
    {
     "ename": "ValueError",
     "evalue": "No matching response information found.",
     "output_type": "error",
     "traceback": [
      "\u001b[0;31m---------------------------------------------------------------------------\u001b[0m",
      "\u001b[0;31mValueError\u001b[0m                                Traceback (most recent call last)",
      "\u001b[0;32m<ipython-input-111-1003971903d9>\u001b[0m in \u001b[0;36m<module>\u001b[0;34m\u001b[0m\n\u001b[1;32m      1\u001b[0m \u001b[0mst\u001b[0m\u001b[0;34m.\u001b[0m\u001b[0mdetrend\u001b[0m\u001b[0;34m(\u001b[0m\u001b[0;34m\"demean\"\u001b[0m\u001b[0;34m)\u001b[0m\u001b[0;34m\u001b[0m\u001b[0;34m\u001b[0m\u001b[0m\n\u001b[1;32m      2\u001b[0m \u001b[0;34m\u001b[0m\u001b[0m\n\u001b[0;32m----> 3\u001b[0;31m \u001b[0mst\u001b[0m\u001b[0;34m.\u001b[0m\u001b[0mremove_sensitivity\u001b[0m\u001b[0;34m(\u001b[0m\u001b[0minv\u001b[0m\u001b[0;34m)\u001b[0m\u001b[0;34m\u001b[0m\u001b[0;34m\u001b[0m\u001b[0m\n\u001b[0m",
      "\u001b[0;32m~/anaconda3/envs/obs/lib/python3.7/site-packages/obspy/core/stream.py\u001b[0m in \u001b[0;36mremove_sensitivity\u001b[0;34m(self, *args, **kwargs)\u001b[0m\n\u001b[1;32m   3178\u001b[0m         \"\"\"\n\u001b[1;32m   3179\u001b[0m         \u001b[0;32mfor\u001b[0m \u001b[0mtr\u001b[0m \u001b[0;32min\u001b[0m \u001b[0mself\u001b[0m\u001b[0;34m:\u001b[0m\u001b[0;34m\u001b[0m\u001b[0;34m\u001b[0m\u001b[0m\n\u001b[0;32m-> 3180\u001b[0;31m             \u001b[0mtr\u001b[0m\u001b[0;34m.\u001b[0m\u001b[0mremove_sensitivity\u001b[0m\u001b[0;34m(\u001b[0m\u001b[0;34m*\u001b[0m\u001b[0margs\u001b[0m\u001b[0;34m,\u001b[0m \u001b[0;34m**\u001b[0m\u001b[0mkwargs\u001b[0m\u001b[0;34m)\u001b[0m\u001b[0;34m\u001b[0m\u001b[0;34m\u001b[0m\u001b[0m\n\u001b[0m\u001b[1;32m   3181\u001b[0m         \u001b[0;32mreturn\u001b[0m \u001b[0mself\u001b[0m\u001b[0;34m\u001b[0m\u001b[0;34m\u001b[0m\u001b[0m\n\u001b[1;32m   3182\u001b[0m \u001b[0;34m\u001b[0m\u001b[0m\n",
      "\u001b[0;32m~/anaconda3/envs/obs/lib/python3.7/site-packages/decorator.py\u001b[0m in \u001b[0;36mfun\u001b[0;34m(*args, **kw)\u001b[0m\n\u001b[1;32m    230\u001b[0m             \u001b[0;32mif\u001b[0m \u001b[0;32mnot\u001b[0m \u001b[0mkwsyntax\u001b[0m\u001b[0;34m:\u001b[0m\u001b[0;34m\u001b[0m\u001b[0;34m\u001b[0m\u001b[0m\n\u001b[1;32m    231\u001b[0m                 \u001b[0margs\u001b[0m\u001b[0;34m,\u001b[0m \u001b[0mkw\u001b[0m \u001b[0;34m=\u001b[0m \u001b[0mfix\u001b[0m\u001b[0;34m(\u001b[0m\u001b[0margs\u001b[0m\u001b[0;34m,\u001b[0m \u001b[0mkw\u001b[0m\u001b[0;34m,\u001b[0m \u001b[0msig\u001b[0m\u001b[0;34m)\u001b[0m\u001b[0;34m\u001b[0m\u001b[0;34m\u001b[0m\u001b[0m\n\u001b[0;32m--> 232\u001b[0;31m             \u001b[0;32mreturn\u001b[0m \u001b[0mcaller\u001b[0m\u001b[0;34m(\u001b[0m\u001b[0mfunc\u001b[0m\u001b[0;34m,\u001b[0m \u001b[0;34m*\u001b[0m\u001b[0;34m(\u001b[0m\u001b[0mextras\u001b[0m \u001b[0;34m+\u001b[0m \u001b[0margs\u001b[0m\u001b[0;34m)\u001b[0m\u001b[0;34m,\u001b[0m \u001b[0;34m**\u001b[0m\u001b[0mkw\u001b[0m\u001b[0;34m)\u001b[0m\u001b[0;34m\u001b[0m\u001b[0;34m\u001b[0m\u001b[0m\n\u001b[0m\u001b[1;32m    233\u001b[0m     \u001b[0mfun\u001b[0m\u001b[0;34m.\u001b[0m\u001b[0m__name__\u001b[0m \u001b[0;34m=\u001b[0m \u001b[0mfunc\u001b[0m\u001b[0;34m.\u001b[0m\u001b[0m__name__\u001b[0m\u001b[0;34m\u001b[0m\u001b[0;34m\u001b[0m\u001b[0m\n\u001b[1;32m    234\u001b[0m     \u001b[0mfun\u001b[0m\u001b[0;34m.\u001b[0m\u001b[0m__doc__\u001b[0m \u001b[0;34m=\u001b[0m \u001b[0mfunc\u001b[0m\u001b[0;34m.\u001b[0m\u001b[0m__doc__\u001b[0m\u001b[0;34m\u001b[0m\u001b[0;34m\u001b[0m\u001b[0m\n",
      "\u001b[0;32m~/anaconda3/envs/obs/lib/python3.7/site-packages/obspy/core/trace.py\u001b[0m in \u001b[0;36m_add_processing_info\u001b[0;34m(func, *args, **kwargs)\u001b[0m\n\u001b[1;32m    271\u001b[0m     \u001b[0minfo\u001b[0m \u001b[0;34m=\u001b[0m \u001b[0minfo\u001b[0m \u001b[0;34m%\u001b[0m \u001b[0;34m\"::\"\u001b[0m\u001b[0;34m.\u001b[0m\u001b[0mjoin\u001b[0m\u001b[0;34m(\u001b[0m\u001b[0marguments\u001b[0m\u001b[0;34m)\u001b[0m\u001b[0;34m\u001b[0m\u001b[0;34m\u001b[0m\u001b[0m\n\u001b[1;32m    272\u001b[0m     \u001b[0mself\u001b[0m \u001b[0;34m=\u001b[0m \u001b[0margs\u001b[0m\u001b[0;34m[\u001b[0m\u001b[0;36m0\u001b[0m\u001b[0;34m]\u001b[0m\u001b[0;34m\u001b[0m\u001b[0;34m\u001b[0m\u001b[0m\n\u001b[0;32m--> 273\u001b[0;31m     \u001b[0mresult\u001b[0m \u001b[0;34m=\u001b[0m \u001b[0mfunc\u001b[0m\u001b[0;34m(\u001b[0m\u001b[0;34m*\u001b[0m\u001b[0margs\u001b[0m\u001b[0;34m,\u001b[0m \u001b[0;34m**\u001b[0m\u001b[0mkwargs\u001b[0m\u001b[0;34m)\u001b[0m\u001b[0;34m\u001b[0m\u001b[0;34m\u001b[0m\u001b[0m\n\u001b[0m\u001b[1;32m    274\u001b[0m     \u001b[0;31m# Attach after executing the function to avoid having it attached\u001b[0m\u001b[0;34m\u001b[0m\u001b[0;34m\u001b[0m\u001b[0;34m\u001b[0m\u001b[0m\n\u001b[1;32m    275\u001b[0m     \u001b[0;31m# while the operation failed.\u001b[0m\u001b[0;34m\u001b[0m\u001b[0;34m\u001b[0m\u001b[0;34m\u001b[0m\u001b[0m\n",
      "\u001b[0;32m~/anaconda3/envs/obs/lib/python3.7/site-packages/obspy/core/trace.py\u001b[0m in \u001b[0;36mremove_sensitivity\u001b[0;34m(self, inventory)\u001b[0m\n\u001b[1;32m   2961\u001b[0m         \u001b[0;34m<\u001b[0m\u001b[0;34m...\u001b[0m\u001b[0mTrace\u001b[0m \u001b[0mobject\u001b[0m \u001b[0mat\u001b[0m \u001b[0;36m0\u001b[0m\u001b[0mx\u001b[0m\u001b[0;34m...\u001b[0m\u001b[0;34m>\u001b[0m\u001b[0;34m\u001b[0m\u001b[0;34m\u001b[0m\u001b[0m\n\u001b[1;32m   2962\u001b[0m         \"\"\"\n\u001b[0;32m-> 2963\u001b[0;31m         \u001b[0mresponse\u001b[0m \u001b[0;34m=\u001b[0m \u001b[0mself\u001b[0m\u001b[0;34m.\u001b[0m\u001b[0m_get_response\u001b[0m\u001b[0;34m(\u001b[0m\u001b[0minventory\u001b[0m\u001b[0;34m)\u001b[0m\u001b[0;34m\u001b[0m\u001b[0;34m\u001b[0m\u001b[0m\n\u001b[0m\u001b[1;32m   2964\u001b[0m         \u001b[0mself\u001b[0m\u001b[0;34m.\u001b[0m\u001b[0mdata\u001b[0m \u001b[0;34m=\u001b[0m \u001b[0mself\u001b[0m\u001b[0;34m.\u001b[0m\u001b[0mdata\u001b[0m \u001b[0;34m/\u001b[0m \u001b[0mresponse\u001b[0m\u001b[0;34m.\u001b[0m\u001b[0minstrument_sensitivity\u001b[0m\u001b[0;34m.\u001b[0m\u001b[0mvalue\u001b[0m\u001b[0;34m\u001b[0m\u001b[0;34m\u001b[0m\u001b[0m\n\u001b[1;32m   2965\u001b[0m         \u001b[0;32mreturn\u001b[0m \u001b[0mself\u001b[0m\u001b[0;34m\u001b[0m\u001b[0;34m\u001b[0m\u001b[0m\n",
      "\u001b[0;32m~/anaconda3/envs/obs/lib/python3.7/site-packages/obspy/core/trace.py\u001b[0m in \u001b[0;36m_get_response\u001b[0;34m(self, inventories)\u001b[0m\n\u001b[1;32m   2610\u001b[0m         \u001b[0;32melif\u001b[0m \u001b[0mlen\u001b[0m\u001b[0;34m(\u001b[0m\u001b[0mresponses\u001b[0m\u001b[0;34m)\u001b[0m \u001b[0;34m<\u001b[0m \u001b[0;36m1\u001b[0m\u001b[0;34m:\u001b[0m\u001b[0;34m\u001b[0m\u001b[0;34m\u001b[0m\u001b[0m\n\u001b[1;32m   2611\u001b[0m             \u001b[0mmsg\u001b[0m \u001b[0;34m=\u001b[0m \u001b[0;34m\"No matching response information found.\"\u001b[0m\u001b[0;34m\u001b[0m\u001b[0;34m\u001b[0m\u001b[0m\n\u001b[0;32m-> 2612\u001b[0;31m             \u001b[0;32mraise\u001b[0m \u001b[0mValueError\u001b[0m\u001b[0;34m(\u001b[0m\u001b[0mmsg\u001b[0m\u001b[0;34m)\u001b[0m\u001b[0;34m\u001b[0m\u001b[0;34m\u001b[0m\u001b[0m\n\u001b[0m\u001b[1;32m   2613\u001b[0m         \u001b[0;32mreturn\u001b[0m \u001b[0mresponses\u001b[0m\u001b[0;34m[\u001b[0m\u001b[0;36m0\u001b[0m\u001b[0;34m]\u001b[0m\u001b[0;34m\u001b[0m\u001b[0;34m\u001b[0m\u001b[0m\n\u001b[1;32m   2614\u001b[0m \u001b[0;34m\u001b[0m\u001b[0m\n",
      "\u001b[0;31mValueError\u001b[0m: No matching response information found."
     ]
    }
   ],
   "source": [
    "st.detrend(\"demean\")\n",
    "\n",
    "st.remove_sensitivity(inv)"
   ]
  },
  {
   "cell_type": "code",
   "execution_count": null,
   "metadata": {
    "ExecuteTime": {
     "end_time": "2023-01-24T18:22:21.174046Z",
     "start_time": "2023-01-24T18:20:27.626Z"
    }
   },
   "outputs": [],
   "source": [
    "st.plot();"
   ]
  },
  {
   "cell_type": "markdown",
   "metadata": {
    "ExecuteTime": {
     "end_time": "2023-01-24T17:44:16.243978Z",
     "start_time": "2023-01-24T17:44:16.241375Z"
    }
   },
   "source": [
    "## Compute Allan Dev"
   ]
  },
  {
   "cell_type": "code",
   "execution_count": null,
   "metadata": {
    "ExecuteTime": {
     "end_time": "2023-01-24T18:22:21.174834Z",
     "start_time": "2023-01-24T18:20:28.643Z"
    }
   },
   "outputs": [],
   "source": [
    "## define tau range e.g. 5 (= 10⁵) and number of samples N\n",
    "upper = 6\n",
    "lower = -4\n",
    "N = 200\n",
    "\n",
    "## list of tau values in seconds\n",
    "taux = np.logspace(lower, upper, N)\n",
    "\n",
    "## smallest sampling in seconds\n",
    "dtaux = taux[1]-taux[0]\n",
    "\n",
    "## sampling rate\n",
    "df = st[0].stats.sampling_rate"
   ]
  },
  {
   "cell_type": "code",
   "execution_count": null,
   "metadata": {
    "ExecuteTime": {
     "end_time": "2023-01-24T18:22:21.175677Z",
     "start_time": "2023-01-24T18:20:28.808Z"
    }
   },
   "outputs": [],
   "source": [
    "## normal allan deviation\n",
    "## allan = (taus1, adevs1, errors, ns) \n",
    "allan = allantools.adev(st[0].data, \n",
    "                        data_type='freq', \n",
    "                        rate=df, \n",
    "                        taus='all', ## all, octave, decade\n",
    "                        )"
   ]
  },
  {
   "cell_type": "markdown",
   "metadata": {},
   "source": [
    "## Plotting"
   ]
  },
  {
   "cell_type": "code",
   "execution_count": null,
   "metadata": {
    "ExecuteTime": {
     "end_time": "2023-01-24T18:22:21.176676Z",
     "start_time": "2023-01-24T18:20:29.098Z"
    },
    "code_folding": [
     0
    ]
   },
   "outputs": [],
   "source": [
    "def __makeplot_allan_deviation(config, st, allan):\n",
    "\n",
    "    taus, adev, errors, ns = allan[0], allan[1], allan[2], allan[3]\n",
    "\n",
    "    day = st[0].stats.starttime.date\n",
    "    tt1 = str(st[0].stats.starttime.time)[:8]\n",
    "    tt2 = str(st[0].stats.endtime.time)[:8]  \n",
    "    \n",
    "    \n",
    "    ## -------------------------------------------\n",
    "    fig, ax = plt.subplots(1,1, figsize=(12,8))\n",
    "\n",
    "    font = 14\n",
    "\n",
    "\n",
    "    if config['errorbars']:\n",
    "        ax.scatter(taus, adev, color='darkred', label=f\"{config['sta']}.{config['cha']}\", zorder=2)\n",
    "        ax.errorbar(taus, adev, yerr=allan[2], color='darkred', fmt='none', zorder=1)\n",
    "    else:\n",
    "        ax.plot(taus, adev, color='darkred', label=f\"{config['sta']}.{config['cha']}\")\n",
    "        \n",
    "\n",
    "    ax.set_title(f\"Allan Deviation for {config['net']}.{config['cha']} on {day}  [{tt1}-{tt2}]\", fontsize=font+3)\n",
    "    ax.set_xlabel(r\"$\\tau$ [s]\", fontsize=font)\n",
    "    ax.set_ylabel(r\"Allan Deviation $\\sigma$ ($\\tau$) [rad/s]\", fontsize=font)\n",
    "\n",
    "    ax.set_xscale('log')\n",
    "    ax.set_yscale('log')\n",
    "\n",
    "    ax.legend(fontsize=font-2)\n",
    "\n",
    "    ax.grid(True, which=\"both\", ls=\"--\")\n",
    "\n",
    "    ax.tick_params(labelsize=font-1)\n",
    "\n",
    "    plt.show();\n",
    "    \n",
    "__makeplot_allan_deviation(config, st, allan)"
   ]
  },
  {
   "cell_type": "code",
   "execution_count": null,
   "metadata": {},
   "outputs": [],
   "source": []
  },
  {
   "cell_type": "code",
   "execution_count": null,
   "metadata": {},
   "outputs": [],
   "source": []
  }
 ],
 "metadata": {
  "kernelspec": {
   "display_name": "Python 3",
   "language": "python",
   "name": "python3"
  },
  "language_info": {
   "codemirror_mode": {
    "name": "ipython",
    "version": 3
   },
   "file_extension": ".py",
   "mimetype": "text/x-python",
   "name": "python",
   "nbconvert_exporter": "python",
   "pygments_lexer": "ipython3",
   "version": "3.7.8"
  },
  "latex_envs": {
   "LaTeX_envs_menu_present": true,
   "autoclose": true,
   "autocomplete": true,
   "bibliofile": "biblio.bib",
   "cite_by": "apalike",
   "current_citInitial": 1,
   "eqLabelWithNumbers": true,
   "eqNumInitial": 1,
   "hotkeys": {
    "equation": "Ctrl-E",
    "itemize": "Ctrl-I"
   },
   "labels_anchors": false,
   "latex_user_defs": false,
   "report_style_numbering": false,
   "user_envs_cfg": false
  },
  "toc": {
   "base_numbering": 1,
   "nav_menu": {},
   "number_sections": true,
   "sideBar": true,
   "skip_h1_title": false,
   "title_cell": "Table of Contents",
   "title_sidebar": "Contents",
   "toc_cell": false,
   "toc_position": {},
   "toc_section_display": true,
   "toc_window_display": false
  }
 },
 "nbformat": 4,
 "nbformat_minor": 4
}
