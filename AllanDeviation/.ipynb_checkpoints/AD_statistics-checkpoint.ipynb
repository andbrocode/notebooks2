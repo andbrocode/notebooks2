{
 "cells": [
  {
   "cell_type": "markdown",
   "metadata": {
    "ExecuteTime": {
     "end_time": "2023-01-24T17:39:08.177978Z",
     "start_time": "2023-01-24T17:39:08.174409Z"
    }
   },
   "source": [
    "## Allan Deviation - Statistics"
   ]
  },
  {
   "cell_type": "code",
   "execution_count": 1,
   "metadata": {
    "ExecuteTime": {
     "end_time": "2023-08-01T11:53:09.607032Z",
     "start_time": "2023-08-01T11:53:08.671283Z"
    },
    "tags": []
   },
   "outputs": [],
   "source": [
    "import os\n",
    "import obspy as obs\n",
    "import matplotlib.pyplot as plt\n",
    "import numpy as np\n",
    "import allantools\n",
    "\n",
    "from andbro__querrySeismoData import __querrySeismoData\n",
    "from andbro__read_sds import __read_sds"
   ]
  },
  {
   "cell_type": "code",
   "execution_count": 2,
   "metadata": {
    "ExecuteTime": {
     "end_time": "2023-08-01T11:53:11.123983Z",
     "start_time": "2023-08-01T11:53:11.118454Z"
    },
    "tags": []
   },
   "outputs": [],
   "source": [
    "if os.uname().nodename == 'lighthouse':\n",
    "    root_path = '/home/andbro/'\n",
    "    data_path = '/home/andbro/kilauea-data/'\n",
    "    archive_path = '/home/andbro/freenas/'\n",
    "elif os.uname().nodename == 'kilauea':\n",
    "    root_path = '/home/brotzer/'\n",
    "    data_path = '/import/kilauea-data/'\n",
    "    archive_path = '/import/freenas-ffb-01-data/'"
   ]
  },
  {
   "cell_type": "markdown",
   "metadata": {},
   "source": [
    "## Configurations"
   ]
  },
  {
   "cell_type": "code",
   "execution_count": null,
   "metadata": {},
   "outputs": [],
   "source": []
  },
  {
   "cell_type": "code",
   "execution_count": 3,
   "metadata": {
    "ExecuteTime": {
     "end_time": "2023-08-01T11:53:12.012756Z",
     "start_time": "2023-08-01T11:53:12.001974Z"
    },
    "tags": []
   },
   "outputs": [],
   "source": [
    "## Configuration\n",
    "config = {}\n",
    "\n",
    "## specify data type\n",
    "config['datatype'] = \"rotation_rate\" ## raw | rotation_rate | beat\n",
    "\n",
    "## specify time series interval\n",
    "config['tbeg'] = obs.UTCDateTime(\"2024-01-13 00:00\")\n",
    "config['tend'] = obs.UTCDateTime(\"2024-01-17 00:00\")\n",
    "\n",
    "config['seed'] = \"BW.ROMY.10.BJZ\"\n",
    "# config['seed'] = \"BW.ROMY..BJU\"\n",
    "# config['seed'] = \"BW.ROMY..BJV\"\n",
    "\n",
    "config['repository'] = \"archive\"\n",
    "\n",
    "config['path_to_figures'] = data_path+\"allan_deviation/figures/\"\n",
    "\n",
    "config['path_to_data_out'] = data_path+\"allan_deviation/data/\"\n",
    "\n",
    "config['net'], config['sta'], config['loc'], config['cha'] = config['seed'].split(\".\")\n",
    "\n",
    "## path to Sagnac data\n",
    "config['path_to_autodata'] = archive_path+f\"romy_autodata/\"\n",
    "\n",
    "config['path_to_sds'] = archive_path+\"romy_archive/\"\n",
    "\n",
    "config['sagnac_rings'] = {\"Z\":553.5, \"U\":303.05, \"V\":447, \"W\":447}\n",
    "config['nominal_sagnac'] = config['sagnac_rings'][config['seed'][-1]]\n",
    "\n",
    "## ALLAN\n",
    "\n",
    "## show error bars\n",
    "config['errorbars'] = False\n",
    "\n",
    "## plot rotation rate relative to 2pi/86400\n",
    "config['relative'] = False\n",
    "\n",
    "## tau intervale\n",
    "config['tau'] = 'all' ## all, octave, decade\n",
    "\n",
    "## type of allan deviation\n",
    "config['method'] = 'adev' ## adev, oadev, mdev\n",
    "\n",
    "## phase or frequency\n",
    "config['intype'] = \"freq\""
   ]
  },
  {
   "cell_type": "code",
   "execution_count": 4,
   "metadata": {
    "ExecuteTime": {
     "end_time": "2023-08-01T12:03:47.996876Z",
     "start_time": "2023-08-01T12:03:47.993649Z"
    },
    "tags": []
   },
   "outputs": [],
   "source": [
    "from functions.load_beat_data import __load_beat_data\n",
    "from functions.get_time_intervals import __get_time_intervals\n",
    "from functions.get_median import __get_median\n",
    "from functions.get_minimum import __get_minimum\n",
    "from functions.get_percentiles import __get_percentiles\n",
    "from functions.load_mlti import __load_mlti\n",
    "# from functions.get_mlti_intervals import __get_mlti_intervals\n",
    "# from functions.mlti_intervals_to_NaN import __mlti_intervals_to_NaN\n"
   ]
  },
  {
   "cell_type": "markdown",
   "metadata": {},
   "source": [
    "## Load Data"
   ]
  },
  {
   "cell_type": "markdown",
   "metadata": {
    "ExecuteTime": {
     "end_time": "2023-06-21T09:04:14.269030Z",
     "start_time": "2023-06-21T09:04:14.261866Z"
    }
   },
   "source": [
    "### import raw sagnac data"
   ]
  },
  {
   "cell_type": "code",
   "execution_count": 5,
   "metadata": {
    "ExecuteTime": {
     "start_time": "2023-08-01T11:51:59.613Z"
    },
    "tags": []
   },
   "outputs": [],
   "source": [
    "if config['datatype'] == \"raw\":\n",
    "\n",
    "    st = __read_sds(archive_path+\"romy_archive\", \"BW.DROMY..FJZ\", config['tbeg'], config['tend'])\n",
    "\n",
    "    for tr in st:\n",
    "        tr.data = tr.data*0.59604645e-6 # V / count  [0.59604645ug  from obsidian]\n",
    "\n",
    "        ## convert from Hz to rad/s with scale factor\n",
    "        # tr.data = tr.data/10182093.88\n",
    "\n",
    "    st"
   ]
  },
  {
   "cell_type": "markdown",
   "metadata": {},
   "source": [
    "### import sagnac frequency"
   ]
  },
  {
   "cell_type": "code",
   "execution_count": 6,
   "metadata": {
    "ExecuteTime": {
     "end_time": "2023-08-01T12:23:05.765286Z",
     "start_time": "2023-08-01T12:23:05.624138Z"
    },
    "tags": []
   },
   "outputs": [],
   "source": [
    "if config['datatype'] == \"beat\":\n",
    "\n",
    "    data = __load_beat_data(config['tbeg'], config['tend'], config['cha'][2], config['path_to_autodata'])\n",
    "\n",
    "    tr = obs.Trace()\n",
    "    tr.data = np.array(data.fj)\n",
    "    tr.stats.delta = 1.0\n",
    "    tr.stats.starttime = obs.UTCDateTime(config['tbeg'])\n",
    "    st = obs.Stream(tr)\n",
    "\n",
    "    st[0].data = (st[0].data - config['nominal_sagnac']) / config['nominal_sagnac']\n",
    "    # st[0].data = (st[0].data - np.mean(st[0].data) / np.mean(st[0].data))\n",
    "\n",
    "    ## convert from Hz to rad/s with scale factor\n",
    "    S = 10182093.88\n",
    "    S = np.sqrt(3)/3 * 12.0 / 632.8e-9\n",
    "    tr.data = tr.data/S\n",
    "\n",
    "    st.plot();"
   ]
  },
  {
   "cell_type": "markdown",
   "metadata": {},
   "source": [
    "### import rotation rate data"
   ]
  },
  {
   "cell_type": "code",
   "execution_count": 7,
   "metadata": {
    "ExecuteTime": {
     "end_time": "2023-06-21T09:04:45.618981Z",
     "start_time": "2023-06-21T09:04:45.617229Z"
    },
    "tags": []
   },
   "outputs": [
    {
     "name": "stdout",
     "output_type": "stream",
     "text": [
      " -> /home/andbro/freenas/romy_archive/ does not exist!\n"
     ]
    },
    {
     "ename": "AttributeError",
     "evalue": "'NoneType' object has no attribute 'remove_sensitivity'",
     "output_type": "error",
     "traceback": [
      "\u001b[0;31m---------------------------------------------------------------------------\u001b[0m",
      "\u001b[0;31mAttributeError\u001b[0m                            Traceback (most recent call last)",
      "Cell \u001b[0;32mIn[7], line 9\u001b[0m\n\u001b[1;32m      5\u001b[0m inv \u001b[38;5;241m=\u001b[39m obs\u001b[38;5;241m.\u001b[39mread_inventory(root_path\u001b[38;5;241m+\u001b[39m\u001b[38;5;124m\"\u001b[39m\u001b[38;5;124mDocuments/ROMY/stationxml_ringlaser/dataless/dataless.seed.BW_ROMY\u001b[39m\u001b[38;5;124m\"\u001b[39m)\n\u001b[1;32m      7\u001b[0m \u001b[38;5;66;03m# st.detrend(\"demean\");\u001b[39;00m\n\u001b[0;32m----> 9\u001b[0m \u001b[43mst\u001b[49m\u001b[38;5;241;43m.\u001b[39;49m\u001b[43mremove_sensitivity\u001b[49m(inv);\n\u001b[1;32m     11\u001b[0m st\u001b[38;5;241m.\u001b[39mtrim(config[\u001b[38;5;124m'\u001b[39m\u001b[38;5;124mtbeg\u001b[39m\u001b[38;5;124m'\u001b[39m], config[\u001b[38;5;124m'\u001b[39m\u001b[38;5;124mtend\u001b[39m\u001b[38;5;124m'\u001b[39m]);\n\u001b[1;32m     13\u001b[0m \u001b[38;5;66;03m## convert from Hz to rad/s with scale factor\u001b[39;00m\n\u001b[1;32m     14\u001b[0m \u001b[38;5;66;03m# st[0].data = st[0].data * 10182093.88 * 2*np.pi/86400\u001b[39;00m\n",
      "\u001b[0;31mAttributeError\u001b[0m: 'NoneType' object has no attribute 'remove_sensitivity'"
     ]
    }
   ],
   "source": [
    "if config['datatype'] == \"rotation_rate\":\n",
    "\n",
    "    st = __read_sds(config['path_to_sds'], config['seed'], config['tbeg']-10, config['tend']+10)\n",
    "\n",
    "    inv = obs.read_inventory(root_path+\"Documents/ROMY/stationxml_ringlaser/dataless/dataless.seed.BW_ROMY\")\n",
    "\n",
    "    # st.detrend(\"demean\");\n",
    "\n",
    "    st.remove_sensitivity(inv);\n",
    "\n",
    "    st.trim(config['tbeg'], config['tend']);\n",
    "\n",
    "    ## convert from Hz to rad/s with scale factor\n",
    "    # st[0].data = st[0].data * 10182093.88 * 2*np.pi/86400\n",
    "\n",
    "    st.plot();"
   ]
  },
  {
   "cell_type": "markdown",
   "metadata": {
    "ExecuteTime": {
     "end_time": "2023-01-24T17:44:16.243978Z",
     "start_time": "2023-01-24T17:44:16.241375Z"
    }
   },
   "source": [
    "## Compute Allan Dev"
   ]
  },
  {
   "cell_type": "code",
   "execution_count": null,
   "metadata": {
    "ExecuteTime": {
     "end_time": "2023-08-01T12:08:31.936509Z",
     "start_time": "2023-08-01T12:08:31.929506Z"
    },
    "tags": []
   },
   "outputs": [],
   "source": [
    "## define tau range e.g. 5 (= 10⁵) and number of samples N\n",
    "upper = 6\n",
    "lower = -4\n",
    "N = 150\n",
    "\n",
    "## list of tau values in seconds\n",
    "taux = np.logspace(lower, upper, N)\n",
    "\n",
    "## smallest sampling in seconds\n",
    "dtaux = taux[1]-taux[0]\n",
    "\n",
    "## sampling rate\n",
    "df = st[0].stats.sampling_rate"
   ]
  },
  {
   "cell_type": "code",
   "execution_count": null,
   "metadata": {
    "tags": []
   },
   "outputs": [],
   "source": [
    "config['interval_seconds'] = 3600*4\n",
    "config['interval_overlap'] = 0.5\n",
    "\n",
    "times = __get_time_intervals(config['tbeg'], config['tend'], config['interval_seconds'], config['interval_overlap'])"
   ]
  },
  {
   "cell_type": "code",
   "execution_count": null,
   "metadata": {
    "tags": []
   },
   "outputs": [],
   "source": [
    "mltiU = __load_mlti(config['tbeg'], config['tend'], \"U\", archive_path)"
   ]
  },
  {
   "cell_type": "code",
   "execution_count": null,
   "metadata": {
    "tags": []
   },
   "outputs": [],
   "source": []
  },
  {
   "cell_type": "code",
   "execution_count": null,
   "metadata": {
    "ExecuteTime": {
     "end_time": "2023-08-01T12:09:38.602426Z",
     "start_time": "2023-08-01T12:09:23.541433Z"
    },
    "tags": []
   },
   "outputs": [],
   "source": [
    "## normal allan deviation; allan object = (taus1, adevs1, errors, ns)\n",
    "\n",
    "from tqdm.notebook import tqdm\n",
    "\n",
    "mlti_counter = 0\n",
    "\n",
    "_adev, _error = [], []\n",
    "for t1, t2 in tqdm(times):\n",
    "\n",
    "    ## check for MLTI\n",
    "    mlti_found = False\n",
    "    for t_mlti in mltiU.time_utc:\n",
    "        if t_mlti > t1 and t_mlti < t2:\n",
    "            # print(f\" MTLI found. Abort!\")\n",
    "            mlti_counter += 1\n",
    "            mlti_found = True\n",
    "            break\n",
    "\n",
    "    if mlti_found:\n",
    "        continue\n",
    "\n",
    "    st0 = st.copy()\n",
    "\n",
    "    st0 = st0.trim(t1, t2)\n",
    "\n",
    "    # st0 = st0.detrend(\"demean\")\n",
    "\n",
    "    if config['method'] == \"oadev\":\n",
    "        allan = allantools.oadev(st0[0].data,\n",
    "                                 data_type=config['intype'],\n",
    "                                 rate=df,\n",
    "                                 taus=config['tau'],\n",
    "                                 )\n",
    "\n",
    "    elif config['method'] == \"mdev\":\n",
    "        allan = allantools.mdev(st0[0].data,\n",
    "                                data_type=config['intype'],\n",
    "                                rate=df,\n",
    "                                taus=config['tau'],\n",
    "                                )\n",
    "\n",
    "    elif config['method'] == \"adev\":\n",
    "        allan = allantools.adev(st0[0].data,\n",
    "                                data_type=config['intype'],\n",
    "                                rate=df,\n",
    "                                taus=config['tau'],\n",
    "                                )\n",
    "    if len(allan[1]) == 96000:\n",
    "        _adev.append(allan[1])\n",
    "        _error.append(allan[2])\n",
    "\n",
    "print(f\" -> MLTI count: {mlti_counter}\")"
   ]
  },
  {
   "cell_type": "code",
   "execution_count": null,
   "metadata": {
    "ExecuteTime": {
     "end_time": "2023-08-01T12:09:38.602426Z",
     "start_time": "2023-08-01T12:09:23.541433Z"
    },
    "tags": []
   },
   "outputs": [],
   "source": [
    "tau = allan[0]\n",
    "adev = np.array(_adev)\n",
    "error = np.array(_error)"
   ]
  },
  {
   "cell_type": "code",
   "execution_count": null,
   "metadata": {
    "tags": []
   },
   "outputs": [],
   "source": [
    "adev_perc_low, adev_perc_high = __get_percentiles(adev, p_low=2.5, p_high=97.5)"
   ]
  },
  {
   "cell_type": "code",
   "execution_count": null,
   "metadata": {
    "tags": []
   },
   "outputs": [],
   "source": [
    "adev_median = __get_median(adev)"
   ]
  },
  {
   "cell_type": "code",
   "execution_count": null,
   "metadata": {
    "tags": []
   },
   "outputs": [],
   "source": [
    "adev_minimum = __get_minimum(adev, tau)"
   ]
  },
  {
   "cell_type": "markdown",
   "metadata": {},
   "source": [
    "## Plotting"
   ]
  },
  {
   "cell_type": "code",
   "execution_count": null,
   "metadata": {
    "ExecuteTime": {
     "end_time": "2023-08-01T12:12:27.246174Z",
     "start_time": "2023-08-01T12:10:38.760337Z"
    },
    "code_folding": [
     0
    ],
    "tags": []
   },
   "outputs": [],
   "source": [
    "def __makeplot_allan_deviation_statistics():\n",
    "\n",
    "    # taus, adev, errors, ns = allan[0], allan[1], allan[2], allan[3]\n",
    "\n",
    "    day = st[0].stats.starttime.date\n",
    "    tt1 = str(st[0].stats.starttime.time)[:8]\n",
    "    tt2 = str(st[0].stats.endtime.time)[:8]\n",
    "\n",
    "\n",
    "    ## -------------------------------------------\n",
    "    fig, ax = plt.subplots(1, 1, figsize=(10, 5))\n",
    "\n",
    "    font = 14\n",
    "\n",
    "    for _adev, _err in zip(adev, error):\n",
    "        if config['errorbars']:\n",
    "            ax.scatter(tau, _adev, color='grey', zorder=2, alpha=0.7)\n",
    "            ax.errorbar(tau, _adev, yerr=_err, color='darkred', fmt='none', zorder=1)\n",
    "        else:\n",
    "            ax.plot(tau, _adev, color='grey', alpha=0.7)\n",
    "\n",
    "    ## add median\n",
    "    ax.plot(tau, adev_median, color='black')\n",
    "\n",
    "    ## add minimum\n",
    "    # ax.plot(tau, adev_minimum, color='black')\n",
    "\n",
    "    ## add percentiles\n",
    "    # ax.fill_between(tau, adev_perc_low, adev_perc_high, color='lightgrey')\n",
    "\n",
    "    ax.set_title(f\"Allan Deviation for {config['sta']}.{config['cha']}  | Twin={int(config['interval_seconds']/3600)}h ({int(config['interval_overlap']*100)}%) | {config['tbeg'].date} - {config['tend'].date}\", fontsize=font+1)\n",
    "    ax.set_xlabel(r\"Averaging Time $\\tau$ [s]\", fontsize=font)\n",
    "\n",
    "    if config['relative']:\n",
    "        ax.set_ylabel(r\"Allan Deviation  $\\Omega$/$\\Omega_E$\", fontsize=font)\n",
    "    else:\n",
    "        ax.set_ylabel(r\"Allan Deviation $\\sigma_{\\tau}$ [rad/s]\", fontsize=font)\n",
    "\n",
    "    ax.set_xscale('log')\n",
    "    ax.set_yscale('log')\n",
    "\n",
    "    # ax.legend(fontsize=font-2)\n",
    "\n",
    "    ax.grid(True, which=\"both\", ls=\"--\")\n",
    "\n",
    "    ax.tick_params(labelsize=font-1)\n",
    "\n",
    "    plt.show();\n",
    "    return fig\n",
    "\n",
    "fig = __makeplot_allan_deviation_statistics()\n",
    "\n",
    "fig.savefig(config['path_to_figures']+f\"AD_ROMY_{config['cha'][-1]}_statistics.jpeg\", format=\"jpeg\", dpi=150, bbox_inches='tight')\n"
   ]
  },
  {
   "cell_type": "markdown",
   "metadata": {},
   "source": [
    "## Store Allan"
   ]
  },
  {
   "cell_type": "code",
   "execution_count": null,
   "metadata": {
    "tags": []
   },
   "outputs": [],
   "source": [
    "from andbro__store_as_pickle import __store_as_pickle"
   ]
  },
  {
   "cell_type": "code",
   "execution_count": null,
   "metadata": {
    "tags": []
   },
   "outputs": [],
   "source": [
    "# out_adev = {}\n",
    "# out_adev['tau'] = allan[0]\n",
    "# out_adev['adev'] = allan[1]\n",
    "# out_adev['error'] = allan[2]\n",
    "# out_adev['ns'] = allan[3]\n",
    "# out_adev['tbeg'] = config['tbeg']\n",
    "# out_adev['tend'] = config['tend']\n",
    "# out_adev['seed'] = config['seed']\n",
    "\n",
    "# __store_as_pickle(out_adev, config['path_to_data_out']+f\"ADev_{config['seed'][-1]}_{config['tbeg'].date}.pkl\")"
   ]
  },
  {
   "cell_type": "markdown",
   "metadata": {},
   "source": [
    "## Plot Mutli Allan"
   ]
  },
  {
   "cell_type": "code",
   "execution_count": null,
   "metadata": {
    "tags": []
   },
   "outputs": [],
   "source": [
    "from pandas import read_pickle"
   ]
  },
  {
   "cell_type": "code",
   "execution_count": null,
   "metadata": {
    "tags": []
   },
   "outputs": [],
   "source": [
    "# adev_Z = read_pickle(config['path_to_data_out']+\"ADev_Z_2023-09-19.pkl\")\n",
    "# adev_U = read_pickle(config['path_to_data_out']+\"ADev_U_2023-09-19.pkl\")\n",
    "# adev_V = read_pickle(config['path_to_data_out']+\"ADev_V_2023-09-19.pkl\")\n",
    "\n",
    "# allans = [adev_Z, adev_U, adev_V]"
   ]
  },
  {
   "cell_type": "code",
   "execution_count": null,
   "metadata": {
    "tags": []
   },
   "outputs": [],
   "source": []
  },
  {
   "cell_type": "code",
   "execution_count": null,
   "metadata": {
    "tags": []
   },
   "outputs": [],
   "source": [
    "def __makeplot_allan_deviation_rings(allans, errorbars=False):\n",
    "\n",
    "    # taus, adev, errors, ns = allan[0], allan[1], allan[2], allan[3]\n",
    "\n",
    "    # day = st[0].stats.starttime.date\n",
    "    # tt1 = str(st[0].stats.starttime.time)[:8]\n",
    "    # tt2 = str(st[0].stats.endtime.time)[:8]\n",
    "\n",
    "    # if config['relative']:\n",
    "    #     adev = adev / 7.3e-5\n",
    "\n",
    "    ## -------------------------------------------\n",
    "    fig, ax = plt.subplots(1, 1, figsize=(10, 5))\n",
    "\n",
    "    font = 14\n",
    "\n",
    "    for _allan in allans:\n",
    "        taus = _allan['tau']\n",
    "        adev = _allan['adev']\n",
    "\n",
    "        net, sta, loc, cha = _allan['seed'].split(\".\")\n",
    "\n",
    "        if errorbars:\n",
    "            ax.scatter(taus, adev, color='darkred', label=f\"{sta}.{cha}\", zorder=2)\n",
    "            ax.errorbar(taus, adev, yerr=allan[2], color='darkred', fmt='none', zorder=1)\n",
    "        else:\n",
    "            ax.plot(taus, adev, label=f\"{sta}.{cha}\", alpha=0.7)\n",
    "\n",
    "\n",
    "    # ax.set_title(f\"Allan Deviation for {config['net']}.{config['cha']} on {day}  [{tt1}-{tt2} UTC]\", fontsize=font+3)\n",
    "    ax.set_xlabel(r\"Averaging Time $\\tau$ (s)\", fontsize=font)\n",
    "\n",
    "    if config['relative']:\n",
    "        ax.set_ylabel(r\"Allan Deviation  $\\Omega$/$\\Omega_E$\", fontsize=font)\n",
    "    else:\n",
    "        ax.set_ylabel(r\"Allan Deviation $\\sigma_{\\tau}$ (rad/s)\", fontsize=font)\n",
    "\n",
    "    ax.set_xscale('log')\n",
    "    ax.set_yscale('log')\n",
    "\n",
    "    ax.legend(fontsize=font-2)\n",
    "\n",
    "    ax.grid(True, which=\"both\", ls=\"--\")\n",
    "\n",
    "    ax.tick_params(labelsize=font-1)\n",
    "\n",
    "    plt.show();\n",
    "    return fig\n",
    "\n",
    "# fig = __makeplot_allan_deviation_rings(allans)\n",
    "\n",
    "# fig.savefig(config['path_to_figures']+f\"ADev_ROMY_rings.jpeg\", format=\"jpeg\", dpi=150, bbox_inches='tight')\n"
   ]
  },
  {
   "cell_type": "code",
   "execution_count": null,
   "metadata": {
    "tags": []
   },
   "outputs": [],
   "source": []
  },
  {
   "cell_type": "code",
   "execution_count": null,
   "metadata": {},
   "outputs": [],
   "source": []
  }
 ],
 "metadata": {
  "kernelspec": {
   "display_name": "Python 3 (ipykernel)",
   "language": "python",
   "name": "python3"
  },
  "language_info": {
   "codemirror_mode": {
    "name": "ipython",
    "version": 3
   },
   "file_extension": ".py",
   "mimetype": "text/x-python",
   "name": "python",
   "nbconvert_exporter": "python",
   "pygments_lexer": "ipython3",
   "version": "3.10.12"
  },
  "latex_envs": {
   "LaTeX_envs_menu_present": true,
   "autoclose": true,
   "autocomplete": true,
   "bibliofile": "biblio.bib",
   "cite_by": "apalike",
   "current_citInitial": 1,
   "eqLabelWithNumbers": true,
   "eqNumInitial": 1,
   "hotkeys": {
    "equation": "Ctrl-E",
    "itemize": "Ctrl-I"
   },
   "labels_anchors": false,
   "latex_user_defs": false,
   "report_style_numbering": false,
   "user_envs_cfg": false
  },
  "toc": {
   "base_numbering": 1,
   "nav_menu": {},
   "number_sections": true,
   "sideBar": true,
   "skip_h1_title": false,
   "title_cell": "Table of Contents",
   "title_sidebar": "Contents",
   "toc_cell": false,
   "toc_position": {},
   "toc_section_display": true,
   "toc_window_display": false
  },
  "varInspector": {
   "cols": {
    "lenName": 16,
    "lenType": 16,
    "lenVar": 40
   },
   "kernels_config": {
    "python": {
     "delete_cmd_postfix": "",
     "delete_cmd_prefix": "del ",
     "library": "var_list.py",
     "varRefreshCmd": "print(var_dic_list())"
    },
    "r": {
     "delete_cmd_postfix": ") ",
     "delete_cmd_prefix": "rm(",
     "library": "var_list.r",
     "varRefreshCmd": "cat(var_dic_list()) "
    }
   },
   "types_to_exclude": [
    "module",
    "function",
    "builtin_function_or_method",
    "instance",
    "_Feature"
   ],
   "window_display": false
  }
 },
 "nbformat": 4,
 "nbformat_minor": 4
}
