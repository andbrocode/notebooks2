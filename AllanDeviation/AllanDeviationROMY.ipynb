{
 "cells": [
  {
   "cell_type": "markdown",
   "metadata": {},
   "source": [
    "# Allan deviation of ROMY components"
   ]
  },
  {
   "cell_type": "markdown",
   "metadata": {},
   "source": [
    "### Import libraries"
   ]
  },
  {
   "cell_type": "code",
   "execution_count": 1,
   "metadata": {
    "ExecuteTime": {
     "end_time": "2023-06-09T08:33:57.931287Z",
     "start_time": "2023-06-09T08:33:51.893706Z"
    }
   },
   "outputs": [],
   "source": [
    "import sys, os\n",
    "import numpy as np\n",
    "import matplotlib\n",
    "import matplotlib.pyplot as plt\n",
    "import allantools as al\n",
    "\n",
    "from matplotlib.pylab import *\n",
    "from matplotlib import rc, font_manager\n",
    "from obspy import *"
   ]
  },
  {
   "cell_type": "code",
   "execution_count": 2,
   "metadata": {
    "ExecuteTime": {
     "end_time": "2023-06-09T08:33:57.934961Z",
     "start_time": "2023-06-09T08:33:57.932461Z"
    }
   },
   "outputs": [],
   "source": [
    "if os.uname().nodename == 'lighthouse':\n",
    "    root_path = '/home/andbro/'\n",
    "    data_path = '/home/andbro/kilauea-data/'\n",
    "    archive_path = '/home/andbro/freenas/'\n",
    "elif os.uname().nodename == 'kilauea':\n",
    "    root_path = '/home/brotzer/'\n",
    "    data_path = '/import/kilauea-data/'\n",
    "    archive_path = '/import/freenas-ffb-01-data/'"
   ]
  },
  {
   "cell_type": "markdown",
   "metadata": {},
   "source": [
    "## Configuration"
   ]
  },
  {
   "cell_type": "code",
   "execution_count": 56,
   "metadata": {
    "ExecuteTime": {
     "end_time": "2023-06-09T08:42:18.583963Z",
     "start_time": "2023-06-09T08:42:18.581764Z"
    }
   },
   "outputs": [],
   "source": [
    "config = {}\n",
    "\n",
    "config['tbeg'] = UTCDateTime(\"2023-06-04 00:00\")\n",
    "config['tend'] = UTCDateTime(\"2023-06-04 12:00\")"
   ]
  },
  {
   "cell_type": "markdown",
   "metadata": {},
   "source": [
    "### Import data"
   ]
  },
  {
   "cell_type": "code",
   "execution_count": 57,
   "metadata": {
    "ExecuteTime": {
     "end_time": "2023-06-09T08:42:20.103414Z",
     "start_time": "2023-06-09T08:42:20.101675Z"
    }
   },
   "outputs": [],
   "source": [
    "from andbro__load_romy_raw import __load_romy_raw"
   ]
  },
  {
   "cell_type": "code",
   "execution_count": 58,
   "metadata": {
    "ExecuteTime": {
     "end_time": "2023-06-09T08:42:29.250625Z",
     "start_time": "2023-06-09T08:42:20.429799Z"
    }
   },
   "outputs": [],
   "source": [
    "fjz = __load_romy_raw(\"BW.DROMY..FJZ\", config['tbeg'], config['tend'])"
   ]
  },
  {
   "cell_type": "code",
   "execution_count": 59,
   "metadata": {
    "ExecuteTime": {
     "end_time": "2023-06-09T08:42:29.253541Z",
     "start_time": "2023-06-09T08:42:29.251882Z"
    }
   },
   "outputs": [],
   "source": [
    "# path = 'Desktop/GJI/Figure08/data/'\n",
    "\n",
    "# stROMY = read(f\"{path}data/romyADEV_BJ.mseed\")\n",
    "# stROMYZ = read(f\"{path}data/romyADEV_BJZ.mseed\")"
   ]
  },
  {
   "cell_type": "markdown",
   "metadata": {},
   "source": [
    "Resample to 1 Hz and define tau axis"
   ]
  },
  {
   "cell_type": "code",
   "execution_count": 60,
   "metadata": {
    "ExecuteTime": {
     "end_time": "2023-06-09T08:42:29.574877Z",
     "start_time": "2023-06-09T08:42:29.255119Z"
    }
   },
   "outputs": [
    {
     "data": {
      "text/plain": [
       "array([  1.00230524e+000,   1.26211550e+000,   1.58927188e+000,\n",
       "         2.00123135e+000,   2.51997595e+000,   3.17318575e+000,\n",
       "         3.99571583e+000,   5.03145617e+000,   6.33567356e+000,\n",
       "         7.97796069e+000,   1.00459495e+001,   1.26499873e+001,\n",
       "         1.59290248e+001,   2.00580305e+001,   2.52573270e+001,\n",
       "         3.18043472e+001,   4.00484383e+001,   5.04295026e+001,\n",
       "         6.35014707e+001,   7.99618591e+001,   1.00688989e+002,\n",
       "         1.26788855e+002,   1.59654138e+002,   2.01038520e+002,\n",
       "         2.53150260e+002,   3.18770026e+002,   4.01399268e+002,\n",
       "         5.05447061e+002,   6.36465364e+002,   8.01445277e+002,\n",
       "         1.00919008e+003,   1.27078498e+003,   1.60018860e+003,\n",
       "         2.01497782e+003,   2.53728569e+003,   3.19498239e+003,\n",
       "         4.02316244e+003,   5.06601728e+003,   6.37919335e+003,\n",
       "         8.03276136e+003,   1.01149552e+004,   1.27368802e+004,\n",
       "         1.60384414e+004,   2.01958093e+004,   2.54308198e+004,\n",
       "         3.20228115e+004,   4.03235313e+004,   5.07759032e+004,\n",
       "         6.39376628e+004,   8.05111177e+004,   1.01380623e+005,\n",
       "         1.27659769e+005,   1.60750804e+005,   2.02419455e+005,\n",
       "         2.54889151e+005,   3.20959659e+005,   4.04156483e+005,\n",
       "         5.08918981e+005,   6.40837250e+005,   8.06950410e+005,\n",
       "         1.01612221e+006,   1.27951401e+006,   1.61118030e+006,\n",
       "         2.02881872e+006,   2.55471432e+006,   3.21692875e+006,\n",
       "         4.05079757e+006,   5.10081579e+006,   6.42301208e+006,\n",
       "         8.08793845e+006,   1.01844349e+007,   1.28243699e+007,\n",
       "         1.61486096e+007,   2.03345345e+007,   2.56055043e+007,\n",
       "         3.22427765e+007,   4.06005140e+007,   5.11246833e+007,\n",
       "         6.43768511e+007,   8.10641492e+007,   1.02077007e+008,\n",
       "         1.28536665e+008,   1.61855002e+008,   2.03809876e+008,\n",
       "         2.56639987e+008,   3.23164334e+008,   4.06932637e+008,\n",
       "         5.12414749e+008,   6.45239165e+008,   8.12493359e+008,\n",
       "         1.02310197e+009,   1.28830300e+009,   1.62224751e+009,\n",
       "         2.04275469e+009,   2.57226267e+009,   3.23902585e+009,\n",
       "         4.07862253e+009,   5.13585333e+009,   6.46713180e+009,\n",
       "         8.14349456e+009,   1.02543919e+010,   1.29124606e+010,\n",
       "         1.62595345e+010,   2.04742125e+010,   2.57813887e+010,\n",
       "         3.24642523e+010,   4.08793992e+010,   5.14758591e+010,\n",
       "         6.48190561e+010,   8.16209794e+010,   1.02778175e+011,\n",
       "         1.29419584e+011,   1.62966785e+011,   2.05209848e+011,\n",
       "         2.58402849e+011,   3.25384152e+011,   4.09727860e+011,\n",
       "         5.15934530e+011,   6.49671318e+011,   8.18074382e+011,\n",
       "         1.03012966e+012,   1.29715236e+012,   1.63339074e+012,\n",
       "         2.05678639e+012,   2.58993156e+012,   3.26127475e+012,\n",
       "         4.10663861e+012,   5.17113154e+012,   6.51155457e+012,\n",
       "         8.19943229e+012,   1.03248294e+013,   1.30011564e+013,\n",
       "         1.63712214e+013,   2.06148501e+013,   2.59584812e+013,\n",
       "         3.26872495e+013,   4.11602001e+013,   5.18294472e+013,\n",
       "         6.52642987e+013,   8.21816345e+013,   1.03484159e+014,\n",
       "         1.30308568e+014,   1.64086206e+014,   2.06619436e+014,\n",
       "         2.60177820e+014,   3.27619218e+014,   4.12542284e+014,\n",
       "         5.19478488e+014,   6.54133915e+014,   8.23693741e+014,\n",
       "         1.03720563e+015,   1.30606251e+015,   1.64461052e+015,\n",
       "         2.07091447e+015,   2.60772182e+015,   3.28367647e+015,\n",
       "         4.13484715e+015,   5.20665209e+015,   6.55628249e+015,\n",
       "         8.25575425e+015,   1.03957507e+016,   1.30904614e+016,\n",
       "         1.64836754e+016,   2.07564536e+016,   2.61367902e+016,\n",
       "         3.29117785e+016,   4.14429298e+016,   5.21854640e+016,\n",
       "         6.57125997e+016,   8.27461408e+016,   1.04194992e+017,\n",
       "         1.31203659e+017,   1.65213315e+017,   2.08038706e+017,\n",
       "         2.61964983e+017,   3.29869637e+017,   4.15376040e+017,\n",
       "         5.23046789e+017,   6.58627166e+017,   8.29351699e+017,\n",
       "         1.04433020e+018,   1.31503386e+018,   1.65590736e+018,\n",
       "         2.08513959e+018,   2.62563428e+018,   3.30623206e+018,\n",
       "         4.16324944e+018,   5.24241662e+018,   6.60131764e+018,\n",
       "         8.31246309e+018,   1.04671592e+019,   1.31803799e+019,\n",
       "         1.65969019e+019,   2.08990298e+019,   2.63163240e+019,\n",
       "         3.31378497e+019,   4.17276016e+019,   5.25439264e+019,\n",
       "         6.61639800e+019,   8.33145246e+019,   1.04910708e+020,\n",
       "         1.32104898e+020,   1.66348166e+020,   2.09467726e+020,\n",
       "         2.63764423e+020,   3.32135514e+020,   4.18229261e+020,\n",
       "         5.26639602e+020,   6.63151281e+020,   8.35048522e+020,\n",
       "         1.05150371e+021,   1.32406684e+021,   1.66728180e+021,\n",
       "         2.09946243e+021,   2.64366978e+021,   3.32894260e+021,\n",
       "         4.19184683e+021,   5.27842682e+021,   6.64666214e+021,\n",
       "         8.36956146e+021,   1.05390582e+022,   1.32709160e+022,\n",
       "         1.67109061e+022,   2.10425854e+022,   2.64970911e+022,\n",
       "         3.33654739e+022,   4.20142288e+022,   5.29048510e+022,\n",
       "         6.66184609e+022,   8.38868127e+022,   1.05631341e+023,\n",
       "         1.33012327e+023,   1.67490813e+023,   2.10906561e+023,\n",
       "         2.65576222e+023,   3.34416955e+023,   4.21102081e+023,\n",
       "         5.30257093e+023,   6.67706472e+023,   8.40784477e+023,\n",
       "         1.05872650e+024,   1.33316187e+024,   1.67873437e+024,\n",
       "         2.11388366e+024,   2.66182917e+024,   3.35180913e+024,\n",
       "         4.22064066e+024,   5.31468437e+024,   6.69231811e+024,\n",
       "         8.42705204e+024,   1.06114510e+025,   1.33620740e+025,\n",
       "         1.68256935e+025,   2.11871271e+025,   2.66790998e+025,\n",
       "         3.35946616e+025,   4.23028249e+025,   5.32682548e+025,\n",
       "         6.70760636e+025,   8.44630319e+025,   1.06356923e+026,\n",
       "         1.33925990e+026,   1.68641309e+026,   2.12355280e+026,\n",
       "         2.67400467e+026,   3.36714068e+026,   4.23994634e+026,\n",
       "         5.33899433e+026,   6.72292952e+026,   8.46559831e+026,\n",
       "         1.06599890e+027,   1.34231937e+027,   1.69026561e+027,\n",
       "         2.12840394e+027,   2.68011330e+027,   3.37483273e+027,\n",
       "         4.24963227e+027,   5.35119097e+027,   6.73828770e+027,\n",
       "         8.48493752e+027,   1.06843412e+028,   1.34538582e+028,\n",
       "         1.69412693e+028,   2.13326616e+028,   2.68623587e+028,\n",
       "         3.38254235e+028,   4.25934033e+028,   5.36341548e+028,\n",
       "         6.75368095e+028,   8.50432090e+028,   1.07087490e+029,\n",
       "         1.34845928e+029,   1.69799707e+029,   2.13813950e+029,\n",
       "         2.69237243e+029,   3.39026959e+029,   4.26907056e+029,\n",
       "         5.37566792e+029,   6.76910938e+029,   8.52374857e+029,\n",
       "         1.07332125e+030,   1.35153977e+030,   1.70187606e+030,\n",
       "         2.14302396e+030,   2.69852301e+030,   3.39801448e+030,\n",
       "         4.27882303e+030,   5.38794834e+030,   6.78457304e+030,\n",
       "         8.54322062e+030,   1.07577320e+031,   1.35462729e+031,\n",
       "         1.70576390e+031,   2.14791959e+031,   2.70468764e+031,\n",
       "         3.40577706e+031,   4.28859777e+031,   5.40025682e+031,\n",
       "         6.80007204e+031,   8.56273715e+031,   1.07823075e+032,\n",
       "         1.35772186e+032,   1.70966063e+032,   2.15282639e+032,\n",
       "         2.71086636e+032,   3.41355738e+032,   4.29839484e+032,\n",
       "         5.41259342e+032,   6.81560644e+032,   8.58229826e+032,\n",
       "         1.08069391e+033,   1.36082350e+033,   1.71356625e+033,\n",
       "         2.15774441e+033,   2.71705919e+033,   3.42135547e+033,\n",
       "         4.30821429e+033,   5.42495820e+033,   6.83117633e+033,\n",
       "         8.60190406e+033,   1.08316269e+034,   1.36393223e+034,\n",
       "         1.71748080e+034,   2.16267366e+034,   2.72326616e+034,\n",
       "         3.42917137e+034,   4.31805618e+034,   5.43735123e+034,\n",
       "         6.84678178e+034,   8.62155465e+034,   1.08563712e+035,\n",
       "         1.36704806e+035,   1.72140430e+035,   2.16761417e+035,\n",
       "         2.72948732e+035,   3.43700513e+035,   4.32792055e+035,\n",
       "         5.44977257e+035,   6.86242289e+035,   8.64125013e+035,\n",
       "         1.08811720e+036,   1.37017101e+036,   1.72533675e+036,\n",
       "         2.17256597e+036,   2.73572269e+036,   3.44485678e+036,\n",
       "         4.33780745e+036,   5.46222228e+036,   6.87809973e+036,\n",
       "         8.66099061e+036,   1.09060295e+037,   1.37330109e+037,\n",
       "         1.72927819e+037,   2.17752908e+037,   2.74197230e+037,\n",
       "         3.45272637e+037,   4.34771694e+037,   5.47470043e+037,\n",
       "         6.89381238e+037,   8.68077618e+037,   1.09309437e+038,\n",
       "         1.37643833e+038,   1.73322864e+038,   2.18250353e+038,\n",
       "         2.74823619e+038,   3.46061394e+038,   4.35764907e+038,\n",
       "         5.48720709e+038,   6.90956092e+038,   8.70060694e+038,\n",
       "         1.09559149e+039,   1.37958273e+039,   1.73718810e+039,\n",
       "         2.18748934e+039,   2.75451439e+039,   3.46851953e+039,\n",
       "         4.36760388e+039,   5.49974233e+039,   6.92534545e+039,\n",
       "         8.72048301e+039,   1.09809431e+040,   1.38273431e+040,\n",
       "         1.74115662e+040,   2.19248655e+040,   2.76080693e+040,\n",
       "         3.47644318e+040,   4.37758144e+040,   5.51230619e+040,\n",
       "         6.94116603e+040,   8.74040449e+040,   1.10060284e+041,\n",
       "         1.38589309e+041,   1.74513420e+041,   2.19749516e+041,\n",
       "         2.76711384e+041,   3.48438493e+041,   4.38758179e+041,\n",
       "         5.52489876e+041,   6.95702275e+041,   8.76037148e+041,\n",
       "         1.10311711e+042,   1.38905909e+042,   1.74912086e+042,\n",
       "         2.20251522e+042,   2.77343517e+042,   3.49234482e+042,\n",
       "         4.39760498e+042,   5.53752010e+042,   6.97291569e+042,\n",
       "         8.78038408e+042,   1.10563712e+043,   1.39223232e+043,\n",
       "         1.75311664e+043,   2.20754675e+043,   2.77977093e+043,\n",
       "         3.50032289e+043,   4.40765108e+043,   5.55017026e+043,\n",
       "         6.98884495e+043,   8.80044239e+043,   1.10816289e+044,\n",
       "         1.39541280e+044,   1.75712154e+044,   2.21258977e+044,\n",
       "         2.78612117e+044,   3.50831919e+044,   4.41772012e+044,\n",
       "         5.56284933e+044,   7.00481059e+044,   8.82054653e+044,\n",
       "         1.11069443e+045,   1.39860055e+045,   1.76113559e+045,\n",
       "         2.21764432e+045,   2.79248591e+045,   3.51633376e+045,\n",
       "         4.42781217e+045,   5.57555736e+045,   7.02081270e+045,\n",
       "         8.84069660e+045,   1.11323175e+046,   1.40179557e+046,\n",
       "         1.76515881e+046,   2.22271041e+046,   2.79886520e+046,\n",
       "         3.52436663e+046,   4.43792727e+046,   5.58829442e+046,\n",
       "         7.03685137e+046,   8.86089270e+046,   1.11577487e+047,\n",
       "         1.40499790e+047,   1.76919122e+047,   2.22778807e+047,\n",
       "         2.80525906e+047,   3.53241786e+047,   4.44806547e+047,\n",
       "         5.60106058e+047,   7.05292668e+047,   8.88113493e+047,\n",
       "         1.11832380e+048,   1.40820754e+048,   1.77323284e+048,\n",
       "         2.23287733e+048,   2.81166752e+048,   3.54048748e+048,\n",
       "         4.45822684e+048,   5.61385591e+048,   7.06903872e+048,\n",
       "         8.90142341e+048,   1.12087855e+049,   1.41142452e+049,\n",
       "         1.77728370e+049,   2.23797822e+049,   2.81809062e+049,\n",
       "         3.54857553e+049,   4.46841142e+049,   5.62668046e+049,\n",
       "         7.08518756e+049,   8.92175824e+049,   1.12343914e+050,\n",
       "         1.41464884e+050,   1.78134380e+050,   2.24309076e+050,\n",
       "         2.82452840e+050,   3.55668207e+050,   4.47861927e+050,\n",
       "         5.63953431e+050,   7.10137329e+050,   8.94213952e+050,\n",
       "         1.12600557e+051,   1.41788053e+051,   1.78541319e+051,\n",
       "         2.24821498e+051,   2.83098088e+051,   3.56480712e+051,\n",
       "         4.48885043e+051,   5.65241753e+051,   7.11759600e+051,\n",
       "         8.96256735e+051,   1.12857787e+052,   1.42111960e+052,\n",
       "         1.78949187e+052,   2.25335091e+052,   2.83744811e+052,\n",
       "         3.57295073e+052,   4.49910497e+052,   5.66533017e+052,\n",
       "         7.13385576e+052,   8.98304186e+052,   1.13115605e+053,\n",
       "         1.42436608e+053,   1.79357987e+053,   2.25849857e+053,\n",
       "         2.84393011e+053,   3.58111294e+053,   4.50938294e+053,\n",
       "         5.67827231e+053,   7.15015268e+053,   9.00356314e+053,\n",
       "         1.13374012e+054,   1.42761996e+054,   1.79767721e+054,\n",
       "         2.26365799e+054,   2.85042691e+054,   3.58929380e+054,\n",
       "         4.51968438e+054,   5.69124402e+054,   7.16648682e+054,\n",
       "         9.02413130e+054,   1.13633008e+055,   1.43088129e+055,\n",
       "         1.80178390e+055,   2.26882919e+055,   2.85693856e+055,\n",
       "         3.59749335e+055,   4.53000936e+055,   5.70424537e+055,\n",
       "         7.18285827e+055,   9.04474644e+055,   1.13892597e+056,\n",
       "         1.43415006e+056,   1.80589998e+056,   2.27401221e+056,\n",
       "         2.86346508e+056,   3.60571163e+056,   4.54035792e+056,\n",
       "         5.71727641e+056,   7.19926713e+056,   9.06540868e+056,\n",
       "         1.14152778e+057,   1.43742630e+057,   1.81002546e+057,\n",
       "         2.27920707e+057,   2.87000652e+057,   3.61394869e+057,\n",
       "         4.55073013e+057,   5.73033722e+057,   7.21571347e+057,\n",
       "         9.08611812e+057,   1.14413554e+058,   1.44071002e+058,\n",
       "         1.81416037e+058,   2.28441380e+058,   2.87656289e+058,\n",
       "         3.62220456e+058,   4.56112603e+058,   5.74342787e+058,\n",
       "         7.23219738e+058,   9.10687487e+058,   1.14674926e+059,\n",
       "         1.44400124e+059,   1.81830472e+059,   2.28963242e+059,\n",
       "         2.88313425e+059,   3.63047929e+059,   4.57154567e+059,\n",
       "         5.75654842e+059,   7.24871895e+059,   9.12767904e+059,\n",
       "         1.14936895e+060,   1.44729999e+060,   1.82245854e+060,\n",
       "         2.29486296e+060,   2.88972061e+060,   3.63877293e+060,\n",
       "         4.58198912e+060,   5.76969895e+060,   7.26527826e+060,\n",
       "         9.14853073e+060,   1.15199462e+061,   1.45060627e+061,\n",
       "         1.82662185e+061,   2.30010545e+061,   2.89632202e+061,\n",
       "         3.64708551e+061,   4.59245643e+061,   5.78287952e+061,\n",
       "         7.28187540e+061,   9.16943006e+061,   1.15462629e+062,\n",
       "         1.45392010e+062,   1.83079467e+062,   2.30535992e+062,\n",
       "         2.90293852e+062,   3.65541708e+062,   4.60294765e+062,\n",
       "         5.79609020e+062,   7.29851045e+062,   9.19037713e+062,\n",
       "         1.15726397e+063,   1.45724150e+063,   1.83497702e+063,\n",
       "         2.31062639e+063,   2.90957013e+063,   3.66376769e+063,\n",
       "         4.61346284e+063,   5.80933105e+063,   7.31518351e+063,\n",
       "         9.21137206e+063,   1.15990768e+064,   1.46057049e+064,\n",
       "         1.83916893e+064,   2.31590490e+064,   2.91621688e+064,\n",
       "         3.67213737e+064,   4.62400205e+064,   5.82260216e+064,\n",
       "         7.33189465e+064,   9.23241494e+064,   1.16255743e+065,\n",
       "         1.46390709e+065,   1.84337041e+065,   2.32119546e+065,\n",
       "         2.92287882e+065,   3.68052617e+065,   4.63456534e+065,\n",
       "         5.83590358e+065,   7.34864397e+065,   9.25350590e+065,\n",
       "         1.16521323e+066,   1.46725131e+066,   1.84758149e+066,\n",
       "         2.32649810e+066,   2.92955598e+066,   3.68893413e+066,\n",
       "         4.64515275e+066,   5.84923539e+066,   7.36543156e+066,\n",
       "         9.27464504e+066,   1.16787509e+067,   1.47060316e+067,\n",
       "         1.85180220e+067,   2.33181286e+067,   2.93624840e+067,\n",
       "         3.69736131e+067,   4.65576436e+067,   5.86259766e+067,\n",
       "         7.38225749e+067,   9.29583247e+067,   1.17054304e+068,\n",
       "         1.47396268e+068,   1.85603254e+068,   2.33713976e+068,\n",
       "         2.94295610e+068,   3.70580773e+068,   4.66640020e+068,\n",
       "         5.87599045e+068,   7.39912186e+068,   9.31706830e+068,\n",
       "         1.17321708e+069,   1.47732987e+069,   1.86027255e+069,\n",
       "         2.34247884e+069,   2.94967913e+069,   3.71427345e+069,\n",
       "         4.67706034e+069,   5.88941383e+069,   7.41602476e+069,\n",
       "         9.33835265e+069,   1.17589724e+070,   1.48070475e+070,\n",
       "         1.86452224e+070,   2.34783010e+070,   2.95641751e+070,\n",
       "         3.72275851e+070,   4.68774483e+070,   5.90286788e+070,\n",
       "         7.43296627e+070,   9.35968561e+070,   1.17858351e+071,\n",
       "         1.48408734e+071,   1.86878164e+071,   2.35319360e+071,\n",
       "         2.96317129e+071,   3.73126295e+071,   4.69845374e+071,\n",
       "         5.91635267e+071,   7.44994649e+071,   9.38106731e+071,\n",
       "         1.18127592e+072,   1.48747766e+072,   1.87305077e+072,\n",
       "         2.35856934e+072,   2.96994049e+072,   3.73978682e+072,\n",
       "         4.70918710e+072,   5.92986826e+072,   7.46696549e+072,\n",
       "         9.40249786e+072,   1.18397448e+073,   1.49087572e+073,\n",
       "         1.87732966e+073,   2.36395737e+073,   2.97672516e+073,\n",
       "         3.74833016e+073,   4.71994499e+073,   5.94341473e+073,\n",
       "         7.48402337e+073,   9.42397736e+073,   1.18667921e+074,\n",
       "         1.49428154e+074,   1.88161831e+074,   2.36935770e+074,\n",
       "         2.98352533e+074,   3.75689302e+074,   4.73072745e+074,\n",
       "         5.95699214e+074,   7.50112022e+074,   9.44550593e+074,\n",
       "         1.18939011e+075,   1.49769515e+075,   1.88591677e+075,\n",
       "         2.37477037e+075,   2.99034104e+075,   3.76547544e+075,\n",
       "         4.74153454e+075,   5.97060057e+075,   7.51825613e+075,\n",
       "         9.46708369e+075,   1.19210721e+076,   1.50111655e+076,\n",
       "         1.89022505e+076,   2.38019541e+076,   2.99717231e+076,\n",
       "         3.77407747e+076,   4.75236633e+076,   5.98424009e+076,\n",
       "         7.53543118e+076,   9.48871073e+076,   1.19483052e+077,\n",
       "         1.50454577e+077,   1.89454316e+077,   2.38563283e+077,\n",
       "         3.00401919e+077,   3.78269915e+077,   4.76322285e+077,\n",
       "         5.99791076e+077,   7.55264547e+077,   9.51038718e+077,\n",
       "         1.19756004e+078,   1.50798283e+078,   1.89887115e+078,\n",
       "         2.39108269e+078,   3.01088171e+078,   3.79134052e+078,\n",
       "         4.77410418e+078,   6.01161267e+078,   7.56989909e+078,\n",
       "         9.53211316e+078,   1.20029581e+079,   1.51142774e+079,\n",
       "         1.90320902e+079,   2.39654499e+079,   3.01775991e+079,\n",
       "         3.80000164e+079,   4.78501037e+079,   6.02534588e+079,\n",
       "         7.58719212e+079,   9.55388876e+079,   1.20303782e+080,\n",
       "         1.51488051e+080,   1.90755680e+080,   2.40201976e+080,\n",
       "         3.02465382e+080,   3.80868254e+080,   4.79594147e+080,\n",
       "         6.03911046e+080,   7.60452465e+080,   9.57571410e+080,\n",
       "         1.20578609e+081,   1.51834117e+081,   1.91191451e+081,\n",
       "         2.40750705e+081,   3.03156348e+081,   3.81738327e+081,\n",
       "         4.80689754e+081,   6.05290648e+081,   7.62189678e+081,\n",
       "         9.59758931e+081,   1.20854065e+082,   1.52180974e+082,\n",
       "         1.91628217e+082,   2.41300687e+082,   3.03848892e+082,\n",
       "         3.82610388e+082,   4.81787864e+082,   6.06673402e+082,\n",
       "         7.63930860e+082,   9.61951449e+082,   1.21130149e+083,\n",
       "         1.52528624e+083,   1.92065982e+083,   2.41851926e+083,\n",
       "         3.04543019e+083,   3.83484441e+083,   4.82888482e+083,\n",
       "         6.08059315e+083,   7.65676019e+083,   9.64148976e+083,\n",
       "         1.21406865e+084,   1.52877067e+084,   1.92504746e+084,\n",
       "         2.42404423e+084,   3.05238731e+084,   3.84360490e+084,\n",
       "         4.83991615e+084,   6.09448394e+084,   7.67425165e+084,\n",
       "         9.66351522e+084,   1.21684212e+085,   1.53226307e+085,\n",
       "         1.92944513e+085,   2.42958183e+085,   3.05936033e+085,\n",
       "         3.85238541e+085,   4.85097268e+085,   6.10840646e+085,\n",
       "         7.69178306e+085,   9.68559101e+085,   1.21962193e+086,\n",
       "         1.53576344e+086,   1.93385284e+086,   2.43513208e+086,\n",
       "         3.06634927e+086,   3.86118598e+086,   4.86205447e+086,\n",
       "         6.12236079e+086,   7.70935453e+086,   9.70771722e+086,\n",
       "         1.22240809e+087,   1.53927181e+087,   1.93827063e+087,\n",
       "         2.44069501e+087,   3.07335418e+087,   3.87000665e+087,\n",
       "         4.87316157e+087,   6.13634700e+087,   7.72696614e+087,\n",
       "         9.72989398e+087,   1.22520062e+088,   1.54278819e+088,\n",
       "         1.94269850e+088,   2.44627065e+088,   3.08037510e+088,\n",
       "         3.87884748e+088,   4.88429405e+088,   6.15036515e+088,\n",
       "         7.74461798e+088,   9.75212140e+088,   1.22799952e+089,\n",
       "         1.54631261e+089,   1.94713649e+089,   2.45185902e+089,\n",
       "         3.08741205e+089,   3.88770850e+089,   4.89545196e+089,\n",
       "         6.16441533e+089,   7.76231014e+089,   9.77439960e+089,\n",
       "         1.23080482e+090,   1.54984508e+090,   1.95158462e+090,\n",
       "         2.45746016e+090,   3.09446508e+090,   3.89658976e+090,\n",
       "         4.90663535e+090,   6.17849761e+090,   7.78004273e+090,\n",
       "         9.79672869e+090,   1.23361653e+091,   1.55338562e+091,\n",
       "         1.95604291e+091,   2.46307410e+091,   3.10153422e+091,\n",
       "         3.90549131e+091,   4.91784430e+091,   6.19261206e+091,\n",
       "         7.79781582e+091,   9.81910880e+091,   1.23643466e+092,\n",
       "         1.55693424e+092,   1.96051139e+092,   2.46870086e+092,\n",
       "         3.10861950e+092,   3.91441319e+092,   4.92907885e+092,\n",
       "         6.20675875e+092,   7.81562951e+092,   9.84154002e+092,\n",
       "         1.23925923e+093,   1.56049097e+093,   1.96499007e+093,\n",
       "         2.47434048e+093,   3.11572098e+093,   3.92335546e+093,\n",
       "         4.94033907e+093,   6.22093775e+093,   7.83348390e+093,\n",
       "         9.86402250e+093,   1.24209025e+094,   1.56405583e+094,\n",
       "         1.96947899e+094,   2.47999297e+094,   3.12283868e+094,\n",
       "         3.93231816e+094,   4.95162501e+094,   6.23514915e+094,\n",
       "         7.85137907e+094,   9.88655633e+094,   1.24492774e+095,\n",
       "         1.56762883e+095,   1.97397816e+095,   2.48565839e+095,\n",
       "         3.12997263e+095,   3.94130133e+095,   4.96293673e+095,\n",
       "         6.24939302e+095,   7.86931513e+095,   9.90914164e+095,\n",
       "         1.24777171e+096,   1.57121000e+096,   1.97848760e+096,\n",
       "         2.49133674e+096,   3.13712289e+096,   3.95030502e+096,\n",
       "         4.97427429e+096,   6.26366942e+096,   7.88729216e+096,\n",
       "         9.93177854e+096,   1.25062218e+097,   1.57479934e+097,\n",
       "         1.98300735e+097,   2.49702806e+097,   3.14428948e+097,\n",
       "         3.95932928e+097,   4.98563776e+097,   6.27797844e+097,\n",
       "         7.90531025e+097,   9.95446716e+097,   1.25347916e+098,\n",
       "         1.57839689e+098,   1.98753743e+098,   2.50273239e+098,\n",
       "         3.15147244e+098,   3.96837416e+098,   4.99702718e+098,\n",
       "         6.29232014e+098,   7.92336951e+098,   9.97720760e+098,\n",
       "         1.25634266e+099,   1.58200265e+099,   1.99207785e+099,\n",
       "         2.50844975e+099,   3.15867181e+099,   3.97743969e+099,\n",
       "         5.00844262e+099,   6.30669461e+099,   7.94147002e+099,\n",
       "         1.00000000e+100])"
      ]
     },
     "execution_count": 60,
     "metadata": {},
     "output_type": "execute_result"
    }
   ],
   "source": [
    "\n",
    "# stROMYZ.resample(1.0)\n",
    "# stROMY.resample(1.0)\n",
    "\n",
    "\n",
    "tau1 = 1e-3\n",
    "tau2 = 1e2\n",
    "taus = np.logspace(tau1, tau2, 1000)\n",
    "taus"
   ]
  },
  {
   "cell_type": "markdown",
   "metadata": {},
   "source": [
    "### Calculation of Allan deviation"
   ]
  },
  {
   "cell_type": "code",
   "execution_count": 61,
   "metadata": {
    "ExecuteTime": {
     "end_time": "2023-06-09T08:42:29.783594Z",
     "start_time": "2023-06-09T08:42:29.576062Z"
    }
   },
   "outputs": [],
   "source": [
    "(tZ, adZ, ade, adn) = al.adev(fjz[0].data, \n",
    "                              rate=fjz[0].stats.sampling_rate, \n",
    "                              data_type=\"freq\", \n",
    "                              taus=taus\n",
    "                             )\n",
    "# (tU, adU, ade, adn) = al.adev(stROMY.select(channel='BJU')[0].data, \n",
    "#                               rate=stROMY[0].stats.sampling_rate, \n",
    "#                               data_type=\"freq\", \n",
    "#                               taus=taus\n",
    "#                              )\n",
    "# (tV, adV, ade, adn) = al.adev(stROMY.select(channel='BJV')[0].data, \n",
    "#                               rate=stROMY[0].stats.sampling_rate, \n",
    "#                               data_type=\"freq\", \n",
    "#                               taus=taus\n",
    "#                              )\n",
    "# (tW, adW, ade, adn) = al.adev(stROMY.select(channel='BJW')[0].data, \n",
    "#                               rate=stROMY[0].stats.sampling_rate, \n",
    "#                               data_type=\"freq\", \n",
    "#                               taus=taus\n",
    "#                              )"
   ]
  },
  {
   "cell_type": "markdown",
   "metadata": {},
   "source": [
    "### Plotting"
   ]
  },
  {
   "cell_type": "code",
   "execution_count": 62,
   "metadata": {
    "ExecuteTime": {
     "end_time": "2023-06-09T08:42:29.787011Z",
     "start_time": "2023-06-09T08:42:29.784590Z"
    }
   },
   "outputs": [],
   "source": [
    "sizeOfFont = 16\n",
    "\n",
    "fontProperties = {'weight' : 'bold', 'size' : sizeOfFont}\n",
    "\n",
    "rc('font',**fontProperties)\n",
    "\n",
    "## colors\n",
    "c_a = (0,0,1)\n",
    "c_z = (0,0,0)\n",
    "c_v = (0,0,0)\n",
    "c_w = (0,0,0)\n",
    "c_u = (0,0,0)"
   ]
  },
  {
   "cell_type": "code",
   "execution_count": 65,
   "metadata": {
    "ExecuteTime": {
     "end_time": "2023-06-09T08:42:40.109289Z",
     "start_time": "2023-06-09T08:42:39.790836Z"
    }
   },
   "outputs": [
    {
     "data": {
      "text/plain": [
       "(1, 2000.0)"
      ]
     },
     "execution_count": 65,
     "metadata": {},
     "output_type": "execute_result"
    },
    {
     "data": {
      "text/plain": [
       "Text(0.5, 0, '$\\\\tau$ [s]')"
      ]
     },
     "execution_count": 65,
     "metadata": {},
     "output_type": "execute_result"
    },
    {
     "data": {
      "text/plain": [
       "Text(0, 0.5, '$\\\\sigma(\\\\tau)$ [rad/s]')"
      ]
     },
     "execution_count": 65,
     "metadata": {},
     "output_type": "execute_result"
    },
    {
     "data": {
      "image/png": "[encoded data removed]",
      "text/plain": [
       "<Figure size 432x432 with 1 Axes>"
      ]
     },
     "metadata": {
      "needs_background": "light"
     },
     "output_type": "display_data"
    }
   ],
   "source": [
    "\n",
    "fig = plt.figure(figsize=(6, 6))\n",
    "ax00 = plt.subplot2grid((1, 1), (0, 0))\n",
    "\n",
    "line_z, = ax00.loglog(tZ, adZ, color=c_z, linewidth=2, linestyle='-')\n",
    "# line_v, = ax00.loglog(tV, adV, color=c_v, linewidth=2, linestyle='--')\n",
    "# line_w, = ax00.loglog(tW, adW, color=c_w, linewidth=2, linestyle=':')\n",
    "# line_u, = ax00.loglog(tU, adU, color=c_u, linewidth=2, linestyle='-.')\n",
    "\n",
    "# ax00.set_ylim(1e-12, 1.5e-10)    \n",
    "ax00.set_xlim(1, 2e3)\n",
    "\n",
    "ax00.grid(which='major', color='k', alpha=0.4, linestyle='-')\n",
    "ax00.grid(which='minor', color='k', alpha=0.2, linestyle='--')\n",
    "\n",
    "ax00.tick_params(axis='x', which='major', direction='in', top=True)\n",
    "ax00.tick_params(axis='x', which='minor', direction='in', top=True)\n",
    "ax00.tick_params(axis='y', which='major', direction='in', right=True)\n",
    "ax00.tick_params(axis='y', which='minor', direction='in', right=True)\n",
    "\n",
    "ax00.set_xlabel(r'$\\tau$ [s]')\n",
    "ax00.set_ylabel(r'$\\sigma(\\tau)$ [rad/s]')\n",
    "\n",
    "# legend\n",
    "# lines = [line_z, line_v, line_w, line_u]\n",
    "# labels = ['Z',  'V', 'W', 'U']\n",
    "    \n",
    "# plt.legend(lines, labels,\n",
    "#             loc=(0.1, 0.1),\n",
    "#             bbox_transform=None,\n",
    "#             frameon=True,\n",
    "#             ncol = 1,\n",
    "#           )\n",
    "\n",
    "\n",
    "\n",
    "# plt.subplots_adjust(\n",
    "#                     top=0.98,\n",
    "#                     bottom=0.1,\n",
    "#                     left=0.15,\n",
    "#                     right=0.98,\n",
    "#                     hspace=0.05,\n",
    "#                     wspace=0.05,\n",
    "# )\n",
    "\n",
    "# plt.savefig(f'{path}adev_ROMY_single.png')\n",
    "\n",
    "plt.show()\n"
   ]
  },
  {
   "cell_type": "code",
   "execution_count": 64,
   "metadata": {
    "ExecuteTime": {
     "end_time": "2023-06-09T08:42:30.515400Z",
     "start_time": "2023-06-09T08:42:30.254328Z"
    }
   },
   "outputs": [
    {
     "data": {
      "text/plain": [
       "[<matplotlib.lines.Line2D at 0x7fe41c72f4d0>]"
      ]
     },
     "execution_count": 64,
     "metadata": {},
     "output_type": "execute_result"
    },
    {
     "data": {
      "image/png": "[encoded data removed]",
      "text/plain": [
       "<Figure size 432x288 with 1 Axes>"
      ]
     },
     "metadata": {
      "needs_background": "light"
     },
     "output_type": "display_data"
    }
   ],
   "source": [
    "plt.loglog(tZ, adZ)"
   ]
  },
  {
   "cell_type": "code",
   "execution_count": null,
   "metadata": {},
   "outputs": [],
   "source": []
  },
  {
   "cell_type": "code",
   "execution_count": null,
   "metadata": {},
   "outputs": [],
   "source": []
  },
  {
   "cell_type": "code",
   "execution_count": null,
   "metadata": {},
   "outputs": [],
   "source": []
  }
 ],
 "metadata": {
  "kernelspec": {
   "display_name": "Python 3",
   "language": "python",
   "name": "python3"
  },
  "language_info": {
   "codemirror_mode": {
    "name": "ipython",
    "version": 3
   },
   "file_extension": ".py",
   "mimetype": "text/x-python",
   "name": "python",
   "nbconvert_exporter": "python",
   "pygments_lexer": "ipython3",
   "version": "3.7.7"
  },
  "toc": {
   "base_numbering": 1,
   "nav_menu": {},
   "number_sections": true,
   "sideBar": true,
   "skip_h1_title": false,
   "title_cell": "Table of Contents",
   "title_sidebar": "Contents",
   "toc_cell": false,
   "toc_position": {},
   "toc_section_display": true,
   "toc_window_display": false
  }
 },
 "nbformat": 4,
 "nbformat_minor": 4
}
