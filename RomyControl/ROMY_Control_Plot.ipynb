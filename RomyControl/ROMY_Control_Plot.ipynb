{
 "cells": [
  {
   "cell_type": "markdown",
   "id": "deb45b14",
   "metadata": {},
   "source": [
    "# Plot RomyControl Parameters"
   ]
  },
  {
   "cell_type": "markdown",
   "id": "ce318f99",
   "metadata": {},
   "source": [
    "## Import Libraries"
   ]
  },
  {
   "cell_type": "code",
   "execution_count": 1,
   "id": "4b0e8bb6",
   "metadata": {},
   "outputs": [],
   "source": [
    "import pandas as pd\n",
    "import datetime\n",
    "import matplotlib.pyplot as plt\n",
    "import obspy\n",
    "import numpy as np\n",
    "\n",
    "from andbro__get_seconds import __get_seconds\n"
   ]
  },
  {
   "cell_type": "markdown",
   "id": "9f79fbca",
   "metadata": {},
   "source": [
    "## Configurations"
   ]
  },
  {
   "cell_type": "code",
   "execution_count": 86,
   "id": "30fb584c",
   "metadata": {},
   "outputs": [],
   "source": [
    "config = {}\n",
    "\n",
    "config['tbeg'] = \"2022-02-02\"\n",
    "config['tend'] = \"2022-02-03\"\n",
    "\n",
    "config['ring'] = \"RV\""
   ]
  },
  {
   "cell_type": "code",
   "execution_count": 87,
   "id": "12d8f9c5",
   "metadata": {
    "code_folding": [
     0
    ]
   },
   "outputs": [],
   "source": [
    "def __load_CROMY(start, end, ring=config['ring']):\n",
    "    \n",
    "    from obspy import UTCDateTime\n",
    "    from andbro__get_seconds import __get_seconds\n",
    "\n",
    "    tbeg = UTCDateTime(start)\n",
    "    tend = UTCDateTime(end)\n",
    "    \n",
    "    if tbeg.date.year != tend.date.year:\n",
    "        print(\"Error: Not same years!\")\n",
    "    \n",
    "    \n",
    "    for j, date in enumerate(np.arange(tbeg.date,(tend+86400).date)):\n",
    "\n",
    "        filename = f\"{str(date).replace('-','')}_control.txt\"\n",
    "        \n",
    "        path_to_files = f\"/import/freenas-ffb-01-data/romy_archive/{str(date)[:4]}/BW/CROMY/{ring}/\"\n",
    "        \n",
    "        try:\n",
    "            df0 = pd.read_csv(path_to_files+filename)\n",
    "\n",
    "            df0 = df0.iloc[::int(nth_row)]\n",
    "\n",
    "            if j == 0:\n",
    "                df = df0\n",
    "            else:\n",
    "                df = pd.concat([df, df0], ignore_index=True)\n",
    "        except: \n",
    "            print(f\"Failed to load {filename}\")\n",
    "            \n",
    "    ## add time axis\n",
    "    df['times'] = [__get_seconds(df.datetime[j], mode=\"of_year\") for j in range(df.datetime.size)]\n",
    "\n",
    "    return df"
   ]
  },
  {
   "cell_type": "code",
   "execution_count": 88,
   "id": "45444de0",
   "metadata": {
    "code_folding": [
     0
    ]
   },
   "outputs": [],
   "source": [
    "def __cut_dataframe(df, starttime, endtime, column_name_of_total_seconds=None):\n",
    "    \n",
    "    from andbro__get_seconds import __get_seconds\n",
    "\n",
    "    if column_name_of_total_seconds is not None:\n",
    "        tbeg_sec = __get_seconds(starttime, mode=\"of_year\")\n",
    "        tend_sec = __get_seconds(endtime, mode=\"of_year\")\n",
    "\n",
    "        df = df[(df[column_name_of_total_seconds] >= tbeg_sec) & (df[column_name_of_total_seconds] <= tend_sec)]\n",
    "    else:\n",
    "        print(\"Error\")\n",
    "    \n",
    "    df.reset_index(drop=True, inplace=True)\n",
    "    \n",
    "    return df"
   ]
  },
  {
   "cell_type": "code",
   "execution_count": 89,
   "id": "b89d65af",
   "metadata": {
    "code_folding": [
     0
    ]
   },
   "outputs": [],
   "source": [
    "def __makeplot_parameters2(df, roll_length=50):\n",
    "    \n",
    "    \n",
    "    from obspy import UTCDateTime\n",
    "\n",
    "    N = int(df.datetime.size-1)\n",
    "    xdays = (UTCDateTime(df.datetime[N]) - UTCDateTime(df.datetime[0])) / 86400\n",
    "\n",
    "    if xdays > 2: \n",
    "        timeaxis = np.array((df.times-df.times[0])/86400)\n",
    "        timeunit = \"days\"\n",
    "        \n",
    "    else:\n",
    "        timeaxis = np.array((df.times-df.times[0])/3600)\n",
    "        timeunit = \"hours\"\n",
    "    \n",
    "    ## plotting -----------------------------\n",
    "    \n",
    "    N = 3\n",
    "    font = 12\n",
    "    \n",
    "    fig, ax = plt.subplots(N,1,figsize=(15,8), sharex=True)\n",
    "    \n",
    "    ax[0].plot(timeaxis, df.F0.rolling(roll_length).mean(), lw=0.7, alpha=0.8, color='grey', zorder=2)\n",
    "    ax[0].scatter(timeaxis, df.F0, s=0.5, color='darkred', zorder=3)\n",
    "#     ax[0].semilogy(timeaxis, df.F0.rolling(roll_length).mean(), color='darkred', zorder=2)\n",
    "    \n",
    "    ax[1].plot(timeaxis, df.AC.rolling(roll_length).mean(), lw=0.7, alpha=0.8, color='grey', zorder=2)\n",
    "    ax[1].scatter(timeaxis, df.AC, s=0.5, color='darkgreen', zorder=3)\n",
    "#     ax[1].semilogy(timeaxis, df.AC.rolling(roll_length).mean(), color='darkgreen', zorder=2)\n",
    "    \n",
    "    ax[2].plot(timeaxis, df.DC.rolling(roll_length).mean(), lw=0.7, alpha=0.8, color='grey', zorder=2)\n",
    "    ax[2].scatter(timeaxis, df.DC, s=0.5, color='darkblue', zorder=3)\n",
    "#     ax[2].semilogy(timeaxis, df.DC.rolling(roll_length).mean(), color='darkblue', zorder=2)\n",
    "   \n",
    "    \n",
    "    ax[0].set_ylabel(\"F0 (Hz)\", fontsize=font)\n",
    "    ax[1].set_ylabel(\"AC (V)\", fontsize=font)\n",
    "    ax[2].set_ylabel(\"DC (V)\", fontsize=font)\n",
    "    ax[N-1].set_xlabel(f\"Time ({timeunit}) from {df.datetime[0][:10]} {df.datetime[0][11:]} UTC\", fontsize=font)\n",
    "    \n",
    "    for i in range(N):\n",
    "        ax[i].set_xlim(np.array(timeaxis[0]), timeaxis[-1])\n",
    "        ax[i].grid(alpha=0.7, zorder=0, ls=\":\", color=\"grey\")\n",
    "\n",
    "    return fig"
   ]
  },
  {
   "cell_type": "code",
   "execution_count": 90,
   "id": "5c567915",
   "metadata": {
    "code_folding": [
     0
    ]
   },
   "outputs": [
    {
     "data": {
      "text/html": [
       "<div>\n",
       "<style scoped>\n",
       "    .dataframe tbody tr th:only-of-type {\n",
       "        vertical-align: middle;\n",
       "    }\n",
       "\n",
       "    .dataframe tbody tr th {\n",
       "        vertical-align: top;\n",
       "    }\n",
       "\n",
       "    .dataframe thead th {\n",
       "        text-align: right;\n",
       "    }\n",
       "</style>\n",
       "<table border=\"1\" class=\"dataframe\">\n",
       "  <thead>\n",
       "    <tr style=\"text-align: right;\">\n",
       "      <th></th>\n",
       "      <th>datetime</th>\n",
       "      <th>AC</th>\n",
       "      <th>DC</th>\n",
       "      <th>F0</th>\n",
       "      <th>ACmean</th>\n",
       "      <th>DCmean</th>\n",
       "      <th>times</th>\n",
       "    </tr>\n",
       "  </thead>\n",
       "  <tbody>\n",
       "    <tr>\n",
       "      <th>0</th>\n",
       "      <td>2022-02-02T00:00:00</td>\n",
       "      <td>1.76</td>\n",
       "      <td>1.04</td>\n",
       "      <td>446.93</td>\n",
       "      <td>1.759</td>\n",
       "      <td>1.039</td>\n",
       "      <td>2851200.0</td>\n",
       "    </tr>\n",
       "    <tr>\n",
       "      <th>1</th>\n",
       "      <td>2022-02-02T00:00:01</td>\n",
       "      <td>1.75</td>\n",
       "      <td>1.03</td>\n",
       "      <td>447.60</td>\n",
       "      <td>1.759</td>\n",
       "      <td>1.038</td>\n",
       "      <td>2851201.0</td>\n",
       "    </tr>\n",
       "    <tr>\n",
       "      <th>2</th>\n",
       "      <td>2022-02-02T00:00:02</td>\n",
       "      <td>1.77</td>\n",
       "      <td>1.04</td>\n",
       "      <td>447.35</td>\n",
       "      <td>1.760</td>\n",
       "      <td>1.038</td>\n",
       "      <td>2851202.0</td>\n",
       "    </tr>\n",
       "    <tr>\n",
       "      <th>3</th>\n",
       "      <td>2022-02-02T00:00:03</td>\n",
       "      <td>1.75</td>\n",
       "      <td>1.03</td>\n",
       "      <td>447.35</td>\n",
       "      <td>1.759</td>\n",
       "      <td>1.038</td>\n",
       "      <td>2851203.0</td>\n",
       "    </tr>\n",
       "    <tr>\n",
       "      <th>4</th>\n",
       "      <td>2022-02-02T00:00:04</td>\n",
       "      <td>1.73</td>\n",
       "      <td>1.04</td>\n",
       "      <td>447.35</td>\n",
       "      <td>1.757</td>\n",
       "      <td>1.038</td>\n",
       "      <td>2851204.0</td>\n",
       "    </tr>\n",
       "    <tr>\n",
       "      <th>...</th>\n",
       "      <td>...</td>\n",
       "      <td>...</td>\n",
       "      <td>...</td>\n",
       "      <td>...</td>\n",
       "      <td>...</td>\n",
       "      <td>...</td>\n",
       "      <td>...</td>\n",
       "    </tr>\n",
       "    <tr>\n",
       "      <th>71625</th>\n",
       "      <td>2022-02-03T09:59:58</td>\n",
       "      <td>1.71</td>\n",
       "      <td>1.03</td>\n",
       "      <td>447.35</td>\n",
       "      <td>1.703</td>\n",
       "      <td>1.032</td>\n",
       "      <td>2973598.0</td>\n",
       "    </tr>\n",
       "    <tr>\n",
       "      <th>71626</th>\n",
       "      <td>2022-02-03T09:59:59</td>\n",
       "      <td>1.71</td>\n",
       "      <td>1.04</td>\n",
       "      <td>447.60</td>\n",
       "      <td>1.704</td>\n",
       "      <td>1.032</td>\n",
       "      <td>2973599.0</td>\n",
       "    </tr>\n",
       "    <tr>\n",
       "      <th>71627</th>\n",
       "      <td>2022-02-03T10:00:00</td>\n",
       "      <td>1.70</td>\n",
       "      <td>1.03</td>\n",
       "      <td>446.93</td>\n",
       "      <td>1.704</td>\n",
       "      <td>1.033</td>\n",
       "      <td>2973600.0</td>\n",
       "    </tr>\n",
       "    <tr>\n",
       "      <th>71628</th>\n",
       "      <td>2022-02-03T10:00:01</td>\n",
       "      <td>1.71</td>\n",
       "      <td>1.03</td>\n",
       "      <td>447.35</td>\n",
       "      <td>1.705</td>\n",
       "      <td>1.033</td>\n",
       "      <td>2973601.0</td>\n",
       "    </tr>\n",
       "    <tr>\n",
       "      <th>71629</th>\n",
       "      <td>2022-02-03T10:00:02</td>\n",
       "      <td>1.68</td>\n",
       "      <td>1.04</td>\n",
       "      <td>447.35</td>\n",
       "      <td>1.702</td>\n",
       "      <td>1.033</td>\n",
       "      <td>2973602.0</td>\n",
       "    </tr>\n",
       "  </tbody>\n",
       "</table>\n",
       "<p>71630 rows × 7 columns</p>\n",
       "</div>"
      ],
      "text/plain": [
       "                  datetime    AC    DC      F0  ACmean  DCmean      times\n",
       "0      2022-02-02T00:00:00  1.76  1.04  446.93   1.759   1.039  2851200.0\n",
       "1      2022-02-02T00:00:01  1.75  1.03  447.60   1.759   1.038  2851201.0\n",
       "2      2022-02-02T00:00:02  1.77  1.04  447.35   1.760   1.038  2851202.0\n",
       "3      2022-02-02T00:00:03  1.75  1.03  447.35   1.759   1.038  2851203.0\n",
       "4      2022-02-02T00:00:04  1.73  1.04  447.35   1.757   1.038  2851204.0\n",
       "...                    ...   ...   ...     ...     ...     ...        ...\n",
       "71625  2022-02-03T09:59:58  1.71  1.03  447.35   1.703   1.032  2973598.0\n",
       "71626  2022-02-03T09:59:59  1.71  1.04  447.60   1.704   1.032  2973599.0\n",
       "71627  2022-02-03T10:00:00  1.70  1.03  446.93   1.704   1.033  2973600.0\n",
       "71628  2022-02-03T10:00:01  1.71  1.03  447.35   1.705   1.033  2973601.0\n",
       "71629  2022-02-03T10:00:02  1.68  1.04  447.35   1.702   1.033  2973602.0\n",
       "\n",
       "[71630 rows x 7 columns]"
      ]
     },
     "execution_count": 90,
     "metadata": {},
     "output_type": "execute_result"
    }
   ],
   "source": [
    "df = __load_CROMY(config['tbeg'], config['tend'], ring=config['ring'])\n",
    "df"
   ]
  },
  {
   "cell_type": "code",
   "execution_count": 91,
   "id": "61f59af2",
   "metadata": {
    "code_folding": [
     0
    ]
   },
   "outputs": [],
   "source": [
    "# df_sel = __cut_dataframe(df, \"2021-12-22 00:00\", \"2021-12-22 15:00\", column_name_of_total_seconds=\"times\")   \n",
    "# df_sel"
   ]
  },
  {
   "cell_type": "markdown",
   "id": "c10012be",
   "metadata": {},
   "source": [
    "## Plot"
   ]
  },
  {
   "cell_type": "code",
   "execution_count": 92,
   "id": "29acfdbc",
   "metadata": {
    "code_folding": [
     0
    ]
   },
   "outputs": [
    {
     "data": {
      "image/png": "[encoded data removed]",
      "text/plain": [
       "<Figure size 1080x576 with 3 Axes>"
      ]
     },
     "metadata": {
      "needs_background": "light"
     },
     "output_type": "display_data"
    }
   ],
   "source": [
    "fig = __makeplot_parameters2(df, roll_length=1)"
   ]
  },
  {
   "cell_type": "code",
   "execution_count": null,
   "id": "4b602fa7",
   "metadata": {},
   "outputs": [],
   "source": []
  }
 ],
 "metadata": {
  "kernelspec": {
   "display_name": "Python 3",
   "language": "python",
   "name": "python3"
  },
  "language_info": {
   "codemirror_mode": {
    "name": "ipython",
    "version": 3
   },
   "file_extension": ".py",
   "mimetype": "text/x-python",
   "name": "python",
   "nbconvert_exporter": "python",
   "pygments_lexer": "ipython3",
   "version": "3.7.7"
  }
 },
 "nbformat": 4,
 "nbformat_minor": 5
}
