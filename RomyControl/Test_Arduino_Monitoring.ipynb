{
 "cells": [
  {
   "cell_type": "markdown",
   "id": "62ef25b3",
   "metadata": {},
   "source": [
    "## Testing Arduino / BeagleBone monitoring"
   ]
  },
  {
   "cell_type": "code",
   "execution_count": 1,
   "id": "d61a42c0",
   "metadata": {
    "ExecuteTime": {
     "end_time": "2021-11-19T11:49:17.390501Z",
     "start_time": "2021-11-19T11:49:17.062343Z"
    }
   },
   "outputs": [],
   "source": [
    "import numpy as np\n",
    "import matplotlib.pyplot as plt"
   ]
  },
  {
   "cell_type": "code",
   "execution_count": 13,
   "id": "15e8dd46",
   "metadata": {
    "ExecuteTime": {
     "end_time": "2021-11-19T11:51:59.175124Z",
     "start_time": "2021-11-19T11:51:59.148625Z"
    }
   },
   "outputs": [],
   "source": [
    "T = 160\n",
    "dt = 1/5000\n",
    "N = int(T/dt)\n",
    "f0 = 550\n",
    "\n",
    "\n",
    "timeline = np.arange(0, T, dt)\n",
    "\n",
    "high = 1\n",
    "low =  0\n",
    "\n",
    "a1 = high*np.ones(int(N/5))\n",
    "a2 = np.linspace(high, low, int(N/10)) \n",
    "a3 = low*np.ones(int(N/5)) \n",
    "a4 = np.linspace(low, high, int(N/5))\n",
    "a5 = high*np.ones(int(N/5))\n",
    "a6 = np.zeros(int(N/10))\n",
    "\n",
    "amp = np.concatenate([a1, a2, a3, a4, a5, a6])\n",
    "\n",
    "signal = amp * np.sin(2*np.pi*f0*timeline) + 2 "
   ]
  },
  {
   "cell_type": "code",
   "execution_count": 14,
   "id": "f1aee4ec",
   "metadata": {
    "ExecuteTime": {
     "end_time": "2021-11-19T11:51:59.639608Z",
     "start_time": "2021-11-19T11:51:59.404980Z"
    }
   },
   "outputs": [
    {
     "data": {
      "text/plain": [
       "[<matplotlib.lines.Line2D at 0x7fb54692cc50>]"
      ]
     },
     "execution_count": 14,
     "metadata": {},
     "output_type": "execute_result"
    },
    {
     "data": {
      "image/png": "[encoded data removed]",
      "text/plain": [
       "<Figure size 432x288 with 1 Axes>"
      ]
     },
     "metadata": {
      "needs_background": "light"
     },
     "output_type": "display_data"
    }
   ],
   "source": [
    "plt.plot(timeline, signal)"
   ]
  },
  {
   "cell_type": "code",
   "execution_count": 60,
   "id": "7f800cc6",
   "metadata": {
    "ExecuteTime": {
     "end_time": "2021-11-19T12:14:20.958795Z",
     "start_time": "2021-11-19T12:13:57.745517Z"
    }
   },
   "outputs": [
    {
     "data": {
      "image/png": "[encoded data removed]",
      "text/plain": [
       "<Figure size 504x360 with 1 Axes>"
      ]
     },
     "metadata": {
      "needs_background": "light"
     },
     "output_type": "display_data"
    }
   ],
   "source": [
    "from andbro__livePlot import live_plot\n",
    "\n",
    "evaluating = 5000\n",
    "sigma_threshold = 0.1\n",
    "\n",
    "average = [] \n",
    "sigma = []\n",
    "\n",
    "array = np.zeros(int(f0/10))\n",
    "\n",
    "times = timeline[::evaluating]\n",
    "\n",
    "\n",
    "\n",
    "for i in range(N): \n",
    "    \n",
    "    array = np.delete(array, (0), axis=0)\n",
    "    array = np.append(array, signal[i])\n",
    "    \n",
    "    if i%evaluating == 0:\n",
    "        sigma.append(np.std(array))\n",
    "        average.append(np.mean(array))\n",
    "        \n",
    "        live_plot(np.arange(len(sigma)), sigma)\n",
    "\n",
    "#         if np.std(array) < sigma_threshold:\n",
    "#             print('Alarm')"
   ]
  },
  {
   "cell_type": "code",
   "execution_count": null,
   "id": "3627d6af",
   "metadata": {
    "ExecuteTime": {
     "end_time": "2021-11-19T12:06:41.478329Z",
     "start_time": "2021-11-19T12:06:32.389Z"
    }
   },
   "outputs": [],
   "source": [
    "times = timeline[::evaluating]\n",
    "\n",
    "fig, ax = plt.subplots(1, 2, figsize=(15,5))\n",
    "\n",
    "ax[0].scatter(times, average, color='k', s=0.2)\n",
    "ax[1].scatter(times, sigma, color='k', s=0.2)"
   ]
  },
  {
   "cell_type": "code",
   "execution_count": null,
   "id": "8c8c328f",
   "metadata": {},
   "outputs": [],
   "source": []
  }
 ],
 "metadata": {
  "kernelspec": {
   "display_name": "Python 3 (ipykernel)",
   "language": "python",
   "name": "python3"
  },
  "language_info": {
   "codemirror_mode": {
    "name": "ipython",
    "version": 3
   },
   "file_extension": ".py",
   "mimetype": "text/x-python",
   "name": "python",
   "nbconvert_exporter": "python",
   "pygments_lexer": "ipython3",
   "version": "3.7.8"
  },
  "toc": {
   "base_numbering": 1,
   "nav_menu": {},
   "number_sections": true,
   "sideBar": true,
   "skip_h1_title": false,
   "title_cell": "Table of Contents",
   "title_sidebar": "Contents",
   "toc_cell": false,
   "toc_position": {},
   "toc_section_display": true,
   "toc_window_display": false
  },
  "varInspector": {
   "cols": {
    "lenName": 16,
    "lenType": 16,
    "lenVar": 40
   },
   "kernels_config": {
    "python": {
     "delete_cmd_postfix": "",
     "delete_cmd_prefix": "del ",
     "library": "var_list.py",
     "varRefreshCmd": "print(var_dic_list())"
    },
    "r": {
     "delete_cmd_postfix": ") ",
     "delete_cmd_prefix": "rm(",
     "library": "var_list.r",
     "varRefreshCmd": "cat(var_dic_list()) "
    }
   },
   "types_to_exclude": [
    "module",
    "function",
    "builtin_function_or_method",
    "instance",
    "_Feature"
   ],
   "window_display": false
  }
 },
 "nbformat": 4,
 "nbformat_minor": 5
}
