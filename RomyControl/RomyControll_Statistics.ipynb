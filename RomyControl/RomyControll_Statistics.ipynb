{
 "cells": [
  {
   "cell_type": "markdown",
   "id": "deb45b14",
   "metadata": {},
   "source": [
    "# Plot RomyControl Statistics"
   ]
  },
  {
   "cell_type": "markdown",
   "id": "ce318f99",
   "metadata": {},
   "source": [
    "## Import Libraries"
   ]
  },
  {
   "cell_type": "code",
   "execution_count": 1,
   "id": "4b0e8bb6",
   "metadata": {
    "ExecuteTime": {
     "end_time": "2023-05-30T14:23:36.409486Z",
     "start_time": "2023-05-30T14:23:35.385853Z"
    }
   },
   "outputs": [],
   "source": [
    "import pandas as pd\n",
    "import datetime\n",
    "import matplotlib.pyplot as plt\n",
    "import obspy\n",
    "import numpy as np"
   ]
  },
  {
   "cell_type": "markdown",
   "id": "9f79fbca",
   "metadata": {},
   "source": [
    "## Configurations"
   ]
  },
  {
   "cell_type": "code",
   "execution_count": 2,
   "id": "4493ba96",
   "metadata": {
    "ExecuteTime": {
     "end_time": "2023-05-30T14:23:36.769748Z",
     "start_time": "2023-05-30T14:23:36.766085Z"
    }
   },
   "outputs": [],
   "source": [
    "path_to_file = f\"/import/freenas-ffb-01-data/romy_archive/2022/BW/CROMY/\"\n",
    "filename = \"romy_control.log\""
   ]
  },
  {
   "cell_type": "markdown",
   "id": "57159bc4",
   "metadata": {},
   "source": [
    "## Load Data"
   ]
  },
  {
   "cell_type": "code",
   "execution_count": 3,
   "id": "1eb66b48",
   "metadata": {},
   "outputs": [],
   "source": [
    "df = pd.read_csv(path_to_file+filename, names=['timestamp', 'comment'])"
   ]
  },
  {
   "cell_type": "markdown",
   "id": "4f684394",
   "metadata": {},
   "source": [
    "## Processing"
   ]
  },
  {
   "cell_type": "code",
   "execution_count": 4,
   "id": "7995e650",
   "metadata": {},
   "outputs": [],
   "source": [
    "mlti = df[df.comment.str.contains(\"ACTION\", na=False)]\n",
    "mlti.reset_index(drop=True, inplace=True)\n",
    "mlti = mlti.assign(date = mlti.timestamp.str.split(\"T\").str[0])\n",
    "mlti = mlti.assign(time = mlti.timestamp.str.split(\"T\").str[1])\n",
    "\n",
    "mlti['num'] = np.ones(len(mlti))"
   ]
  },
  {
   "cell_type": "code",
   "execution_count": 5,
   "id": "975a3350",
   "metadata": {},
   "outputs": [],
   "source": [
    "actions = mlti.groupby(['date'])['num'].sum().reset_index()"
   ]
  },
  {
   "cell_type": "code",
   "execution_count": 6,
   "id": "1bf60149",
   "metadata": {},
   "outputs": [
    {
     "data": {
      "text/html": [
       "<div>\n",
       "<style scoped>\n",
       "    .dataframe tbody tr th:only-of-type {\n",
       "        vertical-align: middle;\n",
       "    }\n",
       "\n",
       "    .dataframe tbody tr th {\n",
       "        vertical-align: top;\n",
       "    }\n",
       "\n",
       "    .dataframe thead th {\n",
       "        text-align: right;\n",
       "    }\n",
       "</style>\n",
       "<table border=\"1\" class=\"dataframe\">\n",
       "  <thead>\n",
       "    <tr style=\"text-align: right;\">\n",
       "      <th></th>\n",
       "      <th>timestamp</th>\n",
       "      <th>comment</th>\n",
       "      <th>date</th>\n",
       "      <th>time</th>\n",
       "      <th>num</th>\n",
       "      <th>time_diff</th>\n",
       "    </tr>\n",
       "  </thead>\n",
       "  <tbody>\n",
       "    <tr>\n",
       "      <th>0</th>\n",
       "      <td>2021-12-16T18:30:34.051341</td>\n",
       "      <td>ACTION: inciated MLTI due to low AC value!</td>\n",
       "      <td>2021-12-16</td>\n",
       "      <td>18:30:34.051341</td>\n",
       "      <td>1.0</td>\n",
       "      <td>0</td>\n",
       "    </tr>\n",
       "    <tr>\n",
       "      <th>1</th>\n",
       "      <td>2021-12-17T12:37:08.863364</td>\n",
       "      <td>ACTION: inciated MLTI due to low AC value!</td>\n",
       "      <td>2021-12-17</td>\n",
       "      <td>12:37:08.863364</td>\n",
       "      <td>1.0</td>\n",
       "      <td>65194.8</td>\n",
       "    </tr>\n",
       "    <tr>\n",
       "      <th>2</th>\n",
       "      <td>2021-12-18T01:23:01.984495</td>\n",
       "      <td>ACTION: inciated MLTI due to low AC value!</td>\n",
       "      <td>2021-12-18</td>\n",
       "      <td>01:23:01.984495</td>\n",
       "      <td>1.0</td>\n",
       "      <td>45953.1</td>\n",
       "    </tr>\n",
       "    <tr>\n",
       "      <th>3</th>\n",
       "      <td>2021-12-18T04:21:21.184703</td>\n",
       "      <td>ACTION: inciated MLTI due to low AC value!</td>\n",
       "      <td>2021-12-18</td>\n",
       "      <td>04:21:21.184703</td>\n",
       "      <td>1.0</td>\n",
       "      <td>10699.2</td>\n",
       "    </tr>\n",
       "    <tr>\n",
       "      <th>4</th>\n",
       "      <td>2021-12-18T13:25:58.827577</td>\n",
       "      <td>ACTION: inciated MLTI due to low AC value!</td>\n",
       "      <td>2021-12-18</td>\n",
       "      <td>13:25:58.827577</td>\n",
       "      <td>1.0</td>\n",
       "      <td>32677.6</td>\n",
       "    </tr>\n",
       "    <tr>\n",
       "      <th>...</th>\n",
       "      <td>...</td>\n",
       "      <td>...</td>\n",
       "      <td>...</td>\n",
       "      <td>...</td>\n",
       "      <td>...</td>\n",
       "      <td>...</td>\n",
       "    </tr>\n",
       "    <tr>\n",
       "      <th>1054</th>\n",
       "      <td>2022-02-02T06:53:13.333212</td>\n",
       "      <td>ACTION: inciated MLTI due to low AC value!</td>\n",
       "      <td>2022-02-02</td>\n",
       "      <td>06:53:13.333212</td>\n",
       "      <td>1.0</td>\n",
       "      <td>60.0374</td>\n",
       "    </tr>\n",
       "    <tr>\n",
       "      <th>1055</th>\n",
       "      <td>2022-02-02T06:54:17.800317</td>\n",
       "      <td>ACTION: inciated MLTI due to low AC value!</td>\n",
       "      <td>2022-02-02</td>\n",
       "      <td>06:54:17.800317</td>\n",
       "      <td>1.0</td>\n",
       "      <td>64.4671</td>\n",
       "    </tr>\n",
       "    <tr>\n",
       "      <th>1056</th>\n",
       "      <td>2022-02-02T06:55:18.346231</td>\n",
       "      <td>ACTION: inciated MLTI due to low AC value!</td>\n",
       "      <td>2022-02-02</td>\n",
       "      <td>06:55:18.346231</td>\n",
       "      <td>1.0</td>\n",
       "      <td>60.5459</td>\n",
       "    </tr>\n",
       "    <tr>\n",
       "      <th>1057</th>\n",
       "      <td>2022-02-03T08:48:34.877379</td>\n",
       "      <td>ACTION: inciated MLTI due to low AC value!</td>\n",
       "      <td>2022-02-03</td>\n",
       "      <td>08:48:34.877379</td>\n",
       "      <td>1.0</td>\n",
       "      <td>93196.5</td>\n",
       "    </tr>\n",
       "    <tr>\n",
       "      <th>1058</th>\n",
       "      <td>2022-02-03T08:49:34.948789</td>\n",
       "      <td>ACTION: inciated MLTI due to low AC value!</td>\n",
       "      <td>2022-02-03</td>\n",
       "      <td>08:49:34.948789</td>\n",
       "      <td>1.0</td>\n",
       "      <td>60.0714</td>\n",
       "    </tr>\n",
       "  </tbody>\n",
       "</table>\n",
       "<p>1059 rows × 6 columns</p>\n",
       "</div>"
      ],
      "text/plain": [
       "                       timestamp                                     comment  \\\n",
       "0     2021-12-16T18:30:34.051341  ACTION: inciated MLTI due to low AC value!   \n",
       "1     2021-12-17T12:37:08.863364  ACTION: inciated MLTI due to low AC value!   \n",
       "2     2021-12-18T01:23:01.984495  ACTION: inciated MLTI due to low AC value!   \n",
       "3     2021-12-18T04:21:21.184703  ACTION: inciated MLTI due to low AC value!   \n",
       "4     2021-12-18T13:25:58.827577  ACTION: inciated MLTI due to low AC value!   \n",
       "...                          ...                                         ...   \n",
       "1054  2022-02-02T06:53:13.333212  ACTION: inciated MLTI due to low AC value!   \n",
       "1055  2022-02-02T06:54:17.800317  ACTION: inciated MLTI due to low AC value!   \n",
       "1056  2022-02-02T06:55:18.346231  ACTION: inciated MLTI due to low AC value!   \n",
       "1057  2022-02-03T08:48:34.877379  ACTION: inciated MLTI due to low AC value!   \n",
       "1058  2022-02-03T08:49:34.948789  ACTION: inciated MLTI due to low AC value!   \n",
       "\n",
       "            date             time  num time_diff  \n",
       "0     2021-12-16  18:30:34.051341  1.0         0  \n",
       "1     2021-12-17  12:37:08.863364  1.0   65194.8  \n",
       "2     2021-12-18  01:23:01.984495  1.0   45953.1  \n",
       "3     2021-12-18  04:21:21.184703  1.0   10699.2  \n",
       "4     2021-12-18  13:25:58.827577  1.0   32677.6  \n",
       "...          ...              ...  ...       ...  \n",
       "1054  2022-02-02  06:53:13.333212  1.0   60.0374  \n",
       "1055  2022-02-02  06:54:17.800317  1.0   64.4671  \n",
       "1056  2022-02-02  06:55:18.346231  1.0   60.5459  \n",
       "1057  2022-02-03  08:48:34.877379  1.0   93196.5  \n",
       "1058  2022-02-03  08:49:34.948789  1.0   60.0714  \n",
       "\n",
       "[1059 rows x 6 columns]"
      ]
     },
     "execution_count": 6,
     "metadata": {},
     "output_type": "execute_result"
    }
   ],
   "source": [
    "from obspy import UTCDateTime\n",
    "\n",
    "tdist = mlti\n",
    "\n",
    "## calculate differences in MLTI times\n",
    "tt = [UTCDateTime(str(t)) for t in mlti.timestamp]\n",
    "tdist['time_diff'] = np.diff(tt, prepend=tt[0])\n",
    "tdist\n",
    "\n",
    "## remove super large values\n",
    "max_time_to_next_mlti = 1e6\n",
    "tdist['time_diff'].where(tdist['time_diff'] <= max_time_to_next_mlti, np.nan, inplace=True)\n"
   ]
  },
  {
   "cell_type": "markdown",
   "id": "c10012be",
   "metadata": {},
   "source": [
    "## Plotting"
   ]
  },
  {
   "cell_type": "code",
   "execution_count": 7,
   "id": "4b602fa7",
   "metadata": {
    "code_folding": [
     0
    ]
   },
   "outputs": [],
   "source": [
    "def __makeplot_bar(config):\n",
    "    \n",
    "    '''\n",
    "    Config: \n",
    "        - xdata\n",
    "        - ydata\n",
    "        - xth\n",
    "        - ylabel\n",
    "        - title\n",
    "        \n",
    "    '''\n",
    "    \n",
    "    \n",
    "    # Creating histogram\n",
    "    fig, ax = plt.subplots(1, 1, figsize =(12, 5), tight_layout = True)\n",
    "\n",
    "    NN = len(config['xdata'])\n",
    "\n",
    "    # Remove axes splines\n",
    "    for s in ['top', 'bottom', 'left', 'right']:\n",
    "        ax.spines[s].set_visible(False)\n",
    "\n",
    "    # Remove x, y ticks\n",
    "    ax.xaxis.set_ticks_position('none')\n",
    "    ax.yaxis.set_ticks_position('none')\n",
    "\n",
    "    # Add padding between axes and labels\n",
    "    ax.xaxis.set_tick_params(pad = 5)\n",
    "    ax.yaxis.set_tick_params(pad = 10)\n",
    "\n",
    "    # Add x, y gridlines\n",
    "    ax.grid(b = True, color ='grey', linestyle ='-.', linewidth = 0.5, alpha = 0.6, zorder=0)\n",
    "\n",
    "\n",
    "    # Creating histogram\n",
    "    bars = range(0, NN)\n",
    "    ax.bar(bars, config['ydata'], width=0.8, align='center', alpha=0.9)\n",
    "\n",
    "\n",
    "    # Set ticks\n",
    "    datelabel = config['xdata'][::config['xth']]\n",
    "    dateticks = bars[::config['xth']]\n",
    "\n",
    "    ax.set_xticklabels(datelabel)\n",
    "    ax.set_xticks(dateticks)\n",
    "\n",
    "\n",
    "    # Adding extra features   \n",
    "    plt.ylabel(config['ylabel'])\n",
    "    plt.title(config['title'])\n",
    "              \n",
    "    # Show plot\n",
    "    plt.show();\n",
    "\n",
    "    return fig"
   ]
  },
  {
   "cell_type": "code",
   "execution_count": 8,
   "id": "1f29011b",
   "metadata": {},
   "outputs": [
    {
     "data": {
      "image/png": "[encoded data removed]",
      "text/plain": [
       "<Figure size 864x360 with 1 Axes>"
      ]
     },
     "metadata": {
      "needs_background": "light"
     },
     "output_type": "display_data"
    }
   ],
   "source": [
    "conf = {}\n",
    "\n",
    "conf['xdata'] = actions.date\n",
    "conf['ydata'] = actions.num\n",
    "conf['ring'] = \"RV\"\n",
    "conf['title'] = f\"MLTI Initiations for {conf['ring']} from {actions.date.iloc[0]} -- {actions.date.iloc[-1]}\"\n",
    "conf['ylabel'] = \"# MLTI Initiations per day\"\n",
    "conf['xth'] = 5\n",
    "\n",
    "\n",
    "__makeplot_bar(conf);"
   ]
  },
  {
   "cell_type": "code",
   "execution_count": 9,
   "id": "79bb556d",
   "metadata": {
    "code_folding": [
     0
    ]
   },
   "outputs": [],
   "source": [
    "def __makeplot_histogram(config):\n",
    "    \n",
    "    '''\n",
    "    Config: \n",
    "        - ydata\n",
    "        - bars\n",
    "        - xth\n",
    "        - ylabel\n",
    "        - title\n",
    "        - xlogscale\n",
    "        - ylogscale\n",
    "        \n",
    "    '''\n",
    "    \n",
    "    \n",
    "    # Creating histogram\n",
    "    fig, ax = plt.subplots(1, 1, figsize =(12, 5), tight_layout = True)\n",
    "\n",
    "#     NN = len(config['xdata'])\n",
    "\n",
    "    # Remove axes splines\n",
    "    for s in ['top', 'bottom', 'left', 'right']:\n",
    "        ax.spines[s].set_visible(False)\n",
    "\n",
    "    # Remove x, y ticks\n",
    "    ax.xaxis.set_ticks_position('none')\n",
    "    ax.yaxis.set_ticks_position('none')\n",
    "\n",
    "    # Add padding between axes and labels\n",
    "    ax.xaxis.set_tick_params(pad = 5)\n",
    "    ax.yaxis.set_tick_params(pad = 10)\n",
    "\n",
    "    # Add x, y gridlines\n",
    "    ax.grid(b=True, color='grey', linestyle='-.', linewidth=0.5, alpha=0.6, zorder=0)\n",
    "\n",
    "\n",
    "    # Creating histogram\n",
    "    if config['xlogscale']:\n",
    "        config['bins'] = 10 ** np.linspace(np.log10(60), np.log10(max(config['ydata'])), config['bins'])\n",
    "        ax.set_xscale('log')\n",
    "    if config['ylogscale']:\n",
    "        ax.set_yscale('log')\n",
    "        \n",
    "    ax.hist(config['ydata'], bins=config['bins'], rwidth=0.8, align='left', alpha=0.9);\n",
    "\n",
    "\n",
    "    # Adding extra features   \n",
    "    plt.ylabel(config['ylabel'])\n",
    "    plt.xlabel(config['xlabel'])\n",
    "    plt.title(config['title'])\n",
    "              \n",
    "    # Show plot\n",
    "    plt.show();\n",
    "\n",
    "    return fig"
   ]
  },
  {
   "cell_type": "code",
   "execution_count": 10,
   "id": "a1b8f098",
   "metadata": {},
   "outputs": [
    {
     "data": {
      "image/png": "[encoded data removed]",
      "text/plain": [
       "<Figure size 864x360 with 1 Axes>"
      ]
     },
     "metadata": {
      "needs_background": "light"
     },
     "output_type": "display_data"
    }
   ],
   "source": [
    "conf = {}\n",
    "\n",
    "conf['xdata'] = None\n",
    "conf['bins']  = 100\n",
    "conf['xlogscale'] = False\n",
    "conf['ylogscale'] = True\n",
    "conf['ydata'] = tdist['time_diff']/60\n",
    "conf['ring'] = \"RV\"\n",
    "conf['title'] = f\"Time to next MLTI Initiation  [{conf['ring']} from {actions.date.iloc[0]} -- {actions.date.iloc[-1]}]\"\n",
    "conf['ylabel'] = \"# MLTI Initiations per day\"\n",
    "conf['xlabel'] = \"Time to next MLTI (min)\"\n",
    "\n",
    "__makeplot_histogram(conf);"
   ]
  },
  {
   "cell_type": "code",
   "execution_count": 11,
   "id": "bcce7639",
   "metadata": {
    "code_folding": [
     0
    ]
   },
   "outputs": [],
   "source": [
    "def __makeplot_timeline(config):\n",
    "    \n",
    "    '''\n",
    "    Config: \n",
    "        - ydata\n",
    "        - bars\n",
    "        - xth\n",
    "        - ylabel\n",
    "        - title\n",
    "        - xlogscale\n",
    "        - ylogscale\n",
    "        \n",
    "    '''\n",
    "    \n",
    "    \n",
    "    # Creating histogram\n",
    "    fig, ax = plt.subplots(1, 1, figsize =(12, 5), tight_layout = True)\n",
    "\n",
    "#     NN = len(config['xdata'])\n",
    "\n",
    "    # Remove axes splines\n",
    "    for s in ['top', 'bottom', 'left', 'right']:\n",
    "        ax.spines[s].set_visible(False)\n",
    "\n",
    "    # Remove x, y ticks\n",
    "    ax.xaxis.set_ticks_position('none')\n",
    "    ax.yaxis.set_ticks_position('none')\n",
    "\n",
    "    # Add padding between axes and labels\n",
    "    ax.xaxis.set_tick_params(pad = 5)\n",
    "    ax.yaxis.set_tick_params(pad = 10)\n",
    "\n",
    "    # Add x, y gridlines\n",
    "    ax.grid(b=True, color='grey', linestyle='-.', linewidth=0.5, alpha=0.6, zorder=0)\n",
    "\n",
    "\n",
    "    # Creating histogram\n",
    "    if config['xlogscale']:\n",
    "        ax.set_xscale('log')\n",
    "    if config['ylogscale']:\n",
    "        ax.set_yscale('log')\n",
    "        \n",
    "    ax.plot(range(0,len(config['ydata'])), config['ydata'],'o', markersize=1.5)\n",
    "\n",
    "\n",
    "    # Adding extra features   \n",
    "    plt.ylabel(config['ylabel'])\n",
    "    plt.xlabel(config['xlabel'])\n",
    "    plt.title(config['title'])\n",
    "              \n",
    "    # Show plot\n",
    "    plt.show();\n",
    "\n",
    "    return fig"
   ]
  },
  {
   "cell_type": "code",
   "execution_count": 12,
   "id": "00b871ee",
   "metadata": {},
   "outputs": [
    {
     "data": {
      "image/png": "[encoded data removed]",
      "text/plain": [
       "<Figure size 864x360 with 1 Axes>"
      ]
     },
     "metadata": {
      "needs_background": "light"
     },
     "output_type": "display_data"
    }
   ],
   "source": [
    "conf = {}\n",
    "\n",
    "conf['xdata'] = None\n",
    "conf['bins']  = 50\n",
    "conf['xlogscale'] = False\n",
    "conf['ylogscale'] = True\n",
    "conf['ydata'] = tdist['time_diff']\n",
    "conf['ring'] = \"RV\"\n",
    "conf['title'] = f\"Time to next MLTI Initiation  [{conf['ring']} from {actions.date.iloc[0]} -- {actions.date.iloc[-1]}]\"\n",
    "conf['ylabel'] = \"Time to next MLTI Initiation\"\n",
    "conf['xlabel'] = \"MLTI Event\"\n",
    "\n",
    "__makeplot_timeline(conf);"
   ]
  },
  {
   "cell_type": "code",
   "execution_count": null,
   "id": "fc87a6ec",
   "metadata": {},
   "outputs": [],
   "source": []
  }
 ],
 "metadata": {
  "kernelspec": {
   "display_name": "Python 3 (ipykernel)",
   "language": "python",
   "name": "python3"
  },
  "language_info": {
   "codemirror_mode": {
    "name": "ipython",
    "version": 3
   },
   "file_extension": ".py",
   "mimetype": "text/x-python",
   "name": "python",
   "nbconvert_exporter": "python",
   "pygments_lexer": "ipython3",
   "version": "3.9.16"
  },
  "toc": {
   "base_numbering": 1,
   "nav_menu": {},
   "number_sections": true,
   "sideBar": true,
   "skip_h1_title": false,
   "title_cell": "Table of Contents",
   "title_sidebar": "Contents",
   "toc_cell": false,
   "toc_position": {},
   "toc_section_display": true,
   "toc_window_display": false
  },
  "varInspector": {
   "cols": {
    "lenName": 16,
    "lenType": 16,
    "lenVar": 40
   },
   "kernels_config": {
    "python": {
     "delete_cmd_postfix": "",
     "delete_cmd_prefix": "del ",
     "library": "var_list.py",
     "varRefreshCmd": "print(var_dic_list())"
    },
    "r": {
     "delete_cmd_postfix": ") ",
     "delete_cmd_prefix": "rm(",
     "library": "var_list.r",
     "varRefreshCmd": "cat(var_dic_list()) "
    }
   },
   "types_to_exclude": [
    "module",
    "function",
    "builtin_function_or_method",
    "instance",
    "_Feature"
   ],
   "window_display": false
  }
 },
 "nbformat": 4,
 "nbformat_minor": 5
}
