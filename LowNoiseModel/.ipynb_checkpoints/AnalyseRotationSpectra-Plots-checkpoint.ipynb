{
 "cells": [
  {
   "cell_type": "markdown",
   "id": "eda030d3",
   "metadata": {},
   "source": [
    "# Analyse Rotation Spectra - Plots"
   ]
  },
  {
   "cell_type": "markdown",
   "id": "protected-presentation",
   "metadata": {},
   "source": [
    "## Load Libraries"
   ]
  },
  {
   "cell_type": "code",
   "execution_count": 1,
   "id": "behind-arrangement",
   "metadata": {
    "ExecuteTime": {
     "end_time": "2022-06-01T12:14:23.325836Z",
     "start_time": "2022-06-01T12:14:21.480093Z"
    }
   },
   "outputs": [],
   "source": [
    "from andbro__querrySeismoData import __querrySeismoData\n",
    "from obspy import UTCDateTime\n",
    "from scipy.signal import welch\n",
    "from numpy import log10, zeros, pi, append, linspace, mean, median, array, where, transpose, shape, histogram, arange\n",
    "from numpy import logspace, linspace, log, log10, isinf, ones, nan, count_nonzero, sqrt, isnan\n",
    "from pandas import DataFrame, concat, Series, date_range, read_csv, read_pickle\n",
    "from tqdm import tqdm_notebook\n",
    "from pathlib import Path\n",
    "from scipy.stats import median_absolute_deviation as mad\n",
    "\n",
    "import pickle\n",
    "import matplotlib.pyplot as plt"
   ]
  },
  {
   "cell_type": "code",
   "execution_count": 2,
   "id": "b86aa31f",
   "metadata": {
    "ExecuteTime": {
     "end_time": "2022-06-01T12:14:23.453691Z",
     "start_time": "2022-06-01T12:14:23.326961Z"
    }
   },
   "outputs": [
    {
     "name": "stdout",
     "output_type": "stream",
     "text": [
      "overview\t\t       run_2021_RPFO-Z_3600   run_N2_RLAS-Z_1800\r\n",
      "run_2019_RLAS-Z_3600\t       run_2022_ROMY-Z_3600   run_N2_RLAS-Z_3600\r\n",
      "run_2019_ROMY-E_3600\t       run_N1_RLAS\t      run_N2_ROMY\r\n",
      "run_2019_ROMY-Z_3600\t       run_N1_ROMY\t      run_N2_ROMY-Z_7200\r\n",
      "run_2021_ROMY-Z_3600_pfo-days  run_N2019_RLAS-Z_3600  run_N3_RLAS-Z_3600\r\n",
      "run_2021_RPFO-E_3600\t       run_N2019_ROMY-Z_3600  run_N3_ROMY-Z_3600\r\n",
      "run_2021_RPFO-N_3600\t       run_N2_RLAS_7200\r\n"
     ]
    }
   ],
   "source": [
    "!ls \"/import/kilauea-data/ROMY/RotationSpectra/data\""
   ]
  },
  {
   "cell_type": "markdown",
   "id": "subject-expression",
   "metadata": {},
   "source": [
    "## Configurations"
   ]
  },
  {
   "cell_type": "code",
   "execution_count": 3,
   "id": "e89d22a7",
   "metadata": {
    "ExecuteTime": {
     "end_time": "2022-06-01T12:14:32.523578Z",
     "start_time": "2022-06-01T12:14:32.520194Z"
    }
   },
   "outputs": [],
   "source": [
    "inname = \"run_2021_ROMY-Z_3600_pfo-days\"\n",
    "\n",
    "inpath = f\"/import/kilauea-data/ROMY/RotationSpectra/data/{inname}/\"\n",
    "\n",
    "config = pickle.load(open(inpath+inname+\"_config.pkl\", 'rb'))\n",
    "\n",
    "config['save'] = True\n",
    "\n",
    "config['inname'] = inname\n",
    "config['inpath'] = inpath\n",
    "\n",
    "config['frequency_limits'] = [0.0001, 1]"
   ]
  },
  {
   "cell_type": "markdown",
   "id": "natural-beginning",
   "metadata": {},
   "source": [
    "## Looping "
   ]
  },
  {
   "cell_type": "code",
   "execution_count": 4,
   "id": "e5849ec7",
   "metadata": {
    "ExecuteTime": {
     "end_time": "2022-06-01T12:14:36.794767Z",
     "start_time": "2022-06-01T12:14:36.792222Z"
    },
    "code_folding": [
     0
    ]
   },
   "outputs": [],
   "source": [
    "# def __get_data(config):\n",
    "#     '''\n",
    "#     load data and remove response\n",
    "\n",
    "#     VARIABLES:\n",
    "#     '''\n",
    "\n",
    "#     try:\n",
    "#         st0, inv = __querrySeismoData(    \n",
    "#                             seed_id=config.get('seed'),\n",
    "#                             starttime=config.get('tbeg'),\n",
    "#                             endtime=config.get('tend'),\n",
    "#                             repository=config['repository'],\n",
    "#                             path=None,\n",
    "#                             restitute=False,\n",
    "#                             detail=None,\n",
    "#                             )\n",
    "\n",
    "#     except:\n",
    "#         print(f\"failed to load\")\n",
    "# #         print(f\"failed to load {config.get['seed']} {config.get['tbeg']}\")\n",
    "#         return None\n",
    "    \n",
    "#     try:\n",
    "#         st0.remove_response(inventory=inv,output=\"VEL\", zero_mean=True); \n",
    "#     except:\n",
    "#         print(f\"failed to remove response\")\n",
    "# #         print(f\"failed to remove response {config.get['seed']} {config.get['tbeg']}\")\n",
    "#         return None\n",
    "    \n",
    "#     return st0"
   ]
  },
  {
   "cell_type": "code",
   "execution_count": 5,
   "id": "e4858b93",
   "metadata": {
    "ExecuteTime": {
     "end_time": "2022-06-01T12:14:36.993314Z",
     "start_time": "2022-06-01T12:14:36.990841Z"
    },
    "code_folding": [
     0
    ]
   },
   "outputs": [],
   "source": [
    "def __get_minimal_psd(psds):\n",
    "\n",
    "    from numpy import nanmin, array, nonzero\n",
    "    \n",
    "    min_psd = zeros(psds.shape[1])\n",
    "    \n",
    "    for f in range(psds.shape[1]):\n",
    "        a = psds[:,f]\n",
    "        min_psd[f] = nanmin(a[nonzero(a)])\n",
    "    \n",
    "    return min_psd"
   ]
  },
  {
   "cell_type": "code",
   "execution_count": 6,
   "id": "af6a3772",
   "metadata": {
    "ExecuteTime": {
     "end_time": "2022-06-01T12:14:37.207921Z",
     "start_time": "2022-06-01T12:14:37.166600Z"
    },
    "code_folding": [
     0
    ]
   },
   "outputs": [],
   "source": [
    "def __get_minimum_psd(psds, f_tmp):\n",
    "    \n",
    "    from numpy import median\n",
    "    \n",
    "    f_before = f_tmp[0]\n",
    "    f_tmp[0] = 1e-9\n",
    "    \n",
    "    for i, psd in enumerate(psds):\n",
    "        if i == 0: \n",
    "            lowest_value = (psds[0]/f_tmp).sum()\n",
    "#             lowest_value = median(psds[0]/f_tmp)\n",
    "            idx = 0\n",
    "\n",
    "        value = (psd/f_tmp).sum() \n",
    "#         value = median(psd/f_tmp)\n",
    "        \n",
    "        if value < lowest_value and value != 0:\n",
    "            lowest_value = value\n",
    "            idx = i\n",
    "\n",
    "    f_tmp[0] = f_before      \n",
    "    \n",
    "    return psds[idx]"
   ]
  },
  {
   "cell_type": "code",
   "execution_count": 7,
   "id": "595856e2",
   "metadata": {
    "ExecuteTime": {
     "end_time": "2022-06-01T12:14:37.345052Z",
     "start_time": "2022-06-01T12:14:37.342652Z"
    },
    "code_folding": [
     0
    ]
   },
   "outputs": [],
   "source": [
    "def __save_config(config):\n",
    "    \n",
    "    ofile = open(config['outpath']+config['outname']+\"_config.pick\", 'wb')\n",
    "    pickle.dump(config, ofile)\n",
    "\n",
    "    if Path(config['outpath']+config['outname']+\"_config.pick\").exists():\n",
    "        print(f\"created: {config['outpath']}{config['outname']}_config.pick\")"
   ]
  },
  {
   "cell_type": "code",
   "execution_count": 8,
   "id": "df484686",
   "metadata": {
    "ExecuteTime": {
     "end_time": "2022-06-01T12:14:37.513796Z",
     "start_time": "2022-06-01T12:14:37.511032Z"
    },
    "code_folding": [
     0
    ]
   },
   "outputs": [],
   "source": [
    "def __write_to_csv(data, text, config):\n",
    "    \n",
    "    import csv\n",
    "    \n",
    "    opath = config['outpath']\n",
    "    oname = config['outname']+\"_\"+text+\"_psd.csv\"\n",
    "    \n",
    "    # open the file in the write mode\n",
    "    with open(opath+oname, 'w') as file:\n",
    "\n",
    "        writer = csv.writer(file)\n",
    "        for row in data:\n",
    "            writer.writerow(row)\n",
    "            \n",
    "    if Path(opath+oname).exists():\n",
    "        print(f\"created: {opath}{oname}\")"
   ]
  },
  {
   "cell_type": "code",
   "execution_count": 9,
   "id": "f98e858c",
   "metadata": {
    "ExecuteTime": {
     "end_time": "2022-06-01T12:14:37.690113Z",
     "start_time": "2022-06-01T12:14:37.687106Z"
    },
    "code_folding": [
     0
    ]
   },
   "outputs": [],
   "source": [
    "# def __calculate_spectra(st, config, mode='dB'):\n",
    "\n",
    "#     from datetime import datetime\n",
    "#     from pandas import date_range\n",
    "#     from obspy import UTCDateTime\n",
    "#     from scipy.signal import welch\n",
    "#     from numpy import where, array, zeros\n",
    "    \n",
    "#     def __check_stream(st):\n",
    "#         t1 = str(st[0].stats.starttime)\n",
    "#         t2 = str(st[0].stats.endtime)\n",
    "#         for tr in st:\n",
    "#             if str(tr.stats.starttime) != t1 or str(tr.stats.endtime) != t2:\n",
    "#                 print(f\"ERROR: mismatch in start or endtime of trace: {tr.stats.id}\")\n",
    "#                 return\n",
    "            \n",
    "#     def __make_decibel(array, relative_value):\n",
    "#         return 10*log10(array/relative_value) \n",
    "    \n",
    "#     ## check time consistency for all traces\n",
    "#     __check_stream(st)\n",
    "    \n",
    "#     ## check how many intervals are possible\n",
    "#     if config['interval_overlap'] is None:\n",
    "#         intervals = int((st[0].stats.endtime - st[0].stats.starttime)/config.get('interval'))\n",
    "#         shift = config['interval']\n",
    "#     else:\n",
    "#         shift = int(config.get('interval')*config['interval_overlap']/100)\n",
    "#         intervals = int((st[0].stats.endtime - st[0].stats.starttime)/shift)\n",
    "    \n",
    "\n",
    "\n",
    "#     ## pre-define psd array\n",
    "#     size_psd = int(config.get('nperseg')/2)+1\n",
    "#     psd = zeros([intervals, size_psd])\n",
    "    \n",
    "#     if size_psd >= len(st[0].data):\n",
    "#         print(f\"ERROR: reduce nperseg or noverlap or segments! {size_psd} > {len(st[0].data)}\")\n",
    "#         return\n",
    "    \n",
    "#     for i, tr in enumerate(st):\n",
    "        \n",
    "#         # initite variables for while loop\n",
    "#         dt1 = st[0].stats.starttime\n",
    "#         dt2 = st[0].stats.starttime + config['interval']\n",
    "#         n = 0\n",
    "        \n",
    "#         while dt2 <= st[0].stats.endtime:\n",
    "\n",
    "#             tr_tmp = tr.copy()\n",
    "#             tr_tmp.trim(starttime = UTCDateTime(dt1), endtime=UTCDateTime(dt2))\n",
    "\n",
    "# #             print(n, dt1, dt2, \"\\n\")\n",
    "            \n",
    "# #             print(config.get('nperseg'), config.get('noverlap'), len(tr_tmp.data))\n",
    "            \n",
    "#             f, psd0 = welch(  \n",
    "#                         tr_tmp.data, \n",
    "#                         fs=tr_tmp.stats.sampling_rate, \n",
    "#                         window=config.get('taper'), \n",
    "#                         nperseg=config.get('nperseg'), \n",
    "#                         noverlap=config.get('noverlap'), \n",
    "#                         nfft=config.get('nfft'), \n",
    "#                         detrend=config.get('detrend'), \n",
    "#                         return_onesided=config.get('onesided'), \n",
    "#                         scaling=config.get('scaling'),\n",
    "#                        )\n",
    "#             psd[n] = psd0\n",
    "            \n",
    "#             ## adjust variables\n",
    "#             dt1 += shift\n",
    "#             dt2 += shift\n",
    "#             n += 1\n",
    "\n",
    "            \n",
    "#         if config.get('frequency_limits') is not None:\n",
    "#             f1, f2 = config.get('frequency_limits')[0], config.get('frequency_limits')[1]\n",
    "#             idx1, idx2 = int(where(f <= f1)[0][0]), int(where(f >= f2)[0][0])\n",
    "#             ff = f[idx1:idx2]\n",
    "#             tmp = zeros([intervals, len(ff)])\n",
    "#             for j in range(intervals):\n",
    "#                 tmp[j] = psd[j,idx1:idx2]\n",
    "#             psd = tmp\n",
    "\n",
    "#         if mode is not None and mode.lower() == 'db':\n",
    "#             for j in range(intervals):\n",
    "#                 psd[j] = __make_decibel(psd[j], abs(max(psd[j])))\n",
    "   \n",
    "#     return ff, psd"
   ]
  },
  {
   "cell_type": "code",
   "execution_count": 10,
   "id": "939f5e39",
   "metadata": {
    "ExecuteTime": {
     "end_time": "2022-06-01T12:14:37.865023Z",
     "start_time": "2022-06-01T12:14:37.863198Z"
    },
    "code_folding": [
     0
    ]
   },
   "outputs": [],
   "source": [
    "# def __loop(config):\n",
    "    \n",
    "#     days = int((config['date2'] - config['date1'])/86400)+1\n",
    "\n",
    "#     minimum_collection = []\n",
    "#     minimal_collection = []\n",
    "#     columns = []\n",
    "\n",
    "#     for date in tqdm_notebook(date_range(str(config['date1'].date), str(config['date2'].date), days, closed='left')):\n",
    "\n",
    "#         config['tbeg'] = UTCDateTime(date)\n",
    "#         config['tend'] = UTCDateTime(date) + 86400\n",
    "\n",
    "#         st = __get_data(config)\n",
    "\n",
    "#         if st is None or st[0].stats.npts < 1000:\n",
    "#             print(f\"skipping {date}\")\n",
    "#             continue\n",
    "\n",
    "#         ff, psds = __calculate_spectra(st, config, mode=None)\n",
    "\n",
    "#         minimal_psd = __get_minimal_psd(psds)\n",
    "#         minimal_collection.append(minimal_psd)\n",
    "\n",
    "#         minimum_psd = __get_minimum_psd(psds, ff)\n",
    "#         minimum_collection.append(minimum_psd)\n",
    "\n",
    "#         ## write out column names\n",
    "#         columns.append(str(date)[:10])\n",
    "#         with open(config['outpath']+config['outname']+\"_columns.pick\", 'wb') as ofile:\n",
    "#             pickle.dump(columns, ofile)\n",
    "\n",
    "#         ## store frequency axis\n",
    "#         with open(config['outpath']+config['outname']+\"_frequency_axis.pick\", 'wb') as ofile:\n",
    "#             pickle.dump(ff, ofile)\n",
    "\n",
    "\n",
    "#     __write_to_csv(minimal_collection, \"minimal\", config)\n",
    "#     __write_to_csv(minimum_collection, \"minimum\", config)\n",
    "\n",
    "#     __save_config(config)"
   ]
  },
  {
   "cell_type": "code",
   "execution_count": 11,
   "id": "fe2e4201",
   "metadata": {
    "ExecuteTime": {
     "end_time": "2022-06-01T12:14:38.036287Z",
     "start_time": "2022-06-01T12:14:38.030971Z"
    },
    "code_folding": [
     0
    ]
   },
   "outputs": [],
   "source": [
    "def __load_psds(file, config):\n",
    "\n",
    "    ## get data to dataframe and transpose and reindex\n",
    "    df = read_csv(file, index_col=False)\n",
    "    df = df.transpose()\n",
    "    df.reset_index(inplace=True)\n",
    "    # df.dtypes\n",
    "    # df.mean()\n",
    "\n",
    "    ## set column names\n",
    "    try:\n",
    "        columns = pickle.load(open(f\"{config['inpath']}{config['inname']}_columns.pick\", 'rb'))\n",
    "        df.columns = [column.replace(\"-\",\"\") for column in columns]\n",
    "    except:\n",
    "        columns = arange(0,df.shape[1]).astype(str)\n",
    "        df.columns = columns\n",
    "        print(\" -> Failed to assign column names! Assigned numbers instead!\")\n",
    "\n",
    "    ## check for column dublicates\n",
    "    if len(df.columns.unique()) != len(df.columns):\n",
    "        print(f\" -> removing {len(df.columns)-len(df.columns.unique())} column dublicate(s)!\")\n",
    "        df = df.loc[:,~df.columns.duplicated()]\n",
    "\n",
    "    count=0\n",
    "    dates_expected = date_range(config['date1'].date, config['date2'].date, periods=int((config['date2']-config['date1'])/86400)+1)\n",
    "    for dex in dates_expected:\n",
    "        dex=str(dex.isoformat()[:10]).replace(\"-\",\"\")\n",
    "        if not dex in df.columns:\n",
    "            count+=1\n",
    "    print(f\" -> missing {count} days\")\n",
    "        \n",
    "    print(f\" -> total of {df.shape[0]} psds\")\n",
    "        \n",
    "#     ## convert to list\n",
    "#     psds = []\n",
    "#     for col in array(df.columns):\n",
    "        \n",
    "#         ## turn non-float series to float objects\n",
    "#         df[col] = pd.to_numeric(df[col], errors = 'coerce')\n",
    "\n",
    "#         ## add to psds list\n",
    "#         psds.append(array(df[col]))\n",
    "        \n",
    "    return df"
   ]
  },
  {
   "cell_type": "code",
   "execution_count": 12,
   "id": "d4ffd698",
   "metadata": {
    "ExecuteTime": {
     "end_time": "2022-06-01T12:14:38.235425Z",
     "start_time": "2022-06-01T12:14:38.226235Z"
    },
    "code_folding": [
     0
    ]
   },
   "outputs": [],
   "source": [
    "def __get_array_from_dataframe(df):\n",
    "    \n",
    "    from pandas import to_numeric\n",
    "    \n",
    "    ## convert to list\n",
    "    psds = []\n",
    "    for col in array(df.columns):\n",
    "        \n",
    "        ## turn non-float series to float objects\n",
    "        df[col] = to_numeric(df[col], errors = 'coerce')\n",
    "\n",
    "        ## add to psds list\n",
    "        psds.append(array(df[col]))\n",
    "\n",
    "    return array(psds)"
   ]
  },
  {
   "cell_type": "code",
   "execution_count": 13,
   "id": "21d2d997",
   "metadata": {
    "ExecuteTime": {
     "end_time": "2022-06-01T12:14:38.385775Z",
     "start_time": "2022-06-01T12:14:38.382997Z"
    },
    "code_folding": [
     0
    ]
   },
   "outputs": [],
   "source": [
    "def __remove_noisy_psds(df, threshold_mean=1e-13):\n",
    "\n",
    "    from numpy import delete\n",
    "    \n",
    "    l1 = len(df.columns)\n",
    "    for col in df.columns:\n",
    "#         print(col, type(col))\n",
    "        if df[col].astype(float).mean() > threshold_mean:\n",
    "            df = df.drop(columns=col)\n",
    "    l2 = len(df.columns)\n",
    "    print(f\" -> removed {l1-l2} columns due to mean thresholds!\")\n",
    "    print(f\" -> {l2} psds remain\")\n",
    "    \n",
    "    return df"
   ]
  },
  {
   "cell_type": "code",
   "execution_count": 15,
   "id": "b62d54f9",
   "metadata": {
    "ExecuteTime": {
     "end_time": "2022-06-01T12:14:49.940572Z",
     "start_time": "2022-06-01T12:14:49.656299Z"
    }
   },
   "outputs": [
    {
     "name": "stdout",
     "output_type": "stream",
     "text": [
      " -> loading \n",
      " /import/kilauea-data/ROMY/RotationSpectra/data/run_2021_ROMY-Z_3600_pfo-days/run_2021_ROMY-Z_3600_pfo-days.pkl ...\n"
     ]
    },
    {
     "ename": "FileNotFoundError",
     "evalue": "[Errno 2] No such file or directory: '/import/kilauea-data/ROMY/RotationSpectra/data/run_2021_ROMY-Z_3600_pfo-days/run_2021_ROMY-Z_3600_pfo-days.pkl'",
     "output_type": "error",
     "traceback": [
      "\u001b[0;31m---------------------------------------------------------------------------\u001b[0m",
      "\u001b[0;31mFileNotFoundError\u001b[0m                         Traceback (most recent call last)",
      "\u001b[0;32m<ipython-input-15-09927e1dfdb4>\u001b[0m in \u001b[0;36m<module>\u001b[0;34m\u001b[0m\n\u001b[1;32m      2\u001b[0m \u001b[0mfile\u001b[0m \u001b[0;34m=\u001b[0m \u001b[0;34mf\"{config['inpath']}{config['inname']}.pkl\"\u001b[0m\u001b[0;34m\u001b[0m\u001b[0;34m\u001b[0m\u001b[0m\n\u001b[1;32m      3\u001b[0m \u001b[0mprint\u001b[0m\u001b[0;34m(\u001b[0m\u001b[0;34mf\" -> loading \\n {file} ...\"\u001b[0m\u001b[0;34m)\u001b[0m\u001b[0;34m\u001b[0m\u001b[0;34m\u001b[0m\u001b[0m\n\u001b[0;32m----> 4\u001b[0;31m \u001b[0mpsds_all\u001b[0m \u001b[0;34m=\u001b[0m \u001b[0mread_pickle\u001b[0m\u001b[0;34m(\u001b[0m\u001b[0mfile\u001b[0m\u001b[0;34m)\u001b[0m\u001b[0;34m\u001b[0m\u001b[0;34m\u001b[0m\u001b[0m\n\u001b[0m\u001b[1;32m      5\u001b[0m \u001b[0;34m\u001b[0m\u001b[0m\n\u001b[1;32m      6\u001b[0m \u001b[0;31m## load frequencies\u001b[0m\u001b[0;34m\u001b[0m\u001b[0;34m\u001b[0m\u001b[0;34m\u001b[0m\u001b[0m\n",
      "\u001b[0;32m~/anaconda3/lib/python3.7/site-packages/pandas/io/pickle.py\u001b[0m in \u001b[0;36mread_pickle\u001b[0;34m(filepath_or_buffer, compression, storage_options)\u001b[0m\n\u001b[1;32m    199\u001b[0m         \u001b[0mcompression\u001b[0m\u001b[0;34m=\u001b[0m\u001b[0mcompression\u001b[0m\u001b[0;34m,\u001b[0m\u001b[0;34m\u001b[0m\u001b[0;34m\u001b[0m\u001b[0m\n\u001b[1;32m    200\u001b[0m         \u001b[0mis_text\u001b[0m\u001b[0;34m=\u001b[0m\u001b[0;32mFalse\u001b[0m\u001b[0;34m,\u001b[0m\u001b[0;34m\u001b[0m\u001b[0;34m\u001b[0m\u001b[0m\n\u001b[0;32m--> 201\u001b[0;31m         \u001b[0mstorage_options\u001b[0m\u001b[0;34m=\u001b[0m\u001b[0mstorage_options\u001b[0m\u001b[0;34m,\u001b[0m\u001b[0;34m\u001b[0m\u001b[0;34m\u001b[0m\u001b[0m\n\u001b[0m\u001b[1;32m    202\u001b[0m     ) as handles:\n\u001b[1;32m    203\u001b[0m \u001b[0;34m\u001b[0m\u001b[0m\n",
      "\u001b[0;32m~/anaconda3/lib/python3.7/site-packages/pandas/io/common.py\u001b[0m in \u001b[0;36mget_handle\u001b[0;34m(path_or_buf, mode, encoding, compression, memory_map, is_text, errors, storage_options)\u001b[0m\n\u001b[1;32m    709\u001b[0m         \u001b[0;32melse\u001b[0m\u001b[0;34m:\u001b[0m\u001b[0;34m\u001b[0m\u001b[0;34m\u001b[0m\u001b[0m\n\u001b[1;32m    710\u001b[0m             \u001b[0;31m# Binary mode\u001b[0m\u001b[0;34m\u001b[0m\u001b[0;34m\u001b[0m\u001b[0;34m\u001b[0m\u001b[0m\n\u001b[0;32m--> 711\u001b[0;31m             \u001b[0mhandle\u001b[0m \u001b[0;34m=\u001b[0m \u001b[0mopen\u001b[0m\u001b[0;34m(\u001b[0m\u001b[0mhandle\u001b[0m\u001b[0;34m,\u001b[0m \u001b[0mioargs\u001b[0m\u001b[0;34m.\u001b[0m\u001b[0mmode\u001b[0m\u001b[0;34m)\u001b[0m\u001b[0;34m\u001b[0m\u001b[0;34m\u001b[0m\u001b[0m\n\u001b[0m\u001b[1;32m    712\u001b[0m         \u001b[0mhandles\u001b[0m\u001b[0;34m.\u001b[0m\u001b[0mappend\u001b[0m\u001b[0;34m(\u001b[0m\u001b[0mhandle\u001b[0m\u001b[0;34m)\u001b[0m\u001b[0;34m\u001b[0m\u001b[0;34m\u001b[0m\u001b[0m\n\u001b[1;32m    713\u001b[0m \u001b[0;34m\u001b[0m\u001b[0m\n",
      "\u001b[0;31mFileNotFoundError\u001b[0m: [Errno 2] No such file or directory: '/import/kilauea-data/ROMY/RotationSpectra/data/run_2021_ROMY-Z_3600_pfo-days/run_2021_ROMY-Z_3600_pfo-days.pkl'"
     ]
    }
   ],
   "source": [
    "## load set of minimum psds\n",
    "file = f\"{config['inpath']}{config['inname']}.pkl\"\n",
    "print(f\" -> loading \\n {file} ...\")\n",
    "psds_all = read_pickle(file)\n",
    "\n",
    "## load frequencies\n",
    "ff = pickle.load(open(f\"{config['inpath']}{config['inname']}_frequency_axis.pkl\", 'rb'))"
   ]
  },
  {
   "cell_type": "code",
   "execution_count": null,
   "id": "4f849a54",
   "metadata": {},
   "outputs": [],
   "source": []
  },
  {
   "cell_type": "code",
   "execution_count": 125,
   "id": "2b8b1666",
   "metadata": {
    "ExecuteTime": {
     "end_time": "2022-05-09T15:22:30.097945Z",
     "start_time": "2022-05-09T15:22:29.939450Z"
    },
    "code_folding": []
   },
   "outputs": [
    {
     "name": "stdout",
     "output_type": "stream",
     "text": [
      " -> removed 107 columns due to mean thresholds!\n",
      " -> 0 psds remain\n"
     ]
    }
   ],
   "source": [
    "if \"RLAS-Z\" in config['inname'].split(\"_\"):\n",
    "    psds_all = __remove_noisy_psds(psds_all, threshold_mean=1e-21)\n",
    "elif \"ROMY-Z\" in config['inname'].split(\"_\"):\n",
    "    psds_all = __remove_noisy_psds(psds_all, threshold_mean=1e-19)"
   ]
  },
  {
   "cell_type": "markdown",
   "id": "569ab3ef",
   "metadata": {},
   "source": [
    "Convert dataframes to array / matrix"
   ]
  },
  {
   "cell_type": "code",
   "execution_count": 130,
   "id": "5a024e88",
   "metadata": {
    "ExecuteTime": {
     "end_time": "2022-05-09T15:23:15.290554Z",
     "start_time": "2022-05-09T15:23:15.282391Z"
    }
   },
   "outputs": [],
   "source": [
    "dates = ['20220314','20220315','20220316','20220317','20220318','20220319','20220320','20220321','20220322','20220323']\n",
    "\n",
    "psds_all = psds_all[dates]"
   ]
  },
  {
   "cell_type": "code",
   "execution_count": 131,
   "id": "7815ff60",
   "metadata": {
    "ExecuteTime": {
     "end_time": "2022-05-09T15:23:15.998474Z",
     "start_time": "2022-05-09T15:23:15.994068Z"
    }
   },
   "outputs": [],
   "source": [
    "psds = __get_array_from_dataframe(psds_all)\n",
    "\n",
    "columns = psds_all.columns"
   ]
  },
  {
   "cell_type": "markdown",
   "id": "19830098",
   "metadata": {},
   "source": [
    "Cut to frequency axis and matrices to frequency limits as specified in config"
   ]
  },
  {
   "cell_type": "code",
   "execution_count": 132,
   "id": "d0252962",
   "metadata": {
    "ExecuteTime": {
     "end_time": "2022-05-09T15:23:16.443555Z",
     "start_time": "2022-05-09T15:23:16.436024Z"
    }
   },
   "outputs": [],
   "source": [
    "ind = []\n",
    "for i,f in enumerate(ff):\n",
    "    if f >= config['frequency_limits'][0] and f <= config['frequency_limits'][1]:\n",
    "        ind.append(i)\n",
    "\n",
    "ff = ff[ind[0]:ind[-1]]\n",
    "psds = psds[:,ind[0]:ind[-1]]"
   ]
  },
  {
   "cell_type": "markdown",
   "id": "775c54a0",
   "metadata": {},
   "source": [
    "Get overall minium and minimal PSD"
   ]
  },
  {
   "cell_type": "code",
   "execution_count": 133,
   "id": "252284bd",
   "metadata": {
    "ExecuteTime": {
     "end_time": "2022-05-09T15:23:17.339368Z",
     "start_time": "2022-05-09T15:23:17.337839Z"
    }
   },
   "outputs": [],
   "source": [
    "# psds_minimal = __get_minimal_psd(array(psds))\n",
    "# psds_minimum = __get_minimum_psd(array(psds), ff)"
   ]
  },
  {
   "cell_type": "markdown",
   "id": "086fd5d0",
   "metadata": {},
   "source": [
    "## Plotting"
   ]
  },
  {
   "cell_type": "code",
   "execution_count": 155,
   "id": "ce64c931",
   "metadata": {
    "ExecuteTime": {
     "end_time": "2022-05-09T15:28:58.202011Z",
     "start_time": "2022-05-09T15:28:58.193718Z"
    },
    "code_folding": [
     0
    ]
   },
   "outputs": [],
   "source": [
    "def __makeplot_colorlines(config, ff, psds, columns):\n",
    "\n",
    "    from numpy import isnan, median, mean, std, array\n",
    "    from scipy.stats import median_abs_deviation as mad\n",
    "    \n",
    "    psds_median, psds_mean, psds_std, psds_mad = [],[],[],[]\n",
    "    for fcross in range(psds.shape[1]):\n",
    "        data = psds[:,fcross]\n",
    "        psds_median.append(median(data[~isnan(data)]))\n",
    "        psds_mean.append(mean(data[~isnan(data)]))\n",
    "        psds_std.append(std(data[~isnan(data)]))\n",
    "        psds_mad.append(mad(data[~isnan(data)]))\n",
    "        \n",
    "    psds_minimal = __get_minimal_psd(array(psds))\n",
    "#     psds_minimum = __get_minimum_psd(array(psds), ff)\n",
    "    \n",
    "        \n",
    "    ff = 1/ff\n",
    "        \n",
    "    ##____________________________\n",
    "    \n",
    "    fig, ax = plt.subplots(1,1, figsize=(15,10), sharey=False, sharex=True)\n",
    "\n",
    "    font = 12\n",
    "\n",
    "    N = psds.shape[0]\n",
    "    colors = plt.cm.rainbow(linspace(0, 1, N))\n",
    "\n",
    "\n",
    "    for n, psd in enumerate(psds):\n",
    "        ax.loglog(ff, psd, color=colors[n], alpha=0.7)\n",
    "\n",
    "\n",
    "    ## add scatter for colorbar object only\n",
    "    for n, psd in enumerate(psds):\n",
    "        p2 = ax.scatter(ff[0], psd[0], s=0., c=n, cmap='rainbow', vmin=0, vmax=N)\n",
    "\n",
    "\n",
    "    ax.loglog(ff, psds_median, 'black', zorder=3, alpha=0.9)\n",
    "#     ax.loglog(ff, psds_mean, 'black', zorder=3, alpha=0.9)\n",
    "\n",
    "\n",
    "#     ax.loglog(ff, psds_minimal, 'black', zorder=2, alpha=1.0)\n",
    "#     ax.loglog(ff, psds_minimum, 'k', zorder=2, alpha=0.8)\n",
    "    \n",
    "\n",
    "#     ax.set_title(\"Minimal PSD\", fontsize=font)\n",
    "#     ax.set_title(\"Minimum PSD\", fontsize=font)\n",
    "\n",
    "    ax.set_xlabel(\"Period (s)\", fontsize=font)\n",
    "\n",
    "    ax.set_ylabel(r\"PSD (rad$^2$/s$^2$/$Hz)$\", fontsize=font)\n",
    "    \n",
    "    ax.grid(True, which=\"both\", ls=\"-\", alpha=0.5)\n",
    "    \n",
    "    ax.set_xlim(min(ff), max(ff))\n",
    "#     ax.set_xlim(10**log10(config['frequency_limits'][0]), 10**log10(config['frequency_limits'][1]))\n",
    "    \n",
    "    ## set colorbar at bottom\n",
    "    cbar = fig.colorbar(p2, orientation='horizontal', ax=ax, aspect=50)\n",
    "\n",
    "    ## redefine ticks of colorbar\n",
    "#     new_ticks=[]\n",
    "#     for n, t in enumerate(cbar.get_ticks()):\n",
    "#         print(n)\n",
    "#         new_ticks.append(columns[int(t)])\n",
    "#     print(new_ticks)\n",
    "#     cbar.ax.set_xticklabels(columns)\n",
    "\n",
    "\n",
    "    plt.show();\n",
    "    \n",
    "    out = DataFrame()\n",
    "    out['frequencies'] = ff\n",
    "    out['psds_minimal'] = array(psds_minimal)\n",
    "    out['psds_median'] = array(psds_median)\n",
    "    out['psds_mean'] = array(psds_mean)\n",
    "    out['psds_std'] = array(psds_std)\n",
    "    out['psds_mad'] = array(psds_mad)\n",
    "    \n",
    "    \n",
    "    return fig, out"
   ]
  },
  {
   "cell_type": "code",
   "execution_count": 156,
   "id": "d5a44ac1",
   "metadata": {
    "ExecuteTime": {
     "end_time": "2022-05-09T15:28:59.929602Z",
     "start_time": "2022-05-09T15:28:59.088534Z"
    },
    "code_folding": []
   },
   "outputs": [
    {
     "data": {
      "image/png": "[encoded data removed]",
      "text/plain": [
       "<Figure size 1080x720 with 2 Axes>"
      ]
     },
     "metadata": {
      "needs_background": "light"
     },
     "output_type": "display_data"
    }
   ],
   "source": [
    "fig, out = __makeplot_colorlines(config, ff, psds, columns)"
   ]
  },
  {
   "cell_type": "markdown",
   "id": "2d65495d",
   "metadata": {},
   "source": [
    "### Write to File"
   ]
  },
  {
   "cell_type": "code",
   "execution_count": 123,
   "id": "e7f2a1f5",
   "metadata": {
    "ExecuteTime": {
     "end_time": "2022-05-09T15:22:17.651914Z",
     "start_time": "2022-05-09T15:22:17.648973Z"
    }
   },
   "outputs": [
    {
     "name": "stdout",
     "output_type": "stream",
     "text": [
      " -> writing to /import/kilauea-data/ROMY/RotationSpectra/data/run_2022_ROMY-Z_3600/run_2022_ROMY-Z_3600_stats.pkl\n"
     ]
    }
   ],
   "source": [
    "if config['save']:\n",
    "    out.to_pickle(f\"{inpath}{inname}_stats.pkl\")\n",
    "    print(f\" -> writing to {inpath}{inname}_stats.pkl\")"
   ]
  },
  {
   "cell_type": "markdown",
   "id": "48a168db",
   "metadata": {},
   "source": [
    "## Plot as DeciBel"
   ]
  },
  {
   "cell_type": "code",
   "execution_count": null,
   "id": "0a260f91",
   "metadata": {
    "ExecuteTime": {
     "end_time": "2022-05-09T10:47:33.913318Z",
     "start_time": "2022-05-09T10:47:31.461Z"
    },
    "code_folding": [
     0
    ]
   },
   "outputs": [],
   "source": [
    "def __conversion(data, informat=None, outformat=None):\n",
    "    '''\n",
    "    data:                  array \n",
    "    informat/outformat:    ASD, PSD, DB\n",
    "    '''\n",
    "    from numpy import log10, sqrt\n",
    "    \n",
    "    \n",
    "    if informat == 'ASD' and outformat == 'PSD':\n",
    "        return data**2\n",
    "    \n",
    "    elif informat == 'PSD' and outformat == 'ASD':\n",
    "        return sqrt(data)\n",
    "\n",
    "    elif informat == 'ASD' and outformat == 'DB':\n",
    "        return 10*log10(data)\n",
    "    \n",
    "    elif informat == 'PSD' and outformat == 'DB':\n",
    "        return 10*log10(data)\n",
    "    \n",
    "    elif informat == 'DB' and outformat == 'PSD':\n",
    "        return 10**(data/10)\n",
    "    \n",
    "    elif informat == 'DB' and outformat == 'ASD':\n",
    "        return sqrt(10**(data/10))\n",
    "    \n",
    "    else:\n",
    "        print(\" -> specified case not defined!\")"
   ]
  },
  {
   "cell_type": "code",
   "execution_count": null,
   "id": "a357aa05",
   "metadata": {
    "ExecuteTime": {
     "end_time": "2022-05-09T10:47:33.914097Z",
     "start_time": "2022-05-09T10:47:31.463Z"
    }
   },
   "outputs": [],
   "source": [
    "psds_db = __conversion(psds, informat=\"PSD\", outformat=\"DB\")"
   ]
  },
  {
   "cell_type": "code",
   "execution_count": null,
   "id": "156528cc",
   "metadata": {
    "ExecuteTime": {
     "end_time": "2022-05-09T10:47:33.914704Z",
     "start_time": "2022-05-09T10:47:31.465Z"
    },
    "code_folding": [
     0
    ]
   },
   "outputs": [],
   "source": [
    "def __makeplot_colorlines_decibel(config, ff, psds, columns):\n",
    "\n",
    "    from numpy import isnan, median, mean, std, array\n",
    "    from scipy.stats import median_abs_deviation as mad\n",
    "    \n",
    "    psds_median, psds_mean, psds_std, psds_mad = [],[],[],[]\n",
    "    for fcross in range(psds.shape[1]):\n",
    "        data = psds[:,fcross]\n",
    "        psds_median.append(median(data[~isnan(data)]))\n",
    "        psds_mean.append(mean(data[~isnan(data)]))\n",
    "        psds_std.append(std(data[~isnan(data)]))\n",
    "        psds_mad.append(mad(data[~isnan(data)]))\n",
    "    \n",
    "    psds_minimal = __get_minimal_psd(array(psds))\n",
    "#     psds_minimum = __get_minimum_psd(array(psds), ff)\n",
    "    \n",
    "    \n",
    "    ##____________________________\n",
    "    \n",
    "    fig, ax = plt.subplots(1,1, figsize=(15,10), sharey=False, sharex=True)\n",
    "\n",
    "    font = 12\n",
    "\n",
    "    N = psds.shape[0]\n",
    "    colors = plt.cm.rainbow(linspace(0, 1, N))\n",
    "\n",
    "\n",
    "    for n, psd in enumerate(psds):\n",
    "        ax.semilogx(ff, psd, color=colors[n], alpha=0.7)\n",
    "\n",
    "    ## add scatter for colorbar object only\n",
    "    for n, psd in enumerate(psds):\n",
    "        p2 = ax.scatter(ff[0], psd[0], s=0., c=n, cmap='rainbow', vmin=0, vmax=N)\n",
    "\n",
    "    ax.semilogx(ff, psds_median, 'black', zorder=3, alpha=0.9)\n",
    "    ax.semilogx(ff, array(psds_median)+array(psds_mad), 'grey', zorder=3, alpha=0.8)  \n",
    "    ax.semilogx(ff, array(psds_median)-array(psds_mad), 'grey', zorder=3, alpha=0.8)  \n",
    "\n",
    "#     ax.semilogx(ff, psds_minimal, 'black', zorder=2, alpha=1.0)\n",
    "    \n",
    "\n",
    "    ax.set_xlabel(\"Frequency (Hz)\", fontsize=font)\n",
    "\n",
    "    ax.set_ylabel(r\"PSD (dB rel. to 1 $rad^2$/($s^2$ $Hz$)\", fontsize=font)\n",
    "  \n",
    "    ax.grid(True, which=\"both\", ls=\"-\", alpha=0.5)\n",
    "\n",
    "    \n",
    "    ax.set_xlim(min(ff), max(ff))\n",
    "#     ax.set_xlim(10**log10(config['frequency_limits'][0]), 10**log10(config['frequency_limits'][1]))\n",
    "    \n",
    "    ## set colorbar at bottom\n",
    "    cbar = fig.colorbar(p2, orientation='horizontal', ax=ax, aspect=50)\n",
    "\n",
    "    ## redefine ticks of colorbar\n",
    "    dates = columns\n",
    "    new_ticks=[]\n",
    "    for t in cbar.get_ticks(): \n",
    "        new_ticks.append(dates.astype(str)[int(t)])\n",
    "    cbar.ax.set_xticklabels(new_ticks)\n",
    "\n",
    "\n",
    "    plt.show();\n",
    "    \n",
    "    out = DataFrame()\n",
    "    out['frequencies'] = ff\n",
    "    out['psds_minimal'] = array(psds_minimal)\n",
    "    out['psds_median'] = array(psds_median)\n",
    "    out['psds_mean'] = array(psds_mean)\n",
    "    out['psds_std'] = array(psds_std)\n",
    "    out['psds_mad'] = array(psds_mad)\n",
    "    \n",
    "    return fig, out"
   ]
  },
  {
   "cell_type": "code",
   "execution_count": null,
   "id": "879b7e61",
   "metadata": {
    "ExecuteTime": {
     "end_time": "2022-05-09T10:47:33.915270Z",
     "start_time": "2022-05-09T10:47:31.467Z"
    }
   },
   "outputs": [],
   "source": [
    "fig, out_db = __makeplot_colorlines_decibel(config, ff, psds_db, columns)"
   ]
  },
  {
   "cell_type": "markdown",
   "id": "e6c4a74a",
   "metadata": {},
   "source": [
    "### Write to file"
   ]
  },
  {
   "cell_type": "code",
   "execution_count": null,
   "id": "a69223b0",
   "metadata": {
    "ExecuteTime": {
     "end_time": "2022-05-09T10:47:33.915801Z",
     "start_time": "2022-05-09T10:47:31.468Z"
    }
   },
   "outputs": [],
   "source": [
    "if config['save']:\n",
    "    out_db.to_csv(f\"{inpath}{inname}_DB.csv\", sep=\",\")\n",
    "    print(f\" -> writing to {inpath}{inname}_DB.csv\")"
   ]
  },
  {
   "cell_type": "markdown",
   "id": "biblical-alloy",
   "metadata": {},
   "source": [
    "## Calculate and Plot Density"
   ]
  },
  {
   "cell_type": "markdown",
   "id": "63557881",
   "metadata": {},
   "source": [
    "Convert to logaritmic values"
   ]
  },
  {
   "cell_type": "code",
   "execution_count": null,
   "id": "234f5273",
   "metadata": {
    "ExecuteTime": {
     "end_time": "2022-05-09T10:47:33.916367Z",
     "start_time": "2022-05-09T10:47:31.471Z"
    },
    "code_folding": [
     0
    ]
   },
   "outputs": [],
   "source": [
    "# def __convert_to_log(psds):\n",
    "\n",
    "#     print(psds.shape)\n",
    "\n",
    "#     psds_new = zeros(psds.shape)\n",
    "#     rows_with_zeros = 0\n",
    "#     for i, psd in enumerate(psds):\n",
    "#         if count_nonzero(psd) != len(psd):\n",
    "#             rows_with_zeros +=1\n",
    "#             psd = [nan for val in psd if val == 0]\n",
    "#         psds_new[i,:] = log10(psd)\n",
    "#         if isinf(psds_new[i,:]).any():\n",
    "#             psds_new[i,:] = nan * ones(len(psds_new[i,:]))\n",
    "            \n",
    "#     return psds_new\n",
    "\n",
    "# psds_log = __convert_to_log(psds)"
   ]
  },
  {
   "cell_type": "code",
   "execution_count": null,
   "id": "c328c916",
   "metadata": {
    "ExecuteTime": {
     "end_time": "2022-05-09T10:47:33.916924Z",
     "start_time": "2022-05-09T10:47:31.473Z"
    },
    "code_folding": [
     0
    ]
   },
   "outputs": [],
   "source": [
    "def __calculate_density(psd_array, bins=20, density=False):\n",
    "\n",
    "    from numpy import argmax, std, median, isnan, array, histogram, nan, zeros, count_nonzero, log10, isinf\n",
    "    from scipy.stats import median_abs_deviation as mad\n",
    "    \n",
    "    def __convert_to_log(in_psds):\n",
    "\n",
    "        print(in_psds.shape)\n",
    "\n",
    "        out_psds = zeros(in_psds.shape)\n",
    "        rows_with_zeros = 0\n",
    "        for i, psd in enumerate(in_psds):\n",
    "            if count_nonzero(psd) != len(psd):\n",
    "                rows_with_zeros +=1\n",
    "                psd = [nan for val in psd if val == 0]\n",
    "            out_psds[i,:] = log10(psd)\n",
    "            if isinf(out_psds[i,:]).any():\n",
    "                out_psds[i,:] = nan * ones(len(out_psds[i,:]))\n",
    "\n",
    "        return out_psds\n",
    "\n",
    "    psd_array = __convert_to_log(psd_array)\n",
    "    \n",
    "    ## exclude psds with only NaN values\n",
    "    psds = array([psd for psd in psd_array if not isnan(psd).all()])\n",
    "\n",
    "    ## find overall minimum and maxium values\n",
    "    max_value = max([max(sublist) for sublist in psd_array])\n",
    "    min_value = min([min(sublist) for sublist in psd_array])\n",
    "    print(min_value, max_value)\n",
    "\n",
    "    ## define empty lists\n",
    "    dist, dist_maximas, bins_maximas, bins_medians, stds, mads = [], [], [], [], [], []\n",
    "    \n",
    "    count = 0\n",
    "\n",
    "    for h in range(len(psd_array[1])):\n",
    "        \n",
    "        psd = psd_array[:,h]\n",
    "        \n",
    "        hist, bin_edges = histogram(psd, bins=bins, range=(min_value, max_value), density=density);\n",
    "                \n",
    "        bin_mids = 0.5*(bin_edges[1:] + bin_edges[:-1])\n",
    "        \n",
    "        ## normalization\n",
    "#         if  True:\n",
    "#             hist = [val / len(psd_array[:,h]) for val in hist]\n",
    "#             config['set_density'] = True\n",
    "\n",
    "        ## check if density works\n",
    "        DX = abs(max_value-min_value)/bins\n",
    "        SUM = sum(hist)\n",
    "        if str(SUM*DX) != \"1.0\":\n",
    "            count+=1\n",
    "        \n",
    "        ## modify histogram with range increment\n",
    "        hist = hist*DX\n",
    "        \n",
    "        ## append values to list\n",
    "        dist.append(hist)\n",
    "        stds.append(std(hist))\n",
    "        dist_maximas.append(max(hist))\n",
    "        bins_maximas.append(bin_mids[argmax(hist)])\n",
    "        mads.append(mad(hist)) \n",
    "        \n",
    "        ## compute median\n",
    "        psd = psd[~(isnan(psd))]\n",
    "        bins_medians.append(median(psd[psd != 0]))\n",
    "\n",
    "    ## undo log conversion    \n",
    "    output = {}\n",
    "    output['dist'] = array(dist)\n",
    "    output['bin_mids'] = 10**array(bin_mids)\n",
    "    output['bins_maximas'] = 10**array(bins_maximas)\n",
    "    output['stds'] = 10**array(stds)\n",
    "    output['mads'] = 10**array(mads)\n",
    "    output['bins_medians'] = 10**array(bins_medians)\n",
    "    output['set_density'] = density\n",
    "    output['total'] = psd_array.shape[0]\n",
    "    \n",
    "    if count > 0:\n",
    "        print(f\" {count} errors found for density computation!!!\")\n",
    "    \n",
    "    return output"
   ]
  },
  {
   "cell_type": "code",
   "execution_count": null,
   "id": "stuffed-furniture",
   "metadata": {
    "ExecuteTime": {
     "end_time": "2022-05-09T10:47:33.917474Z",
     "start_time": "2022-05-09T10:47:31.474Z"
    },
    "code_folding": [
     0
    ]
   },
   "outputs": [],
   "source": [
    "# def __calculate_density(psd_array, bins=20, density=False):\n",
    "\n",
    "#     from numpy import argmax, std, median, isnan, array, histogram\n",
    "\n",
    "#     ## exclude psds with only NaN values\n",
    "#     psds = array([psd for psd in psd_array if not isnan(psd).all()])\n",
    "\n",
    "    \n",
    "#     ## find overall minimum and maxium values\n",
    "#     max_value = max([max(sublist) for sublist in psd_array])\n",
    "#     min_value = min([min(sublist) for sublist in psd_array])\n",
    "#     print(min_value, max_value)\n",
    "\n",
    "#     ## define empty lists\n",
    "#     dist, dist_maximas, bins_maximas, bins_medians, stds, mads = [], [], [], [], [], []\n",
    "    \n",
    "#     for h in range(len(psd_array[1])):\n",
    "        \n",
    "#         psd = psd_array[:,h]\n",
    "        \n",
    "#         hist, bin_edges = histogram(psd, bins=bins, range=(min_value, max_value), density=density);\n",
    "        \n",
    "#         bin_mids = 0.5*(bin_edges[1:] + bin_edges[:-1])\n",
    "        \n",
    "# #         if density:\n",
    "# #             hist = [val / len(psd_array[:,h]) for val in hist]\n",
    "\n",
    "#         ## check if density works\n",
    "#         DX = abs(max_value-min_value)/bins\n",
    "#         SUM = sum(hist)\n",
    "#         if str(SUM*DX) != \"1.0\":\n",
    "#             count+=1\n",
    "        \n",
    "#         ## modify histogram with range increment\n",
    "#         hist = hist*DX\n",
    "        \n",
    "#         ## append values to list\n",
    "#         dist.append(hist)\n",
    "#         stds.append(std(hist))\n",
    "#         dist_maximas.append(max(hist))\n",
    "#         bins_maximas.append(bin_mids[argmax(hist)])\n",
    "#         mads.append(mad(hist)) \n",
    "        \n",
    "#         ## compute median\n",
    "#         psd = psd[~(isnan(psd))]\n",
    "#         bins_medians.append(median(psd[psd != 0]))\n",
    "\n",
    "#     ## undo log conversion    \n",
    "#     output = {}\n",
    "#     output['dist'] = array(dist)\n",
    "#     output['bin_mids'] = 10**array(bin_mids)\n",
    "#     output['bins_maximas'] = 10**array(bins_maximas)\n",
    "#     output['stds'] = 10**array(stds)\n",
    "#     output['mads'] = 10**array(mads)\n",
    "#     output['bins_medians'] = 10**array(bins_medians)\n",
    "#     output['set_density'] = density\n",
    "#     output['total'] = psd_array.shape[0]\n",
    "    \n",
    "#     if count > 0:\n",
    "#         print(f\" {count} errors found for density computation!!!\")\n",
    "    \n",
    "    \n",
    "#     return output"
   ]
  },
  {
   "cell_type": "code",
   "execution_count": null,
   "id": "0b6ec1eb",
   "metadata": {
    "ExecuteTime": {
     "end_time": "2022-05-09T10:47:33.918077Z",
     "start_time": "2022-05-09T10:47:31.476Z"
    }
   },
   "outputs": [],
   "source": [
    "output = __calculate_density(psds, bins=200, density=True)"
   ]
  },
  {
   "cell_type": "code",
   "execution_count": null,
   "id": "a62d8b0c",
   "metadata": {
    "ExecuteTime": {
     "end_time": "2022-05-09T10:47:33.918634Z",
     "start_time": "2022-05-09T10:47:31.479Z"
    },
    "code_folding": [
     0
    ]
   },
   "outputs": [],
   "source": [
    "def __makeplot_PPSD(ff, output, config):\n",
    "\n",
    "    from matplotlib import colors\n",
    "    from numpy import ones, convolve\n",
    "\n",
    "    \n",
    "    def moving_average(x, w):\n",
    "        return convolve(x, ones(w), 'same') / w\n",
    "\n",
    "    \n",
    "    bins, bins_medians, bins_maximas, dist = output['bin_mids'], output['bins_medians'], output['bins_maximas'], output['dist']\n",
    "    \n",
    "    y_axis = 10**bins\n",
    "    x_axis = ff\n",
    "\n",
    "    \n",
    "    \n",
    "    ## plotting\n",
    "    fig = plt.figure(figsize=(13,6))\n",
    "\n",
    "    font=14\n",
    "\n",
    "    cmap = plt.cm.get_cmap('magma_r')\n",
    "    cmap.set_under(color='white')\n",
    "\n",
    "    im = plt.pcolor(x_axis, y_axis, dist.T, \n",
    "                    cmap=cmap,\n",
    "                    vmin=1e-12, \n",
    "#                     norm=colors.LogNorm(), \n",
    "                   )\n",
    "\n",
    "    fs = x_axis[2]-x_axis[1]\n",
    "    \n",
    "    bins_maximas_avg = moving_average(bins_maximas, 5)\n",
    "    \n",
    "    plt.plot(x_axis+fs/2, 10**array(bins_maximas_avg), color='black', alpha=0.5)\n",
    "    plt.plot(x_axis+fs/2, 10**array(bins_medians), color='white', alpha=0.5)\n",
    "    \n",
    "\n",
    "    plt.xscale('log')\n",
    "    plt.yscale('log')\n",
    "\n",
    "#     plt.xlim(config['frequency_limits'][0], config['frequency_limits'][1])\n",
    "#     plt.xlim(min(ff), max(ff))\n",
    "    plt.xlim(0.005, 5)\n",
    "\n",
    "    ## ROMY\n",
    "#     plt.ylim(10**-24, 10**-16)\n",
    "\n",
    "    ##RLAS\n",
    "    plt.ylim(10**-27, 10**-17)\n",
    "    \n",
    "    caxes = fig.add_axes()\n",
    "\n",
    "    cb = plt.colorbar(im, cax=caxes)\n",
    "    \n",
    "    if output['set_density']:\n",
    "        cb.set_label(\"Propability Density\", fontsize=font)\n",
    "    else:\n",
    "        cb.set_label(\"Counts\", fontsize=font)\n",
    "    \n",
    "    plt.ylabel(r\"PPSD (rad$^2$/s$^2$/$Hz)$\", fontsize=font)\n",
    "    # plt.ylabel(f\"PSD (dB rel. to {round(max_value,3)} V$^2$/Hz )\",fontsize=font)\n",
    "    plt.xlabel(\"Frequency (Hz)\",fontsize=font)\n",
    "    plt.title(f\"PPSD {config['ring']} [{config['date1'].date} - {config['date2'].date}]; total = {output['total']}\",fontsize=font+2)\n",
    "    \n",
    "    plt.tick_params(axis='both', labelsize=font-2)\n",
    "\n",
    "    plt.show();\n",
    "    return fig"
   ]
  },
  {
   "cell_type": "code",
   "execution_count": null,
   "id": "linear-belle",
   "metadata": {
    "ExecuteTime": {
     "end_time": "2022-05-09T10:47:33.919161Z",
     "start_time": "2022-05-09T10:47:31.479Z"
    },
    "code_folding": [],
    "scrolled": true
   },
   "outputs": [],
   "source": [
    "fig = __makeplot_PPSD(ff, output, config)"
   ]
  },
  {
   "cell_type": "code",
   "execution_count": null,
   "id": "56b1d24a",
   "metadata": {
    "ExecuteTime": {
     "end_time": "2022-05-09T10:47:33.919687Z",
     "start_time": "2022-05-09T10:47:31.480Z"
    }
   },
   "outputs": [],
   "source": [
    "output = __calculate_density(psds, bins=100, density=True)"
   ]
  },
  {
   "cell_type": "code",
   "execution_count": null,
   "id": "f7e424cf",
   "metadata": {
    "ExecuteTime": {
     "end_time": "2022-05-09T10:47:33.920270Z",
     "start_time": "2022-05-09T10:47:31.482Z"
    },
    "code_folding": [
     0
    ]
   },
   "outputs": [],
   "source": [
    "def __makeplot_PPSD(ff, output, config, mode=None):\n",
    "\n",
    "    from matplotlib import colors\n",
    "    from numpy import ones, convolve, array, log10, roll, sqrt\n",
    "\n",
    "    bins, bins_medians, bins_maximas, dist = output['bin_mids'], output['bins_medians'], output['bins_maximas'], output['dist']\n",
    "    \n",
    "    if mode is \"DB\":\n",
    "        y_axis = 10*log10(bins)\n",
    "    elif mode is \"PSD\":\n",
    "        y_axis = bins\n",
    "    elif mode is \"ASD\":\n",
    "        y_axis = sqrt(bins)\n",
    "        \n",
    "    x_axis = ff\n",
    "\n",
    "    ## plotting\n",
    "    fig, ax = plt.subplots(1,1,figsize=(13,6))\n",
    "\n",
    "    font=14\n",
    "\n",
    "    cmap = plt.cm.get_cmap('magma_r')\n",
    "#     cmap = plt.cm.get_cmap('gray_r')\n",
    "    cmap.set_under(color='white')\n",
    "\n",
    "    im = plt.pcolor(x_axis, y_axis, dist.T, \n",
    "                    cmap=cmap,\n",
    "                    vmin=1e-12, \n",
    "                    alpha=0.99,\n",
    "                   )\n",
    "\n",
    "    ## add Frequency Axis\n",
    "    g = lambda x: 1/x\n",
    "    ax2 = ax.secondary_xaxis(\"top\", functions=(g,g))\n",
    "    ax2.set_xlabel(\"Frequency in Hz\", fontsize=font, labelpad=5)\n",
    "    ax2.set_xticklabels(1/ff, fontsize=11)    \n",
    "    \n",
    "    \n",
    "    if mode is \"DB\":\n",
    "        plt.plot(x_axis, 10*log10(bins_medians), color='black', alpha=0.5, label=\"RNLM\")\n",
    "        plt.ylim(-200, -80)\n",
    "\n",
    "    elif mode is \"PSD\":\n",
    "        plt.plot(x_axis, bins_medians, color='black', alpha=0.5, label=\"RNLM\")\n",
    "        plt.yscale('log')\n",
    "        plt.ylim(10**-20, 10**-13)\n",
    "  \n",
    "    elif mode is \"ASD\":  \n",
    "        plt.plot(x_axis, sqrt(bins_medians), color='black', alpha=0.5, label=\"RNLM\")\n",
    "        plt.yscale('log')\n",
    "        plt.ylim(10**-10, 2*10**-7)\n",
    "\n",
    "    \n",
    "#     plt.fill_betweenx(range(-270, -140), x1=0, x2=2.5, color=\"grey\", alpha=0.4)\n",
    "#     plt.fill_betweenx(range(-270, -140), x1=200, x2=max(ff), color=\"grey\", alpha=0.4)\n",
    "\n",
    "    ## modify x-axis\n",
    "    plt.xscale('log')\n",
    "    plt.xlim([min(x_axis), max(x_axis)])\n",
    "#     plt.xlim(1, 300)\n",
    "    \n",
    "    ## add colorbar\n",
    "    caxes = fig.add_axes()\n",
    "    cb = plt.colorbar(im, cax=caxes, alpha=1.0)\n",
    "    \n",
    "    if output['set_density']:\n",
    "        cb.set_label(\"Propability Density\", fontsize=font)\n",
    "    else:\n",
    "        cb.set_label(\"Counts\", fontsize=font)\n",
    "        cb.set_label(\"Propability Density\", fontsize=font)\n",
    "    \n",
    "    if mode is \"DB\":\n",
    "#         plt.ylabel(r\"PPSD in dB (rel. to 1 m$^4$/s$^2$/$Hz$)\", fontsize=font)\n",
    "        plt.ylabel(r\"PPSD in dB (rel. to 1 rad$^2$/s$^2$/$Hz$)\", fontsize=font)\n",
    "    elif mode is \"PSD\":\n",
    "#         plt.ylabel(r\"PPSD in m$^4$/s$^2$/$Hz$\", fontsize=font)\n",
    "        plt.ylabel(r\"PPSD in $\\frac{rad^2}{s^2 Hz}$\", fontsize=font)\n",
    "    elif mode is \"ASD\":\n",
    "        plt.ylabel(r\"PASD in $\\frac{rad}{s \\sqrt{Hz}}$\", fontsize=font)\n",
    "        \n",
    "    plt.grid(axis=\"both\", which=\"both\", ls=\"--\", zorder=0)\n",
    "    plt.legend()\n",
    "    \n",
    "    plt.xlabel(\"Period in seconds\", fontsize=font)\n",
    "\n",
    "    plt.tick_params(axis='both', labelsize=font-2)\n",
    "\n",
    "    plt.show();\n",
    "    return fig"
   ]
  },
  {
   "cell_type": "code",
   "execution_count": null,
   "id": "4259d862",
   "metadata": {
    "ExecuteTime": {
     "end_time": "2022-05-09T10:47:33.920829Z",
     "start_time": "2022-05-09T10:47:31.483Z"
    }
   },
   "outputs": [],
   "source": [
    "fig = __makeplot_PPSD(ff, output, config, mode=\"ASD\")"
   ]
  },
  {
   "cell_type": "code",
   "execution_count": null,
   "id": "0fcea102",
   "metadata": {
    "ExecuteTime": {
     "end_time": "2022-05-04T14:08:39.999086Z",
     "start_time": "2022-05-04T14:08:39.995422Z"
    }
   },
   "outputs": [],
   "source": []
  },
  {
   "cell_type": "code",
   "execution_count": null,
   "id": "d1e4c402",
   "metadata": {},
   "outputs": [],
   "source": []
  }
 ],
 "metadata": {
  "kernelspec": {
   "display_name": "Python 3",
   "language": "python",
   "name": "python3"
  },
  "language_info": {
   "codemirror_mode": {
    "name": "ipython",
    "version": 3
   },
   "file_extension": ".py",
   "mimetype": "text/x-python",
   "name": "python",
   "nbconvert_exporter": "python",
   "pygments_lexer": "ipython3",
   "version": "3.7.7"
  }
 },
 "nbformat": 4,
 "nbformat_minor": 5
}
