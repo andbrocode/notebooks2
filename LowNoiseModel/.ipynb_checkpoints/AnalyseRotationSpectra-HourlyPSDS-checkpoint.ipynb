{
 "cells": [
  {
   "cell_type": "markdown",
   "id": "eda030d3",
   "metadata": {},
   "source": [
    "# Analyse Rotation Spectra - Hourly PSDS"
   ]
  },
  {
   "cell_type": "markdown",
   "id": "protected-presentation",
   "metadata": {},
   "source": [
    "## Load Libraries"
   ]
  },
  {
   "cell_type": "code",
   "execution_count": 1,
   "id": "behind-arrangement",
   "metadata": {
    "ExecuteTime": {
     "end_time": "2022-08-11T10:28:20.299983Z",
     "start_time": "2022-08-11T10:28:19.545506Z"
    }
   },
   "outputs": [],
   "source": [
    "from andbro__querrySeismoData import __querrySeismoData\n",
    "from obspy import UTCDateTime\n",
    "from scipy.signal import welch\n",
    "from numpy import log10, zeros, pi, append, linspace, mean, median, array, where, transpose, shape, histogram, arange\n",
    "from numpy import logspace, linspace, log, log10, isinf, ones, nan, count_nonzero, sqrt, isnan\n",
    "from pandas import DataFrame, concat, Series, date_range, read_csv, read_pickle\n",
    "from tqdm import tqdm_notebook\n",
    "from pathlib import Path\n",
    "from scipy.stats import median_absolute_deviation as mad\n",
    "\n",
    "import os\n",
    "import pickle\n",
    "import matplotlib.pyplot as plt"
   ]
  },
  {
   "cell_type": "code",
   "execution_count": 2,
   "id": "e4858b93",
   "metadata": {
    "ExecuteTime": {
     "end_time": "2022-08-11T10:28:20.304162Z",
     "start_time": "2022-08-11T10:28:20.301004Z"
    },
    "code_folding": [
     0
    ]
   },
   "outputs": [],
   "source": [
    "def __get_minimal_psd(psds):\n",
    "\n",
    "    from numpy import nanmin, array, nonzero\n",
    "    \n",
    "    min_psd = zeros(psds.shape[1])\n",
    "    \n",
    "    for f in range(psds.shape[1]):\n",
    "        a = psds[:,f]\n",
    "        min_psd[f] = nanmin(a[nonzero(a)])\n",
    "    \n",
    "    return min_psd"
   ]
  },
  {
   "cell_type": "code",
   "execution_count": 3,
   "id": "396e24f9",
   "metadata": {
    "ExecuteTime": {
     "end_time": "2022-08-11T10:28:20.308822Z",
     "start_time": "2022-08-11T10:28:20.305939Z"
    },
    "code_folding": [
     0
    ]
   },
   "outputs": [],
   "source": [
    "def __get_median_psd(psds):\n",
    "\n",
    "    from numpy import median, zeros, isnan\n",
    "\n",
    "    med_psd = zeros(psds.shape[1])\n",
    "\n",
    "    for f in range(psds.shape[1]):\n",
    "        a = psds[:,f]\n",
    "        med_psd[f] = median(a[~isnan(a)])\n",
    "\n",
    "    return med_psd"
   ]
  },
  {
   "cell_type": "code",
   "execution_count": 4,
   "id": "af6a3772",
   "metadata": {
    "ExecuteTime": {
     "end_time": "2022-08-11T10:28:20.313795Z",
     "start_time": "2022-08-11T10:28:20.309837Z"
    },
    "code_folding": [
     0
    ]
   },
   "outputs": [],
   "source": [
    "def __get_minimum_psd(psds, f_tmp):\n",
    "    \n",
    "    from numpy import median\n",
    "    \n",
    "    f_before = f_tmp[0]\n",
    "    f_tmp[0] = 1e-9\n",
    "    \n",
    "    for i, psd in enumerate(psds):\n",
    "        if i == 0: \n",
    "            lowest_value = (psds[0]/f_tmp).sum()\n",
    "#             lowest_value = median(psds[0]/f_tmp)\n",
    "            idx = 0\n",
    "\n",
    "        value = (psd/f_tmp).sum() \n",
    "#         value = median(psd/f_tmp)\n",
    "        \n",
    "        if value < lowest_value and value != 0:\n",
    "            lowest_value = value\n",
    "            idx = i\n",
    "\n",
    "    f_tmp[0] = f_before      \n",
    "    \n",
    "    return psds[idx]"
   ]
  },
  {
   "cell_type": "code",
   "execution_count": 5,
   "id": "df484686",
   "metadata": {
    "ExecuteTime": {
     "end_time": "2022-08-11T10:28:20.317470Z",
     "start_time": "2022-08-11T10:28:20.315315Z"
    },
    "code_folding": [
     0
    ]
   },
   "outputs": [],
   "source": [
    "# def __write_to_csv(data, text, config):\n",
    "    \n",
    "#     import csv\n",
    "    \n",
    "#     opath = config['outpath']\n",
    "#     oname = config['outname']+\"_\"+text+\"_psd.csv\"\n",
    "    \n",
    "#     # open the file in the write mode\n",
    "#     with open(opath+oname, 'w') as file:\n",
    "\n",
    "#         writer = csv.writer(file)\n",
    "#         for row in data:\n",
    "#             writer.writerow(row)\n",
    "            \n",
    "#     if Path(opath+oname).exists():\n",
    "#         print(f\"created: {opath}{oname}\")"
   ]
  },
  {
   "cell_type": "code",
   "execution_count": 6,
   "id": "d4ffd698",
   "metadata": {
    "ExecuteTime": {
     "end_time": "2022-08-11T10:28:20.323197Z",
     "start_time": "2022-08-11T10:28:20.318875Z"
    },
    "code_folding": [
     0
    ]
   },
   "outputs": [],
   "source": [
    "def __get_array_from_dataframe(df):\n",
    "    \n",
    "    from pandas import to_numeric\n",
    "    \n",
    "    ## convert to list\n",
    "    psds = []\n",
    "    for col in array(df.columns):\n",
    "        \n",
    "        ## turn non-float series to float objects\n",
    "        df[col] = to_numeric(df[col], errors = 'coerce')\n",
    "\n",
    "        ## add to psds list\n",
    "        psds.append(array(df[col]))\n",
    "\n",
    "    return array(psds)"
   ]
  },
  {
   "cell_type": "code",
   "execution_count": 7,
   "id": "d96b49a7",
   "metadata": {
    "ExecuteTime": {
     "end_time": "2022-08-11T10:28:20.440216Z",
     "start_time": "2022-08-11T10:28:20.435564Z"
    }
   },
   "outputs": [],
   "source": [
    "if os.uname().nodename == \"lighthouse\":\n",
    "    root_path = \"/home/andbro/kilauea-data/\"\n",
    "elif os.uname().nodename == \"kilauea\":\n",
    "    root_path = \"/import/kilauea-data/\""
   ]
  },
  {
   "cell_type": "markdown",
   "id": "subject-expression",
   "metadata": {},
   "source": [
    "## Configurations"
   ]
  },
  {
   "cell_type": "code",
   "execution_count": 8,
   "id": "e89d22a7",
   "metadata": {
    "ExecuteTime": {
     "end_time": "2022-08-11T10:28:21.759847Z",
     "start_time": "2022-08-11T10:28:21.583900Z"
    }
   },
   "outputs": [],
   "source": [
    "inname = \"run_2019_ROMY-Z_3600_hours\"\n",
    "\n",
    "inpath = f\"{root_path}ROMY/RotationSpectra/data/{inname}/\"\n",
    "\n",
    "## load configurations\n",
    "config = pickle.load(open(inpath+inname+\"_config.pkl\", 'rb'))\n",
    "\n",
    "config['save'] = False\n",
    "\n",
    "config['inname'] = inname\n",
    "config['inpath'] = inpath\n",
    "\n",
    "config['frequency_limits'] = [0.0001, 1]\n",
    "\n",
    "\n",
    "\n",
    "## load frequencies\n",
    "ff = pickle.load(open(f\"{config['inpath']}{config['inname']}_frequency_axis.pkl\", 'rb'))\n"
   ]
  },
  {
   "cell_type": "markdown",
   "id": "natural-beginning",
   "metadata": {},
   "source": [
    "## Loading"
   ]
  },
  {
   "cell_type": "code",
   "execution_count": 9,
   "id": "c78ae806",
   "metadata": {
    "ExecuteTime": {
     "end_time": "2022-08-11T10:28:22.719611Z",
     "start_time": "2022-08-11T10:28:22.712903Z"
    },
    "code_folding": [
     0
    ]
   },
   "outputs": [],
   "source": [
    "def __filter_psds(psds, times, thresholds):\n",
    "    \n",
    "    from numpy import mean, array\n",
    "    \n",
    "    psds_filtered, times_filtered = [],[]\n",
    "    for psd, time in zip(psds, times):\n",
    "        \n",
    "        ## filter mean psds values\n",
    "#         m_psd = mean(psd)\n",
    "#         if m_psd > thresholds[0] and m_psd < thresholds[1]:\n",
    "#             psds_filtered.append(psd)\n",
    "\n",
    "\n",
    "        ## filter for periods larger than 20 seconds\n",
    "        if mean(psd[0:63]) < thresholds[0]:\n",
    "            psds_filtered.append(psd)\n",
    "            times_filtered.append(time)\n",
    "                \n",
    "    print(f\" -> removed {len(psds)- len(psds_filtered)} of {len(psds)} psds due to thresholds: {thresholds[0]} & {thresholds[1]}\")\n",
    "    return array(psds_filtered), array(times_filtered)"
   ]
  },
  {
   "cell_type": "code",
   "execution_count": 10,
   "id": "137949b6",
   "metadata": {
    "ExecuteTime": {
     "end_time": "2022-08-11T10:28:23.428407Z",
     "start_time": "2022-08-11T10:28:23.420176Z"
    },
    "code_folding": [
     0
    ]
   },
   "outputs": [],
   "source": [
    "def __load_data_files(config):\n",
    "    \n",
    "    from tqdm.notebook import tqdm\n",
    "    from numpy import array\n",
    "    \n",
    "    config['files'] = [file for file in os.listdir(config['inpath']) if \"hourly\" in file]\n",
    "    config['files'].sort()\n",
    "\n",
    "    psds_all, times = [],[]\n",
    "    for file in tqdm(config['files']):\n",
    "\n",
    "        date = file.split(\"_\")[4][5:]\n",
    "        psds_hourly = read_pickle(config['inpath']+file)\n",
    "        \n",
    "        for h, psd in enumerate(psds_hourly):\n",
    "            psds_all.append(psd)\n",
    "            times.append(int(date+str(h).rjust(2,\"0\")))\n",
    "            \n",
    "#         psds_all.append(__get_minimum_psd(psds_hourly, ff))\n",
    "    return array(psds_all), times"
   ]
  },
  {
   "cell_type": "code",
   "execution_count": 11,
   "id": "5a6a8e8b",
   "metadata": {
    "ExecuteTime": {
     "end_time": "2022-08-11T10:31:32.703504Z",
     "start_time": "2022-08-11T10:28:23.652727Z"
    }
   },
   "outputs": [
    {
     "data": {
      "application/vnd.jupyter.widget-view+json": {
       "model_id": "ff0b4d6bd8754187aa16d74a61a9700e",
       "version_major": 2,
       "version_minor": 0
      },
      "text/plain": [
       "HBox(children=(HTML(value=''), FloatProgress(value=0.0, max=365.0), HTML(value='')))"
      ]
     },
     "metadata": {},
     "output_type": "display_data"
    },
    {
     "name": "stdout",
     "output_type": "stream",
     "text": [
      "\n"
     ]
    }
   ],
   "source": [
    "psds, times = __load_data_files(config)\n",
    "\n",
    "columns = [f.split(\"_\")[4][5:] for f in config['files']]"
   ]
  },
  {
   "cell_type": "markdown",
   "id": "625f1125",
   "metadata": {},
   "source": [
    "## Filter"
   ]
  },
  {
   "cell_type": "code",
   "execution_count": 13,
   "id": "be610111",
   "metadata": {
    "ExecuteTime": {
     "end_time": "2022-08-11T09:13:27.640544Z",
     "start_time": "2022-08-11T09:13:27.145131Z"
    },
    "code_folding": []
   },
   "outputs": [
    {
     "name": "stdout",
     "output_type": "stream",
     "text": [
      " -> removed 2924 of 8396 psds due to thresholds: 1e-19 & 5e-19\n"
     ]
    }
   ],
   "source": [
    "# median_before = __get_median_psd(psds)\n",
    "\n",
    "if \"RLAS-Z\" in config['inname'].split(\"_\"):\n",
    "    psds_filtered, times_filtered = __filter_psds(psds, times, [1e-21, 5e-21])\n",
    "elif \"ROMY-Z\" in config['inname'].split(\"_\"):\n",
    "    psds_filtered, times_filtered = __filter_psds(psds, times, [1e-19, 5e-19])"
   ]
  },
  {
   "cell_type": "markdown",
   "id": "855865b0",
   "metadata": {
    "ExecuteTime": {
     "end_time": "2022-08-11T10:31:32.707977Z",
     "start_time": "2022-08-11T10:31:32.705282Z"
    }
   },
   "source": [
    "### Write Filtered PSDS"
   ]
  },
  {
   "cell_type": "code",
   "execution_count": 30,
   "id": "2b8b1666",
   "metadata": {
    "ExecuteTime": {
     "end_time": "2022-08-11T09:32:26.330633Z",
     "start_time": "2022-08-11T09:30:31.694166Z"
    },
    "code_folding": []
   },
   "outputs": [],
   "source": [
    "# output = {\"times\": times_filtered, \"frequencies\": ff, \"data\": psds_filtered}\n",
    "\n",
    "# with open(f\"{inpath}{inname}psds_filtered.pkl\", 'wb') as file:\n",
    "#     pickle.dump(output, file, protocol=pickle.HIGHEST_PROTOCOL)"
   ]
  },
  {
   "cell_type": "markdown",
   "id": "086fd5d0",
   "metadata": {},
   "source": [
    "## Plotting"
   ]
  },
  {
   "cell_type": "code",
   "execution_count": null,
   "id": "ce64c931",
   "metadata": {
    "ExecuteTime": {
     "end_time": "2022-08-10T17:35:39.870691Z",
     "start_time": "2022-08-10T17:35:39.857227Z"
    },
    "code_folding": [
     0
    ]
   },
   "outputs": [],
   "source": [
    "def __makeplot_colorlines(config, ff, psds, columns):\n",
    "    \n",
    "    from tqdm.notebook import tqdm\n",
    "    from numpy import isnan, median, mean, std, array, zeros\n",
    "    from scipy.stats import median_abs_deviation as mad\n",
    "    \n",
    "    psds_median = __get_median_psd(array(psds))\n",
    "    psds_minimal = __get_minimal_psd(array(psds))\n",
    "#     psds_minimum = __get_minimum_psd(array(psds), ff)\n",
    "    \n",
    "    pp = zeros(len(ff))\n",
    "    pp[:-1] = 1/ff[1:]\n",
    "        \n",
    "    ##____________________________\n",
    "    \n",
    "    fig, ax = plt.subplots(1,1, figsize=(15,10), sharey=False, sharex=True)\n",
    "\n",
    "    font = 15\n",
    "\n",
    "    N = psds.shape[0]\n",
    "    colors = plt.cm.rainbow(linspace(0, 1, N))\n",
    "\n",
    "\n",
    "    for n, psd in enumerate(tqdm(psds)):\n",
    "        ax.loglog(pp, psd, color=colors[n], alpha=0.7)\n",
    "        p2 = ax.scatter(ff[0], psd[0], s=0., c=n, cmap='rainbow', vmin=0, vmax=N)\n",
    "\n",
    "\n",
    "    ax.loglog(pp, psds_median, 'black', zorder=3, alpha=0.9)\n",
    "#     ax.loglog(pp, psds_minimal, 'grey', zorder=2, alpha=1.0)\n",
    "  \n",
    "#     ax.loglog(pp, median_before, 'white', zorder=3, alpha=0.9)\n",
    "\n",
    "\n",
    "    ax.set_title(f\"{config['inname'].split('_')[2]} {config['inname'].split('_')[1]} ({len(psds)})\", fontsize=font)\n",
    "\n",
    "    ax.set_xlabel(\"Period (s)\", fontsize=font)\n",
    "\n",
    "    ax.set_ylabel(r\"PSD (rad$^2$/s$^2$/$Hz)$\", fontsize=font)\n",
    "    \n",
    "    ax.grid(True, which=\"both\", ls=\"-\", alpha=0.5)\n",
    "    \n",
    "    ax.set_xlim(1,300)\n",
    "    \n",
    "    ## set colorbar at bottom\n",
    "    cbar = fig.colorbar(p2, orientation='horizontal', ax=ax, aspect=50)\n",
    "\n",
    "    ## redefine ticks of colorbar\n",
    "#     new_ticks=[]\n",
    "#     for n, t in enumerate(cbar.get_ticks()):\n",
    "#         print(n)\n",
    "#         new_ticks.append(columns[int(t)])\n",
    "#     print(new_ticks)\n",
    "#     cbar.ax.set_xticklabels(columns)\n",
    "\n",
    "\n",
    "    plt.show();    \n",
    "    return fig"
   ]
  },
  {
   "cell_type": "code",
   "execution_count": null,
   "id": "d5a44ac1",
   "metadata": {
    "ExecuteTime": {
     "end_time": "2022-08-10T17:38:25.709553Z",
     "start_time": "2022-08-10T17:35:39.872553Z"
    },
    "code_folding": []
   },
   "outputs": [],
   "source": [
    "fig = __makeplot_colorlines(config, ff, psds_filtered, columns)"
   ]
  },
  {
   "cell_type": "markdown",
   "id": "2d65495d",
   "metadata": {},
   "source": [
    "### Write to File"
   ]
  },
  {
   "cell_type": "code",
   "execution_count": null,
   "id": "e7f2a1f5",
   "metadata": {
    "ExecuteTime": {
     "end_time": "2022-08-11T07:42:36.395464Z",
     "start_time": "2022-08-11T07:42:35.940690Z"
    }
   },
   "outputs": [],
   "source": [
    "# out = DataFrame()\n",
    "# out['frequencies']  = ff\n",
    "# out['psds_minimal'] = array(__get_minimal_psd(psds_filtered))\n",
    "# out['psds_median']  = array(__get_median_psd(psds_filtered))\n",
    "\n",
    "# out.to_pickle(f\"{inpath}{inname}_stats.pkl\")\n",
    "# print(f\" -> writing to {inpath}{inname}_stats.pkl\")"
   ]
  },
  {
   "cell_type": "code",
   "execution_count": null,
   "id": "d1e4c402",
   "metadata": {
    "ExecuteTime": {
     "end_time": "2022-08-10T17:25:15.484247Z",
     "start_time": "2022-08-10T17:25:15.477286Z"
    }
   },
   "outputs": [],
   "source": [
    "ind = []\n",
    "for i,f in enumerate(ff):\n",
    "    if f >= 0.003 and f <= 0.05:\n",
    "        ind.append(i)\n",
    "idx_lower=ind[0]\n",
    "idx_upper=ind[-1]\n",
    "idx_lower, idx_upper"
   ]
  },
  {
   "cell_type": "code",
   "execution_count": null,
   "id": "4c5c0f38",
   "metadata": {},
   "outputs": [],
   "source": []
  }
 ],
 "metadata": {
  "kernelspec": {
   "display_name": "Python 3",
   "language": "python",
   "name": "python3"
  },
  "language_info": {
   "codemirror_mode": {
    "name": "ipython",
    "version": 3
   },
   "file_extension": ".py",
   "mimetype": "text/x-python",
   "name": "python",
   "nbconvert_exporter": "python",
   "pygments_lexer": "ipython3",
   "version": "3.7.8"
  },
  "latex_envs": {
   "LaTeX_envs_menu_present": true,
   "autoclose": false,
   "autocomplete": true,
   "bibliofile": "biblio.bib",
   "cite_by": "apalike",
   "current_citInitial": 1,
   "eqLabelWithNumbers": true,
   "eqNumInitial": 1,
   "hotkeys": {
    "equation": "Ctrl-E",
    "itemize": "Ctrl-I"
   },
   "labels_anchors": false,
   "latex_user_defs": false,
   "report_style_numbering": false,
   "user_envs_cfg": false
  },
  "toc": {
   "base_numbering": 1,
   "nav_menu": {},
   "number_sections": true,
   "sideBar": true,
   "skip_h1_title": false,
   "title_cell": "Table of Contents",
   "title_sidebar": "Contents",
   "toc_cell": false,
   "toc_position": {},
   "toc_section_display": true,
   "toc_window_display": false
  }
 },
 "nbformat": 4,
 "nbformat_minor": 5
}
