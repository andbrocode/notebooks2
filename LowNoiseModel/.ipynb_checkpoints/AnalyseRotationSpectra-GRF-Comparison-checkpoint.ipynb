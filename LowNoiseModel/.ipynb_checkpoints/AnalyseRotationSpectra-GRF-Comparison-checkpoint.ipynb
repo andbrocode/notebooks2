{
 "cells": [
  {
   "cell_type": "markdown",
   "id": "eda030d3",
   "metadata": {},
   "source": [
    "# Analyse Rotation Spectra - GRF - Comparison"
   ]
  },
  {
   "cell_type": "markdown",
   "id": "protected-presentation",
   "metadata": {},
   "source": [
    "## Load Libraries"
   ]
  },
  {
   "cell_type": "code",
   "execution_count": 9,
   "id": "behind-arrangement",
   "metadata": {
    "ExecuteTime": {
     "end_time": "2022-08-05T15:40:36.183348Z",
     "start_time": "2022-08-05T15:40:36.129355Z"
    }
   },
   "outputs": [],
   "source": [
    "from andbro__querrySeismoData import __querrySeismoData\n",
    "from obspy import UTCDateTime\n",
    "from scipy.signal import welch\n",
    "from numpy import log10, zeros, pi, append, linspace, mean, median, array, where, transpose, shape, histogram, arange\n",
    "from numpy import logspace, linspace, log, log10, isinf, ones, nan, count_nonzero, sqrt, isnan\n",
    "from pandas import DataFrame, concat, Series, date_range, read_csv, read_pickle\n",
    "from tqdm import tqdm_notebook\n",
    "from pathlib import Path\n",
    "from scipy.stats import median_absolute_deviation as mad\n",
    "\n",
    "import pickle\n",
    "import matplotlib.pyplot as plt"
   ]
  },
  {
   "cell_type": "code",
   "execution_count": 10,
   "id": "e5849ec7",
   "metadata": {
    "ExecuteTime": {
     "end_time": "2022-08-05T15:40:36.197830Z",
     "start_time": "2022-08-05T15:40:36.184251Z"
    },
    "code_folding": [
     0
    ]
   },
   "outputs": [],
   "source": [
    "# def __get_data(config):\n",
    "#     '''\n",
    "#     load data and remove response\n",
    "\n",
    "#     VARIABLES:\n",
    "#     '''\n",
    "\n",
    "#     try:\n",
    "#         st0, inv = __querrySeismoData(    \n",
    "#                             seed_id=config.get('seed'),\n",
    "#                             starttime=config.get('tbeg'),\n",
    "#                             endtime=config.get('tend'),\n",
    "#                             repository=config['repository'],\n",
    "#                             path=None,\n",
    "#                             restitute=False,\n",
    "#                             detail=None,\n",
    "#                             )\n",
    "\n",
    "#     except:\n",
    "#         print(f\"failed to load\")\n",
    "# #         print(f\"failed to load {config.get['seed']} {config.get['tbeg']}\")\n",
    "#         return None\n",
    "    \n",
    "#     try:\n",
    "#         st0.remove_response(inventory=inv,output=\"VEL\", zero_mean=True); \n",
    "#     except:\n",
    "#         print(f\"failed to remove response\")\n",
    "# #         print(f\"failed to remove response {config.get['seed']} {config.get['tbeg']}\")\n",
    "#         return None\n",
    "    \n",
    "#     return st0"
   ]
  },
  {
   "cell_type": "code",
   "execution_count": 11,
   "id": "e4858b93",
   "metadata": {
    "ExecuteTime": {
     "end_time": "2022-08-05T15:40:36.216144Z",
     "start_time": "2022-08-05T15:40:36.198679Z"
    },
    "code_folding": [
     0
    ]
   },
   "outputs": [],
   "source": [
    "def __get_minimal_psd(psds):\n",
    "\n",
    "    from numpy import nanmin, array, nonzero\n",
    "    \n",
    "    min_psd = zeros(psds.shape[1])\n",
    "    \n",
    "    for f in range(psds.shape[1]):\n",
    "        a = psds[:,f]\n",
    "        min_psd[f] = nanmin(a[nonzero(a)])\n",
    "    \n",
    "    return min_psd"
   ]
  },
  {
   "cell_type": "code",
   "execution_count": 12,
   "id": "d377053c",
   "metadata": {
    "ExecuteTime": {
     "end_time": "2022-08-05T15:40:36.271652Z",
     "start_time": "2022-08-05T15:40:36.269195Z"
    },
    "code_folding": [
     0
    ]
   },
   "outputs": [],
   "source": [
    "def __get_median_psd(psds):\n",
    "\n",
    "    from numpy import median, zeros, isnan\n",
    "\n",
    "    med_psd = zeros(psds.shape[1])\n",
    "\n",
    "    for f in range(psds.shape[1]):\n",
    "        a = psds[:,f]\n",
    "        med_psd[f] = median(a[~isnan(a)])\n",
    "\n",
    "    return med_psd"
   ]
  },
  {
   "cell_type": "code",
   "execution_count": 13,
   "id": "af6a3772",
   "metadata": {
    "ExecuteTime": {
     "end_time": "2022-08-05T15:40:36.435031Z",
     "start_time": "2022-08-05T15:40:36.431892Z"
    },
    "code_folding": [
     0
    ]
   },
   "outputs": [],
   "source": [
    "def __get_minimum_psd(psds, f_tmp):\n",
    "    \n",
    "    from numpy import median\n",
    "    \n",
    "    f_before = f_tmp[0]\n",
    "    f_tmp[0] = 1e-9\n",
    "    \n",
    "    for i, psd in enumerate(psds):\n",
    "        if i == 0: \n",
    "            lowest_value = (psds[0]/f_tmp).sum()\n",
    "#             lowest_value = median(psds[0]/f_tmp)\n",
    "            idx = 0\n",
    "\n",
    "        value = (psd/f_tmp).sum() \n",
    "#         value = median(psd/f_tmp)\n",
    "        \n",
    "        if value < lowest_value and value != 0:\n",
    "            lowest_value = value\n",
    "            idx = i\n",
    "\n",
    "    f_tmp[0] = f_before      \n",
    "    \n",
    "    return psds[idx]"
   ]
  },
  {
   "cell_type": "code",
   "execution_count": 14,
   "id": "df484686",
   "metadata": {
    "ExecuteTime": {
     "end_time": "2022-08-05T15:40:36.607851Z",
     "start_time": "2022-08-05T15:40:36.605112Z"
    },
    "code_folding": [
     0
    ]
   },
   "outputs": [],
   "source": [
    "def __write_to_csv(data, text, config):\n",
    "    \n",
    "    import csv\n",
    "    \n",
    "    opath = config['outpath']\n",
    "    oname = config['outname']+\"_\"+text+\"_psd.csv\"\n",
    "    \n",
    "    # open the file in the write mode\n",
    "    with open(opath+oname, 'w') as file:\n",
    "\n",
    "        writer = csv.writer(file)\n",
    "        for row in data:\n",
    "            writer.writerow(row)\n",
    "            \n",
    "    if Path(opath+oname).exists():\n",
    "        print(f\"created: {opath}{oname}\")"
   ]
  },
  {
   "cell_type": "code",
   "execution_count": 15,
   "id": "fe2e4201",
   "metadata": {
    "ExecuteTime": {
     "end_time": "2022-08-05T15:40:36.746353Z",
     "start_time": "2022-08-05T15:40:36.741149Z"
    },
    "code_folding": [
     0
    ]
   },
   "outputs": [],
   "source": [
    "def __load_psds(file, config):\n",
    "\n",
    "    ## get data to dataframe and transpose and reindex\n",
    "    df = read_csv(file, index_col=False)\n",
    "    df = df.transpose()\n",
    "    df.reset_index(inplace=True)\n",
    "    # df.dtypes\n",
    "    # df.mean()\n",
    "\n",
    "    ## set column names\n",
    "    try:\n",
    "        columns = pickle.load(open(f\"{config['inpath']}{config['inname']}_columns.pick\", 'rb'))\n",
    "        df.columns = [column.replace(\"-\",\"\") for column in columns]\n",
    "    except:\n",
    "        columns = arange(0,df.shape[1]).astype(str)\n",
    "        df.columns = columns\n",
    "        print(\" -> Failed to assign column names! Assigned numbers instead!\")\n",
    "\n",
    "    ## check for column dublicates\n",
    "    if len(df.columns.unique()) != len(df.columns):\n",
    "        print(f\" -> removing {len(df.columns)-len(df.columns.unique())} column dublicate(s)!\")\n",
    "        df = df.loc[:,~df.columns.duplicated()]\n",
    "\n",
    "    count=0\n",
    "    dates_expected = date_range(config['date1'].date, config['date2'].date, periods=int((config['date2']-config['date1'])/86400)+1)\n",
    "    for dex in dates_expected:\n",
    "        dex=str(dex.isoformat()[:10]).replace(\"-\",\"\")\n",
    "        if not dex in df.columns:\n",
    "            count+=1\n",
    "    print(f\" -> missing {count} days\")\n",
    "        \n",
    "    print(f\" -> total of {df.shape[0]} psds\")\n",
    "        \n",
    "#     ## convert to list\n",
    "#     psds = []\n",
    "#     for col in array(df.columns):\n",
    "        \n",
    "#         ## turn non-float series to float objects\n",
    "#         df[col] = pd.to_numeric(df[col], errors = 'coerce')\n",
    "\n",
    "#         ## add to psds list\n",
    "#         psds.append(array(df[col]))\n",
    "        \n",
    "    return df"
   ]
  },
  {
   "cell_type": "code",
   "execution_count": 16,
   "id": "d4ffd698",
   "metadata": {
    "ExecuteTime": {
     "end_time": "2022-08-05T15:40:36.928128Z",
     "start_time": "2022-08-05T15:40:36.925113Z"
    },
    "code_folding": [
     0
    ]
   },
   "outputs": [],
   "source": [
    "def __get_array_from_dataframe(df):\n",
    "    \n",
    "    from pandas import to_numeric\n",
    "    \n",
    "    ## convert to list\n",
    "    psds = []\n",
    "    for col in array(df.columns):\n",
    "        \n",
    "        ## turn non-float series to float objects\n",
    "        df[col] = to_numeric(df[col], errors = 'coerce')\n",
    "\n",
    "        ## add to psds list\n",
    "        psds.append(array(df[col]))\n",
    "\n",
    "    return array(psds)"
   ]
  },
  {
   "cell_type": "code",
   "execution_count": 17,
   "id": "21d2d997",
   "metadata": {
    "ExecuteTime": {
     "end_time": "2022-08-05T15:40:37.065229Z",
     "start_time": "2022-08-05T15:40:37.062411Z"
    },
    "code_folding": [
     0
    ]
   },
   "outputs": [],
   "source": [
    "def __remove_noisy_psds(df, threshold_mean=1e-13):\n",
    "\n",
    "    from numpy import delete\n",
    "    \n",
    "    l1 = len(df.columns)\n",
    "    for col in df.columns:\n",
    "#         print(col, type(col))\n",
    "        if df[col].astype(float).mean() > threshold_mean:\n",
    "            df = df.drop(columns=col)\n",
    "    l2 = len(df.columns)\n",
    "    print(f\" -> removed {l1-l2} columns due to mean thresholds!\")\n",
    "    print(f\" -> {l2} psds remain\")\n",
    "    \n",
    "    return df"
   ]
  },
  {
   "cell_type": "code",
   "execution_count": 18,
   "id": "b86aa31f",
   "metadata": {
    "ExecuteTime": {
     "end_time": "2022-08-05T15:40:37.383952Z",
     "start_time": "2022-08-05T15:40:37.221803Z"
    }
   },
   "outputs": [
    {
     "name": "stdout",
     "output_type": "stream",
     "text": [
      "overview\t\t      run_2019_ROMY-Z_3600_inner\r\n",
      "run_2019_FUR-Z_3600\t      run_2019_ROMY-Z_3600_testday\r\n",
      "run_2019_FUR-Z_3600_testday   run_2019_RPFO-E_3600\r\n",
      "run_2019_RGRF-E_3600_GRA      run_2019_RPFO-E_3600_test\r\n",
      "run_2019_RGRF-E_3600_GRB      run_2019_RPFO-N_3600\r\n",
      "run_2019_RGRF-E_3600_GRC      run_2019_RPFO-N_3600_test\r\n",
      "run_2019_RGRF-E_3600_GRF      run_2019_RPFO-Z_3600\r\n",
      "run_2019_RGRF-E_3600_GRF2     run_2019_RPFO-Z_3600_control\r\n",
      "run_2019_RGRF-E_3600_GRF3     run_2019_RPFO-Z_3600_test\r\n",
      "run_2019_RGRF-N_3600_GRA      run_2019_WET-Z_3600\r\n",
      "run_2019_RGRF-N_3600_GRB      run_2019_WET-Z_3600_testday\r\n",
      "run_2019_RGRF-N_3600_GRC      run_2021_ROMY_ADR-E_3600\r\n",
      "run_2019_RGRF-N_3600_GRF      run_2021_ROMY_ADR-N_3600\r\n",
      "run_2019_RGRF-N_3600_GRF2     run_2021_RPFO-E_3600\r\n",
      "run_2019_RGRF-N_3600_GRF3     run_2021_RPFO-E_3600_control\r\n",
      "run_2019_RGRF-Z_3600_GRA      run_2021_RPFO-N_3600\r\n",
      "run_2019_RGRF-Z_3600_GRA1     run_2021_RPFO-N_3600_control\r\n",
      "run_2019_RGRF-Z_3600_GRB      run_2021_RPFO-Z_3600\r\n",
      "run_2019_RGRF-Z_3600_GRC      run_2021_RPFO-Z_3600_control\r\n",
      "run_2019_RGRF-Z_3600_GRF      run_2022_ROMY_ADR-E_3600\r\n",
      "run_2019_RGRF-Z_3600_run1     run_2022_ROMY_ADR-E_3600_classic\r\n",
      "run_2019_RGRF-Z_3600_run2     run_2022_ROMY_ADR-N_3600\r\n",
      "run_2019_RGRF-Z_3600_run3     run_2022_ROMY_ADR-N_3600_classic\r\n",
      "run_2019_RGRF-Z_3600_run4     run_2022_ROMY_ADR-Z_3600\r\n",
      "run_2019_RGRF-Z_3600_run5     run_2022_ROMY_ADR-Z_3600_classic\r\n",
      "run_2019_RLAS-Z_3600\t      run_2022_ROMY-E_3600_all\r\n",
      "run_2019_RLAS-Z_3600_test     run_2022_ROMY-E_3600_inner\r\n",
      "run_2019_RLAS-Z_3600_testday  run_2022_ROMY-N_3600_all\r\n",
      "run_2019_ROMY_ADR-E_3600      run_2022_ROMY-N_3600_inner\r\n",
      "run_2019_ROMY_ADR-E_3600_all  run_2022_ROMY-V_3600\r\n",
      "run_2019_ROMY_ADR-N_3600_all  run_2022_ROMY-Z_3600\r\n",
      "run_2019_ROMY_ADR-Z_3600      run_2022_ROMY-Z_3600_all\r\n",
      "run_2019_ROMY_ADR-Z_3600_all  run_2022_ROMY-Z_3600_inner\r\n",
      "run_2019_ROMY-E_3600\t      testinterval\r\n",
      "run_2019_ROMY-Z_3600\r\n"
     ]
    }
   ],
   "source": [
    "!ls \"/import/kilauea-data/ROMY/RotationSpectra/data\""
   ]
  },
  {
   "cell_type": "markdown",
   "id": "subject-expression",
   "metadata": {},
   "source": [
    "## Configurations"
   ]
  },
  {
   "cell_type": "markdown",
   "id": "584a6cae",
   "metadata": {},
   "source": [
    "vp = 5400 m/s \n",
    "vs = 3000 m/s \n",
    "(nach Krüger, 1994)\n",
    "\n",
    "RUN: GR*1  (2019-06-01 - 2019-06-28)\n",
    "\n",
    "-> sigmau = 10e-7\n",
    "-> Highpass\n",
    "-> remove_sensitivity\n",
    "\n",
    "RUN: GR*2  (2019-06-01 - 2019-06-16)\n",
    "\n",
    "-> signau = 10e-10\n",
    "-> Highpass\n",
    "-> remove_response(VEL)"
   ]
  },
  {
   "cell_type": "code",
   "execution_count": 212,
   "id": "e89d22a7",
   "metadata": {
    "ExecuteTime": {
     "end_time": "2022-08-12T08:40:26.148157Z",
     "start_time": "2022-08-12T08:40:26.144476Z"
    }
   },
   "outputs": [],
   "source": [
    "inname = \"run_2019_RGRF-Z_3600_GRF1\"\n",
    "inpath = f\"/import/kilauea-data/ROMY/RotationSpectra/data/{inname}/\"\n",
    "\n",
    "config = pickle.load(open(inpath+inname+\"_config.pkl\", 'rb'))\n",
    "\n",
    "config['component'] = \"Z\"\n",
    "config['year'] = \"2019\"\n",
    "\n",
    "config['save'] = False\n",
    "\n",
    "config['workdir'] = \"/import/kilauea-data/ROMY/RotationSpectra/data/\"\n",
    "config['inname'] = inname\n",
    "config['inpath'] = inpath\n",
    "\n",
    "config['frequency_limits'] = [1/200, 1]"
   ]
  },
  {
   "cell_type": "markdown",
   "id": "natural-beginning",
   "metadata": {},
   "source": [
    "## Processing "
   ]
  },
  {
   "cell_type": "code",
   "execution_count": 213,
   "id": "64b0a0a3",
   "metadata": {
    "ExecuteTime": {
     "end_time": "2022-08-12T08:40:26.530369Z",
     "start_time": "2022-08-12T08:40:26.526926Z"
    },
    "code_folding": [
     0
    ]
   },
   "outputs": [],
   "source": [
    "def __load(config, project):\n",
    "    \n",
    "    inname = f\"run_{config['year']}_RGRF-{config['component']}_3600_{project}\"\n",
    "    inpath = f\"{config['workdir']}{inname}/\"\n",
    "\n",
    "    file = f\"{inpath}{inname}_daily_medians.pkl\"\n",
    "    print(f\" -> loading {file} ...\")\n",
    "\n",
    "    data0 = read_pickle(file)\n",
    "\n",
    "    ff_data = pickle.load(open(f\"{config['inpath']}{config['inname']}_frequency_axis.pkl\", 'rb'))\n",
    "\n",
    "    data = __get_array_from_dataframe(data0)\n",
    "\n",
    "    data_minimal = __get_minimal_psd(array(data))\n",
    "    data_median = __get_median_psd(array(data))\n",
    "    #data_minimum = __get_minimum_psd(array(data), ff_data)\n",
    "\n",
    "    return data, data_minimal, data_median, ff_data"
   ]
  },
  {
   "cell_type": "markdown",
   "id": "905b820e",
   "metadata": {
    "ExecuteTime": {
     "end_time": "2022-07-29T12:15:04.394125Z",
     "start_time": "2022-07-29T12:15:04.392045Z"
    }
   },
   "source": [
    "### Load GRA"
   ]
  },
  {
   "cell_type": "code",
   "execution_count": 214,
   "id": "db1e62cb",
   "metadata": {
    "ExecuteTime": {
     "end_time": "2022-08-12T08:40:27.438577Z",
     "start_time": "2022-08-12T08:40:26.863312Z"
    }
   },
   "outputs": [
    {
     "name": "stdout",
     "output_type": "stream",
     "text": [
      " -> loading /import/kilauea-data/ROMY/RotationSpectra/data/run_2019_RGRF-Z_3600_GRA2/run_2019_RGRF-Z_3600_GRA2_daily_medians.pkl ...\n"
     ]
    }
   ],
   "source": [
    "psds_gra, psds_gra_minimal, psds_gra_median, ff_gra = __load(config, \"GRA2\")"
   ]
  },
  {
   "cell_type": "markdown",
   "id": "9d1c1107",
   "metadata": {
    "ExecuteTime": {
     "end_time": "2022-07-29T12:21:08.504897Z",
     "start_time": "2022-07-29T12:21:08.502869Z"
    }
   },
   "source": [
    "### Load GRB"
   ]
  },
  {
   "cell_type": "code",
   "execution_count": 218,
   "id": "64c3b7fd",
   "metadata": {
    "ExecuteTime": {
     "end_time": "2022-08-12T08:41:24.405460Z",
     "start_time": "2022-08-12T08:41:23.811557Z"
    }
   },
   "outputs": [
    {
     "name": "stdout",
     "output_type": "stream",
     "text": [
      " -> loading /import/kilauea-data/ROMY/RotationSpectra/data/run_2019_RGRF-Z_3600_GRB2/run_2019_RGRF-Z_3600_GRB2_daily_medians.pkl ...\n"
     ]
    }
   ],
   "source": [
    "psds_grb, psds_grb_minimal, psds_grb_median, ff_grb = __load(config, \"GRB2\")"
   ]
  },
  {
   "cell_type": "markdown",
   "id": "430df3d1",
   "metadata": {},
   "source": [
    "### Load GRC"
   ]
  },
  {
   "cell_type": "code",
   "execution_count": 219,
   "id": "4bbbafda",
   "metadata": {
    "ExecuteTime": {
     "end_time": "2022-08-12T08:41:25.664754Z",
     "start_time": "2022-08-12T08:41:25.095603Z"
    }
   },
   "outputs": [
    {
     "name": "stdout",
     "output_type": "stream",
     "text": [
      " -> loading /import/kilauea-data/ROMY/RotationSpectra/data/run_2019_RGRF-Z_3600_GRC2/run_2019_RGRF-Z_3600_GRC2_daily_medians.pkl ...\n"
     ]
    }
   ],
   "source": [
    "psds_grc, psds_grc_minimal, psds_grc_median, ff_grc = __load(config, \"GRC2\")"
   ]
  },
  {
   "cell_type": "markdown",
   "id": "664cfd9e",
   "metadata": {},
   "source": [
    "### Load GRF"
   ]
  },
  {
   "cell_type": "code",
   "execution_count": 220,
   "id": "a65c359d",
   "metadata": {
    "ExecuteTime": {
     "end_time": "2022-08-12T08:41:27.233829Z",
     "start_time": "2022-08-12T08:41:26.630895Z"
    }
   },
   "outputs": [
    {
     "name": "stdout",
     "output_type": "stream",
     "text": [
      " -> loading /import/kilauea-data/ROMY/RotationSpectra/data/run_2019_RGRF-Z_3600_GRF2/run_2019_RGRF-Z_3600_GRF2_daily_medians.pkl ...\n"
     ]
    }
   ],
   "source": [
    "psds_grf, psds_grf_minimal, psds_grf_median, ff_grf = __load(config, \"GRF2\")"
   ]
  },
  {
   "cell_type": "markdown",
   "id": "19830098",
   "metadata": {},
   "source": [
    "Cut to frequency axis and matrices to frequency limits as specified in config"
   ]
  },
  {
   "cell_type": "code",
   "execution_count": 221,
   "id": "d0252962",
   "metadata": {
    "ExecuteTime": {
     "end_time": "2022-08-12T08:41:27.451607Z",
     "start_time": "2022-08-12T08:41:27.448681Z"
    },
    "code_folding": [
     0
    ]
   },
   "outputs": [],
   "source": [
    "def __cut_frequencies(ff, psds):\n",
    "    ind = []\n",
    "    for i,f in enumerate(ff):\n",
    "        if f >= config['frequency_limits'][0] and f <= config['frequency_limits'][1]:\n",
    "            ind.append(i)\n",
    "\n",
    "    ff = ff[ind[0]:ind[-1]]\n",
    "    psds = psds[:,ind[0]:ind[-1]]\n",
    "\n",
    "    return ff, psds"
   ]
  },
  {
   "cell_type": "code",
   "execution_count": 222,
   "id": "8a0cdecd",
   "metadata": {
    "ExecuteTime": {
     "end_time": "2022-08-12T08:41:27.625803Z",
     "start_time": "2022-08-12T08:41:27.623168Z"
    },
    "code_folding": [
     0
    ]
   },
   "outputs": [],
   "source": [
    "def __save_df(ff, psds_minimal, psds_median):\n",
    "\n",
    "    out_df = DataFrame()\n",
    "\n",
    "    out_df['frequencies'] = ff\n",
    "    out_df['minimal'] = psds_minimal\n",
    "    out_df['median'] = psds_median\n",
    "\n",
    "    print(f\" -> storing to {config['inpath']}{config['inname']}_stats.pkl\")\n",
    "    out_df.to_pickle(f\"{config['inpath']}{config['inname']}_stats.pkl\")"
   ]
  },
  {
   "cell_type": "markdown",
   "id": "086fd5d0",
   "metadata": {},
   "source": [
    "## Plotting"
   ]
  },
  {
   "cell_type": "code",
   "execution_count": 223,
   "id": "ce64c931",
   "metadata": {
    "ExecuteTime": {
     "end_time": "2022-08-12T08:41:28.612787Z",
     "start_time": "2022-08-12T08:41:28.606611Z"
    },
    "code_folding": [
     0
    ]
   },
   "outputs": [],
   "source": [
    "def __makeplot_colorlines(config, ff_gra, psds_gra, ff_grb, psds_grb, ff_grc, psds_grc, ff_grf, psds_grf):\n",
    "\n",
    "    from numpy import isnan, median, mean, std, array\n",
    "    from scipy.stats import median_abs_deviation as mad\n",
    "    \n",
    "    \n",
    "        \n",
    "    ##____________________________\n",
    "    \n",
    "    fig, ax = plt.subplots(1,1, figsize=(15,10), sharey=False, sharex=True)\n",
    "\n",
    "    font = 15\n",
    "\n",
    "\n",
    "#     for n, psd in enumerate(psds_gra):\n",
    "#         ax.loglog(1/ff_gra[1:], psd[1:], color='blue', alpha=0.2)\n",
    "\n",
    "#     for n, psd in enumerate(psds_grb):\n",
    "#         ax.loglog(1/ff_grb[1:], psd[1:], color='red', alpha=0.2)\n",
    "\n",
    "#     for n, psd in enumerate(psds_grc):\n",
    "#         ax.loglog(1/ff_grc[1:], psd[1:], color='green', alpha=0.2)\n",
    "\n",
    "#     for n, psd in enumerate(psds_grf):\n",
    "#         ax.loglog(1/ff_grf[1:], psd[1:], color='black', alpha=0.2)\n",
    "        \n",
    "    ax.loglog(1/ff_gra[1:], __get_median_psd(psds_gra)[1:], 'blue', zorder=3, alpha=0.9, label=\"GRA\")\n",
    "    ax.loglog(1/ff_grb[1:], __get_median_psd(psds_grb)[1:], 'red', zorder=3, alpha=0.9, label=\"GRB\")\n",
    "    ax.loglog(1/ff_grc[1:], __get_median_psd(psds_grc)[1:], 'green', zorder=3, alpha=0.9, label=\"GRC\")\n",
    "    ax.loglog(1/ff_grf[1:], __get_median_psd(psds_grf)[1:], 'black', zorder=3, alpha=0.9, label=\"GRF\")\n",
    "\n",
    "    ## theoretical rlnm\n",
    "    rlnm = read_csv(\"/export/data/LNM/data/MODELS/rlnm_theory.csv\")\n",
    "    ax.loglog(rlnm['period'], rlnm['rlnm_psd_median'], color=\"grey\", zorder=2, lw=2, label=\"RLNM\")\n",
    "\n",
    "        \n",
    "    ax.set_title(f\"Comparison Gräfenberg Arrays ADR  -  {config['component']}-component\", fontsize=font)\n",
    "\n",
    "    ax.legend(fontsize=font-1)\n",
    "\n",
    "#     ax.set_xlabel(\"Frequency (Hz)\", fontsize=font)\n",
    "    ax.set_xlabel(\"Period (s)\", fontsize=font)\n",
    "\n",
    "    ax.set_ylabel(r\"PSD (rad$^2$/s$^2$/$Hz)$\", fontsize=font)\n",
    "    \n",
    "    ax.grid(True, which=\"both\", ls=\"-\", alpha=0.5)\n",
    "    \n",
    "    ax.set_xlim(1, 200)\n",
    "    ax.set_ylim(1e-26, 1e-21)\n",
    "\n",
    "\n",
    "    plt.show();    \n",
    "    return fig"
   ]
  },
  {
   "cell_type": "code",
   "execution_count": 224,
   "id": "d5a44ac1",
   "metadata": {
    "ExecuteTime": {
     "end_time": "2022-08-12T08:41:33.616007Z",
     "start_time": "2022-08-12T08:41:31.271338Z"
    },
    "code_folding": []
   },
   "outputs": [
    {
     "data": {
      "image/png": "[encoded data removed]",
      "text/plain": [
       "<Figure size 1080x720 with 1 Axes>"
      ]
     },
     "metadata": {
      "needs_background": "light"
     },
     "output_type": "display_data"
    }
   ],
   "source": [
    "fig = __makeplot_colorlines(config, ff_gra, psds_gra, ff_grb, psds_grb, ff_grc, psds_grc, ff_grf, psds_grf)"
   ]
  },
  {
   "cell_type": "markdown",
   "id": "342e491c",
   "metadata": {},
   "source": [
    "### Write to File"
   ]
  },
  {
   "cell_type": "code",
   "execution_count": null,
   "id": "e7f2a1f5",
   "metadata": {
    "ExecuteTime": {
     "end_time": "2022-08-01T08:05:52.892190Z",
     "start_time": "2022-08-01T08:05:52.890580Z"
    }
   },
   "outputs": [],
   "source": [
    "# if config['save']:\n",
    "#     out.to_csv(f\"{inpath}{inname}.csv\", sep=\",\")\n",
    "#     print(f\" -> writing to {inpath}{inname}.csv\")"
   ]
  },
  {
   "cell_type": "markdown",
   "id": "bfbf04c9",
   "metadata": {},
   "source": [
    "## Plot as DeciBel"
   ]
  },
  {
   "cell_type": "markdown",
   "id": "e6c4a74a",
   "metadata": {},
   "source": [
    "### Write to file"
   ]
  },
  {
   "cell_type": "code",
   "execution_count": null,
   "id": "a69223b0",
   "metadata": {
    "ExecuteTime": {
     "end_time": "2022-08-01T08:05:52.905400Z",
     "start_time": "2022-08-01T08:05:52.893128Z"
    }
   },
   "outputs": [],
   "source": [
    "# if config['save']:\n",
    "#     out_db.to_csv(f\"{inpath}{inname}_DB.csv\", sep=\",\")\n",
    "#     print(f\" -> writing to {inpath}{inname}_DB.csv\")"
   ]
  },
  {
   "cell_type": "markdown",
   "id": "biblical-alloy",
   "metadata": {},
   "source": [
    "## Calculate and Plot Density"
   ]
  },
  {
   "cell_type": "code",
   "execution_count": null,
   "id": "9c352b03",
   "metadata": {
    "ExecuteTime": {
     "end_time": "2022-08-01T08:05:52.966678Z",
     "start_time": "2022-08-01T08:05:52.906287Z"
    }
   },
   "outputs": [],
   "source": [
    "output = __calculate_density(psds, bins=100, density=True)"
   ]
  },
  {
   "cell_type": "code",
   "execution_count": null,
   "id": "4e5005fc",
   "metadata": {
    "ExecuteTime": {
     "end_time": "2022-08-01T08:05:52.967709Z",
     "start_time": "2022-08-01T08:05:47.483Z"
    },
    "code_folding": [
     0
    ]
   },
   "outputs": [],
   "source": [
    "def __makeplot_PPSD(ff, output, config, mode=None):\n",
    "\n",
    "    from matplotlib import colors\n",
    "    from numpy import ones, convolve, array, log10, roll, sqrt\n",
    "\n",
    "    bins, bins_medians, bins_maximas, dist = output['bin_mids'], output['bins_medians'], output['bins_maximas'], output['dist']\n",
    "    \n",
    "    if mode is \"DB\":\n",
    "        y_axis = 10*log10(bins)\n",
    "    elif mode is \"PSD\":\n",
    "        y_axis = bins\n",
    "    elif mode is \"ASD\":\n",
    "        y_axis = sqrt(bins)\n",
    "        \n",
    "    x_axis = ff\n",
    "\n",
    "    ## plotting\n",
    "    fig, ax = plt.subplots(1,1,figsize=(13,6))\n",
    "\n",
    "    font=14\n",
    "\n",
    "    cmap = plt.cm.get_cmap('magma_r')\n",
    "#     cmap = plt.cm.get_cmap('gray_r')\n",
    "    cmap.set_under(color='white')\n",
    "\n",
    "    im = plt.pcolor(x_axis, y_axis, dist.T, \n",
    "                    cmap=cmap,\n",
    "                    vmin=1e-12, \n",
    "                    alpha=0.99,\n",
    "                   )\n",
    "\n",
    "    ## add Frequency Axis\n",
    "    g = lambda x: 1/x\n",
    "    ax2 = ax.secondary_xaxis(\"top\", functions=(g,g))\n",
    "    ax2.set_xlabel(\"Frequency in Hz\", fontsize=font, labelpad=5)\n",
    "    ax2.set_xticklabels(1/ff, fontsize=11)    \n",
    "    \n",
    "    \n",
    "    if mode is \"DB\":\n",
    "        plt.plot(x_axis, 10*log10(bins_medians), color='black', alpha=0.5, label=\"RNLM\")\n",
    "        plt.ylim(-200, -80)\n",
    "\n",
    "    elif mode is \"PSD\":\n",
    "        plt.plot(x_axis, bins_medians, color='black', alpha=0.5, label=\"RNLM\")\n",
    "        plt.yscale('log')\n",
    "        plt.ylim(10**-20, 10**-13)\n",
    "  \n",
    "    elif mode is \"ASD\":  \n",
    "        plt.plot(x_axis, sqrt(bins_medians), color='black', alpha=0.5, label=\"RNLM\")\n",
    "        plt.yscale('log')\n",
    "        plt.ylim(10**-10, 2*10**-7)\n",
    "\n",
    "    \n",
    "#     plt.fill_betweenx(range(-270, -140), x1=0, x2=2.5, color=\"grey\", alpha=0.4)\n",
    "#     plt.fill_betweenx(range(-270, -140), x1=200, x2=max(ff), color=\"grey\", alpha=0.4)\n",
    "\n",
    "    ## modify x-axis\n",
    "    plt.xscale('log')\n",
    "    plt.xlim([min(x_axis), max(x_axis)])\n",
    "#     plt.xlim(1, 300)\n",
    "    \n",
    "    ## add colorbar\n",
    "    caxes = fig.add_axes()\n",
    "    cb = plt.colorbar(im, cax=caxes, alpha=1.0)\n",
    "    \n",
    "    if output['set_density']:\n",
    "        cb.set_label(\"Propability Density\", fontsize=font)\n",
    "    else:\n",
    "        cb.set_label(\"Counts\", fontsize=font)\n",
    "        cb.set_label(\"Propability Density\", fontsize=font)\n",
    "    \n",
    "    if mode is \"DB\":\n",
    "#         plt.ylabel(r\"PPSD in dB (rel. to 1 m$^4$/s$^2$/$Hz$)\", fontsize=font)\n",
    "        plt.ylabel(r\"PPSD in dB (rel. to 1 rad$^2$/s$^2$/$Hz$)\", fontsize=font)\n",
    "    elif mode is \"PSD\":\n",
    "#         plt.ylabel(r\"PPSD in m$^4$/s$^2$/$Hz$\", fontsize=font)\n",
    "        plt.ylabel(r\"PPSD in $\\frac{rad^2}{s^2 Hz}$\", fontsize=font)\n",
    "    elif mode is \"ASD\":\n",
    "        plt.ylabel(r\"PASD in $\\frac{rad}{s \\sqrt{Hz}}$\", fontsize=font)\n",
    "        \n",
    "    plt.grid(axis=\"both\", which=\"both\", ls=\"--\", zorder=0)\n",
    "    plt.legend()\n",
    "    \n",
    "    plt.xlabel(\"Period in seconds\", fontsize=font)\n",
    "\n",
    "    plt.tick_params(axis='both', labelsize=font-2)\n",
    "\n",
    "    plt.show();\n",
    "    return fig"
   ]
  },
  {
   "cell_type": "code",
   "execution_count": null,
   "id": "f25eeaa9",
   "metadata": {
    "ExecuteTime": {
     "end_time": "2022-08-01T08:05:52.968367Z",
     "start_time": "2022-08-01T08:05:47.483Z"
    }
   },
   "outputs": [],
   "source": [
    "fig = __makeplot_PPSD(ff, output, config, mode=\"ASD\")"
   ]
  },
  {
   "cell_type": "code",
   "execution_count": null,
   "id": "bd06a81e",
   "metadata": {
    "ExecuteTime": {
     "end_time": "2022-05-04T14:08:39.999086Z",
     "start_time": "2022-05-04T14:08:39.995422Z"
    }
   },
   "outputs": [],
   "source": []
  },
  {
   "cell_type": "code",
   "execution_count": null,
   "id": "3847d018",
   "metadata": {},
   "outputs": [],
   "source": []
  }
 ],
 "metadata": {
  "kernelspec": {
   "display_name": "Python 3",
   "language": "python",
   "name": "python3"
  },
  "language_info": {
   "codemirror_mode": {
    "name": "ipython",
    "version": 3
   },
   "file_extension": ".py",
   "mimetype": "text/x-python",
   "name": "python",
   "nbconvert_exporter": "python",
   "pygments_lexer": "ipython3",
   "version": "3.7.7"
  }
 },
 "nbformat": 4,
 "nbformat_minor": 5
}
