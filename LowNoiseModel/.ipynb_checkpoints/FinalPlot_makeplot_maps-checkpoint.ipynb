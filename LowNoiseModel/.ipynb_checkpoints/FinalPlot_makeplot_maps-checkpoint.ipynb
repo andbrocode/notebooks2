{
 "cells": [
  {
   "cell_type": "markdown",
   "id": "4c680a6f",
   "metadata": {},
   "source": [
    "## Create Maps of Stations and Velocity Profile Locations"
   ]
  },
  {
   "cell_type": "markdown",
   "id": "3ac6f05e",
   "metadata": {},
   "source": [
    "Create a maps for the stations used in the study as well as the locations at which velocity profiles are extracted from the CRUST1.0 model."
   ]
  },
  {
   "cell_type": "markdown",
   "id": "f52d2153",
   "metadata": {},
   "source": [
    "For masking the land masses the following package has been used:\n",
    "\n",
    "- Citation: global_land_mask package:\n",
    " Karin, Todd. Global Land Mask. October 5, 2020. https://doi.org/10.5281/zenodo.4066722"
   ]
  },
  {
   "cell_type": "markdown",
   "id": "ea50a2ae",
   "metadata": {},
   "source": [
    "### Imports"
   ]
  },
  {
   "cell_type": "code",
   "execution_count": 22,
   "id": "7d2cf93a",
   "metadata": {
    "ExecuteTime": {
     "end_time": "2022-11-08T16:32:37.650528Z",
     "start_time": "2022-11-08T16:32:37.645726Z"
    }
   },
   "outputs": [],
   "source": [
    "from obspy import * \n",
    "from pandas import *\n",
    "from os import listdir, uname\n",
    "from global_land_mask import globe\n",
    "\n",
    "import netCDF4 as nc\n",
    "import numpy as np\n",
    "import pygmt \n",
    "import matplotlib.pyplot as plt\n",
    "\n",
    "import warnings\n",
    "warnings.filterwarnings('ignore')"
   ]
  },
  {
   "cell_type": "markdown",
   "id": "1081d561",
   "metadata": {},
   "source": [
    "### Configurations"
   ]
  },
  {
   "cell_type": "code",
   "execution_count": 254,
   "id": "df7647e3",
   "metadata": {
    "ExecuteTime": {
     "end_time": "2022-11-08T17:44:49.816379Z",
     "start_time": "2022-11-08T17:44:49.809738Z"
    }
   },
   "outputs": [],
   "source": [
    "config = {}\n",
    "\n",
    "## specify directories\n",
    "# config['workdir'] = \"/export/data/LNM/data/\"\n",
    "config['workdir'] = \"/home/andbro/kilauea-data/LNM/data/\"\n",
    "config['outdir_figures'] = config['workdir']+\"figures_final/\"\n",
    "\n",
    "## define stations that are excluded from the analysis\n",
    "config['excluded_stations'] = ['KAPI', 'TRQA', 'QSPA', 'FUNA', 'SAML', 'PAYG', 'SDV', 'TSUM']"
   ]
  },
  {
   "cell_type": "markdown",
   "id": "75a40218",
   "metadata": {
    "ExecuteTime": {
     "end_time": "2022-11-08T16:27:53.472578Z",
     "start_time": "2022-11-08T16:27:53.469480Z"
    }
   },
   "source": [
    "### Read Station Coordinates"
   ]
  },
  {
   "cell_type": "code",
   "execution_count": 133,
   "id": "cf53f75b",
   "metadata": {
    "ExecuteTime": {
     "end_time": "2022-11-08T17:16:47.140802Z",
     "start_time": "2022-11-08T17:16:46.956417Z"
    }
   },
   "outputs": [],
   "source": [
    "stations = read_csv(config['workdir']+\"station_coordinates.csv\")"
   ]
  },
  {
   "cell_type": "code",
   "execution_count": 134,
   "id": "2804a59d",
   "metadata": {
    "ExecuteTime": {
     "end_time": "2022-11-08T17:16:47.564290Z",
     "start_time": "2022-11-08T17:16:47.364373Z"
    }
   },
   "outputs": [],
   "source": [
    "vgrid_land = read_csv(config['workdir']+f\"FINAL/velocity_profile_locations.csv\")"
   ]
  },
  {
   "cell_type": "code",
   "execution_count": 252,
   "id": "db529360",
   "metadata": {
    "ExecuteTime": {
     "end_time": "2022-11-08T17:42:52.709694Z",
     "start_time": "2022-11-08T17:42:52.695489Z"
    },
    "code_folding": [
     0
    ]
   },
   "outputs": [],
   "source": [
    "def __makeplot_map(config, coordinates, stations, show_station_names=False):\n",
    "    \n",
    "    topo_data = '@earth_relief_06m'\n",
    "\n",
    "    \n",
    "    fig = pygmt.Figure()\n",
    "    \n",
    "    pygmt.config(FONT_ANNOT=\"8p,Helvetica,black\")\n",
    "    pygmt.config(FONT_LABEL=\"8p,Helvetica,black\")\n",
    "\n",
    "    reg  = 'g' # [minlon, maxlon, minlat, maxlat]\n",
    "    proj = \"Kf0/10c\"\n",
    "\n",
    "    # make color pallets\n",
    "    pygmt.makecpt(\n",
    "        cmap='geo',\n",
    "        series='-8000/8000/1000',\n",
    "        continuous=True,\n",
    "    )    \n",
    "    \n",
    "    \n",
    "    with fig.subplot(nrows=2, ncols=1, figsize=(\"15c\", \"10c\"), autolabel=False, margins=[\"0.3c\", \"0.2c\"]):\n",
    "\n",
    "        ## PANEL 1 ----------\n",
    "\n",
    "        fig.basemap(region=reg, projection=proj, panel=[0], frame=[\"af\", \"WSNE\"])\n",
    "                \n",
    "        fig.grdimage(\n",
    "            grid=topo_data,\n",
    "            region=reg,\n",
    "            projection=proj,\n",
    "            panel=[0],\n",
    "            shading=True,\n",
    "            frame=False,\n",
    "        )\n",
    "\n",
    "        fig.coast(\n",
    "            region=reg,\n",
    "            projection=proj,\n",
    "            panel=[0],\n",
    "            shorelines=True,\n",
    "            frame=[\"WSNE\",\"f\"],\n",
    "            resolution=\"c\",\n",
    "        )\n",
    "\n",
    "        fig.plot(\n",
    "            x=coordinates['longitude'].astype(float),\n",
    "            y=coordinates['latitude'].astype(float),\n",
    "            region=reg,\n",
    "            projection=proj,\n",
    "            panel=[0],\n",
    "            style='c0.02c',\n",
    "            color='red',\n",
    "            pen='red',\n",
    "            no_clip=True,\n",
    "    #         label=stations['name'],\n",
    "        )\n",
    "\n",
    "\n",
    "\n",
    "        ## PANEL 2 ----------\n",
    "    \n",
    "        fig.basemap(region=reg, projection=proj, panel=[1], frame=[\"af\", \"WSnE\"])\n",
    "    \n",
    "        fig.grdimage(\n",
    "                     grid=topo_data,\n",
    "                     region=reg,\n",
    "                     panel=[1],\n",
    "                     projection=proj,\n",
    "                     shading=True,\n",
    "                     frame=False,\n",
    "                    )\n",
    "\n",
    "        fig.coast(\n",
    "                  region=reg,\n",
    "                  projection=proj,\n",
    "                  panel=[1],\n",
    "                  shorelines=True,\n",
    "                  frame=[\"WSNE\",\"f\"],\n",
    "                  resolution=\"c\",\n",
    "                 )\n",
    "            \n",
    "        for i, station in stations.iterrows():\n",
    "            if station['name'] not in config['excluded_stations']:\n",
    "                fig.plot(\n",
    "                    x=stations['longitude'].astype(float),\n",
    "                    y=stations['latitude'].astype(float),\n",
    "                    region=reg,\n",
    "                    projection=proj,\n",
    "                    style='t0.05i',\n",
    "                    color='red',\n",
    "                    pen='black',\n",
    "                    no_clip=True,\n",
    "                )\n",
    "\n",
    "                if show_station_names:\n",
    "                    fig.text(\n",
    "                        x=stations['longitude'].astype(float),\n",
    "                        y=stations['latitude'].astype(float),\n",
    "                #         text=range(len(stations['name'])),\n",
    "                        text=stations['name'],\n",
    "                        font=\"3p,Helvetica,black\",\n",
    "                        no_clip=True,\n",
    "                        xshift=0.1,\n",
    "                        yshift=0.1,\n",
    "                    )\n",
    "\n",
    "\n",
    "        fig.colorbar(\n",
    "#             frame='+l\"Elevation (m)\"',\n",
    "            frame = '+l\" \"',\n",
    "            position=\"x1.75c/-0.7c+w6c+jTC+h\",\n",
    "        )\n",
    "    \n",
    "        fig.text(text=\"Elevation (m)\", x=0, y=0, offset=\"-2.5c/-3.5c\", no_clip=True, fill=\"white\")\n",
    "        \n",
    "    \n",
    "        fig.show();\n",
    "\n",
    "    return fig"
   ]
  },
  {
   "cell_type": "markdown",
   "id": "cd61974f",
   "metadata": {},
   "source": [
    "### Plotting"
   ]
  },
  {
   "cell_type": "code",
   "execution_count": 256,
   "id": "9e095389",
   "metadata": {
    "ExecuteTime": {
     "end_time": "2022-11-08T17:46:57.496166Z",
     "start_time": "2022-11-08T17:45:57.858206Z"
    }
   },
   "outputs": [],
   "source": [
    "fig = __makeplot_map(config, vgrid_land, stations, show_station_names=False)"
   ]
  },
  {
   "cell_type": "code",
   "execution_count": 263,
   "id": "8ab8aa7c",
   "metadata": {
    "ExecuteTime": {
     "end_time": "2022-11-08T17:50:11.369292Z",
     "start_time": "2022-11-08T17:50:10.166017Z"
    }
   },
   "outputs": [
    {
     "name": "stderr",
     "output_type": "stream",
     "text": [
      "psconvert [ERROR]: System call [gs -q -dNOSAFER -dNOPAUSE -dBATCH -sDEVICE=bbox -DPSL_no_pagefill -dMaxBitmap=2147483647 -dUseFastColor=true '/home/andbro/.gmt/sessions/gmt_session.312110/gmt_100.ps-' 2> '/home/andbro/.gmt/sessions/gmt_session.312110/psconvert_312110c.bb'] returned error 256.\n"
     ]
    },
    {
     "ename": "GMTCLibError",
     "evalue": "Module 'psconvert' failed with status code 78:\npsconvert [ERROR]: System call [gs -q -dNOSAFER -dNOPAUSE -dBATCH -sDEVICE=bbox -DPSL_no_pagefill -dMaxBitmap=2147483647 -dUseFastColor=true '/home/andbro/.gmt/sessions/gmt_session.312110/gmt_100.ps-' 2> '/home/andbro/.gmt/sessions/gmt_session.312110/psconvert_312110c.bb'] returned error 256.",
     "output_type": "error",
     "traceback": [
      "\u001b[0;31m---------------------------------------------------------------------------\u001b[0m",
      "\u001b[0;31mGMTCLibError\u001b[0m                              Traceback (most recent call last)",
      "\u001b[0;32m<ipython-input-263-ab0649269229>\u001b[0m in \u001b[0;36m<module>\u001b[0;34m\u001b[0m\n\u001b[0;32m----> 1\u001b[0;31m \u001b[0mfig\u001b[0m\u001b[0;34m.\u001b[0m\u001b[0msavefig\u001b[0m\u001b[0;34m(\u001b[0m\u001b[0mconfig\u001b[0m\u001b[0;34m[\u001b[0m\u001b[0;34m'outdir_figures'\u001b[0m\u001b[0;34m]\u001b[0m\u001b[0;34m+\u001b[0m\u001b[0;34m\"maps_final\"\u001b[0m\u001b[0;34m+\u001b[0m\u001b[0;34m\".png\"\u001b[0m\u001b[0;34m,\u001b[0m \u001b[0manti_alias\u001b[0m\u001b[0;34m=\u001b[0m\u001b[0;32mTrue\u001b[0m\u001b[0;34m,\u001b[0m \u001b[0mdpi\u001b[0m\u001b[0;34m=\u001b[0m\u001b[0;36m300\u001b[0m\u001b[0;34m,\u001b[0m \u001b[0mtransparent\u001b[0m\u001b[0;34m=\u001b[0m\u001b[0;32mNone\u001b[0m\u001b[0;34m)\u001b[0m\u001b[0;34m\u001b[0m\u001b[0;34m\u001b[0m\u001b[0m\n\u001b[0m\u001b[1;32m      2\u001b[0m \u001b[0;31m# fig.savefig(config['outdir_figures']+\"maps_final\"+\".pdf\", anti_alias=True, dpi=300, transparent=None)\u001b[0m\u001b[0;34m\u001b[0m\u001b[0;34m\u001b[0m\u001b[0;34m\u001b[0m\u001b[0m\n",
      "\u001b[0;32m~/anaconda3/envs/obs/lib/python3.7/site-packages/pygmt/figure.py\u001b[0m in \u001b[0;36msavefig\u001b[0;34m(self, fname, transparent, crop, anti_alias, show, **kwargs)\u001b[0m\n\u001b[1;32m    232\u001b[0m             \u001b[0mkwargs\u001b[0m\u001b[0;34m[\u001b[0m\u001b[0;34m\"W\"\u001b[0m\u001b[0;34m]\u001b[0m \u001b[0;34m=\u001b[0m \u001b[0;34m\"+k\"\u001b[0m\u001b[0;34m\u001b[0m\u001b[0;34m\u001b[0m\u001b[0m\n\u001b[1;32m    233\u001b[0m \u001b[0;34m\u001b[0m\u001b[0m\n\u001b[0;32m--> 234\u001b[0;31m         \u001b[0mself\u001b[0m\u001b[0;34m.\u001b[0m\u001b[0mpsconvert\u001b[0m\u001b[0;34m(\u001b[0m\u001b[0mprefix\u001b[0m\u001b[0;34m=\u001b[0m\u001b[0mprefix\u001b[0m\u001b[0;34m,\u001b[0m \u001b[0mfmt\u001b[0m\u001b[0;34m=\u001b[0m\u001b[0mfmt\u001b[0m\u001b[0;34m,\u001b[0m \u001b[0mcrop\u001b[0m\u001b[0;34m=\u001b[0m\u001b[0mcrop\u001b[0m\u001b[0;34m,\u001b[0m \u001b[0;34m**\u001b[0m\u001b[0mkwargs\u001b[0m\u001b[0;34m)\u001b[0m\u001b[0;34m\u001b[0m\u001b[0;34m\u001b[0m\u001b[0m\n\u001b[0m\u001b[1;32m    235\u001b[0m         \u001b[0;32mif\u001b[0m \u001b[0mshow\u001b[0m\u001b[0;34m:\u001b[0m\u001b[0;34m\u001b[0m\u001b[0;34m\u001b[0m\u001b[0m\n\u001b[1;32m    236\u001b[0m             \u001b[0mlaunch_external_viewer\u001b[0m\u001b[0;34m(\u001b[0m\u001b[0mfname\u001b[0m\u001b[0;34m)\u001b[0m\u001b[0;34m\u001b[0m\u001b[0;34m\u001b[0m\u001b[0m\n",
      "\u001b[0;32m~/anaconda3/envs/obs/lib/python3.7/site-packages/pygmt/helpers/decorators.py\u001b[0m in \u001b[0;36mnew_module\u001b[0;34m(*args, **kwargs)\u001b[0m\n\u001b[1;32m    286\u001b[0m                 \u001b[0;32mif\u001b[0m \u001b[0malias\u001b[0m \u001b[0;32min\u001b[0m \u001b[0mkwargs\u001b[0m\u001b[0;34m:\u001b[0m\u001b[0;34m\u001b[0m\u001b[0;34m\u001b[0m\u001b[0m\n\u001b[1;32m    287\u001b[0m                     \u001b[0mkwargs\u001b[0m\u001b[0;34m[\u001b[0m\u001b[0marg\u001b[0m\u001b[0;34m]\u001b[0m \u001b[0;34m=\u001b[0m \u001b[0mkwargs\u001b[0m\u001b[0;34m.\u001b[0m\u001b[0mpop\u001b[0m\u001b[0;34m(\u001b[0m\u001b[0malias\u001b[0m\u001b[0;34m)\u001b[0m\u001b[0;34m\u001b[0m\u001b[0;34m\u001b[0m\u001b[0m\n\u001b[0;32m--> 288\u001b[0;31m             \u001b[0;32mreturn\u001b[0m \u001b[0mmodule_func\u001b[0m\u001b[0;34m(\u001b[0m\u001b[0;34m*\u001b[0m\u001b[0margs\u001b[0m\u001b[0;34m,\u001b[0m \u001b[0;34m**\u001b[0m\u001b[0mkwargs\u001b[0m\u001b[0;34m)\u001b[0m\u001b[0;34m\u001b[0m\u001b[0;34m\u001b[0m\u001b[0m\n\u001b[0m\u001b[1;32m    289\u001b[0m \u001b[0;34m\u001b[0m\u001b[0m\n\u001b[1;32m    290\u001b[0m         \u001b[0mnew_module\u001b[0m\u001b[0;34m.\u001b[0m\u001b[0maliases\u001b[0m \u001b[0;34m=\u001b[0m \u001b[0maliases\u001b[0m\u001b[0;34m\u001b[0m\u001b[0;34m\u001b[0m\u001b[0m\n",
      "\u001b[0;32m~/anaconda3/envs/obs/lib/python3.7/site-packages/pygmt/helpers/decorators.py\u001b[0m in \u001b[0;36mnew_module\u001b[0;34m(*args, **kwargs)\u001b[0m\n\u001b[1;32m    430\u001b[0m                         \u001b[0mkwargs\u001b[0m\u001b[0;34m[\u001b[0m\u001b[0marg\u001b[0m\u001b[0;34m]\u001b[0m \u001b[0;34m=\u001b[0m \u001b[0mseparators\u001b[0m\u001b[0;34m[\u001b[0m\u001b[0mfmt\u001b[0m\u001b[0;34m]\u001b[0m\u001b[0;34m.\u001b[0m\u001b[0mjoin\u001b[0m\u001b[0;34m(\u001b[0m\u001b[0;34mf\"{item}\"\u001b[0m \u001b[0;32mfor\u001b[0m \u001b[0mitem\u001b[0m \u001b[0;32min\u001b[0m \u001b[0mvalue\u001b[0m\u001b[0;34m)\u001b[0m\u001b[0;34m\u001b[0m\u001b[0;34m\u001b[0m\u001b[0m\n\u001b[1;32m    431\u001b[0m             \u001b[0;31m# Execute the original function and return its output\u001b[0m\u001b[0;34m\u001b[0m\u001b[0;34m\u001b[0m\u001b[0;34m\u001b[0m\u001b[0m\n\u001b[0;32m--> 432\u001b[0;31m             \u001b[0;32mreturn\u001b[0m \u001b[0mmodule_func\u001b[0m\u001b[0;34m(\u001b[0m\u001b[0;34m*\u001b[0m\u001b[0margs\u001b[0m\u001b[0;34m,\u001b[0m \u001b[0;34m**\u001b[0m\u001b[0mkwargs\u001b[0m\u001b[0;34m)\u001b[0m\u001b[0;34m\u001b[0m\u001b[0;34m\u001b[0m\u001b[0m\n\u001b[0m\u001b[1;32m    433\u001b[0m \u001b[0;34m\u001b[0m\u001b[0m\n\u001b[1;32m    434\u001b[0m         \u001b[0;32mreturn\u001b[0m \u001b[0mnew_module\u001b[0m\u001b[0;34m\u001b[0m\u001b[0;34m\u001b[0m\u001b[0m\n",
      "\u001b[0;32m~/anaconda3/envs/obs/lib/python3.7/site-packages/pygmt/figure.py\u001b[0m in \u001b[0;36mpsconvert\u001b[0;34m(self, **kwargs)\u001b[0m\n\u001b[1;32m    172\u001b[0m             \u001b[0mkwargs\u001b[0m\u001b[0;34m[\u001b[0m\u001b[0;34m\"A\"\u001b[0m\u001b[0;34m]\u001b[0m \u001b[0;34m=\u001b[0m \u001b[0;34m\"\"\u001b[0m\u001b[0;34m\u001b[0m\u001b[0;34m\u001b[0m\u001b[0m\n\u001b[1;32m    173\u001b[0m         \u001b[0;32mwith\u001b[0m \u001b[0mSession\u001b[0m\u001b[0;34m(\u001b[0m\u001b[0;34m)\u001b[0m \u001b[0;32mas\u001b[0m \u001b[0mlib\u001b[0m\u001b[0;34m:\u001b[0m\u001b[0;34m\u001b[0m\u001b[0;34m\u001b[0m\u001b[0m\n\u001b[0;32m--> 174\u001b[0;31m             \u001b[0mlib\u001b[0m\u001b[0;34m.\u001b[0m\u001b[0mcall_module\u001b[0m\u001b[0;34m(\u001b[0m\u001b[0;34m\"psconvert\"\u001b[0m\u001b[0;34m,\u001b[0m \u001b[0mbuild_arg_string\u001b[0m\u001b[0;34m(\u001b[0m\u001b[0mkwargs\u001b[0m\u001b[0;34m)\u001b[0m\u001b[0;34m)\u001b[0m\u001b[0;34m\u001b[0m\u001b[0;34m\u001b[0m\u001b[0m\n\u001b[0m\u001b[1;32m    175\u001b[0m \u001b[0;34m\u001b[0m\u001b[0m\n\u001b[1;32m    176\u001b[0m     def savefig(\n",
      "\u001b[0;32m~/anaconda3/envs/obs/lib/python3.7/site-packages/pygmt/clib/session.py\u001b[0m in \u001b[0;36mcall_module\u001b[0;34m(self, module, args)\u001b[0m\n\u001b[1;32m    504\u001b[0m             raise GMTCLibError(\n\u001b[1;32m    505\u001b[0m                 \"Module '{}' failed with status code {}:\\n{}\".format(\n\u001b[0;32m--> 506\u001b[0;31m                     \u001b[0mmodule\u001b[0m\u001b[0;34m,\u001b[0m \u001b[0mstatus\u001b[0m\u001b[0;34m,\u001b[0m \u001b[0mself\u001b[0m\u001b[0;34m.\u001b[0m\u001b[0m_error_message\u001b[0m\u001b[0;34m\u001b[0m\u001b[0;34m\u001b[0m\u001b[0m\n\u001b[0m\u001b[1;32m    507\u001b[0m                 )\n\u001b[1;32m    508\u001b[0m             )\n",
      "\u001b[0;31mGMTCLibError\u001b[0m: Module 'psconvert' failed with status code 78:\npsconvert [ERROR]: System call [gs -q -dNOSAFER -dNOPAUSE -dBATCH -sDEVICE=bbox -DPSL_no_pagefill -dMaxBitmap=2147483647 -dUseFastColor=true '/home/andbro/.gmt/sessions/gmt_session.312110/gmt_100.ps-' 2> '/home/andbro/.gmt/sessions/gmt_session.312110/psconvert_312110c.bb'] returned error 256."
     ]
    }
   ],
   "source": [
    "fig.savefig(config['outdir_figures']+\"maps_final\"+\".png\", anti_alias=True, dpi=300, transparent=None)\n",
    "fig.savefig(config['outdir_figures']+\"maps_final\"+\".pdf\", anti_alias=True, dpi=300, transparent=None)"
   ]
  },
  {
   "cell_type": "code",
   "execution_count": null,
   "id": "1d3f8635",
   "metadata": {
    "ExecuteTime": {
     "end_time": "2022-11-08T17:54:01.441018Z",
     "start_time": "2022-11-08T17:54:00.233346Z"
    }
   },
   "outputs": [],
   "source": []
  },
  {
   "cell_type": "code",
   "execution_count": null,
   "id": "04c56f9a",
   "metadata": {},
   "outputs": [],
   "source": []
  }
 ],
 "metadata": {
  "kernelspec": {
   "display_name": "Python 3",
   "language": "python",
   "name": "python3"
  },
  "language_info": {
   "codemirror_mode": {
    "name": "ipython",
    "version": 3
   },
   "file_extension": ".py",
   "mimetype": "text/x-python",
   "name": "python",
   "nbconvert_exporter": "python",
   "pygments_lexer": "ipython3",
   "version": "3.7.7"
  },
  "latex_envs": {
   "LaTeX_envs_menu_present": true,
   "autoclose": false,
   "autocomplete": true,
   "bibliofile": "biblio.bib",
   "cite_by": "apalike",
   "current_citInitial": 1,
   "eqLabelWithNumbers": true,
   "eqNumInitial": 1,
   "hotkeys": {
    "equation": "Ctrl-E",
    "itemize": "Ctrl-I"
   },
   "labels_anchors": false,
   "latex_user_defs": false,
   "report_style_numbering": false,
   "user_envs_cfg": false
  },
  "toc": {
   "base_numbering": 1,
   "nav_menu": {},
   "number_sections": true,
   "sideBar": true,
   "skip_h1_title": false,
   "title_cell": "Table of Contents",
   "title_sidebar": "Contents",
   "toc_cell": false,
   "toc_position": {},
   "toc_section_display": true,
   "toc_window_display": false
  }
 },
 "nbformat": 4,
 "nbformat_minor": 5
}
