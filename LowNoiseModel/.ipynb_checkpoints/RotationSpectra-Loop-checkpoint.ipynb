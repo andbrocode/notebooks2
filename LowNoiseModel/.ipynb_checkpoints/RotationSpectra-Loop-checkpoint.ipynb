{
 "cells": [
  {
   "cell_type": "markdown",
   "id": "protected-presentation",
   "metadata": {},
   "source": [
    "## Load Libraries"
   ]
  },
  {
   "cell_type": "code",
   "execution_count": 13,
   "id": "behind-arrangement",
   "metadata": {
    "ExecuteTime": {
     "end_time": "2021-03-12T23:08:06.586025Z",
     "start_time": "2021-03-12T23:08:05.905777Z"
    }
   },
   "outputs": [],
   "source": [
    "from andbro__querrySeismoData import __querrySeismoData\n",
    "from obspy import UTCDateTime\n",
    "from scipy.signal import welch\n",
    "from numpy import log10, zeros, append, linspace, mean, median, array, where, transpose, shape, histogram\n",
    "from pandas import DataFrame, concat, Series, date_range, read_csv\n",
    "from tqdm import tqdm_notebook\n",
    "from pathlib import Path\n",
    "\n",
    "import pickle\n",
    "import matplotlib.pyplot as plt"
   ]
  },
  {
   "cell_type": "markdown",
   "id": "subject-expression",
   "metadata": {},
   "source": [
    "## Configurations"
   ]
  },
  {
   "cell_type": "code",
   "execution_count": 14,
   "id": "yellow-geography",
   "metadata": {
    "ExecuteTime": {
     "end_time": "2021-03-12T23:08:06.689383Z",
     "start_time": "2021-03-12T23:08:06.684518Z"
    }
   },
   "outputs": [],
   "source": [
    "\n",
    "config= {}\n",
    "\n",
    "config['date1'] = UTCDateTime(\"2022-01-01\")\n",
    "config['date2'] = UTCDateTime(\"2022-01-20\")\n",
    "\n",
    "# config['tbeg'] = UTCDateTime(\"2022-01-17 00:00\")\n",
    "# config['tend'] = UTCDateTime(\"2022-01-20 00:00\")\n",
    "config['seed'] = \"BW.ROMY.10.HJZ\"\n",
    "# config['seed'] = \"BW.DROMY..FJZ\"\n",
    "config['repository'] = \"george\"\n",
    "\n",
    "\n",
    "config['outname'] = \"run2\"\n",
    "config['outpath'] = \"/import/kilauea-data/ROMY/RotationSpectra/data/\""
   ]
  },
  {
   "cell_type": "code",
   "execution_count": 15,
   "id": "c0bb2bfd",
   "metadata": {},
   "outputs": [],
   "source": [
    "config['interval'] = 3600\n",
    "config['interval_overlap'] = 50 # in percent\n",
    "config['taper'] = 'hanning'\n",
    "config['segments'] = 1e2\n",
    "config['nperseg'] = 128*config.get('segments')\n",
    "config['noverlap'] = 64*config.get('segments')\n",
    "config['nfft'] = None\n",
    "config['detrend'] = 'constant'\n",
    "config['scaling'] = 'density'\n",
    "config['onesided'] = True\n",
    "config['frequency_limits'] = (0, 30) # in Hz"
   ]
  },
  {
   "cell_type": "markdown",
   "id": "natural-beginning",
   "metadata": {},
   "source": [
    "## Looping "
   ]
  },
  {
   "cell_type": "code",
   "execution_count": 16,
   "id": "e5849ec7",
   "metadata": {
    "code_folding": [
     0
    ]
   },
   "outputs": [],
   "source": [
    "def __get_data(config):\n",
    "    '''\n",
    "    load data and remove response\n",
    "\n",
    "    VARIABLES:\n",
    "    '''\n",
    "\n",
    "    try:\n",
    "        st0, inv = __querrySeismoData(    \n",
    "                            seed_id=config.get('seed'),\n",
    "                            starttime=config.get('tbeg'),\n",
    "                            endtime=config.get('tend'),\n",
    "                            repository=config['repository'],\n",
    "                            path=None,\n",
    "                            restitute=False,\n",
    "                            detail=None,\n",
    "                            )\n",
    "\n",
    "    except:\n",
    "        print(f\"failed to load\")\n",
    "#         print(f\"failed to load {config.get['seed']} {config.get['tbeg']}\")\n",
    "        return None\n",
    "    \n",
    "    try:\n",
    "        st0.remove_response(inventory=inv,output=\"VEL\", zero_mean=True); \n",
    "    except:\n",
    "        print(f\"failed to remove response\")\n",
    "#         print(f\"failed to remove response {config.get['seed']} {config.get['tbeg']}\")\n",
    "        return None\n",
    "    \n",
    "    return st0"
   ]
  },
  {
   "cell_type": "code",
   "execution_count": 17,
   "id": "e4858b93",
   "metadata": {
    "code_folding": [
     0
    ]
   },
   "outputs": [],
   "source": [
    "def __get_minimal_psd(psds):\n",
    "\n",
    "    from numpy import nanmin, array, nonzero\n",
    "    \n",
    "    min_psd = zeros(psds.shape[1])\n",
    "    \n",
    "    for f in range(psds.shape[1]):\n",
    "        a = psds[:,f]\n",
    "        min_psd[f] = nanmin(a[nonzero(a)])\n",
    "    \n",
    "    return min_psd"
   ]
  },
  {
   "cell_type": "code",
   "execution_count": 18,
   "id": "af6a3772",
   "metadata": {
    "code_folding": [
     0
    ]
   },
   "outputs": [],
   "source": [
    "def __get_minimum_psd(psds):\n",
    "    for i, psd in enumerate(psds):\n",
    "        if i == 0: \n",
    "            lowest_sum = psds[0].sum()\n",
    "            idx = 0\n",
    "\n",
    "        value = psd.sum()\n",
    "\n",
    "        if value < lowest_sum and value != 0:\n",
    "            lowest_sum = value\n",
    "            idx = i\n",
    "\n",
    "    return psds[idx]"
   ]
  },
  {
   "cell_type": "code",
   "execution_count": 19,
   "id": "5cc01764",
   "metadata": {
    "code_folding": [
     0
    ]
   },
   "outputs": [],
   "source": [
    "def __save_config(config):\n",
    "    \n",
    "    ofile = open(config['outpath']+config['outname']+\"_config.pick\", 'wb')\n",
    "    pickle.dump(config, ofile)\n",
    "\n",
    "    if Path(config['outpath']+config['outname']+\"_config.pick\").exists():\n",
    "        print(f\"created: {config['outpath']}{config['outname']}_config.pick\")"
   ]
  },
  {
   "cell_type": "code",
   "execution_count": 20,
   "id": "1115aeb5",
   "metadata": {
    "code_folding": [
     0
    ]
   },
   "outputs": [],
   "source": [
    "def __write_to_csv(data, text, config):\n",
    "    \n",
    "    import csv\n",
    "    \n",
    "    opath = config['outpath']\n",
    "    oname = config['outname']+\"_\"+text+\"_psd.csv\"\n",
    "    \n",
    "    # open the file in the write mode\n",
    "    with open(opath+oname, 'w') as file:\n",
    "\n",
    "        writer = csv.writer(file)\n",
    "        for row in data:\n",
    "            writer.writerow(row)\n",
    "            \n",
    "    if Path(opath+oname).exists():\n",
    "        print(f\"created: {opath}{oname}\")"
   ]
  },
  {
   "cell_type": "code",
   "execution_count": 21,
   "id": "f98e858c",
   "metadata": {
    "code_folding": [
     0
    ]
   },
   "outputs": [],
   "source": [
    "def __calculate_spectra(st, config, mode='dB'):\n",
    "\n",
    "    from datetime import datetime\n",
    "    from pandas import date_range\n",
    "    from obspy import UTCDateTime\n",
    "    from scipy.signal import welch\n",
    "    from numpy import where, array, zeros\n",
    "    \n",
    "    def __check_stream(st):\n",
    "        t1 = str(st[0].stats.starttime)\n",
    "        t2 = str(st[0].stats.endtime)\n",
    "        for tr in st:\n",
    "            if str(tr.stats.starttime) != t1 or str(tr.stats.endtime) != t2:\n",
    "                print(f\"ERROR: mismatch in start or endtime of trace: {tr.stats.id}\")\n",
    "                return\n",
    "            \n",
    "    def __make_decibel(array, relative_value):\n",
    "        return 10*log10(array/relative_value) \n",
    "    \n",
    "    ## check time consistency for all traces\n",
    "    __check_stream(st)\n",
    "    \n",
    "    ## check how many intervals are possible\n",
    "    if config['interval_overlap'] is None:\n",
    "        intervals = int((st[0].stats.endtime - st[0].stats.starttime)/config.get('interval'))\n",
    "        shift = config['interval']\n",
    "    else:\n",
    "        shift = int(config.get('interval')*config['interval_overlap']/100)\n",
    "        intervals = int((st[0].stats.endtime - st[0].stats.starttime)/shift)\n",
    "    \n",
    "\n",
    "\n",
    "    ## pre-define psd array\n",
    "    size_psd = int(config.get('nperseg')/2)+1\n",
    "    psd = zeros([intervals, size_psd])\n",
    "    \n",
    "    if size_psd >= len(st[0].data):\n",
    "        print(f\"ERROR: reduce nperseg or noverlap or segments! {size_psd} > {len(st[0].data)}\")\n",
    "        return\n",
    "    \n",
    "    for i, tr in enumerate(st):\n",
    "        \n",
    "        # initite variables for while loop\n",
    "        dt1 = st[0].stats.starttime\n",
    "        dt2 = st[0].stats.starttime + config['interval']\n",
    "        n = 0\n",
    "        \n",
    "        while dt2 <= st[0].stats.endtime:\n",
    "\n",
    "            tr_tmp = tr.copy()\n",
    "            tr_tmp.trim(starttime = UTCDateTime(dt1), endtime=UTCDateTime(dt2))\n",
    "\n",
    "#             print(n, dt1, dt2, \"\\n\")\n",
    "            \n",
    "#             print(config.get('nperseg'), config.get('noverlap'), len(tr_tmp.data))\n",
    "            \n",
    "            f, psd0 = welch(  \n",
    "                        tr_tmp.data, \n",
    "                        fs=tr_tmp.stats.sampling_rate, \n",
    "                        window=config.get('taper'), \n",
    "                        nperseg=config.get('nperseg'), \n",
    "                        noverlap=config.get('noverlap'), \n",
    "                        nfft=config.get('nfft'), \n",
    "                        detrend=config.get('detrend'), \n",
    "                        return_onesided=config.get('onesided'), \n",
    "                        scaling=config.get('scaling'),\n",
    "                       )\n",
    "            psd[n] = psd0\n",
    "            \n",
    "            ## adjust variables\n",
    "            dt1 += shift\n",
    "            dt2 += shift\n",
    "            n += 1\n",
    "\n",
    "            \n",
    "        if config.get('frequency_limits') is not None:\n",
    "            f1, f2 = config.get('frequency_limits')[0], config.get('frequency_limits')[1]\n",
    "            idx1, idx2 = int(where(f <= f1)[0][0]), int(where(f >= f2)[0][0])\n",
    "            ff = f[idx1:idx2]\n",
    "            tmp = zeros([intervals, len(ff)])\n",
    "            for j in range(intervals):\n",
    "                tmp[j] = psd[j,idx1:idx2]\n",
    "            psd = tmp\n",
    "\n",
    "        if mode is not None and mode.lower() == 'db':\n",
    "            for j in range(intervals):\n",
    "                psd[j] = __make_decibel(psd[j], abs(max(psd[j])))\n",
    "   \n",
    "    return ff, psd"
   ]
  },
  {
   "cell_type": "code",
   "execution_count": 22,
   "id": "352109fb",
   "metadata": {
    "code_folding": []
   },
   "outputs": [
    {
     "name": "stderr",
     "output_type": "stream",
     "text": [
      "/home/brotzer/anaconda3/lib/python3.7/site-packages/ipykernel_launcher.py:8: TqdmDeprecationWarning: This function will be removed in tqdm==5.0.0\n",
      "Please use `tqdm.notebook.tqdm` instead of `tqdm.tqdm_notebook`\n",
      "  \n"
     ]
    },
    {
     "data": {
      "application/vnd.jupyter.widget-view+json": {
       "model_id": "ef06d23e8bae439f82b61f0c551b3fdc",
       "version_major": 2,
       "version_minor": 0
      },
      "text/plain": [
       "  0%|          | 0/19 [00:00<?, ?it/s]"
      ]
     },
     "metadata": {},
     "output_type": "display_data"
    },
    {
     "name": "stdout",
     "output_type": "stream",
     "text": [
      "<class 'obspy.core.stream.Stream'>\n",
      "<class 'obspy.core.stream.Stream'>\n",
      "<class 'obspy.core.stream.Stream'>\n",
      "<class 'obspy.core.stream.Stream'>\n",
      "<class 'obspy.core.stream.Stream'>\n",
      "<class 'obspy.core.stream.Stream'>\n",
      "<class 'obspy.core.stream.Stream'>\n",
      "<class 'obspy.core.stream.Stream'>\n",
      "<class 'obspy.core.stream.Stream'>\n",
      "skipping 2022-01-09 00:00:00\n",
      "<class 'obspy.core.stream.Stream'>\n",
      "<class 'obspy.core.stream.Stream'>\n",
      "<class 'obspy.core.stream.Stream'>\n",
      "<class 'obspy.core.stream.Stream'>\n",
      "<class 'obspy.core.stream.Stream'>\n",
      "<class 'obspy.core.stream.Stream'>\n",
      "<class 'obspy.core.stream.Stream'>\n",
      "<class 'obspy.core.stream.Stream'>\n",
      "<class 'obspy.core.stream.Stream'>\n",
      "<class 'obspy.core.stream.Stream'>\n",
      "created: /import/kilauea-data/ROMY/RotationSpectra/data/run2_minimal_psd.csv\n",
      "created: /import/kilauea-data/ROMY/RotationSpectra/data/run2_minimum_psd.csv\n",
      "created: /import/kilauea-data/ROMY/RotationSpectra/data/run2_config.pick\n"
     ]
    }
   ],
   "source": [
    "days = int((config['date2'] - config['date1'])/86400)+1\n",
    "\n",
    "\n",
    "minimum_collection = []\n",
    "minimal_collection = []\n",
    "columns = []\n",
    "\n",
    "for date in tqdm_notebook(date_range(str(config['date1'].date), str(config['date2'].date), days, closed='left')):\n",
    "    \n",
    "    config['tbeg'] = UTCDateTime(date)\n",
    "    config['tend'] = UTCDateTime(date) + 86400\n",
    "    \n",
    "    st = __get_data(config)\n",
    "    \n",
    "    if st is None or st[0].stats.npts < 1000:\n",
    "        print(f\"skipping {date}\")\n",
    "        continue\n",
    "    \n",
    "    ff, psds = __calculate_spectra(st, config, mode=None)\n",
    "    \n",
    "    minimal_psd = __get_minimal_psd(psds)\n",
    "    minimal_collection.append(minimal_psd)\n",
    "    \n",
    "    minimum_psd = __get_minimum_psd(psds)\n",
    "    minimum_collection.append(minimum_psd)\n",
    "    \n",
    "    columns.append(str(date)[:10])\n",
    "\n",
    "    \n",
    "__write_to_csv(minimal_collection, \"minimal\", config)\n",
    "__write_to_csv(minimum_collection, \"minimum\", config)\n",
    "\n",
    "__save_config(config)\n",
    "\n"
   ]
  },
  {
   "cell_type": "code",
   "execution_count": 136,
   "id": "58a74f3c",
   "metadata": {
    "code_folding": []
   },
   "outputs": [
    {
     "data": {
      "text/html": [
       "<div>\n",
       "<style scoped>\n",
       "    .dataframe tbody tr th:only-of-type {\n",
       "        vertical-align: middle;\n",
       "    }\n",
       "\n",
       "    .dataframe tbody tr th {\n",
       "        vertical-align: top;\n",
       "    }\n",
       "\n",
       "    .dataframe thead th {\n",
       "        text-align: right;\n",
       "    }\n",
       "</style>\n",
       "<table border=\"1\" class=\"dataframe\">\n",
       "  <thead>\n",
       "    <tr style=\"text-align: right;\">\n",
       "      <th></th>\n",
       "      <th>20220101</th>\n",
       "      <th>20220102</th>\n",
       "      <th>20220103</th>\n",
       "      <th>20220104</th>\n",
       "      <th>20220105</th>\n",
       "      <th>20220106</th>\n",
       "      <th>20220107</th>\n",
       "      <th>20220108</th>\n",
       "      <th>20220110</th>\n",
       "      <th>20220111</th>\n",
       "      <th>20220112</th>\n",
       "      <th>20220113</th>\n",
       "      <th>20220114</th>\n",
       "      <th>20220115</th>\n",
       "      <th>20220116</th>\n",
       "      <th>20220117</th>\n",
       "      <th>20220118</th>\n",
       "      <th>20220119</th>\n",
       "    </tr>\n",
       "  </thead>\n",
       "  <tbody>\n",
       "    <tr>\n",
       "      <th>0</th>\n",
       "      <td>4.60321695876e-22</td>\n",
       "      <td>4.863499e-22</td>\n",
       "      <td>4.540454e-22</td>\n",
       "      <td>3.598032e-22</td>\n",
       "      <td>4.685830e-22</td>\n",
       "      <td>3.142057e-22</td>\n",
       "      <td>4.683608e-22</td>\n",
       "      <td>6.707551e-22</td>\n",
       "      <td>7.065654e-22</td>\n",
       "      <td>6.932642e-22</td>\n",
       "      <td>8.016883e-22</td>\n",
       "      <td>8.898505e-22</td>\n",
       "      <td>5.752050e-22</td>\n",
       "      <td>6.314414e-22</td>\n",
       "      <td>7.528874e-22</td>\n",
       "      <td>1.249689e-21</td>\n",
       "      <td>7.463601e-22</td>\n",
       "      <td>8.942685e-22</td>\n",
       "    </tr>\n",
       "    <tr>\n",
       "      <th>1</th>\n",
       "      <td>1.10157733294e-21</td>\n",
       "      <td>1.299689e-21</td>\n",
       "      <td>1.053825e-21</td>\n",
       "      <td>1.180458e-21</td>\n",
       "      <td>1.116910e-21</td>\n",
       "      <td>9.840100e-22</td>\n",
       "      <td>1.351289e-21</td>\n",
       "      <td>1.747059e-21</td>\n",
       "      <td>2.308026e-21</td>\n",
       "      <td>2.159648e-21</td>\n",
       "      <td>3.123585e-21</td>\n",
       "      <td>2.668091e-21</td>\n",
       "      <td>2.949818e-21</td>\n",
       "      <td>2.858099e-21</td>\n",
       "      <td>3.617456e-21</td>\n",
       "      <td>7.262540e-21</td>\n",
       "      <td>3.365475e-21</td>\n",
       "      <td>3.568998e-21</td>\n",
       "    </tr>\n",
       "    <tr>\n",
       "      <th>2</th>\n",
       "      <td>1.03997191421e-21</td>\n",
       "      <td>2.543805e-21</td>\n",
       "      <td>2.472690e-21</td>\n",
       "      <td>1.981061e-21</td>\n",
       "      <td>1.496557e-21</td>\n",
       "      <td>1.278129e-21</td>\n",
       "      <td>1.641373e-21</td>\n",
       "      <td>2.479937e-21</td>\n",
       "      <td>4.258744e-21</td>\n",
       "      <td>5.407162e-21</td>\n",
       "      <td>6.277854e-21</td>\n",
       "      <td>6.464124e-21</td>\n",
       "      <td>6.833313e-21</td>\n",
       "      <td>6.297144e-21</td>\n",
       "      <td>6.987907e-21</td>\n",
       "      <td>7.628734e-21</td>\n",
       "      <td>8.311547e-21</td>\n",
       "      <td>8.439238e-21</td>\n",
       "    </tr>\n",
       "    <tr>\n",
       "      <th>3</th>\n",
       "      <td>1.14041739013e-21</td>\n",
       "      <td>3.105171e-21</td>\n",
       "      <td>2.855985e-21</td>\n",
       "      <td>2.538337e-21</td>\n",
       "      <td>2.986053e-21</td>\n",
       "      <td>1.577110e-21</td>\n",
       "      <td>1.988245e-21</td>\n",
       "      <td>3.115364e-21</td>\n",
       "      <td>6.688516e-21</td>\n",
       "      <td>8.771258e-21</td>\n",
       "      <td>9.390426e-21</td>\n",
       "      <td>9.872855e-21</td>\n",
       "      <td>1.061784e-20</td>\n",
       "      <td>1.150612e-20</td>\n",
       "      <td>1.046561e-20</td>\n",
       "      <td>9.818283e-21</td>\n",
       "      <td>1.080143e-20</td>\n",
       "      <td>1.029796e-20</td>\n",
       "    </tr>\n",
       "    <tr>\n",
       "      <th>4</th>\n",
       "      <td>1.10816572788e-21</td>\n",
       "      <td>3.096545e-21</td>\n",
       "      <td>3.536371e-21</td>\n",
       "      <td>2.417913e-21</td>\n",
       "      <td>3.811847e-21</td>\n",
       "      <td>1.813121e-21</td>\n",
       "      <td>2.911035e-21</td>\n",
       "      <td>4.151925e-21</td>\n",
       "      <td>4.873751e-21</td>\n",
       "      <td>8.928566e-21</td>\n",
       "      <td>9.773550e-21</td>\n",
       "      <td>1.159293e-20</td>\n",
       "      <td>1.167591e-20</td>\n",
       "      <td>1.466076e-20</td>\n",
       "      <td>1.060433e-20</td>\n",
       "      <td>1.109089e-20</td>\n",
       "      <td>1.102065e-20</td>\n",
       "      <td>1.054749e-20</td>\n",
       "    </tr>\n",
       "    <tr>\n",
       "      <th>...</th>\n",
       "      <td>...</td>\n",
       "      <td>...</td>\n",
       "      <td>...</td>\n",
       "      <td>...</td>\n",
       "      <td>...</td>\n",
       "      <td>...</td>\n",
       "      <td>...</td>\n",
       "      <td>...</td>\n",
       "      <td>...</td>\n",
       "      <td>...</td>\n",
       "      <td>...</td>\n",
       "      <td>...</td>\n",
       "      <td>...</td>\n",
       "      <td>...</td>\n",
       "      <td>...</td>\n",
       "      <td>...</td>\n",
       "      <td>...</td>\n",
       "      <td>...</td>\n",
       "    </tr>\n",
       "    <tr>\n",
       "      <th>3835</th>\n",
       "      <td>2.42888182848e-19</td>\n",
       "      <td>2.960173e-19</td>\n",
       "      <td>3.023947e-19</td>\n",
       "      <td>3.657249e-19</td>\n",
       "      <td>4.630929e-19</td>\n",
       "      <td>2.436071e-19</td>\n",
       "      <td>2.448148e-19</td>\n",
       "      <td>2.447723e-19</td>\n",
       "      <td>1.802636e-19</td>\n",
       "      <td>5.913551e-19</td>\n",
       "      <td>4.623281e-19</td>\n",
       "      <td>3.531467e-19</td>\n",
       "      <td>2.778056e-19</td>\n",
       "      <td>2.361503e-19</td>\n",
       "      <td>2.448379e-19</td>\n",
       "      <td>2.358418e-19</td>\n",
       "      <td>2.473206e-19</td>\n",
       "      <td>2.801137e-19</td>\n",
       "    </tr>\n",
       "    <tr>\n",
       "      <th>3836</th>\n",
       "      <td>2.77969576758e-19</td>\n",
       "      <td>2.311532e-19</td>\n",
       "      <td>3.532139e-19</td>\n",
       "      <td>3.291826e-19</td>\n",
       "      <td>4.939814e-19</td>\n",
       "      <td>2.560223e-19</td>\n",
       "      <td>2.709928e-19</td>\n",
       "      <td>2.395527e-19</td>\n",
       "      <td>1.693397e-19</td>\n",
       "      <td>6.397917e-19</td>\n",
       "      <td>4.976166e-19</td>\n",
       "      <td>3.733868e-19</td>\n",
       "      <td>3.351468e-19</td>\n",
       "      <td>1.881690e-19</td>\n",
       "      <td>2.576275e-19</td>\n",
       "      <td>2.524613e-19</td>\n",
       "      <td>1.897943e-19</td>\n",
       "      <td>2.351394e-19</td>\n",
       "    </tr>\n",
       "    <tr>\n",
       "      <th>3837</th>\n",
       "      <td>2.48658449285e-19</td>\n",
       "      <td>2.422818e-19</td>\n",
       "      <td>3.134674e-19</td>\n",
       "      <td>3.870081e-19</td>\n",
       "      <td>4.828880e-19</td>\n",
       "      <td>3.158721e-19</td>\n",
       "      <td>2.800163e-19</td>\n",
       "      <td>2.521806e-19</td>\n",
       "      <td>2.091407e-19</td>\n",
       "      <td>6.702343e-19</td>\n",
       "      <td>4.008804e-19</td>\n",
       "      <td>3.619066e-19</td>\n",
       "      <td>3.676308e-19</td>\n",
       "      <td>2.054018e-19</td>\n",
       "      <td>2.300146e-19</td>\n",
       "      <td>2.903560e-19</td>\n",
       "      <td>2.406831e-19</td>\n",
       "      <td>2.707203e-19</td>\n",
       "    </tr>\n",
       "    <tr>\n",
       "      <th>3838</th>\n",
       "      <td>2.64435316531e-19</td>\n",
       "      <td>2.459030e-19</td>\n",
       "      <td>3.102011e-19</td>\n",
       "      <td>4.193098e-19</td>\n",
       "      <td>5.058339e-19</td>\n",
       "      <td>3.160048e-19</td>\n",
       "      <td>2.989192e-19</td>\n",
       "      <td>2.243145e-19</td>\n",
       "      <td>2.001508e-19</td>\n",
       "      <td>7.927535e-19</td>\n",
       "      <td>3.730232e-19</td>\n",
       "      <td>3.332490e-19</td>\n",
       "      <td>3.402408e-19</td>\n",
       "      <td>2.706262e-19</td>\n",
       "      <td>2.285881e-19</td>\n",
       "      <td>2.742789e-19</td>\n",
       "      <td>2.650023e-19</td>\n",
       "      <td>2.912714e-19</td>\n",
       "    </tr>\n",
       "    <tr>\n",
       "      <th>3839</th>\n",
       "      <td>3.06016313196e-19</td>\n",
       "      <td>3.472373e-19</td>\n",
       "      <td>4.092231e-19</td>\n",
       "      <td>3.274435e-19</td>\n",
       "      <td>5.078095e-19</td>\n",
       "      <td>2.514978e-19</td>\n",
       "      <td>2.704900e-19</td>\n",
       "      <td>2.099157e-19</td>\n",
       "      <td>1.878443e-19</td>\n",
       "      <td>8.032657e-19</td>\n",
       "      <td>3.945788e-19</td>\n",
       "      <td>2.862573e-19</td>\n",
       "      <td>3.455779e-19</td>\n",
       "      <td>2.588651e-19</td>\n",
       "      <td>2.293975e-19</td>\n",
       "      <td>1.916039e-19</td>\n",
       "      <td>1.945807e-19</td>\n",
       "      <td>2.685422e-19</td>\n",
       "    </tr>\n",
       "  </tbody>\n",
       "</table>\n",
       "<p>3840 rows × 18 columns</p>\n",
       "</div>"
      ],
      "text/plain": [
       "               20220101      20220102      20220103      20220104  \\\n",
       "0     4.60321695876e-22  4.863499e-22  4.540454e-22  3.598032e-22   \n",
       "1     1.10157733294e-21  1.299689e-21  1.053825e-21  1.180458e-21   \n",
       "2     1.03997191421e-21  2.543805e-21  2.472690e-21  1.981061e-21   \n",
       "3     1.14041739013e-21  3.105171e-21  2.855985e-21  2.538337e-21   \n",
       "4     1.10816572788e-21  3.096545e-21  3.536371e-21  2.417913e-21   \n",
       "...                 ...           ...           ...           ...   \n",
       "3835  2.42888182848e-19  2.960173e-19  3.023947e-19  3.657249e-19   \n",
       "3836  2.77969576758e-19  2.311532e-19  3.532139e-19  3.291826e-19   \n",
       "3837  2.48658449285e-19  2.422818e-19  3.134674e-19  3.870081e-19   \n",
       "3838  2.64435316531e-19  2.459030e-19  3.102011e-19  4.193098e-19   \n",
       "3839  3.06016313196e-19  3.472373e-19  4.092231e-19  3.274435e-19   \n",
       "\n",
       "          20220105      20220106      20220107      20220108      20220110  \\\n",
       "0     4.685830e-22  3.142057e-22  4.683608e-22  6.707551e-22  7.065654e-22   \n",
       "1     1.116910e-21  9.840100e-22  1.351289e-21  1.747059e-21  2.308026e-21   \n",
       "2     1.496557e-21  1.278129e-21  1.641373e-21  2.479937e-21  4.258744e-21   \n",
       "3     2.986053e-21  1.577110e-21  1.988245e-21  3.115364e-21  6.688516e-21   \n",
       "4     3.811847e-21  1.813121e-21  2.911035e-21  4.151925e-21  4.873751e-21   \n",
       "...            ...           ...           ...           ...           ...   \n",
       "3835  4.630929e-19  2.436071e-19  2.448148e-19  2.447723e-19  1.802636e-19   \n",
       "3836  4.939814e-19  2.560223e-19  2.709928e-19  2.395527e-19  1.693397e-19   \n",
       "3837  4.828880e-19  3.158721e-19  2.800163e-19  2.521806e-19  2.091407e-19   \n",
       "3838  5.058339e-19  3.160048e-19  2.989192e-19  2.243145e-19  2.001508e-19   \n",
       "3839  5.078095e-19  2.514978e-19  2.704900e-19  2.099157e-19  1.878443e-19   \n",
       "\n",
       "          20220111      20220112      20220113      20220114      20220115  \\\n",
       "0     6.932642e-22  8.016883e-22  8.898505e-22  5.752050e-22  6.314414e-22   \n",
       "1     2.159648e-21  3.123585e-21  2.668091e-21  2.949818e-21  2.858099e-21   \n",
       "2     5.407162e-21  6.277854e-21  6.464124e-21  6.833313e-21  6.297144e-21   \n",
       "3     8.771258e-21  9.390426e-21  9.872855e-21  1.061784e-20  1.150612e-20   \n",
       "4     8.928566e-21  9.773550e-21  1.159293e-20  1.167591e-20  1.466076e-20   \n",
       "...            ...           ...           ...           ...           ...   \n",
       "3835  5.913551e-19  4.623281e-19  3.531467e-19  2.778056e-19  2.361503e-19   \n",
       "3836  6.397917e-19  4.976166e-19  3.733868e-19  3.351468e-19  1.881690e-19   \n",
       "3837  6.702343e-19  4.008804e-19  3.619066e-19  3.676308e-19  2.054018e-19   \n",
       "3838  7.927535e-19  3.730232e-19  3.332490e-19  3.402408e-19  2.706262e-19   \n",
       "3839  8.032657e-19  3.945788e-19  2.862573e-19  3.455779e-19  2.588651e-19   \n",
       "\n",
       "          20220116      20220117      20220118      20220119  \n",
       "0     7.528874e-22  1.249689e-21  7.463601e-22  8.942685e-22  \n",
       "1     3.617456e-21  7.262540e-21  3.365475e-21  3.568998e-21  \n",
       "2     6.987907e-21  7.628734e-21  8.311547e-21  8.439238e-21  \n",
       "3     1.046561e-20  9.818283e-21  1.080143e-20  1.029796e-20  \n",
       "4     1.060433e-20  1.109089e-20  1.102065e-20  1.054749e-20  \n",
       "...            ...           ...           ...           ...  \n",
       "3835  2.448379e-19  2.358418e-19  2.473206e-19  2.801137e-19  \n",
       "3836  2.576275e-19  2.524613e-19  1.897943e-19  2.351394e-19  \n",
       "3837  2.300146e-19  2.903560e-19  2.406831e-19  2.707203e-19  \n",
       "3838  2.285881e-19  2.742789e-19  2.650023e-19  2.912714e-19  \n",
       "3839  2.293975e-19  1.916039e-19  1.945807e-19  2.685422e-19  \n",
       "\n",
       "[3840 rows x 18 columns]"
      ]
     },
     "execution_count": 136,
     "metadata": {},
     "output_type": "execute_result"
    },
    {
     "data": {
      "text/plain": [
       "20220101    float64\n",
       "20220102    float64\n",
       "20220103    float64\n",
       "20220104    float64\n",
       "20220105    float64\n",
       "20220106    float64\n",
       "20220107    float64\n",
       "20220108    float64\n",
       "20220110    float64\n",
       "20220111    float64\n",
       "20220112    float64\n",
       "20220113    float64\n",
       "20220114    float64\n",
       "20220115    float64\n",
       "20220116    float64\n",
       "20220117    float64\n",
       "20220118    float64\n",
       "20220119    float64\n",
       "dtype: object"
      ]
     },
     "execution_count": 136,
     "metadata": {},
     "output_type": "execute_result"
    },
    {
     "data": {
      "text/plain": [
       "20220101    1.361334e-19\n",
       "20220102    1.289589e-19\n",
       "20220103    2.425054e-19\n",
       "20220104    1.856727e-19\n",
       "20220105    2.384421e-19\n",
       "20220106    1.350529e-19\n",
       "20220107    1.478832e-19\n",
       "20220108    1.184158e-19\n",
       "20220110    1.317239e-19\n",
       "20220111    3.211404e-19\n",
       "20220112    2.361259e-19\n",
       "20220113    1.925459e-19\n",
       "20220114    1.718737e-19\n",
       "20220115    1.420905e-19\n",
       "20220116    1.159663e-19\n",
       "20220117    1.680691e-19\n",
       "20220118    1.742225e-19\n",
       "20220119    1.804398e-19\n",
       "dtype: float64"
      ]
     },
     "execution_count": 136,
     "metadata": {},
     "output_type": "execute_result"
    }
   ],
   "source": [
    "file = f\"/import/kilauea-data/ROMY/RotationSpectra/data/{config['outname']}_minimal_psd.csv\"\n",
    "\n",
    "## get data to dataframe and transpose and reindex\n",
    "df = read_csv(file, index_col=False)\n",
    "df = df.transpose()\n",
    "df.reset_index(inplace=True)\n",
    "df.columns = [column.replace(\"-\",\"\") for column in columns]\n",
    "df\n",
    "\n",
    "## convert to list\n",
    "psds = []\n",
    "for col in df.columns:\n",
    "    ## turn non-float series to float objects\n",
    "    df[col] = pd.to_numeric(df[col], errors = 'coerce')\n",
    "    ## add to psds list\n",
    "    psds.append(array(df[col]))\n",
    "    \n",
    "df.dtypes\n",
    "df.mean()"
   ]
  },
  {
   "cell_type": "code",
   "execution_count": 137,
   "id": "0b0d2ec9",
   "metadata": {},
   "outputs": [
    {
     "data": {
      "image/png": "[encoded data removed]",
      "text/plain": [
       "<Figure size 432x288 with 1 Axes>"
      ]
     },
     "metadata": {
      "needs_background": "light"
     },
     "output_type": "display_data"
    }
   ],
   "source": [
    "for psd in psds[:5]:\n",
    "    \n",
    "    plt.loglog(ff, psd)\n",
    "\n",
    "#     plt.loglog(ff, minimal_psd, 'k')\n",
    "#     plt.loglog(ff, minimum_psd, 'pink')\n",
    "\n",
    "plt.show();\n",
    "\n"
   ]
  },
  {
   "cell_type": "code",
   "execution_count": null,
   "id": "820e56d6",
   "metadata": {},
   "outputs": [],
   "source": []
  },
  {
   "cell_type": "code",
   "execution_count": null,
   "id": "eb6b8dc2",
   "metadata": {},
   "outputs": [],
   "source": []
  },
  {
   "cell_type": "code",
   "execution_count": null,
   "id": "fifteen-cheat",
   "metadata": {
    "ExecuteTime": {
     "end_time": "2021-03-13T12:56:55.788109Z",
     "start_time": "2021-03-13T12:56:55.598611Z"
    }
   },
   "outputs": [],
   "source": [
    "## create new dataframe\n",
    "df = DataFrame(transpose(psd))\n",
    "\n",
    "## calulcate max and min of all datasets\n",
    "max_value = max([max(sublist) for sublist in psd])\n",
    "min_value = min([min(sublist) for sublist in psd])\n",
    "\n",
    "## make colormap \n",
    "# colors = plt.cm.viridis_r(linspace(0,1,len(psd)))\n",
    "cols = plt.cm.jet_r(linspace(0,1,len(psd)+1))\n",
    "\n",
    "## caluclate average of each frequency samples across datasets \n",
    "psd_avg = df.sum(axis=1)/df.count(axis=1)\n"
   ]
  },
  {
   "cell_type": "markdown",
   "id": "authentic-knock",
   "metadata": {
    "ExecuteTime": {
     "end_time": "2021-03-12T09:46:52.764867Z",
     "start_time": "2021-03-12T09:46:52.736292Z"
    }
   },
   "source": [
    "### store psd object using pickle"
   ]
  },
  {
   "cell_type": "code",
   "execution_count": null,
   "id": "honey-stations",
   "metadata": {
    "ExecuteTime": {
     "end_time": "2021-03-13T13:00:36.754121Z",
     "start_time": "2021-03-13T13:00:36.731751Z"
    }
   },
   "outputs": [],
   "source": [
    "import pickle\n",
    "\n",
    "ofile = open(opath+'../'+f'sagnacspectra_{date.date}_{interval}.pick', 'wb')\n",
    "pickle.dump(psd, ofile)\n",
    "ofile.close()"
   ]
  },
  {
   "cell_type": "markdown",
   "id": "authorized-equation",
   "metadata": {},
   "source": [
    "## Scatter Plot"
   ]
  },
  {
   "cell_type": "code",
   "execution_count": null,
   "id": "concrete-service",
   "metadata": {
    "ExecuteTime": {
     "end_time": "2021-03-13T12:58:20.168403Z",
     "start_time": "2021-03-13T12:57:59.634317Z"
    }
   },
   "outputs": [],
   "source": [
    "## ____________________________________________\n",
    "\n",
    "fig, ax = plt.subplots(1,1, figsize=(15,10))\n",
    "\n",
    "font = 14\n",
    "\n",
    "for i, psdx in enumerate(psd):\n",
    "    psd_db = __make_decibel(psdx, max_value)\n",
    "    psd_avg_db = __make_decibel(psd_avg, max_value)\n",
    "    \n",
    "#     ax.plot(f, psd_db, color=colors[i])\n",
    "    ax.scatter(f, psd_db, color=cols[i], s=1, zorder=2, alpha=0.7, label=i,)\n",
    "\n",
    "ax.plot(f, psd_avg_db, color='k', lw=1, zorder=2)\n",
    "    \n",
    "ax.set_xlim(547, 560)\n",
    "\n",
    "ax.legend(ncol=2)\n",
    "\n",
    "ax.grid(ls='--', zorder=1)\n",
    "\n",
    "ax.set_xlabel(\"Frequency ( Hz )\", fontsize=font)\n",
    "ax.set_ylabel(f\"PSD ( dB rel. to {round(max_value,3)} V$^2$/Hz ) \", fontsize=font)\n",
    "ax.set_title(f\"Sagnac Spetra on {date.date} ({interval}s windows) \", fontsize=font+2)\n",
    "\n",
    "ax.tick_params(axis='both', labelsize=font-2)\n",
    "\n"
   ]
  },
  {
   "cell_type": "code",
   "execution_count": null,
   "id": "referenced-quarterly",
   "metadata": {
    "ExecuteTime": {
     "end_time": "2021-03-13T12:58:42.756475Z",
     "start_time": "2021-03-13T12:58:20.171003Z"
    }
   },
   "outputs": [],
   "source": [
    "fig.savefig(\n",
    "            opath+f\"plot_sagnacspectra_{date.date}_{interval}_scatter.png\", \n",
    "            dpi=300, facecolor='w', \n",
    "            edgecolor='w',\n",
    "            orientation='portrait', \n",
    "            format=\"png\",\n",
    "            transparent=False, \n",
    "            bbox_inches=\"tight\", \n",
    "            pad_inches=0.2,\n",
    "           )"
   ]
  },
  {
   "cell_type": "markdown",
   "id": "fourth-retrieval",
   "metadata": {
    "ExecuteTime": {
     "start_time": "2021-03-12T13:54:58.391Z"
    }
   },
   "source": [
    "## Calculate and Plot RollingAverage"
   ]
  },
  {
   "cell_type": "code",
   "execution_count": null,
   "id": "inappropriate-prisoner",
   "metadata": {
    "ExecuteTime": {
     "end_time": "2021-03-13T12:58:43.407620Z",
     "start_time": "2021-03-13T12:58:42.757552Z"
    }
   },
   "outputs": [],
   "source": [
    "## create second dataframe for rolling average\n",
    "df_rolled = DataFrame()\n",
    "\n",
    "# alphabet = [chr(letter) for letter in range(len(df[0]))]\n",
    "\n",
    "## calulcate rolling average over x samples \n",
    "win_len = 10\n",
    "for i in range(df.columns.size):\n",
    "    df_rolled = concat([ df_rolled, df.iloc[:,i].rolling(window=win_len, min_periods=1).mean() ], axis=1)\n",
    "\n",
    "\n",
    "# max_value = max([max(sublist) for sublist in psd])\n",
    "# min_value = min([min(sublist) for sublist in psd])\n",
    "\n",
    "## make colormap\n",
    "# colors = plt.cm.viridis_r(linspace(0,1,len(psd)+1))\n",
    "cols = plt.cm.jet_r(linspace(0,1,len(psd)+1))\n",
    "\n",
    "## calulcate average\n",
    "psd_avg2 = df_rolled.sum(axis=1)/df_rolled.count(axis=1)\n",
    "\n"
   ]
  },
  {
   "cell_type": "code",
   "execution_count": null,
   "id": "documented-specific",
   "metadata": {
    "ExecuteTime": {
     "end_time": "2021-03-13T12:58:58.158876Z",
     "start_time": "2021-03-13T12:58:54.620097Z"
    }
   },
   "outputs": [],
   "source": [
    "## ____________________________________________\n",
    "\n",
    "fig, ax = plt.subplots(1,1, figsize=(15,10))\n",
    "\n",
    "font = 16\n",
    "\n",
    "for i in range(df_rolled.columns.size):\n",
    "\n",
    "    psd_db = __make_decibel(df_rolled.iloc[:,i], max_value)\n",
    "    psd_avg_db = __make_decibel(psd_avg2, max_value)\n",
    "    \n",
    "    ax.plot(f, psd_db, color=cols[i], lw=0.8, label=i, alpha=0.6)\n",
    "\n",
    "    \n",
    "# ax.plot(f, psd_avg_db, color='k', lw=1, zorder=2)\n",
    "    \n",
    "    \n",
    "ax.set_xlim(547, 560)\n",
    "\n",
    "ax.legend(ncol=2, markerscale=2)\n",
    "\n",
    "ax.grid(ls='--', zorder=1)\n",
    "\n",
    "ax.set_xlabel(\"Frequency ( Hz )\", fontsize=font)\n",
    "ax.set_ylabel(f\"PSD ( dB rel. to {round(max_value,3)} V$^2$/Hz ) \", fontsize=font)\n",
    "ax.set_title(f\"Sagnac Spetra on {date.date} ({interval}s windows) \", fontsize=font+2)\n",
    "\n",
    "ax.tick_params(axis='both', labelsize=font-2)\n",
    "\n",
    "ax.set_xlim(546, 560)\n",
    "# ax.set_xlim(551, 556)\n"
   ]
  },
  {
   "cell_type": "code",
   "execution_count": null,
   "id": "nominated-imperial",
   "metadata": {
    "ExecuteTime": {
     "end_time": "2021-03-13T12:59:03.273074Z",
     "start_time": "2021-03-13T12:58:58.160016Z"
    }
   },
   "outputs": [],
   "source": [
    "fig.savefig(\n",
    "            opath+f\"plot_sagnacspectra_{date.date}_{interval}_{win_len}_lines.png\", \n",
    "            dpi=300, facecolor='w', \n",
    "            edgecolor='w',\n",
    "            orientation='portrait', \n",
    "            format=\"png\",\n",
    "            transparent=False, \n",
    "            bbox_inches=\"tight\", \n",
    "            pad_inches=0.2,\n",
    "           )"
   ]
  },
  {
   "cell_type": "markdown",
   "id": "biblical-alloy",
   "metadata": {},
   "source": [
    "## Calculate and Plot Density"
   ]
  },
  {
   "cell_type": "code",
   "execution_count": null,
   "id": "stuffed-furniture",
   "metadata": {
    "ExecuteTime": {
     "end_time": "2021-03-13T12:59:18.719398Z",
     "start_time": "2021-03-13T12:59:03.274804Z"
    }
   },
   "outputs": [],
   "source": [
    "\n",
    "psd_db = []\n",
    "for sublist in psd:\n",
    "    psd_db.append(__make_decibel(sublist, max_value))\n",
    "\n",
    "max_value_db = max([max(sublist) for sublist in psd_db])\n",
    "min_value_db = min([min(sublist) for sublist in psd_db])\n",
    "\n",
    "\n",
    "dist = []\n",
    "for h in range(len(psd_db[1])):\n",
    "    \n",
    "    tmp = [psd_db[i][h] for i in range(shape(psd_db)[0])]\n",
    "    hist, edges = histogram(tmp, bins=100, range=(min_value_db, max_value_db), density=None);\n",
    "    \n",
    "    dist.append(hist)\n",
    "    \n",
    "dist = array(dist)\n",
    "\n",
    "max_value_dist = max([max(sublist) for sublist in dist])\n",
    "\n",
    "\n",
    "fig = plt.figure() \n",
    "plt.scatter(edges[:-1], hist)\n"
   ]
  },
  {
   "cell_type": "code",
   "execution_count": null,
   "id": "linear-belle",
   "metadata": {
    "ExecuteTime": {
     "end_time": "2021-03-13T12:59:19.087766Z",
     "start_time": "2021-03-13T12:59:18.721449Z"
    }
   },
   "outputs": [],
   "source": [
    "from matplotlib import colors\n",
    "\n",
    "\n",
    "fig = plt.figure(figsize=(10,5))\n",
    "\n",
    "font=14\n",
    "\n",
    "im = plt.imshow(transpose(dist),\n",
    "        cmap=\"YlOrRd\",\n",
    "        clim=[1,20],\n",
    "        aspect='auto',\n",
    "        interpolation=None,\n",
    "        alpha=None,\n",
    "        origin=\"lower\",\n",
    "        extent=(f_lower, f_upper, min(edges), max(edges)),\n",
    "        norm=colors.LogNorm()\n",
    ")\n",
    "\n",
    "plt.plot(f, psd_avg_db, color='k', lw=1, zorder=2)\n",
    "\n",
    "caxes = fig.add_axes()\n",
    "\n",
    "cb = plt.colorbar(im, cax=caxes)\n",
    "cb.set_label(\"counts\", fontsize=font)\n",
    "\n",
    "plt.ylabel(f\"PSD (dB rel. to {round(max_value,3)} V$^2$/Hz )\",fontsize=font)\n",
    "plt.xlabel(\"Frequency ( Hz )\",fontsize=font)\n",
    "plt.title(f\"Sagnac Spetra on {date.date} ({interval}s windows) \",fontsize=font+2)\n",
    "\n",
    "plt.tick_params(axis='both', labelsize=font-2)\n"
   ]
  },
  {
   "cell_type": "code",
   "execution_count": null,
   "id": "valid-greenhouse",
   "metadata": {
    "ExecuteTime": {
     "end_time": "2021-03-13T12:59:20.155040Z",
     "start_time": "2021-03-13T12:59:19.090737Z"
    }
   },
   "outputs": [],
   "source": [
    "\n",
    "fig.savefig(\n",
    "            opath+f\"plot_sagnacspectra_{date.date}_{interval}_distribution.png\", \n",
    "            dpi=300, facecolor='w', \n",
    "            edgecolor='w',\n",
    "            orientation='portrait', \n",
    "            format=\"png\",\n",
    "            transparent=False, \n",
    "            bbox_inches=\"tight\", \n",
    "            pad_inches=0.2,\n",
    "           )"
   ]
  },
  {
   "cell_type": "code",
   "execution_count": null,
   "id": "exposed-timber",
   "metadata": {
    "ExecuteTime": {
     "start_time": "2021-03-12T13:55:30.232Z"
    }
   },
   "outputs": [],
   "source": []
  }
 ],
 "metadata": {
  "kernelspec": {
   "display_name": "Python 3",
   "language": "python",
   "name": "python3"
  },
  "language_info": {
   "codemirror_mode": {
    "name": "ipython",
    "version": 3
   },
   "file_extension": ".py",
   "mimetype": "text/x-python",
   "name": "python",
   "nbconvert_exporter": "python",
   "pygments_lexer": "ipython3",
   "version": "3.7.7"
  }
 },
 "nbformat": 4,
 "nbformat_minor": 5
}
