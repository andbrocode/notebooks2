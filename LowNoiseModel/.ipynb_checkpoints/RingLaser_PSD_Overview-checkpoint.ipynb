{
 "cells": [
  {
   "cell_type": "markdown",
   "metadata": {},
   "source": [
    "Show the daily PowerSpectralDensities over the course of a year"
   ]
  },
  {
   "cell_type": "markdown",
   "metadata": {},
   "source": [
    "## Load Libraries"
   ]
  },
  {
   "cell_type": "code",
   "execution_count": 45,
   "metadata": {
    "ExecuteTime": {
     "end_time": "2022-08-11T10:06:54.475545Z",
     "start_time": "2022-08-11T10:06:54.464226Z"
    }
   },
   "outputs": [],
   "source": [
    "from obspy import * \n",
    "from pandas import *\n",
    "from os import listdir\n",
    "\n",
    "import os\n",
    "import numpy as np\n",
    "import matplotlib.pyplot as plt\n",
    "\n",
    "import warnings\n",
    "warnings.filterwarnings('ignore')"
   ]
  },
  {
   "cell_type": "code",
   "execution_count": 46,
   "metadata": {
    "ExecuteTime": {
     "end_time": "2022-08-11T10:06:54.688621Z",
     "start_time": "2022-08-11T10:06:54.682208Z"
    }
   },
   "outputs": [],
   "source": [
    "host = os.uname()[1]\n",
    "if host == \"kilauea\":\n",
    "    homepath = \"/import/kilauea-data/\"\n",
    "    out_figs = \"/home/brotzer/Documents/ROMY/LowNoiseModel/figures/\"\n",
    "elif host == \"lighthouse\":\n",
    "    homepath = \"/home/andbro/kilauea-data/\"\n",
    "    out_figs = \"/home/andbro/Documents/ROMY/LowNoiseModel/figures/\""
   ]
  },
  {
   "cell_type": "code",
   "execution_count": 47,
   "metadata": {
    "ExecuteTime": {
     "end_time": "2022-08-11T10:06:54.841681Z",
     "start_time": "2022-08-11T10:06:54.832476Z"
    },
    "code_folding": [
     0
    ]
   },
   "outputs": [],
   "source": [
    "def __get_minimal_psd(psds):\n",
    "\n",
    "    from numpy import nanmin, array, nonzero, zeros\n",
    "    \n",
    "    min_psd = zeros(psds.shape[1])\n",
    "    \n",
    "    for f in range(psds.shape[1]):\n",
    "        a = psds[:,f]\n",
    "        min_psd[f] = nanmin(a[nonzero(a)])\n",
    "    \n",
    "    return min_psd"
   ]
  },
  {
   "cell_type": "markdown",
   "metadata": {
    "ExecuteTime": {
     "end_time": "2022-05-05T12:59:33.795301Z",
     "start_time": "2022-05-05T12:59:33.791293Z"
    }
   },
   "source": [
    "## Configurations"
   ]
  },
  {
   "cell_type": "code",
   "execution_count": 48,
   "metadata": {
    "ExecuteTime": {
     "end_time": "2022-08-11T10:06:58.570508Z",
     "start_time": "2022-08-11T10:06:58.562182Z"
    }
   },
   "outputs": [],
   "source": [
    "config = {}\n",
    "\n",
    "config['datadir'] = f\"{homepath}ROMY/RotationSpectra/data/\"\n",
    "\n",
    "config['outdir_figures'] = out_figs\n",
    "\n",
    "config['station'] = \"ROMY\" ## ROMY | RLAS | ROMY_ADR\n",
    "config['year'] = \"2019\"\n",
    "config['interval'] = 3600\n",
    "config['stats'] = \"medians\" ## minimals | medians\n",
    "\n",
    "\n",
    "config['project'] = f\"run_{config['year']}_{config['station']}-Z_{config['interval']}/\"\n",
    "config['datafile'] = f\"{str(config['project']).strip('/')}_daily_{config['stats']}.pkl\"\n",
    "\n",
    "config['columns'] = f\"{str(config['project']).strip('/')}_columns.pkl\"\n",
    "config['columns'] = f\"{str(config['project']).strip('/')}_frequency_axis.pkl\"\n",
    "\n",
    "# config['limit'] = 1e-21 # 1e-17\n",
    "if config['station'] == \"RLAS\":\n",
    "    config['threshold'] = 1e-22\n",
    "elif config['station'] == \"ROMY\":\n",
    "    config['threshold'] = 1.5e-18\n",
    "elif config['station'] == \"ROMY_ADR\":\n",
    "    config['threshold'] = 1.5e-18"
   ]
  },
  {
   "cell_type": "markdown",
   "metadata": {},
   "source": [
    "## Load Data"
   ]
  },
  {
   "cell_type": "code",
   "execution_count": 49,
   "metadata": {
    "ExecuteTime": {
     "end_time": "2022-08-11T10:07:10.065786Z",
     "start_time": "2022-08-11T10:07:09.698085Z"
    }
   },
   "outputs": [
    {
     "name": "stdout",
     "output_type": "stream",
     "text": [
      " -> loading: /home/andbro/kilauea-data/ROMY/RotationSpectra/data/run_2019_ROMY-Z_3600/run_2019_ROMY-Z_3600_daily_medians.pkl\n"
     ]
    },
    {
     "data": {
      "text/html": [
       "<div>\n",
       "<style scoped>\n",
       "    .dataframe tbody tr th:only-of-type {\n",
       "        vertical-align: middle;\n",
       "    }\n",
       "\n",
       "    .dataframe tbody tr th {\n",
       "        vertical-align: top;\n",
       "    }\n",
       "\n",
       "    .dataframe thead th {\n",
       "        text-align: right;\n",
       "    }\n",
       "</style>\n",
       "<table border=\"1\" class=\"dataframe\">\n",
       "  <thead>\n",
       "    <tr style=\"text-align: right;\">\n",
       "      <th></th>\n",
       "    </tr>\n",
       "  </thead>\n",
       "  <tbody>\n",
       "  </tbody>\n",
       "</table>\n",
       "</div>"
      ],
      "text/plain": [
       "Empty DataFrame\n",
       "Columns: []\n",
       "Index: []"
      ]
     },
     "execution_count": 49,
     "metadata": {},
     "output_type": "execute_result"
    }
   ],
   "source": [
    "frequencies = read_pickle(config['datadir']+config['project']+config['columns'])\n",
    "\n",
    "print(f\" -> loading: {config['datadir']+config['project']+config['datafile']}\")\n",
    "df = read_pickle(config['datadir']+config['project']+config['datafile'])\n",
    "df"
   ]
  },
  {
   "cell_type": "code",
   "execution_count": 41,
   "metadata": {
    "ExecuteTime": {
     "end_time": "2022-08-11T09:02:14.903398Z",
     "start_time": "2022-08-11T09:02:14.899374Z"
    },
    "code_folding": [
     0
    ]
   },
   "outputs": [],
   "source": [
    "def __get_array_from_dataframe(df):\n",
    "    \n",
    "    from pandas import to_numeric\n",
    "    \n",
    "    ## convert to list\n",
    "    psds = []\n",
    "    for col in np.array(df.columns):\n",
    "        \n",
    "        ## turn non-float series to float objects\n",
    "        df[col] = to_numeric(df[col], errors = 'coerce')\n",
    "\n",
    "        ## add to psds list\n",
    "        psds.append(np.array(df[col]))\n",
    "\n",
    "    return np.array(psds)"
   ]
  },
  {
   "cell_type": "code",
   "execution_count": 42,
   "metadata": {
    "ExecuteTime": {
     "end_time": "2022-08-11T09:02:15.100634Z",
     "start_time": "2022-08-11T09:02:15.092193Z"
    }
   },
   "outputs": [],
   "source": [
    "psds = __get_array_from_dataframe(df)\n",
    "columns = df.columns"
   ]
  },
  {
   "cell_type": "markdown",
   "metadata": {},
   "source": [
    "Check threshold to reject bad psds"
   ]
  },
  {
   "cell_type": "code",
   "execution_count": 24,
   "metadata": {
    "ExecuteTime": {
     "end_time": "2022-08-11T08:50:24.986362Z",
     "start_time": "2022-08-11T08:50:24.966239Z"
    }
   },
   "outputs": [
    {
     "name": "stdout",
     "output_type": "stream",
     "text": [
      "rejected spectra: 0\n"
     ]
    }
   ],
   "source": [
    "threshold = config['threshold']\n",
    "\n",
    "dates_all, arr = [], []\n",
    "count_rejected = 0\n",
    "\n",
    "for date in date_range(f\"{config['year']}0101\", f\"{config['year']}1231\"):\n",
    "    date_mod = str(date).split(\" \")[0].replace(\"-\",\"\")\n",
    "    dates_all.append(date_mod)\n",
    "    \n",
    "    if date_mod in df.columns: \n",
    "        if df[date_mod].mean() < threshold and df[date_mod].median() > 1e-30:\n",
    "            arr.append(df[date_mod])\n",
    "        else:\n",
    "            count_rejected += 1\n",
    "            arr.append(np.zeros(df.shape[0]))\n",
    "    else:\n",
    "        arr.append(np.zeros(df.shape[0]))\n",
    "        \n",
    "print(f\"rejected spectra: {count_rejected}\")\n",
    "\n",
    "arr = np.array(arr)\n",
    "dates_all = np.array(dates_all)\n",
    "\n",
    "# psds = arr"
   ]
  },
  {
   "cell_type": "code",
   "execution_count": 37,
   "metadata": {
    "ExecuteTime": {
     "end_time": "2022-08-11T09:01:45.235437Z",
     "start_time": "2022-08-11T09:01:45.220494Z"
    },
    "code_folding": [
     0
    ]
   },
   "outputs": [],
   "source": [
    "def __makeplot_colorlines(config, ff, psds, columns):\n",
    "\n",
    "    from numpy import isnan, median, mean, std, array, zeros, linspace\n",
    "    from scipy.stats import median_abs_deviation as mad\n",
    "    \n",
    "    psds_median, psds_mean, psds_std, psds_mad = [],[],[],[]\n",
    "    for fcross in range(psds.shape[1]):\n",
    "        data = psds[:,fcross]\n",
    "        ll = len(data[data[~isnan(data)]>0])\n",
    "        psds_median.append(median(data[data[~isnan(data)]>0]))\n",
    "#         psds_mean.append(mean(data[~isnan(data)]))\n",
    "#         psds_std.append(std(data[~isnan(data)]))\n",
    "#         psds_mad.append(mad(data[~isnan(data)]))\n",
    "        \n",
    "    psds_minimal = __get_minimal_psd(array(psds))\n",
    "#     psds_minimum = __get_minimum_psd(array(psds), ff)\n",
    "    \n",
    "        \n",
    "    ff = 1/ff\n",
    "        \n",
    "    ##____________________________\n",
    "    \n",
    "    fig, ax = plt.subplots(1,1, figsize=(15,10), sharey=False, sharex=True)\n",
    "\n",
    "    font = 14\n",
    "\n",
    "    N = psds.shape[0]\n",
    "    colors = plt.cm.rainbow(linspace(0, 1, N))\n",
    "\n",
    "\n",
    "    for n, psd in enumerate(psds):\n",
    "        ax.loglog(ff, psd, color=colors[n], alpha=0.7)\n",
    "\n",
    "\n",
    "    ## add scatter for colorbar object only\n",
    "    for n, psd in enumerate(psds):\n",
    "        p2 = ax.scatter(ff[0], psd[0], s=0., c=n, cmap='rainbow', vmin=0, vmax=N)\n",
    "\n",
    "    ax.loglog(ff, psds_median, 'black', zorder=3, alpha=0.9, label=\"median\")\n",
    "    ax.loglog(ff, psds_minimal, 'grey', zorder=3, alpha=1.0, label=\"minimal\")\n",
    "    \n",
    "    ax.legend()\n",
    "    \n",
    "    ax.set_xlabel(\"Period (s)\", fontsize=font)\n",
    "\n",
    "    ax.set_ylabel(r\"PSD (rad$^2$/s$^2$/$Hz)$\", fontsize=font)\n",
    "    \n",
    "    ax.grid(True, which=\"both\", ls=\"-\", alpha=0.5)\n",
    "    \n",
    "    if config['station'] == \"ROMY\":\n",
    "        ax.set_ylim(7e-23, 3e-18)\n",
    "    elif config['station'] == \"RLAS\":\n",
    "        ax.set_ylim(1e-28, 1e-21)\n",
    "\n",
    "    ax.set_xlim(1, 200)\n",
    "#     ax.set_xlim(min(ff), max(ff))\n",
    "#     ax.set_xlim(10**log10(config['frequency_limits'][0]), 10**log10(config['frequency_limits'][1]))\n",
    "    \n",
    "    ## set colorbar at bottom\n",
    "    cbar = fig.colorbar(p2, orientation='horizontal', ax=ax, aspect=50)\n",
    "\n",
    "    ## redefine ticks of colorbar\n",
    "#     new_ticks=[]\n",
    "#     for n, t in enumerate(cbar.get_ticks()):\n",
    "#         print(n)\n",
    "#         new_ticks.append(columns[int(t)])\n",
    "#     print(new_ticks)\n",
    "#     cbar.ax.set_xticklabels(columns)\n",
    "\n",
    "    ax.set_title(f\"{config['station']}  {config['year']}  [{config['stats']},  {ll}]\", fontsize=font-1)\n",
    "\n",
    "    plt.show();\n",
    "    \n",
    "    out = DataFrame()\n",
    "    out['frequencies'] = ff\n",
    "    out['psds_minimal'] = array(psds_minimal)\n",
    "    out['psds_median'] = array(psds_median)\n",
    "#     out['psds_mean'] = array(psds_mean)\n",
    "#     out['psds_std'] = array(psds_std)\n",
    "#     out['psds_mad'] = array(psds_mad)\n",
    "    \n",
    "    return fig, out"
   ]
  },
  {
   "cell_type": "code",
   "execution_count": 43,
   "metadata": {
    "ExecuteTime": {
     "end_time": "2022-08-11T09:02:18.155517Z",
     "start_time": "2022-08-11T09:02:17.826210Z"
    }
   },
   "outputs": [
    {
     "ename": "ValueError",
     "evalue": "x and y must have same first dimension, but have shapes (12800,) and (1279,)",
     "output_type": "error",
     "traceback": [
      "\u001b[0;31m---------------------------------------------------------------------------\u001b[0m",
      "\u001b[0;31mValueError\u001b[0m                                Traceback (most recent call last)",
      "\u001b[0;32m<ipython-input-43-8c9ee8317254>\u001b[0m in \u001b[0;36m<module>\u001b[0;34m\u001b[0m\n\u001b[0;32m----> 1\u001b[0;31m \u001b[0mfig\u001b[0m\u001b[0;34m,\u001b[0m \u001b[0mout\u001b[0m \u001b[0;34m=\u001b[0m \u001b[0m__makeplot_colorlines\u001b[0m\u001b[0;34m(\u001b[0m\u001b[0mconfig\u001b[0m\u001b[0;34m,\u001b[0m \u001b[0mfrequencies\u001b[0m\u001b[0;34m,\u001b[0m \u001b[0mpsds\u001b[0m\u001b[0;34m,\u001b[0m \u001b[0mcolumns\u001b[0m\u001b[0;34m)\u001b[0m\u001b[0;34m\u001b[0m\u001b[0;34m\u001b[0m\u001b[0m\n\u001b[0m\u001b[1;32m      2\u001b[0m \u001b[0;31m# fig, out = __makeplot_colorlines(config, frequencies, arr, columns)\u001b[0m\u001b[0;34m\u001b[0m\u001b[0;34m\u001b[0m\u001b[0;34m\u001b[0m\u001b[0m\n",
      "\u001b[0;32m<ipython-input-37-0d401b0ed5ec>\u001b[0m in \u001b[0;36m__makeplot_colorlines\u001b[0;34m(config, ff, psds, columns)\u001b[0m\n\u001b[1;32m     30\u001b[0m \u001b[0;34m\u001b[0m\u001b[0m\n\u001b[1;32m     31\u001b[0m     \u001b[0;32mfor\u001b[0m \u001b[0mn\u001b[0m\u001b[0;34m,\u001b[0m \u001b[0mpsd\u001b[0m \u001b[0;32min\u001b[0m \u001b[0menumerate\u001b[0m\u001b[0;34m(\u001b[0m\u001b[0mpsds\u001b[0m\u001b[0;34m)\u001b[0m\u001b[0;34m:\u001b[0m\u001b[0;34m\u001b[0m\u001b[0;34m\u001b[0m\u001b[0m\n\u001b[0;32m---> 32\u001b[0;31m         \u001b[0max\u001b[0m\u001b[0;34m.\u001b[0m\u001b[0mloglog\u001b[0m\u001b[0;34m(\u001b[0m\u001b[0mff\u001b[0m\u001b[0;34m,\u001b[0m \u001b[0mpsd\u001b[0m\u001b[0;34m,\u001b[0m \u001b[0mcolor\u001b[0m\u001b[0;34m=\u001b[0m\u001b[0mcolors\u001b[0m\u001b[0;34m[\u001b[0m\u001b[0mn\u001b[0m\u001b[0;34m]\u001b[0m\u001b[0;34m,\u001b[0m \u001b[0malpha\u001b[0m\u001b[0;34m=\u001b[0m\u001b[0;36m0.7\u001b[0m\u001b[0;34m)\u001b[0m\u001b[0;34m\u001b[0m\u001b[0;34m\u001b[0m\u001b[0m\n\u001b[0m\u001b[1;32m     33\u001b[0m \u001b[0;34m\u001b[0m\u001b[0m\n\u001b[1;32m     34\u001b[0m \u001b[0;34m\u001b[0m\u001b[0m\n",
      "\u001b[0;32m~/anaconda3/envs/obs/lib/python3.7/site-packages/matplotlib/axes/_axes.py\u001b[0m in \u001b[0;36mloglog\u001b[0;34m(self, *args, **kwargs)\u001b[0m\n\u001b[1;32m   1867\u001b[0m         \u001b[0mself\u001b[0m\u001b[0;34m.\u001b[0m\u001b[0mset_yscale\u001b[0m\u001b[0;34m(\u001b[0m\u001b[0;34m'log'\u001b[0m\u001b[0;34m,\u001b[0m \u001b[0;34m**\u001b[0m\u001b[0mdy\u001b[0m\u001b[0;34m)\u001b[0m\u001b[0;34m\u001b[0m\u001b[0;34m\u001b[0m\u001b[0m\n\u001b[1;32m   1868\u001b[0m         return self.plot(\n\u001b[0;32m-> 1869\u001b[0;31m             *args, **{k: v for k, v in kwargs.items() if k not in {*dx, *dy}})\n\u001b[0m\u001b[1;32m   1870\u001b[0m \u001b[0;34m\u001b[0m\u001b[0m\n\u001b[1;32m   1871\u001b[0m     \u001b[0;31m# @_preprocess_data() # let 'plot' do the unpacking..\u001b[0m\u001b[0;34m\u001b[0m\u001b[0;34m\u001b[0m\u001b[0;34m\u001b[0m\u001b[0m\n",
      "\u001b[0;32m~/anaconda3/envs/obs/lib/python3.7/site-packages/matplotlib/axes/_axes.py\u001b[0m in \u001b[0;36mplot\u001b[0;34m(self, scalex, scaley, data, *args, **kwargs)\u001b[0m\n\u001b[1;32m   1741\u001b[0m         \"\"\"\n\u001b[1;32m   1742\u001b[0m         \u001b[0mkwargs\u001b[0m \u001b[0;34m=\u001b[0m \u001b[0mcbook\u001b[0m\u001b[0;34m.\u001b[0m\u001b[0mnormalize_kwargs\u001b[0m\u001b[0;34m(\u001b[0m\u001b[0mkwargs\u001b[0m\u001b[0;34m,\u001b[0m \u001b[0mmlines\u001b[0m\u001b[0;34m.\u001b[0m\u001b[0mLine2D\u001b[0m\u001b[0;34m)\u001b[0m\u001b[0;34m\u001b[0m\u001b[0;34m\u001b[0m\u001b[0m\n\u001b[0;32m-> 1743\u001b[0;31m         \u001b[0mlines\u001b[0m \u001b[0;34m=\u001b[0m \u001b[0;34m[\u001b[0m\u001b[0;34m*\u001b[0m\u001b[0mself\u001b[0m\u001b[0;34m.\u001b[0m\u001b[0m_get_lines\u001b[0m\u001b[0;34m(\u001b[0m\u001b[0;34m*\u001b[0m\u001b[0margs\u001b[0m\u001b[0;34m,\u001b[0m \u001b[0mdata\u001b[0m\u001b[0;34m=\u001b[0m\u001b[0mdata\u001b[0m\u001b[0;34m,\u001b[0m \u001b[0;34m**\u001b[0m\u001b[0mkwargs\u001b[0m\u001b[0;34m)\u001b[0m\u001b[0;34m]\u001b[0m\u001b[0;34m\u001b[0m\u001b[0;34m\u001b[0m\u001b[0m\n\u001b[0m\u001b[1;32m   1744\u001b[0m         \u001b[0;32mfor\u001b[0m \u001b[0mline\u001b[0m \u001b[0;32min\u001b[0m \u001b[0mlines\u001b[0m\u001b[0;34m:\u001b[0m\u001b[0;34m\u001b[0m\u001b[0;34m\u001b[0m\u001b[0m\n\u001b[1;32m   1745\u001b[0m             \u001b[0mself\u001b[0m\u001b[0;34m.\u001b[0m\u001b[0madd_line\u001b[0m\u001b[0;34m(\u001b[0m\u001b[0mline\u001b[0m\u001b[0;34m)\u001b[0m\u001b[0;34m\u001b[0m\u001b[0;34m\u001b[0m\u001b[0m\n",
      "\u001b[0;32m~/anaconda3/envs/obs/lib/python3.7/site-packages/matplotlib/axes/_base.py\u001b[0m in \u001b[0;36m__call__\u001b[0;34m(self, data, *args, **kwargs)\u001b[0m\n\u001b[1;32m    271\u001b[0m                 \u001b[0mthis\u001b[0m \u001b[0;34m+=\u001b[0m \u001b[0margs\u001b[0m\u001b[0;34m[\u001b[0m\u001b[0;36m0\u001b[0m\u001b[0;34m]\u001b[0m\u001b[0;34m,\u001b[0m\u001b[0;34m\u001b[0m\u001b[0;34m\u001b[0m\u001b[0m\n\u001b[1;32m    272\u001b[0m                 \u001b[0margs\u001b[0m \u001b[0;34m=\u001b[0m \u001b[0margs\u001b[0m\u001b[0;34m[\u001b[0m\u001b[0;36m1\u001b[0m\u001b[0;34m:\u001b[0m\u001b[0;34m]\u001b[0m\u001b[0;34m\u001b[0m\u001b[0;34m\u001b[0m\u001b[0m\n\u001b[0;32m--> 273\u001b[0;31m             \u001b[0;32myield\u001b[0m \u001b[0;32mfrom\u001b[0m \u001b[0mself\u001b[0m\u001b[0;34m.\u001b[0m\u001b[0m_plot_args\u001b[0m\u001b[0;34m(\u001b[0m\u001b[0mthis\u001b[0m\u001b[0;34m,\u001b[0m \u001b[0mkwargs\u001b[0m\u001b[0;34m)\u001b[0m\u001b[0;34m\u001b[0m\u001b[0;34m\u001b[0m\u001b[0m\n\u001b[0m\u001b[1;32m    274\u001b[0m \u001b[0;34m\u001b[0m\u001b[0m\n\u001b[1;32m    275\u001b[0m     \u001b[0;32mdef\u001b[0m \u001b[0mget_next_color\u001b[0m\u001b[0;34m(\u001b[0m\u001b[0mself\u001b[0m\u001b[0;34m)\u001b[0m\u001b[0;34m:\u001b[0m\u001b[0;34m\u001b[0m\u001b[0;34m\u001b[0m\u001b[0m\n",
      "\u001b[0;32m~/anaconda3/envs/obs/lib/python3.7/site-packages/matplotlib/axes/_base.py\u001b[0m in \u001b[0;36m_plot_args\u001b[0;34m(self, tup, kwargs)\u001b[0m\n\u001b[1;32m    397\u001b[0m \u001b[0;34m\u001b[0m\u001b[0m\n\u001b[1;32m    398\u001b[0m         \u001b[0;32mif\u001b[0m \u001b[0mx\u001b[0m\u001b[0;34m.\u001b[0m\u001b[0mshape\u001b[0m\u001b[0;34m[\u001b[0m\u001b[0;36m0\u001b[0m\u001b[0;34m]\u001b[0m \u001b[0;34m!=\u001b[0m \u001b[0my\u001b[0m\u001b[0;34m.\u001b[0m\u001b[0mshape\u001b[0m\u001b[0;34m[\u001b[0m\u001b[0;36m0\u001b[0m\u001b[0;34m]\u001b[0m\u001b[0;34m:\u001b[0m\u001b[0;34m\u001b[0m\u001b[0;34m\u001b[0m\u001b[0m\n\u001b[0;32m--> 399\u001b[0;31m             raise ValueError(f\"x and y must have same first dimension, but \"\n\u001b[0m\u001b[1;32m    400\u001b[0m                              f\"have shapes {x.shape} and {y.shape}\")\n\u001b[1;32m    401\u001b[0m         \u001b[0;32mif\u001b[0m \u001b[0mx\u001b[0m\u001b[0;34m.\u001b[0m\u001b[0mndim\u001b[0m \u001b[0;34m>\u001b[0m \u001b[0;36m2\u001b[0m \u001b[0;32mor\u001b[0m \u001b[0my\u001b[0m\u001b[0;34m.\u001b[0m\u001b[0mndim\u001b[0m \u001b[0;34m>\u001b[0m \u001b[0;36m2\u001b[0m\u001b[0;34m:\u001b[0m\u001b[0;34m\u001b[0m\u001b[0;34m\u001b[0m\u001b[0m\n",
      "\u001b[0;31mValueError\u001b[0m: x and y must have same first dimension, but have shapes (12800,) and (1279,)"
     ]
    },
    {
     "data": {
      "image/png": "[encoded data removed]",
      "text/plain": [
       "<Figure size 1080x720 with 1 Axes>"
      ]
     },
     "metadata": {
      "needs_background": "light"
     },
     "output_type": "display_data"
    }
   ],
   "source": [
    "# fig, out = __makeplot_colorlines(config, frequencies, psds, columns)\n",
    "fig, out = __makeplot_colorlines(config, frequencies, arr, columns)"
   ]
  },
  {
   "cell_type": "code",
   "execution_count": 28,
   "metadata": {
    "ExecuteTime": {
     "end_time": "2022-08-11T08:50:41.168763Z",
     "start_time": "2022-08-11T08:50:41.165211Z"
    }
   },
   "outputs": [],
   "source": [
    "# fig.savefig(config['outdir_figures']+config['station']+config['year']+config['stats']+\"PSD_yearly_lines\"+\".png\", fmt=\"png\", bbox_inches=\"tight\", dpi=300, transparent=None)"
   ]
  },
  {
   "cell_type": "markdown",
   "metadata": {},
   "source": [
    "### Limit frequency range"
   ]
  },
  {
   "cell_type": "code",
   "execution_count": 32,
   "metadata": {
    "ExecuteTime": {
     "end_time": "2022-08-11T09:00:09.473978Z",
     "start_time": "2022-08-11T09:00:09.469559Z"
    }
   },
   "outputs": [],
   "source": [
    "frequencies = frequencies[3:2000]\n",
    "arr = arr[:,3:2000]"
   ]
  },
  {
   "cell_type": "code",
   "execution_count": 36,
   "metadata": {
    "ExecuteTime": {
     "end_time": "2022-08-11T09:00:55.631742Z",
     "start_time": "2022-08-11T09:00:55.619410Z"
    }
   },
   "outputs": [
    {
     "data": {
      "text/plain": [
       "((1994,), (3, 1279))"
      ]
     },
     "execution_count": 36,
     "metadata": {},
     "output_type": "execute_result"
    }
   ],
   "source": [
    "frequencies.shape, psds.shape"
   ]
  },
  {
   "cell_type": "markdown",
   "metadata": {},
   "source": [
    "## Plots"
   ]
  },
  {
   "cell_type": "code",
   "execution_count": 33,
   "metadata": {
    "ExecuteTime": {
     "end_time": "2022-08-11T09:00:10.867179Z",
     "start_time": "2022-08-11T09:00:10.731480Z"
    }
   },
   "outputs": [
    {
     "ename": "ValueError",
     "evalue": "zero-size array to reduction operation minimum which has no identity",
     "output_type": "error",
     "traceback": [
      "\u001b[0;31m---------------------------------------------------------------------------\u001b[0m",
      "\u001b[0;31mValueError\u001b[0m                                Traceback (most recent call last)",
      "\u001b[0;32m<ipython-input-33-0272b20a393a>\u001b[0m in \u001b[0;36m<module>\u001b[0;34m\u001b[0m\n\u001b[1;32m     17\u001b[0m \u001b[0;31m#                 vmin=np.min(np.min(arr[np.nonzero(arr)])),\u001b[0m\u001b[0;34m\u001b[0m\u001b[0;34m\u001b[0m\u001b[0;34m\u001b[0m\u001b[0m\n\u001b[1;32m     18\u001b[0m \u001b[0;31m#                 vmax=np.max(np.max(arr)),\u001b[0m\u001b[0;34m\u001b[0m\u001b[0;34m\u001b[0m\u001b[0;34m\u001b[0m\u001b[0m\n\u001b[0;32m---> 19\u001b[0;31m                 \u001b[0mvmin\u001b[0m\u001b[0;34m=\u001b[0m\u001b[0mnp\u001b[0m\u001b[0;34m.\u001b[0m\u001b[0mmin\u001b[0m\u001b[0;34m(\u001b[0m\u001b[0mnp\u001b[0m\u001b[0;34m.\u001b[0m\u001b[0mmin\u001b[0m\u001b[0;34m(\u001b[0m\u001b[0marr\u001b[0m\u001b[0;34m[\u001b[0m\u001b[0mnp\u001b[0m\u001b[0;34m.\u001b[0m\u001b[0mnonzero\u001b[0m\u001b[0;34m(\u001b[0m\u001b[0marr\u001b[0m\u001b[0;34m)\u001b[0m\u001b[0;34m]\u001b[0m\u001b[0;34m)\u001b[0m\u001b[0;34m)\u001b[0m\u001b[0;34m,\u001b[0m\u001b[0;34m\u001b[0m\u001b[0;34m\u001b[0m\u001b[0m\n\u001b[0m\u001b[1;32m     20\u001b[0m                 \u001b[0mvmax\u001b[0m\u001b[0;34m=\u001b[0m\u001b[0;36m5e-18\u001b[0m\u001b[0;34m,\u001b[0m\u001b[0;34m\u001b[0m\u001b[0;34m\u001b[0m\u001b[0m\n\u001b[1;32m     21\u001b[0m                 \u001b[0mnorm\u001b[0m\u001b[0;34m=\u001b[0m\u001b[0mcolors\u001b[0m\u001b[0;34m.\u001b[0m\u001b[0mLogNorm\u001b[0m\u001b[0;34m(\u001b[0m\u001b[0;34m)\u001b[0m\u001b[0;34m\u001b[0m\u001b[0;34m\u001b[0m\u001b[0m\n",
      "\u001b[0;32m<__array_function__ internals>\u001b[0m in \u001b[0;36mamin\u001b[0;34m(*args, **kwargs)\u001b[0m\n",
      "\u001b[0;32m~/anaconda3/envs/obs/lib/python3.7/site-packages/numpy/core/fromnumeric.py\u001b[0m in \u001b[0;36mamin\u001b[0;34m(a, axis, out, keepdims, initial, where)\u001b[0m\n\u001b[1;32m   2857\u001b[0m     \"\"\"\n\u001b[1;32m   2858\u001b[0m     return _wrapreduction(a, np.minimum, 'min', axis, None, out,\n\u001b[0;32m-> 2859\u001b[0;31m                           keepdims=keepdims, initial=initial, where=where)\n\u001b[0m\u001b[1;32m   2860\u001b[0m \u001b[0;34m\u001b[0m\u001b[0m\n\u001b[1;32m   2861\u001b[0m \u001b[0;34m\u001b[0m\u001b[0m\n",
      "\u001b[0;32m~/anaconda3/envs/obs/lib/python3.7/site-packages/numpy/core/fromnumeric.py\u001b[0m in \u001b[0;36m_wrapreduction\u001b[0;34m(obj, ufunc, method, axis, dtype, out, **kwargs)\u001b[0m\n\u001b[1;32m     85\u001b[0m                 \u001b[0;32mreturn\u001b[0m \u001b[0mreduction\u001b[0m\u001b[0;34m(\u001b[0m\u001b[0maxis\u001b[0m\u001b[0;34m=\u001b[0m\u001b[0maxis\u001b[0m\u001b[0;34m,\u001b[0m \u001b[0mout\u001b[0m\u001b[0;34m=\u001b[0m\u001b[0mout\u001b[0m\u001b[0;34m,\u001b[0m \u001b[0;34m**\u001b[0m\u001b[0mpasskwargs\u001b[0m\u001b[0;34m)\u001b[0m\u001b[0;34m\u001b[0m\u001b[0;34m\u001b[0m\u001b[0m\n\u001b[1;32m     86\u001b[0m \u001b[0;34m\u001b[0m\u001b[0m\n\u001b[0;32m---> 87\u001b[0;31m     \u001b[0;32mreturn\u001b[0m \u001b[0mufunc\u001b[0m\u001b[0;34m.\u001b[0m\u001b[0mreduce\u001b[0m\u001b[0;34m(\u001b[0m\u001b[0mobj\u001b[0m\u001b[0;34m,\u001b[0m \u001b[0maxis\u001b[0m\u001b[0;34m,\u001b[0m \u001b[0mdtype\u001b[0m\u001b[0;34m,\u001b[0m \u001b[0mout\u001b[0m\u001b[0;34m,\u001b[0m \u001b[0;34m**\u001b[0m\u001b[0mpasskwargs\u001b[0m\u001b[0;34m)\u001b[0m\u001b[0;34m\u001b[0m\u001b[0;34m\u001b[0m\u001b[0m\n\u001b[0m\u001b[1;32m     88\u001b[0m \u001b[0;34m\u001b[0m\u001b[0m\n\u001b[1;32m     89\u001b[0m \u001b[0;34m\u001b[0m\u001b[0m\n",
      "\u001b[0;31mValueError\u001b[0m: zero-size array to reduction operation minimum which has no identity"
     ]
    },
    {
     "data": {
      "image/png": "[encoded data removed]",
      "text/plain": [
       "<Figure size 1080x360 with 1 Axes>"
      ]
     },
     "metadata": {
      "needs_background": "light"
     },
     "output_type": "display_data"
    }
   ],
   "source": [
    "x_axis = range(arr.shape[0])\n",
    "y_axis = frequencies\n",
    "\n",
    "from matplotlib import colors\n",
    "\n",
    "font = 12 \n",
    "\n",
    "fig, ax  = plt.subplots(1,1, figsize=(15,5))\n",
    "\n",
    "cmap = plt.cm.get_cmap('magma')\n",
    "cmap.set_under(color='black')\n",
    "cmap.set_over(color='white')\n",
    "\n",
    "im = plt.pcolor(x_axis, y_axis, arr.T, \n",
    "                cmap=cmap,\n",
    "                alpha=0.99,\n",
    "#                 vmin=np.min(np.min(arr[np.nonzero(arr)])),\n",
    "#                 vmax=np.max(np.max(arr)),\n",
    "                vmin=np.min(np.min(arr[np.nonzero(arr)])),\n",
    "                vmax=5e-18,\n",
    "                norm=colors.LogNorm()\n",
    "                )\n",
    "\n",
    "\n",
    "ax.set_yscale(\"log\")\n",
    "\n",
    "ax.set_title(f\"{config['station']} PSD of {config['year']} [{config['stats']}]\", fontsize=font+1, pad=0.3)\n",
    "ax.set_xlabel(f\"Days of {config['year']}\", fontsize=font)\n",
    "ax.set_ylabel(\"Frequency (Hz)\", fontsize=font)\n",
    "\n",
    "# ax2 = ax.twinx()\n",
    "# ax2.set_xlabel(\"Period (s)\", fontsize=font, labelpad=5)\n",
    "# ax2.set_xticklabels(1/frequencies, fontsize=11)    \n",
    "# ax2.set_yscale(\"log\"\n",
    "\n",
    "ax.set_ylim(0.05, 1.0)\n",
    "\n",
    "caxes = fig.add_axes()\n",
    "cb = plt.colorbar(im, cax=caxes, alpha=1.0)\n",
    "cb.set_label(r\"Power Spectral Density ($\\frac{rad^2}{s^2 Hz}$)\", fontsize=font)\n",
    "\n",
    "plt.show();"
   ]
  },
  {
   "cell_type": "code",
   "execution_count": 16,
   "metadata": {
    "ExecuteTime": {
     "end_time": "2022-06-02T17:00:00.969122Z",
     "start_time": "2022-06-02T16:59:27.140930Z"
    }
   },
   "outputs": [],
   "source": [
    "# fig.savefig(config['outdir_figures']+config['station']+config['year']+config['stats']+\"PSD_yearly\"+\".png\", fmt=\"png\", bbox_inches=\"tight\", dpi=300, transparent=None)"
   ]
  },
  {
   "cell_type": "code",
   "execution_count": null,
   "metadata": {},
   "outputs": [],
   "source": []
  }
 ],
 "metadata": {
  "kernelspec": {
   "display_name": "Python 3",
   "language": "python",
   "name": "python3"
  },
  "language_info": {
   "codemirror_mode": {
    "name": "ipython",
    "version": 3
   },
   "file_extension": ".py",
   "mimetype": "text/x-python",
   "name": "python",
   "nbconvert_exporter": "python",
   "pygments_lexer": "ipython3",
   "version": "3.7.8"
  },
  "latex_envs": {
   "LaTeX_envs_menu_present": true,
   "autoclose": false,
   "autocomplete": true,
   "bibliofile": "biblio.bib",
   "cite_by": "apalike",
   "current_citInitial": 1,
   "eqLabelWithNumbers": true,
   "eqNumInitial": 1,
   "hotkeys": {
    "equation": "Ctrl-E",
    "itemize": "Ctrl-I"
   },
   "labels_anchors": false,
   "latex_user_defs": false,
   "report_style_numbering": false,
   "user_envs_cfg": false
  },
  "toc": {
   "base_numbering": 1,
   "nav_menu": {},
   "number_sections": true,
   "sideBar": true,
   "skip_h1_title": false,
   "title_cell": "Table of Contents",
   "title_sidebar": "Contents",
   "toc_cell": false,
   "toc_position": {},
   "toc_section_display": true,
   "toc_window_display": false
  }
 },
 "nbformat": 4,
 "nbformat_minor": 4
}
