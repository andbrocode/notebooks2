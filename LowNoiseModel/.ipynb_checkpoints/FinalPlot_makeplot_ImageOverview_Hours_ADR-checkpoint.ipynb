{
 "cells": [
  {
   "cell_type": "markdown",
   "id": "eda030d3",
   "metadata": {},
   "source": [
    "# Analyse Rotation Spectra - Colorlines Overview Hours\n"
   ]
  },
  {
   "cell_type": "markdown",
   "id": "protected-presentation",
   "metadata": {},
   "source": [
    "## Load Libraries"
   ]
  },
  {
   "cell_type": "code",
   "execution_count": 1,
   "id": "behind-arrangement",
   "metadata": {
    "ExecuteTime": {
     "end_time": "2023-06-20T12:31:59.329933Z",
     "start_time": "2023-06-20T12:31:58.232811Z"
    }
   },
   "outputs": [],
   "source": [
    "from andbro__querrySeismoData import __querrySeismoData\n",
    "from andbro__savefig import __savefig\n",
    "\n",
    "from obspy import UTCDateTime\n",
    "from numpy import log10, zeros, pi, append, linspace, mean, median, array, where, transpose, shape, histogram, arange\n",
    "from numpy import logspace, linspace, log, log10, isinf, ones, nan, count_nonzero, sqrt, isnan\n",
    "from pandas import DataFrame, concat, Series, date_range, read_csv, read_pickle\n",
    "from tqdm import tqdm_notebook\n",
    "from pathlib import Path\n",
    "from scipy.stats import median_absolute_deviation as mad\n",
    "from scipy.signal import welch\n",
    "\n",
    "import os\n",
    "import pickle\n",
    "import matplotlib.pyplot as plt"
   ]
  },
  {
   "cell_type": "code",
   "execution_count": 2,
   "id": "cfe860f0",
   "metadata": {
    "ExecuteTime": {
     "end_time": "2023-06-20T12:31:59.334932Z",
     "start_time": "2023-06-20T12:31:59.331863Z"
    }
   },
   "outputs": [],
   "source": [
    "if os.uname().nodename == \"lighthouse\":\n",
    "    root_path = \"/home/andbro/kilauea-data/\"\n",
    "elif os.uname().nodename == \"kilauea\":\n",
    "    root_path = \"/import/kilauea-data/\""
   ]
  },
  {
   "cell_type": "code",
   "execution_count": 3,
   "id": "e4858b93",
   "metadata": {
    "ExecuteTime": {
     "end_time": "2023-06-20T12:31:59.342538Z",
     "start_time": "2023-06-20T12:31:59.337025Z"
    },
    "code_folding": [
     0
    ]
   },
   "outputs": [],
   "source": [
    "def __get_minimal_psd(psds):\n",
    "\n",
    "    from numpy import nanmin, array, nonzero\n",
    "    \n",
    "    min_psd = zeros(psds.shape[1])\n",
    "    \n",
    "    for f in range(psds.shape[1]):\n",
    "        a = psds[:,f]\n",
    "        min_psd[f] = nanmin(a[nonzero(a)])\n",
    "    \n",
    "    return min_psd"
   ]
  },
  {
   "cell_type": "code",
   "execution_count": 4,
   "id": "d377053c",
   "metadata": {
    "ExecuteTime": {
     "end_time": "2023-06-20T12:31:59.350408Z",
     "start_time": "2023-06-20T12:31:59.345336Z"
    },
    "code_folding": [
     0
    ]
   },
   "outputs": [],
   "source": [
    "def __get_median_psd(psds):\n",
    "\n",
    "    from numpy import median, zeros, isnan\n",
    "\n",
    "    med_psd = zeros(psds.shape[1])\n",
    "\n",
    "    for f in range(psds.shape[1]):\n",
    "        a = psds[:,f]\n",
    "        med_psd[f] = median(a[~isnan(a)])\n",
    "\n",
    "    return med_psd"
   ]
  },
  {
   "cell_type": "code",
   "execution_count": 5,
   "id": "8faa83d9",
   "metadata": {
    "ExecuteTime": {
     "end_time": "2023-06-20T12:31:59.355749Z",
     "start_time": "2023-06-20T12:31:59.352088Z"
    },
    "code_folding": [
     0
    ]
   },
   "outputs": [],
   "source": [
    "def __get_mean_psd(psds):\n",
    "\n",
    "    from numpy import mean, zeros, isnan\n",
    "\n",
    "    mean_psd = zeros(psds.shape[1])\n",
    "\n",
    "    for f in range(psds.shape[1]):\n",
    "        a = psds[:,f]\n",
    "        mean_psd[f] = mean(a[~isnan(a)])\n",
    "\n",
    "    return mean_psd"
   ]
  },
  {
   "cell_type": "code",
   "execution_count": 6,
   "id": "af6a3772",
   "metadata": {
    "ExecuteTime": {
     "end_time": "2023-06-20T12:31:59.361209Z",
     "start_time": "2023-06-20T12:31:59.357384Z"
    },
    "code_folding": [
     0
    ]
   },
   "outputs": [],
   "source": [
    "def __get_minimum_psd(psds):\n",
    "            \n",
    "    for i, psd in enumerate(psds):\n",
    "        if i == 0: \n",
    "            lowest_value = psd.sum()\n",
    "            idx = 0\n",
    "\n",
    "        value = psd.sum() \n",
    "        \n",
    "        if value < lowest_value and value != 0:\n",
    "            lowest_value = value\n",
    "            idx = i   \n",
    "    \n",
    "    return psds[idx]"
   ]
  },
  {
   "cell_type": "code",
   "execution_count": 7,
   "id": "fe2e4201",
   "metadata": {
    "ExecuteTime": {
     "end_time": "2023-06-20T12:31:59.376437Z",
     "start_time": "2023-06-20T12:31:59.363519Z"
    },
    "code_folding": [
     0
    ]
   },
   "outputs": [],
   "source": [
    "def __load_psds(file, config):\n",
    "\n",
    "    ## get data to dataframe and transpose and reindex\n",
    "    df = read_csv(file, index_col=False)\n",
    "    df = df.transpose()\n",
    "    df.reset_index(inplace=True)\n",
    "    # df.dtypes\n",
    "    # df.mean()\n",
    "\n",
    "    ## set column names\n",
    "    try:\n",
    "        columns = pickle.load(open(f\"{config['inpath']}{config['inname']}_columns.pick\", 'rb'))\n",
    "        df.columns = [column.replace(\"-\",\"\") for column in columns]\n",
    "    except:\n",
    "        columns = arange(0,df.shape[1]).astype(str)\n",
    "        df.columns = columns\n",
    "        print(\" -> Failed to assign column names! Assigned numbers instead!\")\n",
    "\n",
    "    ## check for column dublicates\n",
    "    if len(df.columns.unique()) != len(df.columns):\n",
    "        print(f\" -> removing {len(df.columns)-len(df.columns.unique())} column dublicate(s)!\")\n",
    "        df = df.loc[:,~df.columns.duplicated()]\n",
    "\n",
    "    count=0\n",
    "    dates_expected = date_range(config['date1'].date, config['date2'].date, periods=int((config['date2']-config['date1'])/86400)+1)\n",
    "    for dex in dates_expected:\n",
    "        dex=str(dex.isoformat()[:10]).replace(\"-\",\"\")\n",
    "        if not dex in df.columns:\n",
    "            count+=1\n",
    "    print(f\" -> missing {count} days\")\n",
    "        \n",
    "    print(f\" -> total of {df.shape[0]} psds\")\n",
    "        \n",
    "#     ## convert to list\n",
    "#     psds = []\n",
    "#     for col in array(df.columns):\n",
    "        \n",
    "#         ## turn non-float series to float objects\n",
    "#         df[col] = pd.to_numeric(df[col], errors = 'coerce')\n",
    "\n",
    "#         ## add to psds list\n",
    "#         psds.append(array(df[col]))\n",
    "        \n",
    "    return df"
   ]
  },
  {
   "cell_type": "code",
   "execution_count": 8,
   "id": "d4ffd698",
   "metadata": {
    "ExecuteTime": {
     "end_time": "2023-06-20T12:31:59.382343Z",
     "start_time": "2023-06-20T12:31:59.378719Z"
    },
    "code_folding": [
     0
    ]
   },
   "outputs": [],
   "source": [
    "def __get_array_from_dataframe(df):\n",
    "    \n",
    "    from pandas import to_numeric\n",
    "    \n",
    "    ## convert to list\n",
    "    psds = []\n",
    "    for col in array(df.columns):\n",
    "        \n",
    "        ## turn non-float series to float objects\n",
    "        df[col] = to_numeric(df[col], errors = 'coerce')\n",
    "\n",
    "        ## add to psds list\n",
    "        psds.append(array(df[col]))\n",
    "\n",
    "    return array(psds)"
   ]
  },
  {
   "cell_type": "code",
   "execution_count": 9,
   "id": "f25d3db4",
   "metadata": {
    "ExecuteTime": {
     "end_time": "2023-06-20T12:31:59.386900Z",
     "start_time": "2023-06-20T12:31:59.383665Z"
    },
    "code_folding": [
     0
    ]
   },
   "outputs": [],
   "source": [
    "def __get_percentiles(arr):\n",
    "    \n",
    "    from numpy import zeros, nanpercentile\n",
    "    \n",
    "    percentiles_lower = zeros(shape(arr)[1])\n",
    "    percentiles_upper = zeros(shape(arr)[1])\n",
    "\n",
    "    for kk in range(shape(arr)[1]):\n",
    "        out = nanpercentile(arr[:, kk],  [2.5 ,97.5])\n",
    "        percentiles_upper[kk] = out[1]\n",
    "        percentiles_lower[kk] = out[0]\n",
    "        \n",
    "    return percentiles_lower, percentiles_upper"
   ]
  },
  {
   "cell_type": "code",
   "execution_count": 10,
   "id": "21d2d997",
   "metadata": {
    "ExecuteTime": {
     "end_time": "2023-06-20T12:31:59.394008Z",
     "start_time": "2023-06-20T12:31:59.391140Z"
    },
    "code_folding": [
     0
    ]
   },
   "outputs": [],
   "source": [
    "# def __remove_noisy_psds(df, threshold_mean=1e-13):\n",
    "\n",
    "#     from numpy import delete\n",
    "    \n",
    "#     l1 = len(df.columns)\n",
    "#     for col in df.columns:\n",
    "# #         print(col, type(col))\n",
    "#         if df[col].astype(float).mean() > threshold_mean:\n",
    "#             df = df.drop(columns=col)\n",
    "#     l2 = len(df.columns)\n",
    "#     print(f\" -> removed {l1-l2} columns due to mean thresholds!\")\n",
    "#     print(f\" -> {l2} psds remain\")\n",
    "    \n",
    "#     return df"
   ]
  },
  {
   "cell_type": "code",
   "execution_count": 11,
   "id": "b86aa31f",
   "metadata": {
    "ExecuteTime": {
     "end_time": "2023-06-20T12:31:59.399904Z",
     "start_time": "2023-06-20T12:31:59.396483Z"
    }
   },
   "outputs": [],
   "source": [
    "# os.listdir( f\"{root_path}ROMY/RotationSpectra/data/\" )"
   ]
  },
  {
   "cell_type": "markdown",
   "id": "subject-expression",
   "metadata": {},
   "source": [
    "## Configurations"
   ]
  },
  {
   "cell_type": "code",
   "execution_count": 12,
   "id": "e89d22a7",
   "metadata": {
    "ExecuteTime": {
     "end_time": "2023-06-20T12:31:59.823520Z",
     "start_time": "2023-06-20T12:31:59.402318Z"
    }
   },
   "outputs": [],
   "source": [
    "## _________________________________________________________\n",
    "\n",
    "name = \"GRF\"\n",
    "inname = \"run_2019_RGRF-Z_3600_GRF\"\n",
    "threshold = 1e-19\n",
    "period_limits = 2, 183\n",
    "\n",
    "\n",
    "# name = \"PFO\"\n",
    "# inname = \"run_2019_RPFO-Z_3600\"\n",
    "# threshold = 8e-20\n",
    "# period_limits = 1, 60\n",
    "\n",
    "\n",
    "# name = \"RMY_inner\"\n",
    "# # inname = \"run_2019_ROMY_ADR-Z_3600_inner\" ## OLD\n",
    "# inname = \"run_2019_RRMY-Z_3600_inner\"\n",
    "# threshold = 1e-17\n",
    "# period_limits = 1, 40\n",
    "\n",
    "\n",
    "# name = \"RMY_optimal\"\n",
    "# # inname = \"run_2019_ROMY_ADR-Z_3600_optimal\" ## OLD\n",
    "# inname = \"run_2019_RRMY-Z_3600_optimal\"\n",
    "# threshold = 1e-17\n",
    "# period_limits = 1, 60\n",
    "\n",
    "\n",
    "\n",
    "## _________________________________________________________\n",
    "\n",
    "\n",
    "inpath = f\"{root_path}ROMY/RotationSpectra/data/{inname}/\"\n",
    "\n",
    "# config = pickle.load(open(inpath+inname+\"_config.pick\", 'rb'))\n",
    "config = pickle.load(open(inpath+inname+\"_config.pkl\", 'rb'))\n",
    "\n",
    "config['inname'] = inname\n",
    "config['inpath'] = inpath\n",
    "config['period_limits'] = period_limits\n",
    "config['thres'] = threshold\n",
    "\n",
    "config['outpath_figures'] = f\"{root_path}LNM/figures_final/\"\n",
    "\n",
    "config['rlnm_model_path'] = f\"{root_path}LNM/data/MODELS/\"\n",
    "\n",
    "config['frequency_limits'] = [1/config['period_limits'][1], 1/config['period_limits'][0]]\n",
    "\n",
    "## load frequencies\n",
    "# ff_Z = pickle.load(open(f\"{config['inpath'].replace('Z','Z')}{config['inname'].replace('Z','Z')}_frequency_axis.pkl\", 'rb'))\n",
    "# ff_N = pickle.load(open(f\"{config['inpath'].replace('Z','N')}{config['inname'].replace('Z','N')}_frequency_axis.pkl\", 'rb'))\n",
    "# ff_E = pickle.load(open(f\"{config['inpath'].replace('Z','E')}{config['inname'].replace('Z','E')}_frequency_axis.pkl\", 'rb'))"
   ]
  },
  {
   "cell_type": "markdown",
   "id": "natural-beginning",
   "metadata": {},
   "source": [
    "## Load as Arrays"
   ]
  },
  {
   "cell_type": "code",
   "execution_count": 13,
   "id": "2d64a313",
   "metadata": {
    "ExecuteTime": {
     "end_time": "2023-06-20T12:31:59.833824Z",
     "start_time": "2023-06-20T12:31:59.825809Z"
    },
    "code_folding": [
     0
    ]
   },
   "outputs": [],
   "source": [
    "def __load_data_files(config, path):\n",
    "    \n",
    "    from tqdm.notebook import tqdm\n",
    "    from numpy import array\n",
    "    \n",
    "    print(path)\n",
    "    \n",
    "    config['files'] = [file for file in os.listdir(path) if \"hourly\" in file]\n",
    "    config['files'].sort()\n",
    "\n",
    "    psds_all, times_nom, times = [], arange(0, 24*365, 1), []\n",
    "    count, missing  = 0, 0\n",
    "    \n",
    "    for file in tqdm(config['files']):\n",
    "        date = file.split(\"_\")[-2]\n",
    "        psds_hourly = read_pickle(path+file)\n",
    "\n",
    "        for h in range(24):\n",
    "            try:\n",
    "                psds_all.append(psds_hourly[h])\n",
    "                times.append(times_nom[count])\n",
    "            except:\n",
    "                missing += 1\n",
    "            count += 1\n",
    "            \n",
    "    print(f\" -> missing: {missing}\")\n",
    "    return array(psds_all), times"
   ]
  },
  {
   "cell_type": "code",
   "execution_count": 14,
   "id": "6613e489",
   "metadata": {
    "ExecuteTime": {
     "end_time": "2023-06-20T12:50:27.377261Z",
     "start_time": "2023-06-20T12:31:59.835169Z"
    },
    "code_folding": []
   },
   "outputs": [
    {
     "name": "stdout",
     "output_type": "stream",
     "text": [
      "/home/andbro/kilauea-data/ROMY/RotationSpectra/data/run_2019_RGRF-Z_3600_GRF/\n"
     ]
    },
    {
     "data": {
      "application/vnd.jupyter.widget-view+json": {
       "model_id": "68bd6f814efd4c6780f6cbdc0be121d8",
       "version_major": 2,
       "version_minor": 0
      },
      "text/plain": [
       "HBox(children=(HTML(value=''), FloatProgress(value=0.0, max=365.0), HTML(value='')))"
      ]
     },
     "metadata": {},
     "output_type": "display_data"
    },
    {
     "name": "stdout",
     "output_type": "stream",
     "text": [
      "\n",
      " -> missing: 0\n"
     ]
    }
   ],
   "source": [
    "ADR_Z, times_Z = __load_data_files(config, config['inpath'].replace(\"Z\",\"Z\"))\n",
    "\n",
    "ff_Z = pickle.load(open(f\"{config['inpath'].replace('Z','Z')}{config['inname'].replace('Z','Z')}_frequency_axis.pkl\", 'rb'))\n",
    "times_Z = pickle.load(open(f\"{config['inpath'].replace('Z','Z')}{config['inname'].replace('Z','Z')}_times_axis.pkl\", 'rb'))"
   ]
  },
  {
   "cell_type": "code",
   "execution_count": 15,
   "id": "7577ac38",
   "metadata": {
    "ExecuteTime": {
     "end_time": "2023-06-20T13:05:03.646615Z",
     "start_time": "2023-06-20T12:50:27.379245Z"
    },
    "code_folding": []
   },
   "outputs": [
    {
     "name": "stdout",
     "output_type": "stream",
     "text": [
      "/home/andbro/kilauea-data/ROMY/RotationSpectra/data/run_2019_RGRF-N_3600_GRF/\n"
     ]
    },
    {
     "data": {
      "application/vnd.jupyter.widget-view+json": {
       "model_id": "fd1fc47e4f1442e0bae95d0b0c57942f",
       "version_major": 2,
       "version_minor": 0
      },
      "text/plain": [
       "HBox(children=(HTML(value=''), FloatProgress(value=0.0, max=365.0), HTML(value='')))"
      ]
     },
     "metadata": {},
     "output_type": "display_data"
    },
    {
     "name": "stdout",
     "output_type": "stream",
     "text": [
      "\n"
     ]
    },
    {
     "ename": "KeyboardInterrupt",
     "evalue": "",
     "output_type": "error",
     "traceback": [
      "\u001b[0;31m---------------------------------------------------------------------------\u001b[0m",
      "\u001b[0;31mKeyboardInterrupt\u001b[0m                         Traceback (most recent call last)",
      "\u001b[0;32m/tmp/ipykernel_670420/2289162160.py\u001b[0m in \u001b[0;36m<module>\u001b[0;34m\u001b[0m\n\u001b[0;32m----> 1\u001b[0;31m \u001b[0mADR_N\u001b[0m\u001b[0;34m,\u001b[0m \u001b[0mtimes_N\u001b[0m \u001b[0;34m=\u001b[0m \u001b[0m__load_data_files\u001b[0m\u001b[0;34m(\u001b[0m\u001b[0mconfig\u001b[0m\u001b[0;34m,\u001b[0m \u001b[0mconfig\u001b[0m\u001b[0;34m[\u001b[0m\u001b[0;34m'inpath'\u001b[0m\u001b[0;34m]\u001b[0m\u001b[0;34m.\u001b[0m\u001b[0mreplace\u001b[0m\u001b[0;34m(\u001b[0m\u001b[0;34m\"Z\"\u001b[0m\u001b[0;34m,\u001b[0m\u001b[0;34m\"N\"\u001b[0m\u001b[0;34m)\u001b[0m\u001b[0;34m)\u001b[0m\u001b[0;34m\u001b[0m\u001b[0;34m\u001b[0m\u001b[0m\n\u001b[0m\u001b[1;32m      2\u001b[0m \u001b[0;34m\u001b[0m\u001b[0m\n\u001b[1;32m      3\u001b[0m \u001b[0mff_N\u001b[0m \u001b[0;34m=\u001b[0m \u001b[0mpickle\u001b[0m\u001b[0;34m.\u001b[0m\u001b[0mload\u001b[0m\u001b[0;34m(\u001b[0m\u001b[0mopen\u001b[0m\u001b[0;34m(\u001b[0m\u001b[0;34mf\"{config['inpath'].replace('Z','N')}{config['inname'].replace('Z','N')}_frequency_axis.pkl\"\u001b[0m\u001b[0;34m,\u001b[0m \u001b[0;34m'rb'\u001b[0m\u001b[0;34m)\u001b[0m\u001b[0;34m)\u001b[0m\u001b[0;34m\u001b[0m\u001b[0;34m\u001b[0m\u001b[0m\n\u001b[1;32m      4\u001b[0m \u001b[0mtimes_N\u001b[0m \u001b[0;34m=\u001b[0m \u001b[0mpickle\u001b[0m\u001b[0;34m.\u001b[0m\u001b[0mload\u001b[0m\u001b[0;34m(\u001b[0m\u001b[0mopen\u001b[0m\u001b[0;34m(\u001b[0m\u001b[0;34mf\"{config['inpath'].replace('Z','N')}{config['inname'].replace('Z','N')}_times_axis.pkl\"\u001b[0m\u001b[0;34m,\u001b[0m \u001b[0;34m'rb'\u001b[0m\u001b[0;34m)\u001b[0m\u001b[0;34m)\u001b[0m\u001b[0;34m\u001b[0m\u001b[0;34m\u001b[0m\u001b[0m\n",
      "\u001b[0;32m/tmp/ipykernel_670420/1963613185.py\u001b[0m in \u001b[0;36m__load_data_files\u001b[0;34m(config, path)\u001b[0m\n\u001b[1;32m     14\u001b[0m     \u001b[0;32mfor\u001b[0m \u001b[0mfile\u001b[0m \u001b[0;32min\u001b[0m \u001b[0mtqdm\u001b[0m\u001b[0;34m(\u001b[0m\u001b[0mconfig\u001b[0m\u001b[0;34m[\u001b[0m\u001b[0;34m'files'\u001b[0m\u001b[0;34m]\u001b[0m\u001b[0;34m)\u001b[0m\u001b[0;34m:\u001b[0m\u001b[0;34m\u001b[0m\u001b[0;34m\u001b[0m\u001b[0m\n\u001b[1;32m     15\u001b[0m         \u001b[0mdate\u001b[0m \u001b[0;34m=\u001b[0m \u001b[0mfile\u001b[0m\u001b[0;34m.\u001b[0m\u001b[0msplit\u001b[0m\u001b[0;34m(\u001b[0m\u001b[0;34m\"_\"\u001b[0m\u001b[0;34m)\u001b[0m\u001b[0;34m[\u001b[0m\u001b[0;34m-\u001b[0m\u001b[0;36m2\u001b[0m\u001b[0;34m]\u001b[0m\u001b[0;34m\u001b[0m\u001b[0;34m\u001b[0m\u001b[0m\n\u001b[0;32m---> 16\u001b[0;31m         \u001b[0mpsds_hourly\u001b[0m \u001b[0;34m=\u001b[0m \u001b[0mread_pickle\u001b[0m\u001b[0;34m(\u001b[0m\u001b[0mpath\u001b[0m\u001b[0;34m+\u001b[0m\u001b[0mfile\u001b[0m\u001b[0;34m)\u001b[0m\u001b[0;34m\u001b[0m\u001b[0;34m\u001b[0m\u001b[0m\n\u001b[0m\u001b[1;32m     17\u001b[0m \u001b[0;34m\u001b[0m\u001b[0m\n\u001b[1;32m     18\u001b[0m         \u001b[0;32mfor\u001b[0m \u001b[0mh\u001b[0m \u001b[0;32min\u001b[0m \u001b[0mrange\u001b[0m\u001b[0;34m(\u001b[0m\u001b[0;36m24\u001b[0m\u001b[0;34m)\u001b[0m\u001b[0;34m:\u001b[0m\u001b[0;34m\u001b[0m\u001b[0;34m\u001b[0m\u001b[0m\n",
      "\u001b[0;32m~/anaconda3/envs/obs/lib/python3.7/site-packages/pandas/io/pickle.py\u001b[0m in \u001b[0;36mread_pickle\u001b[0;34m(filepath_or_buffer, compression, storage_options)\u001b[0m\n\u001b[1;32m    215\u001b[0m                     \u001b[0;31m# RawIOBase, BufferedIOBase, TextIOBase, TextIOWrapper, mmap]\";\u001b[0m\u001b[0;34m\u001b[0m\u001b[0;34m\u001b[0m\u001b[0;34m\u001b[0m\u001b[0m\n\u001b[1;32m    216\u001b[0m                     \u001b[0;31m# expected \"IO[bytes]\"\u001b[0m\u001b[0;34m\u001b[0m\u001b[0;34m\u001b[0m\u001b[0;34m\u001b[0m\u001b[0m\n\u001b[0;32m--> 217\u001b[0;31m                     \u001b[0;32mreturn\u001b[0m \u001b[0mpickle\u001b[0m\u001b[0;34m.\u001b[0m\u001b[0mload\u001b[0m\u001b[0;34m(\u001b[0m\u001b[0mhandles\u001b[0m\u001b[0;34m.\u001b[0m\u001b[0mhandle\u001b[0m\u001b[0;34m)\u001b[0m  \u001b[0;31m# type: ignore[arg-type]\u001b[0m\u001b[0;34m\u001b[0m\u001b[0;34m\u001b[0m\u001b[0m\n\u001b[0m\u001b[1;32m    218\u001b[0m             \u001b[0;32mexcept\u001b[0m \u001b[0mexcs_to_catch\u001b[0m\u001b[0;34m:\u001b[0m\u001b[0;34m\u001b[0m\u001b[0;34m\u001b[0m\u001b[0m\n\u001b[1;32m    219\u001b[0m                 \u001b[0;31m# e.g.\u001b[0m\u001b[0;34m\u001b[0m\u001b[0;34m\u001b[0m\u001b[0;34m\u001b[0m\u001b[0m\n",
      "\u001b[0;31mKeyboardInterrupt\u001b[0m: "
     ]
    }
   ],
   "source": [
    "ADR_N, times_N = __load_data_files(config, config['inpath'].replace(\"Z\",\"N\"))\n",
    "\n",
    "ff_N = pickle.load(open(f\"{config['inpath'].replace('Z','N')}{config['inname'].replace('Z','N')}_frequency_axis.pkl\", 'rb'))\n",
    "times_N = pickle.load(open(f\"{config['inpath'].replace('Z','N')}{config['inname'].replace('Z','N')}_times_axis.pkl\", 'rb'))"
   ]
  },
  {
   "cell_type": "code",
   "execution_count": null,
   "id": "35510bc2",
   "metadata": {
    "ExecuteTime": {
     "end_time": "2023-06-20T13:05:03.655639Z",
     "start_time": "2023-06-20T13:05:03.655611Z"
    },
    "code_folding": []
   },
   "outputs": [],
   "source": [
    "ADR_E, times_E = __load_data_files(config, config['inpath'].replace(\"Z\",\"E\"))\n",
    "\n",
    "ff_E = pickle.load(open(f\"{config['inpath'].replace('Z','E')}{config['inname'].replace('Z','E')}_frequency_axis.pkl\", 'rb'))\n",
    "times_E = pickle.load(open(f\"{config['inpath'].replace('Z','E')}{config['inname'].replace('Z','E')}_times_axis.pkl\", 'rb'))"
   ]
  },
  {
   "cell_type": "markdown",
   "id": "c153a82e",
   "metadata": {},
   "source": [
    "### Cut Frequency Range"
   ]
  },
  {
   "cell_type": "code",
   "execution_count": null,
   "id": "a025d8ab",
   "metadata": {
    "ExecuteTime": {
     "end_time": "2023-06-20T13:05:03.656646Z",
     "start_time": "2023-06-20T13:05:03.656627Z"
    },
    "code_folding": [
     0
    ]
   },
   "outputs": [],
   "source": [
    "def __cut_frequencies_array(arr, freqs, fmin, fmax):\n",
    "\n",
    "    ind = []\n",
    "    for i, f in enumerate(freqs):\n",
    "        if f >= fmin and f <= fmax:\n",
    "            ind.append(i)\n",
    "\n",
    "    ff = freqs[ind[0]:ind[-1]]\n",
    "    pp = arr[:,ind[0]:ind[-1]]\n",
    "    \n",
    "    return pp, ff "
   ]
  },
  {
   "cell_type": "code",
   "execution_count": null,
   "id": "5ba38476",
   "metadata": {
    "ExecuteTime": {
     "end_time": "2023-06-20T13:05:03.657769Z",
     "start_time": "2023-06-20T13:05:03.657749Z"
    }
   },
   "outputs": [],
   "source": [
    "ADR_N, ff_N = __cut_frequencies_array(ADR_N, ff_N, config['frequency_limits'][0], config['frequency_limits'][1])\n",
    "ADR_E, ff_E = __cut_frequencies_array(ADR_E, ff_E, config['frequency_limits'][0], config['frequency_limits'][1])\n",
    "ADR_Z, ff_Z = __cut_frequencies_array(ADR_Z, ff_Z, config['frequency_limits'][0], config['frequency_limits'][1])"
   ]
  },
  {
   "cell_type": "markdown",
   "id": "0f2b9855",
   "metadata": {
    "heading_collapsed": true
   },
   "source": [
    "## Load as DataFrame"
   ]
  },
  {
   "cell_type": "code",
   "execution_count": null,
   "id": "425abbe0",
   "metadata": {
    "ExecuteTime": {
     "end_time": "2023-06-20T13:05:03.659079Z",
     "start_time": "2023-06-20T13:05:03.659057Z"
    },
    "code_folding": [
     0
    ],
    "hidden": true
   },
   "outputs": [],
   "source": [
    "# def __cut_frequencies_dataframe(df_psd, fmin, fmax):\n",
    "#     ind = []\n",
    "#     for i,f in enumerate(df_psd['frequencies']):\n",
    "#         if f >= fmin and f <= fmax:\n",
    "#             ind.append(i)\n",
    "\n",
    "#     df = df_psd.iloc[ind[0]:ind[-1],:]\n",
    "\n",
    "#     return df"
   ]
  },
  {
   "cell_type": "code",
   "execution_count": null,
   "id": "f8c6ed80",
   "metadata": {
    "ExecuteTime": {
     "end_time": "2023-06-20T13:05:03.661038Z",
     "start_time": "2023-06-20T13:05:03.661017Z"
    },
    "code_folding": [
     0
    ],
    "hidden": true
   },
   "outputs": [],
   "source": [
    "# def __load_data_files(config, path):\n",
    "    \n",
    "#     from tqdm.notebook import tqdm\n",
    "#     from numpy import array\n",
    "#     from pandas import DataFrame, concat\n",
    "    \n",
    "#     config['files'] = [file for file in os.listdir(path) if \"hourly\" in file]\n",
    "#     config['files'].sort()\n",
    "\n",
    "#     psds_df = DataFrame()\n",
    "#     for n, file in enumerate(tqdm(config['files'])):\n",
    "\n",
    "#         date = file.split(\"_\")[4][5:]\n",
    "#         psds_hourly = read_pickle(path+file)\n",
    "        \n",
    "#         if n > 0:\n",
    "#             psds_df = concat([psds_df, psds_hourly])\n",
    "#         else:\n",
    "#             psds_df = psds_hourly\n",
    "#     return psds_df"
   ]
  },
  {
   "cell_type": "code",
   "execution_count": null,
   "id": "f2761ec4",
   "metadata": {
    "ExecuteTime": {
     "end_time": "2023-06-20T13:05:03.662093Z",
     "start_time": "2023-06-20T13:05:03.662075Z"
    },
    "hidden": true
   },
   "outputs": [],
   "source": [
    "# ADR_Z_df = __load_data_files(config, config['inpath'].replace(\"Z\",\"Z\"))\n",
    "\n",
    "# ADR_N_df = __load_data_files(config, config['inpath'].replace(\"Z\",\"N\"))\n",
    "\n",
    "# ADR_E_df = __load_data_files(config, config['inpath'].replace(\"Z\",\"E\"))"
   ]
  },
  {
   "cell_type": "code",
   "execution_count": null,
   "id": "1d9ee684",
   "metadata": {
    "ExecuteTime": {
     "end_time": "2023-06-20T13:05:03.663218Z",
     "start_time": "2023-06-20T13:05:03.663207Z"
    },
    "hidden": true
   },
   "outputs": [],
   "source": [
    "# ADR_Z_df = __load_data(config['inpath'].replace(\"Z\",\"Z\"), config['inname'].replace(\"Z\",\"Z\"))\n",
    "\n",
    "# ADR_N_df = __load_data(config['inpath'].replace(\"Z\",\"N\"), config['inname'].replace(\"Z\",\"N\"))\n",
    "\n",
    "# ADR_E_df = __load_data(config['inpath'].replace(\"Z\",\"E\"), config['inname'].replace(\"Z\",\"E\"))"
   ]
  },
  {
   "cell_type": "code",
   "execution_count": null,
   "id": "ebfa70de",
   "metadata": {
    "ExecuteTime": {
     "end_time": "2023-06-20T13:05:03.664019Z",
     "start_time": "2023-06-20T13:05:03.664010Z"
    },
    "code_folding": [
     0
    ],
    "hidden": true
   },
   "outputs": [],
   "source": [
    "# def __cut_frequencies_dataframe(df_psd, fmin, fmax, freqs=None):\n",
    "#     ind = []\n",
    "#     if freqs is None:\n",
    "#         frequencies = df_psd['frequencies']\n",
    "#     else:\n",
    "#         frequencies = freqs\n",
    "    \n",
    "#     for i,f in enumerate(frequencies):    \n",
    "#         if f >= fmin and f <= fmax:\n",
    "#             ind.append(i)\n",
    "#     df = df_psd.iloc[ind[0]:ind[-1],:]\n",
    "#     df.reset_index(drop=True, inplace=True)\n",
    "    \n",
    "#     if freqs is None:\n",
    "#         ff_new = None\n",
    "#     else:\n",
    "#         ff_new = freqs[ind[0]:ind[-1]]\n",
    "        \n",
    "#     print(df.shape, len(ff_new))\n",
    "#     return df, ff_new"
   ]
  },
  {
   "cell_type": "code",
   "execution_count": null,
   "id": "04ae2fb2",
   "metadata": {
    "ExecuteTime": {
     "end_time": "2023-06-20T13:05:03.664675Z",
     "start_time": "2023-06-20T13:05:03.664666Z"
    },
    "hidden": true
   },
   "outputs": [],
   "source": [
    "# ADR_Z_df, ff_Z = __cut_frequencies_dataframe(ADR_Z_df, 1/30, 1, freqs=ff_Z)\n",
    "# ADR_N_df, ff_N = __cut_frequencies_dataframe(ADR_N_df, 1/30, 1, freqs=ff_N)\n",
    "# ADR_E_df, ff_E = __cut_frequencies_dataframe(ADR_E_df, 1/30, 1, freqs=ff_E)"
   ]
  },
  {
   "cell_type": "code",
   "execution_count": null,
   "id": "d3eea5d7",
   "metadata": {
    "ExecuteTime": {
     "end_time": "2023-06-20T13:05:03.665647Z",
     "start_time": "2023-06-20T13:05:03.665626Z"
    },
    "hidden": true
   },
   "outputs": [],
   "source": [
    "# ADR_Z = __get_array_from_dataframe(ADR_Z_df)\n",
    "# ADR_N = __get_array_from_dataframe(ADR_N_df)\n",
    "# ADR_E = __get_array_from_dataframe(ADR_E_df)"
   ]
  },
  {
   "cell_type": "markdown",
   "id": "d7d05f3d",
   "metadata": {
    "ExecuteTime": {
     "end_time": "2022-11-10T13:13:24.317324Z",
     "start_time": "2022-11-10T13:13:24.315321Z"
    }
   },
   "source": [
    "## Remove Noisy PSDs"
   ]
  },
  {
   "cell_type": "code",
   "execution_count": null,
   "id": "92d7c1df",
   "metadata": {
    "ExecuteTime": {
     "end_time": "2023-06-20T13:05:03.667243Z",
     "start_time": "2023-06-20T13:05:03.667223Z"
    },
    "code_folding": [
     0
    ]
   },
   "outputs": [],
   "source": [
    "def __remove_noisy_psds(arr, times, threshold_mean=1e-16):\n",
    "\n",
    "    from numpy import delete, shape, sort, array, nan\n",
    "    \n",
    "    l1 = shape(arr)[0]\n",
    "\n",
    "    idx_to_remove = []\n",
    "    for ii in range(shape(arr)[0]):\n",
    "        \n",
    "        ## appy upper threshold\n",
    "        if arr[ii,:].mean() > threshold_mean:\n",
    "            idx_to_remove.append(ii)\n",
    "            \n",
    "        ## apply default lowe threshold\n",
    "        if arr[ii,:].mean() < 1e-26:\n",
    "            idx_to_remove.append(ii)\n",
    "            \n",
    "    for jj in sort(array(idx_to_remove))[::-1]:\n",
    "        \n",
    "        ## option 1: delte rows\n",
    "#         arr = delete(arr, jj, axis=0)\n",
    "#         times = delete(times, jj, axis=0)\n",
    "\n",
    "        ## option 2: replace with nan values\n",
    "        arr[jj,:] = ones(len(arr[jj]))*nan\n",
    "    \n",
    "    l2 = shape(arr)[0]\n",
    "    \n",
    "    print(f\" -> removed {l1-l2} rows due to mean thresholds!\")\n",
    "    print(f\" -> {l2} psds remain\")\n",
    "    \n",
    "    return arr, times"
   ]
  },
  {
   "cell_type": "code",
   "execution_count": null,
   "id": "2b8b1666",
   "metadata": {
    "ExecuteTime": {
     "end_time": "2023-06-20T13:05:03.668871Z",
     "start_time": "2023-06-20T13:05:03.668856Z"
    },
    "code_folding": []
   },
   "outputs": [],
   "source": [
    "ADR_N, times_N = __remove_noisy_psds(ADR_N, times_N, threshold_mean=config['thres'])\n",
    "ADR_E, times_E = __remove_noisy_psds(ADR_E, times_E, threshold_mean=config['thres'])\n",
    "ADR_Z, times_Z = __remove_noisy_psds(ADR_Z, times_Z, threshold_mean=config['thres'])"
   ]
  },
  {
   "cell_type": "markdown",
   "id": "c9e6e75d",
   "metadata": {},
   "source": [
    "## Write Statistics to Files"
   ]
  },
  {
   "cell_type": "code",
   "execution_count": null,
   "id": "087beef5",
   "metadata": {
    "ExecuteTime": {
     "end_time": "2023-06-20T13:05:03.670136Z",
     "start_time": "2023-06-20T13:05:03.670110Z"
    },
    "code_folding": [
     0
    ]
   },
   "outputs": [],
   "source": [
    "def __write_stats_mod(config, ff, arr, comp):\n",
    "    \n",
    "    out_df = DataFrame()\n",
    "\n",
    "    out_df['frequencies'] = ff\n",
    "    out_df['minimal'] = __get_minimal_psd(arr)\n",
    "    out_df['median'] = __get_median_psd(arr)\n",
    "    out_df['minimum'] = __get_minimum_psd(arr)\n",
    "    out_df['mean'] = __get_mean_psd(arr)\n",
    "\n",
    "    print(f\" -> writing {config['inpath'].replace('Z',comp)}{config['inname'].replace('Z',comp)}_stats_mod.pkl\")\n",
    "    out_df.to_pickle(f\"{config['inpath'].replace('Z',comp)}{config['inname'].replace('Z',comp)}_stats_mod.pkl\")"
   ]
  },
  {
   "cell_type": "code",
   "execution_count": null,
   "id": "63b02e0b",
   "metadata": {
    "ExecuteTime": {
     "end_time": "2023-06-20T13:05:03.671499Z",
     "start_time": "2023-06-20T13:05:03.671477Z"
    }
   },
   "outputs": [],
   "source": [
    "# __write_stats_mod(config, ff_N, ADR_N, \"N\")\n",
    "# __write_stats_mod(config, ff_E, ADR_E, \"E\")\n",
    "# __write_stats_mod(config, ff_Z, ADR_Z, \"Z\")"
   ]
  },
  {
   "cell_type": "markdown",
   "id": "086fd5d0",
   "metadata": {},
   "source": [
    "## Plotting"
   ]
  },
  {
   "cell_type": "markdown",
   "id": "ab717391",
   "metadata": {},
   "source": [
    "### Plot Version 1"
   ]
  },
  {
   "cell_type": "code",
   "execution_count": null,
   "id": "5c6e0837",
   "metadata": {
    "ExecuteTime": {
     "end_time": "2023-06-20T13:05:03.672635Z",
     "start_time": "2023-06-20T13:05:03.672616Z"
    },
    "code_folding": [
     0
    ]
   },
   "outputs": [],
   "source": [
    "def __makeplot_image(ff, psds, times, dates=None):\n",
    "    \n",
    "    from tqdm.notebook import tqdm\n",
    "    from numpy import isnan, median, mean, std, array, zeros, nanmax, nanmin\n",
    "    from scipy.stats import median_abs_deviation as mad\n",
    "    from matplotlib import colors\n",
    "\n",
    "\n",
    "    ##____________________________\n",
    "        \n",
    "    fig, axes = plt.subplots(1, 1, figsize=(12,8), sharey=False, sharex=False)\n",
    "\n",
    "    plt.subplots_adjust(hspace=0.1)\n",
    "    \n",
    "    font = 14\n",
    "\n",
    "    N = int(24*365)\n",
    "\n",
    "    \n",
    "    cmap = plt.cm.get_cmap('rainbow')\n",
    "#     cmap.set_under(color='black')\n",
    "#     cmap.set_over(color='white')\n",
    "    \n",
    "    \n",
    "    max_psds = nanmax(psds)\n",
    "    min_psds = nanmin(psds)\n",
    "\n",
    "    im = axes.pcolormesh(times, 1/array(ff), psds.T, \n",
    "                            cmap=cmap,\n",
    "                            vmax=max_psds,\n",
    "                            vmin=min_psds,\n",
    "                            norm=colors.LogNorm(),\n",
    "                            )\n",
    "\n",
    "    axes.tick_params(labelsize=font-2)\n",
    "\n",
    "\n",
    "    axes.set_ylim(config['period_limits'][0], config['period_limits'][1])\n",
    "    axes.set_yscale(\"log\")\n",
    "\n",
    "    ## set colorbar at bottom\n",
    "    cbar = fig.colorbar(im, orientation='vertical', ax=axes.ravel().tolist(), aspect=30, pad=0.01)\n",
    "    cbar.set_label(r\"PSD (rad$^2$/s$^2$/$Hz$)\", fontsize=font-2, labelpad=-53)\n",
    "\n",
    "    axes.set_xlabel(\"Days of 2019\", fontsize=font, labelpad=-1)\n",
    "\n",
    "    new_ticks = [int(round(t/24,0)) for t in axes.get_xticks()]\n",
    "    axes.set_xticklabels(new_ticks)\n",
    "    \n",
    "    ## panel labels\n",
    "    axes.text(.01, .99, 'a)', ha='left', va='top', transform=axes.transAxes, fontsize=font+2)\n",
    "    \n",
    "    ## data labels\n",
    "    array = name.split(\"_\")[0]\n",
    "      \n",
    "    axes.set_ylabel(r\"Periods (s)\", fontsize=font)\n",
    "    \n",
    "    plt.show();    \n",
    "    return fig"
   ]
  },
  {
   "cell_type": "code",
   "execution_count": null,
   "id": "612cc72e",
   "metadata": {
    "ExecuteTime": {
     "end_time": "2023-06-20T13:05:03.673821Z",
     "start_time": "2023-06-20T13:05:03.673800Z"
    }
   },
   "outputs": [],
   "source": [
    "nn = 500\n",
    "tmp = linspace(0, shape(ADR_Z)[0], shape(ADR_Z)[0])\n",
    "\n",
    "# fig = __makeplot_image(times_N[:nn], ff_N, ADR_N[:nn,:])\n",
    "\n",
    "# fig = __makeplot_image(times_Z, ff_Z, ADR_Z)"
   ]
  },
  {
   "cell_type": "code",
   "execution_count": null,
   "id": "eec74dbe",
   "metadata": {
    "ExecuteTime": {
     "end_time": "2023-06-20T13:05:03.676670Z",
     "start_time": "2023-06-20T13:05:03.676659Z"
    },
    "code_folding": [
     0
    ]
   },
   "outputs": [],
   "source": [
    "def __makeplot_image_overview(ff, psds, times, dates=None):\n",
    "    \n",
    "    from tqdm.notebook import tqdm\n",
    "    from numpy import isnan, median, mean, std, array, zeros, nanmax, nanmin\n",
    "    from scipy.stats import median_abs_deviation as mad\n",
    "    from matplotlib import colors\n",
    "\n",
    "    \n",
    "    ## theoretical rlnm\n",
    "#     rlnm = read_csv(config['rlnm_model_path']+\"rlnm_theory.csv\")\n",
    "\n",
    "    ## convert frequencies to periods\n",
    "    pp=[]\n",
    "    for mm in range(len(ff)):\n",
    "        ppp = zeros(len(ff[mm]))\n",
    "        ppp = 1/ff[mm]\n",
    "        pp.append(ppp)\n",
    "        \n",
    "    ##____________________________\n",
    "    \n",
    "    NN = 3\n",
    "    \n",
    "    fig, axes = plt.subplots(NN, 1, figsize=(12,12), sharey=False, sharex=True)\n",
    "\n",
    "    plt.subplots_adjust(hspace=0.1)\n",
    "    \n",
    "    font = 14\n",
    "\n",
    "    N = int(24*365)\n",
    "\n",
    "    max_psds = max(nanmax(psds[0]), nanmax(psds[1]), nanmax(psds[2]))\n",
    "    min_psds = min(nanmin(psds[0]), nanmin(psds[1]), nanmin(psds[2]))\n",
    "    \n",
    "    cmap = plt.cm.get_cmap('rainbow')\n",
    "#     cmap.set_under(color='black')\n",
    "#     cmap.set_over(color='white')\n",
    "    cmap.set_bad(color='white')\n",
    "\n",
    "    \n",
    "    for j in tqdm(range(NN)):\n",
    "\n",
    "        im = axes[j].pcolormesh(times[j], 1/ff[j], psds[j].T, \n",
    "                                cmap=cmap,\n",
    "                                vmax=max_psds*1e-2,\n",
    "                                vmin=min_psds*1e1,\n",
    "                                norm=colors.LogNorm(),\n",
    "                                )\n",
    "        \n",
    "        axes[j].tick_params(labelsize=font-2)\n",
    "        \n",
    "\n",
    "        axes[j].set_ylim(config['period_limits'][0], config['period_limits'][1])\n",
    "        axes[j].set_yscale(\"log\")\n",
    "\n",
    "    axes[NN-1].set_xlabel(\"Days of 2019\", fontsize=font, labelpad=-1)\n",
    "\n",
    "    new_ticks = [int(round(t/24,0)) for t in axes[NN-1].get_xticks()]\n",
    "    axes[NN-1].set_xticklabels(new_ticks)\n",
    "    \n",
    "    ## panel labels\n",
    "    axes[0].text(.01, .99, 'a)', ha='left', va='top', transform=axes[0].transAxes, fontsize=font+2)\n",
    "    axes[1].text(.01, .99, 'b)', ha='left', va='top', transform=axes[1].transAxes, fontsize=font+2)\n",
    "    axes[2].text(.01, .99, 'c)', ha='left', va='top', transform=axes[2].transAxes, fontsize=font+2)\n",
    "    \n",
    "    ## data labels\n",
    "    array = name.split(\"_\")[0]\n",
    "    axes[0].text(.99, .99, f'{array} ADR $vertical$', ha='right', va='top', transform=axes[0].transAxes, fontsize=font)\n",
    "    axes[1].text(.99, .99, f'{array} ADR $north$', ha='right', va='top', transform=axes[1].transAxes, fontsize=font)\n",
    "    axes[2].text(.99, .99, f'{array} ADR $east$', ha='right', va='top', transform=axes[2].transAxes, fontsize=font)\n",
    "    \n",
    "    \n",
    "    axes[0].set_ylabel(r\"Periods (s)\", fontsize=font)\n",
    "    axes[1].set_ylabel(r\"Periods (s)\", fontsize=font)\n",
    "    axes[2].set_ylabel(r\"Periods (s)\", fontsize=font)\n",
    "    \n",
    "    ## set colorbar at bottom\n",
    "    cbar = fig.colorbar(im, orientation='vertical', ax=axes.ravel().tolist(), aspect=30, pad=0.01)\n",
    "    cbar.set_label(r\"PSD (rad$^2$/s$^2$/$Hz$)\", fontsize=font-2, labelpad=-53)\n",
    "\n",
    "    plt.show();    \n",
    "    return fig"
   ]
  },
  {
   "cell_type": "code",
   "execution_count": null,
   "id": "4d7bf1f5",
   "metadata": {
    "ExecuteTime": {
     "end_time": "2023-06-20T13:05:03.677568Z",
     "start_time": "2023-06-20T13:05:03.677558Z"
    },
    "scrolled": true
   },
   "outputs": [],
   "source": [
    "nn = 20\n",
    "tmp = linspace(0, shape(ADR_Z)[0], shape(ADR_Z)[0])\n",
    "\n",
    "# fig = __makeplot_image_overview([ff_Z, ff_N, ff_E], \n",
    "#                                 [ADR_Z, ADR_N, ADR_E], \n",
    "#                                 [times_Z, times_N, times_E], \n",
    "#                                 dates=tmp\n",
    "#                                 )"
   ]
  },
  {
   "cell_type": "code",
   "execution_count": null,
   "id": "61bcb688",
   "metadata": {
    "ExecuteTime": {
     "end_time": "2023-06-20T13:05:03.677987Z",
     "start_time": "2023-06-20T13:05:03.677978Z"
    }
   },
   "outputs": [],
   "source": [
    "# __savefig(fig, outpath=config['outpath_figures'], outname=f\"{name}_psdimage_final\", mode=\"png\", dpi=300)"
   ]
  },
  {
   "cell_type": "markdown",
   "id": "217e8ea5",
   "metadata": {},
   "source": [
    "### Plot Version 2"
   ]
  },
  {
   "cell_type": "code",
   "execution_count": null,
   "id": "0fd2e234",
   "metadata": {
    "ExecuteTime": {
     "end_time": "2023-06-20T13:05:03.678482Z",
     "start_time": "2023-06-20T13:05:03.678473Z"
    },
    "code_folding": [
     0
    ]
   },
   "outputs": [],
   "source": [
    "def __makeplot_image_overview2(ff, psds, times, dates=None):\n",
    "    \n",
    "    from tqdm.notebook import tqdm\n",
    "    from numpy import isnan, median, mean, std, array, zeros, nanmax, nanmin\n",
    "    from scipy.stats import median_abs_deviation as mad\n",
    "    from matplotlib import colors\n",
    "\n",
    "    \n",
    "    ## theoretical rlnm\n",
    "    rlnm = read_csv(config['rlnm_model_path']+\"rlnm_theory.csv\")\n",
    "\n",
    "    ## convert frequencies to periods\n",
    "    pp=[]\n",
    "    for mm in range(len(ff)):\n",
    "        ppp = zeros(len(ff[mm]))\n",
    "        ppp = 1/ff[mm]\n",
    "        pp.append(ppp)\n",
    "        \n",
    "    ## define colormap\n",
    "    cmap = plt.cm.get_cmap('viridis')\n",
    "    cmap.set_bad(color='white')\n",
    "#     cmap.set_under(color='black')\n",
    "#     cmap.set_over(color='white')       \n",
    "\n",
    "    ## compute overall maxima and minima\n",
    "    max_psds = max(nanmax(psds[0]), nanmax(psds[1]), nanmax(psds[2]))\n",
    "    min_psds = min(nanmin(psds[0]), nanmin(psds[1]), nanmin(psds[2]))\n",
    "    \n",
    "    \n",
    "    ##____________________________\n",
    "    \n",
    "#     NN = 3\n",
    "    N = int(24*365)\n",
    "    \n",
    "    font = 14\n",
    "\n",
    "    fig = plt.figure(constrained_layout=False, figsize=(15,10))\n",
    "    widths = [6, 1]\n",
    "    heights = [1, 1, 1]\n",
    "    spec = fig.add_gridspec(ncols=2, nrows=3, width_ratios=widths, height_ratios=heights)\n",
    "\n",
    "    plt.subplots_adjust(hspace=0.1, wspace=0.02)\n",
    "\n",
    "    ax1_1 = fig.add_subplot(spec[0, 0])\n",
    "    ax1_2 = fig.add_subplot(spec[0, 1], sharey=ax1_1)\n",
    "    ax2_1 = fig.add_subplot(spec[1, 0], sharex=ax1_1)\n",
    "    ax2_2 = fig.add_subplot(spec[1, 1], sharey=ax2_1)\n",
    "    ax3_1 = fig.add_subplot(spec[2, 0], sharex=ax1_1)\n",
    "    ax3_2 = fig.add_subplot(spec[2, 1], sharey=ax3_1)\n",
    "\n",
    "    im1 = ax1_1.pcolormesh( times[0], 1/ff[0], psds[0].T, \n",
    "                            cmap=cmap,\n",
    "                            vmax=max_psds*1e-2,\n",
    "                            vmin=min_psds*1e1,\n",
    "                            norm=colors.LogNorm(),\n",
    "                            )\n",
    "    im2 = ax2_1.pcolormesh( times[1], 1/ff[1], psds[1].T, \n",
    "                            cmap=cmap,\n",
    "                            vmax=max_psds*1e-2,\n",
    "                            vmin=min_psds*1e1,\n",
    "                            norm=colors.LogNorm(),\n",
    "                            )\n",
    "    im3 = ax3_1.pcolormesh( times[2], 1/ff[2], psds[2].T, \n",
    "                            cmap=cmap,\n",
    "                            vmax=max_psds*1e-2,\n",
    "                            vmin=min_psds*1e1,\n",
    "                            norm=colors.LogNorm(),\n",
    "                            )\n",
    "    \n",
    "    set_color = \"darkblue\"\n",
    "    \n",
    "    perc_lower, perc_upper = __get_percentiles((psds[0]))\n",
    "    ax1_2.fill_betweenx(pp[0], perc_lower, perc_upper, color=set_color, zorder=3, alpha=0.4, label=\"\")\n",
    "    ax1_2.plot(__get_median_psd(psds[0]), pp[0], color=set_color, zorder=3, alpha=0.9, label=\"Median\")\n",
    "    ax1_2.plot(rlnm['rlnm_psd_median'], rlnm['period'], color=\"black\", zorder=2, ls=\"--\", lw=2)\n",
    "    \n",
    "    perc_lower, perc_upper = __get_percentiles((psds[1]))\n",
    "    ax2_2.fill_betweenx(pp[1], perc_lower, perc_upper, color=set_color, zorder=3, alpha=0.4, label=\"\")\n",
    "    ax2_2.plot(__get_median_psd(psds[1]), pp[1], color=set_color, zorder=3, alpha=0.9, label=\"Median\")\n",
    "    ax2_2.plot(rlnm['rlnm_psd_median'], rlnm['period'], color=\"black\", zorder=2, ls=\"--\", lw=2)\n",
    "\n",
    "    perc_lower, perc_upper = __get_percentiles((psds[2]))\n",
    "    ax3_2.fill_betweenx(pp[2], perc_lower, perc_upper, color=set_color, zorder=3, alpha=0.4, label=\"\")\n",
    "    ax3_2.plot(__get_median_psd(psds[2]), pp[2], color=set_color, zorder=3, alpha=0.9, label=\"Median\")\n",
    "    ax3_2.plot(rlnm['rlnm_psd_median'], rlnm['period'], color=\"black\", zorder=2, ls=\"--\", lw=2)\n",
    "        \n",
    "    \n",
    "    plt.setp(ax1_1.get_xticklabels(), visible=False)\n",
    "    plt.setp(ax2_1.get_xticklabels(), visible=False) \n",
    "    \n",
    "    plt.setp(ax1_2.get_xticklabels(), visible=False)\n",
    "    plt.setp(ax2_2.get_xticklabels(), visible=False) \n",
    "    \n",
    "    plt.setp(ax1_2.get_yticklabels(), visible=False)\n",
    "    plt.setp(ax2_2.get_yticklabels(), visible=False)    \n",
    "    plt.setp(ax3_2.get_yticklabels(), visible=False)\n",
    "    \n",
    "    \n",
    "    \n",
    "        \n",
    "    for ax in [ax1_1, ax1_2, ax2_1, ax2_2, ax3_1, ax3_2]:\n",
    "        ax.tick_params(labelsize=font-2)\n",
    "        ax.set_ylim(config['period_limits'][0], config['period_limits'][1])\n",
    "        ax.set_yscale(\"log\")\n",
    "    \n",
    "    for ax in [ax1_2, ax2_2, ax3_2]:\n",
    "        ax.set_xscale(\"logit\")\n",
    "\n",
    "    ax3_1.set_xlabel(\"Days of 2019\", fontsize=font, labelpad=1)\n",
    "    ax3_2.set_xlabel(r\"PSD (rad$^2$/s$^2$/$Hz$)\", fontsize=font, labelpad=-1)\n",
    "\n",
    "    new_ticks = [int(round(t/24,0)) for t in ax3_1.get_xticks()]\n",
    "    ax3_1.set_xticklabels(new_ticks)\n",
    "    \n",
    "#     ## panel labels\n",
    "    ax1_1.text(.01, .99, 'a)', ha='left', va='top', transform=ax1_1.transAxes, fontsize=font+2)\n",
    "    ax2_1.text(.01, .99, 'b)', ha='left', va='top', transform=ax2_1.transAxes, fontsize=font+2)\n",
    "    ax3_1.text(.01, .99, 'c)', ha='left', va='top', transform=ax3_1.transAxes, fontsize=font+2)\n",
    "    \n",
    "#     ## data labels\n",
    "    array = name.split(\"_\")[0]\n",
    "    ax1_1.text(.99, .99, f'{array} ADR $vertical$', ha='right', va='top', transform=ax1_1.transAxes, fontsize=font)\n",
    "    ax2_1.text(.99, .99, f'{array} ADR $north$', ha='right', va='top', transform=ax2_1.transAxes, fontsize=font)\n",
    "    ax3_1.text(.99, .99, f'{array} ADR $east$', ha='right', va='top', transform=ax3_1.transAxes, fontsize=font)\n",
    "     \n",
    "    ax1_1.set_ylabel(r\"Periods (s)\", fontsize=font)\n",
    "    ax2_1.set_ylabel(r\"Periods (s)\", fontsize=font)\n",
    "    ax3_1.set_ylabel(r\"Periods (s)\", fontsize=font)\n",
    "    \n",
    "#     ## set colorbar at bottom \n",
    "    cbar = fig.colorbar(im1, orientation='vertical', ax=[ax1_2, ax2_2, ax3_2], aspect=35, pad=0.05)\n",
    "    cbar.set_label(r\"PSD (rad$^2$/s$^2$/$Hz$)\", fontsize=font-2, labelpad=-50)\n",
    "\n",
    "    plt.show();    \n",
    "    return fig"
   ]
  },
  {
   "cell_type": "code",
   "execution_count": null,
   "id": "3a5c40d5",
   "metadata": {
    "ExecuteTime": {
     "end_time": "2023-06-20T13:05:03.680968Z",
     "start_time": "2023-06-20T13:05:03.680948Z"
    }
   },
   "outputs": [],
   "source": [
    "fig = __makeplot_image_overview2([ff_Z, ff_N, ff_E], \n",
    "                                [ADR_Z, ADR_N, ADR_E], \n",
    "                                [times_Z, times_N, times_E], \n",
    "                                )"
   ]
  },
  {
   "cell_type": "code",
   "execution_count": null,
   "id": "70c6455c",
   "metadata": {
    "ExecuteTime": {
     "end_time": "2023-06-20T13:05:03.681672Z",
     "start_time": "2023-06-20T13:05:03.681663Z"
    }
   },
   "outputs": [],
   "source": [
    "__savefig(fig, outpath=config['outpath_figures'], outname=f\"{name}_psdimage_final3\", mode=\"png\", dpi=300)"
   ]
  },
  {
   "cell_type": "markdown",
   "id": "13034f40",
   "metadata": {
    "heading_collapsed": true
   },
   "source": [
    "## Limit it by computing medians "
   ]
  },
  {
   "cell_type": "code",
   "execution_count": null,
   "id": "5a062b20",
   "metadata": {
    "ExecuteTime": {
     "end_time": "2023-06-20T13:05:03.682154Z",
     "start_time": "2023-06-20T13:05:03.682134Z"
    },
    "code_folding": [
     0
    ],
    "hidden": true
   },
   "outputs": [],
   "source": [
    "def __makeplot_colorlines_overview(ff, psds, dates=None):\n",
    "    \n",
    "    from tqdm.notebook import tqdm\n",
    "    from numpy import isnan, median, mean, std, array, zeros\n",
    "    from scipy.stats import median_abs_deviation as mad\n",
    "    \n",
    "#     psds_median = __get_median_psd(array(psds))\n",
    "#     psds_minimal = __get_minimal_psd(array(psds))\n",
    "#     psds_minimum = __get_minimum_psd(array(psds), ff)\n",
    "\n",
    "    ## theoretical rlnm\n",
    "    rlnm = read_csv(config['rlnm_model_path']+\"rlnm_theory.csv\")\n",
    "\n",
    "    ## convert frequencies to periods\n",
    "    pp=[]\n",
    "    for mm in range(len(ff)):\n",
    "        ppp = zeros(len(ff[mm]))\n",
    "        ppp[:-1] = 1/ff[mm][1:]\n",
    "        pp.append(ppp)\n",
    "        \n",
    "    ##____________________________\n",
    "    \n",
    "    NN = 3\n",
    "    \n",
    "    fig, axes = plt.subplots(NN,1, figsize=(10,10), sharey=False, sharex=True)\n",
    "\n",
    "    plt.subplots_adjust(hspace=0.1)\n",
    "    \n",
    "    font = 14\n",
    "\n",
    "    N = max(psds[0].shape[0], psds[1].shape[0], psds[2].shape[0])\n",
    "    colors = plt.cm.rainbow(linspace(0, 1, N))\n",
    "\n",
    "    ## add Frequency Axis\n",
    "    g = lambda x: 1/x\n",
    "    ax2 = axes[0].secondary_xaxis(\"top\", functions=(g,g))\n",
    "    ax2.set_xlabel(\"  Frequency (Hz)\", fontsize=font, labelpad=-5)\n",
    "    ax2.set_xticklabels(ff[2], fontsize=11)    \n",
    "    ax2.tick_params(axis='both', labelsize=font-2)\n",
    "    \n",
    "    \n",
    "    for j in range(NN):\n",
    "        for n, psd in enumerate(tqdm(psds[j])):\n",
    "            axes[j].loglog(pp[j], psd, color=colors[n], alpha=0.7)\n",
    "            p2 = axes[j].scatter(pp[j][0], psd[0], s=0., c=n, cmap='rainbow', vmin=0, vmax=N)\n",
    "\n",
    "        axes[j].loglog(pp[j], __get_minimum_psd(psds[j], ff[j]), 'grey', zorder=3, alpha=0.9, label=\"Minimum\")\n",
    "        axes[j].loglog(pp[j], __get_median_psd(psds[j]), 'black', zorder=3, alpha=0.9, label=\"Median\")\n",
    "        axes[j].loglog(rlnm['period'], rlnm['rlnm_psd_median'], color=\"black\", zorder=2, ls=\"--\", lw=2)\n",
    "        \n",
    "        axes[j].grid(True, which=\"both\", ls=\"-\", alpha=0.5)\n",
    "        axes[j].legend(loc='lower left')\n",
    "        axes[j].tick_params(labelsize=font-2)\n",
    "        \n",
    "        axes[j].text(6, 5e-25, \"RLNM\", fontsize=font, rotation=-30)\n",
    "\n",
    "        axes[j].set_xlim(config['period_limits'][0],config['period_limits'][1])\n",
    "#         axes[j].set_ylim(8e-27, 1e-17)\n",
    "\n",
    "\n",
    "    axes[NN-1].set_xlabel(\"  Period (s)\", fontsize=font, labelpad=-8)\n",
    "\n",
    "    ## panel labels\n",
    "    axes[0].text(.01, .99, 'a)', ha='left', va='top', transform=axes[0].transAxes, fontsize=font+2)\n",
    "    axes[1].text(.01, .99, 'b)', ha='left', va='top', transform=axes[1].transAxes, fontsize=font+2)\n",
    "    axes[2].text(.01, .99, 'c)', ha='left', va='top', transform=axes[2].transAxes, fontsize=font+2)\n",
    "    \n",
    "    \n",
    "    axes[0].set_ylabel(r\"PSD$_{vertical}$ (rad$^2$/s$^2$/$Hz)$\", fontsize=font)\n",
    "    axes[1].set_ylabel(r\"PSD$_{north}$ (rad$^2$/s$^2$/$Hz)$\", fontsize=font)\n",
    "    axes[2].set_ylabel(r\"PSD$_{east}$ (rad$^2$/s$^2$/$Hz)$\", fontsize=font)\n",
    "    \n",
    "    ## set colorbar at bottom\n",
    "    cbar = fig.colorbar(p2, orientation='vertical', ax=axes.ravel().tolist(), aspect=50, pad=-1e-5)\n",
    "\n",
    "    \n",
    "    ## redefine ticks of colorbar\n",
    "    if dates is not None:\n",
    "        new_ticks = []\n",
    "        for t in cbar.get_ticks(): \n",
    "            new_ticks.append(dates.astype(str)[int(t)])\n",
    "        cbar.ax.set_yticklabels(new_ticks)\n",
    "\n",
    "    plt.show();    \n",
    "    return fig"
   ]
  },
  {
   "cell_type": "code",
   "execution_count": null,
   "id": "8212745e",
   "metadata": {
    "ExecuteTime": {
     "end_time": "2023-06-20T13:05:03.683361Z",
     "start_time": "2023-06-20T13:05:03.683342Z"
    },
    "code_folding": [
     0
    ],
    "hidden": true
   },
   "outputs": [],
   "source": [
    "def __compute_medians(arr, intervall=100):\n",
    "\n",
    "    delta_i = int(intervall)\n",
    "    d1, d2 = 0, delta_i\n",
    "\n",
    "    meds = zeros((int(len(arr)/delta_i), shape(arr)[1]))\n",
    "    idx = 0\n",
    "    while d2 < len(arr):\n",
    "        meds[idx] = __get_median_psd(arr[d1:d2,:])\n",
    "        idx +=1 \n",
    "        d1 += delta_i\n",
    "        d2 += delta_i\n",
    "\n",
    "    return meds"
   ]
  },
  {
   "cell_type": "code",
   "execution_count": null,
   "id": "eb6638be",
   "metadata": {
    "ExecuteTime": {
     "end_time": "2023-06-20T13:05:03.685906Z",
     "start_time": "2023-06-20T13:05:03.685884Z"
    },
    "hidden": true
   },
   "outputs": [],
   "source": [
    "meds_N = __compute_medians(ADR_N, intervall=24)\n",
    "meds_E = __compute_medians(ADR_E, intervall=24)\n",
    "meds_Z = __compute_medians(ADR_Z, intervall=24)"
   ]
  },
  {
   "cell_type": "code",
   "execution_count": null,
   "id": "956a9b34",
   "metadata": {
    "ExecuteTime": {
     "end_time": "2023-06-20T13:05:03.687093Z",
     "start_time": "2023-06-20T13:05:03.687074Z"
    },
    "hidden": true
   },
   "outputs": [],
   "source": [
    "nn = 100\n",
    "tmp = linspace(0, shape(ADR_Z)[0], shape(ADR_Z)[0])\n",
    "\n",
    "fig = __makeplot_colorlines_overview([ff_Z, ff_N, ff_E], [meds_Z, meds_N, meds_E], dates=tmp)"
   ]
  },
  {
   "cell_type": "code",
   "execution_count": null,
   "id": "71a074bf",
   "metadata": {
    "ExecuteTime": {
     "end_time": "2023-06-20T13:05:03.687965Z",
     "start_time": "2023-06-20T13:05:03.687947Z"
    },
    "hidden": true
   },
   "outputs": [],
   "source": [
    "__savefig(fig, outpath=config['outpath_figures'], outname=f\"{name}_colorlines_selection\", mode=\"png\", dpi=300)"
   ]
  },
  {
   "cell_type": "code",
   "execution_count": null,
   "id": "ce64c931",
   "metadata": {
    "ExecuteTime": {
     "end_time": "2023-06-20T13:05:03.689067Z",
     "start_time": "2023-06-20T13:05:03.689057Z"
    },
    "code_folding": [
     0
    ],
    "hidden": true
   },
   "outputs": [],
   "source": [
    "# def __makeplot_colorlines(config, ff, psds, dates):\n",
    "\n",
    "# #     from numpy import isnan, median, mean, std, array\n",
    "        \n",
    "#     psds_median  = __get_median_psd(array(psds))\n",
    "#     psds_minimal = __get_minimal_psd(array(psds))\n",
    "# #     psds_minimum = __get_minimum_psd(array(psds), ff)\n",
    "    \n",
    "        \n",
    "#     ##____________________________\n",
    "    \n",
    "#     fig, ax = plt.subplots(1,1, figsize=(15,10), sharey=False, sharex=True)\n",
    "\n",
    "#     font = 12\n",
    "\n",
    "#     N = psds.shape[0]\n",
    "#     colors = plt.cm.rainbow(linspace(0, 1, N))\n",
    "\n",
    "#     for n, psd in enumerate(psds):\n",
    "#         ax.loglog(ff, psd, color=colors[n], alpha=0.7)\n",
    "\n",
    "\n",
    "#     ## add scatter for colorbar object only\n",
    "#     for n, psd in enumerate(psds):\n",
    "#         p2 = ax.scatter(ff[0], psd[0], s=0., c=n, cmap='rainbow', vmin=0, vmax=N)\n",
    "\n",
    "#     ## plot statistics\n",
    "#     ax.loglog(ff, psds_median, 'black', zorder=3, alpha=0.9)\n",
    "# #     ax.loglog(ff, psds_minimal, 'black', zorder=2, alpha=1.0)\n",
    "# #     ax.loglog(ff, psds_minimum, 'k', zorder=2, alpha=0.8)\n",
    "    \n",
    "    \n",
    "#     ## theoretical rlnm\n",
    "#     rlnm = read_csv(config['rlnm_model_path']+\"rlnm_theory.csv\")\n",
    "#     ax.loglog(rlnm['period'], rlnm['rlnm_psd_median'], color=\"grey\", zorder=2, lw=2, label=\"RLNM\")\n",
    "    \n",
    "\n",
    "# #     ax.set_title(\"Minimal PSD\", fontsize=font)\n",
    "# #     ax.set_title(\"Minimum PSD\", fontsize=font)\n",
    "\n",
    "\n",
    "# #     ax.set_xlabel(\"Frequency (Hz)\", fontsize=font)\n",
    "#     ax.set_xlabel(\"Period (s)\", fontsize=font)\n",
    "\n",
    "#     ax.set_ylabel(r\"PSD (rad$^2$/s$^2$/$Hz)$\", fontsize=font)\n",
    "    \n",
    "#     ax.grid(True, which=\"both\", ls=\"-\", alpha=0.7)\n",
    "    \n",
    "#     ax.set_xlim(1,200)\n",
    "#     ax.set_ylim(1e-26,1e-20)\n",
    "    \n",
    "#     ## set colorbar at bottom\n",
    "#     cbar = fig.colorbar(p2, orientation='horizontal', ax=ax, aspect=50)\n",
    "\n",
    "#     ## redefine ticks of colorbar\n",
    "#     new_ticks=[]\n",
    "#     for t in cbar.get_ticks(): \n",
    "#         new_ticks.append(dates.astype(str)[int(t)])\n",
    "#     cbar.ax.set_xticklabels(new_ticks)\n",
    "\n",
    "\n",
    "#     plt.show();\n",
    "    \n",
    "#     return fig"
   ]
  },
  {
   "cell_type": "code",
   "execution_count": null,
   "id": "d5a44ac1",
   "metadata": {
    "ExecuteTime": {
     "end_time": "2023-06-20T13:05:03.689814Z",
     "start_time": "2023-06-20T13:05:03.689804Z"
    },
    "code_folding": [],
    "hidden": true
   },
   "outputs": [],
   "source": [
    "# fig, out = __makeplot_colorlines(config, 1/ff, GRF_Z, GRF_Z_df.columns)\n",
    "# fig, out = __makeplot_colorlines(config, 1/ff, GRF_N, GRF_N_df.columns)\n",
    "# fig, out = __makeplot_colorlines(config, 1/ff, GRF_E, GRF_E_df.columns)"
   ]
  },
  {
   "cell_type": "markdown",
   "id": "biblical-alloy",
   "metadata": {},
   "source": [
    "## Calculate and Plot Density"
   ]
  },
  {
   "cell_type": "code",
   "execution_count": null,
   "id": "9c352b03",
   "metadata": {
    "ExecuteTime": {
     "end_time": "2023-06-20T13:05:03.690364Z",
     "start_time": "2023-06-20T13:05:03.690354Z"
    }
   },
   "outputs": [],
   "source": [
    "# output = __calculate_density(psds, bins=100, density=True)"
   ]
  },
  {
   "cell_type": "code",
   "execution_count": null,
   "id": "4e5005fc",
   "metadata": {
    "ExecuteTime": {
     "end_time": "2023-06-20T13:05:03.691092Z",
     "start_time": "2023-06-20T13:05:03.691082Z"
    },
    "code_folding": [
     0
    ]
   },
   "outputs": [],
   "source": [
    "# def __makeplot_PPSD(ff, output, config, mode=None):\n",
    "\n",
    "#     from matplotlib import colors\n",
    "#     from numpy import ones, convolve, array, log10, roll, sqrt\n",
    "\n",
    "#     bins, bins_medians, bins_maximas, dist = output['bin_mids'], output['bins_medians'], output['bins_maximas'], output['dist']\n",
    "    \n",
    "#     if mode is \"DB\":\n",
    "#         y_axis = 10*log10(bins)\n",
    "#     elif mode is \"PSD\":\n",
    "#         y_axis = bins\n",
    "#     elif mode is \"ASD\":\n",
    "#         y_axis = sqrt(bins)\n",
    "        \n",
    "#     x_axis = ff\n",
    "\n",
    "#     ## plotting\n",
    "#     fig, ax = plt.subplots(1,1,figsize=(13,6))\n",
    "\n",
    "#     font=14\n",
    "\n",
    "#     cmap = plt.cm.get_cmap('magma_r')\n",
    "# #     cmap = plt.cm.get_cmap('gray_r')\n",
    "#     cmap.set_under(color='white')\n",
    "\n",
    "#     im = plt.pcolor(x_axis, y_axis, dist.T, \n",
    "#                     cmap=cmap,\n",
    "#                     vmin=1e-12, \n",
    "#                     alpha=0.99,\n",
    "#                    )\n",
    "\n",
    "#     ## add Frequency Axis\n",
    "#     g = lambda x: 1/x\n",
    "#     ax2 = ax.secondary_xaxis(\"top\", functions=(g,g))\n",
    "#     ax2.set_xlabel(\"Frequency in Hz\", fontsize=font, labelpad=5)\n",
    "#     ax2.set_xticklabels(1/ff, fontsize=11)    \n",
    "    \n",
    "    \n",
    "#     if mode is \"DB\":\n",
    "#         plt.plot(x_axis, 10*log10(bins_medians), color='black', alpha=0.5, label=\"RNLM\")\n",
    "#         plt.ylim(-200, -80)\n",
    "\n",
    "#     elif mode is \"PSD\":\n",
    "#         plt.plot(x_axis, bins_medians, color='black', alpha=0.5, label=\"RNLM\")\n",
    "#         plt.yscale('log')\n",
    "#         plt.ylim(10**-20, 10**-13)\n",
    "  \n",
    "#     elif mode is \"ASD\":  \n",
    "#         plt.plot(x_axis, sqrt(bins_medians), color='black', alpha=0.5, label=\"RNLM\")\n",
    "#         plt.yscale('log')\n",
    "#         plt.ylim(10**-10, 2*10**-7)\n",
    "\n",
    "    \n",
    "# #     plt.fill_betweenx(range(-270, -140), x1=0, x2=2.5, color=\"grey\", alpha=0.4)\n",
    "# #     plt.fill_betweenx(range(-270, -140), x1=200, x2=max(ff), color=\"grey\", alpha=0.4)\n",
    "\n",
    "#     ## modify x-axis\n",
    "#     plt.xscale('log')\n",
    "#     plt.xlim([min(x_axis), max(x_axis)])\n",
    "# #     plt.xlim(1, 300)\n",
    "    \n",
    "#     ## add colorbar\n",
    "#     caxes = fig.add_axes()\n",
    "#     cb = plt.colorbar(im, cax=caxes, alpha=1.0)\n",
    "    \n",
    "#     if output['set_density']:\n",
    "#         cb.set_label(\"Propability Density\", fontsize=font)\n",
    "#     else:\n",
    "#         cb.set_label(\"Counts\", fontsize=font)\n",
    "#         cb.set_label(\"Propability Density\", fontsize=font)\n",
    "    \n",
    "#     if mode is \"DB\":\n",
    "# #         plt.ylabel(r\"PPSD in dB (rel. to 1 m$^4$/s$^2$/$Hz$)\", fontsize=font)\n",
    "#         plt.ylabel(r\"PPSD in dB (rel. to 1 rad$^2$/s$^2$/$Hz$)\", fontsize=font)\n",
    "#     elif mode is \"PSD\":\n",
    "# #         plt.ylabel(r\"PPSD in m$^4$/s$^2$/$Hz$\", fontsize=font)\n",
    "#         plt.ylabel(r\"PPSD in $\\frac{rad^2}{s^2 Hz}$\", fontsize=font)\n",
    "#     elif mode is \"ASD\":\n",
    "#         plt.ylabel(r\"PASD in $\\frac{rad}{s \\sqrt{Hz}}$\", fontsize=font)\n",
    "        \n",
    "#     plt.grid(axis=\"both\", which=\"both\", ls=\"--\", zorder=0)\n",
    "#     plt.legend()\n",
    "    \n",
    "#     plt.xlabel(\"Period in seconds\", fontsize=font)\n",
    "\n",
    "#     plt.tick_params(axis='both', labelsize=font-2)\n",
    "\n",
    "#     plt.show();\n",
    "#     return fig"
   ]
  },
  {
   "cell_type": "code",
   "execution_count": null,
   "id": "f25eeaa9",
   "metadata": {
    "ExecuteTime": {
     "end_time": "2023-06-20T13:05:03.691915Z",
     "start_time": "2023-06-20T13:05:03.691905Z"
    }
   },
   "outputs": [],
   "source": [
    "# fig = __makeplot_PPSD(ff, output, config, mode=\"ASD\")"
   ]
  },
  {
   "cell_type": "code",
   "execution_count": null,
   "id": "bd06a81e",
   "metadata": {
    "ExecuteTime": {
     "end_time": "2022-05-04T14:08:39.999086Z",
     "start_time": "2022-05-04T14:08:39.995422Z"
    }
   },
   "outputs": [],
   "source": []
  },
  {
   "cell_type": "code",
   "execution_count": null,
   "id": "82aff0c2",
   "metadata": {},
   "outputs": [],
   "source": []
  }
 ],
 "metadata": {
  "kernelspec": {
   "display_name": "Python 3 (ipykernel)",
   "language": "python",
   "name": "python3"
  },
  "language_info": {
   "codemirror_mode": {
    "name": "ipython",
    "version": 3
   },
   "file_extension": ".py",
   "mimetype": "text/x-python",
   "name": "python",
   "nbconvert_exporter": "python",
   "pygments_lexer": "ipython3",
   "version": "3.7.8"
  },
  "latex_envs": {
   "LaTeX_envs_menu_present": true,
   "autoclose": false,
   "autocomplete": true,
   "bibliofile": "biblio.bib",
   "cite_by": "apalike",
   "current_citInitial": 1,
   "eqLabelWithNumbers": true,
   "eqNumInitial": 1,
   "hotkeys": {
    "equation": "Ctrl-E",
    "itemize": "Ctrl-I"
   },
   "labels_anchors": false,
   "latex_user_defs": false,
   "report_style_numbering": false,
   "user_envs_cfg": false
  },
  "toc": {
   "base_numbering": 1,
   "nav_menu": {},
   "number_sections": true,
   "sideBar": true,
   "skip_h1_title": false,
   "title_cell": "Table of Contents",
   "title_sidebar": "Contents",
   "toc_cell": false,
   "toc_position": {},
   "toc_section_display": true,
   "toc_window_display": false
  },
  "varInspector": {
   "cols": {
    "lenName": 16,
    "lenType": 16,
    "lenVar": 40
   },
   "kernels_config": {
    "python": {
     "delete_cmd_postfix": "",
     "delete_cmd_prefix": "del ",
     "library": "var_list.py",
     "varRefreshCmd": "print(var_dic_list())"
    },
    "r": {
     "delete_cmd_postfix": ") ",
     "delete_cmd_prefix": "rm(",
     "library": "var_list.r",
     "varRefreshCmd": "cat(var_dic_list()) "
    }
   },
   "types_to_exclude": [
    "module",
    "function",
    "builtin_function_or_method",
    "instance",
    "_Feature"
   ],
   "window_display": false
  }
 },
 "nbformat": 4,
 "nbformat_minor": 5
}
