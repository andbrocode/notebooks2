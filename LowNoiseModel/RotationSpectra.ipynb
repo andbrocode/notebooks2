{
 "cells": [
  {
   "cell_type": "markdown",
   "id": "protected-presentation",
   "metadata": {},
   "source": [
    "## Load Libraries"
   ]
  },
  {
   "cell_type": "code",
   "execution_count": 2,
   "id": "behind-arrangement",
   "metadata": {
    "ExecuteTime": {
     "end_time": "2021-03-12T23:08:06.586025Z",
     "start_time": "2021-03-12T23:08:05.905777Z"
    }
   },
   "outputs": [],
   "source": [
    "from andbro__querrySeismoData import __querrySeismoData\n",
    "from obspy import UTCDateTime\n",
    "from scipy.signal import welch\n",
    "from numpy import log10, zeros, append, linspace, mean, median, array, where, transpose, shape, histogram\n",
    "from pandas import DataFrame, concat, Series\n",
    "\n",
    "import matplotlib.pyplot as plt"
   ]
  },
  {
   "cell_type": "markdown",
   "id": "subject-expression",
   "metadata": {},
   "source": [
    "## Configurations"
   ]
  },
  {
   "cell_type": "code",
   "execution_count": 22,
   "id": "yellow-geography",
   "metadata": {
    "ExecuteTime": {
     "end_time": "2021-03-12T23:08:06.689383Z",
     "start_time": "2021-03-12T23:08:06.684518Z"
    }
   },
   "outputs": [],
   "source": [
    "\n",
    "config= {}\n",
    "\n",
    "config['tbeg'] = UTCDateTime(\"2022-01-17 00:00\")\n",
    "config['tend'] = UTCDateTime(\"2022-01-20 00:00\")\n",
    "config['seed'] = \"BW.ROMY.10.HJZ\"\n",
    "# config['seed'] = \"BW.DROMY..FJZ\"\n",
    "\n",
    "\n",
    "config['opath'] = \"/home/andbro/Documents/ROMY/SagnacSpectra/plots/\""
   ]
  },
  {
   "cell_type": "markdown",
   "id": "natural-beginning",
   "metadata": {},
   "source": [
    "## Looping "
   ]
  },
  {
   "cell_type": "code",
   "execution_count": 23,
   "id": "e5849ec7",
   "metadata": {},
   "outputs": [],
   "source": [
    "st0, inv = __querrySeismoData(    \n",
    "                            seed_id=config.get('seed'),\n",
    "                            starttime=config.get('tbeg'),\n",
    "                            endtime=config.get('tend'),\n",
    "                            repository=\"george\",\n",
    "                            path=None,\n",
    "                            restitute=False,\n",
    "                            detail=None,\n",
    "                            )\n",
    "\n",
    "st0.remove_response(inventory=inv,output=\"VEL\", zero_mean=True); "
   ]
  },
  {
   "cell_type": "code",
   "execution_count": 24,
   "id": "f98e858c",
   "metadata": {
    "code_folding": [
     0
    ]
   },
   "outputs": [],
   "source": [
    "def __calculate_spectra(st, config, mode='dB'):\n",
    "\n",
    "    from datetime import datetime\n",
    "    from pandas import date_range\n",
    "    from obspy import UTCDateTime\n",
    "    from scipy.signal import welch\n",
    "    from numpy import where, array, zeros\n",
    "    \n",
    "    def __check_stream(st):\n",
    "        t1 = str(st[0].stats.starttime)\n",
    "        t2 = str(st[0].stats.endtime)\n",
    "        for tr in st:\n",
    "            if str(tr.stats.starttime) != t1 or str(tr.stats.endtime) != t2:\n",
    "                print(f\"ERROR: mismatch in start or endtime of trace: {tr.stats.id}\")\n",
    "                return\n",
    "            \n",
    "    def __make_decibel(array, relative_value):\n",
    "        return 10*log10(array/relative_value) \n",
    "    \n",
    "    ## check time consistency for all traces\n",
    "    __check_stream(st)\n",
    "    \n",
    "    ## check how many intervals are possible\n",
    "    if config['interval_overlap'] is None:\n",
    "        intervals = int((st[0].stats.endtime - st[0].stats.starttime)/config.get('interval'))\n",
    "        shift = config['interval']\n",
    "    else:\n",
    "        shift = int(config.get('interval')*config['interval_overlap']/100)\n",
    "        intervals = int((st[0].stats.endtime - st[0].stats.starttime)/shift)\n",
    "    \n",
    "\n",
    "\n",
    "    ## pre-define psd array\n",
    "    size_psd = int(config.get('nperseg')/2)+1\n",
    "    psd = zeros([intervals, size_psd])\n",
    "    \n",
    "    if size_psd >= len(st[0].data):\n",
    "        print(f\"ERROR: reduce nperseg or noverlap or segments! {size_psd} > {len(tr.data)}\")\n",
    "        return\n",
    "    \n",
    "    for i, tr in enumerate(st):\n",
    "        \n",
    "        # initite variables for while loop\n",
    "        dt1 = st[0].stats.starttime\n",
    "        dt2 = st[0].stats.starttime + config['interval']\n",
    "        n = 0\n",
    "        \n",
    "        while dt2 <= st[0].stats.endtime:\n",
    "\n",
    "            tr_tmp = tr.copy()\n",
    "            tr_tmp.trim(starttime = UTCDateTime(dt1), endtime=UTCDateTime(dt2))\n",
    "\n",
    "#             print(n, dt1, dt2, \"\\n\")\n",
    "            \n",
    "#             print(config.get('nperseg'), config.get('noverlap'), len(tr_tmp.data))\n",
    "            \n",
    "            f, psd0 = welch(  \n",
    "                        tr_tmp.data, \n",
    "                        fs=tr_tmp.stats.sampling_rate, \n",
    "                        window=config.get('taper'), \n",
    "                        nperseg=config.get('nperseg'), \n",
    "                        noverlap=config.get('noverlap'), \n",
    "                        nfft=config.get('nfft'), \n",
    "                        detrend=config.get('detrend'), \n",
    "                        return_onesided=config.get('onesided'), \n",
    "                        scaling=config.get('scaling'),\n",
    "                       )\n",
    "            psd[n] = psd0\n",
    "            \n",
    "            ## adjust variables\n",
    "            dt1 += shift\n",
    "            dt2 += shift\n",
    "            n += 1\n",
    "\n",
    "            \n",
    "        if config.get('frequency_limits') is not None:\n",
    "            f1, f2 = config.get('frequency_limits')[0], config.get('frequency_limits')[1]\n",
    "            idx1, idx2 = int(where(f <= f1)[0][0]), int(where(f >= f2)[0][0])\n",
    "            ff = f[idx1:idx2]\n",
    "            tmp = zeros([intervals, len(ff)])\n",
    "            for j in range(intervals):\n",
    "                tmp[j] = psd[j,idx1:idx2]\n",
    "            psd = tmp\n",
    "\n",
    "        if mode is not None and mode.lower() == 'db':\n",
    "            for j in range(intervals):\n",
    "                psd[j] = __make_decibel(psd[j], abs(max(psd[j])))\n",
    "   \n",
    "    return ff, psd"
   ]
  },
  {
   "cell_type": "code",
   "execution_count": 25,
   "id": "4402e5b3",
   "metadata": {},
   "outputs": [],
   "source": [
    "st = st0.copy()\n",
    "\n",
    "config['interval'] = 3600\n",
    "config['interval_overlap'] = 50 # in percent\n",
    "config['taper'] = 'hanning'\n",
    "config['segments'] = 1e2\n",
    "config['nperseg'] = 256*config.get('segments')\n",
    "config['noverlap'] = 64*config.get('segments')\n",
    "config['nfft'] = None\n",
    "config['detrend'] = 'constant'\n",
    "config['scaling'] = 'density'\n",
    "config['onesided'] = True\n",
    "config['frequency_limits'] = (0, 30) # in Hz\n",
    "\n",
    "ff, psds = __calculate_spectra(st, config, mode=None)"
   ]
  },
  {
   "cell_type": "code",
   "execution_count": 26,
   "id": "e4858b93",
   "metadata": {
    "code_folding": [
     0
    ]
   },
   "outputs": [],
   "source": [
    "def __get_minimal_psd(psds):\n",
    "\n",
    "    from numpy import nanmin, array, nonzero\n",
    "    \n",
    "    min_psd = zeros(psds.shape[1])\n",
    "    \n",
    "    for f in range(psds.shape[1]):\n",
    "        a = psds[:,f]\n",
    "        min_psd[f] = nanmin(a[nonzero(a)])\n",
    "    \n",
    "    return min_psd"
   ]
  },
  {
   "cell_type": "code",
   "execution_count": 27,
   "id": "f7225806",
   "metadata": {},
   "outputs": [],
   "source": [
    "minimal_psd = __get_minimal_psd(psds)"
   ]
  },
  {
   "cell_type": "code",
   "execution_count": 39,
   "id": "af6a3772",
   "metadata": {
    "code_folding": []
   },
   "outputs": [],
   "source": [
    "def __get_minimum_psd(psds):\n",
    "    for i, psd in enumerate(psds):\n",
    "        if i == 0: \n",
    "            lowest_sum = psds[0].sum()\n",
    "            idx = 0\n",
    "\n",
    "        value = psd.sum()\n",
    "\n",
    "        if value < lowest_sum and value != 0:\n",
    "            lowest_sum = value\n",
    "            idx = i\n",
    "\n",
    "    return psds[idx]"
   ]
  },
  {
   "cell_type": "code",
   "execution_count": 40,
   "id": "9fc904bb",
   "metadata": {},
   "outputs": [],
   "source": [
    "minimum_psd = __get_minimum_psd(psds)"
   ]
  },
  {
   "cell_type": "code",
   "execution_count": 42,
   "id": "22328b65",
   "metadata": {},
   "outputs": [
    {
     "data": {
      "image/png": "[encoded data removed]",
      "text/plain": [
       "<Figure size 432x288 with 1 Axes>"
      ]
     },
     "metadata": {
      "needs_background": "light"
     },
     "output_type": "display_data"
    }
   ],
   "source": [
    "for psd in psds:\n",
    "    plt.loglog(ff, psd)\n",
    "\n",
    "plt.loglog(ff, minimal_psd, 'k')\n",
    "plt.loglog(ff, minimum_psd, 'pink')\n",
    "\n",
    "plt.show();\n"
   ]
  },
  {
   "cell_type": "code",
   "execution_count": null,
   "id": "58a74f3c",
   "metadata": {},
   "outputs": [],
   "source": []
  },
  {
   "cell_type": "code",
   "execution_count": 43,
   "id": "fifteen-cheat",
   "metadata": {
    "ExecuteTime": {
     "end_time": "2021-03-13T12:56:55.788109Z",
     "start_time": "2021-03-13T12:56:55.598611Z"
    }
   },
   "outputs": [
    {
     "ename": "TypeError",
     "evalue": "'numpy.float64' object is not iterable",
     "output_type": "error",
     "traceback": [
      "\u001b[0;31m---------------------------------------------------------------------------\u001b[0m",
      "\u001b[0;31mTypeError\u001b[0m                                 Traceback (most recent call last)",
      "\u001b[0;32m<ipython-input-43-522081cede8a>\u001b[0m in \u001b[0;36m<module>\u001b[0;34m\u001b[0m\n\u001b[1;32m      3\u001b[0m \u001b[0;34m\u001b[0m\u001b[0m\n\u001b[1;32m      4\u001b[0m \u001b[0;31m## calulcate max and min of all datasets\u001b[0m\u001b[0;34m\u001b[0m\u001b[0;34m\u001b[0m\u001b[0;34m\u001b[0m\u001b[0m\n\u001b[0;32m----> 5\u001b[0;31m \u001b[0mmax_value\u001b[0m \u001b[0;34m=\u001b[0m \u001b[0mmax\u001b[0m\u001b[0;34m(\u001b[0m\u001b[0;34m[\u001b[0m\u001b[0mmax\u001b[0m\u001b[0;34m(\u001b[0m\u001b[0msublist\u001b[0m\u001b[0;34m)\u001b[0m \u001b[0;32mfor\u001b[0m \u001b[0msublist\u001b[0m \u001b[0;32min\u001b[0m \u001b[0mpsd\u001b[0m\u001b[0;34m]\u001b[0m\u001b[0;34m)\u001b[0m\u001b[0;34m\u001b[0m\u001b[0;34m\u001b[0m\u001b[0m\n\u001b[0m\u001b[1;32m      6\u001b[0m \u001b[0mmin_value\u001b[0m \u001b[0;34m=\u001b[0m \u001b[0mmin\u001b[0m\u001b[0;34m(\u001b[0m\u001b[0;34m[\u001b[0m\u001b[0mmin\u001b[0m\u001b[0;34m(\u001b[0m\u001b[0msublist\u001b[0m\u001b[0;34m)\u001b[0m \u001b[0;32mfor\u001b[0m \u001b[0msublist\u001b[0m \u001b[0;32min\u001b[0m \u001b[0mpsd\u001b[0m\u001b[0;34m]\u001b[0m\u001b[0;34m)\u001b[0m\u001b[0;34m\u001b[0m\u001b[0;34m\u001b[0m\u001b[0m\n\u001b[1;32m      7\u001b[0m \u001b[0;34m\u001b[0m\u001b[0m\n",
      "\u001b[0;32m<ipython-input-43-522081cede8a>\u001b[0m in \u001b[0;36m<listcomp>\u001b[0;34m(.0)\u001b[0m\n\u001b[1;32m      3\u001b[0m \u001b[0;34m\u001b[0m\u001b[0m\n\u001b[1;32m      4\u001b[0m \u001b[0;31m## calulcate max and min of all datasets\u001b[0m\u001b[0;34m\u001b[0m\u001b[0;34m\u001b[0m\u001b[0;34m\u001b[0m\u001b[0m\n\u001b[0;32m----> 5\u001b[0;31m \u001b[0mmax_value\u001b[0m \u001b[0;34m=\u001b[0m \u001b[0mmax\u001b[0m\u001b[0;34m(\u001b[0m\u001b[0;34m[\u001b[0m\u001b[0mmax\u001b[0m\u001b[0;34m(\u001b[0m\u001b[0msublist\u001b[0m\u001b[0;34m)\u001b[0m \u001b[0;32mfor\u001b[0m \u001b[0msublist\u001b[0m \u001b[0;32min\u001b[0m \u001b[0mpsd\u001b[0m\u001b[0;34m]\u001b[0m\u001b[0;34m)\u001b[0m\u001b[0;34m\u001b[0m\u001b[0;34m\u001b[0m\u001b[0m\n\u001b[0m\u001b[1;32m      6\u001b[0m \u001b[0mmin_value\u001b[0m \u001b[0;34m=\u001b[0m \u001b[0mmin\u001b[0m\u001b[0;34m(\u001b[0m\u001b[0;34m[\u001b[0m\u001b[0mmin\u001b[0m\u001b[0;34m(\u001b[0m\u001b[0msublist\u001b[0m\u001b[0;34m)\u001b[0m \u001b[0;32mfor\u001b[0m \u001b[0msublist\u001b[0m \u001b[0;32min\u001b[0m \u001b[0mpsd\u001b[0m\u001b[0;34m]\u001b[0m\u001b[0;34m)\u001b[0m\u001b[0;34m\u001b[0m\u001b[0;34m\u001b[0m\u001b[0m\n\u001b[1;32m      7\u001b[0m \u001b[0;34m\u001b[0m\u001b[0m\n",
      "\u001b[0;31mTypeError\u001b[0m: 'numpy.float64' object is not iterable"
     ]
    }
   ],
   "source": [
    "## create new dataframe\n",
    "df = DataFrame(transpose(psd))\n",
    "\n",
    "## calulcate max and min of all datasets\n",
    "max_value = max([max(sublist) for sublist in psd])\n",
    "min_value = min([min(sublist) for sublist in psd])\n",
    "\n",
    "## make colormap \n",
    "# colors = plt.cm.viridis_r(linspace(0,1,len(psd)))\n",
    "cols = plt.cm.jet_r(linspace(0,1,len(psd)+1))\n",
    "\n",
    "## caluclate average of each frequency samples across datasets \n",
    "psd_avg = df.sum(axis=1)/df.count(axis=1)\n"
   ]
  },
  {
   "cell_type": "markdown",
   "id": "authentic-knock",
   "metadata": {
    "ExecuteTime": {
     "end_time": "2021-03-12T09:46:52.764867Z",
     "start_time": "2021-03-12T09:46:52.736292Z"
    }
   },
   "source": [
    "### store psd object using pickle"
   ]
  },
  {
   "cell_type": "code",
   "execution_count": 44,
   "id": "honey-stations",
   "metadata": {
    "ExecuteTime": {
     "end_time": "2021-03-13T13:00:36.754121Z",
     "start_time": "2021-03-13T13:00:36.731751Z"
    }
   },
   "outputs": [
    {
     "ename": "NameError",
     "evalue": "name 'opath' is not defined",
     "output_type": "error",
     "traceback": [
      "\u001b[0;31m---------------------------------------------------------------------------\u001b[0m",
      "\u001b[0;31mNameError\u001b[0m                                 Traceback (most recent call last)",
      "\u001b[0;32m<ipython-input-44-61bbea748a49>\u001b[0m in \u001b[0;36m<module>\u001b[0;34m\u001b[0m\n\u001b[1;32m      1\u001b[0m \u001b[0;32mimport\u001b[0m \u001b[0mpickle\u001b[0m\u001b[0;34m\u001b[0m\u001b[0;34m\u001b[0m\u001b[0m\n\u001b[1;32m      2\u001b[0m \u001b[0;34m\u001b[0m\u001b[0m\n\u001b[0;32m----> 3\u001b[0;31m \u001b[0mofile\u001b[0m \u001b[0;34m=\u001b[0m \u001b[0mopen\u001b[0m\u001b[0;34m(\u001b[0m\u001b[0mopath\u001b[0m\u001b[0;34m+\u001b[0m\u001b[0;34m'../'\u001b[0m\u001b[0;34m+\u001b[0m\u001b[0;34mf'sagnacspectra_{date.date}_{interval}.pick'\u001b[0m\u001b[0;34m,\u001b[0m \u001b[0;34m'wb'\u001b[0m\u001b[0;34m)\u001b[0m\u001b[0;34m\u001b[0m\u001b[0;34m\u001b[0m\u001b[0m\n\u001b[0m\u001b[1;32m      4\u001b[0m \u001b[0mpickle\u001b[0m\u001b[0;34m.\u001b[0m\u001b[0mdump\u001b[0m\u001b[0;34m(\u001b[0m\u001b[0mpsd\u001b[0m\u001b[0;34m,\u001b[0m \u001b[0mofile\u001b[0m\u001b[0;34m)\u001b[0m\u001b[0;34m\u001b[0m\u001b[0;34m\u001b[0m\u001b[0m\n\u001b[1;32m      5\u001b[0m \u001b[0mofile\u001b[0m\u001b[0;34m.\u001b[0m\u001b[0mclose\u001b[0m\u001b[0;34m(\u001b[0m\u001b[0;34m)\u001b[0m\u001b[0;34m\u001b[0m\u001b[0;34m\u001b[0m\u001b[0m\n",
      "\u001b[0;31mNameError\u001b[0m: name 'opath' is not defined"
     ]
    }
   ],
   "source": [
    "import pickle\n",
    "\n",
    "ofile = open(opath+'../'+f'sagnacspectra_{date.date}_{interval}.pick', 'wb')\n",
    "pickle.dump(psd, ofile)\n",
    "ofile.close()"
   ]
  },
  {
   "cell_type": "markdown",
   "id": "authorized-equation",
   "metadata": {},
   "source": [
    "## Scatter Plot"
   ]
  },
  {
   "cell_type": "code",
   "execution_count": null,
   "id": "concrete-service",
   "metadata": {
    "ExecuteTime": {
     "end_time": "2021-03-13T12:58:20.168403Z",
     "start_time": "2021-03-13T12:57:59.634317Z"
    }
   },
   "outputs": [],
   "source": [
    "## ____________________________________________\n",
    "\n",
    "fig, ax = plt.subplots(1,1, figsize=(15,10))\n",
    "\n",
    "font = 14\n",
    "\n",
    "for i, psdx in enumerate(psd):\n",
    "    psd_db = __make_decibel(psdx, max_value)\n",
    "    psd_avg_db = __make_decibel(psd_avg, max_value)\n",
    "    \n",
    "#     ax.plot(f, psd_db, color=colors[i])\n",
    "    ax.scatter(f, psd_db, color=cols[i], s=1, zorder=2, alpha=0.7, label=i,)\n",
    "\n",
    "ax.plot(f, psd_avg_db, color='k', lw=1, zorder=2)\n",
    "    \n",
    "ax.set_xlim(547, 560)\n",
    "\n",
    "ax.legend(ncol=2)\n",
    "\n",
    "ax.grid(ls='--', zorder=1)\n",
    "\n",
    "ax.set_xlabel(\"Frequency ( Hz )\", fontsize=font)\n",
    "ax.set_ylabel(f\"PSD ( dB rel. to {round(max_value,3)} V$^2$/Hz ) \", fontsize=font)\n",
    "ax.set_title(f\"Sagnac Spetra on {date.date} ({interval}s windows) \", fontsize=font+2)\n",
    "\n",
    "ax.tick_params(axis='both', labelsize=font-2)\n",
    "\n"
   ]
  },
  {
   "cell_type": "code",
   "execution_count": null,
   "id": "referenced-quarterly",
   "metadata": {
    "ExecuteTime": {
     "end_time": "2021-03-13T12:58:42.756475Z",
     "start_time": "2021-03-13T12:58:20.171003Z"
    }
   },
   "outputs": [],
   "source": [
    "fig.savefig(\n",
    "            opath+f\"plot_sagnacspectra_{date.date}_{interval}_scatter.png\", \n",
    "            dpi=300, facecolor='w', \n",
    "            edgecolor='w',\n",
    "            orientation='portrait', \n",
    "            format=\"png\",\n",
    "            transparent=False, \n",
    "            bbox_inches=\"tight\", \n",
    "            pad_inches=0.2,\n",
    "           )"
   ]
  },
  {
   "cell_type": "markdown",
   "id": "fourth-retrieval",
   "metadata": {
    "ExecuteTime": {
     "start_time": "2021-03-12T13:54:58.391Z"
    }
   },
   "source": [
    "## Calculate and Plot RollingAverage"
   ]
  },
  {
   "cell_type": "code",
   "execution_count": null,
   "id": "inappropriate-prisoner",
   "metadata": {
    "ExecuteTime": {
     "end_time": "2021-03-13T12:58:43.407620Z",
     "start_time": "2021-03-13T12:58:42.757552Z"
    },
    "code_folding": [
     7
    ]
   },
   "outputs": [],
   "source": [
    "## create second dataframe for rolling average\n",
    "df_rolled = DataFrame()\n",
    "\n",
    "# alphabet = [chr(letter) for letter in range(len(df[0]))]\n",
    "\n",
    "## calulcate rolling average over x samples \n",
    "win_len = 10\n",
    "for i in range(df.columns.size):\n",
    "    df_rolled = concat([ df_rolled, df.iloc[:,i].rolling(window=win_len, min_periods=1).mean() ], axis=1)\n",
    "\n",
    "\n",
    "# max_value = max([max(sublist) for sublist in psd])\n",
    "# min_value = min([min(sublist) for sublist in psd])\n",
    "\n",
    "## make colormap\n",
    "# colors = plt.cm.viridis_r(linspace(0,1,len(psd)+1))\n",
    "cols = plt.cm.jet_r(linspace(0,1,len(psd)+1))\n",
    "\n",
    "## calulcate average\n",
    "psd_avg2 = df_rolled.sum(axis=1)/df_rolled.count(axis=1)\n",
    "\n"
   ]
  },
  {
   "cell_type": "code",
   "execution_count": null,
   "id": "documented-specific",
   "metadata": {
    "ExecuteTime": {
     "end_time": "2021-03-13T12:58:58.158876Z",
     "start_time": "2021-03-13T12:58:54.620097Z"
    },
    "code_folding": [
     6
    ]
   },
   "outputs": [],
   "source": [
    "## ____________________________________________\n",
    "\n",
    "fig, ax = plt.subplots(1,1, figsize=(15,10))\n",
    "\n",
    "font = 16\n",
    "\n",
    "for i in range(df_rolled.columns.size):\n",
    "\n",
    "    psd_db = __make_decibel(df_rolled.iloc[:,i], max_value)\n",
    "    psd_avg_db = __make_decibel(psd_avg2, max_value)\n",
    "    \n",
    "    ax.plot(f, psd_db, color=cols[i], lw=0.8, label=i, alpha=0.6)\n",
    "\n",
    "    \n",
    "# ax.plot(f, psd_avg_db, color='k', lw=1, zorder=2)\n",
    "    \n",
    "    \n",
    "ax.set_xlim(547, 560)\n",
    "\n",
    "ax.legend(ncol=2, markerscale=2)\n",
    "\n",
    "ax.grid(ls='--', zorder=1)\n",
    "\n",
    "ax.set_xlabel(\"Frequency ( Hz )\", fontsize=font)\n",
    "ax.set_ylabel(f\"PSD ( dB rel. to {round(max_value,3)} V$^2$/Hz ) \", fontsize=font)\n",
    "ax.set_title(f\"Sagnac Spetra on {date.date} ({interval}s windows) \", fontsize=font+2)\n",
    "\n",
    "ax.tick_params(axis='both', labelsize=font-2)\n",
    "\n",
    "ax.set_xlim(546, 560)\n",
    "# ax.set_xlim(551, 556)\n"
   ]
  },
  {
   "cell_type": "code",
   "execution_count": null,
   "id": "nominated-imperial",
   "metadata": {
    "ExecuteTime": {
     "end_time": "2021-03-13T12:59:03.273074Z",
     "start_time": "2021-03-13T12:58:58.160016Z"
    }
   },
   "outputs": [],
   "source": [
    "fig.savefig(\n",
    "            opath+f\"plot_sagnacspectra_{date.date}_{interval}_{win_len}_lines.png\", \n",
    "            dpi=300, facecolor='w', \n",
    "            edgecolor='w',\n",
    "            orientation='portrait', \n",
    "            format=\"png\",\n",
    "            transparent=False, \n",
    "            bbox_inches=\"tight\", \n",
    "            pad_inches=0.2,\n",
    "           )"
   ]
  },
  {
   "cell_type": "markdown",
   "id": "biblical-alloy",
   "metadata": {},
   "source": [
    "## Calculate and Plot Density"
   ]
  },
  {
   "cell_type": "code",
   "execution_count": null,
   "id": "stuffed-furniture",
   "metadata": {
    "ExecuteTime": {
     "end_time": "2021-03-13T12:59:18.719398Z",
     "start_time": "2021-03-13T12:59:03.274804Z"
    }
   },
   "outputs": [],
   "source": [
    "psd_db = []\n",
    "for sublist in psd:\n",
    "    psd_db.append(__make_decibel(sublist, max_value))\n",
    "\n",
    "max_value_db = max([max(sublist) for sublist in psd_db])\n",
    "min_value_db = min([min(sublist) for sublist in psd_db])\n",
    "\n",
    "\n",
    "dist = []\n",
    "for h in range(len(psd_db[1])):\n",
    "    \n",
    "    tmp = [psd_db[i][h] for i in range(shape(psd_db)[0])]\n",
    "    hist, edges = histogram(tmp, bins=100, range=(min_value_db, max_value_db), density=None);\n",
    "    \n",
    "    dist.append(hist)\n",
    "    \n",
    "dist = array(dist)\n",
    "\n",
    "max_value_dist = max([max(sublist) for sublist in dist])\n",
    "\n",
    "\n",
    "fig = plt.figure() \n",
    "plt.scatter(edges[:-1], hist)\n"
   ]
  },
  {
   "cell_type": "code",
   "execution_count": null,
   "id": "linear-belle",
   "metadata": {
    "ExecuteTime": {
     "end_time": "2021-03-13T12:59:19.087766Z",
     "start_time": "2021-03-13T12:59:18.721449Z"
    }
   },
   "outputs": [],
   "source": [
    "from matplotlib import colors\n",
    "\n",
    "\n",
    "fig = plt.figure(figsize=(10,5))\n",
    "\n",
    "font=14\n",
    "\n",
    "im = plt.imshow(transpose(dist),\n",
    "        cmap=\"YlOrRd\",\n",
    "        clim=[1,20],\n",
    "        aspect='auto',\n",
    "        interpolation=None,\n",
    "        alpha=None,\n",
    "        origin=\"lower\",\n",
    "        extent=(f_lower, f_upper, min(edges), max(edges)),\n",
    "        norm=colors.LogNorm()\n",
    ")\n",
    "\n",
    "plt.plot(f, psd_avg_db, color='k', lw=1, zorder=2)\n",
    "\n",
    "caxes = fig.add_axes()\n",
    "\n",
    "cb = plt.colorbar(im, cax=caxes)\n",
    "cb.set_label(\"counts\", fontsize=font)\n",
    "\n",
    "plt.ylabel(f\"PSD (dB rel. to {round(max_value,3)} V$^2$/Hz )\",fontsize=font)\n",
    "plt.xlabel(\"Frequency ( Hz )\",fontsize=font)\n",
    "plt.title(f\"Sagnac Spetra on {date.date} ({interval}s windows) \",fontsize=font+2)\n",
    "\n",
    "plt.tick_params(axis='both', labelsize=font-2)\n"
   ]
  },
  {
   "cell_type": "code",
   "execution_count": null,
   "id": "valid-greenhouse",
   "metadata": {
    "ExecuteTime": {
     "end_time": "2021-03-13T12:59:20.155040Z",
     "start_time": "2021-03-13T12:59:19.090737Z"
    }
   },
   "outputs": [],
   "source": [
    "\n",
    "fig.savefig(\n",
    "            opath+f\"plot_sagnacspectra_{date.date}_{interval}_distribution.png\", \n",
    "            dpi=300, facecolor='w', \n",
    "            edgecolor='w',\n",
    "            orientation='portrait', \n",
    "            format=\"png\",\n",
    "            transparent=False, \n",
    "            bbox_inches=\"tight\", \n",
    "            pad_inches=0.2,\n",
    "           )"
   ]
  },
  {
   "cell_type": "code",
   "execution_count": null,
   "id": "exposed-timber",
   "metadata": {
    "ExecuteTime": {
     "start_time": "2021-03-12T13:55:30.232Z"
    }
   },
   "outputs": [],
   "source": []
  }
 ],
 "metadata": {
  "kernelspec": {
   "display_name": "Python 3",
   "language": "python",
   "name": "python3"
  },
  "language_info": {
   "codemirror_mode": {
    "name": "ipython",
    "version": 3
   },
   "file_extension": ".py",
   "mimetype": "text/x-python",
   "name": "python",
   "nbconvert_exporter": "python",
   "pygments_lexer": "ipython3",
   "version": "3.7.8"
  }
 },
 "nbformat": 4,
 "nbformat_minor": 5
}
