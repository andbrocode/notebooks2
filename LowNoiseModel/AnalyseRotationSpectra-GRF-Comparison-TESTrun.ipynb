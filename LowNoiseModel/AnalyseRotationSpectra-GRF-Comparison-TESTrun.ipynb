{
 "cells": [
  {
   "cell_type": "markdown",
   "id": "eda030d3",
   "metadata": {},
   "source": [
    "# Analyse Rotation Spectra - GRF - TESTrun"
   ]
  },
  {
   "cell_type": "markdown",
   "id": "protected-presentation",
   "metadata": {},
   "source": [
    "## Load Libraries"
   ]
  },
  {
   "cell_type": "code",
   "execution_count": 1,
   "id": "behind-arrangement",
   "metadata": {
    "ExecuteTime": {
     "end_time": "2022-08-08T15:04:26.686512Z",
     "start_time": "2022-08-08T15:04:24.465366Z"
    }
   },
   "outputs": [],
   "source": [
    "from andbro__querrySeismoData import __querrySeismoData\n",
    "from obspy import UTCDateTime, read\n",
    "from scipy.signal import welch\n",
    "from numpy import log10, zeros, pi, append, linspace, mean, median, array, where, transpose, shape, histogram, arange\n",
    "from numpy import logspace, linspace, log, log10, isinf, ones, nan, count_nonzero, sqrt, isnan\n",
    "from pandas import DataFrame, concat, Series, date_range, read_csv, read_pickle\n",
    "from tqdm import tqdm_notebook\n",
    "from pathlib import Path\n",
    "from scipy.stats import median_absolute_deviation as mad\n",
    "\n",
    "import pickle\n",
    "import matplotlib.pyplot as plt"
   ]
  },
  {
   "cell_type": "code",
   "execution_count": 2,
   "id": "e5849ec7",
   "metadata": {
    "ExecuteTime": {
     "end_time": "2022-08-08T15:04:26.691361Z",
     "start_time": "2022-08-08T15:04:26.688614Z"
    },
    "code_folding": [
     0
    ]
   },
   "outputs": [],
   "source": [
    "# def __get_data(config):\n",
    "#     '''\n",
    "#     load data and remove response\n",
    "\n",
    "#     VARIABLES:\n",
    "#     '''\n",
    "\n",
    "#     try:\n",
    "#         st0, inv = __querrySeismoData(    \n",
    "#                             seed_id=config.get('seed'),\n",
    "#                             starttime=config.get('tbeg'),\n",
    "#                             endtime=config.get('tend'),\n",
    "#                             repository=config['repository'],\n",
    "#                             path=None,\n",
    "#                             restitute=False,\n",
    "#                             detail=None,\n",
    "#                             )\n",
    "\n",
    "#     except:\n",
    "#         print(f\"failed to load\")\n",
    "# #         print(f\"failed to load {config.get['seed']} {config.get['tbeg']}\")\n",
    "#         return None\n",
    "    \n",
    "#     try:\n",
    "#         st0.remove_response(inventory=inv,output=\"VEL\", zero_mean=True); \n",
    "#     except:\n",
    "#         print(f\"failed to remove response\")\n",
    "# #         print(f\"failed to remove response {config.get['seed']} {config.get['tbeg']}\")\n",
    "#         return None\n",
    "    \n",
    "#     return st0"
   ]
  },
  {
   "cell_type": "code",
   "execution_count": 3,
   "id": "e4858b93",
   "metadata": {
    "ExecuteTime": {
     "end_time": "2022-08-08T15:04:26.703493Z",
     "start_time": "2022-08-08T15:04:26.693385Z"
    },
    "code_folding": [
     0
    ]
   },
   "outputs": [],
   "source": [
    "def __get_minimal_psd(psds):\n",
    "\n",
    "    from numpy import nanmin, array, nonzero\n",
    "    \n",
    "    min_psd = zeros(psds.shape[1])\n",
    "    \n",
    "    for f in range(psds.shape[1]):\n",
    "        a = psds[:,f]\n",
    "        min_psd[f] = nanmin(a[nonzero(a)])\n",
    "    \n",
    "    return min_psd"
   ]
  },
  {
   "cell_type": "code",
   "execution_count": 4,
   "id": "d377053c",
   "metadata": {
    "ExecuteTime": {
     "end_time": "2022-08-08T15:04:26.716252Z",
     "start_time": "2022-08-08T15:04:26.704968Z"
    },
    "code_folding": [
     0
    ]
   },
   "outputs": [],
   "source": [
    "def __get_median_psd(psds):\n",
    "\n",
    "    from numpy import median, zeros, isnan\n",
    "\n",
    "    med_psd = zeros(psds.shape[1])\n",
    "\n",
    "    for f in range(psds.shape[1]):\n",
    "        a = psds[:,f]\n",
    "        med_psd[f] = median(a[~isnan(a)])\n",
    "\n",
    "    return med_psd"
   ]
  },
  {
   "cell_type": "code",
   "execution_count": 5,
   "id": "af6a3772",
   "metadata": {
    "ExecuteTime": {
     "end_time": "2022-08-08T15:04:26.801382Z",
     "start_time": "2022-08-08T15:04:26.717758Z"
    },
    "code_folding": [
     0
    ]
   },
   "outputs": [],
   "source": [
    "def __get_minimum_psd(psds, f_tmp):\n",
    "    \n",
    "    from numpy import median\n",
    "    \n",
    "    f_before = f_tmp[0]\n",
    "    f_tmp[0] = 1e-9\n",
    "    \n",
    "    for i, psd in enumerate(psds):\n",
    "        if i == 0: \n",
    "            lowest_value = (psds[0]/f_tmp).sum()\n",
    "#             lowest_value = median(psds[0]/f_tmp)\n",
    "            idx = 0\n",
    "\n",
    "        value = (psd/f_tmp).sum() \n",
    "#         value = median(psd/f_tmp)\n",
    "        \n",
    "        if value < lowest_value and value != 0:\n",
    "            lowest_value = value\n",
    "            idx = i\n",
    "\n",
    "    f_tmp[0] = f_before      \n",
    "    \n",
    "    return psds[idx]"
   ]
  },
  {
   "cell_type": "code",
   "execution_count": 6,
   "id": "df484686",
   "metadata": {
    "ExecuteTime": {
     "end_time": "2022-08-08T15:04:26.814877Z",
     "start_time": "2022-08-08T15:04:26.803078Z"
    },
    "code_folding": [
     0
    ]
   },
   "outputs": [],
   "source": [
    "def __write_to_csv(data, text, config):\n",
    "    \n",
    "    import csv\n",
    "    \n",
    "    opath = config['outpath']\n",
    "    oname = config['outname']+\"_\"+text+\"_psd.csv\"\n",
    "    \n",
    "    # open the file in the write mode\n",
    "    with open(opath+oname, 'w') as file:\n",
    "\n",
    "        writer = csv.writer(file)\n",
    "        for row in data:\n",
    "            writer.writerow(row)\n",
    "            \n",
    "    if Path(opath+oname).exists():\n",
    "        print(f\"created: {opath}{oname}\")"
   ]
  },
  {
   "cell_type": "code",
   "execution_count": 7,
   "id": "fe2e4201",
   "metadata": {
    "ExecuteTime": {
     "end_time": "2022-08-08T15:04:26.830119Z",
     "start_time": "2022-08-08T15:04:26.816384Z"
    },
    "code_folding": [
     0
    ]
   },
   "outputs": [],
   "source": [
    "def __load_psds(file, config):\n",
    "\n",
    "    ## get data to dataframe and transpose and reindex\n",
    "    df = read_csv(file, index_col=False)\n",
    "    df = df.transpose()\n",
    "    df.reset_index(inplace=True)\n",
    "    # df.dtypes\n",
    "    # df.mean()\n",
    "\n",
    "    ## set column names\n",
    "    try:\n",
    "        columns = pickle.load(open(f\"{config['inpath']}{config['inname']}_columns.pick\", 'rb'))\n",
    "        df.columns = [column.replace(\"-\",\"\") for column in columns]\n",
    "    except:\n",
    "        columns = arange(0,df.shape[1]).astype(str)\n",
    "        df.columns = columns\n",
    "        print(\" -> Failed to assign column names! Assigned numbers instead!\")\n",
    "\n",
    "    ## check for column dublicates\n",
    "    if len(df.columns.unique()) != len(df.columns):\n",
    "        print(f\" -> removing {len(df.columns)-len(df.columns.unique())} column dublicate(s)!\")\n",
    "        df = df.loc[:,~df.columns.duplicated()]\n",
    "\n",
    "    count=0\n",
    "    dates_expected = date_range(config['date1'].date, config['date2'].date, periods=int((config['date2']-config['date1'])/86400)+1)\n",
    "    for dex in dates_expected:\n",
    "        dex=str(dex.isoformat()[:10]).replace(\"-\",\"\")\n",
    "        if not dex in df.columns:\n",
    "            count+=1\n",
    "    print(f\" -> missing {count} days\")\n",
    "        \n",
    "    print(f\" -> total of {df.shape[0]} psds\")\n",
    "        \n",
    "#     ## convert to list\n",
    "#     psds = []\n",
    "#     for col in array(df.columns):\n",
    "        \n",
    "#         ## turn non-float series to float objects\n",
    "#         df[col] = pd.to_numeric(df[col], errors = 'coerce')\n",
    "\n",
    "#         ## add to psds list\n",
    "#         psds.append(array(df[col]))\n",
    "        \n",
    "    return df"
   ]
  },
  {
   "cell_type": "code",
   "execution_count": 8,
   "id": "d4ffd698",
   "metadata": {
    "ExecuteTime": {
     "end_time": "2022-08-08T15:04:26.849201Z",
     "start_time": "2022-08-08T15:04:26.832222Z"
    },
    "code_folding": [
     0
    ]
   },
   "outputs": [],
   "source": [
    "def __get_array_from_dataframe(df):\n",
    "    \n",
    "    from pandas import to_numeric\n",
    "    \n",
    "    ## convert to list\n",
    "    psds = []\n",
    "    for col in array(df.columns):\n",
    "        \n",
    "        ## turn non-float series to float objects\n",
    "        df[col] = to_numeric(df[col], errors = 'coerce')\n",
    "\n",
    "        ## add to psds list\n",
    "        psds.append(array(df[col]))\n",
    "\n",
    "    return array(psds)"
   ]
  },
  {
   "cell_type": "code",
   "execution_count": 9,
   "id": "21d2d997",
   "metadata": {
    "ExecuteTime": {
     "end_time": "2022-08-08T15:04:26.866952Z",
     "start_time": "2022-08-08T15:04:26.851193Z"
    },
    "code_folding": [
     0
    ]
   },
   "outputs": [],
   "source": [
    "def __remove_noisy_psds(df, threshold_mean=1e-13):\n",
    "\n",
    "    from numpy import delete\n",
    "    \n",
    "    l1 = len(df.columns)\n",
    "    for col in df.columns:\n",
    "#         print(col, type(col))\n",
    "        if df[col].astype(float).mean() > threshold_mean:\n",
    "            df = df.drop(columns=col)\n",
    "    l2 = len(df.columns)\n",
    "    print(f\" -> removed {l1-l2} columns due to mean thresholds!\")\n",
    "    print(f\" -> {l2} psds remain\")\n",
    "    \n",
    "    return df"
   ]
  },
  {
   "cell_type": "code",
   "execution_count": 10,
   "id": "b86aa31f",
   "metadata": {
    "ExecuteTime": {
     "end_time": "2022-08-08T15:04:27.149908Z",
     "start_time": "2022-08-08T15:04:26.868438Z"
    }
   },
   "outputs": [
    {
     "name": "stdout",
     "output_type": "stream",
     "text": [
      "overview\t\t     run_2019_RLAS-Z_3600_testday\r\n",
      "run_2019_FUR-Z_3600\t     run_2019_ROMY_ADR-E_3600\r\n",
      "run_2019_FUR-Z_3600_testday  run_2019_ROMY_ADR-E_3600_all\r\n",
      "run_2019_RGRF-E_3600_GRA     run_2019_ROMY_ADR-N_3600_all\r\n",
      "run_2019_RGRF-E_3600_GRA1    run_2019_ROMY_ADR-Z_3600\r\n",
      "run_2019_RGRF-E_3600_GRB     run_2019_ROMY_ADR-Z_3600_all\r\n",
      "run_2019_RGRF-E_3600_GRB1    run_2019_ROMY-E_3600\r\n",
      "run_2019_RGRF-E_3600_GRC     run_2019_ROMY-Z_3600\r\n",
      "run_2019_RGRF-E_3600_GRC1    run_2019_ROMY-Z_3600_inner\r\n",
      "run_2019_RGRF-E_3600_GRF     run_2019_ROMY-Z_3600_testday\r\n",
      "run_2019_RGRF-E_3600_GRF1    run_2019_RPFO-E_3600\r\n",
      "run_2019_RGRF-E_3600_GRF2    run_2019_RPFO-E_3600_test\r\n",
      "run_2019_RGRF-E_3600_GRF3    run_2019_RPFO-N_3600\r\n",
      "run_2019_RGRF-N_3600_GRA     run_2019_RPFO-N_3600_test\r\n",
      "run_2019_RGRF-N_3600_GRA1    run_2019_RPFO-Z_3600\r\n",
      "run_2019_RGRF-N_3600_GRB     run_2019_RPFO-Z_3600_control\r\n",
      "run_2019_RGRF-N_3600_GRB1    run_2019_RPFO-Z_3600_test\r\n",
      "run_2019_RGRF-N_3600_GRC     run_2019_WET-Z_3600\r\n",
      "run_2019_RGRF-N_3600_GRC1    run_2019_WET-Z_3600_testday\r\n",
      "run_2019_RGRF-N_3600_GRF     run_2021_ROMY_ADR-E_3600\r\n",
      "run_2019_RGRF-N_3600_GRF1    run_2021_ROMY_ADR-N_3600\r\n",
      "run_2019_RGRF-N_3600_GRF2    run_2021_RPFO-E_3600\r\n",
      "run_2019_RGRF-N_3600_GRF3    run_2021_RPFO-E_3600_control\r\n",
      "run_2019_RGRF-Z_3600_GRA     run_2021_RPFO-N_3600\r\n",
      "run_2019_RGRF-Z_3600_GRA1    run_2021_RPFO-N_3600_control\r\n",
      "run_2019_RGRF-Z_3600_GRB     run_2021_RPFO-Z_3600\r\n",
      "run_2019_RGRF-Z_3600_GRB1    run_2021_RPFO-Z_3600_control\r\n",
      "run_2019_RGRF-Z_3600_GRC     run_2022_ROMY_ADR-E_3600\r\n",
      "run_2019_RGRF-Z_3600_GRC1    run_2022_ROMY_ADR-E_3600_classic\r\n",
      "run_2019_RGRF-Z_3600_GRF     run_2022_ROMY_ADR-N_3600\r\n",
      "run_2019_RGRF-Z_3600_GRF1    run_2022_ROMY_ADR-N_3600_classic\r\n",
      "run_2019_RGRF-Z_3600_run1    run_2022_ROMY_ADR-Z_3600\r\n",
      "run_2019_RGRF-Z_3600_run10   run_2022_ROMY_ADR-Z_3600_classic\r\n",
      "run_2019_RGRF-Z_3600_run2    run_2022_ROMY-E_3600_all\r\n",
      "run_2019_RGRF-Z_3600_run3    run_2022_ROMY-E_3600_inner\r\n",
      "run_2019_RGRF-Z_3600_run4    run_2022_ROMY-N_3600_all\r\n",
      "run_2019_RGRF-Z_3600_run5    run_2022_ROMY-N_3600_inner\r\n",
      "run_2019_RGRF-Z_3600_run6    run_2022_ROMY-V_3600\r\n",
      "run_2019_RGRF-Z_3600_run7    run_2022_ROMY-Z_3600\r\n",
      "run_2019_RGRF-Z_3600_run8    run_2022_ROMY-Z_3600_all\r\n",
      "run_2019_RGRF-Z_3600_run9    run_2022_ROMY-Z_3600_inner\r\n",
      "run_2019_RLAS-Z_3600\t     testinterval\r\n",
      "run_2019_RLAS-Z_3600_test\r\n"
     ]
    }
   ],
   "source": [
    "!ls \"/import/kilauea-data/ROMY/RotationSpectra/data\""
   ]
  },
  {
   "cell_type": "markdown",
   "id": "subject-expression",
   "metadata": {},
   "source": [
    "## Configurations"
   ]
  },
  {
   "cell_type": "code",
   "execution_count": 66,
   "id": "e89d22a7",
   "metadata": {
    "ExecuteTime": {
     "end_time": "2022-08-08T15:53:47.921308Z",
     "start_time": "2022-08-08T15:53:47.916297Z"
    }
   },
   "outputs": [],
   "source": [
    "inname = \"run_2019_RGRF-Z_3600_run1\"\n",
    "inpath = f\"/import/kilauea-data/ROMY/RotationSpectra/data/{inname}/\"\n",
    "\n",
    "config = pickle.load(open(inpath+inname+\"_config.pkl\", 'rb'))\n",
    "\n",
    "config['component'] = \"Z\"\n",
    "\n",
    "config['save'] = False\n",
    "\n",
    "config['inname'] = inname\n",
    "config['inpath'] = inpath\n",
    "\n",
    "config['frequency_limits'] = [1/200, 1]"
   ]
  },
  {
   "cell_type": "markdown",
   "id": "natural-beginning",
   "metadata": {},
   "source": [
    "## Processing "
   ]
  },
  {
   "cell_type": "markdown",
   "id": "905b820e",
   "metadata": {
    "ExecuteTime": {
     "end_time": "2022-07-29T12:15:04.394125Z",
     "start_time": "2022-07-29T12:15:04.392045Z"
    }
   },
   "source": [
    "### Load data1"
   ]
  },
  {
   "cell_type": "code",
   "execution_count": 67,
   "id": "715777c1",
   "metadata": {
    "ExecuteTime": {
     "end_time": "2022-08-08T15:53:49.428798Z",
     "start_time": "2022-08-08T15:53:48.874089Z"
    }
   },
   "outputs": [
    {
     "name": "stdout",
     "output_type": "stream",
     "text": [
      " -> loading /import/kilauea-data/ROMY/RotationSpectra/data/run_2019_RGRF-Z_3600_run6/run_2019_RGRF-Z_3600_run6_daily_medians.pkl ...\n"
     ]
    }
   ],
   "source": [
    "idata1 = \"run6\"\n",
    "\n",
    "inname = f\"run_2019_RGRF-{config['component']}_3600_{idata1}\"\n",
    "inpath = f\"/import/kilauea-data/ROMY/RotationSpectra/data/{inname}/\"\n",
    "\n",
    "file = f\"{inpath}{inname}_daily_medians.pkl\"\n",
    "print(f\" -> loading {file} ...\")\n",
    "\n",
    "psds_gra = read_pickle(file)\n",
    "\n",
    "ff_gra = pickle.load(open(f\"{config['inpath']}{config['inname']}_frequency_axis.pkl\", 'rb'))\n",
    "\n",
    "psds_gra = __get_array_from_dataframe(psds_gra)\n",
    "\n",
    "psds_gra_minimal = __get_minimal_psd(array(psds_gra))\n",
    "psds_gra_median = __get_median_psd(array(psds_gra))\n",
    "#psds_gra_minimum = __get_minimum_psd(array(psds_gra), ff_gra)"
   ]
  },
  {
   "cell_type": "markdown",
   "id": "9d1c1107",
   "metadata": {
    "ExecuteTime": {
     "end_time": "2022-07-29T12:21:08.504897Z",
     "start_time": "2022-07-29T12:21:08.502869Z"
    }
   },
   "source": [
    "### Load data2"
   ]
  },
  {
   "cell_type": "code",
   "execution_count": 68,
   "id": "ca0e6354",
   "metadata": {
    "ExecuteTime": {
     "end_time": "2022-08-08T15:53:49.978149Z",
     "start_time": "2022-08-08T15:53:49.429791Z"
    }
   },
   "outputs": [
    {
     "name": "stdout",
     "output_type": "stream",
     "text": [
      " -> loading /import/kilauea-data/ROMY/RotationSpectra/data/run_2019_RGRF-Z_3600_run7/run_2019_RGRF-Z_3600_run7_daily_medians.pkl ...\n"
     ]
    }
   ],
   "source": [
    "idata2 = \"run7\"\n",
    "\n",
    "inname = f\"run_2019_RGRF-{config['component']}_3600_{idata2}\"\n",
    "inpath = f\"/import/kilauea-data/ROMY/RotationSpectra/data/{inname}/\"\n",
    "\n",
    "file = f\"{inpath}{inname}_daily_medians.pkl\"\n",
    "print(f\" -> loading {file} ...\")\n",
    "\n",
    "psds_grb = read_pickle(file)\n",
    "\n",
    "ff_grb = pickle.load(open(f\"{config['inpath']}{config['inname']}_frequency_axis.pkl\", 'rb'))\n",
    "\n",
    "psds_grb = __get_array_from_dataframe(psds_grb)\n",
    "\n",
    "psds_grb_minimal = __get_minimal_psd(array(psds_grb))\n",
    "psds_grb_median = __get_median_psd(array(psds_grb))\n",
    "#psds_grb_minimum = __get_minimum_psd(array(psds_grb), ff_grb)"
   ]
  },
  {
   "cell_type": "markdown",
   "id": "430df3d1",
   "metadata": {},
   "source": [
    "### Load data3"
   ]
  },
  {
   "cell_type": "code",
   "execution_count": 69,
   "id": "3744caa6",
   "metadata": {
    "ExecuteTime": {
     "end_time": "2022-08-08T15:53:50.546632Z",
     "start_time": "2022-08-08T15:53:49.979218Z"
    }
   },
   "outputs": [
    {
     "name": "stdout",
     "output_type": "stream",
     "text": [
      " -> loading /import/kilauea-data/ROMY/RotationSpectra/data/run_2019_RGRF-Z_3600_run8/run_2019_RGRF-Z_3600_run8_daily_medians.pkl ...\n"
     ]
    }
   ],
   "source": [
    "idata3 = \"run8\"\n",
    "\n",
    "inname = f\"run_2019_RGRF-{config['component']}_3600_{idata3}\"\n",
    "inpath = f\"/import/kilauea-data/ROMY/RotationSpectra/data/{inname}/\"\n",
    "\n",
    "file = f\"{inpath}{inname}_daily_medians.pkl\"\n",
    "print(f\" -> loading {file} ...\")\n",
    "\n",
    "psds_grc = read_pickle(file)\n",
    "\n",
    "ff_grc = pickle.load(open(f\"{config['inpath']}{config['inname']}_frequency_axis.pkl\", 'rb'))\n",
    "\n",
    "psds_grc = __get_array_from_dataframe(psds_grc)\n",
    "\n",
    "psds_grc_minimal = __get_minimal_psd(array(psds_grc))\n",
    "psds_grc_median = __get_median_psd(array(psds_grc))\n",
    "#psds_grc_minimum = __get_minimum_psd(array(psds_grc), ff_grc)"
   ]
  },
  {
   "cell_type": "markdown",
   "id": "664cfd9e",
   "metadata": {},
   "source": [
    "### Load data4"
   ]
  },
  {
   "cell_type": "code",
   "execution_count": 75,
   "id": "00864daa",
   "metadata": {
    "ExecuteTime": {
     "end_time": "2022-08-08T15:54:33.021245Z",
     "start_time": "2022-08-08T15:54:32.440088Z"
    }
   },
   "outputs": [
    {
     "name": "stdout",
     "output_type": "stream",
     "text": [
      " -> loading /import/kilauea-data/ROMY/RotationSpectra/data/run_2019_RGRF-Z_3600_run9/run_2019_RGRF-Z_3600_run9_daily_medians.pkl ...\n"
     ]
    }
   ],
   "source": [
    "idata4 = \"run9\"\n",
    "\n",
    "\n",
    "inname = f\"run_2019_RGRF-{config['component']}_3600_{idata4}\"\n",
    "inpath = f\"/import/kilauea-data/ROMY/RotationSpectra/data/{inname}/\"\n",
    "\n",
    "file = f\"{inpath}{inname}_daily_medians.pkl\"\n",
    "print(f\" -> loading {file} ...\")\n",
    "\n",
    "psds_grf = read_pickle(file)\n",
    "\n",
    "ff_grf = pickle.load(open(f\"{config['inpath']}{config['inname']}_frequency_axis.pkl\", 'rb'))\n",
    "\n",
    "psds_grf = __get_array_from_dataframe(psds_grf)\n",
    "\n",
    "psds_grf_minimal = __get_minimal_psd(array(psds_grf))\n",
    "psds_grf_median = __get_median_psd(array(psds_grf))\n",
    "#psds_grf_minimum = __get_minimum_psd(array(psds_grf), ff_grf)"
   ]
  },
  {
   "cell_type": "markdown",
   "id": "19830098",
   "metadata": {},
   "source": [
    "Cut to frequency axis and matrices to frequency limits as specified in config"
   ]
  },
  {
   "cell_type": "code",
   "execution_count": 76,
   "id": "d0252962",
   "metadata": {
    "ExecuteTime": {
     "end_time": "2022-08-08T15:54:33.025550Z",
     "start_time": "2022-08-08T15:54:33.022300Z"
    },
    "code_folding": [
     0
    ]
   },
   "outputs": [],
   "source": [
    "def __cut_frequencies(ff, psds):\n",
    "    ind = []\n",
    "    for i,f in enumerate(ff):\n",
    "        if f >= config['frequency_limits'][0] and f <= config['frequency_limits'][1]:\n",
    "            ind.append(i)\n",
    "\n",
    "    ff = ff[ind[0]:ind[-1]]\n",
    "    psds = psds[:,ind[0]:ind[-1]]\n",
    "\n",
    "    return ff, psds"
   ]
  },
  {
   "cell_type": "code",
   "execution_count": 77,
   "id": "8a0cdecd",
   "metadata": {
    "ExecuteTime": {
     "end_time": "2022-08-08T15:54:33.038382Z",
     "start_time": "2022-08-08T15:54:33.027099Z"
    },
    "code_folding": [
     0
    ]
   },
   "outputs": [],
   "source": [
    "def __save_df(ff, psds_minimal, psds_median):\n",
    "\n",
    "    out_df = DataFrame()\n",
    "\n",
    "    out_df['frequencies'] = ff\n",
    "    out_df['minimal'] = psds_minimal\n",
    "    out_df['median'] = psds_median\n",
    "\n",
    "    print(f\" -> storing to {config['inpath']}{config['inname']}_stats.pkl\")\n",
    "    out_df.to_pickle(f\"{config['inpath']}{config['inname']}_stats.pkl\")"
   ]
  },
  {
   "cell_type": "markdown",
   "id": "086fd5d0",
   "metadata": {},
   "source": [
    "## Plotting"
   ]
  },
  {
   "cell_type": "code",
   "execution_count": 73,
   "id": "ce64c931",
   "metadata": {
    "ExecuteTime": {
     "end_time": "2022-08-08T15:53:51.164308Z",
     "start_time": "2022-08-08T15:53:51.152462Z"
    },
    "code_folding": [
     0
    ]
   },
   "outputs": [],
   "source": [
    "def __makeplot_colorlines(config, ff_gra, psds_gra, ff_grb, psds_grb, ff_grc, psds_grc, ff_grf, psds_grf):\n",
    "\n",
    "    from numpy import isnan, median, mean, std, array\n",
    "    from scipy.stats import median_abs_deviation as mad\n",
    "    \n",
    "    \n",
    "        \n",
    "    ##____________________________\n",
    "    \n",
    "    fig, ax = plt.subplots(1,1, figsize=(15,10), sharey=False, sharex=True)\n",
    "\n",
    "    font = 15\n",
    "\n",
    "\n",
    "#     for n, psd in enumerate(psds_gra):\n",
    "#         ax.loglog(1/ff_gra[1:], psd[1:], color='blue', alpha=0.2)\n",
    "\n",
    "#     for n, psd in enumerate(psds_grb):\n",
    "#         ax.loglog(1/ff_grb[1:], psd[1:], color='red', alpha=0.2)\n",
    "\n",
    "#     for n, psd in enumerate(psds_grc):\n",
    "#         ax.loglog(1/ff_grc[1:], psd[1:], color='green', alpha=0.2)\n",
    "\n",
    "    for n, psd in enumerate(psds_grf):\n",
    "        ax.loglog(1/ff_grf[1:], psd[1:], color='black', alpha=0.2)\n",
    "        \n",
    "    ax.loglog(1/ff_gra[1:], __get_median_psd(psds_gra)[1:], 'blue', zorder=3, alpha=0.9, label=idata1)\n",
    "    ax.loglog(1/ff_grb[1:], __get_median_psd(psds_grb)[1:], 'red', zorder=3, alpha=0.9, label=idata2)\n",
    "    ax.loglog(1/ff_grc[1:], __get_median_psd(psds_grc)[1:], 'green', zorder=3, alpha=0.9, label=idata3)\n",
    "    ax.loglog(1/ff_grf[1:], __get_median_psd(psds_grf)[1:], 'black', zorder=3, alpha=0.9, label=idata4)\n",
    "\n",
    "    ## theoretical rlnm\n",
    "    rlnm = read_csv(\"/export/data/LNM/data/MODELS/rlnm_theory.csv\")\n",
    "    ax.loglog(rlnm['period'], rlnm['rlnm_psd_median'], color=\"grey\", zorder=2, lw=2, label=\"RLNM\")\n",
    "\n",
    "    \n",
    "        \n",
    "    ax.set_title(f\"Comparison Gräfenberg Arrays ADR  -  {config['component']}-component\", fontsize=font)\n",
    "\n",
    "    ax.legend(fontsize=font-1)\n",
    "\n",
    "#     ax.set_xlabel(\"Frequency (Hz)\", fontsize=font)\n",
    "    ax.set_xlabel(\"Period (s)\", fontsize=font)\n",
    "\n",
    "    ax.set_ylabel(r\"PSD (rad$^2$/s$^2$/$Hz)$\", fontsize=font)\n",
    "    \n",
    "    ax.grid(True, which=\"both\", ls=\"-\", alpha=0.5)\n",
    "    \n",
    "    ax.set_xlim(1, 200)\n",
    "    ax.set_ylim(1e-26, 1e-20)\n",
    "\n",
    "\n",
    "    plt.show();    \n",
    "    return fig"
   ]
  },
  {
   "cell_type": "code",
   "execution_count": 74,
   "id": "d5a44ac1",
   "metadata": {
    "ExecuteTime": {
     "end_time": "2022-08-08T15:53:53.496552Z",
     "start_time": "2022-08-08T15:53:51.165304Z"
    },
    "code_folding": []
   },
   "outputs": [
    {
     "data": {
      "image/png": "[encoded data removed]",
      "text/plain": [
       "<Figure size 1080x720 with 1 Axes>"
      ]
     },
     "metadata": {
      "needs_background": "light"
     },
     "output_type": "display_data"
    }
   ],
   "source": [
    "fig = __makeplot_colorlines(config, ff_gra, psds_gra, ff_grb, psds_grb, ff_grc, psds_grc, ff_grf, psds_grf)"
   ]
  },
  {
   "cell_type": "code",
   "execution_count": null,
   "id": "0c2052ef",
   "metadata": {
    "ExecuteTime": {
     "end_time": "2022-08-08T15:10:44.199458Z",
     "start_time": "2022-08-08T15:10:44.195826Z"
    }
   },
   "outputs": [],
   "source": []
  },
  {
   "cell_type": "code",
   "execution_count": null,
   "id": "d9afe866",
   "metadata": {},
   "outputs": [],
   "source": []
  },
  {
   "cell_type": "code",
   "execution_count": null,
   "id": "b74c578f",
   "metadata": {},
   "outputs": [],
   "source": []
  }
 ],
 "metadata": {
  "kernelspec": {
   "display_name": "Python 3",
   "language": "python",
   "name": "python3"
  },
  "language_info": {
   "codemirror_mode": {
    "name": "ipython",
    "version": 3
   },
   "file_extension": ".py",
   "mimetype": "text/x-python",
   "name": "python",
   "nbconvert_exporter": "python",
   "pygments_lexer": "ipython3",
   "version": "3.7.8"
  },
  "latex_envs": {
   "LaTeX_envs_menu_present": true,
   "autoclose": false,
   "autocomplete": true,
   "bibliofile": "biblio.bib",
   "cite_by": "apalike",
   "current_citInitial": 1,
   "eqLabelWithNumbers": true,
   "eqNumInitial": 1,
   "hotkeys": {
    "equation": "Ctrl-E",
    "itemize": "Ctrl-I"
   },
   "labels_anchors": false,
   "latex_user_defs": false,
   "report_style_numbering": false,
   "user_envs_cfg": false
  },
  "toc": {
   "base_numbering": 1,
   "nav_menu": {},
   "number_sections": true,
   "sideBar": true,
   "skip_h1_title": false,
   "title_cell": "Table of Contents",
   "title_sidebar": "Contents",
   "toc_cell": false,
   "toc_position": {},
   "toc_section_display": true,
   "toc_window_display": false
  }
 },
 "nbformat": 4,
 "nbformat_minor": 5
}
