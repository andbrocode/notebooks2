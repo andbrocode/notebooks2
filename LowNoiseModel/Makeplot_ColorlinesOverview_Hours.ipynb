{
 "cells": [
  {
   "cell_type": "markdown",
   "id": "eda030d3",
   "metadata": {},
   "source": [
    "# Analyse Rotation Spectra - Colorlines Overview Hours\n"
   ]
  },
  {
   "cell_type": "markdown",
   "id": "protected-presentation",
   "metadata": {},
   "source": [
    "## Load Libraries"
   ]
  },
  {
   "cell_type": "code",
   "execution_count": 2,
   "id": "behind-arrangement",
   "metadata": {
    "ExecuteTime": {
     "end_time": "2022-11-29T14:45:05.133043Z",
     "start_time": "2022-11-29T14:45:05.125761Z"
    }
   },
   "outputs": [],
   "source": [
    "from andbro__querrySeismoData import __querrySeismoData\n",
    "from obspy import UTCDateTime\n",
    "from scipy.signal import welch\n",
    "from numpy import log10, zeros, pi, append, linspace, mean, median, array, where, transpose, shape, histogram, arange\n",
    "from numpy import logspace, linspace, log, log10, isinf, ones, nan, count_nonzero, sqrt, isnan\n",
    "from pandas import DataFrame, concat, Series, date_range, read_csv, read_pickle\n",
    "from tqdm import tqdm_notebook\n",
    "from pathlib import Path\n",
    "from scipy.stats import median_absolute_deviation as mad\n",
    "\n",
    "import os\n",
    "import pickle\n",
    "import matplotlib.pyplot as plt"
   ]
  },
  {
   "cell_type": "code",
   "execution_count": 3,
   "id": "cfe860f0",
   "metadata": {
    "ExecuteTime": {
     "end_time": "2022-11-29T14:45:05.323416Z",
     "start_time": "2022-11-29T14:45:05.319904Z"
    }
   },
   "outputs": [],
   "source": [
    "if os.uname().nodename == \"lighthouse\":\n",
    "    root_path = \"/home/andbro/kilauea-data/\"\n",
    "elif os.uname().nodename == \"kilauea\":\n",
    "    root_path = \"/import/kilauea-data/\""
   ]
  },
  {
   "cell_type": "code",
   "execution_count": 4,
   "id": "e4858b93",
   "metadata": {
    "ExecuteTime": {
     "end_time": "2022-11-29T14:45:05.491178Z",
     "start_time": "2022-11-29T14:45:05.486446Z"
    },
    "code_folding": [
     0
    ]
   },
   "outputs": [],
   "source": [
    "def __get_minimal_psd(psds):\n",
    "\n",
    "    from numpy import nanmin, array, nonzero\n",
    "    \n",
    "    min_psd = zeros(psds.shape[1])\n",
    "    \n",
    "    for f in range(psds.shape[1]):\n",
    "        a = psds[:,f]\n",
    "        min_psd[f] = nanmin(a[nonzero(a)])\n",
    "    \n",
    "    return min_psd"
   ]
  },
  {
   "cell_type": "code",
   "execution_count": 5,
   "id": "d377053c",
   "metadata": {
    "ExecuteTime": {
     "end_time": "2022-11-29T14:45:06.151088Z",
     "start_time": "2022-11-29T14:45:06.144806Z"
    },
    "code_folding": [
     0
    ]
   },
   "outputs": [],
   "source": [
    "def __get_median_psd(psds):\n",
    "\n",
    "    from numpy import median, zeros, isnan\n",
    "\n",
    "    med_psd = zeros(psds.shape[1])\n",
    "\n",
    "    for f in range(psds.shape[1]):\n",
    "        a = psds[:,f]\n",
    "        med_psd[f] = median(a[~isnan(a)])\n",
    "\n",
    "    return med_psd"
   ]
  },
  {
   "cell_type": "code",
   "execution_count": 6,
   "id": "af6a3772",
   "metadata": {
    "ExecuteTime": {
     "end_time": "2022-11-29T14:45:06.326991Z",
     "start_time": "2022-11-29T14:45:06.321101Z"
    },
    "code_folding": [
     0
    ]
   },
   "outputs": [],
   "source": [
    "def __get_minimum_psd(psds, f_tmp):\n",
    "    \n",
    "    from numpy import median\n",
    "    \n",
    "    f_before = f_tmp[0]\n",
    "    f_tmp[0] = 1e-9\n",
    "    \n",
    "    for i, psd in enumerate(psds):\n",
    "        if i == 0: \n",
    "            lowest_value = (psds[0]/f_tmp).sum()\n",
    "#             lowest_value = median(psds[0]/f_tmp)\n",
    "            idx = 0\n",
    "\n",
    "        value = (psd/f_tmp).sum() \n",
    "#         value = median(psd/f_tmp)\n",
    "        \n",
    "        if value < lowest_value and value != 0:\n",
    "            lowest_value = value\n",
    "            idx = i\n",
    "\n",
    "    f_tmp[0] = f_before      \n",
    "    \n",
    "    return psds[idx]"
   ]
  },
  {
   "cell_type": "code",
   "execution_count": 7,
   "id": "df484686",
   "metadata": {
    "ExecuteTime": {
     "end_time": "2022-11-29T14:45:06.457536Z",
     "start_time": "2022-11-29T14:45:06.455038Z"
    },
    "code_folding": [
     0
    ]
   },
   "outputs": [],
   "source": [
    "# def __write_to_csv(data, text, config):\n",
    "    \n",
    "#     import csv\n",
    "    \n",
    "#     opath = config['outpath']\n",
    "#     oname = config['outname']+\"_\"+text+\"_psd.csv\"\n",
    "    \n",
    "#     # open the file in the write mode\n",
    "#     with open(opath+oname, 'w') as file:\n",
    "\n",
    "#         writer = csv.writer(file)\n",
    "#         for row in data:\n",
    "#             writer.writerow(row)\n",
    "            \n",
    "#     if Path(opath+oname).exists():\n",
    "#         print(f\"created: {opath}{oname}\")"
   ]
  },
  {
   "cell_type": "code",
   "execution_count": 8,
   "id": "fe2e4201",
   "metadata": {
    "ExecuteTime": {
     "end_time": "2022-11-29T14:45:06.629106Z",
     "start_time": "2022-11-29T14:45:06.619454Z"
    },
    "code_folding": [
     0
    ]
   },
   "outputs": [],
   "source": [
    "def __load_psds(file, config):\n",
    "\n",
    "    ## get data to dataframe and transpose and reindex\n",
    "    df = read_csv(file, index_col=False)\n",
    "    df = df.transpose()\n",
    "    df.reset_index(inplace=True)\n",
    "    # df.dtypes\n",
    "    # df.mean()\n",
    "\n",
    "    ## set column names\n",
    "    try:\n",
    "        columns = pickle.load(open(f\"{config['inpath']}{config['inname']}_columns.pick\", 'rb'))\n",
    "        df.columns = [column.replace(\"-\",\"\") for column in columns]\n",
    "    except:\n",
    "        columns = arange(0,df.shape[1]).astype(str)\n",
    "        df.columns = columns\n",
    "        print(\" -> Failed to assign column names! Assigned numbers instead!\")\n",
    "\n",
    "    ## check for column dublicates\n",
    "    if len(df.columns.unique()) != len(df.columns):\n",
    "        print(f\" -> removing {len(df.columns)-len(df.columns.unique())} column dublicate(s)!\")\n",
    "        df = df.loc[:,~df.columns.duplicated()]\n",
    "\n",
    "    count=0\n",
    "    dates_expected = date_range(config['date1'].date, config['date2'].date, periods=int((config['date2']-config['date1'])/86400)+1)\n",
    "    for dex in dates_expected:\n",
    "        dex=str(dex.isoformat()[:10]).replace(\"-\",\"\")\n",
    "        if not dex in df.columns:\n",
    "            count+=1\n",
    "    print(f\" -> missing {count} days\")\n",
    "        \n",
    "    print(f\" -> total of {df.shape[0]} psds\")\n",
    "        \n",
    "#     ## convert to list\n",
    "#     psds = []\n",
    "#     for col in array(df.columns):\n",
    "        \n",
    "#         ## turn non-float series to float objects\n",
    "#         df[col] = pd.to_numeric(df[col], errors = 'coerce')\n",
    "\n",
    "#         ## add to psds list\n",
    "#         psds.append(array(df[col]))\n",
    "        \n",
    "    return df"
   ]
  },
  {
   "cell_type": "code",
   "execution_count": 9,
   "id": "d4ffd698",
   "metadata": {
    "ExecuteTime": {
     "end_time": "2022-11-29T14:45:06.772796Z",
     "start_time": "2022-11-29T14:45:06.767147Z"
    },
    "code_folding": [
     0
    ]
   },
   "outputs": [],
   "source": [
    "def __get_array_from_dataframe(df):\n",
    "    \n",
    "    from pandas import to_numeric\n",
    "    \n",
    "    ## convert to list\n",
    "    psds = []\n",
    "    for col in array(df.columns):\n",
    "        \n",
    "        ## turn non-float series to float objects\n",
    "        df[col] = to_numeric(df[col], errors = 'coerce')\n",
    "\n",
    "        ## add to psds list\n",
    "        psds.append(array(df[col]))\n",
    "\n",
    "    return array(psds)"
   ]
  },
  {
   "cell_type": "code",
   "execution_count": 10,
   "id": "21d2d997",
   "metadata": {
    "ExecuteTime": {
     "end_time": "2022-11-29T14:45:07.519764Z",
     "start_time": "2022-11-29T14:45:07.515329Z"
    },
    "code_folding": [
     0
    ]
   },
   "outputs": [],
   "source": [
    "# def __remove_noisy_psds(df, threshold_mean=1e-13):\n",
    "\n",
    "#     from numpy import delete\n",
    "    \n",
    "#     l1 = len(df.columns)\n",
    "#     for col in df.columns:\n",
    "# #         print(col, type(col))\n",
    "#         if df[col].astype(float).mean() > threshold_mean:\n",
    "#             df = df.drop(columns=col)\n",
    "#     l2 = len(df.columns)\n",
    "#     print(f\" -> removed {l1-l2} columns due to mean thresholds!\")\n",
    "#     print(f\" -> {l2} psds remain\")\n",
    "    \n",
    "#     return df"
   ]
  },
  {
   "cell_type": "code",
   "execution_count": 11,
   "id": "b86aa31f",
   "metadata": {
    "ExecuteTime": {
     "end_time": "2022-11-29T14:45:08.345313Z",
     "start_time": "2022-11-29T14:45:07.712388Z"
    }
   },
   "outputs": [
    {
     "data": {
      "text/plain": [
       "['2022',\n",
       " 'run_2019_RPFO-E_3600_test',\n",
       " 'run_2019_RPFO-Z_3600_test',\n",
       " 'run_2019_RGRF-E_3600_GRA',\n",
       " 'run_2019_RGRF-Z_3600_run6',\n",
       " 'run_2019_WET-Z_3600',\n",
       " 'run_2019_RPFO-Z_3600',\n",
       " 'run_2019_RGRF-Z_3600_run1',\n",
       " 'run_2019_RGRF-Z_3600_GRB1',\n",
       " 'run_2019_ROMY-W_3600_hours',\n",
       " 'FINAL',\n",
       " 'run_2019_RGRF-Z_3600_run3',\n",
       " 'run_2019_ROMY-Z_3600_testday',\n",
       " 'run_2019_RPFO-Z_3600_control',\n",
       " 'run_2019_RGRF-N_3600_run8',\n",
       " 'run_2019_ROMY_ADR-Z_3600_all',\n",
       " 'run_2019_RRMY-N_3600_inner',\n",
       " 'run_2019_FUR-Z_3600',\n",
       " 'run_2019_RGRF-N_3600_run9',\n",
       " 'run_2019_RGRF-N_3600_GRB',\n",
       " 'run_2019_RGRF-Z_3600_run8',\n",
       " 'run_2019_ROMY_ADR-Z_3600_inner',\n",
       " 'run_2019_RGRF-Z_3600_GRB',\n",
       " 'run_2019_ROMY-V_3600_hours',\n",
       " 'run_2019_RLAS-Z_3600_hours',\n",
       " 'run_2019_RGRF-Z_3600_run5',\n",
       " 'run_2019_RGRF-Z_3600_GRC2',\n",
       " 'run_2019_RGRF-N_3600_GRA1',\n",
       " 'run_2019_ROMY-Z_3600_2hours',\n",
       " 'run_2019_WET-Z_3600_hours',\n",
       " 'run_2019_ROMY_ADR-Z_3600',\n",
       " 'run_2019_RGRF-Z_3600_run2',\n",
       " 'run_2019_RGRF-Z_3600_GRC',\n",
       " 'run_2019_RGRF-E_3600_GRA2',\n",
       " 'run_2019_ROMY_ADR-Z_3600_classic',\n",
       " 'run_2019_RGRF-Z_3600_GRF',\n",
       " 'run_2019_ROMY_ADR-E_3600_all',\n",
       " 'run_2019_RGRF-Z_3600_GRA2',\n",
       " 'run_2019_RGRF-N_3600_GRF1',\n",
       " 'run_2019_ROMY-Z_3600_hours',\n",
       " 'run_2019_RGRF-E_3600_GRC2',\n",
       " 'run_2019_RGRF-N_3600_GRF2',\n",
       " 'run_2019_WET-Z_3600_testday',\n",
       " 'run_2019_RRMY-N_3600_optimal',\n",
       " 'run_2019_RGRF-N_3600_GRF3',\n",
       " 'run_2019_RPFO-E_3600_PFO',\n",
       " 'run_2019_RGRF-N_3600_GRC',\n",
       " 'run_2019_RGRF-N_3600_GRC1',\n",
       " 'run_2019_RPFO-N_3600_PFO',\n",
       " 'run_2019_RGRF-N_3600_run7',\n",
       " 'run_2019_RGRF-N_3600_GRA',\n",
       " 'run_2019_RGRF-N_3600_GRF',\n",
       " 'run_2019_ROMY_ADR-E_3600_inner',\n",
       " 'run_2019_RGRF-Z_3600_GRF2',\n",
       " 'run_2019_RRMY-Z_3600_inner',\n",
       " 'run_2019_RRMY-Z_3600_optimal',\n",
       " 'run_2019_RGRF-Z_3600_run9',\n",
       " 'run_2019_ROMY-U_3600_hours',\n",
       " 'run_2019_RGRF-N_3600_GRA2',\n",
       " 'run_2019_ROMY_ADR-N_3600_optimal',\n",
       " 'run_2019_ROMY-Z_3600',\n",
       " '2021',\n",
       " 'run_2019_RGRF-E_3600_GRB',\n",
       " 'run_2019_RPFO-N_3600_test',\n",
       " 'run_2019_RGRF-N_3600_GRC2',\n",
       " 'run_2019_RGRF-E_3600_GRA1',\n",
       " 'run_2019_RGRF-Z_3600_run4',\n",
       " 'run_2019_RGRF-Z_3600_run10',\n",
       " 'run_2019_FUR-Z_3600_testday',\n",
       " 'run_2019_RGRF-Z_3600_GRF1',\n",
       " 'run_2019_ROMY_ADR-Z_3600_optimal',\n",
       " 'run_2019_RGRF-Z_3600_GRB2',\n",
       " 'run_2019_GRF-Z_3600_WET',\n",
       " 'run_2019_RGRF-E_3600_GRF3',\n",
       " 'overview',\n",
       " 'run_2019_RGRF-Z_3600_run7',\n",
       " 'run_2019_RLAS-Z_3600_testday',\n",
       " 'run_2019_RGRF-N_3600_run11',\n",
       " 'run_2019_RGRF-N_3600_run6',\n",
       " 'run_2019_RGRF-E_3600_GRF',\n",
       " 'testinterval',\n",
       " 'run_2019_RPFO-N_3600',\n",
       " 'run_2019_RGRF-N_3600_run10',\n",
       " 'run_2019_RGRF-E_3600_GRF1',\n",
       " 'run_2019_ROMY-E_3600',\n",
       " 'run_2019_ROMY-Z_3600_inner',\n",
       " 'run_2019_RGRF-_3600_GRA2',\n",
       " 'run_2019_RGRF-E_3600_GRC',\n",
       " 'run_2019_RGRF-N_3600_GRB1',\n",
       " 'run_2019_ROMY_ADR-N_3600_inner',\n",
       " 'run_2019_RRMY-E_3600_optimal',\n",
       " 'run_2019_ROMY_ADR-E_3600_optimal',\n",
       " 'run_2019_RGRF-E_3600_GRB1',\n",
       " 'run_2019_RGRF-E_3600_GRB2',\n",
       " 'run_2019_RGRF-E_3600_GRF2',\n",
       " 'run_2019_RGRF-N_3600_GRB2',\n",
       " 'run_2019_ROMY_ADR-N_3600_all',\n",
       " 'run_2019_RGRF-E_3600_GRC1',\n",
       " 'run_2019_RGRF-Z_3600_GRA',\n",
       " 'run_2019_RPFO-Z_3600_PFO',\n",
       " 'run_2019_RGRF-Z_3600_GRA1',\n",
       " 'run_2019_RRMY-E_3600_inner',\n",
       " 'run_2019_RPFO-E_3600',\n",
       " 'run_2019_RLAS-Z_3600',\n",
       " 'run_2019_ROMY_ADR-E_3600',\n",
       " 'run_2019_RGRF-Z_3600_GRC1',\n",
       " 'run_2019_FUR-Z_3600_hours',\n",
       " 'run_2019_RGRF-N_3600_run']"
      ]
     },
     "execution_count": 11,
     "metadata": {},
     "output_type": "execute_result"
    }
   ],
   "source": [
    "os.listdir( f\"{root_path}ROMY/RotationSpectra/data/\" )"
   ]
  },
  {
   "cell_type": "markdown",
   "id": "subject-expression",
   "metadata": {},
   "source": [
    "## Configurations"
   ]
  },
  {
   "cell_type": "code",
   "execution_count": 16,
   "id": "e89d22a7",
   "metadata": {
    "ExecuteTime": {
     "end_time": "2022-11-29T15:23:37.945454Z",
     "start_time": "2022-11-29T15:23:36.698248Z"
    }
   },
   "outputs": [
    {
     "ename": "FileNotFoundError",
     "evalue": "[Errno 2] No such file or directory: '/home/andbro/kilauea-data/ROMY/RotationSpectra/data/run_2019_FUR-N_3600_hours/run_2019_FUR-N_3600_hours_frequency_axis.pkl'",
     "output_type": "error",
     "traceback": [
      "\u001b[0;31m---------------------------------------------------------------------------\u001b[0m",
      "\u001b[0;31mFileNotFoundError\u001b[0m                         Traceback (most recent call last)",
      "\u001b[0;32m<ipython-input-16-2c1a124820c4>\u001b[0m in \u001b[0;36m<module>\u001b[0;34m\u001b[0m\n\u001b[1;32m     19\u001b[0m \u001b[0;31m## load frequencies\u001b[0m\u001b[0;34m\u001b[0m\u001b[0;34m\u001b[0m\u001b[0;34m\u001b[0m\u001b[0m\n\u001b[1;32m     20\u001b[0m \u001b[0mff_Z\u001b[0m \u001b[0;34m=\u001b[0m \u001b[0mpickle\u001b[0m\u001b[0;34m.\u001b[0m\u001b[0mload\u001b[0m\u001b[0;34m(\u001b[0m\u001b[0mopen\u001b[0m\u001b[0;34m(\u001b[0m\u001b[0;34mf\"{config['inpath'].replace('Z','Z')}{config['inname'].replace('Z','Z')}_frequency_axis.pkl\"\u001b[0m\u001b[0;34m,\u001b[0m \u001b[0;34m'rb'\u001b[0m\u001b[0;34m)\u001b[0m\u001b[0;34m)\u001b[0m\u001b[0;34m\u001b[0m\u001b[0;34m\u001b[0m\u001b[0m\n\u001b[0;32m---> 21\u001b[0;31m \u001b[0mff_N\u001b[0m \u001b[0;34m=\u001b[0m \u001b[0mpickle\u001b[0m\u001b[0;34m.\u001b[0m\u001b[0mload\u001b[0m\u001b[0;34m(\u001b[0m\u001b[0mopen\u001b[0m\u001b[0;34m(\u001b[0m\u001b[0;34mf\"{config['inpath'].replace('Z','N')}{config['inname'].replace('Z','N')}_frequency_axis.pkl\"\u001b[0m\u001b[0;34m,\u001b[0m \u001b[0;34m'rb'\u001b[0m\u001b[0;34m)\u001b[0m\u001b[0;34m)\u001b[0m\u001b[0;34m\u001b[0m\u001b[0;34m\u001b[0m\u001b[0m\n\u001b[0m\u001b[1;32m     22\u001b[0m \u001b[0mff_E\u001b[0m \u001b[0;34m=\u001b[0m \u001b[0mpickle\u001b[0m\u001b[0;34m.\u001b[0m\u001b[0mload\u001b[0m\u001b[0;34m(\u001b[0m\u001b[0mopen\u001b[0m\u001b[0;34m(\u001b[0m\u001b[0;34mf\"{config['inpath'].replace('Z','E')}{config['inname'].replace('Z','E')}_frequency_axis.pkl\"\u001b[0m\u001b[0;34m,\u001b[0m \u001b[0;34m'rb'\u001b[0m\u001b[0;34m)\u001b[0m\u001b[0;34m)\u001b[0m\u001b[0;34m\u001b[0m\u001b[0;34m\u001b[0m\u001b[0m\n",
      "\u001b[0;31mFileNotFoundError\u001b[0m: [Errno 2] No such file or directory: '/home/andbro/kilauea-data/ROMY/RotationSpectra/data/run_2019_FUR-N_3600_hours/run_2019_FUR-N_3600_hours_frequency_axis.pkl'"
     ]
    }
   ],
   "source": [
    "inname = \"run_2019_RGRF-Z_3600_GRF\"\n",
    "inname = \"run_2019_FUR-Z_3600_hours\"\n",
    "\n",
    "inpath = f\"{root_path}ROMY/RotationSpectra/data/{inname}/\"\n",
    "\n",
    "\n",
    "# config = pickle.load(open(inpath+inname+\"_config.pick\", 'rb'))\n",
    "config = pickle.load(open(inpath+inname+\"_config.pkl\", 'rb'))\n",
    "\n",
    "config['save'] = True\n",
    "\n",
    "config['inname'] = inname\n",
    "config['inpath'] = inpath\n",
    "\n",
    "config['rlnm_model_path'] = f\"{root_path}LNM/data/MODELS/\"\n",
    "\n",
    "config['frequency_limits'] = [1/200, 1]\n",
    "\n",
    "## load frequencies\n",
    "ff_Z = pickle.load(open(f\"{config['inpath'].replace('Z','Z')}{config['inname'].replace('Z','Z')}_frequency_axis.pkl\", 'rb'))\n",
    "ff_N = pickle.load(open(f\"{config['inpath'].replace('Z','N')}{config['inname'].replace('Z','N')}_frequency_axis.pkl\", 'rb'))\n",
    "ff_E = pickle.load(open(f\"{config['inpath'].replace('Z','E')}{config['inname'].replace('Z','E')}_frequency_axis.pkl\", 'rb'))"
   ]
  },
  {
   "cell_type": "markdown",
   "id": "natural-beginning",
   "metadata": {},
   "source": [
    "## Processing "
   ]
  },
  {
   "cell_type": "code",
   "execution_count": null,
   "id": "2d64a313",
   "metadata": {
    "ExecuteTime": {
     "end_time": "2022-09-15T23:40:27.481539Z",
     "start_time": "2022-09-15T23:40:27.473630Z"
    },
    "code_folding": [
     0
    ]
   },
   "outputs": [],
   "source": [
    "def __load_data_files(config, path):\n",
    "    \n",
    "    from tqdm.notebook import tqdm\n",
    "    from numpy import array\n",
    "    \n",
    "    config['files'] = [file for file in os.listdir(path) if \"hourly\" in file]\n",
    "    config['files'].sort()\n",
    "\n",
    "    psds_all, times = [],[]\n",
    "    for file in tqdm(config['files']):\n",
    "\n",
    "        date = file.split(\"_\")[4][5:]\n",
    "        psds_hourly = read_pickle(path+file)\n",
    "        \n",
    "        for h, psd in enumerate(psds_hourly):\n",
    "            psds_all.append(psd)\n",
    "            times.append(int(date+str(h).rjust(2,\"0\")))\n",
    "            \n",
    "#         psds_all.append(__get_minimum_psd(psds_hourly, ff))\n",
    "    return array(psds_all), times"
   ]
  },
  {
   "cell_type": "code",
   "execution_count": null,
   "id": "35510bc2",
   "metadata": {
    "ExecuteTime": {
     "end_time": "2022-09-16T00:58:33.713038Z",
     "start_time": "2022-09-15T23:40:27.745423Z"
    },
    "code_folding": []
   },
   "outputs": [],
   "source": [
    "ADR_Z, times_Z = __load_data_files(config, config['inpath'].replace(\"Z\",\"Z\"))\n",
    "\n",
    "# ADR_N, times_N = __load_data_files(config, config['inpath'].replace(\"Z\",\"N\"))\n",
    "\n",
    "# ADR_E, times_E = __load_data_files(config, config['inpath'].replace(\"Z\",\"E\"))"
   ]
  },
  {
   "cell_type": "code",
   "execution_count": null,
   "id": "18d0ef8b",
   "metadata": {
    "ExecuteTime": {
     "end_time": "2022-09-16T00:58:42.736027Z",
     "start_time": "2022-09-16T00:58:42.726277Z"
    }
   },
   "outputs": [],
   "source": [
    "ADR_Z"
   ]
  },
  {
   "cell_type": "code",
   "execution_count": null,
   "id": "f8c6ed80",
   "metadata": {
    "ExecuteTime": {
     "end_time": "2022-09-15T23:38:49.563321Z",
     "start_time": "2022-09-15T23:38:49.553923Z"
    },
    "code_folding": [
     0
    ]
   },
   "outputs": [],
   "source": [
    "# def __load_data_files(config, path):\n",
    "    \n",
    "#     from tqdm.notebook import tqdm\n",
    "#     from numpy import array\n",
    "#     from pandas import DataFrame, concat\n",
    "    \n",
    "#     config['files'] = [file for file in os.listdir(path) if \"hourly\" in file]\n",
    "#     config['files'].sort()\n",
    "\n",
    "#     psds_df = DataFrame()\n",
    "#     for n, file in enumerate(tqdm(config['files'])):\n",
    "\n",
    "#         date = file.split(\"_\")[4][5:]\n",
    "#         psds_hourly = read_pickle(path+file)\n",
    "        \n",
    "#         if n > 0:\n",
    "#             psds_df = concat([psds_df, psds_hourly])\n",
    "#         else:\n",
    "#             psds_df = psds_hourly\n",
    "#     return psds_df"
   ]
  },
  {
   "cell_type": "code",
   "execution_count": null,
   "id": "f2761ec4",
   "metadata": {
    "ExecuteTime": {
     "end_time": "2022-09-15T23:38:55.417581Z",
     "start_time": "2022-09-15T23:38:50.476838Z"
    }
   },
   "outputs": [],
   "source": [
    "# ADR_Z_df = __load_data_files(config, config['inpath'].replace(\"Z\",\"Z\"))\n",
    "\n",
    "# ADR_N_df = __load_data_files(config, config['inpath'].replace(\"Z\",\"N\"))\n",
    "\n",
    "# ADR_E_df = __load_data_files(config, config['inpath'].replace(\"Z\",\"E\"))"
   ]
  },
  {
   "cell_type": "code",
   "execution_count": null,
   "id": "1d9ee684",
   "metadata": {
    "ExecuteTime": {
     "end_time": "2022-09-15T21:58:43.750870Z",
     "start_time": "2022-09-15T21:57:34.619815Z"
    }
   },
   "outputs": [],
   "source": [
    "# ADR_Z_df = __load_data(config['inpath'].replace(\"Z\",\"Z\"), config['inname'].replace(\"Z\",\"Z\"))\n",
    "\n",
    "# ADR_N_df = __load_data(config['inpath'].replace(\"Z\",\"N\"), config['inname'].replace(\"Z\",\"N\"))\n",
    "\n",
    "# ADR_E_df = __load_data(config['inpath'].replace(\"Z\",\"E\"), config['inname'].replace(\"Z\",\"E\"))"
   ]
  },
  {
   "cell_type": "code",
   "execution_count": null,
   "id": "ebfa70de",
   "metadata": {
    "ExecuteTime": {
     "end_time": "2022-09-10T01:43:55.060109Z",
     "start_time": "2022-09-10T01:43:55.053842Z"
    },
    "code_folding": [
     0
    ]
   },
   "outputs": [],
   "source": [
    "def __cut_frequencies_dataframe(df_psd, fmin, fmax, freqs=None):\n",
    "    ind = []\n",
    "    if freqs is None:\n",
    "        frequencies = df_psd['frequencies']\n",
    "    else:\n",
    "        frequencies = freqs\n",
    "    \n",
    "    for i,f in enumerate(frequencies):    \n",
    "        if f >= fmin and f <= fmax:\n",
    "            ind.append(i)\n",
    "    df = df_psd.iloc[ind[0]:ind[-1],:]\n",
    "    df.reset_index(drop=True, inplace=True)\n",
    "    \n",
    "    if freqs is None:\n",
    "        ff_new = None\n",
    "    else:\n",
    "        ff_new = freqs[ind[0]:ind[-1]]\n",
    "        \n",
    "    print(df.shape, len(ff_new))\n",
    "    return df, ff_new"
   ]
  },
  {
   "cell_type": "code",
   "execution_count": null,
   "id": "04ae2fb2",
   "metadata": {
    "ExecuteTime": {
     "end_time": "2022-09-10T01:43:55.096632Z",
     "start_time": "2022-09-10T01:43:55.061352Z"
    }
   },
   "outputs": [],
   "source": [
    "ADR_Z_df, ff_Z = __cut_frequencies_dataframe(ADR_Z_df, 1/30, 1, freqs=ff_Z)\n",
    "ADR_N_df, ff_N = __cut_frequencies_dataframe(ADR_N_df, 1/30, 1, freqs=ff_N)\n",
    "ADR_E_df, ff_E = __cut_frequencies_dataframe(ADR_E_df, 1/30, 1, freqs=ff_E)"
   ]
  },
  {
   "cell_type": "code",
   "execution_count": null,
   "id": "d3eea5d7",
   "metadata": {
    "ExecuteTime": {
     "end_time": "2022-09-10T01:43:55.368840Z",
     "start_time": "2022-09-10T01:43:55.098283Z"
    }
   },
   "outputs": [],
   "source": [
    "ADR_Z = __get_array_from_dataframe(ADR_Z_df)\n",
    "ADR_N = __get_array_from_dataframe(ADR_N_df)\n",
    "ADR_E = __get_array_from_dataframe(ADR_E_df)"
   ]
  },
  {
   "cell_type": "code",
   "execution_count": null,
   "id": "2b8b1666",
   "metadata": {
    "ExecuteTime": {
     "end_time": "2022-09-10T01:43:55.371990Z",
     "start_time": "2022-09-10T01:43:55.369785Z"
    },
    "code_folding": []
   },
   "outputs": [],
   "source": [
    "# if \"RLAS-Z\" in config['inname'].split(\"_\"):\n",
    "#     psds_all = __remove_noisy_psds(psds_all, threshold_mean=1e-21)\n",
    "# elif \"ROMY-Z\" in config['inname'].split(\"_\"):\n",
    "#     psds_all = __remove_noisy_psds(psds_all, threshold_mean=1e-19)"
   ]
  },
  {
   "cell_type": "markdown",
   "id": "086fd5d0",
   "metadata": {},
   "source": [
    "## Plotting"
   ]
  },
  {
   "cell_type": "code",
   "execution_count": null,
   "id": "ce64c931",
   "metadata": {
    "ExecuteTime": {
     "end_time": "2022-09-16T00:58:48.270069Z",
     "start_time": "2022-09-16T00:58:48.253561Z"
    },
    "code_folding": [
     0
    ]
   },
   "outputs": [],
   "source": [
    "def __makeplot_colorlines(config, ff, psds, dates):\n",
    "\n",
    "#     from numpy import isnan, median, mean, std, array\n",
    "        \n",
    "    psds_median  = __get_median_psd(array(psds))\n",
    "    psds_minimal = __get_minimal_psd(array(psds))\n",
    "#     psds_minimum = __get_minimum_psd(array(psds), ff)\n",
    "    \n",
    "        \n",
    "    ##____________________________\n",
    "    \n",
    "    fig, ax = plt.subplots(1,1, figsize=(15,10), sharey=False, sharex=True)\n",
    "\n",
    "    font = 12\n",
    "\n",
    "    N = psds.shape[0]\n",
    "    colors = plt.cm.rainbow(linspace(0, 1, N))\n",
    "\n",
    "    for n, psd in enumerate(psds):\n",
    "        ax.loglog(ff, psd, color=colors[n], alpha=0.7)\n",
    "\n",
    "\n",
    "    ## add scatter for colorbar object only\n",
    "    for n, psd in enumerate(psds):\n",
    "        p2 = ax.scatter(ff[0], psd[0], s=0., c=n, cmap='rainbow', vmin=0, vmax=N)\n",
    "\n",
    "    ## plot statistics\n",
    "    ax.loglog(ff, psds_median, 'black', zorder=3, alpha=0.9)\n",
    "#     ax.loglog(ff, psds_minimal, 'black', zorder=2, alpha=1.0)\n",
    "#     ax.loglog(ff, psds_minimum, 'k', zorder=2, alpha=0.8)\n",
    "    \n",
    "    \n",
    "    ## theoretical rlnm\n",
    "    rlnm = read_csv(config['rlnm_model_path']+\"rlnm_theory.csv\")\n",
    "    ax.loglog(rlnm['period'], rlnm['rlnm_psd_median'], color=\"grey\", zorder=2, lw=2, label=\"RLNM\")\n",
    "    \n",
    "\n",
    "#     ax.set_title(\"Minimal PSD\", fontsize=font)\n",
    "#     ax.set_title(\"Minimum PSD\", fontsize=font)\n",
    "\n",
    "\n",
    "#     ax.set_xlabel(\"Frequency (Hz)\", fontsize=font)\n",
    "    ax.set_xlabel(\"Period (s)\", fontsize=font)\n",
    "\n",
    "    ax.set_ylabel(r\"PSD (rad$^2$/s$^2$/$Hz)$\", fontsize=font)\n",
    "    \n",
    "    ax.grid(True, which=\"both\", ls=\"-\", alpha=0.7)\n",
    "    \n",
    "    ax.set_xlim(1,200)\n",
    "    ax.set_ylim(1e-26,1e-20)\n",
    "    \n",
    "    ## set colorbar at bottom\n",
    "    cbar = fig.colorbar(p2, orientation='horizontal', ax=ax, aspect=50)\n",
    "\n",
    "    ## redefine ticks of colorbar\n",
    "    new_ticks=[]\n",
    "    for t in cbar.get_ticks(): \n",
    "        new_ticks.append(dates.astype(str)[int(t)])\n",
    "    cbar.ax.set_xticklabels(new_ticks)\n",
    "\n",
    "\n",
    "    plt.show();\n",
    "    \n",
    "    return fig"
   ]
  },
  {
   "cell_type": "code",
   "execution_count": null,
   "id": "d5a44ac1",
   "metadata": {
    "ExecuteTime": {
     "end_time": "2022-09-16T00:58:49.700209Z",
     "start_time": "2022-09-16T00:58:49.693735Z"
    },
    "code_folding": []
   },
   "outputs": [],
   "source": [
    "# fig, out = __makeplot_colorlines(config, 1/ff, GRF_Z, GRF_Z_df.columns)\n",
    "# fig, out = __makeplot_colorlines(config, 1/ff, GRF_N, GRF_N_df.columns)\n",
    "# fig, out = __makeplot_colorlines(config, 1/ff, GRF_E, GRF_E_df.columns)"
   ]
  },
  {
   "cell_type": "code",
   "execution_count": null,
   "id": "eec74dbe",
   "metadata": {
    "ExecuteTime": {
     "end_time": "2022-09-16T00:58:50.030196Z",
     "start_time": "2022-09-16T00:58:50.010297Z"
    },
    "code_folding": [
     0
    ]
   },
   "outputs": [],
   "source": [
    "def __makeplot_colorlines_overview(ff, psds, dates=None):\n",
    "    \n",
    "    from tqdm.notebook import tqdm\n",
    "    from numpy import isnan, median, mean, std, array, zeros\n",
    "    from scipy.stats import median_abs_deviation as mad\n",
    "    \n",
    "#     psds_median = __get_median_psd(array(psds))\n",
    "#     psds_minimal = __get_minimal_psd(array(psds))\n",
    "#     psds_minimum = __get_minimum_psd(array(psds), ff)\n",
    "\n",
    "    ## theoretical rlnm\n",
    "    rlnm = read_csv(config['rlnm_model_path']+\"rlnm_theory.csv\")\n",
    "\n",
    "    pp = zeros(len(ff))\n",
    "    pp[:-1] = 1/ff[1:]\n",
    "        \n",
    "    ##____________________________\n",
    "    \n",
    "    NN = 3\n",
    "    \n",
    "    fig, axes = plt.subplots(NN,1, figsize=(10,10), sharey=False, sharex=True)\n",
    "\n",
    "    font = 15\n",
    "\n",
    "    N = psds[0].shape[0]\n",
    "    colors = plt.cm.rainbow(linspace(0, 1, N))\n",
    "\n",
    "    for j in range(NN):\n",
    "        for n, psd in enumerate(tqdm(psds[j])):\n",
    "            axes[j].loglog(pp, psd, color=colors[n], alpha=0.7)\n",
    "            p2 = axes[j].scatter(ff[0], psd[0], s=0., c=n, cmap='rainbow', vmin=0, vmax=N)\n",
    " \n",
    "        axes[j].loglog(pp, __get_median_psd(psds[j]), 'black', zorder=3, alpha=0.9, label=\"Median\")\n",
    "        axes[j].loglog(rlnm['period'], rlnm['rlnm_psd_median'], color=\"black\", zorder=2, ls=\"--\", lw=2, label=\"RLNM\")\n",
    "        axes[j].set_ylabel(r\"PSD (rad$^2$/s$^2$/$Hz)$\", fontsize=font)\n",
    "        axes[j].grid(True, which=\"both\", ls=\"-\", alpha=0.5)\n",
    "        axes[j].set_xlim(1,30)\n",
    "        axes[j].set_ylim(1e-26, 1e-17)\n",
    "        axes[j].legend(loc='lower left')\n",
    "        axes[j].tick_params(labelsize=12)\n",
    "        \n",
    "#     ax.set_title(f\"{config['inname'].split('_')[2]} {config['inname'].split('_')[1]} ({len(psds)})\", fontsize=font)\n",
    "\n",
    "    axes[NN-1].set_xlabel(\"Period (s)\", fontsize=font)\n",
    "\n",
    "    \n",
    "    ## set colorbar at bottom\n",
    "    cbar = fig.colorbar(p2, orientation='vertical', ax=axes.ravel().tolist(), aspect=50)\n",
    "    \n",
    "    ## redefine ticks of colorbar\n",
    "    if dates is not None:\n",
    "        new_ticks = []\n",
    "        for t in cbar.get_ticks(): \n",
    "            new_ticks.append(dates.astype(str)[int(t)])\n",
    "        cbar.ax.set_yticklabels(new_ticks)\n",
    "\n",
    "\n",
    "    plt.show();    \n",
    "    return fig"
   ]
  },
  {
   "cell_type": "code",
   "execution_count": null,
   "id": "fa1067f8",
   "metadata": {
    "ExecuteTime": {
     "end_time": "2022-09-16T00:59:54.936377Z",
     "start_time": "2022-09-16T00:59:54.926445Z"
    }
   },
   "outputs": [],
   "source": [
    "tmp = linspace(0,len(ADR_Z),len(ADR_Z))"
   ]
  },
  {
   "cell_type": "code",
   "execution_count": null,
   "id": "4d7bf1f5",
   "metadata": {
    "ExecuteTime": {
     "start_time": "2022-09-16T00:59:59.604Z"
    }
   },
   "outputs": [],
   "source": [
    "fig = __makeplot_colorlines_overview(ff_Z, [ADR_Z, ADR_Z, ADR_Z], dates=tmp)"
   ]
  },
  {
   "cell_type": "markdown",
   "id": "biblical-alloy",
   "metadata": {},
   "source": [
    "## Calculate and Plot Density"
   ]
  },
  {
   "cell_type": "code",
   "execution_count": null,
   "id": "9c352b03",
   "metadata": {
    "ExecuteTime": {
     "end_time": "2022-05-09T09:20:02.277409Z",
     "start_time": "2022-05-09T09:19:58.515Z"
    }
   },
   "outputs": [],
   "source": [
    "# output = __calculate_density(psds, bins=100, density=True)"
   ]
  },
  {
   "cell_type": "code",
   "execution_count": null,
   "id": "4e5005fc",
   "metadata": {
    "ExecuteTime": {
     "end_time": "2022-05-09T09:20:02.278245Z",
     "start_time": "2022-05-09T09:19:58.516Z"
    },
    "code_folding": [
     0
    ]
   },
   "outputs": [],
   "source": [
    "# def __makeplot_PPSD(ff, output, config, mode=None):\n",
    "\n",
    "#     from matplotlib import colors\n",
    "#     from numpy import ones, convolve, array, log10, roll, sqrt\n",
    "\n",
    "#     bins, bins_medians, bins_maximas, dist = output['bin_mids'], output['bins_medians'], output['bins_maximas'], output['dist']\n",
    "    \n",
    "#     if mode is \"DB\":\n",
    "#         y_axis = 10*log10(bins)\n",
    "#     elif mode is \"PSD\":\n",
    "#         y_axis = bins\n",
    "#     elif mode is \"ASD\":\n",
    "#         y_axis = sqrt(bins)\n",
    "        \n",
    "#     x_axis = ff\n",
    "\n",
    "#     ## plotting\n",
    "#     fig, ax = plt.subplots(1,1,figsize=(13,6))\n",
    "\n",
    "#     font=14\n",
    "\n",
    "#     cmap = plt.cm.get_cmap('magma_r')\n",
    "# #     cmap = plt.cm.get_cmap('gray_r')\n",
    "#     cmap.set_under(color='white')\n",
    "\n",
    "#     im = plt.pcolor(x_axis, y_axis, dist.T, \n",
    "#                     cmap=cmap,\n",
    "#                     vmin=1e-12, \n",
    "#                     alpha=0.99,\n",
    "#                    )\n",
    "\n",
    "#     ## add Frequency Axis\n",
    "#     g = lambda x: 1/x\n",
    "#     ax2 = ax.secondary_xaxis(\"top\", functions=(g,g))\n",
    "#     ax2.set_xlabel(\"Frequency in Hz\", fontsize=font, labelpad=5)\n",
    "#     ax2.set_xticklabels(1/ff, fontsize=11)    \n",
    "    \n",
    "    \n",
    "#     if mode is \"DB\":\n",
    "#         plt.plot(x_axis, 10*log10(bins_medians), color='black', alpha=0.5, label=\"RNLM\")\n",
    "#         plt.ylim(-200, -80)\n",
    "\n",
    "#     elif mode is \"PSD\":\n",
    "#         plt.plot(x_axis, bins_medians, color='black', alpha=0.5, label=\"RNLM\")\n",
    "#         plt.yscale('log')\n",
    "#         plt.ylim(10**-20, 10**-13)\n",
    "  \n",
    "#     elif mode is \"ASD\":  \n",
    "#         plt.plot(x_axis, sqrt(bins_medians), color='black', alpha=0.5, label=\"RNLM\")\n",
    "#         plt.yscale('log')\n",
    "#         plt.ylim(10**-10, 2*10**-7)\n",
    "\n",
    "    \n",
    "# #     plt.fill_betweenx(range(-270, -140), x1=0, x2=2.5, color=\"grey\", alpha=0.4)\n",
    "# #     plt.fill_betweenx(range(-270, -140), x1=200, x2=max(ff), color=\"grey\", alpha=0.4)\n",
    "\n",
    "#     ## modify x-axis\n",
    "#     plt.xscale('log')\n",
    "#     plt.xlim([min(x_axis), max(x_axis)])\n",
    "# #     plt.xlim(1, 300)\n",
    "    \n",
    "#     ## add colorbar\n",
    "#     caxes = fig.add_axes()\n",
    "#     cb = plt.colorbar(im, cax=caxes, alpha=1.0)\n",
    "    \n",
    "#     if output['set_density']:\n",
    "#         cb.set_label(\"Propability Density\", fontsize=font)\n",
    "#     else:\n",
    "#         cb.set_label(\"Counts\", fontsize=font)\n",
    "#         cb.set_label(\"Propability Density\", fontsize=font)\n",
    "    \n",
    "#     if mode is \"DB\":\n",
    "# #         plt.ylabel(r\"PPSD in dB (rel. to 1 m$^4$/s$^2$/$Hz$)\", fontsize=font)\n",
    "#         plt.ylabel(r\"PPSD in dB (rel. to 1 rad$^2$/s$^2$/$Hz$)\", fontsize=font)\n",
    "#     elif mode is \"PSD\":\n",
    "# #         plt.ylabel(r\"PPSD in m$^4$/s$^2$/$Hz$\", fontsize=font)\n",
    "#         plt.ylabel(r\"PPSD in $\\frac{rad^2}{s^2 Hz}$\", fontsize=font)\n",
    "#     elif mode is \"ASD\":\n",
    "#         plt.ylabel(r\"PASD in $\\frac{rad}{s \\sqrt{Hz}}$\", fontsize=font)\n",
    "        \n",
    "#     plt.grid(axis=\"both\", which=\"both\", ls=\"--\", zorder=0)\n",
    "#     plt.legend()\n",
    "    \n",
    "#     plt.xlabel(\"Period in seconds\", fontsize=font)\n",
    "\n",
    "#     plt.tick_params(axis='both', labelsize=font-2)\n",
    "\n",
    "#     plt.show();\n",
    "#     return fig"
   ]
  },
  {
   "cell_type": "code",
   "execution_count": null,
   "id": "f25eeaa9",
   "metadata": {
    "ExecuteTime": {
     "end_time": "2022-05-09T09:20:02.278982Z",
     "start_time": "2022-05-09T09:19:58.518Z"
    }
   },
   "outputs": [],
   "source": [
    "# fig = __makeplot_PPSD(ff, output, config, mode=\"ASD\")"
   ]
  },
  {
   "cell_type": "code",
   "execution_count": null,
   "id": "bd06a81e",
   "metadata": {
    "ExecuteTime": {
     "end_time": "2022-05-04T14:08:39.999086Z",
     "start_time": "2022-05-04T14:08:39.995422Z"
    }
   },
   "outputs": [],
   "source": []
  },
  {
   "cell_type": "code",
   "execution_count": null,
   "id": "82aff0c2",
   "metadata": {},
   "outputs": [],
   "source": []
  }
 ],
 "metadata": {
  "kernelspec": {
   "display_name": "Python 3",
   "language": "python",
   "name": "python3"
  },
  "language_info": {
   "codemirror_mode": {
    "name": "ipython",
    "version": 3
   },
   "file_extension": ".py",
   "mimetype": "text/x-python",
   "name": "python",
   "nbconvert_exporter": "python",
   "pygments_lexer": "ipython3",
   "version": "3.7.8"
  },
  "latex_envs": {
   "LaTeX_envs_menu_present": true,
   "autoclose": false,
   "autocomplete": true,
   "bibliofile": "biblio.bib",
   "cite_by": "apalike",
   "current_citInitial": 1,
   "eqLabelWithNumbers": true,
   "eqNumInitial": 1,
   "hotkeys": {
    "equation": "Ctrl-E",
    "itemize": "Ctrl-I"
   },
   "labels_anchors": false,
   "latex_user_defs": false,
   "report_style_numbering": false,
   "user_envs_cfg": false
  },
  "toc": {
   "base_numbering": 1,
   "nav_menu": {},
   "number_sections": true,
   "sideBar": true,
   "skip_h1_title": false,
   "title_cell": "Table of Contents",
   "title_sidebar": "Contents",
   "toc_cell": false,
   "toc_position": {},
   "toc_section_display": true,
   "toc_window_display": false
  }
 },
 "nbformat": 4,
 "nbformat_minor": 5
}
