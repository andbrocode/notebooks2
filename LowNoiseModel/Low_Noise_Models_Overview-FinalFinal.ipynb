{
 "cells": [
  {
   "cell_type": "code",
   "execution_count": null,
   "id": "588d75af",
   "metadata": {},
   "outputs": [],
   "source": []
  },
  {
   "cell_type": "code",
   "execution_count": null,
   "id": "e7b06ffc",
   "metadata": {},
   "outputs": [],
   "source": []
  },
  {
   "cell_type": "markdown",
   "id": "4c680a6f",
   "metadata": {},
   "source": [
    "# Low Noise Models - Overview  - FinalFinal"
   ]
  },
  {
   "cell_type": "code",
   "execution_count": 1,
   "id": "7d2cf93a",
   "metadata": {
    "ExecuteTime": {
     "end_time": "2023-06-20T16:25:29.492448Z",
     "start_time": "2023-06-20T16:25:28.362127Z"
    }
   },
   "outputs": [],
   "source": [
    "from obspy import * \n",
    "from pandas import *\n",
    "from os import listdir\n",
    "from scipy.stats import median_absolute_deviation as mad\n",
    "\n",
    "import netCDF4 as nc\n",
    "import numpy as np\n",
    "\n",
    "import matplotlib.pyplot as plt\n",
    "\n",
    "import warnings\n",
    "warnings.filterwarnings('ignore')"
   ]
  },
  {
   "cell_type": "code",
   "execution_count": 2,
   "id": "ad4f91a7",
   "metadata": {
    "ExecuteTime": {
     "end_time": "2023-06-20T16:25:29.501069Z",
     "start_time": "2023-06-20T16:25:29.497334Z"
    },
    "code_folding": [
     0
    ]
   },
   "outputs": [],
   "source": [
    "def __cut_frequencies_dataframe(df_psd, fmin, fmax):\n",
    "    ind = []\n",
    "    for i,f in enumerate(df_psd['frequencies']):\n",
    "        if f >= fmin and f <= fmax:\n",
    "            ind.append(i)\n",
    "\n",
    "    df = df_psd.iloc[ind[0]:ind[-1],:]\n",
    "\n",
    "    return df"
   ]
  },
  {
   "cell_type": "code",
   "execution_count": 3,
   "id": "1e34e2dc",
   "metadata": {
    "ExecuteTime": {
     "end_time": "2023-06-20T16:25:29.507357Z",
     "start_time": "2023-06-20T16:25:29.503022Z"
    },
    "code_folding": [
     0
    ]
   },
   "outputs": [],
   "source": [
    "def __conversion(data, informat=None, outformat=None):\n",
    "    '''\n",
    "    data:                  array \n",
    "    informat/outformat:    ASD, PSD, DB\n",
    "    '''\n",
    "    from numpy import log10, sqrt\n",
    "    \n",
    "    \n",
    "    if informat == 'ASD' and outformat == 'PSD':\n",
    "        return data**2\n",
    "    \n",
    "    elif informat == 'PSD' and outformat == 'ASD':\n",
    "        return sqrt(data)\n",
    "\n",
    "    elif informat == 'ASD' and outformat == 'DB':\n",
    "        return 10*log10(data)\n",
    "    \n",
    "    elif informat == 'PSD' and outformat == 'DB':\n",
    "        return 10*log10(data)\n",
    "    \n",
    "    elif informat == 'DB' and outformat == 'PSD':\n",
    "        return 10**(data/10)\n",
    "    \n",
    "    elif informat == 'DB' and outformat == 'ASD':\n",
    "        return sqrt(10**(data/10))\n",
    "    \n",
    "    else:\n",
    "        print(\" -> specified case not defined!\")"
   ]
  },
  {
   "cell_type": "markdown",
   "id": "1081d561",
   "metadata": {},
   "source": [
    "## Configurations"
   ]
  },
  {
   "cell_type": "code",
   "execution_count": 4,
   "id": "df7647e3",
   "metadata": {
    "ExecuteTime": {
     "end_time": "2023-06-20T16:25:29.603092Z",
     "start_time": "2023-06-20T16:25:29.508951Z"
    }
   },
   "outputs": [
    {
     "ename": "FileNotFoundError",
     "evalue": "[Errno 2] No such file or directory: '/export/data/LNM/data/2018/'",
     "output_type": "error",
     "traceback": [
      "\u001b[0;31m---------------------------------------------------------------------------\u001b[0m",
      "\u001b[0;31mFileNotFoundError\u001b[0m                         Traceback (most recent call last)",
      "\u001b[0;32m/tmp/ipykernel_770926/184840183.py\u001b[0m in \u001b[0;36m<module>\u001b[0;34m\u001b[0m\n\u001b[1;32m      8\u001b[0m \u001b[0mconfig\u001b[0m\u001b[0;34m[\u001b[0m\u001b[0;34m'outdir_figures'\u001b[0m\u001b[0;34m]\u001b[0m \u001b[0;34m=\u001b[0m \u001b[0;34m\"/home/brotzer/Documents/ROMY/LowNoiseModel/figures/\"\u001b[0m\u001b[0;34m\u001b[0m\u001b[0;34m\u001b[0m\u001b[0m\n\u001b[1;32m      9\u001b[0m \u001b[0;34m\u001b[0m\u001b[0m\n\u001b[0;32m---> 10\u001b[0;31m \u001b[0mconfig\u001b[0m\u001b[0;34m[\u001b[0m\u001b[0;34m'spectra_files'\u001b[0m\u001b[0;34m]\u001b[0m \u001b[0;34m=\u001b[0m \u001b[0mlistdir\u001b[0m\u001b[0;34m(\u001b[0m\u001b[0mconfig\u001b[0m\u001b[0;34m[\u001b[0m\u001b[0;34m'datadir_spectra'\u001b[0m\u001b[0;34m]\u001b[0m\u001b[0;34m)\u001b[0m\u001b[0;34m\u001b[0m\u001b[0;34m\u001b[0m\u001b[0m\n\u001b[0m\u001b[1;32m     11\u001b[0m \u001b[0;34m\u001b[0m\u001b[0m\n\u001b[1;32m     12\u001b[0m \u001b[0;31m# config['outdir'] = config['workdir']+\"STATS/\"\u001b[0m\u001b[0;34m\u001b[0m\u001b[0;34m\u001b[0m\u001b[0;34m\u001b[0m\u001b[0m\n",
      "\u001b[0;31mFileNotFoundError\u001b[0m: [Errno 2] No such file or directory: '/export/data/LNM/data/2018/'"
     ]
    }
   ],
   "source": [
    "config = {}\n",
    "\n",
    "config['workdir'] = \"/import/data/LNM/data/\"\n",
    "\n",
    "config['year'] = \"2018\"\n",
    "config['datadir_spectra'] = config['workdir']+config['year']+\"/\"\n",
    "\n",
    "config['outdir_figures'] = \"/home/brotzer/Documents/ROMY/LowNoiseModel/figures/\"\n",
    "\n",
    "config['spectra_files'] = listdir(config['datadir_spectra'])\n",
    "\n",
    "# config['outdir'] = config['workdir']+\"STATS/\""
   ]
  },
  {
   "cell_type": "markdown",
   "id": "49175ad4",
   "metadata": {},
   "source": [
    "### Load RLNM Theory"
   ]
  },
  {
   "cell_type": "code",
   "execution_count": null,
   "id": "eedfff32",
   "metadata": {
    "ExecuteTime": {
     "end_time": "2023-06-20T16:25:29.606193Z",
     "start_time": "2023-06-20T16:25:29.606183Z"
    }
   },
   "outputs": [],
   "source": [
    "rlnm = read_csv(config['workdir']+\"MODELS/\"+\"rlnm_theory.csv\")\n",
    "\n",
    "periods = rlnm['period']\n",
    "rlnm_psd = rlnm['rlnm_psd_median']\n",
    "rlnm_psd_max = rlnm['rlnm_psd_maximum']\n",
    "rlnm_upper_psd = rlnm['rlnm_psd_upper']\n",
    "rlnm_lower_psd = rlnm['rlnm_psd_lower']"
   ]
  },
  {
   "cell_type": "code",
   "execution_count": null,
   "id": "cc371351",
   "metadata": {
    "ExecuteTime": {
     "end_time": "2023-06-20T16:25:29.607074Z",
     "start_time": "2023-06-20T16:25:29.607063Z"
    }
   },
   "outputs": [],
   "source": [
    "rlnm_db       = __conversion(rlnm_psd, informat='PSD', outformat='DB')\n",
    "rlnm_upper_db = __conversion(rlnm_upper_psd, informat='PSD', outformat='DB')\n",
    "rlnm_lower_db = __conversion(rlnm_lower_psd, informat='PSD', outformat='DB')"
   ]
  },
  {
   "cell_type": "markdown",
   "id": "38e2aeb9",
   "metadata": {
    "ExecuteTime": {
     "end_time": "2022-05-03T11:35:45.193815Z",
     "start_time": "2022-05-03T11:35:45.188184Z"
    }
   },
   "source": [
    "### RLAS Data"
   ]
  },
  {
   "cell_type": "code",
   "execution_count": null,
   "id": "9f696846",
   "metadata": {
    "ExecuteTime": {
     "end_time": "2023-06-20T16:25:29.607668Z",
     "start_time": "2023-06-20T16:25:29.607658Z"
    }
   },
   "outputs": [],
   "source": [
    "rlas = read_pickle(config['workdir']+\"STATS/\"+\"2019_RLAS-Z_hours_stats.pkl\")"
   ]
  },
  {
   "cell_type": "code",
   "execution_count": null,
   "id": "f5b6a297",
   "metadata": {
    "ExecuteTime": {
     "end_time": "2023-06-20T16:25:29.608675Z",
     "start_time": "2023-06-20T16:25:29.608664Z"
    }
   },
   "outputs": [],
   "source": [
    "rlas_select = read_pickle(config['workdir']+\"STATS/\"+\"2019_RLAS-Z_hours_select_stats.pkl\")"
   ]
  },
  {
   "cell_type": "markdown",
   "id": "2f49058e",
   "metadata": {},
   "source": [
    "### Load ROMY"
   ]
  },
  {
   "cell_type": "code",
   "execution_count": null,
   "id": "7ca3e494",
   "metadata": {
    "ExecuteTime": {
     "end_time": "2023-06-20T16:25:29.609224Z",
     "start_time": "2023-06-20T16:25:29.609215Z"
    }
   },
   "outputs": [],
   "source": [
    "romy_z = read_pickle(config['workdir']+\"STATS/\"+\"2019_ROMY-Z_hours_stats.pkl\")"
   ]
  },
  {
   "cell_type": "code",
   "execution_count": null,
   "id": "e1ea4e17",
   "metadata": {
    "ExecuteTime": {
     "end_time": "2023-06-20T16:25:29.609871Z",
     "start_time": "2023-06-20T16:25:29.609860Z"
    }
   },
   "outputs": [],
   "source": [
    "romy_z_select = read_pickle(config['workdir']+\"STATS/\"+\"2019_ROMY-Z_hours_select_stats.pkl\")"
   ]
  },
  {
   "cell_type": "code",
   "execution_count": null,
   "id": "fb78ef86",
   "metadata": {
    "ExecuteTime": {
     "end_time": "2023-06-20T16:25:29.610552Z",
     "start_time": "2023-06-20T16:25:29.610543Z"
    }
   },
   "outputs": [],
   "source": [
    "romy_u = read_pickle(config['workdir']+\"STATS/\"+\"2019_ROMY-U_hours_stats.pkl\")\n",
    "romy_v = read_pickle(config['workdir']+\"STATS/\"+\"2019_ROMY-V_hours_stats.pkl\")\n",
    "romy_w = read_pickle(config['workdir']+\"STATS/\"+\"2019_ROMY-W_hours_stats.pkl\")"
   ]
  },
  {
   "cell_type": "markdown",
   "id": "50485125",
   "metadata": {
    "ExecuteTime": {
     "end_time": "2022-05-09T09:02:17.349952Z",
     "start_time": "2022-05-09T09:02:17.344417Z"
    }
   },
   "source": [
    "### Load PFO Data"
   ]
  },
  {
   "cell_type": "code",
   "execution_count": null,
   "id": "e2ee5db6",
   "metadata": {
    "ExecuteTime": {
     "end_time": "2023-06-20T16:25:29.611469Z",
     "start_time": "2023-06-20T16:25:29.611458Z"
    }
   },
   "outputs": [],
   "source": [
    "datapath = \"/import/kilauea-data/ROMY/RotationSpectra/data/\"\n",
    "\n",
    "data_pfo_N = \"run_2019_RPFO-N_3600/run_2019_RPFO-N_3600_stats.pkl\"\n",
    "data_pfo_E = \"run_2019_RPFO-E_3600/run_2019_RPFO-E_3600_stats.pkl\"\n",
    "data_pfo_Z = \"run_2019_RPFO-Z_3600/run_2019_RPFO-Z_3600_stats.pkl\"\n",
    "\n",
    "PFO_N = read_pickle(datapath+data_pfo_N)\n",
    "PFO_E = read_pickle(datapath+data_pfo_E)\n",
    "PFO_Z = read_pickle(datapath+data_pfo_Z)\n",
    "\n",
    "fmin, fmax = 1/50, 1.0\n",
    "PFO_N = __cut_frequencies_dataframe(PFO_N, fmin, fmax)\n",
    "PFO_E = __cut_frequencies_dataframe(PFO_E, fmin, fmax)\n",
    "PFO_Z = __cut_frequencies_dataframe(PFO_Z, fmin, fmax)\n",
    "\n",
    "PFO_N_median_psd = PFO_N['median']\n",
    "PFO_E_median_psd = PFO_E['median']\n",
    "PFO_Z_median_psd = PFO_Z['median']\n",
    "\n",
    "PFO_N_minimal_psd = PFO_N['minimal']\n",
    "PFO_E_minimal_psd = PFO_E['minimal']\n",
    "PFO_Z_minimal_psd = PFO_Z['minimal']"
   ]
  },
  {
   "cell_type": "markdown",
   "id": "dab68ef2",
   "metadata": {
    "ExecuteTime": {
     "end_time": "2022-07-21T12:33:26.388309Z",
     "start_time": "2022-07-21T12:33:26.386515Z"
    }
   },
   "source": [
    "### Load GRF ADR"
   ]
  },
  {
   "cell_type": "code",
   "execution_count": null,
   "id": "0e6c4286",
   "metadata": {
    "ExecuteTime": {
     "end_time": "2023-06-20T16:25:29.611930Z",
     "start_time": "2023-06-20T16:25:29.611921Z"
    }
   },
   "outputs": [],
   "source": [
    "datapath = \"/import/kilauea-data/ROMY/RotationSpectra/data/\"\n",
    "\n",
    "GRF_array = \"GRA2\"\n",
    "\n",
    "data_grf_N = f\"run_2019_RGRF-N_3600_{GRF_array}/run_2019_RGRF-N_3600_{GRF_array}_stats.pkl\"\n",
    "data_grf_E = f\"run_2019_RGRF-E_3600_{GRF_array}/run_2019_RGRF-E_3600_{GRF_array}_stats.pkl\"\n",
    "data_grf_Z = f\"run_2019_RGRF-Z_3600_{GRF_array}/run_2019_RGRF-Z_3600_{GRF_array}_stats.pkl\"\n",
    "\n",
    "GRF_N = read_pickle(datapath+data_grf_N)\n",
    "GRF_E = read_pickle(datapath+data_grf_E)\n",
    "GRF_Z = read_pickle(datapath+data_grf_Z)\n",
    "\n",
    "GRF_N_median_psd = GRF_N['median']\n",
    "GRF_E_median_psd = GRF_E['median']\n",
    "GRF_Z_median_psd = GRF_Z['median']\n",
    "\n",
    "GRF_N_minimal_psd = GRF_N['minimal']\n",
    "GRF_E_minimal_psd = GRF_E['minimal']\n",
    "GRF_Z_minimal_psd = GRF_Z['minimal']"
   ]
  },
  {
   "cell_type": "markdown",
   "id": "63c1e8d4",
   "metadata": {},
   "source": [
    "### Load Single Station Model"
   ]
  },
  {
   "cell_type": "code",
   "execution_count": null,
   "id": "9e9569e2",
   "metadata": {
    "ExecuteTime": {
     "end_time": "2023-06-20T16:25:29.612877Z",
     "start_time": "2023-06-20T16:25:29.612867Z"
    }
   },
   "outputs": [],
   "source": [
    "ssm = read_pickle(config['workdir']+\"STATS/\"+\"station_2019_derived_rlnm.pkl\")\n",
    "\n",
    "## cutoff first samples\n",
    "ssm = ssm.iloc[:-10,:]\n",
    "\n",
    "ssm['frequencies'] = 1/ssm['period']\n",
    "\n",
    "fmin, fmax = 1/200, 3.0\n",
    "ssm = __cut_frequencies_dataframe(ssm, fmin, fmax)\n",
    "\n",
    "ssm_period = ssm['period']\n",
    "ssm_median_psd = ssm['median']\n",
    "ssm_minimal_psd = ssm['minimal']\n",
    "\n",
    "ssm_median_psd = __conversion(ssm['median'], informat=\"ASD\", outformat=\"PSD\")\n",
    "ssm_minimal_psd = __conversion(ssm['minimal'], informat=\"ASD\", outformat=\"PSD\")"
   ]
  },
  {
   "cell_type": "markdown",
   "id": "3ad31ebe",
   "metadata": {
    "ExecuteTime": {
     "end_time": "2022-06-08T15:59:27.587671Z",
     "start_time": "2022-06-08T15:59:27.585901Z"
    }
   },
   "source": [
    "### Load ROMY-V 2022"
   ]
  },
  {
   "cell_type": "code",
   "execution_count": null,
   "id": "e3c2749c",
   "metadata": {
    "ExecuteTime": {
     "end_time": "2023-06-20T16:25:29.613903Z",
     "start_time": "2023-06-20T16:25:29.613892Z"
    }
   },
   "outputs": [],
   "source": [
    "romy_v = read_pickle(config['workdir']+\"STATS/\"+\"2022_ROMY-V_stats.pkl\")\n",
    "\n",
    "romy_v_median_psd = romy_v['psds_median']\n",
    "romy_v_minimal_psd = romy_v['psds_minimal']"
   ]
  },
  {
   "cell_type": "markdown",
   "id": "6e2c4192",
   "metadata": {
    "ExecuteTime": {
     "end_time": "2022-06-08T16:52:41.335639Z",
     "start_time": "2022-06-08T16:52:41.333370Z"
    }
   },
   "source": [
    "### Load ROMY ADR 2019"
   ]
  },
  {
   "cell_type": "code",
   "execution_count": null,
   "id": "daa808fc",
   "metadata": {
    "ExecuteTime": {
     "end_time": "2023-06-20T16:25:29.614925Z",
     "start_time": "2023-06-20T16:25:29.614916Z"
    }
   },
   "outputs": [],
   "source": [
    "datapath = \"/import/kilauea-data/ROMY/RotationSpectra/data/\"\n",
    "\n",
    "RMY_ADR_Z = read_pickle(datapath+\"run_2019_ROMY_ADR-Z_3600_all/run_2019_ROMY_ADR-Z_3600_all_stats.pkl\")\n",
    "RMY_ADR_N = read_pickle(datapath+\"run_2019_ROMY_ADR-N_3600_all/run_2019_ROMY_ADR-N_3600_all_stats.pkl\")\n",
    "RMY_ADR_E = read_pickle(datapath+\"run_2019_ROMY_ADR-E_3600_all/run_2019_ROMY_ADR-E_3600_all_stats.pkl\")\n",
    "\n",
    "## cut at 50 seconds\n",
    "RMY_ADR_Z = RMY_ADR_Z[RMY_ADR_Z['frequencies'] > 1/40]\n",
    "RMY_ADR_N = RMY_ADR_N[RMY_ADR_N['frequencies'] > 1/40]\n",
    "RMY_ADR_E = RMY_ADR_E[RMY_ADR_E['frequencies'] > 1/40]\n",
    "\n",
    "RMY_ADR_Z_median_psd = RMY_ADR_Z['median']\n",
    "RMY_ADR_N_median_psd = RMY_ADR_N['median']\n",
    "RMY_ADR_E_median_psd = RMY_ADR_E['median']\n",
    "\n",
    "RMY_ADR_Z_minimal_psd = RMY_ADR_Z['minimal']\n",
    "RMY_ADR_N_minimal_psd = RMY_ADR_N['minimal']\n",
    "RMY_ADR_E_minimal_psd = RMY_ADR_E['minimal']\n"
   ]
  },
  {
   "cell_type": "markdown",
   "id": "629d9a14",
   "metadata": {
    "ExecuteTime": {
     "end_time": "2022-06-08T14:52:41.358742Z",
     "start_time": "2022-06-08T14:52:41.356845Z"
    }
   },
   "source": [
    "### Load RLNM Distribution"
   ]
  },
  {
   "cell_type": "code",
   "execution_count": null,
   "id": "28eec721",
   "metadata": {
    "ExecuteTime": {
     "end_time": "2023-06-20T16:25:29.615844Z",
     "start_time": "2023-06-20T16:25:29.615834Z"
    }
   },
   "outputs": [],
   "source": [
    "import pickle\n",
    "\n",
    "with open(config['workdir']+\"MODELS/\"+\"RLNM_distribution.pkl\",'rb') as f:\n",
    "    output = pickle.load(f)"
   ]
  },
  {
   "cell_type": "markdown",
   "id": "94727e03",
   "metadata": {},
   "source": [
    "## Plot Overview - Median"
   ]
  },
  {
   "cell_type": "code",
   "execution_count": null,
   "id": "77ba1e5f",
   "metadata": {
    "ExecuteTime": {
     "end_time": "2023-06-20T16:25:29.616395Z",
     "start_time": "2023-06-20T16:25:29.616386Z"
    },
    "code_folding": [
     0
    ]
   },
   "outputs": [],
   "source": [
    "def __plot_rlnm_median_overview():\n",
    "    \n",
    "    font = 14\n",
    "\n",
    "    fig, ax = plt.subplots(1,1,figsize=(15,8))\n",
    "\n",
    "    ## add Frequency Axis\n",
    "    g = lambda x: 1/x\n",
    "    ax2 = ax.secondary_xaxis(\"top\", functions=(g,g))\n",
    "    ax2.set_xlabel(\"Frequency in Hz\", fontsize=font, labelpad=5)\n",
    "    ax2.set_xticklabels(1/periods, fontsize=11)\n",
    "    \n",
    "    ## single stations model\n",
    "#     plt.plot(ssm_period, ssm_median_psd, color=\"purple\", zorder=2, label=\"Single-Stations 2019\")\n",
    "        \n",
    "\n",
    "    ## PFO ADR data\n",
    "    plt.plot(1/PFO_N['frequencies'], PFO_N_median_psd, color=\"darkgreen\", zorder=2, label=\"PFO ADR-N 2019\")\n",
    "    plt.plot(1/PFO_E['frequencies'], PFO_E_median_psd, color=\"yellowgreen\", zorder=2, label=\"PFO ADR-E 2019\")\n",
    "    plt.plot(1/PFO_Z['frequencies'], PFO_Z_median_psd, color=\"olive\", zorder=2, label=\"PFO ADR-Z 2019\")\n",
    "    \n",
    "    ## GRF ADR data\n",
    "    plt.plot(1/GRF_N['frequencies'], GRF_N_median_psd, color=\"sienna\", zorder=2, label=f\"{GRF_array} ADR-N 2019\")\n",
    "    plt.plot(1/GRF_E['frequencies'], GRF_E_median_psd, color=\"tan\", zorder=2, label=f\"{GRF_array} ADR-E 2019\")\n",
    "    plt.plot(1/GRF_Z['frequencies'], GRF_Z_median_psd, color=\"indianred\", zorder=2, label=f\"{GRF_array} ADR-Z 2019\")\n",
    "    \n",
    "    ## ROMY ADR data 2019\n",
    "    plt.plot(1/RMY_ADR_Z['frequencies'], RMY_ADR_Z_median_psd, color=\"cadetblue\", zorder=2, label=\"ROMY ADR-Z 2019\")\n",
    "    plt.plot(1/RMY_ADR_N['frequencies'], RMY_ADR_N_median_psd, color=\"darkcyan\", zorder=2, label=\"ROMY ADR-N 2019\")\n",
    "    plt.plot(1/RMY_ADR_E['frequencies'], RMY_ADR_E_median_psd, color=\"skyblue\", zorder=2, label=\"ROMY ADR-E 2019\")\n",
    "             \n",
    "    ## romy data\n",
    "    plt.plot(1/romy_z['frequencies'], romy_z['psds_median'], color=\"orange\", zorder=3, label=\"ROMY-Z 2019\")\n",
    "#     plt.plot(1/romy_z_select['frequencies'], romy_z_select['psds_median'], color=\"orange\", ls=\"--\", zorder=3, label=\"ROMY-Z 2019 select\")\n",
    "    \n",
    "    ## romy others\n",
    "#     plt.plot(1/romy_u['frequencies'], romy_u['psds_median'], color=\"pink\", zorder=2, label=\"ROMY-U 2022\")\n",
    "#     plt.plot(1/romy_v['frequencies'], romy_v['psds_median'], color=\"hotpink\", zorder=2, label=\"ROMY-V 2022\")\n",
    "#     plt.plot(1/romy_w['frequencies'], romy_w['psds_median'], color=\"orchid\", zorder=2, label=\"ROMY-W 2022\")\n",
    "        \n",
    "    ## rlas data\n",
    "    plt.plot(1/rlas['frequencies'], rlas['psds_median'], color=\"blue\", zorder=3, label=\"RLAS 2019\")\n",
    "#     plt.plot(1/rlas_select['frequencies'], rlas_select['psds_median'], color=\"blue\", ls=\"--\", zorder=3, label=\"RLAS 2019 select\")\n",
    "\n",
    "    ## theoretical rlnm\n",
    "#     plt.plot(periods, rlnm_psd, color=\"black\", zorder=2, lw=2, label=\"RLNM\")\n",
    "\n",
    "\n",
    "    y_axis = 10**(output['bin_mids']/10)\n",
    "    x_axis = output['period']\n",
    "\n",
    "    ## plotting\n",
    "\n",
    "    cmap = plt.cm.get_cmap('magma_r')\n",
    "#     cmap = plt.cm.get_cmap('gray_r')\n",
    "    cmap.set_under(color='white')\n",
    "\n",
    "    im = plt.pcolor(x_axis, y_axis, output['dist'].T, \n",
    "                    cmap=cmap,\n",
    "                    vmin=1e-12, \n",
    "                    alpha=0.99,\n",
    "                   )\n",
    "    \n",
    "    ## add RLNM median \n",
    "    medians = 10**(output['bins_medians']/10)\n",
    "    plt.plot(output['period'], medians, color=\"black\", zorder=2, lw=0.5, alpha=0.8, ls=\":\", label=\"median\")\n",
    "    \n",
    "    ## add RLNM minima\n",
    "    minimas = 10**(output['bins_minimum']/10)\n",
    "#     plt.plot(output['period'], minimas, color=\"black\", zorder=2, lw=1.5, alpha=0.8, label=\"RLNM\")\n",
    "    \n",
    "    \n",
    "    ## add colorbar\n",
    "    caxes = fig.add_axes()\n",
    "    cb = plt.colorbar(im, cax=caxes, alpha=1.0)\n",
    "    cb.set_label(\"Propability Density\", fontsize=font)\n",
    "    \n",
    "    \n",
    "    plt.xscale(\"log\")\n",
    "    plt.yscale(\"log\")\n",
    "\n",
    "    plt.xlim(1, 200)\n",
    "\n",
    "    ymin, ymax = 1e-26, 2e-19\n",
    "\n",
    "    plt.ylim(ymin, ymax)\n",
    "    \n",
    "#     plt.fill_betweenx(np.linspace(ymin,ymax,5), x1=0, x2=2.5, color=\"lightgrey\", alpha=0.4, zorder=2)\n",
    "#     plt.fill_betweenx(np.linspace(ymin-10,ymax+10,5), x1=100, x2=300, color=\"lightgrey\", alpha=0.4, zorder=2)\n",
    "\n",
    "\n",
    "    plt.grid(axis=\"both\", which=\"both\", ls=\"--\", zorder=0)\n",
    "    plt.legend()\n",
    "\n",
    "    plt.xlabel(\"Period in seconds\", fontsize=font)\n",
    "    plt.ylabel(r\"PSD in $\\frac{rad^2}{s^2 Hz}$\",fontsize=font)\n",
    "\n",
    "    plt.show();\n",
    "    return fig \n",
    "\n",
    "fig = __plot_rlnm_median_overview()"
   ]
  },
  {
   "cell_type": "code",
   "execution_count": null,
   "id": "32d67036",
   "metadata": {
    "ExecuteTime": {
     "end_time": "2023-06-20T16:25:29.616890Z",
     "start_time": "2023-06-20T16:25:29.616882Z"
    }
   },
   "outputs": [],
   "source": [
    "fig.savefig(config['outdir_figures']+\"Figure3\"+\".png\", fmt=\"png\", bbox_inches=\"tight\", dpi=300, transparent=None)"
   ]
  },
  {
   "cell_type": "code",
   "execution_count": null,
   "id": "c3e77330",
   "metadata": {
    "ExecuteTime": {
     "end_time": "2023-06-20T16:25:29.617499Z",
     "start_time": "2023-06-20T16:25:29.617489Z"
    }
   },
   "outputs": [],
   "source": [
    "# fig.savefig(config['outdir_figures']+\"Sequence/\"+\"Model_Data_Overview_Median_PSD_Distribution_SEQ5\"+\".png\", fmt=\"png\", bbox_inches=\"tight\", dpi=300, transparent=None)\n",
    "\n",
    "# fig.savefig(config['outdir_figures']+\"Model_Data_Overview_Median_PSD_Distribution_ringlaser\"+\".png\", fmt=\"png\", bbox_inches=\"tight\", dpi=300, transparent=None)"
   ]
  },
  {
   "cell_type": "markdown",
   "id": "9d18567d",
   "metadata": {},
   "source": [
    "## Plot Overview - Minimal"
   ]
  },
  {
   "cell_type": "code",
   "execution_count": null,
   "id": "0653a42d",
   "metadata": {
    "ExecuteTime": {
     "end_time": "2023-06-20T16:25:29.618532Z",
     "start_time": "2023-06-20T16:25:29.618522Z"
    },
    "code_folding": [
     0
    ]
   },
   "outputs": [],
   "source": [
    "def __plot_rlnm_minimal_overview():\n",
    "    \n",
    "    font = 14\n",
    "\n",
    "    fig, ax = plt.subplots(1,1,figsize=(15,8))\n",
    "\n",
    "    ## add Frequency Axis\n",
    "    g = lambda x: 1/x\n",
    "    ax2 = ax.secondary_xaxis(\"top\", functions=(g,g))\n",
    "    ax2.set_xlabel(\"Frequency in Hz\", fontsize=font, labelpad=5)\n",
    "    ax2.set_xticklabels(1/periods, fontsize=11)\n",
    "    \n",
    "    ## single stations model\n",
    "#     plt.plot(ssm_period, ssm_minimal_psd, color=\"purple\", zorder=2, label=\"Single-Stations 2019\")\n",
    "        \n",
    "\n",
    "    ## PFO data\n",
    "#     plt.plot(1/PFO_N['frequencies'], PFO_N_minimal_psd, color=\"darkgreen\", zorder=2, label=\"PFO ADR-N 2019\")\n",
    "#     plt.plot(1/PFO_E['frequencies'], PFO_E_minimal_psd, color=\"yellowgreen\", zorder=2, label=\"PFO ADR-E 2019\")\n",
    "#     plt.plot(1/PFO_Z['frequencies'], PFO_Z_minimal_psd, color=\"olive\", zorder=2, label=\"PFO ADR-Z 2019\")\n",
    "\n",
    "    ## ROMY ADR data 2022\n",
    "#     plt.plot(romy_adr_z['frequencies'], romy_adr_z_minimal_psd, color=\"cadetblue\", zorder=2, label=\"ROMY ADR-Z\")\n",
    "#     plt.plot(romy_adr_n['frequencies'], romy_adr_n_minimal_psd, color=\"darkcyan\", zorder=2, label=\"ROMY ADR-N\")\n",
    "#     plt.plot(romy_adr_e['frequencies'], romy_adr_e_minimal_psd, color=\"skyblue\", zorder=2, label=\"ROMY ADR-E\")\n",
    "\n",
    "    ## ROMY ADR data 2019\n",
    "#     plt.plot(1/RMY_ADR_Z['frequencies'], RMY_ADR_Z_minimal_psd, color=\"cadetblue\", zorder=2, label=\"ROMY ADR-Z 2019\")\n",
    "#     plt.plot(1/RMY_ADR_N['frequencies'], RMY_ADR_N_minimal_psd, color=\"darkcyan\", zorder=2, label=\"ROMY ADR-N 2019\")\n",
    "#     plt.plot(1/RMY_ADR_E['frequencies'], RMY_ADR_E_minimal_psd, color=\"skyblue\", zorder=2, label=\"ROMY ADR-E 2019\")\n",
    "        \n",
    "\n",
    "    ## romy data\n",
    "    plt.plot(1/romy_z['frequencies'], romy_z['psds_minimal'], color=\"orange\", zorder=2, label=\"ROMY-Z 2019\")\n",
    "    \n",
    "    # romy data 2022 march\n",
    "#     plt.plot(romy_2022['frequencies'], romy_2022_median_psd, color=\"pink\", zorder=2, label=\"ROMY-Z 2022\")\n",
    "\n",
    "    ## romy others\n",
    "    plt.plot(1/romy_u['frequencies'], romy_u['psds_minimal'], color=\"pink\", zorder=2, label=\"ROMY-U 2022\")\n",
    "    plt.plot(1/romy_v['frequencies'], romy_v['psds_minimal'], color=\"hotpink\", zorder=2, label=\"ROMY-V 2022\")\n",
    "    plt.plot(1/romy_w['frequencies'], romy_w['psds_minimal'], color=\"orchid\", zorder=2, label=\"ROMY-W 2022\")\n",
    "        \n",
    "\n",
    "    ## rlas data\n",
    "    plt.plot(1/rlas['frequencies'], rlas['psds_minimal'], color=\"blue\", zorder=2, label=\"RLAS 2019\")\n",
    "\n",
    "    ## theoretical rlnm\n",
    "#     plt.plot(periods, rlnm_minimal_psd, color=\"black\", zorder=2, lw=2, label=\"RLNM\")\n",
    "\n",
    "\n",
    "    y_axis = 10**(output['bin_mids']/10)\n",
    "    x_axis = output['period']\n",
    "\n",
    "    ## plotting\n",
    "\n",
    "    cmap = plt.cm.get_cmap('magma_r')\n",
    "#     cmap = plt.cm.get_cmap('gray_r')\n",
    "    cmap.set_under(color='white')\n",
    "\n",
    "    im = plt.pcolor(x_axis, y_axis, output['dist'].T, \n",
    "                    cmap=cmap,\n",
    "                    vmin=1e-12, \n",
    "                    alpha=0.99,\n",
    "                   )\n",
    "    \n",
    "    ## add medians \n",
    "    medians = 10**(output['bins_medians']/10)\n",
    "#     plt.plot(output['period'], medians, color=\"black\", zorder=2, lw=0.5, alpha=0.8, ls=\":\", label=\"median\")\n",
    "    \n",
    "    ## add minimas \n",
    "    minimas = 10**(output['bins_minimum']/10)\n",
    "    plt.plot(output['period'], minimas, color=\"black\", zorder=2, lw=1.5, alpha=0.8, label=\"RLNM\")\n",
    "    \n",
    "    \n",
    "    ## add colorbar\n",
    "    caxes = fig.add_axes()\n",
    "    cb = plt.colorbar(im, cax=caxes, alpha=1.0)\n",
    "    cb.set_label(\"Propability Density\", fontsize=font)\n",
    "    \n",
    "    \n",
    "    plt.xscale(\"log\")\n",
    "    plt.yscale(\"log\")\n",
    "\n",
    "    plt.xlim(1, 300)\n",
    "\n",
    "    ymin, ymax = 1e-26, 5e-20\n",
    "    plt.ylim(ymin, ymax)\n",
    "   \n",
    "    plt.fill_betweenx(np.linspace(ymin,ymax,5), x1=0, x2=2.5, color=\"lightgrey\", alpha=0.4, zorder=2)\n",
    "    plt.fill_betweenx(np.linspace(ymin-10,ymax+10,5), x1=100, x2=300, color=\"lightgrey\", alpha=0.4, zorder=2)\n",
    "\n",
    "\n",
    "    plt.grid(axis=\"both\", which=\"both\", ls=\"--\", zorder=0)\n",
    "    plt.legend()\n",
    "\n",
    "    plt.xlabel(\"Period in seconds\", fontsize=font)\n",
    "    plt.ylabel(r\"PSD in $\\frac{rad^2}{s^2 Hz}$\",fontsize=font)\n",
    "\n",
    "    plt.show();\n",
    "    return fig \n",
    "\n",
    "# fig = __plot_rlnm_minimal_overview()"
   ]
  },
  {
   "cell_type": "code",
   "execution_count": null,
   "id": "06526ca1",
   "metadata": {
    "ExecuteTime": {
     "end_time": "2023-06-20T16:25:29.619131Z",
     "start_time": "2023-06-20T16:25:29.619122Z"
    }
   },
   "outputs": [],
   "source": [
    "# fig.savefig(config['outdir_figures']+\"Sequence/\"+\"Model_Data_Overview_Minimal_PSD_Distribution_SEQ5\"+\".png\", fmt=\"png\", bbox_inches=\"tight\", dpi=300, transparent=None)\n",
    "\n",
    "# fig.savefig(config['outdir_figures']+\"Model_Data_Overview_Minimal_PSD_Distribution_ringlaser\"+\".png\", fmt=\"png\", bbox_inches=\"tight\", dpi=300, transparent=None)"
   ]
  },
  {
   "cell_type": "code",
   "execution_count": null,
   "id": "c4d444fd",
   "metadata": {},
   "outputs": [],
   "source": []
  },
  {
   "cell_type": "code",
   "execution_count": null,
   "id": "c8c298ab",
   "metadata": {},
   "outputs": [],
   "source": []
  }
 ],
 "metadata": {
  "kernelspec": {
   "display_name": "Python 3 (ipykernel)",
   "language": "python",
   "name": "python3"
  },
  "language_info": {
   "codemirror_mode": {
    "name": "ipython",
    "version": 3
   },
   "file_extension": ".py",
   "mimetype": "text/x-python",
   "name": "python",
   "nbconvert_exporter": "python",
   "pygments_lexer": "ipython3",
   "version": "3.7.8"
  },
  "toc": {
   "base_numbering": 1,
   "nav_menu": {},
   "number_sections": true,
   "sideBar": true,
   "skip_h1_title": false,
   "title_cell": "Table of Contents",
   "title_sidebar": "Contents",
   "toc_cell": false,
   "toc_position": {},
   "toc_section_display": true,
   "toc_window_display": false
  },
  "varInspector": {
   "cols": {
    "lenName": 16,
    "lenType": 16,
    "lenVar": 40
   },
   "kernels_config": {
    "python": {
     "delete_cmd_postfix": "",
     "delete_cmd_prefix": "del ",
     "library": "var_list.py",
     "varRefreshCmd": "print(var_dic_list())"
    },
    "r": {
     "delete_cmd_postfix": ") ",
     "delete_cmd_prefix": "rm(",
     "library": "var_list.r",
     "varRefreshCmd": "cat(var_dic_list()) "
    }
   },
   "types_to_exclude": [
    "module",
    "function",
    "builtin_function_or_method",
    "instance",
    "_Feature"
   ],
   "window_display": false
  }
 },
 "nbformat": 4,
 "nbformat_minor": 5
}
