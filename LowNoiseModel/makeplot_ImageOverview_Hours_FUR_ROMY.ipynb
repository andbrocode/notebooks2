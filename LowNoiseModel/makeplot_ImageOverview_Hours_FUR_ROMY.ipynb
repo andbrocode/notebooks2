{
 "cells": [
  {
   "cell_type": "markdown",
   "id": "eda030d3",
   "metadata": {},
   "source": [
    "# Analyse Rotation Spectra - Image Overview Hours\n"
   ]
  },
  {
   "cell_type": "code",
   "execution_count": null,
   "id": "b472db4e",
   "metadata": {},
   "outputs": [],
   "source": []
  },
  {
   "cell_type": "markdown",
   "id": "protected-presentation",
   "metadata": {},
   "source": [
    "## Load Libraries"
   ]
  },
  {
   "cell_type": "code",
   "execution_count": 1,
   "id": "behind-arrangement",
   "metadata": {
    "ExecuteTime": {
     "end_time": "2022-11-29T15:24:38.571150Z",
     "start_time": "2022-11-29T15:24:37.813796Z"
    }
   },
   "outputs": [],
   "source": [
    "from andbro__querrySeismoData import __querrySeismoData\n",
    "from andbro__savefig import __savefig\n",
    "\n",
    "from obspy import UTCDateTime\n",
    "from numpy import log10, zeros, pi, append, linspace, mean, median, array, where, transpose, shape, histogram, arange\n",
    "from numpy import logspace, linspace, log, log10, isinf, ones, nan, count_nonzero, sqrt, isnan\n",
    "from pandas import DataFrame, concat, Series, date_range, read_csv, read_pickle\n",
    "from tqdm import tqdm_notebook\n",
    "from pathlib import Path\n",
    "from scipy.stats import median_absolute_deviation as mad\n",
    "from scipy.signal import welch\n",
    "\n",
    "import os\n",
    "import pickle\n",
    "import matplotlib.pyplot as plt"
   ]
  },
  {
   "cell_type": "code",
   "execution_count": 2,
   "id": "cfe860f0",
   "metadata": {
    "ExecuteTime": {
     "end_time": "2022-11-29T15:24:38.575099Z",
     "start_time": "2022-11-29T15:24:38.572636Z"
    }
   },
   "outputs": [],
   "source": [
    "if os.uname().nodename == \"lighthouse\":\n",
    "    root_path = \"/home/andbro/kilauea-data/\"\n",
    "elif os.uname().nodename == \"kilauea\":\n",
    "    root_path = \"/import/kilauea-data/\""
   ]
  },
  {
   "cell_type": "code",
   "execution_count": 3,
   "id": "e4858b93",
   "metadata": {
    "ExecuteTime": {
     "end_time": "2022-11-29T15:24:38.589211Z",
     "start_time": "2022-11-29T15:24:38.578239Z"
    },
    "code_folding": [
     0
    ]
   },
   "outputs": [],
   "source": [
    "def __get_minimal_psd(psds):\n",
    "\n",
    "    from numpy import nanmin, array, nonzero\n",
    "    \n",
    "    min_psd = zeros(psds.shape[1])\n",
    "    \n",
    "    for f in range(psds.shape[1]):\n",
    "        a = psds[:,f]\n",
    "        min_psd[f] = nanmin(a[nonzero(a)])\n",
    "    \n",
    "    return min_psd"
   ]
  },
  {
   "cell_type": "code",
   "execution_count": 4,
   "id": "d377053c",
   "metadata": {
    "ExecuteTime": {
     "end_time": "2022-11-29T15:24:38.597012Z",
     "start_time": "2022-11-29T15:24:38.591077Z"
    },
    "code_folding": [
     0
    ]
   },
   "outputs": [],
   "source": [
    "def __get_median_psd(psds):\n",
    "\n",
    "    from numpy import median, zeros, isnan\n",
    "\n",
    "    med_psd = zeros(psds.shape[1])\n",
    "\n",
    "    for f in range(psds.shape[1]):\n",
    "        a = psds[:,f]\n",
    "        med_psd[f] = median(a[~isnan(a)])\n",
    "\n",
    "    return med_psd"
   ]
  },
  {
   "cell_type": "code",
   "execution_count": 5,
   "id": "8faa83d9",
   "metadata": {
    "ExecuteTime": {
     "end_time": "2022-11-29T15:24:38.602086Z",
     "start_time": "2022-11-29T15:24:38.598275Z"
    },
    "code_folding": [
     0
    ]
   },
   "outputs": [],
   "source": [
    "def __get_mean_psd(psds):\n",
    "\n",
    "    from numpy import mean, zeros, isnan\n",
    "\n",
    "    mean_psd = zeros(psds.shape[1])\n",
    "\n",
    "    for f in range(psds.shape[1]):\n",
    "        a = psds[:,f]\n",
    "        mean_psd[f] = mean(a[~isnan(a)])\n",
    "\n",
    "    return mean_psd"
   ]
  },
  {
   "cell_type": "code",
   "execution_count": 6,
   "id": "af6a3772",
   "metadata": {
    "ExecuteTime": {
     "end_time": "2022-11-29T15:24:38.605967Z",
     "start_time": "2022-11-29T15:24:38.603173Z"
    },
    "code_folding": [
     0
    ]
   },
   "outputs": [],
   "source": [
    "def __get_minimum_psd(psds):\n",
    "            \n",
    "    for i, psd in enumerate(psds):\n",
    "        if i == 0: \n",
    "            lowest_value = psd.sum()\n",
    "            idx = 0\n",
    "\n",
    "        value = psd.sum() \n",
    "        \n",
    "        if value < lowest_value and value != 0:\n",
    "            lowest_value = value\n",
    "            idx = i   \n",
    "    \n",
    "    return psds[idx]"
   ]
  },
  {
   "cell_type": "code",
   "execution_count": 7,
   "id": "fe2e4201",
   "metadata": {
    "ExecuteTime": {
     "end_time": "2022-11-29T15:24:38.774593Z",
     "start_time": "2022-11-29T15:24:38.764350Z"
    },
    "code_folding": [
     0
    ]
   },
   "outputs": [],
   "source": [
    "def __load_psds(file, config):\n",
    "\n",
    "    ## get data to dataframe and transpose and reindex\n",
    "    df = read_csv(file, index_col=False)\n",
    "    df = df.transpose()\n",
    "    df.reset_index(inplace=True)\n",
    "    # df.dtypes\n",
    "    # df.mean()\n",
    "\n",
    "    ## set column names\n",
    "    try:\n",
    "        columns = pickle.load(open(f\"{config['inpath']}{config['inname']}_columns.pick\", 'rb'))\n",
    "        df.columns = [column.replace(\"-\",\"\") for column in columns]\n",
    "    except:\n",
    "        columns = arange(0,df.shape[1]).astype(str)\n",
    "        df.columns = columns\n",
    "        print(\" -> Failed to assign column names! Assigned numbers instead!\")\n",
    "\n",
    "    ## check for column dublicates\n",
    "    if len(df.columns.unique()) != len(df.columns):\n",
    "        print(f\" -> removing {len(df.columns)-len(df.columns.unique())} column dublicate(s)!\")\n",
    "        df = df.loc[:,~df.columns.duplicated()]\n",
    "\n",
    "    count=0\n",
    "    dates_expected = date_range(config['date1'].date, config['date2'].date, periods=int((config['date2']-config['date1'])/86400)+1)\n",
    "    for dex in dates_expected:\n",
    "        dex=str(dex.isoformat()[:10]).replace(\"-\",\"\")\n",
    "        if not dex in df.columns:\n",
    "            count+=1\n",
    "    print(f\" -> missing {count} days\")\n",
    "        \n",
    "    print(f\" -> total of {df.shape[0]} psds\")\n",
    "        \n",
    "#     ## convert to list\n",
    "#     psds = []\n",
    "#     for col in array(df.columns):\n",
    "        \n",
    "#         ## turn non-float series to float objects\n",
    "#         df[col] = pd.to_numeric(df[col], errors = 'coerce')\n",
    "\n",
    "#         ## add to psds list\n",
    "#         psds.append(array(df[col]))\n",
    "        \n",
    "    return df"
   ]
  },
  {
   "cell_type": "code",
   "execution_count": 8,
   "id": "d4ffd698",
   "metadata": {
    "ExecuteTime": {
     "end_time": "2022-11-29T15:24:38.903925Z",
     "start_time": "2022-11-29T15:24:38.899177Z"
    },
    "code_folding": [
     0
    ]
   },
   "outputs": [],
   "source": [
    "def __get_array_from_dataframe(df):\n",
    "    \n",
    "    from pandas import to_numeric\n",
    "    \n",
    "    ## convert to list\n",
    "    psds = []\n",
    "    for col in array(df.columns):\n",
    "        \n",
    "        ## turn non-float series to float objects\n",
    "        df[col] = to_numeric(df[col], errors = 'coerce')\n",
    "\n",
    "        ## add to psds list\n",
    "        psds.append(array(df[col]))\n",
    "\n",
    "    return array(psds)"
   ]
  },
  {
   "cell_type": "code",
   "execution_count": 9,
   "id": "21d2d997",
   "metadata": {
    "ExecuteTime": {
     "end_time": "2022-11-29T15:24:39.018746Z",
     "start_time": "2022-11-29T15:24:39.016684Z"
    },
    "code_folding": [
     0
    ]
   },
   "outputs": [],
   "source": [
    "# def __remove_noisy_psds(df, threshold_mean=1e-13):\n",
    "\n",
    "#     from numpy import delete\n",
    "    \n",
    "#     l1 = len(df.columns)\n",
    "#     for col in df.columns:\n",
    "# #         print(col, type(col))\n",
    "#         if df[col].astype(float).mean() > threshold_mean:\n",
    "#             df = df.drop(columns=col)\n",
    "#     l2 = len(df.columns)\n",
    "#     print(f\" -> removed {l1-l2} columns due to mean thresholds!\")\n",
    "#     print(f\" -> {l2} psds remain\")\n",
    "    \n",
    "#     return df"
   ]
  },
  {
   "cell_type": "code",
   "execution_count": 10,
   "id": "b86aa31f",
   "metadata": {
    "ExecuteTime": {
     "end_time": "2022-11-29T15:24:40.148290Z",
     "start_time": "2022-11-29T15:24:40.145332Z"
    }
   },
   "outputs": [],
   "source": [
    "# os.listdir( f\"{root_path}ROMY/RotationSpectra/data/\" )"
   ]
  },
  {
   "cell_type": "markdown",
   "id": "subject-expression",
   "metadata": {},
   "source": [
    "## Configurations"
   ]
  },
  {
   "cell_type": "code",
   "execution_count": 15,
   "id": "e89d22a7",
   "metadata": {
    "ExecuteTime": {
     "end_time": "2022-11-29T15:28:37.881940Z",
     "start_time": "2022-11-29T15:28:37.877174Z"
    }
   },
   "outputs": [],
   "source": [
    "## _________________________________________________________\n",
    "\n",
    "# name = \"GRF\"\n",
    "# inname = \"run_2019_RGRF-Z_3600_GRF\"\n",
    "# threshold = 1e-19\n",
    "# period_limits = 2, 183\n",
    "\n",
    "\n",
    "# name = \"PFO\"\n",
    "# inname = \"run_2019_RPFO-Z_3600\"\n",
    "# threshold = 8e-20\n",
    "# period_limits = 1, 60\n",
    "\n",
    "\n",
    "# name = \"RMY_inner\"\n",
    "# # inname = \"run_2019_ROMY_ADR-Z_3600_inner\" ## OLD\n",
    "# inname = \"run_2019_RRMY-Z_3600_inner\"\n",
    "# threshold = 1e-17\n",
    "# period_limits = 1, 40\n",
    "\n",
    "\n",
    "# name = \"RMY_optimal\"\n",
    "# # inname = \"run_2019_ROMY_ADR-Z_3600_optimal\" ## OLD\n",
    "# inname = \"run_2019_RRMY-Z_3600_optimal\"\n",
    "# threshold = 1e-17\n",
    "# period_limits = 1, 60\n",
    "\n",
    "\n",
    "\n",
    "## _________________________________________________________\n",
    "\n",
    "\n",
    "inpath = f\"{root_path}ROMY/RotationSpectra/data/{inname}/\"\n",
    "\n",
    "config = {}\n",
    "# config = pickle.load(open(inpath+inname+\"_config.pkl\", 'rb'))\n",
    "\n",
    "# config['inname'] = inname\n",
    "# config['inpath'] = inpath\n",
    "# config['period_limits'] = period_limits\n",
    "# config['thres'] = threshold\n",
    "\n",
    "config['outpath_figures'] = f\"{root_path}LNM/figures_final/\"\n",
    "\n",
    "config['rlnm_model_path'] = f\"{root_path}LNM/data/MODELS/\"\n",
    "\n",
    "# config['frequency_limits'] = [1/config['period_limits'][1], 1/config['period_limits'][0]]\n",
    "\n",
    "## load frequencies\n",
    "# ff_Z = pickle.load(open(f\"{config['inpath'].replace('Z','Z')}{config['inname'].replace('Z','Z')}_frequency_axis.pkl\", 'rb'))\n",
    "# ff_N = pickle.load(open(f\"{config['inpath'].replace('Z','N')}{config['inname'].replace('Z','N')}_frequency_axis.pkl\", 'rb'))\n",
    "# ff_E = pickle.load(open(f\"{config['inpath'].replace('Z','E')}{config['inname'].replace('Z','E')}_frequency_axis.pkl\", 'rb'))"
   ]
  },
  {
   "cell_type": "markdown",
   "id": "natural-beginning",
   "metadata": {},
   "source": [
    "## Load as Arrays"
   ]
  },
  {
   "cell_type": "code",
   "execution_count": 81,
   "id": "2d64a313",
   "metadata": {
    "ExecuteTime": {
     "end_time": "2022-11-29T16:49:44.622750Z",
     "start_time": "2022-11-29T16:49:44.614389Z"
    },
    "code_folding": []
   },
   "outputs": [],
   "source": [
    "def __load_data_files(config, path):\n",
    "    \n",
    "    from tqdm.notebook import tqdm\n",
    "    from numpy import array\n",
    "    \n",
    "    print(path)\n",
    "    \n",
    "    config['files'] = [file for file in os.listdir(path) if \"hourly\" in file]\n",
    "    config['files'].sort()\n",
    "\n",
    "    psds_all, times_nom, times = [], arange(0, 24*365, 1), []\n",
    "    count, missing  = 0, 0\n",
    "    \n",
    "    for file in tqdm(config['files']):\n",
    "        date = file.split(\"_\")[-2]\n",
    "        psds_hourly = read_pickle(path+file)\n",
    "\n",
    "        for h in range(24):\n",
    "            try:\n",
    "                psds_all.append(psds_hourly[h])\n",
    "#                 times.append(times_nom[count])\n",
    "            except:\n",
    "                missing += 1\n",
    "            count += 1\n",
    "            \n",
    "    print(f\" -> missing: {missing}\")\n",
    "    return array(psds_all)"
   ]
  },
  {
   "cell_type": "code",
   "execution_count": 83,
   "id": "6613e489",
   "metadata": {
    "ExecuteTime": {
     "end_time": "2022-11-29T17:16:06.047858Z",
     "start_time": "2022-11-29T17:07:15.972417Z"
    },
    "code_folding": []
   },
   "outputs": [
    {
     "name": "stdout",
     "output_type": "stream",
     "text": [
      "/home/andbro/kilauea-data/ROMY/RotationSpectra/data/run_2019_FUR-Z_3600_hours/run_2019_FUR-Z_3600_hours/\n"
     ]
    },
    {
     "data": {
      "application/vnd.jupyter.widget-view+json": {
       "model_id": "3ba970e737fc4fef844ac5d07276e334",
       "version_major": 2,
       "version_minor": 0
      },
      "text/plain": [
       "HBox(children=(HTML(value=''), FloatProgress(value=0.0, max=364.0), HTML(value='')))"
      ]
     },
     "metadata": {},
     "output_type": "display_data"
    },
    {
     "name": "stdout",
     "output_type": "stream",
     "text": [
      "\n",
      " -> missing: 74\n"
     ]
    }
   ],
   "source": [
    "name = \"FUR\"\n",
    "config['inname'] = \"run_2019_FUR-Z_3600_hours\"\n",
    "config['inpath'] = f\"{root_path}ROMY/RotationSpectra/data/{config['inname']}/\"\n",
    "config['thres_fur'] = 1e-10\n",
    "config['period_limits'] = 1, 200\n",
    "config['frequency_limits'] = [1/config['period_limits'][1], 1/config['period_limits'][0]]\n",
    "\n",
    "\n",
    "FUR_Z = __load_data_files(config, config['inpath']+config['inname']+\"/\")\n",
    "\n",
    "ff_FUR_Z = pickle.load(open(f\"{config['inpath']}{config['inname']}_frequency_axis.pkl\", 'rb'))\n",
    "times_FUR_Z = pickle.load(open(f\"{config['inpath']}{config['inname']}_times_axis.pkl\", 'rb'))"
   ]
  },
  {
   "cell_type": "code",
   "execution_count": 82,
   "id": "7577ac38",
   "metadata": {
    "ExecuteTime": {
     "end_time": "2022-11-29T16:50:49.018304Z",
     "start_time": "2022-11-29T16:49:53.912614Z"
    },
    "code_folding": []
   },
   "outputs": [
    {
     "name": "stdout",
     "output_type": "stream",
     "text": [
      "/home/andbro/kilauea-data/ROMY/RotationSpectra/data/run_2019_ROMY-Z_3600_hours/run_2019_ROMY-Z_3600_hours/\n"
     ]
    },
    {
     "data": {
      "application/vnd.jupyter.widget-view+json": {
       "model_id": "222374e04b904819affd215d2470086e",
       "version_major": 2,
       "version_minor": 0
      },
      "text/plain": [
       "HBox(children=(HTML(value=''), FloatProgress(value=0.0, max=365.0), HTML(value='')))"
      ]
     },
     "metadata": {},
     "output_type": "display_data"
    },
    {
     "name": "stdout",
     "output_type": "stream",
     "text": [
      "\n",
      " -> missing: 0\n"
     ]
    }
   ],
   "source": [
    "name = \"ROMY\"\n",
    "config['inname'] = \"run_2019_ROMY-Z_3600_hours\"\n",
    "config['inpath'] = f\"{root_path}ROMY/RotationSpectra/data/{config['inname']}/\"\n",
    "config['thres_romy'] = 1e-10\n",
    "config['period_limits'] = 1, 200\n",
    "config['frequency_limits'] = [1/config['period_limits'][1], 1/config['period_limits'][0]]\n",
    "\n",
    "\n",
    "ROMY_Z = __load_data_files(config, config['inpath']+config['inname']+\"/\")\n",
    "\n",
    "ff_ROMY_Z = pickle.load(open(f\"{config['inpath']}{config['inname']}_frequency_axis.pkl\", 'rb'))\n",
    "times_ROMY_Z = pickle.load(open(f\"{config['inpath']}{config['inname']}_times_axis.pkl\", 'rb'))"
   ]
  },
  {
   "cell_type": "markdown",
   "id": "c153a82e",
   "metadata": {},
   "source": [
    "### Cut Frequency Range"
   ]
  },
  {
   "cell_type": "code",
   "execution_count": 76,
   "id": "a025d8ab",
   "metadata": {
    "ExecuteTime": {
     "end_time": "2022-11-29T16:41:34.700515Z",
     "start_time": "2022-11-29T16:41:34.695391Z"
    },
    "code_folding": [
     0
    ]
   },
   "outputs": [],
   "source": [
    "def __cut_frequencies_array(arr, freqs, fmin, fmax):\n",
    "\n",
    "    ind = []\n",
    "    for i, f in enumerate(freqs):\n",
    "        if f >= fmin and f <= fmax:\n",
    "            ind.append(i)\n",
    "\n",
    "    ff = freqs[ind[0]:ind[-1]]\n",
    "    pp = arr[:,ind[0]:ind[-1]]\n",
    "    \n",
    "    return pp, ff "
   ]
  },
  {
   "cell_type": "code",
   "execution_count": 77,
   "id": "5ba38476",
   "metadata": {
    "ExecuteTime": {
     "end_time": "2022-11-29T16:41:34.710875Z",
     "start_time": "2022-11-29T16:41:34.701861Z"
    }
   },
   "outputs": [],
   "source": [
    "FUR_Z, ff_FUR_Z = __cut_frequencies_array(FUR_Z, ff_FUR_Z , config['frequency_limits'][0], config['frequency_limits'][1])\n",
    "ROMY_Z, ff_ROMY_Z = __cut_frequencies_array(ROMY_Z, ff_ROMY_Z, config['frequency_limits'][0], config['frequency_limits'][1])\n"
   ]
  },
  {
   "cell_type": "markdown",
   "id": "0f2b9855",
   "metadata": {
    "heading_collapsed": true
   },
   "source": [
    "## Load as DataFrame"
   ]
  },
  {
   "cell_type": "code",
   "execution_count": 18,
   "id": "425abbe0",
   "metadata": {
    "ExecuteTime": {
     "end_time": "2022-11-28T18:00:14.446208Z",
     "start_time": "2022-11-28T18:00:14.432003Z"
    },
    "code_folding": [
     0
    ],
    "hidden": true
   },
   "outputs": [],
   "source": [
    "# def __cut_frequencies_dataframe(df_psd, fmin, fmax):\n",
    "#     ind = []\n",
    "#     for i,f in enumerate(df_psd['frequencies']):\n",
    "#         if f >= fmin and f <= fmax:\n",
    "#             ind.append(i)\n",
    "\n",
    "#     df = df_psd.iloc[ind[0]:ind[-1],:]\n",
    "\n",
    "#     return df"
   ]
  },
  {
   "cell_type": "code",
   "execution_count": 19,
   "id": "f8c6ed80",
   "metadata": {
    "ExecuteTime": {
     "end_time": "2022-11-28T18:00:14.463546Z",
     "start_time": "2022-11-28T18:00:14.447145Z"
    },
    "code_folding": [
     0
    ],
    "hidden": true
   },
   "outputs": [],
   "source": [
    "# def __load_data_files(config, path):\n",
    "    \n",
    "#     from tqdm.notebook import tqdm\n",
    "#     from numpy import array\n",
    "#     from pandas import DataFrame, concat\n",
    "    \n",
    "#     config['files'] = [file for file in os.listdir(path) if \"hourly\" in file]\n",
    "#     config['files'].sort()\n",
    "\n",
    "#     psds_df = DataFrame()\n",
    "#     for n, file in enumerate(tqdm(config['files'])):\n",
    "\n",
    "#         date = file.split(\"_\")[4][5:]\n",
    "#         psds_hourly = read_pickle(path+file)\n",
    "        \n",
    "#         if n > 0:\n",
    "#             psds_df = concat([psds_df, psds_hourly])\n",
    "#         else:\n",
    "#             psds_df = psds_hourly\n",
    "#     return psds_df"
   ]
  },
  {
   "cell_type": "code",
   "execution_count": 20,
   "id": "f2761ec4",
   "metadata": {
    "ExecuteTime": {
     "end_time": "2022-11-28T18:00:14.480650Z",
     "start_time": "2022-11-28T18:00:14.464477Z"
    },
    "hidden": true
   },
   "outputs": [],
   "source": [
    "# ADR_Z_df = __load_data_files(config, config['inpath'].replace(\"Z\",\"Z\"))\n",
    "\n",
    "# ADR_N_df = __load_data_files(config, config['inpath'].replace(\"Z\",\"N\"))\n",
    "\n",
    "# ADR_E_df = __load_data_files(config, config['inpath'].replace(\"Z\",\"E\"))"
   ]
  },
  {
   "cell_type": "code",
   "execution_count": 21,
   "id": "1d9ee684",
   "metadata": {
    "ExecuteTime": {
     "end_time": "2022-11-28T18:00:14.496599Z",
     "start_time": "2022-11-28T18:00:14.481626Z"
    },
    "hidden": true
   },
   "outputs": [],
   "source": [
    "# ADR_Z_df = __load_data(config['inpath'].replace(\"Z\",\"Z\"), config['inname'].replace(\"Z\",\"Z\"))\n",
    "\n",
    "# ADR_N_df = __load_data(config['inpath'].replace(\"Z\",\"N\"), config['inname'].replace(\"Z\",\"N\"))\n",
    "\n",
    "# ADR_E_df = __load_data(config['inpath'].replace(\"Z\",\"E\"), config['inname'].replace(\"Z\",\"E\"))"
   ]
  },
  {
   "cell_type": "code",
   "execution_count": 22,
   "id": "ebfa70de",
   "metadata": {
    "ExecuteTime": {
     "end_time": "2022-11-28T18:00:14.514505Z",
     "start_time": "2022-11-28T18:00:14.497644Z"
    },
    "code_folding": [
     0
    ],
    "hidden": true
   },
   "outputs": [],
   "source": [
    "# def __cut_frequencies_dataframe(df_psd, fmin, fmax, freqs=None):\n",
    "#     ind = []\n",
    "#     if freqs is None:\n",
    "#         frequencies = df_psd['frequencies']\n",
    "#     else:\n",
    "#         frequencies = freqs\n",
    "    \n",
    "#     for i,f in enumerate(frequencies):    \n",
    "#         if f >= fmin and f <= fmax:\n",
    "#             ind.append(i)\n",
    "#     df = df_psd.iloc[ind[0]:ind[-1],:]\n",
    "#     df.reset_index(drop=True, inplace=True)\n",
    "    \n",
    "#     if freqs is None:\n",
    "#         ff_new = None\n",
    "#     else:\n",
    "#         ff_new = freqs[ind[0]:ind[-1]]\n",
    "        \n",
    "#     print(df.shape, len(ff_new))\n",
    "#     return df, ff_new"
   ]
  },
  {
   "cell_type": "code",
   "execution_count": 23,
   "id": "04ae2fb2",
   "metadata": {
    "ExecuteTime": {
     "end_time": "2022-11-28T18:00:14.530078Z",
     "start_time": "2022-11-28T18:00:14.517500Z"
    },
    "hidden": true
   },
   "outputs": [],
   "source": [
    "# ADR_Z_df, ff_Z = __cut_frequencies_dataframe(ADR_Z_df, 1/30, 1, freqs=ff_Z)\n",
    "# ADR_N_df, ff_N = __cut_frequencies_dataframe(ADR_N_df, 1/30, 1, freqs=ff_N)\n",
    "# ADR_E_df, ff_E = __cut_frequencies_dataframe(ADR_E_df, 1/30, 1, freqs=ff_E)"
   ]
  },
  {
   "cell_type": "code",
   "execution_count": 24,
   "id": "d3eea5d7",
   "metadata": {
    "ExecuteTime": {
     "end_time": "2022-11-28T18:00:14.545134Z",
     "start_time": "2022-11-28T18:00:14.531256Z"
    },
    "hidden": true
   },
   "outputs": [],
   "source": [
    "# ADR_Z = __get_array_from_dataframe(ADR_Z_df)\n",
    "# ADR_N = __get_array_from_dataframe(ADR_N_df)\n",
    "# ADR_E = __get_array_from_dataframe(ADR_E_df)"
   ]
  },
  {
   "cell_type": "markdown",
   "id": "d7d05f3d",
   "metadata": {
    "ExecuteTime": {
     "end_time": "2022-11-10T13:13:24.317324Z",
     "start_time": "2022-11-10T13:13:24.315321Z"
    }
   },
   "source": [
    "## Remove Noisy PSDs"
   ]
  },
  {
   "cell_type": "code",
   "execution_count": 78,
   "id": "92d7c1df",
   "metadata": {
    "ExecuteTime": {
     "end_time": "2022-11-29T16:41:34.723126Z",
     "start_time": "2022-11-29T16:41:34.713013Z"
    },
    "code_folding": [
     0
    ]
   },
   "outputs": [],
   "source": [
    "def __remove_noisy_psds(arr, times, threshold_mean=1e-16):\n",
    "\n",
    "    from numpy import delete, shape, sort, array, nan\n",
    "    \n",
    "    l1 = shape(arr)[0]\n",
    "\n",
    "    idx_to_remove = []\n",
    "    for ii in range(shape(arr)[0]):\n",
    "        \n",
    "        ## appy upper threshold\n",
    "        if arr[ii,:].mean() > threshold_mean:\n",
    "            idx_to_remove.append(ii)\n",
    "            \n",
    "        ## apply default lowe threshold\n",
    "        if arr[ii,:].mean() < 1e-26:\n",
    "            idx_to_remove.append(ii)\n",
    "            \n",
    "    for jj in sort(array(idx_to_remove))[::-1]:\n",
    "        \n",
    "        ## option 1: delte rows\n",
    "#         arr = delete(arr, jj, axis=0)\n",
    "#         times = delete(times, jj, axis=0)\n",
    "\n",
    "        ## option 2: replace with nan values\n",
    "        arr[jj,:] = ones(len(arr[jj]))*nan\n",
    "    \n",
    "    l2 = shape(arr)[0]\n",
    "    \n",
    "    print(f\" -> removed {l1-l2} rows due to mean thresholds!\")\n",
    "    print(f\" -> {l2} psds remain\")\n",
    "    \n",
    "    return arr, times"
   ]
  },
  {
   "cell_type": "code",
   "execution_count": 79,
   "id": "2b8b1666",
   "metadata": {
    "ExecuteTime": {
     "end_time": "2022-11-29T16:41:34.940530Z",
     "start_time": "2022-11-29T16:41:34.725360Z"
    },
    "code_folding": []
   },
   "outputs": [
    {
     "name": "stdout",
     "output_type": "stream",
     "text": [
      " -> removed 0 rows due to mean thresholds!\n",
      " -> 8760 psds remain\n",
      " -> removed 0 rows due to mean thresholds!\n",
      " -> 8760 psds remain\n"
     ]
    }
   ],
   "source": [
    "FUR_Z, times_FUR_Z = __remove_noisy_psds(FUR_Z, times_FUR_Z, threshold_mean=config['thres_fur'])\n",
    "ROMY_Z, times_ROMY_Z = __remove_noisy_psds(ROMY_Z, times_ROMY_Z, threshold_mean=config['thres_romy'])\n"
   ]
  },
  {
   "cell_type": "markdown",
   "id": "c9e6e75d",
   "metadata": {},
   "source": [
    "## Write Statistics to Files"
   ]
  },
  {
   "cell_type": "code",
   "execution_count": 42,
   "id": "087beef5",
   "metadata": {
    "ExecuteTime": {
     "end_time": "2022-11-29T16:33:35.699538Z",
     "start_time": "2022-11-29T16:33:35.692899Z"
    },
    "code_folding": [
     0
    ]
   },
   "outputs": [],
   "source": [
    "def __write_stats_mod(config, ff, arr, comp):\n",
    "    \n",
    "    out_df = DataFrame()\n",
    "\n",
    "    out_df['frequencies'] = ff\n",
    "    out_df['minimal'] = __get_minimal_psd(arr)\n",
    "    out_df['median'] = __get_median_psd(arr)\n",
    "    out_df['minimum'] = __get_minimum_psd(arr)\n",
    "    out_df['mean'] = __get_mean_psd(arr)\n",
    "\n",
    "    print(f\" -> writing {config['inpath'].replace('Z',comp)}{config['inname'].replace('Z',comp)}_stats_mod.pkl\")\n",
    "    out_df.to_pickle(f\"{config['inpath'].replace('Z',comp)}{config['inname'].replace('Z',comp)}_stats_mod.pkl\")"
   ]
  },
  {
   "cell_type": "code",
   "execution_count": 43,
   "id": "63b02e0b",
   "metadata": {
    "ExecuteTime": {
     "end_time": "2022-11-29T16:33:36.004598Z",
     "start_time": "2022-11-29T16:33:36.001818Z"
    }
   },
   "outputs": [],
   "source": [
    "# __write_stats_mod(config, ff_N, ADR_N, \"N\")\n",
    "# __write_stats_mod(config, ff_E, ADR_E, \"E\")\n",
    "# __write_stats_mod(config, ff_Z, ADR_Z, \"Z\")"
   ]
  },
  {
   "cell_type": "markdown",
   "id": "086fd5d0",
   "metadata": {},
   "source": [
    "## Plotting"
   ]
  },
  {
   "cell_type": "code",
   "execution_count": 44,
   "id": "5c6e0837",
   "metadata": {
    "ExecuteTime": {
     "end_time": "2022-11-29T16:33:36.423118Z",
     "start_time": "2022-11-29T16:33:36.410194Z"
    },
    "code_folding": [
     0
    ]
   },
   "outputs": [],
   "source": [
    "def __makeplot_image(ff, psds, times, dates=None):\n",
    "    \n",
    "    from tqdm.notebook import tqdm\n",
    "    from numpy import isnan, median, mean, std, array, zeros, nanmax, nanmin\n",
    "    from scipy.stats import median_abs_deviation as mad\n",
    "    from matplotlib import colors\n",
    "\n",
    "\n",
    "    ##____________________________\n",
    "        \n",
    "    fig, axes = plt.subplots(1, 1, figsize=(12,8), sharey=False, sharex=False)\n",
    "\n",
    "    plt.subplots_adjust(hspace=0.1)\n",
    "    \n",
    "    font = 14\n",
    "\n",
    "    N = int(24*365)\n",
    "\n",
    "    \n",
    "    cmap = plt.cm.get_cmap('rainbow')\n",
    "#     cmap.set_under(color='black')\n",
    "#     cmap.set_over(color='white')\n",
    "    \n",
    "    \n",
    "    max_psds = nanmax(psds)\n",
    "    min_psds = nanmin(psds)\n",
    "\n",
    "    im = axes.pcolormesh(times, 1/array(ff), psds.T, \n",
    "                            cmap=cmap,\n",
    "                            vmax=max_psds,\n",
    "                            vmin=min_psds,\n",
    "                            norm=colors.LogNorm(),\n",
    "                            )\n",
    "\n",
    "    axes.tick_params(labelsize=font-2)\n",
    "\n",
    "\n",
    "    axes.set_ylim(config['period_limits'][0], config['period_limits'][1])\n",
    "    axes.set_yscale(\"log\")\n",
    "\n",
    "    ## set colorbar at bottom\n",
    "    cbar = fig.colorbar(im, orientation='vertical', ax=axes.ravel().tolist(), aspect=30, pad=0.01)\n",
    "    cbar.set_label(r\"PSD (rad$^2$/s$^2$/$Hz$)\", fontsize=font-2, labelpad=-53)\n",
    "\n",
    "    axes.set_xlabel(\"Days of 2019\", fontsize=font, labelpad=-1)\n",
    "\n",
    "    new_ticks = [int(round(t/24,0)) for t in axes.get_xticks()]\n",
    "    axes.set_xticklabels(new_ticks)\n",
    "    \n",
    "    ## panel labels\n",
    "    axes.text(.01, .99, 'a)', ha='left', va='top', transform=axes.transAxes, fontsize=font+2)\n",
    "    \n",
    "    ## data labels\n",
    "    array = name.split(\"_\")[0]\n",
    "      \n",
    "    axes.set_ylabel(r\"Periods (s)\", fontsize=font)\n",
    "    \n",
    "    plt.show();    \n",
    "    return fig"
   ]
  },
  {
   "cell_type": "code",
   "execution_count": 45,
   "id": "612cc72e",
   "metadata": {
    "ExecuteTime": {
     "end_time": "2022-11-29T16:33:36.589038Z",
     "start_time": "2022-11-29T16:33:36.577022Z"
    }
   },
   "outputs": [
    {
     "ename": "NameError",
     "evalue": "name 'ADR_Z' is not defined",
     "output_type": "error",
     "traceback": [
      "\u001b[0;31m---------------------------------------------------------------------------\u001b[0m",
      "\u001b[0;31mNameError\u001b[0m                                 Traceback (most recent call last)",
      "\u001b[0;32m<ipython-input-45-cb5ac5b799e4>\u001b[0m in \u001b[0;36m<module>\u001b[0;34m\u001b[0m\n\u001b[1;32m      1\u001b[0m \u001b[0mnn\u001b[0m \u001b[0;34m=\u001b[0m \u001b[0;36m500\u001b[0m\u001b[0;34m\u001b[0m\u001b[0;34m\u001b[0m\u001b[0m\n\u001b[0;32m----> 2\u001b[0;31m \u001b[0mtmp\u001b[0m \u001b[0;34m=\u001b[0m \u001b[0mlinspace\u001b[0m\u001b[0;34m(\u001b[0m\u001b[0;36m0\u001b[0m\u001b[0;34m,\u001b[0m \u001b[0mshape\u001b[0m\u001b[0;34m(\u001b[0m\u001b[0mADR_Z\u001b[0m\u001b[0;34m)\u001b[0m\u001b[0;34m[\u001b[0m\u001b[0;36m0\u001b[0m\u001b[0;34m]\u001b[0m\u001b[0;34m,\u001b[0m \u001b[0mshape\u001b[0m\u001b[0;34m(\u001b[0m\u001b[0mADR_Z\u001b[0m\u001b[0;34m)\u001b[0m\u001b[0;34m[\u001b[0m\u001b[0;36m0\u001b[0m\u001b[0;34m]\u001b[0m\u001b[0;34m)\u001b[0m\u001b[0;34m\u001b[0m\u001b[0;34m\u001b[0m\u001b[0m\n\u001b[0m\u001b[1;32m      3\u001b[0m \u001b[0;34m\u001b[0m\u001b[0m\n\u001b[1;32m      4\u001b[0m \u001b[0;31m# fig = __makeplot_image(times_N[:nn], ff_N, ADR_N[:nn,:])\u001b[0m\u001b[0;34m\u001b[0m\u001b[0;34m\u001b[0m\u001b[0;34m\u001b[0m\u001b[0m\n\u001b[1;32m      5\u001b[0m \u001b[0;34m\u001b[0m\u001b[0m\n",
      "\u001b[0;31mNameError\u001b[0m: name 'ADR_Z' is not defined"
     ]
    }
   ],
   "source": [
    "nn = 500\n",
    "tmp = linspace(0, shape(ADR_Z)[0], shape(ADR_Z)[0])\n",
    "\n",
    "# fig = __makeplot_image(times_N[:nn], ff_N, ADR_N[:nn,:])\n",
    "\n",
    "# fig = __makeplot_image(times_Z, ff_Z, ADR_Z)"
   ]
  },
  {
   "cell_type": "code",
   "execution_count": 84,
   "id": "352b1eb6",
   "metadata": {
    "ExecuteTime": {
     "end_time": "2022-11-29T17:16:06.059950Z",
     "start_time": "2022-11-29T17:16:06.051104Z"
    }
   },
   "outputs": [
    {
     "data": {
      "text/plain": [
       "((8662, 12800), (8760,), (12800,))"
      ]
     },
     "execution_count": 84,
     "metadata": {},
     "output_type": "execute_result"
    }
   ],
   "source": [
    "shape(FUR_Z), shape(times_FUR_Z), shape(ff_FUR_Z)\n",
    "\n"
   ]
  },
  {
   "cell_type": "code",
   "execution_count": 66,
   "id": "eec74dbe",
   "metadata": {
    "ExecuteTime": {
     "end_time": "2022-11-29T16:37:10.352260Z",
     "start_time": "2022-11-29T16:37:10.333830Z"
    },
    "code_folding": []
   },
   "outputs": [],
   "source": [
    "def __makeplot_image_overview(ff, psds, times, dates=None):\n",
    "    \n",
    "    from tqdm.notebook import tqdm\n",
    "    from numpy import isnan, median, mean, std, array, zeros, nanmax, nanmin\n",
    "    from scipy.stats import median_abs_deviation as mad\n",
    "    from matplotlib import colors\n",
    "\n",
    "    \n",
    "    ## theoretical rlnm\n",
    "#     rlnm = read_csv(config['rlnm_model_path']+\"rlnm_theory.csv\")\n",
    "\n",
    "    ## convert frequencies to periods\n",
    "    pp=[]\n",
    "    for mm in range(len(ff)):\n",
    "        ppp = zeros(len(ff[mm]))\n",
    "        ppp = 1/ff[mm]\n",
    "        pp.append(ppp)\n",
    "        \n",
    "    ##____________________________\n",
    "    \n",
    "    NN = 3\n",
    "    \n",
    "    fig, axes = plt.subplots(NN, 1, figsize=(12,12), sharey=False, sharex=True)\n",
    "\n",
    "    plt.subplots_adjust(hspace=0.1)\n",
    "    \n",
    "    font = 14\n",
    "\n",
    "    N = int(24*365)\n",
    "\n",
    "    max_psds = max(nanmax(psds[0]), nanmax(psds[1]), nanmax(psds[2]))\n",
    "    min_psds = min(nanmin(psds[0]), nanmin(psds[1]), nanmin(psds[2]))\n",
    "    \n",
    "    cmap = plt.cm.get_cmap('rainbow')\n",
    "#     cmap.set_under(color='black')\n",
    "#     cmap.set_over(color='white')\n",
    "#     cmap.set_bad(color='white')\n",
    "\n",
    "    \n",
    "    for j in tqdm(range(NN)):\n",
    "\n",
    "        im = axes[j].pcolormesh(times[j], 1/ff[j], psds[j].T, \n",
    "                                cmap=cmap,\n",
    "                                vmax=max_psds*1e-2,\n",
    "                                vmin=min_psds*1e1,\n",
    "                                norm=colors.LogNorm(),\n",
    "                                )\n",
    "        \n",
    "        axes[j].tick_params(labelsize=font-2)\n",
    "        \n",
    "\n",
    "        axes[j].set_ylim(config['period_limits'][0], config['period_limits'][1])\n",
    "        axes[j].set_yscale(\"log\")\n",
    "\n",
    "    axes[NN-1].set_xlabel(\"Days of 2019\", fontsize=font, labelpad=-1)\n",
    "\n",
    "    new_ticks = [int(round(t/24,0)) for t in axes[NN-1].get_xticks()]\n",
    "    axes[NN-1].set_xticklabels(new_ticks)\n",
    "    \n",
    "    ## panel labels\n",
    "    axes[0].text(.01, .99, 'a)', ha='left', va='top', transform=axes[0].transAxes, fontsize=font+2)\n",
    "    axes[1].text(.01, .99, 'b)', ha='left', va='top', transform=axes[1].transAxes, fontsize=font+2)\n",
    "    axes[2].text(.01, .99, 'c)', ha='left', va='top', transform=axes[2].transAxes, fontsize=font+2)\n",
    "    \n",
    "    ## data labels\n",
    "    array = name.split(\"_\")[0]\n",
    "    axes[0].text(.99, .99, f'{array} ADR $vertical$', ha='right', va='top', transform=axes[0].transAxes, fontsize=font)\n",
    "    axes[1].text(.99, .99, f'{array} ADR $north$', ha='right', va='top', transform=axes[1].transAxes, fontsize=font)\n",
    "    axes[2].text(.99, .99, f'{array} ADR $east$', ha='right', va='top', transform=axes[2].transAxes, fontsize=font)\n",
    "    \n",
    "    \n",
    "    axes[0].set_ylabel(r\"Periods (s)\", fontsize=font)\n",
    "    axes[1].set_ylabel(r\"Periods (s)\", fontsize=font)\n",
    "    axes[2].set_ylabel(r\"Periods (s)\", fontsize=font)\n",
    "    \n",
    "    ## set colorbar at bottom\n",
    "    cbar = fig.colorbar(im, orientation='vertical', ax=axes.ravel().tolist(), aspect=30, pad=0.01)\n",
    "    cbar.set_label(r\"PSD (rad$^2$/s$^2$/$Hz$)\", fontsize=font-2, labelpad=-53)\n",
    "\n",
    "    plt.show();    \n",
    "    return fig"
   ]
  },
  {
   "cell_type": "code",
   "execution_count": 67,
   "id": "4d7bf1f5",
   "metadata": {
    "ExecuteTime": {
     "end_time": "2022-11-29T16:37:10.914552Z",
     "start_time": "2022-11-29T16:37:10.533845Z"
    },
    "scrolled": true
   },
   "outputs": [
    {
     "data": {
      "application/vnd.jupyter.widget-view+json": {
       "model_id": "ab877cdcb0dc4590a962863752654afe",
       "version_major": 2,
       "version_minor": 0
      },
      "text/plain": [
       "HBox(children=(HTML(value=''), FloatProgress(value=0.0, max=3.0), HTML(value='')))"
      ]
     },
     "metadata": {},
     "output_type": "display_data"
    },
    {
     "name": "stdout",
     "output_type": "stream",
     "text": [
      "\n"
     ]
    },
    {
     "ename": "TypeError",
     "evalue": "Dimensions of C (1272, 8760) are incompatible with X (0) and/or Y (1272); see help(pcolormesh)",
     "output_type": "error",
     "traceback": [
      "\u001b[0;31m---------------------------------------------------------------------------\u001b[0m",
      "\u001b[0;31mTypeError\u001b[0m                                 Traceback (most recent call last)",
      "\u001b[0;32m<ipython-input-67-a2f7ae56b121>\u001b[0m in \u001b[0;36m<module>\u001b[0;34m\u001b[0m\n\u001b[1;32m     11\u001b[0m                                 \u001b[0;34m[\u001b[0m\u001b[0mFUR_Z\u001b[0m\u001b[0;34m,\u001b[0m \u001b[0mROMY_Z\u001b[0m\u001b[0;34m,\u001b[0m \u001b[0mROMY_Z\u001b[0m\u001b[0;34m]\u001b[0m\u001b[0;34m,\u001b[0m\u001b[0;34m\u001b[0m\u001b[0;34m\u001b[0m\u001b[0m\n\u001b[1;32m     12\u001b[0m                                 \u001b[0;34m[\u001b[0m\u001b[0mtimes_FUR_Z\u001b[0m\u001b[0;34m,\u001b[0m \u001b[0mtimes_ROMY_Z\u001b[0m\u001b[0;34m,\u001b[0m \u001b[0mtimes_ROMY_Z\u001b[0m\u001b[0;34m]\u001b[0m\u001b[0;34m,\u001b[0m\u001b[0;34m\u001b[0m\u001b[0;34m\u001b[0m\u001b[0m\n\u001b[0;32m---> 13\u001b[0;31m                                 \u001b[0mdates\u001b[0m\u001b[0;34m=\u001b[0m\u001b[0mtmp\u001b[0m\u001b[0;34m\u001b[0m\u001b[0;34m\u001b[0m\u001b[0m\n\u001b[0m\u001b[1;32m     14\u001b[0m                                 )\n",
      "\u001b[0;32m<ipython-input-66-f43227f28cc3>\u001b[0m in \u001b[0;36m__makeplot_image_overview\u001b[0;34m(ff, psds, times, dates)\u001b[0m\n\u001b[1;32m     44\u001b[0m                                 \u001b[0mvmax\u001b[0m\u001b[0;34m=\u001b[0m\u001b[0mmax_psds\u001b[0m\u001b[0;34m*\u001b[0m\u001b[0;36m1e-2\u001b[0m\u001b[0;34m,\u001b[0m\u001b[0;34m\u001b[0m\u001b[0;34m\u001b[0m\u001b[0m\n\u001b[1;32m     45\u001b[0m                                 \u001b[0mvmin\u001b[0m\u001b[0;34m=\u001b[0m\u001b[0mmin_psds\u001b[0m\u001b[0;34m*\u001b[0m\u001b[0;36m1e1\u001b[0m\u001b[0;34m,\u001b[0m\u001b[0;34m\u001b[0m\u001b[0;34m\u001b[0m\u001b[0m\n\u001b[0;32m---> 46\u001b[0;31m                                 \u001b[0mnorm\u001b[0m\u001b[0;34m=\u001b[0m\u001b[0mcolors\u001b[0m\u001b[0;34m.\u001b[0m\u001b[0mLogNorm\u001b[0m\u001b[0;34m(\u001b[0m\u001b[0;34m)\u001b[0m\u001b[0;34m,\u001b[0m\u001b[0;34m\u001b[0m\u001b[0;34m\u001b[0m\u001b[0m\n\u001b[0m\u001b[1;32m     47\u001b[0m                                 )\n\u001b[1;32m     48\u001b[0m \u001b[0;34m\u001b[0m\u001b[0m\n",
      "\u001b[0;32m~/anaconda3/envs/obs/lib/python3.7/site-packages/matplotlib/__init__.py\u001b[0m in \u001b[0;36minner\u001b[0;34m(ax, data, *args, **kwargs)\u001b[0m\n\u001b[1;32m   1436\u001b[0m     \u001b[0;32mdef\u001b[0m \u001b[0minner\u001b[0m\u001b[0;34m(\u001b[0m\u001b[0max\u001b[0m\u001b[0;34m,\u001b[0m \u001b[0;34m*\u001b[0m\u001b[0margs\u001b[0m\u001b[0;34m,\u001b[0m \u001b[0mdata\u001b[0m\u001b[0;34m=\u001b[0m\u001b[0;32mNone\u001b[0m\u001b[0;34m,\u001b[0m \u001b[0;34m**\u001b[0m\u001b[0mkwargs\u001b[0m\u001b[0;34m)\u001b[0m\u001b[0;34m:\u001b[0m\u001b[0;34m\u001b[0m\u001b[0;34m\u001b[0m\u001b[0m\n\u001b[1;32m   1437\u001b[0m         \u001b[0;32mif\u001b[0m \u001b[0mdata\u001b[0m \u001b[0;32mis\u001b[0m \u001b[0;32mNone\u001b[0m\u001b[0;34m:\u001b[0m\u001b[0;34m\u001b[0m\u001b[0;34m\u001b[0m\u001b[0m\n\u001b[0;32m-> 1438\u001b[0;31m             \u001b[0;32mreturn\u001b[0m \u001b[0mfunc\u001b[0m\u001b[0;34m(\u001b[0m\u001b[0max\u001b[0m\u001b[0;34m,\u001b[0m \u001b[0;34m*\u001b[0m\u001b[0mmap\u001b[0m\u001b[0;34m(\u001b[0m\u001b[0msanitize_sequence\u001b[0m\u001b[0;34m,\u001b[0m \u001b[0margs\u001b[0m\u001b[0;34m)\u001b[0m\u001b[0;34m,\u001b[0m \u001b[0;34m**\u001b[0m\u001b[0mkwargs\u001b[0m\u001b[0;34m)\u001b[0m\u001b[0;34m\u001b[0m\u001b[0;34m\u001b[0m\u001b[0m\n\u001b[0m\u001b[1;32m   1439\u001b[0m \u001b[0;34m\u001b[0m\u001b[0m\n\u001b[1;32m   1440\u001b[0m         \u001b[0mbound\u001b[0m \u001b[0;34m=\u001b[0m \u001b[0mnew_sig\u001b[0m\u001b[0;34m.\u001b[0m\u001b[0mbind\u001b[0m\u001b[0;34m(\u001b[0m\u001b[0max\u001b[0m\u001b[0;34m,\u001b[0m \u001b[0;34m*\u001b[0m\u001b[0margs\u001b[0m\u001b[0;34m,\u001b[0m \u001b[0;34m**\u001b[0m\u001b[0mkwargs\u001b[0m\u001b[0;34m)\u001b[0m\u001b[0;34m\u001b[0m\u001b[0;34m\u001b[0m\u001b[0m\n",
      "\u001b[0;32m~/anaconda3/envs/obs/lib/python3.7/site-packages/matplotlib/axes/_axes.py\u001b[0m in \u001b[0;36mpcolormesh\u001b[0;34m(self, alpha, norm, cmap, vmin, vmax, shading, antialiased, *args, **kwargs)\u001b[0m\n\u001b[1;32m   6092\u001b[0m \u001b[0;34m\u001b[0m\u001b[0m\n\u001b[1;32m   6093\u001b[0m         X, Y, C, shading = self._pcolorargs('pcolormesh', *args,\n\u001b[0;32m-> 6094\u001b[0;31m                                             shading=shading)\n\u001b[0m\u001b[1;32m   6095\u001b[0m         \u001b[0mNy\u001b[0m\u001b[0;34m,\u001b[0m \u001b[0mNx\u001b[0m \u001b[0;34m=\u001b[0m \u001b[0mX\u001b[0m\u001b[0;34m.\u001b[0m\u001b[0mshape\u001b[0m\u001b[0;34m\u001b[0m\u001b[0;34m\u001b[0m\u001b[0m\n\u001b[1;32m   6096\u001b[0m         \u001b[0mX\u001b[0m \u001b[0;34m=\u001b[0m \u001b[0mX\u001b[0m\u001b[0;34m.\u001b[0m\u001b[0mravel\u001b[0m\u001b[0;34m(\u001b[0m\u001b[0;34m)\u001b[0m\u001b[0;34m\u001b[0m\u001b[0;34m\u001b[0m\u001b[0m\n",
      "\u001b[0;32m~/anaconda3/envs/obs/lib/python3.7/site-packages/matplotlib/axes/_axes.py\u001b[0m in \u001b[0;36m_pcolorargs\u001b[0;34m(funcname, shading, *args)\u001b[0m\n\u001b[1;32m   5608\u001b[0m                 raise TypeError('Dimensions of C %s are incompatible with'\n\u001b[1;32m   5609\u001b[0m                                 ' X (%d) and/or Y (%d); see help(%s)' % (\n\u001b[0;32m-> 5610\u001b[0;31m                                     C.shape, Nx, Ny, funcname))\n\u001b[0m\u001b[1;32m   5611\u001b[0m             \u001b[0;32mif\u001b[0m \u001b[0;34m(\u001b[0m\u001b[0mncols\u001b[0m \u001b[0;34m==\u001b[0m \u001b[0mNx\u001b[0m \u001b[0;32mor\u001b[0m \u001b[0mnrows\u001b[0m \u001b[0;34m==\u001b[0m \u001b[0mNy\u001b[0m\u001b[0;34m)\u001b[0m\u001b[0;34m:\u001b[0m\u001b[0;34m\u001b[0m\u001b[0;34m\u001b[0m\u001b[0m\n\u001b[1;32m   5612\u001b[0m                 cbook.warn_deprecated(\n",
      "\u001b[0;31mTypeError\u001b[0m: Dimensions of C (1272, 8760) are incompatible with X (0) and/or Y (1272); see help(pcolormesh)"
     ]
    },
    {
     "data": {
      "image/png": "[encoded data removed]",
      "text/plain": [
       "<Figure size 864x864 with 3 Axes>"
      ]
     },
     "metadata": {
      "needs_background": "light"
     },
     "output_type": "display_data"
    }
   ],
   "source": [
    "nn = 20\n",
    "tmp = linspace(0, shape(FUR_Z)[0], shape(FUR_Z)[0])\n",
    "\n",
    "# fig = __makeplot_image_overview([ff_Z, ff_N, ff_E], \n",
    "#                                      [ADR_Z[:nn,:], ADR_N[:nn,:], ADR_E[:nn,:]], \n",
    "#                                      [times_Z[:nn], times_N[:nn], times_E[:nn]],\n",
    "#                                      dates=tmp\n",
    "#                                     )\n",
    "\n",
    "fig = __makeplot_image_overview([ff_FUR_Z, ff_ROMY_Z, ff_ROMY_Z], \n",
    "                                [FUR_Z, ROMY_Z, ROMY_Z], \n",
    "                                [times_FUR_Z, times_ROMY_Z, times_ROMY_Z], \n",
    "                                dates=tmp\n",
    "                                )"
   ]
  },
  {
   "cell_type": "code",
   "execution_count": 72,
   "id": "61bcb688",
   "metadata": {
    "ExecuteTime": {
     "end_time": "2022-11-28T18:39:25.976775Z",
     "start_time": "2022-11-28T18:39:15.088913Z"
    }
   },
   "outputs": [
    {
     "name": "stdout",
     "output_type": "stream",
     "text": [
      "\n",
      "   -> saving /import/kilauea-data/LNM/figures_final/PFO_psdimage_final.png ...\n",
      "\n",
      "   -> Done\n",
      "\n"
     ]
    }
   ],
   "source": [
    "__savefig(fig, outpath=config['outpath_figures'], outname=f\"{name}_psdimage_final\", mode=\"png\", dpi=300)"
   ]
  },
  {
   "cell_type": "code",
   "execution_count": null,
   "id": "0fd2e234",
   "metadata": {},
   "outputs": [],
   "source": []
  },
  {
   "cell_type": "code",
   "execution_count": 34,
   "id": "3a5c40d5",
   "metadata": {
    "ExecuteTime": {
     "end_time": "2022-11-28T18:00:44.667483Z",
     "start_time": "2022-11-28T18:00:44.665681Z"
    }
   },
   "outputs": [],
   "source": [
    "# fig = plt.figure(constrained_layout=True, figsize=(12,8))\n",
    "# widths = [4, 1]\n",
    "# heights = [1, 1, 1]\n",
    "# spec = fig.add_gridspec(ncols=2, nrows=3, width_ratios=widths, height_ratios=heights)\n",
    "\n",
    "# ax1 = fig.add_subplot(spec[0, 0])\n",
    "# ax2 = fig.add_subplot(spec[0, 1], sharey=ax1)\n",
    "# ax3 = fig.add_subplot(spec[1, 0], sharex=ax1)\n",
    "# ax4 = fig.add_subplot(spec[1, 1], sharey=ax3)\n",
    "# ax5 = fig.add_subplot(spec[2, 0], sharex=ax3)\n",
    "# ax6 = fig.add_subplot(spec[2, 1], sharey=ax3)\n",
    "\n",
    "# ax1.plot([12,3], [2,4])\n",
    "# ax2.plot([12,3], [2,4])\n",
    "\n",
    "\n",
    "# plt.setp(ax2.get_yticklabels(), visible=False)"
   ]
  },
  {
   "cell_type": "markdown",
   "id": "13034f40",
   "metadata": {
    "heading_collapsed": true
   },
   "source": [
    "## Limit it by computing medians "
   ]
  },
  {
   "cell_type": "code",
   "execution_count": 35,
   "id": "5a062b20",
   "metadata": {
    "ExecuteTime": {
     "end_time": "2022-11-28T18:00:44.693461Z",
     "start_time": "2022-11-28T18:00:44.668606Z"
    },
    "code_folding": [
     0
    ],
    "hidden": true
   },
   "outputs": [],
   "source": [
    "def __makeplot_colorlines_overview(ff, psds, dates=None):\n",
    "    \n",
    "    from tqdm.notebook import tqdm\n",
    "    from numpy import isnan, median, mean, std, array, zeros\n",
    "    from scipy.stats import median_abs_deviation as mad\n",
    "    \n",
    "#     psds_median = __get_median_psd(array(psds))\n",
    "#     psds_minimal = __get_minimal_psd(array(psds))\n",
    "#     psds_minimum = __get_minimum_psd(array(psds), ff)\n",
    "\n",
    "    ## theoretical rlnm\n",
    "    rlnm = read_csv(config['rlnm_model_path']+\"rlnm_theory.csv\")\n",
    "\n",
    "    ## convert frequencies to periods\n",
    "    pp=[]\n",
    "    for mm in range(len(ff)):\n",
    "        ppp = zeros(len(ff[mm]))\n",
    "        ppp[:-1] = 1/ff[mm][1:]\n",
    "        pp.append(ppp)\n",
    "        \n",
    "    ##____________________________\n",
    "    \n",
    "    NN = 3\n",
    "    \n",
    "    fig, axes = plt.subplots(NN,1, figsize=(10,10), sharey=False, sharex=True)\n",
    "\n",
    "    plt.subplots_adjust(hspace=0.1)\n",
    "    \n",
    "    font = 14\n",
    "\n",
    "    N = max(psds[0].shape[0], psds[1].shape[0], psds[2].shape[0])\n",
    "    colors = plt.cm.rainbow(linspace(0, 1, N))\n",
    "\n",
    "    ## add Frequency Axis\n",
    "    g = lambda x: 1/x\n",
    "    ax2 = axes[0].secondary_xaxis(\"top\", functions=(g,g))\n",
    "    ax2.set_xlabel(\"  Frequency (Hz)\", fontsize=font, labelpad=-5)\n",
    "    ax2.set_xticklabels(ff[2], fontsize=11)    \n",
    "    ax2.tick_params(axis='both', labelsize=font-2)\n",
    "    \n",
    "    \n",
    "    for j in range(NN):\n",
    "        for n, psd in enumerate(tqdm(psds[j])):\n",
    "            axes[j].loglog(pp[j], psd, color=colors[n], alpha=0.7)\n",
    "            p2 = axes[j].scatter(pp[j][0], psd[0], s=0., c=n, cmap='rainbow', vmin=0, vmax=N)\n",
    "\n",
    "        axes[j].loglog(pp[j], __get_minimum_psd(psds[j], ff[j]), 'grey', zorder=3, alpha=0.9, label=\"Minimum\")\n",
    "        axes[j].loglog(pp[j], __get_median_psd(psds[j]), 'black', zorder=3, alpha=0.9, label=\"Median\")\n",
    "        axes[j].loglog(rlnm['period'], rlnm['rlnm_psd_median'], color=\"black\", zorder=2, ls=\"--\", lw=2)\n",
    "        \n",
    "        axes[j].grid(True, which=\"both\", ls=\"-\", alpha=0.5)\n",
    "        axes[j].legend(loc='lower left')\n",
    "        axes[j].tick_params(labelsize=font-2)\n",
    "        \n",
    "        axes[j].text(6, 5e-25, \"RLNM\", fontsize=font, rotation=-30)\n",
    "\n",
    "        axes[j].set_xlim(config['period_limits'][0],config['period_limits'][1])\n",
    "#         axes[j].set_ylim(8e-27, 1e-17)\n",
    "\n",
    "\n",
    "    axes[NN-1].set_xlabel(\"  Period (s)\", fontsize=font, labelpad=-8)\n",
    "\n",
    "    ## panel labels\n",
    "    axes[0].text(.01, .99, 'a)', ha='left', va='top', transform=axes[0].transAxes, fontsize=font+2)\n",
    "    axes[1].text(.01, .99, 'b)', ha='left', va='top', transform=axes[1].transAxes, fontsize=font+2)\n",
    "    axes[2].text(.01, .99, 'c)', ha='left', va='top', transform=axes[2].transAxes, fontsize=font+2)\n",
    "    \n",
    "    \n",
    "    axes[0].set_ylabel(r\"PSD$_{vertical}$ (rad$^2$/s$^2$/$Hz)$\", fontsize=font)\n",
    "    axes[1].set_ylabel(r\"PSD$_{north}$ (rad$^2$/s$^2$/$Hz)$\", fontsize=font)\n",
    "    axes[2].set_ylabel(r\"PSD$_{east}$ (rad$^2$/s$^2$/$Hz)$\", fontsize=font)\n",
    "    \n",
    "    ## set colorbar at bottom\n",
    "    cbar = fig.colorbar(p2, orientation='vertical', ax=axes.ravel().tolist(), aspect=50, pad=-1e-5)\n",
    "\n",
    "    \n",
    "    ## redefine ticks of colorbar\n",
    "    if dates is not None:\n",
    "        new_ticks = []\n",
    "        for t in cbar.get_ticks(): \n",
    "            new_ticks.append(dates.astype(str)[int(t)])\n",
    "        cbar.ax.set_yticklabels(new_ticks)\n",
    "\n",
    "    plt.show();    \n",
    "    return fig"
   ]
  },
  {
   "cell_type": "code",
   "execution_count": 36,
   "id": "8212745e",
   "metadata": {
    "ExecuteTime": {
     "end_time": "2022-11-28T18:00:44.710752Z",
     "start_time": "2022-11-28T18:00:44.694526Z"
    },
    "code_folding": [
     0
    ],
    "hidden": true
   },
   "outputs": [],
   "source": [
    "def __compute_medians(arr, intervall=100):\n",
    "\n",
    "    delta_i = int(intervall)\n",
    "    d1, d2 = 0, delta_i\n",
    "\n",
    "    meds = zeros((int(len(arr)/delta_i), shape(arr)[1]))\n",
    "    idx = 0\n",
    "    while d2 < len(arr):\n",
    "        meds[idx] = __get_median_psd(arr[d1:d2,:])\n",
    "        idx +=1 \n",
    "        d1 += delta_i\n",
    "        d2 += delta_i\n",
    "\n",
    "    return meds"
   ]
  },
  {
   "cell_type": "code",
   "execution_count": 37,
   "id": "eb6638be",
   "metadata": {
    "ExecuteTime": {
     "end_time": "2022-11-28T18:01:33.580653Z",
     "start_time": "2022-11-28T18:00:44.711828Z"
    },
    "hidden": true
   },
   "outputs": [],
   "source": [
    "meds_N = __compute_medians(ADR_N, intervall=24)\n",
    "meds_E = __compute_medians(ADR_E, intervall=24)\n",
    "meds_Z = __compute_medians(ADR_Z, intervall=24)"
   ]
  },
  {
   "cell_type": "code",
   "execution_count": 38,
   "id": "956a9b34",
   "metadata": {
    "ExecuteTime": {
     "end_time": "2022-11-28T18:01:35.533215Z",
     "start_time": "2022-11-28T18:01:33.581735Z"
    },
    "hidden": true
   },
   "outputs": [
    {
     "data": {
      "application/vnd.jupyter.widget-view+json": {
       "model_id": "97b7d56dd4484be08eb49c0ed793e26a",
       "version_major": 2,
       "version_minor": 0
      },
      "text/plain": [
       "  0%|          | 0/363 [00:00<?, ?it/s]"
      ]
     },
     "metadata": {},
     "output_type": "display_data"
    },
    {
     "ename": "TypeError",
     "evalue": "__get_minimum_psd() takes 1 positional argument but 2 were given",
     "output_type": "error",
     "traceback": [
      "\u001b[0;31m---------------------------------------------------------------------------\u001b[0m",
      "\u001b[0;31mTypeError\u001b[0m                                 Traceback (most recent call last)",
      "\u001b[0;32m<ipython-input-38-021b22a3c4eb>\u001b[0m in \u001b[0;36m<module>\u001b[0;34m\u001b[0m\n\u001b[1;32m      2\u001b[0m \u001b[0mtmp\u001b[0m \u001b[0;34m=\u001b[0m \u001b[0mlinspace\u001b[0m\u001b[0;34m(\u001b[0m\u001b[0;36m0\u001b[0m\u001b[0;34m,\u001b[0m \u001b[0mshape\u001b[0m\u001b[0;34m(\u001b[0m\u001b[0mADR_Z\u001b[0m\u001b[0;34m)\u001b[0m\u001b[0;34m[\u001b[0m\u001b[0;36m0\u001b[0m\u001b[0;34m]\u001b[0m\u001b[0;34m,\u001b[0m \u001b[0mshape\u001b[0m\u001b[0;34m(\u001b[0m\u001b[0mADR_Z\u001b[0m\u001b[0;34m)\u001b[0m\u001b[0;34m[\u001b[0m\u001b[0;36m0\u001b[0m\u001b[0;34m]\u001b[0m\u001b[0;34m)\u001b[0m\u001b[0;34m\u001b[0m\u001b[0;34m\u001b[0m\u001b[0m\n\u001b[1;32m      3\u001b[0m \u001b[0;34m\u001b[0m\u001b[0m\n\u001b[0;32m----> 4\u001b[0;31m \u001b[0mfig\u001b[0m \u001b[0;34m=\u001b[0m \u001b[0m__makeplot_colorlines_overview\u001b[0m\u001b[0;34m(\u001b[0m\u001b[0;34m[\u001b[0m\u001b[0mff_Z\u001b[0m\u001b[0;34m,\u001b[0m \u001b[0mff_N\u001b[0m\u001b[0;34m,\u001b[0m \u001b[0mff_E\u001b[0m\u001b[0;34m]\u001b[0m\u001b[0;34m,\u001b[0m \u001b[0;34m[\u001b[0m\u001b[0mmeds_Z\u001b[0m\u001b[0;34m,\u001b[0m \u001b[0mmeds_N\u001b[0m\u001b[0;34m,\u001b[0m \u001b[0mmeds_E\u001b[0m\u001b[0;34m]\u001b[0m\u001b[0;34m,\u001b[0m \u001b[0mdates\u001b[0m\u001b[0;34m=\u001b[0m\u001b[0mtmp\u001b[0m\u001b[0;34m)\u001b[0m\u001b[0;34m\u001b[0m\u001b[0;34m\u001b[0m\u001b[0m\n\u001b[0m",
      "\u001b[0;32m<ipython-input-35-f50913b83847>\u001b[0m in \u001b[0;36m__makeplot_colorlines_overview\u001b[0;34m(ff, psds, dates)\u001b[0m\n\u001b[1;32m     45\u001b[0m             \u001b[0mp2\u001b[0m \u001b[0;34m=\u001b[0m \u001b[0maxes\u001b[0m\u001b[0;34m[\u001b[0m\u001b[0mj\u001b[0m\u001b[0;34m]\u001b[0m\u001b[0;34m.\u001b[0m\u001b[0mscatter\u001b[0m\u001b[0;34m(\u001b[0m\u001b[0mpp\u001b[0m\u001b[0;34m[\u001b[0m\u001b[0mj\u001b[0m\u001b[0;34m]\u001b[0m\u001b[0;34m[\u001b[0m\u001b[0;36m0\u001b[0m\u001b[0;34m]\u001b[0m\u001b[0;34m,\u001b[0m \u001b[0mpsd\u001b[0m\u001b[0;34m[\u001b[0m\u001b[0;36m0\u001b[0m\u001b[0;34m]\u001b[0m\u001b[0;34m,\u001b[0m \u001b[0ms\u001b[0m\u001b[0;34m=\u001b[0m\u001b[0;36m0.\u001b[0m\u001b[0;34m,\u001b[0m \u001b[0mc\u001b[0m\u001b[0;34m=\u001b[0m\u001b[0mn\u001b[0m\u001b[0;34m,\u001b[0m \u001b[0mcmap\u001b[0m\u001b[0;34m=\u001b[0m\u001b[0;34m'rainbow'\u001b[0m\u001b[0;34m,\u001b[0m \u001b[0mvmin\u001b[0m\u001b[0;34m=\u001b[0m\u001b[0;36m0\u001b[0m\u001b[0;34m,\u001b[0m \u001b[0mvmax\u001b[0m\u001b[0;34m=\u001b[0m\u001b[0mN\u001b[0m\u001b[0;34m)\u001b[0m\u001b[0;34m\u001b[0m\u001b[0;34m\u001b[0m\u001b[0m\n\u001b[1;32m     46\u001b[0m \u001b[0;34m\u001b[0m\u001b[0m\n\u001b[0;32m---> 47\u001b[0;31m         \u001b[0maxes\u001b[0m\u001b[0;34m[\u001b[0m\u001b[0mj\u001b[0m\u001b[0;34m]\u001b[0m\u001b[0;34m.\u001b[0m\u001b[0mloglog\u001b[0m\u001b[0;34m(\u001b[0m\u001b[0mpp\u001b[0m\u001b[0;34m[\u001b[0m\u001b[0mj\u001b[0m\u001b[0;34m]\u001b[0m\u001b[0;34m,\u001b[0m \u001b[0m__get_minimum_psd\u001b[0m\u001b[0;34m(\u001b[0m\u001b[0mpsds\u001b[0m\u001b[0;34m[\u001b[0m\u001b[0mj\u001b[0m\u001b[0;34m]\u001b[0m\u001b[0;34m,\u001b[0m \u001b[0mff\u001b[0m\u001b[0;34m[\u001b[0m\u001b[0mj\u001b[0m\u001b[0;34m]\u001b[0m\u001b[0;34m)\u001b[0m\u001b[0;34m,\u001b[0m \u001b[0;34m'grey'\u001b[0m\u001b[0;34m,\u001b[0m \u001b[0mzorder\u001b[0m\u001b[0;34m=\u001b[0m\u001b[0;36m3\u001b[0m\u001b[0;34m,\u001b[0m \u001b[0malpha\u001b[0m\u001b[0;34m=\u001b[0m\u001b[0;36m0.9\u001b[0m\u001b[0;34m,\u001b[0m \u001b[0mlabel\u001b[0m\u001b[0;34m=\u001b[0m\u001b[0;34m\"Minimum\"\u001b[0m\u001b[0;34m)\u001b[0m\u001b[0;34m\u001b[0m\u001b[0;34m\u001b[0m\u001b[0m\n\u001b[0m\u001b[1;32m     48\u001b[0m         \u001b[0maxes\u001b[0m\u001b[0;34m[\u001b[0m\u001b[0mj\u001b[0m\u001b[0;34m]\u001b[0m\u001b[0;34m.\u001b[0m\u001b[0mloglog\u001b[0m\u001b[0;34m(\u001b[0m\u001b[0mpp\u001b[0m\u001b[0;34m[\u001b[0m\u001b[0mj\u001b[0m\u001b[0;34m]\u001b[0m\u001b[0;34m,\u001b[0m \u001b[0m__get_median_psd\u001b[0m\u001b[0;34m(\u001b[0m\u001b[0mpsds\u001b[0m\u001b[0;34m[\u001b[0m\u001b[0mj\u001b[0m\u001b[0;34m]\u001b[0m\u001b[0;34m)\u001b[0m\u001b[0;34m,\u001b[0m \u001b[0;34m'black'\u001b[0m\u001b[0;34m,\u001b[0m \u001b[0mzorder\u001b[0m\u001b[0;34m=\u001b[0m\u001b[0;36m3\u001b[0m\u001b[0;34m,\u001b[0m \u001b[0malpha\u001b[0m\u001b[0;34m=\u001b[0m\u001b[0;36m0.9\u001b[0m\u001b[0;34m,\u001b[0m \u001b[0mlabel\u001b[0m\u001b[0;34m=\u001b[0m\u001b[0;34m\"Median\"\u001b[0m\u001b[0;34m)\u001b[0m\u001b[0;34m\u001b[0m\u001b[0;34m\u001b[0m\u001b[0m\n\u001b[1;32m     49\u001b[0m         \u001b[0maxes\u001b[0m\u001b[0;34m[\u001b[0m\u001b[0mj\u001b[0m\u001b[0;34m]\u001b[0m\u001b[0;34m.\u001b[0m\u001b[0mloglog\u001b[0m\u001b[0;34m(\u001b[0m\u001b[0mrlnm\u001b[0m\u001b[0;34m[\u001b[0m\u001b[0;34m'period'\u001b[0m\u001b[0;34m]\u001b[0m\u001b[0;34m,\u001b[0m \u001b[0mrlnm\u001b[0m\u001b[0;34m[\u001b[0m\u001b[0;34m'rlnm_psd_median'\u001b[0m\u001b[0;34m]\u001b[0m\u001b[0;34m,\u001b[0m \u001b[0mcolor\u001b[0m\u001b[0;34m=\u001b[0m\u001b[0;34m\"black\"\u001b[0m\u001b[0;34m,\u001b[0m \u001b[0mzorder\u001b[0m\u001b[0;34m=\u001b[0m\u001b[0;36m2\u001b[0m\u001b[0;34m,\u001b[0m \u001b[0mls\u001b[0m\u001b[0;34m=\u001b[0m\u001b[0;34m\"--\"\u001b[0m\u001b[0;34m,\u001b[0m \u001b[0mlw\u001b[0m\u001b[0;34m=\u001b[0m\u001b[0;36m2\u001b[0m\u001b[0;34m)\u001b[0m\u001b[0;34m\u001b[0m\u001b[0;34m\u001b[0m\u001b[0m\n",
      "\u001b[0;31mTypeError\u001b[0m: __get_minimum_psd() takes 1 positional argument but 2 were given"
     ]
    },
    {
     "name": "stderr",
     "output_type": "stream",
     "text": [
      "/home/brotzer/anaconda3/lib/python3.7/site-packages/ipykernel_launcher.py:35: RuntimeWarning: overflow encountered in true_divide\n"
     ]
    },
    {
     "ename": "ValueError",
     "evalue": "Axis limits cannot be NaN or Inf",
     "output_type": "error",
     "traceback": [
      "\u001b[0;31m---------------------------------------------------------------------------\u001b[0m",
      "\u001b[0;31mValueError\u001b[0m                                Traceback (most recent call last)",
      "\u001b[0;32m~/anaconda3/lib/python3.7/site-packages/IPython/core/formatters.py\u001b[0m in \u001b[0;36m__call__\u001b[0;34m(self, obj)\u001b[0m\n\u001b[1;32m    339\u001b[0m                 \u001b[0;32mpass\u001b[0m\u001b[0;34m\u001b[0m\u001b[0;34m\u001b[0m\u001b[0m\n\u001b[1;32m    340\u001b[0m             \u001b[0;32melse\u001b[0m\u001b[0;34m:\u001b[0m\u001b[0;34m\u001b[0m\u001b[0;34m\u001b[0m\u001b[0m\n\u001b[0;32m--> 341\u001b[0;31m                 \u001b[0;32mreturn\u001b[0m \u001b[0mprinter\u001b[0m\u001b[0;34m(\u001b[0m\u001b[0mobj\u001b[0m\u001b[0;34m)\u001b[0m\u001b[0;34m\u001b[0m\u001b[0;34m\u001b[0m\u001b[0m\n\u001b[0m\u001b[1;32m    342\u001b[0m             \u001b[0;31m# Finally look for special method names\u001b[0m\u001b[0;34m\u001b[0m\u001b[0;34m\u001b[0m\u001b[0;34m\u001b[0m\u001b[0m\n\u001b[1;32m    343\u001b[0m             \u001b[0mmethod\u001b[0m \u001b[0;34m=\u001b[0m \u001b[0mget_real_method\u001b[0m\u001b[0;34m(\u001b[0m\u001b[0mobj\u001b[0m\u001b[0;34m,\u001b[0m \u001b[0mself\u001b[0m\u001b[0;34m.\u001b[0m\u001b[0mprint_method\u001b[0m\u001b[0;34m)\u001b[0m\u001b[0;34m\u001b[0m\u001b[0;34m\u001b[0m\u001b[0m\n",
      "\u001b[0;32m~/anaconda3/lib/python3.7/site-packages/IPython/core/pylabtools.py\u001b[0m in \u001b[0;36m<lambda>\u001b[0;34m(fig)\u001b[0m\n\u001b[1;32m    246\u001b[0m \u001b[0;34m\u001b[0m\u001b[0m\n\u001b[1;32m    247\u001b[0m     \u001b[0;32mif\u001b[0m \u001b[0;34m'png'\u001b[0m \u001b[0;32min\u001b[0m \u001b[0mformats\u001b[0m\u001b[0;34m:\u001b[0m\u001b[0;34m\u001b[0m\u001b[0;34m\u001b[0m\u001b[0m\n\u001b[0;32m--> 248\u001b[0;31m         \u001b[0mpng_formatter\u001b[0m\u001b[0;34m.\u001b[0m\u001b[0mfor_type\u001b[0m\u001b[0;34m(\u001b[0m\u001b[0mFigure\u001b[0m\u001b[0;34m,\u001b[0m \u001b[0;32mlambda\u001b[0m \u001b[0mfig\u001b[0m\u001b[0;34m:\u001b[0m \u001b[0mprint_figure\u001b[0m\u001b[0;34m(\u001b[0m\u001b[0mfig\u001b[0m\u001b[0;34m,\u001b[0m \u001b[0;34m'png'\u001b[0m\u001b[0;34m,\u001b[0m \u001b[0;34m**\u001b[0m\u001b[0mkwargs\u001b[0m\u001b[0;34m)\u001b[0m\u001b[0;34m)\u001b[0m\u001b[0;34m\u001b[0m\u001b[0;34m\u001b[0m\u001b[0m\n\u001b[0m\u001b[1;32m    249\u001b[0m     \u001b[0;32mif\u001b[0m \u001b[0;34m'retina'\u001b[0m \u001b[0;32min\u001b[0m \u001b[0mformats\u001b[0m \u001b[0;32mor\u001b[0m \u001b[0;34m'png2x'\u001b[0m \u001b[0;32min\u001b[0m \u001b[0mformats\u001b[0m\u001b[0;34m:\u001b[0m\u001b[0;34m\u001b[0m\u001b[0;34m\u001b[0m\u001b[0m\n\u001b[1;32m    250\u001b[0m         \u001b[0mpng_formatter\u001b[0m\u001b[0;34m.\u001b[0m\u001b[0mfor_type\u001b[0m\u001b[0;34m(\u001b[0m\u001b[0mFigure\u001b[0m\u001b[0;34m,\u001b[0m \u001b[0;32mlambda\u001b[0m \u001b[0mfig\u001b[0m\u001b[0;34m:\u001b[0m \u001b[0mretina_figure\u001b[0m\u001b[0;34m(\u001b[0m\u001b[0mfig\u001b[0m\u001b[0;34m,\u001b[0m \u001b[0;34m**\u001b[0m\u001b[0mkwargs\u001b[0m\u001b[0;34m)\u001b[0m\u001b[0;34m)\u001b[0m\u001b[0;34m\u001b[0m\u001b[0;34m\u001b[0m\u001b[0m\n",
      "\u001b[0;32m~/anaconda3/lib/python3.7/site-packages/IPython/core/pylabtools.py\u001b[0m in \u001b[0;36mprint_figure\u001b[0;34m(fig, fmt, bbox_inches, **kwargs)\u001b[0m\n\u001b[1;32m    130\u001b[0m         \u001b[0mFigureCanvasBase\u001b[0m\u001b[0;34m(\u001b[0m\u001b[0mfig\u001b[0m\u001b[0;34m)\u001b[0m\u001b[0;34m\u001b[0m\u001b[0;34m\u001b[0m\u001b[0m\n\u001b[1;32m    131\u001b[0m \u001b[0;34m\u001b[0m\u001b[0m\n\u001b[0;32m--> 132\u001b[0;31m     \u001b[0mfig\u001b[0m\u001b[0;34m.\u001b[0m\u001b[0mcanvas\u001b[0m\u001b[0;34m.\u001b[0m\u001b[0mprint_figure\u001b[0m\u001b[0;34m(\u001b[0m\u001b[0mbytes_io\u001b[0m\u001b[0;34m,\u001b[0m \u001b[0;34m**\u001b[0m\u001b[0mkw\u001b[0m\u001b[0;34m)\u001b[0m\u001b[0;34m\u001b[0m\u001b[0;34m\u001b[0m\u001b[0m\n\u001b[0m\u001b[1;32m    133\u001b[0m     \u001b[0mdata\u001b[0m \u001b[0;34m=\u001b[0m \u001b[0mbytes_io\u001b[0m\u001b[0;34m.\u001b[0m\u001b[0mgetvalue\u001b[0m\u001b[0;34m(\u001b[0m\u001b[0;34m)\u001b[0m\u001b[0;34m\u001b[0m\u001b[0;34m\u001b[0m\u001b[0m\n\u001b[1;32m    134\u001b[0m     \u001b[0;32mif\u001b[0m \u001b[0mfmt\u001b[0m \u001b[0;34m==\u001b[0m \u001b[0;34m'svg'\u001b[0m\u001b[0;34m:\u001b[0m\u001b[0;34m\u001b[0m\u001b[0;34m\u001b[0m\u001b[0m\n",
      "\u001b[0;32m~/anaconda3/lib/python3.7/site-packages/matplotlib/backend_bases.py\u001b[0m in \u001b[0;36mprint_figure\u001b[0;34m(self, filename, dpi, facecolor, edgecolor, orientation, format, bbox_inches, **kwargs)\u001b[0m\n\u001b[1;32m   2098\u001b[0m                            else suppress())\n\u001b[1;32m   2099\u001b[0m                     \u001b[0;32mwith\u001b[0m \u001b[0mctx\u001b[0m\u001b[0;34m:\u001b[0m\u001b[0;34m\u001b[0m\u001b[0;34m\u001b[0m\u001b[0m\n\u001b[0;32m-> 2100\u001b[0;31m                         \u001b[0mself\u001b[0m\u001b[0;34m.\u001b[0m\u001b[0mfigure\u001b[0m\u001b[0;34m.\u001b[0m\u001b[0mdraw\u001b[0m\u001b[0;34m(\u001b[0m\u001b[0mrenderer\u001b[0m\u001b[0;34m)\u001b[0m\u001b[0;34m\u001b[0m\u001b[0;34m\u001b[0m\u001b[0m\n\u001b[0m\u001b[1;32m   2101\u001b[0m                     \u001b[0mbbox_artists\u001b[0m \u001b[0;34m=\u001b[0m \u001b[0mkwargs\u001b[0m\u001b[0;34m.\u001b[0m\u001b[0mpop\u001b[0m\u001b[0;34m(\u001b[0m\u001b[0;34m\"bbox_extra_artists\"\u001b[0m\u001b[0;34m,\u001b[0m \u001b[0;32mNone\u001b[0m\u001b[0;34m)\u001b[0m\u001b[0;34m\u001b[0m\u001b[0;34m\u001b[0m\u001b[0m\n\u001b[1;32m   2102\u001b[0m                     bbox_inches = self.figure.get_tightbbox(renderer,\n",
      "\u001b[0;32m~/anaconda3/lib/python3.7/site-packages/matplotlib/artist.py\u001b[0m in \u001b[0;36mdraw_wrapper\u001b[0;34m(artist, renderer, *args, **kwargs)\u001b[0m\n\u001b[1;32m     36\u001b[0m                 \u001b[0mrenderer\u001b[0m\u001b[0;34m.\u001b[0m\u001b[0mstart_filter\u001b[0m\u001b[0;34m(\u001b[0m\u001b[0;34m)\u001b[0m\u001b[0;34m\u001b[0m\u001b[0;34m\u001b[0m\u001b[0m\n\u001b[1;32m     37\u001b[0m \u001b[0;34m\u001b[0m\u001b[0m\n\u001b[0;32m---> 38\u001b[0;31m             \u001b[0;32mreturn\u001b[0m \u001b[0mdraw\u001b[0m\u001b[0;34m(\u001b[0m\u001b[0martist\u001b[0m\u001b[0;34m,\u001b[0m \u001b[0mrenderer\u001b[0m\u001b[0;34m,\u001b[0m \u001b[0;34m*\u001b[0m\u001b[0margs\u001b[0m\u001b[0;34m,\u001b[0m \u001b[0;34m**\u001b[0m\u001b[0mkwargs\u001b[0m\u001b[0;34m)\u001b[0m\u001b[0;34m\u001b[0m\u001b[0;34m\u001b[0m\u001b[0m\n\u001b[0m\u001b[1;32m     39\u001b[0m         \u001b[0;32mfinally\u001b[0m\u001b[0;34m:\u001b[0m\u001b[0;34m\u001b[0m\u001b[0;34m\u001b[0m\u001b[0m\n\u001b[1;32m     40\u001b[0m             \u001b[0;32mif\u001b[0m \u001b[0martist\u001b[0m\u001b[0;34m.\u001b[0m\u001b[0mget_agg_filter\u001b[0m\u001b[0;34m(\u001b[0m\u001b[0;34m)\u001b[0m \u001b[0;32mis\u001b[0m \u001b[0;32mnot\u001b[0m \u001b[0;32mNone\u001b[0m\u001b[0;34m:\u001b[0m\u001b[0;34m\u001b[0m\u001b[0;34m\u001b[0m\u001b[0m\n",
      "\u001b[0;32m~/anaconda3/lib/python3.7/site-packages/matplotlib/figure.py\u001b[0m in \u001b[0;36mdraw\u001b[0;34m(self, renderer)\u001b[0m\n\u001b[1;32m   1717\u001b[0m                     \u001b[0;32mif\u001b[0m \u001b[0mlocator\u001b[0m\u001b[0;34m:\u001b[0m\u001b[0;34m\u001b[0m\u001b[0;34m\u001b[0m\u001b[0m\n\u001b[1;32m   1718\u001b[0m                         \u001b[0mpos\u001b[0m \u001b[0;34m=\u001b[0m \u001b[0mlocator\u001b[0m\u001b[0;34m(\u001b[0m\u001b[0mchild\u001b[0m\u001b[0;34m,\u001b[0m \u001b[0mrenderer\u001b[0m\u001b[0;34m)\u001b[0m\u001b[0;34m\u001b[0m\u001b[0;34m\u001b[0m\u001b[0m\n\u001b[0;32m-> 1719\u001b[0;31m                         \u001b[0mchild\u001b[0m\u001b[0;34m.\u001b[0m\u001b[0mapply_aspect\u001b[0m\u001b[0;34m(\u001b[0m\u001b[0mpos\u001b[0m\u001b[0;34m)\u001b[0m\u001b[0;34m\u001b[0m\u001b[0;34m\u001b[0m\u001b[0m\n\u001b[0m\u001b[1;32m   1720\u001b[0m                     \u001b[0;32melse\u001b[0m\u001b[0;34m:\u001b[0m\u001b[0;34m\u001b[0m\u001b[0;34m\u001b[0m\u001b[0m\n\u001b[1;32m   1721\u001b[0m                         \u001b[0mchild\u001b[0m\u001b[0;34m.\u001b[0m\u001b[0mapply_aspect\u001b[0m\u001b[0;34m(\u001b[0m\u001b[0;34m)\u001b[0m\u001b[0;34m\u001b[0m\u001b[0;34m\u001b[0m\u001b[0m\n",
      "\u001b[0;32m~/anaconda3/lib/python3.7/site-packages/matplotlib/axes/_secondary_axes.py\u001b[0m in \u001b[0;36mapply_aspect\u001b[0;34m(self, position)\u001b[0m\n\u001b[1;32m    159\u001b[0m     \u001b[0;32mdef\u001b[0m \u001b[0mapply_aspect\u001b[0m\u001b[0;34m(\u001b[0m\u001b[0mself\u001b[0m\u001b[0;34m,\u001b[0m \u001b[0mposition\u001b[0m\u001b[0;34m=\u001b[0m\u001b[0;32mNone\u001b[0m\u001b[0;34m)\u001b[0m\u001b[0;34m:\u001b[0m\u001b[0;34m\u001b[0m\u001b[0;34m\u001b[0m\u001b[0m\n\u001b[1;32m    160\u001b[0m         \u001b[0;31m# docstring inherited.\u001b[0m\u001b[0;34m\u001b[0m\u001b[0;34m\u001b[0m\u001b[0;34m\u001b[0m\u001b[0m\n\u001b[0;32m--> 161\u001b[0;31m         \u001b[0mself\u001b[0m\u001b[0;34m.\u001b[0m\u001b[0m_set_lims\u001b[0m\u001b[0;34m(\u001b[0m\u001b[0;34m)\u001b[0m\u001b[0;34m\u001b[0m\u001b[0;34m\u001b[0m\u001b[0m\n\u001b[0m\u001b[1;32m    162\u001b[0m         \u001b[0msuper\u001b[0m\u001b[0;34m(\u001b[0m\u001b[0;34m)\u001b[0m\u001b[0;34m.\u001b[0m\u001b[0mapply_aspect\u001b[0m\u001b[0;34m(\u001b[0m\u001b[0mposition\u001b[0m\u001b[0;34m)\u001b[0m\u001b[0;34m\u001b[0m\u001b[0;34m\u001b[0m\u001b[0m\n\u001b[1;32m    163\u001b[0m \u001b[0;34m\u001b[0m\u001b[0m\n",
      "\u001b[0;32m~/anaconda3/lib/python3.7/site-packages/matplotlib/axes/_secondary_axes.py\u001b[0m in \u001b[0;36m_set_lims\u001b[0;34m(self)\u001b[0m\n\u001b[1;32m    290\u001b[0m             \u001b[0;31m# Flip because the transform will take care of the flipping.\u001b[0m\u001b[0;34m\u001b[0m\u001b[0;34m\u001b[0m\u001b[0;34m\u001b[0m\u001b[0m\n\u001b[1;32m    291\u001b[0m             \u001b[0mlims\u001b[0m \u001b[0;34m=\u001b[0m \u001b[0mlims\u001b[0m\u001b[0;34m[\u001b[0m\u001b[0;34m:\u001b[0m\u001b[0;34m:\u001b[0m\u001b[0;34m-\u001b[0m\u001b[0;36m1\u001b[0m\u001b[0;34m]\u001b[0m\u001b[0;34m\u001b[0m\u001b[0;34m\u001b[0m\u001b[0m\n\u001b[0;32m--> 292\u001b[0;31m         \u001b[0mset_lim\u001b[0m\u001b[0;34m(\u001b[0m\u001b[0mlims\u001b[0m\u001b[0;34m)\u001b[0m\u001b[0;34m\u001b[0m\u001b[0;34m\u001b[0m\u001b[0m\n\u001b[0m\u001b[1;32m    293\u001b[0m \u001b[0;34m\u001b[0m\u001b[0m\n\u001b[1;32m    294\u001b[0m     \u001b[0;32mdef\u001b[0m \u001b[0mset_aspect\u001b[0m\u001b[0;34m(\u001b[0m\u001b[0mself\u001b[0m\u001b[0;34m,\u001b[0m \u001b[0;34m*\u001b[0m\u001b[0margs\u001b[0m\u001b[0;34m,\u001b[0m \u001b[0;34m**\u001b[0m\u001b[0mkwargs\u001b[0m\u001b[0;34m)\u001b[0m\u001b[0;34m:\u001b[0m\u001b[0;34m\u001b[0m\u001b[0;34m\u001b[0m\u001b[0m\n",
      "\u001b[0;32m~/anaconda3/lib/python3.7/site-packages/matplotlib/axes/_base.py\u001b[0m in \u001b[0;36mset_xlim\u001b[0;34m(self, left, right, emit, auto, xmin, xmax)\u001b[0m\n\u001b[1;32m   3183\u001b[0m         \u001b[0mself\u001b[0m\u001b[0;34m.\u001b[0m\u001b[0m_process_unit_info\u001b[0m\u001b[0;34m(\u001b[0m\u001b[0mxdata\u001b[0m\u001b[0;34m=\u001b[0m\u001b[0;34m(\u001b[0m\u001b[0mleft\u001b[0m\u001b[0;34m,\u001b[0m \u001b[0mright\u001b[0m\u001b[0;34m)\u001b[0m\u001b[0;34m)\u001b[0m\u001b[0;34m\u001b[0m\u001b[0;34m\u001b[0m\u001b[0m\n\u001b[1;32m   3184\u001b[0m         \u001b[0mleft\u001b[0m \u001b[0;34m=\u001b[0m \u001b[0mself\u001b[0m\u001b[0;34m.\u001b[0m\u001b[0m_validate_converted_limits\u001b[0m\u001b[0;34m(\u001b[0m\u001b[0mleft\u001b[0m\u001b[0;34m,\u001b[0m \u001b[0mself\u001b[0m\u001b[0;34m.\u001b[0m\u001b[0mconvert_xunits\u001b[0m\u001b[0;34m)\u001b[0m\u001b[0;34m\u001b[0m\u001b[0;34m\u001b[0m\u001b[0m\n\u001b[0;32m-> 3185\u001b[0;31m         \u001b[0mright\u001b[0m \u001b[0;34m=\u001b[0m \u001b[0mself\u001b[0m\u001b[0;34m.\u001b[0m\u001b[0m_validate_converted_limits\u001b[0m\u001b[0;34m(\u001b[0m\u001b[0mright\u001b[0m\u001b[0;34m,\u001b[0m \u001b[0mself\u001b[0m\u001b[0;34m.\u001b[0m\u001b[0mconvert_xunits\u001b[0m\u001b[0;34m)\u001b[0m\u001b[0;34m\u001b[0m\u001b[0;34m\u001b[0m\u001b[0m\n\u001b[0m\u001b[1;32m   3186\u001b[0m \u001b[0;34m\u001b[0m\u001b[0m\n\u001b[1;32m   3187\u001b[0m         \u001b[0;32mif\u001b[0m \u001b[0mleft\u001b[0m \u001b[0;32mis\u001b[0m \u001b[0;32mNone\u001b[0m \u001b[0;32mor\u001b[0m \u001b[0mright\u001b[0m \u001b[0;32mis\u001b[0m \u001b[0;32mNone\u001b[0m\u001b[0;34m:\u001b[0m\u001b[0;34m\u001b[0m\u001b[0;34m\u001b[0m\u001b[0m\n",
      "\u001b[0;32m~/anaconda3/lib/python3.7/site-packages/matplotlib/axes/_base.py\u001b[0m in \u001b[0;36m_validate_converted_limits\u001b[0;34m(self, limit, convert)\u001b[0m\n\u001b[1;32m   3099\u001b[0m             if (isinstance(converted_limit, Real)\n\u001b[1;32m   3100\u001b[0m                     and not np.isfinite(converted_limit)):\n\u001b[0;32m-> 3101\u001b[0;31m                 \u001b[0;32mraise\u001b[0m \u001b[0mValueError\u001b[0m\u001b[0;34m(\u001b[0m\u001b[0;34m\"Axis limits cannot be NaN or Inf\"\u001b[0m\u001b[0;34m)\u001b[0m\u001b[0;34m\u001b[0m\u001b[0;34m\u001b[0m\u001b[0m\n\u001b[0m\u001b[1;32m   3102\u001b[0m             \u001b[0;32mreturn\u001b[0m \u001b[0mconverted_limit\u001b[0m\u001b[0;34m\u001b[0m\u001b[0;34m\u001b[0m\u001b[0m\n\u001b[1;32m   3103\u001b[0m \u001b[0;34m\u001b[0m\u001b[0m\n",
      "\u001b[0;31mValueError\u001b[0m: Axis limits cannot be NaN or Inf"
     ]
    },
    {
     "data": {
      "text/plain": [
       "<Figure size 720x720 with 3 Axes>"
      ]
     },
     "metadata": {
      "needs_background": "light"
     },
     "output_type": "display_data"
    }
   ],
   "source": [
    "nn = 100\n",
    "tmp = linspace(0, shape(ADR_Z)[0], shape(ADR_Z)[0])\n",
    "\n",
    "fig = __makeplot_colorlines_overview([ff_Z, ff_N, ff_E], [meds_Z, meds_N, meds_E], dates=tmp)"
   ]
  },
  {
   "cell_type": "code",
   "execution_count": null,
   "id": "71a074bf",
   "metadata": {
    "ExecuteTime": {
     "end_time": "2022-11-28T18:01:35.534439Z",
     "start_time": "2022-11-28T17:59:11.942Z"
    },
    "hidden": true
   },
   "outputs": [],
   "source": [
    "__savefig(fig, outpath=config['outpath_figures'], outname=f\"{name}_colorlines_selection\", mode=\"png\", dpi=300)"
   ]
  },
  {
   "cell_type": "code",
   "execution_count": null,
   "id": "ce64c931",
   "metadata": {
    "ExecuteTime": {
     "end_time": "2022-11-28T18:01:35.535126Z",
     "start_time": "2022-11-28T17:59:11.943Z"
    },
    "code_folding": [
     0
    ],
    "hidden": true
   },
   "outputs": [],
   "source": [
    "# def __makeplot_colorlines(config, ff, psds, dates):\n",
    "\n",
    "# #     from numpy import isnan, median, mean, std, array\n",
    "        \n",
    "#     psds_median  = __get_median_psd(array(psds))\n",
    "#     psds_minimal = __get_minimal_psd(array(psds))\n",
    "# #     psds_minimum = __get_minimum_psd(array(psds), ff)\n",
    "    \n",
    "        \n",
    "#     ##____________________________\n",
    "    \n",
    "#     fig, ax = plt.subplots(1,1, figsize=(15,10), sharey=False, sharex=True)\n",
    "\n",
    "#     font = 12\n",
    "\n",
    "#     N = psds.shape[0]\n",
    "#     colors = plt.cm.rainbow(linspace(0, 1, N))\n",
    "\n",
    "#     for n, psd in enumerate(psds):\n",
    "#         ax.loglog(ff, psd, color=colors[n], alpha=0.7)\n",
    "\n",
    "\n",
    "#     ## add scatter for colorbar object only\n",
    "#     for n, psd in enumerate(psds):\n",
    "#         p2 = ax.scatter(ff[0], psd[0], s=0., c=n, cmap='rainbow', vmin=0, vmax=N)\n",
    "\n",
    "#     ## plot statistics\n",
    "#     ax.loglog(ff, psds_median, 'black', zorder=3, alpha=0.9)\n",
    "# #     ax.loglog(ff, psds_minimal, 'black', zorder=2, alpha=1.0)\n",
    "# #     ax.loglog(ff, psds_minimum, 'k', zorder=2, alpha=0.8)\n",
    "    \n",
    "    \n",
    "#     ## theoretical rlnm\n",
    "#     rlnm = read_csv(config['rlnm_model_path']+\"rlnm_theory.csv\")\n",
    "#     ax.loglog(rlnm['period'], rlnm['rlnm_psd_median'], color=\"grey\", zorder=2, lw=2, label=\"RLNM\")\n",
    "    \n",
    "\n",
    "# #     ax.set_title(\"Minimal PSD\", fontsize=font)\n",
    "# #     ax.set_title(\"Minimum PSD\", fontsize=font)\n",
    "\n",
    "\n",
    "# #     ax.set_xlabel(\"Frequency (Hz)\", fontsize=font)\n",
    "#     ax.set_xlabel(\"Period (s)\", fontsize=font)\n",
    "\n",
    "#     ax.set_ylabel(r\"PSD (rad$^2$/s$^2$/$Hz)$\", fontsize=font)\n",
    "    \n",
    "#     ax.grid(True, which=\"both\", ls=\"-\", alpha=0.7)\n",
    "    \n",
    "#     ax.set_xlim(1,200)\n",
    "#     ax.set_ylim(1e-26,1e-20)\n",
    "    \n",
    "#     ## set colorbar at bottom\n",
    "#     cbar = fig.colorbar(p2, orientation='horizontal', ax=ax, aspect=50)\n",
    "\n",
    "#     ## redefine ticks of colorbar\n",
    "#     new_ticks=[]\n",
    "#     for t in cbar.get_ticks(): \n",
    "#         new_ticks.append(dates.astype(str)[int(t)])\n",
    "#     cbar.ax.set_xticklabels(new_ticks)\n",
    "\n",
    "\n",
    "#     plt.show();\n",
    "    \n",
    "#     return fig"
   ]
  },
  {
   "cell_type": "code",
   "execution_count": null,
   "id": "d5a44ac1",
   "metadata": {
    "ExecuteTime": {
     "end_time": "2022-11-28T18:01:35.535723Z",
     "start_time": "2022-11-28T17:59:11.945Z"
    },
    "code_folding": [],
    "hidden": true
   },
   "outputs": [],
   "source": [
    "# fig, out = __makeplot_colorlines(config, 1/ff, GRF_Z, GRF_Z_df.columns)\n",
    "# fig, out = __makeplot_colorlines(config, 1/ff, GRF_N, GRF_N_df.columns)\n",
    "# fig, out = __makeplot_colorlines(config, 1/ff, GRF_E, GRF_E_df.columns)"
   ]
  },
  {
   "cell_type": "markdown",
   "id": "biblical-alloy",
   "metadata": {},
   "source": [
    "## Calculate and Plot Density"
   ]
  },
  {
   "cell_type": "code",
   "execution_count": null,
   "id": "9c352b03",
   "metadata": {
    "ExecuteTime": {
     "end_time": "2022-11-28T18:01:35.536309Z",
     "start_time": "2022-11-28T17:59:11.947Z"
    }
   },
   "outputs": [],
   "source": [
    "# output = __calculate_density(psds, bins=100, density=True)"
   ]
  },
  {
   "cell_type": "code",
   "execution_count": null,
   "id": "4e5005fc",
   "metadata": {
    "ExecuteTime": {
     "end_time": "2022-11-28T18:01:35.537096Z",
     "start_time": "2022-11-28T17:59:11.949Z"
    },
    "code_folding": [
     0
    ]
   },
   "outputs": [],
   "source": [
    "# def __makeplot_PPSD(ff, output, config, mode=None):\n",
    "\n",
    "#     from matplotlib import colors\n",
    "#     from numpy import ones, convolve, array, log10, roll, sqrt\n",
    "\n",
    "#     bins, bins_medians, bins_maximas, dist = output['bin_mids'], output['bins_medians'], output['bins_maximas'], output['dist']\n",
    "    \n",
    "#     if mode is \"DB\":\n",
    "#         y_axis = 10*log10(bins)\n",
    "#     elif mode is \"PSD\":\n",
    "#         y_axis = bins\n",
    "#     elif mode is \"ASD\":\n",
    "#         y_axis = sqrt(bins)\n",
    "        \n",
    "#     x_axis = ff\n",
    "\n",
    "#     ## plotting\n",
    "#     fig, ax = plt.subplots(1,1,figsize=(13,6))\n",
    "\n",
    "#     font=14\n",
    "\n",
    "#     cmap = plt.cm.get_cmap('magma_r')\n",
    "# #     cmap = plt.cm.get_cmap('gray_r')\n",
    "#     cmap.set_under(color='white')\n",
    "\n",
    "#     im = plt.pcolor(x_axis, y_axis, dist.T, \n",
    "#                     cmap=cmap,\n",
    "#                     vmin=1e-12, \n",
    "#                     alpha=0.99,\n",
    "#                    )\n",
    "\n",
    "#     ## add Frequency Axis\n",
    "#     g = lambda x: 1/x\n",
    "#     ax2 = ax.secondary_xaxis(\"top\", functions=(g,g))\n",
    "#     ax2.set_xlabel(\"Frequency in Hz\", fontsize=font, labelpad=5)\n",
    "#     ax2.set_xticklabels(1/ff, fontsize=11)    \n",
    "    \n",
    "    \n",
    "#     if mode is \"DB\":\n",
    "#         plt.plot(x_axis, 10*log10(bins_medians), color='black', alpha=0.5, label=\"RNLM\")\n",
    "#         plt.ylim(-200, -80)\n",
    "\n",
    "#     elif mode is \"PSD\":\n",
    "#         plt.plot(x_axis, bins_medians, color='black', alpha=0.5, label=\"RNLM\")\n",
    "#         plt.yscale('log')\n",
    "#         plt.ylim(10**-20, 10**-13)\n",
    "  \n",
    "#     elif mode is \"ASD\":  \n",
    "#         plt.plot(x_axis, sqrt(bins_medians), color='black', alpha=0.5, label=\"RNLM\")\n",
    "#         plt.yscale('log')\n",
    "#         plt.ylim(10**-10, 2*10**-7)\n",
    "\n",
    "    \n",
    "# #     plt.fill_betweenx(range(-270, -140), x1=0, x2=2.5, color=\"grey\", alpha=0.4)\n",
    "# #     plt.fill_betweenx(range(-270, -140), x1=200, x2=max(ff), color=\"grey\", alpha=0.4)\n",
    "\n",
    "#     ## modify x-axis\n",
    "#     plt.xscale('log')\n",
    "#     plt.xlim([min(x_axis), max(x_axis)])\n",
    "# #     plt.xlim(1, 300)\n",
    "    \n",
    "#     ## add colorbar\n",
    "#     caxes = fig.add_axes()\n",
    "#     cb = plt.colorbar(im, cax=caxes, alpha=1.0)\n",
    "    \n",
    "#     if output['set_density']:\n",
    "#         cb.set_label(\"Propability Density\", fontsize=font)\n",
    "#     else:\n",
    "#         cb.set_label(\"Counts\", fontsize=font)\n",
    "#         cb.set_label(\"Propability Density\", fontsize=font)\n",
    "    \n",
    "#     if mode is \"DB\":\n",
    "# #         plt.ylabel(r\"PPSD in dB (rel. to 1 m$^4$/s$^2$/$Hz$)\", fontsize=font)\n",
    "#         plt.ylabel(r\"PPSD in dB (rel. to 1 rad$^2$/s$^2$/$Hz$)\", fontsize=font)\n",
    "#     elif mode is \"PSD\":\n",
    "# #         plt.ylabel(r\"PPSD in m$^4$/s$^2$/$Hz$\", fontsize=font)\n",
    "#         plt.ylabel(r\"PPSD in $\\frac{rad^2}{s^2 Hz}$\", fontsize=font)\n",
    "#     elif mode is \"ASD\":\n",
    "#         plt.ylabel(r\"PASD in $\\frac{rad}{s \\sqrt{Hz}}$\", fontsize=font)\n",
    "        \n",
    "#     plt.grid(axis=\"both\", which=\"both\", ls=\"--\", zorder=0)\n",
    "#     plt.legend()\n",
    "    \n",
    "#     plt.xlabel(\"Period in seconds\", fontsize=font)\n",
    "\n",
    "#     plt.tick_params(axis='both', labelsize=font-2)\n",
    "\n",
    "#     plt.show();\n",
    "#     return fig"
   ]
  },
  {
   "cell_type": "code",
   "execution_count": null,
   "id": "f25eeaa9",
   "metadata": {
    "ExecuteTime": {
     "end_time": "2022-11-28T18:01:35.537860Z",
     "start_time": "2022-11-28T17:59:11.951Z"
    }
   },
   "outputs": [],
   "source": [
    "# fig = __makeplot_PPSD(ff, output, config, mode=\"ASD\")"
   ]
  },
  {
   "cell_type": "code",
   "execution_count": null,
   "id": "bd06a81e",
   "metadata": {
    "ExecuteTime": {
     "end_time": "2022-05-04T14:08:39.999086Z",
     "start_time": "2022-05-04T14:08:39.995422Z"
    }
   },
   "outputs": [],
   "source": []
  },
  {
   "cell_type": "code",
   "execution_count": null,
   "id": "82aff0c2",
   "metadata": {},
   "outputs": [],
   "source": []
  }
 ],
 "metadata": {
  "kernelspec": {
   "display_name": "Python 3",
   "language": "python",
   "name": "python3"
  },
  "language_info": {
   "codemirror_mode": {
    "name": "ipython",
    "version": 3
   },
   "file_extension": ".py",
   "mimetype": "text/x-python",
   "name": "python",
   "nbconvert_exporter": "python",
   "pygments_lexer": "ipython3",
   "version": "3.7.8"
  },
  "latex_envs": {
   "LaTeX_envs_menu_present": true,
   "autoclose": false,
   "autocomplete": true,
   "bibliofile": "biblio.bib",
   "cite_by": "apalike",
   "current_citInitial": 1,
   "eqLabelWithNumbers": true,
   "eqNumInitial": 1,
   "hotkeys": {
    "equation": "Ctrl-E",
    "itemize": "Ctrl-I"
   },
   "labels_anchors": false,
   "latex_user_defs": false,
   "report_style_numbering": false,
   "user_envs_cfg": false
  },
  "toc": {
   "base_numbering": 1,
   "nav_menu": {},
   "number_sections": true,
   "sideBar": true,
   "skip_h1_title": false,
   "title_cell": "Table of Contents",
   "title_sidebar": "Contents",
   "toc_cell": false,
   "toc_position": {},
   "toc_section_display": true,
   "toc_window_display": false
  }
 },
 "nbformat": 4,
 "nbformat_minor": 5
}
