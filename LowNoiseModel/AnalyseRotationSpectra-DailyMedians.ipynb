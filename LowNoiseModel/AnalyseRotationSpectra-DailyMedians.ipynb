{
 "cells": [
  {
   "cell_type": "markdown",
   "id": "eda030d3",
   "metadata": {},
   "source": [
    "# Analyse Rotation Spectra - Daily Medians"
   ]
  },
  {
   "cell_type": "markdown",
   "id": "protected-presentation",
   "metadata": {},
   "source": [
    "## Load Libraries"
   ]
  },
  {
   "cell_type": "code",
   "execution_count": 124,
   "id": "behind-arrangement",
   "metadata": {
    "ExecuteTime": {
     "end_time": "2022-08-16T12:47:06.380110Z",
     "start_time": "2022-08-16T12:47:06.321929Z"
    }
   },
   "outputs": [],
   "source": [
    "from andbro__querrySeismoData import __querrySeismoData\n",
    "from obspy import UTCDateTime\n",
    "from scipy.signal import welch\n",
    "from numpy import log10, zeros, pi, append, linspace, mean, median, array, where, transpose, shape, histogram, arange\n",
    "from numpy import logspace, linspace, log, log10, isinf, ones, nan, count_nonzero, sqrt, isnan\n",
    "from pandas import DataFrame, concat, Series, date_range, read_csv, read_pickle\n",
    "from tqdm import tqdm_notebook\n",
    "from pathlib import Path\n",
    "from scipy.stats import median_absolute_deviation as mad\n",
    "\n",
    "import pickle\n",
    "import matplotlib.pyplot as plt"
   ]
  },
  {
   "cell_type": "code",
   "execution_count": 125,
   "id": "e4858b93",
   "metadata": {
    "ExecuteTime": {
     "end_time": "2022-08-16T12:47:06.541684Z",
     "start_time": "2022-08-16T12:47:06.532722Z"
    },
    "code_folding": [
     0
    ]
   },
   "outputs": [],
   "source": [
    "def __get_minimal_psd(psds):\n",
    "\n",
    "    from numpy import nanmin, array, nonzero\n",
    "    \n",
    "    min_psd = zeros(psds.shape[1])\n",
    "    \n",
    "    for f in range(psds.shape[1]):\n",
    "        a = psds[:,f]\n",
    "        min_psd[f] = nanmin(a[nonzero(a)])\n",
    "    \n",
    "    return min_psd"
   ]
  },
  {
   "cell_type": "code",
   "execution_count": 126,
   "id": "396e24f9",
   "metadata": {
    "ExecuteTime": {
     "end_time": "2022-08-16T12:47:06.691573Z",
     "start_time": "2022-08-16T12:47:06.684933Z"
    },
    "code_folding": [
     0
    ]
   },
   "outputs": [],
   "source": [
    "def __get_median_psd(psds):\n",
    "\n",
    "    from numpy import median, zeros, isnan\n",
    "\n",
    "    med_psd = zeros(psds.shape[1])\n",
    "\n",
    "    for f in range(psds.shape[1]):\n",
    "        a = psds[:,f]\n",
    "        med_psd[f] = median(a[~isnan(a)])\n",
    "\n",
    "    return med_psd"
   ]
  },
  {
   "cell_type": "code",
   "execution_count": 127,
   "id": "af6a3772",
   "metadata": {
    "ExecuteTime": {
     "end_time": "2022-08-16T12:47:06.844923Z",
     "start_time": "2022-08-16T12:47:06.836780Z"
    },
    "code_folding": [
     0
    ]
   },
   "outputs": [],
   "source": [
    "def __get_minimum_psd(psds, f_tmp):\n",
    "    \n",
    "    from numpy import median\n",
    "    \n",
    "    f_before = f_tmp[0]\n",
    "    f_tmp[0] = 1e-9\n",
    "    \n",
    "    for i, psd in enumerate(psds):\n",
    "        if i == 0: \n",
    "            lowest_value = (psds[0]/f_tmp).sum()\n",
    "#             lowest_value = median(psds[0]/f_tmp)\n",
    "            idx = 0\n",
    "\n",
    "        value = (psd/f_tmp).sum() \n",
    "#         value = median(psd/f_tmp)\n",
    "        \n",
    "        if value < lowest_value and value != 0:\n",
    "            lowest_value = value\n",
    "            idx = i\n",
    "\n",
    "    f_tmp[0] = f_before      \n",
    "    \n",
    "    return psds[idx]"
   ]
  },
  {
   "cell_type": "code",
   "execution_count": 128,
   "id": "d4ffd698",
   "metadata": {
    "ExecuteTime": {
     "end_time": "2022-08-16T12:47:07.003657Z",
     "start_time": "2022-08-16T12:47:06.999278Z"
    },
    "code_folding": [
     0
    ]
   },
   "outputs": [],
   "source": [
    "def __get_array_from_dataframe(df):\n",
    "    \n",
    "    from pandas import to_numeric\n",
    "    \n",
    "    ## convert to list\n",
    "    psds = []\n",
    "    for col in array(df.columns):\n",
    "        \n",
    "        ## turn non-float series to float objects\n",
    "        df[col] = to_numeric(df[col], errors = 'coerce')\n",
    "\n",
    "        ## add to psds list\n",
    "        psds.append(array(df[col]))\n",
    "\n",
    "    return array(psds)"
   ]
  },
  {
   "cell_type": "code",
   "execution_count": 129,
   "id": "21d2d997",
   "metadata": {
    "ExecuteTime": {
     "end_time": "2022-08-16T12:47:07.142192Z",
     "start_time": "2022-08-16T12:47:07.133874Z"
    },
    "code_folding": [
     0
    ]
   },
   "outputs": [],
   "source": [
    "def __remove_noisy_psds(df, threshold_mean=1e-13):\n",
    "\n",
    "    from numpy import delete\n",
    "    \n",
    "    l1 = len(df.columns)\n",
    "    for col in df.columns:\n",
    "#         print(col, type(col))\n",
    "        if df[col].astype(float).mean() > threshold_mean:\n",
    "            df = df.drop(columns=col)\n",
    "    l2 = len(df.columns)\n",
    "    print(f\" -> removed {l1-l2} columns due to mean thresholds!\")\n",
    "    print(f\" -> {l2} psds remain\")\n",
    "    \n",
    "    return df"
   ]
  },
  {
   "cell_type": "code",
   "execution_count": 130,
   "id": "b86aa31f",
   "metadata": {
    "ExecuteTime": {
     "end_time": "2022-08-16T12:47:07.511832Z",
     "start_time": "2022-08-16T12:47:07.279227Z"
    }
   },
   "outputs": [
    {
     "name": "stdout",
     "output_type": "stream",
     "text": [
      "overview\t\t     run_2019_RGRF-Z_3600_run6\r\n",
      "run_2019_FUR-Z_3600\t     run_2019_RGRF-Z_3600_run7\r\n",
      "run_2019_FUR-Z_3600_testday  run_2019_RGRF-Z_3600_run8\r\n",
      "run_2019_RGRF-_3600_GRA2     run_2019_RGRF-Z_3600_run9\r\n",
      "run_2019_RGRF-E_3600_GRA     run_2019_RLAS-Z_3600\r\n",
      "run_2019_RGRF-E_3600_GRA1    run_2019_RLAS-Z_3600_hours\r\n",
      "run_2019_RGRF-E_3600_GRA2    run_2019_RLAS-Z_3600_testday\r\n",
      "run_2019_RGRF-E_3600_GRB     run_2019_ROMY_ADR-E_3600\r\n",
      "run_2019_RGRF-E_3600_GRB1    run_2019_ROMY_ADR-E_3600_all\r\n",
      "run_2019_RGRF-E_3600_GRB2    run_2019_ROMY_ADR-N_3600_all\r\n",
      "run_2019_RGRF-E_3600_GRC     run_2019_ROMY_ADR-Z_3600\r\n",
      "run_2019_RGRF-E_3600_GRC1    run_2019_ROMY_ADR-Z_3600_all\r\n",
      "run_2019_RGRF-E_3600_GRC2    run_2019_ROMY_ADR-Z_3600_classic\r\n",
      "run_2019_RGRF-E_3600_GRF     run_2019_ROMY-E_3600\r\n",
      "run_2019_RGRF-E_3600_GRF1    run_2019_ROMY-U_3600_hours\r\n",
      "run_2019_RGRF-E_3600_GRF2    run_2019_ROMY-V_3600_hours\r\n",
      "run_2019_RGRF-E_3600_GRF3    run_2019_ROMY-W_3600_hours\r\n",
      "run_2019_RGRF-N_3600_GRA     run_2019_ROMY-Z_3600\r\n",
      "run_2019_RGRF-N_3600_GRA1    run_2019_ROMY-Z_3600_2hours\r\n",
      "run_2019_RGRF-N_3600_GRA2    run_2019_ROMY-Z_3600_hours\r\n",
      "run_2019_RGRF-N_3600_GRB     run_2019_ROMY-Z_3600_inner\r\n",
      "run_2019_RGRF-N_3600_GRB1    run_2019_ROMY-Z_3600_testday\r\n",
      "run_2019_RGRF-N_3600_GRB2    run_2019_RPFO-E_3600\r\n",
      "run_2019_RGRF-N_3600_GRC     run_2019_RPFO-E_3600_test\r\n",
      "run_2019_RGRF-N_3600_GRC1    run_2019_RPFO-N_3600\r\n",
      "run_2019_RGRF-N_3600_GRC2    run_2019_RPFO-N_3600_test\r\n",
      "run_2019_RGRF-N_3600_GRF     run_2019_RPFO-Z_3600\r\n",
      "run_2019_RGRF-N_3600_GRF1    run_2019_RPFO-Z_3600_control\r\n",
      "run_2019_RGRF-N_3600_GRF2    run_2019_RPFO-Z_3600_test\r\n",
      "run_2019_RGRF-N_3600_GRF3    run_2019_WET-Z_3600\r\n",
      "run_2019_RGRF-N_3600_run     run_2019_WET-Z_3600_testday\r\n",
      "run_2019_RGRF-N_3600_run10   run_2021_ROMY_ADR-E_3600\r\n",
      "run_2019_RGRF-N_3600_run11   run_2021_ROMY_ADR-N_3600\r\n",
      "run_2019_RGRF-N_3600_run6    run_2021_RPFO-E_3600\r\n",
      "run_2019_RGRF-N_3600_run7    run_2021_RPFO-E_3600_control\r\n",
      "run_2019_RGRF-N_3600_run8    run_2021_RPFO-N_3600\r\n",
      "run_2019_RGRF-N_3600_run9    run_2021_RPFO-N_3600_control\r\n",
      "run_2019_RGRF-Z_3600_GRA     run_2021_RPFO-Z_3600\r\n",
      "run_2019_RGRF-Z_3600_GRA1    run_2021_RPFO-Z_3600_control\r\n",
      "run_2019_RGRF-Z_3600_GRA2    run_2022_ROMY_ADR-E_3600\r\n",
      "run_2019_RGRF-Z_3600_GRB     run_2022_ROMY_ADR-E_3600_classic\r\n",
      "run_2019_RGRF-Z_3600_GRB1    run_2022_ROMY_ADR-N_3600\r\n",
      "run_2019_RGRF-Z_3600_GRB2    run_2022_ROMY_ADR-N_3600_classic\r\n",
      "run_2019_RGRF-Z_3600_GRC     run_2022_ROMY_ADR-Z_3600\r\n",
      "run_2019_RGRF-Z_3600_GRC1    run_2022_ROMY_ADR-Z_3600_classic\r\n",
      "run_2019_RGRF-Z_3600_GRC2    run_2022_ROMY-E_3600_all\r\n",
      "run_2019_RGRF-Z_3600_GRF     run_2022_ROMY-E_3600_inner\r\n",
      "run_2019_RGRF-Z_3600_GRF1    run_2022_ROMY-N_3600_all\r\n",
      "run_2019_RGRF-Z_3600_GRF2    run_2022_ROMY-N_3600_inner\r\n",
      "run_2019_RGRF-Z_3600_run1    run_2022_ROMY-V_3600\r\n",
      "run_2019_RGRF-Z_3600_run10   run_2022_ROMY-Z_3600\r\n",
      "run_2019_RGRF-Z_3600_run2    run_2022_ROMY-Z_3600_all\r\n",
      "run_2019_RGRF-Z_3600_run3    run_2022_ROMY-Z_3600_hours\r\n",
      "run_2019_RGRF-Z_3600_run4    run_2022_ROMY-Z_3600_inner\r\n",
      "run_2019_RGRF-Z_3600_run5    testinterval\r\n"
     ]
    }
   ],
   "source": [
    "!ls \"/import/kilauea-data/ROMY/RotationSpectra/data\""
   ]
  },
  {
   "cell_type": "markdown",
   "id": "subject-expression",
   "metadata": {},
   "source": [
    "## Configurations"
   ]
  },
  {
   "cell_type": "code",
   "execution_count": 143,
   "id": "e89d22a7",
   "metadata": {
    "ExecuteTime": {
     "end_time": "2022-08-16T12:49:01.917313Z",
     "start_time": "2022-08-16T12:49:01.901431Z"
    }
   },
   "outputs": [],
   "source": [
    "inname = \"run_2022_ROMY-Z_3600\"\n",
    "\n",
    "inpath = f\"/import/kilauea-data/ROMY/RotationSpectra/data/{inname}/\"\n",
    "\n",
    "config = pickle.load(open(inpath+inname+\"_config.pkl\", 'rb'))\n",
    "\n",
    "config['save'] = True\n",
    "\n",
    "config['inname'] = inname\n",
    "config['inpath'] = inpath\n",
    "\n",
    "config['frequency_limits'] = [0.0001, 1]"
   ]
  },
  {
   "cell_type": "markdown",
   "id": "natural-beginning",
   "metadata": {},
   "source": [
    "## Looping "
   ]
  },
  {
   "cell_type": "code",
   "execution_count": 144,
   "id": "b62d54f9",
   "metadata": {
    "ExecuteTime": {
     "end_time": "2022-08-16T12:49:02.489179Z",
     "start_time": "2022-08-16T12:49:02.244544Z"
    }
   },
   "outputs": [
    {
     "name": "stdout",
     "output_type": "stream",
     "text": [
      " -> loading \n",
      " /import/kilauea-data/ROMY/RotationSpectra/data/run_2022_ROMY-Z_3600/run_2022_ROMY-Z_3600_daily_medians.pkl ...\n"
     ]
    },
    {
     "data": {
      "text/html": [
       "<div>\n",
       "<style scoped>\n",
       "    .dataframe tbody tr th:only-of-type {\n",
       "        vertical-align: middle;\n",
       "    }\n",
       "\n",
       "    .dataframe tbody tr th {\n",
       "        vertical-align: top;\n",
       "    }\n",
       "\n",
       "    .dataframe thead th {\n",
       "        text-align: right;\n",
       "    }\n",
       "</style>\n",
       "<table border=\"1\" class=\"dataframe\">\n",
       "  <thead>\n",
       "    <tr style=\"text-align: right;\">\n",
       "      <th></th>\n",
       "      <th>20220101</th>\n",
       "      <th>20220102</th>\n",
       "      <th>20220103</th>\n",
       "      <th>20220104</th>\n",
       "      <th>20220105</th>\n",
       "      <th>20220106</th>\n",
       "      <th>20220107</th>\n",
       "      <th>20220108</th>\n",
       "      <th>20220109</th>\n",
       "      <th>20220110</th>\n",
       "      <th>...</th>\n",
       "      <th>20220522</th>\n",
       "      <th>20220523</th>\n",
       "      <th>20220524</th>\n",
       "      <th>20220525</th>\n",
       "      <th>20220526</th>\n",
       "      <th>20220527</th>\n",
       "      <th>20220528</th>\n",
       "      <th>20220529</th>\n",
       "      <th>20220530</th>\n",
       "      <th>20220531</th>\n",
       "    </tr>\n",
       "  </thead>\n",
       "  <tbody>\n",
       "    <tr>\n",
       "      <th>0</th>\n",
       "      <td>2.394419e-21</td>\n",
       "      <td>9.215003e-22</td>\n",
       "      <td>1.108598e-21</td>\n",
       "      <td>7.531019e-22</td>\n",
       "      <td>1.220117e-21</td>\n",
       "      <td>6.596119e-21</td>\n",
       "      <td>2.150977e-20</td>\n",
       "      <td>2.160698e-20</td>\n",
       "      <td>3.663315e-21</td>\n",
       "      <td>3.359043e-21</td>\n",
       "      <td>...</td>\n",
       "      <td>5.154551e-13</td>\n",
       "      <td>7.326741e-13</td>\n",
       "      <td>1.297110e-12</td>\n",
       "      <td>1.027930e-12</td>\n",
       "      <td>7.447742e-13</td>\n",
       "      <td>1.070180e-12</td>\n",
       "      <td>7.101094e-13</td>\n",
       "      <td>7.758331e-13</td>\n",
       "      <td>1.639271e-12</td>\n",
       "      <td>1.240473e-12</td>\n",
       "    </tr>\n",
       "    <tr>\n",
       "      <th>1</th>\n",
       "      <td>2.759153e-20</td>\n",
       "      <td>8.410214e-21</td>\n",
       "      <td>7.172813e-21</td>\n",
       "      <td>8.047408e-21</td>\n",
       "      <td>2.832457e-20</td>\n",
       "      <td>7.065505e-20</td>\n",
       "      <td>2.676765e-19</td>\n",
       "      <td>1.009538e-19</td>\n",
       "      <td>2.201122e-20</td>\n",
       "      <td>7.698279e-20</td>\n",
       "      <td>...</td>\n",
       "      <td>3.095267e-12</td>\n",
       "      <td>3.931575e-12</td>\n",
       "      <td>7.039662e-12</td>\n",
       "      <td>6.289962e-12</td>\n",
       "      <td>5.261400e-12</td>\n",
       "      <td>4.370181e-12</td>\n",
       "      <td>3.831208e-12</td>\n",
       "      <td>4.432602e-12</td>\n",
       "      <td>9.876730e-12</td>\n",
       "      <td>1.021888e-11</td>\n",
       "    </tr>\n",
       "    <tr>\n",
       "      <th>2</th>\n",
       "      <td>6.805299e-21</td>\n",
       "      <td>3.930551e-21</td>\n",
       "      <td>5.544288e-21</td>\n",
       "      <td>2.991680e-21</td>\n",
       "      <td>5.688741e-21</td>\n",
       "      <td>1.139379e-20</td>\n",
       "      <td>3.462117e-20</td>\n",
       "      <td>1.428607e-20</td>\n",
       "      <td>5.978969e-21</td>\n",
       "      <td>5.410635e-21</td>\n",
       "      <td>...</td>\n",
       "      <td>1.895509e-12</td>\n",
       "      <td>1.466227e-12</td>\n",
       "      <td>3.254271e-12</td>\n",
       "      <td>2.967154e-12</td>\n",
       "      <td>3.136571e-12</td>\n",
       "      <td>2.657680e-12</td>\n",
       "      <td>2.125935e-12</td>\n",
       "      <td>2.570565e-12</td>\n",
       "      <td>5.413135e-12</td>\n",
       "      <td>5.408412e-12</td>\n",
       "    </tr>\n",
       "    <tr>\n",
       "      <th>3</th>\n",
       "      <td>4.865927e-21</td>\n",
       "      <td>2.997533e-21</td>\n",
       "      <td>7.051990e-21</td>\n",
       "      <td>2.115150e-21</td>\n",
       "      <td>3.112280e-21</td>\n",
       "      <td>5.230590e-21</td>\n",
       "      <td>2.333727e-20</td>\n",
       "      <td>1.188253e-20</td>\n",
       "      <td>7.681471e-21</td>\n",
       "      <td>6.355096e-21</td>\n",
       "      <td>...</td>\n",
       "      <td>1.048118e-12</td>\n",
       "      <td>7.718145e-13</td>\n",
       "      <td>1.056595e-12</td>\n",
       "      <td>1.319589e-12</td>\n",
       "      <td>1.290500e-12</td>\n",
       "      <td>1.161041e-12</td>\n",
       "      <td>1.049064e-12</td>\n",
       "      <td>1.391353e-12</td>\n",
       "      <td>2.095715e-12</td>\n",
       "      <td>2.455719e-12</td>\n",
       "    </tr>\n",
       "    <tr>\n",
       "      <th>4</th>\n",
       "      <td>2.226270e-21</td>\n",
       "      <td>2.665129e-21</td>\n",
       "      <td>9.358654e-21</td>\n",
       "      <td>3.409657e-21</td>\n",
       "      <td>2.846592e-21</td>\n",
       "      <td>4.009396e-21</td>\n",
       "      <td>1.219991e-20</td>\n",
       "      <td>8.776069e-21</td>\n",
       "      <td>1.060858e-20</td>\n",
       "      <td>4.038673e-21</td>\n",
       "      <td>...</td>\n",
       "      <td>5.422069e-13</td>\n",
       "      <td>6.569212e-13</td>\n",
       "      <td>1.131917e-12</td>\n",
       "      <td>8.779020e-13</td>\n",
       "      <td>8.784240e-13</td>\n",
       "      <td>9.078544e-13</td>\n",
       "      <td>6.309659e-13</td>\n",
       "      <td>1.000275e-12</td>\n",
       "      <td>1.776413e-12</td>\n",
       "      <td>1.770538e-12</td>\n",
       "    </tr>\n",
       "    <tr>\n",
       "      <th>...</th>\n",
       "      <td>...</td>\n",
       "      <td>...</td>\n",
       "      <td>...</td>\n",
       "      <td>...</td>\n",
       "      <td>...</td>\n",
       "      <td>...</td>\n",
       "      <td>...</td>\n",
       "      <td>...</td>\n",
       "      <td>...</td>\n",
       "      <td>...</td>\n",
       "      <td>...</td>\n",
       "      <td>...</td>\n",
       "      <td>...</td>\n",
       "      <td>...</td>\n",
       "      <td>...</td>\n",
       "      <td>...</td>\n",
       "      <td>...</td>\n",
       "      <td>...</td>\n",
       "      <td>...</td>\n",
       "      <td>...</td>\n",
       "      <td>...</td>\n",
       "    </tr>\n",
       "    <tr>\n",
       "      <th>12795</th>\n",
       "      <td>8.214185e-28</td>\n",
       "      <td>9.697313e-28</td>\n",
       "      <td>3.602713e-27</td>\n",
       "      <td>4.077091e-27</td>\n",
       "      <td>2.951422e-27</td>\n",
       "      <td>1.416817e-27</td>\n",
       "      <td>3.348682e-27</td>\n",
       "      <td>2.137889e-27</td>\n",
       "      <td>1.018163e-27</td>\n",
       "      <td>5.647295e-27</td>\n",
       "      <td>...</td>\n",
       "      <td>3.229133e-22</td>\n",
       "      <td>5.204264e-22</td>\n",
       "      <td>4.192141e-22</td>\n",
       "      <td>5.225426e-22</td>\n",
       "      <td>4.190005e-22</td>\n",
       "      <td>4.083937e-22</td>\n",
       "      <td>5.148939e-22</td>\n",
       "      <td>3.014657e-22</td>\n",
       "      <td>5.217459e-22</td>\n",
       "      <td>5.624631e-22</td>\n",
       "    </tr>\n",
       "    <tr>\n",
       "      <th>12796</th>\n",
       "      <td>9.338100e-28</td>\n",
       "      <td>1.211786e-27</td>\n",
       "      <td>4.244478e-27</td>\n",
       "      <td>4.080652e-27</td>\n",
       "      <td>3.180607e-27</td>\n",
       "      <td>6.101855e-28</td>\n",
       "      <td>3.347776e-27</td>\n",
       "      <td>2.003981e-27</td>\n",
       "      <td>1.086321e-27</td>\n",
       "      <td>5.238077e-27</td>\n",
       "      <td>...</td>\n",
       "      <td>3.634342e-22</td>\n",
       "      <td>4.007651e-22</td>\n",
       "      <td>4.669857e-22</td>\n",
       "      <td>5.421704e-22</td>\n",
       "      <td>4.837456e-22</td>\n",
       "      <td>3.499511e-22</td>\n",
       "      <td>4.422223e-22</td>\n",
       "      <td>4.184016e-22</td>\n",
       "      <td>4.246247e-22</td>\n",
       "      <td>5.265708e-22</td>\n",
       "    </tr>\n",
       "    <tr>\n",
       "      <th>12797</th>\n",
       "      <td>8.091853e-28</td>\n",
       "      <td>1.134491e-27</td>\n",
       "      <td>3.219472e-27</td>\n",
       "      <td>4.945395e-27</td>\n",
       "      <td>3.273453e-27</td>\n",
       "      <td>6.872440e-28</td>\n",
       "      <td>3.009282e-27</td>\n",
       "      <td>2.185313e-27</td>\n",
       "      <td>1.087860e-27</td>\n",
       "      <td>4.642356e-27</td>\n",
       "      <td>...</td>\n",
       "      <td>5.128463e-22</td>\n",
       "      <td>4.175307e-22</td>\n",
       "      <td>4.062912e-22</td>\n",
       "      <td>4.665435e-22</td>\n",
       "      <td>3.636375e-22</td>\n",
       "      <td>4.240603e-22</td>\n",
       "      <td>4.475626e-22</td>\n",
       "      <td>4.047060e-22</td>\n",
       "      <td>3.946237e-22</td>\n",
       "      <td>4.629828e-22</td>\n",
       "    </tr>\n",
       "    <tr>\n",
       "      <th>12798</th>\n",
       "      <td>7.183150e-28</td>\n",
       "      <td>1.207334e-27</td>\n",
       "      <td>2.380290e-27</td>\n",
       "      <td>3.242941e-27</td>\n",
       "      <td>2.762460e-27</td>\n",
       "      <td>8.099285e-28</td>\n",
       "      <td>2.794541e-27</td>\n",
       "      <td>2.376245e-27</td>\n",
       "      <td>9.539348e-28</td>\n",
       "      <td>4.357042e-27</td>\n",
       "      <td>...</td>\n",
       "      <td>3.942416e-22</td>\n",
       "      <td>5.336735e-22</td>\n",
       "      <td>2.822439e-22</td>\n",
       "      <td>3.500963e-22</td>\n",
       "      <td>4.440745e-22</td>\n",
       "      <td>4.668223e-22</td>\n",
       "      <td>4.268119e-22</td>\n",
       "      <td>3.823440e-22</td>\n",
       "      <td>3.912022e-22</td>\n",
       "      <td>3.684893e-22</td>\n",
       "    </tr>\n",
       "    <tr>\n",
       "      <th>12799</th>\n",
       "      <td>6.683201e-28</td>\n",
       "      <td>9.458461e-28</td>\n",
       "      <td>2.980181e-27</td>\n",
       "      <td>3.101427e-27</td>\n",
       "      <td>2.041098e-27</td>\n",
       "      <td>8.827175e-28</td>\n",
       "      <td>3.182932e-27</td>\n",
       "      <td>2.004434e-27</td>\n",
       "      <td>1.380735e-27</td>\n",
       "      <td>5.067084e-27</td>\n",
       "      <td>...</td>\n",
       "      <td>3.652945e-22</td>\n",
       "      <td>3.852305e-22</td>\n",
       "      <td>2.926415e-22</td>\n",
       "      <td>3.997912e-22</td>\n",
       "      <td>3.974321e-22</td>\n",
       "      <td>3.879556e-22</td>\n",
       "      <td>4.164536e-22</td>\n",
       "      <td>4.115435e-22</td>\n",
       "      <td>4.036773e-22</td>\n",
       "      <td>3.688087e-22</td>\n",
       "    </tr>\n",
       "  </tbody>\n",
       "</table>\n",
       "<p>12800 rows × 151 columns</p>\n",
       "</div>"
      ],
      "text/plain": [
       "           20220101      20220102      20220103      20220104      20220105  \\\n",
       "0      2.394419e-21  9.215003e-22  1.108598e-21  7.531019e-22  1.220117e-21   \n",
       "1      2.759153e-20  8.410214e-21  7.172813e-21  8.047408e-21  2.832457e-20   \n",
       "2      6.805299e-21  3.930551e-21  5.544288e-21  2.991680e-21  5.688741e-21   \n",
       "3      4.865927e-21  2.997533e-21  7.051990e-21  2.115150e-21  3.112280e-21   \n",
       "4      2.226270e-21  2.665129e-21  9.358654e-21  3.409657e-21  2.846592e-21   \n",
       "...             ...           ...           ...           ...           ...   \n",
       "12795  8.214185e-28  9.697313e-28  3.602713e-27  4.077091e-27  2.951422e-27   \n",
       "12796  9.338100e-28  1.211786e-27  4.244478e-27  4.080652e-27  3.180607e-27   \n",
       "12797  8.091853e-28  1.134491e-27  3.219472e-27  4.945395e-27  3.273453e-27   \n",
       "12798  7.183150e-28  1.207334e-27  2.380290e-27  3.242941e-27  2.762460e-27   \n",
       "12799  6.683201e-28  9.458461e-28  2.980181e-27  3.101427e-27  2.041098e-27   \n",
       "\n",
       "           20220106      20220107      20220108      20220109      20220110  \\\n",
       "0      6.596119e-21  2.150977e-20  2.160698e-20  3.663315e-21  3.359043e-21   \n",
       "1      7.065505e-20  2.676765e-19  1.009538e-19  2.201122e-20  7.698279e-20   \n",
       "2      1.139379e-20  3.462117e-20  1.428607e-20  5.978969e-21  5.410635e-21   \n",
       "3      5.230590e-21  2.333727e-20  1.188253e-20  7.681471e-21  6.355096e-21   \n",
       "4      4.009396e-21  1.219991e-20  8.776069e-21  1.060858e-20  4.038673e-21   \n",
       "...             ...           ...           ...           ...           ...   \n",
       "12795  1.416817e-27  3.348682e-27  2.137889e-27  1.018163e-27  5.647295e-27   \n",
       "12796  6.101855e-28  3.347776e-27  2.003981e-27  1.086321e-27  5.238077e-27   \n",
       "12797  6.872440e-28  3.009282e-27  2.185313e-27  1.087860e-27  4.642356e-27   \n",
       "12798  8.099285e-28  2.794541e-27  2.376245e-27  9.539348e-28  4.357042e-27   \n",
       "12799  8.827175e-28  3.182932e-27  2.004434e-27  1.380735e-27  5.067084e-27   \n",
       "\n",
       "       ...      20220522      20220523      20220524      20220525  \\\n",
       "0      ...  5.154551e-13  7.326741e-13  1.297110e-12  1.027930e-12   \n",
       "1      ...  3.095267e-12  3.931575e-12  7.039662e-12  6.289962e-12   \n",
       "2      ...  1.895509e-12  1.466227e-12  3.254271e-12  2.967154e-12   \n",
       "3      ...  1.048118e-12  7.718145e-13  1.056595e-12  1.319589e-12   \n",
       "4      ...  5.422069e-13  6.569212e-13  1.131917e-12  8.779020e-13   \n",
       "...    ...           ...           ...           ...           ...   \n",
       "12795  ...  3.229133e-22  5.204264e-22  4.192141e-22  5.225426e-22   \n",
       "12796  ...  3.634342e-22  4.007651e-22  4.669857e-22  5.421704e-22   \n",
       "12797  ...  5.128463e-22  4.175307e-22  4.062912e-22  4.665435e-22   \n",
       "12798  ...  3.942416e-22  5.336735e-22  2.822439e-22  3.500963e-22   \n",
       "12799  ...  3.652945e-22  3.852305e-22  2.926415e-22  3.997912e-22   \n",
       "\n",
       "           20220526      20220527      20220528      20220529      20220530  \\\n",
       "0      7.447742e-13  1.070180e-12  7.101094e-13  7.758331e-13  1.639271e-12   \n",
       "1      5.261400e-12  4.370181e-12  3.831208e-12  4.432602e-12  9.876730e-12   \n",
       "2      3.136571e-12  2.657680e-12  2.125935e-12  2.570565e-12  5.413135e-12   \n",
       "3      1.290500e-12  1.161041e-12  1.049064e-12  1.391353e-12  2.095715e-12   \n",
       "4      8.784240e-13  9.078544e-13  6.309659e-13  1.000275e-12  1.776413e-12   \n",
       "...             ...           ...           ...           ...           ...   \n",
       "12795  4.190005e-22  4.083937e-22  5.148939e-22  3.014657e-22  5.217459e-22   \n",
       "12796  4.837456e-22  3.499511e-22  4.422223e-22  4.184016e-22  4.246247e-22   \n",
       "12797  3.636375e-22  4.240603e-22  4.475626e-22  4.047060e-22  3.946237e-22   \n",
       "12798  4.440745e-22  4.668223e-22  4.268119e-22  3.823440e-22  3.912022e-22   \n",
       "12799  3.974321e-22  3.879556e-22  4.164536e-22  4.115435e-22  4.036773e-22   \n",
       "\n",
       "           20220531  \n",
       "0      1.240473e-12  \n",
       "1      1.021888e-11  \n",
       "2      5.408412e-12  \n",
       "3      2.455719e-12  \n",
       "4      1.770538e-12  \n",
       "...             ...  \n",
       "12795  5.624631e-22  \n",
       "12796  5.265708e-22  \n",
       "12797  4.629828e-22  \n",
       "12798  3.684893e-22  \n",
       "12799  3.688087e-22  \n",
       "\n",
       "[12800 rows x 151 columns]"
      ]
     },
     "execution_count": 144,
     "metadata": {},
     "output_type": "execute_result"
    }
   ],
   "source": [
    "## load set of minimum psds\n",
    "file = f\"{config['inpath']}{config['inname']}_daily_medians.pkl\"\n",
    "\n",
    "print(f\" -> loading \\n {file} ...\")\n",
    "psds_all = read_pickle(file)\n",
    "psds_all\n",
    "\n",
    "## load frequencies\n",
    "ff = pickle.load(open(f\"{config['inpath']}{config['inname']}_frequency_axis.pkl\", 'rb'))"
   ]
  },
  {
   "cell_type": "code",
   "execution_count": 145,
   "id": "2b8b1666",
   "metadata": {
    "ExecuteTime": {
     "end_time": "2022-08-16T12:49:02.767523Z",
     "start_time": "2022-08-16T12:49:02.490753Z"
    },
    "code_folding": []
   },
   "outputs": [
    {
     "name": "stdout",
     "output_type": "stream",
     "text": [
      " -> removed 115 columns due to mean thresholds!\n",
      " -> 36 psds remain\n"
     ]
    }
   ],
   "source": [
    "if \"RLAS-Z\" in config['inname'].split(\"_\"):\n",
    "    psds_all = __remove_noisy_psds(psds_all, threshold_mean=1e-20)\n",
    "elif \"ROMY-Z\" in config['inname'].split(\"_\"):\n",
    "    psds_all = __remove_noisy_psds(psds_all, threshold_mean=1e-18)\n",
    "elif \"ROMY-V\" in config['inname'].split(\"_\"):\n",
    "    psds_all = __remove_noisy_psds(psds_all, threshold_mean=1e-18)\n",
    "    "
   ]
  },
  {
   "cell_type": "markdown",
   "id": "569ab3ef",
   "metadata": {},
   "source": [
    "Convert dataframes to array / matrix"
   ]
  },
  {
   "cell_type": "code",
   "execution_count": 84,
   "id": "5a024e88",
   "metadata": {
    "ExecuteTime": {
     "end_time": "2022-08-16T11:54:26.113812Z",
     "start_time": "2022-08-16T11:54:26.112289Z"
    }
   },
   "outputs": [],
   "source": [
    "# dates = ['20220314','20220315','20220316','20220317','20220318','20220319','20220320','20220321','20220322','20220323']\n",
    "# psds_all = psds_all[dates]"
   ]
  },
  {
   "cell_type": "code",
   "execution_count": 90,
   "id": "1ce80781",
   "metadata": {
    "ExecuteTime": {
     "end_time": "2022-08-16T11:54:34.647986Z",
     "start_time": "2022-08-16T11:54:34.641361Z"
    }
   },
   "outputs": [
    {
     "data": {
      "text/html": [
       "<div>\n",
       "<style scoped>\n",
       "    .dataframe tbody tr th:only-of-type {\n",
       "        vertical-align: middle;\n",
       "    }\n",
       "\n",
       "    .dataframe tbody tr th {\n",
       "        vertical-align: top;\n",
       "    }\n",
       "\n",
       "    .dataframe thead th {\n",
       "        text-align: right;\n",
       "    }\n",
       "</style>\n",
       "<table border=\"1\" class=\"dataframe\">\n",
       "  <thead>\n",
       "    <tr style=\"text-align: right;\">\n",
       "      <th></th>\n",
       "    </tr>\n",
       "  </thead>\n",
       "  <tbody>\n",
       "  </tbody>\n",
       "</table>\n",
       "</div>"
      ],
      "text/plain": [
       "Empty DataFrame\n",
       "Columns: []\n",
       "Index: []"
      ]
     },
     "execution_count": 90,
     "metadata": {},
     "output_type": "execute_result"
    }
   ],
   "source": [
    "dates = [\"20190325\", \"20190326\", \"20190327\"]\n",
    "\n",
    "dates_new = []\n",
    "for date in dates: \n",
    "    if date in psds_all.keys():\n",
    "        dates_new.append(date)\n",
    "psds_all = psds_all[dates_new]\n",
    "psds_all"
   ]
  },
  {
   "cell_type": "code",
   "execution_count": 86,
   "id": "7815ff60",
   "metadata": {
    "ExecuteTime": {
     "end_time": "2022-08-16T11:54:26.434733Z",
     "start_time": "2022-08-16T11:54:26.432388Z"
    }
   },
   "outputs": [],
   "source": [
    "psds = __get_array_from_dataframe(psds_all)\n",
    "\n",
    "columns = psds_all.columns"
   ]
  },
  {
   "cell_type": "markdown",
   "id": "19830098",
   "metadata": {},
   "source": [
    "Cut to frequency axis and matrices to frequency limits as specified in config"
   ]
  },
  {
   "cell_type": "code",
   "execution_count": 87,
   "id": "d0252962",
   "metadata": {
    "ExecuteTime": {
     "end_time": "2022-08-16T11:54:26.796407Z",
     "start_time": "2022-08-16T11:54:26.784346Z"
    }
   },
   "outputs": [
    {
     "ename": "IndexError",
     "evalue": "too many indices for array: array is 1-dimensional, but 2 were indexed",
     "output_type": "error",
     "traceback": [
      "\u001b[0;31m---------------------------------------------------------------------------\u001b[0m",
      "\u001b[0;31mIndexError\u001b[0m                                Traceback (most recent call last)",
      "\u001b[0;32m<ipython-input-87-5ce58db1340c>\u001b[0m in \u001b[0;36m<module>\u001b[0;34m\u001b[0m\n\u001b[1;32m      5\u001b[0m \u001b[0;34m\u001b[0m\u001b[0m\n\u001b[1;32m      6\u001b[0m \u001b[0mff\u001b[0m \u001b[0;34m=\u001b[0m \u001b[0mff\u001b[0m\u001b[0;34m[\u001b[0m\u001b[0mind\u001b[0m\u001b[0;34m[\u001b[0m\u001b[0;36m0\u001b[0m\u001b[0;34m]\u001b[0m\u001b[0;34m:\u001b[0m\u001b[0mind\u001b[0m\u001b[0;34m[\u001b[0m\u001b[0;34m-\u001b[0m\u001b[0;36m1\u001b[0m\u001b[0;34m]\u001b[0m\u001b[0;34m]\u001b[0m\u001b[0;34m\u001b[0m\u001b[0;34m\u001b[0m\u001b[0m\n\u001b[0;32m----> 7\u001b[0;31m \u001b[0mpsds\u001b[0m \u001b[0;34m=\u001b[0m \u001b[0mpsds\u001b[0m\u001b[0;34m[\u001b[0m\u001b[0;34m:\u001b[0m\u001b[0;34m,\u001b[0m\u001b[0mind\u001b[0m\u001b[0;34m[\u001b[0m\u001b[0;36m0\u001b[0m\u001b[0;34m]\u001b[0m\u001b[0;34m:\u001b[0m\u001b[0mind\u001b[0m\u001b[0;34m[\u001b[0m\u001b[0;34m-\u001b[0m\u001b[0;36m1\u001b[0m\u001b[0;34m]\u001b[0m\u001b[0;34m]\u001b[0m\u001b[0;34m\u001b[0m\u001b[0;34m\u001b[0m\u001b[0m\n\u001b[0m",
      "\u001b[0;31mIndexError\u001b[0m: too many indices for array: array is 1-dimensional, but 2 were indexed"
     ]
    }
   ],
   "source": [
    "ind = []\n",
    "for i,f in enumerate(ff):\n",
    "    if f >= config['frequency_limits'][0] and f <= config['frequency_limits'][1]:\n",
    "        ind.append(i)\n",
    "\n",
    "ff = ff[ind[0]:ind[-1]]\n",
    "psds = psds[:,ind[0]:ind[-1]]"
   ]
  },
  {
   "cell_type": "markdown",
   "id": "086fd5d0",
   "metadata": {},
   "source": [
    "## Plotting"
   ]
  },
  {
   "cell_type": "code",
   "execution_count": 88,
   "id": "ce64c931",
   "metadata": {
    "ExecuteTime": {
     "end_time": "2022-08-16T11:54:27.663413Z",
     "start_time": "2022-08-16T11:54:27.656404Z"
    },
    "code_folding": [
     0
    ]
   },
   "outputs": [],
   "source": [
    "def __makeplot_colorlines(config, ff, psds, columns):\n",
    "\n",
    "    from numpy import isnan, median, mean, std, array\n",
    "    from scipy.stats import median_abs_deviation as mad\n",
    "    \n",
    "    psds_median, psds_mean, psds_std, psds_mad = [],[],[],[]\n",
    "    for fcross in range(psds.shape[1]):\n",
    "        data = psds[:,fcross]\n",
    "        psds_median.append(median(data[~isnan(data)]))\n",
    "#         psds_mean.append(mean(data[~isnan(data)]))\n",
    "#         psds_std.append(std(data[~isnan(data)]))\n",
    "#         psds_mad.append(mad(data[~isnan(data)]))\n",
    "        \n",
    "    psds_minimal = __get_minimal_psd(array(psds))\n",
    "#     psds_minimum = __get_minimum_psd(array(psds), ff)\n",
    "    \n",
    "        \n",
    "    ff = 1/ff\n",
    "        \n",
    "    ##____________________________\n",
    "    \n",
    "    fig, ax = plt.subplots(1,1, figsize=(15,10), sharey=False, sharex=True)\n",
    "\n",
    "    font = 12\n",
    "\n",
    "    N = psds.shape[0]\n",
    "    colors = plt.cm.rainbow(linspace(0, 1, N))\n",
    "\n",
    "\n",
    "    for n, psd in enumerate(psds):\n",
    "        ax.loglog(ff, psd, color=colors[n], alpha=0.7)\n",
    "\n",
    "\n",
    "    ## add scatter for colorbar object only\n",
    "    for n, psd in enumerate(psds):\n",
    "        p2 = ax.scatter(ff[0], psd[0], s=0., c=n, cmap='rainbow', vmin=0, vmax=N)\n",
    "\n",
    "\n",
    "    ax.loglog(ff, psds_median, 'black', zorder=3, alpha=0.9)\n",
    "    ax.loglog(ff, psds_minimal, 'grey', zorder=2, alpha=1.0)\n",
    "    \n",
    "\n",
    "#     ax.set_title(\"Minimal PSD\", fontsize=font)\n",
    "#     ax.set_title(\"Minimum PSD\", fontsize=font)\n",
    "\n",
    "    ax.set_xlabel(\"Period (s)\", fontsize=font)\n",
    "\n",
    "    ax.set_ylabel(r\"PSD (rad$^2$/s$^2$/$Hz)$\", fontsize=font)\n",
    "    \n",
    "    ax.grid(True, which=\"both\", ls=\"-\", alpha=0.5)\n",
    "    \n",
    "    ax.set_xlim(min(ff), max(ff))\n",
    "#     ax.set_xlim(10**log10(config['frequency_limits'][0]), 10**log10(config['frequency_limits'][1]))\n",
    "    \n",
    "    ## set colorbar at bottom\n",
    "    cbar = fig.colorbar(p2, orientation='horizontal', ax=ax, aspect=50)\n",
    "\n",
    "    ## redefine ticks of colorbar\n",
    "#     new_ticks=[]\n",
    "#     for n, t in enumerate(cbar.get_ticks()):\n",
    "#         print(n)\n",
    "#         new_ticks.append(columns[int(t)])\n",
    "#     print(new_ticks)\n",
    "#     cbar.ax.set_xticklabels(columns)\n",
    "\n",
    "\n",
    "    plt.show();\n",
    "    \n",
    "    out = DataFrame()\n",
    "    out['frequencies'] = ff\n",
    "    out['psds_minimal'] = array(psds_minimal)\n",
    "    out['psds_median'] = array(psds_median)\n",
    "#     out['psds_mean'] = array(psds_mean)\n",
    "#     out['psds_std'] = array(psds_std)\n",
    "#     out['psds_mad'] = array(psds_mad)\n",
    "    \n",
    "    \n",
    "    return fig, out"
   ]
  },
  {
   "cell_type": "code",
   "execution_count": 89,
   "id": "d5a44ac1",
   "metadata": {
    "ExecuteTime": {
     "end_time": "2022-08-16T11:54:27.850072Z",
     "start_time": "2022-08-16T11:54:27.840886Z"
    },
    "code_folding": []
   },
   "outputs": [
    {
     "ename": "IndexError",
     "evalue": "tuple index out of range",
     "output_type": "error",
     "traceback": [
      "\u001b[0;31m---------------------------------------------------------------------------\u001b[0m",
      "\u001b[0;31mIndexError\u001b[0m                                Traceback (most recent call last)",
      "\u001b[0;32m<ipython-input-89-f3c3e0cca0a7>\u001b[0m in \u001b[0;36m<module>\u001b[0;34m\u001b[0m\n\u001b[0;32m----> 1\u001b[0;31m \u001b[0mfig\u001b[0m\u001b[0;34m,\u001b[0m \u001b[0mout\u001b[0m \u001b[0;34m=\u001b[0m \u001b[0m__makeplot_colorlines\u001b[0m\u001b[0;34m(\u001b[0m\u001b[0mconfig\u001b[0m\u001b[0;34m,\u001b[0m \u001b[0mff\u001b[0m\u001b[0;34m,\u001b[0m \u001b[0mpsds\u001b[0m\u001b[0;34m,\u001b[0m \u001b[0mcolumns\u001b[0m\u001b[0;34m)\u001b[0m\u001b[0;34m\u001b[0m\u001b[0;34m\u001b[0m\u001b[0m\n\u001b[0m",
      "\u001b[0;32m<ipython-input-88-6c8e949e2a02>\u001b[0m in \u001b[0;36m__makeplot_colorlines\u001b[0;34m(config, ff, psds, columns)\u001b[0m\n\u001b[1;32m      5\u001b[0m \u001b[0;34m\u001b[0m\u001b[0m\n\u001b[1;32m      6\u001b[0m     \u001b[0mpsds_median\u001b[0m\u001b[0;34m,\u001b[0m \u001b[0mpsds_mean\u001b[0m\u001b[0;34m,\u001b[0m \u001b[0mpsds_std\u001b[0m\u001b[0;34m,\u001b[0m \u001b[0mpsds_mad\u001b[0m \u001b[0;34m=\u001b[0m \u001b[0;34m[\u001b[0m\u001b[0;34m]\u001b[0m\u001b[0;34m,\u001b[0m\u001b[0;34m[\u001b[0m\u001b[0;34m]\u001b[0m\u001b[0;34m,\u001b[0m\u001b[0;34m[\u001b[0m\u001b[0;34m]\u001b[0m\u001b[0;34m,\u001b[0m\u001b[0;34m[\u001b[0m\u001b[0;34m]\u001b[0m\u001b[0;34m\u001b[0m\u001b[0;34m\u001b[0m\u001b[0m\n\u001b[0;32m----> 7\u001b[0;31m     \u001b[0;32mfor\u001b[0m \u001b[0mfcross\u001b[0m \u001b[0;32min\u001b[0m \u001b[0mrange\u001b[0m\u001b[0;34m(\u001b[0m\u001b[0mpsds\u001b[0m\u001b[0;34m.\u001b[0m\u001b[0mshape\u001b[0m\u001b[0;34m[\u001b[0m\u001b[0;36m1\u001b[0m\u001b[0;34m]\u001b[0m\u001b[0;34m)\u001b[0m\u001b[0;34m:\u001b[0m\u001b[0;34m\u001b[0m\u001b[0;34m\u001b[0m\u001b[0m\n\u001b[0m\u001b[1;32m      8\u001b[0m         \u001b[0mdata\u001b[0m \u001b[0;34m=\u001b[0m \u001b[0mpsds\u001b[0m\u001b[0;34m[\u001b[0m\u001b[0;34m:\u001b[0m\u001b[0;34m,\u001b[0m\u001b[0mfcross\u001b[0m\u001b[0;34m]\u001b[0m\u001b[0;34m\u001b[0m\u001b[0;34m\u001b[0m\u001b[0m\n\u001b[1;32m      9\u001b[0m         \u001b[0mpsds_median\u001b[0m\u001b[0;34m.\u001b[0m\u001b[0mappend\u001b[0m\u001b[0;34m(\u001b[0m\u001b[0mmedian\u001b[0m\u001b[0;34m(\u001b[0m\u001b[0mdata\u001b[0m\u001b[0;34m[\u001b[0m\u001b[0;34m~\u001b[0m\u001b[0misnan\u001b[0m\u001b[0;34m(\u001b[0m\u001b[0mdata\u001b[0m\u001b[0;34m)\u001b[0m\u001b[0;34m]\u001b[0m\u001b[0;34m)\u001b[0m\u001b[0;34m)\u001b[0m\u001b[0;34m\u001b[0m\u001b[0;34m\u001b[0m\u001b[0m\n",
      "\u001b[0;31mIndexError\u001b[0m: tuple index out of range"
     ]
    }
   ],
   "source": [
    "fig, out = __makeplot_colorlines(config, ff, psds, columns)"
   ]
  },
  {
   "cell_type": "markdown",
   "id": "2d65495d",
   "metadata": {},
   "source": [
    "### Write to File"
   ]
  },
  {
   "cell_type": "code",
   "execution_count": 40,
   "id": "e7f2a1f5",
   "metadata": {
    "ExecuteTime": {
     "end_time": "2022-08-16T11:28:53.831116Z",
     "start_time": "2022-08-16T11:28:53.777703Z"
    }
   },
   "outputs": [
    {
     "name": "stdout",
     "output_type": "stream",
     "text": [
      " -> writing to /import/kilauea-data/ROMY/RotationSpectra/data/run_2022_ROMY-Z_3600/run_2022_ROMY-Z_3600_stats.pkl\n"
     ]
    }
   ],
   "source": [
    "if config['save']:\n",
    "    out.to_pickle(f\"{inpath}{inname}_stats.pkl\")\n",
    "    print(f\" -> writing to {inpath}{inname}_stats.pkl\")"
   ]
  },
  {
   "cell_type": "markdown",
   "id": "48a168db",
   "metadata": {},
   "source": [
    "## Plot as DeciBel"
   ]
  },
  {
   "cell_type": "code",
   "execution_count": 44,
   "id": "0a260f91",
   "metadata": {
    "ExecuteTime": {
     "end_time": "2022-06-10T15:14:40.435731Z",
     "start_time": "2022-06-10T15:14:40.430897Z"
    },
    "code_folding": [
     0
    ]
   },
   "outputs": [],
   "source": [
    "def __conversion(data, informat=None, outformat=None):\n",
    "    '''\n",
    "    data:                  array \n",
    "    informat/outformat:    ASD, PSD, DB\n",
    "    '''\n",
    "    from numpy import log10, sqrt\n",
    "    \n",
    "    \n",
    "    if informat == 'ASD' and outformat == 'PSD':\n",
    "        return data**2\n",
    "    \n",
    "    elif informat == 'PSD' and outformat == 'ASD':\n",
    "        return sqrt(data)\n",
    "\n",
    "    elif informat == 'ASD' and outformat == 'DB':\n",
    "        return 10*log10(data)\n",
    "    \n",
    "    elif informat == 'PSD' and outformat == 'DB':\n",
    "        return 10*log10(data)\n",
    "    \n",
    "    elif informat == 'DB' and outformat == 'PSD':\n",
    "        return 10**(data/10)\n",
    "    \n",
    "    elif informat == 'DB' and outformat == 'ASD':\n",
    "        return sqrt(10**(data/10))\n",
    "    \n",
    "    else:\n",
    "        print(\" -> specified case not defined!\")"
   ]
  },
  {
   "cell_type": "code",
   "execution_count": 45,
   "id": "a357aa05",
   "metadata": {
    "ExecuteTime": {
     "end_time": "2022-06-10T15:14:40.452779Z",
     "start_time": "2022-06-10T15:14:40.437242Z"
    }
   },
   "outputs": [],
   "source": [
    "psds_db = __conversion(psds, informat=\"PSD\", outformat=\"DB\")"
   ]
  },
  {
   "cell_type": "code",
   "execution_count": 46,
   "id": "156528cc",
   "metadata": {
    "ExecuteTime": {
     "end_time": "2022-06-10T15:14:40.468446Z",
     "start_time": "2022-06-10T15:14:40.453934Z"
    },
    "code_folding": [
     0
    ]
   },
   "outputs": [],
   "source": [
    "def __makeplot_colorlines_decibel(config, ff, psds, columns):\n",
    "\n",
    "    from numpy import isnan, median, mean, std, array\n",
    "    from scipy.stats import median_abs_deviation as mad\n",
    "    \n",
    "    psds_median, psds_mean, psds_std, psds_mad = [],[],[],[]\n",
    "    for fcross in range(psds.shape[1]):\n",
    "        data = psds[:,fcross]\n",
    "        psds_median.append(median(data[~isnan(data)]))\n",
    "        psds_mean.append(mean(data[~isnan(data)]))\n",
    "        psds_std.append(std(data[~isnan(data)]))\n",
    "        psds_mad.append(mad(data[~isnan(data)]))\n",
    "    \n",
    "    psds_minimal = __get_minimal_psd(array(psds))\n",
    "#     psds_minimum = __get_minimum_psd(array(psds), ff)\n",
    "    \n",
    "    \n",
    "    ##____________________________\n",
    "    \n",
    "    fig, ax = plt.subplots(1,1, figsize=(15,10), sharey=False, sharex=True)\n",
    "\n",
    "    font = 12\n",
    "\n",
    "    N = psds.shape[0]\n",
    "    colors = plt.cm.rainbow(linspace(0, 1, N))\n",
    "\n",
    "\n",
    "    for n, psd in enumerate(psds):\n",
    "        ax.semilogx(ff, psd, color=colors[n], alpha=0.7)\n",
    "\n",
    "    ## add scatter for colorbar object only\n",
    "    for n, psd in enumerate(psds):\n",
    "        p2 = ax.scatter(ff[0], psd[0], s=0., c=n, cmap='rainbow', vmin=0, vmax=N)\n",
    "\n",
    "    ax.semilogx(ff, psds_median, 'black', zorder=3, alpha=0.9)\n",
    "    ax.semilogx(ff, array(psds_median)+array(psds_mad), 'grey', zorder=3, alpha=0.8)  \n",
    "    ax.semilogx(ff, array(psds_median)-array(psds_mad), 'grey', zorder=3, alpha=0.8)  \n",
    "\n",
    "#     ax.semilogx(ff, psds_minimal, 'black', zorder=2, alpha=1.0)\n",
    "    \n",
    "\n",
    "    ax.set_xlabel(\"Frequency (Hz)\", fontsize=font)\n",
    "\n",
    "    ax.set_ylabel(r\"PSD (dB rel. to 1 $rad^2$/($s^2$ $Hz$)\", fontsize=font)\n",
    "  \n",
    "    ax.grid(True, which=\"both\", ls=\"-\", alpha=0.5)\n",
    "\n",
    "    \n",
    "    ax.set_xlim(min(ff), max(ff))\n",
    "#     ax.set_xlim(10**log10(config['frequency_limits'][0]), 10**log10(config['frequency_limits'][1]))\n",
    "    \n",
    "    ## set colorbar at bottom\n",
    "    cbar = fig.colorbar(p2, orientation='horizontal', ax=ax, aspect=50)\n",
    "\n",
    "    ## redefine ticks of colorbar\n",
    "    dates = columns\n",
    "    new_ticks=[]\n",
    "    for t in cbar.get_ticks(): \n",
    "        new_ticks.append(dates.astype(str)[int(t)])\n",
    "    cbar.ax.set_xticklabels(new_ticks)\n",
    "\n",
    "\n",
    "    plt.show();\n",
    "    \n",
    "    out = DataFrame()\n",
    "    out['frequencies'] = ff\n",
    "    out['psds_minimal'] = array(psds_minimal)\n",
    "    out['psds_median'] = array(psds_median)\n",
    "    out['psds_mean'] = array(psds_mean)\n",
    "    out['psds_std'] = array(psds_std)\n",
    "    out['psds_mad'] = array(psds_mad)\n",
    "    \n",
    "    return fig, out"
   ]
  },
  {
   "cell_type": "code",
   "execution_count": 47,
   "id": "879b7e61",
   "metadata": {
    "ExecuteTime": {
     "end_time": "2022-06-10T15:14:40.481736Z",
     "start_time": "2022-06-10T15:14:40.469478Z"
    }
   },
   "outputs": [],
   "source": [
    "# fig, out_db = __makeplot_colorlines_decibel(config, ff, psds_db, columns)"
   ]
  },
  {
   "cell_type": "markdown",
   "id": "e6c4a74a",
   "metadata": {},
   "source": [
    "### Write to file"
   ]
  },
  {
   "cell_type": "code",
   "execution_count": 25,
   "id": "a69223b0",
   "metadata": {
    "ExecuteTime": {
     "end_time": "2022-06-08T17:12:38.480592Z",
     "start_time": "2022-06-08T17:12:38.346294Z"
    }
   },
   "outputs": [
    {
     "ename": "NameError",
     "evalue": "name 'out_db' is not defined",
     "output_type": "error",
     "traceback": [
      "\u001b[0;31m---------------------------------------------------------------------------\u001b[0m",
      "\u001b[0;31mNameError\u001b[0m                                 Traceback (most recent call last)",
      "\u001b[0;32m<ipython-input-25-21f3351b5f49>\u001b[0m in \u001b[0;36m<module>\u001b[0;34m\u001b[0m\n\u001b[1;32m      1\u001b[0m \u001b[0;32mif\u001b[0m \u001b[0mconfig\u001b[0m\u001b[0;34m[\u001b[0m\u001b[0;34m'save'\u001b[0m\u001b[0;34m]\u001b[0m\u001b[0;34m:\u001b[0m\u001b[0;34m\u001b[0m\u001b[0;34m\u001b[0m\u001b[0m\n\u001b[0;32m----> 2\u001b[0;31m     \u001b[0mout_db\u001b[0m\u001b[0;34m.\u001b[0m\u001b[0mto_csv\u001b[0m\u001b[0;34m(\u001b[0m\u001b[0;34mf\"{inpath}{inname}_DB.csv\"\u001b[0m\u001b[0;34m,\u001b[0m \u001b[0msep\u001b[0m\u001b[0;34m=\u001b[0m\u001b[0;34m\",\"\u001b[0m\u001b[0;34m)\u001b[0m\u001b[0;34m\u001b[0m\u001b[0;34m\u001b[0m\u001b[0m\n\u001b[0m\u001b[1;32m      3\u001b[0m     \u001b[0mprint\u001b[0m\u001b[0;34m(\u001b[0m\u001b[0;34mf\" -> writing to {inpath}{inname}_DB.csv\"\u001b[0m\u001b[0;34m)\u001b[0m\u001b[0;34m\u001b[0m\u001b[0;34m\u001b[0m\u001b[0m\n",
      "\u001b[0;31mNameError\u001b[0m: name 'out_db' is not defined"
     ]
    }
   ],
   "source": [
    "if config['save']:\n",
    "    out_db.to_csv(f\"{inpath}{inname}_DB.csv\", sep=\",\")\n",
    "    print(f\" -> writing to {inpath}{inname}_DB.csv\")"
   ]
  },
  {
   "cell_type": "markdown",
   "id": "biblical-alloy",
   "metadata": {},
   "source": [
    "## Calculate and Plot Density"
   ]
  },
  {
   "cell_type": "markdown",
   "id": "63557881",
   "metadata": {},
   "source": [
    "Convert to logaritmic values"
   ]
  },
  {
   "cell_type": "code",
   "execution_count": null,
   "id": "234f5273",
   "metadata": {
    "ExecuteTime": {
     "end_time": "2022-06-08T17:12:38.481881Z",
     "start_time": "2022-06-08T17:12:33.047Z"
    },
    "code_folding": [
     0
    ]
   },
   "outputs": [],
   "source": [
    "# def __convert_to_log(psds):\n",
    "\n",
    "#     print(psds.shape)\n",
    "\n",
    "#     psds_new = zeros(psds.shape)\n",
    "#     rows_with_zeros = 0\n",
    "#     for i, psd in enumerate(psds):\n",
    "#         if count_nonzero(psd) != len(psd):\n",
    "#             rows_with_zeros +=1\n",
    "#             psd = [nan for val in psd if val == 0]\n",
    "#         psds_new[i,:] = log10(psd)\n",
    "#         if isinf(psds_new[i,:]).any():\n",
    "#             psds_new[i,:] = nan * ones(len(psds_new[i,:]))\n",
    "            \n",
    "#     return psds_new\n",
    "\n",
    "# psds_log = __convert_to_log(psds)"
   ]
  },
  {
   "cell_type": "code",
   "execution_count": null,
   "id": "c328c916",
   "metadata": {
    "ExecuteTime": {
     "end_time": "2022-06-08T17:12:38.482989Z",
     "start_time": "2022-06-08T17:12:33.048Z"
    },
    "code_folding": [
     0
    ]
   },
   "outputs": [],
   "source": [
    "def __calculate_density(psd_array, bins=20, density=False):\n",
    "\n",
    "    from numpy import argmax, std, median, isnan, array, histogram, nan, zeros, count_nonzero, log10, isinf\n",
    "    from scipy.stats import median_abs_deviation as mad\n",
    "    \n",
    "    def __convert_to_log(in_psds):\n",
    "\n",
    "        print(in_psds.shape)\n",
    "\n",
    "        out_psds = zeros(in_psds.shape)\n",
    "        rows_with_zeros = 0\n",
    "        for i, psd in enumerate(in_psds):\n",
    "            if count_nonzero(psd) != len(psd):\n",
    "                rows_with_zeros +=1\n",
    "                psd = [nan for val in psd if val == 0]\n",
    "            out_psds[i,:] = log10(psd)\n",
    "            if isinf(out_psds[i,:]).any():\n",
    "                out_psds[i,:] = nan * ones(len(out_psds[i,:]))\n",
    "\n",
    "        return out_psds\n",
    "\n",
    "    psd_array = __convert_to_log(psd_array)\n",
    "    \n",
    "    ## exclude psds with only NaN values\n",
    "    psds = array([psd for psd in psd_array if not isnan(psd).all()])\n",
    "\n",
    "    ## find overall minimum and maxium values\n",
    "    max_value = max([max(sublist) for sublist in psd_array])\n",
    "    min_value = min([min(sublist) for sublist in psd_array])\n",
    "    print(min_value, max_value)\n",
    "\n",
    "    ## define empty lists\n",
    "    dist, dist_maximas, bins_maximas, bins_medians, stds, mads = [], [], [], [], [], []\n",
    "    \n",
    "    count = 0\n",
    "\n",
    "    for h in range(len(psd_array[1])):\n",
    "        \n",
    "        psd = psd_array[:,h]\n",
    "        \n",
    "        hist, bin_edges = histogram(psd, bins=bins, range=(min_value, max_value), density=density);\n",
    "                \n",
    "        bin_mids = 0.5*(bin_edges[1:] + bin_edges[:-1])\n",
    "        \n",
    "        ## normalization\n",
    "#         if  True:\n",
    "#             hist = [val / len(psd_array[:,h]) for val in hist]\n",
    "#             config['set_density'] = True\n",
    "\n",
    "        ## check if density works\n",
    "        DX = abs(max_value-min_value)/bins\n",
    "        SUM = sum(hist)\n",
    "        if str(SUM*DX) != \"1.0\":\n",
    "            count+=1\n",
    "        \n",
    "        ## modify histogram with range increment\n",
    "        hist = hist*DX\n",
    "        \n",
    "        ## append values to list\n",
    "        dist.append(hist)\n",
    "        stds.append(std(hist))\n",
    "        dist_maximas.append(max(hist))\n",
    "        bins_maximas.append(bin_mids[argmax(hist)])\n",
    "        mads.append(mad(hist)) \n",
    "        \n",
    "        ## compute median\n",
    "        psd = psd[~(isnan(psd))]\n",
    "        bins_medians.append(median(psd[psd != 0]))\n",
    "\n",
    "    ## undo log conversion    \n",
    "    output = {}\n",
    "    output['dist'] = array(dist)\n",
    "    output['bin_mids'] = 10**array(bin_mids)\n",
    "    output['bins_maximas'] = 10**array(bins_maximas)\n",
    "    output['stds'] = 10**array(stds)\n",
    "    output['mads'] = 10**array(mads)\n",
    "    output['bins_medians'] = 10**array(bins_medians)\n",
    "    output['set_density'] = density\n",
    "    output['total'] = psd_array.shape[0]\n",
    "    \n",
    "    if count > 0:\n",
    "        print(f\" {count} errors found for density computation!!!\")\n",
    "    \n",
    "    return output"
   ]
  },
  {
   "cell_type": "code",
   "execution_count": null,
   "id": "stuffed-furniture",
   "metadata": {
    "ExecuteTime": {
     "end_time": "2022-06-08T17:12:38.484075Z",
     "start_time": "2022-06-08T17:12:33.049Z"
    },
    "code_folding": [
     0
    ]
   },
   "outputs": [],
   "source": [
    "# def __calculate_density(psd_array, bins=20, density=False):\n",
    "\n",
    "#     from numpy import argmax, std, median, isnan, array, histogram\n",
    "\n",
    "#     ## exclude psds with only NaN values\n",
    "#     psds = array([psd for psd in psd_array if not isnan(psd).all()])\n",
    "\n",
    "    \n",
    "#     ## find overall minimum and maxium values\n",
    "#     max_value = max([max(sublist) for sublist in psd_array])\n",
    "#     min_value = min([min(sublist) for sublist in psd_array])\n",
    "#     print(min_value, max_value)\n",
    "\n",
    "#     ## define empty lists\n",
    "#     dist, dist_maximas, bins_maximas, bins_medians, stds, mads = [], [], [], [], [], []\n",
    "    \n",
    "#     for h in range(len(psd_array[1])):\n",
    "        \n",
    "#         psd = psd_array[:,h]\n",
    "        \n",
    "#         hist, bin_edges = histogram(psd, bins=bins, range=(min_value, max_value), density=density);\n",
    "        \n",
    "#         bin_mids = 0.5*(bin_edges[1:] + bin_edges[:-1])\n",
    "        \n",
    "# #         if density:\n",
    "# #             hist = [val / len(psd_array[:,h]) for val in hist]\n",
    "\n",
    "#         ## check if density works\n",
    "#         DX = abs(max_value-min_value)/bins\n",
    "#         SUM = sum(hist)\n",
    "#         if str(SUM*DX) != \"1.0\":\n",
    "#             count+=1\n",
    "        \n",
    "#         ## modify histogram with range increment\n",
    "#         hist = hist*DX\n",
    "        \n",
    "#         ## append values to list\n",
    "#         dist.append(hist)\n",
    "#         stds.append(std(hist))\n",
    "#         dist_maximas.append(max(hist))\n",
    "#         bins_maximas.append(bin_mids[argmax(hist)])\n",
    "#         mads.append(mad(hist)) \n",
    "        \n",
    "#         ## compute median\n",
    "#         psd = psd[~(isnan(psd))]\n",
    "#         bins_medians.append(median(psd[psd != 0]))\n",
    "\n",
    "#     ## undo log conversion    \n",
    "#     output = {}\n",
    "#     output['dist'] = array(dist)\n",
    "#     output['bin_mids'] = 10**array(bin_mids)\n",
    "#     output['bins_maximas'] = 10**array(bins_maximas)\n",
    "#     output['stds'] = 10**array(stds)\n",
    "#     output['mads'] = 10**array(mads)\n",
    "#     output['bins_medians'] = 10**array(bins_medians)\n",
    "#     output['set_density'] = density\n",
    "#     output['total'] = psd_array.shape[0]\n",
    "    \n",
    "#     if count > 0:\n",
    "#         print(f\" {count} errors found for density computation!!!\")\n",
    "    \n",
    "    \n",
    "#     return output"
   ]
  },
  {
   "cell_type": "code",
   "execution_count": null,
   "id": "0b6ec1eb",
   "metadata": {
    "ExecuteTime": {
     "end_time": "2022-06-08T17:12:38.484980Z",
     "start_time": "2022-06-08T17:12:33.051Z"
    }
   },
   "outputs": [],
   "source": [
    "output = __calculate_density(psds, bins=200, density=True)"
   ]
  },
  {
   "cell_type": "code",
   "execution_count": null,
   "id": "a62d8b0c",
   "metadata": {
    "ExecuteTime": {
     "end_time": "2022-06-08T17:12:38.486047Z",
     "start_time": "2022-06-08T17:12:33.052Z"
    },
    "code_folding": [
     0
    ]
   },
   "outputs": [],
   "source": [
    "def __makeplot_PPSD(ff, output, config):\n",
    "\n",
    "    from matplotlib import colors\n",
    "    from numpy import ones, convolve\n",
    "\n",
    "    \n",
    "    def moving_average(x, w):\n",
    "        return convolve(x, ones(w), 'same') / w\n",
    "\n",
    "    \n",
    "    bins, bins_medians, bins_maximas, dist = output['bin_mids'], output['bins_medians'], output['bins_maximas'], output['dist']\n",
    "    \n",
    "    y_axis = 10**bins\n",
    "    x_axis = ff\n",
    "\n",
    "    \n",
    "    \n",
    "    ## plotting\n",
    "    fig = plt.figure(figsize=(13,6))\n",
    "\n",
    "    font=14\n",
    "\n",
    "    cmap = plt.cm.get_cmap('magma_r')\n",
    "    cmap.set_under(color='white')\n",
    "\n",
    "    im = plt.pcolor(x_axis, y_axis, dist.T, \n",
    "                    cmap=cmap,\n",
    "                    vmin=1e-12, \n",
    "#                     norm=colors.LogNorm(), \n",
    "                   )\n",
    "\n",
    "    fs = x_axis[2]-x_axis[1]\n",
    "    \n",
    "    bins_maximas_avg = moving_average(bins_maximas, 5)\n",
    "    \n",
    "    plt.plot(x_axis+fs/2, 10**array(bins_maximas_avg), color='black', alpha=0.5)\n",
    "    plt.plot(x_axis+fs/2, 10**array(bins_medians), color='white', alpha=0.5)\n",
    "    \n",
    "\n",
    "    plt.xscale('log')\n",
    "    plt.yscale('log')\n",
    "\n",
    "#     plt.xlim(config['frequency_limits'][0], config['frequency_limits'][1])\n",
    "#     plt.xlim(min(ff), max(ff))\n",
    "    plt.xlim(0.005, 5)\n",
    "\n",
    "    ## ROMY\n",
    "#     plt.ylim(10**-24, 10**-16)\n",
    "\n",
    "    ##RLAS\n",
    "#     plt.ylim(10**-27, 10**-17)\n",
    "    \n",
    "    caxes = fig.add_axes()\n",
    "\n",
    "    cb = plt.colorbar(im, cax=caxes)\n",
    "    \n",
    "    if output['set_density']:\n",
    "        cb.set_label(\"Propability Density\", fontsize=font)\n",
    "    else:\n",
    "        cb.set_label(\"Counts\", fontsize=font)\n",
    "    \n",
    "    plt.ylabel(r\"PPSD (rad$^2$/s$^2$/$Hz)$\", fontsize=font)\n",
    "    # plt.ylabel(f\"PSD (dB rel. to {round(max_value,3)} V$^2$/Hz )\",fontsize=font)\n",
    "    plt.xlabel(\"Frequency (Hz)\",fontsize=font)\n",
    "    plt.title(f\"PPSD {config['ring']} [{config['date1'].date} - {config['date2'].date}]; total = {output['total']}\",fontsize=font+2)\n",
    "    \n",
    "    plt.tick_params(axis='both', labelsize=font-2)\n",
    "\n",
    "    plt.show();\n",
    "    return fig"
   ]
  },
  {
   "cell_type": "code",
   "execution_count": null,
   "id": "linear-belle",
   "metadata": {
    "ExecuteTime": {
     "end_time": "2022-06-08T17:12:38.487181Z",
     "start_time": "2022-06-08T17:12:33.053Z"
    },
    "code_folding": [],
    "scrolled": true
   },
   "outputs": [],
   "source": [
    "fig = __makeplot_PPSD(ff, output, config)"
   ]
  },
  {
   "cell_type": "code",
   "execution_count": null,
   "id": "56b1d24a",
   "metadata": {
    "ExecuteTime": {
     "end_time": "2022-06-08T17:12:38.488131Z",
     "start_time": "2022-06-08T17:12:33.054Z"
    }
   },
   "outputs": [],
   "source": [
    "output = __calculate_density(psds, bins=100, density=True)"
   ]
  },
  {
   "cell_type": "code",
   "execution_count": null,
   "id": "f7e424cf",
   "metadata": {
    "ExecuteTime": {
     "end_time": "2022-06-08T17:12:38.489310Z",
     "start_time": "2022-06-08T17:12:33.055Z"
    },
    "code_folding": [
     0
    ]
   },
   "outputs": [],
   "source": [
    "def __makeplot_PPSD(ff, output, config, mode=None):\n",
    "\n",
    "    from matplotlib import colors\n",
    "    from numpy import ones, convolve, array, log10, roll, sqrt\n",
    "\n",
    "    bins, bins_medians, bins_maximas, dist = output['bin_mids'], output['bins_medians'], output['bins_maximas'], output['dist']\n",
    "    \n",
    "    if mode is \"DB\":\n",
    "        y_axis = 10*log10(bins)\n",
    "    elif mode is \"PSD\":\n",
    "        y_axis = bins\n",
    "    elif mode is \"ASD\":\n",
    "        y_axis = sqrt(bins)\n",
    "        \n",
    "    x_axis = ff\n",
    "\n",
    "    ## plotting\n",
    "    fig, ax = plt.subplots(1,1,figsize=(13,6))\n",
    "\n",
    "    font=14\n",
    "\n",
    "    cmap = plt.cm.get_cmap('magma_r')\n",
    "#     cmap = plt.cm.get_cmap('gray_r')\n",
    "    cmap.set_under(color='white')\n",
    "\n",
    "    im = plt.pcolor(x_axis, y_axis, dist.T, \n",
    "                    cmap=cmap,\n",
    "                    vmin=1e-12, \n",
    "                    alpha=0.99,\n",
    "                   )\n",
    "\n",
    "    ## add Frequency Axis\n",
    "    g = lambda x: 1/x\n",
    "    ax2 = ax.secondary_xaxis(\"top\", functions=(g,g))\n",
    "    ax2.set_xlabel(\"Frequency in Hz\", fontsize=font, labelpad=5)\n",
    "    ax2.set_xticklabels(1/ff, fontsize=11)    \n",
    "    \n",
    "    \n",
    "    if mode is \"DB\":\n",
    "        plt.plot(x_axis, 10*log10(bins_medians), color='black', alpha=0.5, label=\"RNLM\")\n",
    "        plt.ylim(-200, -80)\n",
    "\n",
    "    elif mode is \"PSD\":\n",
    "        plt.plot(x_axis, bins_medians, color='black', alpha=0.5, label=\"RNLM\")\n",
    "        plt.yscale('log')\n",
    "        plt.ylim(10**-20, 10**-13)\n",
    "  \n",
    "    elif mode is \"ASD\":  \n",
    "        plt.plot(x_axis, sqrt(bins_medians), color='black', alpha=0.5, label=\"RNLM\")\n",
    "        plt.yscale('log')\n",
    "        plt.ylim(10**-10, 2*10**-7)\n",
    "\n",
    "    \n",
    "#     plt.fill_betweenx(range(-270, -140), x1=0, x2=2.5, color=\"grey\", alpha=0.4)\n",
    "#     plt.fill_betweenx(range(-270, -140), x1=200, x2=max(ff), color=\"grey\", alpha=0.4)\n",
    "\n",
    "    ## modify x-axis\n",
    "    plt.xscale('log')\n",
    "    plt.xlim([min(x_axis), max(x_axis)])\n",
    "#     plt.xlim(1, 300)\n",
    "    \n",
    "    ## add colorbar\n",
    "    caxes = fig.add_axes()\n",
    "    cb = plt.colorbar(im, cax=caxes, alpha=1.0)\n",
    "    \n",
    "    if output['set_density']:\n",
    "        cb.set_label(\"Propability Density\", fontsize=font)\n",
    "    else:\n",
    "        cb.set_label(\"Counts\", fontsize=font)\n",
    "        cb.set_label(\"Propability Density\", fontsize=font)\n",
    "    \n",
    "    if mode is \"DB\":\n",
    "#         plt.ylabel(r\"PPSD in dB (rel. to 1 m$^4$/s$^2$/$Hz$)\", fontsize=font)\n",
    "        plt.ylabel(r\"PPSD in dB (rel. to 1 rad$^2$/s$^2$/$Hz$)\", fontsize=font)\n",
    "    elif mode is \"PSD\":\n",
    "#         plt.ylabel(r\"PPSD in m$^4$/s$^2$/$Hz$\", fontsize=font)\n",
    "        plt.ylabel(r\"PPSD in $\\frac{rad^2}{s^2 Hz}$\", fontsize=font)\n",
    "    elif mode is \"ASD\":\n",
    "        plt.ylabel(r\"PASD in $\\frac{rad}{s \\sqrt{Hz}}$\", fontsize=font)\n",
    "        \n",
    "    plt.grid(axis=\"both\", which=\"both\", ls=\"--\", zorder=0)\n",
    "    plt.legend()\n",
    "    \n",
    "    plt.xlabel(\"Period in seconds\", fontsize=font)\n",
    "\n",
    "    plt.tick_params(axis='both', labelsize=font-2)\n",
    "\n",
    "    plt.show();\n",
    "    return fig"
   ]
  },
  {
   "cell_type": "code",
   "execution_count": null,
   "id": "4259d862",
   "metadata": {
    "ExecuteTime": {
     "end_time": "2022-06-08T17:12:38.490260Z",
     "start_time": "2022-06-08T17:12:33.056Z"
    }
   },
   "outputs": [],
   "source": [
    "fig = __makeplot_PPSD(ff, output, config, mode=\"ASD\")"
   ]
  },
  {
   "cell_type": "code",
   "execution_count": null,
   "id": "0fcea102",
   "metadata": {
    "ExecuteTime": {
     "end_time": "2022-05-04T14:08:39.999086Z",
     "start_time": "2022-05-04T14:08:39.995422Z"
    }
   },
   "outputs": [],
   "source": []
  },
  {
   "cell_type": "code",
   "execution_count": null,
   "id": "d1e4c402",
   "metadata": {},
   "outputs": [],
   "source": []
  },
  {
   "cell_type": "code",
   "execution_count": null,
   "id": "7d2d840b",
   "metadata": {},
   "outputs": [],
   "source": []
  }
 ],
 "metadata": {
  "kernelspec": {
   "display_name": "Python 3",
   "language": "python",
   "name": "python3"
  },
  "language_info": {
   "codemirror_mode": {
    "name": "ipython",
    "version": 3
   },
   "file_extension": ".py",
   "mimetype": "text/x-python",
   "name": "python",
   "nbconvert_exporter": "python",
   "pygments_lexer": "ipython3",
   "version": "3.7.7"
  },
  "latex_envs": {
   "LaTeX_envs_menu_present": true,
   "autoclose": false,
   "autocomplete": true,
   "bibliofile": "biblio.bib",
   "cite_by": "apalike",
   "current_citInitial": 1,
   "eqLabelWithNumbers": true,
   "eqNumInitial": 1,
   "hotkeys": {
    "equation": "Ctrl-E",
    "itemize": "Ctrl-I"
   },
   "labels_anchors": false,
   "latex_user_defs": false,
   "report_style_numbering": false,
   "user_envs_cfg": false
  },
  "toc": {
   "base_numbering": 1,
   "nav_menu": {},
   "number_sections": true,
   "sideBar": true,
   "skip_h1_title": false,
   "title_cell": "Table of Contents",
   "title_sidebar": "Contents",
   "toc_cell": false,
   "toc_position": {},
   "toc_section_display": true,
   "toc_window_display": false
  }
 },
 "nbformat": 4,
 "nbformat_minor": 5
}
