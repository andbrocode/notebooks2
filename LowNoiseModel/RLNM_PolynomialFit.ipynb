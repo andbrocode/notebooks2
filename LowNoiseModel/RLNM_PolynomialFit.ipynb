{
 "cells": [
  {
   "cell_type": "markdown",
   "id": "d2fcf9cb",
   "metadata": {
    "ExecuteTime": {
     "end_time": "2022-06-07T13:39:52.113719Z",
     "start_time": "2022-06-07T13:39:52.110027Z"
    }
   },
   "source": [
    "## Polynomial Fit of Rotational Low Noise Model"
   ]
  },
  {
   "cell_type": "code",
   "execution_count": 1,
   "id": "8e1e1e81",
   "metadata": {
    "ExecuteTime": {
     "end_time": "2022-06-07T13:45:27.255723Z",
     "start_time": "2022-06-07T13:45:26.881911Z"
    }
   },
   "outputs": [],
   "source": [
    "import numpy as np\n",
    "import matplotlib.pyplot as plt\n",
    "import pandas as pd"
   ]
  },
  {
   "cell_type": "markdown",
   "id": "1c656846",
   "metadata": {
    "ExecuteTime": {
     "end_time": "2022-06-07T13:43:36.352141Z",
     "start_time": "2022-06-07T13:43:36.348419Z"
    }
   },
   "source": [
    "## Load Data"
   ]
  },
  {
   "cell_type": "code",
   "execution_count": 2,
   "id": "e68ff087",
   "metadata": {
    "ExecuteTime": {
     "end_time": "2022-06-07T13:45:27.292533Z",
     "start_time": "2022-06-07T13:45:27.257514Z"
    }
   },
   "outputs": [
    {
     "data": {
      "text/html": [
       "<div>\n",
       "<style scoped>\n",
       "    .dataframe tbody tr th:only-of-type {\n",
       "        vertical-align: middle;\n",
       "    }\n",
       "\n",
       "    .dataframe tbody tr th {\n",
       "        vertical-align: top;\n",
       "    }\n",
       "\n",
       "    .dataframe thead th {\n",
       "        text-align: right;\n",
       "    }\n",
       "</style>\n",
       "<table border=\"1\" class=\"dataframe\">\n",
       "  <thead>\n",
       "    <tr style=\"text-align: right;\">\n",
       "      <th></th>\n",
       "      <th>Unnamed: 0</th>\n",
       "      <th>period</th>\n",
       "      <th>rlnm_psd_median</th>\n",
       "      <th>rlnm_psd_maximum</th>\n",
       "      <th>rlnm_psd_upper</th>\n",
       "      <th>rlnm_psd_lower</th>\n",
       "    </tr>\n",
       "  </thead>\n",
       "  <tbody>\n",
       "    <tr>\n",
       "      <th>0</th>\n",
       "      <td>0</td>\n",
       "      <td>199.52600</td>\n",
       "      <td>1.249680e-26</td>\n",
       "      <td>1.253644e-26</td>\n",
       "      <td>1.233495e-26</td>\n",
       "      <td>1.266186e-26</td>\n",
       "    </tr>\n",
       "    <tr>\n",
       "      <th>1</th>\n",
       "      <td>1</td>\n",
       "      <td>196.78900</td>\n",
       "      <td>1.272067e-26</td>\n",
       "      <td>1.274470e-26</td>\n",
       "      <td>1.255268e-26</td>\n",
       "      <td>1.289206e-26</td>\n",
       "    </tr>\n",
       "    <tr>\n",
       "      <th>2</th>\n",
       "      <td>2</td>\n",
       "      <td>194.08900</td>\n",
       "      <td>1.294465e-26</td>\n",
       "      <td>1.295262e-26</td>\n",
       "      <td>1.277043e-26</td>\n",
       "      <td>1.312246e-26</td>\n",
       "    </tr>\n",
       "    <tr>\n",
       "      <th>3</th>\n",
       "      <td>3</td>\n",
       "      <td>191.42600</td>\n",
       "      <td>1.317465e-26</td>\n",
       "      <td>1.316614e-26</td>\n",
       "      <td>1.299403e-26</td>\n",
       "      <td>1.335907e-26</td>\n",
       "    </tr>\n",
       "    <tr>\n",
       "      <th>4</th>\n",
       "      <td>4</td>\n",
       "      <td>188.79900</td>\n",
       "      <td>1.340550e-26</td>\n",
       "      <td>1.338236e-26</td>\n",
       "      <td>1.321822e-26</td>\n",
       "      <td>1.359678e-26</td>\n",
       "    </tr>\n",
       "    <tr>\n",
       "      <th>...</th>\n",
       "      <td>...</td>\n",
       "      <td>...</td>\n",
       "      <td>...</td>\n",
       "      <td>...</td>\n",
       "      <td>...</td>\n",
       "      <td>...</td>\n",
       "    </tr>\n",
       "    <tr>\n",
       "      <th>378</th>\n",
       "      <td>378</td>\n",
       "      <td>1.07647</td>\n",
       "      <td>3.444770e-24</td>\n",
       "      <td>2.784894e-24</td>\n",
       "      <td>2.536676e-24</td>\n",
       "      <td>4.944551e-24</td>\n",
       "    </tr>\n",
       "    <tr>\n",
       "      <th>379</th>\n",
       "      <td>379</td>\n",
       "      <td>1.06170</td>\n",
       "      <td>3.310696e-24</td>\n",
       "      <td>2.675523e-24</td>\n",
       "      <td>2.436666e-24</td>\n",
       "      <td>4.755589e-24</td>\n",
       "    </tr>\n",
       "    <tr>\n",
       "      <th>380</th>\n",
       "      <td>380</td>\n",
       "      <td>1.04713</td>\n",
       "      <td>3.182557e-24</td>\n",
       "      <td>2.571039e-24</td>\n",
       "      <td>2.341144e-24</td>\n",
       "      <td>4.574836e-24</td>\n",
       "    </tr>\n",
       "    <tr>\n",
       "      <th>381</th>\n",
       "      <td>381</td>\n",
       "      <td>1.03276</td>\n",
       "      <td>3.059363e-24</td>\n",
       "      <td>2.470635e-24</td>\n",
       "      <td>2.249371e-24</td>\n",
       "      <td>4.400890e-24</td>\n",
       "    </tr>\n",
       "    <tr>\n",
       "      <th>382</th>\n",
       "      <td>382</td>\n",
       "      <td>1.01859</td>\n",
       "      <td>2.940246e-24</td>\n",
       "      <td>2.373606e-24</td>\n",
       "      <td>2.160702e-24</td>\n",
       "      <td>4.232523e-24</td>\n",
       "    </tr>\n",
       "  </tbody>\n",
       "</table>\n",
       "<p>383 rows × 6 columns</p>\n",
       "</div>"
      ],
      "text/plain": [
       "     Unnamed: 0     period  rlnm_psd_median  rlnm_psd_maximum  rlnm_psd_upper  \\\n",
       "0             0  199.52600     1.249680e-26      1.253644e-26    1.233495e-26   \n",
       "1             1  196.78900     1.272067e-26      1.274470e-26    1.255268e-26   \n",
       "2             2  194.08900     1.294465e-26      1.295262e-26    1.277043e-26   \n",
       "3             3  191.42600     1.317465e-26      1.316614e-26    1.299403e-26   \n",
       "4             4  188.79900     1.340550e-26      1.338236e-26    1.321822e-26   \n",
       "..          ...        ...              ...               ...             ...   \n",
       "378         378    1.07647     3.444770e-24      2.784894e-24    2.536676e-24   \n",
       "379         379    1.06170     3.310696e-24      2.675523e-24    2.436666e-24   \n",
       "380         380    1.04713     3.182557e-24      2.571039e-24    2.341144e-24   \n",
       "381         381    1.03276     3.059363e-24      2.470635e-24    2.249371e-24   \n",
       "382         382    1.01859     2.940246e-24      2.373606e-24    2.160702e-24   \n",
       "\n",
       "     rlnm_psd_lower  \n",
       "0      1.266186e-26  \n",
       "1      1.289206e-26  \n",
       "2      1.312246e-26  \n",
       "3      1.335907e-26  \n",
       "4      1.359678e-26  \n",
       "..              ...  \n",
       "378    4.944551e-24  \n",
       "379    4.755589e-24  \n",
       "380    4.574836e-24  \n",
       "381    4.400890e-24  \n",
       "382    4.232523e-24  \n",
       "\n",
       "[383 rows x 6 columns]"
      ]
     },
     "execution_count": 2,
     "metadata": {},
     "output_type": "execute_result"
    }
   ],
   "source": [
    "path = \"/home/andbro/kilauea-data/LNM/data/MODELS/\"\n",
    "file = \"rlnm_theory.pkl\"\n",
    "\n",
    "model = pd.read_pickle(open(path+file, \"rb\"))\n",
    "model"
   ]
  },
  {
   "cell_type": "markdown",
   "id": "d35be8a8",
   "metadata": {
    "ExecuteTime": {
     "end_time": "2022-06-07T13:43:48.152217Z",
     "start_time": "2022-06-07T13:43:48.148762Z"
    }
   },
   "source": [
    "## Compute Polynomial"
   ]
  },
  {
   "cell_type": "code",
   "execution_count": 3,
   "id": "fd31d17c",
   "metadata": {
    "ExecuteTime": {
     "end_time": "2022-06-07T13:45:27.303367Z",
     "start_time": "2022-06-07T13:45:27.294503Z"
    }
   },
   "outputs": [
    {
     "name": "stderr",
     "output_type": "stream",
     "text": [
      "/home/andbro/anaconda3/envs/obs/lib/python3.7/site-packages/IPython/core/interactiveshell.py:3441: RankWarning: Polyfit may be poorly conditioned\n",
      "  exec(code_obj, self.user_global_ns, self.user_ns)\n"
     ]
    }
   ],
   "source": [
    "## define degrees for polynomial\n",
    "degrees = 20 \n",
    "\n",
    "## compute coefficients\n",
    "coefficients = np.polyfit(np.log10(model['period']), np.log10(model['rlnm_psd_median']), degrees, rcond=None, full=False, w=None, cov=False)\n",
    "\n",
    "## generate polynomial function\n",
    "model_poly = np.poly1d(coefficients)\n",
    "\n",
    "## adjust for logaritmic periods\n",
    "poly_rlnm = 10**model_poly(np.log10(model['period']))"
   ]
  },
  {
   "cell_type": "markdown",
   "id": "fddb19d6",
   "metadata": {},
   "source": [
    "## Plotting"
   ]
  },
  {
   "cell_type": "code",
   "execution_count": 4,
   "id": "52e1602e",
   "metadata": {
    "ExecuteTime": {
     "end_time": "2022-06-07T13:45:27.980194Z",
     "start_time": "2022-06-07T13:45:27.305037Z"
    }
   },
   "outputs": [
    {
     "data": {
      "image/png": "[encoded data removed]",
      "text/plain": [
       "<Figure size 864x576 with 1 Axes>"
      ]
     },
     "metadata": {
      "needs_background": "light"
     },
     "output_type": "display_data"
    }
   ],
   "source": [
    "plt.figure(figsize=(12,8))\n",
    "\n",
    "plt.loglog(model['period'], model['rlnm_psd_median'], label=\"model\")\n",
    "plt.loglog(model['period'], poly_rlnm, label=\"fit\")\n",
    "\n",
    "plt.legend()\n",
    "plt.xlabel(\"Period (s)\", fontsize=13)\n",
    "plt.ylabel(\"PSD (rad^2/s^2/Hz)\", fontsize=13)\n",
    "\n",
    "plt.show();"
   ]
  },
  {
   "cell_type": "markdown",
   "id": "808c5053",
   "metadata": {},
   "source": [
    "## Storing"
   ]
  },
  {
   "cell_type": "code",
   "execution_count": 5,
   "id": "68a184b6",
   "metadata": {
    "ExecuteTime": {
     "end_time": "2022-06-07T13:45:28.189622Z",
     "start_time": "2022-06-07T13:45:27.981388Z"
    }
   },
   "outputs": [],
   "source": [
    "## define dictionary with information\n",
    "out = {}\n",
    "\n",
    "out['periods'] = model['period']\n",
    "out['degrees'] = degrees\n",
    "out['rlnm_poly'] = poly_rlnm\n",
    "out['coefficients'] = coefficients\n",
    "\n",
    "## store dictionary as pickle file\n",
    "pd.to_pickle(out, path+\"rlnm_median_polyfit.pkl\")"
   ]
  },
  {
   "cell_type": "code",
   "execution_count": null,
   "id": "8a51254f",
   "metadata": {},
   "outputs": [],
   "source": []
  }
 ],
 "metadata": {
  "kernelspec": {
   "display_name": "Python 3",
   "language": "python",
   "name": "python3"
  },
  "language_info": {
   "codemirror_mode": {
    "name": "ipython",
    "version": 3
   },
   "file_extension": ".py",
   "mimetype": "text/x-python",
   "name": "python",
   "nbconvert_exporter": "python",
   "pygments_lexer": "ipython3",
   "version": "3.7.8"
  },
  "latex_envs": {
   "LaTeX_envs_menu_present": true,
   "autoclose": false,
   "autocomplete": true,
   "bibliofile": "biblio.bib",
   "cite_by": "apalike",
   "current_citInitial": 1,
   "eqLabelWithNumbers": true,
   "eqNumInitial": 1,
   "hotkeys": {
    "equation": "Ctrl-E",
    "itemize": "Ctrl-I"
   },
   "labels_anchors": false,
   "latex_user_defs": false,
   "report_style_numbering": false,
   "user_envs_cfg": false
  },
  "toc": {
   "base_numbering": 1,
   "nav_menu": {},
   "number_sections": true,
   "sideBar": true,
   "skip_h1_title": false,
   "title_cell": "Table of Contents",
   "title_sidebar": "Contents",
   "toc_cell": false,
   "toc_position": {},
   "toc_section_display": true,
   "toc_window_display": false
  }
 },
 "nbformat": 4,
 "nbformat_minor": 5
}
