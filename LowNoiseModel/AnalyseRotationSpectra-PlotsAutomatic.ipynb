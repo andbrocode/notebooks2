{
 "cells": [
  {
   "cell_type": "markdown",
   "id": "eda030d3",
   "metadata": {},
   "source": [
    "# Analyse Rotation Spectra - Plots"
   ]
  },
  {
   "cell_type": "markdown",
   "id": "protected-presentation",
   "metadata": {},
   "source": [
    "## Load Libraries"
   ]
  },
  {
   "cell_type": "code",
   "execution_count": 2,
   "id": "behind-arrangement",
   "metadata": {
    "ExecuteTime": {
     "end_time": "2022-06-08T16:26:16.046483Z",
     "start_time": "2022-06-08T16:26:14.085577Z"
    }
   },
   "outputs": [],
   "source": [
    "from andbro__querrySeismoData import __querrySeismoData\n",
    "from obspy import UTCDateTime\n",
    "from scipy.signal import welch\n",
    "from numpy import log10, zeros, pi, append, linspace, mean, median, array, where, transpose, shape, histogram, arange\n",
    "from numpy import logspace, linspace, log, log10, isinf, ones, nan, count_nonzero, sqrt, isnan, interp, load\n",
    "from pandas import DataFrame, concat, Series, date_range, read_csv, read_pickle\n",
    "from tqdm import tqdm_notebook\n",
    "from pathlib import Path\n",
    "from scipy.stats import median_absolute_deviation as mad\n",
    "\n",
    "import pickle\n",
    "import matplotlib.pyplot as plt\n",
    "import os"
   ]
  },
  {
   "cell_type": "code",
   "execution_count": null,
   "id": "8f6bfdda",
   "metadata": {
    "ExecuteTime": {
     "end_time": "2022-06-03T12:24:20.820492Z",
     "start_time": "2022-06-03T12:24:20.817590Z"
    }
   },
   "outputs": [],
   "source": [
    "host = os.uname()[1]\n",
    "if host == \"kilauea\":\n",
    "    homepath = \"/import/kilauea-data/\"\n",
    "    out_figs = \"/home/brotzer/Documents/ROMY/LowNoiseModel/figures/local_comparison/\"\n",
    "elif host == \"lighthouse\":\n",
    "    homepath = \"/home/andbro/kilauea-data/\"\n",
    "    out_figs = \"/home/andbro/Documents/ROMY/LowNoiseModel/figures/local_comparison/\""
   ]
  },
  {
   "cell_type": "code",
   "execution_count": null,
   "id": "b86aa31f",
   "metadata": {
    "ExecuteTime": {
     "end_time": "2022-06-03T12:24:20.834430Z",
     "start_time": "2022-06-03T12:24:20.822414Z"
    }
   },
   "outputs": [],
   "source": [
    "# !ls f\"/import/kilauea-data/ROMY/RotationSpectra/data\""
   ]
  },
  {
   "cell_type": "markdown",
   "id": "subject-expression",
   "metadata": {},
   "source": [
    "## Configurations"
   ]
  },
  {
   "cell_type": "code",
   "execution_count": null,
   "id": "e89d22a7",
   "metadata": {
    "ExecuteTime": {
     "end_time": "2022-06-03T12:24:20.845773Z",
     "start_time": "2022-06-03T12:24:20.835419Z"
    }
   },
   "outputs": [],
   "source": [
    "config = {}\n",
    "\n",
    "config['frequency_limits'] = [0.0001, 1]"
   ]
  },
  {
   "cell_type": "markdown",
   "id": "natural-beginning",
   "metadata": {},
   "source": [
    "## Looping "
   ]
  },
  {
   "cell_type": "code",
   "execution_count": null,
   "id": "e4858b93",
   "metadata": {
    "ExecuteTime": {
     "end_time": "2022-06-03T12:24:20.857910Z",
     "start_time": "2022-06-03T12:24:20.846803Z"
    },
    "code_folding": [
     0
    ]
   },
   "outputs": [],
   "source": [
    "def __get_minimal_psd(psds):\n",
    "\n",
    "    from numpy import nanmin, array, nonzero\n",
    "    \n",
    "    min_psd = zeros(psds.shape[1])\n",
    "    \n",
    "    for f in range(psds.shape[1]):\n",
    "        a = psds[:,f]\n",
    "        min_psd[f] = nanmin(a[nonzero(a)])\n",
    "    \n",
    "    return min_psd"
   ]
  },
  {
   "cell_type": "code",
   "execution_count": null,
   "id": "af6a3772",
   "metadata": {
    "ExecuteTime": {
     "end_time": "2022-06-03T12:24:20.899991Z",
     "start_time": "2022-06-03T12:24:20.858944Z"
    },
    "code_folding": [
     0
    ]
   },
   "outputs": [],
   "source": [
    "def __get_minimum_psd(psds, f_tmp):\n",
    "    \n",
    "    from numpy import median\n",
    "    \n",
    "    f_before = f_tmp[0]\n",
    "    f_tmp[0] = 1e-9\n",
    "    \n",
    "    for i, psd in enumerate(psds):\n",
    "        if i == 0: \n",
    "            lowest_value = (psds[0]/f_tmp).sum()\n",
    "#             lowest_value = median(psds[0]/f_tmp)\n",
    "            idx = 0\n",
    "\n",
    "        value = (psd/f_tmp).sum() \n",
    "#         value = median(psd/f_tmp)\n",
    "        \n",
    "        if value < lowest_value and value != 0:\n",
    "            lowest_value = value\n",
    "            idx = i\n",
    "\n",
    "    f_tmp[0] = f_before      \n",
    "    \n",
    "    return psds[idx]"
   ]
  },
  {
   "cell_type": "code",
   "execution_count": null,
   "id": "d4ffd698",
   "metadata": {
    "ExecuteTime": {
     "end_time": "2022-06-03T12:24:20.912140Z",
     "start_time": "2022-06-03T12:24:20.901022Z"
    },
    "code_folding": [
     0
    ]
   },
   "outputs": [],
   "source": [
    "def __get_array_from_dataframe(df):\n",
    "    \n",
    "    from pandas import to_numeric\n",
    "    \n",
    "    ## convert to list\n",
    "    psds = []\n",
    "    for col in array(df.columns):\n",
    "        \n",
    "        ## turn non-float series to float objects\n",
    "        df[col] = to_numeric(df[col], errors = 'coerce')\n",
    "\n",
    "        ## add to psds list\n",
    "        psds.append(array(df[col]))\n",
    "\n",
    "    return array(psds)"
   ]
  },
  {
   "cell_type": "markdown",
   "id": "85e68801",
   "metadata": {
    "ExecuteTime": {
     "end_time": "2022-06-01T15:14:20.804921Z",
     "start_time": "2022-06-01T15:14:20.803049Z"
    }
   },
   "source": [
    "## Get Data"
   ]
  },
  {
   "cell_type": "code",
   "execution_count": null,
   "id": "b62d54f9",
   "metadata": {
    "ExecuteTime": {
     "end_time": "2022-06-03T12:24:20.944956Z",
     "start_time": "2022-06-03T12:24:20.914302Z"
    }
   },
   "outputs": [],
   "source": [
    "inname = \"run_2019_ROMY-Z_3600\"\n",
    "inpath = f\"{homepath}ROMY/RotationSpectra/data/{inname}/\"\n",
    "\n",
    "file = f\"{inpath}{inname}_daily_medians.pkl\"\n",
    "print(f\" -> loading \\n {file} ...\")\n",
    "psds_romy = read_pickle(file)\n",
    "\n",
    "## load frequencies\n",
    "ff = pickle.load(open(f\"{inpath}{inname}_frequency_axis.pkl\", 'rb'))"
   ]
  },
  {
   "cell_type": "code",
   "execution_count": null,
   "id": "355de224",
   "metadata": {
    "ExecuteTime": {
     "end_time": "2022-06-03T12:24:20.966152Z",
     "start_time": "2022-06-03T12:24:20.946000Z"
    }
   },
   "outputs": [],
   "source": [
    "inname = \"run_2019_RLAS-Z_3600\"\n",
    "inpath = f\"{homepath}ROMY/RotationSpectra/data/{inname}/\"\n",
    "\n",
    "file = f\"{inpath}{inname}_daily_medians.pkl\"\n",
    "print(f\" -> loading \\n {file} ...\")\n",
    "psds_rlas = read_pickle(file)\n"
   ]
  },
  {
   "cell_type": "code",
   "execution_count": null,
   "id": "ae6d968e",
   "metadata": {
    "ExecuteTime": {
     "end_time": "2022-06-03T12:24:20.974336Z",
     "start_time": "2022-06-03T12:24:20.967036Z"
    }
   },
   "outputs": [],
   "source": [
    "inname = \"run_2019_WET-Z_3600\"\n",
    "inpath = f\"{homepath}ROMY/RotationSpectra/data/{inname}/\"\n",
    "\n",
    "file = f\"{inpath}{inname}_daily_medians.pkl\"\n",
    "print(f\" -> loading \\n {file} ...\")\n",
    "psds_wet = read_pickle(file)\n"
   ]
  },
  {
   "cell_type": "code",
   "execution_count": null,
   "id": "f72db6b8",
   "metadata": {
    "ExecuteTime": {
     "end_time": "2022-06-03T12:24:20.986919Z",
     "start_time": "2022-06-03T12:24:20.975369Z"
    }
   },
   "outputs": [],
   "source": [
    "inname = \"run_2019_FUR-Z_3600\"\n",
    "inpath = f\"{homepath}ROMY/RotationSpectra/data/{inname}/\"\n",
    "\n",
    "file = f\"{inpath}{inname}_daily_medians.pkl\"\n",
    "print(f\" -> loading \\n {file} ...\")\n",
    "psds_fur = read_pickle(file)\n"
   ]
  },
  {
   "cell_type": "code",
   "execution_count": null,
   "id": "97dcb9a1",
   "metadata": {
    "ExecuteTime": {
     "end_time": "2022-06-03T12:24:20.995017Z",
     "start_time": "2022-06-03T12:24:20.987949Z"
    }
   },
   "outputs": [],
   "source": [
    "rlnm = read_csv(f\"{homepath}LNM/data/MODELS/\"+\"rlnm_theory.csv\")\n",
    "rlnm_periods = rlnm['period']\n",
    "rlnm_psd = rlnm['rlnm_psd_median']"
   ]
  },
  {
   "cell_type": "code",
   "execution_count": null,
   "id": "99f36340",
   "metadata": {
    "ExecuteTime": {
     "end_time": "2022-06-03T12:24:22.265717Z",
     "start_time": "2022-06-03T12:24:20.995990Z"
    }
   },
   "outputs": [],
   "source": [
    "tmp = load(f\"{homepath}LNM/data/MODELS/\"+\"noise_models.npz\")\n",
    "nm_periods, nlnm, nhnm = tmp['model_periods'], tmp['low_noise'], tmp['high_noise']; del tmp\n",
    "\n",
    "nlnm_psd = 10**(nlnm/10)\n",
    "nhnm_psd = 10**(nhnm/10)\n",
    "\n",
    "plt.figure(figsize=(15,5))\n",
    "\n",
    "plt.loglog(1/ff, psds_fur)\n",
    "plt.loglog(nm_periods, nlnm_psd, ls=\"--\", color=\"black\")\n",
    "plt.loglog(nm_periods, nhnm_psd, ls=\"--\", color=\"black\")\n",
    "\n",
    "\n",
    "plt.xlim(1,200)\n",
    "plt.ylim(1e-19, 1e-10)\n",
    "plt.show();"
   ]
  },
  {
   "cell_type": "markdown",
   "id": "37769f33",
   "metadata": {},
   "source": [
    "### Get Velocity profiels FUR & WET"
   ]
  },
  {
   "cell_type": "code",
   "execution_count": null,
   "id": "688824ea",
   "metadata": {
    "ExecuteTime": {
     "end_time": "2022-06-03T12:24:22.549158Z",
     "start_time": "2022-06-03T12:24:22.266771Z"
    }
   },
   "outputs": [],
   "source": [
    "with open(f\"{homepath}LNM/data/PHASE_VELOCITY_MODEL/\"+\"fur_wet_rayleigh.pkl\",'rb') as f:\n",
    "    vv_fur_wet = pickle.load(f)\n",
    "\n",
    "vv_fur_interp = interp(1/ff, vv_fur_wet['periods'] , vv_fur_wet['vv_fur']) * 1000 ## convert to m/s\n",
    "vv_wet_interp = interp(1/ff, vv_fur_wet['periods'] , vv_fur_wet['vv_wet']) * 1000 ## convert to m/s\n",
    "\n",
    "\n",
    "plt.figure(figsize=(15,5))\n",
    "plt.semilogx(vv_fur_wet['periods'] , vv_fur_wet['vv_fur'] * 1000)\n",
    "plt.semilogx(vv_fur_wet['periods'] , vv_fur_wet['vv_wet'] * 1000)\n",
    "\n",
    "plt.semilogx(1/ff, vv_fur_interp)\n",
    "plt.semilogx(1/ff, vv_wet_interp)\n",
    "\n",
    "# rfur = psds_fur[day.replace(\"-\",\"\")] / vv_fur_interp\n",
    "# rwet = psds_wet[day.replace(\"-\",\"\")] / vv_wet_interp"
   ]
  },
  {
   "cell_type": "markdown",
   "id": "f596a81e",
   "metadata": {},
   "source": [
    "## Create Automatic Plots"
   ]
  },
  {
   "cell_type": "code",
   "execution_count": null,
   "id": "8518ec2a",
   "metadata": {
    "ExecuteTime": {
     "end_time": "2022-06-03T12:24:22.557340Z",
     "start_time": "2022-06-03T12:24:22.550101Z"
    },
    "code_folding": [
     0
    ]
   },
   "outputs": [],
   "source": [
    "def __plot_rlnm_overview():\n",
    "    \n",
    "    import numpy as np\n",
    "    \n",
    "    font = 14\n",
    "\n",
    "    fig, ax = plt.subplots(1,1,figsize=(15,8))\n",
    "\n",
    "    ## add Frequency Axis\n",
    "    g = lambda x: 1/x\n",
    "    ax2 = ax.secondary_xaxis(\"top\", functions=(g,g))\n",
    "    ax2.set_xlabel(\"Frequency in Hz\", fontsize=font, labelpad=5)\n",
    "    ax2.set_xticklabels(1/periods, fontsize=11)\n",
    "    \n",
    "    ## single stations model\n",
    "#     plt.plot(ssm_period, ssm_psd, color=\"purple\", zorder=2, label=\"Single-Stations Model\")\n",
    "        \n",
    "\n",
    "    ## PFO data\n",
    "#     plt.plot(1/PFO_N['frequencies'], PFO_N_median_psd, color=\"darkgreen\", zorder=2, label=\"PFO ADR-N\")\n",
    "#     plt.plot(1/PFO_E['frequencies'], PFO_E_median_psd, color=\"yellowgreen\", zorder=2, label=\"PFO ADR-E\")\n",
    "#     plt.plot(1/PFO_Z['frequencies'], PFO_Z_median_psd, color=\"olive\", zorder=2, label=\"PFO ADR-Z\")\n",
    "        \n",
    "    ## romy data\n",
    "    plt.plot(periods, romyz, color=\"orange\", zorder=2, label=\"ROMY-Z\")\n",
    "\n",
    "    \n",
    "    plt.plot(periods, rfur, color=\"darkred\", zorder=2, label=\"FUR-R\")\n",
    "    plt.plot(periods, rwet, color=\"purple\", zorder=2, label=\"WET-R\")\n",
    "\n",
    "    \n",
    "    # romy data\n",
    "#     plt.plot(romy_2022['frequencies'], romy_2022_median_psd, color=\"pink\", zorder=2, label=\"ROMY-Z 2022\")\n",
    "\n",
    "    ## romy zne data\n",
    "#     plt.plot(1/romy_zne['frequencies'], romy_zne['n_psd'], color=\"brown\", zorder=2, label=\"ROMY-N\")\n",
    "#     plt.plot(1/romy_zne['frequencies'], romy_zne['e_psd'], color=\"chocolate\", zorder=2, label=\"ROMY-E\")\n",
    "\n",
    "    ## rlas data\n",
    "    plt.plot(periods[1:], rlasz[1:], color=\"blue\", zorder=2, label=\"RLAS\")\n",
    "\n",
    "    ## theoretical rlnm\n",
    "    plt.plot(rlnm_periods[1:], rlnm_psd[1:], color=\"black\", zorder=2, lw=2, label=\"RLNM\")\n",
    "\n",
    "\n",
    "#     y_axis = 10**(output['bin_mids']/10)\n",
    "#     x_axis = output['period']\n",
    "\n",
    "    ## plotting\n",
    "\n",
    "#     cmap = plt.cm.get_cmap('magma_r')\n",
    "# #     cmap = plt.cm.get_cmap('gray_r')\n",
    "#     cmap.set_under(color='white')\n",
    "\n",
    "#     im = plt.pcolor(x_axis, y_axis, output['dist'].T, \n",
    "#                     cmap=cmap,\n",
    "#                     vmin=1e-12, \n",
    "#                     alpha=0.99,\n",
    "#                    )\n",
    "    \n",
    "    ## add medians \n",
    "#     medians = 10**(output['bins_medians']/10)\n",
    "# #     plt.plot(output['period'], medians, color=\"black\", zorder=2, lw=0.5, alpha=0.8, ls=\":\", label=\"median\")\n",
    "    \n",
    "#     ## add minimas \n",
    "#     minimas = 10**(output['bins_minimum']/10)\n",
    "#     plt.plot(output['period'], minimas, color=\"black\", zorder=2, lw=1.5, alpha=0.8, label=\"RLNM\")\n",
    "    \n",
    "    \n",
    "#     ## add colorbar\n",
    "#     caxes = fig.add_axes()\n",
    "#     cb = plt.colorbar(im, cax=caxes, alpha=1.0)\n",
    "#     cb.set_label(\"Propability Density\", fontsize=font)\n",
    "    \n",
    "    \n",
    "    plt.xscale(\"log\")\n",
    "    plt.yscale(\"log\")\n",
    "\n",
    "    plt.xlim(1, 300)\n",
    "\n",
    "    ymin, ymax = 1e-26, 2e-18\n",
    "    plt.ylim(ymin, ymax)\n",
    "   \n",
    "    plt.fill_betweenx(np.linspace(ymin,ymax,5), x1=0, x2=2.5, color=\"lightgrey\", alpha=0.4, zorder=2)\n",
    "    plt.fill_betweenx(np.linspace(ymin-10,ymax+10,5), x1=100, x2=300, color=\"lightgrey\", alpha=0.4, zorder=2)\n",
    "\n",
    "\n",
    "    plt.grid(axis=\"both\", which=\"both\", ls=\"--\", zorder=0)\n",
    "    plt.legend()\n",
    "\n",
    "    plt.xlabel(\"Period in seconds\", fontsize=font)\n",
    "    plt.ylabel(r\"PSD in $\\frac{rad^2}{s^2 Hz}$\",fontsize=font)\n",
    "\n",
    "    plt.text(4e1, 5e-18, date, fontsize=font, bbox=dict(facecolor='white', alpha=0.3))\n",
    "    \n",
    "    plt.show();\n",
    "    return fig "
   ]
  },
  {
   "cell_type": "code",
   "execution_count": null,
   "id": "fb9f281e",
   "metadata": {
    "ExecuteTime": {
     "end_time": "2022-06-03T12:25:52.176227Z",
     "start_time": "2022-06-03T12:24:22.558247Z"
    }
   },
   "outputs": [],
   "source": [
    "dates = date_range(start=\"2019-07-01\", end=\"2019-08-31\")\n",
    "dates = [str(dd).split(\" \")[0].replace(\"-\",\"\") for dd in dates]\n",
    "\n",
    "periods = zeros(len(ff))\n",
    "periods[:-1] = 1/ff[1:]\n",
    "\n",
    "for date in dates: \n",
    "    \n",
    "    if date in psds_rlas.columns and date in psds_romy.columns and date in psds_wet.columns and date in psds_fur.columns: \n",
    "        print(date)\n",
    "        \n",
    "        romyz = psds_romy[date]\n",
    "        rlasz = psds_rlas[date]\n",
    "        \n",
    "        rfur = (sqrt(psds_fur[date]) / vv_fur_interp)**2\n",
    "        rwet = (sqrt(psds_wet[date]) / vv_wet_interp)**2\n",
    "\n",
    "        fig = __plot_rlnm_overview()\n",
    "        \n",
    "        fig.savefig(f\"{out_figs}{date}.png\")\n"
   ]
  },
  {
   "cell_type": "markdown",
   "id": "086fd5d0",
   "metadata": {},
   "source": [
    "## Plotting"
   ]
  },
  {
   "cell_type": "code",
   "execution_count": null,
   "id": "ce64c931",
   "metadata": {
    "ExecuteTime": {
     "end_time": "2022-06-03T12:25:52.179319Z",
     "start_time": "2022-06-03T12:25:52.177202Z"
    },
    "code_folding": [
     0
    ]
   },
   "outputs": [],
   "source": [
    "# def __makeplot_colorlines(config, ff, psds, columns):\n",
    "\n",
    "#     from numpy import isnan, median, mean, std, array\n",
    "#     from scipy.stats import median_abs_deviation as mad\n",
    "\n",
    "#     psds_median, psds_mean, psds_std, psds_mad = [],[],[],[]\n",
    "#     for fcross in range(psds.shape[1]):\n",
    "#         data = psds[:,fcross]\n",
    "#         psds_median.append(median(data[~isnan(data)]))\n",
    "#         psds_mean.append(mean(data[~isnan(data)]))\n",
    "#         psds_std.append(std(data[~isnan(data)]))\n",
    "#         psds_mad.append(mad(data[~isnan(data)]))\n",
    "\n",
    "#     psds_minimal = __get_minimal_psd(array(psds))\n",
    "# #     psds_minimum = __get_minimum_psd(array(psds), ff)\n",
    "\n",
    "\n",
    "#     ff = 1/ff\n",
    "\n",
    "#     ##____________________________\n",
    "\n",
    "#     fig, ax = plt.subplots(1,1, figsize=(15,10), sharey=False, sharex=True)\n",
    "\n",
    "#     font = 12\n",
    "\n",
    "#     N = psds.shape[0]\n",
    "#     colors = plt.cm.rainbow(linspace(0, 1, N))\n",
    "\n",
    "\n",
    "#     for n, psd in enumerate(psds):\n",
    "#         ax.loglog(ff, psd, color=colors[n], alpha=0.7)\n",
    "\n",
    "\n",
    "#     ## add scatter for colorbar object only\n",
    "#     for n, psd in enumerate(psds):\n",
    "#         p2 = ax.scatter(ff[0], psd[0], s=0., c=n, cmap='rainbow', vmin=0, vmax=N)\n",
    "\n",
    "\n",
    "#     ax.loglog(ff, psds_median, 'black', zorder=3, alpha=0.9)\n",
    "# #     ax.loglog(ff, psds_mean, 'black', zorder=3, alpha=0.9)\n",
    "\n",
    "\n",
    "#     ax.loglog(ff, psds_minimal, 'grey', zorder=2, alpha=1.0)\n",
    "# #     ax.loglog(ff, psds_minimum, 'k', zorder=2, alpha=0.8)\n",
    "\n",
    "\n",
    "# #     ax.set_title(\"Minimal PSD\", fontsize=font)\n",
    "# #     ax.set_title(\"Minimum PSD\", fontsize=font)\n",
    "\n",
    "#     ax.set_xlabel(\"Period (s)\", fontsize=font)\n",
    "\n",
    "#     ax.set_ylabel(r\"PSD (rad$^2$/s$^2$/$Hz)$\", fontsize=font)\n",
    "\n",
    "#     ax.grid(True, which=\"both\", ls=\"-\", alpha=0.5)\n",
    "\n",
    "#     ax.set_xlim(min(ff), max(ff))\n",
    "# #     ax.set_xlim(10**log10(config['frequency_limits'][0]), 10**log10(config['frequency_limits'][1]))\n",
    "\n",
    "#     ## set colorbar at bottom\n",
    "#     cbar = fig.colorbar(p2, orientation='horizontal', ax=ax, aspect=50)\n",
    "\n",
    "#     ## redefine ticks of colorbar\n",
    "# #     new_ticks=[]\n",
    "# #     for n, t in enumerate(cbar.get_ticks()):\n",
    "# #         print(n)\n",
    "# #         new_ticks.append(columns[int(t)])\n",
    "# #     print(new_ticks)\n",
    "# #     cbar.ax.set_xticklabels(columns)\n",
    "\n",
    "\n",
    "#     plt.show();\n",
    "\n",
    "#     out = DataFrame()\n",
    "#     out['frequencies'] = ff\n",
    "#     out['psds_minimal'] = array(psds_minimal)\n",
    "#     out['psds_median'] = array(psds_median)\n",
    "#     out['psds_mean'] = array(psds_mean)\n",
    "#     out['psds_std'] = array(psds_std)\n",
    "#     out['psds_mad'] = array(psds_mad)\n",
    "\n",
    "\n",
    "#     return fig, out"
   ]
  },
  {
   "cell_type": "code",
   "execution_count": null,
   "id": "d5a44ac1",
   "metadata": {
    "ExecuteTime": {
     "end_time": "2022-06-03T12:25:52.193218Z",
     "start_time": "2022-06-03T12:25:52.180322Z"
    },
    "code_folding": []
   },
   "outputs": [],
   "source": [
    "# fig, out = __makeplot_colorlines(config, ff, psds, columns)"
   ]
  },
  {
   "cell_type": "code",
   "execution_count": 3,
   "id": "8e400136",
   "metadata": {
    "ExecuteTime": {
     "end_time": "2022-06-08T16:26:17.164953Z",
     "start_time": "2022-06-08T16:26:16.047572Z"
    }
   },
   "outputs": [
    {
     "data": {
      "text/plain": [
       "1 Trace(s) in Stream:\n",
       "BW.ROMY.20.BJZ | 2022-03-01T00:00:00.000000Z - 2022-03-01T23:59:59.950000Z | 20.0 Hz, 1728000 samples"
      ]
     },
     "execution_count": 3,
     "metadata": {},
     "output_type": "execute_result"
    }
   ],
   "source": [
    "\n",
    "st0, inv0 = __querrySeismoData(\n",
    "                    seed_id=\"BW.ROMY.20.BJZ\",\n",
    "                    starttime=UTCDateTime(\"2022-03-01\"),\n",
    "                    endtime=UTCDateTime(\"2022-03-16\"),\n",
    "                    repository=\"archive\",\n",
    "                    path=None,\n",
    "                    restitute=False,\n",
    "                    detail=None,\n",
    "                    )\n",
    "\n",
    "\n",
    "try:\n",
    "    # st0.remove_response(inventory=inv0, output=\"VEL\", zero_mean=True);\n",
    "    st0.remove_sensitivity(inv0)\n",
    "    # inv0.write(f\"/home/brotzer/Desktop/{config['seed'].split('.')[1]}.xml\", format=\"stationxml\", validate=True)\n",
    "\n",
    "except:\n",
    "    # print(f\"failed to remove response {config.get['seed']} {config.get['tbeg']}\")\n",
    "    print(f\" -> failed to remove response\")\n",
    "\n"
   ]
  },
  {
   "cell_type": "code",
   "execution_count": null,
   "id": "3a948ca3",
   "metadata": {},
   "outputs": [],
   "source": []
  }
 ],
 "metadata": {
  "kernelspec": {
   "display_name": "Python 3",
   "language": "python",
   "name": "python3"
  },
  "language_info": {
   "codemirror_mode": {
    "name": "ipython",
    "version": 3
   },
   "file_extension": ".py",
   "mimetype": "text/x-python",
   "name": "python",
   "nbconvert_exporter": "python",
   "pygments_lexer": "ipython3",
   "version": "3.7.7"
  },
  "latex_envs": {
   "LaTeX_envs_menu_present": true,
   "autoclose": false,
   "autocomplete": true,
   "bibliofile": "biblio.bib",
   "cite_by": "apalike",
   "current_citInitial": 1,
   "eqLabelWithNumbers": true,
   "eqNumInitial": 1,
   "hotkeys": {
    "equation": "Ctrl-E",
    "itemize": "Ctrl-I"
   },
   "labels_anchors": false,
   "latex_user_defs": false,
   "report_style_numbering": false,
   "user_envs_cfg": false
  },
  "toc": {
   "base_numbering": 1,
   "nav_menu": {},
   "number_sections": true,
   "sideBar": true,
   "skip_h1_title": false,
   "title_cell": "Table of Contents",
   "title_sidebar": "Contents",
   "toc_cell": false,
   "toc_position": {},
   "toc_section_display": true,
   "toc_window_display": false
  }
 },
 "nbformat": 4,
 "nbformat_minor": 5
}
