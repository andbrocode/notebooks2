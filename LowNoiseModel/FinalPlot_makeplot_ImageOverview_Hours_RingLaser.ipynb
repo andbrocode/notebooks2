{
 "cells": [
  {
   "cell_type": "markdown",
   "id": "eda030d3",
   "metadata": {},
   "source": [
    "# Analyse Rotation Spectra - Image Overview Hours\n"
   ]
  },
  {
   "cell_type": "markdown",
   "id": "protected-presentation",
   "metadata": {},
   "source": [
    "## Load Libraries"
   ]
  },
  {
   "cell_type": "code",
   "execution_count": 3,
   "id": "behind-arrangement",
   "metadata": {
    "ExecuteTime": {
     "end_time": "2023-06-20T12:40:33.882828Z",
     "start_time": "2023-06-20T12:40:32.786382Z"
    },
    "tags": []
   },
   "outputs": [],
   "source": [
    "from andbro__querrySeismoData import __querrySeismoData\n",
    "from andbro__savefig import __savefig\n",
    "\n",
    "from obspy import UTCDateTime\n",
    "from numpy import log10, zeros, pi, append, linspace, mean, median, array, where, transpose, shape, histogram, arange\n",
    "from numpy import logspace, linspace, log, log10, isinf, ones, nan, count_nonzero, sqrt, isnan\n",
    "from pandas import DataFrame, concat, Series, date_range, read_csv, read_pickle\n",
    "from tqdm import tqdm_notebook\n",
    "from pathlib import Path\n",
    "# from scipy.stats import median_absolute_deviation as mad\n",
    "from scipy.signal import welch\n",
    "\n",
    "import os\n",
    "import pickle\n",
    "import matplotlib.pyplot as plt"
   ]
  },
  {
   "cell_type": "code",
   "execution_count": 4,
   "id": "cfe860f0",
   "metadata": {
    "ExecuteTime": {
     "end_time": "2023-06-20T12:40:33.888640Z",
     "start_time": "2023-06-20T12:40:33.885462Z"
    },
    "tags": []
   },
   "outputs": [],
   "source": [
    "if os.uname().nodename == 'lighthouse':\n",
    "    root_path = '/home/andbro/'\n",
    "    data_path = '/home/andbro/kilauea-data/'\n",
    "    archive_path = '/home/andbro/freenas/'\n",
    "elif os.uname().nodename == 'kilauea':\n",
    "    root_path = '/home/brotzer/'\n",
    "    data_path = '/import/kilauea-data/'\n",
    "    archive_path = '/import/freenas-ffb-01-data/'"
   ]
  },
  {
   "cell_type": "code",
   "execution_count": 5,
   "id": "e4858b93",
   "metadata": {
    "ExecuteTime": {
     "end_time": "2023-06-20T12:40:33.897061Z",
     "start_time": "2023-06-20T12:40:33.890422Z"
    },
    "code_folding": [
     0
    ],
    "tags": []
   },
   "outputs": [],
   "source": [
    "def __get_minimal_psd(psds):\n",
    "\n",
    "    from numpy import nanmin, array, nonzero\n",
    "    \n",
    "    min_psd = zeros(psds.shape[1])\n",
    "    \n",
    "    for f in range(psds.shape[1]):\n",
    "        a = psds[:,f]\n",
    "        min_psd[f] = nanmin(a[nonzero(a)])\n",
    "    \n",
    "    return min_psd"
   ]
  },
  {
   "cell_type": "code",
   "execution_count": 6,
   "id": "d377053c",
   "metadata": {
    "ExecuteTime": {
     "end_time": "2023-06-20T12:40:33.905321Z",
     "start_time": "2023-06-20T12:40:33.900359Z"
    },
    "code_folding": [
     0
    ],
    "tags": []
   },
   "outputs": [],
   "source": [
    "def __get_median_psd(psds):\n",
    "\n",
    "    from numpy import median, zeros, isnan\n",
    "\n",
    "    med_psd = zeros(psds.shape[1])\n",
    "\n",
    "    for f in range(psds.shape[1]):\n",
    "        a = psds[:,f]\n",
    "        med_psd[f] = median(a[~isnan(a)])\n",
    "\n",
    "    return med_psd"
   ]
  },
  {
   "cell_type": "code",
   "execution_count": 7,
   "id": "0a0368b2",
   "metadata": {
    "ExecuteTime": {
     "end_time": "2023-06-20T12:40:33.911588Z",
     "start_time": "2023-06-20T12:40:33.907194Z"
    },
    "code_folding": [
     0
    ],
    "tags": []
   },
   "outputs": [],
   "source": [
    "def __get_mean_psd(psds):\n",
    "\n",
    "    from numpy import mean, zeros, isnan\n",
    "\n",
    "    mean_psd = zeros(psds.shape[1])\n",
    "\n",
    "    for f in range(psds.shape[1]):\n",
    "        a = psds[:,f]\n",
    "        mean_psd[f] = mean(a[~isnan(a)])\n",
    "\n",
    "    return mean_psd"
   ]
  },
  {
   "cell_type": "code",
   "execution_count": 8,
   "id": "af6a3772",
   "metadata": {
    "ExecuteTime": {
     "end_time": "2023-06-20T12:40:33.918583Z",
     "start_time": "2023-06-20T12:40:33.913194Z"
    },
    "code_folding": [
     0
    ],
    "tags": []
   },
   "outputs": [],
   "source": [
    "def __get_minimum_psd(psds):\n",
    "            \n",
    "    for i, psd in enumerate(psds):\n",
    "        if i == 0: \n",
    "            lowest_value = psd.sum()\n",
    "            idx = 0\n",
    "\n",
    "        value = psd.sum() \n",
    "        \n",
    "        if value < lowest_value and value != 0:\n",
    "            lowest_value = value\n",
    "            idx = i   \n",
    "    \n",
    "    return psds[idx]"
   ]
  },
  {
   "cell_type": "code",
   "execution_count": 9,
   "id": "a6de9a9c",
   "metadata": {
    "ExecuteTime": {
     "end_time": "2023-06-20T12:40:33.924200Z",
     "start_time": "2023-06-20T12:40:33.920664Z"
    },
    "code_folding": [
     0
    ],
    "tags": []
   },
   "outputs": [],
   "source": [
    "def __get_percentiles(arr):\n",
    "    \n",
    "    from numpy import zeros, nanpercentile\n",
    "    \n",
    "    percentiles_lower = zeros(shape(arr)[1])\n",
    "    percentiles_upper = zeros(shape(arr)[1])\n",
    "\n",
    "    for kk in range(shape(arr)[1]):\n",
    "        out = nanpercentile(arr[:, kk],  [2.5 ,97.5])\n",
    "        percentiles_upper[kk] = out[1]\n",
    "        percentiles_lower[kk] = out[0]\n",
    "        \n",
    "    return percentiles_lower, percentiles_upper"
   ]
  },
  {
   "cell_type": "code",
   "execution_count": 10,
   "id": "fe2e4201",
   "metadata": {
    "ExecuteTime": {
     "end_time": "2023-06-20T12:40:33.931875Z",
     "start_time": "2023-06-20T12:40:33.925791Z"
    },
    "code_folding": [
     0
    ],
    "tags": []
   },
   "outputs": [],
   "source": [
    "def __load_psds(file, config):\n",
    "\n",
    "    ## get data to dataframe and transpose and reindex\n",
    "    df = read_csv(file, index_col=False)\n",
    "    df = df.transpose()\n",
    "    df.reset_index(inplace=True)\n",
    "    # df.dtypes\n",
    "    # df.mean()\n",
    "\n",
    "    ## set column names\n",
    "    try:\n",
    "        columns = pickle.load(open(f\"{config['inpath']}{config['inname']}_columns.pick\", 'rb'))\n",
    "        df.columns = [column.replace(\"-\",\"\") for column in columns]\n",
    "    except:\n",
    "        columns = arange(0,df.shape[1]).astype(str)\n",
    "        df.columns = columns\n",
    "        print(\" -> Failed to assign column names! Assigned numbers instead!\")\n",
    "\n",
    "    ## check for column dublicates\n",
    "    if len(df.columns.unique()) != len(df.columns):\n",
    "        print(f\" -> removing {len(df.columns)-len(df.columns.unique())} column dublicate(s)!\")\n",
    "        df = df.loc[:,~df.columns.duplicated()]\n",
    "\n",
    "    count=0\n",
    "    dates_expected = date_range(config['date1'].date, config['date2'].date, periods=int((config['date2']-config['date1'])/86400)+1)\n",
    "    for dex in dates_expected:\n",
    "        dex=str(dex.isoformat()[:10]).replace(\"-\",\"\")\n",
    "        if not dex in df.columns:\n",
    "            count+=1\n",
    "    print(f\" -> missing {count} days\")\n",
    "        \n",
    "    print(f\" -> total of {df.shape[0]} psds\")\n",
    "        \n",
    "#     ## convert to list\n",
    "#     psds = []\n",
    "#     for col in array(df.columns):\n",
    "        \n",
    "#         ## turn non-float series to float objects\n",
    "#         df[col] = pd.to_numeric(df[col], errors = 'coerce')\n",
    "\n",
    "#         ## add to psds list\n",
    "#         psds.append(array(df[col]))\n",
    "        \n",
    "    return df"
   ]
  },
  {
   "cell_type": "code",
   "execution_count": 11,
   "id": "d4ffd698",
   "metadata": {
    "ExecuteTime": {
     "end_time": "2023-06-20T12:40:33.937430Z",
     "start_time": "2023-06-20T12:40:33.933623Z"
    },
    "code_folding": [
     0
    ],
    "tags": []
   },
   "outputs": [],
   "source": [
    "def __get_array_from_dataframe(df):\n",
    "    \n",
    "    from pandas import to_numeric\n",
    "    \n",
    "    ## convert to list\n",
    "    psds = []\n",
    "    for col in array(df.columns):\n",
    "        \n",
    "        ## turn non-float series to float objects\n",
    "        df[col] = to_numeric(df[col], errors = 'coerce')\n",
    "\n",
    "        ## add to psds list\n",
    "        psds.append(array(df[col]))\n",
    "\n",
    "    return array(psds)"
   ]
  },
  {
   "cell_type": "code",
   "execution_count": 12,
   "id": "21d2d997",
   "metadata": {
    "ExecuteTime": {
     "end_time": "2023-06-20T12:40:33.944361Z",
     "start_time": "2023-06-20T12:40:33.941272Z"
    },
    "code_folding": [
     0
    ],
    "tags": []
   },
   "outputs": [],
   "source": [
    "# def __remove_noisy_psds(df, threshold_mean=1e-13):\n",
    "\n",
    "#     from numpy import delete\n",
    "    \n",
    "#     l1 = len(df.columns)\n",
    "#     for col in df.columns:\n",
    "# #         print(col, type(col))\n",
    "#         if df[col].astype(float).mean() > threshold_mean:\n",
    "#             df = df.drop(columns=col)\n",
    "#     l2 = len(df.columns)\n",
    "#     print(f\" -> removed {l1-l2} columns due to mean thresholds!\")\n",
    "#     print(f\" -> {l2} psds remain\")\n",
    "    \n",
    "#     return df"
   ]
  },
  {
   "cell_type": "code",
   "execution_count": 13,
   "id": "b86aa31f",
   "metadata": {
    "ExecuteTime": {
     "end_time": "2023-06-20T12:40:33.949485Z",
     "start_time": "2023-06-20T12:40:33.946696Z"
    },
    "tags": []
   },
   "outputs": [],
   "source": [
    "# os.listdir( f\"{root_path}ROMY/RotationSpectra/data/\" )"
   ]
  },
  {
   "cell_type": "markdown",
   "id": "subject-expression",
   "metadata": {},
   "source": [
    "## Configurations"
   ]
  },
  {
   "cell_type": "code",
   "execution_count": 14,
   "id": "e89d22a7",
   "metadata": {
    "ExecuteTime": {
     "end_time": "2023-06-20T12:40:34.390981Z",
     "start_time": "2023-06-20T12:40:33.951091Z"
    },
    "tags": []
   },
   "outputs": [],
   "source": [
    "## _________________________________________________________\n",
    "\n",
    "\n",
    "name = \"ROMY-Z\"\n",
    "inname = \"run_2019_ROMY-Z_3600_hours\"\n",
    "# threshold = 5e-20\n",
    "# threshold = 1e-20\n",
    "period_limits = 1, 200\n",
    "\n",
    "\n",
    "\n",
    "## _________________________________________________________\n",
    "\n",
    "\n",
    "inpath = f\"{data_path}ROMY/RotationSpectra/data/{inname}/\"\n",
    "\n",
    "config = pickle.load(open(inpath+inname+\"_config.pkl\", 'rb'))\n",
    "\n",
    "config['inname'] = inname\n",
    "config['inpath'] = inpath\n",
    "config['period_limits'] = period_limits\n",
    "\n",
    "config['thres_romy'] = 5e-20\n",
    "config['thres_rlas'] = 5e-21\n",
    "\n",
    "config['outpath_figures'] = f\"{data_path}LNM/figures_final/\"\n",
    "\n",
    "config['rlnm_model_path'] = f\"{data_path}LNM/data/MODELS/\"\n",
    "\n",
    "config['frequency_limits'] = [1/config['period_limits'][1], 1/config['period_limits'][0]]\n"
   ]
  },
  {
   "cell_type": "markdown",
   "id": "natural-beginning",
   "metadata": {},
   "source": [
    "## Load as Arrays"
   ]
  },
  {
   "cell_type": "code",
   "execution_count": 15,
   "id": "2d64a313",
   "metadata": {
    "ExecuteTime": {
     "end_time": "2023-06-20T12:40:34.401182Z",
     "start_time": "2023-06-20T12:40:34.393153Z"
    },
    "code_folding": [
     0
    ],
    "tags": []
   },
   "outputs": [],
   "source": [
    "def __load_data_files(config, path):\n",
    "    \n",
    "    from tqdm.notebook import tqdm\n",
    "    from numpy import array\n",
    "    \n",
    "    print(path)\n",
    "    \n",
    "    config['files'] = [file for file in os.listdir(path) if \"hourly\" in file]\n",
    "    config['files'].sort()\n",
    "\n",
    "    psds_all, times_nom, times = [], arange(0, 24*365, 1), []\n",
    "    count, missing  = 0, 0\n",
    "    \n",
    "    for file in tqdm(config['files']):\n",
    "        date = file.split(\"_\")[-2]\n",
    "        psds_hourly = read_pickle(path+file)\n",
    "        \n",
    "        for h in range(24):\n",
    "            try:\n",
    "                psds_all.append(psds_hourly[h])\n",
    "                times.append(times_nom[count])\n",
    "            except:\n",
    "                missing += 1\n",
    "            count += 1\n",
    "            \n",
    "    print(f\" -> missing: {missing}\")\n",
    "    return array(psds_all), times"
   ]
  },
  {
   "cell_type": "code",
   "execution_count": 16,
   "id": "6613e489",
   "metadata": {
    "ExecuteTime": {
     "end_time": "2023-06-20T13:03:56.961674Z",
     "start_time": "2023-06-20T12:40:34.402915Z"
    },
    "code_folding": [],
    "tags": []
   },
   "outputs": [
    {
     "name": "stdout",
     "output_type": "stream",
     "text": [
      "/home/andbro/kilauea-data/ROMY/RotationSpectra/data/run_2019_ROMY-Z_3600_hours/run_2019_ROMY-Z_3600_hours/\n"
     ]
    },
    {
     "data": {
      "application/vnd.jupyter.widget-view+json": {
       "model_id": "a7200ebcb5fd4a8d8c6b27a5fddc1e0d",
       "version_major": 2,
       "version_minor": 0
      },
      "text/plain": [
       "  0%|          | 0/365 [00:00<?, ?it/s]"
      ]
     },
     "metadata": {},
     "output_type": "display_data"
    },
    {
     "name": "stdout",
     "output_type": "stream",
     "text": [
      " -> missing: 0\n"
     ]
    }
   ],
   "source": [
    "ROMY_Z, ttimes_Z = __load_data_files(config, config['inpath']+config['inname']+\"/\".replace(\"Z\",\"Z\"))\n",
    "\n",
    "fff_Z = pickle.load(open(f\"{config['inpath'].replace('Z','Z')}{config['inname'].replace('Z','Z')}_frequency_axis.pkl\", 'rb'))\n",
    "ttimes_Z = pickle.load(open(f\"{config['inpath'].replace('Z','Z')}{config['inname'].replace('Z','Z')}_times_axis.pkl\", 'rb'))"
   ]
  },
  {
   "cell_type": "code",
   "execution_count": 17,
   "id": "9c6dc37b",
   "metadata": {
    "ExecuteTime": {
     "end_time": "2023-06-20T13:05:06.379880Z",
     "start_time": "2023-06-20T13:03:56.965134Z"
    },
    "tags": []
   },
   "outputs": [
    {
     "name": "stdout",
     "output_type": "stream",
     "text": [
      "/home/andbro/kilauea-data/ROMY/RotationSpectra/data/run_2019_RLAS-Z_3600_hours/run_2019_RLAS-Z_3600_hours/\n"
     ]
    },
    {
     "data": {
      "application/vnd.jupyter.widget-view+json": {
       "model_id": "1787433160434e77b635a5bfcb07b4eb",
       "version_major": 2,
       "version_minor": 0
      },
      "text/plain": [
       "  0%|          | 0/365 [00:00<?, ?it/s]"
      ]
     },
     "metadata": {},
     "output_type": "display_data"
    },
    {
     "name": "stdout",
     "output_type": "stream",
     "text": [
      " -> missing: 0\n"
     ]
    }
   ],
   "source": [
    "RLAS_Z, times_Z = __load_data_files(config, (config['inpath']+config['inname']+\"/\").replace('ROMY-Z','RLAS-Z'))\n",
    "\n",
    "ff_Z = pickle.load(open(f\"{config['inpath'].replace('ROMY-Z','RLAS-Z')}{config['inname'].replace('ROMY-Z','RLAS-Z')}_frequency_axis.pkl\", 'rb'))\n",
    "times_Z = pickle.load(open(f\"{config['inpath'].replace('Z','Z')}{config['inname'].replace('Z','Z')}_times_axis.pkl\", 'rb'))"
   ]
  },
  {
   "cell_type": "code",
   "execution_count": 18,
   "id": "be355531",
   "metadata": {
    "ExecuteTime": {
     "end_time": "2023-06-20T13:05:06.385870Z",
     "start_time": "2023-06-20T13:05:06.385860Z"
    }
   },
   "outputs": [],
   "source": [
    "# shape(RLAS_Z), shape(ff_Z), shape(times_Z), shape(ROMY_Z), shape(fff_Z), shape(ttimes_Z)"
   ]
  },
  {
   "cell_type": "code",
   "execution_count": 19,
   "id": "a025d8ab",
   "metadata": {
    "ExecuteTime": {
     "end_time": "2023-06-20T13:05:06.386317Z",
     "start_time": "2023-06-20T13:05:06.386307Z"
    },
    "code_folding": [
     0
    ],
    "tags": []
   },
   "outputs": [],
   "source": [
    "def __cut_frequencies_array(arr, freqs, fmin, fmax):\n",
    "\n",
    "    ind = []\n",
    "    for i, f in enumerate(freqs):\n",
    "        if f >= fmin and f <= fmax:\n",
    "            ind.append(i)\n",
    "\n",
    "    ff = freqs[ind[0]:ind[-1]]\n",
    "    pp = arr[:,ind[0]:ind[-1]]\n",
    "\n",
    "    return pp, ff"
   ]
  },
  {
   "cell_type": "code",
   "execution_count": 20,
   "id": "5ba38476",
   "metadata": {
    "ExecuteTime": {
     "end_time": "2023-06-20T13:05:06.386709Z",
     "start_time": "2023-06-20T13:05:06.386700Z"
    },
    "tags": []
   },
   "outputs": [],
   "source": [
    "ROMY_Z, fff_Z = __cut_frequencies_array(ROMY_Z, fff_Z, config['frequency_limits'][0], config['frequency_limits'][1])\n",
    "RLAS_Z, ff_Z = __cut_frequencies_array(RLAS_Z, ff_Z, config['frequency_limits'][0], config['frequency_limits'][1])"
   ]
  },
  {
   "cell_type": "markdown",
   "id": "d7d05f3d",
   "metadata": {
    "ExecuteTime": {
     "end_time": "2022-11-10T13:13:24.317324Z",
     "start_time": "2022-11-10T13:13:24.315321Z"
    }
   },
   "source": [
    "## Remove Noisy PSDs"
   ]
  },
  {
   "cell_type": "code",
   "execution_count": 21,
   "id": "92d7c1df",
   "metadata": {
    "ExecuteTime": {
     "end_time": "2023-06-20T13:05:06.392468Z",
     "start_time": "2023-06-20T13:05:06.392459Z"
    },
    "code_folding": [
     0
    ],
    "tags": []
   },
   "outputs": [],
   "source": [
    "def __remove_noisy_psds(arr, times, threshold_mean=1e-16):\n",
    "\n",
    "    from numpy import delete, shape, sort, array, nan\n",
    "    \n",
    "    l1 = shape(arr)[0]\n",
    "\n",
    "    idx_to_remove = []\n",
    "    for ii in range(shape(arr)[0]):\n",
    "        \n",
    "        ## appy upper threshold\n",
    "        if arr[ii,:].mean() > threshold_mean:\n",
    "            idx_to_remove.append(ii)\n",
    "            \n",
    "        ## apply default lowe threshold\n",
    "        if arr[ii,:].mean() < 1e-26:\n",
    "            idx_to_remove.append(ii)\n",
    "            \n",
    "    for jj in sort(array(idx_to_remove))[::-1]:\n",
    "        \n",
    "        ## option 1: delte rows\n",
    "#         arr = delete(arr, jj, axis=0)\n",
    "#         times = delete(times, jj, axis=0)\n",
    "\n",
    "        ## option 2: replace with nan values\n",
    "        arr[jj,:] = ones(len(arr[jj]))*nan\n",
    "    \n",
    "    l2 = shape(arr)[0]\n",
    "    \n",
    "    print(f\" -> removed {l1-l2} rows due to mean thresholds!\")\n",
    "    print(f\" -> {l2} psds remain\")\n",
    "    \n",
    "    return arr, times"
   ]
  },
  {
   "cell_type": "code",
   "execution_count": 22,
   "id": "2b8b1666",
   "metadata": {
    "ExecuteTime": {
     "end_time": "2023-06-20T13:05:06.392833Z",
     "start_time": "2023-06-20T13:05:06.392824Z"
    },
    "code_folding": [],
    "tags": []
   },
   "outputs": [
    {
     "name": "stdout",
     "output_type": "stream",
     "text": [
      " -> removed 0 rows due to mean thresholds!\n",
      " -> 8760 psds remain\n",
      " -> removed 0 rows due to mean thresholds!\n",
      " -> 8760 psds remain\n"
     ]
    }
   ],
   "source": [
    "ROMY_Z, ttimes_Z = __remove_noisy_psds(ROMY_Z, ttimes_Z, threshold_mean=config['thres_romy'])\n",
    "RLAS_Z, times_Z = __remove_noisy_psds(RLAS_Z, times_Z, threshold_mean=config['thres_rlas'])"
   ]
  },
  {
   "cell_type": "code",
   "execution_count": 23,
   "id": "d4e13f38",
   "metadata": {
    "ExecuteTime": {
     "end_time": "2023-06-20T13:05:06.393239Z",
     "start_time": "2023-06-20T13:05:06.393230Z"
    },
    "code_folding": [
     0
    ],
    "tags": []
   },
   "outputs": [],
   "source": [
    "def __write_stats_mod(config, ff, arr, comp):\n",
    "\n",
    "    out_df = DataFrame()\n",
    "\n",
    "    out_df['frequencies'] = ff\n",
    "    out_df['minimal'] = __get_minimal_psd(arr)\n",
    "    out_df['median'] = __get_median_psd(arr)\n",
    "    out_df['minimum'] = __get_minimum_psd(arr)\n",
    "    out_df['mean'] = __get_mean_psd(arr)\n",
    "    out_df['perc_lower'] = __get_percentiles(arr)[0]\n",
    "    out_df['perc_upper'] = __get_percentiles(arr)[1]\n",
    "\n",
    "\n",
    "    print(f\" -> writing {config['inpath'].replace('ROMY-Z',comp)}{config['inname'].replace('ROMY-Z',comp)}_stats_mod.pkl\")\n",
    "    out_df.to_pickle(f\"{config['inpath'].replace('ROMY-Z',comp)}{config['inname'].replace('ROMY-Z',comp)}_stats_mod.pkl\")"
   ]
  },
  {
   "cell_type": "code",
   "execution_count": 24,
   "id": "1d93eb9b",
   "metadata": {
    "ExecuteTime": {
     "end_time": "2023-06-20T13:05:06.393610Z",
     "start_time": "2023-06-20T13:05:06.393602Z"
    },
    "tags": []
   },
   "outputs": [],
   "source": [
    "# __write_stats_mod(config, fff_Z, ROMY_Z, \"ROMY-Z\")\n",
    "# __write_stats_mod(config, ff_Z, RLAS_Z, \"RLAS-Z\")"
   ]
  },
  {
   "cell_type": "markdown",
   "id": "086fd5d0",
   "metadata": {},
   "source": [
    "## Plotting"
   ]
  },
  {
   "cell_type": "markdown",
   "id": "adf06fb9",
   "metadata": {},
   "source": [
    "### Plot Version 1"
   ]
  },
  {
   "cell_type": "code",
   "execution_count": 25,
   "id": "c688cd4e",
   "metadata": {
    "ExecuteTime": {
     "end_time": "2023-06-20T13:05:06.395528Z",
     "start_time": "2023-06-20T13:05:06.395517Z"
    },
    "code_folding": [
     0
    ],
    "tags": []
   },
   "outputs": [],
   "source": [
    "def __makeplot_image_overview(ff, psds, times, one_colorbar=False):\n",
    "\n",
    "    from tqdm.notebook import tqdm\n",
    "    from numpy import isnan, median, mean, std, array, zeros, nanmax, nanmin\n",
    "    from scipy.stats import median_abs_deviation as mad\n",
    "    from matplotlib import colors\n",
    "\n",
    "\n",
    "    ## convert frequencies to periods\n",
    "    pp=[]\n",
    "    for mm in range(len(ff)):\n",
    "        ppp = zeros(len(ff[mm]))\n",
    "        ppp = 1/ff[mm]\n",
    "        pp.append(ppp)\n",
    "\n",
    "    ##____________________________\n",
    "\n",
    "    NN = 2\n",
    "\n",
    "    fig, axes = plt.subplots(NN, 1, figsize=(12,12), sharey=False, sharex=True)\n",
    "\n",
    "    plt.subplots_adjust(hspace=0.05)\n",
    "\n",
    "    font = 14\n",
    "\n",
    "    N = int(24*365)\n",
    "\n",
    "    if one_colorbar:\n",
    "        max_psds = max(nanmax(psds[0]), nanmax(psds[1]))\n",
    "        min_psds = min(nanmin(psds[0]), nanmin(psds[1]))\n",
    "\n",
    "    cmap = plt.colormaps.get_cmap('rainbow')\n",
    "#     cmap.set_under(color='black')\n",
    "#     cmap.set_over(color='white')\n",
    "    cmap.set_bad('white',0.3)\n",
    "\n",
    "\n",
    "    for j in tqdm(range(NN)):\n",
    "\n",
    "        if not one_colorbar:\n",
    "            max_psds = nanmax(psds[j])\n",
    "            min_psds = nanmin(psds[j])\n",
    "\n",
    "\n",
    "        im = axes[j].pcolormesh(times[j], 1/ff[j], psds[j].T, \n",
    "                                cmap=cmap,\n",
    "                                norm=colors.LogNorm(vmax=max_psds,vmin=min_psds*1e1,),\n",
    "                                )\n",
    "\n",
    "        axes[j].tick_params(labelsize=font-2)\n",
    "\n",
    "\n",
    "        axes[j].set_ylim(config['period_limits'][0], config['period_limits'][1]-10)\n",
    "        axes[j].set_yscale(\"log\")\n",
    "\n",
    "        if not one_colorbar:\n",
    "            ## set individual colorbars\n",
    "            cbar = fig.colorbar(im, orientation='vertical', ax=axes[j], aspect=15, pad=0.01)\n",
    "            cbar.set_label(r\"PSD (rad$^2$/s$^2$/$Hz$)\", fontsize=font-2, labelpad=-53)\n",
    "\n",
    "    axes[NN-1].set_xlabel(\"Days of 2019\", fontsize=font, labelpad=-1)\n",
    "\n",
    "    new_ticks = [int(round(t/24, 0)) for t in axes[NN-1].get_xticks()]\n",
    "    axes[NN-1].set_xticklabels(new_ticks)\n",
    "\n",
    "    ## panel labels\n",
    "    axes[0].text(.01, .99, 'a)', ha='left', va='top', transform=axes[0].transAxes, fontsize=font+2)\n",
    "    axes[1].text(.01, .99, 'b)', ha='left', va='top', transform=axes[1].transAxes, fontsize=font+2)\n",
    "\n",
    "    ## data labels\n",
    "    axes[0].text(.99, .99, f' ROMY Z', ha='right', va='top', transform=axes[0].transAxes, fontsize=font)\n",
    "    axes[1].text(.99, .99, f'G-ring Z', ha='right', va='top', transform=axes[1].transAxes, fontsize=font)\n",
    "\n",
    "\n",
    "    axes[0].set_ylabel(r\"Period (s)\", fontsize=font)\n",
    "    axes[1].set_ylabel(r\"Period (s)\", fontsize=font)\n",
    "\n",
    "    if one_colorbar:\n",
    "        ## set joint colorbar\n",
    "        cbar = fig.colorbar(im, orientation='vertical', ax=axes.ravel().tolist(), aspect=30, pad=0.01)\n",
    "        cbar.set_label(r\"PSD (rad$^2$/s$^2$/$Hz$)\", fontsize=font-2, labelpad=-53)\n",
    "\n",
    "    plt.show();\n",
    "    return fig"
   ]
  },
  {
   "cell_type": "code",
   "execution_count": 26,
   "id": "b713ebdc",
   "metadata": {
    "ExecuteTime": {
     "end_time": "2023-06-20T13:05:06.397053Z",
     "start_time": "2023-06-20T13:05:06.397043Z"
    },
    "tags": []
   },
   "outputs": [],
   "source": [
    "# fig = __makeplot_image_overview([fff_Z, ff_Z],\n",
    "#                                 [ROMY_Z, RLAS_Z],\n",
    "#                                 [ttimes_Z, times_Z],\n",
    "#                                 one_colorbar=True)"
   ]
  },
  {
   "cell_type": "code",
   "execution_count": 27,
   "id": "61bcb688",
   "metadata": {
    "ExecuteTime": {
     "end_time": "2023-06-20T13:05:06.399017Z",
     "start_time": "2023-06-20T13:05:06.399006Z"
    }
   },
   "outputs": [],
   "source": [
    "# __savefig(fig, outpath=config['outpath_figures'], outname=f\"ringlaser_psdimage_final\", mode=\"png\", dpi=100)"
   ]
  },
  {
   "cell_type": "markdown",
   "id": "d6162f70",
   "metadata": {},
   "source": [
    "### Plot Version2"
   ]
  },
  {
   "cell_type": "code",
   "execution_count": 28,
   "id": "b94921cb",
   "metadata": {
    "ExecuteTime": {
     "end_time": "2023-06-20T13:05:06.400165Z",
     "start_time": "2023-06-20T13:05:06.400155Z"
    },
    "code_folding": [
     0
    ],
    "tags": []
   },
   "outputs": [],
   "source": [
    "def __makeplot_image_overview2(ff, psds, times):\n",
    "\n",
    "    from tqdm.notebook import tqdm\n",
    "    from numpy import isnan, median, mean, std, array, zeros, nanmax, nanmin\n",
    "    from scipy.stats import median_abs_deviation as mad\n",
    "    from matplotlib import colors\n",
    "\n",
    "\n",
    "    ## theoretical rlnm\n",
    "    rlnm = read_csv(config['rlnm_model_path']+\"rlnm_theory.csv\")\n",
    "\n",
    "    ## convert frequencies to periods\n",
    "    pp=[]\n",
    "    for mm in range(len(ff)):\n",
    "        ppp = zeros(len(ff[mm]))\n",
    "        ppp = 1/ff[mm]\n",
    "        pp.append(ppp)\n",
    "\n",
    "    ## define colormap\n",
    "    cmap = plt.colormaps.get_cmap('rainbow')\n",
    "    cmap.set_bad(color='white')\n",
    "#     cmap.set_under(color='black')\n",
    "#     cmap.set_over(color='white')\n",
    "\n",
    "    ## compute overall maxima and minima\n",
    "    max_psds = max(nanmax(psds[0]), nanmax(psds[1]))\n",
    "    min_psds = min(nanmin(psds[0]), nanmin(psds[1]))\n",
    "\n",
    "\n",
    "    ##____________________________\n",
    "\n",
    "#     NN = 3\n",
    "    N = int(24*365)\n",
    "\n",
    "    font = 14\n",
    "\n",
    "    fig = plt.figure(constrained_layout=False, figsize=(10,8))\n",
    "    widths = [5, 2]\n",
    "    heights = [1, 1]\n",
    "    spec = fig.add_gridspec(ncols=2, nrows=2, width_ratios=widths, height_ratios=heights)\n",
    "\n",
    "    plt.subplots_adjust(hspace=0.1, wspace=0.03)\n",
    "\n",
    "    ax1_1 = fig.add_subplot(spec[0, 0])\n",
    "    ax1_2 = fig.add_subplot(spec[0, 1], sharey=ax1_1)\n",
    "    ax2_1 = fig.add_subplot(spec[1, 0], sharex=ax1_1)\n",
    "    ax2_2 = fig.add_subplot(spec[1, 1], sharey=ax2_1)\n",
    "\n",
    "\n",
    "    im1 = ax1_1.pcolormesh( times[0], 1/ff[0], psds[0].T,\n",
    "                            cmap=cmap,\n",
    "                            norm=colors.LogNorm(vmax=nanmax(psds[0]), vmin=nanmin(psds[0])*1e1),\n",
    "                            )\n",
    "    im2 = ax2_1.pcolormesh( times[1], 1/ff[1], psds[1].T,\n",
    "                            cmap=cmap,\n",
    "                            norm=colors.LogNorm(vmax=nanmax(psds[1]), vmin=nanmin(psds[1])*1e1),\n",
    "                            )\n",
    "\n",
    "\n",
    "    perc_lower, perc_upper = __get_percentiles((psds[0]))\n",
    "    ax1_2.fill_betweenx(pp[0], perc_lower, perc_upper, color='darkred', zorder=3, alpha=0.4, label=\"\")\n",
    "    ax1_2.plot(__get_median_psd(psds[0]), pp[0], color='darkred', zorder=3, alpha=0.9, label=\"Median\")\n",
    "    ax1_2.plot(rlnm['rlnm_psd_median'], rlnm['period'], color=\"black\", zorder=2, ls=\"--\", lw=2)\n",
    "\n",
    "    perc_lower, perc_upper = __get_percentiles((psds[1]))\n",
    "    ax2_2.fill_betweenx(pp[1], perc_lower, perc_upper, color='darkred', zorder=3, alpha=0.4, label=\"\")\n",
    "    ax2_2.plot(__get_median_psd(psds[1]), pp[1], color='darkred', zorder=3, alpha=0.9, label=\"Median\")\n",
    "    ax2_2.plot(rlnm['rlnm_psd_median'], rlnm['period'], color=\"black\", zorder=2, ls=\"--\", lw=2)\n",
    "\n",
    "\n",
    "    plt.setp(ax1_1.get_xticklabels(), visible=False)\n",
    "    plt.setp(ax1_2.get_xticklabels(), visible=False)\n",
    "\n",
    "    plt.setp(ax1_2.get_yticklabels(), visible=False)\n",
    "    plt.setp(ax2_2.get_yticklabels(), visible=False)\n",
    "\n",
    "\n",
    "    for ax in [ax1_1, ax1_2, ax2_1, ax2_2]:\n",
    "        ax.tick_params(labelsize=font-2)\n",
    "        ax.set_ylim(config['period_limits'][0], config['period_limits'][1]-18)\n",
    "        ax.set_yscale(\"log\")\n",
    "\n",
    "    for ax in [ax1_2, ax2_2]:\n",
    "        ax.set_xscale(\"logit\")\n",
    "\n",
    "    ax2_1.set_xlabel(\"Days of 2019\", fontsize=font, labelpad=1)\n",
    "    ax2_2.set_xlabel(r\"PSD (rad$^2$/s$^2$/$Hz$)\", fontsize=font, labelpad=-1)\n",
    "\n",
    "    new_ticks = [int(round(t/24,0)) for t in ax2_1.get_xticks()]\n",
    "    ax2_1.set_xticklabels(new_ticks)\n",
    "\n",
    "#     ## panel labels\n",
    "    # ax1_1.text(.01, .99, '(a)', ha='left', va='top', transform=ax1_1.transAxes, fontsize=font+2)\n",
    "    # ax2_1.text(.01, .99, '(b)', ha='left', va='top', transform=ax2_1.transAxes, fontsize=font+2)\n",
    "    ax1_1.text(-.08, .99, '(a)', ha='left', va='top', transform=ax1_1.transAxes, fontsize=font+2)\n",
    "    ax2_1.text(-.08, .99, '(b)', ha='left', va='top', transform=ax2_1.transAxes, fontsize=font+2)\n",
    "\n",
    "#     ## data labels\n",
    "    array = name.split(\"_\")[0]\n",
    "    ax1_1.text(.99, .99, f'ROMY Z', ha='right', va='top', transform=ax1_1.transAxes, fontsize=font)\n",
    "    ax2_1.text(.99, .99, f'G-ring Z', ha='right', va='top', transform=ax2_1.transAxes, fontsize=font)\n",
    "\n",
    "    ax1_1.set_ylabel(r\"Period (s)\", fontsize=font)\n",
    "    ax2_1.set_ylabel(r\"Period (s)\", fontsize=font)\n",
    "\n",
    "\n",
    "    ## set individual colorbars\n",
    "    cbar = fig.colorbar(im1, orientation='vertical', ax=ax1_2, pad=0.1)\n",
    "    cbar.set_label(r\"PSD (rad$^2$/s$^2$/$Hz$)\", fontsize=font-2, labelpad=-59)\n",
    "\n",
    "    cbar = fig.colorbar(im2, orientation='vertical', ax=ax2_2, pad=0.1)\n",
    "    cbar.set_label(r\"PSD (rad$^2$/s$^2$/$Hz$)\", fontsize=font-2, labelpad=-59)\n",
    "\n",
    "#     ## set colorbar at bottom\n",
    "#     cbar = fig.colorbar(im1, orientation='vertical', ax=[ax1_2, ax2_2], aspect=33, pad=0.05)\n",
    "#     cbar.set_label(r\"PSD (rad$^2$/s$^2$/$Hz$)\", fontsize=font-2, labelpad=-50)\n",
    "\n",
    "    plt.show();\n",
    "    fig.savefig(\"/home/andbro/Documents/ROMY/LowNoiseModel/SRL/figures/300dpi/\"+\"figure2.pdf\", format=\"pdf\", bbox_inches=\"tight\", dpi=200, transparent=None)\n",
    "    # return fig"
   ]
  },
  {
   "cell_type": "code",
   "execution_count": null,
   "id": "e0a03cc5",
   "metadata": {
    "ExecuteTime": {
     "end_time": "2023-06-20T13:05:06.401045Z",
     "start_time": "2023-06-20T13:05:06.401035Z"
    },
    "tags": []
   },
   "outputs": [
    {
     "name": "stderr",
     "output_type": "stream",
     "text": [
      "/tmp/ipykernel_330930/1073402740.py:90: UserWarning: FixedFormatter should only be used together with FixedLocator\n",
      "  ax2_1.set_xticklabels(new_ticks)\n"
     ]
    }
   ],
   "source": [
    "__makeplot_image_overview2([fff_Z, ff_Z],\n",
    "                                [ROMY_Z, RLAS_Z],\n",
    "                                [ttimes_Z, times_Z],\n",
    "                                )"
   ]
  },
  {
   "cell_type": "code",
   "execution_count": null,
   "id": "f3de63d2-aded-4f4e-8b9b-421df56f7ef5",
   "metadata": {
    "tags": []
   },
   "outputs": [],
   "source": []
  },
  {
   "cell_type": "code",
   "execution_count": null,
   "id": "44967d20",
   "metadata": {
    "ExecuteTime": {
     "end_time": "2023-06-20T13:05:06.401835Z",
     "start_time": "2023-06-20T13:05:06.401826Z"
    }
   },
   "outputs": [],
   "source": [
    "__savefig(fig, outpath=config['outpath_figures'], outname=f\"ringlaser_psdimage_final2\", mode=\"png\", dpi=300)"
   ]
  },
  {
   "cell_type": "markdown",
   "id": "13034f40",
   "metadata": {},
   "source": [
    "## Limit it by computing medians "
   ]
  },
  {
   "cell_type": "code",
   "execution_count": null,
   "id": "fb3e4c4a",
   "metadata": {
    "ExecuteTime": {
     "end_time": "2023-06-20T13:05:06.404659Z",
     "start_time": "2023-06-20T13:05:06.404646Z"
    },
    "code_folding": [
     0
    ]
   },
   "outputs": [],
   "source": [
    "def __makeplot_colorlines_overview(ff, psds, dates=None):\n",
    "\n",
    "    from tqdm.notebook import tqdm\n",
    "    from numpy import isnan, median, mean, std, array, zeros\n",
    "    from scipy.stats import median_abs_deviation as mad\n",
    "\n",
    "#     psds_median = __get_median_psd(array(psds))\n",
    "#     psds_minimal = __get_minimal_psd(array(psds))\n",
    "#     psds_minimum = __get_minimum_psd(array(psds), ff)\n",
    "\n",
    "    ## theoretical rlnm\n",
    "    rlnm = read_csv(config['rlnm_model_path']+\"rlnm_theory.csv\")\n",
    "\n",
    "    ## convert frequencies to periods\n",
    "    pp=[]\n",
    "    for mm in range(len(ff)):\n",
    "        ppp = zeros(len(ff[mm]))\n",
    "        ppp[:-1] = 1/ff[mm][1:]\n",
    "        pp.append(ppp)\n",
    "\n",
    "    ##____________________________\n",
    "\n",
    "    NN = 3\n",
    "\n",
    "    fig, axes = plt.subplots(NN,1, figsize=(10,10), sharey=False, sharex=True)\n",
    "\n",
    "    plt.subplots_adjust(hspace=0.1)\n",
    "\n",
    "    font = 14\n",
    "\n",
    "    N = max(psds[0].shape[0], psds[1].shape[0], psds[2].shape[0])\n",
    "    colors = plt.cm.rainbow(linspace(0, 1, N))\n",
    "\n",
    "    ## add Frequency Axis\n",
    "    g = lambda x: 1/x\n",
    "    ax2 = axes[0].secondary_xaxis(\"top\", functions=(g,g))\n",
    "    ax2.set_xlabel(\"  Frequency (Hz)\", fontsize=font, labelpad=-5)\n",
    "    ax2.set_xticklabels(ff[2], fontsize=11)    \n",
    "    ax2.tick_params(axis='both', labelsize=font-2)\n",
    "\n",
    "\n",
    "    for j in range(NN):\n",
    "        for n, psd in enumerate(tqdm(psds[j])):\n",
    "            axes[j].loglog(pp[j], psd, color=colors[n], alpha=0.7)\n",
    "            p2 = axes[j].scatter(pp[j][0], psd[0], s=0., c=n, cmap='rainbow', vmin=0, vmax=N)\n",
    "\n",
    "        axes[j].loglog(pp[j], __get_minimum_psd(psds[j], ff[j]), 'grey', zorder=3, alpha=0.9, label=\"Minimum\")\n",
    "        axes[j].loglog(pp[j], __get_median_psd(psds[j]), 'black', zorder=3, alpha=0.9, label=\"Median\")\n",
    "        axes[j].loglog(rlnm['period'], rlnm['rlnm_psd_median'], color=\"black\", zorder=2, ls=\"--\", lw=2)\n",
    "\n",
    "        axes[j].grid(True, which=\"both\", ls=\"-\", alpha=0.5)\n",
    "        axes[j].legend(loc='lower left')\n",
    "        axes[j].tick_params(labelsize=font-2)\n",
    "\n",
    "        axes[j].text(6, 5e-25, \"RLNM\", fontsize=font, rotation=-30)\n",
    "\n",
    "        axes[j].set_xlim(config['period_limits'][0],config['period_limits'][1])\n",
    "#         axes[j].set_ylim(8e-27, 1e-17)\n",
    "\n",
    "\n",
    "    axes[NN-1].set_xlabel(\"  Period (s)\", fontsize=font, labelpad=-8)\n",
    "\n",
    "    ## panel labels\n",
    "    # axes[0].text(.01, .99, 'a)', ha='left', va='top', transform=axes[0].transAxes, fontsize=font+2)\n",
    "    # axes[1].text(.01, .99, 'b)', ha='left', va='top', transform=axes[1].transAxes, fontsize=font+2)\n",
    "    # axes[2].text(.01, .99, 'c)', ha='left', va='top', transform=axes[2].transAxes, fontsize=font+2)\n",
    "    axes[0].text(-.08, .99, 'a)', ha='left', va='top', transform=axes[0].transAxes, fontsize=font+2)\n",
    "    axes[1].text(-.08, .99, 'b)', ha='left', va='top', transform=axes[1].transAxes, fontsize=font+2)\n",
    "    axes[2].text(-.08, .99, 'c)', ha='left', va='top', transform=axes[2].transAxes, fontsize=font+2)\n",
    "\n",
    "\n",
    "    axes[0].set_ylabel(r\"PSD$_{vertical}$ (rad$^2$/s$^2$/$Hz)$\", fontsize=font)\n",
    "    axes[1].set_ylabel(r\"PSD$_{north}$ (rad$^2$/s$^2$/$Hz)$\", fontsize=font)\n",
    "    axes[2].set_ylabel(r\"PSD$_{east}$ (rad$^2$/s$^2$/$Hz)$\", fontsize=font)\n",
    "\n",
    "    ## set colorbar at bottom\n",
    "    cbar = fig.colorbar(p2, orientation='vertical', ax=axes.ravel().tolist(), aspect=50, pad=-1e-5)\n",
    "\n",
    "\n",
    "    ## redefine ticks of colorbar\n",
    "    if dates is not None:\n",
    "        new_ticks = []\n",
    "        for t in cbar.get_ticks():\n",
    "            new_ticks.append(dates.astype(str)[int(t)])\n",
    "        cbar.ax.set_yticklabels(new_ticks)\n",
    "\n",
    "    plt.show();\n",
    "    return fig"
   ]
  },
  {
   "cell_type": "code",
   "execution_count": null,
   "id": "8212745e",
   "metadata": {
    "ExecuteTime": {
     "end_time": "2023-06-20T13:05:06.405263Z",
     "start_time": "2023-06-20T13:05:06.405253Z"
    },
    "code_folding": [
     0
    ]
   },
   "outputs": [],
   "source": [
    "def __compute_medians(arr, intervall=100):\n",
    "\n",
    "    delta_i = int(intervall)\n",
    "    d1, d2 = 0, delta_i\n",
    "\n",
    "    meds = zeros((int(len(arr)/delta_i), shape(arr)[1]))\n",
    "    idx = 0\n",
    "    while d2 < len(arr):\n",
    "        meds[idx] = __get_median_psd(arr[d1:d2,:])\n",
    "        idx +=1\n",
    "        d1 += delta_i\n",
    "        d2 += delta_i\n",
    "\n",
    "    return meds"
   ]
  },
  {
   "cell_type": "code",
   "execution_count": null,
   "id": "eb6638be",
   "metadata": {
    "ExecuteTime": {
     "end_time": "2023-06-20T13:05:06.406208Z",
     "start_time": "2023-06-20T13:05:06.406198Z"
    }
   },
   "outputs": [],
   "source": [
    "meds_N = __compute_medians(ADR_N, intervall=24)\n",
    "meds_E = __compute_medians(ADR_E, intervall=24)\n",
    "meds_Z = __compute_medians(ADR_Z, intervall=24)"
   ]
  },
  {
   "cell_type": "code",
   "execution_count": null,
   "id": "956a9b34",
   "metadata": {
    "ExecuteTime": {
     "end_time": "2023-06-20T13:05:06.408066Z",
     "start_time": "2023-06-20T13:05:06.408056Z"
    }
   },
   "outputs": [],
   "source": [
    "nn = 100\n",
    "tmp = linspace(0, shape(ADR_Z)[0], shape(ADR_Z)[0])\n",
    "\n",
    "fig = __makeplot_colorlines_overview([ff_Z, ff_N, ff_E], [meds_Z, meds_N, meds_E], dates=tmp)"
   ]
  },
  {
   "cell_type": "code",
   "execution_count": null,
   "id": "71a074bf",
   "metadata": {
    "ExecuteTime": {
     "end_time": "2023-06-20T13:05:06.408871Z",
     "start_time": "2023-06-20T13:05:06.408861Z"
    }
   },
   "outputs": [],
   "source": [
    "# __savefig(fig, outpath=config['outpath_figures'], outname=f\"{name}_colorlines_selection\", mode=\"png\", dpi=300)"
   ]
  },
  {
   "cell_type": "markdown",
   "id": "6c0b90ee",
   "metadata": {
    "heading_collapsed": true
   },
   "source": [
    "## OLD PLOTS"
   ]
  },
  {
   "cell_type": "markdown",
   "id": "biblical-alloy",
   "metadata": {},
   "source": [
    "## Calculate and Plot Density"
   ]
  },
  {
   "cell_type": "code",
   "execution_count": null,
   "id": "9c352b03",
   "metadata": {
    "ExecuteTime": {
     "end_time": "2023-06-20T13:05:06.413298Z",
     "start_time": "2023-06-20T13:05:06.413289Z"
    }
   },
   "outputs": [],
   "source": [
    "# output = __calculate_density(psds, bins=100, density=True)"
   ]
  },
  {
   "cell_type": "code",
   "execution_count": null,
   "id": "4e5005fc",
   "metadata": {
    "ExecuteTime": {
     "end_time": "2023-06-20T13:05:06.415369Z",
     "start_time": "2023-06-20T13:05:06.415346Z"
    },
    "code_folding": [
     0
    ]
   },
   "outputs": [],
   "source": [
    "# def __makeplot_PPSD(ff, output, config, mode=None):\n",
    "\n",
    "#     from matplotlib import colors\n",
    "#     from numpy import ones, convolve, array, log10, roll, sqrt\n",
    "\n",
    "#     bins, bins_medians, bins_maximas, dist = output['bin_mids'], output['bins_medians'], output['bins_maximas'], output['dist']\n",
    "    \n",
    "#     if mode is \"DB\":\n",
    "#         y_axis = 10*log10(bins)\n",
    "#     elif mode is \"PSD\":\n",
    "#         y_axis = bins\n",
    "#     elif mode is \"ASD\":\n",
    "#         y_axis = sqrt(bins)\n",
    "        \n",
    "#     x_axis = ff\n",
    "\n",
    "#     ## plotting\n",
    "#     fig, ax = plt.subplots(1,1,figsize=(13,6))\n",
    "\n",
    "#     font=14\n",
    "\n",
    "#     cmap = plt.cm.get_cmap('magma_r')\n",
    "# #     cmap = plt.cm.get_cmap('gray_r')\n",
    "#     cmap.set_under(color='white')\n",
    "\n",
    "#     im = plt.pcolor(x_axis, y_axis, dist.T, \n",
    "#                     cmap=cmap,\n",
    "#                     vmin=1e-12, \n",
    "#                     alpha=0.99,\n",
    "#                    )\n",
    "\n",
    "#     ## add Frequency Axis\n",
    "#     g = lambda x: 1/x\n",
    "#     ax2 = ax.secondary_xaxis(\"top\", functions=(g,g))\n",
    "#     ax2.set_xlabel(\"Frequency in Hz\", fontsize=font, labelpad=5)\n",
    "#     ax2.set_xticklabels(1/ff, fontsize=11)    \n",
    "    \n",
    "    \n",
    "#     if mode is \"DB\":\n",
    "#         plt.plot(x_axis, 10*log10(bins_medians), color='black', alpha=0.5, label=\"RNLM\")\n",
    "#         plt.ylim(-200, -80)\n",
    "\n",
    "#     elif mode is \"PSD\":\n",
    "#         plt.plot(x_axis, bins_medians, color='black', alpha=0.5, label=\"RNLM\")\n",
    "#         plt.yscale('log')\n",
    "#         plt.ylim(10**-20, 10**-13)\n",
    "  \n",
    "#     elif mode is \"ASD\":  \n",
    "#         plt.plot(x_axis, sqrt(bins_medians), color='black', alpha=0.5, label=\"RNLM\")\n",
    "#         plt.yscale('log')\n",
    "#         plt.ylim(10**-10, 2*10**-7)\n",
    "\n",
    "    \n",
    "# #     plt.fill_betweenx(range(-270, -140), x1=0, x2=2.5, color=\"grey\", alpha=0.4)\n",
    "# #     plt.fill_betweenx(range(-270, -140), x1=200, x2=max(ff), color=\"grey\", alpha=0.4)\n",
    "\n",
    "#     ## modify x-axis\n",
    "#     plt.xscale('log')\n",
    "#     plt.xlim([min(x_axis), max(x_axis)])\n",
    "# #     plt.xlim(1, 300)\n",
    "    \n",
    "#     ## add colorbar\n",
    "#     caxes = fig.add_axes()\n",
    "#     cb = plt.colorbar(im, cax=caxes, alpha=1.0)\n",
    "    \n",
    "#     if output['set_density']:\n",
    "#         cb.set_label(\"Propability Density\", fontsize=font)\n",
    "#     else:\n",
    "#         cb.set_label(\"Counts\", fontsize=font)\n",
    "#         cb.set_label(\"Propability Density\", fontsize=font)\n",
    "    \n",
    "#     if mode is \"DB\":\n",
    "# #         plt.ylabel(r\"PPSD in dB (rel. to 1 m$^4$/s$^2$/$Hz$)\", fontsize=font)\n",
    "#         plt.ylabel(r\"PPSD in dB (rel. to 1 rad$^2$/s$^2$/$Hz$)\", fontsize=font)\n",
    "#     elif mode is \"PSD\":\n",
    "# #         plt.ylabel(r\"PPSD in m$^4$/s$^2$/$Hz$\", fontsize=font)\n",
    "#         plt.ylabel(r\"PPSD in $\\frac{rad^2}{s^2 Hz}$\", fontsize=font)\n",
    "#     elif mode is \"ASD\":\n",
    "#         plt.ylabel(r\"PASD in $\\frac{rad}{s \\sqrt{Hz}}$\", fontsize=font)\n",
    "        \n",
    "#     plt.grid(axis=\"both\", which=\"both\", ls=\"--\", zorder=0)\n",
    "#     plt.legend()\n",
    "    \n",
    "#     plt.xlabel(\"Period in seconds\", fontsize=font)\n",
    "\n",
    "#     plt.tick_params(axis='both', labelsize=font-2)\n",
    "\n",
    "#     plt.show();\n",
    "#     return fig"
   ]
  },
  {
   "cell_type": "code",
   "execution_count": null,
   "id": "f25eeaa9",
   "metadata": {
    "ExecuteTime": {
     "end_time": "2023-06-20T13:05:06.416911Z",
     "start_time": "2023-06-20T13:05:06.416889Z"
    }
   },
   "outputs": [],
   "source": [
    "# fig = __makeplot_PPSD(ff, output, config, mode=\"ASD\")"
   ]
  },
  {
   "cell_type": "code",
   "execution_count": null,
   "id": "bd06a81e",
   "metadata": {
    "ExecuteTime": {
     "end_time": "2022-05-04T14:08:39.999086Z",
     "start_time": "2022-05-04T14:08:39.995422Z"
    }
   },
   "outputs": [],
   "source": []
  },
  {
   "cell_type": "code",
   "execution_count": null,
   "id": "82aff0c2",
   "metadata": {},
   "outputs": [],
   "source": []
  }
 ],
 "metadata": {
  "kernelspec": {
   "display_name": "Python 3 (ipykernel)",
   "language": "python",
   "name": "python3"
  },
  "language_info": {
   "codemirror_mode": {
    "name": "ipython",
    "version": 3
   },
   "file_extension": ".py",
   "mimetype": "text/x-python",
   "name": "python",
   "nbconvert_exporter": "python",
   "pygments_lexer": "ipython3",
   "version": "3.10.12"
  },
  "latex_envs": {
   "LaTeX_envs_menu_present": true,
   "autoclose": false,
   "autocomplete": true,
   "bibliofile": "biblio.bib",
   "cite_by": "apalike",
   "current_citInitial": 1,
   "eqLabelWithNumbers": true,
   "eqNumInitial": 1,
   "hotkeys": {
    "equation": "Ctrl-E",
    "itemize": "Ctrl-I"
   },
   "labels_anchors": false,
   "latex_user_defs": false,
   "report_style_numbering": false,
   "user_envs_cfg": false
  },
  "toc": {
   "base_numbering": 1,
   "nav_menu": {},
   "number_sections": true,
   "sideBar": true,
   "skip_h1_title": false,
   "title_cell": "Table of Contents",
   "title_sidebar": "Contents",
   "toc_cell": false,
   "toc_position": {},
   "toc_section_display": true,
   "toc_window_display": false
  },
  "varInspector": {
   "cols": {
    "lenName": 16,
    "lenType": 16,
    "lenVar": 40
   },
   "kernels_config": {
    "python": {
     "delete_cmd_postfix": "",
     "delete_cmd_prefix": "del ",
     "library": "var_list.py",
     "varRefreshCmd": "print(var_dic_list())"
    },
    "r": {
     "delete_cmd_postfix": ") ",
     "delete_cmd_prefix": "rm(",
     "library": "var_list.r",
     "varRefreshCmd": "cat(var_dic_list()) "
    }
   },
   "types_to_exclude": [
    "module",
    "function",
    "builtin_function_or_method",
    "instance",
    "_Feature"
   ],
   "window_display": false
  }
 },
 "nbformat": 4,
 "nbformat_minor": 5
}
