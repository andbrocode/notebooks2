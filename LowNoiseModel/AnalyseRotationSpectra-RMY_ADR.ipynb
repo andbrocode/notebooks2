{
 "cells": [
  {
   "cell_type": "markdown",
   "id": "eda030d3",
   "metadata": {},
   "source": [
    "# Analyse Rotation Spectra - RMY - ADR Data"
   ]
  },
  {
   "cell_type": "markdown",
   "id": "protected-presentation",
   "metadata": {},
   "source": [
    "## Load Libraries"
   ]
  },
  {
   "cell_type": "code",
   "execution_count": 1,
   "id": "behind-arrangement",
   "metadata": {
    "ExecuteTime": {
     "end_time": "2022-11-10T16:49:29.991423Z",
     "start_time": "2022-11-10T16:49:26.852618Z"
    }
   },
   "outputs": [],
   "source": [
    "from andbro__querrySeismoData import __querrySeismoData\n",
    "from obspy import UTCDateTime\n",
    "from scipy.signal import welch\n",
    "from numpy import log10, zeros, pi, append, linspace, mean, median, array, where, transpose, shape, histogram, arange\n",
    "from numpy import logspace, linspace, log, log10, isinf, ones, nan, count_nonzero, sqrt, isnan\n",
    "from pandas import DataFrame, concat, Series, date_range, read_csv, read_pickle\n",
    "from tqdm import tqdm_notebook\n",
    "from pathlib import Path\n",
    "from scipy.stats import median_absolute_deviation as mad\n",
    "\n",
    "import os\n",
    "import pickle\n",
    "import matplotlib.pyplot as plt"
   ]
  },
  {
   "cell_type": "code",
   "execution_count": 2,
   "id": "c610ca8c",
   "metadata": {
    "ExecuteTime": {
     "end_time": "2022-11-10T16:49:29.995387Z",
     "start_time": "2022-11-10T16:49:29.992728Z"
    }
   },
   "outputs": [],
   "source": [
    "if os.uname().nodename == \"lighthouse\":\n",
    "    root_path = \"/home/andbro/kilauea-data/\"\n",
    "elif os.uname().nodename == \"kilauea\":\n",
    "    root_path = \"/import/kilauea-data/\""
   ]
  },
  {
   "cell_type": "code",
   "execution_count": 3,
   "id": "e4858b93",
   "metadata": {
    "ExecuteTime": {
     "end_time": "2022-11-10T16:49:30.010837Z",
     "start_time": "2022-11-10T16:49:29.996596Z"
    },
    "code_folding": [
     0
    ]
   },
   "outputs": [],
   "source": [
    "def __get_minimal_psd(psds):\n",
    "\n",
    "    from numpy import nanmin, array, nonzero, zeros\n",
    "    \n",
    "    min_psd = zeros(psds.shape[1])\n",
    "    \n",
    "    for f in range(psds.shape[1]):\n",
    "        a = psds[:,f]\n",
    "        min_psd[f] = nanmin(a[nonzero(a)])\n",
    "    \n",
    "    return min_psd"
   ]
  },
  {
   "cell_type": "code",
   "execution_count": 4,
   "id": "d377053c",
   "metadata": {
    "ExecuteTime": {
     "end_time": "2022-11-10T16:49:30.027205Z",
     "start_time": "2022-11-10T16:49:30.012018Z"
    },
    "code_folding": [
     0
    ]
   },
   "outputs": [],
   "source": [
    "def __get_median_psd(psds):\n",
    "\n",
    "    from numpy import median, zeros, isnan\n",
    "\n",
    "    med_psd = zeros(psds.shape[1])\n",
    "\n",
    "    for f in range(psds.shape[1]):\n",
    "        a = psds[:,f]\n",
    "        med_psd[f] = median(a[~isnan(a)])\n",
    "\n",
    "    return med_psd"
   ]
  },
  {
   "cell_type": "code",
   "execution_count": 5,
   "id": "af6a3772",
   "metadata": {
    "ExecuteTime": {
     "end_time": "2022-11-10T16:49:30.043296Z",
     "start_time": "2022-11-10T16:49:30.028389Z"
    },
    "code_folding": [
     0
    ]
   },
   "outputs": [],
   "source": [
    "def __get_minimum_psd(psds, f_tmp):\n",
    "    \n",
    "    from numpy import median\n",
    "    \n",
    "    f_before = f_tmp[0]\n",
    "    f_tmp[0] = 1e-9\n",
    "    \n",
    "    for i, psd in enumerate(psds):\n",
    "        if i == 0: \n",
    "            lowest_value = (psds[0]/f_tmp).sum()\n",
    "#             lowest_value = median(psds[0]/f_tmp)\n",
    "            idx = 0\n",
    "\n",
    "        value = (psd/f_tmp).sum() \n",
    "#         value = median(psd/f_tmp)\n",
    "        \n",
    "        if value < lowest_value and value != 0:\n",
    "            lowest_value = value\n",
    "            idx = i\n",
    "\n",
    "    f_tmp[0] = f_before      \n",
    "    \n",
    "    return psds[idx]"
   ]
  },
  {
   "cell_type": "code",
   "execution_count": 6,
   "id": "df484686",
   "metadata": {
    "ExecuteTime": {
     "end_time": "2022-11-10T16:49:30.062090Z",
     "start_time": "2022-11-10T16:49:30.044441Z"
    },
    "code_folding": [
     0
    ]
   },
   "outputs": [],
   "source": [
    "def __write_to_csv(data, text, config):\n",
    "    \n",
    "    import csv\n",
    "    \n",
    "    opath = config['outpath']\n",
    "    oname = config['outname']+\"_\"+text+\"_psd.csv\"\n",
    "    \n",
    "    # open the file in the write mode\n",
    "    with open(opath+oname, 'w') as file:\n",
    "\n",
    "        writer = csv.writer(file)\n",
    "        for row in data:\n",
    "            writer.writerow(row)\n",
    "            \n",
    "    if Path(opath+oname).exists():\n",
    "        print(f\"created: {opath}{oname}\")"
   ]
  },
  {
   "cell_type": "code",
   "execution_count": 7,
   "id": "fe2e4201",
   "metadata": {
    "ExecuteTime": {
     "end_time": "2022-11-10T16:49:30.078619Z",
     "start_time": "2022-11-10T16:49:30.063173Z"
    },
    "code_folding": [
     0
    ]
   },
   "outputs": [],
   "source": [
    "def __load_psds(file, config):\n",
    "\n",
    "    ## get data to dataframe and transpose and reindex\n",
    "    df = read_csv(file, index_col=False)\n",
    "    df = df.transpose()\n",
    "    df.reset_index(inplace=True)\n",
    "    # df.dtypes\n",
    "    # df.mean()\n",
    "\n",
    "    ## set column names\n",
    "    try:\n",
    "        columns = pickle.load(open(f\"{config['inpath']}{config['inname']}_columns.pick\", 'rb'))\n",
    "        df.columns = [column.replace(\"-\",\"\") for column in columns]\n",
    "    except:\n",
    "        columns = arange(0,df.shape[1]).astype(str)\n",
    "        df.columns = columns\n",
    "        print(\" -> Failed to assign column names! Assigned numbers instead!\")\n",
    "\n",
    "    ## check for column dublicates\n",
    "    if len(df.columns.unique()) != len(df.columns):\n",
    "        print(f\" -> removing {len(df.columns)-len(df.columns.unique())} column dublicate(s)!\")\n",
    "        df = df.loc[:,~df.columns.duplicated()]\n",
    "\n",
    "    count=0\n",
    "    dates_expected = date_range(config['date1'].date, config['date2'].date, periods=int((config['date2']-config['date1'])/86400)+1)\n",
    "    for dex in dates_expected:\n",
    "        dex=str(dex.isoformat()[:10]).replace(\"-\",\"\")\n",
    "        if not dex in df.columns:\n",
    "            count+=1\n",
    "    print(f\" -> missing {count} days\")\n",
    "        \n",
    "    print(f\" -> total of {df.shape[0]} psds\")\n",
    "        \n",
    "#     ## convert to list\n",
    "#     psds = []\n",
    "#     for col in array(df.columns):\n",
    "        \n",
    "#         ## turn non-float series to float objects\n",
    "#         df[col] = pd.to_numeric(df[col], errors = 'coerce')\n",
    "\n",
    "#         ## add to psds list\n",
    "#         psds.append(array(df[col]))\n",
    "        \n",
    "    return df"
   ]
  },
  {
   "cell_type": "code",
   "execution_count": 8,
   "id": "d4ffd698",
   "metadata": {
    "ExecuteTime": {
     "end_time": "2022-11-10T16:49:30.139644Z",
     "start_time": "2022-11-10T16:49:30.080247Z"
    },
    "code_folding": [
     0
    ]
   },
   "outputs": [],
   "source": [
    "def __get_array_from_dataframe(df):\n",
    "    \n",
    "    from pandas import to_numeric\n",
    "    \n",
    "    ## convert to list\n",
    "    psds = []\n",
    "    for col in array(df.columns):\n",
    "        \n",
    "        ## turn non-float series to float objects\n",
    "        df[col] = to_numeric(df[col], errors = 'coerce')\n",
    "\n",
    "        ## add to psds list\n",
    "        psds.append(array(df[col]))\n",
    "\n",
    "    return array(psds)"
   ]
  },
  {
   "cell_type": "code",
   "execution_count": 9,
   "id": "21d2d997",
   "metadata": {
    "ExecuteTime": {
     "end_time": "2022-11-10T16:49:30.196425Z",
     "start_time": "2022-11-10T16:49:30.140884Z"
    },
    "code_folding": [
     0
    ]
   },
   "outputs": [],
   "source": [
    "def __remove_noisy_psds(df, threshold_mean=1e-13):\n",
    "\n",
    "    from numpy import delete\n",
    "    \n",
    "    l1 = len(df.columns)\n",
    "    for col in df.columns:\n",
    "#         print(col, type(col))\n",
    "        if df[col].astype(float).mean() > threshold_mean:\n",
    "            df = df.drop(columns=col)\n",
    "    l2 = len(df.columns)\n",
    "    print(f\" -> removed {l1-l2} columns due to mean thresholds!\")\n",
    "    print(f\" -> {l2} psds remain\")\n",
    "    \n",
    "    return df"
   ]
  },
  {
   "cell_type": "code",
   "execution_count": 10,
   "id": "b86aa31f",
   "metadata": {
    "ExecuteTime": {
     "end_time": "2022-11-10T16:49:30.381265Z",
     "start_time": "2022-11-10T16:49:30.197264Z"
    }
   },
   "outputs": [
    {
     "name": "stdout",
     "output_type": "stream",
     "text": [
      "overview\t\t     run_2019_RLAS-Z_3600\r\n",
      "run_2019_FUR-Z_3600\t     run_2019_RLAS-Z_3600_hours\r\n",
      "run_2019_FUR-Z_3600_testday  run_2019_RLAS-Z_3600_testday\r\n",
      "run_2019_RGRF-_3600_GRA2     run_2019_ROMY_ADR-E_3600\r\n",
      "run_2019_RGRF-E_3600_GRA     run_2019_ROMY_ADR-E_3600_all\r\n",
      "run_2019_RGRF-E_3600_GRA1    run_2019_ROMY_ADR-E_3600_inner\r\n",
      "run_2019_RGRF-E_3600_GRA2    run_2019_ROMY_ADR-E_3600_optimal\r\n",
      "run_2019_RGRF-E_3600_GRB     run_2019_ROMY_ADR-N_3600_all\r\n",
      "run_2019_RGRF-E_3600_GRB1    run_2019_ROMY_ADR-N_3600_inner\r\n",
      "run_2019_RGRF-E_3600_GRB2    run_2019_ROMY_ADR-N_3600_optimal\r\n",
      "run_2019_RGRF-E_3600_GRC     run_2019_ROMY_ADR-Z_3600\r\n",
      "run_2019_RGRF-E_3600_GRC1    run_2019_ROMY_ADR-Z_3600_all\r\n",
      "run_2019_RGRF-E_3600_GRC2    run_2019_ROMY_ADR-Z_3600_classic\r\n",
      "run_2019_RGRF-E_3600_GRF     run_2019_ROMY_ADR-Z_3600_inner\r\n",
      "run_2019_RGRF-E_3600_GRF1    run_2019_ROMY_ADR-Z_3600_optimal\r\n",
      "run_2019_RGRF-E_3600_GRF2    run_2019_ROMY-E_3600\r\n",
      "run_2019_RGRF-E_3600_GRF3    run_2019_ROMY-U_3600_hours\r\n",
      "run_2019_RGRF-N_3600_GRA     run_2019_ROMY-V_3600_hours\r\n",
      "run_2019_RGRF-N_3600_GRA1    run_2019_ROMY-W_3600_hours\r\n",
      "run_2019_RGRF-N_3600_GRA2    run_2019_ROMY-Z_3600\r\n",
      "run_2019_RGRF-N_3600_GRB     run_2019_ROMY-Z_3600_2hours\r\n",
      "run_2019_RGRF-N_3600_GRB1    run_2019_ROMY-Z_3600_hours\r\n",
      "run_2019_RGRF-N_3600_GRB2    run_2019_ROMY-Z_3600_inner\r\n",
      "run_2019_RGRF-N_3600_GRC     run_2019_ROMY-Z_3600_testday\r\n",
      "run_2019_RGRF-N_3600_GRC1    run_2019_RPFO-E_3600\r\n",
      "run_2019_RGRF-N_3600_GRC2    run_2019_RPFO-E_3600_test\r\n",
      "run_2019_RGRF-N_3600_GRF     run_2019_RPFO-N_3600\r\n",
      "run_2019_RGRF-N_3600_GRF1    run_2019_RPFO-N_3600_test\r\n",
      "run_2019_RGRF-N_3600_GRF2    run_2019_RPFO-Z_3600\r\n",
      "run_2019_RGRF-N_3600_GRF3    run_2019_RPFO-Z_3600_control\r\n",
      "run_2019_RGRF-N_3600_run     run_2019_RPFO-Z_3600_test\r\n",
      "run_2019_RGRF-N_3600_run10   run_2019_WET-Z_3600\r\n",
      "run_2019_RGRF-N_3600_run11   run_2019_WET-Z_3600_testday\r\n",
      "run_2019_RGRF-N_3600_run6    run_2021_ROMY_ADR-E_3600\r\n",
      "run_2019_RGRF-N_3600_run7    run_2021_ROMY_ADR-N_3600\r\n",
      "run_2019_RGRF-N_3600_run8    run_2021_RPFO-E_3600\r\n",
      "run_2019_RGRF-N_3600_run9    run_2021_RPFO-E_3600_control\r\n",
      "run_2019_RGRF-Z_3600_GRA     run_2021_RPFO-N_3600\r\n",
      "run_2019_RGRF-Z_3600_GRA1    run_2021_RPFO-N_3600_control\r\n",
      "run_2019_RGRF-Z_3600_GRA2    run_2021_RPFO-Z_3600\r\n",
      "run_2019_RGRF-Z_3600_GRB     run_2021_RPFO-Z_3600_control\r\n",
      "run_2019_RGRF-Z_3600_GRB1    run_2022_DROMY-Z_3600_hours\r\n",
      "run_2019_RGRF-Z_3600_GRB2    run_2022_ROMY_ADR-E_3600\r\n",
      "run_2019_RGRF-Z_3600_GRC     run_2022_ROMY_ADR-E_3600_classic\r\n",
      "run_2019_RGRF-Z_3600_GRC1    run_2022_ROMY_ADR-N_3600\r\n",
      "run_2019_RGRF-Z_3600_GRC2    run_2022_ROMY_ADR-N_3600_classic\r\n",
      "run_2019_RGRF-Z_3600_GRF     run_2022_ROMY_ADR-Z_3600\r\n",
      "run_2019_RGRF-Z_3600_GRF1    run_2022_ROMY_ADR-Z_3600_classic\r\n",
      "run_2019_RGRF-Z_3600_GRF2    run_2022_ROMY-E_3600_all\r\n",
      "run_2019_RGRF-Z_3600_run1    run_2022_ROMY-E_3600_inner\r\n",
      "run_2019_RGRF-Z_3600_run10   run_2022_ROMY-N_3600_all\r\n",
      "run_2019_RGRF-Z_3600_run2    run_2022_ROMY-N_3600_inner\r\n",
      "run_2019_RGRF-Z_3600_run3    run_2022_ROMY-V_3600\r\n",
      "run_2019_RGRF-Z_3600_run4    run_2022_ROMY-Z_3600\r\n",
      "run_2019_RGRF-Z_3600_run5    run_2022_ROMY-Z_3600_all\r\n",
      "run_2019_RGRF-Z_3600_run6    run_2022_ROMY-Z_3600_hours\r\n",
      "run_2019_RGRF-Z_3600_run7    run_2022_ROMY-Z_3600_inner\r\n",
      "run_2019_RGRF-Z_3600_run8    testinterval\r\n",
      "run_2019_RGRF-Z_3600_run9\r\n"
     ]
    }
   ],
   "source": [
    "!ls \"/import/kilauea-data/ROMY/RotationSpectra/data/\""
   ]
  },
  {
   "cell_type": "markdown",
   "id": "subject-expression",
   "metadata": {},
   "source": [
    "## Configurations"
   ]
  },
  {
   "cell_type": "code",
   "execution_count": 11,
   "id": "e89d22a7",
   "metadata": {
    "ExecuteTime": {
     "end_time": "2022-11-10T16:49:30.421177Z",
     "start_time": "2022-11-10T16:49:30.382540Z"
    }
   },
   "outputs": [],
   "source": [
    "component = 'Z'\n",
    "\n",
    "array = 'optimal'\n",
    "\n",
    "inname = f\"run_2019_ROMY_ADR-{component}_3600_{array}\"\n",
    "inpath = f\"{root_path}/ROMY/RotationSpectra/data/{inname}/\"\n",
    "\n",
    "# config = pickle.load(open(inpath+inname+\"_config.pick\", 'rb'))\n",
    "config = pickle.load(open(inpath+inname+\"_config.pkl\", 'rb'))\n",
    "\n",
    "config['save'] = True\n",
    "\n",
    "config['component'] = component\n",
    "\n",
    "config['inname'] = inname\n",
    "config['inpath'] = inpath\n",
    "\n",
    "config['frequency_limits'] = [1/300, 1]"
   ]
  },
  {
   "cell_type": "markdown",
   "id": "natural-beginning",
   "metadata": {},
   "source": [
    "## Loading & Processing"
   ]
  },
  {
   "cell_type": "code",
   "execution_count": 12,
   "id": "1d9ee684",
   "metadata": {
    "ExecuteTime": {
     "end_time": "2022-11-10T16:49:30.549304Z",
     "start_time": "2022-11-10T16:49:30.422429Z"
    }
   },
   "outputs": [
    {
     "name": "stdout",
     "output_type": "stream",
     "text": [
      " -> loading /import/kilauea-data//ROMY/RotationSpectra/data/run_2019_ROMY_ADR-Z_3600_optimal/run_2019_ROMY_ADR-Z_3600_optimal_daily_medians.pkl ...\n"
     ]
    },
    {
     "ename": "FileNotFoundError",
     "evalue": "[Errno 2] No such file or directory: '/import/kilauea-data//ROMY/RotationSpectra/data/run_2019_ROMY_ADR-Z_3600_optimal/run_2019_ROMY_ADR-Z_3600_optimal_daily_medians.pkl'",
     "output_type": "error",
     "traceback": [
      "\u001b[0;31m---------------------------------------------------------------------------\u001b[0m",
      "\u001b[0;31mFileNotFoundError\u001b[0m                         Traceback (most recent call last)",
      "\u001b[0;32m<ipython-input-12-5e5086924f36>\u001b[0m in \u001b[0;36m<module>\u001b[0;34m\u001b[0m\n\u001b[1;32m      3\u001b[0m \u001b[0;34m\u001b[0m\u001b[0m\n\u001b[1;32m      4\u001b[0m \u001b[0mprint\u001b[0m\u001b[0;34m(\u001b[0m\u001b[0;34mf\" -> loading {file} ...\"\u001b[0m\u001b[0;34m)\u001b[0m\u001b[0;34m\u001b[0m\u001b[0;34m\u001b[0m\u001b[0m\n\u001b[0;32m----> 5\u001b[0;31m \u001b[0mpsds_all\u001b[0m \u001b[0;34m=\u001b[0m \u001b[0mread_pickle\u001b[0m\u001b[0;34m(\u001b[0m\u001b[0mfile\u001b[0m\u001b[0;34m)\u001b[0m\u001b[0;34m\u001b[0m\u001b[0;34m\u001b[0m\u001b[0m\n\u001b[0m\u001b[1;32m      6\u001b[0m \u001b[0;34m\u001b[0m\u001b[0m\n\u001b[1;32m      7\u001b[0m \u001b[0;31m## load frequencies\u001b[0m\u001b[0;34m\u001b[0m\u001b[0;34m\u001b[0m\u001b[0;34m\u001b[0m\u001b[0m\n",
      "\u001b[0;32m~/anaconda3/lib/python3.7/site-packages/pandas/io/pickle.py\u001b[0m in \u001b[0;36mread_pickle\u001b[0;34m(filepath_or_buffer, compression, storage_options)\u001b[0m\n\u001b[1;32m    199\u001b[0m         \u001b[0mcompression\u001b[0m\u001b[0;34m=\u001b[0m\u001b[0mcompression\u001b[0m\u001b[0;34m,\u001b[0m\u001b[0;34m\u001b[0m\u001b[0;34m\u001b[0m\u001b[0m\n\u001b[1;32m    200\u001b[0m         \u001b[0mis_text\u001b[0m\u001b[0;34m=\u001b[0m\u001b[0;32mFalse\u001b[0m\u001b[0;34m,\u001b[0m\u001b[0;34m\u001b[0m\u001b[0;34m\u001b[0m\u001b[0m\n\u001b[0;32m--> 201\u001b[0;31m         \u001b[0mstorage_options\u001b[0m\u001b[0;34m=\u001b[0m\u001b[0mstorage_options\u001b[0m\u001b[0;34m,\u001b[0m\u001b[0;34m\u001b[0m\u001b[0;34m\u001b[0m\u001b[0m\n\u001b[0m\u001b[1;32m    202\u001b[0m     ) as handles:\n\u001b[1;32m    203\u001b[0m \u001b[0;34m\u001b[0m\u001b[0m\n",
      "\u001b[0;32m~/anaconda3/lib/python3.7/site-packages/pandas/io/common.py\u001b[0m in \u001b[0;36mget_handle\u001b[0;34m(path_or_buf, mode, encoding, compression, memory_map, is_text, errors, storage_options)\u001b[0m\n\u001b[1;32m    709\u001b[0m         \u001b[0;32melse\u001b[0m\u001b[0;34m:\u001b[0m\u001b[0;34m\u001b[0m\u001b[0;34m\u001b[0m\u001b[0m\n\u001b[1;32m    710\u001b[0m             \u001b[0;31m# Binary mode\u001b[0m\u001b[0;34m\u001b[0m\u001b[0;34m\u001b[0m\u001b[0;34m\u001b[0m\u001b[0m\n\u001b[0;32m--> 711\u001b[0;31m             \u001b[0mhandle\u001b[0m \u001b[0;34m=\u001b[0m \u001b[0mopen\u001b[0m\u001b[0;34m(\u001b[0m\u001b[0mhandle\u001b[0m\u001b[0;34m,\u001b[0m \u001b[0mioargs\u001b[0m\u001b[0;34m.\u001b[0m\u001b[0mmode\u001b[0m\u001b[0;34m)\u001b[0m\u001b[0;34m\u001b[0m\u001b[0;34m\u001b[0m\u001b[0m\n\u001b[0m\u001b[1;32m    712\u001b[0m         \u001b[0mhandles\u001b[0m\u001b[0;34m.\u001b[0m\u001b[0mappend\u001b[0m\u001b[0;34m(\u001b[0m\u001b[0mhandle\u001b[0m\u001b[0;34m)\u001b[0m\u001b[0;34m\u001b[0m\u001b[0;34m\u001b[0m\u001b[0m\n\u001b[1;32m    713\u001b[0m \u001b[0;34m\u001b[0m\u001b[0m\n",
      "\u001b[0;31mFileNotFoundError\u001b[0m: [Errno 2] No such file or directory: '/import/kilauea-data//ROMY/RotationSpectra/data/run_2019_ROMY_ADR-Z_3600_optimal/run_2019_ROMY_ADR-Z_3600_optimal_daily_medians.pkl'"
     ]
    }
   ],
   "source": [
    "## load set of minimum psds\n",
    "file = f\"{config['inpath']}{config['inname']}_daily_medians.pkl\"\n",
    "\n",
    "print(f\" -> loading {file} ...\")\n",
    "psds_all = read_pickle(file)\n",
    "\n",
    "## load frequencies\n",
    "ff = pickle.load(open(f\"{config['inpath']}{config['inname']}_frequency_axis.pkl\", 'rb'))"
   ]
  },
  {
   "cell_type": "code",
   "execution_count": null,
   "id": "2b8b1666",
   "metadata": {
    "ExecuteTime": {
     "end_time": "2022-11-10T16:49:30.551089Z",
     "start_time": "2022-11-10T16:49:26.877Z"
    },
    "code_folding": []
   },
   "outputs": [],
   "source": [
    "if \"RLAS-Z\" in config['inname'].split(\"_\"):\n",
    "    psds_all = __remove_noisy_psds(psds_all, threshold_mean=1e-21)\n",
    "elif \"ROMY-Z\" in config['inname'].split(\"_\"):\n",
    "    psds_all = __remove_noisy_psds(psds_all, threshold_mean=1e-19)\n",
    "elif \"ROMY\" in config['inname'].split(\"_\") and \"ADR\" in config['inname'].split(\"-\")[0].split(\"_\"):\n",
    "    psds_all = __remove_noisy_psds(psds_all, threshold_mean=1e-18)"
   ]
  },
  {
   "cell_type": "markdown",
   "id": "569ab3ef",
   "metadata": {},
   "source": [
    "Convert dataframes to array / matrix"
   ]
  },
  {
   "cell_type": "code",
   "execution_count": null,
   "id": "7815ff60",
   "metadata": {
    "ExecuteTime": {
     "end_time": "2022-11-10T16:49:30.551878Z",
     "start_time": "2022-11-10T16:49:26.880Z"
    }
   },
   "outputs": [],
   "source": [
    "psds = __get_array_from_dataframe(psds_all)\n",
    "\n",
    "columns = psds_all.columns"
   ]
  },
  {
   "cell_type": "markdown",
   "id": "19830098",
   "metadata": {},
   "source": [
    "Cut to frequency axis and matrices to frequency limits as specified in config"
   ]
  },
  {
   "cell_type": "code",
   "execution_count": null,
   "id": "d0252962",
   "metadata": {
    "ExecuteTime": {
     "end_time": "2022-11-10T16:49:30.552665Z",
     "start_time": "2022-11-10T16:49:26.884Z"
    }
   },
   "outputs": [],
   "source": [
    "ind = []\n",
    "for i,f in enumerate(ff):\n",
    "    if f >= config['frequency_limits'][0] and f <= config['frequency_limits'][1]:\n",
    "        ind.append(i)\n",
    "\n",
    "ff = ff[ind[0]:ind[-1]]\n",
    "psds = psds[:,ind[0]:ind[-1]]"
   ]
  },
  {
   "cell_type": "markdown",
   "id": "775c54a0",
   "metadata": {},
   "source": [
    "Compute median, minium and minimal PSD and store it as DataFrame"
   ]
  },
  {
   "cell_type": "code",
   "execution_count": null,
   "id": "252284bd",
   "metadata": {
    "ExecuteTime": {
     "end_time": "2022-11-10T16:49:30.553501Z",
     "start_time": "2022-11-10T16:49:26.886Z"
    }
   },
   "outputs": [],
   "source": [
    "psds_minimal = __get_minimal_psd(array(psds))\n",
    "psds_median = __get_median_psd(array(psds))\n",
    "# psds_minimum = __get_minimum_psd(array(psds), ff)"
   ]
  },
  {
   "cell_type": "code",
   "execution_count": null,
   "id": "8a0cdecd",
   "metadata": {
    "ExecuteTime": {
     "end_time": "2022-11-10T16:49:30.554430Z",
     "start_time": "2022-11-10T16:49:26.887Z"
    }
   },
   "outputs": [],
   "source": [
    "out_df = DataFrame()\n",
    "\n",
    "out_df['frequencies'] = ff\n",
    "out_df['minimal'] = psds_minimal\n",
    "out_df['median'] = psds_median\n",
    "\n",
    "print(f\" -> writing {config['inpath']}{config['inname']}_stats.pkl\")\n",
    "out_df.to_pickle(f\"{config['inpath']}{config['inname']}_stats.pkl\")"
   ]
  },
  {
   "cell_type": "markdown",
   "id": "086fd5d0",
   "metadata": {},
   "source": [
    "## Plotting"
   ]
  },
  {
   "cell_type": "code",
   "execution_count": null,
   "id": "ce64c931",
   "metadata": {
    "ExecuteTime": {
     "end_time": "2022-11-10T16:49:30.555549Z",
     "start_time": "2022-11-10T16:49:26.890Z"
    },
    "code_folding": [
     0
    ]
   },
   "outputs": [],
   "source": [
    "def __makeplot_colorlines(config, ff, psds, columns):\n",
    "\n",
    "    from numpy import isnan, median, mean, std, array, zeros, linspace\n",
    "    from scipy.stats import median_abs_deviation as mad\n",
    "    \n",
    "    psds_median, psds_mean, psds_std, psds_mad = [],[],[],[]\n",
    "    for fcross in range(psds.shape[1]):\n",
    "        data = psds[:,fcross]\n",
    "        psds_median.append(median(data[~isnan(data)]))\n",
    "        psds_mean.append(mean(data[~isnan(data)]))\n",
    "        psds_std.append(std(data[~isnan(data)]))\n",
    "        psds_mad.append(mad(data[~isnan(data)]))\n",
    "        \n",
    "    psds_minimal = __get_minimal_psd(array(psds))\n",
    "#     psds_minimum = __get_minimum_psd(array(psds), ff)\n",
    "    \n",
    "        \n",
    "    ##____________________________\n",
    "    \n",
    "    fig, ax = plt.subplots(1,1, figsize=(15,10), sharey=False, sharex=True)\n",
    "\n",
    "    font = 15\n",
    "\n",
    "    N = psds.shape[0]\n",
    "    colors = plt.cm.rainbow(linspace(0, 1, N))\n",
    "\n",
    "\n",
    "    for n, psd in enumerate(psds):\n",
    "        ax.loglog(ff, psd, color=colors[n], alpha=0.7)\n",
    "\n",
    "\n",
    "    ## add scatter for colorbar object only\n",
    "    for n, psd in enumerate(psds):\n",
    "        p2 = ax.scatter(ff[0], psd[0], s=0., c=n, cmap='rainbow', vmin=0, vmax=N)\n",
    "\n",
    "\n",
    "    ax.loglog(ff, psds_median, 'black', zorder=3, alpha=0.9)\n",
    "#     ax.loglog(ff, psds_mean, 'black', zorder=3, alpha=0.9)\n",
    "    ax.loglog(ff, psds_minimal, 'grey', zorder=2, alpha=1.0)\n",
    "#     ax.loglog(ff, psds_minimum, 'k', zorder=2, alpha=0.8)\n",
    "    \n",
    "    ## theoretical rlnm\n",
    "    rlnm = read_csv(\"/export/data/LNM/data/MODELS/rlnm_theory.csv\")\n",
    "    ax.loglog(rlnm['period'], rlnm['rlnm_psd_median'], color=\"grey\", zorder=2, lw=2, label=\"RLNM\")\n",
    "\n",
    "#     ax.set_title(\"Minimal PSD\", fontsize=font)\n",
    "#     ax.set_title(\"Minimum PSD\", fontsize=font)\n",
    "\n",
    "#     ax.set_xlabel(\"Frequency (Hz)\", fontsize=font)\n",
    "    ax.set_xlabel(\"Period (s)\", fontsize=font)\n",
    "\n",
    "    ax.set_ylabel(r\"PSD (rad$^2$/s$^2$/$Hz)$\", fontsize=font)\n",
    "    \n",
    "    ax.grid(True, which=\"both\", ls=\"-\", alpha=0.5)\n",
    "    \n",
    "    ax.set_xlim(1, 200)\n",
    "    ax.set_ylim(1e-24, 1e-18)\n",
    "\n",
    "    \n",
    "    ax.set_title(f\"ROMY Array ADR  -  {config['component']}-component\", fontsize=font)\n",
    "\n",
    "    \n",
    "    ## set colorbar at bottom\n",
    "    cbar = fig.colorbar(p2, orientation='horizontal', ax=ax, aspect=50)\n",
    "\n",
    "    ## redefine ticks of colorbar\n",
    "    dates = columns\n",
    "    new_ticks=[]\n",
    "    for t in cbar.get_ticks(): \n",
    "        new_ticks.append(dates.astype(str)[int(t)])\n",
    "    cbar.ax.set_xticklabels(new_ticks)\n",
    "\n",
    "\n",
    "    plt.show();\n",
    "    \n",
    "    out = DataFrame()\n",
    "    out['frequencies'] = ff\n",
    "    out['psds_minimal'] = array(psds_minimal)\n",
    "    out['psds_median'] = array(psds_median)\n",
    "    out['psds_mean'] = array(psds_mean)\n",
    "    out['psds_std'] = array(psds_std)\n",
    "    out['psds_mad'] = array(psds_mad)\n",
    "    \n",
    "    \n",
    "    return fig, out"
   ]
  },
  {
   "cell_type": "code",
   "execution_count": null,
   "id": "d5a44ac1",
   "metadata": {
    "ExecuteTime": {
     "end_time": "2022-11-10T16:49:30.556355Z",
     "start_time": "2022-11-10T16:49:26.892Z"
    },
    "code_folding": []
   },
   "outputs": [],
   "source": [
    "fig, out = __makeplot_colorlines(config, 1/ff, psds, columns)"
   ]
  },
  {
   "cell_type": "code",
   "execution_count": null,
   "id": "65140054",
   "metadata": {},
   "outputs": [],
   "source": []
  },
  {
   "cell_type": "markdown",
   "id": "bfbf04c9",
   "metadata": {},
   "source": [
    "## Plot as DeciBel"
   ]
  },
  {
   "cell_type": "code",
   "execution_count": null,
   "id": "0a5ce513",
   "metadata": {
    "ExecuteTime": {
     "end_time": "2022-11-10T16:49:30.557172Z",
     "start_time": "2022-11-10T16:49:26.895Z"
    },
    "code_folding": [
     0
    ]
   },
   "outputs": [],
   "source": [
    "# def __conversion(data, informat=None, outformat=None):\n",
    "#     '''\n",
    "#     data:                  array \n",
    "#     informat/outformat:    ASD, PSD, DB\n",
    "#     '''\n",
    "#     from numpy import log10, sqrt\n",
    "    \n",
    "    \n",
    "#     if informat == 'ASD' and outformat == 'PSD':\n",
    "#         return data**2\n",
    "    \n",
    "#     elif informat == 'PSD' and outformat == 'ASD':\n",
    "#         return sqrt(data)\n",
    "\n",
    "#     elif informat == 'ASD' and outformat == 'DB':\n",
    "#         return 10*log10(data)\n",
    "    \n",
    "#     elif informat == 'PSD' and outformat == 'DB':\n",
    "#         return 10*log10(data)\n",
    "    \n",
    "#     elif informat == 'DB' and outformat == 'PSD':\n",
    "#         return 10**(data/10)\n",
    "    \n",
    "#     elif informat == 'DB' and outformat == 'ASD':\n",
    "#         return sqrt(10**(data/10))\n",
    "    \n",
    "#     else:\n",
    "#         print(\" -> specified case not defined!\")"
   ]
  },
  {
   "cell_type": "code",
   "execution_count": null,
   "id": "c59b86c6",
   "metadata": {
    "ExecuteTime": {
     "end_time": "2022-11-10T16:49:30.558077Z",
     "start_time": "2022-11-10T16:49:26.896Z"
    }
   },
   "outputs": [],
   "source": [
    "# psds_db = __conversion(psds, informat=\"PSD\", outformat=\"DB\")"
   ]
  },
  {
   "cell_type": "code",
   "execution_count": null,
   "id": "156528cc",
   "metadata": {
    "ExecuteTime": {
     "end_time": "2022-11-10T16:49:30.558911Z",
     "start_time": "2022-11-10T16:49:26.898Z"
    },
    "code_folding": [
     0
    ]
   },
   "outputs": [],
   "source": [
    "# def __makeplot_colorlines_decibel(config, ff, psds, columns):\n",
    "\n",
    "#     from numpy import isnan, median, mean, std, array\n",
    "#     from scipy.stats import median_abs_deviation as mad\n",
    "    \n",
    "#     psds_median, psds_mean, psds_std, psds_mad = [],[],[],[]\n",
    "#     for fcross in range(psds.shape[1]):\n",
    "#         data = psds[:,fcross]\n",
    "#         psds_median.append(median(data[~isnan(data)]))\n",
    "#         psds_mean.append(mean(data[~isnan(data)]))\n",
    "#         psds_std.append(std(data[~isnan(data)]))\n",
    "#         psds_mad.append(mad(data[~isnan(data)]))\n",
    "    \n",
    "#     psds_minimal = __get_minimal_psd(array(psds))\n",
    "# #     psds_minimum = __get_minimum_psd(array(psds), ff)\n",
    "    \n",
    "    \n",
    "#     ##____________________________\n",
    "    \n",
    "#     fig, ax = plt.subplots(1,1, figsize=(15,10), sharey=False, sharex=True)\n",
    "\n",
    "#     font = 12\n",
    "\n",
    "#     N = psds.shape[0]\n",
    "#     colors = plt.cm.rainbow(linspace(0, 1, N))\n",
    "\n",
    "\n",
    "#     for n, psd in enumerate(psds):\n",
    "#         ax.semilogx(ff, psd, color=colors[n], alpha=0.7)\n",
    "\n",
    "#     ## add scatter for colorbar object only\n",
    "#     for n, psd in enumerate(psds):\n",
    "#         p2 = ax.scatter(ff[0], psd[0], s=0., c=n, cmap='rainbow', vmin=0, vmax=N)\n",
    "\n",
    "#     ax.semilogx(ff, psds_median, 'black', zorder=3, alpha=0.9)\n",
    "#     ax.semilogx(ff, array(psds_median)+array(psds_mad), 'grey', zorder=3, alpha=0.8)  \n",
    "#     ax.semilogx(ff, array(psds_median)-array(psds_mad), 'grey', zorder=3, alpha=0.8)  \n",
    "\n",
    "# #     ax.semilogx(ff, psds_minimal, 'black', zorder=2, alpha=1.0)\n",
    "    \n",
    "\n",
    "#     ax.set_xlabel(\"Frequency (Hz)\", fontsize=font)\n",
    "\n",
    "#     ax.set_ylabel(r\"PSD (dB rel. to 1 $rad^2$/($s^2$ $Hz$)\", fontsize=font)\n",
    "  \n",
    "#     ax.grid(True, which=\"both\", ls=\"-\", alpha=0.5)\n",
    "\n",
    "    \n",
    "#     ax.set_xlim(min(ff), max(ff))\n",
    "# #     ax.set_xlim(10**log10(config['frequency_limits'][0]), 10**log10(config['frequency_limits'][1]))\n",
    "    \n",
    "#     ## set colorbar at bottom\n",
    "#     cbar = fig.colorbar(p2, orientation='horizontal', ax=ax, aspect=50)\n",
    "\n",
    "#     ## redefine ticks of colorbar\n",
    "#     dates = columns\n",
    "#     new_ticks=[]\n",
    "#     for t in cbar.get_ticks(): \n",
    "#         new_ticks.append(dates.astype(str)[int(t)])\n",
    "#     cbar.ax.set_xticklabels(new_ticks)\n",
    "\n",
    "\n",
    "#     plt.show();\n",
    "    \n",
    "#     out = DataFrame()\n",
    "#     out['frequencies'] = ff\n",
    "#     out['psds_minimal'] = array(psds_minimal)\n",
    "#     out['psds_median'] = array(psds_median)\n",
    "#     out['psds_mean'] = array(psds_mean)\n",
    "#     out['psds_std'] = array(psds_std)\n",
    "#     out['psds_mad'] = array(psds_mad)\n",
    "    \n",
    "#     return fig, out"
   ]
  },
  {
   "cell_type": "code",
   "execution_count": null,
   "id": "879b7e61",
   "metadata": {
    "ExecuteTime": {
     "end_time": "2022-11-10T16:49:30.559542Z",
     "start_time": "2022-11-10T16:49:26.899Z"
    }
   },
   "outputs": [],
   "source": [
    "# fig, out_db = __makeplot_colorlines_decibel(config, ff, psds_db, columns)"
   ]
  },
  {
   "cell_type": "markdown",
   "id": "e6c4a74a",
   "metadata": {},
   "source": [
    "### Write to file"
   ]
  },
  {
   "cell_type": "code",
   "execution_count": null,
   "id": "a69223b0",
   "metadata": {
    "ExecuteTime": {
     "end_time": "2022-11-10T16:49:30.560099Z",
     "start_time": "2022-11-10T16:49:26.901Z"
    }
   },
   "outputs": [],
   "source": [
    "# if config['save']:\n",
    "#     out_db.to_csv(f\"{inpath}{inname}_DB.csv\", sep=\",\")\n",
    "#     print(f\" -> writing to {inpath}{inname}_DB.csv\")"
   ]
  },
  {
   "cell_type": "markdown",
   "id": "biblical-alloy",
   "metadata": {},
   "source": [
    "## Calculate and Plot Density"
   ]
  },
  {
   "cell_type": "code",
   "execution_count": null,
   "id": "9c352b03",
   "metadata": {
    "ExecuteTime": {
     "end_time": "2022-11-10T16:49:30.560607Z",
     "start_time": "2022-11-10T16:49:26.903Z"
    }
   },
   "outputs": [],
   "source": [
    "output = __calculate_density(psds, bins=100, density=True)"
   ]
  },
  {
   "cell_type": "code",
   "execution_count": null,
   "id": "4e5005fc",
   "metadata": {
    "ExecuteTime": {
     "end_time": "2022-11-10T16:49:30.561120Z",
     "start_time": "2022-11-10T16:49:26.904Z"
    },
    "code_folding": [
     0
    ]
   },
   "outputs": [],
   "source": [
    "def __makeplot_PPSD(ff, output, config, mode=None):\n",
    "\n",
    "    from matplotlib import colors\n",
    "    from numpy import ones, convolve, array, log10, roll, sqrt\n",
    "\n",
    "    bins, bins_medians, bins_maximas, dist = output['bin_mids'], output['bins_medians'], output['bins_maximas'], output['dist']\n",
    "    \n",
    "    if mode is \"DB\":\n",
    "        y_axis = 10*log10(bins)\n",
    "    elif mode is \"PSD\":\n",
    "        y_axis = bins\n",
    "    elif mode is \"ASD\":\n",
    "        y_axis = sqrt(bins)\n",
    "        \n",
    "    x_axis = ff\n",
    "\n",
    "    ## plotting\n",
    "    fig, ax = plt.subplots(1,1,figsize=(13,6))\n",
    "\n",
    "    font=14\n",
    "\n",
    "    cmap = plt.cm.get_cmap('magma_r')\n",
    "#     cmap = plt.cm.get_cmap('gray_r')\n",
    "    cmap.set_under(color='white')\n",
    "\n",
    "    im = plt.pcolor(x_axis, y_axis, dist.T, \n",
    "                    cmap=cmap,\n",
    "                    vmin=1e-12, \n",
    "                    alpha=0.99,\n",
    "                   )\n",
    "\n",
    "    ## add Frequency Axis\n",
    "    g = lambda x: 1/x\n",
    "    ax2 = ax.secondary_xaxis(\"top\", functions=(g,g))\n",
    "    ax2.set_xlabel(\"Frequency in Hz\", fontsize=font, labelpad=5)\n",
    "    ax2.set_xticklabels(1/ff, fontsize=11)    \n",
    "    \n",
    "    \n",
    "    if mode is \"DB\":\n",
    "        plt.plot(x_axis, 10*log10(bins_medians), color='black', alpha=0.5, label=\"RNLM\")\n",
    "        plt.ylim(-200, -80)\n",
    "\n",
    "    elif mode is \"PSD\":\n",
    "        plt.plot(x_axis, bins_medians, color='black', alpha=0.5, label=\"RNLM\")\n",
    "        plt.yscale('log')\n",
    "        plt.ylim(10**-20, 10**-13)\n",
    "  \n",
    "    elif mode is \"ASD\":  \n",
    "        plt.plot(x_axis, sqrt(bins_medians), color='black', alpha=0.5, label=\"RNLM\")\n",
    "        plt.yscale('log')\n",
    "        plt.ylim(10**-10, 2*10**-7)\n",
    "\n",
    "    \n",
    "#     plt.fill_betweenx(range(-270, -140), x1=0, x2=2.5, color=\"grey\", alpha=0.4)\n",
    "#     plt.fill_betweenx(range(-270, -140), x1=200, x2=max(ff), color=\"grey\", alpha=0.4)\n",
    "\n",
    "    ## modify x-axis\n",
    "    plt.xscale('log')\n",
    "    plt.xlim([min(x_axis), max(x_axis)])\n",
    "#     plt.xlim(1, 300)\n",
    "    \n",
    "    ## add colorbar\n",
    "    caxes = fig.add_axes()\n",
    "    cb = plt.colorbar(im, cax=caxes, alpha=1.0)\n",
    "    \n",
    "    if output['set_density']:\n",
    "        cb.set_label(\"Propability Density\", fontsize=font)\n",
    "    else:\n",
    "        cb.set_label(\"Counts\", fontsize=font)\n",
    "        cb.set_label(\"Propability Density\", fontsize=font)\n",
    "    \n",
    "    if mode is \"DB\":\n",
    "#         plt.ylabel(r\"PPSD in dB (rel. to 1 m$^4$/s$^2$/$Hz$)\", fontsize=font)\n",
    "        plt.ylabel(r\"PPSD in dB (rel. to 1 rad$^2$/s$^2$/$Hz$)\", fontsize=font)\n",
    "    elif mode is \"PSD\":\n",
    "#         plt.ylabel(r\"PPSD in m$^4$/s$^2$/$Hz$\", fontsize=font)\n",
    "        plt.ylabel(r\"PPSD in $\\frac{rad^2}{s^2 Hz}$\", fontsize=font)\n",
    "    elif mode is \"ASD\":\n",
    "        plt.ylabel(r\"PASD in $\\frac{rad}{s \\sqrt{Hz}}$\", fontsize=font)\n",
    "        \n",
    "    plt.grid(axis=\"both\", which=\"both\", ls=\"--\", zorder=0)\n",
    "    plt.legend()\n",
    "    \n",
    "    plt.xlabel(\"Period in seconds\", fontsize=font)\n",
    "\n",
    "    plt.tick_params(axis='both', labelsize=font-2)\n",
    "\n",
    "    plt.show();\n",
    "    return fig"
   ]
  },
  {
   "cell_type": "code",
   "execution_count": null,
   "id": "f25eeaa9",
   "metadata": {
    "ExecuteTime": {
     "end_time": "2022-11-10T16:49:30.561638Z",
     "start_time": "2022-11-10T16:49:26.906Z"
    }
   },
   "outputs": [],
   "source": [
    "fig = __makeplot_PPSD(ff, output, config, mode=\"ASD\")"
   ]
  },
  {
   "cell_type": "code",
   "execution_count": null,
   "id": "bd06a81e",
   "metadata": {
    "ExecuteTime": {
     "end_time": "2022-05-04T14:08:39.999086Z",
     "start_time": "2022-05-04T14:08:39.995422Z"
    }
   },
   "outputs": [],
   "source": []
  },
  {
   "cell_type": "code",
   "execution_count": null,
   "id": "372e4673",
   "metadata": {},
   "outputs": [],
   "source": []
  }
 ],
 "metadata": {
  "kernelspec": {
   "display_name": "Python 3",
   "language": "python",
   "name": "python3"
  },
  "language_info": {
   "codemirror_mode": {
    "name": "ipython",
    "version": 3
   },
   "file_extension": ".py",
   "mimetype": "text/x-python",
   "name": "python",
   "nbconvert_exporter": "python",
   "pygments_lexer": "ipython3",
   "version": "3.7.7"
  },
  "latex_envs": {
   "LaTeX_envs_menu_present": true,
   "autoclose": false,
   "autocomplete": true,
   "bibliofile": "biblio.bib",
   "cite_by": "apalike",
   "current_citInitial": 1,
   "eqLabelWithNumbers": true,
   "eqNumInitial": 1,
   "hotkeys": {
    "equation": "Ctrl-E",
    "itemize": "Ctrl-I"
   },
   "labels_anchors": false,
   "latex_user_defs": false,
   "report_style_numbering": false,
   "user_envs_cfg": false
  },
  "toc": {
   "base_numbering": 1,
   "nav_menu": {},
   "number_sections": true,
   "sideBar": true,
   "skip_h1_title": false,
   "title_cell": "Table of Contents",
   "title_sidebar": "Contents",
   "toc_cell": false,
   "toc_position": {},
   "toc_section_display": true,
   "toc_window_display": false
  }
 },
 "nbformat": 4,
 "nbformat_minor": 5
}
