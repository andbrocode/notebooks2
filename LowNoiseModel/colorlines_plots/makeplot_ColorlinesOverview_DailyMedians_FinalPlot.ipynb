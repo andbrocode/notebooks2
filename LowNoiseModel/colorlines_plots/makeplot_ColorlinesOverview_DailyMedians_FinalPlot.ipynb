{
 "cells": [
  {
   "cell_type": "markdown",
   "id": "eda030d3",
   "metadata": {},
   "source": [
    "# Analyse Rotation Spectra - Colorlines Overview\n"
   ]
  },
  {
   "cell_type": "markdown",
   "id": "protected-presentation",
   "metadata": {},
   "source": [
    "## Load Libraries"
   ]
  },
  {
   "cell_type": "code",
   "execution_count": 1,
   "id": "behind-arrangement",
   "metadata": {
    "ExecuteTime": {
     "end_time": "2022-11-10T10:47:45.114755Z",
     "start_time": "2022-11-10T10:47:41.841349Z"
    }
   },
   "outputs": [],
   "source": [
    "from andbro__querrySeismoData import __querrySeismoData\n",
    "from obspy import UTCDateTime\n",
    "from scipy.signal import welch\n",
    "from numpy import log10, zeros, pi, append, linspace, mean, median, array, where, transpose, shape, histogram, arange\n",
    "from numpy import logspace, linspace, log, log10, isinf, ones, nan, count_nonzero, sqrt, isnan\n",
    "from pandas import DataFrame, concat, Series, date_range, read_csv, read_pickle\n",
    "from tqdm import tqdm_notebook\n",
    "from pathlib import Path\n",
    "from scipy.stats import median_absolute_deviation as mad\n",
    "\n",
    "import os\n",
    "import pickle\n",
    "import matplotlib.pyplot as plt"
   ]
  },
  {
   "cell_type": "code",
   "execution_count": 2,
   "id": "cfe860f0",
   "metadata": {
    "ExecuteTime": {
     "end_time": "2022-11-10T10:47:45.118420Z",
     "start_time": "2022-11-10T10:47:45.116015Z"
    }
   },
   "outputs": [],
   "source": [
    "if os.uname().nodename == \"lighthouse\":\n",
    "    root_path = \"/home/andbro/kilauea-data/\"\n",
    "elif os.uname().nodename == \"kilauea\":\n",
    "    root_path = \"/import/kilauea-data/\""
   ]
  },
  {
   "cell_type": "code",
   "execution_count": 3,
   "id": "e4858b93",
   "metadata": {
    "ExecuteTime": {
     "end_time": "2022-11-10T10:47:45.137366Z",
     "start_time": "2022-11-10T10:47:45.119906Z"
    },
    "code_folding": [
     0
    ]
   },
   "outputs": [],
   "source": [
    "def __get_minimal_psd(psds):\n",
    "\n",
    "    from numpy import nanmin, array, nonzero\n",
    "    \n",
    "    min_psd = zeros(psds.shape[1])\n",
    "    \n",
    "    for f in range(psds.shape[1]):\n",
    "        a = psds[:,f]\n",
    "        min_psd[f] = nanmin(a[nonzero(a)])\n",
    "    \n",
    "    return min_psd"
   ]
  },
  {
   "cell_type": "code",
   "execution_count": 4,
   "id": "d377053c",
   "metadata": {
    "ExecuteTime": {
     "end_time": "2022-11-10T10:47:45.155354Z",
     "start_time": "2022-11-10T10:47:45.138674Z"
    },
    "code_folding": [
     0
    ]
   },
   "outputs": [],
   "source": [
    "def __get_median_psd(psds):\n",
    "\n",
    "    from numpy import median, zeros, isnan\n",
    "\n",
    "    med_psd = zeros(psds.shape[1])\n",
    "\n",
    "    for f in range(psds.shape[1]):\n",
    "        a = psds[:,f]\n",
    "        med_psd[f] = median(a[~isnan(a)])\n",
    "\n",
    "    return med_psd"
   ]
  },
  {
   "cell_type": "code",
   "execution_count": 5,
   "id": "af6a3772",
   "metadata": {
    "ExecuteTime": {
     "end_time": "2022-11-10T10:47:45.217717Z",
     "start_time": "2022-11-10T10:47:45.156414Z"
    },
    "code_folding": [
     0
    ]
   },
   "outputs": [],
   "source": [
    "def __get_minimum_psd(psds, f_tmp):\n",
    "    \n",
    "    from numpy import median\n",
    "    \n",
    "    f_before = f_tmp[0]\n",
    "    f_tmp[0] = 1e-9\n",
    "    \n",
    "    for i, psd in enumerate(psds):\n",
    "        if i == 0: \n",
    "            lowest_value = (psds[0]/f_tmp).sum()\n",
    "#             lowest_value = median(psds[0]/f_tmp)\n",
    "            idx = 0\n",
    "\n",
    "        value = (psd/f_tmp).sum() \n",
    "#         value = median(psd/f_tmp)\n",
    "        \n",
    "        if value < lowest_value and value != 0:\n",
    "            lowest_value = value\n",
    "            idx = i\n",
    "\n",
    "    f_tmp[0] = f_before      \n",
    "    \n",
    "    return psds[idx]"
   ]
  },
  {
   "cell_type": "code",
   "execution_count": 6,
   "id": "df484686",
   "metadata": {
    "ExecuteTime": {
     "end_time": "2022-11-10T10:47:45.241202Z",
     "start_time": "2022-11-10T10:47:45.219106Z"
    },
    "code_folding": [
     0
    ]
   },
   "outputs": [],
   "source": [
    "# def __write_to_csv(data, text, config):\n",
    "    \n",
    "#     import csv\n",
    "    \n",
    "#     opath = config['outpath']\n",
    "#     oname = config['outname']+\"_\"+text+\"_psd.csv\"\n",
    "    \n",
    "#     # open the file in the write mode\n",
    "#     with open(opath+oname, 'w') as file:\n",
    "\n",
    "#         writer = csv.writer(file)\n",
    "#         for row in data:\n",
    "#             writer.writerow(row)\n",
    "            \n",
    "#     if Path(opath+oname).exists():\n",
    "#         print(f\"created: {opath}{oname}\")"
   ]
  },
  {
   "cell_type": "code",
   "execution_count": 7,
   "id": "fe2e4201",
   "metadata": {
    "ExecuteTime": {
     "end_time": "2022-11-10T10:47:45.261651Z",
     "start_time": "2022-11-10T10:47:45.242294Z"
    },
    "code_folding": [
     0
    ]
   },
   "outputs": [],
   "source": [
    "def __load_psds(file, config):\n",
    "\n",
    "    ## get data to dataframe and transpose and reindex\n",
    "    df = read_csv(file, index_col=False)\n",
    "    df = df.transpose()\n",
    "    df.reset_index(inplace=True)\n",
    "    # df.dtypes\n",
    "    # df.mean()\n",
    "\n",
    "    ## set column names\n",
    "    try:\n",
    "        columns = pickle.load(open(f\"{config['inpath']}{config['inname']}_columns.pick\", 'rb'))\n",
    "        df.columns = [column.replace(\"-\",\"\") for column in columns]\n",
    "    except:\n",
    "        columns = arange(0,df.shape[1]).astype(str)\n",
    "        df.columns = columns\n",
    "        print(\" -> Failed to assign column names! Assigned numbers instead!\")\n",
    "\n",
    "    ## check for column dublicates\n",
    "    if len(df.columns.unique()) != len(df.columns):\n",
    "        print(f\" -> removing {len(df.columns)-len(df.columns.unique())} column dublicate(s)!\")\n",
    "        df = df.loc[:,~df.columns.duplicated()]\n",
    "\n",
    "    count=0\n",
    "    dates_expected = date_range(config['date1'].date, config['date2'].date, periods=int((config['date2']-config['date1'])/86400)+1)\n",
    "    for dex in dates_expected:\n",
    "        dex=str(dex.isoformat()[:10]).replace(\"-\",\"\")\n",
    "        if not dex in df.columns:\n",
    "            count+=1\n",
    "    print(f\" -> missing {count} days\")\n",
    "        \n",
    "    print(f\" -> total of {df.shape[0]} psds\")\n",
    "        \n",
    "#     ## convert to list\n",
    "#     psds = []\n",
    "#     for col in array(df.columns):\n",
    "        \n",
    "#         ## turn non-float series to float objects\n",
    "#         df[col] = pd.to_numeric(df[col], errors = 'coerce')\n",
    "\n",
    "#         ## add to psds list\n",
    "#         psds.append(array(df[col]))\n",
    "        \n",
    "    return df"
   ]
  },
  {
   "cell_type": "code",
   "execution_count": 8,
   "id": "d4ffd698",
   "metadata": {
    "ExecuteTime": {
     "end_time": "2022-11-10T10:47:45.280115Z",
     "start_time": "2022-11-10T10:47:45.264548Z"
    },
    "code_folding": [
     0
    ]
   },
   "outputs": [],
   "source": [
    "def __get_array_from_dataframe(df):\n",
    "    \n",
    "    from pandas import to_numeric\n",
    "    \n",
    "    ## convert to list\n",
    "    psds = []\n",
    "    for col in array(df.columns):\n",
    "        \n",
    "        ## turn non-float series to float objects\n",
    "        df[col] = to_numeric(df[col], errors = 'coerce')\n",
    "\n",
    "        ## add to psds list\n",
    "        psds.append(array(df[col]))\n",
    "\n",
    "    return array(psds)"
   ]
  },
  {
   "cell_type": "code",
   "execution_count": 9,
   "id": "21d2d997",
   "metadata": {
    "ExecuteTime": {
     "end_time": "2022-11-10T10:47:45.343813Z",
     "start_time": "2022-11-10T10:47:45.281732Z"
    },
    "code_folding": [
     0
    ]
   },
   "outputs": [],
   "source": [
    "# def __remove_noisy_psds(df, threshold_mean=1e-13):\n",
    "\n",
    "#     from numpy import delete\n",
    "    \n",
    "#     l1 = len(df.columns)\n",
    "#     for col in df.columns:\n",
    "# #         print(col, type(col))\n",
    "#         if df[col].astype(float).mean() > threshold_mean:\n",
    "#             df = df.drop(columns=col)\n",
    "#     l2 = len(df.columns)\n",
    "#     print(f\" -> removed {l1-l2} columns due to mean thresholds!\")\n",
    "#     print(f\" -> {l2} psds remain\")\n",
    "    \n",
    "#     return df"
   ]
  },
  {
   "cell_type": "code",
   "execution_count": 10,
   "id": "b86aa31f",
   "metadata": {
    "ExecuteTime": {
     "end_time": "2022-11-10T10:47:45.383924Z",
     "start_time": "2022-11-10T10:47:45.344969Z"
    }
   },
   "outputs": [
    {
     "data": {
      "text/plain": [
       "['run_2019_RGRF-Z_3600_GRF20190128_hourly.pkl',\n",
       " 'run_2019_RGRF-Z_3600_GRF20190619_hourly.pkl',\n",
       " 'run_2019_RGRF-Z_3600_GRF20190626_hourly.pkl',\n",
       " 'run_2019_RGRF-Z_3600_GRF20191012_hourly.pkl',\n",
       " 'run_2019_RGRF-Z_3600_GRF20191117_hourly.pkl',\n",
       " 'run_2019_RGRF-Z_3600_GRF20190808_hourly.pkl',\n",
       " 'run_2019_RGRF-Z_3600_GRF20190225_hourly.pkl',\n",
       " 'run_2019_RGRF-Z_3600_GRF20190924_hourly.pkl',\n",
       " 'run_2019_RGRF-Z_3600_GRF20191005_hourly.pkl',\n",
       " 'run_2019_RGRF-Z_3600_GRF20190323_hourly.pkl',\n",
       " 'run_2019_RGRF-Z_3600_GRF20190512_hourly.pkl',\n",
       " 'run_2019_RGRF-Z_3600_GRF20190614_hourly.pkl',\n",
       " 'run_2019_RGRF-Z_3600_GRF20190723_hourly.pkl',\n",
       " 'run_2019_RGRF-Z_3600_GRF20190212_hourly.pkl',\n",
       " 'run_2019_RGRF-Z_3600_GRF20191221_hourly.pkl',\n",
       " 'run_2019_RGRF-Z_3600_GRF20190301_hourly.pkl',\n",
       " 'run_2019_RGRF-Z_3600_GRF20190213_hourly.pkl',\n",
       " 'run_2019_RGRF-Z_3600_GRF20190819_hourly.pkl',\n",
       " 'run_2019_RGRF-Z_3600_GRF20191001_hourly.pkl',\n",
       " 'run_2019_RGRF-Z_3600_GRF20190820_hourly.pkl',\n",
       " 'run_2019_RGRF-Z_3600_GRF20190422_hourly.pkl',\n",
       " 'run_2019_RGRF-Z_3600_GRF20190708_hourly.pkl',\n",
       " 'run_2019_RGRF-Z_3600_GRF20190309_hourly.pkl',\n",
       " 'run_2019_RGRF-Z_3600_GRF20190928_hourly.pkl',\n",
       " 'run_2019_RGRF-Z_3600_GRF20190316_hourly.pkl',\n",
       " 'run_2019_RGRF-Z_3600_GRF20190730_hourly.pkl',\n",
       " 'run_2019_RGRF-Z_3600_GRF20190914_hourly.pkl',\n",
       " 'run_2019_RGRF-Z_3600_GRF20190713_hourly.pkl',\n",
       " 'run_2019_RGRF-Z_3600_GRF20190624_hourly.pkl',\n",
       " 'run_2019_RGRF-Z_3600_GRF20190324_hourly.pkl',\n",
       " 'run_2019_RGRF-Z_3600_GRF20190904_hourly.pkl',\n",
       " 'run_2019_RGRF-Z_3600_GRF20191010_hourly.pkl',\n",
       " 'run_2019_RGRF-Z_3600_GRF20190216_hourly.pkl',\n",
       " 'run_2019_RGRF-Z_3600_GRF20191106_hourly.pkl',\n",
       " 'run_2019_RGRF-Z_3600_GRF20190717_hourly.pkl',\n",
       " 'run_2019_RGRF-Z_3600_GRF20190105_hourly.pkl',\n",
       " 'run_2019_RGRF-Z_3600_GRF20190528_hourly.pkl',\n",
       " 'run_2019_RGRF-Z_3600_GRF20190320_hourly.pkl',\n",
       " 'run_2019_RGRF-Z_3600_GRF20190720_hourly.pkl',\n",
       " 'run_2019_RGRF-Z_3600_GRF20190327_hourly.pkl',\n",
       " 'run_2019_RGRF-Z_3600_GRF20190122_hourly.pkl',\n",
       " 'run_2019_RGRF-Z_3600_GRF20190923_hourly.pkl',\n",
       " 'run_2019_RGRF-Z_3600_GRF20190428_hourly.pkl',\n",
       " 'run_2019_RGRF-Z_3600_GRF20190224_hourly.pkl',\n",
       " 'run_2019_RGRF-Z_3600_GRF20190315_hourly.pkl',\n",
       " 'run_2019_RGRF-Z_3600_GRF20190215_hourly.pkl',\n",
       " 'run_2019_RGRF-Z_3600_GRF20190616_hourly.pkl',\n",
       " 'run_2019_RGRF-Z_3600_GRF20190617_hourly.pkl',\n",
       " 'run_2019_RGRF-Z_3600_GRF20190821_hourly.pkl',\n",
       " 'run_2019_RGRF-Z_3600_GRF20190704_hourly.pkl',\n",
       " 'run_2019_RGRF-Z_3600_GRF20190909_hourly.pkl',\n",
       " 'run_2019_RGRF-Z_3600_GRF20190417_hourly.pkl',\n",
       " 'run_2019_RGRF-Z_3600_GRF20191022_hourly.pkl',\n",
       " 'run_2019_RGRF-Z_3600_GRF20190822_hourly.pkl',\n",
       " 'run_2019_RGRF-Z_3600_GRF20190520_hourly.pkl',\n",
       " 'run_2019_RGRF-Z_3600_GRF20190925_hourly.pkl',\n",
       " 'run_2019_RGRF-Z_3600_GRF20190812_hourly.pkl',\n",
       " 'run_2019_RGRF-Z_3600_GRF20190416_hourly.pkl',\n",
       " 'run_2019_RGRF-Z_3600_GRF20190329_hourly.pkl',\n",
       " 'run_2019_RGRF-Z_3600_GRF20190712_hourly.pkl',\n",
       " 'run_2019_RGRF-Z_3600_GRF20190403_hourly.pkl',\n",
       " 'run_2019_RGRF-Z_3600_GRF20191231_hourly.pkl',\n",
       " 'run_2019_RGRF-Z_3600_GRF20190210_hourly.pkl',\n",
       " 'run_2019_RGRF-Z_3600_GRF20191003_hourly.pkl',\n",
       " 'run_2019_RGRF-Z_3600_GRF20190317_hourly.pkl',\n",
       " 'run_2019_RGRF-Z_3600_GRF20190702_hourly.pkl',\n",
       " 'run_2019_RGRF-Z_3600_GRF20190813_hourly.pkl',\n",
       " 'run_2019_RGRF-Z_3600_GRF20191114_hourly.pkl',\n",
       " 'run_2019_RGRF-Z_3600_GRF20190420_hourly.pkl',\n",
       " 'run_2019_RGRF-Z_3600_GRF20190615_hourly.pkl',\n",
       " 'run_2019_RGRF-Z_3600_GRF20190308_hourly.pkl',\n",
       " 'run_2019_RGRF-Z_3600_GRF20190610_hourly.pkl',\n",
       " 'run_2019_RGRF-Z_3600_GRF20190625_hourly.pkl',\n",
       " 'run_2019_RGRF-Z_3600_GRF20190313_hourly.pkl',\n",
       " 'run_2019_RGRF-Z_3600_GRF20190427_hourly.pkl',\n",
       " 'run_2019_RGRF-Z_3600_GRF20191020_hourly.pkl',\n",
       " 'run_2019_RGRF-Z_3600_GRF20191006_hourly.pkl',\n",
       " 'run_2019_RGRF-Z_3600_GRF20190525_hourly.pkl',\n",
       " 'run_2019_RGRF-Z_3600_GRF20190603_hourly.pkl',\n",
       " 'run_2019_RGRF-Z_3600_GRF20191213_hourly.pkl',\n",
       " 'run_2019_RGRF-Z_3600_GRF20190825_hourly.pkl',\n",
       " 'run_2019_RGRF-Z_3600_GRF20191013_hourly.pkl',\n",
       " 'run_2019_RGRF-Z_3600_GRF20190501_hourly.pkl',\n",
       " 'run_2019_RGRF-Z_3600_GRF20190613_hourly.pkl',\n",
       " 'run_2019_RGRF-Z_3600_GRF20191127_hourly.pkl',\n",
       " 'run_2019_RGRF-Z_3600_GRF20190602_hourly.pkl',\n",
       " 'run_2019_RGRF-Z_3600_GRF20190715_hourly.pkl',\n",
       " 'run_2019_RGRF-Z_3600_GRF20190608_hourly.pkl',\n",
       " 'run_2019_RGRF-Z_3600_GRF20190430_hourly.pkl',\n",
       " 'run_2019_RGRF-Z_3600_GRF20190104_hourly.pkl',\n",
       " 'run_2019_RGRF-Z_3600_GRF',\n",
       " 'run_2019_RGRF-Z_3600_GRF20190123_hourly.pkl',\n",
       " 'run_2019_RGRF-Z_3600_GRF20190404_hourly.pkl',\n",
       " 'run_2019_RGRF-Z_3600_GRF20191030_hourly.pkl',\n",
       " 'run_2019_RGRF-Z_3600_GRF20190701_hourly.pkl',\n",
       " 'run_2019_RGRF-Z_3600_GRF20190918_hourly.pkl',\n",
       " 'run_2019_RGRF-Z_3600_GRF20190321_hourly.pkl',\n",
       " 'run_2019_RGRF-Z_3600_GRF20190826_hourly.pkl',\n",
       " 'run_2019_RGRF-Z_3600_GRF20190228_hourly.pkl',\n",
       " 'run_2019_RGRF-Z_3600_GRF20190926_hourly.pkl',\n",
       " 'run_2019_RGRF-Z_3600_GRF20190801_hourly.pkl',\n",
       " 'run_2019_RGRF-Z_3600_GRF20190919_hourly.pkl',\n",
       " 'run_2019_RGRF-Z_3600_GRF_frequency_axis.pkl',\n",
       " 'run_2019_RGRF-Z_3600_GRF20190331_hourly.pkl',\n",
       " 'run_2019_RGRF-Z_3600_GRF20190718_hourly.pkl',\n",
       " 'run_2019_RGRF-Z_3600_GRF20190531_hourly.pkl',\n",
       " 'run_2019_RGRF-Z_3600_GRF20191107_hourly.pkl',\n",
       " 'run_2019_RGRF-Z_3600_GRF20190806_hourly.pkl',\n",
       " 'run_2019_RGRF-Z_3600_GRF20190217_hourly.pkl',\n",
       " 'run_2019_RGRF-Z_3600_GRF20190901_hourly.pkl',\n",
       " 'run_2019_RGRF-Z_3600_GRF20190117_hourly.pkl',\n",
       " 'run_2019_RGRF-Z_3600_GRF20191212_hourly.pkl',\n",
       " 'run_2019_RGRF-Z_3600_GRF20191025_hourly.pkl',\n",
       " 'run_2019_RGRF-Z_3600_GRF20190816_hourly.pkl',\n",
       " 'run_2019_RGRF-Z_3600_GRF20190202_hourly.pkl',\n",
       " 'run_2019_RGRF-Z_3600_GRF20190220_hourly.pkl',\n",
       " 'run_2019_RGRF-Z_3600_GRF20190815_hourly.pkl',\n",
       " 'run_2019_RGRF-Z_3600_GRF20190710_hourly.pkl',\n",
       " 'run_2019_RGRF-Z_3600_GRF20190201_hourly.pkl',\n",
       " 'run_2019_RGRF-Z_3600_GRF20190325_hourly.pkl',\n",
       " 'run_2019_RGRF-Z_3600_GRF20191023_hourly.pkl',\n",
       " 'run_2019_RGRF-Z_3600_GRF20191112_hourly.pkl',\n",
       " 'run_2019_RGRF-Z_3600_GRF20190109_hourly.pkl',\n",
       " 'run_2019_RGRF-Z_3600_GRF20190112_hourly.pkl',\n",
       " 'run_2019_RGRF-Z_3600_GRF20190524_hourly.pkl',\n",
       " 'run_2019_RGRF-Z_3600_GRF20190402_hourly.pkl',\n",
       " 'run_2019_RGRF-Z_3600_GRF20190407_hourly.pkl',\n",
       " 'run_2019_RGRF-Z_3600_GRF20191019_hourly.pkl',\n",
       " 'run_2019_RGRF-Z_3600_GRF20190509_hourly.pkl',\n",
       " 'run_2019_RGRF-Z_3600_GRF20190611_hourly.pkl',\n",
       " 'run_2019_RGRF-Z_3600_GRF20191204_hourly.pkl',\n",
       " 'run_2019_RGRF-Z_3600_GRF20191115_hourly.pkl',\n",
       " 'run_2019_RGRF-Z_3600_GRF20190523_hourly.pkl',\n",
       " 'run_2019_RGRF-Z_3600_GRF20190721_hourly.pkl',\n",
       " 'run_2019_RGRF-Z_3600_GRF20190108_hourly.pkl',\n",
       " 'run_2019_RGRF-Z_3600_GRF20190107_hourly.pkl',\n",
       " 'run_2019_RGRF-Z_3600_GRF20190703_hourly.pkl',\n",
       " 'run_2019_RGRF-Z_3600_GRF20190310_hourly.pkl',\n",
       " 'run_2019_RGRF-Z_3600_GRF20190511_hourly.pkl',\n",
       " 'run_2019_RGRF-Z_3600_GRF20190629_hourly.pkl',\n",
       " 'run_2019_RGRF-Z_3600_GRF20190824_hourly.pkl',\n",
       " 'run_2019_RGRF-Z_3600_GRF20191128_hourly.pkl',\n",
       " 'run_2019_RGRF-Z_3600_GRF20191024_hourly.pkl',\n",
       " 'run_2019_RGRF-Z_3600_GRF20190507_hourly.pkl',\n",
       " 'run_2019_RGRF-Z_3600_GRF20190406_hourly.pkl',\n",
       " 'run_2019_RGRF-Z_3600_GRF20190630_hourly.pkl',\n",
       " 'run_2019_RGRF-Z_3600_GRF20191203_hourly.pkl',\n",
       " 'run_2019_RGRF-Z_3600_GRF20190912_hourly.pkl',\n",
       " 'run_2019_RGRF-Z_3600_GRF20190120_hourly.pkl',\n",
       " 'run_2019_RGRF-Z_3600_GRF20191007_hourly.pkl',\n",
       " 'run_2019_RGRF-Z_3600_GRF20190426_hourly.pkl',\n",
       " 'run_2019_RGRF-Z_3600_GRF20190106_hourly.pkl',\n",
       " 'run_2019_RGRF-Z_3600_GRF20190908_hourly.pkl',\n",
       " 'run_2019_RGRF-Z_3600_GRF20191119_hourly.pkl',\n",
       " 'run_2019_RGRF-Z_3600_GRF20190719_hourly.pkl',\n",
       " 'run_2019_RGRF-Z_3600_GRF20190410_hourly.pkl',\n",
       " 'run_2019_RGRF-Z_3600_GRF20190515_hourly.pkl',\n",
       " 'run_2019_RGRF-Z_3600_GRF20190618_hourly.pkl',\n",
       " 'run_2019_RGRF-Z_3600_GRF20190906_hourly.pkl',\n",
       " 'run_2019_RGRF-Z_3600_GRF20190709_hourly.pkl',\n",
       " 'run_2019_RGRF-Z_3600_GRF20191225_hourly.pkl',\n",
       " 'run_2019_RGRF-Z_3600_GRF20190526_hourly.pkl',\n",
       " 'run_2019_RGRF-Z_3600_GRF20191210_hourly.pkl',\n",
       " 'run_2019_RGRF-Z_3600_GRF20190510_hourly.pkl',\n",
       " 'run_2019_RGRF-Z_3600_GRF20190408_hourly.pkl',\n",
       " 'run_2019_RGRF-Z_3600_GRF20190414_hourly.pkl',\n",
       " 'run_2019_RGRF-Z_3600_GRF20190902_hourly.pkl',\n",
       " 'run_2019_RGRF-Z_3600_GRF20191224_hourly.pkl',\n",
       " 'run_2019_RGRF-Z_3600_GRF20190930_hourly.pkl',\n",
       " 'run_2019_RGRF-Z_3600_GRF20190425_hourly.pkl',\n",
       " 'run_2019_RGRF-Z_3600_GRF20190530_hourly.pkl',\n",
       " 'run_2019_RGRF-Z_3600_GRF20190911_hourly.pkl',\n",
       " 'run_2019_RGRF-Z_3600_GRF20190209_hourly.pkl',\n",
       " 'run_2019_RGRF-Z_3600_GRF20191217_hourly.pkl',\n",
       " 'run_2019_RGRF-Z_3600_GRF20190605_hourly.pkl',\n",
       " 'run_2019_RGRF-Z_3600_GRF20191002_hourly.pkl',\n",
       " 'run_2019_RGRF-Z_3600_GRF20190716_hourly.pkl',\n",
       " 'run_2019_RGRF-Z_3600_GRF20190127_hourly.pkl',\n",
       " 'run_2019_RGRF-Z_3600_GRF20190204_hourly.pkl',\n",
       " 'run_2019_RGRF-Z_3600_GRF20190731_hourly.pkl',\n",
       " 'run_2019_RGRF-Z_3600_GRF20190828_hourly.pkl',\n",
       " 'run_2019_RGRF-Z_3600_GRF20190803_hourly.pkl',\n",
       " 'run_2019_RGRF-Z_3600_GRF20190830_hourly.pkl',\n",
       " 'run_2019_RGRF-Z_3600_GRF20190606_hourly.pkl',\n",
       " 'run_2019_RGRF-Z_3600_GRF20190920_hourly.pkl',\n",
       " 'run_2019_RGRF-Z_3600_GRF20190208_hourly.pkl',\n",
       " 'run_2019_RGRF-Z_3600_GRF20191109_hourly.pkl',\n",
       " 'run_2019_RGRF-Z_3600_GRF20190814_hourly.pkl',\n",
       " 'run_2019_RGRF-Z_3600_GRF20190607_hourly.pkl',\n",
       " 'run_2019_RGRF-Z_3600_GRF20190302_hourly.pkl',\n",
       " 'run_2019_RGRF-Z_3600_GRF20190714_hourly.pkl',\n",
       " 'run_2019_RGRF-Z_3600_GRF20190207_hourly.pkl',\n",
       " 'run_2019_RGRF-Z_3600_GRF20190227_hourly.pkl',\n",
       " 'run_2019_RGRF-Z_3600_GRF20191021_hourly.pkl',\n",
       " 'run_2019_RGRF-Z_3600_GRF20191015_hourly.pkl',\n",
       " 'run_2019_RGRF-Z_3600_GRF20190621_hourly.pkl',\n",
       " 'run_2019_RGRF-Z_3600_GRF20190910_hourly.pkl',\n",
       " 'run_2019_RGRF-Z_3600_GRF20190521_hourly.pkl',\n",
       " 'run_2019_RGRF-Z_3600_GRF20190304_hourly.pkl',\n",
       " 'run_2019_RGRF-Z_3600_GRF20190502_hourly.pkl',\n",
       " 'run_2019_RGRF-Z_3600_GRF20190102_hourly.pkl',\n",
       " 'run_2019_RGRF-Z_3600_GRF20190929_hourly.pkl',\n",
       " 'run_2019_RGRF-Z_3600_GRF20190130_hourly.pkl',\n",
       " 'run_2019_RGRF-Z_3600_GRF20190421_hourly.pkl',\n",
       " 'run_2019_RGRF-Z_3600_GRF20190505_hourly.pkl',\n",
       " 'run_2019_RGRF-Z_3600_GRF20190126_hourly.pkl',\n",
       " 'run_2019_RGRF-Z_3600_GRF20190623_hourly.pkl',\n",
       " 'run_2019_RGRF-Z_3600_GRF20190311_hourly.pkl',\n",
       " 'run_2019_RGRF-Z_3600_GRF20190921_hourly.pkl',\n",
       " 'run_2019_RGRF-Z_3600_GRF20190205_hourly.pkl',\n",
       " 'run_2019_RGRF-Z_3600_GRF20191016_hourly.pkl',\n",
       " 'run_2019_RGRF-Z_3600_GRF20190927_hourly.pkl',\n",
       " 'run_2019_RGRF-Z_3600_GRF20190517_hourly.pkl',\n",
       " 'run_2019_RGRF-Z_3600_GRF20191121_hourly.pkl',\n",
       " 'run_2019_RGRF-Z_3600_GRF20191113_hourly.pkl',\n",
       " 'run_2019_RGRF-Z_3600_GRF20190415_hourly.pkl',\n",
       " 'run_2019_RGRF-Z_3600_GRF20191207_hourly.pkl',\n",
       " 'run_2019_RGRF-Z_3600_GRF20190627_hourly.pkl',\n",
       " 'run_2019_RGRF-Z_3600_GRF20190628_hourly.pkl',\n",
       " 'run_2019_RGRF-Z_3600_GRF20190506_hourly.pkl',\n",
       " 'run_2019_RGRF-Z_3600_GRF20190831_hourly.pkl',\n",
       " 'run_2019_RGRF-Z_3600_GRF20191105_hourly.pkl',\n",
       " 'run_2019_RGRF-Z_3600_GRF20190218_hourly.pkl',\n",
       " 'run_2019_RGRF-Z_3600_GRF20191101_hourly.pkl',\n",
       " 'run_2019_RGRF-Z_3600_GRF20190221_hourly.pkl',\n",
       " 'run_2019_RGRF-Z_3600_GRF20191216_hourly.pkl',\n",
       " 'run_2019_RGRF-Z_3600_GRF20190804_hourly.pkl',\n",
       " 'run_2019_RGRF-Z_3600_GRF20191229_hourly.pkl',\n",
       " 'run_2019_RGRF-Z_3600_GRF20190707_hourly.pkl',\n",
       " 'run_2019_RGRF-Z_3600_GRF20191028_hourly.pkl',\n",
       " 'run_2019_RGRF-Z_3600_GRF20190711_hourly.pkl',\n",
       " 'run_2019_RGRF-Z_3600_GRF20190330_hourly.pkl',\n",
       " 'run_2019_RGRF-Z_3600_GRF20190915_hourly.pkl',\n",
       " 'run_2019_RGRF-Z_3600_GRF20191014_hourly.pkl',\n",
       " 'run_2019_RGRF-Z_3600_GRF20191108_hourly.pkl',\n",
       " 'run_2019_RGRF-Z_3600_GRF20191201_hourly.pkl',\n",
       " 'run_2019_RGRF-Z_3600_GRF20190722_hourly.pkl',\n",
       " 'run_2019_RGRF-Z_3600_GRF20191202_hourly.pkl',\n",
       " 'run_2019_RGRF-Z_3600_GRF20190829_hourly.pkl',\n",
       " 'run_2019_RGRF-Z_3600_GRF20190726_hourly.pkl',\n",
       " 'run_2019_RGRF-Z_3600_GRF20191111_hourly.pkl',\n",
       " 'run_2019_RGRF-Z_3600_GRF20190609_hourly.pkl',\n",
       " 'run_2019_RGRF-Z_3600_GRF_config.pkl',\n",
       " 'run_2019_RGRF-Z_3600_GRF20190916_hourly.pkl',\n",
       " 'run_2019_RGRF-Z_3600_GRF20190620_hourly.pkl',\n",
       " 'run_2019_RGRF-Z_3600_GRF20191018_hourly.pkl',\n",
       " 'run_2019_RGRF-Z_3600_GRF20190811_hourly.pkl',\n",
       " 'run_2019_RGRF-Z_3600_GRF20190519_hourly.pkl',\n",
       " 'run_2019_RGRF-Z_3600_GRF20191129_hourly.pkl',\n",
       " 'run_2019_RGRF-Z_3600_GRF20190103_hourly.pkl',\n",
       " 'run_2019_RGRF-Z_3600_GRF20190823_hourly.pkl',\n",
       " 'run_2019_RGRF-Z_3600_GRF20191226_hourly.pkl',\n",
       " 'run_2019_RGRF-Z_3600_GRF20190303_hourly.pkl',\n",
       " 'run_2019_RGRF-Z_3600_GRF20190705_hourly.pkl',\n",
       " 'run_2019_RGRF-Z_3600_GRF20190129_hourly.pkl',\n",
       " 'run_2019_RGRF-Z_3600_GRF20190504_hourly.pkl',\n",
       " 'run_2019_RGRF-Z_3600_GRF20191116_hourly.pkl',\n",
       " 'run_2019_RGRF-Z_3600_GRF20190101_hourly.pkl',\n",
       " 'run_2019_RGRF-Z_3600_GRF20190724_hourly.pkl',\n",
       " 'run_2019_RGRF-Z_3600_GRF20190326_hourly.pkl',\n",
       " 'run_2019_RGRF-Z_3600_GRF20190802_hourly.pkl',\n",
       " 'run_2019_RGRF-Z_3600_GRF20190319_hourly.pkl',\n",
       " 'run_2019_RGRF-Z_3600_GRF20190419_hourly.pkl',\n",
       " 'run_2019_RGRF-Z_3600_GRF20191208_hourly.pkl',\n",
       " 'run_2019_RGRF-Z_3600_GRF20190805_hourly.pkl',\n",
       " 'run_2019_RGRF-Z_3600_GRF20190118_hourly.pkl',\n",
       " 'run_2019_RGRF-Z_3600_GRF20190328_hourly.pkl',\n",
       " 'run_2019_RGRF-Z_3600_GRF20190905_hourly.pkl',\n",
       " 'run_2019_RGRF-Z_3600_GRF20190903_hourly.pkl',\n",
       " 'run_2019_RGRF-Z_3600_GRF20190113_hourly.pkl',\n",
       " 'run_2019_RGRF-Z_3600_GRF20191008_hourly.pkl',\n",
       " 'run_2019_RGRF-Z_3600_GRF20190516_hourly.pkl',\n",
       " 'run_2019_RGRF-Z_3600_GRF20191110_hourly.pkl',\n",
       " 'run_2019_RGRF-Z_3600_GRF20190125_hourly.pkl',\n",
       " 'run_2019_RGRF-Z_3600_GRF20190114_hourly.pkl',\n",
       " 'run_2019_RGRF-Z_3600_GRF20190219_hourly.pkl',\n",
       " 'run_2019_RGRF-Z_3600_GRF20191124_hourly.pkl',\n",
       " 'run_2019_RGRF-Z_3600_GRF20191220_hourly.pkl',\n",
       " 'run_2019_RGRF-Z_3600_GRF20190203_hourly.pkl',\n",
       " 'run_2019_RGRF-Z_3600_GRF20190121_hourly.pkl',\n",
       " 'run_2019_RGRF-Z_3600_GRF20190907_hourly.pkl',\n",
       " 'run_2019_RGRF-Z_3600_GRF20190124_hourly.pkl',\n",
       " 'run_2019_RGRF-Z_3600_GRF20191215_hourly.pkl',\n",
       " 'run_2019_RGRF-Z_3600_GRF20190111_hourly.pkl',\n",
       " 'run_2019_RGRF-Z_3600_GRF20190612_hourly.pkl',\n",
       " 'run_2019_RGRF-Z_3600_GRF20190214_hourly.pkl',\n",
       " 'run_2019_RGRF-Z_3600_GRF20190429_hourly.pkl',\n",
       " 'run_2019_RGRF-Z_3600_GRF20190306_hourly.pkl',\n",
       " 'run_2019_RGRF-Z_3600_GRF20191122_hourly.pkl',\n",
       " 'run_2019_RGRF-Z_3600_GRF20190418_hourly.pkl',\n",
       " 'run_2019_RGRF-Z_3600_GRF20191031_hourly.pkl',\n",
       " 'run_2019_RGRF-Z_3600_GRF20190305_hourly.pkl',\n",
       " 'run_2019_RGRF-Z_3600_GRF20191104_hourly.pkl',\n",
       " 'run_2019_RGRF-Z_3600_GRF20191118_hourly.pkl',\n",
       " 'run_2019_RGRF-Z_3600_GRF20190211_hourly.pkl',\n",
       " 'run_2019_RGRF-Z_3600_GRF20191214_hourly.pkl',\n",
       " 'run_2019_RGRF-Z_3600_GRF20190917_hourly.pkl',\n",
       " 'run_2019_RGRF-Z_3600_GRF20190423_hourly.pkl',\n",
       " 'run_2019_RGRF-Z_3600_GRF20190807_hourly.pkl',\n",
       " 'run_2019_RGRF-Z_3600_GRF20191227_hourly.pkl',\n",
       " 'run_2019_RGRF-Z_3600_GRF20190513_hourly.pkl',\n",
       " 'run_2019_RGRF-Z_3600_GRF20190601_hourly.pkl',\n",
       " 'run_2019_RGRF-Z_3600_GRF20190604_hourly.pkl',\n",
       " 'run_2019_RGRF-Z_3600_GRF20190312_hourly.pkl',\n",
       " 'run_2019_RGRF-Z_3600_GRF_daily_medians.pkl',\n",
       " 'run_2019_RGRF-Z_3600_GRF20190518_hourly.pkl',\n",
       " 'run_2019_RGRF-Z_3600_GRF20190522_hourly.pkl',\n",
       " 'run_2019_RGRF-Z_3600_GRF20190223_hourly.pkl',\n",
       " 'run_2019_RGRF-Z_3600_GRF20190115_hourly.pkl',\n",
       " 'run_2019_RGRF-Z_3600_GRF20190110_hourly.pkl',\n",
       " 'run_2019_RGRF-Z_3600_GRF20190913_hourly.pkl',\n",
       " 'run_2019_RGRF-Z_3600_GRF20191102_hourly.pkl',\n",
       " 'run_2019_RGRF-Z_3600_GRF20190411_hourly.pkl',\n",
       " 'run_2019_RGRF-Z_3600_GRF20191029_hourly.pkl',\n",
       " 'run_2019_RGRF-Z_3600_GRF20190206_hourly.pkl',\n",
       " 'run_2019_RGRF-Z_3600_GRF20190809_hourly.pkl',\n",
       " 'run_2019_RGRF-Z_3600_GRF20191009_hourly.pkl',\n",
       " 'run_2019_RGRF-Z_3600_GRF20190508_hourly.pkl',\n",
       " 'run_2019_RGRF-Z_3600_GRF20190818_hourly.pkl',\n",
       " 'run_2019_RGRF-Z_3600_GRF20190729_hourly.pkl',\n",
       " 'run_2019_RGRF-Z_3600_GRF20190401_hourly.pkl',\n",
       " 'run_2019_RGRF-Z_3600_GRF20190318_hourly.pkl',\n",
       " 'run_2019_RGRF-Z_3600_GRF20190226_hourly.pkl',\n",
       " 'run_2019_RGRF-Z_3600_GRF20190727_hourly.pkl',\n",
       " 'run_2019_RGRF-Z_3600_GRF20191205_hourly.pkl',\n",
       " 'run_2019_RGRF-Z_3600_GRF20190412_hourly.pkl',\n",
       " 'run_2019_RGRF-Z_3600_GRF20190728_hourly.pkl',\n",
       " 'run_2019_RGRF-Z_3600_GRF20191211_hourly.pkl',\n",
       " 'run_2019_RGRF-Z_3600_GRF20190409_hourly.pkl',\n",
       " 'run_2019_RGRF-Z_3600_GRF20190119_hourly.pkl',\n",
       " 'run_2019_RGRF-Z_3600_GRF20191125_hourly.pkl',\n",
       " 'run_2019_RGRF-Z_3600_GRF20190810_hourly.pkl',\n",
       " 'run_2019_RGRF-Z_3600_GRF20191209_hourly.pkl',\n",
       " 'run_2019_RGRF-Z_3600_GRF20191103_hourly.pkl',\n",
       " 'run_2019_RGRF-Z_3600_GRF20190827_hourly.pkl',\n",
       " 'run_2019_RGRF-Z_3600_GRF20190307_hourly.pkl',\n",
       " 'run_2019_RGRF-Z_3600_GRF20191206_hourly.pkl',\n",
       " 'run_2019_RGRF-Z_3600_GRF20191026_hourly.pkl',\n",
       " 'run_2019_RGRF-Z_3600_GRF20190514_hourly.pkl',\n",
       " 'run_2019_RGRF-Z_3600_GRF20191222_hourly.pkl',\n",
       " 'run_2019_RGRF-Z_3600_GRF20190131_hourly.pkl',\n",
       " 'run_2019_RGRF-Z_3600_GRF20190314_hourly.pkl',\n",
       " 'run_2019_RGRF-Z_3600_GRF20191120_hourly.pkl',\n",
       " 'run_2019_RGRF-Z_3600_GRF20190322_hourly.pkl',\n",
       " 'run_2019_RGRF-Z_3600_GRF20190817_hourly.pkl',\n",
       " 'run_2019_RGRF-Z_3600_GRF20191230_hourly.pkl',\n",
       " 'run_2019_RGRF-Z_3600_GRF20190405_hourly.pkl',\n",
       " 'run_2019_RGRF-Z_3600_GRF20190922_hourly.pkl',\n",
       " 'run_2019_RGRF-Z_3600_GRF20191130_hourly.pkl',\n",
       " 'run_2019_RGRF-Z_3600_GRF20190529_hourly.pkl',\n",
       " 'run_2019_RGRF-Z_3600_GRF20190503_hourly.pkl',\n",
       " 'run_2019_RGRF-Z_3600_GRF20191004_hourly.pkl',\n",
       " 'run_2019_RGRF-Z_3600_GRF20191017_hourly.pkl',\n",
       " 'run_2019_RGRF-Z_3600_GRF20190622_hourly.pkl',\n",
       " 'run_2019_RGRF-Z_3600_GRF_stats.pkl',\n",
       " 'run_2019_RGRF-Z_3600_GRF20190116_hourly.pkl',\n",
       " 'run_2019_RGRF-Z_3600_GRF20191027_hourly.pkl',\n",
       " 'run_2019_RGRF-Z_3600_GRF20191219_hourly.pkl',\n",
       " 'run_2019_RGRF-Z_3600_GRF20191218_hourly.pkl',\n",
       " 'run_2019_RGRF-Z_3600_GRF20190413_hourly.pkl',\n",
       " 'run_2019_RGRF-Z_3600_GRF20190424_hourly.pkl',\n",
       " 'run_2019_RGRF-Z_3600_GRF20190706_hourly.pkl',\n",
       " 'run_2019_RGRF-Z_3600_GRF20191011_hourly.pkl',\n",
       " 'run_2019_RGRF-Z_3600_GRF20191126_hourly.pkl',\n",
       " 'run_2019_RGRF-Z_3600_GRF20191123_hourly.pkl',\n",
       " 'run_2019_RGRF-Z_3600_GRF20191228_hourly.pkl',\n",
       " 'run_2019_RGRF-Z_3600_GRF20190725_hourly.pkl',\n",
       " 'run_2019_RGRF-Z_3600_GRF20190222_hourly.pkl',\n",
       " 'run_2019_RGRF-Z_3600_GRF20191223_hourly.pkl',\n",
       " 'run_2019_RGRF-Z_3600_GRF20190527_hourly.pkl']"
      ]
     },
     "execution_count": 10,
     "metadata": {},
     "output_type": "execute_result"
    }
   ],
   "source": [
    "os.listdir( f\"{root_path}ROMY/RotationSpectra/data/run_2019_RGRF-Z_3600_GRF\" )"
   ]
  },
  {
   "cell_type": "markdown",
   "id": "subject-expression",
   "metadata": {},
   "source": [
    "## Configurations"
   ]
  },
  {
   "cell_type": "code",
   "execution_count": 11,
   "id": "e89d22a7",
   "metadata": {
    "ExecuteTime": {
     "end_time": "2022-11-10T10:47:45.437107Z",
     "start_time": "2022-11-10T10:47:45.384761Z"
    }
   },
   "outputs": [],
   "source": [
    "inname = \"run_2019_RGRF-Z_3600_GRF\"\n",
    "inpath = f\"{root_path}ROMY/RotationSpectra/data/{inname}/\"\n",
    "\n",
    "\n",
    "# config = pickle.load(open(inpath+inname+\"_config.pick\", 'rb'))\n",
    "config = pickle.load(open(inpath+inname+\"_config.pkl\", 'rb'))\n",
    "\n",
    "config['save'] = True\n",
    "\n",
    "config['inname'] = inname\n",
    "config['inpath'] = inpath\n",
    "\n",
    "config['rlnm_model_path'] = f\"{root_path}LNM/data/MODELS/\"\n",
    "\n",
    "config['frequency_limits'] = [1/200, 1]\n",
    "\n",
    "## load frequencies\n",
    "ff_Z = pickle.load(open(f\"{config['inpath'].replace('Z','Z')}{config['inname'].replace('Z','Z')}_frequency_axis.pkl\", 'rb'))\n",
    "ff_N = pickle.load(open(f\"{config['inpath'].replace('Z','N')}{config['inname'].replace('Z','N')}_frequency_axis.pkl\", 'rb'))\n",
    "ff_E = pickle.load(open(f\"{config['inpath'].replace('Z','E')}{config['inname'].replace('Z','E')}_frequency_axis.pkl\", 'rb'))"
   ]
  },
  {
   "cell_type": "markdown",
   "id": "natural-beginning",
   "metadata": {},
   "source": [
    "## Processing "
   ]
  },
  {
   "cell_type": "code",
   "execution_count": 12,
   "id": "35510bc2",
   "metadata": {
    "ExecuteTime": {
     "end_time": "2022-11-10T10:47:45.440879Z",
     "start_time": "2022-11-10T10:47:45.438387Z"
    },
    "code_folding": [
     0
    ]
   },
   "outputs": [],
   "source": [
    "def __load_data(path, name):\n",
    "    file = f\"{path}{name}_daily_medians.pkl\"\n",
    "    print(f\" -> loading {file} ...\")\n",
    "    \n",
    "    psds_all = read_pickle(file)\n",
    "    \n",
    "    return psds_all"
   ]
  },
  {
   "cell_type": "code",
   "execution_count": 13,
   "id": "1d9ee684",
   "metadata": {
    "ExecuteTime": {
     "end_time": "2022-11-10T10:47:46.044932Z",
     "start_time": "2022-11-10T10:47:45.442068Z"
    }
   },
   "outputs": [
    {
     "name": "stdout",
     "output_type": "stream",
     "text": [
      " -> loading /import/kilauea-data/ROMY/RotationSpectra/data/run_2019_RGRF-Z_3600_GRF/run_2019_RGRF-Z_3600_GRF_daily_medians.pkl ...\n",
      " -> loading /import/kilauea-data/ROMY/RotationSpectra/data/run_2019_RGRF-N_3600_GRF/run_2019_RGRF-N_3600_GRF_daily_medians.pkl ...\n",
      " -> loading /import/kilauea-data/ROMY/RotationSpectra/data/run_2019_RGRF-E_3600_GRF/run_2019_RGRF-E_3600_GRF_daily_medians.pkl ...\n"
     ]
    }
   ],
   "source": [
    "ADR_Z_df = __load_data(config['inpath'].replace(\"Z\",\"Z\"), config['inname'].replace(\"Z\",\"Z\"))\n",
    "\n",
    "ADR_N_df = __load_data(config['inpath'].replace(\"Z\",\"N\"), config['inname'].replace(\"Z\",\"N\"))\n",
    "\n",
    "ADR_E_df = __load_data(config['inpath'].replace(\"Z\",\"E\"), config['inname'].replace(\"Z\",\"E\"))"
   ]
  },
  {
   "cell_type": "code",
   "execution_count": 14,
   "id": "ebfa70de",
   "metadata": {
    "ExecuteTime": {
     "end_time": "2022-11-10T10:47:46.049719Z",
     "start_time": "2022-11-10T10:47:46.045970Z"
    },
    "code_folding": [
     0
    ]
   },
   "outputs": [],
   "source": [
    "def __cut_frequencies_dataframe(df_psd, fmin, fmax, freqs=None):\n",
    "    ind = []\n",
    "    if freqs is None:\n",
    "        frequencies = df_psd['frequencies']\n",
    "    else:\n",
    "        frequencies = freqs\n",
    "    \n",
    "    for i,f in enumerate(frequencies):    \n",
    "        if f >= fmin and f <= fmax:\n",
    "            ind.append(i)\n",
    "    df = df_psd.iloc[ind[0]:ind[-1],:]\n",
    "    df.reset_index(drop=True, inplace=True)\n",
    "    \n",
    "    if freqs is None:\n",
    "        ff_new = None\n",
    "    else:\n",
    "        ff_new = freqs[ind[0]:ind[-1]]\n",
    "        \n",
    "    print(df.shape, len(ff_new))\n",
    "    return df, ff_new"
   ]
  },
  {
   "cell_type": "code",
   "execution_count": 15,
   "id": "04ae2fb2",
   "metadata": {
    "ExecuteTime": {
     "end_time": "2022-11-10T10:47:46.080653Z",
     "start_time": "2022-11-10T10:47:46.050807Z"
    }
   },
   "outputs": [
    {
     "name": "stdout",
     "output_type": "stream",
     "text": [
      "(1237, 365) 1237\n",
      "(1237, 365) 1237\n",
      "(1237, 365) 1237\n"
     ]
    }
   ],
   "source": [
    "ADR_Z_df, ff_Z = __cut_frequencies_dataframe(ADR_Z_df, 1/30, 1, freqs=ff_Z)\n",
    "ADR_N_df, ff_N = __cut_frequencies_dataframe(ADR_N_df, 1/30, 1, freqs=ff_N)\n",
    "ADR_E_df, ff_E = __cut_frequencies_dataframe(ADR_E_df, 1/30, 1, freqs=ff_E)"
   ]
  },
  {
   "cell_type": "code",
   "execution_count": 16,
   "id": "d3eea5d7",
   "metadata": {
    "ExecuteTime": {
     "end_time": "2022-11-10T10:47:46.297203Z",
     "start_time": "2022-11-10T10:47:46.081507Z"
    }
   },
   "outputs": [],
   "source": [
    "ADR_Z = __get_array_from_dataframe(ADR_Z_df)\n",
    "ADR_N = __get_array_from_dataframe(ADR_N_df)\n",
    "ADR_E = __get_array_from_dataframe(ADR_E_df)"
   ]
  },
  {
   "cell_type": "code",
   "execution_count": 17,
   "id": "2b8b1666",
   "metadata": {
    "ExecuteTime": {
     "end_time": "2022-11-10T10:47:46.299563Z",
     "start_time": "2022-11-10T10:47:46.298112Z"
    },
    "code_folding": []
   },
   "outputs": [],
   "source": [
    "# if \"RLAS-Z\" in config['inname'].split(\"_\"):\n",
    "#     psds_all = __remove_noisy_psds(psds_all, threshold_mean=1e-21)\n",
    "# elif \"ROMY-Z\" in config['inname'].split(\"_\"):\n",
    "#     psds_all = __remove_noisy_psds(psds_all, threshold_mean=1e-19)"
   ]
  },
  {
   "cell_type": "markdown",
   "id": "086fd5d0",
   "metadata": {},
   "source": [
    "## Plotting"
   ]
  },
  {
   "cell_type": "code",
   "execution_count": 18,
   "id": "ce64c931",
   "metadata": {
    "ExecuteTime": {
     "end_time": "2022-11-10T10:47:46.318132Z",
     "start_time": "2022-11-10T10:47:46.300601Z"
    },
    "code_folding": [
     0
    ]
   },
   "outputs": [],
   "source": [
    "def __makeplot_colorlines(config, ff, psds, dates):\n",
    "\n",
    "#     from numpy import isnan, median, mean, std, array\n",
    "        \n",
    "    psds_median  = __get_median_psd(array(psds))\n",
    "    psds_minimal = __get_minimal_psd(array(psds))\n",
    "#     psds_minimum = __get_minimum_psd(array(psds), ff)\n",
    "    \n",
    "        \n",
    "    ##____________________________\n",
    "    \n",
    "    fig, ax = plt.subplots(1,1, figsize=(15,10), sharey=False, sharex=True)\n",
    "\n",
    "    font = 12\n",
    "\n",
    "    N = psds.shape[0]\n",
    "    colors = plt.cm.rainbow(linspace(0, 1, N))\n",
    "\n",
    "    for n, psd in enumerate(psds):\n",
    "        ax.loglog(ff, psd, color=colors[n], alpha=0.7)\n",
    "\n",
    "\n",
    "    ## add scatter for colorbar object only\n",
    "    for n, psd in enumerate(psds):\n",
    "        p2 = ax.scatter(ff[0], psd[0], s=0., c=n, cmap='rainbow', vmin=0, vmax=N)\n",
    "\n",
    "    ## plot statistics\n",
    "    ax.loglog(ff, psds_median, 'black', zorder=3, alpha=0.9)\n",
    "#     ax.loglog(ff, psds_minimal, 'black', zorder=2, alpha=1.0)\n",
    "#     ax.loglog(ff, psds_minimum, 'k', zorder=2, alpha=0.8)\n",
    "    \n",
    "    \n",
    "    ## theoretical rlnm\n",
    "    rlnm = read_csv(config['rlnm_model_path']+\"rlnm_theory.csv\")\n",
    "    ax.loglog(rlnm['period'], rlnm['rlnm_psd_median'], color=\"grey\", zorder=2, lw=2, label=\"RLNM\")\n",
    "    \n",
    "\n",
    "#     ax.set_title(\"Minimal PSD\", fontsize=font)\n",
    "#     ax.set_title(\"Minimum PSD\", fontsize=font)\n",
    "\n",
    "\n",
    "#     ax.set_xlabel(\"Frequency (Hz)\", fontsize=font)\n",
    "    ax.set_xlabel(\"Period (s)\", fontsize=font)\n",
    "\n",
    "    ax.set_ylabel(r\"PSD (rad$^2$/s$^2$/$Hz)$\", fontsize=font)\n",
    "    \n",
    "    ax.grid(True, which=\"both\", ls=\"-\", alpha=0.7)\n",
    "    \n",
    "    ax.set_xlim(1,200)\n",
    "    ax.set_ylim(1e-26,1e-20)\n",
    "    \n",
    "    ## set colorbar at bottom\n",
    "    cbar = fig.colorbar(p2, orientation='horizontal', ax=ax, aspect=50)\n",
    "\n",
    "    ## redefine ticks of colorbar\n",
    "    new_ticks=[]\n",
    "    for t in cbar.get_ticks(): \n",
    "        new_ticks.append(dates.astype(str)[int(t)])\n",
    "    cbar.ax.set_xticklabels(new_ticks)\n",
    "\n",
    "\n",
    "    plt.show();\n",
    "    \n",
    "    return fig"
   ]
  },
  {
   "cell_type": "code",
   "execution_count": 19,
   "id": "d5a44ac1",
   "metadata": {
    "ExecuteTime": {
     "end_time": "2022-11-10T10:47:46.335750Z",
     "start_time": "2022-11-10T10:47:46.319137Z"
    },
    "code_folding": []
   },
   "outputs": [],
   "source": [
    "# fig, out = __makeplot_colorlines(config, 1/ff, GRF_Z, GRF_Z_df.columns)\n",
    "# fig, out = __makeplot_colorlines(config, 1/ff, GRF_N, GRF_N_df.columns)\n",
    "# fig, out = __makeplot_colorlines(config, 1/ff, GRF_E, GRF_E_df.columns)"
   ]
  },
  {
   "cell_type": "code",
   "execution_count": 24,
   "id": "eec74dbe",
   "metadata": {
    "ExecuteTime": {
     "end_time": "2022-11-10T11:54:20.556894Z",
     "start_time": "2022-11-10T11:54:20.509189Z"
    },
    "code_folding": []
   },
   "outputs": [],
   "source": [
    "def __makeplot_colorlines_overview(ff, psds, dates=None):\n",
    "    \n",
    "    from tqdm.notebook import tqdm\n",
    "    from numpy import isnan, median, mean, std, array, zeros\n",
    "    from scipy.stats import median_abs_deviation as mad\n",
    "    \n",
    "#     psds_median = __get_median_psd(array(psds))\n",
    "#     psds_minimal = __get_minimal_psd(array(psds))\n",
    "#     psds_minimum = __get_minimum_psd(array(psds), ff)\n",
    "\n",
    "    ## theoretical rlnm\n",
    "    rlnm = read_csv(config['rlnm_model_path']+\"rlnm_theory.csv\")\n",
    "\n",
    "    pp = zeros(len(ff))\n",
    "    pp[:-1] = 1/ff[1:]\n",
    "        \n",
    "    ##____________________________\n",
    "    \n",
    "    NN = 3\n",
    "    \n",
    "    fig, axes = plt.subplots(NN,1, figsize=(10,10), sharey=False, sharex=True)\n",
    "\n",
    "    plt.subplots_adjust(hspace=0.1)\n",
    "    \n",
    "    font = 14\n",
    "\n",
    "    N = psds[0].shape[0]\n",
    "    colors = plt.cm.rainbow(linspace(0, 1, N))\n",
    "\n",
    "    for j in range(NN):\n",
    "        for n, psd in enumerate(tqdm(psds[j])):\n",
    "            axes[j].loglog(pp, psd, color=colors[n], alpha=0.7)\n",
    "            p2 = axes[j].scatter(ff[0], psd[0], s=0., c=n, cmap='rainbow', vmin=0, vmax=N)\n",
    " \n",
    "        axes[j].loglog(pp, __get_median_psd(psds[j]), 'black', zorder=3, alpha=0.9, label=\"Median\")\n",
    "        axes[j].loglog(rlnm['period'], rlnm['rlnm_psd_median'], color=\"black\", zorder=2, ls=\"--\", lw=2, label=\"RLNM\")\n",
    "        axes[j].set_ylabel(r\"PSD (rad$^2$/s$^2$/$Hz)$\", fontsize=font)\n",
    "        axes[j].grid(True, which=\"both\", ls=\"-\", alpha=0.5)\n",
    "        axes[j].set_xlim(1,200)\n",
    "        axes[j].set_ylim(1e-26, 1e-17)\n",
    "        axes[j].legend(loc='lower left')\n",
    "        axes[j].tick_params(labelsize=font-2)\n",
    "        \n",
    "#     ax.set_title(f\"{config['inname'].split('_')[2]} {config['inname'].split('_')[1]} ({len(psds)})\", fontsize=font)\n",
    "\n",
    "    axes[NN-1].set_xlabel(\"Period (s)\", fontsize=font)\n",
    "\n",
    "    \n",
    "    ## set colorbar at bottom\n",
    "    cbar = fig.colorbar(p2, orientation='vertical', ax=axes.ravel().tolist(), aspect=50)\n",
    "    \n",
    "    ## redefine ticks of colorbar\n",
    "    if dates is not None:\n",
    "        new_ticks = []\n",
    "        for t in cbar.get_ticks(): \n",
    "            new_ticks.append(dates.astype(str)[int(t)])\n",
    "        cbar.ax.set_yticklabels(new_ticks)\n",
    "\n",
    "\n",
    "    plt.show();    \n",
    "    return fig"
   ]
  },
  {
   "cell_type": "code",
   "execution_count": 25,
   "id": "4d7bf1f5",
   "metadata": {
    "ExecuteTime": {
     "end_time": "2022-11-10T11:54:29.939356Z",
     "start_time": "2022-11-10T11:54:21.818484Z"
    }
   },
   "outputs": [
    {
     "data": {
      "application/vnd.jupyter.widget-view+json": {
       "model_id": "93a59100da904a15840c7e8b99cb3db3",
       "version_major": 2,
       "version_minor": 0
      },
      "text/plain": [
       "  0%|          | 0/365 [00:00<?, ?it/s]"
      ]
     },
     "metadata": {},
     "output_type": "display_data"
    },
    {
     "data": {
      "application/vnd.jupyter.widget-view+json": {
       "model_id": "6eb4980e41cd411096aba5a315fc9781",
       "version_major": 2,
       "version_minor": 0
      },
      "text/plain": [
       "  0%|          | 0/365 [00:00<?, ?it/s]"
      ]
     },
     "metadata": {},
     "output_type": "display_data"
    },
    {
     "data": {
      "application/vnd.jupyter.widget-view+json": {
       "model_id": "b6f387917d0b49b78c5ea03b655648b0",
       "version_major": 2,
       "version_minor": 0
      },
      "text/plain": [
       "  0%|          | 0/365 [00:00<?, ?it/s]"
      ]
     },
     "metadata": {},
     "output_type": "display_data"
    },
    {
     "data": {
      "image/png": "[encoded data removed]",
      "text/plain": [
       "<Figure size 720x720 with 4 Axes>"
      ]
     },
     "metadata": {
      "needs_background": "light"
     },
     "output_type": "display_data"
    }
   ],
   "source": [
    "fig = __makeplot_colorlines_overview(ff_Z, [ADR_Z, ADR_N, ADR_E], dates=ADR_Z_df.columns)"
   ]
  },
  {
   "cell_type": "markdown",
   "id": "biblical-alloy",
   "metadata": {},
   "source": [
    "## Calculate and Plot Density"
   ]
  },
  {
   "cell_type": "code",
   "execution_count": null,
   "id": "9c352b03",
   "metadata": {
    "ExecuteTime": {
     "end_time": "2022-11-10T10:47:47.283174Z",
     "start_time": "2022-11-10T10:47:41.874Z"
    }
   },
   "outputs": [],
   "source": [
    "# output = __calculate_density(psds, bins=100, density=True)"
   ]
  },
  {
   "cell_type": "code",
   "execution_count": null,
   "id": "4e5005fc",
   "metadata": {
    "ExecuteTime": {
     "end_time": "2022-11-10T10:47:47.283761Z",
     "start_time": "2022-11-10T10:47:41.875Z"
    },
    "code_folding": [
     0
    ]
   },
   "outputs": [],
   "source": [
    "# def __makeplot_PPSD(ff, output, config, mode=None):\n",
    "\n",
    "#     from matplotlib import colors\n",
    "#     from numpy import ones, convolve, array, log10, roll, sqrt\n",
    "\n",
    "#     bins, bins_medians, bins_maximas, dist = output['bin_mids'], output['bins_medians'], output['bins_maximas'], output['dist']\n",
    "    \n",
    "#     if mode is \"DB\":\n",
    "#         y_axis = 10*log10(bins)\n",
    "#     elif mode is \"PSD\":\n",
    "#         y_axis = bins\n",
    "#     elif mode is \"ASD\":\n",
    "#         y_axis = sqrt(bins)\n",
    "        \n",
    "#     x_axis = ff\n",
    "\n",
    "#     ## plotting\n",
    "#     fig, ax = plt.subplots(1,1,figsize=(13,6))\n",
    "\n",
    "#     font=14\n",
    "\n",
    "#     cmap = plt.cm.get_cmap('magma_r')\n",
    "# #     cmap = plt.cm.get_cmap('gray_r')\n",
    "#     cmap.set_under(color='white')\n",
    "\n",
    "#     im = plt.pcolor(x_axis, y_axis, dist.T, \n",
    "#                     cmap=cmap,\n",
    "#                     vmin=1e-12, \n",
    "#                     alpha=0.99,\n",
    "#                    )\n",
    "\n",
    "#     ## add Frequency Axis\n",
    "#     g = lambda x: 1/x\n",
    "#     ax2 = ax.secondary_xaxis(\"top\", functions=(g,g))\n",
    "#     ax2.set_xlabel(\"Frequency in Hz\", fontsize=font, labelpad=5)\n",
    "#     ax2.set_xticklabels(1/ff, fontsize=11)    \n",
    "    \n",
    "    \n",
    "#     if mode is \"DB\":\n",
    "#         plt.plot(x_axis, 10*log10(bins_medians), color='black', alpha=0.5, label=\"RNLM\")\n",
    "#         plt.ylim(-200, -80)\n",
    "\n",
    "#     elif mode is \"PSD\":\n",
    "#         plt.plot(x_axis, bins_medians, color='black', alpha=0.5, label=\"RNLM\")\n",
    "#         plt.yscale('log')\n",
    "#         plt.ylim(10**-20, 10**-13)\n",
    "  \n",
    "#     elif mode is \"ASD\":  \n",
    "#         plt.plot(x_axis, sqrt(bins_medians), color='black', alpha=0.5, label=\"RNLM\")\n",
    "#         plt.yscale('log')\n",
    "#         plt.ylim(10**-10, 2*10**-7)\n",
    "\n",
    "    \n",
    "# #     plt.fill_betweenx(range(-270, -140), x1=0, x2=2.5, color=\"grey\", alpha=0.4)\n",
    "# #     plt.fill_betweenx(range(-270, -140), x1=200, x2=max(ff), color=\"grey\", alpha=0.4)\n",
    "\n",
    "#     ## modify x-axis\n",
    "#     plt.xscale('log')\n",
    "#     plt.xlim([min(x_axis), max(x_axis)])\n",
    "# #     plt.xlim(1, 300)\n",
    "    \n",
    "#     ## add colorbar\n",
    "#     caxes = fig.add_axes()\n",
    "#     cb = plt.colorbar(im, cax=caxes, alpha=1.0)\n",
    "    \n",
    "#     if output['set_density']:\n",
    "#         cb.set_label(\"Propability Density\", fontsize=font)\n",
    "#     else:\n",
    "#         cb.set_label(\"Counts\", fontsize=font)\n",
    "#         cb.set_label(\"Propability Density\", fontsize=font)\n",
    "    \n",
    "#     if mode is \"DB\":\n",
    "# #         plt.ylabel(r\"PPSD in dB (rel. to 1 m$^4$/s$^2$/$Hz$)\", fontsize=font)\n",
    "#         plt.ylabel(r\"PPSD in dB (rel. to 1 rad$^2$/s$^2$/$Hz$)\", fontsize=font)\n",
    "#     elif mode is \"PSD\":\n",
    "# #         plt.ylabel(r\"PPSD in m$^4$/s$^2$/$Hz$\", fontsize=font)\n",
    "#         plt.ylabel(r\"PPSD in $\\frac{rad^2}{s^2 Hz}$\", fontsize=font)\n",
    "#     elif mode is \"ASD\":\n",
    "#         plt.ylabel(r\"PASD in $\\frac{rad}{s \\sqrt{Hz}}$\", fontsize=font)\n",
    "        \n",
    "#     plt.grid(axis=\"both\", which=\"both\", ls=\"--\", zorder=0)\n",
    "#     plt.legend()\n",
    "    \n",
    "#     plt.xlabel(\"Period in seconds\", fontsize=font)\n",
    "\n",
    "#     plt.tick_params(axis='both', labelsize=font-2)\n",
    "\n",
    "#     plt.show();\n",
    "#     return fig"
   ]
  },
  {
   "cell_type": "code",
   "execution_count": null,
   "id": "f25eeaa9",
   "metadata": {
    "ExecuteTime": {
     "end_time": "2022-11-10T10:47:47.284421Z",
     "start_time": "2022-11-10T10:47:41.876Z"
    }
   },
   "outputs": [],
   "source": [
    "# fig = __makeplot_PPSD(ff, output, config, mode=\"ASD\")"
   ]
  },
  {
   "cell_type": "code",
   "execution_count": null,
   "id": "bd06a81e",
   "metadata": {
    "ExecuteTime": {
     "end_time": "2022-05-04T14:08:39.999086Z",
     "start_time": "2022-05-04T14:08:39.995422Z"
    }
   },
   "outputs": [],
   "source": []
  },
  {
   "cell_type": "code",
   "execution_count": null,
   "id": "82aff0c2",
   "metadata": {},
   "outputs": [],
   "source": []
  }
 ],
 "metadata": {
  "kernelspec": {
   "display_name": "Python 3",
   "language": "python",
   "name": "python3"
  },
  "language_info": {
   "codemirror_mode": {
    "name": "ipython",
    "version": 3
   },
   "file_extension": ".py",
   "mimetype": "text/x-python",
   "name": "python",
   "nbconvert_exporter": "python",
   "pygments_lexer": "ipython3",
   "version": "3.7.7"
  },
  "latex_envs": {
   "LaTeX_envs_menu_present": true,
   "autoclose": false,
   "autocomplete": true,
   "bibliofile": "biblio.bib",
   "cite_by": "apalike",
   "current_citInitial": 1,
   "eqLabelWithNumbers": true,
   "eqNumInitial": 1,
   "hotkeys": {
    "equation": "Ctrl-E",
    "itemize": "Ctrl-I"
   },
   "labels_anchors": false,
   "latex_user_defs": false,
   "report_style_numbering": false,
   "user_envs_cfg": false
  },
  "toc": {
   "base_numbering": 1,
   "nav_menu": {},
   "number_sections": true,
   "sideBar": true,
   "skip_h1_title": false,
   "title_cell": "Table of Contents",
   "title_sidebar": "Contents",
   "toc_cell": false,
   "toc_position": {},
   "toc_section_display": true,
   "toc_window_display": false
  }
 },
 "nbformat": 4,
 "nbformat_minor": 5
}
