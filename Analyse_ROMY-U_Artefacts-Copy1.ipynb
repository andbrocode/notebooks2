{
 "cells": [
  {
   "cell_type": "code",
   "execution_count": 5,
   "id": "57bf631e",
   "metadata": {
    "ExecuteTime": {
     "end_time": "2022-08-29T23:54:13.359760Z",
     "start_time": "2022-08-29T23:54:13.351389Z"
    }
   },
   "outputs": [],
   "source": [
    "import pandas as pd\n",
    "import obspy as obs\n",
    "import matplotlib.pyplot as plt\n",
    "\n",
    "from obspy.signal import PPSD\n",
    "from andbro__querrySeismoData import __querrySeismoData\n",
    "from andbro__makeplot_trace_spectrum import __makeplot_trace_and_spectrum\n",
    "from andbro__filterStream import __filterStream\n",
    "from andbro__makeplot_trace_spectrogram import __makeplot_trace_spectrogram\n",
    "from andbro__rotate_STS2 import __rotate_STS2"
   ]
  },
  {
   "cell_type": "code",
   "execution_count": 6,
   "id": "29f1e982",
   "metadata": {
    "ExecuteTime": {
     "end_time": "2022-08-29T23:54:13.660391Z",
     "start_time": "2022-08-29T23:54:13.653041Z"
    },
    "code_folding": [
     0
    ]
   },
   "outputs": [],
   "source": [
    "def __get_inventory_from_client(config):\n",
    "\n",
    "    from obspy.clients.fdsn import Client\n",
    "\n",
    "    cli = Client(base_url=config['client'], timeout=100)\n",
    "\n",
    "    try:\n",
    "        inv = cli.get_stations(network=config['seed'].split(\".\")[0],\n",
    "                               station=config['seed'].split(\".\")[1],\n",
    "                               location=config['seed'].split(\".\")[2],\n",
    "                               channel='*',\n",
    "                               starttime=tbeg,\n",
    "                               endtime=tend,\n",
    "                               level=\"response\")\n",
    "    except:\n",
    "        print(f\"ERROR: failed to load inventory for {config['seed'].split('.')[1]}!\")\n",
    "\n",
    "    return inv"
   ]
  },
  {
   "cell_type": "code",
   "execution_count": 7,
   "id": "af0f5cb7",
   "metadata": {
    "ExecuteTime": {
     "end_time": "2022-08-29T23:54:13.910680Z",
     "start_time": "2022-08-29T23:54:13.905083Z"
    }
   },
   "outputs": [],
   "source": [
    "config = {}\n",
    "\n",
    "config['seed'] = \"BW.DROMY..FJZ\"\n",
    "# config['seed'] = \"BW.ROMY..HJU\"\n",
    "\n",
    "## before\n",
    "config['tbeg'] = \"2022-03-24 13:00\"\n",
    "config['tend'] = \"2022-03-24 14:50\"\n",
    "\n",
    "## after\n",
    "config['tbeg'] = \"2022-03-23 15:30\"\n",
    "config['tend'] = \"2022-03-23 16:10\"\n",
    "\n",
    "\n",
    "## after Ulli & Jan visit and Monobeam installation\n",
    "config['tbeg'] = \"2022-03-31 19:00\"\n",
    "config['tend'] = \"2022-03-31 19:30\"\n",
    "\n",
    "## after closing open ends\n",
    "config['tbeg'] = \"2022-04-05 06:00\"\n",
    "config['tend'] = \"2022-04-05 07:00\"\n",
    "\n",
    "## supposed cross-talk RV & RW\n",
    "config['tbeg'] = \"2022-04-01 14:00\"\n",
    "config['tend'] = \"2022-04-01 15:00\"\n",
    "\n",
    "## Data for Angela\n",
    "config['tbeg'] = \"2022-08-13 00:00\"\n",
    "config['tend'] = \"2022-08-14 00:00\"\n",
    "\n",
    "if config['seed'].split(\".\")[3][0] == \"F\":\n",
    "    config['repo'] = \"archive\"\n",
    "else:\n",
    "    config['repo'] = \"george\"\n",
    "    \n",
    "config['path'] = None\n",
    "\n",
    "config['client'] = \"http://george\""
   ]
  },
  {
   "cell_type": "markdown",
   "id": "33075fc1",
   "metadata": {},
   "source": [
    "## Load Data"
   ]
  },
  {
   "cell_type": "code",
   "execution_count": 8,
   "id": "3200f85d",
   "metadata": {
    "ExecuteTime": {
     "end_time": "2022-08-29T23:54:17.178054Z",
     "start_time": "2022-08-29T23:54:17.171784Z"
    }
   },
   "outputs": [
    {
     "ename": "SystemExit",
     "evalue": "no such path: \n /import/freenas-ffb-01-data/romy_archive/2022/BW/DROMY/FJZ.D/BW.DROMY..FJZ.D.2022.225",
     "output_type": "error",
     "traceback": [
      "An exception has occurred, use %tb to see the full traceback.\n",
      "\u001b[0;31mSystemExit\u001b[0m\u001b[0;31m:\u001b[0m no such path: \n /import/freenas-ffb-01-data/romy_archive/2022/BW/DROMY/FJZ.D/BW.DROMY..FJZ.D.2022.225\n"
     ]
    }
   ],
   "source": [
    "st00, inv = __querrySeismoData(\n",
    "                            seed_id=config.get(\"seed\"),\n",
    "                            starttime=config.get(\"tbeg\"),\n",
    "                            endtime=config.get(\"tend\"),\n",
    "                            repository=config.get(\"repo\"),\n",
    "                            path=config['path'],\n",
    "                            restitute=False,\n",
    "                            detail=True,\n",
    "                            fill_value=None,\n",
    "                            )\n",
    "# st00.remove_sensitivity(inv)\n",
    "st00.plot(equal_scale=False);"
   ]
  },
  {
   "cell_type": "code",
   "execution_count": 2,
   "id": "59a02ac5",
   "metadata": {
    "ExecuteTime": {
     "end_time": "2022-08-16T13:13:38.238758Z",
     "start_time": "2022-08-16T13:13:38.234093Z"
    }
   },
   "outputs": [
    {
     "ename": "NameError",
     "evalue": "name 'st00' is not defined",
     "output_type": "error",
     "traceback": [
      "\u001b[0;31m---------------------------------------------------------------------------\u001b[0m",
      "\u001b[0;31mNameError\u001b[0m                                 Traceback (most recent call last)",
      "\u001b[0;32m<ipython-input-2-f09e09528943>\u001b[0m in \u001b[0;36m<module>\u001b[0;34m\u001b[0m\n\u001b[0;32m----> 1\u001b[0;31m \u001b[0mst\u001b[0m \u001b[0;34m=\u001b[0m \u001b[0mst00\u001b[0m\u001b[0;34m.\u001b[0m\u001b[0mcopy\u001b[0m\u001b[0;34m(\u001b[0m\u001b[0;34m)\u001b[0m\u001b[0;34m\u001b[0m\u001b[0;34m\u001b[0m\u001b[0m\n\u001b[0m\u001b[1;32m      2\u001b[0m \u001b[0;34m\u001b[0m\u001b[0m\n\u001b[1;32m      3\u001b[0m \u001b[0;32mif\u001b[0m \u001b[0;32mFalse\u001b[0m\u001b[0;34m:\u001b[0m\u001b[0;34m\u001b[0m\u001b[0;34m\u001b[0m\u001b[0m\n\u001b[1;32m      4\u001b[0m     \u001b[0mst\u001b[0m\u001b[0;34m.\u001b[0m\u001b[0mdetrend\u001b[0m\u001b[0;34m(\u001b[0m\u001b[0;34m'demean'\u001b[0m\u001b[0;34m)\u001b[0m\u001b[0;34m\u001b[0m\u001b[0;34m\u001b[0m\u001b[0m\n\u001b[1;32m      5\u001b[0m \u001b[0;34m\u001b[0m\u001b[0m\n",
      "\u001b[0;31mNameError\u001b[0m: name 'st00' is not defined"
     ]
    }
   ],
   "source": [
    "st = st00.copy()\n",
    "\n",
    "if False:\n",
    "    st.detrend('demean')\n",
    "\n",
    "    # st.remove_response(inv, output=\"VEL\", zero_mean=True)\n",
    "\n",
    "\n",
    "    st.taper(0.1)\n",
    "\n",
    "    fmin, fmax = 0.001, 60\n",
    "    # st.filter('bandpass', freqmin=fmin, freqmax=fmax, corners=4, zerophase=True)\n",
    "    st.filter('lowpass', freq=fmax, corners=8, zerophase=True)\n",
    "    # st.filter('highpass', freq=fmin, corners=4, zerophase=True)\n",
    "    # st.filter('bandstop', freqmin=0.05, freqmax=0.08, corners=4)\n",
    "\n",
    "    st.resample(fmax*2)\n",
    "\n",
    "    st.plot(equal_scale=False);"
   ]
  },
  {
   "cell_type": "code",
   "execution_count": 3,
   "id": "a9063000",
   "metadata": {
    "ExecuteTime": {
     "end_time": "2022-08-16T13:13:38.431087Z",
     "start_time": "2022-08-16T13:13:38.426237Z"
    }
   },
   "outputs": [
    {
     "ename": "NameError",
     "evalue": "name 'st' is not defined",
     "output_type": "error",
     "traceback": [
      "\u001b[0;31m---------------------------------------------------------------------------\u001b[0m",
      "\u001b[0;31mNameError\u001b[0m                                 Traceback (most recent call last)",
      "\u001b[0;32m<ipython-input-3-d51176174de3>\u001b[0m in \u001b[0;36m<module>\u001b[0;34m\u001b[0m\n\u001b[0;32m----> 1\u001b[0;31m \u001b[0;32mfor\u001b[0m \u001b[0mtr\u001b[0m \u001b[0;32min\u001b[0m \u001b[0mst\u001b[0m\u001b[0;34m:\u001b[0m\u001b[0;34m\u001b[0m\u001b[0;34m\u001b[0m\u001b[0m\n\u001b[0m\u001b[1;32m      2\u001b[0m     \u001b[0m__makeplot_trace_and_spectrum\u001b[0m\u001b[0;34m(\u001b[0m\u001b[0mtr\u001b[0m\u001b[0;34m,\u001b[0m \u001b[0mfmax\u001b[0m\u001b[0;34m=\u001b[0m\u001b[0;36m0.5\u001b[0m\u001b[0;34m/\u001b[0m\u001b[0mtr\u001b[0m\u001b[0;34m.\u001b[0m\u001b[0mstats\u001b[0m\u001b[0;34m.\u001b[0m\u001b[0mdelta\u001b[0m\u001b[0;34m,\u001b[0m \u001b[0maxis_scale\u001b[0m\u001b[0;34m=\u001b[0m\u001b[0;34m\"loglog\"\u001b[0m\u001b[0;34m,\u001b[0m \u001b[0mgrid\u001b[0m\u001b[0;34m=\u001b[0m\u001b[0;32mTrue\u001b[0m\u001b[0;34m,\u001b[0m \u001b[0msmoothing\u001b[0m\u001b[0;34m=\u001b[0m\u001b[0;32mNone\u001b[0m\u001b[0;34m,\u001b[0m \u001b[0mfulloutput\u001b[0m\u001b[0;34m=\u001b[0m\u001b[0;32mTrue\u001b[0m\u001b[0;34m,\u001b[0m \u001b[0mflip\u001b[0m\u001b[0;34m=\u001b[0m\u001b[0;32mTrue\u001b[0m\u001b[0;34m)\u001b[0m\u001b[0;34m;\u001b[0m\u001b[0;34m\u001b[0m\u001b[0;34m\u001b[0m\u001b[0m\n\u001b[1;32m      3\u001b[0m \u001b[0;31m#     __makeplot_trace_and_spectrum(tr, fmax=0.5/tr.stats.delta, axis_scale=\"linlin\", grid=True, smoothing=None, fulloutput=False, flip=True);\u001b[0m\u001b[0;34m\u001b[0m\u001b[0;34m\u001b[0m\u001b[0;34m\u001b[0m\u001b[0m\n\u001b[1;32m      4\u001b[0m \u001b[0;34m\u001b[0m\u001b[0m\n\u001b[1;32m      5\u001b[0m \u001b[0mplt\u001b[0m\u001b[0;34m.\u001b[0m\u001b[0mshow\u001b[0m\u001b[0;34m(\u001b[0m\u001b[0;34m)\u001b[0m\u001b[0;34m;\u001b[0m\u001b[0;34m\u001b[0m\u001b[0;34m\u001b[0m\u001b[0m\n",
      "\u001b[0;31mNameError\u001b[0m: name 'st' is not defined"
     ]
    }
   ],
   "source": [
    "for tr in st:\n",
    "    __makeplot_trace_and_spectrum(tr, fmax=0.5/tr.stats.delta, axis_scale=\"loglog\", grid=True, smoothing=None, fulloutput=True, flip=True);\n",
    "#     __makeplot_trace_and_spectrum(tr, fmax=0.5/tr.stats.delta, axis_scale=\"linlin\", grid=True, smoothing=None, fulloutput=False, flip=True);\n",
    "\n",
    "plt.show();"
   ]
  },
  {
   "cell_type": "code",
   "execution_count": 4,
   "id": "a14a3ca9",
   "metadata": {
    "ExecuteTime": {
     "end_time": "2022-08-16T13:13:38.595914Z",
     "start_time": "2022-08-16T13:13:38.594453Z"
    }
   },
   "outputs": [],
   "source": [
    "# params = [1048, 128, 32]\n",
    "\n",
    "# for tr in st:\n",
    "#     __makeplot_trace_spectrogram(tr, unit='hour', normalize=True, spec_param=params);\n",
    "# plt.show();"
   ]
  },
  {
   "cell_type": "markdown",
   "id": "29bc4a6d",
   "metadata": {},
   "source": [
    "### Cut a Section "
   ]
  },
  {
   "cell_type": "code",
   "execution_count": 5,
   "id": "5ec75bf6",
   "metadata": {
    "ExecuteTime": {
     "end_time": "2022-08-16T13:13:38.958619Z",
     "start_time": "2022-08-16T13:13:38.953749Z"
    }
   },
   "outputs": [
    {
     "ename": "NameError",
     "evalue": "name 'st' is not defined",
     "output_type": "error",
     "traceback": [
      "\u001b[0;31m---------------------------------------------------------------------------\u001b[0m",
      "\u001b[0;31mNameError\u001b[0m                                 Traceback (most recent call last)",
      "\u001b[0;32m<ipython-input-5-5f88ffe3644c>\u001b[0m in \u001b[0;36m<module>\u001b[0;34m\u001b[0m\n\u001b[0;32m----> 1\u001b[0;31m \u001b[0mst2\u001b[0m \u001b[0;34m=\u001b[0m \u001b[0mst\u001b[0m\u001b[0;34m.\u001b[0m\u001b[0mcopy\u001b[0m\u001b[0;34m(\u001b[0m\u001b[0;34m)\u001b[0m\u001b[0;34m\u001b[0m\u001b[0;34m\u001b[0m\u001b[0m\n\u001b[0m\u001b[1;32m      2\u001b[0m \u001b[0mst2\u001b[0m \u001b[0;34m=\u001b[0m \u001b[0mst2\u001b[0m\u001b[0;34m.\u001b[0m\u001b[0mtrim\u001b[0m\u001b[0;34m(\u001b[0m\u001b[0mobs\u001b[0m\u001b[0;34m.\u001b[0m\u001b[0mUTCDateTime\u001b[0m\u001b[0;34m(\u001b[0m\u001b[0;34m\"2022-04-01 14:10\"\u001b[0m\u001b[0;34m)\u001b[0m\u001b[0;34m,\u001b[0m\u001b[0mobs\u001b[0m\u001b[0;34m.\u001b[0m\u001b[0mUTCDateTime\u001b[0m\u001b[0;34m(\u001b[0m\u001b[0;34m\"2022-04-01 14:10:0.2\"\u001b[0m\u001b[0;34m)\u001b[0m\u001b[0;34m)\u001b[0m\u001b[0;34m\u001b[0m\u001b[0;34m\u001b[0m\u001b[0m\n\u001b[1;32m      3\u001b[0m \u001b[0;34m\u001b[0m\u001b[0m\n\u001b[1;32m      4\u001b[0m \u001b[0mst2\u001b[0m\u001b[0;34m.\u001b[0m\u001b[0mplot\u001b[0m\u001b[0;34m(\u001b[0m\u001b[0;34m)\u001b[0m\u001b[0;34m;\u001b[0m\u001b[0;34m\u001b[0m\u001b[0;34m\u001b[0m\u001b[0m\n",
      "\u001b[0;31mNameError\u001b[0m: name 'st' is not defined"
     ]
    }
   ],
   "source": [
    "st2 = st.copy()\n",
    "st2 = st2.trim(obs.UTCDateTime(\"2022-04-01 14:10\"),obs.UTCDateTime(\"2022-04-01 14:10:0.2\"))\n",
    "\n",
    "st2.plot();"
   ]
  },
  {
   "cell_type": "code",
   "execution_count": null,
   "id": "2aa82199",
   "metadata": {},
   "outputs": [],
   "source": [
    "st"
   ]
  },
  {
   "cell_type": "code",
   "execution_count": null,
   "id": "94ac44df",
   "metadata": {},
   "outputs": [],
   "source": []
  }
 ],
 "metadata": {
  "kernelspec": {
   "display_name": "Python 3",
   "language": "python",
   "name": "python3"
  },
  "language_info": {
   "codemirror_mode": {
    "name": "ipython",
    "version": 3
   },
   "file_extension": ".py",
   "mimetype": "text/x-python",
   "name": "python",
   "nbconvert_exporter": "python",
   "pygments_lexer": "ipython3",
   "version": "3.7.8"
  },
  "latex_envs": {
   "LaTeX_envs_menu_present": true,
   "autoclose": false,
   "autocomplete": true,
   "bibliofile": "biblio.bib",
   "cite_by": "apalike",
   "current_citInitial": 1,
   "eqLabelWithNumbers": true,
   "eqNumInitial": 1,
   "hotkeys": {
    "equation": "Ctrl-E",
    "itemize": "Ctrl-I"
   },
   "labels_anchors": false,
   "latex_user_defs": false,
   "report_style_numbering": false,
   "user_envs_cfg": false
  },
  "toc": {
   "base_numbering": 1,
   "nav_menu": {},
   "number_sections": true,
   "sideBar": true,
   "skip_h1_title": false,
   "title_cell": "Table of Contents",
   "title_sidebar": "Contents",
   "toc_cell": false,
   "toc_position": {},
   "toc_section_display": true,
   "toc_window_display": false
  }
 },
 "nbformat": 4,
 "nbformat_minor": 5
}
