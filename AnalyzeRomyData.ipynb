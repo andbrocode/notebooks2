{
 "cells": [
  {
   "cell_type": "markdown",
   "metadata": {},
   "source": [
    "# Analyzing ROMY events automatically"
   ]
  },
  {
   "cell_type": "markdown",
   "metadata": {},
   "source": [
    "## Import Libraries"
   ]
  },
  {
   "cell_type": "code",
   "execution_count": 1,
   "metadata": {
    "ExecuteTime": {
     "end_time": "2022-08-16T12:03:22.437704Z",
     "start_time": "2022-08-16T12:03:20.961989Z"
    }
   },
   "outputs": [],
   "source": [
    "import numpy as np \n",
    "import matplotlib.pyplot as plt\n",
    "import sys\n",
    "import obspy \n",
    "\n",
    "from andbro__querrySeismoData import __querrySeismoData\n",
    "from andbro__savefig import __savefig"
   ]
  },
  {
   "cell_type": "markdown",
   "metadata": {},
   "source": [
    "## Configurations"
   ]
  },
  {
   "cell_type": "code",
   "execution_count": 2,
   "metadata": {
    "ExecuteTime": {
     "end_time": "2022-08-16T12:03:22.440976Z",
     "start_time": "2022-08-16T12:03:22.438801Z"
    },
    "code_folding": []
   },
   "outputs": [],
   "source": [
    "class configuration():\n",
    "    \n",
    "    def __init__(self):\n",
    "        self.name=\"configurations\""
   ]
  },
  {
   "cell_type": "code",
   "execution_count": 3,
   "metadata": {
    "ExecuteTime": {
     "end_time": "2022-08-16T12:03:22.454975Z",
     "start_time": "2022-08-16T12:03:22.442051Z"
    }
   },
   "outputs": [],
   "source": [
    "## set path for figures\n",
    "opathfigs = \"/home/brotzer/Desktop/tmp/\"\n",
    "\n",
    "## create config object\n",
    "config = configuration()\n",
    "\n",
    "\n",
    "## define time period by user\n",
    "# config.tbeg = input(\"Enter start time (e.g. 1999-01-01 00:00): \")\n",
    "# config.tend = input(\"Enter end time (e.g. 1999-01-01 00:00): \")\n",
    "\n",
    "## random\n",
    "# config.tbeg = obspy.UTCDateTime(\"2021-04-21 15:00\")\n",
    "# config.tend = obspy.UTCDateTime(\"2021-04-21 18:00\")\n",
    "\n",
    "## PNG\n",
    "# config.tbeg = obspy.UTCDateTime(\"2019-05-14 13:00\")\n",
    "# config.tend = obspy.UTCDateTime(\"2019-05-14 14:40\")\n",
    "\n",
    "## Greece\n",
    "# config.tbeg = obspy.UTCDateTime(\"2021-03-03 10:15\")\n",
    "# config.tend = obspy.UTCDateTime(\"2021-03-03 10:40\")\n",
    "\n",
    "## Algeria\n",
    "# config.tbeg = obspy.UTCDateTime(\"2021-03-18 00:05\")\n",
    "# config.tend = obspy.UTCDateTime(\"2021-03-18 00:35\")\n",
    "\n",
    "## Nicaragua\n",
    "# config.tbeg = obspy.UTCDateTime(\"2021-11-09 06:30\")\n",
    "# config.tend = obspy.UTCDateTime(\"2021-11-09 08:00\")\n",
    "\n",
    "## Japan\n",
    "config.tbeg = obspy.UTCDateTime(\"2022-03-16 14:36\")\n",
    "config.tend = obspy.UTCDateTime(\"2022-03-16 16:00\")\n",
    "\n",
    "\n",
    "## saving_options\n",
    "config.save_figs   = True\n",
    "config.save_stream = False\n",
    "config.save_config = False\n",
    "\n",
    "## set stations\n",
    "config.seeds = [\"BW.RLAS..BJZ\", \"BW.ROMY.20.BJZ\", \"BW.ROMY.10.BJZ\", \"BW.ROMY..BJU\", \"BW.ROMY..BJV\", \"BW.ROMY..BJW\"]\n"
   ]
  },
  {
   "cell_type": "code",
   "execution_count": 4,
   "metadata": {
    "ExecuteTime": {
     "end_time": "2022-08-16T12:03:25.111343Z",
     "start_time": "2022-08-16T12:03:22.455991Z"
    }
   },
   "outputs": [
    {
     "name": "stdout",
     "output_type": "stream",
     "text": [
      "Apply Filter (y/n)n\n"
     ]
    }
   ],
   "source": [
    "set_filter = input(\"Apply Filter (y/n)\").lower() or None; config.set_filter = set_filter\n",
    "\n",
    "if set_filter in ['y','yes']:\n",
    "    \n",
    "    config.set_fitler = True\n",
    "    config.filter_type = input(\"Apply lowpass (lp), highpass (hp) or bandpass (bp)?: \").lower() or None\n",
    "    \n",
    "    if config.filter_type in [\"hp\", \"highpass\"]:\n",
    "        config.filter_type = \"highpass\"\n",
    "        config.lower_corner = float(input(\"Enter lower corner frequency: \"))\n",
    "        config.upper_corner = None\n",
    "        \n",
    "    elif config.filter_type in [\"lp\", \"lowpass\"]:\n",
    "        config.filter_type = \"lowpass\"\n",
    "        config.upper_corner = float(input(\"Enter upper corner frequency: \"))\n",
    "        config.lower_corner = None \n",
    "        \n",
    "    elif config.filter_type in [\"bp\", \"bandpass\"]:\n",
    "        config.filter_type = \"bandpass\"        \n",
    "        config.lower_corner = float(input(\"Enter lower corner frequency: \"))\n",
    "        config.upper_corner = float(input(\"Enter upper corner frequency: \"))\n",
    "        \n",
    "    config.corner_frequency = {'lower':config.lower_corner, 'upper':config.upper_corner}\n",
    "\n",
    "else:\n",
    "    config.set_filter = False\n",
    "# print(config.corner_frequency['lower'], config.corner_frequency['upper'])"
   ]
  },
  {
   "cell_type": "markdown",
   "metadata": {},
   "source": [
    "## Load Data"
   ]
  },
  {
   "cell_type": "code",
   "execution_count": 5,
   "metadata": {
    "ExecuteTime": {
     "end_time": "2022-08-16T12:03:40.334382Z",
     "start_time": "2022-08-16T12:03:26.785196Z"
    }
   },
   "outputs": [
    {
     "name": "stdout",
     "output_type": "stream",
     "text": [
      "failed to load data for: BW.RLAS..BJZ\n",
      "\n"
     ]
    }
   ],
   "source": [
    "st = obspy.Stream()\n",
    "\n",
    "fails = 0\n",
    "\n",
    "for seed in config.seeds:\n",
    "\n",
    "    try:\n",
    "        st0, inv = __querrySeismoData(    \n",
    "                                    seed_id=seed,\n",
    "                                    starttime=config.tbeg,\n",
    "                                    endtime=config.tend,\n",
    "                                    repository=\"george\",\n",
    "                                    path=None,\n",
    "                                    restitute=True,\n",
    "                                    detail=None,\n",
    "                                     )\n",
    "\n",
    "        st += st0\n",
    "        \n",
    "    except:\n",
    "        print(f\"failed to load data for: {seed}\\n\")\n",
    "        st += obspy.Stream(traces=obspy.Trace())\n",
    "        \n",
    "        ## exit in case no data is loaded\n",
    "        fails+=1\n",
    "        if fails == len(config.seeds): \n",
    "            sys.exit"
   ]
  },
  {
   "cell_type": "code",
   "execution_count": 6,
   "metadata": {
    "ExecuteTime": {
     "end_time": "2022-08-16T12:03:45.809311Z",
     "start_time": "2022-08-16T12:03:45.766553Z"
    },
    "code_folding": [
     0
    ]
   },
   "outputs": [],
   "source": [
    "# def __fill_empty_traces(st):\n",
    "\n",
    "#     empty = [i for i, tr in enumerate(st) if tr.stats.npts == 0]\n",
    "#     full  = [i for i, tr in enumerate(st) if tr.stats.npts > 0]\n",
    "#     if empty:\n",
    "#         for k in empty:\n",
    "#             dummy_data = np.empty(st[full[0]].stats.npts)\n",
    "#             dummy_data[:] = np.nan\n",
    "#             st[k].data = dummy_data\n",
    "#             st[k].stats.sampling_rate = st[full[0]].stats.sampling_rate\n",
    "#             st[k].stats.network, st[k].stats.station, st[k].stats.location, st[k].stats.channel = config.seeds[k].split(\".\")\n",
    "# __fill_empty_traces(st)\n",
    "\n",
    "from andbro__create_empty_traces import __create_empty_traces\n",
    "__create_empty_traces(st, config)"
   ]
  },
  {
   "cell_type": "code",
   "execution_count": 7,
   "metadata": {
    "ExecuteTime": {
     "end_time": "2022-08-16T12:03:46.039896Z",
     "start_time": "2022-08-16T12:03:45.945700Z"
    }
   },
   "outputs": [],
   "source": [
    "import pickle\n",
    "\n",
    "ofile = open(opathfigs+f\"stream_{config.tbeg.date}.pick\", 'wb')\n",
    "pickle.dump(st, ofile)\n",
    "ofile.close()"
   ]
  },
  {
   "cell_type": "markdown",
   "metadata": {},
   "source": [
    "## Processing"
   ]
  },
  {
   "cell_type": "markdown",
   "metadata": {},
   "source": [
    "Apply demean and filter as set before."
   ]
  },
  {
   "cell_type": "code",
   "execution_count": 8,
   "metadata": {
    "ExecuteTime": {
     "end_time": "2022-08-16T12:03:48.736541Z",
     "start_time": "2022-08-16T12:03:48.617839Z"
    }
   },
   "outputs": [
    {
     "data": {
      "text/plain": [
       "6 Trace(s) in Stream:\n",
       "BW.RLAS..BJZ   | 2022-03-16T14:36:00.000000Z - 2022-03-16T16:00:00.000000Z | 20.0 Hz, 100801 samples\n",
       "BW.ROMY.20.BJZ | 2022-03-16T14:36:00.000000Z - 2022-03-16T16:00:00.000000Z | 20.0 Hz, 100801 samples\n",
       "BW.ROMY.10.BJZ | 2022-03-16T14:35:59.995000Z - 2022-03-16T15:59:59.995000Z | 20.0 Hz, 100801 samples\n",
       "BW.ROMY..BJU   | 2022-03-16T14:35:59.985600Z - 2022-03-16T15:59:59.985600Z | 20.0 Hz, 100801 samples\n",
       "BW.ROMY..BJV   | 2022-03-16T14:35:59.989799Z - 2022-03-16T15:59:59.989799Z | 20.0 Hz, 100801 samples\n",
       "BW.ROMY..BJW   | 2022-03-16T14:35:59.981800Z - 2022-03-16T15:59:59.981800Z | 20.0 Hz, 100801 samples"
      ]
     },
     "execution_count": 8,
     "metadata": {},
     "output_type": "execute_result"
    }
   ],
   "source": [
    "st.detrend(\"simple\");\n",
    "\n",
    "for tr in st:\n",
    "    if tr.stats.npts != 0:\n",
    "        if config.set_filter:\n",
    "            if config.filter_type == 'bandpass':\n",
    "                tr = tr.filter(config.filter_type, \n",
    "                          freqmin=config.corner_frequency['lower'], \n",
    "                          freqmax=config.corner_frequency['upper'],\n",
    "                          corners=4,\n",
    "                          zerophase=True,\n",
    "                         );\n",
    "            elif config.filter_type == 'lowpass':\n",
    "                rt = tr.filter(config.filter_type, \n",
    "                          freq=config.corner_frequency['upper'],\n",
    "                          corners=4,\n",
    "                          zerophase=True,\n",
    "                         );\n",
    "            elif config.filter_type == 'bandpass':\n",
    "                tr = tr.filter(config.filter_type, \n",
    "                          freq=config.corner_frequency['lower'], \n",
    "                          corners=4,\n",
    "                          zerophase=True,\n",
    "                         );"
   ]
  },
  {
   "cell_type": "code",
   "execution_count": 9,
   "metadata": {
    "ExecuteTime": {
     "end_time": "2022-08-16T12:03:51.779430Z",
     "start_time": "2022-08-16T12:03:50.188266Z"
    },
    "code_folding": [
     0
    ]
   },
   "outputs": [
    {
     "ename": "AttributeError",
     "evalue": "'configuration' object has no attribute 'corner_frequency'",
     "output_type": "error",
     "traceback": [
      "\u001b[0;31m---------------------------------------------------------------------------\u001b[0m",
      "\u001b[0;31mAttributeError\u001b[0m                            Traceback (most recent call last)",
      "\u001b[0;32m<ipython-input-9-f61d01fcd8b6>\u001b[0m in \u001b[0;36m<module>\u001b[0;34m\u001b[0m\n\u001b[1;32m     95\u001b[0m \u001b[0;31m## __________________________________\u001b[0m\u001b[0;34m\u001b[0m\u001b[0;34m\u001b[0m\u001b[0;34m\u001b[0m\u001b[0m\n\u001b[1;32m     96\u001b[0m \u001b[0;34m\u001b[0m\u001b[0m\n\u001b[0;32m---> 97\u001b[0;31m \u001b[0mfig\u001b[0m \u001b[0;34m=\u001b[0m \u001b[0m__makeplot_sectra\u001b[0m\u001b[0;34m(\u001b[0m\u001b[0mst\u001b[0m\u001b[0;34m)\u001b[0m\u001b[0;34m\u001b[0m\u001b[0;34m\u001b[0m\u001b[0m\n\u001b[0m\u001b[1;32m     98\u001b[0m \u001b[0;34m\u001b[0m\u001b[0m\n\u001b[1;32m     99\u001b[0m \u001b[0;34m\u001b[0m\u001b[0m\n",
      "\u001b[0;32m<ipython-input-9-f61d01fcd8b6>\u001b[0m in \u001b[0;36m__makeplot_sectra\u001b[0;34m(st)\u001b[0m\n\u001b[1;32m     34\u001b[0m         \u001b[0;32mif\u001b[0m \u001b[0mnp\u001b[0m\u001b[0;34m.\u001b[0m\u001b[0misnan\u001b[0m\u001b[0;34m(\u001b[0m\u001b[0mtr\u001b[0m\u001b[0;34m.\u001b[0m\u001b[0mdata\u001b[0m\u001b[0;34m)\u001b[0m\u001b[0;34m.\u001b[0m\u001b[0mall\u001b[0m\u001b[0;34m(\u001b[0m\u001b[0;34m)\u001b[0m\u001b[0;34m:\u001b[0m\u001b[0;34m\u001b[0m\u001b[0;34m\u001b[0m\u001b[0m\n\u001b[1;32m     35\u001b[0m             \u001b[0maxes\u001b[0m\u001b[0;34m[\u001b[0m\u001b[0mi\u001b[0m\u001b[0;34m,\u001b[0m\u001b[0;36m0\u001b[0m\u001b[0;34m]\u001b[0m\u001b[0;34m.\u001b[0m\u001b[0mfill_between\u001b[0m\u001b[0;34m(\u001b[0m\u001b[0mtimeaxis\u001b[0m\u001b[0;34m,\u001b[0m \u001b[0;34m-\u001b[0m\u001b[0;36m1\u001b[0m\u001b[0;34m,\u001b[0m \u001b[0;36m1\u001b[0m\u001b[0;34m,\u001b[0m \u001b[0mcolor\u001b[0m\u001b[0;34m=\u001b[0m\u001b[0;34m'red'\u001b[0m\u001b[0;34m,\u001b[0m \u001b[0malpha\u001b[0m\u001b[0;34m=\u001b[0m\u001b[0;36m0.3\u001b[0m\u001b[0;34m)\u001b[0m\u001b[0;34m\u001b[0m\u001b[0;34m\u001b[0m\u001b[0m\n\u001b[0;32m---> 36\u001b[0;31m             \u001b[0maxes\u001b[0m\u001b[0;34m[\u001b[0m\u001b[0mi\u001b[0m\u001b[0;34m,\u001b[0m\u001b[0;36m1\u001b[0m\u001b[0;34m]\u001b[0m\u001b[0;34m.\u001b[0m\u001b[0mfill_between\u001b[0m\u001b[0;34m(\u001b[0m\u001b[0mtimeaxis\u001b[0m\u001b[0;34m,\u001b[0m \u001b[0;36m0\u001b[0m\u001b[0;34m,\u001b[0m \u001b[0;36m2\u001b[0m\u001b[0;34m*\u001b[0m\u001b[0mconfig\u001b[0m\u001b[0;34m.\u001b[0m\u001b[0mcorner_frequency\u001b[0m\u001b[0;34m[\u001b[0m\u001b[0;34m'upper'\u001b[0m\u001b[0;34m]\u001b[0m\u001b[0;34m,\u001b[0m \u001b[0mcolor\u001b[0m\u001b[0;34m=\u001b[0m\u001b[0;34m'red'\u001b[0m\u001b[0;34m,\u001b[0m \u001b[0malpha\u001b[0m\u001b[0;34m=\u001b[0m\u001b[0;36m0.3\u001b[0m\u001b[0;34m)\u001b[0m\u001b[0;34m\u001b[0m\u001b[0;34m\u001b[0m\u001b[0m\n\u001b[0m\u001b[1;32m     37\u001b[0m \u001b[0;34m\u001b[0m\u001b[0m\n\u001b[1;32m     38\u001b[0m         \u001b[0;31m## _________________________________________________________________\u001b[0m\u001b[0;34m\u001b[0m\u001b[0;34m\u001b[0m\u001b[0;34m\u001b[0m\u001b[0m\n",
      "\u001b[0;31mAttributeError\u001b[0m: 'configuration' object has no attribute 'corner_frequency'"
     ]
    },
    {
     "data": {
      "image/png": "[encoded data removed]",
      "text/plain": [
       "<Figure size 1500x1000 with 12 Axes>"
      ]
     },
     "metadata": {},
     "output_type": "display_data"
    }
   ],
   "source": [
    "def __makeplot_sectra(st):\n",
    "\n",
    "    from scipy import fftpack\n",
    "\n",
    "   \n",
    "    plt.style.use('default')\n",
    "\n",
    "    N = len(st)\n",
    "\n",
    "    fig, axes = plt.subplots(N,2,figsize=(15,10), sharex='col')\n",
    "\n",
    "    plt.subplots_adjust(hspace=0.3)\n",
    "\n",
    "    ## _______________________________________________\n",
    "\n",
    "\n",
    "    for i, tr in enumerate(st):\n",
    "\n",
    "\n",
    "        comp_fft = np.abs(fftpack.fft(tr.data))\n",
    "        ff       = fftpack.fftfreq(comp_fft.size, d=1/tr.stats.sampling_rate)\n",
    "        comp_fft = fftpack.fftshift(comp_fft)\n",
    "        \n",
    "        timeaxis = tr.times()\n",
    "        \n",
    "        if max(timeaxis) > 5*60: \n",
    "            timeaxis, timeunit = timeaxis/60, \"min\"\n",
    "        if max(timeaxis) > 2*3600:\n",
    "            timeaxis, timeunit = timeaxis/3600, \"hours\"            \n",
    "        if max(timeaxis) > 2*86400:\n",
    "            timeaxis, timeunit = timeaxis/86400, \"days\"\n",
    "        \n",
    "        \n",
    "        if np.isnan(tr.data).all():\n",
    "            axes[i,0].fill_between(timeaxis, -1, 1, color='red', alpha=0.3)\n",
    "            axes[i,1].fill_between(timeaxis, 0, 2*config.corner_frequency['upper'], color='red', alpha=0.3)\n",
    "        \n",
    "        ## _________________________________________________________________\n",
    "        axes[i,0].plot(\n",
    "                    timeaxis,\n",
    "                    tr.data,\n",
    "                    color='black',\n",
    "                    label='{} {}'.format(tr.stats.station, tr.stats.channel),\n",
    "                    lw=1.0,\n",
    "                    )\n",
    "\n",
    "\n",
    "        ## _________________________________________________________________\n",
    "        axes[i,1].plot(\n",
    "                    ff[1:len(ff)//2],\n",
    "                    np.abs(fftpack.fft(tr.data)[1:len(ff)//2]),\n",
    "                    color='black',\n",
    "                    lw=1.0,\n",
    "                    )\n",
    "\n",
    "\n",
    "        \n",
    "        axes[i,0].set_ylabel(r'$\\Omega$ (rad/s)')    \n",
    "        axes[i,1].set_ylabel('ASD (rad/s/Hz)')        \n",
    "#         axes[i,0].legend(loc='upper left',bbox_to_anchor=(0.8, 1.10), framealpha=1.0)\n",
    "        axes[i,0].annotate('{} {}'.format(tr.stats.station, tr.stats.channel), \n",
    "                           xy=(0.4,0.93+i*-0.15),\n",
    "                           xycoords='figure fraction', \n",
    "                           )\n",
    "    \n",
    "\n",
    "    \n",
    "        if config.set_filter:\n",
    "            if config.filter_type == \"bp\":\n",
    "                axes[i,1].annotate('{}-{} Hz'.format(config.corner_frequency['lower'], config.corner_frequency['upper']), xy=(0.87,0.90+i*-0.18), xycoords='figure fraction')\n",
    "            elif config.filter_type == \"lp\":\n",
    "                axes[i,1].annotate('<{} Hz'.format(config.corner_frequency['upper']), xy=(0.87,0.90+i*-0.18), xycoords='figure fraction')\n",
    "            elif config.filter_type == \"hp\":\n",
    "                axes[i,1].annotate('>{} Hz'.format(config.corner_frequency['lower']), xy=(0.87,0.90+i*-0.18), xycoords='figure fraction')\n",
    "        \n",
    "\n",
    "#         axes[i,1].set_yscale('logit')\n",
    "\n",
    "        if i == len(st)-1:\n",
    "            axes[i,0].set_xlabel(f'Time ({timeunit})  from {tr.stats.starttime.date} {str(tr.stats.starttime.time)[0:8]} UTC')\n",
    "            axes[i,1].set_xlabel('Frequency (Hz)')\n",
    "    \n",
    "        ## set scientific labels\n",
    "        axes[i,0].ticklabel_format(axis=\"y\", style='sci', scilimits=(0,0))\n",
    "        axes[i,1].ticklabel_format(axis=\"y\", style='sci', scilimits=(0,0))\n",
    "        \n",
    "    if config.set_filter:\n",
    "        if config.corner_frequency['upper'] is not None:\n",
    "            axes[i,1].set_xlim(0, 2*config.corner_frequency['upper'])\n",
    "\n",
    "\n",
    "    return fig\n",
    "\n",
    "\n",
    "## __________________________________\n",
    "\n",
    "fig = __makeplot_sectra(st)\n",
    "\n",
    "\n",
    "if config.save_figs:\n",
    "    __savefig(fig, outpath=opathfigs, outname=f\"TraceSpectrum_{config.tbeg.date}\"+\".png\", mode=\"png\");"
   ]
  },
  {
   "cell_type": "code",
   "execution_count": null,
   "metadata": {
    "ExecuteTime": {
     "end_time": "2022-08-16T12:03:51.781046Z",
     "start_time": "2022-08-16T12:03:50.366Z"
    },
    "code_folding": [
     0
    ]
   },
   "outputs": [],
   "source": [
    "def __makeplot_traces_and_spectrograms1(st):\n",
    "\n",
    "    \n",
    "    def __get_timeaxis(tr):\n",
    "#         return np.arange(0, tr.stats.npts*tr.stats.delta, tr.stats.delta)\n",
    "        return np.linspace(0, tr.stats.npts, tr.stats.npts)*tr.stats.delta\n",
    "       \n",
    "        \n",
    "    nfft=512\n",
    "    \n",
    "    fig, ax = plt.subplots(int(len(config.seeds)*2), 1, figsize=(15,12), sharex=True)\n",
    "\n",
    "    fig.subplots_adjust(hspace=0.4)\n",
    "\n",
    "    i, ims = 0, []\n",
    "    for tr in st:\n",
    "\n",
    "\n",
    "        timeaxis = __get_timeaxis(tr)\n",
    "        \n",
    "        if np.isnan(tr.data).all():\n",
    "            ax[i].fill_between(timeaxis, -1, 1, color='red', alpha=0.3)\n",
    "            ax[i+1].fill_between(timeaxis, 0, 2*config.corner_frequency['upper'], color='red', alpha=0.3)\n",
    "        else:\n",
    "            ax[i].plot(timeaxis, tr.data, 'k', lw=0.5);\n",
    "\n",
    "\n",
    "        ax[i].set_xlim(min(timeaxis), max(timeaxis))\n",
    "        ax[i].set_ylabel(r\"$\\Omega$ (rad/s)\")\n",
    "\n",
    "#         ax[i].annotate('{} {}'.format(tr.stats.station, tr.stats.channel), \n",
    "#                         xy=(0.15,0.93+i*-0.09),\n",
    "#                         xycoords='figure fraction', \n",
    "#                         )  \n",
    "\n",
    "        \n",
    "#         ff, tt, spec = scipy.signal.spectrogram(x, fs=1.0, window='tukey', 0.25, nperseg=None, noverlap=None, nfft=None, detrend='constant', return_onesided=True, scaling='density', axis=- 1, mode='psd')\n",
    "        spec, f, t, cax  = ax[i+1].specgram(tr.data,  \n",
    "                                             Fs=tr.stats.sampling_rate, \n",
    "                                             mode='psd', \n",
    "                                             cmap='inferno',\n",
    "                                             NFFT=nfft, \n",
    "                                             Fc=None, \n",
    "                                             detrend=None, \n",
    "                                             window=np.hanning(nfft), \n",
    "                                             noverlap=int(0.5*nfft), \n",
    "                                             pad_to=None, \n",
    "                                             sides='onesided', \n",
    "                                             scale_by_freq=True,  \n",
    "                                             scale='dB', \n",
    "                                             vmin=None, \n",
    "                                             vmax=None,\n",
    "                                            )\n",
    "                                             \n",
    "        if config.set_filter and config.corner_frequency['upper'] is not None:\n",
    "            ax[i+1].set_ylim(0, 2*config.corner_frequency['upper'])\n",
    "        \n",
    "        ax[i+1].set_xlim(min(timeaxis), max(timeaxis))\n",
    "        ax[i+1].set_ylabel(\"f (Hz)\")\n",
    "        ax[len(st)*2-1].set_xlabel('time (s)  from {} {} UTC'.format(tr.stats.starttime.date, str(tr.stats.starttime.time)[0:8]), labelpad=10)\n",
    "        \n",
    "        ax[i+1].annotate('{} {}'.format(tr.stats.station, tr.stats.channel), \n",
    "                        xy=(0.036,0.85+i*-0.075),\n",
    "                        xycoords='figure fraction', \n",
    "                        rotation=90,\n",
    "                        fontsize=12,\n",
    "                        )   \n",
    "\n",
    "        \n",
    "        ## compute limits for colormap\n",
    "        lim1=10*np.log10(np.max(spec))\n",
    "        lim2=10*np.log10(np.min(spec))+200\n",
    "        \n",
    "        cax.set_clim((lim2,lim1))\n",
    "        ca = ax[i+1].inset_axes([1.02, 0.0, 0.02, 1], transform=ax[i+1].transAxes)\n",
    "        cbar = fig.colorbar(cax, cax=ca, label='PSD (dB)')\n",
    "        \n",
    "        i+=2\n",
    "\n",
    "    return fig\n",
    "\n",
    "\n",
    "\n",
    "## __________________________\n",
    "\n",
    "fig = __makeplot_traces_and_spectrograms1(st);\n",
    "\n",
    "\n",
    "# if config.save_figs:\n",
    "#     __savefig(fig, outpath=opathfigs, outname=f\"TraceSpectrogram_{config.tbeg.date}\"+\".png\", mode=\"png\");"
   ]
  },
  {
   "cell_type": "code",
   "execution_count": null,
   "metadata": {
    "ExecuteTime": {
     "end_time": "2022-08-16T12:03:51.781812Z",
     "start_time": "2022-08-16T12:03:50.957Z"
    },
    "code_folding": [
     0,
     3
    ]
   },
   "outputs": [],
   "source": [
    "def __makeplot_traces_and_spectrograms2(st):\n",
    "\n",
    "    \n",
    "    def __get_timeaxis(tr):\n",
    "#         return np.arange(0, tr.stats.npts*tr.stats.delta, tr.stats.delta)\n",
    "        return np.linspace(0, tr.stats.npts, tr.stats.npts)*tr.stats.delta\n",
    "       \n",
    "        \n",
    "    nfft=512\n",
    "    \n",
    "    fig, ax = plt.subplots(int(len(config.seeds)*2), 1, figsize=(15,12), sharex=True)\n",
    "\n",
    "    fig.subplots_adjust(hspace=0.4)\n",
    "\n",
    "    i, ims = 0, []\n",
    "    for tr in st:\n",
    "\n",
    "\n",
    "        timeaxis = __get_timeaxis(tr)\n",
    "        \n",
    "        if np.isnan(tr.data).all():\n",
    "            ax[i].fill_between(timeaxis, -1, 1, color='red', alpha=0.3)\n",
    "            ax[i+1].fill_between(timeaxis, 0, 2*config.corner_frequency['upper'], color='red', alpha=0.3)\n",
    "        else:   \n",
    "            ax[i].plot(timeaxis, tr.data, 'k', lw=0.5);\n",
    "\n",
    "\n",
    "        ax[i].set_xlim(min(timeaxis), max(timeaxis))\n",
    "        ax[i].set_ylabel(r\"$\\Omega$ (rad/s)\")\n",
    "\n",
    "#         ax[i].annotate('{} {}'.format(tr.stats.station, tr.stats.channel), \n",
    "#                         xy=(0.15,0.93+i*-0.09),\n",
    "#                         xycoords='figure fraction', \n",
    "#                         )  \n",
    "\n",
    "        \n",
    "#         ff, tt, spec = scipy.signal.spectrogram(x, fs=1.0, window='tukey', 0.25, nperseg=None, noverlap=None, nfft=None, detrend='constant', return_onesided=True, scaling='density', axis=- 1, mode='psd')\n",
    "        spec,  f, t, cax  = ax[i+1].specgram(tr.data,  \n",
    "                                             Fs=tr.stats.sampling_rate, \n",
    "                                             mode='psd', \n",
    "                                             cmap='inferno',\n",
    "                                             NFFT=nfft, \n",
    "                                             Fc=None, \n",
    "                                             detrend=None, \n",
    "                                             window=np.hanning(nfft), \n",
    "                                             noverlap=int(0.5*nfft), \n",
    "                                             pad_to=None, \n",
    "                                             sides='onesided', \n",
    "                                             scale_by_freq=True,  \n",
    "                                             scale='dB', \n",
    "                                             vmin=None, \n",
    "                                             vmax=None,\n",
    "                                            )\n",
    "                                             \n",
    "        if config.set_filter and config.corner_frequency['upper'] is not None:\n",
    "            ax[i+1].set_ylim(0, 2*config.corner_frequency['upper'])\n",
    "        \n",
    "        ax[i+1].set_xlim(min(timeaxis), max(timeaxis))\n",
    "        ax[i+1].set_ylabel(\"f (Hz)\")\n",
    "        ax[len(st)*2-1].set_xlabel('time (s)  from {} {} UTC'.format(tr.stats.starttime.date, str(tr.stats.starttime.time)[0:8]), labelpad=10)\n",
    "        \n",
    "        ax[i+1].annotate('{} {}'.format(tr.stats.station, tr.stats.channel), \n",
    "                        xy=(0.035,0.85+i*-0.075),\n",
    "                        xycoords='figure fraction', \n",
    "                        rotation=90,\n",
    "                        fontsize=12,\n",
    "                        )   \n",
    "\n",
    "        ## compute limits for colormap\n",
    "        if i == 4:\n",
    "            lim1=10*np.log10(np.max(spec))\n",
    "            lim2=10*np.log10(np.min(spec))+200     \n",
    "            \n",
    "            \n",
    "        ims.append(cax)    \n",
    "        i+=2\n",
    "\n",
    "\n",
    "    ## adjust colormap\n",
    "    for im in ims:\n",
    "#         im.set_clim((-220,-160))\n",
    "        im.set_clim((lim2,lim1))\n",
    "\n",
    "    fig.colorbar(ims[0], ax=ax,label='PSD (dB) rel. to 1 rad/s/Hz',pad=0.02)\n",
    "\n",
    "    return fig\n",
    "\n",
    "\n",
    "\n",
    "## __________________________\n",
    "\n",
    "fig = __makeplot_traces_and_spectrograms2(st);\n",
    "\n",
    "\n",
    "# if config.save_figs:\n",
    "#     __savefig(fig, outpath=opathfigs, outname=f\"TraceSpectrogram_{config.tbeg.date}\"+\".png\", mode=\"png\");"
   ]
  },
  {
   "cell_type": "code",
   "execution_count": null,
   "metadata": {
    "ExecuteTime": {
     "end_time": "2022-08-16T12:03:51.782646Z",
     "start_time": "2022-08-16T12:03:51.148Z"
    },
    "code_folding": [
     1
    ]
   },
   "outputs": [],
   "source": [
    "\n",
    "def __makeplot_comparison_Z(st):\n",
    "\n",
    "    \n",
    "    N = 4\n",
    "    fig, ax = plt.subplots(N, 1, figsize=(15,10), sharex=True)\n",
    "\n",
    "    fs=14\n",
    "    \n",
    "    def __get_timeaxis(tr):\n",
    "#         return np.arange(0, tr.stats.npts*tr.stats.delta, tr.stats.delta)\n",
    "        return np.linspace(0, tr.stats.npts, tr.stats.npts)* tr.stats.delta\n",
    "       \n",
    "\n",
    "    timeaxis1 = __get_timeaxis(st[0])/60\n",
    "    timeaxis2 = __get_timeaxis(st[1])/60\n",
    "\n",
    "    shifted_data = np.roll(st[1].data, -shift)\n",
    "\n",
    "    Delta1 = st[0].data/max(st[0].data) - st[1].data/max(st[1].data)\n",
    "    Delta2 = st[0].data/max(st[0].data) - shifted_data/max(shifted_data) \n",
    "\n",
    "\n",
    "    ax[0].plot(timeaxis1, st[0].data, color='black', label=\"G-ring\")\n",
    "    ax[0].set_ylabel(r\"$\\Omega$ (rad/s)\", fontsize=fs)\n",
    "\n",
    "    \n",
    "    ax[1].plot(timeaxis2, st[1].data, color='darkorange', label=\"ROMY Z\")\n",
    "    ax[1].set_ylabel(r\"$\\Omega$ (rad/s)\", fontsize=fs)\n",
    "\n",
    "    ax[2].plot(timeaxis1, st[0].data/max(st[0].data), color='black', label=\"G-ring\")\n",
    "    ax[2].plot(timeaxis2, shifted_data/max(shifted_data), color='darkorange', alpha=0.6, label=\"ROMY Z\")\n",
    "    ax[2].set_ylabel(r\"norm. $\\Omega$ (rad/s)\", fontsize=fs)\n",
    "    ax[2].annotate(f'shifted by {round(shift*st[1].stats.delta,3)} s', xy=(0.5,0.7), zorder=1)\n",
    "\n",
    "    ax[3].plot(timeaxis1, Delta1, color='darkblue', label=rf\"$\\Delta$ pre-shift: L$^2$= {int(sum(Delta1**2))}\")\n",
    "    ax[3].plot(timeaxis1, Delta2, color='darkred', alpha=0.6, label=rf\"$\\Delta$ post-shift: L$^2$={int(sum(Delta2**2))}\")\n",
    "\n",
    "    ax[3].set_ylabel(r\"$\\Omega$ (rad/s)\", fontsize=fs)\n",
    "\n",
    "    \n",
    "    for k in range(N):\n",
    "        ax[k].grid(color='grey', ls='--', zorder=0)\n",
    "        ax[k].set_xlim(np.min([timeaxis1, timeaxis2]), np.max([timeaxis1, timeaxis2]))\n",
    "        ax[k].legend(fontsize=fs-4, loc=\"upper right\")\n",
    "        \n",
    "    ax[N-1].set_xlabel(f'Time (min)  from {config.tbeg.date} {str(config.tbeg.time)[0:8]} UTC', fontsize=fs)\n",
    "\n",
    "    \n",
    "    return fig\n",
    "\n",
    "\n",
    "\n",
    "## __________________________\n",
    "\n",
    "fig = __makeplot_comparison_Z(st)\n",
    "\n",
    "if config.save_figs:\n",
    "    __savefig(fig, outpath=opathfigs, outname=f\"CrossCorr_G_and_Z_{config.tbeg.date}\"+\".png\", mode=\"png\");"
   ]
  },
  {
   "cell_type": "code",
   "execution_count": null,
   "metadata": {
    "code_folding": []
   },
   "outputs": [],
   "source": []
  },
  {
   "cell_type": "code",
   "execution_count": null,
   "metadata": {},
   "outputs": [],
   "source": [
    "from andbro__crosscorrelation import __crosscorrelation\n",
    "\n",
    "out = __crosscorrelation(st[1].data, st[2].data, deltaT=st[0].stats.delta, labels=[\"ADR\", \"ROMY-Z\"])"
   ]
  },
  {
   "cell_type": "code",
   "execution_count": null,
   "metadata": {},
   "outputs": [],
   "source": []
  },
  {
   "cell_type": "code",
   "execution_count": null,
   "metadata": {},
   "outputs": [],
   "source": []
  }
 ],
 "metadata": {
  "kernelspec": {
   "display_name": "Python 3 (ipykernel)",
   "language": "python",
   "name": "python3"
  },
  "language_info": {
   "codemirror_mode": {
    "name": "ipython",
    "version": 3
   },
   "file_extension": ".py",
   "mimetype": "text/x-python",
   "name": "python",
   "nbconvert_exporter": "python",
   "pygments_lexer": "ipython3",
   "version": "3.10.12"
  },
  "toc": {
   "base_numbering": 1,
   "nav_menu": {},
   "number_sections": true,
   "sideBar": true,
   "skip_h1_title": false,
   "title_cell": "Table of Contents",
   "title_sidebar": "Contents",
   "toc_cell": false,
   "toc_position": {},
   "toc_section_display": true,
   "toc_window_display": false
  },
  "varInspector": {
   "cols": {
    "lenName": 16,
    "lenType": 16,
    "lenVar": 40
   },
   "kernels_config": {
    "python": {
     "delete_cmd_postfix": "",
     "delete_cmd_prefix": "del ",
     "library": "var_list.py",
     "varRefreshCmd": "print(var_dic_list())"
    },
    "r": {
     "delete_cmd_postfix": ") ",
     "delete_cmd_prefix": "rm(",
     "library": "var_list.r",
     "varRefreshCmd": "cat(var_dic_list()) "
    }
   },
   "types_to_exclude": [
    "module",
    "function",
    "builtin_function_or_method",
    "instance",
    "_Feature"
   ],
   "window_display": false
  }
 },
 "nbformat": 4,
 "nbformat_minor": 4
}
