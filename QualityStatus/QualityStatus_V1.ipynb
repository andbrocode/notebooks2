{
 "cells": [
  {
   "cell_type": "markdown",
   "id": "e9da90cb-d480-4f01-9115-0ba22d9b2c6a",
   "metadata": {
    "tags": []
   },
   "source": [
    "# ROMY Status File"
   ]
  },
  {
   "cell_type": "code",
   "execution_count": 1,
   "id": "5e8ef5e0-37dc-4a1c-a603-49b53fb31dea",
   "metadata": {
    "tags": []
   },
   "outputs": [],
   "source": [
    "import os\n",
    "import sys\n",
    "import numpy as np\n",
    "import matplotlib.pyplot as plt\n",
    "import obspy as obs\n",
    "import matplotlib.colors\n",
    "\n",
    "from pandas import DataFrame\n",
    "from andbro__save_to_pickle import __save_to_pickle"
   ]
  },
  {
   "cell_type": "code",
   "execution_count": 2,
   "id": "e5e75ac2-dabd-4e5a-b663-7d9581266689",
   "metadata": {
    "tags": []
   },
   "outputs": [],
   "source": [
    "if os.uname().nodename == 'lighthouse':\n",
    "    root_path = '/home/andbro/'\n",
    "    data_path = '/home/andbro/kilauea-data/'\n",
    "    archive_path = '/home/andbro/freenas/'\n",
    "    bay_path = '/home/andbro/bay200/'\n",
    "elif os.uname().nodename == 'kilauea':\n",
    "    root_path = '/home/brotzer/'\n",
    "    data_path = '/import/kilauea-data/'\n",
    "    archive_path = '/import/freenas-ffb-01-data/'\n",
    "    bay_path = '/bay200/'\n",
    "elif os.uname().nodename == 'lin-ffb-01':\n",
    "    root_path = '/home/brotzer/'\n",
    "    data_path = '/import/kilauea-data/'\n",
    "    archive_path = '/import/freenas-ffb-01-data/'\n",
    "    bay_path = '/bay200/'"
   ]
  },
  {
   "cell_type": "code",
   "execution_count": 3,
   "id": "d47128f1-31a4-4301-beba-6d2b61152191",
   "metadata": {
    "tags": []
   },
   "outputs": [],
   "source": [
    "from functions.load_beat import __load_beat\n",
    "from functions.load_mlti import __load_mlti\n",
    "from functions.get_mlti_intervals import __get_mlti_intervals"
   ]
  },
  {
   "cell_type": "markdown",
   "id": "4e4bf4dd-b2be-45fc-86fe-ce806f4ace1c",
   "metadata": {
    "tags": []
   },
   "source": [
    "## Configurations"
   ]
  },
  {
   "cell_type": "code",
   "execution_count": 5,
   "id": "bbfcde63-9c9b-426c-a2f3-0e80dc2daa8b",
   "metadata": {
    "tags": []
   },
   "outputs": [],
   "source": [
    "config = {}\n",
    "\n",
    "\n",
    "# config['tbeg'] = obs.UTCDateTime(sys.argv[1])\n",
    "# config['tend'] = obs.UTCDateTime(sys.argv[1])+86400\n",
    "\n",
    "config['tbeg'] = obs.UTCDateTime(\"2024-01-10\")\n",
    "config['tend'] = obs.UTCDateTime(\"2024-01-18\")\n",
    "\n",
    "config['ring'] = \"U\"\n",
    "\n",
    "config['path_to_autodata'] = archive_path+f\"romy_autodata/\"\n",
    "\n",
    "config['path_to_figures'] = archive_path+f\"romy_plots/{config['tbeg'].year}/R{config['ring']}/status/\"\n",
    "\n",
    "config['path_to_output'] = archive_path+f\"temp_archive/{config['tbeg'].year}/BW/R{config['ring']}/\"\n",
    "\n",
    "config['fsagnac_rings'] = {\"U\":303, \"V\":447.5, \"W\":447.5, \"Z\":553.5}\n",
    "config['fsagnac_nominal'] = config['fsagnac_rings'][config['ring']]\n",
    "\n",
    "config['DC_threshold'] = 0.1\n",
    "\n",
    "config['AC_threshold'] = 0.3\n"
   ]
  },
  {
   "cell_type": "markdown",
   "id": "dbd0d6c9-5827-4153-bea0-75be1ec862c9",
   "metadata": {},
   "source": [
    "### Load MLTI Logs"
   ]
  },
  {
   "cell_type": "code",
   "execution_count": 6,
   "id": "68b9ef82-dd8a-44e4-b46d-7f5aad2f6dad",
   "metadata": {
    "tags": []
   },
   "outputs": [],
   "source": [
    "mlti_log = __load_mlti(config['tbeg'], config['tend'], config['ring'], archive_path)\n",
    "\n",
    "mlti_t1, mlti_t2 = __get_mlti_intervals(mlti_log.time_utc, time_delta=100)"
   ]
  },
  {
   "cell_type": "code",
   "execution_count": 7,
   "id": "92b2077d-7486-4ed8-8339-cf7919f1e229",
   "metadata": {
    "tags": []
   },
   "outputs": [
    {
     "data": {
      "text/plain": [
       "8448"
      ]
     },
     "execution_count": 7,
     "metadata": {},
     "output_type": "execute_result"
    }
   ],
   "source": [
    "mlti_log.size"
   ]
  },
  {
   "cell_type": "markdown",
   "id": "bf807894-683a-4b58-9bd4-a84e6e8539aa",
   "metadata": {},
   "source": [
    "### Load Beat Data"
   ]
  },
  {
   "cell_type": "code",
   "execution_count": 8,
   "id": "3e81b702-8c12-455a-a7f3-c150e8901a35",
   "metadata": {
    "tags": []
   },
   "outputs": [],
   "source": [
    "beat = __load_beat(config['tbeg'], config['tend'], config['ring'], config['path_to_autodata'])"
   ]
  },
  {
   "cell_type": "code",
   "execution_count": 9,
   "id": "9f5bc7d9-27ae-45c8-a125-4fee0c73ba31",
   "metadata": {
    "tags": []
   },
   "outputs": [
    {
     "data": {
      "text/html": [
       "<div>\n",
       "<style scoped>\n",
       "    .dataframe tbody tr th:only-of-type {\n",
       "        vertical-align: middle;\n",
       "    }\n",
       "\n",
       "    .dataframe tbody tr th {\n",
       "        vertical-align: top;\n",
       "    }\n",
       "\n",
       "    .dataframe thead th {\n",
       "        text-align: right;\n",
       "    }\n",
       "</style>\n",
       "<table border=\"1\" class=\"dataframe\">\n",
       "  <thead>\n",
       "    <tr style=\"text-align: right;\">\n",
       "      <th></th>\n",
       "      <th>times_utc</th>\n",
       "      <th>times_utc_sec</th>\n",
       "      <th>times_mjd</th>\n",
       "      <th>fj</th>\n",
       "      <th>f1</th>\n",
       "      <th>f2</th>\n",
       "      <th>pz</th>\n",
       "      <th>p1</th>\n",
       "      <th>p2</th>\n",
       "      <th>ac_z</th>\n",
       "      <th>ac_1</th>\n",
       "      <th>ac_2</th>\n",
       "      <th>dc_z</th>\n",
       "      <th>dc_1</th>\n",
       "      <th>dc_2</th>\n",
       "      <th>contrast_z</th>\n",
       "      <th>contrast_1</th>\n",
       "      <th>contrast_2</th>\n",
       "    </tr>\n",
       "  </thead>\n",
       "  <tbody>\n",
       "    <tr>\n",
       "      <th>3</th>\n",
       "      <td>2024-01-10T00:00:30.000000Z</td>\n",
       "      <td>30.0</td>\n",
       "      <td>60319.000347</td>\n",
       "      <td>302.439499</td>\n",
       "      <td>302.439718</td>\n",
       "      <td>302.439851</td>\n",
       "      <td>0.185770</td>\n",
       "      <td>0.003246</td>\n",
       "      <td>0.000733</td>\n",
       "      <td>0.417305</td>\n",
       "      <td>0.029734</td>\n",
       "      <td>0.030670</td>\n",
       "      <td>0.320261</td>\n",
       "      <td>0.221179</td>\n",
       "      <td>0.283005</td>\n",
       "      <td>0.646894</td>\n",
       "      <td>0.067053</td>\n",
       "      <td>0.054098</td>\n",
       "    </tr>\n",
       "    <tr>\n",
       "      <th>4</th>\n",
       "      <td>2024-01-10T00:01:30.000000Z</td>\n",
       "      <td>90.0</td>\n",
       "      <td>60319.001042</td>\n",
       "      <td>302.440261</td>\n",
       "      <td>302.440400</td>\n",
       "      <td>302.440365</td>\n",
       "      <td>0.185490</td>\n",
       "      <td>0.003238</td>\n",
       "      <td>0.000755</td>\n",
       "      <td>0.416739</td>\n",
       "      <td>0.031128</td>\n",
       "      <td>0.032174</td>\n",
       "      <td>0.320040</td>\n",
       "      <td>0.221177</td>\n",
       "      <td>0.282698</td>\n",
       "      <td>0.646435</td>\n",
       "      <td>0.070211</td>\n",
       "      <td>0.056805</td>\n",
       "    </tr>\n",
       "    <tr>\n",
       "      <th>5</th>\n",
       "      <td>2024-01-10T00:02:30.000000Z</td>\n",
       "      <td>150.0</td>\n",
       "      <td>60319.001736</td>\n",
       "      <td>302.440792</td>\n",
       "      <td>302.440815</td>\n",
       "      <td>302.440565</td>\n",
       "      <td>0.185259</td>\n",
       "      <td>0.003229</td>\n",
       "      <td>0.000779</td>\n",
       "      <td>0.416239</td>\n",
       "      <td>0.031868</td>\n",
       "      <td>0.032936</td>\n",
       "      <td>0.319865</td>\n",
       "      <td>0.221162</td>\n",
       "      <td>0.282456</td>\n",
       "      <td>0.646020</td>\n",
       "      <td>0.071891</td>\n",
       "      <td>0.058187</td>\n",
       "    </tr>\n",
       "    <tr>\n",
       "      <th>6</th>\n",
       "      <td>2024-01-10T00:03:30.000000Z</td>\n",
       "      <td>210.0</td>\n",
       "      <td>60319.002431</td>\n",
       "      <td>302.441118</td>\n",
       "      <td>302.441106</td>\n",
       "      <td>302.440853</td>\n",
       "      <td>0.185058</td>\n",
       "      <td>0.003218</td>\n",
       "      <td>0.000801</td>\n",
       "      <td>0.415798</td>\n",
       "      <td>0.031984</td>\n",
       "      <td>0.033045</td>\n",
       "      <td>0.319732</td>\n",
       "      <td>0.221162</td>\n",
       "      <td>0.282274</td>\n",
       "      <td>0.645615</td>\n",
       "      <td>0.072149</td>\n",
       "      <td>0.058406</td>\n",
       "    </tr>\n",
       "    <tr>\n",
       "      <th>7</th>\n",
       "      <td>2024-01-10T00:04:30.000000Z</td>\n",
       "      <td>270.0</td>\n",
       "      <td>60319.003125</td>\n",
       "      <td>302.441307</td>\n",
       "      <td>302.441406</td>\n",
       "      <td>302.441091</td>\n",
       "      <td>0.184865</td>\n",
       "      <td>0.003207</td>\n",
       "      <td>0.000830</td>\n",
       "      <td>0.415373</td>\n",
       "      <td>0.031165</td>\n",
       "      <td>0.032269</td>\n",
       "      <td>0.319621</td>\n",
       "      <td>0.221172</td>\n",
       "      <td>0.282150</td>\n",
       "      <td>0.645186</td>\n",
       "      <td>0.070301</td>\n",
       "      <td>0.057067</td>\n",
       "    </tr>\n",
       "    <tr>\n",
       "      <th>...</th>\n",
       "      <td>...</td>\n",
       "      <td>...</td>\n",
       "      <td>...</td>\n",
       "      <td>...</td>\n",
       "      <td>...</td>\n",
       "      <td>...</td>\n",
       "      <td>...</td>\n",
       "      <td>...</td>\n",
       "      <td>...</td>\n",
       "      <td>...</td>\n",
       "      <td>...</td>\n",
       "      <td>...</td>\n",
       "      <td>...</td>\n",
       "      <td>...</td>\n",
       "      <td>...</td>\n",
       "      <td>...</td>\n",
       "      <td>...</td>\n",
       "      <td>...</td>\n",
       "    </tr>\n",
       "    <tr>\n",
       "      <th>178</th>\n",
       "      <td>2024-01-17T23:55:30.000000Z</td>\n",
       "      <td>690930.0</td>\n",
       "      <td>60326.996875</td>\n",
       "      <td>302.412529</td>\n",
       "      <td>302.412554</td>\n",
       "      <td>302.412450</td>\n",
       "      <td>0.229020</td>\n",
       "      <td>0.003035</td>\n",
       "      <td>0.001040</td>\n",
       "      <td>0.507978</td>\n",
       "      <td>0.020264</td>\n",
       "      <td>0.018269</td>\n",
       "      <td>0.297882</td>\n",
       "      <td>0.247959</td>\n",
       "      <td>0.263345</td>\n",
       "      <td>0.851875</td>\n",
       "      <td>0.040832</td>\n",
       "      <td>0.034649</td>\n",
       "    </tr>\n",
       "    <tr>\n",
       "      <th>179</th>\n",
       "      <td>2024-01-17T23:56:30.000000Z</td>\n",
       "      <td>690990.0</td>\n",
       "      <td>60326.997569</td>\n",
       "      <td>302.412086</td>\n",
       "      <td>302.412114</td>\n",
       "      <td>302.412079</td>\n",
       "      <td>0.229052</td>\n",
       "      <td>0.003019</td>\n",
       "      <td>0.001027</td>\n",
       "      <td>0.508038</td>\n",
       "      <td>0.020295</td>\n",
       "      <td>0.018272</td>\n",
       "      <td>0.297922</td>\n",
       "      <td>0.247967</td>\n",
       "      <td>0.263438</td>\n",
       "      <td>0.851837</td>\n",
       "      <td>0.040897</td>\n",
       "      <td>0.034652</td>\n",
       "    </tr>\n",
       "    <tr>\n",
       "      <th>0</th>\n",
       "      <td>2024-01-17T23:57:30.000000Z</td>\n",
       "      <td>691050.0</td>\n",
       "      <td>60326.998264</td>\n",
       "      <td>302.411860</td>\n",
       "      <td>302.411876</td>\n",
       "      <td>302.411835</td>\n",
       "      <td>0.229082</td>\n",
       "      <td>0.003008</td>\n",
       "      <td>0.001018</td>\n",
       "      <td>0.508106</td>\n",
       "      <td>0.020635</td>\n",
       "      <td>0.018543</td>\n",
       "      <td>0.297963</td>\n",
       "      <td>0.247957</td>\n",
       "      <td>0.263502</td>\n",
       "      <td>0.851862</td>\n",
       "      <td>0.041589</td>\n",
       "      <td>0.035163</td>\n",
       "    </tr>\n",
       "    <tr>\n",
       "      <th>1</th>\n",
       "      <td>2024-01-17T23:58:30.000000Z</td>\n",
       "      <td>691110.0</td>\n",
       "      <td>60326.998958</td>\n",
       "      <td>302.411812</td>\n",
       "      <td>302.411821</td>\n",
       "      <td>302.411920</td>\n",
       "      <td>0.229110</td>\n",
       "      <td>0.003006</td>\n",
       "      <td>0.001013</td>\n",
       "      <td>0.508180</td>\n",
       "      <td>0.020599</td>\n",
       "      <td>0.018491</td>\n",
       "      <td>0.297988</td>\n",
       "      <td>0.247954</td>\n",
       "      <td>0.263535</td>\n",
       "      <td>0.851899</td>\n",
       "      <td>0.041522</td>\n",
       "      <td>0.035066</td>\n",
       "    </tr>\n",
       "    <tr>\n",
       "      <th>2</th>\n",
       "      <td>2024-01-17T23:59:30.000000Z</td>\n",
       "      <td>691170.0</td>\n",
       "      <td>60326.999653</td>\n",
       "      <td>302.411568</td>\n",
       "      <td>302.411568</td>\n",
       "      <td>302.411655</td>\n",
       "      <td>0.229138</td>\n",
       "      <td>0.002999</td>\n",
       "      <td>0.001006</td>\n",
       "      <td>0.508245</td>\n",
       "      <td>0.019968</td>\n",
       "      <td>0.017900</td>\n",
       "      <td>0.298024</td>\n",
       "      <td>0.247930</td>\n",
       "      <td>0.263556</td>\n",
       "      <td>0.851936</td>\n",
       "      <td>0.040259</td>\n",
       "      <td>0.033950</td>\n",
       "    </tr>\n",
       "  </tbody>\n",
       "</table>\n",
       "<p>10260 rows × 18 columns</p>\n",
       "</div>"
      ],
      "text/plain": [
       "                       times_utc  times_utc_sec     times_mjd          fj  \\\n",
       "3    2024-01-10T00:00:30.000000Z           30.0  60319.000347  302.439499   \n",
       "4    2024-01-10T00:01:30.000000Z           90.0  60319.001042  302.440261   \n",
       "5    2024-01-10T00:02:30.000000Z          150.0  60319.001736  302.440792   \n",
       "6    2024-01-10T00:03:30.000000Z          210.0  60319.002431  302.441118   \n",
       "7    2024-01-10T00:04:30.000000Z          270.0  60319.003125  302.441307   \n",
       "..                           ...            ...           ...         ...   \n",
       "178  2024-01-17T23:55:30.000000Z       690930.0  60326.996875  302.412529   \n",
       "179  2024-01-17T23:56:30.000000Z       690990.0  60326.997569  302.412086   \n",
       "0    2024-01-17T23:57:30.000000Z       691050.0  60326.998264  302.411860   \n",
       "1    2024-01-17T23:58:30.000000Z       691110.0  60326.998958  302.411812   \n",
       "2    2024-01-17T23:59:30.000000Z       691170.0  60326.999653  302.411568   \n",
       "\n",
       "             f1          f2        pz        p1        p2      ac_z      ac_1  \\\n",
       "3    302.439718  302.439851  0.185770  0.003246  0.000733  0.417305  0.029734   \n",
       "4    302.440400  302.440365  0.185490  0.003238  0.000755  0.416739  0.031128   \n",
       "5    302.440815  302.440565  0.185259  0.003229  0.000779  0.416239  0.031868   \n",
       "6    302.441106  302.440853  0.185058  0.003218  0.000801  0.415798  0.031984   \n",
       "7    302.441406  302.441091  0.184865  0.003207  0.000830  0.415373  0.031165   \n",
       "..          ...         ...       ...       ...       ...       ...       ...   \n",
       "178  302.412554  302.412450  0.229020  0.003035  0.001040  0.507978  0.020264   \n",
       "179  302.412114  302.412079  0.229052  0.003019  0.001027  0.508038  0.020295   \n",
       "0    302.411876  302.411835  0.229082  0.003008  0.001018  0.508106  0.020635   \n",
       "1    302.411821  302.411920  0.229110  0.003006  0.001013  0.508180  0.020599   \n",
       "2    302.411568  302.411655  0.229138  0.002999  0.001006  0.508245  0.019968   \n",
       "\n",
       "         ac_2      dc_z      dc_1      dc_2  contrast_z  contrast_1  \\\n",
       "3    0.030670  0.320261  0.221179  0.283005    0.646894    0.067053   \n",
       "4    0.032174  0.320040  0.221177  0.282698    0.646435    0.070211   \n",
       "5    0.032936  0.319865  0.221162  0.282456    0.646020    0.071891   \n",
       "6    0.033045  0.319732  0.221162  0.282274    0.645615    0.072149   \n",
       "7    0.032269  0.319621  0.221172  0.282150    0.645186    0.070301   \n",
       "..        ...       ...       ...       ...         ...         ...   \n",
       "178  0.018269  0.297882  0.247959  0.263345    0.851875    0.040832   \n",
       "179  0.018272  0.297922  0.247967  0.263438    0.851837    0.040897   \n",
       "0    0.018543  0.297963  0.247957  0.263502    0.851862    0.041589   \n",
       "1    0.018491  0.297988  0.247954  0.263535    0.851899    0.041522   \n",
       "2    0.017900  0.298024  0.247930  0.263556    0.851936    0.040259   \n",
       "\n",
       "     contrast_2  \n",
       "3      0.054098  \n",
       "4      0.056805  \n",
       "5      0.058187  \n",
       "6      0.058406  \n",
       "7      0.057067  \n",
       "..          ...  \n",
       "178    0.034649  \n",
       "179    0.034652  \n",
       "0      0.035163  \n",
       "1      0.035066  \n",
       "2      0.033950  \n",
       "\n",
       "[10260 rows x 18 columns]"
      ]
     },
     "execution_count": 9,
     "metadata": {},
     "output_type": "execute_result"
    }
   ],
   "source": [
    "beat"
   ]
  },
  {
   "cell_type": "markdown",
   "id": "05ecb064-bb59-413a-8f84-11da1ec78615",
   "metadata": {
    "tags": []
   },
   "source": [
    "### Define Variables"
   ]
  },
  {
   "cell_type": "code",
   "execution_count": 10,
   "id": "9cf45025-6b20-435a-bc76-8e922809f947",
   "metadata": {
    "tags": []
   },
   "outputs": [],
   "source": [
    "status = DataFrame()\n",
    "\n",
    "status['times_utc'] = beat.times_utc\n",
    "status['times_utc_sec'] = beat.times_utc_sec\n",
    "\n",
    "N = status.shape[0]\n",
    "\n",
    "quality = np.ones(N)\n",
    "fsagnac = np.ones(N)\n",
    "mlti = np.ones(N)\n",
    "dc_threshold = np.ones(N)\n",
    "ac_threshold = np.ones(N)"
   ]
  },
  {
   "cell_type": "markdown",
   "id": "a6d7f853-211a-4237-ba72-ae66eabc7147",
   "metadata": {
    "tags": []
   },
   "source": [
    "## Determine Status"
   ]
  },
  {
   "cell_type": "code",
   "execution_count": 11,
   "id": "798e4b1d-55fe-4778-9aea-572ef84c97a4",
   "metadata": {
    "tags": []
   },
   "outputs": [
    {
     "name": "stdout",
     "output_type": "stream",
     "text": [
      "-> store: /import/freenas-ffb-01-data/temp_archive/2024/BW/RU/RU_2024-01-10_status.pkl\n",
      "\n",
      " -> created:  /import/freenas-ffb-01-data/temp_archive/2024/BW/RU/RU_2024-01-10_status.pkl\n"
     ]
    }
   ],
   "source": [
    "idx_mlti = 0\n",
    "\n",
    "for idx in range(beat.shape[0]):\n",
    "\n",
    "    _time = obs.UTCDateTime(status.times_utc.iloc[idx])\n",
    "\n",
    "    ## check if time conincides with MLTI\n",
    "    # print(_time, mlti_t1[idx_mlti], mlti_t2[idx_mlti])\n",
    "    if len(mlti_t1) > 0 and len(mlti_t2) > 0:\n",
    "        if _time >= mlti_t1[idx_mlti] and _time <= mlti_t2[idx_mlti]:\n",
    "            quality[idx] = 0\n",
    "            mlti[idx] = 0\n",
    "\n",
    "        ## update mlti interval\n",
    "        if _time > mlti_t2[idx_mlti] and idx_mlti < len(mlti_t1)-1:\n",
    "            idx_mlti += 1\n",
    "\n",
    "    if beat.fj.iloc[idx] < config['fsagnac_nominal'] - 1.0 or beat.fj.iloc[idx] > config['fsagnac_nominal'] + 1.0:\n",
    "        quality[idx] = 0\n",
    "        fsagnac[idx] = 0\n",
    "\n",
    "    if beat.dc_z.iloc[idx] < config['DC_threshold']:\n",
    "        quality[idx] = 0\n",
    "        dc_threshold[idx] = 0\n",
    "\n",
    "    if beat.ac_z.iloc[idx] < config['AC_threshold']:\n",
    "        quality[idx] = 0\n",
    "        ac_threshold[idx] = 0\n",
    "\n",
    "\n",
    "status['quality'] = quality\n",
    "status['fsagnac'] = fsagnac\n",
    "status['mlti'] = mlti\n",
    "status['ac_threshold'] = ac_threshold\n",
    "status['dc_threshold'] = dc_threshold\n",
    "\n",
    "\n",
    "## store output to file\n",
    "print(f\"-> store: {config['path_to_output']}R{config['ring']}_{config['tbeg'].date}_status.pkl\")\n",
    "__save_to_pickle(status, config['path_to_output'],f\"R{config['ring']}_{config['tbeg'].date}_status\")\n"
   ]
  },
  {
   "cell_type": "markdown",
   "id": "881e2179-430b-4668-bfda-42cdc2a34fd1",
   "metadata": {},
   "source": [
    "### Plotting"
   ]
  },
  {
   "cell_type": "code",
   "execution_count": 12,
   "id": "2bc7c5d5-64f7-4dd6-9018-c86d2fd31197",
   "metadata": {
    "tags": []
   },
   "outputs": [],
   "source": [
    "arr = np.ones((3, status['quality'].size))\n",
    "\n",
    "arr[0] *= status['quality']\n",
    "arr[1] *= status['fsagnac']\n",
    "arr[2] *= status['mlti']"
   ]
  },
  {
   "cell_type": "code",
   "execution_count": 13,
   "id": "7c77f35a-c916-4606-8ea5-2b4db1ed1961",
   "metadata": {
    "tags": []
   },
   "outputs": [
    {
     "name": "stderr",
     "output_type": "stream",
     "text": [
      "/tmp/ipykernel_1757701/1349772002.py:30: UserWarning: set_ticklabels() should only be used with a fixed number of ticks, i.e. after set_ticks() or using a FixedLocator.\n",
      "  ax.set_xticklabels(tcklbls)\n"
     ]
    },
    {
     "data": {
      "image/png": "[encoded data removed]",
      "text/plain": [
       "<Figure size 1500x400 with 1 Axes>"
      ]
     },
     "metadata": {},
     "output_type": "display_data"
    }
   ],
   "source": [
    "names = [\"quality\", \"fsagnac\", \"mlti\", \"ac_threshold\", \"dc_threshold\"]\n",
    "bars = np.ones(len(names))-0.5\n",
    "\n",
    "arr = np.ones((len(names), status['quality'].size))\n",
    "\n",
    "for _n, name in enumerate(names):\n",
    "    arr[_n] *= status[name]\n",
    "\n",
    "\n",
    "cmap = matplotlib.colors.ListedColormap(['darkred', 'green'])\n",
    "\n",
    "font = 12\n",
    "\n",
    "fig, ax = plt.subplots(1, 1, figsize=(15, 4))\n",
    "\n",
    "c = ax.pcolormesh(np.arange(0, arr.shape[1])/60, names, arr, cmap=cmap,\n",
    "                   rasterized=True, alpha=0.8, antialiased=False)\n",
    "\n",
    "# c = ax.pcolor(beat.times_utc_sec, names, arr, cmap=cmap,\n",
    "#               rasterized=True, alpha=0.8, antialiased=False)\n",
    "\n",
    "for _k, bar in enumerate(bars):\n",
    "    ax.axhline(bar+_k, color=\"k\", alpha=0.5)\n",
    "\n",
    "# ax.set_xlabel(\"Time (min)\")\n",
    "\n",
    "ref_date = beat.times_utc.iloc[0]\n",
    "tcks = ax.get_xticks()\n",
    "tcklbls = [str((obs.UTCDateTime(ref_date)+t).date) for t in tcks]\n",
    "ax.set_xticklabels(tcklbls)\n",
    "\n",
    "ax.tick_params(axis='y', labelsize=font)\n",
    "\n",
    "ax.spines['top'].set_visible(False)\n",
    "ax.spines['right'].set_visible(False)\n",
    "\n",
    "ax.set_title(f\"Quality Status of R{config['ring']} on {config['tbeg'].date}\")\n",
    "\n",
    "plt.show();\n",
    "\n",
    "\n",
    "# print(f\" -> stored: {config['path_to_figures']}R{config['ring']}_{config['tbeg'].date}_status.png\")\n",
    "# fig.savefig(config['path_to_figures']+f\"R{config['ring']}_{config['tbeg'].date}_status.png\", format=\"png\", dpi=100, bbox_inches='tight')"
   ]
  },
  {
   "cell_type": "code",
   "execution_count": null,
   "id": "155dea70-2b9d-4d9a-b0f6-a288738ff4c7",
   "metadata": {},
   "outputs": [],
   "source": []
  },
  {
   "cell_type": "code",
   "execution_count": null,
   "id": "1e0974cf-09fc-4000-93d1-7432e3da4963",
   "metadata": {},
   "outputs": [],
   "source": []
  },
  {
   "cell_type": "code",
   "execution_count": null,
   "id": "9a186bf6-4c4d-4d26-b138-f04c8ec182c1",
   "metadata": {},
   "outputs": [],
   "source": []
  }
 ],
 "metadata": {
  "kernelspec": {
   "display_name": "Python 3 (ipykernel)",
   "language": "python",
   "name": "python3"
  },
  "language_info": {
   "codemirror_mode": {
    "name": "ipython",
    "version": 3
   },
   "file_extension": ".py",
   "mimetype": "text/x-python",
   "name": "python",
   "nbconvert_exporter": "python",
   "pygments_lexer": "ipython3",
   "version": "3.10.12"
  }
 },
 "nbformat": 4,
 "nbformat_minor": 5
}
