{
 "cells": [
  {
   "cell_type": "markdown",
   "id": "e9da90cb-d480-4f01-9115-0ba22d9b2c6a",
   "metadata": {
    "tags": []
   },
   "source": [
    "# ROMY Status File"
   ]
  },
  {
   "cell_type": "code",
   "execution_count": 2,
   "id": "5e8ef5e0-37dc-4a1c-a603-49b53fb31dea",
   "metadata": {
    "tags": []
   },
   "outputs": [],
   "source": [
    "import os\n",
    "import sys\n",
    "import numpy as np\n",
    "import matplotlib.pyplot as plt\n",
    "import obspy as obs\n",
    "import matplotlib.colors\n",
    "\n",
    "from pandas import DataFrame\n",
    "from andbro__save_to_pickle import __save_to_pickle"
   ]
  },
  {
   "cell_type": "code",
   "execution_count": 3,
   "id": "e5e75ac2-dabd-4e5a-b663-7d9581266689",
   "metadata": {
    "tags": []
   },
   "outputs": [],
   "source": [
    "if os.uname().nodename == 'lighthouse':\n",
    "    root_path = '/home/andbro/'\n",
    "    data_path = '/home/andbro/kilauea-data/'\n",
    "    archive_path = '/home/andbro/freenas/'\n",
    "    bay_path = '/home/andbro/bay200/'\n",
    "elif os.uname().nodename == 'kilauea':\n",
    "    root_path = '/home/brotzer/'\n",
    "    data_path = '/import/kilauea-data/'\n",
    "    archive_path = '/import/freenas-ffb-01-data/'\n",
    "    bay_path = '/bay200/'\n",
    "elif os.uname().nodename == 'lin-ffb-01':\n",
    "    root_path = '/home/brotzer/'\n",
    "    data_path = '/import/kilauea-data/'\n",
    "    archive_path = '/import/freenas-ffb-01-data/'\n",
    "    bay_path = '/bay200/'"
   ]
  },
  {
   "cell_type": "code",
   "execution_count": 4,
   "id": "d47128f1-31a4-4301-beba-6d2b61152191",
   "metadata": {
    "tags": []
   },
   "outputs": [],
   "source": [
    "from functions.load_beat import __load_beat\n",
    "from functions.load_mlti import __load_mlti\n",
    "from functions.get_mlti_intervals import __get_mlti_intervals"
   ]
  },
  {
   "cell_type": "markdown",
   "id": "4e4bf4dd-b2be-45fc-86fe-ce806f4ace1c",
   "metadata": {
    "tags": []
   },
   "source": [
    "## Configurations"
   ]
  },
  {
   "cell_type": "code",
   "execution_count": 6,
   "id": "bbfcde63-9c9b-426c-a2f3-0e80dc2daa8b",
   "metadata": {
    "tags": []
   },
   "outputs": [],
   "source": [
    "config = {}\n",
    "\n",
    "\n",
    "# config['tbeg'] = obs.UTCDateTime(sys.argv[1])\n",
    "# config['tend'] = obs.UTCDateTime(sys.argv[1])+86400\n",
    "\n",
    "config['tbeg'] = obs.UTCDateTime(\"2024-03-01\")\n",
    "config['tend'] = obs.UTCDateTime(\"2024-03-31\")\n",
    "\n",
    "config['ring'] = \"U\"\n",
    "\n",
    "config['path_to_autodata'] = archive_path+f\"romy_autodata/\"\n",
    "\n",
    "config['path_to_figures'] = archive_path+f\"romy_plots/{config['tbeg'].year}/R{config['ring']}/status/\"\n",
    "\n",
    "config['path_to_output'] = archive_path+f\"temp_archive/{config['tbeg'].year}/BW/R{config['ring']}/\"\n",
    "\n",
    "config['fsagnac_rings'] = {\"U\":303, \"V\":447.5, \"W\":447.5, \"Z\":553.5}\n",
    "config['fsagnac_nominal'] = config['fsagnac_rings'][config['ring']]\n",
    "\n",
    "config['DC_threshold'] = 0.1\n",
    "\n",
    "config['AC_threshold'] = 0.3\n"
   ]
  },
  {
   "cell_type": "markdown",
   "id": "dbd0d6c9-5827-4153-bea0-75be1ec862c9",
   "metadata": {},
   "source": [
    "### Load MLTI Logs"
   ]
  },
  {
   "cell_type": "code",
   "execution_count": 7,
   "id": "68b9ef82-dd8a-44e4-b46d-7f5aad2f6dad",
   "metadata": {
    "tags": []
   },
   "outputs": [],
   "source": [
    "mlti_log = __load_mlti(config['tbeg'], config['tend'], config['ring'], archive_path)\n",
    "\n",
    "mlti_t1, mlti_t2 = __get_mlti_intervals(mlti_log.time_utc, time_delta=100)"
   ]
  },
  {
   "cell_type": "code",
   "execution_count": 8,
   "id": "92b2077d-7486-4ed8-8339-cf7919f1e229",
   "metadata": {
    "tags": []
   },
   "outputs": [
    {
     "data": {
      "text/plain": [
       "30786"
      ]
     },
     "execution_count": 8,
     "metadata": {},
     "output_type": "execute_result"
    }
   ],
   "source": [
    "mlti_log.size"
   ]
  },
  {
   "cell_type": "markdown",
   "id": "bf807894-683a-4b58-9bd4-a84e6e8539aa",
   "metadata": {},
   "source": [
    "### Load Beat Data"
   ]
  },
  {
   "cell_type": "code",
   "execution_count": 9,
   "id": "3e81b702-8c12-455a-a7f3-c150e8901a35",
   "metadata": {
    "tags": []
   },
   "outputs": [],
   "source": [
    "beat = __load_beat(config['tbeg'], config['tend'], config['ring'], config['path_to_autodata'])"
   ]
  },
  {
   "cell_type": "code",
   "execution_count": 10,
   "id": "9f5bc7d9-27ae-45c8-a125-4fee0c73ba31",
   "metadata": {
    "tags": []
   },
   "outputs": [
    {
     "data": {
      "text/html": [
       "<div>\n",
       "<style scoped>\n",
       "    .dataframe tbody tr th:only-of-type {\n",
       "        vertical-align: middle;\n",
       "    }\n",
       "\n",
       "    .dataframe tbody tr th {\n",
       "        vertical-align: top;\n",
       "    }\n",
       "\n",
       "    .dataframe thead th {\n",
       "        text-align: right;\n",
       "    }\n",
       "</style>\n",
       "<table border=\"1\" class=\"dataframe\">\n",
       "  <thead>\n",
       "    <tr style=\"text-align: right;\">\n",
       "      <th></th>\n",
       "      <th>times_utc</th>\n",
       "      <th>times_utc_sec</th>\n",
       "      <th>times_mjd</th>\n",
       "      <th>fj</th>\n",
       "      <th>f1</th>\n",
       "      <th>f2</th>\n",
       "      <th>pz</th>\n",
       "      <th>p1</th>\n",
       "      <th>p2</th>\n",
       "      <th>ac_z</th>\n",
       "      <th>ac_1</th>\n",
       "      <th>ac_2</th>\n",
       "      <th>dc_z</th>\n",
       "      <th>dc_1</th>\n",
       "      <th>dc_2</th>\n",
       "      <th>contrast_z</th>\n",
       "      <th>contrast_1</th>\n",
       "      <th>contrast_2</th>\n",
       "    </tr>\n",
       "  </thead>\n",
       "  <tbody>\n",
       "    <tr>\n",
       "      <th>3</th>\n",
       "      <td>2024-03-01T00:00:30.000000Z</td>\n",
       "      <td>30.0</td>\n",
       "      <td>60370.000347</td>\n",
       "      <td>302.438505</td>\n",
       "      <td>0.000000</td>\n",
       "      <td>0.000000</td>\n",
       "      <td>0.535225</td>\n",
       "      <td>0.000000</td>\n",
       "      <td>0.000000</td>\n",
       "      <td>1.192079</td>\n",
       "      <td>0.000000</td>\n",
       "      <td>0.000000</td>\n",
       "      <td>0.625636</td>\n",
       "      <td>0.000000</td>\n",
       "      <td>0.000000</td>\n",
       "      <td>0.947481</td>\n",
       "      <td>0.000000</td>\n",
       "      <td>0.000000</td>\n",
       "    </tr>\n",
       "    <tr>\n",
       "      <th>4</th>\n",
       "      <td>2024-03-01T00:01:30.000000Z</td>\n",
       "      <td>90.0</td>\n",
       "      <td>60370.001042</td>\n",
       "      <td>302.438597</td>\n",
       "      <td>0.000000</td>\n",
       "      <td>0.000000</td>\n",
       "      <td>0.535379</td>\n",
       "      <td>0.000000</td>\n",
       "      <td>0.000000</td>\n",
       "      <td>1.192356</td>\n",
       "      <td>0.000000</td>\n",
       "      <td>0.000000</td>\n",
       "      <td>0.625748</td>\n",
       "      <td>0.000000</td>\n",
       "      <td>0.000000</td>\n",
       "      <td>0.947534</td>\n",
       "      <td>0.000000</td>\n",
       "      <td>0.000000</td>\n",
       "    </tr>\n",
       "    <tr>\n",
       "      <th>5</th>\n",
       "      <td>2024-03-01T00:02:30.000000Z</td>\n",
       "      <td>150.0</td>\n",
       "      <td>60370.001736</td>\n",
       "      <td>302.438668</td>\n",
       "      <td>0.000000</td>\n",
       "      <td>0.000000</td>\n",
       "      <td>0.535499</td>\n",
       "      <td>0.000000</td>\n",
       "      <td>0.000000</td>\n",
       "      <td>1.192553</td>\n",
       "      <td>0.000000</td>\n",
       "      <td>0.000000</td>\n",
       "      <td>0.625839</td>\n",
       "      <td>0.000000</td>\n",
       "      <td>0.000000</td>\n",
       "      <td>0.947578</td>\n",
       "      <td>0.000000</td>\n",
       "      <td>0.000000</td>\n",
       "    </tr>\n",
       "    <tr>\n",
       "      <th>6</th>\n",
       "      <td>2024-03-01T00:03:30.000000Z</td>\n",
       "      <td>210.0</td>\n",
       "      <td>60370.002431</td>\n",
       "      <td>302.438737</td>\n",
       "      <td>0.000000</td>\n",
       "      <td>0.000000</td>\n",
       "      <td>0.535545</td>\n",
       "      <td>0.000000</td>\n",
       "      <td>0.000000</td>\n",
       "      <td>1.192589</td>\n",
       "      <td>0.000000</td>\n",
       "      <td>0.000000</td>\n",
       "      <td>0.625876</td>\n",
       "      <td>0.000000</td>\n",
       "      <td>0.000000</td>\n",
       "      <td>0.947609</td>\n",
       "      <td>0.000000</td>\n",
       "      <td>0.000000</td>\n",
       "    </tr>\n",
       "    <tr>\n",
       "      <th>7</th>\n",
       "      <td>2024-03-01T00:04:30.000000Z</td>\n",
       "      <td>270.0</td>\n",
       "      <td>60370.003125</td>\n",
       "      <td>302.438710</td>\n",
       "      <td>0.000000</td>\n",
       "      <td>0.000000</td>\n",
       "      <td>0.535524</td>\n",
       "      <td>0.000000</td>\n",
       "      <td>0.000000</td>\n",
       "      <td>1.192639</td>\n",
       "      <td>0.000000</td>\n",
       "      <td>0.000000</td>\n",
       "      <td>0.625877</td>\n",
       "      <td>0.000000</td>\n",
       "      <td>0.000000</td>\n",
       "      <td>0.947592</td>\n",
       "      <td>0.000000</td>\n",
       "      <td>0.000000</td>\n",
       "    </tr>\n",
       "    <tr>\n",
       "      <th>...</th>\n",
       "      <td>...</td>\n",
       "      <td>...</td>\n",
       "      <td>...</td>\n",
       "      <td>...</td>\n",
       "      <td>...</td>\n",
       "      <td>...</td>\n",
       "      <td>...</td>\n",
       "      <td>...</td>\n",
       "      <td>...</td>\n",
       "      <td>...</td>\n",
       "      <td>...</td>\n",
       "      <td>...</td>\n",
       "      <td>...</td>\n",
       "      <td>...</td>\n",
       "      <td>...</td>\n",
       "      <td>...</td>\n",
       "      <td>...</td>\n",
       "      <td>...</td>\n",
       "    </tr>\n",
       "    <tr>\n",
       "      <th>1435</th>\n",
       "      <td>2024-03-27T23:52:30.000000Z</td>\n",
       "      <td>2332350.0</td>\n",
       "      <td>60396.994792</td>\n",
       "      <td>302.443709</td>\n",
       "      <td>302.443518</td>\n",
       "      <td>302.443550</td>\n",
       "      <td>0.679919</td>\n",
       "      <td>0.002869</td>\n",
       "      <td>0.003655</td>\n",
       "      <td>1.510676</td>\n",
       "      <td>0.026233</td>\n",
       "      <td>0.032571</td>\n",
       "      <td>0.761460</td>\n",
       "      <td>0.284211</td>\n",
       "      <td>0.486204</td>\n",
       "      <td>0.987996</td>\n",
       "      <td>0.046145</td>\n",
       "      <td>0.033491</td>\n",
       "    </tr>\n",
       "    <tr>\n",
       "      <th>1436</th>\n",
       "      <td>2024-03-27T23:53:30.000000Z</td>\n",
       "      <td>2332410.0</td>\n",
       "      <td>60396.995486</td>\n",
       "      <td>302.444106</td>\n",
       "      <td>302.443941</td>\n",
       "      <td>302.443975</td>\n",
       "      <td>0.679240</td>\n",
       "      <td>0.002837</td>\n",
       "      <td>0.003651</td>\n",
       "      <td>1.509187</td>\n",
       "      <td>0.025973</td>\n",
       "      <td>0.032326</td>\n",
       "      <td>0.760932</td>\n",
       "      <td>0.284201</td>\n",
       "      <td>0.485875</td>\n",
       "      <td>0.987708</td>\n",
       "      <td>0.045682</td>\n",
       "      <td>0.033261</td>\n",
       "    </tr>\n",
       "    <tr>\n",
       "      <th>1437</th>\n",
       "      <td>2024-03-27T23:54:30.000000Z</td>\n",
       "      <td>2332470.0</td>\n",
       "      <td>60396.996181</td>\n",
       "      <td>302.444444</td>\n",
       "      <td>302.444334</td>\n",
       "      <td>302.444230</td>\n",
       "      <td>0.678638</td>\n",
       "      <td>0.002807</td>\n",
       "      <td>0.003644</td>\n",
       "      <td>1.507875</td>\n",
       "      <td>0.026129</td>\n",
       "      <td>0.032454</td>\n",
       "      <td>0.760460</td>\n",
       "      <td>0.284195</td>\n",
       "      <td>0.485600</td>\n",
       "      <td>0.987446</td>\n",
       "      <td>0.045956</td>\n",
       "      <td>0.033414</td>\n",
       "    </tr>\n",
       "    <tr>\n",
       "      <th>1438</th>\n",
       "      <td>2024-03-27T23:55:30.000000Z</td>\n",
       "      <td>2332530.0</td>\n",
       "      <td>60396.996875</td>\n",
       "      <td>302.444798</td>\n",
       "      <td>302.444649</td>\n",
       "      <td>302.444648</td>\n",
       "      <td>0.678093</td>\n",
       "      <td>0.002780</td>\n",
       "      <td>0.003636</td>\n",
       "      <td>1.506740</td>\n",
       "      <td>0.026739</td>\n",
       "      <td>0.033051</td>\n",
       "      <td>0.760032</td>\n",
       "      <td>0.284175</td>\n",
       "      <td>0.485341</td>\n",
       "      <td>0.987200</td>\n",
       "      <td>0.047029</td>\n",
       "      <td>0.034046</td>\n",
       "    </tr>\n",
       "    <tr>\n",
       "      <th>1439</th>\n",
       "      <td>2024-03-27T23:56:30.000000Z</td>\n",
       "      <td>2332590.0</td>\n",
       "      <td>60396.997569</td>\n",
       "      <td>302.445027</td>\n",
       "      <td>302.444906</td>\n",
       "      <td>302.444859</td>\n",
       "      <td>0.677597</td>\n",
       "      <td>0.002755</td>\n",
       "      <td>0.003630</td>\n",
       "      <td>1.505626</td>\n",
       "      <td>0.027133</td>\n",
       "      <td>0.033485</td>\n",
       "      <td>0.759667</td>\n",
       "      <td>0.284174</td>\n",
       "      <td>0.485145</td>\n",
       "      <td>0.986952</td>\n",
       "      <td>0.047719</td>\n",
       "      <td>0.034505</td>\n",
       "    </tr>\n",
       "  </tbody>\n",
       "</table>\n",
       "<p>39716 rows × 18 columns</p>\n",
       "</div>"
      ],
      "text/plain": [
       "                        times_utc  times_utc_sec     times_mjd          fj  \\\n",
       "3     2024-03-01T00:00:30.000000Z           30.0  60370.000347  302.438505   \n",
       "4     2024-03-01T00:01:30.000000Z           90.0  60370.001042  302.438597   \n",
       "5     2024-03-01T00:02:30.000000Z          150.0  60370.001736  302.438668   \n",
       "6     2024-03-01T00:03:30.000000Z          210.0  60370.002431  302.438737   \n",
       "7     2024-03-01T00:04:30.000000Z          270.0  60370.003125  302.438710   \n",
       "...                           ...            ...           ...         ...   \n",
       "1435  2024-03-27T23:52:30.000000Z      2332350.0  60396.994792  302.443709   \n",
       "1436  2024-03-27T23:53:30.000000Z      2332410.0  60396.995486  302.444106   \n",
       "1437  2024-03-27T23:54:30.000000Z      2332470.0  60396.996181  302.444444   \n",
       "1438  2024-03-27T23:55:30.000000Z      2332530.0  60396.996875  302.444798   \n",
       "1439  2024-03-27T23:56:30.000000Z      2332590.0  60396.997569  302.445027   \n",
       "\n",
       "              f1          f2        pz        p1        p2      ac_z  \\\n",
       "3       0.000000    0.000000  0.535225  0.000000  0.000000  1.192079   \n",
       "4       0.000000    0.000000  0.535379  0.000000  0.000000  1.192356   \n",
       "5       0.000000    0.000000  0.535499  0.000000  0.000000  1.192553   \n",
       "6       0.000000    0.000000  0.535545  0.000000  0.000000  1.192589   \n",
       "7       0.000000    0.000000  0.535524  0.000000  0.000000  1.192639   \n",
       "...          ...         ...       ...       ...       ...       ...   \n",
       "1435  302.443518  302.443550  0.679919  0.002869  0.003655  1.510676   \n",
       "1436  302.443941  302.443975  0.679240  0.002837  0.003651  1.509187   \n",
       "1437  302.444334  302.444230  0.678638  0.002807  0.003644  1.507875   \n",
       "1438  302.444649  302.444648  0.678093  0.002780  0.003636  1.506740   \n",
       "1439  302.444906  302.444859  0.677597  0.002755  0.003630  1.505626   \n",
       "\n",
       "          ac_1      ac_2      dc_z      dc_1      dc_2  contrast_z  \\\n",
       "3     0.000000  0.000000  0.625636  0.000000  0.000000    0.947481   \n",
       "4     0.000000  0.000000  0.625748  0.000000  0.000000    0.947534   \n",
       "5     0.000000  0.000000  0.625839  0.000000  0.000000    0.947578   \n",
       "6     0.000000  0.000000  0.625876  0.000000  0.000000    0.947609   \n",
       "7     0.000000  0.000000  0.625877  0.000000  0.000000    0.947592   \n",
       "...        ...       ...       ...       ...       ...         ...   \n",
       "1435  0.026233  0.032571  0.761460  0.284211  0.486204    0.987996   \n",
       "1436  0.025973  0.032326  0.760932  0.284201  0.485875    0.987708   \n",
       "1437  0.026129  0.032454  0.760460  0.284195  0.485600    0.987446   \n",
       "1438  0.026739  0.033051  0.760032  0.284175  0.485341    0.987200   \n",
       "1439  0.027133  0.033485  0.759667  0.284174  0.485145    0.986952   \n",
       "\n",
       "      contrast_1  contrast_2  \n",
       "3       0.000000    0.000000  \n",
       "4       0.000000    0.000000  \n",
       "5       0.000000    0.000000  \n",
       "6       0.000000    0.000000  \n",
       "7       0.000000    0.000000  \n",
       "...          ...         ...  \n",
       "1435    0.046145    0.033491  \n",
       "1436    0.045682    0.033261  \n",
       "1437    0.045956    0.033414  \n",
       "1438    0.047029    0.034046  \n",
       "1439    0.047719    0.034505  \n",
       "\n",
       "[39716 rows x 18 columns]"
      ]
     },
     "execution_count": 10,
     "metadata": {},
     "output_type": "execute_result"
    }
   ],
   "source": [
    "beat"
   ]
  },
  {
   "cell_type": "markdown",
   "id": "05ecb064-bb59-413a-8f84-11da1ec78615",
   "metadata": {
    "tags": []
   },
   "source": [
    "### Define Variables"
   ]
  },
  {
   "cell_type": "code",
   "execution_count": 11,
   "id": "9cf45025-6b20-435a-bc76-8e922809f947",
   "metadata": {
    "tags": []
   },
   "outputs": [],
   "source": [
    "status = DataFrame()\n",
    "\n",
    "status['times_utc'] = beat.times_utc\n",
    "status['times_utc_sec'] = beat.times_utc_sec\n",
    "\n",
    "N = status.shape[0]\n",
    "\n",
    "quality = np.ones(N)\n",
    "fsagnac = np.ones(N)\n",
    "mlti = np.ones(N)\n",
    "dc_threshold = np.ones(N)\n",
    "ac_threshold = np.ones(N)"
   ]
  },
  {
   "cell_type": "markdown",
   "id": "a6d7f853-211a-4237-ba72-ae66eabc7147",
   "metadata": {
    "tags": []
   },
   "source": [
    "## Determine Status"
   ]
  },
  {
   "cell_type": "code",
   "execution_count": 12,
   "id": "798e4b1d-55fe-4778-9aea-572ef84c97a4",
   "metadata": {
    "tags": []
   },
   "outputs": [
    {
     "name": "stdout",
     "output_type": "stream",
     "text": [
      "-> store: /import/freenas-ffb-01-data/temp_archive/2024/BW/RU/RU_2024-03-01_status.pkl\n",
      "\n",
      " -> created:  /import/freenas-ffb-01-data/temp_archive/2024/BW/RU/RU_2024-03-01_status.pkl\n"
     ]
    }
   ],
   "source": [
    "idx_mlti = 0\n",
    "\n",
    "for idx in range(beat.shape[0]):\n",
    "\n",
    "    _time = obs.UTCDateTime(status.times_utc.iloc[idx])\n",
    "\n",
    "    ## check if time conincides with MLTI\n",
    "    # print(_time, mlti_t1[idx_mlti], mlti_t2[idx_mlti])\n",
    "    if len(mlti_t1) > 0 and len(mlti_t2) > 0:\n",
    "        if _time >= mlti_t1[idx_mlti] and _time <= mlti_t2[idx_mlti]:\n",
    "            quality[idx] = 0\n",
    "            mlti[idx] = 0\n",
    "\n",
    "        ## update mlti interval\n",
    "        if _time > mlti_t2[idx_mlti] and idx_mlti < len(mlti_t1)-1:\n",
    "            idx_mlti += 1\n",
    "\n",
    "    if beat.fj.iloc[idx] < config['fsagnac_nominal'] - 1.0 or beat.fj.iloc[idx] > config['fsagnac_nominal'] + 1.0:\n",
    "        quality[idx] = 0\n",
    "        fsagnac[idx] = 0\n",
    "\n",
    "    if beat.dc_z.iloc[idx] < config['DC_threshold']:\n",
    "        quality[idx] = 0\n",
    "        dc_threshold[idx] = 0\n",
    "\n",
    "    if beat.ac_z.iloc[idx] < config['AC_threshold']:\n",
    "        quality[idx] = 0\n",
    "        ac_threshold[idx] = 0\n",
    "\n",
    "\n",
    "status['quality'] = quality\n",
    "status['fsagnac'] = fsagnac\n",
    "status['mlti'] = mlti\n",
    "status['ac_threshold'] = ac_threshold\n",
    "status['dc_threshold'] = dc_threshold\n",
    "\n",
    "\n",
    "## store output to file\n",
    "print(f\"-> store: {config['path_to_output']}R{config['ring']}_{config['tbeg'].date}_status.pkl\")\n",
    "__save_to_pickle(status, config['path_to_output'],f\"R{config['ring']}_{config['tbeg'].date}_status\")\n"
   ]
  },
  {
   "cell_type": "markdown",
   "id": "881e2179-430b-4668-bfda-42cdc2a34fd1",
   "metadata": {},
   "source": [
    "### Plotting"
   ]
  },
  {
   "cell_type": "code",
   "execution_count": 13,
   "id": "2bc7c5d5-64f7-4dd6-9018-c86d2fd31197",
   "metadata": {
    "tags": []
   },
   "outputs": [],
   "source": [
    "arr = np.ones((3, status['quality'].size))\n",
    "\n",
    "arr[0] *= status['quality']\n",
    "arr[1] *= status['fsagnac']\n",
    "arr[2] *= status['mlti']"
   ]
  },
  {
   "cell_type": "code",
   "execution_count": 17,
   "id": "7c77f35a-c916-4606-8ea5-2b4db1ed1961",
   "metadata": {
    "tags": []
   },
   "outputs": [
    {
     "name": "stderr",
     "output_type": "stream",
     "text": [
      "/tmp/ipykernel_855806/86140097.py:36: UserWarning: set_ticklabels() should only be used with a fixed number of ticks, i.e. after set_ticks() or using a FixedLocator.\n",
      "  ax.set_xticklabels(tcklbls)\n"
     ]
    },
    {
     "data": {
      "image/png": "[encoded data removed]",
      "text/plain": [
       "<Figure size 1500x400 with 1 Axes>"
      ]
     },
     "metadata": {},
     "output_type": "display_data"
    }
   ],
   "source": [
    "names = [\"quality\", \"fsagnac\", \"mlti\", \"ac_threshold\", \"dc_threshold\"]\n",
    "bars = np.ones(len(names))-0.5\n",
    "\n",
    "arr = np.ones((len(names), status['quality'].size))\n",
    "\n",
    "for _n, name in enumerate(names):\n",
    "    arr[_n] *= status[name]\n",
    "\n",
    "\n",
    "cmap = matplotlib.colors.ListedColormap(['darkred', 'green'])\n",
    "\n",
    "font = 12\n",
    "\n",
    "fig, ax = plt.subplots(1, 1, figsize=(15, 4))\n",
    "\n",
    "\n",
    "c = ax.pcolormesh(np.arange(0, arr.shape[1])/60, names, arr, cmap=cmap,\n",
    "                  rasterized=True, alpha=0.8, antialiased=False)\n",
    "\n",
    "# c = ax.pcolor(beat.times_utc_sec, names, arr, cmap=cmap,\n",
    "#               rasterized=True, alpha=0.8, antialiased=False)\n",
    "\n",
    "for _k, bar in enumerate(bars):\n",
    "    ax.axhline(bar+_k, color=\"k\", alpha=0.5)\n",
    "\n",
    "# ax.set_xlabel(\"Time (min)\")\n",
    "\n",
    "ref_date = beat.times_utc.iloc[0]\n",
    "tcks = ax.get_xticks()\n",
    "tcklbls = [str((obs.UTCDateTime(ref_date)+t).date) for t in tcks]\n",
    "ax.set_xticklabels(tcklbls)\n",
    "\n",
    "ax.tick_params(axis='y', labelsize=font)\n",
    "\n",
    "ax.spines['top'].set_visible(False)\n",
    "ax.spines['right'].set_visible(False)\n",
    "\n",
    "ax.set_title(f\"Quality Status of R{config['ring']} on {config['tbeg'].date}\")\n",
    "\n",
    "plt.show();\n",
    "\n",
    "\n",
    "# print(f\" -> stored: {config['path_to_figures']}R{config['ring']}_{config['tbeg'].date}_status.png\")\n",
    "# fig.savefig(config['path_to_figures']+f\"R{config['ring']}_{config['tbeg'].date}_status.png\", format=\"png\", dpi=100, bbox_inches='tight')"
   ]
  },
  {
   "cell_type": "code",
   "execution_count": 15,
   "id": "9a186bf6-4c4d-4d26-b138-f04c8ec182c1",
   "metadata": {},
   "outputs": [],
   "source": []
  },
  {
   "cell_type": "code",
   "execution_count": null,
   "id": "6cf7ca54-09e1-431d-8f9f-dd63a0e02742",
   "metadata": {},
   "outputs": [],
   "source": []
  }
 ],
 "metadata": {
  "kernelspec": {
   "display_name": "Python 3 (ipykernel)",
   "language": "python",
   "name": "python3"
  },
  "language_info": {
   "codemirror_mode": {
    "name": "ipython",
    "version": 3
   },
   "file_extension": ".py",
   "mimetype": "text/x-python",
   "name": "python",
   "nbconvert_exporter": "python",
   "pygments_lexer": "ipython3",
   "version": "3.9.16"
  }
 },
 "nbformat": 4,
 "nbformat_minor": 5
}
