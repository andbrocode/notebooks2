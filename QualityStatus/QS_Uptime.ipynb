{
 "cells": [
  {
   "cell_type": "markdown",
   "id": "e9da90cb-d480-4f01-9115-0ba22d9b2c6a",
   "metadata": {
    "tags": []
   },
   "source": [
    "# ROMY Performance Plot"
   ]
  },
  {
   "cell_type": "code",
   "execution_count": 1,
   "id": "5e8ef5e0-37dc-4a1c-a603-49b53fb31dea",
   "metadata": {
    "tags": []
   },
   "outputs": [],
   "source": [
    "import os\n",
    "import sys\n",
    "import numpy as np\n",
    "import seaborn as sns\n",
    "import matplotlib.pyplot as plt\n",
    "import obspy as obs\n",
    "import matplotlib.colors\n",
    "\n",
    "from pandas import DataFrame, merge\n",
    "from obspy import UTCDateTime\n",
    "# from andbro__save_to_pickle import __save_to_pickle\n",
    "from andbro__store_as_pickle import __store_as_pickle\n"
   ]
  },
  {
   "cell_type": "code",
   "execution_count": 2,
   "id": "d47128f1-31a4-4301-beba-6d2b61152191",
   "metadata": {
    "tags": []
   },
   "outputs": [],
   "source": [
    "from functions.load_beat import __load_beat\n",
    "from functions.load_status import __load_status\n",
    "from functions.load_mlti import __load_mlti\n",
    "from functions.get_mlti_intervals import __get_mlti_intervals\n",
    "\n",
    "from functions.load_mlti import __load_mlti\n",
    "from functions.get_mlti_intervals import __get_mlti_intervals\n",
    "from functions.load_beat import __load_beat\n",
    "from functions.load_lxx import __load_lxx\n",
    "from functions.get_lxx_intervals import __get_lxx_intervals\n",
    "from functions.get_mlti_statistics import __get_mlti_statistics"
   ]
  },
  {
   "cell_type": "code",
   "execution_count": 3,
   "id": "e5e75ac2-dabd-4e5a-b663-7d9581266689",
   "metadata": {
    "tags": []
   },
   "outputs": [],
   "source": [
    "if os.uname().nodename == 'lighthouse':\n",
    "    root_path = '/home/andbro/'\n",
    "    data_path = '/home/andbro/kilauea-data/'\n",
    "    archive_path = '/home/andbro/freenas/'\n",
    "    bay_path = '/home/andbro/ontap-ffb-bay200/'\n",
    "    lamont_path = '/home/andbro/lamont/'\n",
    "elif os.uname().nodename == 'kilauea':\n",
    "    root_path = '/home/brotzer/'\n",
    "    data_path = '/import/kilauea-data/'\n",
    "    archive_path = '/import/freenas-ffb-01-data/'\n",
    "    bay_path = '/import/ontap-ffb-bay200/'\n",
    "    lamont_path = '/lamont/'\n",
    "elif os.uname().nodename in ['lin-ffb-01', 'ambrym', 'hochfelln']:\n",
    "    root_path = '/home/brotzer/'\n",
    "    data_path = '/import/kilauea-data/'\n",
    "    archive_path = '/import/freenas-ffb-01-data/'\n",
    "    bay_path = '/import/ontap-ffb-bay200/'\n",
    "    lamont_path = '/lamont/'"
   ]
  },
  {
   "cell_type": "markdown",
   "id": "4e4bf4dd-b2be-45fc-86fe-ce806f4ace1c",
   "metadata": {
    "tags": []
   },
   "source": [
    "## Configurations"
   ]
  },
  {
   "cell_type": "code",
   "execution_count": 4,
   "id": "bbfcde63-9c9b-426c-a2f3-0e80dc2daa8b",
   "metadata": {
    "tags": []
   },
   "outputs": [],
   "source": [
    "config = {}\n",
    "\n",
    "# config['tbeg'] = obs.UTCDateTime(\"2024-03-09\")\n",
    "# config['tend'] = obs.UTCDateTime(\"2024-04-09\")\n",
    "\n",
    "config['tbeg'] = obs.UTCDateTime(\"2024-03-09\")\n",
    "config['tend'] = obs.UTCDateTime(\"2024-08-01\")\n",
    "\n",
    "config['tbeg'] = obs.UTCDateTime(\"2024-01-01\")\n",
    "config['tend'] = obs.UTCDateTime(\"2024-09-30\")\n",
    "\n",
    "config['path_to_figures'] = data_path+f\"quality_status/figures/\"\n",
    "\n",
    "config['path_to_data'] = archive_path+f\"temp_archive/\"\n"
   ]
  },
  {
   "cell_type": "code",
   "execution_count": 5,
   "id": "b2f9d903-86c1-49ae-a0e8-f87c2029aef1",
   "metadata": {
    "tags": []
   },
   "outputs": [],
   "source": [
    "opath = data_path+\"manuscripts/manuscript_romy_drifts/data/\""
   ]
  },
  {
   "cell_type": "markdown",
   "id": "a47ab63a-345f-43b9-835c-0d71ad732018",
   "metadata": {},
   "source": [
    "### Load Status Data"
   ]
  },
  {
   "cell_type": "code",
   "execution_count": 6,
   "id": "9f53b60f-7b24-4f06-938d-fdc09080e7bf",
   "metadata": {
    "tags": []
   },
   "outputs": [
    {
     "name": "stdout",
     "output_type": "stream",
     "text": [
      " -> no such file: 2024/BW/RU/RU_2024-09-29_status.pkl\n",
      " -> no such file: 2024/BW/RU/RU_2024-09-30_status.pkl\n",
      " -> no such file: 2024/BW/RV/RV_2024-09-29_status.pkl\n",
      " -> no such file: 2024/BW/RV/RV_2024-09-30_status.pkl\n",
      " -> no such file: 2024/BW/RZ/RZ_2024-09-29_status.pkl\n",
      " -> no such file: 2024/BW/RZ/RZ_2024-09-30_status.pkl\n"
     ]
    }
   ],
   "source": [
    "statusU = __load_status(config['tbeg'], config['tend'], \"U\", config['path_to_data'])\n",
    "\n",
    "statusV = __load_status(config['tbeg'], config['tend'], \"V\", config['path_to_data'])\n",
    "\n",
    "statusZ = __load_status(config['tbeg'], config['tend'], \"Z\", config['path_to_data'])\n"
   ]
  },
  {
   "cell_type": "code",
   "execution_count": 7,
   "id": "111658fe-c7f0-476a-8cde-a5cc6e7e3310",
   "metadata": {
    "tags": []
   },
   "outputs": [],
   "source": [
    "statusU.to_pickle(opath+f\"performance_status_U_{config['tbeg'].date}_{config['tend'].date}.pkl\")\n",
    "statusV.to_pickle(opath+f\"performance_status_V_{config['tbeg'].date}_{config['tend'].date}.pkl\")\n",
    "statusZ.to_pickle(opath+f\"performance_status_Z_{config['tbeg'].date}_{config['tend'].date}.pkl\")"
   ]
  },
  {
   "cell_type": "markdown",
   "id": "56177ce4-4ca1-4732-8013-341381a71a60",
   "metadata": {},
   "source": [
    "### Status of all rings running"
   ]
  },
  {
   "cell_type": "code",
   "execution_count": 8,
   "id": "049bb358-283e-4094-b18e-59103ad54318",
   "metadata": {
    "tags": []
   },
   "outputs": [],
   "source": [
    "# select only good quality\n",
    "statusU_good = statusU[statusU.quality == 1]\n",
    "statusV_good = statusV[statusV.quality == 1]\n",
    "statusZ_good = statusZ[statusZ.quality == 1]"
   ]
  },
  {
   "cell_type": "code",
   "execution_count": 9,
   "id": "b2660a7c-0e9c-4073-b3e9-6c940eb5de6e",
   "metadata": {
    "tags": []
   },
   "outputs": [],
   "source": [
    "# merge U and V\n",
    "status_all = merge(statusU_good, statusV_good, how=\"inner\", on=\"times_utc\")\n",
    "\n",
    "# merge Z\n",
    "status_all = merge(status_all, statusZ_good, how=\"inner\", on=\"times_utc\")\n"
   ]
  },
  {
   "cell_type": "code",
   "execution_count": 10,
   "id": "cdc7ccb8-54f2-48f8-b568-efcebfc4dd7a",
   "metadata": {
    "tags": []
   },
   "outputs": [
    {
     "name": "stdout",
     "output_type": "stream",
     "text": [
      "Simultaneous good quality: 64.81%\n"
     ]
    }
   ],
   "source": [
    "overall_minutes = (config['tend'] - config['tbeg'])/60\n",
    "\n",
    "good_quality_all = status_all.times_utc.size\n",
    "\n",
    "good_quality_all_percentage = good_quality_all / overall_minutes * 100\n",
    "\n",
    "print(f\"Simultaneous good quality: {round(good_quality_all_percentage, 2)}%\")"
   ]
  },
  {
   "cell_type": "markdown",
   "id": "d8bacceb-9630-423a-94d2-877b14a95ad8",
   "metadata": {
    "tags": []
   },
   "source": [
    "## Processing "
   ]
  },
  {
   "cell_type": "code",
   "execution_count": 11,
   "id": "479c7ead-0f68-4857-8863-4f6b1ea74832",
   "metadata": {
    "tags": []
   },
   "outputs": [],
   "source": [
    "# sort by times\n",
    "statusU = statusU.sort_values(by=\"times_utc\").reset_index()\n",
    "statusV = statusV.sort_values(by=\"times_utc\").reset_index()\n",
    "statusZ = statusZ.sort_values(by=\"times_utc\").reset_index()\n",
    "\n",
    "# create sub-frames\n",
    "statusZ_mod = statusZ[['times_utc','quality']]\n",
    "statusU_mod = statusU[['times_utc','quality']]\n",
    "statusV_mod = statusV[['times_utc','quality']]\n",
    "\n",
    "# remove NaN from times\n",
    "statusZ_mod = statusZ_mod.dropna(subset=\"times_utc\").reset_index()\n",
    "statusV_mod = statusV_mod.dropna(subset=\"times_utc\").reset_index()\n",
    "statusU_mod = statusU_mod.dropna(subset=\"times_utc\").reset_index()\n",
    "\n",
    "# make times all to string objects\n",
    "statusZ_mod['times_utc'] = statusZ_mod.times_utc.astype(str)\n",
    "statusU_mod['times_utc'] = statusU_mod.times_utc.astype(str)\n",
    "statusV_mod['times_utc'] = statusV_mod.times_utc.astype(str)"
   ]
  },
  {
   "cell_type": "code",
   "execution_count": 12,
   "id": "a982ed93-91f7-460a-87b6-55ef610d213b",
   "metadata": {
    "tags": []
   },
   "outputs": [],
   "source": [
    "# create new frame with all rings and their quality\n",
    "df_new = statusZ_mod.copy()\n",
    "df_new = df_new.merge(statusU_mod, how=\"outer\", on=[\"times_utc\"])\n",
    "df_new = df_new.merge(statusV_mod, how=\"outer\", on=[\"times_utc\"])\n",
    "\n",
    "# drop irrelevant columns\n",
    "df_new.drop(columns=[\"index_x\", \"index_y\", \"index\"], inplace=True)\n",
    "\n",
    "# renaming\n",
    "df_new.rename(columns={\"quality_x\":\"RZ\", \"quality_y\":\"RU\", \"quality\":\"RV\"}, inplace=True)\n",
    "\n",
    "# add relative times\n",
    "ref_time = df_new.times_utc.iloc[0]\n",
    "df_new['times_utc_sec'] = np.array([abs(obs.UTCDateTime(ref_time) - obs.UTCDateTime(_t) +30) for _t in df_new.times_utc])\n",
    "\n",
    "# add RW column\n",
    "df_new['RW'] = np.ones(df_new.shape[0])*np.nan\n",
    "\n",
    "# sort all by time\n",
    "df_new.sort_values(by=\"times_utc\", inplace=True)"
   ]
  },
  {
   "cell_type": "markdown",
   "id": "b954d971-9c7a-40b2-8044-18e366f1192e",
   "metadata": {},
   "source": [
    "### Compute Percentages"
   ]
  },
  {
   "cell_type": "code",
   "execution_count": 13,
   "id": "970d0c93-cd9e-4e3c-a53f-d6d8df8a8332",
   "metadata": {
    "tags": []
   },
   "outputs": [
    {
     "data": {
      "text/html": [
       "<div>\n",
       "<style scoped>\n",
       "    .dataframe tbody tr th:only-of-type {\n",
       "        vertical-align: middle;\n",
       "    }\n",
       "\n",
       "    .dataframe tbody tr th {\n",
       "        vertical-align: top;\n",
       "    }\n",
       "\n",
       "    .dataframe thead th {\n",
       "        text-align: right;\n",
       "    }\n",
       "</style>\n",
       "<table border=\"1\" class=\"dataframe\">\n",
       "  <thead>\n",
       "    <tr style=\"text-align: right;\">\n",
       "      <th></th>\n",
       "      <th>ring</th>\n",
       "      <th>R_0</th>\n",
       "      <th>R_1</th>\n",
       "      <th>R_nan</th>\n",
       "      <th>R_N</th>\n",
       "      <th>R_0_p</th>\n",
       "      <th>R_1_p</th>\n",
       "      <th>R_nan_p</th>\n",
       "    </tr>\n",
       "  </thead>\n",
       "  <tbody>\n",
       "    <tr>\n",
       "      <th>0</th>\n",
       "      <td>RZ</td>\n",
       "      <td>41191</td>\n",
       "      <td>357009</td>\n",
       "      <td>4843</td>\n",
       "      <td>403043</td>\n",
       "      <td>10.22</td>\n",
       "      <td>88.58</td>\n",
       "      <td>1.20</td>\n",
       "    </tr>\n",
       "    <tr>\n",
       "      <th>1</th>\n",
       "      <td>RU</td>\n",
       "      <td>33007</td>\n",
       "      <td>345980</td>\n",
       "      <td>24056</td>\n",
       "      <td>403043</td>\n",
       "      <td>8.19</td>\n",
       "      <td>85.84</td>\n",
       "      <td>5.97</td>\n",
       "    </tr>\n",
       "    <tr>\n",
       "      <th>2</th>\n",
       "      <td>RV</td>\n",
       "      <td>69006</td>\n",
       "      <td>328474</td>\n",
       "      <td>5563</td>\n",
       "      <td>403043</td>\n",
       "      <td>17.12</td>\n",
       "      <td>81.50</td>\n",
       "      <td>1.38</td>\n",
       "    </tr>\n",
       "    <tr>\n",
       "      <th>3</th>\n",
       "      <td>RW</td>\n",
       "      <td>0</td>\n",
       "      <td>0</td>\n",
       "      <td>403043</td>\n",
       "      <td>403043</td>\n",
       "      <td>0.00</td>\n",
       "      <td>0.00</td>\n",
       "      <td>100.00</td>\n",
       "    </tr>\n",
       "  </tbody>\n",
       "</table>\n",
       "</div>"
      ],
      "text/plain": [
       "  ring    R_0     R_1   R_nan     R_N  R_0_p  R_1_p  R_nan_p\n",
       "0   RZ  41191  357009    4843  403043  10.22  88.58     1.20\n",
       "1   RU  33007  345980   24056  403043   8.19  85.84     5.97\n",
       "2   RV  69006  328474    5563  403043  17.12  81.50     1.38\n",
       "3   RW      0       0  403043  403043   0.00   0.00   100.00"
      ]
     },
     "execution_count": 13,
     "metadata": {},
     "output_type": "execute_result"
    }
   ],
   "source": [
    "df_stats = DataFrame(columns=[\"ring\", \"R_0\", \"R_1\", \"R_nan\", \"R_N\", \"R_0_p\", \"R_1_p\", \"R_nan_p\"])\n",
    "\n",
    "rings = ['RZ', 'RU', 'RV', 'RW']\n",
    "\n",
    "R_0, R_1, R_nan = np.zeros(len(rings)), np.zeros(len(rings)), np.zeros(len(rings))\n",
    "for _n, k in enumerate(rings):\n",
    "\n",
    "    R_0 = df_new[k][df_new[k] == 0].size\n",
    "    R_1 = df_new[k][df_new[k] == 1].size\n",
    "    R_nan = df_new[k][df_new[k].isnull()].size\n",
    "    R_N = df_new[k].size\n",
    "\n",
    "    R_0_p = round(R_0/R_N*100, 2)\n",
    "    R_1_p = round(R_1/R_N*100, 2)\n",
    "    R_nan_p = round(R_nan/R_N*100, 2)\n",
    "\n",
    "    df_stats.loc[len(df_stats)] = [k, R_0, R_1, R_nan, R_N, R_0_p, R_1_p, R_nan_p]\n",
    "\n",
    "df_stats"
   ]
  },
  {
   "cell_type": "markdown",
   "id": "dbc3305d-a78e-44b9-95ee-3ea06c32c612",
   "metadata": {},
   "source": [
    "### Load LXX maintenance"
   ]
  },
  {
   "cell_type": "code",
   "execution_count": 14,
   "id": "59e5db04-d270-4178-badf-be7ffaf3f5a9",
   "metadata": {},
   "outputs": [],
   "source": [
    "lxx = __load_lxx(config['tbeg'], config['tend'], archive_path)\n",
    "\n",
    "lxx_t1, lxx_t2 = __get_lxx_intervals(lxx.datetime)\n"
   ]
  },
  {
   "cell_type": "code",
   "execution_count": 15,
   "id": "ec34622b-3388-43ee-a3bb-50558eab5504",
   "metadata": {
    "tags": []
   },
   "outputs": [],
   "source": [
    "dflxx = DataFrame()\n",
    "dflxx['t1'] = lxx_t1\n",
    "dflxx['t2'] = lxx_t2\n",
    "\n",
    "dflxx.to_pickle(opath+f\"performance_lxx_{config['tbeg'].date}_{config['tend'].date}.pkl\")"
   ]
  },
  {
   "cell_type": "markdown",
   "id": "70f8b30e-7f5c-493d-b2ec-6dca07d3c27d",
   "metadata": {},
   "source": [
    "## Load MLTI times"
   ]
  },
  {
   "cell_type": "code",
   "execution_count": 16,
   "id": "49b56d52-4ecc-4f66-a6f3-e66509a82d80",
   "metadata": {},
   "outputs": [],
   "source": [
    "mltiU = __load_mlti(config['tbeg'], config['tend'], \"U\", archive_path)\n",
    "\n",
    "mltiV = __load_mlti(config['tbeg'], config['tend'], \"V\", archive_path)\n",
    "\n",
    "mltiZ = __load_mlti(config['tbeg'], config['tend'], \"Z\", archive_path)\n"
   ]
  },
  {
   "cell_type": "code",
   "execution_count": 17,
   "id": "afa6efda-482a-4283-8953-e6079baeda3f",
   "metadata": {
    "tags": []
   },
   "outputs": [],
   "source": [
    "mltiU.to_pickle(opath+f\"performance_mltiU_{config['tbeg'].date}_{config['tend'].date}.pkl\")\n",
    "mltiV.to_pickle(opath+f\"performance_mltiV_{config['tbeg'].date}_{config['tend'].date}.pkl\")\n",
    "mltiZ.to_pickle(opath+f\"performance_mltiZ_{config['tbeg'].date}_{config['tend'].date}.pkl\")"
   ]
  },
  {
   "cell_type": "code",
   "execution_count": 18,
   "id": "b38ab3a0-2790-4bba-9e9c-0253f24cc4c0",
   "metadata": {},
   "outputs": [
    {
     "name": "stdout",
     "output_type": "stream",
     "text": [
      " U ...\n",
      " V ...\n",
      " Z ...\n"
     ]
    }
   ],
   "source": [
    "interval = True\n",
    "\n",
    "mltistats = {}\n",
    "\n",
    "print(\" U ...\")\n",
    "mltistats[\"U\"] = __get_mlti_statistics(mltiU, config['tbeg'], config['tend'],\n",
    "                                       intervals=interval, plot=False, ylog=False\n",
    "                                      )\n",
    "\n",
    "print(\" V ...\")\n",
    "mltistats[\"V\"] = __get_mlti_statistics(mltiV, config['tbeg'], config['tend'],\n",
    "                                       intervals=interval, plot=False, ylog=False\n",
    "                                      )\n",
    "\n",
    "print(\" Z ...\")\n",
    "mltistats[\"Z\"] = __get_mlti_statistics(mltiZ, config['tbeg'], config['tend'],\n",
    "                                       intervals=interval, plot=False, ylog=False\n",
    "                                      )\n"
   ]
  },
  {
   "cell_type": "code",
   "execution_count": null,
   "id": "6fed6fbb-cf40-4892-8ce6-5b7bd885ae08",
   "metadata": {
    "tags": []
   },
   "outputs": [],
   "source": [
    "__store_as_pickle(mltistats, opath+f\"performance_mltistasts_{config['tbeg'].date}_{config['tend'].date}.pkl\")"
   ]
  },
  {
   "cell_type": "code",
   "execution_count": null,
   "id": "e1442613-961a-4092-a270-bc41dbfc2265",
   "metadata": {},
   "outputs": [],
   "source": [
    "def __makeplot_performance(data, ylog=False, sec=False):\n",
    "\n",
    "    from matplotlib.ticker import (MultipleLocator, AutoMinorLocator)\n",
    "\n",
    "    tscale = 1/86400\n",
    "\n",
    "    font = 12\n",
    "\n",
    "    fig, ax = plt.subplots(1, 3, figsize=(18, 5))\n",
    "\n",
    "    plt.subplots_adjust(wspace=0.2)\n",
    "\n",
    "    colors = {\"Z\":\"tab:blue\", \"U\":\"tab:green\", \"V\":\"tab:red\"}\n",
    "\n",
    "    s_max = []\n",
    "    for r in data.keys():\n",
    "        s_max.append(max(data[r][\"cumsumsec\"]))\n",
    "    s_max = max(s_max)\n",
    "\n",
    "    if s_max > 3600:\n",
    "        sscale, sunit = 1/60, \"min\"\n",
    "    elif s_max > 86400:\n",
    "        sscale, sunit = 1/3600, \"hour\"\n",
    "    else:\n",
    "        sscale, sunit = 1, \"s\"\n",
    "\n",
    "    _datainter, _cols, _lbls = [], [], []\n",
    "\n",
    "    offset = [-0.3, 0, 0.3]\n",
    "    for _i, r in enumerate(data.keys()):\n",
    "\n",
    "        n = data[r][\"cumsum\"][-1].astype(int)\n",
    "\n",
    "        if sec:\n",
    "            ax[0].plot(data[r][\"tsec\"]*tscale, data[r][\"cumsumsec\"]*sscale, label=f\"R{r} (N={n})\", color=colors[r], zorder=3)\n",
    "            ax[0].set_ylim(0, s_max*sscale)\n",
    "            ax[0].set_ylabel(f\"MLTI time ({sunit})\", fontsize=font)\n",
    "        else:\n",
    "            ax[0].plot(data[r][\"tsec\"]*tscale, data[r][\"cumsump\"], label=f\"R{r} (N={n})\", color=colors[r], zorder=3)\n",
    "            ax[0].set_ylim(0, 102)\n",
    "            ax[0].set_ylabel(\"MLTI Count (%)\", fontsize=font)\n",
    "\n",
    "        imax = round(max(data[r][\"intersec\"]/3600), 1)\n",
    "        h, b = np.histogram(data[r][\"intersec\"]/3600, bins=int(24/1), range=(0, 24), density=True)\n",
    "        bins = b[:-1] + b[1]/2 + offset[_i]\n",
    "\n",
    "        ax[1].bar(bins, h*np.nan, width=0.3, color=colors[r], label=f\"R{r} (max={imax} hours)\",\n",
    "                  edgecolor=\"k\", linewidth=1, alpha=0.5)\n",
    "\n",
    "        _datainter.append(data[r][\"intersec\"]/3600)\n",
    "        _cols.append(colors[r])\n",
    "        _lbls.append(f\"R{r} (max={imax} hours)\")\n",
    "\n",
    "        # datainter = data[r][\"intersec\"][data[r][\"intersec\"] > 3600] / 3600\n",
    "        # sns.kdeplot(datainter, ax=ax[1], color=colors[r], log_scale=True)\n",
    "\n",
    "    sns.histplot(_datainter, ax=ax[1], palette=_cols, log_scale=True,\n",
    "                 kde=True, fill=True, multiple='dodge')\n",
    "    # sns.histplot(_datainter, ax=ax[1], palette=_cols, log_scale=False,\n",
    "    #              kde=True, binwidth=5, binrange=(0.1, 96), fill=True, multiple='dodge')\n",
    "\n",
    "    # if ylog:\n",
    "        # ax[1].set_yscale(\"log\")\n",
    "\n",
    "    ax[0].set_xlim(0-0.5, max(data[r][\"tsec\"]*tscale)+0.5)\n",
    "    ax[1].set_xlim(left=1/60)\n",
    "\n",
    "    ax[0].legend(loc=4)\n",
    "    ax[1].legend(loc=1)\n",
    "\n",
    "    ax[0].grid(color=\"grey\", ls=\"--\", alpha=0.4)\n",
    "    ax[1].grid(color=\"grey\", ls=\"--\", alpha=0.4)\n",
    "\n",
    "    ax[0].set_xlabel(f\"Time (days) from {config['tbeg'].date}\", fontsize=12)\n",
    "\n",
    "    ax[1].set_xlabel(\"Inter-MLTI-Time (hours)\", fontsize=font)\n",
    "    ax[1].set_ylabel(\"MLTI Count\", fontsize=font)\n",
    "\n",
    "    majors = len(ax[0].get_xticks())\n",
    "    ax[0].xaxis.set_major_locator(MultipleLocator(10))\n",
    "    ax[0].xaxis.set_minor_locator(MultipleLocator(5))\n",
    "    # ax[1].xaxis.set_major_locator(MultipleLocator(4))\n",
    "    # ax[1].xaxis.set_minor_locator(MultipleLocator(1))\n",
    "\n",
    "    barWidth = 0.85\n",
    "    r = range(df_stats.ring.size)\n",
    "\n",
    "\n",
    "    ax[2].bar(r, df_stats.R_1_p,\n",
    "            color='green', edgecolor='k', width=barWidth, label=\"Good Quality\")\n",
    "\n",
    "    ax[2].bar(r, df_stats.R_0_p, bottom=df_stats.R_1_p,\n",
    "            color='darkred', edgecolor='k', width=barWidth, label=\"Bad Quality\")\n",
    "\n",
    "    ax[2].bar(r, df_stats.R_nan_p, bottom=[i+j for i,j in zip(df_stats.R_0_p, df_stats.R_1_p)],\n",
    "            color='white', edgecolor='k', width=barWidth, label=\"N/A\")\n",
    "\n",
    "    ax[2].set_xticks(r, df_stats.ring, fontsize=font)\n",
    "\n",
    "    ax[2].legend(loc='upper left', bbox_to_anchor=(-0.0, 1.1), ncol=3)\n",
    "\n",
    "    # ax[2].set_title(f\"Quality Statistics [ {config['tbeg'].date} - {config['tend'].date} ]\", pad=35)\n",
    "\n",
    "    vals = ax[2].get_yticks()\n",
    "    ax[2].set_yticklabels([f'{int(x)}%' for x in vals], fontsize=font-2)\n",
    "\n",
    "    ax[2].spines['top'].set_visible(False)\n",
    "    ax[2].spines['right'].set_visible(False)\n",
    "\n",
    "    for c in ax[2].containers:\n",
    "\n",
    "        # Optional: if the segment is small or 0, customize the labels\n",
    "        labels = [round(v.get_height(), 2) if v.get_height() > 0 else '' for v in c]\n",
    "\n",
    "        # pads = [5 if v.get_height() > 10 else 0 for v  in c]\n",
    "\n",
    "        # remove the labels parameter if it's not needed for customized labels\n",
    "        plt.bar_label(c, labels=labels, label_type='center', padding=0, alpha=0.8)\n",
    "\n",
    "\n",
    "    for _k, ll in enumerate(['(a)', '(b)', '(c)']):\n",
    "        ax[_k].text(-.08, 1.07, ll, ha='left', va='top', transform=ax[_k].transAxes, fontsize=14)\n",
    "\n",
    "    # add maintenance times\n",
    "    for lx1, lx2 in zip(lxx_t1, lxx_t2):\n",
    "        lx1_sec = (lx1-UTCDateTime(config['tbeg']))*tscale\n",
    "        lx2_sec = (lx2-UTCDateTime(config['tbeg']))*tscale\n",
    "        ax[0].fill_betweenx([-10000, 10000], lx1_sec, lx2_sec, color=\"yellow\", alpha=0.7)\n",
    "\n",
    "\n",
    "    plt.show();\n",
    "    return fig"
   ]
  },
  {
   "cell_type": "code",
   "execution_count": null,
   "id": "331a752a-87b5-4af8-a2c7-bb4e292b3c28",
   "metadata": {},
   "outputs": [],
   "source": [
    "fig = __makeplot_performance(mltistats, ylog=True, sec=False)"
   ]
  },
  {
   "cell_type": "code",
   "execution_count": null,
   "id": "1398675a-c777-4a0e-bd03-093c6110cf17",
   "metadata": {},
   "outputs": [],
   "source": [
    "if interval:\n",
    "    fig.savefig(config['path_to_figures']+f\"QS_Performance_interval_{config['tbeg'].date}_{config['tend'].date}.png\", format=\"png\", dpi=150, bbox_inches='tight')\n",
    "else:\n",
    "    fig.savefig(config['path_to_figures']+f\"QS_Performance_{config['tbeg'].date}_{config['tend'].date}.png\", format=\"png\", dpi=150, bbox_inches='tight')\n",
    "\n",
    "del fig"
   ]
  },
  {
   "cell_type": "code",
   "execution_count": null,
   "id": "b5c0d2bf-22a2-4405-a2ba-3cebbbbcbf10",
   "metadata": {
    "tags": []
   },
   "outputs": [],
   "source": [
    "def __makeplot_performance2(data, ylog=False, sec=False):\n",
    "\n",
    "    from matplotlib.ticker import (MultipleLocator, AutoMinorLocator)\n",
    "\n",
    "    tscale = 1/86400\n",
    "\n",
    "    font = 12\n",
    "\n",
    "    fig, ax = plt.subplots(3, 1, figsize=(5, 18))\n",
    "\n",
    "    plt.subplots_adjust(wspace=0.2)\n",
    "\n",
    "    colors = {\"Z\":\"tab:blue\", \"U\":\"tab:green\", \"V\":\"tab:red\"}\n",
    "\n",
    "    s_max = []\n",
    "    for r in data.keys():\n",
    "        s_max.append(max(data[r][\"cumsumsec\"]))\n",
    "    s_max = max(s_max)\n",
    "\n",
    "    if s_max > 3600:\n",
    "        sscale, sunit = 1/60, \"min\"\n",
    "    elif s_max > 86400:\n",
    "        sscale, sunit = 1/3600, \"hour\"\n",
    "    else:\n",
    "        sscale, sunit = 1, \"s\"\n",
    "\n",
    "    _datainter, _cols, _lbls = [], [], []\n",
    "\n",
    "    offset = [-0.3, 0, 0.3]\n",
    "    for _i, r in enumerate(data.keys()):\n",
    "\n",
    "        n = data[r][\"cumsum\"][-1].astype(int)\n",
    "\n",
    "        if sec:\n",
    "            ax[0].plot(data[r][\"tsec\"]*tscale, data[r][\"cumsumsec\"]*sscale, label=f\"R{r} (N={n})\", color=colors[r], zorder=3)\n",
    "            ax[0].set_ylim(0, s_max*sscale)\n",
    "            ax[0].set_ylabel(f\"MLTI time ({sunit})\", fontsize=font)\n",
    "        else:\n",
    "            ax[0].plot(data[r][\"tsec\"]*tscale, data[r][\"cumsump\"], label=f\"R{r} (N={n})\", color=colors[r], zorder=3)\n",
    "            ax[0].set_ylim(0, 102)\n",
    "            ax[0].set_ylabel(\"MLTI Count (%)\", fontsize=font)\n",
    "\n",
    "        imax = round(max(data[r][\"intersec\"]/3600), 1)\n",
    "        h, b = np.histogram(data[r][\"intersec\"]/3600, bins=int(24/1), range=(0, 24), density=True)\n",
    "        bins = b[:-1] + b[1]/2 + offset[_i]\n",
    "\n",
    "        ax[1].bar(bins, h*np.nan, width=0.3, color=colors[r], label=f\"R{r} (max={imax} hours)\",\n",
    "                  edgecolor=\"k\", linewidth=1, alpha=0.5)\n",
    "\n",
    "        _datainter.append(data[r][\"intersec\"]/3600)\n",
    "        _cols.append(colors[r])\n",
    "        _lbls.append(f\"R{r} (max={imax} hours)\")\n",
    "\n",
    "        # datainter = data[r][\"intersec\"][data[r][\"intersec\"] > 3600] / 3600\n",
    "        # sns.kdeplot(datainter, ax=ax[1], color=colors[r], log_scale=True)\n",
    "\n",
    "    sns.histplot(_datainter, ax=ax[1], palette=_cols, log_scale=True,\n",
    "                 kde=True, fill=True, multiple='dodge')\n",
    "    # sns.histplot(_datainter, ax=ax[1], palette=_cols, log_scale=False,\n",
    "    #              kde=True, binwidth=5, binrange=(0.1, 96), fill=True, multiple='dodge')\n",
    "\n",
    "    # if ylog:\n",
    "        # ax[1].set_yscale(\"log\")\n",
    "\n",
    "    ax[0].set_xlim(0-0.5, max(data[r][\"tsec\"]*tscale)+0.5)\n",
    "    ax[1].set_xlim(left=1/60)\n",
    "\n",
    "    ax[0].legend(loc=4)\n",
    "    ax[1].legend(loc=1)\n",
    "\n",
    "    ax[0].grid(color=\"grey\", ls=\"--\", alpha=0.4)\n",
    "    ax[1].grid(color=\"grey\", ls=\"--\", alpha=0.4)\n",
    "\n",
    "    ax[0].set_xlabel(f\"Time (days) from {config['tbeg'].date}\", fontsize=12)\n",
    "\n",
    "    ax[1].set_xlabel(\"Inter-MLTI-Time (hours)\", fontsize=font)\n",
    "    ax[1].set_ylabel(\"MLTI Count\", fontsize=font)\n",
    "\n",
    "    majors = len(ax[0].get_xticks())\n",
    "    ax[0].xaxis.set_major_locator(MultipleLocator(10))\n",
    "    ax[0].xaxis.set_minor_locator(MultipleLocator(5))\n",
    "    # ax[1].xaxis.set_major_locator(MultipleLocator(4))\n",
    "    # ax[1].xaxis.set_minor_locator(MultipleLocator(1))\n",
    "\n",
    "    barWidth = 0.85\n",
    "    r = range(df_stats.ring.size)\n",
    "\n",
    "    ax[2].bar(r, df_stats.R_1_p,\n",
    "            color='green', edgecolor='k', width=barWidth, label=\"Good Quality\")\n",
    "\n",
    "    ax[2].bar(r, df_stats.R_0_p, bottom=df_stats.R_1_p,\n",
    "            color='darkred', edgecolor='k', width=barWidth, label=\"Bad Quality\")\n",
    "\n",
    "    ax[2].bar(r, df_stats.R_nan_p, bottom=[i+j for i,j in zip(df_stats.R_0_p, df_stats.R_1_p)],\n",
    "            color='white', edgecolor='k', width=barWidth, label=\"Downtime\")\n",
    "\n",
    "    ax[2].set_xticks(r, df_stats.ring, fontsize=font)\n",
    "\n",
    "    ax[2].legend(loc='upper left', bbox_to_anchor=(-0.0, -0.05), ncol=3)\n",
    "\n",
    "    # ax[2].set_title(f\"Quality Statistics [ {config['tbeg'].date} - {config['tend'].date} ]\", pad=35)\n",
    "\n",
    "    vals = ax[2].get_yticks()\n",
    "    ax[2].set_yticklabels([f'{int(x)}%' for x in vals], fontsize=font-2)\n",
    "\n",
    "    ax[2].spines['top'].set_visible(False)\n",
    "    ax[2].spines['right'].set_visible(False)\n",
    "\n",
    "    for c in ax[2].containers:\n",
    "\n",
    "        # Optional: if the segment is small or 0, customize the labels\n",
    "        labels = [round(v.get_height(), 2) if v.get_height() > 0 else '' for v in c]\n",
    "\n",
    "        # pads = [5 if v.get_height() > 10 else 0 for v  in c]\n",
    "\n",
    "        # remove the labels parameter if it's not needed for customized labels\n",
    "        plt.bar_label(c, labels=labels, label_type='center', padding=0, alpha=0.8)\n",
    "\n",
    "    for _k, ll in enumerate(['(a)', '(b)', '(c)']):\n",
    "        ax[_k].text(-.08, 1.07, ll, ha='left', va='top', transform=ax[_k].transAxes, fontsize=14)\n",
    "\n",
    "    # add maintenance times\n",
    "    for lx1, lx2 in zip(lxx_t1, lxx_t2):\n",
    "        lx1_sec = (lx1-UTCDateTime(config['tbeg']))*tscale\n",
    "        lx2_sec = (lx2-UTCDateTime(config['tbeg']))*tscale\n",
    "        ax[0].fill_betweenx([-10000, 10000], lx1_sec, lx2_sec, color=\"yellow\", alpha=0.7)\n",
    "\n",
    "    plt.show();\n",
    "    return fig"
   ]
  },
  {
   "cell_type": "code",
   "execution_count": null,
   "id": "4c99d72b-396d-4be7-b3d6-f99d9d9d6273",
   "metadata": {
    "tags": []
   },
   "outputs": [],
   "source": [
    "fig = __makeplot_performance(mltistats, ylog=True, sec=False)"
   ]
  },
  {
   "cell_type": "code",
   "execution_count": null,
   "id": "4e0e1bb6-cf58-4300-ac5d-9db30b60028b",
   "metadata": {
    "tags": []
   },
   "outputs": [],
   "source": [
    "if interval:\n",
    "    fig.savefig(config['path_to_figures']+f\"QS_Performance_interval_{config['tbeg'].date}_{config['tend'].date}_2.png\", format=\"png\", dpi=150, bbox_inches='tight')\n",
    "else:\n",
    "    fig.savefig(config['path_to_figures']+f\"QS_Performance_{config['tbeg'].date}_{config['tend'].date}_2.png\", format=\"png\", dpi=150, bbox_inches='tight')\n",
    "\n",
    "del fig"
   ]
  },
  {
   "cell_type": "markdown",
   "id": "d4c8555e-594b-41c2-800d-1d0846e9824f",
   "metadata": {},
   "source": [
    "## Other Plots"
   ]
  },
  {
   "cell_type": "code",
   "execution_count": null,
   "id": "510de7c5-8f86-40d9-820d-a382f4d9e5ca",
   "metadata": {},
   "outputs": [],
   "source": [
    "from functions.smoothing import __smooth\n",
    "\n",
    "mltistats[\"U\"][\"mlti_series_avg\"] = __smooth(mltistats[\"U\"][\"mlti_series\"], 86400)\n",
    "mltistats[\"V\"][\"mlti_series_avg\"] = __smooth(mltistats[\"V\"][\"mlti_series\"], 86400)\n",
    "mltistats[\"Z\"][\"mlti_series_avg\"] = __smooth(mltistats[\"Z\"][\"mlti_series\"], 86400)"
   ]
  },
  {
   "cell_type": "code",
   "execution_count": null,
   "id": "b82fdfa1-f571-45b2-ad11-9dee61d9d795",
   "metadata": {},
   "outputs": [],
   "source": [
    "tscale = 1/86400\n",
    "\n",
    "plt.plot(mltistats[\"U\"][\"tsec\"]*tscale, mltistats[\"U\"][\"mlti_series_avg\"], alpha=0.5)\n",
    "plt.plot(mltistats[\"V\"][\"tsec\"]*tscale, mltistats[\"V\"][\"mlti_series_avg\"], alpha=0.5)\n",
    "plt.plot(mltistats[\"Z\"][\"tsec\"]*tscale, mltistats[\"Z\"][\"mlti_series_avg\"], alpha=0.5)\n",
    "\n",
    "plt.fill_between(mltistats[\"U\"][\"tsec\"]*tscale, mltistats[\"U\"][\"mlti_series_avg\"], alpha=0.3)\n",
    "plt.fill_between(mltistats[\"V\"][\"tsec\"]*tscale, mltistats[\"V\"][\"mlti_series_avg\"], alpha=0.3)\n",
    "plt.fill_between(mltistats[\"Z\"][\"tsec\"]*tscale, mltistats[\"Z\"][\"mlti_series_avg\"], alpha=0.3)"
   ]
  },
  {
   "cell_type": "code",
   "execution_count": null,
   "id": "c193f999-840e-4065-bafc-67b3524af716",
   "metadata": {},
   "outputs": [],
   "source": []
  },
  {
   "cell_type": "code",
   "execution_count": null,
   "id": "11014e5a-150a-40ae-8979-0d81596fdd59",
   "metadata": {},
   "outputs": [],
   "source": []
  }
 ],
 "metadata": {
  "kernelspec": {
   "display_name": "Python 3 (ipykernel)",
   "language": "python",
   "name": "python3"
  },
  "language_info": {
   "codemirror_mode": {
    "name": "ipython",
    "version": 3
   },
   "file_extension": ".py",
   "mimetype": "text/x-python",
   "name": "python",
   "nbconvert_exporter": "python",
   "pygments_lexer": "ipython3",
   "version": "3.10.12"
  }
 },
 "nbformat": 4,
 "nbformat_minor": 5
}
