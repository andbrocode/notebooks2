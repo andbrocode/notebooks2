{
 "cells": [
  {
   "cell_type": "markdown",
   "id": "e9da90cb-d480-4f01-9115-0ba22d9b2c6a",
   "metadata": {
    "tags": []
   },
   "source": [
    "# ROMY Status File"
   ]
  },
  {
   "cell_type": "code",
   "execution_count": 2,
   "id": "5e8ef5e0-37dc-4a1c-a603-49b53fb31dea",
   "metadata": {
    "tags": []
   },
   "outputs": [],
   "source": [
    "import os\n",
    "import sys\n",
    "import numpy as np\n",
    "import matplotlib.pyplot as plt\n",
    "import obspy as obs\n",
    "import matplotlib.colors\n",
    "\n",
    "from pandas import DataFrame, merge\n",
    "from andbro__save_to_pickle import __save_to_pickle"
   ]
  },
  {
   "cell_type": "code",
   "execution_count": 3,
   "id": "e5e75ac2-dabd-4e5a-b663-7d9581266689",
   "metadata": {
    "tags": []
   },
   "outputs": [],
   "source": [
    "if os.uname().nodename == 'lighthouse':\n",
    "    root_path = '/home/andbro/'\n",
    "    data_path = '/home/andbro/kilauea-data/'\n",
    "    archive_path = '/home/andbro/freenas/'\n",
    "    bay_path = '/home/andbro/bay200/'\n",
    "elif os.uname().nodename == 'kilauea':\n",
    "    root_path = '/home/brotzer/'\n",
    "    data_path = '/import/kilauea-data/'\n",
    "    archive_path = '/import/freenas-ffb-01-data/'\n",
    "    bay_path = '/bay200/'\n",
    "elif os.uname().nodename == 'lin-ffb-01':\n",
    "    root_path = '/home/brotzer/'\n",
    "    data_path = '/import/kilauea-data/'\n",
    "    archive_path = '/import/freenas-ffb-01-data/'\n",
    "    bay_path = '/bay200/'"
   ]
  },
  {
   "cell_type": "code",
   "execution_count": 4,
   "id": "d47128f1-31a4-4301-beba-6d2b61152191",
   "metadata": {
    "tags": []
   },
   "outputs": [],
   "source": [
    "from functions.load_beat import __load_beat\n",
    "from functions.load_mlti import __load_mlti\n",
    "from functions.get_mlti_intervals import __get_mlti_intervals"
   ]
  },
  {
   "cell_type": "markdown",
   "id": "4e4bf4dd-b2be-45fc-86fe-ce806f4ace1c",
   "metadata": {
    "tags": []
   },
   "source": [
    "## Configurations"
   ]
  },
  {
   "cell_type": "code",
   "execution_count": 5,
   "id": "bbfcde63-9c9b-426c-a2f3-0e80dc2daa8b",
   "metadata": {
    "tags": []
   },
   "outputs": [],
   "source": [
    "config = {}\n",
    "\n",
    "\n",
    "config['tbeg'] = obs.UTCDateTime(\"2024-02-01\")\n",
    "config['tend'] = obs.UTCDateTime(\"2024-02-29\")\n",
    "\n",
    "config['tbeg'] = obs.UTCDateTime(\"2024-02-01\")\n",
    "config['tend'] = obs.UTCDateTime(\"2024-07-01\")\n",
    "\n",
    "config['ring'] = \"U\"\n",
    "\n",
    "config['path_to_figures'] = data_path+f\"quality_status/figures/\"\n",
    "\n",
    "config['path_to_data'] = archive_path+f\"temp_archive/\"\n"
   ]
  },
  {
   "cell_type": "markdown",
   "id": "a47ab63a-345f-43b9-835c-0d71ad732018",
   "metadata": {},
   "source": [
    "### Load Status Data"
   ]
  },
  {
   "cell_type": "code",
   "execution_count": 6,
   "id": "05d736e5-4d0d-403e-9bf6-842a055d6183",
   "metadata": {
    "tags": []
   },
   "outputs": [],
   "source": [
    "from functions.load_status import __load_status"
   ]
  },
  {
   "cell_type": "code",
   "execution_count": 7,
   "id": "9f53b60f-7b24-4f06-938d-fdc09080e7bf",
   "metadata": {
    "tags": []
   },
   "outputs": [
    {
     "name": "stdout",
     "output_type": "stream",
     "text": [
      " -> no such file: 2024/BW/RU/RU_2024-05-19_status.pkl\n",
      " -> no such file: 2024/BW/RU/RU_2024-05-20_status.pkl\n",
      " -> no such file: 2024/BW/RU/RU_2024-05-21_status.pkl\n",
      " -> no such file: 2024/BW/RU/RU_2024-05-22_status.pkl\n",
      " -> no such file: 2024/BW/RU/RU_2024-05-23_status.pkl\n",
      " -> no such file: 2024/BW/RU/RU_2024-05-24_status.pkl\n",
      " -> no such file: 2024/BW/RU/RU_2024-05-25_status.pkl\n",
      " -> no such file: 2024/BW/RU/RU_2024-05-26_status.pkl\n",
      " -> no such file: 2024/BW/RU/RU_2024-05-27_status.pkl\n",
      " -> no such file: 2024/BW/RU/RU_2024-05-28_status.pkl\n",
      " -> no such file: 2024/BW/RU/RU_2024-05-29_status.pkl\n",
      " -> no such file: 2024/BW/RU/RU_2024-05-30_status.pkl\n",
      " -> no such file: 2024/BW/RU/RU_2024-05-31_status.pkl\n",
      " -> no such file: 2024/BW/RU/RU_2024-06-01_status.pkl\n",
      " -> no such file: 2024/BW/RU/RU_2024-06-02_status.pkl\n",
      " -> no such file: 2024/BW/RU/RU_2024-06-03_status.pkl\n",
      " -> no such file: 2024/BW/RU/RU_2024-06-04_status.pkl\n",
      " -> no such file: 2024/BW/RU/RU_2024-06-05_status.pkl\n",
      " -> no such file: 2024/BW/RU/RU_2024-06-06_status.pkl\n",
      " -> no such file: 2024/BW/RU/RU_2024-06-07_status.pkl\n",
      " -> no such file: 2024/BW/RU/RU_2024-06-08_status.pkl\n",
      " -> no such file: 2024/BW/RU/RU_2024-06-09_status.pkl\n",
      " -> no such file: 2024/BW/RU/RU_2024-06-10_status.pkl\n",
      " -> no such file: 2024/BW/RU/RU_2024-06-11_status.pkl\n",
      " -> no such file: 2024/BW/RU/RU_2024-06-12_status.pkl\n",
      " -> no such file: 2024/BW/RU/RU_2024-06-13_status.pkl\n",
      " -> no such file: 2024/BW/RU/RU_2024-06-14_status.pkl\n",
      " -> no such file: 2024/BW/RU/RU_2024-06-15_status.pkl\n",
      " -> no such file: 2024/BW/RU/RU_2024-06-16_status.pkl\n",
      " -> no such file: 2024/BW/RU/RU_2024-06-17_status.pkl\n",
      " -> no such file: 2024/BW/RU/RU_2024-06-18_status.pkl\n",
      " -> no such file: 2024/BW/RU/RU_2024-06-19_status.pkl\n",
      " -> no such file: 2024/BW/RU/RU_2024-06-20_status.pkl\n",
      " -> no such file: 2024/BW/RU/RU_2024-06-21_status.pkl\n",
      " -> no such file: 2024/BW/RU/RU_2024-06-22_status.pkl\n",
      " -> no such file: 2024/BW/RU/RU_2024-06-23_status.pkl\n",
      " -> no such file: 2024/BW/RU/RU_2024-06-24_status.pkl\n",
      " -> no such file: 2024/BW/RU/RU_2024-06-25_status.pkl\n",
      " -> no such file: 2024/BW/RU/RU_2024-06-26_status.pkl\n",
      " -> no such file: 2024/BW/RU/RU_2024-06-27_status.pkl\n",
      " -> no such file: 2024/BW/RU/RU_2024-06-28_status.pkl\n",
      " -> no such file: 2024/BW/RU/RU_2024-06-29_status.pkl\n",
      " -> no such file: 2024/BW/RU/RU_2024-06-30_status.pkl\n",
      " -> no such file: 2024/BW/RU/RU_2024-07-01_status.pkl\n"
     ]
    }
   ],
   "source": [
    "statusU = __load_status(config['tbeg'], config['tend'], \"U\", config['path_to_data'])"
   ]
  },
  {
   "cell_type": "code",
   "execution_count": 8,
   "id": "3ade8be5-5892-4ff7-944b-99196350b5c6",
   "metadata": {
    "tags": []
   },
   "outputs": [
    {
     "data": {
      "text/plain": [
       "148897"
      ]
     },
     "execution_count": 8,
     "metadata": {},
     "output_type": "execute_result"
    }
   ],
   "source": [
    "statusU[statusU.quality.eq(0)].size"
   ]
  },
  {
   "cell_type": "code",
   "execution_count": 9,
   "id": "92dc41c7-16da-4cf6-9f55-f91dd175c646",
   "metadata": {
    "tags": []
   },
   "outputs": [
    {
     "data": {
      "text/plain": [
       "896490"
      ]
     },
     "execution_count": 9,
     "metadata": {},
     "output_type": "execute_result"
    }
   ],
   "source": [
    "statusU[statusU.quality.eq(1)].size"
   ]
  },
  {
   "cell_type": "code",
   "execution_count": 10,
   "id": "0d0144a5-09a8-4d5d-b5b8-7e4afa7e1eeb",
   "metadata": {
    "tags": []
   },
   "outputs": [],
   "source": [
    "# statusU[statusU.times_utc > obs.UTCDateTime(\"2023-09-06 23:59\")]"
   ]
  },
  {
   "cell_type": "code",
   "execution_count": 11,
   "id": "3e81b702-8c12-455a-a7f3-c150e8901a35",
   "metadata": {
    "tags": []
   },
   "outputs": [
    {
     "name": "stdout",
     "output_type": "stream",
     "text": [
      " -> no such file: 2024/BW/RV/RV_2024-05-19_status.pkl\n",
      " -> no such file: 2024/BW/RV/RV_2024-05-20_status.pkl\n",
      " -> no such file: 2024/BW/RV/RV_2024-05-21_status.pkl\n",
      " -> no such file: 2024/BW/RV/RV_2024-05-22_status.pkl\n",
      " -> no such file: 2024/BW/RV/RV_2024-05-23_status.pkl\n",
      " -> no such file: 2024/BW/RV/RV_2024-05-24_status.pkl\n",
      " -> no such file: 2024/BW/RV/RV_2024-05-25_status.pkl\n",
      " -> no such file: 2024/BW/RV/RV_2024-05-26_status.pkl\n",
      " -> no such file: 2024/BW/RV/RV_2024-05-27_status.pkl\n",
      " -> no such file: 2024/BW/RV/RV_2024-05-28_status.pkl\n",
      " -> no such file: 2024/BW/RV/RV_2024-05-29_status.pkl\n",
      " -> no such file: 2024/BW/RV/RV_2024-05-30_status.pkl\n",
      " -> no such file: 2024/BW/RV/RV_2024-05-31_status.pkl\n",
      " -> no such file: 2024/BW/RV/RV_2024-06-01_status.pkl\n",
      " -> no such file: 2024/BW/RV/RV_2024-06-02_status.pkl\n",
      " -> no such file: 2024/BW/RV/RV_2024-06-03_status.pkl\n",
      " -> no such file: 2024/BW/RV/RV_2024-06-04_status.pkl\n",
      " -> no such file: 2024/BW/RV/RV_2024-06-05_status.pkl\n",
      " -> no such file: 2024/BW/RV/RV_2024-06-06_status.pkl\n",
      " -> no such file: 2024/BW/RV/RV_2024-06-07_status.pkl\n",
      " -> no such file: 2024/BW/RV/RV_2024-06-08_status.pkl\n",
      " -> no such file: 2024/BW/RV/RV_2024-06-09_status.pkl\n",
      " -> no such file: 2024/BW/RV/RV_2024-06-10_status.pkl\n",
      " -> no such file: 2024/BW/RV/RV_2024-06-11_status.pkl\n",
      " -> no such file: 2024/BW/RV/RV_2024-06-12_status.pkl\n",
      " -> no such file: 2024/BW/RV/RV_2024-06-13_status.pkl\n",
      " -> no such file: 2024/BW/RV/RV_2024-06-14_status.pkl\n",
      " -> no such file: 2024/BW/RV/RV_2024-06-15_status.pkl\n",
      " -> no such file: 2024/BW/RV/RV_2024-06-16_status.pkl\n",
      " -> no such file: 2024/BW/RV/RV_2024-06-17_status.pkl\n",
      " -> no such file: 2024/BW/RV/RV_2024-06-18_status.pkl\n",
      " -> no such file: 2024/BW/RV/RV_2024-06-19_status.pkl\n",
      " -> no such file: 2024/BW/RV/RV_2024-06-20_status.pkl\n",
      " -> no such file: 2024/BW/RV/RV_2024-06-21_status.pkl\n",
      " -> no such file: 2024/BW/RV/RV_2024-06-22_status.pkl\n",
      " -> no such file: 2024/BW/RV/RV_2024-06-23_status.pkl\n",
      " -> no such file: 2024/BW/RV/RV_2024-06-24_status.pkl\n",
      " -> no such file: 2024/BW/RV/RV_2024-06-25_status.pkl\n",
      " -> no such file: 2024/BW/RV/RV_2024-06-26_status.pkl\n",
      " -> no such file: 2024/BW/RV/RV_2024-06-27_status.pkl\n",
      " -> no such file: 2024/BW/RV/RV_2024-06-28_status.pkl\n",
      " -> no such file: 2024/BW/RV/RV_2024-06-29_status.pkl\n",
      " -> no such file: 2024/BW/RV/RV_2024-06-30_status.pkl\n",
      " -> no such file: 2024/BW/RV/RV_2024-07-01_status.pkl\n"
     ]
    }
   ],
   "source": [
    "statusV = __load_status(config['tbeg'], config['tend'], \"V\", config['path_to_data'])"
   ]
  },
  {
   "cell_type": "code",
   "execution_count": 12,
   "id": "9f5bc7d9-27ae-45c8-a125-4fee0c73ba31",
   "metadata": {
    "tags": []
   },
   "outputs": [
    {
     "name": "stdout",
     "output_type": "stream",
     "text": [
      " -> no such file: 2024/BW/RZ/RZ_2024-05-19_status.pkl\n",
      " -> no such file: 2024/BW/RZ/RZ_2024-05-20_status.pkl\n",
      " -> no such file: 2024/BW/RZ/RZ_2024-05-21_status.pkl\n",
      " -> no such file: 2024/BW/RZ/RZ_2024-05-22_status.pkl\n",
      " -> no such file: 2024/BW/RZ/RZ_2024-05-23_status.pkl\n",
      " -> no such file: 2024/BW/RZ/RZ_2024-05-24_status.pkl\n",
      " -> no such file: 2024/BW/RZ/RZ_2024-05-25_status.pkl\n",
      " -> no such file: 2024/BW/RZ/RZ_2024-05-26_status.pkl\n",
      " -> no such file: 2024/BW/RZ/RZ_2024-05-27_status.pkl\n",
      " -> no such file: 2024/BW/RZ/RZ_2024-05-28_status.pkl\n",
      " -> no such file: 2024/BW/RZ/RZ_2024-05-29_status.pkl\n",
      " -> no such file: 2024/BW/RZ/RZ_2024-05-30_status.pkl\n",
      " -> no such file: 2024/BW/RZ/RZ_2024-05-31_status.pkl\n",
      " -> no such file: 2024/BW/RZ/RZ_2024-06-01_status.pkl\n",
      " -> no such file: 2024/BW/RZ/RZ_2024-06-02_status.pkl\n",
      " -> no such file: 2024/BW/RZ/RZ_2024-06-03_status.pkl\n",
      " -> no such file: 2024/BW/RZ/RZ_2024-06-04_status.pkl\n",
      " -> no such file: 2024/BW/RZ/RZ_2024-06-05_status.pkl\n",
      " -> no such file: 2024/BW/RZ/RZ_2024-06-06_status.pkl\n",
      " -> no such file: 2024/BW/RZ/RZ_2024-06-07_status.pkl\n",
      " -> no such file: 2024/BW/RZ/RZ_2024-06-08_status.pkl\n",
      " -> no such file: 2024/BW/RZ/RZ_2024-06-09_status.pkl\n",
      " -> no such file: 2024/BW/RZ/RZ_2024-06-10_status.pkl\n",
      " -> no such file: 2024/BW/RZ/RZ_2024-06-11_status.pkl\n",
      " -> no such file: 2024/BW/RZ/RZ_2024-06-12_status.pkl\n",
      " -> no such file: 2024/BW/RZ/RZ_2024-06-13_status.pkl\n",
      " -> no such file: 2024/BW/RZ/RZ_2024-06-14_status.pkl\n",
      " -> no such file: 2024/BW/RZ/RZ_2024-06-15_status.pkl\n",
      " -> no such file: 2024/BW/RZ/RZ_2024-06-16_status.pkl\n",
      " -> no such file: 2024/BW/RZ/RZ_2024-06-17_status.pkl\n",
      " -> no such file: 2024/BW/RZ/RZ_2024-06-18_status.pkl\n",
      " -> no such file: 2024/BW/RZ/RZ_2024-06-19_status.pkl\n",
      " -> no such file: 2024/BW/RZ/RZ_2024-06-20_status.pkl\n",
      " -> no such file: 2024/BW/RZ/RZ_2024-06-21_status.pkl\n",
      " -> no such file: 2024/BW/RZ/RZ_2024-06-22_status.pkl\n",
      " -> no such file: 2024/BW/RZ/RZ_2024-06-23_status.pkl\n",
      " -> no such file: 2024/BW/RZ/RZ_2024-06-24_status.pkl\n",
      " -> no such file: 2024/BW/RZ/RZ_2024-06-25_status.pkl\n",
      " -> no such file: 2024/BW/RZ/RZ_2024-06-26_status.pkl\n",
      " -> no such file: 2024/BW/RZ/RZ_2024-06-27_status.pkl\n",
      " -> no such file: 2024/BW/RZ/RZ_2024-06-28_status.pkl\n",
      " -> no such file: 2024/BW/RZ/RZ_2024-06-29_status.pkl\n",
      " -> no such file: 2024/BW/RZ/RZ_2024-06-30_status.pkl\n",
      " -> no such file: 2024/BW/RZ/RZ_2024-07-01_status.pkl\n"
     ]
    }
   ],
   "source": [
    "statusZ = __load_status(config['tbeg'], config['tend'], \"Z\", config['path_to_data'])"
   ]
  },
  {
   "cell_type": "markdown",
   "id": "881e2179-430b-4668-bfda-42cdc2a34fd1",
   "metadata": {},
   "source": [
    "### Plotting"
   ]
  },
  {
   "cell_type": "code",
   "execution_count": 13,
   "id": "5b3569a6-0b5b-446b-9c73-969d5151170a",
   "metadata": {
    "tags": []
   },
   "outputs": [],
   "source": [
    "statusU = statusU.sort_values(by=\"times_utc\").reset_index()\n",
    "statusV = statusV.sort_values(by=\"times_utc\").reset_index()\n",
    "statusZ = statusZ.sort_values(by=\"times_utc\").reset_index()"
   ]
  },
  {
   "cell_type": "code",
   "execution_count": 14,
   "id": "29790e7a-a9e2-4ff7-b379-1a02c9f72fee",
   "metadata": {
    "tags": []
   },
   "outputs": [],
   "source": [
    "def __makelplot_single_status(df, ring):\n",
    "\n",
    "    names = [\"quality\", \"fsagnac\", \"mlti\", \"ac_threshold\", \"dc_threshold\"]\n",
    "    bars = np.ones(len(names))-0.5\n",
    "\n",
    "    arr = np.ones((len(names), df['quality'].size))\n",
    "\n",
    "    for _n, name in enumerate(names):\n",
    "        arr[_n] *= df[name]\n",
    "\n",
    "    time_scaling = 1\n",
    "\n",
    "    cmap = matplotlib.colors.ListedColormap(['darkred', 'green'])\n",
    "    cmap.set_bad(\"w\")\n",
    "\n",
    "    font = 12\n",
    "\n",
    "    fig, ax = plt.subplots(1, 1, figsize=(15, 4))\n",
    "\n",
    "    c = ax.pcolormesh(df.times_utc_sec*time_scaling, names, arr, cmap=cmap, rasterized=False, alpha=0.8)\n",
    "\n",
    "    for _k, bar in enumerate(bars):\n",
    "        ax.axhline(bar+_k, color=\"w\", alpha=0.8, lw=2)\n",
    "\n",
    "    # ax.set_xlabel(\"Time (days)\")\n",
    "\n",
    "    ax.set_title(f\"Quality Status of R{ring}\")\n",
    "\n",
    "    ref_date = df.times_utc.iloc[0]\n",
    "    tcks = ax.get_xticks()\n",
    "    tcklbls = [str((obs.UTCDateTime(ref_date)+t).date) for t in tcks]\n",
    "    ax.set_xticklabels(tcklbls)\n",
    "\n",
    "    ax.tick_params(axis='y', labelsize=font)\n",
    "\n",
    "    ax.spines['top'].set_visible(False)\n",
    "    ax.spines['right'].set_visible(False)\n",
    "\n",
    "    plt.show();\n",
    "    return fig"
   ]
  },
  {
   "cell_type": "code",
   "execution_count": 15,
   "id": "a1c2870e-d71d-49dd-b2a7-f129edcde953",
   "metadata": {
    "tags": []
   },
   "outputs": [
    {
     "name": "stderr",
     "output_type": "stream",
     "text": [
      "/tmp/ipykernel_3009201/641221408.py:32: UserWarning: set_ticklabels() should only be used with a fixed number of ticks, i.e. after set_ticks() or using a FixedLocator.\n",
      "  ax.set_xticklabels(tcklbls)\n"
     ]
    },
    {
     "data": {
      "image/png": "[encoded data removed]",
      "text/plain": [
       "<Figure size 1500x400 with 1 Axes>"
      ]
     },
     "metadata": {},
     "output_type": "display_data"
    },
    {
     "name": "stderr",
     "output_type": "stream",
     "text": [
      "/tmp/ipykernel_3009201/641221408.py:32: UserWarning: set_ticklabels() should only be used with a fixed number of ticks, i.e. after set_ticks() or using a FixedLocator.\n",
      "  ax.set_xticklabels(tcklbls)\n"
     ]
    },
    {
     "data": {
      "image/png": "[encoded data removed]",
      "text/plain": [
       "<Figure size 1500x400 with 1 Axes>"
      ]
     },
     "metadata": {},
     "output_type": "display_data"
    },
    {
     "name": "stderr",
     "output_type": "stream",
     "text": [
      "/tmp/ipykernel_3009201/641221408.py:32: UserWarning: set_ticklabels() should only be used with a fixed number of ticks, i.e. after set_ticks() or using a FixedLocator.\n",
      "  ax.set_xticklabels(tcklbls)\n"
     ]
    },
    {
     "data": {
      "image/png": "[encoded data removed]",
      "text/plain": [
       "<Figure size 1500x400 with 1 Axes>"
      ]
     },
     "metadata": {},
     "output_type": "display_data"
    }
   ],
   "source": [
    "fig = __makelplot_single_status(statusU, \"U\")\n",
    "\n",
    "fig = __makelplot_single_status(statusV, \"V\")\n",
    "\n",
    "fig = __makelplot_single_status(statusZ, \"Z\")\n",
    "\n",
    "\n",
    "# print(f\" -> stored: {config['path_to_figures']}R{config['ring']}_{config['tbeg'].date}_status.png\")\n",
    "# fig.savefig(config['path_to_figures']+f\"R{config['ring']}_{config['tbeg'].date}_status.png\", format=\"png\", dpi=100, bbox_inches='tight')"
   ]
  },
  {
   "cell_type": "code",
   "execution_count": null,
   "id": "f55260d3-a116-46ca-9d0e-9b6015344555",
   "metadata": {
    "tags": []
   },
   "outputs": [],
   "source": []
  },
  {
   "cell_type": "code",
   "execution_count": 16,
   "id": "479c7ead-0f68-4857-8863-4f6b1ea74832",
   "metadata": {
    "tags": []
   },
   "outputs": [],
   "source": [
    "## create sub-frames\n",
    "statusZ_mod = statusZ[['times_utc','quality']]\n",
    "statusU_mod = statusU[['times_utc','quality']]\n",
    "statusV_mod = statusV[['times_utc','quality']]\n",
    "\n",
    "## remove NaN from times\n",
    "statusZ_mod = statusZ_mod.dropna(subset=\"times_utc\").reset_index()\n",
    "statusV_mod = statusV_mod.dropna(subset=\"times_utc\").reset_index()\n",
    "statusU_mod = statusU_mod.dropna(subset=\"times_utc\").reset_index()\n",
    "\n",
    "# statusZ_mod.shape, statusU_mod.shape, statusV_mod.shape\n",
    "\n",
    "## make times all to string objects\n",
    "statusZ_mod['times_utc'] = statusZ_mod.times_utc.astype(str)\n",
    "statusU_mod['times_utc'] = statusU_mod.times_utc.astype(str)\n",
    "statusV_mod['times_utc'] = statusV_mod.times_utc.astype(str)"
   ]
  },
  {
   "cell_type": "code",
   "execution_count": 17,
   "id": "a982ed93-91f7-460a-87b6-55ef610d213b",
   "metadata": {
    "tags": []
   },
   "outputs": [
    {
     "name": "stdout",
     "output_type": "stream",
     "text": [
      "         index                    times_utc  quality\n",
      "0            0  2024-02-01T00:00:30.000000Z      1.0\n",
      "1            1  2024-02-01T00:01:30.000000Z      1.0\n",
      "2            2  2024-02-01T00:02:30.000000Z      1.0\n",
      "3            3  2024-02-01T00:03:30.000000Z      1.0\n",
      "4            4  2024-02-01T00:04:30.000000Z      1.0\n",
      "...        ...                          ...      ...\n",
      "224135  224135  2024-06-30T23:55:30.000000Z      NaN\n",
      "224136  224136  2024-06-30T23:56:30.000000Z      NaN\n",
      "224137  224137  2024-06-30T23:57:30.000000Z      NaN\n",
      "224138  224138  2024-06-30T23:58:30.000000Z      NaN\n",
      "224139  224139  2024-06-30T23:59:30.000000Z      NaN\n",
      "\n",
      "[224140 rows x 3 columns]\n",
      "        index_x                    times_utc  quality_x  index_y  quality_y\n",
      "0           0.0  2024-02-01T00:00:30.000000Z        1.0      0.0        0.0\n",
      "1           1.0  2024-02-01T00:01:30.000000Z        1.0      1.0        0.0\n",
      "2           2.0  2024-02-01T00:02:30.000000Z        1.0      2.0        0.0\n",
      "3           3.0  2024-02-01T00:03:30.000000Z        1.0      3.0        0.0\n",
      "4           4.0  2024-02-01T00:04:30.000000Z        1.0      4.0        0.0\n",
      "...         ...                          ...        ...      ...        ...\n",
      "226063      NaN  2024-03-22T00:01:45.007000Z        NaN  70500.0        1.0\n",
      "226064      NaN  2024-03-28T00:00:15.005400Z        NaN  78776.0        1.0\n",
      "226065      NaN  2024-03-28T00:00:45.005400Z        NaN  78777.0        1.0\n",
      "226066      NaN  2024-03-28T00:01:15.005400Z        NaN  78778.0        1.0\n",
      "226067      NaN  2024-03-28T00:01:45.005400Z        NaN  78779.0        1.0\n",
      "\n",
      "[226068 rows x 5 columns]\n",
      "        index_x                    times_utc  quality_x  index_y  quality_y  \\\n",
      "0           0.0  2024-02-01T00:00:30.000000Z        1.0      0.0        0.0   \n",
      "1           1.0  2024-02-01T00:01:30.000000Z        1.0      1.0        0.0   \n",
      "2           2.0  2024-02-01T00:02:30.000000Z        1.0      2.0        0.0   \n",
      "3           3.0  2024-02-01T00:03:30.000000Z        1.0      3.0        0.0   \n",
      "4           4.0  2024-02-01T00:04:30.000000Z        1.0      4.0        0.0   \n",
      "...         ...                          ...        ...      ...        ...   \n",
      "228953      NaN  2024-03-28T00:01:45.009000Z        NaN      NaN        NaN   \n",
      "228954      NaN  2024-04-01T14:12:04.992400Z        NaN      NaN        NaN   \n",
      "228955      NaN  2024-04-01T14:12:34.992400Z        NaN      NaN        NaN   \n",
      "228956      NaN  2024-04-01T14:13:04.992400Z        NaN      NaN        NaN   \n",
      "228957      NaN  2024-04-01T14:13:34.992400Z        NaN      NaN        NaN   \n",
      "\n",
      "          index  quality  \n",
      "0           0.0      1.0  \n",
      "1           1.0      1.0  \n",
      "2           2.0      1.0  \n",
      "3           3.0      1.0  \n",
      "4           4.0      1.0  \n",
      "...         ...      ...  \n",
      "228953  81656.0      1.0  \n",
      "228954  88267.0      1.0  \n",
      "228955  88268.0      1.0  \n",
      "228956  88269.0      1.0  \n",
      "228957  88270.0      1.0  \n",
      "\n",
      "[228958 rows x 7 columns]\n"
     ]
    }
   ],
   "source": [
    "## create new frame with all rings and their quality\n",
    "df_new = statusZ_mod.copy()\n",
    "\n",
    "print(df_new)\n",
    "\n",
    "\n",
    "df_new = df_new.merge(statusU_mod, how=\"outer\", on=[\"times_utc\"])\n",
    "\n",
    "print(df_new)\n",
    "\n",
    "df_new = df_new.merge(statusV_mod, how=\"outer\", on=[\"times_utc\"])\n",
    "\n",
    "print(df_new)\n",
    "\n",
    "## drop irrelevant columns\n",
    "df_new.drop(columns=[\"index_x\", \"index_y\", \"index\"], inplace=True)\n",
    "\n",
    "## renaming ...\n",
    "df_new.rename(columns={\"quality_x\":\"RZ\", \"quality_y\":\"RU\", \"quality\":\"RV\"}, inplace=True)\n",
    "\n",
    "## add relative times\n",
    "ref_time = df_new.times_utc.iloc[0]\n",
    "df_new['times_utc_sec'] = np.array([abs(obs.UTCDateTime(ref_time) - obs.UTCDateTime(_t) +30) for _t in df_new.times_utc])\n",
    "\n",
    "## add RW column\n",
    "df_new['RW'] = np.ones(df_new.shape[0])*np.nan\n",
    "\n",
    "## sort all by time\n",
    "df_new.sort_values(by=\"times_utc\", inplace=True)"
   ]
  },
  {
   "cell_type": "code",
   "execution_count": 18,
   "id": "155dea70-2b9d-4d9a-b0f6-a288738ff4c7",
   "metadata": {
    "tags": []
   },
   "outputs": [
    {
     "name": "stderr",
     "output_type": "stream",
     "text": [
      "/tmp/ipykernel_3009201/2099239175.py:52: UserWarning: set_ticklabels() should only be used with a fixed number of ticks, i.e. after set_ticks() or using a FixedLocator.\n",
      "  ax.set_xticklabels(tcklbls)\n"
     ]
    },
    {
     "data": {
      "image/png": "[encoded data removed]",
      "text/plain": [
       "<Figure size 1500x400 with 1 Axes>"
      ]
     },
     "metadata": {},
     "output_type": "display_data"
    }
   ],
   "source": [
    "def __makelplot_all_status(df):\n",
    "\n",
    "    names = [\"RZ\", \"RU\", \"RV\", \"RW\"]\n",
    "\n",
    "    ## make statistics\n",
    "    df_stats = DataFrame(columns=[\"ring\", \"R_0\", \"R_1\", \"R_nan\", \"R_N\", \"R_0_p\", \"R_1_p\", \"R_nan_p\"])\n",
    "\n",
    "    R_0, R_1, R_nan = np.zeros(len(names)), np.zeros(len(names)), np.zeros(len(names))\n",
    "    for _n, k in enumerate(names):\n",
    "\n",
    "        R_0 = df_new[k][df_new[k] == 0].size\n",
    "        R_1 = df_new[k][df_new[k] == 1].size\n",
    "        R_nan = df_new[k][df_new[k].isnull()].size\n",
    "        R_N = df_new[k].size\n",
    "\n",
    "        R_0_p = round(R_0/R_N*100, 2)\n",
    "        R_1_p = round(R_1/R_N*100, 2 )\n",
    "        R_nan_p = round(R_nan/R_N*100, 2)\n",
    "\n",
    "        df_stats.loc[len(df_stats)] = [k, R_0, R_1, R_nan, R_N, R_0_p, R_1_p, R_nan_p]\n",
    "\n",
    "\n",
    "    bars = np.ones(4)-0.5\n",
    "\n",
    "    arr = np.ones((4, df.shape[0]))\n",
    "\n",
    "    for _n, name in enumerate(names):\n",
    "        arr[_n] *= df[name]\n",
    "\n",
    "    time_scaling = 1\n",
    "\n",
    "    cmap = matplotlib.colors.ListedColormap(['darkred', 'green'])\n",
    "    cmap.set_bad(\"w\")\n",
    "\n",
    "    font = 12\n",
    "\n",
    "    fig, ax = plt.subplots(1, 1, figsize=(15, 4))\n",
    "\n",
    "    c = ax.pcolormesh(df.times_utc_sec*time_scaling, names, arr, cmap=cmap, rasterized=True, alpha=0.8)\n",
    "\n",
    "    for _k, bar in enumerate(bars):\n",
    "        ax.axhline(bar+_k, color=\"w\", alpha=0.8, lw=2)\n",
    "\n",
    "    ax.set_xlim(left=0)\n",
    "\n",
    "    ax.set_title(f\"Quality Status [ {config['tbeg'].date} - {config['tend'].date} ]\")\n",
    "\n",
    "    ## add dates for x-axis\n",
    "    ref_date = df.times_utc.iloc[0]\n",
    "    tcks = ax.get_xticks()\n",
    "    tcklbls = [str((obs.UTCDateTime(ref_date)+t).date) for t in tcks]\n",
    "    ax.set_xticklabels(tcklbls)\n",
    "\n",
    "    ax.tick_params(axis='y', labelsize=font)\n",
    "    ax.tick_params(axis='x', labelsize=font-2)\n",
    "\n",
    "    ax.spines['top'].set_visible(False)\n",
    "    ax.spines['right'].set_visible(False)\n",
    "\n",
    "    plt.show();\n",
    "    return fig\n",
    "\n",
    "fig = __makelplot_all_status(df_new);\n",
    "\n",
    "fig.savefig(config['path_to_figures']+f\"overview_timeline_{config['tbeg'].date}_{config['tend'].date}.png\", format=\"png\", dpi=150, bbox_inches='tight')\n"
   ]
  },
  {
   "cell_type": "code",
   "execution_count": null,
   "id": "637dff9e-5f01-4569-a5c1-a89742da6a7d",
   "metadata": {},
   "outputs": [],
   "source": []
  },
  {
   "cell_type": "code",
   "execution_count": 19,
   "id": "970d0c93-cd9e-4e3c-a53f-d6d8df8a8332",
   "metadata": {
    "tags": []
   },
   "outputs": [
    {
     "data": {
      "text/html": [
       "<div>\n",
       "<style scoped>\n",
       "    .dataframe tbody tr th:only-of-type {\n",
       "        vertical-align: middle;\n",
       "    }\n",
       "\n",
       "    .dataframe tbody tr th {\n",
       "        vertical-align: top;\n",
       "    }\n",
       "\n",
       "    .dataframe thead th {\n",
       "        text-align: right;\n",
       "    }\n",
       "</style>\n",
       "<table border=\"1\" class=\"dataframe\">\n",
       "  <thead>\n",
       "    <tr style=\"text-align: right;\">\n",
       "      <th></th>\n",
       "      <th>ring</th>\n",
       "      <th>R_0</th>\n",
       "      <th>R_1</th>\n",
       "      <th>R_nan</th>\n",
       "      <th>R_N</th>\n",
       "      <th>R_0_p</th>\n",
       "      <th>R_1_p</th>\n",
       "      <th>R_nan_p</th>\n",
       "    </tr>\n",
       "  </thead>\n",
       "  <tbody>\n",
       "    <tr>\n",
       "      <th>0</th>\n",
       "      <td>RZ</td>\n",
       "      <td>14388</td>\n",
       "      <td>150706</td>\n",
       "      <td>63864</td>\n",
       "      <td>228958</td>\n",
       "      <td>6.28</td>\n",
       "      <td>65.82</td>\n",
       "      <td>27.89</td>\n",
       "    </tr>\n",
       "    <tr>\n",
       "      <th>1</th>\n",
       "      <td>RU</td>\n",
       "      <td>22829</td>\n",
       "      <td>138008</td>\n",
       "      <td>68121</td>\n",
       "      <td>228958</td>\n",
       "      <td>9.97</td>\n",
       "      <td>60.28</td>\n",
       "      <td>29.75</td>\n",
       "    </tr>\n",
       "    <tr>\n",
       "      <th>2</th>\n",
       "      <td>RV</td>\n",
       "      <td>8381</td>\n",
       "      <td>157973</td>\n",
       "      <td>62604</td>\n",
       "      <td>228958</td>\n",
       "      <td>3.66</td>\n",
       "      <td>69.00</td>\n",
       "      <td>27.34</td>\n",
       "    </tr>\n",
       "    <tr>\n",
       "      <th>3</th>\n",
       "      <td>RW</td>\n",
       "      <td>0</td>\n",
       "      <td>0</td>\n",
       "      <td>228958</td>\n",
       "      <td>228958</td>\n",
       "      <td>0.00</td>\n",
       "      <td>0.00</td>\n",
       "      <td>100.00</td>\n",
       "    </tr>\n",
       "  </tbody>\n",
       "</table>\n",
       "</div>"
      ],
      "text/plain": [
       "  ring    R_0     R_1   R_nan     R_N  R_0_p  R_1_p  R_nan_p\n",
       "0   RZ  14388  150706   63864  228958   6.28  65.82    27.89\n",
       "1   RU  22829  138008   68121  228958   9.97  60.28    29.75\n",
       "2   RV   8381  157973   62604  228958   3.66  69.00    27.34\n",
       "3   RW      0       0  228958  228958   0.00   0.00   100.00"
      ]
     },
     "execution_count": 19,
     "metadata": {},
     "output_type": "execute_result"
    }
   ],
   "source": [
    "df_stats = DataFrame(columns=[\"ring\", \"R_0\", \"R_1\", \"R_nan\", \"R_N\", \"R_0_p\", \"R_1_p\", \"R_nan_p\"])\n",
    "\n",
    "rings = ['RZ', 'RU', 'RV', 'RW']\n",
    "\n",
    "R_0, R_1, R_nan = np.zeros(len(rings)), np.zeros(len(rings)), np.zeros(len(rings))\n",
    "for _n, k in enumerate(rings):\n",
    "\n",
    "    R_0 = df_new[k][df_new[k] == 0].size\n",
    "    R_1 = df_new[k][df_new[k] == 1].size\n",
    "    R_nan = df_new[k][df_new[k].isnull()].size\n",
    "    R_N = df_new[k].size\n",
    "\n",
    "    R_0_p = round(R_0/R_N*100, 2)\n",
    "    R_1_p = round(R_1/R_N*100, 2)\n",
    "    R_nan_p = round(R_nan/R_N*100, 2)\n",
    "\n",
    "    df_stats.loc[len(df_stats)] = [k, R_0, R_1, R_nan, R_N, R_0_p, R_1_p, R_nan_p]\n",
    "\n",
    "df_stats"
   ]
  },
  {
   "cell_type": "code",
   "execution_count": 20,
   "id": "4bf2bcb8-769a-428f-8b97-6f425680c4a5",
   "metadata": {
    "tags": []
   },
   "outputs": [
    {
     "name": "stderr",
     "output_type": "stream",
     "text": [
      "/tmp/ipykernel_3009201/523501620.py:24: UserWarning: set_ticklabels() should only be used with a fixed number of ticks, i.e. after set_ticks() or using a FixedLocator.\n",
      "  ax.set_yticklabels([f'{int(x)}%' for x in vals])\n"
     ]
    },
    {
     "data": {
      "image/png": "[encoded data removed]",
      "text/plain": [
       "<Figure size 800x500 with 1 Axes>"
      ]
     },
     "metadata": {},
     "output_type": "display_data"
    }
   ],
   "source": [
    "def __makeplot_statistics():\n",
    "\n",
    "    barWidth = 0.85\n",
    "    r = range(df_stats.ring.size)\n",
    "\n",
    "    fig, ax = plt.subplots(1, 1, figsize=(8,5))\n",
    "\n",
    "    ax.bar(r, df_stats.R_0_p,\n",
    "            color='darkred', edgecolor='k', width=barWidth, label=\"Bad Quality\")\n",
    "\n",
    "    ax.bar(r, df_stats.R_1_p, bottom=df_stats.R_0_p,\n",
    "            color='green', edgecolor='k', width=barWidth, label=\"Good Quality\")\n",
    "\n",
    "    ax.bar(r, df_stats.R_nan_p, bottom=[i+j for i,j in zip(df_stats.R_0_p, df_stats.R_1_p)],\n",
    "            color='white', edgecolor='k', width=barWidth, label=\"NaN\")\n",
    "\n",
    "    ax.set_xticks(r, df_stats.ring)\n",
    "\n",
    "    ax.legend(loc='upper left', bbox_to_anchor=(0.15, 1.1), ncol=3)\n",
    "\n",
    "    ax.set_title(f\"Quality Statistics [ {config['tbeg'].date} - {config['tend'].date} ]\", pad=35)\n",
    "\n",
    "    vals = ax.get_yticks()\n",
    "    ax.set_yticklabels([f'{int(x)}%' for x in vals])\n",
    "\n",
    "    ax.spines['top'].set_visible(False)\n",
    "    ax.spines['right'].set_visible(False)\n",
    "\n",
    "    for c in ax.containers:\n",
    "\n",
    "        # Optional: if the segment is small or 0, customize the labels\n",
    "        labels = [round(v.get_height(), 2) if v.get_height() > 0 else '' for v in c]\n",
    "\n",
    "        # remove the labels parameter if it's not needed for customized labels\n",
    "        plt.bar_label(c, labels=labels, label_type='center', padding=0)\n",
    "\n",
    "    plt.show();\n",
    "    return fig\n",
    "\n",
    "fig = __makeplot_statistics()\n",
    "\n",
    "fig.savefig(config['path_to_figures']+f\"overview_percent_{config['tbeg'].date}_{config['tend'].date}.png\", format=\"png\", dpi=150, bbox_inches='tight')\n"
   ]
  },
  {
   "cell_type": "code",
   "execution_count": null,
   "id": "b82fdfa1-f571-45b2-ad11-9dee61d9d795",
   "metadata": {},
   "outputs": [],
   "source": []
  }
 ],
 "metadata": {
  "kernelspec": {
   "display_name": "Python 3 (ipykernel)",
   "language": "python",
   "name": "python3"
  },
  "language_info": {
   "codemirror_mode": {
    "name": "ipython",
    "version": 3
   },
   "file_extension": ".py",
   "mimetype": "text/x-python",
   "name": "python",
   "nbconvert_exporter": "python",
   "pygments_lexer": "ipython3",
   "version": "3.9.16"
  }
 },
 "nbformat": 4,
 "nbformat_minor": 5
}
