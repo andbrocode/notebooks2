{
 "cells": [
  {
   "cell_type": "markdown",
   "id": "e9da90cb-d480-4f01-9115-0ba22d9b2c6a",
   "metadata": {
    "tags": []
   },
   "source": [
    "# ROMY Status File"
   ]
  },
  {
   "cell_type": "code",
   "execution_count": 1,
   "id": "5e8ef5e0-37dc-4a1c-a603-49b53fb31dea",
   "metadata": {
    "tags": []
   },
   "outputs": [],
   "source": [
    "import os\n",
    "import sys\n",
    "import numpy as np\n",
    "import matplotlib.pyplot as plt\n",
    "import obspy as obs\n",
    "import matplotlib.colors\n",
    "\n",
    "from pandas import DataFrame\n",
    "from andbro__save_to_pickle import __save_to_pickle"
   ]
  },
  {
   "cell_type": "code",
   "execution_count": 2,
   "id": "e5e75ac2-dabd-4e5a-b663-7d9581266689",
   "metadata": {
    "tags": []
   },
   "outputs": [],
   "source": [
    "if os.uname().nodename == 'lighthouse':\n",
    "    root_path = '/home/andbro/'\n",
    "    data_path = '/home/andbro/kilauea-data/'\n",
    "    archive_path = '/home/andbro/freenas/'\n",
    "    bay_path = '/home/andbro/bay200/'\n",
    "elif os.uname().nodename == 'kilauea':\n",
    "    root_path = '/home/brotzer/'\n",
    "    data_path = '/import/kilauea-data/'\n",
    "    archive_path = '/import/freenas-ffb-01-data/'\n",
    "    bay_path = '/bay200/'\n",
    "elif os.uname().nodename == 'lin-ffb-01':\n",
    "    root_path = '/home/brotzer/'\n",
    "    data_path = '/import/kilauea-data/'\n",
    "    archive_path = '/import/freenas-ffb-01-data/'\n",
    "    bay_path = '/bay200/'"
   ]
  },
  {
   "cell_type": "code",
   "execution_count": 3,
   "id": "d47128f1-31a4-4301-beba-6d2b61152191",
   "metadata": {
    "tags": []
   },
   "outputs": [],
   "source": [
    "from functions.load_beat import __load_beat\n",
    "from functions.load_mlti import __load_mlti\n",
    "from functions.get_mlti_intervals import __get_mlti_intervals"
   ]
  },
  {
   "cell_type": "markdown",
   "id": "4e4bf4dd-b2be-45fc-86fe-ce806f4ace1c",
   "metadata": {
    "tags": []
   },
   "source": [
    "## Configurations"
   ]
  },
  {
   "cell_type": "code",
   "execution_count": 4,
   "id": "bbfcde63-9c9b-426c-a2f3-0e80dc2daa8b",
   "metadata": {
    "tags": []
   },
   "outputs": [],
   "source": [
    "config = {}\n",
    "\n",
    "\n",
    "config['tbeg'] = obs.UTCDateTime(\"2023-09-01\")\n",
    "config['tend'] = obs.UTCDateTime(\"2023-09-30\")\n",
    "\n",
    "config['ring'] = \"U\"\n",
    "\n",
    "config['path_to_figures'] = archive_path+f\"romy_plots/{config['tbeg'].year}/R{config['ring']}/status/\"\n",
    "\n",
    "config['path_to_data'] = archive_path+f\"temp_archive/\"\n"
   ]
  },
  {
   "cell_type": "markdown",
   "id": "a47ab63a-345f-43b9-835c-0d71ad732018",
   "metadata": {},
   "source": [
    "### Load Status Data"
   ]
  },
  {
   "cell_type": "code",
   "execution_count": 5,
   "id": "05d736e5-4d0d-403e-9bf6-842a055d6183",
   "metadata": {
    "tags": []
   },
   "outputs": [],
   "source": [
    "from functions.load_status import __load_status"
   ]
  },
  {
   "cell_type": "code",
   "execution_count": 6,
   "id": "9f53b60f-7b24-4f06-938d-fdc09080e7bf",
   "metadata": {
    "tags": []
   },
   "outputs": [
    {
     "name": "stdout",
     "output_type": "stream",
     "text": [
      " -> no such file: 2023/BW/RU/RU_2023-09-07_status.pkl\n",
      " -> no such file: 2023/BW/RU/RU_2023-09-27_status.pkl\n"
     ]
    }
   ],
   "source": [
    "statusU = __load_status(config['tbeg'], config['tend'], \"U\", config['path_to_data'])"
   ]
  },
  {
   "cell_type": "code",
   "execution_count": 7,
   "id": "3e81b702-8c12-455a-a7f3-c150e8901a35",
   "metadata": {
    "tags": []
   },
   "outputs": [
    {
     "name": "stdout",
     "output_type": "stream",
     "text": [
      " -> no such file: 2023/BW/RV/RV_2023-09-07_status.pkl\n",
      " -> no such file: 2023/BW/RV/RV_2023-09-08_status.pkl\n",
      " -> no such file: 2023/BW/RV/RV_2023-09-09_status.pkl\n",
      " -> no such file: 2023/BW/RV/RV_2023-09-10_status.pkl\n",
      " -> no such file: 2023/BW/RV/RV_2023-09-17_status.pkl\n",
      " -> no such file: 2023/BW/RV/RV_2023-09-18_status.pkl\n",
      " -> no such file: 2023/BW/RV/RV_2023-09-19_status.pkl\n",
      " -> no such file: 2023/BW/RV/RV_2023-09-21_status.pkl\n",
      " -> no such file: 2023/BW/RV/RV_2023-09-25_status.pkl\n",
      " -> no such file: 2023/BW/RV/RV_2023-09-26_status.pkl\n",
      " -> no such file: 2023/BW/RV/RV_2023-09-27_status.pkl\n",
      " -> no such file: 2023/BW/RV/RV_2023-09-28_status.pkl\n",
      " -> no such file: 2023/BW/RV/RV_2023-09-29_status.pkl\n",
      " -> no such file: 2023/BW/RV/RV_2023-09-30_status.pkl\n"
     ]
    }
   ],
   "source": [
    "statusV = __load_status(config['tbeg'], config['tend'], \"V\", config['path_to_data'])"
   ]
  },
  {
   "cell_type": "code",
   "execution_count": 8,
   "id": "9f5bc7d9-27ae-45c8-a125-4fee0c73ba31",
   "metadata": {
    "tags": []
   },
   "outputs": [
    {
     "name": "stdout",
     "output_type": "stream",
     "text": [
      " -> no such file: 2023/BW/RZ/RZ_2023-09-04_status.pkl\n",
      " -> no such file: 2023/BW/RZ/RZ_2023-09-05_status.pkl\n",
      " -> no such file: 2023/BW/RZ/RZ_2023-09-07_status.pkl\n",
      " -> no such file: 2023/BW/RZ/RZ_2023-09-10_status.pkl\n",
      " -> no such file: 2023/BW/RZ/RZ_2023-09-23_status.pkl\n",
      " -> no such file: 2023/BW/RZ/RZ_2023-09-24_status.pkl\n",
      " -> no such file: 2023/BW/RZ/RZ_2023-09-25_status.pkl\n",
      " -> no such file: 2023/BW/RZ/RZ_2023-09-28_status.pkl\n",
      " -> no such file: 2023/BW/RZ/RZ_2023-09-29_status.pkl\n"
     ]
    }
   ],
   "source": [
    "statusZ = __load_status(config['tbeg'], config['tend'], \"Z\", config['path_to_data'])"
   ]
  },
  {
   "cell_type": "markdown",
   "id": "05ecb064-bb59-413a-8f84-11da1ec78615",
   "metadata": {
    "tags": []
   },
   "source": [
    "### Define Variables"
   ]
  },
  {
   "cell_type": "markdown",
   "id": "881e2179-430b-4668-bfda-42cdc2a34fd1",
   "metadata": {},
   "source": [
    "### Plotting"
   ]
  },
  {
   "cell_type": "code",
   "execution_count": 9,
   "id": "2bc7c5d5-64f7-4dd6-9018-c86d2fd31197",
   "metadata": {
    "tags": []
   },
   "outputs": [],
   "source": [
    "arr = np.ones((3, statusU['quality'].size))\n",
    "\n",
    "arr[0] *= statusU['quality']\n",
    "arr[1] *= statusU['fsagnac']\n",
    "arr[2] *= statusU['mlti']"
   ]
  },
  {
   "cell_type": "code",
   "execution_count": 10,
   "id": "7c77f35a-c916-4606-8ea5-2b4db1ed1961",
   "metadata": {
    "tags": []
   },
   "outputs": [
    {
     "data": {
      "text/plain": [
       "<matplotlib.lines.Line2D at 0x7f74378b8250>"
      ]
     },
     "execution_count": 10,
     "metadata": {},
     "output_type": "execute_result"
    },
    {
     "data": {
      "text/plain": [
       "<matplotlib.lines.Line2D at 0x7f74378b87f0>"
      ]
     },
     "execution_count": 10,
     "metadata": {},
     "output_type": "execute_result"
    },
    {
     "data": {
      "text/plain": [
       "<matplotlib.lines.Line2D at 0x7f74378b86d0>"
      ]
     },
     "execution_count": 10,
     "metadata": {},
     "output_type": "execute_result"
    },
    {
     "data": {
      "text/plain": [
       "<matplotlib.lines.Line2D at 0x7f74378b8c10>"
      ]
     },
     "execution_count": 10,
     "metadata": {},
     "output_type": "execute_result"
    },
    {
     "data": {
      "text/plain": [
       "<matplotlib.lines.Line2D at 0x7f7437b412e0>"
      ]
     },
     "execution_count": 10,
     "metadata": {},
     "output_type": "execute_result"
    },
    {
     "data": {
      "text/plain": [
       "Text(0.5, 0, 'Time (min)')"
      ]
     },
     "execution_count": 10,
     "metadata": {},
     "output_type": "execute_result"
    },
    {
     "data": {
      "text/plain": [
       "Text(0.5, 1.0, 'Quality Status of RU on 2023-09-01')"
      ]
     },
     "execution_count": 10,
     "metadata": {},
     "output_type": "execute_result"
    },
    {
     "data": {
      "image/png": "[encoded data removed]",
      "text/plain": [
       "<Figure size 1500x400 with 1 Axes>"
      ]
     },
     "metadata": {},
     "output_type": "display_data"
    }
   ],
   "source": [
    "names = [\"quality\", \"fsagnac\", \"mlti\", \"ac_threshold\", \"dc_threshold\"]\n",
    "bars = np.ones(len(names))-0.5\n",
    "\n",
    "arr = np.ones((len(names), statusU['quality'].size))\n",
    "\n",
    "for _n, name in enumerate(names):\n",
    "    arr[_n] *= statusU[name]\n",
    "\n",
    "\n",
    "cmap = matplotlib.colors.ListedColormap(['darkred', 'green'])\n",
    "\n",
    "fig = plt.figure(figsize=(15, 4))\n",
    "\n",
    "c = plt.pcolormesh(np.arange(0, arr.shape[1]), names, arr, cmap=cmap, rasterized=True, alpha=0.8)\n",
    "\n",
    "for _k, bar in enumerate(bars):\n",
    "    plt.axhline(bar+_k, color=\"k\", alpha=0.5)\n",
    "\n",
    "plt.xlabel(\"Time (min)\")\n",
    "\n",
    "\n",
    "plt.title(f\"Quality Status of R{config['ring']} on {config['tbeg'].date}\")\n",
    "\n",
    "# plt.show();\n",
    "\n",
    "# fig.savefig(config['path_to_figures']+f\"status/VC_BAZ_{t1_t2}_status.png\", format=\"png\", dpi=100, bbox_inches='tight')\n",
    "# print(f\" -> stored: {config['path_to_figures']}status/VC_BAZ_{t1_t2}.png\")\n"
   ]
  },
  {
   "cell_type": "code",
   "execution_count": null,
   "id": "155dea70-2b9d-4d9a-b0f6-a288738ff4c7",
   "metadata": {},
   "outputs": [],
   "source": []
  }
 ],
 "metadata": {
  "kernelspec": {
   "display_name": "Python 3 (ipykernel)",
   "language": "python",
   "name": "python3"
  },
  "language_info": {
   "codemirror_mode": {
    "name": "ipython",
    "version": 3
   },
   "file_extension": ".py",
   "mimetype": "text/x-python",
   "name": "python",
   "nbconvert_exporter": "python",
   "pygments_lexer": "ipython3",
   "version": "3.9.16"
  }
 },
 "nbformat": 4,
 "nbformat_minor": 5
}
