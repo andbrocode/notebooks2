{
 "cells": [
  {
   "cell_type": "markdown",
   "id": "e9da90cb-d480-4f01-9115-0ba22d9b2c6a",
   "metadata": {
    "tags": []
   },
   "source": [
    "# ROMY Status File"
   ]
  },
  {
   "cell_type": "code",
   "execution_count": 75,
   "id": "5e8ef5e0-37dc-4a1c-a603-49b53fb31dea",
   "metadata": {
    "tags": []
   },
   "outputs": [],
   "source": [
    "import os\n",
    "import sys\n",
    "import numpy as np\n",
    "import matplotlib.pyplot as plt\n",
    "import obspy as obs\n",
    "import matplotlib.colors\n",
    "\n",
    "from pandas import DataFrame, merge\n",
    "from andbro__save_to_pickle import __save_to_pickle"
   ]
  },
  {
   "cell_type": "code",
   "execution_count": 76,
   "id": "e5e75ac2-dabd-4e5a-b663-7d9581266689",
   "metadata": {
    "tags": []
   },
   "outputs": [],
   "source": [
    "if os.uname().nodename == 'lighthouse':\n",
    "    root_path = '/home/andbro/'\n",
    "    data_path = '/home/andbro/kilauea-data/'\n",
    "    archive_path = '/home/andbro/freenas/'\n",
    "    bay_path = '/home/andbro/bay200/'\n",
    "elif os.uname().nodename == 'kilauea':\n",
    "    root_path = '/home/brotzer/'\n",
    "    data_path = '/import/kilauea-data/'\n",
    "    archive_path = '/import/freenas-ffb-01-data/'\n",
    "    bay_path = '/bay200/'\n",
    "elif os.uname().nodename == 'lin-ffb-01':\n",
    "    root_path = '/home/brotzer/'\n",
    "    data_path = '/import/kilauea-data/'\n",
    "    archive_path = '/import/freenas-ffb-01-data/'\n",
    "    bay_path = '/bay200/'"
   ]
  },
  {
   "cell_type": "code",
   "execution_count": 77,
   "id": "d47128f1-31a4-4301-beba-6d2b61152191",
   "metadata": {
    "tags": []
   },
   "outputs": [],
   "source": [
    "from functions.load_beat import __load_beat\n",
    "from functions.load_mlti import __load_mlti\n",
    "from functions.get_mlti_intervals import __get_mlti_intervals"
   ]
  },
  {
   "cell_type": "markdown",
   "id": "4e4bf4dd-b2be-45fc-86fe-ce806f4ace1c",
   "metadata": {
    "tags": []
   },
   "source": [
    "## Configurations"
   ]
  },
  {
   "cell_type": "code",
   "execution_count": 78,
   "id": "bbfcde63-9c9b-426c-a2f3-0e80dc2daa8b",
   "metadata": {
    "tags": []
   },
   "outputs": [],
   "source": [
    "config = {}\n",
    "\n",
    "\n",
    "config['tbeg'] = obs.UTCDateTime(\"2023-09-01\")\n",
    "config['tend'] = obs.UTCDateTime(\"2023-09-30\")\n",
    "\n",
    "config['ring'] = \"U\"\n",
    "\n",
    "config['path_to_figures'] = archive_path+f\"romy_plots/{config['tbeg'].year}/R{config['ring']}/status/\"\n",
    "\n",
    "config['path_to_data'] = archive_path+f\"temp_archive/\"\n"
   ]
  },
  {
   "cell_type": "markdown",
   "id": "a47ab63a-345f-43b9-835c-0d71ad732018",
   "metadata": {},
   "source": [
    "### Load Status Data"
   ]
  },
  {
   "cell_type": "code",
   "execution_count": 79,
   "id": "05d736e5-4d0d-403e-9bf6-842a055d6183",
   "metadata": {
    "tags": []
   },
   "outputs": [],
   "source": [
    "from functions.load_status import __load_status"
   ]
  },
  {
   "cell_type": "code",
   "execution_count": 80,
   "id": "9f53b60f-7b24-4f06-938d-fdc09080e7bf",
   "metadata": {
    "tags": []
   },
   "outputs": [
    {
     "name": "stdout",
     "output_type": "stream",
     "text": [
      " -> no such file: 2023/BW/RU/RU_2023-09-07_status.pkl\n",
      " -> no such file: 2023/BW/RU/RU_2023-09-27_status.pkl\n"
     ]
    }
   ],
   "source": [
    "statusU = __load_status(config['tbeg'], config['tend'], \"U\", config['path_to_data'])"
   ]
  },
  {
   "cell_type": "code",
   "execution_count": 81,
   "id": "0d0144a5-09a8-4d5d-b5b8-7e4afa7e1eeb",
   "metadata": {
    "tags": []
   },
   "outputs": [
    {
     "data": {
      "text/html": [
       "<div>\n",
       "<style scoped>\n",
       "    .dataframe tbody tr th:only-of-type {\n",
       "        vertical-align: middle;\n",
       "    }\n",
       "\n",
       "    .dataframe tbody tr th {\n",
       "        vertical-align: top;\n",
       "    }\n",
       "\n",
       "    .dataframe thead th {\n",
       "        text-align: right;\n",
       "    }\n",
       "</style>\n",
       "<table border=\"1\" class=\"dataframe\">\n",
       "  <thead>\n",
       "    <tr style=\"text-align: right;\">\n",
       "      <th></th>\n",
       "      <th>times_utc</th>\n",
       "      <th>times_utc_sec</th>\n",
       "      <th>quality</th>\n",
       "      <th>fsagnac</th>\n",
       "      <th>mlti</th>\n",
       "      <th>ac_threshold</th>\n",
       "      <th>dc_threshold</th>\n",
       "    </tr>\n",
       "  </thead>\n",
       "  <tbody>\n",
       "    <tr>\n",
       "      <th>2</th>\n",
       "      <td>2023-09-06T23:59:30.000000Z</td>\n",
       "      <td>518370.0</td>\n",
       "      <td>1.0</td>\n",
       "      <td>1.0</td>\n",
       "      <td>1.0</td>\n",
       "      <td>1.0</td>\n",
       "      <td>1.0</td>\n",
       "    </tr>\n",
       "    <tr>\n",
       "      <th>0</th>\n",
       "      <td>2023-09-07T00:00:30.000000Z</td>\n",
       "      <td>518430.0</td>\n",
       "      <td>NaN</td>\n",
       "      <td>NaN</td>\n",
       "      <td>NaN</td>\n",
       "      <td>NaN</td>\n",
       "      <td>NaN</td>\n",
       "    </tr>\n",
       "    <tr>\n",
       "      <th>1</th>\n",
       "      <td>2023-09-07T00:01:30.000000Z</td>\n",
       "      <td>518490.0</td>\n",
       "      <td>NaN</td>\n",
       "      <td>NaN</td>\n",
       "      <td>NaN</td>\n",
       "      <td>NaN</td>\n",
       "      <td>NaN</td>\n",
       "    </tr>\n",
       "    <tr>\n",
       "      <th>2</th>\n",
       "      <td>2023-09-07T00:02:30.000000Z</td>\n",
       "      <td>518550.0</td>\n",
       "      <td>NaN</td>\n",
       "      <td>NaN</td>\n",
       "      <td>NaN</td>\n",
       "      <td>NaN</td>\n",
       "      <td>NaN</td>\n",
       "    </tr>\n",
       "    <tr>\n",
       "      <th>3</th>\n",
       "      <td>2023-09-07T00:03:30.000000Z</td>\n",
       "      <td>518610.0</td>\n",
       "      <td>NaN</td>\n",
       "      <td>NaN</td>\n",
       "      <td>NaN</td>\n",
       "      <td>NaN</td>\n",
       "      <td>NaN</td>\n",
       "    </tr>\n",
       "    <tr>\n",
       "      <th>...</th>\n",
       "      <td>...</td>\n",
       "      <td>...</td>\n",
       "      <td>...</td>\n",
       "      <td>...</td>\n",
       "      <td>...</td>\n",
       "      <td>...</td>\n",
       "      <td>...</td>\n",
       "    </tr>\n",
       "    <tr>\n",
       "      <th>1438</th>\n",
       "      <td>2023-09-29T23:55:30.000000Z</td>\n",
       "      <td>2505330.0</td>\n",
       "      <td>0.0</td>\n",
       "      <td>0.0</td>\n",
       "      <td>1.0</td>\n",
       "      <td>0.0</td>\n",
       "      <td>1.0</td>\n",
       "    </tr>\n",
       "    <tr>\n",
       "      <th>1439</th>\n",
       "      <td>2023-09-29T23:56:30.000000Z</td>\n",
       "      <td>2505390.0</td>\n",
       "      <td>0.0</td>\n",
       "      <td>0.0</td>\n",
       "      <td>1.0</td>\n",
       "      <td>0.0</td>\n",
       "      <td>1.0</td>\n",
       "    </tr>\n",
       "    <tr>\n",
       "      <th>0</th>\n",
       "      <td>2023-09-29T23:57:30.000000Z</td>\n",
       "      <td>2505450.0</td>\n",
       "      <td>0.0</td>\n",
       "      <td>0.0</td>\n",
       "      <td>1.0</td>\n",
       "      <td>0.0</td>\n",
       "      <td>1.0</td>\n",
       "    </tr>\n",
       "    <tr>\n",
       "      <th>1</th>\n",
       "      <td>2023-09-29T23:58:30.000000Z</td>\n",
       "      <td>2505510.0</td>\n",
       "      <td>0.0</td>\n",
       "      <td>0.0</td>\n",
       "      <td>1.0</td>\n",
       "      <td>0.0</td>\n",
       "      <td>1.0</td>\n",
       "    </tr>\n",
       "    <tr>\n",
       "      <th>2</th>\n",
       "      <td>2023-09-29T23:59:30.000000Z</td>\n",
       "      <td>2505570.0</td>\n",
       "      <td>0.0</td>\n",
       "      <td>0.0</td>\n",
       "      <td>1.0</td>\n",
       "      <td>0.0</td>\n",
       "      <td>1.0</td>\n",
       "    </tr>\n",
       "  </tbody>\n",
       "</table>\n",
       "<p>118081 rows × 7 columns</p>\n",
       "</div>"
      ],
      "text/plain": [
       "                        times_utc  times_utc_sec  quality  fsagnac  mlti  \\\n",
       "2     2023-09-06T23:59:30.000000Z       518370.0      1.0      1.0   1.0   \n",
       "0     2023-09-07T00:00:30.000000Z       518430.0      NaN      NaN   NaN   \n",
       "1     2023-09-07T00:01:30.000000Z       518490.0      NaN      NaN   NaN   \n",
       "2     2023-09-07T00:02:30.000000Z       518550.0      NaN      NaN   NaN   \n",
       "3     2023-09-07T00:03:30.000000Z       518610.0      NaN      NaN   NaN   \n",
       "...                           ...            ...      ...      ...   ...   \n",
       "1438  2023-09-29T23:55:30.000000Z      2505330.0      0.0      0.0   1.0   \n",
       "1439  2023-09-29T23:56:30.000000Z      2505390.0      0.0      0.0   1.0   \n",
       "0     2023-09-29T23:57:30.000000Z      2505450.0      0.0      0.0   1.0   \n",
       "1     2023-09-29T23:58:30.000000Z      2505510.0      0.0      0.0   1.0   \n",
       "2     2023-09-29T23:59:30.000000Z      2505570.0      0.0      0.0   1.0   \n",
       "\n",
       "      ac_threshold  dc_threshold  \n",
       "2              1.0           1.0  \n",
       "0              NaN           NaN  \n",
       "1              NaN           NaN  \n",
       "2              NaN           NaN  \n",
       "3              NaN           NaN  \n",
       "...            ...           ...  \n",
       "1438           0.0           1.0  \n",
       "1439           0.0           1.0  \n",
       "0              0.0           1.0  \n",
       "1              0.0           1.0  \n",
       "2              0.0           1.0  \n",
       "\n",
       "[118081 rows x 7 columns]"
      ]
     },
     "execution_count": 81,
     "metadata": {},
     "output_type": "execute_result"
    }
   ],
   "source": [
    "statusU[statusU.times_utc > obs.UTCDateTime(\"2023-09-06 23:59\")]"
   ]
  },
  {
   "cell_type": "code",
   "execution_count": 82,
   "id": "3e81b702-8c12-455a-a7f3-c150e8901a35",
   "metadata": {
    "tags": []
   },
   "outputs": [
    {
     "name": "stdout",
     "output_type": "stream",
     "text": [
      " -> no such file: 2023/BW/RV/RV_2023-09-07_status.pkl\n",
      " -> no such file: 2023/BW/RV/RV_2023-09-08_status.pkl\n",
      " -> no such file: 2023/BW/RV/RV_2023-09-09_status.pkl\n",
      " -> no such file: 2023/BW/RV/RV_2023-09-10_status.pkl\n",
      " -> no such file: 2023/BW/RV/RV_2023-09-17_status.pkl\n",
      " -> no such file: 2023/BW/RV/RV_2023-09-18_status.pkl\n",
      " -> no such file: 2023/BW/RV/RV_2023-09-19_status.pkl\n",
      " -> no such file: 2023/BW/RV/RV_2023-09-21_status.pkl\n",
      " -> no such file: 2023/BW/RV/RV_2023-09-25_status.pkl\n",
      " -> no such file: 2023/BW/RV/RV_2023-09-26_status.pkl\n",
      " -> no such file: 2023/BW/RV/RV_2023-09-27_status.pkl\n",
      " -> no such file: 2023/BW/RV/RV_2023-09-28_status.pkl\n",
      " -> no such file: 2023/BW/RV/RV_2023-09-29_status.pkl\n",
      " -> no such file: 2023/BW/RV/RV_2023-09-30_status.pkl\n"
     ]
    }
   ],
   "source": [
    "statusV = __load_status(config['tbeg'], config['tend'], \"V\", config['path_to_data'])"
   ]
  },
  {
   "cell_type": "code",
   "execution_count": 83,
   "id": "9f5bc7d9-27ae-45c8-a125-4fee0c73ba31",
   "metadata": {
    "tags": []
   },
   "outputs": [
    {
     "name": "stdout",
     "output_type": "stream",
     "text": [
      " -> no such file: 2023/BW/RZ/RZ_2023-09-04_status.pkl\n",
      " -> no such file: 2023/BW/RZ/RZ_2023-09-05_status.pkl\n",
      " -> no such file: 2023/BW/RZ/RZ_2023-09-07_status.pkl\n",
      " -> no such file: 2023/BW/RZ/RZ_2023-09-10_status.pkl\n",
      " -> no such file: 2023/BW/RZ/RZ_2023-09-23_status.pkl\n",
      " -> no such file: 2023/BW/RZ/RZ_2023-09-24_status.pkl\n",
      " -> no such file: 2023/BW/RZ/RZ_2023-09-25_status.pkl\n",
      " -> no such file: 2023/BW/RZ/RZ_2023-09-28_status.pkl\n",
      " -> no such file: 2023/BW/RZ/RZ_2023-09-29_status.pkl\n"
     ]
    }
   ],
   "source": [
    "statusZ = __load_status(config['tbeg'], config['tend'], \"Z\", config['path_to_data'])"
   ]
  },
  {
   "cell_type": "markdown",
   "id": "05ecb064-bb59-413a-8f84-11da1ec78615",
   "metadata": {
    "tags": []
   },
   "source": [
    "### Define Variables"
   ]
  },
  {
   "cell_type": "markdown",
   "id": "881e2179-430b-4668-bfda-42cdc2a34fd1",
   "metadata": {},
   "source": [
    "### Plotting"
   ]
  },
  {
   "cell_type": "code",
   "execution_count": 84,
   "id": "29790e7a-a9e2-4ff7-b379-1a02c9f72fee",
   "metadata": {
    "tags": []
   },
   "outputs": [],
   "source": [
    "def __makelplot_single_status(df):\n",
    "\n",
    "    names = [\"quality\", \"fsagnac\", \"mlti\", \"ac_threshold\", \"dc_threshold\"]\n",
    "    bars = np.ones(len(names))-0.5\n",
    "\n",
    "    arr = np.ones((len(names), df['quality'].size))\n",
    "\n",
    "    for _n, name in enumerate(names):\n",
    "        arr[_n] *= df[name]\n",
    "\n",
    "    time_scaling = 1/86400\n",
    "\n",
    "    cmap = matplotlib.colors.ListedColormap(['darkred', 'green'])\n",
    "\n",
    "    fig = plt.figure(figsize=(15, 4))\n",
    "\n",
    "    c = plt.pcolormesh(df.times_utc_sec*time_scaling, names, arr, cmap=cmap, rasterized=True, alpha=0.8)\n",
    "\n",
    "    for _k, bar in enumerate(bars):\n",
    "        plt.axhline(bar+_k, color=\"k\", alpha=0.5)\n",
    "\n",
    "    plt.xlabel(\"Time (days)\")\n",
    "\n",
    "    plt.title(f\"Quality Status from {config['tbeg'].date}\")\n",
    "\n",
    "    plt.show();\n",
    "    return fig"
   ]
  },
  {
   "cell_type": "code",
   "execution_count": 85,
   "id": "a1c2870e-d71d-49dd-b2a7-f129edcde953",
   "metadata": {
    "tags": []
   },
   "outputs": [
    {
     "name": "stderr",
     "output_type": "stream",
     "text": [
      "/tmp/ipykernel_90837/604576591.py:17: UserWarning: The input coordinates to pcolormesh are interpreted as cell centers, but are not monotonically increasing or decreasing. This may lead to incorrectly calculated cell edges, in which case, please supply explicit cell edges to pcolormesh.\n",
      "  c = plt.pcolormesh(df.times_utc_sec*time_scaling, names, arr, cmap=cmap, rasterized=True, alpha=0.8)\n"
     ]
    },
    {
     "data": {
      "image/png": "[encoded data removed]",
      "text/plain": [
       "<Figure size 1500x400 with 1 Axes>"
      ]
     },
     "metadata": {},
     "output_type": "display_data"
    },
    {
     "data": {
      "image/png": "[encoded data removed]",
      "text/plain": [
       "<Figure size 1500x400 with 1 Axes>"
      ]
     },
     "metadata": {},
     "output_type": "display_data"
    },
    {
     "data": {
      "image/png": "[encoded data removed]",
      "text/plain": [
       "<Figure size 1500x400 with 1 Axes>"
      ]
     },
     "metadata": {},
     "output_type": "display_data"
    }
   ],
   "source": [
    "fig = __makelplot_single_status(statusU)\n",
    "fig = __makelplot_single_status(statusV)\n",
    "fig = __makelplot_single_status(statusZ)\n",
    "\n",
    "\n",
    "# print(f\" -> stored: {config['path_to_figures']}R{config['ring']}_{config['tbeg'].date}_status.png\")\n",
    "# fig.savefig(config['path_to_figures']+f\"R{config['ring']}_{config['tbeg'].date}_status.png\", format=\"png\", dpi=100, bbox_inches='tight')"
   ]
  },
  {
   "cell_type": "code",
   "execution_count": null,
   "id": "4d28429b-21cc-40a9-95e5-181b2a6fada2",
   "metadata": {
    "tags": []
   },
   "outputs": [],
   "source": []
  },
  {
   "cell_type": "code",
   "execution_count": null,
   "id": "f55260d3-a116-46ca-9d0e-9b6015344555",
   "metadata": {
    "tags": []
   },
   "outputs": [],
   "source": []
  },
  {
   "cell_type": "code",
   "execution_count": 86,
   "id": "479c7ead-0f68-4857-8863-4f6b1ea74832",
   "metadata": {
    "tags": []
   },
   "outputs": [
    {
     "data": {
      "text/plain": [
       "((125325, 3), (126720, 3), (40440, 3))"
      ]
     },
     "execution_count": 86,
     "metadata": {},
     "output_type": "execute_result"
    }
   ],
   "source": [
    "statusZ_mod = statusZ[['times_utc','quality']]\n",
    "statusU_mod = statusU[['times_utc','quality']]\n",
    "statusV_mod = statusV[['times_utc','quality']]\n",
    "\n",
    "\n",
    "statusZ_mod = statusZ_mod.dropna(subset=\"times_utc\").reset_index()\n",
    "statusV_mod = statusV_mod.dropna(subset=\"times_utc\").reset_index()\n",
    "statusU_mod = statusU_mod.dropna(subset=\"times_utc\").reset_index()\n",
    "\n",
    "statusZ_mod.shape, statusU_mod.shape, statusV_mod.shape"
   ]
  },
  {
   "cell_type": "code",
   "execution_count": 87,
   "id": "07363254-03df-46e9-a87e-5de26c7e40d4",
   "metadata": {
    "tags": []
   },
   "outputs": [],
   "source": [
    "statusZ_mod['times_utc'] = statusZ_mod.times_utc.astype(str)\n",
    "statusU_mod['times_utc'] = statusU_mod.times_utc.astype(str)\n",
    "statusV_mod['times_utc'] = statusV_mod.times_utc.astype(str)"
   ]
  },
  {
   "cell_type": "code",
   "execution_count": 88,
   "id": "a982ed93-91f7-460a-87b6-55ef610d213b",
   "metadata": {
    "tags": []
   },
   "outputs": [
    {
     "data": {
      "text/html": [
       "<div>\n",
       "<style scoped>\n",
       "    .dataframe tbody tr th:only-of-type {\n",
       "        vertical-align: middle;\n",
       "    }\n",
       "\n",
       "    .dataframe tbody tr th {\n",
       "        vertical-align: top;\n",
       "    }\n",
       "\n",
       "    .dataframe thead th {\n",
       "        text-align: right;\n",
       "    }\n",
       "</style>\n",
       "<table border=\"1\" class=\"dataframe\">\n",
       "  <thead>\n",
       "    <tr style=\"text-align: right;\">\n",
       "      <th></th>\n",
       "      <th>times_utc</th>\n",
       "      <th>RU</th>\n",
       "      <th>RV</th>\n",
       "      <th>RZ</th>\n",
       "    </tr>\n",
       "  </thead>\n",
       "  <tbody>\n",
       "    <tr>\n",
       "      <th>0</th>\n",
       "      <td>2023-09-01T00:00:30.000000Z</td>\n",
       "      <td>0.0</td>\n",
       "      <td>1.0</td>\n",
       "      <td>0.0</td>\n",
       "    </tr>\n",
       "    <tr>\n",
       "      <th>1</th>\n",
       "      <td>2023-09-01T00:01:30.000000Z</td>\n",
       "      <td>0.0</td>\n",
       "      <td>1.0</td>\n",
       "      <td>0.0</td>\n",
       "    </tr>\n",
       "    <tr>\n",
       "      <th>2</th>\n",
       "      <td>2023-09-01T00:02:30.000000Z</td>\n",
       "      <td>0.0</td>\n",
       "      <td>1.0</td>\n",
       "      <td>0.0</td>\n",
       "    </tr>\n",
       "    <tr>\n",
       "      <th>3</th>\n",
       "      <td>2023-09-01T00:03:30.000000Z</td>\n",
       "      <td>0.0</td>\n",
       "      <td>1.0</td>\n",
       "      <td>0.0</td>\n",
       "    </tr>\n",
       "    <tr>\n",
       "      <th>4</th>\n",
       "      <td>2023-09-01T00:04:30.000000Z</td>\n",
       "      <td>0.0</td>\n",
       "      <td>1.0</td>\n",
       "      <td>0.0</td>\n",
       "    </tr>\n",
       "    <tr>\n",
       "      <th>...</th>\n",
       "      <td>...</td>\n",
       "      <td>...</td>\n",
       "      <td>...</td>\n",
       "      <td>...</td>\n",
       "    </tr>\n",
       "    <tr>\n",
       "      <th>128188</th>\n",
       "      <td>2023-09-19T23:52:30.000000Z</td>\n",
       "      <td>NaN</td>\n",
       "      <td>NaN</td>\n",
       "      <td>NaN</td>\n",
       "    </tr>\n",
       "    <tr>\n",
       "      <th>128189</th>\n",
       "      <td>2023-09-19T23:53:30.000000Z</td>\n",
       "      <td>NaN</td>\n",
       "      <td>NaN</td>\n",
       "      <td>NaN</td>\n",
       "    </tr>\n",
       "    <tr>\n",
       "      <th>128190</th>\n",
       "      <td>2023-09-19T23:54:30.000000Z</td>\n",
       "      <td>NaN</td>\n",
       "      <td>NaN</td>\n",
       "      <td>NaN</td>\n",
       "    </tr>\n",
       "    <tr>\n",
       "      <th>128191</th>\n",
       "      <td>2023-09-19T23:55:30.000000Z</td>\n",
       "      <td>NaN</td>\n",
       "      <td>NaN</td>\n",
       "      <td>NaN</td>\n",
       "    </tr>\n",
       "    <tr>\n",
       "      <th>128192</th>\n",
       "      <td>2023-09-19T23:56:30.000000Z</td>\n",
       "      <td>NaN</td>\n",
       "      <td>NaN</td>\n",
       "      <td>NaN</td>\n",
       "    </tr>\n",
       "  </tbody>\n",
       "</table>\n",
       "<p>128193 rows × 4 columns</p>\n",
       "</div>"
      ],
      "text/plain": [
       "                          times_utc   RU   RV   RZ\n",
       "0       2023-09-01T00:00:30.000000Z  0.0  1.0  0.0\n",
       "1       2023-09-01T00:01:30.000000Z  0.0  1.0  0.0\n",
       "2       2023-09-01T00:02:30.000000Z  0.0  1.0  0.0\n",
       "3       2023-09-01T00:03:30.000000Z  0.0  1.0  0.0\n",
       "4       2023-09-01T00:04:30.000000Z  0.0  1.0  0.0\n",
       "...                             ...  ...  ...  ...\n",
       "128188  2023-09-19T23:52:30.000000Z  NaN  NaN  NaN\n",
       "128189  2023-09-19T23:53:30.000000Z  NaN  NaN  NaN\n",
       "128190  2023-09-19T23:54:30.000000Z  NaN  NaN  NaN\n",
       "128191  2023-09-19T23:55:30.000000Z  NaN  NaN  NaN\n",
       "128192  2023-09-19T23:56:30.000000Z  NaN  NaN  NaN\n",
       "\n",
       "[128193 rows x 4 columns]"
      ]
     },
     "execution_count": 88,
     "metadata": {},
     "output_type": "execute_result"
    }
   ],
   "source": [
    "\n",
    "df_new = statusZ_mod.copy()\n",
    "\n",
    "df_new = df_new.merge(statusU_mod, how=\"outer\", on=[\"times_utc\"])\n",
    "df_new = df_new.merge(statusV_mod, how=\"outer\", on=[\"times_utc\"])\n",
    "\n",
    "df_new.drop(columns=[\"index_x\", \"index_y\", \"index\"], inplace=True)\n",
    "\n",
    "df_new.rename(columns={\"quality_x\":\"RU\", \"quality_y\":\"RV\", \"quality\":\"RZ\"}, inplace=True)\n",
    "\n",
    "df_new"
   ]
  },
  {
   "cell_type": "code",
   "execution_count": null,
   "id": "ac61d169-2c48-41f7-911b-1f5c6d8c0ef7",
   "metadata": {
    "tags": []
   },
   "outputs": [],
   "source": [
    "df_all = DataFrame()"
   ]
  },
  {
   "cell_type": "code",
   "execution_count": null,
   "id": "155dea70-2b9d-4d9a-b0f6-a288738ff4c7",
   "metadata": {
    "tags": []
   },
   "outputs": [],
   "source": [
    "def __makelplot_all_status(df1, df2, df3, df4):\n",
    "\n",
    "    bars = np.ones(4)-0.5\n",
    "\n",
    "    arr = np.ones((4, df1['quality'].size))\n",
    "    for df in [df1, df2, df3, df4]:\n",
    "        for _n, name in enumerate([\"RZ\", \"RU\", \"RV\", \"RW\"]):\n",
    "            arr[_n] *= df['quality']\n",
    "\n",
    "    time_scaling = 1/86400\n",
    "\n",
    "    cmap = matplotlib.colors.ListedColormap(['darkred', 'green'])\n",
    "\n",
    "    fig = plt.figure(figsize=(15, 4))\n",
    "\n",
    "    c = plt.pcolormesh(df.times_utc_sec*time_scaling, names, arr, cmap=cmap, rasterized=True, alpha=0.8)\n",
    "\n",
    "    for _k, bar in enumerate(bars):\n",
    "        plt.axhline(bar+_k, color=\"k\", alpha=0.5)\n",
    "\n",
    "    plt.xlabel(\"Time (days)\")\n",
    "\n",
    "    plt.title(f\"Quality Status of R{config['ring']} on {config['tbeg'].date}\")\n",
    "\n",
    "    plt.show();\n",
    "    return fig\n",
    "\n",
    "\n",
    "__makelplot_all_status(statusZ, statusU, statusV, statusU)"
   ]
  },
  {
   "cell_type": "code",
   "execution_count": null,
   "id": "50a66ea0-c830-4f6a-8526-ddbe46e555d7",
   "metadata": {},
   "outputs": [],
   "source": []
  }
 ],
 "metadata": {
  "kernelspec": {
   "display_name": "Python 3 (ipykernel)",
   "language": "python",
   "name": "python3"
  },
  "language_info": {
   "codemirror_mode": {
    "name": "ipython",
    "version": 3
   },
   "file_extension": ".py",
   "mimetype": "text/x-python",
   "name": "python",
   "nbconvert_exporter": "python",
   "pygments_lexer": "ipython3",
   "version": "3.10.12"
  }
 },
 "nbformat": 4,
 "nbformat_minor": 5
}
