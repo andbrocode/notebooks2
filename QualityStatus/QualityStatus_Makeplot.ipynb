{
 "cells": [
  {
   "cell_type": "markdown",
   "id": "e9da90cb-d480-4f01-9115-0ba22d9b2c6a",
   "metadata": {
    "tags": []
   },
   "source": [
    "# ROMY Status File"
   ]
  },
  {
   "cell_type": "code",
   "execution_count": 1,
   "id": "5e8ef5e0-37dc-4a1c-a603-49b53fb31dea",
   "metadata": {
    "tags": []
   },
   "outputs": [],
   "source": [
    "import os\n",
    "import sys\n",
    "import numpy as np\n",
    "import matplotlib.pyplot as plt\n",
    "import obspy as obs\n",
    "import matplotlib.colors\n",
    "\n",
    "from pandas import DataFrame, merge\n",
    "from andbro__save_to_pickle import __save_to_pickle"
   ]
  },
  {
   "cell_type": "code",
   "execution_count": 2,
   "id": "e5e75ac2-dabd-4e5a-b663-7d9581266689",
   "metadata": {
    "tags": []
   },
   "outputs": [],
   "source": [
    "if os.uname().nodename == 'lighthouse':\n",
    "    root_path = '/home/andbro/'\n",
    "    data_path = '/home/andbro/kilauea-data/'\n",
    "    archive_path = '/home/andbro/freenas/'\n",
    "    bay_path = '/home/andbro/bay200/'\n",
    "elif os.uname().nodename == 'kilauea':\n",
    "    root_path = '/home/brotzer/'\n",
    "    data_path = '/import/kilauea-data/'\n",
    "    archive_path = '/import/freenas-ffb-01-data/'\n",
    "    bay_path = '/bay200/'\n",
    "elif os.uname().nodename == 'lin-ffb-01':\n",
    "    root_path = '/home/brotzer/'\n",
    "    data_path = '/import/kilauea-data/'\n",
    "    archive_path = '/import/freenas-ffb-01-data/'\n",
    "    bay_path = '/bay200/'"
   ]
  },
  {
   "cell_type": "code",
   "execution_count": 3,
   "id": "d47128f1-31a4-4301-beba-6d2b61152191",
   "metadata": {
    "tags": []
   },
   "outputs": [],
   "source": [
    "from functions.load_beat import __load_beat\n",
    "from functions.load_mlti import __load_mlti\n",
    "from functions.get_mlti_intervals import __get_mlti_intervals"
   ]
  },
  {
   "cell_type": "markdown",
   "id": "4e4bf4dd-b2be-45fc-86fe-ce806f4ace1c",
   "metadata": {
    "tags": []
   },
   "source": [
    "## Configurations"
   ]
  },
  {
   "cell_type": "code",
   "execution_count": 4,
   "id": "bbfcde63-9c9b-426c-a2f3-0e80dc2daa8b",
   "metadata": {
    "tags": []
   },
   "outputs": [],
   "source": [
    "config = {}\n",
    "\n",
    "\n",
    "config['tbeg'] = obs.UTCDateTime(\"2024-01-01\")\n",
    "config['tend'] = obs.UTCDateTime(\"2024-01-31\")\n",
    "# config['tend'] = obs.UTCDateTime(\"2023-09-25\")\n",
    "\n",
    "config['ring'] = \"U\"\n",
    "\n",
    "config['path_to_figures'] = data_path+f\"quality_status/figures/\"\n",
    "\n",
    "config['path_to_data'] = archive_path+f\"temp_archive/\"\n"
   ]
  },
  {
   "cell_type": "markdown",
   "id": "a47ab63a-345f-43b9-835c-0d71ad732018",
   "metadata": {},
   "source": [
    "### Load Status Data"
   ]
  },
  {
   "cell_type": "code",
   "execution_count": 5,
   "id": "05d736e5-4d0d-403e-9bf6-842a055d6183",
   "metadata": {
    "tags": []
   },
   "outputs": [],
   "source": [
    "from functions.load_status import __load_status"
   ]
  },
  {
   "cell_type": "code",
   "execution_count": 6,
   "id": "9f53b60f-7b24-4f06-938d-fdc09080e7bf",
   "metadata": {
    "tags": []
   },
   "outputs": [],
   "source": [
    "statusU = __load_status(config['tbeg'], config['tend'], \"U\", config['path_to_data'])"
   ]
  },
  {
   "cell_type": "code",
   "execution_count": 7,
   "id": "3ade8be5-5892-4ff7-944b-99196350b5c6",
   "metadata": {
    "tags": []
   },
   "outputs": [
    {
     "data": {
      "text/plain": [
       "33222"
      ]
     },
     "execution_count": 7,
     "metadata": {},
     "output_type": "execute_result"
    }
   ],
   "source": [
    "statusU[statusU.quality.eq(0)].size"
   ]
  },
  {
   "cell_type": "code",
   "execution_count": 8,
   "id": "92dc41c7-16da-4cf6-9f55-f91dd175c646",
   "metadata": {
    "tags": []
   },
   "outputs": [
    {
     "data": {
      "text/plain": [
       "221298"
      ]
     },
     "execution_count": 8,
     "metadata": {},
     "output_type": "execute_result"
    }
   ],
   "source": [
    "statusU[statusU.quality.eq(1)].size"
   ]
  },
  {
   "cell_type": "code",
   "execution_count": 9,
   "id": "0d0144a5-09a8-4d5d-b5b8-7e4afa7e1eeb",
   "metadata": {
    "tags": []
   },
   "outputs": [],
   "source": [
    "# statusU[statusU.times_utc > obs.UTCDateTime(\"2023-09-06 23:59\")]"
   ]
  },
  {
   "cell_type": "code",
   "execution_count": 10,
   "id": "3e81b702-8c12-455a-a7f3-c150e8901a35",
   "metadata": {
    "tags": []
   },
   "outputs": [
    {
     "name": "stdout",
     "output_type": "stream",
     "text": [
      " -> no such file: 2024/BW/RV/RV_2024-01-16_status.pkl\n",
      " -> no such file: 2024/BW/RV/RV_2024-01-17_status.pkl\n",
      " -> no such file: 2024/BW/RV/RV_2024-01-18_status.pkl\n",
      " -> no such file: 2024/BW/RV/RV_2024-01-19_status.pkl\n",
      " -> no such file: 2024/BW/RV/RV_2024-01-20_status.pkl\n",
      " -> no such file: 2024/BW/RV/RV_2024-01-21_status.pkl\n",
      " -> no such file: 2024/BW/RV/RV_2024-01-22_status.pkl\n",
      " -> no such file: 2024/BW/RV/RV_2024-01-23_status.pkl\n",
      " -> no such file: 2024/BW/RV/RV_2024-01-24_status.pkl\n",
      " -> no such file: 2024/BW/RV/RV_2024-01-25_status.pkl\n",
      " -> no such file: 2024/BW/RV/RV_2024-01-26_status.pkl\n",
      " -> no such file: 2024/BW/RV/RV_2024-01-27_status.pkl\n",
      " -> no such file: 2024/BW/RV/RV_2024-01-28_status.pkl\n",
      " -> no such file: 2024/BW/RV/RV_2024-01-29_status.pkl\n",
      " -> no such file: 2024/BW/RV/RV_2024-01-30_status.pkl\n"
     ]
    }
   ],
   "source": [
    "statusV = __load_status(config['tbeg'], config['tend'], \"V\", config['path_to_data'])"
   ]
  },
  {
   "cell_type": "code",
   "execution_count": 11,
   "id": "9f5bc7d9-27ae-45c8-a125-4fee0c73ba31",
   "metadata": {
    "tags": []
   },
   "outputs": [],
   "source": [
    "statusZ = __load_status(config['tbeg'], config['tend'], \"Z\", config['path_to_data'])"
   ]
  },
  {
   "cell_type": "markdown",
   "id": "881e2179-430b-4668-bfda-42cdc2a34fd1",
   "metadata": {},
   "source": [
    "### Plotting"
   ]
  },
  {
   "cell_type": "code",
   "execution_count": 12,
   "id": "5b3569a6-0b5b-446b-9c73-969d5151170a",
   "metadata": {
    "tags": []
   },
   "outputs": [],
   "source": [
    "statusU = statusU.sort_values(by=\"times_utc\")\n",
    "statusV = statusV.sort_values(by=\"times_utc\")\n",
    "statusZ = statusZ.sort_values(by=\"times_utc\")"
   ]
  },
  {
   "cell_type": "code",
   "execution_count": 13,
   "id": "29790e7a-a9e2-4ff7-b379-1a02c9f72fee",
   "metadata": {
    "tags": []
   },
   "outputs": [],
   "source": [
    "def __makelplot_single_status(df, ring):\n",
    "\n",
    "    names = [\"quality\", \"fsagnac\", \"mlti\", \"ac_threshold\", \"dc_threshold\"]\n",
    "    bars = np.ones(len(names))-0.5\n",
    "\n",
    "    arr = np.ones((len(names), df['quality'].size))\n",
    "\n",
    "    for _n, name in enumerate(names):\n",
    "        arr[_n] *= df[name]\n",
    "\n",
    "    time_scaling = 1\n",
    "\n",
    "    cmap = matplotlib.colors.ListedColormap(['darkred', 'green'])\n",
    "    cmap.set_bad(\"w\")\n",
    "\n",
    "    font = 12\n",
    "\n",
    "    fig, ax = plt.subplots(1, 1, figsize=(15, 4))\n",
    "\n",
    "    c = ax.pcolormesh(df.times_utc_sec*time_scaling, names, arr, cmap=cmap, rasterized=False, alpha=0.8)\n",
    "\n",
    "    for _k, bar in enumerate(bars):\n",
    "        ax.axhline(bar+_k, color=\"w\", alpha=0.8, lw=2)\n",
    "\n",
    "    # ax.set_xlabel(\"Time (days)\")\n",
    "\n",
    "    ax.set_title(f\"Quality Status of R{ring}\")\n",
    "\n",
    "    ref_date = df.times_utc.iloc[0]\n",
    "    tcks = ax.get_xticks()\n",
    "    tcklbls = [str((obs.UTCDateTime(ref_date)+t).date) for t in tcks]\n",
    "    ax.set_xticklabels(tcklbls)\n",
    "\n",
    "    ax.tick_params(axis='y', labelsize=font)\n",
    "\n",
    "    ax.spines['top'].set_visible(False)\n",
    "    ax.spines['right'].set_visible(False)\n",
    "\n",
    "    plt.show();\n",
    "    return fig"
   ]
  },
  {
   "cell_type": "code",
   "execution_count": 14,
   "id": "a1c2870e-d71d-49dd-b2a7-f129edcde953",
   "metadata": {
    "tags": []
   },
   "outputs": [
    {
     "name": "stderr",
     "output_type": "stream",
     "text": [
      "/tmp/ipykernel_1864657/641221408.py:32: UserWarning: set_ticklabels() should only be used with a fixed number of ticks, i.e. after set_ticks() or using a FixedLocator.\n",
      "  ax.set_xticklabels(tcklbls)\n"
     ]
    },
    {
     "data": {
      "image/png": "[encoded data removed]",
      "text/plain": [
       "<Figure size 1500x400 with 1 Axes>"
      ]
     },
     "metadata": {},
     "output_type": "display_data"
    },
    {
     "name": "stderr",
     "output_type": "stream",
     "text": [
      "/tmp/ipykernel_1864657/641221408.py:32: UserWarning: set_ticklabels() should only be used with a fixed number of ticks, i.e. after set_ticks() or using a FixedLocator.\n",
      "  ax.set_xticklabels(tcklbls)\n"
     ]
    },
    {
     "data": {
      "image/png": "[encoded data removed]",
      "text/plain": [
       "<Figure size 1500x400 with 1 Axes>"
      ]
     },
     "metadata": {},
     "output_type": "display_data"
    },
    {
     "name": "stderr",
     "output_type": "stream",
     "text": [
      "/tmp/ipykernel_1864657/641221408.py:32: UserWarning: set_ticklabels() should only be used with a fixed number of ticks, i.e. after set_ticks() or using a FixedLocator.\n",
      "  ax.set_xticklabels(tcklbls)\n"
     ]
    },
    {
     "data": {
      "image/png": "[encoded data removed]",
      "text/plain": [
       "<Figure size 1500x400 with 1 Axes>"
      ]
     },
     "metadata": {},
     "output_type": "display_data"
    }
   ],
   "source": [
    "fig = __makelplot_single_status(statusU, \"U\")\n",
    "\n",
    "fig = __makelplot_single_status(statusV, \"V\")\n",
    "\n",
    "fig = __makelplot_single_status(statusZ, \"Z\")\n",
    "\n",
    "\n",
    "# print(f\" -> stored: {config['path_to_figures']}R{config['ring']}_{config['tbeg'].date}_status.png\")\n",
    "# fig.savefig(config['path_to_figures']+f\"R{config['ring']}_{config['tbeg'].date}_status.png\", format=\"png\", dpi=100, bbox_inches='tight')"
   ]
  },
  {
   "cell_type": "code",
   "execution_count": null,
   "id": "4d28429b-21cc-40a9-95e5-181b2a6fada2",
   "metadata": {
    "tags": []
   },
   "outputs": [],
   "source": []
  },
  {
   "cell_type": "code",
   "execution_count": null,
   "id": "f55260d3-a116-46ca-9d0e-9b6015344555",
   "metadata": {
    "tags": []
   },
   "outputs": [],
   "source": []
  },
  {
   "cell_type": "code",
   "execution_count": 15,
   "id": "479c7ead-0f68-4857-8863-4f6b1ea74832",
   "metadata": {
    "tags": []
   },
   "outputs": [],
   "source": [
    "## create sub-frames\n",
    "statusZ_mod = statusZ[['times_utc','quality']]\n",
    "statusU_mod = statusU[['times_utc','quality']]\n",
    "statusV_mod = statusV[['times_utc','quality']]\n",
    "\n",
    "## remove NaN from times\n",
    "statusZ_mod = statusZ_mod.dropna(subset=\"times_utc\").reset_index()\n",
    "statusV_mod = statusV_mod.dropna(subset=\"times_utc\").reset_index()\n",
    "statusU_mod = statusU_mod.dropna(subset=\"times_utc\").reset_index()\n",
    "\n",
    "# statusZ_mod.shape, statusU_mod.shape, statusV_mod.shape\n",
    "\n",
    "## make times all to string objects\n",
    "statusZ_mod['times_utc'] = statusZ_mod.times_utc.astype(str)\n",
    "statusU_mod['times_utc'] = statusU_mod.times_utc.astype(str)\n",
    "statusV_mod['times_utc'] = statusV_mod.times_utc.astype(str)"
   ]
  },
  {
   "cell_type": "code",
   "execution_count": 16,
   "id": "a982ed93-91f7-460a-87b6-55ef610d213b",
   "metadata": {
    "tags": []
   },
   "outputs": [
    {
     "name": "stdout",
     "output_type": "stream",
     "text": [
      "       index                    times_utc  quality\n",
      "0          3  2024-01-01T00:00:30.000000Z      1.0\n",
      "1          4  2024-01-01T00:01:30.000000Z      1.0\n",
      "2          5  2024-01-01T00:02:30.000000Z      1.0\n",
      "3          6  2024-01-01T00:03:30.000000Z      1.0\n",
      "4          7  2024-01-01T00:04:30.000000Z      1.0\n",
      "...      ...                          ...      ...\n",
      "42115   1438  2024-01-30T23:55:30.000000Z      1.0\n",
      "42116   1439  2024-01-30T23:56:30.000000Z      1.0\n",
      "42117      0  2024-01-30T23:57:30.000000Z      1.0\n",
      "42118      1  2024-01-30T23:58:30.000000Z      1.0\n",
      "42119      2  2024-01-30T23:59:30.000000Z      1.0\n",
      "\n",
      "[42120 rows x 3 columns]\n",
      "       index_x                    times_utc  quality_x  index_y  quality_y\n",
      "0          3.0  2024-01-01T00:00:30.000000Z        1.0      3.0        1.0\n",
      "1          4.0  2024-01-01T00:01:30.000000Z        1.0      4.0        1.0\n",
      "2          5.0  2024-01-01T00:02:30.000000Z        1.0      5.0        1.0\n",
      "3          6.0  2024-01-01T00:03:30.000000Z        1.0      6.0        1.0\n",
      "4          7.0  2024-01-01T00:04:30.000000Z        1.0      7.0        1.0\n",
      "...        ...                          ...        ...      ...        ...\n",
      "42295      NaN  2024-01-06T02:52:30.000000Z        NaN    175.0        1.0\n",
      "42296      NaN  2024-01-06T02:53:30.000000Z        NaN    176.0        1.0\n",
      "42297      NaN  2024-01-06T02:54:30.000000Z        NaN    177.0        1.0\n",
      "42298      NaN  2024-01-06T02:55:30.000000Z        NaN    178.0        1.0\n",
      "42299      NaN  2024-01-06T02:56:30.000000Z        NaN    179.0        1.0\n",
      "\n",
      "[42300 rows x 5 columns]\n",
      "       index_x                    times_utc  quality_x  index_y  quality_y  \\\n",
      "0          3.0  2024-01-01T00:00:30.000000Z        1.0      3.0        1.0   \n",
      "1          4.0  2024-01-01T00:01:30.000000Z        1.0      4.0        1.0   \n",
      "2          5.0  2024-01-01T00:02:30.000000Z        1.0      5.0        1.0   \n",
      "3          6.0  2024-01-01T00:03:30.000000Z        1.0      6.0        1.0   \n",
      "4          7.0  2024-01-01T00:04:30.000000Z        1.0      7.0        1.0   \n",
      "...        ...                          ...        ...      ...        ...   \n",
      "43015      NaN  2024-01-17T11:52:30.000000Z        NaN      NaN        NaN   \n",
      "43016      NaN  2024-01-17T11:53:30.000000Z        NaN      NaN        NaN   \n",
      "43017      NaN  2024-01-17T11:54:30.000000Z        NaN      NaN        NaN   \n",
      "43018      NaN  2024-01-17T11:55:30.000000Z        NaN      NaN        NaN   \n",
      "43019      NaN  2024-01-17T11:56:30.000000Z        NaN      NaN        NaN   \n",
      "\n",
      "       index  quality  \n",
      "0        3.0      1.0  \n",
      "1        4.0      1.0  \n",
      "2        5.0      1.0  \n",
      "3        6.0      1.0  \n",
      "4        7.0      1.0  \n",
      "...      ...      ...  \n",
      "43015  712.0      NaN  \n",
      "43016  713.0      NaN  \n",
      "43017  714.0      NaN  \n",
      "43018  715.0      NaN  \n",
      "43019  716.0      NaN  \n",
      "\n",
      "[43020 rows x 7 columns]\n"
     ]
    }
   ],
   "source": [
    "## create new frame with all rings and their quality\n",
    "df_new = statusZ_mod.copy()\n",
    "\n",
    "print(df_new)\n",
    "\n",
    "\n",
    "df_new = df_new.merge(statusU_mod, how=\"outer\", on=[\"times_utc\"])\n",
    "\n",
    "print(df_new)\n",
    "\n",
    "df_new = df_new.merge(statusV_mod, how=\"outer\", on=[\"times_utc\"])\n",
    "\n",
    "print(df_new)\n",
    "\n",
    "## drop irrelevant columns\n",
    "df_new.drop(columns=[\"index_x\", \"index_y\", \"index\"], inplace=True)\n",
    "\n",
    "## renaming ...\n",
    "df_new.rename(columns={\"quality_x\":\"RZ\", \"quality_y\":\"RU\", \"quality\":\"RV\"}, inplace=True)\n",
    "\n",
    "## add relative times\n",
    "ref_time = df_new.times_utc.iloc[0]\n",
    "df_new['times_utc_sec'] = np.array([abs(obs.UTCDateTime(ref_time) - obs.UTCDateTime(_t) +30) for _t in df_new.times_utc])\n",
    "\n",
    "## add RW column\n",
    "df_new['RW'] = np.ones(df_new.shape[0])*np.nan\n",
    "\n",
    "## sort all by time\n",
    "df_new.sort_values(by=\"times_utc\", inplace=True)"
   ]
  },
  {
   "cell_type": "code",
   "execution_count": 17,
   "id": "155dea70-2b9d-4d9a-b0f6-a288738ff4c7",
   "metadata": {
    "tags": []
   },
   "outputs": [
    {
     "name": "stderr",
     "output_type": "stream",
     "text": [
      "/tmp/ipykernel_1864657/2099239175.py:52: UserWarning: set_ticklabels() should only be used with a fixed number of ticks, i.e. after set_ticks() or using a FixedLocator.\n",
      "  ax.set_xticklabels(tcklbls)\n"
     ]
    },
    {
     "data": {
      "image/png": "[encoded data removed]",
      "text/plain": [
       "<Figure size 1500x400 with 1 Axes>"
      ]
     },
     "metadata": {},
     "output_type": "display_data"
    }
   ],
   "source": [
    "def __makelplot_all_status(df):\n",
    "\n",
    "    names = [\"RZ\", \"RU\", \"RV\", \"RW\"]\n",
    "\n",
    "    ## make statistics\n",
    "    df_stats = DataFrame(columns=[\"ring\", \"R_0\", \"R_1\", \"R_nan\", \"R_N\", \"R_0_p\", \"R_1_p\", \"R_nan_p\"])\n",
    "\n",
    "    R_0, R_1, R_nan = np.zeros(len(names)), np.zeros(len(names)), np.zeros(len(names))\n",
    "    for _n, k in enumerate(names):\n",
    "\n",
    "        R_0 = df_new[k][df_new[k] == 0].size\n",
    "        R_1 = df_new[k][df_new[k] == 1].size\n",
    "        R_nan = df_new[k][df_new[k].isnull()].size\n",
    "        R_N = df_new[k].size\n",
    "\n",
    "        R_0_p = round(R_0/R_N*100, 2)\n",
    "        R_1_p = round(R_1/R_N*100, 2 )\n",
    "        R_nan_p = round(R_nan/R_N*100, 2)\n",
    "\n",
    "        df_stats.loc[len(df_stats)] = [k, R_0, R_1, R_nan, R_N, R_0_p, R_1_p, R_nan_p]\n",
    "\n",
    "\n",
    "    bars = np.ones(4)-0.5\n",
    "\n",
    "    arr = np.ones((4, df.shape[0]))\n",
    "\n",
    "    for _n, name in enumerate(names):\n",
    "        arr[_n] *= df[name]\n",
    "\n",
    "    time_scaling = 1\n",
    "\n",
    "    cmap = matplotlib.colors.ListedColormap(['darkred', 'green'])\n",
    "    cmap.set_bad(\"w\")\n",
    "\n",
    "    font = 12\n",
    "\n",
    "    fig, ax = plt.subplots(1, 1, figsize=(15, 4))\n",
    "\n",
    "    c = ax.pcolormesh(df.times_utc_sec*time_scaling, names, arr, cmap=cmap, rasterized=True, alpha=0.8)\n",
    "\n",
    "    for _k, bar in enumerate(bars):\n",
    "        ax.axhline(bar+_k, color=\"w\", alpha=0.8, lw=2)\n",
    "\n",
    "    ax.set_xlim(left=0)\n",
    "\n",
    "    ax.set_title(f\"Quality Status [ {config['tbeg'].date} - {config['tend'].date} ]\")\n",
    "\n",
    "    ## add dates for x-axis\n",
    "    ref_date = df.times_utc.iloc[0]\n",
    "    tcks = ax.get_xticks()\n",
    "    tcklbls = [str((obs.UTCDateTime(ref_date)+t).date) for t in tcks]\n",
    "    ax.set_xticklabels(tcklbls)\n",
    "\n",
    "    ax.tick_params(axis='y', labelsize=font)\n",
    "    ax.tick_params(axis='x', labelsize=font-2)\n",
    "\n",
    "    ax.spines['top'].set_visible(False)\n",
    "    ax.spines['right'].set_visible(False)\n",
    "\n",
    "    plt.show();\n",
    "    return fig\n",
    "\n",
    "fig = __makelplot_all_status(df_new);\n",
    "\n",
    "fig.savefig(config['path_to_figures']+f\"overview_timeline_{config['tbeg'].date}_{config['tend'].date}.png\", format=\"png\", dpi=150, bbox_inches='tight')\n"
   ]
  },
  {
   "cell_type": "code",
   "execution_count": null,
   "id": "637dff9e-5f01-4569-a5c1-a89742da6a7d",
   "metadata": {},
   "outputs": [],
   "source": []
  },
  {
   "cell_type": "code",
   "execution_count": 18,
   "id": "970d0c93-cd9e-4e3c-a53f-d6d8df8a8332",
   "metadata": {
    "tags": []
   },
   "outputs": [
    {
     "data": {
      "text/html": [
       "<div>\n",
       "<style scoped>\n",
       "    .dataframe tbody tr th:only-of-type {\n",
       "        vertical-align: middle;\n",
       "    }\n",
       "\n",
       "    .dataframe tbody tr th {\n",
       "        vertical-align: top;\n",
       "    }\n",
       "\n",
       "    .dataframe thead th {\n",
       "        text-align: right;\n",
       "    }\n",
       "</style>\n",
       "<table border=\"1\" class=\"dataframe\">\n",
       "  <thead>\n",
       "    <tr style=\"text-align: right;\">\n",
       "      <th></th>\n",
       "      <th>ring</th>\n",
       "      <th>R_0</th>\n",
       "      <th>R_1</th>\n",
       "      <th>R_nan</th>\n",
       "      <th>R_N</th>\n",
       "      <th>R_0_p</th>\n",
       "      <th>R_1_p</th>\n",
       "      <th>R_nan_p</th>\n",
       "    </tr>\n",
       "  </thead>\n",
       "  <tbody>\n",
       "    <tr>\n",
       "      <th>0</th>\n",
       "      <td>RZ</td>\n",
       "      <td>3847</td>\n",
       "      <td>38273</td>\n",
       "      <td>900</td>\n",
       "      <td>43020</td>\n",
       "      <td>8.94</td>\n",
       "      <td>88.97</td>\n",
       "      <td>2.09</td>\n",
       "    </tr>\n",
       "    <tr>\n",
       "      <th>1</th>\n",
       "      <td>RU</td>\n",
       "      <td>4746</td>\n",
       "      <td>31614</td>\n",
       "      <td>6660</td>\n",
       "      <td>43020</td>\n",
       "      <td>11.03</td>\n",
       "      <td>73.49</td>\n",
       "      <td>15.48</td>\n",
       "    </tr>\n",
       "    <tr>\n",
       "      <th>2</th>\n",
       "      <td>RV</td>\n",
       "      <td>13685</td>\n",
       "      <td>6112</td>\n",
       "      <td>23223</td>\n",
       "      <td>43020</td>\n",
       "      <td>31.81</td>\n",
       "      <td>14.21</td>\n",
       "      <td>53.98</td>\n",
       "    </tr>\n",
       "    <tr>\n",
       "      <th>3</th>\n",
       "      <td>RW</td>\n",
       "      <td>0</td>\n",
       "      <td>0</td>\n",
       "      <td>43020</td>\n",
       "      <td>43020</td>\n",
       "      <td>0.00</td>\n",
       "      <td>0.00</td>\n",
       "      <td>100.00</td>\n",
       "    </tr>\n",
       "  </tbody>\n",
       "</table>\n",
       "</div>"
      ],
      "text/plain": [
       "  ring    R_0    R_1  R_nan    R_N  R_0_p  R_1_p  R_nan_p\n",
       "0   RZ   3847  38273    900  43020   8.94  88.97     2.09\n",
       "1   RU   4746  31614   6660  43020  11.03  73.49    15.48\n",
       "2   RV  13685   6112  23223  43020  31.81  14.21    53.98\n",
       "3   RW      0      0  43020  43020   0.00   0.00   100.00"
      ]
     },
     "execution_count": 18,
     "metadata": {},
     "output_type": "execute_result"
    }
   ],
   "source": [
    "df_stats = DataFrame(columns=[\"ring\", \"R_0\", \"R_1\", \"R_nan\", \"R_N\", \"R_0_p\", \"R_1_p\", \"R_nan_p\"])\n",
    "\n",
    "rings = ['RZ', 'RU', 'RV', 'RW']\n",
    "\n",
    "R_0, R_1, R_nan = np.zeros(len(rings)), np.zeros(len(rings)), np.zeros(len(rings))\n",
    "for _n, k in enumerate(rings):\n",
    "\n",
    "    R_0 = df_new[k][df_new[k] == 0].size\n",
    "    R_1 = df_new[k][df_new[k] == 1].size\n",
    "    R_nan = df_new[k][df_new[k].isnull()].size\n",
    "    R_N = df_new[k].size\n",
    "\n",
    "    R_0_p = round(R_0/R_N*100,2)\n",
    "    R_1_p = round(R_1/R_N*100,2 )\n",
    "    R_nan_p = round(R_nan/R_N*100, 2)\n",
    "\n",
    "    df_stats.loc[len(df_stats)] = [k, R_0, R_1, R_nan, R_N, R_0_p, R_1_p, R_nan_p]\n",
    "\n",
    "df_stats"
   ]
  },
  {
   "cell_type": "code",
   "execution_count": 19,
   "id": "4bf2bcb8-769a-428f-8b97-6f425680c4a5",
   "metadata": {
    "tags": []
   },
   "outputs": [
    {
     "name": "stderr",
     "output_type": "stream",
     "text": [
      "/tmp/ipykernel_1864657/2881923947.py:24: UserWarning: set_ticklabels() should only be used with a fixed number of ticks, i.e. after set_ticks() or using a FixedLocator.\n",
      "  ax.set_yticklabels([f'{int(x)}%' for x in vals])\n"
     ]
    },
    {
     "data": {
      "image/png": "[encoded data removed]",
      "text/plain": [
       "<Figure size 800x500 with 1 Axes>"
      ]
     },
     "metadata": {},
     "output_type": "display_data"
    }
   ],
   "source": [
    "def __makeplot_statistics():\n",
    "\n",
    "    barWidth = 0.85\n",
    "    r = range(df_stats.ring.size)\n",
    "\n",
    "    fig, ax = plt.subplots(1, 1, figsize=(8,5))\n",
    "\n",
    "    ax.bar(r, df_stats.R_0_p,\n",
    "            color='darkred', edgecolor='k', width=barWidth, label=\"Bad Quality\")\n",
    "\n",
    "    ax.bar(r, df_stats.R_1_p, bottom=df_stats.R_0_p,\n",
    "            color='green', edgecolor='k', width=barWidth, label=\"Good Quality\")\n",
    "\n",
    "    ax.bar(r, df_stats.R_nan_p, bottom=[i+j for i,j in zip(df_stats.R_0_p, df_stats.R_1_p)],\n",
    "            color='white', edgecolor='k', width=barWidth, label=\"NaN\")\n",
    "\n",
    "    ax.set_xticks(r, df_stats.ring)\n",
    "\n",
    "    ax.legend(loc='upper left', bbox_to_anchor=(0.15, 1.1), ncol=3)\n",
    "\n",
    "    ax.set_title(f\"Quality Statistics [ {config['tbeg'].date} - {config['tend'].date} ]\", pad=35)\n",
    "\n",
    "    vals = ax.get_yticks()\n",
    "    ax.set_yticklabels([f'{int(x)}%' for x in vals])\n",
    "\n",
    "    ax.spines['top'].set_visible(False)\n",
    "    ax.spines['right'].set_visible(False)\n",
    "\n",
    "    for c in ax.containers:\n",
    "\n",
    "        # Optional: if the segment is small or 0, customize the labels\n",
    "        labels = [round(v.get_height(), 2) if v.get_height() > 0 else '' for v in c]\n",
    "\n",
    "        # remove the labels parameter if it's not needed for customized labels\n",
    "        plt.bar_label(c, labels=labels, label_type='center')\n",
    "\n",
    "    plt.show();\n",
    "    return fig\n",
    "\n",
    "fig = __makeplot_statistics()\n",
    "\n",
    "fig.savefig(config['path_to_figures']+f\"overview_percent_{config['tbeg'].date}_{config['tend'].date}.png\", format=\"png\", dpi=150, bbox_inches='tight')\n"
   ]
  },
  {
   "cell_type": "code",
   "execution_count": null,
   "id": "b2111da1-242b-4bd7-bf0b-64bb41114b39",
   "metadata": {},
   "outputs": [],
   "source": []
  },
  {
   "cell_type": "code",
   "execution_count": null,
   "id": "9a5ecd30-0f44-4a20-95ef-569082112965",
   "metadata": {},
   "outputs": [],
   "source": []
  }
 ],
 "metadata": {
  "kernelspec": {
   "display_name": "Python 3 (ipykernel)",
   "language": "python",
   "name": "python3"
  },
  "language_info": {
   "codemirror_mode": {
    "name": "ipython",
    "version": 3
   },
   "file_extension": ".py",
   "mimetype": "text/x-python",
   "name": "python",
   "nbconvert_exporter": "python",
   "pygments_lexer": "ipython3",
   "version": "3.9.16"
  }
 },
 "nbformat": 4,
 "nbformat_minor": 5
}
