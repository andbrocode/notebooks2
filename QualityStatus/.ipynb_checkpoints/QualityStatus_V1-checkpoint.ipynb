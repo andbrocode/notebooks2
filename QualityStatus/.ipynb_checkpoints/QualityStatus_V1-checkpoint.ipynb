{
 "cells": [
  {
   "cell_type": "markdown",
   "id": "e9da90cb-d480-4f01-9115-0ba22d9b2c6a",
   "metadata": {
    "tags": []
   },
   "source": [
    "# ROMY Status File"
   ]
  },
  {
   "cell_type": "code",
   "execution_count": 1,
   "id": "5e8ef5e0-37dc-4a1c-a603-49b53fb31dea",
   "metadata": {
    "tags": []
   },
   "outputs": [],
   "source": [
    "import os\n",
    "import sys\n",
    "import numpy as np\n",
    "import matplotlib.pyplot as plt\n",
    "import obspy as obs\n",
    "import matplotlib.colors\n",
    "\n",
    "from pandas import DataFrame\n",
    "from andbro__save_to_pickle import __save_to_pickle"
   ]
  },
  {
   "cell_type": "code",
   "execution_count": 2,
   "id": "e5e75ac2-dabd-4e5a-b663-7d9581266689",
   "metadata": {
    "tags": []
   },
   "outputs": [],
   "source": [
    "if os.uname().nodename == 'lighthouse':\n",
    "    root_path = '/home/andbro/'\n",
    "    data_path = '/home/andbro/kilauea-data/'\n",
    "    archive_path = '/home/andbro/freenas/'\n",
    "    bay_path = '/home/andbro/bay200/'\n",
    "elif os.uname().nodename == 'kilauea':\n",
    "    root_path = '/home/brotzer/'\n",
    "    data_path = '/import/kilauea-data/'\n",
    "    archive_path = '/import/freenas-ffb-01-data/'\n",
    "    bay_path = '/bay200/'\n",
    "elif os.uname().nodename == 'lin-ffb-01':\n",
    "    root_path = '/home/brotzer/'\n",
    "    data_path = '/import/kilauea-data/'\n",
    "    archive_path = '/import/freenas-ffb-01-data/'\n",
    "    bay_path = '/bay200/'"
   ]
  },
  {
   "cell_type": "code",
   "execution_count": 3,
   "id": "d47128f1-31a4-4301-beba-6d2b61152191",
   "metadata": {
    "tags": []
   },
   "outputs": [],
   "source": [
    "from functions.load_beat import __load_beat\n",
    "from functions.load_mlti import __load_mlti\n",
    "from functions.get_mlti_intervals import __get_mlti_intervals"
   ]
  },
  {
   "cell_type": "markdown",
   "id": "4e4bf4dd-b2be-45fc-86fe-ce806f4ace1c",
   "metadata": {
    "tags": []
   },
   "source": [
    "## Configurations"
   ]
  },
  {
   "cell_type": "code",
   "execution_count": 17,
   "id": "bbfcde63-9c9b-426c-a2f3-0e80dc2daa8b",
   "metadata": {
    "tags": []
   },
   "outputs": [],
   "source": [
    "config = {}\n",
    "\n",
    "\n",
    "# config['tbeg'] = obs.UTCDateTime(sys.argv[1])\n",
    "# config['tend'] = obs.UTCDateTime(sys.argv[1])+86400\n",
    "\n",
    "config['tbeg'] = obs.UTCDateTime(\"2023-09-01\")\n",
    "config['tend'] = obs.UTCDateTime(\"2023-09-02\")\n",
    "\n",
    "config['ring'] = \"U\"\n",
    "\n",
    "config['path_to_autodata'] = archive_path+f\"romy_autodata/\"\n",
    "\n",
    "config['path_to_figures'] = archive_path+f\"romy_plots/{config['tbeg'].year}/R{config['ring']}/status/\"\n",
    "\n",
    "config['path_to_output'] = archive_path+f\"temp_archive/{config['tbeg'].year}/BW/R{config['ring']}/\"\n",
    "\n",
    "config['fsagnac_nominal'] = 303\n",
    "\n",
    "config['DC_threshold'] = 0.1\n",
    "\n",
    "config['AC_threshold'] = 0.3\n"
   ]
  },
  {
   "cell_type": "markdown",
   "id": "dbd0d6c9-5827-4153-bea0-75be1ec862c9",
   "metadata": {},
   "source": [
    "### Load MLTI Logs"
   ]
  },
  {
   "cell_type": "code",
   "execution_count": 18,
   "id": "68b9ef82-dd8a-44e4-b46d-7f5aad2f6dad",
   "metadata": {
    "tags": []
   },
   "outputs": [],
   "source": [
    "mlti_log = __load_mlti(config['tbeg'], config['tend'], config['ring'], archive_path)\n",
    "\n",
    "mlti_t1, mlti_t2 = __get_mlti_intervals(mlti_log.time_utc, time_delta=100)"
   ]
  },
  {
   "cell_type": "markdown",
   "id": "bf807894-683a-4b58-9bd4-a84e6e8539aa",
   "metadata": {},
   "source": [
    "### Load Beat Data"
   ]
  },
  {
   "cell_type": "code",
   "execution_count": 19,
   "id": "3e81b702-8c12-455a-a7f3-c150e8901a35",
   "metadata": {
    "tags": []
   },
   "outputs": [],
   "source": [
    "beat = __load_beat(config['tbeg'], config['tend'], config['ring'], config['path_to_autodata'])"
   ]
  },
  {
   "cell_type": "code",
   "execution_count": null,
   "id": "9f5bc7d9-27ae-45c8-a125-4fee0c73ba31",
   "metadata": {
    "tags": []
   },
   "outputs": [],
   "source": []
  },
  {
   "cell_type": "markdown",
   "id": "05ecb064-bb59-413a-8f84-11da1ec78615",
   "metadata": {
    "tags": []
   },
   "source": [
    "### Define Variables"
   ]
  },
  {
   "cell_type": "code",
   "execution_count": 7,
   "id": "9cf45025-6b20-435a-bc76-8e922809f947",
   "metadata": {
    "tags": []
   },
   "outputs": [],
   "source": [
    "status = DataFrame()\n",
    "\n",
    "status['times_utc'] = beat.times_utc\n",
    "status['times_utc_sec'] = beat.times_utc_sec\n",
    "\n",
    "N = status.shape[0]\n",
    "\n",
    "quality = np.ones(N)\n",
    "fsagnac = np.ones(N)\n",
    "mlti = np.zeros(N)\n",
    "dc_threshold = np.zeros(N)\n",
    "ac_threshold = np.zeros(N)"
   ]
  },
  {
   "cell_type": "markdown",
   "id": "a6d7f853-211a-4237-ba72-ae66eabc7147",
   "metadata": {
    "tags": []
   },
   "source": [
    "## Determine Status"
   ]
  },
  {
   "cell_type": "code",
   "execution_count": 8,
   "id": "798e4b1d-55fe-4778-9aea-572ef84c97a4",
   "metadata": {
    "tags": []
   },
   "outputs": [
    {
     "name": "stdout",
     "output_type": "stream",
     "text": [
      "-> store: /import/freenas-ffb-01-data/temp_archive/2023/BW/RU/RU_2023-09-21_status.pkl\n",
      "\n",
      " -> created:  /import/freenas-ffb-01-data/temp_archive/2023/BW/RU/RU_2023-09-21_status.pkl\n"
     ]
    }
   ],
   "source": [
    "idx_mlti = 0\n",
    "\n",
    "for idx in range(beat.shape[0]):\n",
    "\n",
    "    _time = obs.UTCDateTime(status.times_utc.iloc[idx])\n",
    "\n",
    "    ## check if time conincides with MLTI\n",
    "    # print(_time, mlti_t1[idx_mlti], mlti_t2[idx_mlti])\n",
    "    if _time >= mlti_t1[idx_mlti] and _time <= mlti_t2[idx_mlti]:\n",
    "        quality[idx] = 0\n",
    "        mlti[idx] = 1\n",
    "\n",
    "    ## update mlti interval\n",
    "    if _time > mlti_t2[idx_mlti] and idx_mlti < len(mlti_t1)-1:\n",
    "        idx_mlti += 1\n",
    "\n",
    "    if beat.fj.iloc[idx] < config['fsagnac_nominal'] - 0.3 or beat.fj.iloc[idx] > config['fsagnac_nominal'] + 0.3:\n",
    "        quality[idx] = 0\n",
    "        fsagnac[idx] = 0\n",
    "\n",
    "    if beat.dc_z.iloc[idx] < config['DC_threshold']:\n",
    "        quality[idx] = 0\n",
    "        dc_threshold[idx] = 1\n",
    "\n",
    "    if beat.ac_z.iloc[idx] < config['AC_threshold']:\n",
    "        quality[idx] = 0\n",
    "        ac_threshold[idx] = 1\n",
    "\n",
    "\n",
    "status['quality'] = quality\n",
    "status['fsagnac'] = fsagnac\n",
    "status['mlti'] = mlti\n",
    "status['ac_threshold'] = ac_threshold\n",
    "status['dc_threshold'] = dc_threshold\n",
    "\n",
    "\n",
    "## store output to file\n",
    "print(f\"-> store: {config['path_to_output']}R{config['ring']}_{config['tbeg'].date}_status.pkl\")\n",
    "__save_to_pickle(status, config['path_to_output'],f\"R{config['ring']}_{config['tbeg'].date}_status\")\n"
   ]
  },
  {
   "cell_type": "markdown",
   "id": "881e2179-430b-4668-bfda-42cdc2a34fd1",
   "metadata": {},
   "source": [
    "### Plotting"
   ]
  },
  {
   "cell_type": "code",
   "execution_count": 9,
   "id": "2bc7c5d5-64f7-4dd6-9018-c86d2fd31197",
   "metadata": {
    "tags": []
   },
   "outputs": [],
   "source": [
    "arr = np.ones((3, status['quality'].size))\n",
    "\n",
    "arr[0] *= status['quality']\n",
    "arr[1] *= status['fsagnac']\n",
    "arr[2] *= status['mlti']"
   ]
  },
  {
   "cell_type": "code",
   "execution_count": 10,
   "id": "7c77f35a-c916-4606-8ea5-2b4db1ed1961",
   "metadata": {
    "tags": []
   },
   "outputs": [
    {
     "data": {
      "image/png": "[encoded data removed]",
      "text/plain": [
       "<Figure size 1500x400 with 1 Axes>"
      ]
     },
     "metadata": {},
     "output_type": "display_data"
    }
   ],
   "source": [
    "names = [\"quality\", \"fsagnac\", \"mlti\", \"ac_threshold\", \"dc_threshold\"]\n",
    "bars = np.ones(len(names))-0.5\n",
    "\n",
    "arr = np.ones((len(names), status['quality'].size))\n",
    "\n",
    "for _n, name in enumerate(names):\n",
    "    arr[_n] *= status[name]\n",
    "\n",
    "\n",
    "cmap = matplotlib.colors.ListedColormap(['darkred', 'green'])\n",
    "\n",
    "fig = plt.figure(figsize=(15, 4))\n",
    "\n",
    "c = plt.pcolormesh(np.arange(0, arr.shape[1]), names, arr, cmap=cmap, rasterized=True, alpha=0.8)\n",
    "\n",
    "for _k, bar in enumerate(bars):\n",
    "    plt.axhline(bar+_k, color=\"k\", alpha=0.5)\n",
    "\n",
    "plt.xlabel(\"Time (min)\")\n",
    "\n",
    "\n",
    "plt.title(f\"Quality Status of R{config['ring']} on {config['tbeg'].date}\")\n",
    "\n",
    "plt.show();\n",
    "\n",
    "# fig.savefig(config['path_to_figures']+f\"status/VC_BAZ_{t1_t2}_status.png\", format=\"png\", dpi=100, bbox_inches='tight')\n",
    "# print(f\" -> stored: {config['path_to_figures']}status/VC_BAZ_{t1_t2}.png\")\n"
   ]
  },
  {
   "cell_type": "code",
   "execution_count": null,
   "id": "155dea70-2b9d-4d9a-b0f6-a288738ff4c7",
   "metadata": {},
   "outputs": [],
   "source": []
  }
 ],
 "metadata": {
  "kernelspec": {
   "display_name": "Python 3 (ipykernel)",
   "language": "python",
   "name": "python3"
  },
  "language_info": {
   "codemirror_mode": {
    "name": "ipython",
    "version": 3
   },
   "file_extension": ".py",
   "mimetype": "text/x-python",
   "name": "python",
   "nbconvert_exporter": "python",
   "pygments_lexer": "ipython3",
   "version": "3.9.16"
  }
 },
 "nbformat": 4,
 "nbformat_minor": 5
}
