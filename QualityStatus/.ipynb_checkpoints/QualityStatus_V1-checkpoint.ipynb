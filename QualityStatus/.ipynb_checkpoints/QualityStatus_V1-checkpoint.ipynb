{
 "cells": [
  {
   "cell_type": "markdown",
   "id": "e9da90cb-d480-4f01-9115-0ba22d9b2c6a",
   "metadata": {
    "tags": []
   },
   "source": [
    "# ROMY Status File"
   ]
  },
  {
   "cell_type": "code",
   "execution_count": 1,
   "id": "5e8ef5e0-37dc-4a1c-a603-49b53fb31dea",
   "metadata": {
    "tags": []
   },
   "outputs": [],
   "source": [
    "import os\n",
    "import sys\n",
    "import numpy as np\n",
    "import matplotlib.pyplot as plt\n",
    "import obspy as obs\n",
    "import matplotlib.colors\n",
    "\n",
    "from pandas import DataFrame\n",
    "from andbro__save_to_pickle import __save_to_pickle"
   ]
  },
  {
   "cell_type": "code",
   "execution_count": 2,
   "id": "e5e75ac2-dabd-4e5a-b663-7d9581266689",
   "metadata": {
    "tags": []
   },
   "outputs": [],
   "source": [
    "if os.uname().nodename == 'lighthouse':\n",
    "    root_path = '/home/andbro/'\n",
    "    data_path = '/home/andbro/kilauea-data/'\n",
    "    archive_path = '/home/andbro/freenas/'\n",
    "    bay_path = '/home/andbro/bay200/'\n",
    "elif os.uname().nodename == 'kilauea':\n",
    "    root_path = '/home/brotzer/'\n",
    "    data_path = '/import/kilauea-data/'\n",
    "    archive_path = '/import/freenas-ffb-01-data/'\n",
    "    bay_path = '/bay200/'\n",
    "elif os.uname().nodename == 'lin-ffb-01':\n",
    "    root_path = '/home/brotzer/'\n",
    "    data_path = '/import/kilauea-data/'\n",
    "    archive_path = '/import/freenas-ffb-01-data/'\n",
    "    bay_path = '/bay200/'"
   ]
  },
  {
   "cell_type": "code",
   "execution_count": 3,
   "id": "d47128f1-31a4-4301-beba-6d2b61152191",
   "metadata": {
    "tags": []
   },
   "outputs": [],
   "source": [
    "from functions.load_beat import __load_beat\n",
    "from functions.load_mlti import __load_mlti\n",
    "from functions.get_mlti_intervals import __get_mlti_intervals"
   ]
  },
  {
   "cell_type": "markdown",
   "id": "4e4bf4dd-b2be-45fc-86fe-ce806f4ace1c",
   "metadata": {
    "tags": []
   },
   "source": [
    "## Configurations"
   ]
  },
  {
   "cell_type": "code",
   "execution_count": 24,
   "id": "bbfcde63-9c9b-426c-a2f3-0e80dc2daa8b",
   "metadata": {
    "tags": []
   },
   "outputs": [],
   "source": [
    "config = {}\n",
    "\n",
    "\n",
    "# config['tbeg'] = obs.UTCDateTime(sys.argv[1])\n",
    "# config['tend'] = obs.UTCDateTime(sys.argv[1])+86400\n",
    "\n",
    "config['tbeg'] = obs.UTCDateTime(\"2023-09-01\")\n",
    "config['tend'] = obs.UTCDateTime(\"2023-09-04\")\n",
    "\n",
    "config['ring'] = \"Z\"\n",
    "\n",
    "config['path_to_autodata'] = archive_path+f\"romy_autodata/\"\n",
    "\n",
    "config['path_to_figures'] = archive_path+f\"romy_plots/{config['tbeg'].year}/R{config['ring']}/status/\"\n",
    "\n",
    "config['path_to_output'] = archive_path+f\"temp_archive/{config['tbeg'].year}/BW/R{config['ring']}/\"\n",
    "\n",
    "config['fsagnac_rings'] = {\"U\":303, \"V\":447.5, \"W\":447.5, \"Z\":553.5}\n",
    "config['fsagnac_nominal'] = config['fsagnac_rings'][config['ring']]\n",
    "\n",
    "config['DC_threshold'] = 0.1\n",
    "\n",
    "config['AC_threshold'] = 0.3\n"
   ]
  },
  {
   "cell_type": "markdown",
   "id": "dbd0d6c9-5827-4153-bea0-75be1ec862c9",
   "metadata": {},
   "source": [
    "### Load MLTI Logs"
   ]
  },
  {
   "cell_type": "code",
   "execution_count": 95,
   "id": "68b9ef82-dd8a-44e4-b46d-7f5aad2f6dad",
   "metadata": {
    "tags": []
   },
   "outputs": [],
   "source": [
    "mlti_log = __load_mlti(config['tbeg'], config['tend'], config['ring'], archive_path)\n",
    "\n",
    "mlti_t1, mlti_t2 = __get_mlti_intervals(mlti_log.time_utc, time_delta=100)"
   ]
  },
  {
   "cell_type": "markdown",
   "id": "bf807894-683a-4b58-9bd4-a84e6e8539aa",
   "metadata": {},
   "source": [
    "### Load Beat Data"
   ]
  },
  {
   "cell_type": "code",
   "execution_count": 98,
   "id": "3e81b702-8c12-455a-a7f3-c150e8901a35",
   "metadata": {
    "tags": []
   },
   "outputs": [],
   "source": [
    "beat = __load_beat(config['tbeg'], config['tend'], config['ring'], config['path_to_autodata'])"
   ]
  },
  {
   "cell_type": "code",
   "execution_count": 99,
   "id": "9f5bc7d9-27ae-45c8-a125-4fee0c73ba31",
   "metadata": {
    "tags": []
   },
   "outputs": [
    {
     "data": {
      "text/html": [
       "<div>\n",
       "<style scoped>\n",
       "    .dataframe tbody tr th:only-of-type {\n",
       "        vertical-align: middle;\n",
       "    }\n",
       "\n",
       "    .dataframe tbody tr th {\n",
       "        vertical-align: top;\n",
       "    }\n",
       "\n",
       "    .dataframe thead th {\n",
       "        text-align: right;\n",
       "    }\n",
       "</style>\n",
       "<table border=\"1\" class=\"dataframe\">\n",
       "  <thead>\n",
       "    <tr style=\"text-align: right;\">\n",
       "      <th></th>\n",
       "      <th>times_utc</th>\n",
       "      <th>times_utc_sec</th>\n",
       "      <th>times_mjd</th>\n",
       "      <th>fj</th>\n",
       "      <th>f1</th>\n",
       "      <th>f2</th>\n",
       "      <th>pz</th>\n",
       "      <th>p1</th>\n",
       "      <th>p2</th>\n",
       "      <th>ac_z</th>\n",
       "      <th>ac_1</th>\n",
       "      <th>ac_2</th>\n",
       "      <th>dc_z</th>\n",
       "      <th>dc_1</th>\n",
       "      <th>dc_2</th>\n",
       "      <th>contrast_z</th>\n",
       "      <th>contrast_1</th>\n",
       "      <th>contrast_2</th>\n",
       "    </tr>\n",
       "  </thead>\n",
       "  <tbody>\n",
       "    <tr>\n",
       "      <th>3</th>\n",
       "      <td>2023-09-01T00:00:30.000000Z</td>\n",
       "      <td>30.0</td>\n",
       "      <td>60188.000347</td>\n",
       "      <td>553.498654</td>\n",
       "      <td>0.0</td>\n",
       "      <td>0.0</td>\n",
       "      <td>0.391005</td>\n",
       "      <td>0.0</td>\n",
       "      <td>0.0</td>\n",
       "      <td>0.944117</td>\n",
       "      <td>0.0</td>\n",
       "      <td>0.0</td>\n",
       "      <td>0.490530</td>\n",
       "      <td>0.0</td>\n",
       "      <td>0.0</td>\n",
       "      <td>0.892886</td>\n",
       "      <td>0.0</td>\n",
       "      <td>0.0</td>\n",
       "    </tr>\n",
       "    <tr>\n",
       "      <th>4</th>\n",
       "      <td>2023-09-01T00:01:30.000000Z</td>\n",
       "      <td>90.0</td>\n",
       "      <td>60188.001042</td>\n",
       "      <td>553.498639</td>\n",
       "      <td>0.0</td>\n",
       "      <td>0.0</td>\n",
       "      <td>0.391095</td>\n",
       "      <td>0.0</td>\n",
       "      <td>0.0</td>\n",
       "      <td>0.944302</td>\n",
       "      <td>0.0</td>\n",
       "      <td>0.0</td>\n",
       "      <td>0.490638</td>\n",
       "      <td>0.0</td>\n",
       "      <td>0.0</td>\n",
       "      <td>0.892896</td>\n",
       "      <td>0.0</td>\n",
       "      <td>0.0</td>\n",
       "    </tr>\n",
       "    <tr>\n",
       "      <th>5</th>\n",
       "      <td>2023-09-01T00:02:30.000000Z</td>\n",
       "      <td>150.0</td>\n",
       "      <td>60188.001736</td>\n",
       "      <td>553.498622</td>\n",
       "      <td>0.0</td>\n",
       "      <td>0.0</td>\n",
       "      <td>0.391122</td>\n",
       "      <td>0.0</td>\n",
       "      <td>0.0</td>\n",
       "      <td>0.944336</td>\n",
       "      <td>0.0</td>\n",
       "      <td>0.0</td>\n",
       "      <td>0.490678</td>\n",
       "      <td>0.0</td>\n",
       "      <td>0.0</td>\n",
       "      <td>0.892870</td>\n",
       "      <td>0.0</td>\n",
       "      <td>0.0</td>\n",
       "    </tr>\n",
       "    <tr>\n",
       "      <th>6</th>\n",
       "      <td>2023-09-01T00:03:30.000000Z</td>\n",
       "      <td>210.0</td>\n",
       "      <td>60188.002431</td>\n",
       "      <td>553.498603</td>\n",
       "      <td>0.0</td>\n",
       "      <td>0.0</td>\n",
       "      <td>0.391190</td>\n",
       "      <td>0.0</td>\n",
       "      <td>0.0</td>\n",
       "      <td>0.944393</td>\n",
       "      <td>0.0</td>\n",
       "      <td>0.0</td>\n",
       "      <td>0.490718</td>\n",
       "      <td>0.0</td>\n",
       "      <td>0.0</td>\n",
       "      <td>0.892870</td>\n",
       "      <td>0.0</td>\n",
       "      <td>0.0</td>\n",
       "    </tr>\n",
       "    <tr>\n",
       "      <th>7</th>\n",
       "      <td>2023-09-01T00:04:30.000000Z</td>\n",
       "      <td>270.0</td>\n",
       "      <td>60188.003125</td>\n",
       "      <td>553.498593</td>\n",
       "      <td>0.0</td>\n",
       "      <td>0.0</td>\n",
       "      <td>0.391160</td>\n",
       "      <td>0.0</td>\n",
       "      <td>0.0</td>\n",
       "      <td>0.944387</td>\n",
       "      <td>0.0</td>\n",
       "      <td>0.0</td>\n",
       "      <td>0.490729</td>\n",
       "      <td>0.0</td>\n",
       "      <td>0.0</td>\n",
       "      <td>0.892863</td>\n",
       "      <td>0.0</td>\n",
       "      <td>0.0</td>\n",
       "    </tr>\n",
       "    <tr>\n",
       "      <th>...</th>\n",
       "      <td>...</td>\n",
       "      <td>...</td>\n",
       "      <td>...</td>\n",
       "      <td>...</td>\n",
       "      <td>...</td>\n",
       "      <td>...</td>\n",
       "      <td>...</td>\n",
       "      <td>...</td>\n",
       "      <td>...</td>\n",
       "      <td>...</td>\n",
       "      <td>...</td>\n",
       "      <td>...</td>\n",
       "      <td>...</td>\n",
       "      <td>...</td>\n",
       "      <td>...</td>\n",
       "      <td>...</td>\n",
       "      <td>...</td>\n",
       "      <td>...</td>\n",
       "    </tr>\n",
       "    <tr>\n",
       "      <th>1438</th>\n",
       "      <td>2023-09-03T23:55:30.000000Z</td>\n",
       "      <td>258930.0</td>\n",
       "      <td>60190.996875</td>\n",
       "      <td>553.497779</td>\n",
       "      <td>0.0</td>\n",
       "      <td>0.0</td>\n",
       "      <td>0.393165</td>\n",
       "      <td>0.0</td>\n",
       "      <td>0.0</td>\n",
       "      <td>0.947129</td>\n",
       "      <td>0.0</td>\n",
       "      <td>0.0</td>\n",
       "      <td>0.492836</td>\n",
       "      <td>0.0</td>\n",
       "      <td>0.0</td>\n",
       "      <td>0.893045</td>\n",
       "      <td>0.0</td>\n",
       "      <td>0.0</td>\n",
       "    </tr>\n",
       "    <tr>\n",
       "      <th>1439</th>\n",
       "      <td>2023-09-03T23:56:30.000000Z</td>\n",
       "      <td>258990.0</td>\n",
       "      <td>60190.997569</td>\n",
       "      <td>553.497772</td>\n",
       "      <td>0.0</td>\n",
       "      <td>0.0</td>\n",
       "      <td>0.393099</td>\n",
       "      <td>0.0</td>\n",
       "      <td>0.0</td>\n",
       "      <td>0.947022</td>\n",
       "      <td>0.0</td>\n",
       "      <td>0.0</td>\n",
       "      <td>0.492749</td>\n",
       "      <td>0.0</td>\n",
       "      <td>0.0</td>\n",
       "      <td>0.893064</td>\n",
       "      <td>0.0</td>\n",
       "      <td>0.0</td>\n",
       "    </tr>\n",
       "    <tr>\n",
       "      <th>0</th>\n",
       "      <td>2023-09-03T23:57:30.000000Z</td>\n",
       "      <td>259050.0</td>\n",
       "      <td>60190.998264</td>\n",
       "      <td>553.497768</td>\n",
       "      <td>0.0</td>\n",
       "      <td>0.0</td>\n",
       "      <td>0.393025</td>\n",
       "      <td>0.0</td>\n",
       "      <td>0.0</td>\n",
       "      <td>0.946816</td>\n",
       "      <td>0.0</td>\n",
       "      <td>0.0</td>\n",
       "      <td>0.492650</td>\n",
       "      <td>0.0</td>\n",
       "      <td>0.0</td>\n",
       "      <td>0.893048</td>\n",
       "      <td>0.0</td>\n",
       "      <td>0.0</td>\n",
       "    </tr>\n",
       "    <tr>\n",
       "      <th>1</th>\n",
       "      <td>2023-09-03T23:58:30.000000Z</td>\n",
       "      <td>259110.0</td>\n",
       "      <td>60190.998958</td>\n",
       "      <td>553.497754</td>\n",
       "      <td>0.0</td>\n",
       "      <td>0.0</td>\n",
       "      <td>0.392890</td>\n",
       "      <td>0.0</td>\n",
       "      <td>0.0</td>\n",
       "      <td>0.946554</td>\n",
       "      <td>0.0</td>\n",
       "      <td>0.0</td>\n",
       "      <td>0.492498</td>\n",
       "      <td>0.0</td>\n",
       "      <td>0.0</td>\n",
       "      <td>0.893027</td>\n",
       "      <td>0.0</td>\n",
       "      <td>0.0</td>\n",
       "    </tr>\n",
       "    <tr>\n",
       "      <th>2</th>\n",
       "      <td>2023-09-03T23:59:30.000000Z</td>\n",
       "      <td>259170.0</td>\n",
       "      <td>60190.999653</td>\n",
       "      <td>553.497756</td>\n",
       "      <td>0.0</td>\n",
       "      <td>0.0</td>\n",
       "      <td>0.392792</td>\n",
       "      <td>0.0</td>\n",
       "      <td>0.0</td>\n",
       "      <td>0.946403</td>\n",
       "      <td>0.0</td>\n",
       "      <td>0.0</td>\n",
       "      <td>0.492408</td>\n",
       "      <td>0.0</td>\n",
       "      <td>0.0</td>\n",
       "      <td>0.893036</td>\n",
       "      <td>0.0</td>\n",
       "      <td>0.0</td>\n",
       "    </tr>\n",
       "  </tbody>\n",
       "</table>\n",
       "<p>4320 rows × 18 columns</p>\n",
       "</div>"
      ],
      "text/plain": [
       "                        times_utc  times_utc_sec     times_mjd          fj  \\\n",
       "3     2023-09-01T00:00:30.000000Z           30.0  60188.000347  553.498654   \n",
       "4     2023-09-01T00:01:30.000000Z           90.0  60188.001042  553.498639   \n",
       "5     2023-09-01T00:02:30.000000Z          150.0  60188.001736  553.498622   \n",
       "6     2023-09-01T00:03:30.000000Z          210.0  60188.002431  553.498603   \n",
       "7     2023-09-01T00:04:30.000000Z          270.0  60188.003125  553.498593   \n",
       "...                           ...            ...           ...         ...   \n",
       "1438  2023-09-03T23:55:30.000000Z       258930.0  60190.996875  553.497779   \n",
       "1439  2023-09-03T23:56:30.000000Z       258990.0  60190.997569  553.497772   \n",
       "0     2023-09-03T23:57:30.000000Z       259050.0  60190.998264  553.497768   \n",
       "1     2023-09-03T23:58:30.000000Z       259110.0  60190.998958  553.497754   \n",
       "2     2023-09-03T23:59:30.000000Z       259170.0  60190.999653  553.497756   \n",
       "\n",
       "       f1   f2        pz   p1   p2      ac_z  ac_1  ac_2      dc_z  dc_1  \\\n",
       "3     0.0  0.0  0.391005  0.0  0.0  0.944117   0.0   0.0  0.490530   0.0   \n",
       "4     0.0  0.0  0.391095  0.0  0.0  0.944302   0.0   0.0  0.490638   0.0   \n",
       "5     0.0  0.0  0.391122  0.0  0.0  0.944336   0.0   0.0  0.490678   0.0   \n",
       "6     0.0  0.0  0.391190  0.0  0.0  0.944393   0.0   0.0  0.490718   0.0   \n",
       "7     0.0  0.0  0.391160  0.0  0.0  0.944387   0.0   0.0  0.490729   0.0   \n",
       "...   ...  ...       ...  ...  ...       ...   ...   ...       ...   ...   \n",
       "1438  0.0  0.0  0.393165  0.0  0.0  0.947129   0.0   0.0  0.492836   0.0   \n",
       "1439  0.0  0.0  0.393099  0.0  0.0  0.947022   0.0   0.0  0.492749   0.0   \n",
       "0     0.0  0.0  0.393025  0.0  0.0  0.946816   0.0   0.0  0.492650   0.0   \n",
       "1     0.0  0.0  0.392890  0.0  0.0  0.946554   0.0   0.0  0.492498   0.0   \n",
       "2     0.0  0.0  0.392792  0.0  0.0  0.946403   0.0   0.0  0.492408   0.0   \n",
       "\n",
       "      dc_2  contrast_z  contrast_1  contrast_2  \n",
       "3      0.0    0.892886         0.0         0.0  \n",
       "4      0.0    0.892896         0.0         0.0  \n",
       "5      0.0    0.892870         0.0         0.0  \n",
       "6      0.0    0.892870         0.0         0.0  \n",
       "7      0.0    0.892863         0.0         0.0  \n",
       "...    ...         ...         ...         ...  \n",
       "1438   0.0    0.893045         0.0         0.0  \n",
       "1439   0.0    0.893064         0.0         0.0  \n",
       "0      0.0    0.893048         0.0         0.0  \n",
       "1      0.0    0.893027         0.0         0.0  \n",
       "2      0.0    0.893036         0.0         0.0  \n",
       "\n",
       "[4320 rows x 18 columns]"
      ]
     },
     "execution_count": 99,
     "metadata": {},
     "output_type": "execute_result"
    }
   ],
   "source": [
    "beat"
   ]
  },
  {
   "cell_type": "markdown",
   "id": "05ecb064-bb59-413a-8f84-11da1ec78615",
   "metadata": {
    "tags": []
   },
   "source": [
    "### Define Variables"
   ]
  },
  {
   "cell_type": "code",
   "execution_count": 100,
   "id": "9cf45025-6b20-435a-bc76-8e922809f947",
   "metadata": {
    "tags": []
   },
   "outputs": [],
   "source": [
    "status = DataFrame()\n",
    "\n",
    "status['times_utc'] = beat.times_utc\n",
    "status['times_utc_sec'] = beat.times_utc_sec\n",
    "\n",
    "N = status.shape[0]\n",
    "\n",
    "quality = np.ones(N)\n",
    "fsagnac = np.ones(N)\n",
    "mlti = np.ones(N)\n",
    "dc_threshold = np.ones(N)\n",
    "ac_threshold = np.ones(N)"
   ]
  },
  {
   "cell_type": "markdown",
   "id": "a6d7f853-211a-4237-ba72-ae66eabc7147",
   "metadata": {
    "tags": []
   },
   "source": [
    "## Determine Status"
   ]
  },
  {
   "cell_type": "code",
   "execution_count": 101,
   "id": "798e4b1d-55fe-4778-9aea-572ef84c97a4",
   "metadata": {
    "tags": []
   },
   "outputs": [
    {
     "name": "stdout",
     "output_type": "stream",
     "text": [
      "-> store: /home/andbro/freenas/temp_archive/2023/BW/RZ/RZ_2023-09-01_status.pkl\n",
      "\n",
      " -> created:  /home/andbro/freenas/temp_archive/2023/BW/RZ/RZ_2023-09-01_status.pkl\n"
     ]
    }
   ],
   "source": [
    "idx_mlti = 0\n",
    "\n",
    "for idx in range(beat.shape[0]):\n",
    "\n",
    "    _time = obs.UTCDateTime(status.times_utc.iloc[idx])\n",
    "\n",
    "    ## check if time conincides with MLTI\n",
    "    # print(_time, mlti_t1[idx_mlti], mlti_t2[idx_mlti])\n",
    "    if _time >= mlti_t1[idx_mlti] and _time <= mlti_t2[idx_mlti]:\n",
    "        quality[idx] = 0\n",
    "        mlti[idx] = 0\n",
    "\n",
    "    ## update mlti interval\n",
    "    if _time > mlti_t2[idx_mlti] and idx_mlti < len(mlti_t1)-1:\n",
    "        idx_mlti += 1\n",
    "\n",
    "    if beat.fj.iloc[idx] < config['fsagnac_nominal'] - 0.3 or beat.fj.iloc[idx] > config['fsagnac_nominal'] + 0.3:\n",
    "        quality[idx] = 0\n",
    "        fsagnac[idx] = 0\n",
    "\n",
    "    if beat.dc_z.iloc[idx] < config['DC_threshold']:\n",
    "        quality[idx] = 0\n",
    "        dc_threshold[idx] = 0\n",
    "\n",
    "    if beat.ac_z.iloc[idx] < config['AC_threshold']:\n",
    "        quality[idx] = 0\n",
    "        ac_threshold[idx] = 0\n",
    "\n",
    "\n",
    "status['quality'] = quality\n",
    "status['fsagnac'] = fsagnac\n",
    "status['mlti'] = mlti\n",
    "status['ac_threshold'] = ac_threshold\n",
    "status['dc_threshold'] = dc_threshold\n",
    "\n",
    "\n",
    "## store output to file\n",
    "print(f\"-> store: {config['path_to_output']}R{config['ring']}_{config['tbeg'].date}_status.pkl\")\n",
    "__save_to_pickle(status, config['path_to_output'],f\"R{config['ring']}_{config['tbeg'].date}_status\")\n"
   ]
  },
  {
   "cell_type": "markdown",
   "id": "881e2179-430b-4668-bfda-42cdc2a34fd1",
   "metadata": {},
   "source": [
    "### Plotting"
   ]
  },
  {
   "cell_type": "code",
   "execution_count": 102,
   "id": "2bc7c5d5-64f7-4dd6-9018-c86d2fd31197",
   "metadata": {
    "tags": []
   },
   "outputs": [],
   "source": [
    "arr = np.ones((3, status['quality'].size))\n",
    "\n",
    "arr[0] *= status['quality']\n",
    "arr[1] *= status['fsagnac']\n",
    "arr[2] *= status['mlti']"
   ]
  },
  {
   "cell_type": "code",
   "execution_count": 113,
   "id": "7c77f35a-c916-4606-8ea5-2b4db1ed1961",
   "metadata": {
    "tags": []
   },
   "outputs": [
    {
     "data": {
      "image/png": "[encoded data removed]",
      "text/plain": [
       "<Figure size 1500x400 with 1 Axes>"
      ]
     },
     "metadata": {},
     "output_type": "display_data"
    }
   ],
   "source": [
    "names = [\"quality\", \"fsagnac\", \"mlti\", \"ac_threshold\", \"dc_threshold\"]\n",
    "bars = np.ones(len(names))-0.5\n",
    "\n",
    "arr = np.ones((len(names), status['quality'].size))\n",
    "\n",
    "for _n, name in enumerate(names):\n",
    "    arr[_n] *= status[name]\n",
    "\n",
    "\n",
    "cmap = matplotlib.colors.ListedColormap(['darkred', 'green'])\n",
    "\n",
    "fig = plt.figure(figsize=(15, 4))\n",
    "\n",
    "c = plt.pcolormesh(np.arange(0, arr.shape[1]), names, arr, cmap=cmap,\n",
    "                   rasterized=True, alpha=0.8, antialiased=True, shading=\"auto\")\n",
    "\n",
    "for _k, bar in enumerate(bars):\n",
    "    plt.axhline(bar+_k, color=\"k\", alpha=0.5)\n",
    "\n",
    "plt.xlabel(\"Time (min)\")\n",
    "\n",
    "\n",
    "plt.title(f\"Quality Status of R{config['ring']} on {config['tbeg'].date}\")\n",
    "\n",
    "plt.show();\n",
    "\n",
    "\n",
    "# print(f\" -> stored: {config['path_to_figures']}R{config['ring']}_{config['tbeg'].date}_status.png\")\n",
    "# fig.savefig(config['path_to_figures']+f\"R{config['ring']}_{config['tbeg'].date}_status.png\", format=\"png\", dpi=100, bbox_inches='tight')"
   ]
  },
  {
   "cell_type": "code",
   "execution_count": null,
   "id": "155dea70-2b9d-4d9a-b0f6-a288738ff4c7",
   "metadata": {},
   "outputs": [],
   "source": []
  },
  {
   "cell_type": "code",
   "execution_count": null,
   "id": "1e0974cf-09fc-4000-93d1-7432e3da4963",
   "metadata": {},
   "outputs": [],
   "source": []
  }
 ],
 "metadata": {
  "kernelspec": {
   "display_name": "Python 3 (ipykernel)",
   "language": "python",
   "name": "python3"
  },
  "language_info": {
   "codemirror_mode": {
    "name": "ipython",
    "version": 3
   },
   "file_extension": ".py",
   "mimetype": "text/x-python",
   "name": "python",
   "nbconvert_exporter": "python",
   "pygments_lexer": "ipython3",
   "version": "3.10.12"
  }
 },
 "nbformat": 4,
 "nbformat_minor": 5
}
