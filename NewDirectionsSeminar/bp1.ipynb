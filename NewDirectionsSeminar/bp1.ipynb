{
 "cells": [
  {
   "cell_type": "markdown",
   "metadata": {},
   "source": [
    "https://gitlab.lrz.de/tear-erc/pycycle"
   ]
  },
  {
   "cell_type": "code",
   "execution_count": 4,
   "metadata": {
    "ExecuteTime": {
     "end_time": "2021-02-04T11:47:42.770857Z",
     "start_time": "2021-02-04T11:47:42.249387Z"
    }
   },
   "outputs": [],
   "source": [
    "import numpy as np\n",
    "import sys\n",
    "sys.path.append(\"/home/andbro/Documents/NewDirectionsSeminar/pycycle-student\")\n",
    "\n",
    "import pycycle as cy\n",
    "\n",
    "import matplotlib.pyplot as plt\n",
    "import scipy\n",
    "\n",
    "%load_ext autoreload\n",
    "%autoreload 2\n",
    "%matplotlib notebook"
   ]
  },
  {
   "cell_type": "markdown",
   "metadata": {},
   "source": [
    "Mesh creation\n",
    "==========="
   ]
  },
  {
   "cell_type": "code",
   "execution_count": 5,
   "metadata": {
    "ExecuteTime": {
     "end_time": "2021-02-04T11:47:51.657991Z",
     "start_time": "2021-02-04T11:47:51.620135Z"
    }
   },
   "outputs": [],
   "source": [
    "b1 = (0, 40.0)\n",
    "b2 = (0, 50.0)\n",
    "h1 = 0.2\n",
    "h2 = 1.0\n",
    "star_centre = (1, 1)\n",
    "normal1 = cy.mesh.line_normal((0, 0), b1, star_centre)\n",
    "normal2 = cy.mesh.line_normal(b1, b2, star_centre)\n",
    "\n",
    "# Create a mesh from origin to b1 with resolution h1\n",
    "# True means on-fault\n",
    "mesh = cy.mesh.tessellate_line((0, 0), b1, h1, normal1, True)\n",
    "# Add a mesh from b1 to b2 with resolution h2\n",
    "mesh = mesh + cy.mesh.tessellate_line(b1, b2, h2, normal2)\n",
    "# Extend to infinity\n",
    "mesh.append(cy.mesh.InfiniteLineElement(b2, normal2))"
   ]
  },
  {
   "cell_type": "markdown",
   "metadata": {},
   "source": [
    "Parameters\n",
    "=========="
   ]
  },
  {
   "cell_type": "code",
   "execution_count": 6,
   "metadata": {
    "ExecuteTime": {
     "end_time": "2021-02-04T11:49:43.232868Z",
     "start_time": "2021-02-04T11:49:43.223362Z"
    }
   },
   "outputs": [],
   "source": [
    "rho = 2.670   # density [g/m^3]\n",
    "v_s = 3.464   # shear wave velocity [km/s]\n",
    "Vp = 1e-9     # plate rate [m/s]\n",
    "V0 = 1e-6     # reference slip rate [m/s]\n",
    "b = 0.015     # b parameter\n",
    "\n",
    "L = 0.008     # critical slip distance [m]\n",
    "f0 = 0.6      # reference friction coefficient\n",
    "sn = 50       # normal stress [MPa]\n",
    "Vinit = 1e-9  # initial slip rate [m/s]\n",
    "\n",
    "cp = cy.seas.ConstantParams(rho, v_s, Vp, V0, b, L, f0, sn, Vinit)"
   ]
  },
  {
   "cell_type": "code",
   "execution_count": 7,
   "metadata": {
    "ExecuteTime": {
     "end_time": "2021-02-04T11:49:54.541794Z",
     "start_time": "2021-02-04T11:49:54.520390Z"
    },
    "code_folding": [
     3
    ]
   },
   "outputs": [],
   "source": [
    "a0 = 0.010\n",
    "amax = 0.025\n",
    "# a parameter depends on x\n",
    "def a(x):\n",
    "    z = x[1]\n",
    "    H = 15.0\n",
    "    h = 3.0\n",
    "    if z < H:\n",
    "        return a0\n",
    "    elif z < H + h:\n",
    "        return a0 + (amax - a0) * (z - H) / h\n",
    "    else:\n",
    "        return amax\n",
    "\n",
    "# pre-stress may depend on position, constant here\n",
    "def tau_pre(x):\n",
    "    e = np.exp((f0 + b * np.log(V0 / Vinit)) / amax)\n",
    "    return -(sn * amax * np.arcsinh((Vinit / (2.0 * V0)) * e) + cp.eta * Vinit)\n",
    "\n",
    "vp = cy.seas.VariableParams(mesh, a, tau_pre)"
   ]
  },
  {
   "cell_type": "code",
   "execution_count": null,
   "metadata": {},
   "outputs": [],
   "source": []
  },
  {
   "cell_type": "markdown",
   "metadata": {},
   "source": [
    "Compile\n",
    "=========="
   ]
  },
  {
   "cell_type": "code",
   "execution_count": 8,
   "metadata": {
    "ExecuteTime": {
     "end_time": "2021-02-04T11:50:27.646390Z",
     "start_time": "2021-02-04T11:50:09.903899Z"
    },
    "code_folding": [
     0
    ]
   },
   "outputs": [
    {
     "ename": "ValueError",
     "evalue": "array must not contain infs or NaNs",
     "output_type": "error",
     "traceback": [
      "\u001b[0;31m---------------------------------------------------------------------------\u001b[0m",
      "\u001b[0;31mValueError\u001b[0m                                Traceback (most recent call last)",
      "\u001b[0;32m<ipython-input-8-522fa7bd69e2>\u001b[0m in \u001b[0;36m<module>\u001b[0;34m\u001b[0m\n\u001b[1;32m      1\u001b[0m \u001b[0;31m# initialize solver context\u001b[0m\u001b[0;34m\u001b[0m\u001b[0;34m\u001b[0m\u001b[0;34m\u001b[0m\u001b[0m\n\u001b[0;32m----> 2\u001b[0;31m \u001b[0mctx\u001b[0m \u001b[0;34m=\u001b[0m \u001b[0mcy\u001b[0m\u001b[0;34m.\u001b[0m\u001b[0mseas\u001b[0m\u001b[0;34m.\u001b[0m\u001b[0mContext\u001b[0m\u001b[0;34m(\u001b[0m\u001b[0mmesh\u001b[0m\u001b[0;34m,\u001b[0m \u001b[0mcy\u001b[0m\u001b[0;34m.\u001b[0m\u001b[0mgreen\u001b[0m\u001b[0;34m.\u001b[0m\u001b[0mG_fs\u001b[0m\u001b[0;34m,\u001b[0m \u001b[0mcy\u001b[0m\u001b[0;34m.\u001b[0m\u001b[0mgreen\u001b[0m\u001b[0;34m.\u001b[0m\u001b[0mdG_fs_dn\u001b[0m\u001b[0;34m,\u001b[0m \u001b[0mvp\u001b[0m\u001b[0;34m,\u001b[0m \u001b[0mcp\u001b[0m\u001b[0;34m)\u001b[0m\u001b[0;34m\u001b[0m\u001b[0;34m\u001b[0m\u001b[0m\n\u001b[0m",
      "\u001b[0;32m~/Documents/NewDirectionsSeminar/pycycle-student/pycycle/seas.py\u001b[0m in \u001b[0;36m__init__\u001b[0;34m(self, mesh, G, dG_dn, vp, cp)\u001b[0m\n\u001b[1;32m    122\u001b[0m         \u001b[0mself\u001b[0m\u001b[0;34m.\u001b[0m\u001b[0mA\u001b[0m \u001b[0;34m=\u001b[0m \u001b[0massemble\u001b[0m\u001b[0;34m(\u001b[0m\u001b[0mG\u001b[0m\u001b[0;34m,\u001b[0m \u001b[0mmesh\u001b[0m\u001b[0;34m)\u001b[0m\u001b[0;34m\u001b[0m\u001b[0;34m\u001b[0m\u001b[0m\n\u001b[1;32m    123\u001b[0m         \u001b[0mself\u001b[0m\u001b[0;34m.\u001b[0m\u001b[0mB\u001b[0m \u001b[0;34m=\u001b[0m \u001b[0mrhs_op\u001b[0m\u001b[0;34m(\u001b[0m\u001b[0mdG_dn\u001b[0m\u001b[0;34m,\u001b[0m \u001b[0mmesh\u001b[0m\u001b[0;34m)\u001b[0m\u001b[0;34m\u001b[0m\u001b[0;34m\u001b[0m\u001b[0m\n\u001b[0;32m--> 124\u001b[0;31m         \u001b[0mself\u001b[0m\u001b[0;34m.\u001b[0m\u001b[0mlu\u001b[0m\u001b[0;34m,\u001b[0m \u001b[0mself\u001b[0m\u001b[0;34m.\u001b[0m\u001b[0mpiv\u001b[0m \u001b[0;34m=\u001b[0m \u001b[0mlu_factor\u001b[0m\u001b[0;34m(\u001b[0m\u001b[0mself\u001b[0m\u001b[0;34m.\u001b[0m\u001b[0mA\u001b[0m\u001b[0;34m)\u001b[0m\u001b[0;34m\u001b[0m\u001b[0;34m\u001b[0m\u001b[0m\n\u001b[0m\u001b[1;32m    125\u001b[0m         \u001b[0mself\u001b[0m\u001b[0;34m.\u001b[0m\u001b[0mmap\u001b[0m \u001b[0;34m=\u001b[0m \u001b[0mFaultMap\u001b[0m\u001b[0;34m(\u001b[0m\u001b[0mmesh\u001b[0m\u001b[0;34m)\u001b[0m\u001b[0;34m\u001b[0m\u001b[0;34m\u001b[0m\u001b[0m\n\u001b[1;32m    126\u001b[0m         \u001b[0mself\u001b[0m\u001b[0;34m.\u001b[0m\u001b[0mimap\u001b[0m \u001b[0;34m=\u001b[0m \u001b[0mIFaultMap\u001b[0m\u001b[0;34m(\u001b[0m\u001b[0mmesh\u001b[0m\u001b[0;34m)\u001b[0m\u001b[0;34m\u001b[0m\u001b[0;34m\u001b[0m\u001b[0m\n",
      "\u001b[0;32m~/anaconda3/lib/python3.7/site-packages/scipy/linalg/decomp_lu.py\u001b[0m in \u001b[0;36mlu_factor\u001b[0;34m(a, overwrite_a, check_finite)\u001b[0m\n\u001b[1;32m     70\u001b[0m     \"\"\"\n\u001b[1;32m     71\u001b[0m     \u001b[0;32mif\u001b[0m \u001b[0mcheck_finite\u001b[0m\u001b[0;34m:\u001b[0m\u001b[0;34m\u001b[0m\u001b[0;34m\u001b[0m\u001b[0m\n\u001b[0;32m---> 72\u001b[0;31m         \u001b[0ma1\u001b[0m \u001b[0;34m=\u001b[0m \u001b[0masarray_chkfinite\u001b[0m\u001b[0;34m(\u001b[0m\u001b[0ma\u001b[0m\u001b[0;34m)\u001b[0m\u001b[0;34m\u001b[0m\u001b[0;34m\u001b[0m\u001b[0m\n\u001b[0m\u001b[1;32m     73\u001b[0m     \u001b[0;32melse\u001b[0m\u001b[0;34m:\u001b[0m\u001b[0;34m\u001b[0m\u001b[0;34m\u001b[0m\u001b[0m\n\u001b[1;32m     74\u001b[0m         \u001b[0ma1\u001b[0m \u001b[0;34m=\u001b[0m \u001b[0masarray\u001b[0m\u001b[0;34m(\u001b[0m\u001b[0ma\u001b[0m\u001b[0;34m)\u001b[0m\u001b[0;34m\u001b[0m\u001b[0;34m\u001b[0m\u001b[0m\n",
      "\u001b[0;32m~/anaconda3/lib/python3.7/site-packages/numpy/lib/function_base.py\u001b[0m in \u001b[0;36masarray_chkfinite\u001b[0;34m(a, dtype, order)\u001b[0m\n\u001b[1;32m    497\u001b[0m     \u001b[0;32mif\u001b[0m \u001b[0ma\u001b[0m\u001b[0;34m.\u001b[0m\u001b[0mdtype\u001b[0m\u001b[0;34m.\u001b[0m\u001b[0mchar\u001b[0m \u001b[0;32min\u001b[0m \u001b[0mtypecodes\u001b[0m\u001b[0;34m[\u001b[0m\u001b[0;34m'AllFloat'\u001b[0m\u001b[0;34m]\u001b[0m \u001b[0;32mand\u001b[0m \u001b[0;32mnot\u001b[0m \u001b[0mnp\u001b[0m\u001b[0;34m.\u001b[0m\u001b[0misfinite\u001b[0m\u001b[0;34m(\u001b[0m\u001b[0ma\u001b[0m\u001b[0;34m)\u001b[0m\u001b[0;34m.\u001b[0m\u001b[0mall\u001b[0m\u001b[0;34m(\u001b[0m\u001b[0;34m)\u001b[0m\u001b[0;34m:\u001b[0m\u001b[0;34m\u001b[0m\u001b[0;34m\u001b[0m\u001b[0m\n\u001b[1;32m    498\u001b[0m         raise ValueError(\n\u001b[0;32m--> 499\u001b[0;31m             \"array must not contain infs or NaNs\")\n\u001b[0m\u001b[1;32m    500\u001b[0m     \u001b[0;32mreturn\u001b[0m \u001b[0ma\u001b[0m\u001b[0;34m\u001b[0m\u001b[0;34m\u001b[0m\u001b[0m\n\u001b[1;32m    501\u001b[0m \u001b[0;34m\u001b[0m\u001b[0m\n",
      "\u001b[0;31mValueError\u001b[0m: array must not contain infs or NaNs"
     ]
    }
   ],
   "source": [
    "# initialize solver context\n",
    "ctx = cy.seas.Context(mesh, cy.green.G_fs, cy.green.dG_fs_dn, vp, cp)"
   ]
  },
  {
   "cell_type": "markdown",
   "metadata": {},
   "source": [
    "Plot setup\n",
    "========"
   ]
  },
  {
   "cell_type": "code",
   "execution_count": null,
   "metadata": {},
   "outputs": [],
   "source": [
    "u_fig = plt.figure()\n",
    "\n",
    "# fig.canvas.set_window_title('Canvas active title')\n",
    "u_fig.suptitle('Cumulative slip (m)', fontsize=20)\n",
    "\n",
    "# Create plots inside the figures\n",
    "u_ax = u_fig.add_subplot(111)"
   ]
  },
  {
   "cell_type": "code",
   "execution_count": null,
   "metadata": {},
   "outputs": [],
   "source": [
    "v_fig = plt.figure()\n",
    "\n",
    "# fig.canvas.set_window_title('Canvas active title')\n",
    "v_fig.suptitle('Log10(v) (m/s) vs. time (s)', fontsize=20)\n",
    "\n",
    "# Create plots inside the figures\n",
    "v_ax = v_fig.add_subplot(111)"
   ]
  },
  {
   "cell_type": "code",
   "execution_count": null,
   "metadata": {},
   "outputs": [],
   "source": [
    "thresholds = [\n",
    "    {'color': '#000000', 'vthresh': 0,     'dt': 10*365*24*60*60, 'interval': '10 years' },\n",
    "    {'color': '#ff0000', 'vthresh': 1e-06, 'dt': 24*60*60,        'interval': '1  day'   },\n",
    "    {'color': '#ffcc00', 'vthresh': 1e-02, 'dt': 1,               'interval': '1  second'}\n",
    "]"
   ]
  },
  {
   "cell_type": "markdown",
   "metadata": {},
   "source": [
    "Initial conditions\n",
    "============="
   ]
  },
  {
   "cell_type": "code",
   "execution_count": null,
   "metadata": {},
   "outputs": [],
   "source": [
    "y0 = cy.seas.y0(ctx) # initial condition"
   ]
  },
  {
   "cell_type": "code",
   "execution_count": null,
   "metadata": {},
   "outputs": [],
   "source": [
    "t0 = 0\n",
    "tend = 8e9"
   ]
  },
  {
   "cell_type": "markdown",
   "metadata": {},
   "source": [
    "Solve\n",
    "====="
   ]
  },
  {
   "cell_type": "code",
   "execution_count": null,
   "metadata": {},
   "outputs": [],
   "source": [
    "monitor = cy.monitor.Monitor(thresholds, u_ax, u_fig, v_ax, v_fig)\n",
    "\n",
    "def F(t, y, ctx):\n",
    "    # a new step begins, take y to represent the result of last step.\n",
    "    fresh = t == F.t_\n",
    "    F.t_  = t\n",
    "    return cy.seas.F(t,y,ctx,monitor) if fresh else cy.seas.F(t,y,ctx)\n",
    "F.t_ = t0\n",
    "\n",
    "result = scipy.integrate.solve_ivp( F, (t0, tend), y0, method='RK45', rtol=1e-7, atol=1e-7, args=(ctx,), first_step=100) #, max_step=60*60*24*365"
   ]
  },
  {
   "cell_type": "markdown",
   "metadata": {},
   "source": [
    "Postprocessing\n",
    "========="
   ]
  },
  {
   "cell_type": "code",
   "execution_count": null,
   "metadata": {},
   "outputs": [],
   "source": []
  },
  {
   "cell_type": "code",
   "execution_count": null,
   "metadata": {},
   "outputs": [],
   "source": [
    "py."
   ]
  }
 ],
 "metadata": {
  "kernelspec": {
   "display_name": "Python 3",
   "language": "python",
   "name": "python3"
  },
  "language_info": {
   "codemirror_mode": {
    "name": "ipython",
    "version": 3
   },
   "file_extension": ".py",
   "mimetype": "text/x-python",
   "name": "python",
   "nbconvert_exporter": "python",
   "pygments_lexer": "ipython3",
   "version": "3.7.6"
  }
 },
 "nbformat": 4,
 "nbformat_minor": 4
}
