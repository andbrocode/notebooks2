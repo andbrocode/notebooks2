{
 "cells": [
  {
   "cell_type": "markdown",
   "metadata": {},
   "source": [
    "Green's function\n",
    "=============="
   ]
  },
  {
   "cell_type": "markdown",
   "metadata": {},
   "source": [
    "Fundamental solution\n",
    "-------------------------------"
   ]
  },
  {
   "cell_type": "code",
   "execution_count": 1,
   "metadata": {},
   "outputs": [],
   "source": [
    "from sympy import *\n",
    "init_printing()"
   ]
  },
  {
   "cell_type": "code",
   "execution_count": 2,
   "metadata": {
    "scrolled": true
   },
   "outputs": [
    {
     "data": {
      "image/png": "[encoded data removed]",
      "text/latex": [
       "$\\displaystyle - \\frac{\\log{\\left(\\sqrt{\\left(x_{1} - \\xi_{1}\\right)^{2} + \\left(x_{2} - \\xi_{2}\\right)^{2}} \\right)}}{2 \\pi}$"
      ],
      "text/plain": [
       "    ⎛   _________________________⎞ \n",
       "    ⎜  ╱          2            2 ⎟ \n",
       "-log⎝╲╱  (x₁ - ξ₁)  + (x₂ - ξ₂)  ⎠ \n",
       "───────────────────────────────────\n",
       "                2⋅π                "
      ]
     },
     "execution_count": 2,
     "metadata": {},
     "output_type": "execute_result"
    }
   ],
   "source": [
    "x1, x2, xi1, xi2 = symbols('x_1 x_2 xi_1 xi_2')\n",
    "E = -1/(2*pi) * log(sqrt((x1-xi1)**2 + (x2-xi2)**2))\n",
    "E"
   ]
  },
  {
   "cell_type": "markdown",
   "metadata": {},
   "source": [
    "**Task**: Check that $\\nabla^2_\\xi E = 0$ for $x \\neq \\xi$.\n",
    "\n",
    "*Hint*: https://docs.sympy.org/latest/tutorial/calculus.html#derivatives"
   ]
  },
  {
   "cell_type": "code",
   "execution_count": null,
   "metadata": {},
   "outputs": [],
   "source": []
  },
  {
   "cell_type": "markdown",
   "metadata": {},
   "source": [
    "Directional derivative\n",
    "------------------------------"
   ]
  },
  {
   "cell_type": "code",
   "execution_count": 4,
   "metadata": {},
   "outputs": [],
   "source": [
    "n1, n2 = symbols('n_1 n_2')"
   ]
  },
  {
   "cell_type": "markdown",
   "metadata": {},
   "source": [
    "**Task**: Compute the directional derivative $\\frac{\\partial E}{\\partial n}$."
   ]
  },
  {
   "cell_type": "code",
   "execution_count": null,
   "metadata": {},
   "outputs": [],
   "source": []
  },
  {
   "cell_type": "markdown",
   "metadata": {},
   "source": [
    "**Task** (optional): Write a function which returns the directional derivative of an expression."
   ]
  },
  {
   "cell_type": "code",
   "execution_count": 1,
   "metadata": {},
   "outputs": [],
   "source": [
    "def ddn(expr):\n",
    "    pass"
   ]
  },
  {
   "cell_type": "markdown",
   "metadata": {},
   "source": [
    "Reflection principle\n",
    "----------------------------"
   ]
  },
  {
   "cell_type": "markdown",
   "metadata": {},
   "source": [
    "For simple geometries Green's function can sometimes be found by reflecting the fundamental solution at the boundary and linearly combining the fundamental solution with its reflection. "
   ]
  },
  {
   "cell_type": "markdown",
   "metadata": {},
   "source": [
    "![reflection principle](reflection_principle.png)"
   ]
  },
  {
   "cell_type": "markdown",
   "metadata": {},
   "source": [
    "**Task**: Based on $E$, find the solution for the half-space problem\n",
    "\\begin{align*}\n",
    "    \\nabla^2G(x,\\xi) &= -\\delta(x-\\xi), & \\xi\\in\\Omega \\\\\n",
    "    G(x,\\xi) &= 0, & \\xi\\in\\partial\\Omega \\\\\n",
    "    \\Omega &= \\{\\xi\\in\\mathbb{R}^2 : \\xi_2 > 0\\}\n",
    "\\end{align*}\n",
    "\n",
    "*Hint*: https://docs.sympy.org/latest/tutorial/basic_operations.html#substitution"
   ]
  },
  {
   "cell_type": "code",
   "execution_count": null,
   "metadata": {},
   "outputs": [],
   "source": []
  },
  {
   "cell_type": "markdown",
   "metadata": {},
   "source": [
    "**Task**: Based on $E$, find the solution for the half-space problem\n",
    "\\begin{align*}\n",
    "    \\nabla^2G(x,\\xi) &= -\\delta(x-\\xi), & \\xi\\in\\Omega \\\\\n",
    "    \\frac{\\partial G(x,\\xi)}{\\partial n} &= 0, & \\xi\\in\\partial\\Omega \\\\\n",
    "    \\Omega &= \\{\\xi\\in\\mathbb{R}^2 : \\xi_2 > 0\\}\n",
    "\\end{align*}"
   ]
  },
  {
   "cell_type": "code",
   "execution_count": null,
   "metadata": {},
   "outputs": [],
   "source": []
  }
 ],
 "metadata": {
  "kernelspec": {
   "display_name": "Python 3",
   "language": "python",
   "name": "python3"
  },
  "language_info": {
   "codemirror_mode": {
    "name": "ipython",
    "version": 3
   },
   "file_extension": ".py",
   "mimetype": "text/x-python",
   "name": "python",
   "nbconvert_exporter": "python",
   "pygments_lexer": "ipython3",
   "version": "3.7.3"
  }
 },
 "nbformat": 4,
 "nbformat_minor": 4
}
