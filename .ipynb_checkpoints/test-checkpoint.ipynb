{
 "cells": [
  {
   "cell_type": "markdown",
   "id": "874786b9",
   "metadata": {},
   "source": [
    "### Import libraries"
   ]
  },
  {
   "cell_type": "code",
   "execution_count": 4,
   "id": "ca581778",
   "metadata": {},
   "outputs": [],
   "source": [
    "import obspy as obs\n",
    "import numpy as np\n",
    "import matplotlib.pyplot as plt\n",
    "\n",
    "# from andbro__querrySeismoData import __querrySeismoData\n",
    "# from andbro__get_timeaxis import __get_timeaxis"
   ]
  },
  {
   "cell_type": "markdown",
   "id": "8c86a449",
   "metadata": {},
   "source": [
    "### Configurations"
   ]
  },
  {
   "cell_type": "code",
   "execution_count": 5,
   "id": "2355dcbe",
   "metadata": {},
   "outputs": [],
   "source": [
    "config = {}\n",
    "\n",
    "config['tbeg'] = obs.UTCDateTime(\"2021-09-27 06:17\")\n",
    "config['tend'] = obs.UTCDateTime(\"2021-09-27 06:45\")\n",
    "\n",
    "config['sta'] = ['GELB','GRMB','BIB','TON', 'ALFT', 'FFB1', 'FFB2', 'FFB3', 'FUR']\n",
    "config['net'] = ['BW','BW','BW','BW','BW','BW','BW','BW','GR']\n",
    "config['loc'] = ''\n",
    "config['cha'] = 'BHZ'\n",
    "\n",
    "config['repository'] = \"jane\"\n",
    "\n",
    "config['event'] = {'t0':'2021-09-27 06:17', 'lat':35.252 , 'lon':25.259}"
   ]
  },
  {
   "cell_type": "markdown",
   "id": "ea7cefc9",
   "metadata": {},
   "source": [
    "### GELB -> fails"
   ]
  },
  {
   "cell_type": "code",
   "execution_count": 12,
   "id": "ee3a6461",
   "metadata": {},
   "outputs": [
    {
     "name": "stdout",
     "output_type": "stream",
     "text": [
      "ERROR! \n",
      "ERROR! \n"
     ]
    },
    {
     "data": {
      "text/plain": [
       "(Inventory created at 2021-10-06T15:37:30.106275Z\n",
       "\tCreated by: ObsPy 1.2.1\n",
       "\t\t    https://www.obspy.org\n",
       "\tSending institution: ObsPy FDSN Routing 1.2.1\n",
       "\tContains:\n",
       "\t\tNetworks (0):\n",
       "\n",
       "\t\tStations (0):\n",
       "\n",
       "\t\tChannels (0):\n",
       ",\n",
       " {'networks': [], 'stations': [], 'channels': []})"
      ]
     },
     "execution_count": 12,
     "metadata": {},
     "output_type": "execute_result"
    }
   ],
   "source": [
    "from obspy.clients.fdsn import RoutingClient, Client\n",
    "\n",
    "route1 = RoutingClient(\"eida-routing\")\n",
    "route2 = Client(base_url=\"http://jane\")\n",
    "route3 = Client(\"LMU\")\n",
    "\n",
    "\n",
    "for route in [route1, route2, route3]:\n",
    "    try:\n",
    "        inv = route.get_stations(network=config.get(\"net\")[0], \n",
    "                                 station=config.get(\"sta\")[0], \n",
    "                                 location=config.get(\"loc\"), \n",
    "                                 channel=config.get(\"cha\"),\n",
    "                                 starttime=config.get(\"tbeg\"),\n",
    "                                 endtime=config.get(\"tend\"),\n",
    "                                 level=\"channel\",\n",
    "                                );\n",
    "    except:\n",
    "        print(\"ERROR! \")\n",
    "        \n",
    "inv, inv.get_contents()"
   ]
  },
  {
   "cell_type": "markdown",
   "id": "eff407e7",
   "metadata": {},
   "source": [
    "### GRMB -> no channel info"
   ]
  },
  {
   "cell_type": "code",
   "execution_count": 13,
   "id": "28f916ff",
   "metadata": {},
   "outputs": [
    {
     "name": "stdout",
     "output_type": "stream",
     "text": [
      "ERROR! \n",
      "ERROR! \n"
     ]
    },
    {
     "data": {
      "text/plain": [
       "(Inventory created at 2021-10-06T15:37:30.794505Z\n",
       "\tCreated by: ObsPy 1.2.1\n",
       "\t\t    https://www.obspy.org\n",
       "\tSending institution: ObsPy FDSN Routing 1.2.1\n",
       "\tContains:\n",
       "\t\tNetworks (0):\n",
       "\n",
       "\t\tStations (0):\n",
       "\n",
       "\t\tChannels (0):\n",
       ",\n",
       " {'networks': [], 'stations': [], 'channels': []})"
      ]
     },
     "execution_count": 13,
     "metadata": {},
     "output_type": "execute_result"
    }
   ],
   "source": [
    "from obspy.clients.fdsn import RoutingClient, Client\n",
    "\n",
    "route1 = RoutingClient(\"eida-routing\")\n",
    "route2 = Client(base_url=\"http://jane\")\n",
    "route3 = Client(\"LMU\")\n",
    "\n",
    "\n",
    "for route in [route1, route2, route3]:\n",
    "    try:\n",
    "        inv = route.get_stations(network=config.get(\"net\")[1], \n",
    "                                 station=config.get(\"sta\")[1], \n",
    "                                 location=config.get(\"loc\"), \n",
    "                                 channel=config.get(\"cha\"),\n",
    "                                 starttime=config.get(\"tbeg\"),\n",
    "                                 endtime=config.get(\"tend\"),\n",
    "                                 level=\"channel\",\n",
    "                                );\n",
    "    except:\n",
    "        print(\"ERROR! \")\n",
    "        \n",
    "inv, inv.get_contents()"
   ]
  },
  {
   "cell_type": "markdown",
   "id": "efea10c1",
   "metadata": {},
   "source": [
    "## BIB -> works"
   ]
  },
  {
   "cell_type": "code",
   "execution_count": 14,
   "id": "8e193548",
   "metadata": {},
   "outputs": [
    {
     "data": {
      "text/plain": [
       "(Inventory created at 2021-10-06T15:37:33.044385Z\n",
       "\tSending institution: SeisComP (GOF)\n",
       "\tContains:\n",
       "\t\tNetworks (1):\n",
       "\t\t\tBW\n",
       "\t\tStations (1):\n",
       "\t\t\tBW.BIB (Biburg, Scheune)\n",
       "\t\tChannels (1):\n",
       "\t\t\tBW.BIB..BHZ,\n",
       " {'networks': ['BW'],\n",
       "  'stations': ['BW.BIB (Biburg, Scheune)'],\n",
       "  'channels': ['BW.BIB..BHZ']})"
      ]
     },
     "execution_count": 14,
     "metadata": {},
     "output_type": "execute_result"
    }
   ],
   "source": [
    "from obspy.clients.fdsn import RoutingClient, Client\n",
    "\n",
    "route1 = RoutingClient(\"eida-routing\")\n",
    "route2 = Client(base_url=\"http://jane\")\n",
    "route3 = Client(\"LMU\")\n",
    "\n",
    "\n",
    "for route in [route1, route2, route3]:\n",
    "    try:\n",
    "        inv = route.get_stations(network=config.get(\"net\")[2], \n",
    "                                 station=config.get(\"sta\")[2], \n",
    "                                 location=config.get(\"loc\"), \n",
    "                                 channel=config.get(\"cha\"),\n",
    "                                 starttime=config.get(\"tbeg\"),\n",
    "                                 endtime=config.get(\"tend\"),\n",
    "                                 level=\"channel\",\n",
    "                                );\n",
    "    except:\n",
    "        print(\"ERROR! \")\n",
    "\n",
    "inv, inv.get_contents()"
   ]
  },
  {
   "cell_type": "markdown",
   "id": "01d3c2cb",
   "metadata": {},
   "source": [
    "## Waveforms BIB"
   ]
  },
  {
   "cell_type": "code",
   "execution_count": 51,
   "id": "6a34ed4b",
   "metadata": {},
   "outputs": [],
   "source": [
    "config['tbeg'] = obs.UTCDateTime(\"2021-08-30 00:00\")\n",
    "config['tend'] = obs.UTCDateTime(\"2021-09-02 23:00\")"
   ]
  },
  {
   "cell_type": "code",
   "execution_count": 52,
   "id": "31799d8c",
   "metadata": {},
   "outputs": [],
   "source": [
    "try:\n",
    "    st0 = route.get_waveforms(network=config.get(\"net\")[2], \n",
    "                             station=config.get(\"sta\")[2], \n",
    "                             location=config.get(\"loc\"), \n",
    "                             channel=config.get(\"cha\"),\n",
    "                             starttime=config.get(\"tbeg\"),\n",
    "                             endtime=config.get(\"tend\"),\n",
    "                            );\n",
    "except:\n",
    "    print(\"ERROR! \")"
   ]
  },
  {
   "cell_type": "code",
   "execution_count": 55,
   "id": "a47be68d",
   "metadata": {},
   "outputs": [],
   "source": [
    "st = st0.copy()\n",
    "\n",
    "\n",
    "# st.detrend('demean')\n",
    "# st.filter('bandpass', freqmin=0.001, freqmax=0.1, corners=4, zerophase=True)"
   ]
  },
  {
   "cell_type": "code",
   "execution_count": 56,
   "id": "664f1770",
   "metadata": {},
   "outputs": [
    {
     "data": {
      "image/png": "[encoded data removed]",
      "text/plain": [
       "<Figure size 800x250 with 1 Axes>"
      ]
     },
     "metadata": {
      "needs_background": "light"
     },
     "output_type": "display_data"
    },
    {
     "data": {
      "image/png": "[encoded data removed]",
      "text/plain": [
       "<Figure size 800x250 with 1 Axes>"
      ]
     },
     "execution_count": 56,
     "metadata": {},
     "output_type": "execute_result"
    }
   ],
   "source": [
    "st.plot()"
   ]
  },
  {
   "cell_type": "code",
   "execution_count": null,
   "id": "11465b30",
   "metadata": {},
   "outputs": [],
   "source": []
  }
 ],
 "metadata": {
  "kernelspec": {
   "display_name": "Python 3",
   "language": "python",
   "name": "python3"
  },
  "language_info": {
   "codemirror_mode": {
    "name": "ipython",
    "version": 3
   },
   "file_extension": ".py",
   "mimetype": "text/x-python",
   "name": "python",
   "nbconvert_exporter": "python",
   "pygments_lexer": "ipython3",
   "version": "3.7.7"
  }
 },
 "nbformat": 4,
 "nbformat_minor": 5
}
