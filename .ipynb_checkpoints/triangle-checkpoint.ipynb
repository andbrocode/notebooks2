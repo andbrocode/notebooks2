{
 "cells": [
  {
   "cell_type": "markdown",
   "metadata": {},
   "source": [
    "### Triangle Notebook\n",
    "\n",
    "#### translation of triangle.nb (mathematica code) provided by U. Schreiber for pre-calculating aligment adjustments of rings of ROMY "
   ]
  },
  {
   "cell_type": "code",
   "execution_count": 1,
   "metadata": {},
   "outputs": [
    {
     "data": {
      "text/plain": [
       "' importing libraries ... '"
      ]
     },
     "execution_count": 1,
     "metadata": {},
     "output_type": "execute_result"
    }
   ],
   "source": [
    "##________________________________________________________\n",
    "''' importing libraries ... '''\n",
    "\n",
    "import os, subprocess\n",
    "#import numpy as np\n",
    "#import matplotlib.pyplot as plt \n",
    "\n",
    "\n",
    "from numpy import sin, cos, tan, sqrt, pi, array, cross, dot\n",
    "from numpy.linalg import norm\n",
    "from scipy.optimize import fsolve\n",
    "from pandas import DataFrame\n",
    "from math import isclose"
   ]
  },
  {
   "cell_type": "code",
   "execution_count": 2,
   "metadata": {
    "code_folding": []
   },
   "outputs": [],
   "source": [
    "##________________________________________________________\n",
    "''' setting variables ... '''\n",
    "\n",
    "# Spherical coordinates vector\n",
    "def v(_r, _theta, _phi):\n",
    "    return array([_r*cos(_theta)*sin(_phi), _r*sin(_theta)*sin(_phi), _r*cos(_phi)])\n",
    "\n",
    "# Mirror curvature radius \n",
    "global RC1; RC1 = 12.0\n",
    "global RC2; RC2 = 12.0\n",
    "global RC3; RC3 = 12.0\n",
    "\n",
    "# Nominal length of the sides\n",
    "global L; L = 12.0;  \n"
   ]
  },
  {
   "cell_type": "markdown",
   "metadata": {},
   "source": [
    "Data in input and output are given in spherical coordinates with the origin in the ring center.\n",
    "\n",
    "In perfect geometry the spots of  laser radiation on the mirrors have coordinates:\n",
    "\n",
    "{r,0,0}, \n",
    "{r,$\\frac{2}{3} \\pi$,0}, \n",
    "{r,$\\frac{4}{3} \\pi$,0},  \n",
    "\n",
    "with $r=\\frac{L}{\\sqrt{3}}$ and $L$ is the side of the square.\n",
    "\n",
    "The mirror curvature centers have coordinates:\n",
    "\n",
    "{rc,$\\pi$, 0}, \n",
    "{rc,-$\\pi$/3, 0}, \n",
    "{rc,$\\pi$/3,0} \n",
    "\n",
    "with $rc = RC - L \\frac{\\sqrt{3}}{3}$.\n",
    "\n",
    "A translation of a mirror corresponds to an identical translation of its  curvature centers.\n"
   ]
  },
  {
   "cell_type": "markdown",
   "metadata": {},
   "source": [
    "# 1. Mirror Curvature Centers  -> Ring Laser Radiation Spots\n",
    "\n",
    "## Input "
   ]
  },
  {
   "cell_type": "markdown",
   "metadata": {},
   "source": [
    "### Evaluation of the ring laser radiation spots"
   ]
  },
  {
   "cell_type": "code",
   "execution_count": null,
   "metadata": {},
   "outputs": [],
   "source": [
    "# Mirror curvature centers coordinates - perfect geometry\n",
    "c1 = RC1 - L * sqrt(3)/3;\n",
    "c2 = RC2 - L * sqrt(3)/3;\n",
    "c3 = RC3 - L * sqrt(3)/3;\n",
    "\n",
    "theta_c1, theta_c2, theta_c3 = [pi, -pi/3, pi/3];\n",
    "\n",
    "phi_c1, phi_c2, phi_c3 = [pi/2, pi/2, pi/2];"
   ]
  },
  {
   "cell_type": "markdown",
   "metadata": {},
   "source": [
    "### Evaluation of the Ring laser Radiation Spots"
   ]
  },
  {
   "cell_type": "code",
   "execution_count": 3,
   "metadata": {
    "code_folding": [
     2,
     47
    ]
   },
   "outputs": [],
   "source": [
    "# Define variables and equations\n",
    "\n",
    "def equations1(vars):\n",
    "    \n",
    "    r1, theta1, phi1, r2, theta2, phi2, r3, theta3, phi3 = vars\n",
    "\n",
    "\n",
    "    # Mirror curvature centers coordinates - perfect geometry\n",
    "    c1 = RC1 - L * sqrt(3)/3;\n",
    "    c2 = RC2 - L * sqrt(3)/3;\n",
    "    c3 = RC3 - L * sqrt(3)/3;\n",
    "\n",
    "    theta_c1, theta_c2, theta_c3 = [pi, -pi/3, pi/3];\n",
    "\n",
    "    phi_c1, phi_c2, phi_c3 = [pi/2, pi/2, pi/2];\n",
    "\n",
    "    # Vectors of the optical path sides in cartesian coordinates\n",
    "    s12 = v(r2, theta2, phi2) - v(r1, theta1, phi1);\n",
    "    s23 = v(r3, theta3, phi3) - v(r2, theta2, phi2);\n",
    "    s31 = v(r1, theta1, phi1) - v(r3, theta3, phi3);\n",
    "\n",
    "    # Vectors center -> spotring in cartesian coordinates \n",
    "    # (their lengths are Rci curvature radius)\n",
    "    VRc1 = v(r1, theta1, phi1) - v(c1, theta_c1, phi_c1);\n",
    "    VRc2 = v(r2, theta2, phi2) - v(c2, theta_c2, phi_c2);\n",
    "    VRc3 = v(r3, theta3, phi3) - v(c3, theta_c3, phi_c3);\n",
    "    #VRc = array([VRc1, VRc2, VRc3]);\n",
    "        \n",
    "    # Constrain 1: SPOT are on a spherical surface with radius Rci\n",
    "    eq11 = ( norm(VRc1) - RC1 );\n",
    "    eq12 = ( norm(VRc2) - RC2 );\n",
    "    eq13 = ( norm(VRc3) - RC3 );\n",
    "    \n",
    "    # Constrain 2: reflection law \n",
    "    # -> coplanarita raggio incidente- raggio riflesso\n",
    "    eq21 = ( dot(cross(VRc1, s31),s12) );\n",
    "    eq22 = ( dot(cross(VRc2, s12),s23) );\n",
    "    eq23 = ( dot(cross(VRc3, s23),s31) );\n",
    "\n",
    "    # Constrain 3: reflection law \n",
    "    # -> incident angle == reflection angle\n",
    "    eq31 = ( dot(VRc1, s31)/(norm(VRc1)*norm(s31)) + (dot(s12, VRc1)/(norm(VRc1)*norm(s12))) );\n",
    "    eq32 = ( dot(VRc2, s12)/(norm(VRc2)*norm(s12)) + (dot(s23, VRc2)/(norm(VRc2)*norm(s23))) );\n",
    "    eq33 = ( dot(VRc3, s23)/(norm(VRc3)*norm(s23)) + (dot(s31, VRc3)/(norm(VRc3)*norm(s31))) );\n",
    "\n",
    "    return [eq11, eq12, eq13, eq21, eq22, eq23, eq31, eq32, eq33]\n",
    "\n",
    "def equations2(vars):\n",
    "    \n",
    "    c1, theta_c1, phi_c1, c2, theta_c2, phi_c2, c3, theta_c3, phi_c3 = vars\n",
    "    \n",
    "\n",
    "    # Nominal length of the sides\n",
    "    #L = 12.0;\n",
    "\n",
    "    # coordinates spot - perfect geometry\n",
    "    r1, r2, r3 = [L * sqrt(3)/3, L * sqrt(3)/3, L * sqrt(3)/3];\n",
    "\n",
    "    theta1, theta2, theta3 = [0.0, 2*pi/3, 4*pi/3];\n",
    "\n",
    "    phi1, phi2, phi3 = [pi/2, pi/2, pi/2];\n",
    "\n",
    "    # Vectors of the optical path sides in cartesian coordinates\n",
    "    s12 = v(r2, theta2, phi2) - v(r1, theta1, phi1);\n",
    "    s23 = v(r3, theta3, phi3) - v(r2, theta2, phi2);\n",
    "    s31 = v(r1, theta1, phi1) - v(r3, theta3, phi3);\n",
    "    \n",
    "    # Vectors center -> spotring in cartesian coordinates \n",
    "    # (their lengths are Rci curvature radius)\n",
    "    VRc1 = v(r1, theta1, phi1) - v(c1, theta_c1, phi_c1);\n",
    "    VRc2 = v(r2, theta2, phi2) - v(c2, theta_c2, phi_c2);\n",
    "    VRc3 = v(r3, theta3, phi3) - v(c3, theta_c3, phi_c3);\n",
    "    #VRc = array([VRc1, VRc2, VRc3]);\n",
    "        \n",
    "    # Constrain 1: SPOT are on a spherical surface with radius Rci\n",
    "    eq11 = ( norm(VRc1) - RC1 );\n",
    "    eq12 = ( norm(VRc2) - RC2 );\n",
    "    eq13 = ( norm(VRc3) - RC3 );\n",
    "    \n",
    "    # Constrain 2: reflection law \n",
    "    # -> coplanarita raggio incidente- raggio riflesso\n",
    "    eq21 = ( dot(cross(VRc1, s31),s12) );\n",
    "    eq22 = ( dot(cross(VRc2, s12),s23) );\n",
    "    eq23 = ( dot(cross(VRc3, s23),s31) );\n",
    "\n",
    "    # Constrain 3: reflection law \n",
    "    # -> incident angle == reflection angle\n",
    "    eq31 = ( dot(VRc1, s31)/(norm(VRc1)*norm(s31)) + (dot(s12, VRc1)/(norm(VRc1)*norm(s12))) );\n",
    "    eq32 = ( dot(VRc2, s12)/(norm(VRc2)*norm(s12)) + (dot(s23, VRc2)/(norm(VRc2)*norm(s23))) );\n",
    "    eq33 = ( dot(VRc3, s23)/(norm(VRc3)*norm(s23)) + (dot(s31, VRc3)/(norm(VRc3)*norm(s31))) );\n",
    "\n",
    "    return [eq11, eq12, eq13, eq21, eq22, eq23, eq31, eq32, eq33]"
   ]
  },
  {
   "cell_type": "code",
   "execution_count": 11,
   "metadata": {},
   "outputs": [
    {
     "data": {
      "text/html": [
       "<div>\n",
       "<style scoped>\n",
       "    .dataframe tbody tr th:only-of-type {\n",
       "        vertical-align: middle;\n",
       "    }\n",
       "\n",
       "    .dataframe tbody tr th {\n",
       "        vertical-align: top;\n",
       "    }\n",
       "\n",
       "    .dataframe thead th {\n",
       "        text-align: right;\n",
       "    }\n",
       "</style>\n",
       "<table border=\"1\" class=\"dataframe\">\n",
       "  <thead>\n",
       "    <tr style=\"text-align: right;\">\n",
       "      <th></th>\n",
       "      <th>Radius</th>\n",
       "      <th>Theta</th>\n",
       "      <th>Phi</th>\n",
       "    </tr>\n",
       "  </thead>\n",
       "  <tbody>\n",
       "    <tr>\n",
       "      <th>0</th>\n",
       "      <td>6.928203</td>\n",
       "      <td>-1.296690e-09</td>\n",
       "      <td>1.570796</td>\n",
       "    </tr>\n",
       "    <tr>\n",
       "      <th>1</th>\n",
       "      <td>6.928203</td>\n",
       "      <td>2.094395e+00</td>\n",
       "      <td>1.570796</td>\n",
       "    </tr>\n",
       "    <tr>\n",
       "      <th>2</th>\n",
       "      <td>6.928203</td>\n",
       "      <td>4.188790e+00</td>\n",
       "      <td>1.570796</td>\n",
       "    </tr>\n",
       "  </tbody>\n",
       "</table>\n",
       "</div>"
      ],
      "text/plain": [
       "     Radius         Theta       Phi\n",
       "0  6.928203 -1.296690e-09  1.570796\n",
       "1  6.928203  2.094395e+00  1.570796\n",
       "2  6.928203  4.188790e+00  1.570796"
      ]
     },
     "execution_count": 11,
     "metadata": {},
     "output_type": "execute_result"
    }
   ],
   "source": [
    "\n",
    "# start parameter\n",
    "rs1, rs2, rs3 = [ L*sqrt(3)/3, L*sqrt(3)/3, L*sqrt(3)/3 ];\n",
    "ts1, ts2, ts3 = [ 0.0, 2/3*pi, 4/3*pi ];\n",
    "ps1, ps2, ps3 = [ pi/2, pi/2, pi/2] ;\n",
    "\n",
    "# perturbation\n",
    "from random import uniform\n",
    "def rand():\n",
    "    return uniform(0,.1)\n",
    "m1, m2 ,m3  = rand(), rand(), rand()\n",
    "\n",
    "\n",
    "#perturbated parameters\n",
    "rs1, rs2, rs3 = [ rs1+m1*rs1, rs2-m2*rs2, rs3+m3*rs3 ];\n",
    "ts1, ts2, ts3 = [ ts1+m1*ts1, ts2-m2*ts2, ts3+m3*ts3 ];\n",
    "ps1, ps2, ps3 = [ ps1+m1*ps1, ps2-m2*ps2, ps3+m3*ps3 ];\n",
    "\n",
    "\n",
    "\n",
    "# solving non-linear equations\n",
    "r1, t1, p1, r2, t2, p2, r3, t3, p3 =  fsolve(equations1, [rs1, ts1, ps1, rs2, ts2, ps2, rs3, ts3, ps3]);\n",
    "\n",
    "# output \n",
    "spot = array([[r1, r2, r3], [ t1, t2, t3], [p1 ,p2 ,p3]])\n",
    "\n",
    "Spot = DataFrame({'Radius':spot[0], 'Theta':spot[1], 'Phi':spot[2]});\n",
    "Spot\n",
    "\n",
    "# define new spot vectors\n",
    "spot1 = v(Spot.Radius[0], Spot.Theta[0], Spot.Phi[0])\n",
    "spot2 = v(Spot.Radius[1], Spot.Theta[1], Spot.Phi[1])\n",
    "spot3 = v(Spot.Radius[2], Spot.Theta[2], Spot.Phi[2])\n",
    "\n",
    "# calculate norms of spot1 - spot3\n",
    "L1 = norm(spot2 - spot1)\n",
    "L2 = norm(spot3 - spot2)\n",
    "L3 = norm(spot1 - spot3)"
   ]
  },
  {
   "cell_type": "markdown",
   "metadata": {},
   "source": [
    "### Evaluation of the permimeter"
   ]
  },
  {
   "cell_type": "code",
   "execution_count": 5,
   "metadata": {
    "code_folding": [
     0
    ]
   },
   "outputs": [
    {
     "ename": "ValueError",
     "evalue": "Perimeter evaluation failed! --> -5.297180598851149",
     "output_type": "error",
     "traceback": [
      "\u001b[0;31m---------------------------------------------------------------------------\u001b[0m",
      "\u001b[0;31mValueError\u001b[0m                                Traceback (most recent call last)",
      "\u001b[0;32m<ipython-input-5-85281c279e5d>\u001b[0m in \u001b[0;36m<module>\u001b[0;34m\u001b[0m\n\u001b[1;32m      7\u001b[0m         \u001b[0;32mraise\u001b[0m \u001b[0mValueError\u001b[0m\u001b[0;34m(\u001b[0m\u001b[0;34mf\"Perimeter evaluation failed! --> {err}\"\u001b[0m\u001b[0;34m)\u001b[0m\u001b[0;34m\u001b[0m\u001b[0;34m\u001b[0m\u001b[0m\n\u001b[1;32m      8\u001b[0m \u001b[0;34m\u001b[0m\u001b[0m\n\u001b[0;32m----> 9\u001b[0;31m \u001b[0mevaluate_perimeter\u001b[0m\u001b[0;34m(\u001b[0m\u001b[0mL1\u001b[0m\u001b[0;34m,\u001b[0m \u001b[0mL2\u001b[0m\u001b[0;34m,\u001b[0m \u001b[0mL3\u001b[0m\u001b[0;34m)\u001b[0m\u001b[0;34m\u001b[0m\u001b[0;34m\u001b[0m\u001b[0m\n\u001b[0m",
      "\u001b[0;32m<ipython-input-5-85281c279e5d>\u001b[0m in \u001b[0;36mevaluate_perimeter\u001b[0;34m(L1, L2, L3)\u001b[0m\n\u001b[1;32m      5\u001b[0m \u001b[0;34m\u001b[0m\u001b[0m\n\u001b[1;32m      6\u001b[0m     \u001b[0;32mif\u001b[0m \u001b[0merr\u001b[0m \u001b[0;34m!=\u001b[0m \u001b[0;36m0\u001b[0m\u001b[0;34m:\u001b[0m\u001b[0;34m\u001b[0m\u001b[0;34m\u001b[0m\u001b[0m\n\u001b[0;32m----> 7\u001b[0;31m         \u001b[0;32mraise\u001b[0m \u001b[0mValueError\u001b[0m\u001b[0;34m(\u001b[0m\u001b[0;34mf\"Perimeter evaluation failed! --> {err}\"\u001b[0m\u001b[0;34m)\u001b[0m\u001b[0;34m\u001b[0m\u001b[0;34m\u001b[0m\u001b[0m\n\u001b[0m\u001b[1;32m      8\u001b[0m \u001b[0;34m\u001b[0m\u001b[0m\n\u001b[1;32m      9\u001b[0m \u001b[0mevaluate_perimeter\u001b[0m\u001b[0;34m(\u001b[0m\u001b[0mL1\u001b[0m\u001b[0;34m,\u001b[0m \u001b[0mL2\u001b[0m\u001b[0;34m,\u001b[0m \u001b[0mL3\u001b[0m\u001b[0;34m)\u001b[0m\u001b[0;34m\u001b[0m\u001b[0;34m\u001b[0m\u001b[0m\n",
      "\u001b[0;31mValueError\u001b[0m: Perimeter evaluation failed! --> -5.297180598851149"
     ]
    }
   ],
   "source": [
    "def evaluate_perimeter(L1, L2, L3):\n",
    "    perimeter = L1 + L2 + L3;\n",
    "\n",
    "    err = perimeter - 3*L;\n",
    "    \n",
    "    if err != 0: \n",
    "        raise ValueError(f\"Perimeter evaluation failed! --> {err}\")  \n",
    "\n",
    "evaluate_perimeter(L1, L2, L3)"
   ]
  },
  {
   "cell_type": "markdown",
   "metadata": {},
   "source": [
    "### Evaluation of the area"
   ]
  },
  {
   "cell_type": "code",
   "execution_count": 6,
   "metadata": {
    "code_folding": []
   },
   "outputs": [
    {
     "ename": "ValueError",
     "evalue": "Area Evaluation Failed! --> -62.35382907247958",
     "output_type": "error",
     "traceback": [
      "\u001b[0;31m---------------------------------------------------------------------------\u001b[0m",
      "\u001b[0;31mValueError\u001b[0m                                Traceback (most recent call last)",
      "\u001b[0;32m<ipython-input-6-c24d9b3ac64d>\u001b[0m in \u001b[0;36m<module>\u001b[0;34m\u001b[0m\n\u001b[1;32m     10\u001b[0m         \u001b[0;32mraise\u001b[0m \u001b[0mValueError\u001b[0m\u001b[0;34m(\u001b[0m\u001b[0;34mf\"Area Evaluation Failed! --> {err}\"\u001b[0m\u001b[0;34m)\u001b[0m\u001b[0;34m\u001b[0m\u001b[0;34m\u001b[0m\u001b[0m\n\u001b[1;32m     11\u001b[0m \u001b[0;34m\u001b[0m\u001b[0m\n\u001b[0;32m---> 12\u001b[0;31m \u001b[0mevaluate_area\u001b[0m\u001b[0;34m(\u001b[0m\u001b[0mL1\u001b[0m\u001b[0;34m,\u001b[0m \u001b[0mL2\u001b[0m\u001b[0;34m,\u001b[0m \u001b[0mL3\u001b[0m\u001b[0;34m)\u001b[0m\u001b[0;34m\u001b[0m\u001b[0;34m\u001b[0m\u001b[0m\n\u001b[0m",
      "\u001b[0;32m<ipython-input-6-c24d9b3ac64d>\u001b[0m in \u001b[0;36mevaluate_area\u001b[0;34m(L1, L2, L3)\u001b[0m\n\u001b[1;32m      8\u001b[0m \u001b[0;34m\u001b[0m\u001b[0m\n\u001b[1;32m      9\u001b[0m     \u001b[0;32mif\u001b[0m \u001b[0;32mnot\u001b[0m \u001b[0misclose\u001b[0m\u001b[0;34m(\u001b[0m\u001b[0merr\u001b[0m\u001b[0;34m,\u001b[0m \u001b[0;36m0.0\u001b[0m\u001b[0;34m,\u001b[0m \u001b[0mabs_tol\u001b[0m\u001b[0;34m=\u001b[0m\u001b[0;36m1e-25\u001b[0m\u001b[0;34m)\u001b[0m\u001b[0;34m:\u001b[0m\u001b[0;34m\u001b[0m\u001b[0;34m\u001b[0m\u001b[0m\n\u001b[0;32m---> 10\u001b[0;31m         \u001b[0;32mraise\u001b[0m \u001b[0mValueError\u001b[0m\u001b[0;34m(\u001b[0m\u001b[0;34mf\"Area Evaluation Failed! --> {err}\"\u001b[0m\u001b[0;34m)\u001b[0m\u001b[0;34m\u001b[0m\u001b[0;34m\u001b[0m\u001b[0m\n\u001b[0m\u001b[1;32m     11\u001b[0m \u001b[0;34m\u001b[0m\u001b[0m\n\u001b[1;32m     12\u001b[0m \u001b[0mevaluate_area\u001b[0m\u001b[0;34m(\u001b[0m\u001b[0mL1\u001b[0m\u001b[0;34m,\u001b[0m \u001b[0mL2\u001b[0m\u001b[0;34m,\u001b[0m \u001b[0mL3\u001b[0m\u001b[0;34m)\u001b[0m\u001b[0;34m\u001b[0m\u001b[0;34m\u001b[0m\u001b[0m\n",
      "\u001b[0;31mValueError\u001b[0m: Area Evaluation Failed! --> -62.35382907247958"
     ]
    }
   ],
   "source": [
    "def evaluate_area(L1, L2, L3):\n",
    "\n",
    "    sp = (L1 + L2 + L3)/2\n",
    "    \n",
    "    modulus_area = sqrt(sp * (sp-L1)*(sp-L2)*(sp-L3));\n",
    "\n",
    "    err = modulus_area - L* L * sqrt(3)/4\n",
    "    \n",
    "    if not isclose(err, 0.0, abs_tol=1e-25): \n",
    "        raise ValueError(f\"Area Evaluation Failed! --> {err}\")\n",
    "\n",
    "evaluate_area(L1, L2, L3)"
   ]
  },
  {
   "cell_type": "markdown",
   "metadata": {},
   "source": [
    "# 2. Ring Laser Radiation Spots -> Mirror Curvature Centers  \n",
    "\n",
    "## Input"
   ]
  },
  {
   "cell_type": "code",
   "execution_count": 93,
   "metadata": {},
   "outputs": [
    {
     "data": {
      "text/html": [
       "<div>\n",
       "<style scoped>\n",
       "    .dataframe tbody tr th:only-of-type {\n",
       "        vertical-align: middle;\n",
       "    }\n",
       "\n",
       "    .dataframe tbody tr th {\n",
       "        vertical-align: top;\n",
       "    }\n",
       "\n",
       "    .dataframe thead th {\n",
       "        text-align: right;\n",
       "    }\n",
       "</style>\n",
       "<table border=\"1\" class=\"dataframe\">\n",
       "  <thead>\n",
       "    <tr style=\"text-align: right;\">\n",
       "      <th></th>\n",
       "      <th>Radius</th>\n",
       "      <th>Theta</th>\n",
       "      <th>Phi</th>\n",
       "    </tr>\n",
       "  </thead>\n",
       "  <tbody>\n",
       "    <tr>\n",
       "      <th>0</th>\n",
       "      <td>18.928203</td>\n",
       "      <td>7.014375e-15</td>\n",
       "      <td>1.570796</td>\n",
       "    </tr>\n",
       "    <tr>\n",
       "      <th>1</th>\n",
       "      <td>5.071797</td>\n",
       "      <td>5.235988e+00</td>\n",
       "      <td>1.570796</td>\n",
       "    </tr>\n",
       "    <tr>\n",
       "      <th>2</th>\n",
       "      <td>5.071797</td>\n",
       "      <td>7.330383e+00</td>\n",
       "      <td>1.570796</td>\n",
       "    </tr>\n",
       "  </tbody>\n",
       "</table>\n",
       "</div>"
      ],
      "text/plain": [
       "      Radius         Theta       Phi\n",
       "0  18.928203  7.014375e-15  1.570796\n",
       "1   5.071797  5.235988e+00  1.570796\n",
       "2   5.071797  7.330383e+00  1.570796"
      ]
     },
     "execution_count": 93,
     "metadata": {},
     "output_type": "execute_result"
    }
   ],
   "source": [
    "\n",
    "# start parameter\n",
    "rs1, rs2, rs3 = [ RC1 - L*sqrt(3)/3, RC2 - L*sqrt(3)/3, RC3 - L*sqrt(3)/3 ];\n",
    "ts1, ts2, ts3 = [ pi, -pi/3, pi/3 ];\n",
    "ps1, ps2, ps3 = [ pi/2, pi/2, pi/2];\n",
    "\n",
    "# perturbation\n",
    "from random import uniform\n",
    "def rand():\n",
    "    return uniform(0,.05)\n",
    "m1, m2 ,m3  = rand(), rand(), rand()\n",
    "\n",
    "\n",
    "#perturbated parameters\n",
    "rs1, rs2, rs3 = [ rs1+m1*rs1, rs2-m2*rs2, rs3+m3*rs3 ];\n",
    "ts1, ts2, ts3 = [ ts1+m1*ts1, ts2-m2*ts2, ts3+m3*ts3 ];\n",
    "ps1, ps2, ps3 = [ ps1+m1*ps1, ps2-m2*ps2, ps3+m3*ps3 ];\n",
    "\n",
    "\n",
    "\n",
    "# solving non-linear equations\n",
    "c1, tc1, pc1, c2, tc2, pc2, c3, tc3, pc3 =  fsolve(equations2, [r1, t1, p1, r2, t2, p2, r3, t3, p3])\n",
    "#fsolve(equations2, (r1, t1, p1, r2, t2, p2, r3, t3, p3))\n",
    "\n",
    "# output \n",
    "spot = array([[c1, c2, c3], [ tc1, tc2, tc3], [pc1 ,pc2 ,pc3]])\n",
    "\n",
    "Spot = DataFrame({'Radius':spot[0], 'Theta':spot[1], 'Phi':spot[2]});\n",
    "Spot\n"
   ]
  },
  {
   "cell_type": "code",
   "execution_count": 94,
   "metadata": {},
   "outputs": [
    {
     "name": "stdout",
     "output_type": "stream",
     "text": [
      "Using matplotlib backend: Qt5Agg\n"
     ]
    }
   ],
   "source": [
    "import matplotlib.pyplot as plt\n",
    "\n",
    "%matplotlib auto\n",
    "\n",
    "def plot(r1, theta1, phi1, r2, theta2, phi2, r3, theta3, phi3, sp):\n",
    "\n",
    "    \n",
    "    \n",
    "    # Mirror curvature centers coordinates - perfect geometry\n",
    "    c1 = RC1 - L * sqrt(3)/3;\n",
    "    c2 = RC2 - L * sqrt(3)/3;\n",
    "    c3 = RC3 - L * sqrt(3)/3;\n",
    "\n",
    "    theta_c1, theta_c2, theta_c3 = [pi, -pi/3, pi/3];\n",
    "\n",
    "    phi_c1, phi_c2, phi_c3 = [pi/2, pi/2, pi/2];\n",
    "\n",
    "    origin = array([0,0,0])\n",
    "    \n",
    "    r10 = v(r1, theta1, phi1)\n",
    "    r20 = v(r2, theta2, phi2)\n",
    "    r30 = v(r3, theta3, phi3)\n",
    "    \n",
    "    sp1 = v(sp.Radius[0], sp.Theta[0], sp.Phi[0])\n",
    "    sp2 = v(sp.Radius[1], sp.Theta[1], sp.Phi[1])   \n",
    "    sp3 = v(sp.Radius[2], sp.Theta[2], sp.Phi[2])\n",
    "    \n",
    "    # Vectors of the optical path sides in cartesian coordinates\n",
    "    s12 = v(r2, theta2, phi2) - v(r1, theta1, phi1);\n",
    "    s23 = v(r3, theta3, phi3) - v(r2, theta2, phi2);\n",
    "    s31 = v(r1, theta1, phi1) - v(r3, theta3, phi3);\n",
    "\n",
    "    # Vectors center -> spotring in cartesian coordinates \n",
    "    # (their lengths are Rci curvature radius)\n",
    "    VRc1 = v(r1, theta1, phi1) - v(c1, theta_c1, phi_c1);\n",
    "    VRc2 = v(r2, theta2, phi2) - v(c2, theta_c2, phi_c2);\n",
    "    VRc3 = v(r3, theta3, phi3) - v(c3, theta_c3, phi_c3);\n",
    "\n",
    "    fig = plt.figure()\n",
    "    ax = fig.add_subplot(111, projection='3d')\n",
    "    \n",
    "    # plot s12 s23 s31 \n",
    "    ax.quiver(r20[0], r20[1], r20[2], s12[0], s12[1], s12[2])\n",
    "    ax.quiver(r30[0], r30[1], r30[2], s23[0], s23[1], s23[2])\n",
    "    ax.quiver(r10[0], r10[1], r10[2], s31[0], s31[1], s31[2])\n",
    "    \n",
    "    # plot r10, r20, r30\n",
    "    ax.quiver(0,0,0, r10[0], r10[1], r10[2],color='k')\n",
    "    ax.quiver(0,0,0, r20[0], r20[1], r20[2],color='k')\n",
    "    ax.quiver(0,0,0, r30[0], r30[1], r30[2],color='k')\n",
    "\n",
    "    # plot sp1 sp2 sp3\n",
    "    ax.quiver(0,0,0, sp1[0], sp1[1], sp1[2],color='orange')\n",
    "    ax.quiver(0,0,0, sp2[0], sp2[1], sp2[2],color='orange')\n",
    "    ax.quiver(0,0,0, sp3[0], sp3[1], sp3[2],color='orange')\n",
    "\n",
    "    # plot VRc1 VRc2 VRc3\n",
    "    ax.quiver(r10[0],r10[1],r10[2], VRc1[0], VRc1[1], VRc1[2] ,color='red')\n",
    "    ax.quiver(r20[0],r20[1],r20[2], VRc2[0], VRc2[1], VRc2[2],color='red')\n",
    "    ax.quiver(r30[0],r30[1],r30[2], VRc3[0], VRc3[1], VRc3[2],color='red')\n",
    "\n",
    "    \n",
    "    ax.set_xlim([-10, 10])\n",
    "    ax.set_ylim([-10, 10])\n",
    "    ax.set_zlim([-10, 10])\n",
    "    \n",
    "    plt.show();\n",
    "    \n",
    "    \n",
    "plot(rs1, ts1, ps1, rs2, ts2, ps2, rs3, ts3, ps3, Spot)\n"
   ]
  },
  {
   "cell_type": "code",
   "execution_count": 41,
   "metadata": {},
   "outputs": [
    {
     "ename": "SyntaxError",
     "evalue": "invalid syntax (<ipython-input-41-7e993975ee62>, line 1)",
     "output_type": "error",
     "traceback": [
      "\u001b[0;36m  File \u001b[0;32m\"<ipython-input-41-7e993975ee62>\"\u001b[0;36m, line \u001b[0;32m1\u001b[0m\n\u001b[0;31m    help(%matplotlib)\u001b[0m\n\u001b[0m         ^\u001b[0m\n\u001b[0;31mSyntaxError\u001b[0m\u001b[0;31m:\u001b[0m invalid syntax\n"
     ]
    }
   ],
   "source": []
  },
  {
   "cell_type": "code",
   "execution_count": null,
   "metadata": {},
   "outputs": [],
   "source": []
  }
 ],
 "metadata": {
  "kernelspec": {
   "display_name": "Python 3",
   "language": "python",
   "name": "python3"
  },
  "language_info": {
   "codemirror_mode": {
    "name": "ipython",
    "version": 3
   },
   "file_extension": ".py",
   "mimetype": "text/x-python",
   "name": "python",
   "nbconvert_exporter": "python",
   "pygments_lexer": "ipython3",
   "version": "3.7.7"
  }
 },
 "nbformat": 4,
 "nbformat_minor": 4
}
