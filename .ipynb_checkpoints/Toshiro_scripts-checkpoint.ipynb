{
 "cells": [
  {
   "cell_type": "code",
   "execution_count": 1,
   "metadata": {},
   "outputs": [],
   "source": [
    " import subprocess"
   ]
  },
  {
   "cell_type": "code",
   "execution_count": 2,
   "metadata": {},
   "outputs": [
    {
     "name": "stdout",
     "output_type": "stream",
     "text": [
      "/home/andbro/Desktop/GJI/For_GJI/Analysis/test.py\n"
     ]
    }
   ],
   "source": [
    "workpath = \"/home/andbro/Desktop/GJI/For_GJI/\"\n",
    "\n",
    "scripts = workpath + 'Analysis/scripts/'\n",
    "files   = workpath + 'Analysis/textfiles/'\n",
    "plots   = workpath + 'Analysis/plots/'\n",
    "data    = workpath + 'Data/'\n",
    "\n",
    "test = workpath + 'Analysis/'\n",
    "cmd = test+'test.py'\n",
    "print(cmd)"
   ]
  },
  {
   "cell_type": "code",
   "execution_count": 33,
   "metadata": {},
   "outputs": [],
   "source": [
    "commands = {\n",
    "    \"cmd1\":scripts+\"plotDB_RLAS.m\",\n",
    "    \"cmd2\":scripts+\"plotDB_RLAS.m\",\n",
    "#     \"cmd3\":scripts+\"test.py\",\n",
    "}\n",
    "c_scripts = {\n",
    "    \"cmd1\":scripts+\"test_andi.c\",\n",
    "    \"cmd2\":scripts+\"average_rotation.c\"+\" -lm\",\n",
    "}\n"
   ]
  },
  {
   "cell_type": "code",
   "execution_count": 34,
   "metadata": {},
   "outputs": [
    {
     "name": "stdout",
     "output_type": "stream",
     "text": [
      "/home/andbro/Desktop/GJI/For_GJI/Analysis/scripts/test_andi.c\n",
      "['Hello World']\n"
     ]
    }
   ],
   "source": [
    "for cmd in c_scripts.values():\n",
    "    print(cmd)\n",
    "    out = !gcc '{cmd}' && ./a.out\n",
    "    print(out)"
   ]
  },
  {
   "cell_type": "code",
   "execution_count": 18,
   "metadata": {},
   "outputs": [
    {
     "name": "stdout",
     "output_type": "stream",
     "text": [
      "test\n"
     ]
    }
   ],
   "source": [
    "%%bash -s \"$scripts\"\n",
    "\n",
    "\n",
    "\n",
    "# python commands[\"cmd1\"]'\n",
    "for i in ${commands}; do \n",
    "    echo $i;\n",
    "done"
   ]
  },
  {
   "cell_type": "code",
   "execution_count": 8,
   "metadata": {},
   "outputs": [
    {
     "name": "stdout",
     "output_type": "stream",
     "text": [
      "/home/andbro/Desktop/GJI/For_GJI/Analysis/scripts/plotDB_RLAS.m\n",
      "b'backprojections\\nCompareReceivers.ipynb\\ndata\\ndemodulation2.ipynb\\ndemodulation_test.ipynb\\nfigs\\nFrequency-Demodulation.ipynb\\nglobal_rotations\\nglobal_rotations.ipynb\\nglobal_rotations.py\\ninstaseis_test.ipynb\\nMLE.ipynb\\nModulation.ipynb\\nObsPy-Basics.ipynb\\nQualityCheck\\nreceivers.ipynb\\nromy_array.ipynb\\nromy_mono_beams.ipynb\\nROMY_pyqt.ipynb\\nSeismicDataQuerry.ipynb\\nSeismicDataQuerry.py\\ntest.txt\\nToshiro_scripts.ipynb\\n'\n",
      "/home/andbro/Desktop/GJI/For_GJI/Analysis/scripts/plotDB_RLAS.m\n",
      "b'backprojections\\nCompareReceivers.ipynb\\ndata\\ndemodulation2.ipynb\\ndemodulation_test.ipynb\\nfigs\\nFrequency-Demodulation.ipynb\\nglobal_rotations\\nglobal_rotations.ipynb\\nglobal_rotations.py\\ninstaseis_test.ipynb\\nMLE.ipynb\\nModulation.ipynb\\nObsPy-Basics.ipynb\\nQualityCheck\\nreceivers.ipynb\\nromy_array.ipynb\\nromy_mono_beams.ipynb\\nROMY_pyqt.ipynb\\nSeismicDataQuerry.ipynb\\nSeismicDataQuerry.py\\ntest.txt\\nToshiro_scripts.ipynb\\n'\n"
     ]
    }
   ],
   "source": [
    "for cmd in commands.values():\n",
    "    print(cmd)\n",
    "\n",
    "#     p = subprocess.Popen(['matlab', f'{cmd}'], stdout=subprocess.PIPE, stderr=subprocess.PIPE, shell=True)\n",
    "#     p = subprocess.Popen(['python3', f'{cmd}'], stdout=subprocess.PIPE, stderr=subprocess.PIPE, shell=True) \n",
    "#     p = subprocess.Popen(['ls', '-l'], stdout=subprocess.PIPE, stderr=subprocess.PIPE, shell=True) \n",
    "#     stdout, stderr = p.communicate()\n",
    "    p = subprocess.check_call(['ls', '-l'], stdout=subprocess.PIPE, stderr=subprocess.PIPE, shell=True) \n",
    "      \n",
    "    print(stdout)"
   ]
  },
  {
   "cell_type": "code",
   "execution_count": 11,
   "metadata": {},
   "outputs": [
    {
     "ename": "SyntaxError",
     "evalue": "invalid syntax (<ipython-input-11-e2fa44c54797>, line 1)",
     "output_type": "error",
     "traceback": [
      "\u001b[0;36m  File \u001b[0;32m\"<ipython-input-11-e2fa44c54797>\"\u001b[0;36m, line \u001b[0;32m1\u001b[0m\n\u001b[0;31m    echo \"hey\"\u001b[0m\n\u001b[0m             ^\u001b[0m\n\u001b[0;31mSyntaxError\u001b[0m\u001b[0;31m:\u001b[0m invalid syntax\n"
     ]
    }
   ],
   "source": []
  },
  {
   "cell_type": "code",
   "execution_count": null,
   "metadata": {},
   "outputs": [],
   "source": []
  }
 ],
 "metadata": {
  "kernelspec": {
   "display_name": "Python 3",
   "language": "python",
   "name": "python3"
  },
  "language_info": {
   "codemirror_mode": {
    "name": "ipython",
    "version": 3
   },
   "file_extension": ".py",
   "mimetype": "text/x-python",
   "name": "python",
   "nbconvert_exporter": "python",
   "pygments_lexer": "ipython3",
   "version": "3.7.6"
  }
 },
 "nbformat": 4,
 "nbformat_minor": 4
}
