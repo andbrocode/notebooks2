{
 "cells": [
  {
   "cell_type": "code",
   "execution_count": 6,
   "id": "426ecb71",
   "metadata": {},
   "outputs": [
    {
     "ename": "ModuleNotFoundError",
     "evalue": "No module named 'ezodf'",
     "output_type": "error",
     "traceback": [
      "\u001b[0;31m---------------------------------------------------------------------------\u001b[0m",
      "\u001b[0;31mModuleNotFoundError\u001b[0m                       Traceback (most recent call last)",
      "\u001b[0;32m<ipython-input-6-403665912243>\u001b[0m in \u001b[0;36m<module>\u001b[0;34m\u001b[0m\n\u001b[1;32m      2\u001b[0m \u001b[0;32mimport\u001b[0m \u001b[0mnumpy\u001b[0m \u001b[0;32mas\u001b[0m \u001b[0mnp\u001b[0m\u001b[0;34m\u001b[0m\u001b[0;34m\u001b[0m\u001b[0m\n\u001b[1;32m      3\u001b[0m \u001b[0;32mimport\u001b[0m \u001b[0mpandas\u001b[0m \u001b[0;32mas\u001b[0m \u001b[0mpd\u001b[0m\u001b[0;34m\u001b[0m\u001b[0;34m\u001b[0m\u001b[0m\n\u001b[0;32m----> 4\u001b[0;31m \u001b[0;32mimport\u001b[0m \u001b[0mezodf\u001b[0m\u001b[0;34m\u001b[0m\u001b[0;34m\u001b[0m\u001b[0m\n\u001b[0m",
      "\u001b[0;31mModuleNotFoundError\u001b[0m: No module named 'ezodf'"
     ]
    }
   ],
   "source": [
    "import matplotlib.pyplot as plt\n",
    "import numpy as np\n",
    "import pandas as pd"
   ]
  },
  {
   "cell_type": "code",
   "execution_count": 9,
   "id": "88b52d94",
   "metadata": {},
   "outputs": [
    {
     "data": {
      "text/html": [
       "<div>\n",
       "<style scoped>\n",
       "    .dataframe tbody tr th:only-of-type {\n",
       "        vertical-align: middle;\n",
       "    }\n",
       "\n",
       "    .dataframe tbody tr th {\n",
       "        vertical-align: top;\n",
       "    }\n",
       "\n",
       "    .dataframe thead th {\n",
       "        text-align: right;\n",
       "    }\n",
       "</style>\n",
       "<table border=\"1\" class=\"dataframe\">\n",
       "  <thead>\n",
       "    <tr style=\"text-align: right;\">\n",
       "      <th></th>\n",
       "      <th>Unnamed: 0</th>\n",
       "      <th>Nachname</th>\n",
       "      <th>Vorname</th>\n",
       "      <th>Matrl. Nr</th>\n",
       "      <th>Punkte Teil I</th>\n",
       "      <th>Punkte Teil II</th>\n",
       "      <th>Bericht</th>\n",
       "      <th>Prüfung Punkte</th>\n",
       "      <th>Prüfung %</th>\n",
       "      <th>Note Klausur</th>\n",
       "      <th>Endnote</th>\n",
       "    </tr>\n",
       "  </thead>\n",
       "  <tbody>\n",
       "    <tr>\n",
       "      <th>0</th>\n",
       "      <td>NaN</td>\n",
       "      <td>NaN</td>\n",
       "      <td>NaN</td>\n",
       "      <td>NaN</td>\n",
       "      <td>NaN</td>\n",
       "      <td>NaN</td>\n",
       "      <td>NaN</td>\n",
       "      <td>NaN</td>\n",
       "      <td>NaN</td>\n",
       "      <td>NaN</td>\n",
       "      <td>NaN</td>\n",
       "    </tr>\n",
       "    <tr>\n",
       "      <th>1</th>\n",
       "      <td>A</td>\n",
       "      <td>Akber</td>\n",
       "      <td>Sami</td>\n",
       "      <td>12057290.0</td>\n",
       "      <td>20.0</td>\n",
       "      <td>25.25</td>\n",
       "      <td>1.3</td>\n",
       "      <td>45.25</td>\n",
       "      <td>75.416667</td>\n",
       "      <td>NaN</td>\n",
       "      <td>NaN</td>\n",
       "    </tr>\n",
       "    <tr>\n",
       "      <th>2</th>\n",
       "      <td>A</td>\n",
       "      <td>Artmeier</td>\n",
       "      <td>Fabian</td>\n",
       "      <td>12057604.0</td>\n",
       "      <td>16.5</td>\n",
       "      <td>19.00</td>\n",
       "      <td>NaN</td>\n",
       "      <td>35.50</td>\n",
       "      <td>59.166667</td>\n",
       "      <td>NaN</td>\n",
       "      <td>NaN</td>\n",
       "    </tr>\n",
       "    <tr>\n",
       "      <th>3</th>\n",
       "      <td>A</td>\n",
       "      <td>Bachmayer</td>\n",
       "      <td>Sophia</td>\n",
       "      <td>12057549.0</td>\n",
       "      <td>21.0</td>\n",
       "      <td>19.00</td>\n",
       "      <td>NaN</td>\n",
       "      <td>40.00</td>\n",
       "      <td>66.666667</td>\n",
       "      <td>NaN</td>\n",
       "      <td>NaN</td>\n",
       "    </tr>\n",
       "    <tr>\n",
       "      <th>4</th>\n",
       "      <td>A</td>\n",
       "      <td>Bauer</td>\n",
       "      <td>Elina</td>\n",
       "      <td>12057040.0</td>\n",
       "      <td>14.5</td>\n",
       "      <td>21.25</td>\n",
       "      <td>NaN</td>\n",
       "      <td>35.75</td>\n",
       "      <td>59.583333</td>\n",
       "      <td>NaN</td>\n",
       "      <td>NaN</td>\n",
       "    </tr>\n",
       "    <tr>\n",
       "      <th>...</th>\n",
       "      <td>...</td>\n",
       "      <td>...</td>\n",
       "      <td>...</td>\n",
       "      <td>...</td>\n",
       "      <td>...</td>\n",
       "      <td>...</td>\n",
       "      <td>...</td>\n",
       "      <td>...</td>\n",
       "      <td>...</td>\n",
       "      <td>...</td>\n",
       "      <td>...</td>\n",
       "    </tr>\n",
       "    <tr>\n",
       "      <th>61</th>\n",
       "      <td>B</td>\n",
       "      <td>Vu</td>\n",
       "      <td>Bichmai</td>\n",
       "      <td>12057445.0</td>\n",
       "      <td>NaN</td>\n",
       "      <td>NaN</td>\n",
       "      <td>NaN</td>\n",
       "      <td>NaN</td>\n",
       "      <td>NaN</td>\n",
       "      <td>NaN</td>\n",
       "      <td>NaN</td>\n",
       "    </tr>\n",
       "    <tr>\n",
       "      <th>62</th>\n",
       "      <td>B</td>\n",
       "      <td>Wassmann</td>\n",
       "      <td>Leon</td>\n",
       "      <td>12057248.0</td>\n",
       "      <td>23.5</td>\n",
       "      <td>26.50</td>\n",
       "      <td>1.7</td>\n",
       "      <td>50.00</td>\n",
       "      <td>83.333333</td>\n",
       "      <td>NaN</td>\n",
       "      <td>NaN</td>\n",
       "    </tr>\n",
       "    <tr>\n",
       "      <th>63</th>\n",
       "      <td>B</td>\n",
       "      <td>Winkler</td>\n",
       "      <td>Sebastian Roman</td>\n",
       "      <td>12140130.0</td>\n",
       "      <td>16.5</td>\n",
       "      <td>27.00</td>\n",
       "      <td>5.0</td>\n",
       "      <td>43.50</td>\n",
       "      <td>72.500000</td>\n",
       "      <td>NaN</td>\n",
       "      <td>NaN</td>\n",
       "    </tr>\n",
       "    <tr>\n",
       "      <th>64</th>\n",
       "      <td>B</td>\n",
       "      <td>Zuncke</td>\n",
       "      <td>Jana Catherine Rei</td>\n",
       "      <td>11977597.0</td>\n",
       "      <td>NaN</td>\n",
       "      <td>NaN</td>\n",
       "      <td>NaN</td>\n",
       "      <td>NaN</td>\n",
       "      <td>NaN</td>\n",
       "      <td>NaN</td>\n",
       "      <td>NaN</td>\n",
       "    </tr>\n",
       "    <tr>\n",
       "      <th>65</th>\n",
       "      <td>NaN</td>\n",
       "      <td>NaN</td>\n",
       "      <td>NaN</td>\n",
       "      <td>NaN</td>\n",
       "      <td>37.0</td>\n",
       "      <td>37.00</td>\n",
       "      <td>14.0</td>\n",
       "      <td>37.00</td>\n",
       "      <td>37.000000</td>\n",
       "      <td>NaN</td>\n",
       "      <td>NaN</td>\n",
       "    </tr>\n",
       "  </tbody>\n",
       "</table>\n",
       "<p>66 rows × 11 columns</p>\n",
       "</div>"
      ],
      "text/plain": [
       "   Unnamed: 0   Nachname             Vorname   Matrl. Nr  Punkte Teil I  \\\n",
       "0         NaN        NaN                 NaN         NaN            NaN   \n",
       "1           A      Akber                Sami  12057290.0           20.0   \n",
       "2           A   Artmeier              Fabian  12057604.0           16.5   \n",
       "3           A  Bachmayer              Sophia  12057549.0           21.0   \n",
       "4           A      Bauer               Elina  12057040.0           14.5   \n",
       "..        ...        ...                 ...         ...            ...   \n",
       "61          B         Vu             Bichmai  12057445.0            NaN   \n",
       "62          B   Wassmann                Leon  12057248.0           23.5   \n",
       "63          B    Winkler     Sebastian Roman  12140130.0           16.5   \n",
       "64          B     Zuncke  Jana Catherine Rei  11977597.0            NaN   \n",
       "65        NaN        NaN                 NaN         NaN           37.0   \n",
       "\n",
       "    Punkte Teil II  Bericht  Prüfung Punkte  Prüfung %  Note Klausur  Endnote  \n",
       "0              NaN      NaN             NaN        NaN           NaN      NaN  \n",
       "1            25.25      1.3           45.25  75.416667           NaN      NaN  \n",
       "2            19.00      NaN           35.50  59.166667           NaN      NaN  \n",
       "3            19.00      NaN           40.00  66.666667           NaN      NaN  \n",
       "4            21.25      NaN           35.75  59.583333           NaN      NaN  \n",
       "..             ...      ...             ...        ...           ...      ...  \n",
       "61             NaN      NaN             NaN        NaN           NaN      NaN  \n",
       "62           26.50      1.7           50.00  83.333333           NaN      NaN  \n",
       "63           27.00      5.0           43.50  72.500000           NaN      NaN  \n",
       "64             NaN      NaN             NaN        NaN           NaN      NaN  \n",
       "65           37.00     14.0           37.00  37.000000           NaN      NaN  \n",
       "\n",
       "[66 rows x 11 columns]"
      ]
     },
     "execution_count": 9,
     "metadata": {},
     "output_type": "execute_result"
    }
   ],
   "source": [
    "path = '/home/brotzer/Documents/LMU_Lehre/Einfuehrung_in_die_Geophysik_2021/'\n",
    "name = 'EinfGeo2021_Punkte+Noten.ods'\n",
    "\n",
    "df = pd.read_excel(path+name, sheet_name=\"Noten\")\n",
    "df"
   ]
  },
  {
   "cell_type": "code",
   "execution_count": 56,
   "id": "0815cb2f",
   "metadata": {},
   "outputs": [
    {
     "data": {
      "text/plain": [
       "(array([ 0.,  0.,  0.,  0.,  3.,  2.,  4.,  7., 12.,  7.,  5.,  0.]),\n",
       " array([ 0,  5, 10, 15, 20, 25, 30, 35, 40, 45, 50, 55, 60]),\n",
       " <a list of 12 Patch objects>)"
      ]
     },
     "execution_count": 56,
     "metadata": {},
     "output_type": "execute_result"
    },
    {
     "data": {
      "text/plain": [
       "(0.0, 60.0)"
      ]
     },
     "execution_count": 56,
     "metadata": {},
     "output_type": "execute_result"
    },
    {
     "data": {
      "text/plain": [
       "Text(0, 0.5, 'Anzahl')"
      ]
     },
     "execution_count": 56,
     "metadata": {},
     "output_type": "execute_result"
    },
    {
     "data": {
      "text/plain": [
       "Text(0.5, 0, 'Erreichte Punkte')"
      ]
     },
     "execution_count": 56,
     "metadata": {},
     "output_type": "execute_result"
    },
    {
     "data": {
      "text/plain": [
       "Text(0.5, 1.0, 'Prüfung EinFGeoPhys 2021 - 40 Teilnehmer*innen')"
      ]
     },
     "execution_count": 56,
     "metadata": {},
     "output_type": "execute_result"
    },
    {
     "data": {
      "image/png": "[encoded data removed]",
      "text/plain": [
       "<Figure size 432x288 with 1 Axes>"
      ]
     },
     "metadata": {
      "needs_background": "light"
     },
     "output_type": "display_data"
    }
   ],
   "source": [
    "\n",
    "punkte_namen = df[['Prüfung Punkte', 'Nachname']].dropna()\n",
    "\n",
    "punkte = punkte_namen.iloc[:,0]\n",
    "\n",
    "plt.hist(punkte, bins=np.arange(0, 60+5, 5), zorder=2, rwidth=0.9)\n",
    "plt.grid(zorder=1)\n",
    "plt.xlim(0,60)\n",
    "plt.ylabel(\"Anzahl\")\n",
    "plt.xlabel(\"Erreichte Punkte\")\n",
    "plt.title(f\"Prüfung EinFGeoPhys 2021 - {len(punkte)} Teilnehmer*innen\")"
   ]
  },
  {
   "cell_type": "code",
   "execution_count": 53,
   "id": "4c9a8fa4",
   "metadata": {},
   "outputs": [
    {
     "data": {
      "text/plain": [
       "40"
      ]
     },
     "execution_count": 53,
     "metadata": {},
     "output_type": "execute_result"
    }
   ],
   "source": []
  },
  {
   "cell_type": "code",
   "execution_count": null,
   "id": "6c5207fe",
   "metadata": {},
   "outputs": [],
   "source": []
  }
 ],
 "metadata": {
  "kernelspec": {
   "display_name": "Python 3",
   "language": "python",
   "name": "python3"
  },
  "language_info": {
   "codemirror_mode": {
    "name": "ipython",
    "version": 3
   },
   "file_extension": ".py",
   "mimetype": "text/x-python",
   "name": "python",
   "nbconvert_exporter": "python",
   "pygments_lexer": "ipython3",
   "version": "3.7.7"
  }
 },
 "nbformat": 4,
 "nbformat_minor": 5
}
