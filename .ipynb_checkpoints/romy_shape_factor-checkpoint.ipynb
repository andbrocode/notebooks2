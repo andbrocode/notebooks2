{
 "cells": [
  {
   "cell_type": "markdown",
   "metadata": {},
   "source": [
    "\"\"\" Notebook with basic Formulas of Ring-Laser Geophysics \"\"\"  \n"
   ]
  },
  {
   "cell_type": "code",
   "execution_count": 1,
   "metadata": {
    "ExecuteTime": {
     "end_time": "2021-04-09T07:38:35.371592Z",
     "start_time": "2021-04-09T07:38:34.913199Z"
    }
   },
   "outputs": [],
   "source": [
    "import matplotlib.pyplot as plt\n",
    "import numpy as np\n",
    "import pandas as pd\n",
    "from IPython.display import display, Markdown, Latex\n"
   ]
  },
  {
   "cell_type": "code",
   "execution_count": null,
   "metadata": {
    "ExecuteTime": {
     "end_time": "2021-04-09T07:38:36.771794Z",
     "start_time": "2021-04-09T07:38:36.732178Z"
    }
   },
   "outputs": [],
   "source": [
    "''' ROMY  parameters '''\n",
    "\n",
    "# essential variables\n",
    "earth_rotation=2*np.pi/86400 # radian/second \n",
    "\n",
    "wavelength=632.8e-9 # in meters\n",
    "\n",
    "area   = [53.93, 62.354] # square meters\n",
    "length = [11.16, 12.00] # in meters\n",
    "\n",
    "lat_obs= 48.165 # degrees\n",
    "\n",
    "\n",
    "# calculate the shape factor of ROMY\n",
    "scale_factor = length/np.sqrt(3)/wavelength "
   ]
  },
  {
   "cell_type": "code",
   "execution_count": 16,
   "metadata": {
    "ExecuteTime": {
     "end_time": "2021-04-12T07:32:56.118057Z",
     "start_time": "2021-04-12T07:32:56.096576Z"
    }
   },
   "outputs": [
    {
     "name": "stdout",
     "output_type": "stream",
     "text": [
      "551.6956267781715\n",
      "520.0511882552095\n"
     ]
    },
    {
     "data": {
      "text/latex": [
       "scale factor of ROMYs Z-ring: $ \\ skf = \\frac{4 A}{\\lambda P} = \\frac{\\sqrt{3}}{3}  \\frac{L}{\\lambda}$ "
      ],
      "text/plain": [
       "<IPython.core.display.Latex object>"
      ]
     },
     "metadata": {},
     "output_type": "display_data"
    },
    {
     "data": {
      "text/latex": [
       "with:  $ \\ L = {11.16} m \\ / \\ {12.00} m $ ,  $ \\  \\lambda = {632.8} nm \\ $ and  $  \\ A = \\frac{a^2 \\sqrt{3}}{4}$ "
      ],
      "text/plain": [
       "<IPython.core.display.Latex object>"
      ]
     },
     "metadata": {},
     "output_type": "display_data"
    },
    {
     "data": {
      "text/latex": [
       "Z-ring: $ \\ \\ SKF_{Z} \\ = { 10.18209388}*10^6 $"
      ],
      "text/plain": [
       "<IPython.core.display.Latex object>"
      ]
     },
     "metadata": {},
     "output_type": "display_data"
    },
    {
     "data": {
      "text/latex": [
       "U-ring: $ \\ \\ SKF_{U} \\ = \\ SKF_{V} \\ = \\ SKF_{W} \\ = \\ { 10.94848804}*10^6 $"
      ],
      "text/plain": [
       "<IPython.core.display.Latex object>"
      ]
     },
     "metadata": {},
     "output_type": "display_data"
    }
   ],
   "source": [
    "# \n",
    "from numpy import sin, cos, deg2rad\n",
    "from numpy.linalg import inv\n",
    "\n",
    "phi=deg2rad(60)\n",
    "theta=deg2rad(-19.5)\n",
    "\n",
    "ez=np.array([0,0,1])\n",
    "\n",
    "rot=np.array([[sin(theta)*cos(phi), sin(theta)*sin(phi), cos(theta)],[cos(theta)*cos(phi),cos(theta)*sin(phi),-sin(theta)],[-sin(phi),cos(phi),0]])\n",
    "irot=inv(rot)\n",
    "\n",
    "er=ez.dot(irot)\n",
    "\n",
    "#\n",
    "f0z=earth_rotation*np.cos(np.deg2rad(90-lat_obs))*length[0]*np.sqrt(3)/wavelength/3\n",
    "\n",
    "\n",
    "\n",
    "## display parameters and forumla\n",
    "display(Latex('scale factor of ROMYs Z-ring: $ \\ skf = \\\\frac{4 A}{\\lambda P} = \\\\frac{\\sqrt{3}}{3}  \\\\frac{L}{\\lambda}$ '))\n",
    "\n",
    "display(Latex('with:  $ \\ L = {%3.2f} m \\ / \\ {%3.2f} m $ ,  $ \\  \\lambda = {%5.1f} nm \\ $ and  $  \\ A = \\\\frac{a^2 \\sqrt{3}}{4}$ ' % (length[0],length[1],wavelength*1e9)))\n",
    "\n",
    "display(Latex('Z-ring: $ \\ \\ SKF_{Z} \\ = {%12.8f}*10^6 $' % (scale_factor[0]/1e6)))\n",
    "display(Latex('U-ring: $ \\ \\ SKF_{U} \\ = \\ SKF_{V} \\ = \\ SKF_{W} \\ = \\ {%12.8f}*10^6 $' % (scale_factor[1]/1e6)))"
   ]
  },
  {
   "cell_type": "markdown",
   "metadata": {},
   "source": [
    "fasdftest {{f0z}}"
   ]
  },
  {
   "cell_type": "code",
   "execution_count": 14,
   "metadata": {
    "ExecuteTime": {
     "end_time": "2021-04-12T07:31:28.722874Z",
     "start_time": "2021-04-12T07:31:27.409429Z"
    }
   },
   "outputs": [
    {
     "ename": "NameError",
     "evalue": "name 'shape_factor' is not defined",
     "output_type": "error",
     "traceback": [
      "\u001b[0;31m---------------------------------------------------------------------------\u001b[0m",
      "\u001b[0;31mNameError\u001b[0m                                 Traceback (most recent call last)",
      "\u001b[0;32m<ipython-input-14-37ff614cb81b>\u001b[0m in \u001b[0;36m<module>\u001b[0;34m\u001b[0m\n\u001b[1;32m     21\u001b[0m \u001b[0max\u001b[0m\u001b[0;34m.\u001b[0m\u001b[0mgrid\u001b[0m\u001b[0;34m(\u001b[0m\u001b[0;34m'on'\u001b[0m\u001b[0;34m)\u001b[0m\u001b[0;34m\u001b[0m\u001b[0;34m\u001b[0m\u001b[0m\n\u001b[1;32m     22\u001b[0m \u001b[0;34m\u001b[0m\u001b[0m\n\u001b[0;32m---> 23\u001b[0;31m \u001b[0max\u001b[0m\u001b[0;34m.\u001b[0m\u001b[0mtext\u001b[0m\u001b[0;34m(\u001b[0m\u001b[0;36m2e-6\u001b[0m\u001b[0;34m,\u001b[0m \u001b[0;36m2e-2\u001b[0m \u001b[0;34m,\u001b[0m \u001b[0;34m\"skf: %3.4f $*10^6$\"\u001b[0m \u001b[0;34m%\u001b[0m \u001b[0;34m(\u001b[0m\u001b[0mshape_factor\u001b[0m\u001b[0;34m[\u001b[0m\u001b[0;36m0\u001b[0m\u001b[0;34m]\u001b[0m\u001b[0;34m/\u001b[0m\u001b[0;36m1e6\u001b[0m\u001b[0;34m)\u001b[0m\u001b[0;34m,\u001b[0m \u001b[0mfontsize\u001b[0m\u001b[0;34m=\u001b[0m\u001b[0;36m13\u001b[0m\u001b[0;34m,\u001b[0m\u001b[0mbbox\u001b[0m\u001b[0;34m=\u001b[0m\u001b[0mdict\u001b[0m\u001b[0;34m(\u001b[0m\u001b[0mfacecolor\u001b[0m\u001b[0;34m=\u001b[0m\u001b[0;34m'white'\u001b[0m\u001b[0;34m,\u001b[0m \u001b[0malpha\u001b[0m\u001b[0;34m=\u001b[0m\u001b[0;36m1\u001b[0m\u001b[0;34m)\u001b[0m\u001b[0;34m)\u001b[0m\u001b[0;34m\u001b[0m\u001b[0;34m\u001b[0m\u001b[0m\n\u001b[0m\u001b[1;32m     24\u001b[0m \u001b[0;34m\u001b[0m\u001b[0m\n\u001b[1;32m     25\u001b[0m \u001b[0max\u001b[0m\u001b[0;34m.\u001b[0m\u001b[0mset_ylim\u001b[0m\u001b[0;34m(\u001b[0m\u001b[0;36m1e-5\u001b[0m\u001b[0;34m,\u001b[0m\u001b[0;36m1e5\u001b[0m\u001b[0;34m)\u001b[0m\u001b[0;34m\u001b[0m\u001b[0;34m\u001b[0m\u001b[0m\n",
      "\u001b[0;31mNameError\u001b[0m: name 'shape_factor' is not defined"
     ]
    },
    {
     "data": {
      "image/png": "[encoded data removed]",
      "text/plain": [
       "<Figure size 432x288 with 1 Axes>"
      ]
     },
     "metadata": {
      "needs_background": "light"
     },
     "output_type": "display_data"
    }
   ],
   "source": [
    "### define some orders of rotaion rate\n",
    "rotation_rate=np.array([pow(10, i) for i in range(-3,-12,-1)])\n",
    "\n",
    "\n",
    "#beat=shape_factor*rotation_rate*np.sin(np.deg2rad(lat_obs + d_north))*np.cos(np.deg2rad(d_east))\n",
    "beat=scale_factor[0]*rotation_rate\n",
    "\n",
    "\n",
    "## __________________________\n",
    "##\n",
    "fig = plt.figure()\n",
    "ax = plt.axes(xscale='log', yscale='log')\n",
    "\n",
    "plt.xscale(\"log\")\n",
    "\n",
    "ax.plot(rotation_rate,beat)\n",
    "\n",
    "ax.set_ylabel('df / Hz',fontsize=12)\n",
    "ax.set_xlabel('$\\omega$ / rad $s^{-1}$',fontsize=12)\n",
    "\n",
    "ax.grid('on')\n",
    "\n",
    "ax.text(2e-6, 2e-2 , \"skf: %3.4f $*10^6$\" % (shape_factor[0]/1e6), fontsize=13,bbox=dict(facecolor='white', alpha=1))\n",
    "    \n",
    "ax.set_ylim(1e-5,1e5)\n",
    "\n",
    "plt.show();"
   ]
  },
  {
   "cell_type": "code",
   "execution_count": 5,
   "metadata": {
    "ExecuteTime": {
     "end_time": "2021-04-12T07:21:35.167043Z",
     "start_time": "2021-04-12T07:21:34.356456Z"
    },
    "code_folding": []
   },
   "outputs": [
    {
     "ename": "NameError",
     "evalue": "name 'shape_factor' is not defined",
     "output_type": "error",
     "traceback": [
      "\u001b[0;31m---------------------------------------------------------------------------\u001b[0m",
      "\u001b[0;31mNameError\u001b[0m                                 Traceback (most recent call last)",
      "\u001b[0;32m<ipython-input-5-3aed3dd4b0c4>\u001b[0m in \u001b[0;36m<module>\u001b[0;34m\u001b[0m\n\u001b[1;32m     38\u001b[0m \u001b[0max\u001b[0m\u001b[0;34m.\u001b[0m\u001b[0mset_ylabel\u001b[0m\u001b[0;34m(\u001b[0m\u001b[0;34m'df / Hz'\u001b[0m\u001b[0;34m,\u001b[0m\u001b[0mfontsize\u001b[0m\u001b[0;34m=\u001b[0m\u001b[0;36m12\u001b[0m\u001b[0;34m)\u001b[0m\u001b[0;34m\u001b[0m\u001b[0;34m\u001b[0m\u001b[0m\n\u001b[1;32m     39\u001b[0m \u001b[0max\u001b[0m\u001b[0;34m.\u001b[0m\u001b[0mset_xlabel\u001b[0m\u001b[0;34m(\u001b[0m\u001b[0;34m'$\\omega$ / rad $s^{-1}$'\u001b[0m\u001b[0;34m,\u001b[0m\u001b[0mfontsize\u001b[0m\u001b[0;34m=\u001b[0m\u001b[0;36m12\u001b[0m\u001b[0;34m)\u001b[0m\u001b[0;34m\u001b[0m\u001b[0;34m\u001b[0m\u001b[0m\n\u001b[0;32m---> 40\u001b[0;31m \u001b[0max\u001b[0m\u001b[0;34m.\u001b[0m\u001b[0mtext\u001b[0m\u001b[0;34m(\u001b[0m\u001b[0;36m2\u001b[0m\u001b[0;34m,\u001b[0m \u001b[0;34m-\u001b[0m\u001b[0;36m4e7\u001b[0m \u001b[0;34m,\u001b[0m \u001b[0;34m\"skf: %3.4f $ * \\ 10^6$\"\u001b[0m \u001b[0;34m%\u001b[0m \u001b[0;34m(\u001b[0m\u001b[0mshape_factor\u001b[0m\u001b[0;34m[\u001b[0m\u001b[0;36m0\u001b[0m\u001b[0;34m]\u001b[0m\u001b[0;34m/\u001b[0m\u001b[0;36m1e6\u001b[0m\u001b[0;34m)\u001b[0m\u001b[0;34m,\u001b[0m \u001b[0mfontsize\u001b[0m\u001b[0;34m=\u001b[0m\u001b[0;36m13\u001b[0m\u001b[0;34m,\u001b[0m\u001b[0mcolor\u001b[0m\u001b[0;34m=\u001b[0m\u001b[0;34m'grey'\u001b[0m\u001b[0;34m,\u001b[0m \u001b[0mbbox\u001b[0m\u001b[0;34m=\u001b[0m\u001b[0mdict\u001b[0m\u001b[0;34m(\u001b[0m\u001b[0mfacecolor\u001b[0m\u001b[0;34m=\u001b[0m\u001b[0;34m'white'\u001b[0m\u001b[0;34m,\u001b[0m \u001b[0malpha\u001b[0m\u001b[0;34m=\u001b[0m\u001b[0;36m1\u001b[0m\u001b[0;34m)\u001b[0m\u001b[0;34m)\u001b[0m\u001b[0;34m\u001b[0m\u001b[0;34m\u001b[0m\u001b[0m\n\u001b[0m\u001b[1;32m     41\u001b[0m \u001b[0;34m\u001b[0m\u001b[0m\n\u001b[1;32m     42\u001b[0m \u001b[0max\u001b[0m\u001b[0;34m.\u001b[0m\u001b[0mgrid\u001b[0m\u001b[0;34m(\u001b[0m\u001b[0;34m'On'\u001b[0m\u001b[0;34m)\u001b[0m\u001b[0;34m\u001b[0m\u001b[0;34m\u001b[0m\u001b[0m\n",
      "\u001b[0;31mNameError\u001b[0m: name 'shape_factor' is not defined"
     ]
    },
    {
     "data": {
      "image/png": "[encoded data removed]",
      "text/plain": [
       "<Figure size 432x288 with 1 Axes>"
      ]
     },
     "metadata": {
      "needs_background": "light"
     },
     "output_type": "display_data"
    }
   ],
   "source": [
    "comp=0 # 0 for Z    and    1 for U,V,W\n",
    "\n",
    "rotation_rate=np.arange(-5,5,0.1)\n",
    "\n",
    "\n",
    "c=299792458\n",
    "\n",
    "backscattercoeff=14*1e-6\n",
    "\n",
    "wl1=0.00012 * 64800/np.pi\n",
    "wl2=c*wavelength**2*np.sqrt(backscattercoeff)/(32*np.pi*area[comp])* 64800/np.pi\n",
    "\n",
    "\n",
    "\n",
    "def get_beat(rotation_rate,wl,comp):\n",
    "    beat=[]\n",
    "    skf=[11.16,12.0]/np.sqrt(3)/632.9e-9 \n",
    "    for w in rotation_rate:\n",
    "        if abs(w) > wl and w > wl:\n",
    "            beat.append(skf[comp]*np.sqrt(w**2 - wl**2))\n",
    "        elif abs(w) > wl and w < wl:\n",
    "            beat.append(-1*skf[comp]*np.sqrt(w**2 - wl**2))\n",
    "        else:\n",
    "            beat.append(0)\n",
    "    return beat\n",
    "\n",
    "beat1=get_beat(rotation_rate,wl1,comp)\n",
    "beat2=get_beat(rotation_rate,0,comp)\n",
    "beat3=get_beat(rotation_rate,wl2,comp)\n",
    "\n",
    "## -----------------------------------------------------\n",
    "fig, ax = plt.subplots()\n",
    "        \n",
    "ax.plot(rotation_rate,beat1)\n",
    "ax.plot(rotation_rate,beat2,'grey')\n",
    "ax.plot(rotation_rate,beat3)\n",
    "\n",
    "ax.set_ylabel('df / Hz',fontsize=12)\n",
    "ax.set_xlabel('$\\omega$ / rad $s^{-1}$',fontsize=12)\n",
    "ax.text(2, -4e7 , \"skf: %3.4f $ * \\ 10^6$\" % (shape_factor[0]/1e6), fontsize=13,color='grey', bbox=dict(facecolor='white', alpha=1))\n",
    "\n",
    "ax.grid('On')\n",
    "\n",
    "plt.plot();"
   ]
  },
  {
   "cell_type": "code",
   "execution_count": 139,
   "metadata": {
    "code_folding": [
     4
    ],
    "scrolled": true
   },
   "outputs": [
    {
     "data": {
      "text/latex": [
       "nominal Sagnac frequency: "
      ],
      "text/plain": [
       "<IPython.core.display.Latex object>"
      ]
     },
     "metadata": {},
     "output_type": "display_data"
    },
    {
     "data": {
      "text/latex": [
       "Z-ring: $ \\ \\ f_{0,Z} = {551.696} Hz$"
      ],
      "text/plain": [
       "<IPython.core.display.Latex object>"
      ]
     },
     "metadata": {},
     "output_type": "display_data"
    },
    {
     "data": {
      "text/latex": [
       "U-ring: $ \\ \\ f_{0,U} = {302.572} Hz$"
      ],
      "text/plain": [
       "<IPython.core.display.Latex object>"
      ]
     },
     "metadata": {},
     "output_type": "display_data"
    },
    {
     "data": {
      "text/latex": [
       "V-ring: $ \\ \\ f_{0,V} = {448.318} Hz$"
      ],
      "text/plain": [
       "<IPython.core.display.Latex object>"
      ]
     },
     "metadata": {},
     "output_type": "display_data"
    },
    {
     "data": {
      "text/latex": [
       "W-ring: $ \\ \\ f_{0,W} = {448.318} Hz$"
      ],
      "text/plain": [
       "<IPython.core.display.Latex object>"
      ]
     },
     "metadata": {},
     "output_type": "display_data"
    }
   ],
   "source": [
    "#import numpy as np\n",
    "\n",
    "from numpy.linalg import inv\n",
    "\n",
    "def rotate_frame(comp):\n",
    "\n",
    "    i=int(comp)\n",
    "\n",
    "    # Earth's rotation\n",
    "    erot=2*np.pi/86400 # radian/second \n",
    "    ez=np.array([0,0,1])\n",
    "    \n",
    "    # Latitude and Longitude ROMY\n",
    "    lat_romy=np.deg2rad(48.165) # degrees N\n",
    "    lon_romy=np.deg2rad(11.277) # degrees E\n",
    "\n",
    "    # N, E, W, Z\n",
    "    sides=np.array([11.16, 12.0, 12.0, 12.0]) # meters\n",
    "\n",
    "    # north/south and east/west tilt\n",
    "\n",
    "    #    gamma=180-np.rad2deg(np.arccos(1/3)) # 180° - Flächeninnenwinkel Thetraeder\n",
    "    #     N_tilt=np.deg2rad(np.array([0, 120, 240, 0])) # degrees\n",
    "    #     Z_tilt=np.deg2rad(np.array([gamma, gamma, gamma, 0])) # degrees\n",
    "\n",
    "    N_tilt=np.deg2rad(np.array([0, 0, 60, -60])) # degrees transformed to radians   \n",
    "    Z_tilt=np.deg2rad(np.array([0, 19.5+90, -19.5+90, -19.5+90])) # degrees transformed to radians\n",
    "\n",
    " \n",
    "    # nominal wavelength HeNe Laser \n",
    "    wavelength=632.8e-9 # meters\n",
    "\n",
    "    # misalignments\n",
    "    d_N_tilt=0.0\n",
    "    d_Z_tilt=0.0\n",
    "\n",
    "\n",
    "\n",
    "    # individual shape factor for each ring\n",
    "    sf=sides[i]/np.sqrt(3)/wavelength\n",
    "\n",
    "\n",
    "    # rotaion matrix: local to global frame\n",
    "    D=np.matrix([[-1*np.sin(lat_romy)*np.cos(lon_romy),-1*np.sin(lon_romy), np.cos(lat_romy)*np.cos(lon_romy)],\n",
    "                 [-1*np.sin(lat_romy)*np.sin(lon_romy),np.cos(lon_romy),np.cos(lat_romy)*np.sin(lon_romy) ],\n",
    "                 [np.cos(lat_romy),0.,np.sin(lat_romy)]])\n",
    "\n",
    "\n",
    "\n",
    "    # local rotation with ring normal vector\n",
    "    n_r=np.reshape([np.sin(Z_tilt[i])*np.cos(N_tilt[i]), np.sin(Z_tilt[i])*np.sin(N_tilt[i]), np.cos(Z_tilt[i])],(3,1))\n",
    "\n",
    "\n",
    "    # misalignment matrix of ROMY\n",
    "    R=np.matrix([[1. , -d_N_tilt, -d_Z_tilt],\n",
    "                [d_N_tilt,   1.,   0.],\n",
    "                [d_Z_tilt,   0.,   1.]])\n",
    "\n",
    "\n",
    "\n",
    "    # return beat frequency \n",
    "    return (sf*erot*ez.dot(np.array(D.dot(R.dot(n_r)))))\n",
    "\n",
    "#    return sf*erot*np.cos(np.deg2rad(90-lat_romy))\n",
    "    #    D_inv=inv(D)    \n",
    "    #    erot_trans=np.array(D_inv.dot(np.array([0,0,erot])))\n",
    "    #    return sf*np.multiply(n_r,erot_trans).sum(0)\n",
    "\n",
    "display(Latex('nominal Sagnac frequency: '))\n",
    "   \n",
    "    \n",
    "Z=rotate_frame(0); display(Latex('Z-ring: $ \\ \\ f_{0,Z} = {%7.3f} Hz$' % (float(Z))))\n",
    "U=rotate_frame(1); display(Latex('U-ring: $ \\ \\ f_{0,U} = {%7.3f} Hz$' % (float(U))))\n",
    "V=rotate_frame(2); display(Latex('V-ring: $ \\ \\ f_{0,V} = {%7.3f} Hz$' % (float(V))))\n",
    "W=rotate_frame(3); display(Latex('W-ring: $ \\ \\ f_{0,W} = {%7.3f} Hz$' % (float(W))))\n",
    "\n",
    "\n",
    "\n",
    "\n",
    "\n",
    "\n"
   ]
  },
  {
   "cell_type": "code",
   "execution_count": null,
   "metadata": {},
   "outputs": [],
   "source": []
  },
  {
   "cell_type": "code",
   "execution_count": null,
   "metadata": {},
   "outputs": [],
   "source": []
  }
 ],
 "metadata": {
  "kernelspec": {
   "display_name": "Python 3",
   "language": "python",
   "name": "python3"
  },
  "language_info": {
   "codemirror_mode": {
    "name": "ipython",
    "version": 3
   },
   "file_extension": ".py",
   "mimetype": "text/x-python",
   "name": "python",
   "nbconvert_exporter": "python",
   "pygments_lexer": "ipython3",
   "version": "3.7.8"
  }
 },
 "nbformat": 4,
 "nbformat_minor": 4
}
