{
 "cells": [
  {
   "cell_type": "markdown",
   "id": "26ad060e",
   "metadata": {
    "ExecuteTime": {
     "end_time": "2022-09-13T00:35:24.926376Z",
     "start_time": "2022-09-13T00:35:24.923877Z"
    }
   },
   "source": [
    "# ROMY Processing - Prepare masked ZNE streams"
   ]
  },
  {
   "cell_type": "markdown",
   "id": "fa47ca0c",
   "metadata": {},
   "source": [
    "Load ZUV data, process, mask with MLTI log and store as masked streams"
   ]
  },
  {
   "cell_type": "code",
   "execution_count": 1,
   "id": "7ae027cf",
   "metadata": {
    "ExecuteTime": {
     "end_time": "2023-04-05T16:30:44.374156Z",
     "start_time": "2023-04-05T16:30:42.823021Z"
    },
    "tags": []
   },
   "outputs": [],
   "source": [
    "import os\n",
    "import obspy as obs\n",
    "import matplotlib.pyplot as plt\n",
    "import numpy.ma as ma\n",
    "import numpy as np\n",
    "\n",
    "from numpy import where\n",
    "from andbro__read_sds import __read_sds\n",
    "\n",
    "from functions.rotate_romy_ZUV_ZNE import __rotate_romy_ZUV_ZNE\n",
    "from functions.load_lxx import __load_lxx\n",
    "from functions.load_mlti import __load_mlti\n",
    "from functions.get_mlti_intervals import __get_mlti_intervals\n"
   ]
  },
  {
   "cell_type": "code",
   "execution_count": 2,
   "id": "8cfc93b5-07b8-4d53-806a-99176e9700ad",
   "metadata": {
    "tags": []
   },
   "outputs": [],
   "source": [
    "if os.uname().nodename == 'lighthouse':\n",
    "    root_path = '/home/andbro/'\n",
    "    data_path = '/home/andbro/kilauea-data/'\n",
    "    archive_path = '/home/andbro/freenas/'\n",
    "    bay_path = '/home/andbro/bay200/'\n",
    "elif os.uname().nodename == 'kilauea':\n",
    "    root_path = '/home/brotzer/'\n",
    "    data_path = '/import/kilauea-data/'\n",
    "    archive_path = '/import/freenas-ffb-01-data/'\n",
    "    bay_path = '/bay200/'\n",
    "elif os.uname().nodename == 'lin-ffb-01':\n",
    "    root_path = '/home/brotzer/'\n",
    "    data_path = '/import/kilauea-data/'\n",
    "    archive_path = '/import/freenas-ffb-01-data/'\n",
    "    bay_path = '/bay200/'"
   ]
  },
  {
   "cell_type": "code",
   "execution_count": 3,
   "id": "6cfee5e3-56e5-41ab-91a3-d08d40bd2762",
   "metadata": {
    "tags": []
   },
   "outputs": [],
   "source": [
    "def __write_stream_to_sds(st, cha, path_to_sds):\n",
    "\n",
    "    import os\n",
    "\n",
    "    # check if output path exists\n",
    "    if not os.path.exists(path_to_sds):\n",
    "        print(f\" -> {path_to_sds} does not exist!\")\n",
    "        return\n",
    "\n",
    "    tr = st.select(channel=cha)[0]\n",
    "\n",
    "    nn, ss, ll, cc = tr.stats.network, tr.stats.station, tr.stats.location, tr.stats.channel\n",
    "    yy, jj = tr.stats.starttime.year, str(tr.stats.starttime.julday).rjust(3,\"0\")\n",
    "\n",
    "    if not os.path.exists(path_to_sds+f\"{yy}/\"):\n",
    "        os.mkdir(path_to_sds+f\"{yy}/\")\n",
    "        print(f\"creating: {path_to_sds}{yy}/\")\n",
    "    if not os.path.exists(path_to_sds+f\"{yy}/{nn}/\"):\n",
    "        os.mkdir(path_to_sds+f\"{yy}/{nn}/\")\n",
    "        print(f\"creating: {path_to_sds}{yy}/{nn}/\")\n",
    "    if not os.path.exists(path_to_sds+f\"{yy}/{nn}/{ss}/\"):\n",
    "        os.mkdir(path_to_sds+f\"{yy}/{nn}/{ss}/\")\n",
    "        print(f\"creating: {path_to_sds}{yy}/{nn}/{ss}/\")\n",
    "    if not os.path.exists(path_to_sds+f\"{yy}/{nn}/{ss}/{cc}.D\"):\n",
    "        os.mkdir(path_to_sds+f\"{yy}/{nn}/{ss}/{cc}.D\")\n",
    "        print(f\"creating: {path_to_sds}{yy}/{nn}/{ss}/{cc}.D\")\n",
    "\n",
    "    st.write(path_to_sds+f\"{yy}/{nn}/{ss}/{cc}.D/\"+f\"{nn}.{ss}.{ll}.{cc}.D.{yy}.{jj}\", format=\"MSEED\")\n",
    "\n",
    "    print(f\" -> stored stream as: {yy}/{nn}/{ss}/{cc}.D/{nn}.{ss}.{ll}.{cc}.D.{yy}.{jj}\")"
   ]
  },
  {
   "cell_type": "code",
   "execution_count": 4,
   "id": "9c6cb8cb-4f07-42ed-81c8-6caed00233b5",
   "metadata": {
    "tags": []
   },
   "outputs": [],
   "source": [
    "def __mlti_intervals_to_zero(dat, times, mlti_t1, mlti_t2, t_offset_sec=120):\n",
    "\n",
    "    from numpy import nan, where, full, array\n",
    "\n",
    "    dat = array(dat)\n",
    "\n",
    "    mask = full((len(times)), 0, dtype=int)\n",
    "\n",
    "    idx = 0\n",
    "    for nn, tt in enumerate(times):\n",
    "\n",
    "        if idx >= len(mlti_t1):\n",
    "            continue\n",
    "        else:\n",
    "            t1, t2 = (mlti_t1[idx]-t_offset_sec), (mlti_t2[idx]+t_offset_sec)\n",
    "\n",
    "        if tt >= t1:\n",
    "            mask[nn] = 1\n",
    "        if tt > t2:\n",
    "            idx += 1\n",
    "\n",
    "    dat = where(mask == 1, 1, dat)\n",
    "\n",
    "    return dat"
   ]
  },
  {
   "cell_type": "code",
   "execution_count": 5,
   "id": "c06ddf0f-db4f-4d71-89e3-49260f57a168",
   "metadata": {
    "tags": []
   },
   "outputs": [],
   "source": [
    "def __get_trace(seed):\n",
    "\n",
    "    from numpy import zeros\n",
    "\n",
    "    net, sta, loc, cha = seed.split('.')\n",
    "\n",
    "    trr = obs.Trace()\n",
    "    trr.stats.starttime = config['t1']\n",
    "    trr.data = zeros(config['Nexpected'])\n",
    "    trr.stats.network = net\n",
    "    trr.stats.station = sta\n",
    "    trr.stats.location = loc\n",
    "    trr.stats.channel = cha\n",
    "    trr.stats.sampling_rate = config['sampling_rate']\n",
    "\n",
    "    return trr"
   ]
  },
  {
   "cell_type": "markdown",
   "id": "a9cfd05f",
   "metadata": {},
   "source": [
    "## Configurations"
   ]
  },
  {
   "cell_type": "code",
   "execution_count": 6,
   "id": "42cd60e7",
   "metadata": {
    "ExecuteTime": {
     "end_time": "2023-04-05T16:32:26.446824Z",
     "start_time": "2023-04-05T16:32:26.444464Z"
    },
    "tags": []
   },
   "outputs": [],
   "source": [
    "config = {}\n",
    "\n",
    "config['path_to_sds'] = archive_path+\"romy_archive/\"\n",
    "\n",
    "config['path_to_sds_out'] = archive_path+\"temp_archive/\"\n",
    "\n",
    "config['path_to_inventory'] = root_path+\"Documents/ROMY/stationxml_ringlaser/dataless/\"\n",
    "\n",
    "# config['tbeg'] = obs.UTCDateTime(\"2024-06-04\")\n",
    "# config['tend'] = config['tbeg'] + 7200\n",
    "\n",
    "config['tbeg'] = obs.UTCDateTime(\"2024-05-25\")\n",
    "config['tend'] = config['tbeg'] + 86400\n",
    "\n",
    "config['sampling_rate'] = 20 # Hz\n",
    "\n",
    "config['time_offset'] = 60 # seconds\n",
    "\n",
    "config['t1'] = config['tbeg']-config['time_offset']\n",
    "config['t2'] = config['tend']+config['time_offset']\n",
    "\n",
    "config['Nexpected'] = int((config['t2'] - config['t1']) * config['sampling_rate'])\n"
   ]
  },
  {
   "cell_type": "markdown",
   "id": "47ff88ba",
   "metadata": {},
   "source": [
    "## Load Data"
   ]
  },
  {
   "cell_type": "code",
   "execution_count": 7,
   "id": "7f6e9e01-bf40-484d-959a-34ce89571542",
   "metadata": {
    "tags": []
   },
   "outputs": [],
   "source": [
    "# load MLTI logs\n",
    "mltiU = __load_mlti(config['t1'], config['t2'], \"U\", archive_path)\n",
    "mltiV = __load_mlti(config['t1'], config['t2'], \"V\", archive_path)\n",
    "mltiZ = __load_mlti(config['t1'], config['t2'], \"Z\", archive_path)\n",
    "\n",
    "# load maintenance file\n",
    "lxx = __load_lxx(config['t1'], config['t2'], archive_path)\n"
   ]
  },
  {
   "cell_type": "markdown",
   "id": "b77b0e91-16de-4727-ab5e-d65748be26ad",
   "metadata": {},
   "source": [
    "### Load inventory"
   ]
  },
  {
   "cell_type": "code",
   "execution_count": 8,
   "id": "09be55c7-9229-49ee-b0dc-815bc46e77bc",
   "metadata": {
    "tags": []
   },
   "outputs": [],
   "source": [
    "romy_inv = obs.read_inventory(config['path_to_inventory']+\"dataless.seed.BW_ROMY\")"
   ]
  },
  {
   "cell_type": "markdown",
   "id": "539edac4-eeb2-406b-b588-5a9407f62caa",
   "metadata": {},
   "source": [
    "### Load rotation data"
   ]
  },
  {
   "cell_type": "code",
   "execution_count": 9,
   "id": "6531ba89-9408-4e09-854e-62d7fe27a1f4",
   "metadata": {
    "tags": []
   },
   "outputs": [
    {
     "name": "stdout",
     "output_type": "stream",
     "text": [
      "6 Trace(s) in Stream:\n",
      "BW.ROMY.10.BJZ | 2024-05-24T23:59:00.009799Z - 2024-05-26T00:01:00.009799Z | 20.0 Hz, 1730401 samples\n",
      "BW.ROMY..BJU   | 2024-05-24T23:58:59.989000Z - 2024-05-25T06:37:56.339000Z | 20.0 Hz, 478728 samples\n",
      "BW.ROMY..BJU   | 2024-05-25T06:38:00.138201Z - 2024-05-25T19:12:59.638201Z | 20.0 Hz, 905991 samples\n",
      "BW.ROMY..BJU   | 2024-05-25T19:13:01.562799Z - 2024-05-26T00:01:00.012799Z | 20.0 Hz, 345570 samples\n",
      "BW.ROMY..BJV   | 2024-05-24T23:59:00.019599Z - 2024-05-25T09:48:44.369599Z | 20.0 Hz, 707688 samples\n",
      "BW.ROMY..BJV   | 2024-05-25T09:48:45.644199Z - 2024-05-26T00:00:59.994199Z | 20.0 Hz, 1022688 samples\n",
      " -> merging required!\n",
      "3 Trace(s) in Stream:\n",
      "BW.ROMY..BJU   | 2024-05-24T23:58:59.989000Z - 2024-05-26T00:00:59.989000Z | 20.0 Hz, 1730401 samples\n",
      "BW.ROMY..BJV   | 2024-05-24T23:59:00.019599Z - 2024-05-26T00:00:59.969599Z | 20.0 Hz, 1730400 samples\n",
      "BW.ROMY.10.BJZ | 2024-05-24T23:59:00.009799Z - 2024-05-26T00:01:00.009799Z | 20.0 Hz, 1730401 samples\n"
     ]
    },
    {
     "data": {
      "text/plain": [
       "3 Trace(s) in Stream:\n",
       "BW.ROMY..BJN   | 2024-05-24T23:58:59.989000Z - 2024-05-26T00:00:59.939000Z | 20.0 Hz, 1730400 samples\n",
       "BW.ROMY..BJE   | 2024-05-24T23:59:00.019599Z - 2024-05-26T00:00:59.969599Z | 20.0 Hz, 1730400 samples\n",
       "BW.ROMY.10.BJZ | 2024-05-24T23:59:00.009799Z - 2024-05-26T00:00:59.959799Z | 20.0 Hz, 1730400 samples"
      ]
     },
     "execution_count": 9,
     "metadata": {},
     "output_type": "execute_result"
    }
   ],
   "source": [
    "st0 = obs.Stream()\n",
    "\n",
    "st0 += __read_sds(config['path_to_sds'], \"BW.ROMY.10.BJZ\", config['t1'], config['t2'])\n",
    "st0 += __read_sds(config['path_to_sds'], \"BW.ROMY..BJU\", config['t1'], config['t2'])\n",
    "st0 += __read_sds(config['path_to_sds'], \"BW.ROMY..BJV\", config['t1'], config['t2'])\n",
    "\n",
    "# remove sensitivity\n",
    "st0 = st0.remove_sensitivity(romy_inv)\n",
    "\n",
    "print(st0)\n",
    "\n",
    "# check if merging is required\n",
    "if len(st0) > 3:\n",
    "    print(f\" -> merging required!\")\n",
    "    st0.merge(fill_value=\"interpolate\")\n",
    "\n",
    "print(st0)\n",
    "\n",
    "# remove trend\n",
    "st0 = st0.detrend(\"linear\")\n",
    "\n",
    "# check if data has same length\n",
    "for tr in st0:\n",
    "    Nreal = len(tr.data)\n",
    "    if Nreal != config['Nexpected']:\n",
    "        tr.data = tr.data[:config['Nexpected']]\n",
    "        # print(f\" -> adjust length: {tr.stats.station}.{tr.stats.channel}:  {Nreal} -> {config['Nexpected']}\")\n",
    "\n",
    "st0 = __rotate_romy_ZUV_ZNE(st0, romy_inv, keep_z=True)\n",
    "\n",
    "# st0 = st0.trim(config['tbeg'], config['tend'])\n",
    "\n",
    "st0"
   ]
  },
  {
   "cell_type": "code",
   "execution_count": 10,
   "id": "5e844ed3-4f9c-4389-8f69-59ec74b43734",
   "metadata": {
    "tags": []
   },
   "outputs": [
    {
     "data": {
      "image/png": "[encoded data removed]",
      "text/plain": [
       "<Figure size 800x750 with 3 Axes>"
      ]
     },
     "metadata": {},
     "output_type": "display_data"
    }
   ],
   "source": [
    "st0.plot(equal_scale=False);"
   ]
  },
  {
   "cell_type": "markdown",
   "id": "13b04d61-debf-4c79-a432-e73da5a2f82c",
   "metadata": {},
   "source": [
    "### Load MLTI log"
   ]
  },
  {
   "cell_type": "code",
   "execution_count": 11,
   "id": "7d2a2992-280b-4224-9510-81e6d17166d6",
   "metadata": {
    "tags": []
   },
   "outputs": [],
   "source": [
    "mltiU_t1, mltiU_t2 = __get_mlti_intervals(mltiU.time_utc)\n",
    "mltiV_t1, mltiV_t2 = __get_mlti_intervals(mltiV.time_utc)\n",
    "mltiZ_t1, mltiZ_t2 = __get_mlti_intervals(mltiZ.time_utc)"
   ]
  },
  {
   "cell_type": "markdown",
   "id": "5b8f334a-85b8-4fda-9435-c5d6170b22e8",
   "metadata": {},
   "source": [
    "#### use MLTI log as filter"
   ]
  },
  {
   "cell_type": "code",
   "execution_count": 54,
   "id": "da98b7ef-eef3-4300-b5b9-d7f61726981d",
   "metadata": {
    "tags": []
   },
   "outputs": [],
   "source": [
    "tr_mltiU = __get_trace(\"BW.ROMY.30.MLT\")\n",
    "\n",
    "tr_mltiU.data = __mlti_intervals_to_zero(tr_mltiU.data,\n",
    "                                         tr_mltiU.times(reftime=config['t1'], type=\"utcdatetime\"),\n",
    "                                         mltiU_t1,\n",
    "                                         mltiU_t2,\n",
    "                                         t_offset_sec=30\n",
    "                                         )"
   ]
  },
  {
   "cell_type": "code",
   "execution_count": 55,
   "id": "9e6cbcb4-0053-4135-9fb5-d94ba75fd7f7",
   "metadata": {
    "tags": []
   },
   "outputs": [],
   "source": [
    "tr_mltiV = __get_trace(\"BW.ROMY.30.MLT\")\n",
    "\n",
    "tr_mltiV.data = __mlti_intervals_to_zero(tr_mltiV.data,\n",
    "                                         tr_mltiV.times(reftime=config['t1'], type=\"utcdatetime\"),\n",
    "                                         mltiV_t1,\n",
    "                                         mltiV_t2,\n",
    "                                         t_offset_sec=30\n",
    "                                         )"
   ]
  },
  {
   "cell_type": "code",
   "execution_count": 56,
   "id": "50b3a723-444b-48cc-9cf0-80b7f01f577c",
   "metadata": {
    "tags": []
   },
   "outputs": [],
   "source": [
    "tr_mltiZ = __get_trace(\"BW.ROMY.30.MLT\")\n",
    "\n",
    "tr_mltiZ.data = __mlti_intervals_to_zero(tr_mltiZ.data,\n",
    "                                         tr_mltiZ.times(reftime=config['t1'], type=\"utcdatetime\"),\n",
    "                                         mltiZ_t1,\n",
    "                                         mltiZ_t2,\n",
    "                                         t_offset_sec=30\n",
    "                                         )"
   ]
  },
  {
   "cell_type": "markdown",
   "id": "85a00762-539a-4b15-b46a-c00a27603692",
   "metadata": {},
   "source": [
    "### Load maintenance log"
   ]
  },
  {
   "cell_type": "code",
   "execution_count": 15,
   "id": "7ec6106a-eb07-402a-987e-24653e62aa85",
   "metadata": {
    "tags": []
   },
   "outputs": [],
   "source": [
    "lxx_t1, lxx_t2 = __get_mlti_intervals(lxx.datetime)"
   ]
  },
  {
   "cell_type": "markdown",
   "id": "019373c1-51bc-4dd0-b6a6-d62e095a0362",
   "metadata": {},
   "source": [
    "#### use maintenance log as filter"
   ]
  },
  {
   "cell_type": "code",
   "execution_count": 16,
   "id": "fca5b109-a6bc-4577-9aab-176f46b57b7d",
   "metadata": {
    "tags": []
   },
   "outputs": [],
   "source": [
    "tr_lxx = __get_trace(\"BW.ROMY.30.LXX\")\n",
    "\n",
    "tr_lxx.data = __mlti_intervals_to_zero(tr_lxx.data,\n",
    "                                       tr_lxx.times(reftime=config['t1'], type=\"utcdatetime\"),\n",
    "                                       lxx_t1,\n",
    "                                       lxx_t2,\n",
    "                                       t_offset_sec=60\n",
    "                                       )"
   ]
  },
  {
   "cell_type": "code",
   "execution_count": 57,
   "id": "a080d812-a382-4962-9451-22bc41615c8b",
   "metadata": {
    "tags": []
   },
   "outputs": [],
   "source": [
    "# make mlti trace for horizontals (since rotated and intermixed)\n",
    "tr_mltiH = tr_mltiU.copy()\n",
    "\n",
    "# combine mlti periods\n",
    "tr_mltiH.data = tr_mltiU.data + tr_mltiV.data\n",
    "\n",
    "# remove periods with value 2 due to summation\n",
    "tr_mltiH.data = where(tr_mltiH.data >= 1, 1, tr_mltiH.data)"
   ]
  },
  {
   "cell_type": "code",
   "execution_count": 58,
   "id": "fac7cd39-a7a2-4861-a345-e7ec5de88665",
   "metadata": {
    "tags": []
   },
   "outputs": [],
   "source": [
    "# Z = st0.select(channel=\"*E\")[0].data\n",
    "\n",
    "# plt.figure()\n",
    "# plt.plot(tr_mltiH.data)\n",
    "# plt.plot(tr_lxx.data)\n",
    "\n",
    "# plt.plot(Z)\n",
    "# plt.ylim(-max(abs(Z)), max(abs(Z)))\n",
    "# plt.show()"
   ]
  },
  {
   "cell_type": "markdown",
   "id": "98482bea-cf7b-48f2-94df-21683b601c26",
   "metadata": {
    "tags": []
   },
   "source": [
    "### Remove Spikes"
   ]
  },
  {
   "cell_type": "code",
   "execution_count": 18,
   "id": "651a7f82-3ff1-44a6-9836-1738a4e3b1c0",
   "metadata": {
    "tags": []
   },
   "outputs": [],
   "source": [
    "%matplotlib tk"
   ]
  },
  {
   "cell_type": "code",
   "execution_count": 59,
   "id": "0df44364-7ecd-478a-893d-4f7b088b725b",
   "metadata": {
    "tags": []
   },
   "outputs": [],
   "source": [
    "def despike_sta_lta(arr, df, t_lta=50, t_sta=1, threshold_upper=40, plot=False):\n",
    "\n",
    "    from obspy.signal.trigger import recursive_sta_lta\n",
    "    from obspy.signal.trigger import classic_sta_lta\n",
    "    from obspy.signal.trigger import plot_trigger\n",
    "    import numpy as np\n",
    "\n",
    "    def smooth(y, npts):\n",
    "        '''\n",
    "        moving average of 1d signal for n samples\n",
    "        '''\n",
    "        win = np.hanning(npts)\n",
    "        y_smooth = np.convolve(y, win/np.sum(win), mode='same')\n",
    "        y_smooth[:npts//2] = np.nan\n",
    "        y_smooth[-npts//2:] = np.nan\n",
    "        return y_smooth\n",
    "\n",
    "    # apply sta lta\n",
    "    # cft = classic_sta_lta(arr, int(t_sta * df), int(t_lta * df))\n",
    "\n",
    "    cft = recursive_sta_lta(arr, int(t_sta * df), int(t_lta * df))\n",
    "\n",
    "    # plot trigger result\n",
    "    if plot:\n",
    "        plot_trigger(tr, cft, threshold_upper, 1, show=plot)\n",
    "\n",
    "    # create mask from triggers\n",
    "    spikes = np.where(cft < threshold_upper, 0, cft)\n",
    "    spikes = np.where(spikes > threshold_upper, 1, spikes)\n",
    "\n",
    "    # create mask with nan\n",
    "    mask2 = where(spikes == 1, np.nan, spikes)\n",
    "    mask2 += 1\n",
    "\n",
    "    mask2 = smooth(mask2, 20)\n",
    "\n",
    "    mask1 = np.nan_to_num(mask2, nan=0)\n",
    "\n",
    "    return spikes, mask1, mask2"
   ]
  },
  {
   "cell_type": "code",
   "execution_count": 60,
   "id": "e9ef9849-6612-44c2-9f76-445bd2df6c55",
   "metadata": {
    "tags": []
   },
   "outputs": [
    {
     "name": "stdout",
     "output_type": "stream",
     "text": [
      " -> stopped despiking!\n",
      "    N: iteration=11  spikes=202\n",
      " -> stopped despiking!\n",
      "    E: iteration=19  spikes=698\n",
      " -> stopped despiking!\n",
      "    Z: iteration=10  spikes=169\n"
     ]
    }
   ],
   "source": [
    "spikes = {}\n",
    "\n",
    "for tr in st0:\n",
    "\n",
    "    df = tr.stats.sampling_rate\n",
    "\n",
    "    cha = tr.stats.channel[-1]\n",
    "\n",
    "    data = tr.copy().data\n",
    "\n",
    "    _data = tr.copy().data\n",
    "\n",
    "    spikes[cha] = np.zeros(_data.size)\n",
    "\n",
    "    for i in range(20):\n",
    "\n",
    "        # detect spikes\n",
    "        _spikes, mask1, mask2 = despike_sta_lta(_data, df, t_lta=50, t_sta=1, threshold_upper=30, plot=False)\n",
    "\n",
    "        # stop if no more spikes are detected\n",
    "        if any(_sp >= 1 for _sp in _spikes):\n",
    "            # apply mask\n",
    "            _data *= mask1\n",
    "\n",
    "            # add detected spikes\n",
    "            spikes[cha] += _spikes\n",
    "        else:\n",
    "            print(f\" -> stopped despiking!\\n    {cha}: iteration={i}  spikes={int(sum(spikes[cha]))}\")\n",
    "            break\n",
    "\n",
    "    # normalize to one (avoid accumulation)\n",
    "    spikes[cha] = np.where(spikes[cha] > 1, 1, spikes[cha])\n",
    "\n",
    "    plt.figure()\n",
    "    plt.plot(data)\n",
    "    # plt.plot(spikes*max(abs(data)))\n",
    "    plt.plot(_data*mask2)"
   ]
  },
  {
   "cell_type": "markdown",
   "id": "6e7bab50-a63e-4a40-9f77-965de87708be",
   "metadata": {
    "tags": []
   },
   "source": [
    "## Write Data"
   ]
  },
  {
   "cell_type": "code",
   "execution_count": 21,
   "id": "94e1b307-176f-47a2-b562-4025909b94b9",
   "metadata": {
    "tags": []
   },
   "outputs": [],
   "source": [
    "outZ = obs.Stream()\n",
    "\n",
    "outZ += st0.select(component=\"Z\").copy()\n",
    "outZ.select(component=\"Z\")[0].stats.location = \"30\"\n",
    "outZ += tr_mltiZ.copy()\n",
    "outZ += tr_lxx.copy()\n",
    "\n",
    "outZ = outZ.trim(config['tbeg'], config['tend'], nearest_sample=False)\n",
    "\n",
    "# __write_stream_to_sds(outZ, \"BJZ\", config['path_to_sds_out'])\n"
   ]
  },
  {
   "cell_type": "code",
   "execution_count": 22,
   "id": "8d122e9f-54dd-498e-b08d-dcec67f063d2",
   "metadata": {
    "tags": []
   },
   "outputs": [],
   "source": [
    "outN = obs.Stream()\n",
    "\n",
    "outN += st0.select(component=\"N\").copy()\n",
    "outN.select(component=\"N\")[0].stats.location = \"30\"\n",
    "outN += tr_mltiH.copy()\n",
    "outN += tr_lxx.copy()\n",
    "\n",
    "outN = outN.trim(config['tbeg'], config['tend'], nearest_sample=False)\n",
    "\n",
    "# __write_stream_to_sds(outN, \"BJN\", config['path_to_sds_out'])\n"
   ]
  },
  {
   "cell_type": "code",
   "execution_count": 23,
   "id": "55925b28-88b4-4405-b117-fcc6645fa35b",
   "metadata": {
    "tags": []
   },
   "outputs": [],
   "source": [
    "outE = obs.Stream()\n",
    "\n",
    "outE += st0.select(component=\"E\").copy()\n",
    "outE.select(component=\"E\")[0].stats.location = \"30\"\n",
    "outE += tr_mltiH.copy()\n",
    "outE += tr_lxx.copy()\n",
    "\n",
    "outE = outE.trim(config['tbeg'], config['tend'], nearest_sample=False)\n",
    "\n",
    "# __write_stream_to_sds(outE, \"BJE\", config['path_to_sds_out'])\n"
   ]
  },
  {
   "cell_type": "markdown",
   "id": "5d5d9268-41e9-405b-becd-4385aed05f3e",
   "metadata": {},
   "source": [
    "## Option 2"
   ]
  },
  {
   "cell_type": "code",
   "execution_count": 61,
   "id": "625447d3-bc57-492e-8e05-cc1a920878f1",
   "metadata": {
    "tags": []
   },
   "outputs": [],
   "source": [
    "outZ = obs.Stream()\n",
    "\n",
    "outZ += st0.select(component=\"Z\").copy()\n",
    "outZ.select(component=\"Z\")[0].stats.location = \"30\"\n",
    "\n",
    "data = outZ.select(component=\"Z\")[0].data\n",
    "mask = tr_mltiZ.data\n",
    "\n",
    "if len(data) != len(mask):\n",
    "    mask = mask[:len(data)]\n",
    "\n",
    "# apply mlti mask\n",
    "dat1 = ma.masked_array(data, mask=mask)\n",
    "\n",
    "# apply spikes mask\n",
    "dat2 = ma.masked_array(dat1, mask=spikes[\"Z\"])\n",
    "\n",
    "# overwrite data\n",
    "outZ.select(component=\"Z\")[0].data = dat2\n",
    "\n",
    "# trim to defined interval\n",
    "outZ = outZ.trim(config['tbeg'], config['tend'], nearest_sample=False)\n",
    "\n",
    "outZ = outZ.split()\n",
    "\n",
    "# __write_stream_to_sds(outZ, \"BJZ\", config['path_to_sds_out'])\n",
    "\n",
    "outZ.plot();"
   ]
  },
  {
   "cell_type": "code",
   "execution_count": null,
   "id": "b59114df-94dc-427f-a33d-e30f67a90663",
   "metadata": {
    "tags": []
   },
   "outputs": [],
   "source": [
    "outN = obs.Stream()\n",
    "\n",
    "outN += st0.select(component=\"N\").copy()\n",
    "outN.select(component=\"N\")[0].stats.location = \"30\"\n",
    "\n",
    "data = outN.select(component=\"N\")[0].data\n",
    "mask = tr_mltiH.data\n",
    "\n",
    "if len(data) != len(mask):\n",
    "    mask = mask[:len(data)]\n",
    "\n",
    "# apply mlti mask\n",
    "dat1 = ma.masked_array(data, mask=mask)\n",
    "\n",
    "# apply spikes mask\n",
    "dat2 = ma.masked_array(dat1, mask=spikes[\"N\"])\n",
    "\n",
    "# overwrite data\n",
    "outN.select(component=\"N\")[0].data = dat2\n",
    "\n",
    "# trim to defined interval\n",
    "outN = outN.trim(config['tbeg'], config['tend'], nearest_sample=False)\n",
    "\n",
    "outN = outN.split()\n",
    "\n",
    "# __write_stream_to_sds(outN, \"BJN\", config['path_to_sds_out'])\n",
    "\n",
    "outN.plot();"
   ]
  },
  {
   "cell_type": "code",
   "execution_count": 62,
   "id": "c1af4abf-262c-45b4-bbde-da45ffdabecb",
   "metadata": {
    "tags": []
   },
   "outputs": [],
   "source": [
    "outE = obs.Stream()\n",
    "\n",
    "outE += st0.select(component=\"E\").copy()\n",
    "outE.select(component=\"E\")[0].stats.location = \"30\"\n",
    "\n",
    "data = outE.select(component=\"E\")[0].data\n",
    "mask = tr_mltiH.data\n",
    "\n",
    "if len(data) != len(mask):\n",
    "    mask = mask[:len(data)]\n",
    "\n",
    "# apply mlti mask\n",
    "dat1 = ma.masked_array(data, mask=mask)\n",
    "\n",
    "# apply spikes mask\n",
    "dat2 = ma.masked_array(dat1, mask=spikes[\"E\"])\n",
    "\n",
    "# overwrite data\n",
    "outE.select(component=\"E\")[0].data = dat2\n",
    "\n",
    "\n",
    "outE = outE.trim(config['tbeg'], config['tend'], nearest_sample=False)\n",
    "\n",
    "outE = outE.split()\n",
    "\n",
    "# __write_stream_to_sds(outE, \"BJE\", config['path_to_sds_out'])\n",
    "\n",
    "outE.plot();"
   ]
  },
  {
   "cell_type": "code",
   "execution_count": null,
   "id": "d22650c5-0296-4bf9-9433-0d3abff4c963",
   "metadata": {},
   "outputs": [],
   "source": []
  }
 ],
 "metadata": {
  "kernelspec": {
   "display_name": "Python 3 (ipykernel)",
   "language": "python",
   "name": "python3"
  },
  "language_info": {
   "codemirror_mode": {
    "name": "ipython",
    "version": 3
   },
   "file_extension": ".py",
   "mimetype": "text/x-python",
   "name": "python",
   "nbconvert_exporter": "python",
   "pygments_lexer": "ipython3",
   "version": "3.10.12"
  },
  "latex_envs": {
   "LaTeX_envs_menu_present": true,
   "autoclose": false,
   "autocomplete": true,
   "bibliofile": "biblio.bib",
   "cite_by": "apalike",
   "current_citInitial": 1,
   "eqLabelWithNumbers": true,
   "eqNumInitial": 1,
   "hotkeys": {
    "equation": "Ctrl-E",
    "itemize": "Ctrl-I"
   },
   "labels_anchors": false,
   "latex_user_defs": false,
   "report_style_numbering": false,
   "user_envs_cfg": false
  },
  "toc": {
   "base_numbering": 1,
   "nav_menu": {},
   "number_sections": true,
   "sideBar": true,
   "skip_h1_title": false,
   "title_cell": "Table of Contents",
   "title_sidebar": "Contents",
   "toc_cell": false,
   "toc_position": {},
   "toc_section_display": true,
   "toc_window_display": false
  },
  "varInspector": {
   "cols": {
    "lenName": 16,
    "lenType": 16,
    "lenVar": 40
   },
   "kernels_config": {
    "python": {
     "delete_cmd_postfix": "",
     "delete_cmd_prefix": "del ",
     "library": "var_list.py",
     "varRefreshCmd": "print(var_dic_list())"
    },
    "r": {
     "delete_cmd_postfix": ") ",
     "delete_cmd_prefix": "rm(",
     "library": "var_list.r",
     "varRefreshCmd": "cat(var_dic_list()) "
    }
   },
   "types_to_exclude": [
    "module",
    "function",
    "builtin_function_or_method",
    "instance",
    "_Feature"
   ],
   "window_display": false
  }
 },
 "nbformat": 4,
 "nbformat_minor": 5
}
