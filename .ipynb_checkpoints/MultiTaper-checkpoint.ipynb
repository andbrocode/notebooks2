{
 "cells": [
  {
   "cell_type": "markdown",
   "id": "6add6c44",
   "metadata": {},
   "source": [
    "# MultiTaper Test"
   ]
  },
  {
   "cell_type": "code",
   "execution_count": 4,
   "id": "5171f6b1",
   "metadata": {
    "ExecuteTime": {
     "end_time": "2022-04-28T12:53:55.015278Z",
     "start_time": "2022-04-28T12:53:55.011376Z"
    }
   },
   "outputs": [],
   "source": [
    "from spectrum import data_cosine, dpss, pmtm\n",
    "\n",
    "import obspy\n",
    "import pickle\n",
    "import matplotlib.pyplot as plt\n",
    "import numpy as np"
   ]
  },
  {
   "cell_type": "code",
   "execution_count": 5,
   "id": "6eb64609",
   "metadata": {
    "ExecuteTime": {
     "end_time": "2022-04-28T12:53:55.231804Z",
     "start_time": "2022-04-28T12:53:55.227985Z"
    }
   },
   "outputs": [],
   "source": [
    "# ifile=\"/home/andbro/notebooks/Sagnac_processing/data/greece.mod\"\n",
    "\n",
    "# st = obspy.read(ifile)\n",
    "# st"
   ]
  },
  {
   "cell_type": "code",
   "execution_count": 6,
   "id": "f9d54f14",
   "metadata": {
    "ExecuteTime": {
     "end_time": "2022-04-28T12:53:55.450066Z",
     "start_time": "2022-04-28T12:53:55.378911Z"
    }
   },
   "outputs": [],
   "source": [
    "\n",
    "ifile = open(f'/home/andbro/notebooks/Sagnac_processing/data/greece.syn',\"rb\")\n",
    "\n",
    "synthetic_signal = pickle.load(ifile)"
   ]
  },
  {
   "cell_type": "code",
   "execution_count": 50,
   "id": "744b6d11",
   "metadata": {
    "ExecuteTime": {
     "end_time": "2022-04-28T13:04:38.268708Z",
     "start_time": "2022-04-28T13:04:38.265621Z"
    }
   },
   "outputs": [],
   "source": [
    "data = synthetic_signal[10_000:30_000]"
   ]
  },
  {
   "cell_type": "code",
   "execution_count": 51,
   "id": "bf884920",
   "metadata": {
    "ExecuteTime": {
     "end_time": "2022-04-28T13:04:38.750207Z",
     "start_time": "2022-04-28T13:04:38.514304Z"
    }
   },
   "outputs": [
    {
     "data": {
      "text/plain": [
       "[<matplotlib.lines.Line2D at 0x7f455de738d0>]"
      ]
     },
     "execution_count": 51,
     "metadata": {},
     "output_type": "execute_result"
    },
    {
     "data": {
      "image/png": "[encoded data removed]",
      "text/plain": [
       "<Figure size 432x288 with 1 Axes>"
      ]
     },
     "metadata": {
      "needs_background": "light"
     },
     "output_type": "display_data"
    }
   ],
   "source": [
    "tt = np.linspace(0, T, )\n",
    "\n",
    "plt.plot(data)"
   ]
  },
  {
   "cell_type": "code",
   "execution_count": 99,
   "id": "f0bcfbb2",
   "metadata": {
    "ExecuteTime": {
     "end_time": "2022-04-28T13:20:39.612322Z",
     "start_time": "2022-04-28T13:20:39.503897Z"
    }
   },
   "outputs": [],
   "source": [
    "N = len(data)\n",
    "method = \"eigen\"\n",
    "n_windows = 8\n",
    "\n",
    "T  = 1600\n",
    "fs = 5000\n",
    "ff = np.arange(-fs/2, fs/2, 1/fs)\n",
    "\n",
    "[tapers, eigen] = dpss(N, 2.5, n_windows)\n",
    "\n",
    "sk_complex, weights, eigenvalues = pmtm(data, e=eigen, v=tapers, method=method, show=False)\n",
    "\n",
    "sk = abs(sk_complex)**2\n",
    "\n",
    "if method == \"adapt\":\n",
    "    sk = sk.transpose()\n",
    "    sk = np.mean(sk * weights, axis=1)\n",
    "else:\n",
    "    sk = np.mean(sk * weights, axis=0)"
   ]
  },
  {
   "cell_type": "code",
   "execution_count": 100,
   "id": "ad3f492d",
   "metadata": {
    "ExecuteTime": {
     "end_time": "2022-04-28T13:20:39.732816Z",
     "start_time": "2022-04-28T13:20:39.726060Z"
    }
   },
   "outputs": [
    {
     "data": {
      "text/plain": [
       "(32768, 20000, 25000000)"
      ]
     },
     "execution_count": 100,
     "metadata": {},
     "output_type": "execute_result"
    }
   ],
   "source": [
    "len(sk), N, len(ff)"
   ]
  },
  {
   "cell_type": "code",
   "execution_count": 101,
   "id": "1b18999e",
   "metadata": {
    "ExecuteTime": {
     "end_time": "2022-04-28T13:20:40.266823Z",
     "start_time": "2022-04-28T13:20:39.840715Z"
    }
   },
   "outputs": [
    {
     "data": {
      "text/plain": [
       "[<matplotlib.lines.Line2D at 0x7f4529b1ae90>]"
      ]
     },
     "execution_count": 101,
     "metadata": {},
     "output_type": "execute_result"
    },
    {
     "data": {
      "image/png": "[encoded data removed]",
      "text/plain": [
       "<Figure size 432x288 with 1 Axes>"
      ]
     },
     "metadata": {
      "needs_background": "light"
     },
     "output_type": "display_data"
    }
   ],
   "source": [
    "plt.semilogy(sk[29_000:29_300])"
   ]
  },
  {
   "cell_type": "code",
   "execution_count": 67,
   "id": "b3073818",
   "metadata": {
    "ExecuteTime": {
     "end_time": "2022-04-28T13:17:38.970833Z",
     "start_time": "2022-04-28T13:17:38.964742Z"
    }
   },
   "outputs": [
    {
     "data": {
      "text/plain": [
       "16384.0"
      ]
     },
     "execution_count": 67,
     "metadata": {},
     "output_type": "execute_result"
    }
   ],
   "source": [
    "32768/2"
   ]
  },
  {
   "cell_type": "code",
   "execution_count": null,
   "id": "66189dda",
   "metadata": {},
   "outputs": [],
   "source": []
  }
 ],
 "metadata": {
  "kernelspec": {
   "display_name": "Python 3",
   "language": "python",
   "name": "python3"
  },
  "language_info": {
   "codemirror_mode": {
    "name": "ipython",
    "version": 3
   },
   "file_extension": ".py",
   "mimetype": "text/x-python",
   "name": "python",
   "nbconvert_exporter": "python",
   "pygments_lexer": "ipython3",
   "version": "3.7.8"
  },
  "latex_envs": {
   "LaTeX_envs_menu_present": true,
   "autoclose": false,
   "autocomplete": true,
   "bibliofile": "biblio.bib",
   "cite_by": "apalike",
   "current_citInitial": 1,
   "eqLabelWithNumbers": true,
   "eqNumInitial": 1,
   "hotkeys": {
    "equation": "Ctrl-E",
    "itemize": "Ctrl-I"
   },
   "labels_anchors": false,
   "latex_user_defs": false,
   "report_style_numbering": false,
   "user_envs_cfg": false
  },
  "toc": {
   "base_numbering": 1,
   "nav_menu": {},
   "number_sections": true,
   "sideBar": true,
   "skip_h1_title": false,
   "title_cell": "Table of Contents",
   "title_sidebar": "Contents",
   "toc_cell": false,
   "toc_position": {},
   "toc_section_display": true,
   "toc_window_display": false
  }
 },
 "nbformat": 4,
 "nbformat_minor": 5
}
