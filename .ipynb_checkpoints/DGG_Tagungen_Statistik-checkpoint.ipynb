{
 "cells": [
  {
   "cell_type": "markdown",
   "id": "d3ce52a0",
   "metadata": {},
   "source": [
    "## Statistik der DGG Tagungen"
   ]
  },
  {
   "cell_type": "code",
   "execution_count": 2,
   "id": "fd636561",
   "metadata": {},
   "outputs": [],
   "source": [
    "import pandas as pd\n",
    "import numpy as np\n",
    "import matplotlib.pyplot as plt"
   ]
  },
  {
   "cell_type": "markdown",
   "id": "8acd0f56",
   "metadata": {},
   "source": [
    "## Einreichungen nach Themen"
   ]
  },
  {
   "cell_type": "code",
   "execution_count": 7,
   "id": "1dd37cb5",
   "metadata": {},
   "outputs": [],
   "source": [
    "path = \"/home/brotzer/Documents/LMU_Docs/DGG_2022/\"\n",
    "\n",
    "file = \"DGG_Tagungen_Statistik.csv\""
   ]
  },
  {
   "cell_type": "code",
   "execution_count": 13,
   "id": "91fcb534",
   "metadata": {},
   "outputs": [],
   "source": [
    "stats = pd.read_csv(path+file, header=0)"
   ]
  },
  {
   "cell_type": "code",
   "execution_count": 14,
   "id": "8f1279d9",
   "metadata": {},
   "outputs": [
    {
     "data": {
      "text/html": [
       "<div>\n",
       "<style scoped>\n",
       "    .dataframe tbody tr th:only-of-type {\n",
       "        vertical-align: middle;\n",
       "    }\n",
       "\n",
       "    .dataframe tbody tr th {\n",
       "        vertical-align: top;\n",
       "    }\n",
       "\n",
       "    .dataframe thead th {\n",
       "        text-align: right;\n",
       "    }\n",
       "</style>\n",
       "<table border=\"1\" class=\"dataframe\">\n",
       "  <thead>\n",
       "    <tr style=\"text-align: right;\">\n",
       "      <th></th>\n",
       "      <th>jahr</th>\n",
       "      <th>gesamt</th>\n",
       "      <th>mitglied</th>\n",
       "      <th>nichtmitglied</th>\n",
       "      <th>junioren</th>\n",
       "      <th>senioren</th>\n",
       "      <th>earlybird</th>\n",
       "      <th>normal</th>\n",
       "      <th>late</th>\n",
       "    </tr>\n",
       "  </thead>\n",
       "  <tbody>\n",
       "    <tr>\n",
       "      <th>Muenchen</th>\n",
       "      <td>2022</td>\n",
       "      <td>278.0</td>\n",
       "      <td>189.0</td>\n",
       "      <td>89.0</td>\n",
       "      <td>80.0</td>\n",
       "      <td>16.0</td>\n",
       "      <td>187.0</td>\n",
       "      <td>59.0</td>\n",
       "      <td>32.0</td>\n",
       "    </tr>\n",
       "    <tr>\n",
       "      <th>Kiel</th>\n",
       "      <td>2021</td>\n",
       "      <td>403.0</td>\n",
       "      <td>255.0</td>\n",
       "      <td>148.0</td>\n",
       "      <td>200.0</td>\n",
       "      <td>16.0</td>\n",
       "      <td>NaN</td>\n",
       "      <td>NaN</td>\n",
       "      <td>NaN</td>\n",
       "    </tr>\n",
       "    <tr>\n",
       "      <th>Abgesagt</th>\n",
       "      <td>2020</td>\n",
       "      <td>NaN</td>\n",
       "      <td>NaN</td>\n",
       "      <td>NaN</td>\n",
       "      <td>NaN</td>\n",
       "      <td>NaN</td>\n",
       "      <td>NaN</td>\n",
       "      <td>NaN</td>\n",
       "      <td>NaN</td>\n",
       "    </tr>\n",
       "    <tr>\n",
       "      <th>Braunschweig</th>\n",
       "      <td>2019</td>\n",
       "      <td>NaN</td>\n",
       "      <td>NaN</td>\n",
       "      <td>NaN</td>\n",
       "      <td>NaN</td>\n",
       "      <td>NaN</td>\n",
       "      <td>NaN</td>\n",
       "      <td>NaN</td>\n",
       "      <td>NaN</td>\n",
       "    </tr>\n",
       "    <tr>\n",
       "      <th>Leoben</th>\n",
       "      <td>2018</td>\n",
       "      <td>250.0</td>\n",
       "      <td>147.0</td>\n",
       "      <td>103.0</td>\n",
       "      <td>66.0</td>\n",
       "      <td>1.0</td>\n",
       "      <td>151.0</td>\n",
       "      <td>25.0</td>\n",
       "      <td>74.0</td>\n",
       "    </tr>\n",
       "    <tr>\n",
       "      <th>Potsdam</th>\n",
       "      <td>2017</td>\n",
       "      <td>NaN</td>\n",
       "      <td>NaN</td>\n",
       "      <td>NaN</td>\n",
       "      <td>NaN</td>\n",
       "      <td>NaN</td>\n",
       "      <td>NaN</td>\n",
       "      <td>NaN</td>\n",
       "      <td>NaN</td>\n",
       "    </tr>\n",
       "    <tr>\n",
       "      <th>Muenster</th>\n",
       "      <td>2016</td>\n",
       "      <td>568.0</td>\n",
       "      <td>285.0</td>\n",
       "      <td>283.0</td>\n",
       "      <td>213.0</td>\n",
       "      <td>17.0</td>\n",
       "      <td>421.0</td>\n",
       "      <td>107.0</td>\n",
       "      <td>40.0</td>\n",
       "    </tr>\n",
       "    <tr>\n",
       "      <th>Hannover</th>\n",
       "      <td>2015</td>\n",
       "      <td>608.0</td>\n",
       "      <td>295.0</td>\n",
       "      <td>313.0</td>\n",
       "      <td>224.0</td>\n",
       "      <td>NaN</td>\n",
       "      <td>380.0</td>\n",
       "      <td>96.0</td>\n",
       "      <td>132.0</td>\n",
       "    </tr>\n",
       "    <tr>\n",
       "      <th>Karlsruhe</th>\n",
       "      <td>2014</td>\n",
       "      <td>480.0</td>\n",
       "      <td>241.0</td>\n",
       "      <td>239.0</td>\n",
       "      <td>190.0</td>\n",
       "      <td>NaN</td>\n",
       "      <td>341.0</td>\n",
       "      <td>93.0</td>\n",
       "      <td>46.0</td>\n",
       "    </tr>\n",
       "  </tbody>\n",
       "</table>\n",
       "</div>"
      ],
      "text/plain": [
       "              jahr  gesamt  mitglied  nichtmitglied  junioren  senioren  \\\n",
       "Muenchen      2022   278.0     189.0           89.0      80.0      16.0   \n",
       "Kiel          2021   403.0     255.0          148.0     200.0      16.0   \n",
       "Abgesagt      2020     NaN       NaN            NaN       NaN       NaN   \n",
       "Braunschweig  2019     NaN       NaN            NaN       NaN       NaN   \n",
       "Leoben        2018   250.0     147.0          103.0      66.0       1.0   \n",
       "Potsdam       2017     NaN       NaN            NaN       NaN       NaN   \n",
       "Muenster      2016   568.0     285.0          283.0     213.0      17.0   \n",
       "Hannover      2015   608.0     295.0          313.0     224.0       NaN   \n",
       "Karlsruhe     2014   480.0     241.0          239.0     190.0       NaN   \n",
       "\n",
       "              earlybird  normal   late  \n",
       "Muenchen          187.0    59.0   32.0  \n",
       "Kiel                NaN     NaN    NaN  \n",
       "Abgesagt            NaN     NaN    NaN  \n",
       "Braunschweig        NaN     NaN    NaN  \n",
       "Leoben            151.0    25.0   74.0  \n",
       "Potsdam             NaN     NaN    NaN  \n",
       "Muenster          421.0   107.0   40.0  \n",
       "Hannover          380.0    96.0  132.0  \n",
       "Karlsruhe         341.0    93.0   46.0  "
      ]
     },
     "execution_count": 14,
     "metadata": {},
     "output_type": "execute_result"
    }
   ],
   "source": [
    "stats"
   ]
  },
  {
   "cell_type": "code",
   "execution_count": 23,
   "id": "021cb180",
   "metadata": {},
   "outputs": [
    {
     "data": {
      "text/plain": [
       "9"
      ]
     },
     "execution_count": 23,
     "metadata": {},
     "output_type": "execute_result"
    }
   ],
   "source": [
    "stats.jahr.size"
   ]
  },
  {
   "cell_type": "code",
   "execution_count": 82,
   "id": "e82a33c4",
   "metadata": {},
   "outputs": [
    {
     "data": {
      "image/png": "[encoded data removed]",
      "text/plain": [
       "<Figure size 1080x360 with 1 Axes>"
      ]
     },
     "metadata": {
      "needs_background": "light"
     },
     "output_type": "display_data"
    }
   ],
   "source": [
    "events = np.arange(stats.jahr.size) \n",
    "width = 0.15\n",
    "offset=0.02\n",
    "\n",
    "fig, ax = plt.subplots(1,1,figsize=(15,5))\n",
    "\n",
    "\n",
    "# vals = stats.gesamt\n",
    "# bar1 = plt.bar(events, vals, width-offset, color = 'lightblue', alpha=0.9)\n",
    "\n",
    "vals = stats.mitglied\n",
    "bar2 = plt.bar(events+width, vals, width-offset, color='darkblue', alpha=0.9)\n",
    "\n",
    "vals = stats.nichtmitglied\n",
    "bar3 = plt.bar(events+width, vals, width-offset,bottom=stats.mitglied, color='lightblue', alpha=0.9)\n",
    "\n",
    "vals = stats.earlybird\n",
    "bar6 = plt.bar(events+width*2, vals, width-offset, color='darkgreen', alpha=0.9)\n",
    "\n",
    "vals = stats.normal\n",
    "bar7 = plt.bar(events+width*2, vals, width-offset,bottom=stats.earlybird, color='lightgreen', alpha=0.9)\n",
    "\n",
    "vals = stats.late\n",
    "bar8 = plt.bar(events+width*2, vals, width-offset,bottom=stats.earlybird+stats.normal, color='cyan', alpha=0.9)\n",
    "\n",
    "vals = stats.junioren\n",
    "bar4 = plt.bar(events+width*3, vals, width-offset, color='darkorange', alpha=0.9)\n",
    "\n",
    "vals = stats.senioren\n",
    "bar5 = plt.bar(events+width*4, vals, width-offset, color='darkred', alpha=0.9)\n",
    "\n",
    "\n",
    "\n",
    "# Remove axes splines\n",
    "for s in ['top', 'bottom', 'left', 'right']:\n",
    "    ax.spines[s].set_visible(False)\n",
    "\n",
    "# Remove x, y ticks\n",
    "ax.xaxis.set_ticks_position('none')\n",
    "ax.yaxis.set_ticks_position('none')\n",
    "\n",
    "# Add padding between axes and labels\n",
    "ax.xaxis.set_tick_params(pad = 5)\n",
    "ax.yaxis.set_tick_params(pad = 10)\n",
    "\n",
    "ax.grid(axis='y', color ='grey', linestyle ='-.', linewidth = 0.5, alpha = 0.6, zorder=0)\n",
    "\n",
    "\n",
    "plt.title(\"DGG Tagungen - Statistik\", fontsize=15)\n",
    "  \n",
    "plt.xticks(events+width,stats.jahr, fontsize=12, ha='left')\n",
    "plt.legend( (bar2, bar3, bar4, bar5, bar6, bar7, bar8), ('Mitglied', 'Nicht-Mitglied', 'Junioren', 'Senioren', 'Early-Bird','Regular','Late') )\n",
    "\n",
    "plt.show();"
   ]
  }
 ],
 "metadata": {
  "kernelspec": {
   "display_name": "Python 3",
   "language": "python",
   "name": "python3"
  },
  "language_info": {
   "codemirror_mode": {
    "name": "ipython",
    "version": 3
   },
   "file_extension": ".py",
   "mimetype": "text/x-python",
   "name": "python",
   "nbconvert_exporter": "python",
   "pygments_lexer": "ipython3",
   "version": "3.7.7"
  }
 },
 "nbformat": 4,
 "nbformat_minor": 5
}
