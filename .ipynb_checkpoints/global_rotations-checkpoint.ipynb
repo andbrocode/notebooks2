{
 "cells": [
  {
   "cell_type": "markdown",
   "metadata": {},
   "source": [
    "# Global Rotations\n",
    "\n",
    "Small example of how to compute rotations on a global mesh."
   ]
  },
  {
   "cell_type": "code",
   "execution_count": 1,
   "metadata": {},
   "outputs": [],
   "source": [
    "import salvus.namespace as sn\n",
    "import os\n",
    "import numpy as np\n",
    "import obspy as obs\n",
    "\n",
    "from obspy.clients.fdsn import Client, RoutingClient\n",
    "from andbro__del_project import __del_project"
   ]
  },
  {
   "cell_type": "code",
   "execution_count": 2,
   "metadata": {
    "code_folding": [
     0,
     7
    ]
   },
   "outputs": [],
   "source": [
    "def del_project(project_name):\n",
    "    \"\"\" delete specified project file structure\"\"\"\n",
    "    \n",
    "    if project_name: \n",
    "        !rm -rf $project_name \n",
    "        print(f\"deleted: {project_name}\")\n",
    "        \n",
    "def paraview_string(simulation_name, mode):\n",
    "    \"\"\" print string for terminal to call paraview\"\"\"\n",
    "    \n",
    "    if mode is \"mesh\": \n",
    "        path = p.simulations.get_mesh_filenames(simulation_name)\n",
    "        pwd = !pwd \n",
    "        alias_paraview =  \"paraview\"\n",
    "        path2=str(pwd[0])+\"/\"+str(path[\"xdmf_filename\"])\n",
    "        return f\"{alias_paraview} --data={path2} &\"\n",
    "    else: \n",
    "        return \"no mode set \"\n",
    "    "
   ]
  },
  {
   "cell_type": "code",
   "execution_count": 4,
   "metadata": {},
   "outputs": [],
   "source": [
    "d = sn.domain.dim3.SphericalGlobeDomain(radius_in_meter=6371000.0)"
   ]
  },
  {
   "cell_type": "markdown",
   "metadata": {},
   "source": [
    "## Data downloading with ObsPy"
   ]
  },
  {
   "cell_type": "code",
   "execution_count": 5,
   "metadata": {
    "lines_to_next_cell": 2
   },
   "outputs": [],
   "source": [
    "clmu = Client(base_url=\"LMU\")\n",
    "route = RoutingClient(\"eida-routing\")\n",
    "\n",
    "inv1 = route.get_stations(network=\"GR\", station=\"FUR\" )\n",
    "inv2 = clmu.get_stations(network=\"BW\", station=\"DROMY\" )\n"
   ]
  },
  {
   "cell_type": "code",
   "execution_count": 48,
   "metadata": {},
   "outputs": [
    {
     "ename": "FDSNException",
     "evalue": "Bad request. If you think your request was valid please contact the developers.\nDetailed response of server:\n\nError 400: Bad Request\nBad catalog value \"CMT\". Valid values are: \"38457511\", \"=c\", \"ak\", \"at\", \"atlas\", \"av\", \"cdmg\", \"cgs\", \"choy\", \"ci\", \"cidev\", \"dr\", \"duputel\", \"eqh\", \"ew\", \"ew_dm\", \"gcmt\", \"gsc\", \"hv\", \"id\", \"is\", \"iscgem\", \"iscgemsup\", \"ismpkansas\", \"ld\", \"mb\", \"nc\", \"ne\", \"nm\", \"nn\", \"official\", \"official19631013051759_30\", \"ok\", \"pr\", \"pt\", \"sc\", \"se\", \"unknown\", \"us\", \"ushis\", \"uu\", \"uw\".\nUsage details are available from https://earthquake.usgs.gov/fdsnws/event/1\nRequest:\n/fdsnws/event/1/query?starttime=2020-10-30T00%3A00%3A00.000000&endtime=2020-10-31T00%3A00%3A00.000000&minmagnitude=6.5&catalog=CMT\nRequest Submitted:\n2020-11-10T19:32:54+00:00\nService version:\n1.10.3",
     "output_type": "error",
     "traceback": [
      "\u001b[0;31m---------------------------------------------------------------------------\u001b[0m",
      "\u001b[0;31mFDSNException\u001b[0m                             Traceback (most recent call last)",
      "\u001b[0;32m<ipython-input-48-0152c5b03e1b>\u001b[0m in \u001b[0;36m<module>\u001b[0;34m\u001b[0m\n\u001b[1;32m     13\u001b[0m         \u001b[0mstarttime\u001b[0m\u001b[0;34m=\u001b[0m\u001b[0mobs\u001b[0m\u001b[0;34m.\u001b[0m\u001b[0mUTCDateTime\u001b[0m\u001b[0;34m(\u001b[0m\u001b[0;36m2020\u001b[0m\u001b[0;34m,\u001b[0m \u001b[0;36m10\u001b[0m\u001b[0;34m,\u001b[0m \u001b[0;36m30\u001b[0m\u001b[0;34m)\u001b[0m\u001b[0;34m,\u001b[0m\u001b[0;34m\u001b[0m\u001b[0;34m\u001b[0m\u001b[0m\n\u001b[1;32m     14\u001b[0m         \u001b[0mendtime\u001b[0m\u001b[0;34m=\u001b[0m\u001b[0mobs\u001b[0m\u001b[0;34m.\u001b[0m\u001b[0mUTCDateTime\u001b[0m\u001b[0;34m(\u001b[0m\u001b[0;36m2020\u001b[0m\u001b[0;34m,\u001b[0m \u001b[0;36m10\u001b[0m\u001b[0;34m,\u001b[0m \u001b[0;36m31\u001b[0m\u001b[0;34m)\u001b[0m\u001b[0;34m,\u001b[0m\u001b[0;34m\u001b[0m\u001b[0;34m\u001b[0m\u001b[0m\n\u001b[0;32m---> 15\u001b[0;31m         \u001b[0mcatalog\u001b[0m\u001b[0;34m=\u001b[0m\u001b[0;34m\"CMT\"\u001b[0m\u001b[0;34m,\u001b[0m\u001b[0;34m\u001b[0m\u001b[0;34m\u001b[0m\u001b[0m\n\u001b[0m\u001b[1;32m     16\u001b[0m         )\n\u001b[1;32m     17\u001b[0m \u001b[0;34m\u001b[0m\u001b[0m\n",
      "\u001b[0;32m~/anaconda3/envs/salvus/lib/python3.7/site-packages/obspy/clients/fdsn/client.py\u001b[0m in \u001b[0;36mget_events\u001b[0;34m(self, starttime, endtime, minlatitude, maxlatitude, minlongitude, maxlongitude, latitude, longitude, minradius, maxradius, mindepth, maxdepth, minmagnitude, maxmagnitude, magnitudetype, includeallorigins, includeallmagnitudes, includearrivals, eventid, limit, offset, orderby, catalog, contributor, updatedafter, filename, **kwargs)\u001b[0m\n\u001b[1;32m    525\u001b[0m             \"event\", DEFAULT_PARAMETERS['event'], kwargs)\n\u001b[1;32m    526\u001b[0m \u001b[0;34m\u001b[0m\u001b[0m\n\u001b[0;32m--> 527\u001b[0;31m         \u001b[0mdata_stream\u001b[0m \u001b[0;34m=\u001b[0m \u001b[0mself\u001b[0m\u001b[0;34m.\u001b[0m\u001b[0m_download\u001b[0m\u001b[0;34m(\u001b[0m\u001b[0murl\u001b[0m\u001b[0;34m)\u001b[0m\u001b[0;34m\u001b[0m\u001b[0;34m\u001b[0m\u001b[0m\n\u001b[0m\u001b[1;32m    528\u001b[0m         \u001b[0mdata_stream\u001b[0m\u001b[0;34m.\u001b[0m\u001b[0mseek\u001b[0m\u001b[0;34m(\u001b[0m\u001b[0;36m0\u001b[0m\u001b[0;34m,\u001b[0m \u001b[0;36m0\u001b[0m\u001b[0;34m)\u001b[0m\u001b[0;34m\u001b[0m\u001b[0;34m\u001b[0m\u001b[0m\n\u001b[1;32m    529\u001b[0m         \u001b[0;32mif\u001b[0m \u001b[0mfilename\u001b[0m\u001b[0;34m:\u001b[0m\u001b[0;34m\u001b[0m\u001b[0;34m\u001b[0m\u001b[0m\n",
      "\u001b[0;32m~/anaconda3/envs/salvus/lib/python3.7/site-packages/obspy/clients/fdsn/client.py\u001b[0m in \u001b[0;36m_download\u001b[0;34m(self, url, return_string, data, use_gzip)\u001b[0m\n\u001b[1;32m   1395\u001b[0m             \u001b[0mdebug\u001b[0m\u001b[0;34m=\u001b[0m\u001b[0mself\u001b[0m\u001b[0;34m.\u001b[0m\u001b[0mdebug\u001b[0m\u001b[0;34m,\u001b[0m \u001b[0mreturn_string\u001b[0m\u001b[0;34m=\u001b[0m\u001b[0mreturn_string\u001b[0m\u001b[0;34m,\u001b[0m \u001b[0mdata\u001b[0m\u001b[0;34m=\u001b[0m\u001b[0mdata\u001b[0m\u001b[0;34m,\u001b[0m\u001b[0;34m\u001b[0m\u001b[0;34m\u001b[0m\u001b[0m\n\u001b[1;32m   1396\u001b[0m             timeout=self.timeout, use_gzip=use_gzip)\n\u001b[0;32m-> 1397\u001b[0;31m         \u001b[0mraise_on_error\u001b[0m\u001b[0;34m(\u001b[0m\u001b[0mcode\u001b[0m\u001b[0;34m,\u001b[0m \u001b[0mdata\u001b[0m\u001b[0;34m)\u001b[0m\u001b[0;34m\u001b[0m\u001b[0;34m\u001b[0m\u001b[0m\n\u001b[0m\u001b[1;32m   1398\u001b[0m         \u001b[0;32mreturn\u001b[0m \u001b[0mdata\u001b[0m\u001b[0;34m\u001b[0m\u001b[0;34m\u001b[0m\u001b[0m\n\u001b[1;32m   1399\u001b[0m \u001b[0;34m\u001b[0m\u001b[0m\n",
      "\u001b[0;32m~/anaconda3/envs/salvus/lib/python3.7/site-packages/obspy/clients/fdsn/client.py\u001b[0m in \u001b[0;36mraise_on_error\u001b[0;34m(code, data)\u001b[0m\n\u001b[1;32m   1725\u001b[0m         msg = (\"Bad request. If you think your request was valid \"\n\u001b[1;32m   1726\u001b[0m                \"please contact the developers.\")\n\u001b[0;32m-> 1727\u001b[0;31m         \u001b[0;32mraise\u001b[0m \u001b[0mFDSNException\u001b[0m\u001b[0;34m(\u001b[0m\u001b[0mmsg\u001b[0m\u001b[0;34m,\u001b[0m \u001b[0mserver_info\u001b[0m\u001b[0;34m)\u001b[0m\u001b[0;34m\u001b[0m\u001b[0;34m\u001b[0m\u001b[0m\n\u001b[0m\u001b[1;32m   1728\u001b[0m     \u001b[0;32melif\u001b[0m \u001b[0mcode\u001b[0m \u001b[0;34m==\u001b[0m \u001b[0;36m401\u001b[0m\u001b[0;34m:\u001b[0m\u001b[0;34m\u001b[0m\u001b[0;34m\u001b[0m\u001b[0m\n\u001b[1;32m   1729\u001b[0m         raise FDSNException(\"Unauthorized, authentication required.\",\n",
      "\u001b[0;31mFDSNException\u001b[0m: Bad request. If you think your request was valid please contact the developers.\nDetailed response of server:\n\nError 400: Bad Request\nBad catalog value \"CMT\". Valid values are: \"38457511\", \"=c\", \"ak\", \"at\", \"atlas\", \"av\", \"cdmg\", \"cgs\", \"choy\", \"ci\", \"cidev\", \"dr\", \"duputel\", \"eqh\", \"ew\", \"ew_dm\", \"gcmt\", \"gsc\", \"hv\", \"id\", \"is\", \"iscgem\", \"iscgemsup\", \"ismpkansas\", \"ld\", \"mb\", \"nc\", \"ne\", \"nm\", \"nn\", \"official\", \"official19631013051759_30\", \"ok\", \"pr\", \"pt\", \"sc\", \"se\", \"unknown\", \"us\", \"ushis\", \"uu\", \"uw\".\nUsage details are available from https://earthquake.usgs.gov/fdsnws/event/1\nRequest:\n/fdsnws/event/1/query?starttime=2020-10-30T00%3A00%3A00.000000&endtime=2020-10-31T00%3A00%3A00.000000&minmagnitude=6.5&catalog=CMT\nRequest Submitted:\n2020-11-10T19:32:54+00:00\nService version:\n1.10.3"
     ]
    }
   ],
   "source": [
    "cusgs = Client(\"USGS\")\n",
    "\n",
    "## create a catalog of events\n",
    "cat = cusgs.get_events(\n",
    "        minmagnitude=7.0,\n",
    "        starttime=obs.UTCDateTime(2019, 5, 14),\n",
    "        endtime=obs.UTCDateTime(2019, 5, 15),\n",
    "        includeallorigins=True,\n",
    "        )\n",
    "\n",
    "cat = cusgs.get_events(\n",
    "        minmagnitude=6.5,\n",
    "        starttime=obs.UTCDateTime(2020, 10, 30),\n",
    "        endtime=obs.UTCDateTime(2020, 10, 31),\n",
    "        catalog=\"CMT\",\n",
    "        )\n",
    "\n",
    "cat = obs.read_events(\"/home/andbro/Documents/geodata/turkey_source.xml\")\n",
    "\n",
    "print(cat)\n",
    "\n",
    "## choose one event\n",
    "event = cat[3]\n",
    "\n"
   ]
  },
  {
   "cell_type": "markdown",
   "metadata": {},
   "source": [
    "## Project Setup"
   ]
  },
  {
   "cell_type": "code",
   "execution_count": 44,
   "metadata": {
    "code_folding": [],
    "lines_to_next_cell": 2
   },
   "outputs": [
    {
     "name": "stdout",
     "output_type": "stream",
     "text": [
      "you intend to delete global_rotations (y/n):y\n",
      "deleted: global_rotations\n",
      "[2020-11-10 20:29:26,261] \u001b[34m\u001b[1mINFO\u001b[0m: Loading project from global_rotations.\n"
     ]
    }
   ],
   "source": [
    "project_name=\"global_rotations\"\n",
    "\n",
    "__del_project(project_name)\n",
    "\n",
    "p = sn.Project.from_domain(\n",
    "        path = project_name, \n",
    "        domain = d, \n",
    "        load_if_exists = True,\n",
    ")\n",
    "#print(f\"created: {project_name}\")"
   ]
  },
  {
   "cell_type": "code",
   "execution_count": 46,
   "metadata": {},
   "outputs": [
    {
     "ename": "SalvusFlowSourceParseError",
     "evalue": "Event must contain a focal mechanism.",
     "output_type": "error",
     "traceback": [
      "\u001b[0;31m---------------------------------------------------------------------------\u001b[0m",
      "\u001b[0;31mSalvusFlowSourceParseError\u001b[0m                Traceback (most recent call last)",
      "\u001b[0;32m<ipython-input-46-d84da7a1df63>\u001b[0m in \u001b[0;36m<module>\u001b[0;34m\u001b[0m\n\u001b[1;32m      2\u001b[0m sc = sn.simple_config.source.seismology.parse(\n\u001b[1;32m      3\u001b[0m         \u001b[0mfilename_or_obj\u001b[0m \u001b[0;34m=\u001b[0m \u001b[0mevent\u001b[0m\u001b[0;34m,\u001b[0m\u001b[0;34m\u001b[0m\u001b[0;34m\u001b[0m\u001b[0m\n\u001b[0;32m----> 4\u001b[0;31m         \u001b[0mdimensions\u001b[0m \u001b[0;34m=\u001b[0m \u001b[0;36m3\u001b[0m\u001b[0;34m,\u001b[0m\u001b[0;34m\u001b[0m\u001b[0;34m\u001b[0m\u001b[0m\n\u001b[0m\u001b[1;32m      5\u001b[0m )\n\u001b[1;32m      6\u001b[0m \u001b[0;34m\u001b[0m\u001b[0m\n",
      "\u001b[0;32m~/anaconda3/envs/salvus/lib/python3.7/site-packages/salvus/flow/simple_config/source/seismology/__init__.py\u001b[0m in \u001b[0;36mparse\u001b[0;34m(filename_or_obj, dimensions, side_set_name, source_time_function, axes_a_b)\u001b[0m\n\u001b[1;32m    604\u001b[0m         \u001b[0;32mif\u001b[0m \u001b[0;32mnot\u001b[0m \u001b[0mev\u001b[0m\u001b[0;34m.\u001b[0m\u001b[0mfocal_mechanisms\u001b[0m\u001b[0;34m:\u001b[0m\u001b[0;34m\u001b[0m\u001b[0;34m\u001b[0m\u001b[0m\n\u001b[1;32m    605\u001b[0m             raise SalvusFlowSourceParseError(\n\u001b[0;32m--> 606\u001b[0;31m                 \u001b[0;34m\"Event must contain a focal mechanism.\"\u001b[0m\u001b[0;34m\u001b[0m\u001b[0;34m\u001b[0m\u001b[0m\n\u001b[0m\u001b[1;32m    607\u001b[0m             )\n\u001b[1;32m    608\u001b[0m         \u001b[0morg\u001b[0m \u001b[0;34m=\u001b[0m \u001b[0mev\u001b[0m\u001b[0;34m.\u001b[0m\u001b[0mpreferred_origin\u001b[0m\u001b[0;34m(\u001b[0m\u001b[0;34m)\u001b[0m \u001b[0;32mor\u001b[0m \u001b[0mev\u001b[0m\u001b[0;34m.\u001b[0m\u001b[0morigins\u001b[0m\u001b[0;34m[\u001b[0m\u001b[0;36m0\u001b[0m\u001b[0;34m]\u001b[0m\u001b[0;34m\u001b[0m\u001b[0;34m\u001b[0m\u001b[0m\n",
      "\u001b[0;31mSalvusFlowSourceParseError\u001b[0m: Event must contain a focal mechanism."
     ]
    }
   ],
   "source": [
    "## parse the retrieved sources \n",
    "sc = sn.simple_config.source.seismology.parse(\n",
    "        filename_or_obj = event, \n",
    "        dimensions = 3,\n",
    "        \n",
    ")\n",
    "\n",
    "## parse the retrieved receiver\n",
    "rc = sn.simple_config.receiver.seismology.parse(\n",
    "        filename_or_obj = inv,\n",
    "        dimensions = 3,\n",
    "        fields = [\"displacement\", \"velocity\", \"gradient-of-displacement\"],\n",
    ")\n",
    "\n",
    "## add sources and receivers to the project\n",
    "p.add_to_project(\n",
    "        sn.Event(\n",
    "#             event_name = \"Turkey\",\n",
    "            sources   = sc,\n",
    "            receivers = rc,\n",
    "    )\n",
    ")\n",
    "\n",
    "p.events.list()"
   ]
  },
  {
   "cell_type": "code",
   "execution_count": 37,
   "metadata": {},
   "outputs": [
    {
     "name": "stdout",
     "output_type": "stream",
     "text": [
      "[2020-11-10 20:26:40,484] \u001b[34m\u001b[1mINFO\u001b[0m: Deleting existing `simulation_02` entity of type `simulation_configuration` ...\n"
     ]
    }
   ],
   "source": [
    "simu = \"simulation_02\"\n",
    "\n",
    "p.add_to_project(\n",
    "    sn.SimulationConfiguration(\n",
    "        name = simu,\n",
    "        min_period_in_seconds = 400.0,\n",
    "        elements_per_wavelength = 1.0,\n",
    "        tensor_order = 2,\n",
    "        \n",
    "        # add model config\n",
    "        model_configuration = sn.ModelConfiguration(\n",
    "            background_model = \"prem_ani_no_crust\",\n",
    "        ),\n",
    "        \n",
    "        # add event config\n",
    "        event_configuration = sn.EventConfiguration(\n",
    "            wavelet = sn.simple_config.stf.Ricker(center_frequency = 10.0),\n",
    "            waveform_simulation_configuration = sn.WaveformSimulationConfiguration(\n",
    "                end_time_in_seconds = 3000.0,\n",
    "            ),\n",
    "        ),\n",
    "    ), overwrite = True\n",
    ")\n",
    "\n",
    "# p.viz.nb.simulation_setup(\n",
    "#     simulation_configuration = simu, \n",
    "#     events = p.events.list()\n",
    "# )"
   ]
  },
  {
   "cell_type": "code",
   "execution_count": 38,
   "metadata": {
    "code_folding": []
   },
   "outputs": [
    {
     "data": {
      "application/vnd.jupyter.widget-view+json": {
       "model_id": "7b2081e4b8f243b08d86ab266f004648",
       "version_major": 2,
       "version_minor": 0
      },
      "text/plain": [
       "VBox()"
      ]
     },
     "metadata": {},
     "output_type": "display_data"
    },
    {
     "data": {
      "text/plain": [
       "True"
      ]
     },
     "execution_count": 38,
     "metadata": {},
     "output_type": "execute_result"
    }
   ],
   "source": [
    "\n",
    "p.simulations.launch(\n",
    "    simulation_configuration = simu, \n",
    "    events = p.events.list(), \n",
    "    ranks_per_job = 4, \n",
    "    site_name = \"salvus_local\"\n",
    ")\n",
    "\n",
    "p.simulations.query(block=True)"
   ]
  },
  {
   "cell_type": "markdown",
   "metadata": {},
   "source": [
    "## Data Analysis"
   ]
  },
  {
   "cell_type": "code",
   "execution_count": 11,
   "metadata": {
    "code_folding": []
   },
   "outputs": [
    {
     "data": {
      "text/plain": [
       "'paraview --data=/home/andbro/notebooks/global_rotations/INTERNAL/MESHES/ae/48/61d5934d236c/mesh.xdmf &'"
      ]
     },
     "execution_count": 11,
     "metadata": {},
     "output_type": "execute_result"
    }
   ],
   "source": [
    "# get string to open mesh in paraview\n",
    "paraview_string( simu, mode=\"mesh\" )"
   ]
  },
  {
   "cell_type": "code",
   "execution_count": 32,
   "metadata": {},
   "outputs": [
    {
     "ename": "IndexError",
     "evalue": "list index out of range",
     "output_type": "error",
     "traceback": [
      "\u001b[0;31m---------------------------------------------------------------------------\u001b[0m",
      "\u001b[0;31mIndexError\u001b[0m                                Traceback (most recent call last)",
      "\u001b[0;32m<ipython-input-32-af8380252c62>\u001b[0m in \u001b[0;36m<module>\u001b[0;34m\u001b[0m\n\u001b[0;32m----> 1\u001b[0;31m \u001b[0mp\u001b[0m\u001b[0;34m.\u001b[0m\u001b[0mevents\u001b[0m\u001b[0;34m.\u001b[0m\u001b[0mlist\u001b[0m\u001b[0;34m(\u001b[0m\u001b[0;34m)\u001b[0m\u001b[0;34m[\u001b[0m\u001b[0;36m0\u001b[0m\u001b[0;34m]\u001b[0m\u001b[0;34m\u001b[0m\u001b[0;34m\u001b[0m\u001b[0m\n\u001b[0m",
      "\u001b[0;31mIndexError\u001b[0m: list index out of range"
     ]
    }
   ],
   "source": [
    "p.events.list()"
   ]
  },
  {
   "cell_type": "code",
   "execution_count": 50,
   "metadata": {
    "lines_to_next_cell": 2
   },
   "outputs": [
    {
     "ename": "NotImplementedError",
     "evalue": "",
     "output_type": "error",
     "traceback": [
      "\u001b[0;31m---------------------------------------------------------------------------\u001b[0m",
      "\u001b[0;31mNotImplementedError\u001b[0m                       Traceback (most recent call last)",
      "\u001b[0;32m<ipython-input-50-144a38fe8fdb>\u001b[0m in \u001b[0;36m<module>\u001b[0;34m\u001b[0m\n\u001b[0;32m----> 1\u001b[0;31m \u001b[0mwf\u001b[0m \u001b[0;34m=\u001b[0m \u001b[0mp\u001b[0m\u001b[0;34m.\u001b[0m\u001b[0mwaveforms\u001b[0m\u001b[0;34m.\u001b[0m\u001b[0mget\u001b[0m\u001b[0;34m(\u001b[0m\u001b[0msimu\u001b[0m\u001b[0;34m,\u001b[0m \u001b[0mevents\u001b[0m\u001b[0;34m=\u001b[0m\u001b[0mevent\u001b[0m\u001b[0;34m)\u001b[0m\u001b[0;34m\u001b[0m\u001b[0;34m\u001b[0m\u001b[0m\n\u001b[0m\u001b[1;32m      2\u001b[0m \u001b[0;34m\u001b[0m\u001b[0m\n\u001b[1;32m      3\u001b[0m \u001b[0mu\u001b[0m \u001b[0;34m=\u001b[0m \u001b[0mwf\u001b[0m\u001b[0;34m[\u001b[0m\u001b[0;36m0\u001b[0m\u001b[0;34m]\u001b[0m\u001b[0;34m.\u001b[0m\u001b[0mget_receiver_data\u001b[0m\u001b[0;34m(\u001b[0m\u001b[0;34m\"GR.FUR\"\u001b[0m\u001b[0;34m,\u001b[0m \u001b[0mreceiver_field\u001b[0m\u001b[0;34m=\u001b[0m\u001b[0;34m\"displacement\"\u001b[0m\u001b[0;34m)\u001b[0m\u001b[0;34m\u001b[0m\u001b[0;34m\u001b[0m\u001b[0m\n\u001b[1;32m      4\u001b[0m \u001b[0;34m\u001b[0m\u001b[0m\n\u001b[1;32m      5\u001b[0m \u001b[0mtbeg\u001b[0m\u001b[0;34m,\u001b[0m \u001b[0mtend\u001b[0m \u001b[0;34m=\u001b[0m \u001b[0mu\u001b[0m\u001b[0;34m[\u001b[0m\u001b[0;36m0\u001b[0m\u001b[0;34m]\u001b[0m\u001b[0;34m.\u001b[0m\u001b[0mstats\u001b[0m\u001b[0;34m.\u001b[0m\u001b[0mstarttime\u001b[0m\u001b[0;34m,\u001b[0m \u001b[0mu\u001b[0m\u001b[0;34m[\u001b[0m\u001b[0;36m0\u001b[0m\u001b[0;34m]\u001b[0m\u001b[0;34m.\u001b[0m\u001b[0mstats\u001b[0m\u001b[0;34m.\u001b[0m\u001b[0mendtime\u001b[0m\u001b[0;34m\u001b[0m\u001b[0;34m\u001b[0m\u001b[0m\n",
      "\u001b[0;32m~/anaconda3/envs/salvus/lib/python3.7/site-packages/salvus/project/components/waveform_component.cpython-37m-x86_64-linux-gnu.so\u001b[0m in \u001b[0;36msalvus.project.components.waveform_component.WaveformComponent.get\u001b[0;34m()\u001b[0m\n",
      "\u001b[0;32m~/anaconda3/envs/salvus/lib/python3.7/site-packages/salvus/project/components/event_component.cpython-37m-x86_64-linux-gnu.so\u001b[0m in \u001b[0;36msalvus.project.components.event_component.EventComponent._everything_to_list_of_events\u001b[0;34m()\u001b[0m\n",
      "\u001b[0;31mNotImplementedError\u001b[0m: "
     ]
    }
   ],
   "source": [
    "wf = p.waveforms.get(simu, events=event)\n",
    "\n",
    "u = wf[0].get_receiver_data(\"GR.FUR\", receiver_field=\"displacement\")\n",
    "\n",
    "tbeg, tend = u[0].stats.starttime, u[0].stats.endtime\n",
    "\n",
    "god = wf[0].get_receiver_data(\"GR.FUR\", receiver_field=\"gradient-of-displacement\")\n",
    "#print(god)\n"
   ]
  },
  {
   "cell_type": "markdown",
   "metadata": {},
   "source": [
    "### Compare translation"
   ]
  },
  {
   "cell_type": "code",
   "execution_count": 49,
   "metadata": {},
   "outputs": [
    {
     "ename": "NameError",
     "evalue": "name 'wf' is not defined",
     "output_type": "error",
     "traceback": [
      "\u001b[0;31m---------------------------------------------------------------------------\u001b[0m",
      "\u001b[0;31mNameError\u001b[0m                                 Traceback (most recent call last)",
      "\u001b[0;32m<ipython-input-49-c6aa6c54355f>\u001b[0m in \u001b[0;36m<module>\u001b[0;34m\u001b[0m\n\u001b[0;32m----> 1\u001b[0;31m \u001b[0mv\u001b[0m \u001b[0;34m=\u001b[0m \u001b[0mwf\u001b[0m\u001b[0;34m[\u001b[0m\u001b[0;36m0\u001b[0m\u001b[0;34m]\u001b[0m\u001b[0;34m.\u001b[0m\u001b[0mget_receiver_data\u001b[0m\u001b[0;34m(\u001b[0m\u001b[0;34m\"GR.FUR\"\u001b[0m\u001b[0;34m,\u001b[0m \u001b[0mreceiver_field\u001b[0m\u001b[0;34m=\u001b[0m\u001b[0;34m\"velocity\"\u001b[0m\u001b[0;34m)\u001b[0m\u001b[0;34m\u001b[0m\u001b[0;34m\u001b[0m\u001b[0m\n\u001b[0m\u001b[1;32m      2\u001b[0m \u001b[0;34m\u001b[0m\u001b[0m\n\u001b[1;32m      3\u001b[0m \u001b[0;31m#client = Client(base_url=\"http://tarzan\", timeout=100)\u001b[0m\u001b[0;34m\u001b[0m\u001b[0;34m\u001b[0m\u001b[0;34m\u001b[0m\u001b[0m\n\u001b[1;32m      4\u001b[0m \u001b[0mclient\u001b[0m \u001b[0;34m=\u001b[0m \u001b[0mRoutingClient\u001b[0m\u001b[0;34m(\u001b[0m\u001b[0;34m\"eida-routing\"\u001b[0m\u001b[0;34m)\u001b[0m\u001b[0;34m\u001b[0m\u001b[0;34m\u001b[0m\u001b[0m\n\u001b[1;32m      5\u001b[0m \u001b[0;34m\u001b[0m\u001b[0m\n",
      "\u001b[0;31mNameError\u001b[0m: name 'wf' is not defined"
     ]
    }
   ],
   "source": [
    "v = wf[0].get_receiver_data(\"GR.FUR\", receiver_field=\"velocity\")\n",
    "\n",
    "#client = Client(base_url=\"http://tarzan\", timeout=100)\n",
    "client = RoutingClient(\"eida-routing\")\n",
    "\n",
    "# tbeg = obs.UTCDateTime(2020,10,25)\n",
    "# tend = obs.UTCDateTime(2020,10,26)\n",
    "\n",
    "v_furt = client.get_waveforms(\n",
    "                network=\"GR\",\n",
    "                station=\"FUR\",\n",
    "                location=\".\",\n",
    "                channel=\"LHZ\",\n",
    "                starttime=tbeg,\n",
    "                endtime=tend,\n",
    ")\n",
    "\n",
    "v_furt.remove_response(output=\"VEL\")\n",
    "\n",
    "v_furt.plot();"
   ]
  },
  {
   "cell_type": "code",
   "execution_count": null,
   "metadata": {},
   "outputs": [],
   "source": [
    "# We need to rotate from xyz to rtp - this is a bit of a hack - we'll\n",
    "# add proper support for this soon.\n",
    "#\n",
    "# This is already properly handled for displacement, velocity, and\n",
    "# acceleration and we'll reuse the same matrix here.\n",
    "rec = p.simulations.get_input_files(simu, p.events.list()[0])[0][\n",
    "    0\n",
    "].output.point_data.receiver[0]\n",
    "#print(rec)\n",
    "\n",
    "# Get the rotation matrix.\n",
    "R = np.array(rec.rotation_on_output.matrix)"
   ]
  },
  {
   "cell_type": "code",
   "execution_count": null,
   "metadata": {
    "code_folding": [
     0
    ],
    "lines_to_next_cell": 0
   },
   "outputs": [],
   "source": [
    "def get_rotation_rate(st, R): \n",
    "    \"\"\" \n",
    "    get the rotation rate from gradient-of-displacement data \n",
    "    \n",
    "    st: stream of gradient-of-displacement\n",
    "    R : rotation matrix to ZNE system\n",
    "    \n",
    "    dependencies: \n",
    "        -> import obspy    \n",
    "    \"\"\"\n",
    "\n",
    "    # Assemble 3 x 3 gradient.\n",
    "    data = np.zeros((3, 3, st[0].stats.npts), dtype=np.float32)\n",
    "    for i, row in enumerate([[\"XX\", \"XY\", \"XZ\"], [\"YX\", \"YY\", \"YZ\"], [\"ZX\", \"ZY\", \"ZZ\"]]):\n",
    "        for j, channel in enumerate(row):\n",
    "            data[i, j] = st.select(channel=f\"X{channel}\")[0].data\n",
    "\n",
    "    # Tensor rotation.\n",
    "    data_r = ((R @ data).T @ R.T).T\n",
    "\n",
    "    # Rename.\n",
    "    st_r = obs.Stream()\n",
    "\n",
    "    #for i, row in enumerate([[\"ZZ\", \"ZN\", \"ZE\"], [\"NZ\", \"NN\", \"NE\"], [\"EZ\", \"EN\", \"EE\"]]):\n",
    "    for i, row in enumerate([[\"11\", \"12\", \"13\"], [\"21\", \"22\", \"23\"], [\"31\", \"32\", \"33\"]]):\n",
    "        for j, channel in enumerate(row):\n",
    "            tr = st[0].copy()\n",
    "            tr.stats.channel = channel\n",
    "            tr.data = data_r[i, j]\n",
    "            st_r += tr\n",
    "\n",
    "\n",
    "    omega = obs.Stream()\n",
    "    # Compute vertical rotation rate.\n",
    "    for c, i, j in [[\"JZ\",\"23\",\"32\"],[\"JN\",\"31\",\"13\"],[\"JE\",\"12\",\"21\"]]:\n",
    "        tr_j = st[0].copy()\n",
    "        tr_j.stats.channel = c\n",
    "        tr_j.data = 0.5* (st_r.select(channel = i)[0].data - st_r.select(channel = j)[0])\n",
    "        omega += tr_j\n",
    "    \n",
    "    return omega\n",
    "\n",
    "\n",
    "omega = get_rotation_rate(st, R)\n",
    "\n",
    "# We simulated with a Delta STF so we need to filter out frequencies\n",
    "# that the mesh did not resolve.\n",
    "omega.filter('lowpass', freq=1.0/400.0, corners=4, zerophase=True)\n",
    "omega.plot();"
   ]
  },
  {
   "cell_type": "code",
   "execution_count": null,
   "metadata": {},
   "outputs": [],
   "source": [
    "# initalize george \n",
    "george = Client(base_url='http://george')\n",
    "\n",
    "JZ=george.get_waveforms(\n",
    "    network=\"BW\",\n",
    "    station=\"ROMY\",\n",
    "    location=\"10\",\n",
    "    channel=\"BJZ\",\n",
    "    starttime=tbeg,\n",
    "    endtime=tend,\n",
    ")\n",
    "\n",
    "JZ[0].detrend('linear').taper(0.1)\n",
    "JZ[0].filter(\"bandpass\", freqmin=1.0/800.0, freqmax=1.0/400.0, corners=4, zerophase=True)\n",
    "JZ[0].plot();"
   ]
  },
  {
   "cell_type": "code",
   "execution_count": null,
   "metadata": {
    "lines_to_next_cell": 0
   },
   "outputs": [],
   "source": [
    "inv2 = clmu.get_stations(network=\"BW\", minlongitude=0.0, maxlongitude=15.0)\n",
    "\n",
    "inv2.plot();\n"
   ]
  },
  {
   "cell_type": "code",
   "execution_count": null,
   "metadata": {},
   "outputs": [],
   "source": []
  },
  {
   "cell_type": "code",
   "execution_count": null,
   "metadata": {
    "code_folding": [],
    "lines_to_next_cell": 2
   },
   "outputs": [],
   "source": [
    "client = RoutingClient(\"eida-routing\")\n",
    "client.get_stations(network=\"BW\", station=\"FFB1\")"
   ]
  },
  {
   "cell_type": "code",
   "execution_count": null,
   "metadata": {},
   "outputs": [],
   "source": []
  },
  {
   "cell_type": "code",
   "execution_count": null,
   "metadata": {},
   "outputs": [],
   "source": []
  }
 ],
 "metadata": {
  "jupytext": {
   "formats": "ipynb,py:light"
  },
  "kernelspec": {
   "display_name": "Python 3",
   "language": "python",
   "name": "python3"
  },
  "language_info": {
   "codemirror_mode": {
    "name": "ipython",
    "version": 3
   },
   "file_extension": ".py",
   "mimetype": "text/x-python",
   "name": "python",
   "nbconvert_exporter": "python",
   "pygments_lexer": "ipython3",
   "version": "3.7.8"
  }
 },
 "nbformat": 4,
 "nbformat_minor": 4
}
