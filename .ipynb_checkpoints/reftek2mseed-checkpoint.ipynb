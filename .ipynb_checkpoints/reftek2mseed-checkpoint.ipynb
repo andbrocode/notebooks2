{
 "cells": [
  {
   "cell_type": "markdown",
   "id": "extensive-movement",
   "metadata": {},
   "source": [
    "## REFTEK 2 MSEED"
   ]
  },
  {
   "cell_type": "code",
   "execution_count": 29,
   "id": "animal-despite",
   "metadata": {
    "ExecuteTime": {
     "end_time": "2021-03-03T09:01:00.527904Z",
     "start_time": "2021-03-03T09:01:00.523991Z"
    }
   },
   "outputs": [],
   "source": [
    "import os\n",
    "import obspy\n",
    "\n",
    "from numpy import nan\n",
    "from numpy.ma import filled, isMaskedArray"
   ]
  },
  {
   "cell_type": "code",
   "execution_count": 34,
   "id": "banned-characterization",
   "metadata": {
    "ExecuteTime": {
     "end_time": "2021-03-03T09:03:04.766353Z",
     "start_time": "2021-03-03T09:02:49.075838Z"
    }
   },
   "outputs": [
    {
     "name": "stdout",
     "output_type": "stream",
     "text": [
      "\n",
      "Enter path: /home/andbro/Desktop/tiltmeter/test/raw\n",
      "\n",
      "Enter REFTEK ID (e.g. 9E52): 9E52\n",
      "\n",
      "Enter network code (e.g. BW): BW\n",
      "\n",
      "Enter station name (e.g. ROMY): TROMY\n",
      "\n",
      "Enter channel code (e.g. BHZ,BHN,BHE): MAT,MAN,MAE\n",
      "\n",
      "Enter amount of channels (default 3): 3\n"
     ]
    },
    {
     "data": {
      "text/plain": [
       "'MAT,MAN,MAE'"
      ]
     },
     "execution_count": 34,
     "metadata": {},
     "output_type": "execute_result"
    }
   ],
   "source": [
    "\n",
    "ipath = input(\"\\nEnter path: \")\n",
    "\n",
    "reftek = input(\"\\nEnter REFTEK ID (e.g. 9E52): \")\n",
    "\n",
    "networkcode = input(\"\\nEnter network code (e.g. BW): \")\n",
    "\n",
    "stationname = input(\"\\nEnter station name (e.g. ROMY): \")\n",
    "\n",
    "channelcode = input(\"\\nEnter channel code (e.g. BHZ,BHN,BHE): \")\n",
    "\n",
    "amount_of_channels = int(input(\"\\nEnter amount of channels (default 3): \"))\n",
    "\n",
    "channelcode = channelcode.split(\",\")"
   ]
  },
  {
   "cell_type": "code",
   "execution_count": 56,
   "id": "sexual-picking",
   "metadata": {
    "ExecuteTime": {
     "end_time": "2021-03-03T09:10:19.006396Z",
     "start_time": "2021-03-03T09:10:19.000493Z"
    }
   },
   "outputs": [],
   "source": [
    "import subprocess\n",
    "\n",
    "if ipath[-1] == \"/\":\n",
    "    ipath = ipath[:-1]\n",
    "\n",
    "## prepare directories for writing\n",
    "if not os.path.isdir(ipath+\"/../mseed\"):\n",
    "    for i in range(3):\n",
    "        os.makedirs(ipath+f\"/../mseed/{channelcode[i]}.D\")\n",
    "\n",
    "## get list of recorded days\n",
    "# days = !ls $ipaths\n",
    "days = os.listdir(ipath)"
   ]
  },
  {
   "cell_type": "code",
   "execution_count": 38,
   "id": "spread-investor",
   "metadata": {
    "ExecuteTime": {
     "end_time": "2021-03-03T09:04:46.507516Z",
     "start_time": "2021-03-03T09:04:46.478703Z"
    }
   },
   "outputs": [
    {
     "ename": "TypeError",
     "evalue": "'CompletedProcess' object is not iterable",
     "output_type": "error",
     "traceback": [
      "\u001b[0;31m---------------------------------------------------------------------------\u001b[0m",
      "\u001b[0;31mTypeError\u001b[0m                                 Traceback (most recent call last)",
      "\u001b[0;32m<ipython-input-38-636b991f4270>\u001b[0m in \u001b[0;36m<module>\u001b[0;34m\u001b[0m\n\u001b[1;32m     14\u001b[0m \u001b[0;34m\u001b[0m\u001b[0m\n\u001b[1;32m     15\u001b[0m \u001b[0;31m## loop over days as stored by REFTEK\u001b[0m\u001b[0;34m\u001b[0m\u001b[0;34m\u001b[0m\u001b[0;34m\u001b[0m\u001b[0m\n\u001b[0;32m---> 16\u001b[0;31m \u001b[0;32mfor\u001b[0m \u001b[0mday\u001b[0m \u001b[0;32min\u001b[0m \u001b[0mdays\u001b[0m\u001b[0;34m:\u001b[0m\u001b[0;34m\u001b[0m\u001b[0;34m\u001b[0m\u001b[0m\n\u001b[0m\u001b[1;32m     17\u001b[0m \u001b[0;34m\u001b[0m\u001b[0m\n\u001b[1;32m     18\u001b[0m     \u001b[0;31m## extract year and doy\u001b[0m\u001b[0;34m\u001b[0m\u001b[0;34m\u001b[0m\u001b[0;34m\u001b[0m\u001b[0m\n",
      "\u001b[0;31mTypeError\u001b[0m: 'CompletedProcess' object is not iterable"
     ]
    }
   ],
   "source": [
    "## loop over days as stored by REFTEK\n",
    "for day in days: \n",
    "    \n",
    "    print(f\"processing {day} ...\")\n",
    "    \n",
    "    ## extract year and doy\n",
    "    year = day[0:4]\n",
    "    doy  = day[4:]\n",
    "\n",
    "    ## read REFTEK raw files\n",
    "    st = obspy.read(ipath+f\"/{day}/{reftek}/1/*\")\n",
    "    \n",
    "    st.merge()\n",
    "\n",
    "    ## check if merging worked\n",
    "    if len(st) < amount_of_channels: \n",
    "        print(\"seems like a channel is missing !\")\n",
    "    if len(st) > amount_of_channels: \n",
    "        print(\"seems like merging failed !\")\n",
    "\n",
    "    npts=[]\n",
    "    \n",
    "    if len(st) == amount_of_channels:    \n",
    "        \n",
    "        ## loop over channels for writing\n",
    "        for i in range(amount_of_channels):\n",
    "            \n",
    "            ## add meta data\n",
    "            st[i].stats.network = networkcode\n",
    "            st[i].stats.station = stationname\n",
    "            st[i].stats.channel = channelcode[i]\n",
    "            \n",
    "            ## get amount of samples for channel i\n",
    "            npts.append(st[i].stats.npts)\n",
    "            \n",
    "            ## check if any channel is masked and add NaN values if this is the case\n",
    "            if isMaskedArray(st[0].data):\n",
    "                print(f\"masked array {st[0].stats.channel[-1]} filled with NaN\")\n",
    "                st[0].data = filled(st[0].data, fill_value=nan)\n",
    "            \n",
    "            ## write data as MSEED format\n",
    "            st[i].write(ipath+f\"/../mseed/{channelcode[i]}.D/{networkcode}.{stationname}..{channelcode[i]}.D.{year}.{doy}\", format=\"MSEED\")\n",
    "        \n",
    "        ## check amount of samples across channels\n",
    "        if npts[0] != npts[1] or npts[0] != npts[2]:\n",
    "            print(f\"Number of samples in channels do not match: 1:{npts[0]} 2:{npts[1]} 3:{npts[2]}\")\n",
    "        \n",
    "        \n",
    "        print(\"DONE\\n\")\n",
    "        \n",
    "        \n",
    "    else:\n",
    "        print(f\"error for day: {day}\")\n",
    "        "
   ]
  }
 ],
 "metadata": {
  "kernelspec": {
   "display_name": "Python 3",
   "language": "python",
   "name": "python3"
  },
  "language_info": {
   "codemirror_mode": {
    "name": "ipython",
    "version": 3
   },
   "file_extension": ".py",
   "mimetype": "text/x-python",
   "name": "python",
   "nbconvert_exporter": "python",
   "pygments_lexer": "ipython3",
   "version": "3.7.8"
  }
 },
 "nbformat": 4,
 "nbformat_minor": 5
}
