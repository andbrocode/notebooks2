{
 "cells": [
  {
   "cell_type": "markdown",
   "id": "5c2f16eb-eebe-44b6-822b-2f46d0eafef7",
   "metadata": {},
   "source": [
    "# Plot Data of Environmental Network within ROMY"
   ]
  },
  {
   "cell_type": "code",
   "execution_count": null,
   "id": "9e573e7e-fef9-4a49-be55-b719e2f8bb18",
   "metadata": {
    "tags": []
   },
   "outputs": [],
   "source": [
    "import os\n",
    "import sys\n",
    "import matplotlib.pyplot as plt\n",
    "import numpy as np\n",
    "\n",
    "from obspy import UTCDateTime, Stream"
   ]
  },
  {
   "cell_type": "code",
   "execution_count": null,
   "id": "a00ee38d-7e61-42c5-baad-610e58444f90",
   "metadata": {
    "tags": []
   },
   "outputs": [],
   "source": [
    "# sys.path.append('..')"
   ]
  },
  {
   "cell_type": "code",
   "execution_count": null,
   "id": "4f9ee801-a94e-4eaa-8864-0b4ae1ab5502",
   "metadata": {
    "tags": []
   },
   "outputs": [],
   "source": [
    "from functions.load_lxx import __load_lxx\n",
    "from functions.get_lxx_intervals import __get_lxx_intervals\n",
    "from functions.read_sds import __read_sds\n",
    "from functions.load_furt_stream import __load_furt_stream"
   ]
  },
  {
   "cell_type": "code",
   "execution_count": null,
   "id": "f0d056e3-2ccf-43d8-a0f0-bed10f6fde6c",
   "metadata": {
    "tags": []
   },
   "outputs": [],
   "source": [
    "if os.uname().nodename == 'lighthouse':\n",
    "    root_path = '/home/andbro/'\n",
    "    data_path = '/home/andbro/kilauea-data/'\n",
    "    archive_path = '/home/andbro/freenas/'\n",
    "    bay_path = '/home/andbro/bay200/'\n",
    "elif os.uname().nodename == 'kilauea':\n",
    "    root_path = '/home/brotzer/'\n",
    "    data_path = '/import/kilauea-data/'\n",
    "    archive_path = '/import/freenas-ffb-01-data/'\n",
    "    bay_path = '/bay200/'\n",
    "elif os.uname().nodename in ['lin-ffb-01', 'ambrym', 'hochfelln']:\n",
    "    root_path = '/home/brotzer/'\n",
    "    data_path = '/import/kilauea-data/'\n",
    "    archive_path = '/import/freenas-ffb-01-data/'\n",
    "    bay_path = '/bay200/'"
   ]
  },
  {
   "cell_type": "code",
   "execution_count": null,
   "id": "1319670b-c163-4ad3-b928-b9e33c50a18c",
   "metadata": {
    "tags": []
   },
   "outputs": [],
   "source": [
    "import warnings\n",
    "warnings.filterwarnings('ignore')"
   ]
  },
  {
   "cell_type": "code",
   "execution_count": null,
   "id": "f6caeaac-588d-4068-aff1-224592689d21",
   "metadata": {
    "tags": []
   },
   "outputs": [],
   "source": [
    "def __find_min_max_stream(_st, _cha):\n",
    "\n",
    "    from numpy import nanmin, nanmax, nanpercentile\n",
    "\n",
    "    arr = []\n",
    "    for tr in _st:\n",
    "        if tr.stats.channel == _cha:\n",
    "            arr.append(tr.data)\n",
    "\n",
    "    return nanpercentile(arr, 0.05), nanpercentile(arr, 99.95)"
   ]
  },
  {
   "cell_type": "code",
   "execution_count": null,
   "id": "57ec3684-c061-4910-a1f8-112af3d0dd10",
   "metadata": {
    "tags": []
   },
   "outputs": [],
   "source": [
    "def __find_min_max(_df, _cha):\n",
    "\n",
    "    from numpy import nanmin, nanmax, nanpercentile, array, append\n",
    "\n",
    "    arr = array([])\n",
    "    for _k in _df.keys():\n",
    "        arr = append(arr, array(_df[_k][_cha]))\n",
    "\n",
    "    return nanpercentile(arr, 0.05), nanpercentile(arr, 99.95)"
   ]
  },
  {
   "cell_type": "code",
   "execution_count": null,
   "id": "af1d1da6-c596-424c-9895-653c99fbbbf0",
   "metadata": {
    "tags": []
   },
   "outputs": [],
   "source": [
    "def __read_data(t1, t2, cha, path_to_data):\n",
    "\n",
    "    from pandas import DataFrame, read_csv, concat\n",
    "    from numpy import nan\n",
    "    from obspy import UTCDateTime\n",
    "\n",
    "\n",
    "    path = f\"{path_to_data}{config['tbeg'].year}/BW/WROMY/{cha}.D/\"\n",
    "\n",
    "    if not os.path.isdir(path):\n",
    "        print(f\" -> Path: {path}, does not exists!\")\n",
    "        return\n",
    "\n",
    "    j1, j2 = UTCDateTime(t1).julday, UTCDateTime(t2).julday\n",
    "    year = UTCDateTime(t1).year\n",
    "\n",
    "    df = DataFrame()\n",
    "\n",
    "    for doy in range(j1, j2+1):\n",
    "\n",
    "        filename = f'BW.WROMY.{cha}.D.{year}.{doy}'\n",
    "\n",
    "        print(f'   reading {filename} ...')\n",
    "\n",
    "        try:\n",
    "            df0 = read_csv(path+filename)\n",
    "\n",
    "            # replace error indicating values (-9999, 999.9) with NaN values\n",
    "            df0.replace(to_replace=-9999, value=nan, inplace=True)\n",
    "            df0.replace(to_replace=999.9, value=nan, inplace=True)\n",
    "\n",
    "\n",
    "            if doy == j1:\n",
    "                df = df0\n",
    "            else:\n",
    "                df = concat([df, df0])\n",
    "        except:\n",
    "            print(f\" -> file: {filename}, does not exists!\")\n",
    "\n",
    "    df.reset_index(inplace=True, drop=True)\n",
    "\n",
    "    # add columns with total seconds\n",
    "    if 'Seconds' in df.columns:\n",
    "        totalSeconds = df.Seconds + (df.Date - df.Date.iloc[0]) * 86400\n",
    "        df['totalSeconds'] = totalSeconds\n",
    "\n",
    "    return df"
   ]
  },
  {
   "cell_type": "code",
   "execution_count": null,
   "id": "0937ed7b-097d-464d-aeda-8f4fe447f394",
   "metadata": {
    "tags": []
   },
   "outputs": [],
   "source": [
    "config = {}\n",
    "\n",
    "# define path to data\n",
    "config['path_to_sds'] = archive_path+\"romy_archive/\"\n",
    "\n",
    "# path to figure output\n",
    "config['path_to_figs'] = data_path+f\"HTML_Monitor/figures/\"\n",
    "\n",
    "# specify length of time interval to show\n",
    "config['time_interval'] = 21 # days\n",
    "\n",
    "# define time interval\n",
    "config['tend'] = UTCDateTime().now()\n",
    "config['tbeg'] = config['tend'] - config['time_interval'] * 86400\n",
    "\n",
    "# specify wromy stations to use\n",
    "config['wromy_stations'] = [1, 4, 5, 6, 7, 8, 9]\n",
    "\n",
    "# specify promy stations to use\n",
    "config['promy_stations'] = [1, 4, 5, 7, 9]\n",
    "\n",
    "# specify colors for stations\n",
    "config['colors'] = {  1:'darkgreen',\n",
    "                      3:'lightgreen',\n",
    "                      4:'purple',\n",
    "                      5:'darkred',\n",
    "                      6:'darkblue',\n",
    "                      7:'darkorange',\n",
    "                      8:'darkcyan',\n",
    "                      9:'cyan',\n",
    "                     }"
   ]
  },
  {
   "cell_type": "markdown",
   "id": "25b3d28d-08b1-4c9d-9919-39dc14871b7a",
   "metadata": {},
   "source": [
    "### Load Maintenance Log"
   ]
  },
  {
   "cell_type": "code",
   "execution_count": null,
   "id": "01c0a318-01c1-406d-ba71-d161371be51f",
   "metadata": {
    "tags": []
   },
   "outputs": [],
   "source": [
    "try:\n",
    "    # load log file\n",
    "    lxx =__load_lxx(config['tbeg'], config['tend'], archive_path)\n",
    "\n",
    "    # get intervals of maintenance work as utc times\n",
    "    lxx_t1, lxx_t2 = __get_lxx_intervals(lxx.datetime)\n",
    "\n",
    "except Exception as e:\n",
    "    print(e)\n",
    "    print(f\" -> failed to load maintenance log\")\n"
   ]
  },
  {
   "cell_type": "markdown",
   "id": "f258d2a8-7c46-4a8a-9cb4-f14aef537167",
   "metadata": {},
   "source": [
    "### Load WROMY data"
   ]
  },
  {
   "cell_type": "code",
   "execution_count": null,
   "id": "848d3324-e66f-4aee-ab35-7b119432847f",
   "metadata": {
    "tags": []
   },
   "outputs": [],
   "source": [
    "# ws = Stream()\n",
    "\n",
    "# for _s in config['wromy_stations']:\n",
    "#     try:\n",
    "#         ws += __read_sds(archive_path+\"temp_archive/\", f\"BW.WROMY.0{_s}.L*I\", config['tbeg'], config['tend'])\n",
    "#     except:\n",
    "#         print(f\" -> failed to load WS: {_s}\")\n",
    "\n",
    "# ws = ws.merge();\n",
    "\n",
    "# ws"
   ]
  },
  {
   "cell_type": "code",
   "execution_count": null,
   "id": "d80ab839-73a3-46ff-96e8-a3d25bfe9bcf",
   "metadata": {
    "tags": []
   },
   "outputs": [],
   "source": [
    "ws = {}\n",
    "\n",
    "for _s in config['wromy_stations']:\n",
    "    try:\n",
    "        _ws = __read_data(config['tbeg'], config['tend'], f\"WS{_s}\", archive_path+\"romy_archive/\")\n",
    "\n",
    "        _ws_times_utc = [UTCDateTime(f\"{d}T{str(t).rjust(6, '0')}\") for d, t in zip(_ws['Date'], _ws['Time (UTC)'])]\n",
    "\n",
    "        ws[_s] = {\"time\": np.array(_ws_times_utc),\n",
    "                  \"LKI\": np.array(_ws['Temperature (°C)']),\n",
    "                  \"LDI\": np.array(_ws['Pressure (hPa)']),\n",
    "                  \"LII\": np.array(_ws['rel. Humidity (%)']),\n",
    "                 }\n",
    "    except Exception as e:\n",
    "        print(e)\n",
    "        print(f\" -> failed to load WS: {_s}\")\n"
   ]
  },
  {
   "cell_type": "markdown",
   "id": "7cb96e84-35be-410b-8406-ba8b2dac8b6c",
   "metadata": {},
   "source": [
    "### Load PROMY data"
   ]
  },
  {
   "cell_type": "code",
   "execution_count": null,
   "id": "28672eb6-ad86-4aa0-8a0c-9c30b41a6c82",
   "metadata": {
    "tags": []
   },
   "outputs": [],
   "source": [
    "ps = Stream()\n",
    "\n",
    "for _s in config['promy_stations']:\n",
    "    try:\n",
    "        ps += __read_sds(archive_path+\"temp_archive/\", f\"BW.PROMY.0{_s}.L*I\", config['tbeg'], config['tend'])\n",
    "    except Exception as e:\n",
    "        print(e)\n",
    "        print(f\" -> failed to load PS: {_s}\")\n",
    "\n",
    "ps3 = ps.merge();\n",
    "\n",
    "ps"
   ]
  },
  {
   "cell_type": "markdown",
   "id": "bf6cb765-ef97-47b0-9ce7-ae636e5f0de0",
   "metadata": {},
   "source": [
    "### Load FURT data"
   ]
  },
  {
   "cell_type": "code",
   "execution_count": null,
   "id": "edf065f5-0620-4a60-a0e2-9cd68ed6e62c",
   "metadata": {
    "tags": []
   },
   "outputs": [],
   "source": [
    "try:\n",
    "    furt = __load_furt_stream(config['tbeg'], config['tend'], path_to_archive=bay_path+'gif_online/FURT/WETTER/')\n",
    "except Exception as e:\n",
    "    print(e)\n",
    "    print(f\" -> failed to load FURT data\")\n"
   ]
  },
  {
   "cell_type": "markdown",
   "id": "34950185-316b-41b5-897e-09b20c4e4200",
   "metadata": {},
   "source": [
    "### Load Radon Data"
   ]
  },
  {
   "cell_type": "code",
   "execution_count": null,
   "id": "b2f005cf-cc3e-47e6-8899-9a94bdfa1e50",
   "metadata": {
    "tags": []
   },
   "outputs": [],
   "source": [
    "try:\n",
    "    rdn = __read_data(config['tbeg'], config['tend'], \"RDN\", archive_path+\"romy_archive/\")\n",
    "\n",
    "    # add utc times\n",
    "    rdn['times_utc'] = [UTCDateTime(f\"{d}T{str(t).rjust(6, '0')}\") for d, t in zip(rdn['Date'], rdn['Time (UTC)'])]\n",
    "\n",
    "except Exception as e:\n",
    "    print(e)\n",
    "    print(f\" -> failed to load radon data\")\n"
   ]
  },
  {
   "cell_type": "markdown",
   "id": "7878f911-446e-473b-b603-8e42e8deb278",
   "metadata": {},
   "source": [
    "### Plotting"
   ]
  },
  {
   "cell_type": "code",
   "execution_count": null,
   "id": "6aec15d9-1d4c-49e0-8910-6d65dc6e91a9",
   "metadata": {
    "tags": []
   },
   "outputs": [],
   "source": [
    "def __makeplot():\n",
    "\n",
    "    Nrow, Ncol = 4, 1\n",
    "\n",
    "    font = 12\n",
    "\n",
    "    fig, ax = plt.subplots(Nrow, Ncol, figsize=(8, 8), sharex=True)\n",
    "\n",
    "    plt.subplots_adjust(hspace=0.1)\n",
    "\n",
    "    axes0 = ax[0].twinx()\n",
    "    axes0.set_ylabel(\"FURT (°C)\")\n",
    "    axes0.plot(furt.select(channel=\"LAT\")[0].times(reftime=config['tbeg']),\n",
    "               furt.select(channel=\"LAT\")[0].data, color=\"lightgrey\", label=\"FURT\",\n",
    "               zorder=1, alpha=0.6\n",
    "              )\n",
    "    ax[1].plot(furt.select(channel=\"LAP\")[0].times(reftime=config['tbeg']),\n",
    "               furt.select(channel=\"LAP\")[0].data, color=\"lightgrey\", label=\"FURT\"\n",
    "              )\n",
    "    axes2 = ax[2].twinx()\n",
    "    axes2.set_ylabel(\"FURT (%)\")\n",
    "    axes2.plot(furt.select(channel=\"LAH\")[0].times(reftime=config['tbeg']),\n",
    "               furt.select(channel=\"LAH\")[0].data, color=\"lightgrey\", label=\"FURT\",\n",
    "               zorder=1, alpha=0.6\n",
    "              )\n",
    "\n",
    "    for _s in config['wromy_stations']:\n",
    "\n",
    "        # only plot temperature of PROMY if available\n",
    "        if _s not in config['promy_stations']:\n",
    "            ax[0].plot(ws[_s]['time'] - config['tbeg'], ws[_s]['LKI'],\n",
    "                       color=config['colors'][_s], lw=1, label=f\"WS{_s}\")\n",
    "\n",
    "        ax[1].plot(ws[_s]['time'] - config['tbeg'], ws[_s]['LDI'],\n",
    "                   color=config['colors'][_s], lw=1, label=f\"WS{_s}\")\n",
    "\n",
    "        ax[2].plot(ws[_s]['time'] - config['tbeg'], ws[_s]['LII'],\n",
    "                   color=config['colors'][_s], lw=1, label=f\"WS{_s}\")\n",
    "\n",
    "    for _s in config['promy_stations']:\n",
    "\n",
    "        # extract station trace for temperature\n",
    "        sta = ps.select(location=f\"0{_s}\", channel=\"LKI\")[0]\n",
    "        ax[0].plot(sta.times(reftime=config['tbeg']), sta.data,\n",
    "                   color=config['colors'][_s], lw=1, label=f\"PS{_s}\")\n",
    "\n",
    "    ax[3].plot(rdn.times_utc - config['tbeg'], rdn['Radon LT avg (Bq/m3)'], color=\"k\", label=f\"RDN\")\n",
    "    ax[3].axhspan(0, 100, color='green', alpha=0.2, zorder=0)\n",
    "    ax[3].axhspan(100, 150, color='yellow', alpha=0.2, zorder=0)\n",
    "    ax[3].axhspan(150, np.nanmax(rdn['Radon LT avg (Bq/m3)'])+100, color='red', alpha=0.2, zorder=0)\n",
    "    ax[3].set_ylim(0, np.nanmax(rdn['Radon LT avg (Bq/m3)'])+100)\n",
    "\n",
    "    Tmin, Tmax = __find_min_max(ws, \"LKI\")\n",
    "    ax[0].set_ylim(Tmin-1, Tmax+1)\n",
    "\n",
    "    Pmin, Pmax = __find_min_max(ws, \"LDI\")\n",
    "    ax[1].set_ylim(Pmin-2, Pmax+2)\n",
    "\n",
    "    Hmin, Hmax = __find_min_max(ws, \"LII\")\n",
    "    ax[2].set_ylim(Hmin-5, Hmax+5)\n",
    "\n",
    "    ax[0].set_ylabel(\"Temperature (°C)\")\n",
    "    ax[1].set_ylabel(\"Pressure (hPa)\")\n",
    "    ax[2].set_ylabel(\"Humidity (%)\")\n",
    "    ax[3].set_ylabel(r\"Radon (Bq/m$^3$)\")\n",
    "\n",
    "    for _n in range(Nrow):\n",
    "        ax[_n].grid(ls=\":\", zorder=0)\n",
    "        ax[_n].set_xlim(left=0)\n",
    "\n",
    "    ax[1].legend(ncol=4, bbox_to_anchor=(0.8, 2.55), fontsize=font-2)\n",
    "\n",
    "    ## add maintenance\n",
    "    for lx1, lx2 in zip(lxx_t1, lxx_t2):\n",
    "        lx1_sec = lx1-config['tbeg']\n",
    "        lx2_sec = lx2-config['tbeg']\n",
    "        for i in range(3):\n",
    "            ax[i].fill_betweenx([-1000, 1000], lx1_sec, lx2_sec, color=\"yellow\", alpha=0.5)\n",
    "\n",
    "    # add dates to x-axis\n",
    "    tdiff = config['tend'] - config['tbeg']\n",
    "    time_step = config['time_interval'] / 5 * 86400\n",
    "    tcks = [tdiff - x for x in np.arange(0, 5*time_step, time_step)]\n",
    "    tcklbls = [f\"{(config['tbeg']+t).date} \\n {str((config['tbeg']+t).time).split('.')[0]}\" for t in tcks]\n",
    "    ax[Nrow-1].set_xticks(tcks)\n",
    "    ax[Nrow-1].set_xticklabels(tcklbls)\n",
    "\n",
    "    # plt.show();\n",
    "    return fig"
   ]
  },
  {
   "cell_type": "code",
   "execution_count": null,
   "id": "7eeca915-e3ba-4f1e-8ecf-816966fbf600",
   "metadata": {
    "tags": []
   },
   "outputs": [],
   "source": [
    "fig = __makeplot();"
   ]
  },
  {
   "cell_type": "code",
   "execution_count": null,
   "id": "82f64f59-b0ee-4ee1-a12c-a8fabb30a37e",
   "metadata": {},
   "outputs": [],
   "source": [
    "fig.savefig(config['path_to_figs']+f\"html2_wromy.png\", format=\"png\", dpi=150, bbox_inches='tight')"
   ]
  },
  {
   "cell_type": "code",
   "execution_count": null,
   "id": "64b5b6b7-17de-49e1-957f-54a61b813992",
   "metadata": {},
   "outputs": [],
   "source": [
    "del fig"
   ]
  },
  {
   "cell_type": "code",
   "execution_count": null,
   "id": "a95405ff-141e-49c2-827d-99a92c5c558b",
   "metadata": {},
   "outputs": [],
   "source": []
  }
 ],
 "metadata": {
  "kernelspec": {
   "display_name": "Python 3 (ipykernel)",
   "language": "python",
   "name": "python3"
  },
  "language_info": {
   "codemirror_mode": {
    "name": "ipython",
    "version": 3
   },
   "file_extension": ".py",
   "mimetype": "text/x-python",
   "name": "python",
   "nbconvert_exporter": "python",
   "pygments_lexer": "ipython3",
   "version": "3.10.12"
  }
 },
 "nbformat": 4,
 "nbformat_minor": 5
}
