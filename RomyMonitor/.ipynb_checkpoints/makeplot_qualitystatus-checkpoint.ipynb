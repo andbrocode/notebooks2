{
 "cells": [
  {
   "cell_type": "markdown",
   "id": "e9da90cb-d480-4f01-9115-0ba22d9b2c6a",
   "metadata": {
    "tags": []
   },
   "source": [
    "# ROMY Status File"
   ]
  },
  {
   "cell_type": "code",
   "execution_count": 1,
   "id": "5e8ef5e0-37dc-4a1c-a603-49b53fb31dea",
   "metadata": {
    "tags": []
   },
   "outputs": [],
   "source": [
    "import os\n",
    "import sys\n",
    "import numpy as np\n",
    "import matplotlib.pyplot as plt\n",
    "import obspy as obs\n",
    "import matplotlib.colors\n",
    "\n",
    "from pandas import DataFrame, merge\n",
    "from andbro__save_to_pickle import __save_to_pickle"
   ]
  },
  {
   "cell_type": "code",
   "execution_count": 2,
   "id": "d47128f1-31a4-4301-beba-6d2b61152191",
   "metadata": {
    "tags": []
   },
   "outputs": [],
   "source": [
    "from functions.load_status import __load_status"
   ]
  },
  {
   "cell_type": "code",
   "execution_count": 3,
   "id": "e5e75ac2-dabd-4e5a-b663-7d9581266689",
   "metadata": {
    "tags": []
   },
   "outputs": [],
   "source": [
    "if os.uname().nodename == 'lighthouse':\n",
    "    root_path = '/home/andbro/'\n",
    "    data_path = '/home/andbro/kilauea-data/'\n",
    "    archive_path = '/home/andbro/freenas/'\n",
    "    bay_path = '/home/andbro/bay200/'\n",
    "elif os.uname().nodename == 'kilauea':\n",
    "    root_path = '/home/brotzer/'\n",
    "    data_path = '/import/kilauea-data/'\n",
    "    archive_path = '/import/freenas-ffb-01-data/'\n",
    "    bay_path = '/bay200/'\n",
    "elif os.uname().nodename == 'lin-ffb-01':\n",
    "    root_path = '/home/brotzer/'\n",
    "    data_path = '/import/kilauea-data/'\n",
    "    archive_path = '/import/freenas-ffb-01-data/'\n",
    "    bay_path = '/bay200/'"
   ]
  },
  {
   "cell_type": "markdown",
   "id": "4e4bf4dd-b2be-45fc-86fe-ce806f4ace1c",
   "metadata": {
    "tags": []
   },
   "source": [
    "## Configurations"
   ]
  },
  {
   "cell_type": "code",
   "execution_count": 4,
   "id": "bbfcde63-9c9b-426c-a2f3-0e80dc2daa8b",
   "metadata": {
    "tags": []
   },
   "outputs": [],
   "source": [
    "config = {}\n",
    "\n",
    "# specify time interval\n",
    "config['tend'] = obs.UTCDateTime().now()\n",
    "config['tbeg'] = obs.UTCDateTime(f\"{config['tend'].year}-01-01\")\n",
    "\n",
    "# select day before yesterday\n",
    "config['date_before'] = obs.UTCDateTime((config['tend'] - 2*86400).date)\n",
    "\n",
    "# path to figure output\n",
    "config['path_to_figs'] = data_path+f\"HTML_Monitor/figures/\"\n",
    "\n",
    "# path to quality data archive\n",
    "config['path_to_data'] = archive_path+f\"temp_archive/\"\n",
    "\n",
    "# define name of rings\n",
    "config['names'] = [\"RZ\", \"RU\", \"RV\", \"RW\"]\n"
   ]
  },
  {
   "cell_type": "code",
   "execution_count": 5,
   "id": "1e90b7b5-4417-4a3f-a380-3b09d50fe143",
   "metadata": {},
   "outputs": [],
   "source": [
    "def __get_stats(df0):\n",
    "\n",
    "    names = [\"RZ\", \"RU\", \"RV\", \"RW\"]\n",
    "\n",
    "    ## make statistics\n",
    "    df_stats = DataFrame(columns=[\"ring\", \"R_0\", \"R_1\", \"R_nan\", \"R_N\", \"R_0_p\", \"R_1_p\", \"R_nan_p\"])\n",
    "\n",
    "    R_0, R_1, R_nan = np.zeros(len(names)), np.zeros(len(names)), np.zeros(len(names))\n",
    "    for _n, k in enumerate(names):\n",
    "\n",
    "        R_0 = df0[k][df0[k] == 0].size\n",
    "        R_1 = df0[k][df0[k] == 1].size\n",
    "        R_nan = df0[k][df0[k].isnull()].size\n",
    "        R_N = df0[k].size\n",
    "\n",
    "        R_0_p = round(R_0/R_N*100, 2)\n",
    "        R_1_p = round(R_1/R_N*100, 2)\n",
    "        R_nan_p = round(R_nan/R_N*100, 2)\n",
    "\n",
    "        df_stats.loc[len(df_stats)] = [k, R_0, R_1, R_nan, R_N, R_0_p, R_1_p, R_nan_p]\n",
    "\n",
    "    return df_stats"
   ]
  },
  {
   "cell_type": "markdown",
   "id": "a47ab63a-345f-43b9-835c-0d71ad732018",
   "metadata": {},
   "source": [
    "### Load Status Data"
   ]
  },
  {
   "cell_type": "code",
   "execution_count": null,
   "id": "9f53b60f-7b24-4f06-938d-fdc09080e7bf",
   "metadata": {
    "tags": []
   },
   "outputs": [
    {
     "name": "stdout",
     "output_type": "stream",
     "text": [
      " -> 2 missing files\n",
      " -> 0 errors occurred\n",
      " -> 6 missing files\n",
      " -> 0 errors occurred\n"
     ]
    }
   ],
   "source": [
    "\n",
    "try:\n",
    "    statusZ = __load_status(config['tbeg'], config['tend'], \"Z\", config['path_to_data'])\n",
    "\n",
    "    statusZ = statusZ.sort_values(by=\"times_utc\").reset_index()\n",
    "except:\n",
    "    pass\n",
    "\n",
    "try:\n",
    "    statusU = __load_status(config['tbeg'], config['tend'], \"U\", config['path_to_data'])\n",
    "\n",
    "    statusU = statusU.sort_values(by=\"times_utc\").reset_index()\n",
    "except:\n",
    "    pass\n",
    "\n",
    "try:\n",
    "    statusV = __load_status(config['tbeg'], config['tend'], \"V\", config['path_to_data'])\n",
    "\n",
    "    statusV = statusV.sort_values(by=\"times_utc\").reset_index()\n",
    "except:\n",
    "    pass\n",
    "\n",
    "try:\n",
    "    statusW = __load_status(config['tbeg'], config['tend'], \"W\", config['path_to_data'])\n",
    "\n",
    "    statusW = statusW.sort_values(by=\"times_utc\").reset_index()\n",
    "except:\n",
    "    pass\n"
   ]
  },
  {
   "cell_type": "markdown",
   "id": "c1ad1abc-f3ec-4949-a3a0-e69dcdc2f800",
   "metadata": {},
   "source": [
    "### Pre-Processing"
   ]
  },
  {
   "cell_type": "code",
   "execution_count": null,
   "id": "479c7ead-0f68-4857-8863-4f6b1ea74832",
   "metadata": {
    "tags": []
   },
   "outputs": [],
   "source": [
    "try:\n",
    "    statusZ_mod = statusZ[['times_utc','quality']]\n",
    "    statusZ_mod = statusZ_mod.dropna(subset=\"times_utc\").reset_index()\n",
    "    statusZ_mod['times_utc'] = statusZ_mod.times_utc.astype(str)\n",
    "except:\n",
    "    pass\n",
    "\n",
    "try:\n",
    "    statusU_mod = statusU[['times_utc','quality']]\n",
    "    statusU_mod = statusU_mod.dropna(subset=\"times_utc\").reset_index()\n",
    "    statusU_mod['times_utc'] = statusU_mod.times_utc.astype(str)\n",
    "except:\n",
    "    pass\n",
    "\n",
    "try:\n",
    "    statusV_mod = statusV[['times_utc','quality']]\n",
    "    statusV_mod = statusV_mod.dropna(subset=\"times_utc\").reset_index()\n",
    "    statusV_mod['times_utc'] = statusV_mod.times_utc.astype(str)\n",
    "except:\n",
    "    pass\n",
    "\n",
    "try:\n",
    "    statusW_mod = statusW[['times_utc','quality']]\n",
    "    statusW_mod = statusW_mod.dropna(subset=\"times_utc\").reset_index()\n",
    "    statusW_mod['times_utc'] = statusW_mod.times_utc.astype(str)\n",
    "except:\n",
    "    pass"
   ]
  },
  {
   "cell_type": "markdown",
   "id": "a82f29a8-36aa-4cb0-b5ad-e4f2332907fd",
   "metadata": {},
   "source": [
    "### Form one Data Frame"
   ]
  },
  {
   "cell_type": "code",
   "execution_count": null,
   "id": "0722209e-4b7a-46ff-8c4e-413317fad03d",
   "metadata": {
    "tags": []
   },
   "outputs": [],
   "source": [
    "# create new frame with all rings and their quality\n",
    "df_new = statusZ_mod.copy()\n",
    "\n",
    "try:\n",
    "    df_new = df_new.merge(statusU_mod, how=\"outer\", on=[\"times_utc\"])\n",
    "\n",
    "    # drop irrelevant columns\n",
    "    df_new.drop(columns=[\"index_x\", \"index_y\"], inplace=True)\n",
    "\n",
    "    # renaming ...\n",
    "    df_new.rename(columns={\"quality_x\":\"RZ\", \"quality_y\":\"RU\"}, inplace=True)\n",
    "\n",
    "except:\n",
    "    pass\n"
   ]
  },
  {
   "cell_type": "code",
   "execution_count": null,
   "id": "d9a27200-b439-4077-8ed2-2a38cd169216",
   "metadata": {
    "tags": []
   },
   "outputs": [],
   "source": [
    "try:\n",
    "    df_new = df_new.merge(statusV_mod, how=\"outer\", on=[\"times_utc\"])\n",
    "\n",
    "    # drop irrelevant columns\n",
    "    df_new.drop(columns=[\"index\"], inplace=True)\n",
    "\n",
    "    # renaming ...\n",
    "    df_new.rename(columns={\"quality\":\"RV\"}, inplace=True)\n",
    "\n",
    "except:\n",
    "    pass\n"
   ]
  },
  {
   "cell_type": "code",
   "execution_count": null,
   "id": "26d94ac4-c69b-4485-9516-63056a69eba8",
   "metadata": {
    "tags": []
   },
   "outputs": [],
   "source": [
    "try:\n",
    "    df_new = df_new.merge(statusW_mod, how=\"outer\", on=[\"times_utc\"])\n",
    "\n",
    "    # drop irrelevant columns\n",
    "    df_new.drop(columns=[\"index\"], inplace=True)\n",
    "\n",
    "    # renaming ...\n",
    "    df_new.rename(columns={\"quality\":\"RW\"}, inplace=True)\n",
    "\n",
    "except:\n",
    "    pass\n"
   ]
  },
  {
   "cell_type": "code",
   "execution_count": null,
   "id": "e780d021-a4a7-41da-8440-6ee0d2f19e8c",
   "metadata": {
    "tags": []
   },
   "outputs": [],
   "source": [
    "# add relative times\n",
    "ref_time = df_new.times_utc.iloc[0]\n",
    "df_new['times_utc_sec'] = np.array([abs(obs.UTCDateTime(ref_time) - obs.UTCDateTime(_t) +30) for _t in df_new.times_utc])\n",
    "\n",
    "# add RW column\n",
    "# df_new['RW'] = np.ones(df_new.shape[0])*np.nan\n",
    "\n",
    "# sort all by time\n",
    "df_new.sort_values(by=\"times_utc\", inplace=True)"
   ]
  },
  {
   "cell_type": "code",
   "execution_count": null,
   "id": "10c8626c-5d36-4fd5-a72d-309041aafa21",
   "metadata": {},
   "outputs": [],
   "source": [
    "# sub data frame for one day\n",
    "df_day_before = df_new.copy()\n",
    "df_day_before = df_day_before[df_day_before.times_utc > config['date_before']]\n",
    "df_day_before = df_day_before[df_day_before.times_utc < config['date_before']+86400]\n",
    "\n",
    "# sub data frame for this month\n",
    "month = config['tend'].month\n",
    "df_new['month'] = [obs.UTCDateTime(_t).month for _t in df_new.times_utc]\n",
    "df_month = df_new[df_new.month == config['tend'].month]\n",
    "df_month = df_month[df_month.times_utc > config['date_before']]\n",
    "df_month = df_month[df_month.times_utc < config['date_before']+86400]\n",
    "\n",
    "# sub data frame for the entire year\n",
    "df_year = df_new.copy()"
   ]
  },
  {
   "cell_type": "markdown",
   "id": "881e2179-430b-4668-bfda-42cdc2a34fd1",
   "metadata": {},
   "source": [
    "### Plotting"
   ]
  },
  {
   "cell_type": "code",
   "execution_count": null,
   "id": "b4f5c72e-20f0-4b4c-aad0-f6d8b31b59f4",
   "metadata": {
    "tags": []
   },
   "outputs": [],
   "source": [
    "def __makeplot():\n",
    "\n",
    "    import matplotlib.pyplot as plt\n",
    "    from matplotlib.gridspec import GridSpec\n",
    "\n",
    "    tscale, tunit = 1/86400, \"days\"\n",
    "\n",
    "\n",
    "    Ncol, Nrow = 6, 2\n",
    "\n",
    "    font = 14\n",
    "\n",
    "    lw = 1\n",
    "\n",
    "    scale, unit = 1, f\"Hz\"\n",
    "\n",
    "    fig = plt.figure(figsize=(15, 8))\n",
    "\n",
    "    gs1 = GridSpec(Nrow, Ncol, figure=fig, hspace=0.25, wspace=0.5)\n",
    "\n",
    "    ax1 = fig.add_subplot(gs1[0, 0:2])\n",
    "    ax2 = fig.add_subplot(gs1[0, 2:4])\n",
    "    ax3 = fig.add_subplot(gs1[0, 4:6])\n",
    "    ax4 = fig.add_subplot(gs1[1, :])\n",
    "\n",
    "    # create colormap green - red\n",
    "    cmap = matplotlib.colors.ListedColormap(['darkred', 'green'])\n",
    "    cmap.set_bad(\"w\")\n",
    "\n",
    "\n",
    "    # ___________________________________________________\n",
    "\n",
    "    for ax, _df in zip([ax1, ax2, ax3], [df_day_before, df_month, df_year]):\n",
    "\n",
    "        df_stats = __get_stats(_df)\n",
    "\n",
    "        barWidth = 0.85\n",
    "\n",
    "        r = range(df_stats.ring.size)\n",
    "\n",
    "        ax.bar(r, df_stats.R_0_p,\n",
    "                color='darkred', edgecolor='k', width=barWidth, label=\"Bad Quality\")\n",
    "\n",
    "        ax.bar(r, df_stats.R_1_p, bottom=df_stats.R_0_p,\n",
    "                color='green', edgecolor='k', width=barWidth, label=\"Good Quality\")\n",
    "\n",
    "        ax.bar(r, df_stats.R_nan_p, bottom=[i+j for i, j in zip(df_stats.R_0_p, df_stats.R_1_p)],\n",
    "                color='white', edgecolor='k', width=barWidth, label=\"NaN\")\n",
    "\n",
    "        ax.set_xticks(r, df_stats.ring)\n",
    "\n",
    "        ax.set_ylim(0, 100)\n",
    "\n",
    "        vals = ax.get_yticks()\n",
    "        ax.set_yticklabels([f'{int(x)}%' for x in vals])\n",
    "\n",
    "        ax.spines['top'].set_visible(False)\n",
    "        ax.spines['right'].set_visible(False)\n",
    "\n",
    "        for c in ax.containers:\n",
    "\n",
    "            # Optional: if the segment is small or 0, customize the labels\n",
    "            labels = [round(v.get_height(), 2) if v.get_height() > 0 else '' for v in c]\n",
    "\n",
    "            # remove the labels parameter if it's not needed for customized labels\n",
    "            plt.bar_label(c, labels=labels, label_type='center', padding=0)\n",
    "\n",
    "    ax3.set_title(f\"For {config['tbeg'].year}\", pad=10)\n",
    "    ax2.set_title(f\"For {config['tbeg'].year}-{str(config['tend'].month).rjust(2, '0')}\", pad=10)\n",
    "    ax1.set_title(f\"For {config['date_before'].date}\", pad=10)\n",
    "\n",
    "    ax2.legend(loc='upper left', bbox_to_anchor=(-0.1, -0.1), ncol=3)\n",
    "\n",
    "    # ___________________________________________________\n",
    "\n",
    "    bars = np.ones(4)-0.5\n",
    "\n",
    "    arr = np.ones((4, df_day_before.shape[0]))\n",
    "\n",
    "    for _n, name in enumerate(config['names']):\n",
    "        arr[_n] *= df_day_before[name]\n",
    "\n",
    "    times = df_day_before.times_utc_sec - df_day_before.times_utc_sec.iloc[0]\n",
    "\n",
    "    c = ax4.pcolormesh(times/3600, config['names'], arr, cmap=cmap, rasterized=True, alpha=1)\n",
    "\n",
    "    for _k, bar in enumerate(bars):\n",
    "        ax4.axhline(bar+_k, color=\"w\", alpha=1, lw=2)\n",
    "\n",
    "    ax4.tick_params(axis='y', labelsize=font)\n",
    "    ax4.tick_params(axis='x', labelsize=font-2)\n",
    "\n",
    "    ax4.spines['top'].set_visible(False)\n",
    "    ax4.spines['right'].set_visible(False)\n",
    "\n",
    "    ax4.set_xlabel(f\"Time (hours) from {config['date_before'].date}\", fontsize=font)\n",
    "\n",
    "    # add minor ticks\n",
    "    from matplotlib.ticker import (MultipleLocator, AutoMinorLocator)\n",
    "    ax4.set_xlim(left=0)\n",
    "    ax4.xaxis.set_major_locator(MultipleLocator(5))\n",
    "    ax4.xaxis.set_minor_locator(MultipleLocator(1))\n",
    "\n",
    "\n",
    "    # plt.show();\n",
    "    return fig"
   ]
  },
  {
   "cell_type": "code",
   "execution_count": null,
   "id": "f6c084ad-2480-4158-b619-f8913a84f4ad",
   "metadata": {
    "tags": []
   },
   "outputs": [],
   "source": [
    "fig = __makeplot()\n",
    "\n",
    "fig.savefig(config['path_to_figs']+f\"html_status.png\", format=\"png\", dpi=150, bbox_inches='tight')\n",
    "\n",
    "del fig"
   ]
  },
  {
   "cell_type": "code",
   "execution_count": null,
   "id": "cdb5838e-e391-4b7e-be8a-bdcd8e0a8fcc",
   "metadata": {},
   "outputs": [],
   "source": []
  }
 ],
 "metadata": {
  "kernelspec": {
   "display_name": "Python 3 (ipykernel)",
   "language": "python",
   "name": "python3"
  },
  "language_info": {
   "codemirror_mode": {
    "name": "ipython",
    "version": 3
   },
   "file_extension": ".py",
   "mimetype": "text/x-python",
   "name": "python",
   "nbconvert_exporter": "python",
   "pygments_lexer": "ipython3",
   "version": "3.9.16"
  }
 },
 "nbformat": 4,
 "nbformat_minor": 5
}
