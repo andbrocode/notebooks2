{
 "cells": [
  {
   "cell_type": "markdown",
   "id": "7fb61b76-71fe-4880-aad6-5b60fc31333b",
   "metadata": {},
   "source": [
    "## Makeplot for Beam Walk"
   ]
  },
  {
   "cell_type": "code",
   "execution_count": 1,
   "id": "63468869-04cc-4739-a90f-e19c7bd6bc98",
   "metadata": {
    "tags": []
   },
   "outputs": [],
   "source": [
    "import os\n",
    "import numpy as np\n",
    "import matplotlib.pyplot as plt\n",
    "\n",
    "from obspy import UTCDateTime"
   ]
  },
  {
   "cell_type": "code",
   "execution_count": 2,
   "id": "8284127c-2499-4c46-9334-fb7a6e110b35",
   "metadata": {
    "tags": []
   },
   "outputs": [],
   "source": [
    "from functions.load_mlti import __load_mlti\n",
    "from functions.get_mlti_intervals import __get_mlti_intervals\n",
    "from functions.load_beam_wander_data_v2 import __load_beam_wander_data\n",
    "from functions.load_lxx import __load_lxx\n",
    "from functions.get_lxx_intervals import __get_lxx_intervals\n",
    "from functions.find_max_min import __find_max_min"
   ]
  },
  {
   "cell_type": "code",
   "execution_count": 3,
   "id": "3696d4a0-8cda-41bc-b9ac-a3659c92f1e7",
   "metadata": {
    "tags": []
   },
   "outputs": [],
   "source": [
    "if os.uname().nodename == 'lighthouse':\n",
    "    root_path = '/home/andbro/'\n",
    "    data_path = '/home/andbro/kilauea-data/'\n",
    "    archive_path = '/home/andbro/freenas/'\n",
    "    bay_path = '/home/andbro/ontap-ffb-bay200/'\n",
    "    lamont_path = '/home/andbro/lamont/'\n",
    "elif os.uname().nodename == 'kilauea':\n",
    "    root_path = '/home/brotzer/'\n",
    "    data_path = '/import/kilauea-data/'\n",
    "    archive_path = '/import/freenas-ffb-01-data/'\n",
    "    bay_path = '/import/ontap-ffb-bay200/'\n",
    "    lamont_path = '/lamont/'\n",
    "elif os.uname().nodename in ['lin-ffb-01', 'ambrym', 'hochfelln']:\n",
    "    root_path = '/home/brotzer/'\n",
    "    data_path = '/import/kilauea-data/'\n",
    "    archive_path = '/import/freenas-ffb-01-data/'\n",
    "    bay_path = '/import/ontap-ffb-bay200/'\n",
    "    lamont_path = '/lamont/'"
   ]
  },
  {
   "cell_type": "markdown",
   "id": "4db96746-012e-4324-b2cf-38ca17f34eb8",
   "metadata": {},
   "source": [
    "### Load Configuration"
   ]
  },
  {
   "cell_type": "code",
   "execution_count": 4,
   "id": "f828475e-d591-47e5-8742-00e80aa654c7",
   "metadata": {
    "tags": []
   },
   "outputs": [],
   "source": [
    "config = {}\n",
    "\n",
    "# specify cameras (designed for 4 cameras)\n",
    "config['cameras'] = ['00', '01', '03', '05']\n",
    "\n",
    "# path to beam walk data\n",
    "config['path_to_data'] = data_path+f\"ids/\"\n",
    "\n",
    "# path to automatic beam images\n",
    "config['path_to_images'] = data_path+\"ids/\"\n",
    "\n",
    "# path to figure output\n",
    "config['path_to_figs'] = data_path+f\"HTML_Monitor/figures/\"\n",
    "\n",
    "# conversion from pixel to mm\n",
    "config['conversion'] = {#\"00\":1.67e-3,\n",
    "                        \"00\":5.3e-3,\n",
    "                        \"01\":5.3e-3,\n",
    "                        \"03\":5.3e-3,\n",
    "                        \"05\":5.3e-3,\n",
    "                        \"07\":5.3e-3,\n",
    "                       }\n",
    "\n",
    "# colors\n",
    "config['colors'] = {\"00\":\"tab:blue\",\n",
    "                    \"01\":\"tab:orange\",\n",
    "                    \"03\":\"tab:red\",\n",
    "                    \"05\":\"tab:green\",\n",
    "                    \"07\":\"tab:purple\",\n",
    "                    }\n",
    "\n",
    "# specify length of time interval to show\n",
    "config['time_interval'] = 14 # days\n",
    "\n",
    "# config['last_reset'] = UTCDateTime(\"2024-10-01 14:00\")\n",
    "config['last_reset'] = UTCDateTime(\"2024-10-09 13:00\")\n",
    "\n",
    "# define time interval\n",
    "config['tend'] = UTCDateTime().now()\n",
    "if abs(config['tend'] - config['last_reset']) > config['time_interval'] * 86400:\n",
    "    config['tbeg'] = config['tend'] - config['time_interval'] * 86400\n",
    "else:\n",
    "    config['tbeg'] = config['last_reset']\n",
    "\n",
    "# resets\n",
    "config['resets'] = {'00':\"2024-09-12 12:00\",\n",
    "                    }\n"
   ]
  },
  {
   "cell_type": "code",
   "execution_count": 5,
   "id": "ea570cea-ddbf-47d3-ac6c-60da4c7f4d53",
   "metadata": {},
   "outputs": [],
   "source": [
    "def __get_latest_filename(path):\n",
    "    from glob import glob\n",
    "    from os.path import getctime\n",
    "\n",
    "    # list of all files\n",
    "    list_of_files = glob(path+\"*.png\")\n",
    "\n",
    "    # extract latest file\n",
    "    latest_file = max(list_of_files, key=getctime)\n",
    "\n",
    "    # split string\n",
    "    _tmp = latest_file.split(\"/\")[-1].split(\"_\")\n",
    "\n",
    "    # format datestring\n",
    "    datetime = f\"{_tmp[0][:4]}-{_tmp[0][4:6]}-{_tmp[0][6:8]} {_tmp[1][:2]}:{_tmp[1][2:4]}:{_tmp[1][4:6]} UTC\"\n",
    "\n",
    "    return latest_file, datetime"
   ]
  },
  {
   "cell_type": "code",
   "execution_count": 6,
   "id": "4f78eaa8-0458-487a-824e-1fe021b396dd",
   "metadata": {
    "tags": []
   },
   "outputs": [],
   "source": [
    "def __adjust_times(df0, cam0):\n",
    "\n",
    "    # add utc object\n",
    "    df0.loc[:, 'time_utc'] = [UTCDateTime(tl) for tl in df0.time]\n",
    "\n",
    "    # cut to time period\n",
    "    df0 = df0[(df0.time_utc >= config['tbeg']) & (df0.time_utc <= config['tend'])]\n",
    "\n",
    "    # adjust strartime by resets\n",
    "    if cam0 in config['resets']:\n",
    "        df0 = df0[df0.time_utc > UTCDateTime(config['resets'][cam0])]\n",
    "\n",
    "    df0.reset_index(drop=True, inplace=True)\n",
    "\n",
    "    # add relative times\n",
    "    df0.loc[:, 'time_sec'] = df0.time_utc - config['tbeg']\n",
    "\n",
    "    return df0"
   ]
  },
  {
   "cell_type": "code",
   "execution_count": 7,
   "id": "230e8368-b1db-4198-bfce-231d7ed182d6",
   "metadata": {
    "tags": []
   },
   "outputs": [],
   "source": [
    "def __convert_and_reduce(df0, conversion_factor):\n",
    "\n",
    "    from functions.reduce import __reduce\n",
    "\n",
    "    keys_to_convert = [\"y_idx\", \"x_idx\", \"y\", \"x\", \"x_sig\", \"y_sig\"]\n",
    "\n",
    "    for k in keys_to_convert:\n",
    "        df0.loc[:, k] = df0[k].values * conversion_factor\n",
    "\n",
    "    # to micrometer\n",
    "    df0.loc[:, 'x_um_rel'] = __reduce(df0.x.values * 1e3, 5)\n",
    "    df0.loc[:, 'y_um_rel'] = __reduce(df0.y.values * 1e3, 5)\n",
    "\n",
    "    df0.loc[:, 'x_um_sig'] = df0.x_sig.values * 1e3\n",
    "    df0.loc[:, 'y_um_sig'] = df0.y_sig.values * 1e3\n",
    "\n",
    "    df0.loc[:, 'x_um_var'] = df0.x_var.values * 1e3\n",
    "    df0.loc[:, 'y_um_var'] = df0.y_var.values * 1e3\n",
    "\n",
    "    df0.reset_index(drop=True, inplace=True)\n",
    "\n",
    "    return df0"
   ]
  },
  {
   "cell_type": "code",
   "execution_count": 8,
   "id": "d65b9c64-53d3-45ac-b1b0-13f6da8abb53",
   "metadata": {
    "tags": []
   },
   "outputs": [],
   "source": [
    "def __filter(df0):\n",
    "\n",
    "    n1 = df0.size\n",
    "\n",
    "    # remove bad estimates\n",
    "    df0 = df0[df0['y_sig_var'] != np.inf]\n",
    "    df0 = df0[df0['x_sig_var'] != np.inf]\n",
    "\n",
    "    # when intensity is super low, there is a black image\n",
    "    df0 = df0[df0['amp'] > 20]\n",
    "\n",
    "    # when intensity is super high or saturated, there is likely a MLTI boost\n",
    "    df0 = df0[df0['amp'] < 255]\n",
    "\n",
    "    if df0.size != n1:\n",
    "        df0.reset_index(inplace=True)\n",
    "\n",
    "    return df0"
   ]
  },
  {
   "cell_type": "markdown",
   "id": "478c4e35-1c2a-4c6e-8625-647e46b9adfd",
   "metadata": {},
   "source": [
    "### Load MLTI"
   ]
  },
  {
   "cell_type": "code",
   "execution_count": 9,
   "id": "2493334f-6d73-4010-a711-78fd29bcb000",
   "metadata": {
    "tags": []
   },
   "outputs": [],
   "source": [
    "mltiZ = __load_mlti(config['tbeg'], config['tend'], \"Z\", archive_path)\n",
    "\n",
    "mltiZ_t1, mltiZ_t2 = __get_mlti_intervals(mltiZ.time_utc)"
   ]
  },
  {
   "cell_type": "code",
   "execution_count": 10,
   "id": "7017beb0-bc75-40c3-b182-34ec70e0064a",
   "metadata": {
    "tags": []
   },
   "outputs": [],
   "source": [
    "mltiU = __load_mlti(config['tbeg'], config['tend'], \"U\", archive_path)\n",
    "\n",
    "mltiU_t1, mltiU_t2 = __get_mlti_intervals(mltiU.time_utc)"
   ]
  },
  {
   "cell_type": "code",
   "execution_count": 11,
   "id": "8d2b488e-a6c5-41ba-bb75-c63441b3705a",
   "metadata": {
    "tags": []
   },
   "outputs": [],
   "source": [
    "mltiV = __load_mlti(config['tbeg'], config['tend'], \"V\", archive_path)\n",
    "\n",
    "mltiV_t1, mltiV_t2 = __get_mlti_intervals(mltiV.time_utc)"
   ]
  },
  {
   "cell_type": "markdown",
   "id": "7c179319-2946-465a-8296-07111694e2f0",
   "metadata": {},
   "source": [
    "### Load Beam Walk Data"
   ]
  },
  {
   "cell_type": "code",
   "execution_count": 12,
   "id": "43a3a19a-64ec-408a-8a7d-c1926a64de30",
   "metadata": {
    "tags": []
   },
   "outputs": [
    {
     "name": "stdout",
     "output_type": "stream",
     "text": [
      " -> error for 20241010.pkl\n",
      " -> error for 20241010.pkl\n",
      " -> error for 20241010.pkl\n",
      " -> error for 20241009.pkl\n",
      " -> error for 20241010.pkl\n"
     ]
    },
    {
     "ename": "AttributeError",
     "evalue": "'DataFrame' object has no attribute 'time'",
     "output_type": "error",
     "traceback": [
      "\u001b[0;31m---------------------------------------------------------------------------\u001b[0m",
      "\u001b[0;31mAttributeError\u001b[0m                            Traceback (most recent call last)",
      "\u001b[0;32m/tmp/ipykernel_471120/496402365.py\u001b[0m in \u001b[0;36m?\u001b[0;34m()\u001b[0m\n\u001b[1;32m      1\u001b[0m \u001b[0mids\u001b[0m \u001b[0;34m=\u001b[0m \u001b[0;34m{\u001b[0m\u001b[0;34m}\u001b[0m\u001b[0;34m\u001b[0m\u001b[0;34m\u001b[0m\u001b[0m\n\u001b[1;32m      2\u001b[0m \u001b[0;34m\u001b[0m\u001b[0m\n\u001b[1;32m      3\u001b[0m \u001b[0;32mfor\u001b[0m \u001b[0m_cam\u001b[0m \u001b[0;32min\u001b[0m \u001b[0mconfig\u001b[0m\u001b[0;34m[\u001b[0m\u001b[0;34m'cameras'\u001b[0m\u001b[0;34m]\u001b[0m\u001b[0;34m:\u001b[0m\u001b[0;34m\u001b[0m\u001b[0;34m\u001b[0m\u001b[0m\n\u001b[1;32m      4\u001b[0m \u001b[0;34m\u001b[0m\u001b[0m\n\u001b[0;32m----> 5\u001b[0;31m     ids[_cam] = __load_beam_wander_data(config['tbeg'].date,\n\u001b[0m\u001b[1;32m      6\u001b[0m                                         \u001b[0mconfig\u001b[0m\u001b[0;34m[\u001b[0m\u001b[0;34m'tend'\u001b[0m\u001b[0;34m]\u001b[0m\u001b[0;34m.\u001b[0m\u001b[0mdate\u001b[0m\u001b[0;34m,\u001b[0m\u001b[0;34m\u001b[0m\u001b[0;34m\u001b[0m\u001b[0m\n\u001b[1;32m      7\u001b[0m                                         \u001b[0mconfig\u001b[0m\u001b[0;34m[\u001b[0m\u001b[0;34m'path_to_data'\u001b[0m\u001b[0;34m]\u001b[0m\u001b[0;34m,\u001b[0m\u001b[0;34m\u001b[0m\u001b[0;34m\u001b[0m\u001b[0m\n\u001b[1;32m      8\u001b[0m                                         \u001b[0m_cam\u001b[0m\u001b[0;34m\u001b[0m\u001b[0;34m\u001b[0m\u001b[0m\n",
      "\u001b[0;32m~/notebooks/RomyMonitor/functions/load_beam_wander_data_v2.py\u001b[0m in \u001b[0;36m?\u001b[0;34m(tbeg, tend, path_to_data, cam)\u001b[0m\n\u001b[1;32m     28\u001b[0m     \u001b[0;31m# reset the index column\u001b[0m\u001b[0;34m\u001b[0m\u001b[0;34m\u001b[0m\u001b[0m\n\u001b[1;32m     29\u001b[0m     \u001b[0mdf\u001b[0m\u001b[0;34m.\u001b[0m\u001b[0mreset_index\u001b[0m\u001b[0;34m(\u001b[0m\u001b[0minplace\u001b[0m\u001b[0;34m=\u001b[0m\u001b[0;32mTrue\u001b[0m\u001b[0;34m,\u001b[0m \u001b[0mdrop\u001b[0m\u001b[0;34m=\u001b[0m\u001b[0;32mTrue\u001b[0m\u001b[0;34m)\u001b[0m\u001b[0;34m\u001b[0m\u001b[0;34m\u001b[0m\u001b[0m\n\u001b[1;32m     30\u001b[0m \u001b[0;34m\u001b[0m\u001b[0m\n\u001b[1;32m     31\u001b[0m     \u001b[0;31m# add column for relative time in seconds\u001b[0m\u001b[0;34m\u001b[0m\u001b[0;34m\u001b[0m\u001b[0m\n\u001b[0;32m---> 32\u001b[0;31m     \u001b[0mdf\u001b[0m\u001b[0;34m[\u001b[0m\u001b[0;34m'time_sec'\u001b[0m\u001b[0;34m]\u001b[0m \u001b[0;34m=\u001b[0m \u001b[0;34m[\u001b[0m\u001b[0mUTCDateTime\u001b[0m\u001b[0;34m(\u001b[0m\u001b[0m_t\u001b[0m\u001b[0;34m)\u001b[0m \u001b[0;34m-\u001b[0m \u001b[0mUTCDateTime\u001b[0m\u001b[0;34m(\u001b[0m\u001b[0mdf\u001b[0m\u001b[0;34m.\u001b[0m\u001b[0mtime\u001b[0m\u001b[0;34m.\u001b[0m\u001b[0miloc\u001b[0m\u001b[0;34m[\u001b[0m\u001b[0;36m0\u001b[0m\u001b[0;34m]\u001b[0m\u001b[0;34m)\u001b[0m \u001b[0;32mfor\u001b[0m \u001b[0m_t\u001b[0m \u001b[0;32min\u001b[0m \u001b[0mdf\u001b[0m\u001b[0;34m.\u001b[0m\u001b[0mtime\u001b[0m\u001b[0;34m]\u001b[0m\u001b[0;34m\u001b[0m\u001b[0;34m\u001b[0m\u001b[0m\n\u001b[0m\u001b[1;32m     33\u001b[0m \u001b[0;34m\u001b[0m\u001b[0m\n\u001b[1;32m     34\u001b[0m     \u001b[0;32mreturn\u001b[0m \u001b[0mdf\u001b[0m\u001b[0;34m\u001b[0m\u001b[0;34m\u001b[0m\u001b[0m\n",
      "\u001b[0;32m~/anaconda3/envs/obs2/lib/python3.10/site-packages/pandas/core/generic.py\u001b[0m in \u001b[0;36m?\u001b[0;34m(self, name)\u001b[0m\n\u001b[1;32m   5985\u001b[0m             \u001b[0;32mand\u001b[0m \u001b[0mname\u001b[0m \u001b[0;32mnot\u001b[0m \u001b[0;32min\u001b[0m \u001b[0mself\u001b[0m\u001b[0;34m.\u001b[0m\u001b[0m_accessors\u001b[0m\u001b[0;34m\u001b[0m\u001b[0;34m\u001b[0m\u001b[0m\n\u001b[1;32m   5986\u001b[0m             \u001b[0;32mand\u001b[0m \u001b[0mself\u001b[0m\u001b[0;34m.\u001b[0m\u001b[0m_info_axis\u001b[0m\u001b[0;34m.\u001b[0m\u001b[0m_can_hold_identifiers_and_holds_name\u001b[0m\u001b[0;34m(\u001b[0m\u001b[0mname\u001b[0m\u001b[0;34m)\u001b[0m\u001b[0;34m\u001b[0m\u001b[0;34m\u001b[0m\u001b[0m\n\u001b[1;32m   5987\u001b[0m         ):\n\u001b[1;32m   5988\u001b[0m             \u001b[0;32mreturn\u001b[0m \u001b[0mself\u001b[0m\u001b[0;34m[\u001b[0m\u001b[0mname\u001b[0m\u001b[0;34m]\u001b[0m\u001b[0;34m\u001b[0m\u001b[0;34m\u001b[0m\u001b[0m\n\u001b[0;32m-> 5989\u001b[0;31m         \u001b[0;32mreturn\u001b[0m \u001b[0mobject\u001b[0m\u001b[0;34m.\u001b[0m\u001b[0m__getattribute__\u001b[0m\u001b[0;34m(\u001b[0m\u001b[0mself\u001b[0m\u001b[0;34m,\u001b[0m \u001b[0mname\u001b[0m\u001b[0;34m)\u001b[0m\u001b[0;34m\u001b[0m\u001b[0;34m\u001b[0m\u001b[0m\n\u001b[0m",
      "\u001b[0;31mAttributeError\u001b[0m: 'DataFrame' object has no attribute 'time'"
     ]
    }
   ],
   "source": [
    "ids = {}\n",
    "\n",
    "for _cam in config['cameras']:\n",
    "\n",
    "    ids[_cam] = __load_beam_wander_data(config['tbeg'].date,\n",
    "                                        config['tend'].date,\n",
    "                                        config['path_to_data'],\n",
    "                                        _cam\n",
    "                                       )"
   ]
  },
  {
   "cell_type": "markdown",
   "id": "fc1d8ac3-1b7d-4878-800b-d2685cbfa4a9",
   "metadata": {},
   "source": [
    "### Processing"
   ]
  },
  {
   "cell_type": "code",
   "execution_count": null,
   "id": "e6d2f61f-674b-41a6-b38f-57d68033b019",
   "metadata": {
    "tags": []
   },
   "outputs": [],
   "source": [
    "for _cam in config['cameras']:\n",
    "\n",
    "    # adjust times\n",
    "    ids[_cam] = __adjust_times(ids[_cam], _cam)\n",
    "\n",
    "    # perfrom conversions\n",
    "    ids[_cam] = __convert_and_reduce(ids[_cam], config['conversion'][_cam])\n",
    "\n",
    "    # filter bad data\n",
    "    ids[_cam] = __filter(ids[_cam])\n"
   ]
  },
  {
   "cell_type": "markdown",
   "id": "544f12f6-0c37-4619-aa94-b0c4ae91d194",
   "metadata": {},
   "source": [
    "### Load LXX Log"
   ]
  },
  {
   "cell_type": "code",
   "execution_count": null,
   "id": "6b0ef1de-cc24-49da-9121-0bd554ea2e1e",
   "metadata": {},
   "outputs": [],
   "source": [
    "# load maintenance log\n",
    "lxx = __load_lxx(config['tbeg'], config['tend'], archive_path)\n",
    "\n",
    "# get intervals\n",
    "lxx_t1, lxx_t2 = __get_lxx_intervals(lxx.datetime)"
   ]
  },
  {
   "cell_type": "markdown",
   "id": "1eb67ca2-7238-4391-80e6-1f42d07845b1",
   "metadata": {},
   "source": [
    "### Plotting"
   ]
  },
  {
   "cell_type": "code",
   "execution_count": null,
   "id": "f341784d-fc99-4dda-9764-e8b8b9b9bb3c",
   "metadata": {
    "tags": []
   },
   "outputs": [],
   "source": [
    "def __makeplot():\n",
    "\n",
    "    import matplotlib.pyplot as plt\n",
    "    from matplotlib.gridspec import GridSpec\n",
    "\n",
    "    tscale, tunit = 1/86400, \"days\"\n",
    "\n",
    "    font = 12\n",
    "\n",
    "    Nrow, Ncol = 8, 8\n",
    "\n",
    "    fig = plt.figure(figsize=(18, 10))\n",
    "\n",
    "    gs = GridSpec(Nrow, Ncol, figure=fig, hspace=0.2)\n",
    "\n",
    "    ax0 = fig.add_subplot(gs[0:4, 0:5])\n",
    "    ax1 = fig.add_subplot(gs[4:8, 0:5])\n",
    "\n",
    "    ax2 = fig.add_subplot(gs[0:2, 5:6])\n",
    "    ax3 = fig.add_subplot(gs[2:4, 5:6])\n",
    "    ax4 = fig.add_subplot(gs[4:6, 5:6])\n",
    "    ax5 = fig.add_subplot(gs[6:8, 5:6])\n",
    "\n",
    "    ax6 = fig.add_subplot(gs[0:2, 6:8])\n",
    "    ax7 = fig.add_subplot(gs[2:4, 6:8])\n",
    "    ax8 = fig.add_subplot(gs[4:6, 6:8])\n",
    "    ax9 = fig.add_subplot(gs[6:8, 6:8])\n",
    "\n",
    "    axes00 = [ax0, ax1]\n",
    "    axes11 = [ax2, ax3, ax4, ax5]\n",
    "    axes22 = [ax6, ax7, ax8, ax9]\n",
    "\n",
    "    # _______________________________________________________\n",
    "\n",
    "    _data = []\n",
    "    for _cam in config['cameras']:\n",
    "\n",
    "        _df = ids[_cam]\n",
    "\n",
    "        ax0.scatter(_df.time_sec*tscale, _df.y_um_rel,\n",
    "                    s=1, color=config['colors'][_cam], label=f\"IDS-{_cam}\"\n",
    "                   )\n",
    "\n",
    "        _data.append(_df.y_um_rel.values)\n",
    "\n",
    "    ax0.set_ylim(__find_max_min(_data, pp=99))\n",
    "\n",
    "    ax0.grid(color=\"gray\", alpha=0.4, ls=\"--\")\n",
    "    ax0.legend(ncol=4, markerscale=3)\n",
    "\n",
    "    ax0.set_xticklabels([])\n",
    "\n",
    "    ax0.set_ylabel(\"relative Y-Position ($\\mu$m)\", fontsize=font)\n",
    "\n",
    "    # _______________________________________________________\n",
    "\n",
    "    _data = []\n",
    "    for _cam in config['cameras']:\n",
    "\n",
    "        _df = ids[_cam]\n",
    "\n",
    "        ax1.scatter(_df.time_sec*tscale, _df.x_um_rel,\n",
    "                    s=1, color=config['colors'][_cam], label=f\"IDS-{_cam}\"\n",
    "                   )\n",
    "\n",
    "        _data.append(_df.x_um_rel.values)\n",
    "\n",
    "    ax1.set_ylim(__find_max_min(_data, pp=99))\n",
    "\n",
    "    ax1.grid(color=\"gray\", alpha=0.4, ls=\"--\")\n",
    "    ax1.legend(ncol=4, markerscale=3)\n",
    "\n",
    "    ax1.set_ylabel(\"relative X-Position ($\\mu$m)\", fontsize=font)\n",
    "    ax1.set_xlabel(f\"Time ({tunit}) since {config['tbeg'].date}  {str(config['tbeg'].time)[:10]} UTC\", fontsize=font)\n",
    "\n",
    "    # _______________________________________________________\n",
    "\n",
    "    for ax, _cam in zip(axes11, config['cameras']):\n",
    "\n",
    "        _df = ids[_cam]\n",
    "\n",
    "        ax.scatter(_df.x_um_rel, _df.y_um_rel, c=_df.time_sec, s=1)\n",
    "        ax.grid(color=\"gray\", alpha=0.4, ls=\"--\")\n",
    "\n",
    "        ax.get_xaxis().set_visible(False)\n",
    "        ax.get_yaxis().set_visible(False)\n",
    "\n",
    "    # _______________________________________________________\n",
    "\n",
    "    for ax, _cam in zip(axes22, config['cameras']):\n",
    "\n",
    "        try:\n",
    "            _imagedir = f\"data{_cam}/outfigs/\"\n",
    "\n",
    "            _image, _datetime = __get_latest_filename(config['path_to_images']+_imagedir)\n",
    "\n",
    "            try:\n",
    "                ax.imshow(plt.imread(_image))\n",
    "            except:\n",
    "                print(f\" -> failed to load image for {_cam}\")\n",
    "\n",
    "            ax.set_title(f\"IDS-{_cam} | {_datetime}\", pad=1)\n",
    "\n",
    "            ax.get_xaxis().set_visible(False)\n",
    "            ax.get_yaxis().set_visible(False)\n",
    "\n",
    "        except:\n",
    "            print(f\" -> failed image for {_cam}\")\n",
    "\n",
    "    plt.show();\n",
    "    return fig"
   ]
  },
  {
   "cell_type": "code",
   "execution_count": null,
   "id": "b28ff2d6-d1dd-4d71-9bab-df7d982a7304",
   "metadata": {
    "tags": []
   },
   "outputs": [],
   "source": [
    "fig = __makeplot();\n",
    "\n",
    "fig.savefig(config['path_to_figs']+f\"html_beamwalk.png\", format=\"png\", dpi=150, bbox_inches='tight')\n",
    "\n",
    "del fig"
   ]
  },
  {
   "cell_type": "code",
   "execution_count": null,
   "id": "02105835-d1a3-4104-9689-b7fc1a75f901",
   "metadata": {},
   "outputs": [],
   "source": []
  }
 ],
 "metadata": {
  "kernelspec": {
   "display_name": "Python 3 (ipykernel)",
   "language": "python",
   "name": "python3"
  },
  "language_info": {
   "codemirror_mode": {
    "name": "ipython",
    "version": 3
   },
   "file_extension": ".py",
   "mimetype": "text/x-python",
   "name": "python",
   "nbconvert_exporter": "python",
   "pygments_lexer": "ipython3",
   "version": "3.10.12"
  }
 },
 "nbformat": 4,
 "nbformat_minor": 5
}
