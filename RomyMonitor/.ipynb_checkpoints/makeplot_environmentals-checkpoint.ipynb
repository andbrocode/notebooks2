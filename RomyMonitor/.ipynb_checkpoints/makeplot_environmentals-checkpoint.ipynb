{
 "cells": [
  {
   "cell_type": "markdown",
   "id": "22f5c8c9",
   "metadata": {
    "ExecuteTime": {
     "end_time": "2022-10-28T13:00:52.763484Z",
     "start_time": "2022-10-28T13:00:52.761516Z"
    }
   },
   "source": [
    "## Makeplot for HTML Monitor for Environmental Overview"
   ]
  },
  {
   "cell_type": "markdown",
   "id": "1cd32aed",
   "metadata": {},
   "source": [
    "plot most of observations for ROMY combined as time series"
   ]
  },
  {
   "cell_type": "markdown",
   "id": "185b1a0b",
   "metadata": {},
   "source": [
    "## Imports"
   ]
  },
  {
   "cell_type": "code",
   "execution_count": 1,
   "id": "2e221307-9387-4d0e-8620-063c6ee3c3df",
   "metadata": {
    "ExecuteTime": {
     "end_time": "2023-06-27T08:11:10.277643Z",
     "start_time": "2023-06-27T08:11:08.781535Z"
    },
    "tags": []
   },
   "outputs": [],
   "source": [
    "import os\n",
    "import gc\n",
    "import matplotlib.pyplot as plt\n",
    "import numpy as np\n",
    "import obspy as obs\n",
    "\n",
    "from datetime import datetime, date\n",
    "from pandas import DataFrame, read_pickle, date_range, concat, read_csv\n",
    "from obspy import UTCDateTime, read, Trace, Stream, read_inventory\n",
    "from scipy.signal import hilbert\n",
    "from scipy.ndimage import gaussian_filter1d"
   ]
  },
  {
   "cell_type": "code",
   "execution_count": 2,
   "id": "d1635458-7b9c-443e-9fbe-076efd950361",
   "metadata": {
    "ExecuteTime": {
     "end_time": "2023-06-27T08:11:10.277643Z",
     "start_time": "2023-06-27T08:11:08.781535Z"
    },
    "tags": []
   },
   "outputs": [],
   "source": [
    "from functions.reduce import __reduce\n",
    "from functions.load_backscatter_data import __load_backscatter_data\n",
    "from functions.read_sds import __read_sds\n",
    "from functions.read_yaml import __readYaml\n",
    "from functions.load_lxx import __load_lxx\n",
    "from functions.get_lxx_intervals import __get_lxx_intervals\n",
    "from functions.load_furt_stream import __load_furt_stream\n",
    "from functions.backscatter_correction import __backscatter_correction\n",
    "\n",
    "from functions.load_mlti import __load_mlti\n",
    "from functions.mlti_intervals_to_NaN import __mlti_intervals_to_NaN\n",
    "from functions.get_mlti_intervals import __get_mlti_intervals\n",
    "from functions.interpolate_nan import __interpolate_nan\n",
    "from functions.smoothing import __smooth\n",
    "from functions.conversion_to_tilt import __conversion_to_tilt\n",
    "from functions.load_water_level import __load_water_level\n",
    "from functions.load_beam_wander_data import __load_beam_wander_data\n",
    "from functions.find_max_min import __find_max_min"
   ]
  },
  {
   "cell_type": "code",
   "execution_count": 31,
   "id": "b83c9987",
   "metadata": {
    "ExecuteTime": {
     "end_time": "2023-06-27T08:11:10.288084Z",
     "start_time": "2023-06-27T08:11:10.284752Z"
    },
    "tags": []
   },
   "outputs": [],
   "source": [
    "if os.uname().nodename == 'lighthouse':\n",
    "    root_path = '/home/andbro/'\n",
    "    data_path = '/home/andbro/kilauea-data/'\n",
    "    archive_path = '/home/andbro/freenas/'\n",
    "    bay_path = '/home/andbro/ontap-ffb-bay200/'\n",
    "    lamont_path = '/home/andbro/lamont/'\n",
    "elif os.uname().nodename == 'kilauea':\n",
    "    root_path = '/home/brotzer/'\n",
    "    data_path = '/import/kilauea-data/'\n",
    "    archive_path = '/import/freenas-ffb-01-data/'\n",
    "    bay_path = '/import/ontap-ffb-bay200/'\n",
    "    lamont_path = '/lamont/'\n",
    "elif os.uname().nodename in ['lin-ffb-01', 'ambrym', 'hochfelln']:\n",
    "    root_path = '/home/brotzer/'\n",
    "    data_path = '/import/kilauea-data/'\n",
    "    archive_path = '/import/freenas-ffb-01-data/'\n",
    "    bay_path = '/import/ontap-ffb-bay200/'\n",
    "    lamont_path = '/lamont/'"
   ]
  },
  {
   "cell_type": "code",
   "execution_count": 4,
   "id": "35475fb4-a0f3-4cc1-98d8-3fad8008a4ca",
   "metadata": {
    "tags": []
   },
   "outputs": [],
   "source": [
    "import warnings\n",
    "warnings.filterwarnings('ignore')"
   ]
  },
  {
   "cell_type": "markdown",
   "id": "ec2578ab",
   "metadata": {},
   "source": [
    "## Configurations"
   ]
  },
  {
   "cell_type": "code",
   "execution_count": 5,
   "id": "ba83e3e7",
   "metadata": {
    "ExecuteTime": {
     "end_time": "2023-06-27T08:11:13.008382Z",
     "start_time": "2023-06-27T08:11:13.002517Z"
    },
    "tags": []
   },
   "outputs": [],
   "source": [
    "config = {}\n",
    "\n",
    "config['ring'] = \"Z\"\n",
    "\n",
    "# specify limits for sagnac frequency\n",
    "# config['flim1'], config['flim2'] = 447.726, 447.745\n",
    "\n",
    "config['seed'] = f\"BW.DROMY..FJ{config['ring']}\"\n",
    "\n",
    "# specify length of time interval to show\n",
    "config['time_interval'] = 14 # days\n",
    "\n",
    "# define time interval\n",
    "config['tend'] = UTCDateTime().now()\n",
    "config['tbeg'] = config['tend'] - config['time_interval'] * 86400\n",
    "\n",
    "# define path to data\n",
    "config['path_to_sds'] = archive_path+\"romy_archive/\"\n",
    "\n",
    "# path to Sagnac data\n",
    "config['path_to_autodata'] = archive_path+f\"romy_autodata/\"\n",
    "\n",
    "config['path_to_data'] = data_path+\"sagnac_frequency/data/backscatter/\"\n",
    "\n",
    "config['path_to_out_data'] = data_path+\"sagnac_frequency/data/\"\n",
    "\n",
    "# path to figure output\n",
    "config['path_to_figs'] = data_path+f\"HTML_Monitor/figures/\"\n",
    "\n",
    "# specify wromy stations to use\n",
    "config['wromy_stations'] = [1, 4, 5, 6, 7, 8, 9]\n",
    "\n",
    "# specify promy stations to use\n",
    "config['promy_stations'] = [1, 4, 5, 7, 9]\n",
    "\n",
    "# specify colors for stations\n",
    "config['colors'] = {  1:'darkgreen',\n",
    "                      3:'lightgreen',\n",
    "                      4:'purple',\n",
    "                      5:'darkred',\n",
    "                      6:'darkblue',\n",
    "                      7:'darkorange',\n",
    "                      8:'darkcyan',\n",
    "                      9:'cyan',\n",
    "                     }\n"
   ]
  },
  {
   "cell_type": "code",
   "execution_count": 6,
   "id": "7719d16c-47ce-45fc-a763-482823ef114e",
   "metadata": {
    "tags": []
   },
   "outputs": [],
   "source": [
    "def __time_spans_to_nan(bs, time_spans):\n",
    "\n",
    "    for t1, t2 in time_spans:\n",
    "        bs['fj_fs'] = np.where((bs.time1 > t1) & (bs.time1 < t2), np.nan, bs.fj_fs)\n",
    "        bs['fj_bs'] = np.where((bs.time1 > t1) & (bs.time1 < t2), np.nan, bs.fj_bs)"
   ]
  },
  {
   "cell_type": "markdown",
   "id": "12ef7747-2cb6-4561-bfe3-ccd226aae9dc",
   "metadata": {
    "tags": []
   },
   "source": [
    "## Configurations"
   ]
  },
  {
   "cell_type": "code",
   "execution_count": 7,
   "id": "5d8a5d06-0406-40f2-865b-93ad62f11e51",
   "metadata": {
    "tags": []
   },
   "outputs": [],
   "source": [
    "try:\n",
    "    # load sagnac frequency data\n",
    "    bs = __load_backscatter_data(config['tbeg'], config['tend'], config['ring'], config['path_to_data'])\n",
    "\n",
    "    # add column with seconds\n",
    "    bs['time_sec'] = bs.time2 - bs.time1 + (bs.time1 - bs.time1.loc[0])\n",
    "\n",
    "except:\n",
    "    pass"
   ]
  },
  {
   "cell_type": "markdown",
   "id": "3e53acfb-0295-4a70-a83e-337b7ed465a2",
   "metadata": {},
   "source": [
    "### Compute Backscatter (again)"
   ]
  },
  {
   "cell_type": "code",
   "execution_count": 8,
   "id": "a45ff2da-cbcc-4a75-842a-85304cfbf9dd",
   "metadata": {
    "tags": []
   },
   "outputs": [],
   "source": [
    "try:\n",
    "    # unwrap phases as one time series\n",
    "    bs['fj_ph'] = np.unwrap(bs.fj_ph)\n",
    "    bs['f1_ph'] = np.unwrap(bs.f1_ph)\n",
    "    bs['f2_ph'] = np.unwrap(bs.f2_ph)\n",
    "\n",
    "    # fractional beat modulations\n",
    "    m01 = bs.f1_ac / bs.f1_dc\n",
    "    m02 = bs.f2_ac / bs.f2_dc\n",
    "\n",
    "    # phase difference\n",
    "    ph1 = bs.f1_ph\n",
    "    ph2 = bs.f2_ph\n",
    "    phase0 = ph2 - ph1\n",
    "\n",
    "    # compute backscatter corrected signal\n",
    "    bs['fj_bs'] = __backscatter_correction(m01, m02, phase0, bs.fj_fs, np.median(bs.fj_fs), cm_filter_factor=1.033)\n",
    "except:\n",
    "    pass"
   ]
  },
  {
   "cell_type": "markdown",
   "id": "c5b9e835-f58a-4241-ba3f-ec5427ffa35c",
   "metadata": {},
   "source": [
    "### Cut corrupt data periods"
   ]
  },
  {
   "cell_type": "code",
   "execution_count": 9,
   "id": "a2bcdaa5-6e86-4231-9ea9-8a254aea9ceb",
   "metadata": {
    "tags": []
   },
   "outputs": [],
   "source": [
    "try:\n",
    "    bs['fj_fs'] = np.where((bs.fj_fs > config['flim2']), np.nan, bs.fj_fs)\n",
    "    bs['fj_fs'] = np.where((bs.fj_fs < config['flim1']), np.nan, bs.fj_fs)\n",
    "\n",
    "    bs['fj_bs'] = np.where((bs.fj_bs > config['flim2']), np.nan, bs.fj_bs)\n",
    "    bs['fj_bs'] = np.where((bs.fj_bs < config['flim1']), np.nan, bs.fj_bs)\n",
    "except:\n",
    "    pass"
   ]
  },
  {
   "cell_type": "code",
   "execution_count": 10,
   "id": "7f016660-577e-42a4-907d-9a7190a147e2",
   "metadata": {
    "tags": []
   },
   "outputs": [],
   "source": [
    "# time_spans = [(\"2024-06-20T12:00\", \"2024-06-21T12:00\"),\n",
    "#               (\"2024-06-24T12:00\", \"2024-06-26T06:00\")\n",
    "#              ]\n",
    "\n",
    "# __time_spans_to_nan(bs, time_spans)"
   ]
  },
  {
   "cell_type": "code",
   "execution_count": 11,
   "id": "a110303c-2c40-4558-a12a-c7dd99b09d6a",
   "metadata": {
    "tags": []
   },
   "outputs": [],
   "source": [
    "try:\n",
    "    mlti = __load_mlti(config['tbeg'], config['tend'], config['ring'], archive_path)\n",
    "\n",
    "    mlti_t1, mlti_t2 = __get_mlti_intervals(mlti.time_utc)\n",
    "\n",
    "    bs = __mlti_intervals_to_NaN(bs, \"fj_fs\", \"time1\", mlti_t1, mlti_t2, t_offset_sec=300)\n",
    "    bs = __mlti_intervals_to_NaN(bs, \"fj_bs\", \"time1\", mlti_t1, mlti_t2, t_offset_sec=300)\n",
    "except:\n",
    "    print(f\" -> Error: MLTI log\")\n",
    "    pass"
   ]
  },
  {
   "cell_type": "markdown",
   "id": "60589676-e1b9-449d-92a9-22ba4cbe5e18",
   "metadata": {},
   "source": [
    "### Apply special filter sections"
   ]
  },
  {
   "cell_type": "code",
   "execution_count": 12,
   "id": "512abf36-a40d-480f-9177-556a493a4cbc",
   "metadata": {
    "tags": []
   },
   "outputs": [],
   "source": [
    "try:\n",
    "    bs['fj_fs_inter'] = __interpolate_nan(np.array(bs.fj_fs_nan))\n",
    "    bs['fj_bs_inter'] = __interpolate_nan(np.array(bs.fj_bs_nan))\n",
    "\n",
    "    n_minutes = 30\n",
    "\n",
    "    bs['fj_fs_smooth'] = __smooth(bs.fj_fs_inter, n_minutes)\n",
    "    bs['fj_bs_smooth'] = __smooth(bs.fj_bs_inter, n_minutes)\n",
    "\n",
    "except:\n",
    "    pass"
   ]
  },
  {
   "cell_type": "markdown",
   "id": "2f3154b6-1c6a-436d-97bf-0e86d840b43d",
   "metadata": {},
   "source": [
    "### Load LXX maintenance"
   ]
  },
  {
   "cell_type": "code",
   "execution_count": 13,
   "id": "fcb83285-ae34-4335-be4e-977e1d22561a",
   "metadata": {
    "tags": []
   },
   "outputs": [],
   "source": [
    "try:\n",
    "    lxx =__load_lxx(config['tbeg'], config['tend'], archive_path)\n",
    "\n",
    "    lxx_t1, lxx_t2 = __get_lxx_intervals(lxx.datetime)\n",
    "except:\n",
    "    print(f\" -> Error: maintendance log\")\n",
    "    pass"
   ]
  },
  {
   "cell_type": "markdown",
   "id": "97787288-abff-4aa9-8601-0832ceaa11d8",
   "metadata": {},
   "source": [
    "### Checkup Plot"
   ]
  },
  {
   "cell_type": "code",
   "execution_count": 14,
   "id": "2ae877ec-3074-4929-a0f1-d866cb07ae39",
   "metadata": {
    "tags": []
   },
   "outputs": [],
   "source": [
    "def __makeplot():\n",
    "\n",
    "    Nrow, Ncol = 1, 1\n",
    "\n",
    "    font = 12\n",
    "\n",
    "    fig, ax = plt.subplots(Nrow, Ncol, figsize=(15, 5), sharex=True)\n",
    "\n",
    "    plt.subplots_adjust(hspace=0.1)\n",
    "\n",
    "    # time_scaling = 1/86400\n",
    "    time_scaling = 1\n",
    "    ref_date = str(bs.time1.iloc[0])[:10]\n",
    "\n",
    "    ax.plot(bs.time_sec*time_scaling, bs.fj_bs, color=\"tab:grey\", alpha=0.3, label=\"raw\")\n",
    "    ax.plot(bs.time_sec*time_scaling, bs.fj_bs_nan, color=\"tab:blue\", label=\"cleaned\")\n",
    "    ax.plot(bs.time_sec*time_scaling, bs.fj_bs_smooth, color=\"k\", label=f\"mov. avg. ({n_minutes} min)\")\n",
    "\n",
    "    ax.set_ylim(config['flim1'], config['flim2'])\n",
    "    ax.ticklabel_format(useOffset=False)\n",
    "    ax.set_ylabel(\"$\\delta f$ north ring (Hz)\", fontsize=font)\n",
    "\n",
    "    ax.grid(ls=\":\", zorder=0)\n",
    "    ax.legend(loc=1)\n",
    "    ax.set_xlim(left=0)\n",
    "\n",
    "    for lx1, lx2 in zip(lxx_t1, lxx_t2):\n",
    "        lx1_sec = lx1-UTCDateTime(ref_date)\n",
    "        lx2_sec = lx2-UTCDateTime(ref_date)\n",
    "        ax.fill_betweenx([config['flim1'], config['flim2']], lx1_sec, lx2_sec, color=\"yellow\", alpha=0.5)\n",
    "\n",
    "    ## add dates to x-axis\n",
    "    tcks = ax.get_xticks()\n",
    "    tcklbls = [f\"{UTCDateTime(UTCDateTime(ref_date)+t).date} \\n {UTCDateTime(UTCDateTime(ref_date)+t).time}\" for t in tcks]\n",
    "    ax.set_xticklabels(tcklbls)\n",
    "\n",
    "    gc.collect()\n",
    "\n",
    "    plt.show();\n",
    "    return fig\n",
    "\n",
    "# fig = __makeplot();"
   ]
  },
  {
   "cell_type": "markdown",
   "id": "f30a9a64-cae7-4114-9182-0b9e743eb9f0",
   "metadata": {},
   "source": [
    "### Load WROMY Data"
   ]
  },
  {
   "cell_type": "code",
   "execution_count": 15,
   "id": "7f61e961-435d-43e3-b122-a74b79e534a6",
   "metadata": {
    "tags": []
   },
   "outputs": [],
   "source": [
    "ws = Stream()\n",
    "\n",
    "try:\n",
    "    ws += __read_sds(archive_path+\"temp_archive/\", \"BW.WROMY.01.LKI\", config['tbeg'], config['tend'])\n",
    "    ws += __read_sds(archive_path+\"temp_archive/\", \"BW.WROMY.05.LKI\", config['tbeg'], config['tend'])\n",
    "    ws += __read_sds(archive_path+\"temp_archive/\", \"BW.WROMY.09.LKI\", config['tbeg'], config['tend'])\n",
    "\n",
    "    ws = ws.merge();\n",
    "\n",
    "except:\n",
    "    print(f\" -> Error: WROMY data\")\n",
    "    pass"
   ]
  },
  {
   "cell_type": "markdown",
   "id": "7668bfc3-a538-4b59-9830-6ec41872deb9",
   "metadata": {
    "tags": []
   },
   "source": [
    "### Load PROMY Data"
   ]
  },
  {
   "cell_type": "code",
   "execution_count": 16,
   "id": "e6ad98b2-edad-406e-b96e-487bf4d44749",
   "metadata": {
    "tags": []
   },
   "outputs": [],
   "source": [
    "ps = Stream()\n",
    "\n",
    "try:\n",
    "    ps += __read_sds(archive_path+\"temp_archive/\", \"BW.PROMY.01.LKI\", config['tbeg'], config['tend'])\n",
    "    ps += __read_sds(archive_path+\"temp_archive/\", \"BW.PROMY.03.LKI\", config['tbeg'], config['tend'])\n",
    "    ps += __read_sds(archive_path+\"temp_archive/\", \"BW.PROMY.05.LKI\", config['tbeg'], config['tend'])\n",
    "    ps += __read_sds(archive_path+\"temp_archive/\", \"BW.PROMY.07.LKI\", config['tbeg'], config['tend'])\n",
    "    ps += __read_sds(archive_path+\"temp_archive/\", \"BW.PROMY.09.LKI\", config['tbeg'], config['tend'])\n",
    "\n",
    "    ps3 = ps.merge();\n",
    "\n",
    "except:\n",
    "    print(f\" -> Error: PROMY data\")\n",
    "    pass"
   ]
  },
  {
   "cell_type": "markdown",
   "id": "4981daee-4891-4523-9f14-46ffae2a0f6b",
   "metadata": {},
   "source": [
    "### Load Rain Data"
   ]
  },
  {
   "cell_type": "code",
   "execution_count": 17,
   "id": "66bf4268-69e0-4d05-bc4e-74b042bb99e8",
   "metadata": {
    "tags": []
   },
   "outputs": [],
   "source": [
    "def __cumsum_rain(arr, n_samples):\n",
    "\n",
    "    from numpy import cumsum, zeros, nansum, nanmean\n",
    "\n",
    "    arr_out = zeros(len(arr))\n",
    "    for i, dat in enumerate(arr):\n",
    "        arr_out[i] = nansum(arr[i:i+n_samples])\n",
    "        # arr_out[i] = nanmean(arr[i:i+n_samples])\n",
    "\n",
    "    return arr_out"
   ]
  },
  {
   "cell_type": "code",
   "execution_count": 32,
   "id": "7ae12e7a-8e31-43e9-89d8-e3dec82c7946",
   "metadata": {
    "tags": []
   },
   "outputs": [
    {
     "name": "stdout",
     "output_type": "stream",
     "text": [
      "Specified end: 2024-09-16T13:30:45.392791Z \n",
      "Trace end:     2024-09-16T13:30:46.000000Z\n"
     ]
    }
   ],
   "source": [
    "try:\n",
    "    furt = __load_furt_stream(config['tbeg'], config['tend'], path_to_archive=bay_path+'gif_online/FURT/WETTER/')\n",
    "except:\n",
    "    print(f\" -> Error: FURT data\")\n",
    "    pass"
   ]
  },
  {
   "cell_type": "code",
   "execution_count": 33,
   "id": "0f575238-aca8-420c-8ea1-b706ed84f325",
   "metadata": {
    "tags": []
   },
   "outputs": [],
   "source": [
    "try:\n",
    "    rain = furt.select(channel=\"LAR\")\n",
    "\n",
    "    rain = rain.trim(config['tbeg'], config['tend'])\n",
    "\n",
    "    for tr in rain:\n",
    "        tr.data = np.nan_to_num(tr.data, 0)\n",
    "\n",
    "    # smoothed precipitation\n",
    "    rain_smooth = __smooth(__interpolate_nan(rain[0].data), 3600)\n",
    "\n",
    "    # cumulative rain\n",
    "    rain_cumsum = np.nancumsum(rain[0].data)\n",
    "except:\n",
    "    print(f\" -> Error: rain data processing\")\n",
    "    pass"
   ]
  },
  {
   "cell_type": "markdown",
   "id": "0244fec6-eacb-4505-9074-03904a20f3ee",
   "metadata": {
    "tags": []
   },
   "source": [
    "### Load Tilt Data"
   ]
  },
  {
   "cell_type": "code",
   "execution_count": 20,
   "id": "a13ea3fe-2766-4561-9d97-dd0856174f6e",
   "metadata": {
    "tags": []
   },
   "outputs": [],
   "source": [
    "# path_to_tilt = data_path+\"TiltmeterDataBackup/Tilt_downsampled/\"\n",
    "path_to_tilt = archive_path+\"romy_archive/\"\n",
    "\n",
    "tromy0 = obs.Stream()\n",
    "\n",
    "try:\n",
    "    tromy0 += __read_sds(path_to_tilt, \"BW.ROMYT..MAN\", config['tbeg']-600, config['tend']+600)\n",
    "    tromy0 += __read_sds(path_to_tilt, \"BW.ROMYT..MAE\", config['tbeg']-600, config['tend']+600)\n",
    "    tromy0 += __read_sds(path_to_tilt, \"BW.ROMYT..MAT\", config['tbeg']-600, config['tend']+600)\n",
    "except:\n",
    "    print(f\" -> Error: TROMY data\")\n",
    "    pass"
   ]
  },
  {
   "cell_type": "code",
   "execution_count": 21,
   "id": "686cd881-38a5-49e5-b77d-3f8591c13156",
   "metadata": {
    "tags": []
   },
   "outputs": [
    {
     "name": "stdout",
     "output_type": "stream",
     "text": [
      "  -> converted data of ROMYT\n"
     ]
    }
   ],
   "source": [
    "try:\n",
    "    # tiltmeter configurations\n",
    "    confTilt = __readYaml(root_path+\"Documents/ROMY/tiltmeter/\", \"tiltmeter.conf\")\n",
    "\n",
    "    tromy0 = __conversion_to_tilt(tromy0, confTilt['TROMY'])\n",
    "\n",
    "    tromy0 = tromy0.trim(config['tbeg'], config['tend']);\n",
    "\n",
    "    tromy = tromy0.copy();\n",
    "\n",
    "    tromy = tromy.merge(fill_value=\"interpolate\");\n",
    "\n",
    "    del tromy0\n",
    "\n",
    "    # create smoothed data\n",
    "    tromyN_smooth = __smooth(__reduce(tromy.select(channel=\"*N\")[0].data, 100), int(20*tromy.select(channel=\"*N\")[0].stats.sampling_rate))\n",
    "    tromyE_smooth = __smooth(__reduce(tromy.select(channel=\"*E\")[0].data, 100), int(20*tromy.select(channel=\"*E\")[0].stats.sampling_rate))\n",
    "\n",
    "except:\n",
    "    print(f\" -> Error: TROMY data processing\")\n",
    "    pass"
   ]
  },
  {
   "cell_type": "markdown",
   "id": "1da2a9b2-db4c-4d36-9850-13999ab2e860",
   "metadata": {},
   "source": [
    "### Load Water Level Data"
   ]
  },
  {
   "cell_type": "code",
   "execution_count": 22,
   "id": "d9fb8a2f-a2a9-4a9d-8186-929407edca3f",
   "metadata": {
    "tags": []
   },
   "outputs": [],
   "source": [
    "try:\n",
    "    pegel =  __load_water_level(config['tbeg'], config['tend'], path_to_data=lamont_path+\"Pegel/\")\n",
    "\n",
    "    ## remove error measurements with nan\n",
    "    pegel['pegel'] = np.where(pegel.pegel <= 0, np.nan, pegel.pegel)\n",
    "\n",
    "except:\n",
    "    print(f\" -> Error: Pegel data\")\n",
    "    pass"
   ]
  },
  {
   "cell_type": "markdown",
   "id": "e41008f2-9db5-45c0-a3b7-5134a043f486",
   "metadata": {},
   "source": [
    "### Load Beam Wander Data"
   ]
  },
  {
   "cell_type": "code",
   "execution_count": 52,
   "id": "9aaabefb-cbfd-4a14-a95b-1cfb8ad80a95",
   "metadata": {},
   "outputs": [
    {
     "name": "stdout",
     "output_type": "stream",
     "text": [
      "2024-09-02\n",
      "2024-09-03\n",
      "2024-09-04\n",
      "2024-09-05\n",
      "2024-09-06\n",
      "2024-09-07\n",
      "2024-09-08\n",
      "2024-09-09\n",
      "2024-09-10\n",
      "2024-09-11\n",
      "2024-09-12\n",
      "2024-09-13\n",
      "2024-09-14\n",
      "2024-09-15\n",
      "2024-09-16\n",
      "error for 20240916.pkl\n"
     ]
    }
   ],
   "source": [
    "try:\n",
    "    cam = \"01\"\n",
    "\n",
    "    bw1 = __load_beam_wander_data(config['tbeg'].date, config['tend'].date, data_path+f\"ids/data{cam}/\")\n",
    "\n",
    "except:\n",
    "    print(f\" -> Error: beam walk 03\")\n",
    "    pass"
   ]
  },
  {
   "cell_type": "code",
   "execution_count": 24,
   "id": "d53b6b10-fd93-4620-9ed6-9b45c1c5333f",
   "metadata": {
    "tags": []
   },
   "outputs": [
    {
     "name": "stdout",
     "output_type": "stream",
     "text": [
      "2024-09-02\n",
      "2024-09-03\n",
      "2024-09-04\n",
      "2024-09-05\n",
      "2024-09-06\n",
      "2024-09-07\n",
      "2024-09-08\n",
      "2024-09-09\n",
      "2024-09-10\n",
      "2024-09-11\n",
      "2024-09-12\n",
      "2024-09-13\n",
      "2024-09-14\n",
      "2024-09-15\n",
      "2024-09-16\n",
      "error for 20240916.pkl\n"
     ]
    }
   ],
   "source": [
    "try:\n",
    "    cam = \"03\"\n",
    "\n",
    "    bw3 = __load_beam_wander_data(config['tbeg'].date, config['tend'].date, data_path+f\"ids/data{cam}/\")\n",
    "\n",
    "except:\n",
    "    print(f\" -> Error: beam walk 03\")\n",
    "    pass"
   ]
  },
  {
   "cell_type": "code",
   "execution_count": 25,
   "id": "327a27b0-e22f-433f-af6f-99043ef5166a",
   "metadata": {},
   "outputs": [
    {
     "name": "stdout",
     "output_type": "stream",
     "text": [
      "2024-09-02\n",
      "2024-09-03\n",
      "2024-09-04\n",
      "2024-09-05\n",
      "2024-09-06\n",
      "2024-09-07\n",
      "2024-09-08\n",
      "2024-09-09\n",
      "2024-09-10\n",
      "2024-09-11\n",
      "2024-09-12\n",
      "2024-09-13\n",
      "2024-09-14\n",
      "2024-09-15\n",
      "2024-09-16\n",
      "error for 20240916.pkl\n"
     ]
    }
   ],
   "source": [
    "try:\n",
    "    cam = \"05\"\n",
    "\n",
    "    bw5 = __load_beam_wander_data(config['tbeg'].date, config['tend'].date, data_path+f\"ids/data{cam}/\")\n",
    "\n",
    "except:\n",
    "    print(f\" -> Error: beam walk 03\")\n",
    "    pass"
   ]
  },
  {
   "cell_type": "code",
   "execution_count": 47,
   "id": "08be612c-e6a8-4281-8c43-4c1e9de14c57",
   "metadata": {
    "tags": []
   },
   "outputs": [],
   "source": [
    "def processing(_bw):\n",
    "\n",
    "    _bw = _bw[(_bw.time > config['tbeg']) & (_bw.time < config['tend'])]\n",
    "\n",
    "    _bw['time_utc'] = np.array([UTCDateTime(_t) for _t in _bw.time])\n",
    "\n",
    "    # conversion from pixel to mm\n",
    "    config['conversion'] = {\"XX\":1.67e-3,\n",
    "                            \"01\":5.3e-3,\n",
    "                            \"03\":5.3e-3,\n",
    "                            \"05\":5.3e-3,\n",
    "                            \"07\":5.3e-3,\n",
    "                           }\n",
    "\n",
    "    _bw['x_mm'] = _bw.x*config['conversion'][cam]\n",
    "    _bw['y_mm'] = _bw.y*config['conversion'][cam]\n",
    "\n",
    "    _bw['x_mm'] = __reduce(_bw.x_mm, 100)\n",
    "    _bw['y_mm'] = __reduce(_bw.y_mm, 100)\n",
    "\n",
    "    _bw = _bw[_bw.amp > 20]\n",
    "    _bw = _bw[_bw.amp < 255]\n",
    "\n",
    "    return _bw"
   ]
  },
  {
   "cell_type": "code",
   "execution_count": 53,
   "id": "60f580c8-076a-4885-b571-4e1049381dcf",
   "metadata": {
    "tags": []
   },
   "outputs": [],
   "source": [
    "try:\n",
    "    bw1 = processing(bw1)\n",
    "except:\n",
    "    print(f\" -> Error: beam wander data processing\")\n",
    "    pass"
   ]
  },
  {
   "cell_type": "code",
   "execution_count": 50,
   "id": "9c838a6f-6aee-4d88-b992-3f61cd0a05ac",
   "metadata": {
    "tags": []
   },
   "outputs": [],
   "source": [
    "try:\n",
    "    bw3 = processing(bw3)\n",
    "except:\n",
    "    print(f\" -> Error: beam wander data processing\")\n",
    "    pass"
   ]
  },
  {
   "cell_type": "code",
   "execution_count": 51,
   "id": "5c16b6f4-de81-46d1-aacb-d997b9dbd2c7",
   "metadata": {
    "tags": []
   },
   "outputs": [],
   "source": [
    "try:\n",
    "    bw5 = processing(bw5)\n",
    "except:\n",
    "    print(f\" -> Error: beam wander data processing\")\n",
    "    pass"
   ]
  },
  {
   "cell_type": "code",
   "execution_count": 54,
   "id": "fc4bc233-37f2-4789-b28f-1a0d0dcb20b5",
   "metadata": {
    "tags": []
   },
   "outputs": [],
   "source": [
    "bws = [bw1, bw3, bw5]"
   ]
  },
  {
   "cell_type": "code",
   "execution_count": 27,
   "id": "9bd769d5-38e0-4c84-92ac-4fa831334653",
   "metadata": {
    "tags": []
   },
   "outputs": [
    {
     "data": {
      "text/plain": [
       "0"
      ]
     },
     "execution_count": 27,
     "metadata": {},
     "output_type": "execute_result"
    }
   ],
   "source": [
    "gc.collect()"
   ]
  },
  {
   "cell_type": "markdown",
   "id": "09161acb-7975-4362-a28b-8ea4704d7cf1",
   "metadata": {},
   "source": [
    "### Load Infrasound FFBI"
   ]
  },
  {
   "cell_type": "code",
   "execution_count": 28,
   "id": "ca1239a3-a4c9-42e8-8532-e6726464b7bb",
   "metadata": {
    "tags": []
   },
   "outputs": [],
   "source": [
    "ffbi = obs.Stream()\n",
    "\n",
    "try:\n",
    "    ffbi += __read_sds(archive_path+\"temp_archive/\", \"BW.FFBI.30.LDF\", config['tbeg'], config['tend'])\n",
    "    ffbi += __read_sds(archive_path+\"temp_archive/\", \"BW.FFBI.30.LDO\", config['tbeg'], config['tend'])\n",
    "\n",
    "    # create smoothed data\n",
    "    ffbi_bdf_smooth1 = __smooth(ffbi.select(channel=\"*F\")[0].data, int(60*ffbi.select(channel=\"*F\")[0].stats.sampling_rate))\n",
    "    ffbi_bdf_smooth2 = __smooth(ffbi.select(channel=\"*F\")[0].data, int(3600*ffbi.select(channel=\"*F\")[0].stats.sampling_rate))\n",
    "\n",
    "except:\n",
    "    print(f\" -> Error: FFBI data\")\n",
    "    pass"
   ]
  },
  {
   "cell_type": "markdown",
   "id": "2a7ceb9c-a4cd-4872-afed-9623a8e0a5f4",
   "metadata": {},
   "source": [
    "## Plotting"
   ]
  },
  {
   "cell_type": "code",
   "execution_count": 75,
   "id": "e99432a7-8027-4b32-b9fd-59f99e95b36b",
   "metadata": {
    "tags": []
   },
   "outputs": [],
   "source": [
    "def __makeplot():\n",
    "\n",
    "    Nrow, Ncol = 6, 1\n",
    "\n",
    "    font = 10\n",
    "\n",
    "    ref_date = str(bs.time1.iloc[0])[:10]\n",
    "\n",
    "    fig, ax = plt.subplots(Nrow, Ncol, figsize=(9, 11), sharex=True)\n",
    "\n",
    "    plt.subplots_adjust(hspace=0.1)\n",
    "\n",
    "    time_scaling = 1\n",
    "\n",
    "    # ref_date = UTCDateTime(bs.time1.iloc[0])\n",
    "    ref_date = UTCDateTime(config['tbeg'])\n",
    "\n",
    "    bs_time_sec = [_t - config['tbeg'] for _t in bs.time1]\n",
    "\n",
    "    # _____________________________________________________________________________________\n",
    "\n",
    "    try:\n",
    "        ax[0].plot(bs_time_sec*time_scaling, bs.fj_fs, color=\"tab:grey\", alpha=0.3, label=\"raw\")\n",
    "        ax[0].plot(bs_time_sec*time_scaling, bs.fj_fs_nan, color=\"black\", label=\"cleaned\")\n",
    "        ax[0].plot(bs_time_sec*time_scaling, bs.fj_bs_nan, color=\"red\", label=f\"BS corrected\")\n",
    "        ax[0].plot(bs_time_sec*time_scaling, bs.fj_bs_smooth, color=\"white\", lw=1)\n",
    "        # ax[0].plot(bs_time_sec*time_scaling, bs.fj_bs_dejump, color=\"gold\", lw=1, label=f\"BS dejump\")\n",
    "\n",
    "        f_min, f_max = __find_max_min([bs.fj_fs_nan], 99)\n",
    "        if f_min < 553.56:\n",
    "            f_min = 553.56\n",
    "        if f_max > 553.59:\n",
    "            f_max = 553.59\n",
    "        ax[0].set_ylim(f_min-0.001, f_max+0.001)\n",
    "\n",
    "        ax[0].ticklabel_format(useOffset=False)\n",
    "        ax[0].set_ylabel(f\"R{config['ring']} $\\delta f$ (Hz)\", fontsize=font)\n",
    "    except:\n",
    "        pass\n",
    "\n",
    "    # _____________________________________________________________________________________\n",
    "\n",
    "    try:\n",
    "\n",
    "        for tr in ws.select(channel=\"*T\"):\n",
    "            num = int(tr.stats.location[-1])\n",
    "            if num != 1:\n",
    "                ax[1].plot(tr.times(reftime=ref_date),\n",
    "                           __smooth(tr.data, 600), color=config['colors'][num], label=f\"WS{num}\", alpha=0.7)\n",
    "\n",
    "        for tr in ps.select(channel=\"*KI\"):\n",
    "            num = int(tr.stats.location[-1])\n",
    "            if num != 1:\n",
    "                ax[1].plot(tr.times(reftime=ref_date),\n",
    "                           __smooth(tr.data, 600), color=config['colors'][num], label=f\"PS{num}\", alpha=0.7)\n",
    "\n",
    "        T_min, T_max = __find_max_min([_ps.data for _ps in ps.select(channel=\"*KI\") if \"1\" not in _ps.stats.location], 98)\n",
    "        ax[1].set_ylim(T_min, T_max)\n",
    "\n",
    "        ax[1].set_ylabel(\"Temp. (°C)\", fontsize=font)\n",
    "\n",
    "        ax11 = ax[1].twinx()\n",
    "        ax11.plot(ps.select(location=\"01\", channel=\"*KI\")[0].times(reftime=UTCDateTime(ref_date)),\n",
    "                  __smooth(ps.select(location=\"01\", channel=\"*KI\")[0].data, 600), color=config['colors'][1], label=\"PS1\")\n",
    "\n",
    "        ax11.set_ylabel(\"Temp. (°C)\", fontsize=font, color=config['colors'][1])\n",
    "        [t.set_color(config['colors'][1]) for t in ax11.yaxis.get_ticklabels()]\n",
    "        ax[1].set_yticks(np.linspace(ax[1].get_yticks()[0], ax[1].get_yticks()[-1], len(ax[1].get_yticks())))\n",
    "        ax11.set_yticks(np.linspace(ax11.get_yticks()[0], ax11.get_yticks()[-1], len(ax[1].get_yticks())))\n",
    "    except:\n",
    "        pass\n",
    "\n",
    "    # _____________________________________________________________________________________\n",
    "\n",
    "    try:\n",
    "        ax[2].plot(pegel.times_utc - ref_date, pegel.pegel, color=\"purple\", alpha=0.9, zorder=3)\n",
    "    except:\n",
    "        pass\n",
    "    ax[2].set_ylabel(f\"Water Level (m)\", fontsize=font, color=\"purple\")\n",
    "    # ax[2].set_zorder(3)\n",
    "    [t.set_color(\"purple\") for t in ax[2].yaxis.get_ticklabels()]\n",
    "\n",
    "    ax22 = ax[2].twinx()\n",
    "    ax22.fill_between(rain[0].times(reftime=ref_date),\n",
    "                      __interpolate_nan(rain[0].data), color=\"tab:blue\", alpha=0.6, label=f\"rain\", zorder=0)\n",
    "\n",
    "    ax22.set_ylim(bottom=0)\n",
    "    ax22.set_ylabel(f\"Rain (mm)\", fontsize=font, color=\"tab:blue\")\n",
    "    [t.set_color('tab:blue') for t in ax22.yaxis.get_ticklabels()]\n",
    "\n",
    "    ax[2].set_yticks(np.linspace(ax[2].get_yticks()[0], ax[2].get_yticks()[-1], len(ax[2].get_yticks())))\n",
    "    ax22.set_yticks(np.linspace(ax22.get_yticks()[0], ax22.get_yticks()[-1], len(ax[2].get_yticks())))\n",
    "    # ax22.set_zorder(2)\n",
    "\n",
    "    ax24 = ax[2].twinx()\n",
    "    ax24.plot(rain[0].times(reftime=ref_date), rain_cumsum/max(rain_cumsum)*100, alpha=0.9, zorder=1, ls=\"--\", color=\"darkblue\")\n",
    "\n",
    "    # ax24.axis('off')\n",
    "    # ax24.set_zorder(1)\n",
    "    ax24.spines.right.set_position((\"axes\", 1.1))\n",
    "    ax24.set_ylabel(f\"Cum. Rain (%)\", fontsize=font, color=\"darkblue\")\n",
    "    [t.set_color('darkblue') for t in ax24.yaxis.get_ticklabels()]\n",
    "\n",
    "    # _____________________________________________________________________________________\n",
    "\n",
    "    try:\n",
    "        ax[3].plot(tromy.select(channel=\"*N\")[0].times(reftime=ref_date)[:-20],\n",
    "                   tromyN_smooth[:-20]*1e6,\n",
    "                   label=f\"T{tromy[0].stats.station} N-S (20 sec. avg.)\", color=\"tab:orange\")\n",
    "        ax[3].plot(tromy.select(channel=\"*E\")[0].times(reftime=ref_date)[:-20],\n",
    "                   tromyE_smooth[:-20]*1e6,\n",
    "                   label=f\"T{tromy[0].stats.station} E-W (20 sec. avg.)\", color=\"tab:brown\")\n",
    "\n",
    "        # ax[3].plot(bromy.select(channel=\"*N\")[0].times(reftime=UTCDateTime(ref_date))[:-20],\n",
    "        #            bromyN_smooth[:-20]*1e6,\n",
    "        #            label=f\"T{bromy[0].stats.station} N-S (20 sec. avg.)\", color=\"tab:red\")\n",
    "        # ax[3].plot(bromy.select(channel=\"*E\")[0].times(reftime=UTCDateTime(ref_date))[:-20],\n",
    "        #            bromyE_smooth[:-20]*1e6,\n",
    "        #            label=f\"T{bromy[0].stats.station} E-W (20 sec. avg.)\", color=\"tab:blue\")\n",
    "\n",
    "        ax[3].set_ylabel(\"Tilt ($\\mu$rad)\", fontsize=font)\n",
    "\n",
    "        y_max = max(np.nanpercentile(tromyN_smooth, 99)*1e6, np.nanpercentile(tromyE_smooth, 99)*1e6)\n",
    "        y_min = min(np.nanpercentile(tromyN_smooth, 1)*1e6, np.nanpercentile(tromyE_smooth, 1)*1e6)\n",
    "        ax[3].set_ylim(y_min*1.2, y_max*1.2)\n",
    "    except:\n",
    "        pass\n",
    "\n",
    "\n",
    "    # _____________________________________________________________________________________\n",
    "\n",
    "    try:\n",
    "        ax[4].plot(ffbi.select(channel=\"*F\")[0].times(reftime=ref_date),\n",
    "                   ffbi_bdf_smooth1,\n",
    "                   label=f\"{ffbi.select(channel='*F')[0].stats.station}.{ffbi.select(channel='*F')[0].stats.channel} (1 min. avg.)\",\n",
    "                   color=\"tab:red\"\n",
    "                  )\n",
    "        ax[4].plot(ffbi.select(channel=\"*F\")[0].times(reftime=ref_date),\n",
    "                   ffbi_bdf_smooth2,\n",
    "                   color=\"white\", ls=\"-\", lw=1,\n",
    "                  )\n",
    "\n",
    "        ax[4].set_ylabel(\"Differential \\n Pressure (Pa)\", fontsize=font)\n",
    "\n",
    "        ax41 = ax[4].twinx()\n",
    "        ax41.plot(ffbi.select(channel=\"*O\")[0].times(reftime=ref_date),\n",
    "                  ffbi.select(channel=\"*O\")[0].data,\n",
    "                  color=\"darkred\"\n",
    "                  )\n",
    "        ax41.set_ylabel(\"Pressure (hPa)\", fontsize=font, color=\"darkred\")\n",
    "        [t.set_color('darkred') for t in ax41.yaxis.get_ticklabels()]\n",
    "\n",
    "        # ------------------------------------------------\n",
    "        # add wind direction\n",
    "        # ax42 = ax[4].twinx()\n",
    "        # ax42.scatter(furt.select(channel=\"*D\")[0].times(reftime=config['tbeg']),\n",
    "        #              __smooth(furt.select(channel=\"*D\")[0].data, 3600), color=\"peru\", s=0.5, alpha=0.5,\n",
    "        #             )\n",
    "        # ax42.spines.right.set_position((\"axes\", 1.1))\n",
    "        # ax42.set_ylabel(\"Wind Direction (°)\", fontsize=font, color=\"peru\")\n",
    "        # [t.set_color('peru') for t in ax42.yaxis.get_ticklabels()]\n",
    "        # ax42.set_ylim(0, 360)\n",
    "        # ax42.set_zorder(1)\n",
    "    except:\n",
    "        pass\n",
    "\n",
    "    # _____________________________________________________________________________________\n",
    "\n",
    "    try:\n",
    "        try:\n",
    "            ax[5].scatter(bw1.time_utc - ref_date,\n",
    "                          bw1.x_mm*1e3,\n",
    "                          label=f\"IDS01-X\",\n",
    "                          color=config['colors'][1],\n",
    "                          zorder=2,\n",
    "                          s=1,\n",
    "                      )\n",
    "\n",
    "            ax[5].scatter(bw1.time_utc - ref_date,\n",
    "                          bw1.y_mm*1e3,\n",
    "                          label=f\"IDS01-Y\",\n",
    "                          color=config['colors'][1],\n",
    "                          zorder=2,\n",
    "                          s=1,\n",
    "                      )\n",
    "        except:\n",
    "            pass\n",
    "\n",
    "        try:\n",
    "            ax[5].scatter(bw3.time_utc - ref_date,\n",
    "                          bw3.x_mm*1e3,\n",
    "                          label=f\"IDS03-X\",\n",
    "                          color=config['colors'][3],\n",
    "                          zorder=2,\n",
    "                          s=1,\n",
    "                      )\n",
    "\n",
    "            ax[5].scatter(bw3.time_utc - ref_date,\n",
    "                          bw3.y_mm*1e3,\n",
    "                          label=f\"IDS03-Y\",\n",
    "                          color=config['colors'][3],\n",
    "                          zorder=2,\n",
    "                          s=1,\n",
    "                      )\n",
    "        except:\n",
    "            pass\n",
    "\n",
    "        try:\n",
    "            ax[5].scatter(bw5.time_utc - ref_date,\n",
    "                          bw5.x_mm*1e3,\n",
    "                          label=f\"IDS05-X\",\n",
    "                          color=config['colors'][5],\n",
    "                          zorder=2,\n",
    "                          s=1,\n",
    "                      )\n",
    "\n",
    "            ax[5].scatter(bw5.time_utc - ref_date,\n",
    "                          bw5.y_mm*1e3,\n",
    "                          label=f\"IDS05-Y\",\n",
    "                          color=config['colors'][5],\n",
    "                          zorder=2,\n",
    "                          s=1,\n",
    "                      )\n",
    "        except:\n",
    "            pass\n",
    "\n",
    "        ax[5].set_ylabel(\"rel. Beam \\n Position ($\\mu$m)\", fontsize=font)\n",
    "\n",
    "        bws = [bw1.x_mm*1e3, bw1.y_mm*1e3, bw3.x_mm*1e3, bw3.y_mm*1e3, bw5.x_mm*1e3, bw5.y_mm*1e3]\n",
    "        bw_min, bw_max = __find_max_min(bws, 99)\n",
    "        ax[5].set_ylim(bw_min, bw_max)\n",
    "    except:\n",
    "        pass\n",
    "\n",
    "    # _____________________________________________________________________________________\n",
    "\n",
    "\n",
    "    for _n in range(Nrow):\n",
    "        ax[_n].grid(ls=\":\", zorder=0, alpha=0.5)\n",
    "        # ax[_n].set_xlim(left=0, right=np.array(bs.time_sec)[-1]*time_scaling)\n",
    "        ax[_n].set_xlim(0, (config['tend'] - config['tbeg'])*time_scaling)\n",
    "        _, _ , _ymin, _ymax = ax[_n].axis()\n",
    "\n",
    "        # add maintenance\n",
    "        for lx1, lx2 in zip(lxx_t1, lxx_t2):\n",
    "            lx1_sec = lx1-UTCDateTime(ref_date)\n",
    "            lx2_sec = lx2-UTCDateTime(ref_date)\n",
    "            ax[_n].fill_betweenx([_ymin, _ymax], lx1_sec, lx2_sec, color=\"yellow\", alpha=0.5)\n",
    "\n",
    "    ax[0].legend(loc=4, ncol=4, fontsize=font-1)\n",
    "    ax[1].legend(loc=9, ncol=4, fontsize=font-1)\n",
    "    ax11.legend(loc=4, ncol=1, fontsize=font-1)\n",
    "    ax[3].legend(loc=4, ncol=2, fontsize=font-1)\n",
    "    ax[4].legend(loc=1, ncol=1, fontsize=font-1)\n",
    "    ax[5].legend(loc=4, ncol=3, fontsize=font-1)\n",
    "\n",
    "    # add dates to x-axis\n",
    "    tcks = ax[Nrow-1].get_xticks()\n",
    "    tcklbls = [f\"{UTCDateTime(UTCDateTime(ref_date)+t).date} \\n {str(UTCDateTime(UTCDateTime(ref_date)+t).time).split('.')[0]}\" for t in tcks]\n",
    "    ax[Nrow-1].set_xticklabels(tcklbls)\n",
    "\n",
    "    gc.collect()\n",
    "\n",
    "    return fig"
   ]
  },
  {
   "cell_type": "code",
   "execution_count": null,
   "id": "ceb92d45-1c20-4775-b33f-9c89fc65658a",
   "metadata": {
    "tags": []
   },
   "outputs": [],
   "source": [
    "fig = __makeplot();\n",
    "\n",
    "fig.savefig(config['path_to_figs']+f\"html_environmentals.png\", format=\"png\", dpi=150, bbox_inches='tight')\n",
    "\n",
    "del fig"
   ]
  },
  {
   "cell_type": "code",
   "execution_count": null,
   "id": "d84231b7-a551-4d8c-973c-d42039c28599",
   "metadata": {},
   "outputs": [],
   "source": []
  }
 ],
 "metadata": {
  "kernelspec": {
   "display_name": "Python 3 (ipykernel)",
   "language": "python",
   "name": "python3"
  },
  "language_info": {
   "codemirror_mode": {
    "name": "ipython",
    "version": 3
   },
   "file_extension": ".py",
   "mimetype": "text/x-python",
   "name": "python",
   "nbconvert_exporter": "python",
   "pygments_lexer": "ipython3",
   "version": "3.10.12"
  },
  "latex_envs": {
   "LaTeX_envs_menu_present": true,
   "autoclose": false,
   "autocomplete": true,
   "bibliofile": "biblio.bib",
   "cite_by": "apalike",
   "current_citInitial": 1,
   "eqLabelWithNumbers": true,
   "eqNumInitial": 1,
   "hotkeys": {
    "equation": "Ctrl-E",
    "itemize": "Ctrl-I"
   },
   "labels_anchors": false,
   "latex_user_defs": false,
   "report_style_numbering": false,
   "user_envs_cfg": false
  },
  "toc": {
   "base_numbering": 1,
   "nav_menu": {},
   "number_sections": true,
   "sideBar": true,
   "skip_h1_title": false,
   "title_cell": "Table of Contents",
   "title_sidebar": "Contents",
   "toc_cell": false,
   "toc_position": {},
   "toc_section_display": true,
   "toc_window_display": false
  },
  "varInspector": {
   "cols": {
    "lenName": 16,
    "lenType": 16,
    "lenVar": 40
   },
   "kernels_config": {
    "python": {
     "delete_cmd_postfix": "",
     "delete_cmd_prefix": "del ",
     "library": "var_list.py",
     "varRefreshCmd": "print(var_dic_list())"
    },
    "r": {
     "delete_cmd_postfix": ") ",
     "delete_cmd_prefix": "rm(",
     "library": "var_list.r",
     "varRefreshCmd": "cat(var_dic_list()) "
    }
   },
   "types_to_exclude": [
    "module",
    "function",
    "builtin_function_or_method",
    "instance",
    "_Feature"
   ],
   "window_display": false
  }
 },
 "nbformat": 4,
 "nbformat_minor": 5
}
