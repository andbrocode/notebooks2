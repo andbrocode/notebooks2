{
 "cells": [
  {
   "cell_type": "code",
   "execution_count": 1,
   "id": "0e3aa63a",
   "metadata": {
    "ExecuteTime": {
     "end_time": "2022-09-27T04:45:30.669237Z",
     "start_time": "2022-09-27T04:45:28.714788Z"
    }
   },
   "outputs": [
    {
     "ename": "ModuleNotFoundError",
     "evalue": "No module named 'streamz'",
     "output_type": "error",
     "traceback": [
      "\u001b[0;31m---------------------------------------------------------------------------\u001b[0m",
      "\u001b[0;31mModuleNotFoundError\u001b[0m                       Traceback (most recent call last)",
      "\u001b[0;32m<ipython-input-1-291af8cb31a6>\u001b[0m in \u001b[0;36m<module>\u001b[0;34m\u001b[0m\n\u001b[1;32m      8\u001b[0m \u001b[0;31m# from andbro__get_stream import __getStream\u001b[0m\u001b[0;34m\u001b[0m\u001b[0;34m\u001b[0m\u001b[0;34m\u001b[0m\u001b[0m\n\u001b[1;32m      9\u001b[0m \u001b[0;34m\u001b[0m\u001b[0m\n\u001b[0;32m---> 10\u001b[0;31m \u001b[0;32mfrom\u001b[0m \u001b[0mstreamz\u001b[0m\u001b[0;34m.\u001b[0m\u001b[0mdataframe\u001b[0m \u001b[0;32mimport\u001b[0m \u001b[0mPeriodicDataFrame\u001b[0m\u001b[0;34m\u001b[0m\u001b[0;34m\u001b[0m\u001b[0m\n\u001b[0m",
      "\u001b[0;31mModuleNotFoundError\u001b[0m: No module named 'streamz'"
     ]
    }
   ],
   "source": [
    "import obspy as obs\n",
    "import numpy as np\n",
    "import matplotlib.pyplot as plt\n",
    "import pandas as pd\n",
    "\n",
    "# from andbro__querrySeismoData import __querrySeismoData\n",
    "# from andbro__get_timeaxis import __get_timeaxis\n",
    "# from andbro__get_stream import __getStream\n",
    "\n",
    "from streamz.dataframe import PeriodicDataFrame"
   ]
  },
  {
   "cell_type": "code",
   "execution_count": 2,
   "id": "4813091b",
   "metadata": {
    "ExecuteTime": {
     "end_time": "2022-09-27T04:45:30.701223Z",
     "start_time": "2022-09-27T04:45:30.697987Z"
    }
   },
   "outputs": [],
   "source": [
    "# import panel as pn\n",
    "# import altair as alt\n",
    "# from altair import datum\n",
    "# import pandas as pd\n",
    "# from vega_datasets import data\n",
    "# import datetime as dt"
   ]
  },
  {
   "cell_type": "code",
   "execution_count": 4,
   "id": "56b0ca83",
   "metadata": {
    "ExecuteTime": {
     "end_time": "2022-09-27T04:45:42.835421Z",
     "start_time": "2022-09-27T04:45:42.821677Z"
    }
   },
   "outputs": [
    {
     "ename": "ModuleNotFoundError",
     "evalue": "No module named 'panel'",
     "output_type": "error",
     "traceback": [
      "\u001b[0;31m---------------------------------------------------------------------------\u001b[0m",
      "\u001b[0;31mModuleNotFoundError\u001b[0m                       Traceback (most recent call last)",
      "\u001b[0;32m<ipython-input-4-4e8e54c46709>\u001b[0m in \u001b[0;36m<module>\u001b[0;34m\u001b[0m\n\u001b[1;32m      1\u001b[0m \u001b[0;32mimport\u001b[0m \u001b[0mnumpy\u001b[0m \u001b[0;32mas\u001b[0m \u001b[0mnp\u001b[0m\u001b[0;34m\u001b[0m\u001b[0;34m\u001b[0m\u001b[0m\n\u001b[0;32m----> 2\u001b[0;31m \u001b[0;32mimport\u001b[0m \u001b[0mpanel\u001b[0m \u001b[0;32mas\u001b[0m \u001b[0mpn\u001b[0m\u001b[0;34m\u001b[0m\u001b[0;34m\u001b[0m\u001b[0m\n\u001b[0m\u001b[1;32m      3\u001b[0m \u001b[0;34m\u001b[0m\u001b[0m\n\u001b[1;32m      4\u001b[0m \u001b[0;32mfrom\u001b[0m \u001b[0mbokeh\u001b[0m\u001b[0;34m.\u001b[0m\u001b[0mplotting\u001b[0m \u001b[0;32mimport\u001b[0m \u001b[0mfigure\u001b[0m\u001b[0;34m\u001b[0m\u001b[0;34m\u001b[0m\u001b[0m\n\u001b[1;32m      5\u001b[0m \u001b[0;32mfrom\u001b[0m \u001b[0mbokeh\u001b[0m\u001b[0;34m.\u001b[0m\u001b[0mmodels\u001b[0m \u001b[0;32mimport\u001b[0m \u001b[0mColumnDataSource\u001b[0m\u001b[0;34m\u001b[0m\u001b[0;34m\u001b[0m\u001b[0m\n",
      "\u001b[0;31mModuleNotFoundError\u001b[0m: No module named 'panel'"
     ]
    }
   ],
   "source": [
    "import numpy as np\n",
    "import panel as pn\n",
    "\n",
    "from bokeh.plotting import figure\n",
    "from bokeh.models import ColumnDataSource\n",
    "from bokeh.layouts import column, row\n",
    "\n",
    "pn.extension()"
   ]
  },
  {
   "cell_type": "code",
   "execution_count": 5,
   "id": "1ce0f4d7",
   "metadata": {
    "ExecuteTime": {
     "end_time": "2022-09-27T04:45:49.258576Z",
     "start_time": "2022-09-27T04:45:49.250351Z"
    }
   },
   "outputs": [],
   "source": [
    "config = {}\n",
    "\n",
    "## set path for figures\n",
    "config['outpath_figs'] = \"/home/brotzer/Desktop/tmp/\"\n",
    "\n",
    "# config['tbeg'] = obs.UTCDateTime(\"2022-05-04 09:48\")\n",
    "# config['tend'] = obs.UTCDateTime(\"2022-05-04 09:51\")\n",
    "\n",
    "config['real_time_delay']  = 60 ## minutes\n",
    "config['period_to_show'] = 5 ## minutes\n",
    "\n",
    "now = obs.UTCDateTime.now()\n",
    "config['tbeg'] = now - config['real_time_delay']*60 - config['period_to_show']*60\n",
    "config['tend'] = now - config['real_time_delay']*60 \n",
    "\n",
    "config['update_interval'] = 3 ## seconds\n",
    "\n",
    "## set stations\n",
    "config['seeds'] = [\"BW.RLAS..BJZ\", \"BW.ROMY.10.BJZ\", \"BW.ROMY.10.BJZ\"]\n",
    "\n",
    "config['repository'] = \"george\""
   ]
  },
  {
   "cell_type": "code",
   "execution_count": 6,
   "id": "808ac2b8",
   "metadata": {
    "ExecuteTime": {
     "end_time": "2022-09-27T04:45:49.872522Z",
     "start_time": "2022-09-27T04:45:49.861724Z"
    },
    "code_folding": [
     0
    ]
   },
   "outputs": [],
   "source": [
    "def __getStream(config, restitute=True):\n",
    "    \"\"\"\n",
    "    \n",
    "    CONFIG:     config['seeds'] list of seed names\n",
    "                config['tbeg'] startime as UTCDateTime\n",
    "                config['tend'] endtime as UTCDateTime\n",
    "                config['repository'] data repository to call [e.g. george, archive, jane,online]\n",
    "\n",
    "\n",
    "    st = __getStream(config, restitute=True)\n",
    "\n",
    "    \"\"\"\n",
    "\n",
    "    from andbro__querrySeismoData import __querrySeismoData\n",
    "    from andbro__empty_trace import __empty_trace\n",
    "    from obspy import Stream\n",
    "    from numpy import nan\n",
    "    \n",
    "    st = Stream()\n",
    "\n",
    "\n",
    "    for seed in config['seeds']:\n",
    "        \n",
    "        net, sta, loc, cha = seed.split(\".\")\n",
    "        \n",
    "#         print(f\"loading {seed}...\")\n",
    "        \n",
    "        try:\n",
    "            st0, inv0 = __querrySeismoData(  \n",
    "                                            seed_id=seed,\n",
    "                                            starttime=config.get(\"tbeg\")-.5,\n",
    "                                            endtime=config.get(\"tend\")+.5,\n",
    "                                            repository=config.get(\"repository\"),\n",
    "                                            path=None,\n",
    "                                            restitute=False,\n",
    "                                            detail=None,\n",
    "                                            fill_value=nan,\n",
    "                                            )\n",
    "            if restitute:\n",
    "                if cha[-2] == \"J\":\n",
    "#                     print(\" -> removing sensitivity...\")\n",
    "                    st0.remove_sensitivity(inv0)\n",
    "                elif cha[-2] == \"H\":\n",
    "#                     print(\" -> removing response...\")\n",
    "                    st0.remove_response(inventory=inv0, output=\"VEL\", zero_mean=True)\n",
    "\n",
    "            if len(st0) == 1:\n",
    "                st += st0\n",
    "            elif len(st0) > 1:\n",
    "#                 print(\" -> merging stream...\")\n",
    "                st += st0.merge()\n",
    "\n",
    "        except:\n",
    "            print(f\" -> failed to load {seed}!\")\n",
    "            print(f\" -> substituted {seed} with NaN values! \")\n",
    "            st_empty = Stream()\n",
    "            st_empty.append(__empty_trace(config, seed))\n",
    "            st += st_empty\n",
    "    \n",
    "#     print(\"\\ncompleted loading\")\n",
    "\n",
    "#     print(\" -> trimming stream...\")\n",
    "    st.trim(config['tbeg'], config['tend'])\n",
    "          \n",
    " #     print(\" -> demean stream...\")   \n",
    "    st.detrend('demean')\n",
    "    return st"
   ]
  },
  {
   "cell_type": "code",
   "execution_count": 7,
   "id": "2d1e0d91",
   "metadata": {
    "ExecuteTime": {
     "end_time": "2022-09-27T04:45:50.305607Z",
     "start_time": "2022-09-27T04:45:50.299790Z"
    },
    "code_folding": [
     0
    ]
   },
   "outputs": [],
   "source": [
    "def __update_data(config):\n",
    "    \n",
    "    config['tbeg'] = config['tbeg'] + config['update_interval']\n",
    "    config['tend'] = config['tend'] + config['update_interval']\n",
    "    \n",
    "    st = __getStream(config)\n",
    "    \n",
    "    df = pd.DataFrame()\n",
    "    \n",
    "    df['timeline'] = st[0].times()\n",
    "#     df['timeline'] = pd.to_datetime(st[0].times((\"utcdatetime\")).astype(str), \n",
    "#                                     utc=True, \n",
    "#                                     format='%Y-%m-%dT%H:%M:%S',\n",
    "#                                     origin=\"unix\")\n",
    "    \n",
    "    try:\n",
    "        for seed in config['seeds']:\n",
    "            df[seed] = st.select(id=seed)[0].data\n",
    "    except:\n",
    "        print(\"failure\")\n",
    "\n",
    "    return df"
   ]
  },
  {
   "cell_type": "code",
   "execution_count": 9,
   "id": "3bbc1512",
   "metadata": {
    "ExecuteTime": {
     "end_time": "2022-09-27T04:46:20.201760Z",
     "start_time": "2022-09-27T04:46:20.175861Z"
    }
   },
   "outputs": [
    {
     "name": "stdout",
     "output_type": "stream",
     "text": [
      " -> failed to load BW.RLAS..BJZ!\n",
      " -> substituted BW.RLAS..BJZ with NaN values! \n",
      " -> failed to load BW.ROMY.10.BJZ!\n",
      " -> substituted BW.ROMY.10.BJZ with NaN values! \n",
      " -> failed to load BW.ROMY.10.BJZ!\n",
      " -> substituted BW.ROMY.10.BJZ with NaN values! \n"
     ]
    },
    {
     "ename": "NameError",
     "evalue": "name 'figure' is not defined",
     "output_type": "error",
     "traceback": [
      "\u001b[0;31m---------------------------------------------------------------------------\u001b[0m",
      "\u001b[0;31mNameError\u001b[0m                                 Traceback (most recent call last)",
      "\u001b[0;32m<ipython-input-9-dc37a39b69d3>\u001b[0m in \u001b[0;36m<module>\u001b[0;34m\u001b[0m\n\u001b[1;32m      6\u001b[0m \u001b[0;31m# net, sta, loc, cha = config['seeds'][0].split('.')\u001b[0m\u001b[0;34m\u001b[0m\u001b[0;34m\u001b[0m\u001b[0;34m\u001b[0m\u001b[0m\n\u001b[1;32m      7\u001b[0m \u001b[0;34m\u001b[0m\u001b[0m\n\u001b[0;32m----> 8\u001b[0;31m \u001b[0mpanel_1\u001b[0m \u001b[0;34m=\u001b[0m \u001b[0mfigure\u001b[0m\u001b[0;34m(\u001b[0m\u001b[0mwidth\u001b[0m\u001b[0;34m=\u001b[0m\u001b[0;36m800\u001b[0m\u001b[0;34m,\u001b[0m \u001b[0mheight\u001b[0m\u001b[0;34m=\u001b[0m\u001b[0;36m200\u001b[0m\u001b[0;34m,\u001b[0m \u001b[0mtitle\u001b[0m\u001b[0;34m=\u001b[0m\u001b[0;34mf'{sta}.{cha}'\u001b[0m\u001b[0;34m)\u001b[0m\u001b[0;34m\u001b[0m\u001b[0;34m\u001b[0m\u001b[0m\n\u001b[0m\u001b[1;32m      9\u001b[0m \u001b[0;34m\u001b[0m\u001b[0m\n\u001b[1;32m     10\u001b[0m \u001b[0mselect_st\u001b[0m \u001b[0;34m=\u001b[0m \u001b[0mst\u001b[0m\u001b[0;34m.\u001b[0m\u001b[0mselect\u001b[0m\u001b[0;34m(\u001b[0m\u001b[0mstation\u001b[0m\u001b[0;34m=\u001b[0m\u001b[0msta\u001b[0m\u001b[0;34m,\u001b[0m \u001b[0mchannel\u001b[0m\u001b[0;34m=\u001b[0m\u001b[0mcha\u001b[0m\u001b[0;34m)\u001b[0m\u001b[0;34m\u001b[0m\u001b[0;34m\u001b[0m\u001b[0m\n",
      "\u001b[0;31mNameError\u001b[0m: name 'figure' is not defined"
     ]
    }
   ],
   "source": [
    "st = __getStream(config, restitute=True)\n",
    "\n",
    "## make Panel 1\n",
    "\n",
    "net, sta, loc, cha = \"BW.RLAS..BJZ\".split('.')\n",
    "# net, sta, loc, cha = config['seeds'][0].split('.')\n",
    "\n",
    "panel_1 = figure(width=800, height=200, title=f'{sta}.{cha}')\n",
    "\n",
    "select_st = st.select(station=sta, channel=cha)\n",
    "\n",
    "panel_1_cds = ColumnDataSource(data={'x': select_st[0].times(), 'y': select_st[0].data})\n",
    "\n",
    "panel_1.line('x', 'y', source=panel_1_cds)\n",
    "\n",
    "\n",
    "## make Panel 2\n",
    "\n",
    "\n",
    "net, sta, loc, cha = \"BW.ROMY.10.BJZ\".split('.')\n",
    "# net, sta, loc, cha = config['seeds'][1].split('.')\n",
    "\n",
    "panel_2 = figure(width=800, height=200, title=f'{sta}.{cha}')\n",
    "\n",
    "select_st = st.select(station=sta, channel=cha)\n",
    "\n",
    "panel_2_cds = ColumnDataSource(data={'x': select_st[0].times(), 'y': select_st[0].data})\n",
    "\n",
    "panel_2.line('x', 'y', source=panel_2_cds)\n"
   ]
  },
  {
   "cell_type": "code",
   "execution_count": null,
   "id": "c9ac40f9",
   "metadata": {
    "ExecuteTime": {
     "end_time": "2022-09-27T04:46:02.784927Z",
     "start_time": "2022-09-27T04:45:51.381Z"
    },
    "code_folding": []
   },
   "outputs": [],
   "source": [
    "def __streaming():\n",
    "\n",
    "    global config\n",
    "    \n",
    "    df = __update_data(config)\n",
    "    \n",
    "    panel_1_cds.update(data={'x': df['timeline'], 'y': df[\"BW.RLAS..BJZ\"]})\n",
    "    \n",
    "    panel_2_cds.update(data={'x': df['timeline'], 'y': df[\"BW.ROMY.10.BJZ\"]})\n",
    "\n",
    "    pn.io.push_notebook(bk_dash) # Only needed when running in notebook context\n",
    "\n",
    "#     del df\n",
    "\n",
    "    \n",
    "bk_dash = pn.pane.Bokeh(column(panel_2, panel_1))\n",
    "# bk_dash = pn.Row(pn.Column(panel_1, panel_1))\n",
    "\n",
    "## create a periodic callback \n",
    "interval = int(1e3*config['update_interval']) ## to miliseconds as int\n",
    "pn.state.add_periodic_callback(__streaming, period=interval)\n",
    "\n",
    "\n",
    "## make it executable \n",
    "bk_dash.servable(title='ROMY Monitor')\n",
    "# bk_dash.show()\n"
   ]
  },
  {
   "cell_type": "code",
   "execution_count": null,
   "id": "7117d76d",
   "metadata": {
    "ExecuteTime": {
     "end_time": "2022-09-27T04:46:02.786294Z",
     "start_time": "2022-09-27T04:45:52.440Z"
    }
   },
   "outputs": [],
   "source": [
    "# pane.save('test.png')"
   ]
  },
  {
   "cell_type": "code",
   "execution_count": null,
   "id": "a5a13ddc",
   "metadata": {},
   "outputs": [],
   "source": []
  },
  {
   "cell_type": "code",
   "execution_count": null,
   "id": "3c287dfe",
   "metadata": {},
   "outputs": [],
   "source": []
  }
 ],
 "metadata": {
  "kernelspec": {
   "display_name": "Python 3",
   "language": "python",
   "name": "python3"
  },
  "language_info": {
   "codemirror_mode": {
    "name": "ipython",
    "version": 3
   },
   "file_extension": ".py",
   "mimetype": "text/x-python",
   "name": "python",
   "nbconvert_exporter": "python",
   "pygments_lexer": "ipython3",
   "version": "3.7.8"
  },
  "latex_envs": {
   "LaTeX_envs_menu_present": true,
   "autoclose": false,
   "autocomplete": true,
   "bibliofile": "biblio.bib",
   "cite_by": "apalike",
   "current_citInitial": 1,
   "eqLabelWithNumbers": true,
   "eqNumInitial": 1,
   "hotkeys": {
    "equation": "Ctrl-E",
    "itemize": "Ctrl-I"
   },
   "labels_anchors": false,
   "latex_user_defs": false,
   "report_style_numbering": false,
   "user_envs_cfg": false
  },
  "toc": {
   "base_numbering": 1,
   "nav_menu": {},
   "number_sections": true,
   "sideBar": true,
   "skip_h1_title": false,
   "title_cell": "Table of Contents",
   "title_sidebar": "Contents",
   "toc_cell": false,
   "toc_position": {},
   "toc_section_display": true,
   "toc_window_display": false
  }
 },
 "nbformat": 4,
 "nbformat_minor": 5
}
