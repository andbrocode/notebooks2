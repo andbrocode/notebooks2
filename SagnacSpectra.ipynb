{
 "cells": [
  {
   "cell_type": "markdown",
   "id": "protected-presentation",
   "metadata": {},
   "source": [
    "## Load Libraries"
   ]
  },
  {
   "cell_type": "code",
   "execution_count": 1,
   "id": "behind-arrangement",
   "metadata": {
    "ExecuteTime": {
     "end_time": "2022-10-28T12:42:11.666376Z",
     "start_time": "2022-10-28T12:42:09.384005Z"
    }
   },
   "outputs": [],
   "source": [
    "from andbro__querrySeismoData import __querrySeismoData\n",
    "from obspy import UTCDateTime\n",
    "from scipy.signal import welch\n",
    "from numpy import log10, zeros, append, linspace, mean, median, array, where, transpose, shape, histogram\n",
    "from pandas import DataFrame, concat, Series\n",
    "\n",
    "\n",
    "import matplotlib.pyplot as plt"
   ]
  },
  {
   "cell_type": "code",
   "execution_count": 2,
   "id": "cooked-motel",
   "metadata": {
    "ExecuteTime": {
     "end_time": "2022-10-28T12:42:11.669127Z",
     "start_time": "2022-10-28T12:42:11.667347Z"
    }
   },
   "outputs": [],
   "source": [
    "def __make_decibel(array, relative_value):\n",
    "    return 20*log10(array/relative_value)"
   ]
  },
  {
   "cell_type": "markdown",
   "id": "subject-expression",
   "metadata": {},
   "source": [
    "## Configurations"
   ]
  },
  {
   "cell_type": "code",
   "execution_count": 3,
   "id": "yellow-geography",
   "metadata": {
    "ExecuteTime": {
     "end_time": "2022-10-28T12:42:11.685012Z",
     "start_time": "2022-10-28T12:42:11.670206Z"
    }
   },
   "outputs": [],
   "source": [
    "date = UTCDateTime(\"2021-03-05\")\n",
    "\n",
    "seed_id = \"BW.DROMY..FJZ\"\n",
    "\n",
    "psd = zeros([])\n",
    "\n",
    "opath=\"/home/andbro/Documents/ROMY/SagnacSpectra/plots/\""
   ]
  },
  {
   "cell_type": "markdown",
   "id": "copyrighted-belize",
   "metadata": {},
   "source": [
    "## Test Case"
   ]
  },
  {
   "cell_type": "code",
   "execution_count": 4,
   "id": "mineral-horror",
   "metadata": {
    "ExecuteTime": {
     "end_time": "2022-10-28T12:42:11.731856Z",
     "start_time": "2022-10-28T12:42:11.686051Z"
    }
   },
   "outputs": [],
   "source": [
    "# interval= 3600\n",
    "\n",
    "# tbeg = date\n",
    "# tend = date + interval\n",
    "\n",
    "# st, inv = __querrySeismoData(    \n",
    "#     seed_id=seed_id,\n",
    "#     starttime=tbeg,\n",
    "#     endtime=tend,\n",
    "#     where=\"george\",\n",
    "#     path=None,\n",
    "#     restitute=False,\n",
    "#     detail=None,\n",
    "# )\n",
    "\n",
    "\n",
    "# f, psd = welch(st[0].data, \n",
    "#               fs=st[0].stats.sampling_rate, \n",
    "#               window='hanning', \n",
    "#               nperseg=256*10000, \n",
    "#               noverlap=None, \n",
    "#               nfft=None, \n",
    "#               detrend='constant', \n",
    "#               return_onesided=True, \n",
    "#               scaling='density',\n",
    "#            )\n",
    "\n",
    "\n",
    "# psd_db = 20*log10(psd/1.0)\n",
    "\n",
    "# plt.plot(f, psd_db)\n",
    "\n",
    "# plt.xlim(549, 558)\n"
   ]
  },
  {
   "cell_type": "markdown",
   "id": "natural-beginning",
   "metadata": {},
   "source": [
    "## Looping "
   ]
  },
  {
   "cell_type": "code",
   "execution_count": 5,
   "id": "noticed-stylus",
   "metadata": {
    "ExecuteTime": {
     "end_time": "2022-10-28T12:56:19.009278Z",
     "start_time": "2022-10-28T12:42:11.732815Z"
    }
   },
   "outputs": [
    {
     "name": "stdout",
     "output_type": "stream",
     "text": [
      "0 - 1\n",
      "0 - 1\n",
      "0 - 1\n",
      "0 - 1\n",
      "1 - 2\n",
      "1 - 2\n",
      "1 - 2\n",
      "1 - 2\n",
      "2 - 3\n",
      "2 - 3\n",
      "2 - 3\n",
      "2 - 3\n",
      "3 - 4\n",
      "3 - 4\n",
      "3 - 4\n",
      "3 - 4\n",
      "4 - 5\n",
      "4 - 5\n",
      "4 - 5\n",
      "4 - 5\n",
      "5 - 6\n",
      "5 - 6\n",
      "5 - 6\n",
      "5 - 6\n",
      "6 - 7\n",
      "6 - 7\n",
      "6 - 7\n",
      "6 - 7\n",
      "7 - 8\n",
      "7 - 8\n",
      "7 - 8\n",
      "7 - 8\n",
      "8 - 9\n",
      "8 - 9\n",
      "8 - 9\n",
      "8 - 9\n",
      "9 - 10\n",
      "9 - 10\n",
      "9 - 10\n",
      "9 - 10\n",
      "10 - 11\n",
      "10 - 11\n",
      "10 - 11\n",
      "10 - 11\n",
      "11 - 12\n",
      "11 - 12\n",
      "11 - 12\n",
      "11 - 12\n",
      "12 - 13\n",
      "12 - 13\n",
      "12 - 13\n",
      "12 - 13\n",
      "13 - 14\n",
      "13 - 14\n",
      "13 - 14\n",
      "13 - 14\n",
      "14 - 15\n",
      "14 - 15\n",
      "14 - 15\n",
      "14 - 15\n",
      "15 - 16\n",
      "15 - 16\n",
      "15 - 16\n",
      "15 - 16\n",
      "16 - 17\n",
      "16 - 17\n",
      "16 - 17\n",
      "16 - 17\n",
      "17 - 18\n",
      "17 - 18\n",
      "17 - 18\n",
      "17 - 18\n",
      "18 - 19\n",
      "18 - 19\n",
      "18 - 19\n",
      "18 - 19\n",
      "19 - 20\n",
      "19 - 20\n",
      "19 - 20\n",
      "19 - 20\n",
      "20 - 21\n",
      "20 - 21\n",
      "20 - 21\n",
      "20 - 21\n",
      "21 - 22\n",
      "21 - 22\n",
      "21 - 22\n",
      "21 - 22\n",
      "22 - 23\n",
      "22 - 23\n",
      "22 - 23\n",
      "22 - 23\n",
      "23 - 24\n",
      "23 - 24\n",
      "23 - 24\n",
      "23 - 24\n"
     ]
    }
   ],
   "source": [
    "interval= 900\n",
    "\n",
    "tbeg = date\n",
    "tend = date + interval\n",
    "\n",
    "f_lower, f_upper = 540, 560\n",
    "\n",
    "segment_factor = 1e4\n",
    "\n",
    "psd = []\n",
    "\n",
    "while tbeg.hour < 24 and tbeg.date == date:\n",
    "    \n",
    "    print(f\"{tbeg.hour} - {tbeg.hour+1}\")\n",
    "    \n",
    "    st, inv = __querrySeismoData(    \n",
    "                                seed_id=seed_id,\n",
    "                                starttime=tbeg,\n",
    "                                endtime=tend,\n",
    "                                repository=\"george\",\n",
    "                                path=None,\n",
    "                                restitute=False,\n",
    "                                detail=None,\n",
    "                                )\n",
    "\n",
    "    st[0].data = st[0].data * 0.59604645e-6\n",
    "    \n",
    "    f, psd0 = welch(  \n",
    "                    st[0].data, \n",
    "                    fs=st[0].stats.sampling_rate, \n",
    "                    window='hanning', \n",
    "                    nperseg=256*segment_factor, \n",
    "                    noverlap=128*segment_factor, \n",
    "                    nfft=None, \n",
    "                    detrend='constant', \n",
    "                    return_onesided=True, \n",
    "                    scaling='density',\n",
    "                   )\n",
    "    \n",
    "    idx1 = where(f == f_lower)[0][0]\n",
    "    idx2 = where(f == f_upper)[0][0]\n",
    "\n",
    "    psd.append(psd0[idx1:idx2])\n",
    "    del st\n",
    "    \n",
    "    tbeg += interval\n",
    "    tend += interval\n",
    "    \n",
    "    \n",
    "f = f[idx1:idx2]    \n",
    "psd  = array(psd)"
   ]
  },
  {
   "cell_type": "code",
   "execution_count": 6,
   "id": "fifteen-cheat",
   "metadata": {
    "ExecuteTime": {
     "end_time": "2022-10-28T12:56:19.102638Z",
     "start_time": "2022-10-28T12:56:19.010414Z"
    }
   },
   "outputs": [],
   "source": [
    "## create new dataframe\n",
    "df = DataFrame(transpose(psd))\n",
    "\n",
    "## calulcate max and min of all datasets\n",
    "max_value = max([max(sublist) for sublist in psd])\n",
    "min_value = min([min(sublist) for sublist in psd])\n",
    "\n",
    "## make colormap \n",
    "# colors = plt.cm.viridis_r(linspace(0,1,len(psd)))\n",
    "cols = plt.cm.jet_r(linspace(0,1,len(psd)+1))\n",
    "\n",
    "## caluclate average of each frequency samples across datasets \n",
    "psd_avg = df.sum(axis=1)/df.count(axis=1)\n"
   ]
  },
  {
   "cell_type": "markdown",
   "id": "authentic-knock",
   "metadata": {
    "ExecuteTime": {
     "end_time": "2021-03-12T09:46:52.764867Z",
     "start_time": "2021-03-12T09:46:52.736292Z"
    }
   },
   "source": [
    "### store psd object using pickle"
   ]
  },
  {
   "cell_type": "code",
   "execution_count": 7,
   "id": "honey-stations",
   "metadata": {
    "ExecuteTime": {
     "end_time": "2022-10-28T12:56:19.527237Z",
     "start_time": "2022-10-28T12:56:19.103637Z"
    }
   },
   "outputs": [
    {
     "ename": "FileNotFoundError",
     "evalue": "[Errno 2] No such file or directory: '/home/andbro/Documents/ROMY/SagnacSpectra/plots/../sagnacspectra_2021-03-05_900.pick'",
     "output_type": "error",
     "traceback": [
      "\u001b[0;31m---------------------------------------------------------------------------\u001b[0m",
      "\u001b[0;31mFileNotFoundError\u001b[0m                         Traceback (most recent call last)",
      "\u001b[0;32m<ipython-input-7-61bbea748a49>\u001b[0m in \u001b[0;36m<module>\u001b[0;34m\u001b[0m\n\u001b[1;32m      1\u001b[0m \u001b[0;32mimport\u001b[0m \u001b[0mpickle\u001b[0m\u001b[0;34m\u001b[0m\u001b[0;34m\u001b[0m\u001b[0m\n\u001b[1;32m      2\u001b[0m \u001b[0;34m\u001b[0m\u001b[0m\n\u001b[0;32m----> 3\u001b[0;31m \u001b[0mofile\u001b[0m \u001b[0;34m=\u001b[0m \u001b[0mopen\u001b[0m\u001b[0;34m(\u001b[0m\u001b[0mopath\u001b[0m\u001b[0;34m+\u001b[0m\u001b[0;34m'../'\u001b[0m\u001b[0;34m+\u001b[0m\u001b[0;34mf'sagnacspectra_{date.date}_{interval}.pick'\u001b[0m\u001b[0;34m,\u001b[0m \u001b[0;34m'wb'\u001b[0m\u001b[0;34m)\u001b[0m\u001b[0;34m\u001b[0m\u001b[0;34m\u001b[0m\u001b[0m\n\u001b[0m\u001b[1;32m      4\u001b[0m \u001b[0mpickle\u001b[0m\u001b[0;34m.\u001b[0m\u001b[0mdump\u001b[0m\u001b[0;34m(\u001b[0m\u001b[0mpsd\u001b[0m\u001b[0;34m,\u001b[0m \u001b[0mofile\u001b[0m\u001b[0;34m)\u001b[0m\u001b[0;34m\u001b[0m\u001b[0;34m\u001b[0m\u001b[0m\n\u001b[1;32m      5\u001b[0m \u001b[0mofile\u001b[0m\u001b[0;34m.\u001b[0m\u001b[0mclose\u001b[0m\u001b[0;34m(\u001b[0m\u001b[0;34m)\u001b[0m\u001b[0;34m\u001b[0m\u001b[0;34m\u001b[0m\u001b[0m\n",
      "\u001b[0;31mFileNotFoundError\u001b[0m: [Errno 2] No such file or directory: '/home/andbro/Documents/ROMY/SagnacSpectra/plots/../sagnacspectra_2021-03-05_900.pick'"
     ]
    }
   ],
   "source": [
    "import pickle\n",
    "\n",
    "ofile = open(opath+'../'+f'sagnacspectra_{date.date}_{interval}.pick', 'wb')\n",
    "pickle.dump(psd, ofile)\n",
    "ofile.close()"
   ]
  },
  {
   "cell_type": "markdown",
   "id": "authorized-equation",
   "metadata": {},
   "source": [
    "## Scatter Plot"
   ]
  },
  {
   "cell_type": "code",
   "execution_count": null,
   "id": "concrete-service",
   "metadata": {
    "ExecuteTime": {
     "end_time": "2022-10-28T12:56:19.528437Z",
     "start_time": "2022-10-28T12:42:09.381Z"
    }
   },
   "outputs": [],
   "source": [
    "## ____________________________________________\n",
    "\n",
    "fig, ax = plt.subplots(1,1, figsize=(15,10))\n",
    "\n",
    "font = 14\n",
    "\n",
    "for i, psdx in enumerate(psd):\n",
    "    psd_db = __make_decibel(psdx, max_value)\n",
    "    psd_avg_db = __make_decibel(psd_avg, max_value)\n",
    "    \n",
    "#     ax.plot(f, psd_db, color=colors[i])\n",
    "    ax.scatter(f, psd_db, color=cols[i], s=1, zorder=2, alpha=0.7, label=i,)\n",
    "\n",
    "ax.plot(f, psd_avg_db, color='k', lw=1, zorder=2)\n",
    "    \n",
    "ax.set_xlim(547, 560)\n",
    "\n",
    "ax.legend(ncol=2)\n",
    "\n",
    "ax.grid(ls='--', zorder=1)\n",
    "\n",
    "ax.set_xlabel(\"Frequency ( Hz )\", fontsize=font)\n",
    "ax.set_ylabel(f\"PSD ( dB rel. to {round(max_value,3)} V$^2$/Hz ) \", fontsize=font)\n",
    "ax.set_title(f\"Sagnac Spetra on {date.date} ({interval}s windows) \", fontsize=font+2)\n",
    "\n",
    "ax.tick_params(axis='both', labelsize=font-2)\n",
    "\n"
   ]
  },
  {
   "cell_type": "code",
   "execution_count": null,
   "id": "referenced-quarterly",
   "metadata": {
    "ExecuteTime": {
     "end_time": "2022-10-28T12:56:19.528913Z",
     "start_time": "2022-10-28T12:42:09.382Z"
    }
   },
   "outputs": [],
   "source": [
    "fig.savefig(\n",
    "            opath+f\"plot_sagnacspectra_{date.date}_{interval}_scatter.png\", \n",
    "            dpi=300, facecolor='w', \n",
    "            edgecolor='w',\n",
    "            orientation='portrait', \n",
    "            format=\"png\",\n",
    "            transparent=False, \n",
    "            bbox_inches=\"tight\", \n",
    "            pad_inches=0.2,\n",
    "           )"
   ]
  },
  {
   "cell_type": "markdown",
   "id": "fourth-retrieval",
   "metadata": {
    "ExecuteTime": {
     "start_time": "2021-03-12T13:54:58.391Z"
    }
   },
   "source": [
    "## Calculate and Plot RollingAverage"
   ]
  },
  {
   "cell_type": "code",
   "execution_count": null,
   "id": "inappropriate-prisoner",
   "metadata": {
    "ExecuteTime": {
     "end_time": "2022-10-28T12:56:19.529554Z",
     "start_time": "2022-10-28T12:42:09.384Z"
    }
   },
   "outputs": [],
   "source": [
    "## create second dataframe for rolling average\n",
    "df_rolled = DataFrame()\n",
    "\n",
    "# alphabet = [chr(letter) for letter in range(len(df[0]))]\n",
    "\n",
    "## calulcate rolling average over x samples \n",
    "win_len = 10\n",
    "for i in range(df.columns.size):\n",
    "    df_rolled = concat([ df_rolled, df.iloc[:,i].rolling(window=win_len, min_periods=1).mean() ], axis=1)\n",
    "\n",
    "\n",
    "# max_value = max([max(sublist) for sublist in psd])\n",
    "# min_value = min([min(sublist) for sublist in psd])\n",
    "\n",
    "## make colormap\n",
    "# colors = plt.cm.viridis_r(linspace(0,1,len(psd)+1))\n",
    "cols = plt.cm.jet_r(linspace(0,1,len(psd)+1))\n",
    "\n",
    "## calulcate average\n",
    "psd_avg2 = df_rolled.sum(axis=1)/df_rolled.count(axis=1)\n",
    "\n"
   ]
  },
  {
   "cell_type": "code",
   "execution_count": null,
   "id": "documented-specific",
   "metadata": {
    "ExecuteTime": {
     "end_time": "2022-10-28T12:56:19.530118Z",
     "start_time": "2022-10-28T12:42:09.385Z"
    }
   },
   "outputs": [],
   "source": [
    "## ____________________________________________\n",
    "\n",
    "fig, ax = plt.subplots(1,1, figsize=(15,10))\n",
    "\n",
    "font = 16\n",
    "\n",
    "for i in range(df_rolled.columns.size):\n",
    "\n",
    "    psd_db = __make_decibel(df_rolled.iloc[:,i], max_value)\n",
    "    psd_avg_db = __make_decibel(psd_avg2, max_value)\n",
    "    \n",
    "    ax.plot(f, psd_db, color=cols[i], lw=0.8, label=i, alpha=0.6)\n",
    "\n",
    "    \n",
    "# ax.plot(f, psd_avg_db, color='k', lw=1, zorder=2)\n",
    "    \n",
    "    \n",
    "ax.set_xlim(547, 560)\n",
    "\n",
    "ax.legend(ncol=2, markerscale=2)\n",
    "\n",
    "ax.grid(ls='--', zorder=1)\n",
    "\n",
    "ax.set_xlabel(\"Frequency ( Hz )\", fontsize=font)\n",
    "ax.set_ylabel(f\"PSD ( dB rel. to {round(max_value,3)} V$^2$/Hz ) \", fontsize=font)\n",
    "ax.set_title(f\"Sagnac Spetra on {date.date} ({interval}s windows) \", fontsize=font+2)\n",
    "\n",
    "ax.tick_params(axis='both', labelsize=font-2)\n",
    "\n",
    "ax.set_xlim(546, 560)\n",
    "# ax.set_xlim(551, 556)\n"
   ]
  },
  {
   "cell_type": "code",
   "execution_count": null,
   "id": "nominated-imperial",
   "metadata": {
    "ExecuteTime": {
     "end_time": "2022-10-28T12:56:19.530805Z",
     "start_time": "2022-10-28T12:42:09.387Z"
    }
   },
   "outputs": [],
   "source": [
    "fig.savefig(\n",
    "            opath+f\"plot_sagnacspectra_{date.date}_{interval}_{win_len}_lines.png\", \n",
    "            dpi=300, facecolor='w', \n",
    "            edgecolor='w',\n",
    "            orientation='portrait', \n",
    "            format=\"png\",\n",
    "            transparent=False, \n",
    "            bbox_inches=\"tight\", \n",
    "            pad_inches=0.2,\n",
    "           )"
   ]
  },
  {
   "cell_type": "markdown",
   "id": "biblical-alloy",
   "metadata": {},
   "source": [
    "## Calculate and Plot Density"
   ]
  },
  {
   "cell_type": "code",
   "execution_count": null,
   "id": "stuffed-furniture",
   "metadata": {
    "ExecuteTime": {
     "end_time": "2022-10-28T12:56:19.531377Z",
     "start_time": "2022-10-28T12:42:09.388Z"
    }
   },
   "outputs": [],
   "source": [
    "\n",
    "psd_db = []\n",
    "for sublist in psd:\n",
    "    psd_db.append(__make_decibel(sublist, max_value))\n",
    "\n",
    "max_value_db = max([max(sublist) for sublist in psd_db])\n",
    "min_value_db = min([min(sublist) for sublist in psd_db])\n",
    "\n",
    "\n",
    "dist = []\n",
    "for h in range(len(psd_db[1])):\n",
    "    \n",
    "    tmp = [psd_db[i][h] for i in range(shape(psd_db)[0])]\n",
    "    hist, edges = histogram(tmp, bins=100, range=(min_value_db, max_value_db), density=None);\n",
    "    \n",
    "    dist.append(hist)\n",
    "    \n",
    "dist = array(dist)\n",
    "\n",
    "max_value_dist = max([max(sublist) for sublist in dist])\n",
    "\n",
    "\n",
    "fig = plt.figure() \n",
    "plt.scatter(edges[:-1], hist)\n"
   ]
  },
  {
   "cell_type": "code",
   "execution_count": null,
   "id": "linear-belle",
   "metadata": {
    "ExecuteTime": {
     "end_time": "2022-10-28T12:56:19.531958Z",
     "start_time": "2022-10-28T12:42:09.389Z"
    }
   },
   "outputs": [],
   "source": [
    "from matplotlib import colors\n",
    "\n",
    "\n",
    "fig = plt.figure(figsize=(10,5))\n",
    "\n",
    "font=14\n",
    "\n",
    "im = plt.imshow(transpose(dist),\n",
    "        cmap=\"YlOrRd\",\n",
    "        clim=[1,20],\n",
    "        aspect='auto',\n",
    "        interpolation=None,\n",
    "        alpha=None,\n",
    "        origin=\"lower\",\n",
    "        extent=(f_lower, f_upper, min(edges), max(edges)),\n",
    "        norm=colors.LogNorm()\n",
    ")\n",
    "\n",
    "plt.plot(f, psd_avg_db, color='k', lw=1, zorder=2)\n",
    "\n",
    "caxes = fig.add_axes()\n",
    "\n",
    "cb = plt.colorbar(im, cax=caxes)\n",
    "cb.set_label(\"counts\", fontsize=font)\n",
    "\n",
    "plt.ylabel(f\"PSD (dB rel. to {round(max_value,3)} V$^2$/Hz )\",fontsize=font)\n",
    "plt.xlabel(\"Frequency ( Hz )\",fontsize=font)\n",
    "plt.title(f\"Sagnac Spetra on {date.date} ({interval}s windows) \",fontsize=font+2)\n",
    "\n",
    "plt.tick_params(axis='both', labelsize=font-2)\n"
   ]
  },
  {
   "cell_type": "code",
   "execution_count": null,
   "id": "valid-greenhouse",
   "metadata": {
    "ExecuteTime": {
     "end_time": "2022-10-28T12:56:19.532495Z",
     "start_time": "2022-10-28T12:42:09.391Z"
    }
   },
   "outputs": [],
   "source": [
    "\n",
    "fig.savefig(\n",
    "            opath+f\"plot_sagnacspectra_{date.date}_{interval}_distribution.png\", \n",
    "            dpi=300, facecolor='w', \n",
    "            edgecolor='w',\n",
    "            orientation='portrait', \n",
    "            format=\"png\",\n",
    "            transparent=False, \n",
    "            bbox_inches=\"tight\", \n",
    "            pad_inches=0.2,\n",
    "           )"
   ]
  },
  {
   "cell_type": "code",
   "execution_count": null,
   "id": "exposed-timber",
   "metadata": {
    "ExecuteTime": {
     "end_time": "2022-10-28T12:56:19.533026Z",
     "start_time": "2022-10-28T12:42:09.393Z"
    }
   },
   "outputs": [],
   "source": [
    "st"
   ]
  },
  {
   "cell_type": "code",
   "execution_count": null,
   "id": "d73c5067",
   "metadata": {},
   "outputs": [],
   "source": []
  }
 ],
 "metadata": {
  "kernelspec": {
   "display_name": "Python 3",
   "language": "python",
   "name": "python3"
  },
  "language_info": {
   "codemirror_mode": {
    "name": "ipython",
    "version": 3
   },
   "file_extension": ".py",
   "mimetype": "text/x-python",
   "name": "python",
   "nbconvert_exporter": "python",
   "pygments_lexer": "ipython3",
   "version": "3.7.7"
  }
 },
 "nbformat": 4,
 "nbformat_minor": 5
}
