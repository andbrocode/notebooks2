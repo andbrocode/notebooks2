{
 "cells": [
  {
   "cell_type": "code",
   "execution_count": 1,
   "id": "2acf7f4a-8060-4365-9cca-f06aeb19e649",
   "metadata": {
    "tags": []
   },
   "outputs": [],
   "source": [
    "from obspy.core import read, UTCDateTime, Stream\n",
    "from obspy.clients.fdsn import Client, RoutingClient"
   ]
  },
  {
   "cell_type": "code",
   "execution_count": null,
   "id": "000c731d-1cb7-4cdf-9b99-25d0238502b9",
   "metadata": {},
   "outputs": [],
   "source": [
    "client = Client(\"http://george\")\n",
    "\n",
    "seed = \"BW.RLAS.*.BJ*\"\n",
    "\n",
    "net, sta, loc, cha = seed.split(\".\")\n",
    "\n",
    "starttime = \"2027-01-01\"\n",
    "endtime = \"2024-04-05\"\n",
    "\n",
    "inv = client.get_stations(\n",
    "                          network=net,\n",
    "                          station=sta,\n",
    "                          location=loc,\n",
    "                          channel=cha,\n",
    "                          level=\"response\",\n",
    "                          # starttime=starttime,\n",
    "                          # endtime=endtime,\n",
    "                         )"
   ]
  },
  {
   "cell_type": "code",
   "execution_count": null,
   "id": "c20c706a-56b0-419b-a498-7db568eda149",
   "metadata": {},
   "outputs": [],
   "source": [
    "inv.write(\"/home/andbro/Documents/ROMY/stationxml_ringlaser/rlas_george.xml\", format=\"STATIONXML\")"
   ]
  },
  {
   "cell_type": "code",
   "execution_count": null,
   "id": "bf83637f-ce98-4a20-a5c2-0aeffa7ae55e",
   "metadata": {},
   "outputs": [],
   "source": []
  }
 ],
 "metadata": {
  "kernelspec": {
   "display_name": "Python 3 (ipykernel)",
   "language": "python",
   "name": "python3"
  },
  "language_info": {
   "codemirror_mode": {
    "name": "ipython",
    "version": 3
   },
   "file_extension": ".py",
   "mimetype": "text/x-python",
   "name": "python",
   "nbconvert_exporter": "python",
   "pygments_lexer": "ipython3",
   "version": "3.10.12"
  }
 },
 "nbformat": 4,
 "nbformat_minor": 5
}
