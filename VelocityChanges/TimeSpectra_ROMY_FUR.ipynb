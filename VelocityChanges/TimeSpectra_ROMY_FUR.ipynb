{
 "cells": [
  {
   "cell_type": "markdown",
   "id": "eda030d3",
   "metadata": {},
   "source": [
    "# Analyse Velocity Changes for ROMY & FUR\n"
   ]
  },
  {
   "cell_type": "code",
   "execution_count": null,
   "id": "b472db4e",
   "metadata": {},
   "outputs": [],
   "source": []
  },
  {
   "cell_type": "markdown",
   "id": "protected-presentation",
   "metadata": {},
   "source": [
    "## Load Libraries"
   ]
  },
  {
   "cell_type": "code",
   "execution_count": 1,
   "id": "behind-arrangement",
   "metadata": {
    "ExecuteTime": {
     "end_time": "2022-12-07T20:57:37.692138Z",
     "start_time": "2022-12-07T20:57:33.456159Z"
    },
    "tags": []
   },
   "outputs": [],
   "source": [
    "\n",
    "import os\n",
    "import pickle\n",
    "import matplotlib.pyplot as plt\n",
    "import numpy as np\n",
    "\n",
    "from pandas import date_range"
   ]
  },
  {
   "cell_type": "code",
   "execution_count": 2,
   "id": "cfe860f0",
   "metadata": {
    "ExecuteTime": {
     "end_time": "2022-12-07T20:57:37.695282Z",
     "start_time": "2022-12-07T20:57:37.693252Z"
    },
    "tags": []
   },
   "outputs": [],
   "source": [
    "if os.uname().nodename == 'lighthouse':\n",
    "    root_path = '/home/andbro/'\n",
    "    data_path = '/home/andbro/kilauea-data/'\n",
    "    archive_path = '/home/andbro/freenas/'\n",
    "    bay_path = '/home/andbro/bay200/'\n",
    "elif os.uname().nodename == 'kilauea':\n",
    "    root_path = '/home/brotzer/'\n",
    "    data_path = '/import/kilauea-data/'\n",
    "    archive_path = '/import/freenas-ffb-01-data/'\n",
    "    bay_path = '/bay200/'\n",
    "elif os.uname().nodename == 'lin-ffb-01':\n",
    "    root_path = '/home/brotzer/'\n",
    "    data_path = '/import/kilauea-data/'\n",
    "    archive_path = '/import/freenas-ffb-01-data/'\n",
    "    bay_path = '/bay200/'"
   ]
  },
  {
   "cell_type": "code",
   "execution_count": 3,
   "id": "a5c96c9b-564e-4b9b-a6ae-f90ccebc8a90",
   "metadata": {
    "tags": []
   },
   "outputs": [],
   "source": [
    "# from functions.get_mean_psd import __get_mean_psd\n",
    "# from functions.get_minimum_psd import __get_minimal_psd\n",
    "# from functions.get_minimal_psd import __get_minimal_psd\n",
    "from functions.get_median_psd import __get_median_psd\n",
    "from functions.get_percentiles import __get_percentiles\n",
    "from functions.replace_noise_psd_with_nan import __replace_noisy_psds_with_nan"
   ]
  },
  {
   "cell_type": "markdown",
   "id": "subject-expression",
   "metadata": {},
   "source": [
    "## Configurations"
   ]
  },
  {
   "cell_type": "code",
   "execution_count": 4,
   "id": "e89d22a7",
   "metadata": {
    "ExecuteTime": {
     "end_time": "2022-12-07T20:57:37.856299Z",
     "start_time": "2022-12-07T20:57:37.840996Z"
    },
    "tags": []
   },
   "outputs": [],
   "source": [
    "config = {}\n",
    "\n",
    "config['path_to_figures'] = f\"{data_path}VelocityChanges/figures/\"\n",
    "\n",
    "config['rlnm_model_path'] = f\"{root_path}LNM/data/MODELS/\"\n",
    "\n",
    "config['d1'], config['d2'] = \"2023-09-23\", \"2023-09-30\"\n",
    "\n",
    "# config['path_to_data'] = data_path+f\"VelocityChanges/data/PSDS/\"\n",
    "config['path_to_data'] = data_path+f\"LNM2/PSDS/\""
   ]
  },
  {
   "cell_type": "markdown",
   "id": "natural-beginning",
   "metadata": {},
   "source": [
    "## Load as Arrays"
   ]
  },
  {
   "cell_type": "code",
   "execution_count": 5,
   "id": "2107b49c-7efd-4aab-86b5-4b2559b35841",
   "metadata": {
    "tags": []
   },
   "outputs": [],
   "source": [
    "def __remove_noisy_psds(arr, threshold_mean=1e-16, ff=None, flim=None):\n",
    "\n",
    "    from numpy import delete, shape, sort, array, ones, nan\n",
    "\n",
    "    idx_min = 5\n",
    "\n",
    "    if flim is not None and ff is not None:\n",
    "        for n, f in enumerate(ff):\n",
    "            if f > flim:\n",
    "                idx_max = n\n",
    "                break\n",
    "\n",
    "\n",
    "    l1 = shape(arr)[0]\n",
    "\n",
    "    idx_to_remove = []\n",
    "    rejected = []\n",
    "    for ii in range(shape(arr)[0]):\n",
    "\n",
    "        ## appy upper threshold\n",
    "        if flim is not None and ff is not None:\n",
    "            if arr[ii, idx_min:idx_max].mean() > threshold_mean:\n",
    "                if ii == 0:\n",
    "                    print(f\" -> filter threshold between {round(ff[idx_min],4)} and {round(ff[idx_max],2)}\")\n",
    "                rejected.append(arr[ii, :])\n",
    "                arr[ii] = ones(len(arr[ii])) * nan\n",
    "                # idx_to_remove.append(ii)\n",
    "        else:\n",
    "            if arr[ii, :].mean() > threshold_mean:\n",
    "                rejected.append(arr[ii, :])\n",
    "                idx_to_remove.append(ii)\n",
    "\n",
    "        ## apply default lowe threshold\n",
    "        if arr[ii, :].mean() < 1e-26:\n",
    "            rejected.append(arr[ii, :])\n",
    "            idx_to_remove.append(ii)\n",
    "\n",
    "    # for jj in sort(array(idx_to_remove))[::-1]:\n",
    "    #     arr = delete(arr, jj, axis=0)\n",
    "\n",
    "    l2 = shape(arr)[0]\n",
    "\n",
    "    print(f\" -> removed {l1-l2} rows due to mean thresholds!\")\n",
    "    print(f\" -> {l2} psds remain\")\n",
    "\n",
    "    return arr, rejected"
   ]
  },
  {
   "cell_type": "code",
   "execution_count": 6,
   "id": "2d64a313",
   "metadata": {
    "ExecuteTime": {
     "end_time": "2022-12-07T20:57:37.871346Z",
     "start_time": "2022-12-07T20:57:37.857329Z"
    },
    "code_folding": [
     0
    ],
    "tags": []
   },
   "outputs": [],
   "source": [
    "def __get_fband_averages(_ff, _psds):\n",
    "\n",
    "    from functions.get_fband_average import __get_fband_average\n",
    "    from numpy import array\n",
    "\n",
    "    psds = []\n",
    "    for _n, _psd in enumerate(_psds):\n",
    "        out0 = __get_fband_average(_ff, _psd, faction_of_octave=12 , average=\"median\", plot=False)\n",
    "        psds.append(out0['psd_means'])\n",
    "\n",
    "    ff = out0['fcenter']\n",
    "    psds = array(psds)\n",
    "\n",
    "    return ff, psds"
   ]
  },
  {
   "cell_type": "code",
   "execution_count": 7,
   "id": "69272b3c-8e39-4654-bba5-dce0cc7e470d",
   "metadata": {
    "tags": []
   },
   "outputs": [],
   "source": [
    "def __load_data_files(path, name, d1, d2):\n",
    "\n",
    "    from numpy import array\n",
    "    from pandas import read_pickle, date_range\n",
    "\n",
    "    psds_all = []\n",
    "    for _i, day in enumerate(date_range(config['d1'], config['d2'])):\n",
    "\n",
    "        day = str(day).split(\" \")[0].replace(\"-\", \"\")\n",
    "\n",
    "        year = day[:4]\n",
    "\n",
    "        # filename = f\"{name}_3600_{day}_hourly.pkl\"\n",
    "        filename = f\"{name}_3600_{day}_hourly.pkl\"\n",
    "\n",
    "        if not os.path.isfile(path+filename):\n",
    "            print(f\" -> no such file: {filename}\")\n",
    "            continue\n",
    "\n",
    "        out = read_pickle(path+filename)\n",
    "        ff = out['frequencies']\n",
    "\n",
    "        psds_hourly = out['psd']\n",
    "        for psd in psds_hourly:\n",
    "            psds_all.append(psd)\n",
    "\n",
    "    return ff, array(psds_all)"
   ]
  },
  {
   "cell_type": "code",
   "execution_count": 8,
   "id": "5d7dc95f-d6e8-41d2-b062-ffd743b6908d",
   "metadata": {
    "tags": []
   },
   "outputs": [],
   "source": [
    "def __get_percentiles(arr, p_low=2.5, p_high=97.5):\n",
    "\n",
    "    from numpy import zeros, nanpercentile, shape, nan, array\n",
    "\n",
    "    percentiles_lower = zeros(shape(arr)[1])\n",
    "    percentiles_upper = zeros(shape(arr)[1])\n",
    "\n",
    "    arr[arr == 0] = nan\n",
    "\n",
    "    for kk in range(shape(arr)[1]):\n",
    "\n",
    "        out = nanpercentile(arr[:, kk],  [p_low, p_high])\n",
    "        percentiles_upper[kk] = out[1]\n",
    "        percentiles_lower[kk] = out[0]\n",
    "\n",
    "    return percentiles_lower, percentiles_upper"
   ]
  },
  {
   "cell_type": "code",
   "execution_count": 9,
   "id": "1bf09118-a2b4-45be-97fa-ab5aa912db08",
   "metadata": {
    "tags": []
   },
   "outputs": [],
   "source": [
    "# names = [\"ROMY/2023_ROMY_BJZ\", \"ROMY/2023_ROMY_BJN\", \"ROMY/2023_ROMY_BJE\"]\n",
    "names = [\"FUR/2023_FUR_BHZ\", \"FUR/2023_FUR_BHN\", \"FUR/2023_FUR_BHE\"]"
   ]
  },
  {
   "cell_type": "code",
   "execution_count": 10,
   "id": "4445c153-4ef4-497e-8989-100b3cfeaf0c",
   "metadata": {
    "tags": []
   },
   "outputs": [
    {
     "ename": "KeyboardInterrupt",
     "evalue": "",
     "output_type": "error",
     "traceback": [
      "\u001b[0;31m---------------------------------------------------------------------------\u001b[0m",
      "\u001b[0;31mKeyboardInterrupt\u001b[0m                         Traceback (most recent call last)",
      "Cell \u001b[0;32mIn[10], line 4\u001b[0m\n\u001b[1;32m      1\u001b[0m \u001b[38;5;66;03m## Data1 --------------------------\u001b[39;00m\n\u001b[1;32m      2\u001b[0m name \u001b[38;5;241m=\u001b[39m names[\u001b[38;5;241m0\u001b[39m]\n\u001b[0;32m----> 4\u001b[0m ff_1, psd_1 \u001b[38;5;241m=\u001b[39m \u001b[43m__load_data_files\u001b[49m\u001b[43m(\u001b[49m\u001b[43mconfig\u001b[49m\u001b[43m[\u001b[49m\u001b[38;5;124;43m'\u001b[39;49m\u001b[38;5;124;43mpath_to_data\u001b[39;49m\u001b[38;5;124;43m'\u001b[39;49m\u001b[43m]\u001b[49m\u001b[43m,\u001b[49m\u001b[43m \u001b[49m\u001b[43mname\u001b[49m\u001b[43m,\u001b[49m\u001b[43m \u001b[49m\u001b[43mconfig\u001b[49m\u001b[43m[\u001b[49m\u001b[38;5;124;43m'\u001b[39;49m\u001b[38;5;124;43md1\u001b[39;49m\u001b[38;5;124;43m'\u001b[39;49m\u001b[43m]\u001b[49m\u001b[43m,\u001b[49m\u001b[43m \u001b[49m\u001b[43mconfig\u001b[49m\u001b[43m[\u001b[49m\u001b[38;5;124;43m'\u001b[39;49m\u001b[38;5;124;43md2\u001b[39;49m\u001b[38;5;124;43m'\u001b[39;49m\u001b[43m]\u001b[49m\u001b[43m)\u001b[49m\n\u001b[1;32m      5\u001b[0m tt_1 \u001b[38;5;241m=\u001b[39m np\u001b[38;5;241m.\u001b[39marange(\u001b[38;5;241m0\u001b[39m, psd_1\u001b[38;5;241m.\u001b[39mshape[\u001b[38;5;241m0\u001b[39m], \u001b[38;5;241m1\u001b[39m)\n\u001b[1;32m      7\u001b[0m ff_1, psd_1 \u001b[38;5;241m=\u001b[39m __get_fband_averages(ff_1, psd_1)\n",
      "Cell \u001b[0;32mIn[7], line 20\u001b[0m, in \u001b[0;36m__load_data_files\u001b[0;34m(path, name, d1, d2)\u001b[0m\n\u001b[1;32m     17\u001b[0m     \u001b[38;5;28mprint\u001b[39m(\u001b[38;5;124mf\u001b[39m\u001b[38;5;124m\"\u001b[39m\u001b[38;5;124m -> no such file: \u001b[39m\u001b[38;5;132;01m{\u001b[39;00mfilename\u001b[38;5;132;01m}\u001b[39;00m\u001b[38;5;124m\"\u001b[39m)\n\u001b[1;32m     18\u001b[0m     \u001b[38;5;28;01mcontinue\u001b[39;00m\n\u001b[0;32m---> 20\u001b[0m out \u001b[38;5;241m=\u001b[39m \u001b[43mread_pickle\u001b[49m\u001b[43m(\u001b[49m\u001b[43mpath\u001b[49m\u001b[38;5;241;43m+\u001b[39;49m\u001b[43mfilename\u001b[49m\u001b[43m)\u001b[49m\n\u001b[1;32m     21\u001b[0m ff \u001b[38;5;241m=\u001b[39m out[\u001b[38;5;124m'\u001b[39m\u001b[38;5;124mfrequencies\u001b[39m\u001b[38;5;124m'\u001b[39m]\n\u001b[1;32m     23\u001b[0m psds_hourly \u001b[38;5;241m=\u001b[39m out[\u001b[38;5;124m'\u001b[39m\u001b[38;5;124mpsd\u001b[39m\u001b[38;5;124m'\u001b[39m]\n",
      "File \u001b[0;32m~/anaconda3/envs/obs2/lib/python3.10/site-packages/pandas/io/pickle.py:196\u001b[0m, in \u001b[0;36mread_pickle\u001b[0;34m(filepath_or_buffer, compression, storage_options)\u001b[0m\n\u001b[1;32m    193\u001b[0m     \u001b[38;5;28;01mwith\u001b[39;00m warnings\u001b[38;5;241m.\u001b[39mcatch_warnings(record\u001b[38;5;241m=\u001b[39m\u001b[38;5;28;01mTrue\u001b[39;00m):\n\u001b[1;32m    194\u001b[0m         \u001b[38;5;66;03m# We want to silence any warnings about, e.g. moved modules.\u001b[39;00m\n\u001b[1;32m    195\u001b[0m         warnings\u001b[38;5;241m.\u001b[39msimplefilter(\u001b[38;5;124m\"\u001b[39m\u001b[38;5;124mignore\u001b[39m\u001b[38;5;124m\"\u001b[39m, \u001b[38;5;167;01mWarning\u001b[39;00m)\n\u001b[0;32m--> 196\u001b[0m         \u001b[38;5;28;01mreturn\u001b[39;00m \u001b[43mpickle\u001b[49m\u001b[38;5;241;43m.\u001b[39;49m\u001b[43mload\u001b[49m\u001b[43m(\u001b[49m\u001b[43mhandles\u001b[49m\u001b[38;5;241;43m.\u001b[39;49m\u001b[43mhandle\u001b[49m\u001b[43m)\u001b[49m\n\u001b[1;32m    197\u001b[0m \u001b[38;5;28;01mexcept\u001b[39;00m excs_to_catch:\n\u001b[1;32m    198\u001b[0m     \u001b[38;5;66;03m# e.g.\u001b[39;00m\n\u001b[1;32m    199\u001b[0m     \u001b[38;5;66;03m#  \"No module named 'pandas.core.sparse.series'\"\u001b[39;00m\n\u001b[1;32m    200\u001b[0m     \u001b[38;5;66;03m#  \"Can't get attribute '__nat_unpickle' on <module 'pandas._libs.tslib\"\u001b[39;00m\n\u001b[1;32m    201\u001b[0m     \u001b[38;5;28;01mreturn\u001b[39;00m pc\u001b[38;5;241m.\u001b[39mload(handles\u001b[38;5;241m.\u001b[39mhandle, encoding\u001b[38;5;241m=\u001b[39m\u001b[38;5;28;01mNone\u001b[39;00m)\n",
      "\u001b[0;31mKeyboardInterrupt\u001b[0m: "
     ]
    }
   ],
   "source": [
    "## Data1 --------------------------\n",
    "name = names[0]\n",
    "\n",
    "ff_1, psd_1 = __load_data_files(config['path_to_data'], name, config['d1'], config['d2'])\n",
    "tt_1 = np.arange(0, psd_1.shape[0], 1)\n",
    "\n",
    "ff_1, psd_1 = __get_fband_averages(ff_1, psd_1)\n",
    "\n",
    "psd_1, rejected_1 = __replace_noisy_psds_with_nan(psd_1, threshold_mean=1e-15, ff=ff_1, flim=(0.002, 0.05))"
   ]
  },
  {
   "cell_type": "code",
   "execution_count": null,
   "id": "986fda77-734c-4a08-a9e2-8ada1b520644",
   "metadata": {
    "tags": []
   },
   "outputs": [],
   "source": [
    "## Data2 --------------------------\n",
    "name = names[1]\n",
    "\n",
    "ff_2, psd_2 = __load_data_files(config['path_to_data'], name, config['d1'], config['d2'])\n",
    "tt_2 = np.arange(0, psd_2.shape[0], 1)\n",
    "\n",
    "ff_2, psd_2 = __get_fband_averages(ff_2, psd_2)\n",
    "\n",
    "psd_2, rejected_2 = __replace_noisy_psds_with_nan(psd_2, threshold_mean=1e-15, ff=ff_2, flim=(0.002, 0.05))"
   ]
  },
  {
   "cell_type": "code",
   "execution_count": null,
   "id": "e5ea6e1c-ce39-4053-ae87-d73f87f26e8b",
   "metadata": {
    "tags": []
   },
   "outputs": [],
   "source": [
    "## Data3 --------------------------\n",
    "name = names[2]\n",
    "\n",
    "ff_3, psd_3 = __load_data_files(config['path_to_data'], name, config['d1'], config['d2'])\n",
    "tt_3 = np.arange(0, psd_3.shape[0], 1)\n",
    "\n",
    "ff_3, psd_3 = __get_fband_averages(ff_3, psd_3)\n",
    "\n",
    "psd_3, rejected_3 = __replace_noisy_psds_with_nan(psd_3, threshold_mean=1e-15, ff=ff_3, flim=(0.002, 0.05))"
   ]
  },
  {
   "cell_type": "markdown",
   "id": "65e6dee9-5d21-4ab6-a6b8-f5129ce7bd0e",
   "metadata": {
    "tags": []
   },
   "source": [
    "## Plot PSD Comparison"
   ]
  },
  {
   "cell_type": "code",
   "execution_count": null,
   "id": "c946ea18-2716-4c87-bb33-ed0ab60b8b1b",
   "metadata": {
    "tags": []
   },
   "outputs": [],
   "source": [
    "def __makeplot_image_overview(ff, psds, times, names):\n",
    "\n",
    "    from numpy import isnan, median, mean, std, array, zeros, nanmax, nanmin, shape, nanpercentile\n",
    "    from scipy.stats import median_abs_deviation as mad\n",
    "    from matplotlib import colors\n",
    "\n",
    "\n",
    "    ## convert frequencies to periods\n",
    "    # pp=[]\n",
    "    # for mm in range(len(ff)):\n",
    "    #     ppp = zeros(len(ff[mm]))\n",
    "    #     ppp = 1/ff[mm]\n",
    "    #     pp.append(ppp)\n",
    "    # pp[0] = 0\n",
    "\n",
    "    ## define colormap\n",
    "    cmap = plt.colormaps.get_cmap('viridis')\n",
    "    cmap.set_bad(color='lightgrey')\n",
    "#     cmap.set_under(color='black')\n",
    "#     cmap.set_over(color='white')\n",
    "\n",
    "    min0 = nanpercentile(psds[0].reshape(1, psds[0].size), 5)\n",
    "    max0 = nanpercentile(psds[0].reshape(1, psds[0].size), 95)\n",
    "\n",
    "\n",
    "    ##____________________________\n",
    "\n",
    "#     NN = 3\n",
    "    N = int(24*365)\n",
    "\n",
    "    font = 14\n",
    "\n",
    "    fig = plt.figure(constrained_layout=False, figsize=(15, 10))\n",
    "    widths = [6, 1]\n",
    "    heights = [1, 1, 1]\n",
    "\n",
    "    spec = fig.add_gridspec(ncols=2, nrows=3, width_ratios=widths, height_ratios=heights)\n",
    "\n",
    "    plt.subplots_adjust(hspace=0.15, wspace=0.02)\n",
    "\n",
    "    ax1_1 = fig.add_subplot(spec[0, 0])\n",
    "    ax1_2 = fig.add_subplot(spec[0, 1], sharey=ax1_1)\n",
    "    ax2_1 = fig.add_subplot(spec[1, 0], sharex=ax1_1)\n",
    "    ax2_2 = fig.add_subplot(spec[1, 1])\n",
    "    ax3_1 = fig.add_subplot(spec[2, 0], sharex=ax1_1)\n",
    "    ax3_2 = fig.add_subplot(spec[2, 1])\n",
    "\n",
    "    im1 = ax1_1.pcolormesh( times[0]/24, ff[0], psds[0].T,\n",
    "                            cmap=cmap,\n",
    "                            norm=colors.LogNorm(2e-24, 2e-18),\n",
    "                            rasterized=True,\n",
    "                            )\n",
    "    im2 = ax2_1.pcolormesh( times[1]/24, ff[1], psds[1].T,\n",
    "                            cmap=cmap,\n",
    "                            norm=colors.LogNorm(2e-24, 2e-18),\n",
    "                            rasterized=True,\n",
    "                            )\n",
    "    im3 = ax3_1.pcolormesh( times[2]/24, ff[2], psds[2].T,\n",
    "                            cmap=cmap,\n",
    "                            norm=colors.LogNorm(2e-24, 2e-18),\n",
    "                            rasterized=True,\n",
    "                            )\n",
    "\n",
    "    set_color = \"seagreen\"\n",
    "\n",
    "    perc_lower, perc_upper = __get_percentiles(psds[0], p_low=2.5, p_high=97.5)\n",
    "    ax1_2.fill_betweenx(ff[0], perc_lower, perc_upper, color=set_color, zorder=3, alpha=0.4, label=\"\")\n",
    "    ax1_2.plot(__get_median_psd(psds[0]), ff[0], color=set_color, zorder=3, alpha=0.9, label=\"Median\")\n",
    "\n",
    "    perc_lower, perc_upper = __get_percentiles(psds[1], p_low=2.5, p_high=97.5)\n",
    "    ax2_2.fill_betweenx(ff[1], perc_lower, perc_upper, color=set_color, zorder=3, alpha=0.4, label=\"\")\n",
    "    ax2_2.plot(__get_median_psd(psds[1]), ff[1], color=set_color, zorder=3, alpha=0.9, label=\"Median\")\n",
    "\n",
    "    perc_lower, perc_upper = __get_percentiles(psds[2], p_low=2.5, p_high=97.5)\n",
    "    ax3_2.fill_betweenx(ff[2], perc_lower, perc_upper, color=set_color, zorder=3, alpha=0.4, label=\"\")\n",
    "    ax3_2.plot(__get_median_psd(psds[2]), ff[2], color=set_color, zorder=3, alpha=0.9, label=\"Median\")\n",
    "\n",
    "\n",
    "    ax1_2.set_xlim(2e-24, 2e-18)\n",
    "    ax2_2.set_xlim(2e-24, 2e-18)\n",
    "    ax3_2.set_xlim(2e-24, 2e-18)\n",
    "\n",
    "    # ax3_2.set_xscale(\"log\")\n",
    "\n",
    "    plt.setp(ax1_1.get_xticklabels(), visible=False)\n",
    "    plt.setp(ax2_1.get_xticklabels(), visible=False)\n",
    "\n",
    "#     plt.setp(ax1_2.get_xticklabels(), visible=False)\n",
    "#     plt.setp(ax2_2.get_xticklabels(), visible=False)\n",
    "\n",
    "    plt.setp(ax1_2.get_yticklabels(), visible=False)\n",
    "    plt.setp(ax2_2.get_yticklabels(), visible=False)\n",
    "    plt.setp(ax3_2.get_yticklabels(), visible=False)\n",
    "\n",
    "\n",
    "\n",
    "\n",
    "    for ax in [ax1_1, ax1_2, ax2_1, ax2_2, ax3_1, ax3_2]:\n",
    "        ax.tick_params(labelsize=font-2)\n",
    "        ax.set_ylim(1e-2, 5e0)\n",
    "        ax.set_yscale(\"log\")\n",
    "\n",
    "    ax1_2.set_xscale(\"logit\")\n",
    "    ax2_2.set_xscale(\"logit\")\n",
    "    ax3_2.set_xscale(\"logit\")\n",
    "\n",
    "    ax3_1.set_xlabel(\"Time (days)\", fontsize=font, labelpad=1)\n",
    "    ax3_2.set_xlabel(\"PSD (rad$^2$/s$^2$/Hz)\", fontsize=font, labelpad=1)\n",
    "    # ax3_2.set_xlabel(r\"\", fontsize=font, labelpad=-1)\n",
    "\n",
    "    # new_ticks = [int(round(t/24, 0)) for t in ax3_1.get_xticks()]\n",
    "    # ax3_1.set_xticklabels(new_ticks)\n",
    "\n",
    "#     ## panel labels\n",
    "    ax1_1.text(-.08, .99, '(a)', ha='left', va='top', transform=ax1_1.transAxes, fontsize=font+2)\n",
    "    ax2_1.text(-.08, .99, '(b)', ha='left', va='top', transform=ax2_1.transAxes, fontsize=font+2)\n",
    "    ax3_1.text(-.08, .99, '(c)', ha='left', va='top', transform=ax3_1.transAxes, fontsize=font+2)\n",
    "\n",
    "#     ## data labels\n",
    "    ax1_1.text(.99, .97, f'{names[0]}', ha='right', va='top', transform=ax1_1.transAxes, fontsize=font)\n",
    "    ax2_1.text(.99, .97, f'{names[1]}', ha='right', va='top', transform=ax2_1.transAxes, fontsize=font)\n",
    "    ax3_1.text(.99, .97, f'{names[2]}', ha='right', va='top', transform=ax3_1.transAxes, fontsize=font)\n",
    "\n",
    "    ax1_1.set_ylabel(r\"Frequency (Hz)\", fontsize=font)\n",
    "    ax2_1.set_ylabel(r\"Frequency (Hz)\", fontsize=font)\n",
    "    ax3_1.set_ylabel(r\"Frequency (Hz)\", fontsize=font)\n",
    "\n",
    "#     ## set colorbar at bottom\n",
    "    cbar = fig.colorbar(im1, orientation='vertical', ax=ax1_2, pad=0.05, extend=\"both\")\n",
    "    cbar.set_label(r\"PSD (m$^2$/$s^4$/Hz)\", fontsize=font-2, labelpad=1)\n",
    "\n",
    "    cbar = fig.colorbar(im2, orientation='vertical', ax=ax2_2, pad=0.05, extend=\"both\")\n",
    "    cbar.set_label(r\"PSD (rad$^2$/s$^2$/Hz)\", fontsize=font-2, labelpad=1)\n",
    "\n",
    "    cbar = fig.colorbar(im3, orientation='vertical', ax=ax3_2, pad=0.05, extend=\"both\")\n",
    "    cbar.set_label(r\"PSD (rad$^2$/s$^2$/Hz)\", fontsize=font-2, labelpad=1)\n",
    "\n",
    "    plt.show();\n",
    "    return fig"
   ]
  },
  {
   "cell_type": "code",
   "execution_count": null,
   "id": "d0cb1a12-efc0-48d8-95c7-4d436dd648f1",
   "metadata": {
    "tags": []
   },
   "outputs": [],
   "source": [
    "labels = [f\"{n.split('_')[1]}.{n.split('_')[2]}\" for n in names]\n",
    "\n",
    "fig = __makeplot_image_overview(\n",
    "                                [ff_1, ff_2, ff_3],\n",
    "                                [psd_1, psd_2, psd_3],\n",
    "                                [tt_1, tt_2, tt_3],\n",
    "                                labels,\n",
    "                                )\n",
    "\n",
    "fig.savefig(config['path_to_figures']+f\"TimeSpectra_{labels[0].split('.')[0]}_PSD_{config['d1']}_{config['d2']}.png\", format=\"png\", dpi=150, bbox_inches='tight')\n"
   ]
  },
  {
   "cell_type": "code",
   "execution_count": null,
   "id": "6b187cf8-7392-4deb-a325-6a83a4c66ed2",
   "metadata": {},
   "outputs": [],
   "source": []
  },
  {
   "cell_type": "markdown",
   "id": "a2bf7eed-415c-4f22-b666-9afa97c94573",
   "metadata": {
    "tags": []
   },
   "source": [
    "## Plot RMS Comparison"
   ]
  },
  {
   "cell_type": "code",
   "execution_count": null,
   "id": "877a3e55-8424-4992-bf7d-5901a14cbe38",
   "metadata": {
    "tags": []
   },
   "outputs": [],
   "source": [
    "def __get_rms(arr, ff):\n",
    "\n",
    "    from numpy import zeros, shape, sqrt, nan, array\n",
    "    from tqdm.notebook import tqdm\n",
    "\n",
    "    rms = zeros(shape(arr))\n",
    "\n",
    "    for ii, psd in enumerate(tqdm(arr)):\n",
    "\n",
    "        rms_row = zeros(psd.size)\n",
    "        for jj in range(psd.size):\n",
    "            try:\n",
    "                rms_row[jj] = sqrt(abs(psd[jj+1] - psd[jj]) * (ff[jj+1] - ff[jj]))\n",
    "            except:\n",
    "                rms_row[jj] = nan\n",
    "\n",
    "        rms[ii] = array(rms_row)\n",
    "\n",
    "    return rms"
   ]
  },
  {
   "cell_type": "code",
   "execution_count": null,
   "id": "60a6c02d-f9bc-47c6-87d7-f33e1a48790a",
   "metadata": {
    "tags": []
   },
   "outputs": [],
   "source": [
    "rms_romy = __get_rms(psd_romy, ff_romy)\n",
    "rms_rlas = __get_rms(psd_rlas, ff_rlas)\n",
    "\n",
    "rms_ratio = np.divide(rms_rlas, rms_romy) * 100\n"
   ]
  },
  {
   "cell_type": "code",
   "execution_count": null,
   "id": "0fb82436-0972-4fbf-a20e-7095aabd3685",
   "metadata": {
    "tags": []
   },
   "outputs": [],
   "source": [
    "def __makeplot_image_overview_RMS(ff, psds, times, names):\n",
    "\n",
    "    from numpy import isnan, median, mean, std, array, zeros, nanmax, nanmin, shape, nanpercentile\n",
    "    from scipy.stats import median_abs_deviation as mad\n",
    "    from matplotlib import colors\n",
    "\n",
    "\n",
    "    ## convert frequencies to periods\n",
    "    # pp=[]\n",
    "    # for mm in range(len(ff)):\n",
    "    #     ppp = zeros(len(ff[mm]))\n",
    "    #     ppp = 1/ff[mm]\n",
    "    #     pp.append(ppp)\n",
    "    # pp[0] = 0\n",
    "\n",
    "    ## define colormap\n",
    "    cmap = plt.colormaps.get_cmap('viridis')\n",
    "    cmap.set_bad(color='lightgrey')\n",
    "#     cmap.set_under(color='black')\n",
    "#     cmap.set_over(color='white')\n",
    "\n",
    "    min0 = nanpercentile(psds[0].reshape(1, psds[0].size), 5)\n",
    "    max0 = nanpercentile(psds[0].reshape(1, psds[0].size), 95)\n",
    "\n",
    "\n",
    "    ##____________________________\n",
    "\n",
    "#     NN = 3\n",
    "    N = int(24*365)\n",
    "\n",
    "    font = 14\n",
    "\n",
    "    fig = plt.figure(constrained_layout=False, figsize=(15, 10))\n",
    "    widths = [6, 1]\n",
    "    heights = [1, 1, 1]\n",
    "\n",
    "    spec = fig.add_gridspec(ncols=2, nrows=3, width_ratios=widths, height_ratios=heights)\n",
    "\n",
    "    plt.subplots_adjust(hspace=0.15, wspace=0.02)\n",
    "\n",
    "    ax1_1 = fig.add_subplot(spec[0, 0])\n",
    "    ax1_2 = fig.add_subplot(spec[0, 1], sharey=ax1_1)\n",
    "    ax2_1 = fig.add_subplot(spec[1, 0], sharex=ax1_1)\n",
    "    ax2_2 = fig.add_subplot(spec[1, 1])\n",
    "    ax3_1 = fig.add_subplot(spec[2, 0], sharex=ax1_1)\n",
    "    ax3_2 = fig.add_subplot(spec[2, 1])\n",
    "\n",
    "    im1 = ax1_1.pcolormesh( times[0]/24, ff[0], psds[0].T,\n",
    "                            cmap=cmap,\n",
    "                            norm=colors.LogNorm(1e-14, 1e-9),\n",
    "                            rasterized=True,\n",
    "                            )\n",
    "    im2 = ax2_1.pcolormesh( times[1]/24, ff[1], psds[1].T,\n",
    "                            cmap=cmap,\n",
    "                            norm=colors.LogNorm(1e-14, 1e-9),\n",
    "                            rasterized=True,\n",
    "                            )\n",
    "    im3 = ax3_1.pcolormesh( times[2]/24, ff[2], psds[2].T,\n",
    "                            cmap=plt.colormaps.get_cmap('magma'),\n",
    "                            vmax=+100,\n",
    "                            vmin=0,\n",
    "                            rasterized=True,\n",
    "                            # norm=colors.LogNorm(),\n",
    "                            )\n",
    "\n",
    "    set_color = \"seagreen\"\n",
    "\n",
    "    perc_lower, perc_upper = __get_percentiles((psds[0]))\n",
    "    ax1_2.fill_betweenx(ff[0], perc_lower, perc_upper, color=set_color, zorder=3, alpha=0.4, label=\"\")\n",
    "    ax1_2.plot(__get_median_psd(psds[0]), ff[0], color=set_color, zorder=3, alpha=0.9, label=\"Median\")\n",
    "\n",
    "    perc_lower, perc_upper = __get_percentiles((psds[1]))\n",
    "    ax2_2.fill_betweenx(ff[1], perc_lower, perc_upper, color=set_color, zorder=3, alpha=0.4, label=\"\")\n",
    "    ax2_2.plot(__get_median_psd(psds[1]), ff[1], color=set_color, zorder=3, alpha=0.9, label=\"Median\")\n",
    "\n",
    "    perc_lower, perc_upper = __get_percentiles((psds[2]))\n",
    "    ax3_2.fill_betweenx(ff[2], perc_lower, perc_upper, color='grey', zorder=3, alpha=0.4, label=\"\")\n",
    "    ax3_2.plot(__get_median_psd(psds[2]), ff[2], color='black', zorder=3, alpha=0.9, label=\"Median\")\n",
    "\n",
    "    ax1_2.set_xlim(1e-14, 1e-9)\n",
    "    ax2_2.set_xlim(1e-14, 1e-9)\n",
    "    ax3_2.set_xlim(0, 100)\n",
    "\n",
    "    # ax3_2.set_xscale(\"log\")\n",
    "\n",
    "    plt.setp(ax1_1.get_xticklabels(), visible=False)\n",
    "    plt.setp(ax2_1.get_xticklabels(), visible=False)\n",
    "\n",
    "#     plt.setp(ax1_2.get_xticklabels(), visible=False)\n",
    "#     plt.setp(ax2_2.get_xticklabels(), visible=False)\n",
    "\n",
    "    plt.setp(ax1_2.get_yticklabels(), visible=False)\n",
    "    plt.setp(ax2_2.get_yticklabels(), visible=False)\n",
    "    plt.setp(ax3_2.get_yticklabels(), visible=False)\n",
    "\n",
    "\n",
    "\n",
    "\n",
    "    for ax in [ax1_1, ax1_2, ax2_1, ax2_2, ax3_1, ax3_2]:\n",
    "        ax.tick_params(labelsize=font-2)\n",
    "        ax.set_ylim(1e-2, 5e0)\n",
    "        ax.set_yscale(\"log\")\n",
    "\n",
    "    ax1_2.set_xscale(\"logit\")\n",
    "    ax2_2.set_xscale(\"logit\")\n",
    "\n",
    "    ax3_1.set_xlabel(\"Time (days)\", fontsize=font, labelpad=1)\n",
    "    ax3_2.set_xlabel(r\"\", fontsize=font, labelpad=-1)\n",
    "\n",
    "    # new_ticks = [int(round(t/24, 0)) for t in ax3_1.get_xticks()]\n",
    "    # ax3_1.set_xticklabels(new_ticks)\n",
    "\n",
    "#     ## panel labels\n",
    "    ax1_1.text(-.08, .99, '(a)', ha='left', va='top', transform=ax1_1.transAxes, fontsize=font+2)\n",
    "    ax2_1.text(-.08, .99, '(b)', ha='left', va='top', transform=ax2_1.transAxes, fontsize=font+2)\n",
    "    ax3_1.text(-.08, .99, '(c)', ha='left', va='top', transform=ax3_1.transAxes, fontsize=font+2)\n",
    "\n",
    "#     ## data labels\n",
    "    ax1_1.text(.99, .97, f'{names[0]}', ha='right', va='top', transform=ax1_1.transAxes, fontsize=font)\n",
    "    ax2_1.text(.99, .97, f'{names[1]}', ha='right', va='top', transform=ax2_1.transAxes, fontsize=font)\n",
    "    ax3_1.text(.99, .97, f'{names[2]}', ha='right', va='top', transform=ax3_1.transAxes, fontsize=font)\n",
    "\n",
    "    ax1_1.set_ylabel(r\"Frequency (Hz)\", fontsize=font)\n",
    "    ax2_1.set_ylabel(r\"Frequency (Hz)\", fontsize=font)\n",
    "    ax3_1.set_ylabel(r\"Frequency (Hz)\", fontsize=font)\n",
    "\n",
    "#     ## set colorbar at bottom\n",
    "    cbar = fig.colorbar(im1, orientation='vertical', ax=ax1_2, pad=0.05, extend=\"both\")\n",
    "    cbar.set_label(r\"RMS (m/$s^2$)\", fontsize=font-2, labelpad=1)\n",
    "\n",
    "    cbar = fig.colorbar(im2, orientation='vertical', ax=ax2_2, pad=0.05, extend=\"both\")\n",
    "    cbar.set_label(r\"RMS (rad/s)\", fontsize=font-2, labelpad=1)\n",
    "\n",
    "    cbar = fig.colorbar(im3, orientation='vertical', ax=ax3_2, pad=0.05, extend=\"max\")\n",
    "    cbar.set_label(r\"Ratio (%)\", fontsize=font-2, labelpad=1)\n",
    "\n",
    "    plt.show();\n",
    "    return fig"
   ]
  },
  {
   "cell_type": "code",
   "execution_count": null,
   "id": "3a56b82d-3cf2-4cfe-a822-bda18566ce7a",
   "metadata": {
    "tags": []
   },
   "outputs": [],
   "source": [
    "fig = __makeplot_image_overview_RMS(\n",
    "                                    [ff_romy, ff_rlas, ff_ratio],\n",
    "                                    [rms_romy, rms_rlas, rms_ratio],\n",
    "                                    [tt_romy, tt_rlas, tt_ratio],\n",
    "                                    [\"ROMY-Z\", \"RLAS-Z\", \"RLAS/ROMY\"],\n",
    "                                    )\n",
    "\n",
    "fig.savefig(config['path_to_figures']+f\"TimeOverview_RLAS_ROMY_RMS_{config['d1']}_{config['d2']}.png\", format=\"png\", dpi=150, bbox_inches='tight')\n"
   ]
  },
  {
   "cell_type": "code",
   "execution_count": null,
   "id": "f0ef98fc",
   "metadata": {},
   "outputs": [],
   "source": []
  },
  {
   "cell_type": "code",
   "execution_count": null,
   "id": "4e4325d4",
   "metadata": {},
   "outputs": [],
   "source": []
  }
 ],
 "metadata": {
  "kernelspec": {
   "display_name": "Python 3 (ipykernel)",
   "language": "python",
   "name": "python3"
  },
  "language_info": {
   "codemirror_mode": {
    "name": "ipython",
    "version": 3
   },
   "file_extension": ".py",
   "mimetype": "text/x-python",
   "name": "python",
   "nbconvert_exporter": "python",
   "pygments_lexer": "ipython3",
   "version": "3.10.12"
  },
  "latex_envs": {
   "LaTeX_envs_menu_present": true,
   "autoclose": false,
   "autocomplete": true,
   "bibliofile": "biblio.bib",
   "cite_by": "apalike",
   "current_citInitial": 1,
   "eqLabelWithNumbers": true,
   "eqNumInitial": 1,
   "hotkeys": {
    "equation": "Ctrl-E",
    "itemize": "Ctrl-I"
   },
   "labels_anchors": false,
   "latex_user_defs": false,
   "report_style_numbering": false,
   "user_envs_cfg": false
  },
  "toc": {
   "base_numbering": 1,
   "nav_menu": {},
   "number_sections": true,
   "sideBar": true,
   "skip_h1_title": false,
   "title_cell": "Table of Contents",
   "title_sidebar": "Contents",
   "toc_cell": false,
   "toc_position": {},
   "toc_section_display": true,
   "toc_window_display": false
  }
 },
 "nbformat": 4,
 "nbformat_minor": 5
}
