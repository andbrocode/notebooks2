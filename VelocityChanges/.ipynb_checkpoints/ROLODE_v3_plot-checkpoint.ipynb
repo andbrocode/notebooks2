{
 "cells": [
  {
   "cell_type": "code",
   "execution_count": 1,
   "metadata": {
    "tags": []
   },
   "outputs": [],
   "source": [
    "#!/usr/bin/env python\n",
    "#\n",
    "#  Author: Andreas Brotzer (2024)\n",
    "# -------------------------------------------------------------------------"
   ]
  },
  {
   "cell_type": "code",
   "execution_count": 1,
   "metadata": {
    "tags": []
   },
   "outputs": [],
   "source": [
    "import os\n",
    "import yaml\n",
    "import matplotlib.pyplot as plt\n",
    "\n",
    "from obspy import UTCDateTime\n",
    "from pandas import read_csv\n"
   ]
  },
  {
   "cell_type": "code",
   "execution_count": 2,
   "metadata": {
    "tags": []
   },
   "outputs": [],
   "source": [
    "sta = \"VROMY\"\n",
    "\n",
    "tbeg = \"2024-02-25\"\n",
    "tend = \"2024-02-28\"\n",
    "\n",
    "tbeg = \"2023-09-08\"\n",
    "tend = \"2023-09-09\"\n",
    "\n",
    "rpath = \"/import/kilauea-data/\"\n",
    "rpath = \"/home/andbro/kilauea-data/\"\n",
    "\n",
    "path_to_conf = rpath+\"VelocityChanges/data/VROMY/sds/\"\n",
    "\n",
    "path = rpath+\"VelocityChanges/data/VROMY/ROLODE/VROMY_HH/\"\n",
    "\n",
    "path_to_figs = rpath+\"VelocityChanges/figures/\"\n",
    "\n",
    "name = f\"{sta}_{UTCDateTime(tbeg).date}_{UTCDateTime(tend).date}\"\n",
    "\n",
    "col_names = [\"frequency\", \"mean\", \"std\", \"mode\", \"median\"]\n"
   ]
  },
  {
   "cell_type": "code",
   "execution_count": 3,
   "metadata": {
    "tags": []
   },
   "outputs": [],
   "source": [
    "# with open(path_to_conf+f\"{name}_config.yml\", 'r') as _file:\n",
    "#     config = yaml.safe_load(_file)"
   ]
  },
  {
   "cell_type": "code",
   "execution_count": 7,
   "metadata": {
    "tags": []
   },
   "outputs": [],
   "source": [
    "df_love = read_csv(path+f\"{name}-Love/\"+\"results.csv\", delimiter=\",\", header=0, names=col_names)\n",
    "\n",
    "# df_rayl = read_csv(path+f\"{name}-Rayleigh/\"+\"results.csv\", delimiter=\",\", header=0, names=col_names)\n"
   ]
  },
  {
   "cell_type": "code",
   "execution_count": 1,
   "metadata": {
    "tags": []
   },
   "outputs": [
    {
     "ename": "NameError",
     "evalue": "name 'df_love' is not defined",
     "output_type": "error",
     "traceback": [
      "\u001b[0;31m---------------------------------------------------------------------------\u001b[0m",
      "\u001b[0;31mNameError\u001b[0m                                 Traceback (most recent call last)",
      "Cell \u001b[0;32mIn[1], line 33\u001b[0m\n\u001b[1;32m     30\u001b[0m     plt\u001b[38;5;241m.\u001b[39mshow();\n\u001b[1;32m     31\u001b[0m     \u001b[38;5;28;01mreturn\u001b[39;00m fig\n\u001b[0;32m---> 33\u001b[0m fig \u001b[38;5;241m=\u001b[39m \u001b[43m__makeplot\u001b[49m\u001b[43m(\u001b[49m\u001b[43m)\u001b[49m;\n\u001b[1;32m     35\u001b[0m fig\u001b[38;5;241m.\u001b[39msavefig(path_to_figs\u001b[38;5;241m+\u001b[39m\u001b[38;5;124mf\u001b[39m\u001b[38;5;124m\"\u001b[39m\u001b[38;5;124mDispersion_\u001b[39m\u001b[38;5;132;01m{\u001b[39;00mtbeg\u001b[38;5;132;01m}\u001b[39;00m\u001b[38;5;124m_\u001b[39m\u001b[38;5;132;01m{\u001b[39;00mtend\u001b[38;5;132;01m}\u001b[39;00m\u001b[38;5;124m.png\u001b[39m\u001b[38;5;124m\"\u001b[39m, \u001b[38;5;28mformat\u001b[39m\u001b[38;5;241m=\u001b[39m\u001b[38;5;124m\"\u001b[39m\u001b[38;5;124mpng\u001b[39m\u001b[38;5;124m\"\u001b[39m, dpi\u001b[38;5;241m=\u001b[39m\u001b[38;5;241m150\u001b[39m, bbox_inches\u001b[38;5;241m=\u001b[39m\u001b[38;5;124m'\u001b[39m\u001b[38;5;124mtight\u001b[39m\u001b[38;5;124m'\u001b[39m)\n",
      "Cell \u001b[0;32mIn[1], line 13\u001b[0m, in \u001b[0;36m__makeplot\u001b[0;34m()\u001b[0m\n\u001b[1;32m      9\u001b[0m fig, ax \u001b[38;5;241m=\u001b[39m plt\u001b[38;5;241m.\u001b[39msubplots(Nrow, Ncol, figsize\u001b[38;5;241m=\u001b[39m(\u001b[38;5;241m12\u001b[39m, \u001b[38;5;241m5\u001b[39m), sharex\u001b[38;5;241m=\u001b[39m\u001b[38;5;28;01mTrue\u001b[39;00m)\n\u001b[1;32m     11\u001b[0m plt\u001b[38;5;241m.\u001b[39msubplots_adjust(hspace\u001b[38;5;241m=\u001b[39m\u001b[38;5;241m0.1\u001b[39m)\n\u001b[0;32m---> 13\u001b[0m ax\u001b[38;5;241m.\u001b[39merrorbar(\u001b[43mdf_love\u001b[49m[\u001b[38;5;124m'\u001b[39m\u001b[38;5;124mfrequency\u001b[39m\u001b[38;5;124m'\u001b[39m], df_love[\u001b[38;5;124m'\u001b[39m\u001b[38;5;124mmean\u001b[39m\u001b[38;5;124m'\u001b[39m], yerr\u001b[38;5;241m=\u001b[39mdf_love[\u001b[38;5;124m'\u001b[39m\u001b[38;5;124mstd\u001b[39m\u001b[38;5;124m'\u001b[39m],\n\u001b[1;32m     14\u001b[0m             ls\u001b[38;5;241m=\u001b[39m\u001b[38;5;124m\"\u001b[39m\u001b[38;5;124m--\u001b[39m\u001b[38;5;124m\"\u001b[39m, ms\u001b[38;5;241m=\u001b[39m\u001b[38;5;241m5\u001b[39m, marker\u001b[38;5;241m=\u001b[39m\u001b[38;5;124m\"\u001b[39m\u001b[38;5;124mo\u001b[39m\u001b[38;5;124m\"\u001b[39m, label\u001b[38;5;241m=\u001b[39m\u001b[38;5;124m\"\u001b[39m\u001b[38;5;124mLove\u001b[39m\u001b[38;5;124m\"\u001b[39m, ecolor\u001b[38;5;241m=\u001b[39m\u001b[38;5;124m\"\u001b[39m\u001b[38;5;124mk\u001b[39m\u001b[38;5;124m\"\u001b[39m, markerfacecolor\u001b[38;5;241m=\u001b[39m\u001b[38;5;124m\"\u001b[39m\u001b[38;5;124mw\u001b[39m\u001b[38;5;124m\"\u001b[39m)\n\u001b[1;32m     15\u001b[0m \u001b[38;5;66;03m# ax.errorbar(df_rayl['frequency'], df_rayl['mean'], yerr=df_rayl['std'],\u001b[39;00m\n\u001b[1;32m     16\u001b[0m \u001b[38;5;66;03m#             ls=\"--\", ms=5, marker=\"o\", label=\"Rayleigh\", ecolor=\"k\", markerfacecolor=\"w\")\u001b[39;00m\n\u001b[1;32m     17\u001b[0m \n\u001b[1;32m     18\u001b[0m \u001b[38;5;66;03m# ax.set_xscale(\"log\")\u001b[39;00m\n\u001b[1;32m     19\u001b[0m \n\u001b[1;32m     20\u001b[0m \u001b[38;5;66;03m# ax.set_ylim(0, 1.1*max(max(df_love['mean']), max(df_rayl['mean'])))\u001b[39;00m\n\u001b[1;32m     22\u001b[0m ax\u001b[38;5;241m.\u001b[39mgrid(which\u001b[38;5;241m=\u001b[39m\u001b[38;5;124m\"\u001b[39m\u001b[38;5;124mboth\u001b[39m\u001b[38;5;124m\"\u001b[39m, ls\u001b[38;5;241m=\u001b[39m\u001b[38;5;124m\"\u001b[39m\u001b[38;5;124m--\u001b[39m\u001b[38;5;124m\"\u001b[39m, color\u001b[38;5;241m=\u001b[39m\u001b[38;5;124m\"\u001b[39m\u001b[38;5;124mgrey\u001b[39m\u001b[38;5;124m\"\u001b[39m, alpha\u001b[38;5;241m=\u001b[39m\u001b[38;5;241m0.5\u001b[39m, zorder\u001b[38;5;241m=\u001b[39m\u001b[38;5;241m0\u001b[39m)\n",
      "\u001b[0;31mNameError\u001b[0m: name 'df_love' is not defined"
     ]
    },
    {
     "data": {
      "image/png": "[encoded data removed]",
      "text/plain": [
       "<Figure size 1200x500 with 1 Axes>"
      ]
     },
     "metadata": {},
     "output_type": "display_data"
    }
   ],
   "source": [
    "def __makeplot():\n",
    "\n",
    "    import matplotlib.pyplot as plt\n",
    "\n",
    "    Nrow, Ncol = 1, 1\n",
    "\n",
    "    font = 12\n",
    "\n",
    "    fig, ax = plt.subplots(Nrow, Ncol, figsize=(12, 5), sharex=True)\n",
    "\n",
    "    plt.subplots_adjust(hspace=0.1)\n",
    "\n",
    "    ax.errorbar(df_love['frequency'], df_love['mean'], yerr=df_love['std'],\n",
    "                ls=\"--\", ms=5, marker=\"o\", label=\"Love\", ecolor=\"k\", markerfacecolor=\"w\")\n",
    "    # ax.errorbar(df_rayl['frequency'], df_rayl['mean'], yerr=df_rayl['std'],\n",
    "    #             ls=\"--\", ms=5, marker=\"o\", label=\"Rayleigh\", ecolor=\"k\", markerfacecolor=\"w\")\n",
    "\n",
    "    ax.set_xscale(\"log\")\n",
    "\n",
    "    # ax.set_ylim(0, 1.1*max(max(df_love['mean']), max(df_rayl['mean'])))\n",
    "\n",
    "    ax.grid(which=\"both\", ls=\"--\", color=\"grey\", alpha=0.5, zorder=0)\n",
    "\n",
    "    ax.legend(loc=1)\n",
    "\n",
    "    ax.set_ylabel(\"Phase Velocity (m/s)\", fontsize=font)\n",
    "    ax.set_xlabel(\"Frequency (Hz)\", fontsize=font)\n",
    "    ax.set_title(\"Dispersion Curves for ROMY\", fontsize=font+1)\n",
    "\n",
    "    plt.show();\n",
    "    return fig\n",
    "\n",
    "fig = __makeplot();\n",
    "\n",
    "fig.savefig(path_to_figs+f\"Dispersion_{tbeg}_{tend}.png\", format=\"png\", dpi=150, bbox_inches='tight')\n"
   ]
  },
  {
   "cell_type": "code",
   "execution_count": null,
   "metadata": {},
   "outputs": [],
   "source": []
  },
  {
   "cell_type": "code",
   "execution_count": null,
   "metadata": {},
   "outputs": [],
   "source": []
  },
  {
   "cell_type": "code",
   "execution_count": null,
   "metadata": {},
   "outputs": [],
   "source": []
  },
  {
   "cell_type": "code",
   "execution_count": null,
   "metadata": {},
   "outputs": [],
   "source": []
  }
 ],
 "metadata": {
  "kernelspec": {
   "display_name": "Python 3 (ipykernel)",
   "language": "python",
   "name": "python3"
  },
  "language_info": {
   "codemirror_mode": {
    "name": "ipython",
    "version": 3
   },
   "file_extension": ".py",
   "mimetype": "text/x-python",
   "name": "python",
   "nbconvert_exporter": "python",
   "pygments_lexer": "ipython3",
   "version": "3.10.12"
  }
 },
 "nbformat": 4,
 "nbformat_minor": 4
}
