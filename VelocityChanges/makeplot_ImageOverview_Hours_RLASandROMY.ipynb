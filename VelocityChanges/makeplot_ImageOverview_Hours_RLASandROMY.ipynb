{
 "cells": [
  {
   "cell_type": "markdown",
   "id": "eda030d3",
   "metadata": {},
   "source": [
    "# Analyse Velocity Changes for ROMY  & RLAS\n"
   ]
  },
  {
   "cell_type": "code",
   "execution_count": null,
   "id": "b472db4e",
   "metadata": {},
   "outputs": [],
   "source": []
  },
  {
   "cell_type": "markdown",
   "id": "protected-presentation",
   "metadata": {},
   "source": [
    "## Load Libraries"
   ]
  },
  {
   "cell_type": "code",
   "execution_count": 1,
   "id": "behind-arrangement",
   "metadata": {
    "ExecuteTime": {
     "end_time": "2022-12-07T20:57:37.692138Z",
     "start_time": "2022-12-07T20:57:33.456159Z"
    }
   },
   "outputs": [
    {
     "ename": "ImportError",
     "evalue": "cannot import name 'median_absolute_deviation' from 'scipy.stats' (/home/brotzer/anaconda3/envs/obs2/lib/python3.9/site-packages/scipy/stats/__init__.py)",
     "output_type": "error",
     "traceback": [
      "\u001b[0;31m---------------------------------------------------------------------------\u001b[0m",
      "\u001b[0;31mImportError\u001b[0m                               Traceback (most recent call last)",
      "Cell \u001b[0;32mIn[1], line 10\u001b[0m\n\u001b[1;32m      8\u001b[0m \u001b[38;5;28;01mfrom\u001b[39;00m \u001b[38;5;21;01mtqdm\u001b[39;00m \u001b[38;5;28;01mimport\u001b[39;00m tqdm_notebook\n\u001b[1;32m      9\u001b[0m \u001b[38;5;28;01mfrom\u001b[39;00m \u001b[38;5;21;01mpathlib\u001b[39;00m \u001b[38;5;28;01mimport\u001b[39;00m Path\n\u001b[0;32m---> 10\u001b[0m \u001b[38;5;28;01mfrom\u001b[39;00m \u001b[38;5;21;01mscipy\u001b[39;00m\u001b[38;5;21;01m.\u001b[39;00m\u001b[38;5;21;01mstats\u001b[39;00m \u001b[38;5;28;01mimport\u001b[39;00m median_absolute_deviation \u001b[38;5;28;01mas\u001b[39;00m mad\n\u001b[1;32m     11\u001b[0m \u001b[38;5;28;01mfrom\u001b[39;00m \u001b[38;5;21;01mscipy\u001b[39;00m\u001b[38;5;21;01m.\u001b[39;00m\u001b[38;5;21;01msignal\u001b[39;00m \u001b[38;5;28;01mimport\u001b[39;00m welch\n\u001b[1;32m     13\u001b[0m \u001b[38;5;28;01mimport\u001b[39;00m \u001b[38;5;21;01mos\u001b[39;00m\n",
      "\u001b[0;31mImportError\u001b[0m: cannot import name 'median_absolute_deviation' from 'scipy.stats' (/home/brotzer/anaconda3/envs/obs2/lib/python3.9/site-packages/scipy/stats/__init__.py)"
     ]
    }
   ],
   "source": [
    "from andbro__querrySeismoData import __querrySeismoData\n",
    "from andbro__savefig import __savefig\n",
    "\n",
    "from obspy import UTCDateTime\n",
    "from numpy import log10, zeros, pi, append, linspace, mean, median, array, where, transpose, shape, histogram, arange\n",
    "from numpy import logspace, linspace, log, log10, isinf, ones, nan, count_nonzero, sqrt, isnan\n",
    "from pandas import DataFrame, concat, Series, date_range, read_csv, read_pickle\n",
    "from tqdm import tqdm_notebook\n",
    "from pathlib import Path\n",
    "from scipy.stats import median_absolute_deviation as mad\n",
    "from scipy.signal import welch\n",
    "\n",
    "import os\n",
    "import pickle\n",
    "import matplotlib.pyplot as plt"
   ]
  },
  {
   "cell_type": "code",
   "execution_count": null,
   "id": "cfe860f0",
   "metadata": {
    "ExecuteTime": {
     "end_time": "2022-12-07T20:57:37.695282Z",
     "start_time": "2022-12-07T20:57:37.693252Z"
    }
   },
   "outputs": [],
   "source": [
    "if os.uname().nodename == \"lighthouse\":\n",
    "    root_path = \"/home/andbro/kilauea-data/\"\n",
    "elif os.uname().nodename == \"kilauea\":\n",
    "    root_path = \"/import/kilauea-data/\""
   ]
  },
  {
   "cell_type": "code",
   "execution_count": null,
   "id": "e4858b93",
   "metadata": {
    "ExecuteTime": {
     "end_time": "2022-12-07T20:57:37.713377Z",
     "start_time": "2022-12-07T20:57:37.696324Z"
    },
    "code_folding": [
     0
    ]
   },
   "outputs": [],
   "source": [
    "def __get_minimal_psd(psds):\n",
    "\n",
    "    from numpy import nanmin, array, nonzero\n",
    "    \n",
    "    min_psd = zeros(psds.shape[1])\n",
    "    \n",
    "    for f in range(psds.shape[1]):\n",
    "        a = psds[:,f]\n",
    "        min_psd[f] = nanmin(a[nonzero(a)])\n",
    "    \n",
    "    return min_psd"
   ]
  },
  {
   "cell_type": "code",
   "execution_count": null,
   "id": "d377053c",
   "metadata": {
    "ExecuteTime": {
     "end_time": "2022-12-07T20:57:37.731475Z",
     "start_time": "2022-12-07T20:57:37.714343Z"
    },
    "code_folding": [
     0
    ]
   },
   "outputs": [],
   "source": [
    "def __get_median_psd(psds):\n",
    "\n",
    "    from numpy import nanmedian, zeros, isnan\n",
    "\n",
    "    med_psd = zeros(psds.shape[1])\n",
    "\n",
    "    for f in range(psds.shape[1]):\n",
    "        a = psds[:,f]\n",
    "        med_psd[f] = nanmedian(a[~isnan(a)])\n",
    "\n",
    "    return med_psd"
   ]
  },
  {
   "cell_type": "code",
   "execution_count": null,
   "id": "8faa83d9",
   "metadata": {
    "ExecuteTime": {
     "end_time": "2022-12-07T20:57:37.747985Z",
     "start_time": "2022-12-07T20:57:37.732386Z"
    },
    "code_folding": [
     0
    ]
   },
   "outputs": [],
   "source": [
    "def __get_mean_psd(psds):\n",
    "\n",
    "    from numpy import mean, zeros, isnan\n",
    "\n",
    "    mean_psd = zeros(psds.shape[1])\n",
    "\n",
    "    for f in range(psds.shape[1]):\n",
    "        a = psds[:,f]\n",
    "        mean_psd[f] = mean(a[~isnan(a)])\n",
    "\n",
    "    return mean_psd"
   ]
  },
  {
   "cell_type": "code",
   "execution_count": null,
   "id": "af6a3772",
   "metadata": {
    "ExecuteTime": {
     "end_time": "2022-12-07T20:57:37.765969Z",
     "start_time": "2022-12-07T20:57:37.748992Z"
    },
    "code_folding": [
     0
    ]
   },
   "outputs": [],
   "source": [
    "def __get_minimum_psd(psds):\n",
    "            \n",
    "    for i, psd in enumerate(psds):\n",
    "        if i == 0: \n",
    "            lowest_value = psd.sum()\n",
    "            idx = 0\n",
    "\n",
    "        value = psd.sum() \n",
    "        \n",
    "        if value < lowest_value and value != 0:\n",
    "            lowest_value = value\n",
    "            idx = i   \n",
    "    \n",
    "    return psds[idx]"
   ]
  },
  {
   "cell_type": "code",
   "execution_count": null,
   "id": "fe2e4201",
   "metadata": {
    "ExecuteTime": {
     "end_time": "2022-12-07T20:57:37.783213Z",
     "start_time": "2022-12-07T20:57:37.766987Z"
    },
    "code_folding": [
     0
    ]
   },
   "outputs": [],
   "source": [
    "def __load_psds(file, config):\n",
    "\n",
    "    ## get data to dataframe and transpose and reindex\n",
    "    df = read_csv(file, index_col=False)\n",
    "    df = df.transpose()\n",
    "    df.reset_index(inplace=True)\n",
    "    # df.dtypes\n",
    "    # df.mean()\n",
    "\n",
    "    ## set column names\n",
    "    try:\n",
    "        columns = pickle.load(open(f\"{config['inpath']}{config['inname']}_columns.pick\", 'rb'))\n",
    "        df.columns = [column.replace(\"-\",\"\") for column in columns]\n",
    "    except:\n",
    "        columns = arange(0,df.shape[1]).astype(str)\n",
    "        df.columns = columns\n",
    "        print(\" -> Failed to assign column names! Assigned numbers instead!\")\n",
    "\n",
    "    ## check for column dublicates\n",
    "    if len(df.columns.unique()) != len(df.columns):\n",
    "        print(f\" -> removing {len(df.columns)-len(df.columns.unique())} column dublicate(s)!\")\n",
    "        df = df.loc[:,~df.columns.duplicated()]\n",
    "\n",
    "    count=0\n",
    "    dates_expected = date_range(config['date1'].date, config['date2'].date, periods=int((config['date2']-config['date1'])/86400)+1)\n",
    "    for dex in dates_expected:\n",
    "        dex=str(dex.isoformat()[:10]).replace(\"-\",\"\")\n",
    "        if not dex in df.columns:\n",
    "            count+=1\n",
    "    print(f\" -> missing {count} days\")\n",
    "        \n",
    "    print(f\" -> total of {df.shape[0]} psds\")\n",
    "        \n",
    "#     ## convert to list\n",
    "#     psds = []\n",
    "#     for col in array(df.columns):\n",
    "        \n",
    "#         ## turn non-float series to float objects\n",
    "#         df[col] = pd.to_numeric(df[col], errors = 'coerce')\n",
    "\n",
    "#         ## add to psds list\n",
    "#         psds.append(array(df[col]))\n",
    "        \n",
    "    return df"
   ]
  },
  {
   "cell_type": "code",
   "execution_count": null,
   "id": "d4ffd698",
   "metadata": {
    "ExecuteTime": {
     "end_time": "2022-12-07T20:57:37.802437Z",
     "start_time": "2022-12-07T20:57:37.784808Z"
    },
    "code_folding": [
     0
    ]
   },
   "outputs": [],
   "source": [
    "def __get_array_from_dataframe(df):\n",
    "    \n",
    "    from pandas import to_numeric\n",
    "    \n",
    "    ## convert to list\n",
    "    psds = []\n",
    "    for col in array(df.columns):\n",
    "        \n",
    "        ## turn non-float series to float objects\n",
    "        df[col] = to_numeric(df[col], errors = 'coerce')\n",
    "\n",
    "        ## add to psds list\n",
    "        psds.append(array(df[col]))\n",
    "\n",
    "    return array(psds)"
   ]
  },
  {
   "cell_type": "code",
   "execution_count": null,
   "id": "0794deb4",
   "metadata": {
    "ExecuteTime": {
     "end_time": "2022-12-07T20:57:37.822423Z",
     "start_time": "2022-12-07T20:57:37.803660Z"
    },
    "code_folding": [
     0
    ]
   },
   "outputs": [],
   "source": [
    "def __get_percentiles(arr):\n",
    "    \n",
    "    from numpy import zeros, nanpercentile\n",
    "    \n",
    "    percentiles_lower = zeros(shape(arr)[1])\n",
    "    percentiles_upper = zeros(shape(arr)[1])\n",
    "\n",
    "    for kk in range(shape(arr)[1]):\n",
    "        out = nanpercentile(arr[:, kk],  [2.5 ,97.5])\n",
    "        percentiles_upper[kk] = out[1]\n",
    "        percentiles_lower[kk] = out[0]\n",
    "        \n",
    "    return percentiles_lower, percentiles_upper"
   ]
  },
  {
   "cell_type": "code",
   "execution_count": null,
   "id": "21d2d997",
   "metadata": {
    "ExecuteTime": {
     "end_time": "2022-12-07T20:57:37.839974Z",
     "start_time": "2022-12-07T20:57:37.823394Z"
    },
    "code_folding": [
     0
    ]
   },
   "outputs": [],
   "source": [
    "# def __remove_noisy_psds(df, threshold_mean=1e-13):\n",
    "\n",
    "#     from numpy import delete\n",
    "    \n",
    "#     l1 = len(df.columns)\n",
    "#     for col in df.columns:\n",
    "# #         print(col, type(col))\n",
    "#         if df[col].astype(float).mean() > threshold_mean:\n",
    "#             df = df.drop(columns=col)\n",
    "#     l2 = len(df.columns)\n",
    "#     print(f\" -> removed {l1-l2} columns due to mean thresholds!\")\n",
    "#     print(f\" -> {l2} psds remain\")\n",
    "    \n",
    "#     return df"
   ]
  },
  {
   "cell_type": "markdown",
   "id": "subject-expression",
   "metadata": {},
   "source": [
    "## Configurations"
   ]
  },
  {
   "cell_type": "code",
   "execution_count": null,
   "id": "e89d22a7",
   "metadata": {
    "ExecuteTime": {
     "end_time": "2022-12-07T20:57:37.856299Z",
     "start_time": "2022-12-07T20:57:37.840996Z"
    }
   },
   "outputs": [],
   "source": [
    "# inpath = f\"{root_path}ROMY/RotationSpectra/data/{inname}/\"\n",
    "# config = pickle.load(open(inpath+inname+\"_config.pkl\", 'rb'))\n",
    "\n",
    "config = {}\n",
    "\n",
    "config['outpath_figures'] = f\"{root_path}VelocityChanges/figures/\"\n",
    "\n",
    "config['rlnm_model_path'] = f\"{root_path}LNM/data/MODELS/\""
   ]
  },
  {
   "cell_type": "markdown",
   "id": "natural-beginning",
   "metadata": {},
   "source": [
    "## Load as Arrays"
   ]
  },
  {
   "cell_type": "code",
   "execution_count": null,
   "id": "2d64a313",
   "metadata": {
    "ExecuteTime": {
     "end_time": "2022-12-07T20:57:37.871346Z",
     "start_time": "2022-12-07T20:57:37.857329Z"
    },
    "code_folding": [
     0
    ]
   },
   "outputs": [],
   "source": [
    "def __load_data_files(config, path):\n",
    "    \n",
    "    from tqdm.notebook import tqdm\n",
    "    from numpy import array, ones, nan\n",
    "    \n",
    "    print(path)\n",
    "    \n",
    "    config['files'] = [file for file in os.listdir(path) if \"hourly\" in file]\n",
    "    config['files'].sort()\n",
    "    \n",
    "    psds_all, times_nom, times = [], arange(0, 24*365, 1), []\n",
    "    count, missing  = 0, 0\n",
    "    \n",
    "    for file in tqdm(config['files']):\n",
    "        date = file.split(\"_\")[-2]\n",
    "        psds_hourly = read_pickle(path+file)\n",
    "\n",
    "        for h in range(24):\n",
    "            try:\n",
    "                psds_all.append(psds_hourly[h])\n",
    "            except:\n",
    "#                 psds_all.append(nan*ones(shape(psds_all)[1]))\n",
    "                missing += 1\n",
    "            times.append(times_nom[count])\n",
    "            count += 1\n",
    "            \n",
    "    print(f\" -> missing: {missing}\")\n",
    "    return array(psds_all)"
   ]
  },
  {
   "cell_type": "code",
   "execution_count": null,
   "id": "6613e489",
   "metadata": {
    "ExecuteTime": {
     "end_time": "2022-12-07T20:57:49.639291Z",
     "start_time": "2022-12-07T20:57:37.872310Z"
    },
    "code_folding": []
   },
   "outputs": [],
   "source": [
    "name_acc = \"RLAS\"\n",
    "config['inname'] = f\"run_2019_{name_acc}-Z_3600_hours\"\n",
    "config['inpath'] = f\"{root_path}ROMY/RotationSpectra/data/{config['inname']}/\"\n",
    "config['thres_fur'] = 3e-21\n",
    "config['period_limits'] = 0.5, 30\n",
    "\n",
    "config['frequency_limits'] = [1/config['period_limits'][1], 1/config['period_limits'][0]]\n",
    "\n",
    "\n",
    "ACC = __load_data_files(config, config['inpath']+config['inname']+\"/\")\n",
    "\n",
    "ff_ACC = pickle.load(open(f\"{config['inpath']}{config['inname']}_frequency_axis.pkl\", 'rb'))\n",
    "times_ACC = pickle.load(open(f\"{config['inpath']}{config['inname']}_times_axis.pkl\", 'rb'))"
   ]
  },
  {
   "cell_type": "code",
   "execution_count": null,
   "id": "7577ac38",
   "metadata": {
    "ExecuteTime": {
     "end_time": "2022-12-07T20:58:05.516972Z",
     "start_time": "2022-12-07T20:57:49.640290Z"
    },
    "code_folding": []
   },
   "outputs": [],
   "source": [
    "name_rot = \"ROMY\"\n",
    "config['inname'] = f\"run_2019_{name_rot}-Z_3600_hours\"\n",
    "config['inpath'] = f\"{root_path}ROMY/RotationSpectra/data/{config['inname']}/\"\n",
    "config['thres_romy'] = 5e-20\n",
    "config['period_limits'] = 0.5, 30\n",
    "\n",
    "config['frequency_limits'] = [1/config['period_limits'][1], 1/config['period_limits'][0]]\n",
    "\n",
    "\n",
    "ROT = __load_data_files(config, config['inpath']+config['inname']+\"/\")\n",
    "\n",
    "ff_ROT = pickle.load(open(f\"{config['inpath']}{config['inname']}_frequency_axis.pkl\", 'rb'))\n",
    "times_ROT = pickle.load(open(f\"{config['inpath']}{config['inname']}_times_axis.pkl\", 'rb'))"
   ]
  },
  {
   "cell_type": "code",
   "execution_count": null,
   "id": "73c0fcc1",
   "metadata": {
    "ExecuteTime": {
     "end_time": "2022-12-07T20:58:05.519514Z",
     "start_time": "2022-12-07T20:58:05.517848Z"
    }
   },
   "outputs": [],
   "source": [
    "# shape(ACC_N), shape(ACC_E), shape(ACC), shape(times_ACC_N), shape(ROT)"
   ]
  },
  {
   "cell_type": "markdown",
   "id": "c153a82e",
   "metadata": {},
   "source": [
    "### Cut Frequency Range"
   ]
  },
  {
   "cell_type": "code",
   "execution_count": null,
   "id": "a025d8ab",
   "metadata": {
    "ExecuteTime": {
     "end_time": "2022-12-07T20:58:05.549752Z",
     "start_time": "2022-12-07T20:58:05.520325Z"
    },
    "code_folding": [
     0
    ]
   },
   "outputs": [],
   "source": [
    "def __cut_frequencies_array(arr, freqs, fmin, fmax):\n",
    "\n",
    "    ind = []\n",
    "    for i, f in enumerate(freqs):\n",
    "        if f >= fmin and f <= fmax:\n",
    "            ind.append(i)\n",
    "\n",
    "    ff = freqs[ind[0]:ind[-1]]\n",
    "    pp = arr[:,ind[0]:ind[-1]]\n",
    "    \n",
    "    return pp, ff "
   ]
  },
  {
   "cell_type": "code",
   "execution_count": null,
   "id": "5ba38476",
   "metadata": {
    "ExecuteTime": {
     "end_time": "2022-12-07T20:58:05.572980Z",
     "start_time": "2022-12-07T20:58:05.550786Z"
    }
   },
   "outputs": [],
   "source": [
    "ACC, ff_ACC = __cut_frequencies_array(ACC, ff_ACC , config['frequency_limits'][0], config['frequency_limits'][1])\n",
    "ROT, ff_ROT = __cut_frequencies_array(ROT, ff_ROT, config['frequency_limits'][0], config['frequency_limits'][1])"
   ]
  },
  {
   "cell_type": "markdown",
   "id": "d7d05f3d",
   "metadata": {
    "ExecuteTime": {
     "end_time": "2022-11-10T13:13:24.317324Z",
     "start_time": "2022-11-10T13:13:24.315321Z"
    }
   },
   "source": [
    "## Remove Noisy PSDs"
   ]
  },
  {
   "cell_type": "code",
   "execution_count": null,
   "id": "92d7c1df",
   "metadata": {
    "ExecuteTime": {
     "end_time": "2022-12-07T20:58:05.589983Z",
     "start_time": "2022-12-07T20:58:05.573911Z"
    },
    "code_folding": [
     0
    ]
   },
   "outputs": [],
   "source": [
    "def __remove_noisy_psds(arr, times, threshold_mean=1e-16):\n",
    "\n",
    "    from numpy import delete, shape, sort, array, nan\n",
    "    \n",
    "    l1 = shape(arr)[0]\n",
    "\n",
    "    idx_to_remove = []\n",
    "    for ii in range(shape(arr)[0]):\n",
    "        \n",
    "        ## appy upper threshold\n",
    "        if arr[ii,:].mean() > threshold_mean:\n",
    "            idx_to_remove.append(ii)\n",
    "            \n",
    "        ## apply default lowe threshold\n",
    "        if arr[ii,:].mean() < 1e-26:\n",
    "            idx_to_remove.append(ii)\n",
    "            \n",
    "    for jj in sort(array(idx_to_remove))[::-1]:\n",
    "        \n",
    "        ## option 1: delte rows\n",
    "#         arr = delete(arr, jj, axis=0)\n",
    "#         times = delete(times, jj, axis=0)\n",
    "\n",
    "        ## option 2: replace with nan values\n",
    "        arr[jj,:] = ones(len(arr[jj]))*nan\n",
    "    \n",
    "    l2 = shape(arr)[0]\n",
    "    \n",
    "    print(f\" -> removed {l1-l2} rows due to mean thresholds!\")\n",
    "    print(f\" -> {l2} psds remain\")\n",
    "    \n",
    "    return arr, times"
   ]
  },
  {
   "cell_type": "code",
   "execution_count": null,
   "id": "2b8b1666",
   "metadata": {
    "ExecuteTime": {
     "end_time": "2022-12-07T20:58:05.890697Z",
     "start_time": "2022-12-07T20:58:05.590794Z"
    },
    "code_folding": []
   },
   "outputs": [],
   "source": [
    "ACC, times_ACC = __remove_noisy_psds(ACC, times_ACC, threshold_mean=config['thres_fur'])\n",
    "ROT, times_ROT = __remove_noisy_psds(ROT, times_ROT, threshold_mean=config['thres_romy'])"
   ]
  },
  {
   "cell_type": "markdown",
   "id": "c9e6e75d",
   "metadata": {},
   "source": [
    "## Write Statistics to Files"
   ]
  },
  {
   "cell_type": "code",
   "execution_count": null,
   "id": "087beef5",
   "metadata": {
    "ExecuteTime": {
     "end_time": "2022-12-07T20:58:05.894378Z",
     "start_time": "2022-12-07T20:58:05.891714Z"
    },
    "code_folding": [
     0
    ]
   },
   "outputs": [],
   "source": [
    "def __write_stats_mod(config, ff, arr, comp):\n",
    "    \n",
    "    out_df = DataFrame()\n",
    "\n",
    "    out_df['frequencies'] = ff\n",
    "    out_df['minimal'] = __get_minimal_psd(arr)\n",
    "    out_df['median'] = __get_median_psd(arr)\n",
    "    out_df['minimum'] = __get_minimum_psd(arr)\n",
    "    out_df['mean'] = __get_mean_psd(arr)\n",
    "\n",
    "    print(f\" -> writing {config['inpath'].replace('Z',comp)}{config['inname'].replace('Z',comp)}_stats_mod.pkl\")\n",
    "    out_df.to_pickle(f\"{config['inpath'].replace('Z',comp)}{config['inname'].replace('Z',comp)}_stats_mod.pkl\")"
   ]
  },
  {
   "cell_type": "code",
   "execution_count": null,
   "id": "63b02e0b",
   "metadata": {
    "ExecuteTime": {
     "end_time": "2022-12-07T20:58:06.036030Z",
     "start_time": "2022-12-07T20:58:05.895292Z"
    }
   },
   "outputs": [],
   "source": [
    "# __write_stats_mod(config, ff_N, ADR_N, \"N\")\n",
    "# __write_stats_mod(config, ff_E, ADR_E, \"E\")\n",
    "# __write_stats_mod(config, ff_Z, ADR_Z, \"Z\")"
   ]
  },
  {
   "cell_type": "markdown",
   "id": "7bdcbe22",
   "metadata": {},
   "source": [
    "## Compute RMS"
   ]
  },
  {
   "cell_type": "code",
   "execution_count": null,
   "id": "55212379",
   "metadata": {
    "ExecuteTime": {
     "end_time": "2022-12-07T20:58:06.304012Z",
     "start_time": "2022-12-07T20:58:06.036965Z"
    },
    "code_folding": [
     0
    ]
   },
   "outputs": [],
   "source": [
    "def __get_rms(arr, ff):\n",
    "    \n",
    "    from numpy import zeros, shape, sqrt, nan, array\n",
    "    from tqdm.notebook import tqdm\n",
    "    \n",
    "    rms = zeros(shape(arr))\n",
    "    \n",
    "    for ii, psd in enumerate(tqdm(arr)):\n",
    "        \n",
    "        rms_row = zeros(psd.size)\n",
    "        for jj in range(psd.size):\n",
    "            try:\n",
    "                rms_row[jj] = sqrt(abs(psd[jj+1] - psd[jj]) * (ff[jj+1] - ff[jj])) \n",
    "            except:\n",
    "                rms_row[jj] = nan    \n",
    "                \n",
    "        rms[ii] = array(rms_row)\n",
    "        \n",
    "    return rms"
   ]
  },
  {
   "cell_type": "code",
   "execution_count": null,
   "id": "7fa775e2",
   "metadata": {
    "ExecuteTime": {
     "end_time": "2022-12-07T20:58:06.409639Z",
     "start_time": "2022-12-07T20:58:06.306011Z"
    },
    "code_folding": [
     0
    ]
   },
   "outputs": [],
   "source": [
    "def __get_rms_octave(arr, ff):\n",
    "    \n",
    "    from numpy import zeros, shape, sqrt, nan, array, searchsorted\n",
    "    from tqdm.notebook import tqdm\n",
    "    \n",
    "    rms = zeros(shape(arr))\n",
    "    \n",
    "    f_centre = ff\n",
    "    fd = 2**(1/6)\n",
    "    f_upper = f_centre *fd\n",
    "    f_lower = f_centre /fd\n",
    "    \n",
    "        \n",
    "    for ii, psd in enumerate(tqdm(arr)):\n",
    "        \n",
    "        rms_row = zeros(psd.size)\n",
    "        for jj in range(psd.size):\n",
    "            \n",
    "            idx1 = searchsorted(ff, f_lower[jj], side=\"right\") ## inner\n",
    "            idx2 = searchsorted(ff, f_upper[jj], side=\"left\") ## inner\n",
    "\n",
    "            try:\n",
    "                rms_row[jj] = sqrt(abs(sum(psd[idx1:idx2])) * (f_upper[jj] - f_lower[jj]))\n",
    "#                 rms_row[jj] = sqrt(abs(psd[idx2] - psd[idx1]) * (f_upper[jj] - f_lower[jj]))\n",
    "            except:\n",
    "                rms_row[jj] = nan\n",
    "                \n",
    "        rms[ii] = array(rms_row)\n",
    "        \n",
    "    return rms\n",
    "\n",
    "# ACC_rms = __get_rms_octave(ACC[:2], ff_ACC)\n",
    "\n",
    "# plt.loglog(ff_ACC, ACC_rms[0])\n",
    "# plt.figure()\n",
    "# plt.loglog(ff_ACC, ACC[0])"
   ]
  },
  {
   "cell_type": "code",
   "execution_count": null,
   "id": "bf000fb1",
   "metadata": {
    "ExecuteTime": {
     "end_time": "2022-12-07T21:15:10.124634Z",
     "start_time": "2022-12-07T20:58:06.410734Z"
    }
   },
   "outputs": [],
   "source": [
    "ACC_rms = __get_rms_octave(ACC, ff_ACC)\n",
    "ROT_rms = __get_rms_octave(ROT, ff_ROT)"
   ]
  },
  {
   "cell_type": "code",
   "execution_count": null,
   "id": "f57034c9",
   "metadata": {
    "ExecuteTime": {
     "end_time": "2022-12-07T21:15:16.591429Z",
     "start_time": "2022-12-07T21:15:10.125586Z"
    }
   },
   "outputs": [],
   "source": [
    "rms_ratio, times_ratio = [], []\n",
    "\n",
    "for mm in range(0, 24*365, 1):\n",
    "    if mm in times_ROT and mm in times_ACC:\n",
    "        rms_ratio.append(ACC_rms[mm,:] /ROT_rms[mm,:])\n",
    "        times_ratio.append(mm)\n",
    "\n",
    "rms_ratio = array(rms_ratio)\n",
    "times_ratio = array(times_ratio)\n",
    "\n",
    "ff_ratio = ff_ACC\n",
    "\n",
    "# rms_ratio_med = __get_median_psd(rms_ratio)\n",
    "rms_ratio_med = __get_mean_psd(rms_ratio[:24,:])\n",
    "# rms_ratio_med = rms_ratio[1, :]\n",
    "\n",
    "rms_ratio_rel = zeros(shape(rms_ratio))\n",
    "\n",
    "\n",
    "for n, row in enumerate(rms_ratio):\n",
    "    rms_ratio_rel[n] = (row - rms_ratio_med)/rms_ratio_med"
   ]
  },
  {
   "cell_type": "markdown",
   "id": "086fd5d0",
   "metadata": {},
   "source": [
    "## Plotting"
   ]
  },
  {
   "cell_type": "code",
   "execution_count": null,
   "id": "82aff0c2",
   "metadata": {
    "ExecuteTime": {
     "end_time": "2022-12-07T21:15:16.606913Z",
     "start_time": "2022-12-07T21:15:16.592437Z"
    },
    "code_folding": [
     0
    ]
   },
   "outputs": [],
   "source": [
    "def __makeplot_image_overview2(ff, psds, times):\n",
    "    \n",
    "    from tqdm.notebook import tqdm\n",
    "    from numpy import isnan, median, mean, std, array, zeros, nanmax, nanmin\n",
    "    from scipy.stats import median_abs_deviation as mad\n",
    "    from matplotlib import colors\n",
    "\n",
    "    \n",
    "    ## convert frequencies to periods\n",
    "    pp=[]\n",
    "    for mm in range(len(ff)):\n",
    "        ppp = zeros(len(ff[mm]))\n",
    "        ppp = 1/ff[mm]\n",
    "        pp.append(ppp)\n",
    "        \n",
    "    ## define colormap\n",
    "    cmap = plt.cm.get_cmap('viridis')\n",
    "    cmap.set_bad(color='white')\n",
    "#     cmap.set_under(color='black')\n",
    "#     cmap.set_over(color='white')       \n",
    "\n",
    "\n",
    "    \n",
    "    ##____________________________\n",
    "    \n",
    "#     NN = 3\n",
    "    N = int(24*365)\n",
    "    \n",
    "    font = 14\n",
    "\n",
    "    fig = plt.figure(constrained_layout=False, figsize=(15,10))\n",
    "    widths = [6, 1]\n",
    "    heights = [1, 1, 1]\n",
    "    spec = fig.add_gridspec(ncols=2, nrows=3, width_ratios=widths, height_ratios=heights)\n",
    "\n",
    "    plt.subplots_adjust(hspace=0.15, wspace=0.02)\n",
    "\n",
    "    ax1_1 = fig.add_subplot(spec[0, 0])\n",
    "    ax1_2 = fig.add_subplot(spec[0, 1], sharey=ax1_1)\n",
    "    ax2_1 = fig.add_subplot(spec[1, 0], sharex=ax1_1)\n",
    "    ax2_2 = fig.add_subplot(spec[1, 1])\n",
    "    ax3_1 = fig.add_subplot(spec[2, 0], sharex=ax1_1)\n",
    "    ax3_2 = fig.add_subplot(spec[2, 1])\n",
    "\n",
    "    im1 = ax1_1.pcolormesh( times[0], 1/ff[0], psds[0].T, \n",
    "                            cmap=cmap,\n",
    "                            vmax=nanmax(psds[0]),\n",
    "                            vmin=nanmin(psds[0]),\n",
    "                            norm=colors.LogNorm(),\n",
    "                            )\n",
    "    im2 = ax2_1.pcolormesh( times[1], 1/ff[1], psds[1].T, \n",
    "                            cmap=cmap,\n",
    "                            vmax=nanmax(psds[1]),\n",
    "                            vmin=nanmin(psds[1]),\n",
    "                            norm=colors.LogNorm(),\n",
    "                            )\n",
    "    im3 = ax3_1.pcolormesh( times[2], 1/ff[2], psds[2].T, \n",
    "                            cmap=plt.cm.get_cmap('seismic'),\n",
    "                            vmax=+3,\n",
    "                            vmin=-3,\n",
    "#                             norm=colors.LogNorm(),\n",
    "                            )\n",
    "    \n",
    "    set_color = \"seagreen\"\n",
    "    \n",
    "    perc_lower, perc_upper = __get_percentiles((psds[0]))\n",
    "    ax1_2.fill_betweenx(pp[0], perc_lower, perc_upper, color=set_color, zorder=3, alpha=0.4, label=\"\")\n",
    "    ax1_2.plot(__get_median_psd(psds[0]), pp[0], color=set_color, zorder=3, alpha=0.9, label=\"Median\")\n",
    "    \n",
    "    perc_lower, perc_upper = __get_percentiles((psds[1]))\n",
    "    ax2_2.fill_betweenx(pp[1], perc_lower, perc_upper, color=set_color, zorder=3, alpha=0.4, label=\"\")\n",
    "    ax2_2.plot(__get_median_psd(psds[1]), pp[1], color=set_color, zorder=3, alpha=0.9, label=\"Median\")\n",
    "\n",
    "    perc_lower, perc_upper = __get_percentiles((psds[2]))\n",
    "    ax3_2.fill_betweenx(pp[2], perc_lower, perc_upper, color='grey', zorder=3, alpha=0.4, label=\"\")\n",
    "    ax3_2.plot(__get_median_psd(psds[2]), pp[2], color='black', zorder=3, alpha=0.9, label=\"Median\")\n",
    "        \n",
    "    \n",
    "    plt.setp(ax1_1.get_xticklabels(), visible=False)\n",
    "    plt.setp(ax2_1.get_xticklabels(), visible=False)\n",
    "    \n",
    "#     plt.setp(ax1_2.get_xticklabels(), visible=False)\n",
    "#     plt.setp(ax2_2.get_xticklabels(), visible=False) \n",
    "    \n",
    "    plt.setp(ax1_2.get_yticklabels(), visible=False)\n",
    "    plt.setp(ax2_2.get_yticklabels(), visible=False)    \n",
    "    plt.setp(ax3_2.get_yticklabels(), visible=False)\n",
    "    \n",
    "    \n",
    "    \n",
    "        \n",
    "    for ax in [ax1_1, ax1_2, ax2_1, ax2_2, ax3_1, ax3_2]:\n",
    "        ax.tick_params(labelsize=font-2)\n",
    "        ax.set_ylim(config['period_limits'][0], config['period_limits'][1])\n",
    "        ax.set_yscale(\"log\")\n",
    "    \n",
    "    ax1_2.set_xscale(\"logit\")\n",
    "    ax2_2.set_xscale(\"logit\")\n",
    "\n",
    "    ax3_1.set_xlabel(\"Days of 2019\", fontsize=font, labelpad=1)\n",
    "    ax3_2.set_xlabel(r\"\", fontsize=font, labelpad=-1)\n",
    "\n",
    "    new_ticks = [int(round(t/24,0)) for t in ax3_1.get_xticks()]\n",
    "    ax3_1.set_xticklabels(new_ticks)\n",
    "    \n",
    "#     ## panel labels\n",
    "    ax1_1.text(.01, .99, 'a)', ha='left', va='top', transform=ax1_1.transAxes, fontsize=font+2)\n",
    "    ax2_1.text(.01, .99, 'b)', ha='left', va='top', transform=ax2_1.transAxes, fontsize=font+2)\n",
    "    ax3_1.text(.01, .99, 'c)', ha='left', va='top', transform=ax3_1.transAxes, fontsize=font+2)\n",
    "    \n",
    "#     ## data labels\n",
    "    ax1_1.text(.99, .99, f'{name_acc}', ha='right', va='top', transform=ax1_1.transAxes, fontsize=font)\n",
    "    ax2_1.text(.99, .99, f'{name_rot}', ha='right', va='top', transform=ax2_1.transAxes, fontsize=font)\n",
    "    ax3_1.text(.99, .99, f'{name_acc}/{name_rot}', ha='right', va='top', transform=ax3_1.transAxes, fontsize=font)\n",
    "     \n",
    "    ax1_1.set_ylabel(r\"Periods (s)\", fontsize=font)\n",
    "    ax2_1.set_ylabel(r\"Periods (s)\", fontsize=font)\n",
    "    ax3_1.set_ylabel(r\"Periods (s)\", fontsize=font)\n",
    "    \n",
    "#     ## set colorbar at bottom \n",
    "    cbar = fig.colorbar(im1, orientation='vertical', ax=ax1_2, pad=0.05)\n",
    "    cbar.set_label(r\"RMS (m/$s^2$)\", fontsize=font-2, labelpad=1)\n",
    "                           \n",
    "    cbar = fig.colorbar(im2, orientation='vertical', ax=ax2_2, pad=0.05)\n",
    "    cbar.set_label(r\"RMS (rad/s )\", fontsize=font-2, labelpad=1)    \n",
    "    \n",
    "    cbar = fig.colorbar(im3, orientation='vertical', ax=ax3_2, pad=0.05)\n",
    "    cbar.set_label(r\"RLAS / ROMY\", fontsize=font-2, labelpad=1)\n",
    "                           \n",
    "    plt.show();\n",
    "    return fig"
   ]
  },
  {
   "cell_type": "code",
   "execution_count": null,
   "id": "5c51d113",
   "metadata": {
    "ExecuteTime": {
     "end_time": "2022-12-07T21:15:42.925484Z",
     "start_time": "2022-12-07T21:15:16.608025Z"
    },
    "code_folding": []
   },
   "outputs": [],
   "source": [
    "fig = __makeplot_image_overview2([ff_ACC, ff_ROT, ff_ratio], \n",
    "                                 [ACC_rms, ROT_rms, rms_ratio], \n",
    "                                 [times_ACC, times_ROT, times_ratio], \n",
    "                                )"
   ]
  },
  {
   "cell_type": "code",
   "execution_count": null,
   "id": "a2219c20",
   "metadata": {
    "ExecuteTime": {
     "end_time": "2022-12-07T21:16:01.801445Z",
     "start_time": "2022-12-07T21:15:42.926358Z"
    }
   },
   "outputs": [],
   "source": [
    "__savefig(fig, outpath=config['outpath_figures'], outname=f\"{name_acc}_{name_rot}_psdimage_octave\", mode=\"png\", dpi=300)"
   ]
  },
  {
   "cell_type": "code",
   "execution_count": null,
   "id": "6cc2a0d1",
   "metadata": {},
   "outputs": [],
   "source": []
  },
  {
   "cell_type": "code",
   "execution_count": null,
   "id": "789404cd",
   "metadata": {
    "ExecuteTime": {
     "end_time": "2022-12-07T21:16:01.804576Z",
     "start_time": "2022-12-07T21:16:01.802435Z"
    },
    "code_folding": [
     0
    ]
   },
   "outputs": [],
   "source": [
    "def __smooth(y, box_pts):\n",
    "    from numpy import ones, convolve, hanning\n",
    "\n",
    "#     win = ones(box_pts)/box_pts\n",
    "    win = hanning(box_pts)\n",
    "    y_smooth = convolve(y, win/sum(win), mode='same')\n",
    "\n",
    "    return y_smooth"
   ]
  },
  {
   "cell_type": "code",
   "execution_count": null,
   "id": "ed088404",
   "metadata": {
    "ExecuteTime": {
     "end_time": "2022-12-07T21:16:01.830568Z",
     "start_time": "2022-12-07T21:16:01.805477Z"
    },
    "code_folding": [
     0
    ]
   },
   "outputs": [],
   "source": [
    "def __remove_nan(arr, times):\n",
    "    \n",
    "    from numpy import nan, array\n",
    "\n",
    "    a, t, idx = [], [], []\n",
    "    for ii, (aa, tt) in enumerate(zip(arr, times)):\n",
    "        if str(aa) != \"nan\":\n",
    "            a.append(aa)\n",
    "            t.append(tt)\n",
    "        else:\n",
    "            a.append(0)\n",
    "            t.append(tt)\n",
    "            idx.append(ii)\n",
    "    return array(a), array(t), idx"
   ]
  },
  {
   "cell_type": "code",
   "execution_count": null,
   "id": "d4f8c599",
   "metadata": {
    "ExecuteTime": {
     "end_time": "2022-12-07T21:16:01.846361Z",
     "start_time": "2022-12-07T21:16:01.831434Z"
    }
   },
   "outputs": [],
   "source": [
    "# from numpy import searchsorted\n",
    "\n",
    "# frequencies = ff_ACC\n",
    "# times = times_ACC\n",
    "\n",
    "# p_selection = array([2,3,5,7,10, 12, 15])\n",
    "# f_selection = 1/p_selection\n",
    "\n",
    "# smoothing = 48  ## hours\n",
    "\n",
    "# font = 14\n",
    "\n",
    "# samples = []\n",
    "# for freq in f_selection:\n",
    "    \n",
    "#     ## get index to closest frequency \n",
    "#     idx = searchsorted(frequencies, freq)\n",
    "\n",
    "#     ## select according rms array\n",
    "#     rms_tmp = rms_ratio_rel[:, idx:idx+1]\n",
    "#     arr = array([s[0] for s in rms_tmp])\n",
    "\n",
    "#     arr, tt, idx = __remove_nan(arr, times)\n",
    "\n",
    "#     samples.append(arr)\n",
    "\n",
    "# fig, ax = plt.subplots(figsize=(15,10))\n",
    "\n",
    "# offset = 0\n",
    "# offsets, labels = [], []\n",
    "# for ii, aa in enumerate(samples):\n",
    "    \n",
    "    \n",
    "    \n",
    "#     arr_smooth = __smooth(aa, smoothing)\n",
    "    \n",
    "#     for jj in idx:\n",
    "#         arr_smooth[jj] = nan\n",
    "    \n",
    "# #     plt.scatter(tt, array(aa)+ii*100, alpha=0.4, s=2)\n",
    "\n",
    "#     ax.plot(tt/24, arr_smooth+offset, alpha=0.9, label=f\"{round(p_selection[ii], 2)} sec\", zorder=3)\n",
    "#     ax.fill_between(tt/24, offset, arr_smooth+offset, alpha=0.5, zorder=3)\n",
    "    \n",
    "# #     plt.plot([0, 8670], [ii,ii], 'k--', alpha=0.5, zorder=0)\n",
    "\n",
    "#     labels.append(f\"{round(p_selection[ii], 2)} sec\")\n",
    "#     offsets.append(offset)\n",
    "    \n",
    "#     offset += 3 \n",
    "    \n",
    "# ax.set_yticks(offsets)\n",
    "# ax.set_yticklabels(labels, fontsize=font)\n",
    "\n",
    "# ax.set_xlabel(\"Days of 2019\", fontsize=font)\n",
    "\n",
    "# plt.title(f\"{name_acc} & {name_rot}\", fontsize=font+2)\n",
    "# # plt.legend()\n",
    "# plt.ylim(-2,25)\n",
    "# plt.show();"
   ]
  },
  {
   "cell_type": "code",
   "execution_count": null,
   "id": "04ad8950",
   "metadata": {
    "ExecuteTime": {
     "end_time": "2022-12-07T21:16:01.883211Z",
     "start_time": "2022-12-07T21:16:01.847224Z"
    }
   },
   "outputs": [],
   "source": [
    "# __savefig(fig, outpath=config['outpath_figures'], outname=f\"{name_acc}_{name_rot}_selection\", mode=\"png\", dpi=300)"
   ]
  },
  {
   "cell_type": "markdown",
   "id": "c621a4fa",
   "metadata": {},
   "source": [
    "## OLD"
   ]
  },
  {
   "cell_type": "code",
   "execution_count": null,
   "id": "5c6e0837",
   "metadata": {
    "ExecuteTime": {
     "end_time": "2022-12-07T21:16:01.902376Z",
     "start_time": "2022-12-07T21:16:01.884164Z"
    },
    "code_folding": [
     0
    ]
   },
   "outputs": [],
   "source": [
    "def __makeplot_image(ff, psds, times, dates=None):\n",
    "    \n",
    "    from tqdm.notebook import tqdm\n",
    "    from numpy import isnan, median, mean, std, array, zeros, nanmax, nanmin\n",
    "    from scipy.stats import median_abs_deviation as mad\n",
    "    from matplotlib import colors\n",
    "\n",
    "\n",
    "    ##____________________________\n",
    "        \n",
    "    fig, axes = plt.subplots(1, 1, figsize=(12,8), sharey=False, sharex=False)\n",
    "\n",
    "    plt.subplots_adjust(hspace=0.1)\n",
    "    \n",
    "    font = 14\n",
    "\n",
    "    N = int(24*365)\n",
    "\n",
    "    \n",
    "    cmap = plt.cm.get_cmap('rainbow')\n",
    "#     cmap.set_under(color='black')\n",
    "#     cmap.set_over(color='white')\n",
    "    \n",
    "    \n",
    "    max_psds = nanmax(psds)\n",
    "    min_psds = nanmin(psds)\n",
    "\n",
    "    im = axes.pcolormesh(times, 1/array(ff), psds.T, \n",
    "                            cmap=cmap,\n",
    "                            vmax=max_psds,\n",
    "                            vmin=min_psds,\n",
    "                            norm=colors.LogNorm(),\n",
    "                            )\n",
    "\n",
    "    axes.tick_params(labelsize=font-2)\n",
    "\n",
    "\n",
    "    axes.set_ylim(config['period_limits'][0], config['period_limits'][1])\n",
    "    axes.set_yscale(\"log\")\n",
    "\n",
    "    ## set colorbar at bottom\n",
    "    cbar = fig.colorbar(im, orientation='vertical', ax=axes.ravel().tolist(), aspect=30, pad=0.01)\n",
    "    cbar.set_label(r\"PSD (rad$^2$/s$^2$/$Hz$)\", fontsize=font-2, labelpad=-53)\n",
    "\n",
    "    axes.set_xlabel(\"Days of 2019\", fontsize=font, labelpad=-1)\n",
    "\n",
    "    new_ticks = [int(round(t/24,0)) for t in axes.get_xticks()]\n",
    "    axes.set_xticklabels(new_ticks)\n",
    "    \n",
    "    ## panel labels\n",
    "    axes.text(.01, .99, 'a)', ha='left', va='top', transform=axes.transAxes, fontsize=font+2)\n",
    "    \n",
    "    ## data labels\n",
    "    array = name.split(\"_\")[0]\n",
    "      \n",
    "    axes.set_ylabel(r\"Periods (s)\", fontsize=font)\n",
    "    \n",
    "    plt.show();    \n",
    "    return fig"
   ]
  },
  {
   "cell_type": "code",
   "execution_count": null,
   "id": "612cc72e",
   "metadata": {
    "ExecuteTime": {
     "end_time": "2022-12-07T21:16:01.920090Z",
     "start_time": "2022-12-07T21:16:01.903243Z"
    }
   },
   "outputs": [],
   "source": [
    "# nn = 500\n",
    "\n",
    "# fig = __makeplot_image(times_N[:nn], ff_N, ADR_N[:nn,:])\n",
    "\n",
    "# fig = __makeplot_image(times_Z, ff_Z, ADR_Z)"
   ]
  },
  {
   "cell_type": "code",
   "execution_count": null,
   "id": "eec74dbe",
   "metadata": {
    "ExecuteTime": {
     "end_time": "2022-12-07T21:16:01.944704Z",
     "start_time": "2022-12-07T21:16:01.921025Z"
    },
    "code_folding": [
     0
    ]
   },
   "outputs": [],
   "source": [
    "def __makeplot_image_overview(ff, psds, times, one_colorbar=False):\n",
    "    \n",
    "    from tqdm.notebook import tqdm\n",
    "    from numpy import isnan, median, mean, std, array, zeros, nanmax, nanmin\n",
    "    from scipy.stats import median_abs_deviation as mad\n",
    "    from matplotlib import colors\n",
    "\n",
    "    \n",
    "    ## theoretical rlnm\n",
    "#     rlnm = read_csv(config['rlnm_model_path']+\"rlnm_theory.csv\")\n",
    "\n",
    "    ## convert frequencies to periods\n",
    "    pp=[]\n",
    "    for mm in range(len(ff)):\n",
    "        ppp = zeros(len(ff[mm]))\n",
    "        ppp = 1/ff[mm]\n",
    "        pp.append(ppp)\n",
    "        \n",
    "    ##____________________________\n",
    "    \n",
    "    NN = 3\n",
    "    \n",
    "    fig, axes = plt.subplots(NN, 1, figsize=(12,12), sharey=False, sharex=True)\n",
    "\n",
    "    plt.subplots_adjust(hspace=0.1)\n",
    "    \n",
    "    font = 14\n",
    "\n",
    "    N = int(24*365)\n",
    "    \n",
    "    if one_colorbar:\n",
    "        max_psds = max(nanmax(psds[0]), nanmax(psds[1]), nanmax(psds[2]))\n",
    "        min_psds = min(nanmin(psds[0]), nanmin(psds[1]), nanmin(psds[2]))\n",
    "    \n",
    "    cmap = plt.cm.get_cmap('rainbow')\n",
    "#     cmap.set_under(color='black')\n",
    "#     cmap.set_over(color='white')\n",
    "    cmap.set_bad(color='white')\n",
    "    \n",
    "    \n",
    "    for j in tqdm(range(NN)):\n",
    "        \n",
    "        if not one_colorbar:\n",
    "            max_psds = nanmax(psds[j])\n",
    "            min_psds = nanmin(psds[j])\n",
    "            \n",
    "        if j == 2:\n",
    "            im = axes[j].pcolormesh(times[j], 1/ff[j], psds[j].T, \n",
    "                                    cmap=cmap,\n",
    "                                    vmax=max_psds*1e-1,\n",
    "                                    vmin=min_psds*1e1,\n",
    "                                    norm=colors.LogNorm(),\n",
    "                                    )\n",
    "            \n",
    "        else:\n",
    "            \n",
    "            im = axes[j].pcolormesh(times[j], 1/ff[j], psds[j].T, \n",
    "                                    cmap=cmap,\n",
    "                                    vmax=max_psds,\n",
    "                                    vmin=min_psds,\n",
    "                                    norm=colors.LogNorm(),\n",
    "                                    )\n",
    "\n",
    "        axes[j].tick_params(labelsize=font-2)\n",
    "        \n",
    "\n",
    "        axes[j].set_ylim(config['period_limits'][0], config['period_limits'][1])\n",
    "        axes[j].set_yscale(\"log\")\n",
    "\n",
    "        if not one_colorbar:\n",
    "            ## set individual colorbars\n",
    "            cbar = fig.colorbar(im, orientation='vertical', ax=axes[j], aspect=15, pad=0.01)\n",
    "            cbar.set_label(r\"PSD (rad$^2$/s$^2$/$Hz$)\", fontsize=font-2, labelpad=-50)\n",
    "        \n",
    "    axes[NN-1].set_xlabel(\"Days of 2019\", fontsize=font, labelpad=-1)\n",
    "\n",
    "    new_ticks = [int(round(t/24,0)) for t in axes[NN-1].get_xticks()]\n",
    "    axes[NN-1].set_xticklabels(new_ticks)\n",
    "    \n",
    "    ## panel labels\n",
    "    axes[0].text(.01, .99, 'a)', ha='left', va='top', transform=axes[0].transAxes, fontsize=font+2)\n",
    "    axes[1].text(.01, .99, 'b)', ha='left', va='top', transform=axes[1].transAxes, fontsize=font+2)\n",
    "    axes[2].text(.01, .99, 'c)', ha='left', va='top', transform=axes[2].transAxes, fontsize=font+2)\n",
    "    \n",
    "    ## data labels\n",
    "    array = name.split(\"_\")[0]\n",
    "    axes[0].text(.99, .99, f'FUR$', ha='right', va='top', transform=axes[0].transAxes, fontsize=font)\n",
    "    axes[1].text(.99, .99, f'ROMY Z', ha='right', va='top', transform=axes[1].transAxes, fontsize=font)\n",
    "    axes[2].text(.99, .99, f'Ratio', ha='right', va='top', transform=axes[2].transAxes, fontsize=font)\n",
    "    \n",
    "    \n",
    "    axes[0].set_ylabel(r\"Periods (s)\", fontsize=font)\n",
    "    axes[1].set_ylabel(r\"Periods (s)\", fontsize=font)\n",
    "    axes[2].set_ylabel(r\"Periods (s)\", fontsize=font)\n",
    "    \n",
    "    if one_colorbar:\n",
    "        ## set joint colorbar\n",
    "        cbar = fig.colorbar(im, orientation='vertical', ax=axes.ravel().tolist(), aspect=30, pad=0.01)\n",
    "        cbar.set_label(r\"PSD (rad$^2$/s$^2$/$Hz$)\", fontsize=font-2, labelpad=-53)\n",
    "\n",
    "    plt.show();    \n",
    "    return fig"
   ]
  },
  {
   "cell_type": "code",
   "execution_count": null,
   "id": "4d7bf1f5",
   "metadata": {
    "ExecuteTime": {
     "end_time": "2022-12-07T21:16:01.969619Z",
     "start_time": "2022-12-07T21:16:01.945553Z"
    },
    "scrolled": true
   },
   "outputs": [],
   "source": [
    "# fig = __makeplot_image_overview([ff_FUR_Z, ff_ROMY_Z, ff_FUR_Z], \n",
    "#                                 [FUR_Z_rms, ROMY_Z_rms, rms_ratio], \n",
    "#                                 [times_FUR_Z, times_ROMY_Z, times_FUR_Z], \n",
    "#                                 one_colorbar=False,\n",
    "#                                 )"
   ]
  },
  {
   "cell_type": "code",
   "execution_count": null,
   "id": "61bcb688",
   "metadata": {
    "ExecuteTime": {
     "end_time": "2022-12-07T21:16:01.985494Z",
     "start_time": "2022-12-07T21:16:01.970493Z"
    }
   },
   "outputs": [],
   "source": [
    "# __savefig(fig, outpath=config['outpath_figures'], outname=f\"FUR_ROMY_psdimage_final\", mode=\"png\", dpi=300)"
   ]
  },
  {
   "cell_type": "code",
   "execution_count": null,
   "id": "0fd2e234",
   "metadata": {},
   "outputs": [],
   "source": []
  },
  {
   "cell_type": "code",
   "execution_count": null,
   "id": "f0ef98fc",
   "metadata": {},
   "outputs": [],
   "source": []
  },
  {
   "cell_type": "code",
   "execution_count": null,
   "id": "4e4325d4",
   "metadata": {},
   "outputs": [],
   "source": []
  }
 ],
 "metadata": {
  "kernelspec": {
   "display_name": "Python 3 (ipykernel)",
   "language": "python",
   "name": "python3"
  },
  "language_info": {
   "codemirror_mode": {
    "name": "ipython",
    "version": 3
   },
   "file_extension": ".py",
   "mimetype": "text/x-python",
   "name": "python",
   "nbconvert_exporter": "python",
   "pygments_lexer": "ipython3",
   "version": "3.9.19"
  },
  "latex_envs": {
   "LaTeX_envs_menu_present": true,
   "autoclose": false,
   "autocomplete": true,
   "bibliofile": "biblio.bib",
   "cite_by": "apalike",
   "current_citInitial": 1,
   "eqLabelWithNumbers": true,
   "eqNumInitial": 1,
   "hotkeys": {
    "equation": "Ctrl-E",
    "itemize": "Ctrl-I"
   },
   "labels_anchors": false,
   "latex_user_defs": false,
   "report_style_numbering": false,
   "user_envs_cfg": false
  },
  "toc": {
   "base_numbering": 1,
   "nav_menu": {},
   "number_sections": true,
   "sideBar": true,
   "skip_h1_title": false,
   "title_cell": "Table of Contents",
   "title_sidebar": "Contents",
   "toc_cell": false,
   "toc_position": {},
   "toc_section_display": true,
   "toc_window_display": false
  }
 },
 "nbformat": 4,
 "nbformat_minor": 5
}
