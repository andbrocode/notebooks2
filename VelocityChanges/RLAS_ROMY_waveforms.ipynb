{
 "cells": [
  {
   "cell_type": "markdown",
   "id": "eda030d3",
   "metadata": {},
   "source": [
    "# ROMY & RLAS"
   ]
  },
  {
   "cell_type": "markdown",
   "id": "protected-presentation",
   "metadata": {},
   "source": [
    "## Load Libraries"
   ]
  },
  {
   "cell_type": "code",
   "execution_count": null,
   "id": "behind-arrangement",
   "metadata": {
    "ExecuteTime": {
     "end_time": "2023-08-07T14:54:03.050940Z",
     "start_time": "2023-08-07T14:54:00.312331Z"
    },
    "tags": []
   },
   "outputs": [],
   "source": [
    "import os, sys\n",
    "import pickle\n",
    "import matplotlib.pyplot as plt\n",
    "import numpy as np\n",
    "\n",
    "from obspy import UTCDateTime, read_inventory, read\n",
    "from scipy.signal import welch\n",
    "\n",
    "from functions.get_fband_average import __get_fband_average\n",
    "from functions.get_median_psd import __get_median_psd"
   ]
  },
  {
   "cell_type": "code",
   "execution_count": null,
   "id": "f337911b",
   "metadata": {
    "ExecuteTime": {
     "end_time": "2023-08-07T14:54:03.147385Z",
     "start_time": "2023-08-07T14:54:03.133998Z"
    },
    "tags": []
   },
   "outputs": [],
   "source": [
    "if os.uname().nodename == 'lighthouse':\n",
    "    root_path = '/home/andbro/'\n",
    "    data_path = '/home/andbro/kilauea-data/'\n",
    "    archive_path = '/home/andbro/freenas/'\n",
    "elif os.uname().nodename == 'kilauea':\n",
    "    root_path = '/home/brotzer/'\n",
    "    data_path = '/import/kilauea-data/'\n",
    "    archive_path = '/import/freenas-ffb-01-data/'"
   ]
  },
  {
   "cell_type": "markdown",
   "id": "subject-expression",
   "metadata": {},
   "source": [
    "## Configurations"
   ]
  },
  {
   "cell_type": "code",
   "execution_count": null,
   "id": "fbb04826-9b92-43b5-910e-fe4f4f8c9104",
   "metadata": {
    "tags": []
   },
   "outputs": [],
   "source": [
    "from andbro__read_sds import __read_sds"
   ]
  },
  {
   "cell_type": "code",
   "execution_count": null,
   "id": "7cad3d7c-6f5f-4cb0-9333-43df9516679c",
   "metadata": {},
   "outputs": [],
   "source": []
  },
  {
   "cell_type": "code",
   "execution_count": null,
   "id": "e89d22a7",
   "metadata": {
    "ExecuteTime": {
     "end_time": "2023-08-07T15:31:55.890800Z",
     "start_time": "2023-08-07T15:31:55.885708Z"
    },
    "tags": []
   },
   "outputs": [],
   "source": [
    "## ---------------------------------------\n",
    "\n",
    "config = {}\n",
    "\n",
    "\n",
    "config['station1'] = \"BW.ROMY.10.BJZ\"\n",
    "config['station2'] = \"BW.RLAS..BJZ\"\n",
    "\n",
    "config['tbeg'] = \"2023-09-23 01:00\"\n",
    "\n",
    "config['tend'] = \"2023-09-23 02:00\"\n",
    "\n",
    "config['path_to_sds'] = archive_path+\"romy_archive/\"\n",
    "\n",
    "config['outpath_figures'] = data_path+f\"VelocityChanges/figures/\"\n",
    "\n",
    "config['path_to_inv'] = root_path+\"Documents/ROMY/stationxml_ringlaser/\""
   ]
  },
  {
   "cell_type": "code",
   "execution_count": null,
   "id": "90a5fef6-1aa9-4917-862f-7f7700cab1e6",
   "metadata": {
    "tags": []
   },
   "outputs": [],
   "source": [
    "inv1 = read_inventory(config['path_to_inv']+\"dataless.seed.BW_ROMY\")\n",
    "inv2 = read_inventory(config['path_to_inv']+\"dataless.seed.BW_RLAS\")"
   ]
  },
  {
   "cell_type": "code",
   "execution_count": null,
   "id": "e3e41364-f03e-46cd-ac1a-55b5b7fd75c0",
   "metadata": {
    "ExecuteTime": {
     "end_time": "2023-08-07T14:54:03.132454Z",
     "start_time": "2023-08-07T14:54:03.117840Z"
    },
    "code_folding": [
     0
    ],
    "tags": []
   },
   "outputs": [],
   "source": [
    "st1 = __read_sds(config['path_to_sds'], config['station1'], config['tbeg'], config['tend'])\n",
    "# st2 = __read_sds(config['path_to_sds'], config['station2'], config['tbeg'], config['tend'])\n",
    "st2 = read(root_path+\"Downloads/mseed/RLAS_BJZ_2023-09-23.mseed\")"
   ]
  },
  {
   "cell_type": "code",
   "execution_count": null,
   "id": "d63f5c7d-26f8-4d88-b330-51c790360fa3",
   "metadata": {
    "ExecuteTime": {
     "end_time": "2023-08-07T14:54:03.132454Z",
     "start_time": "2023-08-07T14:54:03.117840Z"
    },
    "code_folding": [
     0
    ],
    "tags": []
   },
   "outputs": [],
   "source": [
    "st1.remove_sensitivity(inv1)\n",
    "st2.remove_sensitivity(inv2)"
   ]
  },
  {
   "cell_type": "code",
   "execution_count": null,
   "id": "d10acda6-e53e-4c1a-9121-447f81ece8f4",
   "metadata": {
    "tags": []
   },
   "outputs": [],
   "source": [
    "st1.plot();\n",
    "st2.plot();"
   ]
  },
  {
   "cell_type": "code",
   "execution_count": null,
   "id": "a5fcc152-584e-4959-8cbe-daba50c7ab59",
   "metadata": {},
   "outputs": [],
   "source": [
    "def __compute_cross_wavelet_transform(times, arr1, arr2, tdelta, datalabels=[\"dat1\", \"dat2\"], xwt_threshold=0.0, xscale=\"lin\", fmax_limit=None, normalize=False, plot=True):\n",
    "\n",
    "    from pycwt import wct, xwt, Morlet, ar1, significance\n",
    "    from numpy import std, nanmean, nan, nanmax, nanmin, nanvar, ones, nan_to_num\n",
    "    import matplotlib.pyplot as plt\n",
    "    from numpy import sum as npsum\n",
    "\n",
    "    if len(arr1) != len(arr1):\n",
    "        print(\" -> different lenght of arrays!\")\n",
    "        return\n",
    "\n",
    "    def __mask_cone(arr2d, ff, thresholds, fill=nan):\n",
    "        mask = ones(arr2d.shape)\n",
    "        for k in range(arr2d.shape[0]):  ##85\n",
    "            for l in range(arr2d.shape[1]):  ## 1401\n",
    "                 if ff[k] < thresholds[l]:\n",
    "                    mask[k,l] = fill\n",
    "        return mask\n",
    "\n",
    "    def __mask_smaller_threshold(arr2d, thres, fill=nan):\n",
    "        mask = ones(arr2d.shape)\n",
    "        for k in range(arr2d.shape[0]):\n",
    "            for l in range(arr2d.shape[1]):\n",
    "                if arr2d[k,l] < thres:\n",
    "                    mask[k,l] = fill\n",
    "        return mask\n",
    "\n",
    "    def __mask_bigger_threshold(arr2d, thres, fill=nan):\n",
    "        mask = ones(arr2d.shape)\n",
    "        for k in range(arr2d.shape[0]):\n",
    "            for l in range(arr2d.shape[1]):\n",
    "                if arr2d[k,l] > thres:\n",
    "                    arr2d[k,l], mask[k,l] = fill\n",
    "        return mask\n",
    "\n",
    "    def __mask_unequal_threshold(arr2d, thres, fill=nan, tolerance=0):\n",
    "        mask = ones(arr2d.shape)\n",
    "        for k in range(arr2d.shape[0]):\n",
    "            for l in range(arr2d.shape[1]):\n",
    "                if arr2d[k,l] < (thres-tolerance) or arr2d[k,l] > (thres+tolerance):\n",
    "                    mask[k,l] = fill\n",
    "        return mask\n",
    "\n",
    "    ## specify parameters\n",
    "    N = len(arr1)\n",
    "    dt = tdelta\n",
    "    df = 1/dt\n",
    "    significance_threshold = 0.95\n",
    "\n",
    "    ## normalize, if desired\n",
    "    # if normalize:\n",
    "    #     arr1 /= nanmax(abs(arr1))\n",
    "    #     arr2 /= nanmax(abs(arr2))\n",
    "\n",
    "    ## create mother wavelet\n",
    "    mother_wavelet = Morlet(6)\n",
    "    s0_set = 2 * dt  # Starting scale\n",
    "    dj_set = 1 / 12  # Twelve sub-octaves per octaves\n",
    "    J_set = int(7 / dj_set)  # Seven powers of two with dj sub-octaves\n",
    "    #print(s0_set, dj_set, J_set)\n",
    "\n",
    "    ## compute cross-wavelet transform\n",
    "    xwt, cone_p, ff_xwt, d = xwt(\n",
    "                                arr1,\n",
    "                                arr2,\n",
    "                                dt=dt,\n",
    "                                dj=dj_set, #0.05,\n",
    "                                s0=s0_set, #-1,\n",
    "                                J=J_set, #-1,\n",
    "                                significance_level=significance_threshold,\n",
    "                                wavelet=mother_wavelet,  # u'morlet',\n",
    "                                normalize=True,\n",
    "                               )\n",
    "\n",
    "    cone_f = 1/cone_p\n",
    "\n",
    "    ## building cone\n",
    "    mask_cone = __mask_cone(xwt, ff_xwt, cone_f, fill=nan)\n",
    "\n",
    "\n",
    "    ## get real part\n",
    "    xwt_power = abs(xwt)\n",
    "\n",
    "\n",
    "    ## replace values below threshold with nan values\n",
    "    # xwt_threshold = 0.1\n",
    "    mask_xwt = __mask_smaller_threshold(xwt_power, xwt_threshold, fill=nan)\n",
    "\n",
    "    ## normalize cross wavelet transform\n",
    "    if normalize:\n",
    "        xwt_power /= nanmax(xwt_power.reshape((1, xwt_power.size))[0])\n",
    "\n",
    "    ## apply masks\n",
    "    xwt_power_masked = xwt_power * mask_xwt * mask_cone\n",
    "\n",
    "    ## compute global cross wavelet transform power\n",
    "    global_mean_xwt_f = nanmean(xwt_power_masked, axis=1)\n",
    "\n",
    "    global_sum_xwt_f = npsum(nan_to_num(xwt_power_masked, 0), axis=1)\n",
    "    global_sum_xwt_f /= max(global_sum_xwt_f)\n",
    "\n",
    "\n",
    "\n",
    "    ## ____________________________________________________\n",
    "    ## plotting\n",
    "    if plot:\n",
    "\n",
    "        from mpl_toolkits.axes_grid1 import make_axes_locatable\n",
    "\n",
    "        N = 4\n",
    "\n",
    "        fig, ax = plt.subplots(N, 1, figsize=(15, 7))\n",
    "\n",
    "        caxs = []\n",
    "\n",
    "        plt.subplots_adjust(hspace=0.3)\n",
    "\n",
    "        ax[0].plot(times, arr1, alpha=1, color=\"black\", lw=1, label=datalabels[0])\n",
    "        ax[0].set_xlim(min(times), max(times))\n",
    "        ax[0].set_ylabel(\"norm. \\n Amp. (rad/s)\")\n",
    "        ax[0].legend(loc=1)\n",
    "\n",
    "        ax[1].plot(times, arr2, alpha=1, color=\"tab:red\", lw=1, label=datalabels[1])\n",
    "        ax[1].set_xlim(min(times), max(times))\n",
    "        ax[1].set_ylabel(\"norm. \\n Amp. (rad/s)\")\n",
    "        ax[1].legend(loc=1)\n",
    "\n",
    "        if normalize:\n",
    "            ca2 = ax[2].pcolormesh(times, ff_xwt, xwt_power_masked)\n",
    "        else:\n",
    "            ca2 = ax[2].pcolormesh(times, ff_xwt, xwt_power, vmin=0, vmax=1)\n",
    "\n",
    "        ## plot cone\n",
    "        # ax[2].plot(times, cone_f, color=\"white\")\n",
    "        ax[2].fill_between(times, 0, cone_f, color=\"white\", alpha=0.3)\n",
    "\n",
    "        ax[2].set_ylabel(\"Frequency (Hz)\")\n",
    "\n",
    "        ax[3].plot(ff_xwt, global_sum_xwt_f, color=\"black\", label=\"global sum power (masked)\")\n",
    "        ax[3].plot(ff_xwt, global_mean_xwt_f, color=\"darkred\", label=\"global mean power (masked)\")\n",
    "\n",
    "        ax[3].legend()\n",
    "        ax[3].set_ylabel(\"global XWT\")\n",
    "        ax[3].set_xlabel(\"Frequency (Hz)\")\n",
    "\n",
    "\n",
    "        for n in range(N):\n",
    "            caxs.append(make_axes_locatable(ax[n]).append_axes(\"right\", size=\"2%\", pad=0.05))\n",
    "        cbar2 = plt.colorbar(ca2, cax=caxs[2], label=\"norm. XWT\")\n",
    "        caxs[0].remove()\n",
    "        caxs[1].remove()\n",
    "        caxs[3].remove()\n",
    "\n",
    "        if normalize:\n",
    "            ax[0].set_ylim(-1, 1)\n",
    "            ax[1].set_ylim(-1, 1)\n",
    "\n",
    "        if fmax_limit:\n",
    "            if fmax_limit*2 <= 20:\n",
    "                ax[3].set_xlim(0, fmax_limit*2)\n",
    "                ax[2].set_ylim(0, fmax_limit*2)\n",
    "\n",
    "        if xscale == \"log\":\n",
    "            ax[3].set_xscale(\"log\")\n",
    "            ax[2].set_yscale(\"log\")\n",
    "\n",
    "        ax[2].set_ylim(min(ff_xwt), max(ff_xwt))\n",
    "\n",
    "        plt.show();\n",
    "\n",
    "    ## prepare dict for return\n",
    "    out = {}\n",
    "    out['times'] = times\n",
    "    out['frequencies'] = ff_xwt\n",
    "    out['xwt_power'] = xwt_power\n",
    "    out['cone_mask'] = mask_cone\n",
    "    out['xwt_mask'] = mask_xwt\n",
    "    out['global_mean_xwt'] = global_mean_xwt_f\n",
    "    out['global_sum_xwt'] = global_sum_xwt_f\n",
    "\n",
    "\n",
    "    if plot:\n",
    "        out['fig'] = fig\n",
    "\n",
    "    return out"
   ]
  },
  {
   "cell_type": "code",
   "execution_count": null,
   "id": "aafcba8b-b2e7-478a-afdc-824e79caf640",
   "metadata": {
    "tags": []
   },
   "outputs": [],
   "source": [
    "st1.detrend(\"linear\")\n",
    "st2.detrend(\"linear\")"
   ]
  },
  {
   "cell_type": "code",
   "execution_count": null,
   "id": "f516868f-9ef6-409a-ad23-fd5377d71264",
   "metadata": {},
   "outputs": [],
   "source": [
    "tt = st1[0].times()\n",
    "\n",
    "dt = st1[0].stats.delta\n",
    "\n",
    "dat1 = st1[0].data\n",
    "dat2 = st2[0].data\n",
    "\n",
    "__compute_cross_wavelet_transform(tt, dat1, dat2, dt,\n",
    "                                  datalabels=[\"ROMY\", \"RLAS\"],\n",
    "                                  xscale=\"log\",\n",
    "                                  plot=True)\n"
   ]
  },
  {
   "cell_type": "code",
   "execution_count": null,
   "id": "d817be0e-68f7-4749-9b1d-86140c90fc45",
   "metadata": {},
   "outputs": [],
   "source": []
  },
  {
   "cell_type": "code",
   "execution_count": null,
   "id": "d5381d20-d56f-4d13-be61-f17e4d7878e2",
   "metadata": {},
   "outputs": [],
   "source": []
  }
 ],
 "metadata": {
  "kernelspec": {
   "display_name": "Python 3 (ipykernel)",
   "language": "python",
   "name": "python3"
  },
  "language_info": {
   "codemirror_mode": {
    "name": "ipython",
    "version": 3
   },
   "file_extension": ".py",
   "mimetype": "text/x-python",
   "name": "python",
   "nbconvert_exporter": "python",
   "pygments_lexer": "ipython3",
   "version": "3.10.12"
  },
  "latex_envs": {
   "LaTeX_envs_menu_present": true,
   "autoclose": false,
   "autocomplete": true,
   "bibliofile": "biblio.bib",
   "cite_by": "apalike",
   "current_citInitial": 1,
   "eqLabelWithNumbers": true,
   "eqNumInitial": 1,
   "hotkeys": {
    "equation": "Ctrl-E",
    "itemize": "Ctrl-I"
   },
   "labels_anchors": false,
   "latex_user_defs": false,
   "report_style_numbering": false,
   "user_envs_cfg": false
  },
  "toc": {
   "base_numbering": 1,
   "nav_menu": {},
   "number_sections": true,
   "sideBar": true,
   "skip_h1_title": false,
   "title_cell": "Table of Contents",
   "title_sidebar": "Contents",
   "toc_cell": false,
   "toc_position": {},
   "toc_section_display": true,
   "toc_window_display": false
  },
  "varInspector": {
   "cols": {
    "lenName": 16,
    "lenType": 16,
    "lenVar": 40
   },
   "kernels_config": {
    "python": {
     "delete_cmd_postfix": "",
     "delete_cmd_prefix": "del ",
     "library": "var_list.py",
     "varRefreshCmd": "print(var_dic_list())"
    },
    "r": {
     "delete_cmd_postfix": ") ",
     "delete_cmd_prefix": "rm(",
     "library": "var_list.r",
     "varRefreshCmd": "cat(var_dic_list()) "
    }
   },
   "types_to_exclude": [
    "module",
    "function",
    "builtin_function_or_method",
    "instance",
    "_Feature"
   ],
   "window_display": false
  }
 },
 "nbformat": 4,
 "nbformat_minor": 5
}
