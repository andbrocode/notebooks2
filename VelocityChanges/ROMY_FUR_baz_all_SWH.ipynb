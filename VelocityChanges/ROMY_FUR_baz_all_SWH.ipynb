{
 "cells": [
  {
   "cell_type": "markdown",
   "id": "eda030d3",
   "metadata": {},
   "source": [
    "# ROMY & FUR - SHW Maps"
   ]
  },
  {
   "cell_type": "markdown",
   "id": "protected-presentation",
   "metadata": {},
   "source": [
    "## Load Libraries"
   ]
  },
  {
   "cell_type": "code",
   "execution_count": 1,
   "id": "behind-arrangement",
   "metadata": {
    "ExecuteTime": {
     "end_time": "2023-08-07T14:54:03.050940Z",
     "start_time": "2023-08-07T14:54:00.312331Z"
    },
    "tags": []
   },
   "outputs": [],
   "source": [
    "import os, sys\n",
    "import pickle\n",
    "import matplotlib.pyplot as plt\n",
    "import numpy as np\n",
    "import matplotlib.colors as colors\n",
    "import netCDF4\n",
    "\n",
    "from obspy import UTCDateTime, read_inventory\n",
    "from scipy.signal import welch\n",
    "from pandas import read_pickle, DataFrame, date_range, DateOffset\n",
    "\n",
    "from functions.get_time_intervals import __get_time_intervals\n",
    "from functions.load_bathymetry import __load_bathymetry"
   ]
  },
  {
   "cell_type": "code",
   "execution_count": 2,
   "id": "f337911b",
   "metadata": {
    "ExecuteTime": {
     "end_time": "2023-08-07T14:54:03.147385Z",
     "start_time": "2023-08-07T14:54:03.133998Z"
    },
    "tags": []
   },
   "outputs": [],
   "source": [
    "if os.uname().nodename == 'lighthouse':\n",
    "    root_path = '/home/andbro/'\n",
    "    data_path = '/home/andbro/kilauea-data/'\n",
    "    archive_path = '/home/andbro/freenas/'\n",
    "    bay_path = '/home/andbro/bay200/'\n",
    "elif os.uname().nodename == 'kilauea':\n",
    "    root_path = '/home/brotzer/'\n",
    "    data_path = '/import/kilauea-data/'\n",
    "    archive_path = '/import/freenas-ffb-01-data/'\n",
    "    bay_path = '/bay200/'\n",
    "elif os.uname().nodename == 'lin-ffb-01':\n",
    "    root_path = '/home/brotzer/'\n",
    "    data_path = '/import/kilauea-data/'\n",
    "    archive_path = '/import/freenas-ffb-01-data/'\n",
    "    bay_path = '/bay200/'"
   ]
  },
  {
   "cell_type": "code",
   "execution_count": 23,
   "id": "86232343-de58-4321-9101-043eb4db9c32",
   "metadata": {
    "tags": []
   },
   "outputs": [],
   "source": [
    "config = {}\n",
    "\n",
    "config['tbeg'] = UTCDateTime(\"2023-09-20\")\n",
    "config['tend'] = UTCDateTime(\"2023-09-27\")\n",
    "\n",
    "config['tbeg'] = UTCDateTime(\"2023-12-01\")\n",
    "config['tend'] = UTCDateTime(\"2023-12-31\")\n",
    "\n",
    "config['path'] = data_path+\"VelocityChanges/data/all/\"\n",
    "# config['path_all'] = data_path+\"VelocityChanges/data/all/\"\n",
    "\n",
    "config['path_to_figs'] = data_path+\"VelocityChanges/figures/\"\n",
    "\n",
    "config['path_to_bathy_data'] = data_path+\"VelocityChanges/data/bathymetry/\"\n",
    "\n",
    "config['romy_lat'], config['romy_lon'] = 48.162941, 11.275501\n"
   ]
  },
  {
   "cell_type": "markdown",
   "id": "e5a3ced9-0572-46f7-a5d9-7ebe9d40e69e",
   "metadata": {},
   "source": [
    "### Load Data"
   ]
  },
  {
   "cell_type": "code",
   "execution_count": null,
   "id": "f4e0c7bb-1852-4980-8cd3-e48e0aa9e2a2",
   "metadata": {
    "tags": []
   },
   "outputs": [
    {
     "name": "stdout",
     "output_type": "stream",
     "text": [
      "loading: VC_BAZ_2023-12-01_all.pkl\n",
      "loading: VC_BAZ_2023-12-02_all.pkl\n",
      "loading: VC_BAZ_2023-12-03_all.pkl\n",
      "loading: VC_BAZ_2023-12-04_all.pkl\n",
      "loading: VC_BAZ_2023-12-05_all.pkl\n",
      "loading: VC_BAZ_2023-12-06_all.pkl\n",
      "loading: VC_BAZ_2023-12-07_all.pkl\n",
      "loading: VC_BAZ_2023-12-08_all.pkl\n",
      "loading: VC_BAZ_2023-12-09_all.pkl\n",
      "loading: VC_BAZ_2023-12-10_all.pkl\n"
     ]
    }
   ],
   "source": [
    "dates = __get_time_intervals(config['tbeg'], config['tend'], interval_seconds=86400, interval_overlap=0)\n",
    "# dates = __get_time_intervals(config['tbeg'], config['tbeg']+86400, interval_seconds=86400, interval_overlap=0)\n",
    "\n",
    "\n",
    "baz_love, baz_rayleigh, baz_tangent, baz_bf = np.array([]), np.array([]), np.array([]), np.array([])\n",
    "vel_love, vel_rayleigh, vel_bf = np.array([]), np.array([]), np.array([])\n",
    "std_love, std_rayleigh, std_bf = np.array([]), np.array([]), np.array([])\n",
    "cc_love, cc_rayleigh, cc_bf, cc_tangent = np.array([]), np.array([]), np.array([]), np.array([])\n",
    "ttt, ttt_bf = np.array([]), np.array([])\n",
    "\n",
    "for _n, (d1, d2) in enumerate(dates):\n",
    "\n",
    "    filename = f\"VC_BAZ_{d1.date}_all.pkl\"\n",
    "\n",
    "    if os.path.isfile(config['path']+filename):\n",
    "        print(f\"loading: {filename}\")\n",
    "        out = read_pickle(config['path']+filename)\n",
    "    else:\n",
    "        print(f\"-> no file for {filename}\")\n",
    "\n",
    "    # print(out.keys())\n",
    "\n",
    "    try:\n",
    "        vel_love = np.append(vel_love, out['vel_love_all'])\n",
    "        vel_rayleigh = np.append(vel_rayleigh, out['vel_rayleigh_all'])\n",
    "        vel_bf = np.append(vel_bf, out['vel_bf_all'])\n",
    "\n",
    "        baz_love = np.append(baz_love, out['baz_love_all'])\n",
    "        baz_rayleigh = np.append(baz_rayleigh, out['baz_rayleigh_all'])\n",
    "        baz_tangent = np.append(baz_tangent, out['baz_tangent_all'])\n",
    "        baz_bf = np.append(baz_bf, out['baz_bf_all'])\n",
    "\n",
    "        cc_love = np.append(cc_love, out['cc_love_all'])\n",
    "        cc_rayleigh = np.append(cc_rayleigh, out['cc_rayleigh_all'])\n",
    "        cc_tangent = np.append(cc_tangent, out['cc_tangent_all'])\n",
    "\n",
    "\n",
    "        ttt = np.append(ttt, out['time'])\n",
    "        ttt_bf = np.append(ttt_bf, out['time_bf'])\n",
    "\n",
    "    except:\n",
    "        print(f\" -> skipping: {filename}\")\n",
    "        continue\n",
    "\n",
    "## remove nan values based on time array\n",
    "# bad = []\n",
    "# for _i, tt in enumerate(ttt):\n",
    "#     if str(type(tt)) != \"<class 'obspy.core.utcdatetime.UTCDateTime'>\":\n",
    "#         bad.append(_i)\n",
    "\n"
   ]
  },
  {
   "cell_type": "code",
   "execution_count": null,
   "id": "e4cbd55b-ec08-4e08-8ec6-3061bd556cdd",
   "metadata": {
    "tags": []
   },
   "outputs": [],
   "source": []
  },
  {
   "cell_type": "markdown",
   "id": "f2d6e45c-cbff-497e-9605-8756f88642fc",
   "metadata": {},
   "source": [
    "### Make DataFrames"
   ]
  },
  {
   "cell_type": "code",
   "execution_count": null,
   "id": "cb467979-4bcd-448f-bf64-3034e6712d45",
   "metadata": {
    "tags": []
   },
   "outputs": [],
   "source": [
    "## _____________________________\n",
    "df_rayleigh = DataFrame()\n",
    "\n",
    "df_rayleigh['time'] = ttt\n",
    "df_rayleigh['cc'] = cc_rayleigh\n",
    "df_rayleigh['vel'] = vel_rayleigh\n",
    "df_rayleigh['baz'] = baz_rayleigh\n",
    "\n",
    "\n",
    "df_rayleigh = df_rayleigh.dropna(subset=['time']).reset_index()\n",
    "\n",
    "df_rayleigh['time_relative'] = df_rayleigh.time - df_rayleigh.time.iloc[0]\n",
    "\n",
    "## _____________________________\n",
    "df_love = DataFrame()\n",
    "\n",
    "df_love['time'] = ttt\n",
    "df_love['cc'] = cc_love\n",
    "df_love['vel'] = vel_love\n",
    "df_love['baz'] = baz_love\n",
    "\n",
    "df_love = df_love.dropna(subset=['time']).reset_index()\n",
    "\n",
    "df_love['time_relative'] = df_love.time - df_love.time.iloc[0]\n",
    "\n",
    "## _____________________________\n",
    "df_tangent = DataFrame()\n",
    "\n",
    "df_tangent['time'] = ttt\n",
    "df_tangent['cc'] = cc_tangent\n",
    "df_tangent['baz'] = baz_tangent\n",
    "\n",
    "df_tangent = df_tangent.dropna(subset=['time']).reset_index()\n",
    "\n",
    "df_tangent['time_relative'] = df_tangent.time - df_tangent.time.iloc[0]\n",
    "\n",
    "## _____________________________\n",
    "df_bf = DataFrame()\n",
    "\n",
    "df_bf['time'] = ttt_bf\n",
    "df_bf['baz'] = baz_bf\n",
    "df_bf['vel'] = vel_bf\n",
    "\n",
    "df_bf = df_bf.dropna(subset=['time']).reset_index()\n",
    "\n",
    "df_bf['time_relative'] = df_bf.time - df_bf.time.iloc[0]\n"
   ]
  },
  {
   "cell_type": "markdown",
   "id": "98283465-17e0-4121-a8b2-cbc09988c08e",
   "metadata": {},
   "source": [
    "#### Filter Frames"
   ]
  },
  {
   "cell_type": "code",
   "execution_count": null,
   "id": "2f86e28b-915f-4a1f-8fa8-b61a02daa954",
   "metadata": {
    "tags": []
   },
   "outputs": [],
   "source": [
    "cc_threshold = 0.7\n",
    "\n",
    "df_tangent = df_tangent[df_tangent.cc > cc_threshold]\n",
    "df_rayleigh = df_rayleigh[df_rayleigh.cc > cc_threshold]\n",
    "df_love = df_love[df_love.cc > cc_threshold]\n",
    "# df_bf = df_bf[df_bf.cc > cc_threshold]\n"
   ]
  },
  {
   "cell_type": "markdown",
   "id": "6ad799a7-21ce-4666-ac52-5c860d5c0e02",
   "metadata": {},
   "source": [
    "### Load SWH Maps"
   ]
  },
  {
   "cell_type": "code",
   "execution_count": 7,
   "id": "ac090594-96a4-45c5-b575-2d7a1274e31f",
   "metadata": {
    "tags": []
   },
   "outputs": [
    {
     "data": {
      "text/plain": [
       "dict_keys(['VAVH_DAILY_MAX', 'VAVH_DAILY_MEAN', 'VAVH_DAILY_NBR', 'VAVH_DAILY_STD', 'VAVH_INST', 'VAVH_INST_NBR', 'VAVH_INST_SCORE', 'latitude', 'longitude', 'time'])"
      ]
     },
     "execution_count": 7,
     "metadata": {},
     "output_type": "execute_result"
    }
   ],
   "source": [
    "path_to_swh_data = data_path+\"VelocityChanges/data/SWH/\"\n",
    "\n",
    "f = netCDF4.Dataset(path_to_swh_data+'cmems_obs-wave_glo_phy-swh_nrt_multi-l4-2deg_P1D.nc')\n",
    "\n",
    "# f.variables.keys()"
   ]
  },
  {
   "cell_type": "code",
   "execution_count": 8,
   "id": "cc09efb3-8f49-4a85-9fc9-f044eb52dfee",
   "metadata": {
    "tags": []
   },
   "outputs": [],
   "source": [
    "lat, lon = f.variables['latitude'], f.variables['longitude']\n",
    "\n",
    "img = f.variables['VAVH_DAILY_MEAN'][10].data\n",
    "\n",
    "# plt.pcolormesh(lon[:], lat[:], img, shading=\"auto\")"
   ]
  },
  {
   "cell_type": "markdown",
   "id": "2e3c8df9-7ba8-498a-9781-c2de9d2dd784",
   "metadata": {},
   "source": [
    "### Load Bathymetry Data"
   ]
  },
  {
   "cell_type": "code",
   "execution_count": 10,
   "id": "149c6df2-24b3-4f69-8550-7df923f8d03d",
   "metadata": {},
   "outputs": [],
   "source": [
    "box = [config['romy_lon']-40, config['romy_lon']+40, config['romy_lat']-40, config['romy_lat']+40]\n",
    "\n",
    "out_bath = __load_bathymetry(config['path_to_bathy_data'], (box[0], box[2], box[1], box[3]))\n"
   ]
  },
  {
   "cell_type": "markdown",
   "id": "7f95e27a-9344-4bb3-8e76-268e7efffd3a",
   "metadata": {},
   "source": [
    "## Plot on Map"
   ]
  },
  {
   "cell_type": "code",
   "execution_count": 19,
   "id": "bec0a478-208b-4d4a-982f-8312abe03c56",
   "metadata": {
    "tags": []
   },
   "outputs": [],
   "source": [
    "def circular_hist(ax, x, nbins=72, density=True, offset=0, gaps=True, weights=None):\n",
    "    \"\"\"\n",
    "    Produce a circular histogram of angles on ax.\n",
    "\n",
    "    Parameters\n",
    "    ----------\n",
    "    ax : matplotlib.axes._subplots.PolarAxesSubplot\n",
    "        axis instance created with subplot_kw=dict(projection='polar').\n",
    "\n",
    "    x : array\n",
    "        Angles to plot, expected in units of radians.\n",
    "\n",
    "    bins : int, optional\n",
    "        Defines the number of equal-width bins in the range. The default is 16.\n",
    "\n",
    "    density : bool, optional\n",
    "        If True plot frequency proportional to area. If False plot frequency\n",
    "        proportional to radius. The default is True.\n",
    "\n",
    "    offset : float, optional\n",
    "        Sets the offset for the location of the 0 direction in units of\n",
    "        radians. The default is 0.\n",
    "\n",
    "    gaps : bool, optional\n",
    "        Whether to allow gaps between bins. When gaps = False the bins are\n",
    "        forced to partition the entire [-pi, pi] range. The default is True.\n",
    "\n",
    "    Returns\n",
    "    -------\n",
    "    n : array or list of arrays\n",
    "        The number of values in each bin.\n",
    "\n",
    "    bins : array\n",
    "        The edges of the bins.\n",
    "\n",
    "    patches : `.BarContainer` or list of a single `.Polygon`\n",
    "        Container of individual artists used to create the histogram\n",
    "        or list of such containers if there are multiple input datasets.\n",
    "    \"\"\"\n",
    "    import numpy as np\n",
    "\n",
    "    # Wrap angles to [-pi, pi)\n",
    "    x = (x+np.pi) % (2*np.pi) - np.pi\n",
    "\n",
    "    # Force bins to partition entire circle\n",
    "    if not gaps:\n",
    "        nbins = np.linspace(-np.pi, np.pi, num=nbins+1)\n",
    "\n",
    "    # Bin data and record counts\n",
    "    if weights is not None:\n",
    "        n, bins = np.histogram(x, bins=nbins, range=(-np.pi, np.pi), weights=weights)\n",
    "    else:\n",
    "        n, bins = np.histogram(x, bins=nbins, range=(-np.pi, np.pi))\n",
    "\n",
    "    # Compute width of each bin\n",
    "    widths = np.diff(bins)\n",
    "\n",
    "    # By default plot frequency proportional to area\n",
    "    if density:\n",
    "        # Area to assign each bin\n",
    "        area = n / x.size\n",
    "        # Calculate corresponding bin radius\n",
    "        radius = (area/np.pi) ** .5\n",
    "    # Otherwise plot frequency proportional to radius\n",
    "    else:\n",
    "        radius = n\n",
    "\n",
    "    # Plot data on ax\n",
    "    patches = ax.bar(bins[:-1], radius, zorder=2, align='edge', width=widths, alpha=0.6,\n",
    "                     edgecolor='darkred', facecolor='darkred', fill=False, linewidth=0.8, bottom=1.0)\n",
    "    # patches = ax.bar(bins[:-1], radius, zorder=2, align='edge', width=widths, alpha=0.6,\n",
    "    #                  edgecolor='k', facecolor='darkred', fill=True, linewidth=0.5, bottom=1.0)\n",
    "\n",
    "    # Set the direction of the zero angle\n",
    "    # ax.set_theta_offset(offset)\n",
    "    ax.set_theta_zero_location(\"N\")  # theta=0 at the top\n",
    "\n",
    "    ax.set_theta_direction(-1)  # theta increasing clockwise\n",
    "\n",
    "    ax.grid(zorder=0)\n",
    "\n",
    "    # Remove ylabels for area plots (they are mostly obstructive)\n",
    "    if density:\n",
    "        ax.set_yticks([])\n",
    "\n",
    "    return n, bins, patches"
   ]
  },
  {
   "cell_type": "code",
   "execution_count": 20,
   "id": "0b02ee78-2950-4046-a301-0ba22d08355f",
   "metadata": {
    "tags": []
   },
   "outputs": [],
   "source": [
    "def __makeplot_swh_maps(density=True):\n",
    "\n",
    "    import cartopy.feature as cfeature\n",
    "    import cartopy.crs as ccrs\n",
    "\n",
    "    font = 12\n",
    "\n",
    "    fig = plt.figure(figsize=(15, 15), dpi=96)\n",
    "\n",
    "    fig.subplots_adjust(hspace=-0.2, wspace=0.1)\n",
    "\n",
    "\n",
    "    ## ------------------------------------------------------------------------------\n",
    "    ## CoVar\n",
    "\n",
    "    ax0 = fig.add_subplot(221, projection=ccrs.PlateCarree(), frame_on=False)\n",
    "\n",
    "    ax0.pcolormesh(lon, lat, img, transform=ccrs.PlateCarree(), alpha=0.9, zorder=0)\n",
    "    ax0.add_feature(cfeature.LAND, color='grey', zorder=1)\n",
    "    ax0.coastlines(zorder=1)\n",
    "\n",
    "    # ax0.set_xlim(config['romy_lon']-60, config['romy_lon']+60)\n",
    "    # ax0.set_ylim(config['romy_lat']-60, config['romy_lat']+60)\n",
    "\n",
    "\n",
    "    ax00 = fig.add_subplot(221, projection='polar', frame_on=True)\n",
    "\n",
    "    circular_hist(ax00, np.deg2rad(df_tangent0.baz), density=True, weights=df_tangent0.cc)\n",
    "\n",
    "    # ax0.scatter(config['romy_lon'], config['romy_lat'], zorder=10, s=50, color=\"w\")\n",
    "\n",
    "\n",
    "    ## ------------------------------------------------------------------------------\n",
    "    ## CoVar\n",
    "\n",
    "    ax1 = fig.add_subplot(222, projection=ccrs.PlateCarree(), frame_on=False)\n",
    "\n",
    "    ax1.pcolormesh(lon, lat, img, transform=ccrs.PlateCarree(), alpha=0.9, zorder=0)\n",
    "    ax1.add_feature(cfeature.LAND, color='grey', zorder=1)\n",
    "    ax1.coastlines(zorder=1)\n",
    "\n",
    "    ax11 = fig.add_subplot(222, projection='polar', frame_on=True)\n",
    "\n",
    "    # circular_hist(ax11, np.deg2rad(df_bf0.baz), density=True, weights=df_bf0.cc)\n",
    "    circular_hist(ax11, np.deg2rad(df_bf0.baz), density=True, weights=None)\n",
    "\n",
    "\n",
    "    ## ------------------------------------------------------------------------------\n",
    "    ## CoVar\n",
    "\n",
    "    ax2 = fig.add_subplot(223, projection=ccrs.PlateCarree(), frame_on=False)\n",
    "\n",
    "    ax2.pcolormesh(lon, lat, img, transform=ccrs.PlateCarree(), alpha=0.9, zorder=0)\n",
    "    ax2.add_feature(cfeature.LAND, color='grey', zorder=1)\n",
    "    ax2.coastlines(zorder=1)\n",
    "\n",
    "    ax22 = fig.add_subplot(223, projection='polar', frame_on=True)\n",
    "\n",
    "    circular_hist(ax22, np.deg2rad(df_love0.baz), density=True, weights=df_love0.cc)\n",
    "\n",
    "    ## ------------------------------------------------------------------------------\n",
    "    ## CoVar\n",
    "\n",
    "    ax3 = fig.add_subplot(224, projection=ccrs.PlateCarree(), frame_on=False)\n",
    "\n",
    "    ax3.pcolormesh(lon, lat, img, transform=ccrs.PlateCarree(), alpha=0.9, zorder=0)\n",
    "    ax3.add_feature(cfeature.LAND, color='grey', zorder=1)\n",
    "    ax3.coastlines(zorder=1)\n",
    "\n",
    "    ax33 = fig.add_subplot(224, projection='polar', frame_on=True)\n",
    "\n",
    "    circular_hist(ax33, np.deg2rad(df_rayleigh0.baz), density=True, weights=df_rayleigh0.cc)\n",
    "\n",
    "    ## ------------------------------------------------------------------------------\n",
    "\n",
    "    for _ax in [ax00, ax11, ax22, ax33]:\n",
    "        _ax.patch.set_alpha(0.)\n",
    "        _ax.grid(color=\"k\", ls=\"--\", alpha=0.5)\n",
    "        _ax.set_zorder(5)\n",
    "\n",
    "        _pos = _ax.get_position()\n",
    "        _ax.set_position([_pos.x0+0.092, _pos.y0+0.08, _pos.width*0.65, _pos.height*0.65])\n",
    "\n",
    "\n",
    "    ax0.set_title(\"(a) Co-Variance\", pad=5, loc=\"left\", fontsize=font)\n",
    "    ax1.set_title(\"(b) Beamforming\", pad=5, loc=\"left\", fontsize=font)\n",
    "    ax2.set_title(\"(c) Love waves\", pad=5, loc=\"left\", fontsize=font)\n",
    "    ax3.set_title(\"(d) Rayleigh waves\", pad=5, loc=\"left\", fontsize=font)\n",
    "\n",
    "    plt.suptitle(f\"Backazimuth Estimation:  BW.ROMY - GR.FUR  {str(dat)[:10]}\",\n",
    "                 fontsize=font+1, y=0.86)\n",
    "\n",
    "    # gc.collect()\n",
    "\n",
    "    plt.show();\n",
    "    return fig\n",
    "\n",
    "# fig = __makeplot_swh_maps(density=True)\n"
   ]
  },
  {
   "cell_type": "markdown",
   "id": "59f430de-2bab-4000-b477-d7884b66e143",
   "metadata": {},
   "source": [
    "### Loop"
   ]
  },
  {
   "cell_type": "code",
   "execution_count": null,
   "id": "1aa61a65-f2af-4980-a3c7-473df7b1e1fa",
   "metadata": {},
   "outputs": [],
   "source": [
    "dates = date_range(str(config['tbeg'].date), str(config['tend'].date))\n",
    "\n",
    "for dat in dates:\n",
    "\n",
    "    sec = abs(UTCDateTime(\"1970-01-01\") - UTCDateTime(str(dat)))\n",
    "\n",
    "    idx_time = netCDF4.date2index(dat, f.variables['time'], select='nearest')\n",
    "\n",
    "    print(dat, idx_time)\n",
    "\n",
    "    try:\n",
    "        img = f.variables['VAVH_DAILY_MEAN'][idx_time].data\n",
    "\n",
    "        df_tangent0 = df_tangent[(df_tangent.time > dat) & (df_tangent.time < dat + DateOffset(1))]\n",
    "        df_bf0 = df_bf[(df_bf.time > dat) & (df_bf.time < dat + DateOffset(1))]\n",
    "        df_love0 = df_love[(df_love.time > dat) & (df_love.time < dat + DateOffset(1))]\n",
    "        df_rayleigh0 = df_rayleigh[(df_rayleigh.time > dat) & (df_rayleigh.time < dat + DateOffset(1))]\n",
    "\n",
    "        fig = __makeplot_swh_maps(density=True)\n",
    "\n",
    "        fig.savefig(config['path_to_figs']+\"SWH/\"+f\"BAZ_SWH_{str(dat)[:10]}.png\", format=\"png\", dpi=150, bbox_inches='tight')\n",
    "\n",
    "    except:\n",
    "        pass"
   ]
  },
  {
   "cell_type": "code",
   "execution_count": null,
   "id": "bbd5b11a-472e-4260-ab44-4601ac29b3c0",
   "metadata": {},
   "outputs": [],
   "source": []
  }
 ],
 "metadata": {
  "kernelspec": {
   "display_name": "Python 3 (ipykernel)",
   "language": "python",
   "name": "python3"
  },
  "language_info": {
   "codemirror_mode": {
    "name": "ipython",
    "version": 3
   },
   "file_extension": ".py",
   "mimetype": "text/x-python",
   "name": "python",
   "nbconvert_exporter": "python",
   "pygments_lexer": "ipython3",
   "version": "3.10.12"
  },
  "latex_envs": {
   "LaTeX_envs_menu_present": true,
   "autoclose": false,
   "autocomplete": true,
   "bibliofile": "biblio.bib",
   "cite_by": "apalike",
   "current_citInitial": 1,
   "eqLabelWithNumbers": true,
   "eqNumInitial": 1,
   "hotkeys": {
    "equation": "Ctrl-E",
    "itemize": "Ctrl-I"
   },
   "labels_anchors": false,
   "latex_user_defs": false,
   "report_style_numbering": false,
   "user_envs_cfg": false
  },
  "toc": {
   "base_numbering": 1,
   "nav_menu": {},
   "number_sections": true,
   "sideBar": true,
   "skip_h1_title": false,
   "title_cell": "Table of Contents",
   "title_sidebar": "Contents",
   "toc_cell": false,
   "toc_position": {},
   "toc_section_display": true,
   "toc_window_display": false
  },
  "varInspector": {
   "cols": {
    "lenName": 16,
    "lenType": 16,
    "lenVar": 40
   },
   "kernels_config": {
    "python": {
     "delete_cmd_postfix": "",
     "delete_cmd_prefix": "del ",
     "library": "var_list.py",
     "varRefreshCmd": "print(var_dic_list())"
    },
    "r": {
     "delete_cmd_postfix": ") ",
     "delete_cmd_prefix": "rm(",
     "library": "var_list.r",
     "varRefreshCmd": "cat(var_dic_list()) "
    }
   },
   "types_to_exclude": [
    "module",
    "function",
    "builtin_function_or_method",
    "instance",
    "_Feature"
   ],
   "window_display": false
  }
 },
 "nbformat": 4,
 "nbformat_minor": 5
}
