{
 "cells": [
  {
   "cell_type": "code",
   "execution_count": 1,
   "metadata": {
    "tags": []
   },
   "outputs": [],
   "source": [
    "#!/usr/bin/env python\n",
    "#\n",
    "#  Author: Andreas Brotzer (2024)\n",
    "# -------------------------------------------------------------------------"
   ]
  },
  {
   "cell_type": "code",
   "execution_count": 2,
   "metadata": {
    "tags": []
   },
   "outputs": [],
   "source": [
    "import os\n",
    "import yaml\n",
    "import matplotlib.pyplot as plt\n",
    "import matplotlib as mpl\n",
    "import numpy as np\n",
    "\n",
    "from obspy import UTCDateTime\n",
    "from pandas import read_csv, date_range\n"
   ]
  },
  {
   "cell_type": "code",
   "execution_count": 3,
   "metadata": {
    "tags": []
   },
   "outputs": [],
   "source": [
    "if os.uname().nodename == 'lighthouse':\n",
    "    root_path = '/home/andbro/'\n",
    "    data_path = '/home/andbro/kilauea-data/'\n",
    "    archive_path = '/home/andbro/freenas/'\n",
    "    bay_path = '/home/andbro/ontap-ffb-bay200/'\n",
    "    lamont_path = '/home/andbro/lamont/'\n",
    "elif os.uname().nodename == 'kilauea':\n",
    "    root_path = '/home/brotzer/'\n",
    "    data_path = '/import/kilauea-data/'\n",
    "    archive_path = '/import/freenas-ffb-01-data/'\n",
    "    bay_path = '/import/ontap-ffb-bay200/'\n",
    "    lamont_path = '/lamont/'\n",
    "elif os.uname().nodename in ['lin-ffb-01', 'ambrym', 'hochfelln']:\n",
    "    root_path = '/home/brotzer/'\n",
    "    data_path = '/import/kilauea-data/'\n",
    "    archive_path = '/import/freenas-ffb-01-data/'\n",
    "    bay_path = '/import/ontap-ffb-bay200/'\n",
    "    lamont_path = '/lamont/'"
   ]
  },
  {
   "cell_type": "code",
   "execution_count": null,
   "metadata": {},
   "outputs": [],
   "source": []
  },
  {
   "cell_type": "markdown",
   "metadata": {},
   "source": [
    "## Configurations"
   ]
  },
  {
   "cell_type": "code",
   "execution_count": 46,
   "metadata": {
    "tags": []
   },
   "outputs": [],
   "source": [
    "config = {}\n",
    "\n",
    "config['sta'] = \"VROMY\"\n",
    "\n",
    "config['tbeg'] = \"2024-02-01\"\n",
    "config['tend'] = \"2024-09-23\"\n",
    "\n",
    "config['project'] = \"rolode\"\n",
    "\n",
    "config['fmin'], config['fmax'] = 1/11, 7.0\n",
    "\n",
    "config['path_to_conf'] = data_path+\"VelocityChanges/data/VROMY/sds/\"\n",
    "\n",
    "config['path'] = data_path+f\"VelocityChanges/data/VROMY/{config['project']}/\"\n",
    "\n",
    "config['path_to_figs'] = data_path+\"VelocityChanges/figures/\"\n",
    "\n",
    "# config['name'] = f\"{config['project']}_{str(UTCDateTime(config['tbeg']).date).replace('-','')}\"\n",
    "\n",
    "config['col_names'] = [\"frequency\", \"mean\", \"std\", \"mode\", \"median\"]\n",
    "\n",
    "config['dates'] = date_range(config['tbeg'], config['tend'])\n",
    "config['dates'] = [str(_d)[:10].replace('-', '') for _d in config['dates']]\n",
    "\n",
    "cmap = mpl.colormaps['viridis']\n",
    "colors = cmap(np.linspace(0, 1, len(config['dates'])))\n",
    "config['date_colors'] = {_d:_c for _d, _c in zip(config['dates'], colors)}\n"
   ]
  },
  {
   "cell_type": "markdown",
   "metadata": {},
   "source": [
    "### Load Data"
   ]
  },
  {
   "cell_type": "code",
   "execution_count": 47,
   "metadata": {
    "tags": []
   },
   "outputs": [],
   "source": [
    "def __load_dispersion(mode=\"Love\"):\n",
    "\n",
    "    from pandas import DataFrame, concat, read_csv\n",
    "\n",
    "    # df = DataFrame()\n",
    "    data = {}\n",
    "\n",
    "    dates = date_range(config['tbeg'], config['tend'])\n",
    "\n",
    "    no_file = 0\n",
    "\n",
    "    for _n, _date in enumerate(dates):\n",
    "\n",
    "        _date_str = str(_date)[:10].replace('-','')\n",
    "\n",
    "        filename = f\"{config['project']}_{_date_str}_{mode}/\"\n",
    "\n",
    "        if os.path.isdir(config['path']+filename):\n",
    "            try:\n",
    "                df0 = read_csv(config['path']+f\"{filename}\"+\"results.csv\",\n",
    "                               delimiter=\",\", header=0, names=config['col_names']\n",
    "                              )\n",
    "                data[_date_str] = df0\n",
    "            except Exception as e:\n",
    "                print(e)\n",
    "        else:\n",
    "            # print(f\"-> no file for {filename}\")\n",
    "            no_file += 1\n",
    "\n",
    "    print(f\"-> no file for {no_file} dates\")\n",
    "\n",
    "    return data"
   ]
  },
  {
   "cell_type": "code",
   "execution_count": null,
   "metadata": {
    "tags": []
   },
   "outputs": [],
   "source": [
    "data_love = __load_dispersion(\"Love\")"
   ]
  },
  {
   "cell_type": "code",
   "execution_count": null,
   "metadata": {
    "tags": []
   },
   "outputs": [],
   "source": [
    "data_rayl = __load_dispersion(\"Rayleigh2\")"
   ]
  },
  {
   "cell_type": "markdown",
   "metadata": {
    "tags": []
   },
   "source": [
    "### Plotting"
   ]
  },
  {
   "cell_type": "code",
   "execution_count": null,
   "metadata": {
    "tags": []
   },
   "outputs": [],
   "source": [
    "def __makeplot():\n",
    "\n",
    "    import matplotlib.pyplot as plt\n",
    "    import numpy as np\n",
    "    import matplotlib as mpl\n",
    "\n",
    "    Nrow, Ncol = 2, 1\n",
    "\n",
    "    font = 12\n",
    "\n",
    "    fig, ax = plt.subplots(Nrow, Ncol, figsize=(12, 8), sharex=False)\n",
    "\n",
    "    plt.subplots_adjust(hspace=0.1)\n",
    "\n",
    "    for _i, k in enumerate(data_love.keys()):\n",
    "\n",
    "        _data = data_love[k]\n",
    "\n",
    "        if np.isnan(_data['median'].astype(float)).all():\n",
    "            print(f\" -> all nan {k}\")\n",
    "            continue\n",
    "\n",
    "        _data.dropna(inplace=True)\n",
    "\n",
    "        try:\n",
    "            ax[0].errorbar(_data['frequency'].astype(float),\n",
    "                           _data['median'].astype(float),\n",
    "                           yerr=_data['std'].astype(float),\n",
    "                           ls=\"-\", ms=3, marker=\"o\", label=k,\n",
    "                           ecolor=\"k\", markerfacecolor=\"w\",\n",
    "                           color=config['date_colors'][k], alpha=0.9\n",
    "                           )\n",
    "        except:\n",
    "            pass\n",
    "\n",
    "    for _i, k in enumerate(data_rayl.keys()):\n",
    "\n",
    "        _data = data_rayl[k]\n",
    "        _data.dropna(inplace=True)\n",
    "\n",
    "        try:\n",
    "            ax[1].errorbar(_data['frequency'].astype(float),\n",
    "                           np.array(_data['median'].astype(float)),\n",
    "                           yerr=_data['std'].astype(float),\n",
    "                           ls=\"-\", ms=3, marker=\"o\", label=k,\n",
    "                           ecolor=\"k\", markerfacecolor=\"w\",\n",
    "                           color=config['date_colors'][k], alpha=0.9\n",
    "                           )\n",
    "        except Exception as e:\n",
    "            print(e)\n",
    "            pass\n",
    "\n",
    "    for n in range(2):\n",
    "        ax[n].set_xscale(\"log\")\n",
    "\n",
    "        ax[n].set_ylim(0, 5000)\n",
    "\n",
    "        ax[n].grid(which=\"both\", ls=\"--\", color=\"grey\", alpha=0.5, zorder=0)\n",
    "\n",
    "        ax[n].set_xlim(config['fmin'], config['fmax'])\n",
    "\n",
    "    ax[0].set_ylabel(\"Phase Velocity (m/s)\", fontsize=font)\n",
    "    ax[1].set_ylabel(\"Phase Velocity (m/s)\", fontsize=font)\n",
    "    ax[1].set_xlabel(\"Frequency (Hz)\", fontsize=font)\n",
    "    ax[0].set_title(\"Dispersion Curves for ROMY\", fontsize=font+1)\n",
    "\n",
    "    for _k, ll in enumerate(['(a)', '(b)']):\n",
    "        ax[_k].text(.005, .97, ll, ha='left', va='top', transform=ax[_k].transAxes, fontsize=font+2)\n",
    "\n",
    "    ax[0].text(.05, .97, \"Love waves\", ha='left', va='top', transform=ax[0].transAxes, fontsize=font+2)\n",
    "    ax[1].text(.05, .97, \"Rayleigh waves\", ha='left', va='top', transform=ax[1].transAxes, fontsize=font+2)\n",
    "\n",
    "    plt.show();\n",
    "    return fig\n",
    "\n",
    "fig = __makeplot();\n",
    "\n",
    "fig.savefig(config['path_to_figs']+f\"Dispersion_{config['tbeg']}_{config['tend']}.png\", format=\"png\", dpi=150, bbox_inches='tight')\n"
   ]
  },
  {
   "cell_type": "code",
   "execution_count": null,
   "metadata": {},
   "outputs": [],
   "source": []
  },
  {
   "cell_type": "code",
   "execution_count": null,
   "metadata": {
    "tags": []
   },
   "outputs": [],
   "source": [
    "def __makeplot():\n",
    "\n",
    "    import matplotlib.pyplot as plt\n",
    "    import numpy as np\n",
    "    import matplotlib as mpl\n",
    "\n",
    "    Nrow, Ncol = 2, 1\n",
    "\n",
    "    font = 12\n",
    "\n",
    "    fig, ax = plt.subplots(Nrow, Ncol, figsize=(12, 8), sharex=False)\n",
    "\n",
    "    plt.subplots_adjust(hspace=0.1)\n",
    "\n",
    "    for _i, k in enumerate(data_love.keys()):\n",
    "\n",
    "        _data = data_love[k]\n",
    "        _data.dropna(inplace=True)\n",
    "\n",
    "        try:\n",
    "            ax[0].fill_between(_data['frequency'].astype(float),\n",
    "                           np.array(_data['median'].astype(float))-_data['std'].astype(float)/2,\n",
    "                           np.array(_data['median'].astype(float))+_data['std'].astype(float)/2,\n",
    "                           color=config['date_colors'][k], alpha=0.5\n",
    "                           )\n",
    "        except:\n",
    "            pass\n",
    "\n",
    "    for _i, k in enumerate(data_rayl.keys()):\n",
    "\n",
    "        _data = data_rayl[k]\n",
    "        _data.dropna(inplace=True)\n",
    "\n",
    "        try:\n",
    "            ax[1].fill_between(_data['frequency'].astype(float),\n",
    "                           np.array(_data['median'].astype(float))-_data['std'].astype(float)/2,\n",
    "                           np.array(_data['median'].astype(float))+_data['std'].astype(float)/2,\n",
    "                           color=config['date_colors'][k], alpha=0.5\n",
    "                           )\n",
    "\n",
    "        except Exception as e:\n",
    "            print(e)\n",
    "            pass\n",
    "\n",
    "    for n in range(2):\n",
    "\n",
    "        ax[n].set_xscale(\"log\")\n",
    "\n",
    "        ax[n].set_ylim(0, 5000)\n",
    "\n",
    "        ax[n].grid(which=\"both\", ls=\"--\", color=\"grey\", alpha=0.5, zorder=0)\n",
    "\n",
    "        ax[n].set_xlim(config['fmin'], config['fmax'])\n",
    "\n",
    "        # ax[n].legend(loc=1)\n",
    "\n",
    "    ax[0].set_ylabel(\"Phase Velocity (m/s)\", fontsize=font)\n",
    "    ax[1].set_ylabel(\"Phase Velocity (m/s)\", fontsize=font)\n",
    "    ax[1].set_xlabel(\"Frequency (Hz)\", fontsize=font)\n",
    "    ax[0].set_title(\"Dispersion Curves for ROMY\", fontsize=font+1)\n",
    "\n",
    "    for _k, ll in enumerate(['(a)', '(b)']):\n",
    "        ax[_k].text(.005, .97, ll, ha='left', va='top', transform=ax[_k].transAxes, fontsize=font+2)\n",
    "\n",
    "    ax[0].text(.05, .97, \"Love waves\", ha='left', va='top', transform=ax[0].transAxes, fontsize=font+2)\n",
    "    ax[1].text(.05, .97, \"Rayleigh waves\", ha='left', va='top', transform=ax[1].transAxes, fontsize=font+2)\n",
    "\n",
    "    plt.show();\n",
    "    return fig\n",
    "\n",
    "fig = __makeplot();\n",
    "\n",
    "fig.savefig(config['path_to_figs']+f\"Dispersion_{config['tbeg']}_{config['tend']}.png\", format=\"png\", dpi=150, bbox_inches='tight')\n"
   ]
  },
  {
   "cell_type": "markdown",
   "metadata": {},
   "source": [
    "## Plot Over Time"
   ]
  },
  {
   "cell_type": "code",
   "execution_count": null,
   "metadata": {
    "tags": []
   },
   "outputs": [],
   "source": [
    "def __get_mesh(_data):\n",
    "\n",
    "    X = np.array([k for k in _data.keys()])\n",
    "    Y = _data[X[0]]['frequency']\n",
    "\n",
    "    # get dates\n",
    "    dates = date_range(config['tbeg'], config['tend'])\n",
    "\n",
    "    # modify dates\n",
    "    dates = np.array([str(_d)[:10].replace('-', '') for _d in dates])\n",
    "\n",
    "    # define sizes\n",
    "    NY, NX = len(_data[X[0]]['frequency']), len(dates)\n",
    "\n",
    "    Z = []\n",
    "    for _d in dates[:-1]:\n",
    "        if _d in _data.keys():\n",
    "            _tmp = [float(x) for x in _data[_d]['median'].values]\n",
    "            Z.append(np.array(_tmp))\n",
    "        else:\n",
    "            Z.append(np.ones(NY)*np.nan)\n",
    "\n",
    "    Y = np.append(Y, 0.00001)\n",
    "\n",
    "    X = np.arange(0, len(dates), 1)\n",
    "\n",
    "    mesh = {}\n",
    "    mesh['X'] = np.array(X)\n",
    "    mesh['Y'] = np.array(Y)\n",
    "    mesh['Z'] = np.array(Z).T\n",
    "    mesh['dates'] = dates\n",
    "\n",
    "    return mesh"
   ]
  },
  {
   "cell_type": "code",
   "execution_count": null,
   "metadata": {
    "tags": []
   },
   "outputs": [],
   "source": [
    "mesh_l = __get_mesh(data_love)\n",
    "mesh_r = __get_mesh(data_rayl)"
   ]
  },
  {
   "cell_type": "code",
   "execution_count": null,
   "metadata": {
    "tags": []
   },
   "outputs": [],
   "source": [
    "def __makeplot():\n",
    "\n",
    "    import matplotlib.pyplot as plt\n",
    "    import numpy as np\n",
    "    import matplotlib as mpl\n",
    "\n",
    "    Nrow, Ncol = 2, 1\n",
    "\n",
    "    cmap = plt.get_cmap(\"viridis\")\n",
    "\n",
    "    vmin, vmax = 0, 4000\n",
    "\n",
    "    font = 12\n",
    "\n",
    "    fig, ax = plt.subplots(Nrow, Ncol, figsize=(12, 8), sharex=False)\n",
    "\n",
    "    plt.subplots_adjust(hspace=0.1)\n",
    "    try:\n",
    "        ax[0].pcolormesh(mesh_l['X'], mesh_l['Y'], mesh_l['Z'],\n",
    "                         vmin=vmin, vmax=vmax, label=\"Love\"\n",
    "                        )\n",
    "        ax[0].set_yscale(\"log\")\n",
    "        ax[0].set_ylim(mesh_l['Y'][-2], mesh_l['Y'][1])\n",
    "    except:\n",
    "        pass\n",
    "\n",
    "    try:\n",
    "        ax[1].pcolormesh(mesh_r['X'], mesh_r['Y'], mesh_r['Z'],\n",
    "                         vmin=vmin, vmax=vmax, label=\"Rayleigh\"\n",
    "                        )\n",
    "        ax[1].set_yscale(\"log\")\n",
    "        ax[1].set_ylim(mesh_r['Y'][-2], mesh_r['Y'][1])\n",
    "    except:\n",
    "        pass\n",
    "\n",
    "    for n in range(2):\n",
    "\n",
    "        # ax[n].grid(which=\"both\", ls=\"--\", color=\"grey\", alpha=0.5, zorder=0)\n",
    "\n",
    "        # ax[n].legend(loc=1)\n",
    "\n",
    "        ax[n].set_ylim(config['fmin'], config['fmax'])\n",
    "\n",
    "    # ax[0].set_ylabel(\"Phase Velocity (m/s)\", fontsize=font)\n",
    "    # ax[1].set_ylabel(\"Phase Velocity (m/s)\", fontsize=font)\n",
    "    ax[0].set_ylabel(\"Frequency (Hz)\", fontsize=font)\n",
    "    ax[1].set_ylabel(\"Frequency (Hz)\", fontsize=font)\n",
    "    # ax[1].set_xlabel(\"Time (days)\", fontsize=font)\n",
    "\n",
    "    ax[0].set_title(\"Dispersion Curves for ROMY\", fontsize=font+1)\n",
    "\n",
    "    tcks = ax[1].get_xticks()\n",
    "    tcklbls = [mesh_r['dates'][int(_t)] for _t in tcks[:-1]]\n",
    "    ax[0].set_xticklabels(tcklbls)\n",
    "    ax[1].set_xticklabels(tcklbls)\n",
    "\n",
    "    for _k, ll in enumerate(['(a)', '(b)']):\n",
    "        ax[_k].text(.005, .97, ll, ha='left', va='top', transform=ax[_k].transAxes, fontsize=font+2)\n",
    "\n",
    "    ax[0].text(.05, .97, \"Love waves\", ha='left', va='top', transform=ax[0].transAxes, fontsize=font+2)\n",
    "    ax[1].text(.05, .97, \"Rayleigh waves\", ha='left', va='top', transform=ax[1].transAxes, fontsize=font+2)\n",
    "\n",
    "    plt.show();\n",
    "    return fig\n",
    "\n",
    "fig = __makeplot();\n",
    "\n",
    "fig.savefig(config['path_to_figs']+f\"Dispersion_{config['tbeg']}_{config['tend']}.png\", format=\"png\", dpi=150, bbox_inches='tight')\n"
   ]
  },
  {
   "cell_type": "code",
   "execution_count": null,
   "metadata": {},
   "outputs": [],
   "source": []
  }
 ],
 "metadata": {
  "kernelspec": {
   "display_name": "Python 3 (ipykernel)",
   "language": "python",
   "name": "python3"
  },
  "language_info": {
   "codemirror_mode": {
    "name": "ipython",
    "version": 3
   },
   "file_extension": ".py",
   "mimetype": "text/x-python",
   "name": "python",
   "nbconvert_exporter": "python",
   "pygments_lexer": "ipython3",
   "version": "3.10.12"
  }
 },
 "nbformat": 4,
 "nbformat_minor": 4
}
