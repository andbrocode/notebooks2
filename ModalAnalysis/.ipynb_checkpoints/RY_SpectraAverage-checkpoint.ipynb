{
 "cells": [
  {
   "cell_type": "markdown",
   "id": "eda030d3",
   "metadata": {},
   "source": [
    "# RY - Spectra Average"
   ]
  },
  {
   "cell_type": "markdown",
   "id": "protected-presentation",
   "metadata": {},
   "source": [
    "## Load Libraries"
   ]
  },
  {
   "cell_type": "code",
   "execution_count": null,
   "id": "behind-arrangement",
   "metadata": {
    "ExecuteTime": {
     "end_time": "2023-08-07T14:02:02.205745Z",
     "start_time": "2023-08-07T14:01:59.488541Z"
    },
    "tags": []
   },
   "outputs": [],
   "source": [
    "from andbro__querrySeismoData import __querrySeismoData\n",
    "from andbro__savefig import __savefig\n",
    "\n",
    "from obspy import UTCDateTime\n",
    "from scipy.signal import welch\n",
    "from numpy import log10, zeros, pi, append, linspace, mean, median, array, where, transpose, shape, histogram, arange\n",
    "from numpy import logspace, linspace, log, log10, isinf, ones, nan, count_nonzero, sqrt, isnan\n",
    "from pandas import DataFrame, concat, Series, date_range, read_csv, read_pickle\n",
    "from tqdm import tqdm_notebook\n",
    "from pathlib import Path\n",
    "\n",
    "import os\n",
    "import pickle\n",
    "import matplotlib.pyplot as plt"
   ]
  },
  {
   "cell_type": "code",
   "execution_count": null,
   "id": "3e4b5f23-c277-4db1-9ceb-f5ef10e3918a",
   "metadata": {
    "tags": []
   },
   "outputs": [],
   "source": [
    "if os.uname().nodename == 'lighthouse':\n",
    "    root_path = '/home/andbro/'\n",
    "    data_path = '/home/andbro/kilauea-data/'\n",
    "    archive_path = '/home/andbro/freenas/'\n",
    "    bay_path = '/home/andbro/bay200/'\n",
    "elif os.uname().nodename == 'kilauea':\n",
    "    root_path = '/home/brotzer/'\n",
    "    data_path = '/import/kilauea-data/'\n",
    "    archive_path = '/import/freenas-ffb-01-data/'\n",
    "    bay_path = '/bay200/'\n",
    "elif os.uname().nodename == 'lin-ffb-01':\n",
    "    root_path = '/home/brotzer/'\n",
    "    data_path = '/import/kilauea-data/'\n",
    "    archive_path = '/import/freenas-ffb-01-data/'\n",
    "    bay_path = '/bay200/'"
   ]
  },
  {
   "cell_type": "markdown",
   "id": "subject-expression",
   "metadata": {},
   "source": [
    "## Configurations"
   ]
  },
  {
   "cell_type": "code",
   "execution_count": null,
   "id": "e89d22a7",
   "metadata": {
    "ExecuteTime": {
     "end_time": "2023-08-07T14:03:55.344239Z",
     "start_time": "2023-08-07T14:03:55.340231Z"
    },
    "tags": []
   },
   "outputs": [],
   "source": [
    "path_to_data = data_path+\"LNM2/data/\"\n",
    "\n",
    "stas = [\"RY01\", \"RY02\", \"RY05\", \"RY06\", \"RY07\", \"RY08\", \"RY09\"]\n",
    "\n",
    "path_to_figs = archive_path+f\"ModalAnalysis/figures/\"\n"
   ]
  },
  {
   "cell_type": "code",
   "execution_count": null,
   "id": "a39541a4-ecd9-4a34-8eda-bad043a467ef",
   "metadata": {
    "tags": []
   },
   "outputs": [],
   "source": [
    "psds = {}\n",
    "\n",
    "for sta in stas:\n",
    "    for cha in [\"Z\", \"N\", \"E\"]:\n",
    "        _psd = read_pickle(path_to_data+f\"2023_{sta}_HH{cha}_psd_median.pkl\")\n",
    "        psds['ff'] = _psd.frequencies\n",
    "        if cha == \"Z\":\n",
    "            psds[sta] = {}\n",
    "        psds[sta][cha] = _psd.psds_median\n"
   ]
  },
  {
   "cell_type": "code",
   "execution_count": null,
   "id": "5cdb544c-2938-4eba-9cef-96ec99e7cdb1",
   "metadata": {
    "tags": []
   },
   "outputs": [],
   "source": [
    "def __makeplot():\n",
    "\n",
    "    Nrow, Ncol = 3, 1\n",
    "\n",
    "    font = 12\n",
    "\n",
    "    fig, ax = plt.subplots(Nrow, Ncol, figsize=(15, 8), sharex=True)\n",
    "\n",
    "    plt.subplots_adjust(hspace=0.1)\n",
    "\n",
    "    for sta in stas:\n",
    "        ax[0].loglog(psds[\"ff\"], psds[sta][\"Z\"], label=f\"{sta}\")\n",
    "\n",
    "    for sta in stas:\n",
    "        ax[1].loglog(psds[\"ff\"], psds[sta][\"N\"], label=f\"{sta}\")\n",
    "\n",
    "    for sta in stas:\n",
    "        ax[2].loglog(psds[\"ff\"], psds[sta][\"E\"], label=f\"{sta}\")\n",
    "\n",
    "    for _n in range(Nrow):\n",
    "        ax[_n].grid(ls=\":\", zorder=0)\n",
    "        # ax[_n].legend(loc=1, ncol=3)\n",
    "        ax[_n].set_xlim(5e-1, 1e2)\n",
    "        ax[_n].set_ylim(1e-2, 1e4)\n",
    "        ax[_n].set_ylabel(r\"PSD (m$^2$/s$^4$/Hz)\", fontsize=font)\n",
    "\n",
    "    ax[2].set_xlabel(\"Frequency (Hz)\", fontsize=font)\n",
    "\n",
    "    ax[0].legend(bbox_to_anchor=(0.5, 1.05), ncol=len(stas))\n",
    "\n",
    "    ## panel labels\n",
    "    ax[0].text(-.06, 1.05, '(a)', ha='left', va='top', transform=ax[0].transAxes, fontsize=font+2)\n",
    "    ax[1].text(-.06, 1.05, '(b)', ha='left', va='top', transform=ax[1].transAxes, fontsize=font+2)\n",
    "    ax[2].text(-.06, 1.05, '(c)', ha='left', va='top', transform=ax[2].transAxes, fontsize=font+2)\n",
    "\n",
    "\n",
    "    ax[0].text(.96, .97, 'HHZ', ha='left', va='top', transform=ax[0].transAxes, fontsize=font)\n",
    "    ax[1].text(.96, .97, 'HHN', ha='left', va='top', transform=ax[1].transAxes, fontsize=font)\n",
    "    ax[2].text(.96, .97, 'HHE', ha='left', va='top', transform=ax[2].transAxes, fontsize=font)\n",
    "\n",
    "    plt.show();\n",
    "    return fig\n",
    "\n",
    "\n",
    "fig = __makeplot();\n",
    "\n",
    "fig.savefig(path_to_figs+f\"RY_Spectra_Averages.png\", format=\"png\", dpi=150, bbox_inches='tight')\n"
   ]
  },
  {
   "cell_type": "code",
   "execution_count": null,
   "id": "32141b84-696b-412f-8806-1a1af698512a",
   "metadata": {},
   "outputs": [],
   "source": []
  }
 ],
 "metadata": {
  "kernelspec": {
   "display_name": "Python 3 (ipykernel)",
   "language": "python",
   "name": "python3"
  },
  "language_info": {
   "codemirror_mode": {
    "name": "ipython",
    "version": 3
   },
   "file_extension": ".py",
   "mimetype": "text/x-python",
   "name": "python",
   "nbconvert_exporter": "python",
   "pygments_lexer": "ipython3",
   "version": "3.9.16"
  },
  "latex_envs": {
   "LaTeX_envs_menu_present": true,
   "autoclose": false,
   "autocomplete": true,
   "bibliofile": "biblio.bib",
   "cite_by": "apalike",
   "current_citInitial": 1,
   "eqLabelWithNumbers": true,
   "eqNumInitial": 1,
   "hotkeys": {
    "equation": "Ctrl-E",
    "itemize": "Ctrl-I"
   },
   "labels_anchors": false,
   "latex_user_defs": false,
   "report_style_numbering": false,
   "user_envs_cfg": false
  },
  "toc": {
   "base_numbering": 1,
   "nav_menu": {},
   "number_sections": true,
   "sideBar": true,
   "skip_h1_title": false,
   "title_cell": "Table of Contents",
   "title_sidebar": "Contents",
   "toc_cell": false,
   "toc_position": {},
   "toc_section_display": true,
   "toc_window_display": false
  },
  "varInspector": {
   "cols": {
    "lenName": 16,
    "lenType": 16,
    "lenVar": 40
   },
   "kernels_config": {
    "python": {
     "delete_cmd_postfix": "",
     "delete_cmd_prefix": "del ",
     "library": "var_list.py",
     "varRefreshCmd": "print(var_dic_list())"
    },
    "r": {
     "delete_cmd_postfix": ") ",
     "delete_cmd_prefix": "rm(",
     "library": "var_list.r",
     "varRefreshCmd": "cat(var_dic_list()) "
    }
   },
   "types_to_exclude": [
    "module",
    "function",
    "builtin_function_or_method",
    "instance",
    "_Feature"
   ],
   "window_display": false
  }
 },
 "nbformat": 4,
 "nbformat_minor": 5
}
