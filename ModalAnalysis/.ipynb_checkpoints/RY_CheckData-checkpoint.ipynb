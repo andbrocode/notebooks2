{
 "cells": [
  {
   "cell_type": "markdown",
   "id": "7399b50e",
   "metadata": {},
   "source": [
    " ## Check Data"
   ]
  },
  {
   "cell_type": "code",
   "execution_count": 1,
   "id": "19de15a0",
   "metadata": {
    "ExecuteTime": {
     "end_time": "2023-04-06T16:06:05.087599Z",
     "start_time": "2023-04-06T16:06:03.275324Z"
    }
   },
   "outputs": [],
   "source": [
    "import obspy\n",
    "\n",
    "from obspy.clients.filesystem.sds import Client\n"
   ]
  },
  {
   "cell_type": "markdown",
   "id": "01122ab2",
   "metadata": {},
   "source": [
    "### configurations"
   ]
  },
  {
   "cell_type": "code",
   "execution_count": 2,
   "id": "4e351036",
   "metadata": {
    "ExecuteTime": {
     "end_time": "2023-04-06T16:06:05.091871Z",
     "start_time": "2023-04-06T16:06:05.088664Z"
    }
   },
   "outputs": [],
   "source": [
    "config = {}\n",
    "\n",
    "config['tbeg'] = obspy.UTCDateTime(\"2023-03-16 00:50\")\n",
    "config['tend'] = obspy.UTCDateTime(\"2023-03-16 03:30\")\n",
    "\n",
    "config['client'] = Client(\"/import/freenas-ffb-01-data/ModalAnalysis/data/SDS\")  \n",
    "\n",
    "config['seed'] = \"XX.RY08..HH*\"\n",
    "\n",
    "config['inventories'] = \"/home/brotzer/Desktop/test_RY/xml/\""
   ]
  },
  {
   "cell_type": "markdown",
   "id": "918daaef",
   "metadata": {},
   "source": [
    "### load data"
   ]
  },
  {
   "cell_type": "code",
   "execution_count": 5,
   "id": "ed4c4977",
   "metadata": {
    "ExecuteTime": {
     "end_time": "2023-04-06T16:06:36.357182Z",
     "start_time": "2023-04-06T16:06:36.354351Z"
    },
    "code_folding": [
     0
    ]
   },
   "outputs": [],
   "source": [
    "def __get_data(config, seed=\"XX.RY08..HH*\"):\n",
    "    \n",
    "    net, sta, loc, cha = seed.split(\".\")\n",
    "\n",
    "    st = config['client'].get_waveforms(network=net, station=sta, location=loc, channel=cha, \n",
    "                                    starttime=config['tbeg'], endtime=config['tend'])\n",
    "\n",
    "    inv = obspy.read_inventory(config['inventories']+f\"{sta}.xml\")\n",
    "    \n",
    "    return st, inv"
   ]
  },
  {
   "cell_type": "code",
   "execution_count": 6,
   "id": "346d59b0",
   "metadata": {
    "ExecuteTime": {
     "end_time": "2023-04-06T16:06:37.268338Z",
     "start_time": "2023-04-06T16:06:37.101406Z"
    }
   },
   "outputs": [],
   "source": [
    "st0, inv = __get_data(config, seed=config['seed'])"
   ]
  },
  {
   "cell_type": "code",
   "execution_count": null,
   "id": "2f805fab",
   "metadata": {
    "ExecuteTime": {
     "start_time": "2023-04-06T16:06:37.389Z"
    }
   },
   "outputs": [],
   "source": [
    "st = st0.copy()\n",
    "\n",
    "st = st.remove_response(inventory=inv, output=\"VEL\", water_level=60, plot=False) \n",
    "\n",
    "st = st.detrend('demean')\n",
    "\n",
    "st = st.taper(0.1)\n",
    "\n",
    "st = st.filter('bandpass', freqmin=0.01, freqmax=.3, corners=4, zerophase=True)"
   ]
  },
  {
   "cell_type": "code",
   "execution_count": null,
   "id": "444e833f",
   "metadata": {
    "ExecuteTime": {
     "start_time": "2023-04-06T16:06:38.027Z"
    }
   },
   "outputs": [],
   "source": [
    "st.plot();"
   ]
  },
  {
   "cell_type": "code",
   "execution_count": null,
   "id": "15394e8e",
   "metadata": {},
   "outputs": [],
   "source": []
  },
  {
   "cell_type": "code",
   "execution_count": null,
   "id": "958238fd",
   "metadata": {},
   "outputs": [],
   "source": []
  }
 ],
 "metadata": {
  "kernelspec": {
   "display_name": "Python 3",
   "language": "python",
   "name": "python3"
  },
  "language_info": {
   "codemirror_mode": {
    "name": "ipython",
    "version": 3
   },
   "file_extension": ".py",
   "mimetype": "text/x-python",
   "name": "python",
   "nbconvert_exporter": "python",
   "pygments_lexer": "ipython3",
   "version": "3.7.7"
  },
  "toc": {
   "base_numbering": 1,
   "nav_menu": {},
   "number_sections": true,
   "sideBar": true,
   "skip_h1_title": false,
   "title_cell": "Table of Contents",
   "title_sidebar": "Contents",
   "toc_cell": false,
   "toc_position": {},
   "toc_section_display": true,
   "toc_window_display": false
  }
 },
 "nbformat": 4,
 "nbformat_minor": 5
}
