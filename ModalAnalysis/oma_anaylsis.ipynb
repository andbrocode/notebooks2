{
 "cells": [
  {
   "cell_type": "markdown",
   "id": "7ce1d48a-bc94-4ec2-9f14-0087b6c0b132",
   "metadata": {},
   "source": [
    "# Modal Analysis ROMY - OMA Analysis "
   ]
  },
  {
   "cell_type": "markdown",
   "id": "a9b4e611-add5-40ee-aff3-0191b265abcb",
   "metadata": {},
   "source": [
    "https://dewesoft.com/blog/what-is-modal-analysis"
   ]
  },
  {
   "cell_type": "markdown",
   "id": "29ecb92f-87c8-4a9f-a256-017c6aeaebf9",
   "metadata": {},
   "source": [
    " ### What is modal analysis?\n",
    "\n",
    "Modal analysis is an indispensable tool in understanding the structural dynamics of objects - how structures and objects vibrate and how resistant they are to applied forces. The modal analysis allows machines and structures to be tested, optimized, and validated. \n",
    "\n",
    "Modal analysis is widely accepted in a broad range of applications in the automotive, civil engineering, aerospace, power generation, and musical instruments industries, among countless others.\n",
    "\n",
    "Natural resonance frequencies of the objects and damping parameters can be calculated, and mode shapes can be visualized on an animated geometry of the measured objects. \n",
    "\n",
    "The collection of modal parameters - natural frequencies, damping, and mode shapes - is referred to as a Modal Mod"
   ]
  },
  {
   "cell_type": "markdown",
   "id": "bebe495e-4473-4f3a-b7eb-7d86cd0f9aed",
   "metadata": {},
   "source": [
    "Modal analysis is used for civil structures to handle concerns regarding the impact of seismic activities and heavy winds. Such types of analyses often use response-only testing like OMA, where the structural excitations are provided only by ambient vibrations and external forces. \n",
    "\n",
    "For example, modal analysis can show how a tall apartment building might reveal critically high deflection levels for some bending or torsional modes. After such modes have been detected it is often possible to model and implement some measures that counteract or attenuate such characteristics.\n",
    "\n",
    "The same applies to bridges where flutter effects can occur at certain wind speeds, which can force the structure into oscillation. An example of such a fatal flutter effect is the Tacoma Narrows bridge between Tacoma, Washington, and the Kitsap Peninsula, which opened in 1940 and collapsed just four months later due to the effects of wind."
   ]
  },
  {
   "cell_type": "markdown",
   "id": "f2ecd244-45a5-4c0f-9994-cc1dbcf11fd9",
   "metadata": {},
   "source": [
    " ### ODS and OMA"
   ]
  },
  {
   "cell_type": "markdown",
   "id": "d120ce32-ee1d-4000-8fb5-59e85623e01e",
   "metadata": {},
   "source": [
    "Both ODS (operational deflection shapes) and OMA (operational modal analysis) do not use external input forces but are based purely on response DOF measurements. Therefore, the Modal Test procedure is the same for ODS and OMA, but the analysis and results are different. \n",
    "\n",
    "ODS provides basic information about amplitude and phase information of the DOFs on the measured operational DUT and enables geometry animation of the deflection shapes.\n",
    "\n",
    "OMA estimates a Modal Model (like EMA) with natural frequencies, damping, and mode shapes of the measured operational DUT.   \n",
    "\n",
    "But while EMA estimates Modal Models from FRF data obtained with the use of force input signal(s), OMA estimates Modal Models from operational vibration measurements, for example, calculated Auto- and Cross-power Spectral Density functions (PSD and CPSD). \n",
    "\n",
    "Because OMA does not use input force signals the applied forces are unknown. Therefore, modal masses cannot be estimated, and the estimated mode shapes will be unscaled.\n",
    "\n",
    "OMA can be used to estimate a modal model in situations where it is difficult to do EMA. For example, when monitoring running DUTs for health issues, when the size or location of the DUT makes it impractical to excite with external force, or when the operational structural conditions of the DUT must be analyzed."
   ]
  },
  {
   "cell_type": "markdown",
   "id": "aaec4c72-cd7b-49ad-b676-6ff7f6b8fb52",
   "metadata": {},
   "source": [
    "## Import Libraries"
   ]
  },
  {
   "cell_type": "code",
   "execution_count": 1,
   "id": "a4e4507e",
   "metadata": {},
   "outputs": [],
   "source": [
    "# Import modules\n",
    "import os\n",
    "import numpy as np\n",
    "import pandas as pd\n",
    "import seaborn as sns\n",
    "import matplotlib.pyplot as plt\n",
    "import PyOMA as oma\n",
    "import obspy\n",
    "import mplcursors\n",
    "\n",
    "from scipy import signal\n",
    "from obspy.clients.filesystem.sds import Client"
   ]
  },
  {
   "cell_type": "code",
   "execution_count": 2,
   "id": "1195a73c-db25-4f4b-aee2-20253042aaa3",
   "metadata": {},
   "outputs": [],
   "source": [
    "if os.uname().nodename == 'lighthouse':\n",
    "    root_path = '/home/andbro/'\n",
    "    data_path = '/home/andbro/kilauea-data/'\n",
    "    archive_path = '/home/andbro/freenas/'\n",
    "elif os.uname().nodename == 'kilauea':\n",
    "    root_path = '/home/brotzer/'\n",
    "    data_path = '/import/kilauea-data/'\n",
    "    archive_path = '/import/freenas-ffb-01-data/'"
   ]
  },
  {
   "cell_type": "code",
   "execution_count": 3,
   "id": "54b043ad",
   "metadata": {},
   "outputs": [],
   "source": [
    "def __get_data_all(config):\n",
    "\n",
    "    from tqdm.notebook import tqdm\n",
    "\n",
    "    net, sta, loc, cha = config['seed'].split(\".\")\n",
    "\n",
    "    st0 = obspy.Stream()\n",
    "\n",
    "    for sta in tqdm(config['stations']):\n",
    "\n",
    "        try:\n",
    "            st = config['client'].get_waveforms(network=net, station=sta, location=loc, channel=cha,\n",
    "                                                starttime=config['tbeg'], endtime=config['tend'])\n",
    "\n",
    "            if len(st) == 0:\n",
    "                raise \"no data in stream\"\n",
    "\n",
    "            inv = obspy.read_inventory(config['inventories']+f\"XX.{sta}.xml\")\n",
    "\n",
    "            st = st.remove_response(inventory=inv, output=\"ACC\", plot=False)\n",
    "\n",
    "            st.merge()\n",
    "\n",
    "            st0 += st\n",
    "\n",
    "        except:\n",
    "            print(f\" -> loading failed for: {sta}\")\n",
    "\n",
    "    return st0"
   ]
  },
  {
   "cell_type": "code",
   "execution_count": 4,
   "id": "851c3121",
   "metadata": {},
   "outputs": [],
   "source": [
    "config = {}\n",
    "\n",
    "## Kermadec M7.0 Event\n",
    "# config['tbeg'] = obspy.UTCDateTime(\"2023-03-16 00:50\")\n",
    "# config['tend'] = obspy.UTCDateTime(\"2023-03-16 03:30\")\n",
    "\n",
    "## PNG M7.0 Event\n",
    "# config['tbeg'] = obspy.UTCDateTime(\"2023-04-02 18:00\")\n",
    "# config['tend'] = obspy.UTCDateTime(\"2023-04-02 20:30\")\n",
    "\n",
    "## Local Event\n",
    "# config['tbeg'] = obspy.UTCDateTime(\"2023-04-02 20:15\")\n",
    "# config['tend'] = obspy.UTCDateTime(\"2023-04-02 20:19\")\n",
    "\n",
    "## Local Noise\n",
    "config['tbeg'] = obspy.UTCDateTime(\"2023-04-08 00:00\")\n",
    "config['tend'] = obspy.UTCDateTime(\"2023-04-09 00:00\")\n",
    "\n",
    "## tractor\n",
    "# config['tbeg'] = obspy.UTCDateTime(\"2023-03-18 10:00\")\n",
    "# config['tend'] = obspy.UTCDateTime(\"2023-03-18 12:00\")\n",
    "\n",
    "## LF event\n",
    "# config['tbeg'] = obspy.UTCDateTime(\"2023-03-30 18:00\")\n",
    "# config['tend'] = obspy.UTCDateTime(\"2023-03-30 19:00\")\n",
    "\n",
    "\n",
    "# config['tbeg'] = obspy.UTCDateTime(\"2023-03-10 12:00\")\n",
    "# config['tend'] = obspy.UTCDateTime(\"2023-03-10 15:00\")\n",
    "\n",
    "config['path_to_figs'] = root_path+\"Documents/ROMY/ModalAnalysis/figures/\"\n",
    "\n",
    "config['client'] = Client(archive_path+\"ModalAnalysis/data/SDS\")\n",
    "config['client'] = Client(archive_path+\"ModalAnalysis/data/SDS\")\n",
    "\n",
    "config['seed'] = \"XX.RY??..HH*\"\n",
    "\n",
    "config['stations'] = ['RY01','RY02','RY03','RY04','RY05','RY06','RY07','RY08','RY09','RY10']\n",
    "# config['stations'] = ['RY01','RY05','RY07','RY09']\n",
    "# config['stations'] = ['RY01']\n",
    "\n",
    "config['inventories'] = archive_path+\"ModalAnalysis/data/StationXML/\"\n",
    "\n",
    "config['fmin'] = 0.1\n",
    "config['fmax'] = 20.0\n",
    "\n",
    "config['str_tbeg'] = f\"{config['tbeg'].date}T{str(config['tbeg'].time).split('.')[0]}\"\n",
    "config['str_tend'] = f\"{config['tend'].date}T{str(config['tend'].time).split('.')[0]}\""
   ]
  },
  {
   "cell_type": "code",
   "execution_count": 5,
   "id": "9693e6b8",
   "metadata": {},
   "outputs": [
    {
     "name": "stdout",
     "output_type": "stream",
     "text": [
      "EMA_Analysis.ipynb\t modal_analysis_from_felix.py  RY_CheckData.ipynb\n",
      "event_png_m7_data.mseed  noise_data_2.mseed\t       RY_PlotDataAll.ipynb\n",
      "lf_event_data.mseed\t noise_data.mseed\t       short_local_event.txt\n",
      "make_stationxml.ipynb\t oma_anaylsis.ipynb\t       tractor_data.mseed\n"
     ]
    }
   ],
   "source": [
    "!ls "
   ]
  },
  {
   "cell_type": "markdown",
   "id": "190b6a23-a37e-42e0-98d2-25fdbab8454d",
   "metadata": {},
   "source": [
    "## Load Data"
   ]
  },
  {
   "cell_type": "code",
   "execution_count": null,
   "id": "aca24763",
   "metadata": {},
   "outputs": [
    {
     "data": {
      "application/vnd.jupyter.widget-view+json": {
       "model_id": "e29ec2a664054dc98c4af1c2e9e60c94",
       "version_major": 2,
       "version_minor": 0
      },
      "text/plain": [
       "  0%|          | 0/10 [00:00<?, ?it/s]"
      ]
     },
     "metadata": {},
     "output_type": "display_data"
    }
   ],
   "source": [
    "st0 = __get_data_all(config)"
   ]
  },
  {
   "cell_type": "code",
   "execution_count": null,
   "id": "049d2aeb-a065-43dc-bfae-a711416c08a1",
   "metadata": {},
   "outputs": [],
   "source": [
    "# st0 = obspy.read(\"./noise_data.mseed\")\n",
    "# st0 = obspy.read(\"./noise_data_2.mseed\")\n",
    "# st0 = obspy.read(\"./tractor_data.mseed\")\n",
    "# st0 = obspy.read(\"./event_png_m7_data.mseed\")\n",
    "# st0 = obspy.read(\"./lf_event_data.mseed\")\n",
    "\n",
    "# st0.write(\"./event_png_m7_data.mseed\", format=\"MSEED\")"
   ]
  },
  {
   "cell_type": "code",
   "execution_count": null,
   "id": "767ee8f6-65d7-40d8-a6b4-bbca1ffd83f0",
   "metadata": {},
   "outputs": [],
   "source": [
    "# st0.plot(equal_scale=False);"
   ]
  },
  {
   "cell_type": "markdown",
   "id": "be4fbff3-f566-4b15-834c-f0eb46116e49",
   "metadata": {},
   "source": [
    "## Pre-Process Data"
   ]
  },
  {
   "cell_type": "code",
   "execution_count": null,
   "id": "3b21e2f9-4bfb-40e4-93aa-437eaa25c3bd",
   "metadata": {},
   "outputs": [],
   "source": [
    "st = st0.copy();\n",
    "\n",
    "st = st.sort();\n",
    "\n",
    "## bandpass filter\n",
    "st = st.detrend(\"simple\");\n",
    "st = st.taper(0.1);\n",
    "st = st.filter(\"bandpass\", freqmin=config['fmin'], freqmax=config['fmax'], corners=8, zerophase=True);\n",
    "\n",
    "## resample data\n",
    "st = st.resample(config['fmax']);\n",
    "\n",
    "## remove corrupted data\n",
    "for tr in st:\n",
    "    if tr.stats.station in [\"RY03\",\"RY04\"]:\n",
    "        st = st.remove(tr);\n",
    "\n",
    "## extract sampling rate\n",
    "fs = st[0].stats.sampling_rate # [Hz] Sampling Frequency"
   ]
  },
  {
   "cell_type": "code",
   "execution_count": null,
   "id": "04c14399",
   "metadata": {},
   "outputs": [],
   "source": [
    "st = st.trim(st[0].stats.starttime+300, st[0].stats.endtime-300)"
   ]
  },
  {
   "cell_type": "code",
   "execution_count": null,
   "id": "1f869f85-94b5-4469-9423-0a930187c402",
   "metadata": {},
   "outputs": [],
   "source": [
    "st.plot(equal_scale=False);"
   ]
  },
  {
   "cell_type": "markdown",
   "id": "2d9493b8-6352-4295-84b1-d32840291989",
   "metadata": {},
   "source": [
    "## Prepare 2D-Array for Analysis"
   ]
  },
  {
   "cell_type": "markdown",
   "id": "40e76e43-3f03-4f4d-88ac-6270da59d396",
   "metadata": {},
   "source": [
    "2D array required for methods (columns=sensors, rows=data)"
   ]
  },
  {
   "cell_type": "code",
   "execution_count": null,
   "id": "cc4e6f12-14c7-4777-b903-d46464f0f7e6",
   "metadata": {},
   "outputs": [],
   "source": [
    "cha = \"Z\"\n",
    "\n",
    "data, names = [], []\n",
    "\n",
    "st = st.sort();\n",
    "\n",
    "for tr in st:\n",
    "    if cha in tr.stats.channel:\n",
    "        data.append(tr.data)\n",
    "        names.append(tr.stats.station)\n",
    "\n",
    "times = st[0].times()/3600\n",
    "data = np.array(data).transpose()\n",
    "\n",
    "colors = [\"tab:blue\",\"tab:orange\",\"tab:green\",\"tab:red\",\"tab:purple\", \"tab:brown\", \"tab:pink\", \"tab:gray\", \"tab:green\"]\n",
    "\n",
    "\n",
    "fig, ax = plt.subplots(len(names), 1, figsize=(15,10), sharex=True)\n",
    "\n",
    "for i, name in enumerate(names):\n",
    "    # ax[i].plot(times, data[:,i]*1e6, label=name, color=colors[i])\n",
    "    ax[i].plot(times, data[:,i]*1e6, label=name+\".HH\"+cha)\n",
    "    ax[i].legend(loc=1)\n",
    "    ax[i].set_ylabel(r\"acc. ($\\mu$m/s$^2$)\")\n",
    "\n",
    "ax[len(names)-1].set_xlabel(\"Time (hours)\")\n",
    "\n",
    "plt.show();\n",
    "\n",
    "# fig.savefig(config['path_to_figs']+f\"ModAna_noise_{config['str_tbeg']}_{config['str_tend']}_traces.png\", format=\"png\", dpi=200, bbox_inches='tight');"
   ]
  },
  {
   "cell_type": "code",
   "execution_count": null,
   "id": "d71d05c9-87cf-40b5-95a6-aefbd9f0d50d",
   "metadata": {},
   "outputs": [],
   "source": [
    "# Run FDD\n",
    "FDD = oma.FDDsvp(data,  fs, df=0.01, pov=0.5)\n",
    "\n",
    "ff = np.arange(0, FDD[1]['Data']['Samp. Freq.']/2+FDD[1]['Data']['Freq. Resol.'], FDD[1]['Data']['Freq. Resol.'])\n",
    "\n",
    "sv = {}\n",
    "for i, name in enumerate(names):\n",
    "    sv[name] = FDD[1]['Singular Values'][i][i].real"
   ]
  },
  {
   "cell_type": "code",
   "execution_count": null,
   "id": "78997025-7098-4d0d-816e-28c19e533062",
   "metadata": {},
   "outputs": [],
   "source": [
    "fig, ax = plt.subplots(1, 1, figsize=(15,5))\n",
    "\n",
    "font = 12\n",
    "\n",
    "for key in sv.keys():\n",
    "    ax.plot(ff,10*np.log10(sv[key]), label=key)\n",
    "\n",
    "# ax.legend(loc=1, ncols=4)\n",
    "ax.grid(which=\"both\", alpha=0.5)\n",
    "ax.set_xscale(\"log\")\n",
    "\n",
    "ax.set_xlim(config['fmin'], config['fmax']/2)\n",
    "ax.set_ylim(bottom=-200)\n",
    "\n",
    "ax.set_xlabel(\"Frequency (Hz)\", fontsize=font)\n",
    "ax.set_ylabel(r\"dB (m$^2$/s$^2$/Hz)\", fontsize=font)\n",
    "ax.set_title(f\"Singular valules plot - {cha}\", fontsize=font+1)\n",
    "\n",
    "plt.show();\n",
    "\n",
    "# fig.savefig(config['path_to_figs']+f\"ModAna_noise_{config['str_tbeg']}_{config['str_tend']}_svd.png\", format=\"png\", dpi=200, bbox_inches='tight');"
   ]
  },
  {
   "cell_type": "code",
   "execution_count": null,
   "id": "031e6697-86ca-4302-85dc-f2aa9c054087",
   "metadata": {},
   "outputs": [],
   "source": [
    "# ff = np.arange(0, FDD[1]['Data']['Samp. Freq.']/2+FDD[1]['Data']['Freq. Resol.'], FDD[1]['Data']['Freq. Resol.'])\n",
    "\n",
    "# sv = {}\n",
    "# dat0 = data[:,0].transpose()\n",
    "# for i, name in enumerate(names):\n",
    "#     dat1 = data[:,i:i+1].transpose()\n",
    "#     dat = np.vstack((dat0, dat1))\n",
    "#     FDD = oma.FDDsvp(dat.transpose(),  fs, df=0.01, pov=0.5)\n",
    "#     sv[name] = FDD[1]['Singular Values'][1][1].real\n",
    "\n",
    "# fig, ax = plt.subplots(1, 1, figsize=(15,5))\n",
    "\n",
    "# font = 14\n",
    "\n",
    "# for key in sv.keys():\n",
    "#     ax.plot(ff,10*np.log10(sv[key]), label=key)\n",
    "\n",
    "# ax.legend(loc=1, ncols=4)\n",
    "# ax.grid(which=\"both\", alpha=0.5)\n",
    "# ax.set_xscale(\"log\")\n",
    "\n",
    "# ax.set_xlim(config['fmin'], config['fmax']/2)\n",
    "# ax.set_ylim(bottom=-200)\n",
    "\n",
    "# ax.set_xlabel(\"Frequency (Hz)\")\n",
    "# ax.set_ylabel(r\"dB (m$^2$/s$^2$/Hz)\")\n",
    "# ax.set_title(\"Singular valules plot\")\n",
    "\n",
    "# plt.show();"
   ]
  },
  {
   "cell_type": "code",
   "execution_count": null,
   "id": "9ea5fa62-3acc-4d93-b0d9-ba88fa9def07",
   "metadata": {},
   "outputs": [],
   "source": []
  },
  {
   "cell_type": "markdown",
   "id": "88cc62a2-aa49-4073-8e14-fdab105bd01e",
   "metadata": {},
   "source": [
    "# Frequency Domain Methods"
   ]
  },
  {
   "cell_type": "code",
   "execution_count": null,
   "id": "f810e921-592b-4286-81d7-1d922900873c",
   "metadata": {},
   "outputs": [],
   "source": [
    "# Define list/array with the peaks identified from the plot\n",
    "# FreQ = [0.89, 2.6, 4.1, 5.27, 6] # identified peaks\n",
    "FreQ = [3.8] # identified peaks\n",
    "\n",
    "# Extract the modal properties\n",
    "Res_FDD = oma.FDDmodEX(FreQ, FDD[1])\n",
    "Res_EFDD = oma.EFDDmodEX(FreQ, FDD[1], method='EFDD', npmax=35, plot=True)\n",
    "Res_FSDD = oma.EFDDmodEX(FreQ, FDD[1], method='FSDD', npmax=15, MAClim=0.95, plot=True)"
   ]
  },
  {
   "cell_type": "code",
   "execution_count": null,
   "id": "585cccc7-cb7a-4803-a6b0-5192600899ac",
   "metadata": {},
   "outputs": [],
   "source": [
    "print(f\"RES_FDD: f = {Res_FDD['Frequencies']}\")\n",
    "\n",
    "print(f\"RES_EFDD: f = {list(Res_EFDD['Frequencies'])}  d = {list(Res_EFDD['Damping'])}\")\n",
    "\n",
    "print(f\"RES_FSDD: f = {list(Res_FSDD['Frequencies'])}  d = {list(Res_FSDD['Damping'])}\")\n",
    "\n"
   ]
  },
  {
   "cell_type": "markdown",
   "id": "fa7fcdb4-e2fc-444b-acd5-4daa7b933b24",
   "metadata": {},
   "source": [
    "# Time Domain Methods"
   ]
  },
  {
   "cell_type": "markdown",
   "id": "8bc2bb70-a185-42b8-bc3d-b49dbacceabd",
   "metadata": {},
   "source": [
    "stability diagrams to check if poles are stable and if they are similar"
   ]
  },
  {
   "cell_type": "code",
   "execution_count": null,
   "id": "1dc019f3-e711-423e-8ac2-2c36f776db86",
   "metadata": {},
   "outputs": [],
   "source": [
    "br = 15"
   ]
  },
  {
   "cell_type": "code",
   "execution_count": null,
   "id": "f56b905e-1388-4b3c-a9c7-ff6e5bae6aa8",
   "metadata": {},
   "outputs": [],
   "source": [
    "# Run SSI covariance\n",
    "SSIcov= oma.SSIcovStaDiag(data, fs, br)\n",
    "\n",
    "# Extract the modal properties\n",
    "Res_SSIcov = oma.SSIModEX(FreQ, SSIcov[1])"
   ]
  },
  {
   "cell_type": "code",
   "execution_count": null,
   "id": "5beaefd0-fa01-4cd7-b602-33ce157649d0",
   "metadata": {},
   "outputs": [],
   "source": [
    "# Run SII data\n",
    "SSIdat = oma.SSIdatStaDiag(data, fs, br)\n",
    "# SSIdat = oma.SSIdatStaDiag(data, fs, br, ordmax=60, lim=(0.01, 0.05, 0.02, 0.1))\n",
    "\n",
    "# Extract the modal properties\n",
    "Res_SSIdat= oma.SSIModEX(FreQ, SSIdat[1])"
   ]
  },
  {
   "cell_type": "markdown",
   "id": "3e4c9297-bb60-4649-8515-26711192de01",
   "metadata": {},
   "source": [
    "## Modal model validation"
   ]
  },
  {
   "cell_type": "code",
   "execution_count": null,
   "id": "0d2bc868-c007-45d2-a491-93f4f6598ae8",
   "metadata": {},
   "outputs": [],
   "source": [
    "MS_FDD = Res_FDD['Mode Shapes'].real\n",
    "MS_EFDD = Res_EFDD['Mode Shapes'].real\n",
    "MS_FSDD = Res_FSDD['Mode Shapes'].real\n",
    "MS_SSIcov = Res_SSIcov['Mode Shapes'].real\n",
    "MS_SSIdat = Res_SSIdat['Mode Shapes'].real\n",
    "\n",
    "_nch = data.shape[1]"
   ]
  },
  {
   "cell_type": "markdown",
   "id": "3b5f507c-b558-4dca-aedc-fb0489cfe09b",
   "metadata": {},
   "source": [
    "### Modal assurance criteria (MAC)"
   ]
  },
  {
   "cell_type": "markdown",
   "id": "c0c051fc-e0c0-436b-9dc6-e9b93c8f8033",
   "metadata": {},
   "source": [
    "The Modal Assurance Criterion Analysis (MAC) analysis is used to determine the similarity of two-mode shapes.\n",
    "\n",
    "The MAC number is defined as a scalar constant, between 0 and 1, expressing the degree of consistency between two mode shapes.\n",
    "\n",
    "In practice, any value between 0.9 and 1.0 is considered a good correlation. Below 0.7 is considered to indicate a bad correlation."
   ]
  },
  {
   "cell_type": "code",
   "execution_count": null,
   "id": "62596a75-2ba5-4919-a231-496b5a82fac3",
   "metadata": {},
   "outputs": [],
   "source": [
    "MAC = np.reshape(\n",
    "        [oma.MaC(FI_ex[:,l], MS_FSDD[:,k]).real for k in range(_nch) for l in range(_nch)], # (_nch*_nch) list of MAC values\n",
    "        (_nch, _nch)) # new (real) shape (_nch x _nch) of the MAC matrix"
   ]
  },
  {
   "cell_type": "markdown",
   "id": "bd21319e-8c03-403d-97c9-6026c6c51e43",
   "metadata": {},
   "source": [
    "\n",
    "CrossMAC determines the consistency, or linearity, between estimated mode shape vectors from different estimations, different data sets\n",
    "\n",
    "CrossMAC is a good tool to use for comparison between different experimentally determined mode shapes. For example, it might be interesting to compare two sets of measurements that are using different reference DOF locations and see how consistent the modes are between them. Or, to compare two different curve-fitting algorithms used on the same set of measurements. \n",
    "\n",
    "In addition to a comparison of different experimentally determined mode shapes, the CrossMAC can also be used to compare a set of experimentally determined mode shapes with a set of analytically determining mode shapes from Finite Element Analysis (FEA). The latter is used in Correlation Analysis. "
   ]
  },
  {
   "cell_type": "code",
   "execution_count": null,
   "id": "52556eab-c554-4b8f-b184-35bb26058e04",
   "metadata": {},
   "outputs": [],
   "source": [
    "crossMAC = np.reshape(\n",
    "        [oma.MaC(MS_SSIcov[:,l], MS_SSIdat[:,k]).real for k in range(_nch) for l in range(_nch)], # (_nch*_nch) list of MAC values\n",
    "        (_nch,_nch)) # new (real) shape (_nch x _nch) of the MAC matrix"
   ]
  },
  {
   "cell_type": "code",
   "execution_count": null,
   "id": "f6752fe4-430b-4d9f-9f76-91b100d173fc",
   "metadata": {},
   "outputs": [],
   "source": [
    "col = [\"mode I\", \"mode II\"]\n",
    "# col = [\"mode I\", \"mode II\", \"mode III\", \"mode IV\", \"mode V\"]\n",
    "\n",
    "MAC = pd.DataFrame(MAC, columns=col, index=col)\n",
    "crossMAC = pd.DataFrame(crossMAC, columns=col, index=col)"
   ]
  },
  {
   "cell_type": "markdown",
   "id": "03f58689-2b02-49e6-9166-c3c35df159f0",
   "metadata": {},
   "source": [
    "## Plotting"
   ]
  },
  {
   "cell_type": "code",
   "execution_count": null,
   "id": "1ea4e73f-502d-4562-bbec-b2de06821bfb",
   "metadata": {},
   "outputs": [],
   "source": [
    "fig, ax = plt.subplots()\n",
    "sns.heatmap(MAC,cmap=\"jet\",ax=ax,annot=True, fmt='.3f',)\n",
    "fig.tight_layout()\n",
    "plt.show()\n",
    "\n",
    "fig, ax1 = plt.subplots()\n",
    "sns.heatmap(crossMAC,cmap=\"jet\", ax=ax1, annot=True, fmt='.3f',)\n",
    "fig.tight_layout()\n",
    "plt.show()"
   ]
  },
  {
   "cell_type": "code",
   "execution_count": null,
   "id": "f386cdff-10a2-4401-97b1-14c691cecad1",
   "metadata": {},
   "outputs": [],
   "source": []
  },
  {
   "cell_type": "code",
   "execution_count": null,
   "id": "acdacbcd",
   "metadata": {},
   "outputs": [],
   "source": [
    "df = pd.DataFrame()\n",
    "for tr in st:\n",
    "    \n",
    "    if tr.stats.station in [\"RY05\", \"RY07\", \"RY09\"]:\n",
    "        df[tr.stats.station] = tr.data\n",
    "    \n",
    "df.to_csv('./short_local_event.txt', sep=\"\\t\", header=0, index=None, mode=\"w\")\n",
    "df"
   ]
  },
  {
   "cell_type": "code",
   "execution_count": null,
   "id": "d0fc3f49",
   "metadata": {},
   "outputs": [],
   "source": [
    "# from obspy.clients.fdsn import Client\n",
    "\n",
    "# tbeg, tend = st[0].stats.starttime, st[0].stats.endtime\n",
    "\n",
    "# c= Client(\"BGR\")\n",
    "\n",
    "# fur = c.get_waveforms(\"GR\", \"FUR\", \"\", \"HHZ\", tbeg, tend, attach_response=True)\n",
    "\n",
    "# # ## bandpass filter\n",
    "# fur = fur.detrend(\"simple\");\n",
    "# fur = fur.taper(0.1);\n",
    "# fur = fur.filter(\"bandpass\", freqmin=config['fmin'], freqmax=config['fmax'], corners=8, zerophase=True);\n",
    "\n",
    "# # ## resample data\n",
    "# fur = fur.resample(config['fmax']);\n",
    "\n",
    "# fur.plot();"
   ]
  },
  {
   "cell_type": "code",
   "execution_count": null,
   "id": "21334089",
   "metadata": {},
   "outputs": [],
   "source": [
    "from obspy.clients.fdsn import Client\n",
    "\n",
    "tbeg, tend = st[0].stats.starttime, st[0].stats.endtime\n",
    "\n",
    "c= Client(\"LMU\")\n",
    "\n",
    "ffb1 = c.get_waveforms(\"BW\", \"FFB1\", \"\", \"HHZ\", tbeg, tend, attach_response=True)\n",
    "\n",
    "ffb1.remove_response(\"ACC\")\n",
    "\n",
    "# ## bandpass filter\n",
    "ffb1 = ffb1.detrend(\"simple\");\n",
    "ffb1 = ffb1.taper(0.1);\n",
    "ffb1 = ffb1.filter(\"bandpass\", freqmin=config['fmin'], freqmax=config['fmax'], corners=8, zerophase=True);\n",
    "\n",
    "# ## resample data\n",
    "# ffb1 = ffb1.resample(config['fmax']);\n",
    "\n",
    "ffb1.plot();\n",
    "\n",
    "ffb1.write(\"./ffb1_m7.mseed\")"
   ]
  },
  {
   "cell_type": "code",
   "execution_count": null,
   "id": "ea266115",
   "metadata": {},
   "outputs": [],
   "source": [
    "from scipy.signal import welch, hann\n",
    "\n",
    "tr = ffb1[0]\n",
    "\n",
    "twin = 100\n",
    "\n",
    "nblock =  int(tr.stats.sampling_rate*twin)\n",
    "overlap = int(0.5*nblock)\n",
    "win = hann(nblock, True)\n",
    "\n",
    "ffx, Pxx = welch(tr.data, fs=tr.stats.sampling_rate, \n",
    "                window=win, noverlap=overlap, nfft=nblock,\n",
    "                scaling=\"density\",\n",
    "                return_onesided=True)"
   ]
  },
  {
   "cell_type": "code",
   "execution_count": null,
   "id": "2bf4327d",
   "metadata": {},
   "outputs": [],
   "source": [
    "plt.semilogx(ffx, 10*np.log10(Pxx))"
   ]
  },
  {
   "cell_type": "code",
   "execution_count": null,
   "id": "df464d83",
   "metadata": {},
   "outputs": [],
   "source": [
    "fig, ax = plt.subplots(1, 1, figsize=(15,5))\n",
    "\n",
    "font = 12\n",
    "\n",
    "for key in sv.keys():\n",
    "    ax.plot(ff,10*np.log10(sv[key]), label=key)\n",
    "\n",
    "ax.plot(ffx, 10*np.log10(Pxx)-130, 'k')\n",
    "    \n",
    "# ax.legend(loc=1, ncols=4)\n",
    "ax.grid(which=\"both\", alpha=0.5)\n",
    "ax.set_xscale(\"log\")\n",
    "\n",
    "ax.set_xlim(config['fmin'], config['fmax']/2)\n",
    "ax.set_ylim(bottom=-200)\n",
    "\n",
    "ax.set_xlabel(\"Frequency (Hz)\", fontsize=font)\n",
    "ax.set_ylabel(r\"dB (m$^2$/s$^2$/Hz)\", fontsize=font)\n",
    "ax.set_title(f\"Singular valules plot - {cha}\", fontsize=font+1)\n",
    "\n",
    "plt.show();\n",
    "\n",
    "# fig.savefig(config['path_to_figs']+f\"ModAna_noise_{config['str_tbeg']}_{config['str_tend']}_svd.png\", format=\"png\", dpi=200, bbox_inches='tight');"
   ]
  },
  {
   "cell_type": "code",
   "execution_count": null,
   "id": "f2ad41eb",
   "metadata": {},
   "outputs": [],
   "source": []
  },
  {
   "cell_type": "code",
   "execution_count": null,
   "id": "0e90782a",
   "metadata": {},
   "outputs": [],
   "source": []
  },
  {
   "cell_type": "code",
   "execution_count": null,
   "id": "c33465bf",
   "metadata": {},
   "outputs": [],
   "source": []
  }
 ],
 "metadata": {
  "kernelspec": {
   "display_name": "Python 3 (ipykernel)",
   "language": "python",
   "name": "python3"
  },
  "language_info": {
   "codemirror_mode": {
    "name": "ipython",
    "version": 3
   },
   "file_extension": ".py",
   "mimetype": "text/x-python",
   "name": "python",
   "nbconvert_exporter": "python",
   "pygments_lexer": "ipython3",
   "version": "3.8.16"
  }
 },
 "nbformat": 4,
 "nbformat_minor": 5
}
