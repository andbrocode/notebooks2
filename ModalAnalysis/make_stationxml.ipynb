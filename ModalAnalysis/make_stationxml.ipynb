{
 "cells": [
  {
   "cell_type": "markdown",
   "metadata": {},
   "source": [
    "## Obs Station Metadata"
   ]
  },
  {
   "cell_type": "code",
   "execution_count": 1,
   "metadata": {
    "ExecuteTime": {
     "end_time": "2023-04-05T11:47:00.482478Z",
     "start_time": "2023-04-05T11:46:58.550740Z"
    }
   },
   "outputs": [],
   "source": [
    "# %matplotlib nbagg\n",
    "\n",
    "import re\n",
    "\n",
    "from obspy import UTCDateTime, read_inventory\n",
    "from obspy.clients.nrl import NRL\n",
    "from obspy.io.xseed import Parser\n",
    "from obspy.core.inventory import Inventory, Network, Station, Channel, Site\n",
    "from obspy.clients.fdsn import Client as FDSNClient"
   ]
  },
  {
   "cell_type": "code",
   "execution_count": 2,
   "metadata": {
    "ExecuteTime": {
     "end_time": "2023-04-05T11:47:03.688321Z",
     "start_time": "2023-04-05T11:47:02.690623Z"
    }
   },
   "outputs": [],
   "source": [
    "# could be replaced with a local download of NRL\n",
    "nrl = NRL()"
   ]
  },
  {
   "cell_type": "markdown",
   "metadata": {},
   "source": [
    "## Example to find out correct keys for given sensor in NRL"
   ]
  },
  {
   "cell_type": "markdown",
   "metadata": {},
   "source": [
    "### Sensor"
   ]
  },
  {
   "cell_type": "code",
   "execution_count": 3,
   "metadata": {
    "ExecuteTime": {
     "end_time": "2023-04-05T11:47:08.509318Z",
     "start_time": "2023-04-05T11:47:03.692655Z"
    }
   },
   "outputs": [
    {
     "name": "stdout",
     "output_type": "stream",
     "text": [
      "Select the sensor manufacturer (42 items):\n",
      "  'ASIR', 'CEA-DASE', 'CME (now R-Sensors)', 'Chaparral Physics',\n",
      "  'DTCC (manuafacturers of SmartSolo)', 'EQMet', 'Eentec', 'GEObit',\n",
      "  'GEOsig', 'GaiaCode', 'Gem', 'Generic', 'Geo Space/OYO', 'Geodevice'\n",
      "  'Geotech', 'Guralp', 'HGS Products', 'High Tech', 'Hyperion',\n",
      "  'IESE', 'Johnson Infrasound', 'Kinemetrics', 'LaHusen', 'Lennartz',\n",
      "  'Lunitek', 'Magseis Fairfield', 'Metrozet', 'Nanometrics',\n",
      "  'R-Sensors (previously listed as CME', 'REF TEK', 'RTClark', 'SARA'\n",
      "  'Seismo Wave', 'SensorNederland', 'Sercel/Mark Products',\n",
      "  'Silicon Audio', 'SolGeo', 'Sprengnether (now Eentec)',\n",
      "  'Streckeisen', 'Sunfull', 'TDG', 'iTem'\n",
      "\n",
      "Choose manufacturer: Nanometrics\n",
      "\n",
      "_______________________________\n"
     ]
    }
   ],
   "source": [
    "print(nrl.sensors)\n",
    "\n",
    "manufacturer = input(\"\\nChoose manufacturer: \");print(\"\\n_______________________________\")"
   ]
  },
  {
   "cell_type": "code",
   "execution_count": 4,
   "metadata": {
    "ExecuteTime": {
     "end_time": "2023-04-05T11:50:21.081349Z",
     "start_time": "2023-04-05T11:47:10.187669Z"
    }
   },
   "outputs": [
    {
     "name": "stdout",
     "output_type": "stream",
     "text": [
      "Select the Nanometrics sensor model (14 items):\n",
      "  'Meridian Compact Posthole', 'Meridian Posthole',\n",
      "  'Titan Accelerometer', 'Trillium 120 Horizon', 'Trillium 120P/PA',\n",
      "  'Trillium 120Q/QA,PH,BH (Vault, Posthole or Borehole)',\n",
      "  'Trillium 240', 'Trillium 360', 'Trillium 40',\n",
      "  'Trillium All-Terrain', 'Trillium Cascadia Accelerometer',\n",
      "  'Trillium Cascadia seismometer', 'Trillium Compact 120 (Vault,\n",
      "  Posthole, OBS)', 'Trillium Compact 20 (Vault, Posthole, OBS)'\n"
     ]
    },
    {
     "ename": "KeyboardInterrupt",
     "evalue": "Interrupted by user",
     "output_type": "error",
     "traceback": [
      "\u001b[0;31m---------------------------------------------------------------------------\u001b[0m",
      "\u001b[0;31mKeyboardInterrupt\u001b[0m                         Traceback (most recent call last)",
      "\u001b[0;32m<ipython-input-4-9ea51e1f4cd3>\u001b[0m in \u001b[0;36m<module>\u001b[0;34m\u001b[0m\n\u001b[1;32m      1\u001b[0m \u001b[0mprint\u001b[0m\u001b[0;34m(\u001b[0m\u001b[0mnrl\u001b[0m\u001b[0;34m.\u001b[0m\u001b[0msensors\u001b[0m\u001b[0;34m[\u001b[0m\u001b[0mmanufacturer\u001b[0m\u001b[0;34m]\u001b[0m\u001b[0;34m)\u001b[0m\u001b[0;34m\u001b[0m\u001b[0;34m\u001b[0m\u001b[0m\n\u001b[1;32m      2\u001b[0m \u001b[0;34m\u001b[0m\u001b[0m\n\u001b[0;32m----> 3\u001b[0;31m \u001b[0msensor\u001b[0m \u001b[0;34m=\u001b[0m \u001b[0minput\u001b[0m\u001b[0;34m(\u001b[0m\u001b[0;34m\"\\nChoose sensor: \"\u001b[0m\u001b[0;34m)\u001b[0m\u001b[0;34m;\u001b[0m\u001b[0mprint\u001b[0m\u001b[0;34m(\u001b[0m\u001b[0;34m\"\\n_______________________________\"\u001b[0m\u001b[0;34m)\u001b[0m\u001b[0;34m\u001b[0m\u001b[0;34m\u001b[0m\u001b[0m\n\u001b[0m",
      "\u001b[0;32m~/anaconda3/lib/python3.7/site-packages/ipykernel/kernelbase.py\u001b[0m in \u001b[0;36mraw_input\u001b[0;34m(self, prompt)\u001b[0m\n\u001b[1;32m    849\u001b[0m             \u001b[0mself\u001b[0m\u001b[0;34m.\u001b[0m\u001b[0m_parent_ident\u001b[0m\u001b[0;34m,\u001b[0m\u001b[0;34m\u001b[0m\u001b[0;34m\u001b[0m\u001b[0m\n\u001b[1;32m    850\u001b[0m             \u001b[0mself\u001b[0m\u001b[0;34m.\u001b[0m\u001b[0m_parent_header\u001b[0m\u001b[0;34m,\u001b[0m\u001b[0;34m\u001b[0m\u001b[0;34m\u001b[0m\u001b[0m\n\u001b[0;32m--> 851\u001b[0;31m             \u001b[0mpassword\u001b[0m\u001b[0;34m=\u001b[0m\u001b[0;32mFalse\u001b[0m\u001b[0;34m,\u001b[0m\u001b[0;34m\u001b[0m\u001b[0;34m\u001b[0m\u001b[0m\n\u001b[0m\u001b[1;32m    852\u001b[0m         )\n\u001b[1;32m    853\u001b[0m \u001b[0;34m\u001b[0m\u001b[0m\n",
      "\u001b[0;32m~/anaconda3/lib/python3.7/site-packages/ipykernel/kernelbase.py\u001b[0m in \u001b[0;36m_input_request\u001b[0;34m(self, prompt, ident, parent, password)\u001b[0m\n\u001b[1;32m    890\u001b[0m             \u001b[0;32mexcept\u001b[0m \u001b[0mKeyboardInterrupt\u001b[0m\u001b[0;34m:\u001b[0m\u001b[0;34m\u001b[0m\u001b[0;34m\u001b[0m\u001b[0m\n\u001b[1;32m    891\u001b[0m                 \u001b[0;31m# re-raise KeyboardInterrupt, to truncate traceback\u001b[0m\u001b[0;34m\u001b[0m\u001b[0;34m\u001b[0m\u001b[0;34m\u001b[0m\u001b[0m\n\u001b[0;32m--> 892\u001b[0;31m                 \u001b[0;32mraise\u001b[0m \u001b[0mKeyboardInterrupt\u001b[0m\u001b[0;34m(\u001b[0m\u001b[0;34m\"Interrupted by user\"\u001b[0m\u001b[0;34m)\u001b[0m \u001b[0;32mfrom\u001b[0m \u001b[0;32mNone\u001b[0m\u001b[0;34m\u001b[0m\u001b[0;34m\u001b[0m\u001b[0m\n\u001b[0m\u001b[1;32m    893\u001b[0m             \u001b[0;32mexcept\u001b[0m \u001b[0mException\u001b[0m \u001b[0;32mas\u001b[0m \u001b[0me\u001b[0m\u001b[0;34m:\u001b[0m\u001b[0;34m\u001b[0m\u001b[0;34m\u001b[0m\u001b[0m\n\u001b[1;32m    894\u001b[0m                 \u001b[0mself\u001b[0m\u001b[0;34m.\u001b[0m\u001b[0mlog\u001b[0m\u001b[0;34m.\u001b[0m\u001b[0mwarning\u001b[0m\u001b[0;34m(\u001b[0m\u001b[0;34m\"Invalid Message:\"\u001b[0m\u001b[0;34m,\u001b[0m \u001b[0mexc_info\u001b[0m\u001b[0;34m=\u001b[0m\u001b[0;32mTrue\u001b[0m\u001b[0;34m)\u001b[0m\u001b[0;34m\u001b[0m\u001b[0;34m\u001b[0m\u001b[0m\n",
      "\u001b[0;31mKeyboardInterrupt\u001b[0m: Interrupted by user"
     ]
    }
   ],
   "source": [
    "print(nrl.sensors[manufacturer])\n",
    "\n",
    "sensor = input(\"\\nChoose sensor: \");print(\"\\n_______________________________\")"
   ]
  },
  {
   "cell_type": "code",
   "execution_count": null,
   "metadata": {
    "ExecuteTime": {
     "end_time": "2023-04-05T08:27:21.510847Z",
     "start_time": "2023-04-05T08:27:15.466176Z"
    }
   },
   "outputs": [],
   "source": [
    "print(nrl.sensors[manufacturer][sensor])\n",
    "\n",
    "sensitivity = input(\"\\nChoose sensitivity: \");print(\"\\n_______________________________\")"
   ]
  },
  {
   "cell_type": "code",
   "execution_count": null,
   "metadata": {
    "ExecuteTime": {
     "end_time": "2023-04-05T08:27:36.501194Z",
     "start_time": "2023-04-05T08:27:23.223147Z"
    }
   },
   "outputs": [],
   "source": [
    "print(nrl.sensors[manufacturer][sensor][sensitivity])\n",
    "\n",
    "generation = str(input(\"\\nChoose generation: \"));print(\"\\n_______________________________\")"
   ]
  },
  {
   "cell_type": "code",
   "execution_count": 5,
   "metadata": {
    "ExecuteTime": {
     "end_time": "2023-04-05T11:50:24.761908Z",
     "start_time": "2023-04-05T11:50:24.749727Z"
    }
   },
   "outputs": [
    {
     "ename": "NameError",
     "evalue": "name 'sensor' is not defined",
     "output_type": "error",
     "traceback": [
      "\u001b[0;31m---------------------------------------------------------------------------\u001b[0m",
      "\u001b[0;31mNameError\u001b[0m                                 Traceback (most recent call last)",
      "\u001b[0;32m<ipython-input-5-2b4e5e580678>\u001b[0m in \u001b[0;36m<module>\u001b[0;34m\u001b[0m\n\u001b[0;32m----> 1\u001b[0;31m \u001b[0;34m[\u001b[0m\u001b[0mmanufacturer\u001b[0m\u001b[0;34m,\u001b[0m\u001b[0msensor\u001b[0m\u001b[0;34m,\u001b[0m\u001b[0msensitivity\u001b[0m\u001b[0;34m]\u001b[0m\u001b[0;34m\u001b[0m\u001b[0;34m\u001b[0m\u001b[0m\n\u001b[0m\u001b[1;32m      2\u001b[0m \u001b[0;34m\u001b[0m\u001b[0m\n\u001b[1;32m      3\u001b[0m \u001b[0mnrl\u001b[0m\u001b[0;34m.\u001b[0m\u001b[0msensors\u001b[0m\u001b[0;34m[\u001b[0m\u001b[0msensor_Nanometrics_TrilliumCompact120Horizon_SG754_LP120_STgroundVel\u001b[0m\u001b[0;34m]\u001b[0m\u001b[0;34m\u001b[0m\u001b[0;34m\u001b[0m\u001b[0m\n",
      "\u001b[0;31mNameError\u001b[0m: name 'sensor' is not defined"
     ]
    }
   ],
   "source": [
    "[manufacturer,sensor,sensitivity]"
   ]
  },
  {
   "cell_type": "code",
   "execution_count": null,
   "metadata": {
    "ExecuteTime": {
     "end_time": "2023-04-05T08:27:53.052665Z",
     "start_time": "2023-04-05T08:27:53.049451Z"
    }
   },
   "outputs": [],
   "source": [
    "# nrl.sensors[manufacturer][sensor][sensitivity][generation]\n",
    "nrl.sensors[manufacturer][sensor][sensitivity]"
   ]
  },
  {
   "cell_type": "code",
   "execution_count": null,
   "metadata": {},
   "outputs": [],
   "source": []
  },
  {
   "cell_type": "markdown",
   "metadata": {
    "ExecuteTime": {
     "end_time": "2023-03-30T14:33:20.710733Z",
     "start_time": "2023-03-30T14:33:20.705558Z"
    }
   },
   "source": [
    "### Data Logger"
   ]
  },
  {
   "cell_type": "code",
   "execution_count": null,
   "metadata": {
    "ExecuteTime": {
     "end_time": "2023-04-05T08:28:03.937495Z",
     "start_time": "2023-04-05T08:27:56.806402Z"
    }
   },
   "outputs": [],
   "source": [
    "print(nrl.dataloggers)\n",
    "\n",
    "datalogger = input(\"\\nChoose datalogger: \");print(\"\\n_______________________________\")"
   ]
  },
  {
   "cell_type": "code",
   "execution_count": null,
   "metadata": {
    "ExecuteTime": {
     "end_time": "2023-04-05T08:28:20.347379Z",
     "start_time": "2023-04-05T08:28:05.078995Z"
    }
   },
   "outputs": [],
   "source": [
    "print(nrl.dataloggers[datalogger])\n",
    "\n",
    "model = input(\"\\nChoose datalogger model: \");print(\"\\n_______________________________\")"
   ]
  },
  {
   "cell_type": "code",
   "execution_count": null,
   "metadata": {
    "ExecuteTime": {
     "end_time": "2023-04-05T08:28:24.864725Z",
     "start_time": "2023-04-05T08:28:22.143197Z"
    }
   },
   "outputs": [],
   "source": [
    "print(nrl.dataloggers[datalogger][model])\n",
    "\n",
    "gain = input(\"\\nChoose datalogger gain: \");print(\"\\n_______________________________\")"
   ]
  },
  {
   "cell_type": "code",
   "execution_count": null,
   "metadata": {
    "ExecuteTime": {
     "end_time": "2023-04-05T08:28:30.841228Z",
     "start_time": "2023-04-05T08:28:26.143295Z"
    }
   },
   "outputs": [],
   "source": [
    "print(nrl.dataloggers[datalogger][model][gain])\n",
    "\n",
    "sampling_rate = input(\"\\nChoose datalogger sampling rate: \");print(\"\\n_______________________________\")"
   ]
  },
  {
   "cell_type": "code",
   "execution_count": null,
   "metadata": {
    "ExecuteTime": {
     "end_time": "2023-04-05T08:28:35.278195Z",
     "start_time": "2023-04-05T08:28:35.270878Z"
    }
   },
   "outputs": [],
   "source": [
    "print(nrl.dataloggers[datalogger][model][gain][sampling_rate])"
   ]
  },
  {
   "cell_type": "code",
   "execution_count": null,
   "metadata": {
    "ExecuteTime": {
     "end_time": "2023-04-05T08:28:39.658327Z",
     "start_time": "2023-04-05T08:28:39.653562Z"
    }
   },
   "outputs": [],
   "source": [
    "[datalogger, model, gain, sampling_rate]"
   ]
  },
  {
   "cell_type": "markdown",
   "metadata": {},
   "source": [
    "### Response"
   ]
  },
  {
   "cell_type": "code",
   "execution_count": null,
   "metadata": {
    "ExecuteTime": {
     "end_time": "2023-04-05T08:28:45.907606Z",
     "start_time": "2023-04-05T08:28:44.401807Z"
    }
   },
   "outputs": [],
   "source": [
    "response = nrl.get_response(\n",
    "    datalogger_keys=[datalogger, model, gain, sampling_rate],\n",
    "    sensor_keys=[manufacturer,sensor,sensitivity]\n",
    "    )"
   ]
  },
  {
   "cell_type": "code",
   "execution_count": null,
   "metadata": {
    "ExecuteTime": {
     "end_time": "2023-04-05T08:28:48.185830Z",
     "start_time": "2023-04-05T08:28:45.908773Z"
    }
   },
   "outputs": [],
   "source": [
    "response.plot(0.001);"
   ]
  },
  {
   "cell_type": "markdown",
   "metadata": {},
   "source": [
    "## More Details on Station"
   ]
  },
  {
   "cell_type": "code",
   "execution_count": null,
   "metadata": {
    "ExecuteTime": {
     "start_time": "2023-04-05T08:28:55.354Z"
    }
   },
   "outputs": [],
   "source": [
    "net = input(\"\\nEnter network: \");print(\"\\n_______________________________\")\n",
    "\n",
    "sta = input(\"\\nEnter station: \");print(\"\\n_______________________________\")\n",
    "\n",
    "loc = input(\"\\nEnter location: \") or '';print(\"\\n_______________________________\")\n",
    "\n",
    "serial_number = input(\"\\nEnter serial number: \");print(\"\\n_______________________________\")\n",
    "\n",
    "outpath = input(\"\\nEnter path of output file: \");print(\"\\n_______________________________\")\n",
    "\n",
    "location = input(\"\\nSpecify site coordinates (y/n)? \")\n",
    "\n",
    "if location == \"y\" or location == \"yes\":\n",
    "    lat = input(\"Enter latitude: \")\n",
    "    lon = input(\"Enter longitude: \")\n",
    "    ele = input(\"Enter elevation: \")\n",
    "    \n",
    "else:\n",
    "    lat, lon, ele = 0.0, 0.0, 0.0\n",
    "\n",
    "outfile = f\"{serial_number}_{sta}.xml\""
   ]
  },
  {
   "cell_type": "code",
   "execution_count": null,
   "metadata": {
    "ExecuteTime": {
     "end_time": "2023-03-30T14:52:01.442989Z",
     "start_time": "2023-03-30T14:52:01.429827Z"
    }
   },
   "outputs": [],
   "source": [
    "channel1 = Channel(code='HHZ', \n",
    "                   location_code=loc, \n",
    "                   latitude=lat, \n",
    "                   longitude=lon,\n",
    "                   elevation=ele, \n",
    "                   depth=0,\n",
    "#                    azimuth=0,\n",
    "#                    dip=-90,\n",
    "                   sample_rate=sampling_rate,\n",
    "                   response=response,\n",
    "                  )\n",
    "\n",
    "channel2 = Channel(code='HHN', \n",
    "                   location_code=loc, \n",
    "                   latitude=lat, \n",
    "                   longitude=lon,\n",
    "                   elevation=ele, \n",
    "                   depth=0,\n",
    "#                    azimuth=0,\n",
    "#                    dip=0,\n",
    "                   sample_rate=sampling_rate,\n",
    "                   response=response,\n",
    "                  )\n",
    "\n",
    "channel3 = Channel(code='HHE', \n",
    "                   location_code=loc, \n",
    "                   latitude=lat, \n",
    "                   longitude=lon,\n",
    "                   elevation=ele, \n",
    "                   depth=0,\n",
    "#                    azimuth=90,\n",
    "#                    dip=0,\n",
    "                   sample_rate=sampling_rate,\n",
    "                   response=response,\n",
    "                  )"
   ]
  },
  {
   "cell_type": "code",
   "execution_count": null,
   "metadata": {
    "ExecuteTime": {
     "end_time": "2023-03-30T14:52:04.317676Z",
     "start_time": "2023-03-30T14:52:04.311691Z"
    }
   },
   "outputs": [],
   "source": [
    "site = Site(name=loc)\n",
    "\n",
    "\n",
    "station = Station(code=sta, \n",
    "                  latitude=lat, \n",
    "                  longitude=lon,\n",
    "                  elevation=ele,\n",
    "                  channels=[channel1,channel2,channel3],\n",
    "                  site=site,\n",
    "                 )\n",
    "\n",
    "network = Network(code=net,\n",
    "                  stations=[station],\n",
    "                 )\n",
    "\n",
    "\n",
    "inv = Inventory(networks=[network], \n",
    "                source='LMU',\n",
    "               )\n",
    "\n",
    "\n",
    "if outpath[-1] == \"/\":\n",
    "    outpath = outpath[:-1]"
   ]
  },
  {
   "cell_type": "markdown",
   "metadata": {},
   "source": [
    "### Write XML output"
   ]
  },
  {
   "cell_type": "code",
   "execution_count": null,
   "metadata": {
    "ExecuteTime": {
     "end_time": "2023-03-30T14:52:06.305564Z",
     "start_time": "2023-03-30T14:52:06.202548Z"
    }
   },
   "outputs": [],
   "source": [
    "inv.write(f\"{outpath}/{outfile}\", format='STATIONXML')"
   ]
  },
  {
   "cell_type": "markdown",
   "metadata": {},
   "source": [
    "### Check if output is readable"
   ]
  },
  {
   "cell_type": "code",
   "execution_count": null,
   "metadata": {
    "ExecuteTime": {
     "end_time": "2023-03-30T14:52:08.044357Z",
     "start_time": "2023-03-30T14:52:08.014434Z"
    }
   },
   "outputs": [],
   "source": [
    "try:\n",
    "    read_inventory(f\"{outpath}/{outfile}\")\n",
    "    print(\"\\n DONE\")\n",
    "except:\n",
    "    print(\"\\n Something went wrong! File: {outpath}/{outfile} could not be loaded!\")"
   ]
  },
  {
   "cell_type": "code",
   "execution_count": null,
   "metadata": {},
   "outputs": [],
   "source": []
  },
  {
   "cell_type": "code",
   "execution_count": null,
   "metadata": {},
   "outputs": [],
   "source": []
  }
 ],
 "metadata": {
  "kernelspec": {
   "display_name": "Python 3",
   "language": "python",
   "name": "python3"
  },
  "language_info": {
   "codemirror_mode": {
    "name": "ipython",
    "version": 3
   },
   "file_extension": ".py",
   "mimetype": "text/x-python",
   "name": "python",
   "nbconvert_exporter": "python",
   "pygments_lexer": "ipython3",
   "version": "3.7.7"
  },
  "toc": {
   "base_numbering": 1,
   "nav_menu": {},
   "number_sections": true,
   "sideBar": true,
   "skip_h1_title": false,
   "title_cell": "Table of Contents",
   "title_sidebar": "Contents",
   "toc_cell": false,
   "toc_position": {},
   "toc_section_display": true,
   "toc_window_display": false
  }
 },
 "nbformat": 4,
 "nbformat_minor": 2
}
