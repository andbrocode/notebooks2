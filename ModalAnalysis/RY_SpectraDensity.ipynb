{
 "cells": [
  {
   "cell_type": "markdown",
   "id": "eda030d3",
   "metadata": {},
   "source": [
    "# Spectral Density"
   ]
  },
  {
   "cell_type": "markdown",
   "id": "protected-presentation",
   "metadata": {},
   "source": [
    "## Load Libraries"
   ]
  },
  {
   "cell_type": "code",
   "execution_count": 1,
   "id": "behind-arrangement",
   "metadata": {
    "ExecuteTime": {
     "end_time": "2023-08-07T14:02:02.205745Z",
     "start_time": "2023-08-07T14:01:59.488541Z"
    },
    "tags": []
   },
   "outputs": [],
   "source": [
    "\n",
    "import os\n",
    "import pickle\n",
    "import matplotlib.pyplot as plt\n",
    "\n",
    "from andbro__querrySeismoData import __querrySeismoData\n",
    "from andbro__savefig import __savefig\n",
    "\n",
    "from obspy import UTCDateTime\n",
    "from scipy.signal import welch\n",
    "from numpy import log10, zeros, pi, append, linspace, mean, median, array, where, transpose, shape, histogram, arange\n",
    "from numpy import logspace, linspace, log, log10, isinf, ones, nan, count_nonzero, sqrt, isnan\n",
    "from pandas import DataFrame, concat, Series, date_range, read_csv, read_pickle\n",
    "from tqdm import tqdm_notebook\n",
    "from pathlib import Path\n",
    "\n",
    "from functions.get_hist_loglog import __get_hist_loglog\n"
   ]
  },
  {
   "cell_type": "code",
   "execution_count": 2,
   "id": "f337911b",
   "metadata": {
    "ExecuteTime": {
     "end_time": "2023-08-07T14:02:02.308085Z",
     "start_time": "2023-08-07T14:02:02.293848Z"
    },
    "tags": []
   },
   "outputs": [],
   "source": [
    "if os.uname().nodename == 'lighthouse':\n",
    "    root_path = '/home/andbro/'\n",
    "    data_path = '/home/andbro/kilauea-data/'\n",
    "    archive_path = '/home/andbro/freenas/'\n",
    "elif os.uname().nodename == 'kilauea':\n",
    "    root_path = '/home/brotzer/'\n",
    "    data_path = '/import/kilauea-data/'\n",
    "    archive_path = '/import/freenas-ffb-01-data/'"
   ]
  },
  {
   "cell_type": "code",
   "execution_count": 3,
   "id": "e4858b93",
   "metadata": {
    "ExecuteTime": {
     "end_time": "2023-08-07T14:02:02.209323Z",
     "start_time": "2023-08-07T14:02:02.206841Z"
    },
    "code_folding": [
     0
    ],
    "tags": []
   },
   "outputs": [],
   "source": [
    "def __get_minimal_psd(psds):\n",
    "\n",
    "    from numpy import nanmin, array, nonzero\n",
    "\n",
    "    min_psd = zeros(psds.shape[1])\n",
    "\n",
    "    for f in range(psds.shape[1]):\n",
    "        a = psds[:,f]\n",
    "        min_psd[f] = nanmin(a[nonzero(a)])\n",
    "\n",
    "    return min_psd"
   ]
  },
  {
   "cell_type": "code",
   "execution_count": 4,
   "id": "396e24f9",
   "metadata": {
    "ExecuteTime": {
     "end_time": "2023-08-07T14:02:02.226840Z",
     "start_time": "2023-08-07T14:02:02.210616Z"
    },
    "code_folding": [
     0
    ],
    "tags": []
   },
   "outputs": [],
   "source": [
    "def __get_median_psd(psds):\n",
    "\n",
    "    from numpy import median, zeros, isnan\n",
    "\n",
    "    med_psd = zeros(psds.shape[1])\n",
    "\n",
    "    for f in range(psds.shape[1]):\n",
    "        a = psds[:,f]\n",
    "        med_psd[f] = median(a[~isnan(a)])\n",
    "\n",
    "    return med_psd"
   ]
  },
  {
   "cell_type": "code",
   "execution_count": 5,
   "id": "c4ec90e8",
   "metadata": {
    "ExecuteTime": {
     "end_time": "2023-08-07T14:02:02.259268Z",
     "start_time": "2023-08-07T14:02:02.244427Z"
    },
    "code_folding": [
     0
    ],
    "tags": []
   },
   "outputs": [],
   "source": [
    "def __get_minimum_psd(psds, f_tmp):\n",
    "\n",
    "    for i, psd in enumerate(psds):\n",
    "        if i == 0:\n",
    "            lowest_value = psd.sum()\n",
    "            idx = 0\n",
    "\n",
    "        value = psd.sum()\n",
    "\n",
    "        if value < lowest_value and value != 0:\n",
    "            lowest_value = value\n",
    "            idx = i\n",
    "\n",
    "    return psds[idx]"
   ]
  },
  {
   "cell_type": "code",
   "execution_count": 6,
   "id": "d4ffd698",
   "metadata": {
    "ExecuteTime": {
     "end_time": "2023-08-07T14:02:02.292457Z",
     "start_time": "2023-08-07T14:02:02.277315Z"
    },
    "code_folding": [
     0
    ],
    "tags": []
   },
   "outputs": [],
   "source": [
    "def __get_array_from_dataframe(df):\n",
    "\n",
    "    from pandas import to_numeric\n",
    "\n",
    "    ## convert to list\n",
    "    psds = []\n",
    "    for col in array(df.columns):\n",
    "\n",
    "        ## turn non-float series to float objects\n",
    "        df[col] = to_numeric(df[col], errors = 'coerce')\n",
    "\n",
    "        ## add to psds list\n",
    "        psds.append(array(df[col]))\n",
    "\n",
    "    return array(psds)"
   ]
  },
  {
   "cell_type": "markdown",
   "id": "subject-expression",
   "metadata": {},
   "source": [
    "## Configurations"
   ]
  },
  {
   "cell_type": "code",
   "execution_count": 7,
   "id": "e89d22a7",
   "metadata": {
    "ExecuteTime": {
     "end_time": "2023-08-07T14:03:55.344239Z",
     "start_time": "2023-08-07T14:03:55.340231Z"
    },
    "tags": []
   },
   "outputs": [],
   "source": [
    "## ---------------------------------------\n",
    "\n",
    "# name, comp, app = \"PROMY\", \"\", \"\"\n",
    "# name, comp, app = \"FFBI\", \"\", \"_absolute\"\n",
    "# name, comp, app  = \"ROMY\", \"Z\", \"\"\n",
    "# name, comp, app = \"ROMY\", \"U\", \"\"\n",
    "# name, comp, app = \"ROMY\", \"V\", \"\"\n",
    "\n",
    "name, comp, app = \"RY01\", \"HHZ\", \"\"\n",
    "\n",
    "\n",
    "\n",
    "## ---------------------------------------\n",
    "\n",
    "# name = \"RY01\"\n",
    "# cha = \"HHZ\"\n",
    "# inname = f\"2023_RY01_{cha[2]}_3600\"\n",
    "# subdir = \"PSDS/\"\n",
    "# threshold = 1e7\n",
    "# f_limits = 0.01, 100.0\n",
    "\n",
    "\n",
    "## ---------------------------------------\n",
    "\n",
    "\n",
    "year = \"2023\"\n",
    "\n",
    "path = archive_path+f\"ModalAnalysis/data/PSDS/{name}/{comp}/\"\n",
    "\n",
    "t1, t2 = \"2023-03-10\", \"2023-03-17\"\n"
   ]
  },
  {
   "cell_type": "code",
   "execution_count": 8,
   "id": "f8bcfd0c-9fca-4ff4-b1bb-eecdf0e93939",
   "metadata": {
    "tags": []
   },
   "outputs": [],
   "source": [
    "## ---------------------------------------\n",
    "\n",
    "## load configurations\n",
    "if len(comp) != 0:\n",
    "    config = pickle.load(open(path+f\"{year}_{name}_{comp[-1]}_3600_config.pkl\", 'rb'))\n",
    "    config['filename'] = f\"{year}_{name}_{comp[-1]}_3600\"\n",
    "    config['station'] = f\"{name}_{comp[-1]}\"\n",
    "else:\n",
    "    config = pickle.load(open(path+f\"{year}_{name}_3600_config.pkl\", 'rb'))\n",
    "    config['filename'] = f\"{year}_{name}_3600\"\n",
    "    config['station'] = f\"{name}\"\n",
    "\n",
    "\n",
    "config['path'] = path\n",
    "\n",
    "config['startdate'], config['enddate'] = t1, t2\n",
    "\n",
    "\n",
    "\n",
    "## specify paths\n",
    "config['outpath_figures'] = data_path+f\"LNM2/figures/\"\n",
    "\n",
    "config['path_to_outdata'] = data_path+f\"LNM2/data/\""
   ]
  },
  {
   "cell_type": "markdown",
   "id": "natural-beginning",
   "metadata": {},
   "source": [
    "## Methods"
   ]
  },
  {
   "cell_type": "code",
   "execution_count": 9,
   "id": "bba5f658-f478-4548-9110-99e5b9cd4fca",
   "metadata": {
    "tags": []
   },
   "outputs": [],
   "source": [
    "def __load_psd_files(tbeg, tend, ring, path_to_data):\n",
    "\n",
    "    from datetime import date\n",
    "    from pandas import read_pickle, concat\n",
    "    from obspy import UTCDateTime\n",
    "\n",
    "\n",
    "    tbeg, tend = UTCDateTime(tbeg), UTCDateTime(tend)\n",
    "\n",
    "    dd1 = date.fromisoformat(str(tbeg.date))\n",
    "    dd2 = date.fromisoformat(str(tend.date))\n",
    "\n",
    "    year = str(tbeg.year)\n",
    "\n",
    "    df = DataFrame()\n",
    "    for dat in date_range(dd1, dd2):\n",
    "        file = f\"{year}/R{ring}/FJ{ring}_\"+str(dat)[:10].replace(\"-\", \"\")+\".pkl\"\n",
    "        try:\n",
    "            df0 = read_pickle(path_to_data+file)\n",
    "            df = concat([df, df0])\n",
    "        except:\n",
    "            print(f\"error for {file}\")\n",
    "\n",
    "    ## trim to defined times\n",
    "    df = df[(df.times_utc >= tbeg) & (df.times_utc < tend)]\n",
    "\n",
    "    ## correct seconds\n",
    "    df['times_utc_sec'] = [abs(tbeg - UTCDateTime(_t))  for _t in df['times_utc']]\n",
    "\n",
    "    return df"
   ]
  },
  {
   "cell_type": "code",
   "execution_count": 10,
   "id": "e8453ee6",
   "metadata": {
    "ExecuteTime": {
     "end_time": "2023-08-07T14:03:57.177938Z",
     "start_time": "2023-08-07T14:03:57.174706Z"
    },
    "code_folding": [
     0
    ],
    "tags": []
   },
   "outputs": [],
   "source": [
    "def __filter_psds(psds, thresholds):\n",
    "\n",
    "    from numpy import mean, array\n",
    "\n",
    "    psds_filtered = []\n",
    "        ## filter mean psds values\n",
    "#         m_psd = mean(psd)\n",
    "#         if m_psd > thresholds[0] and m_psd < thresholds[1]:\n",
    "#             psds_filtered.append(psd)\n",
    "\n",
    "    ## filter for periods larger than 20 seconds\n",
    "    if mean(psd[0:63]) < thresholds[0]:\n",
    "        psds_filtered.append(psd)\n",
    "\n",
    "    print(f\" -> removed {len(psds)- len(psds_filtered)} of {len(psds)} psds due to thresholds: {thresholds[0]} & {thresholds[1]}\")\n",
    "    return array(psds_filtered)"
   ]
  },
  {
   "cell_type": "code",
   "execution_count": 11,
   "id": "b42d3dc5",
   "metadata": {
    "ExecuteTime": {
     "end_time": "2023-08-07T14:03:57.370938Z",
     "start_time": "2023-08-07T14:03:57.365816Z"
    },
    "code_folding": [
     0
    ],
    "tags": []
   },
   "outputs": [],
   "source": [
    "def __load_data_file(path, file):\n",
    "\n",
    "    from tqdm.notebook import tqdm\n",
    "    from numpy import array\n",
    "\n",
    "    psds_all = []\n",
    "    psds_hourly = read_pickle(path+file)\n",
    "\n",
    "    for psd in psds_hourly:\n",
    "        psds_all.append(psd)\n",
    "\n",
    "    return array(psds_all)"
   ]
  },
  {
   "cell_type": "code",
   "execution_count": 12,
   "id": "f9df50f3",
   "metadata": {
    "ExecuteTime": {
     "end_time": "2023-08-07T14:03:57.507675Z",
     "start_time": "2023-08-07T14:03:57.501498Z"
    },
    "code_folding": [
     0
    ],
    "tags": []
   },
   "outputs": [],
   "source": [
    "def __cut_frequencies_array(arr, freqs, fmin, fmax):\n",
    "\n",
    "    ind = []\n",
    "    for i, f in enumerate(freqs):\n",
    "        if f >= fmin and f <= fmax:\n",
    "            ind.append(i)\n",
    "\n",
    "    ff = freqs[ind[0]:ind[-1]]\n",
    "    pp = arr[:,ind[0]:ind[-1]]\n",
    "\n",
    "    return pp, ff"
   ]
  },
  {
   "cell_type": "code",
   "execution_count": 13,
   "id": "cf7921ed",
   "metadata": {
    "ExecuteTime": {
     "end_time": "2023-08-07T14:03:57.668589Z",
     "start_time": "2023-08-07T14:03:57.660466Z"
    },
    "code_folding": [
     0
    ],
    "tags": []
   },
   "outputs": [],
   "source": [
    "def __remove_noisy_psds(arr, threshold_mean=1e-16, ff=None, flim=None):\n",
    "\n",
    "    from numpy import delete, shape, sort, array, ones, nan\n",
    "\n",
    "    if flim is not None and ff is not None:\n",
    "        for n, f in enumerate(ff):\n",
    "            if f > flim:\n",
    "                idx_max = n\n",
    "                break\n",
    "\n",
    "    idx_min = 5\n",
    "\n",
    "    l1 = shape(arr)[0]\n",
    "\n",
    "    idx_to_remove = []\n",
    "    rejected = []\n",
    "    for ii in range(shape(arr)[0]):\n",
    "\n",
    "        ## appy upper threshold\n",
    "        if flim is not None and ff is not None:\n",
    "            if arr[ii, idx_min:idx_max].mean() > threshold_mean:\n",
    "                if ii == 0:\n",
    "                    print(f\" -> filter threshold between {round(ff[idx_min],4)} and {round(ff[idx_max],2)}\")\n",
    "                rejected.append(arr[ii, :])\n",
    "                arr[ii] = ones(len(arr[ii])) * nan\n",
    "                # idx_to_remove.append(ii)\n",
    "        else:\n",
    "            if arr[ii, :].mean() > threshold_mean:\n",
    "                rejected.append(arr[ii, :])\n",
    "                idx_to_remove.append(ii)\n",
    "\n",
    "        ## apply default lowe threshold\n",
    "        if arr[ii, :].mean() < 1e-26:\n",
    "            rejected.append(arr[ii, :])\n",
    "            idx_to_remove.append(ii)\n",
    "\n",
    "    # for jj in sort(array(idx_to_remove))[::-1]:\n",
    "    #     arr = delete(arr, jj, axis=0)\n",
    "\n",
    "    l2 = shape(arr)[0]\n",
    "\n",
    "    print(f\" -> removed {l1-l2} rows due to mean thresholds!\")\n",
    "    print(f\" -> {l2} psds remain\")\n",
    "\n",
    "    return arr, rejected"
   ]
  },
  {
   "cell_type": "code",
   "execution_count": 14,
   "id": "8efbaf73",
   "metadata": {
    "ExecuteTime": {
     "end_time": "2023-08-07T14:03:57.827780Z",
     "start_time": "2023-08-07T14:03:57.815758Z"
    },
    "code_folding": [
     0
    ],
    "tags": []
   },
   "outputs": [],
   "source": [
    "def __makeplot_colorlines(config, ff, psds, rejected, day):\n",
    "\n",
    "    from tqdm.notebook import tqdm\n",
    "    from numpy import isnan, median, mean, std, array, zeros\n",
    "    from scipy.stats import median_abs_deviation as mad\n",
    "\n",
    "#     psds_median = __get_median_psd(array(psds))\n",
    "#     psds_minimal = __get_minimal_psd(array(psds))\n",
    "#     psds_minimum = __get_minimum_psd(array(psds), ff)\n",
    "\n",
    "\n",
    "\n",
    "    ##____________________________\n",
    "\n",
    "\n",
    "    fig, axes = plt.subplots(1, 1, figsize=(15,7), sharey=False, sharex=True)\n",
    "\n",
    "    plt.subplots_adjust(hspace=0.1)\n",
    "\n",
    "    font = 14\n",
    "\n",
    "    N = 24\n",
    "    colors = plt.cm.rainbow(linspace(0, 1, N))\n",
    "    cmap = plt.get_cmap('rainbow', 24)\n",
    "\n",
    "    for n, psd in enumerate(psds):\n",
    "        axes.loglog(ff, psd, color=colors[n], alpha=0.7)\n",
    "        p2 = axes.scatter(ff[0], psd[0], s=0.1, c=int(n/N), cmap=cmap, vmin=0, vmax=N)\n",
    "\n",
    "    for reject in rejected:\n",
    "         axes.loglog(ff, reject, color='grey', alpha=0.6, zorder=1)\n",
    "\n",
    "    axes.loglog(ff, __get_median_psd(psds), 'black', zorder=3, alpha=0.6, label=\"Median\")\n",
    "\n",
    "    axes.grid(True, which=\"both\", ls=\"-\", alpha=0.5)\n",
    "    axes.legend(loc='lower left')\n",
    "    axes.tick_params(labelsize=font-2)\n",
    "\n",
    "    axes.set_xlim(1e-3, 2e1)\n",
    "#     axes.set_ylim(1e-23, 1e-16)\n",
    "\n",
    "    axes.set_xlabel(\"  Frequency (Hz)\", fontsize=font, labelpad=-1)\n",
    "\n",
    "\n",
    "    # axes.set_ylabel(r\"PSD$_{absolute}$ ($hPa$/$Hz)$\", fontsize=font)\n",
    "    axes.set_ylabel(r\"PSD$_{infrasound}$ ($hPa$/$Hz)$\", fontsize=font)\n",
    "\n",
    "    ## set colorbar at bottom\n",
    "    cbar = fig.colorbar(p2, orientation='vertical', ax=axes, aspect=50, pad=-1e-5,\n",
    "                       ticks=arange(1,N,2))\n",
    "\n",
    "    axes.set_title(f\"{config['station']} | {day}\")\n",
    "\n",
    "    plt.show();\n",
    "    return fig"
   ]
  },
  {
   "cell_type": "code",
   "execution_count": 15,
   "id": "cd183d87",
   "metadata": {
    "ExecuteTime": {
     "end_time": "2023-08-07T14:03:57.971120Z",
     "start_time": "2023-08-07T14:03:57.956350Z"
    },
    "code_folding": [
     0
    ],
    "tags": []
   },
   "outputs": [],
   "source": [
    "def __makeplot_colorlines_overview(config, ff, psds, rejected, day):\n",
    "\n",
    "    from tqdm.notebook import tqdm\n",
    "    from numpy import isnan, median, mean, std, array, zeros\n",
    "    from scipy.stats import median_abs_deviation as mad\n",
    "\n",
    "#     psds_median = __get_median_psd(array(psds))\n",
    "#     psds_minimal = __get_minimal_psd(array(psds))\n",
    "#     psds_minimum = __get_minimum_psd(array(psds), ff)\n",
    "\n",
    "\n",
    "    ## convert frequencies to periods\n",
    "    pp=[]\n",
    "    for mm in range(len(ff)):\n",
    "        ppp = zeros(len(ff[mm]))\n",
    "        ppp = 1/ff[mm]\n",
    "        pp.append(ppp)\n",
    "\n",
    "\n",
    "    ##____________________________\n",
    "\n",
    "    NN = 3\n",
    "\n",
    "    fig, axes = plt.subplots(NN,1, figsize=(10,10), sharey=False, sharex=True)\n",
    "\n",
    "    plt.subplots_adjust(hspace=0.1)\n",
    "\n",
    "    font = 14\n",
    "\n",
    "#     N = max(psds[0].shape[0], psds[1].shape[0], psds[2].shape[0])\n",
    "#     colors = plt.cm.rainbow(linspace(0, 1, N))\n",
    "\n",
    "    N = 24\n",
    "    colors = plt.cm.rainbow(linspace(0,1,N))\n",
    "    cmap = plt.get_cmap('rainbow', 24)\n",
    "\n",
    "\n",
    "    ## add Frequency Axis\n",
    "#     g = lambda x: 1/x\n",
    "#     ax2 = axes[0].secondary_xaxis(\"top\", functions=(g,g))\n",
    "#     ax2.set_xlabel(\"  Frequency (Hz)\", fontsize=font, labelpad=-1)\n",
    "#     ax2.set_xticklabels(ff[2], fontsize=11)\n",
    "#     ax2.tick_params(axis='both', labelsize=font-2)\n",
    "\n",
    "\n",
    "    for j in range(NN):\n",
    "        for n, psd in enumerate(tqdm(psds[j])):\n",
    "            axes[j].loglog(ff[j], psd, color=colors[n], alpha=0.7)\n",
    "            p2 = axes[j].scatter(ff[j][0], psd[0], s=0., c=n/N, cmap=cmap, vmin=0, vmax=N)\n",
    "\n",
    "        for reject in rejected[j]:\n",
    "             axes[j].loglog(ff[j],reject, color='grey', alpha=0.6, zorder=1)\n",
    "\n",
    "        axes[j].loglog(ff[j], __get_median_psd(psds[j]), 'black', zorder=3, alpha=0.6, label=\"Median\")\n",
    "\n",
    "\n",
    "        axes[j].grid(True, which=\"both\", ls=\"-\", alpha=0.5)\n",
    "        axes[j].legend(loc='lower left')\n",
    "        axes[j].tick_params(labelsize=font-2)\n",
    "\n",
    "\n",
    "    axes[NN-1].set_xlabel(\"  Frequency (Hz)\", fontsize=font, labelpad=-1)\n",
    "\n",
    "    ## panel labels\n",
    "    axes[0].text(.01, .99, 'a)', ha='left', va='top', transform=axes[0].transAxes, fontsize=font+2)\n",
    "    axes[1].text(.01, .99, 'b)', ha='left', va='top', transform=axes[1].transAxes, fontsize=font+2)\n",
    "    axes[2].text(.01, .99, 'c)', ha='left', va='top', transform=axes[2].transAxes, fontsize=font+2)\n",
    "\n",
    "    axes[0].set_ylabel(r\"PSD$_{vertical}$ (m$^2$/s$^4$/$Hz)$\", fontsize=font)\n",
    "    axes[1].set_ylabel(r\"PSD$_{north}$ (m$^2$/s$^4$/$Hz)$\", fontsize=font)\n",
    "    axes[2].set_ylabel(r\"PSD$_{east}$ (m$^2$/s$^4$/$Hz)$\", fontsize=font)\n",
    "\n",
    "    ## set colorbar at bottom\n",
    "    cbar = fig.colorbar(p2, orientation='vertical', ax=axes.ravel().tolist(), aspect=50, pad=-1e-5,\n",
    "                       ticks=arange(1,N,2))\n",
    "\n",
    "\n",
    "    plt.show();\n",
    "    return fig"
   ]
  },
  {
   "cell_type": "markdown",
   "id": "3cff2634",
   "metadata": {},
   "source": [
    "## RUN for all files "
   ]
  },
  {
   "cell_type": "code",
   "execution_count": 16,
   "id": "eecd6c1c-5fb8-4f74-9da4-d930d05ca258",
   "metadata": {
    "tags": []
   },
   "outputs": [
    {
     "name": "stdout",
     "output_type": "stream",
     "text": [
      "loading 20230310\n",
      " -> removed 0 rows due to mean thresholds!\n",
      " -> 24 psds remain\n",
      "loading 20230311\n",
      " -> removed 0 rows due to mean thresholds!\n",
      " -> 24 psds remain\n",
      "loading 20230312\n",
      " -> removed 0 rows due to mean thresholds!\n",
      " -> 24 psds remain\n",
      "loading 20230313\n",
      " -> removed 0 rows due to mean thresholds!\n",
      " -> 24 psds remain\n",
      "loading 20230314\n",
      " -> removed 0 rows due to mean thresholds!\n",
      " -> 24 psds remain\n",
      "loading 20230315\n",
      " -> removed 0 rows due to mean thresholds!\n",
      " -> 24 psds remain\n",
      "loading 20230316\n",
      " -> removed 0 rows due to mean thresholds!\n",
      " -> 24 psds remain\n",
      "loading 20230317\n",
      " -> removed 0 rows due to mean thresholds!\n",
      " -> 24 psds remain\n"
     ]
    }
   ],
   "source": [
    "psds_medians_out, times_out = [], []\n",
    "\n",
    "ff = pickle.load(open(config['path']+f\"{config['filename']}_frequency_axis.pkl\", 'rb'))\n",
    "\n",
    "dat, dates = [], []\n",
    "for jj, day in enumerate(date_range(config['startdate'], config['enddate'])):\n",
    "\n",
    "    # if jj > 2:\n",
    "    #     continue\n",
    "\n",
    "\n",
    "    day = str(day).split(\" \")[0].replace(\"-\", \"\")\n",
    "\n",
    "\n",
    "    ## skip if file does not exist\n",
    "    if not os.path.isfile(config['path']+f\"{config['filename']}_{day}_hourly.pkl\"):\n",
    "        print(f\" -> skipping {config['filename']}_{day}_hourly.pkl ...\")\n",
    "        continue\n",
    "\n",
    "    print(\"loading \" + day)\n",
    "\n",
    "    try:\n",
    "        _dat = __load_data_file(path, f\"{config['filename']}_{day}_hourly.pkl\")\n",
    "\n",
    "        _dat, rejected = __remove_noisy_psds(_dat, threshold_mean=1e8, ff=ff, flim=0.1)\n",
    "\n",
    "    except Exception as e:\n",
    "        print(e)\n",
    "        print(f\" -> {day}: no data found\")\n",
    "        continue\n",
    "\n",
    "    for _k, _psd in enumerate(_dat):\n",
    "        dat.append(_psd)\n",
    "        dates.append(f\"{day}_{str(_k).rjust(2, '0')}\")\n",
    "\n",
    "dat = array(dat)"
   ]
  },
  {
   "cell_type": "code",
   "execution_count": 17,
   "id": "69913014-5c05-4392-9266-5ad1c56c255d",
   "metadata": {
    "tags": []
   },
   "outputs": [],
   "source": [
    "def __get_hist_loglog(psd_array, ff, bins=20, density=False, axis=1, plot=False):\n",
    "\n",
    "    import matplotlib.pyplot as plt\n",
    "    from numpy import argmax, std, median, isnan, array, histogram, nan, zeros, count_nonzero, isinf, log10, nanmax, nanmin, nonzero\n",
    "    from scipy.stats import median_abs_deviation as mad\n",
    "\n",
    "    def __convert_to_log(in_psds):\n",
    "\n",
    "        out_psds = zeros(in_psds.shape)\n",
    "        rows_with_zeros = 0\n",
    "\n",
    "        for i, psd in enumerate(in_psds):\n",
    "            if count_nonzero(psd) != len(psd):\n",
    "                rows_with_zeros += 1\n",
    "                psd = [nan for val in psd if val == 0]\n",
    "            out_psds[i,:] = log10(psd)\n",
    "            if isinf(out_psds[i,:]).any():\n",
    "                out_psds[i,:] = nan * ones(len(out_psds[i,:]))\n",
    "\n",
    "        print(f\" -> rows with zeros: {rows_with_zeros}\")\n",
    "\n",
    "        return out_psds\n",
    "\n",
    "    ## converting to log10\n",
    "    psd_array = __convert_to_log(psd_array)\n",
    "\n",
    "    ## exclude psds with only NaN values\n",
    "    psds = array([psd for psd in psd_array if not isnan(psd).all()])\n",
    "    print(f\" -> total spectra used: {psd_array.shape[0]}\")\n",
    "\n",
    "    ## find overall minimum and maxium values\n",
    "    # max_value = max([max(sublist) for sublist in psd_array])\n",
    "    # min_value = min([min(sublist) for sublist in psd_array])\n",
    "    max_value = max(psd_array.reshape(psd_array.size))\n",
    "    min_value = min(psd_array.reshape(psd_array.size))\n",
    "    # print(min_value, max_value)\n",
    "\n",
    "    ## define empty lists\n",
    "    dist, dist_maximas, bins_maximas, bins_medians, stds, mads = [], [], [], [], [], []\n",
    "\n",
    "    count = 0\n",
    "    for h in range(len(psd_array[axis])):\n",
    "\n",
    "        psd = psd_array[:, h]\n",
    "\n",
    "        ## compute histograms\n",
    "        hist, bin_edges = histogram(psd, bins=bins, range=(min_value, max_value), density=density);\n",
    "\n",
    "        ## center bins\n",
    "        bin_mids = 0.5*(bin_edges[1:] + bin_edges[:-1])\n",
    "\n",
    "        ## normalization\n",
    "#         if True:\n",
    "#             hist = [val / len(psd_array[:,h]) for val in hist]\n",
    "#             config['set_density'] = True\n",
    "\n",
    "        ## check if density works\n",
    "        # DX = abs(max_value-min_value)/bins\n",
    "        # SUM = sum(hist)\n",
    "        # if str(SUM*DX) != \"1.0\":\n",
    "        #     count += 1\n",
    "\n",
    "        ## modify histogram with range increment\n",
    "        # hist = hist*DX\n",
    "        hist = [h / sum(hist) for h in hist]\n",
    "\n",
    "\n",
    "        ## append values to list\n",
    "        dist.append(hist)\n",
    "        stds.append(std(hist))\n",
    "        dist_maximas.append(max(hist))\n",
    "        bins_maximas.append(bin_mids[argmax(hist)])\n",
    "        mads.append(mad(hist))\n",
    "\n",
    "        ## compute median\n",
    "        psd = psd[~(isnan(psd))]\n",
    "        bins_medians.append(median(psd[psd != 0]))\n",
    "\n",
    "    ## undo log conversion\n",
    "    output = {}\n",
    "    output['dist'] = array(dist)\n",
    "    output['bin_mids'] = 10**array(bin_mids)\n",
    "    output['bins_maximas'] = 10**array(bins_maximas)\n",
    "    output['stds'] = 10**array(stds)\n",
    "    output['mads'] = 10**array(mads)\n",
    "    output['bins_medians'] = 10**array(bins_medians)\n",
    "    output['set_density'] = density\n",
    "    output['total'] = psd_array.shape[0]\n",
    "    output['frequencies'] = ff\n",
    "\n",
    "\n",
    "    ## check plot\n",
    "    if plot:\n",
    "    # _ff[0] = 1e-21\n",
    "\n",
    "        fig = plt.figure(figsize=(15, 5))\n",
    "        cmap = plt.colormaps.get_cmap('viridis')\n",
    "        cmap.set_under(color='white')\n",
    "\n",
    "        _tmp = output['dist'].reshape(output['dist'].size)\n",
    "        cb = plt.pcolormesh(ff, output['bin_mids'], output['dist'].T, cmap=cmap, shading=\"auto\",\n",
    "                       antialiased=True, vmin=min(_tmp[nonzero(_tmp)]), norm=\"log\")\n",
    "\n",
    "        plt.yscale(\"log\")\n",
    "        plt.xscale(\"log\")\n",
    "\n",
    "        plt.colorbar(cb)\n",
    "\n",
    "        plt.xlabel(\"Frequency (Hz)\")\n",
    "        plt.ylabel(\"PSD\")\n",
    "\n",
    "        plt.xlim(ff[1], ff[-1])\n",
    "\n",
    "        plt.show();\n",
    "\n",
    "    if count > 0:\n",
    "        print(f\" -> {count}/{len(psd_array[axis])} errors found for density computation!!!\")\n",
    "\n",
    "    return output"
   ]
  },
  {
   "cell_type": "code",
   "execution_count": 18,
   "id": "98432706-3dda-4c51-bcc4-e79898a6f282",
   "metadata": {
    "tags": []
   },
   "outputs": [],
   "source": [
    "# from numpy import isnan\n",
    "# for d in dat.reshape(dat.size):\n",
    "#     if not isnan(d):\n",
    "#         print(d)"
   ]
  },
  {
   "cell_type": "code",
   "execution_count": 19,
   "id": "6efbedaa-feb9-46e3-8b5a-1da09e8d92f6",
   "metadata": {
    "tags": []
   },
   "outputs": [
    {
     "name": "stdout",
     "output_type": "stream",
     "text": [
      " -> rows with zeros: 0\n",
      " -> total spectra used: 192\n"
     ]
    },
    {
     "data": {
      "image/png": "[encoded data removed]",
      "text/plain": [
       "<Figure size 1500x500 with 2 Axes>"
      ]
     },
     "metadata": {},
     "output_type": "display_data"
    }
   ],
   "source": [
    "out = __get_hist_loglog(dat, ff, bins=50, density=False, axis=1, plot=True)"
   ]
  },
  {
   "cell_type": "markdown",
   "id": "94d90f60-c563-4dd5-8cbb-1fb2e61980db",
   "metadata": {
    "tags": []
   },
   "source": [
    "## Plotting"
   ]
  },
  {
   "cell_type": "code",
   "execution_count": 20,
   "id": "8aa2a212-bd9c-4bd7-9c3e-4d0cc027edb2",
   "metadata": {
    "tags": []
   },
   "outputs": [],
   "source": [
    "def __makeplot_density(out):\n",
    "\n",
    "    import matplotlib.pyplot as plt\n",
    "    import numpy as np\n",
    "\n",
    "\n",
    "    def __get_median_psd(psds):\n",
    "\n",
    "        from numpy import median, zeros, isnan\n",
    "\n",
    "        med_psd = zeros(psds.shape[1])\n",
    "\n",
    "        for f in range(psds.shape[1]):\n",
    "            a = psds[:,f]\n",
    "            med_psd[f] = median(a[~isnan(a)])\n",
    "\n",
    "        return med_psd\n",
    "\n",
    "    psd_median = __get_median_psd(dat)\n",
    "\n",
    "    font = 14\n",
    "\n",
    "    fig, ax = plt.subplots(1, 1, figsize=(15, 8))\n",
    "\n",
    "    ## add Frequency Axis\n",
    "    # g = lambda x: 1/x\n",
    "    # ax2 = ax.secondary_xaxis(\"top\", functions=(g, g))\n",
    "    # ax2.set_xlabel(\"Frequency (Hz)\", fontsize=font, labelpad=5)\n",
    "    # ax2.set_xticklabels(ff, fontsize=11)\n",
    "\n",
    "    ## theoretical rlnm\n",
    "    # plt.plot(periods, rlnm_psd, color=\"black\", zorder=2, lw=2, ls=\"--\", label=\"RLNM\")\n",
    "\n",
    "    out['dist'] = np.ma.masked_array(out['dist'], out['dist'] == 0)\n",
    "\n",
    "    y_axis = 10**(out['bin_mids']/10)\n",
    "    x_axis = out['frequencies']\n",
    "\n",
    "    if x_axis[0] == 0:\n",
    "        x_axis[0] == 1e-20\n",
    "\n",
    "    ## plotting\n",
    "\n",
    "    cmap = plt.colormaps.get_cmap('viridis')\n",
    "    # cmap.set_under(color='white')\n",
    "\n",
    "    _tmp = out['dist'].reshape(out['dist'].size)\n",
    "    # im = plt.pcolormesh(out['frequencies'], out['bin_mids'], out['dist'].T, cmap=cmap, shading=\"auto\",\n",
    "    #                     antialiased=True, vmin=min(_tmp[np.nonzero(_tmp)]), zorder=2)\n",
    "    im = plt.pcolormesh(out['frequencies'], out['bin_mids'], out['dist'].T, cmap=cmap, shading=\"auto\",\n",
    "                        antialiased=True, vmin=min(_tmp[np.nonzero(_tmp)]), zorder=2, norm=\"log\")\n",
    "\n",
    "    plt.xscale(\"log\")\n",
    "    plt.yscale(\"log\")\n",
    "\n",
    "    plt.xlim(1e-3, 1e1)\n",
    "\n",
    "    # plt.ylim(1e-24, 1e-15)\n",
    "\n",
    "#     plt.fill_betweenx(np.linspace(ymin,ymax,5), x1=0, x2=2.5, color=\"lightgrey\", alpha=0.4, zorder=2)\n",
    "#     plt.fill_betweenx(np.linspace(ymin-10,ymax+10,5), x1=100, x2=300, color=\"lightgrey\", alpha=0.4, zorder=2)\n",
    "\n",
    "    plt.tick_params(axis='both', labelsize=font-1)\n",
    "\n",
    "    plt.grid(axis=\"both\", which=\"both\", ls=\"--\", zorder=1)\n",
    "    # plt.legend()\n",
    "\n",
    "    plt.xlabel(\"Frequency (Hz)\", fontsize=font)\n",
    "    plt.ylabel(r\"PSD ($rad^2 /s^2 /Hz$)\", fontsize=font)\n",
    "    # plt.ylabel(r\"PSD ($Pa^2 /Hz$)\", fontsize=font)\n",
    "\n",
    "    ## add colorbar\n",
    "    cbar_ax = fig.add_axes([0.91, 0.11, 0.02, 0.77]) #[left, bottom, width, height]\n",
    "    cb = plt.colorbar(im, cax=cbar_ax)\n",
    "    cb.set_label(\"Propability Density\", fontsize=font, labelpad=-48, color=\"white\")\n",
    "\n",
    "    plt.show();\n",
    "    return fig"
   ]
  },
  {
   "cell_type": "code",
   "execution_count": 21,
   "id": "02137f48-2919-440e-8032-cec685de0ac8",
   "metadata": {
    "tags": []
   },
   "outputs": [
    {
     "name": "stderr",
     "output_type": "stream",
     "text": [
      "/tmp/ipykernel_135824/1461347103.py:36: RuntimeWarning: overflow encountered in power\n",
      "  y_axis = 10**(out['bin_mids']/10)\n"
     ]
    },
    {
     "data": {
      "image/png": "[encoded data removed]",
      "text/plain": [
       "<Figure size 1500x800 with 2 Axes>"
      ]
     },
     "metadata": {},
     "output_type": "display_data"
    }
   ],
   "source": [
    "fig = __makeplot_density(out)"
   ]
  },
  {
   "cell_type": "code",
   "execution_count": 22,
   "id": "02085cab-4504-4c42-a9ab-96b282f2b045",
   "metadata": {
    "tags": []
   },
   "outputs": [],
   "source": [
    "fig.savefig(config['outpath_figures']+f\"SpectraDensity_{name}_{comp}_{app}.png\", format=\"png\", dpi=200, bbox_inches='tight')"
   ]
  },
  {
   "cell_type": "markdown",
   "id": "a699a427-89ef-4dca-930c-30f95170b573",
   "metadata": {},
   "source": [
    "## Get median and store"
   ]
  },
  {
   "cell_type": "code",
   "execution_count": 23,
   "id": "1ab0bbd4-b503-4d61-8b26-61bfb5310e09",
   "metadata": {
    "tags": []
   },
   "outputs": [],
   "source": [
    "psd_median = __get_median_psd(dat)\n",
    "\n",
    "out_df = DataFrame()\n",
    "out_df['psds_median'] = psd_median\n",
    "out_df['frequencies'] = ff\n",
    "\n",
    "out_df.to_pickle(config['path_to_outdata']+f\"{year}_{name}_{comp}_psd_median.pkl\")"
   ]
  },
  {
   "cell_type": "code",
   "execution_count": 24,
   "id": "b57a18f1-885b-4618-91e5-4ffba840afbe",
   "metadata": {},
   "outputs": [],
   "source": [
    "df = read_pickle(config['path_to_outdata']+f\"{year}_{name}_{comp}_psd_median.pkl\")"
   ]
  },
  {
   "cell_type": "code",
   "execution_count": 25,
   "id": "a7c94d76-7d09-46fe-9672-98a32097938c",
   "metadata": {
    "tags": []
   },
   "outputs": [
    {
     "data": {
      "text/plain": [
       "[<matplotlib.lines.Line2D at 0x7f914cb03e80>]"
      ]
     },
     "execution_count": 25,
     "metadata": {},
     "output_type": "execute_result"
    },
    {
     "data": {
      "image/png": "[encoded data removed]",
      "text/plain": [
       "<Figure size 640x480 with 1 Axes>"
      ]
     },
     "metadata": {},
     "output_type": "display_data"
    }
   ],
   "source": [
    "plt.loglog(df.frequencies, df.psds_median)"
   ]
  },
  {
   "cell_type": "code",
   "execution_count": null,
   "id": "1cbf7b10-5604-4b1c-8640-ffbcf5f2f49d",
   "metadata": {},
   "outputs": [],
   "source": []
  }
 ],
 "metadata": {
  "kernelspec": {
   "display_name": "Python 3 (ipykernel)",
   "language": "python",
   "name": "python3"
  },
  "language_info": {
   "codemirror_mode": {
    "name": "ipython",
    "version": 3
   },
   "file_extension": ".py",
   "mimetype": "text/x-python",
   "name": "python",
   "nbconvert_exporter": "python",
   "pygments_lexer": "ipython3",
   "version": "3.10.12"
  },
  "latex_envs": {
   "LaTeX_envs_menu_present": true,
   "autoclose": false,
   "autocomplete": true,
   "bibliofile": "biblio.bib",
   "cite_by": "apalike",
   "current_citInitial": 1,
   "eqLabelWithNumbers": true,
   "eqNumInitial": 1,
   "hotkeys": {
    "equation": "Ctrl-E",
    "itemize": "Ctrl-I"
   },
   "labels_anchors": false,
   "latex_user_defs": false,
   "report_style_numbering": false,
   "user_envs_cfg": false
  },
  "toc": {
   "base_numbering": 1,
   "nav_menu": {},
   "number_sections": true,
   "sideBar": true,
   "skip_h1_title": false,
   "title_cell": "Table of Contents",
   "title_sidebar": "Contents",
   "toc_cell": false,
   "toc_position": {},
   "toc_section_display": true,
   "toc_window_display": false
  },
  "varInspector": {
   "cols": {
    "lenName": 16,
    "lenType": 16,
    "lenVar": 40
   },
   "kernels_config": {
    "python": {
     "delete_cmd_postfix": "",
     "delete_cmd_prefix": "del ",
     "library": "var_list.py",
     "varRefreshCmd": "print(var_dic_list())"
    },
    "r": {
     "delete_cmd_postfix": ") ",
     "delete_cmd_prefix": "rm(",
     "library": "var_list.r",
     "varRefreshCmd": "cat(var_dic_list()) "
    }
   },
   "types_to_exclude": [
    "module",
    "function",
    "builtin_function_or_method",
    "instance",
    "_Feature"
   ],
   "window_display": false
  }
 },
 "nbformat": 4,
 "nbformat_minor": 5
}
