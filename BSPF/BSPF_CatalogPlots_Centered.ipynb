{
 "cells": [
  {
   "cell_type": "markdown",
   "id": "09a2fa44",
   "metadata": {},
   "source": [
    "# Plot BlueSeis BSPF Events from Catalog"
   ]
  },
  {
   "cell_type": "markdown",
   "id": "222c6d13",
   "metadata": {
    "ExecuteTime": {
     "end_time": "2023-04-17T13:02:47.573740Z",
     "start_time": "2023-04-17T13:02:47.413960Z"
    }
   },
   "source": [
    "! Should be run in pygmt environment !"
   ]
  },
  {
   "cell_type": "markdown",
   "id": "5b1c7ac1",
   "metadata": {},
   "source": [
    "With pressure sensor parascientific and new sensor "
   ]
  },
  {
   "cell_type": "code",
   "execution_count": 1,
   "id": "ac7ec6a8",
   "metadata": {
    "ExecuteTime": {
     "end_time": "2023-07-07T08:37:26.113994Z",
     "start_time": "2023-07-07T08:37:23.316311Z"
    }
   },
   "outputs": [],
   "source": [
    "import os \n",
    "import obspy as obs\n",
    "import matplotlib.pyplot as plt\n",
    "import numpy as np\n",
    "import pandas as pd\n",
    "# import geopandas as gpd\n",
    "\n",
    "from andbro__savefig import __savefig\n",
    "from obspy.clients.fdsn import Client"
   ]
  },
  {
   "cell_type": "code",
   "execution_count": 2,
   "id": "69645e9e",
   "metadata": {
    "ExecuteTime": {
     "end_time": "2023-07-07T08:37:26.117874Z",
     "start_time": "2023-07-07T08:37:26.115018Z"
    }
   },
   "outputs": [],
   "source": [
    "if os.uname().nodename == 'lighthouse':\n",
    "    root_path = '/home/andbro/'\n",
    "    data_path = '/home/andbro/kilauea-data/'\n",
    "    archive_path = '/home/andbro/freenas/'\n",
    "elif os.uname().nodename == 'kilauea':\n",
    "    root_path = '/home/brotzer/'\n",
    "    data_path = '/import/kilauea-data/'\n",
    "    archive_path = '/import/freenas-ffb-01-data/'"
   ]
  },
  {
   "cell_type": "markdown",
   "id": "2d625638",
   "metadata": {
    "ExecuteTime": {
     "end_time": "2023-01-13T15:42:15.099966Z",
     "start_time": "2023-01-13T15:42:15.096483Z"
    }
   },
   "source": [
    "## Configurations"
   ]
  },
  {
   "cell_type": "code",
   "execution_count": 91,
   "id": "685a3ddf",
   "metadata": {
    "ExecuteTime": {
     "end_time": "2023-07-07T08:56:11.974929Z",
     "start_time": "2023-07-07T08:56:11.967402Z"
    }
   },
   "outputs": [],
   "source": [
    "config = {}\n",
    "\n",
    "date1 = \"20221001\"\n",
    "date2 = \"20230615\"\n",
    "\n",
    "\n",
    "## small bounds\n",
    "# config['minlatitude'], config['maxlatitude'] = 32, 35\n",
    "# config['minlongitude'], config['maxlongitude'] = -118, -115\n",
    "# config['eventfile'] = \"BSPF_event_catalog\"\n",
    "\n",
    "## normal bounds\n",
    "config['minlatitude'], config['maxlatitude'] = 31, 35\n",
    "config['minlongitude'], config['maxlongitude'] = -119, -114\n",
    "config['eventfile'] = f\"BSPF_catalog_{date1}_{date2}\"\n",
    "\n",
    "## extended bounds\n",
    "# config['minlatitude'], config['maxlatitude'] = 30, 37\n",
    "# config['minlongitude'], config['maxlongitude'] = -120, -113\n",
    "# config['eventfile'] = \"BSPF_catalog_extended\"\n",
    "\n",
    "\n",
    "config['BSPF_lon'] = np.array([-116.455439])\n",
    "config['BSPF_lat'] = np.array([33.610643])\n",
    "\n",
    "config['minmagnitude'] = 2.5\n",
    "\n",
    "\n",
    "config['tbeg'] = obs.UTCDateTime(date1)\n",
    "config['tend'] = obs.UTCDateTime(date2)\n",
    "\n",
    "config['triggerfile'] = f\"BSPF_catalog_{date1}_{date2}_triggered.pkl\"\n",
    "\n",
    "config['gcmt_file'] = f\"gcmt_solutions_{date1}_{date2}.xml\"\n",
    "\n",
    "config['path_to_data'] = data_path+\"BSPF/data/\"\n",
    "config['path_trigger'] = data_path+\"BSPF/data/catalogs/\"\n",
    "config['path_catalog'] = data_path+\"BSPF/data/catalogs/\"\n",
    "\n",
    "config['out_figures'] = data_path+\"BSPF/figures/\"\n",
    "\n",
    "config['outpath'] = data_path+\"BSPF/\""
   ]
  },
  {
   "cell_type": "code",
   "execution_count": 45,
   "id": "ace53e51",
   "metadata": {
    "ExecuteTime": {
     "end_time": "2023-07-07T08:48:26.141124Z",
     "start_time": "2023-07-07T08:48:26.138687Z"
    }
   },
   "outputs": [],
   "source": [
    "from functions.catalog_to_dataframe import __catalog_to_dataframe\n",
    "from functions.add_distances_and_backazimuth import __add_distances_and_backazimuth"
   ]
  },
  {
   "cell_type": "code",
   "execution_count": 46,
   "id": "75a4af8d",
   "metadata": {
    "ExecuteTime": {
     "end_time": "2023-07-07T08:48:26.318952Z",
     "start_time": "2023-07-07T08:48:26.315651Z"
    },
    "code_folding": [
     0
    ]
   },
   "outputs": [],
   "source": [
    "def __read_pickle(path, filename):\n",
    "    \n",
    "    import pickle\n",
    "\n",
    "    with open(path+filename, 'rb') as f:\n",
    "        triggerfile = pickle.load(f)\n",
    "        \n",
    "    return triggerfile"
   ]
  },
  {
   "cell_type": "code",
   "execution_count": 47,
   "id": "8de121c6",
   "metadata": {
    "ExecuteTime": {
     "end_time": "2023-07-07T08:48:26.515945Z",
     "start_time": "2023-07-07T08:48:26.501165Z"
    },
    "code_folding": [
     0
    ]
   },
   "outputs": [],
   "source": [
    "def __find_matches(trigger_events, catalog):\n",
    "\n",
    "    trigger_times, cosum = [], []\n",
    "    for n, trig in enumerate(trigger_events.index):\n",
    "        trigger_times.append(trig['trigger_time'][n])\n",
    "        cosum.append(trig['coincidence_sum'])\n",
    "\n",
    "    \n",
    "    matches, time_diffs, events_triggered, idxs = [], [], [], []\n",
    "\n",
    "    ## extract origin times from catalog\n",
    "    event_times = [catalog.events[j].origins[0].time for j in range(len(catalog))]\n",
    "    \n",
    "    \n",
    "    for trigger_time in trigger_times:\n",
    "\n",
    "        ## compute time differences in seconds\n",
    "        diff = [event_time-trigger_time for event_time in event_times]\n",
    "        \n",
    "        ## only the ones before the trigger in time\n",
    "        abs_diff = [abs(d) for d in diff if d < 0]\n",
    "        \n",
    "        ## get closest event\n",
    "        t_min, t_idx = min(abs_diff), diff.index(-min(abs_diff))\n",
    "                \n",
    "        time_diffs.append(t_min)\n",
    "        matches.append(trigger_time)\n",
    "        events_triggered.append(event_times[t_idx])\n",
    "        idxs.append(t_idx)\n",
    "        \n",
    "    cat_sel = [catalog.events[idx] for idx in idxs]\n",
    "        \n",
    "        \n",
    "    t_days = [(match-obs.UTCDateTime(\"2022-10-01\"))/86400 for match in matches]\n",
    "    plt.figure(figsize=(15,5))\n",
    "    for tt, dd, cosum in zip(t_days, time_diffs, cosum):\n",
    "        if cosum == 4:\n",
    "            plt.scatter(tt, dd, zorder=2, color='red', s=13, alpha=0.7)\n",
    "        if cosum == 5:\n",
    "            plt.scatter(tt, dd, zorder=2, color='orange', s=13, alpha=0.7)\n",
    "        if cosum == 6:\n",
    "            plt.scatter(tt, dd, zorder=2, color='green', s=13, alpha=0.7)\n",
    "            \n",
    "    plt.yscale(\"log\")\n",
    "    plt.grid(which=\"both\", zorder=-1, ls=\":\")\n",
    "    plt.ylabel(\"Time Differences (s)\")\n",
    "    plt.xlabel(\"Time (days)\")\n",
    "    plt.xlim(0, 190)\n",
    "    plt.title(f\"LTA-STA Trigger: {len(events_triggered)}\")\n",
    "    \n",
    "    return np.array(matches), np.array(events_triggered), cat_sel"
   ]
  },
  {
   "cell_type": "code",
   "execution_count": 48,
   "id": "2592ee6b",
   "metadata": {
    "ExecuteTime": {
     "end_time": "2023-07-07T08:48:26.824396Z",
     "start_time": "2023-07-07T08:48:26.666915Z"
    }
   },
   "outputs": [
    {
     "name": "stdout",
     "output_type": "stream",
     "text": [
      "ls: cannot access '/home/andbro/kilauea-data/BSPF/data/catalogs/': No such file or directory\r\n"
     ]
    }
   ],
   "source": [
    "!ls /home/andbro/kilauea-data/BSPF/data/catalogs/"
   ]
  },
  {
   "cell_type": "markdown",
   "id": "70f0ac6a",
   "metadata": {},
   "source": [
    "## Load Data"
   ]
  },
  {
   "cell_type": "markdown",
   "id": "c5f2fcbc",
   "metadata": {},
   "source": [
    "### load catalog with all events"
   ]
  },
  {
   "cell_type": "code",
   "execution_count": 49,
   "id": "c4333a2d",
   "metadata": {
    "ExecuteTime": {
     "end_time": "2023-07-07T08:48:51.928605Z",
     "start_time": "2023-07-07T08:48:27.171827Z"
    }
   },
   "outputs": [],
   "source": [
    "cat_all = obs.read_events(config['path_catalog']+config['eventfile']+\"_all.xml\")\n",
    "\n",
    "events_all_df = __catalog_to_dataframe(cat_all)\n",
    "\n",
    "events_all_df = __add_distances_and_backazimuth(config['BSPF_lat'], config['BSPF_lon'], events_all_df)"
   ]
  },
  {
   "cell_type": "code",
   "execution_count": 50,
   "id": "d10991bc",
   "metadata": {
    "ExecuteTime": {
     "end_time": "2023-07-07T08:48:52.551694Z",
     "start_time": "2023-07-07T08:48:51.929637Z"
    }
   },
   "outputs": [],
   "source": [
    "events_all_df = events_all_df.rename_axis('timestamp').reset_index()\n",
    "events_all_df['seconds'] = [abs((events_all_df.timestamp.min()-tt).total_seconds()) for tt in events_all_df.timestamp]"
   ]
  },
  {
   "cell_type": "markdown",
   "id": "2e4d28a3",
   "metadata": {},
   "source": [
    "### load triggered events"
   ]
  },
  {
   "cell_type": "code",
   "execution_count": 51,
   "id": "855a6de2",
   "metadata": {
    "ExecuteTime": {
     "end_time": "2023-07-07T08:48:52.555286Z",
     "start_time": "2023-07-07T08:48:52.552876Z"
    }
   },
   "outputs": [],
   "source": [
    "trigger_events = __read_pickle(config['path_trigger'], config['triggerfile'])"
   ]
  },
  {
   "cell_type": "code",
   "execution_count": 52,
   "id": "3d31791f",
   "metadata": {
    "ExecuteTime": {
     "end_time": "2023-07-07T08:48:52.571535Z",
     "start_time": "2023-07-07T08:48:52.556316Z"
    }
   },
   "outputs": [],
   "source": [
    "cat_select_df = trigger_events"
   ]
  },
  {
   "cell_type": "code",
   "execution_count": 53,
   "id": "8fabf15a",
   "metadata": {
    "ExecuteTime": {
     "end_time": "2023-07-07T08:48:52.586332Z",
     "start_time": "2023-07-07T08:48:52.572405Z"
    }
   },
   "outputs": [],
   "source": [
    "# trigger_times, cosum = [], []\n",
    "# for n, trig in enumerate(trigger_events):\n",
    "#     print(trig)\n",
    "# #     trigger_times.append(trig['trigger_time'][n])\n",
    "#     print(trig[\"trigger_time\"][n])\n",
    "# #     cosum.append(trig['coincidence_sum'])"
   ]
  },
  {
   "cell_type": "code",
   "execution_count": 54,
   "id": "dd8ffc6d",
   "metadata": {
    "ExecuteTime": {
     "end_time": "2023-07-07T08:48:52.600198Z",
     "start_time": "2023-07-07T08:48:52.587198Z"
    },
    "code_folding": [
     0
    ]
   },
   "outputs": [],
   "source": [
    "# matches, events_triggered, cat_select = __find_matches(trigger_events, cat_all)"
   ]
  },
  {
   "cell_type": "code",
   "execution_count": 55,
   "id": "c9f89c1f",
   "metadata": {
    "ExecuteTime": {
     "end_time": "2023-07-07T08:48:52.622390Z",
     "start_time": "2023-07-07T08:48:52.601057Z"
    }
   },
   "outputs": [],
   "source": [
    "# cat_select_df = __cat_to_df(cat_select)\n",
    "\n",
    "# cat_select_df = __add_distances_and_backazimuth(config, cat_select_df)\n",
    "\n",
    "cat_select_df = cat_select_df.rename_axis('timestamp').reset_index()\n",
    "cat_select_df['seconds'] = [abs((cat_select_df.timestamp.min()-tt).total_seconds()) for tt in cat_select_df.timestamp]"
   ]
  },
  {
   "cell_type": "code",
   "execution_count": 56,
   "id": "f9434a84",
   "metadata": {
    "ExecuteTime": {
     "end_time": "2023-07-07T08:48:52.646870Z",
     "start_time": "2023-07-07T08:48:52.624032Z"
    }
   },
   "outputs": [
    {
     "data": {
      "text/html": [
       "<div>\n",
       "<style scoped>\n",
       "    .dataframe tbody tr th:only-of-type {\n",
       "        vertical-align: middle;\n",
       "    }\n",
       "\n",
       "    .dataframe tbody tr th {\n",
       "        vertical-align: top;\n",
       "    }\n",
       "\n",
       "    .dataframe thead th {\n",
       "        text-align: right;\n",
       "    }\n",
       "</style>\n",
       "<table border=\"1\" class=\"dataframe\">\n",
       "  <thead>\n",
       "    <tr style=\"text-align: right;\">\n",
       "      <th></th>\n",
       "      <th>timestamp</th>\n",
       "      <th>latitude</th>\n",
       "      <th>longitude</th>\n",
       "      <th>depth</th>\n",
       "      <th>magnitude</th>\n",
       "      <th>type</th>\n",
       "      <th>seconds</th>\n",
       "      <th>trigger_time</th>\n",
       "      <th>cosum</th>\n",
       "      <th>backazimuth</th>\n",
       "      <th>distances_km</th>\n",
       "    </tr>\n",
       "  </thead>\n",
       "  <tbody>\n",
       "    <tr>\n",
       "      <th>0</th>\n",
       "      <td>2022-10-02 03:25:16.440</td>\n",
       "      <td>33.484333</td>\n",
       "      <td>-116.508500</td>\n",
       "      <td>8040.0</td>\n",
       "      <td>1.49</td>\n",
       "      <td>ml</td>\n",
       "      <td>0.00</td>\n",
       "      <td>2022-10-02T03:25:19.344538Z</td>\n",
       "      <td>4.0</td>\n",
       "      <td>19.364710</td>\n",
       "      <td>14.850966</td>\n",
       "    </tr>\n",
       "    <tr>\n",
       "      <th>1</th>\n",
       "      <td>2022-10-03 16:08:09.970</td>\n",
       "      <td>33.924667</td>\n",
       "      <td>-116.921500</td>\n",
       "      <td>7620.0</td>\n",
       "      <td>3.01</td>\n",
       "      <td>ml</td>\n",
       "      <td>132173.53</td>\n",
       "      <td>2022-10-03T16:08:19.219538Z</td>\n",
       "      <td>6.0</td>\n",
       "      <td>128.765512</td>\n",
       "      <td>55.472148</td>\n",
       "    </tr>\n",
       "    <tr>\n",
       "      <th>2</th>\n",
       "      <td>2022-10-03 16:08:09.970</td>\n",
       "      <td>33.924667</td>\n",
       "      <td>-116.921500</td>\n",
       "      <td>7620.0</td>\n",
       "      <td>3.01</td>\n",
       "      <td>ml</td>\n",
       "      <td>132173.53</td>\n",
       "      <td>2022-10-03T16:08:19.219538Z</td>\n",
       "      <td>6.0</td>\n",
       "      <td>128.765512</td>\n",
       "      <td>55.472148</td>\n",
       "    </tr>\n",
       "    <tr>\n",
       "      <th>3</th>\n",
       "      <td>2022-10-05 15:39:13.690</td>\n",
       "      <td>33.494500</td>\n",
       "      <td>-116.509500</td>\n",
       "      <td>12410.0</td>\n",
       "      <td>0.50</td>\n",
       "      <td>ml</td>\n",
       "      <td>303237.25</td>\n",
       "      <td>2022-10-05T15:39:17.944539Z</td>\n",
       "      <td>4.0</td>\n",
       "      <td>21.277323</td>\n",
       "      <td>13.825658</td>\n",
       "    </tr>\n",
       "    <tr>\n",
       "      <th>4</th>\n",
       "      <td>2022-10-07 22:45:05.470</td>\n",
       "      <td>33.041333</td>\n",
       "      <td>-116.354667</td>\n",
       "      <td>11790.0</td>\n",
       "      <td>3.47</td>\n",
       "      <td>mlr</td>\n",
       "      <td>501589.03</td>\n",
       "      <td>2022-10-07T22:45:15.894539Z</td>\n",
       "      <td>6.0</td>\n",
       "      <td>351.575554</td>\n",
       "      <td>63.835594</td>\n",
       "    </tr>\n",
       "    <tr>\n",
       "      <th>...</th>\n",
       "      <td>...</td>\n",
       "      <td>...</td>\n",
       "      <td>...</td>\n",
       "      <td>...</td>\n",
       "      <td>...</td>\n",
       "      <td>...</td>\n",
       "      <td>...</td>\n",
       "      <td>...</td>\n",
       "      <td>...</td>\n",
       "      <td>...</td>\n",
       "      <td>...</td>\n",
       "    </tr>\n",
       "    <tr>\n",
       "      <th>95</th>\n",
       "      <td>2023-05-24 19:11:52.210</td>\n",
       "      <td>33.952667</td>\n",
       "      <td>-116.645333</td>\n",
       "      <td>11420.0</td>\n",
       "      <td>2.22</td>\n",
       "      <td>ml</td>\n",
       "      <td>20274395.77</td>\n",
       "      <td>2023-05-24T19:11:59.335000Z</td>\n",
       "      <td>4.0</td>\n",
       "      <td>155.073931</td>\n",
       "      <td>41.815491</td>\n",
       "    </tr>\n",
       "    <tr>\n",
       "      <th>96</th>\n",
       "      <td>2023-05-31 23:27:27.570</td>\n",
       "      <td>33.950667</td>\n",
       "      <td>-116.642833</td>\n",
       "      <td>16340.0</td>\n",
       "      <td>2.35</td>\n",
       "      <td>ml</td>\n",
       "      <td>20894531.13</td>\n",
       "      <td>2023-05-31T23:27:34.805000Z</td>\n",
       "      <td>4.0</td>\n",
       "      <td>155.235515</td>\n",
       "      <td>41.517082</td>\n",
       "    </tr>\n",
       "    <tr>\n",
       "      <th>97</th>\n",
       "      <td>2023-06-04 04:43:02.890</td>\n",
       "      <td>33.140667</td>\n",
       "      <td>-116.526500</td>\n",
       "      <td>7720.0</td>\n",
       "      <td>3.16</td>\n",
       "      <td>ml</td>\n",
       "      <td>21172666.45</td>\n",
       "      <td>2023-06-04T04:43:11.320000Z</td>\n",
       "      <td>5.0</td>\n",
       "      <td>7.210330</td>\n",
       "      <td>52.543371</td>\n",
       "    </tr>\n",
       "    <tr>\n",
       "      <th>98</th>\n",
       "      <td>2023-06-07 06:03:42.030</td>\n",
       "      <td>33.965667</td>\n",
       "      <td>-116.946000</td>\n",
       "      <td>7240.0</td>\n",
       "      <td>2.58</td>\n",
       "      <td>ml</td>\n",
       "      <td>21436705.59</td>\n",
       "      <td>2023-06-07T06:03:52.075000Z</td>\n",
       "      <td>4.0</td>\n",
       "      <td>130.780515</td>\n",
       "      <td>60.123060</td>\n",
       "    </tr>\n",
       "    <tr>\n",
       "      <th>99</th>\n",
       "      <td>2023-06-07 06:03:42.030</td>\n",
       "      <td>33.965667</td>\n",
       "      <td>-116.946000</td>\n",
       "      <td>7240.0</td>\n",
       "      <td>2.58</td>\n",
       "      <td>ml</td>\n",
       "      <td>21436705.59</td>\n",
       "      <td>2023-06-07T06:03:52.065000Z</td>\n",
       "      <td>4.0</td>\n",
       "      <td>130.780515</td>\n",
       "      <td>60.123060</td>\n",
       "    </tr>\n",
       "  </tbody>\n",
       "</table>\n",
       "<p>100 rows × 11 columns</p>\n",
       "</div>"
      ],
      "text/plain": [
       "                 timestamp   latitude   longitude    depth  magnitude type  \\\n",
       "0  2022-10-02 03:25:16.440  33.484333 -116.508500   8040.0       1.49   ml   \n",
       "1  2022-10-03 16:08:09.970  33.924667 -116.921500   7620.0       3.01   ml   \n",
       "2  2022-10-03 16:08:09.970  33.924667 -116.921500   7620.0       3.01   ml   \n",
       "3  2022-10-05 15:39:13.690  33.494500 -116.509500  12410.0       0.50   ml   \n",
       "4  2022-10-07 22:45:05.470  33.041333 -116.354667  11790.0       3.47  mlr   \n",
       "..                     ...        ...         ...      ...        ...  ...   \n",
       "95 2023-05-24 19:11:52.210  33.952667 -116.645333  11420.0       2.22   ml   \n",
       "96 2023-05-31 23:27:27.570  33.950667 -116.642833  16340.0       2.35   ml   \n",
       "97 2023-06-04 04:43:02.890  33.140667 -116.526500   7720.0       3.16   ml   \n",
       "98 2023-06-07 06:03:42.030  33.965667 -116.946000   7240.0       2.58   ml   \n",
       "99 2023-06-07 06:03:42.030  33.965667 -116.946000   7240.0       2.58   ml   \n",
       "\n",
       "        seconds                 trigger_time  cosum  backazimuth  distances_km  \n",
       "0          0.00  2022-10-02T03:25:19.344538Z    4.0    19.364710     14.850966  \n",
       "1     132173.53  2022-10-03T16:08:19.219538Z    6.0   128.765512     55.472148  \n",
       "2     132173.53  2022-10-03T16:08:19.219538Z    6.0   128.765512     55.472148  \n",
       "3     303237.25  2022-10-05T15:39:17.944539Z    4.0    21.277323     13.825658  \n",
       "4     501589.03  2022-10-07T22:45:15.894539Z    6.0   351.575554     63.835594  \n",
       "..          ...                          ...    ...          ...           ...  \n",
       "95  20274395.77  2023-05-24T19:11:59.335000Z    4.0   155.073931     41.815491  \n",
       "96  20894531.13  2023-05-31T23:27:34.805000Z    4.0   155.235515     41.517082  \n",
       "97  21172666.45  2023-06-04T04:43:11.320000Z    5.0     7.210330     52.543371  \n",
       "98  21436705.59  2023-06-07T06:03:52.075000Z    4.0   130.780515     60.123060  \n",
       "99  21436705.59  2023-06-07T06:03:52.065000Z    4.0   130.780515     60.123060  \n",
       "\n",
       "[100 rows x 11 columns]"
      ]
     },
     "execution_count": 56,
     "metadata": {},
     "output_type": "execute_result"
    }
   ],
   "source": [
    "cat_select_df"
   ]
  },
  {
   "cell_type": "markdown",
   "id": "a991ff31",
   "metadata": {
    "ExecuteTime": {
     "end_time": "2023-07-03T18:00:34.137144Z",
     "start_time": "2023-07-03T18:00:34.134049Z"
    }
   },
   "source": [
    "### load GCMT catalog"
   ]
  },
  {
   "cell_type": "code",
   "execution_count": 57,
   "id": "96c95a27",
   "metadata": {
    "ExecuteTime": {
     "end_time": "2023-07-07T08:48:55.404060Z",
     "start_time": "2023-07-07T08:48:52.647810Z"
    }
   },
   "outputs": [],
   "source": [
    "cat_gcmt = obs.read_events(config['path_catalog']+config['gcmt_file'])"
   ]
  },
  {
   "cell_type": "code",
   "execution_count": 58,
   "id": "c0b4fa65",
   "metadata": {
    "ExecuteTime": {
     "end_time": "2023-07-07T08:48:55.411811Z",
     "start_time": "2023-07-07T08:48:55.405052Z"
    }
   },
   "outputs": [
    {
     "data": {
      "text/plain": [
       "(5.1, (319, 5))"
      ]
     },
     "execution_count": 58,
     "metadata": {},
     "output_type": "execute_result"
    }
   ],
   "source": [
    "cat_gcmt_df = __catalog_to_dataframe(cat_gcmt)\n",
    "cat_gcmt_df.magnitude.min(), cat_gcmt_df.shape"
   ]
  },
  {
   "cell_type": "code",
   "execution_count": 59,
   "id": "b810e59e",
   "metadata": {
    "ExecuteTime": {
     "end_time": "2023-07-07T08:48:55.428735Z",
     "start_time": "2023-07-07T08:48:55.412789Z"
    }
   },
   "outputs": [],
   "source": [
    "focal_mechanism = dict(\n",
    "                        strike=[330, 300],\n",
    "                        dip=[30, 20],\n",
    "                        rake=[90, 80],\n",
    "                        magnitude=[3.0, 3.5],\n",
    ")"
   ]
  },
  {
   "cell_type": "markdown",
   "id": "ad006822",
   "metadata": {},
   "source": [
    "### load shape file for faults"
   ]
  },
  {
   "cell_type": "markdown",
   "id": "0d4d1c2d",
   "metadata": {},
   "source": [
    "from USGS: https://usgs.maps.arcgis.com/apps/webappviewer/index.html?id=5a6038b3a1684561a9b0aadf88412fcf"
   ]
  },
  {
   "cell_type": "code",
   "execution_count": 60,
   "id": "fa21e2a1",
   "metadata": {
    "ExecuteTime": {
     "end_time": "2023-07-07T08:48:55.444530Z",
     "start_time": "2023-07-07T08:48:55.429599Z"
    }
   },
   "outputs": [],
   "source": [
    "# faults = gpd.read_file(config['path_to_data']+\"hazfaults2014/hazfaults2014.shp\")"
   ]
  },
  {
   "cell_type": "code",
   "execution_count": 61,
   "id": "fdace001",
   "metadata": {
    "ExecuteTime": {
     "end_time": "2023-07-07T08:48:55.459347Z",
     "start_time": "2023-07-07T08:48:55.445594Z"
    }
   },
   "outputs": [],
   "source": [
    "# x,y = faults.geometry[0].coords.xy\n",
    "# print(np.array(x))\n",
    "# plt.plot(x,y)"
   ]
  },
  {
   "cell_type": "markdown",
   "id": "209fc723",
   "metadata": {},
   "source": [
    "## Plot Triggered Catalog"
   ]
  },
  {
   "cell_type": "markdown",
   "id": "7a206c2b",
   "metadata": {
    "ExecuteTime": {
     "end_time": "2023-04-16T20:27:28.790409Z",
     "start_time": "2023-04-16T20:27:28.783640Z"
    }
   },
   "source": [
    "### Plots"
   ]
  },
  {
   "cell_type": "code",
   "execution_count": 103,
   "id": "2f474d8a",
   "metadata": {
    "ExecuteTime": {
     "end_time": "2023-07-07T08:57:35.342737Z",
     "start_time": "2023-07-07T08:57:35.325367Z"
    },
    "code_folding": []
   },
   "outputs": [],
   "source": [
    "def __plot_timeline(catalog_df, catalog_all_df):\n",
    "\n",
    "    fig, ax = plt.subplots(1, 1, figsize=(15,5))\n",
    "\n",
    "    catalog_all_df.sort_values(\"magnitude\")\n",
    "    catalog_df.sort_values(\"magnitude\")\n",
    "    \n",
    "    \n",
    "    cax = ax.scatter(catalog_df.timestamp, \n",
    "                     catalog_df.distances_km, \n",
    "                     s=4**catalog_df.magnitude, \n",
    "                     c=catalog_df.magnitude, \n",
    "                     alpha=1.0, \n",
    "                     cmap='viridis',\n",
    "                     marker='o', facecolors='none', edgecolors='r'\n",
    "                    )\n",
    "\n",
    "    ax.scatter(catalog_all_df.timestamp, catalog_all_df.distances_km, s=4**catalog_all_df.magnitude, c='grey', alpha=0.5, zorder=-1)\n",
    "\n",
    "    \n",
    "    cbar = plt.colorbar(cax, ax=ax, cmap='viridis', pad=0.01, aspect=15, drawedges=False)\n",
    "    cbar.set_label(label='Magnitude', size=16, color=\"white\", labelpad=-40)\n",
    "    \n",
    "    \n",
    "    ax.set_ylim(bottom=0)\n",
    "    ax.set_ylabel(\"Distance (km)\", fontsize=14)\n",
    "\n",
    "    ax.grid(ls=\":\", zorder=-1)\n",
    "    \n",
    "#     ax.set_xlim(events_all_df.timestamp.min().date(), events_all_df.timestamp.max().date())\n",
    "    ax.set_xlim(str(config['tbeg']-4*86400), str(config['tend']+4*86400))\n",
    "\n",
    "    ax.set_title(f\"triggered={len(catalog_df)} of {len(catalog_all_df)} events\", fontsize=18)\n",
    "    \n",
    "#     ax.tick_params(axis=\"y\", labelsize=15)\n",
    "#     ax.tick_params(axis=\"x\", labelsize=15)    \n",
    "    \n",
    "    plt.show();\n",
    "    return fig"
   ]
  },
  {
   "cell_type": "code",
   "execution_count": 104,
   "id": "4261dacc",
   "metadata": {
    "ExecuteTime": {
     "end_time": "2023-07-07T08:57:35.581438Z",
     "start_time": "2023-07-07T08:57:35.564436Z"
    }
   },
   "outputs": [
    {
     "data": {
      "text/html": [
       "<div>\n",
       "<style scoped>\n",
       "    .dataframe tbody tr th:only-of-type {\n",
       "        vertical-align: middle;\n",
       "    }\n",
       "\n",
       "    .dataframe tbody tr th {\n",
       "        vertical-align: top;\n",
       "    }\n",
       "\n",
       "    .dataframe thead th {\n",
       "        text-align: right;\n",
       "    }\n",
       "</style>\n",
       "<table border=\"1\" class=\"dataframe\">\n",
       "  <thead>\n",
       "    <tr style=\"text-align: right;\">\n",
       "      <th></th>\n",
       "      <th>timestamp</th>\n",
       "      <th>latitude</th>\n",
       "      <th>longitude</th>\n",
       "      <th>depth</th>\n",
       "      <th>magnitude</th>\n",
       "      <th>type</th>\n",
       "      <th>backazimuth</th>\n",
       "      <th>distances_km</th>\n",
       "      <th>seconds</th>\n",
       "    </tr>\n",
       "  </thead>\n",
       "  <tbody>\n",
       "    <tr>\n",
       "      <th>1506</th>\n",
       "      <td>2023-04-30 07:58:19.380</td>\n",
       "      <td>33.203667</td>\n",
       "      <td>-115.585833</td>\n",
       "      <td>1890.0</td>\n",
       "      <td>4.26</td>\n",
       "      <td>mw</td>\n",
       "      <td>299.400741</td>\n",
       "      <td>92.633226</td>\n",
       "      <td>18258584.95</td>\n",
       "    </tr>\n",
       "    <tr>\n",
       "      <th>1530</th>\n",
       "      <td>2023-04-30 07:10:10.180</td>\n",
       "      <td>33.189333</td>\n",
       "      <td>-115.593333</td>\n",
       "      <td>1880.0</td>\n",
       "      <td>4.29</td>\n",
       "      <td>mw</td>\n",
       "      <td>300.463441</td>\n",
       "      <td>92.820385</td>\n",
       "      <td>18255695.75</td>\n",
       "    </tr>\n",
       "    <tr>\n",
       "      <th>1531</th>\n",
       "      <td>2023-04-30 07:09:34.500</td>\n",
       "      <td>33.200833</td>\n",
       "      <td>-115.590000</td>\n",
       "      <td>2040.0</td>\n",
       "      <td>4.33</td>\n",
       "      <td>mw</td>\n",
       "      <td>299.686308</td>\n",
       "      <td>92.450188</td>\n",
       "      <td>18255660.07</td>\n",
       "    </tr>\n",
       "    <tr>\n",
       "      <th>2577</th>\n",
       "      <td>2023-04-01 01:16:07.810</td>\n",
       "      <td>33.381667</td>\n",
       "      <td>-116.909667</td>\n",
       "      <td>12960.0</td>\n",
       "      <td>4.15</td>\n",
       "      <td>mw</td>\n",
       "      <td>58.840633</td>\n",
       "      <td>49.261011</td>\n",
       "      <td>15728853.38</td>\n",
       "    </tr>\n",
       "    <tr>\n",
       "      <th>4475</th>\n",
       "      <td>2023-01-25 10:00:54.680</td>\n",
       "      <td>33.885000</td>\n",
       "      <td>-118.704500</td>\n",
       "      <td>14710.0</td>\n",
       "      <td>4.19</td>\n",
       "      <td>mw</td>\n",
       "      <td>97.682270</td>\n",
       "      <td>210.596640</td>\n",
       "      <td>10057940.25</td>\n",
       "    </tr>\n",
       "    <tr>\n",
       "      <th>5110</th>\n",
       "      <td>2022-12-31 12:12:26.650</td>\n",
       "      <td>33.397500</td>\n",
       "      <td>-116.393333</td>\n",
       "      <td>3880.0</td>\n",
       "      <td>4.14</td>\n",
       "      <td>mw</td>\n",
       "      <td>346.299211</td>\n",
       "      <td>24.334570</td>\n",
       "      <td>7905832.22</td>\n",
       "    </tr>\n",
       "  </tbody>\n",
       "</table>\n",
       "</div>"
      ],
      "text/plain": [
       "                   timestamp   latitude   longitude    depth  magnitude type  \\\n",
       "1506 2023-04-30 07:58:19.380  33.203667 -115.585833   1890.0       4.26   mw   \n",
       "1530 2023-04-30 07:10:10.180  33.189333 -115.593333   1880.0       4.29   mw   \n",
       "1531 2023-04-30 07:09:34.500  33.200833 -115.590000   2040.0       4.33   mw   \n",
       "2577 2023-04-01 01:16:07.810  33.381667 -116.909667  12960.0       4.15   mw   \n",
       "4475 2023-01-25 10:00:54.680  33.885000 -118.704500  14710.0       4.19   mw   \n",
       "5110 2022-12-31 12:12:26.650  33.397500 -116.393333   3880.0       4.14   mw   \n",
       "\n",
       "      backazimuth  distances_km      seconds  \n",
       "1506   299.400741     92.633226  18258584.95  \n",
       "1530   300.463441     92.820385  18255695.75  \n",
       "1531   299.686308     92.450188  18255660.07  \n",
       "2577    58.840633     49.261011  15728853.38  \n",
       "4475    97.682270    210.596640  10057940.25  \n",
       "5110   346.299211     24.334570   7905832.22  "
      ]
     },
     "execution_count": 104,
     "metadata": {},
     "output_type": "execute_result"
    }
   ],
   "source": [
    "events_all_df[events_all_df.magnitude > 4.1]"
   ]
  },
  {
   "cell_type": "code",
   "execution_count": 105,
   "id": "2bd76829",
   "metadata": {
    "ExecuteTime": {
     "end_time": "2023-07-07T08:57:36.614987Z",
     "start_time": "2023-07-07T08:57:36.172303Z"
    },
    "code_folding": [
     0
    ]
   },
   "outputs": [
    {
     "data": {
      "image/png": "[encoded data removed]",
      "text/plain": [
       "<Figure size 1080x360 with 2 Axes>"
      ]
     },
     "metadata": {
      "needs_background": "light"
     },
     "output_type": "display_data"
    }
   ],
   "source": [
    "fig = __plot_timeline(cat_select_df, events_all_df)\n",
    "\n",
    "fig.savefig(config['out_figures']+\"timeline_triggered_extended.png\")"
   ]
  },
  {
   "cell_type": "code",
   "execution_count": 107,
   "id": "7801bbf5",
   "metadata": {
    "ExecuteTime": {
     "end_time": "2023-07-07T08:58:20.920306Z",
     "start_time": "2023-07-07T08:58:20.526462Z"
    }
   },
   "outputs": [
    {
     "name": "stdout",
     "output_type": "stream",
     "text": [
      "\n",
      "   -> saving /import/kilauea-data/BSPF/figures/BSPF_timeline_trigger.png ...\n",
      "\n",
      "   -> Done\n",
      "\n"
     ]
    }
   ],
   "source": [
    "__savefig(fig, config['out_figures'], \"BSPF_timeline_trigger\", mode=\"png\", dpi=200)"
   ]
  },
  {
   "cell_type": "code",
   "execution_count": 25,
   "id": "3b61dfec",
   "metadata": {
    "ExecuteTime": {
     "end_time": "2023-07-07T08:37:55.995818Z",
     "start_time": "2023-07-07T08:37:55.981316Z"
    }
   },
   "outputs": [],
   "source": [
    "# for lon, lat, st, dp, rk, mg in zip(lons, lats, strikes, dips, rakes, magnitudes):\n",
    "#     with pygmt.helpers.GMTTempFile() as temp_file: \n",
    "#         with open(temp_file.name, 'w') as f:\n",
    "#             f.write(f'{lon} {lat} 0 {st} {dp} {rk} {mg} 0 0') #moment tensor: lon, lat, depth, strike, dip, rake, magnitude\n",
    "#         with pygmt.clib.Session() as session:\n",
    "#             session.call_module('meca', f'{temp_file.name} -Sa0.2i')"
   ]
  },
  {
   "cell_type": "markdown",
   "id": "c9a41e53",
   "metadata": {
    "ExecuteTime": {
     "end_time": "2023-04-17T12:59:34.878434Z",
     "start_time": "2023-04-17T12:59:34.870785Z"
    }
   },
   "source": [
    "### Map Plot"
   ]
  },
  {
   "cell_type": "code",
   "execution_count": 30,
   "id": "60dcdc03",
   "metadata": {
    "ExecuteTime": {
     "end_time": "2023-07-07T08:46:11.172537Z",
     "start_time": "2023-07-07T08:46:11.160655Z"
    },
    "code_folding": []
   },
   "outputs": [],
   "source": [
    "def __makeplot_eventmap(config, data1, data2):\n",
    "    \n",
    "\n",
    "    import pygmt\n",
    "    import pandas as pd\n",
    "    from obspy.imaging.beachball import beach\n",
    "    \n",
    "    # Set the region\n",
    "    region = [config['minlongitude'], config['maxlongitude'], config['minlatitude'], config['maxlatitude']]\n",
    "\n",
    "    resolution = \"30s\"\n",
    "\n",
    "    fig = pygmt.Figure()\n",
    "    \n",
    "#     fig.basemap(region=region, projection=\"M15c\", frame=True)\n",
    "\n",
    "\n",
    "    # make color pallets\n",
    "    cmap = pygmt.makecpt(cmap='etopo1', series='-7999/5000/1000', continuous=True)\n",
    "    \n",
    "    ## define etopo data file\n",
    "    topo_data = pygmt.datasets.load_earth_relief(resolution=resolution, region=region)\n",
    "    \n",
    "    ## adjust land and sea/lakes\n",
    "#     land = topo_data * pygmt.grdlandmask(region=region, \n",
    "#                                          spacing=resolution, \n",
    "#                                          maskvalues=[0, 1], \n",
    "#                                          resolution=\"f\"\n",
    "#                                         )\n",
    "    wet = topo_data * pygmt.grdlandmask(region=region, \n",
    "                                        spacing=resolution, \n",
    "                                        maskvalues=[1, \"NaN\"], \n",
    "                                        resolution=\"f\"\n",
    "                                       )\n",
    "    \n",
    "    ##plot high res topography\n",
    "    fig.grdimage(\n",
    "        grid=topo_data,\n",
    "        region=region,\n",
    "        projection='M5i',\n",
    "        shading=True,\n",
    "        cmap = cmap,\n",
    "        frame=True,\n",
    "        nan_transparent=True\n",
    "    )     \n",
    "\n",
    "\n",
    "#     cmap_wet = pygmt.makecpt(cmap='etopo1', series='-7999/5000/1000', continuous=True)\n",
    "\n",
    "    fig.grdimage(\n",
    "        grid=wet,\n",
    "        region=region,\n",
    "        projection='M5i',\n",
    "        shading=True,\n",
    "        cmap='seafloor',\n",
    "        frame=True,\n",
    "        nan_transparent=True\n",
    "    )\n",
    "    \n",
    "    \n",
    "    cmap = pygmt.makecpt(cmap='etopo1', series='-8000/5000/1000', continuous=True)    \n",
    "    fig.colorbar(cmap=cmap, position=\"g-118.8/31.45+w3c/0.3c+h\", box=\"+gwhite+c0.1+r\", \n",
    "                 frame=[\"x+lElevation\", r\"y+l(km)\"], scale=0.001, transparency=20)    \n",
    "\n",
    "\n",
    "    ## add coastlines\n",
    "    fig.coast(shorelines=True, borders=\"1/0.4p,black,solid\", frame=False)\n",
    "\n",
    "    ## add map scale\n",
    "    fig.basemap(map_scale=\"jBL+c32+f+w50k+u+o10.9/.6\",frame=False)\n",
    "    \n",
    "    ## add north rose\n",
    "#     fig.basemap(rose='jTR+o0.1c+w1c',frame=False)\n",
    "    \n",
    "        \n",
    "    ## add fault lines\n",
    "#     faults.plot()\n",
    "#     for n in range(faults.shape[0]):\n",
    "#         try:\n",
    "#             xx, yy = faults.geometry[n].coords.xy\n",
    "#             fig.plot(x=xx,y=yy,pen=\"1p,red\")\n",
    "#         except:\n",
    "#             print(n)    \n",
    "    \n",
    "    ## colorbar colormap\n",
    "#     cmap_mag = pygmt.makecpt(cmap=\"viridis\", series=[data1.magnitude.min(), data1.magnitude.max()])\n",
    "#     cmap_mag = pygmt.makecpt(cmap=\"viridis\", series=[data1.timestamp.astype(str)[0], data1.timestamp.astype(str)[len(data1)-1]])\n",
    "#     cmap_mag = pygmt.makecpt(cmap=\"viridis\", series=[data1.seconds.min(), data1.seconds.max()])\n",
    "    cmap_depth = pygmt.makecpt(cmap=\"viridis\", series=[data1.depth.min()/1000, data1.depth.max()/1000])\n",
    "    \n",
    "#     ## plot data coordinates\n",
    "    fig.plot(\n",
    "        x=data2.longitude,\n",
    "        y=data2.latitude,\n",
    "        size=0.04*2**data2.magnitude,\n",
    "        fill='grey',\n",
    "        style=\"cc\",\n",
    "        pen=\"0p,black\",\n",
    "    )    \n",
    "\n",
    "    fig.plot(\n",
    "        x=data1.longitude,\n",
    "        y=data1.latitude,\n",
    "        size=0.04*2**data1.magnitude,\n",
    "        fill=data1.depth/1000,\n",
    "#         fill=data1.seconds,\n",
    "        cmap=True,\n",
    "        style=\"cc\",\n",
    "        pen=\"0.1p,black\",\n",
    "        transparency=50,        \n",
    "    )    \n",
    "\n",
    "    ## plot PFO\n",
    "    fig.plot(\n",
    "        x=config['BSPF_lon'],\n",
    "        y=config['BSPF_lat'],\n",
    "        size=np.array([0.3]),\n",
    "        fill=\"red\",\n",
    "        style=\"t0.5c\",\n",
    "        pen=\"black\",\n",
    "    )\n",
    "    \n",
    "    fig.text(\n",
    "        text=\"PFO\",\n",
    "        x=config['BSPF_lon'],\n",
    "        y=config['BSPF_lat'],\n",
    "        offset=[0.35],\n",
    "        font=\"9p,Helvetica-Bold,black\"\n",
    "    )\n",
    "    \n",
    "    ## add beachball\n",
    "#     fig.meca(\n",
    "#         spec=focal_mechanism, ## use dictionary\n",
    "#         scale=\"1c\", \n",
    "#         longitude=[-118.3, -120], ## event longitude\n",
    "#         latitude=[33.1, 34.5], ## event latitude\n",
    "#         depth=[12.0, 10.0], ## hypocentral depth\n",
    "#     )\n",
    "    \n",
    "    \n",
    "#     fig.plot(\n",
    "#         x=config['BSPF_lon'],\n",
    "#         y=config['BSPF_lat'],\n",
    "#         size=10,\n",
    "#         style=\"cc\",\n",
    "#         pen=\"0.1p,red\",\n",
    "#         transparency=100,        \n",
    "#     )    \n",
    "    \n",
    "    ## add depth colorbar\n",
    "#     fig.colorbar(frame='af+l\"Depth (km)\"', cmap=cmap_depth)\n",
    "#     fig.colorbar(frame='af+l\"Days\"', transparency=20, cmap=cmap_mag, \n",
    "#                  position=\"JMR+o-2.2c/3.1c+w5c/0.5c+n+mc\", scale=1/86400, \n",
    "#                  box=\"+gwhite+c0.1+r\")\n",
    "    fig.colorbar(frame='af+l\"Depth (km)\"', transparency=20, cmap=cmap_depth, \n",
    "                 position=\"JMR+o-2.2c/3.1c+w5c/0.5c+n+mc\", \n",
    "                 box=\"+gwhite+c0.1+r\")\n",
    "    \n",
    "    ## save figure to file\n",
    "    fig.savefig(config['outpath']+'tmp_event_map.png')\n",
    "\n",
    "    fig.show();\n",
    "    return fig"
   ]
  },
  {
   "cell_type": "code",
   "execution_count": 31,
   "id": "600ef1b6",
   "metadata": {
    "ExecuteTime": {
     "end_time": "2023-07-07T08:46:14.170215Z",
     "start_time": "2023-07-07T08:46:11.367165Z"
    }
   },
   "outputs": [
    {
     "name": "stderr",
     "output_type": "stream",
     "text": [
      "pygmt-session [WARNING]: Remote dataset given to a data processing module but no registration was specified - default to gridline registration (if available)\n",
      "plot [ERROR]: Malformed -f argument [illgrey]\n",
      "plot [ERROR]: Option -f parsing failure. Correct syntax:\n",
      "\n",
      "-f[i|o]<colinfo>\n",
      "Indicate content of input/output columns. Optionally append i(nput) or o(utput)\n",
      "     [Default is both]. Append <colinfo> as one or more comma-separated groups of\n",
      "     <cols><type>, where <cols> is a column (or column ranges) and <type> is the column\n",
      "     type, chosen from T (Calendar format), t (time relative to TIME_EPOCH), f (floating\n",
      "     point), x (longitude), y (latitude), or d (dimension). You may also use s (string)\n",
      "     to indicate the start column of trailing text. Shortcuts: -f[i|o]g means -f[i|o]0x,⏎\n",
      "     …1y (geographic, i.e., lon/lat coordinates), -f[i|o]c means -f[i|o]0:1f (Cartesian\n",
      "     coordinates), while -fp[<unit>] means input x,y are already in projected coordinates\n",
      "     in <unit> [e].\n",
      "plot [ERROR]: Offending option -fillgrey\n"
     ]
    },
    {
     "ename": "GMTCLibError",
     "evalue": "Module 'plot' failed with status code 72:\nplot [ERROR]: Malformed -f argument [illgrey]\nplot [ERROR]: Option -f parsing failure. Correct syntax:\nplot [ERROR]: Offending option -fillgrey",
     "output_type": "error",
     "traceback": [
      "\u001b[0;31m---------------------------------------------------------------------------\u001b[0m",
      "\u001b[0;31mGMTCLibError\u001b[0m                              Traceback (most recent call last)",
      "\u001b[0;32m<ipython-input-31-12ddf12fb4f2>\u001b[0m in \u001b[0;36m<module>\u001b[0;34m\u001b[0m\n\u001b[0;32m----> 1\u001b[0;31m \u001b[0mfig\u001b[0m \u001b[0;34m=\u001b[0m \u001b[0m__makeplot_eventmap\u001b[0m\u001b[0;34m(\u001b[0m\u001b[0mconfig\u001b[0m\u001b[0;34m,\u001b[0m \u001b[0mcat_select_df\u001b[0m\u001b[0;34m,\u001b[0m \u001b[0mevents_all_df\u001b[0m\u001b[0;34m)\u001b[0m\u001b[0;34m\u001b[0m\u001b[0;34m\u001b[0m\u001b[0m\n\u001b[0m",
      "\u001b[0;32m<ipython-input-30-63f37aed23b6>\u001b[0m in \u001b[0;36m__makeplot_eventmap\u001b[0;34m(config, data1, data2)\u001b[0m\n\u001b[1;32m     96\u001b[0m         \u001b[0mfill\u001b[0m\u001b[0;34m=\u001b[0m\u001b[0;34m'grey'\u001b[0m\u001b[0;34m,\u001b[0m\u001b[0;34m\u001b[0m\u001b[0;34m\u001b[0m\u001b[0m\n\u001b[1;32m     97\u001b[0m         \u001b[0mstyle\u001b[0m\u001b[0;34m=\u001b[0m\u001b[0;34m\"cc\"\u001b[0m\u001b[0;34m,\u001b[0m\u001b[0;34m\u001b[0m\u001b[0;34m\u001b[0m\u001b[0m\n\u001b[0;32m---> 98\u001b[0;31m         \u001b[0mpen\u001b[0m\u001b[0;34m=\u001b[0m\u001b[0;34m\"0p,black\"\u001b[0m\u001b[0;34m,\u001b[0m\u001b[0;34m\u001b[0m\u001b[0;34m\u001b[0m\u001b[0m\n\u001b[0m\u001b[1;32m     99\u001b[0m     )    \n\u001b[1;32m    100\u001b[0m \u001b[0;34m\u001b[0m\u001b[0m\n",
      "\u001b[0;32m~/anaconda3/lib/python3.7/site-packages/pygmt/helpers/decorators.py\u001b[0m in \u001b[0;36mnew_module\u001b[0;34m(*args, **kwargs)\u001b[0m\n\u001b[1;32m    803\u001b[0m                 \u001b[0mwarnings\u001b[0m\u001b[0;34m.\u001b[0m\u001b[0mwarn\u001b[0m\u001b[0;34m(\u001b[0m\u001b[0mmsg\u001b[0m\u001b[0;34m,\u001b[0m \u001b[0mcategory\u001b[0m\u001b[0;34m=\u001b[0m\u001b[0mFutureWarning\u001b[0m\u001b[0;34m,\u001b[0m \u001b[0mstacklevel\u001b[0m\u001b[0;34m=\u001b[0m\u001b[0;36m2\u001b[0m\u001b[0;34m)\u001b[0m\u001b[0;34m\u001b[0m\u001b[0;34m\u001b[0m\u001b[0m\n\u001b[1;32m    804\u001b[0m                 \u001b[0mkwargs\u001b[0m\u001b[0;34m[\u001b[0m\u001b[0mnewname\u001b[0m\u001b[0;34m]\u001b[0m \u001b[0;34m=\u001b[0m \u001b[0mkwargs\u001b[0m\u001b[0;34m.\u001b[0m\u001b[0mpop\u001b[0m\u001b[0;34m(\u001b[0m\u001b[0moldname\u001b[0m\u001b[0;34m)\u001b[0m\u001b[0;34m\u001b[0m\u001b[0;34m\u001b[0m\u001b[0m\n\u001b[0;32m--> 805\u001b[0;31m             \u001b[0;32mreturn\u001b[0m \u001b[0mmodule_func\u001b[0m\u001b[0;34m(\u001b[0m\u001b[0;34m*\u001b[0m\u001b[0margs\u001b[0m\u001b[0;34m,\u001b[0m \u001b[0;34m**\u001b[0m\u001b[0mkwargs\u001b[0m\u001b[0;34m)\u001b[0m\u001b[0;34m\u001b[0m\u001b[0;34m\u001b[0m\u001b[0m\n\u001b[0m\u001b[1;32m    806\u001b[0m \u001b[0;34m\u001b[0m\u001b[0m\n\u001b[1;32m    807\u001b[0m         \u001b[0;32mreturn\u001b[0m \u001b[0mnew_module\u001b[0m\u001b[0;34m\u001b[0m\u001b[0;34m\u001b[0m\u001b[0m\n",
      "\u001b[0;32m~/anaconda3/lib/python3.7/site-packages/pygmt/helpers/decorators.py\u001b[0m in \u001b[0;36mnew_module\u001b[0;34m(*args, **kwargs)\u001b[0m\n\u001b[1;32m    803\u001b[0m                 \u001b[0mwarnings\u001b[0m\u001b[0;34m.\u001b[0m\u001b[0mwarn\u001b[0m\u001b[0;34m(\u001b[0m\u001b[0mmsg\u001b[0m\u001b[0;34m,\u001b[0m \u001b[0mcategory\u001b[0m\u001b[0;34m=\u001b[0m\u001b[0mFutureWarning\u001b[0m\u001b[0;34m,\u001b[0m \u001b[0mstacklevel\u001b[0m\u001b[0;34m=\u001b[0m\u001b[0;36m2\u001b[0m\u001b[0;34m)\u001b[0m\u001b[0;34m\u001b[0m\u001b[0;34m\u001b[0m\u001b[0m\n\u001b[1;32m    804\u001b[0m                 \u001b[0mkwargs\u001b[0m\u001b[0;34m[\u001b[0m\u001b[0mnewname\u001b[0m\u001b[0;34m]\u001b[0m \u001b[0;34m=\u001b[0m \u001b[0mkwargs\u001b[0m\u001b[0;34m.\u001b[0m\u001b[0mpop\u001b[0m\u001b[0;34m(\u001b[0m\u001b[0moldname\u001b[0m\u001b[0;34m)\u001b[0m\u001b[0;34m\u001b[0m\u001b[0;34m\u001b[0m\u001b[0m\n\u001b[0;32m--> 805\u001b[0;31m             \u001b[0;32mreturn\u001b[0m \u001b[0mmodule_func\u001b[0m\u001b[0;34m(\u001b[0m\u001b[0;34m*\u001b[0m\u001b[0margs\u001b[0m\u001b[0;34m,\u001b[0m \u001b[0;34m**\u001b[0m\u001b[0mkwargs\u001b[0m\u001b[0;34m)\u001b[0m\u001b[0;34m\u001b[0m\u001b[0;34m\u001b[0m\u001b[0m\n\u001b[0m\u001b[1;32m    806\u001b[0m \u001b[0;34m\u001b[0m\u001b[0m\n\u001b[1;32m    807\u001b[0m         \u001b[0;32mreturn\u001b[0m \u001b[0mnew_module\u001b[0m\u001b[0;34m\u001b[0m\u001b[0;34m\u001b[0m\u001b[0m\n",
      "\u001b[0;32m~/anaconda3/lib/python3.7/site-packages/pygmt/helpers/decorators.py\u001b[0m in \u001b[0;36mnew_module\u001b[0;34m(*args, **kwargs)\u001b[0m\n\u001b[1;32m    871\u001b[0m                 )\n\u001b[1;32m    872\u001b[0m                 \u001b[0mwarnings\u001b[0m\u001b[0;34m.\u001b[0m\u001b[0mwarn\u001b[0m\u001b[0;34m(\u001b[0m\u001b[0mmsg\u001b[0m\u001b[0;34m,\u001b[0m \u001b[0mcategory\u001b[0m\u001b[0;34m=\u001b[0m\u001b[0mFutureWarning\u001b[0m\u001b[0;34m,\u001b[0m \u001b[0mstacklevel\u001b[0m\u001b[0;34m=\u001b[0m\u001b[0;36m2\u001b[0m\u001b[0;34m)\u001b[0m\u001b[0;34m\u001b[0m\u001b[0;34m\u001b[0m\u001b[0m\n\u001b[0;32m--> 873\u001b[0;31m             \u001b[0;32mreturn\u001b[0m \u001b[0mmodule_func\u001b[0m\u001b[0;34m(\u001b[0m\u001b[0;34m*\u001b[0m\u001b[0margs\u001b[0m\u001b[0;34m,\u001b[0m \u001b[0;34m**\u001b[0m\u001b[0mkwargs\u001b[0m\u001b[0;34m)\u001b[0m\u001b[0;34m\u001b[0m\u001b[0;34m\u001b[0m\u001b[0m\n\u001b[0m\u001b[1;32m    874\u001b[0m \u001b[0;34m\u001b[0m\u001b[0m\n\u001b[1;32m    875\u001b[0m         \u001b[0;32mreturn\u001b[0m \u001b[0mnew_module\u001b[0m\u001b[0;34m\u001b[0m\u001b[0;34m\u001b[0m\u001b[0m\n",
      "\u001b[0;32m~/anaconda3/lib/python3.7/site-packages/pygmt/helpers/decorators.py\u001b[0m in \u001b[0;36mnew_module\u001b[0;34m(*args, **kwargs)\u001b[0m\n\u001b[1;32m    584\u001b[0m                     )\n\u001b[1;32m    585\u001b[0m                     \u001b[0mwarnings\u001b[0m\u001b[0;34m.\u001b[0m\u001b[0mwarn\u001b[0m\u001b[0;34m(\u001b[0m\u001b[0mmsg\u001b[0m\u001b[0;34m,\u001b[0m \u001b[0mcategory\u001b[0m\u001b[0;34m=\u001b[0m\u001b[0mSyntaxWarning\u001b[0m\u001b[0;34m,\u001b[0m \u001b[0mstacklevel\u001b[0m\u001b[0;34m=\u001b[0m\u001b[0;36m2\u001b[0m\u001b[0;34m)\u001b[0m\u001b[0;34m\u001b[0m\u001b[0;34m\u001b[0m\u001b[0m\n\u001b[0;32m--> 586\u001b[0;31m             \u001b[0;32mreturn\u001b[0m \u001b[0mmodule_func\u001b[0m\u001b[0;34m(\u001b[0m\u001b[0;34m*\u001b[0m\u001b[0margs\u001b[0m\u001b[0;34m,\u001b[0m \u001b[0;34m**\u001b[0m\u001b[0mkwargs\u001b[0m\u001b[0;34m)\u001b[0m\u001b[0;34m\u001b[0m\u001b[0;34m\u001b[0m\u001b[0m\n\u001b[0m\u001b[1;32m    587\u001b[0m \u001b[0;34m\u001b[0m\u001b[0m\n\u001b[1;32m    588\u001b[0m         \u001b[0mnew_module\u001b[0m\u001b[0;34m.\u001b[0m\u001b[0maliases\u001b[0m \u001b[0;34m=\u001b[0m \u001b[0maliases\u001b[0m\u001b[0;34m\u001b[0m\u001b[0;34m\u001b[0m\u001b[0m\n",
      "\u001b[0;32m~/anaconda3/lib/python3.7/site-packages/pygmt/helpers/decorators.py\u001b[0m in \u001b[0;36mnew_module\u001b[0;34m(*args, **kwargs)\u001b[0m\n\u001b[1;32m    724\u001b[0m                         \u001b[0mkwargs\u001b[0m\u001b[0;34m[\u001b[0m\u001b[0marg\u001b[0m\u001b[0;34m]\u001b[0m \u001b[0;34m=\u001b[0m \u001b[0mseparators\u001b[0m\u001b[0;34m[\u001b[0m\u001b[0mfmt\u001b[0m\u001b[0;34m]\u001b[0m\u001b[0;34m.\u001b[0m\u001b[0mjoin\u001b[0m\u001b[0;34m(\u001b[0m\u001b[0;34mf\"{item}\"\u001b[0m \u001b[0;32mfor\u001b[0m \u001b[0mitem\u001b[0m \u001b[0;32min\u001b[0m \u001b[0mvalue\u001b[0m\u001b[0;34m)\u001b[0m\u001b[0;34m\u001b[0m\u001b[0;34m\u001b[0m\u001b[0m\n\u001b[1;32m    725\u001b[0m             \u001b[0;31m# Execute the original function and return its output\u001b[0m\u001b[0;34m\u001b[0m\u001b[0;34m\u001b[0m\u001b[0;34m\u001b[0m\u001b[0m\n\u001b[0;32m--> 726\u001b[0;31m             \u001b[0;32mreturn\u001b[0m \u001b[0mmodule_func\u001b[0m\u001b[0;34m(\u001b[0m\u001b[0;34m*\u001b[0m\u001b[0margs\u001b[0m\u001b[0;34m,\u001b[0m \u001b[0;34m**\u001b[0m\u001b[0mkwargs\u001b[0m\u001b[0;34m)\u001b[0m\u001b[0;34m\u001b[0m\u001b[0;34m\u001b[0m\u001b[0m\n\u001b[0m\u001b[1;32m    727\u001b[0m \u001b[0;34m\u001b[0m\u001b[0m\n\u001b[1;32m    728\u001b[0m         \u001b[0;32mreturn\u001b[0m \u001b[0mnew_module\u001b[0m\u001b[0;34m\u001b[0m\u001b[0;34m\u001b[0m\u001b[0m\n",
      "\u001b[0;32m~/anaconda3/lib/python3.7/site-packages/pygmt/src/plot.py\u001b[0m in \u001b[0;36mplot\u001b[0;34m(self, data, x, y, size, direction, **kwargs)\u001b[0m\n\u001b[1;32m    273\u001b[0m         \u001b[0;32mwith\u001b[0m \u001b[0mfile_context\u001b[0m \u001b[0;32mas\u001b[0m \u001b[0mfname\u001b[0m\u001b[0;34m:\u001b[0m\u001b[0;34m\u001b[0m\u001b[0;34m\u001b[0m\u001b[0m\n\u001b[1;32m    274\u001b[0m             \u001b[0marg_str\u001b[0m \u001b[0;34m=\u001b[0m \u001b[0;34m\" \"\u001b[0m\u001b[0;34m.\u001b[0m\u001b[0mjoin\u001b[0m\u001b[0;34m(\u001b[0m\u001b[0;34m[\u001b[0m\u001b[0mfname\u001b[0m\u001b[0;34m,\u001b[0m \u001b[0mbuild_arg_string\u001b[0m\u001b[0;34m(\u001b[0m\u001b[0mkwargs\u001b[0m\u001b[0;34m)\u001b[0m\u001b[0;34m]\u001b[0m\u001b[0;34m)\u001b[0m\u001b[0;34m\u001b[0m\u001b[0;34m\u001b[0m\u001b[0m\n\u001b[0;32m--> 275\u001b[0;31m             \u001b[0mlib\u001b[0m\u001b[0;34m.\u001b[0m\u001b[0mcall_module\u001b[0m\u001b[0;34m(\u001b[0m\u001b[0;34m\"plot\"\u001b[0m\u001b[0;34m,\u001b[0m \u001b[0marg_str\u001b[0m\u001b[0;34m)\u001b[0m\u001b[0;34m\u001b[0m\u001b[0;34m\u001b[0m\u001b[0m\n\u001b[0m",
      "\u001b[0;32m~/anaconda3/lib/python3.7/site-packages/pygmt/clib/session.py\u001b[0m in \u001b[0;36mcall_module\u001b[0;34m(self, module, args)\u001b[0m\n\u001b[1;32m    499\u001b[0m         \u001b[0;32mif\u001b[0m \u001b[0mstatus\u001b[0m \u001b[0;34m!=\u001b[0m \u001b[0;36m0\u001b[0m\u001b[0;34m:\u001b[0m\u001b[0;34m\u001b[0m\u001b[0;34m\u001b[0m\u001b[0m\n\u001b[1;32m    500\u001b[0m             raise GMTCLibError(\n\u001b[0;32m--> 501\u001b[0;31m                 \u001b[0;34mf\"Module '{module}' failed with status code {status}:\\n{self._error_message}\"\u001b[0m\u001b[0;34m\u001b[0m\u001b[0;34m\u001b[0m\u001b[0m\n\u001b[0m\u001b[1;32m    502\u001b[0m             )\n\u001b[1;32m    503\u001b[0m \u001b[0;34m\u001b[0m\u001b[0m\n",
      "\u001b[0;31mGMTCLibError\u001b[0m: Module 'plot' failed with status code 72:\nplot [ERROR]: Malformed -f argument [illgrey]\nplot [ERROR]: Option -f parsing failure. Correct syntax:\nplot [ERROR]: Offending option -fillgrey"
     ]
    }
   ],
   "source": [
    "fig = __makeplot_eventmap(config, cat_select_df, events_all_df)"
   ]
  },
  {
   "cell_type": "code",
   "execution_count": 32,
   "id": "d09f85f8",
   "metadata": {
    "ExecuteTime": {
     "end_time": "2023-07-07T08:46:16.123990Z",
     "start_time": "2023-07-07T08:46:15.965586Z"
    }
   },
   "outputs": [],
   "source": [
    "fig.savefig(config['out_figures']+\"map_triggered.png\")"
   ]
  },
  {
   "cell_type": "markdown",
   "id": "7c2f7bbd",
   "metadata": {},
   "source": [
    "## Centered Plot"
   ]
  },
  {
   "cell_type": "code",
   "execution_count": null,
   "id": "ca5e1d9f",
   "metadata": {
    "ExecuteTime": {
     "end_time": "2023-07-07T08:38:03.363445Z",
     "start_time": "2023-07-07T08:37:23.361Z"
    }
   },
   "outputs": [],
   "source": [
    "# client = Client(\"ISC\")\n",
    "\n",
    "# ## events - all in area and time period\n",
    "# events_all = client.get_events(minlatitude=config['minlatitude'], maxlatitude=config['maxlatitude'],\n",
    "#                                minlongitude=config['minlongitude'], maxlongitude=config['maxlongitude'],\n",
    "#                                starttime=config['tbeg'],\n",
    "#                                endtime=config['tend'],\n",
    "#                                )"
   ]
  },
  {
   "cell_type": "code",
   "execution_count": null,
   "id": "20bd6d32",
   "metadata": {
    "ExecuteTime": {
     "end_time": "2023-07-07T08:38:03.363973Z",
     "start_time": "2023-07-07T08:37:23.363Z"
    }
   },
   "outputs": [],
   "source": [
    "# origin = event.preferred_origin() or event.origins[0]\n",
    "# focmec = event.preferred_focal_mechanism() or event.focal_mechanisms[0]\n",
    "# tensor = focmec.moment_tensor.tensor\n",
    "# moment_list = [tensor.m_rr, tensor.m_tt, tensor.m_pp,\n",
    "#                tensor.m_rt, tensor.m_rp, tensor.m_tp]"
   ]
  },
  {
   "cell_type": "code",
   "execution_count": 33,
   "id": "545cb60b",
   "metadata": {
    "ExecuteTime": {
     "end_time": "2023-07-07T08:46:18.145578Z",
     "start_time": "2023-07-07T08:46:18.134281Z"
    },
    "code_folding": [
     0
    ]
   },
   "outputs": [],
   "source": [
    "def __makeplot_polarmap(config, data1, data2):\n",
    "\n",
    "    import pygmt\n",
    "\n",
    "    reg = [config['minlongitude'], config['maxlongitude'], config['minlatitude'], config['maxlatitude']]\n",
    "\n",
    "    scale = \"8c\"\n",
    "\n",
    "    proj = f\"E{config['BSPF_lon'][0]}/{config['BSPF_lat'][0]}/1/{scale}\"\n",
    "\n",
    "    resolution = \"30s\"\n",
    "\n",
    "    ## __________________________________________\n",
    "\n",
    "    fig = pygmt.Figure()\n",
    "\n",
    "    fig.coast(projection=proj, region=reg, land=\"gray\")\n",
    "\n",
    "\n",
    "    fig.basemap(\n",
    "        region=[0, 360, 0, 10],\n",
    "        projection=f\"P{scale}+a\",\n",
    "        frame=[\"xa45f\", \"+t\"],\n",
    "    )\n",
    "    \n",
    "\n",
    "    # make color pallets\n",
    "    cmap = pygmt.makecpt(cmap='etopo1', series='-7999/5000/1000', continuous=True)\n",
    "\n",
    "    ## define etopo data file\n",
    "    topo_data = pygmt.datasets.load_earth_relief(resolution=resolution, region=reg)\n",
    "\n",
    "\n",
    "\n",
    "    ##plot high res topography\n",
    "    fig.grdimage(\n",
    "        grid=topo_data,\n",
    "        region=reg,\n",
    "        projection=proj,\n",
    "        shading=True,\n",
    "        cmap = cmap,\n",
    "        frame=True,\n",
    "        nan_transparent=True\n",
    "    )     \n",
    "\n",
    "    wet = topo_data * pygmt.grdlandmask(region=reg,  spacing=resolution, maskvalues=[1, \"NaN\"], resolution=\"f\")\n",
    "\n",
    "    fig.grdimage(\n",
    "        grid=wet,\n",
    "        region=reg,\n",
    "        projection=proj,\n",
    "        shading=True,\n",
    "        cmap='seafloor',\n",
    "        frame=True,\n",
    "        nan_transparent=True\n",
    "    )\n",
    "\n",
    "    fig.coast(shorelines=True, borders=\"1/0.4p,black,solid\", frame=False)\n",
    "\n",
    "    ## colorbar colormap\n",
    "    cmap_mag = pygmt.makecpt(cmap=\"viridis\", series=[data1.magnitude.min(), data1.magnitude.max()])\n",
    "    #     cmap_mag = pygmt.makecpt(cmap=\"viridis\", series=[data1.timestamp.astype(str)[0], data1.timestamp.astype(str)[len(data1)-1]])\n",
    "    cmap_mag = pygmt.makecpt(cmap=\"viridis\", series=[data1.seconds.min(), data1.seconds.max()])\n",
    "\n",
    "\n",
    "    ## plot data coordinates\n",
    "    fig.plot(\n",
    "        x=data2.longitude,\n",
    "        y=data2.latitude,\n",
    "        size=0.04*2**data2.magnitude,\n",
    "        fill='grey',\n",
    "        style=\"cc\",\n",
    "        pen=\"0p,black\",\n",
    "    )    \n",
    "\n",
    "    fig.plot(\n",
    "        x=data1.longitude,\n",
    "        y=data1.latitude,\n",
    "        size=0.04\n",
    "        *2**data1.magnitude,\n",
    "        fill=data1.seconds,\n",
    "        cmap=True,\n",
    "        style=\"cc\",\n",
    "        pen=\"0.1p,black\",\n",
    "        transparency=50,        \n",
    "    )    \n",
    "\n",
    "    ## plot PFO\n",
    "    fig.plot(\n",
    "        region=reg, projection=proj,\n",
    "        x=config['BSPF_lon'],\n",
    "        y=config['BSPF_lat'],\n",
    "        size=np.array([0.3]),\n",
    "        fill=\"red\",\n",
    "        style=\"t0.5c\",\n",
    "        pen=\"black\",\n",
    "    )\n",
    "\n",
    "    fig.text(\n",
    "        region=reg, projection=proj,\n",
    "        text=\"PFO\",\n",
    "        x=config['BSPF_lon'],\n",
    "        y=config['BSPF_lat'],\n",
    "        offset=[0.35],\n",
    "        font=\"9p,Helvetica-Bold,black\"\n",
    "    )\n",
    "\n",
    "    fig.show()\n",
    "    return fig"
   ]
  },
  {
   "cell_type": "code",
   "execution_count": 34,
   "id": "5826b619",
   "metadata": {
    "ExecuteTime": {
     "end_time": "2023-07-07T08:46:41.308284Z",
     "start_time": "2023-07-07T08:46:18.331806Z"
    },
    "code_folding": [
     0
    ]
   },
   "outputs": [
    {
     "name": "stderr",
     "output_type": "stream",
     "text": [
      "coast [WARNING]: Fill/clip continent option (-G) may not work for this projection.\n",
      "coast [WARNING]: If the antipode (-0/0) is in the ocean then chances are good it will work.\n",
      "coast [WARNING]: Otherwise, avoid projection center coordinates that are exact multiples of 63.5446 degrees.\n",
      "pygmt-session [WARNING]: Remote dataset given to a data processing module but no registration was specified - default to gridline registration (if available)\n",
      "plot [ERROR]: Malformed -f argument [illgrey]\n",
      "plot [ERROR]: Option -f parsing failure. Correct syntax:\n",
      "\n",
      "-f[i|o]<colinfo>\n",
      "Indicate content of input/output columns. Optionally append i(nput) or o(utput)\n",
      "     [Default is both]. Append <colinfo> as one or more comma-separated groups of\n",
      "     <cols><type>, where <cols> is a column (or column ranges) and <type> is the column\n",
      "     type, chosen from T (Calendar format), t (time relative to TIME_EPOCH), f (floating\n",
      "     point), x (longitude), y (latitude), or d (dimension). You may also use s (string)\n",
      "     to indicate the start column of trailing text. Shortcuts: -f[i|o]g means -f[i|o]0x,⏎\n",
      "     …1y (geographic, i.e., lon/lat coordinates), -f[i|o]c means -f[i|o]0:1f (Cartesian\n",
      "     coordinates), while -fp[<unit>] means input x,y are already in projected coordinates\n",
      "     in <unit> [e].\n",
      "plot [ERROR]: Offending option -fillgrey\n"
     ]
    },
    {
     "ename": "GMTCLibError",
     "evalue": "Module 'plot' failed with status code 72:\nplot [ERROR]: Malformed -f argument [illgrey]\nplot [ERROR]: Option -f parsing failure. Correct syntax:\nplot [ERROR]: Offending option -fillgrey",
     "output_type": "error",
     "traceback": [
      "\u001b[0;31m---------------------------------------------------------------------------\u001b[0m",
      "\u001b[0;31mGMTCLibError\u001b[0m                              Traceback (most recent call last)",
      "\u001b[0;32m<ipython-input-34-ef959999433c>\u001b[0m in \u001b[0;36m<module>\u001b[0;34m\u001b[0m\n\u001b[0;32m----> 1\u001b[0;31m \u001b[0mfig\u001b[0m \u001b[0;34m=\u001b[0m \u001b[0m__makeplot_polarmap\u001b[0m\u001b[0;34m(\u001b[0m\u001b[0mconfig\u001b[0m\u001b[0;34m,\u001b[0m \u001b[0mcat_select_df\u001b[0m\u001b[0;34m,\u001b[0m \u001b[0mevents_all_df\u001b[0m\u001b[0;34m)\u001b[0m\u001b[0;34m\u001b[0m\u001b[0;34m\u001b[0m\u001b[0m\n\u001b[0m",
      "\u001b[0;32m<ipython-input-33-3f50ac9c7e68>\u001b[0m in \u001b[0;36m__makeplot_polarmap\u001b[0;34m(config, data1, data2)\u001b[0m\n\u001b[1;32m     71\u001b[0m         \u001b[0mfill\u001b[0m\u001b[0;34m=\u001b[0m\u001b[0;34m'grey'\u001b[0m\u001b[0;34m,\u001b[0m\u001b[0;34m\u001b[0m\u001b[0;34m\u001b[0m\u001b[0m\n\u001b[1;32m     72\u001b[0m         \u001b[0mstyle\u001b[0m\u001b[0;34m=\u001b[0m\u001b[0;34m\"cc\"\u001b[0m\u001b[0;34m,\u001b[0m\u001b[0;34m\u001b[0m\u001b[0;34m\u001b[0m\u001b[0m\n\u001b[0;32m---> 73\u001b[0;31m         \u001b[0mpen\u001b[0m\u001b[0;34m=\u001b[0m\u001b[0;34m\"0p,black\"\u001b[0m\u001b[0;34m,\u001b[0m\u001b[0;34m\u001b[0m\u001b[0;34m\u001b[0m\u001b[0m\n\u001b[0m\u001b[1;32m     74\u001b[0m     )    \n\u001b[1;32m     75\u001b[0m \u001b[0;34m\u001b[0m\u001b[0m\n",
      "\u001b[0;32m~/anaconda3/lib/python3.7/site-packages/pygmt/helpers/decorators.py\u001b[0m in \u001b[0;36mnew_module\u001b[0;34m(*args, **kwargs)\u001b[0m\n\u001b[1;32m    803\u001b[0m                 \u001b[0mwarnings\u001b[0m\u001b[0;34m.\u001b[0m\u001b[0mwarn\u001b[0m\u001b[0;34m(\u001b[0m\u001b[0mmsg\u001b[0m\u001b[0;34m,\u001b[0m \u001b[0mcategory\u001b[0m\u001b[0;34m=\u001b[0m\u001b[0mFutureWarning\u001b[0m\u001b[0;34m,\u001b[0m \u001b[0mstacklevel\u001b[0m\u001b[0;34m=\u001b[0m\u001b[0;36m2\u001b[0m\u001b[0;34m)\u001b[0m\u001b[0;34m\u001b[0m\u001b[0;34m\u001b[0m\u001b[0m\n\u001b[1;32m    804\u001b[0m                 \u001b[0mkwargs\u001b[0m\u001b[0;34m[\u001b[0m\u001b[0mnewname\u001b[0m\u001b[0;34m]\u001b[0m \u001b[0;34m=\u001b[0m \u001b[0mkwargs\u001b[0m\u001b[0;34m.\u001b[0m\u001b[0mpop\u001b[0m\u001b[0;34m(\u001b[0m\u001b[0moldname\u001b[0m\u001b[0;34m)\u001b[0m\u001b[0;34m\u001b[0m\u001b[0;34m\u001b[0m\u001b[0m\n\u001b[0;32m--> 805\u001b[0;31m             \u001b[0;32mreturn\u001b[0m \u001b[0mmodule_func\u001b[0m\u001b[0;34m(\u001b[0m\u001b[0;34m*\u001b[0m\u001b[0margs\u001b[0m\u001b[0;34m,\u001b[0m \u001b[0;34m**\u001b[0m\u001b[0mkwargs\u001b[0m\u001b[0;34m)\u001b[0m\u001b[0;34m\u001b[0m\u001b[0;34m\u001b[0m\u001b[0m\n\u001b[0m\u001b[1;32m    806\u001b[0m \u001b[0;34m\u001b[0m\u001b[0m\n\u001b[1;32m    807\u001b[0m         \u001b[0;32mreturn\u001b[0m \u001b[0mnew_module\u001b[0m\u001b[0;34m\u001b[0m\u001b[0;34m\u001b[0m\u001b[0m\n",
      "\u001b[0;32m~/anaconda3/lib/python3.7/site-packages/pygmt/helpers/decorators.py\u001b[0m in \u001b[0;36mnew_module\u001b[0;34m(*args, **kwargs)\u001b[0m\n\u001b[1;32m    803\u001b[0m                 \u001b[0mwarnings\u001b[0m\u001b[0;34m.\u001b[0m\u001b[0mwarn\u001b[0m\u001b[0;34m(\u001b[0m\u001b[0mmsg\u001b[0m\u001b[0;34m,\u001b[0m \u001b[0mcategory\u001b[0m\u001b[0;34m=\u001b[0m\u001b[0mFutureWarning\u001b[0m\u001b[0;34m,\u001b[0m \u001b[0mstacklevel\u001b[0m\u001b[0;34m=\u001b[0m\u001b[0;36m2\u001b[0m\u001b[0;34m)\u001b[0m\u001b[0;34m\u001b[0m\u001b[0;34m\u001b[0m\u001b[0m\n\u001b[1;32m    804\u001b[0m                 \u001b[0mkwargs\u001b[0m\u001b[0;34m[\u001b[0m\u001b[0mnewname\u001b[0m\u001b[0;34m]\u001b[0m \u001b[0;34m=\u001b[0m \u001b[0mkwargs\u001b[0m\u001b[0;34m.\u001b[0m\u001b[0mpop\u001b[0m\u001b[0;34m(\u001b[0m\u001b[0moldname\u001b[0m\u001b[0;34m)\u001b[0m\u001b[0;34m\u001b[0m\u001b[0;34m\u001b[0m\u001b[0m\n\u001b[0;32m--> 805\u001b[0;31m             \u001b[0;32mreturn\u001b[0m \u001b[0mmodule_func\u001b[0m\u001b[0;34m(\u001b[0m\u001b[0;34m*\u001b[0m\u001b[0margs\u001b[0m\u001b[0;34m,\u001b[0m \u001b[0;34m**\u001b[0m\u001b[0mkwargs\u001b[0m\u001b[0;34m)\u001b[0m\u001b[0;34m\u001b[0m\u001b[0;34m\u001b[0m\u001b[0m\n\u001b[0m\u001b[1;32m    806\u001b[0m \u001b[0;34m\u001b[0m\u001b[0m\n\u001b[1;32m    807\u001b[0m         \u001b[0;32mreturn\u001b[0m \u001b[0mnew_module\u001b[0m\u001b[0;34m\u001b[0m\u001b[0;34m\u001b[0m\u001b[0m\n",
      "\u001b[0;32m~/anaconda3/lib/python3.7/site-packages/pygmt/helpers/decorators.py\u001b[0m in \u001b[0;36mnew_module\u001b[0;34m(*args, **kwargs)\u001b[0m\n\u001b[1;32m    871\u001b[0m                 )\n\u001b[1;32m    872\u001b[0m                 \u001b[0mwarnings\u001b[0m\u001b[0;34m.\u001b[0m\u001b[0mwarn\u001b[0m\u001b[0;34m(\u001b[0m\u001b[0mmsg\u001b[0m\u001b[0;34m,\u001b[0m \u001b[0mcategory\u001b[0m\u001b[0;34m=\u001b[0m\u001b[0mFutureWarning\u001b[0m\u001b[0;34m,\u001b[0m \u001b[0mstacklevel\u001b[0m\u001b[0;34m=\u001b[0m\u001b[0;36m2\u001b[0m\u001b[0;34m)\u001b[0m\u001b[0;34m\u001b[0m\u001b[0;34m\u001b[0m\u001b[0m\n\u001b[0;32m--> 873\u001b[0;31m             \u001b[0;32mreturn\u001b[0m \u001b[0mmodule_func\u001b[0m\u001b[0;34m(\u001b[0m\u001b[0;34m*\u001b[0m\u001b[0margs\u001b[0m\u001b[0;34m,\u001b[0m \u001b[0;34m**\u001b[0m\u001b[0mkwargs\u001b[0m\u001b[0;34m)\u001b[0m\u001b[0;34m\u001b[0m\u001b[0;34m\u001b[0m\u001b[0m\n\u001b[0m\u001b[1;32m    874\u001b[0m \u001b[0;34m\u001b[0m\u001b[0m\n\u001b[1;32m    875\u001b[0m         \u001b[0;32mreturn\u001b[0m \u001b[0mnew_module\u001b[0m\u001b[0;34m\u001b[0m\u001b[0;34m\u001b[0m\u001b[0m\n",
      "\u001b[0;32m~/anaconda3/lib/python3.7/site-packages/pygmt/helpers/decorators.py\u001b[0m in \u001b[0;36mnew_module\u001b[0;34m(*args, **kwargs)\u001b[0m\n\u001b[1;32m    584\u001b[0m                     )\n\u001b[1;32m    585\u001b[0m                     \u001b[0mwarnings\u001b[0m\u001b[0;34m.\u001b[0m\u001b[0mwarn\u001b[0m\u001b[0;34m(\u001b[0m\u001b[0mmsg\u001b[0m\u001b[0;34m,\u001b[0m \u001b[0mcategory\u001b[0m\u001b[0;34m=\u001b[0m\u001b[0mSyntaxWarning\u001b[0m\u001b[0;34m,\u001b[0m \u001b[0mstacklevel\u001b[0m\u001b[0;34m=\u001b[0m\u001b[0;36m2\u001b[0m\u001b[0;34m)\u001b[0m\u001b[0;34m\u001b[0m\u001b[0;34m\u001b[0m\u001b[0m\n\u001b[0;32m--> 586\u001b[0;31m             \u001b[0;32mreturn\u001b[0m \u001b[0mmodule_func\u001b[0m\u001b[0;34m(\u001b[0m\u001b[0;34m*\u001b[0m\u001b[0margs\u001b[0m\u001b[0;34m,\u001b[0m \u001b[0;34m**\u001b[0m\u001b[0mkwargs\u001b[0m\u001b[0;34m)\u001b[0m\u001b[0;34m\u001b[0m\u001b[0;34m\u001b[0m\u001b[0m\n\u001b[0m\u001b[1;32m    587\u001b[0m \u001b[0;34m\u001b[0m\u001b[0m\n\u001b[1;32m    588\u001b[0m         \u001b[0mnew_module\u001b[0m\u001b[0;34m.\u001b[0m\u001b[0maliases\u001b[0m \u001b[0;34m=\u001b[0m \u001b[0maliases\u001b[0m\u001b[0;34m\u001b[0m\u001b[0;34m\u001b[0m\u001b[0m\n",
      "\u001b[0;32m~/anaconda3/lib/python3.7/site-packages/pygmt/helpers/decorators.py\u001b[0m in \u001b[0;36mnew_module\u001b[0;34m(*args, **kwargs)\u001b[0m\n\u001b[1;32m    724\u001b[0m                         \u001b[0mkwargs\u001b[0m\u001b[0;34m[\u001b[0m\u001b[0marg\u001b[0m\u001b[0;34m]\u001b[0m \u001b[0;34m=\u001b[0m \u001b[0mseparators\u001b[0m\u001b[0;34m[\u001b[0m\u001b[0mfmt\u001b[0m\u001b[0;34m]\u001b[0m\u001b[0;34m.\u001b[0m\u001b[0mjoin\u001b[0m\u001b[0;34m(\u001b[0m\u001b[0;34mf\"{item}\"\u001b[0m \u001b[0;32mfor\u001b[0m \u001b[0mitem\u001b[0m \u001b[0;32min\u001b[0m \u001b[0mvalue\u001b[0m\u001b[0;34m)\u001b[0m\u001b[0;34m\u001b[0m\u001b[0;34m\u001b[0m\u001b[0m\n\u001b[1;32m    725\u001b[0m             \u001b[0;31m# Execute the original function and return its output\u001b[0m\u001b[0;34m\u001b[0m\u001b[0;34m\u001b[0m\u001b[0;34m\u001b[0m\u001b[0m\n\u001b[0;32m--> 726\u001b[0;31m             \u001b[0;32mreturn\u001b[0m \u001b[0mmodule_func\u001b[0m\u001b[0;34m(\u001b[0m\u001b[0;34m*\u001b[0m\u001b[0margs\u001b[0m\u001b[0;34m,\u001b[0m \u001b[0;34m**\u001b[0m\u001b[0mkwargs\u001b[0m\u001b[0;34m)\u001b[0m\u001b[0;34m\u001b[0m\u001b[0;34m\u001b[0m\u001b[0m\n\u001b[0m\u001b[1;32m    727\u001b[0m \u001b[0;34m\u001b[0m\u001b[0m\n\u001b[1;32m    728\u001b[0m         \u001b[0;32mreturn\u001b[0m \u001b[0mnew_module\u001b[0m\u001b[0;34m\u001b[0m\u001b[0;34m\u001b[0m\u001b[0m\n",
      "\u001b[0;32m~/anaconda3/lib/python3.7/site-packages/pygmt/src/plot.py\u001b[0m in \u001b[0;36mplot\u001b[0;34m(self, data, x, y, size, direction, **kwargs)\u001b[0m\n\u001b[1;32m    273\u001b[0m         \u001b[0;32mwith\u001b[0m \u001b[0mfile_context\u001b[0m \u001b[0;32mas\u001b[0m \u001b[0mfname\u001b[0m\u001b[0;34m:\u001b[0m\u001b[0;34m\u001b[0m\u001b[0;34m\u001b[0m\u001b[0m\n\u001b[1;32m    274\u001b[0m             \u001b[0marg_str\u001b[0m \u001b[0;34m=\u001b[0m \u001b[0;34m\" \"\u001b[0m\u001b[0;34m.\u001b[0m\u001b[0mjoin\u001b[0m\u001b[0;34m(\u001b[0m\u001b[0;34m[\u001b[0m\u001b[0mfname\u001b[0m\u001b[0;34m,\u001b[0m \u001b[0mbuild_arg_string\u001b[0m\u001b[0;34m(\u001b[0m\u001b[0mkwargs\u001b[0m\u001b[0;34m)\u001b[0m\u001b[0;34m]\u001b[0m\u001b[0;34m)\u001b[0m\u001b[0;34m\u001b[0m\u001b[0;34m\u001b[0m\u001b[0m\n\u001b[0;32m--> 275\u001b[0;31m             \u001b[0mlib\u001b[0m\u001b[0;34m.\u001b[0m\u001b[0mcall_module\u001b[0m\u001b[0;34m(\u001b[0m\u001b[0;34m\"plot\"\u001b[0m\u001b[0;34m,\u001b[0m \u001b[0marg_str\u001b[0m\u001b[0;34m)\u001b[0m\u001b[0;34m\u001b[0m\u001b[0;34m\u001b[0m\u001b[0m\n\u001b[0m",
      "\u001b[0;32m~/anaconda3/lib/python3.7/site-packages/pygmt/clib/session.py\u001b[0m in \u001b[0;36mcall_module\u001b[0;34m(self, module, args)\u001b[0m\n\u001b[1;32m    499\u001b[0m         \u001b[0;32mif\u001b[0m \u001b[0mstatus\u001b[0m \u001b[0;34m!=\u001b[0m \u001b[0;36m0\u001b[0m\u001b[0;34m:\u001b[0m\u001b[0;34m\u001b[0m\u001b[0;34m\u001b[0m\u001b[0m\n\u001b[1;32m    500\u001b[0m             raise GMTCLibError(\n\u001b[0;32m--> 501\u001b[0;31m                 \u001b[0;34mf\"Module '{module}' failed with status code {status}:\\n{self._error_message}\"\u001b[0m\u001b[0;34m\u001b[0m\u001b[0;34m\u001b[0m\u001b[0m\n\u001b[0m\u001b[1;32m    502\u001b[0m             )\n\u001b[1;32m    503\u001b[0m \u001b[0;34m\u001b[0m\u001b[0m\n",
      "\u001b[0;31mGMTCLibError\u001b[0m: Module 'plot' failed with status code 72:\nplot [ERROR]: Malformed -f argument [illgrey]\nplot [ERROR]: Option -f parsing failure. Correct syntax:\nplot [ERROR]: Offending option -fillgrey"
     ]
    }
   ],
   "source": [
    "fig = __makeplot_polarmap(config, cat_select_df, events_all_df)"
   ]
  },
  {
   "cell_type": "code",
   "execution_count": null,
   "id": "93b7c913",
   "metadata": {
    "ExecuteTime": {
     "end_time": "2023-07-07T08:46:41.309564Z",
     "start_time": "2023-07-07T08:46:18.463Z"
    }
   },
   "outputs": [],
   "source": [
    "fig.savefig(config['out_figures']+f'BSPF_polarmap.png', dpi=200, bbox_inches='tight', pad_inches=0.05)"
   ]
  },
  {
   "cell_type": "markdown",
   "id": "5812b168",
   "metadata": {},
   "source": [
    "## Plot Histogram"
   ]
  },
  {
   "cell_type": "code",
   "execution_count": null,
   "id": "21991e06",
   "metadata": {
    "ExecuteTime": {
     "end_time": "2023-07-07T08:38:03.366540Z",
     "start_time": "2023-07-07T08:37:23.368Z"
    },
    "code_folding": [
     0
    ]
   },
   "outputs": [],
   "source": [
    "def __makeplot_histogram(catalog_all_df, catalog_df):\n",
    "    \n",
    "    from sklearn.linear_model import LinearRegression\n",
    "    from numpy import log10, array, linspace\n",
    "\n",
    "\n",
    "    catalog_all_df = catalog_all_df.sort_values(\"magnitude\", ascending=False)\n",
    "    catalog_df = catalog_df.sort_values(\"magnitude\")    \n",
    "    \n",
    "    ## bins=11, range=[-0.75,4.75]\n",
    "#     hh_cum, bins_cum, _ = plt.hist(catalog_all_df.magnitude, bins=11, range=[-0.75,4.75], rwidth=0.9, color='#3776ab', cumulative=True)    \n",
    "#     plt.close()    \n",
    "#     bins_cum = [bins_cum[jj] + (abs(bins_cum[jj+1]-bins_cum[jj])/2) for jj in range(len(bins_cum)-1)]\n",
    "\n",
    "    ## compute bins catalog all\n",
    "    nn, bins = [], []\n",
    "    for i in range(-1, 7, 1):\n",
    "        nn.append(len(catalog_all_df[catalog_all_df.magnitude >= i]))\n",
    "        bins.append(i+0.5)\n",
    "\n",
    "    print(len(catalog_df), len(catalog_df[catalog_df.magnitude >= 4]))\n",
    "    ## compute bins catalog triggered\n",
    "    nn2, bins2 = [], []\n",
    "    for i in range(-1, 7, 1):\n",
    "        nn2.append(len(catalog_df[catalog_df.magnitude >= i]))\n",
    "        bins2.append(i+0.5)\n",
    "        \n",
    "        \n",
    "    x, y = array(bins)[2:-1], log10(nn[2:-1])\n",
    "\n",
    "    ## ________________________________\n",
    "    \n",
    "    fig, ax = plt.subplots(1, 1, figsize=(5,5))\n",
    "    \n",
    "    ## plot histograms catalog all\n",
    "    ax.bar(array(bins), nn, width=0.75, color='lightblue', zorder=2, alpha=0.8)\n",
    "    ax.bar(x, 10**y, width=0.75, zorder=2)\n",
    "    \n",
    "    ## plot histograms catalog triggered\n",
    "    ax.bar(array(bins2), nn2, width=0.5, color='darkorange', zorder=2, alpha=0.5)\n",
    "#     ax.bar(x2, 10**y2, width=0.75, zorder=2)\n",
    "         \n",
    "        \n",
    "        \n",
    "    ## linear regression\n",
    "    model = LinearRegression().fit(x.reshape((-1, 1)), y)\n",
    "    r_sq = model.score(x.reshape((-1, 1)), y)\n",
    "    x_axis = linspace(min(bins), max(bins), 50)\n",
    "    reg1 = model.intercept_ + model.coef_ * x_axis\n",
    "    \n",
    "    ax.plot(x_axis, 10**reg1, color=\"k\", ls=\"--\", label=f\"f(x)={round(model.coef_[0],2)}x+{round(model.intercept_,1)}\")\n",
    "\n",
    "    ## linear regression\n",
    "    x2, y2 = x[:-1], y[:-1]\n",
    "    model = LinearRegression().fit(x2.reshape((-1, 1)), y2)\n",
    "    r_sq = model.score(x2.reshape((-1, 1)), y2)\n",
    "    x_axis = linspace(min(bins), max(bins), 50)\n",
    "    reg2 = model.intercept_ + model.coef_ * x_axis\n",
    "    \n",
    "#     ax.plot(x_axis, 10**reg2, color=\"k\", ls=\":\", label=f\"f(x)={round(model.coef_[0],2)}x+{round(model.intercept_,1)}\")\n",
    "    \n",
    "    \n",
    "    ax.text(3.5, 9e3, f\"Total N = {len(catalog_all_df)}\", fontsize=13)\n",
    "    \n",
    "    days = str(events_all_df.index.max()-events_all_df.index.min()).split(\" \")[0]\n",
    "    ax.text(3.5, 4e3, f\"Days = {days}\", fontsize=13)\n",
    "    \n",
    "    ax.grid(zorder=-1, ls=\":\", alpha=0.7, which=\"both\")\n",
    "    \n",
    "    ax.legend(loc=\"upper right\", fontsize=12)\n",
    "    \n",
    "    ax.set_yscale(\"log\")\n",
    "    \n",
    "    ax.set_xlabel(\"Magnitude\", fontsize=18)\n",
    "    ax.set_ylabel(\"Number of Events\", fontsize=18)\n",
    "    \n",
    "    ax.tick_params(axis='x', labelsize=11)\n",
    "    ax.tick_params(axis='y', labelsize=11)\n",
    "    \n",
    "    ax.set_xticks(array(bins)-0.5)\n",
    "    \n",
    "    ax.set_title(f\"Gutenberg-Richter Relation\", fontsize=18)\n",
    "    \n",
    "    ax.tick_params(axis=\"y\", labelsize=15)\n",
    "    ax.tick_params(axis=\"x\", labelsize=15)\n",
    "    \n",
    "    ax.set_ylim(0.2e0, 1e5)\n",
    "    plt.show();\n",
    "    return fig"
   ]
  },
  {
   "cell_type": "code",
   "execution_count": null,
   "id": "4dffc526",
   "metadata": {
    "ExecuteTime": {
     "end_time": "2023-07-07T08:38:03.367057Z",
     "start_time": "2023-07-07T08:37:23.369Z"
    }
   },
   "outputs": [],
   "source": [
    "fig = __makeplot_histogram(events_all_df, cat_select_df)\n",
    "\n",
    "fig.savefig(\"catalog_all_histo.png\")"
   ]
  },
  {
   "cell_type": "code",
   "execution_count": null,
   "id": "42a90ad7",
   "metadata": {},
   "outputs": [],
   "source": []
  }
 ],
 "metadata": {
  "kernelspec": {
   "display_name": "Python 3",
   "language": "python",
   "name": "python3"
  },
  "language_info": {
   "codemirror_mode": {
    "name": "ipython",
    "version": 3
   },
   "file_extension": ".py",
   "mimetype": "text/x-python",
   "name": "python",
   "nbconvert_exporter": "python",
   "pygments_lexer": "ipython3",
   "version": "3.7.7"
  },
  "latex_envs": {
   "LaTeX_envs_menu_present": true,
   "autoclose": true,
   "autocomplete": true,
   "bibliofile": "biblio.bib",
   "cite_by": "apalike",
   "current_citInitial": 1,
   "eqLabelWithNumbers": true,
   "eqNumInitial": 1,
   "hotkeys": {
    "equation": "Ctrl-E",
    "itemize": "Ctrl-I"
   },
   "labels_anchors": false,
   "latex_user_defs": false,
   "report_style_numbering": false,
   "user_envs_cfg": false
  },
  "toc": {
   "base_numbering": 1,
   "nav_menu": {},
   "number_sections": true,
   "sideBar": true,
   "skip_h1_title": false,
   "title_cell": "Table of Contents",
   "title_sidebar": "Contents",
   "toc_cell": false,
   "toc_position": {},
   "toc_section_display": true,
   "toc_window_display": false
  },
  "varInspector": {
   "cols": {
    "lenName": 16,
    "lenType": 16,
    "lenVar": 40
   },
   "kernels_config": {
    "python": {
     "delete_cmd_postfix": "",
     "delete_cmd_prefix": "del ",
     "library": "var_list.py",
     "varRefreshCmd": "print(var_dic_list())"
    },
    "r": {
     "delete_cmd_postfix": ") ",
     "delete_cmd_prefix": "rm(",
     "library": "var_list.r",
     "varRefreshCmd": "cat(var_dic_list()) "
    }
   },
   "types_to_exclude": [
    "module",
    "function",
    "builtin_function_or_method",
    "instance",
    "_Feature"
   ],
   "window_display": false
  }
 },
 "nbformat": 4,
 "nbformat_minor": 5
}
