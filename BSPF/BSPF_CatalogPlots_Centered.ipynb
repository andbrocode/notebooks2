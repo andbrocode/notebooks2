{
 "cells": [
  {
   "cell_type": "markdown",
   "id": "09a2fa44",
   "metadata": {},
   "source": [
    "# Plot BlueSeis BSPF Events from Catalog"
   ]
  },
  {
   "cell_type": "markdown",
   "id": "222c6d13",
   "metadata": {
    "ExecuteTime": {
     "end_time": "2023-04-17T13:02:47.573740Z",
     "start_time": "2023-04-17T13:02:47.413960Z"
    }
   },
   "source": [
    "! Should be run in pygmt environment !"
   ]
  },
  {
   "cell_type": "markdown",
   "id": "5b1c7ac1",
   "metadata": {},
   "source": [
    "With pressure sensor parascientific and new sensor "
   ]
  },
  {
   "cell_type": "code",
   "execution_count": 1,
   "id": "ac7ec6a8",
   "metadata": {
    "ExecuteTime": {
     "end_time": "2023-07-10T06:55:12.668741Z",
     "start_time": "2023-07-10T06:55:11.607652Z"
    }
   },
   "outputs": [],
   "source": [
    "import os \n",
    "import obspy as obs\n",
    "import matplotlib.pyplot as plt\n",
    "import numpy as np\n",
    "import pandas as pd\n",
    "# import geopandas as gpd\n",
    "\n",
    "from andbro__savefig import __savefig\n",
    "from obspy.clients.fdsn import Client"
   ]
  },
  {
   "cell_type": "code",
   "execution_count": 2,
   "id": "69645e9e",
   "metadata": {
    "ExecuteTime": {
     "end_time": "2023-07-10T06:55:12.677813Z",
     "start_time": "2023-07-10T06:55:12.672352Z"
    }
   },
   "outputs": [],
   "source": [
    "if os.uname().nodename == 'lighthouse':\n",
    "    root_path = '/home/andbro/'\n",
    "    data_path = '/home/andbro/kilauea-data/'\n",
    "    archive_path = '/home/andbro/freenas/'\n",
    "elif os.uname().nodename == 'kilauea':\n",
    "    root_path = '/home/brotzer/'\n",
    "    data_path = '/import/kilauea-data/'\n",
    "    archive_path = '/import/freenas-ffb-01-data/'"
   ]
  },
  {
   "cell_type": "markdown",
   "id": "2d625638",
   "metadata": {
    "ExecuteTime": {
     "end_time": "2023-01-13T15:42:15.099966Z",
     "start_time": "2023-01-13T15:42:15.096483Z"
    }
   },
   "source": [
    "## Configurations"
   ]
  },
  {
   "cell_type": "code",
   "execution_count": 3,
   "id": "685a3ddf",
   "metadata": {
    "ExecuteTime": {
     "end_time": "2023-07-10T06:55:12.689673Z",
     "start_time": "2023-07-10T06:55:12.680045Z"
    }
   },
   "outputs": [],
   "source": [
    "config = {}\n",
    "\n",
    "date1 = \"20221001\"\n",
    "date2 = \"20230615\"\n",
    "\n",
    "\n",
    "## small bounds\n",
    "# config['minlatitude'], config['maxlatitude'] = 32, 35\n",
    "# config['minlongitude'], config['maxlongitude'] = -118, -115\n",
    "# config['eventfile'] = \"BSPF_event_catalog\"\n",
    "\n",
    "## normal bounds\n",
    "config['minlatitude'], config['maxlatitude'] = 31, 35\n",
    "config['minlongitude'], config['maxlongitude'] = -119, -114\n",
    "config['eventfile'] = f\"BSPF_catalog_{date1}_{date2}\"\n",
    "\n",
    "## extended bounds\n",
    "# config['minlatitude'], config['maxlatitude'] = 30, 37\n",
    "# config['minlongitude'], config['maxlongitude'] = -120, -113\n",
    "# config['eventfile'] = \"BSPF_catalog_extended\"\n",
    "\n",
    "\n",
    "config['BSPF_lon'] = np.array([-116.455439])\n",
    "config['BSPF_lat'] = np.array([33.610643])\n",
    "\n",
    "config['minmagnitude'] = 2.5\n",
    "\n",
    "\n",
    "config['tbeg'] = obs.UTCDateTime(date1)\n",
    "config['tend'] = obs.UTCDateTime(date2)\n",
    "\n",
    "config['triggerfile'] = f\"BSPF_catalog_{date1}_{date2}_triggered.pkl\"\n",
    "\n",
    "config['gcmt_file'] = f\"gcmt_solutions_{date1}_{date2}.xml\"\n",
    "\n",
    "config['path_to_data'] = data_path+\"BSPF/data/\"\n",
    "config['path_trigger'] = data_path+\"BSPF/data/catalogs/\"\n",
    "config['path_catalog'] = data_path+\"BSPF/data/catalogs/\"\n",
    "\n",
    "config['out_figures'] = data_path+\"BSPF/figures/\"\n",
    "\n",
    "config['outpath'] = data_path+\"BSPF/\""
   ]
  },
  {
   "cell_type": "code",
   "execution_count": 4,
   "id": "ace53e51",
   "metadata": {
    "ExecuteTime": {
     "end_time": "2023-07-10T06:55:12.704625Z",
     "start_time": "2023-07-10T06:55:12.692067Z"
    }
   },
   "outputs": [],
   "source": [
    "from functions.catalog_to_dataframe import __catalog_to_dataframe\n",
    "from functions.add_distances_and_backazimuth import __add_distances_and_backazimuth"
   ]
  },
  {
   "cell_type": "code",
   "execution_count": 5,
   "id": "75a4af8d",
   "metadata": {
    "ExecuteTime": {
     "end_time": "2023-07-10T06:55:12.716218Z",
     "start_time": "2023-07-10T06:55:12.708080Z"
    },
    "code_folding": [
     0
    ]
   },
   "outputs": [],
   "source": [
    "def __read_pickle(path, filename):\n",
    "    \n",
    "    import pickle\n",
    "\n",
    "    with open(path+filename, 'rb') as f:\n",
    "        triggerfile = pickle.load(f)\n",
    "        \n",
    "    return triggerfile"
   ]
  },
  {
   "cell_type": "code",
   "execution_count": 6,
   "id": "8de121c6",
   "metadata": {
    "ExecuteTime": {
     "end_time": "2023-07-10T06:55:12.732684Z",
     "start_time": "2023-07-10T06:55:12.718645Z"
    },
    "code_folding": [
     0
    ]
   },
   "outputs": [],
   "source": [
    "def __find_matches(trigger_events, catalog):\n",
    "\n",
    "    trigger_times, cosum = [], []\n",
    "    for n, trig in enumerate(trigger_events.index):\n",
    "        trigger_times.append(trig['trigger_time'][n])\n",
    "        cosum.append(trig['coincidence_sum'])\n",
    "\n",
    "    \n",
    "    matches, time_diffs, events_triggered, idxs = [], [], [], []\n",
    "\n",
    "    ## extract origin times from catalog\n",
    "    event_times = [catalog.events[j].origins[0].time for j in range(len(catalog))]\n",
    "    \n",
    "    \n",
    "    for trigger_time in trigger_times:\n",
    "\n",
    "        ## compute time differences in seconds\n",
    "        diff = [event_time-trigger_time for event_time in event_times]\n",
    "        \n",
    "        ## only the ones before the trigger in time\n",
    "        abs_diff = [abs(d) for d in diff if d < 0]\n",
    "        \n",
    "        ## get closest event\n",
    "        t_min, t_idx = min(abs_diff), diff.index(-min(abs_diff))\n",
    "                \n",
    "        time_diffs.append(t_min)\n",
    "        matches.append(trigger_time)\n",
    "        events_triggered.append(event_times[t_idx])\n",
    "        idxs.append(t_idx)\n",
    "        \n",
    "    cat_sel = [catalog.events[idx] for idx in idxs]\n",
    "        \n",
    "        \n",
    "    t_days = [(match-obs.UTCDateTime(\"2022-10-01\"))/86400 for match in matches]\n",
    "    plt.figure(figsize=(15,5))\n",
    "    for tt, dd, cosum in zip(t_days, time_diffs, cosum):\n",
    "        if cosum == 4:\n",
    "            plt.scatter(tt, dd, zorder=2, color='red', s=13, alpha=0.7)\n",
    "        if cosum == 5:\n",
    "            plt.scatter(tt, dd, zorder=2, color='orange', s=13, alpha=0.7)\n",
    "        if cosum == 6:\n",
    "            plt.scatter(tt, dd, zorder=2, color='green', s=13, alpha=0.7)\n",
    "            \n",
    "    plt.yscale(\"log\")\n",
    "    plt.grid(which=\"both\", zorder=-1, ls=\":\")\n",
    "    plt.ylabel(\"Time Differences (s)\")\n",
    "    plt.xlabel(\"Time (days)\")\n",
    "    plt.xlim(0, 190)\n",
    "    plt.title(f\"LTA-STA Trigger: {len(events_triggered)}\")\n",
    "    \n",
    "    return np.array(matches), np.array(events_triggered), cat_sel"
   ]
  },
  {
   "cell_type": "code",
   "execution_count": 7,
   "id": "2592ee6b",
   "metadata": {
    "ExecuteTime": {
     "end_time": "2023-07-10T06:55:12.859410Z",
     "start_time": "2023-07-10T06:55:12.735513Z"
    }
   },
   "outputs": [
    {
     "name": "stdout",
     "output_type": "stream",
     "text": [
      "ls: cannot access '/home/andbro/kilauea-data/BSPF/data/catalogs/': No such file or directory\r\n"
     ]
    }
   ],
   "source": [
    "!ls /home/andbro/kilauea-data/BSPF/data/catalogs/"
   ]
  },
  {
   "cell_type": "markdown",
   "id": "70f0ac6a",
   "metadata": {},
   "source": [
    "## Load Data"
   ]
  },
  {
   "cell_type": "markdown",
   "id": "c5f2fcbc",
   "metadata": {},
   "source": [
    "### load catalog with all events"
   ]
  },
  {
   "cell_type": "code",
   "execution_count": 8,
   "id": "c4333a2d",
   "metadata": {
    "ExecuteTime": {
     "end_time": "2023-07-10T06:55:13.319332Z",
     "start_time": "2023-07-10T06:55:12.862613Z"
    }
   },
   "outputs": [
    {
     "ename": "FileNotFoundError",
     "evalue": "[Errno 2] No such file or directory: '/home/andbro/kilauea-data/BSPF/data/catalogs/BSPF_catalog_20221001_20230615_all.xml'",
     "output_type": "error",
     "traceback": [
      "\u001b[0;31m---------------------------------------------------------------------------\u001b[0m",
      "\u001b[0;31mFileNotFoundError\u001b[0m                         Traceback (most recent call last)",
      "Cell \u001b[0;32mIn[8], line 1\u001b[0m\n\u001b[0;32m----> 1\u001b[0m cat_all \u001b[38;5;241m=\u001b[39m \u001b[43mobs\u001b[49m\u001b[38;5;241;43m.\u001b[39;49m\u001b[43mread_events\u001b[49m\u001b[43m(\u001b[49m\u001b[43mconfig\u001b[49m\u001b[43m[\u001b[49m\u001b[38;5;124;43m'\u001b[39;49m\u001b[38;5;124;43mpath_catalog\u001b[39;49m\u001b[38;5;124;43m'\u001b[39;49m\u001b[43m]\u001b[49m\u001b[38;5;241;43m+\u001b[39;49m\u001b[43mconfig\u001b[49m\u001b[43m[\u001b[49m\u001b[38;5;124;43m'\u001b[39;49m\u001b[38;5;124;43meventfile\u001b[39;49m\u001b[38;5;124;43m'\u001b[39;49m\u001b[43m]\u001b[49m\u001b[38;5;241;43m+\u001b[39;49m\u001b[38;5;124;43m\"\u001b[39;49m\u001b[38;5;124;43m_all.xml\u001b[39;49m\u001b[38;5;124;43m\"\u001b[39;49m\u001b[43m)\u001b[49m\n\u001b[1;32m      3\u001b[0m events_all_df \u001b[38;5;241m=\u001b[39m __catalog_to_dataframe(cat_all)\n\u001b[1;32m      5\u001b[0m events_all_df \u001b[38;5;241m=\u001b[39m __add_distances_and_backazimuth(config[\u001b[38;5;124m'\u001b[39m\u001b[38;5;124mBSPF_lat\u001b[39m\u001b[38;5;124m'\u001b[39m], config[\u001b[38;5;124m'\u001b[39m\u001b[38;5;124mBSPF_lon\u001b[39m\u001b[38;5;124m'\u001b[39m], events_all_df)\n",
      "File \u001b[0;32m~/anaconda3/envs/pygmt/lib/python3.9/site-packages/decorator.py:232\u001b[0m, in \u001b[0;36mdecorate.<locals>.fun\u001b[0;34m(*args, **kw)\u001b[0m\n\u001b[1;32m    230\u001b[0m \u001b[38;5;28;01mif\u001b[39;00m \u001b[38;5;129;01mnot\u001b[39;00m kwsyntax:\n\u001b[1;32m    231\u001b[0m     args, kw \u001b[38;5;241m=\u001b[39m fix(args, kw, sig)\n\u001b[0;32m--> 232\u001b[0m \u001b[38;5;28;01mreturn\u001b[39;00m \u001b[43mcaller\u001b[49m\u001b[43m(\u001b[49m\u001b[43mfunc\u001b[49m\u001b[43m,\u001b[49m\u001b[43m \u001b[49m\u001b[38;5;241;43m*\u001b[39;49m\u001b[43m(\u001b[49m\u001b[43mextras\u001b[49m\u001b[43m \u001b[49m\u001b[38;5;241;43m+\u001b[39;49m\u001b[43m \u001b[49m\u001b[43margs\u001b[49m\u001b[43m)\u001b[49m\u001b[43m,\u001b[49m\u001b[43m \u001b[49m\u001b[38;5;241;43m*\u001b[39;49m\u001b[38;5;241;43m*\u001b[39;49m\u001b[43mkw\u001b[49m\u001b[43m)\u001b[49m\n",
      "File \u001b[0;32m~/anaconda3/envs/pygmt/lib/python3.9/site-packages/obspy/core/util/decorator.py:297\u001b[0m, in \u001b[0;36mmap_example_filename.<locals>._map_example_filename\u001b[0;34m(func, *args, **kwargs)\u001b[0m\n\u001b[1;32m    295\u001b[0m                 \u001b[38;5;28;01mexcept\u001b[39;00m \u001b[38;5;167;01mIOError\u001b[39;00m:\n\u001b[1;32m    296\u001b[0m                     \u001b[38;5;28;01mpass\u001b[39;00m\n\u001b[0;32m--> 297\u001b[0m \u001b[38;5;28;01mreturn\u001b[39;00m \u001b[43mfunc\u001b[49m\u001b[43m(\u001b[49m\u001b[38;5;241;43m*\u001b[39;49m\u001b[43margs\u001b[49m\u001b[43m,\u001b[49m\u001b[43m \u001b[49m\u001b[38;5;241;43m*\u001b[39;49m\u001b[38;5;241;43m*\u001b[39;49m\u001b[43mkwargs\u001b[49m\u001b[43m)\u001b[49m\n",
      "File \u001b[0;32m~/anaconda3/envs/pygmt/lib/python3.9/site-packages/obspy/core/event/catalog.py:810\u001b[0m, in \u001b[0;36mread_events\u001b[0;34m(pathname_or_url, format, **kwargs)\u001b[0m\n\u001b[1;32m    808\u001b[0m     \u001b[38;5;28;01mreturn\u001b[39;00m _create_example_catalog()\n\u001b[1;32m    809\u001b[0m \u001b[38;5;28;01melse\u001b[39;00m:\n\u001b[0;32m--> 810\u001b[0m     \u001b[38;5;28;01mreturn\u001b[39;00m \u001b[43m_generic_reader\u001b[49m\u001b[43m(\u001b[49m\u001b[43mpathname_or_url\u001b[49m\u001b[43m,\u001b[49m\u001b[43m \u001b[49m\u001b[43m_read\u001b[49m\u001b[43m,\u001b[49m\u001b[43m \u001b[49m\u001b[38;5;28;43mformat\u001b[39;49m\u001b[38;5;241;43m=\u001b[39;49m\u001b[38;5;28;43mformat\u001b[39;49m\u001b[43m,\u001b[49m\u001b[43m \u001b[49m\u001b[38;5;241;43m*\u001b[39;49m\u001b[38;5;241;43m*\u001b[39;49m\u001b[43mkwargs\u001b[49m\u001b[43m)\u001b[49m\n",
      "File \u001b[0;32m~/anaconda3/envs/pygmt/lib/python3.9/site-packages/obspy/core/util/base.py:656\u001b[0m, in \u001b[0;36m_generic_reader\u001b[0;34m(pathname_or_url, callback_func, **kwargs)\u001b[0m\n\u001b[1;32m    654\u001b[0m         \u001b[38;5;28;01mraise\u001b[39;00m \u001b[38;5;167;01mException\u001b[39;00m(\u001b[38;5;124m\"\u001b[39m\u001b[38;5;124mNo file matching file pattern: \u001b[39m\u001b[38;5;132;01m%s\u001b[39;00m\u001b[38;5;124m\"\u001b[39m \u001b[38;5;241m%\u001b[39m pathname)\n\u001b[1;32m    655\u001b[0m     \u001b[38;5;28;01melif\u001b[39;00m \u001b[38;5;129;01mnot\u001b[39;00m glob\u001b[38;5;241m.\u001b[39mhas_magic(pathname) \u001b[38;5;129;01mand\u001b[39;00m \u001b[38;5;129;01mnot\u001b[39;00m Path(pathname)\u001b[38;5;241m.\u001b[39mis_file():\n\u001b[0;32m--> 656\u001b[0m         \u001b[38;5;28;01mraise\u001b[39;00m \u001b[38;5;167;01mIOError\u001b[39;00m(\u001b[38;5;241m2\u001b[39m, \u001b[38;5;124m\"\u001b[39m\u001b[38;5;124mNo such file or directory\u001b[39m\u001b[38;5;124m\"\u001b[39m, pathname)\n\u001b[1;32m    658\u001b[0m generic \u001b[38;5;241m=\u001b[39m callback_func(pathnames[\u001b[38;5;241m0\u001b[39m], \u001b[38;5;241m*\u001b[39m\u001b[38;5;241m*\u001b[39mkwargs)\n\u001b[1;32m    659\u001b[0m \u001b[38;5;28;01mif\u001b[39;00m \u001b[38;5;28mlen\u001b[39m(pathnames) \u001b[38;5;241m>\u001b[39m \u001b[38;5;241m1\u001b[39m:\n",
      "\u001b[0;31mFileNotFoundError\u001b[0m: [Errno 2] No such file or directory: '/home/andbro/kilauea-data/BSPF/data/catalogs/BSPF_catalog_20221001_20230615_all.xml'"
     ]
    }
   ],
   "source": [
    "cat_all = obs.read_events(config['path_catalog']+config['eventfile']+\"_all.xml\")\n",
    "\n",
    "events_all_df = __catalog_to_dataframe(cat_all)\n",
    "\n",
    "events_all_df = __add_distances_and_backazimuth(config['BSPF_lat'], config['BSPF_lon'], events_all_df)"
   ]
  },
  {
   "cell_type": "code",
   "execution_count": null,
   "id": "d10991bc",
   "metadata": {
    "ExecuteTime": {
     "end_time": "2023-07-10T06:55:13.329150Z",
     "start_time": "2023-07-10T06:55:13.329135Z"
    }
   },
   "outputs": [],
   "source": [
    "events_all_df = events_all_df.rename_axis('timestamp').reset_index()\n",
    "events_all_df['seconds'] = [abs((events_all_df.timestamp.min()-tt).total_seconds()) for tt in events_all_df.timestamp]"
   ]
  },
  {
   "cell_type": "markdown",
   "id": "2e4d28a3",
   "metadata": {},
   "source": [
    "### load triggered events"
   ]
  },
  {
   "cell_type": "code",
   "execution_count": null,
   "id": "855a6de2",
   "metadata": {
    "ExecuteTime": {
     "end_time": "2023-07-10T06:55:13.330151Z",
     "start_time": "2023-07-10T06:55:13.330137Z"
    }
   },
   "outputs": [],
   "source": [
    "trigger_events = __read_pickle(config['path_trigger'], config['triggerfile'])"
   ]
  },
  {
   "cell_type": "code",
   "execution_count": null,
   "id": "3d31791f",
   "metadata": {
    "ExecuteTime": {
     "end_time": "2023-07-10T06:55:13.331157Z",
     "start_time": "2023-07-10T06:55:13.331143Z"
    }
   },
   "outputs": [],
   "source": [
    "cat_select_df = trigger_events"
   ]
  },
  {
   "cell_type": "code",
   "execution_count": null,
   "id": "8fabf15a",
   "metadata": {
    "ExecuteTime": {
     "end_time": "2023-07-10T06:55:13.332922Z",
     "start_time": "2023-07-10T06:55:13.332900Z"
    }
   },
   "outputs": [],
   "source": [
    "# trigger_times, cosum = [], []\n",
    "# for n, trig in enumerate(trigger_events):\n",
    "#     print(trig)\n",
    "# #     trigger_times.append(trig['trigger_time'][n])\n",
    "#     print(trig[\"trigger_time\"][n])\n",
    "# #     cosum.append(trig['coincidence_sum'])"
   ]
  },
  {
   "cell_type": "code",
   "execution_count": null,
   "id": "dd8ffc6d",
   "metadata": {
    "ExecuteTime": {
     "end_time": "2023-07-10T06:55:13.334940Z",
     "start_time": "2023-07-10T06:55:13.334918Z"
    },
    "code_folding": [
     0
    ]
   },
   "outputs": [],
   "source": [
    "# matches, events_triggered, cat_select = __find_matches(trigger_events, cat_all)"
   ]
  },
  {
   "cell_type": "code",
   "execution_count": null,
   "id": "c9f89c1f",
   "metadata": {
    "ExecuteTime": {
     "end_time": "2023-07-10T06:55:13.336690Z",
     "start_time": "2023-07-10T06:55:13.336669Z"
    }
   },
   "outputs": [],
   "source": [
    "# cat_select_df = __cat_to_df(cat_select)\n",
    "\n",
    "# cat_select_df = __add_distances_and_backazimuth(config, cat_select_df)\n",
    "\n",
    "cat_select_df = cat_select_df.rename_axis('timestamp').reset_index()\n",
    "cat_select_df['seconds'] = [abs((cat_select_df.timestamp.min()-tt).total_seconds()) for tt in cat_select_df.timestamp]"
   ]
  },
  {
   "cell_type": "code",
   "execution_count": null,
   "id": "f9434a84",
   "metadata": {
    "ExecuteTime": {
     "end_time": "2023-07-10T06:55:13.337903Z",
     "start_time": "2023-07-10T06:55:13.337887Z"
    }
   },
   "outputs": [],
   "source": [
    "cat_select_df"
   ]
  },
  {
   "cell_type": "markdown",
   "id": "a991ff31",
   "metadata": {
    "ExecuteTime": {
     "end_time": "2023-07-03T18:00:34.137144Z",
     "start_time": "2023-07-03T18:00:34.134049Z"
    }
   },
   "source": [
    "### load GCMT catalog"
   ]
  },
  {
   "cell_type": "code",
   "execution_count": null,
   "id": "96c95a27",
   "metadata": {
    "ExecuteTime": {
     "end_time": "2023-07-10T06:55:13.339998Z",
     "start_time": "2023-07-10T06:55:13.339979Z"
    }
   },
   "outputs": [],
   "source": [
    "cat_gcmt = obs.read_events(config['path_catalog']+config['gcmt_file'])"
   ]
  },
  {
   "cell_type": "code",
   "execution_count": null,
   "id": "c0b4fa65",
   "metadata": {
    "ExecuteTime": {
     "end_time": "2023-07-10T06:55:13.341995Z",
     "start_time": "2023-07-10T06:55:13.341969Z"
    }
   },
   "outputs": [],
   "source": [
    "cat_gcmt_df = __catalog_to_dataframe(cat_gcmt)\n",
    "cat_gcmt_df.magnitude.min(), cat_gcmt_df.shape"
   ]
  },
  {
   "cell_type": "code",
   "execution_count": null,
   "id": "b810e59e",
   "metadata": {
    "ExecuteTime": {
     "end_time": "2023-07-10T06:55:13.344286Z",
     "start_time": "2023-07-10T06:55:13.344257Z"
    }
   },
   "outputs": [],
   "source": [
    "focal_mechanism = dict(\n",
    "                        strike=[330, 300],\n",
    "                        dip=[30, 20],\n",
    "                        rake=[90, 80],\n",
    "                        magnitude=[3.0, 3.5],\n",
    ")"
   ]
  },
  {
   "cell_type": "markdown",
   "id": "ad006822",
   "metadata": {},
   "source": [
    "### load shape file for faults"
   ]
  },
  {
   "cell_type": "markdown",
   "id": "0d4d1c2d",
   "metadata": {},
   "source": [
    "from USGS: https://usgs.maps.arcgis.com/apps/webappviewer/index.html?id=5a6038b3a1684561a9b0aadf88412fcf"
   ]
  },
  {
   "cell_type": "code",
   "execution_count": null,
   "id": "fa21e2a1",
   "metadata": {
    "ExecuteTime": {
     "end_time": "2023-07-10T06:55:13.345827Z",
     "start_time": "2023-07-10T06:55:13.345812Z"
    }
   },
   "outputs": [],
   "source": [
    "# faults = gpd.read_file(config['path_to_data']+\"hazfaults2014/hazfaults2014.shp\")"
   ]
  },
  {
   "cell_type": "code",
   "execution_count": null,
   "id": "fdace001",
   "metadata": {
    "ExecuteTime": {
     "end_time": "2023-07-10T06:55:13.347272Z",
     "start_time": "2023-07-10T06:55:13.347257Z"
    }
   },
   "outputs": [],
   "source": [
    "# x,y = faults.geometry[0].coords.xy\n",
    "# print(np.array(x))\n",
    "# plt.plot(x,y)"
   ]
  },
  {
   "cell_type": "markdown",
   "id": "209fc723",
   "metadata": {},
   "source": [
    "## Plot Triggered Catalog"
   ]
  },
  {
   "cell_type": "markdown",
   "id": "7a206c2b",
   "metadata": {
    "ExecuteTime": {
     "end_time": "2023-04-16T20:27:28.790409Z",
     "start_time": "2023-04-16T20:27:28.783640Z"
    }
   },
   "source": [
    "### Plots"
   ]
  },
  {
   "cell_type": "code",
   "execution_count": null,
   "id": "2f474d8a",
   "metadata": {
    "ExecuteTime": {
     "end_time": "2023-07-10T06:55:13.349364Z",
     "start_time": "2023-07-10T06:55:13.349345Z"
    },
    "code_folding": []
   },
   "outputs": [],
   "source": [
    "def __plot_timeline(catalog_df, catalog_all_df):\n",
    "\n",
    "    fig, ax = plt.subplots(1, 1, figsize=(15,5))\n",
    "\n",
    "    catalog_all_df.sort_values(\"magnitude\")\n",
    "    catalog_df.sort_values(\"magnitude\")\n",
    "    \n",
    "    \n",
    "    cax = ax.scatter(catalog_df.timestamp, \n",
    "                     catalog_df.distances_km, \n",
    "                     s=4**catalog_df.magnitude, \n",
    "                     c=catalog_df.magnitude, \n",
    "                     alpha=1.0, \n",
    "                     cmap='viridis',\n",
    "                     marker='o', facecolors='none', edgecolors='r'\n",
    "                    )\n",
    "\n",
    "    ax.scatter(catalog_all_df.timestamp, catalog_all_df.distances_km, s=4**catalog_all_df.magnitude, c='grey', alpha=0.5, zorder=-1)\n",
    "\n",
    "    \n",
    "    cbar = plt.colorbar(cax, ax=ax, cmap='viridis', pad=0.01, aspect=15, drawedges=False)\n",
    "    cbar.set_label(label='Magnitude', size=16, color=\"white\", labelpad=-40)\n",
    "    \n",
    "    \n",
    "    ax.set_ylim(bottom=0)\n",
    "    ax.set_ylabel(\"Distance (km)\", fontsize=14)\n",
    "\n",
    "    ax.grid(ls=\":\", zorder=-1)\n",
    "    \n",
    "#     ax.set_xlim(events_all_df.timestamp.min().date(), events_all_df.timestamp.max().date())\n",
    "    ax.set_xlim(str(config['tbeg']-4*86400), str(config['tend']+4*86400))\n",
    "\n",
    "    ax.set_title(f\"triggered={len(catalog_df)} of {len(catalog_all_df)} events\", fontsize=18)\n",
    "    \n",
    "#     ax.tick_params(axis=\"y\", labelsize=15)\n",
    "#     ax.tick_params(axis=\"x\", labelsize=15)    \n",
    "    \n",
    "    plt.show();\n",
    "    return fig"
   ]
  },
  {
   "cell_type": "code",
   "execution_count": null,
   "id": "4261dacc",
   "metadata": {
    "ExecuteTime": {
     "end_time": "2023-07-10T06:55:13.350659Z",
     "start_time": "2023-07-10T06:55:13.350645Z"
    }
   },
   "outputs": [],
   "source": [
    "events_all_df[events_all_df.magnitude > 4.1]"
   ]
  },
  {
   "cell_type": "code",
   "execution_count": null,
   "id": "2bd76829",
   "metadata": {
    "ExecuteTime": {
     "end_time": "2023-07-10T06:55:13.351881Z",
     "start_time": "2023-07-10T06:55:13.351868Z"
    },
    "code_folding": [
     0
    ]
   },
   "outputs": [],
   "source": [
    "fig = __plot_timeline(cat_select_df, events_all_df)\n",
    "\n",
    "fig.savefig(config['out_figures']+\"timeline_triggered_extended.png\")"
   ]
  },
  {
   "cell_type": "code",
   "execution_count": null,
   "id": "7801bbf5",
   "metadata": {
    "ExecuteTime": {
     "end_time": "2023-07-10T06:55:13.353033Z",
     "start_time": "2023-07-10T06:55:13.353019Z"
    }
   },
   "outputs": [],
   "source": [
    "__savefig(fig, config['out_figures'], \"BSPF_timeline_trigger\", mode=\"png\", dpi=200)"
   ]
  },
  {
   "cell_type": "code",
   "execution_count": null,
   "id": "3b61dfec",
   "metadata": {
    "ExecuteTime": {
     "end_time": "2023-07-10T06:55:13.354406Z",
     "start_time": "2023-07-10T06:55:13.354393Z"
    }
   },
   "outputs": [],
   "source": [
    "# for lon, lat, st, dp, rk, mg in zip(lons, lats, strikes, dips, rakes, magnitudes):\n",
    "#     with pygmt.helpers.GMTTempFile() as temp_file: \n",
    "#         with open(temp_file.name, 'w') as f:\n",
    "#             f.write(f'{lon} {lat} 0 {st} {dp} {rk} {mg} 0 0') #moment tensor: lon, lat, depth, strike, dip, rake, magnitude\n",
    "#         with pygmt.clib.Session() as session:\n",
    "#             session.call_module('meca', f'{temp_file.name} -Sa0.2i')"
   ]
  },
  {
   "cell_type": "markdown",
   "id": "c9a41e53",
   "metadata": {
    "ExecuteTime": {
     "end_time": "2023-04-17T12:59:34.878434Z",
     "start_time": "2023-04-17T12:59:34.870785Z"
    }
   },
   "source": [
    "### Map Plot"
   ]
  },
  {
   "cell_type": "code",
   "execution_count": null,
   "id": "60dcdc03",
   "metadata": {
    "ExecuteTime": {
     "end_time": "2023-07-10T06:55:13.355693Z",
     "start_time": "2023-07-10T06:55:13.355679Z"
    },
    "code_folding": [
     0
    ]
   },
   "outputs": [],
   "source": [
    "def __makeplot_eventmap(config, data1, data2):\n",
    "    \n",
    "\n",
    "    import pygmt\n",
    "    import pandas as pd\n",
    "    from obspy.imaging.beachball import beach\n",
    "    \n",
    "    # Set the region\n",
    "    region = [config['minlongitude'], config['maxlongitude'], config['minlatitude'], config['maxlatitude']]\n",
    "\n",
    "    resolution = \"30s\"\n",
    "\n",
    "    fig = pygmt.Figure()\n",
    "    \n",
    "#     fig.basemap(region=region, projection=\"M15c\", frame=True)\n",
    "\n",
    "\n",
    "    # make color pallets\n",
    "    cmap = pygmt.makecpt(cmap='etopo1', series='-7999/5000/1000', continuous=True)\n",
    "    \n",
    "    ## define etopo data file\n",
    "    topo_data = pygmt.datasets.load_earth_relief(resolution=resolution, region=region)\n",
    "    \n",
    "    ## adjust land and sea/lakes\n",
    "#     land = topo_data * pygmt.grdlandmask(region=region, \n",
    "#                                          spacing=resolution, \n",
    "#                                          maskvalues=[0, 1], \n",
    "#                                          resolution=\"f\"\n",
    "#                                         )\n",
    "    wet = topo_data * pygmt.grdlandmask(region=region, \n",
    "                                        spacing=resolution, \n",
    "                                        maskvalues=[1, \"NaN\"], \n",
    "                                        resolution=\"f\"\n",
    "                                       )\n",
    "    \n",
    "    ##plot high res topography\n",
    "    fig.grdimage(\n",
    "        grid=topo_data,\n",
    "        region=region,\n",
    "        projection='M5i',\n",
    "        shading=True,\n",
    "        cmap = cmap,\n",
    "        frame=True,\n",
    "        nan_transparent=True\n",
    "    )     \n",
    "\n",
    "\n",
    "#     cmap_wet = pygmt.makecpt(cmap='etopo1', series='-7999/5000/1000', continuous=True)\n",
    "\n",
    "    fig.grdimage(\n",
    "        grid=wet,\n",
    "        region=region,\n",
    "        projection='M5i',\n",
    "        shading=True,\n",
    "        cmap='seafloor',\n",
    "        frame=True,\n",
    "        nan_transparent=True\n",
    "    )\n",
    "    \n",
    "    \n",
    "    cmap = pygmt.makecpt(cmap='etopo1', series='-8000/5000/1000', continuous=True)    \n",
    "    fig.colorbar(cmap=cmap, position=\"g-118.8/31.45+w3c/0.3c+h\", box=\"+gwhite+c0.1+r\", \n",
    "                 frame=[\"x+lElevation\", r\"y+l(km)\"], scale=0.001, transparency=20)    \n",
    "\n",
    "\n",
    "    ## add coastlines\n",
    "    fig.coast(shorelines=True, borders=\"1/0.4p,black,solid\", frame=False)\n",
    "\n",
    "    ## add map scale\n",
    "    fig.basemap(map_scale=\"jBL+c32+f+w50k+u+o10.9/.6\",frame=False)\n",
    "    \n",
    "    ## add north rose\n",
    "#     fig.basemap(rose='jTR+o0.1c+w1c',frame=False)\n",
    "    \n",
    "        \n",
    "    ## add fault lines\n",
    "#     faults.plot()\n",
    "#     for n in range(faults.shape[0]):\n",
    "#         try:\n",
    "#             xx, yy = faults.geometry[n].coords.xy\n",
    "#             fig.plot(x=xx,y=yy,pen=\"1p,red\")\n",
    "#         except:\n",
    "#             print(n)    \n",
    "    \n",
    "    ## colorbar colormap\n",
    "#     cmap_mag = pygmt.makecpt(cmap=\"viridis\", series=[data1.magnitude.min(), data1.magnitude.max()])\n",
    "#     cmap_mag = pygmt.makecpt(cmap=\"viridis\", series=[data1.timestamp.astype(str)[0], data1.timestamp.astype(str)[len(data1)-1]])\n",
    "#     cmap_mag = pygmt.makecpt(cmap=\"viridis\", series=[data1.seconds.min(), data1.seconds.max()])\n",
    "    cmap_depth = pygmt.makecpt(cmap=\"viridis\", series=[data1.depth.min()/1000, data1.depth.max()/1000])\n",
    "    \n",
    "#     ## plot data coordinates\n",
    "    fig.plot(\n",
    "        x=data2.longitude,\n",
    "        y=data2.latitude,\n",
    "        size=0.04*2**data2.magnitude,\n",
    "        fill='grey',\n",
    "        style=\"cc\",\n",
    "        pen=\"0p,black\",\n",
    "    )    \n",
    "\n",
    "    fig.plot(\n",
    "        x=data1.longitude,\n",
    "        y=data1.latitude,\n",
    "        size=0.04*2**data1.magnitude,\n",
    "        fill=data1.depth/1000,\n",
    "#         fill=data1.seconds,\n",
    "        cmap=True,\n",
    "        style=\"cc\",\n",
    "        pen=\"0.1p,black\",\n",
    "        transparency=50,        \n",
    "    )    \n",
    "\n",
    "    ## plot PFO\n",
    "    fig.plot(\n",
    "        x=config['BSPF_lon'],\n",
    "        y=config['BSPF_lat'],\n",
    "        size=np.array([0.3]),\n",
    "        fill=\"red\",\n",
    "        style=\"t0.5c\",\n",
    "        pen=\"black\",\n",
    "    )\n",
    "    \n",
    "    fig.text(\n",
    "        text=\"PFO\",\n",
    "        x=config['BSPF_lon'],\n",
    "        y=config['BSPF_lat'],\n",
    "        offset=[0.35],\n",
    "        font=\"9p,Helvetica-Bold,black\"\n",
    "    )\n",
    "    \n",
    "    ## add beachball\n",
    "#     fig.meca(\n",
    "#         spec=focal_mechanism, ## use dictionary\n",
    "#         scale=\"1c\", \n",
    "#         longitude=[-118.3, -120], ## event longitude\n",
    "#         latitude=[33.1, 34.5], ## event latitude\n",
    "#         depth=[12.0, 10.0], ## hypocentral depth\n",
    "#     )\n",
    "    \n",
    "    \n",
    "#     fig.plot(\n",
    "#         x=config['BSPF_lon'],\n",
    "#         y=config['BSPF_lat'],\n",
    "#         size=10,\n",
    "#         style=\"cc\",\n",
    "#         pen=\"0.1p,red\",\n",
    "#         transparency=100,        \n",
    "#     )    \n",
    "    \n",
    "    ## add depth colorbar\n",
    "#     fig.colorbar(frame='af+l\"Depth (km)\"', cmap=cmap_depth)\n",
    "#     fig.colorbar(frame='af+l\"Days\"', transparency=20, cmap=cmap_mag, \n",
    "#                  position=\"JMR+o-2.2c/3.1c+w5c/0.5c+n+mc\", scale=1/86400, \n",
    "#                  box=\"+gwhite+c0.1+r\")\n",
    "    fig.colorbar(frame='af+l\"Depth (km)\"', transparency=20, cmap=cmap_depth, \n",
    "                 position=\"JMR+o-2.2c/3.1c+w5c/0.5c+n+mc\", \n",
    "                 box=\"+gwhite+c0.1+r\")\n",
    "    \n",
    "    ## ________________________________________________\n",
    "    ## overview plot\n",
    "    \n",
    "    region2 = [config['minlongitude']-3, config['maxlongitude']+50, config['minlatitude']-18, config['maxlatitude']+5]\n",
    "    \n",
    "    with fig.inset(position=\"jBL+o0.5c/0.2c\", box=\"+pblack\", region=region2, projection=\"M4c\"):\n",
    "        # Use a plotting method to create a figure inside the inset.\n",
    "        fig.coast(\n",
    "            land=\"gray\",\n",
    "            borders=[1, 2],\n",
    "            shorelines=\"1/thin\",\n",
    "            water=\"white\",\n",
    "            # Use dcw to selectively highlight an area\n",
    "            dcw=\"US+gred\",\n",
    "        )    \n",
    "        fig.plot(\n",
    "            x=config['BSPF_lon'],\n",
    "            y=config['BSPF_lat'],\n",
    "            size=np.array([0.3]),\n",
    "            fill=\"red\",\n",
    "            style=\"t0.3c\",\n",
    "            pen=\"black\",\n",
    "        )\n",
    "    \n",
    "    \n",
    "    ## save figure to file\n",
    "    fig.savefig(config['outpath']+'tmp_event_map.png')\n",
    "\n",
    "    fig.show();\n",
    "    return fig"
   ]
  },
  {
   "cell_type": "code",
   "execution_count": null,
   "id": "600ef1b6",
   "metadata": {
    "ExecuteTime": {
     "end_time": "2023-07-10T06:55:13.357595Z",
     "start_time": "2023-07-10T06:55:13.357578Z"
    }
   },
   "outputs": [],
   "source": [
    "fig = __makeplot_eventmap(config, cat_select_df, events_all_df)"
   ]
  },
  {
   "cell_type": "code",
   "execution_count": null,
   "id": "d09f85f8",
   "metadata": {
    "ExecuteTime": {
     "end_time": "2023-07-10T06:55:13.359479Z",
     "start_time": "2023-07-10T06:55:13.359449Z"
    }
   },
   "outputs": [],
   "source": [
    "fig.savefig(config['out_figures']+\"map_triggered.png\")"
   ]
  },
  {
   "cell_type": "markdown",
   "id": "7c2f7bbd",
   "metadata": {},
   "source": [
    "## Centered Plot"
   ]
  },
  {
   "cell_type": "code",
   "execution_count": null,
   "id": "ca5e1d9f",
   "metadata": {
    "ExecuteTime": {
     "end_time": "2023-07-10T06:55:13.361511Z",
     "start_time": "2023-07-10T06:55:13.361497Z"
    }
   },
   "outputs": [],
   "source": [
    "# client = Client(\"ISC\")\n",
    "\n",
    "# ## events - all in area and time period\n",
    "# events_all = client.get_events(minlatitude=config['minlatitude'], maxlatitude=config['maxlatitude'],\n",
    "#                                minlongitude=config['minlongitude'], maxlongitude=config['maxlongitude'],\n",
    "#                                starttime=config['tbeg'],\n",
    "#                                endtime=config['tend'],\n",
    "#                                )"
   ]
  },
  {
   "cell_type": "code",
   "execution_count": null,
   "id": "20bd6d32",
   "metadata": {
    "ExecuteTime": {
     "end_time": "2023-07-10T06:55:13.363895Z",
     "start_time": "2023-07-10T06:55:13.363874Z"
    }
   },
   "outputs": [],
   "source": [
    "# origin = event.preferred_origin() or event.origins[0]\n",
    "# focmec = event.preferred_focal_mechanism() or event.focal_mechanisms[0]\n",
    "# tensor = focmec.moment_tensor.tensor\n",
    "# moment_list = [tensor.m_rr, tensor.m_tt, tensor.m_pp,\n",
    "#                tensor.m_rt, tensor.m_rp, tensor.m_tp]"
   ]
  },
  {
   "cell_type": "code",
   "execution_count": null,
   "id": "545cb60b",
   "metadata": {
    "ExecuteTime": {
     "end_time": "2023-07-10T06:55:13.365495Z",
     "start_time": "2023-07-10T06:55:13.365481Z"
    },
    "code_folding": [
     0
    ]
   },
   "outputs": [],
   "source": [
    "def __makeplot_polarmap(config, data1, data2):\n",
    "\n",
    "    import pygmt\n",
    "\n",
    "    reg = [config['minlongitude'], config['maxlongitude'], config['minlatitude'], config['maxlatitude']]\n",
    "\n",
    "    scale = \"8c\"\n",
    "\n",
    "    proj = f\"E{config['BSPF_lon'][0]}/{config['BSPF_lat'][0]}/1/{scale}\"\n",
    "\n",
    "    resolution = \"30s\"\n",
    "\n",
    "    ## __________________________________________\n",
    "\n",
    "    fig = pygmt.Figure()\n",
    "\n",
    "    fig.coast(projection=proj, region=reg, land=\"gray\")\n",
    "\n",
    "\n",
    "    fig.basemap(\n",
    "        region=[0, 360, 0, 10],\n",
    "        projection=f\"P{scale}+a\",\n",
    "        frame=[\"xa45f\", \"+t\"],\n",
    "    )\n",
    "    \n",
    "\n",
    "    # make color pallets\n",
    "    cmap = pygmt.makecpt(cmap='etopo1', series='-7999/5000/1000', continuous=True)\n",
    "\n",
    "    ## define etopo data file\n",
    "    topo_data = pygmt.datasets.load_earth_relief(resolution=resolution, region=reg)\n",
    "\n",
    "\n",
    "\n",
    "    ##plot high res topography\n",
    "    fig.grdimage(\n",
    "        grid=topo_data,\n",
    "        region=reg,\n",
    "        projection=proj,\n",
    "        shading=True,\n",
    "        cmap = cmap,\n",
    "        frame=True,\n",
    "        nan_transparent=True\n",
    "    )     \n",
    "\n",
    "    wet = topo_data * pygmt.grdlandmask(region=reg,  spacing=resolution, maskvalues=[1, \"NaN\"], resolution=\"f\")\n",
    "\n",
    "    fig.grdimage(\n",
    "        grid=wet,\n",
    "        region=reg,\n",
    "        projection=proj,\n",
    "        shading=True,\n",
    "        cmap='seafloor',\n",
    "        frame=True,\n",
    "        nan_transparent=True\n",
    "    )\n",
    "\n",
    "    fig.coast(shorelines=True, borders=\"1/0.4p,black,solid\", frame=False)\n",
    "\n",
    "    ## colorbar colormap\n",
    "    cmap_mag = pygmt.makecpt(cmap=\"viridis\", series=[data1.magnitude.min(), data1.magnitude.max()])\n",
    "    #     cmap_mag = pygmt.makecpt(cmap=\"viridis\", series=[data1.timestamp.astype(str)[0], data1.timestamp.astype(str)[len(data1)-1]])\n",
    "    cmap_mag = pygmt.makecpt(cmap=\"viridis\", series=[data1.seconds.min(), data1.seconds.max()])\n",
    "\n",
    "\n",
    "    ## plot data coordinates\n",
    "    fig.plot(\n",
    "        x=data2.longitude,\n",
    "        y=data2.latitude,\n",
    "        size=0.04*2**data2.magnitude,\n",
    "        fill='grey',\n",
    "        style=\"cc\",\n",
    "        pen=\"0p,black\",\n",
    "    )    \n",
    "\n",
    "    fig.plot(\n",
    "        x=data1.longitude,\n",
    "        y=data1.latitude,\n",
    "        size=0.04\n",
    "        *2**data1.magnitude,\n",
    "        fill=data1.seconds,\n",
    "        cmap=True,\n",
    "        style=\"cc\",\n",
    "        pen=\"0.1p,black\",\n",
    "        transparency=50,        \n",
    "    )    \n",
    "\n",
    "    ## plot PFO\n",
    "    fig.plot(\n",
    "        region=reg, projection=proj,\n",
    "        x=config['BSPF_lon'],\n",
    "        y=config['BSPF_lat'],\n",
    "        size=np.array([0.3]),\n",
    "        fill=\"red\",\n",
    "        style=\"t0.5c\",\n",
    "        pen=\"black\",\n",
    "    )\n",
    "\n",
    "    fig.text(\n",
    "        region=reg, projection=proj,\n",
    "        text=\"PFO\",\n",
    "        x=config['BSPF_lon'],\n",
    "        y=config['BSPF_lat'],\n",
    "        offset=[0.35],\n",
    "        font=\"9p,Helvetica-Bold,black\"\n",
    "    )\n",
    "\n",
    "    fig.show()\n",
    "    return fig"
   ]
  },
  {
   "cell_type": "code",
   "execution_count": null,
   "id": "5826b619",
   "metadata": {
    "ExecuteTime": {
     "end_time": "2023-07-10T06:55:13.366413Z",
     "start_time": "2023-07-10T06:55:13.366398Z"
    },
    "code_folding": [
     0
    ]
   },
   "outputs": [],
   "source": [
    "fig = __makeplot_polarmap(config, cat_select_df, events_all_df)"
   ]
  },
  {
   "cell_type": "code",
   "execution_count": null,
   "id": "93b7c913",
   "metadata": {
    "ExecuteTime": {
     "end_time": "2023-07-10T06:55:13.367660Z",
     "start_time": "2023-07-10T06:55:13.367645Z"
    }
   },
   "outputs": [],
   "source": [
    "fig.savefig(config['out_figures']+f'BSPF_polarmap.png', dpi=200, bbox_inches='tight', pad_inches=0.05)"
   ]
  },
  {
   "cell_type": "markdown",
   "id": "5812b168",
   "metadata": {},
   "source": [
    "## Plot Histogram"
   ]
  },
  {
   "cell_type": "code",
   "execution_count": null,
   "id": "21991e06",
   "metadata": {
    "ExecuteTime": {
     "end_time": "2023-07-10T06:55:13.368487Z",
     "start_time": "2023-07-10T06:55:13.368473Z"
    },
    "code_folding": [
     0
    ]
   },
   "outputs": [],
   "source": [
    "def __makeplot_histogram(catalog_all_df, catalog_df):\n",
    "    \n",
    "    from sklearn.linear_model import LinearRegression\n",
    "    from numpy import log10, array, linspace\n",
    "\n",
    "\n",
    "    catalog_all_df = catalog_all_df.sort_values(\"magnitude\", ascending=False)\n",
    "    catalog_df = catalog_df.sort_values(\"magnitude\")    \n",
    "    \n",
    "    ## bins=11, range=[-0.75,4.75]\n",
    "#     hh_cum, bins_cum, _ = plt.hist(catalog_all_df.magnitude, bins=11, range=[-0.75,4.75], rwidth=0.9, color='#3776ab', cumulative=True)    \n",
    "#     plt.close()    \n",
    "#     bins_cum = [bins_cum[jj] + (abs(bins_cum[jj+1]-bins_cum[jj])/2) for jj in range(len(bins_cum)-1)]\n",
    "\n",
    "    ## compute bins catalog all\n",
    "    nn, bins = [], []\n",
    "    for i in range(-1, 7, 1):\n",
    "        nn.append(len(catalog_all_df[catalog_all_df.magnitude >= i]))\n",
    "        bins.append(i+0.5)\n",
    "\n",
    "    print(len(catalog_df), len(catalog_df[catalog_df.magnitude >= 4]))\n",
    "    ## compute bins catalog triggered\n",
    "    nn2, bins2 = [], []\n",
    "    for i in range(-1, 7, 1):\n",
    "        nn2.append(len(catalog_df[catalog_df.magnitude >= i]))\n",
    "        bins2.append(i+0.5)\n",
    "        \n",
    "        \n",
    "    x, y = array(bins)[2:-1], log10(nn[2:-1])\n",
    "\n",
    "    ## ________________________________\n",
    "    \n",
    "    fig, ax = plt.subplots(1, 1, figsize=(5,5))\n",
    "    \n",
    "    ## plot histograms catalog all\n",
    "    ax.bar(array(bins), nn, width=0.75, color='lightblue', zorder=2, alpha=0.8)\n",
    "    ax.bar(x, 10**y, width=0.75, zorder=2)\n",
    "    \n",
    "    ## plot histograms catalog triggered\n",
    "    ax.bar(array(bins2), nn2, width=0.5, color='darkorange', zorder=2, alpha=0.5)\n",
    "#     ax.bar(x2, 10**y2, width=0.75, zorder=2)\n",
    "         \n",
    "        \n",
    "        \n",
    "    ## linear regression\n",
    "    model = LinearRegression().fit(x.reshape((-1, 1)), y)\n",
    "    r_sq = model.score(x.reshape((-1, 1)), y)\n",
    "    x_axis = linspace(min(bins), max(bins), 50)\n",
    "    reg1 = model.intercept_ + model.coef_ * x_axis\n",
    "    \n",
    "    ax.plot(x_axis, 10**reg1, color=\"k\", ls=\"--\", label=f\"f(x)={round(model.coef_[0],2)}x+{round(model.intercept_,1)}\")\n",
    "\n",
    "    ## linear regression\n",
    "    x2, y2 = x[:-1], y[:-1]\n",
    "    model = LinearRegression().fit(x2.reshape((-1, 1)), y2)\n",
    "    r_sq = model.score(x2.reshape((-1, 1)), y2)\n",
    "    x_axis = linspace(min(bins), max(bins), 50)\n",
    "    reg2 = model.intercept_ + model.coef_ * x_axis\n",
    "    \n",
    "#     ax.plot(x_axis, 10**reg2, color=\"k\", ls=\":\", label=f\"f(x)={round(model.coef_[0],2)}x+{round(model.intercept_,1)}\")\n",
    "    \n",
    "    \n",
    "    ax.text(3.5, 9e3, f\"Total N = {len(catalog_all_df)}\", fontsize=13)\n",
    "    \n",
    "    days = str(events_all_df.index.max()-events_all_df.index.min()).split(\" \")[0]\n",
    "    ax.text(3.5, 4e3, f\"Days = {days}\", fontsize=13)\n",
    "    \n",
    "    ax.grid(zorder=-1, ls=\":\", alpha=0.7, which=\"both\")\n",
    "    \n",
    "    ax.legend(loc=\"upper right\", fontsize=12)\n",
    "    \n",
    "    ax.set_yscale(\"log\")\n",
    "    \n",
    "    ax.set_xlabel(\"Magnitude\", fontsize=18)\n",
    "    ax.set_ylabel(\"Number of Events\", fontsize=18)\n",
    "    \n",
    "    ax.tick_params(axis='x', labelsize=11)\n",
    "    ax.tick_params(axis='y', labelsize=11)\n",
    "    \n",
    "    ax.set_xticks(array(bins)-0.5)\n",
    "    \n",
    "    ax.set_title(f\"Gutenberg-Richter Relation\", fontsize=18)\n",
    "    \n",
    "    ax.tick_params(axis=\"y\", labelsize=15)\n",
    "    ax.tick_params(axis=\"x\", labelsize=15)\n",
    "    \n",
    "    ax.set_ylim(0.2e0, 1e5)\n",
    "    plt.show();\n",
    "    return fig"
   ]
  },
  {
   "cell_type": "code",
   "execution_count": null,
   "id": "4dffc526",
   "metadata": {
    "ExecuteTime": {
     "end_time": "2023-07-10T06:55:13.369707Z",
     "start_time": "2023-07-10T06:55:13.369693Z"
    }
   },
   "outputs": [],
   "source": [
    "fig = __makeplot_histogram(events_all_df, cat_select_df)\n",
    "\n",
    "fig.savefig(\"catalog_all_histo.png\")"
   ]
  },
  {
   "cell_type": "code",
   "execution_count": null,
   "id": "42a90ad7",
   "metadata": {},
   "outputs": [],
   "source": []
  }
 ],
 "metadata": {
  "kernelspec": {
   "display_name": "Python 3 (ipykernel)",
   "language": "python",
   "name": "python3"
  },
  "language_info": {
   "codemirror_mode": {
    "name": "ipython",
    "version": 3
   },
   "file_extension": ".py",
   "mimetype": "text/x-python",
   "name": "python",
   "nbconvert_exporter": "python",
   "pygments_lexer": "ipython3",
   "version": "3.9.16"
  },
  "latex_envs": {
   "LaTeX_envs_menu_present": true,
   "autoclose": true,
   "autocomplete": true,
   "bibliofile": "biblio.bib",
   "cite_by": "apalike",
   "current_citInitial": 1,
   "eqLabelWithNumbers": true,
   "eqNumInitial": 1,
   "hotkeys": {
    "equation": "Ctrl-E",
    "itemize": "Ctrl-I"
   },
   "labels_anchors": false,
   "latex_user_defs": false,
   "report_style_numbering": false,
   "user_envs_cfg": false
  },
  "toc": {
   "base_numbering": 1,
   "nav_menu": {},
   "number_sections": true,
   "sideBar": true,
   "skip_h1_title": false,
   "title_cell": "Table of Contents",
   "title_sidebar": "Contents",
   "toc_cell": false,
   "toc_position": {},
   "toc_section_display": true,
   "toc_window_display": false
  },
  "varInspector": {
   "cols": {
    "lenName": 16,
    "lenType": 16,
    "lenVar": 40
   },
   "kernels_config": {
    "python": {
     "delete_cmd_postfix": "",
     "delete_cmd_prefix": "del ",
     "library": "var_list.py",
     "varRefreshCmd": "print(var_dic_list())"
    },
    "r": {
     "delete_cmd_postfix": ") ",
     "delete_cmd_prefix": "rm(",
     "library": "var_list.r",
     "varRefreshCmd": "cat(var_dic_list()) "
    }
   },
   "types_to_exclude": [
    "module",
    "function",
    "builtin_function_or_method",
    "instance",
    "_Feature"
   ],
   "window_display": false
  }
 },
 "nbformat": 4,
 "nbformat_minor": 5
}
