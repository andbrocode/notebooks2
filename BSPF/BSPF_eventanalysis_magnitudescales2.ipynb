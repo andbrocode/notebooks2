{
 "cells": [
  {
   "cell_type": "markdown",
   "id": "9d8f8a24",
   "metadata": {},
   "source": [
    "# BSPF Analysis"
   ]
  },
  {
   "cell_type": "code",
   "execution_count": null,
   "id": "fe4540f2",
   "metadata": {
    "ExecuteTime": {
     "end_time": "2023-08-07T09:56:14.230317Z",
     "start_time": "2023-08-07T09:56:12.194332Z"
    },
    "tags": []
   },
   "outputs": [],
   "source": [
    "import os\n",
    "import pandas as pd\n",
    "import numpy as np\n",
    "import obspy as obs\n",
    "import matplotlib.pyplot as plt\n",
    "\n",
    "from scipy.optimize import curve_fit"
   ]
  },
  {
   "cell_type": "code",
   "execution_count": null,
   "id": "0385c6e2",
   "metadata": {
    "ExecuteTime": {
     "end_time": "2023-08-07T09:56:14.238662Z",
     "start_time": "2023-08-07T09:56:14.231424Z"
    },
    "tags": []
   },
   "outputs": [],
   "source": [
    "from functions.compute_orthogonal_distance_regression import __compute_orthogonal_distance_regression\n",
    "from functions.compute_linear_regression import __compute_linear_regression"
   ]
  },
  {
   "cell_type": "code",
   "execution_count": null,
   "id": "f3490903",
   "metadata": {
    "ExecuteTime": {
     "end_time": "2023-08-07T09:56:14.259904Z",
     "start_time": "2023-08-07T09:56:14.239745Z"
    },
    "tags": []
   },
   "outputs": [],
   "source": [
    "if os.uname().nodename == 'lighthouse':\n",
    "    root_path = '/home/andbro/'\n",
    "    data_path = '/home/andbro/kilauea-data/'\n",
    "    archive_path = '/home/andbro/freenas/'\n",
    "elif os.uname().nodename == 'kilauea':\n",
    "    root_path = '/home/brotzer/'\n",
    "    data_path = '/import/kilauea-data/'\n",
    "    archive_path = '/import/freenas-ffb-01-data/'"
   ]
  },
  {
   "cell_type": "markdown",
   "id": "4e67ab25",
   "metadata": {},
   "source": [
    "## Configurations"
   ]
  },
  {
   "cell_type": "code",
   "execution_count": null,
   "id": "15a2bfff",
   "metadata": {
    "ExecuteTime": {
     "end_time": "2023-08-07T09:56:14.274780Z",
     "start_time": "2023-08-07T09:56:14.261002Z"
    },
    "tags": []
   },
   "outputs": [],
   "source": [
    "config = {}\n",
    "\n",
    "config['path_to_data'] = data_path+\"BSPF/data/\"\n",
    "\n",
    "config['path_to_catalogs'] = data_path+\"BSPF/data/catalogs/\"\n",
    "\n",
    "config['path_to_figs'] = data_path+\"BSPF/figures/\"\n",
    "\n",
    "config['catalog'] = \"\"\n",
    "\n",
    "config['save'] = False\n",
    "\n",
    "config['translation_type'] = \"ACC\"\n",
    "\n",
    "# config['catalog'] = \"BSPF_catalog_20221001_20230930_all.pkl\"\n",
    "config['catalog'] = \"BSPF_catalog_20221001_20231001_all.pkl\""
   ]
  },
  {
   "cell_type": "markdown",
   "id": "ae1fa8b1",
   "metadata": {},
   "source": [
    "## Load Data"
   ]
  },
  {
   "cell_type": "code",
   "execution_count": null,
   "id": "ca6e31b2",
   "metadata": {
    "ExecuteTime": {
     "end_time": "2023-08-07T09:56:14.343333Z",
     "start_time": "2023-08-07T09:56:14.326600Z"
    },
    "tags": []
   },
   "outputs": [],
   "source": [
    "# data_amax_disp = pd.read_pickle(config['path_to_data']+\"bspf_analysisdata_amax_disp.pkl\")\n",
    "\n",
    "# data_snr = pd.read_pickle(config['path_to_data']+\"bspf_analysisdata_snr_disp.pkl\")"
   ]
  },
  {
   "cell_type": "code",
   "execution_count": null,
   "id": "144305bb-9404-449e-b79f-d3ca1b34de78",
   "metadata": {
    "tags": []
   },
   "outputs": [],
   "source": [
    "data_amax = pd.read_pickle(config['path_to_data']+f\"bspf_analysisdata_amax_{config['translation_type']}.pkl\")\n",
    "\n",
    "data_snr = pd.read_pickle(config['path_to_data']+f\"bspf_analysisdata_snr_{config['translation_type']}.pkl\")\n",
    "\n",
    "data_adr = pd.read_pickle(config['path_to_data']+f\"bspf_analysisdata_adr_{config['translation_type']}.pkl\")"
   ]
  },
  {
   "cell_type": "code",
   "execution_count": null,
   "id": "3e0f85a2-a0a2-4458-b5f5-c2b710a64df5",
   "metadata": {
    "tags": []
   },
   "outputs": [],
   "source": [
    "data_amax_cosum_6 = data_amax[data_amax.CoincidenceSum == 6]\n",
    "\n",
    "data_snr_cosum_6 = data_snr[data_snr.CoincidenceSum == 6]"
   ]
  },
  {
   "cell_type": "code",
   "execution_count": null,
   "id": "679cb3c3-8200-4e3f-81c6-94a5f29aafae",
   "metadata": {
    "tags": []
   },
   "outputs": [],
   "source": [
    "## read data frame of selected triggered events\n",
    "events = pd.read_pickle(config['path_to_catalogs']+config['catalog'])\n",
    "\n",
    "events['Hdistance_km'] = np.sqrt((events.depth/1000)**2 + events.distances_km**2)\n",
    "\n",
    "events_not_triggered = events.reset_index().rename(columns={\"index\":\"origin\"}).copy()\n",
    "\n",
    "events_not_triggered = events_not_triggered[~events_not_triggered.origin.isin(data_amax.origin.values)]"
   ]
  },
  {
   "cell_type": "code",
   "execution_count": null,
   "id": "34e8d972-2d84-4fae-b011-c71f6da21002",
   "metadata": {
    "tags": []
   },
   "outputs": [],
   "source": [
    "events.shape, events_not_triggered.shape\n"
   ]
  },
  {
   "cell_type": "markdown",
   "id": "02389ea8",
   "metadata": {
    "ExecuteTime": {
     "end_time": "2023-07-13T11:04:39.349995Z",
     "start_time": "2023-07-13T11:04:39.341140Z"
    }
   },
   "source": [
    "## Modify Data"
   ]
  },
  {
   "cell_type": "markdown",
   "id": "0ac1c781",
   "metadata": {},
   "source": [
    "Filter data"
   ]
  },
  {
   "cell_type": "code",
   "execution_count": null,
   "id": "e7596314-3fe4-4140-8769-71a88a9669cf",
   "metadata": {
    "ExecuteTime": {
     "end_time": "2023-08-07T09:56:14.360405Z",
     "start_time": "2023-08-07T09:56:14.344545Z"
    },
    "tags": []
   },
   "outputs": [],
   "source": [
    "## reject nan values\n",
    "print(f\" AMAX:  all: {data_amax.origin.size} no_nan: {data_amax.origin.dropna().shape[0]}\")\n",
    "data_amax.origin.dropna(inplace=True)\n",
    "\n",
    "print(f\" SNR:  all: {data_snr.origin.size} no_nan: {data_snr.origin.dropna().shape[0]}\")\n",
    "data_snr.origin.dropna(inplace=True)\n",
    "\n",
    "print(f\" CoSum6:  all: {data_amax_cosum_6.origin.size} no_nan: {data_amax_cosum_6.origin.dropna().shape[0]}\")\n",
    "data_amax_cosum_6.origin.dropna(inplace=True)"
   ]
  },
  {
   "cell_type": "code",
   "execution_count": null,
   "id": "078cd5d3-3a47-4593-b5db-1b71c22e2e1a",
   "metadata": {
    "tags": []
   },
   "outputs": [],
   "source": [
    "data_amax_cosum_6.dropna(inplace=True)\n",
    "data_amax_cosum_6"
   ]
  },
  {
   "cell_type": "markdown",
   "id": "268f9baa",
   "metadata": {},
   "source": [
    "## Plots"
   ]
  },
  {
   "cell_type": "markdown",
   "id": "9454067c-0ccb-4226-93d8-a9b0c118cd4b",
   "metadata": {
    "tags": []
   },
   "source": [
    "## New fitting"
   ]
  },
  {
   "cell_type": "code",
   "execution_count": null,
   "id": "a51484cf-e596-4d44-bf3a-5f415453cc7e",
   "metadata": {
    "tags": []
   },
   "outputs": [],
   "source": [
    "def __ml_fit(X, a, b):\n",
    "    mag, hdist = X\n",
    "    return 10**( mag - a*np.log10(hdist) - b )\n",
    "\n",
    "\n",
    "def __predict_amplitude(X, a, b):\n",
    "    mag, hdist = X\n",
    "    return 10**( mag - a*np.log10(hdist) - b )\n",
    "\n",
    "\n",
    "def __predict_magnitude(X, a, b):\n",
    "    amax, hdist = X\n",
    "    return np.log10(amax) + a*np.log10(hdist) + b\n"
   ]
  },
  {
   "cell_type": "code",
   "execution_count": null,
   "id": "ea1ad1a8-583c-4012-8c96-0f7865b2a725",
   "metadata": {
    "tags": []
   },
   "outputs": [],
   "source": [
    "mag_grey = np.array(events_not_triggered.magnitude)\n",
    "hdist_grey = np.array(events_not_triggered.Hdistance_km)\n",
    "\n",
    "## select amplitude data\n",
    "amax_n = np.array(data_amax.BSPF__N_amax)\n",
    "amax_e = np.array(data_amax.BSPF__E_amax)\n",
    "amax_z = np.array(data_amax.BSPF__Z_amax)\n",
    "\n",
    "amax_all = np.sqrt(amax_n**2 + amax_e**2 + amax_z**2) #/2 /np.pi\n",
    "\n",
    "## create uncertainties\n",
    "data_amax['sigma'] = 1.0*np.ones(data_amax.shape[0])\n",
    "data_amax['sigma'] = data_amax.sigma.where(data_amax.Magnitude > 2.5, 0.5)\n",
    "sigmas = np.array(data_amax.sigma)\n",
    "\n",
    "## select hypocentral distances and magnitudes\n",
    "hdist_all = np.array(data_amax.Hdistance_km)\n",
    "mag_all = np.array(data_amax.Magnitude)\n",
    "\n",
    "## Append M62 event data\n",
    "amax_all = np.append(amax_all, np.sqrt(5.4e-07**2 + 5.3e-07**2 + 1.4e-06**2)) #/2 /np.pi\n",
    "mag_all = np.append(mag_all, 6.2)\n",
    "hdist_all = np.append(hdist_all, 312)\n",
    "sigmas = np.append(sigmas, 0.1)\n",
    "\n",
    "\n",
    "## perform data fitting\n",
    "# p0 = (1.11, 0.00189, 2.09)\n",
    "popt_all, pcov_all = curve_fit(__ml_fit, (mag_all, hdist_all), amax_all,\n",
    "                               check_finite=True,\n",
    "                               p0=(1, 1.),\n",
    "                               bounds=([0, 0],[5, 5]),\n",
    "                               sigma=sigmas,\n",
    "                              )\n",
    "\n",
    "# popt_all[0], popt_all[1] = 4, 1.5\n",
    "\n",
    "\n",
    "\n",
    "## output the new laws\n",
    "print(f\"\\n Ml = log10(Amax) + {popt_all[0]:.2f} log10(R) + {popt_all[1]:.2f}\")\n",
    "\n",
    "## generate synthetic magnitudes\n",
    "# syn_data_all = __predict_amplitude((mag_all, hdist_all), popt_all[0], popt_all[1], popt_all[2])\n",
    "\n",
    "## compute differences of magnitudes and synthetics\n",
    "# diff_syn_all = mag_all-syn_data_all\n",
    "\n",
    "\n",
    "## compute synthetic maximal amplitudes\n",
    "amax_syn_all = __predict_amplitude((mag_all, hdist_all), popt_all[0], popt_all[1])\n",
    "\n",
    "amax_syn_grey = __predict_amplitude((mag_grey, hdist_grey), popt_all[0], popt_all[1])\n",
    "\n",
    "\n",
    "## ______________________________________\n",
    "\n",
    "a_all, b_all = popt_all[0], popt_all[1]\n",
    "\n",
    "\n",
    "hdist_syn = np.arange(1, 350+1, 1)\n",
    "mag_syn = np.arange(-1, 6.5+0.1, 0.1)\n",
    "\n",
    "amax_syn_all = np.zeros((len(hdist_syn), len(mag_syn)))\n",
    "\n",
    "for i, h in enumerate(hdist_syn):\n",
    "    for j, m in enumerate(mag_syn):\n",
    "        amax_syn_all[i, j] = __predict_amplitude((m, h), a_all, b_all)\n",
    "\n",
    "\n",
    "## blueSeis self-noise\n",
    "limit = 1.5e-7  #/2 /np.pi ## rad/s/Hz\n",
    "mag_limit_all = __predict_magnitude((limit, hdist_syn), a_all, b_all)\n",
    "\n",
    "\n",
    "## blueSeis self-noise\n",
    "limit_1hz = 1.0e-8  #/2 /np.pi ## rad/s/Hz\n",
    "mag_limit_all_1hz = __predict_magnitude((limit_1hz, hdist_syn), a_all, b_all)\n",
    "\n",
    "limit_10hz = 3.0e-8  #/2 /np.pi ## rad/s/Hz\n",
    "mag_limit_all_10hz = __predict_magnitude((limit_10hz, hdist_syn), a_all, b_all)\n"
   ]
  },
  {
   "cell_type": "code",
   "execution_count": null,
   "id": "b297d7ed-70d4-4b98-895e-35db804da979",
   "metadata": {
    "tags": []
   },
   "outputs": [],
   "source": [
    "def __makeplot_all():\n",
    "\n",
    "    import matplotlib as mpl\n",
    "    import matplotlib.pyplot as plt\n",
    "    from matplotlib.ticker import LogFormatterExponent # <-- one new import here\n",
    "\n",
    "    fig, ax = plt.subplots(1, 1, figsize=(10, 5), sharey=True)\n",
    "\n",
    "    font = 12\n",
    "\n",
    "    plt.subplots_adjust(wspace=0.05)\n",
    "\n",
    "    cmap = mpl.colormaps['viridis'].resampled(16)\n",
    "    # cmap = mpl.colormaps['jet'].resampled(28)\n",
    "    cmap.set_under('black')\n",
    "    cmap.set_over('white')\n",
    "\n",
    "\n",
    "    # amin_all, amax_all = min(amax_syn_all.reshape(1, amax_syn_all.size)[0]), max(amax_syn_all.reshape(1, amax_syn_all.size)[0])\n",
    "\n",
    "    lev = np.array([1e-14, 1e-13, 1e-12, 1e-11, 1e-10, 1e-9, 1e-8, 1e-7, 1e-6, 1e-5, 1e-4, 1e-3, 1e-2, 1e-1, 1e0, 1e1])\n",
    "\n",
    "    amin, amax = min(lev), max(lev)\n",
    "\n",
    "    lev_lbl = np.log10(lev)\n",
    "\n",
    "\n",
    "    ax.scatter(mag_all, hdist_all, c=amax_all, s=30, cmap=cmap, edgecolors=\"black\", alpha=0.7, lw=0.5, zorder=3, norm=mpl.colors.LogNorm(vmin=amin, vmax=amax), label=r\"A$_{max} $ (used for fitting)\")\n",
    "\n",
    "    ax.scatter(mag_grey, hdist_grey, s=20, color=\"grey\", edgecolors=\"black\", lw=0.5, zorder=2, alpha=0.5, label=\"all (not triggered)\")\n",
    "\n",
    "\n",
    "    cb0 = ax.contourf(mag_syn, hdist_syn, amax_syn_all, cmap=cmap, norm=mpl.colors.LogNorm(vmin=amin, vmax=amax), levels=lev)\n",
    "    # cb0 = ax.contourf(mag_syn, hdist_syn, amax_syn_all, cmap=cmap, levels=lev)\n",
    "\n",
    "    # ax.plot(mag_limit_all, hdist_syn, color=\"tab:red\", ls=\"--\", label=f\"self-noise: {limit} rad/s\")\n",
    "    ax.plot(mag_limit_all_1hz, hdist_syn, color=\"tab:red\", ls=\"--\", label=f\"self-noise @ 1Hz:  {limit_1hz} rad/s\")\n",
    "    ax.plot(mag_limit_all_10hz, hdist_syn, color=\"tab:orange\", ls=\"--\", label=f\"self-noise @10Hz: {limit_10hz} rad/s\")\n",
    "\n",
    "    ax.set_xlim(-1, 6.5)\n",
    "    ax.set_ylim(0, 350)\n",
    "\n",
    "    cbar0 = plt.colorbar(cb0, ax=ax, extend='min')\n",
    "    # cbar0.set_ticklabels(lev_lbl)\n",
    "    cbar0.set_label(r\"$A_{max} = \\sqrt{N^2 + E^2 + Z^2}$ (rad/s)\", labelpad=-70, fontsize=font)\n",
    "\n",
    "    ax.set_xlabel(\"Magnitude\", fontsize=font)\n",
    "    ax.set_ylabel(\"Hypocentral Distance (km)\", fontsize=font)\n",
    "\n",
    "    ax.set_title(r\"BSPF:  M = log$_{10}$(A$_{max}$)\" + f\" + {popt_all[0]:.2f}\" + \" log$_{10}$\" +f\"(R) + {popt_all[1]:.2f}\")\n",
    "\n",
    "    ax.legend(loc=2)\n",
    "\n",
    "    plt.show();\n",
    "    return fig\n",
    "\n",
    "fig = __makeplot_all();\n",
    "\n",
    "fig.savefig(config['path_to_figs']+\"BSPF_model_magnitudescale_overview.png\", format=\"png\", dpi=200, bbox_inches='tight')"
   ]
  },
  {
   "cell_type": "code",
   "execution_count": null,
   "id": "943b6aa1-5afa-4632-a16c-5f9278e16ca3",
   "metadata": {
    "tags": []
   },
   "outputs": [],
   "source": [
    "def __ml_fit(X, a, b, c):\n",
    "    mag, hdist = X\n",
    "    return 10**( mag - a*np.log10(hdist) - b*hdist - c )\n",
    "\n",
    "\n",
    "def __predict_amplitude(X, a, b, c):\n",
    "    mag, hdist = X\n",
    "    return 10**( mag - a*np.log10(hdist) - b*hdist - c )\n",
    "\n",
    "\n",
    "def __predict_magnitude(X, a, b, c):\n",
    "    amax, hdist = X\n",
    "    return np.log10(amax) + a*np.log10(hdist)+ b*hdist + c\n"
   ]
  },
  {
   "cell_type": "code",
   "execution_count": null,
   "id": "834ecdd8-2574-4e92-b987-7800166c1df3",
   "metadata": {
    "tags": []
   },
   "outputs": [],
   "source": [
    "mag_grey = np.array(events_not_triggered.magnitude)\n",
    "hdist_grey = np.array(events_not_triggered.Hdistance_km)\n",
    "\n",
    "## select amplitude data\n",
    "amax_n = np.array(data_amax.BSPF__N_amax)\n",
    "amax_e = np.array(data_amax.BSPF__E_amax)\n",
    "amax_z = np.array(data_amax.BSPF__Z_amax)\n",
    "\n",
    "amax_all = np.sqrt(amax_n**2 + amax_e**2 + amax_z**2) #/2 /np.pi\n",
    "\n",
    "## create uncertainties\n",
    "data_amax['sigma'] = 1.0*np.ones(data_amax.shape[0])\n",
    "data_amax['sigma'] = data_amax.sigma.where(data_amax.Magnitude > 2.5, 0.5)\n",
    "sigmas = np.array(data_amax.sigma)\n",
    "\n",
    "## select hypocentral distances and magnitudes\n",
    "hdist_all = np.array(data_amax.Hdistance_km)\n",
    "mag_all = np.array(data_amax.Magnitude)\n",
    "\n",
    "## Append M62 event data\n",
    "amax_all = np.append(amax_all, np.sqrt(5.4e-07**2 + 5.3e-07**2 + 1.4e-06**2)) #/2 /np.pi\n",
    "mag_all = np.append(mag_all, 6.2)\n",
    "hdist_all = np.append(hdist_all, 312)\n",
    "sigmas = np.append(sigmas, 0.1)\n",
    "\n",
    "\n",
    "## perform data fitting\n",
    "# p0 = (1.11, 0.00189, 2.09)\n",
    "popt_all, pcov_all = curve_fit(__ml_fit, (mag_all, hdist_all), amax_all,\n",
    "                               check_finite=True,\n",
    "                               p0=(1., -0.00001, .1),\n",
    "                               bounds=([-10, -1, -10],[10, 1, 10]),\n",
    "                               sigma=sigmas,\n",
    "                              )\n",
    "\n",
    "# popt_all[0], popt_all[1], popt_all[2] = 3.5, 0.0002, 3.0\n",
    "\n",
    "\n",
    "\n",
    "## output the new laws\n",
    "print(f\"\\n Ml =  log10(Amax) + {popt_all[0]:.2f} log10(R) + {popt_all[1]:.5f} * R + {popt_all[2]:.2f}\")\n",
    "\n",
    "## generate synthetic magnitudes\n",
    "# syn_data_all = __predict_amplitude((mag_all, hdist_all), popt_all[0], popt_all[1], popt_all[2])\n",
    "\n",
    "## compute differences of magnitudes and synthetics\n",
    "# diff_syn_all = mag_all-syn_data_all\n",
    "\n",
    "\n",
    "## compute synthetic maximal amplitudes\n",
    "amax_syn_all = __predict_amplitude((mag_all, hdist_all), popt_all[0], popt_all[1], popt_all[1])\n",
    "\n",
    "amax_syn_grey = __predict_amplitude((mag_grey, hdist_grey), popt_all[0], popt_all[1], popt_all[2])\n",
    "\n",
    "\n",
    "## ______________________________________\n",
    "\n",
    "a_all, b_all, c_all = popt_all[0], popt_all[1], popt_all[2]\n",
    "\n",
    "\n",
    "hdist_syn = np.arange(1, 350+1, 0.5)\n",
    "mag_syn = np.arange(-1, 6.5+0.1, 0.05)\n",
    "\n",
    "amax_syn_all = np.zeros((len(hdist_syn), len(mag_syn)))\n",
    "\n",
    "for i, h in enumerate(hdist_syn):\n",
    "    for j, m in enumerate(mag_syn):\n",
    "        amax_syn_all[i, j] = __predict_amplitude((m, h), a_all, b_all, c_all)\n",
    "\n",
    "\n",
    "# ## blueSeis self-noise\n",
    "# limit = 1.5e-7  #/2 /np.pi ## rad/s/Hz\n",
    "# mag_limit_all = __predict_magnitude((limit, hdist_syn), a_all, b_all, c_all)\n",
    "\n",
    "\n",
    "## blueSeis self-noise\n",
    "limit_1hz = 1.0e-8  #/2 /np.pi ## rad/s/Hz\n",
    "mag_limit_all_1hz = __predict_magnitude((limit_1hz, hdist_syn), a_all, b_all, c_all)\n",
    "\n",
    "limit_10hz = 3.0e-8  #/2 /np.pi ## rad/s/Hz\n",
    "mag_limit_all_10hz = __predict_magnitude((limit_10hz, hdist_syn), a_all, b_all, c_all)\n"
   ]
  },
  {
   "cell_type": "code",
   "execution_count": null,
   "id": "b12874b0-6e91-480c-bdc2-789f8cc459ad",
   "metadata": {
    "tags": []
   },
   "outputs": [],
   "source": [
    "def __makeplot_all2():\n",
    "\n",
    "    import matplotlib as mpl\n",
    "    import matplotlib.pyplot as plt\n",
    "    from matplotlib.ticker import LogFormatterExponent # <-- one new import here\n",
    "\n",
    "    fig, ax = plt.subplots(1, 1, figsize=(10, 5), sharey=True)\n",
    "\n",
    "    font = 12\n",
    "\n",
    "    plt.subplots_adjust(wspace=0.05)\n",
    "\n",
    "    cmap = mpl.colormaps['viridis'].resampled(14)\n",
    "    # cmap = mpl.colormaps['jet'].resampled(28)\n",
    "    cmap.set_under('black')\n",
    "    cmap.set_over('red')\n",
    "\n",
    "\n",
    "    # amin_all, amax_all = min(amax_syn_all.reshape(1, amax_syn_all.size)[0]), max(amax_syn_all.reshape(1, amax_syn_all.size)[0])\n",
    "\n",
    "    lev = np.array([1e-14, 1e-13, 1e-12, 1e-11, 1e-10, 1e-9, 1e-8, 1e-7, 1e-6, 1e-5, 1e-4, 1e-3, 1e-2, 1e-1, 1e0])\n",
    "\n",
    "    amin, amax = min(lev), max(lev)\n",
    "\n",
    "    lev_lbl = np.log10(lev)\n",
    "\n",
    "\n",
    "    ax.scatter(mag_all, hdist_all, c=amax_all, s=30, cmap=cmap, edgecolors=\"black\", alpha=0.7, lw=0.5, zorder=3, norm=mpl.colors.LogNorm(vmin=amin, vmax=amax), label=r\"A$_{max} $ (used for fitting)\")\n",
    "\n",
    "    ax.scatter(mag_grey, hdist_grey, s=20, color=\"grey\", edgecolors=\"black\", lw=0.5, zorder=2, alpha=0.5, label=\"all (not triggered)\")\n",
    "\n",
    "\n",
    "    cb0 = ax.contourf(mag_syn, hdist_syn, amax_syn_all, cmap=cmap, norm=mpl.colors.LogNorm(vmin=amin, vmax=amax), levels=lev)\n",
    "    # cb0 = ax.contourf(mag_syn, hdist_syn, amax_syn_all, cmap=cmap, levels=lev)\n",
    "\n",
    "    # ax.plot(mag_limit_all, hdist_syn, color=\"tab:red\", ls=\"--\", label=f\"self-noise: {limit} rad/s\")\n",
    "    ax.plot(mag_limit_all_1hz, hdist_syn, color=\"tab:red\", ls=\"--\", label=f\"self-noise @ 1Hz:  {limit_1hz} rad/s\")\n",
    "    ax.plot(mag_limit_all_10hz, hdist_syn, color=\"tab:orange\", ls=\"--\", label=f\"self-noise @10Hz: {limit_10hz} rad/s\")\n",
    "\n",
    "    ax.set_xlim(-1, 6.5)\n",
    "    ax.set_ylim(0, 350)\n",
    "\n",
    "    cbar0 = plt.colorbar(cb0, ax=ax, extend='both')\n",
    "    # cbar0.set_ticklabels(lev_lbl)\n",
    "    cbar0.set_label(r\"$A_{max} = \\sqrt{N^2 + E^2 + Z^2}$ (rad/s)\", labelpad=-70, fontsize=font)\n",
    "\n",
    "    ax.set_xlabel(\"Magnitude\", fontsize=font)\n",
    "    ax.set_ylabel(\"Hypocentral Distance (km)\", fontsize=font)\n",
    "\n",
    "    ax.set_title(r\"BSPF:  M = log$_{10}$(A$_{max}$)\" + f\" + {popt_all[0]:.2f}\"+ r\" log$_{10}$\" + \"(R)\" + f\"+ {popt_all[1]:.5f} R\" + f\" + {popt_all[2]:.2f}\")\n",
    "\n",
    "    ax.legend(loc=2)\n",
    "\n",
    "    plt.show();\n",
    "    return fig\n",
    "\n",
    "fig = __makeplot_all2();\n",
    "\n",
    "fig.savefig(config['path_to_figs']+\"BSPF_model_magnitudescale_overview2.png\", format=\"png\", dpi=200, bbox_inches='tight')"
   ]
  },
  {
   "cell_type": "markdown",
   "id": "3b6023ee-79fc-4812-94e7-d28352546d9f",
   "metadata": {
    "tags": []
   },
   "source": [
    "## Minimal Amplitude"
   ]
  },
  {
   "cell_type": "code",
   "execution_count": null,
   "id": "11e0d897-3f80-4c33-928c-a173c1b6ab6b",
   "metadata": {
    "tags": []
   },
   "outputs": [],
   "source": [
    "def __predict_local_magnitude(X, a, b, c):\n",
    "    amp, hdist = X\n",
    "    return np.log10(amp) + a*np.log10(hdist) + b*hdist + c"
   ]
  },
  {
   "cell_type": "code",
   "execution_count": null,
   "id": "55443b85-f117-4fd9-b60b-bacee38699ce",
   "metadata": {
    "tags": []
   },
   "outputs": [],
   "source": [
    "\n",
    "a_n, b_n, c_n = popt_all[0], popt_all[1], popt_all[2]\n",
    "a_e, b_e, c_e = popt_all[0], popt_all[1], popt_all[2]\n",
    "a_z, b_z, c_z = popt_all[0], popt_all[1], popt_all[2]\n",
    "\n",
    "\n",
    "hdist = np.arange(1, 200+1, 0.5)\n",
    "mag = np.arange(-1, 6.5+0.1, 0.05)\n",
    "\n",
    "amax_syn_n = np.zeros((len(hdist), len(mag)))\n",
    "amax_syn_e = np.zeros((len(hdist), len(mag)))\n",
    "amax_syn_z = np.zeros((len(hdist), len(mag)))\n",
    "\n",
    "for i, h in enumerate(hdist):\n",
    "    for j, m in enumerate(mag):\n",
    "        amax_syn_n[i, j] = __predict_amplitude((m, h), a_n, b_n, c_n)\n",
    "        amax_syn_e[i, j] = __predict_amplitude((m, h), a_e, b_e, c_e)\n",
    "        amax_syn_z[i, j] = __predict_amplitude((m, h), a_z, b_z, c_z)\n",
    "\n",
    "\n",
    "bspf_e = data_amax.BSPF__E_amax\n",
    "bspf_n = data_amax.BSPF__N_amax\n",
    "bspf_z = data_amax.BSPF__Z_amax\n",
    "\n",
    "bspf_mag = data_amax.Magnitude\n",
    "bspf_hdist = data_amax.Hdistance_km\n",
    "\n",
    "## blueSeis self-noise\n",
    "limit_1hz = 1.0e-8  #/2 /np.pi ## rad/s/Hz\n",
    "mag_limit_all_1hz = __predict_magnitude((limit_1hz, hdist), a_all, b_all, c_all)\n",
    "\n",
    "limit_10hz = 3.0e-8  #/2 /np.pi ## rad/s/Hz\n",
    "mag_limit_all_10hz = __predict_magnitude((limit_10hz, hdist), a_all, b_all, c_all)\n"
   ]
  },
  {
   "cell_type": "code",
   "execution_count": null,
   "id": "6e599aa4-4eca-4806-bc77-b89ba4461356",
   "metadata": {
    "tags": []
   },
   "outputs": [],
   "source": [
    "def __makeplot_single():\n",
    "\n",
    "    import matplotlib as mpl\n",
    "    import matplotlib.pyplot as plt\n",
    "    from matplotlib.ticker import LogFormatterExponent # <-- one new import here\n",
    "\n",
    "    fig, ax = plt.subplots(1, 3, figsize=(15, 5), sharey=True)\n",
    "\n",
    "    font = 12\n",
    "\n",
    "    plt.subplots_adjust(wspace=0.05)\n",
    "\n",
    "    cmap = mpl.colormaps['viridis'].resampled(16)\n",
    "    # cmap = mpl.colormaps['rainbow'].resampled(11)\n",
    "    # cmap.set_under('gray')\n",
    "\n",
    "\n",
    "    amin_n, amax_n = min(amax_syn_n.reshape(1, amax_syn_n.size)[0]), max(amax_syn_n.reshape(1, amax_syn_n.size)[0])\n",
    "    amin_e, amax_e = min(amax_syn_e.reshape(1, amax_syn_e.size)[0]), max(amax_syn_e.reshape(1, amax_syn_e.size)[0])\n",
    "    amin_z, amax_z = min(amax_syn_z.reshape(1, amax_syn_z.size)[0]), max(amax_syn_z.reshape(1, amax_syn_z.size)[0])\n",
    "\n",
    "    amin, amax = min(amin_n, amin_e, amin_z), max(amax_n, amax_e, amax_z)\n",
    "\n",
    "    # lev = np.logspace(round(np.log10(amin),0), round(np.log10(amax),0), 10)\n",
    "    # lev = np.logspace(amin, amax, levels)\n",
    "    # lev_lbl = np.linspace(amin, amax, levels).astype(int)\n",
    "    lev = np.array([1e-13, 1e-12, 1e-11, 1e-10, 1e-9, 1e-8, 1e-7, 1e-6, 1e-5, 1e-4, 1e-3, 1e-2, 1e-1, 1e0, 1e1, 1e2])\n",
    "\n",
    "    amin, amax = min(lev), max(lev)\n",
    "\n",
    "    lev_lbl = np.log10(lev)\n",
    "\n",
    "    ax[0].scatter(bspf_mag, bspf_hdist, c=bspf_n, s=30, cmap=cmap, edgecolors=\"black\", lw=0.5, zorder=3,\n",
    "                  norm=mpl.colors.LogNorm(vmin=amin, vmax=amax))\n",
    "    cb0 = ax[0].contourf(mag, hdist, amax_syn_n, cmap=cmap, norm=mpl.colors.LogNorm(vmin=amin, vmax=amax), levels=lev)\n",
    "\n",
    "\n",
    "    cb1 = ax[1].scatter(bspf_mag, bspf_hdist, c=bspf_e, s=30, cmap=cmap, edgecolors=\"black\", lw=0.5, zorder=3,\n",
    "                        norm=mpl.colors.LogNorm(vmin=amin, vmax=amax))\n",
    "    ax[1].contourf(mag, hdist, amax_syn_e, cmap=cmap, norm=mpl.colors.LogNorm(vmin=amin, vmax=amax), levels=lev)\n",
    "\n",
    "\n",
    "    cb2 = ax[2].scatter(bspf_mag, bspf_hdist, c=bspf_z, s=30, cmap=cmap, edgecolors=\"black\", lw=0.5, zorder=3,\n",
    "                        norm=mpl.colors.LogNorm(vmin=amin_z, vmax=amax_z))\n",
    "    ax[2].contourf(mag, hdist, amax_syn_z, cmap=cmap, norm=mpl.colors.LogNorm(vmin=amin, vmax=amax), levels=lev)\n",
    "\n",
    "\n",
    "\n",
    "    for jj in range(3):\n",
    "        ax[jj].set_xlim(-1, 6.5)\n",
    "        ax[jj].set_ylim(1, 200)\n",
    "        ax[jj].plot(mag_limit_all_1hz, hdist, color=\"tab:red\", ls=\"--\")\n",
    "        ax[jj].plot(mag_limit_all_10hz, hdist, color=\"tab:orange\", ls=\"--\")\n",
    "\n",
    "    cbar0 = plt.colorbar(cb0, ax=ax, extend='min')\n",
    "    # cbar0.set_ticklabels(lev_lbl)\n",
    "    cbar0.set_label(\"Amplitude (rad/s)\", labelpad=-70, fontsize=font)\n",
    "\n",
    "    ax[0].set_xlabel(\"Magnitude\", fontsize=font)\n",
    "    ax[0].set_ylabel(\"Hypocentral Distance (km)\", fontsize=font)\n",
    "    ax[1].set_xlabel(\"Magnitude\", fontsize=font)\n",
    "    ax[2].set_xlabel(\"Magnitude\", fontsize=font)\n",
    "\n",
    "    # ax[1].set_ylabel(\"Hypocentral Distance (km)\")\n",
    "\n",
    "    ax[0].set_title(\"BSPF-N\")\n",
    "    ax[0].set_title(\"BSPF-N\")\n",
    "    ax[1].set_title(\"BSPF-E\")\n",
    "    ax[2].set_title(\"BSPF-Z\")\n",
    "\n",
    "    plt.show();\n",
    "    return fig"
   ]
  },
  {
   "cell_type": "code",
   "execution_count": null,
   "id": "4afd96a8-7798-4cb5-ad8e-aa31979bcff2",
   "metadata": {
    "tags": []
   },
   "outputs": [],
   "source": [
    "fig = __makeplot_single();\n",
    "\n",
    "fig.savefig(config['path_to_figs']+\"BSPF_model_magnitudescale_components.png\", format=\"png\", dpi=200, bbox_inches='tight')"
   ]
  },
  {
   "cell_type": "code",
   "execution_count": null,
   "id": "c20ec98f-934e-47f6-98fc-24fb423f5915",
   "metadata": {},
   "outputs": [],
   "source": []
  },
  {
   "cell_type": "code",
   "execution_count": null,
   "id": "8b7961b5-5715-45a7-97de-aedb0100957f",
   "metadata": {
    "tags": []
   },
   "outputs": [],
   "source": []
  }
 ],
 "metadata": {
  "kernelspec": {
   "display_name": "Python 3 (ipykernel)",
   "language": "python",
   "name": "python3"
  },
  "language_info": {
   "codemirror_mode": {
    "name": "ipython",
    "version": 3
   },
   "file_extension": ".py",
   "mimetype": "text/x-python",
   "name": "python",
   "nbconvert_exporter": "python",
   "pygments_lexer": "ipython3",
   "version": "3.10.12"
  },
  "toc": {
   "base_numbering": 1,
   "nav_menu": {},
   "number_sections": true,
   "sideBar": true,
   "skip_h1_title": false,
   "title_cell": "Table of Contents",
   "title_sidebar": "Contents",
   "toc_cell": false,
   "toc_position": {},
   "toc_section_display": true,
   "toc_window_display": false
  },
  "varInspector": {
   "cols": {
    "lenName": 16,
    "lenType": 16,
    "lenVar": 40
   },
   "kernels_config": {
    "python": {
     "delete_cmd_postfix": "",
     "delete_cmd_prefix": "del ",
     "library": "var_list.py",
     "varRefreshCmd": "print(var_dic_list())"
    },
    "r": {
     "delete_cmd_postfix": ") ",
     "delete_cmd_prefix": "rm(",
     "library": "var_list.r",
     "varRefreshCmd": "cat(var_dic_list()) "
    }
   },
   "types_to_exclude": [
    "module",
    "function",
    "builtin_function_or_method",
    "instance",
    "_Feature"
   ],
   "window_display": false
  }
 },
 "nbformat": 4,
 "nbformat_minor": 5
}
