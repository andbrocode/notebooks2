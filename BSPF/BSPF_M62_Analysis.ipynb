{
 "cells": [
  {
   "cell_type": "markdown",
   "id": "26ad060e",
   "metadata": {
    "ExecuteTime": {
     "end_time": "2022-09-13T00:35:24.926376Z",
     "start_time": "2022-09-13T00:35:24.923877Z"
    }
   },
   "source": [
    "# Analyse BlueSeis BSPF Events"
   ]
  },
  {
   "cell_type": "markdown",
   "id": "fa47ca0c",
   "metadata": {},
   "source": [
    "## Imports and Paths"
   ]
  },
  {
   "cell_type": "code",
   "execution_count": 1,
   "id": "7ae027cf",
   "metadata": {
    "ExecuteTime": {
     "end_time": "2023-04-05T16:30:44.374156Z",
     "start_time": "2023-04-05T16:30:42.823021Z"
    },
    "tags": []
   },
   "outputs": [],
   "source": [
    "import os\n",
    "import obspy as obs\n",
    "import matplotlib.pyplot as plt\n",
    "import numpy as np\n",
    "\n",
    "from obspy.clients.fdsn import Client\n",
    "\n",
    "from functions.request_data import __request_data\n",
    "from functions.compute_adr_pfo import __compute_adr_pfo\n",
    "from functions.compute_beamforming_pfo import __compute_beamforming_pfo"
   ]
  },
  {
   "cell_type": "code",
   "execution_count": 2,
   "id": "8cfc93b5-07b8-4d53-806a-99176e9700ad",
   "metadata": {
    "tags": []
   },
   "outputs": [],
   "source": [
    "if os.uname().nodename == 'lighthouse':\n",
    "    root_path = '/home/andbro/'\n",
    "    data_path = '/home/andbro/kilauea-data/'\n",
    "    archive_path = '/home/andbro/freenas/'\n",
    "elif os.uname().nodename == 'kilauea':\n",
    "    root_path = '/home/brotzer/'\n",
    "    data_path = '/import/kilauea-data/'\n",
    "    archive_path = '/import/freenas-ffb-01-data/'"
   ]
  },
  {
   "cell_type": "markdown",
   "id": "a9cfd05f",
   "metadata": {},
   "source": [
    "## Configurations"
   ]
  },
  {
   "cell_type": "code",
   "execution_count": 3,
   "id": "42cd60e7",
   "metadata": {
    "ExecuteTime": {
     "end_time": "2023-04-05T16:32:26.446824Z",
     "start_time": "2023-04-05T16:32:26.444464Z"
    },
    "tags": []
   },
   "outputs": [],
   "source": [
    "config = {}\n",
    "\n",
    "## output path for figures\n",
    "config['path_to_figs'] = data_path+\"BSPF/figures/M62_event/\"\n",
    "\n",
    "\n",
    "## BSPF coordinates\n",
    "config['BSPF_lon'] = -116.455439\n",
    "config['BSPF_lat'] = 33.610643\n",
    "\n",
    "## Event M62\n",
    "config['tbeg'] = obs.UTCDateTime(\"2022-11-22 16:40:15\")\n",
    "config['tend'] = obs.UTCDateTime(\"2022-11-22 16:42:30\")\n",
    "\n",
    "# config['fmin'] = 1\n",
    "# config['fmax'] = 5.0"
   ]
  },
  {
   "cell_type": "markdown",
   "id": "47ff88ba",
   "metadata": {},
   "source": [
    "## Load Data"
   ]
  },
  {
   "cell_type": "code",
   "execution_count": 4,
   "id": "478cd310-9e08-475c-b927-e0928b65b280",
   "metadata": {
    "tags": []
   },
   "outputs": [],
   "source": [
    "event = Client(\"USGS\").get_events(starttime=config['tbeg']-120, endtime=config['tend'], minmagnitude=4.0)\n",
    "event = event[0]\n",
    "\n",
    "## Eventtime\n",
    "config['eventtime'] = event.origins[0].time"
   ]
  },
  {
   "cell_type": "code",
   "execution_count": 5,
   "id": "c6146fbf-e066-4b01-a5f1-05bc8c78d75d",
   "metadata": {
    "tags": []
   },
   "outputs": [
    {
     "name": "stderr",
     "output_type": "stream",
     "text": [
      "/tmp/ipykernel_250130/2131682089.py:7: DeprecationWarning: `alltrue` is deprecated as of NumPy 1.25.0, and will be removed in NumPy 2.0. Please use `all` instead.\n",
      "  dist, az, baz = gps2dist_azimuth(ev_lat, ev_lon,\n"
     ]
    },
    {
     "data": {
      "text/plain": [
       "(312.4427726684824, 358.8977338594426, 178.8632234903398)"
      ]
     },
     "execution_count": 5,
     "metadata": {},
     "output_type": "execute_result"
    }
   ],
   "source": [
    "ev_lon = event.origins[0].longitude\n",
    "ev_lat = event.origins[0].latitude\n",
    "\n",
    "from obspy.geodetics.base import gps2dist_azimuth\n",
    "\n",
    "\n",
    "dist, az, baz = gps2dist_azimuth(ev_lat, ev_lon,\n",
    "                                 config['BSPF_lat'], config['BSPF_lon'],\n",
    "                                 )\n",
    "dist/1000, az, baz"
   ]
  },
  {
   "cell_type": "code",
   "execution_count": 6,
   "id": "2bb41360-6552-43ef-9661-178c5688c8f5",
   "metadata": {
    "ExecuteTime": {
     "end_time": "2023-04-05T16:32:28.848402Z",
     "start_time": "2023-04-05T16:32:27.388915Z"
    },
    "tags": []
   },
   "outputs": [],
   "source": [
    "st0 = obs.read(\"./data/event62_6c.mseed\")\n",
    "\n",
    "submask = \"mi\"\n",
    "\n",
    "config['fmin'] = 0.1\n",
    "config['fmax'] = 0.5\n",
    "\n",
    "# for tr in st0:\n",
    "#     if \"BSPF\" in tr.stats.station:\n",
    "#         tr.data = np.roll(tr.data, 4)\n",
    "\n",
    "bspf0 = st0.select(station=\"BSPF\").copy()\n",
    "pfo0 = st0.select(station=\"PFO*\").copy()\n",
    "adr0 = st0.select(station=\"RPFO\", location=submask[:2]).copy()"
   ]
  },
  {
   "cell_type": "code",
   "execution_count": 19,
   "id": "1c52622b-25de-4a3c-9ead-7b5b397a110e",
   "metadata": {
    "tags": []
   },
   "outputs": [],
   "source": [
    "def __get_stream(tbeg, tend, status=False):\n",
    "\n",
    "    from functions.request_data import __request_data\n",
    "    from functions.compute_adr_pfo import __compute_adr_pfo\n",
    "\n",
    "    try:\n",
    "        ##load rotation\n",
    "        bspf0, bspf_inv = __request_data(\"PY.BSPF..HJ*\", tbeg-100, tend+100)\n",
    "        # bspf0 = bspf0.resample(40, no_filter=False);\n",
    "\n",
    "        # bspf0 = bspf0.detrend(\"linear\").taper(0.01).filter(\"lowpass\", freq=18.0, corners=4, zerophase=True)\n",
    "        # bspf0 = bspf0.decimate(5, no_filter=True) ## 200 -> 40 Hz\n",
    "        # bspf0 = bspf0.decimate(2, no_filter=True) ## 40 -> 20 Hz\n",
    "        # bspf0 = bspf0.trim(tbeg, tend)\n",
    "\n",
    "        ## load translation\n",
    "        if tbeg > \"2023-04-02\":\n",
    "            pfo0, pfo_inv = __request_data(\"PY.PFOIX..HH*\", tbeg-100, tend+100, translation_type=\"ACC\")\n",
    "            # pfo0 = pfo0.resample(40, no_filter=False);\n",
    "\n",
    "            # pfo0 = pfo0.detrend(\"linear\").taper(0.01).filter(\"lowpass\", freq=18.0, corners=4, zerophase=True)\n",
    "            # pfo0 = pfo0.decimate(5, no_filter=True) ## 200 -> 40 Hz\n",
    "            # pfo0 = pfo0.decimate(2, no_filter=True) ## 40 -> 20 Hz\n",
    "            # pfo0 = pfo0.trim(tbeg, tend)\n",
    "\n",
    "        else:\n",
    "            pfo0, pfo_inv = __request_data(\"II.PFO.10.BH*\", tend-100, tbeg+100, translation_type=\"ACC\")\n",
    "            # pfo0 = pfo0.resample(40, no_filter=False);\n",
    "\n",
    "            # pfo0 = pfo0.detrend(\"linear\").taper(0.01).filter(\"lowpass\", freq=18.0, corners=4, zerophase=True)\n",
    "            # pfo0 = pfo0.decimate(2, no_filter=True) ## 40 -> 20 Hz\n",
    "            # pfo0 = pfo0.trim(tbeg, tend])\n",
    "    except:\n",
    "        pass\n",
    "\n",
    "    # merge to one stream\n",
    "    st0 = bspf0.copy();\n",
    "    st0 += pfo0.copy();\n",
    "\n",
    "    ## ADR\n",
    "    submask = \"inner\"\n",
    "    try:\n",
    "        if status:\n",
    "            adr0, status = __compute_adr_pfo(tbeg-100, tend+100, submask=submask, status=True)\n",
    "        else:\n",
    "            adr0 = __compute_adr_pfo(tbeg-100, tend+100, submask=submask, status=False)\n",
    "\n",
    "        for tr in adr0:\n",
    "            tr.stats.location = \"in\"\n",
    "        st0 += adr0.copy();\n",
    "    except Exception as e:\n",
    "        print(e)\n",
    "        pass\n",
    "\n",
    "\n",
    "    submask = \"mid\"\n",
    "    try:\n",
    "        if status:\n",
    "            adr0, status = __compute_adr_pfo(tbeg-100, tend+100, submask=submask, status=True)\n",
    "        else:\n",
    "            adr0 = __compute_adr_pfo(tbeg-100, tend+100, submask=submask, status=False)\n",
    "\n",
    "        for tr in adr0:\n",
    "            tr.stats.location = \"mi\"\n",
    "        st0 += adr0.copy();\n",
    "    except Exception as e:\n",
    "        print(e)\n",
    "        pass\n",
    "\n",
    "\n",
    "    submask = \"all\"\n",
    "    try:\n",
    "        if status:\n",
    "            adr0, status = __compute_adr_pfo(tbeg-100, tend+100, submask=submask, status=True)\n",
    "        else:\n",
    "            adr0 = __compute_adr_pfo(tbeg-100, tend+100, submask=submask, status=False)\n",
    "\n",
    "        for tr in adr0:\n",
    "            tr.stats.location = \"al\"\n",
    "        st0 += adr0.copy();\n",
    "    except Exception as e:\n",
    "        print(e)\n",
    "        pass\n",
    "\n",
    "    st0.resample(40, no_filter=False);\n",
    "\n",
    "    st0.sort();\n",
    "\n",
    "    st0.trim(tbeg, tend);\n",
    "\n",
    "    return st0"
   ]
  },
  {
   "cell_type": "code",
   "execution_count": 20,
   "id": "18019b13-3a6c-4143-89f5-7bf700fa7e0a",
   "metadata": {
    "ExecuteTime": {
     "end_time": "2023-04-05T16:32:28.848402Z",
     "start_time": "2023-04-05T16:32:27.388915Z"
    },
    "tags": []
   },
   "outputs": [
    {
     "name": "stdout",
     "output_type": "stream",
     "text": [
      " -> sensitivity removed!\n",
      " -> response removed!\n",
      " -> getting waveforms failed for PY.BPH02..BH* ...\n",
      " -> getting waveforms failed for PY.BPH03..BH* ...\n",
      " -> continue computing ADR for 3 of 5 stations ...\n",
      " -> bandpass: 1.0 - 6.0 Hz\n",
      "\n",
      " -> Runtime: 0.43 minutes\n",
      " -> getting waveforms failed for PY.BPH02..BH* ...\n",
      " -> getting waveforms failed for PY.BPH03..BH* ...\n",
      " -> getting waveforms failed for PY.BPH05..BH* ...\n",
      " -> continue computing ADR for 6 of 9 stations ...\n",
      " -> bandpass: 0.5 - 1.0 Hz\n",
      "\n",
      " -> Runtime: 0.84 minutes\n",
      " -> getting waveforms failed for PY.BPH02..BH* ...\n",
      " -> getting waveforms failed for PY.BPH03..BH* ...\n",
      " -> getting waveforms failed for PY.BPH05..BH* ...\n",
      " -> continue computing ADR for 11 of 14 stations ...\n",
      " -> bandpass: 0.1 - 0.5 Hz\n",
      "\n",
      " -> Runtime: 1.38 minutes\n"
     ]
    }
   ],
   "source": [
    "from functions.get_stream import __get_stream\n",
    "\n",
    "st0 = __get_stream(config['tbeg'], config['tend'])\n",
    "\n",
    "st0.write(\"./data/event62_6c.mseed\", format=\"MSEED\")\n",
    "\n",
    "# # st0.plot(equal_scale=False);"
   ]
  },
  {
   "cell_type": "code",
   "execution_count": 21,
   "id": "c6f6e6a4-5717-4615-a176-840f0484fe3e",
   "metadata": {
    "tags": []
   },
   "outputs": [
    {
     "data": {
      "text/plain": [
       "15 Trace(s) in Stream:\n",
       "II.PFO.10.BHE  | 2022-11-22T16:40:49.994538Z - 2022-11-22T16:41:54.994538Z | 40.0 Hz, 2601 samples\n",
       "II.PFO.10.BHN  | 2022-11-22T16:40:49.994538Z - 2022-11-22T16:41:54.994538Z | 40.0 Hz, 2601 samples\n",
       "II.PFO.10.BHZ  | 2022-11-22T16:40:49.994538Z - 2022-11-22T16:41:54.994538Z | 40.0 Hz, 2601 samples\n",
       "II.RPFO.al.BJE | 2022-11-22T16:40:14.996685Z - 2022-11-22T16:42:29.996685Z | 40.0 Hz, 5401 samples\n",
       "II.RPFO.al.BJN | 2022-11-22T16:40:14.996685Z - 2022-11-22T16:42:29.996685Z | 40.0 Hz, 5401 samples\n",
       "II.RPFO.al.BJZ | 2022-11-22T16:40:14.996685Z - 2022-11-22T16:42:29.996685Z | 40.0 Hz, 5401 samples\n",
       "II.RPFO.in.BJE | 2022-11-22T16:40:14.996113Z - 2022-11-22T16:42:29.996113Z | 40.0 Hz, 5401 samples\n",
       "II.RPFO.in.BJN | 2022-11-22T16:40:14.996113Z - 2022-11-22T16:42:29.996113Z | 40.0 Hz, 5401 samples\n",
       "II.RPFO.in.BJZ | 2022-11-22T16:40:14.996113Z - 2022-11-22T16:42:29.996113Z | 40.0 Hz, 5401 samples\n",
       "II.RPFO.mi.BJE | 2022-11-22T16:40:14.996506Z - 2022-11-22T16:42:29.996506Z | 40.0 Hz, 5401 samples\n",
       "II.RPFO.mi.BJN | 2022-11-22T16:40:14.996506Z - 2022-11-22T16:42:29.996506Z | 40.0 Hz, 5401 samples\n",
       "II.RPFO.mi.BJZ | 2022-11-22T16:40:14.996506Z - 2022-11-22T16:42:29.996506Z | 40.0 Hz, 5401 samples\n",
       "PY.BSPF..HJE   | 2022-11-22T16:40:15.001000Z - 2022-11-22T16:42:30.001000Z | 40.0 Hz, 5401 samples\n",
       "PY.BSPF..HJN   | 2022-11-22T16:40:15.001000Z - 2022-11-22T16:42:30.001000Z | 40.0 Hz, 5401 samples\n",
       "PY.BSPF..HJZ   | 2022-11-22T16:40:15.001000Z - 2022-11-22T16:42:30.001000Z | 40.0 Hz, 5401 samples"
      ]
     },
     "execution_count": 21,
     "metadata": {},
     "output_type": "execute_result"
    }
   ],
   "source": [
    "st0"
   ]
  },
  {
   "cell_type": "markdown",
   "id": "a43a4942-0e14-494a-be52-8d7d22e8ed80",
   "metadata": {},
   "source": [
    "## Create stream for all data"
   ]
  },
  {
   "cell_type": "code",
   "execution_count": 16,
   "id": "817e91da-c6a1-4de5-acaf-baae23233b73",
   "metadata": {
    "tags": []
   },
   "outputs": [],
   "source": [
    "def __makeplot_waveform_comparison_all(st_in):\n",
    "\n",
    "    from obspy.signal.cross_correlation import correlate\n",
    "\n",
    "    st = st_in.copy()\n",
    "\n",
    "    # st = st.trim(st[0].stats.starttime+5, st[0].stats.endtime-15).copy()\n",
    "\n",
    "    fig, ax = plt.subplots(9, 1, figsize=(15, 15), sharex=True)\n",
    "\n",
    "    lw = 1.2\n",
    "\n",
    "    font = 12\n",
    "\n",
    "    fband = [(1.0, 6.0), (0.5, 1.0), (0.1, 0.5)]\n",
    "\n",
    "    offset = [0, 0, 0]\n",
    "\n",
    "    plt.subplots_adjust(hspace=0.05)\n",
    "\n",
    "    scaling = 1e6\n",
    "\n",
    "    idx = 0\n",
    "    for _m, array in enumerate([\"in\", \"mi\", \"al\"]):\n",
    "\n",
    "        _adr = st.select(location=array).copy()\n",
    "        _bspf = st.select(station=\"BSPF\").copy()\n",
    "\n",
    "        _bspf = _bspf.detrend(\"simple\").taper(0.1).filter(\"bandpass\", freqmin=fband[_m][0], freqmax=fband[_m][1], corners=4, zerophase=True)\n",
    "        _adr = _adr.detrend(\"simple\").taper(0.1).filter(\"bandpass\", freqmin=fband[_m][0], freqmax=fband[_m][1], corners=4, zerophase=True)\n",
    "\n",
    "        for _k, comp in enumerate([\"Z\", \"N\", \"E\"]):\n",
    "\n",
    "            ax[idx].plot(_bspf.select(channel=f\"*{comp}\")[0].times(), _bspf.select(channel=f\"*{comp}\")[0].data*scaling, label=f\"BSPF-{comp}\", color=\"k\", lw=lw)\n",
    "            ax[idx].plot(_adr.select(channel=f\"*{comp}\")[0].times(), _adr.select(channel=f\"*{comp}\")[0].data*scaling, label=f\"{array[0]}ADR-{comp}\", color=\"r\", lw=lw)\n",
    "\n",
    "            cc = round(correlate(_bspf.select(channel=f\"*{comp}\")[0].data, _adr.select(channel=f\"*{comp}\")[0].data, 0, demean=True, normalize='naive', method='auto')[0], 2)\n",
    "\n",
    "            rmse = np.round( np.sqrt( np.mean( ( ( _adr.select(channel=f\"*{comp}\")[0].data -_bspf.select(channel=f\"*{comp}\")[0].data )*scaling )**2 ) ), 3)\n",
    "\n",
    "            ax[idx].text(0.01, 0.9, f\"{fband[_m][0]}-{fband[_m][1]} Hz\", ha='left', va='top', transform=ax[idx].transAxes, fontsize=font-2)\n",
    "            ax[idx].text(0.08, 0.9, f\"CC={cc}\", ha='left', va='top', transform=ax[idx].transAxes, fontsize=font-2)\n",
    "            # ax[idx].text(0.15, 0.9, f\"RMSE={rmse}\", ha='left', va='top', transform=ax[idx].transAxes, fontsize=font-2)\n",
    "\n",
    "            ax[idx].legend(loc=1, ncols=4, fontsize=font-2)\n",
    "\n",
    "            # ax[idx].grid(which=\"both\", alpha=0.5)\n",
    "\n",
    "            ax[idx].set_ylabel(\"$\\Omega$ ($\\mu$rad/s)\", fontsize=font)\n",
    "\n",
    "            if idx < 8:\n",
    "                ax[idx].tick_params(axis='x', bottom=False)\n",
    "\n",
    "            for pos in [\"right\", \"top\", \"bottom\"]:\n",
    "                ax[idx].spines[pos].set_visible(False)\n",
    "\n",
    "            idx += 1\n",
    "\n",
    "    ax[idx-1].spines[\"bottom\"].set_visible(True)\n",
    "\n",
    "    ax[idx-1].set_xlabel(f\"Time (s) from {config['tbeg'].date} {str(config['tbeg'].time).split('.')[0]} UTC\", fontsize=font)\n",
    "\n",
    "    # ax[0].set_title(f\"{config['tbeg'].date} | {config['fmin']}-{config['fmax']} Hz | ADR {submask} | CC$_Z$ = {cc_Z} | CC$_N$ = {cc_N} | CC$_E$ = {cc_E}\")\n",
    "\n",
    "    plt.show();\n",
    "    return fig"
   ]
  },
  {
   "cell_type": "code",
   "execution_count": 17,
   "id": "e3c2ef6a-3a36-4c19-9161-2e56630215af",
   "metadata": {
    "tags": []
   },
   "outputs": [
    {
     "ename": "IndexError",
     "evalue": "list index out of range",
     "output_type": "error",
     "traceback": [
      "\u001b[0;31m---------------------------------------------------------------------------\u001b[0m",
      "\u001b[0;31mIndexError\u001b[0m                                Traceback (most recent call last)",
      "Cell \u001b[0;32mIn[17], line 1\u001b[0m\n\u001b[0;32m----> 1\u001b[0m fig \u001b[38;5;241m=\u001b[39m \u001b[43m__makeplot_waveform_comparison_all\u001b[49m\u001b[43m(\u001b[49m\u001b[43mst0\u001b[49m\u001b[43m)\u001b[49m;\n\u001b[1;32m      3\u001b[0m fig\u001b[38;5;241m.\u001b[39msavefig(config[\u001b[38;5;124m'\u001b[39m\u001b[38;5;124mpath_to_figs\u001b[39m\u001b[38;5;124m'\u001b[39m]\u001b[38;5;241m+\u001b[39m\u001b[38;5;124mf\u001b[39m\u001b[38;5;124m\"\u001b[39m\u001b[38;5;124mBSPF_M62_waveforms_all.png\u001b[39m\u001b[38;5;124m\"\u001b[39m, \u001b[38;5;28mformat\u001b[39m\u001b[38;5;241m=\u001b[39m\u001b[38;5;124m\"\u001b[39m\u001b[38;5;124mpng\u001b[39m\u001b[38;5;124m\"\u001b[39m, dpi\u001b[38;5;241m=\u001b[39m\u001b[38;5;241m200\u001b[39m, bbox_inches\u001b[38;5;241m=\u001b[39m\u001b[38;5;124m'\u001b[39m\u001b[38;5;124mtight\u001b[39m\u001b[38;5;124m'\u001b[39m)\n",
      "Cell \u001b[0;32mIn[16], line 35\u001b[0m, in \u001b[0;36m__makeplot_waveform_comparison_all\u001b[0;34m(st_in)\u001b[0m\n\u001b[1;32m     32\u001b[0m \u001b[38;5;28;01mfor\u001b[39;00m _k, comp \u001b[38;5;129;01min\u001b[39;00m \u001b[38;5;28menumerate\u001b[39m([\u001b[38;5;124m\"\u001b[39m\u001b[38;5;124mZ\u001b[39m\u001b[38;5;124m\"\u001b[39m, \u001b[38;5;124m\"\u001b[39m\u001b[38;5;124mN\u001b[39m\u001b[38;5;124m\"\u001b[39m, \u001b[38;5;124m\"\u001b[39m\u001b[38;5;124mE\u001b[39m\u001b[38;5;124m\"\u001b[39m]):\n\u001b[1;32m     34\u001b[0m     ax[idx]\u001b[38;5;241m.\u001b[39mplot(_bspf\u001b[38;5;241m.\u001b[39mselect(channel\u001b[38;5;241m=\u001b[39m\u001b[38;5;124mf\u001b[39m\u001b[38;5;124m\"\u001b[39m\u001b[38;5;124m*\u001b[39m\u001b[38;5;132;01m{\u001b[39;00mcomp\u001b[38;5;132;01m}\u001b[39;00m\u001b[38;5;124m\"\u001b[39m)[\u001b[38;5;241m0\u001b[39m]\u001b[38;5;241m.\u001b[39mtimes(), _bspf\u001b[38;5;241m.\u001b[39mselect(channel\u001b[38;5;241m=\u001b[39m\u001b[38;5;124mf\u001b[39m\u001b[38;5;124m\"\u001b[39m\u001b[38;5;124m*\u001b[39m\u001b[38;5;132;01m{\u001b[39;00mcomp\u001b[38;5;132;01m}\u001b[39;00m\u001b[38;5;124m\"\u001b[39m)[\u001b[38;5;241m0\u001b[39m]\u001b[38;5;241m.\u001b[39mdata\u001b[38;5;241m*\u001b[39mscaling, label\u001b[38;5;241m=\u001b[39m\u001b[38;5;124mf\u001b[39m\u001b[38;5;124m\"\u001b[39m\u001b[38;5;124mBSPF-\u001b[39m\u001b[38;5;132;01m{\u001b[39;00mcomp\u001b[38;5;132;01m}\u001b[39;00m\u001b[38;5;124m\"\u001b[39m, color\u001b[38;5;241m=\u001b[39m\u001b[38;5;124m\"\u001b[39m\u001b[38;5;124mk\u001b[39m\u001b[38;5;124m\"\u001b[39m, lw\u001b[38;5;241m=\u001b[39mlw)\n\u001b[0;32m---> 35\u001b[0m     ax[idx]\u001b[38;5;241m.\u001b[39mplot(\u001b[43m_adr\u001b[49m\u001b[38;5;241;43m.\u001b[39;49m\u001b[43mselect\u001b[49m\u001b[43m(\u001b[49m\u001b[43mchannel\u001b[49m\u001b[38;5;241;43m=\u001b[39;49m\u001b[38;5;124;43mf\u001b[39;49m\u001b[38;5;124;43m\"\u001b[39;49m\u001b[38;5;124;43m*\u001b[39;49m\u001b[38;5;132;43;01m{\u001b[39;49;00m\u001b[43mcomp\u001b[49m\u001b[38;5;132;43;01m}\u001b[39;49;00m\u001b[38;5;124;43m\"\u001b[39;49m\u001b[43m)\u001b[49m\u001b[43m[\u001b[49m\u001b[38;5;241;43m0\u001b[39;49m\u001b[43m]\u001b[49m\u001b[38;5;241m.\u001b[39mtimes(), _adr\u001b[38;5;241m.\u001b[39mselect(channel\u001b[38;5;241m=\u001b[39m\u001b[38;5;124mf\u001b[39m\u001b[38;5;124m\"\u001b[39m\u001b[38;5;124m*\u001b[39m\u001b[38;5;132;01m{\u001b[39;00mcomp\u001b[38;5;132;01m}\u001b[39;00m\u001b[38;5;124m\"\u001b[39m)[\u001b[38;5;241m0\u001b[39m]\u001b[38;5;241m.\u001b[39mdata\u001b[38;5;241m*\u001b[39mscaling, label\u001b[38;5;241m=\u001b[39m\u001b[38;5;124mf\u001b[39m\u001b[38;5;124m\"\u001b[39m\u001b[38;5;132;01m{\u001b[39;00marray[\u001b[38;5;241m0\u001b[39m]\u001b[38;5;132;01m}\u001b[39;00m\u001b[38;5;124mADR-\u001b[39m\u001b[38;5;132;01m{\u001b[39;00mcomp\u001b[38;5;132;01m}\u001b[39;00m\u001b[38;5;124m\"\u001b[39m, color\u001b[38;5;241m=\u001b[39m\u001b[38;5;124m\"\u001b[39m\u001b[38;5;124mr\u001b[39m\u001b[38;5;124m\"\u001b[39m, lw\u001b[38;5;241m=\u001b[39mlw)\n\u001b[1;32m     37\u001b[0m     cc \u001b[38;5;241m=\u001b[39m \u001b[38;5;28mround\u001b[39m(correlate(_bspf\u001b[38;5;241m.\u001b[39mselect(channel\u001b[38;5;241m=\u001b[39m\u001b[38;5;124mf\u001b[39m\u001b[38;5;124m\"\u001b[39m\u001b[38;5;124m*\u001b[39m\u001b[38;5;132;01m{\u001b[39;00mcomp\u001b[38;5;132;01m}\u001b[39;00m\u001b[38;5;124m\"\u001b[39m)[\u001b[38;5;241m0\u001b[39m]\u001b[38;5;241m.\u001b[39mdata, _adr\u001b[38;5;241m.\u001b[39mselect(channel\u001b[38;5;241m=\u001b[39m\u001b[38;5;124mf\u001b[39m\u001b[38;5;124m\"\u001b[39m\u001b[38;5;124m*\u001b[39m\u001b[38;5;132;01m{\u001b[39;00mcomp\u001b[38;5;132;01m}\u001b[39;00m\u001b[38;5;124m\"\u001b[39m)[\u001b[38;5;241m0\u001b[39m]\u001b[38;5;241m.\u001b[39mdata, \u001b[38;5;241m0\u001b[39m, demean\u001b[38;5;241m=\u001b[39m\u001b[38;5;28;01mTrue\u001b[39;00m, normalize\u001b[38;5;241m=\u001b[39m\u001b[38;5;124m'\u001b[39m\u001b[38;5;124mnaive\u001b[39m\u001b[38;5;124m'\u001b[39m, method\u001b[38;5;241m=\u001b[39m\u001b[38;5;124m'\u001b[39m\u001b[38;5;124mauto\u001b[39m\u001b[38;5;124m'\u001b[39m)[\u001b[38;5;241m0\u001b[39m], \u001b[38;5;241m2\u001b[39m)\n\u001b[1;32m     39\u001b[0m     rmse \u001b[38;5;241m=\u001b[39m np\u001b[38;5;241m.\u001b[39mround( np\u001b[38;5;241m.\u001b[39msqrt( np\u001b[38;5;241m.\u001b[39mmean( ( ( _adr\u001b[38;5;241m.\u001b[39mselect(channel\u001b[38;5;241m=\u001b[39m\u001b[38;5;124mf\u001b[39m\u001b[38;5;124m\"\u001b[39m\u001b[38;5;124m*\u001b[39m\u001b[38;5;132;01m{\u001b[39;00mcomp\u001b[38;5;132;01m}\u001b[39;00m\u001b[38;5;124m\"\u001b[39m)[\u001b[38;5;241m0\u001b[39m]\u001b[38;5;241m.\u001b[39mdata \u001b[38;5;241m-\u001b[39m_bspf\u001b[38;5;241m.\u001b[39mselect(channel\u001b[38;5;241m=\u001b[39m\u001b[38;5;124mf\u001b[39m\u001b[38;5;124m\"\u001b[39m\u001b[38;5;124m*\u001b[39m\u001b[38;5;132;01m{\u001b[39;00mcomp\u001b[38;5;132;01m}\u001b[39;00m\u001b[38;5;124m\"\u001b[39m)[\u001b[38;5;241m0\u001b[39m]\u001b[38;5;241m.\u001b[39mdata )\u001b[38;5;241m*\u001b[39mscaling )\u001b[38;5;241m*\u001b[39m\u001b[38;5;241m*\u001b[39m\u001b[38;5;241m2\u001b[39m ) ), \u001b[38;5;241m3\u001b[39m)\n",
      "File \u001b[0;32m~/anaconda3/envs/obs2/lib/python3.10/site-packages/obspy/core/stream.py:643\u001b[0m, in \u001b[0;36mStream.__getitem__\u001b[0;34m(self, index)\u001b[0m\n\u001b[1;32m    641\u001b[0m     \u001b[38;5;28;01mreturn\u001b[39;00m \u001b[38;5;28mself\u001b[39m\u001b[38;5;241m.\u001b[39m\u001b[38;5;18m__class__\u001b[39m(traces\u001b[38;5;241m=\u001b[39m\u001b[38;5;28mself\u001b[39m\u001b[38;5;241m.\u001b[39mtraces\u001b[38;5;241m.\u001b[39m\u001b[38;5;21m__getitem__\u001b[39m(index))\n\u001b[1;32m    642\u001b[0m \u001b[38;5;28;01melse\u001b[39;00m:\n\u001b[0;32m--> 643\u001b[0m     \u001b[38;5;28;01mreturn\u001b[39;00m \u001b[38;5;28;43mself\u001b[39;49m\u001b[38;5;241;43m.\u001b[39;49m\u001b[43mtraces\u001b[49m\u001b[38;5;241;43m.\u001b[39;49m\u001b[38;5;21;43m__getitem__\u001b[39;49m\u001b[43m(\u001b[49m\u001b[43mindex\u001b[49m\u001b[43m)\u001b[49m\n",
      "\u001b[0;31mIndexError\u001b[0m: list index out of range"
     ]
    },
    {
     "data": {
      "image/png": "[encoded data removed]",
      "text/plain": [
       "<Figure size 1500x1500 with 9 Axes>"
      ]
     },
     "metadata": {},
     "output_type": "display_data"
    }
   ],
   "source": [
    "fig = __makeplot_waveform_comparison_all(st0);\n",
    "\n",
    "fig.savefig(config['path_to_figs']+f\"BSPF_M62_waveforms_all.png\", format=\"png\", dpi=200, bbox_inches='tight');\n"
   ]
  },
  {
   "cell_type": "code",
   "execution_count": null,
   "id": "6dbd791e-9289-4baa-9ac5-26ac689d800a",
   "metadata": {
    "tags": []
   },
   "outputs": [],
   "source": [
    "def __makeplot_waveform_comparison(bspf, adr, submask):\n",
    "\n",
    "    from obspy.signal.cross_correlation import correlate\n",
    "\n",
    "    fig, ax = plt.subplots(3, 1, figsize=(15, 5), sharex=True)\n",
    "\n",
    "    lw = 1.2\n",
    "    font = 14\n",
    "\n",
    "    ax[0].plot(bspf.select(channel=\"*Z\")[0].times(), bspf.select(channel=\"*Z\")[0].data, label=\"BSPF Z\", color=\"k\", lw=lw)\n",
    "    ax[0].plot(adr.select(channel=\"*Z\")[0].times(), adr.select(channel=\"*Z\")[0].data, label=\"ADR Z\", color=\"r\", lw=lw)\n",
    "\n",
    "    ax[1].plot(bspf.select(channel=\"*N\")[0].times(), bspf.select(channel=\"*N\")[0].data, label=\"BSPF N\", color=\"k\", lw=lw)\n",
    "    ax[1].plot(adr.select(channel=\"*N\")[0].times(), adr.select(channel=\"*N\")[0].data, label=\"ADR N\", color=\"r\", lw=lw)\n",
    "\n",
    "    ax[2].plot(bspf.select(channel=\"*E\")[0].times(), bspf.select(channel=\"*E\")[0].data, label=\"BSPF E\", color=\"k\", lw=lw)\n",
    "    ax[2].plot(adr.select(channel=\"*E\")[0].times(), adr.select(channel=\"*E\")[0].data, label=\"ADR E\", color=\"r\", lw=lw)\n",
    "\n",
    "    cc_Z = round(correlate(bspf.select(channel=\"*Z\")[0].data, adr.select(channel=\"*Z\")[0].data, 0, demean=True, normalize='naive', method='auto')[0], 1)\n",
    "    cc_N = round(correlate(bspf.select(channel=\"*N\")[0].data, adr.select(channel=\"*N\")[0].data, 0, demean=True, normalize='naive', method='auto')[0], 1)\n",
    "    cc_E = round(correlate(bspf.select(channel=\"*E\")[0].data, adr.select(channel=\"*E\")[0].data, 0, demean=True, normalize='naive', method='auto')[0], 1)\n",
    "\n",
    "    for i in range(3):\n",
    "        ax[i].legend(loc=1, ncols=4)\n",
    "        ax[i].grid(which=\"both\", alpha=0.5)\n",
    "        # ax[i].set_xscale(\"log\")\n",
    "        ax[i].set_ylabel(\"$\\Omega$ (rad/s)\")\n",
    "\n",
    "    ax[2].set_xlabel(\"Time (s)\")\n",
    "    ax[0].set_title(f\"{config['tbeg'].date} | {config['fmin']}-{config['fmax']} Hz | ADR {submask} | CC$_Z$ = {cc_Z} | CC$_N$ = {cc_N} | CC$_E$ = {cc_E}\")\n",
    "\n",
    "    plt.show();\n",
    "    return fig"
   ]
  },
  {
   "cell_type": "code",
   "execution_count": null,
   "id": "491b7b9b-e5b3-4c9d-81a6-70d525579201",
   "metadata": {
    "tags": []
   },
   "outputs": [],
   "source": [
    "# config['fmin'] = 0.1\n",
    "# config['fmax'] = 0.5\n",
    "\n",
    "# # config['fmin'] = 1.0\n",
    "# # config['fmax'] = 6.0\n",
    "\n",
    "# # config['fmin'] = 0.5\n",
    "# # config['fmax'] = 1.0\n",
    "\n",
    "# bspf = bspf0.copy()\n",
    "# bspf = bspf.detrend(\"simple\").taper(0.1).filter(\"bandpass\", freqmin=config['fmin'], freqmax=config['fmax'])\n",
    "\n",
    "# adr = adr0.copy()\n",
    "# adr = adr.detrend(\"simple\").taper(0.1).filter(\"bandpass\", freqmin=config['fmin'], freqmax=config['fmax']);\n",
    "\n",
    "# pfo = pfo0.copy()\n",
    "# pfo = pfo.detrend(\"simple\").taper(0.1).filter(\"bandpass\", freqmin=config['fmin'], freqmax=config['fmax'])\n",
    "\n",
    "# for tr in bspf:\n",
    "#     print(tr.stats.channel, max(tr.data))\n",
    "\n",
    "\n",
    "# fig = __makeplot_waveform_comparison(bspf, adr, submask)\n",
    "\n",
    "# fig.savefig(config['path_to_figs']+f\"BSPF_M62_waveforms_{submask}.png\", format=\"png\", dpi=200, bbox_inches='tight');"
   ]
  },
  {
   "cell_type": "markdown",
   "id": "3e048752-dbed-4df5-9835-166187430818",
   "metadata": {},
   "source": [
    "## Spectra Comparison"
   ]
  },
  {
   "cell_type": "code",
   "execution_count": null,
   "id": "6908e01f-0294-45e5-8d14-b9d11e0ba664",
   "metadata": {
    "tags": []
   },
   "outputs": [],
   "source": [
    "def __makeplot_spectra_comparison(st_rot, st_acc, fmin=None, fmax=None):\n",
    "\n",
    "    def __multitaper_psd(arr, dt, n_win=5, time_bandwidth=4.0):\n",
    "\n",
    "        import multitaper as mt\n",
    "\n",
    "        out_psd = mt.MTSpec(arr, nw=time_bandwidth, kspec=n_win, dt=dt, iadapt=0)\n",
    "\n",
    "        _f, _psd = out_psd.rspec()\n",
    "\n",
    "        f = _f.reshape(_f.size)\n",
    "        psd = _psd.reshape(_psd.size)\n",
    "\n",
    "        ## 95% confidence interval\n",
    "        # _psd95 = out_psd.jackspec()\n",
    "        # psd95_lower, psd95_upper = psd95[::2, 0], psd95[::2, 1]\n",
    "\n",
    "        return f, psd\n",
    "\n",
    "    Tsec = 5\n",
    "    f1_Z, psd1_Z = __multitaper_psd(st_rot.select(channel=\"*Z\")[0].data, st_rot[0].stats.delta ,n_win=Tsec)\n",
    "    f2_Z, psd2_Z = __multitaper_psd(st_acc.select(channel=\"*Z\")[0].data, st_acc[0].stats.delta ,n_win=Tsec)\n",
    "\n",
    "    f1_U, psd1_U = __multitaper_psd(st_rot.select(channel=\"*N\")[0].data, st_rot[0].stats.delta ,n_win=Tsec)\n",
    "    f2_N, psd2_N = __multitaper_psd(st_acc.select(channel=\"*N\")[0].data, st_acc[0].stats.delta ,n_win=Tsec)\n",
    "\n",
    "    f1_V, psd1_V = __multitaper_psd(st_rot.select(channel=\"*E\")[0].data, st_rot[0].stats.delta ,n_win=Tsec)\n",
    "    f2_E, psd2_E = __multitaper_psd(st_acc.select(channel=\"*E\")[0].data, st_acc[0].stats.delta ,n_win=Tsec)\n",
    "\n",
    "\n",
    "    fig, ax = plt.subplots(3, 1, figsize=(15, 5), sharex=True)\n",
    "\n",
    "    font = 14\n",
    "\n",
    "    rot_scaling = 1e9\n",
    "\n",
    "    lw = 1\n",
    "\n",
    "    ax[0].plot(f1_Z, psd1_Z, lw=lw, label=f\"{st_rot[0].stats.station}.{st_rot[0].stats.channel}\", color=\"darkred\", ls=\"-\", zorder=3)\n",
    "\n",
    "    ax00 = ax[0].twinx()\n",
    "    ax00.plot(f2_Z, psd2_Z, lw=lw, label=f\"{st_acc[0].stats.station}.{st_acc[0].stats.channel}\", color=\"black\", zorder=2)\n",
    "\n",
    "    ax[1].plot(f1_U, psd1_U, lw=lw, label=f\"{st_rot[1].stats.station}.{st_rot[1].stats.channel}\", color=\"darkred\", ls=\"-\", zorder=3)\n",
    "    ax11 = ax[1].twinx()\n",
    "    ax11.plot(f2_N, psd2_N, lw=lw, label=f\"{st_acc[1].stats.station}.{st_acc[1].stats.channel}\", color=\"black\", zorder=2)\n",
    "\n",
    "    ax[2].plot(f1_V, psd1_V, lw=lw, label=f\"{st_rot[2].stats.station}.{st_rot[2].stats.channel}\", color=\"darkred\", ls=\"-\", zorder=3)\n",
    "    ax22 = ax[2].twinx()\n",
    "    ax22.plot(f2_E, psd2_E, lw=lw, label=f\"{st_acc[2].stats.station}.{st_acc[2].stats.channel}\", color=\"black\", zorder=2)\n",
    "\n",
    "\n",
    "    for i in range(3):\n",
    "        ax[i].legend(loc=1, ncols=4)\n",
    "        # ax[i].set_xscale(\"log\")\n",
    "        # ax[i].set_yscale(\"log\")\n",
    "        ax[i].grid(which=\"both\", alpha=0.5)\n",
    "        ax[i].set_ylabel(r\"PSD (rad$^2$/s$^2$/Hz)\", color=\"darkred\")\n",
    "        ax[i].tick_params(axis='y', colors='darkred')\n",
    "\n",
    "        if fmin:\n",
    "            ax[i].set_xlim(left=fmin)\n",
    "        if fmax:\n",
    "            ax[i].set_xlim(right=fmax)\n",
    "        else:\n",
    "            ax[i].set_xlim(right=st_rot[0].stats.sampling_rate*0.5)\n",
    "\n",
    "    for _ax in [ax00, ax11, ax22]:\n",
    "        _ax.set_xlim(2e-2, 2e1)\n",
    "        _ax.set_ylabel(r\"PSD (m$^2$/s$^4$/Hz)\")\n",
    "        _ax.legend(loc=4)\n",
    "\n",
    "        if fmin:\n",
    "            _ax.set_xlim(left=fmin)\n",
    "        if fmax:\n",
    "            _ax.set_xlim(right=fmax)\n",
    "        else:\n",
    "            _ax.set_xlim(right=st_rot[0].stats.sampling_rate*0.5)\n",
    "\n",
    "    ax[2].set_xlabel(\"Frequency (Hz)\")\n",
    "    # ax[0].set_title(f\"{config['tbeg'].date} {str(config['tbeg'].time).split('.')[0]} UTC | {config['fmin']}-{config['fmax']} Hz \")\n",
    "\n",
    "    plt.show();\n",
    "    return fig"
   ]
  },
  {
   "cell_type": "code",
   "execution_count": null,
   "id": "dcc9e5bd-d35f-44b3-b33c-2182e93f6141",
   "metadata": {
    "tags": []
   },
   "outputs": [],
   "source": [
    "fmin, fmax = 0.1, 0.5\n",
    "\n",
    "bspf = st0.select(station=\"BSPF\").copy()\n",
    "\n",
    "bspf = bspf.detrend(\"linear\")\n",
    "bspf = bspf.taper(0.01)\n",
    "bspf = bspf.filter(\"bandpass\", freqmin=1, freqmax=5.0, corners=4, zerophase=True)\n",
    "\n",
    "# bspf.plot();\n",
    "\n",
    "\n",
    "acc = st0.select(station=\"PFO*\").copy()\n",
    "\n",
    "acc = acc.detrend(\"linear\")\n",
    "acc = acc.taper(0.01)\n",
    "acc = acc.filter(\"bandpass\", freqmin=1, freqmax=5.0, corners=4, zerophase=True)\n",
    "\n",
    "# acc.plot();\n",
    "\n",
    "fig = __makeplot_spectra_comparison(bspf, acc, fmin=fmin, fmax=fmax)"
   ]
  },
  {
   "cell_type": "markdown",
   "id": "fb46d50f-2994-4879-9cb0-30aa2cc9208f",
   "metadata": {},
   "source": [
    "### Wavelet Comparison"
   ]
  },
  {
   "cell_type": "code",
   "execution_count": null,
   "id": "d4511ef4-f0ef-429e-9d01-ad0693d20c28",
   "metadata": {
    "tags": []
   },
   "outputs": [],
   "source": [
    "from functions.compute_cwt import __compute_cwt"
   ]
  },
  {
   "cell_type": "code",
   "execution_count": null,
   "id": "82ef65cd-c1e6-4d3e-9df6-2de5032125bc",
   "metadata": {
    "tags": []
   },
   "outputs": [],
   "source": [
    "bspf = st0.select(station=\"BSPF\").copy()\n",
    "\n",
    "\n",
    "ttt = bspf[0].times()\n",
    "arr = bspf[1].data\n",
    "dt = bspf[0].stats.delta # seconds\n",
    "\n",
    "out = __compute_cwt(ttt, arr, dt, tscale=\"sec\", datalabel=\"\",\n",
    "                    period=False, fmax=2, plot=True)\n",
    "\n",
    "# out['fig'].savefig(config['path_to_figs']+f\"SagnacFrequency_BS_RU_multiday_Case2_CWT.png\", format=\"png\", dpi=200, bbox_inches='tight')\n"
   ]
  },
  {
   "cell_type": "code",
   "execution_count": null,
   "id": "84bcf46a-a8ad-429f-b9fc-6e5556583ad9",
   "metadata": {
    "tags": []
   },
   "outputs": [],
   "source": [
    "from functions.compute_cross_wavelet_transform import __compute_cross_wavelet_transform"
   ]
  },
  {
   "cell_type": "code",
   "execution_count": null,
   "id": "e4d401a8-0dde-4e4f-bba0-f55bab0ce88e",
   "metadata": {
    "tags": []
   },
   "outputs": [],
   "source": [
    "acc = st0.select(station=\"PFO*\").copy().detrend(\"demean\")\n",
    "rot = st0.select(station=\"BSPF\").copy().detrend(\"demean\")\n",
    "adr = st0.select(station=\"RPFO\").copy().detrend(\"demean\")\n",
    "\n",
    "rot.detrend(\"demean\").taper(0.1).filter(\"bandpass\", freqmin=config['fmin'], freqmax=config['fmax'])\n",
    "adr.detrend(\"demean\").taper(0.1).filter(\"bandpass\", freqmin=config['fmin'], freqmax=config['fmax'])\n",
    "\n",
    "\n",
    "comp = \"Z\"\n",
    "\n",
    "out = __compute_cross_wavelet_transform(\n",
    "                                    rot[0].times(),\n",
    "                                    rot.select(channel=f\"*{comp}\")[0].data,\n",
    "                                    adr.select(channel=f\"*{comp}\")[0].data,\n",
    "                                    rot[0].stats.delta,\n",
    "                                    xwt_threshold=0.,\n",
    "                                    fmax_limit=config['fmax'],\n",
    "                                    normalize=True,\n",
    "                                    plot=True,\n",
    ")\n",
    "\n",
    "out['fig'].savefig(config['path_to_figs']+f\"BSPF_M62_xwt_{comp}_{submask}.png\", format=\"png\", dpi=200, bbox_inches='tight');"
   ]
  },
  {
   "cell_type": "code",
   "execution_count": null,
   "id": "a7f06a92-f7c7-4011-8af9-d62474e1cca3",
   "metadata": {},
   "outputs": [],
   "source": []
  },
  {
   "cell_type": "markdown",
   "id": "f0e99973-c2e1-44e8-aa59-76069dcf083d",
   "metadata": {},
   "source": [
    "## Backazimuth"
   ]
  },
  {
   "cell_type": "code",
   "execution_count": null,
   "id": "9a6a3416-d374-4662-8120-d4db1e198fc4",
   "metadata": {
    "tags": []
   },
   "outputs": [],
   "source": [
    "from functions.compute_backazimuth import __compute_backazimuth"
   ]
  },
  {
   "cell_type": "code",
   "execution_count": null,
   "id": "89c70f90-a5de-4b6a-a630-65e1d147ab50",
   "metadata": {
    "tags": []
   },
   "outputs": [],
   "source": [
    "acc = st0.select(station=\"PFO*\").copy()\n",
    "rot = st0.select(station=\"BSPF\").copy()\n",
    "\n",
    "fmin, fmax = config['fmin'], config['fmax']\n",
    "\n",
    "rot.detrend(\"simple\").taper(0.1).filter(\"bandpass\", freqmin=fmin, freqmax=fmax)\n",
    "acc.detrend(\"simple\").taper(0.1).filter(\"bandpass\", freqmin=fmin, freqmax=fmax)\n",
    "\n",
    "\n",
    "# acc.select(channel=\"*Z\")[0].data *= -1\n",
    "# rot.select(channel=\"*Z\")[0].data *= -1\n",
    "# rot.select(channel=\"*E\")[0].data *= -1\n",
    "# rot.select(channel=\"*N\")[0].data *= -1"
   ]
  },
  {
   "cell_type": "code",
   "execution_count": null,
   "id": "0ec5b662-4183-43e1-a195-db8daf1e1d23",
   "metadata": {
    "tags": []
   },
   "outputs": [],
   "source": []
  },
  {
   "cell_type": "code",
   "execution_count": null,
   "id": "e466be2f-7876-491d-98c2-3de76782ce50",
   "metadata": {
    "tags": []
   },
   "outputs": [],
   "source": [
    "config['station_longitude'] = config['BSPF_lon']\n",
    "config['station_latitude']  = config['BSPF_lat']\n",
    "\n",
    "## specify window length for baz estimation in seconds\n",
    "config['win_length_sec'] = 1/fmin\n",
    "\n",
    "## define an overlap for the windows in percent (50 -> 50%)\n",
    "config['overlap'] = 50\n",
    "\n",
    "## specify steps for degrees of baz\n",
    "config['step'] = 1"
   ]
  },
  {
   "cell_type": "code",
   "execution_count": null,
   "id": "c00cd3d9-8681-44aa-a306-a1c564c99894",
   "metadata": {
    "tags": []
   },
   "outputs": [],
   "source": [
    "out = __compute_backazimuth(\n",
    "                            acc,\n",
    "                            rot,\n",
    "                            config,\n",
    "                            wave_type='love',\n",
    "                            event=event,\n",
    "                            plot=True,\n",
    "                            flim=(fmin, fmax),\n",
    "                            show_details=False,\n",
    ")\n",
    "\n",
    "out['fig'].savefig(config['path_to_figs']+f\"BSPF_M62_baz_love_{fmin}_{fmax}.png\", dpi=200, bbox_inches='tight', pad_inches=0.05)\n"
   ]
  },
  {
   "cell_type": "code",
   "execution_count": null,
   "id": "354b07cd-adc7-43f6-82c3-f7386c4f15ad",
   "metadata": {
    "tags": []
   },
   "outputs": [],
   "source": [
    "out = __compute_backazimuth(\n",
    "                            acc,\n",
    "                            rot,\n",
    "                            config,\n",
    "                            wave_type='rayleigh',\n",
    "                            event=event,\n",
    "                            plot=True,\n",
    "                            flim=(fmin, fmax),\n",
    "                            show_details=False,\n",
    ")\n",
    "\n",
    "out['fig'].savefig(config['path_to_figs']+f\"BSPF_M62_baz_rayleigh_{fmin}_{fmax}.png\", dpi=200, bbox_inches='tight', pad_inches=0.05)\n"
   ]
  },
  {
   "cell_type": "code",
   "execution_count": null,
   "id": "242811e1-9c95-44d0-9560-fe12d06a2970",
   "metadata": {
    "tags": []
   },
   "outputs": [],
   "source": [
    "from functions.get_theoretical_backazimuth import __get_theoretical_backazimuth"
   ]
  },
  {
   "cell_type": "code",
   "execution_count": null,
   "id": "2bd80169-f842-48a9-875b-41972d449820",
   "metadata": {
    "tags": []
   },
   "outputs": [],
   "source": [
    "config['event'] = event\n",
    "\n",
    "baz, az, dist = __get_theoretical_backazimuth(config['BSPF_lat'], config['BSPF_lon'], event_obj=event, fdsn_client='USGS')"
   ]
  },
  {
   "cell_type": "code",
   "execution_count": null,
   "id": "cf489774-4991-4343-9054-441cfebaa9e0",
   "metadata": {
    "tags": []
   },
   "outputs": [],
   "source": []
  },
  {
   "cell_type": "code",
   "execution_count": null,
   "id": "75ed5af9-67e1-4ad2-82e4-cca855ee46f6",
   "metadata": {
    "tags": []
   },
   "outputs": [],
   "source": [
    "from functions.compute_backazimuth_tangent import __compute_backazimuth_tangent"
   ]
  },
  {
   "cell_type": "code",
   "execution_count": null,
   "id": "e64c8386-6e56-4ff0-b876-700ee74d0d0c",
   "metadata": {
    "tags": []
   },
   "outputs": [],
   "source": [
    "acc = st0.select(station=\"PFO*\").copy()\n",
    "rot = st0.select(station=\"BSPF\").copy()\n",
    "\n",
    "fmin, fmax = 0.5, 2.0\n",
    "# fmin, fmax = config['fmin'], config['fmax']\n",
    "\n",
    "\n",
    "rot.detrend(\"simple\").taper(0.1).filter(\"bandpass\", freqmin=fmin, freqmax=fmax)\n",
    "acc.detrend(\"simple\").taper(0.1).filter(\"bandpass\", freqmin=fmin, freqmax=fmax)\n",
    "\n",
    "# for tr in rot:\n",
    "#     tr.data = np.roll(tr.data, -10)\n",
    "\n",
    "# for tr in acc:\n",
    "#     if \"*Z\" in tr.stats.channel:\n",
    "#         tr.data *= -1\n",
    "\n",
    "# rot.select(channel=\"*Z\")[0].data *= -1\n",
    "# rot.select(channel=\"*E\")[0].data *= -1\n",
    "# rot.select(channel=\"*N\")[0].data *= -1"
   ]
  },
  {
   "cell_type": "code",
   "execution_count": null,
   "id": "69bc325e-d16a-48aa-bd07-d5c540a7bf54",
   "metadata": {
    "tags": []
   },
   "outputs": [],
   "source": [
    "out = __compute_backazimuth_tangent(\n",
    "                                    rot,\n",
    "                                    acc,\n",
    "                                    win_time_s=2/fmin,\n",
    "                                    overlap=0.9,\n",
    "                                    baz_theo=baz,\n",
    "                                    cc_thres=0,\n",
    "                                    plot=True,\n",
    "                                    )\n",
    "\n",
    "out['fig'].savefig(config['path_to_figs']+f\"BSPF_M62_baz_tangent_{fmin}_{fmax}.png\", dpi=200, bbox_inches='tight', pad_inches=0.05)"
   ]
  },
  {
   "cell_type": "markdown",
   "id": "45e7a0ef-3f78-4ce1-bbf4-4d1927d4bda8",
   "metadata": {},
   "source": [
    "## Compare Backazimuth Codes"
   ]
  },
  {
   "cell_type": "code",
   "execution_count": null,
   "id": "d4cadb39-70ca-4f1f-a093-f48289a11ca0",
   "metadata": {
    "tags": []
   },
   "outputs": [],
   "source": [
    "from functions.compare_backazimuth_codes import __compare_backazimuth_codes"
   ]
  },
  {
   "cell_type": "code",
   "execution_count": null,
   "id": "8daa7e0c-d9e6-49eb-8692-66a5794b3bc1",
   "metadata": {
    "tags": []
   },
   "outputs": [],
   "source": [
    "st = st0.copy();\n",
    "\n",
    "acc = st.select(station=\"PFO*\");\n",
    "rot = st.select(station=\"BSPF\");\n",
    "# rot = st.select(station=\"RPFO\", location=\"in\");\n",
    "# rot = st.select(station=\"RPFO\", location=\"mi\");\n",
    "# rot = st.select(station=\"RPFO\", location=\"al\");\n",
    "\n",
    "# for tr in rot:\n",
    "#     tr.data = np.roll(tr.data, -10)\n",
    "\n",
    "\n",
    "fmin, fmax = config['fmin'], config['fmax']\n",
    "# fmin, fmax = 0.2, 2.0\n",
    "\n",
    "out = __compare_backazimuth_codes(rot, acc, event, fmin, fmax, plot=True);\n",
    "\n",
    "out['fig1'].savefig(config['path_to_figs']+f\"BSPF_M62_baz_comparison_{rot[0].stats.location}_{fmin}_{fmax}.png\", dpi=200, bbox_inches='tight', pad_inches=0.05);\n",
    "out['fig2'].savefig(config['path_to_figs']+f\"BSPF_M62_baz_comparison_{rot[0].stats.location}_{fmin}_{fmax}_hist.png\", dpi=200, bbox_inches='tight', pad_inches=0.05);"
   ]
  },
  {
   "cell_type": "markdown",
   "id": "458c4de9-e497-492f-84c0-fb5a2e064b36",
   "metadata": {
    "tags": []
   },
   "source": [
    "## Compare backazimuth estimate for ADR, BSPF and Beamforming"
   ]
  },
  {
   "cell_type": "code",
   "execution_count": null,
   "id": "dadebade-2c33-475d-9569-f12b01f11442",
   "metadata": {
    "tags": []
   },
   "outputs": [],
   "source": [
    "from functions.compute_beamforming_pfo import __compute_beamforming_pfo"
   ]
  },
  {
   "cell_type": "code",
   "execution_count": null,
   "id": "8a8fbf72-8990-4f9b-adcf-878b41f19d25",
   "metadata": {
    "tags": []
   },
   "outputs": [],
   "source": [
    "stt = st0.copy();\n",
    "\n",
    "acc = stt.copy().select(station=\"PFO*\");\n",
    "\n",
    "\n",
    "cc_thres = 0.1\n",
    "\n",
    "## ____________________\n",
    "## direct rotation\n",
    "rot = stt.copy().select(station=\"BSPF\");\n",
    "out_bspf_i = __compare_backazimuth_codes(rot, acc, event, 2.0, 5.0, cc_thres=cc_thres, plot=True);\n",
    "\n",
    "rot = stt.copy().select(station=\"BSPF\");\n",
    "out_bspf_m = __compare_backazimuth_codes(rot, acc, event, 0.5, 1.0, cc_thres=cc_thres, plot=True);\n",
    "\n",
    "rot = stt.copy().select(station=\"BSPF\");\n",
    "out_bspf_a = __compare_backazimuth_codes(rot, acc, event, 0.1, 0.5, cc_thres=cc_thres, plot=True);\n",
    "\n",
    "rot = stt.copy().select(station=\"BSPF\");\n",
    "out_bspf_o = __compare_backazimuth_codes(rot, acc, event, 0.8, 1.0, cc_thres=cc_thres, plot=True);\n",
    "\n",
    "# out = __compare_backazimuth_codes(rot, acc, event, fmin, fmax, cc_thres=0.2, plot=True);\n",
    "\n",
    "\n",
    "## ____________________\n",
    "## adr rotation\n",
    "rot = stt.copy().select(station=\"RPFO\", location=\"in\");\n",
    "out_adr_i = __compare_backazimuth_codes(rot, acc, event, 2.0, 5.0, cc_thres=cc_thres, plot=False);\n",
    "\n",
    "rot = stt.copy().select(station=\"RPFO\", location=\"mi\");\n",
    "out_adr_m = __compare_backazimuth_codes(rot, acc, event, 0.5, 1.0, cc_thres=cc_thres, plot=False);\n",
    "\n",
    "rot = stt.copy().select(station=\"RPFO\", location=\"al\");\n",
    "out_adr_a = __compare_backazimuth_codes(rot, acc, event, 0.1, 0.5, cc_thres=cc_thres, plot=False);\n",
    "\n",
    "rot = stt.copy().select(station=\"RPFO\", location=\"mi\");\n",
    "out_adr_o = __compare_backazimuth_codes(rot, acc, event, 0.8, 1.0, cc_thres=cc_thres, plot=False);\n",
    "\n",
    "## ____________________\n",
    "## array beamforming\n",
    "out_bf_i = __compute_beamforming_pfo(config['tbeg'], config['tend'], fmin=2.0, fmax=5.0, component=\"Z\", submask=\"inner\", plot=False)\n",
    "out_bf_m = __compute_beamforming_pfo(config['tbeg'], config['tend'], fmin=0.5, fmax=1.0, component=\"Z\", submask=\"mid\", plot=False)\n",
    "out_bf_a = __compute_beamforming_pfo(config['tbeg'], config['tend'], fmin=0.1, fmax=0.5, component=\"Z\", submask=\"all\", plot=False)\n",
    "out_bf_o = __compute_beamforming_pfo(config['tbeg'], config['tend'], fmin=0.8, fmax=1.0, component=\"Z\", submask=\"mid\", plot=False)\n"
   ]
  },
  {
   "cell_type": "code",
   "execution_count": null,
   "id": "f6645faf-651b-4c62-a29b-bfeb88687dee",
   "metadata": {
    "tags": []
   },
   "outputs": [],
   "source": [
    "def __makeplot_comparison():\n",
    "\n",
    "    labels = [\"iBSPF\", \"iADR\", \"iBF\", \"mBSPF\", \"mADR\", \"mBF\", \"aBSPF\", \"aADR\", \"aBF\", \"BSPF\", \"ADR\", \"BF\"]\n",
    "\n",
    "    fig, ax = plt.subplots(1, 1, figsize=(15, 5))\n",
    "\n",
    "    font = 12\n",
    "\n",
    "    ax.axhline(out_bspf_i['baz_theo'], color=\"k\", ls=\"--\", label=\"theo. Baz.\")\n",
    "    ax.fill_between([-0.3, 4.0], out_bspf_i['baz_theo']-10, out_bspf_i['baz_theo']+10, color=\"yellow\", alpha=0.5, label=\"theo. Baz. +- 10°\")\n",
    "\n",
    "\n",
    "    for j, out in enumerate([out_adr_i, out_adr_m, out_adr_a, out_adr_o]):\n",
    "\n",
    "        ax.errorbar(j-0.02, out['baz_tangent_max'], yerr=out['baz_tangent_std'], color=\"tab:blue\", zorder=2)\n",
    "        ax.errorbar(j, out['baz_love_max'], yerr=out['baz_love_std'], color=\"tab:green\", zorder=2)\n",
    "        ax.errorbar(j+0.02, out['baz_rayleigh_max'], yerr=out['baz_rayleigh_std'], color=\"tab:red\", zorder=2)\n",
    "\n",
    "        ax.scatter(j-0.02, out['baz_tangent_max'], color=\"tab:blue\", zorder=2, label=\"Co.Var.\", edgecolors=\"k\")\n",
    "        ax.scatter(j, out['baz_love_max'], color=\"tab:green\", zorder=2, label=\"Love\", edgecolors=\"k\")\n",
    "        ax.scatter(j+0.02, out['baz_rayleigh_max'], color=\"tab:red\", zorder=2, label=\"Rayleigh\", edgecolors=\"k\")\n",
    "\n",
    "        ## plot only for legend icon\n",
    "\n",
    "        if j == 0:\n",
    "            ax.scatter(j+0.4, out_bf_i['baz_bf_max'], color=\"tab:orange\", zorder=2, label=\"beamforming\", edgecolors=\"k\")\n",
    "            ax.legend(loc=1)\n",
    "\n",
    "\n",
    "    for j, out in enumerate([out_bspf_i, out_bspf_m, out_bspf_a, out_bspf_o]):\n",
    "\n",
    "        ax.errorbar(j+0.18, out['baz_tangent_max'], yerr=out['baz_tangent_std'], color=\"tab:blue\", zorder=2)\n",
    "        ax.errorbar(j+0.2, out['baz_love_max'], yerr=out['baz_love_std'], color=\"tab:green\", zorder=2)\n",
    "        ax.errorbar(j+0.22, out['baz_rayleigh_max'], yerr=out['baz_rayleigh_std'], color=\"tab:red\", zorder=2)\n",
    "\n",
    "        ax.scatter(j+0.18, out['baz_tangent_max'], color=\"tab:blue\", zorder=2, label=\"Co.Var.\", edgecolors=\"k\")\n",
    "        ax.scatter(j+0.2, out['baz_love_max'], color=\"tab:green\", zorder=2, label=\"Love\", edgecolors=\"k\")\n",
    "        ax.scatter(j+0.22, out['baz_rayleigh_max'], color=\"tab:red\", zorder=2, label=\"Rayleigh\", edgecolors=\"k\")\n",
    "\n",
    "\n",
    "    for j, out in enumerate([out_bf_i, out_bf_m, out_bf_a, out_bf_o]):\n",
    "\n",
    "        ax.errorbar(j+0.4, out['baz_bf_max'], yerr=out['baz_bf_std'], color=\"tab:orange\", zorder=2)\n",
    "        ax.scatter(j+0.4, out['baz_bf_max'], color=\"tab:orange\", zorder=2, label=\"\", edgecolors=\"k\")\n",
    "\n",
    "\n",
    "\n",
    "    ax.set_xticks([0,0.2,0.4,1,1.2,1.4,2,2.2,2.4,3,3.2,3.4], labels=labels, fontsize=font-1)\n",
    "\n",
    "    ax.grid(axis=\"y\", ls=\":\", color=\"k\", alpha=0.5, zorder=0)\n",
    "\n",
    "    ax.text(0, 360+10, \"2.0 - 5.0 Hz\", fontsize=font-1)\n",
    "    ax.text(1, 360+10, \"0.5 - 1.0 Hz\", fontsize=font-1)\n",
    "    ax.text(2, 360+10, \"0.1 - 0.5 Hz\", fontsize=font-1)\n",
    "    ax.text(3, 360+10, \"0.8 - 1.0 Hz\", fontsize=font-1)\n",
    "\n",
    "\n",
    "    ax.set_ylabel(\"Backazimuth (°)\", fontsize=font)\n",
    "\n",
    "    ax.set_xlim(-0.3, 4.0)\n",
    "    ax.set_ylim(0, 360)\n",
    "\n",
    "    plt.show();\n",
    "    return fig"
   ]
  },
  {
   "cell_type": "code",
   "execution_count": null,
   "id": "019cda9a-975e-4de5-b0ad-38808ac172fd",
   "metadata": {
    "tags": []
   },
   "outputs": [],
   "source": [
    "fig = __makeplot_comparison()\n",
    "\n",
    "fig.savefig(config['path_to_figs']+f\"BSPF_M62_baz_comparison_overview.png\", dpi=200, bbox_inches='tight', pad_inches=0.05);"
   ]
  },
  {
   "cell_type": "markdown",
   "id": "73cb79cb-564a-4833-9dd2-851c91339027",
   "metadata": {},
   "source": [
    "## Cross Spectral Density"
   ]
  },
  {
   "cell_type": "code",
   "execution_count": null,
   "id": "e4d88ea3-f9b2-4e18-89b0-55aa617962be",
   "metadata": {
    "tags": []
   },
   "outputs": [],
   "source": [
    "def __makeplotStream_csd2(st0, config):\n",
    "\n",
    "    from scipy import fftpack\n",
    "    from matplotlib.gridspec import GridSpec\n",
    "    from scipy.signal import csd\n",
    "    from numpy import array, log10\n",
    "\n",
    "    import matplotlib.pyplot as plt\n",
    "\n",
    "    st = st0.copy()\n",
    "    \n",
    "    NN = 5\n",
    "    rot_scaling, rot_unit = 1e6, r\"$\\mu$rad/s\"\n",
    "    trans_scaling, trans_unit = 1e6, r\"$\\mu$m/s\"\n",
    "    \n",
    "#     rot_scaling, rot_unit = 1, r\"nrad/s\"\n",
    "#     trans_scaling, trans_unit = 1, r\"$\\mu$m/s\"\n",
    "\n",
    "    colors2 = ['darkred', 'darkgreen', 'magenta', 'tab:green', 'red', 'lightgreen']\n",
    "#     colors2 = ['crimson', 'darkblue', 'red', '#3776ab', 'magenta', 'indigo']\n",
    "\n",
    "    fig = plt.figure(figsize=(15,14))\n",
    "    \n",
    "    gs = GridSpec(NN, 2, figure=fig)\n",
    "    \n",
    "    ax1 = fig.add_subplot(gs[0, :-1])\n",
    "    ax2 = fig.add_subplot(gs[1, :-1])\n",
    "    ax3 = fig.add_subplot(gs[2, :-1])\n",
    "\n",
    "    ax4 = fig.add_subplot(gs[0, 1:])\n",
    "    ax5 = fig.add_subplot(gs[1, 1:])\n",
    "    ax6 = fig.add_subplot(gs[2, 1:])\n",
    "\n",
    "    ax7 = fig.add_subplot(gs[3:, :])\n",
    "    \n",
    "    \n",
    "    font = 14\n",
    "    \n",
    "    plt.subplots_adjust(hspace=0.1)\n",
    "\n",
    "    ## _______________________________________________\n",
    "\n",
    "#     st.normalize()\n",
    "    \n",
    "    st.sort(keys=['channel'], reverse=True)\n",
    "        \n",
    "    bspf_all_data, bspf_inner_data, adr_all_data, adr_inner_data = [],[],[],[] \n",
    "    names, ffs, csds, ffs2, csds2 = [], [], [], [], []\n",
    "    for comp in [\"Z\", \"N\", \"E\"]:\n",
    "                \n",
    "        tmp = st.select(channel=f\"*{comp}\")\n",
    "        print(tmp)\n",
    "\n",
    "        bspf_inner = tmp[0].copy()\n",
    "        bspf_inner.detrend(\"linear\")\n",
    "        bspf_inner.taper(0.1)\n",
    "        bspf_inner.filter(\"bandpass\", freqmin=5, freqmax=15, corners=4, zerophase=True)\n",
    "        bspf_inner.normalize()\n",
    "        \n",
    "        adr_inner = tmp[1].copy()\n",
    "        adr_inner.detrend(\"linear\")\n",
    "        adr_inner.taper(0.1)\n",
    "        adr_inner.filter(\"bandpass\", freqmin=5, freqmax=15, corners=4, zerophase=True)\n",
    "        adr_inner.normalize()\n",
    "        \n",
    "        nseg = int(5*tmp[0].stats.sampling_rate)\n",
    "        \n",
    "        ff, Pxy = csd(  \n",
    "                        bspf_inner.data,\n",
    "                        adr_inner.data,\n",
    "                        fs=bspf_inner.stats.sampling_rate,\n",
    "                        nperseg=nseg,\n",
    "                        window='hann',\n",
    "                        noverlap=int(0.5*nseg),\n",
    "                        nfft=None,\n",
    "                        detrend='constant',\n",
    "                        return_onesided=True,\n",
    "                        scaling='density',\n",
    "                        axis=-1,\n",
    "                        average='mean'\n",
    "                    )\n",
    "        \n",
    "        names.append(f\"{tmp[0].stats.channel}\"+r\"$_{inner}$\")\n",
    "        ffs.append(ff)\n",
    "        csds.append(Pxy)\n",
    "\n",
    "        adr_inner_data.append(adr_inner.data)\n",
    "        bspf_inner_data.append(bspf_inner.data)\n",
    "        \n",
    "        ## _____________________________________\n",
    "        \n",
    "        bspf_all = tmp[0].copy()\n",
    "        bspf_all.detrend(\"linear\")        \n",
    "        bspf_all.taper(0.1)\n",
    "        bspf_all.filter(\"bandpass\", freqmin=0.1, freqmax=1., corners=4, zerophase=True)\n",
    "        bspf_all.normalize()\n",
    "\n",
    "        adr_all = tmp[2].copy()\n",
    "        adr_all.detrend(\"linear\")\n",
    "        adr_all.taper(0.1)\n",
    "        adr_all.filter(\"bandpass\", freqmin=0.1, freqmax=1., corners=4, zerophase=True)\n",
    "        adr_all.normalize()        \n",
    "            \n",
    "        nseg = int(20*tmp[0].stats.sampling_rate)\n",
    "        \n",
    "        ff2, Pxy2 = csd(  \n",
    "                        bspf_all.data*rot_scaling,\n",
    "                        adr_all.data*rot_scaling,\n",
    "                        fs=bspf_all.stats.sampling_rate,\n",
    "                        nperseg=nseg,\n",
    "                        window='hann',\n",
    "                        noverlap=int(0.5*nseg),\n",
    "                        nfft=None,\n",
    "                        detrend='constant',\n",
    "                        return_onesided=True,\n",
    "                        scaling='spectrum',\n",
    "                        axis=-1,\n",
    "                        average='mean'\n",
    "                    )\n",
    "        \n",
    "        names.append(f\"{tmp[0].stats.channel}\"+r\"$_{all}$\")\n",
    "        \n",
    "        ffs.append(ff2)\n",
    "        csds.append(Pxy2)\n",
    "        \n",
    "        adr_all_data.append(adr_all.data)\n",
    "        bspf_all_data.append(bspf_all.data)\n",
    "        \n",
    "    hz = st.select(channel=\"B*Z\")[0]\n",
    "    hn = st.select(channel=\"B*N\")[0]\n",
    "    he = st.select(channel=\"B*E\")[0]\n",
    "\n",
    "    jz = st.select(channel=\"HJZ\")[0]\n",
    "    jn = st.select(channel=\"HJN\")[0]\n",
    "    je = st.select(channel=\"HJE\")[0]\n",
    "\n",
    "    ax1.plot(hz.times(), bspf_all_data[0], 'black', label=f\"BSPF.Z\")\n",
    "    ax2.plot(hn.times(), bspf_all_data[1], 'black', label=f\"BSPF.N\")\n",
    "    ax3.plot(he.times(), bspf_all_data[2], 'black', label=f\"BSPF.E\")\n",
    "    ax1.plot(hz.times(), adr_all_data[0], 'darkred', label=r\"ADR$_{all}$.Z\")\n",
    "    ax2.plot(hn.times(), adr_all_data[1], 'darkred', label=r\"ADR$_{all}$.N\")\n",
    "    ax3.plot(he.times(), adr_all_data[2], 'darkred', label=r\"ADR$_{all}$.E\")\n",
    "\n",
    "    ax4.plot(jz.times(), bspf_inner_data[0], 'black', label=f\"BSPF.Z\")\n",
    "    ax5.plot(jn.times(), bspf_inner_data[1], 'black', label=f\"BSPF.N\")\n",
    "    ax6.plot(je.times(), bspf_inner_data[2], 'black', label=f\"BSPF.E\")\n",
    "    ax4.plot(jz.times(), adr_inner_data[0], 'darkred', label=r\"ADR$_{inner}$.Z\")\n",
    "    ax5.plot(jn.times(), adr_inner_data[1], 'darkred', label=r\"ADR$_{inner}$.N\")\n",
    "    ax6.plot(je.times(), adr_inner_data[2], 'darkred', label=r\"ADR$_{inner}$.E\")\n",
    "\n",
    "\n",
    "    for ii, (ff, cc, name) in enumerate(zip(ffs, csds, names)):\n",
    "#         ax7.plot(ff, 20*log10(abs(cc)), label=name[2:], alpha=0.6, color=colors2[ii])\n",
    "        if \"all\" in name:\n",
    "            ax7.plot(ff, abs(cc), label=name[2:], alpha=0.6, color=colors2[ii])\n",
    "        elif \"inner\" in name:\n",
    "            if \"Z\" in name:\n",
    "                ax8 = ax7.twinx()\n",
    "            ax8.plot(ff, abs(cc), label=name[2:], alpha=0.6, color=colors2[ii])\n",
    "\n",
    "\n",
    "#     ax7.set_yscale(\"log\")\n",
    "\n",
    "    for ax in [ax1, ax2, ax3, ax4 ,ax5, ax6]:\n",
    "        ax.legend(loc=1, fontsize=font-2, bbox_to_anchor=(0.95, 1.10), ncol=2)\n",
    "        ax.set_ylabel(f\"$\\omega$ ({rot_unit})\", fontsize=font)\n",
    "        ax.spines['right'].set_visible(False)\n",
    "        ax.spines['top'].set_visible(False)\n",
    "        ax.spines['bottom'].set_visible(False)\n",
    "        if ax not in [ax3, ax6]:\n",
    "            ax.set(xticklabels=[])\n",
    "            ax.tick_params(bottom=False)\n",
    "\n",
    "    ax7.set_xscale(\"log\")\n",
    "    ax7.grid(which=\"both\", ls=\":\", alpha=0.7, color=\"grey\")\n",
    "    ax7.legend(fontsize=font-2, ncol=3, loc=2)\n",
    "    ax7.set_xlim(0.1, 20)\n",
    "    ax7.set_xlabel(\"Frequency (Hz)\", fontsize=font)\n",
    "    sqrthz=r\"$\\sqrt{Hz}$\"\n",
    "#     ax7.set_ylabel(f\"Cross Spectral Density \\n (dB rel. to 1 nrad$^2$/s$^2$/Hz)\", fontsize=font)\n",
    "    ax7.set_ylabel(f\"Cross Spectral Density ({rot_unit}/{sqrthz}')\", fontsize=font)\n",
    "    \n",
    "    \n",
    "    ax8.legend(fontsize=font-2, ncol=3, loc=1)\n",
    "    ax8.set_ylabel(f\"Cross Spectral Density ({rot_unit}/{sqrthz}')\", fontsize=font, color=\"tab:red\")\n",
    "    ax8.tick_params(axis='y', colors='tab:red')\n",
    "    \n",
    "    ax3.set_xlabel(\"Time (s)\", fontsize=font)\n",
    "    ax6.set_xlabel(\"Time (s)\", fontsize=font)\n",
    "\n",
    "\n",
    "    bbox = list(ax7.get_position().bounds)\n",
    "    bbox[3] = .85*bbox[3] # Reduce the height of the axis a bit.\n",
    "    ax7.set_position(bbox)\n",
    "    \n",
    "    for ax in [ax1, ax2, ax3, ax4 ,ax5, ax6, ax7, ax8]:\n",
    "        ax.tick_params(axis=\"y\", labelsize=font-2)\n",
    "        ax.tick_params(axis=\"x\", labelsize=font-2)\n",
    "            \n",
    "#     axes[i,0].ticklabel_format(axis='y', style='sci', scilimits=(0,0))\n",
    "#     axes[i,1].ticklabel_format(axis='y', style='sci', scilimits=(0,0))\n",
    "\n",
    "    return fig"
   ]
  },
  {
   "cell_type": "code",
   "execution_count": null,
   "id": "887f7403-4b6f-4760-a85d-f1917c568477",
   "metadata": {
    "tags": []
   },
   "outputs": [],
   "source": [
    "fig = __makeplotStream_csd2(st0, config);\n",
    "\n",
    "fig.savefig(config['path_to_figs']+f\"BSPF_M62_baz_csd.png\", dpi=200, bbox_inches='tight', pad_inches=0.05);"
   ]
  },
  {
   "cell_type": "code",
   "execution_count": null,
   "id": "ff81f334-44a1-4dc1-bbe0-6e6ea13c9c47",
   "metadata": {
    "tags": []
   },
   "outputs": [],
   "source": [
    "from functions.makeplotStream_cwt import __makeplotStream_cwt"
   ]
  },
  {
   "cell_type": "code",
   "execution_count": null,
   "id": "30a7d8d4-6a5a-4570-93db-6f98fc1cf315",
   "metadata": {
    "tags": []
   },
   "outputs": [],
   "source": [
    "# __makeplotStream_cwt(st0, config, fscale=None);"
   ]
  },
  {
   "cell_type": "markdown",
   "id": "6c89790e-dfeb-4d7c-b836-2fa9368cc5db",
   "metadata": {},
   "source": [
    "## Coherence in Octaves"
   ]
  },
  {
   "cell_type": "code",
   "execution_count": null,
   "id": "58dbb315-d805-454b-b672-5de82b5cbea4",
   "metadata": {
    "tags": []
   },
   "outputs": [],
   "source": [
    "from functions.makeplot_coherence_octaves import __coherence_in_octaves"
   ]
  },
  {
   "cell_type": "code",
   "execution_count": null,
   "id": "6160ce3f-f8e9-4380-b3d9-246274081db6",
   "metadata": {
    "tags": []
   },
   "outputs": [],
   "source": [
    "# def __coherence_in_octaves(st_in, fmin, fmax, normalize=False, plot=True):\n",
    "\n",
    "#     from matplotlib.gridspec import GridSpec\n",
    "#     from numpy import arange, mean, nan, nanmax\n",
    "#     from pandas import DataFrame\n",
    "#     from functions.get_octave_bands import __get_octave_bands\n",
    "#     from scipy.signal import coherence\n",
    "\n",
    "#     flower, fupper, fcenter = __get_octave_bands(fmin, fmax, fband_type=\"one-third-octave\")\n",
    "#     # flower, fupper, fcenter = __get_octave_bands(fmin, fmax, fband_type=\"octave\")\n",
    "\n",
    "#     fbands = [(fl, fu) for fl, fu in zip(flower, fupper)]\n",
    "\n",
    "#     colors = {\"Z\":\"tab:red\", \"N\":\"tab:green\", \"E\":\"blue\"}\n",
    "\n",
    "#     ## _____________________\n",
    "\n",
    "# #     ddf = 3\n",
    "# #     fcenter = arange(fmin+ddf, fmax-ddf, 1)\n",
    "# #     fbands = [(fc - ddf, fc + ddf) for fc in fcenter]\n",
    "\n",
    "#     out = {}\n",
    "\n",
    "#     if plot:\n",
    "#         NN = 5\n",
    "#         font = 12\n",
    "#         rot_scale, rot_unit, omega, sqrt_hz = 1e6, r\"$\\mu$rad/s\" , r\"$\\Omega$\", r\"$\\sqrt{Hz}$\"\n",
    "\n",
    "#         fmin_i, fmax_i = 1.0, 10.0 ## 0.16, 16.5\n",
    "#         fmin_a, fmax_a = 0.1, 1.0  ## 0.02, 1.3\n",
    "\n",
    "\n",
    "#         fig = plt.figure(figsize=(15,14))\n",
    "\n",
    "#         gs = GridSpec(NN, 2, figure=fig)\n",
    "\n",
    "#         ax1 = fig.add_subplot(gs[0, :-1])\n",
    "#         ax2 = fig.add_subplot(gs[1, :-1])\n",
    "#         ax3 = fig.add_subplot(gs[2, :-1])\n",
    "\n",
    "#         ax4 = fig.add_subplot(gs[0, 1:])\n",
    "#         ax5 = fig.add_subplot(gs[1, 1:])\n",
    "#         ax6 = fig.add_subplot(gs[2, 1:])\n",
    "\n",
    "#         ax7 = fig.add_subplot(gs[3:, :])\n",
    "\n",
    "#         plt.subplots_adjust(hspace=0.2)\n",
    "\n",
    "\n",
    "\n",
    "#     for ii, comp in enumerate([\"Z\", \"N\", \"E\"]):\n",
    "\n",
    "#         tr0 = st_in.select(station=\"BSPF\", channel=f'*{comp}').copy()[0]\n",
    "#         tr1 = st_in.select(station=\"BSPF\", channel=f'*{comp}').copy()[0]\n",
    "#         tr2 = st_in.select(station=\"RPFO\", location=\"in\", channel=f'*{comp}').copy()[0]\n",
    "#         tr3 = st_in.select(station=\"RPFO\", location=\"al\", channel=f'*{comp}').copy()[0]\n",
    "\n",
    "#         tr0 = tr0.detrend(\"linear\").taper(0.1).filter(\"bandpass\", freqmin=fmin_i, freqmax=fmax_i, corners=4, zerophase=True)\n",
    "#         tr1 = tr1.detrend(\"linear\").taper(0.1).filter(\"bandpass\", freqmin=fmin_a, freqmax=fmax_a, corners=4, zerophase=True)\n",
    "#         tr2 = tr2.detrend(\"linear\").taper(0.1).filter(\"bandpass\", freqmin=fmin_i, freqmax=fmax_i, corners=4, zerophase=True)\n",
    "#         tr3 = tr3.detrend(\"linear\").taper(0.1).filter(\"bandpass\", freqmin=fmin_a, freqmax=fmax_a, corners=4, zerophase=True)\n",
    "\n",
    "#         if normalize:\n",
    "#             tr0 = tr0.normalize()\n",
    "#             tr1 = tr1.normalize()\n",
    "#             tr2 = tr2.normalize()\n",
    "#             tr3 = tr3.normalize()\n",
    "#             rot_scale, rot_unit = 1, r\"rad/s\"\n",
    "\n",
    "#         co2, co3 = [], []\n",
    "#         for nn, (fl, fu) in enumerate(fbands):\n",
    "#             s0, s1, s2, s3 = tr0.copy(), tr1.copy(), tr2.copy(), tr3.copy()\n",
    "\n",
    "#             df = s1.stats.sampling_rate\n",
    "\n",
    "#             tseg = 1/fl # 1/fcenter[nn]\n",
    "#             nseg = int(df*tseg) if int(df*tseg) < len(s1.data) else len(s1.data)\n",
    "#             nover = int(0.5*nseg)\n",
    "\n",
    "#             ff2, coh2 = coherence(s0.data, s2.data, fs=df, window='hann', nperseg=nseg, noverlap=nover)\n",
    "#             ff3, coh3 = coherence(s1.data, s3.data, fs=df, window='hann', nperseg=nseg, noverlap=nover)\n",
    "\n",
    "# #             ff2, coh2 = coherence(s1.data, s2.data, fs=df, window='hann')\n",
    "# #             ff3, coh3 = coherence(s1.data, s3.data, fs=df, window='hann')\n",
    "\n",
    "#             for i in range(len(ff2)):\n",
    "#                 if ff2[i] <= fl or ff2[i] >= fu:\n",
    "#                     coh2[i], coh3[i] = nan, nan\n",
    "\n",
    "#             plt.semilogx(ff2, coh2)\n",
    "\n",
    "#             co2.append(nanmax(coh2))\n",
    "#             co3.append(nanmax(coh3))\n",
    "\n",
    "#         if plot:\n",
    "\n",
    "#             if comp == \"Z\":\n",
    "#                 ax1.plot(tr0.times(), tr0.data*rot_scale, color=\"k\", label=f\"BSPF-{comp}\")\n",
    "#                 ax1.plot(tr2.times(), tr2.data*rot_scale, color=colors[comp], label=f\"ADR-{comp}\")\n",
    "\n",
    "#                 ax4.plot(tr1.times(), tr1.data*rot_scale, color=\"k\", label=f\"BSPF-{comp}\")\n",
    "#                 ax4.plot(tr3.times(), tr3.data*rot_scale, color=colors[comp], label=f\"ADR-{comp}\")\n",
    "\n",
    "#             elif comp == \"N\":\n",
    "#                 ax2.plot(tr0.times(), tr0.data*rot_scale, color=\"k\", label=f\"BSPF-{comp}\")\n",
    "#                 ax2.plot(tr2.times(), tr2.data*rot_scale, color=colors[comp], label=f\"ADR-{comp}\")\n",
    "\n",
    "#                 ax5.plot(tr1.times(), tr1.data*rot_scale, color=\"k\", label=f\"BSPF-{comp}\")\n",
    "#                 ax5.plot(tr3.times(), tr3.data*rot_scale, color=colors[comp], label=f\"ADR-{comp}\")\n",
    "\n",
    "#             elif comp == \"E\":\n",
    "#                 ax3.plot(tr0.times(), tr0.data*rot_scale, color=\"k\", label=f\"BSPF-{comp}\")\n",
    "#                 ax3.plot(tr2.times(), tr2.data*rot_scale,color=colors[comp], label=f\"ADR-{comp}\")\n",
    "\n",
    "#                 ax6.plot(tr1.times(), tr1.data*rot_scale, color=\"k\", label=f\"BSPF-{comp}\")\n",
    "#                 ax6.plot(tr3.times(), tr3.data*rot_scale, color=colors[comp], label=f\"ADR-{comp}\")\n",
    "\n",
    "#             for ax in [ax1, ax2, ax3, ax4, ax5, ax6]:\n",
    "#                 ax.legend(loc=1, ncol=2)\n",
    "#                 ax.set_ylabel(f\"{omega} ({rot_unit})\", fontsize=font)\n",
    "\n",
    "#             ax7.scatter(fcenter, co2, s=50, marker=\"s\", label=\"BSPF - RPFO_inner\", zorder=2, color=\"w\", edgecolors=colors[comp])\n",
    "#             ax7.plot(fcenter, co2, ls=\"-\", color=colors[comp])\n",
    "\n",
    "#             ax7.scatter(fcenter, co3, s=50, label=\"BSPF - PRFO_all\", zorder=2, color=\"w\", edgecolors=colors[comp])\n",
    "#             ax7.plot(fcenter, co3, ls=\":\", color=colors[comp])\n",
    "\n",
    "#             ax7.legend(loc=4, ncol=3)\n",
    "\n",
    "#             ax7.set_xscale(\"log\")\n",
    "#             ax7.grid(ls=\"--\",zorder=0, alpha=.5, which=\"both\")\n",
    "\n",
    "#             ax7.set_xlabel(\"Frequency (Hz)\", fontsize=font)\n",
    "#             # ax7.set_ylabel(f\"Coherence ({rot_unit}/{sqrt_hz})\", fontsize=font)\n",
    "#             ax7.set_ylabel(f\"max. coherence per one-third-octave\", fontsize=font)\n",
    "\n",
    "#             ax1.set_title(f\"PRFO inner ({fmin_i} - {fmax_i} Hz)\", fontsize=font)\n",
    "#             ax4.set_title(f\"PRFO all ({fmin_a} - {fmax_a} Hz)\", fontsize=font)\n",
    "\n",
    "\n",
    "\n",
    "#         ## prepare output\n",
    "#         out[f'{comp}_in_fc'] = fcenter\n",
    "#         out[f'{comp}_in_co']  = co2\n",
    "#         out[f'{comp}_al_fc'] = fcenter\n",
    "#         out[f'{comp}_al_co']  = co3\n",
    "\n",
    "#     if plot:\n",
    "#         out['fig'] = fig\n",
    "#         plt.show();\n",
    "\n",
    "\n",
    "#     return out"
   ]
  },
  {
   "cell_type": "code",
   "execution_count": null,
   "id": "14cc3678-cc9c-4364-b4bb-007826733432",
   "metadata": {
    "tags": []
   },
   "outputs": [],
   "source": [
    "out_coh = __coherence_in_octaves(st0, fmin, fmax, normalize=False, plot=True)\n",
    "\n",
    "out_coh['fig'].savefig(config['path_to_figs']+f\"BSPF_M62_coherence.png\", dpi=200, bbox_inches='tight', pad_inches=0.05)"
   ]
  },
  {
   "cell_type": "markdown",
   "id": "4f4d2b97-4e71-4625-a02e-929218d56703",
   "metadata": {
    "tags": []
   },
   "source": [
    "## Phase Velocity"
   ]
  },
  {
   "cell_type": "code",
   "execution_count": null,
   "id": "37727ea0-8897-4b23-9bb6-e2a9e85ee884",
   "metadata": {},
   "outputs": [],
   "source": [
    "from functions.compute_velocity_from_amplitude_ratio import __compute_velocity_from_amplitude_ratio"
   ]
  },
  {
   "cell_type": "code",
   "execution_count": null,
   "id": "1af8ea7b-4b1f-4370-972f-ce7f756f1325",
   "metadata": {},
   "outputs": [],
   "source": [
    "acc = st0.select(station=\"PFO*\").copy()\n",
    "rot = st0.select(station=\"BSPF\").copy()\n",
    "# rot = st0.select(station=\"RPFO\", location=\"al\").copy()\n",
    "\n",
    "fmin, fmax = 0.1, 10.0\n",
    "\n",
    "rot.detrend(\"demean\").taper(0.1).filter(\"bandpass\", freqmin=fmin, freqmax=fmax, zerophase=True, corners=8)\n",
    "acc.detrend(\"demean\").taper(0.1).filter(\"bandpass\", freqmin=fmin, freqmax=fmax, zerophase=True, corners=8)\n"
   ]
  },
  {
   "cell_type": "code",
   "execution_count": null,
   "id": "48e5156c-44fc-4ef1-a9fb-526e942a1e05",
   "metadata": {},
   "outputs": [],
   "source": [
    "out = __compute_velocity_from_amplitude_ratio(\n",
    "                                                rot,\n",
    "                                                acc,\n",
    "                                                baz=baz,\n",
    "                                                mode='love',\n",
    "                                                win_time_s=1/fmin,\n",
    "                                                cc_thres=0.5,\n",
    "                                                overlap=0.9,\n",
    "                                                flim=(fmin, fmax),\n",
    "                                                plot=True,\n",
    ")\n",
    "out['fig'].savefig(config['path_to_figs']+f\"BSPF_M62_velocity_love_{rot[0].stats.station}_{fmin}_{fmax}.png\", dpi=200, bbox_inches='tight', pad_inches=0.05)\n",
    "\n",
    "\n",
    "out = __compute_velocity_from_amplitude_ratio(\n",
    "                                                rot,\n",
    "                                                acc,\n",
    "                                                baz=baz,\n",
    "                                                mode='rayleigh',\n",
    "                                                win_time_s=1/fmin,\n",
    "                                                cc_thres=0.5,\n",
    "                                                overlap=0.9,\n",
    "                                                flim=(fmin, fmax),\n",
    "                                                plot=True,\n",
    ")\n",
    "out['fig'].savefig(config['path_to_figs']+f\"BSPF_M62_velocity_rayleigh_{rot[0].stats.station}_{fmin}_{fmax}.png\", dpi=200, bbox_inches='tight', pad_inches=0.05)\n"
   ]
  },
  {
   "cell_type": "markdown",
   "id": "0173840b-df82-4925-b23c-568b36ebec01",
   "metadata": {},
   "source": [
    "# "
   ]
  },
  {
   "cell_type": "markdown",
   "id": "a30dbbdc-d9d0-4415-889c-cb9cfa820676",
   "metadata": {},
   "source": [
    "### Velocity in F-Bands"
   ]
  },
  {
   "cell_type": "code",
   "execution_count": null,
   "id": "5a27f3b5-e27d-4215-a337-0af7b4ed1d4b",
   "metadata": {
    "tags": []
   },
   "outputs": [],
   "source": [
    "from functions.get_octave_bands import __get_octave_bands"
   ]
  },
  {
   "cell_type": "code",
   "execution_count": null,
   "id": "797c0a0f-88ae-4b69-8afc-b9a62c3e334c",
   "metadata": {},
   "outputs": [],
   "source": [
    "def __estimate_velocity_in_fbands(rot, acc, ffmin, ffmax):\n",
    "\n",
    "    # flower, fupper, fcenter = __get_octave_bands(0.01, 10, fband_type=\"one-third-octave\", plot=False)\n",
    "    flower, fupper, fcenter = __get_octave_bands(ffmin, ffmax, fband_type=\"octave\", plot=False)\n",
    "    fbands = [(f1, f2) for f1, f2 in zip(flower, fupper)]\n",
    "\n",
    "\n",
    "    # fbands = [(0.5,0.7), (0.7,0.9), (0.8,1.0), (1.0,2.0), (1.0,5.0), (3.0,8.0), (5.0,12.0)]\n",
    "\n",
    "    love_velo, rayl_velo = [], []\n",
    "    r_flabels, l_flabels = [], []\n",
    "\n",
    "    velo = np.arange(0, 5000, 250)\n",
    "\n",
    "\n",
    "    for fmin, fmax in fbands:\n",
    "\n",
    "        # acc = st0.select(station=\"PFO\").copy();\n",
    "        # # rot = st0.select(station=\"BSPF\").copy();\n",
    "        # rot = st0.select(station=\"RPFO\").copy();\n",
    "\n",
    "        rot = rot.detrend(\"demean\").taper(0.01).filter(\"bandpass\", freqmin=fmin, freqmax=fmax, zerophase=True, corners=8);\n",
    "        acc = acc.detrend(\"demean\").taper(0.01).filter(\"bandpass\", freqmin=fmin, freqmax=fmax, zerophase=True, corners=8);\n",
    "\n",
    "        velo = np.arange(0, 5000, 250)\n",
    "\n",
    "        cc_threshold = 0.2\n",
    "        overlap = 0.9\n",
    "\n",
    "        out_l = __compute_velocity_from_amplitude_ratio(\n",
    "                                                        rot,\n",
    "                                                        acc,\n",
    "                                                        baz=baz,\n",
    "                                                        mode='love',\n",
    "                                                        win_time_s=2/fmin,\n",
    "                                                        cc_thres=cc_threshold,\n",
    "                                                        overlap=overlap,\n",
    "                                                        flim=(fmin, fmax),\n",
    "                                                        plot=False,\n",
    "        )\n",
    "\n",
    "        lvel = out_l['velocity'][~np.isnan(out_l['velocity'])]\n",
    "        if len(lvel) > 0:\n",
    "            hist = np.histogram(out_l['velocity'], bins=len(velo)-1, range=[min(velo), max(velo)], weights=(out_l['ccoef']*100).astype(int), density=False)\n",
    "            data = np.concatenate([np.ones(int(nnn))*val for nnn, val in zip(hist[0], hist[1])], axis=0 )\n",
    "            love_velo.append(data)\n",
    "            l_flabels.append(f\"{round(fmin,1)}-{round(fmax,1)}Hz\")\n",
    "\n",
    "        out_r = __compute_velocity_from_amplitude_ratio(\n",
    "                                                        rot,\n",
    "                                                        acc,\n",
    "                                                        baz=baz,\n",
    "                                                        mode='rayleigh',\n",
    "                                                        win_time_s=2/fmin,\n",
    "                                                        cc_thres=cc_threshold,\n",
    "                                                        overlap=overlap,\n",
    "                                                        flim=(fmin, fmax),\n",
    "                                                        plot=False,\n",
    "        )\n",
    "\n",
    "        rvel = out_r['velocity'][~np.isnan(out_r['velocity'])]\n",
    "        if len(rvel) > 0:\n",
    "            hist = np.histogram(out_r['velocity'], bins=len(velo)-1, range=[min(velo), max(velo)], weights=(out_r['ccoef']*100).astype(int), density=False)\n",
    "            data = np.concatenate([np.ones(int(nnn))*val for nnn, val in zip(hist[0], hist[1])], axis=0 )\n",
    "            rayl_velo.append(data)\n",
    "            r_flabels.append(f\"{round(fmin,1)}-{round(fmax,1)}Hz\")\n",
    "\n",
    "\n",
    "    #     plt.figure()\n",
    "    #     plt.hist(out_l['velocity'], bins=len(velo)-1, range=[min(velo), max(velo)], weights=out_l['ccoef'], density=False, rwidth=0.9)\n",
    "    #     plt.show();\n",
    "\n",
    "    #     plt.figure()\n",
    "    #     plt.hist(out_r['velocity'], bins=len(velo)-1, range=[min(velo), max(velo)], weights=out_r['ccoef'], density=False, rwidth=0.9)\n",
    "    #     plt.show();\n",
    "\n",
    "\n",
    "    fig1, ax = plt.subplots(1, 1, figsize=(15,5))\n",
    "\n",
    "    data = love_velo\n",
    "\n",
    "    ax.yaxis.grid(True)\n",
    "    ax.violinplot(data, showmeans=False, showmedians=True, showextrema=True)\n",
    "\n",
    "    ax.set_ylabel(\"Love Phase Velocity (m/s)\")\n",
    "    ax.set_xticks([y + 1 for y in range(len(data))], labels=l_flabels)\n",
    "\n",
    "    if {rot[0].stats.station} == \"RPFO\":\n",
    "        ax.set_title(f\" {acc[0].stats.station} - {rot[0].stats.station}{rot[0].stats.location[0]} | Overlap = {int(overlap*100)} % | CC_limit = {cc_threshold}\")\n",
    "    else:\n",
    "        ax.set_title(f\" {acc[0].stats.station} - {rot[0].stats.station} | Overlap = {int(overlap*100)} % | CC_limit = {cc_threshold}\")\n",
    "\n",
    "    plt.show();\n",
    "\n",
    "\n",
    "\n",
    "\n",
    "    fig2, ax = plt.subplots(1, 1, figsize=(15,5))\n",
    "\n",
    "    data = rayl_velo\n",
    "\n",
    "    ax.yaxis.grid(True)\n",
    "    ax.violinplot(data, showmeans=False, showmedians=True, showextrema=True)\n",
    "\n",
    "    ax.set_ylabel(\"Rayleigh Phase Velocity (m/s)\")\n",
    "    ax.set_xticks([y + 1 for y in range(len(data))], labels=r_flabels)\n",
    "\n",
    "    if {rot[0].stats.station} == \"RPFO\":\n",
    "        ax.set_title(f\" {acc[0].stats.station} - {rot[0].stats.station}{rot[0].stats.location[0]} | Overlap = {int(overlap*100)} % | CC_limit = {cc_threshold}\")\n",
    "    else:\n",
    "        ax.set_title(f\" {acc[0].stats.station} - {rot[0].stats.station} | Overlap = {int(overlap*100)} % | CC_limit = {cc_threshold}\")\n",
    "\n",
    "    plt.show();\n",
    "    return fig1, fig2"
   ]
  },
  {
   "cell_type": "code",
   "execution_count": null,
   "id": "25ae5ca1-0fd6-44ab-9ecc-93787e3a0e8c",
   "metadata": {},
   "outputs": [],
   "source": [
    "fig1, fig2 = __estimate_velocity_in_fbands(rot, acc, fmin, fmax)\n",
    "\n",
    "fig1.savefig(config['path_to_figs']+f\"BSFP_M62_Love_velocity_fbands_{rot[0].stats.station}_{rot[0].stats.location}.png\", format=\"png\", dpi=200, bbox_inches='tight')\n",
    "fig2.savefig(config['path_to_figs']+f\"BSFP_M62_Rayleigh_velocity_fbands_{rot[0].stats.station}_{rot[0].stats.location}.png\", format=\"png\", dpi=200, bbox_inches='tight')"
   ]
  },
  {
   "cell_type": "markdown",
   "id": "f9766835-6b00-495d-be19-b9d0dfe3c9b1",
   "metadata": {},
   "source": [
    "## BAZ in F-Bands ??"
   ]
  },
  {
   "cell_type": "code",
   "execution_count": null,
   "id": "362900f3-fa87-4f95-b47e-b27491edb8c1",
   "metadata": {
    "tags": []
   },
   "outputs": [],
   "source": [
    "def __estimate_baz_in_fbands():\n",
    "\n",
    "    # flower, fupper, fcenter = __get_octave_bands(0.5, 10, fband_type=\"one-third-octave\", plot=False)\n",
    "    flower, fupper, fcenter = __get_octave_bands(0.5, 10, fband_type=\"octave\", plot=False)\n",
    "    fbands = [(f1, f2) for f1, f2 in zip(flower, fupper)]\n",
    "\n",
    "\n",
    "    # fbands = [(0.5,0.7), (0.7,0.9), (0.8,1.0), (1.0,2.0), (1.0,5.0), (3.0,8.0)]\n",
    "\n",
    "    backazis = []\n",
    "    flabels = []\n",
    "\n",
    "    angles = np.arange(0, 365, 5)\n",
    "\n",
    "    for fmin, fmax in fbands:\n",
    "\n",
    "        print(fmin, fmax)\n",
    "\n",
    "        acc = st0.select(station=\"PFO\").copy();\n",
    "        rot = st0.select(station=\"BSPF\").copy();\n",
    "        # rot = st0.select(station=\"RPFO\").copy();\n",
    "\n",
    "        rot = rot.detrend(\"demean\").taper(0.01).filter(\"bandpass\", freqmin=fmin, freqmax=fmax, zerophase=True, corners=8);\n",
    "        acc = acc.detrend(\"demean\").taper(0.01).filter(\"bandpass\", freqmin=fmin, freqmax=fmax, zerophase=True, corners=8);\n",
    "\n",
    "        win_time_s = 1/fmin\n",
    "        cc_threshold = 0.2\n",
    "        overlap = 0.9\n",
    "\n",
    "\n",
    "\n",
    "        out3 = __compute_backazimuth_tangent(\n",
    "                                            rot,\n",
    "                                            acc,\n",
    "                                            win_time_s=win_time_s,\n",
    "                                            overlap=overlap,\n",
    "                                            baz_theo=None,\n",
    "                                            cc_thres=cc_threshold,\n",
    "                                            plot=False,\n",
    "        )\n",
    "\n",
    "\n",
    "        if len(out3['baz_est']) > 0:\n",
    "            hist = np.histogram(out3['baz_est'], bins=len(angles)-1, range=[min(angles), max(angles)], weights=(out3['ccoef']*100).astype(int), density=False)\n",
    "            dat = np.concatenate([np.ones(int(nnn))*val for nnn, val in zip( hist[0], hist[1])], axis=0 )\n",
    "            backazis.append(dat)\n",
    "            flabels.append(f\"{round(fmin,1)}-{round(fmax,1)}Hz\")\n",
    "        else:\n",
    "            print(f\"empty results\")\n",
    "\n",
    "\n",
    "    fig, ax = plt.subplots(1, 1, figsize=(15,5))\n",
    "\n",
    "\n",
    "    ax.yaxis.grid(True)\n",
    "\n",
    "    ax.violinplot(backazis, showmeans=False, showmedians=True, showextrema=True)\n",
    "\n",
    "    ax.set_ylabel(\"Rayleigh Phase Velocity (m/s)\")\n",
    "    ax.set_xticks([y + 1 for y in range(len(data))], labels=flabels)\n",
    "\n",
    "    ax.set_title(f\" {acc[0].stats.station} - {rot[0].stats.station} | Overlap = {int(overlap*100)} % | CC_limit = {cc_threshold}\")\n",
    "\n",
    "    ax.set_ylim(0, 360)\n",
    "\n",
    "    # fig.savefig(config['path_to_figs']+f\"BSFP_Rayleigh_velocity_fbands_{rot[0].stats.station}.png\", format=\"png\", dpi=200, bbox_inches='tight')\n",
    "\n",
    "    plt.show();\n",
    "\n",
    "# __estimate_baz_in_fbands()"
   ]
  },
  {
   "cell_type": "code",
   "execution_count": null,
   "id": "14a96c19-3321-4b0e-b100-337467080f88",
   "metadata": {},
   "outputs": [],
   "source": []
  },
  {
   "cell_type": "code",
   "execution_count": null,
   "id": "f92b9ca6-dc42-416e-9b2c-35a95ea94ffe",
   "metadata": {},
   "outputs": [],
   "source": []
  },
  {
   "cell_type": "code",
   "execution_count": null,
   "id": "fdec5c07-3f76-43a5-b42a-bc99ba2176f8",
   "metadata": {},
   "outputs": [],
   "source": []
  },
  {
   "cell_type": "code",
   "execution_count": null,
   "id": "6e561eb1-a1a5-483a-8850-153a68ca7c6e",
   "metadata": {},
   "outputs": [],
   "source": []
  }
 ],
 "metadata": {
  "kernelspec": {
   "display_name": "Python 3 (ipykernel)",
   "language": "python",
   "name": "python3"
  },
  "language_info": {
   "codemirror_mode": {
    "name": "ipython",
    "version": 3
   },
   "file_extension": ".py",
   "mimetype": "text/x-python",
   "name": "python",
   "nbconvert_exporter": "python",
   "pygments_lexer": "ipython3",
   "version": "3.10.12"
  },
  "latex_envs": {
   "LaTeX_envs_menu_present": true,
   "autoclose": false,
   "autocomplete": true,
   "bibliofile": "biblio.bib",
   "cite_by": "apalike",
   "current_citInitial": 1,
   "eqLabelWithNumbers": true,
   "eqNumInitial": 1,
   "hotkeys": {
    "equation": "Ctrl-E",
    "itemize": "Ctrl-I"
   },
   "labels_anchors": false,
   "latex_user_defs": false,
   "report_style_numbering": false,
   "user_envs_cfg": false
  },
  "toc": {
   "base_numbering": 1,
   "nav_menu": {},
   "number_sections": true,
   "sideBar": true,
   "skip_h1_title": false,
   "title_cell": "Table of Contents",
   "title_sidebar": "Contents",
   "toc_cell": false,
   "toc_position": {},
   "toc_section_display": true,
   "toc_window_display": false
  },
  "varInspector": {
   "cols": {
    "lenName": 16,
    "lenType": 16,
    "lenVar": 40
   },
   "kernels_config": {
    "python": {
     "delete_cmd_postfix": "",
     "delete_cmd_prefix": "del ",
     "library": "var_list.py",
     "varRefreshCmd": "print(var_dic_list())"
    },
    "r": {
     "delete_cmd_postfix": ") ",
     "delete_cmd_prefix": "rm(",
     "library": "var_list.r",
     "varRefreshCmd": "cat(var_dic_list()) "
    }
   },
   "types_to_exclude": [
    "module",
    "function",
    "builtin_function_or_method",
    "instance",
    "_Feature"
   ],
   "window_display": false
  }
 },
 "nbformat": 4,
 "nbformat_minor": 5
}
