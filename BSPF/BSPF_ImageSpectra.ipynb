{
 "cells": [
  {
   "cell_type": "markdown",
   "id": "eda030d3",
   "metadata": {},
   "source": [
    "# Analyse Rotation Spectra - Image Overview Hours\n"
   ]
  },
  {
   "cell_type": "code",
   "execution_count": null,
   "id": "f1ed0799",
   "metadata": {},
   "outputs": [],
   "source": []
  },
  {
   "cell_type": "markdown",
   "id": "protected-presentation",
   "metadata": {},
   "source": [
    "## Load Libraries"
   ]
  },
  {
   "cell_type": "code",
   "execution_count": null,
   "id": "behind-arrangement",
   "metadata": {
    "ExecuteTime": {
     "end_time": "2023-07-02T20:44:23.471462Z",
     "start_time": "2023-07-02T20:44:22.299973Z"
    }
   },
   "outputs": [],
   "source": [
    "from andbro__querrySeismoData import __querrySeismoData\n",
    "from andbro__savefig import __savefig\n",
    "\n",
    "from obspy import UTCDateTime\n",
    "from numpy import log10, zeros, pi, append, linspace, mean, median, array, where, transpose, shape, histogram, arange\n",
    "from numpy import logspace, linspace, log, log10, isinf, ones, nan, count_nonzero, sqrt, isnan\n",
    "from pandas import DataFrame, concat, Series, date_range, read_csv, read_pickle\n",
    "from tqdm import tqdm_notebook\n",
    "from pathlib import Path\n",
    "from scipy.stats import median_absolute_deviation as mad\n",
    "from scipy.signal import welch\n",
    "\n",
    "import os\n",
    "import pickle\n",
    "import matplotlib.pyplot as plt"
   ]
  },
  {
   "cell_type": "code",
   "execution_count": null,
   "id": "cfe860f0",
   "metadata": {
    "ExecuteTime": {
     "end_time": "2023-07-02T20:44:23.480449Z",
     "start_time": "2023-07-02T20:44:23.476989Z"
    }
   },
   "outputs": [],
   "source": [
    "if os.uname().nodename == \"lighthouse\":\n",
    "    root_path = \"/home/andbro/kilauea-data/\"\n",
    "elif os.uname().nodename == \"kilauea\":\n",
    "    root_path = \"/import/kilauea-data/\""
   ]
  },
  {
   "cell_type": "code",
   "execution_count": null,
   "id": "e4858b93",
   "metadata": {
    "ExecuteTime": {
     "end_time": "2023-07-02T20:44:23.486931Z",
     "start_time": "2023-07-02T20:44:23.481977Z"
    },
    "code_folding": [
     0
    ]
   },
   "outputs": [],
   "source": [
    "def __get_minimal_psd(psds):\n",
    "\n",
    "    from numpy import nanmin, array, nonzero\n",
    "    \n",
    "    min_psd = zeros(psds.shape[1])\n",
    "    \n",
    "    for f in range(psds.shape[1]):\n",
    "        a = psds[:,f]\n",
    "        min_psd[f] = nanmin(a[nonzero(a)])\n",
    "    \n",
    "    return min_psd"
   ]
  },
  {
   "cell_type": "code",
   "execution_count": null,
   "id": "d377053c",
   "metadata": {
    "ExecuteTime": {
     "end_time": "2023-07-02T20:44:23.497777Z",
     "start_time": "2023-07-02T20:44:23.490028Z"
    },
    "code_folding": [
     0
    ]
   },
   "outputs": [],
   "source": [
    "def __get_median_psd(psds):\n",
    "\n",
    "    from numpy import median, zeros, isnan\n",
    "\n",
    "    med_psd = zeros(psds.shape[1])\n",
    "\n",
    "    for f in range(psds.shape[1]):\n",
    "        a = psds[:,f]\n",
    "        med_psd[f] = median(a[~isnan(a)])\n",
    "\n",
    "    return med_psd"
   ]
  },
  {
   "cell_type": "code",
   "execution_count": null,
   "id": "8faa83d9",
   "metadata": {
    "ExecuteTime": {
     "end_time": "2023-07-02T20:44:23.503261Z",
     "start_time": "2023-07-02T20:44:23.499663Z"
    },
    "code_folding": [
     0
    ]
   },
   "outputs": [],
   "source": [
    "def __get_mean_psd(psds):\n",
    "\n",
    "    from numpy import mean, zeros, isnan\n",
    "\n",
    "    mean_psd = zeros(psds.shape[1])\n",
    "\n",
    "    for f in range(psds.shape[1]):\n",
    "        a = psds[:,f]\n",
    "        mean_psd[f] = mean(a[~isnan(a)])\n",
    "\n",
    "    return mean_psd"
   ]
  },
  {
   "cell_type": "code",
   "execution_count": null,
   "id": "af6a3772",
   "metadata": {
    "ExecuteTime": {
     "end_time": "2023-07-02T20:44:23.509704Z",
     "start_time": "2023-07-02T20:44:23.504914Z"
    },
    "code_folding": [
     0
    ]
   },
   "outputs": [],
   "source": [
    "def __get_minimum_psd(psds):\n",
    "            \n",
    "    for i, psd in enumerate(psds):\n",
    "        if i == 0: \n",
    "            lowest_value = psd.sum()\n",
    "            idx = 0\n",
    "\n",
    "        value = psd.sum() \n",
    "        \n",
    "        if value < lowest_value and value != 0:\n",
    "            lowest_value = value\n",
    "            idx = i   \n",
    "    \n",
    "    return psds[idx]"
   ]
  },
  {
   "cell_type": "code",
   "execution_count": null,
   "id": "fe2e4201",
   "metadata": {
    "ExecuteTime": {
     "end_time": "2023-07-02T20:44:23.523701Z",
     "start_time": "2023-07-02T20:44:23.513231Z"
    },
    "code_folding": [
     0
    ]
   },
   "outputs": [],
   "source": [
    "def __load_psds(file, config):\n",
    "\n",
    "    ## get data to dataframe and transpose and reindex\n",
    "    df = read_csv(file, index_col=False)\n",
    "    df = df.transpose()\n",
    "    df.reset_index(inplace=True)\n",
    "    # df.dtypes\n",
    "    # df.mean()\n",
    "\n",
    "    ## set column names\n",
    "    try:\n",
    "        columns = pickle.load(open(f\"{config['inpath']}{config['inname']}_columns.pick\", 'rb'))\n",
    "        df.columns = [column.replace(\"-\",\"\") for column in columns]\n",
    "    except:\n",
    "        columns = arange(0,df.shape[1]).astype(str)\n",
    "        df.columns = columns\n",
    "        print(\" -> Failed to assign column names! Assigned numbers instead!\")\n",
    "\n",
    "    ## check for column dublicates\n",
    "    if len(df.columns.unique()) != len(df.columns):\n",
    "        print(f\" -> removing {len(df.columns)-len(df.columns.unique())} column dublicate(s)!\")\n",
    "        df = df.loc[:,~df.columns.duplicated()]\n",
    "\n",
    "    count=0\n",
    "    dates_expected = date_range(config['date1'].date, config['date2'].date, periods=int((config['date2']-config['date1'])/86400)+1)\n",
    "    for dex in dates_expected:\n",
    "        dex=str(dex.isoformat()[:10]).replace(\"-\",\"\")\n",
    "        if not dex in df.columns:\n",
    "            count+=1\n",
    "    print(f\" -> missing {count} days\")\n",
    "        \n",
    "    print(f\" -> total of {df.shape[0]} psds\")\n",
    "        \n",
    "#     ## convert to list\n",
    "#     psds = []\n",
    "#     for col in array(df.columns):\n",
    "        \n",
    "#         ## turn non-float series to float objects\n",
    "#         df[col] = pd.to_numeric(df[col], errors = 'coerce')\n",
    "\n",
    "#         ## add to psds list\n",
    "#         psds.append(array(df[col]))\n",
    "        \n",
    "    return df"
   ]
  },
  {
   "cell_type": "code",
   "execution_count": null,
   "id": "d4ffd698",
   "metadata": {
    "ExecuteTime": {
     "end_time": "2023-07-02T20:44:23.531420Z",
     "start_time": "2023-07-02T20:44:23.526381Z"
    },
    "code_folding": [
     0
    ]
   },
   "outputs": [],
   "source": [
    "def __get_array_from_dataframe(df):\n",
    "    \n",
    "    from pandas import to_numeric\n",
    "    \n",
    "    ## convert to list\n",
    "    psds = []\n",
    "    for col in array(df.columns):\n",
    "        \n",
    "        ## turn non-float series to float objects\n",
    "        df[col] = to_numeric(df[col], errors = 'coerce')\n",
    "\n",
    "        ## add to psds list\n",
    "        psds.append(array(df[col]))\n",
    "\n",
    "    return array(psds)"
   ]
  },
  {
   "cell_type": "code",
   "execution_count": null,
   "id": "21d2d997",
   "metadata": {
    "ExecuteTime": {
     "end_time": "2023-07-02T20:44:23.538632Z",
     "start_time": "2023-07-02T20:44:23.532879Z"
    },
    "code_folding": [
     0
    ]
   },
   "outputs": [],
   "source": [
    "# def __remove_noisy_psds(df, threshold_mean=1e-13):\n",
    "\n",
    "#     from numpy import delete\n",
    "    \n",
    "#     l1 = len(df.columns)\n",
    "#     for col in df.columns:\n",
    "# #         print(col, type(col))\n",
    "#         if df[col].astype(float).mean() > threshold_mean:\n",
    "#             df = df.drop(columns=col)\n",
    "#     l2 = len(df.columns)\n",
    "#     print(f\" -> removed {l1-l2} columns due to mean thresholds!\")\n",
    "#     print(f\" -> {l2} psds remain\")\n",
    "    \n",
    "#     return df"
   ]
  },
  {
   "cell_type": "code",
   "execution_count": null,
   "id": "b86aa31f",
   "metadata": {
    "ExecuteTime": {
     "end_time": "2023-07-02T20:44:23.544714Z",
     "start_time": "2023-07-02T20:44:23.540771Z"
    },
    "code_folding": [
     0
    ]
   },
   "outputs": [],
   "source": [
    "def __get_percentiles(arr):\n",
    "    \n",
    "    from numpy import zeros, nanpercentile\n",
    "    \n",
    "    percentiles_lower = zeros(shape(arr)[1])\n",
    "    percentiles_upper = zeros(shape(arr)[1])\n",
    "\n",
    "    for kk in range(shape(arr)[1]):\n",
    "        out = nanpercentile(arr[:, kk],  [2.5 ,97.5])\n",
    "        percentiles_upper[kk] = out[1]\n",
    "        percentiles_lower[kk] = out[0]\n",
    "        \n",
    "    return percentiles_lower, percentiles_upper"
   ]
  },
  {
   "cell_type": "markdown",
   "id": "subject-expression",
   "metadata": {},
   "source": [
    "## Configurations"
   ]
  },
  {
   "cell_type": "code",
   "execution_count": 11,
   "id": "e89d22a7",
   "metadata": {
    "ExecuteTime": {
     "end_time": "2023-07-02T20:44:24.861568Z",
     "start_time": "2023-07-02T20:44:24.660404Z"
    }
   },
   "outputs": [],
   "source": [
    "## _________________________________________________________\n",
    "\n",
    "# name = \"BSPF\"\n",
    "# inname = \"2023_BSPF_Z_3600\"  ## \"2022_BSPF_Z_3600\"\n",
    "# subdir = \"BSPF_2023_Z/\"  ## \"BSPF_2022_Z/\"\n",
    "# threshold = 8e-14\n",
    "# period_limits = 1/80, 30  ## 1/50, 30\n",
    "\n",
    "name = \"PFOIX\"\n",
    "inname = \"2023_PFOIX_Z_3600\"\n",
    "subdir = \"PFOIX_2023_Z/\"\n",
    "threshold = 8e-14\n",
    "period_limits = 1/80, 100  ## 1/50, 30\n",
    "\n",
    "\n",
    "## _________________________________________________________\n",
    "\n",
    "\n",
    "path = f\"{root_path}BSPF/data/\"\n",
    "\n",
    "config = pickle.load(open(path+subdir+inname+\"_config.pkl\", 'rb'))\n",
    "\n",
    "config['inname'] = inname\n",
    "config['inpath'] = path+subdir\n",
    "config['period_limits'] = period_limits\n",
    "config['thres'] = threshold\n",
    "\n",
    "config['outpath_figures'] = f\"{root_path}BSPF/figures/\"\n",
    "\n",
    "config['rlnm_model_path'] = f\"{root_path}LNM/data/MODELS/\"\n",
    "\n",
    "config['frequency_limits'] = [1/config['period_limits'][1], 1/config['period_limits'][0]]\n"
   ]
  },
  {
   "cell_type": "code",
   "execution_count": null,
   "id": "4d4a80e4",
   "metadata": {
    "ExecuteTime": {
     "end_time": "2023-07-02T20:41:03.595545Z",
     "start_time": "2023-07-02T20:41:03.216617Z"
    }
   },
   "outputs": [],
   "source": [
    "!ls /home/andbro/kilauea-data/BSPF/data"
   ]
  },
  {
   "cell_type": "markdown",
   "id": "natural-beginning",
   "metadata": {},
   "source": [
    "## Load as Arrays"
   ]
  },
  {
   "cell_type": "code",
   "execution_count": null,
   "id": "2d64a313",
   "metadata": {
    "ExecuteTime": {
     "end_time": "2023-07-02T20:41:03.604699Z",
     "start_time": "2023-07-02T20:41:03.598474Z"
    },
    "code_folding": [
     0
    ]
   },
   "outputs": [],
   "source": [
    "def __load_data_files(config, path):\n",
    "    \n",
    "    from tqdm.notebook import tqdm\n",
    "    from numpy import array\n",
    "    \n",
    "    print(path)\n",
    "    \n",
    "    config['files'] = [file for file in os.listdir(path) if \"hourly\" in file]\n",
    "    config['files'].sort()\n",
    "\n",
    "    psds_all, times_nom, times = [], arange(0, 24*365, 1), []\n",
    "    count, missing  = 0, 0\n",
    "    \n",
    "    for file in tqdm(config['files']):\n",
    "        date = file.split(\"_\")[-2]\n",
    "        psds_hourly = read_pickle(path+file)\n",
    "\n",
    "        for h in range(24):\n",
    "            try:\n",
    "                psds_all.append(psds_hourly[h])\n",
    "                times.append(times_nom[count])\n",
    "            except:\n",
    "                missing += 1\n",
    "            count += 1\n",
    "            \n",
    "    print(f\" -> missing: {missing}\")\n",
    "    return array(psds_all), times"
   ]
  },
  {
   "cell_type": "code",
   "execution_count": 13,
   "id": "6613e489",
   "metadata": {
    "ExecuteTime": {
     "end_time": "2023-07-02T20:44:54.954555Z",
     "start_time": "2023-07-02T20:44:53.358753Z"
    },
    "code_folding": []
   },
   "outputs": [
    {
     "ename": "NameError",
     "evalue": "name 'ADR_Z' is not defined",
     "output_type": "error",
     "traceback": [
      "\u001b[0;31m---------------------------------------------------------------------------\u001b[0m",
      "\u001b[0;31mNameError\u001b[0m                                 Traceback (most recent call last)",
      "\u001b[0;32m/tmp/ipykernel_570856/509536453.py\u001b[0m in \u001b[0;36m<module>\u001b[0;34m\u001b[0m\n\u001b[1;32m      4\u001b[0m \u001b[0mtimes_Z\u001b[0m \u001b[0;34m=\u001b[0m \u001b[0mpickle\u001b[0m\u001b[0;34m.\u001b[0m\u001b[0mload\u001b[0m\u001b[0;34m(\u001b[0m\u001b[0mopen\u001b[0m\u001b[0;34m(\u001b[0m\u001b[0;34mf\"{config['inpath'].replace('Z','Z')}{config['inname'].replace('Z','Z')}_times_axis.pkl\"\u001b[0m\u001b[0;34m,\u001b[0m \u001b[0;34m'rb'\u001b[0m\u001b[0;34m)\u001b[0m\u001b[0;34m)\u001b[0m\u001b[0;34m\u001b[0m\u001b[0;34m\u001b[0m\u001b[0m\n\u001b[1;32m      5\u001b[0m \u001b[0;34m\u001b[0m\u001b[0m\n\u001b[0;32m----> 6\u001b[0;31m \u001b[0mlen\u001b[0m\u001b[0;34m(\u001b[0m\u001b[0mADR_Z\u001b[0m\u001b[0;34m)\u001b[0m\u001b[0;34m,\u001b[0m \u001b[0mlen\u001b[0m\u001b[0;34m(\u001b[0m\u001b[0mff_Z\u001b[0m\u001b[0;34m)\u001b[0m\u001b[0;34m,\u001b[0m \u001b[0mlen\u001b[0m\u001b[0;34m(\u001b[0m\u001b[0mtimes_Z\u001b[0m\u001b[0;34m)\u001b[0m\u001b[0;34m\u001b[0m\u001b[0;34m\u001b[0m\u001b[0m\n\u001b[0m",
      "\u001b[0;31mNameError\u001b[0m: name 'ADR_Z' is not defined"
     ]
    }
   ],
   "source": [
    "# ADR_Z, times_Z = __load_data_files(config, config['inpath'].replace(\"Z\",\"Z\"))\n",
    "\n",
    "ff_Z = pickle.load(open(f\"{config['inpath'].replace('Z','Z')}{config['inname'].replace('Z','Z')}_frequency_axis.pkl\", 'rb'))\n",
    "times_Z = pickle.load(open(f\"{config['inpath'].replace('Z','Z')}{config['inname'].replace('Z','Z')}_times_axis.pkl\", 'rb'))\n",
    "\n",
    "len(ADR_Z), len(ff_Z), len(times_Z)"
   ]
  },
  {
   "cell_type": "code",
   "execution_count": null,
   "id": "7577ac38",
   "metadata": {
    "ExecuteTime": {
     "end_time": "2023-07-02T17:37:16.112264Z",
     "start_time": "2023-07-02T17:28:34.654298Z"
    },
    "code_folding": []
   },
   "outputs": [],
   "source": [
    "ADR_N, times_N = __load_data_files(config, config['inpath'].replace(\"Z\",\"N\"))\n",
    "\n",
    "ff_N = pickle.load(open(f\"{config['inpath'].replace('Z','N')}{config['inname'].replace('Z','N')}_frequency_axis.pkl\", 'rb'))\n",
    "times_N = pickle.load(open(f\"{config['inpath'].replace('Z','N')}{config['inname'].replace('Z','N')}_times_axis.pkl\", 'rb'))\n",
    "\n",
    "len(ADR_N), len(ff_N), len(times_N)"
   ]
  },
  {
   "cell_type": "code",
   "execution_count": null,
   "id": "35510bc2",
   "metadata": {
    "ExecuteTime": {
     "end_time": "2023-07-02T17:25:02.847245Z",
     "start_time": "2023-07-02T17:25:02.847225Z"
    },
    "code_folding": []
   },
   "outputs": [],
   "source": [
    "ADR_E, times_E = __load_data_files(config, config['inpath'].replace(\"Z\",\"E\"))\n",
    "\n",
    "ff_E = pickle.load(open(f\"{config['inpath'].replace('Z','E')}{config['inname'].replace('Z','E')}_frequency_axis.pkl\", 'rb'))\n",
    "times_E = pickle.load(open(f\"{config['inpath'].replace('Z','E')}{config['inname'].replace('Z','E')}_times_axis.pkl\", 'rb'))\n",
    "\n",
    "\n",
    "len(ADR_E), len(ff_E), len(times_E)"
   ]
  },
  {
   "cell_type": "markdown",
   "id": "c153a82e",
   "metadata": {},
   "source": [
    "### Cut Frequency Range"
   ]
  },
  {
   "cell_type": "code",
   "execution_count": null,
   "id": "a025d8ab",
   "metadata": {
    "ExecuteTime": {
     "end_time": "2023-07-02T15:19:33.063712Z",
     "start_time": "2023-07-02T15:19:33.059890Z"
    },
    "code_folding": [
     0
    ]
   },
   "outputs": [],
   "source": [
    "def __cut_frequencies_array(arr, freqs, fmin, fmax):\n",
    "\n",
    "    ind = []\n",
    "    for i, f in enumerate(freqs):\n",
    "        if f >= fmin and f <= fmax:\n",
    "            ind.append(i)\n",
    "\n",
    "    ff = freqs[ind[0]:ind[-1]]\n",
    "    pp = arr[:,ind[0]:ind[-1]]\n",
    "    \n",
    "    return pp, ff "
   ]
  },
  {
   "cell_type": "code",
   "execution_count": null,
   "id": "5ba38476",
   "metadata": {
    "ExecuteTime": {
     "end_time": "2023-07-02T15:19:33.109012Z",
     "start_time": "2023-07-02T15:19:33.066160Z"
    }
   },
   "outputs": [],
   "source": [
    "ADR_N, ff_N = __cut_frequencies_array(ADR_N, ff_N, config['frequency_limits'][0], config['frequency_limits'][1])\n",
    "ADR_E, ff_E = __cut_frequencies_array(ADR_E, ff_E, config['frequency_limits'][0], config['frequency_limits'][1])\n",
    "ADR_Z, ff_Z = __cut_frequencies_array(ADR_Z, ff_Z, config['frequency_limits'][0], config['frequency_limits'][1])"
   ]
  },
  {
   "cell_type": "markdown",
   "id": "d7d05f3d",
   "metadata": {
    "ExecuteTime": {
     "end_time": "2022-11-10T13:13:24.317324Z",
     "start_time": "2022-11-10T13:13:24.315321Z"
    }
   },
   "source": [
    "## Remove Noisy PSDs"
   ]
  },
  {
   "cell_type": "code",
   "execution_count": null,
   "id": "92d7c1df",
   "metadata": {
    "ExecuteTime": {
     "end_time": "2023-07-02T15:19:33.114181Z",
     "start_time": "2023-07-02T15:19:33.110254Z"
    },
    "code_folding": [
     0
    ]
   },
   "outputs": [],
   "source": [
    "def __remove_noisy_psds(arr, times, threshold_mean=1e-16):\n",
    "\n",
    "    from numpy import delete, shape, sort, array, nan\n",
    "    \n",
    "    l1 = shape(arr)[0]\n",
    "\n",
    "    idx_to_remove = []\n",
    "    for ii in range(shape(arr)[0]):\n",
    "        \n",
    "        ## appy upper threshold\n",
    "        if arr[ii,:].mean() > threshold_mean:\n",
    "            idx_to_remove.append(ii)\n",
    "            \n",
    "        ## apply default lowe threshold\n",
    "        if arr[ii,:].mean() < 1e-26:\n",
    "            idx_to_remove.append(ii)\n",
    "            \n",
    "    for jj in sort(array(idx_to_remove))[::-1]:\n",
    "        \n",
    "        ## option 1: delte rows\n",
    "#         arr = delete(arr, jj, axis=0)\n",
    "#         times = delete(times, jj, axis=0)\n",
    "\n",
    "        ## option 2: replace with nan values\n",
    "        arr[jj,:] = ones(len(arr[jj]))*nan\n",
    "    \n",
    "    l2 = shape(arr)[0]\n",
    "    \n",
    "    print(f\" -> removed {l1-l2} rows due to mean thresholds!\")\n",
    "    print(f\" -> {l2} psds remain\")\n",
    "    \n",
    "    return arr, times"
   ]
  },
  {
   "cell_type": "code",
   "execution_count": null,
   "id": "2b8b1666",
   "metadata": {
    "ExecuteTime": {
     "end_time": "2023-07-02T15:19:33.387809Z",
     "start_time": "2023-07-02T15:19:33.115878Z"
    },
    "code_folding": []
   },
   "outputs": [],
   "source": [
    "ADR_N, times_N = __remove_noisy_psds(ADR_N, times_N, threshold_mean=config['thres'])\n",
    "ADR_E, times_E = __remove_noisy_psds(ADR_E, times_E, threshold_mean=config['thres'])\n",
    "ADR_Z, times_Z = __remove_noisy_psds(ADR_Z, times_Z, threshold_mean=config['thres'])"
   ]
  },
  {
   "cell_type": "markdown",
   "id": "c9e6e75d",
   "metadata": {},
   "source": [
    "## Write Statistics to Files"
   ]
  },
  {
   "cell_type": "code",
   "execution_count": null,
   "id": "087beef5",
   "metadata": {
    "ExecuteTime": {
     "end_time": "2023-07-02T15:19:33.392453Z",
     "start_time": "2023-07-02T15:19:33.389056Z"
    },
    "code_folding": [
     0
    ]
   },
   "outputs": [],
   "source": [
    "def __write_stats_mod(config, ff, arr, comp):\n",
    "    \n",
    "    out_df = DataFrame()\n",
    "\n",
    "    out_df['frequencies'] = ff\n",
    "    out_df['minimal'] = __get_minimal_psd(arr)\n",
    "    out_df['median'] = __get_median_psd(arr)\n",
    "    out_df['minimum'] = __get_minimum_psd(arr)\n",
    "    out_df['mean'] = __get_mean_psd(arr)\n",
    "\n",
    "    print(f\" -> writing {config['inpath'].replace('Z',comp)}{config['inname'].replace('Z',comp)}_stats_mod.pkl\")\n",
    "    out_df.to_pickle(f\"{config['inpath'].replace('Z',comp)}{config['inname'].replace('Z',comp)}_stats_mod.pkl\")"
   ]
  },
  {
   "cell_type": "code",
   "execution_count": null,
   "id": "63b02e0b",
   "metadata": {
    "ExecuteTime": {
     "end_time": "2023-07-02T15:19:33.397355Z",
     "start_time": "2023-07-02T15:19:33.394454Z"
    }
   },
   "outputs": [],
   "source": [
    "# __write_stats_mod(config, ff_N, ADR_N, \"N\")\n",
    "# __write_stats_mod(config, ff_E, ADR_E, \"E\")\n",
    "# __write_stats_mod(config, ff_Z, ADR_Z, \"Z\")"
   ]
  },
  {
   "cell_type": "markdown",
   "id": "9137ea1a",
   "metadata": {},
   "source": [
    "## Check dimensions"
   ]
  },
  {
   "cell_type": "code",
   "execution_count": null,
   "id": "c5c34f0a",
   "metadata": {
    "ExecuteTime": {
     "end_time": "2023-07-02T15:19:33.405676Z",
     "start_time": "2023-07-02T15:19:33.398589Z"
    },
    "code_folding": [
     0
    ]
   },
   "outputs": [],
   "source": [
    "def __check():\n",
    "    if len(times_N) != shape(ADR_N)[0]:\n",
    "        print(\"-> times N:\", len(times_N), shape(ADR_N)[0])\n",
    "    if len(ff_N) != shape(ADR_N)[1]:\n",
    "        print(\"-> freqs N:\", len(ff_N), shape(ADR_N)[0])\n",
    "    \n",
    "    if len(times_E) != shape(ADR_E)[0]:\n",
    "        print(\"-> times E:\", len(times_E), shape(ADR_E)[0])\n",
    "    if len(ff_E) != shape(ADR_E)[1]:\n",
    "        print(\"-> freqs E:\", len(ff_E), shape(ADR_E)[0])\n",
    "        \n",
    "    if len(times_Z) != shape(ADR_Z)[0]:\n",
    "        print(\"-> times Z:\", len(times_Z), shape(ADR_Z)[0])\n",
    "    if len(ff_Z) != shape(ADR_Z)[1]:\n",
    "        print(\"-> freqs Z:\", len(ff_Z), shape(ADR_Z)[0])\n",
    "        \n",
    "__check()"
   ]
  },
  {
   "cell_type": "markdown",
   "id": "086fd5d0",
   "metadata": {},
   "source": [
    "## Plotting"
   ]
  },
  {
   "cell_type": "code",
   "execution_count": null,
   "id": "5c6e0837",
   "metadata": {
    "ExecuteTime": {
     "end_time": "2023-07-02T15:19:33.415545Z",
     "start_time": "2023-07-02T15:19:33.407070Z"
    },
    "code_folding": [
     0
    ]
   },
   "outputs": [],
   "source": [
    "def __makeplot_image(ff, psds, times, dates=None):\n",
    "    \n",
    "    from tqdm.notebook import tqdm\n",
    "    from numpy import isnan, median, mean, std, array, zeros, nanmax, nanmin\n",
    "    from scipy.stats import median_abs_deviation as mad\n",
    "    from matplotlib import colors\n",
    "\n",
    "\n",
    "    ##____________________________\n",
    "        \n",
    "    fig, axes = plt.subplots(1, 1, figsize=(12,8), sharey=False, sharex=False)\n",
    "\n",
    "    plt.subplots_adjust(hspace=0.1)\n",
    "    \n",
    "    font = 14\n",
    "\n",
    "    N = int(24*365)\n",
    "\n",
    "    \n",
    "    cmap = plt.cm.get_cmap('rainbow')\n",
    "#     cmap.set_under(color='black')\n",
    "#     cmap.set_over(color='white')\n",
    "    \n",
    "    \n",
    "    max_psds = nanmax(psds)\n",
    "    min_psds = nanmin(psds)\n",
    "\n",
    "    im = axes.pcolormesh(times, 1/array(ff), psds.T, \n",
    "                            cmap=cmap,\n",
    "                            vmax=max_psds,\n",
    "                            vmin=min_psds,\n",
    "                            norm=colors.LogNorm(),\n",
    "                            )\n",
    "\n",
    "    axes.tick_params(labelsize=font-2)\n",
    "\n",
    "\n",
    "    axes.set_ylim(config['period_limits'][0], config['period_limits'][1])\n",
    "    axes.set_yscale(\"log\")\n",
    "\n",
    "    ## set colorbar at bottom\n",
    "    cbar = fig.colorbar(im, orientation='vertical', ax=axes.ravel().tolist(), aspect=30, pad=0.01)\n",
    "    cbar.set_label(r\"PSD (rad$^2$/s$^2$/$Hz$)\", fontsize=font-2, labelpad=-53)\n",
    "\n",
    "    axes.set_xlabel(\"Days of 2019\", fontsize=font, labelpad=-1)\n",
    "\n",
    "    new_ticks = [int(round(t/24,0)) for t in axes.get_xticks()]\n",
    "    axes.set_xticklabels(new_ticks)\n",
    "    \n",
    "    ## panel labels\n",
    "    axes.text(.01, .99, 'a)', ha='left', va='top', transform=axes.transAxes, fontsize=font+2)\n",
    "    \n",
    "    ## data labels\n",
    "    array = name.split(\"_\")[0]\n",
    "      \n",
    "    axes.set_ylabel(r\"Periods (s)\", fontsize=font)\n",
    "    \n",
    "    plt.show();    \n",
    "    return fig"
   ]
  },
  {
   "cell_type": "code",
   "execution_count": null,
   "id": "612cc72e",
   "metadata": {
    "ExecuteTime": {
     "end_time": "2023-07-02T15:19:33.422789Z",
     "start_time": "2023-07-02T15:19:33.417712Z"
    }
   },
   "outputs": [],
   "source": [
    "# nn = 500\n",
    "# fig = __makeplot_image(times_N[:nn], ff_N, ADR_N[:nn,:])\n",
    "\n",
    "# fig = __makeplot_image(times_N, ff_N, ADR_N)"
   ]
  },
  {
   "cell_type": "code",
   "execution_count": null,
   "id": "eec74dbe",
   "metadata": {
    "ExecuteTime": {
     "end_time": "2023-07-02T15:19:33.437105Z",
     "start_time": "2023-07-02T15:19:33.424721Z"
    },
    "code_folding": [
     0
    ]
   },
   "outputs": [],
   "source": [
    "def __makeplot_image_overview(ff, psds, times):\n",
    "    \n",
    "    from tqdm.notebook import tqdm\n",
    "    from numpy import isnan, median, mean, std, array, zeros, nanmax, nanmin\n",
    "    from scipy.stats import median_abs_deviation as mad\n",
    "    from matplotlib import colors\n",
    "\n",
    "    \n",
    "    ## theoretical rlnm\n",
    "#     rlnm = read_csv(config['rlnm_model_path']+\"rlnm_theory.csv\")\n",
    "\n",
    "    ## convert frequencies to periods\n",
    "    pp=[]\n",
    "    for mm in range(len(ff)):\n",
    "        ppp = zeros(len(ff[mm]))\n",
    "        ppp = 1/ff[mm]\n",
    "        pp.append(ppp)\n",
    "        \n",
    "    ##____________________________\n",
    "    \n",
    "    NN = 3\n",
    "    \n",
    "    fig, axes = plt.subplots(NN, 1, figsize=(12,12), sharey=False, sharex=True)\n",
    "\n",
    "    plt.subplots_adjust(hspace=0.1)\n",
    "    \n",
    "    font = 14\n",
    "\n",
    "    N = int(24*365)\n",
    "\n",
    "    max_psds = max(nanmax(psds[0]), nanmax(psds[1]), nanmax(psds[2]))\n",
    "    min_psds = min(nanmin(psds[0]), nanmin(psds[1]), nanmin(psds[2]))\n",
    "    \n",
    "    cmap = plt.cm.get_cmap('rainbow')\n",
    "#     cmap.set_under(color='black')\n",
    "#     cmap.set_over(color='white')\n",
    "    cmap.set_bad(color='white')\n",
    "\n",
    "    \n",
    "    for j in tqdm(range(NN)):\n",
    "#         vmin, vmax = min_psds, max_psds,\n",
    "        vmin, vmax = 1e-16, 1e-14\n",
    "    \n",
    "        im = axes[j].pcolormesh(times[j], 1/ff[j], psds[j].T, \n",
    "                                cmap=cmap,\n",
    "\n",
    "                                norm=colors.LogNorm(vmin, vmax),\n",
    "                                shading=\"auto\",\n",
    "                                )\n",
    "        \n",
    "        axes[j].tick_params(labelsize=font-2)\n",
    "        \n",
    "\n",
    "        axes[j].set_ylim(config['period_limits'][0], config['period_limits'][1])\n",
    "        axes[j].set_yscale(\"log\")\n",
    "\n",
    "    axes[NN-1].set_xlabel(\"Days of 2019\", fontsize=font, labelpad=-1)\n",
    "\n",
    "    new_ticks = [int(round(t/24,0)) for t in axes[NN-1].get_xticks()]\n",
    "    axes[NN-1].set_xticklabels(new_ticks)\n",
    "    \n",
    "    ## panel labels\n",
    "    axes[0].text(.01, .99, 'a)', ha='left', va='top', transform=axes[0].transAxes, fontsize=font+2)\n",
    "    axes[1].text(.01, .99, 'b)', ha='left', va='top', transform=axes[1].transAxes, fontsize=font+2)\n",
    "    axes[2].text(.01, .99, 'c)', ha='left', va='top', transform=axes[2].transAxes, fontsize=font+2)\n",
    "    \n",
    "    ## data labels\n",
    "    array = name.split(\"_\")[0]\n",
    "    axes[0].text(.99, .99, f'{array} ADR $vertical$', ha='right', va='top', transform=axes[0].transAxes, fontsize=font)\n",
    "    axes[1].text(.99, .99, f'{array} ADR $north$', ha='right', va='top', transform=axes[1].transAxes, fontsize=font)\n",
    "    axes[2].text(.99, .99, f'{array} ADR $east$', ha='right', va='top', transform=axes[2].transAxes, fontsize=font)\n",
    "    \n",
    "    \n",
    "    axes[0].set_ylabel(r\"Periods (s)\", fontsize=font)\n",
    "    axes[1].set_ylabel(r\"Periods (s)\", fontsize=font)\n",
    "    axes[2].set_ylabel(r\"Periods (s)\", fontsize=font)\n",
    "    \n",
    "    ## set colorbar at bottom\n",
    "    cbar = fig.colorbar(im, orientation='vertical', ax=axes.ravel().tolist(), aspect=30, pad=0.01)\n",
    "    cbar.set_label(r\"PSD (rad$^2$/s$^2$/$Hz$)\", fontsize=font-2, labelpad=-53)\n",
    "\n",
    "    plt.show();    \n",
    "    return fig"
   ]
  },
  {
   "cell_type": "code",
   "execution_count": null,
   "id": "4d7bf1f5",
   "metadata": {
    "ExecuteTime": {
     "start_time": "2023-07-02T14:53:17.197Z"
    },
    "scrolled": true
   },
   "outputs": [],
   "source": [
    "# nn = 24*30\n",
    "# fig = __makeplot_image_overview([ff_Z, ff_N, ff_E], \n",
    "#                                      [ADR_Z[:nn,:], ADR_N[:nn,:], ADR_E[:nn,:]], \n",
    "#                                      [times_Z[:nn], times_N[:nn], times_E[:nn]],\n",
    "#                                     )\n",
    "\n",
    "fig = __makeplot_image_overview([ff_Z, ff_N, ff_E], \n",
    "                                [ADR_Z, ADR_N, ADR_E], \n",
    "                                [times_N, times_N, times_E], \n",
    "                                )"
   ]
  },
  {
   "cell_type": "code",
   "execution_count": null,
   "id": "61bcb688",
   "metadata": {
    "ExecuteTime": {
     "start_time": "2023-07-02T14:53:17.201Z"
    }
   },
   "outputs": [],
   "source": [
    "__savefig(fig, outpath=config['outpath_figures'], outname=f\"{name}_20230401_20230615_psdimage\", mode=\"png\", dpi=300)"
   ]
  },
  {
   "cell_type": "markdown",
   "id": "15b10061",
   "metadata": {
    "ExecuteTime": {
     "end_time": "2023-01-20T12:46:32.400512Z",
     "start_time": "2023-01-20T12:46:32.397361Z"
    }
   },
   "source": [
    "### Plot: Version 2"
   ]
  },
  {
   "cell_type": "code",
   "execution_count": null,
   "id": "0fd2e234",
   "metadata": {
    "ExecuteTime": {
     "start_time": "2023-07-02T14:53:17.286Z"
    },
    "code_folding": [
     0
    ]
   },
   "outputs": [],
   "source": [
    "def __makeplot_image_overview2(ff, psds, times, dates=None):\n",
    "    \n",
    "    from tqdm.notebook import tqdm\n",
    "    from numpy import isnan, median, mean, std, array, zeros, nanmax, nanmin\n",
    "    from scipy.stats import median_abs_deviation as mad\n",
    "    from matplotlib import colors\n",
    "\n",
    "    \n",
    "    ## theoretical rlnm\n",
    "    rlnm = read_csv(config['rlnm_model_path']+\"rlnm_theory.csv\")\n",
    "\n",
    "    ## convert frequencies to periods\n",
    "    pp=[]\n",
    "    for mm in range(len(ff)):\n",
    "        ppp = zeros(len(ff[mm]))\n",
    "        ppp = 1/ff[mm]\n",
    "        pp.append(ppp)\n",
    "        \n",
    "    ## define colormap\n",
    "    cmap = plt.cm.get_cmap('viridis')\n",
    "    cmap.set_bad(color='white')\n",
    "#     cmap.set_under(color='black')\n",
    "#     cmap.set_over(color='white')       \n",
    "\n",
    "    ## compute overall maxima and minima\n",
    "    max_psds = max(nanmax(psds[0]), nanmax(psds[1]), nanmax(psds[2]))\n",
    "    min_psds = min(nanmin(psds[0]), nanmin(psds[1]), nanmin(psds[2]))\n",
    "    \n",
    "    \n",
    "    ##____________________________\n",
    "    \n",
    "#     NN = 3\n",
    "    N = int(24*365)\n",
    "    \n",
    "    font = 14\n",
    "\n",
    "    fig = plt.figure(constrained_layout=False, figsize=(15,10))\n",
    "    widths = [6, 1]\n",
    "    heights = [1, 1, 1]\n",
    "    spec = fig.add_gridspec(ncols=2, nrows=3, width_ratios=widths, height_ratios=heights)\n",
    "\n",
    "    plt.subplots_adjust(hspace=0.1, wspace=0.02)\n",
    "\n",
    "    ax1_1 = fig.add_subplot(spec[0, 0])\n",
    "    ax1_2 = fig.add_subplot(spec[0, 1], sharey=ax1_1)\n",
    "    ax2_1 = fig.add_subplot(spec[1, 0], sharex=ax1_1)\n",
    "    ax2_2 = fig.add_subplot(spec[1, 1], sharey=ax2_1)\n",
    "    ax3_1 = fig.add_subplot(spec[2, 0], sharex=ax1_1)\n",
    "    ax3_2 = fig.add_subplot(spec[2, 1], sharey=ax3_1)\n",
    "\n",
    "    vmin, vmax = min_psds*1e1, max_psds*1e-2,\n",
    "\n",
    "    im1 = ax1_1.pcolormesh( times[0], 1/ff[0], psds[0].T, \n",
    "                            cmap=cmap,\n",
    "#                             vmax=max_psds*1e-2,\n",
    "#                             vmin=min_psds*1e1,\n",
    "                            norm=colors.LogNorm(),\n",
    "                            )\n",
    "    im2 = ax2_1.pcolormesh( times[1], 1/ff[1], psds[1].T, \n",
    "                            cmap=cmap,\n",
    "#                             vmax=max_psds*1e-2,\n",
    "#                             vmin=min_psds*1e1,\n",
    "                            norm=colors.LogNorm(),\n",
    "                            )\n",
    "    im3 = ax3_1.pcolormesh( times[2], 1/ff[2], psds[2].T, \n",
    "                            cmap=cmap,\n",
    "#                             vmax=max_psds*1e-2,\n",
    "#                             vmin=min_psds*1e1,\n",
    "                            norm=colors.LogNorm(),\n",
    "                            )\n",
    "    \n",
    "    set_color = \"darkblue\"\n",
    "    \n",
    "    perc_lower, perc_upper = __get_percentiles((psds[0]))\n",
    "    ax1_2.fill_betweenx(pp[0], perc_lower, perc_upper, color=set_color, zorder=3, alpha=0.4, label=\"\")\n",
    "    ax1_2.plot(__get_median_psd(psds[0]), pp[0], color=set_color, zorder=3, alpha=0.9, label=\"Median\")\n",
    "#     ax1_2.plot(rlnm['rlnm_psd_median'], rlnm['period'], color=\"black\", zorder=2, ls=\"--\", lw=2)\n",
    "    \n",
    "    perc_lower, perc_upper = __get_percentiles((psds[1]))\n",
    "    ax2_2.fill_betweenx(pp[1], perc_lower, perc_upper, color=set_color, zorder=3, alpha=0.4, label=\"\")\n",
    "    ax2_2.plot(__get_median_psd(psds[1]), pp[1], color=set_color, zorder=3, alpha=0.9, label=\"Median\")\n",
    "#     ax2_2.plot(rlnm['rlnm_psd_median'], rlnm['period'], color=\"black\", zorder=2, ls=\"--\", lw=2)\n",
    "\n",
    "    perc_lower, perc_upper = __get_percentiles((psds[2]))\n",
    "    ax3_2.fill_betweenx(pp[2], perc_lower, perc_upper, color=set_color, zorder=3, alpha=0.4, label=\"\")\n",
    "    ax3_2.plot(__get_median_psd(psds[2]), pp[2], color=set_color, zorder=3, alpha=0.9, label=\"Median\")\n",
    "#     ax3_2.plot(rlnm['rlnm_psd_median'], rlnm['period'], color=\"black\", zorder=2, ls=\"--\", lw=2)\n",
    "        \n",
    "    \n",
    "    plt.setp(ax1_1.get_xticklabels(), visible=False)\n",
    "    plt.setp(ax2_1.get_xticklabels(), visible=False) \n",
    "    \n",
    "    plt.setp(ax1_2.get_xticklabels(), visible=False)\n",
    "    plt.setp(ax2_2.get_xticklabels(), visible=False) \n",
    "    \n",
    "    plt.setp(ax1_2.get_yticklabels(), visible=False)\n",
    "    plt.setp(ax2_2.get_yticklabels(), visible=False)    \n",
    "    plt.setp(ax3_2.get_yticklabels(), visible=False)\n",
    "    \n",
    "    \n",
    "    \n",
    "        \n",
    "    for ax in [ax1_1, ax1_2, ax2_1, ax2_2, ax3_1, ax3_2]:\n",
    "        ax.tick_params(labelsize=font-2)\n",
    "        ax.set_ylim(config['period_limits'][0], config['period_limits'][1])\n",
    "        ax.set_yscale(\"log\")\n",
    "    \n",
    "    for ax in [ax1_2, ax2_2, ax3_2]:\n",
    "        ax.set_xscale(\"logit\")\n",
    "\n",
    "    ax3_1.set_xlabel(\"Days of 2019\", fontsize=font, labelpad=1)\n",
    "    ax3_2.set_xlabel(r\"PSD (rad$^2$/s$^2$/$Hz$)\", fontsize=font, labelpad=-1)\n",
    "\n",
    "    new_ticks = [int(round(t/24,0)) for t in ax3_1.get_xticks()]\n",
    "    ax3_1.set_xticklabels(new_ticks)\n",
    "    \n",
    "#     ## panel labels\n",
    "    ax1_1.text(.01, .99, 'a)', ha='left', va='top', color='white', transform=ax1_1.transAxes, fontsize=font+2)\n",
    "    ax2_1.text(.01, .99, 'b)', ha='left', va='top', color='white', transform=ax2_1.transAxes, fontsize=font+2)\n",
    "    ax3_1.text(.01, .99, 'c)', ha='left', va='top', color='white', transform=ax3_1.transAxes, fontsize=font+2)\n",
    "    \n",
    "#     ## data labels\n",
    "    array = name.split(\"_\")[0]\n",
    "    ax1_1.text(.99, .99, f'{array} $vertical$', ha='right', va='top', color='white', transform=ax1_1.transAxes, fontsize=font)\n",
    "    ax2_1.text(.99, .99, f'{array} $north$', ha='right', va='top', color='white', transform=ax2_1.transAxes, fontsize=font)\n",
    "    ax3_1.text(.99, .99, f'{array} $east$', ha='right', va='top', color='white', transform=ax3_1.transAxes, fontsize=font)\n",
    "     \n",
    "    ax1_1.set_ylabel(r\"Periods (s)\", fontsize=font)\n",
    "    ax2_1.set_ylabel(r\"Periods (s)\", fontsize=font)\n",
    "    ax3_1.set_ylabel(r\"Periods (s)\", fontsize=font)\n",
    "    \n",
    "#     ## set colorbar at bottom \n",
    "    cbar = fig.colorbar(im1, orientation='vertical', ax=[ax1_2, ax2_2, ax3_2], aspect=35, pad=0.05)\n",
    "    cbar.set_label(r\"PSD (rad$^2$/s$^2$/$Hz$)\", fontsize=font-2, labelpad=-50)\n",
    "\n",
    "    plt.show();    \n",
    "    return fig"
   ]
  },
  {
   "cell_type": "code",
   "execution_count": null,
   "id": "3a5c40d5",
   "metadata": {
    "ExecuteTime": {
     "start_time": "2023-07-02T14:53:17.289Z"
    }
   },
   "outputs": [],
   "source": [
    "fig = __makeplot_image_overview2(\n",
    "                                [ff_Z, ff_N, ff_E], \n",
    "                                [ADR_Z, ADR_N, ADR_E], \n",
    "                                [times_Z, times_N, times_E], \n",
    "                                )"
   ]
  },
  {
   "cell_type": "code",
   "execution_count": null,
   "id": "74ce6c06",
   "metadata": {
    "ExecuteTime": {
     "start_time": "2023-07-02T14:53:17.292Z"
    }
   },
   "outputs": [],
   "source": [
    "# __savefig(fig, outpath=config['outpath_figures'], outname=f\"{name}_psdimage2\", mode=\"png\", dpi=300)"
   ]
  },
  {
   "cell_type": "code",
   "execution_count": null,
   "id": "1ac80568",
   "metadata": {
    "ExecuteTime": {
     "start_time": "2023-07-02T14:53:17.295Z"
    }
   },
   "outputs": [],
   "source": [
    "len(times_N), len(ADR_N)"
   ]
  },
  {
   "cell_type": "markdown",
   "id": "13034f40",
   "metadata": {},
   "source": [
    "## Limit it by computing medians "
   ]
  },
  {
   "cell_type": "code",
   "execution_count": null,
   "id": "5a062b20",
   "metadata": {
    "ExecuteTime": {
     "start_time": "2023-07-02T14:53:17.373Z"
    },
    "code_folding": [
     0
    ]
   },
   "outputs": [],
   "source": [
    "def __makeplot_colorlines_overview(ff, psds, dates=None):\n",
    "    \n",
    "    from tqdm.notebook import tqdm\n",
    "    from numpy import isnan, median, mean, std, array, zeros\n",
    "    from scipy.stats import median_abs_deviation as mad\n",
    "    \n",
    "#     psds_median = __get_median_psd(array(psds))\n",
    "#     psds_minimal = __get_minimal_psd(array(psds))\n",
    "#     psds_minimum = __get_minimum_psd(array(psds), ff)\n",
    "\n",
    "    ## theoretical rlnm\n",
    "    rlnm = read_csv(config['rlnm_model_path']+\"rlnm_theory.csv\")\n",
    "\n",
    "    ## convert frequencies to periods\n",
    "    pp=[]\n",
    "    for mm in range(len(ff)):\n",
    "        ppp = zeros(len(ff[mm]))\n",
    "        ppp[:-1] = 1/ff[mm][1:]\n",
    "        pp.append(ppp)\n",
    "        \n",
    "    ##____________________________\n",
    "    \n",
    "    NN = 3\n",
    "    \n",
    "    fig, axes = plt.subplots(NN,1, figsize=(10,10), sharey=False, sharex=True)\n",
    "\n",
    "    plt.subplots_adjust(hspace=0.1)\n",
    "    \n",
    "    font = 14\n",
    "\n",
    "    N = max(psds[0].shape[0], psds[1].shape[0], psds[2].shape[0])\n",
    "    colors = plt.cm.rainbow(linspace(0, 1, N))\n",
    "\n",
    "    ## add Frequency Axis\n",
    "    g = lambda x: 1/x\n",
    "    ax2 = axes[0].secondary_xaxis(\"top\", functions=(g,g))\n",
    "    ax2.set_xlabel(\"  Frequency (Hz)\", fontsize=font, labelpad=-5)\n",
    "    ax2.set_xticklabels(ff[2], fontsize=11)    \n",
    "    ax2.tick_params(axis='both', labelsize=font-2)\n",
    "    \n",
    "    \n",
    "    for j in range(NN):\n",
    "        for n, psd in enumerate(tqdm(psds[j])):\n",
    "            axes[j].loglog(pp[j], psd, color=colors[n], alpha=0.7)\n",
    "            p2 = axes[j].scatter(pp[j][0], psd[0], s=0., c=n, cmap='rainbow', vmin=0, vmax=N)\n",
    "\n",
    "        axes[j].loglog(pp[j], __get_minimum_psd(psds[j], ff[j]), 'grey', zorder=3, alpha=0.9, label=\"Minimum\")\n",
    "        axes[j].loglog(pp[j], __get_median_psd(psds[j]), 'black', zorder=3, alpha=0.9, label=\"Median\")\n",
    "        axes[j].loglog(rlnm['period'], rlnm['rlnm_psd_median'], color=\"black\", zorder=2, ls=\"--\", lw=2)\n",
    "        \n",
    "        axes[j].grid(True, which=\"both\", ls=\"-\", alpha=0.5)\n",
    "        axes[j].legend(loc='lower left')\n",
    "        axes[j].tick_params(labelsize=font-2)\n",
    "        \n",
    "        axes[j].text(6, 5e-25, \"RLNM\", fontsize=font, rotation=-30)\n",
    "\n",
    "        axes[j].set_xlim(config['period_limits'][0],config['period_limits'][1])\n",
    "#         axes[j].set_ylim(8e-27, 1e-17)\n",
    "\n",
    "\n",
    "    axes[NN-1].set_xlabel(\"  Period (s)\", fontsize=font, labelpad=-8)\n",
    "\n",
    "    ## panel labels\n",
    "    axes[0].text(.01, .99, 'a)', ha='left', va='top', transform=axes[0].transAxes, fontsize=font+2)\n",
    "    axes[1].text(.01, .99, 'b)', ha='left', va='top', transform=axes[1].transAxes, fontsize=font+2)\n",
    "    axes[2].text(.01, .99, 'c)', ha='left', va='top', transform=axes[2].transAxes, fontsize=font+2)\n",
    "    \n",
    "    \n",
    "    axes[0].set_ylabel(r\"PSD$_{vertical}$ (rad$^2$/s$^2$/$Hz)$\", fontsize=font)\n",
    "    axes[1].set_ylabel(r\"PSD$_{north}$ (rad$^2$/s$^2$/$Hz)$\", fontsize=font)\n",
    "    axes[2].set_ylabel(r\"PSD$_{east}$ (rad$^2$/s$^2$/$Hz)$\", fontsize=font)\n",
    "    \n",
    "    ## set colorbar at bottom\n",
    "    cbar = fig.colorbar(p2, orientation='vertical', ax=axes.ravel().tolist(), aspect=50, pad=-1e-5)\n",
    "\n",
    "    \n",
    "    ## redefine ticks of colorbar\n",
    "    if dates is not None:\n",
    "        new_ticks = []\n",
    "        for t in cbar.get_ticks(): \n",
    "            new_ticks.append(dates.astype(str)[int(t)])\n",
    "        cbar.ax.set_yticklabels(new_ticks)\n",
    "\n",
    "    plt.show();    \n",
    "    return fig"
   ]
  },
  {
   "cell_type": "code",
   "execution_count": null,
   "id": "8212745e",
   "metadata": {
    "ExecuteTime": {
     "start_time": "2023-07-02T14:53:17.376Z"
    },
    "code_folding": [
     0
    ]
   },
   "outputs": [],
   "source": [
    "def __compute_medians(arr, intervall=100):\n",
    "\n",
    "    delta_i = int(intervall)\n",
    "    d1, d2 = 0, delta_i\n",
    "\n",
    "    meds = zeros((int(len(arr)/delta_i), shape(arr)[1]))\n",
    "    idx = 0\n",
    "    while d2 < len(arr):\n",
    "        meds[idx] = __get_median_psd(arr[d1:d2,:])\n",
    "        idx +=1 \n",
    "        d1 += delta_i\n",
    "        d2 += delta_i\n",
    "\n",
    "    return meds"
   ]
  },
  {
   "cell_type": "code",
   "execution_count": null,
   "id": "eb6638be",
   "metadata": {
    "ExecuteTime": {
     "start_time": "2023-07-02T14:53:17.380Z"
    }
   },
   "outputs": [],
   "source": [
    "meds_N = __compute_medians(ADR_N, intervall=24)\n",
    "meds_E = __compute_medians(ADR_E, intervall=24)\n",
    "meds_Z = __compute_medians(ADR_Z, intervall=24)"
   ]
  },
  {
   "cell_type": "code",
   "execution_count": null,
   "id": "956a9b34",
   "metadata": {
    "ExecuteTime": {
     "start_time": "2023-07-02T14:53:17.382Z"
    }
   },
   "outputs": [],
   "source": [
    "nn = 100\n",
    "tmp = linspace(0, shape(ADR_Z)[0], shape(ADR_Z)[0])\n",
    "\n",
    "fig = __makeplot_colorlines_overview([ff_Z, ff_N, ff_E], [meds_Z, meds_N, meds_E], dates=tmp)"
   ]
  },
  {
   "cell_type": "code",
   "execution_count": null,
   "id": "71a074bf",
   "metadata": {
    "ExecuteTime": {
     "start_time": "2023-07-02T14:53:17.384Z"
    }
   },
   "outputs": [],
   "source": [
    "__savefig(fig, outpath=config['outpath_figures'], outname=f\"{name}_colorlines_selection\", mode=\"png\", dpi=300)"
   ]
  },
  {
   "cell_type": "code",
   "execution_count": null,
   "id": "ce64c931",
   "metadata": {
    "ExecuteTime": {
     "start_time": "2023-07-02T14:53:17.387Z"
    },
    "code_folding": [
     0
    ]
   },
   "outputs": [],
   "source": [
    "# def __makeplot_colorlines(config, ff, psds, dates):\n",
    "\n",
    "# #     from numpy import isnan, median, mean, std, array\n",
    "        \n",
    "#     psds_median  = __get_median_psd(array(psds))\n",
    "#     psds_minimal = __get_minimal_psd(array(psds))\n",
    "# #     psds_minimum = __get_minimum_psd(array(psds), ff)\n",
    "    \n",
    "        \n",
    "#     ##____________________________\n",
    "    \n",
    "#     fig, ax = plt.subplots(1,1, figsize=(15,10), sharey=False, sharex=True)\n",
    "\n",
    "#     font = 12\n",
    "\n",
    "#     N = psds.shape[0]\n",
    "#     colors = plt.cm.rainbow(linspace(0, 1, N))\n",
    "\n",
    "#     for n, psd in enumerate(psds):\n",
    "#         ax.loglog(ff, psd, color=colors[n], alpha=0.7)\n",
    "\n",
    "\n",
    "#     ## add scatter for colorbar object only\n",
    "#     for n, psd in enumerate(psds):\n",
    "#         p2 = ax.scatter(ff[0], psd[0], s=0., c=n, cmap='rainbow', vmin=0, vmax=N)\n",
    "\n",
    "#     ## plot statistics\n",
    "#     ax.loglog(ff, psds_median, 'black', zorder=3, alpha=0.9)\n",
    "# #     ax.loglog(ff, psds_minimal, 'black', zorder=2, alpha=1.0)\n",
    "# #     ax.loglog(ff, psds_minimum, 'k', zorder=2, alpha=0.8)\n",
    "    \n",
    "    \n",
    "#     ## theoretical rlnm\n",
    "#     rlnm = read_csv(config['rlnm_model_path']+\"rlnm_theory.csv\")\n",
    "#     ax.loglog(rlnm['period'], rlnm['rlnm_psd_median'], color=\"grey\", zorder=2, lw=2, label=\"RLNM\")\n",
    "    \n",
    "\n",
    "# #     ax.set_title(\"Minimal PSD\", fontsize=font)\n",
    "# #     ax.set_title(\"Minimum PSD\", fontsize=font)\n",
    "\n",
    "\n",
    "# #     ax.set_xlabel(\"Frequency (Hz)\", fontsize=font)\n",
    "#     ax.set_xlabel(\"Period (s)\", fontsize=font)\n",
    "\n",
    "#     ax.set_ylabel(r\"PSD (rad$^2$/s$^2$/$Hz)$\", fontsize=font)\n",
    "    \n",
    "#     ax.grid(True, which=\"both\", ls=\"-\", alpha=0.7)\n",
    "    \n",
    "#     ax.set_xlim(1,200)\n",
    "#     ax.set_ylim(1e-26,1e-20)\n",
    "    \n",
    "#     ## set colorbar at bottom\n",
    "#     cbar = fig.colorbar(p2, orientation='horizontal', ax=ax, aspect=50)\n",
    "\n",
    "#     ## redefine ticks of colorbar\n",
    "#     new_ticks=[]\n",
    "#     for t in cbar.get_ticks(): \n",
    "#         new_ticks.append(dates.astype(str)[int(t)])\n",
    "#     cbar.ax.set_xticklabels(new_ticks)\n",
    "\n",
    "\n",
    "#     plt.show();\n",
    "    \n",
    "#     return fig"
   ]
  },
  {
   "cell_type": "code",
   "execution_count": null,
   "id": "d5a44ac1",
   "metadata": {
    "ExecuteTime": {
     "start_time": "2023-07-02T14:53:17.390Z"
    },
    "code_folding": []
   },
   "outputs": [],
   "source": [
    "# fig, out = __makeplot_colorlines(config, 1/ff, GRF_Z, GRF_Z_df.columns)\n",
    "# fig, out = __makeplot_colorlines(config, 1/ff, GRF_N, GRF_N_df.columns)\n",
    "# fig, out = __makeplot_colorlines(config, 1/ff, GRF_E, GRF_E_df.columns)"
   ]
  },
  {
   "cell_type": "code",
   "execution_count": null,
   "id": "82aff0c2",
   "metadata": {
    "ExecuteTime": {
     "start_time": "2023-07-02T20:29:51.641Z"
    }
   },
   "outputs": [],
   "source": [
    "plt.pcolormesh(times_Z[:100], ff_Z, ADR_Z[:100,:].T)"
   ]
  },
  {
   "cell_type": "code",
   "execution_count": null,
   "id": "1fb2727e",
   "metadata": {
    "ExecuteTime": {
     "end_time": "2023-07-02T20:29:10.629839Z",
     "start_time": "2023-07-02T20:29:10.623384Z"
    }
   },
   "outputs": [],
   "source": [
    "shape(ADR_Z), shape(ff_Z), shape(times_Z)"
   ]
  },
  {
   "cell_type": "code",
   "execution_count": null,
   "id": "b019f68d",
   "metadata": {},
   "outputs": [],
   "source": []
  }
 ],
 "metadata": {
  "kernelspec": {
   "display_name": "Python 3 (ipykernel)",
   "language": "python",
   "name": "python3"
  },
  "language_info": {
   "codemirror_mode": {
    "name": "ipython",
    "version": 3
   },
   "file_extension": ".py",
   "mimetype": "text/x-python",
   "name": "python",
   "nbconvert_exporter": "python",
   "pygments_lexer": "ipython3",
   "version": "3.7.8"
  },
  "latex_envs": {
   "LaTeX_envs_menu_present": true,
   "autoclose": false,
   "autocomplete": true,
   "bibliofile": "biblio.bib",
   "cite_by": "apalike",
   "current_citInitial": 1,
   "eqLabelWithNumbers": true,
   "eqNumInitial": 1,
   "hotkeys": {
    "equation": "Ctrl-E",
    "itemize": "Ctrl-I"
   },
   "labels_anchors": false,
   "latex_user_defs": false,
   "report_style_numbering": false,
   "user_envs_cfg": false
  },
  "toc": {
   "base_numbering": 1,
   "nav_menu": {},
   "number_sections": true,
   "sideBar": true,
   "skip_h1_title": false,
   "title_cell": "Table of Contents",
   "title_sidebar": "Contents",
   "toc_cell": false,
   "toc_position": {},
   "toc_section_display": true,
   "toc_window_display": false
  },
  "varInspector": {
   "cols": {
    "lenName": 16,
    "lenType": 16,
    "lenVar": 40
   },
   "kernels_config": {
    "python": {
     "delete_cmd_postfix": "",
     "delete_cmd_prefix": "del ",
     "library": "var_list.py",
     "varRefreshCmd": "print(var_dic_list())"
    },
    "r": {
     "delete_cmd_postfix": ") ",
     "delete_cmd_prefix": "rm(",
     "library": "var_list.r",
     "varRefreshCmd": "cat(var_dic_list()) "
    }
   },
   "types_to_exclude": [
    "module",
    "function",
    "builtin_function_or_method",
    "instance",
    "_Feature"
   ],
   "window_display": false
  }
 },
 "nbformat": 4,
 "nbformat_minor": 5
}
