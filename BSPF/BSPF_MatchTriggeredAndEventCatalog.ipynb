{
 "cells": [
  {
   "cell_type": "markdown",
   "id": "f1800f58",
   "metadata": {},
   "source": [
    "# Match Trigger and Event Catalog"
   ]
  },
  {
   "cell_type": "markdown",
   "id": "d92f0fb4",
   "metadata": {},
   "source": [
    "## Import Libraries"
   ]
  },
  {
   "cell_type": "code",
   "execution_count": 1,
   "id": "77b73fe9",
   "metadata": {
    "ExecuteTime": {
     "end_time": "2023-07-04T08:18:58.715275Z",
     "start_time": "2023-07-04T08:18:57.198793Z"
    }
   },
   "outputs": [],
   "source": [
    "import os, sys\n",
    "import obspy as obs\n",
    "import matplotlib.pyplot as plt\n",
    "\n",
    "from obspy.clients.fdsn import Client\n",
    "from obspy.signal.trigger import coincidence_trigger\n",
    "from numpy import sort, argmin, array\n",
    "from pandas import DataFrame\n",
    "\n",
    "from functions.add_distances_and_backazimuth import __add_distances_and_backazimuth\n",
    "from functions.catalog_to_dataframe import __catalog_to_dataframe"
   ]
  },
  {
   "cell_type": "code",
   "execution_count": 2,
   "id": "21f63d73",
   "metadata": {
    "ExecuteTime": {
     "end_time": "2023-07-04T08:18:58.721378Z",
     "start_time": "2023-07-04T08:18:58.717441Z"
    }
   },
   "outputs": [],
   "source": [
    "if os.uname().nodename == 'lighthouse':\n",
    "    root_path = '/home/andbro/'\n",
    "    data_path = '/home/andbro/kilauea-data/'\n",
    "    archive_path = '/home/andbro/freenas/'\n",
    "elif os.uname().nodename == 'kilauea':\n",
    "    root_path = '/home/brotzer/'\n",
    "    data_path = '/import/kilauea-data/'\n",
    "    archive_path = '/import/freenas-ffb-01-data/'"
   ]
  },
  {
   "cell_type": "markdown",
   "id": "eaa20692",
   "metadata": {},
   "source": [
    "## Configurations"
   ]
  },
  {
   "cell_type": "code",
   "execution_count": 20,
   "id": "8e926584",
   "metadata": {
    "ExecuteTime": {
     "end_time": "2023-07-04T12:54:52.892312Z",
     "start_time": "2023-07-04T12:54:52.877564Z"
    }
   },
   "outputs": [],
   "source": [
    "config = {}\n",
    "\n",
    "config['time_period'] = \"20221001_20230615\"\n",
    "\n",
    "config['BSPF_lon'] = array([-116.455439])\n",
    "config['BSPF_lat'] = array([33.610643])\n",
    "\n",
    "config['path_to_catalogs'] = data_path+\"BSPF/data/catalogs/\"\n",
    "\n",
    "config['catalog_filename'] = f\"BSPF_catalog_{config['time_period']}_all.xml\"\n",
    "\n",
    "config['output_filename'] = f\"BSPF_catalog_{config['time_period']}_triggered.xml\"\n",
    "\n",
    "config['client'] = Client(\"IRIS\")"
   ]
  },
  {
   "cell_type": "code",
   "execution_count": 4,
   "id": "4bdafd59",
   "metadata": {
    "ExecuteTime": {
     "end_time": "2023-07-04T08:19:00.054231Z",
     "start_time": "2023-07-04T08:18:59.892346Z"
    }
   },
   "outputs": [
    {
     "name": "stdout",
     "output_type": "stream",
     "text": [
      "BSPF_catalog_20221001_20230331_triggered.pkl\r\n",
      "BSPF_catalog_20221001_20230331_triggered.xml\r\n",
      "BSPF_catalog_20221001_20230531_all.pkl\r\n",
      "BSPF_catalog_20221001_20230531_all.xml\r\n",
      "BSPF_catalog_20221001_20230615_all.pkl\r\n",
      "BSPF_catalog_20221001_20230615_all.xml\r\n",
      "BSPF_catalog_20221001_20230615_triggered.pkl\r\n",
      "BSPF_catalog_extended_20221001_20230531_all.pkl\r\n",
      "BSPF_catalog_extended_20221001_20230531_all.xml\r\n",
      "BSPF_catalog_extended_20221001_20230615_all.pkl\r\n",
      "BSPF_catalog_extended_20221001_20230615_all.xml\r\n",
      "gcmt_solutions_20221001_20230531.xml\r\n",
      "gcmt_solutions_20221001_20230615.xml\r\n",
      "tmp\r\n",
      "trigger_20221001_20230331.pkl\r\n",
      "trigger_20221001_20230615.pkl\r\n",
      "trigger_20230401_20230615.pkl\r\n",
      "trigger_all_errors.pkl\r\n"
     ]
    }
   ],
   "source": [
    "!ls /home/andbro/kilauea-data/BSPF/data/catalogs"
   ]
  },
  {
   "cell_type": "markdown",
   "id": "919414b4",
   "metadata": {
    "ExecuteTime": {
     "end_time": "2023-07-04T08:17:22.664178Z",
     "start_time": "2023-07-04T08:17:22.659655Z"
    }
   },
   "source": [
    "##  join catalogs"
   ]
  },
  {
   "cell_type": "code",
   "execution_count": 5,
   "id": "bef2dacd",
   "metadata": {
    "ExecuteTime": {
     "end_time": "2023-07-04T08:19:00.063012Z",
     "start_time": "2023-07-04T08:19:00.058330Z"
    }
   },
   "outputs": [],
   "source": [
    "# from andbro__store_as_pickle import __store_as_pickle\n",
    "\n",
    "# trigger_old = __read_pickle(config, config['path_to_catalogs'], \"trigger_20221001_20230331.pkl\")\n",
    "# trigger_new = __read_pickle(config, config['path_to_catalogs'], \"trigger_20230401_20230615.pkl\")\n",
    "# trigger_all = trigger_old + trigger_new\n",
    "\n",
    "# print(len(trigger_old), len(trigger_new), len(trigger_all))\n",
    "\n",
    "# __store_as_pickle(trigger_all, config['path_to_catalogs']+\"trigger_20221001_20230615.pkl\")"
   ]
  },
  {
   "cell_type": "markdown",
   "id": "438346ca",
   "metadata": {},
   "source": [
    "## Load Triggered Events"
   ]
  },
  {
   "cell_type": "code",
   "execution_count": 6,
   "id": "52ad588f",
   "metadata": {
    "ExecuteTime": {
     "end_time": "2023-07-04T08:19:00.076084Z",
     "start_time": "2023-07-04T08:19:00.064204Z"
    },
    "code_folding": [
     0
    ]
   },
   "outputs": [],
   "source": [
    "def __read_pickle(config, path, filename):\n",
    "    \n",
    "    import pickle\n",
    "\n",
    "    with open(path+filename, 'rb') as f:\n",
    "        triggerfile = pickle.load(f)\n",
    "        \n",
    "    return triggerfile"
   ]
  },
  {
   "cell_type": "code",
   "execution_count": 21,
   "id": "0b876eda",
   "metadata": {
    "ExecuteTime": {
     "end_time": "2023-07-04T12:55:27.128202Z",
     "start_time": "2023-07-04T12:55:27.000305Z"
    }
   },
   "outputs": [],
   "source": [
    "trigger_events = __read_pickle(config, config['path_to_catalogs'], f\"trigger_{config['time_period']}.pkl\")"
   ]
  },
  {
   "cell_type": "code",
   "execution_count": 22,
   "id": "d143da0c",
   "metadata": {
    "ExecuteTime": {
     "end_time": "2023-07-04T12:55:31.778272Z",
     "start_time": "2023-07-04T12:55:31.770247Z"
    }
   },
   "outputs": [],
   "source": [
    "times, cosum = [], []\n",
    "ref_time = obs.UTCDateTime(\"2022-10-01\")\n",
    "\n",
    "for trig in trigger_events:\n",
    "    times.append(trig['time'])\n",
    "    cosum.append(trig['coincidence_sum'])\n",
    "    \n",
    "rel_times = [(t-ref_time)/86400 for t in times]\n",
    "trigger_times = [t for t in times]"
   ]
  },
  {
   "cell_type": "code",
   "execution_count": 23,
   "id": "e8e917ff",
   "metadata": {
    "ExecuteTime": {
     "end_time": "2023-07-04T12:56:00.481700Z",
     "start_time": "2023-07-04T12:55:34.122335Z"
    }
   },
   "outputs": [
    {
     "name": "stdout",
     "output_type": "stream",
     "text": [
      "7578 100\n"
     ]
    }
   ],
   "source": [
    "## read catalog\n",
    "cat = obs.read_events(config['path_to_catalogs']+config['catalog_filename'])\n",
    "\n",
    "print(len(cat), len(trigger_events))"
   ]
  },
  {
   "cell_type": "markdown",
   "id": "24ccfb5b",
   "metadata": {},
   "source": [
    "## Match events of triggered catalog with event catalog"
   ]
  },
  {
   "cell_type": "code",
   "execution_count": 24,
   "id": "1eb89e04",
   "metadata": {
    "ExecuteTime": {
     "end_time": "2023-07-04T12:56:13.359584Z",
     "start_time": "2023-07-04T12:56:13.346259Z"
    },
    "code_folding": [
     0
    ]
   },
   "outputs": [],
   "source": [
    "def __find_matches(trigger_times, catalog, max_time_difference=60):\n",
    "\n",
    "    from numpy import array\n",
    "    \n",
    "    matches, time_diffs, events_triggered, event_idxs = [], [], [], []\n",
    "\n",
    "    ## extract origin times from catalog\n",
    "    event_times = [catalog.events[j].origins[0].time for j in range(len(catalog))]\n",
    "    \n",
    "    \n",
    "    for trigger_time in trigger_times:\n",
    "\n",
    "        ## compute time differences in seconds\n",
    "        diff = [event_time-trigger_time for event_time in event_times]\n",
    "        \n",
    "        ## only the ones before the trigger in time\n",
    "        abs_diff = [abs(d) for d in diff if d < 0]\n",
    "        \n",
    "        ## get closest event\n",
    "        t_min, t_idx = min(abs_diff), diff.index(-min(abs_diff))\n",
    "                \n",
    "        time_diffs.append(t_min)\n",
    "        matches.append(trigger_time)\n",
    "        events_triggered.append(event_times[t_idx])\n",
    "        event_idxs.append(t_idx)\n",
    "        \n",
    "    cat_sel = [cat.events[idx] for idx in event_idxs]\n",
    "        \n",
    "        \n",
    "    t_days = [(match-obs.UTCDateTime(\"2022-10-01\"))/86400 for match in matches]\n",
    "    plt.figure(figsize=(15,5))\n",
    "    plt.scatter(t_days, time_diffs, zorder=2, s=5)\n",
    "    plt.yscale(\"log\")\n",
    "    plt.grid(which=\"both\", zorder=-1, ls=\":\")\n",
    "    plt.ylabel(\"Time Differences (s)\")\n",
    "    plt.xlabel(\"Time (days)\")\n",
    "    plt.xlim(0, 190)\n",
    "    \n",
    "    return array(matches), array(events_triggered), cat_sel"
   ]
  },
  {
   "cell_type": "code",
   "execution_count": 25,
   "id": "765d69de",
   "metadata": {
    "ExecuteTime": {
     "end_time": "2023-07-04T12:56:15.235963Z",
     "start_time": "2023-07-04T12:56:13.786619Z"
    },
    "code_folding": [
     0
    ]
   },
   "outputs": [
    {
     "data": {
      "text/plain": [
       "(100, 100)"
      ]
     },
     "execution_count": 25,
     "metadata": {},
     "output_type": "execute_result"
    },
    {
     "data": {
      "image/png": "[encoded data removed]",
      "text/plain": [
       "<Figure size 1500x500 with 1 Axes>"
      ]
     },
     "metadata": {},
     "output_type": "display_data"
    }
   ],
   "source": [
    "matches, events_triggered, cat_select = __find_matches(trigger_times, cat, max_time_difference=60)\n",
    "\n",
    "len(events_triggered), len(matches)"
   ]
  },
  {
   "cell_type": "markdown",
   "id": "dce3f98e",
   "metadata": {
    "ExecuteTime": {
     "end_time": "2023-07-04T12:56:00.538022Z",
     "start_time": "2023-07-04T12:56:00.538003Z"
    }
   },
   "source": [
    "## Create Catalog of triggered events that were matched with catalog events"
   ]
  },
  {
   "cell_type": "code",
   "execution_count": 26,
   "id": "2736bb95",
   "metadata": {
    "ExecuteTime": {
     "end_time": "2023-07-04T12:56:17.859246Z",
     "start_time": "2023-07-04T12:56:17.659708Z"
    }
   },
   "outputs": [
    {
     "name": "stdout",
     "output_type": "stream",
     "text": [
      " -> storing: /home/andbro/kilauea-data/BSPF/data/catalogs/BSPF_catalog_20221001_20230615_triggered.xml ...\n"
     ]
    }
   ],
   "source": [
    "cata = obs.Catalog()\n",
    "for ev in cat_select:\n",
    "    cata += ev\n",
    "\n",
    "cata.write(config['path_to_catalogs']+config['output_filename'], format=\"QUAKEML\")\n",
    "print(f\" -> storing: {config['path_to_catalogs']}{config['output_filename']} ...\")"
   ]
  },
  {
   "cell_type": "code",
   "execution_count": 37,
   "id": "9e07fd7a",
   "metadata": {
    "ExecuteTime": {
     "end_time": "2023-07-04T14:13:06.276946Z",
     "start_time": "2023-07-04T14:13:06.131122Z"
    }
   },
   "outputs": [
    {
     "name": "stdout",
     "output_type": "stream",
     "text": [
      " -> storing: /home/andbro/kilauea-data/BSPF/data/catalogs/BSPF_catalog_20221001_20230615_triggered.pkl...\n"
     ]
    }
   ],
   "source": [
    "cata_df = __catalog_to_dataframe(cata)\n",
    "\n",
    "cata_df['seconds'] = [abs((cata_df.index.min()-tt).total_seconds()) for tt in cata_df.index]\n",
    "cata_df['trigger_time'] = trigger_times\n",
    "cata_df['cosum'] = cosum\n",
    "data_df = __add_distances_and_backazimuth(config['BSPF_lat'], config['BSPF_lon'], cata_df)\n",
    "\n",
    "\n",
    "cata_df.to_pickle(config['path_to_catalogs']+config['output_filename'].replace(\".xml\",\".pkl\"))\n",
    "print(f\" -> storing: {config['path_to_catalogs']}{config['output_filename'].replace('.xml','.pkl')}...\")"
   ]
  },
  {
   "cell_type": "code",
   "execution_count": null,
   "id": "55a26445",
   "metadata": {},
   "outputs": [],
   "source": []
  }
 ],
 "metadata": {
  "kernelspec": {
   "display_name": "Python 3",
   "language": "python",
   "name": "python3"
  },
  "language_info": {
   "codemirror_mode": {
    "name": "ipython",
    "version": 3
   },
   "file_extension": ".py",
   "mimetype": "text/x-python",
   "name": "python",
   "nbconvert_exporter": "python",
   "pygments_lexer": "ipython3",
   "version": "3.7.7"
  },
  "toc": {
   "base_numbering": 1,
   "nav_menu": {},
   "number_sections": true,
   "sideBar": true,
   "skip_h1_title": false,
   "title_cell": "Table of Contents",
   "title_sidebar": "Contents",
   "toc_cell": false,
   "toc_position": {},
   "toc_section_display": true,
   "toc_window_display": false
  },
  "varInspector": {
   "cols": {
    "lenName": 16,
    "lenType": 16,
    "lenVar": 40
   },
   "kernels_config": {
    "python": {
     "delete_cmd_postfix": "",
     "delete_cmd_prefix": "del ",
     "library": "var_list.py",
     "varRefreshCmd": "print(var_dic_list())"
    },
    "r": {
     "delete_cmd_postfix": ") ",
     "delete_cmd_prefix": "rm(",
     "library": "var_list.r",
     "varRefreshCmd": "cat(var_dic_list()) "
    }
   },
   "types_to_exclude": [
    "module",
    "function",
    "builtin_function_or_method",
    "instance",
    "_Feature"
   ],
   "window_display": false
  }
 },
 "nbformat": 4,
 "nbformat_minor": 5
}
