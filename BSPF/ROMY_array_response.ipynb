{
 "cells": [
  {
   "cell_type": "markdown",
   "id": "eb0eb2ff",
   "metadata": {},
   "source": [
    "# Plot Maps of ADR Arrays"
   ]
  },
  {
   "cell_type": "code",
   "execution_count": null,
   "id": "da79ed6c",
   "metadata": {},
   "outputs": [],
   "source": []
  },
  {
   "cell_type": "markdown",
   "id": "de0e247f",
   "metadata": {},
   "source": [
    "## Imports"
   ]
  },
  {
   "cell_type": "code",
   "execution_count": 1,
   "id": "6d6e9377",
   "metadata": {
    "ExecuteTime": {
     "end_time": "2023-04-20T12:54:06.510336Z",
     "start_time": "2023-04-20T12:54:05.593358Z"
    },
    "tags": []
   },
   "outputs": [],
   "source": [
    "from obspy import UTCDateTime\n",
    "from obspy.clients import fdsn\n",
    "from matplotlib.colorbar import ColorbarBase\n",
    "from matplotlib.colors import Normalize\n",
    "from obspy.geodetics.base import gps2dist_azimuth\n",
    "from obspy.geodetics import locations2degrees\n",
    "from obspy.clients.fdsn    import Client, RoutingClient\n",
    "from obspy.signal.rotate import rotate2zne\n",
    "from andbro__savefig import __savefig\n",
    "\n",
    "import obspy.signal.array_analysis as AA\n",
    "import matplotlib.pyplot  as plt\n",
    "import numpy as np\n",
    "\n",
    "import warnings\n",
    "warnings.filterwarnings('ignore')"
   ]
  },
  {
   "cell_type": "code",
   "execution_count": 2,
   "id": "3c429cae",
   "metadata": {
    "ExecuteTime": {
     "end_time": "2023-04-20T12:54:06.526062Z",
     "start_time": "2023-04-20T12:54:06.514396Z"
    },
    "code_folding": [
     0
    ],
    "tags": []
   },
   "outputs": [],
   "source": [
    "def __get_inventory(config):\n",
    "    coords = []\n",
    "    for i, station in enumerate(config['subarray_stations']):\n",
    "        inven = config['fdsn_client'].get_stations(network=config['network'][i],\n",
    "                                                   station=station,\n",
    "                                                   channel='BHZ',\n",
    "                                                   starttime=config['starttime'],\n",
    "                                                   endtime=config['starttime']+86400,\n",
    "                                                   level='response'\n",
    "                                                  )\n",
    "        \n",
    "\n",
    "        l_lon =  float(inven.get_coordinates('%s.%s..BHZ'%(config['network'][i],station))['longitude'])\n",
    "        l_lat =  float(inven.get_coordinates('%s.%s..BHZ'%(config['network'][i],station))['latitude'])\n",
    "        height = float(inven.get_coordinates('%s.%s..BHZ'%(config['network'][i],station))['elevation'])\n",
    "\n",
    "        coords.append([l_lon,l_lat, height])\n",
    "\n",
    "    config['coordinates'] = np.array(coords)\n",
    "    return config"
   ]
  },
  {
   "cell_type": "code",
   "execution_count": 3,
   "id": "a9620daa",
   "metadata": {
    "ExecuteTime": {
     "end_time": "2023-04-20T12:54:06.541365Z",
     "start_time": "2023-04-20T12:54:06.527552Z"
    },
    "code_folding": [
     0
    ],
    "tags": []
   },
   "outputs": [],
   "source": [
    "def __get_distances(config):\n",
    "    \n",
    "    import obspy\n",
    "    \n",
    "    cc_lon, cc_lat,cc_height = 0,0,0\n",
    "    for c in config['coordinates']:\n",
    "        cc_lon += c[0]\n",
    "        cc_lat += c[1]\n",
    "        cc_height += c[2]\n",
    "\n",
    "    cc_lon /= len(config['coordinates'])\n",
    "    cc_lat /= len(config['coordinates'])\n",
    "    cc_height /= len(config['coordinates'])\n",
    "\n",
    "    config['centroid'] = [cc_lon, cc_lat, cc_height]\n",
    "    \n",
    "    dists = []\n",
    "    for lon,lat,height in config['coordinates']:    \n",
    "        dist_x, dist_y = obspy.signal.util.util_geo_km(cc_lon, cc_lat, lon, lat)\n",
    "        dists.append([dist_x*1000,dist_y*1000, height-cc_height])  #convert unit from km to m\n",
    "\n",
    "    config['distances'] = np.array(dists)\n",
    "    return config"
   ]
  },
  {
   "cell_type": "code",
   "execution_count": 4,
   "id": "a91173f8",
   "metadata": {
    "ExecuteTime": {
     "end_time": "2023-04-20T12:54:06.555894Z",
     "start_time": "2023-04-20T12:54:06.542938Z"
    },
    "code_folding": [
     0
    ],
    "tags": []
   },
   "outputs": [],
   "source": [
    "def __get_aperture(config, reference_station=None):\n",
    "    \n",
    "    from numpy import argmax, array, sqrt\n",
    "    import obspy \n",
    "    \n",
    "    for n, sta in enumerate(config['subarray_stations']):\n",
    "        if sta == reference_station:\n",
    "            ref_lon, ref_lat, ref_height = config['coordinates'][n][0], config['coordinates'][n][1], config['coordinates'][n][2]\n",
    "        \n",
    "    dists = []\n",
    "    for lon,lat,height in config['coordinates']:    \n",
    "        dist_x, dist_y = obspy.signal.util.util_geo_km(ref_lon, ref_lat, lon, lat)\n",
    "        dists.append(sqrt((dist_x*1000)**2+(dist_y*1000)**2))  #convert unit from km to m\n",
    "        \n",
    "        \n",
    "    aperture = max(abs(array(dists)))\n",
    "    idx = argmax(abs(array(dists)))\n",
    "    \n",
    "    connection = (ref_lon, ref_lat, config['coordinates'][idx][0], config['coordinates'][idx][1])\n",
    "    print(f\" -> Aperture of Array: {round(aperture,2)} m\")\n",
    "    return aperture, connection"
   ]
  },
  {
   "cell_type": "markdown",
   "id": "7a6659f9",
   "metadata": {},
   "source": [
    "## GRF ARRAY"
   ]
  },
  {
   "cell_type": "code",
   "execution_count": 5,
   "id": "59eb1dfe",
   "metadata": {
    "ExecuteTime": {
     "end_time": "2023-04-20T12:54:08.404112Z",
     "start_time": "2023-04-20T12:54:06.558470Z"
    },
    "tags": []
   },
   "outputs": [],
   "source": [
    "## generate configuration object\n",
    "config1 = {}\n",
    "\n",
    "## specify client\n",
    "config1['fdsn_client'] = Client('BGR')\n",
    "\n",
    "config1['array_code'] = \"GRF\"\n",
    "\n",
    "\n",
    "#starttime for data process\n",
    "config1['starttime'] = UTCDateTime(\"2019-07-01T00:00\")\n",
    "\n",
    "#PFO array informatio\n",
    "config1['network'] = ['GR','GR','GR','GR','GR','GR','GR','GR','GR','GR','GR','GR','GR']\n",
    "config1['array_stations'] = ['GRA1','GRA2','GRA3','GRA4','GRB1','GRB2','GRB3','GRB4','GRB5','GRC1','GRC2','GRC3','GRC4']\n",
    "\n",
    "\n",
    "# config1['subarray_mask'] = [0,1,2,3,4,5,6,7,8,9,10,11,12] # all\n",
    "# config1['subarray_mask'] = [0,2,4,6,8,10,12] # random\n",
    "# config1['subarray_mask'] = [0,1,2,3] # only A\n",
    "# config1['subarray_mask'] = [4,5,6,7,8] # only B\n",
    "# config1['subarray_mask'] = [9,10,11,12] # only C\n",
    "# config1['subarray_mask'] = [0,1,2,3,4,5,6,7,8] #  A & B \n",
    "config1['subarray_mask'] = [8,9,10,11,12] # optimal\n",
    "\n",
    "\n",
    "## adjust for selected subarray\n",
    "config1['subarray_stations'] = [config1['array_stations'][j] for j in config1['subarray_mask']]\n",
    "config1['network'] = [config1['network'][j] for j in config1['subarray_mask']]\n",
    "\n",
    "## reference stations for computation of aperture\n",
    "config1['reference_station'] = \"GRC1\"\n",
    "\n",
    "## GRF ARRAY\n",
    "# config1['label_adjustments'] = {\"GRA1\": [0, 1.5e-2],\"GRA2\": [0, 1.5e-2],\"GRA3\": [0, 1.5e-2],\"GRA4\": [0, 1.5e-2],\n",
    "#                                \"GRB1\": [-3e-2, 2e-2],\"GRB2\": [0, 1.5e-2],\"GRB3\": [-3e-2, 1.5e-2],\"GRB4\": [0, 1.5e-2],\"GRB5\": [0, 1.5e-2],\n",
    "#                                \"GRC1\": [0, 1.5e-2],\"GRC2\": [0, 1.5e-2],\"GRC3\": [0, 1.5e-2],\"GRC4\": [0, 1.5e-2]}\n",
    "config1['label_adjustments'] = {\"GRA1\": [0, 1e-2],\"GRA2\": [0, 1e-2],\"GRA3\": [0, 1e-2],\"GRA4\": [0, 1e-2],\n",
    "                               \"GRB1\": [0, 1e-2],\"GRB2\": [0, 1e-2],\"GRB3\": [0, 1e-2],\"GRB4\": [0, 1e-2],\"GRB5\": [-2e-2, -1.5e-2],\n",
    "                               \"GRC1\": [0, 1e-2],\"GRC2\": [1e-2, 0e-2],\"GRC3\": [0, 1e-2],\"GRC4\": [0, 1e-2]}\n",
    "\n",
    "config1 = __get_inventory(config1)\n",
    "config1 = __get_distances(config1)"
   ]
  },
  {
   "cell_type": "markdown",
   "id": "8a6724f1",
   "metadata": {
    "ExecuteTime": {
     "end_time": "2022-08-01T10:46:19.434256Z",
     "start_time": "2022-08-01T10:46:19.428728Z"
    }
   },
   "source": [
    "## ROMY ARRAY"
   ]
  },
  {
   "cell_type": "code",
   "execution_count": 6,
   "id": "a0c38fcc",
   "metadata": {
    "ExecuteTime": {
     "end_time": "2023-04-20T12:54:32.686321Z",
     "start_time": "2023-04-20T12:54:08.407178Z"
    },
    "tags": []
   },
   "outputs": [],
   "source": [
    "## generate configuration object\n",
    "config2 = {}\n",
    "\n",
    "## specify client\n",
    "config2['fdsn_client'] = Client(base_url=\"http://jane\", timeout=300)\n",
    "# config2['fdsn_client'] = RoutingClient(\"lmu\")\n",
    "# config2['fdsn_client'] = RoutingClient(\"eida-routing\")\n",
    "\n",
    "\n",
    "#starttime for data process\n",
    "config2['starttime'] = UTCDateTime(\"2022-01-01T00:00\")\n",
    "\n",
    "config2['array_code'] = \"RMY\"\n",
    "\n",
    "#PFO array information\n",
    "config2['network'] = ['GR','BW','BW','BW','BW','BW','BW','BW','BW']\n",
    "config2['array_stations'] = ['FUR','FFB1','FFB2','FFB3','GELB','GRMB','TON','ALFT','BIB']\n",
    "\n",
    "config2['subarray_mask'] = [0,1,2,3,4,5,6,7,8] # all\n",
    "# config2['subarray_mask'] = [0,1,2,3] # only inner\n",
    "# config2['subarray_mask'] = [0,4,5,6,7,8] # optimal\n",
    "\n",
    "\n",
    "## adjust for selected subarray\n",
    "config2['subarray_stations'] = [config2['array_stations'][j] for j in config2['subarray_mask']]\n",
    "config2['network'] = [config2['network'][j] for j in config2['subarray_mask']]\n",
    "\n",
    "## reference stations for computation of aperture\n",
    "config2['reference_station'] = \"FUR\"\n",
    "\n",
    "## ROMY ARRAY\n",
    "config2['label_adjustments'] = {\"BIB\": [0, 1e-3],\"TON\": [-1.5e-3, -2e-3],\"GELB\": [0, 1e-3],\n",
    "                               \"GRMB\": [1e-3, 0.5e-3],\"ALFT\": [0, 1e-3],\"FFB1\": [-5e-3, -1e-3],\n",
    "                               \"FFB2\": [-2e-3, 1e-3],\"FFB3\": [0, 1e-3],\"FUR\": [1e-3, -2e-3]}\n",
    "\n",
    "config2 = __get_inventory(config2)\n",
    "config2 = __get_distances(config2)"
   ]
  },
  {
   "cell_type": "markdown",
   "id": "c78442c2",
   "metadata": {},
   "source": [
    "## PFO ARRAY"
   ]
  },
  {
   "cell_type": "code",
   "execution_count": 7,
   "id": "21abb908",
   "metadata": {
    "ExecuteTime": {
     "end_time": "2023-04-20T13:00:08.658679Z",
     "start_time": "2023-04-20T13:00:06.037096Z"
    },
    "tags": []
   },
   "outputs": [],
   "source": [
    "## generate configuration object\n",
    "config3 = {}\n",
    "\n",
    "## specify client\n",
    "config3['fdsn_client'] = Client('IRIS')\n",
    "\n",
    "#starttime for data process\n",
    "config3['starttime'] = UTCDateTime(\"2019-11-02T00:00:00\")\n",
    "\n",
    "# config3['save_path'] = \"/home/andbro/kilauea-data/LNM/data/PFO/adr/\"\n",
    "config3['save_path'] = \"/export/data/LNM/data/PFO/adr/\"\n",
    "\n",
    "config3['array_code'] = \"PFO\"\n",
    "\n",
    "#PFO array information\n",
    "config3['network'] = ['PY','PY','PY','PY','PY','PY','PY','PY','PY','PY','PY','PY','PY']\n",
    "config3['array_stations'] = ['BPH01','BPH02','BPH03','BPH04','BPH05','BPH06','BPH07','BPH08','BPH09','BPH10','BPH11','BPH12','BPH13']\n",
    "config3['misorientations'] =  [0. ,-1.375 ,0.25 ,0.125 ,-0.6875 ,-0.625 ,-1.9375 ,0.375  ,-6.5625 ,0.3125 ,-1.125 ,-2.5625 ,0.1875]\n",
    "\n",
    "config3['array_station'] =[]\n",
    "config3['misorientation'] =[]\n",
    "\n",
    "# config3['subarray_mask'] = [0,1,2,3,4,5,6,7,8,9,10,11,12] #all\n",
    "# config3['subarray_mask'] = [0,5,8,9,10,11,12] #optimal\n",
    "config3['subarray_mask'] = [0,1,2,3] #inner\n",
    "\n",
    "config3['subarray'] = np.arange(len(config3['array_stations']))\n",
    "\n",
    "config3['subarray_stations'] = [config3['array_stations'][i] for i in config3['subarray_mask']]\n",
    "config3['network'] = [config3['network'][j] for j in config3['subarray_mask']]\n",
    "config3['subarray_misorientation'] = [config3['misorientations'][i] for i in config3['subarray']]\n",
    "\n",
    "config3['samples'] = 86400*20\n",
    "\n",
    "#parameter for array-derivation\n",
    "config3['prefilt'] = (0.001, 0.01, 5, 10)\n",
    "config3['freq1'] = 0.014   #0.014 for Spudich    and  0.073 for Langston\n",
    "config3['freq2'] = 1.5\n",
    "config3['bpf'] = True\n",
    "config3['channel_resp'] = 'BHZ'\n",
    "config3['debug'] = True\n",
    "\n",
    "# adr parameters\n",
    "config3['vp'] = 6264. #1700\n",
    "config3['vs'] = 3751. #1000\n",
    "config3['sigmau'] = 0.0001\n",
    "\n",
    "## reference stations for computation of aperture\n",
    "# config3['reference_station'] = \"BPH11\"\n",
    "config3['reference_station'] = \"BPH01\"\n",
    "\n",
    "\n",
    "## PFO ARRAY\n",
    "config3['label_adjustments'] = {\"BPH01\": [0, 2e-4],\"BPH02\": [0, 2e-4],\"BPH03\": [0, -4.3e-4],\n",
    "                               \"BPH04\": [-1.3e-3, -4.1e-4],\"BPH05\": [0, 1.3e-4],\"BPH06\": [0, 2e-4],\n",
    "                               \"BPH07\": [0, 1.5e-4],\"BPH08\": [0, 1.5e-4],\"BPH09\": [0, -4.3e-4],\n",
    "                               \"BPH10\": [-5e-4, 2e-4],\"BPH11\": [-8e-4, 2e-4],\n",
    "                               \"BPH12\": [3e-4, 1.2e-4],\"BPH13\": [-2e-4, 2e-4]}\n",
    "\n",
    "config3 = __get_inventory(config3)\n",
    "config3 = __get_distances(config3)"
   ]
  },
  {
   "cell_type": "markdown",
   "id": "82e0126f",
   "metadata": {},
   "source": [
    "## ALl Maps"
   ]
  },
  {
   "cell_type": "code",
   "execution_count": 8,
   "id": "03c16255",
   "metadata": {
    "ExecuteTime": {
     "end_time": "2023-04-20T13:00:09.791168Z",
     "start_time": "2023-04-20T13:00:09.775989Z"
    },
    "code_folding": [],
    "tags": []
   },
   "outputs": [],
   "source": [
    "def __makeplot_maps(configs):\n",
    "\n",
    "    \n",
    "    fig, ax = plt.subplots(2,2, figsize=(12,12))\n",
    "    \n",
    "    plt.subplots_adjust(hspace=0.2, wspace=0.2)\n",
    "    \n",
    "    font = 14 \n",
    "    \n",
    "    for ii, config in enumerate(configs):\n",
    "\n",
    "        if ii == 0: \n",
    "            k,l = 0,0\n",
    "        if ii == 1:\n",
    "            k,l = 0,1\n",
    "        if ii == 2:\n",
    "            k,l = 1,0\n",
    "        \n",
    "        aper, connect = __get_aperture(config, reference_station=config['reference_station'])\n",
    "\n",
    "\n",
    "        for n, (c, sta) in enumerate(zip(config['coordinates'], config['subarray_stations'])):\n",
    "\n",
    "            if config['array_code'] == \"PFO\":\n",
    "                if n in [0,5,8,9,10,11,12]:\n",
    "                    ax[k,l].scatter(c[0], c[1], c='g', marker=\"^\", s=80, zorder=2)\n",
    "                    ax[k,l].scatter(-116.4605, 33.61, c='g', marker=\"^\", s=0, zorder=2)\n",
    "                    ax[k,l].scatter(-116.451, 33.61, c='g', marker=\"^\", s=0, zorder=2)\n",
    "\n",
    "                else:\n",
    "                    ax[k,l].scatter(c[0], c[1], c='r', marker=\"^\", s=80, zorder=2)\n",
    "            else:\n",
    "                ax[k,l].scatter(c[0], c[1], c='r', marker=\"^\", s=80, zorder=2)\n",
    "\n",
    "            try:\n",
    "                x, y = config['label_adjustments'][sta]\n",
    "                ax[k,l].text(c[0]+x, c[1]+y, sta, zorder=2)\n",
    "            except:\n",
    "                print(f\"{config['array_stations'][n]} has no label..\")\n",
    "\n",
    "        ax[k,l].scatter(config['centroid'][0], config['centroid'][1], s=100, marker=\"+\", c='k',zorder=2)\n",
    "\n",
    "        ax[k,l].set_title(f\"{config['array_code']} Array Stations - Aperture: {int(round(aper,0))} m\")\n",
    "        ax[k,l].ticklabel_format(useOffset=False, style='plain')\n",
    "        ax[k,l].grid(alpha=0.5, zorder=0)\n",
    "\n",
    "    \n",
    "        ## draw connection\n",
    "        ax[k,l].plot([connect[0], connect[2]], [connect[1], connect[3]], ls=\":\", zorder=1, color='k')\n",
    "    \n",
    "    ## panel labels\n",
    "    ax[0,0].text(.01, .99, 'a)', ha='left', va='top', transform=ax[0,0].transAxes, fontsize=font+2)\n",
    "    ax[0,1].text(.01, .99, 'b)', ha='left', va='top', transform=ax[0,1].transAxes, fontsize=font+2)\n",
    "    ax[1,0].text(.01, .99, 'c)', ha='left', va='top', transform=ax[1,0].transAxes, fontsize=font+2)\n",
    "                \n",
    "    ax[1,1].axis('off')\n",
    "\n",
    "    ax[0,1].set_xlabel(\"Longitude (°)\", fontsize=font)\n",
    "    ax[1,0].set_xlabel(\"Longitude (°)\", fontsize=font)\n",
    "    ax[1,1].set_xlabel(\"Longitude (°)\", fontsize=font)\n",
    "    ax[0,0].set_ylabel(\"Latitude (°)\", fontsize=font)\n",
    "    ax[1,0].set_ylabel(\"Latitude (°)\", fontsize=font)\n",
    "\n",
    "\n",
    "    ax[1,0].locator_params(axis=\"x\", nbins=5)\n",
    "\n",
    "    plt.show();\n",
    "    return fig"
   ]
  },
  {
   "cell_type": "code",
   "execution_count": 9,
   "id": "8d92d6d4",
   "metadata": {
    "ExecuteTime": {
     "end_time": "2023-04-20T13:00:10.747622Z",
     "start_time": "2023-04-20T13:00:10.393475Z"
    },
    "tags": []
   },
   "outputs": [
    {
     "name": "stdout",
     "output_type": "stream",
     "text": [
      " -> Aperture of Array: 88.84 m\n",
      " -> Aperture of Array: 2633.99 m\n",
      " -> Aperture of Array: 17850.8 m\n"
     ]
    },
    {
     "data": {
      "image/png": "[encoded data removed]",
      "text/plain": [
       "<Figure size 1200x1200 with 4 Axes>"
      ]
     },
     "metadata": {},
     "output_type": "display_data"
    }
   ],
   "source": [
    "fig = __makeplot_maps([config3, config2, config1]);"
   ]
  },
  {
   "cell_type": "code",
   "execution_count": 10,
   "id": "70a7c071",
   "metadata": {
    "ExecuteTime": {
     "end_time": "2023-04-20T12:54:42.470703Z",
     "start_time": "2023-04-20T12:54:41.963299Z"
    },
    "tags": []
   },
   "outputs": [],
   "source": [
    "# __savefig(fig, outpath=\"/export/data/LNM/figures_final/\", outname=\"maps_ADR_arrays_final\", mode=\"png\", dpi=300)"
   ]
  },
  {
   "cell_type": "code",
   "execution_count": 11,
   "id": "9206c440",
   "metadata": {
    "ExecuteTime": {
     "end_time": "2023-04-20T12:54:42.475067Z",
     "start_time": "2023-04-20T12:54:42.475044Z"
    },
    "code_folding": [
     0
    ]
   },
   "outputs": [],
   "source": [
    "# def __makeplot_maps(configs):\n",
    "\n",
    "    \n",
    "#     fig, ax = plt.subplots(2,2, figsize=(12,12))\n",
    "    \n",
    "#     plt.subplots_adjust(hspace=0.2, wspace=0.2)\n",
    "    \n",
    "#     font = 14 \n",
    "    \n",
    "#     for ii, config in enumerate(configs):\n",
    "\n",
    "#         if ii == 0: \n",
    "#             k,l = 1,1\n",
    "#         if ii == 1:\n",
    "#             k,l = 0,1\n",
    "#         if ii == 2:\n",
    "#             k,l = 1,0\n",
    "        \n",
    "#         aper, connect = __get_aperture(config, reference_station=config['reference_station'])\n",
    "\n",
    "\n",
    "#         for n, (c, sta) in enumerate(zip(config['coordinates'], config['subarray_stations'])):\n",
    "\n",
    "#             if config['array_code'] == \"PFO\":\n",
    "#                 if n in [0,5,8,9,10,11,12]:\n",
    "#                     ax[k,l].scatter(c[0], c[1], c='g', marker=\"^\", s=80, zorder=2)\n",
    "#                     ax[k,l].scatter(-116.4605, 33.61, c='g', marker=\"^\", s=0, zorder=2)\n",
    "#                     ax[k,l].scatter(-116.451, 33.61, c='g', marker=\"^\", s=0, zorder=2)\n",
    "\n",
    "#                 else:\n",
    "#                     ax[k,l].scatter(c[0], c[1], c='r', marker=\"^\", s=80, zorder=2)\n",
    "#             else:\n",
    "#                 ax[k,l].scatter(c[0], c[1], c='r', marker=\"^\", s=80, zorder=2)\n",
    "\n",
    "#             try:\n",
    "#                 x, y = config['label_adjustments'][sta]\n",
    "#                 ax[k,l].text(c[0]+x, c[1]+y, sta, zorder=2)\n",
    "#             except:\n",
    "#                 print(f\"{config['array_stations'][n]} has no label..\")\n",
    "\n",
    "#         ax[k,l].scatter(config['centroid'][0], config['centroid'][1], s=100, marker=\"+\", c='k',zorder=2)\n",
    "\n",
    "#         ax[k,l].set_title(f\"{config['array_code']} Array Stations - Aperture: {int(round(aper,0))} m\")\n",
    "#         ax[k,l].ticklabel_format(useOffset=False, style='plain')\n",
    "#         ax[k,l].grid(alpha=0.5, zorder=0)\n",
    "\n",
    "    \n",
    "#         ## draw connection\n",
    "#         ax[k,l].plot([connect[0], connect[2]], [connect[1], connect[3]], ls=\":\", zorder=1, color='k')\n",
    "    \n",
    "#     ## panel labels\n",
    "#     ax[0,1].text(.01, .99, 'a)', ha='left', va='top', transform=ax[0,1].transAxes, fontsize=font+2)\n",
    "#     ax[1,1].text(.01, .99, 'b)', ha='left', va='top', transform=ax[1,1].transAxes, fontsize=font+2)\n",
    "#     ax[1,0].text(.01, .99, 'c)', ha='left', va='top', transform=ax[1,0].transAxes, fontsize=font+2)\n",
    "                \n",
    "#     ax[0,0].axis('off')\n",
    "\n",
    "# #     ax[0,1].set_xlabel(\"Longitude (°)\", fontsize=font)\n",
    "#     ax[1,0].set_xlabel(\"Longitude (°)\", fontsize=font)\n",
    "#     ax[1,1].set_xlabel(\"Longitude (°)\", fontsize=font)\n",
    "#     ax[0,1].set_ylabel(\"Latitude (°)\", fontsize=font)\n",
    "#     ax[1,0].set_ylabel(\"Latitude (°)\", fontsize=font)\n",
    "\n",
    "\n",
    "#     ax[1,0].locator_params(axis=\"x\", nbins=5)\n",
    "\n",
    "#     plt.show();\n",
    "#     return fig"
   ]
  },
  {
   "cell_type": "code",
   "execution_count": 12,
   "id": "a3e6ae06",
   "metadata": {
    "ExecuteTime": {
     "end_time": "2023-04-20T12:54:42.476409Z",
     "start_time": "2023-04-20T12:54:42.476382Z"
    }
   },
   "outputs": [],
   "source": [
    "# fig = __makeplot_maps([config3, config2, config1]);\n",
    "\n",
    "# __savefig(fig, outpath=\"/export/data/LNM/figures_final/\", outname=\"maps_ADR_arrays_final_slides\", mode=\"png\", dpi=300)"
   ]
  },
  {
   "cell_type": "markdown",
   "id": "79a65843",
   "metadata": {},
   "source": [
    "## Single Map"
   ]
  },
  {
   "cell_type": "code",
   "execution_count": 13,
   "id": "fb2360df",
   "metadata": {
    "ExecuteTime": {
     "end_time": "2023-04-20T12:54:42.477459Z",
     "start_time": "2023-04-20T12:54:42.477440Z"
    },
    "code_folding": [
     0
    ]
   },
   "outputs": [],
   "source": [
    "# def __plot_stations(config1):\n",
    "\n",
    "#     aper = __get_aperture(config, reference_station=config['reference_station'])\n",
    "    \n",
    "#     fig, ax = plt.subplots(1,1, figsize=(7,7))\n",
    "    \n",
    "#     font = 14\n",
    "    \n",
    "#     for n, (c, sta) in enumerate(zip(config['coordinates'], config['subarray_stations'])):\n",
    "\n",
    "        \n",
    "#         if config['array_code'] == \"PFO\":\n",
    "#             if n in [0,5,8,9,10,11,12]:\n",
    "#                 ax.scatter(c[0], c[1], c='g', marker=\"^\", s=80, zorder=2)\n",
    "#             else:\n",
    "#                 ax.scatter(c[0], c[1], c='r', marker=\"^\", s=80, zorder=2)\n",
    "#         else:\n",
    "#             ax.scatter(c[0], c[1], c='r', marker=\"^\", s=80, zorder=2)\n",
    "        \n",
    "#         try:\n",
    "#             x, y = config['label_adjustments'][sta]\n",
    "#             ax.text(c[0]+x, c[1]+y, sta, zorder=2)\n",
    "#         except:\n",
    "#             print(f\"{config['array_stations'][n]} has no label..\")\n",
    "                      \n",
    "#     ax.scatter(config['centroid'][0], config['centroid'][1], s=100, marker=\"+\", c='k',zorder=2)\n",
    "\n",
    "#     ax.set_title(f\"{config['array_code']} Array stations - Aperture: {int(round(aper,0))} m\")\n",
    "    \n",
    "#     ax.set_xlabel(\"Longitude (°)\", fontsize=font)\n",
    "#     ax.set_ylabel(\"Latitude (°)\", fontsize=font)\n",
    "    \n",
    "#     ax.grid(alpha=0.5, zorder=0)\n",
    "    \n",
    "#     plt.show();\n",
    "#     return fig"
   ]
  },
  {
   "cell_type": "code",
   "execution_count": 14,
   "id": "54574a75",
   "metadata": {
    "ExecuteTime": {
     "end_time": "2023-04-20T12:54:42.478534Z",
     "start_time": "2023-04-20T12:54:42.478514Z"
    },
    "code_folding": []
   },
   "outputs": [],
   "source": [
    "# __plot_stations(config1);"
   ]
  },
  {
   "cell_type": "code",
   "execution_count": 15,
   "id": "c35952ca",
   "metadata": {
    "ExecuteTime": {
     "end_time": "2023-04-20T12:54:42.479785Z",
     "start_time": "2023-04-20T12:54:42.479765Z"
    },
    "code_folding": [
     0
    ]
   },
   "outputs": [],
   "source": [
    "# __get_aperture(config, reference_station=config['reference_station']);"
   ]
  },
  {
   "cell_type": "code",
   "execution_count": 16,
   "id": "8392a219",
   "metadata": {
    "ExecuteTime": {
     "end_time": "2023-04-21T10:15:29.583742Z",
     "start_time": "2023-04-21T10:15:29.578806Z"
    }
   },
   "outputs": [
    {
     "data": {
      "text/plain": [
       "(0.15616438356164383, 1.3013698630136987)"
      ]
     },
     "execution_count": 16,
     "metadata": {},
     "output_type": "execute_result"
    }
   ],
   "source": [
    "0.03 * 3800 /730, 0.25*3800 / 730"
   ]
  },
  {
   "cell_type": "code",
   "execution_count": null,
   "id": "048fe8d0",
   "metadata": {},
   "outputs": [],
   "source": []
  }
 ],
 "metadata": {
  "kernelspec": {
   "display_name": "Python 3 (ipykernel)",
   "language": "python",
   "name": "python3"
  },
  "language_info": {
   "codemirror_mode": {
    "name": "ipython",
    "version": 3
   },
   "file_extension": ".py",
   "mimetype": "text/x-python",
   "name": "python",
   "nbconvert_exporter": "python",
   "pygments_lexer": "ipython3",
   "version": "3.10.12"
  },
  "latex_envs": {
   "LaTeX_envs_menu_present": true,
   "autoclose": false,
   "autocomplete": true,
   "bibliofile": "biblio.bib",
   "cite_by": "apalike",
   "current_citInitial": 1,
   "eqLabelWithNumbers": true,
   "eqNumInitial": 1,
   "hotkeys": {
    "equation": "Ctrl-E",
    "itemize": "Ctrl-I"
   },
   "labels_anchors": false,
   "latex_user_defs": false,
   "report_style_numbering": false,
   "user_envs_cfg": false
  },
  "toc": {
   "base_numbering": 1,
   "nav_menu": {},
   "number_sections": true,
   "sideBar": true,
   "skip_h1_title": false,
   "title_cell": "Table of Contents",
   "title_sidebar": "Contents",
   "toc_cell": false,
   "toc_position": {},
   "toc_section_display": true,
   "toc_window_display": false
  },
  "varInspector": {
   "cols": {
    "lenName": 16,
    "lenType": 16,
    "lenVar": 40
   },
   "kernels_config": {
    "python": {
     "delete_cmd_postfix": "",
     "delete_cmd_prefix": "del ",
     "library": "var_list.py",
     "varRefreshCmd": "print(var_dic_list())"
    },
    "r": {
     "delete_cmd_postfix": ") ",
     "delete_cmd_prefix": "rm(",
     "library": "var_list.r",
     "varRefreshCmd": "cat(var_dic_list()) "
    }
   },
   "types_to_exclude": [
    "module",
    "function",
    "builtin_function_or_method",
    "instance",
    "_Feature"
   ],
   "window_display": false
  }
 },
 "nbformat": 4,
 "nbformat_minor": 5
}
