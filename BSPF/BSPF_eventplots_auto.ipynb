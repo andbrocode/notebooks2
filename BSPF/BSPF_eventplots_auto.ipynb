{
 "cells": [
  {
   "cell_type": "markdown",
   "id": "26ad060e",
   "metadata": {
    "ExecuteTime": {
     "end_time": "2022-09-13T00:35:24.926376Z",
     "start_time": "2022-09-13T00:35:24.923877Z"
    }
   },
   "source": [
    "# Automatic BSPF Eventplots"
   ]
  },
  {
   "cell_type": "markdown",
   "id": "fa47ca0c",
   "metadata": {},
   "source": [
    "Creates automatic event plots based on catalog "
   ]
  },
  {
   "cell_type": "code",
   "execution_count": null,
   "id": "7ae027cf",
   "metadata": {
    "ExecuteTime": {
     "end_time": "2023-07-28T13:44:23.247899Z",
     "start_time": "2023-07-28T13:44:20.435586Z"
    }
   },
   "outputs": [],
   "source": [
    "import os \n",
    "import obspy as obs\n",
    "import matplotlib.pyplot as plt\n",
    "import numpy as np\n",
    "import pandas as pd\n",
    "\n",
    "from tqdm.notebook import tqdm\n",
    "from pprint import pprint\n",
    "\n",
    "from functions.request_data import __request_data\n",
    "from functions.add_distances_and_backazimuth import __add_distances_and_backazimuth\n",
    "from functions.compute_adr_pfo import __compute_adr_pfo\n"
   ]
  },
  {
   "cell_type": "code",
   "execution_count": null,
   "id": "4bdba00f",
   "metadata": {
    "ExecuteTime": {
     "end_time": "2023-07-28T13:44:23.251002Z",
     "start_time": "2023-07-28T13:44:23.248957Z"
    }
   },
   "outputs": [],
   "source": [
    "if os.uname().nodename == 'lighthouse':\n",
    "    root_path = '/home/andbro/'\n",
    "    data_path = '/home/andbro/kilauea-data/'\n",
    "    archive_path = '/home/andbro/freenas/'\n",
    "elif os.uname().nodename == 'kilauea':\n",
    "    root_path = '/home/brotzer/'\n",
    "    data_path = '/import/kilauea-data/'\n",
    "    archive_path = '/import/freenas-ffb-01-data/'"
   ]
  },
  {
   "cell_type": "code",
   "execution_count": null,
   "id": "e18f87d6",
   "metadata": {
    "ExecuteTime": {
     "end_time": "2023-07-28T13:44:23.268118Z",
     "start_time": "2023-07-28T13:44:23.253448Z"
    },
    "code_folding": [
     0
    ]
   },
   "outputs": [],
   "source": [
    "def __process_xpfo(config, st, inv):\n",
    "\n",
    "    ii_pfo = st.copy()\n",
    "\n",
    "#     pre_filt = [0.005, 0.01, 19, 20]\n",
    "\n",
    "    ## cut properly\n",
    "#     ii_pfo.trim(config['tbeg'], config['tend'])\n",
    "\n",
    "    ## demean\n",
    "    ii_pfo.detrend(\"demean\")\n",
    "\n",
    "    ## remove response\n",
    "#     ii_pfo.remove_response(inventory=inv, \n",
    "#     #                        pre_filt=pre_filt, \n",
    "#                            output=\"VEL\",\n",
    "#     #                        water_level=60, \n",
    "#                            plot=False)\n",
    "\n",
    "    ## taper \n",
    "    ii_pfo.taper(0.1)\n",
    "\n",
    "    ## bandpass\n",
    "    ii_filter = ii_pfo.filter(\"bandpass\", freqmin=config['fmin'], freqmax=config['fmax'], corners=4, zerophase=True)\n",
    "\n",
    "    ## adjust channel names\n",
    "    for tr in ii_pfo:\n",
    "        if tr.stats.channel[-1] == \"1\":\n",
    "            tr.stats.channel = str(tr.stats.channel).replace(\"1\",\"N\")\n",
    "        if tr.stats.channel[-1] == \"2\":\n",
    "            tr.stats.channel = str(tr.stats.channel).replace(\"2\",\"E\")\n",
    "    \n",
    "    return ii_pfo"
   ]
  },
  {
   "cell_type": "code",
   "execution_count": null,
   "id": "ba781332",
   "metadata": {
    "ExecuteTime": {
     "end_time": "2023-07-28T13:44:23.282869Z",
     "start_time": "2023-07-28T13:44:23.269015Z"
    },
    "code_folding": [
     0
    ]
   },
   "outputs": [],
   "source": [
    "def __makeplot(config, st):\n",
    "\n",
    "    \n",
    "    st_in = st.copy()\n",
    "    \n",
    "    fig, ax = plt.subplots(6,1, figsize=(15,10), sharex=True)\n",
    "\n",
    "    font = 14\n",
    "\n",
    "    time_scaling, time_unit = 1, \"sec\"\n",
    "    rot_scaling = 1e9\n",
    "    trans_scaling = 1e6\n",
    "    \n",
    "    for i, tr in enumerate(st_in):\n",
    "        \n",
    "        if i in [0,1,2]:\n",
    "            ax[i].set_ylabel(r\"$\\omega$ (nrad/s)\", fontsize=font)\n",
    "            ax[i].plot(tr.times()/time_scaling, tr.data*rot_scaling, 'k', label=tr.stats.station+\".\"+tr.stats.channel)\n",
    "\n",
    "        elif i in [3,4,5]:\n",
    "            ax[i].set_ylabel(r\"u ($\\mu$m/s)\", fontsize=font)\n",
    "            ax[i].plot(tr.times()/time_scaling, tr.data*trans_scaling, 'k', label=tr.stats.station+\".\"+tr.stats.channel)\n",
    "            \n",
    "        ax[i].legend(loc=1)\n",
    "        \n",
    "    ax[5].set_xlabel(f\"Time ({time_unit}) from {st[0].stats.starttime.date} {str(st[0].stats.starttime.time).split('.')[0]} UTC\", fontsize=font)\n",
    "    ax[0].set_title(config['title']+f\" | {config['fmin']} - {config['fmax']} Hz\", fontsize=font, pad=10)\n",
    "    \n",
    "    plt.show();\n",
    "    del st_in\n",
    "    return fig"
   ]
  },
  {
   "cell_type": "code",
   "execution_count": null,
   "id": "33b96a08",
   "metadata": {
    "ExecuteTime": {
     "end_time": "2023-07-28T13:44:23.299423Z",
     "start_time": "2023-07-28T13:44:23.283746Z"
    },
    "code_folding": [
     0
    ]
   },
   "outputs": [],
   "source": [
    "def __makeplotStreamSpectra2(st, config, fscale=None):\n",
    "\n",
    "    from scipy import fftpack\n",
    "    from andbro__fft import __fft\n",
    "    import matplotlib.pyplot as plt\n",
    "\n",
    "    st_in = st.copy()\n",
    "    \n",
    "    NN = len(st_in)\n",
    "    rot_scaling, rot_unit = 1e9, r\"nrad/s\"\n",
    "    trans_scaling, trans_unit = 1e6, r\"$\\mu$m/s\"\n",
    "        \n",
    "    fig, axes = plt.subplots(NN,2,figsize=(15,int(NN*2)), sharex='col')\n",
    "\n",
    "    font = 14\n",
    "    \n",
    "    plt.subplots_adjust(hspace=0.3)\n",
    "\n",
    "    ## _______________________________________________\n",
    "\n",
    "    st.sort(keys=['channel'], reverse=True)\n",
    "    \n",
    "    for i, tr in enumerate(st_in):\n",
    "\n",
    "#         comp_fft = abs(fftpack.fft(tr.data))\n",
    "#         ff       = fftpack.fftfreq(comp_fft.size, d=1/tr.stats.sampling_rate)\n",
    "#         comp_fft = fftpack.fftshift(comp_fft)\n",
    "#         ff, spec = ff[1:len(ff)//2], abs(fftpack.fft(tr.data)[1:len(ff)//2])\n",
    "\n",
    "        if tr.stats.channel[-2] == \"J\":\n",
    "            scaling = rot_scaling\n",
    "        elif tr.stats.channel[-2] == \"H\":\n",
    "            scaling = trans_scaling\n",
    "\n",
    "        spec, ff, ph = __fft(tr.data*scaling, tr.stats.delta, window=None, normalize=None)\n",
    "    \n",
    "    \n",
    "        ## _________________________________________________________________\n",
    "        if tr.stats.channel[-2] == \"J\":\n",
    "            axes[i,0].plot(\n",
    "                        tr.times(),\n",
    "                        tr.data*rot_scaling,\n",
    "                        color='black',\n",
    "                        label='{} {}'.format(tr.stats.station, tr.stats.channel),\n",
    "                        lw=1.0,\n",
    "                        )\n",
    "\n",
    "        elif tr.stats.channel[-2] == \"H\":\n",
    "            axes[i,0].plot(\n",
    "                        tr.times(),\n",
    "                        tr.data*trans_scaling,\n",
    "                        color='black',\n",
    "                        label='{} {}'.format(tr.stats.station, tr.stats.channel),\n",
    "                        lw=1.0,\n",
    "                        )\n",
    "        ## _________________________________________________________________\n",
    "        if fscale == \"loglog\":\n",
    "            axes[i,1].loglog(ff, spec, color='black', lw=1.0)\n",
    "        elif fscale == \"loglin\":\n",
    "            axes[i,1].semilogx(ff, spec, color='black', lw=1.0)\n",
    "        elif fscale == \"linlog\":\n",
    "            axes[i,1].semilogy(ff, spec, color='black', lw=1.0)\n",
    "        else:\n",
    "            axes[i,1].plot(ff, spec, color='black', lw=1.0)         \n",
    "        \n",
    "        \n",
    "        if tr.stats.channel[1] == \"J\":\n",
    "            sym, unit = r\"$\\Omega$\", rot_unit\n",
    "        elif tr.stats.channel[1] == \"H\":\n",
    "            sym, unit = \"v\", trans_unit\n",
    "        else:\n",
    "            unit = \"Amplitude\", \"a.u.\"\n",
    "            \n",
    "        axes[i,0].set_ylabel(f'{sym} ({unit})',fontsize=font)    \n",
    "        axes[i,1].set_ylabel(f'ASD \\n({unit}/Hz)',fontsize=font)        \n",
    "        axes[i,0].legend(loc='upper left',bbox_to_anchor=(0.8, 1.10), framealpha=1.0)\n",
    "        \n",
    "#         axes[i,0].ticklabel_format(axis='y', style='sci', scilimits=(0,0))\n",
    "#         axes[i,1].ticklabel_format(axis='y', style='sci', scilimits=(0,0))\n",
    "\n",
    "    if \"fmin\" in config.keys() and \"fmax\" in config.keys():\n",
    "        axes[i,1].set_xlim(config['fmin'],config['fmax'])\n",
    "\n",
    "    axes[NN-1,0].set_xlabel(f\"Time from {tr.stats.starttime.date} {str(tr.stats.starttime.time)[:8]} (s)\",fontsize=font)     \n",
    "    axes[NN-1,1].set_xlabel(f\"Frequency (Hz)\",fontsize=font)     \n",
    "\n",
    "    del st_in\n",
    "    return fig"
   ]
  },
  {
   "cell_type": "code",
   "execution_count": null,
   "id": "f3657a9c",
   "metadata": {
    "ExecuteTime": {
     "end_time": "2023-07-28T13:44:23.314025Z",
     "start_time": "2023-07-28T13:44:23.300338Z"
    },
    "code_folding": [
     0
    ]
   },
   "outputs": [],
   "source": [
    "def __empty_stream(reference_stream):\n",
    "\n",
    "    from numpy import ones\n",
    "    from obspy import Stream, Trace\n",
    "    \n",
    "    t_ref = reference_stream[0]\n",
    "    \n",
    "    empty = Stream()\n",
    "\n",
    "    for cha in [\"BHZ\", \"BHN\", \"BHE\"]:\n",
    "        t = Trace()\n",
    "        t.data = ones(len(t_ref))\n",
    "        t.stats.sampling_rate = t_ref.stats.sampling_rate\n",
    "        t.stats.starttime = t_ref.stats.starttime\n",
    "        t.stats.network, t.stats.station, t.stats.channel = \"PY\", \"RPFO\", cha\n",
    "        empty += t\n",
    "        \n",
    "    return empty"
   ]
  },
  {
   "cell_type": "markdown",
   "id": "a9cfd05f",
   "metadata": {},
   "source": [
    "## Configurations"
   ]
  },
  {
   "cell_type": "code",
   "execution_count": null,
   "id": "d4b1e0b9",
   "metadata": {
    "ExecuteTime": {
     "end_time": "2023-07-28T13:44:23.328995Z",
     "start_time": "2023-07-28T13:44:23.315323Z"
    }
   },
   "outputs": [],
   "source": [
    "config = {}\n",
    "\n",
    "## location of BSPF\n",
    "config['BSPF_lon'] = -116.455439\n",
    "config['BSPF_lat'] = 33.610643\n",
    "\n",
    "## path for figures to store\n",
    "config['outpath_figs'] = data_path+\"BSPF/figures/triggered_all/\"\n",
    "\n",
    "## path for output data\n",
    "config['outpath_data'] = data_path+\"BSPF/data/\" \n",
    "\n",
    "## blueSeis sensor (@200Hz)\n",
    "config['seed_blueseis'] = \"PY.BSPF..HJ*\"\n",
    "\n",
    "## Trillium 240 next to BlueSeis on Pier (@40Hz)\n",
    "config['seed_seismometer1'] = \"II.PFO.10.BH*\" \n",
    "\n",
    "## STS2 next to BlueSeis (@200Hz)\n",
    "config['seed_seismometer2'] = \"PY.PFOIX..HH*\" \n",
    "\n",
    "config['path_to_catalog'] = data_path+\"BSPF/data/catalogs/\"\n",
    "\n",
    "config['catalog'] = \"BSPF_catalog_20221001_20230615_triggered.pkl\""
   ]
  },
  {
   "cell_type": "markdown",
   "id": "c4eed2cb",
   "metadata": {},
   "source": [
    "## Event Info"
   ]
  },
  {
   "cell_type": "code",
   "execution_count": null,
   "id": "8bc0d935",
   "metadata": {
    "ExecuteTime": {
     "end_time": "2023-07-28T13:44:23.346586Z",
     "start_time": "2023-07-28T13:44:23.329957Z"
    }
   },
   "outputs": [],
   "source": [
    "events = pd.read_pickle(config['path_to_catalog']+config['catalog'])"
   ]
  },
  {
   "cell_type": "code",
   "execution_count": null,
   "id": "6042661c",
   "metadata": {
    "ExecuteTime": {
     "end_time": "2023-07-28T13:44:23.379438Z",
     "start_time": "2023-07-28T13:44:23.347537Z"
    }
   },
   "outputs": [],
   "source": [
    "events"
   ]
  },
  {
   "cell_type": "markdown",
   "id": "64afa03a",
   "metadata": {},
   "source": [
    "## RUN LOOP"
   ]
  },
  {
   "cell_type": "code",
   "execution_count": 1,
   "id": "3c1c5de6",
   "metadata": {
    "ExecuteTime": {
     "end_time": "2023-07-28T13:52:12.563856Z",
     "start_time": "2023-07-28T13:52:12.263045Z"
    }
   },
   "outputs": [
    {
     "ename": "NameError",
     "evalue": "name 'events' is not defined",
     "output_type": "error",
     "traceback": [
      "\u001b[0;31m---------------------------------------------------------------------------\u001b[0m",
      "\u001b[0;31mNameError\u001b[0m                                 Traceback (most recent call last)",
      "\u001b[0;32m<ipython-input-1-589bddada7b7>\u001b[0m in \u001b[0;36m<module>\u001b[0;34m\u001b[0m\n\u001b[1;32m      3\u001b[0m \u001b[0;34m\u001b[0m\u001b[0m\n\u001b[1;32m      4\u001b[0m \u001b[0;31m# for jj, ev in enumerate(tqdm(events.index)):\u001b[0m\u001b[0;34m\u001b[0m\u001b[0;34m\u001b[0m\u001b[0;34m\u001b[0m\u001b[0m\n\u001b[0;32m----> 5\u001b[0;31m \u001b[0;32mfor\u001b[0m \u001b[0mjj\u001b[0m\u001b[0;34m,\u001b[0m \u001b[0mev\u001b[0m \u001b[0;32min\u001b[0m \u001b[0menumerate\u001b[0m\u001b[0;34m(\u001b[0m\u001b[0mevents\u001b[0m\u001b[0;34m[\u001b[0m\u001b[0;34m:\u001b[0m\u001b[0;36m2\u001b[0m\u001b[0;34m]\u001b[0m\u001b[0;34m)\u001b[0m\u001b[0;34m:\u001b[0m\u001b[0;34m\u001b[0m\u001b[0;34m\u001b[0m\u001b[0m\n\u001b[0m\u001b[1;32m      6\u001b[0m \u001b[0;34m\u001b[0m\u001b[0m\n\u001b[1;32m      7\u001b[0m     \u001b[0mprint\u001b[0m\u001b[0;34m(\u001b[0m\u001b[0;34mf\"\\n -> {jj} {events.origin[jj]} \"\u001b[0m\u001b[0;34m)\u001b[0m\u001b[0;34m\u001b[0m\u001b[0;34m\u001b[0m\u001b[0m\n",
      "\u001b[0;31mNameError\u001b[0m: name 'events' is not defined"
     ]
    }
   ],
   "source": [
    "global errors\n",
    "errors = []\n",
    "\n",
    "# for jj, ev in enumerate(tqdm(events.index)):\n",
    "for jj, ev in enumerate(events[:2]):\n",
    "\n",
    "    print(f\"\\n -> {jj} {events.origin[jj]} \")\n",
    "    \n",
    "    event_name = str(events.origin[jj]).replace(\"-\",\"\").replace(\":\",\"\").replace(\" \", \"_\").split(\".\")[0]\n",
    "    \n",
    "    filename=config['outpath_figs']+\"raw/\"+f\"{event_name}_raw.png\"\n",
    "  \n",
    "    ## check if file already exists\n",
    "#     if os.path.isfile(filename):\n",
    "#         print(f\" -> file alread exits for {event_name}\")\n",
    "#         continue\n",
    "    \n",
    "    ## configuration adjustments\n",
    "    config['title'] = f\"{events.origin[jj]} UTC | M{events.magnitude[jj]}\"\n",
    "    config['tbeg'] = obs.UTCDateTime(str(events.origin[jj]))-60\n",
    "\n",
    "    \n",
    "    ## select appropriate seismometer\n",
    "    if config['tbeg'].date < obs.UTCDateTime(\"2023-04-01\"):\n",
    "        config['seed_seismometer'] = config['seed_seismometer1']\n",
    "        config['fmin'], config['fmax'] = 0.01, 18.0\n",
    "    else:\n",
    "        config['seed_seismometer'] = config['seed_seismometer2']\n",
    "        config['fmin'], config['fmax'] = 0.01, 80.0\n",
    "        \n",
    "\n",
    "    ## same endtime for all\n",
    "    config['tend'] = obs.UTCDateTime(events.origin[jj])+180\n",
    "    \n",
    "    \n",
    "    ## load and process blueSeis data\n",
    "    try:\n",
    "        py_bspf0, py_bspf_inv = __request_data(config['seed_blueseis'], config['tbeg'], config['tend'])\n",
    "        \n",
    "    except Exception as e:\n",
    "        print(e)\n",
    "        print(f\" -> failed to request BSPF for event: {ev}\")\n",
    "        errors.append(f\" -> failed to request BSPF for event: {ev}\")\n",
    "        continue\n",
    "        \n",
    "        \n",
    "    ## load and process seismometer data\n",
    "    try:        \n",
    "        ii_pfo0, ii_pfo_inv = __request_data(config['seed_seismometer'], config['tbeg'], config['tend'])\n",
    "        \n",
    "    except Exception as e:\n",
    "        print(e)\n",
    "        print(f\" -> failed to request BSPF for event: {ev}\")   \n",
    "        continue\n",
    "\n",
    "    if py_bspf0 is None or ii_pfo0 is None:\n",
    "        continue\n",
    "        \n",
    "    ## processing data\n",
    "    if ii_pfo0[0].stats.sampling_rate != py_bspf0[0].stats.sampling_rate:\n",
    "        py_bspf0.resample(ii_pfo0[0].stats.sampling_rate)\n",
    "        \n",
    "        \n",
    "    ## joining data\n",
    "    st0 = py_bspf0\n",
    "    st0 += ii_pfo0 \n",
    "    \n",
    "    \n",
    "    ## compute ADR\n",
    "    \n",
    "    ## for complete array\n",
    "    try:\n",
    "        pfo_adr = __compute_adr_pfo(config['tbeg'], config['tend'], submask=\"all\")\n",
    "        for tr in pfo_adr:\n",
    "            tr.stats.location = \"all\"\n",
    "        st0 += pfo_adr\n",
    "    except:\n",
    "        print(\" -> failed to compute ADR ...\")\n",
    "        pfo_adr = __empty_stream(st0)\n",
    "        \n",
    "    ## for inner array\n",
    "    try:\n",
    "        pfo_adr = __compute_adr_pfo(config['tbeg'], config['tend'], submask=\"inner\")\n",
    "        for tr in pfo_adr:\n",
    "            tr.stats.location = \"inn\"\n",
    "        st0 += pfo_adr\n",
    "    except:\n",
    "        print(\" -> failed to compute ADR ...\")\n",
    "        pfo_adr = __empty_stream(st0)        \n",
    "    \n",
    "    \n",
    "    st0 = st0.sort()\n",
    "        \n",
    "    ## processing data stream\n",
    "    st = st0.copy() \n",
    "    st.detrend(\"linear\")\n",
    "    st.taper(0.01)\n",
    "    st.filter(\"bandpass\", freqmin=config['fmin'], freqmax=config['fmax'], corners=4, zerophase=True)\n",
    "    \n",
    "    \n",
    "    st.trim(config['tbeg'], config['tend'])\n",
    "    st0.trim(config['tbeg'], config['tend'])\n",
    "    \n",
    "    print(st0)\n",
    "    \n",
    "    ## store waveform data\n",
    "    waveform_filename = f\"{jj}_{str(events.origin[jj]).split('.')[0].replace('-','').replace(':','').replace(' ','_')}.mseed\"\n",
    "#     st0.write(config['outpath_data']+waveform_filename, format=\"MSEED\")\n",
    "\n",
    "   \n",
    "    ## create eventname\n",
    "    event_name = str(events.origin[jj]).replace(\"-\",\"\").replace(\":\",\"\").replace(\" \", \"_\").split(\".\")[0]\n",
    "    \n",
    "    \n",
    "    ## plotting figures    \n",
    "    fig1 = st0.plot(equal_scale=False);\n",
    "#     fig1 = st0.plot(equal_scale=False, show=False);\n",
    "\n",
    "#     fig2 = __makeplot(config, st)\n",
    "\n",
    "#     fig3 = __makeplotStreamSpectra2(st, config, fscale=\"linlin\");\n",
    "    \n",
    "    ## saving figures\n",
    "    fig1.savefig(config['outpath_figs']+\"raw/\"+f\"{event_name}_raw.png\", dpi=200, bbox_inches='tight', pad_inches=0.05)\n",
    "\n",
    "#     fig2.savefig(config['outpath_figs']+\"filtered/\"+f\"{event_name}_filtered.png\", dpi=200, bbox_inches='tight', pad_inches=0.05)\n",
    "\n",
    "#     fig3.savefig(config['outpath_figs']+\"spectra/\"+f\"{event_name}_spectra.png\", dpi=200, bbox_inches='tight', pad_inches=0.05)\n",
    "\n",
    "\n",
    "## End of File"
   ]
  },
  {
   "cell_type": "code",
   "execution_count": null,
   "id": "0e472916",
   "metadata": {
    "ExecuteTime": {
     "start_time": "2023-07-28T13:44:20.450Z"
    }
   },
   "outputs": [],
   "source": [
    "st0.plot()"
   ]
  },
  {
   "cell_type": "markdown",
   "id": "3d1f607d",
   "metadata": {},
   "source": [
    "## Testing Signal-to-Noise ratios"
   ]
  },
  {
   "cell_type": "code",
   "execution_count": null,
   "id": "9ad6ceb5",
   "metadata": {
    "ExecuteTime": {
     "start_time": "2023-07-28T13:44:20.451Z"
    }
   },
   "outputs": [],
   "source": [
    "# from numpy import nanmean, sqrt\n",
    "\n",
    "# win_length_sec = 10 ## seconds\n",
    "\n",
    "# t_trigger = events.trigger_time[jj]\n",
    "# t_rel_sec = t_trigger-config['tbeg']\n",
    "# fig, ax = plt.subplots(len(st0),1, figsize=(15,15))\n",
    "\n",
    "# for i, tr in enumerate(st0):\n",
    "    \n",
    "#     df = tr.stats.sampling_rate \n",
    "    \n",
    "#     NN = int(df * win_length_sec) ## samples\n",
    "    \n",
    "#     t_rel_spl = t_rel_sec*df ## samples\n",
    "    \n",
    "#     t_offset = df * 2 ## samples\n",
    "    \n",
    "#     noise = nanmean(tr.data[int(t_rel_spl-NN):int(t_rel_spl)]**2)\n",
    "#     signal = nanmean(tr.data[int(t_rel_spl):int(t_rel_spl+NN)]**2)\n",
    "    \n",
    "#     SNR = sqrt(signal/noise)\n",
    "    \n",
    "    \n",
    "       \n",
    "#     ax[i].plot(tr.data)\n",
    "    \n",
    "#     ax[i].axvline(t_rel_spl, color=\"red\")\n",
    "#     ax[i].axvline(t_rel_spl+NN, color=\"red\")\n",
    "\n",
    "#     ax[i].axvline(t_rel_spl, color=\"g\")\n",
    "#     ax[i].axvline(t_rel_spl-NN, color=\"g\")\n",
    "\n",
    "#     print(SNR)\n",
    "    \n",
    "# plt.show();    \n"
   ]
  },
  {
   "cell_type": "code",
   "execution_count": null,
   "id": "e5aa7f75",
   "metadata": {},
   "outputs": [],
   "source": []
  }
 ],
 "metadata": {
  "kernelspec": {
   "display_name": "Python 3",
   "language": "python",
   "name": "python3"
  },
  "language_info": {
   "codemirror_mode": {
    "name": "ipython",
    "version": 3
   },
   "file_extension": ".py",
   "mimetype": "text/x-python",
   "name": "python",
   "nbconvert_exporter": "python",
   "pygments_lexer": "ipython3",
   "version": "3.7.7"
  },
  "latex_envs": {
   "LaTeX_envs_menu_present": true,
   "autoclose": false,
   "autocomplete": true,
   "bibliofile": "biblio.bib",
   "cite_by": "apalike",
   "current_citInitial": 1,
   "eqLabelWithNumbers": true,
   "eqNumInitial": 1,
   "hotkeys": {
    "equation": "Ctrl-E",
    "itemize": "Ctrl-I"
   },
   "labels_anchors": false,
   "latex_user_defs": false,
   "report_style_numbering": false,
   "user_envs_cfg": false
  },
  "toc": {
   "base_numbering": 1,
   "nav_menu": {},
   "number_sections": true,
   "sideBar": true,
   "skip_h1_title": false,
   "title_cell": "Table of Contents",
   "title_sidebar": "Contents",
   "toc_cell": false,
   "toc_position": {},
   "toc_section_display": true,
   "toc_window_display": false
  },
  "varInspector": {
   "cols": {
    "lenName": 16,
    "lenType": 16,
    "lenVar": 40
   },
   "kernels_config": {
    "python": {
     "delete_cmd_postfix": "",
     "delete_cmd_prefix": "del ",
     "library": "var_list.py",
     "varRefreshCmd": "print(var_dic_list())"
    },
    "r": {
     "delete_cmd_postfix": ") ",
     "delete_cmd_prefix": "rm(",
     "library": "var_list.r",
     "varRefreshCmd": "cat(var_dic_list()) "
    }
   },
   "types_to_exclude": [
    "module",
    "function",
    "builtin_function_or_method",
    "instance",
    "_Feature"
   ],
   "window_display": false
  }
 },
 "nbformat": 4,
 "nbformat_minor": 5
}
