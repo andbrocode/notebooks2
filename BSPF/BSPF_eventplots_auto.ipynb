{
 "cells": [
  {
   "cell_type": "markdown",
   "id": "26ad060e",
   "metadata": {
    "ExecuteTime": {
     "end_time": "2022-09-13T00:35:24.926376Z",
     "start_time": "2022-09-13T00:35:24.923877Z"
    }
   },
   "source": [
    "# Automatic BSPF Eventplots"
   ]
  },
  {
   "cell_type": "markdown",
   "id": "fa47ca0c",
   "metadata": {},
   "source": [
    "Creates automatic event plots based on catalog "
   ]
  },
  {
   "cell_type": "code",
   "execution_count": 1,
   "id": "7ae027cf",
   "metadata": {
    "ExecuteTime": {
     "end_time": "2023-04-25T08:04:45.754336Z",
     "start_time": "2023-04-25T08:04:44.098364Z"
    }
   },
   "outputs": [],
   "source": [
    "import os \n",
    "import obspy as obs\n",
    "import matplotlib.pyplot as plt\n",
    "import numpy as np\n",
    "import pandas as pd\n",
    "\n",
    "from andbro__savefig import __savefig\n",
    "from tqdm.notebook import tqdm\n",
    "from functions.request_data import __request_data\n",
    "from pprint import pprint"
   ]
  },
  {
   "cell_type": "code",
   "execution_count": 2,
   "id": "4bdba00f",
   "metadata": {
    "ExecuteTime": {
     "end_time": "2023-04-25T08:04:45.775228Z",
     "start_time": "2023-04-25T08:04:45.770447Z"
    }
   },
   "outputs": [],
   "source": [
    "if os.uname().nodename == 'lighthouse':\n",
    "    root_path = '/home/andbro/'\n",
    "    data_path = '/home/andbro/kilauea-data/'\n",
    "    archive_path = '/home/andbro/freenas/'\n",
    "elif os.uname().nodename == 'kilauea':\n",
    "    root_path = '/home/brotzer/'\n",
    "    data_path = '/import/kilauea-data/'\n",
    "    archive_path = '/import/freenas-ffb-01-data/'"
   ]
  },
  {
   "cell_type": "code",
   "execution_count": null,
   "id": "31994b59",
   "metadata": {
    "ExecuteTime": {
     "end_time": "2023-04-25T08:04:45.943415Z",
     "start_time": "2023-04-25T08:04:45.943385Z"
    },
    "code_folding": [
     0
    ]
   },
   "outputs": [],
   "source": [
    "# def __request_data(seed, tbeg, tend):\n",
    "\n",
    "#     from obspy.clients.fdsn import Client\n",
    "\n",
    "#     client = Client(\"IRIS\")\n",
    "\n",
    "#     net, sta, loc, cha = seed.split(\".\")\n",
    "\n",
    "#     try:\n",
    "#         inventory = client.get_stations(network=net, \n",
    "#                                          station=sta,\n",
    "#                                          starttime=tbeg,\n",
    "#                                          endtime=tend,\n",
    "#                                          level=\"response\",\n",
    "#                                          )\n",
    "#     except:\n",
    "#         print(\" -> Failed to load inventory!\")\n",
    "#         inventory = None\n",
    "        \n",
    "#     try:\n",
    "#         waveform = client.get_waveforms(network=net,\n",
    "#                                        station=sta,\n",
    "#                                        location=loc,\n",
    "#                                        channel=cha, \n",
    "#                                        starttime=tbeg-60,\n",
    "#                                        endtime=tend+60,\n",
    "#                                        )\n",
    "\n",
    "#     except:\n",
    "#         print(\" -> Failed to load waveforms!\")\n",
    "#         waveform = None\n",
    "    \n",
    "#     return waveform, inventory"
   ]
  },
  {
   "cell_type": "code",
   "execution_count": 4,
   "id": "d6974440",
   "metadata": {
    "ExecuteTime": {
     "end_time": "2023-04-25T08:04:49.991873Z",
     "start_time": "2023-04-25T08:04:49.980960Z"
    },
    "code_folding": [
     0
    ]
   },
   "outputs": [],
   "source": [
    "def __add_distances_and_backazimuth(config, df):\n",
    "\n",
    "    from obspy.geodetics.base import gps2dist_azimuth\n",
    "\n",
    "    dist = np.zeros(len(df))\n",
    "    baz = np.zeros(len(df))\n",
    "\n",
    "    \n",
    "    for ii, ev in enumerate(df.index):\n",
    "        try:\n",
    "            dist[ii], az, baz[ii] = gps2dist_azimuth(config['BSPF_lat'], config['BSPF_lon'],\n",
    "                                                     df.latitude[ii], df.longitude[ii],\n",
    "                                                     a=6378137.0, f=0.0033528106647474805\n",
    "                                                     )\n",
    "        except:\n",
    "            print(\" -> failed to compute!\")\n",
    "            \n",
    "    df['backazimuth'] = baz\n",
    "    df['distances_km'] = dist/1000\n",
    "\n",
    "    return df"
   ]
  },
  {
   "cell_type": "code",
   "execution_count": 5,
   "id": "3b708f31",
   "metadata": {
    "ExecuteTime": {
     "end_time": "2023-04-25T08:04:50.538599Z",
     "start_time": "2023-04-25T08:04:50.531810Z"
    },
    "code_folding": [
     0
    ]
   },
   "outputs": [],
   "source": [
    "# def __process_bspf(config, st, inv):\n",
    "\n",
    "#     py_bspf = st.copy()\n",
    "\n",
    "#     ## merge traces that might be split due to data gaps or overlaps\n",
    "# #     py_bspf.merge(fill_value=\"interpolate\")\n",
    "\n",
    "#     ## cut to event\n",
    "# #     py_bspf.trim(config['tbeg'], config['tend'])\n",
    "\n",
    "#     ## renove sensitivity\n",
    "# #     py_bspf.remove_sensitivity(inv)\n",
    "\n",
    "#     ## remove mean\n",
    "#     py_bspf.detrend(\"demean\")\n",
    "\n",
    "#     ## apply taper\n",
    "#     py_bspf.taper(0.1)\n",
    "\n",
    "#     ## bandpass filter\n",
    "#     py_bspf = py_bspf.filter(\"bandpass\", freqmin=config['fmin'], freqmax=config['fmax'], corners=4, zerophase=True)\n",
    "\n",
    "#     ## adjust channel names\n",
    "#     for tr in py_bspf:\n",
    "#         if tr.stats.channel[-1] == \"1\":\n",
    "#             tr.stats.channel = str(tr.stats.channel).replace(\"1\",\"E\")\n",
    "#         if tr.stats.channel[-1] == \"2\":\n",
    "#             tr.stats.channel = str(tr.stats.channel).replace(\"2\",\"N\")        \n",
    "#         if tr.stats.channel[-1] == \"3\":\n",
    "#             tr.stats.channel = str(tr.stats.channel).replace(\"3\",\"Z\")\n",
    "\n",
    "#     ## show all traces in data stream\n",
    "# #     print(py_bspf)\n",
    "    \n",
    "#     return py_bspf"
   ]
  },
  {
   "cell_type": "code",
   "execution_count": 6,
   "id": "e18f87d6",
   "metadata": {
    "ExecuteTime": {
     "end_time": "2023-04-25T08:04:50.956152Z",
     "start_time": "2023-04-25T08:04:50.947386Z"
    },
    "code_folding": [
     0
    ]
   },
   "outputs": [],
   "source": [
    "def __process_xpfo(config, st, inv):\n",
    "\n",
    "    ii_pfo = st.copy()\n",
    "\n",
    "#     pre_filt = [0.005, 0.01, 19, 20]\n",
    "\n",
    "    ## cut properly\n",
    "#     ii_pfo.trim(config['tbeg'], config['tend'])\n",
    "\n",
    "    ## demean\n",
    "    ii_pfo.detrend(\"demean\")\n",
    "\n",
    "    ## remove response\n",
    "#     ii_pfo.remove_response(inventory=inv, \n",
    "#     #                        pre_filt=pre_filt, \n",
    "#                            output=\"VEL\",\n",
    "#     #                        water_level=60, \n",
    "#                            plot=False)\n",
    "\n",
    "    ## taper \n",
    "    ii_pfo.taper(0.1)\n",
    "\n",
    "    ## bandpass\n",
    "    ii_filter = ii_pfo.filter(\"bandpass\", freqmin=config['fmin'], freqmax=config['fmax'], corners=4, zerophase=True)\n",
    "\n",
    "    ## adjust channel names\n",
    "    for tr in ii_pfo:\n",
    "        if tr.stats.channel[-1] == \"1\":\n",
    "            tr.stats.channel = str(tr.stats.channel).replace(\"1\",\"N\")\n",
    "        if tr.stats.channel[-1] == \"2\":\n",
    "            tr.stats.channel = str(tr.stats.channel).replace(\"2\",\"E\")\n",
    "    \n",
    "    return ii_pfo"
   ]
  },
  {
   "cell_type": "code",
   "execution_count": 7,
   "id": "ba781332",
   "metadata": {
    "ExecuteTime": {
     "end_time": "2023-04-25T08:04:51.328258Z",
     "start_time": "2023-04-25T08:04:51.316752Z"
    },
    "code_folding": [
     0
    ]
   },
   "outputs": [],
   "source": [
    "def __makeplot(config, st):\n",
    "\n",
    "    \n",
    "    st_in = st.copy()\n",
    "    \n",
    "    fig, ax = plt.subplots(6,1, figsize=(15,10), sharex=True)\n",
    "\n",
    "    font = 14\n",
    "\n",
    "    time_scaling, time_unit = 1, \"sec\"\n",
    "    rot_scaling = 1e9\n",
    "    trans_scaling = 1e6\n",
    "    \n",
    "    for i, tr in enumerate(st_in):\n",
    "        \n",
    "        if i in [0,1,2]:\n",
    "            ax[i].set_ylabel(r\"$\\omega$ (nrad/s)\", fontsize=font)\n",
    "            ax[i].plot(tr.times()/time_scaling, tr.data*rot_scaling, 'k', label=tr.stats.station+\".\"+tr.stats.channel)\n",
    "\n",
    "        elif i in [3,4,5]:\n",
    "            ax[i].set_ylabel(r\"u ($\\mu$m/s)\", fontsize=font)\n",
    "            ax[i].plot(tr.times()/time_scaling, tr.data*trans_scaling, 'k', label=tr.stats.station+\".\"+tr.stats.channel)\n",
    "            \n",
    "        ax[i].legend(loc=1)\n",
    "        \n",
    "    ax[5].set_xlabel(f\"Time ({time_unit}) from {st[0].stats.starttime.date} {str(st[0].stats.starttime.time).split('.')[0]} UTC\", fontsize=font)\n",
    "    ax[0].set_title(config['title']+f\" | {config['fmin']} - {config['fmax']} Hz\", fontsize=font, pad=10)\n",
    "    \n",
    "    plt.show();\n",
    "    del st_in\n",
    "    return fig"
   ]
  },
  {
   "cell_type": "code",
   "execution_count": 8,
   "id": "33b96a08",
   "metadata": {
    "ExecuteTime": {
     "end_time": "2023-04-25T08:04:51.701287Z",
     "start_time": "2023-04-25T08:04:51.679489Z"
    },
    "code_folding": [
     0
    ]
   },
   "outputs": [],
   "source": [
    "def __makeplotStreamSpectra2(st, config, fscale=None):\n",
    "\n",
    "    from scipy import fftpack\n",
    "    from andbro__fft import __fft\n",
    "    import matplotlib.pyplot as plt\n",
    "\n",
    "    st_in = st.copy()\n",
    "    \n",
    "    NN = len(st_in)\n",
    "    rot_scaling, rot_unit = 1e9, r\"nrad/s\"\n",
    "    trans_scaling, trans_unit = 1e6, r\"$\\mu$m/s\"\n",
    "        \n",
    "    fig, axes = plt.subplots(NN,2,figsize=(15,int(NN*2)), sharex='col')\n",
    "\n",
    "    font = 14\n",
    "    \n",
    "    plt.subplots_adjust(hspace=0.3)\n",
    "\n",
    "    ## _______________________________________________\n",
    "\n",
    "    st.sort(keys=['channel'], reverse=True)\n",
    "    \n",
    "    for i, tr in enumerate(st_in):\n",
    "\n",
    "#         comp_fft = abs(fftpack.fft(tr.data))\n",
    "#         ff       = fftpack.fftfreq(comp_fft.size, d=1/tr.stats.sampling_rate)\n",
    "#         comp_fft = fftpack.fftshift(comp_fft)\n",
    "#         ff, spec = ff[1:len(ff)//2], abs(fftpack.fft(tr.data)[1:len(ff)//2])\n",
    "\n",
    "        if tr.stats.channel[-2] == \"J\":\n",
    "            scaling = rot_scaling\n",
    "        elif tr.stats.channel[-2] == \"H\":\n",
    "            scaling = trans_scaling\n",
    "\n",
    "        spec, ff, ph = __fft(tr.data*scaling, tr.stats.delta, window=None, normalize=None)\n",
    "    \n",
    "    \n",
    "        ## _________________________________________________________________\n",
    "        if tr.stats.channel[-2] == \"J\":\n",
    "            axes[i,0].plot(\n",
    "                        tr.times(),\n",
    "                        tr.data*rot_scaling,\n",
    "                        color='black',\n",
    "                        label='{} {}'.format(tr.stats.station, tr.stats.channel),\n",
    "                        lw=1.0,\n",
    "                        )\n",
    "\n",
    "        elif tr.stats.channel[-2] == \"H\":\n",
    "            axes[i,0].plot(\n",
    "                        tr.times(),\n",
    "                        tr.data*trans_scaling,\n",
    "                        color='black',\n",
    "                        label='{} {}'.format(tr.stats.station, tr.stats.channel),\n",
    "                        lw=1.0,\n",
    "                        )\n",
    "        ## _________________________________________________________________\n",
    "        if fscale == \"loglog\":\n",
    "            axes[i,1].loglog(ff, spec, color='black', lw=1.0)\n",
    "        elif fscale == \"loglin\":\n",
    "            axes[i,1].semilogx(ff, spec, color='black', lw=1.0)\n",
    "        elif fscale == \"linlog\":\n",
    "            axes[i,1].semilogy(ff, spec, color='black', lw=1.0)\n",
    "        else:\n",
    "            axes[i,1].plot(ff, spec, color='black', lw=1.0)         \n",
    "        \n",
    "        \n",
    "        if tr.stats.channel[1] == \"J\":\n",
    "            sym, unit = r\"$\\Omega$\", rot_unit\n",
    "        elif tr.stats.channel[1] == \"H\":\n",
    "            sym, unit = \"v\", trans_unit\n",
    "        else:\n",
    "            unit = \"Amplitude\", \"a.u.\"\n",
    "            \n",
    "        axes[i,0].set_ylabel(f'{sym} ({unit})',fontsize=font)    \n",
    "        axes[i,1].set_ylabel(f'ASD \\n({unit}/Hz)',fontsize=font)        \n",
    "        axes[i,0].legend(loc='upper left',bbox_to_anchor=(0.8, 1.10), framealpha=1.0)\n",
    "        \n",
    "#         axes[i,0].ticklabel_format(axis='y', style='sci', scilimits=(0,0))\n",
    "#         axes[i,1].ticklabel_format(axis='y', style='sci', scilimits=(0,0))\n",
    "\n",
    "    if \"fmin\" in config.keys() and \"fmax\" in config.keys():\n",
    "        axes[i,1].set_xlim(config['fmin'],config['fmax'])\n",
    "\n",
    "    axes[NN-1,0].set_xlabel(f\"Time from {tr.stats.starttime.date} {str(tr.stats.starttime.time)[:8]} (s)\",fontsize=font)     \n",
    "    axes[NN-1,1].set_xlabel(f\"Frequency (Hz)\",fontsize=font)     \n",
    "\n",
    "    del st_in\n",
    "    return fig"
   ]
  },
  {
   "cell_type": "markdown",
   "id": "a9cfd05f",
   "metadata": {},
   "source": [
    "## Configurations"
   ]
  },
  {
   "cell_type": "code",
   "execution_count": 9,
   "id": "42cd60e7",
   "metadata": {
    "ExecuteTime": {
     "end_time": "2023-04-25T08:04:52.956677Z",
     "start_time": "2023-04-25T08:04:52.950677Z"
    }
   },
   "outputs": [],
   "source": [
    "config = {}"
   ]
  },
  {
   "cell_type": "code",
   "execution_count": 11,
   "id": "d4b1e0b9",
   "metadata": {
    "ExecuteTime": {
     "end_time": "2023-04-25T08:05:17.149059Z",
     "start_time": "2023-04-25T08:05:17.143167Z"
    }
   },
   "outputs": [],
   "source": [
    "## location of BSPF\n",
    "config['BSPF_lon'] = -116.455439\n",
    "config['BSPF_lat'] = 33.610643\n",
    "\n",
    "## path for figures to store\n",
    "config['outpath_figs'] = data_path+\"BSPF/figures/extended/\"\n",
    "config['outpath_figs'] = data_path+\"BSPF/triggered2/\"\n",
    "\n",
    "## blueSeis sensor\n",
    "config['seed_blueseis'] = \"PY.BSPF..HJ*\"\n",
    "\n",
    "## Trillium 240 next to BlueSeis on Pier\n",
    "config['seed_seismometer'] = \"II.PFO.10.BH*\" \n",
    "# config['seed_seismometer'] = \"PY.BSPF..HH*\" "
   ]
  },
  {
   "cell_type": "markdown",
   "id": "c4eed2cb",
   "metadata": {},
   "source": [
    "## Event Info"
   ]
  },
  {
   "cell_type": "code",
   "execution_count": null,
   "id": "8bc0d935",
   "metadata": {
    "ExecuteTime": {
     "end_time": "2023-04-19T13:06:16.217457Z",
     "start_time": "2023-04-19T13:06:16.106267Z"
    }
   },
   "outputs": [],
   "source": [
    "events = pd.read_pickle(data_path+\"BSPF/data/BSPF_event_catalog_extended_all.pkl\")\n",
    "# events = pd.read_pickle(\"./new_events.pkl\")\n",
    "\n",
    "events.reset_index(inplace=True)\n",
    "events.rename(columns = {'index':'origin'}, inplace = True)"
   ]
  },
  {
   "cell_type": "code",
   "execution_count": null,
   "id": "620f96d5",
   "metadata": {
    "ExecuteTime": {
     "end_time": "2023-04-19T13:06:16.555324Z",
     "start_time": "2023-04-19T13:06:16.218445Z"
    },
    "code_folding": [
     0
    ]
   },
   "outputs": [],
   "source": [
    "__add_distances_and_backazimuth(config, events)"
   ]
  },
  {
   "cell_type": "markdown",
   "id": "64afa03a",
   "metadata": {},
   "source": [
    "## RUN LOOP"
   ]
  },
  {
   "cell_type": "code",
   "execution_count": null,
   "id": "3c1c5de6",
   "metadata": {
    "ExecuteTime": {
     "start_time": "2023-04-19T13:06:56.586Z"
    }
   },
   "outputs": [],
   "source": [
    "global errors\n",
    "errors = []\n",
    "\n",
    "for jj, ev in enumerate(tqdm(events.index)):\n",
    "# for jj, ev in enumerate([0,1]):\n",
    "\n",
    "    print(f\" -> {jj} {events.origin[jj]} \")\n",
    "    \n",
    "    event_name = str(events.origin[jj]).replace(\"-\",\"\").replace(\":\",\"\").replace(\" \", \"_\").split(\".\")[0]\n",
    "    filename=config['outpath_figs']+\"raw/\"+f\"{event_name}_raw.png\"\n",
    "    \n",
    "    if os.path.isfile(filename):\n",
    "        print(f\" -> file alread exits for {event_name}\")\n",
    "        continue\n",
    "    \n",
    "    ## configurations\n",
    "    config['title'] = f\"{events.origin[jj]} UTC | M{events.magnitude[jj]}\"\n",
    "    config['tbeg'] = obs.UTCDateTime(str(events.origin[jj]))\n",
    "    config['fmin'], config['fmax'] = 0.02, 18.0\n",
    "    \n",
    "    if events.distances_km[jj] < 30:\n",
    "        config['tend'] = obs.UTCDateTime(events.origin[jj])+30\n",
    "    elif events.distances_km[jj] > 30 and events.distances_km[jj] < 100:\n",
    "        config['tend'] = obs.UTCDateTime(events.origin[jj])+60\n",
    "    else:\n",
    "        config['tend'] = obs.UTCDateTime(events.origin[jj])+180\n",
    "\n",
    "    \n",
    "    ## load and process blueSeis data\n",
    "    try:\n",
    "        py_bspf0, py_bspf_inv = __request_data(config['seed_blueseis'], config['tbeg'], config['tend'])\n",
    "        \n",
    "    except Exception as e:\n",
    "        print(e)\n",
    "        print(f\" -> failed to request BSPF for event: {ev}\")\n",
    "        errors.append(f\" -> failed to request BSPF for event: {ev}\")\n",
    "        continue\n",
    "        \n",
    "        \n",
    "    ## load and process seismometer data\n",
    "    try:        \n",
    "        ii_pfo0, ii_pfo_inv = __request_data(config['seed_seismometer'], config['tbeg'], config['tend'])\n",
    "        \n",
    "    except Exception as e:\n",
    "        print(e)\n",
    "        print(f\" -> failed to request BSPF for event: {ev}\")   \n",
    "        continue\n",
    "\n",
    "    if py_bspf0 is None or ii_pfo0 is None:\n",
    "        continue\n",
    "        \n",
    "    ## processing data\n",
    "#     py_bspf = __process_bspf(config, py_bspf0, py_bspf_inv)\n",
    "#     ii_pfo = __process_xpfo(config, ii_pfo0, ii_pfo_inv)\n",
    "\n",
    "    py_bspf0.resample(40)\n",
    "    \n",
    "    ## joining data\n",
    "    \n",
    "    st0 = py_bspf0\n",
    "    st0 += ii_pfo0    \n",
    "    \n",
    "    st = st0.copy() \n",
    "    st.detrend(\"linear\")\n",
    "    st.taper(0.01)\n",
    "    st.filter(\"bandpass\", freqmin=config['fmin'], freqmax=config['fmax'], corners=4, zerophase=True)\n",
    "    \n",
    "#     event_name = str(events.origin[jj]).replace(\"-\",\"\").replace(\":\",\"\").replace(\" \", \"_\").split(\".\")[0]\n",
    "    \n",
    "    ## plotting\n",
    "    \n",
    "    fig = st0.plot(equal_scale=False);\n",
    "\n",
    "#     fig1 = __makeplot(config, st)\n",
    "\n",
    "#     fig2 = __makeplotStreamSpectra2(st, config, fscale=\"linlin\");\n",
    "    \n",
    "    ## saving figures\n",
    "    __savefig(fig, outpath=config['outpath_figs']+\"raw/\", outname=f\"{event_name}_raw\", mode=\"png\")        \n",
    "    \n",
    "#     __savefig(fig1, outpath=config['outpath_figs']+\"filtered/\", outname=f\"{event_name}_traces\", mode=\"png\")\n",
    "    \n",
    "#     __savefig(fig2, outpath=config['outpath_figs']+\"spectra/\", outname=f\"{event_name}_spectra\", mode=\"png\")\n",
    "\n",
    "pprint(errors)"
   ]
  }
 ],
 "metadata": {
  "kernelspec": {
   "display_name": "Python 3 (ipykernel)",
   "language": "python",
   "name": "python3"
  },
  "language_info": {
   "codemirror_mode": {
    "name": "ipython",
    "version": 3
   },
   "file_extension": ".py",
   "mimetype": "text/x-python",
   "name": "python",
   "nbconvert_exporter": "python",
   "pygments_lexer": "ipython3",
   "version": "3.7.8"
  },
  "latex_envs": {
   "LaTeX_envs_menu_present": true,
   "autoclose": false,
   "autocomplete": true,
   "bibliofile": "biblio.bib",
   "cite_by": "apalike",
   "current_citInitial": 1,
   "eqLabelWithNumbers": true,
   "eqNumInitial": 1,
   "hotkeys": {
    "equation": "Ctrl-E",
    "itemize": "Ctrl-I"
   },
   "labels_anchors": false,
   "latex_user_defs": false,
   "report_style_numbering": false,
   "user_envs_cfg": false
  },
  "toc": {
   "base_numbering": 1,
   "nav_menu": {},
   "number_sections": true,
   "sideBar": true,
   "skip_h1_title": false,
   "title_cell": "Table of Contents",
   "title_sidebar": "Contents",
   "toc_cell": false,
   "toc_position": {},
   "toc_section_display": true,
   "toc_window_display": false
  },
  "varInspector": {
   "cols": {
    "lenName": 16,
    "lenType": 16,
    "lenVar": 40
   },
   "kernels_config": {
    "python": {
     "delete_cmd_postfix": "",
     "delete_cmd_prefix": "del ",
     "library": "var_list.py",
     "varRefreshCmd": "print(var_dic_list())"
    },
    "r": {
     "delete_cmd_postfix": ") ",
     "delete_cmd_prefix": "rm(",
     "library": "var_list.r",
     "varRefreshCmd": "cat(var_dic_list()) "
    }
   },
   "types_to_exclude": [
    "module",
    "function",
    "builtin_function_or_method",
    "instance",
    "_Feature"
   ],
   "window_display": false
  }
 },
 "nbformat": 4,
 "nbformat_minor": 5
}
