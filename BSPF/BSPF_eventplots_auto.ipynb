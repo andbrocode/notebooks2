{
 "cells": [
  {
   "cell_type": "markdown",
   "id": "26ad060e",
   "metadata": {
    "ExecuteTime": {
     "end_time": "2022-09-13T00:35:24.926376Z",
     "start_time": "2022-09-13T00:35:24.923877Z"
    }
   },
   "source": [
    "# Automatic BSPF Eventplots"
   ]
  },
  {
   "cell_type": "markdown",
   "id": "fa47ca0c",
   "metadata": {},
   "source": [
    "Creates automatic event plots based on catalog "
   ]
  },
  {
   "cell_type": "code",
   "execution_count": 1,
   "id": "7ae027cf",
   "metadata": {
    "ExecuteTime": {
     "end_time": "2023-07-28T13:44:23.247899Z",
     "start_time": "2023-07-28T13:44:20.435586Z"
    }
   },
   "outputs": [],
   "source": [
    "import os \n",
    "import obspy as obs\n",
    "import matplotlib.pyplot as plt\n",
    "import numpy as np\n",
    "import pandas as pd\n",
    "\n",
    "from tqdm.notebook import tqdm\n",
    "from pprint import pprint\n",
    "\n",
    "from functions.request_data import __request_data\n",
    "from functions.add_distances_and_backazimuth import __add_distances_and_backazimuth\n",
    "from functions.compute_adr_pfo import __compute_adr_pfo\n"
   ]
  },
  {
   "cell_type": "code",
   "execution_count": 2,
   "id": "4bdba00f",
   "metadata": {
    "ExecuteTime": {
     "end_time": "2023-07-28T13:44:23.251002Z",
     "start_time": "2023-07-28T13:44:23.248957Z"
    }
   },
   "outputs": [],
   "source": [
    "if os.uname().nodename == 'lighthouse':\n",
    "    root_path = '/home/andbro/'\n",
    "    data_path = '/home/andbro/kilauea-data/'\n",
    "    archive_path = '/home/andbro/freenas/'\n",
    "elif os.uname().nodename == 'kilauea':\n",
    "    root_path = '/home/brotzer/'\n",
    "    data_path = '/import/kilauea-data/'\n",
    "    archive_path = '/import/freenas-ffb-01-data/'"
   ]
  },
  {
   "cell_type": "code",
   "execution_count": 3,
   "id": "ba781332",
   "metadata": {
    "ExecuteTime": {
     "end_time": "2023-07-28T13:44:23.282869Z",
     "start_time": "2023-07-28T13:44:23.269015Z"
    },
    "code_folding": [
     0
    ]
   },
   "outputs": [],
   "source": [
    "def __makeplot(config, st):\n",
    "\n",
    "    \n",
    "    st_in = st.copy()\n",
    "    \n",
    "    fig, ax = plt.subplots(6,1, figsize=(15,10), sharex=True)\n",
    "\n",
    "    font = 14\n",
    "\n",
    "    time_scaling, time_unit = 1, \"sec\"\n",
    "    rot_scaling = 1e9\n",
    "    trans_scaling = 1e6\n",
    "    \n",
    "    for i, tr in enumerate(st_in):\n",
    "        \n",
    "        if i in [0,1,2]:\n",
    "            ax[i].set_ylabel(r\"$\\omega$ (nrad/s)\", fontsize=font)\n",
    "            ax[i].plot(tr.times()/time_scaling, tr.data*rot_scaling, 'k', label=tr.stats.station+\".\"+tr.stats.channel)\n",
    "\n",
    "        elif i in [3,4,5]:\n",
    "            ax[i].set_ylabel(r\"u ($\\mu$m/s)\", fontsize=font)\n",
    "            ax[i].plot(tr.times()/time_scaling, tr.data*trans_scaling, 'k', label=tr.stats.station+\".\"+tr.stats.channel)\n",
    "            \n",
    "        ax[i].legend(loc=1)\n",
    "        \n",
    "    ax[5].set_xlabel(f\"Time ({time_unit}) from {st[0].stats.starttime.date} {str(st[0].stats.starttime.time).split('.')[0]} UTC\", fontsize=font)\n",
    "    ax[0].set_title(config['title']+f\" | {config['fmin']} - {config['fmax']} Hz\", fontsize=font, pad=10)\n",
    "    \n",
    "    plt.show();\n",
    "    del st_in\n",
    "    return fig"
   ]
  },
  {
   "cell_type": "code",
   "execution_count": 4,
   "id": "33b96a08",
   "metadata": {
    "ExecuteTime": {
     "end_time": "2023-07-28T13:44:23.299423Z",
     "start_time": "2023-07-28T13:44:23.283746Z"
    },
    "code_folding": [
     0
    ]
   },
   "outputs": [],
   "source": [
    "def __makeplotStreamSpectra2(st, config, fscale=None):\n",
    "\n",
    "    from scipy import fftpack\n",
    "    from andbro__fft import __fft\n",
    "    import matplotlib.pyplot as plt\n",
    "\n",
    "    st_in = st.copy()\n",
    "    \n",
    "    NN = len(st_in)\n",
    "    rot_scaling, rot_unit = 1e9, r\"nrad/s\"\n",
    "    trans_scaling, trans_unit = 1e6, r\"$\\mu$m/s\"\n",
    "        \n",
    "    fig, axes = plt.subplots(NN,2,figsize=(15,int(NN*2)), sharex='col')\n",
    "\n",
    "    font = 14\n",
    "    \n",
    "    plt.subplots_adjust(hspace=0.3)\n",
    "\n",
    "    ## _______________________________________________\n",
    "\n",
    "    st.sort(keys=['channel'], reverse=True)\n",
    "    \n",
    "    for i, tr in enumerate(st_in):\n",
    "\n",
    "#         comp_fft = abs(fftpack.fft(tr.data))\n",
    "#         ff       = fftpack.fftfreq(comp_fft.size, d=1/tr.stats.sampling_rate)\n",
    "#         comp_fft = fftpack.fftshift(comp_fft)\n",
    "#         ff, spec = ff[1:len(ff)//2], abs(fftpack.fft(tr.data)[1:len(ff)//2])\n",
    "\n",
    "        if tr.stats.channel[-2] == \"J\":\n",
    "            scaling = rot_scaling\n",
    "        elif tr.stats.channel[-2] == \"H\":\n",
    "            scaling = trans_scaling\n",
    "\n",
    "        spec, ff, ph = __fft(tr.data*scaling, tr.stats.delta, window=None, normalize=None)\n",
    "    \n",
    "    \n",
    "        ## _________________________________________________________________\n",
    "        if tr.stats.channel[-2] == \"J\":\n",
    "            axes[i,0].plot(\n",
    "                        tr.times(),\n",
    "                        tr.data*rot_scaling,\n",
    "                        color='black',\n",
    "                        label='{} {}'.format(tr.stats.station, tr.stats.channel),\n",
    "                        lw=1.0,\n",
    "                        )\n",
    "\n",
    "        elif tr.stats.channel[-2] == \"H\":\n",
    "            axes[i,0].plot(\n",
    "                        tr.times(),\n",
    "                        tr.data*trans_scaling,\n",
    "                        color='black',\n",
    "                        label='{} {}'.format(tr.stats.station, tr.stats.channel),\n",
    "                        lw=1.0,\n",
    "                        )\n",
    "        ## _________________________________________________________________\n",
    "        if fscale == \"loglog\":\n",
    "            axes[i,1].loglog(ff, spec, color='black', lw=1.0)\n",
    "        elif fscale == \"loglin\":\n",
    "            axes[i,1].semilogx(ff, spec, color='black', lw=1.0)\n",
    "        elif fscale == \"linlog\":\n",
    "            axes[i,1].semilogy(ff, spec, color='black', lw=1.0)\n",
    "        else:\n",
    "            axes[i,1].plot(ff, spec, color='black', lw=1.0)         \n",
    "        \n",
    "        \n",
    "        if tr.stats.channel[1] == \"J\":\n",
    "            sym, unit = r\"$\\Omega$\", rot_unit\n",
    "        elif tr.stats.channel[1] == \"H\":\n",
    "            sym, unit = \"v\", trans_unit\n",
    "        else:\n",
    "            unit = \"Amplitude\", \"a.u.\"\n",
    "            \n",
    "        axes[i,0].set_ylabel(f'{sym} ({unit})',fontsize=font)    \n",
    "        axes[i,1].set_ylabel(f'ASD \\n({unit}/Hz)',fontsize=font)        \n",
    "        axes[i,0].legend(loc='upper left',bbox_to_anchor=(0.8, 1.10), framealpha=1.0)\n",
    "        \n",
    "#         axes[i,0].ticklabel_format(axis='y', style='sci', scilimits=(0,0))\n",
    "#         axes[i,1].ticklabel_format(axis='y', style='sci', scilimits=(0,0))\n",
    "\n",
    "    if \"fmin\" in config.keys() and \"fmax\" in config.keys():\n",
    "        axes[i,1].set_xlim(config['fmin'],config['fmax'])\n",
    "\n",
    "    axes[NN-1,0].set_xlabel(f\"Time from {tr.stats.starttime.date} {str(tr.stats.starttime.time)[:8]} (s)\",fontsize=font)     \n",
    "    axes[NN-1,1].set_xlabel(f\"Frequency (Hz)\",fontsize=font)     \n",
    "\n",
    "    del st_in\n",
    "    return fig"
   ]
  },
  {
   "cell_type": "code",
   "execution_count": 5,
   "id": "f3657a9c",
   "metadata": {
    "ExecuteTime": {
     "end_time": "2023-07-28T13:44:23.314025Z",
     "start_time": "2023-07-28T13:44:23.300338Z"
    },
    "code_folding": [
     0
    ]
   },
   "outputs": [],
   "source": [
    "def __empty_stream(reference_stream):\n",
    "\n",
    "    from numpy import ones\n",
    "    from obspy import Stream, Trace\n",
    "    \n",
    "    t_ref = reference_stream[0]\n",
    "    \n",
    "    empty = Stream()\n",
    "\n",
    "    for cha in [\"BHZ\", \"BHN\", \"BHE\"]:\n",
    "        t = Trace()\n",
    "        t.data = ones(len(t_ref))\n",
    "        t.stats.sampling_rate = t_ref.stats.sampling_rate\n",
    "        t.stats.starttime = t_ref.stats.starttime\n",
    "        t.stats.network, t.stats.station, t.stats.channel = \"PY\", \"RPFO\", cha\n",
    "        empty += t\n",
    "        \n",
    "    return empty"
   ]
  },
  {
   "cell_type": "markdown",
   "id": "a9cfd05f",
   "metadata": {},
   "source": [
    "## Configurations"
   ]
  },
  {
   "cell_type": "code",
   "execution_count": 6,
   "id": "d4b1e0b9",
   "metadata": {
    "ExecuteTime": {
     "end_time": "2023-07-28T13:44:23.328995Z",
     "start_time": "2023-07-28T13:44:23.315323Z"
    }
   },
   "outputs": [],
   "source": [
    "config = {}\n",
    "\n",
    "## location of BSPF\n",
    "config['BSPF_lon'] = -116.455439\n",
    "config['BSPF_lat'] = 33.610643\n",
    "\n",
    "## path for figures to store\n",
    "config['outpath_figs'] = data_path+\"BSPF/figures/triggered_all/\"\n",
    "\n",
    "## path for output data\n",
    "config['outpath_data'] = data_path+\"BSPF/data/waveforms/ACC/\"\n",
    "\n",
    "## blueSeis sensor (@200Hz)\n",
    "config['seed_blueseis'] = \"PY.BSPF..HJ*\"\n",
    "\n",
    "## Trillium 240 next to BlueSeis on Pier (@40Hz)\n",
    "config['seed_seismometer1'] = \"II.PFO.10.BH*\"\n",
    "# config['seed_seismometer1'] = \"II.XPFO.30.BH*\"\n",
    "\n",
    "## STS2 next to BlueSeis (@200Hz)\n",
    "config['seed_seismometer2'] = \"PY.PFOIX..HH*\"\n",
    "\n",
    "config['path_to_catalog'] = data_path+\"BSPF/data/catalogs/\"\n",
    "\n",
    "config['catalog'] = \"BSPF_catalog_20221001_20230930_triggered.pkl\""
   ]
  },
  {
   "cell_type": "markdown",
   "id": "c4eed2cb",
   "metadata": {},
   "source": [
    "## Event Info"
   ]
  },
  {
   "cell_type": "code",
   "execution_count": 7,
   "id": "8bc0d935",
   "metadata": {
    "ExecuteTime": {
     "end_time": "2023-07-28T13:44:23.346586Z",
     "start_time": "2023-07-28T13:44:23.329957Z"
    }
   },
   "outputs": [],
   "source": [
    "events = pd.read_pickle(config['path_to_catalog']+config['catalog'])"
   ]
  },
  {
   "cell_type": "markdown",
   "id": "64afa03a",
   "metadata": {},
   "source": [
    "## RUN LOOP"
   ]
  },
  {
   "cell_type": "code",
   "execution_count": null,
   "id": "3c1c5de6",
   "metadata": {
    "ExecuteTime": {
     "end_time": "2023-07-28T13:52:12.563856Z",
     "start_time": "2023-07-28T13:52:12.263045Z"
    }
   },
   "outputs": [
    {
     "data": {
      "application/vnd.jupyter.widget-view+json": {
       "model_id": "edfceaeeba7d4aacb3dca400190b35ca",
       "version_major": 2,
       "version_minor": 0
      },
      "text/plain": [
       "  0%|          | 0/228 [00:00<?, ?it/s]"
      ]
     },
     "metadata": {},
     "output_type": "display_data"
    },
    {
     "name": "stdout",
     "output_type": "stream",
     "text": [
      "\n",
      " -> 0 2022-10-01 05:36:11.240000 \n",
      " -> sensitivity removed!\n",
      " -> response removed!\n"
     ]
    },
    {
     "data": {
      "text/plain": [
       "3 Trace(s) in Stream:\n",
       "PY.BSPF..HJZ | 2022-10-01T05:35:01.241400Z - 2022-10-01T05:38:01.216400Z | 40.0 Hz, 7200 samples\n",
       "PY.BSPF..HJN | 2022-10-01T05:35:01.241400Z - 2022-10-01T05:38:01.216400Z | 40.0 Hz, 7200 samples\n",
       "PY.BSPF..HJE | 2022-10-01T05:35:01.241400Z - 2022-10-01T05:38:01.216400Z | 40.0 Hz, 7200 samples"
      ]
     },
     "execution_count": 8,
     "metadata": {},
     "output_type": "execute_result"
    },
    {
     "name": "stdout",
     "output_type": "stream",
     "text": [
      " -> geting waveforms failed for PY.BPH02..BH* ...\n",
      " -> geting waveforms failed for PY.BPH03..BH* ...\n",
      " -> geting waveforms failed for PY.BPH05..BH* ...\n",
      " -> continue computing ADR for 11 of 14 stations ...\n",
      "\n",
      " -> Runtime: 0.61 minutes\n",
      " -> geting waveforms failed for PY.BPH02..BH* ...\n",
      " -> geting waveforms failed for PY.BPH03..BH* ...\n",
      " -> geting waveforms failed for PY.BPH05..BH* ...\n",
      " -> continue computing ADR for 6 of 9 stations ...\n",
      "\n",
      " -> Runtime: 0.36 minutes\n",
      " -> geting waveforms failed for PY.BPH02..BH* ...\n",
      " -> geting waveforms failed for PY.BPH03..BH* ...\n",
      " -> continue computing ADR for 3 of 5 stations ...\n",
      "\n",
      " -> Runtime: 0.2 minutes\n",
      "\n",
      " -> 1 2022-10-02 03:25:16.440000 \n",
      " -> sensitivity removed!\n",
      " -> response removed!\n"
     ]
    },
    {
     "data": {
      "text/plain": [
       "3 Trace(s) in Stream:\n",
       "PY.BSPF..HJZ | 2022-10-02T03:24:06.441400Z - 2022-10-02T03:27:06.416400Z | 40.0 Hz, 7200 samples\n",
       "PY.BSPF..HJN | 2022-10-02T03:24:06.441400Z - 2022-10-02T03:27:06.416400Z | 40.0 Hz, 7200 samples\n",
       "PY.BSPF..HJE | 2022-10-02T03:24:06.441400Z - 2022-10-02T03:27:06.416400Z | 40.0 Hz, 7200 samples"
      ]
     },
     "execution_count": 8,
     "metadata": {},
     "output_type": "execute_result"
    },
    {
     "name": "stdout",
     "output_type": "stream",
     "text": [
      " -> geting waveforms failed for PY.BPH02..BH* ...\n",
      " -> geting waveforms failed for PY.BPH03..BH* ...\n",
      " -> geting waveforms failed for PY.BPH05..BH* ...\n",
      " -> continue computing ADR for 11 of 14 stations ...\n",
      "\n",
      " -> Runtime: 0.63 minutes\n",
      " -> geting waveforms failed for PY.BPH02..BH* ...\n",
      " -> geting waveforms failed for PY.BPH03..BH* ...\n",
      " -> geting waveforms failed for PY.BPH05..BH* ...\n",
      " -> continue computing ADR for 6 of 9 stations ...\n",
      "\n",
      " -> Runtime: 0.37 minutes\n",
      " -> geting waveforms failed for PY.BPH02..BH* ...\n",
      " -> geting waveforms failed for PY.BPH03..BH* ...\n",
      " -> continue computing ADR for 3 of 5 stations ...\n",
      "\n",
      " -> Runtime: 0.2 minutes\n",
      "\n",
      " -> 2 2022-10-02 15:51:37.180000 \n",
      " -> sensitivity removed!\n",
      " -> response removed!\n"
     ]
    },
    {
     "data": {
      "text/plain": [
       "3 Trace(s) in Stream:\n",
       "PY.BSPF..HJZ | 2022-10-02T15:50:27.181400Z - 2022-10-02T15:53:27.156400Z | 40.0 Hz, 7200 samples\n",
       "PY.BSPF..HJN | 2022-10-02T15:50:27.181400Z - 2022-10-02T15:53:27.156400Z | 40.0 Hz, 7200 samples\n",
       "PY.BSPF..HJE | 2022-10-02T15:50:27.181400Z - 2022-10-02T15:53:27.156400Z | 40.0 Hz, 7200 samples"
      ]
     },
     "execution_count": 8,
     "metadata": {},
     "output_type": "execute_result"
    },
    {
     "name": "stdout",
     "output_type": "stream",
     "text": [
      " -> geting waveforms failed for PY.BPH02..BH* ...\n",
      " -> geting waveforms failed for PY.BPH03..BH* ...\n",
      " -> geting waveforms failed for PY.BPH05..BH* ...\n",
      " -> continue computing ADR for 11 of 14 stations ...\n",
      "\n",
      " -> Runtime: 0.63 minutes\n",
      " -> geting waveforms failed for PY.BPH02..BH* ...\n",
      " -> geting waveforms failed for PY.BPH03..BH* ...\n",
      " -> geting waveforms failed for PY.BPH05..BH* ...\n",
      " -> continue computing ADR for 6 of 9 stations ...\n",
      "\n",
      " -> Runtime: 0.37 minutes\n",
      " -> geting waveforms failed for PY.BPH02..BH* ...\n",
      " -> geting waveforms failed for PY.BPH03..BH* ...\n",
      " -> continue computing ADR for 3 of 5 stations ...\n",
      "\n",
      " -> Runtime: 0.2 minutes\n",
      "\n",
      " -> 3 2022-10-02 21:52:54.280000 \n",
      " -> sensitivity removed!\n",
      " -> response removed!\n"
     ]
    },
    {
     "data": {
      "text/plain": [
       "3 Trace(s) in Stream:\n",
       "PY.BSPF..HJZ | 2022-10-02T21:51:44.283900Z - 2022-10-02T21:54:44.258900Z | 40.0 Hz, 7200 samples\n",
       "PY.BSPF..HJN | 2022-10-02T21:51:44.283900Z - 2022-10-02T21:54:44.258900Z | 40.0 Hz, 7200 samples\n",
       "PY.BSPF..HJE | 2022-10-02T21:51:44.283900Z - 2022-10-02T21:54:44.258900Z | 40.0 Hz, 7200 samples"
      ]
     },
     "execution_count": 8,
     "metadata": {},
     "output_type": "execute_result"
    },
    {
     "name": "stdout",
     "output_type": "stream",
     "text": [
      " -> geting waveforms failed for PY.BPH02..BH* ...\n",
      " -> geting waveforms failed for PY.BPH03..BH* ...\n",
      " -> geting waveforms failed for PY.BPH05..BH* ...\n",
      " -> continue computing ADR for 11 of 14 stations ...\n",
      "\n",
      " -> Runtime: 0.61 minutes\n",
      " -> geting waveforms failed for PY.BPH02..BH* ...\n",
      " -> geting waveforms failed for PY.BPH03..BH* ...\n",
      " -> geting waveforms failed for PY.BPH05..BH* ...\n",
      " -> continue computing ADR for 6 of 9 stations ...\n",
      "\n",
      " -> Runtime: 0.38 minutes\n",
      " -> geting waveforms failed for PY.BPH02..BH* ...\n",
      " -> geting waveforms failed for PY.BPH03..BH* ...\n",
      " -> continue computing ADR for 3 of 5 stations ...\n",
      "\n",
      " -> Runtime: 0.21 minutes\n",
      "\n",
      " -> 4 2022-10-04 22:33:48.370000 \n",
      " -> sensitivity removed!\n",
      " -> response removed!\n"
     ]
    },
    {
     "data": {
      "text/plain": [
       "3 Trace(s) in Stream:\n",
       "PY.BSPF..HJZ | 2022-10-04T22:32:38.372400Z - 2022-10-04T22:35:38.347400Z | 40.0 Hz, 7200 samples\n",
       "PY.BSPF..HJN | 2022-10-04T22:32:38.372400Z - 2022-10-04T22:35:38.347400Z | 40.0 Hz, 7200 samples\n",
       "PY.BSPF..HJE | 2022-10-04T22:32:38.372400Z - 2022-10-04T22:35:38.347400Z | 40.0 Hz, 7200 samples"
      ]
     },
     "execution_count": 8,
     "metadata": {},
     "output_type": "execute_result"
    },
    {
     "name": "stdout",
     "output_type": "stream",
     "text": [
      " -> geting waveforms failed for PY.BPH02..BH* ...\n",
      " -> geting waveforms failed for PY.BPH03..BH* ...\n",
      " -> geting waveforms failed for PY.BPH05..BH* ...\n",
      " -> continue computing ADR for 11 of 14 stations ...\n",
      "\n",
      " -> Runtime: 0.63 minutes\n",
      " -> geting waveforms failed for PY.BPH02..BH* ...\n",
      " -> geting waveforms failed for PY.BPH03..BH* ...\n",
      " -> geting waveforms failed for PY.BPH05..BH* ...\n",
      " -> continue computing ADR for 6 of 9 stations ...\n",
      "\n",
      " -> Runtime: 0.36 minutes\n",
      " -> geting waveforms failed for PY.BPH02..BH* ...\n",
      " -> geting waveforms failed for PY.BPH03..BH* ...\n",
      " -> continue computing ADR for 3 of 5 stations ...\n",
      "\n",
      " -> Runtime: 0.2 minutes\n",
      "\n",
      " -> 5 2022-10-05 15:39:32.640000 \n",
      " -> sensitivity removed!\n",
      " -> response removed!\n"
     ]
    },
    {
     "data": {
      "text/plain": [
       "3 Trace(s) in Stream:\n",
       "PY.BSPF..HJZ | 2022-10-05T15:38:22.642400Z - 2022-10-05T15:41:22.617400Z | 40.0 Hz, 7200 samples\n",
       "PY.BSPF..HJN | 2022-10-05T15:38:22.642400Z - 2022-10-05T15:41:22.617400Z | 40.0 Hz, 7200 samples\n",
       "PY.BSPF..HJE | 2022-10-05T15:38:22.642400Z - 2022-10-05T15:41:22.617400Z | 40.0 Hz, 7200 samples"
      ]
     },
     "execution_count": 8,
     "metadata": {},
     "output_type": "execute_result"
    },
    {
     "name": "stdout",
     "output_type": "stream",
     "text": [
      " -> geting waveforms failed for PY.BPH02..BH* ...\n",
      " -> geting waveforms failed for PY.BPH03..BH* ...\n",
      " -> geting waveforms failed for PY.BPH05..BH* ...\n",
      " -> continue computing ADR for 11 of 14 stations ...\n",
      "\n",
      " -> Runtime: 0.6 minutes\n",
      " -> geting waveforms failed for PY.BPH02..BH* ...\n",
      " -> geting waveforms failed for PY.BPH03..BH* ...\n",
      " -> geting waveforms failed for PY.BPH05..BH* ...\n",
      " -> continue computing ADR for 6 of 9 stations ...\n",
      "\n",
      " -> Runtime: 0.36 minutes\n",
      " -> geting waveforms failed for PY.BPH02..BH* ...\n",
      " -> geting waveforms failed for PY.BPH03..BH* ...\n",
      " -> continue computing ADR for 3 of 5 stations ...\n",
      "\n",
      " -> Runtime: 0.2 minutes\n",
      "\n",
      " -> 6 2022-10-08 02:52:33.350000 \n",
      " -> sensitivity removed!\n",
      " -> response removed!\n"
     ]
    },
    {
     "data": {
      "text/plain": [
       "3 Trace(s) in Stream:\n",
       "PY.BSPF..HJZ | 2022-10-08T02:51:23.352300Z - 2022-10-08T02:54:23.327300Z | 40.0 Hz, 7200 samples\n",
       "PY.BSPF..HJN | 2022-10-08T02:51:23.352300Z - 2022-10-08T02:54:23.327300Z | 40.0 Hz, 7200 samples\n",
       "PY.BSPF..HJE | 2022-10-08T02:51:23.352300Z - 2022-10-08T02:54:23.327300Z | 40.0 Hz, 7200 samples"
      ]
     },
     "execution_count": 8,
     "metadata": {},
     "output_type": "execute_result"
    },
    {
     "name": "stdout",
     "output_type": "stream",
     "text": [
      " -> geting waveforms failed for PY.BPH02..BH* ...\n",
      " -> geting waveforms failed for PY.BPH03..BH* ...\n",
      " -> geting waveforms failed for PY.BPH05..BH* ...\n",
      " -> continue computing ADR for 11 of 14 stations ...\n",
      "\n",
      " -> Runtime: 0.61 minutes\n",
      " -> geting waveforms failed for PY.BPH02..BH* ...\n",
      " -> geting waveforms failed for PY.BPH03..BH* ...\n",
      " -> geting waveforms failed for PY.BPH05..BH* ...\n",
      " -> continue computing ADR for 6 of 9 stations ...\n",
      "\n",
      " -> Runtime: 0.37 minutes\n",
      " -> geting waveforms failed for PY.BPH02..BH* ...\n",
      " -> geting waveforms failed for PY.BPH03..BH* ...\n",
      " -> continue computing ADR for 3 of 5 stations ...\n",
      "\n",
      " -> Runtime: 0.2 minutes\n",
      "\n",
      " -> 7 2022-10-08 02:59:39.290000 \n",
      " -> sensitivity removed!\n",
      " -> response removed!\n"
     ]
    },
    {
     "data": {
      "text/plain": [
       "3 Trace(s) in Stream:\n",
       "PY.BSPF..HJZ | 2022-10-08T02:58:29.292300Z - 2022-10-08T03:01:29.267300Z | 40.0 Hz, 7200 samples\n",
       "PY.BSPF..HJN | 2022-10-08T02:58:29.292300Z - 2022-10-08T03:01:29.267300Z | 40.0 Hz, 7200 samples\n",
       "PY.BSPF..HJE | 2022-10-08T02:58:29.292300Z - 2022-10-08T03:01:29.267300Z | 40.0 Hz, 7200 samples"
      ]
     },
     "execution_count": 8,
     "metadata": {},
     "output_type": "execute_result"
    },
    {
     "name": "stdout",
     "output_type": "stream",
     "text": [
      " -> geting waveforms failed for PY.BPH02..BH* ...\n",
      " -> geting waveforms failed for PY.BPH03..BH* ...\n",
      " -> geting waveforms failed for PY.BPH05..BH* ...\n",
      " -> continue computing ADR for 11 of 14 stations ...\n",
      "\n",
      " -> Runtime: 0.6 minutes\n",
      " -> geting waveforms failed for PY.BPH02..BH* ...\n",
      " -> geting waveforms failed for PY.BPH03..BH* ...\n",
      " -> geting waveforms failed for PY.BPH05..BH* ...\n",
      " -> continue computing ADR for 6 of 9 stations ...\n",
      "\n",
      " -> Runtime: 0.35 minutes\n",
      " -> geting waveforms failed for PY.BPH02..BH* ...\n",
      " -> geting waveforms failed for PY.BPH03..BH* ...\n",
      " -> continue computing ADR for 3 of 5 stations ...\n",
      "\n",
      " -> Runtime: 0.21 minutes\n",
      "\n",
      " -> 8 2022-10-09 08:33:00.550000 \n",
      " -> sensitivity removed!\n",
      " -> response removed!\n"
     ]
    },
    {
     "data": {
      "text/plain": [
       "3 Trace(s) in Stream:\n",
       "PY.BSPF..HJZ | 2022-10-09T08:31:50.554700Z - 2022-10-09T08:34:50.529700Z | 40.0 Hz, 7200 samples\n",
       "PY.BSPF..HJN | 2022-10-09T08:31:50.554700Z - 2022-10-09T08:34:50.529700Z | 40.0 Hz, 7200 samples\n",
       "PY.BSPF..HJE | 2022-10-09T08:31:50.554700Z - 2022-10-09T08:34:50.529700Z | 40.0 Hz, 7200 samples"
      ]
     },
     "execution_count": 8,
     "metadata": {},
     "output_type": "execute_result"
    },
    {
     "name": "stdout",
     "output_type": "stream",
     "text": [
      " -> geting waveforms failed for PY.BPH02..BH* ...\n",
      " -> geting waveforms failed for PY.BPH03..BH* ...\n",
      " -> geting waveforms failed for PY.BPH05..BH* ...\n",
      " -> continue computing ADR for 11 of 14 stations ...\n",
      "\n",
      " -> Runtime: 0.61 minutes\n",
      " -> geting waveforms failed for PY.BPH02..BH* ...\n",
      " -> geting waveforms failed for PY.BPH03..BH* ...\n",
      " -> geting waveforms failed for PY.BPH05..BH* ...\n",
      " -> continue computing ADR for 6 of 9 stations ...\n",
      "\n",
      " -> Runtime: 0.41 minutes\n",
      " -> geting waveforms failed for PY.BPH02..BH* ...\n",
      " -> geting waveforms failed for PY.BPH03..BH* ...\n",
      " -> continue computing ADR for 3 of 5 stations ...\n",
      "\n",
      " -> Runtime: 0.21 minutes\n",
      "\n",
      " -> 9 2022-10-09 11:44:41.790000 \n",
      " -> sensitivity removed!\n",
      " -> response removed!\n"
     ]
    },
    {
     "data": {
      "text/plain": [
       "3 Trace(s) in Stream:\n",
       "PY.BSPF..HJZ | 2022-10-09T11:43:31.790600Z - 2022-10-09T11:46:31.765600Z | 40.0 Hz, 7200 samples\n",
       "PY.BSPF..HJN | 2022-10-09T11:43:31.790500Z - 2022-10-09T11:46:31.765500Z | 40.0 Hz, 7200 samples\n",
       "PY.BSPF..HJE | 2022-10-09T11:43:31.790500Z - 2022-10-09T11:46:31.765500Z | 40.0 Hz, 7200 samples"
      ]
     },
     "execution_count": 8,
     "metadata": {},
     "output_type": "execute_result"
    },
    {
     "name": "stdout",
     "output_type": "stream",
     "text": [
      " -> geting waveforms failed for PY.BPH02..BH* ...\n",
      " -> geting waveforms failed for PY.BPH03..BH* ...\n",
      " -> geting waveforms failed for PY.BPH05..BH* ...\n",
      " -> continue computing ADR for 11 of 14 stations ...\n",
      "\n",
      " -> Runtime: 0.61 minutes\n",
      " -> geting waveforms failed for PY.BPH02..BH* ...\n",
      " -> geting waveforms failed for PY.BPH03..BH* ...\n",
      " -> geting waveforms failed for PY.BPH05..BH* ...\n",
      " -> continue computing ADR for 6 of 9 stations ...\n",
      "\n",
      " -> Runtime: 0.35 minutes\n",
      " -> geting waveforms failed for PY.BPH02..BH* ...\n",
      " -> geting waveforms failed for PY.BPH03..BH* ...\n",
      " -> continue computing ADR for 3 of 5 stations ...\n",
      "\n",
      " -> Runtime: 0.2 minutes\n",
      "\n",
      " -> 10 2022-10-09 17:51:16.290000 \n",
      " -> sensitivity removed!\n",
      " -> response removed!\n"
     ]
    },
    {
     "data": {
      "text/plain": [
       "3 Trace(s) in Stream:\n",
       "PY.BSPF..HJZ | 2022-10-09T17:50:06.292200Z - 2022-10-09T17:53:06.267200Z | 40.0 Hz, 7200 samples\n",
       "PY.BSPF..HJN | 2022-10-09T17:50:06.292200Z - 2022-10-09T17:53:06.267200Z | 40.0 Hz, 7200 samples\n",
       "PY.BSPF..HJE | 2022-10-09T17:50:06.292200Z - 2022-10-09T17:53:06.267200Z | 40.0 Hz, 7200 samples"
      ]
     },
     "execution_count": 8,
     "metadata": {},
     "output_type": "execute_result"
    },
    {
     "name": "stdout",
     "output_type": "stream",
     "text": [
      " -> geting waveforms failed for PY.BPH02..BH* ...\n",
      " -> geting waveforms failed for PY.BPH03..BH* ...\n",
      " -> geting waveforms failed for PY.BPH05..BH* ...\n",
      " -> continue computing ADR for 11 of 14 stations ...\n",
      "\n",
      " -> Runtime: 0.62 minutes\n",
      " -> geting waveforms failed for PY.BPH02..BH* ...\n",
      " -> geting waveforms failed for PY.BPH03..BH* ...\n",
      " -> geting waveforms failed for PY.BPH05..BH* ...\n",
      " -> continue computing ADR for 6 of 9 stations ...\n",
      "\n",
      " -> Runtime: 0.36 minutes\n",
      " -> geting waveforms failed for PY.BPH02..BH* ...\n",
      " -> geting waveforms failed for PY.BPH03..BH* ...\n",
      " -> continue computing ADR for 3 of 5 stations ...\n",
      "\n",
      " -> Runtime: 0.2 minutes\n",
      "\n",
      " -> 11 2022-10-14 03:49:02.940000 \n",
      " -> sensitivity removed!\n",
      " -> response removed!\n"
     ]
    },
    {
     "data": {
      "text/plain": [
       "3 Trace(s) in Stream:\n",
       "PY.BSPF..HJZ | 2022-10-14T03:47:52.944100Z - 2022-10-14T03:50:52.919100Z | 40.0 Hz, 7200 samples\n",
       "PY.BSPF..HJN | 2022-10-14T03:47:52.944100Z - 2022-10-14T03:50:52.919100Z | 40.0 Hz, 7200 samples\n",
       "PY.BSPF..HJE | 2022-10-14T03:47:52.944100Z - 2022-10-14T03:50:52.919100Z | 40.0 Hz, 7200 samples"
      ]
     },
     "execution_count": 8,
     "metadata": {},
     "output_type": "execute_result"
    },
    {
     "name": "stdout",
     "output_type": "stream",
     "text": [
      " -> geting waveforms failed for PY.BPH02..BH* ...\n",
      " -> geting waveforms failed for PY.BPH03..BH* ...\n",
      " -> geting waveforms failed for PY.BPH05..BH* ...\n",
      " -> continue computing ADR for 11 of 14 stations ...\n",
      "\n",
      " -> Runtime: 0.62 minutes\n",
      " -> geting waveforms failed for PY.BPH02..BH* ...\n",
      " -> geting waveforms failed for PY.BPH03..BH* ...\n",
      " -> geting waveforms failed for PY.BPH05..BH* ...\n",
      " -> continue computing ADR for 6 of 9 stations ...\n",
      "\n",
      " -> Runtime: 0.38 minutes\n",
      " -> geting waveforms failed for PY.BPH02..BH* ...\n",
      " -> geting waveforms failed for PY.BPH03..BH* ...\n",
      " -> continue computing ADR for 3 of 5 stations ...\n",
      "\n",
      " -> Runtime: 0.2 minutes\n",
      "\n",
      " -> 12 2022-10-15 05:17:34.150000 \n",
      " -> sensitivity removed!\n",
      " -> response removed!\n"
     ]
    },
    {
     "data": {
      "text/plain": [
       "3 Trace(s) in Stream:\n",
       "PY.BSPF..HJZ | 2022-10-15T05:16:24.154100Z - 2022-10-15T05:19:24.129100Z | 40.0 Hz, 7200 samples\n",
       "PY.BSPF..HJN | 2022-10-15T05:16:24.154100Z - 2022-10-15T05:19:24.129100Z | 40.0 Hz, 7200 samples\n",
       "PY.BSPF..HJE | 2022-10-15T05:16:24.154100Z - 2022-10-15T05:19:24.129100Z | 40.0 Hz, 7200 samples"
      ]
     },
     "execution_count": 8,
     "metadata": {},
     "output_type": "execute_result"
    },
    {
     "name": "stdout",
     "output_type": "stream",
     "text": [
      " -> geting waveforms failed for PY.BPH02..BH* ...\n",
      " -> geting waveforms failed for PY.BPH03..BH* ...\n",
      " -> geting waveforms failed for PY.BPH05..BH* ...\n",
      " -> continue computing ADR for 11 of 14 stations ...\n",
      "\n",
      " -> Runtime: 0.66 minutes\n",
      " -> geting waveforms failed for PY.BPH02..BH* ...\n",
      " -> geting waveforms failed for PY.BPH03..BH* ...\n",
      " -> geting waveforms failed for PY.BPH05..BH* ...\n",
      " -> continue computing ADR for 6 of 9 stations ...\n",
      "\n",
      " -> Runtime: 0.37 minutes\n",
      " -> geting waveforms failed for PY.BPH02..BH* ...\n",
      " -> geting waveforms failed for PY.BPH03..BH* ...\n",
      " -> continue computing ADR for 3 of 5 stations ...\n",
      "\n",
      " -> Runtime: 0.2 minutes\n",
      "\n",
      " -> 13 2022-10-21 08:53:10.210000 \n",
      " -> sensitivity removed!\n",
      " -> response removed!\n"
     ]
    },
    {
     "data": {
      "text/plain": [
       "3 Trace(s) in Stream:\n",
       "PY.BSPF..HJZ | 2022-10-21T08:52:00.213700Z - 2022-10-21T08:55:00.188700Z | 40.0 Hz, 7200 samples\n",
       "PY.BSPF..HJN | 2022-10-21T08:52:00.213700Z - 2022-10-21T08:55:00.188700Z | 40.0 Hz, 7200 samples\n",
       "PY.BSPF..HJE | 2022-10-21T08:52:00.213700Z - 2022-10-21T08:55:00.188700Z | 40.0 Hz, 7200 samples"
      ]
     },
     "execution_count": 8,
     "metadata": {},
     "output_type": "execute_result"
    },
    {
     "name": "stdout",
     "output_type": "stream",
     "text": [
      " -> geting waveforms failed for PY.BPH02..BH* ...\n",
      " -> geting waveforms failed for PY.BPH03..BH* ...\n",
      " -> geting waveforms failed for PY.BPH05..BH* ...\n",
      " -> continue computing ADR for 11 of 14 stations ...\n",
      "\n",
      " -> Runtime: 0.62 minutes\n",
      " -> geting waveforms failed for PY.BPH02..BH* ...\n",
      " -> geting waveforms failed for PY.BPH03..BH* ...\n",
      " -> geting waveforms failed for PY.BPH05..BH* ...\n",
      " -> continue computing ADR for 6 of 9 stations ...\n",
      "\n",
      " -> Runtime: 0.37 minutes\n",
      " -> geting waveforms failed for PY.BPH02..BH* ...\n",
      " -> geting waveforms failed for PY.BPH03..BH* ...\n",
      " -> continue computing ADR for 3 of 5 stations ...\n",
      "\n",
      " -> Runtime: 0.2 minutes\n",
      "\n",
      " -> 14 2022-10-22 17:23:29.270000 \n",
      " -> sensitivity removed!\n",
      " -> response removed!\n"
     ]
    },
    {
     "data": {
      "text/plain": [
       "3 Trace(s) in Stream:\n",
       "PY.BSPF..HJZ | 2022-10-22T17:22:19.273700Z - 2022-10-22T17:25:19.248700Z | 40.0 Hz, 7200 samples\n",
       "PY.BSPF..HJN | 2022-10-22T17:22:19.273700Z - 2022-10-22T17:25:19.248700Z | 40.0 Hz, 7200 samples\n",
       "PY.BSPF..HJE | 2022-10-22T17:22:19.273700Z - 2022-10-22T17:25:19.248700Z | 40.0 Hz, 7200 samples"
      ]
     },
     "execution_count": 8,
     "metadata": {},
     "output_type": "execute_result"
    },
    {
     "name": "stdout",
     "output_type": "stream",
     "text": [
      " -> geting waveforms failed for PY.BPH02..BH* ...\n",
      " -> geting waveforms failed for PY.BPH03..BH* ...\n",
      " -> geting waveforms failed for PY.BPH05..BH* ...\n",
      " -> continue computing ADR for 11 of 14 stations ...\n",
      "\n",
      " -> Runtime: 0.62 minutes\n",
      " -> geting waveforms failed for PY.BPH02..BH* ...\n",
      " -> geting waveforms failed for PY.BPH03..BH* ...\n",
      " -> geting waveforms failed for PY.BPH05..BH* ...\n",
      " -> continue computing ADR for 6 of 9 stations ...\n",
      "\n",
      " -> Runtime: 0.38 minutes\n",
      " -> geting waveforms failed for PY.BPH02..BH* ...\n",
      " -> geting waveforms failed for PY.BPH03..BH* ...\n",
      " -> continue computing ADR for 3 of 5 stations ...\n",
      "\n",
      " -> Runtime: 0.2 minutes\n",
      "\n",
      " -> 15 2022-10-23 09:24:58.150000 \n",
      " -> sensitivity removed!\n",
      " -> response removed!\n"
     ]
    },
    {
     "data": {
      "text/plain": [
       "3 Trace(s) in Stream:\n",
       "PY.BSPF..HJZ | 2022-10-23T09:23:48.153700Z - 2022-10-23T09:26:48.128700Z | 40.0 Hz, 7200 samples\n",
       "PY.BSPF..HJN | 2022-10-23T09:23:48.153700Z - 2022-10-23T09:26:48.128700Z | 40.0 Hz, 7200 samples\n",
       "PY.BSPF..HJE | 2022-10-23T09:23:48.153700Z - 2022-10-23T09:26:48.128700Z | 40.0 Hz, 7200 samples"
      ]
     },
     "execution_count": 8,
     "metadata": {},
     "output_type": "execute_result"
    },
    {
     "name": "stdout",
     "output_type": "stream",
     "text": [
      " -> geting waveforms failed for PY.BPH02..BH* ...\n",
      " -> geting waveforms failed for PY.BPH03..BH* ...\n",
      " -> geting waveforms failed for PY.BPH05..BH* ...\n",
      " -> continue computing ADR for 11 of 14 stations ...\n",
      "\n",
      " -> Runtime: 0.65 minutes\n",
      " -> geting waveforms failed for PY.BPH02..BH* ...\n",
      " -> geting waveforms failed for PY.BPH03..BH* ...\n",
      " -> geting waveforms failed for PY.BPH05..BH* ...\n",
      " -> continue computing ADR for 6 of 9 stations ...\n",
      "\n",
      " -> Runtime: 0.39 minutes\n",
      " -> geting waveforms failed for PY.BPH02..BH* ...\n",
      " -> geting waveforms failed for PY.BPH03..BH* ...\n",
      " -> continue computing ADR for 3 of 5 stations ...\n",
      "\n",
      " -> Runtime: 0.21 minutes\n",
      "\n",
      " -> 16 2022-10-24 15:39:11.390000 \n",
      " -> sensitivity removed!\n",
      " -> response removed!\n"
     ]
    },
    {
     "data": {
      "text/plain": [
       "3 Trace(s) in Stream:\n",
       "PY.BSPF..HJZ | 2022-10-24T15:38:01.393700Z - 2022-10-24T15:41:01.368700Z | 40.0 Hz, 7200 samples\n",
       "PY.BSPF..HJN | 2022-10-24T15:38:01.393700Z - 2022-10-24T15:41:01.368700Z | 40.0 Hz, 7200 samples\n",
       "PY.BSPF..HJE | 2022-10-24T15:38:01.393700Z - 2022-10-24T15:41:01.368700Z | 40.0 Hz, 7200 samples"
      ]
     },
     "execution_count": 8,
     "metadata": {},
     "output_type": "execute_result"
    },
    {
     "name": "stdout",
     "output_type": "stream",
     "text": [
      " -> geting waveforms failed for PY.BPH02..BH* ...\n",
      " -> geting waveforms failed for PY.BPH03..BH* ...\n",
      " -> geting waveforms failed for PY.BPH05..BH* ...\n",
      " -> continue computing ADR for 11 of 14 stations ...\n",
      "\n",
      " -> Runtime: 0.63 minutes\n",
      " -> geting waveforms failed for PY.BPH02..BH* ...\n",
      " -> geting waveforms failed for PY.BPH03..BH* ...\n",
      " -> geting waveforms failed for PY.BPH05..BH* ...\n",
      " -> continue computing ADR for 6 of 9 stations ...\n",
      "\n",
      " -> Runtime: 0.36 minutes\n",
      " -> geting waveforms failed for PY.BPH02..BH* ...\n",
      " -> geting waveforms failed for PY.BPH03..BH* ...\n",
      " -> continue computing ADR for 3 of 5 stations ...\n",
      "\n",
      " -> Runtime: 0.21 minutes\n",
      "\n",
      " -> 17 2022-10-25 03:55:30.970000 \n",
      " -> sensitivity removed!\n",
      " -> response removed!\n"
     ]
    },
    {
     "data": {
      "text/plain": [
       "3 Trace(s) in Stream:\n",
       "PY.BSPF..HJZ | 2022-10-25T03:54:20.973700Z - 2022-10-25T03:57:20.948700Z | 40.0 Hz, 7200 samples\n",
       "PY.BSPF..HJN | 2022-10-25T03:54:20.973700Z - 2022-10-25T03:57:20.948700Z | 40.0 Hz, 7200 samples\n",
       "PY.BSPF..HJE | 2022-10-25T03:54:20.973700Z - 2022-10-25T03:57:20.948700Z | 40.0 Hz, 7200 samples"
      ]
     },
     "execution_count": 8,
     "metadata": {},
     "output_type": "execute_result"
    },
    {
     "name": "stdout",
     "output_type": "stream",
     "text": [
      " -> geting waveforms failed for PY.BPH02..BH* ...\n",
      " -> geting waveforms failed for PY.BPH03..BH* ...\n",
      " -> geting waveforms failed for PY.BPH05..BH* ...\n",
      " -> continue computing ADR for 11 of 14 stations ...\n",
      "\n",
      " -> Runtime: 0.63 minutes\n",
      " -> geting waveforms failed for PY.BPH02..BH* ...\n",
      " -> geting waveforms failed for PY.BPH03..BH* ...\n",
      " -> geting waveforms failed for PY.BPH05..BH* ...\n",
      " -> continue computing ADR for 6 of 9 stations ...\n",
      "\n",
      " -> Runtime: 0.37 minutes\n",
      " -> geting waveforms failed for PY.BPH02..BH* ...\n",
      " -> geting waveforms failed for PY.BPH03..BH* ...\n",
      " -> continue computing ADR for 3 of 5 stations ...\n",
      "\n",
      " -> Runtime: 0.21 minutes\n",
      "\n",
      " -> 18 2022-10-26 02:14:58.130000 \n",
      " -> sensitivity removed!\n",
      " -> response removed!\n"
     ]
    },
    {
     "data": {
      "text/plain": [
       "3 Trace(s) in Stream:\n",
       "PY.BSPF..HJZ | 2022-10-26T02:13:48.133700Z - 2022-10-26T02:16:48.108700Z | 40.0 Hz, 7200 samples\n",
       "PY.BSPF..HJN | 2022-10-26T02:13:48.133700Z - 2022-10-26T02:16:48.108700Z | 40.0 Hz, 7200 samples\n",
       "PY.BSPF..HJE | 2022-10-26T02:13:48.133700Z - 2022-10-26T02:16:48.108700Z | 40.0 Hz, 7200 samples"
      ]
     },
     "execution_count": 8,
     "metadata": {},
     "output_type": "execute_result"
    },
    {
     "name": "stdout",
     "output_type": "stream",
     "text": [
      " -> geting waveforms failed for PY.BPH02..BH* ...\n",
      " -> geting waveforms failed for PY.BPH03..BH* ...\n",
      " -> geting waveforms failed for PY.BPH05..BH* ...\n",
      " -> continue computing ADR for 11 of 14 stations ...\n",
      "\n",
      " -> Runtime: 0.62 minutes\n",
      " -> geting waveforms failed for PY.BPH02..BH* ...\n",
      " -> geting waveforms failed for PY.BPH03..BH* ...\n",
      " -> geting waveforms failed for PY.BPH05..BH* ...\n",
      " -> continue computing ADR for 6 of 9 stations ...\n",
      "\n",
      " -> Runtime: 0.36 minutes\n",
      " -> geting waveforms failed for PY.BPH02..BH* ...\n",
      " -> geting waveforms failed for PY.BPH03..BH* ...\n",
      " -> continue computing ADR for 3 of 5 stations ...\n",
      "\n",
      " -> Runtime: 0.2 minutes\n",
      "\n",
      " -> 19 2022-10-26 08:14:33.950000 \n",
      " -> sensitivity removed!\n",
      " -> response removed!\n"
     ]
    },
    {
     "data": {
      "text/plain": [
       "3 Trace(s) in Stream:\n",
       "PY.BSPF..HJZ | 2022-10-26T08:13:23.950500Z - 2022-10-26T08:16:23.925500Z | 40.0 Hz, 7200 samples\n",
       "PY.BSPF..HJN | 2022-10-26T08:13:23.950500Z - 2022-10-26T08:16:23.925500Z | 40.0 Hz, 7200 samples\n",
       "PY.BSPF..HJE | 2022-10-26T08:13:23.950500Z - 2022-10-26T08:16:23.925500Z | 40.0 Hz, 7200 samples"
      ]
     },
     "execution_count": 8,
     "metadata": {},
     "output_type": "execute_result"
    },
    {
     "name": "stdout",
     "output_type": "stream",
     "text": [
      " -> geting waveforms failed for PY.BPH02..BH* ...\n",
      " -> geting waveforms failed for PY.BPH03..BH* ...\n",
      " -> geting waveforms failed for PY.BPH05..BH* ...\n",
      " -> continue computing ADR for 11 of 14 stations ...\n",
      "\n",
      " -> Runtime: 0.65 minutes\n",
      " -> geting waveforms failed for PY.BPH02..BH* ...\n",
      " -> geting waveforms failed for PY.BPH03..BH* ...\n",
      " -> geting waveforms failed for PY.BPH05..BH* ...\n",
      " -> continue computing ADR for 6 of 9 stations ...\n",
      "\n",
      " -> Runtime: 0.38 minutes\n",
      " -> geting waveforms failed for PY.BPH02..BH* ...\n",
      " -> geting waveforms failed for PY.BPH03..BH* ...\n",
      " -> continue computing ADR for 3 of 5 stations ...\n",
      "\n",
      " -> Runtime: 0.2 minutes\n",
      "\n",
      " -> 20 2022-10-26 08:26:54.280000 \n",
      " -> sensitivity removed!\n",
      " -> response removed!\n"
     ]
    },
    {
     "data": {
      "text/plain": [
       "3 Trace(s) in Stream:\n",
       "PY.BSPF..HJZ | 2022-10-26T08:25:44.282900Z - 2022-10-26T08:28:44.257900Z | 40.0 Hz, 7200 samples\n",
       "PY.BSPF..HJN | 2022-10-26T08:25:44.282900Z - 2022-10-26T08:28:44.257900Z | 40.0 Hz, 7200 samples\n",
       "PY.BSPF..HJE | 2022-10-26T08:25:44.282900Z - 2022-10-26T08:28:44.257900Z | 40.0 Hz, 7200 samples"
      ]
     },
     "execution_count": 8,
     "metadata": {},
     "output_type": "execute_result"
    },
    {
     "name": "stdout",
     "output_type": "stream",
     "text": [
      " -> geting waveforms failed for PY.BPH02..BH* ...\n",
      " -> geting waveforms failed for PY.BPH03..BH* ...\n",
      " -> geting waveforms failed for PY.BPH05..BH* ...\n",
      " -> continue computing ADR for 11 of 14 stations ...\n",
      "\n",
      " -> Runtime: 0.59 minutes\n",
      " -> geting waveforms failed for PY.BPH02..BH* ...\n",
      " -> geting waveforms failed for PY.BPH03..BH* ...\n",
      " -> geting waveforms failed for PY.BPH05..BH* ...\n",
      " -> continue computing ADR for 6 of 9 stations ...\n",
      "\n",
      " -> Runtime: 0.36 minutes\n",
      " -> geting waveforms failed for PY.BPH02..BH* ...\n",
      " -> geting waveforms failed for PY.BPH03..BH* ...\n",
      " -> continue computing ADR for 3 of 5 stations ...\n",
      "\n",
      " -> Runtime: 0.19 minutes\n",
      "\n",
      " -> 21 2022-10-26 10:37:58.930000 \n",
      " -> sensitivity removed!\n",
      " -> response removed!\n"
     ]
    },
    {
     "data": {
      "text/plain": [
       "3 Trace(s) in Stream:\n",
       "PY.BSPF..HJZ | 2022-10-26T10:36:48.932900Z - 2022-10-26T10:39:48.907900Z | 40.0 Hz, 7200 samples\n",
       "PY.BSPF..HJN | 2022-10-26T10:36:48.932900Z - 2022-10-26T10:39:48.907900Z | 40.0 Hz, 7200 samples\n",
       "PY.BSPF..HJE | 2022-10-26T10:36:48.932900Z - 2022-10-26T10:39:48.907900Z | 40.0 Hz, 7200 samples"
      ]
     },
     "execution_count": 8,
     "metadata": {},
     "output_type": "execute_result"
    },
    {
     "name": "stdout",
     "output_type": "stream",
     "text": [
      " -> geting waveforms failed for PY.BPH02..BH* ...\n",
      " -> geting waveforms failed for PY.BPH03..BH* ...\n",
      " -> geting waveforms failed for PY.BPH05..BH* ...\n",
      " -> continue computing ADR for 11 of 14 stations ...\n",
      "\n",
      " -> Runtime: 0.6 minutes\n",
      " -> geting waveforms failed for PY.BPH02..BH* ...\n",
      " -> geting waveforms failed for PY.BPH03..BH* ...\n",
      " -> geting waveforms failed for PY.BPH05..BH* ...\n",
      " -> continue computing ADR for 6 of 9 stations ...\n",
      "\n",
      " -> Runtime: 0.36 minutes\n",
      " -> geting waveforms failed for PY.BPH02..BH* ...\n",
      " -> geting waveforms failed for PY.BPH03..BH* ...\n",
      " -> continue computing ADR for 3 of 5 stations ...\n",
      "\n",
      " -> Runtime: 0.2 minutes\n",
      "\n",
      " -> 22 2022-10-26 10:40:24.830000 \n",
      " -> sensitivity removed!\n",
      " -> response removed!\n"
     ]
    },
    {
     "data": {
      "text/plain": [
       "3 Trace(s) in Stream:\n",
       "PY.BSPF..HJZ | 2022-10-26T10:39:14.832900Z - 2022-10-26T10:42:14.807900Z | 40.0 Hz, 7200 samples\n",
       "PY.BSPF..HJN | 2022-10-26T10:39:14.832900Z - 2022-10-26T10:42:14.807900Z | 40.0 Hz, 7200 samples\n",
       "PY.BSPF..HJE | 2022-10-26T10:39:14.832900Z - 2022-10-26T10:42:14.807900Z | 40.0 Hz, 7200 samples"
      ]
     },
     "execution_count": 8,
     "metadata": {},
     "output_type": "execute_result"
    },
    {
     "name": "stdout",
     "output_type": "stream",
     "text": [
      " -> geting waveforms failed for PY.BPH02..BH* ...\n",
      " -> geting waveforms failed for PY.BPH03..BH* ...\n",
      " -> geting waveforms failed for PY.BPH05..BH* ...\n",
      " -> continue computing ADR for 11 of 14 stations ...\n",
      "\n",
      " -> Runtime: 0.63 minutes\n",
      " -> geting waveforms failed for PY.BPH02..BH* ...\n",
      " -> geting waveforms failed for PY.BPH03..BH* ...\n",
      " -> geting waveforms failed for PY.BPH05..BH* ...\n",
      " -> continue computing ADR for 6 of 9 stations ...\n",
      "\n",
      " -> Runtime: 0.36 minutes\n",
      " -> geting waveforms failed for PY.BPH02..BH* ...\n",
      " -> geting waveforms failed for PY.BPH03..BH* ...\n",
      " -> continue computing ADR for 3 of 5 stations ...\n",
      "\n",
      " -> Runtime: 0.19 minutes\n",
      "\n",
      " -> 23 2022-10-28 15:14:38.240000 \n",
      " -> sensitivity removed!\n",
      " -> response removed!\n"
     ]
    },
    {
     "data": {
      "text/plain": [
       "3 Trace(s) in Stream:\n",
       "PY.BSPF..HJZ | 2022-10-28T15:13:28.241300Z - 2022-10-28T15:16:28.216300Z | 40.0 Hz, 7200 samples\n",
       "PY.BSPF..HJN | 2022-10-28T15:13:28.241300Z - 2022-10-28T15:16:28.216300Z | 40.0 Hz, 7200 samples\n",
       "PY.BSPF..HJE | 2022-10-28T15:13:28.241300Z - 2022-10-28T15:16:28.216300Z | 40.0 Hz, 7200 samples"
      ]
     },
     "execution_count": 8,
     "metadata": {},
     "output_type": "execute_result"
    },
    {
     "name": "stdout",
     "output_type": "stream",
     "text": [
      " -> geting waveforms failed for PY.BPH02..BH* ...\n",
      " -> geting waveforms failed for PY.BPH03..BH* ...\n",
      " -> geting waveforms failed for PY.BPH05..BH* ...\n",
      " -> continue computing ADR for 11 of 14 stations ...\n",
      "\n",
      " -> Runtime: 0.64 minutes\n",
      " -> geting waveforms failed for PY.BPH02..BH* ...\n",
      " -> geting waveforms failed for PY.BPH03..BH* ...\n",
      " -> geting waveforms failed for PY.BPH05..BH* ...\n",
      " -> continue computing ADR for 6 of 9 stations ...\n",
      "\n",
      " -> Runtime: 0.36 minutes\n",
      " -> geting waveforms failed for PY.BPH02..BH* ...\n",
      " -> geting waveforms failed for PY.BPH03..BH* ...\n",
      " -> continue computing ADR for 3 of 5 stations ...\n",
      "\n",
      " -> Runtime: 0.2 minutes\n",
      "\n",
      " -> 24 2022-11-02 09:51:22.090000 \n",
      " -> sensitivity removed!\n",
      " -> response removed!\n"
     ]
    },
    {
     "data": {
      "text/plain": [
       "3 Trace(s) in Stream:\n",
       "PY.BSPF..HJZ | 2022-11-02T09:50:12.091400Z - 2022-11-02T09:53:12.066400Z | 40.0 Hz, 7200 samples\n",
       "PY.BSPF..HJN | 2022-11-02T09:50:12.091400Z - 2022-11-02T09:53:12.066400Z | 40.0 Hz, 7200 samples\n",
       "PY.BSPF..HJE | 2022-11-02T09:50:12.091300Z - 2022-11-02T09:53:12.066300Z | 40.0 Hz, 7200 samples"
      ]
     },
     "execution_count": 8,
     "metadata": {},
     "output_type": "execute_result"
    },
    {
     "name": "stdout",
     "output_type": "stream",
     "text": [
      " -> geting waveforms failed for PY.BPH02..BH* ...\n",
      " -> geting waveforms failed for PY.BPH03..BH* ...\n",
      " -> geting waveforms failed for PY.BPH05..BH* ...\n",
      " -> continue computing ADR for 11 of 14 stations ...\n",
      "\n",
      " -> Runtime: 0.64 minutes\n",
      " -> geting waveforms failed for PY.BPH02..BH* ...\n",
      " -> geting waveforms failed for PY.BPH03..BH* ...\n",
      " -> geting waveforms failed for PY.BPH05..BH* ...\n",
      " -> continue computing ADR for 6 of 9 stations ...\n",
      "\n",
      " -> Runtime: 0.42 minutes\n",
      " -> geting waveforms failed for PY.BPH02..BH* ...\n",
      " -> geting waveforms failed for PY.BPH03..BH* ...\n",
      " -> continue computing ADR for 3 of 5 stations ...\n",
      "\n",
      " -> Runtime: 0.2 minutes\n",
      "\n",
      " -> 25 2022-11-09 20:38:02.400000 \n",
      " -> sensitivity removed!\n",
      " -> response removed!\n"
     ]
    },
    {
     "data": {
      "text/plain": [
       "3 Trace(s) in Stream:\n",
       "PY.BSPF..HJZ | 2022-11-09T20:36:52.401300Z - 2022-11-09T20:39:52.376300Z | 40.0 Hz, 7200 samples\n",
       "PY.BSPF..HJN | 2022-11-09T20:36:52.401300Z - 2022-11-09T20:39:52.376300Z | 40.0 Hz, 7200 samples\n",
       "PY.BSPF..HJE | 2022-11-09T20:36:52.401300Z - 2022-11-09T20:39:52.376300Z | 40.0 Hz, 7200 samples"
      ]
     },
     "execution_count": 8,
     "metadata": {},
     "output_type": "execute_result"
    },
    {
     "name": "stdout",
     "output_type": "stream",
     "text": [
      " -> geting waveforms failed for PY.BPH02..BH* ...\n",
      " -> geting waveforms failed for PY.BPH03..BH* ...\n",
      " -> geting waveforms failed for PY.BPH05..BH* ...\n",
      " -> continue computing ADR for 11 of 14 stations ...\n",
      "\n",
      " -> Runtime: 0.61 minutes\n",
      " -> geting waveforms failed for PY.BPH02..BH* ...\n",
      " -> geting waveforms failed for PY.BPH03..BH* ...\n",
      " -> geting waveforms failed for PY.BPH05..BH* ...\n",
      " -> continue computing ADR for 6 of 9 stations ...\n",
      "\n",
      " -> Runtime: 0.37 minutes\n",
      " -> geting waveforms failed for PY.BPH02..BH* ...\n",
      " -> geting waveforms failed for PY.BPH03..BH* ...\n",
      " -> continue computing ADR for 3 of 5 stations ...\n",
      "\n",
      " -> Runtime: 0.19 minutes\n",
      "\n",
      " -> 26 2022-11-10 07:51:01.120000 \n",
      " -> sensitivity removed!\n",
      " -> response removed!\n"
     ]
    },
    {
     "data": {
      "text/plain": [
       "3 Trace(s) in Stream:\n",
       "PY.BSPF..HJZ | 2022-11-10T07:49:51.121300Z - 2022-11-10T07:52:51.096300Z | 40.0 Hz, 7200 samples\n",
       "PY.BSPF..HJN | 2022-11-10T07:49:51.121300Z - 2022-11-10T07:52:51.096300Z | 40.0 Hz, 7200 samples\n",
       "PY.BSPF..HJE | 2022-11-10T07:49:51.121300Z - 2022-11-10T07:52:51.096300Z | 40.0 Hz, 7200 samples"
      ]
     },
     "execution_count": 8,
     "metadata": {},
     "output_type": "execute_result"
    },
    {
     "name": "stdout",
     "output_type": "stream",
     "text": [
      " -> geting waveforms failed for PY.BPH02..BH* ...\n",
      " -> geting waveforms failed for PY.BPH03..BH* ...\n",
      " -> geting waveforms failed for PY.BPH05..BH* ...\n",
      " -> continue computing ADR for 11 of 14 stations ...\n",
      "\n",
      " -> Runtime: 0.63 minutes\n",
      " -> geting waveforms failed for PY.BPH02..BH* ...\n",
      " -> geting waveforms failed for PY.BPH03..BH* ...\n",
      " -> geting waveforms failed for PY.BPH05..BH* ...\n",
      " -> continue computing ADR for 6 of 9 stations ...\n",
      "\n",
      " -> Runtime: 0.38 minutes\n",
      " -> geting waveforms failed for PY.BPH02..BH* ...\n",
      " -> geting waveforms failed for PY.BPH03..BH* ...\n",
      " -> continue computing ADR for 3 of 5 stations ...\n",
      "\n",
      " -> Runtime: 0.2 minutes\n",
      "\n",
      " -> 27 2022-11-15 16:02:41.970000 \n",
      " -> sensitivity removed!\n",
      " -> response removed!\n"
     ]
    },
    {
     "data": {
      "text/plain": [
       "3 Trace(s) in Stream:\n",
       "PY.BSPF..HJZ | 2022-11-15T16:01:31.971500Z - 2022-11-15T16:04:31.946500Z | 40.0 Hz, 7200 samples\n",
       "PY.BSPF..HJN | 2022-11-15T16:01:31.971500Z - 2022-11-15T16:04:31.946500Z | 40.0 Hz, 7200 samples\n",
       "PY.BSPF..HJE | 2022-11-15T16:01:31.971400Z - 2022-11-15T16:04:31.946400Z | 40.0 Hz, 7200 samples"
      ]
     },
     "execution_count": 8,
     "metadata": {},
     "output_type": "execute_result"
    },
    {
     "name": "stdout",
     "output_type": "stream",
     "text": [
      " -> geting waveforms failed for PY.BPH02..BH* ...\n",
      " -> geting waveforms failed for PY.BPH03..BH* ...\n",
      " -> geting waveforms failed for PY.BPH05..BH* ...\n",
      " -> continue computing ADR for 11 of 14 stations ...\n",
      "\n",
      " -> Runtime: 0.6 minutes\n",
      " -> geting waveforms failed for PY.BPH02..BH* ...\n",
      " -> geting waveforms failed for PY.BPH03..BH* ...\n",
      " -> geting waveforms failed for PY.BPH05..BH* ...\n",
      " -> continue computing ADR for 6 of 9 stations ...\n",
      "\n",
      " -> Runtime: 0.37 minutes\n",
      " -> geting waveforms failed for PY.BPH02..BH* ...\n",
      " -> geting waveforms failed for PY.BPH03..BH* ...\n",
      " -> continue computing ADR for 3 of 5 stations ...\n",
      "\n",
      " -> Runtime: 0.2 minutes\n",
      "\n",
      " -> 28 2022-11-16 01:58:10.850000 \n",
      " -> sensitivity removed!\n",
      " -> response removed!\n"
     ]
    },
    {
     "data": {
      "text/plain": [
       "3 Trace(s) in Stream:\n",
       "PY.BSPF..HJZ | 2022-11-16T01:57:00.851500Z - 2022-11-16T02:00:00.826500Z | 40.0 Hz, 7200 samples\n",
       "PY.BSPF..HJN | 2022-11-16T01:57:00.851500Z - 2022-11-16T02:00:00.826500Z | 40.0 Hz, 7200 samples\n",
       "PY.BSPF..HJE | 2022-11-16T01:57:00.851500Z - 2022-11-16T02:00:00.826500Z | 40.0 Hz, 7200 samples"
      ]
     },
     "execution_count": 8,
     "metadata": {},
     "output_type": "execute_result"
    },
    {
     "name": "stdout",
     "output_type": "stream",
     "text": [
      " -> geting waveforms failed for PY.BPH02..BH* ...\n",
      " -> geting waveforms failed for PY.BPH03..BH* ...\n",
      " -> geting waveforms failed for PY.BPH05..BH* ...\n",
      " -> continue computing ADR for 11 of 14 stations ...\n",
      "\n",
      " -> Runtime: 0.63 minutes\n",
      " -> geting waveforms failed for PY.BPH02..BH* ...\n",
      " -> geting waveforms failed for PY.BPH03..BH* ...\n",
      " -> geting waveforms failed for PY.BPH05..BH* ...\n",
      " -> continue computing ADR for 6 of 9 stations ...\n",
      "\n",
      " -> Runtime: 0.36 minutes\n",
      " -> geting waveforms failed for PY.BPH02..BH* ...\n",
      " -> geting waveforms failed for PY.BPH03..BH* ...\n",
      " -> continue computing ADR for 3 of 5 stations ...\n",
      "\n",
      " -> Runtime: 0.19 minutes\n",
      "\n",
      " -> 29 2022-11-19 09:53:11.550000 \n",
      " -> sensitivity removed!\n",
      " -> response removed!\n"
     ]
    },
    {
     "data": {
      "text/plain": [
       "3 Trace(s) in Stream:\n",
       "PY.BSPF..HJZ | 2022-11-19T09:52:01.551000Z - 2022-11-19T09:55:01.526000Z | 40.0 Hz, 7200 samples\n",
       "PY.BSPF..HJN | 2022-11-19T09:52:01.551000Z - 2022-11-19T09:55:01.526000Z | 40.0 Hz, 7200 samples\n",
       "PY.BSPF..HJE | 2022-11-19T09:52:01.551000Z - 2022-11-19T09:55:01.526000Z | 40.0 Hz, 7200 samples"
      ]
     },
     "execution_count": 8,
     "metadata": {},
     "output_type": "execute_result"
    },
    {
     "name": "stdout",
     "output_type": "stream",
     "text": [
      " -> geting waveforms failed for PY.BPH02..BH* ...\n",
      " -> geting waveforms failed for PY.BPH03..BH* ...\n",
      " -> geting waveforms failed for PY.BPH05..BH* ...\n",
      " -> continue computing ADR for 11 of 14 stations ...\n",
      "\n",
      " -> Runtime: 0.68 minutes\n",
      " -> geting waveforms failed for PY.BPH02..BH* ...\n",
      " -> geting waveforms failed for PY.BPH03..BH* ...\n",
      " -> geting waveforms failed for PY.BPH05..BH* ...\n",
      " -> continue computing ADR for 6 of 9 stations ...\n",
      "\n",
      " -> Runtime: 0.38 minutes\n",
      " -> geting waveforms failed for PY.BPH02..BH* ...\n",
      " -> geting waveforms failed for PY.BPH03..BH* ...\n",
      " -> continue computing ADR for 3 of 5 stations ...\n",
      "\n",
      " -> Runtime: 0.22 minutes\n",
      "\n",
      " -> 30 2022-11-23 15:36:30.450000 \n",
      " -> sensitivity removed!\n",
      " -> response removed!\n"
     ]
    },
    {
     "data": {
      "text/plain": [
       "3 Trace(s) in Stream:\n",
       "PY.BSPF..HJZ | 2022-11-23T15:35:20.451000Z - 2022-11-23T15:38:20.426000Z | 40.0 Hz, 7200 samples\n",
       "PY.BSPF..HJN | 2022-11-23T15:35:20.451000Z - 2022-11-23T15:38:20.426000Z | 40.0 Hz, 7200 samples\n",
       "PY.BSPF..HJE | 2022-11-23T15:35:20.451000Z - 2022-11-23T15:38:20.426000Z | 40.0 Hz, 7200 samples"
      ]
     },
     "execution_count": 8,
     "metadata": {},
     "output_type": "execute_result"
    },
    {
     "name": "stdout",
     "output_type": "stream",
     "text": [
      " -> geting waveforms failed for PY.BPH02..BH* ...\n",
      " -> geting waveforms failed for PY.BPH03..BH* ...\n",
      " -> geting waveforms failed for PY.BPH05..BH* ...\n",
      " -> continue computing ADR for 11 of 14 stations ...\n",
      "\n",
      " -> Runtime: 0.66 minutes\n",
      " -> geting waveforms failed for PY.BPH02..BH* ...\n",
      " -> geting waveforms failed for PY.BPH03..BH* ...\n",
      " -> geting waveforms failed for PY.BPH05..BH* ...\n",
      " -> continue computing ADR for 6 of 9 stations ...\n",
      "\n",
      " -> Runtime: 0.37 minutes\n",
      " -> geting waveforms failed for PY.BPH02..BH* ...\n",
      " -> geting waveforms failed for PY.BPH03..BH* ...\n",
      " -> continue computing ADR for 3 of 5 stations ...\n",
      "\n",
      " -> Runtime: 0.2 minutes\n",
      "\n",
      " -> 31 2022-11-25 10:50:33.030000 \n",
      " -> sensitivity removed!\n",
      " -> response removed!\n"
     ]
    },
    {
     "data": {
      "text/plain": [
       "3 Trace(s) in Stream:\n",
       "PY.BSPF..HJZ | 2022-11-25T10:49:23.031100Z - 2022-11-25T10:52:23.006100Z | 40.0 Hz, 7200 samples\n",
       "PY.BSPF..HJN | 2022-11-25T10:49:23.031100Z - 2022-11-25T10:52:23.006100Z | 40.0 Hz, 7200 samples\n",
       "PY.BSPF..HJE | 2022-11-25T10:49:23.031100Z - 2022-11-25T10:52:23.006100Z | 40.0 Hz, 7200 samples"
      ]
     },
     "execution_count": 8,
     "metadata": {},
     "output_type": "execute_result"
    },
    {
     "name": "stdout",
     "output_type": "stream",
     "text": [
      " -> geting waveforms failed for PY.BPH02..BH* ...\n",
      " -> geting waveforms failed for PY.BPH03..BH* ...\n",
      " -> geting waveforms failed for PY.BPH05..BH* ...\n",
      " -> continue computing ADR for 11 of 14 stations ...\n",
      "\n",
      " -> Runtime: 0.63 minutes\n",
      " -> geting waveforms failed for PY.BPH02..BH* ...\n",
      " -> geting waveforms failed for PY.BPH03..BH* ...\n",
      " -> geting waveforms failed for PY.BPH05..BH* ...\n",
      " -> continue computing ADR for 6 of 9 stations ...\n",
      "\n",
      " -> Runtime: 0.36 minutes\n",
      " -> geting waveforms failed for PY.BPH02..BH* ...\n",
      " -> geting waveforms failed for PY.BPH03..BH* ...\n",
      " -> continue computing ADR for 3 of 5 stations ...\n",
      "\n",
      " -> Runtime: 0.23 minutes\n",
      "\n",
      " -> 32 2022-11-27 08:06:51.250000 \n",
      " -> sensitivity removed!\n",
      " -> response removed!\n"
     ]
    },
    {
     "data": {
      "text/plain": [
       "3 Trace(s) in Stream:\n",
       "PY.BSPF..HJZ | 2022-11-27T08:05:41.251100Z - 2022-11-27T08:08:41.226100Z | 40.0 Hz, 7200 samples\n",
       "PY.BSPF..HJN | 2022-11-27T08:05:41.251100Z - 2022-11-27T08:08:41.226100Z | 40.0 Hz, 7200 samples\n",
       "PY.BSPF..HJE | 2022-11-27T08:05:41.251100Z - 2022-11-27T08:08:41.226100Z | 40.0 Hz, 7200 samples"
      ]
     },
     "execution_count": 8,
     "metadata": {},
     "output_type": "execute_result"
    },
    {
     "name": "stdout",
     "output_type": "stream",
     "text": [
      " -> geting waveforms failed for PY.BPH02..BH* ...\n",
      " -> geting waveforms failed for PY.BPH03..BH* ...\n",
      " -> geting waveforms failed for PY.BPH05..BH* ...\n",
      " -> continue computing ADR for 11 of 14 stations ...\n",
      "\n",
      " -> Runtime: 0.62 minutes\n",
      " -> geting waveforms failed for PY.BPH02..BH* ...\n",
      " -> geting waveforms failed for PY.BPH03..BH* ...\n",
      " -> geting waveforms failed for PY.BPH05..BH* ...\n",
      " -> continue computing ADR for 6 of 9 stations ...\n",
      "\n",
      " -> Runtime: 0.37 minutes\n",
      " -> geting waveforms failed for PY.BPH02..BH* ...\n",
      " -> geting waveforms failed for PY.BPH03..BH* ...\n",
      " -> continue computing ADR for 3 of 5 stations ...\n",
      "\n",
      " -> Runtime: 0.2 minutes\n",
      "\n",
      " -> 33 2022-11-30 14:05:03.530000 \n",
      " -> sensitivity removed!\n",
      " -> response removed!\n"
     ]
    },
    {
     "data": {
      "text/plain": [
       "3 Trace(s) in Stream:\n",
       "PY.BSPF..HJZ | 2022-11-30T14:03:53.532800Z - 2022-11-30T14:06:53.507800Z | 40.0 Hz, 7200 samples\n",
       "PY.BSPF..HJN | 2022-11-30T14:03:53.532800Z - 2022-11-30T14:06:53.507800Z | 40.0 Hz, 7200 samples\n",
       "PY.BSPF..HJE | 2022-11-30T14:03:53.532800Z - 2022-11-30T14:06:53.507800Z | 40.0 Hz, 7200 samples"
      ]
     },
     "execution_count": 8,
     "metadata": {},
     "output_type": "execute_result"
    },
    {
     "name": "stdout",
     "output_type": "stream",
     "text": [
      " -> geting waveforms failed for PY.BPH02..BH* ...\n",
      " -> geting waveforms failed for PY.BPH03..BH* ...\n",
      " -> geting waveforms failed for PY.BPH05..BH* ...\n",
      " -> continue computing ADR for 11 of 14 stations ...\n",
      "\n",
      " -> Runtime: 0.6 minutes\n",
      " -> geting waveforms failed for PY.BPH02..BH* ...\n",
      " -> geting waveforms failed for PY.BPH03..BH* ...\n",
      " -> geting waveforms failed for PY.BPH05..BH* ...\n",
      " -> continue computing ADR for 6 of 9 stations ...\n",
      "\n",
      " -> Runtime: 0.36 minutes\n",
      " -> geting waveforms failed for PY.BPH02..BH* ...\n",
      " -> geting waveforms failed for PY.BPH03..BH* ...\n",
      " -> continue computing ADR for 3 of 5 stations ...\n",
      "\n",
      " -> Runtime: 0.21 minutes\n",
      "\n",
      " -> 34 2022-12-01 20:26:07.810000 \n",
      " -> sensitivity removed!\n",
      " -> response removed!\n"
     ]
    },
    {
     "data": {
      "text/plain": [
       "3 Trace(s) in Stream:\n",
       "PY.BSPF..HJZ | 2022-12-01T20:24:57.811200Z - 2022-12-01T20:27:57.786200Z | 40.0 Hz, 7200 samples\n",
       "PY.BSPF..HJN | 2022-12-01T20:24:57.811200Z - 2022-12-01T20:27:57.786200Z | 40.0 Hz, 7200 samples\n",
       "PY.BSPF..HJE | 2022-12-01T20:24:57.811200Z - 2022-12-01T20:27:57.786200Z | 40.0 Hz, 7200 samples"
      ]
     },
     "execution_count": 8,
     "metadata": {},
     "output_type": "execute_result"
    },
    {
     "name": "stdout",
     "output_type": "stream",
     "text": [
      " -> geting waveforms failed for PY.BPH05..BH* ...\n",
      " -> continue computing ADR for 13 of 14 stations ...\n",
      "\n",
      " -> Runtime: 0.69 minutes\n",
      " -> geting waveforms failed for PY.BPH05..BH* ...\n",
      " -> continue computing ADR for 8 of 9 stations ...\n",
      "\n",
      " -> Runtime: 0.43 minutes\n",
      " -> continue computing ADR for 5 of 5 stations ...\n",
      "\n",
      " -> Runtime: 0.26 minutes\n",
      "\n",
      " -> 35 2022-12-01 22:23:08.470000 \n",
      " -> sensitivity removed!\n",
      " -> response removed!\n"
     ]
    },
    {
     "data": {
      "text/plain": [
       "3 Trace(s) in Stream:\n",
       "PY.BSPF..HJZ | 2022-12-01T22:21:58.471200Z - 2022-12-01T22:24:58.446200Z | 40.0 Hz, 7200 samples\n",
       "PY.BSPF..HJN | 2022-12-01T22:21:58.471200Z - 2022-12-01T22:24:58.446200Z | 40.0 Hz, 7200 samples\n",
       "PY.BSPF..HJE | 2022-12-01T22:21:58.471200Z - 2022-12-01T22:24:58.446200Z | 40.0 Hz, 7200 samples"
      ]
     },
     "execution_count": 8,
     "metadata": {},
     "output_type": "execute_result"
    },
    {
     "name": "stdout",
     "output_type": "stream",
     "text": [
      " -> geting waveforms failed for PY.BPH05..BH* ...\n",
      " -> continue computing ADR for 13 of 14 stations ...\n",
      "\n",
      " -> Runtime: 0.68 minutes\n",
      " -> geting waveforms failed for PY.BPH05..BH* ...\n",
      " -> continue computing ADR for 8 of 9 stations ...\n",
      "\n",
      " -> Runtime: 0.43 minutes\n",
      " -> continue computing ADR for 5 of 5 stations ...\n",
      "\n",
      " -> Runtime: 0.26 minutes\n",
      "\n",
      " -> 36 2022-12-02 03:32:45.040000 \n",
      " -> sensitivity removed!\n",
      " -> response removed!\n"
     ]
    },
    {
     "data": {
      "text/plain": [
       "3 Trace(s) in Stream:\n",
       "PY.BSPF..HJZ | 2022-12-02T03:31:35.041200Z - 2022-12-02T03:34:35.016200Z | 40.0 Hz, 7200 samples\n",
       "PY.BSPF..HJN | 2022-12-02T03:31:35.041200Z - 2022-12-02T03:34:35.016200Z | 40.0 Hz, 7200 samples\n",
       "PY.BSPF..HJE | 2022-12-02T03:31:35.041200Z - 2022-12-02T03:34:35.016200Z | 40.0 Hz, 7200 samples"
      ]
     },
     "execution_count": 8,
     "metadata": {},
     "output_type": "execute_result"
    },
    {
     "name": "stdout",
     "output_type": "stream",
     "text": [
      " -> geting waveforms failed for PY.BPH05..BH* ...\n",
      " -> continue computing ADR for 13 of 14 stations ...\n",
      "\n",
      " -> Runtime: 0.68 minutes\n",
      " -> geting waveforms failed for PY.BPH05..BH* ...\n",
      " -> continue computing ADR for 8 of 9 stations ...\n",
      "\n",
      " -> Runtime: 0.43 minutes\n",
      " -> continue computing ADR for 5 of 5 stations ...\n",
      "\n",
      " -> Runtime: 0.27 minutes\n",
      "\n",
      " -> 37 2022-12-02 22:23:52.110000 \n",
      " -> sensitivity removed!\n",
      " -> response removed!\n"
     ]
    },
    {
     "data": {
      "text/plain": [
       "3 Trace(s) in Stream:\n",
       "PY.BSPF..HJZ | 2022-12-02T22:22:42.111200Z - 2022-12-02T22:25:42.086200Z | 40.0 Hz, 7200 samples\n",
       "PY.BSPF..HJN | 2022-12-02T22:22:42.111200Z - 2022-12-02T22:25:42.086200Z | 40.0 Hz, 7200 samples\n",
       "PY.BSPF..HJE | 2022-12-02T22:22:42.111200Z - 2022-12-02T22:25:42.086200Z | 40.0 Hz, 7200 samples"
      ]
     },
     "execution_count": 8,
     "metadata": {},
     "output_type": "execute_result"
    },
    {
     "name": "stdout",
     "output_type": "stream",
     "text": [
      " -> geting waveforms failed for PY.BPH05..BH* ...\n",
      " -> continue computing ADR for 13 of 14 stations ...\n",
      "\n",
      " -> Runtime: 0.68 minutes\n",
      " -> geting waveforms failed for PY.BPH05..BH* ...\n",
      " -> continue computing ADR for 8 of 9 stations ...\n",
      "\n",
      " -> Runtime: 0.42 minutes\n",
      " -> continue computing ADR for 5 of 5 stations ...\n",
      "\n",
      " -> Runtime: 0.24 minutes\n",
      "\n",
      " -> 38 2022-12-05 10:55:32.580000 \n",
      " -> sensitivity removed!\n",
      " -> response removed!\n"
     ]
    },
    {
     "data": {
      "text/plain": [
       "3 Trace(s) in Stream:\n",
       "PY.BSPF..HJZ | 2022-12-05T10:54:22.581200Z - 2022-12-05T10:57:22.556200Z | 40.0 Hz, 7200 samples\n",
       "PY.BSPF..HJN | 2022-12-05T10:54:22.581200Z - 2022-12-05T10:57:22.556200Z | 40.0 Hz, 7200 samples\n",
       "PY.BSPF..HJE | 2022-12-05T10:54:22.581200Z - 2022-12-05T10:57:22.556200Z | 40.0 Hz, 7200 samples"
      ]
     },
     "execution_count": 8,
     "metadata": {},
     "output_type": "execute_result"
    },
    {
     "name": "stdout",
     "output_type": "stream",
     "text": [
      " -> geting waveforms failed for PY.BPH05..BH* ...\n",
      " -> continue computing ADR for 13 of 14 stations ...\n",
      "\n",
      " -> Runtime: 0.69 minutes\n",
      " -> geting waveforms failed for PY.BPH05..BH* ...\n",
      " -> continue computing ADR for 8 of 9 stations ...\n",
      "\n",
      " -> Runtime: 0.42 minutes\n",
      " -> continue computing ADR for 5 of 5 stations ...\n",
      "\n",
      " -> Runtime: 0.26 minutes\n",
      "\n",
      " -> 39 2022-12-16 13:51:22.780000 \n",
      " -> sensitivity removed!\n",
      " -> response removed!\n"
     ]
    },
    {
     "data": {
      "text/plain": [
       "3 Trace(s) in Stream:\n",
       "PY.BSPF..HJZ | 2022-12-16T13:50:12.781200Z - 2022-12-16T13:53:12.756200Z | 40.0 Hz, 7200 samples\n",
       "PY.BSPF..HJN | 2022-12-16T13:50:12.781200Z - 2022-12-16T13:53:12.756200Z | 40.0 Hz, 7200 samples\n",
       "PY.BSPF..HJE | 2022-12-16T13:50:12.781200Z - 2022-12-16T13:53:12.756200Z | 40.0 Hz, 7200 samples"
      ]
     },
     "execution_count": 8,
     "metadata": {},
     "output_type": "execute_result"
    },
    {
     "name": "stdout",
     "output_type": "stream",
     "text": [
      " -> geting waveforms failed for PY.BPH05..BH* ...\n",
      " -> continue computing ADR for 13 of 14 stations ...\n",
      "\n",
      " -> Runtime: 0.67 minutes\n",
      " -> geting waveforms failed for PY.BPH05..BH* ...\n",
      " -> continue computing ADR for 8 of 9 stations ...\n",
      "\n",
      " -> Runtime: 0.43 minutes\n",
      " -> continue computing ADR for 5 of 5 stations ...\n",
      "\n",
      " -> Runtime: 0.26 minutes\n",
      "\n",
      " -> 40 2022-12-25 08:40:38.690000 \n",
      " -> sensitivity removed!\n",
      " -> response removed!\n"
     ]
    },
    {
     "data": {
      "text/plain": [
       "3 Trace(s) in Stream:\n",
       "PY.BSPF..HJZ | 2022-12-25T08:39:28.693800Z - 2022-12-25T08:42:28.668800Z | 40.0 Hz, 7200 samples\n",
       "PY.BSPF..HJN | 2022-12-25T08:39:28.693800Z - 2022-12-25T08:42:28.668800Z | 40.0 Hz, 7200 samples\n",
       "PY.BSPF..HJE | 2022-12-25T08:39:28.693800Z - 2022-12-25T08:42:28.668800Z | 40.0 Hz, 7200 samples"
      ]
     },
     "execution_count": 8,
     "metadata": {},
     "output_type": "execute_result"
    },
    {
     "name": "stdout",
     "output_type": "stream",
     "text": [
      " -> geting waveforms failed for PY.BPH05..BH* ...\n",
      " -> continue computing ADR for 13 of 14 stations ...\n",
      "\n",
      " -> Runtime: 0.71 minutes\n",
      " -> geting waveforms failed for PY.BPH05..BH* ...\n",
      " -> continue computing ADR for 8 of 9 stations ...\n",
      "\n",
      " -> Runtime: 0.42 minutes\n",
      " -> continue computing ADR for 5 of 5 stations ...\n",
      "\n",
      " -> Runtime: 0.26 minutes\n",
      "\n",
      " -> 41 2022-12-28 05:50:57.080000 \n",
      " -> sensitivity removed!\n",
      " -> response removed!\n"
     ]
    },
    {
     "data": {
      "text/plain": [
       "3 Trace(s) in Stream:\n",
       "PY.BSPF..HJZ | 2022-12-28T05:49:47.083800Z - 2022-12-28T05:52:47.058800Z | 40.0 Hz, 7200 samples\n",
       "PY.BSPF..HJN | 2022-12-28T05:49:47.083800Z - 2022-12-28T05:52:47.058800Z | 40.0 Hz, 7200 samples\n",
       "PY.BSPF..HJE | 2022-12-28T05:49:47.083800Z - 2022-12-28T05:52:47.058800Z | 40.0 Hz, 7200 samples"
      ]
     },
     "execution_count": 8,
     "metadata": {},
     "output_type": "execute_result"
    },
    {
     "name": "stdout",
     "output_type": "stream",
     "text": [
      " -> geting waveforms failed for PY.BPH05..BH* ...\n",
      " -> continue computing ADR for 13 of 14 stations ...\n",
      "\n",
      " -> Runtime: 0.68 minutes\n",
      " -> geting waveforms failed for PY.BPH05..BH* ...\n",
      " -> continue computing ADR for 8 of 9 stations ...\n",
      "\n",
      " -> Runtime: 0.43 minutes\n",
      " -> continue computing ADR for 5 of 5 stations ...\n",
      "\n",
      " -> Runtime: 0.25 minutes\n",
      "\n",
      " -> 42 2022-12-31 12:12:26.650000 \n",
      " -> sensitivity removed!\n",
      " -> response removed!\n"
     ]
    },
    {
     "data": {
      "text/plain": [
       "3 Trace(s) in Stream:\n",
       "PY.BSPF..HJZ | 2022-12-31T12:11:16.653800Z - 2022-12-31T12:14:16.628800Z | 40.0 Hz, 7200 samples\n",
       "PY.BSPF..HJN | 2022-12-31T12:11:16.653800Z - 2022-12-31T12:14:16.628800Z | 40.0 Hz, 7200 samples\n",
       "PY.BSPF..HJE | 2022-12-31T12:11:16.653700Z - 2022-12-31T12:14:16.628700Z | 40.0 Hz, 7200 samples"
      ]
     },
     "execution_count": 8,
     "metadata": {},
     "output_type": "execute_result"
    },
    {
     "name": "stdout",
     "output_type": "stream",
     "text": [
      " -> geting waveforms failed for PY.BPH05..BH* ...\n",
      " -> continue computing ADR for 13 of 14 stations ...\n",
      "\n",
      " -> Runtime: 0.74 minutes\n",
      " -> geting waveforms failed for PY.BPH05..BH* ...\n",
      " -> continue computing ADR for 8 of 9 stations ...\n",
      "\n",
      " -> Runtime: 0.44 minutes\n",
      " -> continue computing ADR for 5 of 5 stations ...\n",
      "\n",
      " -> Runtime: 0.27 minutes\n",
      "\n",
      " -> 43 2022-12-31 12:36:38.040000 \n",
      " -> sensitivity removed!\n",
      " -> response removed!\n"
     ]
    },
    {
     "data": {
      "text/plain": [
       "3 Trace(s) in Stream:\n",
       "PY.BSPF..HJZ | 2022-12-31T12:35:28.040400Z - 2022-12-31T12:38:28.015400Z | 40.0 Hz, 7200 samples\n",
       "PY.BSPF..HJN | 2022-12-31T12:35:28.040400Z - 2022-12-31T12:38:28.015400Z | 40.0 Hz, 7200 samples\n",
       "PY.BSPF..HJE | 2022-12-31T12:35:28.040400Z - 2022-12-31T12:38:28.015400Z | 40.0 Hz, 7200 samples"
      ]
     },
     "execution_count": 8,
     "metadata": {},
     "output_type": "execute_result"
    },
    {
     "name": "stdout",
     "output_type": "stream",
     "text": [
      " -> geting waveforms failed for PY.BPH05..BH* ...\n",
      " -> continue computing ADR for 13 of 14 stations ...\n",
      "\n",
      " -> Runtime: 0.67 minutes\n",
      " -> geting waveforms failed for PY.BPH05..BH* ...\n",
      " -> continue computing ADR for 8 of 9 stations ...\n",
      "\n",
      " -> Runtime: 0.42 minutes\n",
      " -> continue computing ADR for 5 of 5 stations ...\n",
      "\n",
      " -> Runtime: 0.25 minutes\n",
      "\n",
      " -> 44 2022-12-31 13:15:12.960000 \n",
      " -> sensitivity removed!\n",
      " -> response removed!\n"
     ]
    },
    {
     "data": {
      "text/plain": [
       "3 Trace(s) in Stream:\n",
       "PY.BSPF..HJZ | 2022-12-31T13:14:02.963700Z - 2022-12-31T13:17:02.938700Z | 40.0 Hz, 7200 samples\n",
       "PY.BSPF..HJN | 2022-12-31T13:14:02.963700Z - 2022-12-31T13:17:02.938700Z | 40.0 Hz, 7200 samples\n",
       "PY.BSPF..HJE | 2022-12-31T13:14:02.963700Z - 2022-12-31T13:17:02.938700Z | 40.0 Hz, 7200 samples"
      ]
     },
     "execution_count": 8,
     "metadata": {},
     "output_type": "execute_result"
    },
    {
     "name": "stdout",
     "output_type": "stream",
     "text": [
      " -> geting waveforms failed for PY.BPH05..BH* ...\n",
      " -> continue computing ADR for 13 of 14 stations ...\n",
      "\n",
      " -> Runtime: 0.67 minutes\n",
      " -> geting waveforms failed for PY.BPH05..BH* ...\n",
      " -> continue computing ADR for 8 of 9 stations ...\n",
      "\n",
      " -> Runtime: 0.43 minutes\n",
      " -> continue computing ADR for 5 of 5 stations ...\n",
      "\n",
      " -> Runtime: 0.26 minutes\n",
      "\n",
      " -> 45 2022-12-31 14:32:55.050000 \n",
      " -> sensitivity removed!\n",
      " -> response removed!\n"
     ]
    },
    {
     "data": {
      "text/plain": [
       "3 Trace(s) in Stream:\n",
       "PY.BSPF..HJZ | 2022-12-31T14:31:45.053700Z - 2022-12-31T14:34:45.028700Z | 40.0 Hz, 7200 samples\n",
       "PY.BSPF..HJN | 2022-12-31T14:31:45.053700Z - 2022-12-31T14:34:45.028700Z | 40.0 Hz, 7200 samples\n",
       "PY.BSPF..HJE | 2022-12-31T14:31:45.053700Z - 2022-12-31T14:34:45.028700Z | 40.0 Hz, 7200 samples"
      ]
     },
     "execution_count": 8,
     "metadata": {},
     "output_type": "execute_result"
    },
    {
     "name": "stdout",
     "output_type": "stream",
     "text": [
      " -> geting waveforms failed for PY.BPH05..BH* ...\n",
      " -> continue computing ADR for 13 of 14 stations ...\n",
      "\n",
      " -> Runtime: 0.66 minutes\n",
      " -> geting waveforms failed for PY.BPH05..BH* ...\n",
      " -> continue computing ADR for 8 of 9 stations ...\n",
      "\n",
      " -> Runtime: 0.44 minutes\n",
      " -> continue computing ADR for 5 of 5 stations ...\n",
      "\n",
      " -> Runtime: 0.26 minutes\n",
      "\n",
      " -> 46 2022-12-31 16:40:07.350000 \n",
      " -> sensitivity removed!\n",
      " -> response removed!\n"
     ]
    },
    {
     "data": {
      "text/plain": [
       "3 Trace(s) in Stream:\n",
       "PY.BSPF..HJZ | 2022-12-31T16:38:57.353700Z - 2022-12-31T16:41:57.328700Z | 40.0 Hz, 7200 samples\n",
       "PY.BSPF..HJN | 2022-12-31T16:38:57.353700Z - 2022-12-31T16:41:57.328700Z | 40.0 Hz, 7200 samples\n",
       "PY.BSPF..HJE | 2022-12-31T16:38:57.353700Z - 2022-12-31T16:41:57.328700Z | 40.0 Hz, 7200 samples"
      ]
     },
     "execution_count": 8,
     "metadata": {},
     "output_type": "execute_result"
    },
    {
     "name": "stdout",
     "output_type": "stream",
     "text": [
      " -> geting waveforms failed for PY.BPH05..BH* ...\n",
      " -> continue computing ADR for 13 of 14 stations ...\n",
      "\n",
      " -> Runtime: 0.68 minutes\n",
      " -> geting waveforms failed for PY.BPH05..BH* ...\n",
      " -> continue computing ADR for 8 of 9 stations ...\n",
      "\n",
      " -> Runtime: 0.43 minutes\n",
      " -> continue computing ADR for 5 of 5 stations ...\n",
      "\n",
      " -> Runtime: 0.25 minutes\n",
      "\n",
      " -> 47 2023-01-02 03:20:18.170000 \n",
      " -> sensitivity removed!\n",
      " -> response removed!\n"
     ]
    },
    {
     "data": {
      "text/plain": [
       "3 Trace(s) in Stream:\n",
       "PY.BSPF..HJZ | 2023-01-02T03:19:08.174100Z - 2023-01-02T03:22:08.149100Z | 40.0 Hz, 7200 samples\n",
       "PY.BSPF..HJN | 2023-01-02T03:19:08.174100Z - 2023-01-02T03:22:08.149100Z | 40.0 Hz, 7200 samples\n",
       "PY.BSPF..HJE | 2023-01-02T03:19:08.174100Z - 2023-01-02T03:22:08.149100Z | 40.0 Hz, 7200 samples"
      ]
     },
     "execution_count": 8,
     "metadata": {},
     "output_type": "execute_result"
    },
    {
     "name": "stdout",
     "output_type": "stream",
     "text": [
      " -> geting waveforms failed for PY.BPH05..BH* ...\n",
      " -> continue computing ADR for 13 of 14 stations ...\n",
      "\n",
      " -> Runtime: 0.71 minutes\n",
      " -> geting waveforms failed for PY.BPH05..BH* ...\n",
      " -> continue computing ADR for 8 of 9 stations ...\n",
      "\n",
      " -> Runtime: 0.44 minutes\n",
      " -> continue computing ADR for 5 of 5 stations ...\n",
      "\n",
      " -> Runtime: 0.27 minutes\n",
      "\n",
      " -> 48 2023-01-05 10:00:33.030000 \n",
      " -> sensitivity removed!\n",
      " -> response removed!\n"
     ]
    },
    {
     "data": {
      "text/plain": [
       "3 Trace(s) in Stream:\n",
       "PY.BSPF..HJZ | 2023-01-05T09:59:23.034100Z - 2023-01-05T10:02:23.009100Z | 40.0 Hz, 7200 samples\n",
       "PY.BSPF..HJN | 2023-01-05T09:59:23.034100Z - 2023-01-05T10:02:23.009100Z | 40.0 Hz, 7200 samples\n",
       "PY.BSPF..HJE | 2023-01-05T09:59:23.034100Z - 2023-01-05T10:02:23.009100Z | 40.0 Hz, 7200 samples"
      ]
     },
     "execution_count": 8,
     "metadata": {},
     "output_type": "execute_result"
    },
    {
     "name": "stdout",
     "output_type": "stream",
     "text": [
      " -> geting waveforms failed for PY.BPH05..BH* ...\n",
      " -> continue computing ADR for 13 of 14 stations ...\n",
      "\n",
      " -> Runtime: 0.71 minutes\n",
      " -> geting waveforms failed for PY.BPH05..BH* ...\n",
      " -> continue computing ADR for 8 of 9 stations ...\n",
      "\n",
      " -> Runtime: 0.43 minutes\n",
      " -> continue computing ADR for 5 of 5 stations ...\n",
      "\n",
      " -> Runtime: 0.26 minutes\n",
      "\n",
      " -> 49 2023-01-05 23:26:23.500000 \n",
      " -> sensitivity removed!\n",
      " -> response removed!\n"
     ]
    },
    {
     "data": {
      "text/plain": [
       "3 Trace(s) in Stream:\n",
       "PY.BSPF..HJZ | 2023-01-05T23:25:13.504100Z - 2023-01-05T23:28:13.479100Z | 40.0 Hz, 7200 samples\n",
       "PY.BSPF..HJN | 2023-01-05T23:25:13.504100Z - 2023-01-05T23:28:13.479100Z | 40.0 Hz, 7200 samples\n",
       "PY.BSPF..HJE | 2023-01-05T23:25:13.504100Z - 2023-01-05T23:28:13.479100Z | 40.0 Hz, 7200 samples"
      ]
     },
     "execution_count": 8,
     "metadata": {},
     "output_type": "execute_result"
    },
    {
     "name": "stdout",
     "output_type": "stream",
     "text": [
      " -> geting waveforms failed for PY.BPH05..BH* ...\n",
      " -> continue computing ADR for 13 of 14 stations ...\n",
      "\n",
      " -> Runtime: 0.67 minutes\n",
      " -> geting waveforms failed for PY.BPH05..BH* ...\n",
      " -> continue computing ADR for 8 of 9 stations ...\n",
      "\n",
      " -> Runtime: 0.48 minutes\n",
      " -> continue computing ADR for 5 of 5 stations ...\n",
      "\n",
      " -> Runtime: 0.27 minutes\n",
      "\n",
      " -> 50 2023-01-05 23:44:18.410000 \n",
      " -> sensitivity removed!\n",
      " -> response removed!\n"
     ]
    },
    {
     "data": {
      "text/plain": [
       "3 Trace(s) in Stream:\n",
       "PY.BSPF..HJZ | 2023-01-05T23:43:08.414100Z - 2023-01-05T23:46:08.389100Z | 40.0 Hz, 7200 samples\n",
       "PY.BSPF..HJN | 2023-01-05T23:43:08.414100Z - 2023-01-05T23:46:08.389100Z | 40.0 Hz, 7200 samples\n",
       "PY.BSPF..HJE | 2023-01-05T23:43:08.414100Z - 2023-01-05T23:46:08.389100Z | 40.0 Hz, 7200 samples"
      ]
     },
     "execution_count": 8,
     "metadata": {},
     "output_type": "execute_result"
    },
    {
     "name": "stdout",
     "output_type": "stream",
     "text": [
      " -> geting waveforms failed for PY.BPH05..BH* ...\n",
      " -> continue computing ADR for 13 of 14 stations ...\n",
      "\n",
      " -> Runtime: 0.73 minutes\n",
      " -> geting waveforms failed for PY.BPH05..BH* ...\n",
      " -> continue computing ADR for 8 of 9 stations ...\n",
      "\n",
      " -> Runtime: 0.42 minutes\n",
      " -> continue computing ADR for 5 of 5 stations ...\n",
      "\n",
      " -> Runtime: 0.26 minutes\n",
      "\n",
      " -> 51 2023-01-06 13:51:45.470000 \n",
      " -> sensitivity removed!\n",
      " -> response removed!\n"
     ]
    },
    {
     "data": {
      "text/plain": [
       "3 Trace(s) in Stream:\n",
       "PY.BSPF..HJZ | 2023-01-06T13:50:35.474100Z - 2023-01-06T13:53:35.449100Z | 40.0 Hz, 7200 samples\n",
       "PY.BSPF..HJN | 2023-01-06T13:50:35.474100Z - 2023-01-06T13:53:35.449100Z | 40.0 Hz, 7200 samples\n",
       "PY.BSPF..HJE | 2023-01-06T13:50:35.474100Z - 2023-01-06T13:53:35.449100Z | 40.0 Hz, 7200 samples"
      ]
     },
     "execution_count": 8,
     "metadata": {},
     "output_type": "execute_result"
    },
    {
     "name": "stdout",
     "output_type": "stream",
     "text": [
      " -> geting waveforms failed for PY.BPH05..BH* ...\n",
      " -> continue computing ADR for 13 of 14 stations ...\n",
      "\n",
      " -> Runtime: 0.69 minutes\n",
      " -> geting waveforms failed for PY.BPH05..BH* ...\n",
      " -> continue computing ADR for 8 of 9 stations ...\n",
      "\n",
      " -> Runtime: 0.43 minutes\n",
      " -> continue computing ADR for 5 of 5 stations ...\n",
      "\n",
      " -> Runtime: 0.26 minutes\n",
      "\n",
      " -> 52 2023-01-09 16:59:36.400000 \n",
      " -> sensitivity removed!\n",
      " -> response removed!\n"
     ]
    },
    {
     "data": {
      "text/plain": [
       "3 Trace(s) in Stream:\n",
       "PY.BSPF..HJZ | 2023-01-09T16:58:26.403300Z - 2023-01-09T17:01:26.378300Z | 40.0 Hz, 7200 samples\n",
       "PY.BSPF..HJN | 2023-01-09T16:58:26.403300Z - 2023-01-09T17:01:26.378300Z | 40.0 Hz, 7200 samples\n",
       "PY.BSPF..HJE | 2023-01-09T16:58:26.403300Z - 2023-01-09T17:01:26.378300Z | 40.0 Hz, 7200 samples"
      ]
     },
     "execution_count": 8,
     "metadata": {},
     "output_type": "execute_result"
    },
    {
     "name": "stdout",
     "output_type": "stream",
     "text": [
      " -> geting waveforms failed for PY.BPH05..BH* ...\n",
      " -> continue computing ADR for 13 of 14 stations ...\n",
      "\n",
      " -> Runtime: 0.69 minutes\n",
      " -> geting waveforms failed for PY.BPH05..BH* ...\n",
      " -> continue computing ADR for 8 of 9 stations ...\n",
      "\n",
      " -> Runtime: 0.42 minutes\n",
      " -> continue computing ADR for 5 of 5 stations ...\n",
      "\n",
      " -> Runtime: 0.26 minutes\n",
      "\n",
      " -> 53 2023-01-09 19:42:56.460000 \n",
      " -> sensitivity removed!\n",
      " -> response removed!\n"
     ]
    },
    {
     "data": {
      "text/plain": [
       "3 Trace(s) in Stream:\n",
       "PY.BSPF..HJZ | 2023-01-09T19:41:46.463300Z - 2023-01-09T19:44:46.438300Z | 40.0 Hz, 7200 samples\n",
       "PY.BSPF..HJN | 2023-01-09T19:41:46.463300Z - 2023-01-09T19:44:46.438300Z | 40.0 Hz, 7200 samples\n",
       "PY.BSPF..HJE | 2023-01-09T19:41:46.463300Z - 2023-01-09T19:44:46.438300Z | 40.0 Hz, 7200 samples"
      ]
     },
     "execution_count": 8,
     "metadata": {},
     "output_type": "execute_result"
    },
    {
     "name": "stdout",
     "output_type": "stream",
     "text": [
      " -> geting waveforms failed for PY.BPH05..BH* ...\n",
      " -> continue computing ADR for 13 of 14 stations ...\n",
      "\n",
      " -> Runtime: 0.69 minutes\n",
      " -> geting waveforms failed for PY.BPH05..BH* ...\n",
      " -> continue computing ADR for 8 of 9 stations ...\n",
      "\n",
      " -> Runtime: 0.41 minutes\n",
      " -> continue computing ADR for 5 of 5 stations ...\n",
      "\n",
      " -> Runtime: 0.26 minutes\n",
      "\n",
      " -> 54 2023-01-15 09:58:54.070000 \n",
      " -> sensitivity removed!\n",
      " -> response removed!\n"
     ]
    },
    {
     "data": {
      "text/plain": [
       "3 Trace(s) in Stream:\n",
       "PY.BSPF..HJZ | 2023-01-15T09:57:44.073100Z - 2023-01-15T10:00:44.048100Z | 40.0 Hz, 7200 samples\n",
       "PY.BSPF..HJN | 2023-01-15T09:57:44.073100Z - 2023-01-15T10:00:44.048100Z | 40.0 Hz, 7200 samples\n",
       "PY.BSPF..HJE | 2023-01-15T09:57:44.073100Z - 2023-01-15T10:00:44.048100Z | 40.0 Hz, 7200 samples"
      ]
     },
     "execution_count": 8,
     "metadata": {},
     "output_type": "execute_result"
    },
    {
     "name": "stdout",
     "output_type": "stream",
     "text": [
      " -> geting waveforms failed for PY.BPH05..BH* ...\n",
      " -> continue computing ADR for 13 of 14 stations ...\n",
      "\n",
      " -> Runtime: 0.72 minutes\n",
      " -> geting waveforms failed for PY.BPH05..BH* ...\n",
      " -> continue computing ADR for 8 of 9 stations ...\n",
      "\n",
      " -> Runtime: 0.43 minutes\n",
      " -> continue computing ADR for 5 of 5 stations ...\n",
      "\n",
      " -> Runtime: 0.26 minutes\n",
      "\n",
      " -> 55 2023-01-15 18:03:35.560000 \n",
      " -> sensitivity removed!\n",
      " -> response removed!\n"
     ]
    },
    {
     "data": {
      "text/plain": [
       "3 Trace(s) in Stream:\n",
       "PY.BSPF..HJZ | 2023-01-15T18:02:25.563100Z - 2023-01-15T18:05:25.538100Z | 40.0 Hz, 7200 samples\n",
       "PY.BSPF..HJN | 2023-01-15T18:02:25.563100Z - 2023-01-15T18:05:25.538100Z | 40.0 Hz, 7200 samples\n",
       "PY.BSPF..HJE | 2023-01-15T18:02:25.563100Z - 2023-01-15T18:05:25.538100Z | 40.0 Hz, 7200 samples"
      ]
     },
     "execution_count": 8,
     "metadata": {},
     "output_type": "execute_result"
    },
    {
     "name": "stdout",
     "output_type": "stream",
     "text": [
      " -> geting waveforms failed for PY.BPH05..BH* ...\n",
      " -> continue computing ADR for 13 of 14 stations ...\n",
      "\n",
      " -> Runtime: 0.65 minutes\n",
      " -> geting waveforms failed for PY.BPH05..BH* ...\n",
      " -> continue computing ADR for 8 of 9 stations ...\n",
      "\n",
      " -> Runtime: 0.44 minutes\n",
      " -> continue computing ADR for 5 of 5 stations ...\n",
      "\n",
      " -> Runtime: 0.26 minutes\n",
      "\n",
      " -> 56 2023-01-15 22:05:20.840000 \n",
      " -> sensitivity removed!\n",
      " -> response removed!\n"
     ]
    },
    {
     "data": {
      "text/plain": [
       "3 Trace(s) in Stream:\n",
       "PY.BSPF..HJZ | 2023-01-15T22:04:10.843100Z - 2023-01-15T22:07:10.818100Z | 40.0 Hz, 7200 samples\n",
       "PY.BSPF..HJN | 2023-01-15T22:04:10.843100Z - 2023-01-15T22:07:10.818100Z | 40.0 Hz, 7200 samples\n",
       "PY.BSPF..HJE | 2023-01-15T22:04:10.843100Z - 2023-01-15T22:07:10.818100Z | 40.0 Hz, 7200 samples"
      ]
     },
     "execution_count": 8,
     "metadata": {},
     "output_type": "execute_result"
    },
    {
     "name": "stdout",
     "output_type": "stream",
     "text": [
      " -> geting waveforms failed for PY.BPH05..BH* ...\n",
      " -> continue computing ADR for 13 of 14 stations ...\n",
      "\n",
      " -> Runtime: 0.66 minutes\n",
      " -> geting waveforms failed for PY.BPH05..BH* ...\n",
      " -> continue computing ADR for 8 of 9 stations ...\n",
      "\n",
      " -> Runtime: 0.41 minutes\n",
      " -> continue computing ADR for 5 of 5 stations ...\n",
      "\n",
      " -> Runtime: 0.25 minutes\n",
      "\n",
      " -> 57 2023-01-17 11:50:52.860000 \n",
      " -> sensitivity removed!\n",
      " -> response removed!\n"
     ]
    },
    {
     "data": {
      "text/plain": [
       "3 Trace(s) in Stream:\n",
       "PY.BSPF..HJZ | 2023-01-17T11:49:42.863100Z - 2023-01-17T11:52:42.838100Z | 40.0 Hz, 7200 samples\n",
       "PY.BSPF..HJN | 2023-01-17T11:49:42.863100Z - 2023-01-17T11:52:42.838100Z | 40.0 Hz, 7200 samples\n",
       "PY.BSPF..HJE | 2023-01-17T11:49:42.863100Z - 2023-01-17T11:52:42.838100Z | 40.0 Hz, 7200 samples"
      ]
     },
     "execution_count": 8,
     "metadata": {},
     "output_type": "execute_result"
    },
    {
     "name": "stdout",
     "output_type": "stream",
     "text": [
      " -> geting waveforms failed for PY.BPH05..BH* ...\n",
      " -> continue computing ADR for 13 of 14 stations ...\n",
      " -> failed to compute ADR all ...\n",
      " -> geting waveforms failed for PY.BPH05..BH* ...\n",
      " -> continue computing ADR for 8 of 9 stations ...\n",
      " -> failed to compute ADR mid ...\n",
      " -> continue computing ADR for 5 of 5 stations ...\n",
      "\n",
      " -> Runtime: 0.26 minutes\n",
      "\n",
      " -> 58 2023-01-17 12:16:28.620000 \n",
      " -> sensitivity removed!\n",
      " -> response removed!\n"
     ]
    },
    {
     "data": {
      "text/plain": [
       "3 Trace(s) in Stream:\n",
       "PY.BSPF..HJZ | 2023-01-17T12:15:18.623100Z - 2023-01-17T12:18:18.598100Z | 40.0 Hz, 7200 samples\n",
       "PY.BSPF..HJN | 2023-01-17T12:15:18.623100Z - 2023-01-17T12:18:18.598100Z | 40.0 Hz, 7200 samples\n",
       "PY.BSPF..HJE | 2023-01-17T12:15:18.623000Z - 2023-01-17T12:18:18.598000Z | 40.0 Hz, 7200 samples"
      ]
     },
     "execution_count": 8,
     "metadata": {},
     "output_type": "execute_result"
    },
    {
     "name": "stdout",
     "output_type": "stream",
     "text": [
      " -> geting waveforms failed for PY.BPH05..BH* ...\n",
      " -> continue computing ADR for 13 of 14 stations ...\n",
      " -> failed to compute ADR all ...\n",
      " -> geting waveforms failed for PY.BPH05..BH* ...\n",
      " -> continue computing ADR for 8 of 9 stations ...\n",
      " -> failed to compute ADR mid ...\n",
      " -> continue computing ADR for 5 of 5 stations ...\n",
      "\n",
      " -> Runtime: 0.27 minutes\n",
      "\n",
      " -> 59 2023-01-18 18:44:40.560000 \n",
      " -> sensitivity removed!\n",
      " -> response removed!\n"
     ]
    },
    {
     "data": {
      "text/plain": [
       "3 Trace(s) in Stream:\n",
       "PY.BSPF..HJZ | 2023-01-18T18:43:30.563100Z - 2023-01-18T18:46:30.538100Z | 40.0 Hz, 7200 samples\n",
       "PY.BSPF..HJN | 2023-01-18T18:43:30.563100Z - 2023-01-18T18:46:30.538100Z | 40.0 Hz, 7200 samples\n",
       "PY.BSPF..HJE | 2023-01-18T18:43:30.563100Z - 2023-01-18T18:46:30.538100Z | 40.0 Hz, 7200 samples"
      ]
     },
     "execution_count": 8,
     "metadata": {},
     "output_type": "execute_result"
    },
    {
     "name": "stdout",
     "output_type": "stream",
     "text": [
      " -> geting waveforms failed for PY.BPH05..BH* ...\n",
      " -> continue computing ADR for 13 of 14 stations ...\n",
      " -> failed to compute ADR all ...\n",
      " -> geting waveforms failed for PY.BPH05..BH* ...\n",
      " -> continue computing ADR for 8 of 9 stations ...\n",
      " -> failed to compute ADR mid ...\n",
      " -> continue computing ADR for 5 of 5 stations ...\n",
      "\n",
      " -> Runtime: 0.27 minutes\n",
      "\n",
      " -> 60 2023-01-19 01:19:16.080000 \n",
      " -> sensitivity removed!\n",
      " -> response removed!\n"
     ]
    },
    {
     "data": {
      "text/plain": [
       "3 Trace(s) in Stream:\n",
       "PY.BSPF..HJZ | 2023-01-19T01:18:06.083100Z - 2023-01-19T01:21:06.058100Z | 40.0 Hz, 7200 samples\n",
       "PY.BSPF..HJN | 2023-01-19T01:18:06.083100Z - 2023-01-19T01:21:06.058100Z | 40.0 Hz, 7200 samples\n",
       "PY.BSPF..HJE | 2023-01-19T01:18:06.083100Z - 2023-01-19T01:21:06.058100Z | 40.0 Hz, 7200 samples"
      ]
     },
     "execution_count": 8,
     "metadata": {},
     "output_type": "execute_result"
    },
    {
     "name": "stdout",
     "output_type": "stream",
     "text": [
      " -> geting waveforms failed for PY.BPH05..BH* ...\n",
      " -> continue computing ADR for 13 of 14 stations ...\n",
      "\n",
      " -> Runtime: 0.7 minutes\n",
      " -> geting waveforms failed for PY.BPH05..BH* ...\n",
      " -> continue computing ADR for 8 of 9 stations ...\n",
      "\n",
      " -> Runtime: 0.42 minutes\n",
      " -> continue computing ADR for 5 of 5 stations ...\n",
      "\n",
      " -> Runtime: 0.26 minutes\n",
      "\n",
      " -> 61 2023-01-20 22:36:55.260000 \n",
      " -> sensitivity removed!\n",
      " -> response removed!\n"
     ]
    },
    {
     "data": {
      "text/plain": [
       "3 Trace(s) in Stream:\n",
       "PY.BSPF..HJZ | 2023-01-20T22:35:45.263100Z - 2023-01-20T22:38:45.238100Z | 40.0 Hz, 7200 samples\n",
       "PY.BSPF..HJN | 2023-01-20T22:35:45.263100Z - 2023-01-20T22:38:45.238100Z | 40.0 Hz, 7200 samples\n",
       "PY.BSPF..HJE | 2023-01-20T22:35:45.263100Z - 2023-01-20T22:38:45.238100Z | 40.0 Hz, 7200 samples"
      ]
     },
     "execution_count": 8,
     "metadata": {},
     "output_type": "execute_result"
    },
    {
     "name": "stdout",
     "output_type": "stream",
     "text": [
      " -> geting waveforms failed for PY.BPH05..BH* ...\n",
      " -> continue computing ADR for 13 of 14 stations ...\n",
      "\n",
      " -> Runtime: 0.7 minutes\n",
      " -> geting waveforms failed for PY.BPH05..BH* ...\n",
      " -> continue computing ADR for 8 of 9 stations ...\n",
      "\n",
      " -> Runtime: 0.43 minutes\n",
      " -> continue computing ADR for 5 of 5 stations ...\n",
      "\n",
      " -> Runtime: 0.27 minutes\n",
      "\n",
      " -> 62 2023-01-21 12:05:52.350000 \n",
      " -> sensitivity removed!\n",
      " -> response removed!\n"
     ]
    },
    {
     "data": {
      "text/plain": [
       "3 Trace(s) in Stream:\n",
       "PY.BSPF..HJZ | 2023-01-21T12:04:42.353000Z - 2023-01-21T12:07:42.328000Z | 40.0 Hz, 7200 samples\n",
       "PY.BSPF..HJN | 2023-01-21T12:04:42.353000Z - 2023-01-21T12:07:42.328000Z | 40.0 Hz, 7200 samples\n",
       "PY.BSPF..HJE | 2023-01-21T12:04:42.353000Z - 2023-01-21T12:07:42.328000Z | 40.0 Hz, 7200 samples"
      ]
     },
     "execution_count": 8,
     "metadata": {},
     "output_type": "execute_result"
    },
    {
     "name": "stdout",
     "output_type": "stream",
     "text": [
      " -> geting waveforms failed for PY.BPH05..BH* ...\n",
      " -> continue computing ADR for 13 of 14 stations ...\n",
      "\n",
      " -> Runtime: 0.72 minutes\n",
      " -> geting waveforms failed for PY.BPH05..BH* ...\n",
      " -> continue computing ADR for 8 of 9 stations ...\n",
      "\n",
      " -> Runtime: 0.42 minutes\n",
      " -> continue computing ADR for 5 of 5 stations ...\n",
      "\n",
      " -> Runtime: 0.25 minutes\n",
      "\n",
      " -> 63 2023-01-28 05:28:35.930000 \n",
      " -> sensitivity removed!\n",
      " -> response removed!\n"
     ]
    },
    {
     "data": {
      "text/plain": [
       "3 Trace(s) in Stream:\n",
       "PY.BSPF..HJZ | 2023-01-28T05:27:25.933300Z - 2023-01-28T05:30:25.908300Z | 40.0 Hz, 7200 samples\n",
       "PY.BSPF..HJN | 2023-01-28T05:27:25.933300Z - 2023-01-28T05:30:25.908300Z | 40.0 Hz, 7200 samples\n",
       "PY.BSPF..HJE | 2023-01-28T05:27:25.933300Z - 2023-01-28T05:30:25.908300Z | 40.0 Hz, 7200 samples"
      ]
     },
     "execution_count": 8,
     "metadata": {},
     "output_type": "execute_result"
    },
    {
     "name": "stdout",
     "output_type": "stream",
     "text": [
      " -> geting waveforms failed for PY.BPH05..BH* ...\n",
      " -> continue computing ADR for 13 of 14 stations ...\n",
      "\n",
      " -> Runtime: 0.69 minutes\n",
      " -> geting waveforms failed for PY.BPH05..BH* ...\n",
      " -> continue computing ADR for 8 of 9 stations ...\n",
      "\n",
      " -> Runtime: 0.43 minutes\n",
      " -> continue computing ADR for 5 of 5 stations ...\n",
      "\n",
      " -> Runtime: 0.26 minutes\n",
      "\n",
      " -> 64 2023-01-28 08:37:03.310000 \n",
      " -> sensitivity removed!\n",
      " -> response removed!\n"
     ]
    },
    {
     "data": {
      "text/plain": [
       "3 Trace(s) in Stream:\n",
       "PY.BSPF..HJZ | 2023-01-28T08:35:53.313300Z - 2023-01-28T08:38:53.288300Z | 40.0 Hz, 7200 samples\n",
       "PY.BSPF..HJN | 2023-01-28T08:35:53.313300Z - 2023-01-28T08:38:53.288300Z | 40.0 Hz, 7200 samples\n",
       "PY.BSPF..HJE | 2023-01-28T08:35:53.313300Z - 2023-01-28T08:38:53.288300Z | 40.0 Hz, 7200 samples"
      ]
     },
     "execution_count": 8,
     "metadata": {},
     "output_type": "execute_result"
    },
    {
     "name": "stdout",
     "output_type": "stream",
     "text": [
      " -> geting waveforms failed for PY.BPH05..BH* ...\n",
      " -> continue computing ADR for 13 of 14 stations ...\n",
      "\n",
      " -> Runtime: 0.66 minutes\n",
      " -> geting waveforms failed for PY.BPH05..BH* ...\n",
      " -> continue computing ADR for 8 of 9 stations ...\n",
      "\n",
      " -> Runtime: 0.42 minutes\n",
      " -> continue computing ADR for 5 of 5 stations ...\n",
      "\n",
      " -> Runtime: 0.26 minutes\n",
      "\n",
      " -> 65 2023-01-29 18:12:03.480000 \n",
      " -> sensitivity removed!\n",
      " -> response removed!\n"
     ]
    },
    {
     "data": {
      "text/plain": [
       "3 Trace(s) in Stream:\n",
       "PY.BSPF..HJZ | 2023-01-29T18:10:53.483300Z - 2023-01-29T18:13:53.458300Z | 40.0 Hz, 7200 samples\n",
       "PY.BSPF..HJN | 2023-01-29T18:10:53.483300Z - 2023-01-29T18:13:53.458300Z | 40.0 Hz, 7200 samples\n",
       "PY.BSPF..HJE | 2023-01-29T18:10:53.483300Z - 2023-01-29T18:13:53.458300Z | 40.0 Hz, 7200 samples"
      ]
     },
     "execution_count": 8,
     "metadata": {},
     "output_type": "execute_result"
    },
    {
     "name": "stdout",
     "output_type": "stream",
     "text": [
      " -> geting waveforms failed for PY.BPH05..BH* ...\n",
      " -> continue computing ADR for 13 of 14 stations ...\n",
      "\n",
      " -> Runtime: 0.69 minutes\n",
      " -> geting waveforms failed for PY.BPH05..BH* ...\n",
      " -> continue computing ADR for 8 of 9 stations ...\n",
      "\n",
      " -> Runtime: 0.42 minutes\n",
      " -> continue computing ADR for 5 of 5 stations ...\n",
      "\n",
      " -> Runtime: 0.25 minutes\n",
      "\n",
      " -> 66 2023-01-30 20:33:05.830000 \n",
      " -> sensitivity removed!\n",
      " -> response removed!\n"
     ]
    },
    {
     "data": {
      "text/plain": [
       "3 Trace(s) in Stream:\n",
       "PY.BSPF..HJZ | 2023-01-30T20:31:55.832700Z - 2023-01-30T20:34:55.807700Z | 40.0 Hz, 7200 samples\n",
       "PY.BSPF..HJN | 2023-01-30T20:31:55.832700Z - 2023-01-30T20:34:55.807700Z | 40.0 Hz, 7200 samples\n",
       "PY.BSPF..HJE | 2023-01-30T20:31:55.832700Z - 2023-01-30T20:34:55.807700Z | 40.0 Hz, 7200 samples"
      ]
     },
     "execution_count": 8,
     "metadata": {},
     "output_type": "execute_result"
    },
    {
     "name": "stdout",
     "output_type": "stream",
     "text": [
      " -> geting waveforms failed for PY.BPH05..BH* ...\n",
      " -> continue computing ADR for 13 of 14 stations ...\n",
      "\n",
      " -> Runtime: 0.7 minutes\n",
      " -> geting waveforms failed for PY.BPH05..BH* ...\n",
      " -> continue computing ADR for 8 of 9 stations ...\n",
      "\n",
      " -> Runtime: 0.45 minutes\n",
      " -> continue computing ADR for 5 of 5 stations ...\n",
      "\n",
      " -> Runtime: 0.25 minutes\n",
      "\n",
      " -> 67 2023-02-02 05:54:33.150000 \n",
      " -> sensitivity removed!\n",
      " -> response removed!\n"
     ]
    },
    {
     "data": {
      "text/plain": [
       "3 Trace(s) in Stream:\n",
       "PY.BSPF..HJZ | 2023-02-02T05:53:23.152800Z - 2023-02-02T05:56:23.127800Z | 40.0 Hz, 7200 samples\n",
       "PY.BSPF..HJN | 2023-02-02T05:53:23.152800Z - 2023-02-02T05:56:23.127800Z | 40.0 Hz, 7200 samples\n",
       "PY.BSPF..HJE | 2023-02-02T05:53:23.152800Z - 2023-02-02T05:56:23.127800Z | 40.0 Hz, 7200 samples"
      ]
     },
     "execution_count": 8,
     "metadata": {},
     "output_type": "execute_result"
    },
    {
     "name": "stdout",
     "output_type": "stream",
     "text": [
      " -> geting waveforms failed for PY.BPH05..BH* ...\n",
      " -> continue computing ADR for 13 of 14 stations ...\n",
      "\n",
      " -> Runtime: 0.67 minutes\n",
      " -> geting waveforms failed for PY.BPH05..BH* ...\n",
      " -> continue computing ADR for 8 of 9 stations ...\n",
      "\n",
      " -> Runtime: 0.42 minutes\n",
      " -> continue computing ADR for 5 of 5 stations ...\n",
      "\n",
      " -> Runtime: 0.27 minutes\n",
      "\n",
      " -> 68 2023-02-04 19:49:37.680000 \n",
      " -> sensitivity removed!\n",
      " -> response removed!\n"
     ]
    },
    {
     "data": {
      "text/plain": [
       "3 Trace(s) in Stream:\n",
       "PY.BSPF..HJZ | 2023-02-04T19:48:27.683000Z - 2023-02-04T19:51:27.658000Z | 40.0 Hz, 7200 samples\n",
       "PY.BSPF..HJN | 2023-02-04T19:48:27.683000Z - 2023-02-04T19:51:27.658000Z | 40.0 Hz, 7200 samples\n",
       "PY.BSPF..HJE | 2023-02-04T19:48:27.683000Z - 2023-02-04T19:51:27.658000Z | 40.0 Hz, 7200 samples"
      ]
     },
     "execution_count": 8,
     "metadata": {},
     "output_type": "execute_result"
    },
    {
     "name": "stdout",
     "output_type": "stream",
     "text": [
      " -> geting waveforms failed for PY.BPH05..BH* ...\n",
      " -> continue computing ADR for 13 of 14 stations ...\n",
      "\n",
      " -> Runtime: 0.68 minutes\n",
      " -> geting waveforms failed for PY.BPH05..BH* ...\n",
      " -> continue computing ADR for 8 of 9 stations ...\n",
      "\n",
      " -> Runtime: 0.41 minutes\n",
      " -> continue computing ADR for 5 of 5 stations ...\n",
      "\n",
      " -> Runtime: 0.25 minutes\n",
      "\n",
      " -> 69 2023-02-05 09:25:44.970000 \n",
      " -> sensitivity removed!\n",
      " -> response removed!\n"
     ]
    },
    {
     "data": {
      "text/plain": [
       "3 Trace(s) in Stream:\n",
       "PY.BSPF..HJZ | 2023-02-05T09:24:34.973000Z - 2023-02-05T09:27:34.948000Z | 40.0 Hz, 7200 samples\n",
       "PY.BSPF..HJN | 2023-02-05T09:24:34.973000Z - 2023-02-05T09:27:34.948000Z | 40.0 Hz, 7200 samples\n",
       "PY.BSPF..HJE | 2023-02-05T09:24:34.973000Z - 2023-02-05T09:27:34.948000Z | 40.0 Hz, 7200 samples"
      ]
     },
     "execution_count": 8,
     "metadata": {},
     "output_type": "execute_result"
    },
    {
     "name": "stdout",
     "output_type": "stream",
     "text": [
      " -> geting waveforms failed for PY.BPH05..BH* ...\n",
      " -> continue computing ADR for 13 of 14 stations ...\n",
      "\n",
      " -> Runtime: 0.7 minutes\n",
      " -> geting waveforms failed for PY.BPH05..BH* ...\n",
      " -> continue computing ADR for 8 of 9 stations ...\n",
      "\n",
      " -> Runtime: 0.42 minutes\n",
      " -> continue computing ADR for 5 of 5 stations ...\n",
      "\n",
      " -> Runtime: 0.26 minutes\n",
      "\n",
      " -> 70 2023-02-06 19:34:45.510000 \n",
      " -> sensitivity removed!\n",
      " -> response removed!\n"
     ]
    },
    {
     "data": {
      "text/plain": [
       "3 Trace(s) in Stream:\n",
       "PY.BSPF..HJZ | 2023-02-06T19:33:35.511700Z - 2023-02-06T19:36:35.486700Z | 40.0 Hz, 7200 samples\n",
       "PY.BSPF..HJN | 2023-02-06T19:33:35.511700Z - 2023-02-06T19:36:35.486700Z | 40.0 Hz, 7200 samples\n",
       "PY.BSPF..HJE | 2023-02-06T19:33:35.511700Z - 2023-02-06T19:36:35.486700Z | 40.0 Hz, 7200 samples"
      ]
     },
     "execution_count": 8,
     "metadata": {},
     "output_type": "execute_result"
    },
    {
     "name": "stdout",
     "output_type": "stream",
     "text": [
      " -> geting waveforms failed for PY.BPH05..BH* ...\n",
      " -> continue computing ADR for 13 of 14 stations ...\n",
      "\n",
      " -> Runtime: 0.7 minutes\n",
      " -> geting waveforms failed for PY.BPH05..BH* ...\n",
      " -> continue computing ADR for 8 of 9 stations ...\n",
      "\n",
      " -> Runtime: 0.42 minutes\n",
      " -> continue computing ADR for 5 of 5 stations ...\n",
      "\n",
      " -> Runtime: 0.26 minutes\n",
      "\n",
      " -> 71 2023-02-08 17:14:33.500000 \n",
      " -> sensitivity removed!\n",
      " -> response removed!\n"
     ]
    },
    {
     "data": {
      "text/plain": [
       "3 Trace(s) in Stream:\n",
       "PY.BSPF..HJZ | 2023-02-08T17:13:23.502100Z - 2023-02-08T17:16:23.477100Z | 40.0 Hz, 7200 samples\n",
       "PY.BSPF..HJN | 2023-02-08T17:13:23.502100Z - 2023-02-08T17:16:23.477100Z | 40.0 Hz, 7200 samples\n",
       "PY.BSPF..HJE | 2023-02-08T17:13:23.502100Z - 2023-02-08T17:16:23.477100Z | 40.0 Hz, 7200 samples"
      ]
     },
     "execution_count": 8,
     "metadata": {},
     "output_type": "execute_result"
    },
    {
     "name": "stdout",
     "output_type": "stream",
     "text": [
      " -> geting waveforms failed for PY.BPH05..BH* ...\n",
      " -> continue computing ADR for 13 of 14 stations ...\n",
      "\n",
      " -> Runtime: 0.68 minutes\n",
      " -> geting waveforms failed for PY.BPH05..BH* ...\n",
      " -> continue computing ADR for 8 of 9 stations ...\n",
      "\n",
      " -> Runtime: 0.44 minutes\n",
      " -> continue computing ADR for 5 of 5 stations ...\n",
      "\n",
      " -> Runtime: 0.26 minutes\n",
      "\n",
      " -> 72 2023-02-08 17:58:32.450000 \n",
      " -> sensitivity removed!\n",
      " -> response removed!\n"
     ]
    },
    {
     "data": {
      "text/plain": [
       "3 Trace(s) in Stream:\n",
       "PY.BSPF..HJZ | 2023-02-08T17:57:22.452100Z - 2023-02-08T18:00:22.427100Z | 40.0 Hz, 7200 samples\n",
       "PY.BSPF..HJN | 2023-02-08T17:57:22.452100Z - 2023-02-08T18:00:22.427100Z | 40.0 Hz, 7200 samples\n",
       "PY.BSPF..HJE | 2023-02-08T17:57:22.452100Z - 2023-02-08T18:00:22.427100Z | 40.0 Hz, 7200 samples"
      ]
     },
     "execution_count": 8,
     "metadata": {},
     "output_type": "execute_result"
    },
    {
     "name": "stdout",
     "output_type": "stream",
     "text": [
      " -> geting waveforms failed for PY.BPH05..BH* ...\n",
      " -> continue computing ADR for 13 of 14 stations ...\n",
      "\n",
      " -> Runtime: 0.67 minutes\n",
      " -> geting waveforms failed for PY.BPH05..BH* ...\n",
      " -> continue computing ADR for 8 of 9 stations ...\n",
      "\n",
      " -> Runtime: 0.43 minutes\n",
      " -> continue computing ADR for 5 of 5 stations ...\n",
      "\n",
      " -> Runtime: 0.25 minutes\n",
      "\n",
      " -> 73 2023-02-08 18:05:42.840000 \n",
      " -> sensitivity removed!\n",
      " -> response removed!\n"
     ]
    },
    {
     "data": {
      "text/plain": [
       "3 Trace(s) in Stream:\n",
       "PY.BSPF..HJZ | 2023-02-08T18:04:32.842100Z - 2023-02-08T18:07:32.817100Z | 40.0 Hz, 7200 samples\n",
       "PY.BSPF..HJN | 2023-02-08T18:04:32.842100Z - 2023-02-08T18:07:32.817100Z | 40.0 Hz, 7200 samples\n",
       "PY.BSPF..HJE | 2023-02-08T18:04:32.842000Z - 2023-02-08T18:07:32.817000Z | 40.0 Hz, 7200 samples"
      ]
     },
     "execution_count": 8,
     "metadata": {},
     "output_type": "execute_result"
    },
    {
     "name": "stdout",
     "output_type": "stream",
     "text": [
      " -> geting waveforms failed for PY.BPH05..BH* ...\n",
      " -> continue computing ADR for 13 of 14 stations ...\n",
      "\n",
      " -> Runtime: 0.68 minutes\n",
      " -> geting waveforms failed for PY.BPH05..BH* ...\n",
      " -> continue computing ADR for 8 of 9 stations ...\n",
      "\n",
      " -> Runtime: 0.41 minutes\n",
      " -> continue computing ADR for 5 of 5 stations ...\n",
      "\n",
      " -> Runtime: 0.25 minutes\n",
      "\n",
      " -> 74 2023-02-11 15:48:10.640000 \n",
      " -> sensitivity removed!\n",
      " -> response removed!\n"
     ]
    },
    {
     "data": {
      "text/plain": [
       "3 Trace(s) in Stream:\n",
       "PY.BSPF..HJZ | 2023-02-11T15:47:00.641800Z - 2023-02-11T15:50:00.616800Z | 40.0 Hz, 7200 samples\n",
       "PY.BSPF..HJN | 2023-02-11T15:47:00.641800Z - 2023-02-11T15:50:00.616800Z | 40.0 Hz, 7200 samples\n",
       "PY.BSPF..HJE | 2023-02-11T15:47:00.641800Z - 2023-02-11T15:50:00.616800Z | 40.0 Hz, 7200 samples"
      ]
     },
     "execution_count": 8,
     "metadata": {},
     "output_type": "execute_result"
    },
    {
     "name": "stdout",
     "output_type": "stream",
     "text": [
      " -> geting waveforms failed for PY.BPH05..BH* ...\n",
      " -> continue computing ADR for 13 of 14 stations ...\n",
      "\n",
      " -> Runtime: 0.71 minutes\n",
      " -> geting waveforms failed for PY.BPH05..BH* ...\n",
      " -> continue computing ADR for 8 of 9 stations ...\n",
      "\n",
      " -> Runtime: 0.42 minutes\n",
      " -> continue computing ADR for 5 of 5 stations ...\n",
      "\n",
      " -> Runtime: 0.26 minutes\n",
      "\n",
      " -> 75 2023-02-14 04:32:58.930000 \n",
      " -> sensitivity removed!\n",
      " -> response removed!\n"
     ]
    },
    {
     "data": {
      "text/plain": [
       "3 Trace(s) in Stream:\n",
       "PY.BSPF..HJZ | 2023-02-14T04:31:48.931900Z - 2023-02-14T04:34:48.906900Z | 40.0 Hz, 7200 samples\n",
       "PY.BSPF..HJN | 2023-02-14T04:31:48.931900Z - 2023-02-14T04:34:48.906900Z | 40.0 Hz, 7200 samples\n",
       "PY.BSPF..HJE | 2023-02-14T04:31:48.931900Z - 2023-02-14T04:34:48.906900Z | 40.0 Hz, 7200 samples"
      ]
     },
     "execution_count": 8,
     "metadata": {},
     "output_type": "execute_result"
    },
    {
     "name": "stdout",
     "output_type": "stream",
     "text": [
      " -> geting waveforms failed for PY.BPH05..BH* ...\n",
      " -> continue computing ADR for 13 of 14 stations ...\n",
      "\n",
      " -> Runtime: 0.69 minutes\n",
      " -> geting waveforms failed for PY.BPH05..BH* ...\n",
      " -> continue computing ADR for 8 of 9 stations ...\n",
      "\n",
      " -> Runtime: 0.46 minutes\n",
      " -> continue computing ADR for 5 of 5 stations ...\n",
      "\n",
      " -> Runtime: 0.26 minutes\n",
      "\n",
      " -> 76 2023-02-17 10:43:21.030000 \n",
      " -> sensitivity removed!\n",
      " -> response removed!\n"
     ]
    },
    {
     "data": {
      "text/plain": [
       "3 Trace(s) in Stream:\n",
       "PY.BSPF..HJZ | 2023-02-17T10:42:11.031900Z - 2023-02-17T10:45:11.006900Z | 40.0 Hz, 7200 samples\n",
       "PY.BSPF..HJN | 2023-02-17T10:42:11.031900Z - 2023-02-17T10:45:11.006900Z | 40.0 Hz, 7200 samples\n",
       "PY.BSPF..HJE | 2023-02-17T10:42:11.031900Z - 2023-02-17T10:45:11.006900Z | 40.0 Hz, 7200 samples"
      ]
     },
     "execution_count": 8,
     "metadata": {},
     "output_type": "execute_result"
    },
    {
     "name": "stdout",
     "output_type": "stream",
     "text": [
      " -> geting waveforms failed for PY.BPH05..BH* ...\n",
      " -> continue computing ADR for 13 of 14 stations ...\n",
      "\n",
      " -> Runtime: 0.69 minutes\n",
      " -> geting waveforms failed for PY.BPH05..BH* ...\n",
      " -> continue computing ADR for 8 of 9 stations ...\n",
      "\n",
      " -> Runtime: 0.4 minutes\n",
      " -> continue computing ADR for 5 of 5 stations ...\n",
      "\n",
      " -> Runtime: 0.26 minutes\n",
      "\n",
      " -> 77 2023-02-21 08:25:58.800000 \n",
      " -> sensitivity removed!\n",
      " -> response removed!\n"
     ]
    },
    {
     "data": {
      "text/plain": [
       "3 Trace(s) in Stream:\n",
       "PY.BSPF..HJZ | 2023-02-21T08:24:48.802500Z - 2023-02-21T08:27:48.777500Z | 40.0 Hz, 7200 samples\n",
       "PY.BSPF..HJN | 2023-02-21T08:24:48.802500Z - 2023-02-21T08:27:48.777500Z | 40.0 Hz, 7200 samples\n",
       "PY.BSPF..HJE | 2023-02-21T08:24:48.802500Z - 2023-02-21T08:27:48.777500Z | 40.0 Hz, 7200 samples"
      ]
     },
     "execution_count": 8,
     "metadata": {},
     "output_type": "execute_result"
    },
    {
     "name": "stdout",
     "output_type": "stream",
     "text": [
      " -> geting waveforms failed for PY.BPH05..BH* ...\n",
      " -> continue computing ADR for 13 of 14 stations ...\n",
      "\n",
      " -> Runtime: 0.68 minutes\n",
      " -> geting waveforms failed for PY.BPH05..BH* ...\n",
      " -> continue computing ADR for 8 of 9 stations ...\n",
      "\n",
      " -> Runtime: 0.43 minutes\n",
      " -> continue computing ADR for 5 of 5 stations ...\n",
      "\n",
      " -> Runtime: 0.25 minutes\n",
      "\n",
      " -> 78 2023-02-21 19:28:47.220000 \n",
      " -> sensitivity removed!\n",
      " -> response removed!\n"
     ]
    },
    {
     "data": {
      "text/plain": [
       "3 Trace(s) in Stream:\n",
       "PY.BSPF..HJZ | 2023-02-21T19:27:37.222500Z - 2023-02-21T19:30:37.197500Z | 40.0 Hz, 7200 samples\n",
       "PY.BSPF..HJN | 2023-02-21T19:27:37.222500Z - 2023-02-21T19:30:37.197500Z | 40.0 Hz, 7200 samples\n",
       "PY.BSPF..HJE | 2023-02-21T19:27:37.222500Z - 2023-02-21T19:30:37.197500Z | 40.0 Hz, 7200 samples"
      ]
     },
     "execution_count": 8,
     "metadata": {},
     "output_type": "execute_result"
    },
    {
     "name": "stdout",
     "output_type": "stream",
     "text": [
      " -> geting waveforms failed for PY.BPH05..BH* ...\n",
      " -> continue computing ADR for 13 of 14 stations ...\n",
      "\n",
      " -> Runtime: 0.67 minutes\n",
      " -> geting waveforms failed for PY.BPH05..BH* ...\n",
      " -> continue computing ADR for 8 of 9 stations ...\n",
      "\n",
      " -> Runtime: 0.42 minutes\n",
      " -> continue computing ADR for 5 of 5 stations ...\n",
      "\n",
      " -> Runtime: 0.26 minutes\n",
      "\n",
      " -> 79 2023-02-22 00:01:22.710000 \n",
      " -> sensitivity removed!\n",
      " -> response removed!\n"
     ]
    },
    {
     "data": {
      "text/plain": [
       "3 Trace(s) in Stream:\n",
       "PY.BSPF..HJZ | 2023-02-22T00:00:12.712400Z - 2023-02-22T00:03:12.687400Z | 40.0 Hz, 7200 samples\n",
       "PY.BSPF..HJN | 2023-02-22T00:00:12.712400Z - 2023-02-22T00:03:12.687400Z | 40.0 Hz, 7200 samples\n",
       "PY.BSPF..HJE | 2023-02-22T00:00:12.712400Z - 2023-02-22T00:03:12.687400Z | 40.0 Hz, 7200 samples"
      ]
     },
     "execution_count": 8,
     "metadata": {},
     "output_type": "execute_result"
    },
    {
     "name": "stdout",
     "output_type": "stream",
     "text": [
      " -> geting waveforms failed for PY.BPH05..BH* ...\n",
      " -> continue computing ADR for 13 of 14 stations ...\n",
      "\n",
      " -> Runtime: 0.71 minutes\n",
      " -> geting waveforms failed for PY.BPH05..BH* ...\n",
      " -> continue computing ADR for 8 of 9 stations ...\n",
      "\n",
      " -> Runtime: 0.42 minutes\n",
      " -> continue computing ADR for 5 of 5 stations ...\n",
      "\n",
      " -> Runtime: 0.25 minutes\n",
      "\n",
      " -> 80 2023-02-23 00:04:29.490000 \n",
      " -> sensitivity removed!\n",
      " -> response removed!\n"
     ]
    },
    {
     "data": {
      "text/plain": [
       "3 Trace(s) in Stream:\n",
       "PY.BSPF..HJZ | 2023-02-23T00:03:19.492400Z - 2023-02-23T00:06:19.467400Z | 40.0 Hz, 7200 samples\n",
       "PY.BSPF..HJN | 2023-02-23T00:03:19.492400Z - 2023-02-23T00:06:19.467400Z | 40.0 Hz, 7200 samples\n",
       "PY.BSPF..HJE | 2023-02-23T00:03:19.492400Z - 2023-02-23T00:06:19.467400Z | 40.0 Hz, 7200 samples"
      ]
     },
     "execution_count": 8,
     "metadata": {},
     "output_type": "execute_result"
    },
    {
     "name": "stdout",
     "output_type": "stream",
     "text": [
      " -> geting waveforms failed for PY.BPH05..BH* ...\n",
      " -> continue computing ADR for 13 of 14 stations ...\n",
      "\n",
      " -> Runtime: 0.68 minutes\n",
      " -> geting waveforms failed for PY.BPH05..BH* ...\n",
      " -> continue computing ADR for 8 of 9 stations ...\n",
      "\n",
      " -> Runtime: 0.43 minutes\n",
      " -> continue computing ADR for 5 of 5 stations ...\n",
      "\n",
      " -> Runtime: 0.27 minutes\n",
      "\n",
      " -> 81 2023-02-24 13:01:57.860000 \n",
      " -> sensitivity removed!\n",
      " -> response removed!\n"
     ]
    },
    {
     "data": {
      "text/plain": [
       "3 Trace(s) in Stream:\n",
       "PY.BSPF..HJZ | 2023-02-24T13:00:47.862300Z - 2023-02-24T13:03:47.837300Z | 40.0 Hz, 7200 samples\n",
       "PY.BSPF..HJN | 2023-02-24T13:00:47.862300Z - 2023-02-24T13:03:47.837300Z | 40.0 Hz, 7200 samples\n",
       "PY.BSPF..HJE | 2023-02-24T13:00:47.862300Z - 2023-02-24T13:03:47.837300Z | 40.0 Hz, 7200 samples"
      ]
     },
     "execution_count": 8,
     "metadata": {},
     "output_type": "execute_result"
    },
    {
     "name": "stdout",
     "output_type": "stream",
     "text": [
      " -> geting waveforms failed for PY.BPH05..BH* ...\n",
      " -> continue computing ADR for 13 of 14 stations ...\n",
      "\n",
      " -> Runtime: 0.69 minutes\n",
      " -> geting waveforms failed for PY.BPH05..BH* ...\n",
      " -> continue computing ADR for 8 of 9 stations ...\n",
      "\n",
      " -> Runtime: 0.41 minutes\n",
      " -> continue computing ADR for 5 of 5 stations ...\n",
      "\n",
      " -> Runtime: 0.25 minutes\n",
      "\n",
      " -> 82 2023-02-28 05:02:31.330000 \n",
      " -> sensitivity removed!\n",
      " -> response removed!\n"
     ]
    },
    {
     "data": {
      "text/plain": [
       "3 Trace(s) in Stream:\n",
       "PY.BSPF..HJZ | 2023-02-28T05:01:21.332400Z - 2023-02-28T05:04:21.307400Z | 40.0 Hz, 7200 samples\n",
       "PY.BSPF..HJN | 2023-02-28T05:01:21.332400Z - 2023-02-28T05:04:21.307400Z | 40.0 Hz, 7200 samples\n",
       "PY.BSPF..HJE | 2023-02-28T05:01:21.332400Z - 2023-02-28T05:04:21.307400Z | 40.0 Hz, 7200 samples"
      ]
     },
     "execution_count": 8,
     "metadata": {},
     "output_type": "execute_result"
    },
    {
     "name": "stdout",
     "output_type": "stream",
     "text": [
      " -> geting waveforms failed for PY.BPH05..BH* ...\n",
      " -> continue computing ADR for 13 of 14 stations ...\n",
      "\n",
      " -> Runtime: 0.7 minutes\n",
      " -> geting waveforms failed for PY.BPH05..BH* ...\n",
      " -> continue computing ADR for 8 of 9 stations ...\n",
      "\n",
      " -> Runtime: 0.43 minutes\n",
      " -> continue computing ADR for 5 of 5 stations ...\n",
      "\n",
      " -> Runtime: 0.27 minutes\n",
      "\n",
      " -> 83 2023-03-01 22:44:47.140000 \n",
      " -> sensitivity removed!\n",
      " -> response removed!\n"
     ]
    },
    {
     "data": {
      "text/plain": [
       "3 Trace(s) in Stream:\n",
       "PY.BSPF..HJZ | 2023-03-01T22:43:37.142400Z - 2023-03-01T22:46:37.117400Z | 40.0 Hz, 7200 samples\n",
       "PY.BSPF..HJN | 2023-03-01T22:43:37.142400Z - 2023-03-01T22:46:37.117400Z | 40.0 Hz, 7200 samples\n",
       "PY.BSPF..HJE | 2023-03-01T22:43:37.142400Z - 2023-03-01T22:46:37.117400Z | 40.0 Hz, 7200 samples"
      ]
     },
     "execution_count": 8,
     "metadata": {},
     "output_type": "execute_result"
    },
    {
     "name": "stdout",
     "output_type": "stream",
     "text": [
      " -> geting waveforms failed for PY.BPH05..BH* ...\n",
      " -> continue computing ADR for 13 of 14 stations ...\n",
      "\n",
      " -> Runtime: 0.7 minutes\n",
      " -> geting waveforms failed for PY.BPH05..BH* ...\n",
      " -> continue computing ADR for 8 of 9 stations ...\n",
      "\n",
      " -> Runtime: 0.41 minutes\n",
      " -> continue computing ADR for 5 of 5 stations ...\n",
      "\n",
      " -> Runtime: 0.25 minutes\n",
      "\n",
      " -> 84 2023-03-01 22:49:03.580000 \n",
      " -> sensitivity removed!\n",
      " -> response removed!\n"
     ]
    },
    {
     "data": {
      "text/plain": [
       "3 Trace(s) in Stream:\n",
       "PY.BSPF..HJZ | 2023-03-01T22:47:53.582400Z - 2023-03-01T22:50:53.557400Z | 40.0 Hz, 7200 samples\n",
       "PY.BSPF..HJN | 2023-03-01T22:47:53.582400Z - 2023-03-01T22:50:53.557400Z | 40.0 Hz, 7200 samples\n",
       "PY.BSPF..HJE | 2023-03-01T22:47:53.582400Z - 2023-03-01T22:50:53.557400Z | 40.0 Hz, 7200 samples"
      ]
     },
     "execution_count": 8,
     "metadata": {},
     "output_type": "execute_result"
    },
    {
     "name": "stdout",
     "output_type": "stream",
     "text": [
      " -> geting waveforms failed for PY.BPH05..BH* ...\n",
      " -> continue computing ADR for 13 of 14 stations ...\n",
      "\n",
      " -> Runtime: 0.68 minutes\n",
      " -> geting waveforms failed for PY.BPH05..BH* ...\n",
      " -> continue computing ADR for 8 of 9 stations ...\n",
      "\n",
      " -> Runtime: 0.43 minutes\n",
      " -> continue computing ADR for 5 of 5 stations ...\n",
      "\n",
      " -> Runtime: 0.29 minutes\n",
      "\n",
      " -> 85 2023-03-01 23:44:31.150000 \n",
      " -> sensitivity removed!\n",
      " -> response removed!\n"
     ]
    },
    {
     "data": {
      "text/plain": [
       "3 Trace(s) in Stream:\n",
       "PY.BSPF..HJZ | 2023-03-01T23:43:21.152400Z - 2023-03-01T23:46:21.127400Z | 40.0 Hz, 7200 samples\n",
       "PY.BSPF..HJN | 2023-03-01T23:43:21.152400Z - 2023-03-01T23:46:21.127400Z | 40.0 Hz, 7200 samples\n",
       "PY.BSPF..HJE | 2023-03-01T23:43:21.152400Z - 2023-03-01T23:46:21.127400Z | 40.0 Hz, 7200 samples"
      ]
     },
     "execution_count": 8,
     "metadata": {},
     "output_type": "execute_result"
    },
    {
     "name": "stdout",
     "output_type": "stream",
     "text": [
      " -> geting waveforms failed for PY.BPH05..BH* ...\n",
      " -> continue computing ADR for 13 of 14 stations ...\n",
      "\n",
      " -> Runtime: 0.67 minutes\n",
      " -> geting waveforms failed for PY.BPH05..BH* ...\n",
      " -> continue computing ADR for 8 of 9 stations ...\n",
      "\n",
      " -> Runtime: 0.43 minutes\n",
      " -> continue computing ADR for 5 of 5 stations ...\n",
      "\n",
      " -> Runtime: 0.26 minutes\n",
      "\n",
      " -> 86 2023-03-05 05:10:11.700000 \n",
      " -> sensitivity removed!\n",
      " -> response removed!\n"
     ]
    },
    {
     "data": {
      "text/plain": [
       "3 Trace(s) in Stream:\n",
       "PY.BSPF..HJZ | 2023-03-05T05:09:01.702200Z - 2023-03-05T05:12:01.677200Z | 40.0 Hz, 7200 samples\n",
       "PY.BSPF..HJN | 2023-03-05T05:09:01.702200Z - 2023-03-05T05:12:01.677200Z | 40.0 Hz, 7200 samples\n",
       "PY.BSPF..HJE | 2023-03-05T05:09:01.702200Z - 2023-03-05T05:12:01.677200Z | 40.0 Hz, 7200 samples"
      ]
     },
     "execution_count": 8,
     "metadata": {},
     "output_type": "execute_result"
    },
    {
     "name": "stdout",
     "output_type": "stream",
     "text": [
      " -> geting waveforms failed for PY.BPH05..BH* ...\n",
      " -> continue computing ADR for 13 of 14 stations ...\n",
      "\n",
      " -> Runtime: 0.71 minutes\n",
      " -> geting waveforms failed for PY.BPH05..BH* ...\n",
      " -> continue computing ADR for 8 of 9 stations ...\n",
      "\n",
      " -> Runtime: 0.43 minutes\n",
      " -> continue computing ADR for 5 of 5 stations ...\n",
      "\n",
      " -> Runtime: 0.26 minutes\n",
      "\n",
      " -> 87 2023-03-08 04:07:32.850000 \n",
      " -> sensitivity removed!\n",
      " -> response removed!\n"
     ]
    },
    {
     "data": {
      "text/plain": [
       "3 Trace(s) in Stream:\n",
       "PY.BSPF..HJZ | 2023-03-08T04:06:22.851900Z - 2023-03-08T04:09:22.826900Z | 40.0 Hz, 7200 samples\n",
       "PY.BSPF..HJN | 2023-03-08T04:06:22.851900Z - 2023-03-08T04:09:22.826900Z | 40.0 Hz, 7200 samples\n",
       "PY.BSPF..HJE | 2023-03-08T04:06:22.851900Z - 2023-03-08T04:09:22.826900Z | 40.0 Hz, 7200 samples"
      ]
     },
     "execution_count": 8,
     "metadata": {},
     "output_type": "execute_result"
    },
    {
     "name": "stdout",
     "output_type": "stream",
     "text": [
      " -> geting waveforms failed for PY.BPH05..BH* ...\n",
      " -> continue computing ADR for 13 of 14 stations ...\n",
      "\n",
      " -> Runtime: 0.71 minutes\n",
      " -> geting waveforms failed for PY.BPH05..BH* ...\n",
      " -> continue computing ADR for 8 of 9 stations ...\n",
      "\n",
      " -> Runtime: 0.44 minutes\n",
      " -> continue computing ADR for 5 of 5 stations ...\n",
      "\n",
      " -> Runtime: 0.26 minutes\n",
      "\n",
      " -> 88 2023-03-08 19:14:49.230000 \n",
      " -> sensitivity removed!\n",
      " -> response removed!\n"
     ]
    },
    {
     "data": {
      "text/plain": [
       "3 Trace(s) in Stream:\n",
       "PY.BSPF..HJZ | 2023-03-08T19:13:39.231900Z - 2023-03-08T19:16:39.206900Z | 40.0 Hz, 7200 samples\n",
       "PY.BSPF..HJN | 2023-03-08T19:13:39.231900Z - 2023-03-08T19:16:39.206900Z | 40.0 Hz, 7200 samples\n",
       "PY.BSPF..HJE | 2023-03-08T19:13:39.231900Z - 2023-03-08T19:16:39.206900Z | 40.0 Hz, 7200 samples"
      ]
     },
     "execution_count": 8,
     "metadata": {},
     "output_type": "execute_result"
    },
    {
     "name": "stdout",
     "output_type": "stream",
     "text": [
      " -> geting waveforms failed for PY.BPH05..BH* ...\n",
      " -> continue computing ADR for 13 of 14 stations ...\n",
      "\n",
      " -> Runtime: 0.66 minutes\n",
      " -> geting waveforms failed for PY.BPH05..BH* ...\n",
      " -> continue computing ADR for 8 of 9 stations ...\n",
      "\n",
      " -> Runtime: 0.42 minutes\n",
      " -> continue computing ADR for 5 of 5 stations ...\n",
      "\n",
      " -> Runtime: 0.26 minutes\n",
      "\n",
      " -> 89 2023-03-09 10:33:35.540000 \n",
      " -> sensitivity removed!\n",
      " -> response removed!\n"
     ]
    },
    {
     "data": {
      "text/plain": [
       "3 Trace(s) in Stream:\n",
       "PY.BSPF..HJZ | 2023-03-09T10:32:25.541900Z - 2023-03-09T10:35:25.516900Z | 40.0 Hz, 7200 samples\n",
       "PY.BSPF..HJN | 2023-03-09T10:32:25.541900Z - 2023-03-09T10:35:25.516900Z | 40.0 Hz, 7200 samples\n",
       "PY.BSPF..HJE | 2023-03-09T10:32:25.541900Z - 2023-03-09T10:35:25.516900Z | 40.0 Hz, 7200 samples"
      ]
     },
     "execution_count": 8,
     "metadata": {},
     "output_type": "execute_result"
    },
    {
     "name": "stdout",
     "output_type": "stream",
     "text": [
      " -> geting waveforms failed for PY.BPH05..BH* ...\n",
      " -> continue computing ADR for 13 of 14 stations ...\n",
      "\n",
      " -> Runtime: 0.7 minutes\n",
      " -> geting waveforms failed for PY.BPH05..BH* ...\n",
      " -> continue computing ADR for 8 of 9 stations ...\n",
      "\n",
      " -> Runtime: 0.43 minutes\n",
      " -> continue computing ADR for 5 of 5 stations ...\n",
      "\n",
      " -> Runtime: 0.26 minutes\n",
      "\n",
      " -> 90 2023-03-09 16:15:50.370000 \n",
      " -> sensitivity removed!\n",
      " -> response removed!\n"
     ]
    },
    {
     "data": {
      "text/plain": [
       "3 Trace(s) in Stream:\n",
       "PY.BSPF..HJZ | 2023-03-09T16:14:40.371900Z - 2023-03-09T16:17:40.346900Z | 40.0 Hz, 7200 samples\n",
       "PY.BSPF..HJN | 2023-03-09T16:14:40.371900Z - 2023-03-09T16:17:40.346900Z | 40.0 Hz, 7200 samples\n",
       "PY.BSPF..HJE | 2023-03-09T16:14:40.371900Z - 2023-03-09T16:17:40.346900Z | 40.0 Hz, 7200 samples"
      ]
     },
     "execution_count": 8,
     "metadata": {},
     "output_type": "execute_result"
    },
    {
     "name": "stdout",
     "output_type": "stream",
     "text": [
      " -> geting waveforms failed for PY.BPH05..BH* ...\n",
      " -> continue computing ADR for 13 of 14 stations ...\n",
      "\n",
      " -> Runtime: 0.68 minutes\n",
      " -> geting waveforms failed for PY.BPH05..BH* ...\n",
      " -> continue computing ADR for 8 of 9 stations ...\n",
      "\n",
      " -> Runtime: 0.42 minutes\n",
      " -> continue computing ADR for 5 of 5 stations ...\n",
      "\n",
      " -> Runtime: 0.26 minutes\n",
      "\n",
      " -> 91 2023-03-09 19:26:19.550000 \n",
      " -> sensitivity removed!\n",
      " -> response removed!\n"
     ]
    },
    {
     "data": {
      "text/plain": [
       "3 Trace(s) in Stream:\n",
       "PY.BSPF..HJZ | 2023-03-09T19:25:09.551900Z - 2023-03-09T19:28:09.526900Z | 40.0 Hz, 7200 samples\n",
       "PY.BSPF..HJN | 2023-03-09T19:25:09.551900Z - 2023-03-09T19:28:09.526900Z | 40.0 Hz, 7200 samples\n",
       "PY.BSPF..HJE | 2023-03-09T19:25:09.551900Z - 2023-03-09T19:28:09.526900Z | 40.0 Hz, 7200 samples"
      ]
     },
     "execution_count": 8,
     "metadata": {},
     "output_type": "execute_result"
    },
    {
     "name": "stdout",
     "output_type": "stream",
     "text": [
      " -> geting waveforms failed for PY.BPH05..BH* ...\n",
      " -> continue computing ADR for 13 of 14 stations ...\n",
      "\n",
      " -> Runtime: 0.66 minutes\n",
      " -> geting waveforms failed for PY.BPH05..BH* ...\n",
      " -> continue computing ADR for 8 of 9 stations ...\n",
      "\n",
      " -> Runtime: 0.44 minutes\n",
      " -> continue computing ADR for 5 of 5 stations ...\n",
      "\n",
      " -> Runtime: 0.25 minutes\n",
      "\n",
      " -> 92 2023-03-10 01:13:29.650000 \n",
      " -> sensitivity removed!\n",
      " -> response removed!\n"
     ]
    },
    {
     "data": {
      "text/plain": [
       "3 Trace(s) in Stream:\n",
       "PY.BSPF..HJZ | 2023-03-10T01:12:19.651800Z - 2023-03-10T01:15:19.626800Z | 40.0 Hz, 7200 samples\n",
       "PY.BSPF..HJN | 2023-03-10T01:12:19.651800Z - 2023-03-10T01:15:19.626800Z | 40.0 Hz, 7200 samples\n",
       "PY.BSPF..HJE | 2023-03-10T01:12:19.651800Z - 2023-03-10T01:15:19.626800Z | 40.0 Hz, 7200 samples"
      ]
     },
     "execution_count": 8,
     "metadata": {},
     "output_type": "execute_result"
    },
    {
     "name": "stdout",
     "output_type": "stream",
     "text": [
      " -> geting waveforms failed for PY.BPH05..BH* ...\n",
      " -> continue computing ADR for 13 of 14 stations ...\n",
      "\n",
      " -> Runtime: 0.71 minutes\n",
      " -> geting waveforms failed for PY.BPH05..BH* ...\n",
      " -> continue computing ADR for 8 of 9 stations ...\n",
      "\n",
      " -> Runtime: 0.41 minutes\n",
      " -> continue computing ADR for 5 of 5 stations ...\n",
      "\n",
      " -> Runtime: 0.26 minutes\n",
      "\n",
      " -> 93 2023-03-10 06:49:37.800000 \n",
      " -> sensitivity removed!\n",
      " -> response removed!\n"
     ]
    },
    {
     "data": {
      "text/plain": [
       "3 Trace(s) in Stream:\n",
       "PY.BSPF..HJZ | 2023-03-10T06:48:27.801800Z - 2023-03-10T06:51:27.776800Z | 40.0 Hz, 7200 samples\n",
       "PY.BSPF..HJN | 2023-03-10T06:48:27.801800Z - 2023-03-10T06:51:27.776800Z | 40.0 Hz, 7200 samples\n",
       "PY.BSPF..HJE | 2023-03-10T06:48:27.801800Z - 2023-03-10T06:51:27.776800Z | 40.0 Hz, 7200 samples"
      ]
     },
     "execution_count": 8,
     "metadata": {},
     "output_type": "execute_result"
    },
    {
     "name": "stdout",
     "output_type": "stream",
     "text": [
      " -> geting waveforms failed for PY.BPH05..BH* ...\n",
      " -> continue computing ADR for 13 of 14 stations ...\n",
      "\n",
      " -> Runtime: 0.67 minutes\n",
      " -> geting waveforms failed for PY.BPH05..BH* ...\n",
      " -> continue computing ADR for 8 of 9 stations ...\n",
      "\n",
      " -> Runtime: 0.42 minutes\n",
      " -> continue computing ADR for 5 of 5 stations ...\n",
      "\n",
      " -> Runtime: 0.25 minutes\n",
      "\n",
      " -> 94 2023-03-10 14:32:11.630000 \n",
      " -> sensitivity removed!\n",
      " -> response removed!\n"
     ]
    },
    {
     "data": {
      "text/plain": [
       "3 Trace(s) in Stream:\n",
       "PY.BSPF..HJZ | 2023-03-10T14:31:01.631800Z - 2023-03-10T14:34:01.606800Z | 40.0 Hz, 7200 samples\n",
       "PY.BSPF..HJN | 2023-03-10T14:31:01.631800Z - 2023-03-10T14:34:01.606800Z | 40.0 Hz, 7200 samples\n",
       "PY.BSPF..HJE | 2023-03-10T14:31:01.631800Z - 2023-03-10T14:34:01.606800Z | 40.0 Hz, 7200 samples"
      ]
     },
     "execution_count": 8,
     "metadata": {},
     "output_type": "execute_result"
    },
    {
     "name": "stdout",
     "output_type": "stream",
     "text": [
      " -> geting waveforms failed for PY.BPH05..BH* ...\n",
      " -> continue computing ADR for 13 of 14 stations ...\n",
      "\n",
      " -> Runtime: 0.66 minutes\n",
      " -> geting waveforms failed for PY.BPH05..BH* ...\n",
      " -> continue computing ADR for 8 of 9 stations ...\n",
      "\n",
      " -> Runtime: 0.42 minutes\n",
      " -> continue computing ADR for 5 of 5 stations ...\n",
      "\n",
      " -> Runtime: 0.26 minutes\n",
      "\n",
      " -> 95 2023-03-10 14:33:14.420000 \n",
      " -> sensitivity removed!\n",
      " -> response removed!\n"
     ]
    },
    {
     "data": {
      "text/plain": [
       "3 Trace(s) in Stream:\n",
       "PY.BSPF..HJZ | 2023-03-10T14:32:04.421800Z - 2023-03-10T14:35:04.396800Z | 40.0 Hz, 7200 samples\n",
       "PY.BSPF..HJN | 2023-03-10T14:32:04.421800Z - 2023-03-10T14:35:04.396800Z | 40.0 Hz, 7200 samples\n",
       "PY.BSPF..HJE | 2023-03-10T14:32:04.421800Z - 2023-03-10T14:35:04.396800Z | 40.0 Hz, 7200 samples"
      ]
     },
     "execution_count": 8,
     "metadata": {},
     "output_type": "execute_result"
    },
    {
     "name": "stdout",
     "output_type": "stream",
     "text": [
      " -> geting waveforms failed for PY.BPH05..BH* ...\n",
      " -> continue computing ADR for 13 of 14 stations ...\n",
      "\n",
      " -> Runtime: 0.7 minutes\n",
      " -> geting waveforms failed for PY.BPH05..BH* ...\n",
      " -> continue computing ADR for 8 of 9 stations ...\n",
      "\n",
      " -> Runtime: 0.43 minutes\n",
      " -> continue computing ADR for 5 of 5 stations ...\n",
      "\n",
      " -> Runtime: 0.25 minutes\n",
      "\n",
      " -> 96 2023-03-10 15:02:31.670000 \n",
      " -> sensitivity removed!\n",
      " -> response removed!\n"
     ]
    },
    {
     "data": {
      "text/plain": [
       "3 Trace(s) in Stream:\n",
       "PY.BSPF..HJZ | 2023-03-10T15:01:21.671800Z - 2023-03-10T15:04:21.646800Z | 40.0 Hz, 7200 samples\n",
       "PY.BSPF..HJN | 2023-03-10T15:01:21.671800Z - 2023-03-10T15:04:21.646800Z | 40.0 Hz, 7200 samples\n",
       "PY.BSPF..HJE | 2023-03-10T15:01:21.671800Z - 2023-03-10T15:04:21.646800Z | 40.0 Hz, 7200 samples"
      ]
     },
     "execution_count": 8,
     "metadata": {},
     "output_type": "execute_result"
    },
    {
     "name": "stdout",
     "output_type": "stream",
     "text": [
      " -> geting waveforms failed for PY.BPH05..BH* ...\n",
      " -> continue computing ADR for 13 of 14 stations ...\n",
      "\n",
      " -> Runtime: 0.65 minutes\n",
      " -> geting waveforms failed for PY.BPH05..BH* ...\n",
      " -> continue computing ADR for 8 of 9 stations ...\n",
      "\n",
      " -> Runtime: 0.43 minutes\n",
      " -> continue computing ADR for 5 of 5 stations ...\n",
      "\n",
      " -> Runtime: 0.26 minutes\n",
      "\n",
      " -> 97 2023-03-15 00:03:03.070000 \n",
      " -> sensitivity removed!\n",
      " -> response removed!\n"
     ]
    },
    {
     "data": {
      "text/plain": [
       "3 Trace(s) in Stream:\n",
       "PY.BSPF..HJZ | 2023-03-15T00:01:53.071700Z - 2023-03-15T00:04:53.046700Z | 40.0 Hz, 7200 samples\n",
       "PY.BSPF..HJN | 2023-03-15T00:01:53.071700Z - 2023-03-15T00:04:53.046700Z | 40.0 Hz, 7200 samples\n",
       "PY.BSPF..HJE | 2023-03-15T00:01:53.071700Z - 2023-03-15T00:04:53.046700Z | 40.0 Hz, 7200 samples"
      ]
     },
     "execution_count": 8,
     "metadata": {},
     "output_type": "execute_result"
    },
    {
     "name": "stdout",
     "output_type": "stream",
     "text": [
      " -> geting waveforms failed for PY.BPH05..BH* ...\n",
      " -> continue computing ADR for 13 of 14 stations ...\n",
      "\n",
      " -> Runtime: 0.7 minutes\n",
      " -> geting waveforms failed for PY.BPH05..BH* ...\n",
      " -> continue computing ADR for 8 of 9 stations ...\n",
      "\n",
      " -> Runtime: 0.42 minutes\n",
      " -> continue computing ADR for 5 of 5 stations ...\n",
      "\n",
      " -> Runtime: 0.26 minutes\n",
      "\n",
      " -> 98 2023-03-18 04:52:19.010000 \n",
      " -> sensitivity removed!\n",
      " -> response removed!\n"
     ]
    },
    {
     "data": {
      "text/plain": [
       "3 Trace(s) in Stream:\n",
       "PY.BSPF..HJZ | 2023-03-18T04:51:09.011600Z - 2023-03-18T04:54:08.986600Z | 40.0 Hz, 7200 samples\n",
       "PY.BSPF..HJN | 2023-03-18T04:51:09.011600Z - 2023-03-18T04:54:08.986600Z | 40.0 Hz, 7200 samples\n",
       "PY.BSPF..HJE | 2023-03-18T04:51:09.011600Z - 2023-03-18T04:54:08.986600Z | 40.0 Hz, 7200 samples"
      ]
     },
     "execution_count": 8,
     "metadata": {},
     "output_type": "execute_result"
    },
    {
     "name": "stdout",
     "output_type": "stream",
     "text": [
      " -> geting waveforms failed for PY.BPH05..BH* ...\n",
      " -> continue computing ADR for 13 of 14 stations ...\n",
      "\n",
      " -> Runtime: 0.73 minutes\n",
      " -> geting waveforms failed for PY.BPH05..BH* ...\n",
      " -> continue computing ADR for 8 of 9 stations ...\n",
      "\n",
      " -> Runtime: 0.43 minutes\n",
      " -> continue computing ADR for 5 of 5 stations ...\n",
      "\n",
      " -> Runtime: 0.25 minutes\n",
      "\n",
      " -> 99 2023-03-21 04:13:16.460000 \n",
      " -> sensitivity removed!\n",
      " -> response removed!\n"
     ]
    },
    {
     "data": {
      "text/plain": [
       "3 Trace(s) in Stream:\n",
       "PY.BSPF..HJZ | 2023-03-21T04:12:06.462800Z - 2023-03-21T04:15:06.437800Z | 40.0 Hz, 7200 samples\n",
       "PY.BSPF..HJN | 2023-03-21T04:12:06.462800Z - 2023-03-21T04:15:06.437800Z | 40.0 Hz, 7200 samples\n",
       "PY.BSPF..HJE | 2023-03-21T04:12:06.462800Z - 2023-03-21T04:15:06.437800Z | 40.0 Hz, 7200 samples"
      ]
     },
     "execution_count": 8,
     "metadata": {},
     "output_type": "execute_result"
    },
    {
     "name": "stdout",
     "output_type": "stream",
     "text": [
      " -> geting waveforms failed for PY.BPH05..BH* ...\n",
      " -> continue computing ADR for 13 of 14 stations ...\n",
      "\n",
      " -> Runtime: 0.71 minutes\n",
      " -> geting waveforms failed for PY.BPH05..BH* ...\n",
      " -> continue computing ADR for 8 of 9 stations ...\n",
      "\n",
      " -> Runtime: 0.43 minutes\n",
      " -> continue computing ADR for 5 of 5 stations ...\n",
      "\n",
      " -> Runtime: 0.26 minutes\n",
      "\n",
      " -> 100 2023-03-21 15:34:08.600000 \n",
      " -> sensitivity removed!\n",
      " -> response removed!\n"
     ]
    },
    {
     "data": {
      "text/plain": [
       "3 Trace(s) in Stream:\n",
       "PY.BSPF..HJZ | 2023-03-21T15:32:58.602800Z - 2023-03-21T15:35:58.577800Z | 40.0 Hz, 7200 samples\n",
       "PY.BSPF..HJN | 2023-03-21T15:32:58.602800Z - 2023-03-21T15:35:58.577800Z | 40.0 Hz, 7200 samples\n",
       "PY.BSPF..HJE | 2023-03-21T15:32:58.602800Z - 2023-03-21T15:35:58.577800Z | 40.0 Hz, 7200 samples"
      ]
     },
     "execution_count": 8,
     "metadata": {},
     "output_type": "execute_result"
    },
    {
     "name": "stdout",
     "output_type": "stream",
     "text": [
      " -> geting waveforms failed for PY.BPH05..BH* ...\n",
      " -> continue computing ADR for 13 of 14 stations ...\n",
      "\n",
      " -> Runtime: 0.7 minutes\n",
      " -> geting waveforms failed for PY.BPH05..BH* ...\n",
      " -> continue computing ADR for 8 of 9 stations ...\n",
      "\n",
      " -> Runtime: 0.42 minutes\n",
      " -> continue computing ADR for 5 of 5 stations ...\n",
      "\n",
      " -> Runtime: 0.26 minutes\n",
      "\n",
      " -> 101 2023-03-21 19:29:23.360000 \n",
      " -> sensitivity removed!\n",
      " -> response removed!\n"
     ]
    },
    {
     "data": {
      "text/plain": [
       "3 Trace(s) in Stream:\n",
       "PY.BSPF..HJZ | 2023-03-21T19:28:13.362800Z - 2023-03-21T19:31:13.337800Z | 40.0 Hz, 7200 samples\n",
       "PY.BSPF..HJN | 2023-03-21T19:28:13.362800Z - 2023-03-21T19:31:13.337800Z | 40.0 Hz, 7200 samples\n",
       "PY.BSPF..HJE | 2023-03-21T19:28:13.362800Z - 2023-03-21T19:31:13.337800Z | 40.0 Hz, 7200 samples"
      ]
     },
     "execution_count": 8,
     "metadata": {},
     "output_type": "execute_result"
    },
    {
     "name": "stdout",
     "output_type": "stream",
     "text": [
      " -> geting waveforms failed for PY.BPH05..BH* ...\n",
      " -> continue computing ADR for 13 of 14 stations ...\n",
      "\n",
      " -> Runtime: 0.65 minutes\n",
      " -> geting waveforms failed for PY.BPH05..BH* ...\n",
      " -> continue computing ADR for 8 of 9 stations ...\n",
      "\n",
      " -> Runtime: 0.42 minutes\n",
      " -> continue computing ADR for 5 of 5 stations ...\n",
      "\n",
      " -> Runtime: 0.26 minutes\n",
      "\n",
      " -> 102 2023-03-21 20:47:34.330000 \n",
      " -> sensitivity removed!\n",
      " -> response removed!\n"
     ]
    },
    {
     "data": {
      "text/plain": [
       "3 Trace(s) in Stream:\n",
       "PY.BSPF..HJZ | 2023-03-21T20:46:24.332800Z - 2023-03-21T20:49:24.307800Z | 40.0 Hz, 7200 samples\n",
       "PY.BSPF..HJN | 2023-03-21T20:46:24.332800Z - 2023-03-21T20:49:24.307800Z | 40.0 Hz, 7200 samples\n",
       "PY.BSPF..HJE | 2023-03-21T20:46:24.332800Z - 2023-03-21T20:49:24.307800Z | 40.0 Hz, 7200 samples"
      ]
     },
     "execution_count": 8,
     "metadata": {},
     "output_type": "execute_result"
    },
    {
     "name": "stdout",
     "output_type": "stream",
     "text": [
      " -> geting waveforms failed for PY.BPH05..BH* ...\n",
      " -> continue computing ADR for 13 of 14 stations ...\n",
      "\n",
      " -> Runtime: 0.67 minutes\n",
      " -> geting waveforms failed for PY.BPH05..BH* ...\n",
      " -> continue computing ADR for 8 of 9 stations ...\n",
      "\n",
      " -> Runtime: 0.43 minutes\n",
      " -> continue computing ADR for 5 of 5 stations ...\n",
      "\n",
      " -> Runtime: 0.27 minutes\n",
      "\n",
      " -> 103 2023-03-21 23:24:40.990000 \n",
      " -> sensitivity removed!\n",
      " -> response removed!\n"
     ]
    },
    {
     "data": {
      "text/plain": [
       "3 Trace(s) in Stream:\n",
       "PY.BSPF..HJZ | 2023-03-21T23:23:30.992000Z - 2023-03-21T23:26:30.967000Z | 40.0 Hz, 7200 samples\n",
       "PY.BSPF..HJN | 2023-03-21T23:23:30.992000Z - 2023-03-21T23:26:30.967000Z | 40.0 Hz, 7200 samples\n",
       "PY.BSPF..HJE | 2023-03-21T23:23:30.992000Z - 2023-03-21T23:26:30.967000Z | 40.0 Hz, 7200 samples"
      ]
     },
     "execution_count": 8,
     "metadata": {},
     "output_type": "execute_result"
    },
    {
     "name": "stdout",
     "output_type": "stream",
     "text": [
      " -> geting waveforms failed for PY.BPH05..BH* ...\n",
      " -> continue computing ADR for 13 of 14 stations ...\n",
      "\n",
      " -> Runtime: 0.7 minutes\n",
      " -> geting waveforms failed for PY.BPH05..BH* ...\n",
      " -> continue computing ADR for 8 of 9 stations ...\n",
      "\n",
      " -> Runtime: 0.42 minutes\n",
      " -> continue computing ADR for 5 of 5 stations ...\n",
      "\n",
      " -> Runtime: 0.25 minutes\n",
      "\n",
      " -> 104 2023-03-22 03:21:34.900000 \n",
      " -> sensitivity removed!\n",
      " -> response removed!\n"
     ]
    },
    {
     "data": {
      "text/plain": [
       "3 Trace(s) in Stream:\n",
       "PY.BSPF..HJZ | 2023-03-22T03:20:24.902000Z - 2023-03-22T03:23:24.877000Z | 40.0 Hz, 7200 samples\n",
       "PY.BSPF..HJN | 2023-03-22T03:20:24.902000Z - 2023-03-22T03:23:24.877000Z | 40.0 Hz, 7200 samples\n",
       "PY.BSPF..HJE | 2023-03-22T03:20:24.902000Z - 2023-03-22T03:23:24.877000Z | 40.0 Hz, 7200 samples"
      ]
     },
     "execution_count": 8,
     "metadata": {},
     "output_type": "execute_result"
    },
    {
     "name": "stdout",
     "output_type": "stream",
     "text": [
      " -> geting waveforms failed for PY.BPH05..BH* ...\n",
      " -> continue computing ADR for 13 of 14 stations ...\n",
      "\n",
      " -> Runtime: 0.7 minutes\n",
      " -> geting waveforms failed for PY.BPH05..BH* ...\n",
      " -> continue computing ADR for 8 of 9 stations ...\n",
      "\n",
      " -> Runtime: 0.43 minutes\n",
      " -> continue computing ADR for 5 of 5 stations ...\n",
      "\n",
      " -> Runtime: 0.26 minutes\n",
      "\n",
      " -> 105 2023-03-22 20:13:47.950000 \n",
      " -> sensitivity removed!\n",
      " -> response removed!\n"
     ]
    },
    {
     "data": {
      "text/plain": [
       "3 Trace(s) in Stream:\n",
       "PY.BSPF..HJZ | 2023-03-22T20:12:37.952000Z - 2023-03-22T20:15:37.927000Z | 40.0 Hz, 7200 samples\n",
       "PY.BSPF..HJN | 2023-03-22T20:12:37.952000Z - 2023-03-22T20:15:37.927000Z | 40.0 Hz, 7200 samples\n",
       "PY.BSPF..HJE | 2023-03-22T20:12:37.952000Z - 2023-03-22T20:15:37.927000Z | 40.0 Hz, 7200 samples"
      ]
     },
     "execution_count": 8,
     "metadata": {},
     "output_type": "execute_result"
    },
    {
     "name": "stdout",
     "output_type": "stream",
     "text": [
      " -> geting waveforms failed for PY.BPH05..BH* ...\n",
      " -> continue computing ADR for 13 of 14 stations ...\n",
      "\n",
      " -> Runtime: 0.66 minutes\n",
      " -> geting waveforms failed for PY.BPH05..BH* ...\n",
      " -> continue computing ADR for 8 of 9 stations ...\n",
      "\n",
      " -> Runtime: 0.42 minutes\n",
      " -> continue computing ADR for 5 of 5 stations ...\n",
      "\n",
      " -> Runtime: 0.28 minutes\n",
      "\n",
      " -> 106 2023-03-26 07:47:55.340000 \n",
      " -> sensitivity removed!\n",
      " -> response removed!\n"
     ]
    },
    {
     "data": {
      "text/plain": [
       "3 Trace(s) in Stream:\n",
       "PY.BSPF..HJZ | 2023-03-26T07:46:45.342000Z - 2023-03-26T07:49:45.317000Z | 40.0 Hz, 7200 samples\n",
       "PY.BSPF..HJN | 2023-03-26T07:46:45.342000Z - 2023-03-26T07:49:45.317000Z | 40.0 Hz, 7200 samples\n",
       "PY.BSPF..HJE | 2023-03-26T07:46:45.342000Z - 2023-03-26T07:49:45.317000Z | 40.0 Hz, 7200 samples"
      ]
     },
     "execution_count": 8,
     "metadata": {},
     "output_type": "execute_result"
    },
    {
     "name": "stdout",
     "output_type": "stream",
     "text": [
      " -> geting waveforms failed for PY.BPH05..BH* ...\n",
      " -> continue computing ADR for 13 of 14 stations ...\n",
      "\n",
      " -> Runtime: 0.7 minutes\n",
      " -> geting waveforms failed for PY.BPH05..BH* ...\n",
      " -> continue computing ADR for 8 of 9 stations ...\n",
      "\n",
      " -> Runtime: 0.43 minutes\n",
      " -> continue computing ADR for 5 of 5 stations ...\n",
      "\n",
      " -> Runtime: 0.27 minutes\n",
      "\n",
      " -> 107 2023-03-26 17:50:18.500000 \n",
      " -> sensitivity removed!\n",
      " -> response removed!\n"
     ]
    },
    {
     "data": {
      "text/plain": [
       "3 Trace(s) in Stream:\n",
       "PY.BSPF..HJZ | 2023-03-26T17:49:08.503100Z - 2023-03-26T17:52:08.478100Z | 40.0 Hz, 7200 samples\n",
       "PY.BSPF..HJN | 2023-03-26T17:49:08.503100Z - 2023-03-26T17:52:08.478100Z | 40.0 Hz, 7200 samples\n",
       "PY.BSPF..HJE | 2023-03-26T17:49:08.503100Z - 2023-03-26T17:52:08.478100Z | 40.0 Hz, 7200 samples"
      ]
     },
     "execution_count": 8,
     "metadata": {},
     "output_type": "execute_result"
    },
    {
     "name": "stdout",
     "output_type": "stream",
     "text": [
      " -> geting waveforms failed for PY.BPH05..BH* ...\n",
      " -> continue computing ADR for 13 of 14 stations ...\n",
      "\n",
      " -> Runtime: 0.69 minutes\n",
      " -> geting waveforms failed for PY.BPH05..BH* ...\n",
      " -> continue computing ADR for 8 of 9 stations ...\n",
      "\n",
      " -> Runtime: 0.43 minutes\n",
      " -> continue computing ADR for 5 of 5 stations ...\n",
      "\n",
      " -> Runtime: 0.26 minutes\n",
      "\n",
      " -> 108 2023-03-29 19:40:21.650000 \n",
      " -> sensitivity removed!\n",
      " -> response removed!\n"
     ]
    },
    {
     "data": {
      "text/plain": [
       "3 Trace(s) in Stream:\n",
       "PY.BSPF..HJZ | 2023-03-29T19:39:11.653400Z - 2023-03-29T19:42:11.628400Z | 40.0 Hz, 7200 samples\n",
       "PY.BSPF..HJN | 2023-03-29T19:39:11.653400Z - 2023-03-29T19:42:11.628400Z | 40.0 Hz, 7200 samples\n",
       "PY.BSPF..HJE | 2023-03-29T19:39:11.653400Z - 2023-03-29T19:42:11.628400Z | 40.0 Hz, 7200 samples"
      ]
     },
     "execution_count": 8,
     "metadata": {},
     "output_type": "execute_result"
    },
    {
     "name": "stdout",
     "output_type": "stream",
     "text": [
      " -> geting waveforms failed for PY.BPH05..BH* ...\n",
      " -> continue computing ADR for 13 of 14 stations ...\n",
      "\n",
      " -> Runtime: 0.71 minutes\n",
      " -> geting waveforms failed for PY.BPH05..BH* ...\n",
      " -> continue computing ADR for 8 of 9 stations ...\n",
      "\n",
      " -> Runtime: 0.41 minutes\n",
      " -> continue computing ADR for 5 of 5 stations ...\n",
      "\n",
      " -> Runtime: 0.26 minutes\n",
      "\n",
      " -> 109 2023-03-31 12:05:39.920000 \n",
      " -> sensitivity removed!\n",
      " -> response removed!\n"
     ]
    },
    {
     "data": {
      "text/plain": [
       "3 Trace(s) in Stream:\n",
       "PY.BSPF..HJZ | 2023-03-31T12:04:29.923300Z - 2023-03-31T12:07:29.898300Z | 40.0 Hz, 7200 samples\n",
       "PY.BSPF..HJN | 2023-03-31T12:04:29.923300Z - 2023-03-31T12:07:29.898300Z | 40.0 Hz, 7200 samples\n",
       "PY.BSPF..HJE | 2023-03-31T12:04:29.923300Z - 2023-03-31T12:07:29.898300Z | 40.0 Hz, 7200 samples"
      ]
     },
     "execution_count": 8,
     "metadata": {},
     "output_type": "execute_result"
    },
    {
     "name": "stdout",
     "output_type": "stream",
     "text": [
      " -> geting waveforms failed for PY.BPH05..BH* ...\n",
      " -> continue computing ADR for 13 of 14 stations ...\n",
      "\n",
      " -> Runtime: 0.74 minutes\n",
      " -> geting waveforms failed for PY.BPH05..BH* ...\n",
      " -> continue computing ADR for 8 of 9 stations ...\n",
      "\n",
      " -> Runtime: 0.43 minutes\n",
      " -> continue computing ADR for 5 of 5 stations ...\n",
      "\n",
      " -> Runtime: 0.25 minutes\n",
      "\n",
      " -> 110 2023-04-01 01:16:07.810000 \n",
      " -> sensitivity removed!\n",
      " -> Failed to load inventory!\n",
      " -> Failed to load waveforms!\n",
      " -> failed to rotate to ZNE\n",
      "\n",
      " -> 111 2023-04-01 11:48:24.670000 \n",
      " -> sensitivity removed!\n",
      " -> Failed to load inventory!\n",
      " -> Failed to load waveforms!\n",
      " -> failed to rotate to ZNE\n",
      "\n",
      " -> 112 2023-04-05 09:09:45.750000 \n",
      " -> sensitivity removed!\n",
      " -> response removed!\n",
      " -> geting waveforms failed for PY.BPH05..BH* ...\n",
      " -> continue computing ADR for 13 of 14 stations ...\n",
      "\n",
      " -> Runtime: 0.68 minutes\n",
      " -> geting waveforms failed for PY.BPH05..BH* ...\n",
      " -> continue computing ADR for 8 of 9 stations ...\n",
      "\n",
      " -> Runtime: 0.43 minutes\n",
      " -> continue computing ADR for 5 of 5 stations ...\n",
      "\n",
      " -> Runtime: 0.26 minutes\n",
      "\n",
      " -> 113 2023-04-07 04:30:00.640000 \n",
      " -> sensitivity removed!\n",
      " -> response removed!\n",
      " -> geting waveforms failed for PY.BPH05..BH* ...\n",
      " -> continue computing ADR for 13 of 14 stations ...\n",
      "\n",
      " -> Runtime: 0.66 minutes\n",
      " -> geting waveforms failed for PY.BPH05..BH* ...\n",
      " -> continue computing ADR for 8 of 9 stations ...\n",
      "\n",
      " -> Runtime: 0.4 minutes\n",
      " -> continue computing ADR for 5 of 5 stations ...\n",
      "\n",
      " -> Runtime: 0.25 minutes\n",
      "\n",
      " -> 114 2023-04-08 02:31:46.740000 \n",
      " -> sensitivity removed!\n",
      " -> response removed!\n",
      " -> geting waveforms failed for PY.BPH05..BH* ...\n",
      " -> continue computing ADR for 13 of 14 stations ...\n",
      "\n",
      " -> Runtime: 0.66 minutes\n",
      " -> geting waveforms failed for PY.BPH05..BH* ...\n",
      " -> continue computing ADR for 8 of 9 stations ...\n",
      "\n",
      " -> Runtime: 0.41 minutes\n",
      " -> continue computing ADR for 5 of 5 stations ...\n",
      "\n",
      " -> Runtime: 0.25 minutes\n",
      "\n",
      " -> 115 2023-04-08 15:05:15.180000 \n",
      " -> sensitivity removed!\n",
      " -> response removed!\n",
      " -> geting waveforms failed for PY.BPH05..BH* ...\n",
      " -> continue computing ADR for 13 of 14 stations ...\n",
      "\n",
      " -> Runtime: 0.65 minutes\n",
      " -> geting waveforms failed for PY.BPH05..BH* ...\n",
      " -> continue computing ADR for 8 of 9 stations ...\n",
      "\n",
      " -> Runtime: 0.4 minutes\n",
      " -> continue computing ADR for 5 of 5 stations ...\n",
      "\n",
      " -> Runtime: 0.25 minutes\n",
      "\n",
      " -> 116 2023-04-10 14:50:54.400000 \n",
      " -> sensitivity removed!\n",
      " -> response removed!\n",
      " -> geting waveforms failed for PY.BPH05..BH* ...\n",
      " -> continue computing ADR for 13 of 14 stations ...\n",
      "\n",
      " -> Runtime: 0.68 minutes\n",
      " -> geting waveforms failed for PY.BPH05..BH* ...\n",
      " -> continue computing ADR for 8 of 9 stations ...\n",
      "\n",
      " -> Runtime: 0.42 minutes\n",
      " -> continue computing ADR for 5 of 5 stations ...\n",
      "\n",
      " -> Runtime: 0.26 minutes\n",
      "\n",
      " -> 117 2023-04-10 20:40:43.210000 \n",
      " -> sensitivity removed!\n",
      " -> response removed!\n",
      " -> geting waveforms failed for PY.BPH05..BH* ...\n",
      " -> continue computing ADR for 13 of 14 stations ...\n",
      "\n",
      " -> Runtime: 0.65 minutes\n",
      " -> geting waveforms failed for PY.BPH05..BH* ...\n",
      " -> continue computing ADR for 8 of 9 stations ...\n",
      "\n",
      " -> Runtime: 0.41 minutes\n",
      " -> continue computing ADR for 5 of 5 stations ...\n",
      "\n",
      " -> Runtime: 0.26 minutes\n",
      "\n",
      " -> 118 2023-04-13 00:01:31.900000 \n",
      " -> sensitivity removed!\n",
      " -> response removed!\n",
      " -> geting waveforms failed for PY.BPH05..BH* ...\n",
      " -> continue computing ADR for 13 of 14 stations ...\n",
      "\n",
      " -> Runtime: 0.68 minutes\n",
      " -> geting waveforms failed for PY.BPH05..BH* ...\n",
      " -> continue computing ADR for 8 of 9 stations ...\n",
      "\n",
      " -> Runtime: 0.41 minutes\n",
      " -> continue computing ADR for 5 of 5 stations ...\n",
      "\n",
      " -> Runtime: 0.25 minutes\n",
      "\n",
      " -> 119 2023-04-16 16:13:50.220000 \n",
      " -> sensitivity removed!\n",
      " -> response removed!\n",
      " -> geting waveforms failed for PY.BPH05..BH* ...\n",
      " -> geting waveforms failed for PY.BPH10..BH* ...\n",
      " -> continue computing ADR for 12 of 14 stations ...\n",
      "\n",
      " -> Runtime: 0.62 minutes\n",
      " -> geting waveforms failed for PY.BPH05..BH* ...\n",
      " -> continue computing ADR for 8 of 9 stations ...\n",
      "\n",
      " -> Runtime: 0.39 minutes\n",
      " -> continue computing ADR for 5 of 5 stations ...\n",
      "\n",
      " -> Runtime: 0.25 minutes\n",
      "\n",
      " -> 120 2023-04-17 18:52:36.930000 \n",
      " -> sensitivity removed!\n",
      " -> response removed!\n",
      " -> geting waveforms failed for PY.BPH05..BH* ...\n",
      " -> geting waveforms failed for PY.BPH10..BH* ...\n",
      " -> continue computing ADR for 12 of 14 stations ...\n",
      "\n",
      " -> Runtime: 0.65 minutes\n",
      " -> geting waveforms failed for PY.BPH05..BH* ...\n",
      " -> continue computing ADR for 8 of 9 stations ...\n",
      "\n",
      " -> Runtime: 0.41 minutes\n",
      " -> continue computing ADR for 5 of 5 stations ...\n",
      "\n",
      " -> Runtime: 0.26 minutes\n",
      "\n",
      " -> 121 2023-04-18 10:03:29.380000 \n",
      " -> sensitivity removed!\n",
      " -> response removed!\n",
      " -> geting waveforms failed for PY.BPH05..BH* ...\n",
      " -> geting waveforms failed for PY.BPH10..BH* ...\n",
      " -> continue computing ADR for 12 of 14 stations ...\n",
      "\n",
      " -> Runtime: 0.63 minutes\n",
      " -> geting waveforms failed for PY.BPH05..BH* ...\n",
      " -> continue computing ADR for 8 of 9 stations ...\n",
      "\n",
      " -> Runtime: 0.41 minutes\n",
      " -> continue computing ADR for 5 of 5 stations ...\n",
      "\n",
      " -> Runtime: 0.25 minutes\n",
      "\n",
      " -> 122 2023-04-21 05:58:29.320000 \n",
      " -> sensitivity removed!\n",
      " -> response removed!\n",
      " -> geting waveforms failed for PY.BPH05..BH* ...\n",
      " -> geting waveforms failed for PY.BPH10..BH* ...\n",
      " -> continue computing ADR for 12 of 14 stations ...\n",
      "\n",
      " -> Runtime: 0.66 minutes\n",
      " -> geting waveforms failed for PY.BPH05..BH* ...\n",
      " -> continue computing ADR for 8 of 9 stations ...\n",
      "\n",
      " -> Runtime: 0.41 minutes\n",
      " -> continue computing ADR for 5 of 5 stations ...\n",
      "\n",
      " -> Runtime: 0.26 minutes\n",
      "\n",
      " -> 123 2023-04-22 17:24:34.470000 \n",
      " -> sensitivity removed!\n",
      " -> response removed!\n",
      " -> geting waveforms failed for PY.BPH05..BH* ...\n",
      " -> geting waveforms failed for PY.BPH10..BH* ...\n",
      " -> continue computing ADR for 12 of 14 stations ...\n",
      "\n",
      " -> Runtime: 0.64 minutes\n",
      " -> geting waveforms failed for PY.BPH05..BH* ...\n",
      " -> continue computing ADR for 8 of 9 stations ...\n",
      "\n",
      " -> Runtime: 0.41 minutes\n",
      " -> continue computing ADR for 5 of 5 stations ...\n",
      "\n",
      " -> Runtime: 0.26 minutes\n",
      "\n",
      " -> 124 2023-04-24 15:19:56.380000 \n",
      " -> sensitivity removed!\n",
      " -> response removed!\n",
      " -> geting waveforms failed for PY.BPH05..BH* ...\n",
      " -> geting waveforms failed for PY.BPH10..BH* ...\n",
      " -> continue computing ADR for 12 of 14 stations ...\n",
      "\n",
      " -> Runtime: 0.63 minutes\n",
      " -> geting waveforms failed for PY.BPH05..BH* ...\n",
      " -> continue computing ADR for 8 of 9 stations ...\n",
      "\n",
      " -> Runtime: 0.41 minutes\n",
      " -> continue computing ADR for 5 of 5 stations ...\n",
      "\n",
      " -> Runtime: 0.26 minutes\n",
      "\n",
      " -> 125 2023-04-24 16:38:11.080000 \n",
      " -> sensitivity removed!\n",
      " -> response removed!\n",
      " -> geting waveforms failed for PY.BPH05..BH* ...\n",
      " -> geting waveforms failed for PY.BPH10..BH* ...\n",
      " -> continue computing ADR for 12 of 14 stations ...\n",
      "\n",
      " -> Runtime: 0.61 minutes\n",
      " -> geting waveforms failed for PY.BPH05..BH* ...\n",
      " -> continue computing ADR for 8 of 9 stations ...\n",
      "\n",
      " -> Runtime: 0.41 minutes\n",
      " -> continue computing ADR for 5 of 5 stations ...\n",
      "\n",
      " -> Runtime: 0.25 minutes\n",
      "\n",
      " -> 126 2023-04-25 11:55:47.190000 \n",
      " -> sensitivity removed!\n",
      " -> response removed!\n",
      " -> geting waveforms failed for PY.BPH05..BH* ...\n",
      " -> geting waveforms failed for PY.BPH10..BH* ...\n",
      " -> continue computing ADR for 12 of 14 stations ...\n",
      "\n",
      " -> Runtime: 0.64 minutes\n",
      " -> geting waveforms failed for PY.BPH05..BH* ...\n",
      " -> continue computing ADR for 8 of 9 stations ...\n",
      "\n",
      " -> Runtime: 0.42 minutes\n",
      " -> continue computing ADR for 5 of 5 stations ...\n",
      "\n",
      " -> Runtime: 0.26 minutes\n",
      "\n",
      " -> 127 2023-04-25 11:57:29.970000 \n",
      " -> sensitivity removed!\n",
      " -> response removed!\n",
      " -> geting waveforms failed for PY.BPH05..BH* ...\n",
      " -> geting waveforms failed for PY.BPH10..BH* ...\n",
      " -> continue computing ADR for 12 of 14 stations ...\n",
      "\n",
      " -> Runtime: 0.63 minutes\n",
      " -> geting waveforms failed for PY.BPH05..BH* ...\n",
      " -> continue computing ADR for 8 of 9 stations ...\n",
      "\n",
      " -> Runtime: 0.42 minutes\n",
      " -> continue computing ADR for 5 of 5 stations ...\n",
      "\n",
      " -> Runtime: 0.26 minutes\n",
      "\n",
      " -> 128 2023-04-27 02:18:01.040000 \n",
      " -> sensitivity removed!\n",
      " -> response removed!\n",
      " -> geting waveforms failed for PY.BPH05..BH* ...\n",
      " -> geting waveforms failed for PY.BPH10..BH* ...\n",
      " -> continue computing ADR for 12 of 14 stations ...\n",
      "\n",
      " -> Runtime: 0.65 minutes\n",
      " -> geting waveforms failed for PY.BPH05..BH* ...\n",
      " -> continue computing ADR for 8 of 9 stations ...\n",
      "\n",
      " -> Runtime: 0.42 minutes\n",
      " -> continue computing ADR for 5 of 5 stations ...\n",
      "\n",
      " -> Runtime: 0.25 minutes\n",
      "\n",
      " -> 129 2023-04-27 10:01:52.470000 \n",
      " -> sensitivity removed!\n",
      " -> response removed!\n",
      " -> geting waveforms failed for PY.BPH05..BH* ...\n",
      " -> geting waveforms failed for PY.BPH10..BH* ...\n",
      " -> continue computing ADR for 12 of 14 stations ...\n",
      "\n",
      " -> Runtime: 0.61 minutes\n",
      " -> geting waveforms failed for PY.BPH05..BH* ...\n",
      " -> continue computing ADR for 8 of 9 stations ...\n",
      "\n",
      " -> Runtime: 0.39 minutes\n",
      " -> continue computing ADR for 5 of 5 stations ...\n",
      "\n",
      " -> Runtime: 0.24 minutes\n",
      "\n",
      " -> 130 2023-04-28 18:53:05.460000 \n",
      " -> sensitivity removed!\n",
      " -> response removed!\n",
      " -> geting waveforms failed for PY.BPH05..BH* ...\n",
      " -> geting waveforms failed for PY.BPH10..BH* ...\n",
      " -> continue computing ADR for 12 of 14 stations ...\n",
      "\n",
      " -> Runtime: 0.68 minutes\n",
      " -> geting waveforms failed for PY.BPH05..BH* ...\n",
      " -> continue computing ADR for 8 of 9 stations ...\n",
      "\n",
      " -> Runtime: 0.43 minutes\n",
      " -> continue computing ADR for 5 of 5 stations ...\n",
      "\n",
      " -> Runtime: 0.24 minutes\n",
      "\n",
      " -> 131 2023-04-29 00:27:39.340000 \n",
      " -> sensitivity removed!\n",
      " -> response removed!\n",
      " -> geting waveforms failed for PY.BPH05..BH* ...\n",
      " -> geting waveforms failed for PY.BPH10..BH* ...\n",
      " -> continue computing ADR for 12 of 14 stations ...\n",
      "\n",
      " -> Runtime: 0.62 minutes\n",
      " -> geting waveforms failed for PY.BPH05..BH* ...\n",
      " -> continue computing ADR for 8 of 9 stations ...\n",
      "\n",
      " -> Runtime: 0.41 minutes\n",
      " -> continue computing ADR for 5 of 5 stations ...\n",
      "\n",
      " -> Runtime: 0.26 minutes\n",
      "\n",
      " -> 132 2023-04-29 21:23:33.630000 \n",
      " -> sensitivity removed!\n",
      " -> response removed!\n",
      " -> geting waveforms failed for PY.BPH05..BH* ...\n",
      " -> geting waveforms failed for PY.BPH10..BH* ...\n",
      " -> geting waveforms failed for PY.BPH12..BH* ...\n",
      " -> continue computing ADR for 11 of 14 stations ...\n",
      "\n",
      " -> Runtime: 0.59 minutes\n",
      " -> geting waveforms failed for PY.BPH05..BH* ...\n",
      " -> continue computing ADR for 8 of 9 stations ...\n",
      "\n",
      " -> Runtime: 0.42 minutes\n",
      " -> continue computing ADR for 5 of 5 stations ...\n",
      "\n",
      " -> Runtime: 0.26 minutes\n",
      "\n",
      " -> 133 2023-04-30 07:26:56.390000 \n",
      " -> sensitivity removed!\n",
      " -> response removed!\n",
      " -> geting waveforms failed for PY.BPH05..BH* ...\n",
      " -> geting waveforms failed for PY.BPH10..BH* ...\n",
      " -> geting waveforms failed for PY.BPH12..BH* ...\n",
      " -> continue computing ADR for 11 of 14 stations ...\n",
      "\n",
      " -> Runtime: 0.61 minutes\n",
      " -> geting waveforms failed for PY.BPH05..BH* ...\n",
      " -> continue computing ADR for 8 of 9 stations ...\n",
      "\n",
      " -> Runtime: 0.42 minutes\n",
      " -> continue computing ADR for 5 of 5 stations ...\n",
      "\n",
      " -> Runtime: 0.26 minutes\n",
      "\n",
      " -> 134 2023-04-30 07:27:16.590000 \n",
      " -> sensitivity removed!\n",
      " -> response removed!\n",
      " -> geting waveforms failed for PY.BPH05..BH* ...\n",
      " -> geting waveforms failed for PY.BPH10..BH* ...\n",
      " -> geting waveforms failed for PY.BPH12..BH* ...\n",
      " -> continue computing ADR for 11 of 14 stations ...\n",
      "\n",
      " -> Runtime: 0.62 minutes\n",
      " -> geting waveforms failed for PY.BPH05..BH* ...\n",
      " -> continue computing ADR for 8 of 9 stations ...\n",
      "\n",
      " -> Runtime: 0.42 minutes\n",
      " -> continue computing ADR for 5 of 5 stations ...\n",
      "\n",
      " -> Runtime: 0.26 minutes\n",
      "\n",
      " -> 135 2023-04-30 22:11:15.960000 \n",
      " -> sensitivity removed!\n",
      " -> response removed!\n",
      " -> geting waveforms failed for PY.BPH05..BH* ...\n",
      " -> geting waveforms failed for PY.BPH10..BH* ...\n",
      " -> geting waveforms failed for PY.BPH12..BH* ...\n",
      " -> continue computing ADR for 11 of 14 stations ...\n",
      "\n",
      " -> Runtime: 0.61 minutes\n",
      " -> geting waveforms failed for PY.BPH05..BH* ...\n",
      " -> continue computing ADR for 8 of 9 stations ...\n",
      "\n",
      " -> Runtime: 0.43 minutes\n",
      " -> continue computing ADR for 5 of 5 stations ...\n",
      "\n",
      " -> Runtime: 0.26 minutes\n",
      "\n",
      " -> 136 2023-05-01 21:44:44.310000 \n",
      " -> sensitivity removed!\n",
      " -> response removed!\n",
      " -> geting waveforms failed for PY.BPH05..BH* ...\n",
      " -> geting waveforms failed for PY.BPH10..BH* ...\n",
      " -> geting waveforms failed for PY.BPH12..BH* ...\n",
      " -> continue computing ADR for 11 of 14 stations ...\n",
      "\n",
      " -> Runtime: 0.62 minutes\n",
      " -> geting waveforms failed for PY.BPH05..BH* ...\n",
      " -> continue computing ADR for 8 of 9 stations ...\n",
      "\n",
      " -> Runtime: 0.41 minutes\n",
      " -> continue computing ADR for 5 of 5 stations ...\n",
      "\n",
      " -> Runtime: 0.26 minutes\n",
      "\n",
      " -> 137 2023-05-03 19:56:58.660000 \n",
      " -> sensitivity removed!\n",
      " -> response removed!\n",
      " -> geting waveforms failed for PY.BPH05..BH* ...\n",
      " -> geting waveforms failed for PY.BPH10..BH* ...\n",
      " -> continue computing ADR for 12 of 14 stations ...\n",
      "\n",
      " -> Runtime: 0.63 minutes\n",
      " -> geting waveforms failed for PY.BPH05..BH* ...\n",
      " -> continue computing ADR for 8 of 9 stations ...\n",
      "\n",
      " -> Runtime: 0.46 minutes\n",
      " -> continue computing ADR for 5 of 5 stations ...\n",
      "\n",
      " -> Runtime: 0.25 minutes\n",
      "\n",
      " -> 138 2023-05-05 21:42:19.180000 \n",
      " -> sensitivity removed!\n",
      " -> response removed!\n",
      " -> geting waveforms failed for PY.BPH05..BH* ...\n",
      " -> geting waveforms failed for PY.BPH10..BH* ...\n",
      " -> continue computing ADR for 12 of 14 stations ...\n",
      "\n",
      " -> Runtime: 0.66 minutes\n",
      " -> geting waveforms failed for PY.BPH05..BH* ...\n",
      " -> continue computing ADR for 8 of 9 stations ...\n",
      "\n",
      " -> Runtime: 0.4 minutes\n",
      " -> continue computing ADR for 5 of 5 stations ...\n",
      "\n",
      " -> Runtime: 0.3 minutes\n",
      "\n",
      " -> 139 2023-05-09 03:01:09.100000 \n",
      " -> sensitivity removed!\n",
      " -> response removed!\n",
      " -> geting waveforms failed for PY.BPH05..BH* ...\n",
      " -> geting waveforms failed for PY.BPH10..BH* ...\n",
      " -> continue computing ADR for 12 of 14 stations ...\n",
      "\n",
      " -> Runtime: 0.65 minutes\n",
      " -> geting waveforms failed for PY.BPH05..BH* ...\n",
      " -> continue computing ADR for 8 of 9 stations ...\n",
      "\n",
      " -> Runtime: 0.4 minutes\n",
      " -> continue computing ADR for 5 of 5 stations ...\n",
      "\n",
      " -> Runtime: 0.25 minutes\n",
      "\n",
      " -> 140 2023-05-10 19:48:55.040000 \n",
      " -> sensitivity removed!\n",
      " -> response removed!\n",
      " -> geting waveforms failed for PY.BPH05..BH* ...\n",
      " -> geting waveforms failed for PY.BPH10..BH* ...\n",
      " -> continue computing ADR for 12 of 14 stations ...\n",
      "\n",
      " -> Runtime: 0.64 minutes\n",
      " -> geting waveforms failed for PY.BPH05..BH* ...\n",
      " -> continue computing ADR for 8 of 9 stations ...\n",
      "\n",
      " -> Runtime: 0.45 minutes\n",
      " -> continue computing ADR for 5 of 5 stations ...\n",
      "\n",
      " -> Runtime: 0.28 minutes\n",
      "\n",
      " -> 141 2023-05-12 01:32:53.070000 \n",
      " -> sensitivity removed!\n",
      " -> response removed!\n",
      " -> geting waveforms failed for PY.BPH05..BH* ...\n",
      " -> geting waveforms failed for PY.BPH10..BH* ...\n",
      " -> continue computing ADR for 12 of 14 stations ...\n",
      "\n",
      " -> Runtime: 0.64 minutes\n",
      " -> geting waveforms failed for PY.BPH05..BH* ...\n",
      " -> continue computing ADR for 8 of 9 stations ...\n",
      "\n",
      " -> Runtime: 0.43 minutes\n",
      " -> continue computing ADR for 5 of 5 stations ...\n",
      "\n",
      " -> Runtime: 0.25 minutes\n",
      "\n",
      " -> 142 2023-05-12 17:30:43.140000 \n",
      " -> sensitivity removed!\n",
      " -> response removed!\n",
      " -> geting waveforms failed for PY.BPH05..BH* ...\n",
      " -> geting waveforms failed for PY.BPH10..BH* ...\n",
      " -> continue computing ADR for 12 of 14 stations ...\n",
      "\n",
      " -> Runtime: 0.62 minutes\n",
      " -> geting waveforms failed for PY.BPH05..BH* ...\n",
      " -> continue computing ADR for 8 of 9 stations ...\n",
      "\n",
      " -> Runtime: 0.42 minutes\n",
      " -> continue computing ADR for 5 of 5 stations ...\n",
      "\n",
      " -> Runtime: 0.26 minutes\n",
      "\n",
      " -> 143 2023-05-12 20:39:51.900000 \n",
      " -> sensitivity removed!\n",
      " -> response removed!\n",
      " -> geting waveforms failed for PY.BPH05..BH* ...\n",
      " -> geting waveforms failed for PY.BPH10..BH* ...\n",
      " -> continue computing ADR for 12 of 14 stations ...\n",
      "\n",
      " -> Runtime: 0.64 minutes\n",
      " -> geting waveforms failed for PY.BPH05..BH* ...\n",
      " -> continue computing ADR for 8 of 9 stations ...\n",
      "\n",
      " -> Runtime: 0.41 minutes\n",
      " -> continue computing ADR for 5 of 5 stations ...\n",
      "\n",
      " -> Runtime: 0.26 minutes\n",
      "\n",
      " -> 144 2023-05-13 23:06:14.550000 \n",
      " -> sensitivity removed!\n",
      " -> response removed!\n",
      " -> geting waveforms failed for PY.BPH05..BH* ...\n",
      " -> geting waveforms failed for PY.BPH10..BH* ...\n",
      " -> continue computing ADR for 12 of 14 stations ...\n",
      "\n",
      " -> Runtime: 0.64 minutes\n",
      " -> geting waveforms failed for PY.BPH05..BH* ...\n",
      " -> continue computing ADR for 8 of 9 stations ...\n",
      "\n",
      " -> Runtime: 0.39 minutes\n",
      " -> continue computing ADR for 5 of 5 stations ...\n",
      "\n",
      " -> Runtime: 0.25 minutes\n",
      "\n",
      " -> 145 2023-05-14 02:10:24.170000 \n",
      " -> sensitivity removed!\n",
      " -> response removed!\n",
      " -> geting waveforms failed for PY.BPH05..BH* ...\n",
      " -> geting waveforms failed for PY.BPH10..BH* ...\n",
      " -> continue computing ADR for 12 of 14 stations ...\n",
      "\n",
      " -> Runtime: 0.62 minutes\n",
      " -> geting waveforms failed for PY.BPH05..BH* ...\n",
      " -> continue computing ADR for 8 of 9 stations ...\n",
      "\n",
      " -> Runtime: 0.4 minutes\n",
      " -> continue computing ADR for 5 of 5 stations ...\n",
      "\n",
      " -> Runtime: 0.28 minutes\n",
      "\n",
      " -> 146 2023-05-14 11:17:06.660000 \n",
      " -> sensitivity removed!\n",
      " -> response removed!\n",
      " -> geting waveforms failed for PY.BPH05..BH* ...\n",
      " -> geting waveforms failed for PY.BPH10..BH* ...\n",
      " -> continue computing ADR for 12 of 14 stations ...\n",
      "\n",
      " -> Runtime: 0.65 minutes\n",
      " -> geting waveforms failed for PY.BPH05..BH* ...\n",
      " -> continue computing ADR for 8 of 9 stations ...\n",
      "\n",
      " -> Runtime: 0.41 minutes\n",
      " -> continue computing ADR for 5 of 5 stations ...\n",
      "\n",
      " -> Runtime: 0.25 minutes\n",
      "\n",
      " -> 147 2023-05-15 08:21:09.720000 \n",
      " -> sensitivity removed!\n",
      " -> response removed!\n",
      " -> geting waveforms failed for PY.BPH05..BH* ...\n",
      " -> geting waveforms failed for PY.BPH10..BH* ...\n",
      " -> continue computing ADR for 12 of 14 stations ...\n",
      "\n",
      " -> Runtime: 0.64 minutes\n",
      " -> geting waveforms failed for PY.BPH05..BH* ...\n",
      " -> continue computing ADR for 8 of 9 stations ...\n",
      "\n",
      " -> Runtime: 0.42 minutes\n",
      " -> continue computing ADR for 5 of 5 stations ...\n",
      "\n",
      " -> Runtime: 0.25 minutes\n",
      "\n",
      " -> 148 2023-05-15 08:38:30.190000 \n",
      " -> sensitivity removed!\n",
      " -> response removed!\n",
      " -> geting waveforms failed for PY.BPH05..BH* ...\n",
      " -> geting waveforms failed for PY.BPH10..BH* ...\n",
      " -> continue computing ADR for 12 of 14 stations ...\n",
      "\n",
      " -> Runtime: 0.65 minutes\n",
      " -> geting waveforms failed for PY.BPH05..BH* ...\n",
      " -> continue computing ADR for 8 of 9 stations ...\n",
      "\n",
      " -> Runtime: 0.42 minutes\n",
      " -> continue computing ADR for 5 of 5 stations ...\n",
      "\n",
      " -> Runtime: 0.29 minutes\n",
      "\n",
      " -> 149 2023-05-16 11:43:07.610000 \n",
      " -> sensitivity removed!\n",
      " -> response removed!\n",
      " -> geting waveforms failed for PY.BPH05..BH* ...\n",
      " -> geting waveforms failed for PY.BPH10..BH* ...\n",
      " -> continue computing ADR for 12 of 14 stations ...\n",
      "\n",
      " -> Runtime: 0.64 minutes\n",
      " -> geting waveforms failed for PY.BPH05..BH* ...\n",
      " -> continue computing ADR for 8 of 9 stations ...\n",
      "\n",
      " -> Runtime: 0.43 minutes\n",
      " -> continue computing ADR for 5 of 5 stations ...\n",
      "\n",
      " -> Runtime: 0.28 minutes\n",
      "\n",
      " -> 150 2023-05-19 23:40:24.430000 \n",
      " -> sensitivity removed!\n",
      " -> response removed!\n",
      " -> geting waveforms failed for PY.BPH05..BH* ...\n",
      " -> geting waveforms failed for PY.BPH10..BH* ...\n",
      " -> continue computing ADR for 12 of 14 stations ...\n",
      "\n",
      " -> Runtime: 0.65 minutes\n",
      " -> geting waveforms failed for PY.BPH05..BH* ...\n",
      " -> continue computing ADR for 8 of 9 stations ...\n",
      "\n",
      " -> Runtime: 0.41 minutes\n",
      " -> continue computing ADR for 5 of 5 stations ...\n",
      "\n",
      " -> Runtime: 0.26 minutes\n",
      "\n",
      " -> 151 2023-05-21 00:55:19.720000 \n",
      " -> sensitivity removed!\n",
      " -> response removed!\n",
      " -> geting waveforms failed for PY.BPH05..BH* ...\n",
      " -> geting waveforms failed for PY.BPH10..BH* ...\n",
      " -> continue computing ADR for 12 of 14 stations ...\n",
      "\n",
      " -> Runtime: 0.68 minutes\n",
      " -> geting waveforms failed for PY.BPH05..BH* ...\n",
      " -> continue computing ADR for 8 of 9 stations ...\n",
      "\n",
      " -> Runtime: 0.41 minutes\n",
      " -> continue computing ADR for 5 of 5 stations ...\n",
      "\n",
      " -> Runtime: 0.25 minutes\n",
      "\n",
      " -> 152 2023-05-22 18:42:09.850000 \n",
      " -> sensitivity removed!\n",
      " -> response removed!\n",
      " -> geting waveforms failed for PY.BPH05..BH* ...\n",
      " -> geting waveforms failed for PY.BPH10..BH* ...\n",
      " -> continue computing ADR for 12 of 14 stations ...\n",
      "\n",
      " -> Runtime: 0.63 minutes\n",
      " -> geting waveforms failed for PY.BPH05..BH* ...\n",
      " -> continue computing ADR for 8 of 9 stations ...\n",
      "\n",
      " -> Runtime: 0.45 minutes\n",
      " -> continue computing ADR for 5 of 5 stations ...\n",
      "\n",
      " -> Runtime: 0.25 minutes\n",
      "\n",
      " -> 153 2023-05-22 22:17:06.870000 \n",
      " -> sensitivity removed!\n",
      " -> response removed!\n",
      " -> geting waveforms failed for PY.BPH05..BH* ...\n",
      " -> geting waveforms failed for PY.BPH10..BH* ...\n",
      " -> continue computing ADR for 12 of 14 stations ...\n",
      "\n",
      " -> Runtime: 0.67 minutes\n",
      " -> geting waveforms failed for PY.BPH05..BH* ...\n",
      " -> continue computing ADR for 8 of 9 stations ...\n",
      "\n",
      " -> Runtime: 0.43 minutes\n",
      " -> continue computing ADR for 5 of 5 stations ...\n",
      "\n",
      " -> Runtime: 0.27 minutes\n",
      "\n",
      " -> 154 2023-05-23 02:29:41.190000 \n",
      " -> sensitivity removed!\n",
      " -> response removed!\n",
      " -> geting waveforms failed for PY.BPH05..BH* ...\n",
      " -> geting waveforms failed for PY.BPH10..BH* ...\n",
      " -> continue computing ADR for 12 of 14 stations ...\n",
      "\n",
      " -> Runtime: 0.66 minutes\n",
      " -> geting waveforms failed for PY.BPH05..BH* ...\n",
      " -> continue computing ADR for 8 of 9 stations ...\n",
      "\n",
      " -> Runtime: 0.41 minutes\n",
      " -> continue computing ADR for 5 of 5 stations ...\n",
      "\n",
      " -> Runtime: 0.26 minutes\n",
      "\n",
      " -> 155 2023-05-23 10:22:59.530000 \n",
      " -> sensitivity removed!\n",
      " -> response removed!\n",
      " -> geting waveforms failed for PY.BPH05..BH* ...\n",
      " -> geting waveforms failed for PY.BPH10..BH* ...\n",
      " -> continue computing ADR for 12 of 14 stations ...\n",
      "\n",
      " -> Runtime: 0.66 minutes\n",
      " -> geting waveforms failed for PY.BPH05..BH* ...\n",
      " -> continue computing ADR for 8 of 9 stations ...\n",
      "\n",
      " -> Runtime: 0.43 minutes\n",
      " -> continue computing ADR for 5 of 5 stations ...\n",
      "\n",
      " -> Runtime: 0.27 minutes\n",
      "\n",
      " -> 156 2023-05-24 19:43:16.270000 \n",
      " -> sensitivity removed!\n",
      " -> response removed!\n",
      " -> geting waveforms failed for PY.BPH05..BH* ...\n",
      " -> geting waveforms failed for PY.BPH10..BH* ...\n",
      " -> continue computing ADR for 12 of 14 stations ...\n",
      "\n",
      " -> Runtime: 0.63 minutes\n",
      " -> geting waveforms failed for PY.BPH05..BH* ...\n",
      " -> continue computing ADR for 8 of 9 stations ...\n",
      "\n",
      " -> Runtime: 0.4 minutes\n",
      " -> continue computing ADR for 5 of 5 stations ...\n",
      "\n",
      " -> Runtime: 0.25 minutes\n",
      "\n",
      " -> 157 2023-05-24 21:25:50.550000 \n",
      " -> sensitivity removed!\n",
      " -> response removed!\n",
      " -> geting waveforms failed for PY.BPH05..BH* ...\n",
      " -> geting waveforms failed for PY.BPH10..BH* ...\n",
      " -> continue computing ADR for 12 of 14 stations ...\n",
      "\n",
      " -> Runtime: 0.63 minutes\n",
      " -> geting waveforms failed for PY.BPH05..BH* ...\n",
      " -> continue computing ADR for 8 of 9 stations ...\n",
      "\n",
      " -> Runtime: 0.44 minutes\n",
      " -> continue computing ADR for 5 of 5 stations ...\n",
      "\n",
      " -> Runtime: 0.25 minutes\n",
      "\n",
      " -> 158 2023-05-25 23:38:03.090000 \n",
      " -> sensitivity removed!\n",
      " -> response removed!\n",
      " -> geting waveforms failed for PY.BPH05..BH* ...\n",
      " -> geting waveforms failed for PY.BPH10..BH* ...\n",
      " -> continue computing ADR for 12 of 14 stations ...\n",
      "\n",
      " -> Runtime: 0.64 minutes\n",
      " -> geting waveforms failed for PY.BPH05..BH* ...\n",
      " -> continue computing ADR for 8 of 9 stations ...\n",
      "\n",
      " -> Runtime: 0.42 minutes\n",
      " -> continue computing ADR for 5 of 5 stations ...\n",
      "\n",
      " -> Runtime: 0.26 minutes\n",
      "\n",
      " -> 159 2023-05-28 06:28:20.190000 \n",
      " -> sensitivity removed!\n",
      " -> response removed!\n",
      " -> geting waveforms failed for PY.BPH05..BH* ...\n",
      " -> geting waveforms failed for PY.BPH10..BH* ...\n",
      " -> continue computing ADR for 12 of 14 stations ...\n",
      "\n",
      " -> Runtime: 0.63 minutes\n",
      " -> geting waveforms failed for PY.BPH05..BH* ...\n",
      " -> continue computing ADR for 8 of 9 stations ...\n",
      "\n",
      " -> Runtime: 0.43 minutes\n",
      " -> continue computing ADR for 5 of 5 stations ...\n",
      "\n",
      " -> Runtime: 0.25 minutes\n",
      "\n",
      " -> 160 2023-05-28 15:32:37.620000 \n",
      " -> sensitivity removed!\n",
      " -> response removed!\n",
      " -> geting waveforms failed for PY.BPH05..BH* ...\n",
      " -> geting waveforms failed for PY.BPH10..BH* ...\n",
      " -> continue computing ADR for 12 of 14 stations ...\n",
      "\n",
      " -> Runtime: 0.61 minutes\n",
      " -> geting waveforms failed for PY.BPH05..BH* ...\n",
      " -> continue computing ADR for 8 of 9 stations ...\n",
      "\n",
      " -> Runtime: 0.39 minutes\n",
      " -> continue computing ADR for 5 of 5 stations ...\n",
      "\n",
      " -> Runtime: 0.25 minutes\n",
      "\n",
      " -> 161 2023-05-29 03:40:21.400000 \n",
      " -> sensitivity removed!\n",
      " -> response removed!\n",
      " -> geting waveforms failed for PY.BPH05..BH* ...\n",
      " -> geting waveforms failed for PY.BPH10..BH* ...\n",
      " -> continue computing ADR for 12 of 14 stations ...\n",
      "\n",
      " -> Runtime: 0.64 minutes\n",
      " -> geting waveforms failed for PY.BPH05..BH* ...\n",
      " -> continue computing ADR for 8 of 9 stations ...\n",
      "\n",
      " -> Runtime: 0.42 minutes\n",
      " -> continue computing ADR for 5 of 5 stations ...\n",
      "\n",
      " -> Runtime: 0.26 minutes\n",
      "\n",
      " -> 162 2023-05-30 12:46:22.830000 \n",
      " -> sensitivity removed!\n",
      " -> response removed!\n",
      " -> geting waveforms failed for PY.BPH05..BH* ...\n",
      " -> geting waveforms failed for PY.BPH10..BH* ...\n",
      " -> continue computing ADR for 12 of 14 stations ...\n",
      "\n",
      " -> Runtime: 0.66 minutes\n",
      " -> geting waveforms failed for PY.BPH05..BH* ...\n",
      " -> continue computing ADR for 8 of 9 stations ...\n",
      "\n",
      " -> Runtime: 0.43 minutes\n",
      " -> continue computing ADR for 5 of 5 stations ...\n",
      "\n",
      " -> Runtime: 0.27 minutes\n",
      "\n",
      " -> 163 2023-05-30 19:45:32.620000 \n",
      " -> sensitivity removed!\n",
      " -> response removed!\n",
      " -> geting waveforms failed for PY.BPH05..BH* ...\n",
      " -> geting waveforms failed for PY.BPH10..BH* ...\n",
      " -> continue computing ADR for 12 of 14 stations ...\n",
      "\n",
      " -> Runtime: 0.66 minutes\n",
      " -> geting waveforms failed for PY.BPH05..BH* ...\n",
      " -> continue computing ADR for 8 of 9 stations ...\n",
      "\n",
      " -> Runtime: 0.45 minutes\n",
      " -> continue computing ADR for 5 of 5 stations ...\n",
      "\n",
      " -> Runtime: 0.27 minutes\n",
      "\n",
      " -> 164 2023-06-05 06:07:59.080000 \n",
      " -> sensitivity removed!\n",
      " -> response removed!\n",
      " -> geting waveforms failed for PY.BPH05..BH* ...\n",
      " -> geting waveforms failed for PY.BPH10..BH* ...\n",
      " -> continue computing ADR for 12 of 14 stations ...\n",
      "\n",
      " -> Runtime: 0.72 minutes\n",
      " -> geting waveforms failed for PY.BPH05..BH* ...\n",
      " -> continue computing ADR for 8 of 9 stations ...\n",
      "\n",
      " -> Runtime: 0.44 minutes\n",
      " -> continue computing ADR for 5 of 5 stations ...\n",
      "\n",
      " -> Runtime: 0.27 minutes\n",
      "\n",
      " -> 165 2023-06-11 02:38:25.290000 \n",
      " -> sensitivity removed!\n",
      " -> response removed!\n",
      " -> geting waveforms failed for PY.BPH05..BH* ...\n",
      " -> geting waveforms failed for PY.BPH10..BH* ...\n",
      " -> continue computing ADR for 12 of 14 stations ...\n",
      "\n",
      " -> Runtime: 0.71 minutes\n",
      " -> geting waveforms failed for PY.BPH05..BH* ...\n",
      " -> continue computing ADR for 8 of 9 stations ...\n",
      "\n",
      " -> Runtime: 0.43 minutes\n",
      " -> continue computing ADR for 5 of 5 stations ...\n",
      "\n",
      " -> Runtime: 0.27 minutes\n",
      "\n",
      " -> 166 2023-06-11 03:32:26.760000 \n",
      " -> sensitivity removed!\n",
      " -> response removed!\n",
      " -> geting waveforms failed for PY.BPH05..BH* ...\n",
      " -> geting waveforms failed for PY.BPH10..BH* ...\n",
      " -> continue computing ADR for 12 of 14 stations ...\n",
      "\n",
      " -> Runtime: 0.64 minutes\n",
      " -> geting waveforms failed for PY.BPH05..BH* ...\n",
      " -> continue computing ADR for 8 of 9 stations ...\n",
      "\n",
      " -> Runtime: 0.42 minutes\n",
      " -> continue computing ADR for 5 of 5 stations ...\n",
      "\n",
      " -> Runtime: 0.28 minutes\n",
      "\n",
      " -> 167 2023-06-15 04:11:15.220000 \n",
      " -> sensitivity removed!\n",
      " -> response removed!\n",
      " -> geting waveforms failed for PY.BPH05..BH* ...\n",
      " -> geting waveforms failed for PY.BPH10..BH* ...\n",
      " -> continue computing ADR for 12 of 14 stations ...\n",
      "\n",
      " -> Runtime: 0.65 minutes\n",
      " -> geting waveforms failed for PY.BPH05..BH* ...\n",
      " -> continue computing ADR for 8 of 9 stations ...\n",
      "\n",
      " -> Runtime: 0.44 minutes\n",
      " -> continue computing ADR for 5 of 5 stations ...\n",
      "\n",
      " -> Runtime: 0.27 minutes\n",
      "\n",
      " -> 168 2023-06-17 07:17:28.120000 \n",
      " -> sensitivity removed!\n",
      " -> response removed!\n",
      " -> geting waveforms failed for PY.BPH05..BH* ...\n",
      " -> geting waveforms failed for PY.BPH10..BH* ...\n",
      " -> continue computing ADR for 12 of 14 stations ...\n",
      "\n",
      " -> Runtime: 0.66 minutes\n",
      " -> geting waveforms failed for PY.BPH05..BH* ...\n",
      " -> continue computing ADR for 8 of 9 stations ...\n",
      "\n",
      " -> Runtime: 0.43 minutes\n",
      " -> continue computing ADR for 5 of 5 stations ...\n",
      "\n",
      " -> Runtime: 0.25 minutes\n",
      "\n",
      " -> 169 2023-06-18 10:43:51.780000 \n",
      " -> sensitivity removed!\n",
      " -> response removed!\n",
      " -> geting waveforms failed for PY.BPH05..BH* ...\n",
      " -> geting waveforms failed for PY.BPH10..BH* ...\n",
      " -> continue computing ADR for 12 of 14 stations ...\n",
      "\n",
      " -> Runtime: 0.67 minutes\n",
      " -> geting waveforms failed for PY.BPH05..BH* ...\n",
      " -> continue computing ADR for 8 of 9 stations ...\n",
      "\n",
      " -> Runtime: 0.43 minutes\n",
      " -> continue computing ADR for 5 of 5 stations ...\n",
      "\n",
      " -> Runtime: 0.26 minutes\n",
      "\n",
      " -> 170 2023-06-19 06:54:54.060000 \n",
      " -> sensitivity removed!\n",
      " -> response removed!\n",
      " -> geting waveforms failed for PY.BPH05..BH* ...\n",
      " -> geting waveforms failed for PY.BPH10..BH* ...\n",
      " -> continue computing ADR for 12 of 14 stations ...\n",
      "\n",
      " -> Runtime: 0.67 minutes\n",
      " -> geting waveforms failed for PY.BPH05..BH* ...\n",
      " -> continue computing ADR for 8 of 9 stations ...\n",
      "\n",
      " -> Runtime: 0.44 minutes\n",
      " -> continue computing ADR for 5 of 5 stations ...\n",
      "\n",
      " -> Runtime: 0.27 minutes\n",
      "\n",
      " -> 171 2023-06-22 02:37:34.870000 \n",
      " -> sensitivity removed!\n",
      " -> response removed!\n",
      " -> geting waveforms failed for PY.BPH05..BH* ...\n",
      " -> geting waveforms failed for PY.BPH10..BH* ...\n",
      " -> continue computing ADR for 12 of 14 stations ...\n",
      "\n",
      " -> Runtime: 0.69 minutes\n",
      " -> geting waveforms failed for PY.BPH05..BH* ...\n",
      " -> continue computing ADR for 8 of 9 stations ...\n",
      "\n",
      " -> Runtime: 0.44 minutes\n",
      " -> continue computing ADR for 5 of 5 stations ...\n",
      "\n",
      " -> Runtime: 0.27 minutes\n",
      "\n",
      " -> 172 2023-06-23 05:12:37.680000 \n",
      " -> sensitivity removed!\n",
      " -> response removed!\n",
      " -> geting waveforms failed for PY.BPH05..BH* ...\n",
      " -> geting waveforms failed for PY.BPH10..BH* ...\n",
      " -> continue computing ADR for 12 of 14 stations ...\n",
      "\n",
      " -> Runtime: 0.68 minutes\n",
      " -> geting waveforms failed for PY.BPH05..BH* ...\n",
      " -> continue computing ADR for 8 of 9 stations ...\n",
      "\n",
      " -> Runtime: 0.46 minutes\n",
      " -> continue computing ADR for 5 of 5 stations ...\n",
      "\n",
      " -> Runtime: 0.26 minutes\n",
      "\n",
      " -> 173 2023-06-25 20:21:44.480000 \n",
      " -> sensitivity removed!\n",
      " -> response removed!\n",
      " -> geting waveforms failed for PY.BPH05..BH* ...\n",
      " -> geting waveforms failed for PY.BPH10..BH* ...\n",
      " -> continue computing ADR for 12 of 14 stations ...\n",
      "\n",
      " -> Runtime: 0.66 minutes\n",
      " -> geting waveforms failed for PY.BPH05..BH* ...\n",
      " -> continue computing ADR for 8 of 9 stations ...\n",
      "\n",
      " -> Runtime: 0.43 minutes\n",
      " -> continue computing ADR for 5 of 5 stations ...\n",
      "\n",
      " -> Runtime: 0.27 minutes\n",
      "\n",
      " -> 174 2023-06-26 07:39:35.530000 \n",
      " -> sensitivity removed!\n",
      " -> response removed!\n",
      " -> geting waveforms failed for PY.BPH05..BH* ...\n",
      " -> geting waveforms failed for PY.BPH10..BH* ...\n",
      " -> continue computing ADR for 12 of 14 stations ...\n",
      "\n",
      " -> Runtime: 0.67 minutes\n",
      " -> geting waveforms failed for PY.BPH05..BH* ...\n",
      " -> continue computing ADR for 8 of 9 stations ...\n",
      "\n",
      " -> Runtime: 0.44 minutes\n",
      " -> continue computing ADR for 5 of 5 stations ...\n",
      "\n",
      " -> Runtime: 0.28 minutes\n",
      "\n",
      " -> 175 2023-06-27 07:03:01.380000 \n",
      " -> sensitivity removed!\n",
      " -> response removed!\n",
      " -> geting waveforms failed for PY.BPH05..BH* ...\n",
      " -> geting waveforms failed for PY.BPH10..BH* ...\n",
      " -> continue computing ADR for 12 of 14 stations ...\n",
      "\n",
      " -> Runtime: 0.67 minutes\n",
      " -> geting waveforms failed for PY.BPH05..BH* ...\n",
      " -> continue computing ADR for 8 of 9 stations ...\n",
      "\n",
      " -> Runtime: 0.46 minutes\n",
      " -> continue computing ADR for 5 of 5 stations ...\n",
      "\n",
      " -> Runtime: 0.27 minutes\n",
      "\n",
      " -> 176 2023-06-27 16:11:14.360000 \n",
      " -> sensitivity removed!\n",
      " -> response removed!\n",
      " -> geting waveforms failed for PY.BPH05..BH* ...\n",
      " -> geting waveforms failed for PY.BPH10..BH* ...\n",
      " -> continue computing ADR for 12 of 14 stations ...\n",
      "\n",
      " -> Runtime: 0.68 minutes\n",
      " -> geting waveforms failed for PY.BPH05..BH* ...\n",
      " -> continue computing ADR for 8 of 9 stations ...\n",
      "\n",
      " -> Runtime: 0.42 minutes\n",
      " -> continue computing ADR for 5 of 5 stations ...\n",
      "\n",
      " -> Runtime: 0.26 minutes\n",
      "\n",
      " -> 177 2023-06-28 01:45:06.060000 \n",
      " -> sensitivity removed!\n",
      " -> response removed!\n",
      " -> geting waveforms failed for PY.BPH05..BH* ...\n",
      " -> geting waveforms failed for PY.BPH10..BH* ...\n",
      " -> continue computing ADR for 12 of 14 stations ...\n",
      "\n",
      " -> Runtime: 0.68 minutes\n",
      " -> geting waveforms failed for PY.BPH05..BH* ...\n",
      " -> continue computing ADR for 8 of 9 stations ...\n",
      "\n",
      " -> Runtime: 0.47 minutes\n",
      " -> continue computing ADR for 5 of 5 stations ...\n",
      "\n",
      " -> Runtime: 0.28 minutes\n",
      "\n",
      " -> 178 2023-06-30 23:07:07.100000 \n",
      " -> sensitivity removed!\n",
      " -> response removed!\n",
      " -> geting waveforms failed for PY.BPH05..BH* ...\n",
      " -> continue computing ADR for 13 of 14 stations ...\n",
      "\n",
      " -> Runtime: 0.73 minutes\n",
      " -> geting waveforms failed for PY.BPH05..BH* ...\n",
      " -> continue computing ADR for 8 of 9 stations ...\n",
      "\n",
      " -> Runtime: 0.43 minutes\n",
      " -> continue computing ADR for 5 of 5 stations ...\n",
      "\n",
      " -> Runtime: 0.26 minutes\n",
      "\n",
      " -> 179 2023-07-01 20:43:04.290000 \n",
      " -> sensitivity removed!\n",
      " -> response removed!\n",
      " -> geting waveforms failed for PY.BPH05..BH* ...\n",
      " -> continue computing ADR for 13 of 14 stations ...\n",
      "\n",
      " -> Runtime: 0.69 minutes\n",
      " -> geting waveforms failed for PY.BPH05..BH* ...\n",
      " -> continue computing ADR for 8 of 9 stations ...\n",
      "\n",
      " -> Runtime: 0.41 minutes\n",
      " -> continue computing ADR for 5 of 5 stations ...\n",
      "\n",
      " -> Runtime: 0.26 minutes\n",
      "\n",
      " -> 180 2023-07-02 20:36:42.220000 \n",
      " -> sensitivity removed!\n",
      " -> response removed!\n",
      " -> geting waveforms failed for PY.BPH05..BH* ...\n",
      " -> geting waveforms failed for PY.BPH12..BH* ...\n",
      " -> continue computing ADR for 12 of 14 stations ...\n",
      "\n",
      " -> Runtime: 0.66 minutes\n",
      " -> geting waveforms failed for PY.BPH05..BH* ...\n",
      " -> continue computing ADR for 8 of 9 stations ...\n",
      "\n",
      " -> Runtime: 0.42 minutes\n",
      " -> continue computing ADR for 5 of 5 stations ...\n",
      "\n",
      " -> Runtime: 0.26 minutes\n",
      "\n",
      " -> 181 2023-07-07 16:02:29.240000 \n",
      " -> sensitivity removed!\n",
      " -> response removed!\n",
      " -> geting waveforms failed for PY.BPH05..BH* ...\n",
      " -> geting waveforms failed for PY.BPH12..BH* ...\n",
      " -> continue computing ADR for 12 of 14 stations ...\n",
      "\n",
      " -> Runtime: 0.69 minutes\n",
      " -> geting waveforms failed for PY.BPH05..BH* ...\n",
      " -> continue computing ADR for 8 of 9 stations ...\n",
      "\n",
      " -> Runtime: 0.43 minutes\n",
      " -> continue computing ADR for 5 of 5 stations ...\n",
      "\n",
      " -> Runtime: 0.26 minutes\n",
      "\n",
      " -> 182 2023-07-08 02:46:01.230000 \n",
      " -> sensitivity removed!\n",
      " -> response removed!\n",
      " -> geting waveforms failed for PY.BPH05..BH* ...\n",
      " -> geting waveforms failed for PY.BPH12..BH* ...\n",
      " -> continue computing ADR for 12 of 14 stations ...\n",
      "\n",
      " -> Runtime: 0.67 minutes\n"
     ]
    }
   ],
   "source": [
    "global errors\n",
    "\n",
    "errors = []\n",
    "adr_status = []\n",
    "\n",
    "\n",
    "for jj, ev in enumerate(tqdm(events.index)):\n",
    "# for jj, ev in enumerate(events[:10]):\n",
    "\n",
    "    print(f\"\\n -> {jj} {events.origin[jj]} \")\n",
    "    try:\n",
    "        event_name = str(events.origin[jj]).replace(\"-\",\"\").replace(\":\",\"\").replace(\" \", \"_\").split(\".\")[0]\n",
    "    except:\n",
    "        print(f\" -> {jj}: error for event.origin\")\n",
    "        continue\n",
    "\n",
    "    filename = config['outpath_figs']+\"raw/\"+f\"{event_name}_raw.png\"\n",
    "\n",
    "\n",
    "    ## check if file already exists\n",
    "    if os.path.isfile(filename):\n",
    "        print(f\" -> file alread exits for {event_name}\")\n",
    "        continue\n",
    "\n",
    "    ## configuration adjustments\n",
    "    config['title'] = f\"{events.origin[jj]} UTC | M{events.magnitude[jj]}\"\n",
    "    config['tbeg'] = obs.UTCDateTime(str(events.origin[jj]))-10\n",
    "\n",
    "\n",
    "    ## select appropriate seismometer\n",
    "    if config['tbeg'].date < obs.UTCDateTime(\"2023-04-01\"):\n",
    "        config['seed_seismometer'] = config['seed_seismometer1']\n",
    "        config['fmin'], config['fmax'] = 0.01, 18.0\n",
    "    else:\n",
    "        config['seed_seismometer'] = config['seed_seismometer2']\n",
    "        config['fmin'], config['fmax'] = 0.01, 80.0\n",
    "\n",
    "\n",
    "    ## same endtime for all\n",
    "    config['tend'] = obs.UTCDateTime(events.origin[jj])+50\n",
    "\n",
    "\n",
    "    ## load and process blueSeis data\n",
    "    try:\n",
    "        py_bspf0, py_bspf_inv = __request_data(config['seed_blueseis'], config['tbeg'], config['tend'])\n",
    "\n",
    "    except Exception as e:\n",
    "        print(e)\n",
    "        print(f\" -> failed to request BSPF for event: {ev}\")\n",
    "        errors.append(f\" -> failed to request BSPF for event: {ev}\")\n",
    "        continue\n",
    "\n",
    "    ## load and process seismometer data\n",
    "    try:\n",
    "        ii_pfo0, ii_pfo_inv = __request_data(config['seed_seismometer'], config['tbeg'], config['tend'], translation_type=\"ACC\")\n",
    "\n",
    "    except Exception as e:\n",
    "        print(e)\n",
    "        print(f\" -> failed to request BSPF for event: {ev}\")\n",
    "        continue\n",
    "\n",
    "    if py_bspf0 is None or ii_pfo0 is None:\n",
    "        continue\n",
    "\n",
    "    ## processing data\n",
    "    if ii_pfo0[0].stats.sampling_rate != py_bspf0[0].stats.sampling_rate:\n",
    "        py_bspf0.resample(ii_pfo0[0].stats.sampling_rate)\n",
    "\n",
    "\n",
    "    ## joining data\n",
    "    st0 = py_bspf0\n",
    "    st0 += ii_pfo0\n",
    "\n",
    "\n",
    "    ## compute ADR\n",
    "\n",
    "    ## for complete array\n",
    "    try:\n",
    "        pfo_adr, status = __compute_adr_pfo(config['tbeg'], config['tend'], submask=\"all\", status=True)\n",
    "        for tr in pfo_adr:\n",
    "            tr.stats.location = \"all\"\n",
    "        st0 += pfo_adr\n",
    "        adr_status.append(status)\n",
    "    except:\n",
    "        print(\" -> failed to compute ADR all ...\")\n",
    "        pfo_adr = __empty_stream(st0)\n",
    "\n",
    "    ## for mid array\n",
    "    try:\n",
    "        pfo_adr = __compute_adr_pfo(config['tbeg'], config['tend'], submask=\"mid\")\n",
    "        for tr in pfo_adr:\n",
    "            tr.stats.location = \"mid\"\n",
    "        st0 += pfo_adr\n",
    "    except:\n",
    "        print(\" -> failed to compute ADR mid ...\")\n",
    "        pfo_adr = __empty_stream(st0)\n",
    "\n",
    "    ## for inner array\n",
    "    try:\n",
    "        pfo_adr = __compute_adr_pfo(config['tbeg'], config['tend'], submask=\"inner\")\n",
    "        for tr in pfo_adr:\n",
    "            tr.stats.location = \"inn\"\n",
    "        st0 += pfo_adr\n",
    "    except:\n",
    "        print(\" -> failed to compute ADR inner ...\")\n",
    "        pfo_adr = __empty_stream(st0)\n",
    "\n",
    "    st0 = st0.sort()\n",
    "\n",
    "    ## processing data stream\n",
    "    st = st0.copy();\n",
    "    st = st.detrend(\"linear\");\n",
    "    st = st.taper(0.01);\n",
    "    st = st.filter(\"bandpass\", freqmin=config['fmin'], freqmax=config['fmax'], corners=4, zerophase=True);\n",
    "\n",
    "\n",
    "    st = st.trim(config['tbeg'], config['tend']);\n",
    "    st0 = st0.trim(config['tbeg'], config['tend']);\n",
    "\n",
    "    # print(st0)\n",
    "\n",
    "    ## store waveform data\n",
    "    num = str(jj).rjust(3,\"0\")\n",
    "    waveform_filename = f\"{num}_{str(events.origin[jj]).split('.')[0].replace('-','').replace(':','').replace(' ','_')}.mseed\"\n",
    "    st0.write(config['outpath_data']+waveform_filename, format=\"MSEED\");\n",
    "\n",
    "\n",
    "    ## create eventname\n",
    "    # event_name = str(events.origin[jj]).replace(\"-\",\"\").replace(\":\",\"\").replace(\" \", \"_\").split(\".\")[0]\n",
    "\n",
    "\n",
    "    ## plotting figures    \n",
    "    fig1 = st0.plot(equal_scale=False, show=False);\n",
    "\n",
    "#     fig2 = __makeplot(config, st)\n",
    "\n",
    "#     fig3 = __makeplotStreamSpectra2(st, config, fscale=\"linlin\");\n",
    "\n",
    "    ## saving figures\n",
    "    fig1.savefig(config['outpath_figs']+\"raw/\"+f\"{event_name}_raw.png\", dpi=200, bbox_inches='tight', pad_inches=0.05)\n",
    "\n",
    "#     fig2.savefig(config['outpath_figs']+\"filtered/\"+f\"{event_name}_filtered.png\", dpi=200, bbox_inches='tight', pad_inches=0.05)\n",
    "\n",
    "#     fig3.savefig(config['outpath_figs']+\"spectra/\"+f\"{event_name}_spectra.png\", dpi=200, bbox_inches='tight', pad_inches=0.05)\n",
    "\n",
    "\n",
    "## End of File"
   ]
  },
  {
   "cell_type": "markdown",
   "id": "3d1f607d",
   "metadata": {},
   "source": [
    "## Testing Signal-to-Noise ratios"
   ]
  },
  {
   "cell_type": "code",
   "execution_count": null,
   "id": "9ad6ceb5",
   "metadata": {
    "ExecuteTime": {
     "start_time": "2023-07-28T13:44:20.451Z"
    }
   },
   "outputs": [],
   "source": [
    "# from numpy import nanmean, sqrt\n",
    "\n",
    "# win_length_sec = 10 ## seconds\n",
    "\n",
    "# t_trigger = events.trigger_time[jj]\n",
    "# t_rel_sec = t_trigger-config['tbeg']\n",
    "# fig, ax = plt.subplots(len(st0),1, figsize=(15,15))\n",
    "\n",
    "# for i, tr in enumerate(st0):\n",
    "\n",
    "#     df = tr.stats.sampling_rate\n",
    "\n",
    "#     NN = int(df * win_length_sec) ## samples\n",
    "\n",
    "#     t_rel_spl = t_rel_sec*df ## samples\n",
    "\n",
    "#     t_offset = df * 2 ## samples\n",
    "\n",
    "#     noise = nanmean(tr.data[int(t_rel_spl-NN):int(t_rel_spl)]**2)\n",
    "#     signal = nanmean(tr.data[int(t_rel_spl):int(t_rel_spl+NN)]**2)\n",
    "\n",
    "#     SNR = sqrt(signal/noise)\n",
    "\n",
    "\n",
    "\n",
    "#     ax[i].plot(tr.data)\n",
    "\n",
    "#     ax[i].axvline(t_rel_spl, color=\"red\")\n",
    "#     ax[i].axvline(t_rel_spl+NN, color=\"red\")\n",
    "\n",
    "#     ax[i].axvline(t_rel_spl, color=\"g\")\n",
    "#     ax[i].axvline(t_rel_spl-NN, color=\"g\")\n",
    "\n",
    "#     print(SNR)\n",
    "\n",
    "# plt.show();\n"
   ]
  },
  {
   "cell_type": "code",
   "execution_count": null,
   "id": "e5aa7f75",
   "metadata": {},
   "outputs": [],
   "source": []
  }
 ],
 "metadata": {
  "kernelspec": {
   "display_name": "Python 3 (ipykernel)",
   "language": "python",
   "name": "python3"
  },
  "language_info": {
   "codemirror_mode": {
    "name": "ipython",
    "version": 3
   },
   "file_extension": ".py",
   "mimetype": "text/x-python",
   "name": "python",
   "nbconvert_exporter": "python",
   "pygments_lexer": "ipython3",
   "version": "3.9.16"
  },
  "latex_envs": {
   "LaTeX_envs_menu_present": true,
   "autoclose": false,
   "autocomplete": true,
   "bibliofile": "biblio.bib",
   "cite_by": "apalike",
   "current_citInitial": 1,
   "eqLabelWithNumbers": true,
   "eqNumInitial": 1,
   "hotkeys": {
    "equation": "Ctrl-E",
    "itemize": "Ctrl-I"
   },
   "labels_anchors": false,
   "latex_user_defs": false,
   "report_style_numbering": false,
   "user_envs_cfg": false
  },
  "toc": {
   "base_numbering": 1,
   "nav_menu": {},
   "number_sections": true,
   "sideBar": true,
   "skip_h1_title": false,
   "title_cell": "Table of Contents",
   "title_sidebar": "Contents",
   "toc_cell": false,
   "toc_position": {},
   "toc_section_display": true,
   "toc_window_display": false
  },
  "varInspector": {
   "cols": {
    "lenName": 16,
    "lenType": 16,
    "lenVar": 40
   },
   "kernels_config": {
    "python": {
     "delete_cmd_postfix": "",
     "delete_cmd_prefix": "del ",
     "library": "var_list.py",
     "varRefreshCmd": "print(var_dic_list())"
    },
    "r": {
     "delete_cmd_postfix": ") ",
     "delete_cmd_prefix": "rm(",
     "library": "var_list.r",
     "varRefreshCmd": "cat(var_dic_list()) "
    }
   },
   "types_to_exclude": [
    "module",
    "function",
    "builtin_function_or_method",
    "instance",
    "_Feature"
   ],
   "window_display": false
  }
 },
 "nbformat": 4,
 "nbformat_minor": 5
}
