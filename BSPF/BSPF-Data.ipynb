{
 "cells": [
  {
   "cell_type": "markdown",
   "id": "1e91ef76",
   "metadata": {
    "ExecuteTime": {
     "end_time": "2022-10-14T10:04:32.003164Z",
     "start_time": "2022-10-14T10:04:31.997241Z"
    }
   },
   "source": [
    "<img src=\"https://dgg-online.de/WordPress_01/wp-content/uploads/2022/10/20220928_000149_BlueSeis_Setup-scaled.jpg\" align=\"right\" alt=\"BlueSeis Image\" width=\"500\" height=\"100\" />"
   ]
  },
  {
   "cell_type": "markdown",
   "id": "26ad060e",
   "metadata": {
    "ExecuteTime": {
     "end_time": "2022-09-13T00:35:24.926376Z",
     "start_time": "2022-09-13T00:35:24.923877Z"
    }
   },
   "source": [
    "# Analyse BlueSeis BSPF Events"
   ]
  },
  {
   "cell_type": "markdown",
   "id": "fa47ca0c",
   "metadata": {},
   "source": [
    "Download Data of BlueSeis at Pinon Flat Observatory via IRIS. "
   ]
  },
  {
   "cell_type": "code",
   "execution_count": 1,
   "id": "7ae027cf",
   "metadata": {
    "ExecuteTime": {
     "end_time": "2023-04-05T16:30:44.374156Z",
     "start_time": "2023-04-05T16:30:42.823021Z"
    }
   },
   "outputs": [],
   "source": [
    "import os \n",
    "import obspy as obs\n",
    "import numpy as np"
   ]
  },
  {
   "cell_type": "code",
   "execution_count": 1,
   "id": "31994b59",
   "metadata": {
    "ExecuteTime": {
     "end_time": "2023-04-13T09:33:14.733053Z",
     "start_time": "2023-04-13T09:33:14.725043Z"
    },
    "code_folding": [
     0
    ]
   },
   "outputs": [],
   "source": [
    "def __request_data(seed, tbeg, tend):\n",
    "\n",
    "    from obspy.clients.fdsn import Client\n",
    "\n",
    "    client = Client(\"IRIS\")\n",
    "\n",
    "    net, sta, loc, cha = seed.split(\".\")\n",
    "\n",
    "    try:\n",
    "        inventory = client.get_stations(network=net, \n",
    "                                         station=sta,\n",
    "                                         starttime=tbeg,\n",
    "                                         endtime=tend,\n",
    "                                         level=\"response\",\n",
    "                                         )\n",
    "    except:\n",
    "        print(\"Failed to load inventory!\")\n",
    "\n",
    "\n",
    "    try:\n",
    "        waveform = client.get_waveforms(network=net,\n",
    "                                       station=sta,\n",
    "                                       location=loc,\n",
    "                                       channel=cha, \n",
    "                                       starttime=tbeg-60,\n",
    "                                       endtime=tend+60,\n",
    "                                       )\n",
    "\n",
    "    except:\n",
    "        print(\"Failed to load waveforms!\")\n",
    "    \n",
    "    finally: \n",
    "        return waveform, inventory"
   ]
  },
  {
   "cell_type": "markdown",
   "id": "a9cfd05f",
   "metadata": {},
   "source": [
    "## Configurations"
   ]
  },
  {
   "cell_type": "code",
   "execution_count": 11,
   "id": "42cd60e7",
   "metadata": {
    "ExecuteTime": {
     "end_time": "2023-04-05T16:32:26.446824Z",
     "start_time": "2023-04-05T16:32:26.444464Z"
    }
   },
   "outputs": [],
   "source": [
    "config = {}\n",
    "\n",
    "config['seed_blueseis'] = \"PY.BSPF.*.HJ*\"\n",
    "# config['seed_seismometer'] = \"II.PFO.10.HH*\"\n",
    "config['seed_seismometer'] = \"PY.PFOIX.*.HH*\"\n",
    "\n",
    "\n",
    "## Event near PFO\n",
    "config['tbeg'] = obs.UTCDateTime(\"2022-10-13 15:00:00\")\n",
    "config['tend'] = obs.UTCDateTime(\"2022-10-13 16:00:00\")\n"
   ]
  },
  {
   "cell_type": "markdown",
   "id": "47ff88ba",
   "metadata": {},
   "source": [
    "## Load Data"
   ]
  },
  {
   "cell_type": "code",
   "execution_count": 12,
   "id": "845eda19",
   "metadata": {
    "ExecuteTime": {
     "end_time": "2023-04-05T16:32:28.848402Z",
     "start_time": "2023-04-05T16:32:27.388915Z"
    }
   },
   "outputs": [
    {
     "name": "stdout",
     "output_type": "stream",
     "text": [
      "Failed to load inventory!\n",
      "Failed to load waveforms!\n"
     ]
    },
    {
     "ename": "UnboundLocalError",
     "evalue": "local variable 'waveform' referenced before assignment",
     "output_type": "error",
     "traceback": [
      "\u001b[0;31m---------------------------------------------------------------------------\u001b[0m",
      "\u001b[0;31mUnboundLocalError\u001b[0m                         Traceback (most recent call last)",
      "\u001b[0;32m<ipython-input-12-e3bd56fed0e0>\u001b[0m in \u001b[0;36m<module>\u001b[0;34m\u001b[0m\n\u001b[0;32m----> 1\u001b[0;31m \u001b[0mpy_bspf\u001b[0m\u001b[0;34m,\u001b[0m \u001b[0mpy_bspf_inv\u001b[0m \u001b[0;34m=\u001b[0m \u001b[0m__request_data\u001b[0m\u001b[0;34m(\u001b[0m\u001b[0mconfig\u001b[0m\u001b[0;34m[\u001b[0m\u001b[0;34m'seed_blueseis'\u001b[0m\u001b[0;34m]\u001b[0m\u001b[0;34m,\u001b[0m \u001b[0mconfig\u001b[0m\u001b[0;34m[\u001b[0m\u001b[0;34m'tbeg'\u001b[0m\u001b[0;34m]\u001b[0m\u001b[0;34m,\u001b[0m \u001b[0mconfig\u001b[0m\u001b[0;34m[\u001b[0m\u001b[0;34m'tend'\u001b[0m\u001b[0;34m]\u001b[0m\u001b[0;34m)\u001b[0m\u001b[0;34m\u001b[0m\u001b[0;34m\u001b[0m\u001b[0m\n\u001b[0m",
      "\u001b[0;32m<ipython-input-10-c8f5ee4e3bbc>\u001b[0m in \u001b[0;36m__request_data\u001b[0;34m(seed, tbeg, tend)\u001b[0m\n\u001b[1;32m     31\u001b[0m \u001b[0;34m\u001b[0m\u001b[0m\n\u001b[1;32m     32\u001b[0m     \u001b[0;32mfinally\u001b[0m\u001b[0;34m:\u001b[0m\u001b[0;34m\u001b[0m\u001b[0;34m\u001b[0m\u001b[0m\n\u001b[0;32m---> 33\u001b[0;31m         \u001b[0;32mreturn\u001b[0m \u001b[0mwaveform\u001b[0m\u001b[0;34m,\u001b[0m \u001b[0minventory\u001b[0m\u001b[0;34m\u001b[0m\u001b[0;34m\u001b[0m\u001b[0m\n\u001b[0m",
      "\u001b[0;31mUnboundLocalError\u001b[0m: local variable 'waveform' referenced before assignment"
     ]
    }
   ],
   "source": [
    "py_bspf, py_bspf_inv = __request_data(config['seed_blueseis'], config['tbeg'], config['tend'])"
   ]
  },
  {
   "cell_type": "code",
   "execution_count": null,
   "id": "58cfe8e4",
   "metadata": {
    "ExecuteTime": {
     "end_time": "2023-04-05T16:31:58.186850Z",
     "start_time": "2023-04-05T16:31:57.787Z"
    }
   },
   "outputs": [],
   "source": [
    "print(py_bspf)\n",
    "py_bspf.plot(equal_scale=False);"
   ]
  },
  {
   "cell_type": "code",
   "execution_count": null,
   "id": "65b341bc",
   "metadata": {
    "ExecuteTime": {
     "end_time": "2023-04-05T16:31:27.857342Z",
     "start_time": "2023-04-05T16:31:26.744Z"
    }
   },
   "outputs": [],
   "source": [
    "# ii_pfo, ii_pfo_inv = __request_data(config['seed_seismometer'], config['tbeg'], config['tend'])"
   ]
  },
  {
   "cell_type": "code",
   "execution_count": null,
   "id": "4437306e",
   "metadata": {
    "ExecuteTime": {
     "end_time": "2023-04-05T16:31:27.857805Z",
     "start_time": "2023-04-05T16:31:26.933Z"
    }
   },
   "outputs": [],
   "source": [
    "# print(ii_pfo)\n",
    "# ii_pfo.plot(equal_scale=False);"
   ]
  },
  {
   "cell_type": "code",
   "execution_count": null,
   "id": "dbe04d23",
   "metadata": {},
   "outputs": [],
   "source": []
  }
 ],
 "metadata": {
  "kernelspec": {
   "display_name": "Python 3 (ipykernel)",
   "language": "python",
   "name": "python3"
  },
  "language_info": {
   "codemirror_mode": {
    "name": "ipython",
    "version": 3
   },
   "file_extension": ".py",
   "mimetype": "text/x-python",
   "name": "python",
   "nbconvert_exporter": "python",
   "pygments_lexer": "ipython3",
   "version": "3.7.8"
  },
  "latex_envs": {
   "LaTeX_envs_menu_present": true,
   "autoclose": false,
   "autocomplete": true,
   "bibliofile": "biblio.bib",
   "cite_by": "apalike",
   "current_citInitial": 1,
   "eqLabelWithNumbers": true,
   "eqNumInitial": 1,
   "hotkeys": {
    "equation": "Ctrl-E",
    "itemize": "Ctrl-I"
   },
   "labels_anchors": false,
   "latex_user_defs": false,
   "report_style_numbering": false,
   "user_envs_cfg": false
  },
  "toc": {
   "base_numbering": 1,
   "nav_menu": {},
   "number_sections": true,
   "sideBar": true,
   "skip_h1_title": false,
   "title_cell": "Table of Contents",
   "title_sidebar": "Contents",
   "toc_cell": false,
   "toc_position": {},
   "toc_section_display": true,
   "toc_window_display": false
  },
  "varInspector": {
   "cols": {
    "lenName": 16,
    "lenType": 16,
    "lenVar": 40
   },
   "kernels_config": {
    "python": {
     "delete_cmd_postfix": "",
     "delete_cmd_prefix": "del ",
     "library": "var_list.py",
     "varRefreshCmd": "print(var_dic_list())"
    },
    "r": {
     "delete_cmd_postfix": ") ",
     "delete_cmd_prefix": "rm(",
     "library": "var_list.r",
     "varRefreshCmd": "cat(var_dic_list()) "
    }
   },
   "types_to_exclude": [
    "module",
    "function",
    "builtin_function_or_method",
    "instance",
    "_Feature"
   ],
   "window_display": false
  }
 },
 "nbformat": 4,
 "nbformat_minor": 5
}
