{
 "cells": [
  {
   "cell_type": "markdown",
   "id": "09a2fa44",
   "metadata": {},
   "source": [
    "# Analyse BlueSeis BSPF Events"
   ]
  },
  {
   "cell_type": "markdown",
   "id": "5b1c7ac1",
   "metadata": {},
   "source": [
    "With pressure sensor parascientific and new sensor "
   ]
  },
  {
   "cell_type": "code",
   "execution_count": 1,
   "id": "ac7ec6a8",
   "metadata": {
    "ExecuteTime": {
     "end_time": "2023-04-20T17:55:56.456090Z",
     "start_time": "2023-04-20T17:55:54.867261Z"
    }
   },
   "outputs": [],
   "source": [
    "import os \n",
    "import obspy as obs\n",
    "import matplotlib.pyplot as plt\n",
    "import numpy as np\n",
    "import pandas as pd\n",
    "\n",
    "# from andbro__savefig import __savefig\n",
    "from obspy.clients.fdsn import Client"
   ]
  },
  {
   "cell_type": "markdown",
   "id": "2d625638",
   "metadata": {
    "ExecuteTime": {
     "end_time": "2023-01-13T15:42:15.099966Z",
     "start_time": "2023-01-13T15:42:15.096483Z"
    }
   },
   "source": [
    "## Configurations"
   ]
  },
  {
   "cell_type": "code",
   "execution_count": 2,
   "id": "4f157a5b",
   "metadata": {
    "ExecuteTime": {
     "end_time": "2023-04-20T17:55:56.465143Z",
     "start_time": "2023-04-20T17:55:56.461059Z"
    }
   },
   "outputs": [],
   "source": [
    "if os.uname().nodename == 'lighthouse':\n",
    "    root_path = '/home/andbro/'\n",
    "    data_path = '/home/andbro/kilauea-data/'\n",
    "    archive_path = '/home/andbro/freenas/'\n",
    "elif os.uname().nodename == 'kilauea':\n",
    "    root_path = '/home/brotzer/'\n",
    "    data_path = '/import/kilauea-data/'\n",
    "    archive_path = '/import/freenas-ffb-01-data/'"
   ]
  },
  {
   "cell_type": "code",
   "execution_count": 3,
   "id": "685a3ddf",
   "metadata": {
    "ExecuteTime": {
     "end_time": "2023-04-20T17:55:56.475751Z",
     "start_time": "2023-04-20T17:55:56.467210Z"
    }
   },
   "outputs": [],
   "source": [
    "config = {}\n",
    "\n",
    "config['minlatitude'] = 31 -1\n",
    "config['maxlatitude'] = 35 +1\n",
    "config['minlongitude'] = -119 -1\n",
    "config['maxlongitude'] = -114 +1\n",
    "\n",
    "config['BSPF_lon'] = np.array([-116.455439])\n",
    "config['BSPF_lat'] = np.array([33.610643])\n",
    "\n",
    "config['minmagnitude'] = 2.5\n",
    "\n",
    "config['tbeg'] = obs.UTCDateTime(\"2022-10-01\")\n",
    "config['tend'] = obs.UTCDateTime(\"2023-03-31\")\n",
    "\n",
    "config['eventfile'] = \"BSPF_event_catalog_extended\"\n",
    "\n",
    "config['trigger'] = data_path+\"/BSPF/trigger/\"\n",
    "\n",
    "config['outpath'] = data_path+\"/BSPF/data/\""
   ]
  },
  {
   "cell_type": "code",
   "execution_count": 4,
   "id": "bea21897",
   "metadata": {
    "ExecuteTime": {
     "end_time": "2023-04-20T17:55:56.486983Z",
     "start_time": "2023-04-20T17:55:56.479114Z"
    },
    "code_folding": [
     0
    ]
   },
   "outputs": [],
   "source": [
    "def __export_new_events(config, events_old, events):\n",
    "    \n",
    "    ## combine new and old catalog\n",
    "    tmp = pd.concat([__cat_to_df(events_old), __cat_to_df(events)]).reset_index(drop=False)\n",
    "    ## remove duplicates\n",
    "    df = tmp.drop_duplicates(subset=['index'], keep=False)\n",
    "    ## sort and set index\n",
    "    df = df.sort_index(ascending=False)\n",
    "    df.set_index('index', inplace=True, drop=True)\n",
    "    \n",
    "    ## export new events to pickle file\n",
    "    print(f\" -> export new events: {config['outpath']}new_events.pkl\")\n",
    "    df.to_pickle(config['outpath']+\"new_events.pkl\")\n",
    "    \n",
    "    del tmp, df  "
   ]
  },
  {
   "cell_type": "code",
   "execution_count": 5,
   "id": "2fa9a6d3",
   "metadata": {
    "ExecuteTime": {
     "end_time": "2023-04-20T17:55:56.495170Z",
     "start_time": "2023-04-20T17:55:56.488700Z"
    },
    "code_folding": [
     0
    ]
   },
   "outputs": [],
   "source": [
    "def __cat_to_df(cat):\n",
    "    \n",
    "    from pandas import DataFrame\n",
    "    \n",
    "    times = []\n",
    "    lats = []\n",
    "    lons = []\n",
    "    deps = []\n",
    "    magnitudes = []\n",
    "    magnitudestype = []\n",
    "    \n",
    "    for event in cat:\n",
    "        if len(event.origins) != 0 and len(event.magnitudes) != 0:\n",
    "            times.append(event.origins[0].time.datetime)\n",
    "            lats.append(event.origins[0].latitude)\n",
    "            lons.append(event.origins[0].longitude)\n",
    "            deps.append(event.origins[0].depth)\n",
    "            magnitudes.append(event.magnitudes[0].mag)\n",
    "            magnitudestype.append(event.magnitudes[0].magnitude_type )\n",
    "            \n",
    "    df = DataFrame({'latitude':lats,'longitude':lons,'depth':deps,\n",
    "                    'magnitude':magnitudes,'type':magnitudestype}, \n",
    "                     index = times\n",
    "                  )\n",
    "    \n",
    "    return df"
   ]
  },
  {
   "cell_type": "code",
   "execution_count": 6,
   "id": "70c092ee",
   "metadata": {
    "ExecuteTime": {
     "end_time": "2023-04-20T17:55:56.503948Z",
     "start_time": "2023-04-20T17:55:56.497076Z"
    },
    "code_folding": [
     0
    ]
   },
   "outputs": [],
   "source": [
    "def __add_distances_and_backazimuth(config, df):\n",
    "\n",
    "    from obspy.geodetics.base import gps2dist_azimuth\n",
    "\n",
    "    dist = np.zeros(len(df))\n",
    "    baz = np.zeros(len(df))\n",
    "\n",
    "    \n",
    "    for ii, ev in enumerate(df.index):\n",
    "        try:\n",
    "            dist[ii], az, baz[ii] = gps2dist_azimuth(config['BSPF_lat'], config['BSPF_lon'],\n",
    "                                                     df.latitude[ii], df.longitude[ii],\n",
    "                                                     a=6378137.0, f=0.0033528106647474805\n",
    "                                                     )\n",
    "        except:\n",
    "            print(\" -> failed to compute!\")\n",
    "            \n",
    "    df['backazimuth'] = baz\n",
    "    df['distances_km'] = dist/1000\n",
    "\n",
    "    return df"
   ]
  },
  {
   "cell_type": "markdown",
   "id": "fd72f646",
   "metadata": {},
   "source": [
    "## Get Events"
   ]
  },
  {
   "cell_type": "code",
   "execution_count": 7,
   "id": "b698125e",
   "metadata": {
    "ExecuteTime": {
     "end_time": "2023-04-20T18:01:23.130904Z",
     "start_time": "2023-04-20T18:00:06.381437Z"
    },
    "code_folding": [
     9,
     18,
     28
    ]
   },
   "outputs": [
    {
     "name": "stderr",
     "output_type": "stream",
     "text": [
      "/home/andbro/anaconda3/envs/pygmt/lib/python3.9/site-packages/obspy/io/quakeml/core.py:1112: UserWarning: 'quakeml:earthquake.usgs.gov/fdsnws/event/1/query?starttime=2022-10-01T00%3A00%3A00.000000&endtime=2023-03-31T00%3A00%3A00.000000&minlatitude=30.0&maxlatitude=36.0&minlongitude=-120.0&maxlongitude=-113.0' is not a valid QuakeML URI. It will be in the final file but note that the file will not be a valid QuakeML file.\n",
      "  warnings.warn(msg % obj.id)\n"
     ]
    }
   ],
   "source": [
    "client = Client(\"USGS\")\n",
    "\n",
    "## events - all in area and time period\n",
    "events_all = client.get_events(minlatitude=config['minlatitude'], maxlatitude=config['maxlatitude'],\n",
    "                               minlongitude=config['minlongitude'], maxlongitude=config['maxlongitude'],\n",
    "                               starttime=config['tbeg'],\n",
    "                               endtime=config['tend'],\n",
    "                               )\n",
    "\n",
    "# ## events smaller than 2.0\n",
    "# events_1 = client.get_events(minlatitude=config['minlatitude'], maxlatitude=config['maxlatitude'],\n",
    "#                              minlongitude=config['minlongitude'], maxlongitude=config['maxlongitude'],\n",
    "#                              starttime=config['tbeg'],\n",
    "#                              endtime=config['tend'],\n",
    "#                              maxmagnitude=2.0,\n",
    "#                             )\n",
    "\n",
    "## events between 2.0 and 3.0 within distance 0.5 degrees\n",
    "events_2 = client.get_events(\n",
    "                             latitude=config['BSPF_lat'], longitude=config['BSPF_lon'],\n",
    "                             starttime=config['tbeg'],\n",
    "                             endtime=config['tend'],\n",
    "                             minmagnitude=2.0,\n",
    "                             maxmagnitude=3.0,\n",
    "                             maxradius=0.5,\n",
    "                            )\n",
    "\n",
    "## events between 2.0 and 3.0 within distance 2.0 degrees\n",
    "events_3 = client.get_events(\n",
    "                             latitude=config['BSPF_lat'], longitude=config['BSPF_lon'],\n",
    "                             starttime=config['tbeg'],\n",
    "                             endtime=config['tend'],\n",
    "                             minmagnitude=3.0,\n",
    "                             maxmagnitude=5.0,\n",
    "                             maxradius=5.0,\n",
    "                            )\n",
    "\n",
    "## events larger than 5.0 \n",
    "events_4 = events_all.filter(\"magnitude > 5.0\")\n",
    "\n",
    "\n",
    "## join specified event catalogs together\n",
    "events = events_2 + events_3 + events_4\n",
    "\n",
    "\n",
    "# events.plot(projection=\"local\");\n",
    "\n",
    "events.write(config['outpath']+config['eventfile']+\".xml\", format=\"QUAKEML\")\n",
    "events_all.write(config['outpath']+config['eventfile']+\"_all.xml\", format=\"QUAKEML\")"
   ]
  },
  {
   "cell_type": "code",
   "execution_count": 8,
   "id": "43dc4fa7",
   "metadata": {
    "ExecuteTime": {
     "end_time": "2023-04-20T18:02:40.930755Z",
     "start_time": "2023-04-20T18:02:36.664350Z"
    }
   },
   "outputs": [],
   "source": [
    "## convert catalog object to data frame\n",
    "events_df = __cat_to_df(events)\n",
    "events_all_df = __cat_to_df(events_all)\n",
    "\n",
    "## add epicentral distances\n",
    "__add_distances_and_backazimuth(config, events_df)\n",
    "__add_distances_and_backazimuth(config, events_all_df)\n",
    "\n",
    "## write data frame as pickle file\n",
    "events_df.to_pickle(config['outpath']+config['eventfile']+\".pkl\")\n",
    "events_all_df.to_pickle(config['outpath']+config['eventfile']+\"_all.pkl\")"
   ]
  },
  {
   "cell_type": "markdown",
   "id": "73c2a6dc",
   "metadata": {},
   "source": [
    "## Plot Event Timeline"
   ]
  },
  {
   "cell_type": "code",
   "execution_count": 9,
   "id": "479b1342",
   "metadata": {
    "ExecuteTime": {
     "end_time": "2023-04-20T18:02:43.072550Z",
     "start_time": "2023-04-20T18:02:42.327654Z"
    }
   },
   "outputs": [
    {
     "data": {
      "text/html": [
       "<div>\n",
       "<style scoped>\n",
       "    .dataframe tbody tr th:only-of-type {\n",
       "        vertical-align: middle;\n",
       "    }\n",
       "\n",
       "    .dataframe tbody tr th {\n",
       "        vertical-align: top;\n",
       "    }\n",
       "\n",
       "    .dataframe thead th {\n",
       "        text-align: right;\n",
       "    }\n",
       "</style>\n",
       "<table border=\"1\" class=\"dataframe\">\n",
       "  <thead>\n",
       "    <tr style=\"text-align: right;\">\n",
       "      <th></th>\n",
       "      <th>timestamp</th>\n",
       "      <th>latitude</th>\n",
       "      <th>longitude</th>\n",
       "      <th>depth</th>\n",
       "      <th>magnitude</th>\n",
       "      <th>type</th>\n",
       "      <th>backazimuth</th>\n",
       "      <th>distances_km</th>\n",
       "      <th>seconds</th>\n",
       "    </tr>\n",
       "  </thead>\n",
       "  <tbody>\n",
       "    <tr>\n",
       "      <th>0</th>\n",
       "      <td>2023-03-27 09:28:56.340</td>\n",
       "      <td>33.785667</td>\n",
       "      <td>-116.053500</td>\n",
       "      <td>7370.0</td>\n",
       "      <td>2.58</td>\n",
       "      <td>ml</td>\n",
       "      <td>242.593767</td>\n",
       "      <td>42.017380</td>\n",
       "      <td>1.524973e+07</td>\n",
       "    </tr>\n",
       "    <tr>\n",
       "      <th>1</th>\n",
       "      <td>2023-03-24 15:04:04.090</td>\n",
       "      <td>33.180167</td>\n",
       "      <td>-116.411667</td>\n",
       "      <td>11860.0</td>\n",
       "      <td>2.87</td>\n",
       "      <td>ml</td>\n",
       "      <td>355.136878</td>\n",
       "      <td>47.918134</td>\n",
       "      <td>1.501064e+07</td>\n",
       "    </tr>\n",
       "    <tr>\n",
       "      <th>2</th>\n",
       "      <td>2023-03-24 14:07:44.550</td>\n",
       "      <td>33.183167</td>\n",
       "      <td>-116.416000</td>\n",
       "      <td>11800.0</td>\n",
       "      <td>2.01</td>\n",
       "      <td>ml</td>\n",
       "      <td>355.585675</td>\n",
       "      <td>47.553815</td>\n",
       "      <td>1.500726e+07</td>\n",
       "    </tr>\n",
       "    <tr>\n",
       "      <th>3</th>\n",
       "      <td>2023-03-24 13:59:00.160</td>\n",
       "      <td>33.180333</td>\n",
       "      <td>-116.410833</td>\n",
       "      <td>12470.0</td>\n",
       "      <td>2.31</td>\n",
       "      <td>ml</td>\n",
       "      <td>355.042838</td>\n",
       "      <td>47.906377</td>\n",
       "      <td>1.500674e+07</td>\n",
       "    </tr>\n",
       "    <tr>\n",
       "      <th>4</th>\n",
       "      <td>2023-03-22 03:21:34.900</td>\n",
       "      <td>33.465333</td>\n",
       "      <td>-116.569833</td>\n",
       "      <td>9260.0</td>\n",
       "      <td>2.56</td>\n",
       "      <td>ml</td>\n",
       "      <td>33.363541</td>\n",
       "      <td>19.304096</td>\n",
       "      <td>1.479569e+07</td>\n",
       "    </tr>\n",
       "    <tr>\n",
       "      <th>...</th>\n",
       "      <td>...</td>\n",
       "      <td>...</td>\n",
       "      <td>...</td>\n",
       "      <td>...</td>\n",
       "      <td>...</td>\n",
       "      <td>...</td>\n",
       "      <td>...</td>\n",
       "      <td>...</td>\n",
       "      <td>...</td>\n",
       "    </tr>\n",
       "    <tr>\n",
       "      <th>160</th>\n",
       "      <td>2022-10-05 04:51:30.350</td>\n",
       "      <td>37.327833</td>\n",
       "      <td>-120.041167</td>\n",
       "      <td>19550.0</td>\n",
       "      <td>3.01</td>\n",
       "      <td>ml</td>\n",
       "      <td>140.666788</td>\n",
       "      <td>525.267022</td>\n",
       "      <td>2.858868e+05</td>\n",
       "    </tr>\n",
       "    <tr>\n",
       "      <th>161</th>\n",
       "      <td>2022-10-04 16:38:33.910</td>\n",
       "      <td>32.338167</td>\n",
       "      <td>-115.244333</td>\n",
       "      <td>2830.0</td>\n",
       "      <td>3.57</td>\n",
       "      <td>ml</td>\n",
       "      <td>321.590002</td>\n",
       "      <td>180.919294</td>\n",
       "      <td>2.419104e+05</td>\n",
       "    </tr>\n",
       "    <tr>\n",
       "      <th>162</th>\n",
       "      <td>2022-10-03 16:08:09.970</td>\n",
       "      <td>33.924667</td>\n",
       "      <td>-116.921500</td>\n",
       "      <td>7620.0</td>\n",
       "      <td>3.01</td>\n",
       "      <td>ml</td>\n",
       "      <td>128.765512</td>\n",
       "      <td>55.472148</td>\n",
       "      <td>1.536864e+05</td>\n",
       "    </tr>\n",
       "    <tr>\n",
       "      <th>163</th>\n",
       "      <td>2022-10-03 08:24:33.660</td>\n",
       "      <td>33.869667</td>\n",
       "      <td>-117.764667</td>\n",
       "      <td>4270.0</td>\n",
       "      <td>3.08</td>\n",
       "      <td>ml</td>\n",
       "      <td>102.958875</td>\n",
       "      <td>124.674213</td>\n",
       "      <td>1.258701e+05</td>\n",
       "    </tr>\n",
       "    <tr>\n",
       "      <th>164</th>\n",
       "      <td>2022-11-22 16:39:05.789</td>\n",
       "      <td>30.793600</td>\n",
       "      <td>-116.390700</td>\n",
       "      <td>10000.0</td>\n",
       "      <td>6.20</td>\n",
       "      <td>mww</td>\n",
       "      <td>358.897734</td>\n",
       "      <td>312.442773</td>\n",
       "      <td>4.475542e+06</td>\n",
       "    </tr>\n",
       "  </tbody>\n",
       "</table>\n",
       "<p>165 rows × 9 columns</p>\n",
       "</div>"
      ],
      "text/plain": [
       "                  timestamp   latitude   longitude    depth  magnitude type  \\\n",
       "0   2023-03-27 09:28:56.340  33.785667 -116.053500   7370.0       2.58   ml   \n",
       "1   2023-03-24 15:04:04.090  33.180167 -116.411667  11860.0       2.87   ml   \n",
       "2   2023-03-24 14:07:44.550  33.183167 -116.416000  11800.0       2.01   ml   \n",
       "3   2023-03-24 13:59:00.160  33.180333 -116.410833  12470.0       2.31   ml   \n",
       "4   2023-03-22 03:21:34.900  33.465333 -116.569833   9260.0       2.56   ml   \n",
       "..                      ...        ...         ...      ...        ...  ...   \n",
       "160 2022-10-05 04:51:30.350  37.327833 -120.041167  19550.0       3.01   ml   \n",
       "161 2022-10-04 16:38:33.910  32.338167 -115.244333   2830.0       3.57   ml   \n",
       "162 2022-10-03 16:08:09.970  33.924667 -116.921500   7620.0       3.01   ml   \n",
       "163 2022-10-03 08:24:33.660  33.869667 -117.764667   4270.0       3.08   ml   \n",
       "164 2022-11-22 16:39:05.789  30.793600 -116.390700  10000.0       6.20  mww   \n",
       "\n",
       "     backazimuth  distances_km       seconds  \n",
       "0     242.593767     42.017380  1.524973e+07  \n",
       "1     355.136878     47.918134  1.501064e+07  \n",
       "2     355.585675     47.553815  1.500726e+07  \n",
       "3     355.042838     47.906377  1.500674e+07  \n",
       "4      33.363541     19.304096  1.479569e+07  \n",
       "..           ...           ...           ...  \n",
       "160   140.666788    525.267022  2.858868e+05  \n",
       "161   321.590002    180.919294  2.419104e+05  \n",
       "162   128.765512     55.472148  1.536864e+05  \n",
       "163   102.958875    124.674213  1.258701e+05  \n",
       "164   358.897734    312.442773  4.475542e+06  \n",
       "\n",
       "[165 rows x 9 columns]"
      ]
     },
     "execution_count": 9,
     "metadata": {},
     "output_type": "execute_result"
    }
   ],
   "source": [
    "events_all_df = events_all_df.rename_axis('timestamp').reset_index()\n",
    "events_all_df['seconds'] = [abs((events_all_df.timestamp.min()-tt).total_seconds()) for tt in events_all_df.timestamp]\n",
    "\n",
    "events_df = events_df.rename_axis('timestamp').reset_index()\n",
    "events_df['seconds'] = [abs((events_df.timestamp.min()-tt).total_seconds()) for tt in events_df.timestamp]\n",
    "events_df"
   ]
  },
  {
   "cell_type": "markdown",
   "id": "85da3d91",
   "metadata": {},
   "source": [
    "## Plots"
   ]
  },
  {
   "cell_type": "code",
   "execution_count": 1,
   "id": "2f474d8a",
   "metadata": {
    "ExecuteTime": {
     "end_time": "2023-05-12T11:34:59.402757Z",
     "start_time": "2023-05-12T11:34:59.393545Z"
    },
    "code_folding": [
     0
    ]
   },
   "outputs": [],
   "source": [
    "def __plot_timeline(catalog_df, catalog_all_df):\n",
    "\n",
    "    fig, ax = plt.subplots(1, 1, figsize=(15,5))\n",
    "\n",
    "    cax = ax.scatter(catalog_all_df.timestamp, catalog_all_df.distances_km, s=4**catalog_all_df.magnitude, \n",
    "                     c=catalog_all_df.magnitude, alpha=0.6, cmap='viridis')\n",
    "\n",
    "#     ax.scatter(catalog_df.timestamp, catalog_df.distances_km, s=4**catalog_df.magnitude, \n",
    "#                facecolors='none', edgecolors='r', lw=1.0, zorder=-1)\n",
    "\n",
    "    plt.colorbar(cax, ax=ax, pad=0.01)\n",
    "\n",
    "    ax.set_ylim(bottom=0)\n",
    "    ax.set_ylabel(\"Distance (km)\", fontsize=14)\n",
    "\n",
    "    ax.grid(ls=\":\", zorder=-1)\n",
    "    \n",
    "#     ax.set_xlim(events_all_df.timestamp.min().date(), events_all_df.timestamp.max().date())\n",
    "#     ax.set_xlim(obs.UTCDateTime(\"2022-09-29\"), obs.UTCDateTime(\"2023-04-03\"))\n",
    "\n",
    "    ax.set_title(f\"triggered={len(catalog_df)}\")\n",
    "    \n",
    "    plt.show();\n",
    "    return fig"
   ]
  },
  {
   "cell_type": "code",
   "execution_count": 2,
   "id": "b864ba5d",
   "metadata": {
    "ExecuteTime": {
     "end_time": "2023-05-12T11:35:00.265078Z",
     "start_time": "2023-05-12T11:35:00.214653Z"
    }
   },
   "outputs": [
    {
     "ename": "NameError",
     "evalue": "name 'events_df' is not defined",
     "output_type": "error",
     "traceback": [
      "\u001b[0;31m---------------------------------------------------------------------------\u001b[0m",
      "\u001b[0;31mNameError\u001b[0m                                 Traceback (most recent call last)",
      "\u001b[0;32m/tmp/ipykernel_493673/2066746826.py\u001b[0m in \u001b[0;36m<module>\u001b[0;34m\u001b[0m\n\u001b[0;32m----> 1\u001b[0;31m \u001b[0mfig\u001b[0m \u001b[0;34m=\u001b[0m \u001b[0m__plot_timeline\u001b[0m\u001b[0;34m(\u001b[0m\u001b[0mevents_df\u001b[0m\u001b[0;34m,\u001b[0m \u001b[0mevents_all_df\u001b[0m\u001b[0;34m)\u001b[0m\u001b[0;34m\u001b[0m\u001b[0;34m\u001b[0m\u001b[0m\n\u001b[0m",
      "\u001b[0;31mNameError\u001b[0m: name 'events_df' is not defined"
     ]
    }
   ],
   "source": [
    "fig = __plot_timeline(events_df, events_all_df)"
   ]
  },
  {
   "cell_type": "code",
   "execution_count": null,
   "id": "cd237140",
   "metadata": {},
   "outputs": [],
   "source": []
  }
 ],
 "metadata": {
  "kernelspec": {
   "display_name": "Python 3 (ipykernel)",
   "language": "python",
   "name": "python3"
  },
  "language_info": {
   "codemirror_mode": {
    "name": "ipython",
    "version": 3
   },
   "file_extension": ".py",
   "mimetype": "text/x-python",
   "name": "python",
   "nbconvert_exporter": "python",
   "pygments_lexer": "ipython3",
   "version": "3.9.16"
  },
  "latex_envs": {
   "LaTeX_envs_menu_present": true,
   "autoclose": true,
   "autocomplete": true,
   "bibliofile": "biblio.bib",
   "cite_by": "apalike",
   "current_citInitial": 1,
   "eqLabelWithNumbers": true,
   "eqNumInitial": 1,
   "hotkeys": {
    "equation": "Ctrl-E",
    "itemize": "Ctrl-I"
   },
   "labels_anchors": false,
   "latex_user_defs": false,
   "report_style_numbering": false,
   "user_envs_cfg": false
  },
  "toc": {
   "base_numbering": 1,
   "nav_menu": {},
   "number_sections": true,
   "sideBar": true,
   "skip_h1_title": false,
   "title_cell": "Table of Contents",
   "title_sidebar": "Contents",
   "toc_cell": false,
   "toc_position": {},
   "toc_section_display": true,
   "toc_window_display": false
  },
  "varInspector": {
   "cols": {
    "lenName": 16,
    "lenType": 16,
    "lenVar": 40
   },
   "kernels_config": {
    "python": {
     "delete_cmd_postfix": "",
     "delete_cmd_prefix": "del ",
     "library": "var_list.py",
     "varRefreshCmd": "print(var_dic_list())"
    },
    "r": {
     "delete_cmd_postfix": ") ",
     "delete_cmd_prefix": "rm(",
     "library": "var_list.r",
     "varRefreshCmd": "cat(var_dic_list()) "
    }
   },
   "types_to_exclude": [
    "module",
    "function",
    "builtin_function_or_method",
    "instance",
    "_Feature"
   ],
   "window_display": false
  }
 },
 "nbformat": 4,
 "nbformat_minor": 5
}
