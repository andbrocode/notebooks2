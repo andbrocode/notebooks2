{
 "cells": [
  {
   "cell_type": "markdown",
   "id": "09a2fa44",
   "metadata": {},
   "source": [
    "# Analyse BlueSeis BSPF Events"
   ]
  },
  {
   "cell_type": "markdown",
   "id": "5b1c7ac1",
   "metadata": {},
   "source": [
    "With pressure sensor parascientific and new sensor "
   ]
  },
  {
   "cell_type": "code",
   "execution_count": 1,
   "id": "ac7ec6a8",
   "metadata": {
    "ExecuteTime": {
     "end_time": "2023-06-27T15:01:44.117126Z",
     "start_time": "2023-06-27T15:01:42.672621Z"
    }
   },
   "outputs": [],
   "source": [
    "import os \n",
    "import obspy as obs\n",
    "import matplotlib.pyplot as plt\n",
    "import numpy as np\n",
    "import pandas as pd\n",
    "\n",
    "# from andbro__savefig import __savefig\n",
    "from obspy.clients.fdsn import Client"
   ]
  },
  {
   "cell_type": "markdown",
   "id": "2d625638",
   "metadata": {
    "ExecuteTime": {
     "end_time": "2023-01-13T15:42:15.099966Z",
     "start_time": "2023-01-13T15:42:15.096483Z"
    }
   },
   "source": [
    "## Configurations"
   ]
  },
  {
   "cell_type": "code",
   "execution_count": 2,
   "id": "4f157a5b",
   "metadata": {
    "ExecuteTime": {
     "end_time": "2023-06-27T15:01:44.125498Z",
     "start_time": "2023-06-27T15:01:44.120230Z"
    }
   },
   "outputs": [],
   "source": [
    "if os.uname().nodename == 'lighthouse':\n",
    "    root_path = '/home/andbro/'\n",
    "    data_path = '/home/andbro/kilauea-data/'\n",
    "    archive_path = '/home/andbro/freenas/'\n",
    "elif os.uname().nodename == 'kilauea':\n",
    "    root_path = '/home/brotzer/'\n",
    "    data_path = '/import/kilauea-data/'\n",
    "    archive_path = '/import/freenas-ffb-01-data/'"
   ]
  },
  {
   "cell_type": "code",
   "execution_count": 3,
   "id": "685a3ddf",
   "metadata": {
    "ExecuteTime": {
     "end_time": "2023-06-27T15:01:44.137426Z",
     "start_time": "2023-06-27T15:01:44.129638Z"
    }
   },
   "outputs": [],
   "source": [
    "config = {}\n",
    "\n",
    "## first region specified\n",
    "config['minlatitude'] = 31\n",
    "config['maxlatitude'] = 35\n",
    "config['minlongitude'] = -119\n",
    "config['maxlongitude'] = -114\n",
    "config['eventfile'] = \"BSPF_catalog\"\n",
    "\n",
    "## extended region specified\n",
    "# config['minlatitude'] = 31 -1\n",
    "# config['maxlatitude'] = 35 +1\n",
    "# config['minlongitude'] = -119 -1\n",
    "# config['maxlongitude'] = -114 +1\n",
    "# config['eventfile'] = \"BSPF_event_catalog_extended\"\n",
    "\n",
    "## specify coordinates of station\n",
    "config['BSPF_lon'] = np.array([-116.455439])\n",
    "config['BSPF_lat'] = np.array([33.610643])\n",
    "\n",
    "config['minmagnitude'] = 2.5\n",
    "\n",
    "config['tbeg'] = obs.UTCDateTime(\"2022-10-01\")\n",
    "config['tend'] = obs.UTCDateTime(\"2023-05-31\")\n",
    "\n",
    "\n",
    "config['trigger'] = data_path+\"BSPF/trigger/\"\n",
    "\n",
    "config['outpath'] = data_path+\"BSPF/data/\"\n",
    "config['outpath'] = \"./\"\n",
    "\n",
    "## adjust eventfile name\n",
    "config['eventfile'] += f\"_{str(config['tbeg'].date).replace('-','')}\"\n",
    "config['eventfile'] += f\"_{str(config['tend'].date).replace('-','')}\""
   ]
  },
  {
   "cell_type": "code",
   "execution_count": 4,
   "id": "cd80af1b",
   "metadata": {
    "ExecuteTime": {
     "end_time": "2023-06-27T15:01:44.143760Z",
     "start_time": "2023-06-27T15:01:44.139407Z"
    }
   },
   "outputs": [],
   "source": [
    "from functions.catalog_to_dataframe import __catalog_to_dataframe"
   ]
  },
  {
   "cell_type": "code",
   "execution_count": 5,
   "id": "bea21897",
   "metadata": {
    "ExecuteTime": {
     "end_time": "2023-06-27T15:01:44.148761Z",
     "start_time": "2023-06-27T15:01:44.145075Z"
    },
    "code_folding": [
     0
    ]
   },
   "outputs": [],
   "source": [
    "def __export_new_events(config, events_old, events):\n",
    "    \n",
    "    ## combine new and old catalog\n",
    "    tmp = pd.concat([__cat_to_df(events_old), __cat_to_df(events)]).reset_index(drop=False)\n",
    "    ## remove duplicates\n",
    "    df = tmp.drop_duplicates(subset=['index'], keep=False)\n",
    "    ## sort and set index\n",
    "    df = df.sort_index(ascending=False)\n",
    "    df.set_index('index', inplace=True, drop=True)\n",
    "    \n",
    "    ## export new events to pickle file\n",
    "    print(f\" -> export new events: {config['outpath']}new_events.pkl\")\n",
    "    df.to_pickle(config['outpath']+\"new_events.pkl\")\n",
    "    \n",
    "    del tmp, df  "
   ]
  },
  {
   "cell_type": "code",
   "execution_count": 6,
   "id": "70c092ee",
   "metadata": {
    "ExecuteTime": {
     "end_time": "2023-06-27T15:01:44.153654Z",
     "start_time": "2023-06-27T15:01:44.150045Z"
    },
    "code_folding": [
     0
    ]
   },
   "outputs": [],
   "source": [
    "def __add_distances_and_backazimuth(config, df):\n",
    "\n",
    "    from obspy.geodetics.base import gps2dist_azimuth\n",
    "\n",
    "    dist = np.zeros(len(df))\n",
    "    baz = np.zeros(len(df))\n",
    "\n",
    "    \n",
    "    for ii, ev in enumerate(df.index):\n",
    "        try:\n",
    "            dist[ii], az, baz[ii] = gps2dist_azimuth(config['BSPF_lat'], config['BSPF_lon'],\n",
    "                                                     df.latitude[ii], df.longitude[ii],\n",
    "                                                     a=6378137.0, f=0.0033528106647474805\n",
    "                                                     )\n",
    "        except:\n",
    "            print(\" -> failed to compute!\")\n",
    "            \n",
    "    df['backazimuth'] = baz\n",
    "    df['distances_km'] = dist/1000\n",
    "\n",
    "    return df"
   ]
  },
  {
   "cell_type": "markdown",
   "id": "fd72f646",
   "metadata": {},
   "source": [
    "## Get Events"
   ]
  },
  {
   "cell_type": "code",
   "execution_count": 7,
   "id": "55d95a8d",
   "metadata": {
    "ExecuteTime": {
     "end_time": "2023-06-27T15:02:14.281996Z",
     "start_time": "2023-06-27T15:01:44.154896Z"
    },
    "code_folding": []
   },
   "outputs": [
    {
     "name": "stdout",
     "output_type": "stream",
     "text": [
      " -> storing: ./BSPF_catalog_20221001_20230531_all.xml\n"
     ]
    },
    {
     "name": "stderr",
     "output_type": "stream",
     "text": [
      "/home/andbro/anaconda3/envs/obs/lib/python3.7/site-packages/obspy/io/quakeml/core.py:1109: UserWarning: 'quakeml:earthquake.usgs.gov/fdsnws/event/1/query?starttime=2022-10-01T00%3A00%3A00.000000&endtime=2023-05-31T00%3A00%3A00.000000&minlatitude=31.0&maxlatitude=35.0&minlongitude=-119.0&maxlongitude=-114.0' is not a valid QuakeML URI. It will be in the final file but note that the file will not be a valid QuakeML file.\n",
      "  warnings.warn(msg % obj.id)\n"
     ]
    }
   ],
   "source": [
    "client = Client(\"USGS\")\n",
    "\n",
    "## events - all in area and time period\n",
    "events_all = client.get_events(minlatitude=config['minlatitude'], maxlatitude=config['maxlatitude'],\n",
    "                               minlongitude=config['minlongitude'], maxlongitude=config['maxlongitude'],\n",
    "                               starttime=config['tbeg'],\n",
    "                               endtime=config['tend'],\n",
    "                               )\n",
    "\n",
    "print(f\" -> storing: {config['outpath']}{config['eventfile']}_all.xml\")\n",
    "events_all.write(config['outpath']+config['eventfile']+\"_all.xml\", format=\"QUAKEML\")"
   ]
  },
  {
   "cell_type": "code",
   "execution_count": 8,
   "id": "b698125e",
   "metadata": {
    "ExecuteTime": {
     "end_time": "2023-06-27T15:02:14.286075Z",
     "start_time": "2023-06-27T15:02:14.283444Z"
    },
    "code_folding": [
     9,
     18,
     28
    ]
   },
   "outputs": [],
   "source": [
    "# ## events smaller than 2.0\n",
    "# events_1 = client.get_events(minlatitude=config['minlatitude'], maxlatitude=config['maxlatitude'],\n",
    "#                              minlongitude=config['minlongitude'], maxlongitude=config['maxlongitude'],\n",
    "#                              starttime=config['tbeg'],\n",
    "#                              endtime=config['tend'],\n",
    "#                              maxmagnitude=2.0,\n",
    "#                             )\n",
    "\n",
    "# ## events between 2.0 and 3.0 within distance 0.5 degrees\n",
    "# events_2 = client.get_events(\n",
    "#                              latitude=config['BSPF_lat'], longitude=config['BSPF_lon'],\n",
    "#                              starttime=config['tbeg'],\n",
    "#                              endtime=config['tend'],\n",
    "#                              minmagnitude=2.0,\n",
    "#                              maxmagnitude=3.0,\n",
    "#                              maxradius=0.5,\n",
    "#                             )\n",
    "\n",
    "# ## events between 2.0 and 3.0 within distance 2.0 degrees\n",
    "# events_3 = client.get_events(\n",
    "#                              latitude=config['BSPF_lat'], longitude=config['BSPF_lon'],\n",
    "#                              starttime=config['tbeg'],\n",
    "#                              endtime=config['tend'],\n",
    "#                              minmagnitude=3.0,\n",
    "#                              maxmagnitude=5.0,\n",
    "#                              maxradius=5.0,\n",
    "#                             )\n",
    "\n",
    "# ## events larger than 5.0 \n",
    "# events_4 = events_all.filter(\"magnitude > 5.0\")\n",
    "\n",
    "\n",
    "# ## join specified event catalogs together\n",
    "# events = events_2 + events_3 + events_4\n",
    "\n",
    "# events.plot(projection=\"local\");\n",
    "\n",
    "# print(f\" -> storing: {config['outpath']}{config['eventfile']}_filtered.xml\")\n",
    "# events.write(config['outpath']+config['eventfile']+\"_filtered.xml\", format=\"QUAKEML\")"
   ]
  },
  {
   "cell_type": "markdown",
   "id": "43b98ae3",
   "metadata": {
    "ExecuteTime": {
     "end_time": "2023-06-27T13:14:43.949601Z",
     "start_time": "2023-06-27T13:14:43.946210Z"
    }
   },
   "source": [
    "### converting to dataframe"
   ]
  },
  {
   "cell_type": "code",
   "execution_count": 9,
   "id": "dc43c219",
   "metadata": {
    "ExecuteTime": {
     "end_time": "2023-06-27T15:02:14.363402Z",
     "start_time": "2023-06-27T15:02:14.287289Z"
    }
   },
   "outputs": [],
   "source": [
    "## convert catalog object to data frame\n",
    "# events_df = __catalog_to_dataframe(events)\n",
    "events_all_df = __catalog_to_dataframe(events_all)"
   ]
  },
  {
   "cell_type": "markdown",
   "id": "8af88c72",
   "metadata": {
    "ExecuteTime": {
     "end_time": "2023-06-27T13:18:09.796267Z",
     "start_time": "2023-06-27T13:18:09.788645Z"
    }
   },
   "source": [
    "### add distances and backazimuth"
   ]
  },
  {
   "cell_type": "code",
   "execution_count": 10,
   "id": "7190b202",
   "metadata": {
    "ExecuteTime": {
     "end_time": "2023-06-27T15:02:15.740588Z",
     "start_time": "2023-06-27T15:02:14.365518Z"
    }
   },
   "outputs": [
    {
     "data": {
      "text/html": [
       "<div>\n",
       "<style scoped>\n",
       "    .dataframe tbody tr th:only-of-type {\n",
       "        vertical-align: middle;\n",
       "    }\n",
       "\n",
       "    .dataframe tbody tr th {\n",
       "        vertical-align: top;\n",
       "    }\n",
       "\n",
       "    .dataframe thead th {\n",
       "        text-align: right;\n",
       "    }\n",
       "</style>\n",
       "<table border=\"1\" class=\"dataframe\">\n",
       "  <thead>\n",
       "    <tr style=\"text-align: right;\">\n",
       "      <th></th>\n",
       "      <th>latitude</th>\n",
       "      <th>longitude</th>\n",
       "      <th>depth</th>\n",
       "      <th>magnitude</th>\n",
       "      <th>type</th>\n",
       "      <th>backazimuth</th>\n",
       "      <th>distances_km</th>\n",
       "    </tr>\n",
       "  </thead>\n",
       "  <tbody>\n",
       "    <tr>\n",
       "      <th>2023-05-30 23:29:26.310</th>\n",
       "      <td>34.112333</td>\n",
       "      <td>-117.497000</td>\n",
       "      <td>16340.0</td>\n",
       "      <td>0.86</td>\n",
       "      <td>ml</td>\n",
       "      <td>119.710058</td>\n",
       "      <td>111.290512</td>\n",
       "    </tr>\n",
       "    <tr>\n",
       "      <th>2023-05-30 20:56:30.580</th>\n",
       "      <td>33.443833</td>\n",
       "      <td>-116.644333</td>\n",
       "      <td>6860.0</td>\n",
       "      <td>0.29</td>\n",
       "      <td>ml</td>\n",
       "      <td>43.431182</td>\n",
       "      <td>25.499096</td>\n",
       "    </tr>\n",
       "    <tr>\n",
       "      <th>2023-05-30 20:51:53.480</th>\n",
       "      <td>33.440333</td>\n",
       "      <td>-116.434667</td>\n",
       "      <td>7370.0</td>\n",
       "      <td>0.87</td>\n",
       "      <td>ml</td>\n",
       "      <td>354.173003</td>\n",
       "      <td>18.988008</td>\n",
       "    </tr>\n",
       "    <tr>\n",
       "      <th>2023-05-30 20:36:58.790</th>\n",
       "      <td>33.864667</td>\n",
       "      <td>-117.503500</td>\n",
       "      <td>550.0</td>\n",
       "      <td>1.00</td>\n",
       "      <td>ml</td>\n",
       "      <td>105.886367</td>\n",
       "      <td>101.125395</td>\n",
       "    </tr>\n",
       "    <tr>\n",
       "      <th>2023-05-30 20:18:55.760</th>\n",
       "      <td>32.884833</td>\n",
       "      <td>-116.229333</td>\n",
       "      <td>7150.0</td>\n",
       "      <td>1.33</td>\n",
       "      <td>ml</td>\n",
       "      <td>345.393440</td>\n",
       "      <td>83.210713</td>\n",
       "    </tr>\n",
       "    <tr>\n",
       "      <th>...</th>\n",
       "      <td>...</td>\n",
       "      <td>...</td>\n",
       "      <td>...</td>\n",
       "      <td>...</td>\n",
       "      <td>...</td>\n",
       "      <td>...</td>\n",
       "      <td>...</td>\n",
       "    </tr>\n",
       "    <tr>\n",
       "      <th>2022-10-01 05:52:50.880</th>\n",
       "      <td>34.192500</td>\n",
       "      <td>-116.824333</td>\n",
       "      <td>6870.0</td>\n",
       "      <td>1.19</td>\n",
       "      <td>ml</td>\n",
       "      <td>152.033462</td>\n",
       "      <td>73.003543</td>\n",
       "    </tr>\n",
       "    <tr>\n",
       "      <th>2022-10-01 05:36:11.240</th>\n",
       "      <td>33.489667</td>\n",
       "      <td>-116.507167</td>\n",
       "      <td>9120.0</td>\n",
       "      <td>1.13</td>\n",
       "      <td>ml</td>\n",
       "      <td>19.684030</td>\n",
       "      <td>14.252022</td>\n",
       "    </tr>\n",
       "    <tr>\n",
       "      <th>2022-10-01 04:30:50.050</th>\n",
       "      <td>34.657667</td>\n",
       "      <td>-116.335167</td>\n",
       "      <td>3860.0</td>\n",
       "      <td>1.33</td>\n",
       "      <td>ml</td>\n",
       "      <td>185.490185</td>\n",
       "      <td>116.669525</td>\n",
       "    </tr>\n",
       "    <tr>\n",
       "      <th>2022-10-01 04:06:52.340</th>\n",
       "      <td>34.236000</td>\n",
       "      <td>-118.594500</td>\n",
       "      <td>2850.0</td>\n",
       "      <td>0.88</td>\n",
       "      <td>ml</td>\n",
       "      <td>108.726355</td>\n",
       "      <td>209.598906</td>\n",
       "    </tr>\n",
       "    <tr>\n",
       "      <th>2022-10-01 00:08:34.430</th>\n",
       "      <td>33.991833</td>\n",
       "      <td>-116.690167</td>\n",
       "      <td>15010.0</td>\n",
       "      <td>0.84</td>\n",
       "      <td>ml</td>\n",
       "      <td>152.728123</td>\n",
       "      <td>47.540840</td>\n",
       "    </tr>\n",
       "  </tbody>\n",
       "</table>\n",
       "<p>7100 rows × 7 columns</p>\n",
       "</div>"
      ],
      "text/plain": [
       "                          latitude   longitude    depth  magnitude type  \\\n",
       "2023-05-30 23:29:26.310  34.112333 -117.497000  16340.0       0.86   ml   \n",
       "2023-05-30 20:56:30.580  33.443833 -116.644333   6860.0       0.29   ml   \n",
       "2023-05-30 20:51:53.480  33.440333 -116.434667   7370.0       0.87   ml   \n",
       "2023-05-30 20:36:58.790  33.864667 -117.503500    550.0       1.00   ml   \n",
       "2023-05-30 20:18:55.760  32.884833 -116.229333   7150.0       1.33   ml   \n",
       "...                            ...         ...      ...        ...  ...   \n",
       "2022-10-01 05:52:50.880  34.192500 -116.824333   6870.0       1.19   ml   \n",
       "2022-10-01 05:36:11.240  33.489667 -116.507167   9120.0       1.13   ml   \n",
       "2022-10-01 04:30:50.050  34.657667 -116.335167   3860.0       1.33   ml   \n",
       "2022-10-01 04:06:52.340  34.236000 -118.594500   2850.0       0.88   ml   \n",
       "2022-10-01 00:08:34.430  33.991833 -116.690167  15010.0       0.84   ml   \n",
       "\n",
       "                         backazimuth  distances_km  \n",
       "2023-05-30 23:29:26.310   119.710058    111.290512  \n",
       "2023-05-30 20:56:30.580    43.431182     25.499096  \n",
       "2023-05-30 20:51:53.480   354.173003     18.988008  \n",
       "2023-05-30 20:36:58.790   105.886367    101.125395  \n",
       "2023-05-30 20:18:55.760   345.393440     83.210713  \n",
       "...                              ...           ...  \n",
       "2022-10-01 05:52:50.880   152.033462     73.003543  \n",
       "2022-10-01 05:36:11.240    19.684030     14.252022  \n",
       "2022-10-01 04:30:50.050   185.490185    116.669525  \n",
       "2022-10-01 04:06:52.340   108.726355    209.598906  \n",
       "2022-10-01 00:08:34.430   152.728123     47.540840  \n",
       "\n",
       "[7100 rows x 7 columns]"
      ]
     },
     "execution_count": 10,
     "metadata": {},
     "output_type": "execute_result"
    }
   ],
   "source": [
    "## add epicentral distances\n",
    "# __add_distances_and_backazimuth(config, events_df)\n",
    "__add_distances_and_backazimuth(config, events_all_df)"
   ]
  },
  {
   "cell_type": "markdown",
   "id": "5421840d",
   "metadata": {},
   "source": [
    "### store catalogs"
   ]
  },
  {
   "cell_type": "code",
   "execution_count": 11,
   "id": "43dc4fa7",
   "metadata": {
    "ExecuteTime": {
     "end_time": "2023-06-27T15:02:15.750849Z",
     "start_time": "2023-06-27T15:02:15.743706Z"
    }
   },
   "outputs": [],
   "source": [
    "## write data frame as pickle file\n",
    "# events_df.to_pickle(config['outpath']+config['eventfile']+\".pkl\")\n",
    "events_all_df.to_pickle(config['outpath']+config['eventfile']+\"_all.pkl\")"
   ]
  },
  {
   "cell_type": "markdown",
   "id": "da4f2238",
   "metadata": {},
   "source": [
    "## Request Focal Mechanisms"
   ]
  },
  {
   "cell_type": "code",
   "execution_count": 12,
   "id": "37d9bda7",
   "metadata": {
    "ExecuteTime": {
     "end_time": "2023-06-27T15:02:15.856181Z",
     "start_time": "2023-06-27T15:02:15.753001Z"
    }
   },
   "outputs": [
    {
     "ename": "NameError",
     "evalue": "name '__request_CMT_events' is not defined",
     "output_type": "error",
     "traceback": [
      "\u001b[0;31m---------------------------------------------------------------------------\u001b[0m",
      "\u001b[0;31mNameError\u001b[0m                                 Traceback (most recent call last)",
      "\u001b[0;32m/tmp/ipykernel_72429/964817866.py\u001b[0m in \u001b[0;36m<module>\u001b[0;34m\u001b[0m\n\u001b[1;32m      6\u001b[0m \u001b[0mt2\u001b[0m \u001b[0;34m=\u001b[0m \u001b[0;34m{\u001b[0m\u001b[0mstr\u001b[0m\u001b[0;34m(\u001b[0m\u001b[0mconfig\u001b[0m\u001b[0;34m[\u001b[0m\u001b[0;34m'tend'\u001b[0m\u001b[0;34m]\u001b[0m\u001b[0;34m.\u001b[0m\u001b[0mdate\u001b[0m\u001b[0;34m)\u001b[0m\u001b[0;34m.\u001b[0m\u001b[0mreplace\u001b[0m\u001b[0;34m(\u001b[0m\u001b[0;34m'-'\u001b[0m\u001b[0;34m,\u001b[0m\u001b[0;34m''\u001b[0m\u001b[0;34m)\u001b[0m\u001b[0;34m}\u001b[0m\u001b[0;34m\u001b[0m\u001b[0;34m\u001b[0m\u001b[0m\n\u001b[1;32m      7\u001b[0m \u001b[0;34m\u001b[0m\u001b[0m\n\u001b[0;32m----> 8\u001b[0;31m \u001b[0m__request_CMT_events\u001b[0m\u001b[0;34m(\u001b[0m\u001b[0mstarttime\u001b[0m\u001b[0;34m=\u001b[0m\u001b[0mconfig\u001b[0m\u001b[0;34m[\u001b[0m\u001b[0;34m'tbeg'\u001b[0m\u001b[0;34m]\u001b[0m\u001b[0;34m,\u001b[0m \u001b[0mendtime\u001b[0m\u001b[0;34m=\u001b[0m\u001b[0mconfig\u001b[0m\u001b[0;34m[\u001b[0m\u001b[0;34m'tend'\u001b[0m\u001b[0;34m]\u001b[0m\u001b[0;34m,\u001b[0m \u001b[0mouttype\u001b[0m\u001b[0;34m=\u001b[0m\u001b[0;34m\"QUAKEML\"\u001b[0m\u001b[0;34m,\u001b[0m \u001b[0moutfile\u001b[0m\u001b[0;34m=\u001b[0m\u001b[0mconfig\u001b[0m\u001b[0;34m[\u001b[0m\u001b[0;34m'outpath'\u001b[0m\u001b[0;34m]\u001b[0m\u001b[0;34m+\u001b[0m\u001b[0;34mf\"gcmt_solutions_{t1}_{t2}.xml\"\u001b[0m\u001b[0;34m)\u001b[0m\u001b[0;34m\u001b[0m\u001b[0;34m\u001b[0m\u001b[0m\n\u001b[0m\u001b[1;32m      9\u001b[0m \u001b[0;34m\u001b[0m\u001b[0m\n\u001b[1;32m     10\u001b[0m \u001b[0;31m# cgmt = obs.read_events(config['outpath']+'gcmt_solutions_{t1}_{t2}.xml')\u001b[0m\u001b[0;34m\u001b[0m\u001b[0;34m\u001b[0m\u001b[0;34m\u001b[0m\u001b[0m\n",
      "\u001b[0;31mNameError\u001b[0m: name '__request_CMT_events' is not defined"
     ]
    }
   ],
   "source": [
    "from functions import request_CMT_events\n",
    "\n",
    "# !rm ./gcmt_solutions.xml\n",
    "\n",
    "t1 = {str(config['tbeg'].date).replace('-','')}\n",
    "t2 = {str(config['tend'].date).replace('-','')}\n",
    "\n",
    "__request_CMT_events(starttime=config['tbeg'], endtime=config['tend'], outtype=\"QUAKEML\", outfile=config['outpath']+f\"gcmt_solutions_{t1}_{t2}.xml\")\n",
    "\n",
    "# cgmt = obs.read_events(config['outpath']+'gcmt_solutions_{t1}_{t2}.xml')"
   ]
  },
  {
   "cell_type": "markdown",
   "id": "73c2a6dc",
   "metadata": {},
   "source": [
    "## Plot Event Timeline"
   ]
  },
  {
   "cell_type": "code",
   "execution_count": null,
   "id": "479b1342",
   "metadata": {
    "ExecuteTime": {
     "end_time": "2023-06-27T15:02:15.859176Z",
     "start_time": "2023-06-27T15:02:15.859165Z"
    }
   },
   "outputs": [],
   "source": [
    "events_all_df = events_all_df.rename_axis('timestamp').reset_index()\n",
    "events_all_df['seconds'] = [abs((events_all_df.timestamp.min()-tt).total_seconds()) for tt in events_all_df.timestamp]\n",
    "\n",
    "events_df = events_df.rename_axis('timestamp').reset_index()\n",
    "events_df['seconds'] = [abs((events_df.timestamp.min()-tt).total_seconds()) for tt in events_df.timestamp]\n",
    "events_df"
   ]
  },
  {
   "cell_type": "markdown",
   "id": "85da3d91",
   "metadata": {},
   "source": [
    "## Plots"
   ]
  },
  {
   "cell_type": "code",
   "execution_count": null,
   "id": "2f474d8a",
   "metadata": {
    "ExecuteTime": {
     "end_time": "2023-06-27T15:02:15.860484Z",
     "start_time": "2023-06-27T15:02:15.860462Z"
    },
    "code_folding": [
     0
    ]
   },
   "outputs": [],
   "source": [
    "def __plot_timeline(catalog_df, catalog_all_df):\n",
    "\n",
    "    fig, ax = plt.subplots(1, 1, figsize=(15,5))\n",
    "\n",
    "    cax = ax.scatter(catalog_all_df.timestamp, catalog_all_df.distances_km, s=4**catalog_all_df.magnitude, \n",
    "                     c=catalog_all_df.magnitude, alpha=0.6, cmap='viridis')\n",
    "\n",
    "#     ax.scatter(catalog_df.timestamp, catalog_df.distances_km, s=4**catalog_df.magnitude, \n",
    "#                facecolors='none', edgecolors='r', lw=1.0, zorder=-1)\n",
    "\n",
    "    plt.colorbar(cax, ax=ax, pad=0.01)\n",
    "\n",
    "    ax.set_ylim(bottom=0)\n",
    "    ax.set_ylabel(\"Distance (km)\", fontsize=14)\n",
    "\n",
    "    ax.grid(ls=\":\", zorder=-1)\n",
    "    \n",
    "#     ax.set_xlim(events_all_df.timestamp.min().date(), events_all_df.timestamp.max().date())\n",
    "#     ax.set_xlim(obs.UTCDateTime(\"2022-09-29\"), obs.UTCDateTime(\"2023-04-03\"))\n",
    "\n",
    "    ax.set_title(f\"triggered={len(catalog_df)}\")\n",
    "    \n",
    "    plt.show();\n",
    "    return fig"
   ]
  },
  {
   "cell_type": "code",
   "execution_count": null,
   "id": "b864ba5d",
   "metadata": {
    "ExecuteTime": {
     "end_time": "2023-06-27T15:02:15.862347Z",
     "start_time": "2023-06-27T15:02:15.862324Z"
    }
   },
   "outputs": [],
   "source": [
    "fig = __plot_timeline(events_df, events_all_df)"
   ]
  },
  {
   "cell_type": "code",
   "execution_count": null,
   "id": "cd237140",
   "metadata": {},
   "outputs": [],
   "source": []
  }
 ],
 "metadata": {
  "kernelspec": {
   "display_name": "Python 3 (ipykernel)",
   "language": "python",
   "name": "python3"
  },
  "language_info": {
   "codemirror_mode": {
    "name": "ipython",
    "version": 3
   },
   "file_extension": ".py",
   "mimetype": "text/x-python",
   "name": "python",
   "nbconvert_exporter": "python",
   "pygments_lexer": "ipython3",
   "version": "3.7.8"
  },
  "latex_envs": {
   "LaTeX_envs_menu_present": true,
   "autoclose": true,
   "autocomplete": true,
   "bibliofile": "biblio.bib",
   "cite_by": "apalike",
   "current_citInitial": 1,
   "eqLabelWithNumbers": true,
   "eqNumInitial": 1,
   "hotkeys": {
    "equation": "Ctrl-E",
    "itemize": "Ctrl-I"
   },
   "labels_anchors": false,
   "latex_user_defs": false,
   "report_style_numbering": false,
   "user_envs_cfg": false
  },
  "toc": {
   "base_numbering": 1,
   "nav_menu": {},
   "number_sections": true,
   "sideBar": true,
   "skip_h1_title": false,
   "title_cell": "Table of Contents",
   "title_sidebar": "Contents",
   "toc_cell": false,
   "toc_position": {},
   "toc_section_display": true,
   "toc_window_display": false
  },
  "varInspector": {
   "cols": {
    "lenName": 16,
    "lenType": 16,
    "lenVar": 40
   },
   "kernels_config": {
    "python": {
     "delete_cmd_postfix": "",
     "delete_cmd_prefix": "del ",
     "library": "var_list.py",
     "varRefreshCmd": "print(var_dic_list())"
    },
    "r": {
     "delete_cmd_postfix": ") ",
     "delete_cmd_prefix": "rm(",
     "library": "var_list.r",
     "varRefreshCmd": "cat(var_dic_list()) "
    }
   },
   "types_to_exclude": [
    "module",
    "function",
    "builtin_function_or_method",
    "instance",
    "_Feature"
   ],
   "window_display": false
  }
 },
 "nbformat": 4,
 "nbformat_minor": 5
}
