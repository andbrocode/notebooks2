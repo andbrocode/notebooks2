{
 "cells": [
  {
   "cell_type": "markdown",
   "id": "26ad060e",
   "metadata": {
    "ExecuteTime": {
     "end_time": "2022-09-13T00:35:24.926376Z",
     "start_time": "2022-09-13T00:35:24.923877Z"
    }
   },
   "source": [
    "# Analyse BlueSeis BSPF Event Analysis"
   ]
  },
  {
   "cell_type": "markdown",
   "id": "fa47ca0c",
   "metadata": {},
   "source": [
    "With pressure sensor parascientific and new sensor "
   ]
  },
  {
   "cell_type": "code",
   "execution_count": 2,
   "id": "7ae027cf",
   "metadata": {
    "ExecuteTime": {
     "end_time": "2023-08-02T13:01:58.437821Z",
     "start_time": "2023-08-02T13:01:57.419311Z"
    }
   },
   "outputs": [],
   "source": [
    "import os \n",
    "import obspy as obs\n",
    "import matplotlib.pyplot as plt\n",
    "import numpy as np\n",
    "import pandas as pd\n",
    "\n",
    "from andbro__savefig import __savefig"
   ]
  },
  {
   "cell_type": "code",
   "execution_count": 3,
   "id": "71544580",
   "metadata": {
    "ExecuteTime": {
     "end_time": "2023-08-02T13:01:58.462335Z",
     "start_time": "2023-08-02T13:01:58.455270Z"
    }
   },
   "outputs": [],
   "source": [
    "from functions.get_theoretical_backazimuth import __get_theoretical_backazimuth\n",
    "from functions.request_data import __request_data\n",
    "from functions.compute_adr_pfo import __compute_adr_pfo"
   ]
  },
  {
   "cell_type": "code",
   "execution_count": 4,
   "id": "31994b59",
   "metadata": {
    "ExecuteTime": {
     "end_time": "2023-08-02T13:01:58.485173Z",
     "start_time": "2023-08-02T13:01:58.477652Z"
    },
    "code_folding": [
     0
    ]
   },
   "outputs": [],
   "source": [
    "# def __request_data(seed, tbeg, tend):\n",
    "\n",
    "#     from obspy.clients.fdsn import Client\n",
    "\n",
    "#     client = Client(\"IRIS\")\n",
    "\n",
    "#     net, sta, loc, cha = seed.split(\".\")\n",
    "\n",
    "#     try:\n",
    "#         inventory = client.get_stations(network=net, \n",
    "#                                          station=sta,\n",
    "#                                          starttime=tbeg-60,\n",
    "#                                          endtime=tend+60,\n",
    "#                                          level=\"response\",\n",
    "#                                          )\n",
    "#     except:\n",
    "#         print(\"Failed to load inventory!\")\n",
    "#         inventory = None\n",
    "        \n",
    "#     try:\n",
    "#         waveform = client.get_waveforms(network=net,\n",
    "#                                        station=sta,\n",
    "#                                        location=loc,\n",
    "#                                        channel=cha, \n",
    "#                                        starttime=tbeg-60,\n",
    "#                                        endtime=tend+60,\n",
    "#                                        )\n",
    "\n",
    "#     except:\n",
    "#         print(\"Failed to load waveforms!\")\n",
    "#         waveform = None\n",
    "    \n",
    "#     return waveform, inventory"
   ]
  },
  {
   "cell_type": "code",
   "execution_count": 5,
   "id": "0420f6c7",
   "metadata": {
    "ExecuteTime": {
     "end_time": "2023-08-02T13:01:58.505815Z",
     "start_time": "2023-08-02T13:01:58.502905Z"
    },
    "code_folding": [
     0
    ]
   },
   "outputs": [],
   "source": [
    "# def __get_theo_baz(config, fdsn_client=\"USGS\"):\n",
    "    \n",
    "#     from obspy.clients.fdsn import Client\n",
    "#     from obspy.geodetics.base import gps2dist_azimuth\n",
    "\n",
    "#     ## get event if not provided\n",
    "#     if 'event' not in config.keys():\n",
    "#         events = Client(fdsn_client).get_events(starttime=config['eventtime']-20, endtime=config['eventtime']+20)\n",
    "#         if len(events) > 1:\n",
    "#             print(f\" -> {len(events)} events found!!!\")\n",
    "#             print(events)\n",
    "            \n",
    "#     event = events[0]\n",
    "        \n",
    "#     ## event location from event info\n",
    "#     config['source_latitude'] = event.origins[0].latitude\n",
    "#     config['source_longitude'] = event.origins[0].longitude\n",
    "    \n",
    "    \n",
    "#     dist, az, baz = gps2dist_azimuth(\n",
    "#                                     config['source_latitude'], config['source_longitude'], \n",
    "#                                     config['BSPF_lat'], config['BSPF_lon'],\n",
    "#                                     )\n",
    "    \n",
    "\n",
    "#     return baz"
   ]
  },
  {
   "cell_type": "markdown",
   "id": "a9cfd05f",
   "metadata": {},
   "source": [
    "## Configurations"
   ]
  },
  {
   "cell_type": "code",
   "execution_count": 6,
   "id": "7a0175a0",
   "metadata": {
    "ExecuteTime": {
     "end_time": "2023-08-02T13:01:58.523245Z",
     "start_time": "2023-08-02T13:01:58.519636Z"
    }
   },
   "outputs": [],
   "source": [
    "workdir = \"/home/andbro/Documents/ROMY/BSPF\""
   ]
  },
  {
   "cell_type": "code",
   "execution_count": 7,
   "id": "d4b1e0b9",
   "metadata": {
    "ExecuteTime": {
     "end_time": "2023-08-02T13:01:58.654036Z",
     "start_time": "2023-08-02T13:01:58.648518Z"
    }
   },
   "outputs": [],
   "source": [
    "config = {}\n",
    "\n",
    "## blueSeis sensor BSPF\n",
    "config['seed_blueseis'] = \"PY.BSPF..HJ*\"\n",
    "\n",
    "## Trillium 240 next to BlueSeis on Pier\n",
    "config['seed_seismometer'] = \"II.PFO.10.BH*\"\n",
    "\n",
    "## from April 2023 onwards STS-2\n",
    "config['seed_seismometer'] = \"PY.PFOIX..HH*\" \n",
    "\n",
    "## BSPF coordinates\n",
    "config['BSPF_lon'] = -116.455439\n",
    "config['BSPF_lat'] = 33.610643"
   ]
  },
  {
   "cell_type": "markdown",
   "id": "c4eed2cb",
   "metadata": {},
   "source": [
    "## Event Info"
   ]
  },
  {
   "cell_type": "code",
   "execution_count": 8,
   "id": "3c1c5de6",
   "metadata": {
    "ExecuteTime": {
     "end_time": "2023-08-02T13:02:00.484460Z",
     "start_time": "2023-08-02T13:02:00.474819Z"
    }
   },
   "outputs": [],
   "source": [
    "## Peru / Ecuador \n",
    "# config['tbeg'] = obs.UTCDateTime(\"2022-10-05 10:26\")\n",
    "# config['tend'] = obs.UTCDateTime(\"2022-10-05 10:40\")\n",
    "\n",
    "## Near PFO  - !! with XX location code\n",
    "# config['tbeg'] = obs.UTCDateTime(\"2022-10-05 15:39:32\")\n",
    "# config['tend'] = obs.UTCDateTime(\"2022-10-05 15:39:45\")\n",
    "\n",
    "\n",
    "## Gulf of California M6.2 -> somewhat\n",
    "# config['title'] = \"Gullf of California | 2022-11-04 10:02 UTC | M6.2\"\n",
    "# config['tbeg'] = obs.UTCDateTime(\"2022-11-04 10:02\")\n",
    "# config['tend'] = obs.UTCDateTime(\"2022-11-04 10:15\")\n",
    "# config['fmin'], config['fmax'] = 0.025, 0.2\n",
    "\n",
    "## ..., California M3.2 -> good\n",
    "# config['tbeg'] = obs.UTCDateTime(\"2023-01-09 19:42:56\")\n",
    "# config['tend'] = config['tbeg']+20\n",
    "# config['fmin'], config['fmax'] = 0.5, 10.0\n",
    "# config['title'] = f\"Borrego Springs, Ca | {config['tbeg'].date} {str(config['tbeg'].time)[:5]} UTC | M3.2\"\n",
    "\n",
    "## Las Brisas, Mexico M6.2 -> alright\n",
    "# config['title'] = \"Las Brisas, Mexico | 2022-11-22 16:39 UTC | M6.2\"\n",
    "# config['eventtime'] = obs.UTCDateTime(\"2022-11-22 16:39\")\n",
    "# config['tbeg'] = obs.UTCDateTime(\"2022-11-22 16:32\")\n",
    "# config['tend'] = obs.UTCDateTime(\"2022-11-22 17:00\")\n",
    "# config['fmin'], config['fmax'] = 0.01, 0.5\n",
    "\n",
    "## Borrego Springs, California M4.2 -> good\n",
    "# config['eventtime'] = obs.UTCDateTime(\"2022-12-31 12:12:26\")\n",
    "# config['tbeg'] = obs.UTCDateTime(\"2022-12-31 12:12:27\")\n",
    "# config['tend'] = obs.UTCDateTime(\"2022-12-31 12:13\")\n",
    "# config['fmin'], config['fmax'] = 0.1, 15.0\n",
    "# config['title'] = f\"Borrego Springs, Ca | {config['tbeg'].date} {str(config['tbeg'].time)[:5]} UTC | M4.2\"\n",
    "\n",
    "\n",
    "\n",
    "\n",
    "## _________________with_STS-2________________________________\n",
    "\n",
    "## ..., California M2.7\n",
    "# config['tbeg'] = obs.UTCDateTime(\"2023-04-10 14:50:56\")\n",
    "# config['tend'] = config['tbeg']+25\n",
    "# config['fmin'], config['fmax'] = 0.5, 80.0\n",
    "# config['title'] = f\"Borrego Springs, Ca | {config['tbeg'].date} {str(config['tbeg'].time)[:5]} UTC | M2.7\"\n",
    "\n",
    "\n",
    "        \n",
    "## ... \n",
    "# config['eventtime'] = obs.UTCDateTime(\"2023-04-30 07:09:35\")\n",
    "# config['tbeg'] = config['eventtime']\n",
    "# config['tend'] = config['tbeg']+300\n",
    "# config['fmin'], config['fmax'] = 3, 12\n",
    "# config['title'] = f\"... | {config['tbeg'].date} {str(config['tbeg'].time)[:5]} UTC | M4.5\"\n",
    "\n",
    "## ... \n",
    "config['eventtime'] = obs.UTCDateTime(\"2023-04-30 07:58:35\")\n",
    "config['tbeg'] = config['eventtime']-30\n",
    "config['tend'] = config['tbeg']+300\n",
    "config['fmin'], config['fmax'] = 0.1, 20\n",
    "config['title'] = f\"... | {config['tbeg'].date} {str(config['tbeg'].time)[:5]} UTC | M4.5\"\n",
    "\n",
    "\n",
    "## ... \n",
    "# config['eventtime'] = obs.UTCDateTime(\"2023-07-07 16:02:00\")\n",
    "# config['tbeg'] = obs.UTCDateTime(\"2023-07-07 16:02:20\")\n",
    "# config['tend'] = config['tbeg']+80\n",
    "# config['fmin'], config['fmax'] = 0.01, 80\n",
    "# config['title'] = f\"... | {config['tbeg'].date} {str(config['tbeg'].time)[:5]} UTC | M?\"\n",
    "\n",
    "\n"
   ]
  },
  {
   "cell_type": "markdown",
   "id": "47ff88ba",
   "metadata": {},
   "source": [
    "## Load Data"
   ]
  },
  {
   "cell_type": "markdown",
   "id": "d4819654",
   "metadata": {},
   "source": [
    "### Load blueSeis Data"
   ]
  },
  {
   "cell_type": "code",
   "execution_count": null,
   "id": "56d13550",
   "metadata": {
    "ExecuteTime": {
     "end_time": "2023-07-14T16:49:53.191398Z",
     "start_time": "2023-07-14T16:49:53.186807Z"
    }
   },
   "outputs": [],
   "source": [
    "# config['fmin'], config['fmax'] = 1, 2"
   ]
  },
  {
   "cell_type": "code",
   "execution_count": 1,
   "id": "3b708f31",
   "metadata": {
    "ExecuteTime": {
     "end_time": "2023-08-02T13:01:54.033067Z",
     "start_time": "2023-08-02T13:01:53.978027Z"
    }
   },
   "outputs": [
    {
     "ename": "NameError",
     "evalue": "name '__request_data' is not defined",
     "output_type": "error",
     "traceback": [
      "\u001b[0;31m---------------------------------------------------------------------------\u001b[0m",
      "\u001b[0;31mNameError\u001b[0m                                 Traceback (most recent call last)",
      "\u001b[0;32m/tmp/ipykernel_186315/3062090616.py\u001b[0m in \u001b[0;36m<module>\u001b[0;34m\u001b[0m\n\u001b[0;32m----> 1\u001b[0;31m \u001b[0mpy_bspf0\u001b[0m\u001b[0;34m,\u001b[0m \u001b[0mpy_bspf_inv\u001b[0m \u001b[0;34m=\u001b[0m \u001b[0m__request_data\u001b[0m\u001b[0;34m(\u001b[0m\u001b[0mconfig\u001b[0m\u001b[0;34m[\u001b[0m\u001b[0;34m'seed_blueseis'\u001b[0m\u001b[0;34m]\u001b[0m\u001b[0;34m,\u001b[0m \u001b[0mconfig\u001b[0m\u001b[0;34m[\u001b[0m\u001b[0;34m'tbeg'\u001b[0m\u001b[0;34m]\u001b[0m\u001b[0;34m,\u001b[0m \u001b[0mconfig\u001b[0m\u001b[0;34m[\u001b[0m\u001b[0;34m'tend'\u001b[0m\u001b[0;34m]\u001b[0m\u001b[0;34m)\u001b[0m\u001b[0;34m\u001b[0m\u001b[0;34m\u001b[0m\u001b[0m\n\u001b[0m\u001b[1;32m      2\u001b[0m \u001b[0;34m\u001b[0m\u001b[0m\n\u001b[1;32m      3\u001b[0m \u001b[0;34m\u001b[0m\u001b[0m\n\u001b[1;32m      4\u001b[0m \u001b[0mpy_bspf\u001b[0m \u001b[0;34m=\u001b[0m \u001b[0mpy_bspf0\u001b[0m\u001b[0;34m.\u001b[0m\u001b[0mcopy\u001b[0m\u001b[0;34m(\u001b[0m\u001b[0;34m)\u001b[0m\u001b[0;34m\u001b[0m\u001b[0;34m\u001b[0m\u001b[0m\n\u001b[1;32m      5\u001b[0m \u001b[0;34m\u001b[0m\u001b[0m\n",
      "\u001b[0;31mNameError\u001b[0m: name '__request_data' is not defined"
     ]
    }
   ],
   "source": [
    "py_bspf0, py_bspf_inv = __request_data(config['seed_blueseis'], config['tbeg'], config['tend'])\n",
    "\n",
    "\n",
    "py_bspf = py_bspf0.copy()\n",
    "\n",
    "## merge traces that might be split due to data gaps or overlaps\n",
    "if len(py_bspf) > 3:\n",
    "    py_bspf.merge(fill_value=\"interpolate\")\n",
    "\n",
    "## resample to 40 Hz\n",
    "if config['seed_seismometer'].split(\".\")[3][0] == \"B\":\n",
    "    py_bspf.resample(40)\n",
    "\n",
    "## cut to event\n",
    "py_bspf = py_bspf.trim(config['tbeg'], config['tend'])\n",
    "\n",
    "## remove mean\n",
    "py_bspf = py_bspf.detrend(\"demean\")\n",
    "\n",
    "## apply taper\n",
    "py_bspf = py_bspf.taper(0.1)\n",
    "\n",
    "## bandpass filter\n",
    "py_bspf = py_bspf.filter(\"bandpass\", freqmin=config['fmin'], freqmax=config['fmax'], corners=4, zerophase=True)\n",
    "\n",
    "## show all traces in data stream\n",
    "print(py_bspf)\n",
    "\n",
    "py_bspf.plot(equal_scale=False);"
   ]
  },
  {
   "cell_type": "markdown",
   "id": "3e6072c2",
   "metadata": {},
   "source": [
    "### Load Seismometer Data"
   ]
  },
  {
   "cell_type": "code",
   "execution_count": null,
   "id": "e18f87d6",
   "metadata": {
    "ExecuteTime": {
     "end_time": "2023-07-14T16:54:16.075520Z",
     "start_time": "2023-07-14T16:54:08.519265Z"
    }
   },
   "outputs": [],
   "source": [
    "ii_pfo0, ii_pfo_inv = __request_data(config['seed_seismometer'], config['tbeg'], config['tend'])\n",
    "\n",
    "\n",
    "ii_pfo = ii_pfo0.copy()\n",
    "\n",
    "## cut properly\n",
    "ii_pfo = ii_pfo.trim(config['tbeg'], config['tend'])\n",
    "\n",
    "## demean\n",
    "ii_pfo = ii_pfo.detrend(\"demean\")\n",
    "\n",
    "## taper \n",
    "ii_pfo = ii_pfo.taper(0.1)\n",
    "\n",
    "## bandpass\n",
    "ii_pfo = ii_pfo.filter(\"bandpass\", freqmin=config['fmin'], freqmax=config['fmax'], corners=4, zerophase=True)\n",
    "\n",
    "print(ii_pfo)\n",
    "ii_pfo.plot(equal_scale=False);"
   ]
  },
  {
   "cell_type": "markdown",
   "id": "9ba5c207",
   "metadata": {},
   "source": [
    "## Load ADR "
   ]
  },
  {
   "cell_type": "code",
   "execution_count": null,
   "id": "99b24ac7",
   "metadata": {
    "ExecuteTime": {
     "end_time": "2023-07-07T16:36:17.920333Z",
     "start_time": "2023-07-07T16:36:02.991647Z"
    }
   },
   "outputs": [],
   "source": [
    "adr_inner = __compute_adr_pfo(config['tbeg'], config['tend'], submask=\"inner\")\n",
    "\n",
    "adr_inner = adr_inner.taper(0.1)\n",
    "adr_inner = adr_inner.filter(\"bandpass\", freqmin=config['fmin'], freqmax=config['fmax'], corners=4, zerophase=True)\n",
    "adr_inner"
   ]
  },
  {
   "cell_type": "code",
   "execution_count": null,
   "id": "b1c35022",
   "metadata": {
    "ExecuteTime": {
     "end_time": "2023-07-07T16:36:38.845577Z",
     "start_time": "2023-07-07T16:36:17.921830Z"
    }
   },
   "outputs": [],
   "source": [
    "adr_outer = __compute_adr_pfo(config['tbeg'], config['tend'], submask=\"optimal\")\n",
    "\n",
    "adr_outer = adr_outer.taper(0.1)\n",
    "adr_outer = adr_outer.filter(\"bandpass\", freqmin=config['fmin'], freqmax=config['fmax'], corners=4, zerophase=True)\n",
    "adr_outer"
   ]
  },
  {
   "cell_type": "code",
   "execution_count": null,
   "id": "ddd5593a",
   "metadata": {
    "ExecuteTime": {
     "end_time": "2023-07-07T16:36:38.954334Z",
     "start_time": "2023-07-07T16:36:38.846627Z"
    }
   },
   "outputs": [],
   "source": [
    "st_adr = obs.Stream()\n",
    "\n",
    "st_adr += py_bspf.copy()\n",
    "st_adr += adr_inner.copy()\n",
    "st_adr += adr_outer.copy()\n",
    "\n",
    "st_adr = st_adr.trim(adr_inner[0].stats.starttime, adr_inner[0].stats.endtime)"
   ]
  },
  {
   "cell_type": "markdown",
   "id": "fcf3d040",
   "metadata": {
    "ExecuteTime": {
     "end_time": "2022-11-08T11:18:42.650132Z",
     "start_time": "2022-11-08T11:18:42.646547Z"
    }
   },
   "source": [
    "### Join Data"
   ]
  },
  {
   "cell_type": "code",
   "execution_count": null,
   "id": "65f028ce",
   "metadata": {
    "ExecuteTime": {
     "end_time": "2023-07-07T16:36:39.060135Z",
     "start_time": "2023-07-07T16:36:38.955343Z"
    }
   },
   "outputs": [],
   "source": [
    "st_all = obs.Stream()\n",
    "\n",
    "st_all += py_bspf.copy()\n",
    "st_all += ii_pfo.copy()\n",
    "st_all += adr_inner.copy()\n",
    "\n",
    "\n",
    "st_all = st_all.trim(adr_inner[0].stats.starttime, adr_inner[0].stats.endtime)\n",
    "\n",
    "# st_all = st_all.normalize()"
   ]
  },
  {
   "cell_type": "markdown",
   "id": "c12d978c",
   "metadata": {},
   "source": [
    "## Plotting"
   ]
  },
  {
   "cell_type": "code",
   "execution_count": null,
   "id": "6823170d",
   "metadata": {
    "ExecuteTime": {
     "end_time": "2023-07-07T16:36:39.066694Z",
     "start_time": "2023-07-07T16:36:39.061070Z"
    },
    "code_folding": [
     0
    ]
   },
   "outputs": [],
   "source": [
    "def __makeplot_traces(config, st0):\n",
    "\n",
    "    st = st0.copy()\n",
    "    \n",
    "    fig, ax = plt.subplots(len(st),1, figsize=(15,10), sharex=True)\n",
    "\n",
    "    font = 14\n",
    "\n",
    "    time_scaling, time_unit = 1, \"sec\"\n",
    "    rot_scaling = 1e9\n",
    "    trans_scaling = 1e6\n",
    "    \n",
    "    for i, tr in enumerate(st):\n",
    "\n",
    "        if i in [0,1,2]:\n",
    "            ax[i].set_ylabel(r\"$\\omega$ (nrad/s)\", fontsize=font)\n",
    "            ax[i].plot(tr.times()/time_scaling, tr.data*rot_scaling, 'k', label=tr.stats.station+\".\"+tr.stats.channel)\n",
    "\n",
    "        elif i in [3,4,5]:\n",
    "            ax[i].set_ylabel(r\"u ($\\mu$m/s)\", fontsize=font)\n",
    "            ax[i].plot(tr.times()/time_scaling, tr.data*trans_scaling, 'k', label=tr.stats.station+\".\"+tr.stats.channel)\n",
    "        \n",
    "        elif i in [6,7,8]:\n",
    "            ax[i].set_ylabel(r\"$\\omega$ (nrad/s)\", fontsize=font)\n",
    "            ax[i].plot(tr.times()/time_scaling, tr.data*rot_scaling, 'k', label=tr.stats.station+\".\"+tr.stats.channel)\n",
    "            \n",
    "        ax[i].legend(loc=1)\n",
    "        \n",
    "    ax[len(st)-1].set_xlabel(f\"Time ({time_unit}) from {st[0].stats.starttime.date} {str(st[0].stats.starttime.time).split('.')[0]} UTC\", fontsize=font)\n",
    "    ax[0].set_title(config['title']+f\" | {config['fmin']} - {config['fmax']} Hz\", fontsize=font, pad=10)\n",
    "    \n",
    "    plt.show();\n",
    "    return fig"
   ]
  },
  {
   "cell_type": "code",
   "execution_count": null,
   "id": "d40c9cb3",
   "metadata": {
    "ExecuteTime": {
     "end_time": "2023-07-07T16:36:39.082579Z",
     "start_time": "2023-07-07T16:36:39.067732Z"
    },
    "code_folding": [
     0
    ]
   },
   "outputs": [],
   "source": [
    "# fig = __makeplot_traces(config, st_all)"
   ]
  },
  {
   "cell_type": "code",
   "execution_count": null,
   "id": "8165d501",
   "metadata": {
    "ExecuteTime": {
     "end_time": "2023-07-07T16:36:39.097977Z",
     "start_time": "2023-07-07T16:36:39.083606Z"
    },
    "code_folding": [
     0
    ]
   },
   "outputs": [],
   "source": [
    "def __makeplot_traces2(config, st0):\n",
    "\n",
    "    st = st0.copy()\n",
    "    \n",
    "    fig, ax = plt.subplots(len(st),1, figsize=(15,10), sharex=True)\n",
    "\n",
    "    font = 14\n",
    "\n",
    "    time_scaling, time_unit = 1, \"sec\"\n",
    "    rot_scaling = 1e6\n",
    "    trans_scaling = 1e3\n",
    "    \n",
    "    for i, tr in enumerate(st):\n",
    "\n",
    "        if i in [0,1,2]:\n",
    "#             ax[i].set_ylabel(r\"$\\omega$ (nrad/s)\", fontsize=font)\n",
    "            ax[i].plot(tr.times()*time_scaling, tr.data*rot_scaling, 'black', label=tr.stats.station+\".\"+tr.stats.channel)\n",
    "            ax[i].set_ylabel(r\"$\\omega$ ($\\mu$rad/s)\")\n",
    "        elif i in [3,4,5]:\n",
    "#             ax[i].set_ylabel(r\"u ($\\mu$m/s)\", fontsize=font)\n",
    "            ax[i].plot(tr.times()*time_scaling, tr.data*trans_scaling, 'darkred', label=tr.stats.station+\".\"+tr.stats.channel)\n",
    "            ax[i].set_ylabel(r\"a (mm/s)\")\n",
    "        \n",
    "        elif i in [6,7,8]:\n",
    "#             ax[i].set_ylabel(r\"$\\omega$ (nrad/s)\", fontsize=font)\n",
    "            ax[i].plot(tr.times()*time_scaling, tr.data*rot_scaling, 'darkgreen', label=tr.stats.station+\".\"+tr.stats.channel)\n",
    "            ax[i].set_ylabel(r\"adr ($\\mu$rad/s)\")\n",
    "         \n",
    "#         ax[i].set_ylim(-1,1)\n",
    "        ax[i].spines['right'].set_visible(False)\n",
    "        ax[i].spines['top'].set_visible(False)\n",
    "        if i != int(len(st)-1):\n",
    "            ax[i].spines['bottom'].set_visible(False)\n",
    "#             ax[i].set(xticklabels=[]) \n",
    "            ax[i].tick_params(bottom=False)\n",
    "        \n",
    "        ax[i].legend(loc=1)\n",
    "        \n",
    "    ax[len(st)-1].set_xlabel(f\"Time ({time_unit}) from {st[0].stats.starttime.date} {str(st[0].stats.starttime.time).split('.')[0]} UTC\", fontsize=font)\n",
    "    ax[0].set_title(config['title']+f\" | {config['fmin']} - {config['fmax']} Hz\", fontsize=font, pad=10)\n",
    "    \n",
    "    plt.show();\n",
    "    return fig"
   ]
  },
  {
   "cell_type": "code",
   "execution_count": null,
   "id": "842a8560",
   "metadata": {
    "ExecuteTime": {
     "end_time": "2023-07-07T16:36:41.218763Z",
     "start_time": "2023-07-07T16:36:39.099045Z"
    },
    "code_folding": []
   },
   "outputs": [],
   "source": [
    "fig = __makeplot_traces2(config, st_all)"
   ]
  },
  {
   "cell_type": "code",
   "execution_count": null,
   "id": "3e6efd11",
   "metadata": {
    "ExecuteTime": {
     "end_time": "2023-07-07T16:36:41.221377Z",
     "start_time": "2023-07-07T16:36:41.219652Z"
    }
   },
   "outputs": [],
   "source": [
    "# __savefig(fig, outpath=\"/home/andbro/Downloads/tmp/BSPF/\", outname=\"BSPF_event_1\", mode=\"png\", dpi=300)"
   ]
  },
  {
   "cell_type": "code",
   "execution_count": null,
   "id": "60467d23",
   "metadata": {
    "ExecuteTime": {
     "end_time": "2023-07-07T16:36:41.238548Z",
     "start_time": "2023-07-07T16:36:41.222359Z"
    },
    "code_folding": [
     0
    ]
   },
   "outputs": [],
   "source": [
    "def __makeplotStreamSpectra2(st, config, fscale=None):\n",
    "\n",
    "    from scipy import fftpack\n",
    "    from andbro__fft import __fft\n",
    "    import matplotlib.pyplot as plt\n",
    "\n",
    "    NN = len(st)\n",
    "    rot_scaling, rot_unit = 1e6, r\"$\\mu$rad/s\"\n",
    "    trans_scaling, trans_unit = 1e3, r\"mm/s\"\n",
    "        \n",
    "    fig, axes = plt.subplots(NN,2,figsize=(15,int(NN*2)), sharex='col')\n",
    "\n",
    "    font = 14\n",
    "    \n",
    "    plt.subplots_adjust(hspace=0.3)\n",
    "\n",
    "    ## _______________________________________________\n",
    "\n",
    "    st.sort(keys=['channel'], reverse=True)\n",
    "    \n",
    "    for i, tr in enumerate(st):\n",
    "\n",
    "#         comp_fft = abs(fftpack.fft(tr.data))\n",
    "#         ff       = fftpack.fftfreq(comp_fft.size, d=1/tr.stats.sampling_rate)\n",
    "#         comp_fft = fftpack.fftshift(comp_fft)\n",
    "#         ff, spec = ff[1:len(ff)//2], abs(fftpack.fft(tr.data)[1:len(ff)//2])\n",
    "\n",
    "        if tr.stats.channel[-2] == \"J\":\n",
    "            scaling = rot_scaling\n",
    "        elif tr.stats.channel[-2] == \"H\":\n",
    "            scaling = trans_scaling\n",
    "\n",
    "        spec, ff, ph = __fft(tr.data*scaling, tr.stats.delta, window=None, normalize=None)\n",
    "    \n",
    "    \n",
    "        ## _________________________________________________________________\n",
    "        if tr.stats.channel[-2] == \"J\":\n",
    "            axes[i,0].plot(\n",
    "                        tr.times(),\n",
    "                        tr.data*rot_scaling,\n",
    "                        color='black',\n",
    "                        label='{} {}'.format(tr.stats.station, tr.stats.channel),\n",
    "                        lw=1.0,\n",
    "                        )\n",
    "            axes[i,1].fill_between(ff, 0, spec, alpha=0.9, color='black', lw=0)\n",
    "\n",
    "\n",
    "        elif tr.stats.channel[-2] == \"H\":\n",
    "            axes[i,0].plot(\n",
    "                        tr.times(),\n",
    "                        tr.data*trans_scaling,\n",
    "                        color='darkblue',\n",
    "                        label='{} {}'.format(tr.stats.station, tr.stats.channel),\n",
    "                        lw=1.0,\n",
    "                        )\n",
    "            axes[i,1].fill_between(ff, 0, spec, alpha=0.9, color='darkblue', lw=0)\n",
    "\n",
    "\n",
    "        ## _________________________________________________________________\n",
    "#         if fscale == \"loglog\":\n",
    "# #             axes[i,1].loglog(ff, spec, color='black', lw=1.0)\n",
    "#             axes[i,1].fill_between(ff, 0, spec, alpha=0.7, color='black', lw=1.)\n",
    "            \n",
    "#         elif fscale == \"loglin\":\n",
    "# #             axes[i,1].semilogx(ff, spec, color='black', lw=1.0)\n",
    "#             axes[i,1].fill_between(ff, 0, spec, alpha=0.7, color='black', lw=1.)\n",
    "\n",
    "#         elif fscale == \"linlog\":\n",
    "# #             axes[i,1].semilogy(ff, spec, color='black', lw=1.0)\n",
    "#             axes[i,1].fill_between(ff, 0, spec, alpha=0.7, color='black', lw=1.)\n",
    "\n",
    "#         else:\n",
    "# #             axes[i,1].plot(ff, spec, color='black', lw=1.0)\n",
    "#             axes[i,1].fill_between(ff, 0, spec, alpha=0.7, color='black')\n",
    "\n",
    "        \n",
    "        if tr.stats.channel[1] == \"J\":\n",
    "            sym, unit = r\"$\\Omega$\", rot_unit\n",
    "        elif tr.stats.channel[1] == \"H\":\n",
    "            sym, unit = \"v\", trans_unit\n",
    "        else:\n",
    "            unit = \"Amplitude\", \"a.u.\"\n",
    "            \n",
    "        axes[i,0].set_ylabel(f'{sym} ({unit})',fontsize=font)    \n",
    "        axes[i,1].set_ylabel(f'ASD \\n({unit}/Hz)',fontsize=font)        \n",
    "        axes[i,0].legend(loc='upper left',bbox_to_anchor=(0.8, 1.10), framealpha=1.0)\n",
    "        \n",
    "#         axes[i,0].ticklabel_format(axis='y', style='sci', scilimits=(0,0))\n",
    "#         axes[i,1].ticklabel_format(axis='y', style='sci', scilimits=(0,0))\n",
    "\n",
    "    if \"fmin\" in config.keys() and \"fmax\" in config.keys():\n",
    "        axes[i,1].set_xlim(config['fmin'],config['fmax'])\n",
    "\n",
    "    axes[NN-1,0].set_xlabel(f\"Time from {tr.stats.starttime.date} {str(tr.stats.starttime.time)[:8]} (s)\",fontsize=font)     \n",
    "    axes[NN-1,1].set_xlabel(f\"Frequency (Hz)\",fontsize=font)     \n",
    "\n",
    "    return fig"
   ]
  },
  {
   "cell_type": "code",
   "execution_count": null,
   "id": "33b96a08",
   "metadata": {
    "ExecuteTime": {
     "end_time": "2023-07-07T16:36:43.447997Z",
     "start_time": "2023-07-07T16:36:41.239666Z"
    },
    "code_folding": [
     0
    ]
   },
   "outputs": [],
   "source": [
    "fig = __makeplotStreamSpectra2(st_all, config, fscale=\"linlin\");"
   ]
  },
  {
   "cell_type": "code",
   "execution_count": null,
   "id": "92fdaf8d",
   "metadata": {
    "ExecuteTime": {
     "end_time": "2023-07-07T16:36:43.450490Z",
     "start_time": "2023-07-07T16:36:43.448845Z"
    }
   },
   "outputs": [],
   "source": [
    "# __savefig(fig, outpath=\"/home/andbro/Downloads/tmp/BSPF/\", outname=\"BSPF_ASD_event_1\", mode=\"png\", dpi=300)"
   ]
  },
  {
   "cell_type": "code",
   "execution_count": null,
   "id": "c2658bf2",
   "metadata": {
    "ExecuteTime": {
     "end_time": "2023-07-07T16:36:43.471815Z",
     "start_time": "2023-07-07T16:36:43.451481Z"
    },
    "code_folding": [
     0
    ]
   },
   "outputs": [],
   "source": [
    "def __makeplotStreamSpectra3(st0, config):\n",
    "\n",
    "    from scipy import fftpack\n",
    "    from andbro__fft import __fft\n",
    "    from matplotlib.gridspec import GridSpec\n",
    "    import matplotlib.pyplot as plt\n",
    "\n",
    "    st = st0.copy()\n",
    "    \n",
    "    NN = 5\n",
    "    rot_scaling, rot_unit = 1e9, r\"nrad/s\"\n",
    "    trans_scaling, trans_unit = 1e6, r\"$\\mu$m/s\"\n",
    "    \n",
    "#     rot_scaling, rot_unit = 1, r\"nrad/s\"\n",
    "#     trans_scaling, trans_unit = 1, r\"$\\mu$m/s\"\n",
    "\n",
    "    colors = ['crimson', 'red', 'magenta', 'green', 'yellowgreen', 'lime']\n",
    "\n",
    "#     fig, axes = plt.subplots(NN, 2 ,figsize=(15, int(NN*2)), sharex='col', layout=\"constrained\")\n",
    "    fig = plt.figure(figsize=(15,12))\n",
    "    \n",
    "    gs = GridSpec(NN, 2, figure=fig)\n",
    "    \n",
    "    ax1 = fig.add_subplot(gs[0, :-1])\n",
    "    ax2 = fig.add_subplot(gs[1, :-1])\n",
    "    ax3 = fig.add_subplot(gs[2, :-1])\n",
    "\n",
    "    ax4 = fig.add_subplot(gs[0, 1:])\n",
    "    ax5 = fig.add_subplot(gs[1, 1:])\n",
    "    ax6 = fig.add_subplot(gs[2, 1:])\n",
    "\n",
    "    ax7 = fig.add_subplot(gs[3:, :])\n",
    "    \n",
    "    \n",
    "    font = 14\n",
    "    \n",
    "    plt.subplots_adjust(hspace=0.1)\n",
    "\n",
    "    ## _______________________________________________\n",
    "\n",
    "    st.sort(keys=['channel'], reverse=True)\n",
    "    \n",
    "    ffs, specs, names = [], [], []\n",
    "    for i, tr in enumerate(st):\n",
    "\n",
    "#         tr = tr.normalize()\n",
    "        \n",
    "        if tr.stats.channel[-2] == \"J\":\n",
    "            scaling = rot_scaling\n",
    "        elif tr.stats.channel[-2] == \"H\":\n",
    "            scaling = trans_scaling\n",
    "\n",
    "        spec, ff, ph = __fft(tr.data*scaling, tr.stats.delta, window=None, normalize=True)\n",
    "        \n",
    "        ffs.append(ff)\n",
    "        specs.append(spec)\n",
    "        names.append(f\"{tr.stats.station}.{tr.stats.channel}\")\n",
    "    \n",
    "    hz = st.select(channel=\"*HZ\")[0]\n",
    "    hn = st.select(channel=\"*HN\")[0]\n",
    "    he = st.select(channel=\"*HE\")[0]\n",
    "\n",
    "    jz = st.select(channel=\"*JZ\")[0]\n",
    "    jn = st.select(channel=\"*JN\")[0]\n",
    "    je = st.select(channel=\"*JE\")[0]\n",
    "\n",
    "    ax1.plot(hz.times(), hz.data*trans_scaling, 'k', label=f\"{hz.stats.station}.{hz.stats.channel}\")\n",
    "    ax2.plot(hn.times(), hn.data*trans_scaling, 'k', label=f\"{hn.stats.station}.{hn.stats.channel}\")\n",
    "    ax3.plot(he.times(), he.data*trans_scaling, 'k', label=f\"{he.stats.station}.{he.stats.channel}\")\n",
    "\n",
    "    ax4.plot(jz.times(), jz.data*rot_scaling, 'k', label=f\"{jz.stats.station}.{jz.stats.channel}\")\n",
    "    ax5.plot(jn.times(), jn.data*rot_scaling, 'k', label=f\"{jn.stats.station}.{jn.stats.channel}\")\n",
    "    ax6.plot(je.times(), je.data*rot_scaling, 'k', label=f\"{je.stats.station}.{je.stats.channel}\")\n",
    "\n",
    "    \n",
    "    for ii, (ff, spec, name) in enumerate(zip(ffs, specs, names)):\n",
    "#         ax7.plot(ff, spec, label=name, alpha=0.6, color=colors[ii])\n",
    "        ax7.fill_between(ff, 0, spec, label=name, alpha=0.2, color=colors[ii])\n",
    "    \n",
    "    \n",
    "    for ax in [ax1, ax2, ax3, ax4 ,ax5, ax6]:\n",
    "        ax.legend(loc=1, fontsize=font-2)\n",
    "#         ax.set_ylim(-1,1)\n",
    "        ax.spines['right'].set_visible(False)\n",
    "        ax.spines['top'].set_visible(False)\n",
    "        ax.spines['bottom'].set_visible(False)\n",
    "        if ax not in [ax3, ax6]:\n",
    "            ax.set(xticklabels=[]) \n",
    "            ax.tick_params(bottom=False)  \n",
    "        \n",
    "        \n",
    "    if \"fmin\" in config.keys() and \"fmax\" in config.keys():\n",
    "        ax7.set_xlim(config['fmin'], config['fmax'])    \n",
    "    \n",
    "    ax7.legend(loc=2, fontsize=font-2)\n",
    "\n",
    "    ax1.set_ylabel(\"norm. acc. (m/s)\", fontsize=font-1)\n",
    "    ax2.set_ylabel(\"norm. acc. (m/s)\", fontsize=font-1)\n",
    "    ax3.set_ylabel(\"norm. acc. (m/s)\", fontsize=font-1)\n",
    "\n",
    "    ax4.set_ylabel(\"norm. rot. (rad/s)\", fontsize=font-1)\n",
    "    ax5.set_ylabel(\"norm. rot. (rad/s)\", fontsize=font-1)\n",
    "    ax6.set_ylabel(\"norm. rot. (rad/s)\", fontsize=font-1)\n",
    "\n",
    "    ax3.set_xlabel(\"Time (s)\", fontsize=font)\n",
    "    ax6.set_xlabel(\"Time (s)\", fontsize=font)\n",
    "\n",
    "    ax7.set_xlabel(\"Frequency (Hz)\", fontsize=font)\n",
    "    ax7.set_ylabel(\"Spec. Amplitude ()\", fontsize=font)\n",
    "    \n",
    "    \n",
    "    bbox = list(ax7.get_position().bounds)\n",
    "    bbox[3] = .9*bbox[3] # Reduce the height of the axis a bit.\n",
    "    ax7.set_position(bbox)\n",
    "    \n",
    "#     axes[i,0].ticklabel_format(axis='y', style='sci', scilimits=(0,0))\n",
    "#     axes[i,1].ticklabel_format(axis='y', style='sci', scilimits=(0,0))\n",
    "\n",
    "    return fig"
   ]
  },
  {
   "cell_type": "code",
   "execution_count": null,
   "id": "c6d5ce3b",
   "metadata": {
    "ExecuteTime": {
     "end_time": "2023-07-07T16:36:43.488015Z",
     "start_time": "2023-07-07T16:36:43.475096Z"
    },
    "code_folding": [
     0
    ]
   },
   "outputs": [],
   "source": [
    "# fig = __makeplotStreamSpectra3(st_all, config);"
   ]
  },
  {
   "cell_type": "markdown",
   "id": "9e92ba8b",
   "metadata": {},
   "source": [
    "### ZRT"
   ]
  },
  {
   "cell_type": "code",
   "execution_count": null,
   "id": "18b0fd36",
   "metadata": {
    "ExecuteTime": {
     "end_time": "2023-07-07T16:47:58.259674Z",
     "start_time": "2023-07-07T16:47:58.154458Z"
    }
   },
   "outputs": [],
   "source": [
    "st_zrt = st_all.copy()"
   ]
  },
  {
   "cell_type": "code",
   "execution_count": null,
   "id": "b788db88",
   "metadata": {
    "ExecuteTime": {
     "end_time": "2023-07-07T16:47:58.589384Z",
     "start_time": "2023-07-07T16:47:58.577677Z"
    },
    "code_folding": [
     0
    ]
   },
   "outputs": [],
   "source": [
    "# baz = __get_theo_baz(config)"
   ]
  },
  {
   "cell_type": "code",
   "execution_count": null,
   "id": "2f5b8d2a",
   "metadata": {
    "ExecuteTime": {
     "end_time": "2023-07-07T16:48:01.990973Z",
     "start_time": "2023-07-07T16:48:01.977970Z"
    }
   },
   "outputs": [],
   "source": [
    "# from obspy.signal.rotate import rotate_ne_rt\n",
    "\n",
    "# ## rotate acc NE to RT\n",
    "# if \"PFOIX\" in config['seed_seismometer']:\n",
    "#     acc = st_new.copy().select(station=\"PFOIX\")\n",
    "# else:\n",
    "#     acc = st_new.copy().select(station=\"PFO\")\n",
    "\n",
    "    \n",
    "# acc_N = acc.select(channel='*N')[0]\n",
    "# acc_E = acc.select(channel='*E')[0]\n",
    "\n",
    "# acc_N.data, acc_E.data = rotate_ne_rt(acc_N.data, acc_E.data, baz)\n",
    "\n",
    "# # acc_N.stats.channel = \"BHR\"\n",
    "# # acc_E.stats.channel = \"BHT\"\n",
    "\n",
    "# ## rotate rot NE to RT   \n",
    "# rot = st_new.copy().select(station=\"BSPF\")\n",
    "\n",
    "# rot_N = rot.select(channel='*N')[0]\n",
    "# rot_E = rot.select(channel='*E')[0]\n",
    "\n",
    "# rot_N.data, rot_E.data = rotate_ne_rt(rot_N.data, rot_E.data, baz)\n",
    "\n",
    "# # rot_N.stats.channel = \"HJR\"\n",
    "# # rot_E.stats.channel = \"HJT\"\n",
    "\n",
    "# st_zrt = obs.Stream()\n",
    "\n",
    "# st_zrt += st_new.copy().select(channel=\"*HZ\")[0]\n",
    "# st_zrt += st_new.copy().select(channel=\"*JZ\")[0]\n",
    "# st_zrt += acc_N\n",
    "# st_zrt += acc_E\n",
    "# st_zrt += rot_N\n",
    "# st_zrt += rot_E\n",
    "\n",
    "# # st_zrt.plot();"
   ]
  },
  {
   "cell_type": "code",
   "execution_count": null,
   "id": "01dd53cd",
   "metadata": {
    "ExecuteTime": {
     "end_time": "2023-07-07T16:48:17.340648Z",
     "start_time": "2023-07-07T16:48:17.336012Z"
    }
   },
   "outputs": [],
   "source": [
    "# fig = __makeplotStreamSpectra3(st_zrt, config);"
   ]
  },
  {
   "cell_type": "code",
   "execution_count": null,
   "id": "d927c163",
   "metadata": {
    "ExecuteTime": {
     "end_time": "2023-07-07T16:48:14.036419Z",
     "start_time": "2023-07-07T16:48:14.013399Z"
    },
    "code_folding": [
     0
    ]
   },
   "outputs": [],
   "source": [
    "def __makeplotStream_comparison(st0, config):\n",
    "\n",
    "    from scipy import fftpack\n",
    "    from matplotlib.gridspec import GridSpec\n",
    "    from scipy.signal import csd\n",
    "    from numpy import array, log10, logspace, linspace, meshgrid\n",
    "    from obspy.signal.tf_misfit import cwt\n",
    "    from functions.compute_cc_for_fbands import __compute_cc_for_fbands   \n",
    "    \n",
    "    import matplotlib.pyplot as plt\n",
    "\n",
    "    st = st0.copy()\n",
    "    \n",
    "    NN = 7\n",
    "    rot_scaling, rot_unit = 1e6, r\"$\\mu$rad/s\"\n",
    "    trans_scaling, trans_unit = 1e6, r\"$\\mu$m/s\"\n",
    "\n",
    "\n",
    "    colors = ['crimson', 'red', 'magenta', 'darkblue', '#3776ab', 'indigo']\n",
    "\n",
    "    fig = plt.figure(figsize=(15,14))\n",
    "    \n",
    "    gs = GridSpec(NN, 2, figure=fig)\n",
    "    \n",
    "    ax1 = fig.add_subplot(gs[0, :-1])\n",
    "    ax2 = fig.add_subplot(gs[1, :-1])\n",
    "    ax3 = fig.add_subplot(gs[2, :-1])\n",
    "\n",
    "    ax4 = fig.add_subplot(gs[0, 1:])\n",
    "    ax5 = fig.add_subplot(gs[1, 1:])\n",
    "    ax6 = fig.add_subplot(gs[2, 1:])\n",
    "\n",
    "    ax7 = fig.add_subplot(gs[3:5, :])\n",
    "    ax8 = fig.add_subplot(gs[5::, :])\n",
    "    \n",
    "    \n",
    "    font = 14\n",
    "    \n",
    "    plt.subplots_adjust(hspace=0.1)\n",
    "\n",
    "    ## _______________________________________________\n",
    "\n",
    "#     st.normalize()\n",
    "    \n",
    "    st.sort(keys=['channel'], reverse=True)\n",
    "        \n",
    "    names, ffs, csds, ffs_cwt, cwts = [], [], [], [], []\n",
    "    for comp in [\"Z\", \"N\", \"E\"]:\n",
    "        tmp = st.select(channel=f\"*{comp}\")\n",
    "\n",
    "#         for j in range(2):\n",
    "\n",
    "#             t = linspace(0, tmp[j].stats.delta * tmp[j].stats.npts, tmp[j].stats.npts)\n",
    "#             scalogram = cwt(tmp[j].data, tmp[j].stats.delta, 8, config['fmin'], config['fmax'])\n",
    "#             f = logspace(log10(config['fmin']), log10(config['fmax']), scalogram.shape[0])\n",
    "#             x, y = meshgrid(t, f)\n",
    "\n",
    "#             scalogram_sum = abs(scalogram.sum(axis=1))\n",
    "\n",
    "#             ffs_cwt.append(f)\n",
    "#             cwts.append(scalogram_sum)\n",
    "        \n",
    "        \n",
    "        ## ___________________________________\n",
    "\n",
    "        ff, Pxy = csd(  \n",
    "                        tmp[0].data, \n",
    "                        tmp[1].data, \n",
    "                        fs=tmp[0].stats.sampling_rate, \n",
    "                        nperseg=int(10*tmp[0].stats.sampling_rate),\n",
    "                        window='hann', \n",
    "                        noverlap=75, \n",
    "                        nfft=None, \n",
    "                        detrend='constant', \n",
    "                        return_onesided=True, \n",
    "                        scaling='density', \n",
    "                        axis=-1, \n",
    "                        average='mean'\n",
    "                    )\n",
    "\n",
    "        names.append(f\"{tmp[0].stats.channel}\")\n",
    "        ffs.append(ff)\n",
    "        csds.append(Pxy)\n",
    "\n",
    "        \n",
    "    hz = st.select(channel=\"B*Z\")[0]\n",
    "    hn = st.select(channel=\"B*N\")[0]\n",
    "    he = st.select(channel=\"B*E\")[0]\n",
    "\n",
    "    jz = st.select(channel=\"HJZ\")[0]\n",
    "    jn = st.select(channel=\"HJN\")[0]\n",
    "    je = st.select(channel=\"HJE\")[0]\n",
    "\n",
    "    ax1.plot(hz.times(), hz.data*rot_scaling, colors[3], label=f\"{hz.stats.station}.{hz.stats.channel}\")\n",
    "    ax2.plot(hn.times(), hn.data*rot_scaling, colors[4], label=f\"{hn.stats.station}.{hn.stats.channel}\")\n",
    "    ax3.plot(he.times(), he.data*rot_scaling, colors[5], label=f\"{he.stats.station}.{he.stats.channel}\")\n",
    "\n",
    "    ax4.plot(jz.times(), jz.data*rot_scaling, colors[3], label=f\"{jz.stats.station}.{jz.stats.channel}\")\n",
    "    ax5.plot(jn.times(), jn.data*rot_scaling, colors[4], label=f\"{jn.stats.station}.{jn.stats.channel}\")\n",
    "    ax6.plot(je.times(), je.data*rot_scaling, colors[5], label=f\"{je.stats.station}.{je.stats.channel}\")\n",
    "\n",
    "    for ii, (ff, cwt) in enumerate(zip(ffs_cwt, cwts)):\n",
    "        ax7.plot(ff, cwt, alpha=0.6, color=colors[ii])\n",
    "        \n",
    "    for ii, (ff, cc, name) in enumerate(zip(ffs, csds, names)):\n",
    "        ax8.plot(ff, abs(cc), label=name[-1], alpha=0.6, color=colors[ii+3])\n",
    "        \n",
    "\n",
    "    ax7.set_xscale(\"log\")\n",
    "    ax7.set_yscale(\"log\")\n",
    "\n",
    "    ax8.set_xscale(\"log\")\n",
    "    ax8.set_yscale(\"log\")\n",
    "    \n",
    "    \n",
    "    for ax in [ax1, ax2, ax3, ax4 ,ax5, ax6]:\n",
    "        ax.legend(loc=1, fontsize=font-2)\n",
    "#         ax.set_ylim(-1,1)\n",
    "        ax.spines['right'].set_visible(False)\n",
    "        ax.spines['top'].set_visible(False)\n",
    "        ax.spines['bottom'].set_visible(False)\n",
    "        ax.set_ylabel(f\"$\\omega$ ({rot_unit})\", fontsize=font)\n",
    "        if ax not in [ax3, ax6]:\n",
    "            ax.set(xticklabels=[]) \n",
    "            ax.tick_params(bottom=False)  \n",
    "        \n",
    "    ax7.legend(loc=4, fontsize=font-2)\n",
    "\n",
    "    ax8.legend(loc=4, fontsize=font-2)\n",
    "\n",
    "    ax3.set_xlabel(\"Time (s)\", fontsize=font)\n",
    "    ax6.set_xlabel(\"Time (s)\", fontsize=font)\n",
    "\n",
    "    ax8.set_xlabel(\"Frequency (Hz)\", fontsize=font)\n",
    "    ax8.set_ylabel(f\"Cross Spectral Density \\n ({rot_unit})$^2$/Hz\", fontsize=font)\n",
    "\n",
    "    \n",
    "    bbox = list(ax7.get_position().bounds)\n",
    "    bbox[3] = .85*bbox[3] # Reduce the height of the axis a bit.\n",
    "    ax7.set_position(bbox)\n",
    "    \n",
    "    bbox = list(ax8.get_position().bounds)\n",
    "    bbox[3] = .95*bbox[3] # Reduce the height of the axis a bit.\n",
    "    ax8.set_position(bbox)\n",
    "    \n",
    "#     axes[i,0].ticklabel_format(axis='y', style='sci', scilimits=(0,0))\n",
    "#     axes[i,1].ticklabel_format(axis='y', style='sci', scilimits=(0,0))\n",
    "\n",
    "    return fig"
   ]
  },
  {
   "cell_type": "code",
   "execution_count": null,
   "id": "a1e9039a",
   "metadata": {
    "ExecuteTime": {
     "end_time": "2023-07-07T16:48:14.230766Z",
     "start_time": "2023-07-07T16:48:14.227560Z"
    }
   },
   "outputs": [],
   "source": [
    "# __makeplotStream_comparison(st_adr, config);"
   ]
  },
  {
   "cell_type": "markdown",
   "id": "942f24ea",
   "metadata": {},
   "source": [
    "### Plot TFmisfit"
   ]
  },
  {
   "cell_type": "code",
   "execution_count": null,
   "id": "8089c17c",
   "metadata": {
    "ExecuteTime": {
     "end_time": "2023-07-07T16:48:22.001096Z",
     "start_time": "2023-07-07T16:48:21.983412Z"
    }
   },
   "outputs": [],
   "source": [
    "ii_z = st_new.copy().select(channel=\"BHZ\")\n",
    "py_z = st_adr.copy().select(channel=\"HJZ\")\n",
    "ad_z = st_adr.copy().select(channel=\"BJZ\")"
   ]
  },
  {
   "cell_type": "code",
   "execution_count": null,
   "id": "af358c09",
   "metadata": {
    "ExecuteTime": {
     "end_time": "2023-07-07T16:48:22.897518Z",
     "start_time": "2023-07-07T16:48:22.180690Z"
    }
   },
   "outputs": [],
   "source": [
    "from obspy.signal.tf_misfit import plot_tf_misfits\n",
    "from obspy.signal.tf_misfit import plot_tf_gofs\n",
    "\n",
    "tr1 = st_adr.copy().select(channel=\"HJZ\")[0]\n",
    "tr2 = st_adr.copy().select(channel=\"BJZ\")[0]\n",
    "\n",
    "# tr1.normalize()\n",
    "# tr2.normalize()\n",
    "\n",
    "plot_tf_gofs(tr1.data, tr2.data, dt=tr1.stats.delta, fmin=config['fmin'], fmax=config['fmax'], show=True)\n",
    "plot_tf_misfits(tr1.data, tr2.data, dt=tr1.stats.delta, fmin=config['fmin'], fmax=config['fmax'], show=True)"
   ]
  },
  {
   "cell_type": "code",
   "execution_count": null,
   "id": "eaba50da",
   "metadata": {
    "ExecuteTime": {
     "end_time": "2023-07-07T16:48:25.566850Z",
     "start_time": "2023-07-07T16:48:25.549561Z"
    },
    "code_folding": [
     0
    ]
   },
   "outputs": [],
   "source": [
    "def __makeplotStream_tfmist(st0, config):\n",
    "\n",
    "    from scipy import fftpack\n",
    "    from andbro__fft import __fft\n",
    "    from matplotlib.gridspec import GridSpec\n",
    "    from numpy import array, log10, logspace, linspace\n",
    "    from obspy.signal.tf_misfit import plot_tf_misfits    \n",
    "    \n",
    "    import matplotlib.pyplot as plt\n",
    "\n",
    "    st = st0.copy()\n",
    "    \n",
    "    NN = 5\n",
    "    rot_scaling, rot_unit = 1e9, r\"nrad/s\"\n",
    "    trans_scaling, trans_unit = 1e6, r\"$\\mu$m/s\"\n",
    "    \n",
    "    rot_scaling, rot_unit = 1, r\"nrad/s\"\n",
    "    trans_scaling, trans_unit = 1, r\"$\\mu$m/s\"\n",
    "\n",
    "    colors = ['crimson', 'red', 'magenta', 'darkblue', 'navy', 'indigo']\n",
    "\n",
    "    fig = plt.figure(figsize=(15,12))\n",
    "    \n",
    "    gs = GridSpec(NN, 2, figure=fig)\n",
    "    \n",
    "    ax1 = fig.add_subplot(gs[0, :-1])\n",
    "    ax2 = fig.add_subplot(gs[1, :-1])\n",
    "    ax3 = fig.add_subplot(gs[2, :-1])\n",
    "\n",
    "    ax4 = fig.add_subplot(gs[0, 1:])\n",
    "    ax5 = fig.add_subplot(gs[1, 1:])\n",
    "    ax6 = fig.add_subplot(gs[2, 1:])\n",
    "\n",
    "    ax7 = fig.add_subplot(gs[3:, :])\n",
    "    \n",
    "    \n",
    "    font = 14\n",
    "    \n",
    "    plt.subplots_adjust(hspace=0.1)\n",
    "\n",
    "    ## _______________________________________________\n",
    "\n",
    "    st.sort(keys=['channel'], reverse=True)\n",
    "\n",
    "    \n",
    "    dt = st[0].stats.delta\n",
    "    t = linspace(0, dt * npts, npts)\n",
    "    \n",
    "    names, ffs, aas, scals = [], [], [], []\n",
    "    for i, tr in enumerate(st):\n",
    "        \n",
    "        tr = tr.normalize()\n",
    "        \n",
    "        scalogram = cwt(tr.data, dt, 8, config['fmin'], config['fmax'])\n",
    "\n",
    "        ff, aa = np.meshgrid(t, logspace(log10(config['fmin']), log10(config['fmax']), scalogram.shape[0]))\n",
    "        \n",
    "        ffs.append(ff)\n",
    "        aas.append(aa)\n",
    "        scals.append(scalogram)\n",
    "        names.append(f\"{tr.stats.station}.{tr.stats.channel}\")\n",
    "        \n",
    "        \n",
    "    hz = st.select(channel=\"BJZ\")[0]\n",
    "    hn = st.select(channel=\"BJN\")[0]\n",
    "    he = st.select(channel=\"BJE\")[0]\n",
    "\n",
    "    jz = st.select(channel=\"HJZ\")[0]\n",
    "    jn = st.select(channel=\"HJN\")[0]\n",
    "    je = st.select(channel=\"HJE\")[0]\n",
    "\n",
    "    ax1.plot(hz.times(), hz.data*trans_scaling, 'k', label=f\"{hz.stats.station}.{hz.stats.channel}\")\n",
    "    ax2.plot(hn.times(), hn.data*trans_scaling, 'k', label=f\"{hn.stats.station}.{hn.stats.channel}\")\n",
    "    ax3.plot(he.times(), he.data*trans_scaling, 'k', label=f\"{he.stats.station}.{he.stats.channel}\")\n",
    "\n",
    "    ax4.plot(jz.times(), jz.data*rot_scaling, 'k', label=f\"{jz.stats.station}.{jz.stats.channel}\")\n",
    "    ax5.plot(jn.times(), jn.data*rot_scaling, 'k', label=f\"{jn.stats.station}.{jn.stats.channel}\")\n",
    "    ax6.plot(je.times(), je.data*rot_scaling, 'k', label=f\"{je.stats.station}.{je.stats.channel}\")\n",
    "\n",
    "    \n",
    "    for ii, (ff, aa, scal, name) in enumerate(zip(ffs, aas, scals, names)):\n",
    "#         ax7.plot(ff, spec, label=name, alpha=0.6, color=colors[ii])\n",
    "        ax.pcolormesh(x, y, np.abs(scalogram), cmap=obspy_sequential)    \n",
    "    \n",
    "    \n",
    "    for ax in [ax1, ax2, ax3, ax4 ,ax5, ax6]:\n",
    "        ax.legend(loc=1, fontsize=font-2)\n",
    "        ax.set_ylim(-1,1)\n",
    "        ax.spines['right'].set_visible(False)\n",
    "        ax.spines['top'].set_visible(False)\n",
    "        ax.spines['bottom'].set_visible(False)\n",
    "        if ax not in [ax3, ax6]:\n",
    "            ax.set(xticklabels=[]) \n",
    "            ax.tick_params(bottom=False)  \n",
    "        \n",
    "        \n",
    "    if \"fmin\" in config.keys() and \"fmax\" in config.keys():\n",
    "        ax7.set_xlim(config['fmin'], config['fmax'])    \n",
    "    \n",
    "    ax7.legend(loc=2, fontsize=font-2)\n",
    "\n",
    "    ax3.set_xlabel(\"Time (s)\", fontsize=font)\n",
    "    ax6.set_xlabel(\"Time (s)\", fontsize=font)\n",
    "\n",
    "    ax7.set_xlabel(\"Frequency (Hz)\", fontsize=font)\n",
    "    ax7.set_ylabel(\"Spec. Amplitude ()\", fontsize=font)\n",
    "    \n",
    "    bbox = list(ax7.get_position().bounds)\n",
    "    bbox[3] = .9*bbox[3] # Reduce the height of the axis a bit.\n",
    "    ax7.set_position(bbox)\n",
    "    \n",
    "#     axes[i,0].ticklabel_format(axis='y', style='sci', scilimits=(0,0))\n",
    "#     axes[i,1].ticklabel_format(axis='y', style='sci', scilimits=(0,0))\n",
    "\n",
    "    return fig"
   ]
  },
  {
   "cell_type": "code",
   "execution_count": null,
   "id": "213842d6",
   "metadata": {
    "ExecuteTime": {
     "end_time": "2023-07-07T16:48:25.748087Z",
     "start_time": "2023-07-07T16:48:25.745770Z"
    }
   },
   "outputs": [],
   "source": [
    "# fig = __makeplotStream_tfmist(st0, config)"
   ]
  },
  {
   "cell_type": "markdown",
   "id": "cd50a4fa",
   "metadata": {},
   "source": [
    "### Plot CWT"
   ]
  },
  {
   "cell_type": "code",
   "execution_count": null,
   "id": "182d8f4c",
   "metadata": {
    "ExecuteTime": {
     "end_time": "2023-07-07T16:48:27.060368Z",
     "start_time": "2023-07-07T16:48:27.028248Z"
    },
    "code_folding": [
     0
    ]
   },
   "outputs": [],
   "source": [
    "def __makeplotStream_cwt(st, config, fscale=None):\n",
    "\n",
    "    from scipy import fftpack\n",
    "    from andbro__fft import __fft\n",
    "    from numpy import array, log10, logspace, linspace\n",
    "    from obspy.signal.tf_misfit import cwt\n",
    "    from obspy.imaging.cm import obspy_sequential\n",
    "    \n",
    "    import matplotlib.pyplot as plt\n",
    "\n",
    "    keys_expected = ['fmin', 'fmax']\n",
    "    for key in keys_expected:\n",
    "        if key not in config.keys():\n",
    "            print(\" -> keys missing in config\")\n",
    "            print(keys_expected)\n",
    "            return\n",
    "    \n",
    "    \n",
    "    NN = len(st)\n",
    "    rot_scaling, rot_unit = 1e6, r\"$\\mu$rad/s\"\n",
    "    trans_scaling, trans_unit = 1e3, r\"mm/s\"\n",
    "        \n",
    "#     fig, axes = plt.subplots(NN,2,figsize=(13, int(NN*2)), sharex='col')\n",
    "    fig, axes = plt.subplots(NN,2,figsize=(13, 18), sharex='col')\n",
    "\n",
    "    font = 18\n",
    "    \n",
    "    plt.subplots_adjust(hspace=0.1, wspace=0.2)\n",
    "\n",
    "    ## _______________________________________________\n",
    "\n",
    "    st.sort(keys=['channel'], reverse=True)\n",
    "    \n",
    "\n",
    "    for i, tr in enumerate(st):\n",
    "\n",
    "        if tr.stats.channel[-2] == \"J\":\n",
    "            scaling = rot_scaling\n",
    "        elif tr.stats.channel[-2] == \"H\":\n",
    "            scaling = trans_scaling\n",
    "            \n",
    "#         t = tr.times()\n",
    "        t = np.linspace(0, tr.stats.delta * tr.stats.npts, tr.stats.npts)\n",
    "        \n",
    "#         tr = tr.normalize()\n",
    "        \n",
    "        scalogram = cwt(tr.data, tr.stats.delta, 8, config['fmin'], config['fmax'])\n",
    "\n",
    "        x, y = np.meshgrid(t, logspace(log10(config['fmin']), log10(config['fmax']), scalogram.shape[0]))\n",
    "#         x, y = np.meshgrid(t, linspace(config['fmin'], config['fmax'], scalogram.shape[0]))\n",
    "         \n",
    "    \n",
    "        ## _________________________________________________________________\n",
    "        if tr.stats.channel[-2] == \"J\" and tr.stats.station == \"BSPF\":\n",
    "            axes[i,0].plot(\n",
    "                        tr.times(),\n",
    "                        tr.data*rot_scaling,\n",
    "                        color='black',\n",
    "                        label='{} {}'.format(tr.stats.station, tr.stats.channel),\n",
    "                        lw=1.0,\n",
    "                        )\n",
    "            axes[i,1].pcolormesh(x, y, np.abs(scalogram), cmap=obspy_sequential)    \n",
    "        \n",
    "        if tr.stats.channel[-2] == \"J\" and tr.stats.station == \"RPFO\":\n",
    "            axes[i,0].plot(\n",
    "                        tr.times(),\n",
    "                        tr.data*rot_scaling,\n",
    "                        color='darkred',\n",
    "                        label='{} {}'.format(tr.stats.station, tr.stats.channel),\n",
    "                        lw=1.0,\n",
    "                        )\n",
    "            axes[i,1].pcolormesh(x, y, np.abs(scalogram), cmap=obspy_sequential)    \n",
    "\n",
    "\n",
    "        elif tr.stats.channel[-2] == \"H\":\n",
    "            axes[i,0].plot(\n",
    "                        tr.times(),\n",
    "                        tr.data*trans_scaling,\n",
    "                        color='darkblue',\n",
    "                        label='{} {}'.format(tr.stats.station, tr.stats.channel),\n",
    "                        lw=1.0,\n",
    "                        )\n",
    "            axes[i,1].pcolormesh(x, y, np.abs(scalogram), cmap=obspy_sequential)    \n",
    "        \n",
    "#         axes[i,1].set_yscale(\"log\")\n",
    "        \n",
    "        if tr.stats.channel[1] == \"J\":\n",
    "            sym, unit = r\"$\\omega$ \", rot_unit\n",
    "        elif tr.stats.channel[1] == \"H\":\n",
    "            sym, unit = \"$\\ddot{u}$\", trans_unit\n",
    "        else:\n",
    "            unit = \"Amplitude\", \"a.u.\"\n",
    "            \n",
    "        axes[i,0].set_ylabel(f'{sym} ({unit})',fontsize=font)    \n",
    "        axes[i,1].set_ylabel(f'$f$ (Hz)',fontsize=font)        \n",
    "        axes[i,0].legend(loc='upper right', framealpha=1.0, fontsize=font-3)\n",
    "        \n",
    "#         axes[i,0].ticklabel_format(axis='y', style='sci', scilimits=(0,0))\n",
    "#         axes[i,1].ticklabel_format(axis='y', style='sci', scilimits=(0,0))\n",
    "\n",
    "        axes[i,0].tick_params(axis=\"y\", labelsize=15)\n",
    "        axes[i,0].tick_params(axis=\"x\", labelsize=15)\n",
    "        axes[i,1].tick_params(axis=\"y\", labelsize=15)\n",
    "        axes[i,1].tick_params(axis=\"x\", labelsize=15)\n",
    "        \n",
    "    axes[NN-1,0].set_xlabel(f\"Time from {tr.stats.starttime.date} {str(tr.stats.starttime.time)[:8]} (s)\",fontsize=font)     \n",
    "    axes[NN-1,1].set_xlabel(f\"Time from {tr.stats.starttime.date} {str(tr.stats.starttime.time)[:8]} (s)\",fontsize=font)     \n",
    "    \n",
    "\n",
    "    return fig"
   ]
  },
  {
   "cell_type": "code",
   "execution_count": null,
   "id": "8ce27f29",
   "metadata": {
    "ExecuteTime": {
     "end_time": "2023-07-07T16:48:27.194153Z",
     "start_time": "2023-07-07T16:48:27.191401Z"
    }
   },
   "outputs": [],
   "source": [
    "# fig = __makeplotStream_cwt(st_adr, config);"
   ]
  },
  {
   "cell_type": "code",
   "execution_count": null,
   "id": "3cb14931",
   "metadata": {
    "ExecuteTime": {
     "end_time": "2023-07-07T16:48:35.309179Z",
     "start_time": "2023-07-07T16:48:27.742458Z"
    }
   },
   "outputs": [],
   "source": [
    "fig = __makeplotStream_cwt(st_all, config);"
   ]
  },
  {
   "cell_type": "code",
   "execution_count": null,
   "id": "52886b1e",
   "metadata": {
    "ExecuteTime": {
     "end_time": "2023-07-07T16:48:35.311677Z",
     "start_time": "2023-07-07T16:48:35.310157Z"
    }
   },
   "outputs": [],
   "source": [
    "# __savefig(fig, \"/home/andbro/Documents/LMU_Docs/EGU2023/\", \"CWT_All\", mode=\"png\", dpi=600)"
   ]
  },
  {
   "cell_type": "markdown",
   "id": "879f39b6",
   "metadata": {},
   "source": [
    "### Plot Coherence"
   ]
  },
  {
   "cell_type": "code",
   "execution_count": null,
   "id": "98b3069a",
   "metadata": {
    "ExecuteTime": {
     "end_time": "2023-08-01T15:16:46.402206Z",
     "start_time": "2023-08-01T15:16:46.349461Z"
    },
    "code_folding": [
     0
    ]
   },
   "outputs": [],
   "source": [
    "def __makeplotStream_coherence(st0, config):\n",
    "\n",
    "    from scipy import fftpack\n",
    "    from andbro__fft import __fft\n",
    "    from matplotlib.gridspec import GridSpec\n",
    "    from andbro__compute_coherence_stream import __coherence_stream\n",
    "    from numpy import array\n",
    "    \n",
    "    import matplotlib.pyplot as plt\n",
    "\n",
    "    st = st0.copy()\n",
    "    \n",
    "    NN = 5\n",
    "    rot_scaling, rot_unit = 1e9, r\"nrad/s\"\n",
    "    trans_scaling, trans_unit = 1e6, r\"$\\mu$m/s\"\n",
    "    \n",
    "    rot_scaling, rot_unit = 1, r\"nrad/s\"\n",
    "    trans_scaling, trans_unit = 1, r\"$\\mu$m/s\"\n",
    "\n",
    "    colors = ['crimson', 'red', 'magenta', 'darkblue', 'navy', 'indigo']\n",
    "\n",
    "    fig = plt.figure(figsize=(15,12))\n",
    "    \n",
    "    gs = GridSpec(NN, 2, figure=fig)\n",
    "    \n",
    "    ax1 = fig.add_subplot(gs[0, :-1])\n",
    "    ax2 = fig.add_subplot(gs[1, :-1])\n",
    "    ax3 = fig.add_subplot(gs[2, :-1])\n",
    "\n",
    "    ax4 = fig.add_subplot(gs[0, 1:])\n",
    "    ax5 = fig.add_subplot(gs[1, 1:])\n",
    "    ax6 = fig.add_subplot(gs[2, 1:])\n",
    "\n",
    "    ax7 = fig.add_subplot(gs[3:, :])\n",
    "    \n",
    "    \n",
    "    font = 14\n",
    "    \n",
    "    plt.subplots_adjust(hspace=0.1)\n",
    "\n",
    "    ## _______________________________________________\n",
    "\n",
    "    st.sort(keys=['channel'], reverse=True)\n",
    "    \n",
    "    ff, spec = __coherence_stream(st, st.select(channel=\"HJZ\"), nseg=512, nover=50)\n",
    "    \n",
    "    names, ffs, specs = [], [], []\n",
    "    for i, tr in enumerate(st):\n",
    "        tr = tr.normalize()\n",
    "        \n",
    "        ffs.append(ff[i])\n",
    "        specs.append(spec[i][0])\n",
    "        names.append(f\"{tr.stats.station}.{tr.stats.channel}\")\n",
    "        \n",
    "        \n",
    "    hz = st.select(channel=\"BJZ\")[0]\n",
    "    hn = st.select(channel=\"BJN\")[0]\n",
    "    he = st.select(channel=\"BJE\")[0]\n",
    "\n",
    "    jz = st.select(channel=\"HJZ\")[0]\n",
    "    jn = st.select(channel=\"HJN\")[0]\n",
    "    je = st.select(channel=\"HJE\")[0]\n",
    "\n",
    "    ax1.plot(hz.times(), hz.data*trans_scaling, 'k', label=f\"{hz.stats.station}.{hz.stats.channel}\")\n",
    "    ax2.plot(hn.times(), hn.data*trans_scaling, 'k', label=f\"{hn.stats.station}.{hn.stats.channel}\")\n",
    "    ax3.plot(he.times(), he.data*trans_scaling, 'k', label=f\"{he.stats.station}.{he.stats.channel}\")\n",
    "\n",
    "    ax4.plot(jz.times(), jz.data*rot_scaling, 'k', label=f\"{jz.stats.station}.{jz.stats.channel}\")\n",
    "    ax5.plot(jn.times(), jn.data*rot_scaling, 'k', label=f\"{jn.stats.station}.{jn.stats.channel}\")\n",
    "    ax6.plot(je.times(), je.data*rot_scaling, 'k', label=f\"{je.stats.station}.{je.stats.channel}\")\n",
    "\n",
    "    \n",
    "    for ii, (ff, spec, name) in enumerate(zip(ffs, specs, names)):\n",
    "        ax7.plot(ff, spec, label=name, alpha=0.6, color=colors[ii])\n",
    "    \n",
    "    \n",
    "    for ax in [ax1, ax2, ax3, ax4 ,ax5, ax6]:\n",
    "        ax.legend(loc=1, fontsize=font-2)\n",
    "        ax.set_ylim(-1,1)\n",
    "        ax.spines['right'].set_visible(False)\n",
    "        ax.spines['top'].set_visible(False)\n",
    "        ax.spines['bottom'].set_visible(False)\n",
    "        if ax not in [ax3, ax6]:\n",
    "            ax.set(xticklabels=[]) \n",
    "            ax.tick_params(bottom=False)  \n",
    "        \n",
    "        \n",
    "    if \"fmin\" in config.keys() and \"fmax\" in config.keys():\n",
    "        ax7.set_xlim(config['fmin'], config['fmax'])    \n",
    "    \n",
    "    ax7.legend(loc=2, fontsize=font-2)\n",
    "\n",
    "    ax3.set_xlabel(\"Time (s)\", fontsize=font)\n",
    "    ax6.set_xlabel(\"Time (s)\", fontsize=font)\n",
    "\n",
    "    ax7.set_xlabel(\"Frequency (Hz)\", fontsize=font)\n",
    "    ax7.set_ylabel(\"Spec. Amplitude ()\", fontsize=font)\n",
    "    \n",
    "    bbox = list(ax7.get_position().bounds)\n",
    "    bbox[3] = .9*bbox[3] # Reduce the height of the axis a bit.\n",
    "    ax7.set_position(bbox)\n",
    "    \n",
    "#     axes[i,0].ticklabel_format(axis='y', style='sci', scilimits=(0,0))\n",
    "#     axes[i,1].ticklabel_format(axis='y', style='sci', scilimits=(0,0))\n",
    "\n",
    "    return fig"
   ]
  },
  {
   "cell_type": "code",
   "execution_count": null,
   "id": "7fc797e0",
   "metadata": {
    "ExecuteTime": {
     "end_time": "2023-08-01T15:16:47.391954Z",
     "start_time": "2023-08-01T15:16:47.046866Z"
    }
   },
   "outputs": [],
   "source": [
    "fig = __makeplotStream_coherence(st_adr, config);"
   ]
  },
  {
   "cell_type": "markdown",
   "id": "90c9bc7b",
   "metadata": {},
   "source": [
    "### Plot CrossSpectralDensity"
   ]
  },
  {
   "cell_type": "code",
   "execution_count": null,
   "id": "f0580b1c",
   "metadata": {
    "ExecuteTime": {
     "end_time": "2023-07-07T16:48:35.367487Z",
     "start_time": "2023-07-07T16:48:35.350214Z"
    },
    "code_folding": [
     0
    ]
   },
   "outputs": [],
   "source": [
    "def __makeplotStream_csd(st0, config):\n",
    "\n",
    "    from scipy import fftpack\n",
    "    from matplotlib.gridspec import GridSpec\n",
    "    from scipy.signal import csd\n",
    "    from numpy import array, log10\n",
    "    \n",
    "    import matplotlib.pyplot as plt\n",
    "\n",
    "    st = st0.copy()\n",
    "    \n",
    "    NN = 5\n",
    "    rot_scaling, rot_unit = 1e6, r\"$\\mu$rad/s\"\n",
    "    trans_scaling, trans_unit = 1e6, r\"$\\mu$m/s\"\n",
    "    \n",
    "#     rot_scaling, rot_unit = 1, r\"nrad/s\"\n",
    "#     trans_scaling, trans_unit = 1, r\"$\\mu$m/s\"\n",
    "\n",
    "    colors = ['crimson', 'red', 'magenta', 'darkblue', '#3776ab', 'indigo']\n",
    "    colors2 = ['crimson', 'darkblue', 'red', '#3776ab', 'magenta', 'indigo']\n",
    "\n",
    "    fig = plt.figure(figsize=(15,12))\n",
    "    \n",
    "    gs = GridSpec(NN, 2, figure=fig)\n",
    "    \n",
    "    ax1 = fig.add_subplot(gs[0, :-1])\n",
    "    ax2 = fig.add_subplot(gs[1, :-1])\n",
    "    ax3 = fig.add_subplot(gs[2, :-1])\n",
    "\n",
    "    ax4 = fig.add_subplot(gs[0, 1:])\n",
    "    ax5 = fig.add_subplot(gs[1, 1:])\n",
    "    ax6 = fig.add_subplot(gs[2, 1:])\n",
    "\n",
    "    ax7 = fig.add_subplot(gs[3:, :])\n",
    "    \n",
    "    \n",
    "    font = 18\n",
    "    \n",
    "    plt.subplots_adjust(hspace=0.1)\n",
    "\n",
    "    ## _______________________________________________\n",
    "\n",
    "#     st.normalize()\n",
    "    \n",
    "    st.sort(keys=['channel'], reverse=True)\n",
    "        \n",
    "    names, ffs, csds, ffs2, csds2 = [], [], [], [], []\n",
    "    for comp in [\"Z\", \"N\", \"E\"]:\n",
    "        \n",
    "        tmp = st.select(channel=f\"*{comp}\")\n",
    "\n",
    "        print(tmp)\n",
    "        \n",
    "        ff, Pxy = csd(  \n",
    "                        tmp[0].data, \n",
    "                        tmp[1].data, \n",
    "                        fs=tmp[0].stats.sampling_rate, \n",
    "                        nperseg=int(10*tmp[0].stats.sampling_rate),\n",
    "                        window='hann', \n",
    "                        noverlap=75, \n",
    "                        nfft=None, \n",
    "                        detrend='constant', \n",
    "                        return_onesided=True, \n",
    "                        scaling='spectrum', \n",
    "                        axis=-1, \n",
    "                        average='mean'\n",
    "                    )\n",
    "        names.append(f\"{tmp[0].stats.channel}_inner\")\n",
    "        ffs.append(ff)\n",
    "        csds.append(Pxy)\n",
    "        \n",
    "        ff2, Pxy2 = csd(  \n",
    "                        tmp[0].data, \n",
    "                        tmp[2].data, \n",
    "                        fs=tmp[0].stats.sampling_rate, \n",
    "                        nperseg=int(10*tmp[0].stats.sampling_rate),\n",
    "                        window='hann', \n",
    "                        noverlap=75, \n",
    "                        nfft=None, \n",
    "                        detrend='constant', \n",
    "                        return_onesided=True, \n",
    "                        scaling='spectrum', \n",
    "                        axis=-1, \n",
    "                        average='mean'\n",
    "                    )\n",
    "        \n",
    "        names.append(f\"{tmp[0].stats.channel}_all\")\n",
    "        \n",
    "        ffs.append(ff2)\n",
    "        csds.append(Pxy2)\n",
    "\n",
    "        \n",
    "    hz = st.select(channel=\"B*Z\")[0]\n",
    "    hn = st.select(channel=\"B*N\")[0]\n",
    "    he = st.select(channel=\"B*E\")[0]\n",
    "\n",
    "    jz = st.select(channel=\"HJZ\")[0]\n",
    "    jn = st.select(channel=\"HJN\")[0]\n",
    "    je = st.select(channel=\"HJE\")[0]\n",
    "\n",
    "    ax1.plot(hz.times(), hz.data*rot_scaling, colors[3], label=f\"{hz.stats.station}.{hz.stats.channel}\")\n",
    "    ax2.plot(hn.times(), hn.data*rot_scaling, colors[4], label=f\"{hn.stats.station}.{hn.stats.channel}\")\n",
    "    ax3.plot(he.times(), he.data*rot_scaling, colors[5], label=f\"{he.stats.station}.{he.stats.channel}\")\n",
    "\n",
    "    ax4.plot(jz.times(), jz.data*rot_scaling, colors[3], label=f\"{jz.stats.station}.{jz.stats.channel}\")\n",
    "    ax5.plot(jn.times(), jn.data*rot_scaling, colors[4], label=f\"{jn.stats.station}.{jn.stats.channel}\")\n",
    "    ax6.plot(je.times(), je.data*rot_scaling, colors[5], label=f\"{je.stats.station}.{je.stats.channel}\")\n",
    "\n",
    "    \n",
    "    for ii, (ff, cc, name) in enumerate(zip(ffs, csds, names)):\n",
    "        ax7.plot(ff, 20*log10(abs(cc)/1e-9), label=name[2:], alpha=0.6, color=colors2[ii])\n",
    "#         ax7.plot(ff, abs(cc)*1e9, label=name[-1], alpha=0.6, color=colors[ii+3])\n",
    "        \n",
    "\n",
    "    ax7.set_xscale(\"log\")\n",
    "#     ax7.set_yscale(\"log\")\n",
    "    \n",
    "    for ax in [ax1, ax2, ax3, ax4 ,ax5, ax6]:\n",
    "        ax.legend(loc=1, fontsize=font-2)\n",
    "        ax.set_ylabel(f\"$\\omega$ ({rot_unit})\", fontsize=font)\n",
    "        ax.spines['right'].set_visible(False)\n",
    "        ax.spines['top'].set_visible(False)\n",
    "        ax.spines['bottom'].set_visible(False)\n",
    "        if ax not in [ax3, ax6]:\n",
    "            ax.set(xticklabels=[]) \n",
    "            ax.tick_params(bottom=False)  \n",
    "        \n",
    "    ax7.grid(which=\"both\", ls=\":\", alpha=0.7, color=\"grey\")\n",
    "    ax7.legend(fontsize=font-2, ncol=3)\n",
    "    ax7.set_xlim(0.1, 20)\n",
    "    \n",
    "    ax3.set_xlabel(\"Time (s)\", fontsize=font)\n",
    "    ax6.set_xlabel(\"Time (s)\", fontsize=font)\n",
    "\n",
    "    ax7.set_xlabel(\"Frequency (Hz)\", fontsize=font)\n",
    "    ax7.set_ylabel(f\"Cross Spectral Density \\n (dB rel. to 1 nrad$^2$/s$^2$/Hz)\", fontsize=font)\n",
    "    \n",
    "    bbox = list(ax7.get_position().bounds)\n",
    "    bbox[3] = .85*bbox[3] # Reduce the height of the axis a bit.\n",
    "    ax7.set_position(bbox)\n",
    "    \n",
    "    for ax in [ax1, ax2, ax3, ax4 ,ax5, ax6, ax7]:\n",
    "        ax.tick_params(axis=\"y\", labelsize=15)\n",
    "        ax.tick_params(axis=\"x\", labelsize=15)\n",
    "            \n",
    "#     axes[i,0].ticklabel_format(axis='y', style='sci', scilimits=(0,0))\n",
    "#     axes[i,1].ticklabel_format(axis='y', style='sci', scilimits=(0,0))\n",
    "\n",
    "    return fig"
   ]
  },
  {
   "cell_type": "code",
   "execution_count": null,
   "id": "20132e4b",
   "metadata": {
    "ExecuteTime": {
     "end_time": "2023-07-07T16:48:35.384246Z",
     "start_time": "2023-07-07T16:48:35.368510Z"
    }
   },
   "outputs": [],
   "source": [
    "# fig = __makeplotStream_csd(st_adr, config)"
   ]
  },
  {
   "cell_type": "code",
   "execution_count": null,
   "id": "ea00f35c",
   "metadata": {
    "ExecuteTime": {
     "end_time": "2023-07-07T16:48:35.413574Z",
     "start_time": "2023-07-07T16:48:35.385199Z"
    },
    "code_folding": []
   },
   "outputs": [],
   "source": [
    "def __makeplotStream_csd2(st0, config):\n",
    "\n",
    "    from scipy import fftpack\n",
    "    from matplotlib.gridspec import GridSpec\n",
    "    from scipy.signal import csd\n",
    "    from numpy import array, log10\n",
    "    \n",
    "    import matplotlib.pyplot as plt\n",
    "\n",
    "    st = st0.copy()\n",
    "    \n",
    "    NN = 5\n",
    "    rot_scaling, rot_unit = 1e6, r\"$\\mu$rad/s\"\n",
    "    trans_scaling, trans_unit = 1e6, r\"$\\mu$m/s\"\n",
    "    \n",
    "#     rot_scaling, rot_unit = 1, r\"nrad/s\"\n",
    "#     trans_scaling, trans_unit = 1, r\"$\\mu$m/s\"\n",
    "\n",
    "    colors = ['crimson', 'red', 'magenta', 'darkblue', '#3776ab', 'indigo']\n",
    "    colors2 = ['crimson', 'darkblue', 'red', '#3776ab', 'magenta', 'indigo']\n",
    "\n",
    "    fig = plt.figure(figsize=(15,14))\n",
    "    \n",
    "    gs = GridSpec(NN, 2, figure=fig)\n",
    "    \n",
    "    ax1 = fig.add_subplot(gs[0, :-1])\n",
    "    ax2 = fig.add_subplot(gs[1, :-1])\n",
    "    ax3 = fig.add_subplot(gs[2, :-1])\n",
    "\n",
    "    ax4 = fig.add_subplot(gs[0, 1:])\n",
    "    ax5 = fig.add_subplot(gs[1, 1:])\n",
    "    ax6 = fig.add_subplot(gs[2, 1:])\n",
    "\n",
    "    ax7 = fig.add_subplot(gs[3:, :])\n",
    "    \n",
    "    \n",
    "    font = 18\n",
    "    \n",
    "    plt.subplots_adjust(hspace=0.1)\n",
    "\n",
    "    ## _______________________________________________\n",
    "\n",
    "#     st.normalize()\n",
    "    \n",
    "    st.sort(keys=['channel'], reverse=True)\n",
    "        \n",
    "    bspf_all_data, bspf_inner_data, adr_all_data, adr_inner_data = [],[],[],[] \n",
    "    names, ffs, csds, ffs2, csds2 = [], [], [], [], []\n",
    "    for comp in [\"Z\", \"N\", \"E\"]:\n",
    "                \n",
    "        tmp = st.select(channel=f\"*{comp}\")\n",
    "        print(tmp)\n",
    "\n",
    "        bspf_inner = tmp[0].copy()\n",
    "        bspf_inner.taper(0.1)\n",
    "        bspf_inner.filter(\"bandpass\", freqmin=1, freqmax=10, corners=4, zerophase=True)\n",
    "        \n",
    "        adr_inner = tmp[1].copy()\n",
    "        adr_inner.taper(0.1)\n",
    "        adr_inner.filter(\"bandpass\", freqmin=1, freqmax=10, corners=4, zerophase=True)\n",
    "        \n",
    "        nseg = int(20*tmp[0].stats.sampling_rate)\n",
    "        \n",
    "        ff, Pxy = csd(  \n",
    "                        bspf_inner.data, \n",
    "                        adr_inner.data, \n",
    "                        fs=bspf_inner.stats.sampling_rate, \n",
    "                        nperseg=nseg,\n",
    "                        window='hann', \n",
    "                        noverlap=int(0.75*nseg), \n",
    "                        nfft=None, \n",
    "                        detrend='constant', \n",
    "                        return_onesided=True, \n",
    "                        scaling='density', \n",
    "                        axis=-1, \n",
    "                        average='mean'\n",
    "                    )\n",
    "        names.append(f\"{tmp[0].stats.channel}\"+r\"$_{inner}$\")\n",
    "        ffs.append(ff)\n",
    "        csds.append(Pxy)\n",
    "\n",
    "        adr_inner_data.append(adr_inner.data)\n",
    "        bspf_inner_data.append(bspf_inner.data)\n",
    "        \n",
    "        ## _____________________________________\n",
    "        \n",
    "        bspf_all = tmp[0].copy()\n",
    "        bspf_all.taper(0.1)\n",
    "        bspf_all.filter(\"bandpass\", freqmin=0.15, freqmax=1.2, corners=4, zerophase=True)\n",
    "        \n",
    "        adr_all = tmp[2].copy()\n",
    "        adr_all.taper(0.1)\n",
    "        adr_all.filter(\"bandpass\", freqmin=0.15, freqmax=1.2, corners=4, zerophase=True)\n",
    "                \n",
    "        nseg = int(20*tmp[0].stats.sampling_rate)\n",
    "        \n",
    "        ff2, Pxy2 = csd(  \n",
    "                        bspf_all.data, \n",
    "                        adr_all.data, \n",
    "                        fs=bspf_all.stats.sampling_rate, \n",
    "                        nperseg=nseg,\n",
    "                        window='hann', \n",
    "                        noverlap=int(0.75*nseg), \n",
    "                        nfft=None, \n",
    "                        detrend='constant', \n",
    "                        return_onesided=True, \n",
    "                        scaling='density', \n",
    "                        axis=-1, \n",
    "                        average='mean'\n",
    "                    )\n",
    "        \n",
    "        names.append(f\"{tmp[0].stats.channel}\"+r\"$_{outer}$\")\n",
    "        \n",
    "        ffs.append(ff2)\n",
    "        csds.append(Pxy2)\n",
    "        \n",
    "        adr_all_data.append(adr_all.data)\n",
    "        bspf_all_data.append(bspf_all.data)\n",
    "        \n",
    "    hz = st.select(channel=\"B*Z\")[0]\n",
    "    hn = st.select(channel=\"B*N\")[0]\n",
    "    he = st.select(channel=\"B*E\")[0]\n",
    "\n",
    "    jz = st.select(channel=\"HJZ\")[0]\n",
    "    jn = st.select(channel=\"HJN\")[0]\n",
    "    je = st.select(channel=\"HJE\")[0]\n",
    "\n",
    "    ax1.plot(hz.times(), bspf_all_data[0]*rot_scaling, 'black', label=f\"BSPF.Z\")\n",
    "    ax2.plot(hn.times(), bspf_all_data[1]*rot_scaling, 'black', label=f\"BSPF.N\")\n",
    "    ax3.plot(he.times(), bspf_all_data[2]*rot_scaling, 'black', label=f\"BSPF.E\")\n",
    "    ax1.plot(hz.times(), adr_all_data[0]*rot_scaling, 'darkred', label=r\"ADR$_{outer}$.Z\")\n",
    "    ax2.plot(hn.times(), adr_all_data[1]*rot_scaling, 'darkred', label=r\"ADR$_{outer}$.N\")\n",
    "    ax3.plot(he.times(), adr_all_data[2]*rot_scaling, 'darkred', label=r\"ADR$_{outer}$.E\")\n",
    "\n",
    "    ax4.plot(jz.times(), bspf_inner_data[0]*rot_scaling, 'black', label=f\"BSPF.Z\")\n",
    "    ax5.plot(jn.times(), bspf_inner_data[1]*rot_scaling, 'black', label=f\"BSPF.N\")\n",
    "    ax6.plot(je.times(), bspf_inner_data[2]*rot_scaling, 'black', label=f\"BSPF.E\")\n",
    "    ax4.plot(jz.times(), adr_inner_data[0]*rot_scaling, 'darkred', label=r\"ADR$_{inner}$.Z\")\n",
    "    ax5.plot(jn.times(), adr_inner_data[1]*rot_scaling, 'darkred', label=r\"ADR$_{inner}$.N\")\n",
    "    ax6.plot(je.times(), adr_inner_data[2]*rot_scaling, 'darkred', label=r\"ADR$_{inner}$.E\")\n",
    "\n",
    "    \n",
    "    for ii, (ff, cc, name) in enumerate(zip(ffs, csds, names)):\n",
    "        ax7.plot(ff, 20*log10(abs(cc)/1e-9), label=name[2:], alpha=0.6, color=colors2[ii])\n",
    "#         ax7.plot(ff, abs(cc)*1e9, label=name[-1], alpha=0.6, color=colors[ii+3])\n",
    "        \n",
    "\n",
    "    ax7.set_xscale(\"log\")\n",
    "#     ax7.set_yscale(\"log\")\n",
    "    \n",
    "    for ax in [ax1, ax2, ax3, ax4 ,ax5, ax6]:\n",
    "        ax.legend(loc=1, fontsize=font-3, bbox_to_anchor=(0.95, 1.10))\n",
    "        ax.set_ylabel(f\"$\\omega$ ({rot_unit})\", fontsize=font)\n",
    "        ax.spines['right'].set_visible(False)\n",
    "        ax.spines['top'].set_visible(False)\n",
    "        ax.spines['bottom'].set_visible(False)\n",
    "        if ax not in [ax3, ax6]:\n",
    "            ax.set(xticklabels=[]) \n",
    "            ax.tick_params(bottom=False)  \n",
    "        \n",
    "    ax7.grid(which=\"both\", ls=\":\", alpha=0.7, color=\"grey\")\n",
    "    ax7.legend(fontsize=font-2, ncol=3)\n",
    "    ax7.set_xlim(0.1, 20)\n",
    "    \n",
    "    ax3.set_xlabel(\"Time (s)\", fontsize=font)\n",
    "    ax6.set_xlabel(\"Time (s)\", fontsize=font)\n",
    "\n",
    "    ax7.set_xlabel(\"Frequency (Hz)\", fontsize=font)\n",
    "    ax7.set_ylabel(f\"Cross Spectral Density \\n (dB rel. to 1 nrad$^2$/s$^2$/Hz)\", fontsize=font)\n",
    "    \n",
    "    bbox = list(ax7.get_position().bounds)\n",
    "    bbox[3] = .85*bbox[3] # Reduce the height of the axis a bit.\n",
    "    ax7.set_position(bbox)\n",
    "    \n",
    "    for ax in [ax1, ax2, ax3, ax4 ,ax5, ax6, ax7]:\n",
    "        ax.tick_params(axis=\"y\", labelsize=15)\n",
    "        ax.tick_params(axis=\"x\", labelsize=15)\n",
    "            \n",
    "#     axes[i,0].ticklabel_format(axis='y', style='sci', scilimits=(0,0))\n",
    "#     axes[i,1].ticklabel_format(axis='y', style='sci', scilimits=(0,0))\n",
    "\n",
    "    return fig"
   ]
  },
  {
   "cell_type": "code",
   "execution_count": null,
   "id": "44c9748e",
   "metadata": {
    "ExecuteTime": {
     "end_time": "2023-07-07T16:48:36.342225Z",
     "start_time": "2023-07-07T16:48:35.415393Z"
    }
   },
   "outputs": [],
   "source": [
    "fig = __makeplotStream_csd2(st_adr, config)"
   ]
  },
  {
   "cell_type": "code",
   "execution_count": null,
   "id": "d6862a58",
   "metadata": {
    "ExecuteTime": {
     "end_time": "2023-07-07T16:48:36.343401Z",
     "start_time": "2023-07-07T16:48:31.477Z"
    }
   },
   "outputs": [],
   "source": [
    "# __savefig(fig, \"/home/andbro/Documents/LMU_Docs/EGU2023/\", \"ADR_ALL_CSP\", mode=\"png\", dpi=600)"
   ]
  },
  {
   "cell_type": "markdown",
   "id": "bafb670c",
   "metadata": {
    "ExecuteTime": {
     "end_time": "2023-04-19T18:25:13.910469Z",
     "start_time": "2023-04-19T18:25:13.910460Z"
    }
   },
   "source": [
    "## Plot Wavelet Coherence Transform (WCT) and  Cross Wavelet Transform (XWT)"
   ]
  },
  {
   "cell_type": "code",
   "execution_count": null,
   "id": "a3a81242",
   "metadata": {
    "ExecuteTime": {
     "end_time": "2023-07-07T16:48:36.343913Z",
     "start_time": "2023-07-07T16:48:31.782Z"
    }
   },
   "outputs": [],
   "source": [
    "from pycwt import xwt, wct, significance"
   ]
  },
  {
   "cell_type": "code",
   "execution_count": null,
   "id": "41a9f98f",
   "metadata": {
    "ExecuteTime": {
     "end_time": "2023-07-07T17:06:57.892223Z",
     "start_time": "2023-07-07T17:06:57.799576Z"
    },
    "code_folding": [
     0
    ]
   },
   "outputs": [],
   "source": [
    "def __makeplotStream_csd(st0, config):\n",
    "\n",
    "    from scipy import fftpack\n",
    "    from matplotlib.gridspec import GridSpec\n",
    "    from scipy.signal import csd\n",
    "    from numpy import array\n",
    "    from pycwt import xwt, wct, significance\n",
    "    \n",
    "    import matplotlib.pyplot as plt\n",
    "\n",
    "    st = st0.copy()\n",
    "    \n",
    "    NN = 5\n",
    "    rot_scaling, rot_unit = 1e9, r\"nrad/s\"\n",
    "    trans_scaling, trans_unit = 1e6, r\"$\\mu$m/s\"\n",
    "    \n",
    "    rot_scaling, rot_unit = 1, r\"nrad/s\"\n",
    "    trans_scaling, trans_unit = 1, r\"$\\mu$m/s\"\n",
    "\n",
    "    colors = ['crimson', 'red', 'magenta', 'darkblue', '#3776ab', 'indigo']\n",
    "\n",
    "    fig = plt.figure(figsize=(15,12))\n",
    "    \n",
    "    gs = GridSpec(NN, 2, figure=fig)\n",
    "    \n",
    "    ax1 = fig.add_subplot(gs[0, :-1])\n",
    "    ax2 = fig.add_subplot(gs[1, :-1])\n",
    "    ax3 = fig.add_subplot(gs[2, :-1])\n",
    "\n",
    "    ax4 = fig.add_subplot(gs[0, 1:])\n",
    "    ax5 = fig.add_subplot(gs[1, 1:])\n",
    "    ax6 = fig.add_subplot(gs[2, 1:])\n",
    "\n",
    "    ax7 = fig.add_subplot(gs[3:, :])\n",
    "    \n",
    "    \n",
    "    font = 14\n",
    "    \n",
    "    plt.subplots_adjust(hspace=0.1)\n",
    "\n",
    "    ## _______________________________________________\n",
    "\n",
    "#     st.normalize()\n",
    "    \n",
    "    st.sort(keys=['channel'], reverse=True)\n",
    "        \n",
    "    names, ffs_cwt, cwts, ffs_xwt, xwts = [], [], [], [], []\n",
    "    for comp in [\"Z\", \"N\", \"E\"]:\n",
    "        \n",
    "        tmp = st.select(channel=f\"*{comp}\")\n",
    "\n",
    "        wave_cwt, scale, coi, ff_cwt, fftfreqs  = wct( \n",
    "                                                        tmp[0].data, \n",
    "                                                        tmp[1].data, \n",
    "                                                        dt=tmp[0].stats.delta, \n",
    "                                                        dj=0.1,\n",
    "                                                        s0=-1,\n",
    "                                                        J=-1,\n",
    "                                                        significance_level=0.95,\n",
    "                                                        wavelet='morlet',\n",
    "                                                        normalize=True\n",
    "                                                    )\n",
    "        \n",
    "        wave_xwt,b,ff_xwt,d = xwt(\n",
    "                                    tmp[0].data, \n",
    "                                    tmp[1].data, \n",
    "                                    dt=tmp[0].stats.delta, \n",
    "                                    dj=0.1, \n",
    "                                    s0=-1, \n",
    "                                    J=-1, \n",
    "                                    significance_level=0.95, \n",
    "                                    wavelet='morlet', \n",
    "                                    normalize=True\n",
    "                                   )\n",
    "        \n",
    "        names.append(f\"{tmp[0].stats.channel}\")\n",
    "        ffs_cwt.append(ff_cwt)\n",
    "        cwts.append(abs(wave_cwt).mean(axis=1))\n",
    "        ffs_xwt.append(ff_xwt)\n",
    "        xwts.append(abs(wave_xwt).mean(axis=1))\n",
    "\n",
    "        \n",
    "    hz = st.select(channel=\"B*Z\")[0]\n",
    "    hn = st.select(channel=\"B*N\")[0]\n",
    "    he = st.select(channel=\"B*E\")[0]\n",
    "\n",
    "    jz = st.select(channel=\"HJZ\")[0]\n",
    "    jn = st.select(channel=\"HJN\")[0]\n",
    "    je = st.select(channel=\"HJE\")[0]\n",
    "\n",
    "    ax1.plot(hz.times(), hz.data*trans_scaling, colors[3], label=f\"{hz.stats.station}.{hz.stats.channel}\")\n",
    "    ax2.plot(hn.times(), hn.data*trans_scaling, colors[4], label=f\"{hn.stats.station}.{hn.stats.channel}\")\n",
    "    ax3.plot(he.times(), he.data*trans_scaling, colors[5], label=f\"{he.stats.station}.{he.stats.channel}\")\n",
    "\n",
    "    ax4.plot(jz.times(), jz.data*rot_scaling, colors[3], label=f\"{jz.stats.station}.{jz.stats.channel}\")\n",
    "    ax5.plot(jn.times(), jn.data*rot_scaling, colors[4], label=f\"{jn.stats.station}.{jn.stats.channel}\")\n",
    "    ax6.plot(je.times(), je.data*rot_scaling, colors[5], label=f\"{je.stats.station}.{je.stats.channel}\")\n",
    "\n",
    "    ax8 = ax7.twinx()\n",
    "\n",
    "    for ii, (ff_cwt, cwt, ff_xwt, xwt, name) in enumerate(zip(ffs_cwt, cwts, ffs_xwt, xwts, names)):\n",
    "        ax7.plot(ff_cwt, cwt, label=name[-1], alpha=0.8, color=colors[ii+3])\n",
    "        \n",
    "        ax8.plot(ff_xwt, xwt, label=name[-1], alpha=0.8, color=colors[ii])\n",
    "        \n",
    "\n",
    "    ax7.set_xscale(\"log\")\n",
    "    ax7.set_yscale(\"log\")\n",
    "    ax8.set_yscale(\"log\")\n",
    "    \n",
    "    for ax in [ax1, ax2, ax3, ax4 ,ax5, ax6]:\n",
    "        ax.legend(loc=1, fontsize=font-2)\n",
    "        ax.set_ylim(-1,1)\n",
    "        ax.spines['right'].set_visible(False)\n",
    "        ax.spines['top'].set_visible(False)\n",
    "        ax.spines['bottom'].set_visible(False)\n",
    "        if ax not in [ax3, ax6]:\n",
    "            ax.set(xticklabels=[]) \n",
    "            ax.tick_params(bottom=False)  \n",
    "        \n",
    "\n",
    "    ax7.legend(loc=4, fontsize=font-2)\n",
    "    ax8.legend(loc=1, fontsize=font-2)\n",
    "\n",
    "    ax3.set_xlabel(\"Time (s)\", fontsize=font)\n",
    "    ax6.set_xlabel(\"Time (s)\", fontsize=font)\n",
    "\n",
    "    ax7.set_xlabel(\"Frequency (Hz)\", fontsize=font)\n",
    "    ax7.set_ylabel(\"Wavlet Coherence Transform\", fontsize=font)\n",
    "    ax8.set_ylabel(\"Cross Wavlet Transform\", fontsize=font, color=\"darkred\")\n",
    "    \n",
    "    bbox = list(ax7.get_position().bounds)\n",
    "    bbox[3] = .9*bbox[3] # Reduce the height of the axis a bit.\n",
    "    ax7.set_position(bbox)\n",
    "    \n",
    "#     axes[i,0].ticklabel_format(axis='y', style='sci', scilimits=(0,0))\n",
    "#     axes[i,1].ticklabel_format(axis='y', style='sci', scilimits=(0,0))\n",
    "\n",
    "    return fig"
   ]
  },
  {
   "cell_type": "code",
   "execution_count": null,
   "id": "e27c47d5",
   "metadata": {
    "ExecuteTime": {
     "end_time": "2023-07-07T17:06:58.506005Z",
     "start_time": "2023-07-07T17:06:58.056179Z"
    }
   },
   "outputs": [],
   "source": [
    "st_adr2 = st_adr.copy()\n",
    "st_adr2.normalize()\n",
    "\n",
    "fig = __makeplotStream_csd(st_adr2, config)"
   ]
  },
  {
   "cell_type": "code",
   "execution_count": null,
   "id": "a1642aa3",
   "metadata": {
    "ExecuteTime": {
     "end_time": "2023-07-07T17:07:00.158496Z",
     "start_time": "2023-07-07T17:07:00.135768Z"
    }
   },
   "outputs": [],
   "source": [
    "wave_cwt, scale, coi, ff_wct, fftfreqs  = wct( \n",
    "                                        py_z[0].data, \n",
    "                                        ad_z[0].data, \n",
    "                                        dt=ad_z[0].stats.delta, \n",
    "                                        dj=0.05,\n",
    "                                        s0=-1,\n",
    "                                        J=-1,\n",
    "                                        significance_level=0.95,\n",
    "                                        wavelet='morlet',\n",
    "                                        normalize=True\n",
    "                                    )"
   ]
  },
  {
   "cell_type": "code",
   "execution_count": null,
   "id": "1a9fccb9",
   "metadata": {
    "ExecuteTime": {
     "end_time": "2023-07-07T16:36:44.309989Z",
     "start_time": "2023-07-07T16:35:47.019Z"
    }
   },
   "outputs": [],
   "source": [
    "wave.shape, scale.shape, coi.shape, fft.shape, fftfreqs.shape"
   ]
  },
  {
   "cell_type": "code",
   "execution_count": null,
   "id": "4d92eec8",
   "metadata": {
    "ExecuteTime": {
     "end_time": "2023-07-07T16:36:44.310513Z",
     "start_time": "2023-07-07T16:35:47.021Z"
    }
   },
   "outputs": [],
   "source": [
    "t = ad_z[0].times()\n",
    "dt = ad_z[0].stats.delta\n",
    "\n",
    "plt.pcolormesh(t, ff_wct, wave_cwt)\n",
    "# plt.contour(t, freqs, scale, colors='k', linewidths=2, extent=[t.min(), t.max(), 0, freqs.max()])\n",
    "# plt.yscale(\"log\")"
   ]
  },
  {
   "cell_type": "code",
   "execution_count": null,
   "id": "d2b23660",
   "metadata": {
    "ExecuteTime": {
     "end_time": "2023-07-07T16:36:44.311063Z",
     "start_time": "2023-07-07T16:35:47.023Z"
    }
   },
   "outputs": [],
   "source": [
    "global_power = abs(wave_cwt).mean(axis=1)\n",
    "\n",
    "# global_power *= np.std(ad_z[0].data)\n",
    "\n",
    "plt.plot(freqs,  global_power)"
   ]
  },
  {
   "cell_type": "code",
   "execution_count": null,
   "id": "2be5c531",
   "metadata": {
    "ExecuteTime": {
     "end_time": "2023-07-07T16:36:44.311567Z",
     "start_time": "2023-07-07T16:35:47.024Z"
    }
   },
   "outputs": [],
   "source": [
    "wave_xwt,b,ff,d = xwt(\n",
    "                    py_z[0].data, \n",
    "                    ad_z[0].data, \n",
    "                    dt=ad_z[0].stats.delta, \n",
    "                    dj=0.05, \n",
    "                    s0=-1, J=-1, \n",
    "                    significance_level=0.95, \n",
    "                    wavelet=u'morlet', \n",
    "                    normalize=True\n",
    "                   )"
   ]
  },
  {
   "cell_type": "code",
   "execution_count": null,
   "id": "9fb378cc",
   "metadata": {
    "ExecuteTime": {
     "end_time": "2023-07-07T16:36:44.312065Z",
     "start_time": "2023-07-07T16:35:47.025Z"
    }
   },
   "outputs": [],
   "source": [
    "plt.pcolormesh(t, ff, abs(wave_xwt))"
   ]
  },
  {
   "cell_type": "code",
   "execution_count": null,
   "id": "0913916b",
   "metadata": {
    "ExecuteTime": {
     "end_time": "2023-07-07T16:36:44.312599Z",
     "start_time": "2023-07-07T16:35:47.027Z"
    }
   },
   "outputs": [],
   "source": [
    "global_xwt = abs(wave_xwt).mean(axis=1)\n",
    "\n",
    "plt.plot(ff, global_xwt)"
   ]
  },
  {
   "cell_type": "code",
   "execution_count": null,
   "id": "2c6aba0d",
   "metadata": {
    "ExecuteTime": {
     "end_time": "2023-07-07T16:36:44.313178Z",
     "start_time": "2023-07-07T16:35:47.029Z"
    }
   },
   "outputs": [],
   "source": [
    "a.shape,b.shape,c.shape,d.shape"
   ]
  },
  {
   "cell_type": "markdown",
   "id": "8062d48e",
   "metadata": {},
   "source": [
    "### Plot CrossCorrelation"
   ]
  },
  {
   "cell_type": "code",
   "execution_count": null,
   "id": "361ceb52",
   "metadata": {
    "ExecuteTime": {
     "end_time": "2023-07-07T16:36:44.313698Z",
     "start_time": "2023-07-07T16:35:47.031Z"
    },
    "code_folding": []
   },
   "outputs": [],
   "source": [
    "from functions.compute_cc_for_fbands import __compute_cc_for_fbands"
   ]
  },
  {
   "cell_type": "code",
   "execution_count": null,
   "id": "11d517fc",
   "metadata": {
    "ExecuteTime": {
     "end_time": "2023-07-07T16:36:44.314366Z",
     "start_time": "2023-07-07T16:35:47.032Z"
    }
   },
   "outputs": [],
   "source": [
    "st_adr_cc = obs.Stream()\n",
    "\n",
    "st_adr_cc += py_bspf.copy()\n",
    "st_adr_cc += adr_inner.copy()\n",
    "# st_adr_cc += py_bspf.copy()\n",
    "\n",
    "st_adr_cc.filter(\"bandpass\", freqmin=0.2, freqmax=5.0, corners=8, zerophase=True)\n",
    "st_adr_cc.trim(adr_inner[0].stats.starttime, adr_inner[0].stats.endtime)"
   ]
  },
  {
   "cell_type": "code",
   "execution_count": null,
   "id": "2aeedfed",
   "metadata": {
    "ExecuteTime": {
     "end_time": "2023-07-07T17:07:17.190620Z",
     "start_time": "2023-07-07T17:07:17.167370Z"
    },
    "code_folding": [
     0
    ]
   },
   "outputs": [],
   "source": [
    "def __makeplotStream_cc(st0, config):\n",
    "\n",
    "    from scipy import fftpack\n",
    "    from andbro__fft import __fft\n",
    "    from matplotlib.gridspec import GridSpec\n",
    "    from numpy import array\n",
    "    \n",
    "    import matplotlib.pyplot as plt\n",
    "\n",
    "    st = st0.copy()\n",
    "    \n",
    "    NN = 5\n",
    "    rot_scaling, rot_unit = 1e9, r\"nrad/s\"\n",
    "    trans_scaling, trans_unit = 1e6, r\"$\\mu$m/s\"\n",
    "    \n",
    "#     rot_scaling, rot_unit = 1, r\"nrad/s\"\n",
    "#     trans_scaling, trans_unit = 1, r\"$\\mu$m/s\"\n",
    "\n",
    "    colors = ['crimson', 'red', 'magenta', 'darkblue', '#3776ab', 'indigo']\n",
    "\n",
    "    fig = plt.figure(figsize=(15,12))\n",
    "    \n",
    "    gs = GridSpec(NN, 2, figure=fig)\n",
    "    \n",
    "    ax1 = fig.add_subplot(gs[0, :-1])\n",
    "    ax2 = fig.add_subplot(gs[1, :-1])\n",
    "    ax3 = fig.add_subplot(gs[2, :-1])\n",
    "\n",
    "    ax4 = fig.add_subplot(gs[0, 1:])\n",
    "    ax5 = fig.add_subplot(gs[1, 1:])\n",
    "    ax6 = fig.add_subplot(gs[2, 1:])\n",
    "\n",
    "    ax7 = fig.add_subplot(gs[3:, :])\n",
    "    \n",
    "    \n",
    "    font = 14\n",
    "    \n",
    "    plt.subplots_adjust(hspace=0.1)\n",
    "\n",
    "    ## _______________________________________________\n",
    "\n",
    "#     st.normalize()\n",
    "    \n",
    "    st.sort(keys=['channel'], reverse=True)\n",
    "        \n",
    "    names, ffs, ccs, ccs_max = [], [], [], []\n",
    "    for comp in [\"Z\", \"N\", \"E\"]:\n",
    "        \n",
    "        tmp = st.select(channel=f\"*{comp}\")\n",
    "\n",
    "        f_centers, ccorrs, cc_maxs = __compute_cc_for_fbands(tmp[0], tmp[1], \n",
    "                                                    fmin=config['fmin'], \n",
    "                                                    fmax=config['fmax'], \n",
    "                                                    fband_type='octave'\n",
    "                                                   )\n",
    "        \n",
    "        names.append(f\"{tmp[0].stats.channel}\")\n",
    "        ffs.append(f_centers)\n",
    "        ccs.append(ccorrs)\n",
    "        ccs_max.append(cc_maxs)\n",
    "        \n",
    "    hz = st.select(station=\"BSPF\")[0]\n",
    "    hn = st.select(station=\"BSPF\")[0]\n",
    "    he = st.select(station=\"BSPF\")[0]\n",
    "\n",
    "#     jz = st.select(station=\"RPFO\")[0]\n",
    "#     jn = st.select(station=\"RPFO\")[0]\n",
    "#     je = st.select(station=\"RPFO\")[0]\n",
    "    jz = st.select(station=\"BSPF\")[0]\n",
    "    jn = st.select(station=\"BSPF\")[0]\n",
    "    je = st.select(station=\"BSPF\")[0]\n",
    "    \n",
    "    ax1.plot(hz.times(), hz.data*trans_scaling, colors[3], label=f\"{hz.stats.station}.{hz.stats.channel}\")\n",
    "    ax2.plot(hn.times(), hn.data*trans_scaling, colors[4], label=f\"{hn.stats.station}.{hn.stats.channel}\")\n",
    "    ax3.plot(he.times(), he.data*trans_scaling, colors[5], label=f\"{he.stats.station}.{he.stats.channel}\")\n",
    "\n",
    "    ax4.plot(jz.times(), jz.data*rot_scaling, colors[3], label=f\"{jz.stats.station}.{jz.stats.channel}\")\n",
    "    ax5.plot(jn.times(), jn.data*rot_scaling, colors[4], label=f\"{jn.stats.station}.{jn.stats.channel}\")\n",
    "    ax6.plot(je.times(), je.data*rot_scaling, colors[5], label=f\"{je.stats.station}.{je.stats.channel}\")\n",
    "\n",
    "    for ii, (ff, cc, cc_max, name) in enumerate(zip(ffs, ccs, ccs_max, names)):\n",
    "        \n",
    "        ax7.plot(ff, cc, label=name[-1], alpha=0.6, color=colors[ii+3])\n",
    "        ax7.scatter(ff, cc, alpha=0.6, color=colors[ii+3])\n",
    "        \n",
    "        ax7.plot(ff, cc_max, marker='o', alpha=0.6, color=colors[ii+3], ls=\"--\" )\n",
    "        ax7.scatter(ff, cc_max, marker='o', alpha=0.6, color=colors[ii+3])\n",
    "        \n",
    "    ax7.set_xscale(\"log\")\n",
    "    ax7.set_ylim(-1.1, 1.1)\n",
    "    \n",
    "    for ax in [ax1, ax2, ax3, ax4 ,ax5, ax6]:\n",
    "        ax.legend(loc=1, fontsize=font-2)\n",
    "#         ax.set_ylim(-1,1)\n",
    "        ax.spines['right'].set_visible(False)\n",
    "        ax.spines['top'].set_visible(False)\n",
    "        ax.spines['bottom'].set_visible(False)\n",
    "        if ax not in [ax3, ax6]:\n",
    "            ax.set(xticklabels=[]) \n",
    "            ax.tick_params(bottom=False)  \n",
    "        \n",
    "        \n",
    "#     if \"fmin\" in config.keys() and \"fmax\" in config.keys():\n",
    "#         ax7.set_xlim(config['fmin'], config['fmax'])    \n",
    "    \n",
    "    ax7.legend(loc=4, fontsize=font-2)\n",
    "\n",
    "    ax3.set_xlabel(\"Time (s)\", fontsize=font)\n",
    "    ax6.set_xlabel(\"Time (s)\", fontsize=font)\n",
    "\n",
    "    ax7.set_xlabel(\"Frequency (Hz)\", fontsize=font)\n",
    "    ax7.set_ylabel(\"Spec. Amplitude ()\", fontsize=font)\n",
    "    ax7.grid(ls=\":\", which=\"both\", alpha=0.7)\n",
    "    \n",
    "    ## Reduce the height of the axis a bit.\n",
    "    bbox = list(ax7.get_position().bounds)\n",
    "    bbox[3] = .9*bbox[3] \n",
    "    ax7.set_position(bbox)\n",
    "    \n",
    "#     axes[i,0].ticklabel_format(axis='y', style='sci', scilimits=(0,0))\n",
    "#     axes[i,1].ticklabel_format(axis='y', style='sci', scilimits=(0,0))\n",
    "\n",
    "    return fig"
   ]
  },
  {
   "cell_type": "code",
   "execution_count": null,
   "id": "63a3aef0",
   "metadata": {
    "ExecuteTime": {
     "end_time": "2023-07-07T17:07:17.342812Z",
     "start_time": "2023-07-07T17:07:17.324909Z"
    }
   },
   "outputs": [],
   "source": [
    "fig = __makeplotStream_cc(st_adr_cc, config);"
   ]
  },
  {
   "cell_type": "code",
   "execution_count": null,
   "id": "bfc9bd32",
   "metadata": {
    "ExecuteTime": {
     "end_time": "2023-04-21T13:13:25.782521Z",
     "start_time": "2023-04-21T13:13:25.772865Z"
    }
   },
   "outputs": [],
   "source": []
  },
  {
   "cell_type": "markdown",
   "id": "9fe74500",
   "metadata": {},
   "source": [
    "## Backazimuth"
   ]
  },
  {
   "cell_type": "code",
   "execution_count": null,
   "id": "2b1c90f1",
   "metadata": {
    "ExecuteTime": {
     "end_time": "2023-07-07T17:07:07.202597Z",
     "start_time": "2023-07-07T17:07:07.193879Z"
    }
   },
   "outputs": [],
   "source": [
    "config['station_longitude'] = config['BSPF_lon']\n",
    "config['station_latitude']  = config['BSPF_lat']\n",
    "\n",
    "config['win_length_sec'] = 1  ## window length for correlation\n",
    "config['step'] = 1\n",
    "config['overlap'] = 50"
   ]
  },
  {
   "cell_type": "code",
   "execution_count": null,
   "id": "173bfa91",
   "metadata": {
    "ExecuteTime": {
     "end_time": "2023-07-07T17:07:08.753264Z",
     "start_time": "2023-07-07T17:07:07.392027Z"
    }
   },
   "outputs": [],
   "source": [
    "from functions.compute_backazimuth import __compute_backazimuth\n",
    "\n",
    "out = __compute_backazimuth(ii_pfo, py_bspf, config, plot=True)"
   ]
  },
  {
   "cell_type": "code",
   "execution_count": null,
   "id": "dc7f6eb6",
   "metadata": {},
   "outputs": [],
   "source": []
  },
  {
   "cell_type": "code",
   "execution_count": null,
   "id": "d7eb6ed8",
   "metadata": {},
   "outputs": [],
   "source": []
  }
 ],
 "metadata": {
  "kernelspec": {
   "display_name": "Python 3",
   "language": "python",
   "name": "python3"
  },
  "language_info": {
   "codemirror_mode": {
    "name": "ipython",
    "version": 3
   },
   "file_extension": ".py",
   "mimetype": "text/x-python",
   "name": "python",
   "nbconvert_exporter": "python",
   "pygments_lexer": "ipython3",
   "version": "3.7.7"
  },
  "latex_envs": {
   "LaTeX_envs_menu_present": true,
   "autoclose": false,
   "autocomplete": true,
   "bibliofile": "biblio.bib",
   "cite_by": "apalike",
   "current_citInitial": 1,
   "eqLabelWithNumbers": true,
   "eqNumInitial": 1,
   "hotkeys": {
    "equation": "Ctrl-E",
    "itemize": "Ctrl-I"
   },
   "labels_anchors": false,
   "latex_user_defs": false,
   "report_style_numbering": false,
   "user_envs_cfg": false
  },
  "toc": {
   "base_numbering": 1,
   "nav_menu": {},
   "number_sections": true,
   "sideBar": true,
   "skip_h1_title": false,
   "title_cell": "Table of Contents",
   "title_sidebar": "Contents",
   "toc_cell": false,
   "toc_position": {},
   "toc_section_display": true,
   "toc_window_display": false
  },
  "varInspector": {
   "cols": {
    "lenName": 16,
    "lenType": 16,
    "lenVar": 40
   },
   "kernels_config": {
    "python": {
     "delete_cmd_postfix": "",
     "delete_cmd_prefix": "del ",
     "library": "var_list.py",
     "varRefreshCmd": "print(var_dic_list())"
    },
    "r": {
     "delete_cmd_postfix": ") ",
     "delete_cmd_prefix": "rm(",
     "library": "var_list.r",
     "varRefreshCmd": "cat(var_dic_list()) "
    }
   },
   "types_to_exclude": [
    "module",
    "function",
    "builtin_function_or_method",
    "instance",
    "_Feature"
   ],
   "window_display": false
  }
 },
 "nbformat": 4,
 "nbformat_minor": 5
}
