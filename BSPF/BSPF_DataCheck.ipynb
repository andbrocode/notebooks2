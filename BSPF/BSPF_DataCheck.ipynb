{
 "cells": [
  {
   "cell_type": "markdown",
   "id": "1e91ef76",
   "metadata": {
    "ExecuteTime": {
     "end_time": "2022-10-14T10:04:32.003164Z",
     "start_time": "2022-10-14T10:04:31.997241Z"
    }
   },
   "source": [
    "<img src=\"https://dgg-online.de/WordPress_01/wp-content/uploads/2022/10/20220928_000149_BlueSeis_Setup-scaled.jpg\" align=\"right\" alt=\"BlueSeis Image\" width=\"500\" height=\"100\" />"
   ]
  },
  {
   "cell_type": "markdown",
   "id": "26ad060e",
   "metadata": {
    "ExecuteTime": {
     "end_time": "2022-09-13T00:35:24.926376Z",
     "start_time": "2022-09-13T00:35:24.923877Z"
    }
   },
   "source": [
    "# Analyse BlueSeis BSPF Events"
   ]
  },
  {
   "cell_type": "markdown",
   "id": "fa47ca0c",
   "metadata": {},
   "source": [
    "Download Data of BlueSeis at Pinon Flat Observatory via IRIS. "
   ]
  },
  {
   "cell_type": "code",
   "execution_count": 1,
   "id": "7ae027cf",
   "metadata": {
    "ExecuteTime": {
     "end_time": "2023-04-05T16:30:44.374156Z",
     "start_time": "2023-04-05T16:30:42.823021Z"
    },
    "tags": []
   },
   "outputs": [],
   "source": [
    "import os\n",
    "import obspy as obs\n",
    "import numpy as np"
   ]
  },
  {
   "cell_type": "code",
   "execution_count": 2,
   "id": "8cfc93b5-07b8-4d53-806a-99176e9700ad",
   "metadata": {
    "tags": []
   },
   "outputs": [],
   "source": [
    "from functions.request_data import __request_data"
   ]
  },
  {
   "cell_type": "markdown",
   "id": "a9cfd05f",
   "metadata": {},
   "source": [
    "## Configurations"
   ]
  },
  {
   "cell_type": "code",
   "execution_count": 47,
   "id": "42cd60e7",
   "metadata": {
    "ExecuteTime": {
     "end_time": "2023-04-05T16:32:26.446824Z",
     "start_time": "2023-04-05T16:32:26.444464Z"
    },
    "tags": []
   },
   "outputs": [],
   "source": [
    "config = {}\n",
    "\n",
    "# Event M62\n",
    "config['tbeg'] = obs.UTCDateTime(\"2022-11-22 16:38:00\")\n",
    "config['tend'] = obs.UTCDateTime(\"2022-11-22 16:52:00\")\n",
    "\n",
    "# Event M42\n",
    "config['tbeg'] = obs.UTCDateTime(\"2022-12-31 12:12:07\")\n",
    "config['tend'] = obs.UTCDateTime(\"2022-12-31 12:13:20\")\n",
    "\n",
    "# ???\n",
    "config['tbeg'] = obs.UTCDateTime(\"2023-04-30T07:20:12\")\n",
    "config['tend'] = obs.UTCDateTime(\"2023-04-30T07:34:12\")\n",
    "\n",
    "# checkup\n",
    "config['tbeg'] = obs.UTCDateTime(\"2022-01-07 07:30:00\")\n",
    "config['tend'] = obs.UTCDateTime(\"2022-01-07 08:00:00\")\n",
    "\n",
    "\n",
    "config['seed_blueseis'] = \"PY.BSPF..HJ*\"\n",
    "\n",
    "if obs.UTCDateTime(\"2023-04-01\") < config['tbeg']:\n",
    "    config['seed_seismometer'] = \"PY.PFOIX.*.HH*\"\n",
    "else:\n",
    "    # config['seed_seismometer'] = \"II.PFO.10.BH*\"\n",
    "    config['seed_seismometer'] = \"II.XPFO.30.BH*\"\n"
   ]
  },
  {
   "cell_type": "markdown",
   "id": "47ff88ba",
   "metadata": {},
   "source": [
    "## Load Data"
   ]
  },
  {
   "cell_type": "code",
   "execution_count": null,
   "id": "845eda19",
   "metadata": {
    "ExecuteTime": {
     "end_time": "2023-04-05T16:32:28.848402Z",
     "start_time": "2023-04-05T16:32:27.388915Z"
    },
    "tags": []
   },
   "outputs": [
    {
     "name": "stdout",
     "output_type": "stream",
     "text": [
      " -> Failed to load inventory!\n",
      " -> Failed to load waveforms!\n",
      " -> failed to rotate to ZNE\n"
     ]
    },
    {
     "ename": "AttributeError",
     "evalue": "'NoneType' object has no attribute 'trim'",
     "output_type": "error",
     "traceback": [
      "\u001b[0;31m---------------------------------------------------------------------------\u001b[0m",
      "\u001b[0;31mAttributeError\u001b[0m                            Traceback (most recent call last)",
      "Cell \u001b[0;32mIn[49], line 1\u001b[0m\n\u001b[0;32m----> 1\u001b[0m rot, rot_inv \u001b[38;5;241m=\u001b[39m \u001b[43m__request_data\u001b[49m\u001b[43m(\u001b[49m\u001b[43mconfig\u001b[49m\u001b[43m[\u001b[49m\u001b[38;5;124;43m'\u001b[39;49m\u001b[38;5;124;43mseed_blueseis\u001b[39;49m\u001b[38;5;124;43m'\u001b[39;49m\u001b[43m]\u001b[49m\u001b[43m,\u001b[49m\u001b[43m \u001b[49m\u001b[43mconfig\u001b[49m\u001b[43m[\u001b[49m\u001b[38;5;124;43m'\u001b[39;49m\u001b[38;5;124;43mtbeg\u001b[39;49m\u001b[38;5;124;43m'\u001b[39;49m\u001b[43m]\u001b[49m\u001b[43m,\u001b[49m\u001b[43m \u001b[49m\u001b[43mconfig\u001b[49m\u001b[43m[\u001b[49m\u001b[38;5;124;43m'\u001b[39;49m\u001b[38;5;124;43mtend\u001b[39;49m\u001b[38;5;124;43m'\u001b[39;49m\u001b[43m]\u001b[49m\u001b[43m)\u001b[49m\n",
      "File \u001b[0;32m~/notebooks/BSPF/functions/request_data.py:82\u001b[0m, in \u001b[0;36m__request_data\u001b[0;34m(seed, tbeg, tend, bulk_download, translation_type)\u001b[0m\n\u001b[1;32m     79\u001b[0m \u001b[38;5;28;01mexcept\u001b[39;00m:\n\u001b[1;32m     80\u001b[0m     \u001b[38;5;28mprint\u001b[39m(\u001b[38;5;124m\"\u001b[39m\u001b[38;5;124m -> failed to rotate to ZNE\u001b[39m\u001b[38;5;124m\"\u001b[39m)\n\u001b[0;32m---> 82\u001b[0m waveform \u001b[38;5;241m=\u001b[39m \u001b[43mwaveform\u001b[49m\u001b[38;5;241;43m.\u001b[39;49m\u001b[43mtrim\u001b[49m(tbeg, tend)\n\u001b[1;32m     84\u001b[0m \u001b[38;5;28;01mreturn\u001b[39;00m waveform, inventory\n",
      "\u001b[0;31mAttributeError\u001b[0m: 'NoneType' object has no attribute 'trim'"
     ]
    }
   ],
   "source": [
    "rot, rot_inv = __request_data(config['seed_blueseis'], config['tbeg'], config['tend'])"
   ]
  },
  {
   "cell_type": "code",
   "execution_count": null,
   "id": "e64727d7-ee9d-4bd1-9185-e5a70d11c9e4",
   "metadata": {
    "tags": []
   },
   "outputs": [
    {
     "ename": "NameError",
     "evalue": "name 'rot_inv' is not defined",
     "output_type": "error",
     "traceback": [
      "\u001b[0;31m---------------------------------------------------------------------------\u001b[0m",
      "\u001b[0;31mNameError\u001b[0m                                 Traceback (most recent call last)",
      "Cell \u001b[0;32mIn[50], line 1\u001b[0m\n\u001b[0;32m----> 1\u001b[0m \u001b[43mrot_inv\u001b[49m\n",
      "\u001b[0;31mNameError\u001b[0m: name 'rot_inv' is not defined"
     ]
    }
   ],
   "source": [
    "rot_inv"
   ]
  },
  {
   "cell_type": "code",
   "execution_count": 13,
   "id": "58cfe8e4",
   "metadata": {
    "ExecuteTime": {
     "end_time": "2023-04-05T16:31:58.186850Z",
     "start_time": "2023-04-05T16:31:57.787Z"
    },
    "tags": []
   },
   "outputs": [
    {
     "ename": "NameError",
     "evalue": "name 'rot' is not defined",
     "output_type": "error",
     "traceback": [
      "\u001b[0;31m---------------------------------------------------------------------------\u001b[0m",
      "\u001b[0;31mNameError\u001b[0m                                 Traceback (most recent call last)",
      "Cell \u001b[0;32mIn[13], line 1\u001b[0m\n\u001b[0;32m----> 1\u001b[0m \u001b[38;5;28mprint\u001b[39m(\u001b[43mrot\u001b[49m)\n\u001b[1;32m      2\u001b[0m rot\u001b[38;5;241m.\u001b[39mplot(equal_scale\u001b[38;5;241m=\u001b[39m\u001b[38;5;28;01mFalse\u001b[39;00m);\n",
      "\u001b[0;31mNameError\u001b[0m: name 'rot' is not defined"
     ]
    }
   ],
   "source": [
    "print(rot)\n",
    "rot.plot(equal_scale=False);"
   ]
  },
  {
   "cell_type": "code",
   "execution_count": 14,
   "id": "65b341bc",
   "metadata": {
    "ExecuteTime": {
     "end_time": "2023-04-05T16:31:27.857342Z",
     "start_time": "2023-04-05T16:31:26.744Z"
    },
    "tags": []
   },
   "outputs": [
    {
     "name": "stdout",
     "output_type": "stream",
     "text": [
      " -> Failed to load inventory!\n",
      " -> Failed to load waveforms!\n",
      " -> failed to rotate to ZNE\n"
     ]
    },
    {
     "ename": "AttributeError",
     "evalue": "'NoneType' object has no attribute 'trim'",
     "output_type": "error",
     "traceback": [
      "\u001b[0;31m---------------------------------------------------------------------------\u001b[0m",
      "\u001b[0;31mAttributeError\u001b[0m                            Traceback (most recent call last)",
      "Cell \u001b[0;32mIn[14], line 1\u001b[0m\n\u001b[0;32m----> 1\u001b[0m acc, acc_inv \u001b[38;5;241m=\u001b[39m \u001b[43m__request_data\u001b[49m\u001b[43m(\u001b[49m\u001b[43mconfig\u001b[49m\u001b[43m[\u001b[49m\u001b[38;5;124;43m'\u001b[39;49m\u001b[38;5;124;43mseed_seismometer\u001b[39;49m\u001b[38;5;124;43m'\u001b[39;49m\u001b[43m]\u001b[49m\u001b[43m,\u001b[49m\u001b[43m \u001b[49m\u001b[43mconfig\u001b[49m\u001b[43m[\u001b[49m\u001b[38;5;124;43m'\u001b[39;49m\u001b[38;5;124;43mtbeg\u001b[39;49m\u001b[38;5;124;43m'\u001b[39;49m\u001b[43m]\u001b[49m\u001b[43m,\u001b[49m\u001b[43m \u001b[49m\u001b[43mconfig\u001b[49m\u001b[43m[\u001b[49m\u001b[38;5;124;43m'\u001b[39;49m\u001b[38;5;124;43mtend\u001b[39;49m\u001b[38;5;124;43m'\u001b[39;49m\u001b[43m]\u001b[49m\u001b[43m)\u001b[49m\n",
      "File \u001b[0;32m~/notebooks/BSPF/functions/request_data.py:82\u001b[0m, in \u001b[0;36m__request_data\u001b[0;34m(seed, tbeg, tend, bulk_download, translation_type)\u001b[0m\n\u001b[1;32m     79\u001b[0m \u001b[38;5;28;01mexcept\u001b[39;00m:\n\u001b[1;32m     80\u001b[0m     \u001b[38;5;28mprint\u001b[39m(\u001b[38;5;124m\"\u001b[39m\u001b[38;5;124m -> failed to rotate to ZNE\u001b[39m\u001b[38;5;124m\"\u001b[39m)\n\u001b[0;32m---> 82\u001b[0m waveform \u001b[38;5;241m=\u001b[39m \u001b[43mwaveform\u001b[49m\u001b[38;5;241;43m.\u001b[39;49m\u001b[43mtrim\u001b[49m(tbeg, tend)\n\u001b[1;32m     84\u001b[0m \u001b[38;5;28;01mreturn\u001b[39;00m waveform, inventory\n",
      "\u001b[0;31mAttributeError\u001b[0m: 'NoneType' object has no attribute 'trim'"
     ]
    }
   ],
   "source": [
    "acc, acc_inv = __request_data(config['seed_seismometer'], config['tbeg'], config['tend'])"
   ]
  },
  {
   "cell_type": "code",
   "execution_count": null,
   "id": "4437306e",
   "metadata": {
    "ExecuteTime": {
     "end_time": "2023-04-05T16:31:27.857805Z",
     "start_time": "2023-04-05T16:31:26.933Z"
    },
    "tags": []
   },
   "outputs": [],
   "source": [
    "print(acc)\n",
    "acc.plot(equal_scale=False);"
   ]
  },
  {
   "cell_type": "code",
   "execution_count": 20,
   "id": "51967698-bd71-441e-a127-20eb1b3cff26",
   "metadata": {
    "tags": []
   },
   "outputs": [
    {
     "data": {
      "text/plain": [
       "Inventory created at 2023-10-11T15:46:23.706400Z\n",
       "\tCreated by: IRIS WEB SERVICE: fdsnws-station | version: 1.1.52\n",
       "\t\t    http://service.iris.edu/fdsnws/station/1/query?starttime=2023-04-30...\n",
       "\tSending institution: IRIS-DMC (IRIS-DMC)\n",
       "\tContains:\n",
       "\t\tNetworks (1):\n",
       "\t\t\tPY\n",
       "\t\tStations (1):\n",
       "\t\t\tPY.PFOIX (Pinyon Flats Observatory, IXBlue, CA, USA)\n",
       "\t\tChannels (27):\n",
       "\t\t\tPY.PFOIX..ACE, PY.PFOIX..BHZ, PY.PFOIX..BHN, PY.PFOIX..BHE, \n",
       "\t\t\tPY.PFOIX..HHZ, PY.PFOIX..HHN, PY.PFOIX..HHE, PY.PFOIX..LCE, \n",
       "\t\t\tPY.PFOIX..LCQ, PY.PFOIX..LHZ, PY.PFOIX..LHN, PY.PFOIX..LHE, \n",
       "\t\t\tPY.PFOIX..LOG, PY.PFOIX..OCF, PY.PFOIX..VCO, PY.PFOIX..VEA, \n",
       "\t\t\tPY.PFOIX..VEC, PY.PFOIX..VEP, PY.PFOIX..VKI, PY.PFOIX..VM0, \n",
       "\t\t\tPY.PFOIX..VM1, PY.PFOIX..VM2, PY.PFOIX..VM3, PY.PFOIX..VM4, \n",
       "\t\t\tPY.PFOIX..VM5, PY.PFOIX..VM6, PY.PFOIX..VPB"
      ]
     },
     "execution_count": 20,
     "metadata": {},
     "output_type": "execute_result"
    }
   ],
   "source": [
    "acc_inv"
   ]
  },
  {
   "cell_type": "code",
   "execution_count": 21,
   "id": "dbe04d23",
   "metadata": {},
   "outputs": [],
   "source": [
    "st = obs.Stream()\n",
    "st+=rot\n",
    "st+=acc"
   ]
  },
  {
   "cell_type": "code",
   "execution_count": 22,
   "id": "fb990ea1",
   "metadata": {},
   "outputs": [],
   "source": [
    "# st.write(\"./event62_6C.mseed\", format=\"MSEED\")"
   ]
  },
  {
   "cell_type": "code",
   "execution_count": 23,
   "id": "13f468bb-2d8e-4756-930c-25e25ba06355",
   "metadata": {},
   "outputs": [],
   "source": [
    "acc_inv.write(f\"{acc[0].stats.station}.xml\", format=\"STATIONXML\")\n",
    "rot_inv.write(f\"{rot[0].stats.station}.xml\", format=\"STATIONXML\")"
   ]
  },
  {
   "cell_type": "code",
   "execution_count": null,
   "id": "8e96a752-7bc1-40de-bef8-16b737692035",
   "metadata": {},
   "outputs": [],
   "source": []
  },
  {
   "cell_type": "code",
   "execution_count": null,
   "id": "9a6a3416-d374-4662-8120-d4db1e198fc4",
   "metadata": {},
   "outputs": [],
   "source": []
  }
 ],
 "metadata": {
  "kernelspec": {
   "display_name": "Python 3 (ipykernel)",
   "language": "python",
   "name": "python3"
  },
  "language_info": {
   "codemirror_mode": {
    "name": "ipython",
    "version": 3
   },
   "file_extension": ".py",
   "mimetype": "text/x-python",
   "name": "python",
   "nbconvert_exporter": "python",
   "pygments_lexer": "ipython3",
   "version": "3.9.19"
  },
  "latex_envs": {
   "LaTeX_envs_menu_present": true,
   "autoclose": false,
   "autocomplete": true,
   "bibliofile": "biblio.bib",
   "cite_by": "apalike",
   "current_citInitial": 1,
   "eqLabelWithNumbers": true,
   "eqNumInitial": 1,
   "hotkeys": {
    "equation": "Ctrl-E",
    "itemize": "Ctrl-I"
   },
   "labels_anchors": false,
   "latex_user_defs": false,
   "report_style_numbering": false,
   "user_envs_cfg": false
  },
  "toc": {
   "base_numbering": 1,
   "nav_menu": {},
   "number_sections": true,
   "sideBar": true,
   "skip_h1_title": false,
   "title_cell": "Table of Contents",
   "title_sidebar": "Contents",
   "toc_cell": false,
   "toc_position": {},
   "toc_section_display": true,
   "toc_window_display": false
  },
  "varInspector": {
   "cols": {
    "lenName": 16,
    "lenType": 16,
    "lenVar": 40
   },
   "kernels_config": {
    "python": {
     "delete_cmd_postfix": "",
     "delete_cmd_prefix": "del ",
     "library": "var_list.py",
     "varRefreshCmd": "print(var_dic_list())"
    },
    "r": {
     "delete_cmd_postfix": ") ",
     "delete_cmd_prefix": "rm(",
     "library": "var_list.r",
     "varRefreshCmd": "cat(var_dic_list()) "
    }
   },
   "types_to_exclude": [
    "module",
    "function",
    "builtin_function_or_method",
    "instance",
    "_Feature"
   ],
   "window_display": false
  }
 },
 "nbformat": 4,
 "nbformat_minor": 5
}
