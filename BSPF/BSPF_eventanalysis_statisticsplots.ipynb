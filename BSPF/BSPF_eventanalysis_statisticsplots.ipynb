{
 "cells": [
  {
   "cell_type": "markdown",
   "id": "9d8f8a24",
   "metadata": {},
   "source": [
    "# BSPF Analysis - Statistics Plots"
   ]
  },
  {
   "cell_type": "code",
   "execution_count": 1,
   "id": "fe4540f2",
   "metadata": {
    "ExecuteTime": {
     "end_time": "2023-08-07T09:56:14.230317Z",
     "start_time": "2023-08-07T09:56:12.194332Z"
    },
    "tags": []
   },
   "outputs": [],
   "source": [
    "import os\n",
    "import pandas as pd\n",
    "import numpy as np\n",
    "import obspy as obs\n",
    "\n",
    "import matplotlib.pyplot as plt"
   ]
  },
  {
   "cell_type": "code",
   "execution_count": 2,
   "id": "0385c6e2",
   "metadata": {
    "ExecuteTime": {
     "end_time": "2023-08-07T09:56:14.238662Z",
     "start_time": "2023-08-07T09:56:14.231424Z"
    },
    "tags": []
   },
   "outputs": [],
   "source": [
    "from functions.compute_orthogonal_distance_regression import __compute_orthogonal_distance_regression\n",
    "from functions.compute_linear_regression import __compute_linear_regression"
   ]
  },
  {
   "cell_type": "code",
   "execution_count": 3,
   "id": "f3490903",
   "metadata": {
    "ExecuteTime": {
     "end_time": "2023-08-07T09:56:14.259904Z",
     "start_time": "2023-08-07T09:56:14.239745Z"
    },
    "tags": []
   },
   "outputs": [],
   "source": [
    "if os.uname().nodename == 'lighthouse':\n",
    "    root_path = '/home/andbro/'\n",
    "    data_path = '/home/andbro/kilauea-data/'\n",
    "    archive_path = '/home/andbro/freenas/'\n",
    "elif os.uname().nodename == 'kilauea':\n",
    "    root_path = '/home/brotzer/'\n",
    "    data_path = '/import/kilauea-data/'\n",
    "    archive_path = '/import/freenas-ffb-01-data/'"
   ]
  },
  {
   "cell_type": "markdown",
   "id": "4e67ab25",
   "metadata": {},
   "source": [
    "## Configurations"
   ]
  },
  {
   "cell_type": "code",
   "execution_count": 4,
   "id": "15a2bfff",
   "metadata": {
    "ExecuteTime": {
     "end_time": "2023-08-07T09:56:14.274780Z",
     "start_time": "2023-08-07T09:56:14.261002Z"
    },
    "tags": []
   },
   "outputs": [],
   "source": [
    "config = {}\n",
    "\n",
    "config['path_to_data'] = data_path+\"BSPF/data/\"\n",
    "\n",
    "config['path_to_figs'] = data_path+\"BSPF/figures/\"\n",
    "\n",
    "config['path_to_catalogs'] = data_path+\"BSPF/data/catalogs/\"\n",
    "\n",
    "config['catalog'] = \"\"\n",
    "\n",
    "config['translation_type'] = \"ACC\""
   ]
  },
  {
   "cell_type": "markdown",
   "id": "ae1fa8b1",
   "metadata": {},
   "source": [
    "## Load Data"
   ]
  },
  {
   "cell_type": "code",
   "execution_count": 5,
   "id": "e12961fe",
   "metadata": {
    "ExecuteTime": {
     "end_time": "2023-08-07T09:56:14.325218Z",
     "start_time": "2023-08-07T09:56:14.275604Z"
    },
    "tags": []
   },
   "outputs": [
    {
     "ename": "FileNotFoundError",
     "evalue": "[Errno 2] No such file or directory: '/home/andbro/kilauea-data/BSPF/data/bspf_analysisdata_amax_ACC.pkl'",
     "output_type": "error",
     "traceback": [
      "\u001b[0;31m---------------------------------------------------------------------------\u001b[0m",
      "\u001b[0;31mFileNotFoundError\u001b[0m                         Traceback (most recent call last)",
      "Cell \u001b[0;32mIn[5], line 1\u001b[0m\n\u001b[0;32m----> 1\u001b[0m data_amax \u001b[38;5;241m=\u001b[39m \u001b[43mpd\u001b[49m\u001b[38;5;241;43m.\u001b[39;49m\u001b[43mread_pickle\u001b[49m\u001b[43m(\u001b[49m\u001b[43mconfig\u001b[49m\u001b[43m[\u001b[49m\u001b[38;5;124;43m'\u001b[39;49m\u001b[38;5;124;43mpath_to_data\u001b[39;49m\u001b[38;5;124;43m'\u001b[39;49m\u001b[43m]\u001b[49m\u001b[38;5;241;43m+\u001b[39;49m\u001b[38;5;124;43mf\u001b[39;49m\u001b[38;5;124;43m\"\u001b[39;49m\u001b[38;5;124;43mbspf_analysisdata_amax_\u001b[39;49m\u001b[38;5;132;43;01m{\u001b[39;49;00m\u001b[43mconfig\u001b[49m\u001b[43m[\u001b[49m\u001b[38;5;124;43m'\u001b[39;49m\u001b[38;5;124;43mtranslation_type\u001b[39;49m\u001b[38;5;124;43m'\u001b[39;49m\u001b[43m]\u001b[49m\u001b[38;5;132;43;01m}\u001b[39;49;00m\u001b[38;5;124;43m.pkl\u001b[39;49m\u001b[38;5;124;43m\"\u001b[39;49m\u001b[43m)\u001b[49m\n\u001b[1;32m      3\u001b[0m data_snr \u001b[38;5;241m=\u001b[39m pd\u001b[38;5;241m.\u001b[39mread_pickle(config[\u001b[38;5;124m'\u001b[39m\u001b[38;5;124mpath_to_data\u001b[39m\u001b[38;5;124m'\u001b[39m]\u001b[38;5;241m+\u001b[39m\u001b[38;5;124mf\u001b[39m\u001b[38;5;124m\"\u001b[39m\u001b[38;5;124mbspf_analysisdata_snr_\u001b[39m\u001b[38;5;132;01m{\u001b[39;00mconfig[\u001b[38;5;124m'\u001b[39m\u001b[38;5;124mtranslation_type\u001b[39m\u001b[38;5;124m'\u001b[39m]\u001b[38;5;132;01m}\u001b[39;00m\u001b[38;5;124m.pkl\u001b[39m\u001b[38;5;124m\"\u001b[39m)\n\u001b[1;32m      5\u001b[0m data_adr \u001b[38;5;241m=\u001b[39m pd\u001b[38;5;241m.\u001b[39mread_pickle(config[\u001b[38;5;124m'\u001b[39m\u001b[38;5;124mpath_to_data\u001b[39m\u001b[38;5;124m'\u001b[39m]\u001b[38;5;241m+\u001b[39m\u001b[38;5;124mf\u001b[39m\u001b[38;5;124m\"\u001b[39m\u001b[38;5;124mbspf_analysisdata_adr_\u001b[39m\u001b[38;5;132;01m{\u001b[39;00mconfig[\u001b[38;5;124m'\u001b[39m\u001b[38;5;124mtranslation_type\u001b[39m\u001b[38;5;124m'\u001b[39m]\u001b[38;5;132;01m}\u001b[39;00m\u001b[38;5;124m.pkl\u001b[39m\u001b[38;5;124m\"\u001b[39m)\n",
      "File \u001b[0;32m~/anaconda3/envs/obs2/lib/python3.10/site-packages/pandas/io/pickle.py:179\u001b[0m, in \u001b[0;36mread_pickle\u001b[0;34m(filepath_or_buffer, compression, storage_options)\u001b[0m\n\u001b[1;32m    115\u001b[0m \u001b[38;5;250m\u001b[39m\u001b[38;5;124;03m\"\"\"\u001b[39;00m\n\u001b[1;32m    116\u001b[0m \u001b[38;5;124;03mLoad pickled pandas object (or any object) from file.\u001b[39;00m\n\u001b[1;32m    117\u001b[0m \n\u001b[0;32m   (...)\u001b[0m\n\u001b[1;32m    176\u001b[0m \u001b[38;5;124;03m4    4    9\u001b[39;00m\n\u001b[1;32m    177\u001b[0m \u001b[38;5;124;03m\"\"\"\u001b[39;00m\n\u001b[1;32m    178\u001b[0m excs_to_catch \u001b[38;5;241m=\u001b[39m (\u001b[38;5;167;01mAttributeError\u001b[39;00m, \u001b[38;5;167;01mImportError\u001b[39;00m, \u001b[38;5;167;01mModuleNotFoundError\u001b[39;00m, \u001b[38;5;167;01mTypeError\u001b[39;00m)\n\u001b[0;32m--> 179\u001b[0m \u001b[38;5;28;01mwith\u001b[39;00m \u001b[43mget_handle\u001b[49m\u001b[43m(\u001b[49m\n\u001b[1;32m    180\u001b[0m \u001b[43m    \u001b[49m\u001b[43mfilepath_or_buffer\u001b[49m\u001b[43m,\u001b[49m\n\u001b[1;32m    181\u001b[0m \u001b[43m    \u001b[49m\u001b[38;5;124;43m\"\u001b[39;49m\u001b[38;5;124;43mrb\u001b[39;49m\u001b[38;5;124;43m\"\u001b[39;49m\u001b[43m,\u001b[49m\n\u001b[1;32m    182\u001b[0m \u001b[43m    \u001b[49m\u001b[43mcompression\u001b[49m\u001b[38;5;241;43m=\u001b[39;49m\u001b[43mcompression\u001b[49m\u001b[43m,\u001b[49m\n\u001b[1;32m    183\u001b[0m \u001b[43m    \u001b[49m\u001b[43mis_text\u001b[49m\u001b[38;5;241;43m=\u001b[39;49m\u001b[38;5;28;43;01mFalse\u001b[39;49;00m\u001b[43m,\u001b[49m\n\u001b[1;32m    184\u001b[0m \u001b[43m    \u001b[49m\u001b[43mstorage_options\u001b[49m\u001b[38;5;241;43m=\u001b[39;49m\u001b[43mstorage_options\u001b[49m\u001b[43m,\u001b[49m\n\u001b[1;32m    185\u001b[0m \u001b[43m\u001b[49m\u001b[43m)\u001b[49m \u001b[38;5;28;01mas\u001b[39;00m handles:\n\u001b[1;32m    186\u001b[0m     \u001b[38;5;66;03m# 1) try standard library Pickle\u001b[39;00m\n\u001b[1;32m    187\u001b[0m     \u001b[38;5;66;03m# 2) try pickle_compat (older pandas version) to handle subclass changes\u001b[39;00m\n\u001b[1;32m    188\u001b[0m     \u001b[38;5;66;03m# 3) try pickle_compat with latin-1 encoding upon a UnicodeDecodeError\u001b[39;00m\n\u001b[1;32m    190\u001b[0m     \u001b[38;5;28;01mtry\u001b[39;00m:\n\u001b[1;32m    191\u001b[0m         \u001b[38;5;66;03m# TypeError for Cython complaints about object.__new__ vs Tick.__new__\u001b[39;00m\n\u001b[1;32m    192\u001b[0m         \u001b[38;5;28;01mtry\u001b[39;00m:\n",
      "File \u001b[0;32m~/anaconda3/envs/obs2/lib/python3.10/site-packages/pandas/io/common.py:868\u001b[0m, in \u001b[0;36mget_handle\u001b[0;34m(path_or_buf, mode, encoding, compression, memory_map, is_text, errors, storage_options)\u001b[0m\n\u001b[1;32m    859\u001b[0m         handle \u001b[38;5;241m=\u001b[39m \u001b[38;5;28mopen\u001b[39m(\n\u001b[1;32m    860\u001b[0m             handle,\n\u001b[1;32m    861\u001b[0m             ioargs\u001b[38;5;241m.\u001b[39mmode,\n\u001b[0;32m   (...)\u001b[0m\n\u001b[1;32m    864\u001b[0m             newline\u001b[38;5;241m=\u001b[39m\u001b[38;5;124m\"\u001b[39m\u001b[38;5;124m\"\u001b[39m,\n\u001b[1;32m    865\u001b[0m         )\n\u001b[1;32m    866\u001b[0m     \u001b[38;5;28;01melse\u001b[39;00m:\n\u001b[1;32m    867\u001b[0m         \u001b[38;5;66;03m# Binary mode\u001b[39;00m\n\u001b[0;32m--> 868\u001b[0m         handle \u001b[38;5;241m=\u001b[39m \u001b[38;5;28;43mopen\u001b[39;49m\u001b[43m(\u001b[49m\u001b[43mhandle\u001b[49m\u001b[43m,\u001b[49m\u001b[43m \u001b[49m\u001b[43mioargs\u001b[49m\u001b[38;5;241;43m.\u001b[39;49m\u001b[43mmode\u001b[49m\u001b[43m)\u001b[49m\n\u001b[1;32m    869\u001b[0m     handles\u001b[38;5;241m.\u001b[39mappend(handle)\n\u001b[1;32m    871\u001b[0m \u001b[38;5;66;03m# Convert BytesIO or file objects passed with an encoding\u001b[39;00m\n",
      "\u001b[0;31mFileNotFoundError\u001b[0m: [Errno 2] No such file or directory: '/home/andbro/kilauea-data/BSPF/data/bspf_analysisdata_amax_ACC.pkl'"
     ]
    }
   ],
   "source": [
    "data_amax = pd.read_pickle(config['path_to_data']+f\"bspf_analysisdata_amax_{config['translation_type']}.pkl\")\n",
    "\n",
    "data_snr = pd.read_pickle(config['path_to_data']+f\"bspf_analysisdata_snr_{config['translation_type']}.pkl\")\n",
    "\n",
    "data_adr = pd.read_pickle(config['path_to_data']+f\"bspf_analysisdata_adr_{config['translation_type']}.pkl\")\n",
    "\n",
    "data_adr_cc = pd.read_pickle(config['path_to_data']+f\"bspf_analysisdata_adr_cc_{config['translation_type']}.pkl\")\n",
    "\n",
    "\n",
    "data_good = pd.read_pickle(config['path_to_catalogs']+\"good_events_20221001_20230930.pkl\")"
   ]
  },
  {
   "cell_type": "code",
   "execution_count": null,
   "id": "ca6e31b2",
   "metadata": {
    "ExecuteTime": {
     "end_time": "2023-08-07T09:56:14.343333Z",
     "start_time": "2023-08-07T09:56:14.326600Z"
    },
    "tags": []
   },
   "outputs": [],
   "source": [
    "print(f\" AMAX:  all: {data_amax.origin.size} no_nan: {data_amax.origin.dropna().size}\")\n",
    "print(f\" SNR:  all: {data_snr.origin.size} no_nan: {data_snr.origin.dropna().size}\")\n",
    "print(f\" ADR:  all: {data_adr.origin.size} no_nan: {data_adr.origin.dropna().size}\")\n",
    "print(f\" CC:  all: {data_adr_cc.origin.size} no_nan: {data_adr_cc.origin.dropna().size}\")\n",
    "\n",
    "# data_amax = data_amax.dropna()\n",
    "# data_snr = data_snr.dropna()\n",
    "# data_adr = data_adr.dropna()"
   ]
  },
  {
   "cell_type": "code",
   "execution_count": null,
   "id": "7beccca6-e296-46cf-8f24-6e773d7bcf80",
   "metadata": {
    "tags": []
   },
   "outputs": [],
   "source": [
    "# data_adr.nunique()\n",
    "data_adr = data_adr.dropna()"
   ]
  },
  {
   "cell_type": "markdown",
   "id": "02389ea8",
   "metadata": {
    "ExecuteTime": {
     "end_time": "2023-07-13T11:04:39.349995Z",
     "start_time": "2023-07-13T11:04:39.341140Z"
    }
   },
   "source": [
    "## Modify Data"
   ]
  },
  {
   "cell_type": "markdown",
   "id": "0ac1c781",
   "metadata": {},
   "source": [
    "Filter data for events with coincidence sum 6"
   ]
  },
  {
   "cell_type": "code",
   "execution_count": null,
   "id": "a42c8df1",
   "metadata": {
    "ExecuteTime": {
     "end_time": "2023-08-07T09:56:14.360405Z",
     "start_time": "2023-08-07T09:56:14.344545Z"
    },
    "tags": []
   },
   "outputs": [],
   "source": [
    "data_amax_cosum_6 = data_amax[data_amax.CoincidenceSum == 6]\n",
    "\n",
    "data_snr_cosum_6 = data_snr[data_snr.CoincidenceSum == 6]\n",
    "\n",
    "data_adr_cosum_6 = data_adr[data_adr.CoincidenceSum == 6]\n",
    "\n",
    "data_adr_cc_cosum_6 = data_adr_cc[data_adr_cc.CoincidenceSum == 6]"
   ]
  },
  {
   "cell_type": "code",
   "execution_count": null,
   "id": "eeb466f8-7806-4b63-a57f-4c47846f6057",
   "metadata": {
    "tags": []
   },
   "outputs": [],
   "source": [
    "print(f\" AMAX:  {data_amax_cosum_6.origin.size}\")\n",
    "print(f\" SNR:   {data_snr_cosum_6.origin.size}\")\n",
    "print(f\" ADR:   {data_adr_cosum_6.origin.size}\")\n",
    "print(f\" CC:   {data_adr_cc_cosum_6.origin.size}\")"
   ]
  },
  {
   "cell_type": "markdown",
   "id": "268f9baa",
   "metadata": {},
   "source": [
    "## Plots"
   ]
  },
  {
   "cell_type": "code",
   "execution_count": null,
   "id": "9116d4c9-0aea-4c05-96d8-56c8204e14ef",
   "metadata": {
    "tags": []
   },
   "outputs": [],
   "source": [
    "# max_rot = []\n",
    "# for nn in range(data_amax_cosum_6.shape[0]):\n",
    "#     max_rot.append(np.nanmax([data_amax_cosum_6.iloc[nn].BSPF__E_amax, data_amax_cosum_6.iloc[nn].BSPF__N_amax, data_amax_cosum_6.iloc[nn].BSPF__Z_amax]))\n",
    "\n",
    "max_rot = []\n",
    "for nn in range(data_amax_cosum_6.shape[0]):\n",
    "    max_rot.append(np.sqrt(data_amax_cosum_6.iloc[nn].BSPF__E_amax**2 + data_amax_cosum_6.iloc[nn].BSPF__N_amax**2 + data_amax_cosum_6.iloc[nn].BSPF__Z_amax**2))\n"
   ]
  },
  {
   "cell_type": "code",
   "execution_count": null,
   "id": "bfccd298-ebe8-4780-933b-ba745e1e389e",
   "metadata": {
    "ExecuteTime": {
     "end_time": "2023-08-07T09:56:15.608869Z",
     "start_time": "2023-08-07T09:56:14.362594Z"
    },
    "code_folding": [
     0
    ],
    "tags": []
   },
   "outputs": [],
   "source": [
    "def __makeplot(data1, data2, data3, data4, max_rot):\n",
    "\n",
    "    import matplotlib\n",
    "\n",
    "    fig, ax = plt.subplots(1,1,figsize=(15,5))\n",
    "\n",
    "    font=14\n",
    "\n",
    "    cmap = plt.get_cmap(\"viridis\", 6)\n",
    "\n",
    "    # dat = np.log10(data4.BSPF__N_snr)\n",
    "    # dat = np.log10(data4.PFO_10_Z_snr)\n",
    "\n",
    "    dat = np.log10(max_rot)\n",
    "\n",
    "    ax.scatter(data1.Hdistance_km, data1.Magnitude, s=30, color=\"grey\", zorder=1, label=f\"all (N={len(data1)})\")\n",
    "\n",
    "    cax = ax.scatter(data2.Hdistance_km, data2.Magnitude, s=50, lw=0.5, edgecolors=\"k\",\n",
    "                     c=dat, cmap=cmap, zorder=2, label=f\"co.sum 6 (N={len(data2)})\", vmin=-7, vmax=-4)\n",
    "\n",
    "    # cax = ax.scatter(data_good.Hdistance_km, data_good.Magnitude, s=50, lw=0.5, edgecolors=\"r\",\n",
    "    #                  c=dat, cmap=cmap, zorder=2, label=f\"co.sum 6 (N={len(data2)})\", vmin=-7, vmax=-4)\n",
    "\n",
    "\n",
    "    ax.grid(ls=\"--\", color=\"grey\", alpha=0.6, zorder=0,which=\"both\")\n",
    "    ax.legend(loc=4, fontsize=font)\n",
    "\n",
    "    ax.set_ylabel(\"magnitude\", fontsize=font)\n",
    "    ax.set_xlabel(\"hypocentral distance (km)\", fontsize=font)\n",
    "\n",
    "    ax.set_xscale(\"log\")\n",
    "    ax.set_xlim(left=7)\n",
    "\n",
    "    cbar = plt.colorbar(cax, pad=0.02)\n",
    "    # cbar.set_label(r\"log$_{10}$(max. rotation rate) (rad/s)\", fontsize=font)\n",
    "    cbar.set_label(r\"log$_{10}$($\\sqrt{N^2 + E^2 + Z^2}$) (rad/s)\", fontsize=font)\n",
    "#     cbar.set_clim(0,4)\n",
    "\n",
    "    ax.set_xticks([10, 20, 30, 40, 50, 100])\n",
    "    ax.get_xaxis().set_major_formatter(matplotlib.ticker.ScalarFormatter())\n",
    "\n",
    "    plt.show()\n",
    "    return fig"
   ]
  },
  {
   "cell_type": "code",
   "execution_count": null,
   "id": "04a9b6f0-8610-4e05-9599-806a56c36c26",
   "metadata": {
    "ExecuteTime": {
     "end_time": "2023-08-07T09:56:15.608869Z",
     "start_time": "2023-08-07T09:56:14.362594Z"
    },
    "code_folding": [
     0
    ],
    "tags": []
   },
   "outputs": [],
   "source": [
    "fig = __makeplot(data_amax, data_amax_cosum_6, data_snr, data_snr_cosum_6, max_rot)\n",
    "\n",
    "fig.savefig(config['path_to_figs']+f\"BSPF_statistics_mag_hdist.png\", dpi=200, bbox_inches='tight', pad_inches=0.05)"
   ]
  },
  {
   "cell_type": "code",
   "execution_count": null,
   "id": "40274288-d2f7-434d-9ee0-b802f81a7fce",
   "metadata": {
    "tags": []
   },
   "outputs": [],
   "source": [
    "def __makeplot2(data1, data2, data3):\n",
    "\n",
    "    import matplotlib\n",
    "\n",
    "    max_rot1 = []\n",
    "    for nn in range(data1.shape[0]):\n",
    "        max_rot1.append(np.sqrt(data1.iloc[nn].BSPF__E_amax**2 + data1.iloc[nn].BSPF__N_amax**2 + data1.iloc[nn].BSPF__Z_amax**2))\n",
    "    max_rot2 = []\n",
    "    for nn in range(data2.shape[0]):\n",
    "        max_rot2.append(np.sqrt(data2.iloc[nn].BSPF__E_amax**2 + data2.iloc[nn].BSPF__N_amax**2 + data2.iloc[nn].BSPF__Z_amax**2))\n",
    "    max_rot3 = []\n",
    "    for nn in range(data3.shape[0]):\n",
    "        max_rot3.append(np.sqrt(data3.iloc[nn].BSPF__E_amax**2 + data3.iloc[nn].BSPF__N_amax**2 + data3.iloc[nn].BSPF__Z_amax**2))\n",
    "\n",
    "    vmin, vmax = min([min(max_rot1), min(max_rot2), min(max_rot3)]), max([max(max_rot1), max(max_rot2), max(max_rot3)])\n",
    "    vmin, vmax = -8.0, -4.5\n",
    "\n",
    "    fig, ax = plt.subplots(1, 1, figsize=(15, 5))\n",
    "\n",
    "    font = 14\n",
    "\n",
    "    cmap = plt.get_cmap(\"viridis\", 7)\n",
    "\n",
    "\n",
    "    cax = ax.scatter(data1.Hdistance_km, data1.Magnitude, s=30, marker=\"o\", c=np.log10(max_rot1), cmap=cmap, zorder=2, \n",
    "                     label=f\"CoIn. 4 (N={len(data1)})\", vmin=vmin, vmax=vmax, edgecolors=\"black\")\n",
    "\n",
    "    ax.scatter(data2.Hdistance_km, data2.Magnitude, s=30, marker=\"^\", c=np.log10(max_rot2), cmap=cmap, zorder=2, \n",
    "               label=f\"CoIn. 5 (N={len(data2)})\", vmin=vmin, vmax=vmax, edgecolors=\"black\")\n",
    "    ax.scatter(data3.Hdistance_km, data3.Magnitude, s=30, marker=\"s\", c=np.log10(max_rot3), cmap=cmap, zorder=2, \n",
    "               label=f\"CoIn. 6 (N={len(data3)})\", vmin=vmin, vmax=vmax, edgecolors=\"black\")\n",
    "\n",
    "\n",
    "    ax.grid(ls=\"--\", color=\"grey\", alpha=0.6, zorder=0, which=\"both\")\n",
    "    ax.legend(loc=4, fontsize=font-1)\n",
    "\n",
    "    ax.set_ylabel(\"Magnitude\", fontsize=font)\n",
    "    ax.set_xlabel(\"Hypocentral Distance (km)\", fontsize=font)\n",
    "\n",
    "    ax.set_xscale(\"log\")\n",
    "    ax.set_xlim(left=7)\n",
    "\n",
    "    cbar = plt.colorbar(cax, pad=0.02)\n",
    "    # cbar.set_label(r\"log$_{10}$(max. rotation rate) (rad/s)\", fontsize=font)\n",
    "    cbar.set_label(r\"log$_{10}$($\\sqrt{N^2 + E^2 + Z^2}$) (rad/s)\", fontsize=font)\n",
    "#     cbar.set_clim(0,4)\n",
    "\n",
    "    ax.set_xticks([10, 20, 30, 40, 50, 100])\n",
    "    ax.get_xaxis().set_major_formatter(matplotlib.ticker.ScalarFormatter())\n",
    "\n",
    "    plt.show()\n",
    "    return fig"
   ]
  },
  {
   "cell_type": "code",
   "execution_count": null,
   "id": "1929bb09-136f-489d-8531-19a2b4eb7ab3",
   "metadata": {
    "tags": []
   },
   "outputs": [],
   "source": [
    "data1 = data_amax[data_amax.CoincidenceSum == 4]\n",
    "data2 = data_amax[data_amax.CoincidenceSum == 5]\n",
    "data3 = data_amax[data_amax.CoincidenceSum == 6]\n",
    "\n",
    "\n",
    "fig = __makeplot2(data1, data2, data3)\n",
    "\n",
    "fig.savefig(config['path_to_figs']+f\"BSPF_statistics_mag_hdist2.png\", dpi=200, bbox_inches='tight', pad_inches=0.05)"
   ]
  },
  {
   "cell_type": "markdown",
   "id": "4868bc4f",
   "metadata": {},
   "source": [
    "## Polar Plot"
   ]
  },
  {
   "cell_type": "code",
   "execution_count": null,
   "id": "48197d66-844b-4290-8b0e-2753e0c57638",
   "metadata": {
    "ExecuteTime": {
     "end_time": "2023-08-07T09:56:15.789426Z",
     "start_time": "2023-08-07T09:56:15.610530Z"
    },
    "code_folding": [
     0
    ],
    "tags": []
   },
   "outputs": [],
   "source": [
    "def __polar_plot(data1, data2):\n",
    "\n",
    "    r1 = data1.Edistance_km\n",
    "    r2 = data2.Edistance_km\n",
    "    theta1 = np.radians(data1.BAZ)\n",
    "    theta2 = np.radians(data2.BAZ)\n",
    "\n",
    "\n",
    "    import matplotlib\n",
    "    cmap = matplotlib.colors.ListedColormap([\"tab:red\", \"tab:orange\", \"tab:green\"])\n",
    "\n",
    "\n",
    "    data1.sort_values(by=\"Magnitude\")\n",
    "\n",
    "    fig, ax = plt.subplots(subplot_kw={'projection': 'polar'}, figsize=(8, 8))\n",
    "\n",
    "    ax.set_theta_offset(np.pi/2)\n",
    "    ax.set_theta_direction(-1)\n",
    "\n",
    "    ax.scatter(theta1, r1, s=4**data1.Magnitude, c=data_amax.CoincidenceSum, cmap=cmap, zorder=2, edgecolors=\"k\", alpha=0.7)\n",
    "    # ax.scatter(theta2, r2, s=4**data2.Magnitude, lw=0.5, edgecolors=\"k\", zorder=3)\n",
    "\n",
    "    ## station\n",
    "    ax.scatter(0, 0, zorder=3, s=100, marker='^', c=\"r\", lw=0.8, edgecolors=\"k\")\n",
    "\n",
    "#     ax.set_rmax(2)\n",
    "\n",
    "#     ax.set_rticks([0.5, 1, 1.5, 2])  # Less radial ticks\n",
    "    ax.set_rlabel_position(-22.5)  # Move radial labels away from plotted line\n",
    "    ax.grid(True, zorder=0)\n",
    "\n",
    "    ax.set_title(\"\", va='bottom')\n",
    "    plt.show()\n",
    "    return fig"
   ]
  },
  {
   "cell_type": "code",
   "execution_count": null,
   "id": "9116ebbb-cd70-4d69-a93c-c0429b40ba4a",
   "metadata": {
    "ExecuteTime": {
     "end_time": "2023-08-07T09:56:15.789426Z",
     "start_time": "2023-08-07T09:56:15.610530Z"
    },
    "code_folding": [
     0
    ],
    "tags": []
   },
   "outputs": [],
   "source": [
    "fig = __polar_plot(data_amax, data_snr)\n",
    "\n",
    "fig.savefig(config['path_to_figs']+f\"BSPF_statistics_polar.png\", dpi=200, bbox_inches='tight', pad_inches=0.05)"
   ]
  },
  {
   "cell_type": "markdown",
   "id": "082a3f7f",
   "metadata": {},
   "source": [
    "## Amplitude Maxima"
   ]
  },
  {
   "cell_type": "code",
   "execution_count": null,
   "id": "d7853875",
   "metadata": {
    "ExecuteTime": {
     "end_time": "2023-08-07T09:56:15.803705Z",
     "start_time": "2023-08-07T09:56:15.790387Z"
    },
    "code_folding": [
     0
    ],
    "tags": []
   },
   "outputs": [],
   "source": [
    "def __makeplot_amax(data1, data2, xvalue):\n",
    "\n",
    "    NJ = 4\n",
    "    NI = 3\n",
    "\n",
    "    fig, ax = plt.subplots(NJ, NI, figsize=(15,10))\n",
    "\n",
    "    font = 14\n",
    "\n",
    "    scale = 1\n",
    "    msize = 12\n",
    "    linew = 0.5\n",
    "\n",
    "    ## _________________________\n",
    "\n",
    "    ax[0,0].scatter(data1[xvalue], data1.PFO_10_Z_amax*scale, s=msize, color=\"grey\", alpha=0.7)\n",
    "    ax[0,0].scatter(data2[xvalue], data2.PFO_10_Z_amax*scale, s=msize, color=\"tab:red\", label=\"XPFO Z\", lw=linew, edgecolors=\"k\")\n",
    "\n",
    "    ax[0,1].scatter(data1[xvalue], data1.PFO_10_N_amax*scale, s=msize, color=\"grey\", alpha=0.7)\n",
    "    ax[0,1].scatter(data2[xvalue], data2.PFO_10_N_amax*scale, s=msize, color=\"tab:red\", label=\"XPFO N\", lw=linew, edgecolors=\"k\")\n",
    "\n",
    "    ax[0,2].scatter(data1[xvalue], data1.PFO_10_E_amax*scale, s=msize, color=\"grey\", alpha=0.7)\n",
    "    ax[0,2].scatter(data2[xvalue], data2.PFO_10_E_amax*scale, s=msize, color=\"tab:red\", label=\"XPFO E\", lw=linew, edgecolors=\"k\")\n",
    "\n",
    "    ## _________________________\n",
    "\n",
    "    ax[1,0].scatter(data1[xvalue], data1.RPFO_al_Z_amax*scale, s=msize, color=\"grey\", alpha=0.7)\n",
    "    ax[1,0].scatter(data2[xvalue], data2.RPFO_al_Z_amax*scale, s=msize, color=\"tab:red\", label=\"ADR all Z\", lw=linew, edgecolors=\"k\")\n",
    "\n",
    "    ax[1,1].scatter(data1[xvalue], data1.RPFO_al_N_amax*scale, s=msize, color=\"grey\", alpha=0.7)\n",
    "    ax[1,1].scatter(data2[xvalue], data2.RPFO_al_N_amax*scale, s=msize, color=\"tab:red\", label=\"ADR all N\", lw=linew, edgecolors=\"k\")\n",
    "\n",
    "    ax[1,2].scatter(data1[xvalue], data1.RPFO_al_E_amax*scale, s=msize, color=\"grey\", alpha=0.7)\n",
    "    ax[1,2].scatter(data2[xvalue], data2.RPFO_al_E_amax*scale, s=msize, color=\"tab:red\", label=\"ADR all E\", lw=linew, edgecolors=\"k\")\n",
    "\n",
    "    ## _________________________\n",
    "\n",
    "    ax[2,0].scatter(data1[xvalue], data1.RPFO_in_Z_amax*scale, s=msize, color=\"grey\", alpha=0.7)\n",
    "    ax[2,0].scatter(data2[xvalue], data2.RPFO_in_Z_amax*scale, s=msize, color=\"tab:red\", label=\"ADR inner Z\", lw=linew, edgecolors=\"k\")\n",
    "\n",
    "    ax[2,1].scatter(data1[xvalue], data1.RPFO_in_N_amax*scale, s=msize, color=\"grey\", alpha=0.7)\n",
    "    ax[2,1].scatter(data2[xvalue], data2.RPFO_in_N_amax*scale, s=msize, color=\"tab:red\", label=\"ADR inner N\", lw=linew, edgecolors=\"k\")\n",
    "\n",
    "    ax[2,2].scatter(data1[xvalue], data1.RPFO_in_E_amax*scale, s=msize, color=\"grey\", alpha=0.7)\n",
    "    ax[2,2].scatter(data2[xvalue], data2.RPFO_in_E_amax*scale, s=msize, color=\"tab:red\", label=\"ADR inner E\", lw=linew, edgecolors=\"k\")\n",
    "\n",
    "    ## _________________________\n",
    "\n",
    "    ax[3,0].scatter(data1[xvalue], data1.BSPF__Z_amax*scale, s=msize, color=\"grey\", alpha=0.7)\n",
    "    ax[3,0].scatter(data2[xvalue], data2.BSPF__Z_amax*scale, s=msize, color=\"tab:red\", label=\"BSPF Z\", lw=linew, edgecolors=\"k\")\n",
    "\n",
    "    ax[3,1].scatter(data1[xvalue], data1.BSPF__N_amax*scale, s=msize, color=\"grey\", alpha=0.7)\n",
    "    ax[3,1].scatter(data2[xvalue], data2.BSPF__N_amax*scale, s=msize, color=\"tab:red\", label=\"BSPF N\", lw=linew, edgecolors=\"k\")\n",
    "\n",
    "    ax[3,2].scatter(data1[xvalue], data1.BSPF__E_amax*scale, s=msize, color=\"grey\", alpha=0.7)\n",
    "    ax[3,2].scatter(data2[xvalue], data2.BSPF__E_amax*scale, s=msize, color=\"tab:red\", label=\"BSPF E\", lw=linew, edgecolors=\"k\")\n",
    "\n",
    "\n",
    "\n",
    "    for i in range(NJ):\n",
    "        for j in range(NI):\n",
    "            ax[i,j].set_yscale(\"log\")\n",
    "            # ax[i,j].set_xscale(\"log\")\n",
    "            ax[i,j].legend(loc=4)\n",
    "            ax[3,j].set_xlabel(xvalue, fontsize=font)\n",
    "            ax[i,j].grid(ls=\"--\", color=\"grey\", alpha=0.6, zorder=0)\n",
    "\n",
    "    for j in range(NI):\n",
    "        ax[0,j].set_ylim(8e-7, 5e-2)\n",
    "        ax[1,j].set_ylim(1e-11, 5e-5)\n",
    "        ax[2,j].set_ylim(1e-10, 5e-5)\n",
    "        ax[3,j].set_ylim(1e-8, 1e-4)\n",
    "\n",
    "    ax[0,0].set_ylabel(r\"Acc. (m/s$^2$)\", fontsize=font)\n",
    "    ax[1,0].set_ylabel(r\"Rot. (rad/s)\", fontsize=font)\n",
    "    ax[2,0].set_ylabel(r\"Rot. (rad/s)\", fontsize=font)\n",
    "    ax[3,0].set_ylabel(r\"Rot. (rad/s)\", fontsize=font)\n",
    "\n",
    "    plt.show()\n",
    "    return fig"
   ]
  },
  {
   "cell_type": "code",
   "execution_count": null,
   "id": "35ffe633",
   "metadata": {
    "ExecuteTime": {
     "end_time": "2023-08-07T09:56:17.993523Z",
     "start_time": "2023-08-07T09:56:15.804635Z"
    },
    "code_folding": [
     0
    ],
    "tags": []
   },
   "outputs": [],
   "source": [
    "fig = __makeplot_amax(data_amax, data_amax_cosum_6, \"Magnitude\")\n",
    "\n",
    "fig.savefig(config['path_to_figs']+f\"BSPF_statistics_ampl_mag.png\", dpi=200, bbox_inches='tight', pad_inches=0.05)"
   ]
  },
  {
   "cell_type": "code",
   "execution_count": null,
   "id": "51cce04f-d4d5-404a-99e7-f549c8c3be38",
   "metadata": {
    "tags": []
   },
   "outputs": [],
   "source": [
    "def __makeplot_amax_colored(data1, data2, xvalue):\n",
    "\n",
    "    NJ = 4\n",
    "    NI = 3\n",
    "\n",
    "    fig, ax = plt.subplots(NJ, NI, figsize=(15,10))\n",
    "\n",
    "    font = 14\n",
    "\n",
    "    scale = 1\n",
    "    msize = 12\n",
    "    linew = 0.1\n",
    "\n",
    "    ## _________________________\n",
    "\n",
    "    ax[0,0].scatter(data1[xvalue], data1.PFO_10_Z_amax*scale, s=msize, color=\"grey\", alpha=0.7, label=\"XPFO Z\")\n",
    "    # ax[0,0].scatter(data2[xvalue], data2.PFO_10_Z_amax*scale, s=msize, color=\"red\", lw=linew, edgecolors=\"k\")\n",
    "\n",
    "    ax[0,1].scatter(data1[xvalue], data1.PFO_10_N_amax*scale, s=msize, color=\"grey\", alpha=0.7, label=\"XPFO N\")\n",
    "    # ax[0,1].scatter(data2[xvalue], data2.PFO_10_N_amax*scale, s=msize, color=\"red\", lw=linew, edgecolors=\"k\")\n",
    "\n",
    "    ax[0,2].scatter(data1[xvalue], data1.PFO_10_E_amax*scale, s=msize, color=\"grey\", alpha=0.7, label=\"XPFO E\")\n",
    "    # ax[0,2].scatter(data2[xvalue], data2.PFO_10_E_amax*scale, s=msize, color=\"red\", lw=linew, edgecolors=\"k\")\n",
    "\n",
    "    ## _________________________\n",
    "\n",
    "    ax[1,0].scatter(data1[xvalue], data1.RPFO_al_Z_amax*scale, s=msize, color=\"grey\", alpha=0.7, label=\"ADR all Z\")\n",
    "    # ax[1,0].scatter(data2[xvalue], data2.RPFO_al_Z_amax*scale, s=msize, color=\"red\", lw=linew, edgecolors=\"k\")\n",
    "\n",
    "    ax[1,1].scatter(data1[xvalue], data1.RPFO_al_N_amax*scale, s=msize, color=\"grey\", alpha=0.7, label=\"ADR all N\")\n",
    "    # ax[1,1].scatter(data2[xvalue], data2.RPFO_al_N_amax*scale, s=msize, color=\"red\", lw=linew, edgecolors=\"k\")\n",
    "\n",
    "    ax[1,2].scatter(data1[xvalue], data1.RPFO_al_E_amax*scale, s=msize, color=\"grey\", alpha=0.7, label=\"ADR all E\")\n",
    "    # ax[1,2].scatter(data2[xvalue], data2.RPFO_al_E_amax*scale, s=msize, color=\"red\", lw=linew, edgecolors=\"k\")\n",
    "\n",
    "    ## _________________________\n",
    "\n",
    "    ax[2,0].scatter(data1[xvalue], data1.RPFO_in_Z_amax*scale, s=msize, color=\"grey\", alpha=0.7, label=\"ADR inner Z\")\n",
    "    # ax[2,0].scatter(data2[xvalue], data2.RPFO_in_Z_amax*scale, s=msize, color=\"red\", lw=linew, edgecolors=\"k\")\n",
    "\n",
    "    ax[2,1].scatter(data1[xvalue], data1.RPFO_in_N_amax*scale, s=msize, color=\"grey\", alpha=0.7, label=\"ADR inner N\")\n",
    "    # ax[2,1].scatter(data2[xvalue], data2.RPFO_in_N_amax*scale, s=msize, color=\"red\", lw=linew, edgecolors=\"k\")\n",
    "\n",
    "    ax[2,2].scatter(data1[xvalue], data1.RPFO_in_E_amax*scale, s=msize, color=\"grey\", alpha=0.7, label=\"ADR inner E\")\n",
    "    # ax[2,2].scatter(data2[xvalue], data2.RPFO_in_E_amax*scale, s=msize, color=\"red\", lw=linew, edgecolors=\"k\")\n",
    "\n",
    "    ## _________________________\n",
    "\n",
    "    ax[3,0].scatter(data1[xvalue], data1.BSPF__Z_amax*scale, s=msize, color=\"grey\", alpha=0.7, label=\"BSPF Z\")\n",
    "    # ax[3,0].scatter(data2[xvalue], data2.BSPF__Z_amax*scale, s=msize, color=\"red\", lw=linew, edgecolors=\"k\")\n",
    "\n",
    "    ax[3,1].scatter(data1[xvalue], data1.BSPF__N_amax*scale, s=msize, color=\"grey\", alpha=0.7, label=\"BSPF N\")\n",
    "    # ax[3,1].scatter(data2[xvalue], data2.BSPF__N_amax*scale, s=msize, color=\"red\", lw=linew, edgecolors=\"k\")\n",
    "\n",
    "    ax[3,2].scatter(data1[xvalue], data1.BSPF__E_amax*scale, s=msize, color=\"grey\", alpha=0.7, label=\"BSPF E\")\n",
    "    # ax[3,2].scatter(data2[xvalue], data2.BSPF__E_amax*scale, s=msize, color=\"red\", lw=linew, edgecolors=\"k\")\n",
    "\n",
    "\n",
    "\n",
    "    for i in range(NJ):\n",
    "        for j in range(NI):\n",
    "            ax[i,j].set_yscale(\"log\")\n",
    "            # ax[i,j].set_xscale(\"log\")\n",
    "            ax[i,j].legend(loc=4)\n",
    "            ax[3,j].set_xlabel(xvalue, fontsize=font)\n",
    "            ax[i,j].grid(ls=\"--\", color=\"grey\", alpha=0.6, zorder=0)\n",
    "\n",
    "    for j in range(NI):\n",
    "        ax[0,j].set_ylim(8e-7, 5e-2)\n",
    "        ax[1,j].set_ylim(1e-11, 5e-5)\n",
    "        ax[2,j].set_ylim(1e-10, 5e-5)\n",
    "        ax[3,j].set_ylim(1e-8, 1e-4)\n",
    "\n",
    "    ax[0,0].set_ylabel(r\"Acc. (m/s$^2$)\", fontsize=font)\n",
    "    ax[1,0].set_ylabel(r\"Rot. (rad/s)\", fontsize=font)\n",
    "    ax[2,0].set_ylabel(r\"Rot. (rad/s)\", fontsize=font)\n",
    "    ax[3,0].set_ylabel(r\"Rot. (rad/s)\", fontsize=font)\n",
    "\n",
    "    plt.show()\n",
    "    return fig"
   ]
  },
  {
   "cell_type": "code",
   "execution_count": null,
   "id": "c606536f-53f1-4e5d-87fd-a2c8659d6f8c",
   "metadata": {
    "tags": []
   },
   "outputs": [],
   "source": [
    "# fig = __makeplot_amax_colored(data_amax, data_amax_cosum_6, \"Magnitude\")\n",
    "\n",
    "# fig.savefig(config['path_to_figs']+f\"BSPF_statistics_ampl_mag_colored.png\", dpi=200, bbox_inches='tight', pad_inches=0.05)"
   ]
  },
  {
   "cell_type": "code",
   "execution_count": null,
   "id": "9e475d2a",
   "metadata": {
    "ExecuteTime": {
     "end_time": "2023-08-07T09:56:18.008707Z",
     "start_time": "2023-08-07T09:56:17.994464Z"
    },
    "code_folding": [
     0
    ],
    "tags": []
   },
   "outputs": [],
   "source": [
    "def __makeplot_amax2(data1, data2, xvalue):\n",
    "\n",
    "    NJ = 4\n",
    "    NI = 3\n",
    "\n",
    "    fig, ax = plt.subplots(NJ, NI, figsize=(15,10))\n",
    "\n",
    "    font = 14\n",
    "\n",
    "    scale = 1\n",
    "    msize = 12\n",
    "    linew = 0.1\n",
    "\n",
    "    ## _________________________\n",
    "\n",
    "    ax[0,0].scatter(data1[xvalue], data1.PFO_10_Z_amax*scale, s=msize, color=\"grey\", alpha=0.7)\n",
    "    ax[0,0].scatter(data2[xvalue], data2.PFO_10_Z_amax*scale, s=msize, color=\"red\", label=\"XPFO Z\", lw=linew, edgecolors=\"k\")\n",
    "\n",
    "    ax[0,1].scatter(data1[xvalue], data1.PFO_10_N_amax*scale, s=msize, color=\"grey\", alpha=0.7)\n",
    "    ax[0,1].scatter(data2[xvalue], data2.PFO_10_N_amax*scale, s=msize, color=\"red\", label=\"XPFO N\", lw=linew, edgecolors=\"k\")\n",
    "\n",
    "    ax[0,2].scatter(data1[xvalue], data1.PFO_10_E_amax*scale, s=msize, color=\"grey\", alpha=0.7)\n",
    "    ax[0,2].scatter(data2[xvalue], data2.PFO_10_E_amax*scale, s=msize, color=\"red\", label=\"XPFO E\", lw=linew, edgecolors=\"k\")\n",
    "\n",
    "    ## _________________________\n",
    "\n",
    "    ax[1,0].scatter(data1[xvalue], data1.RPFO_al_Z_amax*scale, s=msize, color=\"grey\", alpha=0.7)\n",
    "    ax[1,0].scatter(data2[xvalue], data2.RPFO_al_Z_amax*scale, s=msize, color=\"red\", label=\"ADR all Z\", lw=linew, edgecolors=\"k\")\n",
    "\n",
    "    ax[1,1].scatter(data1[xvalue], data1.RPFO_al_N_amax*scale, s=msize, color=\"grey\", alpha=0.7)\n",
    "    ax[1,1].scatter(data2[xvalue], data2.RPFO_al_N_amax*scale, s=msize, color=\"red\", label=\"ADR all N\", lw=linew, edgecolors=\"k\")\n",
    "\n",
    "    ax[1,2].scatter(data1[xvalue], data1.RPFO_al_E_amax*scale, s=msize, color=\"grey\", alpha=0.7)\n",
    "    ax[1,2].scatter(data2[xvalue], data2.RPFO_al_E_amax*scale, s=msize, color=\"red\", label=\"ADR all E\", lw=linew, edgecolors=\"k\")\n",
    "\n",
    "    ## _________________________\n",
    "\n",
    "    ax[2,0].scatter(data1[xvalue], data1.RPFO_in_Z_amax*scale, s=msize, color=\"grey\", alpha=0.7)\n",
    "    ax[2,0].scatter(data2[xvalue], data2.RPFO_in_Z_amax*scale, s=msize, color=\"red\", label=\"ADR inner Z\", lw=linew, edgecolors=\"k\")\n",
    "\n",
    "    ax[2,1].scatter(data1[xvalue], data1.RPFO_in_N_amax*scale, s=msize, color=\"grey\", alpha=0.7)\n",
    "    ax[2,1].scatter(data2[xvalue], data2.RPFO_in_N_amax*scale, s=msize, color=\"red\", label=\"ADR inner N\", lw=linew, edgecolors=\"k\")\n",
    "\n",
    "    ax[2,2].scatter(data1[xvalue], data1.RPFO_in_E_amax*scale, s=msize, color=\"grey\", alpha=0.7)\n",
    "    ax[2,2].scatter(data2[xvalue], data2.RPFO_in_E_amax*scale, s=msize, color=\"red\", label=\"ADR inner E\", lw=linew, edgecolors=\"k\")\n",
    "\n",
    "    ## _________________________\n",
    "\n",
    "    ax[3,0].scatter(data1[xvalue], data1.BSPF__Z_amax*scale, s=msize, color=\"grey\", alpha=0.7)\n",
    "    ax[3,0].scatter(data2[xvalue], data2.BSPF__Z_amax*scale, s=msize, color=\"red\", label=\"BSPF Z\", lw=linew, edgecolors=\"k\")\n",
    "\n",
    "    ax[3,1].scatter(data1[xvalue], data1.BSPF__N_amax*scale, s=msize, color=\"grey\", alpha=0.7)\n",
    "    ax[3,1].scatter(data2[xvalue], data2.BSPF__N_amax*scale, s=msize, color=\"red\", label=\"BSPF N\", lw=linew, edgecolors=\"k\")\n",
    "\n",
    "    ax[3,2].scatter(data1[xvalue], data1.BSPF__E_amax*scale, s=msize, color=\"grey\", alpha=0.7)\n",
    "    ax[3,2].scatter(data2[xvalue], data2.BSPF__E_amax*scale, s=msize, color=\"red\", label=\"BSPF E\", lw=linew, edgecolors=\"k\")\n",
    "\n",
    "\n",
    "    # for j in range(1,3):\n",
    "    #     ax[j,0].set_ylim(1e-9, 1e-5)\n",
    "    #     ax[j,1].set_ylim(1e-9, 1e-5)\n",
    "    #     ax[j,2].set_ylim(1e-9, 1e-5)\n",
    "\n",
    "    for i in range(NJ):\n",
    "        for j in range(NI):\n",
    "            ax[i,j].set_yscale(\"log\")\n",
    "            ax[i,j].set_xscale(\"log\")\n",
    "            ax[i,j].legend(loc=1)\n",
    "            ax[3,j].set_xlabel(\"Hypocenter Distance (km)\", fontsize=font)\n",
    "#             ax[i,j].grid(ls=\"--\", color=\"grey\", alpha=0.6, zorder=0, which=\"both\")\n",
    "            ax[i,j].set_xlim(left=10)\n",
    "\n",
    "    ax[0,0].set_ylabel(r\"Acc. (m/s$^2$)\", fontsize=font)\n",
    "    ax[1,0].set_ylabel(r\"Rot. (rad/s)\", fontsize=font)\n",
    "    ax[2,0].set_ylabel(r\"Rot. (rad/s)\", fontsize=font)\n",
    "    ax[3,0].set_ylabel(r\"Rot. (rad/s)\", fontsize=font)\n",
    "\n",
    "    plt.show()"
   ]
  },
  {
   "cell_type": "code",
   "execution_count": null,
   "id": "2b4571ea",
   "metadata": {
    "ExecuteTime": {
     "end_time": "2023-08-07T09:56:20.663113Z",
     "start_time": "2023-08-07T09:56:18.010077Z"
    },
    "tags": []
   },
   "outputs": [],
   "source": [
    "# __makeplot_amax2(data_amax, data_amax_cosum_6, \"Hdistance_km\")"
   ]
  },
  {
   "cell_type": "markdown",
   "id": "99a9504d",
   "metadata": {},
   "source": [
    "## Compare ADR - BSPF maximal amplitudes"
   ]
  },
  {
   "cell_type": "code",
   "execution_count": null,
   "id": "d6a4b9c9-f6c8-407e-9c74-f03cf24f524a",
   "metadata": {
    "tags": []
   },
   "outputs": [],
   "source": [
    "def __makeplot_compare_amax(data2):\n",
    "\n",
    "    NJ = 3\n",
    "    NI = 3\n",
    "\n",
    "    fig, ax = plt.subplots(NJ, NI, figsize=(15,10), sharex=True)\n",
    "\n",
    "    font = 14\n",
    "    scale = 1\n",
    "    msize = 12\n",
    "    linew = 0.5\n",
    "\n",
    "\n",
    "\n",
    "\n",
    "    ## _________________________\n",
    "\n",
    "\n",
    "    ax[0,0].scatter(data2.RPFO_in_Z_adr,data2.BSPF_in_Z_adr,  s=msize, color=\"tab:red\", label=\"RPFO inner Z\", lw=linew, edgecolors=\"k\", zorder=3)\n",
    "\n",
    "    ax[0,1].scatter(data2.RPFO_in_N_adr,data2.BSPF_in_N_adr,  s=msize, color=\"tab:red\", label=\"RPFO inner N\", lw=linew, edgecolors=\"k\", zorder=3)\n",
    "\n",
    "    ax[0,2].scatter(data2.RPFO_in_E_adr, data2.BSPF_in_E_adr, s=msize, color=\"tab:red\", label=\"RPFO inner E\", lw=linew, edgecolors=\"k\", zorder=3)\n",
    "\n",
    "    ## _________________________\n",
    "\n",
    "\n",
    "    ax[1,0].scatter(data2.RPFO_mi_Z_adr, data2.BSPF_mi_Z_adr, s=msize, color=\"tab:red\", label=\"ADR mid Z\", lw=linew, edgecolors=\"k\", zorder=3)\n",
    "\n",
    "    ax[1,1].scatter(data2.RPFO_mi_N_adr,data2.BSPF_mi_N_adr,  s=msize, color=\"tab:red\", label=\"ADR mid N\", lw=linew, edgecolors=\"k\", zorder=3)\n",
    "\n",
    "    ax[1,2].scatter(data2.RPFO_mi_E_adr, data2.BSPF_mi_E_adr, s=msize, color=\"tab:red\", label=\"ADR mid E\", lw=linew, edgecolors=\"k\", zorder=3)\n",
    "\n",
    "\n",
    "    ## _________________________\n",
    "\n",
    "\n",
    "    ax[2,0].scatter(data2.RPFO_al_Z_adr, data2.BSPF_al_Z_adr, s=msize, color=\"tab:red\", label=\"ADR all Z\", lw=linew, edgecolors=\"k\", zorder=3)\n",
    "\n",
    "    ax[2,1].scatter(data2.RPFO_al_N_adr, data2.BSPF_al_N_adr, s=msize, color=\"tab:red\", label=\"ADR all N\", lw=linew, edgecolors=\"k\", zorder=3)\n",
    "\n",
    "    ax[2,2].scatter(data2.RPFO_al_E_adr, data2.BSPF_al_E_adr, s=msize, color=\"tab:red\", label=\"ADR all E\", lw=linew, edgecolors=\"k\", zorder=3)\n",
    "\n",
    "\n",
    "\n",
    "    for i in range(NJ):\n",
    "        for j in range(NI):\n",
    "            ax[i,j].set_yscale(\"log\")\n",
    "            ax[i,j].set_xscale(\"log\")\n",
    "            ax[2,j].set_xlabel(r\"ADR (rad/s)\", fontsize=font)\n",
    "\n",
    "            ax[i,j].legend(loc=2)\n",
    "            ax[i,j].grid(ls=\"-\", color=\"lightgrey\", alpha=0.6, zorder=0, which=\"both\")\n",
    "\n",
    "    for j in range(NI):\n",
    "        # ax[0,j].set_title(f\"0.16-16.5 Hz\")\n",
    "        # ax[1,j].set_title(\"0.03-3.3 Hz\")\n",
    "        # ax[2,j].set_title(f\"0.02-1.3 Hz\")\n",
    "        ax[0,j].set_title(f\"1.0-16.0 Hz\")\n",
    "        ax[1,j].set_title(\"0.5-3.0 Hz\")\n",
    "        ax[2,j].set_title(f\"0.05- Hz\")\n",
    "\n",
    "    for i in range(NI):\n",
    "        for j in range(NJ):\n",
    "            ax[i,j].set_xlim(1e-11, 2e-5)\n",
    "            ax[i,j].set_ylim(1e-11, 2e-5)\n",
    "\n",
    "            ## plot one diagonal\n",
    "            ax[i,j].plot(np.linspace(1e-12, 10e-5, 1000), np.linspace(1e-12, 10e-5, 1000), ls=\"--\", c=\"k\", zorder=2)\n",
    "            ax[i,j].plot(np.linspace(1e-12, 10e-5, 1000), np.linspace(1e-8, 1e-8, 1000), ls=\":\", c=\"tab:purple\", zorder=2)\n",
    "            ax[i,j].plot(np.linspace(1e-12, 10e-5, 1000), np.linspace(3e-8, 3e-8, 1000), ls=\":\", c=\"tab:blue\", zorder=2)\n",
    "\n",
    "    ax[0,0].set_ylabel(r\"BSPF inner (rad/s)\", fontsize=font)\n",
    "    ax[1,0].set_ylabel(r\"BSPF mid (rad/s)\", fontsize=font)\n",
    "    ax[2,0].set_ylabel(r\"BSPF all (rad/s)\", fontsize=font)\n",
    "\n",
    "    plt.show();\n",
    "    return fig"
   ]
  },
  {
   "cell_type": "code",
   "execution_count": null,
   "id": "074672fa-af80-487a-9450-bbb63be55e0f",
   "metadata": {
    "tags": []
   },
   "outputs": [],
   "source": [
    "fig = __makeplot_compare_amax(data_adr)\n",
    "\n",
    "fig.savefig(config['path_to_figs']+f\"BSPF_statistics_amplitude_comparison_ADR_BSPF.png\", dpi=200, bbox_inches='tight', pad_inches=0.05)"
   ]
  },
  {
   "cell_type": "code",
   "execution_count": null,
   "id": "876559a4-d9c5-41ad-9355-7e2802426583",
   "metadata": {
    "tags": []
   },
   "outputs": [],
   "source": [
    "def __makeplot_compare_amax2(data1, data2):\n",
    "\n",
    "    NJ = 3\n",
    "    NI = 3\n",
    "\n",
    "    fig, ax = plt.subplots(NJ, NI, figsize=(15,10), sharex=True)\n",
    "\n",
    "    font = 14\n",
    "    scale = 1\n",
    "    msize = 12\n",
    "    linew = 0.5\n",
    "\n",
    "\n",
    "\n",
    "\n",
    "    ## _________________________\n",
    "\n",
    "\n",
    "    ax[0,0].scatter(data1.RPFO_in_Z_adr,data1.BSPF_in_Z_adr,  s=msize, color=\"grey\", alpha=1, zorder=2)\n",
    "    ax[0,0].scatter(data2.RPFO_in_Z_adr,data2.BSPF_in_Z_adr,  s=msize, color=\"tab:red\", label=\"RPFO inner Z\", lw=linew, edgecolors=\"k\", zorder=3)\n",
    "\n",
    "    ax[0,1].scatter(data1.RPFO_in_N_adr,data1.BSPF_in_N_adr,  s=msize, color=\"grey\", alpha=1, zorder=2)\n",
    "    ax[0,1].scatter(data2.RPFO_in_N_adr,data2.BSPF_in_N_adr,  s=msize, color=\"tab:red\", label=\"RPFO inner N\", lw=linew, edgecolors=\"k\", zorder=3)\n",
    "\n",
    "    ax[0,2].scatter(data1.RPFO_in_E_adr, data1.BSPF_in_E_adr, s=msize, color=\"grey\", alpha=1, zorder=2)\n",
    "    ax[0,2].scatter(data2.RPFO_in_E_adr, data2.BSPF_in_E_adr, s=msize, color=\"tab:red\", label=\"RPFO inner E\", lw=linew, edgecolors=\"k\", zorder=3)\n",
    "\n",
    "    ## _________________________\n",
    "\n",
    "\n",
    "    ax[1,0].scatter(data1.RPFO_mi_Z_adr, data1.BSPF_mi_Z_adr, s=msize, color=\"grey\", alpha=1, zorder=2)\n",
    "    ax[1,0].scatter(data2.RPFO_mi_Z_adr, data2.BSPF_mi_Z_adr, s=msize, color=\"tab:red\", label=\"ADR mid Z\", lw=linew, edgecolors=\"k\", zorder=3)\n",
    "\n",
    "    ax[1,1].scatter(data1.RPFO_mi_N_adr, data1.BSPF_mi_N_adr, s=msize, color=\"grey\", alpha=1, zorder=2)\n",
    "    ax[1,1].scatter(data2.RPFO_mi_N_adr,data2.BSPF_mi_N_adr,  s=msize, color=\"tab:red\", label=\"ADR mid N\", lw=linew, edgecolors=\"k\", zorder=3)\n",
    "\n",
    "    ax[1,2].scatter(data1.RPFO_mi_E_adr, data1.BSPF_mi_E_adr, s=msize, color=\"grey\", alpha=1, zorder=2)\n",
    "    ax[1,2].scatter(data2.RPFO_mi_E_adr, data2.BSPF_mi_E_adr, s=msize, color=\"tab:red\", label=\"ADR mid E\", lw=linew, edgecolors=\"k\", zorder=3)\n",
    "\n",
    "\n",
    "    ## _________________________\n",
    "\n",
    "\n",
    "    ax[2,0].scatter(data1.RPFO_al_Z_adr,data1.BSPF_al_Z_adr,  s=msize, color=\"grey\", alpha=1, zorder=2)\n",
    "    ax[2,0].scatter(data2.RPFO_al_Z_adr, data2.BSPF_al_Z_adr, s=msize, color=\"tab:red\", label=\"ADR all Z\", lw=linew, edgecolors=\"k\", zorder=3)\n",
    "\n",
    "    ax[2,1].scatter(data1.RPFO_al_N_adr, data1.BSPF_al_N_adr, s=msize, color=\"grey\", alpha=1, zorder=2)\n",
    "    ax[2,1].scatter(data2.RPFO_al_N_adr, data2.BSPF_al_N_adr, s=msize, color=\"tab:red\", label=\"ADR all N\", lw=linew, edgecolors=\"k\", zorder=3)\n",
    "\n",
    "    ax[2,2].scatter(data1.RPFO_al_E_adr, data1.BSPF_al_E_adr, s=msize, color=\"grey\", alpha=1, zorder=2)\n",
    "    ax[2,2].scatter(data2.RPFO_al_E_adr, data2.BSPF_al_E_adr, s=msize, color=\"tab:red\", label=\"ADR all E\", lw=linew, edgecolors=\"k\", zorder=3)\n",
    "\n",
    "\n",
    "\n",
    "    for i in range(NJ):\n",
    "        for j in range(NI):\n",
    "            ax[i,j].set_yscale(\"log\")\n",
    "            ax[i,j].set_xscale(\"log\")\n",
    "            ax[2,j].set_xlabel(r\"ADR (rad/s)\", fontsize=font)\n",
    "\n",
    "            ax[i,j].legend(loc=2)\n",
    "            ax[i,j].grid(ls=\"-\", color=\"lightgrey\", alpha=0.6, zorder=0, which=\"both\")\n",
    "\n",
    "    for j in range(NI):\n",
    "        # ax[0,j].set_title(f\"0.16-16.5 Hz\")\n",
    "        # ax[1,j].set_title(\"0.03-3.3 Hz\")\n",
    "        # ax[2,j].set_title(f\"0.02-1.3 Hz\")\n",
    "        ax[0,j].set_title(f\"1.0-16.0 Hz\")\n",
    "        ax[1,j].set_title(\"0.5-3.0 Hz\")\n",
    "        ax[2,j].set_title(f\"0.05- Hz\")\n",
    "\n",
    "    for i in range(NI):\n",
    "        for j in range(NJ):\n",
    "            ax[i,j].set_xlim(1e-11, 2e-5)\n",
    "            ax[i,j].set_ylim(1e-11, 2e-5)\n",
    "\n",
    "            ## plot one diagonal\n",
    "            ax[i,j].plot(np.linspace(1e-12, 10e-5, 1000), np.linspace(1e-12, 10e-5, 1000), ls=\"--\", c=\"k\", zorder=2)\n",
    "            ax[i,j].plot(np.linspace(1e-12, 10e-5, 1000), np.linspace(1e-8, 1e-8, 1000), ls=\":\", c=\"tab:purple\", zorder=2)\n",
    "            ax[i,j].plot(np.linspace(1e-12, 10e-5, 1000), np.linspace(3e-8, 3e-8, 1000), ls=\":\", c=\"tab:blue\", zorder=2)\n",
    "\n",
    "    ax[0,0].set_ylabel(r\"BSPF inner (rad/s)\", fontsize=font)\n",
    "    ax[1,0].set_ylabel(r\"BSPF mid (rad/s)\", fontsize=font)\n",
    "    ax[2,0].set_ylabel(r\"BSPF all (rad/s)\", fontsize=font)\n",
    "\n",
    "    plt.show();\n",
    "    return fig"
   ]
  },
  {
   "cell_type": "code",
   "execution_count": null,
   "id": "e6379cc3-b02e-4c4f-9d56-c7faee2e5a64",
   "metadata": {
    "tags": []
   },
   "outputs": [],
   "source": [
    "fig = __makeplot_compare_amax2(data_adr, data_adr_cosum_6)\n",
    "\n",
    "fig.savefig(config['path_to_figs']+f\"BSPF_statistics_amplitude_comparison_ADR_BSPF_2.png\", dpi=200, bbox_inches='tight', pad_inches=0.05)"
   ]
  },
  {
   "cell_type": "markdown",
   "id": "d26d1c3d-4ff8-479e-872d-05a7e7429777",
   "metadata": {},
   "source": [
    "## CC values"
   ]
  },
  {
   "cell_type": "code",
   "execution_count": null,
   "id": "f98afd02-3cf4-43ce-abe8-30d4ab19b587",
   "metadata": {
    "tags": []
   },
   "outputs": [],
   "source": [
    "def __makeplot_cc(data1, data2, xvalue):\n",
    "\n",
    "    NJ = 4\n",
    "    NI = 3\n",
    "\n",
    "    fig, ax = plt.subplots(NJ, NI, figsize=(15,10))\n",
    "\n",
    "    font = 14\n",
    "\n",
    "    scale = 1\n",
    "    msize = 12\n",
    "    linew = 0.1\n",
    "\n",
    "    ## _________________________\n",
    "\n",
    "    ax[0,0].scatter(data1[xvalue], data1.BSPF_in_Z_adr*scale, s=msize, color=\"grey\", alpha=0.7)\n",
    "    ax[0,0].scatter(data2[xvalue], data2.BSPF_in_Z_adr*scale, s=msize, color=\"red\", label=\"BSPF Z\", lw=linew, edgecolors=\"k\")\n",
    "\n",
    "    ax[0,1].scatter(data1[xvalue], data1.BSPF_in_N_adr*scale, s=msize, color=\"grey\", alpha=0.7)\n",
    "    ax[0,1].scatter(data2[xvalue], data2.BSPF_in_N_adr*scale, s=msize, color=\"red\", label=\"BSPF N\", lw=linew, edgecolors=\"k\")\n",
    "\n",
    "    ax[0,2].scatter(data1[xvalue], data1.BSPF_in_E_adr*scale, s=msize, color=\"grey\", alpha=0.7)\n",
    "    ax[0,2].scatter(data2[xvalue], data2.BSPF_in_E_adr*scale, s=msize, color=\"red\", label=\"BSPF E\", lw=linew, edgecolors=\"k\")\n",
    "\n",
    "    ## _________________________\n",
    "\n",
    "    ax[1,0].scatter(data1[xvalue], data1.RPFO_al_Z_adr*scale, s=msize, color=\"grey\", alpha=0.7)\n",
    "    ax[1,0].scatter(data2[xvalue], data2.RPFO_al_Z_adr*scale, s=msize, color=\"red\", label=\"ADR all Z\", lw=linew, edgecolors=\"k\")\n",
    "\n",
    "    ax[1,1].scatter(data1[xvalue], data1.RPFO_al_N_adr*scale, s=msize, color=\"grey\", alpha=0.7)\n",
    "    ax[1,1].scatter(data2[xvalue], data2.RPFO_al_N_adr*scale, s=msize, color=\"red\", label=\"ADR all N\", lw=linew, edgecolors=\"k\")\n",
    "\n",
    "    ax[1,2].scatter(data1[xvalue], data1.RPFO_al_E_adr*scale, s=msize, color=\"grey\", alpha=0.7)\n",
    "    ax[1,2].scatter(data2[xvalue], data2.RPFO_al_E_adr*scale, s=msize, color=\"red\", label=\"ADR all E\", lw=linew, edgecolors=\"k\")\n",
    "\n",
    "    ## _________________________\n",
    "\n",
    "    ax[2,0].scatter(data1[xvalue], data1.RPFO_mi_Z_adr*scale, s=msize, color=\"grey\", alpha=0.7)\n",
    "    ax[2,0].scatter(data2[xvalue], data2.RPFO_mi_Z_adr*scale, s=msize, color=\"red\", label=\"ADR mid Z\", lw=linew, edgecolors=\"k\")\n",
    "\n",
    "    ax[2,1].scatter(data1[xvalue], data1.RPFO_mi_N_adr*scale, s=msize, color=\"grey\", alpha=0.7)\n",
    "    ax[2,1].scatter(data2[xvalue], data2.RPFO_mi_N_adr*scale, s=msize, color=\"red\", label=\"ADR mid N\", lw=linew, edgecolors=\"k\")\n",
    "\n",
    "    ax[2,2].scatter(data1[xvalue], data1.RPFO_mi_E_adr*scale, s=msize, color=\"grey\", alpha=0.7)\n",
    "    ax[2,2].scatter(data2[xvalue], data2.RPFO_mi_E_adr*scale, s=msize, color=\"red\", label=\"ADR mid E\", lw=linew, edgecolors=\"k\")\n",
    "\n",
    "    ## _________________________\n",
    "\n",
    "    ax[3,0].scatter(data1[xvalue], data1.RPFO_in_Z_adr*scale, s=msize, color=\"grey\", alpha=0.7)\n",
    "    ax[3,0].scatter(data2[xvalue], data2.RPFO_in_Z_adr*scale, s=msize, color=\"red\", label=\"ADR inner Z\", lw=linew, edgecolors=\"k\")\n",
    "\n",
    "    ax[3,1].scatter(data1[xvalue], data1.RPFO_in_N_adr*scale, s=msize, color=\"grey\", alpha=0.7)\n",
    "    ax[3,1].scatter(data2[xvalue], data2.RPFO_in_N_adr*scale, s=msize, color=\"red\", label=\"ADR inner N\", lw=linew, edgecolors=\"k\")\n",
    "\n",
    "    ax[3,2].scatter(data1[xvalue], data1.RPFO_in_E_adr*scale, s=msize, color=\"grey\", alpha=0.7)\n",
    "    ax[3,2].scatter(data2[xvalue], data2.RPFO_in_E_adr*scale, s=msize, color=\"red\", label=\"ADR inner E\", lw=linew, edgecolors=\"k\")\n",
    "\n",
    "\n",
    "\n",
    "    for i in range(NJ):\n",
    "        for j in range(NI):\n",
    "            # ax[i,j].set_yscale(\"log\")\n",
    "            ax[i,j].set_ylim(-1.1, 1.1)\n",
    "            ax[i,j].legend(loc=4)\n",
    "            ax[3,j].set_xlabel(xvalue, fontsize=font)\n",
    "            ax[i,j].grid(ls=\"--\", color=\"grey\", alpha=0.6, zorder=0)\n",
    "\n",
    "    ax[0,0].set_ylabel(r\"Rot. CC\", fontsize=font)\n",
    "    ax[1,0].set_ylabel(r\"Rot. CC\", fontsize=font)\n",
    "    ax[2,0].set_ylabel(r\"Rot. CC\", fontsize=font)\n",
    "    ax[3,0].set_ylabel(r\"Rot. CC\", fontsize=font)\n",
    "\n",
    "    plt.show()\n",
    "    return fig"
   ]
  },
  {
   "cell_type": "code",
   "execution_count": null,
   "id": "d0457660-d9eb-4739-b636-1e6b23cb0402",
   "metadata": {
    "tags": []
   },
   "outputs": [],
   "source": [
    "# fig = __makeplot_cc(data_adr_cc, data_adr_cc_cosum_6, \"Magnitude\")\n",
    "\n",
    "# fig.savefig(config['path_to_figs']+f\"BSPF_statistics_cc_mag.png\", dpi=200, bbox_inches='tight', pad_inches=0.05)"
   ]
  },
  {
   "cell_type": "code",
   "execution_count": null,
   "id": "37b6cef0-1f0e-4938-98fd-13a8ff86f46c",
   "metadata": {
    "tags": []
   },
   "outputs": [],
   "source": [
    "def __makeplot_cc2(data1):\n",
    "\n",
    "    NJ = 4\n",
    "    NI = 3\n",
    "\n",
    "    fig, ax = plt.subplots(NJ, NI, figsize=(15, 10))\n",
    "\n",
    "    font = 14\n",
    "\n",
    "    msize = 12\n",
    "    linew = 0.5\n",
    "\n",
    "    cmap = plt.get_cmap(\"seismic\")\n",
    "\n",
    "    ## _________________________\n",
    "\n",
    "    cax = ax[0,0].scatter(data1.Hdistance_km, data1.Magnitude, c=data1.BSPF_in_Z_adr, cmap=cmap, vmin=-1, vmax=1, s=msize, label=\"BSPF Z\", lw=linew, edgecolors=\"k\")\n",
    "    cbar = plt.colorbar(cax, pad=0.02)\n",
    "    cbar.set_label(r\"CC-Coefficient\", fontsize=font-1)\n",
    "\n",
    "    cax = ax[0,1].scatter(data1.Hdistance_km, data1.Magnitude, c=data1.BSPF_in_N_adr, cmap=cmap, vmin=-1, vmax=1, s=msize, label=\"BSPF N\", lw=linew, edgecolors=\"k\")\n",
    "    cbar = plt.colorbar(cax, pad=0.02)\n",
    "    cbar.set_label(r\"CC-Coefficient\", fontsize=font-1)\n",
    "\n",
    "    cax = ax[0,2].scatter(data1.Hdistance_km, data1.Magnitude, c=data1.BSPF_in_E_adr, cmap=cmap, vmin=-1, vmax=1, s=msize, label=\"BSPF E\", lw=linew, edgecolors=\"k\")\n",
    "    cbar = plt.colorbar(cax, pad=0.02)\n",
    "    cbar.set_label(r\"CC-Coefficient\", fontsize=font-1)\n",
    "\n",
    "    ## _________________________\n",
    "\n",
    "    cax = ax[1,0].scatter(data1.Hdistance_km, data1.Magnitude, c=data1.RPFO_al_Z_adr, cmap=cmap, vmin=-1, vmax=1, s=msize, label=\"ADR all Z\", lw=linew, edgecolors=\"k\")\n",
    "    cbar = plt.colorbar(cax, pad=0.02)\n",
    "    cbar.set_label(r\"CC-Coefficient\", fontsize=font-1)\n",
    "\n",
    "    cax = ax[1,1].scatter(data1.Hdistance_km, data1.Magnitude, c=data1.RPFO_al_N_adr, cmap=cmap, vmin=-1, vmax=1, s=msize, label=\"ADR all N\", lw=linew, edgecolors=\"k\")\n",
    "    cbar = plt.colorbar(cax, pad=0.02)\n",
    "    cbar.set_label(r\"CC-Coefficient\", fontsize=font-1)\n",
    "\n",
    "    cax = ax[1,2].scatter(data1.Hdistance_km, data1.Magnitude, c=data1.RPFO_al_E_adr, cmap=cmap, vmin=-1, vmax=1, s=msize, label=\"ADR all E\", lw=linew, edgecolors=\"k\")\n",
    "    cbar = plt.colorbar(cax, pad=0.02)\n",
    "    cbar.set_label(r\"CC-Coefficient\", fontsize=font-1)\n",
    "\n",
    "    ## _________________________\n",
    "\n",
    "    cax = ax[2,0].scatter(data1.Hdistance_km, data1.Magnitude, c=data1.RPFO_mi_Z_adr, cmap=cmap, vmin=-1, vmax=1, s=msize, label=\"ADR mid Z\", lw=linew, edgecolors=\"k\")\n",
    "    cbar = plt.colorbar(cax, pad=0.02)\n",
    "    cbar.set_label(r\"CC-Coefficient\", fontsize=font-1)\n",
    "\n",
    "    cax = ax[2,1].scatter(data1.Hdistance_km, data1.Magnitude, c=data1.RPFO_mi_N_adr, cmap=cmap, vmin=-1, vmax=1, s=msize, label=\"ADR mid N\", lw=linew, edgecolors=\"k\")\n",
    "    cbar = plt.colorbar(cax, pad=0.02)\n",
    "    cbar.set_label(r\"CC-Coefficient\", fontsize=font-1)\n",
    "\n",
    "    cax = ax[2,2].scatter(data1.Hdistance_km, data1.Magnitude, c=data1.RPFO_mi_E_adr, cmap=cmap, vmin=-1, vmax=1, s=msize, label=\"ADR mid E\", lw=linew, edgecolors=\"k\")\n",
    "    cbar = plt.colorbar(cax, pad=0.02)\n",
    "    cbar.set_label(r\"CC-Coefficient\", fontsize=font-1)\n",
    "\n",
    "    ## _________________________\n",
    "\n",
    "    cax = ax[3,0].scatter(data1.Hdistance_km, data1.Magnitude, c=data1.RPFO_in_Z_adr, cmap=cmap, vmin=-1, vmax=1, s=msize, label=\"ADR inner Z\", lw=linew, edgecolors=\"k\")\n",
    "    cbar = plt.colorbar(cax, pad=0.02)\n",
    "    cbar.set_label(r\"CC-Coefficient\", fontsize=font-1)\n",
    "\n",
    "    cax = ax[3,1].scatter(data1.Hdistance_km, data1.Magnitude, c=data1.RPFO_in_N_adr, cmap=cmap, vmin=-1, vmax=1, s=msize, label=\"ADR inner N\", lw=linew, edgecolors=\"k\")\n",
    "    cbar = plt.colorbar(cax, pad=0.02)\n",
    "    cbar.set_label(r\"CC-Coefficient\", fontsize=font-1)\n",
    "\n",
    "    cax = ax[3,2].scatter(data1.Hdistance_km, data1.Magnitude, c=data1.RPFO_in_E_adr, cmap=cmap, vmin=-1, vmax=1, s=msize, label=\"ADR inner E\", lw=linew, edgecolors=\"k\")\n",
    "    cbar = plt.colorbar(cax, pad=0.02)\n",
    "    cbar.set_label(r\"CC-Coefficient\", fontsize=font-1)\n",
    "\n",
    "\n",
    "\n",
    "    for i in range(NJ):\n",
    "        for j in range(NI):\n",
    "            ax[i,j].set_xscale(\"log\")\n",
    "            ax[i,j].set_ylim(0, 5)\n",
    "            ax[i,j].legend(loc=4)\n",
    "            ax[3,j].set_xlabel(\"Hypocentral Distance (km)\", fontsize=font)\n",
    "            # ax[i,j].grid(ls=\"--\", color=\"grey\", alpha=0.6, zorder=0)\n",
    "\n",
    "    ax[0,0].set_ylabel(r\"Magnitude\", fontsize=font)\n",
    "    ax[1,0].set_ylabel(r\"Magnitude\", fontsize=font)\n",
    "    ax[2,0].set_ylabel(r\"Magnitude\", fontsize=font)\n",
    "    ax[3,0].set_ylabel(r\"Magnitude\", fontsize=font)\n",
    "\n",
    "    plt.show()\n",
    "    return fig"
   ]
  },
  {
   "cell_type": "code",
   "execution_count": null,
   "id": "04c6483f-882c-4644-bb78-853352874f74",
   "metadata": {
    "tags": []
   },
   "outputs": [],
   "source": [
    "fig = __makeplot_cc2(data_adr_cc)\n",
    "\n",
    "fig.savefig(config['path_to_figs']+f\"BSPF_statistics_cc.png\", dpi=200, bbox_inches='tight', pad_inches=0.05)"
   ]
  },
  {
   "cell_type": "markdown",
   "id": "a46cdcea",
   "metadata": {},
   "source": [
    "## Signal-to-Noise Ratio"
   ]
  },
  {
   "cell_type": "code",
   "execution_count": null,
   "id": "8fbe86a4-096b-48db-84b9-16c6dd97c3ce",
   "metadata": {
    "tags": []
   },
   "outputs": [],
   "source": [
    "# pd.plotting.scatter_matrix(data_snr[['Magnitude','CoincidenceSum','BAZ','Edistance_km','Hdistance_km']], alpha=0.2, figsize=(10,10))\n",
    "# plt.show();"
   ]
  },
  {
   "cell_type": "code",
   "execution_count": null,
   "id": "a3bed145-f37a-4612-82b1-f40d645f0d46",
   "metadata": {
    "tags": []
   },
   "outputs": [],
   "source": [
    "# pd.plotting.scatter_matrix(data_amax[['BSPF__Z_amax','BSPF__N_amax','BSPF__E_amax','RPFO_al_Z_amax','RPFO_al_N_amax','RPFO_al_E_amax']], alpha=0.2, figsize=(10,10))\n",
    "# plt.show();"
   ]
  },
  {
   "cell_type": "code",
   "execution_count": null,
   "id": "7722d1a2",
   "metadata": {
    "ExecuteTime": {
     "end_time": "2023-08-07T09:56:22.665735Z",
     "start_time": "2023-08-07T09:56:22.652624Z"
    },
    "code_folding": [
     0
    ]
   },
   "outputs": [],
   "source": [
    "def __makeplot_snr(data1, data2, xvalue):\n",
    "\n",
    "    NJ = 5\n",
    "    NI = 3\n",
    "\n",
    "    fig, ax = plt.subplots(NJ, NI, figsize=(15, 10), sharey=False, sharex=True)\n",
    "\n",
    "    font = 14\n",
    "    scale = 1e0\n",
    "    msize = 12\n",
    "\n",
    "    plt.subplots_adjust(hspace=0.1, wspace=0.05)\n",
    "\n",
    "    ## _________________________\n",
    "\n",
    "    ax[0,0].scatter(data1[xvalue], data1.PFO_10_Z_snr*scale, s=msize, zorder=2, color=\"grey\", alpha=0.7)\n",
    "    ax[0,0].scatter(data2[xvalue], data2.PFO_10_Z_snr*scale, s=msize, zorder=2, label=\"PFO Z\", edgecolor=\"k\", lw=0.5, color=\"tab:red\")\n",
    "\n",
    "    ax[0,1].scatter(data1[xvalue], data1.PFO_10_N_snr*scale, s=msize, zorder=2, color=\"grey\", alpha=0.7)\n",
    "    ax[0,1].scatter(data2[xvalue], data2.PFO_10_N_snr*scale, s=msize, zorder=2, label=\"PFO N\", edgecolor=\"k\", lw=0.5, color=\"tab:red\")\n",
    "\n",
    "    ax[0,2].scatter(data1[xvalue], data1.PFO_10_E_snr*scale, s=msize, zorder=2, color=\"grey\", alpha=0.7)\n",
    "    ax[0,2].scatter(data2[xvalue], data2.PFO_10_E_snr*scale, s=msize, zorder=2, label=\"PFO E\", edgecolor=\"k\", lw=0.5, color=\"tab:red\")\n",
    "\n",
    "    ## _________________________\n",
    "\n",
    "    ax[1,0].scatter(data1[xvalue], data1.RPFO_al_Z_snr*scale, s=msize, zorder=2, color=\"grey\", alpha=0.7)\n",
    "    ax[1,0].scatter(data2[xvalue], data2.RPFO_al_Z_snr*scale, s=msize, zorder=2, label=\"ADR all Z\", edgecolor=\"k\", lw=0.5, color=\"tab:red\")\n",
    "\n",
    "    ax[1,1].scatter(data1[xvalue], data1.RPFO_al_N_snr*scale, s=msize, zorder=2, color=\"grey\", alpha=0.7)\n",
    "    ax[1,1].scatter(data2[xvalue], data2.RPFO_al_N_snr*scale, s=msize, zorder=2, label=\"ADR all N\", edgecolor=\"k\", lw=0.5, color=\"tab:red\")\n",
    "\n",
    "    ax[1,2].scatter(data1[xvalue], data1.RPFO_al_E_snr*scale, s=msize, zorder=2, color=\"grey\", alpha=0.7)\n",
    "    ax[1,2].scatter(data2[xvalue], data2.RPFO_al_E_snr*scale, s=msize, zorder=2, label=\"ADR all E\", edgecolor=\"k\", lw=0.5, color=\"tab:red\")\n",
    "\n",
    "    ## _________________________\n",
    "\n",
    "    ax[2,0].scatter(data1[xvalue], data1.RPFO_mi_Z_snr*scale, s=msize, zorder=2, color=\"grey\", alpha=0.7)\n",
    "    ax[2,0].scatter(data2[xvalue], data2.RPFO_mi_Z_snr*scale, s=msize, zorder=2, label=\"ADR mid Z\", edgecolor=\"k\", lw=0.5, color=\"tab:red\")\n",
    "\n",
    "    ax[2,1].scatter(data1[xvalue], data1.RPFO_mi_N_snr*scale, s=msize, zorder=2, color=\"grey\", alpha=0.7)\n",
    "    ax[2,1].scatter(data2[xvalue], data2.RPFO_mi_N_snr*scale, s=msize, zorder=2, label=\"ADR mid N\", edgecolor=\"k\", lw=0.5, color=\"tab:red\")\n",
    "\n",
    "    ax[2,2].scatter(data1[xvalue], data1.RPFO_mi_E_snr*scale, s=msize, zorder=2, color=\"grey\", alpha=0.7)\n",
    "    ax[2,2].scatter(data2[xvalue], data2.RPFO_mi_E_snr*scale, s=msize, zorder=2, label=\"ADR mid E\", edgecolor=\"k\", lw=0.5, color=\"tab:red\")\n",
    "\n",
    "    ## _________________________\n",
    "\n",
    "    ax[3,0].scatter(data1[xvalue], data1.RPFO_in_Z_snr*scale, s=msize, zorder=2, color=\"grey\", alpha=0.7)\n",
    "    ax[3,0].scatter(data2[xvalue], data2.RPFO_in_Z_snr*scale, s=msize, zorder=2, label=\"ADR inner Z\", edgecolor=\"k\", lw=0.5, color=\"tab:red\")\n",
    "\n",
    "    ax[3,1].scatter(data1[xvalue], data1.RPFO_in_N_snr*scale, s=msize, zorder=2, color=\"grey\", alpha=0.7)\n",
    "    ax[3,1].scatter(data2[xvalue], data2.RPFO_in_N_snr*scale, s=msize, zorder=2, label=\"ADR inner N\", edgecolor=\"k\", lw=0.5, color=\"tab:red\")\n",
    "\n",
    "    ax[3,2].scatter(data1[xvalue], data1.RPFO_in_E_snr*scale, s=msize, zorder=2, color=\"grey\", alpha=0.7)\n",
    "    ax[3,2].scatter(data2[xvalue], data2.RPFO_in_E_snr*scale, s=msize, zorder=2, label=\"ADR inner E\", edgecolor=\"k\", lw=0.5, color=\"tab:red\")\n",
    "\n",
    "    ## _________________________\n",
    "\n",
    "    ax[4,0].scatter(data1[xvalue], data1.BSPF__Z_snr*scale, s=msize, zorder=2, color=\"grey\", alpha=0.7)\n",
    "    ax[4,0].scatter(data2[xvalue], data2.BSPF__Z_snr*scale, s=msize, zorder=2, label=\"BSPF Z\", edgecolor=\"k\", lw=0.5, color=\"tab:red\")\n",
    "\n",
    "    ax[4,1].scatter(data1[xvalue], data1.BSPF__N_snr*scale, s=msize, zorder=2, color=\"grey\", alpha=0.7)\n",
    "    ax[4,1].scatter(data2[xvalue], data2.BSPF__N_snr*scale, s=msize, zorder=2, label=\"BSPF N\", edgecolor=\"k\", lw=0.5, color=\"tab:red\")\n",
    "\n",
    "    ax[4,2].scatter(data1[xvalue], data1.BSPF__E_snr*scale, s=msize, zorder=2, color=\"grey\", alpha=0.7)\n",
    "    ax[4,2].scatter(data2[xvalue], data2.BSPF__E_snr*scale, s=msize, zorder=2, label=\"BSPF E\", edgecolor=\"k\", lw=0.5, color=\"tab:red\")\n",
    "\n",
    "\n",
    "    for i in range(NJ):\n",
    "        for j in range(NI):\n",
    "            if i < 4:\n",
    "                ax[i,j].set_yscale(\"log\")\n",
    "                ax[i,j].set_ylim(0, 1e4)\n",
    "\n",
    "            ax[i,j].legend(loc=2)\n",
    "            ax[4,j].set_xlabel(xvalue, fontsize=font)\n",
    "            ax[i,j].grid(ls=\"--\", color=\"grey\", alpha=0.6, zorder=0)\n",
    "            ax[4,j].set_ylim(0, 30)\n",
    "            if j > 0:\n",
    "                ax[i,j].set_yticklabels([])\n",
    "\n",
    "    ax[0,0].set_ylabel(r\"SNR\", fontsize=font)\n",
    "    ax[1,0].set_ylabel(r\"SNR\", fontsize=font)\n",
    "    ax[2,0].set_ylabel(r\"SNR\", fontsize=font)\n",
    "    ax[3,0].set_ylabel(r\"SNR\", fontsize=font)\n",
    "    ax[4,0].set_ylabel(r\"SNR\", fontsize=font)\n",
    "\n",
    "    plt.show()\n",
    "    return fig"
   ]
  },
  {
   "cell_type": "code",
   "execution_count": null,
   "id": "4a87ed28",
   "metadata": {
    "ExecuteTime": {
     "end_time": "2023-08-07T09:56:23.771288Z",
     "start_time": "2023-08-07T09:56:22.666812Z"
    },
    "code_folding": [
     0
    ]
   },
   "outputs": [],
   "source": [
    "fig = __makeplot_snr(data_snr, data_snr_cosum_6, \"Magnitude\")\n",
    "\n",
    "fig.savefig(config['path_to_figs']+f\"BSPF_statistics_snr_magnitude.png\", dpi=200, bbox_inches='tight', pad_inches=0.05)"
   ]
  },
  {
   "cell_type": "code",
   "execution_count": null,
   "id": "badccda5-0598-4eda-ae5f-c70b01387570",
   "metadata": {
    "tags": []
   },
   "outputs": [],
   "source": [
    "def __makeplot_snr_colored(data1, data2, xvalue):\n",
    "\n",
    "    NJ = 5\n",
    "    NI = 3\n",
    "\n",
    "    fig, ax = plt.subplots(NJ, NI, figsize=(15, 10), sharey=True, sharex=True)\n",
    "\n",
    "    font = 14\n",
    "    scale = 1e0\n",
    "    msize = 12\n",
    "\n",
    "    plt.subplots_adjust(hspace=0.1, wspace=0.05)\n",
    "\n",
    "    import matplotlib\n",
    "    cmap = matplotlib.colors.ListedColormap([\"tab:red\", \"tab:orange\", \"tab:green\"])\n",
    "\n",
    "    ## _________________________\n",
    "\n",
    "    ax[0,0].scatter(data1[xvalue], data1.PFO_10_Z_snr*scale, s=msize, zorder=2, c=data1.CoincidenceSum, cmap=cmap, alpha=0.7, label=\"PFO Z\")\n",
    "    # ax[0,0].scatter(data2[xvalue], data2.PFO_10_Z_snr*scale, s=msize, zorder=2, c=data2.CoincidenceSum, edgecolor=\"k\", lw=0.5)\n",
    "\n",
    "    ax[0,1].scatter(data1[xvalue], data1.PFO_10_N_snr*scale, s=msize, zorder=2, c=data1.CoincidenceSum, cmap=cmap, alpha=0.7, label=\"PFO N\")\n",
    "    # ax[0,1].scatter(data2[xvalue], data2.PFO_10_N_snr*scale, s=msize, zorder=2, edgecolor=\"k\", lw=0.5, color=\"tab:red\")\n",
    "\n",
    "    ax[0,2].scatter(data1[xvalue], data1.PFO_10_E_snr*scale, s=msize, zorder=2, c=data1.CoincidenceSum, cmap=cmap, alpha=0.7, label=\"PFO E\")\n",
    "    # ax[0,2].scatter(data2[xvalue], data2.PFO_10_E_snr*scale, s=msize, zorder=2, edgecolor=\"k\", lw=0.5, color=\"tab:red\")\n",
    "\n",
    "    ## _________________________\n",
    "\n",
    "    ax[1,0].scatter(data1[xvalue], data1.RPFO_al_Z_snr*scale, s=msize, zorder=2, c=data1.CoincidenceSum, cmap=cmap, alpha=0.7, label=\"ADR all Z\")\n",
    "    # ax[1,0].scatter(data2[xvalue], data2.RPFO_al_Z_snr*scale, s=msize, zorder=2, edgecolor=\"k\", lw=0.5, color=\"tab:red\")\n",
    "\n",
    "    ax[1,1].scatter(data1[xvalue], data1.RPFO_al_N_snr*scale, s=msize, zorder=2, c=data1.CoincidenceSum, cmap=cmap, alpha=0.7, label=\"ADR all N\")\n",
    "    # ax[1,1].scatter(data2[xvalue], data2.RPFO_al_N_snr*scale, s=msize, zorder=2, edgecolor=\"k\", lw=0.5, color=\"tab:red\")\n",
    "\n",
    "    ax[1,2].scatter(data1[xvalue], data1.RPFO_al_E_snr*scale, s=msize, zorder=2, c=data1.CoincidenceSum, cmap=cmap, alpha=0.7, label=\"ADR all E\")\n",
    "    # ax[1,2].scatter(data2[xvalue], data2.RPFO_al_E_snr*scale, s=msize, zorder=2, edgecolor=\"k\", lw=0.5, color=\"tab:red\")\n",
    "\n",
    "    ## _________________________\n",
    "\n",
    "    ax[2,0].scatter(data1[xvalue], data1.RPFO_mi_Z_snr*scale, s=msize, zorder=2, c=data1.CoincidenceSum, cmap=cmap, alpha=0.7, label=\"ADR mid Z\")\n",
    "    # ax[2,0].scatter(data2[xvalue], data2.RPFO_mi_Z_snr*scale, s=msize, zorder=2, edgecolor=\"k\", lw=0.5, color=\"tab:red\")\n",
    "\n",
    "    ax[2,1].scatter(data1[xvalue], data1.RPFO_mi_N_snr*scale, s=msize, zorder=2, c=data1.CoincidenceSum, cmap=cmap, alpha=0.7, label=\"ADR mid N\")\n",
    "    # ax[2,1].scatter(data2[xvalue], data2.RPFO_mi_N_snr*scale, s=msize, zorder=2, edgecolor=\"k\", lw=0.5, color=\"tab:red\")\n",
    "\n",
    "    ax[2,2].scatter(data1[xvalue], data1.RPFO_mi_E_snr*scale, s=msize, zorder=2, c=data1.CoincidenceSum, cmap=cmap, alpha=0.7, label=\"ADR mid E\")\n",
    "    # ax[2,2].scatter(data2[xvalue], data2.RPFO_mi_E_snr*scale, s=msize, zorder=2, edgecolor=\"k\", lw=0.5, color=\"tab:red\")\n",
    "\n",
    "    ## _________________________\n",
    "\n",
    "    ax[3,0].scatter(data1[xvalue], data1.RPFO_in_Z_snr*scale, s=msize, zorder=2, c=data1.CoincidenceSum, cmap=cmap, alpha=0.7, label=\"ADR inner Z\")\n",
    "    # ax[3,0].scatter(data2[xvalue], data2.RPFO_in_Z_snr*scale, s=msize, zorder=2, edgecolor=\"k\", lw=0.5, color=\"tab:red\")\n",
    "\n",
    "    ax[3,1].scatter(data1[xvalue], data1.RPFO_in_N_snr*scale, s=msize, zorder=2, c=data1.CoincidenceSum, cmap=cmap, alpha=0.7, label=\"ADR inner N\")\n",
    "    # ax[3,1].scatter(data2[xvalue], data2.RPFO_in_N_snr*scale, s=msize, zorder=2, edgecolor=\"k\", lw=0.5, color=\"tab:red\")\n",
    "\n",
    "    ax[3,2].scatter(data1[xvalue], data1.RPFO_in_E_snr*scale, s=msize, zorder=2, c=data1.CoincidenceSum, cmap=cmap, alpha=0.7, label=\"ADR inner E\")\n",
    "    # ax[3,2].scatter(data2[xvalue], data2.RPFO_in_E_snr*scale, s=msize, zorder=2, edgecolor=\"k\", lw=0.5, color=\"tab:red\")\n",
    "\n",
    "    ## _________________________\n",
    "\n",
    "    ax[4,0].scatter(data1[xvalue], data1.BSPF__Z_snr*scale, s=msize, zorder=2, c=data1.CoincidenceSum, cmap=cmap, alpha=0.7, label=\"BSPF Z\")\n",
    "    # ax[4,0].scatter(data2[xvalue], data2.BSPF__Z_snr*scale, s=msize, zorder=2, edgecolor=\"k\", lw=0.5, color=\"tab:red\")\n",
    "\n",
    "    ax[4,1].scatter(data1[xvalue], data1.BSPF__N_snr*scale, s=msize, zorder=2, c=data1.CoincidenceSum, cmap=cmap, alpha=0.7, label=\"BSPF N\")\n",
    "    # ax[4,1].scatter(data2[xvalue], data2.BSPF__N_snr*scale, s=msize, zorder=2, edgecolor=\"k\", lw=0.5, color=\"tab:red\")\n",
    "\n",
    "    ax[4,2].scatter(data1[xvalue], data1.BSPF__E_snr*scale, s=msize, zorder=2, c=data1.CoincidenceSum, cmap=cmap, alpha=0.7, label=\"BSPF E\")\n",
    "    # ax[4,2].scatter(data2[xvalue], data2.BSPF__E_snr*scale, s=msize, zorder=2, edgecolor=\"k\", lw=0.5, color=\"tab:red\")\n",
    "\n",
    "\n",
    "    for i in range(NJ):\n",
    "        for j in range(NI):\n",
    "            ax[i,j].set_yscale(\"log\")\n",
    "            # ax[i,j].set_xscale(\"log\")\n",
    "            ax[i,j].legend(loc=2)\n",
    "            ax[4,j].set_xlabel(xvalue, fontsize=font)\n",
    "            ax[i,j].set_ylim(9e-1, 1e4)\n",
    "            ax[i,j].grid(ls=\"--\", color=\"grey\", alpha=0.6, zorder=0)\n",
    "\n",
    "    ax[0,0].set_ylabel(r\"SNR\", fontsize=font)\n",
    "    ax[1,0].set_ylabel(r\"SNR\", fontsize=font)\n",
    "    ax[2,0].set_ylabel(r\"SNR\", fontsize=font)\n",
    "    ax[3,0].set_ylabel(r\"SNR\", fontsize=font)\n",
    "    ax[4,0].set_ylabel(r\"SNR\", fontsize=font)\n",
    "\n",
    "    plt.show()\n",
    "    return fig"
   ]
  },
  {
   "cell_type": "code",
   "execution_count": null,
   "id": "f75a6121-d3c7-4d9b-b400-5a4bf4a99722",
   "metadata": {
    "tags": []
   },
   "outputs": [],
   "source": [
    "fig = __makeplot_snr_colored(data_snr, data_snr_cosum_6, \"Magnitude\")\n",
    "\n",
    "fig.savefig(config['path_to_figs']+f\"BSPF_statistics_snr_magnitude_colored.png\", dpi=200, bbox_inches='tight', pad_inches=0.05)"
   ]
  },
  {
   "cell_type": "markdown",
   "id": "6eff499d",
   "metadata": {},
   "source": [
    "## Velocity"
   ]
  },
  {
   "cell_type": "code",
   "execution_count": null,
   "id": "9a023d3a-e073-4f8c-9fd0-32ddfea7df27",
   "metadata": {},
   "outputs": [],
   "source": []
  },
  {
   "cell_type": "code",
   "execution_count": null,
   "id": "035f8b65-5870-44b7-8fe0-f08b4c663f73",
   "metadata": {},
   "outputs": [],
   "source": [
    "from functions.compute_linear_regression import __compute_linear_regression"
   ]
  },
  {
   "cell_type": "code",
   "execution_count": null,
   "id": "bb90c293-c42f-4e2a-830d-d3a601d00563",
   "metadata": {
    "ExecuteTime": {
     "end_time": "2023-08-07T09:56:25.669510Z",
     "start_time": "2023-08-07T09:56:24.993873Z"
    },
    "code_folding": [
     0
    ]
   },
   "outputs": [],
   "source": [
    "def __makeplot_velocity(data):\n",
    "\n",
    "    from numpy import array, log10\n",
    "\n",
    "    fig, ax = plt.subplots(1, 2, figsize=(15,5))\n",
    "\n",
    "    font = 14\n",
    "\n",
    "    scale = 1e3\n",
    "    msize = 10\n",
    "    linew = 0.3\n",
    "\n",
    "    data0 = data.dropna()\n",
    "\n",
    "    x_arr1 = data0.BSPF__Z_amax*scale\n",
    "    y_arr1= 0.5*data0.PFO_10_T_amax*scale\n",
    "\n",
    "    xx1 = array([b for a, b in zip(y_arr1, x_arr1) if a/b > 1e-3])\n",
    "    yy1 = array([a for a, b in zip(y_arr1, x_arr1) if a/b > 1e-3])\n",
    "\n",
    "#     xx1, yy1 = log10(xx1), log10(yy1)\n",
    "\n",
    "    x_axis1 = np.linspace(0, xx1.max(), 100)\n",
    "\n",
    "\n",
    "    ## linear regression\n",
    "#     b1, a1 = __compute_orthogonal_distance_regression(xx1, yy1, xerr=None, yerr=None, bx=None, by=None)\n",
    "    b1, a1 = __compute_linear_regression(xx1, yy1, intercept_is_zero=True)\n",
    "\n",
    "    ax[0].scatter(xx1, yy1, s=20, c='tab:red', marker=\"o\", label=f\"N={len(xx1)}\", zorder=3, lw=linew, edgecolors=\"k\")\n",
    "    ax[0].plot(x_axis1, a1+b1*x_axis1, color='k', ls=\"--\", label=f\"f(x) = {a1:.0f} + {b1:.0f} x\", zorder=1)\n",
    "\n",
    "    ax[0].legend(loc=2, fontsize=font)\n",
    "    ax[0].grid(ls=\"--\", color=\"grey\", alpha=0.6, zorder=0)\n",
    "\n",
    "    ax[0].set_xlim(left=0)\n",
    "    ax[0].set_ylim(bottom=0)\n",
    "\n",
    "    ax[0].set_xlabel(\"vertical rotation rate $\\Omega_Z$ (mrad/s)\", fontsize=font)\n",
    "    ax[0].set_ylabel(\"transverse acceleration $a_T$ (mm/s$^2$)\", fontsize=font)\n",
    "    ax[0].set_title(\"Love Phase Velocity\", fontsize=font+1)\n",
    "\n",
    "\n",
    "    ## ______________________________________________\n",
    "\n",
    "    x_arr2 = data0.BSPF__T_amax*scale\n",
    "    y_arr2= data0.PFO_10_Z_amax*scale\n",
    "\n",
    "    xx2 = array([b for a, b in zip(y_arr2, x_arr2) if a/b > 1e-3])\n",
    "    yy2 = array([a for a, b in zip(y_arr2, x_arr2) if a/b > 1e-3])\n",
    "\n",
    "#     xx2, yy2 = log10(xx2), log10(yy2)\n",
    "\n",
    "    x_axis2 = np.linspace(0, xx2.max(), 100)\n",
    "\n",
    "    ## linear regression\n",
    "#     b2, a2 = __compute_orthogonal_distance_regression(xx2, yy2, xerr=None, yerr=None, bx=None, by=None)\n",
    "    b2, a2 = __compute_linear_regression(xx2, yy2, intercept_is_zero=True)\n",
    "\n",
    "    ax[1].scatter(xx2, yy2, s=20, c='tab:red' ,marker=\"o\", label=f\"N={len(xx2)}\", zorder=3, lw=linew, edgecolors=\"k\")\n",
    "    ax[1].plot(x_axis2, a2+b2*x_axis2, color='k', ls=\"--\", label=f\"f(x) = {a2:.0f} + {b2:.0f} x\", zorder=1)\n",
    "\n",
    "    ax[1].legend(loc=2, fontsize=font)\n",
    "    ax[1].grid(ls=\"--\", color=\"grey\", alpha=0.6, zorder=0)\n",
    "\n",
    "    ax[1].set_xlim(left=0)\n",
    "    ax[1].set_ylim(bottom=0)\n",
    "\n",
    "    ax[1].set_xlabel(\"transverse rotation rate $\\Omega_T$ (mrad/s)\", fontsize=font)\n",
    "    ax[1].set_ylabel(\"vertical acceleration $a_Z$ (mm/s$^2$)\", fontsize=font)\n",
    "    ax[1].set_title(\"Rayleigh Phase Velocity\", fontsize=font+1)\n",
    "\n",
    "    plt.show();\n",
    "    return fig"
   ]
  },
  {
   "cell_type": "code",
   "execution_count": null,
   "id": "71cdd644-d6fe-4e1a-a8ac-a9682ad3b9c7",
   "metadata": {
    "tags": []
   },
   "outputs": [],
   "source": [
    "fig = __makeplot_velocity(data_amax)\n",
    "\n",
    "fig.savefig(config['path_to_figs']+f\"BSPF_statistics_velocity_from_Amax.png\", dpi=200, bbox_inches='tight', pad_inches=0.05);"
   ]
  },
  {
   "cell_type": "code",
   "execution_count": null,
   "id": "612e693c-60e7-45b6-8882-e0bbd9322a66",
   "metadata": {
    "ExecuteTime": {
     "end_time": "2023-08-07T09:56:25.669510Z",
     "start_time": "2023-08-07T09:56:24.993873Z"
    },
    "code_folding": [
     0
    ]
   },
   "outputs": [],
   "source": [
    "fig = __makeplot_velocity(data_amax[data_amax.Magnitude < 3])\n",
    "\n",
    "fig.savefig(config['path_to_figs']+f\"BSPF_statistics_velocity_from_Amax_M<3.png\", dpi=200, bbox_inches='tight', pad_inches=0.05);"
   ]
  },
  {
   "cell_type": "code",
   "execution_count": null,
   "id": "45869aab",
   "metadata": {},
   "outputs": [],
   "source": [
    "def __makeplot_velocity_multiple(data, odr=False):\n",
    "\n",
    "    from numpy import array, log10\n",
    "\n",
    "    def __regress1(data, scale):\n",
    "        data0 = data.dropna()\n",
    "\n",
    "        x_arr1 = data0.BSPF__Z_amax*scale\n",
    "        y_arr1= 0.5*data0.PFO_10_T_amax*scale\n",
    "\n",
    "        xx1 = array([b for a, b in zip(y_arr1, x_arr1) if a/b > 1e-3])\n",
    "        yy1 = array([a for a, b in zip(y_arr1, x_arr1) if a/b > 1e-3])\n",
    "\n",
    "        x_axis1 = np.linspace(0, xx1.max(), 100)\n",
    "\n",
    "        ## linear regression\n",
    "        if odr:\n",
    "            b1, a1 = __compute_orthogonal_distance_regression(xx1, yy1, xerr=None, yerr=None, bx=None, by=None)\n",
    "        else:\n",
    "            b1, a1 = __compute_linear_regression(xx1, yy1, intercept_is_zero=True)\n",
    "\n",
    "        return x_axis1, b1, a1\n",
    "\n",
    "    scale = 1e3\n",
    "\n",
    "    data0 = data.dropna()\n",
    "\n",
    "    x_arr1 = data0.BSPF__Z_amax*scale\n",
    "    y_arr1= 0.5*data0.PFO_10_T_amax*scale\n",
    "\n",
    "    xx1 = array([b for a, b in zip(y_arr1, x_arr1) if a/b > 1e-3])\n",
    "    yy1 = array([a for a, b in zip(y_arr1, x_arr1) if a/b > 1e-3])\n",
    "\n",
    "\n",
    "    fig, ax = plt.subplots(1, 2, figsize=(15,5))\n",
    "\n",
    "    font = 14\n",
    "\n",
    "    msize = 10\n",
    "    linew = 0.3\n",
    "\n",
    "    ax[0].scatter(xx1, yy1, s=20, c='tab:red', marker=\"o\", label=f\"N={len(xx1)}\", zorder=3, lw=linew, edgecolors=\"k\")\n",
    "\n",
    "    x_axis1, b1, a1 = __regress1(data[data.Magnitude > 0], scale)\n",
    "    ax[0].plot(x_axis1, a1+b1*x_axis1, color='k', ls=\"--\", label=f\"f(x) = {a1:.0f} + {b1:.0f} x  (M>0)\", zorder=1)\n",
    "\n",
    "    x_axis1, b1, a1 = __regress1(data[data.Magnitude < 3], scale)\n",
    "    ax[0].plot(x_axis1, a1+b1*x_axis1, color='b', ls=\"--\", label=f\"f(x) = {a1:.0f} + {b1:.0f} x  (M<3)\", zorder=1)\n",
    "\n",
    "    ax[0].legend(loc=2, fontsize=font)\n",
    "    ax[0].grid(ls=\"--\", color=\"grey\", alpha=0.6, zorder=0)\n",
    "\n",
    "    ax[0].set_xlim(left=0)\n",
    "    ax[0].set_ylim(bottom=0)\n",
    "\n",
    "    ax[0].set_xlabel(\"vertical rotation rate $\\Omega_Z$ (mrad/s)\", fontsize=font)\n",
    "    ax[0].set_ylabel(\"transverse acceleration $a_T$ (mm/s$^2$)\", fontsize=font)\n",
    "    ax[0].set_title(\"Love Phase Velocity\", fontsize=font+1)\n",
    "\n",
    "\n",
    "    ## ______________________________________________\n",
    "\n",
    "    def __regress2(data, scale):\n",
    "        data0 = data.dropna()\n",
    "\n",
    "        x_arr2 = data0.BSPF__T_amax*scale\n",
    "        y_arr2= data0.PFO_10_Z_amax*scale\n",
    "\n",
    "        xx2 = array([b for a, b in zip(y_arr2, x_arr2) if a/b > 1e-3])\n",
    "        yy2 = array([a for a, b in zip(y_arr2, x_arr2) if a/b > 1e-3])\n",
    "\n",
    "        x_axis2 = np.linspace(0, xx2.max(), 100)\n",
    "\n",
    "        ## linear regression\n",
    "        if odr:\n",
    "            b2, a2 = __compute_orthogonal_distance_regression(xx2, yy2, xerr=None, yerr=None, bx=None, by=None)\n",
    "        else:\n",
    "            b2, a2 = __compute_linear_regression(xx2, yy2, intercept_is_zero=True)\n",
    "\n",
    "        return x_axis2, b2, a2 \n",
    "\n",
    "    x_arr2 = data0.BSPF__T_amax*scale\n",
    "    y_arr2= data0.PFO_10_Z_amax*scale\n",
    "\n",
    "    xx2 = array([b for a, b in zip(y_arr2, x_arr2) if a/b > 1e-3])\n",
    "    yy2 = array([a for a, b in zip(y_arr2, x_arr2) if a/b > 1e-3])\n",
    "\n",
    "    x_axis2 = np.linspace(0, xx2.max(), 100)\n",
    "\n",
    "\n",
    "    ax[1].scatter(xx2, yy2, s=20, c='tab:red' ,marker=\"o\", label=f\"N={len(xx2)}\", zorder=3, lw=linew, edgecolors=\"k\")\n",
    "\n",
    "    x_axis2, b2, a2 = __regress2(data[data.Magnitude > 0], scale)\n",
    "    ax[1].plot(x_axis2, a2+b2*x_axis2, color='k', ls=\"--\", label=f\"f(x) = {a2:.0f} + {b2:.0f} x\", zorder=1)\n",
    "\n",
    "    x_axis2, b2, a2 = __regress2(data[data.Magnitude < 3], scale)\n",
    "    ax[1].plot(x_axis2, a2+b2*x_axis2, color='b', ls=\"--\", label=f\"f(x) = {a2:.0f} + {b2:.0f} x\", zorder=1)\n",
    "\n",
    "\n",
    "    ax[1].legend(loc=2, fontsize=font)\n",
    "    ax[1].grid(ls=\"--\", color=\"grey\", alpha=0.6, zorder=0)\n",
    "\n",
    "    ax[1].set_xlim(left=0)\n",
    "    ax[1].set_ylim(bottom=0)\n",
    "\n",
    "    ax[1].set_xlabel(\"transverse rotation rate $\\Omega_T$ (mrad/s)\", fontsize=font)\n",
    "    ax[1].set_ylabel(\"vertical acceleration $a_Z$ (mm/s$^2$)\", fontsize=font)\n",
    "    ax[1].set_title(\"Rayleigh Phase Velocity\", fontsize=font+1)\n",
    "\n",
    "    plt.show();\n",
    "    return fig"
   ]
  },
  {
   "cell_type": "code",
   "execution_count": null,
   "id": "5dede2a0",
   "metadata": {},
   "outputs": [],
   "source": [
    "fig = __makeplot_velocity_multiple(data_amax_cosum_6, odr=True);\n",
    "\n",
    "fig.savefig(config['path_to_figs']+f\"BSPF_statistics_velocity_multiple_lin.png\", dpi=200, bbox_inches='tight', pad_inches=0.05);"
   ]
  },
  {
   "cell_type": "code",
   "execution_count": null,
   "id": "578fb795-f931-496c-8507-94c1731017ad",
   "metadata": {},
   "outputs": [],
   "source": []
  },
  {
   "cell_type": "code",
   "execution_count": null,
   "id": "205b2ef1-29c2-4d0c-98d1-1c126f577c71",
   "metadata": {},
   "outputs": [],
   "source": []
  }
 ],
 "metadata": {
  "kernelspec": {
   "display_name": "Python 3 (ipykernel)",
   "language": "python",
   "name": "python3"
  },
  "language_info": {
   "codemirror_mode": {
    "name": "ipython",
    "version": 3
   },
   "file_extension": ".py",
   "mimetype": "text/x-python",
   "name": "python",
   "nbconvert_exporter": "python",
   "pygments_lexer": "ipython3",
   "version": "3.10.12"
  },
  "toc": {
   "base_numbering": 1,
   "nav_menu": {},
   "number_sections": true,
   "sideBar": true,
   "skip_h1_title": false,
   "title_cell": "Table of Contents",
   "title_sidebar": "Contents",
   "toc_cell": false,
   "toc_position": {},
   "toc_section_display": true,
   "toc_window_display": false
  },
  "varInspector": {
   "cols": {
    "lenName": 16,
    "lenType": 16,
    "lenVar": 40
   },
   "kernels_config": {
    "python": {
     "delete_cmd_postfix": "",
     "delete_cmd_prefix": "del ",
     "library": "var_list.py",
     "varRefreshCmd": "print(var_dic_list())"
    },
    "r": {
     "delete_cmd_postfix": ") ",
     "delete_cmd_prefix": "rm(",
     "library": "var_list.r",
     "varRefreshCmd": "cat(var_dic_list()) "
    }
   },
   "types_to_exclude": [
    "module",
    "function",
    "builtin_function_or_method",
    "instance",
    "_Feature"
   ],
   "window_display": false
  }
 },
 "nbformat": 4,
 "nbformat_minor": 5
}
