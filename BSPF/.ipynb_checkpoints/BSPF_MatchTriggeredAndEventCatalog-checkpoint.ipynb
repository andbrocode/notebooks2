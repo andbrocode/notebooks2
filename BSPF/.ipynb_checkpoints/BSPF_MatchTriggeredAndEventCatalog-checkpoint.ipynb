{
 "cells": [
  {
   "cell_type": "markdown",
   "id": "f1800f58",
   "metadata": {},
   "source": [
    "# Match Trigger and Event Catalog"
   ]
  },
  {
   "cell_type": "markdown",
   "id": "d92f0fb4",
   "metadata": {},
   "source": [
    "## Import Libraries"
   ]
  },
  {
   "cell_type": "code",
   "execution_count": 1,
   "id": "77b73fe9",
   "metadata": {
    "ExecuteTime": {
     "end_time": "2023-08-03T17:06:20.254493Z",
     "start_time": "2023-08-03T17:06:17.455205Z"
    }
   },
   "outputs": [],
   "source": [
    "import os, sys\n",
    "import obspy as obs\n",
    "import matplotlib.pyplot as plt\n",
    "\n",
    "from obspy.clients.fdsn import Client\n",
    "from obspy.signal.trigger import coincidence_trigger\n",
    "from obspy import UTCDateTime\n",
    "from numpy import sort, argmin, array\n",
    "from pandas import DataFrame, value_counts, merge\n",
    "\n",
    "from functions.add_distances_and_backazimuth import __add_distances_and_backazimuth\n",
    "from functions.catalog_to_dataframe import __catalog_to_dataframe"
   ]
  },
  {
   "cell_type": "code",
   "execution_count": 2,
   "id": "21f63d73",
   "metadata": {
    "ExecuteTime": {
     "end_time": "2023-08-03T17:06:20.257899Z",
     "start_time": "2023-08-03T17:06:20.255656Z"
    }
   },
   "outputs": [],
   "source": [
    "if os.uname().nodename == 'lighthouse':\n",
    "    root_path = '/home/andbro/'\n",
    "    data_path = '/home/andbro/kilauea-data/'\n",
    "    archive_path = '/home/andbro/freenas/'\n",
    "elif os.uname().nodename == 'kilauea':\n",
    "    root_path = '/home/brotzer/'\n",
    "    data_path = '/import/kilauea-data/'\n",
    "    archive_path = '/import/freenas-ffb-01-data/'"
   ]
  },
  {
   "cell_type": "markdown",
   "id": "eaa20692",
   "metadata": {},
   "source": [
    "## Configurations"
   ]
  },
  {
   "cell_type": "code",
   "execution_count": 3,
   "id": "8e926584",
   "metadata": {
    "ExecuteTime": {
     "end_time": "2023-08-03T17:06:21.019791Z",
     "start_time": "2023-08-03T17:06:20.259154Z"
    }
   },
   "outputs": [],
   "source": [
    "config = {}\n",
    "\n",
    "config['time_period'] = \"20221001_20230615\"\n",
    "\n",
    "config['BSPF_lon'] = array([-116.455439])\n",
    "config['BSPF_lat'] = array([33.610643])\n",
    "\n",
    "config['path_to_catalogs'] = data_path+\"BSPF/data/catalogs/\"\n",
    "\n",
    "config['catalog_filename'] = f\"BSPF_catalog_{config['time_period']}_all.xml\"\n",
    "\n",
    "config['output_filename'] = f\"BSPF_catalog_{config['time_period']}_triggered.xml\"\n",
    "\n",
    "config['client'] = Client(\"IRIS\")"
   ]
  },
  {
   "cell_type": "code",
   "execution_count": 4,
   "id": "4bdafd59",
   "metadata": {
    "ExecuteTime": {
     "end_time": "2023-08-03T17:06:21.188803Z",
     "start_time": "2023-08-03T17:06:21.023894Z"
    }
   },
   "outputs": [
    {
     "name": "stdout",
     "output_type": "stream",
     "text": [
      "BSPF_catalog_20221001_20230331_triggered.pkl\n",
      "BSPF_catalog_20221001_20230331_triggered.xml\n",
      "BSPF_catalog_20221001_20230531_all.pkl\n",
      "BSPF_catalog_20221001_20230531_all.xml\n",
      "BSPF_catalog_20221001_20230615_all.pkl\n",
      "BSPF_catalog_20221001_20230615_all.xml\n",
      "BSPF_catalog_20221001_20230615_triggered.pkl\n",
      "BSPF_catalog_20221001_20230615_triggered.xml\n",
      "BSPF_catalog_extended_20221001_20230531_all.pkl\n",
      "BSPF_catalog_extended_20221001_20230531_all.xml\n",
      "BSPF_catalog_extended_20221001_20230615_all.pkl\n",
      "BSPF_catalog_extended_20221001_20230615_all.xml\n",
      "gcmt_solutions_20221001_20230531.xml\n",
      "gcmt_solutions_20221001_20230615.xml\n",
      "gmt_usgs_m3_m4.xml\n",
      "tmp\n",
      "trigger_20221001_20230331.pkl\n",
      "trigger_20221001_20230615.pkl\n",
      "trigger_20230401_20230615.pkl\n",
      "trigger_all_errors.pkl\n",
      "triggered_2022-10-01_2022-10-15.pkl\n",
      "triggered_2022-10-01_2023-06-15.pkl\n"
     ]
    }
   ],
   "source": [
    "!ls /import/kilauea-data/BSPF/data/catalogs/"
   ]
  },
  {
   "cell_type": "markdown",
   "id": "919414b4",
   "metadata": {
    "ExecuteTime": {
     "end_time": "2023-07-04T08:17:22.664178Z",
     "start_time": "2023-07-04T08:17:22.659655Z"
    }
   },
   "source": [
    "##  join catalogs"
   ]
  },
  {
   "cell_type": "code",
   "execution_count": 5,
   "id": "bef2dacd",
   "metadata": {
    "ExecuteTime": {
     "end_time": "2023-08-03T17:06:21.194280Z",
     "start_time": "2023-08-03T17:06:21.191222Z"
    }
   },
   "outputs": [],
   "source": [
    "# from andbro__store_as_pickle import __store_as_pickle\n",
    "\n",
    "# trigger_old = __read_pickle(config, config['path_to_catalogs'], \"trigger_20221001_20230331.pkl\")\n",
    "# trigger_new = __read_pickle(config, config['path_to_catalogs'], \"trigger_20230401_20230615.pkl\")\n",
    "# trigger_all = trigger_old + trigger_new\n",
    "\n",
    "# print(len(trigger_old), len(trigger_new), len(trigger_all))\n",
    "\n",
    "# __store_as_pickle(trigger_all, config['path_to_catalogs']+\"trigger_20221001_20230615.pkl\")"
   ]
  },
  {
   "cell_type": "markdown",
   "id": "e548be17",
   "metadata": {},
   "source": [
    "## Load Catalog"
   ]
  },
  {
   "cell_type": "code",
   "execution_count": 6,
   "id": "e8e917ff",
   "metadata": {
    "ExecuteTime": {
     "end_time": "2023-08-03T17:06:45.242663Z",
     "start_time": "2023-08-03T17:06:21.196571Z"
    }
   },
   "outputs": [],
   "source": [
    "## read catalog\n",
    "cat = obs.read_events(config['path_to_catalogs']+config['catalog_filename'])\n",
    "cat.events.sort(key=lambda event: event.origins[0].time)"
   ]
  },
  {
   "cell_type": "markdown",
   "id": "438346ca",
   "metadata": {},
   "source": [
    "## Load Triggered Events"
   ]
  },
  {
   "cell_type": "code",
   "execution_count": 7,
   "id": "52ad588f",
   "metadata": {
    "ExecuteTime": {
     "end_time": "2023-08-03T17:06:45.245683Z",
     "start_time": "2023-08-03T17:06:45.243583Z"
    },
    "code_folding": [
     0
    ]
   },
   "outputs": [],
   "source": [
    "def __read_pickle(config, path, filename):\n",
    "\n",
    "    import pickle\n",
    "\n",
    "    with open(path+filename, 'rb') as f:\n",
    "        triggerfile = pickle.load(f)\n",
    "\n",
    "    return triggerfile"
   ]
  },
  {
   "cell_type": "code",
   "execution_count": 8,
   "id": "0b876eda",
   "metadata": {
    "ExecuteTime": {
     "end_time": "2023-08-03T17:06:45.299047Z",
     "start_time": "2023-08-03T17:06:45.247095Z"
    }
   },
   "outputs": [],
   "source": [
    "trigger_events = __read_pickle(config, config['path_to_catalogs'], \"triggered_2022-10-01_2023-06-15.pkl\")"
   ]
  },
  {
   "cell_type": "code",
   "execution_count": 9,
   "id": "d143da0c",
   "metadata": {
    "ExecuteTime": {
     "end_time": "2023-08-03T17:06:45.349171Z",
     "start_time": "2023-08-03T17:06:45.300067Z"
    }
   },
   "outputs": [],
   "source": [
    "times, cosum, times_rel = [], [], []\n",
    "ref_time = obs.UTCDateTime(\"2022-10-01\")\n",
    "\n",
    "for trig in trigger_events:\n",
    "    times.append(trig['time'])\n",
    "    cosum.append(trig['coincidence_sum'])\n",
    "    times_rel.append((trig['time']-ref_time)/86400)\n",
    "\n",
    "trigger_times = sort(times)\n",
    "\n",
    "coinc4 = [ev for ev in trigger_events if ev['coincidence_sum'] == 4]\n",
    "coinc5 = [ev for ev in trigger_events if ev['coincidence_sum'] == 5]\n",
    "coinc6 = [ev for ev in trigger_events if ev['coincidence_sum'] == 6]"
   ]
  },
  {
   "cell_type": "code",
   "execution_count": 10,
   "id": "8c5e931f",
   "metadata": {
    "ExecuteTime": {
     "end_time": "2023-08-03T17:06:45.372317Z",
     "start_time": "2023-08-03T17:06:45.350189Z"
    }
   },
   "outputs": [
    {
     "name": "stdout",
     "output_type": "stream",
     "text": [
      " removing duplicates\n",
      " before:  1886\n",
      " after:   1021\n"
     ]
    }
   ],
   "source": [
    "df_trig = DataFrame()\n",
    "df_trig['coincidence_sum'] = cosum\n",
    "df_trig['trig_times_relative'] = times_rel\n",
    "df_trig['trigger_time'] = trigger_times\n",
    "df_trig['trigger_time'] = df_trig['trigger_time'].astype(str)\n",
    "\n",
    "## remove duplicates of trigger time\n",
    "df_trig = df_trig.drop_duplicates([\"trigger_time\"], keep=\"first\").reset_index()\n",
    "\n",
    "## remove trigger times before reference time\n",
    "df_trig = df_trig[df_trig.trig_times_relative > 0]\n",
    "\n",
    "trigger_times_unique = df_trig.trigger_time\n",
    "\n",
    "print(f\" removing duplicates\")\n",
    "print(f\" before:  {len(trigger_times)}\")\n",
    "print(f\" after:   {len(df_trig.trigger_time)}\")"
   ]
  },
  {
   "cell_type": "code",
   "execution_count": 11,
   "id": "bdcb99e9",
   "metadata": {
    "ExecuteTime": {
     "end_time": "2023-08-03T17:06:45.385260Z",
     "start_time": "2023-08-03T17:06:45.373576Z"
    }
   },
   "outputs": [],
   "source": [
    "coinc0 = df_trig[df_trig.coincidence_sum >= 0]\n",
    "coinc4 = df_trig[df_trig.coincidence_sum == 4]\n",
    "coinc5 = df_trig[df_trig.coincidence_sum == 5]\n",
    "coinc6 = df_trig[df_trig.coincidence_sum == 6]"
   ]
  },
  {
   "cell_type": "code",
   "execution_count": 12,
   "id": "8b71ec6f",
   "metadata": {
    "ExecuteTime": {
     "end_time": "2023-08-03T17:06:45.400592Z",
     "start_time": "2023-08-03T17:06:45.386379Z"
    }
   },
   "outputs": [
    {
     "name": "stdout",
     "output_type": "stream",
     "text": [
      " total events:      7578\n",
      " triggered events:  1886\n",
      " CoInc. = 4:        175 (17.1 %)\n",
      " CoInc. = 5:        100 (9.8 %)\n",
      " CoInc. = 6:        746 (73.1 %)\n"
     ]
    }
   ],
   "source": [
    "print(f\" total events:      {len(cat)}\")\n",
    "print(f\" triggered events:  {len(trigger_events)}\")\n",
    "\n",
    "print(f\" CoInc. = 4:        {len(coinc4)} ({round(len(coinc4)/len(coinc0)*100,1)} %)\")\n",
    "print(f\" CoInc. = 5:        {len(coinc5)} ({round(len(coinc5)/len(coinc0)*100,1)} %)\")\n",
    "print(f\" CoInc. = 6:        {len(coinc6)} ({round(len(coinc6)/len(coinc0)*100,1)} %)\")"
   ]
  },
  {
   "cell_type": "markdown",
   "id": "24ccfb5b",
   "metadata": {},
   "source": [
    "## Match events of triggered catalog with event catalog"
   ]
  },
  {
   "cell_type": "code",
   "execution_count": 13,
   "id": "06793b7e-ec25-4077-9983-a122b44bd0db",
   "metadata": {
    "ExecuteTime": {
     "end_time": "2023-08-03T17:06:48.133412Z",
     "start_time": "2023-08-03T17:06:45.401745Z"
    },
    "code_folding": [
     0
    ]
   },
   "outputs": [],
   "source": [
    "def __expected_arrival_times(catalog, sta_lat, sta_lon):\n",
    "\n",
    "    from obspy.geodetics import locations2degrees\n",
    "    from obspy.taup import TauPyModel\n",
    "\n",
    "    model = TauPyModel(model=\"ak135\") ## \"ak135\"\n",
    "\n",
    "    expected_times, expected_paths = [], []\n",
    "    for jj, ev in enumerate(catalog):\n",
    "        if jj == 300:\n",
    "            break\n",
    "\n",
    "        ev_lat = ev.origins[0].latitude\n",
    "        ev_lon = ev.origins[0].longitude\n",
    "        ev_dep = ev.origins[0].depth / 1000\n",
    "        ev_time = ev.origins[0].time\n",
    "\n",
    "        dist_deg = locations2degrees(sta_lat, sta_lon, ev_lat, ev_lon)\n",
    "\n",
    "        try:\n",
    "            arrivals = model.get_travel_times(source_depth_in_km=ev_dep,\n",
    "                                              distance_in_degree=dist_deg,\n",
    "                                              phase_list=[\"P\",\"S\",\"pP\",\"sS\"]\n",
    "                                             )\n",
    "            print(arrivals)\n",
    "            expected_times.append(ev_time + arrivals[0].time)\n",
    "        except:\n",
    "            print(f\" -> failed to compute arrival times\")\n",
    "\n",
    "        try:\n",
    "            paths = model.get_ray_paths(source_depth_in_km=ev_dep,\n",
    "                                        distance_in_degree=dist_deg,\n",
    "                                        phase_list=[\"P\",\"S\",\"pP\",\"sS\"]\n",
    "                                        )\n",
    "            expected_paths.append(paths)\n",
    "\n",
    "        except:\n",
    "            print(f\" -> failed to compute arrival paths\")\n",
    "\n",
    "    return expected_times, expected_paths"
   ]
  },
  {
   "cell_type": "code",
   "execution_count": 14,
   "id": "8b05c715-9867-42a9-adb7-21d1d4f95c01",
   "metadata": {
    "ExecuteTime": {
     "end_time": "2023-08-03T17:06:48.133412Z",
     "start_time": "2023-08-03T17:06:45.401745Z"
    },
    "code_folding": [
     0
    ]
   },
   "outputs": [],
   "source": [
    "# expected_times, expected_paths = __expected_arrival_times(cat[:20], config['BSPF_lat'], config['BSPF_lon'])\n",
    "# expected_times, expected_paths\n",
    "\n",
    "# for path in expected_paths:\n",
    "#     try:\n",
    "#         ax = path.plot_rays(plot_type=\"cartesian\")\n",
    "#     except:\n",
    "#         print(\"no\")"
   ]
  },
  {
   "cell_type": "markdown",
   "id": "ce225e52",
   "metadata": {},
   "source": [
    "### Match triggers with event catalog based on travel time estimates"
   ]
  },
  {
   "cell_type": "code",
   "execution_count": 15,
   "id": "9118d4db",
   "metadata": {
    "ExecuteTime": {
     "end_time": "2023-08-03T17:06:49.668093Z",
     "start_time": "2023-08-03T17:06:49.661503Z"
    },
    "code_folding": [
     0
    ]
   },
   "outputs": [],
   "source": [
    "def __find_matches(catalog, sta_lat, sta_lon, trig_times, max_time_offset):\n",
    "\n",
    "    from obspy.geodetics import locations2degrees\n",
    "    from obspy.taup import TauPyModel\n",
    "    from obspy import UTCDateTime, Catalog\n",
    "    from tqdm.notebook import tqdm\n",
    "\n",
    "    ## model for arrival times\n",
    "    model = TauPyModel(model=\"ak135\") ## \"ak135\", \"iasp91\", \"prem\"\n",
    "\n",
    "    ## counter for failed arrival computations\n",
    "    fails = 0\n",
    "\n",
    "    ## output dataframe\n",
    "    df_out = DataFrame(columns=[\"id\", \"event_time\", \"arrival_time\", \"trigger_time\"])\n",
    "\n",
    "    ## output catalog\n",
    "    cat_out = Catalog()\n",
    "\n",
    "    for jj, ev in enumerate(tqdm(catalog)):\n",
    "\n",
    "        ## extract event data\n",
    "        ev_lat = ev.origins[0].latitude\n",
    "        ev_lon = ev.origins[0].longitude\n",
    "        ev_dep = ev.origins[0].depth / 1000\n",
    "        ev_time = ev.origins[0].time\n",
    "\n",
    "        ## compute distance between station to event in degrees\n",
    "        dist_deg = locations2degrees(sta_lat, sta_lon, ev_lat, ev_lon)\n",
    "\n",
    "\n",
    "#         print(dist_deg[0], ev_dep)\n",
    "\n",
    "        try:\n",
    "            arrivals = model.get_travel_times(source_depth_in_km=ev_dep,\n",
    "                                              distance_in_degree=dist_deg[0],\n",
    "                                              phase_list=[\"P\",\"S\",\"pP\",\"sS\",\"sP\",\"pS\"]\n",
    "                                             )\n",
    "\n",
    "            expected_time = ev_time + arrivals[0].time\n",
    "\n",
    "        except Exception as e:\n",
    "            fails += 1\n",
    "#             print(ev.origins[0].time, dist_deg, ev_dep)\n",
    "#             print(f\" -> {jj} failed to compute arrival times\")\n",
    "            continue\n",
    "\n",
    "        for nn, trig in enumerate(trig_times):\n",
    "\n",
    "            ## compute absolute temporal distance\n",
    "            abs_diff = abs(expected_time - UTCDateTime(trig))\n",
    "\n",
    "            ## if distance below threshold, trigger is considered match with catalog event\n",
    "            if abs_diff < max_time_offset:\n",
    "#                 print(nn, trig)\n",
    "\n",
    "                ## add row to dataframe\n",
    "                df_out.loc[len(df_out)] = [jj, ev_time, expected_time, trig]\n",
    "\n",
    "                ## add to catalog\n",
    "                cat_out += ev\n",
    "\n",
    "                break\n",
    "\n",
    "    print(f\" -> failed for {fails} of {len(catalog)} to compute arrival times..:\")\n",
    "\n",
    "    return df_out, cat_out"
   ]
  },
  {
   "cell_type": "code",
   "execution_count": 16,
   "id": "9b7295cf",
   "metadata": {
    "ExecuteTime": {
     "end_time": "2023-08-03T17:19:19.913036Z",
     "start_time": "2023-08-03T17:06:49.668980Z"
    }
   },
   "outputs": [
    {
     "data": {
      "application/vnd.jupyter.widget-view+json": {
       "model_id": "77bd83d546e14c3f9fba82bcd5d7d223",
       "version_major": 2,
       "version_minor": 0
      },
      "text/plain": [
       "  0%|          | 0/7578 [00:00<?, ?it/s]"
      ]
     },
     "metadata": {},
     "output_type": "display_data"
    },
    {
     "name": "stdout",
     "output_type": "stream",
     "text": [
      " -> failed for 308 of 7578 to compute arrival times..:\n"
     ]
    }
   ],
   "source": [
    "df_out, cat_select = __find_matches(cat, config['BSPF_lat'], config['BSPF_lon'], trigger_times_unique, max_time_offset=20)"
   ]
  },
  {
   "cell_type": "code",
   "execution_count": 17,
   "id": "7aeb721b",
   "metadata": {
    "ExecuteTime": {
     "end_time": "2023-08-03T17:19:19.954203Z",
     "start_time": "2023-08-03T17:19:19.914147Z"
    }
   },
   "outputs": [
    {
     "data": {
      "text/html": [
       "<div>\n",
       "<style scoped>\n",
       "    .dataframe tbody tr th:only-of-type {\n",
       "        vertical-align: middle;\n",
       "    }\n",
       "\n",
       "    .dataframe tbody tr th {\n",
       "        vertical-align: top;\n",
       "    }\n",
       "\n",
       "    .dataframe thead th {\n",
       "        text-align: right;\n",
       "    }\n",
       "</style>\n",
       "<table border=\"1\" class=\"dataframe\">\n",
       "  <thead>\n",
       "    <tr style=\"text-align: right;\">\n",
       "      <th></th>\n",
       "      <th>index</th>\n",
       "      <th>coincidence_sum</th>\n",
       "      <th>trig_times_relative</th>\n",
       "      <th>trigger_time</th>\n",
       "      <th>id</th>\n",
       "      <th>event_time</th>\n",
       "      <th>arrival_time</th>\n",
       "    </tr>\n",
       "  </thead>\n",
       "  <tbody>\n",
       "    <tr>\n",
       "      <th>0</th>\n",
       "      <td>7</td>\n",
       "      <td>4.0</td>\n",
       "      <td>0.510553</td>\n",
       "      <td>2022-10-01T05:36:10.344538Z</td>\n",
       "      <td>3</td>\n",
       "      <td>2022-10-01T05:36:11.240000Z</td>\n",
       "      <td>2022-10-01T05:36:15.817357Z</td>\n",
       "    </tr>\n",
       "    <tr>\n",
       "      <th>1</th>\n",
       "      <td>38</td>\n",
       "      <td>6.0</td>\n",
       "      <td>0.867477</td>\n",
       "      <td>2022-10-01T21:26:51.694538Z</td>\n",
       "      <td>21</td>\n",
       "      <td>2022-10-01T21:26:43.530000Z</td>\n",
       "      <td>2022-10-01T21:26:55.332495Z</td>\n",
       "    </tr>\n",
       "    <tr>\n",
       "      <th>2</th>\n",
       "      <td>49</td>\n",
       "      <td>6.0</td>\n",
       "      <td>1.142584</td>\n",
       "      <td>2022-10-02T03:25:19.269538Z</td>\n",
       "      <td>32</td>\n",
       "      <td>2022-10-02T03:25:16.440000Z</td>\n",
       "      <td>2022-10-02T03:25:20.870534Z</td>\n",
       "    </tr>\n",
       "    <tr>\n",
       "      <th>3</th>\n",
       "      <td>56</td>\n",
       "      <td>6.0</td>\n",
       "      <td>1.159144</td>\n",
       "      <td>2022-10-02T15:51:37.444539Z</td>\n",
       "      <td>42</td>\n",
       "      <td>2022-10-02T15:51:37.180000Z</td>\n",
       "      <td>2022-10-02T15:51:41.755700Z</td>\n",
       "    </tr>\n",
       "    <tr>\n",
       "      <th>4</th>\n",
       "      <td>58</td>\n",
       "      <td>6.0</td>\n",
       "      <td>1.284144</td>\n",
       "      <td>2022-10-02T21:52:57.394539Z</td>\n",
       "      <td>49</td>\n",
       "      <td>2022-10-02T21:52:54.280000Z</td>\n",
       "      <td>2022-10-02T21:52:59.070083Z</td>\n",
       "    </tr>\n",
       "    <tr>\n",
       "      <th>...</th>\n",
       "      <td>...</td>\n",
       "      <td>...</td>\n",
       "      <td>...</td>\n",
       "      <td>...</td>\n",
       "      <td>...</td>\n",
       "      <td>...</td>\n",
       "      <td>...</td>\n",
       "    </tr>\n",
       "    <tr>\n",
       "      <th>315</th>\n",
       "      <td>1832</td>\n",
       "      <td>4.0</td>\n",
       "      <td>247.723727</td>\n",
       "      <td>2023-06-05T17:23:13.670000Z</td>\n",
       "      <td>7314</td>\n",
       "      <td>2023-06-05T17:22:59.900000Z</td>\n",
       "      <td>2023-06-05T17:23:11.132495Z</td>\n",
       "    </tr>\n",
       "    <tr>\n",
       "      <th>316</th>\n",
       "      <td>1832</td>\n",
       "      <td>4.0</td>\n",
       "      <td>247.723727</td>\n",
       "      <td>2023-06-05T17:23:13.670000Z</td>\n",
       "      <td>7315</td>\n",
       "      <td>2023-06-05T17:23:05.920000Z</td>\n",
       "      <td>2023-06-05T17:23:17.079150Z</td>\n",
       "    </tr>\n",
       "    <tr>\n",
       "      <th>317</th>\n",
       "      <td>1848</td>\n",
       "      <td>6.0</td>\n",
       "      <td>248.998727</td>\n",
       "      <td>2023-06-07T06:03:52.040000Z</td>\n",
       "      <td>7347</td>\n",
       "      <td>2023-06-07T06:03:42.030000Z</td>\n",
       "      <td>2023-06-07T06:03:54.073471Z</td>\n",
       "    </tr>\n",
       "    <tr>\n",
       "      <th>318</th>\n",
       "      <td>1866</td>\n",
       "      <td>6.0</td>\n",
       "      <td>252.998727</td>\n",
       "      <td>2023-06-11T02:38:28.860000Z</td>\n",
       "      <td>7452</td>\n",
       "      <td>2023-06-11T02:38:25.290000Z</td>\n",
       "      <td>2023-06-11T02:38:31.166828Z</td>\n",
       "    </tr>\n",
       "    <tr>\n",
       "      <th>319</th>\n",
       "      <td>1868</td>\n",
       "      <td>4.0</td>\n",
       "      <td>253.110056</td>\n",
       "      <td>2023-06-11T03:32:29.255000Z</td>\n",
       "      <td>7454</td>\n",
       "      <td>2023-06-11T03:32:26.760000Z</td>\n",
       "      <td>2023-06-11T03:32:31.722563Z</td>\n",
       "    </tr>\n",
       "  </tbody>\n",
       "</table>\n",
       "<p>320 rows × 7 columns</p>\n",
       "</div>"
      ],
      "text/plain": [
       "     index  coincidence_sum  trig_times_relative                 trigger_time  \\\n",
       "0        7              4.0             0.510553  2022-10-01T05:36:10.344538Z   \n",
       "1       38              6.0             0.867477  2022-10-01T21:26:51.694538Z   \n",
       "2       49              6.0             1.142584  2022-10-02T03:25:19.269538Z   \n",
       "3       56              6.0             1.159144  2022-10-02T15:51:37.444539Z   \n",
       "4       58              6.0             1.284144  2022-10-02T21:52:57.394539Z   \n",
       "..     ...              ...                  ...                          ...   \n",
       "315   1832              4.0           247.723727  2023-06-05T17:23:13.670000Z   \n",
       "316   1832              4.0           247.723727  2023-06-05T17:23:13.670000Z   \n",
       "317   1848              6.0           248.998727  2023-06-07T06:03:52.040000Z   \n",
       "318   1866              6.0           252.998727  2023-06-11T02:38:28.860000Z   \n",
       "319   1868              4.0           253.110056  2023-06-11T03:32:29.255000Z   \n",
       "\n",
       "       id                   event_time                 arrival_time  \n",
       "0       3  2022-10-01T05:36:11.240000Z  2022-10-01T05:36:15.817357Z  \n",
       "1      21  2022-10-01T21:26:43.530000Z  2022-10-01T21:26:55.332495Z  \n",
       "2      32  2022-10-02T03:25:16.440000Z  2022-10-02T03:25:20.870534Z  \n",
       "3      42  2022-10-02T15:51:37.180000Z  2022-10-02T15:51:41.755700Z  \n",
       "4      49  2022-10-02T21:52:54.280000Z  2022-10-02T21:52:59.070083Z  \n",
       "..    ...                          ...                          ...  \n",
       "315  7314  2023-06-05T17:22:59.900000Z  2023-06-05T17:23:11.132495Z  \n",
       "316  7315  2023-06-05T17:23:05.920000Z  2023-06-05T17:23:17.079150Z  \n",
       "317  7347  2023-06-07T06:03:42.030000Z  2023-06-07T06:03:54.073471Z  \n",
       "318  7452  2023-06-11T02:38:25.290000Z  2023-06-11T02:38:31.166828Z  \n",
       "319  7454  2023-06-11T03:32:26.760000Z  2023-06-11T03:32:31.722563Z  \n",
       "\n",
       "[320 rows x 7 columns]"
      ]
     },
     "execution_count": 17,
     "metadata": {},
     "output_type": "execute_result"
    }
   ],
   "source": [
    "df_all = merge(df_trig, df_out, on=['trigger_time'])\n",
    "df_all"
   ]
  },
  {
   "cell_type": "markdown",
   "id": "fcbf5d9f",
   "metadata": {},
   "source": [
    "## Reject manually selected events of false positive triggers"
   ]
  },
  {
   "cell_type": "code",
   "execution_count": 18,
   "id": "3316a54a",
   "metadata": {
    "ExecuteTime": {
     "end_time": "2023-08-03T17:19:20.015100Z",
     "start_time": "2023-08-03T17:19:19.955126Z"
    }
   },
   "outputs": [
    {
     "name": "stdout",
     "output_type": "stream",
     "text": [
      " before:  320 \n",
      " after:   282 \n",
      " rejected: 38\n"
     ]
    }
   ],
   "source": [
    "## list of events to reject (manually)\n",
    "no_event = [\"2022-10-05 15:39:13.690\",\n",
    "            \"2022-10-05 15:42:03.610\",\n",
    "            \"2022-10-05 18:35:16.860\",\n",
    "            \"2022-10-10 05:48:52.890\",\n",
    "            \"2022-10-12 19:12:14.670\",\n",
    "            \"2022-10-12 23:08:11.410\",\n",
    "            \"2022-10-12 23:58:00.800\",\n",
    "            \"2022-10-14 03:13:56.380\",\n",
    "            \"2022-10-16 08:42:24.970\",\n",
    "            \"2022-10-26 08:27:09.860\",\n",
    "            \"2022-10-28 12:47:26.910\",\n",
    "            \"2022-11-03 05:53:34.230\",\n",
    "            \"2022-11-09 00:46:57.550\",\n",
    "            \"2022-11-10 16:53:29.940\",\n",
    "            \"2022-11-25 10:45:36.390\",\n",
    "            \"2022-12-06 21:56:31.330\",\n",
    "            \"2022-12-09 06:03:03.220\",\n",
    "            \"2022-12-15 13:55:13.460\",\n",
    "            \"2022-12-17 18:02:34.910\",\n",
    "            \"2022-12-19 15:41:22.380\",\n",
    "            \"2022-12-19 15:41:26.020\",\n",
    "            \"2023-01-05 09:59:04.210\",\n",
    "            \"2023-01-07 12:32:45.250\",\n",
    "            \"2023-01-16 00:00:36.100\",\n",
    "            \"2023-01-29 23:50:47.770\",\n",
    "            \"2023-02-05 23:38:46.670\",\n",
    "            \"2023-02-22 05:09:39.970\",\n",
    "            \"2023-03-09 11:49:06.640\",\n",
    "            \"2023-03-17 07:12:56.970\",\n",
    "            \"2023-03-24 13:59:00.160\",\n",
    "            \"2023-03-29 19:23:29.470\",\n",
    "            \"2023-03-29 19:23:27.460\",\n",
    "            \"2023-04-06 02:42:00.600\",\n",
    "            \"2023-04-13 23:57:53.950\",\n",
    "            \"2023-04-17 15:27:56.450\",\n",
    "            \"2023-05-01 02:52:56.160\",\n",
    "            \"2023-06-02 20:19:46.740\",\n",
    "            \"2023-06-05 07:39:16.650\",\n",
    "           ]\n",
    "\n",
    "no_event_utc = list(map(UTCDateTime, no_event))\n",
    "\n",
    "n_before = len(df_all)\n",
    "\n",
    "## remove defined events from data frame\n",
    "df_all = df_all[df_all['event_time'].apply(lambda x: x not in no_event_utc)].reset_index()\n",
    "\n",
    "## remove defined events from catalog\n",
    "new_cat = obs.Catalog()\n",
    "for tmp_ev in cat_select:\n",
    "    if tmp_ev.origins[0].time not in no_event_utc:\n",
    "        new_cat += tmp_ev\n",
    "cat_select = new_cat\n",
    "\n",
    "\n",
    "print(f\" before:  {n_before} \\n after:   {len(df_all)} \\n rejected: {len(no_event_utc)}\")"
   ]
  },
  {
   "cell_type": "code",
   "execution_count": null,
   "id": "905def06",
   "metadata": {
    "ExecuteTime": {
     "end_time": "2023-07-31T15:05:40.077232Z",
     "start_time": "2023-07-31T15:05:40.037684Z"
    }
   },
   "outputs": [],
   "source": []
  },
  {
   "cell_type": "code",
   "execution_count": 19,
   "id": "f9be4d4a",
   "metadata": {
    "ExecuteTime": {
     "end_time": "2023-08-03T17:19:20.940272Z",
     "start_time": "2023-08-03T17:19:20.015996Z"
    }
   },
   "outputs": [
    {
     "data": {
      "text/plain": [
       "array([<Axes: title={'center': 'dates'}>], dtype=object)"
      ]
     },
     "execution_count": 19,
     "metadata": {},
     "output_type": "execute_result"
    },
    {
     "data": {
      "image/png": "[encoded data removed]",
      "text/plain": [
       "<Figure size 1500x500 with 1 Axes>"
      ]
     },
     "metadata": {},
     "output_type": "display_data"
    }
   ],
   "source": [
    "dates = [str(cat_select[ii].origins[0].time.date) for ii in range(len(cat_select))]\n",
    "\n",
    "df = DataFrame()\n",
    "df['dates'] = dates\n",
    "df = df.sort_values(by=\"dates\")\n",
    "\n",
    "df2 = df.apply(value_counts)\n",
    "df2.sort_index(inplace=True)\n",
    "\n",
    "df2.dates.plot(kind='bar', subplots=True, figsize=(15,5))"
   ]
  },
  {
   "cell_type": "markdown",
   "id": "dce3f98e",
   "metadata": {
    "ExecuteTime": {
     "end_time": "2023-07-04T12:56:00.538022Z",
     "start_time": "2023-07-04T12:56:00.538003Z"
    }
   },
   "source": [
    "## Create Catalog of triggered events that were matched with catalog events"
   ]
  },
  {
   "cell_type": "code",
   "execution_count": 22,
   "id": "2736bb95",
   "metadata": {
    "ExecuteTime": {
     "end_time": "2023-08-03T17:19:21.106779Z",
     "start_time": "2023-08-03T17:19:20.941182Z"
    }
   },
   "outputs": [
    {
     "name": "stdout",
     "output_type": "stream",
     "text": [
      " -> storing: /import/kilauea-data/BSPF/data/catalogs/BSPF_catalog_20221001_20230615_triggered.xml ...\n"
     ]
    }
   ],
   "source": [
    "cat_select.write(config['path_to_catalogs']+config['output_filename'], format=\"QUAKEML\")\n",
    "print(f\" -> storing: {config['path_to_catalogs']}{config['output_filename']} ...\")"
   ]
  },
  {
   "cell_type": "code",
   "execution_count": 23,
   "id": "9e07fd7a",
   "metadata": {
    "ExecuteTime": {
     "end_time": "2023-08-03T17:19:21.164202Z",
     "start_time": "2023-08-03T17:19:21.107940Z"
    }
   },
   "outputs": [
    {
     "name": "stdout",
     "output_type": "stream",
     "text": [
      " -> storing: /import/kilauea-data/BSPF/data/catalogs/BSPF_catalog_20221001_20230615_triggered.pkl...\n"
     ]
    }
   ],
   "source": [
    "cata_df = __catalog_to_dataframe(cat_select)\n",
    "\n",
    "cata_df = cata_df.rename_axis('origin').reset_index()\n",
    "cata_df['seconds'] = [abs(UTCDateTime(str(tt))-UTCDateTime(\"2022-10-01\")) for tt in cata_df.origin]\n",
    "cata_df['trigger_time'] = df_all.trigger_time\n",
    "cata_df['arrival_time'] = df_all.arrival_time\n",
    "cata_df['event_time'] = df_all.event_time\n",
    "cata_df['cosum'] = df_all.coincidence_sum\n",
    "\n",
    "data_df = __add_distances_and_backazimuth(config['BSPF_lat'], config['BSPF_lon'], cata_df)\n",
    "\n",
    "\n",
    "cata_df.to_pickle(config['path_to_catalogs']+config['output_filename'].replace(\".xml\",\".pkl\"))\n",
    "print(f\" -> storing: {config['path_to_catalogs']}{config['output_filename'].replace('.xml','.pkl')}...\")"
   ]
  },
  {
   "cell_type": "code",
   "execution_count": null,
   "id": "82366de0",
   "metadata": {},
   "outputs": [],
   "source": []
  }
 ],
 "metadata": {
  "kernelspec": {
   "display_name": "Python 3 (ipykernel)",
   "language": "python",
   "name": "python3"
  },
  "language_info": {
   "codemirror_mode": {
    "name": "ipython",
    "version": 3
   },
   "file_extension": ".py",
   "mimetype": "text/x-python",
   "name": "python",
   "nbconvert_exporter": "python",
   "pygments_lexer": "ipython3",
   "version": "3.9.16"
  },
  "toc": {
   "base_numbering": 1,
   "nav_menu": {},
   "number_sections": true,
   "sideBar": true,
   "skip_h1_title": false,
   "title_cell": "Table of Contents",
   "title_sidebar": "Contents",
   "toc_cell": false,
   "toc_position": {},
   "toc_section_display": true,
   "toc_window_display": false
  },
  "varInspector": {
   "cols": {
    "lenName": 16,
    "lenType": 16,
    "lenVar": 40
   },
   "kernels_config": {
    "python": {
     "delete_cmd_postfix": "",
     "delete_cmd_prefix": "del ",
     "library": "var_list.py",
     "varRefreshCmd": "print(var_dic_list())"
    },
    "r": {
     "delete_cmd_postfix": ") ",
     "delete_cmd_prefix": "rm(",
     "library": "var_list.r",
     "varRefreshCmd": "cat(var_dic_list()) "
    }
   },
   "types_to_exclude": [
    "module",
    "function",
    "builtin_function_or_method",
    "instance",
    "_Feature"
   ],
   "window_display": false
  }
 },
 "nbformat": 4,
 "nbformat_minor": 5
}
