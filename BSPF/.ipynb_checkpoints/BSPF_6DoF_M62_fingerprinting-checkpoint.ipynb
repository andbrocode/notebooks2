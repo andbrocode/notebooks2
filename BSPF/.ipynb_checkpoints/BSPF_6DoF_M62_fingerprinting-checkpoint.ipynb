{
 "cells": [
  {
   "cell_type": "markdown",
   "id": "15720b0f",
   "metadata": {
    "ExecuteTime": {
     "end_time": "2022-09-13T00:35:24.926376Z",
     "start_time": "2022-09-13T00:35:24.923877Z"
    }
   },
   "source": [
    "# BSPF Event Analysis - Fingerprintting"
   ]
  },
  {
   "cell_type": "markdown",
   "id": "bbf546d8",
   "metadata": {},
   "source": [
    "With pressure sensor parascientific and new sensor "
   ]
  },
  {
   "cell_type": "code",
   "execution_count": 1,
   "id": "01f91965",
   "metadata": {
    "ExecuteTime": {
     "end_time": "2023-04-26T12:48:22.643660Z",
     "start_time": "2023-04-26T12:48:21.116997Z"
    },
    "tags": []
   },
   "outputs": [],
   "source": [
    "import os, sys\n",
    "import obspy as obs\n",
    "import matplotlib.pyplot as plt\n",
    "import numpy as np\n",
    "import pandas as pd\n",
    "import scipy\n",
    "\n",
    "sys.path.append(\"/home/andbro/andbro_python\")\n",
    "\n",
    "from andbro__store_as_pickle import __store_as_pickle\n",
    "from andbro__savefig import __savefig\n",
    "\n",
    "from functions.request_data import __request_data"
   ]
  },
  {
   "cell_type": "code",
   "execution_count": 2,
   "id": "2c79b7cd",
   "metadata": {
    "ExecuteTime": {
     "end_time": "2023-04-26T12:48:22.864654Z",
     "start_time": "2023-04-26T12:48:22.658382Z"
    },
    "tags": []
   },
   "outputs": [],
   "source": [
    "sys.path.append(\"/home/andbro/Documents/ROMY/twistpy/TwistPy/\")\n",
    "\n",
    "from twistpy.utils import stransform\n",
    "from twistpy.convenience import ricker\n",
    "from twistpy.polarization import (\n",
    "    TimeDomainAnalysis6C,\n",
    "    PolarizationModel6C,\n",
    "    SupportVectorMachine,\n",
    "    EstimatorConfiguration,\n",
    ")"
   ]
  },
  {
   "cell_type": "code",
   "execution_count": 3,
   "id": "3981239d-682e-4344-bca3-bf0866c5a27a",
   "metadata": {
    "tags": []
   },
   "outputs": [],
   "source": [
    "if os.uname().nodename == 'lighthouse':\n",
    "    root_path = '/home/andbro/'\n",
    "    data_path = '/home/andbro/kilauea-data/'\n",
    "    archive_path = '/home/andbro/freenas/'\n",
    "    bay_path = '/home/andbro/bay200/'\n",
    "elif os.uname().nodename == 'kilauea':\n",
    "    root_path = '/home/brotzer/'\n",
    "    data_path = '/import/kilauea-data/'\n",
    "    archive_path = '/import/freenas-ffb-01-data/'\n",
    "    bay_path = '/bay200/'\n",
    "elif os.uname().nodename == 'lin-ffb-01':\n",
    "    root_path = '/home/brotzer/'\n",
    "    data_path = '/import/kilauea-data/'\n",
    "    archive_path = '/import/freenas-ffb-01-data/'\n",
    "    bay_path = '/bay200/'"
   ]
  },
  {
   "cell_type": "code",
   "execution_count": null,
   "id": "fd2fd355-d452-46f3-80c0-c034f16897ac",
   "metadata": {},
   "outputs": [],
   "source": []
  },
  {
   "cell_type": "markdown",
   "id": "6cf95ac2",
   "metadata": {},
   "source": [
    "## Configurations"
   ]
  },
  {
   "cell_type": "code",
   "execution_count": 4,
   "id": "e66cc2db",
   "metadata": {
    "ExecuteTime": {
     "end_time": "2023-04-26T12:59:06.400796Z",
     "start_time": "2023-04-26T12:59:06.383199Z"
    },
    "code_folding": [],
    "tags": []
   },
   "outputs": [],
   "source": [
    "config = {}\n",
    "\n",
    "## BSPF coordinates\n",
    "config['BSPF_lon'] = -116.455439\n",
    "config['BSPF_lat'] = 33.610643\n",
    "\n",
    "## output path for figures\n",
    "config['path_to_figs'] = data_path+\"BSPF/figures/M62_event/\"\n"
   ]
  },
  {
   "cell_type": "markdown",
   "id": "7f159b8e",
   "metadata": {},
   "source": [
    "## Load Data"
   ]
  },
  {
   "cell_type": "code",
   "execution_count": 5,
   "id": "f6b5944e-1724-4939-8c91-e3317f28341c",
   "metadata": {
    "tags": []
   },
   "outputs": [],
   "source": [
    "st0 = obs.read(\"./data/event62_6c.mseed\")"
   ]
  },
  {
   "cell_type": "code",
   "execution_count": 6,
   "id": "f9be1391-b1b4-4c72-a419-60e0e5f1996f",
   "metadata": {
    "tags": []
   },
   "outputs": [],
   "source": [
    "st = st0.copy()\n",
    "\n",
    "tbeg = st[0].stats.starttime\n",
    "tend = st[0].stats.endtime\n",
    "\n",
    "st.trim(tbeg, tend-20)\n",
    "\n",
    "config['fmin'], config['fmax'] = 0.5, 2.0\n",
    "\n",
    "st = st.detrend(\"simple\")\n",
    "st = st.taper(0.05)\n",
    "st = st.filter(\"bandpass\", freqmin=config['fmin'], freqmax=config['fmax'], corners=4, zerophase=True)"
   ]
  },
  {
   "cell_type": "code",
   "execution_count": 7,
   "id": "4d19aeab",
   "metadata": {
    "tags": []
   },
   "outputs": [
    {
     "data": {
      "text/plain": [
       "15 Trace(s) in Stream:\n",
       "II.PFO.10.BHE  | 2022-11-22T16:40:09.994538Z - 2022-11-22T16:42:29.794538Z | 5.0 Hz, 700 samples\n",
       "II.PFO.10.BHN  | 2022-11-22T16:40:09.994538Z - 2022-11-22T16:42:29.794538Z | 5.0 Hz, 700 samples\n",
       "II.PFO.10.BHZ  | 2022-11-22T16:40:09.994538Z - 2022-11-22T16:42:29.794538Z | 5.0 Hz, 700 samples\n",
       "II.RPFO.al.BJE | 2022-11-22T16:40:09.996685Z - 2022-11-22T16:42:29.796685Z | 5.0 Hz, 700 samples\n",
       "II.RPFO.al.BJN | 2022-11-22T16:40:09.996685Z - 2022-11-22T16:42:29.796685Z | 5.0 Hz, 700 samples\n",
       "II.RPFO.al.BJZ | 2022-11-22T16:40:09.996685Z - 2022-11-22T16:42:29.796685Z | 5.0 Hz, 700 samples\n",
       "II.RPFO.in.BJE | 2022-11-22T16:40:09.996113Z - 2022-11-22T16:42:29.796113Z | 5.0 Hz, 700 samples\n",
       "II.RPFO.in.BJN | 2022-11-22T16:40:09.996113Z - 2022-11-22T16:42:29.796113Z | 5.0 Hz, 700 samples\n",
       "II.RPFO.in.BJZ | 2022-11-22T16:40:09.996113Z - 2022-11-22T16:42:29.796113Z | 5.0 Hz, 700 samples\n",
       "II.RPFO.mi.BJE | 2022-11-22T16:40:09.996506Z - 2022-11-22T16:42:29.796506Z | 5.0 Hz, 700 samples\n",
       "II.RPFO.mi.BJN | 2022-11-22T16:40:09.996506Z - 2022-11-22T16:42:29.796506Z | 5.0 Hz, 700 samples\n",
       "II.RPFO.mi.BJZ | 2022-11-22T16:40:09.996506Z - 2022-11-22T16:42:29.796506Z | 5.0 Hz, 700 samples\n",
       "PY.BSPF..HJE   | 2022-11-22T16:40:10.001000Z - 2022-11-22T16:42:29.801000Z | 5.0 Hz, 700 samples\n",
       "PY.BSPF..HJN   | 2022-11-22T16:40:10.001000Z - 2022-11-22T16:42:29.801000Z | 5.0 Hz, 700 samples\n",
       "PY.BSPF..HJZ   | 2022-11-22T16:40:10.001000Z - 2022-11-22T16:42:29.801000Z | 5.0 Hz, 700 samples"
      ]
     },
     "execution_count": 7,
     "metadata": {},
     "output_type": "execute_result"
    }
   ],
   "source": [
    "st0.resample(5.0, no_filter=False)"
   ]
  },
  {
   "cell_type": "markdown",
   "id": "b7b2721c",
   "metadata": {},
   "source": [
    "## S-Transform"
   ]
  },
  {
   "cell_type": "code",
   "execution_count": 8,
   "id": "272e9831",
   "metadata": {
    "ExecuteTime": {
     "end_time": "2023-04-26T12:57:39.373461Z",
     "start_time": "2023-04-26T12:57:39.265228Z"
    },
    "code_folding": [
     0
    ],
    "tags": []
   },
   "outputs": [],
   "source": [
    "from functions.makeplotStream_cwt import __makeplotStream_cwt"
   ]
  },
  {
   "cell_type": "code",
   "execution_count": 9,
   "id": "7fe411a0",
   "metadata": {
    "ExecuteTime": {
     "end_time": "2023-04-26T12:57:43.810544Z",
     "start_time": "2023-04-26T12:57:41.036865Z"
    },
    "tags": []
   },
   "outputs": [],
   "source": [
    "# fig = __makeplotStream_cwt(st, config);"
   ]
  },
  {
   "cell_type": "markdown",
   "id": "fd9e342f",
   "metadata": {},
   "source": [
    "## 6C Fingerprinting"
   ]
  },
  {
   "cell_type": "code",
   "execution_count": 10,
   "id": "f878aed6",
   "metadata": {
    "tags": []
   },
   "outputs": [],
   "source": [
    "from scipy.signal import hilbert, convolve\n",
    "from twistpy.convenience import ricker\n",
    "from twistpy.polarization import *"
   ]
  },
  {
   "cell_type": "code",
   "execution_count": 11,
   "id": "8739df27",
   "metadata": {
    "tags": []
   },
   "outputs": [],
   "source": [
    "acc = st.select(station=\"PFO*\").copy()\n",
    "rot = st.select(station=\"BSPF\").copy()\n",
    "\n",
    "scaling_velocity = 2000 ##2000\n",
    "\n",
    "for tr in acc:\n",
    "    tr.data /= scaling_velocity"
   ]
  },
  {
   "cell_type": "markdown",
   "id": "c178d0b0-12cf-4cbb-910d-bd2a5b790e4f",
   "metadata": {},
   "source": [
    "### Time Domain"
   ]
  },
  {
   "cell_type": "code",
   "execution_count": 12,
   "id": "6c5288a4-0873-46f0-9e64-024e74929807",
   "metadata": {
    "tags": []
   },
   "outputs": [
    {
     "name": "stdout",
     "output_type": "stream",
     "text": [
      "A trained model already exists with this name and is saved at '/home/andbro/Documents/ROMY/twistpy/TwistPy/twistpy/SVC_models/nearsurface.pkl'\n",
      "Nothing will be done! Please delete the file above if you want to re-train this model.\n"
     ]
    }
   ],
   "source": [
    "dt = rot[0].stats.delta\n",
    "\n",
    "# !rm /home/andbro/Documents/ROMY/twistpy/TwistPy/twistpy/SVC_models/nearsurface.pkl\n",
    "\n",
    "svm = SupportVectorMachine(name=\"nearsurface\")\n",
    "\n",
    "svm.train(\n",
    "            wave_types=[\"R\", \"L\", \"SV\", \"Noise\"],\n",
    "            N=5000,\n",
    "            scaling_velocity=scaling_velocity,\n",
    "            vp=(500, 5000),\n",
    "            vp_to_vs=(1.6, 2.2),\n",
    "            vl=(500, 4000),\n",
    "            vr=(500, 4000),\n",
    "            phi=(0, 360),\n",
    "            theta=(0, 90),\n",
    "            xi=(-90, 90),\n",
    "            free_surface=True,\n",
    "            C=10,\n",
    "            kernel=\"rbf\",\n",
    "            plot_confusion_matrix=True,\n",
    ")"
   ]
  },
  {
   "cell_type": "code",
   "execution_count": 13,
   "id": "8a82745e-35d6-4c24-b3ba-ebc38c76e276",
   "metadata": {
    "tags": []
   },
   "outputs": [
    {
     "name": "stdout",
     "output_type": "stream",
     "text": [
      "Computing covariance matrices...\n",
      "Covariance matrices computed!\n",
      "Performing eigen-decomposition of covariance matrices...\n",
      "Eigenvectors and eigenvalues have been computed!\n",
      "Wave type classification in progress...\n",
      "Wave types have been classified!\n"
     ]
    }
   ],
   "source": [
    "twin = 2.5/config['fmin']\n",
    "overlap = 0.75\n",
    "\n",
    "analysis = TimeDomainAnalysis6C(\n",
    "                                traN=acc.select(channel=\"*N\")[0],\n",
    "                                traE=acc.select(channel=\"*E\")[0],\n",
    "                                traZ=acc.select(channel=\"*Z\")[0],\n",
    "                                rotN=rot.select(channel=\"*N\")[0],\n",
    "                                rotE=rot.select(channel=\"*E\")[0],\n",
    "                                rotZ=rot.select(channel=\"*Z\")[0],\n",
    "                                window={\"window_length_seconds\": twin , \"overlap\": overlap},\n",
    "                                scaling_velocity=scaling_velocity,\n",
    "                                timeaxis=\"rel\",\n",
    ")\n",
    "\n",
    "analysis.classify(svm=svm, eigenvector_to_classify=0)\n",
    "\n",
    "classification = analysis.classification[\"0\"]\n",
    "\n",
    "t_windows = (analysis.t_windows)  # Positions of the sliding time windows where the classification was performed"
   ]
  },
  {
   "cell_type": "code",
   "execution_count": 14,
   "id": "9264e88f",
   "metadata": {
    "tags": []
   },
   "outputs": [
    {
     "data": {
      "image/png": "[encoded data removed]",
      "text/plain": [
       "<Figure size 1500x500 with 2 Axes>"
      ]
     },
     "metadata": {},
     "output_type": "display_data"
    }
   ],
   "source": [
    "fig, (ax1, ax2) = plt.subplots(2, 1, sharex=False, figsize=(15, 5))\n",
    "\n",
    "t = acc.select(channel=\"*N\")[0].times()\n",
    "\n",
    "ax1.plot(t, 1e-6+acc.select(channel=\"*N\")[0].data, \"k:\", label=\"traN\")\n",
    "ax1.plot(t, 1e-6+acc.select(channel=\"*E\")[0].data, \"k--\", label=\"traE\")\n",
    "ax1.plot(t, 1e-6+acc.select(channel=\"*Z\")[0].data, \"k\", label=\"traZ\")\n",
    "ax1.plot(t, -1e-6+rot.select(channel=\"*N\")[0].data, \"r:\", label=\"rotN\")\n",
    "ax1.plot(t, -1e-6+rot.select(channel=\"*E\")[0].data, \"r--\", label=\"rotE\")\n",
    "ax1.plot(t, -1e-6+rot.select(channel=\"*Z\")[0].data, \"r\", label=\"rotZ\")\n",
    "ax1.legend(loc=\"center left\", bbox_to_anchor=(1, 0.5))\n",
    "# ax1.set_title(\"\")\n",
    "ax1.set_yticklabels([])\n",
    "ax1.set_title(f\"6C wave type classification ( f={config['fmin']}-{config['fmax']} Hz | T={twin}s | overlap={int(overlap*100)}% )\")\n",
    "\n",
    "ax2.plot(t_windows, classification, \"k.\")\n",
    "ax2.set_xlabel(\"Time (s)\")\n",
    "# ax2.set_ylabel(\"Classification label\")\n",
    "\n",
    "ax1.spines['top'].set_visible(False)\n",
    "ax1.spines['right'].set_visible(False)\n",
    "ax1.spines['left'].set_visible(False)\n",
    "ax1.spines['bottom'].set_visible(False)\n",
    "ax1.get_yaxis().set_ticks([])\n",
    "ax1.get_xaxis().set_ticks([])\n",
    "\n",
    "ax2.spines['top'].set_visible(False)\n",
    "ax2.spines['right'].set_visible(False)\n",
    "ax2.spines['left'].set_visible(False)\n",
    "\n",
    "ax1.set_xlim(min(t), max(t))\n",
    "ax2.set_xlim(min(t), max(t))\n",
    "\n",
    "\n",
    "plt.show();\n",
    "\n",
    "\n",
    "# fig.savefig(config['path_to_figs']+f\"BSPF_M62_fingerprinting_timedomain.png\", format=\"png\", dpi=150, bbox_inches='tight');\n"
   ]
  },
  {
   "cell_type": "markdown",
   "id": "8cf6f65c-aa5f-4c95-bd4c-22d73880d07a",
   "metadata": {
    "tags": []
   },
   "source": [
    "### Frequency Domain"
   ]
  },
  {
   "cell_type": "code",
   "execution_count": null,
   "id": "59578384",
   "metadata": {
    "tags": []
   },
   "outputs": [
    {
     "name": "stdout",
     "output_type": "stream",
     "text": [
      "Computing covariance matrices...\n"
     ]
    }
   ],
   "source": [
    "svm = SupportVectorMachine(name=\"nearsurface\")\n",
    "\n",
    "analysis_tf = TimeFrequencyAnalysis6C(\n",
    "                                        traN=acc.select(channel=\"*N\")[0],\n",
    "                                        traE=acc.select(channel=\"*E\")[0],\n",
    "                                        traZ=acc.select(channel=\"*Z\")[0],\n",
    "                                        rotN=rot.select(channel=\"*N\")[0],\n",
    "                                        rotE=rot.select(channel=\"*E\")[0],\n",
    "                                        rotZ=rot.select(channel=\"*Z\")[0],\n",
    "                                        window={\"number_of_periods\": twin, \"frequency_extent\": 1},\n",
    "                                        timeaxis=\"rel\",\n",
    "                                        scaling_velocity=scaling_velocity,\n",
    ")\n",
    "\n",
    "analysis_tf.classify(svm=svm, eigenvector_to_classify=0)\n",
    "\n",
    "classification_tf = analysis_tf.classification[\"0\"]\n"
   ]
  },
  {
   "cell_type": "code",
   "execution_count": null,
   "id": "6acd642f",
   "metadata": {
    "tags": []
   },
   "outputs": [],
   "source": [
    "fig, (ax1, ax2) = plt.subplots(2, 1, sharex=True, figsize=(15, 5))\n",
    "\n",
    "t = acc.select(channel=\"*N\")[0].times()\n",
    "\n",
    "ax1.plot(t, acc.select(channel=\"*N\")[0].data, \"k:\", label=\"traN\")\n",
    "ax1.plot(t, acc.select(channel=\"*E\")[0].data, \"k--\", label=\"traE\")\n",
    "ax1.plot(t, acc.select(channel=\"*Z\")[0].data, \"k\", label=\"traZ\")\n",
    "ax1.plot(t, rot.select(channel=\"*N\")[0].data, \"r:\", label=\"rotN\")\n",
    "ax1.plot(t, rot.select(channel=\"*E\")[0].data, \"r--\", label=\"rotE\")\n",
    "ax1.plot(t, rot.select(channel=\"*Z\")[0].data, \"r\", label=\"rotZ\")\n",
    "ax1.legend(loc=\"center left\", bbox_to_anchor=(1, 0.5))\n",
    "ax1.set_title(\"Input signal\")\n",
    "\n",
    "ax2.set_title(\"Wave type classification\")\n",
    "ax2.set_xlabel(\"Time (s)\")\n",
    "ax2.set_ylabel(\"Classification label\")\n",
    "analysis_tf.plot_classification(ax2)\n",
    "\n",
    "pos0 = ax1.get_position()\n",
    "pos = ax2.get_position()\n",
    "ax1.set_position([pos0.x0, pos0.y0, pos.width, pos.height])\n",
    "\n",
    "\n",
    "plt.show();"
   ]
  },
  {
   "cell_type": "code",
   "execution_count": null,
   "id": "9c57e9b6-cac2-4826-9930-d170059c686d",
   "metadata": {
    "tags": []
   },
   "outputs": [],
   "source": [
    "fig, (ax1, ax2, ax3) = plt.subplots(3, 1, sharex=False, figsize=(15, 5))\n",
    "\n",
    "lw = 1.5\n",
    "\n",
    "t = acc.select(channel=\"*N\")[0].times()\n",
    "\n",
    "ax1.plot(t, 1e-6+acc.select(channel=\"*N\")[0].data, \"k:\", label=\"traN\", lw=lw)\n",
    "ax1.plot(t, 1e-6+acc.select(channel=\"*E\")[0].data, \"k--\", label=\"traE\", lw=lw)\n",
    "ax1.plot(t, 1e-6+acc.select(channel=\"*Z\")[0].data, \"k\", label=\"traZ\", lw=lw)\n",
    "ax1.plot(t, -1e-6+rot.select(channel=\"*N\")[0].data, \"r:\", label=\"rotN\", lw=lw)\n",
    "ax1.plot(t, -1e-6+rot.select(channel=\"*E\")[0].data, \"r--\", label=\"rotE\", lw=lw)\n",
    "ax1.plot(t, -1e-6+rot.select(channel=\"*Z\")[0].data, \"r\", label=\"rotZ\", lw=lw)\n",
    "ax1.legend(loc=\"center left\", bbox_to_anchor=(1, 0.5))\n",
    "ax1.set_yticklabels([])\n",
    "ax1.set_title(f\"6C wave type classification ( f={config['fmin']}-{config['fmax']} Hz | T={twin}s | overlap={int(overlap*100)}% )\")\n",
    "\n",
    "\n",
    "pos1 = ax1.get_position()\n",
    "analysis_tf.plot_classification(ax2, clip=0.05)\n",
    "pos0 = ax2.get_position()\n",
    "\n",
    "ax1.set_position([pos1.x0, pos1.y0, pos0.width, pos0.height])\n",
    "\n",
    "\n",
    "ax3.plot(t_windows, classification, \"k.\")\n",
    "pos3 = ax3.get_position()\n",
    "ax3.set_position([pos3.x0, pos3.y0, pos0.width, pos0.height])\n",
    "\n",
    "\n",
    "ax1.spines['top'].set_visible(False)\n",
    "ax1.spines['right'].set_visible(False)\n",
    "ax1.spines['left'].set_visible(False)\n",
    "ax1.spines['bottom'].set_visible(False)\n",
    "ax1.get_yaxis().set_ticks([])\n",
    "ax1.get_xaxis().set_ticks([])\n",
    "\n",
    "ax2.spines['top'].set_visible(False)\n",
    "ax2.spines['right'].set_visible(False)\n",
    "ax2.spines['left'].set_visible(False)\n",
    "ax2.spines['bottom'].set_visible(False)\n",
    "ax2.get_yaxis().set_ticks([])\n",
    "ax2.get_xaxis().set_ticks([])\n",
    "ax2.set_ylim(0, 5)\n",
    "ax2.set_xlabel(\"\")\n",
    "\n",
    "ax3.spines['top'].set_visible(False)\n",
    "ax3.spines['right'].set_visible(False)\n",
    "ax3.spines['left'].set_visible(False)\n",
    "ax3.set_ylim(-1, 4)\n",
    "ax3.set_xlabel(\"Time (s)\")\n",
    "\n",
    "ax1.set_xlim(min(t)-1, max(t)+1)\n",
    "ax2.set_xlim(min(t)-1, max(t)+1)\n",
    "ax3.set_xlim(min(t)-1, max(t)+1)\n",
    "\n",
    "\n",
    "plt.show();\n",
    "\n",
    "\n",
    "fig.savefig(config['path_to_figs']+f\"BSPF_M62_fingerprinting.png\", format=\"png\", dpi=150, bbox_inches='tight');\n"
   ]
  },
  {
   "cell_type": "markdown",
   "id": "689320ee",
   "metadata": {
    "tags": []
   },
   "source": [
    "## 6C Polarization"
   ]
  },
  {
   "cell_type": "code",
   "execution_count": null,
   "id": "c46199ab",
   "metadata": {
    "tags": []
   },
   "outputs": [],
   "source": [
    "# !rm /home/andbro/Documents/ROMY/twistpy/TwistPy/twistpy/SVC_models/test.pkl\n",
    "\n",
    "# svm = SupportVectorMachine(name=\"test\")\n",
    "\n",
    "\n",
    "# svm.train(\n",
    "\n",
    "#         wave_types=[\"R\", \"P\", \"SV\", \"L\", \"Noise\"],\n",
    "#         N=5000,\n",
    "#         scaling_velocity=scaling_velocity,\n",
    "#         vp=(100, 5000),\n",
    "#         vp_to_vs=(1.7, 2.4),\n",
    "#         vl=(100, 5000),\n",
    "#         vr=(100, 5000),\n",
    "#         phi=(0, 360),\n",
    "#         theta=(0, 90),\n",
    "#         xi=(-90, 90),\n",
    "#         free_surface=True,\n",
    "#         C=1,\n",
    "#         kernel=\"rbf\",\n",
    "#         plot_confusion_matrix=False,\n",
    "\n",
    "# )"
   ]
  },
  {
   "cell_type": "code",
   "execution_count": null,
   "id": "05fda6db",
   "metadata": {
    "tags": []
   },
   "outputs": [],
   "source": [
    "analysis = TimeDomainAnalysis6C(\n",
    "                                traN=acc.select(channel=\"*N\")[0],\n",
    "                                traE=acc.select(channel=\"*E\")[0],\n",
    "                                traZ=acc.select(channel=\"*Z\")[0],\n",
    "                                rotN=rot.select(channel=\"*N\")[0],\n",
    "                                rotE=rot.select(channel=\"*E\")[0],\n",
    "                                rotZ=rot.select(channel=\"*Z\")[0],\n",
    "                                window={\"window_length_seconds\":  2/config['fmin'], \"overlap\": 0.75},\n",
    "                                scaling_velocity=scaling_velocity,\n",
    "                                timeaxis=\"rel\",\n",
    ")\n"
   ]
  },
  {
   "cell_type": "code",
   "execution_count": null,
   "id": "1c12b653",
   "metadata": {
    "tags": []
   },
   "outputs": [],
   "source": [
    "analysis.classify(svm=svm, eigenvector_to_classify=0)\n",
    "\n",
    "classification = analysis.classification[\"0\"]\n",
    "\n",
    "t_windows = (analysis.t_windows)  # Positions of the sliding time windows where the classification was performed\n",
    "\n",
    "#  Wave parameter estimation\n",
    "\n",
    "est = EstimatorConfiguration(\n",
    "                            wave_types=[\"L\", \"R\"],\n",
    "                            method=\"ML\",\n",
    "                            scaling_velocity=scaling_velocity,\n",
    "                            use_ml_classification=True,\n",
    "                            svm=svm,\n",
    ")\n",
    "\n",
    "analysis.polarization_analysis(estimator_configuration=est)\n",
    "\n",
    "analysis.plot(estimator_configuration=est, dop_clip=0.0)\n"
   ]
  },
  {
   "cell_type": "code",
   "execution_count": null,
   "id": "657a9343",
   "metadata": {},
   "outputs": [],
   "source": []
  },
  {
   "cell_type": "code",
   "execution_count": null,
   "id": "0cd840b6",
   "metadata": {},
   "outputs": [],
   "source": []
  }
 ],
 "metadata": {
  "kernelspec": {
   "display_name": "Python 3 (ipykernel)",
   "language": "python",
   "name": "python3"
  },
  "language_info": {
   "codemirror_mode": {
    "name": "ipython",
    "version": 3
   },
   "file_extension": ".py",
   "mimetype": "text/x-python",
   "name": "python",
   "nbconvert_exporter": "python",
   "pygments_lexer": "ipython3",
   "version": "3.10.12"
  },
  "latex_envs": {
   "LaTeX_envs_menu_present": true,
   "autoclose": false,
   "autocomplete": true,
   "bibliofile": "biblio.bib",
   "cite_by": "apalike",
   "current_citInitial": 1,
   "eqLabelWithNumbers": true,
   "eqNumInitial": 1,
   "hotkeys": {
    "equation": "Ctrl-E",
    "itemize": "Ctrl-I"
   },
   "labels_anchors": false,
   "latex_user_defs": false,
   "report_style_numbering": false,
   "user_envs_cfg": false
  },
  "toc": {
   "base_numbering": 1,
   "nav_menu": {},
   "number_sections": true,
   "sideBar": true,
   "skip_h1_title": false,
   "title_cell": "Table of Contents",
   "title_sidebar": "Contents",
   "toc_cell": false,
   "toc_position": {},
   "toc_section_display": true,
   "toc_window_display": false
  },
  "varInspector": {
   "cols": {
    "lenName": 16,
    "lenType": 16,
    "lenVar": 40
   },
   "kernels_config": {
    "python": {
     "delete_cmd_postfix": "",
     "delete_cmd_prefix": "del ",
     "library": "var_list.py",
     "varRefreshCmd": "print(var_dic_list())"
    },
    "r": {
     "delete_cmd_postfix": ") ",
     "delete_cmd_prefix": "rm(",
     "library": "var_list.r",
     "varRefreshCmd": "cat(var_dic_list()) "
    }
   },
   "types_to_exclude": [
    "module",
    "function",
    "builtin_function_or_method",
    "instance",
    "_Feature"
   ],
   "window_display": false
  }
 },
 "nbformat": 4,
 "nbformat_minor": 5
}
