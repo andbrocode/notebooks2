{
 "cells": [
  {
   "cell_type": "markdown",
   "id": "09a2fa44",
   "metadata": {},
   "source": [
    "# Plot BlueSeis BSPF Events from Catalog"
   ]
  },
  {
   "cell_type": "markdown",
   "id": "222c6d13",
   "metadata": {
    "ExecuteTime": {
     "end_time": "2023-04-17T13:02:47.573740Z",
     "start_time": "2023-04-17T13:02:47.413960Z"
    }
   },
   "source": [
    "! Should be run in pygmt environment !"
   ]
  },
  {
   "cell_type": "markdown",
   "id": "5b1c7ac1",
   "metadata": {},
   "source": [
    "With pressure sensor parascientific and new sensor "
   ]
  },
  {
   "cell_type": "code",
   "execution_count": 1,
   "id": "ac7ec6a8",
   "metadata": {
    "ExecuteTime": {
     "end_time": "2023-07-28T10:17:16.185396Z",
     "start_time": "2023-07-28T10:17:13.583080Z"
    },
    "execution": {
     "iopub.execute_input": "2023-08-09T22:01:33.907294Z",
     "iopub.status.busy": "2023-08-09T22:01:33.906541Z",
     "iopub.status.idle": "2023-08-09T22:01:34.648985Z",
     "shell.execute_reply": "2023-08-09T22:01:34.648197Z",
     "shell.execute_reply.started": "2023-08-09T22:01:33.907264Z"
    }
   },
   "outputs": [],
   "source": [
    "import os\n",
    "import obspy as obs\n",
    "import matplotlib.pyplot as plt\n",
    "import numpy as np\n",
    "import pandas as pd\n",
    "import geopandas as gpd\n",
    "\n",
    "from andbro__savefig import __savefig\n",
    "from obspy.clients.fdsn import Client"
   ]
  },
  {
   "cell_type": "code",
   "execution_count": 2,
   "id": "ace53e51",
   "metadata": {
    "ExecuteTime": {
     "end_time": "2023-07-28T10:18:18.100879Z",
     "start_time": "2023-07-28T10:18:18.087925Z"
    },
    "execution": {
     "iopub.execute_input": "2023-08-09T22:01:34.651088Z",
     "iopub.status.busy": "2023-08-09T22:01:34.650217Z",
     "iopub.status.idle": "2023-08-09T22:01:34.658611Z",
     "shell.execute_reply": "2023-08-09T22:01:34.657581Z",
     "shell.execute_reply.started": "2023-08-09T22:01:34.651043Z"
    }
   },
   "outputs": [],
   "source": [
    "from functions.catalog_to_dataframe import __catalog_to_dataframe\n",
    "from functions.add_distances_and_backazimuth import __add_distances_and_backazimuth"
   ]
  },
  {
   "cell_type": "code",
   "execution_count": 3,
   "id": "69645e9e",
   "metadata": {
    "ExecuteTime": {
     "end_time": "2023-07-28T10:17:16.769414Z",
     "start_time": "2023-07-28T10:17:16.719572Z"
    },
    "execution": {
     "iopub.execute_input": "2023-08-09T22:01:34.661086Z",
     "iopub.status.busy": "2023-08-09T22:01:34.660671Z",
     "iopub.status.idle": "2023-08-09T22:01:34.683608Z",
     "shell.execute_reply": "2023-08-09T22:01:34.682630Z",
     "shell.execute_reply.started": "2023-08-09T22:01:34.661057Z"
    }
   },
   "outputs": [],
   "source": [
    "if os.uname().nodename == 'lighthouse':\n",
    "    root_path = '/home/andbro/'\n",
    "    data_path = '/home/andbro/kilauea-data/'\n",
    "    archive_path = '/home/andbro/freenas/'\n",
    "elif os.uname().nodename == 'kilauea':\n",
    "    root_path = '/home/brotzer/'\n",
    "    data_path = '/import/kilauea-data/'\n",
    "    archive_path = '/import/freenas-ffb-01-data/'"
   ]
  },
  {
   "cell_type": "markdown",
   "id": "2d625638",
   "metadata": {
    "ExecuteTime": {
     "end_time": "2023-01-13T15:42:15.099966Z",
     "start_time": "2023-01-13T15:42:15.096483Z"
    }
   },
   "source": [
    "## Configurations"
   ]
  },
  {
   "cell_type": "code",
   "execution_count": 4,
   "id": "685a3ddf",
   "metadata": {
    "ExecuteTime": {
     "end_time": "2023-07-28T10:19:54.416657Z",
     "start_time": "2023-07-28T10:19:54.412452Z"
    },
    "execution": {
     "iopub.execute_input": "2023-08-09T22:01:34.686097Z",
     "iopub.status.busy": "2023-08-09T22:01:34.685230Z",
     "iopub.status.idle": "2023-08-09T22:01:34.694798Z",
     "shell.execute_reply": "2023-08-09T22:01:34.693862Z",
     "shell.execute_reply.started": "2023-08-09T22:01:34.685980Z"
    }
   },
   "outputs": [],
   "source": [
    "config = {}\n",
    "\n",
    "date1 = \"20221001\"\n",
    "date2 = \"20230615\"\n",
    "\n",
    "## ______________________________________________\n",
    "## small bounds\n",
    "# config['minlatitude'], config['maxlatitude'] = 32, 35\n",
    "# config['minlongitude'], config['maxlongitude'] = -118, -115\n",
    "# config['eventfile'] = \"BSPF_event_catalog\"\n",
    "\n",
    "## ______________________________________________\n",
    "## normal bounds\n",
    "config['minlatitude'], config['maxlatitude'] = 31, 35\n",
    "config['minlongitude'], config['maxlongitude'] = -119, -114\n",
    "config['eventfile'] = f\"BSPF_catalog_{date1}_{date2}\"\n",
    "\n",
    "## ______________________________________________\n",
    "## extended bounds\n",
    "# config['minlatitude'], config['maxlatitude'] = 30, 37\n",
    "# config['minlongitude'], config['maxlongitude'] = -120, -113\n",
    "# config['eventfile'] = \"BSPF_catalog_extended\"\n",
    "\n",
    "\n",
    "config['BSPF_lon'] = np.array([-116.455439])\n",
    "config['BSPF_lat'] = np.array([33.610643])\n",
    "\n",
    "# config['minmagnitude'] = 2.5\n",
    "\n",
    "config['tbeg'] = obs.UTCDateTime(date1)\n",
    "config['tend'] = obs.UTCDateTime(date2)\n",
    "\n",
    "config['triggerfile'] = f\"BSPF_catalog_{date1}_{date2}_triggered.pkl\"\n",
    "\n",
    "config['gcmt_file'] = f\"gcmt_solutions_{date1}_{date2}.xml\"\n",
    "\n",
    "config['path_to_data'] = data_path+\"BSPF/data/\"\n",
    "\n",
    "config['path_to_catalogs'] = data_path+\"BSPF/data/catalogs/\"\n",
    "\n",
    "config['out_figures'] = data_path+\"BSPF/figures/\"\n",
    "\n",
    "config['outpath'] = data_path+\"BSPF/\""
   ]
  },
  {
   "cell_type": "code",
   "execution_count": 5,
   "id": "75a4af8d",
   "metadata": {
    "ExecuteTime": {
     "end_time": "2023-07-28T10:18:27.514588Z",
     "start_time": "2023-07-28T10:18:27.512093Z"
    },
    "code_folding": [
     0
    ],
    "execution": {
     "iopub.execute_input": "2023-08-09T22:01:34.695895Z",
     "iopub.status.busy": "2023-08-09T22:01:34.695699Z",
     "iopub.status.idle": "2023-08-09T22:01:34.709180Z",
     "shell.execute_reply": "2023-08-09T22:01:34.708287Z",
     "shell.execute_reply.started": "2023-08-09T22:01:34.695880Z"
    }
   },
   "outputs": [],
   "source": [
    "def __read_pickle(path, filename):\n",
    "\n",
    "    import pickle\n",
    "\n",
    "    with open(path+filename, 'rb') as f:\n",
    "        triggerfile = pickle.load(f)\n",
    "\n",
    "    return triggerfile"
   ]
  },
  {
   "cell_type": "code",
   "execution_count": 9,
   "id": "8de121c6",
   "metadata": {
    "ExecuteTime": {
     "end_time": "2023-07-28T10:18:27.862781Z",
     "start_time": "2023-07-28T10:18:27.844826Z"
    },
    "code_folding": [
     0
    ],
    "execution": {
     "iopub.execute_input": "2023-08-09T22:02:37.749971Z",
     "iopub.status.busy": "2023-08-09T22:02:37.749087Z",
     "iopub.status.idle": "2023-08-09T22:02:37.755089Z",
     "shell.execute_reply": "2023-08-09T22:02:37.754237Z",
     "shell.execute_reply.started": "2023-08-09T22:02:37.749924Z"
    }
   },
   "outputs": [],
   "source": [
    "# def __find_matches(trigger_events, catalog):\n",
    "\n",
    "#     trigger_times, cosum = [], []\n",
    "#     for n, trig in enumerate(trigger_events.index):\n",
    "#         trigger_times.append(trig['trigger_time'][n])\n",
    "#         cosum.append(trig['coincidence_sum'])\n",
    "\n",
    "\n",
    "#     matches, time_diffs, events_triggered, idxs = [], [], [], []\n",
    "\n",
    "#     ## extract origin times from catalog\n",
    "#     event_times = [catalog.events[j].origins[0].time for j in range(len(catalog))]\n",
    "\n",
    "\n",
    "#     for trigger_time in trigger_times:\n",
    "\n",
    "#         ## compute time differences in seconds\n",
    "#         diff = [event_time-trigger_time for event_time in event_times]\n",
    "\n",
    "#         ## only the ones before the trigger in time\n",
    "#         abs_diff = [abs(d) for d in diff if d < 0]\n",
    "\n",
    "#         ## get closest event\n",
    "#         t_min, t_idx = min(abs_diff), diff.index(-min(abs_diff))\n",
    "\n",
    "#         time_diffs.append(t_min)\n",
    "#         matches.append(trigger_time)\n",
    "#         events_triggered.append(event_times[t_idx])\n",
    "#         idxs.append(t_idx)\n",
    "\n",
    "#     cat_sel = [catalog.events[idx] for idx in idxs]\n",
    "\n",
    "\n",
    "#     t_days = [(match-obs.UTCDateTime(\"2022-10-01\"))/86400 for match in matches]\n",
    "#     plt.figure(figsize=(15,5))\n",
    "#     for tt, dd, cosum in zip(t_days, time_diffs, cosum):\n",
    "#         if cosum == 4:\n",
    "#             plt.scatter(tt, dd, zorder=2, color='red', s=13, alpha=0.7)\n",
    "#         if cosum == 5:\n",
    "#             plt.scatter(tt, dd, zorder=2, color='orange', s=13, alpha=0.7)\n",
    "#         if cosum == 6:\n",
    "#             plt.scatter(tt, dd, zorder=2, color='green', s=13, alpha=0.7)\n",
    "\n",
    "#     plt.yscale(\"log\")\n",
    "#     plt.grid(which=\"both\", zorder=-1, ls=\":\")\n",
    "#     plt.ylabel(\"Time Differences (s)\")\n",
    "#     plt.xlabel(\"Time (days)\")\n",
    "#     plt.xlim(0, 190)\n",
    "#     plt.title(f\"LTA-STA Trigger: {len(events_triggered)}\")\n",
    "\n",
    "#     return np.array(matches), np.array(events_triggered), cat_sel"
   ]
  },
  {
   "cell_type": "markdown",
   "id": "70f0ac6a",
   "metadata": {},
   "source": [
    "## Load Data"
   ]
  },
  {
   "cell_type": "markdown",
   "id": "c5f2fcbc",
   "metadata": {},
   "source": [
    "### load catalog with all events"
   ]
  },
  {
   "cell_type": "code",
   "execution_count": 10,
   "id": "c4333a2d",
   "metadata": {
    "ExecuteTime": {
     "end_time": "2023-07-28T10:19:10.786564Z",
     "start_time": "2023-07-28T10:18:46.052445Z"
    },
    "execution": {
     "iopub.execute_input": "2023-08-09T22:02:39.704789Z",
     "iopub.status.busy": "2023-08-09T22:02:39.703964Z",
     "iopub.status.idle": "2023-08-09T22:02:40.350391Z",
     "shell.execute_reply": "2023-08-09T22:02:40.349424Z",
     "shell.execute_reply.started": "2023-08-09T22:02:39.704749Z"
    }
   },
   "outputs": [
    {
     "ename": "FileNotFoundError",
     "evalue": "[Errno 2] No such file or directory: '/home/andbro/kilauea-data/BSPF/data/catalogs/BSPF_catalog_20221001_20230615_all.xml'",
     "output_type": "error",
     "traceback": [
      "\u001b[0;31m---------------------------------------------------------------------------\u001b[0m",
      "\u001b[0;31mFileNotFoundError\u001b[0m                         Traceback (most recent call last)",
      "Cell \u001b[0;32mIn[10], line 1\u001b[0m\n\u001b[0;32m----> 1\u001b[0m cat_all \u001b[38;5;241m=\u001b[39m \u001b[43mobs\u001b[49m\u001b[38;5;241;43m.\u001b[39;49m\u001b[43mread_events\u001b[49m\u001b[43m(\u001b[49m\u001b[43mconfig\u001b[49m\u001b[43m[\u001b[49m\u001b[38;5;124;43m'\u001b[39;49m\u001b[38;5;124;43mpath_to_catalogs\u001b[39;49m\u001b[38;5;124;43m'\u001b[39;49m\u001b[43m]\u001b[49m\u001b[38;5;241;43m+\u001b[39;49m\u001b[43mconfig\u001b[49m\u001b[43m[\u001b[49m\u001b[38;5;124;43m'\u001b[39;49m\u001b[38;5;124;43meventfile\u001b[39;49m\u001b[38;5;124;43m'\u001b[39;49m\u001b[43m]\u001b[49m\u001b[38;5;241;43m+\u001b[39;49m\u001b[38;5;124;43m\"\u001b[39;49m\u001b[38;5;124;43m_all.xml\u001b[39;49m\u001b[38;5;124;43m\"\u001b[39;49m\u001b[43m)\u001b[49m\n\u001b[1;32m      3\u001b[0m events_all_df \u001b[38;5;241m=\u001b[39m __catalog_to_dataframe(cat_all)\n\u001b[1;32m      5\u001b[0m events_all_df \u001b[38;5;241m=\u001b[39m __add_distances_and_backazimuth(config[\u001b[38;5;124m'\u001b[39m\u001b[38;5;124mBSPF_lat\u001b[39m\u001b[38;5;124m'\u001b[39m], config[\u001b[38;5;124m'\u001b[39m\u001b[38;5;124mBSPF_lon\u001b[39m\u001b[38;5;124m'\u001b[39m], events_all_df)\n",
      "File \u001b[0;32m~/anaconda3/envs/obs2/lib/python3.10/site-packages/decorator.py:232\u001b[0m, in \u001b[0;36mdecorate.<locals>.fun\u001b[0;34m(*args, **kw)\u001b[0m\n\u001b[1;32m    230\u001b[0m \u001b[38;5;28;01mif\u001b[39;00m \u001b[38;5;129;01mnot\u001b[39;00m kwsyntax:\n\u001b[1;32m    231\u001b[0m     args, kw \u001b[38;5;241m=\u001b[39m fix(args, kw, sig)\n\u001b[0;32m--> 232\u001b[0m \u001b[38;5;28;01mreturn\u001b[39;00m \u001b[43mcaller\u001b[49m\u001b[43m(\u001b[49m\u001b[43mfunc\u001b[49m\u001b[43m,\u001b[49m\u001b[43m \u001b[49m\u001b[38;5;241;43m*\u001b[39;49m\u001b[43m(\u001b[49m\u001b[43mextras\u001b[49m\u001b[43m \u001b[49m\u001b[38;5;241;43m+\u001b[39;49m\u001b[43m \u001b[49m\u001b[43margs\u001b[49m\u001b[43m)\u001b[49m\u001b[43m,\u001b[49m\u001b[43m \u001b[49m\u001b[38;5;241;43m*\u001b[39;49m\u001b[38;5;241;43m*\u001b[39;49m\u001b[43mkw\u001b[49m\u001b[43m)\u001b[49m\n",
      "File \u001b[0;32m~/anaconda3/envs/obs2/lib/python3.10/site-packages/obspy/core/util/decorator.py:297\u001b[0m, in \u001b[0;36mmap_example_filename.<locals>._map_example_filename\u001b[0;34m(func, *args, **kwargs)\u001b[0m\n\u001b[1;32m    295\u001b[0m                 \u001b[38;5;28;01mexcept\u001b[39;00m \u001b[38;5;167;01mIOError\u001b[39;00m:\n\u001b[1;32m    296\u001b[0m                     \u001b[38;5;28;01mpass\u001b[39;00m\n\u001b[0;32m--> 297\u001b[0m \u001b[38;5;28;01mreturn\u001b[39;00m \u001b[43mfunc\u001b[49m\u001b[43m(\u001b[49m\u001b[38;5;241;43m*\u001b[39;49m\u001b[43margs\u001b[49m\u001b[43m,\u001b[49m\u001b[43m \u001b[49m\u001b[38;5;241;43m*\u001b[39;49m\u001b[38;5;241;43m*\u001b[39;49m\u001b[43mkwargs\u001b[49m\u001b[43m)\u001b[49m\n",
      "File \u001b[0;32m~/anaconda3/envs/obs2/lib/python3.10/site-packages/obspy/core/event/catalog.py:810\u001b[0m, in \u001b[0;36mread_events\u001b[0;34m(pathname_or_url, format, **kwargs)\u001b[0m\n\u001b[1;32m    808\u001b[0m     \u001b[38;5;28;01mreturn\u001b[39;00m _create_example_catalog()\n\u001b[1;32m    809\u001b[0m \u001b[38;5;28;01melse\u001b[39;00m:\n\u001b[0;32m--> 810\u001b[0m     \u001b[38;5;28;01mreturn\u001b[39;00m \u001b[43m_generic_reader\u001b[49m\u001b[43m(\u001b[49m\u001b[43mpathname_or_url\u001b[49m\u001b[43m,\u001b[49m\u001b[43m \u001b[49m\u001b[43m_read\u001b[49m\u001b[43m,\u001b[49m\u001b[43m \u001b[49m\u001b[38;5;28;43mformat\u001b[39;49m\u001b[38;5;241;43m=\u001b[39;49m\u001b[38;5;28;43mformat\u001b[39;49m\u001b[43m,\u001b[49m\u001b[43m \u001b[49m\u001b[38;5;241;43m*\u001b[39;49m\u001b[38;5;241;43m*\u001b[39;49m\u001b[43mkwargs\u001b[49m\u001b[43m)\u001b[49m\n",
      "File \u001b[0;32m~/anaconda3/envs/obs2/lib/python3.10/site-packages/obspy/core/util/base.py:656\u001b[0m, in \u001b[0;36m_generic_reader\u001b[0;34m(pathname_or_url, callback_func, **kwargs)\u001b[0m\n\u001b[1;32m    654\u001b[0m         \u001b[38;5;28;01mraise\u001b[39;00m \u001b[38;5;167;01mException\u001b[39;00m(\u001b[38;5;124m\"\u001b[39m\u001b[38;5;124mNo file matching file pattern: \u001b[39m\u001b[38;5;132;01m%s\u001b[39;00m\u001b[38;5;124m\"\u001b[39m \u001b[38;5;241m%\u001b[39m pathname)\n\u001b[1;32m    655\u001b[0m     \u001b[38;5;28;01melif\u001b[39;00m \u001b[38;5;129;01mnot\u001b[39;00m glob\u001b[38;5;241m.\u001b[39mhas_magic(pathname) \u001b[38;5;129;01mand\u001b[39;00m \u001b[38;5;129;01mnot\u001b[39;00m Path(pathname)\u001b[38;5;241m.\u001b[39mis_file():\n\u001b[0;32m--> 656\u001b[0m         \u001b[38;5;28;01mraise\u001b[39;00m \u001b[38;5;167;01mIOError\u001b[39;00m(\u001b[38;5;241m2\u001b[39m, \u001b[38;5;124m\"\u001b[39m\u001b[38;5;124mNo such file or directory\u001b[39m\u001b[38;5;124m\"\u001b[39m, pathname)\n\u001b[1;32m    658\u001b[0m generic \u001b[38;5;241m=\u001b[39m callback_func(pathnames[\u001b[38;5;241m0\u001b[39m], \u001b[38;5;241m*\u001b[39m\u001b[38;5;241m*\u001b[39mkwargs)\n\u001b[1;32m    659\u001b[0m \u001b[38;5;28;01mif\u001b[39;00m \u001b[38;5;28mlen\u001b[39m(pathnames) \u001b[38;5;241m>\u001b[39m \u001b[38;5;241m1\u001b[39m:\n",
      "\u001b[0;31mFileNotFoundError\u001b[0m: [Errno 2] No such file or directory: '/home/andbro/kilauea-data/BSPF/data/catalogs/BSPF_catalog_20221001_20230615_all.xml'"
     ]
    }
   ],
   "source": [
    "cat_all = obs.read_events(config['path_to_catalogs']+config['eventfile']+\"_all.xml\")\n",
    "\n",
    "events_all_df = __catalog_to_dataframe(cat_all)\n",
    "\n",
    "events_all_df = __add_distances_and_backazimuth(config['BSPF_lat'], config['BSPF_lon'], events_all_df)"
   ]
  },
  {
   "cell_type": "code",
   "execution_count": 11,
   "id": "d10991bc",
   "metadata": {
    "ExecuteTime": {
     "end_time": "2023-07-28T10:19:45.587715Z",
     "start_time": "2023-07-28T10:19:44.960615Z"
    },
    "execution": {
     "iopub.execute_input": "2023-08-09T22:02:40.448585Z",
     "iopub.status.busy": "2023-08-09T22:02:40.447652Z",
     "iopub.status.idle": "2023-08-09T22:02:40.463859Z",
     "shell.execute_reply": "2023-08-09T22:02:40.462647Z",
     "shell.execute_reply.started": "2023-08-09T22:02:40.448540Z"
    }
   },
   "outputs": [
    {
     "ename": "NameError",
     "evalue": "name 'events_all_df' is not defined",
     "output_type": "error",
     "traceback": [
      "\u001b[0;31m---------------------------------------------------------------------------\u001b[0m",
      "\u001b[0;31mNameError\u001b[0m                                 Traceback (most recent call last)",
      "Cell \u001b[0;32mIn[11], line 1\u001b[0m\n\u001b[0;32m----> 1\u001b[0m events_all_df \u001b[38;5;241m=\u001b[39m \u001b[43mevents_all_df\u001b[49m\u001b[38;5;241m.\u001b[39mrename_axis(\u001b[38;5;124m'\u001b[39m\u001b[38;5;124mtimestamp\u001b[39m\u001b[38;5;124m'\u001b[39m)\u001b[38;5;241m.\u001b[39mreset_index()\n\u001b[1;32m      2\u001b[0m events_all_df[\u001b[38;5;124m'\u001b[39m\u001b[38;5;124mseconds\u001b[39m\u001b[38;5;124m'\u001b[39m] \u001b[38;5;241m=\u001b[39m [\u001b[38;5;28mabs\u001b[39m((events_all_df\u001b[38;5;241m.\u001b[39mtimestamp\u001b[38;5;241m.\u001b[39mmin()\u001b[38;5;241m-\u001b[39mtt)\u001b[38;5;241m.\u001b[39mtotal_seconds()) \u001b[38;5;28;01mfor\u001b[39;00m tt \u001b[38;5;129;01min\u001b[39;00m events_all_df\u001b[38;5;241m.\u001b[39mtimestamp]\n",
      "\u001b[0;31mNameError\u001b[0m: name 'events_all_df' is not defined"
     ]
    }
   ],
   "source": [
    "events_all_df = events_all_df.rename_axis('timestamp').reset_index()\n",
    "events_all_df['seconds'] = [abs((events_all_df.timestamp.min()-tt).total_seconds()) for tt in events_all_df.timestamp]"
   ]
  },
  {
   "cell_type": "markdown",
   "id": "2e4d28a3",
   "metadata": {},
   "source": [
    "### load triggered events"
   ]
  },
  {
   "cell_type": "code",
   "execution_count": null,
   "id": "855a6de2",
   "metadata": {
    "ExecuteTime": {
     "end_time": "2023-07-28T10:19:56.033156Z",
     "start_time": "2023-07-28T10:19:56.028284Z"
    },
    "execution": {
     "iopub.status.busy": "2023-08-09T22:01:34.725866Z",
     "iopub.status.idle": "2023-08-09T22:01:34.726034Z",
     "shell.execute_reply": "2023-08-09T22:01:34.725964Z",
     "shell.execute_reply.started": "2023-08-09T22:01:34.725955Z"
    }
   },
   "outputs": [],
   "source": [
    "cat_select_df = __read_pickle(config['path_to_catalogs'], config['triggerfile'])"
   ]
  },
  {
   "cell_type": "code",
   "execution_count": null,
   "id": "2fb8cbea",
   "metadata": {
    "ExecuteTime": {
     "end_time": "2023-07-28T10:23:21.400998Z",
     "start_time": "2023-07-28T10:23:21.375533Z"
    },
    "execution": {
     "iopub.status.busy": "2023-08-09T22:01:34.726845Z",
     "iopub.status.idle": "2023-08-09T22:01:34.727039Z",
     "shell.execute_reply": "2023-08-09T22:01:34.726958Z",
     "shell.execute_reply.started": "2023-08-09T22:01:34.726949Z"
    }
   },
   "outputs": [],
   "source": [
    "cat_select_df"
   ]
  },
  {
   "cell_type": "markdown",
   "id": "a991ff31",
   "metadata": {
    "ExecuteTime": {
     "end_time": "2023-07-03T18:00:34.137144Z",
     "start_time": "2023-07-03T18:00:34.134049Z"
    }
   },
   "source": [
    "### load GCMT catalog"
   ]
  },
  {
   "cell_type": "code",
   "execution_count": null,
   "id": "96c95a27",
   "metadata": {
    "ExecuteTime": {
     "end_time": "2023-07-28T10:24:20.997693Z",
     "start_time": "2023-07-28T10:24:18.213213Z"
    },
    "execution": {
     "iopub.status.busy": "2023-08-09T22:01:34.727738Z",
     "iopub.status.idle": "2023-08-09T22:01:34.727947Z",
     "shell.execute_reply": "2023-08-09T22:01:34.727869Z",
     "shell.execute_reply.started": "2023-08-09T22:01:34.727860Z"
    }
   },
   "outputs": [],
   "source": [
    "cat_gcmt = obs.read_events(config['path_to_catalogs']+config['gcmt_file'])"
   ]
  },
  {
   "cell_type": "code",
   "execution_count": null,
   "id": "c0b4fa65",
   "metadata": {
    "ExecuteTime": {
     "end_time": "2023-07-28T10:24:21.006312Z",
     "start_time": "2023-07-28T10:24:20.998920Z"
    },
    "execution": {
     "iopub.status.busy": "2023-08-09T22:01:34.729760Z",
     "iopub.status.idle": "2023-08-09T22:01:34.730195Z",
     "shell.execute_reply": "2023-08-09T22:01:34.730023Z",
     "shell.execute_reply.started": "2023-08-09T22:01:34.730004Z"
    }
   },
   "outputs": [],
   "source": [
    "cat_gcmt_df = __catalog_to_dataframe(cat_gcmt)\n",
    "cat_gcmt_df.magnitude.min(), cat_gcmt_df.shape"
   ]
  },
  {
   "cell_type": "code",
   "execution_count": null,
   "id": "4c4639c2",
   "metadata": {
    "ExecuteTime": {
     "end_time": "2023-07-28T10:24:28.602758Z",
     "start_time": "2023-07-28T10:24:28.474894Z"
    },
    "execution": {
     "iopub.status.busy": "2023-08-09T22:01:34.731312Z",
     "iopub.status.idle": "2023-08-09T22:01:34.731676Z",
     "shell.execute_reply": "2023-08-09T22:01:34.731523Z",
     "shell.execute_reply.started": "2023-08-09T22:01:34.731506Z"
    }
   },
   "outputs": [],
   "source": [
    "cat_gcmt_usgs = obs.read_events(config['path_to_catalogs']+\"gmt_usgs_m3_m4.xml\")\n",
    "cat_gcmt_usgs = cat_gcmt_usgs.filter(\"magnitude >= 4.0\", \"time > 2022-12-31\", \"time < 2023-01-01\")"
   ]
  },
  {
   "cell_type": "markdown",
   "id": "ad006822",
   "metadata": {},
   "source": [
    "### load shape file for faults"
   ]
  },
  {
   "cell_type": "markdown",
   "id": "0d4d1c2d",
   "metadata": {},
   "source": [
    "from USGS: https://usgs.maps.arcgis.com/apps/webappviewer/index.html?id=5a6038b3a1684561a9b0aadf88412fcf"
   ]
  },
  {
   "cell_type": "code",
   "execution_count": null,
   "id": "fa21e2a1",
   "metadata": {
    "ExecuteTime": {
     "end_time": "2023-07-17T11:15:43.435069Z",
     "start_time": "2023-07-17T11:15:43.430182Z"
    },
    "execution": {
     "iopub.status.busy": "2023-08-09T22:01:34.733536Z",
     "iopub.status.idle": "2023-08-09T22:01:34.733821Z",
     "shell.execute_reply": "2023-08-09T22:01:34.733717Z",
     "shell.execute_reply.started": "2023-08-09T22:01:34.733707Z"
    }
   },
   "outputs": [],
   "source": [
    "# faults = gpd.read_file(config['path_to_data']+\"hazfaults2014/hazfaults2014.shp\")"
   ]
  },
  {
   "cell_type": "code",
   "execution_count": null,
   "id": "fdace001",
   "metadata": {
    "ExecuteTime": {
     "end_time": "2023-07-17T11:15:43.444021Z",
     "start_time": "2023-07-17T11:15:43.440229Z"
    },
    "execution": {
     "iopub.status.busy": "2023-08-09T22:01:34.735573Z",
     "iopub.status.idle": "2023-08-09T22:01:34.736092Z",
     "shell.execute_reply": "2023-08-09T22:01:34.735906Z",
     "shell.execute_reply.started": "2023-08-09T22:01:34.735886Z"
    }
   },
   "outputs": [],
   "source": [
    "# x,y = faults.geometry[0].coords.xy\n",
    "# print(np.array(x))\n",
    "# plt.plot(x,y)"
   ]
  },
  {
   "cell_type": "markdown",
   "id": "209fc723",
   "metadata": {},
   "source": [
    "## Plot Triggered Catalog"
   ]
  },
  {
   "cell_type": "markdown",
   "id": "7a206c2b",
   "metadata": {
    "ExecuteTime": {
     "end_time": "2023-04-16T20:27:28.790409Z",
     "start_time": "2023-04-16T20:27:28.783640Z"
    }
   },
   "source": [
    "### Plots"
   ]
  },
  {
   "cell_type": "code",
   "execution_count": null,
   "id": "2f474d8a",
   "metadata": {
    "ExecuteTime": {
     "end_time": "2023-07-28T10:30:01.117795Z",
     "start_time": "2023-07-28T10:30:01.112708Z"
    },
    "code_folding": [],
    "execution": {
     "iopub.status.busy": "2023-08-09T22:01:34.736878Z",
     "iopub.status.idle": "2023-08-09T22:01:34.737703Z",
     "shell.execute_reply": "2023-08-09T22:01:34.737433Z",
     "shell.execute_reply.started": "2023-08-09T22:01:34.737406Z"
    }
   },
   "outputs": [],
   "source": [
    "def __plot_timeline(catalog_df, catalog_all_df):\n",
    "\n",
    "    fig, ax = plt.subplots(1, 1, figsize=(15,5))\n",
    "\n",
    "    catalog_all_df.sort_values(\"magnitude\")\n",
    "    catalog_df.sort_values(\"magnitude\")\n",
    "\n",
    "    cm = plt.get_cmap('viridis', 5)\n",
    "#     cm.set_under('gray')\n",
    "\n",
    "    cax = ax.scatter(catalog_df.origin,\n",
    "                     catalog_df.distances_km,\n",
    "                     s=4**catalog_df.magnitude,\n",
    "                     c=catalog_df.magnitude,\n",
    "                     alpha=0.8,\n",
    "                     cmap=cm,\n",
    "                     marker='o',\n",
    "                     facecolors='none',\n",
    "                     edgecolors='k',\n",
    "                     vmin=0,\n",
    "                     vmax=5\n",
    "                    )\n",
    "\n",
    "    ax.scatter(catalog_all_df.timestamp, catalog_all_df.distances_km,\n",
    "               s=4**catalog_all_df.magnitude,\n",
    "               c='grey', alpha=0.5, zorder=-1)\n",
    "\n",
    "\n",
    "\n",
    "\n",
    "    cbar = plt.colorbar(cax, ax=ax, cmap=cm, pad=0.01, aspect=15, drawedges=False)\n",
    "    cbar.set_label(label='Magnitude', size=16, color=\"white\", labelpad=-31)\n",
    "#     cbar.set_clim(0.0, 5.0)\n",
    "#     cbar.ax.set_ylim(0.0, 5.0)\n",
    "#\n",
    "    ax.set_ylim(bottom=0)\n",
    "    ax.set_ylabel(\"Distance (km)\", fontsize=14)\n",
    "\n",
    "    ax.grid(ls=\":\", zorder=-1)\n",
    "\n",
    "    ax.set_xlim(ax.get_xlim()[0]+5, ax.get_xlim()[1]-5)\n",
    "#     ax.set_xlim(config['tbeg']-4*86400, config['tend']+4*86400)\n",
    "\n",
    "    ax.set_title(f\"triggered={len(catalog_df)} of {len(catalog_all_df)} events\", fontsize=18)\n",
    "\n",
    "#     ax.tick_params(axis=\"y\", labelsize=15)\n",
    "#     ax.tick_params(axis=\"x\", labelsize=15)\n",
    "\n",
    "    plt.show();\n",
    "    return fig"
   ]
  },
  {
   "cell_type": "code",
   "execution_count": null,
   "id": "4261dacc",
   "metadata": {
    "ExecuteTime": {
     "end_time": "2023-07-28T10:30:01.315649Z",
     "start_time": "2023-07-28T10:30:01.306561Z"
    },
    "execution": {
     "iopub.status.busy": "2023-08-09T22:01:34.739150Z",
     "iopub.status.idle": "2023-08-09T22:01:34.739577Z",
     "shell.execute_reply": "2023-08-09T22:01:34.739393Z",
     "shell.execute_reply.started": "2023-08-09T22:01:34.739374Z"
    }
   },
   "outputs": [],
   "source": [
    "events_all_df[events_all_df.magnitude > 4.1]"
   ]
  },
  {
   "cell_type": "code",
   "execution_count": null,
   "id": "2bd76829",
   "metadata": {
    "ExecuteTime": {
     "end_time": "2023-07-28T10:30:01.891911Z",
     "start_time": "2023-07-28T10:30:01.518867Z"
    },
    "code_folding": [
     0
    ],
    "execution": {
     "iopub.status.busy": "2023-08-09T22:01:34.740486Z",
     "iopub.status.idle": "2023-08-09T22:01:34.740968Z",
     "shell.execute_reply": "2023-08-09T22:01:34.740759Z",
     "shell.execute_reply.started": "2023-08-09T22:01:34.740736Z"
    }
   },
   "outputs": [],
   "source": [
    "fig = __plot_timeline(cat_select_df, events_all_df)\n",
    "\n",
    "fig.savefig(config['out_figures']+\"timeline_triggered_extended.png\")"
   ]
  },
  {
   "cell_type": "code",
   "execution_count": null,
   "id": "7801bbf5",
   "metadata": {
    "ExecuteTime": {
     "end_time": "2023-07-28T10:31:02.876157Z",
     "start_time": "2023-07-28T10:31:02.505597Z"
    },
    "execution": {
     "iopub.status.busy": "2023-08-09T22:01:34.742542Z",
     "iopub.status.idle": "2023-08-09T22:01:34.743178Z",
     "shell.execute_reply": "2023-08-09T22:01:34.742978Z",
     "shell.execute_reply.started": "2023-08-09T22:01:34.742955Z"
    }
   },
   "outputs": [],
   "source": [
    "__savefig(fig, config['out_figures'], \"BSPF_timeline_trigger\", mode=\"png\", dpi=200)"
   ]
  },
  {
   "cell_type": "markdown",
   "id": "c9a41e53",
   "metadata": {
    "ExecuteTime": {
     "end_time": "2023-04-17T12:59:34.878434Z",
     "start_time": "2023-04-17T12:59:34.870785Z"
    }
   },
   "source": [
    "### Map Plot"
   ]
  },
  {
   "cell_type": "code",
   "execution_count": null,
   "id": "60dcdc03",
   "metadata": {
    "ExecuteTime": {
     "end_time": "2023-07-28T10:31:06.191006Z",
     "start_time": "2023-07-28T10:31:06.159042Z"
    },
    "code_folding": [
     0,
     7
    ],
    "execution": {
     "iopub.status.busy": "2023-08-09T22:01:34.746463Z",
     "iopub.status.idle": "2023-08-09T22:01:34.746894Z",
     "shell.execute_reply": "2023-08-09T22:01:34.746721Z",
     "shell.execute_reply.started": "2023-08-09T22:01:34.746702Z"
    }
   },
   "outputs": [],
   "source": [
    "def __makeplot_eventmap(config, data1, data2):\n",
    "\n",
    "    import pygmt\n",
    "    import pandas as pd\n",
    "    from obspy.imaging.beachball import beach\n",
    "\n",
    "    def __plot_focal_mechanism(catalog):\n",
    "\n",
    "        for ii in range(len(cat_gcmt_usgs)):\n",
    "\n",
    "            try:\n",
    "                strike = catalog.events[ii].focal_mechanisms[0].nodal_planes.nodal_plane_1.strike\n",
    "                rake = catalog.events[ii].focal_mechanisms[0].nodal_planes.nodal_plane_1.rake\n",
    "                dip = catalog.events[ii].focal_mechanisms[0].nodal_planes.nodal_plane_1.dip\n",
    "                mag = catalog.events[ii].magnitudes[0].mag\n",
    "\n",
    "                lat = catalog.events[ii].origins[0].latitude\n",
    "                lon = catalog.events[ii].origins[0].longitude\n",
    "                dep = catalog.events[ii].origins[0].depth\n",
    "\n",
    "                focal_mechanism = dict(strike=strike, dip=dip, rake=rake, magnitude=mag)\n",
    "\n",
    "                fig.meca(\n",
    "                    spec=focal_mechanism,\n",
    "                    scale=\"0.8c\",\n",
    "                    longitude=lon,\n",
    "                    latitude=lat,\n",
    "                    depth=dep,\n",
    "                )\n",
    "\n",
    "            except:\n",
    "                print(f\" -> failed for event {ii}\")\n",
    "\n",
    "\n",
    "    # Set the region\n",
    "    region = [config['minlongitude'], config['maxlongitude'], config['minlatitude'], config['maxlatitude']]\n",
    "\n",
    "    resolution = \"30s\"\n",
    "\n",
    "    fig = pygmt.Figure()\n",
    "\n",
    "#     fig.basemap(region=region, projection=\"M15c\", frame=True)\n",
    "\n",
    "\n",
    "    # make color pallets\n",
    "    cmap = pygmt.makecpt(cmap='etopo1', series='-7999/5000/1000', continuous=True)\n",
    "\n",
    "    ## define etopo data file\n",
    "    topo_data = pygmt.datasets.load_earth_relief(resolution=resolution, region=region)\n",
    "\n",
    "    ## adjust land and sea/lakes\n",
    "#     land = topo_data * pygmt.grdlandmask(region=region,\n",
    "#                                          spacing=resolution,\n",
    "#                                          maskvalues=[0, 1],\n",
    "#                                          resolution=\"f\"\n",
    "#                                         )\n",
    "    wet = topo_data * pygmt.grdlandmask(region=region,\n",
    "                                        spacing=resolution,\n",
    "                                        maskvalues=[1, \"NaN\"],\n",
    "                                        resolution=\"f\"\n",
    "                                       )\n",
    "\n",
    "    ##plot high res topography\n",
    "    fig.grdimage(\n",
    "        grid=topo_data,\n",
    "        region=region,\n",
    "        projection='M5i',\n",
    "        shading=True,\n",
    "        cmap = cmap,\n",
    "        frame=True,\n",
    "        nan_transparent=True\n",
    "    )\n",
    "\n",
    "\n",
    "#     cmap_wet = pygmt.makecpt(cmap='etopo1', series='-7999/5000/1000', continuous=True)\n",
    "\n",
    "    fig.grdimage(\n",
    "        grid=wet,\n",
    "        region=region,\n",
    "        projection='M5i',\n",
    "        shading=True,\n",
    "        cmap='seafloor',\n",
    "        frame=True,\n",
    "        nan_transparent=True,\n",
    "    )\n",
    "\n",
    "\n",
    "    cmap = pygmt.makecpt(cmap='etopo1', series='-8000/5000/1000', continuous=True)\n",
    "    fig.colorbar(cmap=cmap, position=\"g-118.8/32.45+w3c/0.3c+h\", box=\"+gwhite+c0.1+r\",\n",
    "                 frame=[\"x+lElevation\", r\"y+l(km)\"], scale=0.001, transparency=20)\n",
    "\n",
    "\n",
    "    ## add coastlines\n",
    "    fig.coast(shorelines=True, borders=\"1/0.4p,black,solid\", frame=False)\n",
    "\n",
    "    ## add map scale\n",
    "    fig.basemap(map_scale=\"jBL+c32+f+w50k+u+o10.9/.6\",frame=False)\n",
    "\n",
    "    ## add north rose\n",
    "#     fig.basemap(rose='jTR+o0.1c+w1c',frame=False)\n",
    "\n",
    "    ## add fault lines\n",
    "    for n in range(faults.shape[0]):\n",
    "        try:\n",
    "            xx, yy = faults.geometry[n].coords.xy\n",
    "            fig.plot(x=xx,y=yy,pen=\"1p,red\")\n",
    "        except:\n",
    "            print(n)\n",
    "\n",
    "    ## colorbar colormap\n",
    "#     cmap_mag = pygmt.makecpt(cmap=\"viridis\", series=[data1.magnitude.min(), data1.magnitude.max()])\n",
    "#     cmap_mag = pygmt.makecpt(cmap=\"viridis\", series=[data1.timestamp.astype(str)[0], data1.timestamp.astype(str)[len(data1)-1]])\n",
    "#     cmap_mag = pygmt.makecpt(cmap=\"viridis\", series=[data1.seconds.min(), data1.seconds.max()])\n",
    "    cmap_depth = pygmt.makecpt(cmap=\"viridis\", series=[data1.depth.min()/1000, data1.depth.max()/1000])\n",
    "\n",
    "#     ## plot data coordinates\n",
    "    fig.plot(\n",
    "        x=data2.longitude,\n",
    "        y=data2.latitude,\n",
    "        size=0.04*2**data2.magnitude,\n",
    "        fill='grey',\n",
    "        style=\"cc\",\n",
    "        pen=\"0p,black\",\n",
    "    )\n",
    "\n",
    "    fig.plot(\n",
    "        x=data1.longitude,\n",
    "        y=data1.latitude,\n",
    "        size=0.04*2**data1.magnitude,\n",
    "        fill=data1.depth/1000,\n",
    "#         fill=data1.seconds,\n",
    "        cmap=True,\n",
    "        style=\"cc\",\n",
    "        pen=\"0.1p,black\",\n",
    "        transparency=50,\n",
    "    )\n",
    "\n",
    "    ## plot PFO\n",
    "    fig.plot(\n",
    "        x=config['BSPF_lon'],\n",
    "        y=config['BSPF_lat'],\n",
    "        size=np.array([0.3]),\n",
    "        fill=\"red\",\n",
    "        style=\"t0.5c\",\n",
    "        pen=\"black\",\n",
    "    )\n",
    "\n",
    "    fig.text(\n",
    "        text=\"PFO\",\n",
    "        x=config['BSPF_lon'],\n",
    "        y=config['BSPF_lat'],\n",
    "        offset=[0.35],\n",
    "        font=\"9p,Helvetica-Bold,black\"\n",
    "    )\n",
    "\n",
    "    ## add beachball\n",
    "    __plot_focal_mechanism(cat_gcmt_usgs)\n",
    "\n",
    "#     fig.plot(\n",
    "#         x=config['BSPF_lon'],\n",
    "#         y=config['BSPF_lat'],\n",
    "#         size=10,\n",
    "#         style=\"cc\",\n",
    "#         pen=\"0.1p,red\",\n",
    "#         transparency=100,\n",
    "#     )\n",
    "\n",
    "    ## add depth colorbar\n",
    "#     fig.colorbar(frame='af+l\"Depth (km)\"', cmap=cmap_depth)\n",
    "#     fig.colorbar(frame='af+l\"Days\"', transparency=20, cmap=cmap_mag,\n",
    "#                  position=\"JMR+o-2.2c/3.1c+w5c/0.5c+n+mc\", scale=1/86400,\n",
    "#                  box=\"+gwhite+c0.1+r\")\n",
    "    fig.colorbar(frame='af+l\"Depth (km)\"', transparency=20, cmap=cmap_depth,\n",
    "                 position=\"JMR+o-2.2c/3.1c+w5c/0.5c+n+mc\",\n",
    "                 box=\"+gwhite+c0.1+r\")\n",
    "\n",
    "    ## ________________________________________________\n",
    "    ## overview plot\n",
    "\n",
    "    region2 = [-122, -50, 20, 55]\n",
    "\n",
    "    with fig.inset(position=\"jBL+o0.5c/0.2c\", box=\"+pblack\", region=region2, projection=\"M4c\"):\n",
    "        # Use a plotting method to create a figure inside the inset.\n",
    "        fig.coast(\n",
    "            land=\"gray\",\n",
    "            borders=[1, 2],\n",
    "            shorelines=\"1/thin\",\n",
    "            water=\"white\",\n",
    "            # Use dcw to selectively highlight an area\n",
    "#             dcw=\"US+gred\",\n",
    "        )\n",
    "        fig.plot(\n",
    "            x=config['BSPF_lon'],\n",
    "            y=config['BSPF_lat'],\n",
    "            size=np.array([0.3]),\n",
    "            fill=\"red\",\n",
    "            style=\"t0.3c\",\n",
    "            pen=\"black\",\n",
    "        )\n",
    "\n",
    "    ## save figure to file\n",
    "    fig.savefig(config['outpath']+'tmp_event_map.png')\n",
    "\n",
    "    fig.show();\n",
    "    return fig"
   ]
  },
  {
   "cell_type": "code",
   "execution_count": null,
   "id": "600ef1b6",
   "metadata": {
    "ExecuteTime": {
     "end_time": "2023-07-28T10:31:16.557084Z",
     "start_time": "2023-07-28T10:31:08.361254Z"
    },
    "execution": {
     "iopub.status.busy": "2023-08-09T22:01:34.748537Z",
     "iopub.status.idle": "2023-08-09T22:01:34.748947Z",
     "shell.execute_reply": "2023-08-09T22:01:34.748773Z",
     "shell.execute_reply.started": "2023-08-09T22:01:34.748756Z"
    }
   },
   "outputs": [],
   "source": [
    "fig = __makeplot_eventmap(config, cat_select_df, events_all_df)"
   ]
  },
  {
   "cell_type": "code",
   "execution_count": null,
   "id": "d09f85f8",
   "metadata": {
    "ExecuteTime": {
     "end_time": "2023-07-28T10:31:16.558183Z",
     "start_time": "2023-07-28T10:31:08.565Z"
    },
    "execution": {
     "iopub.status.busy": "2023-08-09T22:01:34.750215Z",
     "iopub.status.idle": "2023-08-09T22:01:34.751807Z",
     "shell.execute_reply": "2023-08-09T22:01:34.751600Z",
     "shell.execute_reply.started": "2023-08-09T22:01:34.751572Z"
    }
   },
   "outputs": [],
   "source": [
    "fig.savefig(config['out_figures']+\"map_triggered.png\")"
   ]
  },
  {
   "cell_type": "markdown",
   "id": "7c2f7bbd",
   "metadata": {},
   "source": [
    "### Centered Plot"
   ]
  },
  {
   "cell_type": "code",
   "execution_count": null,
   "id": "ca5e1d9f",
   "metadata": {
    "ExecuteTime": {
     "end_time": "2023-07-17T11:16:10.491325Z",
     "start_time": "2023-07-17T11:16:10.486718Z"
    },
    "execution": {
     "iopub.status.busy": "2023-08-09T22:01:34.754701Z",
     "iopub.status.idle": "2023-08-09T22:01:34.755164Z",
     "shell.execute_reply": "2023-08-09T22:01:34.754976Z",
     "shell.execute_reply.started": "2023-08-09T22:01:34.754958Z"
    }
   },
   "outputs": [],
   "source": [
    "# client = Client(\"ISC\")\n",
    "\n",
    "# ## events - all in area and time period\n",
    "# events_all = client.get_events(minlatitude=config['minlatitude'], maxlatitude=config['maxlatitude'],\n",
    "#                                minlongitude=config['minlongitude'], maxlongitude=config['maxlongitude'],\n",
    "#                                starttime=config['tbeg'],\n",
    "#                                endtime=config['tend'],\n",
    "#                                )"
   ]
  },
  {
   "cell_type": "code",
   "execution_count": null,
   "id": "20bd6d32",
   "metadata": {
    "ExecuteTime": {
     "end_time": "2023-07-17T11:16:10.498155Z",
     "start_time": "2023-07-17T11:16:10.495244Z"
    },
    "execution": {
     "iopub.status.busy": "2023-08-09T22:01:34.756434Z",
     "iopub.status.idle": "2023-08-09T22:01:34.756824Z",
     "shell.execute_reply": "2023-08-09T22:01:34.756661Z",
     "shell.execute_reply.started": "2023-08-09T22:01:34.756643Z"
    }
   },
   "outputs": [],
   "source": [
    "# origin = event.preferred_origin() or event.origins[0]\n",
    "# focmec = event.preferred_focal_mechanism() or event.focal_mechanisms[0]\n",
    "# tensor = focmec.moment_tensor.tensor\n",
    "# moment_list = [tensor.m_rr, tensor.m_tt, tensor.m_pp,\n",
    "#                tensor.m_rt, tensor.m_rp, tensor.m_tp]"
   ]
  },
  {
   "cell_type": "code",
   "execution_count": null,
   "id": "545cb60b",
   "metadata": {
    "ExecuteTime": {
     "end_time": "2023-07-28T10:31:30.456029Z",
     "start_time": "2023-07-28T10:31:30.439460Z"
    },
    "code_folding": [],
    "execution": {
     "iopub.status.busy": "2023-08-09T22:01:34.757745Z",
     "iopub.status.idle": "2023-08-09T22:01:34.758213Z",
     "shell.execute_reply": "2023-08-09T22:01:34.758017Z",
     "shell.execute_reply.started": "2023-08-09T22:01:34.757998Z"
    }
   },
   "outputs": [],
   "source": [
    "def __makeplot_polarmap(config, data1, data2):\n",
    "\n",
    "    import pygmt\n",
    "\n",
    "    reg = [config['minlongitude'], config['maxlongitude'], config['minlatitude'], config['maxlatitude']]\n",
    "\n",
    "    scale = \"8c\"\n",
    "\n",
    "    proj = f\"E{config['BSPF_lon'][0]}/{config['BSPF_lat'][0]}/1/{scale}\"\n",
    "\n",
    "    resolution = \"30s\"\n",
    "\n",
    "    ## __________________________________________\n",
    "\n",
    "    fig = pygmt.Figure()\n",
    "\n",
    "    fig.coast(projection=proj, region=reg, land=\"gray\")\n",
    "\n",
    "\n",
    "    fig.basemap(\n",
    "        region=[0, 360, 0, 10],\n",
    "        projection=f\"P{scale}+a\",\n",
    "        frame=[\"xa45f\", \"+t\"],\n",
    "    )\n",
    "\n",
    "\n",
    "    # make color pallets\n",
    "    cmap = pygmt.makecpt(cmap='etopo1', series='-7999/5000/1000', continuous=True)\n",
    "\n",
    "    ## define etopo data file\n",
    "    topo_data = pygmt.datasets.load_earth_relief(resolution=resolution, region=reg)\n",
    "\n",
    "\n",
    "\n",
    "    ##plot high res topography\n",
    "    fig.grdimage(\n",
    "        grid=topo_data,\n",
    "        region=reg,\n",
    "        projection=proj,\n",
    "        shading=True,\n",
    "        cmap = cmap,\n",
    "        frame=True,\n",
    "        nan_transparent=True\n",
    "    )\n",
    "\n",
    "    wet = topo_data * pygmt.grdlandmask(region=reg,  spacing=resolution, maskvalues=[1, \"NaN\"], resolution=\"f\")\n",
    "\n",
    "    fig.grdimage(\n",
    "        grid=wet,\n",
    "        region=reg,\n",
    "        projection=proj,\n",
    "        shading=True,\n",
    "        cmap='seafloor',\n",
    "        frame=True,\n",
    "        nan_transparent=True\n",
    "    )\n",
    "\n",
    "    fig.coast(shorelines=True, borders=\"1/0.4p,black,solid\", frame=False)\n",
    "\n",
    "    ## colorbar colormap\n",
    "    cmap_mag = pygmt.makecpt(cmap=\"viridis\", series=[data1.magnitude.min(), data1.magnitude.max()])\n",
    "    #     cmap_mag = pygmt.makecpt(cmap=\"viridis\", series=[data1.timestamp.astype(str)[0], data1.timestamp.astype(str)[len(data1)-1]])\n",
    "    cmap_mag = pygmt.makecpt(cmap=\"viridis\", series=[data1.seconds.min(), data1.seconds.max()])\n",
    "\n",
    "\n",
    "    ## plot data coordinates\n",
    "    fig.plot(\n",
    "        x=data2.longitude,\n",
    "        y=data2.latitude,\n",
    "        size=0.04*2**data2.magnitude,\n",
    "        fill='grey',\n",
    "        style=\"cc\",\n",
    "        pen=\"0p,black\",\n",
    "    )\n",
    "\n",
    "    fig.plot(\n",
    "        x=data1.longitude,\n",
    "        y=data1.latitude,\n",
    "        size=0.04\n",
    "        *2**data1.magnitude,\n",
    "        fill=data1.seconds,\n",
    "        cmap=True,\n",
    "        style=\"cc\",\n",
    "        pen=\"0.8p,black\",\n",
    "        transparency=50,\n",
    "    )\n",
    "\n",
    "    ## plot PFO\n",
    "    fig.plot(\n",
    "        region=reg, projection=proj,\n",
    "        x=config['BSPF_lon'],\n",
    "        y=config['BSPF_lat'],\n",
    "        size=np.array([0.3]),\n",
    "        fill=\"red\",\n",
    "        style=\"t0.5c\",\n",
    "        pen=\"black\",\n",
    "    )\n",
    "\n",
    "    fig.text(\n",
    "        region=reg, projection=proj,\n",
    "        text=\"PFO\",\n",
    "        x=config['BSPF_lon'],\n",
    "        y=config['BSPF_lat'],\n",
    "        offset=[0.35],\n",
    "        font=\"9p,Helvetica-Bold,black\"\n",
    "    )\n",
    "\n",
    "#     for n in range(faults.shape[0]):\n",
    "#         try:\n",
    "#             xx, yy = faults.geometry[n].coords.xy\n",
    "#             fig.plot(x=xx,y=yy,pen=\"1p,red\")\n",
    "#         except:\n",
    "#             print(n)\n",
    "\n",
    "    fig.show()\n",
    "    return fig"
   ]
  },
  {
   "cell_type": "code",
   "execution_count": null,
   "id": "5826b619",
   "metadata": {
    "ExecuteTime": {
     "end_time": "2023-07-28T10:31:53.893859Z",
     "start_time": "2023-07-28T10:31:30.675097Z"
    },
    "code_folding": [
     0
    ],
    "execution": {
     "iopub.status.busy": "2023-08-09T22:01:34.759297Z",
     "iopub.status.idle": "2023-08-09T22:01:34.759943Z",
     "shell.execute_reply": "2023-08-09T22:01:34.759707Z",
     "shell.execute_reply.started": "2023-08-09T22:01:34.759689Z"
    }
   },
   "outputs": [],
   "source": [
    "fig = __makeplot_polarmap(config, cat_select_df, events_all_df)"
   ]
  },
  {
   "cell_type": "code",
   "execution_count": null,
   "id": "93b7c913",
   "metadata": {
    "ExecuteTime": {
     "end_time": "2023-07-17T15:12:58.441715Z",
     "start_time": "2023-07-17T15:12:53.784062Z"
    },
    "execution": {
     "iopub.status.busy": "2023-08-09T22:01:34.760810Z",
     "iopub.status.idle": "2023-08-09T22:01:34.761648Z",
     "shell.execute_reply": "2023-08-09T22:01:34.761457Z",
     "shell.execute_reply.started": "2023-08-09T22:01:34.761437Z"
    }
   },
   "outputs": [],
   "source": [
    "fig.savefig(config['out_figures']+f'BSPF_polarmap.png', dpi=200)"
   ]
  },
  {
   "cell_type": "markdown",
   "id": "5812b168",
   "metadata": {
    "heading_collapsed": true
   },
   "source": [
    "## Plot Histogram"
   ]
  },
  {
   "cell_type": "code",
   "execution_count": null,
   "id": "21991e06",
   "metadata": {
    "ExecuteTime": {
     "end_time": "2023-07-17T11:16:41.175169Z",
     "start_time": "2023-07-17T11:16:41.175148Z"
    },
    "code_folding": [
     0
    ],
    "execution": {
     "iopub.status.busy": "2023-08-09T22:01:34.762759Z",
     "iopub.status.idle": "2023-08-09T22:01:34.763148Z",
     "shell.execute_reply": "2023-08-09T22:01:34.763033Z",
     "shell.execute_reply.started": "2023-08-09T22:01:34.763019Z"
    },
    "hidden": true
   },
   "outputs": [],
   "source": [
    "def __makeplot_histogram(catalog_all_df, catalog_df):\n",
    "\n",
    "    from sklearn.linear_model import LinearRegression\n",
    "    from numpy import log10, array, linspace\n",
    "\n",
    "\n",
    "    catalog_all_df = catalog_all_df.sort_values(\"magnitude\", ascending=False)\n",
    "    catalog_df = catalog_df.sort_values(\"magnitude\")\n",
    "\n",
    "    ## bins=11, range=[-0.75,4.75]\n",
    "#     hh_cum, bins_cum, _ = plt.hist(catalog_all_df.magnitude, bins=11, range=[-0.75,4.75], rwidth=0.9, color='#3776ab', cumulative=True)\n",
    "#     plt.close()\n",
    "#     bins_cum = [bins_cum[jj] + (abs(bins_cum[jj+1]-bins_cum[jj])/2) for jj in range(len(bins_cum)-1)]\n",
    "\n",
    "    ## compute bins catalog all\n",
    "    nn, bins = [], []\n",
    "    for i in range(-1, 7, 1):\n",
    "        nn.append(len(catalog_all_df[catalog_all_df.magnitude >= i]))\n",
    "        bins.append(i+0.5)\n",
    "\n",
    "    print(len(catalog_df), len(catalog_df[catalog_df.magnitude >= 4]))\n",
    "    ## compute bins catalog triggered\n",
    "    nn2, bins2 = [], []\n",
    "    for i in range(-1, 7, 1):\n",
    "        nn2.append(len(catalog_df[catalog_df.magnitude >= i]))\n",
    "        bins2.append(i+0.5)\n",
    "\n",
    "\n",
    "    x, y = array(bins)[2:-1], log10(nn[2:-1])\n",
    "\n",
    "    ## ________________________________\n",
    "\n",
    "    fig, ax = plt.subplots(1, 1, figsize=(5,5))\n",
    "\n",
    "    ## plot histograms catalog all\n",
    "    ax.bar(array(bins), nn, width=0.75, color='lightblue', zorder=2, alpha=0.8)\n",
    "    ax.bar(x, 10**y, width=0.75, zorder=2)\n",
    "\n",
    "    ## plot histograms catalog triggered\n",
    "    ax.bar(array(bins2), nn2, width=0.5, color='darkorange', zorder=2, alpha=0.5)\n",
    "#     ax.bar(x2, 10**y2, width=0.75, zorder=2)\n",
    "\n",
    "\n",
    "    ## linear regression\n",
    "    model = LinearRegression().fit(x.reshape((-1, 1)), y)\n",
    "    r_sq = model.score(x.reshape((-1, 1)), y)\n",
    "    x_axis = linspace(min(bins), max(bins), 50)\n",
    "    reg1 = model.intercept_ + model.coef_ * x_axis\n",
    "\n",
    "    ax.plot(x_axis, 10**reg1, color=\"k\", ls=\"--\", label=f\"f(x)={round(model.coef_[0],2)}x+{round(model.intercept_,1)}\")\n",
    "\n",
    "    ## linear regression\n",
    "    x2, y2 = x[:-1], y[:-1]\n",
    "    model = LinearRegression().fit(x2.reshape((-1, 1)), y2)\n",
    "    r_sq = model.score(x2.reshape((-1, 1)), y2)\n",
    "    x_axis = linspace(min(bins), max(bins), 50)\n",
    "    reg2 = model.intercept_ + model.coef_ * x_axis\n",
    "\n",
    "#     ax.plot(x_axis, 10**reg2, color=\"k\", ls=\":\", label=f\"f(x)={round(model.coef_[0],2)}x+{round(model.intercept_,1)}\")\n",
    "\n",
    "\n",
    "    ax.text(3.5, 9e3, f\"Total N = {len(catalog_all_df)}\", fontsize=13)\n",
    "\n",
    "    days = str(events_all_df.index.max()-events_all_df.index.min()).split(\" \")[0]\n",
    "    ax.text(3.5, 4e3, f\"Days = {days}\", fontsize=13)\n",
    "\n",
    "    ax.grid(zorder=-1, ls=\":\", alpha=0.7, which=\"both\")\n",
    "\n",
    "    ax.legend(loc=\"upper right\", fontsize=12)\n",
    "\n",
    "    ax.set_yscale(\"log\")\n",
    "\n",
    "    ax.set_xlabel(\"Magnitude\", fontsize=18)\n",
    "    ax.set_ylabel(\"Number of Events\", fontsize=18)\n",
    "\n",
    "    ax.tick_params(axis='x', labelsize=11)\n",
    "    ax.tick_params(axis='y', labelsize=11)\n",
    "\n",
    "    ax.set_xticks(array(bins)-0.5)\n",
    "\n",
    "    ax.set_title(f\"Gutenberg-Richter Relation\", fontsize=18)\n",
    "\n",
    "    ax.tick_params(axis=\"y\", labelsize=15)\n",
    "    ax.tick_params(axis=\"x\", labelsize=15)\n",
    "\n",
    "    ax.set_ylim(0.2e0, 1e5)\n",
    "    plt.show();\n",
    "    return fig"
   ]
  },
  {
   "cell_type": "code",
   "execution_count": null,
   "id": "4dffc526",
   "metadata": {
    "ExecuteTime": {
     "end_time": "2023-07-17T11:16:41.176684Z",
     "start_time": "2023-07-17T11:16:41.176674Z"
    },
    "execution": {
     "iopub.status.busy": "2023-08-09T22:01:34.763721Z",
     "iopub.status.idle": "2023-08-09T22:01:34.764184Z",
     "shell.execute_reply": "2023-08-09T22:01:34.764065Z",
     "shell.execute_reply.started": "2023-08-09T22:01:34.764050Z"
    },
    "hidden": true
   },
   "outputs": [],
   "source": [
    "fig = __makeplot_histogram(events_all_df, cat_select_df)\n",
    "\n",
    "fig.savefig(\"catalog_all_histo.png\")"
   ]
  },
  {
   "cell_type": "code",
   "execution_count": null,
   "id": "42a90ad7",
   "metadata": {
    "ExecuteTime": {
     "end_time": "2023-07-17T11:16:41.177531Z",
     "start_time": "2023-07-17T11:16:41.177522Z"
    },
    "execution": {
     "iopub.status.busy": "2023-08-09T22:01:34.764885Z",
     "iopub.status.idle": "2023-08-09T22:01:34.765558Z",
     "shell.execute_reply": "2023-08-09T22:01:34.765384Z",
     "shell.execute_reply.started": "2023-08-09T22:01:34.765367Z"
    },
    "hidden": true
   },
   "outputs": [],
   "source": [
    "import pygmt\n",
    "\n",
    "fig = pygmt.Figure()\n",
    "\n",
    "region = [config['minlongitude'], config['maxlongitude'], config['minlatitude'], config['maxlatitude']]\n",
    "\n",
    "\n",
    "fig.basemap(region=region, projection=\"M15c\", frame=True)\n",
    "\n",
    "for ii in range(len(cat_gcmt_usgs)):\n",
    "\n",
    "    try:\n",
    "        strike = cat_gcmt_usgs.events[ii].focal_mechanisms[0].nodal_planes.nodal_plane_1.strike\n",
    "        rake = cat_gcmt_usgs.events[ii].focal_mechanisms[0].nodal_planes.nodal_plane_1.rake\n",
    "        dip = cat_gcmt_usgs.events[ii].focal_mechanisms[0].nodal_planes.nodal_plane_1.dip\n",
    "        mag = cat_gcmt_usgs.events[ii].magnitudes[0].mag\n",
    "\n",
    "        lat = cat_gcmt_usgs.events[ii].origins[0].latitude\n",
    "        lon = cat_gcmt_usgs.events[ii].origins[0].longitude\n",
    "        dep = cat_gcmt_usgs.events[ii].origins[0].depth\n",
    "\n",
    "        focal_mechanism = dict(strike=strike, dip=dip, rake=rake, magnitude=mag)\n",
    "\n",
    "        fig.meca(\n",
    "            spec=focal_mechanism,\n",
    "            scale=\"1c\",\n",
    "            longitude=lon,\n",
    "            latitude=lat,\n",
    "            depth=dep,\n",
    "        )\n",
    "\n",
    "    except:\n",
    "        print(f\" -> failed for event {ii}\")\n",
    "\n",
    "\n",
    "fig.show()"
   ]
  },
  {
   "cell_type": "code",
   "execution_count": null,
   "id": "8c286671",
   "metadata": {
    "ExecuteTime": {
     "end_time": "2023-07-16T20:11:20.756649Z",
     "start_time": "2023-07-16T20:11:20.746574Z"
    },
    "hidden": true
   },
   "outputs": [],
   "source": []
  },
  {
   "cell_type": "code",
   "execution_count": null,
   "id": "4f57e908",
   "metadata": {
    "ExecuteTime": {
     "end_time": "2023-07-17T11:16:41.179290Z",
     "start_time": "2023-07-17T11:16:41.179271Z"
    },
    "execution": {
     "iopub.status.busy": "2023-08-09T22:01:34.767355Z",
     "iopub.status.idle": "2023-08-09T22:01:34.767996Z",
     "shell.execute_reply": "2023-08-09T22:01:34.767878Z",
     "shell.execute_reply.started": "2023-08-09T22:01:34.767856Z"
    },
    "hidden": true
   },
   "outputs": [],
   "source": [
    "from obspy.imaging.beachball import beachball\n",
    "\n",
    "\n",
    "mt = [0.91, -0.89, -0.02, 1.78, -1.55, 0.47]\n",
    "beachball(mt, size=2, linewidth=2, facecolor='k')"
   ]
  },
  {
   "cell_type": "code",
   "execution_count": null,
   "id": "c9b7e28b",
   "metadata": {
    "ExecuteTime": {
     "end_time": "2023-07-17T11:16:41.181031Z",
     "start_time": "2023-07-17T11:16:41.181013Z"
    },
    "execution": {
     "iopub.status.busy": "2023-08-09T22:01:34.768560Z",
     "iopub.status.idle": "2023-08-09T22:01:34.769162Z",
     "shell.execute_reply": "2023-08-09T22:01:34.769025Z",
     "shell.execute_reply.started": "2023-08-09T22:01:34.769008Z"
    },
    "hidden": true
   },
   "outputs": [],
   "source": [
    "for i in range(len(cat_gcmt_usgs)):\n",
    "    print(type(cat_gcmt_usgs.events[i].focal_mechanisms[0].moment_tensor))\n",
    "    try:\n",
    "        print(cat_gcmt_usgs.events[i].focal_mechanisms[0].nodal_planes.nodal_plane_1.strike)\n",
    "    except:\n",
    "        print(i)"
   ]
  },
  {
   "cell_type": "code",
   "execution_count": null,
   "id": "4eb2780d",
   "metadata": {
    "ExecuteTime": {
     "end_time": "2023-07-17T11:16:41.183467Z",
     "start_time": "2023-07-17T11:16:41.183458Z"
    },
    "execution": {
     "iopub.status.busy": "2023-08-09T22:01:34.769724Z",
     "iopub.status.idle": "2023-08-09T22:01:34.770146Z",
     "shell.execute_reply": "2023-08-09T22:01:34.770027Z",
     "shell.execute_reply.started": "2023-08-09T22:01:34.770012Z"
    },
    "hidden": true
   },
   "outputs": [],
   "source": [
    "print(cat_gcmt_usgs.events[0].focal_mechanisms[0].nodal_planes.nodal_plane_1.rake)\n",
    "print(cat_gcmt_usgs.events[0].magnitudes[0].mag)"
   ]
  },
  {
   "cell_type": "code",
   "execution_count": null,
   "id": "1bf68076",
   "metadata": {
    "hidden": true
   },
   "outputs": [],
   "source": []
  }
 ],
 "metadata": {
  "kernelspec": {
   "display_name": "Python 3 (ipykernel)",
   "language": "python",
   "name": "python3"
  },
  "language_info": {
   "codemirror_mode": {
    "name": "ipython",
    "version": 3
   },
   "file_extension": ".py",
   "mimetype": "text/x-python",
   "name": "python",
   "nbconvert_exporter": "python",
   "pygments_lexer": "ipython3",
   "version": "3.10.12"
  },
  "latex_envs": {
   "LaTeX_envs_menu_present": true,
   "autoclose": true,
   "autocomplete": true,
   "bibliofile": "biblio.bib",
   "cite_by": "apalike",
   "current_citInitial": 1,
   "eqLabelWithNumbers": true,
   "eqNumInitial": 1,
   "hotkeys": {
    "equation": "Ctrl-E",
    "itemize": "Ctrl-I"
   },
   "labels_anchors": false,
   "latex_user_defs": false,
   "report_style_numbering": false,
   "user_envs_cfg": false
  },
  "toc": {
   "base_numbering": 1,
   "nav_menu": {},
   "number_sections": true,
   "sideBar": true,
   "skip_h1_title": false,
   "title_cell": "Table of Contents",
   "title_sidebar": "Contents",
   "toc_cell": false,
   "toc_position": {},
   "toc_section_display": true,
   "toc_window_display": false
  },
  "varInspector": {
   "cols": {
    "lenName": 16,
    "lenType": 16,
    "lenVar": 40
   },
   "kernels_config": {
    "python": {
     "delete_cmd_postfix": "",
     "delete_cmd_prefix": "del ",
     "library": "var_list.py",
     "varRefreshCmd": "print(var_dic_list())"
    },
    "r": {
     "delete_cmd_postfix": ") ",
     "delete_cmd_prefix": "rm(",
     "library": "var_list.r",
     "varRefreshCmd": "cat(var_dic_list()) "
    }
   },
   "types_to_exclude": [
    "module",
    "function",
    "builtin_function_or_method",
    "instance",
    "_Feature"
   ],
   "window_display": false
  }
 },
 "nbformat": 4,
 "nbformat_minor": 5
}
