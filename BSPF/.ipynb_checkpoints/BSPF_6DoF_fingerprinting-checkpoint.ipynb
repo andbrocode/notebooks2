{
 "cells": [
  {
   "cell_type": "markdown",
   "id": "5fe4d14b",
   "metadata": {
    "ExecuteTime": {
     "end_time": "2022-09-13T00:35:24.926376Z",
     "start_time": "2022-09-13T00:35:24.923877Z"
    }
   },
   "source": [
    "# BSPF Event Analysis - Fingerprintting"
   ]
  },
  {
   "cell_type": "markdown",
   "id": "757621cf",
   "metadata": {},
   "source": [
    "With pressure sensor parascientific and new sensor "
   ]
  },
  {
   "cell_type": "code",
   "execution_count": 7,
   "id": "a32a7007",
   "metadata": {
    "ExecuteTime": {
     "end_time": "2023-04-26T12:48:22.643660Z",
     "start_time": "2023-04-26T12:48:21.116997Z"
    }
   },
   "outputs": [],
   "source": [
    "import os, sys\n",
    "import obspy as obs\n",
    "import matplotlib.pyplot as plt\n",
    "import numpy as np\n",
    "import pandas as pd\n",
    "import scipy\n",
    "\n",
    "sys.path.append(\"/home/andbro/andbro_python\")\n",
    "\n",
    "from andbro__store_as_pickle import __store_as_pickle\n",
    "from andbro__savefig import __savefig"
   ]
  },
  {
   "cell_type": "code",
   "execution_count": 8,
   "id": "2af50d75-34c0-44fd-bc07-e0e0aa47a3aa",
   "metadata": {},
   "outputs": [],
   "source": [
    "from functions.request_data import __request_data"
   ]
  },
  {
   "cell_type": "code",
   "execution_count": 9,
   "id": "8e2e2545",
   "metadata": {
    "ExecuteTime": {
     "end_time": "2023-04-26T12:48:22.864654Z",
     "start_time": "2023-04-26T12:48:22.658382Z"
    }
   },
   "outputs": [],
   "source": [
    "sys.path.append(\"/home/andbro/Documents/ROMY/twistpy/TwistPy/\")\n",
    "\n",
    "from twistpy.utils import stransform\n",
    "from twistpy.convenience import ricker\n",
    "from twistpy.polarization import (\n",
    "    TimeDomainAnalysis6C,\n",
    "    PolarizationModel6C,\n",
    "    SupportVectorMachine,\n",
    "    EstimatorConfiguration,\n",
    ")"
   ]
  },
  {
   "cell_type": "markdown",
   "id": "e5009dec",
   "metadata": {},
   "source": [
    "## Configurations"
   ]
  },
  {
   "cell_type": "code",
   "execution_count": 67,
   "id": "d919b01f",
   "metadata": {
    "ExecuteTime": {
     "end_time": "2023-04-26T12:59:06.400796Z",
     "start_time": "2023-04-26T12:59:06.383199Z"
    },
    "code_folding": []
   },
   "outputs": [],
   "source": [
    "config = {}\n",
    "\n",
    "## BSPF coordinates\n",
    "config['BSPF_lon'] = -116.455439\n",
    "config['BSPF_lat'] = 33.610643\n",
    "\n",
    "config['fmin'], config['fmax'] = 1.0, 17"
   ]
  },
  {
   "cell_type": "markdown",
   "id": "1e0fbdbb",
   "metadata": {},
   "source": [
    "## Load Data"
   ]
  },
  {
   "cell_type": "code",
   "execution_count": 68,
   "id": "01579739",
   "metadata": {},
   "outputs": [],
   "source": [
    "# from functions.request_data import __request_data"
   ]
  },
  {
   "cell_type": "code",
   "execution_count": 86,
   "id": "cf3577df",
   "metadata": {},
   "outputs": [],
   "source": [
    "st = obs.read(\"./event42_6c.mseed\")\n",
    "\n",
    "tbeg = st[0].stats.starttime\n",
    "tend = st[0].stats.endtime"
   ]
  },
  {
   "cell_type": "code",
   "execution_count": 70,
   "id": "30b8b3c1",
   "metadata": {},
   "outputs": [],
   "source": [
    "st = st.detrend(\"simple\").taper(0.1).filter(\"bandpass\", freqmin=config['fmin'], freqmax=config['fmax'], corners=4, zerophase=True)"
   ]
  },
  {
   "cell_type": "code",
   "execution_count": 87,
   "id": "a115c597",
   "metadata": {},
   "outputs": [
    {
     "data": {
      "text/plain": [
       "6 Trace(s) in Stream:\n",
       "PY.BSPF..HJE  | 2022-12-31T12:12:27.003700Z - 2022-12-31T12:13:00.003700Z | 40.0 Hz, 1321 samples\n",
       "PY.BSPF..HJN  | 2022-12-31T12:12:27.003700Z - 2022-12-31T12:13:00.003700Z | 40.0 Hz, 1321 samples\n",
       "PY.BSPF..HJZ  | 2022-12-31T12:12:27.003700Z - 2022-12-31T12:13:00.003700Z | 40.0 Hz, 1321 samples\n",
       "II.PFO.10.BHN | 2022-12-31T12:12:26.994538Z - 2022-12-31T12:12:59.994538Z | 40.0 Hz, 1321 samples\n",
       "II.PFO.10.BHE | 2022-12-31T12:12:26.994538Z - 2022-12-31T12:12:59.994538Z | 40.0 Hz, 1321 samples\n",
       "II.PFO.10.BHZ | 2022-12-31T12:12:26.994538Z - 2022-12-31T12:12:59.994538Z | 40.0 Hz, 1321 samples"
      ]
     },
     "execution_count": 87,
     "metadata": {},
     "output_type": "execute_result"
    }
   ],
   "source": [
    "st.trim(tbeg+20, tend-20)"
   ]
  },
  {
   "cell_type": "markdown",
   "id": "d8923d24",
   "metadata": {},
   "source": [
    "## S-Transform"
   ]
  },
  {
   "cell_type": "code",
   "execution_count": 188,
   "id": "ffa703f7",
   "metadata": {
    "ExecuteTime": {
     "end_time": "2023-04-26T12:57:39.373461Z",
     "start_time": "2023-04-26T12:57:39.265228Z"
    },
    "code_folding": [
     0
    ]
   },
   "outputs": [],
   "source": [
    "from functions.makeplotStream_cwt import __makeplotStream_cwt"
   ]
  },
  {
   "cell_type": "code",
   "execution_count": 189,
   "id": "83ef2c56",
   "metadata": {
    "ExecuteTime": {
     "end_time": "2023-04-26T12:57:43.810544Z",
     "start_time": "2023-04-26T12:57:41.036865Z"
    }
   },
   "outputs": [],
   "source": [
    "# fig = __makeplotStream_cwt(st, config);"
   ]
  },
  {
   "cell_type": "markdown",
   "id": "8fa07c53",
   "metadata": {},
   "source": [
    "## 6C Fingerprinting"
   ]
  },
  {
   "cell_type": "code",
   "execution_count": 190,
   "id": "41f2ce59",
   "metadata": {},
   "outputs": [],
   "source": [
    "from scipy.signal import hilbert, convolve\n",
    "from twistpy.convenience import ricker\n",
    "from twistpy.polarization import *"
   ]
  },
  {
   "cell_type": "code",
   "execution_count": 194,
   "id": "0d02c672",
   "metadata": {},
   "outputs": [],
   "source": [
    "acc = st.select(station=\"PFO*\").copy()\n",
    "rot = st.select(station=\"BSPF\").copy()\n",
    "\n",
    "scaling_velocity = 800\n",
    "\n",
    "for tr in rot:\n",
    "    tr.data *= scaling_velocity"
   ]
  },
  {
   "cell_type": "code",
   "execution_count": 205,
   "id": "ed3f2763",
   "metadata": {},
   "outputs": [
    {
     "name": "stdout",
     "output_type": "stream",
     "text": [
      "A trained model already exists with this name and is saved at '/home/brotzer/TwistPy/twistpy/SVC_models/nearsurface.pkl'\n",
      "Nothing will be done! Please delete the file above if you want to re-train this model.\n",
      "Computing covariance matrices...\n",
      "Covariance matrices computed!\n",
      "Performing eigen-decomposition of covariance matrices...\n",
      "Eigenvectors and eigenvalues have been computed!\n",
      "Wave type classification in progress...\n",
      "Wave types have been classified!\n"
     ]
    }
   ],
   "source": [
    "dt = rot[0].stats.delta\n",
    "\n",
    "# !rm /home/brotzer/TwistPy/twistpy/SVC_models/nearsurface.pkl\n",
    "\n",
    "svm = SupportVectorMachine(name=\"nearsurface\")\n",
    "\n",
    "svm.train(\n",
    "    wave_types=[\"R\", \"L\", \"P\", \"SV\", \"SH\", \"Noise\"],\n",
    "    N=10000,\n",
    "    scaling_velocity=scaling_velocity,\n",
    "    vp=(100, 3000),\n",
    "    vp_to_vs=(1.6, 2.2),\n",
    "    vl=(100, 3000),\n",
    "    vr=(100, 3000),\n",
    "    phi=(0, 360),\n",
    "    theta=(0, 90),\n",
    "    xi=(-90, 90),\n",
    "    free_surface=True,\n",
    "    C=1,\n",
    "    kernel=\"rbf\",\n",
    "    plot_confusion_matrix=False,\n",
    ")\n",
    "\n",
    "# rot.select(channel=\"*Z\")[0].data *= -1\n",
    "\n",
    "window = {\"window_length_seconds\": 20.0 * dt, \"overlap\": 0.5}\n",
    "\n",
    "analysis = TimeDomainAnalysis6C(\n",
    "    traN=acc.select(channel=\"*N\")[0],\n",
    "    traE=acc.select(channel=\"*E\")[0],\n",
    "    traZ=acc.select(channel=\"*Z\")[0],\n",
    "    rotN=rot.select(channel=\"*N\")[0],\n",
    "    rotE=rot.select(channel=\"*E\")[0],\n",
    "    rotZ=rot.select(channel=\"*Z\")[0],\n",
    "    window=window,\n",
    "    scaling_velocity=scaling_velocity,\n",
    "    timeaxis=\"rel\",\n",
    ")\n",
    "\n",
    "analysis.classify(svm=svm, eigenvector_to_classify=0)\n",
    "\n",
    "classification = analysis.classification[\"0\"]\n",
    "\n",
    "t_windows = (analysis.t_windows)  # Positions of the sliding time windows where the classification was performed"
   ]
  },
  {
   "cell_type": "code",
   "execution_count": 206,
   "id": "0e9e1cfd",
   "metadata": {},
   "outputs": [
    {
     "data": {
      "image/png": "[encoded data removed]",
      "text/plain": [
       "<Figure size 1080x360 with 2 Axes>"
      ]
     },
     "metadata": {},
     "output_type": "display_data"
    }
   ],
   "source": [
    "fig, (ax1, ax2) = plt.subplots(2, 1, sharex=True, figsize=(15, 5))\n",
    "\n",
    "t = acc.select(channel=\"*N\")[0].times()\n",
    "\n",
    "ax1.plot(t, acc.select(channel=\"*N\")[0].data, \"k:\", label=\"traN\")\n",
    "ax1.plot(t, acc.select(channel=\"*E\")[0].data, \"k--\", label=\"traE\")\n",
    "ax1.plot(t, acc.select(channel=\"*Z\")[0].data, \"k\", label=\"traZ\")\n",
    "ax1.plot(t, rot.select(channel=\"*N\")[0].data, \"r:\", label=\"rotN\")\n",
    "ax1.plot(t, rot.select(channel=\"*E\")[0].data, \"r--\", label=\"rotE\")\n",
    "ax1.plot(t, rot.select(channel=\"*Z\")[0].data, \"r\", label=\"rotZ\")\n",
    "ax1.legend(loc=\"center left\", bbox_to_anchor=(1, 0.5))\n",
    "ax1.set_title(\"Input signal\")\n",
    "\n",
    "ax2.plot(t_windows, classification, \"k.\")\n",
    "ax2.set_title(\"Wave type classification\")\n",
    "ax2.set_xlabel(\"Time (s)\")\n",
    "ax2.set_ylabel(\"Classification label\")\n",
    "\n",
    "plt.show();"
   ]
  },
  {
   "cell_type": "code",
   "execution_count": 207,
   "id": "26ec4646",
   "metadata": {},
   "outputs": [
    {
     "name": "stdout",
     "output_type": "stream",
     "text": [
      "Computing covariance matrices...\n",
      "Covariance matrices computed!\n",
      "Performing eigen-decomposition of covariance matrices...\n",
      "Eigenvectors and eigenvalues have been computed!\n",
      "Wave type classification in progress...\n"
     ]
    },
    {
     "ename": "KeyboardInterrupt",
     "evalue": "",
     "output_type": "error",
     "traceback": [
      "\u001b[0;31m---------------------------------------------------------------------------\u001b[0m",
      "\u001b[0;31mKeyboardInterrupt\u001b[0m                         Traceback (most recent call last)",
      "\u001b[0;32m<ipython-input-207-98cd3a31fa96>\u001b[0m in \u001b[0;36m<module>\u001b[0;34m\u001b[0m\n\u001b[1;32m     12\u001b[0m )\n\u001b[1;32m     13\u001b[0m \u001b[0;34m\u001b[0m\u001b[0m\n\u001b[0;32m---> 14\u001b[0;31m \u001b[0manalysis_tf\u001b[0m\u001b[0;34m.\u001b[0m\u001b[0mclassify\u001b[0m\u001b[0;34m(\u001b[0m\u001b[0msvm\u001b[0m\u001b[0;34m=\u001b[0m\u001b[0msvm\u001b[0m\u001b[0;34m,\u001b[0m \u001b[0meigenvector_to_classify\u001b[0m\u001b[0;34m=\u001b[0m\u001b[0;36m0\u001b[0m\u001b[0;34m)\u001b[0m\u001b[0;34m\u001b[0m\u001b[0;34m\u001b[0m\u001b[0m\n\u001b[0m\u001b[1;32m     15\u001b[0m \u001b[0;34m\u001b[0m\u001b[0m\n\u001b[1;32m     16\u001b[0m \u001b[0mclassification_tf\u001b[0m \u001b[0;34m=\u001b[0m \u001b[0manalysis_tf\u001b[0m\u001b[0;34m.\u001b[0m\u001b[0mclassification\u001b[0m\u001b[0;34m[\u001b[0m\u001b[0;34m\"0\"\u001b[0m\u001b[0;34m]\u001b[0m\u001b[0;34m\u001b[0m\u001b[0;34m\u001b[0m\u001b[0m\n",
      "\u001b[0;32m~/TwistPy/twistpy/polarization/timefrequency.py\u001b[0m in \u001b[0;36mclassify\u001b[0;34m(self, svm, eigenvector_to_classify, compute_dop)\u001b[0m\n\u001b[1;32m    400\u001b[0m         \u001b[0;32mif\u001b[0m \u001b[0mself\u001b[0m\u001b[0;34m.\u001b[0m\u001b[0mverbose\u001b[0m\u001b[0;34m:\u001b[0m\u001b[0;34m\u001b[0m\u001b[0;34m\u001b[0m\u001b[0m\n\u001b[1;32m    401\u001b[0m             \u001b[0mprint\u001b[0m\u001b[0;34m(\u001b[0m\u001b[0;34m\"Wave type classification in progress...\"\u001b[0m\u001b[0;34m)\u001b[0m\u001b[0;34m\u001b[0m\u001b[0;34m\u001b[0m\u001b[0m\n\u001b[0;32m--> 402\u001b[0;31m         \u001b[0mwave_types\u001b[0m \u001b[0;34m=\u001b[0m \u001b[0mmodel\u001b[0m\u001b[0;34m.\u001b[0m\u001b[0mpredict\u001b[0m\u001b[0;34m(\u001b[0m\u001b[0mdf\u001b[0m\u001b[0;34m)\u001b[0m\u001b[0;34m\u001b[0m\u001b[0;34m\u001b[0m\u001b[0m\n\u001b[0m\u001b[1;32m    403\u001b[0m         self.classification[str(eigenvector_to_classify)] = np.reshape(\n\u001b[1;32m    404\u001b[0m             \u001b[0mwave_types\u001b[0m\u001b[0;34m,\u001b[0m \u001b[0;34m(\u001b[0m\u001b[0mlen\u001b[0m\u001b[0;34m(\u001b[0m\u001b[0mself\u001b[0m\u001b[0;34m.\u001b[0m\u001b[0mf_pol\u001b[0m\u001b[0;34m)\u001b[0m\u001b[0;34m,\u001b[0m \u001b[0mlen\u001b[0m\u001b[0;34m(\u001b[0m\u001b[0mself\u001b[0m\u001b[0;34m.\u001b[0m\u001b[0mt_pol\u001b[0m\u001b[0;34m)\u001b[0m\u001b[0;34m)\u001b[0m\u001b[0;34m\u001b[0m\u001b[0;34m\u001b[0m\u001b[0m\n",
      "\u001b[0;32m~/anaconda3/lib/python3.7/site-packages/sklearn/svm/_base.py\u001b[0m in \u001b[0;36mpredict\u001b[0;34m(self, X)\u001b[0m\n\u001b[1;32m    613\u001b[0m             \u001b[0my\u001b[0m \u001b[0;34m=\u001b[0m \u001b[0mnp\u001b[0m\u001b[0;34m.\u001b[0m\u001b[0margmax\u001b[0m\u001b[0;34m(\u001b[0m\u001b[0mself\u001b[0m\u001b[0;34m.\u001b[0m\u001b[0mdecision_function\u001b[0m\u001b[0;34m(\u001b[0m\u001b[0mX\u001b[0m\u001b[0;34m)\u001b[0m\u001b[0;34m,\u001b[0m \u001b[0maxis\u001b[0m\u001b[0;34m=\u001b[0m\u001b[0;36m1\u001b[0m\u001b[0;34m)\u001b[0m\u001b[0;34m\u001b[0m\u001b[0;34m\u001b[0m\u001b[0m\n\u001b[1;32m    614\u001b[0m         \u001b[0;32melse\u001b[0m\u001b[0;34m:\u001b[0m\u001b[0;34m\u001b[0m\u001b[0;34m\u001b[0m\u001b[0m\n\u001b[0;32m--> 615\u001b[0;31m             \u001b[0my\u001b[0m \u001b[0;34m=\u001b[0m \u001b[0msuper\u001b[0m\u001b[0;34m(\u001b[0m\u001b[0;34m)\u001b[0m\u001b[0;34m.\u001b[0m\u001b[0mpredict\u001b[0m\u001b[0;34m(\u001b[0m\u001b[0mX\u001b[0m\u001b[0;34m)\u001b[0m\u001b[0;34m\u001b[0m\u001b[0;34m\u001b[0m\u001b[0m\n\u001b[0m\u001b[1;32m    616\u001b[0m         \u001b[0;32mreturn\u001b[0m \u001b[0mself\u001b[0m\u001b[0;34m.\u001b[0m\u001b[0mclasses_\u001b[0m\u001b[0;34m.\u001b[0m\u001b[0mtake\u001b[0m\u001b[0;34m(\u001b[0m\u001b[0mnp\u001b[0m\u001b[0;34m.\u001b[0m\u001b[0masarray\u001b[0m\u001b[0;34m(\u001b[0m\u001b[0my\u001b[0m\u001b[0;34m,\u001b[0m \u001b[0mdtype\u001b[0m\u001b[0;34m=\u001b[0m\u001b[0mnp\u001b[0m\u001b[0;34m.\u001b[0m\u001b[0mintp\u001b[0m\u001b[0;34m)\u001b[0m\u001b[0;34m)\u001b[0m\u001b[0;34m\u001b[0m\u001b[0;34m\u001b[0m\u001b[0m\n\u001b[1;32m    617\u001b[0m \u001b[0;34m\u001b[0m\u001b[0m\n",
      "\u001b[0;32m~/anaconda3/lib/python3.7/site-packages/sklearn/svm/_base.py\u001b[0m in \u001b[0;36mpredict\u001b[0;34m(self, X)\u001b[0m\n\u001b[1;32m    333\u001b[0m         \u001b[0mX\u001b[0m \u001b[0;34m=\u001b[0m \u001b[0mself\u001b[0m\u001b[0;34m.\u001b[0m\u001b[0m_validate_for_predict\u001b[0m\u001b[0;34m(\u001b[0m\u001b[0mX\u001b[0m\u001b[0;34m)\u001b[0m\u001b[0;34m\u001b[0m\u001b[0;34m\u001b[0m\u001b[0m\n\u001b[1;32m    334\u001b[0m         \u001b[0mpredict\u001b[0m \u001b[0;34m=\u001b[0m \u001b[0mself\u001b[0m\u001b[0;34m.\u001b[0m\u001b[0m_sparse_predict\u001b[0m \u001b[0;32mif\u001b[0m \u001b[0mself\u001b[0m\u001b[0;34m.\u001b[0m\u001b[0m_sparse\u001b[0m \u001b[0;32melse\u001b[0m \u001b[0mself\u001b[0m\u001b[0;34m.\u001b[0m\u001b[0m_dense_predict\u001b[0m\u001b[0;34m\u001b[0m\u001b[0;34m\u001b[0m\u001b[0m\n\u001b[0;32m--> 335\u001b[0;31m         \u001b[0;32mreturn\u001b[0m \u001b[0mpredict\u001b[0m\u001b[0;34m(\u001b[0m\u001b[0mX\u001b[0m\u001b[0;34m)\u001b[0m\u001b[0;34m\u001b[0m\u001b[0;34m\u001b[0m\u001b[0m\n\u001b[0m\u001b[1;32m    336\u001b[0m \u001b[0;34m\u001b[0m\u001b[0m\n\u001b[1;32m    337\u001b[0m     \u001b[0;32mdef\u001b[0m \u001b[0m_dense_predict\u001b[0m\u001b[0;34m(\u001b[0m\u001b[0mself\u001b[0m\u001b[0;34m,\u001b[0m \u001b[0mX\u001b[0m\u001b[0;34m)\u001b[0m\u001b[0;34m:\u001b[0m\u001b[0;34m\u001b[0m\u001b[0;34m\u001b[0m\u001b[0m\n",
      "\u001b[0;32m~/anaconda3/lib/python3.7/site-packages/sklearn/svm/_base.py\u001b[0m in \u001b[0;36m_dense_predict\u001b[0;34m(self, X)\u001b[0m\n\u001b[1;32m    355\u001b[0m             \u001b[0mself\u001b[0m\u001b[0;34m.\u001b[0m\u001b[0m_probA\u001b[0m\u001b[0;34m,\u001b[0m \u001b[0mself\u001b[0m\u001b[0;34m.\u001b[0m\u001b[0m_probB\u001b[0m\u001b[0;34m,\u001b[0m \u001b[0msvm_type\u001b[0m\u001b[0;34m=\u001b[0m\u001b[0msvm_type\u001b[0m\u001b[0;34m,\u001b[0m \u001b[0mkernel\u001b[0m\u001b[0;34m=\u001b[0m\u001b[0mkernel\u001b[0m\u001b[0;34m,\u001b[0m\u001b[0;34m\u001b[0m\u001b[0;34m\u001b[0m\u001b[0m\n\u001b[1;32m    356\u001b[0m             \u001b[0mdegree\u001b[0m\u001b[0;34m=\u001b[0m\u001b[0mself\u001b[0m\u001b[0;34m.\u001b[0m\u001b[0mdegree\u001b[0m\u001b[0;34m,\u001b[0m \u001b[0mcoef0\u001b[0m\u001b[0;34m=\u001b[0m\u001b[0mself\u001b[0m\u001b[0;34m.\u001b[0m\u001b[0mcoef0\u001b[0m\u001b[0;34m,\u001b[0m \u001b[0mgamma\u001b[0m\u001b[0;34m=\u001b[0m\u001b[0mself\u001b[0m\u001b[0;34m.\u001b[0m\u001b[0m_gamma\u001b[0m\u001b[0;34m,\u001b[0m\u001b[0;34m\u001b[0m\u001b[0;34m\u001b[0m\u001b[0m\n\u001b[0;32m--> 357\u001b[0;31m             cache_size=self.cache_size)\n\u001b[0m\u001b[1;32m    358\u001b[0m \u001b[0;34m\u001b[0m\u001b[0m\n\u001b[1;32m    359\u001b[0m     \u001b[0;32mdef\u001b[0m \u001b[0m_sparse_predict\u001b[0m\u001b[0;34m(\u001b[0m\u001b[0mself\u001b[0m\u001b[0;34m,\u001b[0m \u001b[0mX\u001b[0m\u001b[0;34m)\u001b[0m\u001b[0;34m:\u001b[0m\u001b[0;34m\u001b[0m\u001b[0;34m\u001b[0m\u001b[0m\n",
      "\u001b[0;31mKeyboardInterrupt\u001b[0m: "
     ]
    }
   ],
   "source": [
    "window = {\"number_of_periods\": 1, \"frequency_extent\": 2}\n",
    "\n",
    "analysis_tf = TimeFrequencyAnalysis6C(\n",
    "    traN=acc.select(channel=\"*N\")[0],\n",
    "    traE=acc.select(channel=\"*E\")[0],\n",
    "    traZ=acc.select(channel=\"*Z\")[0],\n",
    "    rotN=rot.select(channel=\"*N\")[0],\n",
    "    rotE=rot.select(channel=\"*E\")[0],\n",
    "    rotZ=rot.select(channel=\"*Z\")[0],\n",
    "    window=window,\n",
    "    timeaxis=\"rel\",\n",
    ")\n",
    "\n",
    "analysis_tf.classify(svm=svm, eigenvector_to_classify=0)\n",
    "\n",
    "classification_tf = analysis_tf.classification[\"0\"]\n"
   ]
  },
  {
   "cell_type": "code",
   "execution_count": null,
   "id": "d1120362",
   "metadata": {},
   "outputs": [],
   "source": [
    "fig, (ax1, ax2) = plt.subplots(2, 1, sharex=True, figsize=(15, 5))\n",
    "\n",
    "t = acc.select(channel=\"*N\")[0].times()\n",
    "\n",
    "ax1.plot(t, acc.select(channel=\"*N\")[0].data, \"k:\", label=\"traN\")\n",
    "ax1.plot(t, acc.select(channel=\"*E\")[0].data, \"k--\", label=\"traE\")\n",
    "ax1.plot(t, acc.select(channel=\"*Z\")[0].data, \"k\", label=\"traZ\")\n",
    "ax1.plot(t, rot.select(channel=\"*N\")[0].data*scaling_velocity, \"r:\", label=\"rotN\")\n",
    "ax1.plot(t, rot.select(channel=\"*E\")[0].data*scaling_velocity, \"r--\", label=\"rotE\")\n",
    "ax1.plot(t, rot.select(channel=\"*Z\")[0].data*scaling_velocity, \"r\", label=\"rotZ\")\n",
    "ax1.legend(loc=\"center left\", bbox_to_anchor=(1, 0.5))\n",
    "ax1.set_title(\"Input signal\")\n",
    "\n",
    "ax2.set_title(\"Wave type classification\")\n",
    "ax2.set_xlabel(\"Time (s)\")\n",
    "ax2.set_ylabel(\"Classification label\")\n",
    "analysis_tf.plot_classification(ax2)\n",
    "\n",
    "pos0 = ax1.get_position()\n",
    "pos = ax2.get_position()\n",
    "ax1.set_position([pos0.x0, pos0.y0, pos.width, pos.height])\n",
    "\n",
    "\n",
    "plt.show();"
   ]
  },
  {
   "cell_type": "markdown",
   "id": "d5c215c2",
   "metadata": {},
   "source": [
    "## 6C Polarization"
   ]
  },
  {
   "cell_type": "code",
   "execution_count": null,
   "id": "f1d868b9",
   "metadata": {},
   "outputs": [],
   "source": [
    "\n",
    "# !rm /home/brotzer/TwistPy/twistpy/SVC_models/test_love_wave.pkl\n",
    "\n",
    "svm = SupportVectorMachine(name=\"test_love_wave\")\n"
   ]
  },
  {
   "cell_type": "code",
   "execution_count": null,
   "id": "1e874020",
   "metadata": {},
   "outputs": [],
   "source": [
    "svm.train(\n",
    "    wave_types=[\"R\", \"P\", \"SV\", \"L\", \"Noise\"],\n",
    "    N=5000,\n",
    "    scaling_velocity=scaling_velocity,\n",
    "    vp=(400, 3000),\n",
    "    vp_to_vs=(1.7, 2.4),\n",
    "    vl=(100, 3000),\n",
    "    vr=(100, 3000),\n",
    "    phi=(0, 360),\n",
    "    theta=(0, 90),\n",
    "    xi=(-90, 90),\n",
    "    free_surface=True,\n",
    "    C=1,\n",
    "    kernel=\"rbf\",\n",
    "    plot_confusion_matrix=False,\n",
    "\n",
    ")"
   ]
  },
  {
   "cell_type": "code",
   "execution_count": null,
   "id": "997f190b",
   "metadata": {},
   "outputs": [],
   "source": [
    "window = {\"window_length_seconds\": 20.0 * dt, \"overlap\": 1.0}\n",
    "\n",
    "analysis = TimeDomainAnalysis6C(\n",
    "    traN=acc.select(channel=\"*N\")[0],\n",
    "    traE=acc.select(channel=\"*E\")[0],\n",
    "    traZ=acc.select(channel=\"*Z\")[0],\n",
    "    rotN=rot.select(channel=\"*N\")[0],\n",
    "    rotE=rot.select(channel=\"*E\")[0],\n",
    "    rotZ=rot.select(channel=\"*Z\")[0],\n",
    "    window=window,\n",
    "    scaling_velocity=scaling_velocity,\n",
    "    timeaxis=\"rel\",\n",
    ")"
   ]
  },
  {
   "cell_type": "code",
   "execution_count": null,
   "id": "202b1d95",
   "metadata": {},
   "outputs": [],
   "source": [
    "analysis.classify(svm=svm, eigenvector_to_classify=0)\n",
    "classification = analysis.classification[\"0\"]\n",
    "t_windows = (\n",
    "    analysis.t_windows\n",
    ")  # Positions of the sliding time windows where the classification was performed\n",
    "\n",
    "#  Wave parameter estimation\n",
    "\n",
    "est = EstimatorConfiguration(\n",
    "                            wave_types=[\"L\", \"R\"],\n",
    "                            method=\"ML\",\n",
    "                            scaling_velocity=scaling_velocity,\n",
    "                            use_ml_classification=True,\n",
    "                            svm=svm,\n",
    ")\n",
    "\n",
    "analysis.polarization_analysis(estimator_configuration=est)\n",
    "\n",
    "analysis.plot(estimator_configuration=est, dop_clip=0.2)\n",
    "\n",
    "test = 1"
   ]
  },
  {
   "cell_type": "code",
   "execution_count": null,
   "id": "0594d977",
   "metadata": {},
   "outputs": [],
   "source": []
  },
  {
   "cell_type": "code",
   "execution_count": null,
   "id": "443732b8",
   "metadata": {},
   "outputs": [],
   "source": []
  }
 ],
 "metadata": {
  "kernelspec": {
   "display_name": "Python 3",
   "language": "python",
   "name": "python3"
  },
  "language_info": {
   "codemirror_mode": {
    "name": "ipython",
    "version": 3
   },
   "file_extension": ".py",
   "mimetype": "text/x-python",
   "name": "python",
   "nbconvert_exporter": "python",
   "pygments_lexer": "ipython3",
   "version": "3.7.7"
  },
  "latex_envs": {
   "LaTeX_envs_menu_present": true,
   "autoclose": false,
   "autocomplete": true,
   "bibliofile": "biblio.bib",
   "cite_by": "apalike",
   "current_citInitial": 1,
   "eqLabelWithNumbers": true,
   "eqNumInitial": 1,
   "hotkeys": {
    "equation": "Ctrl-E",
    "itemize": "Ctrl-I"
   },
   "labels_anchors": false,
   "latex_user_defs": false,
   "report_style_numbering": false,
   "user_envs_cfg": false
  },
  "toc": {
   "base_numbering": 1,
   "nav_menu": {},
   "number_sections": true,
   "sideBar": true,
   "skip_h1_title": false,
   "title_cell": "Table of Contents",
   "title_sidebar": "Contents",
   "toc_cell": false,
   "toc_position": {},
   "toc_section_display": true,
   "toc_window_display": false
  },
  "varInspector": {
   "cols": {
    "lenName": 16,
    "lenType": 16,
    "lenVar": 40
   },
   "kernels_config": {
    "python": {
     "delete_cmd_postfix": "",
     "delete_cmd_prefix": "del ",
     "library": "var_list.py",
     "varRefreshCmd": "print(var_dic_list())"
    },
    "r": {
     "delete_cmd_postfix": ") ",
     "delete_cmd_prefix": "rm(",
     "library": "var_list.r",
     "varRefreshCmd": "cat(var_dic_list()) "
    }
   },
   "types_to_exclude": [
    "module",
    "function",
    "builtin_function_or_method",
    "instance",
    "_Feature"
   ],
   "window_display": false
  }
 },
 "nbformat": 4,
 "nbformat_minor": 5
}
