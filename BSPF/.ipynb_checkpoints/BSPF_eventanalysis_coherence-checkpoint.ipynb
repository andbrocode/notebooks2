{
 "cells": [
  {
   "cell_type": "markdown",
   "id": "26ad060e",
   "metadata": {
    "ExecuteTime": {
     "end_time": "2022-09-13T00:35:24.926376Z",
     "start_time": "2022-09-13T00:35:24.923877Z"
    }
   },
   "source": [
    "# Analyse BlueSeis BSPF Event Analysis - Velocities"
   ]
  },
  {
   "cell_type": "code",
   "execution_count": null,
   "id": "7ae027cf",
   "metadata": {
    "ExecuteTime": {
     "end_time": "2023-08-01T15:15:38.251260Z",
     "start_time": "2023-08-01T15:15:36.754440Z"
    }
   },
   "outputs": [],
   "source": [
    "import os \n",
    "import obspy as obs\n",
    "import matplotlib.pyplot as plt\n",
    "import numpy as np\n",
    "import pandas as pd\n",
    "\n",
    "from andbro__store_as_pickle import __store_as_pickle\n",
    "from andbro__savefig import __savefig"
   ]
  },
  {
   "cell_type": "code",
   "execution_count": null,
   "id": "7ec213f5",
   "metadata": {
    "ExecuteTime": {
     "end_time": "2023-08-01T15:15:38.260936Z",
     "start_time": "2023-08-01T15:15:38.254135Z"
    }
   },
   "outputs": [],
   "source": [
    "from functions.compute_backazimuth import __compute_backazimuth"
   ]
  },
  {
   "cell_type": "code",
   "execution_count": null,
   "id": "515aa60d",
   "metadata": {
    "ExecuteTime": {
     "end_time": "2023-08-01T15:15:38.265425Z",
     "start_time": "2023-08-01T15:15:38.262773Z"
    }
   },
   "outputs": [],
   "source": [
    "if os.uname().nodename == 'lighthouse':\n",
    "    root_path = '/home/andbro/'\n",
    "    data_path = '/home/andbro/kilauea-data/'\n",
    "    archive_path = '/home/andbro/freenas/'\n",
    "elif os.uname().nodename == 'kilauea':\n",
    "    root_path = '/home/brotzer/'\n",
    "    data_path = '/import/kilauea-data/'\n",
    "    archive_path = '/import/freenas-ffb-01-data/'"
   ]
  },
  {
   "cell_type": "markdown",
   "id": "a9cfd05f",
   "metadata": {},
   "source": [
    "## Configurations"
   ]
  },
  {
   "cell_type": "code",
   "execution_count": null,
   "id": "d4b1e0b9",
   "metadata": {
    "ExecuteTime": {
     "end_time": "2023-08-01T15:50:38.385505Z",
     "start_time": "2023-08-01T15:50:38.381200Z"
    },
    "code_folding": []
   },
   "outputs": [],
   "source": [
    "config = {}\n",
    "\n",
    "## BSPF coordinates\n",
    "config['BSPF_lon'] = -116.455439\n",
    "config['BSPF_lat'] = 33.610643\n",
    "\n",
    "## \n",
    "config['path_to_mseed'] = data_path+\"BSPF/data/waveforms/\"\n",
    "\n",
    "## event selction\n",
    "config['path_to_data'] = data_path+\"BSPF/data/\"\n",
    "\n",
    "## output path for figures\n",
    "config['output_figs'] = data_path+\"BSPF/figures/velocity/\"\n"
   ]
  },
  {
   "cell_type": "markdown",
   "id": "47ff88ba",
   "metadata": {},
   "source": [
    "## Load Data"
   ]
  },
  {
   "cell_type": "code",
   "execution_count": null,
   "id": "c99bb0cf",
   "metadata": {
    "ExecuteTime": {
     "end_time": "2023-08-01T15:20:34.607613Z",
     "start_time": "2023-08-01T15:20:34.406143Z"
    }
   },
   "outputs": [],
   "source": [
    "!ls /home/andbro/kilauea-data/BSPF/data/catalogs/"
   ]
  },
  {
   "cell_type": "code",
   "execution_count": null,
   "id": "7a82bfaf",
   "metadata": {
    "ExecuteTime": {
     "end_time": "2023-08-01T15:21:10.534492Z",
     "start_time": "2023-08-01T15:20:46.943281Z"
    }
   },
   "outputs": [],
   "source": [
    "events = obs.read_events(config['path_to_data']+\"catalogs/BSPF_catalog_20221001_20230615_all.xml\")\n",
    "\n",
    "triggered = pd.read_pickle(config['path_to_data']+\"catalogs/BSPF_catalog_20221001_20230615_triggered.pkl\")\n",
    "\n",
    "event_times = pd.read_pickle(config['path_to_data']+\"event_selection_good.pkl\")"
   ]
  },
  {
   "cell_type": "code",
   "execution_count": null,
   "id": "1bbd744f",
   "metadata": {
    "ExecuteTime": {
     "end_time": "2023-08-01T15:21:44.326838Z",
     "start_time": "2023-08-01T15:21:43.788977Z"
    }
   },
   "outputs": [],
   "source": [
    "num = 1\n",
    "\n",
    "event_time = event_times.origin_time.loc[num]\n",
    "\n",
    "event = events.filter(f\"time >= {event_time}\",f\"time <= {event_time}\")\n",
    "\n",
    "trig = triggered[triggered.origin == event_time]\n",
    "\n",
    "## prepare string\n",
    "event_time_str = event_time.split(\".\")[0].replace(\" \",\"_\").replace(\"-\",\"\").replace(\":\",\"\")"
   ]
  },
  {
   "cell_type": "code",
   "execution_count": null,
   "id": "a2536d03",
   "metadata": {
    "ExecuteTime": {
     "end_time": "2023-08-01T15:59:41.388181Z",
     "start_time": "2023-08-01T15:59:41.383231Z"
    }
   },
   "outputs": [],
   "source": [
    "config['fmin'], config['fmax'] = 5.0, 50.0"
   ]
  },
  {
   "cell_type": "code",
   "execution_count": null,
   "id": "658cf7c7",
   "metadata": {
    "ExecuteTime": {
     "end_time": "2023-08-01T15:59:44.038462Z",
     "start_time": "2023-08-01T15:59:43.791975Z"
    }
   },
   "outputs": [],
   "source": [
    "st = obs.read(config['path_to_mseed']+f\"*{event_time_str}*\")\n",
    "\n",
    "st.detrend(\"simple\")\n",
    "\n",
    "st.filter(\"bandpass\", freqmin=config['fmin'], freqmax=config['fmax'], corners=4, zerophase=True)\n",
    "\n",
    "# st.plot(equal_scale=False);"
   ]
  },
  {
   "cell_type": "code",
   "execution_count": null,
   "id": "57337a8e",
   "metadata": {
    "ExecuteTime": {
     "end_time": "2023-08-01T15:59:45.170543Z",
     "start_time": "2023-08-01T15:59:45.166235Z"
    }
   },
   "outputs": [],
   "source": [
    "# cut_offs = [\n",
    "#     (65,80), (65,80), (60,100), (60,100), (60,70),\n",
    "#     (60,90), (60,90), (60,90), (62,105), (65,90),\n",
    "#     (62,110), (65,85), (60,105),\n",
    "# ]\n",
    "\n",
    "# st.trim(st[0].stats.starttime+cut_offs[num][0], st[0].stats.endtime-cut_offs[num][1]);"
   ]
  },
  {
   "cell_type": "markdown",
   "id": "36acbea0",
   "metadata": {},
   "source": [
    "## Velocities\n"
   ]
  },
  {
   "cell_type": "code",
   "execution_count": null,
   "id": "42c9d121",
   "metadata": {
    "ExecuteTime": {
     "end_time": "2023-08-01T15:59:49.895029Z",
     "start_time": "2023-08-01T15:59:49.874112Z"
    },
    "code_folding": [
     0
    ]
   },
   "outputs": [],
   "source": [
    "def __velocity_from_amplitude_ratio(rot0, acc0, baz=None, mode=\"love\", win_time_s=2.0, cc_thres=0.8, overlap=0.5, plot=False):\n",
    "    \n",
    "    from scipy.stats import pearsonr\n",
    "    from numpy import zeros, nan, ones, nanmean, array, nanmax, linspace, std\n",
    "    from scipy import odr\n",
    "    from functions.compute_linear_regression import __compute_linear_regression\n",
    "    from obspy.signal.rotate import rotate_ne_rt\n",
    "    \n",
    "    npts = rot0[0].stats.npts\n",
    "    \n",
    "    df = rot0[0].stats.sampling_rate\n",
    "    \n",
    "    ## windows\n",
    "    t_win = win_time_s\n",
    "    n_win = int(win_time_s*df)\n",
    "    nover = int(0.5*n_win)\n",
    "        \n",
    "    ## define windows\n",
    "    n, windows = 0, []\n",
    "    while n < npts:\n",
    "        windows.append((n,n+n_win))        \n",
    "        n+=n_win\n",
    "        \n",
    "    ## rotate channels\n",
    "    if mode == \"love\":\n",
    "        r_acc, t_acc = rotate_ne_rt(acc0.select(channel='*N')[0].data, \n",
    "                                    acc0.select(channel='*E')[0].data,\n",
    "                                    baz\n",
    "                                    )\n",
    "        acc = t_acc\n",
    "        rot = rot0.select(channel=\"*JZ\")[0].data \n",
    "        \n",
    "    elif mode == \"rayleigh\":\n",
    "        r_rot, t_rot = rotate_ne_rt(rot0.select(channel='*N')[0].data, \n",
    "                                    rot0.select(channel='*E')[0].data,\n",
    "                                    baz\n",
    "                                    )\n",
    "        rot = t_rot\n",
    "        acc = acc0.select(channel=\"*HZ\")[0].data     \n",
    "    \n",
    "    \n",
    "    ## add overlap\n",
    "    windows_overlap = []\n",
    "    for i, w in enumerate(windows):\n",
    "        if i == 0:\n",
    "            windows_overlap.append((w[0],w[1]+nover))\n",
    "        elif i >= (len(windows)-nover):\n",
    "            windows_overlap.append((w[0]-nover, w[1]))\n",
    "        else:\n",
    "            windows_overlap.append((w[0]-nover, w[1]+nover))\n",
    "    \n",
    "    vel, ccor = ones(len(windows_overlap))*nan, zeros(len(windows_overlap))\n",
    "    \n",
    "    ## compute crosscorrelation for each window\n",
    "    for j, (w1, w2) in enumerate(windows_overlap):\n",
    "        \n",
    "        ## trying to remove very small rotation values\n",
    "#         rot_win = array([r if r>5e-8 else 0 for r in rot[w1:w2]])\n",
    "#         acc_win = array([a if r>5e-8 else 0 for a, r in zip(acc[w1:w2], rot[w1:w2])])\n",
    "        if mode == \"love\":\n",
    "            rot_win, acc_win = rot[w1:w2], 0.5*acc[w1:w2]        \n",
    "        elif mode == \"rayleigh\":\n",
    "            rot_win, acc_win = rot[w1:w2], acc[w1:w2]\n",
    "\n",
    "        if len(rot_win) < 10: \n",
    "            print(f\" -> not enough samples in window (<10)\")\n",
    "            \n",
    "#         ccor[j], p = pearsonr(rot_win/nanmax(abs(rot_win)), acc_win/nanmax(abs(acc_win)))\n",
    "        ccor[j], p = pearsonr(rot_win, acc_win)\n",
    "        \n",
    "        ## if cc value is above threshold perform odr to get velocity\n",
    "        if ccor[j] > cc_thres:\n",
    "            data = odr.RealData(rot_win, acc_win)\n",
    "            out = odr.ODR(data, model=odr.unilinear)\n",
    "            output = out.run()\n",
    "            slope, intercept = output.beta\n",
    "            vel[j] = abs(slope)\n",
    "\n",
    "            \n",
    "    ## define time axis\n",
    "    time = [((w2-w1)/2+w1)/df for (w1, w2) in windows_overlap]\n",
    "\n",
    "#     print(len(time), len(ccor), len(vel))\n",
    "    \n",
    "    if plot:\n",
    "        \n",
    "        cmap = plt.get_cmap(\"viridis\", 10)\n",
    "        \n",
    "        fig, ax = plt.subplots(1,1,figsize=(15,5))\n",
    "        \n",
    "        ax.plot(array(range(len(rot)))/df, rot/max(abs(rot)), alpha=1, color=\"grey\", label=\"rotation rate (rad/s)\")\n",
    "        ax.plot(array(range(len(acc)))/df, acc/max(abs(acc)), alpha=0.5, color=\"tab:red\", label=\"acceleration (m/s)\")\n",
    "        \n",
    "        \n",
    "        ax.set_ylim(-1,1)\n",
    "        ax.set_xlim(0, len(rot)/df)\n",
    "        ax.set_xlabel(\"Time (s)\",fontsize=14)\n",
    "        ax.set_ylabel(\"Norm. Amplitude\",fontsize=14)\n",
    "        ax.grid(zorder=0)\n",
    "        ax.legend(loc=2, fontsize=13)\n",
    "        \n",
    "        ax2 = ax.twinx()\n",
    "        cax = ax2.scatter(time, vel, c=ccor, s=50, cmap=cmap, edgecolors=\"k\", lw=1, vmin=0, vmax=1)\n",
    "        ax2.set_ylabel(\"Phase Velocity (m/s)\", fontsize=14)\n",
    "        ax2.set_ylim(bottom=0)\n",
    "        ax2.set_yticks(np.linspace(ax2.get_yticks()[0], ax2.get_yticks()[-1], len(ax.get_yticks())))\n",
    "        \n",
    "        cbar = plt.colorbar(cax, pad=0.08)\n",
    "        cbar.set_label(\"Cross-Correlation Coefficient\", fontsize=14)\n",
    "        \n",
    "        cax.set_clip_on(False)\n",
    "    \n",
    "        out = {\"time\":time, \"velocity\":vel, \"ccoef\":ccor, \"fig\":fig}    \n",
    "    else:    \n",
    "        out = {\"time\":time, \"velocity\":vel, \"ccoef\":ccor}\n",
    "        \n",
    "    return out"
   ]
  },
  {
   "cell_type": "code",
   "execution_count": null,
   "id": "f750f811",
   "metadata": {
    "ExecuteTime": {
     "end_time": "2023-08-01T15:59:50.068852Z",
     "start_time": "2023-08-01T15:59:50.062077Z"
    }
   },
   "outputs": [],
   "source": [
    "# st.resample(40).trim(st[0].stats.starttime, st[0].stats.endtime)"
   ]
  },
  {
   "cell_type": "code",
   "execution_count": null,
   "id": "99ba7fda",
   "metadata": {
    "ExecuteTime": {
     "end_time": "2023-08-01T15:59:50.221996Z",
     "start_time": "2023-08-01T15:59:50.215783Z"
    }
   },
   "outputs": [],
   "source": [
    "rot = st.select(station=\"BSPF\")\n",
    "acc = st.select(station=\"PFO*\")"
   ]
  },
  {
   "cell_type": "code",
   "execution_count": null,
   "id": "065530cd",
   "metadata": {
    "ExecuteTime": {
     "end_time": "2023-08-01T15:59:51.550212Z",
     "start_time": "2023-08-01T15:59:51.091119Z"
    }
   },
   "outputs": [],
   "source": [
    "out = __velocity_from_amplitude_ratio(rot,\n",
    "                                      acc,\n",
    "                                      baz=trig.backazimuth.iloc[0],\n",
    "                                      mode=\"love\",\n",
    "                                      win_time_s=.2,\n",
    "                                      cc_thres=0.3,\n",
    "                                      overlap=0.5,\n",
    "                                      plot=True\n",
    "                                     )"
   ]
  },
  {
   "cell_type": "code",
   "execution_count": null,
   "id": "7e0d2a11",
   "metadata": {
    "ExecuteTime": {
     "end_time": "2023-08-01T15:59:54.459665Z",
     "start_time": "2023-08-01T15:59:54.456240Z"
    }
   },
   "outputs": [],
   "source": [
    "# out['fig'].savefig(config['output_figs']+f\"{event_time_str}_love_velocity.png\", dpi=200, bbox_inches='tight', pad_inches=0.05)"
   ]
  },
  {
   "cell_type": "code",
   "execution_count": null,
   "id": "fe1b1292",
   "metadata": {
    "ExecuteTime": {
     "end_time": "2023-08-01T15:59:55.791803Z",
     "start_time": "2023-08-01T15:59:55.295263Z"
    }
   },
   "outputs": [],
   "source": [
    "out = __velocity_from_amplitude_ratio(rot,\n",
    "                                      acc,\n",
    "                                      baz=trig.backazimuth.iloc[0],                                                   \n",
    "                                      mode=\"rayleigh\",\n",
    "                                      win_time_s=.2,\n",
    "                                      cc_thres=0.3,\n",
    "                                      overlap=0.5,\n",
    "                                      plot=True\n",
    "                                     )"
   ]
  },
  {
   "cell_type": "code",
   "execution_count": null,
   "id": "5e952160",
   "metadata": {
    "ExecuteTime": {
     "end_time": "2023-08-01T15:59:30.727222Z",
     "start_time": "2023-08-01T15:59:30.721641Z"
    }
   },
   "outputs": [],
   "source": [
    "# out['fig'].savefig(config['output_figs']+f\"{event_time_str}_rayleigh_velocity.png\", dpi=200, bbox_inches='tight', pad_inches=0.05)"
   ]
  },
  {
   "cell_type": "markdown",
   "id": "2d796a2f",
   "metadata": {},
   "source": [
    "## AS LOOP"
   ]
  },
  {
   "cell_type": "code",
   "execution_count": null,
   "id": "5654ff61",
   "metadata": {
    "ExecuteTime": {
     "end_time": "2023-08-01T15:53:56.074912Z",
     "start_time": "2023-08-01T15:53:12.713333Z"
    }
   },
   "outputs": [],
   "source": [
    "for i in range(0,17):\n",
    "    \n",
    "    event_time = event_times.origin_time.loc[i]\n",
    "    \n",
    "    try:\n",
    "        event = events.filter(f\"time >= {event_time}\",f\"time <= {event_time}\")\n",
    "        \n",
    "        event_time = event_times.origin_time.loc[i]\n",
    "\n",
    "        trig = triggered[triggered.origin == event_time]\n",
    "\n",
    "    except:\n",
    "        print(f\" -> {i} no event\")\n",
    "        \n",
    "    ## prepare string\n",
    "    event_time_str = event_time.split(\".\")[0].replace(\" \",\"_\").replace(\"-\",\"\").replace(\":\",\"\")\n",
    "     \n",
    "    ## load data\n",
    "    st = obs.read(config['path_to_mseed']+f\"*{event_time_str}*\")\n",
    "\n",
    "    st.detrend(\"simple\")\n",
    "\n",
    "    st.filter(\"bandpass\", freqmin=config['fmin'], freqmax=config['fmax'], corners=4, zerophase=True)\n",
    "\n",
    "    rot = st.select(station=\"BSPF\")\n",
    "    acc = st.select(station=\"PFO*\")\n",
    "    \n",
    "    out = __velocity_from_amplitude_ratio(rot,\n",
    "                                      acc,\n",
    "                                      baz=trig.backazimuth.iloc[0],\n",
    "                                      mode=\"love\",\n",
    "                                      win_time_s=.2,\n",
    "                                      cc_thres=0.3,\n",
    "                                      overlap=0.5,\n",
    "                                      plot=True\n",
    "                                     )\n",
    "    \n",
    "    out['fig'].savefig(config['output_figs']+f\"{event_time_str}_love_velocity.png\", dpi=200, bbox_inches='tight', pad_inches=0.05)\n",
    "    \n",
    "    \n",
    "    out = __velocity_from_amplitude_ratio(rot,\n",
    "                                      acc,\n",
    "                                      baz=trig.backazimuth.iloc[0],                                                   \n",
    "                                      mode=\"rayleigh\",\n",
    "                                      win_time_s=.2,\n",
    "                                      cc_thres=0.3,\n",
    "                                      overlap=0.5,\n",
    "                                      plot=True\n",
    "                                     )\n",
    "    \n",
    "    out['fig'].savefig(config['output_figs']+f\"{event_time_str}_rayleigh_velocity.png\", dpi=200, bbox_inches='tight', pad_inches=0.05)"
   ]
  },
  {
   "cell_type": "code",
   "execution_count": null,
   "id": "465c4529",
   "metadata": {},
   "outputs": [],
   "source": []
  }
 ],
 "metadata": {
  "kernelspec": {
   "display_name": "Python 3 (ipykernel)",
   "language": "python",
   "name": "python3"
  },
  "language_info": {
   "codemirror_mode": {
    "name": "ipython",
    "version": 3
   },
   "file_extension": ".py",
   "mimetype": "text/x-python",
   "name": "python",
   "nbconvert_exporter": "python",
   "pygments_lexer": "ipython3",
   "version": "3.7.8"
  },
  "latex_envs": {
   "LaTeX_envs_menu_present": true,
   "autoclose": false,
   "autocomplete": true,
   "bibliofile": "biblio.bib",
   "cite_by": "apalike",
   "current_citInitial": 1,
   "eqLabelWithNumbers": true,
   "eqNumInitial": 1,
   "hotkeys": {
    "equation": "Ctrl-E",
    "itemize": "Ctrl-I"
   },
   "labels_anchors": false,
   "latex_user_defs": false,
   "report_style_numbering": false,
   "user_envs_cfg": false
  },
  "toc": {
   "base_numbering": 1,
   "nav_menu": {},
   "number_sections": true,
   "sideBar": true,
   "skip_h1_title": false,
   "title_cell": "Table of Contents",
   "title_sidebar": "Contents",
   "toc_cell": false,
   "toc_position": {},
   "toc_section_display": true,
   "toc_window_display": false
  },
  "varInspector": {
   "cols": {
    "lenName": 16,
    "lenType": 16,
    "lenVar": 40
   },
   "kernels_config": {
    "python": {
     "delete_cmd_postfix": "",
     "delete_cmd_prefix": "del ",
     "library": "var_list.py",
     "varRefreshCmd": "print(var_dic_list())"
    },
    "r": {
     "delete_cmd_postfix": ") ",
     "delete_cmd_prefix": "rm(",
     "library": "var_list.r",
     "varRefreshCmd": "cat(var_dic_list()) "
    }
   },
   "types_to_exclude": [
    "module",
    "function",
    "builtin_function_or_method",
    "instance",
    "_Feature"
   ],
   "window_display": false
  }
 },
 "nbformat": 4,
 "nbformat_minor": 5
}
