{
 "cells": [
  {
   "cell_type": "markdown",
   "id": "9cd51738",
   "metadata": {},
   "source": [
    "# Gutenberg-Richter Analysis"
   ]
  },
  {
   "cell_type": "code",
   "execution_count": 1,
   "id": "05b98e9e",
   "metadata": {
    "ExecuteTime": {
     "end_time": "2023-07-05T09:24:04.112002Z",
     "start_time": "2023-07-05T09:24:01.103895Z"
    }
   },
   "outputs": [],
   "source": [
    "#!/usr/bin/env python\n",
    "import math, os\n",
    "import warnings\n",
    "\n",
    "import numpy as np\n",
    "import matplotlib.pyplot as plt\n",
    "from scipy.interpolate import interp1d\n",
    "from scipy.stats import scoreatpercentile\n",
    "from matplotlib.dates import date2num\n",
    "# import seaborn as sns\n",
    "\n",
    "from obspy import UTCDateTime\n",
    "from obspy.signal.filter import lowpass as obspy_lowpass\n",
    "from obspy import read_events"
   ]
  },
  {
   "cell_type": "code",
   "execution_count": 2,
   "id": "beb699a1",
   "metadata": {
    "ExecuteTime": {
     "end_time": "2023-07-05T09:24:04.115357Z",
     "start_time": "2023-07-05T09:24:04.113184Z"
    }
   },
   "outputs": [],
   "source": [
    "if os.uname().nodename == 'lighthouse':\n",
    "    root_path = '/home/andbro/'\n",
    "    data_path = '/home/andbro/kilauea-data/'\n",
    "    archive_path = '/home/andbro/freenas/'\n",
    "elif os.uname().nodename == 'kilauea':\n",
    "    root_path = '/home/brotzer/'\n",
    "    data_path = '/import/kilauea-data/'\n",
    "    archive_path = '/import/freenas-ffb-01-data/'"
   ]
  },
  {
   "cell_type": "code",
   "execution_count": 3,
   "id": "57641dc1",
   "metadata": {
    "ExecuteTime": {
     "end_time": "2023-07-05T09:24:04.259092Z",
     "start_time": "2023-07-05T09:24:04.256868Z"
    }
   },
   "outputs": [],
   "source": [
    "config = {}\n",
    "\n",
    "config['path_to_data'] = data_path+\"BSPF/data/catalogs/\"\n",
    "\n",
    "config['outpath_figs'] = data_path+\"BSPF/figures/\"\n",
    "\n",
    "# config['catalog'] = \"BSPF_catalog_20221001_20230930_all.xml\"\n",
    "# config['outname_app'] = \"\"\n",
    "\n",
    "config['catalog'] = \"BSPF_catalog_20221001_20230930_triggered.xml\"\n",
    "config['outname_app'] = \"_triggered\"\n",
    "\n"
   ]
  },
  {
   "cell_type": "code",
   "execution_count": 4,
   "id": "c229cf0d",
   "metadata": {
    "ExecuteTime": {
     "end_time": "2023-07-05T09:24:04.274785Z",
     "start_time": "2023-07-05T09:24:04.260066Z"
    },
    "code_folding": [
     0
    ]
   },
   "outputs": [],
   "source": [
    "def estimate_b_value(magnitude_histogram, bin_edges):\n",
    "    \"\"\"\n",
    "    Calculate maximum likelihood b-value of assumed Gutenberg-Richter power law\n",
    "    frequency-magnitude distribution on binned magnitude data.\n",
    "\n",
    "    :type magnitude_histogram: :class:`numpy.ndarray`\n",
    "    :param magnitude_histogram: Input magnitude histogram counts as output by\n",
    "        :func:`numpy.histogram()`.\n",
    "    :type bin_edges: :class:`numpy.ndarray`\n",
    "    :param bin_edges: Bin edges of magnitude binning as output by\n",
    "        :func:`numpy.histogram()`.\n",
    "    :rtype: float\n",
    "    \"\"\"\n",
    "    bin_centers = (bin_edges[:-1] + bin_edges[1:]) / 2.0\n",
    "    mean_magnitude = (\n",
    "        (magnitude_histogram * bin_centers).sum() / magnitude_histogram.sum())\n",
    "    # Utsu 1966 uses first bin center as threshold magnitude and then corrects\n",
    "    # by subtracting half the bin width. This is equal to simply using the\n",
    "    # first left bin edge as threshold magnitude right away.\n",
    "    minimum_magnitude = bin_edges[0]\n",
    "    b_value = math.log10(math.e) / (mean_magnitude - minimum_magnitude)\n",
    "    return b_value"
   ]
  },
  {
   "cell_type": "code",
   "execution_count": 5,
   "id": "18b1e0c1",
   "metadata": {
    "ExecuteTime": {
     "end_time": "2023-07-05T09:24:04.290773Z",
     "start_time": "2023-07-05T09:24:04.275667Z"
    },
    "code_folding": [
     0
    ]
   },
   "outputs": [],
   "source": [
    "def estimate_b_values(magnitude_histogram, bin_edges):\n",
    "    \"\"\"\n",
    "    Calculate array of b-values, in turn taking each bin center as a starting\n",
    "    point.\n",
    "\n",
    "    :type magnitude_histogram: :class:`numpy.ndarray`\n",
    "    :param magnitude_histogram: Input magnitude histogram counts as output by\n",
    "        :func:`numpy.histogram()`.\n",
    "    :type bin_edges: :class:`numpy.ndarray`\n",
    "    :param bin_edges: Bin edges of magnitude binning as output by\n",
    "        :func:`numpy.histogram()`.\n",
    "    :return: 2-tuple of left-most magnitude bin centers used for b value\n",
    "        estimation and corresponding b values. Both arrays are shorter than\n",
    "        input histogram by one element because no b-value can be computed for\n",
    "        only the last magnitude bin.\n",
    "    :rtype: 2-tuple of :class:`numpy.ndarray`\n",
    "    \"\"\"\n",
    "    bin_centers = (bin_edges[:-2] + bin_edges[1:-1]) / 2.0\n",
    "    magnitude_thresholds = bin_centers\n",
    "    b_values = np.empty_like(magnitude_thresholds)\n",
    "    for i in range(len(magnitude_thresholds)):\n",
    "        b_values[i] = estimate_b_value(\n",
    "            magnitude_histogram[i:], bin_edges[i:])\n",
    "    return magnitude_thresholds, b_values"
   ]
  },
  {
   "cell_type": "code",
   "execution_count": 6,
   "id": "3b5579fa",
   "metadata": {
    "ExecuteTime": {
     "end_time": "2023-07-05T09:24:04.305698Z",
     "start_time": "2023-07-05T09:24:04.291649Z"
    },
    "code_folding": [
     0
    ]
   },
   "outputs": [],
   "source": [
    "def estimate_b_values_smoothed(magnitudes, bin_edges, bin_width=0.02, lowpass=False):\n",
    "    \"\"\"\n",
    "    Calculate smoothed array of b-values for given magnitude set.\n",
    "\n",
    "    :type magnitudes: :class:`numpy.ndarray`\n",
    "    :param magnitudes: Input magnitude data for b-value estimation (e.g.\n",
    "        magnitude data above magnitude of completeness in a catalog).\n",
    "    :type bin_width: float\n",
    "    :param bin_width: Spacing of magnitude thresholds for output b-value array.\n",
    "    :type lowpass: bool\n",
    "    :param lowpass: Whether or not to apply a second smoothing step with a\n",
    "        lowpass filter.\n",
    "    :return: 2-tuple of minimum magnitudes used in b-value calculation and\n",
    "        corresponding b-values.\n",
    "    :rtype: 2-tuple of :class:`numpy.ndarray`\n",
    "    \"\"\"\n",
    "    \n",
    "    magnitudes, b = estimate_b_values(magnitudes, bin_edges)\n",
    "    \n",
    "    ## set array of magnitude sample points for output\n",
    "    magnitudes_ = np.arange(-5, magnitudes.max(), bin_width)\n",
    "    magnitudes_ = magnitudes_[magnitudes_ > magnitudes.min()]\n",
    "    \n",
    "    ## first smoothing step: do a linear spline interpolation\n",
    "    interpolation = interp1d(magnitudes, b, kind=\"slinear\")\n",
    "    b = interpolation(magnitudes_)\n",
    "    \n",
    "    ## second smoothing step: lowpass\n",
    "    if lowpass:\n",
    "        b = obspy_lowpass(b, 4, 1.0/bin_width, corners=1, zerophase=True)\n",
    "        \n",
    "    return magnitudes_, b"
   ]
  },
  {
   "cell_type": "code",
   "execution_count": 7,
   "id": "bcc81b02",
   "metadata": {
    "ExecuteTime": {
     "end_time": "2023-07-05T09:24:04.322338Z",
     "start_time": "2023-07-05T09:24:04.306684Z"
    },
    "code_folding": [
     0
    ]
   },
   "outputs": [],
   "source": [
    "def _extract_magnitudes_and_times(\n",
    "        catalog, starttime=None, endtime=None, daily_start=None,\n",
    "        daily_end=None, use_first_pick=True):\n",
    "    times = []\n",
    "    magnitudes = []\n",
    "\n",
    "    for event in catalog:\n",
    "        # select magnitude, skip if none is found\n",
    "        mag = event.preferred_magnitude()\n",
    "        if mag is None:\n",
    "            if not event.magnitudes:\n",
    "                print(\"Event with no magnitude '%s', skipping event.\" %\n",
    "                      event.resource_id)\n",
    "                continue\n",
    "            mag = event.magnitudes[0]\n",
    "        if mag.mag is None:\n",
    "            print(\"Magnitude with no magnitude value '%s', skipping event.\" %\n",
    "                  mag.resource_id)\n",
    "            continue\n",
    "        # select origin (or optionally earliest pick) for time\n",
    "        origin = event.preferred_origin()\n",
    "        if origin is None:\n",
    "            if not event.origins:\n",
    "                if use_first_pick and event.picks:\n",
    "                    # use earliest pick\n",
    "                    origin = sorted([pick for pick in event.picks\n",
    "                                     if pick.time],\n",
    "                                    key=lambda p: p.time)[0]\n",
    "                else:\n",
    "                    print(\"Event with no origin '%s', skipping event.\" %\n",
    "                          event.resource_id)\n",
    "                    continue\n",
    "            else:\n",
    "                origin = event.origins[0]\n",
    "        if origin.time is None:\n",
    "            print(\"Origin with no origin time '%s', skipping event.\" %\n",
    "                  origin.resource_id)\n",
    "            continue\n",
    "        magnitudes.append(mag.mag)\n",
    "        times.append(origin.time)\n",
    "\n",
    "    magnitudes = np.array(magnitudes, dtype=float)\n",
    "    times = np.array(times, dtype=UTCDateTime)\n",
    "\n",
    "    # deselect events\n",
    "    mask = np.full_like(times, True, dtype=bool)\n",
    "    for i, t in enumerate(times):\n",
    "        hour_of_day = (t.hour + t.minute / 60.0 +\n",
    "                       (t.second + t.microsecond * 1e-6) / 3600.0)\n",
    "        # deselect by time of day\n",
    "        if daily_start is not None and daily_end is not None:\n",
    "            if daily_start < daily_end:\n",
    "                if hour_of_day < daily_start or hour_of_day > daily_end:\n",
    "                    mask[i] = False\n",
    "                    continue\n",
    "            elif daily_end < daily_start:\n",
    "                if hour_of_day > daily_end and hour_of_day < daily_start:\n",
    "                    mask[i] = False\n",
    "                    continue\n",
    "        elif daily_start is not None:\n",
    "            if hour_of_day < daily_start:\n",
    "                mask[i] = False\n",
    "                continue\n",
    "        elif daily_end is not None:\n",
    "            if hour_of_day > daily_end:\n",
    "                mask[i] = False\n",
    "                continue\n",
    "        # deselect by starttime/endtime\n",
    "        if starttime is not None and t < starttime:\n",
    "            mask[i] = False\n",
    "            continue\n",
    "        if endtime is not None and t > endtime:\n",
    "            mask[i] = False\n",
    "            continue\n",
    "    magnitudes = magnitudes[mask]\n",
    "    times = times[mask]\n",
    "    return magnitudes, times"
   ]
  },
  {
   "cell_type": "code",
   "execution_count": 8,
   "id": "c3462e3f",
   "metadata": {
    "ExecuteTime": {
     "end_time": "2023-07-05T09:24:04.341082Z",
     "start_time": "2023-07-05T09:24:04.323885Z"
    },
    "code_folding": [
     0
    ]
   },
   "outputs": [],
   "source": [
    "def gutenberg_richter_fit_statistics(catalog, min_goodness_of_fit, bin_widths, num_shifts=4,\n",
    "        min_mag=None, max_mag=None, starttime=None, endtime=None,\n",
    "        daily_start=0, daily_end=24, use_first_pick=True, verbose=False,\n",
    "        plot=False, show=True, outfile=None, save_individual_fits=False):\n",
    "    \"\"\"\n",
    "    Gutenberg-Richter fit and magnitude of completeness estimation \n",
    "    after Wiemer and Wyss, 2000, BSSA.\n",
    "    Gives statistics of results when varying magnitude bin size and offset.\n",
    "    \"\"\"\n",
    "    a = []\n",
    "    b = []\n",
    "    mc = []\n",
    "    if save_individual_fits and outfile:\n",
    "        magnitudes_, _ = _extract_magnitudes_and_times(\n",
    "            catalog=catalog, starttime=starttime, endtime=endtime,\n",
    "            daily_start=daily_start, daily_end=daily_end,\n",
    "            use_first_pick=use_first_pick)\n",
    "        x_min = min(magnitudes_)\n",
    "        x_max = max(magnitudes_)\n",
    "        dx = x_max - x_min\n",
    "        x_min -= 0.15 * dx\n",
    "        x_max += 0.15 * dx\n",
    "    invalid = 0\n",
    "    shifts = np.linspace(0, 1, 4, endpoint=False)\n",
    "    i = 0\n",
    "    num_individual_fits = len(bin_widths) * len(shifts)\n",
    "    for bin_width in bin_widths:\n",
    "        for shift in shifts:\n",
    "            min_mag = -2.0 + bin_width * shift\n",
    "            success, _, a_, b_, mc_, count, count_above_mc_ = \\\n",
    "                gutenberg_richter_fit(\n",
    "                    catalog, min_goodness_of_fit=min_goodness_of_fit,\n",
    "                    starttime=starttime, endtime=endtime,\n",
    "                    daily_start=daily_start, daily_end=daily_end,\n",
    "                    use_first_pick=use_first_pick, bin_width=bin_width,\n",
    "                    min_mag=min_mag, outfile=None, show=False,\n",
    "                    plot=save_individual_fits and outfile)\n",
    "            if save_individual_fits and outfile:\n",
    "                fig = plt.gcf()\n",
    "                # make sure all individual plots have same x axis limits\n",
    "                for ax_ in fig.axes:\n",
    "                    ax_.set_xlim(x_min, x_max)\n",
    "                outfile_ = outfile + \".%%0%ii.png\"\n",
    "                outfile_ = outfile_ % len(str(num_individual_fits)) % i\n",
    "                fig.savefig(outfile_)\n",
    "                plt.close(fig)\n",
    "            if not success:\n",
    "                invalid += 1\n",
    "            a.append(a_)\n",
    "            b.append(b_)\n",
    "            mc.append(mc_)\n",
    "            i += 1\n",
    "    if plot or outfile:\n",
    "        plt.figure(figsize=(7, 7))\n",
    "        for i, (data, label) in enumerate(zip([a, b, mc], [\"a\", \"b\", \"Mc\"])):\n",
    "            ax1 = plt.subplot(3, 2, (i*2)+1)\n",
    "            ax2 = plt.subplot(3, 2, (i*2)+2, sharey=ax1)\n",
    "            ax1.set_ylabel(label)\n",
    "            info = [\"percentiles\\n\"]\n",
    "            # around center: 50%, 68%, 95%\n",
    "            percentiles = [97.5, 84, 75, 50, 25, 16, 2.5]\n",
    "            linestyles = [\"-\", \"--\", \":\", \"-\", \":\", \"--\", \"-\"]\n",
    "            values = np.percentile(data, percentiles)\n",
    "            for value, percentile, ls in zip(values, percentiles, linestyles):\n",
    "                ax1.axhline(value, color=\"k\", zorder=1, ls=ls)\n",
    "                info.append(\"%6.1f%% %5.2f\" % (percentile, value))\n",
    "            info = \"\\n\".join(info)\n",
    "            ax2.text(0.98, 0.98, info, color=\"k\", ha=\"right\", va=\"top\",\n",
    "                     transform=ax2.transAxes)\n",
    "            sns.violinplot(x=data, orient=\"v\", cut=0, ax=ax1)\n",
    "            sns.distplot(data, bins=20, vertical=True, kde=False, ax=ax2)\n",
    "            ax2.set_xlim(right=1.4 * ax2.get_xlim()[1])\n",
    "\n",
    "        plt.tight_layout()\n",
    "        if outfile:\n",
    "            plt.savefig(outfile)\n",
    "            if not show:\n",
    "                plt.close()\n",
    "        if show:\n",
    "            plt.show()\n",
    "\n",
    "    return (a, b, mc, count, invalid)"
   ]
  },
  {
   "cell_type": "code",
   "execution_count": 9,
   "id": "bd5e63d3",
   "metadata": {
    "ExecuteTime": {
     "end_time": "2023-07-05T09:24:04.358138Z",
     "start_time": "2023-07-05T09:24:04.342141Z"
    },
    "code_folding": [
     0
    ]
   },
   "outputs": [],
   "source": [
    "def time_dependent_gutenberg_richter_fit(\n",
    "        catalog, time_window_length, time_window_step, min_goodness_of_fit=90,\n",
    "        starttime=None, endtime=None, daily_start=0, daily_end=24,\n",
    "        use_first_pick=True, plot=False, show=True, outfile=None):\n",
    "    \"\"\"\n",
    "    Evolution of Gutenberg-Richter fit and magnitude of completeness over time.\n",
    "\n",
    "    :param catalog: Catalog with event information (might be changed in\n",
    "        place!).\n",
    "    :type catalog: :class:`obspy.core.event.Catalog`\n",
    "    :type time_window_length: float\n",
    "    :param time_window_length: Length of time window for individual\n",
    "        Gutenberg-Richter fit (in days).\n",
    "    :type time_window_step: float\n",
    "    :param time_window_step: Step width of time windows for individual\n",
    "        Gutenberg-Richter fits (in days).\n",
    "    :type show: bool\n",
    "    :param show: Whether to open a Gutenberg-Richter plot.\n",
    "    :type outfile: str\n",
    "    :param outfile: Image filename to save a Gutenberg-Richter plot to.\n",
    "    :type starttime: :class:`obspy.core.utcdatetime.UTCDateTime`\n",
    "    :param starttime: Only consider events after this time.\n",
    "    :type endtime: :class:`obspy.core.utcdatetime.UTCDateTime`\n",
    "    :param endtime: Only consider events before this time.\n",
    "    :type daily_start: float\n",
    "    :param daily_start: Start time of used time window of each day in hours\n",
    "        (e.g. `9.5` to discard all events from 00:00 to 09:30).\n",
    "    :type daily_end: float\n",
    "    :param daily_end: End time of used time window of each day in hours\n",
    "        (e.g. `21` to discard all events from 21:00 to 24:00).\n",
    "    :type use_first_pick: bool\n",
    "    :param use_first_pick: Whether to use time of earliest pick as event time\n",
    "        stamp if no origin time is present (rather than excluding those\n",
    "        events).\n",
    "    :rtype: tuple of three floats\n",
    "    :returns: Gutenberg-Richter distribution fit parameters and magnitude of\n",
    "        completeness (tuple of: a-value, b-value, corrected Mc).\n",
    "    \"\"\"\n",
    "    min_time = starttime\n",
    "    max_time = endtime\n",
    "    if starttime is None or endtime is None:\n",
    "        _, times_ = _extract_magnitudes_and_times(\n",
    "            catalog, use_first_pick=use_first_pick)\n",
    "        if starttime is None:\n",
    "            min_time = min(times_)\n",
    "        if endtime is None:\n",
    "            max_time = max(times_)\n",
    "    time_window_step_seconds = time_window_step * 24.0 * 3600.0\n",
    "    time_window_length_seconds = time_window_length * 24.0 * 3600.0\n",
    "    starttimes = np.arange(min_time, max_time + time_window_step_seconds,\n",
    "                           time_window_step_seconds, dtype=UTCDateTime)\n",
    "    endtimes = starttimes + time_window_length_seconds\n",
    "\n",
    "    values = []\n",
    "    print(\"a_, b_, mc_, count_\")\n",
    "    for i, (start, end) in enumerate(zip(starttimes, endtimes)):\n",
    "        try:\n",
    "            (_, _, a_, b_, mc_, count_, _) = gutenberg_richter_fit(\n",
    "                catalog, min_goodness_of_fit=min_goodness_of_fit,\n",
    "                plot=False, show=False,\n",
    "                # outfile=\"/tmp/estimate_b_value_statistics_%04i.png\" % i,\n",
    "                starttime=start, endtime=end, daily_start=daily_start,\n",
    "                daily_end=daily_end, use_first_pick=use_first_pick)\n",
    "            estimate = (a_, b_, mc_, count_)\n",
    "            print(estimate)\n",
    "        except Exception as e:\n",
    "            msg = \"Skipping time window (%s).\" % str(e)\n",
    "            warnings.warn(msg)\n",
    "            continue\n",
    "        # if estimate[0] == 0 and estimate[1] == 0:\n",
    "        #     msg = \"Skipping bad estimate with a=b=0.0\"\n",
    "        #     warnings.warn(msg)\n",
    "        #     continue\n",
    "        # print(\" \".join([str(start.date), str(end.date),\n",
    "        #                 \"a=%.2f b=%.2f mc=%.1f count_all=%i count_mc=%i\" %\n",
    "        #                 estimate]))\n",
    "        values.append(tuple([start + time_window_step_seconds / 2.0] +\n",
    "                            list(estimate)))\n",
    "        print(values)\n",
    "\n",
    "    if plot or outfile:\n",
    "        plt.figure()\n",
    "        try:\n",
    "            x = date2num([val[0].datetime for val in values])\n",
    "            ax = None\n",
    "            for i, (label, color) in enumerate(zip([\"a\", \"b\", \"Mc\"], \"bgr\")):\n",
    "                ax = plt.subplot(4, 1, i+1, sharex=ax)\n",
    "                data = [value[i+1] for value in values]\n",
    "                data_median = data\n",
    "                plt.plot_date(x, data_median, color=color, ls=\"-\", marker=\"x\")\n",
    "                plt.text(0.02, 0.95, label, ha=\"left\", va=\"top\", size=\"large\",\n",
    "                         transform=ax.transAxes)\n",
    "            ax = plt.subplot(4, 1, 4, sharex=ax)\n",
    "            plt.plot_date(x, [v[4] for v in values], \"k-\")\n",
    "            plt.text(0.02, 0.95, \"#events\", ha=\"left\", va=\"top\", size=\"large\",\n",
    "                     transform=ax.transAxes)\n",
    "            plt.subplots_adjust(hspace=0.05)\n",
    "            plt.tight_layout()\n",
    "            if outfile:\n",
    "                plt.savefig(outfile)\n",
    "                if not show:\n",
    "                    plt.close()\n",
    "            if show:\n",
    "                plt.show();\n",
    "        except:\n",
    "            plt.close();\n",
    "            raise\n",
    "\n",
    "    return values"
   ]
  },
  {
   "cell_type": "markdown",
   "id": "7db7d527",
   "metadata": {},
   "source": [
    "## MAIN"
   ]
  },
  {
   "cell_type": "code",
   "execution_count": 10,
   "id": "26fe38b6",
   "metadata": {
    "ExecuteTime": {
     "end_time": "2023-07-05T09:24:27.951964Z",
     "start_time": "2023-07-05T09:24:04.359035Z"
    },
    "code_folding": []
   },
   "outputs": [],
   "source": [
    "cat = read_events(config['path_to_data']+config['catalog'], \"QUAKEML\")"
   ]
  },
  {
   "cell_type": "code",
   "execution_count": 11,
   "id": "f4c08dfe",
   "metadata": {
    "ExecuteTime": {
     "end_time": "2023-07-05T09:24:28.025687Z",
     "start_time": "2023-07-05T09:24:27.953142Z"
    }
   },
   "outputs": [],
   "source": [
    "from functions.catalog_to_dataframe import __catalog_to_dataframe\n",
    "\n",
    "cat_df = __catalog_to_dataframe(cat)"
   ]
  },
  {
   "cell_type": "code",
   "execution_count": 12,
   "id": "428c2a20",
   "metadata": {
    "ExecuteTime": {
     "end_time": "2023-07-05T09:24:28.196696Z",
     "start_time": "2023-07-05T09:24:28.026667Z"
    },
    "code_folding": []
   },
   "outputs": [
    {
     "data": {
      "image/png": "[encoded data removed]",
      "text/plain": [
       "<Figure size 640x480 with 1 Axes>"
      ]
     },
     "metadata": {},
     "output_type": "display_data"
    }
   ],
   "source": [
    "magnitudes = cat_df.magnitude.to_numpy()\n",
    "\n",
    "bin_width = 0.25\n",
    "bin_edges = np.arange(0, 8, bin_width)\n",
    "\n",
    "out = plt.hist(magnitudes, bins=bin_edges)\n",
    "magnitudes_hist = out[0]"
   ]
  },
  {
   "cell_type": "code",
   "execution_count": 13,
   "id": "c07edcb0",
   "metadata": {
    "ExecuteTime": {
     "end_time": "2023-07-05T09:24:28.299357Z",
     "start_time": "2023-07-05T09:24:28.197594Z"
    },
    "code_folding": []
   },
   "outputs": [
    {
     "name": "stderr",
     "output_type": "stream",
     "text": [
      "/tmp/ipykernel_300898/1744481988.py:16: RuntimeWarning: invalid value encountered in scalar divide\n",
      "  (magnitude_histogram * bin_centers).sum() / magnitude_histogram.sum())\n"
     ]
    },
    {
     "data": {
      "image/png": "[encoded data removed]",
      "text/plain": [
       "<Figure size 640x480 with 1 Axes>"
      ]
     },
     "metadata": {},
     "output_type": "display_data"
    }
   ],
   "source": [
    "## _________________________________________-\n",
    "## example for one-off b value estimation\n",
    "\n",
    "# plt.style.use('bmh')\n",
    "plt.figure()\n",
    "\n",
    "x, b = estimate_b_values(magnitudes_hist, bin_edges)\n",
    "plt.plot(x, b, color=\"r\", marker=\"x\", linestyle=\" \")\n",
    "\n",
    "x, b = estimate_b_values_smoothed(magnitudes_hist, bin_edges, bin_width=bin_width, lowpass=False)\n",
    "plt.plot(x, b, \"b-\", label=\"smooth w/o lowpass\")\n",
    "\n",
    "# x, b = estimate_b_values_smoothed(magnitudes_hist, bin_edges, bin_width=bin_width, lowpass=True)\n",
    "# plt.plot(x, b, \"g-\", label=\"smooth w/ lowpass\")\n",
    "\n",
    "x, b = estimate_b_values(magnitudes_hist, bin_edges)\n",
    "plt.plot(x, b, \"c-\", label=\"fixed sample points\")\n",
    "\n",
    "plt.xlabel(\"Magnitude Threshold\")\n",
    "plt.ylabel(\"b-value\")\n",
    "\n",
    "# plt.xlim(-0.8, 1.1)\n",
    "# plt.ylim(0.7, 1.3)\n",
    "\n",
    "plt.legend()\n",
    "\n",
    "plt.show();"
   ]
  },
  {
   "cell_type": "code",
   "execution_count": 14,
   "id": "95a25831",
   "metadata": {
    "ExecuteTime": {
     "end_time": "2023-07-05T09:24:28.320613Z",
     "start_time": "2023-07-05T09:24:28.300571Z"
    },
    "code_folding": [
     0,
     58,
     73
    ]
   },
   "outputs": [],
   "source": [
    "def gutenberg_richter_fit(catalog, min_goodness_of_fit=90, bin_width=0.1, \n",
    "                          min_mag=None, max_mag=None, starttime=None, endtime=None, \n",
    "                          daily_start=0, daily_end=24, use_first_pick=False, \n",
    "                          verbose=False, plot=False, show=True, outfile=None, \n",
    "                          title=None, magnitude_conversion=None):\n",
    "    \"\"\"\n",
    "    Gutenberg-Richter fit and magnitude of completeness estimation by maximum\n",
    "    likelihood b-value estimation and goodness of fit test after Wiemer and\n",
    "    Wyss, 2000, BSSA.\n",
    "\n",
    "    :type success: bool\n",
    "    :param success: ``True`` if the specified minimum goodness of fit was\n",
    "        reached and the magnitude of completeness was selected as the first\n",
    "        magnitude threshold that has a larger goodness of fit, or ``False`` if\n",
    "        the minimum goodness of fit was never achieved and the magnitude of\n",
    "        completeness was selected at the first local maximum in the goodness of\n",
    "        fit curve.\n",
    "    :param catalog: Catalog with event information.\n",
    "    :type catalog: :class:`obspy.core.event.Catalog`\n",
    "    :type plot: bool\n",
    "    :param plot: Whether to plot results or not.\n",
    "    :type show: bool\n",
    "    :param show: Whether to open a Gutenberg-Richter plot.\n",
    "    :type outfile: str\n",
    "    :param outfile: Image filename to save a Gutenberg-Richter plot to. Has no\n",
    "        effect if `plot=False`.\n",
    "    :type starttime: :class:`obspy.core.utcdatetime.UTCDateTime`\n",
    "    :param starttime: Only consider events after this time.\n",
    "    :type endtime: :class:`obspy.core.utcdatetime.UTCDateTime`\n",
    "    :param endtime: Only consider events before this time.\n",
    "    :type daily_start: float\n",
    "    :param daily_start: Start time of used time window of each day in hours\n",
    "        (e.g. `9.5` to discard all events from 00:00 to 09:30).\n",
    "    :type daily_end: float\n",
    "    :param daily_end: End time of used time window of each day in hours\n",
    "        (e.g. `21` to discard all events from 21:00 to 24:00).\n",
    "    :type use_first_pick: bool\n",
    "    :param use_first_pick: Whether to use time of earliest pick as event time\n",
    "        stamp if no origin time is present (rather than excluding those\n",
    "        events).\n",
    "    :type title: str\n",
    "    :param title: Title to set on the main Axes, i.e. at the top of the figure\n",
    "    :type magnitude_conversion: func\n",
    "    :param magnitude_conversion: Conversion formula for input magnitudes. Can\n",
    "        be used to convert Ml to Mw with custom formula. The given function\n",
    "        will be called with the magnitude of each input event as first and only\n",
    "        argument.\n",
    "    :rtype: tuple of floats\n",
    "    :returns: Gutenberg-Richter distribution fit parameters and magnitude of\n",
    "        completeness (tuple of: success, goodness of fit of returned gutenberg\n",
    "        richter fit, a-value, b-value, magnitude of completeness,\n",
    "        total number of events, number of events above Mc).\n",
    "    \"\"\"\n",
    "\n",
    "\n",
    "    import math\n",
    "\n",
    "\n",
    "    def round_decimals_down(number:float, decimals:int=2):\n",
    "        \"\"\"\n",
    "        Returns a value rounded down to a specific number of decimal places.\n",
    "        \"\"\"\n",
    "        if not isinstance(decimals, int):\n",
    "            raise TypeError(\"decimal places must be an integer\")\n",
    "        elif decimals < 0:\n",
    "            raise ValueError(\"decimal places has to be 0 or more\")\n",
    "        elif decimals == 0:\n",
    "            return math.floor(number)\n",
    "\n",
    "        factor = 10 ** decimals\n",
    "        return math.floor(number * factor) / factor\n",
    "\n",
    "\n",
    "    def round_decimals_up(number:float, decimals:int=2):\n",
    "        \"\"\"\n",
    "        Returns a value rounded up to a specific number of decimal places.\n",
    "        \"\"\"\n",
    "        if not isinstance(decimals, int):\n",
    "            raise TypeError(\"decimal places must be an integer\")\n",
    "        elif decimals < 0:\n",
    "            raise ValueError(\"decimal places has to be 0 or more\")\n",
    "        elif decimals == 0:\n",
    "            return math.ceil(number)\n",
    "\n",
    "        factor = 10 ** decimals\n",
    "        return math.ceil(number * factor) / factor\n",
    "    \n",
    "    \n",
    "    ## get magnitudes from catalog\n",
    "    magnitudes, times = _extract_magnitudes_and_times(\n",
    "        catalog=catalog, starttime=starttime, endtime=endtime,\n",
    "        daily_start=daily_start, daily_end=daily_end,\n",
    "        use_first_pick=use_first_pick)\n",
    "\n",
    "    \n",
    "    if len(magnitudes) == 0:\n",
    "        msg = \"No events left to process.\"\n",
    "        raise Exception(msg)\n",
    "\n",
    "        \n",
    "    times = times\n",
    "    hist_non_cumul = []\n",
    "    hist_exceedance = []\n",
    "\n",
    "    ## sorting:\n",
    "    ind = times.argsort()\n",
    "    times = times[ind]\n",
    "    magnitudes = magnitudes[ind]\n",
    "\n",
    "    min_time, max_time = times[0], times[-1]\n",
    "\n",
    "    ## override start/end times?\n",
    "    min_time = starttime or min_time\n",
    "    max_time = endtime or max_time\n",
    "    \n",
    "    ## restrict to selected time bounds:\n",
    "    times_bkp = times.copy()\n",
    "    ind = (times >= min_time) & (times <= max_time)\n",
    "    magnitudes = magnitudes[ind]\n",
    "    times = times[ind]\n",
    "\n",
    "    duration_in_days  = (max_time - min_time) / (3600 * 24)\n",
    "    duration_in_years = (max_time - min_time) / (3600 * 24 * 365)\n",
    "    \n",
    "    if verbose:\n",
    "        print(\"%.2f years of data\" % duration_in_years)\n",
    "        print(\"%.2f years of data till end of catalog\" %\n",
    "              ((times_bkp[-1] - min_time) / (3600 * 24 * 365)))\n",
    "\n",
    "    if min_mag is None:\n",
    "#         min_mag = np.floor(min(magnitudes))\n",
    "        min_mag = np.round(min(magnitudes),1)\n",
    "        if min_mag == 0:\n",
    "            min_mag = 1e-6\n",
    "    if max_mag is None:\n",
    "#         max_mag = np.ceil(max(magnitudes))\n",
    "        max_mag = np.round(max(magnitudes),1)\n",
    "       \n",
    "    ## compute bins\n",
    "#     bin_edges = np.arange(min_mag - 0.001, max_mag + bin_width + 0.001, bin_width)\n",
    "    bin_edges = np.arange(min_mag, max_mag + bin_width, bin_width)\n",
    "    bin_left_edges = bin_edges[:-1]\n",
    "    bin_centers = (bin_edges[:-1] + bin_edges[1:]) / 2.0\n",
    "    \n",
    "    ## make histograms,\n",
    "    ## both normal binning as well as exceedance (frequency per year) histogram\n",
    "    hist_non_cumul, _ = np.histogram(magnitudes, bins=bin_edges)\n",
    "    hist_exceedance = hist_non_cumul[::-1].cumsum()[::-1]\n",
    "    hist_exceedance_per_year = hist_exceedance / duration_in_years\n",
    "\n",
    "    \n",
    "    ## for each magnitude threshold (bin), check synthetic fit disregarding bins\n",
    "    ## left of that magnitude bin\n",
    "    \n",
    "    magnitude_thresholds, b_values = estimate_b_values(hist_non_cumul, bin_edges)\n",
    "    goodness_of_fit_all = []\n",
    "    \n",
    "    for i, (magnitude_, b_) in enumerate(zip(magnitude_thresholds, b_values)):\n",
    "        \n",
    "        ## ignore everything left of current magnitude threshold\n",
    "        hist_non_cumul_ = hist_non_cumul[i:]\n",
    "        hist_exceedance_ = hist_exceedance[i:]\n",
    "        bin_centers_ = bin_centers[i:]\n",
    "\n",
    "        overall_count_ = hist_non_cumul_.sum()\n",
    "        a_ = math.log10(overall_count_) + b_ * magnitude_\n",
    "        synthetic_hist_exceedance = np.array([\n",
    "            math.pow(10, a_ - b_ * mag_) for mag_ in bin_centers_])\n",
    "\n",
    "        ## compare synthetic with real distribution\n",
    "        misfits = np.abs(hist_exceedance_ - synthetic_hist_exceedance).sum()\n",
    "        goodness_of_fit = 100 * (1 - misfits / hist_exceedance_.sum())\n",
    "        goodness_of_fit_all.append(goodness_of_fit)\n",
    "        \n",
    "        # plt.figure()\n",
    "        # plt.semilogy(bin_left_edges_, hist_exceedance_, marker=\"o\")\n",
    "        # plt.semilogy(bin_left_edges_, synthetic_hist_exceedance, marker=\"o\")\n",
    "        # plt.suptitle(str(goodness_of_fit_all))\n",
    "        # plt.show()\n",
    "        \n",
    "    goodness_of_fit_all = np.array(goodness_of_fit_all)\n",
    "\n",
    "    completeness_magnitude = goodness_of_fit_all >= min_goodness_of_fit\n",
    "    if np.any(completeness_magnitude):\n",
    "        success = True\n",
    "        completeness_index = completeness_magnitude.argmax()\n",
    "    else:\n",
    "        success = False\n",
    "        \n",
    "        ## select first local maximum of goodness of fit curve\n",
    "        completeness_index = (np.diff(goodness_of_fit_all) < 0).argmax()\n",
    "        \n",
    "    completeness_magnitude = magnitude_thresholds[completeness_index]\n",
    "    goodness_of_fit = goodness_of_fit_all[completeness_index]\n",
    "    b_value = b_values[completeness_index]\n",
    "    a_value = (math.log10(hist_exceedance_per_year[completeness_index]) +\n",
    "               b_value * completeness_magnitude)\n",
    "    \n",
    "    # plt.figure()\n",
    "    # plt.plot(bin_left_edges[:len(goodness_of_fit_all)],\n",
    "    #          100 - goodness_of_fit_all,\n",
    "    #          marker=\"o\")\n",
    "    # plt.axvline(completeness_magnitude)\n",
    "    # plt.axhline(100 - min_goodness_of_fit)\n",
    "    # plt.xlabel(\"Magnitude\")\n",
    "    # plt.ylabel(\"Residual [%]\")\n",
    "    # plt.show()\n",
    "\n",
    "    ## count events >= Mc\n",
    "    count = (magnitudes >= completeness_magnitude).sum()\n",
    "\n",
    "    if verbose:\n",
    "        print(\"time range: %s -- %s\" % (min_time, max_time))\n",
    "        print(\"mag min/max/bin_width: %.2f/%.2f/%.2f\" % (\n",
    "            min_mag, max_mag, bin_width))\n",
    "        print(\"a-Value: %.2f\" % a_value)\n",
    "        print(\"b-Value: %.2f\" % b_value)\n",
    "        print(\"Magnitude of completeness: %.2f\" % completeness_magnitude)\n",
    "        print(\"%i/%i events >= Mc (%s) in time range %s -- %s\" %\n",
    "              (count, len(magnitudes), completeness_magnitude, min_time,\n",
    "               max_time))\n",
    "\n",
    "       \n",
    "    ## Plotting        \n",
    "    if plot or outfile:\n",
    "\n",
    "        font = 12\n",
    "        \n",
    "        start_index = hist_non_cumul.nonzero()[0][0]\n",
    "        \n",
    "        synthetic_hist_exceedance = np.power(10, a_value - b_value * bin_left_edges)\n",
    "        \n",
    "        fig = plt.figure(figsize=(10, 5))\n",
    "        ax_cumul = fig.add_subplot(111)\n",
    "        \n",
    "        if title:\n",
    "            ax_cumul.set_title(title)\n",
    "            \n",
    "        fig.subplots_adjust(bottom=0.12)\n",
    "        \n",
    "        bbox = dict(fc=ax_cumul.get_facecolor(), ec='None', alpha=0.90)\n",
    "        \n",
    "        \n",
    "        ax_cumul.semilogy(bin_centers[start_index:], hist_exceedance_per_year[start_index:], \n",
    "                          label=\"cumulative per year\",\n",
    "                          marker=\"o\", linestyle=\" \", zorder=3, markerfacecolor=\"w\", markeredgewidth=2)\n",
    "        \n",
    "        ax_cumul.semilogy(bin_centers[start_index:],\n",
    "                          synthetic_hist_exceedance[start_index:], \"darkred\")\n",
    "        \n",
    "        ax_cumul.axvline(completeness_magnitude, color=\"darkred\", ls=\"--\", zorder=1)\n",
    "\n",
    "        ax_cumul.bar(bin_centers, height=hist_non_cumul, label=\"total count\", \n",
    "                     align=\"center\", width=bin_width*0.9, zorder=2, alpha=0.7)\n",
    "\n",
    "        \n",
    "        ax_cumul.grid(True, zorder=0)\n",
    "        ax_cumul.set_xlabel(\"Magnitude\", fontsize=font)\n",
    "        ax_cumul.set_ylabel(\"Number of Events\", fontsize=font)   \n",
    "        ax_cumul.legend(loc=1, fontsize=font-2)\n",
    "        \n",
    "\n",
    "        ## add text info on parameters\n",
    "        info = []\n",
    "        info.append(\"Mc:  %8.2f\" % completeness_magnitude)\n",
    "        info.append(\"a:   %8.2f\" % a_value)\n",
    "        info.append(\"b:   %8.2f\" % b_value)\n",
    "        info.append(\"GoF: %8.1f\" % goodness_of_fit)\n",
    "        info.append(\"Days: %7.0f\" % duration_in_days)\n",
    "        info.append(\"Events: %5.0f\" % len(catalog))\n",
    "\n",
    "        info = \"\\n\".join(info)\n",
    "        \n",
    "        ax_cumul.text(0.85, 0.8, info, color=\"darkred\", bbox=bbox, ha=\"left\",\n",
    "                      va=\"top\", family=\"monospace\", transform=ax_cumul.transAxes, zorder=5)\n",
    "        \n",
    "        \n",
    "        ## plot goodness of fit\n",
    "        ax_gof = ax_cumul.twinx()\n",
    "        gof_color = \"g\"\n",
    "        ax_gof.plot(bin_centers[start_index:-1],\n",
    "                    goodness_of_fit_all[start_index:], markerfacecolor=\"w\", markeredgewidth=2,\n",
    "                    marker=\"d\", color=gof_color, zorder=-1)\n",
    "        ax_gof.axhline(min_goodness_of_fit, color=gof_color, zorder=-1, ls=\"--\")\n",
    "        ax_gof.set_ylim(0, 100)\n",
    "        ax_gof.set_ylabel(\"Goodness of Fit\", color=\"green\", fontsize=font)\n",
    "        ax_gof.grid(False)\n",
    "        ax_gof.tick_params(axis=\"y\", colors=\"green\")\n",
    "        ax_gof.invert_yaxis()\n",
    "#         ax_gof.set_yticks(np.linspace(ax_gof.get_yticks()[0], ax_gof.get_yticks()[-1], len(ax_cumul.get_yticks())))\n",
    "        \n",
    "    \n",
    "        time_str = \" -- \".join([t.strftime(\"%Y-%m-%d\") for t in (min_time, max_time)])\n",
    "        fig.suptitle(time_str, fontsize=font)\n",
    "\n",
    "\n",
    "        plt.subplots_adjust(top=0.90, right=0.92)\n",
    "        \n",
    "        if outfile:\n",
    "            plt.savefig(outfile)\n",
    "            if not plot:\n",
    "                plt.close(fig)\n",
    "                \n",
    "        if show:\n",
    "            plt.show()\n",
    "            return fig, (success, goodness_of_fit, a_value, b_value, completeness_magnitude, len(magnitudes), count)\n",
    "    \n",
    "    return (success, goodness_of_fit, a_value, b_value, completeness_magnitude, len(magnitudes), count)"
   ]
  },
  {
   "cell_type": "code",
   "execution_count": 15,
   "id": "22d9f3cd",
   "metadata": {
    "ExecuteTime": {
     "end_time": "2023-07-05T09:24:30.504962Z",
     "start_time": "2023-07-05T09:24:28.321511Z"
    },
    "code_folding": [
     0
    ]
   },
   "outputs": [
    {
     "name": "stdout",
     "output_type": "stream",
     "text": [
      "1.00 years of data\n",
      "1.00 years of data till end of catalog\n",
      "time range: 2022-10-01T05:36:11.240000Z -- 2023-09-29T16:06:53.850000Z\n",
      "mag min/max/bin_width: 0.60/4.20/0.25\n",
      "a-Value: 3.25\n",
      "b-Value: 0.75\n",
      "Magnitude of completeness: 1.48\n",
      "123/239 events >= Mc (1.475) in time range 2022-10-01T05:36:11.240000Z -- 2023-09-29T16:06:53.850000Z\n"
     ]
    },
    {
     "data": {
      "image/png": "[encoded data removed]",
      "text/plain": [
       "<Figure size 1000x500 with 2 Axes>"
      ]
     },
     "metadata": {},
     "output_type": "display_data"
    }
   ],
   "source": [
    "fig, out = gutenberg_richter_fit(cat, min_goodness_of_fit=95, bin_width=bin_width, use_first_pick=False, \n",
    "                      plot=True, show=True, verbose=True)\n",
    "\n",
    "\n",
    "fig.savefig(config['outpath_figs']+f\"BSPF_GutenbergRichter{config['outname_app']}.png\", dpi=200, bbox_inches='tight', pad_inches=0.05)"
   ]
  },
  {
   "cell_type": "code",
   "execution_count": 16,
   "id": "c3b6be1e",
   "metadata": {
    "ExecuteTime": {
     "end_time": "2023-07-05T09:24:43.980270Z",
     "start_time": "2023-07-05T09:24:30.505944Z"
    }
   },
   "outputs": [
    {
     "ename": "NameError",
     "evalue": "name 'sns' is not defined",
     "output_type": "error",
     "traceback": [
      "\u001b[0;31m---------------------------------------------------------------------------\u001b[0m",
      "\u001b[0;31mNameError\u001b[0m                                 Traceback (most recent call last)",
      "Cell \u001b[0;32mIn[16], line 1\u001b[0m\n\u001b[0;32m----> 1\u001b[0m \u001b[43mgutenberg_richter_fit_statistics\u001b[49m\u001b[43m(\u001b[49m\u001b[43mcat\u001b[49m\u001b[43m,\u001b[49m\u001b[43m \u001b[49m\u001b[43mmin_goodness_of_fit\u001b[49m\u001b[38;5;241;43m=\u001b[39;49m\u001b[38;5;241;43m95\u001b[39;49m\u001b[43m,\u001b[49m\u001b[43m \u001b[49m\u001b[43mbin_widths\u001b[49m\u001b[38;5;241;43m=\u001b[39;49m\u001b[43mnp\u001b[49m\u001b[38;5;241;43m.\u001b[39;49m\u001b[43marange\u001b[49m\u001b[43m(\u001b[49m\u001b[38;5;241;43m0.1\u001b[39;49m\u001b[43m,\u001b[49m\u001b[43m \u001b[49m\u001b[38;5;241;43m1\u001b[39;49m\u001b[43m,\u001b[49m\u001b[43m \u001b[49m\u001b[38;5;241;43m0.1\u001b[39;49m\u001b[43m)\u001b[49m\u001b[43m,\u001b[49m\u001b[43m \u001b[49m\n\u001b[1;32m      2\u001b[0m \u001b[43m                                 \u001b[49m\u001b[43mnum_shifts\u001b[49m\u001b[38;5;241;43m=\u001b[39;49m\u001b[38;5;241;43m5\u001b[39;49m\u001b[43m,\u001b[49m\u001b[43m \u001b[49m\u001b[43mplot\u001b[49m\u001b[38;5;241;43m=\u001b[39;49m\u001b[38;5;28;43;01mTrue\u001b[39;49;00m\u001b[43m,\u001b[49m\u001b[43m \u001b[49m\u001b[43mshow\u001b[49m\u001b[38;5;241;43m=\u001b[39;49m\u001b[38;5;28;43;01mTrue\u001b[39;49;00m\u001b[43m)\u001b[49m\n",
      "Cell \u001b[0;32mIn[8], line 70\u001b[0m, in \u001b[0;36mgutenberg_richter_fit_statistics\u001b[0;34m(catalog, min_goodness_of_fit, bin_widths, num_shifts, min_mag, max_mag, starttime, endtime, daily_start, daily_end, use_first_pick, verbose, plot, show, outfile, save_individual_fits)\u001b[0m\n\u001b[1;32m     67\u001b[0m info \u001b[38;5;241m=\u001b[39m \u001b[38;5;124m\"\u001b[39m\u001b[38;5;130;01m\\n\u001b[39;00m\u001b[38;5;124m\"\u001b[39m\u001b[38;5;241m.\u001b[39mjoin(info)\n\u001b[1;32m     68\u001b[0m ax2\u001b[38;5;241m.\u001b[39mtext(\u001b[38;5;241m0.98\u001b[39m, \u001b[38;5;241m0.98\u001b[39m, info, color\u001b[38;5;241m=\u001b[39m\u001b[38;5;124m\"\u001b[39m\u001b[38;5;124mk\u001b[39m\u001b[38;5;124m\"\u001b[39m, ha\u001b[38;5;241m=\u001b[39m\u001b[38;5;124m\"\u001b[39m\u001b[38;5;124mright\u001b[39m\u001b[38;5;124m\"\u001b[39m, va\u001b[38;5;241m=\u001b[39m\u001b[38;5;124m\"\u001b[39m\u001b[38;5;124mtop\u001b[39m\u001b[38;5;124m\"\u001b[39m,\n\u001b[1;32m     69\u001b[0m          transform\u001b[38;5;241m=\u001b[39max2\u001b[38;5;241m.\u001b[39mtransAxes)\n\u001b[0;32m---> 70\u001b[0m \u001b[43msns\u001b[49m\u001b[38;5;241m.\u001b[39mviolinplot(x\u001b[38;5;241m=\u001b[39mdata, orient\u001b[38;5;241m=\u001b[39m\u001b[38;5;124m\"\u001b[39m\u001b[38;5;124mv\u001b[39m\u001b[38;5;124m\"\u001b[39m, cut\u001b[38;5;241m=\u001b[39m\u001b[38;5;241m0\u001b[39m, ax\u001b[38;5;241m=\u001b[39max1)\n\u001b[1;32m     71\u001b[0m sns\u001b[38;5;241m.\u001b[39mdistplot(data, bins\u001b[38;5;241m=\u001b[39m\u001b[38;5;241m20\u001b[39m, vertical\u001b[38;5;241m=\u001b[39m\u001b[38;5;28;01mTrue\u001b[39;00m, kde\u001b[38;5;241m=\u001b[39m\u001b[38;5;28;01mFalse\u001b[39;00m, ax\u001b[38;5;241m=\u001b[39max2)\n\u001b[1;32m     72\u001b[0m ax2\u001b[38;5;241m.\u001b[39mset_xlim(right\u001b[38;5;241m=\u001b[39m\u001b[38;5;241m1.4\u001b[39m \u001b[38;5;241m*\u001b[39m ax2\u001b[38;5;241m.\u001b[39mget_xlim()[\u001b[38;5;241m1\u001b[39m])\n",
      "\u001b[0;31mNameError\u001b[0m: name 'sns' is not defined"
     ]
    },
    {
     "data": {
      "image/png": "[encoded data removed]",
      "text/plain": [
       "<Figure size 700x700 with 2 Axes>"
      ]
     },
     "metadata": {},
     "output_type": "display_data"
    }
   ],
   "source": [
    "gutenberg_richter_fit_statistics(cat, min_goodness_of_fit=95, bin_widths=np.arange(0.1, 1, 0.1), num_shifts=5, plot=True, show=True)\n"
   ]
  },
  {
   "cell_type": "code",
   "execution_count": null,
   "id": "40dff7d0",
   "metadata": {
    "ExecuteTime": {
     "end_time": "2023-07-02T16:45:40.066841Z",
     "start_time": "2023-07-02T16:45:40.062707Z"
    }
   },
   "outputs": [],
   "source": []
  },
  {
   "cell_type": "code",
   "execution_count": null,
   "id": "4b9c679c",
   "metadata": {
    "ExecuteTime": {
     "end_time": "2023-07-05T09:24:48.683142Z",
     "start_time": "2023-07-05T09:24:43.981291Z"
    },
    "code_folding": []
   },
   "outputs": [],
   "source": [
    "out = time_dependent_gutenberg_richter_fit(cat, 100, 10, min_goodness_of_fit=95, \n",
    "                                     starttime=UTCDateTime(\"2022-10-01\"), endtime=UTCDateTime(\"2023-03-31\"), \n",
    "                                     daily_start=0, daily_end=24, use_first_pick=True, plot=True, \n",
    "                                     show=True, outfile=None)"
   ]
  },
  {
   "cell_type": "code",
   "execution_count": null,
   "id": "cbc520d8",
   "metadata": {},
   "outputs": [],
   "source": []
  }
 ],
 "metadata": {
  "kernelspec": {
   "display_name": "Python 3 (ipykernel)",
   "language": "python",
   "name": "python3"
  },
  "language_info": {
   "codemirror_mode": {
    "name": "ipython",
    "version": 3
   },
   "file_extension": ".py",
   "mimetype": "text/x-python",
   "name": "python",
   "nbconvert_exporter": "python",
   "pygments_lexer": "ipython3",
   "version": "3.9.16"
  },
  "toc": {
   "base_numbering": 1,
   "nav_menu": {},
   "number_sections": true,
   "sideBar": true,
   "skip_h1_title": false,
   "title_cell": "Table of Contents",
   "title_sidebar": "Contents",
   "toc_cell": false,
   "toc_position": {},
   "toc_section_display": true,
   "toc_window_display": false
  },
  "varInspector": {
   "cols": {
    "lenName": 16,
    "lenType": 16,
    "lenVar": 40
   },
   "kernels_config": {
    "python": {
     "delete_cmd_postfix": "",
     "delete_cmd_prefix": "del ",
     "library": "var_list.py",
     "varRefreshCmd": "print(var_dic_list())"
    },
    "r": {
     "delete_cmd_postfix": ") ",
     "delete_cmd_prefix": "rm(",
     "library": "var_list.r",
     "varRefreshCmd": "cat(var_dic_list()) "
    }
   },
   "types_to_exclude": [
    "module",
    "function",
    "builtin_function_or_method",
    "instance",
    "_Feature"
   ],
   "window_display": false
  }
 },
 "nbformat": 4,
 "nbformat_minor": 5
}
