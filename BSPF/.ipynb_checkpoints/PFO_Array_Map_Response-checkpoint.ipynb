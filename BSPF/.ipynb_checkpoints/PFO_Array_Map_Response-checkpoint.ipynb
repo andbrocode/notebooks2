{
 "cells": [
  {
   "cell_type": "markdown",
   "id": "eb0eb2ff",
   "metadata": {},
   "source": [
    "# Plot Maps of ADR Arrays"
   ]
  },
  {
   "cell_type": "code",
   "execution_count": null,
   "id": "da79ed6c",
   "metadata": {},
   "outputs": [],
   "source": []
  },
  {
   "cell_type": "markdown",
   "id": "de0e247f",
   "metadata": {},
   "source": [
    "## Imports"
   ]
  },
  {
   "cell_type": "code",
   "execution_count": 1,
   "id": "6d6e9377",
   "metadata": {
    "ExecuteTime": {
     "end_time": "2023-05-11T16:39:22.657739Z",
     "start_time": "2023-05-11T16:39:21.818179Z"
    }
   },
   "outputs": [],
   "source": [
    "from obspy import UTCDateTime\n",
    "from obspy.clients import fdsn\n",
    "from matplotlib.colorbar import ColorbarBase\n",
    "from matplotlib.colors import Normalize\n",
    "from obspy.geodetics.base import gps2dist_azimuth\n",
    "from obspy.geodetics import locations2degrees\n",
    "from obspy.clients.fdsn    import Client, RoutingClient\n",
    "from obspy.signal.rotate import rotate2zne\n",
    "from andbro__savefig import __savefig\n",
    "\n",
    "import obspy.signal.array_analysis as AA\n",
    "import matplotlib.pyplot  as plt\n",
    "import numpy as np\n",
    "\n",
    "import warnings\n",
    "warnings.filterwarnings('ignore')"
   ]
  },
  {
   "cell_type": "code",
   "execution_count": 2,
   "id": "3c429cae",
   "metadata": {
    "ExecuteTime": {
     "end_time": "2023-05-11T16:39:22.677041Z",
     "start_time": "2023-05-11T16:39:22.672166Z"
    },
    "code_folding": [
     0
    ]
   },
   "outputs": [],
   "source": [
    "def __get_inventory(config):\n",
    "    coords = []\n",
    "    for i, station in enumerate(config['subarray_stations']):\n",
    "        inven = config['fdsn_client'].get_stations(network=config['network'][i],\n",
    "                                                   station=station,\n",
    "                                                   channel='BHZ',\n",
    "                                                   starttime=config['starttime'],\n",
    "                                                   endtime=config['starttime']+86400,\n",
    "                                                   level='response'\n",
    "                                                  )\n",
    "        \n",
    "\n",
    "        l_lon =  float(inven.get_coordinates('%s.%s..BHZ'%(config['network'][i],station))['longitude'])\n",
    "        l_lat =  float(inven.get_coordinates('%s.%s..BHZ'%(config['network'][i],station))['latitude'])\n",
    "        height = float(inven.get_coordinates('%s.%s..BHZ'%(config['network'][i],station))['elevation'])\n",
    "\n",
    "        coords.append([l_lon,l_lat, height])\n",
    "\n",
    "    config['coordinates'] = np.array(coords)\n",
    "    return config"
   ]
  },
  {
   "cell_type": "code",
   "execution_count": 3,
   "id": "a9620daa",
   "metadata": {
    "ExecuteTime": {
     "end_time": "2023-05-11T16:39:22.698850Z",
     "start_time": "2023-05-11T16:39:22.690002Z"
    },
    "code_folding": [
     0
    ]
   },
   "outputs": [],
   "source": [
    "def __get_distances(config):\n",
    "    \n",
    "    import obspy\n",
    "    \n",
    "    cc_lon, cc_lat,cc_height = 0,0,0\n",
    "    for c in config['coordinates']:\n",
    "        cc_lon += c[0]\n",
    "        cc_lat += c[1]\n",
    "        cc_height += c[2]\n",
    "\n",
    "    cc_lon /= len(config['coordinates'])\n",
    "    cc_lat /= len(config['coordinates'])\n",
    "    cc_height /= len(config['coordinates'])\n",
    "\n",
    "    config['centroid'] = [cc_lon, cc_lat, cc_height]\n",
    "    \n",
    "    dists = []\n",
    "    for lon,lat,height in config['coordinates']:    \n",
    "        dist_x, dist_y = obspy.signal.util.util_geo_km(cc_lon, cc_lat, lon, lat)\n",
    "        dists.append([dist_x*1000,dist_y*1000, height-cc_height])  #convert unit from km to m\n",
    "\n",
    "    config['distances'] = np.array(dists)\n",
    "    return config"
   ]
  },
  {
   "cell_type": "code",
   "execution_count": 4,
   "id": "a91173f8",
   "metadata": {
    "ExecuteTime": {
     "end_time": "2023-05-11T16:39:22.810125Z",
     "start_time": "2023-05-11T16:39:22.802585Z"
    },
    "code_folding": [
     0
    ]
   },
   "outputs": [],
   "source": [
    "def __get_aperture(config, reference_station=None):\n",
    "    \n",
    "    from numpy import argmax, array, sqrt\n",
    "    import obspy \n",
    "    \n",
    "    for n, sta in enumerate(config['subarray_stations']):\n",
    "        if sta == reference_station:\n",
    "            ref_lon, ref_lat, ref_height = config['coordinates'][n][0], config['coordinates'][n][1], config['coordinates'][n][2]\n",
    "        \n",
    "    dists = []\n",
    "    for lon,lat,height in config['coordinates']:    \n",
    "        dist_x, dist_y = obspy.signal.util.util_geo_km(ref_lon, ref_lat, lon, lat)\n",
    "        dists.append(sqrt((dist_x*1000)**2+(dist_y*1000)**2))  #convert unit from km to m\n",
    "        \n",
    "        \n",
    "    aperture = max(abs(array(dists)))\n",
    "    idx = argmax(abs(array(dists)))\n",
    "    \n",
    "    connection = (ref_lon, ref_lat, config['coordinates'][idx][0], config['coordinates'][idx][1])\n",
    "    print(f\" -> Aperture of Array: {round(aperture,2)} m\")\n",
    "    return aperture, connection"
   ]
  },
  {
   "cell_type": "markdown",
   "id": "c78442c2",
   "metadata": {},
   "source": [
    "## PFO ARRAY"
   ]
  },
  {
   "cell_type": "code",
   "execution_count": 27,
   "id": "21abb908",
   "metadata": {
    "ExecuteTime": {
     "end_time": "2023-05-11T16:46:45.282354Z",
     "start_time": "2023-05-11T16:46:36.606695Z"
    }
   },
   "outputs": [],
   "source": [
    "## generate configuration object\n",
    "config3 = {}\n",
    "\n",
    "## specify client\n",
    "config3['fdsn_client'] = Client('IRIS')\n",
    "\n",
    "#starttime for data process\n",
    "config3['starttime'] = UTCDateTime(\"2019-11-02T00:00:00\")\n",
    "\n",
    "# config3['save_path'] = \"/home/andbro/kilauea-data/LNM/data/PFO/adr/\"\n",
    "config3['save_path'] = \"/export/data/LNM/data/PFO/adr/\"\n",
    "\n",
    "config3['array_code'] = \"PFO\"\n",
    "\n",
    "#PFO array information\n",
    "config3['network'] = ['PY','PY','PY','PY','PY','PY','PY','PY','PY','PY','PY','PY','PY']\n",
    "config3['array_stations'] = ['BPH01','BPH02','BPH03','BPH04','BPH05','BPH06','BPH07','BPH08','BPH09','BPH10','BPH11','BPH12','BPH13']\n",
    "config3['misorientations'] =  [0. ,-1.375 ,0.25 ,0.125 ,-0.6875 ,-0.625 ,-1.9375 ,0.375  ,-6.5625 ,0.3125 ,-1.125 ,-2.5625 ,0.1875]\n",
    "\n",
    "config3['array_station'] =[]\n",
    "config3['misorientation'] =[]\n",
    "\n",
    "config3['subarray_mask'] = [0,1,2,3,4,5,6,7,8,9,10,11,12] #all\n",
    "# config3['subarray_mask'] = [0,5,8,9,10,11,12] #optimal\n",
    "# config3['subarray_mask'] = [0,1,2,3] #inner\n",
    "\n",
    "config3['subarray'] = np.arange(len(config3['array_stations']))\n",
    "\n",
    "config3['subarray_stations'] = [config3['array_stations'][i] for i in config3['subarray_mask']]\n",
    "config3['network'] = [config3['network'][j] for j in config3['subarray_mask']]\n",
    "config3['subarray_misorientation'] = [config3['misorientations'][i] for i in config3['subarray']]\n",
    "\n",
    "config3['samples'] = 86400*20\n",
    "\n",
    "#parameter for array-derivation\n",
    "config3['prefilt'] = (0.001, 0.01, 5, 10)\n",
    "config3['freq1'] = 0.014   #0.014 for Spudich    and  0.073 for Langston\n",
    "config3['freq2'] = 1.5\n",
    "config3['bpf'] = True\n",
    "config3['channel_resp'] = 'BHZ'\n",
    "config3['debug'] = True\n",
    "\n",
    "# adr parameters\n",
    "config3['vp'] = 6264. #1700\n",
    "config3['vs'] = 3751. #1000\n",
    "config3['sigmau'] = 0.0001\n",
    "\n",
    "## reference stations for computation of aperture\n",
    "# config3['reference_station'] = \"BPH11\"\n",
    "config3['reference_station'] = \"BPH01\"\n",
    "\n",
    "\n",
    "## PFO ARRAY\n",
    "config3['label_adjustments'] = {\"BPH01\": [0, 2e-4],\"BPH02\": [0, 2e-4],\"BPH03\": [0, -4.3e-4],\n",
    "                               \"BPH04\": [-1.3e-3, -4.1e-4],\"BPH05\": [0, 1.3e-4],\"BPH06\": [0, 2e-4],\n",
    "                               \"BPH07\": [0, 1.5e-4],\"BPH08\": [0, 1.5e-4],\"BPH09\": [0, -4.3e-4],\n",
    "                               \"BPH10\": [-5e-4, 2e-4],\"BPH11\": [-8e-4, 2e-4],\n",
    "                               \"BPH12\": [3e-4, 1.2e-4],\"BPH13\": [-2e-4, 2e-4]}\n",
    "\n",
    "config3 = __get_inventory(config3)\n",
    "config3 = __get_distances(config3)"
   ]
  },
  {
   "cell_type": "markdown",
   "id": "82e0126f",
   "metadata": {},
   "source": [
    "## ALl Maps"
   ]
  },
  {
   "cell_type": "code",
   "execution_count": 113,
   "id": "03c16255",
   "metadata": {
    "ExecuteTime": {
     "end_time": "2023-05-11T17:02:46.214109Z",
     "start_time": "2023-05-11T17:02:46.195838Z"
    },
    "code_folding": []
   },
   "outputs": [],
   "source": [
    "def __makeplot_maps(configs):\n",
    "\n",
    "    \n",
    "    fig, ax = plt.subplots(2,2, figsize=(12,12))\n",
    "    \n",
    "    plt.subplots_adjust(hspace=0.2, wspace=0.2)\n",
    "    \n",
    "    font = 14 \n",
    "    \n",
    "    for ii, config in enumerate(configs):\n",
    "\n",
    "        if ii == 0: \n",
    "            k,l = 0,0\n",
    "        if ii == 1:\n",
    "            k,l = 0,1\n",
    "        if ii == 2:\n",
    "            k,l = 1,0\n",
    "        \n",
    "        aper, connect = __get_aperture(config, reference_station=config['reference_station'])\n",
    "\n",
    "\n",
    "        for n, (c, sta) in enumerate(zip(config['coordinates'], config['subarray_stations'])):\n",
    "\n",
    "            if config['array_code'] == \"PFO\":\n",
    "                if n in [0,5,8,9,10,11,12]:\n",
    "                    ax[k,l].scatter(c[0], c[1], c='g', pen=1, marker=\"^\", s=80, zorder=2)\n",
    "                    ax[k,l].scatter(-116.4605, 33.61, c='g', marker=\"^\", s=0, zorder=2)\n",
    "                    ax[k,l].scatter(-116.451, 33.61, c='g', marker=\"^\", s=0, zorder=2)\n",
    "\n",
    "                else:\n",
    "                    ax[k,l].scatter(c[0], c[1], c='r', marker=\"^\", s=80, zorder=2)\n",
    "            else:\n",
    "                ax[k,l].scatter(c[0], c[1], c='r', marker=\"^\", s=80, zorder=2)\n",
    "\n",
    "            try:\n",
    "                x, y = config['label_adjustments'][sta]\n",
    "                ax[k,l].text(c[0]+x, c[1]+y, sta, zorder=2)\n",
    "            except:\n",
    "                print(f\"{config['array_stations'][n]} has no label..\")\n",
    "\n",
    "        ax[k,l].scatter(config['centroid'][0], config['centroid'][1], s=100, marker=\"+\", c='k',zorder=2)\n",
    "\n",
    "        ax[k,l].set_title(f\"{config['array_code']} Array Stations - Aperture: {int(round(aper,0))} m\")\n",
    "        ax[k,l].ticklabel_format(useOffset=False, style='plain')\n",
    "        ax[k,l].grid(alpha=0.5, zorder=0)\n",
    "\n",
    "    \n",
    "        ## draw connection\n",
    "        ax[k,l].plot([connect[0], connect[2]], [connect[1], connect[3]], ls=\":\", zorder=1, color='k')\n",
    "    \n",
    "    ## panel labels\n",
    "    ax[0,0].text(.01, .99, 'a)', ha='left', va='top', transform=ax[0,0].transAxes, fontsize=font+2)\n",
    "    ax[0,1].text(.01, .99, 'b)', ha='left', va='top', transform=ax[0,1].transAxes, fontsize=font+2)\n",
    "    ax[1,0].text(.01, .99, 'c)', ha='left', va='top', transform=ax[1,0].transAxes, fontsize=font+2)\n",
    "                \n",
    "    ax[1,1].axis('off')\n",
    "\n",
    "    ax[0,1].set_xlabel(\"Longitude (°)\", fontsize=font)\n",
    "    ax[1,0].set_xlabel(\"Longitude (°)\", fontsize=font)\n",
    "    ax[1,1].set_xlabel(\"Longitude (°)\", fontsize=font)\n",
    "    ax[0,0].set_ylabel(\"Latitude (°)\", fontsize=font)\n",
    "    ax[1,0].set_ylabel(\"Latitude (°)\", fontsize=font)\n",
    "\n",
    "\n",
    "    ax[1,0].locator_params(axis=\"x\", nbins=5)\n",
    "\n",
    "    plt.show();\n",
    "    return fig"
   ]
  },
  {
   "cell_type": "code",
   "execution_count": 114,
   "id": "8d92d6d4",
   "metadata": {
    "ExecuteTime": {
     "end_time": "2023-05-11T17:02:46.727865Z",
     "start_time": "2023-05-11T17:02:46.724152Z"
    }
   },
   "outputs": [],
   "source": [
    "# fig = __makeplot_maps([config3, config2, config1]);"
   ]
  },
  {
   "cell_type": "code",
   "execution_count": 115,
   "id": "70a7c071",
   "metadata": {
    "ExecuteTime": {
     "end_time": "2023-05-11T17:02:47.765317Z",
     "start_time": "2023-05-11T17:02:47.761651Z"
    }
   },
   "outputs": [],
   "source": [
    "# __savefig(fig, outpath=\"/export/data/LNM/figures_final/\", outname=\"maps_ADR_arrays_final\", mode=\"png\", dpi=300)"
   ]
  },
  {
   "cell_type": "code",
   "execution_count": 116,
   "id": "9206c440",
   "metadata": {
    "ExecuteTime": {
     "end_time": "2023-05-11T17:02:47.962987Z",
     "start_time": "2023-05-11T17:02:47.957163Z"
    },
    "code_folding": [
     0
    ]
   },
   "outputs": [],
   "source": [
    "# def __makeplot_maps(configs):\n",
    "\n",
    "    \n",
    "#     fig, ax = plt.subplots(2,2, figsize=(12,12))\n",
    "    \n",
    "#     plt.subplots_adjust(hspace=0.2, wspace=0.2)\n",
    "    \n",
    "#     font = 14 \n",
    "    \n",
    "#     for ii, config in enumerate(configs):\n",
    "\n",
    "#         if ii == 0: \n",
    "#             k,l = 1,1\n",
    "#         if ii == 1:\n",
    "#             k,l = 0,1\n",
    "#         if ii == 2:\n",
    "#             k,l = 1,0\n",
    "        \n",
    "#         aper, connect = __get_aperture(config, reference_station=config['reference_station'])\n",
    "\n",
    "\n",
    "#         for n, (c, sta) in enumerate(zip(config['coordinates'], config['subarray_stations'])):\n",
    "\n",
    "#             if config['array_code'] == \"PFO\":\n",
    "#                 if n in [0,5,8,9,10,11,12]:\n",
    "#                     ax[k,l].scatter(c[0], c[1], c='g', marker=\"^\", s=80, zorder=2)\n",
    "#                     ax[k,l].scatter(-116.4605, 33.61, c='g', marker=\"^\", s=0, zorder=2)\n",
    "#                     ax[k,l].scatter(-116.451, 33.61, c='g', marker=\"^\", s=0, zorder=2)\n",
    "\n",
    "#                 else:\n",
    "#                     ax[k,l].scatter(c[0], c[1], c='r', marker=\"^\", s=80, zorder=2)\n",
    "#             else:\n",
    "#                 ax[k,l].scatter(c[0], c[1], c='r', marker=\"^\", s=80, zorder=2)\n",
    "\n",
    "#             try:\n",
    "#                 x, y = config['label_adjustments'][sta]\n",
    "#                 ax[k,l].text(c[0]+x, c[1]+y, sta, zorder=2)\n",
    "#             except:\n",
    "#                 print(f\"{config['array_stations'][n]} has no label..\")\n",
    "\n",
    "#         ax[k,l].scatter(config['centroid'][0], config['centroid'][1], s=100, marker=\"+\", c='k',zorder=2)\n",
    "\n",
    "#         ax[k,l].set_title(f\"{config['array_code']} Array Stations - Aperture: {int(round(aper,0))} m\")\n",
    "#         ax[k,l].ticklabel_format(useOffset=False, style='plain')\n",
    "#         ax[k,l].grid(alpha=0.5, zorder=0)\n",
    "\n",
    "    \n",
    "#         ## draw connection\n",
    "#         ax[k,l].plot([connect[0], connect[2]], [connect[1], connect[3]], ls=\":\", zorder=1, color='k')\n",
    "    \n",
    "#     ## panel labels\n",
    "#     ax[0,1].text(.01, .99, 'a)', ha='left', va='top', transform=ax[0,1].transAxes, fontsize=font+2)\n",
    "#     ax[1,1].text(.01, .99, 'b)', ha='left', va='top', transform=ax[1,1].transAxes, fontsize=font+2)\n",
    "#     ax[1,0].text(.01, .99, 'c)', ha='left', va='top', transform=ax[1,0].transAxes, fontsize=font+2)\n",
    "                \n",
    "#     ax[0,0].axis('off')\n",
    "\n",
    "# #     ax[0,1].set_xlabel(\"Longitude (°)\", fontsize=font)\n",
    "#     ax[1,0].set_xlabel(\"Longitude (°)\", fontsize=font)\n",
    "#     ax[1,1].set_xlabel(\"Longitude (°)\", fontsize=font)\n",
    "#     ax[0,1].set_ylabel(\"Latitude (°)\", fontsize=font)\n",
    "#     ax[1,0].set_ylabel(\"Latitude (°)\", fontsize=font)\n",
    "\n",
    "\n",
    "#     ax[1,0].locator_params(axis=\"x\", nbins=5)\n",
    "\n",
    "#     plt.show();\n",
    "#     return fig"
   ]
  },
  {
   "cell_type": "code",
   "execution_count": 117,
   "id": "a3e6ae06",
   "metadata": {
    "ExecuteTime": {
     "end_time": "2023-05-11T17:02:48.116640Z",
     "start_time": "2023-05-11T17:02:48.113280Z"
    }
   },
   "outputs": [],
   "source": [
    "# fig = __makeplot_maps([config3, config2, config1]);\n",
    "\n",
    "# __savefig(fig, outpath=\"/export/data/LNM/figures_final/\", outname=\"maps_ADR_arrays_final_slides\", mode=\"png\", dpi=300)"
   ]
  },
  {
   "cell_type": "markdown",
   "id": "79a65843",
   "metadata": {},
   "source": [
    "## Single Map"
   ]
  },
  {
   "cell_type": "code",
   "execution_count": 122,
   "id": "fb2360df",
   "metadata": {
    "ExecuteTime": {
     "end_time": "2023-05-11T17:02:59.769105Z",
     "start_time": "2023-05-11T17:02:59.747477Z"
    },
    "code_folding": []
   },
   "outputs": [],
   "source": [
    "def __plot_stations(config):\n",
    "\n",
    "    aper, connect = __get_aperture(config, reference_station=config['reference_station'])\n",
    "\n",
    "    fig, ax = plt.subplots(1,1, figsize=(7,7))\n",
    "    \n",
    "    font = 14\n",
    "    \n",
    "    for n, (c, sta) in enumerate(zip(config['coordinates'], config['subarray_stations'])):\n",
    "\n",
    "        \n",
    "        if config['array_code'] == \"PFO\":\n",
    "            if n in [0,1,2,3]:\n",
    "                ax.scatter(c[0], c[1], c='g', marker=\"^\", s=80, zorder=2)\n",
    "            else:\n",
    "                ax.scatter(c[0], c[1], c='r', marker=\"^\", s=80, zorder=2)\n",
    "        else:\n",
    "            ax.scatter(c[0], c[1], c='r', marker=\"^\", s=80, zorder=2)\n",
    "        \n",
    "        \n",
    "        ## add labels\n",
    "        label_adjustments = {\"BPH01\": [0, 2e-4],\"BPH02\": [0, 2e-4],\"BPH03\": [1e-4, -4e-4],\n",
    "                               \"BPH04\": [-8e-4, 2e-4],\"BPH05\": [0, 2e-4],\"BPH06\": [0, 2e-4],\n",
    "                               \"BPH07\": [0, 2e-4],\"BPH08\": [-9e-4, 2e-4],\"BPH09\": [0, 2e-4],\n",
    "                               \"BPH10\": [0, 2e-4],\"BPH11\": [0, 2e-4],\n",
    "                               \"BPH12\": [0, -4e-4],\"BPH13\": [0,  2e-4]}\n",
    "        \n",
    "        try:\n",
    "            x, y = label_adjustments[sta]\n",
    "            ax.text(c[0]+x, c[1]+y, sta, zorder=2)\n",
    "        except:\n",
    "            print(f\"{config['array_stations'][n]} has no label..\")\n",
    "    \n",
    "    ## plot centroid\n",
    "    ax.scatter(config['centroid'][0], config['centroid'][1], s=100, marker=\"+\", c='k',zorder=2)\n",
    "\n",
    "    ## plot aperture line\n",
    "    ax.plot([connect[0], connect[2]], [connect[1], connect[3]], ls=\":\", zorder=1, color='k')\n",
    "\n",
    "    \n",
    "    ax.set_title(f\"{config['array_code']} Array stations - Aperture: {int(round(aper,0))} m\")\n",
    "    \n",
    "    ax.set_xlabel(\"Longitude (°)\", fontsize=font)\n",
    "    ax.set_ylabel(\"Latitude (°)\", fontsize=font)\n",
    "    \n",
    "    ax.grid(alpha=0.8, zorder=0, ls=\":\")\n",
    "        \n",
    "        \n",
    "    lat_min, lat_max = config3['coordinates'][:,1].min(), config3['coordinates'][:,1].max()\n",
    "    lon_min, lon_max = config3['coordinates'][:,0].min(), config3['coordinates'][:,0].max()\n",
    "    ax.set_xlim(lon_min-0.001, lon_max+0.001)\n",
    "    ax.set_ylim(lat_min-0.001, lat_max+0.001)\n",
    "        \n",
    "    ax.ticklabel_format(useOffset=False, style='plain')\n",
    "\n",
    "    plt.show();\n",
    "    return fig"
   ]
  },
  {
   "cell_type": "code",
   "execution_count": 123,
   "id": "54574a75",
   "metadata": {
    "ExecuteTime": {
     "end_time": "2023-05-11T17:03:00.104775Z",
     "start_time": "2023-05-11T17:02:59.960291Z"
    },
    "code_folding": []
   },
   "outputs": [
    {
     "name": "stdout",
     "output_type": "stream",
     "text": [
      " -> Aperture of Array: 730.41 m\n"
     ]
    },
    {
     "data": {
      "image/png": "[encoded data removed]",
      "text/plain": [
       "<Figure size 700x700 with 1 Axes>"
      ]
     },
     "metadata": {},
     "output_type": "display_data"
    }
   ],
   "source": [
    "__plot_stations(config3);"
   ]
  },
  {
   "cell_type": "code",
   "execution_count": null,
   "id": "49840f73",
   "metadata": {},
   "outputs": [],
   "source": []
  },
  {
   "cell_type": "code",
   "execution_count": null,
   "id": "68143f52",
   "metadata": {},
   "outputs": [],
   "source": []
  }
 ],
 "metadata": {
  "kernelspec": {
   "display_name": "Python 3 (ipykernel)",
   "language": "python",
   "name": "python3"
  },
  "language_info": {
   "codemirror_mode": {
    "name": "ipython",
    "version": 3
   },
   "file_extension": ".py",
   "mimetype": "text/x-python",
   "name": "python",
   "nbconvert_exporter": "python",
   "pygments_lexer": "ipython3",
   "version": "3.7.8"
  },
  "latex_envs": {
   "LaTeX_envs_menu_present": true,
   "autoclose": false,
   "autocomplete": true,
   "bibliofile": "biblio.bib",
   "cite_by": "apalike",
   "current_citInitial": 1,
   "eqLabelWithNumbers": true,
   "eqNumInitial": 1,
   "hotkeys": {
    "equation": "Ctrl-E",
    "itemize": "Ctrl-I"
   },
   "labels_anchors": false,
   "latex_user_defs": false,
   "report_style_numbering": false,
   "user_envs_cfg": false
  },
  "toc": {
   "base_numbering": 1,
   "nav_menu": {},
   "number_sections": true,
   "sideBar": true,
   "skip_h1_title": false,
   "title_cell": "Table of Contents",
   "title_sidebar": "Contents",
   "toc_cell": false,
   "toc_position": {},
   "toc_section_display": true,
   "toc_window_display": false
  },
  "varInspector": {
   "cols": {
    "lenName": 16,
    "lenType": 16,
    "lenVar": 40
   },
   "kernels_config": {
    "python": {
     "delete_cmd_postfix": "",
     "delete_cmd_prefix": "del ",
     "library": "var_list.py",
     "varRefreshCmd": "print(var_dic_list())"
    },
    "r": {
     "delete_cmd_postfix": ") ",
     "delete_cmd_prefix": "rm(",
     "library": "var_list.r",
     "varRefreshCmd": "cat(var_dic_list()) "
    }
   },
   "types_to_exclude": [
    "module",
    "function",
    "builtin_function_or_method",
    "instance",
    "_Feature"
   ],
   "window_display": false
  }
 },
 "nbformat": 4,
 "nbformat_minor": 5
}
