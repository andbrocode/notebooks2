{
 "cells": [
  {
   "cell_type": "markdown",
   "id": "9d8f8a24",
   "metadata": {},
   "source": [
    "# BSPF Analysis"
   ]
  },
  {
   "cell_type": "code",
   "execution_count": 1,
   "id": "fe4540f2",
   "metadata": {
    "ExecuteTime": {
     "end_time": "2023-08-07T09:56:14.230317Z",
     "start_time": "2023-08-07T09:56:12.194332Z"
    },
    "tags": []
   },
   "outputs": [],
   "source": [
    "import os\n",
    "import pandas as pd\n",
    "import numpy as np\n",
    "import obspy as obs\n",
    "import matplotlib.pyplot as plt\n",
    "\n",
    "from scipy.optimize import curve_fit"
   ]
  },
  {
   "cell_type": "code",
   "execution_count": 2,
   "id": "0385c6e2",
   "metadata": {
    "ExecuteTime": {
     "end_time": "2023-08-07T09:56:14.238662Z",
     "start_time": "2023-08-07T09:56:14.231424Z"
    },
    "tags": []
   },
   "outputs": [],
   "source": [
    "from functions.compute_orthogonal_distance_regression import __compute_orthogonal_distance_regression\n",
    "from functions.compute_linear_regression import __compute_linear_regression"
   ]
  },
  {
   "cell_type": "code",
   "execution_count": 3,
   "id": "f3490903",
   "metadata": {
    "ExecuteTime": {
     "end_time": "2023-08-07T09:56:14.259904Z",
     "start_time": "2023-08-07T09:56:14.239745Z"
    },
    "tags": []
   },
   "outputs": [],
   "source": [
    "if os.uname().nodename == 'lighthouse':\n",
    "    root_path = '/home/andbro/'\n",
    "    data_path = '/home/andbro/kilauea-data/'\n",
    "    archive_path = '/home/andbro/freenas/'\n",
    "elif os.uname().nodename == 'kilauea':\n",
    "    root_path = '/home/brotzer/'\n",
    "    data_path = '/import/kilauea-data/'\n",
    "    archive_path = '/import/freenas-ffb-01-data/'"
   ]
  },
  {
   "cell_type": "markdown",
   "id": "4e67ab25",
   "metadata": {},
   "source": [
    "## Configurations"
   ]
  },
  {
   "cell_type": "code",
   "execution_count": 4,
   "id": "15a2bfff",
   "metadata": {
    "ExecuteTime": {
     "end_time": "2023-08-07T09:56:14.274780Z",
     "start_time": "2023-08-07T09:56:14.261002Z"
    },
    "tags": []
   },
   "outputs": [],
   "source": [
    "config = {}\n",
    "\n",
    "config['path_to_data'] = data_path+\"BSPF/data/\"\n",
    "\n",
    "config['path_to_catalogs'] = data_path+\"BSPF/data/catalogs/\"\n",
    "\n",
    "config['path_to_figs'] = data_path+\"BSPF/figures/\"\n",
    "\n",
    "config['catalog'] = \"\"\n",
    "\n",
    "config['save'] = False\n",
    "\n",
    "config['translation_type'] = \"ACC\""
   ]
  },
  {
   "cell_type": "markdown",
   "id": "ae1fa8b1",
   "metadata": {},
   "source": [
    "## Load Data"
   ]
  },
  {
   "cell_type": "code",
   "execution_count": 5,
   "id": "ca6e31b2",
   "metadata": {
    "ExecuteTime": {
     "end_time": "2023-08-07T09:56:14.343333Z",
     "start_time": "2023-08-07T09:56:14.326600Z"
    },
    "tags": []
   },
   "outputs": [],
   "source": [
    "# data_amax_disp = pd.read_pickle(config['path_to_data']+\"bspf_analysisdata_amax_disp.pkl\")\n",
    "\n",
    "# data_snr = pd.read_pickle(config['path_to_data']+\"bspf_analysisdata_snr_disp.pkl\")"
   ]
  },
  {
   "cell_type": "code",
   "execution_count": 6,
   "id": "144305bb-9404-449e-b79f-d3ca1b34de78",
   "metadata": {
    "tags": []
   },
   "outputs": [],
   "source": [
    "data_amax = pd.read_pickle(config['path_to_data']+f\"bspf_analysisdata_amax_{config['translation_type']}.pkl\")\n",
    "\n",
    "data_snr = pd.read_pickle(config['path_to_data']+f\"bspf_analysisdata_snr_{config['translation_type']}.pkl\")\n",
    "\n",
    "data_adr = pd.read_pickle(config['path_to_data']+f\"bspf_analysisdata_adr_{config['translation_type']}.pkl\")"
   ]
  },
  {
   "cell_type": "code",
   "execution_count": 7,
   "id": "3e0f85a2-a0a2-4458-b5f5-c2b710a64df5",
   "metadata": {
    "tags": []
   },
   "outputs": [],
   "source": [
    "data_amax_cosum_6 = data_amax[data_amax.CoincidenceSum == 6]\n",
    "\n",
    "data_snr_cosum_6 = data_snr[data_snr.CoincidenceSum == 6]"
   ]
  },
  {
   "cell_type": "markdown",
   "id": "02389ea8",
   "metadata": {
    "ExecuteTime": {
     "end_time": "2023-07-13T11:04:39.349995Z",
     "start_time": "2023-07-13T11:04:39.341140Z"
    }
   },
   "source": [
    "## Modify Data"
   ]
  },
  {
   "cell_type": "markdown",
   "id": "0ac1c781",
   "metadata": {},
   "source": [
    "Filter data"
   ]
  },
  {
   "cell_type": "code",
   "execution_count": 8,
   "id": "e7596314-3fe4-4140-8769-71a88a9669cf",
   "metadata": {
    "ExecuteTime": {
     "end_time": "2023-08-07T09:56:14.360405Z",
     "start_time": "2023-08-07T09:56:14.344545Z"
    },
    "tags": []
   },
   "outputs": [
    {
     "name": "stdout",
     "output_type": "stream",
     "text": [
      " AMAX:  all: 321 no_nan: 321\n",
      " SNR:  all: 321 no_nan: 321\n",
      " CoSum6:  all: 188 no_nan: 188\n"
     ]
    },
    {
     "name": "stderr",
     "output_type": "stream",
     "text": [
      "/tmp/ipykernel_344188/4006315242.py:9: SettingWithCopyWarning: \n",
      "A value is trying to be set on a copy of a slice from a DataFrame\n",
      "\n",
      "See the caveats in the documentation: https://pandas.pydata.org/pandas-docs/stable/user_guide/indexing.html#returning-a-view-versus-a-copy\n",
      "  data_amax_cosum_6.origin.dropna(inplace=True)\n"
     ]
    }
   ],
   "source": [
    "## reject nan values\n",
    "print(f\" AMAX:  all: {data_amax.origin.size} no_nan: {data_amax.origin.dropna().shape[0]}\")\n",
    "data_amax.origin.dropna(inplace=True)\n",
    "\n",
    "print(f\" SNR:  all: {data_snr.origin.size} no_nan: {data_snr.origin.dropna().shape[0]}\")\n",
    "data_snr.origin.dropna(inplace=True)\n",
    "\n",
    "print(f\" CoSum6:  all: {data_amax_cosum_6.origin.size} no_nan: {data_amax_cosum_6.origin.dropna().shape[0]}\")\n",
    "data_amax_cosum_6.origin.dropna(inplace=True)"
   ]
  },
  {
   "cell_type": "code",
   "execution_count": 9,
   "id": "078cd5d3-3a47-4593-b5db-1b71c22e2e1a",
   "metadata": {
    "tags": []
   },
   "outputs": [
    {
     "name": "stderr",
     "output_type": "stream",
     "text": [
      "/tmp/ipykernel_344188/2026196946.py:1: SettingWithCopyWarning: \n",
      "A value is trying to be set on a copy of a slice from a DataFrame\n",
      "\n",
      "See the caveats in the documentation: https://pandas.pydata.org/pandas-docs/stable/user_guide/indexing.html#returning-a-view-versus-a-copy\n",
      "  data_amax_cosum_6.dropna(inplace=True)\n"
     ]
    },
    {
     "data": {
      "text/html": [
       "<div>\n",
       "<style scoped>\n",
       "    .dataframe tbody tr th:only-of-type {\n",
       "        vertical-align: middle;\n",
       "    }\n",
       "\n",
       "    .dataframe tbody tr th {\n",
       "        vertical-align: top;\n",
       "    }\n",
       "\n",
       "    .dataframe thead th {\n",
       "        text-align: right;\n",
       "    }\n",
       "</style>\n",
       "<table border=\"1\" class=\"dataframe\">\n",
       "  <thead>\n",
       "    <tr style=\"text-align: right;\">\n",
       "      <th></th>\n",
       "      <th>Torigin</th>\n",
       "      <th>Magnitude</th>\n",
       "      <th>CoincidenceSum</th>\n",
       "      <th>Mag_type</th>\n",
       "      <th>BAZ</th>\n",
       "      <th>Edistance_km</th>\n",
       "      <th>Hdistance_km</th>\n",
       "      <th>origin</th>\n",
       "      <th>BSPF__E_amax</th>\n",
       "      <th>BSPF__N_amax</th>\n",
       "      <th>...</th>\n",
       "      <th>PFO_10_Z_amax</th>\n",
       "      <th>RPFO_al_E_amax</th>\n",
       "      <th>RPFO_al_N_amax</th>\n",
       "      <th>RPFO_al_Z_amax</th>\n",
       "      <th>RPFO_in_E_amax</th>\n",
       "      <th>RPFO_in_N_amax</th>\n",
       "      <th>RPFO_in_Z_amax</th>\n",
       "      <th>RPFO_mi_E_amax</th>\n",
       "      <th>RPFO_mi_N_amax</th>\n",
       "      <th>RPFO_mi_Z_amax</th>\n",
       "    </tr>\n",
       "  </thead>\n",
       "  <tbody>\n",
       "    <tr>\n",
       "      <th>1</th>\n",
       "      <td>2022-10-01 21:26:43.530</td>\n",
       "      <td>2.08</td>\n",
       "      <td>6.0</td>\n",
       "      <td>ml</td>\n",
       "      <td>328.065144</td>\n",
       "      <td>48.053535</td>\n",
       "      <td>50.379154</td>\n",
       "      <td>2022-10-01 21:26:43.530</td>\n",
       "      <td>2.271877e-07</td>\n",
       "      <td>2.589748e-07</td>\n",
       "      <td>...</td>\n",
       "      <td>0.000136</td>\n",
       "      <td>7.459161e-09</td>\n",
       "      <td>4.995607e-09</td>\n",
       "      <td>6.377297e-09</td>\n",
       "      <td>4.896136e-08</td>\n",
       "      <td>4.534828e-08</td>\n",
       "      <td>5.884933e-08</td>\n",
       "      <td>3.056737e-08</td>\n",
       "      <td>1.232587e-08</td>\n",
       "      <td>2.568925e-08</td>\n",
       "    </tr>\n",
       "    <tr>\n",
       "      <th>2</th>\n",
       "      <td>2022-10-02 03:25:16.440</td>\n",
       "      <td>1.49</td>\n",
       "      <td>6.0</td>\n",
       "      <td>ml</td>\n",
       "      <td>199.394033</td>\n",
       "      <td>14.850966</td>\n",
       "      <td>16.887652</td>\n",
       "      <td>2022-10-02 03:25:16.440</td>\n",
       "      <td>2.960972e-07</td>\n",
       "      <td>1.221093e-06</td>\n",
       "      <td>...</td>\n",
       "      <td>0.000275</td>\n",
       "      <td>1.041035e-08</td>\n",
       "      <td>9.264360e-09</td>\n",
       "      <td>1.662766e-08</td>\n",
       "      <td>1.492401e-07</td>\n",
       "      <td>1.105245e-07</td>\n",
       "      <td>2.970943e-07</td>\n",
       "      <td>4.427952e-08</td>\n",
       "      <td>2.643075e-08</td>\n",
       "      <td>4.399588e-08</td>\n",
       "    </tr>\n",
       "    <tr>\n",
       "      <th>3</th>\n",
       "      <td>2022-10-02 15:51:37.180</td>\n",
       "      <td>1.68</td>\n",
       "      <td>6.0</td>\n",
       "      <td>ml</td>\n",
       "      <td>159.749086</td>\n",
       "      <td>15.423592</td>\n",
       "      <td>17.486703</td>\n",
       "      <td>2022-10-02 15:51:37.180</td>\n",
       "      <td>2.619941e-07</td>\n",
       "      <td>2.569676e-07</td>\n",
       "      <td>...</td>\n",
       "      <td>0.000226</td>\n",
       "      <td>1.154502e-08</td>\n",
       "      <td>6.811005e-09</td>\n",
       "      <td>4.657963e-09</td>\n",
       "      <td>1.165987e-07</td>\n",
       "      <td>7.326951e-08</td>\n",
       "      <td>6.710577e-08</td>\n",
       "      <td>2.789285e-08</td>\n",
       "      <td>2.545662e-08</td>\n",
       "      <td>1.495532e-08</td>\n",
       "    </tr>\n",
       "    <tr>\n",
       "      <th>4</th>\n",
       "      <td>2022-10-02 21:52:54.280</td>\n",
       "      <td>0.99</td>\n",
       "      <td>6.0</td>\n",
       "      <td>ml</td>\n",
       "      <td>199.820062</td>\n",
       "      <td>14.772415</td>\n",
       "      <td>17.645021</td>\n",
       "      <td>2022-10-02 21:52:54.280</td>\n",
       "      <td>2.068736e-07</td>\n",
       "      <td>3.959991e-07</td>\n",
       "      <td>...</td>\n",
       "      <td>0.000078</td>\n",
       "      <td>3.005197e-09</td>\n",
       "      <td>2.587965e-09</td>\n",
       "      <td>4.777427e-09</td>\n",
       "      <td>3.384857e-08</td>\n",
       "      <td>2.973183e-08</td>\n",
       "      <td>6.666342e-08</td>\n",
       "      <td>1.238480e-08</td>\n",
       "      <td>5.539927e-09</td>\n",
       "      <td>1.111115e-08</td>\n",
       "    </tr>\n",
       "    <tr>\n",
       "      <th>6</th>\n",
       "      <td>2022-10-04 22:33:48.370</td>\n",
       "      <td>1.00</td>\n",
       "      <td>6.0</td>\n",
       "      <td>ml</td>\n",
       "      <td>198.791501</td>\n",
       "      <td>14.250442</td>\n",
       "      <td>17.443586</td>\n",
       "      <td>2022-10-04 22:33:48.370</td>\n",
       "      <td>2.134606e-07</td>\n",
       "      <td>3.491360e-07</td>\n",
       "      <td>...</td>\n",
       "      <td>0.000070</td>\n",
       "      <td>2.292683e-09</td>\n",
       "      <td>2.717151e-09</td>\n",
       "      <td>4.048056e-09</td>\n",
       "      <td>6.973245e-08</td>\n",
       "      <td>4.463389e-08</td>\n",
       "      <td>1.017734e-07</td>\n",
       "      <td>1.191491e-08</td>\n",
       "      <td>7.081809e-09</td>\n",
       "      <td>1.107201e-08</td>\n",
       "    </tr>\n",
       "    <tr>\n",
       "      <th>...</th>\n",
       "      <td>...</td>\n",
       "      <td>...</td>\n",
       "      <td>...</td>\n",
       "      <td>...</td>\n",
       "      <td>...</td>\n",
       "      <td>...</td>\n",
       "      <td>...</td>\n",
       "      <td>...</td>\n",
       "      <td>...</td>\n",
       "      <td>...</td>\n",
       "      <td>...</td>\n",
       "      <td>...</td>\n",
       "      <td>...</td>\n",
       "      <td>...</td>\n",
       "      <td>...</td>\n",
       "      <td>...</td>\n",
       "      <td>...</td>\n",
       "      <td>...</td>\n",
       "      <td>...</td>\n",
       "      <td>...</td>\n",
       "      <td>...</td>\n",
       "    </tr>\n",
       "    <tr>\n",
       "      <th>312</th>\n",
       "      <td>2023-09-16 16:49:57.560</td>\n",
       "      <td>2.64</td>\n",
       "      <td>6.0</td>\n",
       "      <td>ml</td>\n",
       "      <td>331.135140</td>\n",
       "      <td>53.575795</td>\n",
       "      <td>54.898873</td>\n",
       "      <td>2023-09-16 16:49:57.560</td>\n",
       "      <td>5.853553e-07</td>\n",
       "      <td>1.255043e-06</td>\n",
       "      <td>...</td>\n",
       "      <td>0.000506</td>\n",
       "      <td>4.469102e-09</td>\n",
       "      <td>6.353708e-09</td>\n",
       "      <td>3.353259e-09</td>\n",
       "      <td>2.710646e-08</td>\n",
       "      <td>2.268138e-08</td>\n",
       "      <td>3.208338e-08</td>\n",
       "      <td>8.957641e-09</td>\n",
       "      <td>1.003379e-08</td>\n",
       "      <td>1.207230e-08</td>\n",
       "    </tr>\n",
       "    <tr>\n",
       "      <th>314</th>\n",
       "      <td>2023-09-18 02:23:22.570</td>\n",
       "      <td>1.27</td>\n",
       "      <td>6.0</td>\n",
       "      <td>ml</td>\n",
       "      <td>211.487677</td>\n",
       "      <td>14.777495</td>\n",
       "      <td>18.960716</td>\n",
       "      <td>2023-09-18 02:23:22.570</td>\n",
       "      <td>4.632948e-07</td>\n",
       "      <td>1.063274e-06</td>\n",
       "      <td>...</td>\n",
       "      <td>0.000199</td>\n",
       "      <td>7.479123e-10</td>\n",
       "      <td>1.537265e-09</td>\n",
       "      <td>1.178093e-09</td>\n",
       "      <td>5.320975e-09</td>\n",
       "      <td>1.580573e-08</td>\n",
       "      <td>1.089432e-08</td>\n",
       "      <td>2.902639e-09</td>\n",
       "      <td>2.940245e-09</td>\n",
       "      <td>5.073746e-09</td>\n",
       "    </tr>\n",
       "    <tr>\n",
       "      <th>318</th>\n",
       "      <td>2023-09-21 01:58:24.210</td>\n",
       "      <td>0.68</td>\n",
       "      <td>6.0</td>\n",
       "      <td>ml</td>\n",
       "      <td>179.675029</td>\n",
       "      <td>7.188470</td>\n",
       "      <td>8.682799</td>\n",
       "      <td>2023-09-21 01:58:24.210</td>\n",
       "      <td>3.339117e-07</td>\n",
       "      <td>4.709163e-07</td>\n",
       "      <td>...</td>\n",
       "      <td>0.000112</td>\n",
       "      <td>1.049038e-09</td>\n",
       "      <td>1.106920e-09</td>\n",
       "      <td>8.390747e-10</td>\n",
       "      <td>4.403653e-09</td>\n",
       "      <td>1.037130e-08</td>\n",
       "      <td>3.049903e-09</td>\n",
       "      <td>2.449495e-09</td>\n",
       "      <td>1.738480e-09</td>\n",
       "      <td>7.868752e-10</td>\n",
       "    </tr>\n",
       "    <tr>\n",
       "      <th>319</th>\n",
       "      <td>2023-09-27 13:41:07.510</td>\n",
       "      <td>1.18</td>\n",
       "      <td>6.0</td>\n",
       "      <td>ml</td>\n",
       "      <td>216.668239</td>\n",
       "      <td>15.777807</td>\n",
       "      <td>20.719655</td>\n",
       "      <td>2023-09-27 13:41:07.510</td>\n",
       "      <td>6.284099e-07</td>\n",
       "      <td>8.418214e-07</td>\n",
       "      <td>...</td>\n",
       "      <td>0.000192</td>\n",
       "      <td>8.097221e-10</td>\n",
       "      <td>7.952446e-10</td>\n",
       "      <td>1.109903e-09</td>\n",
       "      <td>6.582034e-09</td>\n",
       "      <td>1.562864e-08</td>\n",
       "      <td>2.104055e-08</td>\n",
       "      <td>2.254142e-09</td>\n",
       "      <td>2.320868e-09</td>\n",
       "      <td>7.454474e-09</td>\n",
       "    </tr>\n",
       "    <tr>\n",
       "      <th>320</th>\n",
       "      <td>2023-09-29 16:06:53.850</td>\n",
       "      <td>1.38</td>\n",
       "      <td>6.0</td>\n",
       "      <td>ml</td>\n",
       "      <td>263.075020</td>\n",
       "      <td>16.119754</td>\n",
       "      <td>21.482236</td>\n",
       "      <td>2023-09-29 16:06:53.850</td>\n",
       "      <td>4.808084e-07</td>\n",
       "      <td>6.596748e-07</td>\n",
       "      <td>...</td>\n",
       "      <td>0.000166</td>\n",
       "      <td>2.147159e-09</td>\n",
       "      <td>1.573435e-09</td>\n",
       "      <td>1.942429e-09</td>\n",
       "      <td>2.639090e-08</td>\n",
       "      <td>2.190139e-08</td>\n",
       "      <td>2.457280e-08</td>\n",
       "      <td>7.393073e-09</td>\n",
       "      <td>5.035299e-09</td>\n",
       "      <td>6.860955e-09</td>\n",
       "    </tr>\n",
       "  </tbody>\n",
       "</table>\n",
       "<p>163 rows × 27 columns</p>\n",
       "</div>"
      ],
      "text/plain": [
       "                    Torigin  Magnitude  CoincidenceSum Mag_type         BAZ  \\\n",
       "1   2022-10-01 21:26:43.530       2.08             6.0       ml  328.065144   \n",
       "2   2022-10-02 03:25:16.440       1.49             6.0       ml  199.394033   \n",
       "3   2022-10-02 15:51:37.180       1.68             6.0       ml  159.749086   \n",
       "4   2022-10-02 21:52:54.280       0.99             6.0       ml  199.820062   \n",
       "6   2022-10-04 22:33:48.370       1.00             6.0       ml  198.791501   \n",
       "..                      ...        ...             ...      ...         ...   \n",
       "312 2023-09-16 16:49:57.560       2.64             6.0       ml  331.135140   \n",
       "314 2023-09-18 02:23:22.570       1.27             6.0       ml  211.487677   \n",
       "318 2023-09-21 01:58:24.210       0.68             6.0       ml  179.675029   \n",
       "319 2023-09-27 13:41:07.510       1.18             6.0       ml  216.668239   \n",
       "320 2023-09-29 16:06:53.850       1.38             6.0       ml  263.075020   \n",
       "\n",
       "     Edistance_km  Hdistance_km                  origin  BSPF__E_amax  \\\n",
       "1       48.053535     50.379154 2022-10-01 21:26:43.530  2.271877e-07   \n",
       "2       14.850966     16.887652 2022-10-02 03:25:16.440  2.960972e-07   \n",
       "3       15.423592     17.486703 2022-10-02 15:51:37.180  2.619941e-07   \n",
       "4       14.772415     17.645021 2022-10-02 21:52:54.280  2.068736e-07   \n",
       "6       14.250442     17.443586 2022-10-04 22:33:48.370  2.134606e-07   \n",
       "..            ...           ...                     ...           ...   \n",
       "312     53.575795     54.898873 2023-09-16 16:49:57.560  5.853553e-07   \n",
       "314     14.777495     18.960716 2023-09-18 02:23:22.570  4.632948e-07   \n",
       "318      7.188470      8.682799 2023-09-21 01:58:24.210  3.339117e-07   \n",
       "319     15.777807     20.719655 2023-09-27 13:41:07.510  6.284099e-07   \n",
       "320     16.119754     21.482236 2023-09-29 16:06:53.850  4.808084e-07   \n",
       "\n",
       "     BSPF__N_amax  ...  PFO_10_Z_amax  RPFO_al_E_amax  RPFO_al_N_amax  \\\n",
       "1    2.589748e-07  ...       0.000136    7.459161e-09    4.995607e-09   \n",
       "2    1.221093e-06  ...       0.000275    1.041035e-08    9.264360e-09   \n",
       "3    2.569676e-07  ...       0.000226    1.154502e-08    6.811005e-09   \n",
       "4    3.959991e-07  ...       0.000078    3.005197e-09    2.587965e-09   \n",
       "6    3.491360e-07  ...       0.000070    2.292683e-09    2.717151e-09   \n",
       "..            ...  ...            ...             ...             ...   \n",
       "312  1.255043e-06  ...       0.000506    4.469102e-09    6.353708e-09   \n",
       "314  1.063274e-06  ...       0.000199    7.479123e-10    1.537265e-09   \n",
       "318  4.709163e-07  ...       0.000112    1.049038e-09    1.106920e-09   \n",
       "319  8.418214e-07  ...       0.000192    8.097221e-10    7.952446e-10   \n",
       "320  6.596748e-07  ...       0.000166    2.147159e-09    1.573435e-09   \n",
       "\n",
       "     RPFO_al_Z_amax  RPFO_in_E_amax  RPFO_in_N_amax  RPFO_in_Z_amax  \\\n",
       "1      6.377297e-09    4.896136e-08    4.534828e-08    5.884933e-08   \n",
       "2      1.662766e-08    1.492401e-07    1.105245e-07    2.970943e-07   \n",
       "3      4.657963e-09    1.165987e-07    7.326951e-08    6.710577e-08   \n",
       "4      4.777427e-09    3.384857e-08    2.973183e-08    6.666342e-08   \n",
       "6      4.048056e-09    6.973245e-08    4.463389e-08    1.017734e-07   \n",
       "..              ...             ...             ...             ...   \n",
       "312    3.353259e-09    2.710646e-08    2.268138e-08    3.208338e-08   \n",
       "314    1.178093e-09    5.320975e-09    1.580573e-08    1.089432e-08   \n",
       "318    8.390747e-10    4.403653e-09    1.037130e-08    3.049903e-09   \n",
       "319    1.109903e-09    6.582034e-09    1.562864e-08    2.104055e-08   \n",
       "320    1.942429e-09    2.639090e-08    2.190139e-08    2.457280e-08   \n",
       "\n",
       "     RPFO_mi_E_amax  RPFO_mi_N_amax  RPFO_mi_Z_amax  \n",
       "1      3.056737e-08    1.232587e-08    2.568925e-08  \n",
       "2      4.427952e-08    2.643075e-08    4.399588e-08  \n",
       "3      2.789285e-08    2.545662e-08    1.495532e-08  \n",
       "4      1.238480e-08    5.539927e-09    1.111115e-08  \n",
       "6      1.191491e-08    7.081809e-09    1.107201e-08  \n",
       "..              ...             ...             ...  \n",
       "312    8.957641e-09    1.003379e-08    1.207230e-08  \n",
       "314    2.902639e-09    2.940245e-09    5.073746e-09  \n",
       "318    2.449495e-09    1.738480e-09    7.868752e-10  \n",
       "319    2.254142e-09    2.320868e-09    7.454474e-09  \n",
       "320    7.393073e-09    5.035299e-09    6.860955e-09  \n",
       "\n",
       "[163 rows x 27 columns]"
      ]
     },
     "execution_count": 9,
     "metadata": {},
     "output_type": "execute_result"
    }
   ],
   "source": [
    "data_amax_cosum_6.dropna(inplace=True)\n",
    "data_amax_cosum_6"
   ]
  },
  {
   "cell_type": "code",
   "execution_count": 10,
   "id": "51a117d9-e173-45c6-b413-ebb909762f70",
   "metadata": {
    "ExecuteTime": {
     "end_time": "2023-08-07T09:56:14.360405Z",
     "start_time": "2023-08-07T09:56:14.344545Z"
    },
    "tags": []
   },
   "outputs": [],
   "source": [
    "# ## reject all magnitude types not ml\n",
    "# nn = [mm for mm in data_amax.Mag_type if mm != \"ml\"]\n",
    "\n",
    "# data_amax_disp = data_amax[data_amax.Mag_type == \"ml\"]\n",
    "# data_snr = data_snr[data_snr.Mag_type == \"ml\"]\n",
    "\n",
    "# print(f\"\\n -> rejected {len(nn)} events: {nn}\")"
   ]
  },
  {
   "cell_type": "code",
   "execution_count": 11,
   "id": "272486f4-c5d6-44ef-ba2c-5ad42c680811",
   "metadata": {
    "tags": []
   },
   "outputs": [
    {
     "data": {
      "text/plain": [
       "((188, 27), (163, 27))"
      ]
     },
     "execution_count": 11,
     "metadata": {},
     "output_type": "execute_result"
    }
   ],
   "source": [
    "data_snr_cosum_6.shape, data_amax_cosum_6.shape"
   ]
  },
  {
   "cell_type": "markdown",
   "id": "268f9baa",
   "metadata": {},
   "source": [
    "## Plots"
   ]
  },
  {
   "cell_type": "code",
   "execution_count": 12,
   "id": "fca1ecd0",
   "metadata": {
    "ExecuteTime": {
     "end_time": "2023-08-07T09:56:15.608869Z",
     "start_time": "2023-08-07T09:56:14.362594Z"
    },
    "code_folding": [
     0
    ],
    "tags": []
   },
   "outputs": [],
   "source": [
    "def __makeplot(data1, data2, data3, data4):\n",
    "\n",
    "    import matplotlib\n",
    "\n",
    "    fig, ax = plt.subplots(1,1,figsize=(15,5))\n",
    "\n",
    "    font=14\n",
    "\n",
    "    cmap = plt.get_cmap(\"viridis\", 9)\n",
    "\n",
    "    # dat = np.log10(data4.BSPF__N_snr)\n",
    "    dat = np.log10(data4.PFO_10_Z_snr)\n",
    "\n",
    "\n",
    "    ax.scatter(data1.Hdistance_km, data1.Magnitude, s=30, color=\"grey\", zorder=1, label=f\"all (N={len(data1)})\")\n",
    "\n",
    "    cax = ax.scatter(data2.Hdistance_km, data2.Magnitude, s=50, lw=0.5, edgecolors=\"k\",\n",
    "                     c=dat, cmap=cmap, zorder=2, label=f\"CoSum6 (N={len(data2)})\", vmin=round(min(dat),1), vmax=4.5)\n",
    "\n",
    "    ax.grid(ls=\"--\", color=\"grey\", alpha=0.6, zorder=0,which=\"both\")\n",
    "    ax.legend(loc=4, fontsize=font)\n",
    "\n",
    "    ax.set_ylabel(\"Magnitude\", fontsize=font)\n",
    "    ax.set_xlabel(\"Hypocenter Distance (km)\", fontsize=font)\n",
    "\n",
    "    ax.set_xscale(\"log\")\n",
    "    ax.set_xlim(left=10)\n",
    "\n",
    "    cbar = plt.colorbar(cax, pad=0.02)\n",
    "    cbar.set_label(r\"log$_{10}$(signal-to-noise ratio)\", fontsize=font)\n",
    "#     cbar.set_clim(0,4)\n",
    "\n",
    "    ax.set_xticks([10, 20, 30, 40, 50, 100])\n",
    "    ax.get_xaxis().set_major_formatter(matplotlib.ticker.ScalarFormatter())\n",
    "\n",
    "    plt.show()\n",
    "\n",
    "# __makeplot(data_amax, data_amax_cosum_6, data_snr, data_snr_cosum_6)"
   ]
  },
  {
   "cell_type": "markdown",
   "id": "75b01e9f-b282-4a0d-8d3f-9e90bdd432c5",
   "metadata": {},
   "source": [
    "## Magnitude Scale "
   ]
  },
  {
   "cell_type": "markdown",
   "id": "ae5ec10e-5520-4cbb-841a-1451bb5556d2",
   "metadata": {},
   "source": [
    "$M_L = log_{10} (A_{max}) + 1.11 log_{10} (R) + 0.00189 R - 2.09$   (adopted local magnitude scale)\n",
    "\n",
    "with $R$ = hypocentral distance in km and $A_{max}$ = maximal amplitude in nm"
   ]
  },
  {
   "cell_type": "code",
   "execution_count": 13,
   "id": "b29d426f-deb3-48e2-8ae4-51099cf8d2b7",
   "metadata": {
    "tags": []
   },
   "outputs": [],
   "source": [
    "# def __ml(amax, hdist):\n",
    "#     return np.log10(amax) + 1.11*np.log10(hdist) + 0.00189*hdist -2.09"
   ]
  },
  {
   "cell_type": "code",
   "execution_count": 14,
   "id": "185ebeea-2143-45bd-98d9-6f2bd1a6e22f",
   "metadata": {
    "tags": []
   },
   "outputs": [],
   "source": [
    "# ## reject nan values\n",
    "# print(f\" AMAX:  all: {data_amax.origin.size} no_nan: {data_amax.dropna().shape[0]}\")\n",
    "# data_amax.dropna(inplace=True)"
   ]
  },
  {
   "cell_type": "code",
   "execution_count": 15,
   "id": "d6e18928-ea6b-417f-8803-ea5a65832421",
   "metadata": {
    "tags": []
   },
   "outputs": [],
   "source": [
    "# ## reject all magnitude types not ml\n",
    "# nn = [mm for mm in data_amax.Mag_type if mm != \"ml\"]\n",
    "# data_amax = data_amax[data_amax.Mag_type == \"ml\"]\n",
    "# print(f\"\\n -> rejected {len(nn)} events: {nn}\")"
   ]
  },
  {
   "cell_type": "code",
   "execution_count": 16,
   "id": "082e1355-39a1-4a03-83e6-9322499ec620",
   "metadata": {
    "tags": []
   },
   "outputs": [],
   "source": [
    "# mm_z = __ml(data_amax.PFO_10_Z_amax*1e6, data_amax.Hdistance_km)\n",
    "# mm_n = __ml(data_amax.PFO_10_N_amax*1e6, data_amax.Hdistance_km)\n",
    "# mm_e = __ml(data_amax.PFO_10_E_amax*1e6, data_amax.Hdistance_km)\n",
    "\n",
    "# mm_t = __ml(data_amax.PFO_10_T_amax*1e6, data_amax.Hdistance_km)\n",
    "# mm_r = __ml(data_amax.PFO_10_R_amax*1e6, data_amax.Hdistance_km)\n"
   ]
  },
  {
   "cell_type": "code",
   "execution_count": 17,
   "id": "610b56d7-44f9-4199-91f2-507984018e0f",
   "metadata": {
    "tags": []
   },
   "outputs": [],
   "source": [
    "# def __makeplot_magnitude_comparison():\n",
    "\n",
    "#     fig, ax = plt.subplots(1,3, figsize=(15,4))\n",
    "\n",
    "#     ax[0].scatter(hdist, mm, color='k', zorder=3)\n",
    "#     ax[0].scatter(hdist, mm_z, s=15, zorder=3, label=\"Z\", edgecolors=\"tab:orange\", color=\"tab:orange\", alpha=0.7)\n",
    "#     ax[0].scatter(hdist, mm_n, s=15, zorder=3, label=\"N\", edgecolors=\"tab:blue\", color=\"tab:blue\", alpha=0.7)\n",
    "#     ax[0].scatter(hdist, mm_e, s=15, zorder=3, label=\"E\", edgecolors=\"tab:green\", color=\"tab:green\", alpha=0.7)\n",
    "\n",
    "#     ax[0].grid(zorder=0, alpha=0.4)\n",
    "#     ax[0].legend(loc=4)\n",
    "\n",
    "#     ax[0].set_xlabel(r\"log$_{10}$( Hypocentral Distance ) (km)\")\n",
    "#     ax[0].set_ylabel(\"Magnitude\")\n",
    "\n",
    "#     dbars = 0.5\n",
    "#     bars = np.arange(0,5+dbars,dbars)\n",
    "\n",
    "#     # labels, counts = np.unique(mm, return_counts=True)\n",
    "#     # ax[1].bar(labels, counts, align='center', width=0.5)\n",
    "\n",
    "#     ax[1].hist(mm, bins=int(len(bars)-1), density=False, histtype='bar', range=(min(bars), max(bars)),\n",
    "#                color=\"k\", rwidth=0.9, fill=False, align=\"mid\")\n",
    "#     ax[1].hist(mm_z, bins=int(len(bars)-1), density=False, histtype='bar', range=(min(bars), max(bars)),\n",
    "#                color=\"tab:orange\", edgecolor=\"tab:orange\", rwidth=0.7, fill=False, align=\"mid\", label=\"Z\")\n",
    "#     ax[1].hist(mm_n, bins=int(len(bars)-1), density=False, histtype='bar', range=(min(bars), max(bars)),\n",
    "#                color=\"tab:blue\", edgecolor=\"tab:blue\", rwidth=0.5, fill=False, align=\"mid\", label=\"N\")\n",
    "#     ax[1].hist(mm_e, bins=int(len(bars)-1), density=False, histtype='bar', range=(min(bars), max(bars)),\n",
    "#                color=\"tab:green\", edgecolor=\"tab:green\", rwidth=0.3, fill=False, align=\"mid\", label=\"E\")\n",
    "#     ax[1].set_xticks(bars)\n",
    "#     # ax[1].set_xticks(bars+dbars/2)\n",
    "#     # ax[1].set_xticklabels([f\"{b}-{b+dbars}\" for b in bars], rotation=60)\n",
    "\n",
    "#     ax[1].legend(loc=1)\n",
    "#     ax[1].grid(zorder=0, alpha=0.4)\n",
    "\n",
    "#     ax[1].set_xlabel(r\"M$_L$\")\n",
    "#     ax[1].set_ylabel(\"Total Number\")\n",
    "\n",
    "#     lim = round(max(max(abs(diff_z)), max(abs(diff_n)), max(abs(diff_e))),1)\n",
    "#     dbars2 = 0.2\n",
    "#     bars2 = np.arange(-lim, lim+dbars2, dbars2)\n",
    "#     ax[2].hist(diff_z, bins=len(bars2)-1, density=False, histtype='bar', range=(-lim, lim),\n",
    "#                color=\"tab:orange\", edgecolor=\"tab:orange\", rwidth=1, fill=False, align=\"mid\", label=\"Z\")\n",
    "#     ax[2].hist(diff_n, bins=len(bars2)-1, density=False, histtype='bar', range=(-lim, lim),\n",
    "#                color=\"tab:blue\", edgecolor=\"tab:blue\", rwidth=1, fill=False, align=\"mid\", label=\"N\")\n",
    "#     ax[2].hist(diff_e, bins=len(bars2)-1, density=False, histtype='bar', range=(-lim, lim),\n",
    "#                color=\"tab:green\", edgecolor=\"tab:green\", rwidth=1, fill=False, align=\"mid\", label=\"E\")\n",
    "\n",
    "#     ax[2].legend(loc=1)\n",
    "#     ax[2].grid(zorder=0, alpha=0.4)\n",
    "\n",
    "#     ax[2].set_xlabel(r\"M$_L$ - M$_{L, est.}$\")\n",
    "#     ax[2].set_ylabel(\"Total Number\")\n",
    "\n",
    "#     plt.show();"
   ]
  },
  {
   "cell_type": "code",
   "execution_count": 18,
   "id": "a0dd0dba-7d7e-40f2-85d8-a7b81034dbfd",
   "metadata": {
    "tags": []
   },
   "outputs": [],
   "source": [
    "# x_events = range(len(data_amax))\n",
    "\n",
    "# hdist = np.log10(data_amax.Hdistance_km)\n",
    "\n",
    "# mm = data_amax.Magnitude\n",
    "\n",
    "# diff_z, diff_n, diff_e = mm-mm_z, mm-mm_n, mm-mm_e\n",
    "\n",
    "# # __makeplot_magnitude_comparison()"
   ]
  },
  {
   "cell_type": "markdown",
   "id": "3dbe640f-d692-452f-85ef-7377ab7fc229",
   "metadata": {},
   "source": [
    "## Fitting Translation Data"
   ]
  },
  {
   "cell_type": "code",
   "execution_count": 19,
   "id": "7c6f0086-0eea-4f4e-906a-c7343a8c874e",
   "metadata": {
    "tags": []
   },
   "outputs": [],
   "source": [
    "# def __ml_fit(X, a, b):\n",
    "#     amax, hdist = X\n",
    "#     return np.log10(amax) + a*np.log10(hdist) + b"
   ]
  },
  {
   "cell_type": "code",
   "execution_count": 20,
   "id": "77681eba-5843-4390-bfaf-cf3b106a5888",
   "metadata": {
    "tags": []
   },
   "outputs": [],
   "source": [
    "# def __predict_local_amplitude(X, a, b):\n",
    "#     mag, hdist = X\n",
    "#     return 10**( mag - a*np.log10(hdist) + b )"
   ]
  },
  {
   "cell_type": "code",
   "execution_count": 21,
   "id": "6d33f6af-8626-41ec-bf1b-b0cbc0ef2e24",
   "metadata": {
    "tags": []
   },
   "outputs": [],
   "source": [
    "# ## select amplitude data\n",
    "# amax_n = data_amax_cosum_6.PFO_10_N_amax*1e9\n",
    "# amax_e = data_amax_cosum_6.PFO_10_E_amax*1e9\n",
    "\n",
    "# ## select hypocentral distances and magnitudes\n",
    "# hdist = data_amax_cosum_6.Hdistance_km\n",
    "# mag = data_amax_cosum_6.Magnitude\n",
    "\n",
    "# ## perform data fitting\n",
    "# popt_n, pcov_n = curve_fit(__ml_fit, (amax_n, hdist), mag, p0=(1., 1.0))\n",
    "# popt_e, pcov_e = curve_fit(__ml_fit, (amax_e, hdist), mag, p0=(1., 1.0))\n",
    "\n",
    "# ## output the new laws\n",
    "# print(f\"\\n N_trans:   Ml = log10(Amax) + {popt_n[0]:.2f} log10(R) +  {popt_n[1]:.2f}\")\n",
    "# print(f\"\\n E_trans:   Ml = log10(Amax) + {popt_e[0]:.2f} log10(R) +  {popt_e[1]:.2f}\")\n",
    "\n",
    "# ## generate synthetic magnitudes\n",
    "# syn_data_e = __ml_fit((amax_e, hdist), popt_e[0], popt_e[1])\n",
    "# syn_data_n = __ml_fit((amax_n, hdist), popt_n[0], popt_n[1])\n",
    "\n",
    "# ## compute differences of magnitudes and synthetics\n",
    "# diff_syn_n = mag-syn_data_n\n",
    "# diff_syn_e = mag-syn_data_e\n",
    "\n",
    "# ## compute synthetic maximal amplitudes\n",
    "# # amax_syn = __predict_local_amplitude((mag, hdist))\n",
    "# amax_syn_n = __predict_local_amplitude((mag, hdist), popt_n[0], popt_n[1])\n",
    "# amax_syn_e = __predict_local_amplitude((mag, hdist), popt_e[0], popt_e[1],)"
   ]
  },
  {
   "cell_type": "code",
   "execution_count": 22,
   "id": "f6dc4855-2a5a-4ee2-b6f1-39ccfd4b0b58",
   "metadata": {
    "tags": []
   },
   "outputs": [],
   "source": [
    "# def __makeplot_magnitude_comparison2():\n",
    "\n",
    "#     fig, ax = plt.subplots(2,2, figsize=(12,8))\n",
    "\n",
    "#     ## ______________________________________________________________\n",
    "\n",
    "#     ax[0,0].scatter(np.log10(hdist), mag, color='k', zorder=3)\n",
    "#     ax[0,0].scatter(np.log10(hdist), syn_data_n, s=15, zorder=3, label=\"N\", edgecolors=\"tab:blue\", color=\"tab:blue\", alpha=0.7)\n",
    "#     ax[0,0].scatter(np.log10(hdist), syn_data_e, s=15, zorder=3, label=\"E\", edgecolors=\"tab:green\", color=\"tab:green\", alpha=0.7)\n",
    "\n",
    "#     ax[0,0].grid(zorder=0, alpha=0.4)\n",
    "#     ax[0,0].legend(loc=4)\n",
    "\n",
    "#     ax[0,0].set_xlabel(r\"log$_{10}$(R) (km)\")\n",
    "#     ax[0,0].set_ylabel(\"Magnitude\")\n",
    "\n",
    "\n",
    "#     ## ______________________________________________________________\n",
    "\n",
    "#     ax[0,1].scatter(np.log10(amax_syn_n), mag, color='k', zorder=3)\n",
    "#     ax[0,1].scatter(np.log10(amax_syn_e), mag, color='k', zorder=3)\n",
    "\n",
    "#     ax[0,1].scatter(np.log10(amax_n), syn_data_n, s=15, zorder=3, label=\"N\", edgecolors=\"tab:blue\", color=\"tab:blue\", alpha=0.7)\n",
    "#     ax[0,1].scatter(np.log10(amax_e), syn_data_e, s=15, zorder=3, label=\"E\", edgecolors=\"tab:green\", color=\"tab:green\", alpha=0.7)\n",
    "\n",
    "#     ax[0,1].grid(zorder=0, alpha=0.4)\n",
    "#     ax[0,1].legend(loc=4)\n",
    "\n",
    "#     ax[0,1].set_xlabel(r\"log$_{10}$(A$_{max}$) (nm)\")\n",
    "#     ax[0,1].set_ylabel(\"Magnitude\")\n",
    "\n",
    "\n",
    "#     ## ______________________________________________________________\n",
    "\n",
    "#     dbars = 0.5\n",
    "#     bars = np.arange(0,5+dbars,dbars)\n",
    "\n",
    "#     # labels, counts = np.unique(mag, return_counts=True)\n",
    "#     # ax[1].bar(labels, counts, align='center', width=0.5)\n",
    "\n",
    "#     ax[1,0].hist(mag, bins=int(len(bars)-1), density=False, histtype='bar', range=(min(bars), max(bars)),\n",
    "#                color=\"k\", rwidth=0.9, fill=False, align=\"mid\")\n",
    "#     # ax[1,1].hist(mag_z, bins=int(len(bars)-1), density=False, histtype='bar', range=(min(bars), max(bars)),\n",
    "#                # color=\"tab:orange\", edgecolor=\"tab:orange\", rwidth=0.7, fill=False, align=\"mid\", label=\"Z\")\n",
    "#     ax[1,0].hist(syn_data_n, bins=int(len(bars)-1), density=False, histtype='bar', range=(min(bars), max(bars)),\n",
    "#                color=\"tab:blue\", edgecolor=\"tab:blue\", rwidth=0.6, fill=False, align=\"mid\", label=\"N\")\n",
    "#     ax[1,0].hist(syn_data_e, bins=int(len(bars)-1), density=False, histtype='bar', range=(min(bars), max(bars)),\n",
    "#                color=\"tab:green\", edgecolor=\"tab:green\", rwidth=0.2, fill=False, align=\"mid\", label=\"E\")\n",
    "#     ax[1,0].set_xticks(bars)\n",
    "\n",
    "#     ax[1,0].legend(loc=1)\n",
    "#     ax[1,0].grid(zorder=0, alpha=0.4)\n",
    "\n",
    "#     ax[1,0].set_xlabel(r\"M$_L$\")\n",
    "#     ax[1,0].set_ylabel(\"Total Number\")\n",
    "\n",
    "\n",
    "#     ## ______________________________________________________________\n",
    "\n",
    "\n",
    "#     lim = round(max(max(abs(diff_z)), max(abs(diff_n)), max(abs(diff_e))),1)\n",
    "#     dbars2 = 0.2\n",
    "#     bars2 = np.arange(-lim, lim+dbars2, dbars2)\n",
    "\n",
    "#     # ax[2].hist(diff_z, bins=len(bars2)-1, density=False, histtype='bar', range=(-lim, lim),\n",
    "#     #            color=\"tab:orange\", edgecolor=\"tab:orange\", rwidth=1, fill=False, align=\"mid\", label=\"Z\")\n",
    "#     ax[1,1].hist(diff_syn_n, bins=len(bars2)-1, density=False, histtype='bar', range=(-lim, lim),\n",
    "#                color=\"tab:blue\", edgecolor=\"tab:blue\", rwidth=1, fill=False, align=\"mid\", label=\"N\")\n",
    "#     ax[1,1].hist(diff_syn_e, bins=len(bars2)-1, density=False, histtype='bar', range=(-lim, lim),\n",
    "#                color=\"tab:green\", edgecolor=\"tab:green\", rwidth=1, fill=False, align=\"mid\", label=\"E\")\n",
    "\n",
    "#     ax[1,1].legend(loc=1)\n",
    "#     ax[1,1].grid(zorder=0, alpha=0.4)\n",
    "\n",
    "#     ax[1,1].set_xlabel(r\"M$_L$ - M$_{L, est.}$\")\n",
    "#     ax[1,1].set_ylabel(\"Total Number\")\n",
    "\n",
    "\n",
    "\n",
    "#     ml_str, log10_str, amax_str = r\"M$_L$\", r\"log$_{10}$\", r\"A$_{max}$\"\n",
    "#     law1 = f\"{ml_str} = {log10_str}({amax_str}) + {popt_n[0]:.2f} {log10_str}(R) + {popt_n[1]:.5f}\"\n",
    "#     law2 = f\"{ml_str} = {log10_str}({amax_str}) + {popt_e[0]:.2f} {log10_str}(R) + {popt_e[1]:.5f}\"\n",
    "#     plt.suptitle(f\" N:  {law1}  \\nE:  {law2}\")\n",
    "\n",
    "#     plt.show();\n",
    "#     return fig\n",
    "\n",
    "# # fig = __makeplot_magnitude_comparison2()\n",
    "\n",
    "# # fig.savefig(config['path_to_figs']+\"BSPF_magnitudescales_translationsNE.png\", format=\"png\", dpi=200, bbox_inches='tight')"
   ]
  },
  {
   "cell_type": "markdown",
   "id": "8863246c-91e6-4393-bdc2-d13c74edd1c5",
   "metadata": {},
   "source": [
    "## Fitting Rotation Data"
   ]
  },
  {
   "cell_type": "code",
   "execution_count": 23,
   "id": "f9246ea5-bd67-4b5d-b75d-99a0243e3870",
   "metadata": {
    "tags": []
   },
   "outputs": [],
   "source": [
    "# ## select amplitude data\n",
    "# amax_n = data_amax_cosum_6.BSPF__N_amax * 1e9\n",
    "# amax_e = data_amax_cosum_6.BSPF__E_amax * 1e9\n",
    "# amax_z = data_amax_cosum_6.BSPF__Z_amax * 1e9\n",
    "# print(amax_n)\n",
    "# ## select hypocentral distances and magnitudes\n",
    "# hdist = data_amax_cosum_6.Hdistance_km\n",
    "# mag = data_amax_cosum_6.Magnitude\n",
    "\n",
    "# ## perform data fitting\n",
    "# popt_n, pcov_n = curve_fit(__ml_fit, (amax_n, hdist), mag, p0=(1., 1.))\n",
    "# popt_e, pcov_e = curve_fit(__ml_fit, (amax_e, hdist), mag, p0=(1., 1.))\n",
    "# popt_z, pcov_z = curve_fit(__ml_fit, (amax_z, hdist), mag, p0=(1., 1.))\n",
    "\n",
    "# ## output the new laws\n",
    "# print(f\"\\n N_rot:   Ml = log10(Amax) + {popt_n[0]:.2f} log10(R) + {popt_n[1]:.2f}\")\n",
    "# print(f\"\\n E_rot:   Ml = log10(Amax) + {popt_e[0]:.2f} log10(R) + {popt_e[1]:.2f}\")\n",
    "# print(f\"\\n Z_rot:   Ml = log10(Amax) + {popt_z[0]:.2f} log10(R) + {popt_z[1]:.2f}\")\n",
    "\n",
    "# ## generate synthetic magnitudes\n",
    "# syn_data_e = __ml_fit((amax_e, hdist), popt_e[0], popt_e[1])\n",
    "# syn_data_n = __ml_fit((amax_n, hdist), popt_n[0], popt_n[1])\n",
    "# syn_data_z = __ml_fit((amax_z, hdist), popt_z[0], popt_z[1])\n",
    "\n",
    "# ## compute differences of magnitudes and synthetics\n",
    "# diff_syn_n = mag-syn_data_n\n",
    "# diff_syn_e = mag-syn_data_e\n",
    "# diff_syn_z = mag-syn_data_z\n",
    "\n",
    "\n",
    "# ## compute synthetic maximal amplitudes\n",
    "# # amax_syn = __predict_local_amplitude_ml((mag, hdist))\n",
    "# amax_syn_n = __predict_local_amplitude((mag, hdist), popt_n[0], popt_n[1])\n",
    "# amax_syn_e = __predict_local_amplitude((mag, hdist), popt_e[0], popt_e[1])\n",
    "# amax_syn_z = __predict_local_amplitude((mag, hdist), popt_z[0], popt_z[1])"
   ]
  },
  {
   "cell_type": "code",
   "execution_count": 24,
   "id": "a16bb72d-0612-4134-be50-578cc657b7ff",
   "metadata": {
    "tags": []
   },
   "outputs": [],
   "source": [
    "# def __makeplot_magnitude_comparison3():\n",
    "\n",
    "#     fig, ax = plt.subplots(2, 2, figsize=(12, 7))\n",
    "\n",
    "#     ## ______________________________________________________________\n",
    "\n",
    "#     ax[0,0].scatter(np.log10(hdist), mag, zorder=3, color=\"black\")\n",
    "#     ax[0,0].scatter(np.log10(hdist), syn_data_n, s=15, zorder=3, label=\"N\", edgecolors=\"tab:blue\", color=\"tab:blue\", alpha=0.8)\n",
    "#     ax[0,0].scatter(np.log10(hdist), syn_data_e, s=15, zorder=3, label=\"E\", edgecolors=\"tab:green\", color=\"tab:green\", alpha=0.8)\n",
    "#     ax[0,0].scatter(np.log10(hdist), syn_data_z, s=15, zorder=3, label=\"Z\", edgecolors=\"tab:red\", color=\"tab:red\", alpha=0.8)\n",
    "\n",
    "#     ax[0,0].grid(zorder=0, alpha=0.4)\n",
    "#     ax[0,0].legend(loc=4)\n",
    "\n",
    "#     ax[0,0].set_xlabel(r\"log$_{10}$( R ) (km)\")\n",
    "#     ax[0,0].set_ylabel(\"Magnitude\")\n",
    "\n",
    "\n",
    "#     ## ______________________________________________________________\n",
    "\n",
    "#     ax[0,1].scatter(np.log10(amax_syn_n), mag, color='k', zorder=3)\n",
    "#     ax[0,1].scatter(np.log10(amax_syn_e), mag, color='k', zorder=3)\n",
    "#     ax[0,1].scatter(np.log10(amax_syn_z), mag, color='k', zorder=3)\n",
    "\n",
    "#     ax[0,1].scatter(np.log10(amax_n), syn_data_n, s=15, zorder=3, label=\"N\", edgecolors=\"tab:blue\", color=\"tab:blue\", alpha=0.8)\n",
    "#     ax[0,1].scatter(np.log10(amax_e), syn_data_e, s=15, zorder=3, label=\"E\", edgecolors=\"tab:green\", color=\"tab:green\", alpha=0.8)\n",
    "#     ax[0,1].scatter(np.log10(amax_z), syn_data_z, s=15, zorder=3, label=\"Z\", edgecolors=\"tab:red\", color=\"tab:red\", alpha=0.8)\n",
    "\n",
    "#     ax[0,1].grid(zorder=0, alpha=0.4)\n",
    "#     ax[0,1].legend(loc=4)\n",
    "\n",
    "#     ax[0,1].set_xlabel(r\"log$_{10}$( A$_{max}$ ) (rad/s)\")\n",
    "#     ax[0,1].set_ylabel(\"Magnitude\")\n",
    "\n",
    "\n",
    "#     ## ______________________________________________________________\n",
    "\n",
    "#     dbars = 0.5\n",
    "#     bars = np.arange(0, 5 + dbars, dbars)\n",
    "\n",
    "#     # labels, counts = np.unique(mag, return_counts=True)\n",
    "#     # ax[1].bar(labels, counts, align='center', width=0.5)\n",
    "\n",
    "#     ax[1,0].hist(mag, bins=int(len(bars)-1), density=False, histtype='bar', range=(min(bars), max(bars)),\n",
    "#                color=\"k\", rwidth=0.9, fill=False, align=\"mid\")\n",
    "#     ax[1,0].hist(syn_data_n, bins=int(len(bars)-1), density=False, histtype='bar', range=(min(bars), max(bars)),\n",
    "#                color=\"tab:blue\", edgecolor=\"tab:blue\", rwidth=0.6, fill=False, align=\"mid\", label=\"N\")\n",
    "#     ax[1,0].hist(syn_data_e, bins=int(len(bars)-1), density=False, histtype='bar', range=(min(bars), max(bars)),\n",
    "#                color=\"tab:green\", edgecolor=\"tab:green\", rwidth=0.2, fill=False, align=\"mid\", label=\"E\")\n",
    "#     ax[1,0].hist(syn_data_z, bins=int(len(bars)-1), density=False, histtype='bar', range=(min(bars), max(bars)),\n",
    "#                color=\"tab:red\", edgecolor=\"tab:red\", rwidth=0.2, fill=False, align=\"mid\", label=\"Z\")\n",
    "\n",
    "#     ax[1,0].set_xticks(bars)\n",
    "#     # ax[1,0].set_xticks(bars+dbars/2)\n",
    "#     # ax[1,0].set_xticklabels([f\"{b}-{b+dbars}\" for b in bars], rotation=60)\n",
    "\n",
    "#     ax[1,0].legend(loc=1)\n",
    "#     ax[1,0].grid(zorder=0, alpha=0.4)\n",
    "\n",
    "#     ax[1,0].set_xlabel(r\"M$_L$\")\n",
    "#     ax[1,0].set_ylabel(\"Total Number\")\n",
    "\n",
    "\n",
    "#     ## ______________________________________________________________\n",
    "\n",
    "#     lim = round(max(max(abs(diff_z)), max(abs(diff_n)), max(abs(diff_e))),1)\n",
    "#     dbars2 = 0.2\n",
    "#     bars2 = np.arange(-lim, lim+dbars2, dbars2)\n",
    "#     # ax[1,1].hist(diff_z, bins=len(bars2)-1, density=False, histtype='bar', range=(-lim, lim),\n",
    "#     #            color=\"tab:orange\", edgecolor=\"tab:orange\", rwidth=1, fill=False, align=\"mid\", label=\"Z\")\n",
    "#     ax[1,1].hist(diff_syn_n, bins=len(bars2)-1, density=False, histtype='bar', range=(-lim, lim),\n",
    "#                color=\"tab:blue\", edgecolor=\"tab:blue\", rwidth=1, fill=False, align=\"mid\", label=\"N\")\n",
    "#     ax[1,1].hist(diff_syn_e, bins=len(bars2)-1, density=False, histtype='bar', range=(-lim, lim),\n",
    "#                color=\"tab:green\", edgecolor=\"tab:green\", rwidth=1, fill=False, align=\"mid\", label=\"E\")\n",
    "#     ax[1,1].hist(diff_syn_z, bins=len(bars2)-1, density=False, histtype='bar', range=(-lim, lim),\n",
    "#                color=\"tab:red\", edgecolor=\"tab:red\", rwidth=1, fill=False, align=\"mid\", label=\"Z\")\n",
    "\n",
    "#     ax[1,1].legend(loc=1)\n",
    "#     ax[1,1].grid(zorder=0, alpha=0.4)\n",
    "\n",
    "#     ax[1,1].set_xlabel(r\"M$_L$ - M$_{L, est.}$\")\n",
    "#     ax[1,1].set_ylabel(\"Total Number\")\n",
    "\n",
    "\n",
    "#     ml_str, log10_str, amax_str = r\"M$_L$\", r\"log$_{10}$\", r\"A$_{max}$\"\n",
    "#     law1 = f\"{ml_str} = {log10_str}({amax_str}) + {popt_n[0]:.2f} {log10_str}(R) + {popt_n[1]:.2f}\"\n",
    "#     law2 = f\"{ml_str} = {log10_str}({amax_str}) + {popt_e[0]:.2f} {log10_str}(R) + {popt_e[1]:.2f}\"\n",
    "#     law3 = f\"{ml_str} = {log10_str}({amax_str}) + {popt_z[0]:.2f} {log10_str}(R) + {popt_z[1]:.2f}\"\n",
    "#     plt.suptitle(f\" N:  {law1}  \\nE:  {law2}  \\nZ:  {law3}\")\n",
    "\n",
    "#     plt.show();\n",
    "#     return fig\n",
    "\n",
    "# fig = __makeplot_magnitude_comparison3()\n",
    "\n",
    "# fig.savefig(config['path_to_figs']+\"BSPF_magnitudescales_rotationsNEZ.png\", format=\"png\", dpi=200, bbox_inches='tight')"
   ]
  },
  {
   "cell_type": "markdown",
   "id": "3b6023ee-79fc-4812-94e7-d28352546d9f",
   "metadata": {},
   "source": [
    "## Minimal Amplitude"
   ]
  },
  {
   "cell_type": "code",
   "execution_count": 25,
   "id": "11e0d897-3f80-4c33-928c-a173c1b6ab6b",
   "metadata": {
    "tags": []
   },
   "outputs": [],
   "source": [
    "# def __predict_local_magnitude(X, a, b):\n",
    "#     amp, hdist = X\n",
    "#     return np.log10(amp) + a*np.log10(hdist) + b"
   ]
  },
  {
   "cell_type": "code",
   "execution_count": 26,
   "id": "55443b85-f117-4fd9-b60b-bacee38699ce",
   "metadata": {
    "tags": []
   },
   "outputs": [],
   "source": [
    "\n",
    "# a_n, b_n = popt_n[0], popt_n[1]\n",
    "# a_e, b_e = popt_e[0], popt_e[1]\n",
    "# a_z, b_z = popt_z[0], popt_z[1]\n",
    "\n",
    "\n",
    "# hdist = np.arange(1, 125+1, 1)\n",
    "# mag = np.arange(-1, 6.0+0.1, 0.1)\n",
    "\n",
    "# amax_syn_n = np.zeros((len(hdist), len(mag)))\n",
    "# amax_syn_e = np.zeros((len(hdist), len(mag)))\n",
    "# amax_syn_z = np.zeros((len(hdist), len(mag)))\n",
    "\n",
    "# for i, h in enumerate(hdist):\n",
    "#     for j, m in enumerate(mag):\n",
    "#         amax_syn_n[i, j] = __predict_local_amplitude((m, h), a_n, b_n)\n",
    "#         amax_syn_e[i, j] = __predict_local_amplitude((m, h), a_e, b_e)\n",
    "#         amax_syn_z[i, j] = __predict_local_amplitude((m, h), a_z, b_z)\n"
   ]
  },
  {
   "cell_type": "code",
   "execution_count": 27,
   "id": "d33cdfb0-d286-46d4-8f51-05d86bbdd9a5",
   "metadata": {
    "tags": []
   },
   "outputs": [],
   "source": [
    "# bspf_e = data_amax_cosum_6.BSPF__E_amax\n",
    "# bspf_n = data_amax_cosum_6.BSPF__N_amax\n",
    "# bspf_z = data_amax_cosum_6.BSPF__Z_amax\n",
    "\n",
    "# bspf_mag = data_amax_cosum_6.Magnitude\n",
    "# bspf_hdist = data_amax_cosum_6.Hdistance_km\n",
    "\n",
    "# ## blueSeis self-noise\n",
    "# limit = 1e-7  ## rad/s\n",
    "# mag_limit_n = __predict_local_magnitude((limit, hdist), popt_n[0], popt_n[1])\n",
    "# mag_limit_e = __predict_local_magnitude((limit, hdist), popt_e[0], popt_e[1])\n",
    "# mag_limit_z = __predict_local_magnitude((limit, hdist), popt_z[0], popt_z[1])"
   ]
  },
  {
   "cell_type": "code",
   "execution_count": 28,
   "id": "6e599aa4-4eca-4806-bc77-b89ba4461356",
   "metadata": {
    "tags": []
   },
   "outputs": [],
   "source": [
    "# def __makeplot_single():\n",
    "\n",
    "#     import matplotlib as mpl\n",
    "#     import matplotlib.pyplot as plt\n",
    "#     from matplotlib.ticker import LogFormatterExponent # <-- one new import here\n",
    "\n",
    "#     fig, ax = plt.subplots(1, 3, figsize=(15, 5), sharey=True)\n",
    "\n",
    "#     font = 12\n",
    "\n",
    "#     plt.subplots_adjust(wspace=0.05)\n",
    "\n",
    "#     cmap = mpl.colormaps['viridis'].resampled(28)\n",
    "#     # cmap = mpl.colormaps['rainbow'].resampled(11)\n",
    "#     # cmap.set_under('gray')\n",
    "\n",
    "\n",
    "#     amin_n, amax_n = min(amax_syn_n.reshape(1, amax_syn_n.size)[0]), max(amax_syn_n.reshape(1, amax_syn_n.size)[0])\n",
    "#     amin_e, amax_e = min(amax_syn_e.reshape(1, amax_syn_e.size)[0]), max(amax_syn_e.reshape(1, amax_syn_e.size)[0])\n",
    "#     amin_z, amax_z = min(amax_syn_z.reshape(1, amax_syn_z.size)[0]), max(amax_syn_z.reshape(1, amax_syn_z.size)[0])\n",
    "\n",
    "#     amin, amax = min(amin_n, amin_e, amin_z), max(amax_n, amax_e, amax_z)\n",
    "\n",
    "#     # lev = np.logspace(round(np.log10(amin),0), round(np.log10(amax),0), 10)\n",
    "#     # lev = np.logspace(amin, amax, levels)\n",
    "#     # lev_lbl = np.linspace(amin, amax, levels).astype(int)\n",
    "#     lev = np.array([1e-11, 1e-10, 1e-9, 1e-8, 1e-7, 1e-6, 1e-5, 1e-4, 1e-3, 1e-2, 1e-1, 1e0, 1e1, 1e2, 1e3])\n",
    "\n",
    "#     amin, amax = min(lev), max(lev)\n",
    "\n",
    "#     lev_lbl = np.log10(lev)\n",
    "\n",
    "#     ax[0].scatter(bspf_mag, bspf_hdist, c=bspf_n, s=40, cmap=cmap, edgecolors=\"black\", lw=0.5, zorder=3,\n",
    "#                   norm=mpl.colors.LogNorm(vmin=amin, vmax=amax))\n",
    "#     cb0 = ax[0].contourf(mag, hdist, amax_syn_n, cmap=cmap, norm=mpl.colors.LogNorm(vmin=amin, vmax=amax), levels=lev)\n",
    "\n",
    "\n",
    "#     cb1 = ax[1].scatter(bspf_mag, bspf_hdist, c=bspf_e, s=40, cmap=cmap, edgecolors=\"black\", lw=0.5, zorder=3,\n",
    "#                         norm=mpl.colors.LogNorm(vmin=amin, vmax=amax))\n",
    "#     ax[1].contourf(mag, hdist, amax_syn_e, cmap=cmap, norm=mpl.colors.LogNorm(vmin=amin, vmax=amax), levels=lev)\n",
    "\n",
    "\n",
    "#     cb2 = ax[2].scatter(bspf_mag, bspf_hdist, c=bspf_z, s=40, cmap=cmap, edgecolors=\"black\", lw=0.5, zorder=3,\n",
    "#                         norm=mpl.colors.LogNorm(vmin=amin_z, vmax=amax_z))\n",
    "#     ax[2].contourf(mag, hdist, amax_syn_z, cmap=cmap, norm=mpl.colors.LogNorm(vmin=amin, vmax=amax), levels=lev)\n",
    "\n",
    "\n",
    "#     ax[0].plot(mag_limit_n, hdist, color=\"tab:red\", ls=\"--\")\n",
    "#     ax[1].plot(mag_limit_e, hdist, color=\"tab:red\", ls=\"--\")\n",
    "#     ax[2].plot(mag_limit_z, hdist, color=\"tab:red\", ls=\"--\")\n",
    "\n",
    "#     for jj in range(3):\n",
    "#         ax[jj].set_xlim(-1, 6)\n",
    "#         ax[jj].set_ylim(1, 70)\n",
    "\n",
    "#     cbar0 = plt.colorbar(cb0, ax=ax, extend='min')\n",
    "#     # cbar0.set_ticklabels(lev_lbl)\n",
    "#     cbar0.set_label(\"max. Amplitude (rad/s)\", labelpad=-70, fontsize=font)\n",
    "\n",
    "#     ax[0].set_xlabel(\"Magnitude\", fontsize=font)\n",
    "#     ax[0].set_ylabel(\"Hypocentral Distance (km)\", fontsize=font)\n",
    "#     ax[1].set_xlabel(\"Magnitude\", fontsize=font)\n",
    "#     ax[2].set_xlabel(\"Magnitude\", fontsize=font)\n",
    "\n",
    "#     # ax[1].set_ylabel(\"Hypocentral Distance (km)\")\n",
    "\n",
    "#     ax[0].set_title(\"BSPF-N\")\n",
    "#     ax[0].set_title(\"BSPF-N\")\n",
    "#     ax[1].set_title(\"BSPF-E\")\n",
    "#     ax[2].set_title(\"BSPF-Z\")\n",
    "\n",
    "#     plt.show();\n",
    "#     return fig"
   ]
  },
  {
   "cell_type": "code",
   "execution_count": 29,
   "id": "4afd96a8-7798-4cb5-ad8e-aa31979bcff2",
   "metadata": {
    "tags": []
   },
   "outputs": [],
   "source": [
    "# fig = __makeplot_single();\n",
    "\n",
    "# fig.savefig(config['path_to_figs']+\"BSPF_model_magnitudescale_components.png\", format=\"png\", dpi=200, bbox_inches='tight')"
   ]
  },
  {
   "cell_type": "markdown",
   "id": "d4d48dfc-fdbe-44dc-9f34-32335c1faa2e",
   "metadata": {
    "tags": []
   },
   "source": [
    "## One Law"
   ]
  },
  {
   "cell_type": "code",
   "execution_count": 30,
   "id": "03d0096f-fe06-4dca-8429-f087a7a1c712",
   "metadata": {
    "tags": []
   },
   "outputs": [],
   "source": [
    "def __ml_fit(X, a, b):\n",
    "    amax, hdist = X\n",
    "    return np.log10(amax) + a*np.log10(hdist) + b"
   ]
  },
  {
   "cell_type": "code",
   "execution_count": 31,
   "id": "a3149549-f64b-47c2-b824-49f60f42193c",
   "metadata": {
    "tags": []
   },
   "outputs": [],
   "source": [
    "def __predict_local_amplitude(X, a, b):\n",
    "    mag, hdist = X\n",
    "    return 10**( mag - a*np.log10(hdist) + b )"
   ]
  },
  {
   "cell_type": "code",
   "execution_count": 32,
   "id": "e5e1e431-71d5-4de0-9a0b-f840ece9e285",
   "metadata": {
    "tags": []
   },
   "outputs": [],
   "source": [
    "def __predict_local_magnitude(X, a, b):\n",
    "    amp, hdist = X\n",
    "    return np.log10(amp) + a*np.log10(hdist) + b"
   ]
  },
  {
   "cell_type": "code",
   "execution_count": 33,
   "id": "e8aad46d-abc7-4646-be9c-edb3abd00805",
   "metadata": {
    "tags": []
   },
   "outputs": [
    {
     "name": "stdout",
     "output_type": "stream",
     "text": [
      "\n",
      " Ml = log10(Amax) + 1.88 * log10(R) + 5.19\n"
     ]
    }
   ],
   "source": [
    "## select amplitude data\n",
    "amax_n = data_amax_cosum_6.BSPF__N_amax\n",
    "amax_e = data_amax_cosum_6.BSPF__E_amax\n",
    "amax_z = data_amax_cosum_6.BSPF__Z_amax\n",
    "\n",
    "amax_all = np.sqrt(amax_n**2 + amax_e**2 + amax_z**2)\n",
    "\n",
    "## select hypocentral distances and magnitudes\n",
    "hdist_all = data_amax_cosum_6.Hdistance_km\n",
    "mag_all = data_amax_cosum_6.Magnitude\n",
    "\n",
    "## perform data fitting\n",
    "popt_all, pcov_all = curve_fit(__ml_fit, (amax_all, hdist_all), mag_all, p0=(1., 1.))\n",
    "\n",
    "\n",
    "## output the new laws\n",
    "print(f\"\\n Ml = log10(Amax) + {popt_all[0]:.2f} * log10(R) + {popt_all[1]:.2f}\")\n",
    "\n",
    "## generate synthetic magnitudes\n",
    "# syn_data_all = __ml_fit((amax_all, hdist), popt_all[0], popt_all[1])\n",
    "\n",
    "## compute differences of magnitudes and synthetics\n",
    "# diff_syn_all = mag_all-syn_data_all\n",
    "\n",
    "\n",
    "## compute synthetic maximal amplitudes\n",
    "amax_syn_all = __predict_local_amplitude((mag_all, hdist_all), popt_all[0], popt_all[1])\n"
   ]
  },
  {
   "cell_type": "code",
   "execution_count": 34,
   "id": "8f95e040-016a-4b14-b093-1d23d4452821",
   "metadata": {
    "tags": []
   },
   "outputs": [],
   "source": [
    "\n",
    "a_all, b_all = popt_all[0], popt_all[1]\n",
    "\n",
    "hdist_syn = np.arange(1, 200+1, 1)\n",
    "mag_syn = np.arange(-1, 6.0+0.1, 0.1)\n",
    "\n",
    "amax_syn_all = np.zeros((len(hdist_syn), len(mag_syn)))\n",
    "\n",
    "for i, h in enumerate(hdist_syn):\n",
    "    for j, m in enumerate(mag_syn):\n",
    "        amax_syn_all[i, j] = __predict_local_amplitude((m, h), a_all, b_all)\n",
    "\n",
    "\n",
    "## blueSeis self-noise\n",
    "limit = 1e-7  ## rad/s/Hz\n",
    "mag_limit_all = __predict_local_magnitude((limit, hdist_syn), a_all, b_all)\n"
   ]
  },
  {
   "cell_type": "code",
   "execution_count": 35,
   "id": "7d6f7c58-d400-4acc-bcf0-cbda2b2c26f2",
   "metadata": {
    "tags": []
   },
   "outputs": [
    {
     "data": {
      "image/png": "[encoded data removed]",
      "text/plain": [
       "<Figure size 1000x500 with 2 Axes>"
      ]
     },
     "metadata": {},
     "output_type": "display_data"
    }
   ],
   "source": [
    "def __makeplot_all():\n",
    "\n",
    "    import matplotlib as mpl\n",
    "    import matplotlib.pyplot as plt\n",
    "    from matplotlib.ticker import LogFormatterExponent # <-- one new import here\n",
    "\n",
    "    fig, ax = plt.subplots(1, 1, figsize=(10, 5), sharey=True)\n",
    "\n",
    "    font = 12\n",
    "\n",
    "    plt.subplots_adjust(wspace=0.05)\n",
    "\n",
    "    cmap = mpl.colormaps['viridis'].resampled(28)\n",
    "    # cmap = mpl.colormaps['jet'].resampled(28)\n",
    "    # cmap.set_under('gray')\n",
    "\n",
    "\n",
    "    # amin_all, amax_all = min(amax_syn_all.reshape(1, amax_syn_all.size)[0]), max(amax_syn_all.reshape(1, amax_syn_all.size)[0])\n",
    "\n",
    "    lev = np.array([1e-11, 1e-10, 1e-9, 1e-8, 1e-7, 1e-6, 1e-5, 1e-4, 1e-3, 1e-2, 1e-1, 1e0, 1e1, 1e2, 1e3])\n",
    "\n",
    "    amin, amax = min(lev), max(lev)\n",
    "\n",
    "    lev_lbl = np.log10(lev)\n",
    "\n",
    "\n",
    "    ax.scatter(mag_all, hdist_all, c=amax_all, s=40, cmap=cmap, edgecolors=\"black\", lw=0.5, zorder=3, norm=mpl.colors.LogNorm(vmin=amin, vmax=amax), label=r\"$A_{max} = \\sqrt{N^2+E^2+Z^2}$\")\n",
    "\n",
    "    cb0 = ax.contourf(mag_syn, hdist_syn, amax_syn_all, cmap=cmap, norm=mpl.colors.LogNorm(vmin=amin, vmax=amax), levels=lev)\n",
    "\n",
    "    ax.plot(mag_limit_all, hdist_syn, color=\"tab:red\", ls=\"--\", label=f\"self-noise: {limit} rad/s\")\n",
    "\n",
    "    ax.set_xlim(-1, 6)\n",
    "    ax.set_ylim(1, 200)\n",
    "\n",
    "    cbar0 = plt.colorbar(cb0, ax=ax, extend='min')\n",
    "    # cbar0.set_ticklabels(lev_lbl)\n",
    "    cbar0.set_label(\"max. Amplitude (rad/s)\", labelpad=-70, fontsize=font)\n",
    "\n",
    "    ax.set_xlabel(\"Magnitude\", fontsize=font)\n",
    "    ax.set_ylabel(\"Hypocentral Distance (km)\", fontsize=font)\n",
    "\n",
    "    ax.set_title(f\"BSPF: log10(Amax) + {popt_all[0]:.2f} log10(R) + {popt_all[1]:.2f}\")\n",
    "\n",
    "    ax.legend(loc=1)\n",
    "\n",
    "    plt.show();\n",
    "    return fig\n",
    "\n",
    "fig = __makeplot_all();\n",
    "\n",
    "fig.savefig(config['path_to_figs']+\"BSPF_model_magnitudescale_overview_general.png\", format=\"png\", dpi=200, bbox_inches='tight')"
   ]
  },
  {
   "cell_type": "code",
   "execution_count": null,
   "id": "be1cd0ef-a2ae-488e-88d1-38cb5e78d457",
   "metadata": {},
   "outputs": [],
   "source": []
  },
  {
   "cell_type": "code",
   "execution_count": null,
   "id": "567e145d-d0a2-423e-8771-81200f43bc78",
   "metadata": {},
   "outputs": [],
   "source": []
  }
 ],
 "metadata": {
  "kernelspec": {
   "display_name": "Python 3 (ipykernel)",
   "language": "python",
   "name": "python3"
  },
  "language_info": {
   "codemirror_mode": {
    "name": "ipython",
    "version": 3
   },
   "file_extension": ".py",
   "mimetype": "text/x-python",
   "name": "python",
   "nbconvert_exporter": "python",
   "pygments_lexer": "ipython3",
   "version": "3.9.16"
  },
  "toc": {
   "base_numbering": 1,
   "nav_menu": {},
   "number_sections": true,
   "sideBar": true,
   "skip_h1_title": false,
   "title_cell": "Table of Contents",
   "title_sidebar": "Contents",
   "toc_cell": false,
   "toc_position": {},
   "toc_section_display": true,
   "toc_window_display": false
  },
  "varInspector": {
   "cols": {
    "lenName": 16,
    "lenType": 16,
    "lenVar": 40
   },
   "kernels_config": {
    "python": {
     "delete_cmd_postfix": "",
     "delete_cmd_prefix": "del ",
     "library": "var_list.py",
     "varRefreshCmd": "print(var_dic_list())"
    },
    "r": {
     "delete_cmd_postfix": ") ",
     "delete_cmd_prefix": "rm(",
     "library": "var_list.r",
     "varRefreshCmd": "cat(var_dic_list()) "
    }
   },
   "types_to_exclude": [
    "module",
    "function",
    "builtin_function_or_method",
    "instance",
    "_Feature"
   ],
   "window_display": false
  }
 },
 "nbformat": 4,
 "nbformat_minor": 5
}
