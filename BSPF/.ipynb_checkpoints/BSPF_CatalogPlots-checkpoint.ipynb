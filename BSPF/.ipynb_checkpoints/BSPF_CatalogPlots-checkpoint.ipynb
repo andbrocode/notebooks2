{
 "cells": [
  {
   "cell_type": "markdown",
   "id": "09a2fa44",
   "metadata": {},
   "source": [
    "# Plot BlueSeis BSPF Events from Catalog"
   ]
  },
  {
   "cell_type": "markdown",
   "id": "222c6d13",
   "metadata": {
    "ExecuteTime": {
     "end_time": "2023-04-17T13:02:47.573740Z",
     "start_time": "2023-04-17T13:02:47.413960Z"
    }
   },
   "source": [
    "! Should be run in pygmt environment !"
   ]
  },
  {
   "cell_type": "markdown",
   "id": "5b1c7ac1",
   "metadata": {},
   "source": [
    "With pressure sensor parascientific and new sensor "
   ]
  },
  {
   "cell_type": "code",
   "execution_count": 1,
   "id": "ac7ec6a8",
   "metadata": {
    "ExecuteTime": {
     "end_time": "2023-04-21T08:39:56.630696Z",
     "start_time": "2023-04-21T08:39:55.575989Z"
    }
   },
   "outputs": [],
   "source": [
    "import os \n",
    "import obspy as obs\n",
    "import matplotlib.pyplot as plt\n",
    "import numpy as np\n",
    "import pandas as pd\n",
    "\n",
    "from andbro__savefig import __savefig\n",
    "from obspy.clients.fdsn import Client"
   ]
  },
  {
   "cell_type": "code",
   "execution_count": 2,
   "id": "69645e9e",
   "metadata": {
    "ExecuteTime": {
     "end_time": "2023-04-21T08:39:56.636765Z",
     "start_time": "2023-04-21T08:39:56.632713Z"
    }
   },
   "outputs": [],
   "source": [
    "if os.uname().nodename == 'lighthouse':\n",
    "    root_path = '/home/andbro/'\n",
    "    data_path = '/home/andbro/kilauea-data/'\n",
    "    archive_path = '/home/andbro/freenas/'\n",
    "elif os.uname().nodename == 'kilauea':\n",
    "    root_path = '/home/brotzer/'\n",
    "    data_path = '/import/kilauea-data/'\n",
    "    archive_path = '/import/freenas-ffb-01-data/'"
   ]
  },
  {
   "cell_type": "markdown",
   "id": "2d625638",
   "metadata": {
    "ExecuteTime": {
     "end_time": "2023-01-13T15:42:15.099966Z",
     "start_time": "2023-01-13T15:42:15.096483Z"
    }
   },
   "source": [
    "## Configurations"
   ]
  },
  {
   "cell_type": "code",
   "execution_count": null,
   "id": "685a3ddf",
   "metadata": {
    "ExecuteTime": {
     "end_time": "2023-04-21T09:07:18.714616Z",
     "start_time": "2023-04-21T09:07:18.714606Z"
    }
   },
   "outputs": [],
   "source": [
    "config = {}\n",
    "\n",
    "config['minlatitude'] = 31 #-1\n",
    "config['maxlatitude'] = 35 #+1\n",
    "config['minlongitude'] = -119 #-1\n",
    "config['maxlongitude'] = -114 #+1\n",
    "\n",
    "config['BSPF_lon'] = np.array([-116.455439])\n",
    "config['BSPF_lat'] = np.array([33.610643])\n",
    "\n",
    "config['minmagnitude'] = 2.5\n",
    "\n",
    "config['tbeg'] = obs.UTCDateTime(\"2022-10-01\")\n",
    "config['tend'] = obs.UTCDateTime(\"2023-03-31\")\n",
    "\n",
    "config['eventfile'] = \"BSPF_event_catalog\"\n",
    "# config['eventfile'] = \"BSPF_event_catalog\"\n",
    "\n",
    "config['path_trigger'] = data_path+\"/BSPF/trigger3/\"\n",
    "config['path_catalog'] = data_path+\"/BSPF/data/\"\n",
    "config['out_figures'] = data_path+\"/BSPF/figures/\"\n",
    "\n",
    "config['outpath'] = data_path+\"/BSPF/\""
   ]
  },
  {
   "cell_type": "code",
   "execution_count": null,
   "id": "2fa9a6d3",
   "metadata": {
    "ExecuteTime": {
     "end_time": "2023-04-21T09:07:18.720292Z",
     "start_time": "2023-04-21T09:07:18.720278Z"
    },
    "code_folding": [
     0
    ]
   },
   "outputs": [],
   "source": [
    "def __cat_to_df(cat):\n",
    "    \n",
    "    from pandas import DataFrame\n",
    "    \n",
    "    times = []\n",
    "    lats = []\n",
    "    lons = []\n",
    "    deps = []\n",
    "    magnitudes = []\n",
    "    magnitudestype = []\n",
    "    \n",
    "    for event in cat:\n",
    "        if len(event.origins) != 0 and len(event.magnitudes) != 0:\n",
    "            times.append(event.origins[0].time.datetime)\n",
    "            lats.append(event.origins[0].latitude)\n",
    "            lons.append(event.origins[0].longitude)\n",
    "            deps.append(event.origins[0].depth)\n",
    "            magnitudes.append(event.magnitudes[0].mag)\n",
    "            magnitudestype.append(event.magnitudes[0].magnitude_type )\n",
    "            \n",
    "    df = DataFrame({'latitude':lats,'longitude':lons,'depth':deps,\n",
    "                    'magnitude':magnitudes,'type':magnitudestype}, \n",
    "                     index = times\n",
    "                  )\n",
    "    \n",
    "    return df"
   ]
  },
  {
   "cell_type": "code",
   "execution_count": null,
   "id": "70c092ee",
   "metadata": {
    "ExecuteTime": {
     "end_time": "2023-04-21T09:07:18.727360Z",
     "start_time": "2023-04-21T09:07:18.727350Z"
    },
    "code_folding": [
     0
    ]
   },
   "outputs": [],
   "source": [
    "def __add_distances_and_backazimuth(config, df):\n",
    "\n",
    "    from obspy.geodetics.base import gps2dist_azimuth\n",
    "\n",
    "    dist = np.zeros(len(df))\n",
    "    baz = np.zeros(len(df))\n",
    "\n",
    "    \n",
    "    for ii, ev in enumerate(df.index):\n",
    "        try:\n",
    "            dist[ii], az, baz[ii] = gps2dist_azimuth(config['BSPF_lat'], config['BSPF_lon'],\n",
    "                                                     df.latitude[ii], df.longitude[ii],\n",
    "                                                     a=6378137.0, f=0.0033528106647474805\n",
    "                                                     )\n",
    "        except:\n",
    "            print(\" -> failed to compute!\")\n",
    "            \n",
    "    df['backazimuth'] = baz\n",
    "    df['distances_km'] = dist/1000\n",
    "\n",
    "    return df"
   ]
  },
  {
   "cell_type": "code",
   "execution_count": null,
   "id": "75a4af8d",
   "metadata": {
    "ExecuteTime": {
     "end_time": "2023-04-21T09:07:18.735280Z",
     "start_time": "2023-04-21T09:07:18.735261Z"
    },
    "code_folding": [
     0
    ]
   },
   "outputs": [],
   "source": [
    "def __read_pickle(path, filename):\n",
    "    \n",
    "    import pickle\n",
    "\n",
    "    with open(path+filename, 'rb') as f:\n",
    "        triggerfile = pickle.load(f)\n",
    "        \n",
    "    return triggerfile"
   ]
  },
  {
   "cell_type": "code",
   "execution_count": null,
   "id": "8de121c6",
   "metadata": {
    "ExecuteTime": {
     "end_time": "2023-04-21T09:07:18.743382Z",
     "start_time": "2023-04-21T09:07:18.743373Z"
    },
    "code_folding": [
     0
    ]
   },
   "outputs": [],
   "source": [
    "def __find_matches(trigger_events, catalog):\n",
    "\n",
    "    trigger_times, cosum = [], []\n",
    "    for trig in trigger_events:\n",
    "        trigger_times.append(trig['time'])\n",
    "        cosum.append(trig['coincidence_sum'])\n",
    "\n",
    "    \n",
    "    matches, time_diffs, events_triggered, idxs = [], [], [], []\n",
    "\n",
    "    ## extract origin times from catalog\n",
    "    event_times = [catalog.events[j].origins[0].time for j in range(len(catalog))]\n",
    "    \n",
    "    \n",
    "    for trigger_time in trigger_times:\n",
    "\n",
    "        ## compute time differences in seconds\n",
    "        diff = [event_time-trigger_time for event_time in event_times]\n",
    "        \n",
    "        ## only the ones before the trigger in time\n",
    "        abs_diff = [abs(d) for d in diff if d < 0]\n",
    "        \n",
    "        ## get closest event\n",
    "        t_min, t_idx = min(abs_diff), diff.index(-min(abs_diff))\n",
    "                \n",
    "        time_diffs.append(t_min)\n",
    "        matches.append(trigger_time)\n",
    "        events_triggered.append(event_times[t_idx])\n",
    "        idxs.append(t_idx)\n",
    "        \n",
    "    cat_sel = [catalog.events[idx] for idx in idxs]\n",
    "        \n",
    "        \n",
    "    t_days = [(match-obs.UTCDateTime(\"2022-10-01\"))/86400 for match in matches]\n",
    "    plt.figure(figsize=(15,5))\n",
    "    for tt, dd, cosum in zip(t_days, time_diffs, cosum):\n",
    "        if cosum == 4:\n",
    "            plt.scatter(tt, dd, zorder=2, color='red', s=13, alpha=0.7)\n",
    "        if cosum == 5:\n",
    "            plt.scatter(tt, dd, zorder=2, color='orange', s=13, alpha=0.7)\n",
    "        if cosum == 6:\n",
    "            plt.scatter(tt, dd, zorder=2, color='green', s=13, alpha=0.7)\n",
    "            \n",
    "    plt.yscale(\"log\")\n",
    "    plt.grid(which=\"both\", zorder=-1, ls=\":\")\n",
    "    plt.ylabel(\"Time Differences (s)\")\n",
    "    plt.xlabel(\"Time (days)\")\n",
    "    plt.xlim(0, 190)\n",
    "    plt.title(f\"LTA-STA Trigger: {len(events_triggered)}\")\n",
    "    \n",
    "    return np.array(matches), np.array(events_triggered), cat_sel"
   ]
  },
  {
   "cell_type": "markdown",
   "id": "70f0ac6a",
   "metadata": {},
   "source": [
    "## Load Data"
   ]
  },
  {
   "cell_type": "markdown",
   "id": "c5f2fcbc",
   "metadata": {},
   "source": [
    "### load catalog with all events"
   ]
  },
  {
   "cell_type": "code",
   "execution_count": 24,
   "id": "c4333a2d",
   "metadata": {
    "ExecuteTime": {
     "end_time": "2023-04-21T09:07:18.447612Z",
     "start_time": "2023-04-21T09:06:57.117957Z"
    }
   },
   "outputs": [],
   "source": [
    "cat_all = obs.read_events(config['path_catalog']+config['eventfile']+\"_all.xml\")\n",
    "\n",
    "events_all_df = __cat_to_df(cat_all)\n",
    "\n",
    "events_all_df = __add_distances_and_backazimuth(config, events_all_df)"
   ]
  },
  {
   "cell_type": "code",
   "execution_count": null,
   "id": "d10991bc",
   "metadata": {
    "ExecuteTime": {
     "end_time": "2023-04-21T09:07:18.664828Z",
     "start_time": "2023-04-21T09:07:18.664817Z"
    }
   },
   "outputs": [],
   "source": [
    "events_all_df = events_all_df.rename_axis('timestamp').reset_index()\n",
    "events_all_df['seconds'] = [abs((events_all_df.timestamp.min()-tt).total_seconds()) for tt in events_all_df.timestamp]"
   ]
  },
  {
   "cell_type": "markdown",
   "id": "2e4d28a3",
   "metadata": {},
   "source": [
    "### load triggered events"
   ]
  },
  {
   "cell_type": "code",
   "execution_count": null,
   "id": "855a6de2",
   "metadata": {
    "ExecuteTime": {
     "end_time": "2023-04-21T09:07:18.669046Z",
     "start_time": "2023-04-21T09:07:18.669037Z"
    }
   },
   "outputs": [],
   "source": [
    "trigger_events = __read_pickle(config['path_trigger'], \"trigger_all.pkl\")"
   ]
  },
  {
   "cell_type": "code",
   "execution_count": null,
   "id": "dd8ffc6d",
   "metadata": {
    "ExecuteTime": {
     "end_time": "2023-04-21T09:07:18.674781Z",
     "start_time": "2023-04-21T09:07:18.674759Z"
    },
    "code_folding": [
     0
    ]
   },
   "outputs": [],
   "source": [
    "matches, events_triggered, cat_select = __find_matches(trigger_events, cat_all)"
   ]
  },
  {
   "cell_type": "code",
   "execution_count": null,
   "id": "c9f89c1f",
   "metadata": {
    "ExecuteTime": {
     "end_time": "2023-04-21T09:07:18.679587Z",
     "start_time": "2023-04-21T09:07:18.679577Z"
    }
   },
   "outputs": [],
   "source": [
    "cat_select_df = __cat_to_df(cat_select)\n",
    "\n",
    "cat_select_df = __add_distances_and_backazimuth(config, cat_select_df)\n",
    "\n",
    "cat_select_df = cat_select_df.rename_axis('timestamp').reset_index()\n",
    "cat_select_df['seconds'] = [abs((cat_select_df.timestamp.min()-tt).total_seconds()) for tt in cat_select_df.timestamp]"
   ]
  },
  {
   "cell_type": "markdown",
   "id": "209fc723",
   "metadata": {},
   "source": [
    "## Plot Triggered Catalog"
   ]
  },
  {
   "cell_type": "markdown",
   "id": "7a206c2b",
   "metadata": {
    "ExecuteTime": {
     "end_time": "2023-04-16T20:27:28.790409Z",
     "start_time": "2023-04-16T20:27:28.783640Z"
    }
   },
   "source": [
    "### Plots"
   ]
  },
  {
   "cell_type": "code",
   "execution_count": null,
   "id": "2f474d8a",
   "metadata": {
    "ExecuteTime": {
     "end_time": "2023-04-21T09:07:18.684882Z",
     "start_time": "2023-04-21T09:07:18.684873Z"
    },
    "code_folding": [
     0
    ]
   },
   "outputs": [],
   "source": [
    "def __plot_timeline(catalog_df, catalog_all_df):\n",
    "\n",
    "    fig, ax = plt.subplots(1, 1, figsize=(15,5))\n",
    "\n",
    "    catalog_all_df.sort_values(\"magnitude\")\n",
    "    catalog_df.sort_values(\"magnitude\")\n",
    "    \n",
    "    \n",
    "    cax = ax.scatter(catalog_df.timestamp, \n",
    "                     catalog_df.distances_km, \n",
    "                     s=4**catalog_df.magnitude, \n",
    "                     c=catalog_df.magnitude, \n",
    "                     alpha=1.0, \n",
    "                     cmap='viridis',\n",
    "                     marker='o', facecolors='none', edgecolors='r'\n",
    "                    )\n",
    "\n",
    "    ax.scatter(catalog_all_df.timestamp, catalog_all_df.distances_km, s=4**catalog_all_df.magnitude, c='grey', alpha=0.5, zorder=-1)\n",
    "\n",
    "    \n",
    "    cbar = plt.colorbar(cax, ax=ax, cmap='viridis', pad=0.01, aspect=15, drawedges=False)\n",
    "    cbar.set_label(label='Magnitude', size=14, color=\"white\", labelpad=-38)\n",
    "    \n",
    "    \n",
    "    ax.set_ylim(bottom=0)\n",
    "    ax.set_ylabel(\"Distance (km)\", fontsize=18)\n",
    "\n",
    "    ax.grid(ls=\":\", zorder=-1)\n",
    "    \n",
    "#     ax.set_xlim(events_all_df.timestamp.min().date(), events_all_df.timestamp.max().date())\n",
    "#     ax.set_xlim(obs.UTCDateTime(\"2022-09-29\"), obs.UTCDateTime(\"2023-04-03\"))\n",
    "\n",
    "    ax.set_title(f\"triggered={len(catalog_df)} of {len(catalog_all_df)} events\", fontsize=18)\n",
    "    \n",
    "    ax.tick_params(axis=\"y\", labelsize=15)\n",
    "    ax.tick_params(axis=\"x\", labelsize=15)\n",
    "    \n",
    "    \n",
    "    plt.show();\n",
    "    return fig"
   ]
  },
  {
   "cell_type": "code",
   "execution_count": null,
   "id": "4261dacc",
   "metadata": {
    "ExecuteTime": {
     "end_time": "2023-04-21T09:07:18.691371Z",
     "start_time": "2023-04-21T09:07:18.691360Z"
    }
   },
   "outputs": [],
   "source": [
    "events_all_df[events_all_df.magnitude > 4.1]"
   ]
  },
  {
   "cell_type": "code",
   "execution_count": null,
   "id": "1ba42885",
   "metadata": {
    "ExecuteTime": {
     "end_time": "2023-04-21T09:07:18.696568Z",
     "start_time": "2023-04-21T09:07:18.696559Z"
    }
   },
   "outputs": [],
   "source": [
    "# events_all_df[events_all_df.magnitude == 6.2]"
   ]
  },
  {
   "cell_type": "code",
   "execution_count": null,
   "id": "2bd76829",
   "metadata": {
    "ExecuteTime": {
     "end_time": "2023-04-21T09:07:18.708161Z",
     "start_time": "2023-04-21T09:07:18.708141Z"
    },
    "code_folding": [
     0
    ]
   },
   "outputs": [],
   "source": [
    "fig = __plot_timeline(cat_select_df, events_all_df)\n",
    "\n",
    "fig.savefig(config['out_figures']+\"timeline_triggered_extended.png\")"
   ]
  },
  {
   "cell_type": "markdown",
   "id": "c9a41e53",
   "metadata": {
    "ExecuteTime": {
     "end_time": "2023-04-17T12:59:34.878434Z",
     "start_time": "2023-04-17T12:59:34.870785Z"
    }
   },
   "source": [
    "### Map Plot"
   ]
  },
  {
   "cell_type": "code",
   "execution_count": 17,
   "id": "60dcdc03",
   "metadata": {
    "ExecuteTime": {
     "end_time": "2023-04-21T08:40:19.213079Z",
     "start_time": "2023-04-21T08:40:19.197815Z"
    },
    "code_folding": [
     0
    ]
   },
   "outputs": [],
   "source": [
    "def __makeplot_eventmap(config, data1, data2):\n",
    "    \n",
    "\n",
    "    import pygmt\n",
    "    import pandas as pd\n",
    "\n",
    "    \n",
    "    # Set the region\n",
    "    region = [config['minlongitude'], config['maxlongitude'], config['minlatitude'], config['maxlatitude']]\n",
    "\n",
    "    resolution = \"30s\"\n",
    "\n",
    "    fig = pygmt.Figure()\n",
    "    \n",
    "#     fig.basemap(region=region, projection=\"M15c\", frame=True)\n",
    "\n",
    "\n",
    "    # make color pallets\n",
    "    cmap = pygmt.makecpt(cmap='etopo1', series='-7999/5000/1000', continuous=True)\n",
    "    \n",
    "    ## define etopo data file\n",
    "    topo_data = pygmt.datasets.load_earth_relief(resolution=resolution, region=region)\n",
    "    \n",
    "    ## adjust land and sea/lakes\n",
    "#     land = topo_data * pygmt.grdlandmask(region=region, \n",
    "#                                          spacing=resolution, \n",
    "#                                          maskvalues=[0, 1], \n",
    "#                                          resolution=\"f\"\n",
    "#                                         )\n",
    "    wet = topo_data * pygmt.grdlandmask(region=region, \n",
    "                                        spacing=resolution, \n",
    "                                        maskvalues=[1, \"NaN\"], \n",
    "                                        resolution=\"f\"\n",
    "                                       )\n",
    "    \n",
    "    ##plot high res topography\n",
    "    fig.grdimage(\n",
    "        grid=topo_data,\n",
    "        region=region,\n",
    "        projection='M5i',\n",
    "        shading=True,\n",
    "        cmap = cmap,\n",
    "        frame=True,\n",
    "        nan_transparent=True\n",
    "    )     \n",
    "\n",
    "\n",
    "#     cmap_wet = pygmt.makecpt(cmap='etopo1', series='-7999/5000/1000', continuous=True)\n",
    "\n",
    "    fig.grdimage(\n",
    "        grid=wet,\n",
    "        region=region,\n",
    "        projection='M5i',\n",
    "        shading=True,\n",
    "        cmap='seafloor',\n",
    "        frame=True,\n",
    "        nan_transparent=True\n",
    "    )\n",
    "    \n",
    "    \n",
    "    cmap = pygmt.makecpt(cmap='etopo1', series='-8000/5000/1000', continuous=True)    \n",
    "    fig.colorbar(cmap=cmap, position=\"g-118.8/31.45+w3c/0.3c+h\", box=\"+gwhite+c0.1+r\", \n",
    "                 frame=[\"x+lElevation\", r\"y+l(km)\"], scale=0.001, transparency=20)    \n",
    "\n",
    "\n",
    "    ## add coastlines\n",
    "    fig.coast(shorelines=True, borders=\"1/0.4p,black,solid\", frame=False)\n",
    "#     fig.coast(rivers=\"1/0.5p,blue\") # Rivers\n",
    "\n",
    "    \n",
    "    ## colorbar colormap\n",
    "    cmap_mag = pygmt.makecpt(cmap=\"viridis\", series=[data1.magnitude.min(), data1.magnitude.max()])\n",
    "#     cmap_mag = pygmt.makecpt(cmap=\"viridis\", series=[data1.timestamp.astype(str)[0], data1.timestamp.astype(str)[len(data1)-1]])\n",
    "    cmap_mag = pygmt.makecpt(cmap=\"viridis\", series=[data1.seconds.min(), data1.seconds.max()])\n",
    "\n",
    "#     cmap_depth = pygmt.makecpt(cmap=\"rainbow\", series=[data1.depth.min()/1000, data1.depth.max()/1000])\n",
    "    \n",
    "#     ## plot data coordinates\n",
    "    fig.plot(\n",
    "        x=data2.longitude,\n",
    "        y=data2.latitude,\n",
    "        size=0.04*2**data2.magnitude,\n",
    "        fill='grey',\n",
    "        style=\"cc\",\n",
    "        pen=\"0p,black\",\n",
    "    )    \n",
    "\n",
    "    fig.plot(\n",
    "        x=data1.longitude,\n",
    "        y=data1.latitude,\n",
    "        size=0.04\n",
    "        *2**data1.magnitude,\n",
    "#         fill=data1.depth/1000,\n",
    "        fill=data1.seconds,\n",
    "        cmap=True,\n",
    "        style=\"cc\",\n",
    "        pen=\"0.1p,black\",\n",
    "        transparency=50,        \n",
    "    )    \n",
    "\n",
    "    ## plot PFO\n",
    "    fig.plot(\n",
    "        x=config['BSPF_lon'],\n",
    "        y=config['BSPF_lat'],\n",
    "        size=np.array([0.3]),\n",
    "        fill=\"red\",\n",
    "        style=\"t0.5c\",\n",
    "        pen=\"black\",\n",
    "    )\n",
    "    \n",
    "    fig.text(\n",
    "        text=\"PFO\",\n",
    "        x=config['BSPF_lon'],\n",
    "        y=config['BSPF_lat'],\n",
    "        offset=[0.35],\n",
    "        font=\"9p,Helvetica-Bold,black\"\n",
    "    )\n",
    "    \n",
    "\n",
    "    ## add depth colorbar\n",
    "#     fig.colorbar(frame='af+l\"Depth (km)\"', cmap=cmap_depth)\n",
    "    fig.colorbar(frame='af+l\"Days\"', transparency=20, cmap=cmap_mag, \n",
    "                 position=\"JMR+o-2.2c/3.1c+w5c/0.5c+n+mc\", scale=1/86400, \n",
    "                 box=\"+gwhite+c0.1+r\")\n",
    "    \n",
    "    ## save figure to file\n",
    "    fig.savefig(config['outpath']+'tmp_event_map.png')\n",
    "\n",
    "    fig.show();\n",
    "    return fig"
   ]
  },
  {
   "cell_type": "code",
   "execution_count": 18,
   "id": "600ef1b6",
   "metadata": {
    "ExecuteTime": {
     "end_time": "2023-04-21T08:40:19.719410Z",
     "start_time": "2023-04-21T08:40:19.214989Z"
    }
   },
   "outputs": [
    {
     "ename": "GMTVersionError",
     "evalue": "Using an incompatible GMT version 6.1.1. Must be equal or newer than 6.2.0.",
     "output_type": "error",
     "traceback": [
      "\u001b[0;31m---------------------------------------------------------------------------\u001b[0m",
      "\u001b[0;31mGMTVersionError\u001b[0m                           Traceback (most recent call last)",
      "\u001b[0;32m/tmp/ipykernel_25585/544601918.py\u001b[0m in \u001b[0;36m<module>\u001b[0;34m\u001b[0m\n\u001b[0;32m----> 1\u001b[0;31m \u001b[0mfig\u001b[0m \u001b[0;34m=\u001b[0m \u001b[0m__makeplot_eventmap\u001b[0m\u001b[0;34m(\u001b[0m\u001b[0mconfig\u001b[0m\u001b[0;34m,\u001b[0m \u001b[0mcat_select_df\u001b[0m\u001b[0;34m,\u001b[0m \u001b[0mevents_all_df\u001b[0m\u001b[0;34m)\u001b[0m\u001b[0;34m\u001b[0m\u001b[0;34m\u001b[0m\u001b[0m\n\u001b[0m",
      "\u001b[0;32m/tmp/ipykernel_25585/4051396963.py\u001b[0m in \u001b[0;36m__makeplot_eventmap\u001b[0;34m(config, data1, data2)\u001b[0m\n\u001b[1;32m      2\u001b[0m \u001b[0;34m\u001b[0m\u001b[0m\n\u001b[1;32m      3\u001b[0m \u001b[0;34m\u001b[0m\u001b[0m\n\u001b[0;32m----> 4\u001b[0;31m     \u001b[0;32mimport\u001b[0m \u001b[0mpygmt\u001b[0m\u001b[0;34m\u001b[0m\u001b[0;34m\u001b[0m\u001b[0m\n\u001b[0m\u001b[1;32m      5\u001b[0m     \u001b[0;32mimport\u001b[0m \u001b[0mpandas\u001b[0m \u001b[0;32mas\u001b[0m \u001b[0mpd\u001b[0m\u001b[0;34m\u001b[0m\u001b[0;34m\u001b[0m\u001b[0m\n\u001b[1;32m      6\u001b[0m \u001b[0;34m\u001b[0m\u001b[0m\n",
      "\u001b[0;32m~/anaconda3/envs/obs/lib/python3.7/site-packages/pygmt/__init__.py\u001b[0m in \u001b[0;36m<module>\u001b[0;34m\u001b[0m\n\u001b[1;32m     55\u001b[0m \u001b[0;34m\u001b[0m\u001b[0m\n\u001b[1;32m     56\u001b[0m \u001b[0;31m# Start our global modern mode session\u001b[0m\u001b[0;34m\u001b[0m\u001b[0;34m\u001b[0m\u001b[0;34m\u001b[0m\u001b[0m\n\u001b[0;32m---> 57\u001b[0;31m \u001b[0m_begin\u001b[0m\u001b[0;34m(\u001b[0m\u001b[0;34m)\u001b[0m\u001b[0;34m\u001b[0m\u001b[0;34m\u001b[0m\u001b[0m\n\u001b[0m\u001b[1;32m     58\u001b[0m \u001b[0;31m# Tell Python to run _end when shutting down\u001b[0m\u001b[0;34m\u001b[0m\u001b[0;34m\u001b[0m\u001b[0;34m\u001b[0m\u001b[0m\n\u001b[1;32m     59\u001b[0m \u001b[0m_atexit\u001b[0m\u001b[0;34m.\u001b[0m\u001b[0mregister\u001b[0m\u001b[0;34m(\u001b[0m\u001b[0m_end\u001b[0m\u001b[0;34m)\u001b[0m\u001b[0;34m\u001b[0m\u001b[0;34m\u001b[0m\u001b[0m\n",
      "\u001b[0;32m~/anaconda3/envs/obs/lib/python3.7/site-packages/pygmt/session_management.py\u001b[0m in \u001b[0;36mbegin\u001b[0;34m()\u001b[0m\n\u001b[1;32m     14\u001b[0m     \"\"\"\n\u001b[1;32m     15\u001b[0m     \u001b[0mprefix\u001b[0m \u001b[0;34m=\u001b[0m \u001b[0;34m\"pygmt-session\"\u001b[0m\u001b[0;34m\u001b[0m\u001b[0;34m\u001b[0m\u001b[0m\n\u001b[0;32m---> 16\u001b[0;31m     \u001b[0;32mwith\u001b[0m \u001b[0mSession\u001b[0m\u001b[0;34m(\u001b[0m\u001b[0;34m)\u001b[0m \u001b[0;32mas\u001b[0m \u001b[0mlib\u001b[0m\u001b[0;34m:\u001b[0m\u001b[0;34m\u001b[0m\u001b[0;34m\u001b[0m\u001b[0m\n\u001b[0m\u001b[1;32m     17\u001b[0m         \u001b[0mlib\u001b[0m\u001b[0;34m.\u001b[0m\u001b[0mcall_module\u001b[0m\u001b[0;34m(\u001b[0m\u001b[0;34m\"begin\"\u001b[0m\u001b[0;34m,\u001b[0m \u001b[0mprefix\u001b[0m\u001b[0;34m)\u001b[0m\u001b[0;34m\u001b[0m\u001b[0;34m\u001b[0m\u001b[0m\n\u001b[1;32m     18\u001b[0m         \u001b[0;31m# pygmt relies on GMT modern mode with GMT_COMPATIBILITY at version 6\u001b[0m\u001b[0;34m\u001b[0m\u001b[0;34m\u001b[0m\u001b[0;34m\u001b[0m\u001b[0m\n",
      "\u001b[0;32m~/anaconda3/envs/obs/lib/python3.7/site-packages/pygmt/clib/session.py\u001b[0m in \u001b[0;36m__enter__\u001b[0;34m(self)\u001b[0m\n\u001b[1;32m    191\u001b[0m             raise GMTVersionError(\n\u001b[1;32m    192\u001b[0m                 \"Using an incompatible GMT version {}. Must be equal or newer than {}.\".format(\n\u001b[0;32m--> 193\u001b[0;31m                     \u001b[0mversion\u001b[0m\u001b[0;34m,\u001b[0m \u001b[0mself\u001b[0m\u001b[0;34m.\u001b[0m\u001b[0mrequired_version\u001b[0m\u001b[0;34m\u001b[0m\u001b[0;34m\u001b[0m\u001b[0m\n\u001b[0m\u001b[1;32m    194\u001b[0m                 )\n\u001b[1;32m    195\u001b[0m             )\n",
      "\u001b[0;31mGMTVersionError\u001b[0m: Using an incompatible GMT version 6.1.1. Must be equal or newer than 6.2.0."
     ]
    }
   ],
   "source": [
    "fig = __makeplot_eventmap(config, cat_select_df, events_all_df)"
   ]
  },
  {
   "cell_type": "code",
   "execution_count": null,
   "id": "d09f85f8",
   "metadata": {
    "ExecuteTime": {
     "end_time": "2023-04-21T08:40:19.723409Z",
     "start_time": "2023-04-21T08:40:19.723398Z"
    }
   },
   "outputs": [],
   "source": [
    "fig.savefig(config['out_figures']+\"map_triggered_extended.png\")"
   ]
  },
  {
   "cell_type": "markdown",
   "id": "5812b168",
   "metadata": {},
   "source": [
    "## Plot Histogram"
   ]
  },
  {
   "cell_type": "code",
   "execution_count": null,
   "id": "21991e06",
   "metadata": {
    "ExecuteTime": {
     "end_time": "2023-04-21T08:40:19.724567Z",
     "start_time": "2023-04-21T08:40:19.724558Z"
    },
    "code_folding": [
     0
    ]
   },
   "outputs": [],
   "source": [
    "def __makeplot_histogram(catalog_all_df, catalog_df):\n",
    "    \n",
    "    from sklearn.linear_model import LinearRegression\n",
    "    from numpy import log10, array, linspace\n",
    "\n",
    "\n",
    "    catalog_all_df = catalog_all_df.sort_values(\"magnitude\", ascending=False)\n",
    "    catalog_df = catalog_df.sort_values(\"magnitude\")    \n",
    "    \n",
    "    ## bins=11, range=[-0.75,4.75]\n",
    "#     hh_cum, bins_cum, _ = plt.hist(catalog_all_df.magnitude, bins=11, range=[-0.75,4.75], rwidth=0.9, color='#3776ab', cumulative=True)    \n",
    "#     plt.close()    \n",
    "#     bins_cum = [bins_cum[jj] + (abs(bins_cum[jj+1]-bins_cum[jj])/2) for jj in range(len(bins_cum)-1)]\n",
    "\n",
    "    ## compute bins catalog all\n",
    "    nn, bins = [], []\n",
    "    for i in range(-1, 7, 1):\n",
    "        nn.append(len(catalog_all_df[catalog_all_df.magnitude >= i]))\n",
    "        bins.append(i+0.5)\n",
    "\n",
    "    print(len(catalog_df), len(catalog_df[catalog_df.magnitude >= 4]))\n",
    "    ## compute bins catalog triggered\n",
    "    nn2, bins2 = [], []\n",
    "    for i in range(-1, 7, 1):\n",
    "        nn2.append(len(catalog_df[catalog_df.magnitude >= i]))\n",
    "        bins2.append(i+0.5)\n",
    "        \n",
    "        \n",
    "    x, y = array(bins)[2:-1], log10(nn[2:-1])\n",
    "\n",
    "    ## ________________________________\n",
    "    \n",
    "    fig, ax = plt.subplots(1, 1, figsize=(5,5))\n",
    "    \n",
    "    ## plot histograms catalog all\n",
    "    ax.bar(array(bins), nn, width=0.75, color='lightblue', zorder=2, alpha=0.8)\n",
    "    ax.bar(x, 10**y, width=0.75, zorder=2)\n",
    "    \n",
    "    ## plot histograms catalog triggered\n",
    "    ax.bar(array(bins2), nn2, width=0.5, color='darkorange', zorder=2, alpha=0.5)\n",
    "#     ax.bar(x2, 10**y2, width=0.75, zorder=2)\n",
    "         \n",
    "        \n",
    "        \n",
    "    ## linear regression\n",
    "    model = LinearRegression().fit(x.reshape((-1, 1)), y)\n",
    "    r_sq = model.score(x.reshape((-1, 1)), y)\n",
    "    x_axis = linspace(min(bins), max(bins), 50)\n",
    "    reg1 = model.intercept_ + model.coef_ * x_axis\n",
    "    \n",
    "    ax.plot(x_axis, 10**reg1, color=\"k\", ls=\"--\", label=f\"f(x)={round(model.coef_[0],2)}x+{round(model.intercept_,1)}\")\n",
    "\n",
    "    ## linear regression\n",
    "    x2, y2 = x[:-1], y[:-1]\n",
    "    model = LinearRegression().fit(x2.reshape((-1, 1)), y2)\n",
    "    r_sq = model.score(x2.reshape((-1, 1)), y2)\n",
    "    x_axis = linspace(min(bins), max(bins), 50)\n",
    "    reg2 = model.intercept_ + model.coef_ * x_axis\n",
    "    \n",
    "#     ax.plot(x_axis, 10**reg2, color=\"k\", ls=\":\", label=f\"f(x)={round(model.coef_[0],2)}x+{round(model.intercept_,1)}\")\n",
    "    \n",
    "    \n",
    "    ax.text(3.5, 9e3, f\"Total N = {len(catalog_all_df)}\", fontsize=13)\n",
    "    \n",
    "    days = str(events_all_df.index.max()-events_all_df.index.min()).split(\" \")[0]\n",
    "    ax.text(3.5, 4e3, f\"Days = {days}\", fontsize=13)\n",
    "    \n",
    "    ax.grid(zorder=-1, ls=\":\", alpha=0.7, which=\"both\")\n",
    "    \n",
    "    ax.legend(loc=\"upper right\", fontsize=12)\n",
    "    \n",
    "    ax.set_yscale(\"log\")\n",
    "    \n",
    "    ax.set_xlabel(\"Magnitude\", fontsize=18)\n",
    "    ax.set_ylabel(\"Number of Events\", fontsize=18)\n",
    "    \n",
    "    ax.tick_params(axis='x', labelsize=11)\n",
    "    ax.tick_params(axis='y', labelsize=11)\n",
    "    \n",
    "    ax.set_xticks(array(bins)-0.5)\n",
    "    \n",
    "    ax.set_title(f\"Gutenberg-Richter Relation\", fontsize=18)\n",
    "    \n",
    "    ax.tick_params(axis=\"y\", labelsize=15)\n",
    "    ax.tick_params(axis=\"x\", labelsize=15)\n",
    "    \n",
    "    ax.set_ylim(0.2e0, 1e5)\n",
    "    plt.show();\n",
    "    return fig"
   ]
  },
  {
   "cell_type": "code",
   "execution_count": null,
   "id": "4dffc526",
   "metadata": {
    "ExecuteTime": {
     "end_time": "2023-04-21T08:40:19.725115Z",
     "start_time": "2023-04-21T08:40:19.725105Z"
    }
   },
   "outputs": [],
   "source": [
    "fig = __makeplot_histogram(events_all_df, cat_select_df)\n",
    "\n",
    "fig.savefig(\"catalog_all_histo.png\")"
   ]
  },
  {
   "cell_type": "code",
   "execution_count": null,
   "id": "96eb0dc1",
   "metadata": {},
   "outputs": [],
   "source": []
  }
 ],
 "metadata": {
  "kernelspec": {
   "display_name": "Python 3 (ipykernel)",
   "language": "python",
   "name": "python3"
  },
  "language_info": {
   "codemirror_mode": {
    "name": "ipython",
    "version": 3
   },
   "file_extension": ".py",
   "mimetype": "text/x-python",
   "name": "python",
   "nbconvert_exporter": "python",
   "pygments_lexer": "ipython3",
   "version": "3.7.8"
  },
  "latex_envs": {
   "LaTeX_envs_menu_present": true,
   "autoclose": true,
   "autocomplete": true,
   "bibliofile": "biblio.bib",
   "cite_by": "apalike",
   "current_citInitial": 1,
   "eqLabelWithNumbers": true,
   "eqNumInitial": 1,
   "hotkeys": {
    "equation": "Ctrl-E",
    "itemize": "Ctrl-I"
   },
   "labels_anchors": false,
   "latex_user_defs": false,
   "report_style_numbering": false,
   "user_envs_cfg": false
  },
  "toc": {
   "base_numbering": 1,
   "nav_menu": {},
   "number_sections": true,
   "sideBar": true,
   "skip_h1_title": false,
   "title_cell": "Table of Contents",
   "title_sidebar": "Contents",
   "toc_cell": false,
   "toc_position": {},
   "toc_section_display": true,
   "toc_window_display": false
  },
  "varInspector": {
   "cols": {
    "lenName": 16,
    "lenType": 16,
    "lenVar": 40
   },
   "kernels_config": {
    "python": {
     "delete_cmd_postfix": "",
     "delete_cmd_prefix": "del ",
     "library": "var_list.py",
     "varRefreshCmd": "print(var_dic_list())"
    },
    "r": {
     "delete_cmd_postfix": ") ",
     "delete_cmd_prefix": "rm(",
     "library": "var_list.r",
     "varRefreshCmd": "cat(var_dic_list()) "
    }
   },
   "types_to_exclude": [
    "module",
    "function",
    "builtin_function_or_method",
    "instance",
    "_Feature"
   ],
   "window_display": false
  }
 },
 "nbformat": 4,
 "nbformat_minor": 5
}
