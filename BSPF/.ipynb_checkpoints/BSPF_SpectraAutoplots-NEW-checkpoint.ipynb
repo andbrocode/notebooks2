{
 "cells": [
  {
   "cell_type": "markdown",
   "id": "eda030d3",
   "metadata": {},
   "source": [
    "# Analyse Rotation Spectra - Hourly PSDS - autoplots"
   ]
  },
  {
   "cell_type": "markdown",
   "id": "protected-presentation",
   "metadata": {},
   "source": [
    "## Load Libraries"
   ]
  },
  {
   "cell_type": "code",
   "execution_count": 1,
   "id": "behind-arrangement",
   "metadata": {
    "ExecuteTime": {
     "end_time": "2023-07-03T18:39:02.669120Z",
     "start_time": "2023-07-03T18:39:01.162510Z"
    }
   },
   "outputs": [],
   "source": [
    "from andbro__querrySeismoData import __querrySeismoData\n",
    "\n",
    "from obspy import UTCDateTime\n",
    "from scipy.signal import welch\n",
    "from numpy import log10, zeros, pi, append, linspace, mean, median, array, where, transpose, shape, histogram, arange\n",
    "from numpy import logspace, linspace, log, log10, isinf, ones, nan, count_nonzero, sqrt, isnan\n",
    "from pandas import DataFrame, concat, Series, date_range, read_csv, read_pickle\n",
    "from tqdm import tqdm_notebook\n",
    "from pathlib import Path\n",
    "from scipy.stats import median_absolute_deviation as mad\n",
    "from andbro__savefig import __savefig\n",
    "\n",
    "import os\n",
    "import pickle\n",
    "import matplotlib.pyplot as plt"
   ]
  },
  {
   "cell_type": "code",
   "execution_count": 2,
   "id": "e4858b93",
   "metadata": {
    "ExecuteTime": {
     "end_time": "2023-07-03T18:39:02.681319Z",
     "start_time": "2023-07-03T18:39:02.676713Z"
    },
    "code_folding": [
     0
    ]
   },
   "outputs": [],
   "source": [
    "def __get_minimal_psd(psds):\n",
    "\n",
    "    from numpy import nanmin, array, nonzero\n",
    "    \n",
    "    min_psd = zeros(psds.shape[1])\n",
    "    \n",
    "    for f in range(psds.shape[1]):\n",
    "        a = psds[:,f]\n",
    "        min_psd[f] = nanmin(a[nonzero(a)])\n",
    "    \n",
    "    return min_psd"
   ]
  },
  {
   "cell_type": "code",
   "execution_count": 3,
   "id": "396e24f9",
   "metadata": {
    "ExecuteTime": {
     "end_time": "2023-07-03T18:39:02.698671Z",
     "start_time": "2023-07-03T18:39:02.692741Z"
    },
    "code_folding": [
     0
    ]
   },
   "outputs": [],
   "source": [
    "def __get_median_psd(psds):\n",
    "\n",
    "    from numpy import median, zeros, isnan\n",
    "\n",
    "    med_psd = zeros(psds.shape[1])\n",
    "\n",
    "    for f in range(psds.shape[1]):\n",
    "        a = psds[:,f]\n",
    "        med_psd[f] = median(a[~isnan(a)])\n",
    "\n",
    "    return med_psd"
   ]
  },
  {
   "cell_type": "code",
   "execution_count": 4,
   "id": "af6a3772",
   "metadata": {
    "ExecuteTime": {
     "end_time": "2023-07-03T18:39:02.709343Z",
     "start_time": "2023-07-03T18:39:02.706782Z"
    },
    "code_folding": [
     0
    ]
   },
   "outputs": [],
   "source": [
    "# def __get_minimum_psd(psds, f_tmp):\n",
    "    \n",
    "#     from numpy import median\n",
    "    \n",
    "#     f_before = f_tmp[0]\n",
    "#     f_tmp[0] = 1e-9\n",
    "    \n",
    "#     for i, psd in enumerate(psds):\n",
    "#         if i == 0: \n",
    "#             lowest_value = (psd/f_tmp).sum()\n",
    "#             idx = 0\n",
    "\n",
    "#         value = (psd/f_tmp).sum() \n",
    "        \n",
    "#         if value < lowest_value and value != 0:\n",
    "#             lowest_value = value\n",
    "#             idx = i\n",
    "\n",
    "#     f_tmp[0] = f_before      \n",
    "    \n",
    "#     return psds[idx]"
   ]
  },
  {
   "cell_type": "code",
   "execution_count": 5,
   "id": "c4ec90e8",
   "metadata": {
    "ExecuteTime": {
     "end_time": "2023-07-03T18:39:02.722250Z",
     "start_time": "2023-07-03T18:39:02.717313Z"
    },
    "code_folding": [
     0
    ]
   },
   "outputs": [],
   "source": [
    "def __get_minimum_psd(psds, f_tmp):\n",
    "            \n",
    "    for i, psd in enumerate(psds):\n",
    "        if i == 0: \n",
    "            lowest_value = psd.sum()\n",
    "            idx = 0\n",
    "\n",
    "        value = psd.sum() \n",
    "        \n",
    "        if value < lowest_value and value != 0:\n",
    "            lowest_value = value\n",
    "            idx = i   \n",
    "    \n",
    "    return psds[idx]"
   ]
  },
  {
   "cell_type": "code",
   "execution_count": 6,
   "id": "db70e8d4",
   "metadata": {
    "ExecuteTime": {
     "end_time": "2023-07-03T18:39:02.827885Z",
     "start_time": "2023-07-03T18:39:02.825654Z"
    },
    "code_folding": [
     0
    ]
   },
   "outputs": [],
   "source": [
    "# def __get_lowest_rms(psds, f_tmp):\n",
    "    \n",
    "#     from numpy import median\n",
    "    \n",
    "#     for i, psd in enumerate(psds):\n",
    "#         if i == 0: \n",
    "#             lowest_value = (psd/f_tmp).sum()\n",
    "#             idx = 0\n",
    "\n",
    "#         value = (psd/f_tmp).sum() \n",
    "        \n",
    "#         if value < lowest_value and value != 0:\n",
    "#             lowest_value = value\n",
    "#             idx = i\n",
    "\n",
    "#     f_tmp[0] = f_before      \n",
    "    \n",
    "#     return psds[idx]\n"
   ]
  },
  {
   "cell_type": "code",
   "execution_count": 7,
   "id": "d4ffd698",
   "metadata": {
    "ExecuteTime": {
     "end_time": "2023-07-03T18:39:03.071320Z",
     "start_time": "2023-07-03T18:39:03.066154Z"
    },
    "code_folding": [
     0
    ]
   },
   "outputs": [],
   "source": [
    "def __get_array_from_dataframe(df):\n",
    "    \n",
    "    from pandas import to_numeric\n",
    "    \n",
    "    ## convert to list\n",
    "    psds = []\n",
    "    for col in array(df.columns):\n",
    "        \n",
    "        ## turn non-float series to float objects\n",
    "        df[col] = to_numeric(df[col], errors = 'coerce')\n",
    "\n",
    "        ## add to psds list\n",
    "        psds.append(array(df[col]))\n",
    "\n",
    "    return array(psds)"
   ]
  },
  {
   "cell_type": "code",
   "execution_count": 8,
   "id": "a5a3e0e2",
   "metadata": {
    "ExecuteTime": {
     "end_time": "2023-07-03T18:39:03.262359Z",
     "start_time": "2023-07-03T18:39:03.258354Z"
    }
   },
   "outputs": [],
   "source": [
    "if os.uname().nodename == \"lighthouse\":\n",
    "    root_path = \"/home/andbro/kilauea-data/\"\n",
    "elif os.uname().nodename == \"kilauea\":\n",
    "    root_path = \"/import/kilauea-data/\""
   ]
  },
  {
   "cell_type": "markdown",
   "id": "subject-expression",
   "metadata": {},
   "source": [
    "## Configurations"
   ]
  },
  {
   "cell_type": "code",
   "execution_count": 9,
   "id": "e89d22a7",
   "metadata": {
    "ExecuteTime": {
     "end_time": "2023-07-03T18:39:04.343203Z",
     "start_time": "2023-07-03T18:39:04.075987Z"
    }
   },
   "outputs": [],
   "source": [
    "## ---------------------------------------\n",
    "\n",
    "name = \"BSPF\"\n",
    "inname = \"2022_BSPF_Z_3600\"\n",
    "subdir = \"BSPF_2022_Z/\"\n",
    "threshold = 8e-10\n",
    "period_limits = 1/50, 60\n",
    "\n",
    "## ---------------------------------------\n",
    "\n",
    "path = f\"{root_path}BSPF/data/\"\n",
    "\n",
    "## load configurations\n",
    "config = pickle.load(open(path+subdir+inname+\"_config.pkl\", 'rb'))\n",
    "\n",
    "config['inname'] = inname\n",
    "config['inpath'] = path+subdir\n",
    "config['period_limits'] = period_limits\n",
    "config['thres'] = threshold\n",
    "config['station'] = name\n",
    "\n",
    "config['outpath_figures'] = f\"{root_path}/BSPF/figures_colorlines/\"\n",
    "\n",
    "config['frequency_limits'] = [1/config['period_limits'][1], 1/config['period_limits'][0]]\n",
    "\n",
    "config['rlnm_model_path'] = f\"{root_path}LNM/data/MODELS/\"\n"
   ]
  },
  {
   "cell_type": "markdown",
   "id": "natural-beginning",
   "metadata": {},
   "source": [
    "## Methods"
   ]
  },
  {
   "cell_type": "code",
   "execution_count": 10,
   "id": "2c7e6e98",
   "metadata": {
    "ExecuteTime": {
     "end_time": "2023-07-03T18:39:05.193008Z",
     "start_time": "2023-07-03T18:39:04.980245Z"
    }
   },
   "outputs": [],
   "source": [
    "## theoretical rlnm\n",
    "rlnm = read_csv(config['rlnm_model_path']+\"rlnm_theory.csv\")"
   ]
  },
  {
   "cell_type": "code",
   "execution_count": 11,
   "id": "e8453ee6",
   "metadata": {
    "ExecuteTime": {
     "end_time": "2023-07-03T18:39:05.799824Z",
     "start_time": "2023-07-03T18:39:05.793405Z"
    },
    "code_folding": [
     0
    ]
   },
   "outputs": [],
   "source": [
    "def __filter_psds(psds, thresholds):\n",
    "    \n",
    "    from numpy import mean, array\n",
    "    \n",
    "    psds_filtered = []\n",
    "        ## filter mean psds values\n",
    "#         m_psd = mean(psd)\n",
    "#         if m_psd > thresholds[0] and m_psd < thresholds[1]:\n",
    "#             psds_filtered.append(psd)\n",
    "\n",
    "    ## filter for periods larger than 20 seconds\n",
    "    if mean(psd[0:63]) < thresholds[0]:\n",
    "        psds_filtered.append(psd)\n",
    "\n",
    "    print(f\" -> removed {len(psds)- len(psds_filtered)} of {len(psds)} psds due to thresholds: {thresholds[0]} & {thresholds[1]}\")\n",
    "    return array(psds_filtered)"
   ]
  },
  {
   "cell_type": "code",
   "execution_count": 12,
   "id": "b42d3dc5",
   "metadata": {
    "ExecuteTime": {
     "end_time": "2023-07-03T18:39:06.015499Z",
     "start_time": "2023-07-03T18:39:06.010325Z"
    },
    "code_folding": [
     0
    ]
   },
   "outputs": [],
   "source": [
    "def __load_data_file(path, file):\n",
    "    \n",
    "    from tqdm.notebook import tqdm\n",
    "    from numpy import array\n",
    "    \n",
    "    psds_all = []\n",
    "    psds_hourly = read_pickle(path+file)\n",
    "    \n",
    "    for psd in psds_hourly:\n",
    "        psds_all.append(psd)\n",
    "        \n",
    "    return array(psds_all)"
   ]
  },
  {
   "cell_type": "code",
   "execution_count": 13,
   "id": "f9df50f3",
   "metadata": {
    "ExecuteTime": {
     "end_time": "2023-07-03T18:39:06.185193Z",
     "start_time": "2023-07-03T18:39:06.178465Z"
    },
    "code_folding": [
     0
    ]
   },
   "outputs": [],
   "source": [
    "def __cut_frequencies_array(arr, freqs, fmin, fmax):\n",
    "\n",
    "    ind = []\n",
    "    for i, f in enumerate(freqs):\n",
    "        if f >= fmin and f <= fmax:\n",
    "            ind.append(i)\n",
    "\n",
    "    ff = freqs[ind[0]:ind[-1]]\n",
    "    pp = arr[:,ind[0]:ind[-1]]\n",
    "    \n",
    "    return pp, ff "
   ]
  },
  {
   "cell_type": "code",
   "execution_count": 14,
   "id": "cf7921ed",
   "metadata": {
    "ExecuteTime": {
     "end_time": "2023-07-03T18:39:06.356704Z",
     "start_time": "2023-07-03T18:39:06.346652Z"
    },
    "code_folding": [
     0
    ]
   },
   "outputs": [],
   "source": [
    "def __remove_noisy_psds(arr, threshold_mean=1e-16):\n",
    "\n",
    "    from numpy import delete, shape, sort, array\n",
    "    \n",
    "    l1 = shape(arr)[0]\n",
    "\n",
    "    idx_to_remove = []\n",
    "    rejected = []\n",
    "    for ii in range(shape(arr)[0]):\n",
    "        \n",
    "        ## appy upper threshold\n",
    "        if arr[ii,:].mean() > threshold_mean:\n",
    "            rejected.append(arr[ii,:])\n",
    "            idx_to_remove.append(ii)\n",
    "            \n",
    "        ## apply default lowe threshold\n",
    "        if arr[ii,:].mean() < 1e-26:\n",
    "            rejected.append(arr[ii,:])\n",
    "            idx_to_remove.append(ii)\n",
    "            \n",
    "    for jj in sort(array(idx_to_remove))[::-1]:\n",
    "        arr = delete(arr, jj, axis=0)  \n",
    "        \n",
    "    l2 = shape(arr)[0]\n",
    "    \n",
    "    print(f\" -> removed {l1-l2} rows due to mean thresholds!\")\n",
    "    print(f\" -> {l2} psds remain\")\n",
    "    \n",
    "    return arr, rejected"
   ]
  },
  {
   "cell_type": "code",
   "execution_count": 15,
   "id": "cd183d87",
   "metadata": {
    "ExecuteTime": {
     "end_time": "2023-07-03T18:39:06.522943Z",
     "start_time": "2023-07-03T18:39:06.506974Z"
    },
    "code_folding": [
     0
    ]
   },
   "outputs": [],
   "source": [
    "def __makeplot_colorlines_overview(config, ff, psds, rejected, day):\n",
    "\n",
    "    from tqdm.notebook import tqdm\n",
    "    from numpy import isnan, median, mean, std, array, zeros\n",
    "    from scipy.stats import median_abs_deviation as mad\n",
    "    \n",
    "#     psds_median = __get_median_psd(array(psds))\n",
    "#     psds_minimal = __get_minimal_psd(array(psds))\n",
    "#     psds_minimum = __get_minimum_psd(array(psds), ff)\n",
    "\n",
    "\n",
    "    ## convert frequencies to periods\n",
    "    pp=[]\n",
    "    for mm in range(len(ff)):\n",
    "        ppp = zeros(len(ff[mm]))\n",
    "        ppp = 1/ff[mm]\n",
    "        pp.append(ppp)\n",
    "        \n",
    "        \n",
    "    ##____________________________\n",
    "    \n",
    "    NN = 3\n",
    "    \n",
    "    fig, axes = plt.subplots(NN,1, figsize=(10,10), sharey=False, sharex=True)\n",
    "\n",
    "    plt.subplots_adjust(hspace=0.1)\n",
    "    \n",
    "    font = 14\n",
    "\n",
    "#     N = max(psds[0].shape[0], psds[1].shape[0], psds[2].shape[0])\n",
    "#     colors = plt.cm.rainbow(linspace(0, 1, N))\n",
    "\n",
    "    N =24\n",
    "    colors = plt.cm.rainbow(linspace(0,1,N))\n",
    "    cmap = plt.get_cmap('rainbow', 24)\n",
    "    \n",
    "    \n",
    "    ## add Frequency Axis\n",
    "#     g = lambda x: 1/x\n",
    "#     ax2 = axes[0].secondary_xaxis(\"top\", functions=(g,g))\n",
    "#     ax2.set_xlabel(\"  Frequency (Hz)\", fontsize=font, labelpad=-1)\n",
    "#     ax2.set_xticklabels(ff[2], fontsize=11)    \n",
    "#     ax2.tick_params(axis='both', labelsize=font-2)\n",
    "    \n",
    "    \n",
    "    for j in range(NN):\n",
    "        for n, psd in enumerate(tqdm(psds[j])):\n",
    "            axes[j].loglog(pp[j], psd, color=colors[n], alpha=0.7)\n",
    "#             p2 = axes[j].scatter(pp[j][0], psd[0], s=0., c=n, cmap='rainbow', vmin=0, vmax=N)\n",
    "            p2 = axes[j].scatter(pp[j][0], psd[0], s=0., c=n/N, cmap=cmap, vmin=0, vmax=N)\n",
    "        \n",
    "#         for reject in rejected[j]:\n",
    "#              axes[j].loglog(pp[j],reject, color='grey', alpha=0.6, zorder=1)\n",
    "                \n",
    "#         axes[j].loglog(pp[j], __get_minimum_psd(psds[j], ff[j]), 'grey', zorder=3, alpha=0.9, label=\"Minimum\")\n",
    "        axes[j].loglog(pp[j], __get_median_psd(psds[j]), 'black', zorder=3, alpha=0.6, label=\"Median\")\n",
    "        \n",
    "#         axes[j].loglog(rlnm['period'], rlnm['rlnm_psd_median'], color=\"black\", zorder=2, ls=\"--\", lw=2)\n",
    "        \n",
    "        axes[j].grid(True, which=\"both\", ls=\"-\", alpha=0.5)\n",
    "        axes[j].legend(loc='lower left')\n",
    "        axes[j].tick_params(labelsize=font-2)\n",
    "        \n",
    "#         axes[j].text(6, 2e-24, \"RLNM\", fontsize=font, rotation=-30)\n",
    "        \n",
    "#         xmin, xmax = config['period_limits'][0]-0.1*config['period_limits'][0], config['period_limits'][1]+0.05*config['period_limits'][1]\n",
    "#         axes[j].set_xlim(xmin, xmax)\n",
    "#         axes[j].set_ylim(bottom=8e-27)\n",
    "\n",
    "#         axes[j].loglog([xmin, xmax], [config['thres'],config['thres']], color='grey')\n",
    "\n",
    "\n",
    "        \n",
    "    axes[NN-1].set_xlabel(\"  Period (s)\", fontsize=font, labelpad=-1)\n",
    "\n",
    "    ## panel labels\n",
    "    axes[0].text(.01, .99, 'a)', ha='left', va='top', transform=axes[0].transAxes, fontsize=font+2)\n",
    "    axes[1].text(.01, .99, 'b)', ha='left', va='top', transform=axes[1].transAxes, fontsize=font+2)\n",
    "    axes[2].text(.01, .99, 'c)', ha='left', va='top', transform=axes[2].transAxes, fontsize=font+2)\n",
    "    \n",
    "    \n",
    "    axes[0].set_ylabel(r\"PSD$_{vertical}$ (rad$^2$/s$^2$/$Hz)$\", fontsize=font)\n",
    "    axes[1].set_ylabel(r\"PSD$_{north}$ (rad$^2$/s$^2$/$Hz)$\", fontsize=font)\n",
    "    axes[2].set_ylabel(r\"PSD$_{east}$ (rad$^2$/s$^2$/$Hz)$\", fontsize=font)\n",
    "    \n",
    "    ## set colorbar at bottom\n",
    "    cbar = fig.colorbar(p2, orientation='vertical', ax=axes.ravel().tolist(), aspect=50, pad=-1e-5,\n",
    "                       ticks=arange(1,N,2))\n",
    "\n",
    "\n",
    "    plt.show();    \n",
    "    return fig"
   ]
  },
  {
   "cell_type": "markdown",
   "id": "3cff2634",
   "metadata": {},
   "source": [
    "## RUN for all files "
   ]
  },
  {
   "cell_type": "code",
   "execution_count": 16,
   "id": "669bbd98",
   "metadata": {
    "ExecuteTime": {
     "end_time": "2023-07-03T18:39:13.536390Z",
     "start_time": "2023-07-03T18:39:07.409789Z"
    }
   },
   "outputs": [
    {
     "name": "stdout",
     "output_type": "stream",
     "text": [
      "2023_PFOIX_Z_3600_20230401_hourly.pkl\n",
      " -> removed 3 rows due to mean thresholds!\n",
      " -> 0 psds remain\n",
      " -> removed 3 rows due to mean thresholds!\n",
      " -> 0 psds remain\n",
      " -> removed 3 rows due to mean thresholds!\n",
      " -> 0 psds remain\n"
     ]
    },
    {
     "data": {
      "application/vnd.jupyter.widget-view+json": {
       "model_id": "0d218742340e4f8b95b0d336a0dc6744",
       "version_major": 2,
       "version_minor": 0
      },
      "text/plain": [
       "HBox(children=(HTML(value=''), FloatProgress(value=1.0, bar_style='info', layout=Layout(width='20px'), max=1.0…"
      ]
     },
     "metadata": {},
     "output_type": "display_data"
    },
    {
     "name": "stdout",
     "output_type": "stream",
     "text": [
      "\n"
     ]
    },
    {
     "name": "stderr",
     "output_type": "stream",
     "text": [
      "/home/andbro/anaconda3/envs/obs/lib/python3.7/site-packages/numpy/core/fromnumeric.py:3441: RuntimeWarning: Mean of empty slice.\n",
      "  out=out, **kwargs)\n",
      "/home/andbro/anaconda3/envs/obs/lib/python3.7/site-packages/numpy/core/_methods.py:189: RuntimeWarning: invalid value encountered in double_scalars\n",
      "  ret = ret.dtype.type(ret / rcount)\n"
     ]
    },
    {
     "data": {
      "application/vnd.jupyter.widget-view+json": {
       "model_id": "08f5ee4d84974a80bbee9c6ed9d02a4b",
       "version_major": 2,
       "version_minor": 0
      },
      "text/plain": [
       "HBox(children=(HTML(value=''), FloatProgress(value=1.0, bar_style='info', layout=Layout(width='20px'), max=1.0…"
      ]
     },
     "metadata": {},
     "output_type": "display_data"
    },
    {
     "name": "stdout",
     "output_type": "stream",
     "text": [
      "\n"
     ]
    },
    {
     "data": {
      "application/vnd.jupyter.widget-view+json": {
       "model_id": "15354915ef234ed0b9f81e771be14337",
       "version_major": 2,
       "version_minor": 0
      },
      "text/plain": [
       "HBox(children=(HTML(value=''), FloatProgress(value=1.0, bar_style='info', layout=Layout(width='20px'), max=1.0…"
      ]
     },
     "metadata": {},
     "output_type": "display_data"
    },
    {
     "name": "stdout",
     "output_type": "stream",
     "text": [
      "\n"
     ]
    },
    {
     "ename": "UnboundLocalError",
     "evalue": "local variable 'p2' referenced before assignment",
     "output_type": "error",
     "traceback": [
      "\u001b[0;31m---------------------------------------------------------------------------\u001b[0m",
      "\u001b[0;31mUnboundLocalError\u001b[0m                         Traceback (most recent call last)",
      "\u001b[0;32m/tmp/ipykernel_223125/1644764414.py\u001b[0m in \u001b[0;36m<module>\u001b[0;34m\u001b[0m\n\u001b[1;32m     36\u001b[0m                                          \u001b[0;34m[\u001b[0m\u001b[0mADR_Z\u001b[0m\u001b[0;34m,\u001b[0m \u001b[0mADR_N\u001b[0m\u001b[0;34m,\u001b[0m \u001b[0mADR_E\u001b[0m\u001b[0;34m]\u001b[0m\u001b[0;34m,\u001b[0m\u001b[0;34m\u001b[0m\u001b[0;34m\u001b[0m\u001b[0m\n\u001b[1;32m     37\u001b[0m                                          \u001b[0;34m[\u001b[0m\u001b[0mrejected_Z\u001b[0m\u001b[0;34m,\u001b[0m \u001b[0mrejected_N\u001b[0m\u001b[0;34m,\u001b[0m \u001b[0mrejected_E\u001b[0m\u001b[0;34m]\u001b[0m\u001b[0;34m,\u001b[0m\u001b[0;34m\u001b[0m\u001b[0;34m\u001b[0m\u001b[0m\n\u001b[0;32m---> 38\u001b[0;31m                                          day)\n\u001b[0m\u001b[1;32m     39\u001b[0m \u001b[0;34m\u001b[0m\u001b[0m\n\u001b[1;32m     40\u001b[0m \u001b[0;34m\u001b[0m\u001b[0m\n",
      "\u001b[0;32m/tmp/ipykernel_223125/3786613520.py\u001b[0m in \u001b[0;36m__makeplot_colorlines_overview\u001b[0;34m(config, ff, psds, rejected, day)\u001b[0m\n\u001b[1;32m     85\u001b[0m \u001b[0;34m\u001b[0m\u001b[0m\n\u001b[1;32m     86\u001b[0m     \u001b[0;31m## set colorbar at bottom\u001b[0m\u001b[0;34m\u001b[0m\u001b[0;34m\u001b[0m\u001b[0;34m\u001b[0m\u001b[0m\n\u001b[0;32m---> 87\u001b[0;31m     cbar = fig.colorbar(p2, orientation='vertical', ax=axes.ravel().tolist(), aspect=50, pad=-1e-5,\n\u001b[0m\u001b[1;32m     88\u001b[0m                        ticks=arange(1,N,2))\n\u001b[1;32m     89\u001b[0m \u001b[0;34m\u001b[0m\u001b[0m\n",
      "\u001b[0;31mUnboundLocalError\u001b[0m: local variable 'p2' referenced before assignment"
     ]
    },
    {
     "data": {
      "image/png": "[encoded data removed]",
      "text/plain": [
       "<Figure size 1000x1000 with 3 Axes>"
      ]
     },
     "metadata": {},
     "output_type": "display_data"
    }
   ],
   "source": [
    "config['files'] = [file for file in os.listdir(config['inpath']) if \"hourly\" in file]\n",
    "config['files'].sort()\n",
    "\n",
    "\n",
    "psds_medians_out, times_out = [],[]\n",
    "\n",
    "for file in config['files']:\n",
    "\n",
    "    print(file)\n",
    "    \n",
    "    day = file.split(\"_\")[-2]\n",
    "    \n",
    "    config['outpath_figname'] = config['station']+\"_\"+day\n",
    "    \n",
    "    if os.path.isfile(config['outpath_figures']+config['outpath_figname']):\n",
    "        continue\n",
    "\n",
    "    ff_Z = pickle.load(open(f\"{config['inpath'].replace('Z','Z')}{config['inname'].replace('Z','Z')}_frequency_axis.pkl\", 'rb'))\n",
    "    ff_N = pickle.load(open(f\"{config['inpath'].replace('Z','N')}{config['inname'].replace('Z','N')}_frequency_axis.pkl\", 'rb'))\n",
    "    ff_E = pickle.load(open(f\"{config['inpath'].replace('Z','E')}{config['inname'].replace('Z','E')}_frequency_axis.pkl\", 'rb'))\n",
    "        \n",
    "    ADR_Z = __load_data_file(config['inpath'].replace(\"Z\",\"Z\"), file.replace(\"Z\",\"Z\"))        \n",
    "    ADR_N = __load_data_file(config['inpath'].replace(\"Z\",\"N\"), file.replace(\"Z\",\"N\"))        \n",
    "    ADR_E = __load_data_file(config['inpath'].replace(\"Z\",\"E\"), file.replace(\"Z\",\"E\"))        \n",
    "\n",
    "    ADR_N, ff_N = __cut_frequencies_array(ADR_N, ff_N, config['frequency_limits'][0], config['frequency_limits'][1])\n",
    "    ADR_E, ff_E = __cut_frequencies_array(ADR_E, ff_E, config['frequency_limits'][0], config['frequency_limits'][1])\n",
    "    ADR_Z, ff_Z = __cut_frequencies_array(ADR_Z, ff_Z, config['frequency_limits'][0], config['frequency_limits'][1])\n",
    "    \n",
    "    ADR_N, rejected_N = __remove_noisy_psds(ADR_N, threshold_mean=config['thres'])\n",
    "    ADR_E, rejected_E = __remove_noisy_psds(ADR_E, threshold_mean=config['thres'])\n",
    "    ADR_Z, rejected_Z = __remove_noisy_psds(ADR_Z, threshold_mean=config['thres'])\n",
    "    \n",
    "    fig = __makeplot_colorlines_overview(config, \n",
    "                                         [ff_Z, ff_N, ff_E], \n",
    "                                         [ADR_Z, ADR_N, ADR_E], \n",
    "                                         [rejected_Z, rejected_N, rejected_E],\n",
    "                                         day)\n",
    "    \n",
    "\n",
    "#     fig.savefig(config['outpath_figures']+config['outpath_figname'], format=\"png\", transparent=False)\n",
    "    __savefig(fig, outpath=config['outpath_figures'], outname=config['outpath_figname'], mode=\"png\", dpi=300)   \n",
    "\n",
    "    ## output data\n",
    "#     psds_medians_out.append(psds_median)\n",
    "#     times_out.append(time)\n",
    "    \n",
    "# ## write output\n",
    "# output = {\"times\": array(times_out).astype(int), \"frequencies\": array(ff), \"psds_medians\": array(psds_medians_out)}\n",
    "\n",
    "# with open(f\"{config['inpath']}{config['inname']}_psds_filtered_medians.pkl\", 'wb') as file:\n",
    "#     pickle.dump(output, file, protocol=pickle.HIGHEST_PROTOCOL)\n"
   ]
  },
  {
   "cell_type": "code",
   "execution_count": null,
   "id": "97669ddb",
   "metadata": {},
   "outputs": [],
   "source": []
  }
 ],
 "metadata": {
  "kernelspec": {
   "display_name": "Python 3 (ipykernel)",
   "language": "python",
   "name": "python3"
  },
  "language_info": {
   "codemirror_mode": {
    "name": "ipython",
    "version": 3
   },
   "file_extension": ".py",
   "mimetype": "text/x-python",
   "name": "python",
   "nbconvert_exporter": "python",
   "pygments_lexer": "ipython3",
   "version": "3.7.8"
  },
  "latex_envs": {
   "LaTeX_envs_menu_present": true,
   "autoclose": false,
   "autocomplete": true,
   "bibliofile": "biblio.bib",
   "cite_by": "apalike",
   "current_citInitial": 1,
   "eqLabelWithNumbers": true,
   "eqNumInitial": 1,
   "hotkeys": {
    "equation": "Ctrl-E",
    "itemize": "Ctrl-I"
   },
   "labels_anchors": false,
   "latex_user_defs": false,
   "report_style_numbering": false,
   "user_envs_cfg": false
  },
  "toc": {
   "base_numbering": 1,
   "nav_menu": {},
   "number_sections": true,
   "sideBar": true,
   "skip_h1_title": false,
   "title_cell": "Table of Contents",
   "title_sidebar": "Contents",
   "toc_cell": false,
   "toc_position": {},
   "toc_section_display": true,
   "toc_window_display": false
  },
  "varInspector": {
   "cols": {
    "lenName": 16,
    "lenType": 16,
    "lenVar": 40
   },
   "kernels_config": {
    "python": {
     "delete_cmd_postfix": "",
     "delete_cmd_prefix": "del ",
     "library": "var_list.py",
     "varRefreshCmd": "print(var_dic_list())"
    },
    "r": {
     "delete_cmd_postfix": ") ",
     "delete_cmd_prefix": "rm(",
     "library": "var_list.r",
     "varRefreshCmd": "cat(var_dic_list()) "
    }
   },
   "types_to_exclude": [
    "module",
    "function",
    "builtin_function_or_method",
    "instance",
    "_Feature"
   ],
   "window_display": false
  }
 },
 "nbformat": 4,
 "nbformat_minor": 5
}
