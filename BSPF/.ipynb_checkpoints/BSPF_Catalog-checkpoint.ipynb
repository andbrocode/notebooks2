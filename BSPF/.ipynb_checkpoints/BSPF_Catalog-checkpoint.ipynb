{
 "cells": [
  {
   "cell_type": "markdown",
   "id": "50ff4166",
   "metadata": {},
   "source": [
    "# Analyse BlueSeis BSPF Events"
   ]
  },
  {
   "cell_type": "markdown",
   "id": "731dbdb2",
   "metadata": {},
   "source": [
    "With pressure sensor parascientific and new sensor "
   ]
  },
  {
   "cell_type": "code",
   "execution_count": 29,
   "id": "ef8dd15a",
   "metadata": {
    "ExecuteTime": {
     "end_time": "2023-01-13T18:35:40.010985Z",
     "start_time": "2023-01-13T18:35:40.006659Z"
    }
   },
   "outputs": [],
   "source": [
    "import os \n",
    "import obspy as obs\n",
    "import matplotlib.pyplot as plt\n",
    "import numpy as np\n",
    "import pandas as pd\n",
    "\n",
    "from andbro__savefig import __savefig\n",
    "from obspy.clients.fdsn import Client"
   ]
  },
  {
   "cell_type": "markdown",
   "id": "cbb36e43",
   "metadata": {
    "ExecuteTime": {
     "end_time": "2023-01-13T15:42:15.099966Z",
     "start_time": "2023-01-13T15:42:15.096483Z"
    }
   },
   "source": [
    "## Configurations"
   ]
  },
  {
   "cell_type": "code",
   "execution_count": 12,
   "id": "0066dd22",
   "metadata": {
    "ExecuteTime": {
     "end_time": "2023-01-13T18:19:15.261721Z",
     "start_time": "2023-01-13T18:19:15.253997Z"
    }
   },
   "outputs": [],
   "source": [
    "config = {}\n",
    "\n",
    "config['minlatitude'] = 32.444\n",
    "config['maxlatitude'] = 34.8286\n",
    "config['minlongitude'] = -118.652\n",
    "config['maxlongitude'] = -114.941\n",
    "\n",
    "config['BSPF_lon'] = np.array([-116.455439])\n",
    "config['BSPF_lat'] = np.array([33.610643])\n",
    "\n",
    "config['minmagnitude'] = 2.5\n",
    "\n",
    "config['tbeg'] = obs.UTCDateTime(\"2022-10-01\")\n",
    "config['tend'] = obs.UTCDateTime(\"2023-01-13\")\n",
    "\n",
    "config['eventfile'] = \"BSPF_event_catalog.pkl\"\n",
    "\n",
    "config['outpath'] = \"./\""
   ]
  },
  {
   "cell_type": "code",
   "execution_count": 3,
   "id": "3112cac7",
   "metadata": {
    "ExecuteTime": {
     "end_time": "2023-01-13T18:09:37.065762Z",
     "start_time": "2023-01-13T18:09:37.058070Z"
    },
    "code_folding": [
     0
    ]
   },
   "outputs": [],
   "source": [
    "def __cat_to_df(cat):\n",
    "    \n",
    "    from pandas import DataFrame\n",
    "    \n",
    "    times = []\n",
    "    lats = []\n",
    "    lons = []\n",
    "    deps = []\n",
    "    magnitudes = []\n",
    "    magnitudestype = []\n",
    "    \n",
    "    for event in cat:\n",
    "        if len(event.origins) != 0 and len(event.magnitudes) != 0:\n",
    "            times.append(event.origins[0].time.datetime)\n",
    "            lats.append(event.origins[0].latitude)\n",
    "            lons.append(event.origins[0].longitude)\n",
    "            deps.append(event.origins[0].depth)\n",
    "            magnitudes.append(event.magnitudes[0].mag)\n",
    "            magnitudestype.append(event.magnitudes[0].magnitude_type )\n",
    "            \n",
    "    df = DataFrame({'latitude':lats,'longitude':lons,'depth':deps,\n",
    "                    'magnitude':magnitudes,'type':magnitudestype}, \n",
    "                     index = times\n",
    "                  )\n",
    "    \n",
    "    return df"
   ]
  },
  {
   "cell_type": "code",
   "execution_count": 24,
   "id": "b6587b98",
   "metadata": {
    "ExecuteTime": {
     "end_time": "2023-01-13T18:33:11.756426Z",
     "start_time": "2023-01-13T18:33:10.948171Z"
    }
   },
   "outputs": [
    {
     "name": "stderr",
     "output_type": "stream",
     "text": [
      "/home/andbro/anaconda3/envs/obs/lib/python3.7/site-packages/obspy/io/quakeml/core.py:1109: UserWarning: 'quakeml:earthquake.usgs.gov/fdsnws/event/1/query?starttime=2022-10-01T00%3A00%3A00.000000&endtime=2022-12-24T00%3A00%3A00.000000&minlatitude=32.444&maxlatitude=34.8286&minlongitude=-118.652&maxlongitude=-114.941&minmagnitude=2.5' is not a valid QuakeML URI. It will be in the final file but note that the file will not be a valid QuakeML file.\n",
      "  warnings.warn(msg % obj.id)\n"
     ]
    }
   ],
   "source": [
    "client = Client(\"USGS\")\n",
    "\n",
    "events = client.get_events(minlatitude=config['minlatitude'], maxlatitude=config['maxlatitude'],\n",
    "                           minlongitude=config['minlongitude'], maxlongitude=config['maxlongitude'],\n",
    "                           starttime=config['tbeg'],\n",
    "                           endtime=config['tend']-20*86400,\n",
    "                           minmagnitude=config['minmagnitude'],\n",
    "                          )\n",
    "\n",
    "# events.plot(projection=\"local\");\n",
    "\n",
    "events.write(config['outpath']+\"events.xml\", format=\"QUAKEML\")"
   ]
  },
  {
   "cell_type": "code",
   "execution_count": 8,
   "id": "d84371c5",
   "metadata": {
    "ExecuteTime": {
     "end_time": "2023-01-13T18:10:25.924305Z",
     "start_time": "2023-01-13T18:10:25.917764Z"
    }
   },
   "outputs": [],
   "source": [
    "events_df = __cat_to_df(events)\n",
    "\n",
    "events_df.to_pickle(config['outpath']+config['eventfile'])"
   ]
  },
  {
   "cell_type": "code",
   "execution_count": 27,
   "id": "393ec81e",
   "metadata": {
    "ExecuteTime": {
     "end_time": "2023-01-13T18:35:03.395854Z",
     "start_time": "2023-01-13T18:34:50.902389Z"
    },
    "code_folding": [
     0
    ]
   },
   "outputs": [
    {
     "name": "stderr",
     "output_type": "stream",
     "text": [
      "grdblend [WARNING]: File @N30W120.earth_relief_15s_p.nc has different increments (0.00416666666667/0.00416666666667) than the output grid (0.000833333333333/0.000833333333333) - must resample\n",
      "grdblend [WARNING]: File @N30W120.earth_relief_15s_p.nc coordinates are phase-shifted w.r.t. the output grid - must resample\n"
     ]
    }
   ],
   "source": [
    "def __makeplot_eventmap(config, data):\n",
    "    \n",
    "\n",
    "    import pygmt\n",
    "    import pandas as pd\n",
    "\n",
    "    \n",
    "    # Set the region\n",
    "    region = [config['minlongitude'], config['maxlongitude'], config['minlatitude'], config['maxlatitude']]\n",
    "\n",
    "\n",
    "\n",
    "    fig = pygmt.Figure()\n",
    "    \n",
    "#     fig.basemap(region=region, projection=\"M15c\", frame=True)\n",
    "\n",
    "\n",
    "    # make color pallets\n",
    "    pygmt.makecpt(\n",
    "        cmap='etopo1',\n",
    "        series='-8000/5010/1000',\n",
    "        continuous=True\n",
    "    )\n",
    "    \n",
    "    \n",
    "    # define etopo data file\n",
    "    topo_data = \"@earth_relief_03s\"\n",
    "#     topo_data = pygmt.datasets.load_earth_relief(resolution=\"03s\", region=region)\n",
    "    \n",
    "    ## adjust land and sea/lakes\n",
    "#     land = topo_data * pygmt.grdlandmask(region=region, \n",
    "#                                          spacing=\"03s\", \n",
    "#                                          maskvalues=[0, 1], \n",
    "#                                          resolution=\"f\"\n",
    "#                                         )\n",
    "#     wet = topo_data * pygmt.grdlandmask(region=region, \n",
    "#                                         spacing=\"03s\", \n",
    "#                                         maskvalues=[1, \"NaN\"], \n",
    "#                                         resolution=\"f\"\n",
    "#                                        )\n",
    "\n",
    "    # plot high res topography\n",
    "    fig.grdimage(\n",
    "        grid=topo_data,\n",
    "        region=region,\n",
    "        projection='M4i',\n",
    "        shading=True,\n",
    "        frame=True\n",
    "    )\n",
    "        \n",
    "    \n",
    "    ## add coastlines\n",
    "    fig.coast(shorelines=True, frame=False)\n",
    "#     fig.coast(rivers=\"1/0.5p,blue\") # Rivers\n",
    "\n",
    "    \n",
    "    # colorbar colormap\n",
    "    pygmt.makecpt(cmap=\"rainbow\", series=[data.depth.min(), data.depth.max()])\n",
    "\n",
    "    \n",
    "    ## plot data coordinates\n",
    "    fig.plot(\n",
    "        x=data.longitude,\n",
    "        y=data.latitude,\n",
    "        sizes=0.07*data.magnitude,\n",
    "        color=data.depth,\n",
    "        cmap=True,\n",
    "        style=\"cc\",\n",
    "        pen=\"black\",\n",
    "    )\n",
    "\n",
    "    ## plot PFO\n",
    "    fig.plot(\n",
    "        x=config['BSPF_lon'],\n",
    "        y=config['BSPF_lat'],\n",
    "        sizes=np.array([0.3]),\n",
    "        color=\"white\",\n",
    "        style=\"t\",\n",
    "        pen=\"black\",\n",
    "    )\n",
    "    \n",
    "    fig.text(\n",
    "        text=\"PFO\",\n",
    "        x=config['BSPF_lon'],\n",
    "        y=config['BSPF_lat'],\n",
    "        offset=[0.3,0.3],\n",
    "        font=\"9p,Helvetica-Bold,black\"\n",
    "    )\n",
    "    \n",
    "    ## add depth colorbar\n",
    "    fig.colorbar(frame='af+l\"Depth (km)\"')\n",
    "    \n",
    "    \n",
    "    fig.savefig(config['outpath']+'event_map.png')\n",
    "\n",
    "    fig.show();\n",
    "    return fig\n",
    "\n",
    "fig = __makeplot_eventmap(config, events_df)"
   ]
  },
  {
   "cell_type": "code",
   "execution_count": null,
   "id": "8d9046db",
   "metadata": {
    "ExecuteTime": {
     "start_time": "2023-01-13T18:02:59.252Z"
    },
    "code_folding": [
     0
    ]
   },
   "outputs": [],
   "source": [
    "def __makeplot_eventmap_3d(config, data):\n",
    "    \n",
    "\n",
    "    import pygmt\n",
    "    import pandas as pd\n",
    "\n",
    "    \n",
    "    # Set the region\n",
    "    region = [config['minlongitude'], config['maxlongitude'], config['minlatitude'], config['maxlatitude']]\n",
    "\n",
    "\n",
    "\n",
    "    fig = pygmt.Figure()\n",
    "#     fig.basemap(region=region, projection=\"M15c\", frame=True)\n",
    "\n",
    "    # make color pallets\n",
    "    pygmt.makecpt(\n",
    "        cmap='etopo1',\n",
    "        series='-8000/5000/1000',\n",
    "        continuous=True\n",
    "    )\n",
    "\n",
    "    # define etopo data file\n",
    "    topo_data = \"@earth_relief_03s\"\n",
    "\n",
    "    \n",
    "    fig.grdview(\n",
    "        grid=topo_data,\n",
    "        # Set the azimuth to -130 (230) degrees and the elevation to 30 degrees\n",
    "        perspective=[-130, 30],\n",
    "        frame=[\"xaf\", \"yaf\", \"WSnE\"],\n",
    "        projection=\"M15c\",\n",
    "        zsize=\"1.5c\",\n",
    "        surftype=\"s\",\n",
    "        cmap=\"geo\",\n",
    "        plane=\"1000+ggrey\",\n",
    "        # Set the contour pen thickness to \"0.1p\"\n",
    "        contourpen=\"0.1p\",\n",
    "    )\n",
    "    fig.colorbar(perspective=True, frame=[\"a500\", \"x+lElevation\", \"y+lm\"])\n",
    "    \n",
    "    \n",
    "#     # plot high res topography\n",
    "#     fig.grdimage(\n",
    "#         grid=topo_data,\n",
    "#         region=region,\n",
    "#         projection='M4i',\n",
    "#         shading=True,\n",
    "#         frame=True\n",
    "#     )\n",
    "    \n",
    "#     fig.colorbar(perspective=True, frame=[\"a500\", \"x+lElevation\", \"y+lm\"])\n",
    "    \n",
    "#     fig.coast(shorelines=True, frame=False)\n",
    "\n",
    "#     # colorbar colormap\n",
    "#     pygmt.makecpt(cmap=\"magma\", series=[data.depth.min(), data.depth.max()])\n",
    "\n",
    "    fig.plot(\n",
    "        x=data.longitude,\n",
    "        y=data.latitude,\n",
    "        sizes=0.05*data.magnitude,\n",
    "        color=data.depth,\n",
    "        cmap=True,\n",
    "        style=\"cc\",\n",
    "        pen=\"black\",\n",
    "    )\n",
    "\n",
    "    fig.colorbar(frame='af+l\"Depth (km)\"')\n",
    "    \n",
    "    \n",
    "    fig.savefig(config['outpath']+'event_map.png')\n",
    "\n",
    "    \n",
    "    fig.show()\n",
    "\n",
    "# fig = __makeplot_eventmap_3d(config, events_df)"
   ]
  },
  {
   "cell_type": "code",
   "execution_count": 31,
   "id": "0251fbdb",
   "metadata": {
    "ExecuteTime": {
     "end_time": "2023-01-13T18:35:55.911880Z",
     "start_time": "2023-01-13T18:35:55.823008Z"
    }
   },
   "outputs": [
    {
     "data": {
      "image/png": "[encoded data removed]",
      "text/plain": [
       "<Figure size 432x288 with 1 Axes>"
      ]
     },
     "metadata": {
      "needs_background": "light"
     },
     "output_type": "display_data"
    }
   ],
   "source": [
    "fig = plt.subplot()"
   ]
  },
  {
   "cell_type": "code",
   "execution_count": 36,
   "id": "c43b7581",
   "metadata": {
    "ExecuteTime": {
     "end_time": "2023-01-13T18:36:40.032679Z",
     "start_time": "2023-01-13T18:36:40.026614Z"
    }
   },
   "outputs": [
    {
     "name": "stdout",
     "output_type": "stream",
     "text": [
      "   -> Done\n",
      "\n"
     ]
    }
   ],
   "source": [
    "__savefig(fig, outpath=config['outpath'], outname=\"event_map\", mode=\"png\", dpi=200)"
   ]
  },
  {
   "cell_type": "code",
   "execution_count": null,
   "id": "b7b2647d",
   "metadata": {},
   "outputs": [],
   "source": []
  }
 ],
 "metadata": {
  "kernelspec": {
   "display_name": "Python 3",
   "language": "python",
   "name": "python3"
  },
  "language_info": {
   "codemirror_mode": {
    "name": "ipython",
    "version": 3
   },
   "file_extension": ".py",
   "mimetype": "text/x-python",
   "name": "python",
   "nbconvert_exporter": "python",
   "pygments_lexer": "ipython3",
   "version": "3.7.8"
  },
  "latex_envs": {
   "LaTeX_envs_menu_present": true,
   "autoclose": true,
   "autocomplete": true,
   "bibliofile": "biblio.bib",
   "cite_by": "apalike",
   "current_citInitial": 1,
   "eqLabelWithNumbers": true,
   "eqNumInitial": 1,
   "hotkeys": {
    "equation": "Ctrl-E",
    "itemize": "Ctrl-I"
   },
   "labels_anchors": false,
   "latex_user_defs": false,
   "report_style_numbering": false,
   "user_envs_cfg": false
  },
  "toc": {
   "base_numbering": 1,
   "nav_menu": {},
   "number_sections": true,
   "sideBar": true,
   "skip_h1_title": false,
   "title_cell": "Table of Contents",
   "title_sidebar": "Contents",
   "toc_cell": false,
   "toc_position": {},
   "toc_section_display": true,
   "toc_window_display": false
  }
 },
 "nbformat": 4,
 "nbformat_minor": 5
}
