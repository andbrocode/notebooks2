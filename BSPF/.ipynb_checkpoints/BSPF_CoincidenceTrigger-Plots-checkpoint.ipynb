{
 "cells": [
  {
   "cell_type": "markdown",
   "id": "f1800f58",
   "metadata": {},
   "source": [
    "# Plot Coincidence Trigger"
   ]
  },
  {
   "cell_type": "markdown",
   "id": "d92f0fb4",
   "metadata": {},
   "source": [
    "## Import Libraries"
   ]
  },
  {
   "cell_type": "code",
   "execution_count": 15,
   "id": "77b73fe9",
   "metadata": {
    "ExecuteTime": {
     "end_time": "2023-04-14T13:16:21.550635Z",
     "start_time": "2023-04-14T13:16:21.548245Z"
    }
   },
   "outputs": [],
   "source": [
    "import os, sys\n",
    "import obspy as obs\n",
    "import matplotlib.pyplot as plt\n",
    "\n",
    "from obspy.clients.fdsn import Client\n",
    "from obspy.signal.trigger import coincidence_trigger\n",
    "from numpy import sort"
   ]
  },
  {
   "cell_type": "markdown",
   "id": "eaa20692",
   "metadata": {},
   "source": [
    "## Configurations"
   ]
  },
  {
   "cell_type": "code",
   "execution_count": 35,
   "id": "8e926584",
   "metadata": {
    "ExecuteTime": {
     "end_time": "2023-04-14T13:47:09.131051Z",
     "start_time": "2023-04-14T13:47:09.116433Z"
    }
   },
   "outputs": [],
   "source": [
    "config = {}\n",
    "\n",
    "## before 2023-04-01\n",
    "config['seeds'] = {\"rotation\":\"PY.BSPF..HJ*\", \"translation\":\"II.PFO.10.BH*\"}\n",
    "## after 2023-04-01\n",
    "# config['seeds'] = [\"PY.BSPF..HJ*\", \"PY.PFOIX..HH*\"]\n",
    "\n",
    "\n",
    "# config['output_path'] = \"/home/andbro/kilauea-data/BSPF/trigger/tmp/\"\n",
    "config['output_path'] = \"/import/kilauea-data/BSPF/trigger/\"\n",
    "\n",
    "\n",
    "config['client'] = Client(\"IRIS\")"
   ]
  },
  {
   "cell_type": "code",
   "execution_count": 37,
   "id": "6bf383e0",
   "metadata": {
    "ExecuteTime": {
     "end_time": "2023-04-14T13:47:11.537959Z",
     "start_time": "2023-04-14T13:47:11.390479Z"
    }
   },
   "outputs": [
    {
     "name": "stdout",
     "output_type": "stream",
     "text": [
      "trigger_000.pkl\r\n",
      "trigger_001.pkl\r\n",
      "trigger_002.pkl\r\n",
      "trigger_003.pkl\r\n",
      "trigger_004.pkl\r\n",
      "trigger_005.pkl\r\n",
      "trigger_006.pkl\r\n",
      "trigger_007.pkl\r\n",
      "trigger_008.pkl\r\n",
      "trigger_009.pkl\r\n",
      "trigger_010.pkl\r\n",
      "trigger_011.pkl\r\n",
      "trigger_012.pkl\r\n",
      "trigger_013.pkl\r\n",
      "trigger_014.pkl\r\n",
      "trigger_015.pkl\r\n",
      "trigger_016.pkl\r\n",
      "trigger_017.pkl\r\n",
      "trigger_018.pkl\r\n",
      "trigger_019.pkl\r\n",
      "trigger_020.pkl\r\n",
      "trigger_021.pkl\r\n",
      "trigger_022.pkl\r\n",
      "trigger_023.pkl\r\n",
      "trigger_024.pkl\r\n",
      "trigger_2022-10-05T00:00:00.000000Z_000.pkl\r\n",
      "trigger_2022-10-05T00:00:00.000000Z_001.pkl\r\n",
      "trigger_2022-10-05T00:00:00.000000Z_002.pkl\r\n",
      "trigger_2022-10-05T00:00:00.000000Z_003.pkl\r\n",
      "trigger_2022-10-05T00:00:00.000000Z_004.pkl\r\n",
      "trigger_2022-10-05T00:00:00.000000Z_005.pkl\r\n",
      "trigger_2022-10-05T00:00:00.000000Z_006.pkl\r\n",
      "trigger_2022-10-05T00:00:00.000000Z_007.pkl\r\n",
      "trigger_2022-10-05T00:00:00.000000Z_008.pkl\r\n",
      "trigger_2022-10-05T00:00:00.000000Z_009.pkl\r\n",
      "trigger_2022-10-05T00:00:00.000000Z_010.pkl\r\n",
      "trigger_2022-10-05T00:00:00.000000Z_011.pkl\r\n",
      "trigger_2022-10-05T00:00:00.000000Z_012.pkl\r\n",
      "trigger_2022-10-05T00:00:00.000000Z_013.pkl\r\n",
      "trigger_2022-10-05T00:00:00.000000Z_014.pkl\r\n",
      "trigger_2022-10-05T00:00:00.000000Z_015.pkl\r\n",
      "trigger_2022-10-05T00:00:00.000000Z_016.pkl\r\n",
      "trigger_2022-10-05T00:00:00.000000Z_017.pkl\r\n",
      "trigger_2022-10-05T00:00:00.000000Z_018.pkl\r\n",
      "trigger_2022-10-05T00:00:00.000000Z_019.pkl\r\n",
      "trigger_2022-10-05T00:00:00.000000Z_020.pkl\r\n",
      "trigger_2022-10-05T00:00:00.000000Z_021.pkl\r\n",
      "trigger_2022-10-05T00:00:00.000000Z_022.pkl\r\n",
      "trigger_2022-10-05T00:00:00.000000Z_023.pkl\r\n",
      "trigger_2022-10-05T00:00:00.000000Z_024.pkl\r\n",
      "trigger_2022-10-25T23:50:00.000000Z_2022-10-26T01:10:00.000000Z_000.pkl\r\n",
      "trigger_2022-10-26T00:50:00.000000Z_2022-10-26T02:10:00.000000Z_001.pkl\r\n",
      "trigger_2022-10-26T01:50:00.000000Z_2022-10-26T03:10:00.000000Z_002.pkl\r\n",
      "trigger_2022-10-26T02:50:00.000000Z_2022-10-26T04:10:00.000000Z_003.pkl\r\n",
      "trigger_2022-10-26T03:50:00.000000Z_2022-10-26T05:10:00.000000Z_004.pkl\r\n",
      "trigger_2022-10-26T04:50:00.000000Z_2022-10-26T06:10:00.000000Z_005.pkl\r\n",
      "trigger_2022-10-26T05:50:00.000000Z_2022-10-26T07:10:00.000000Z_006.pkl\r\n",
      "trigger_2022-10-26T06:50:00.000000Z_2022-10-26T08:10:00.000000Z_007.pkl\r\n",
      "trigger_2022-10-26T07:50:00.000000Z_2022-10-26T09:10:00.000000Z_008.pkl\r\n",
      "trigger_2022-10-26T08:50:00.000000Z_2022-10-26T10:10:00.000000Z_009.pkl\r\n",
      "trigger_2022-10-26T09:50:00.000000Z_2022-10-26T11:10:00.000000Z_010.pkl\r\n",
      "trigger_2022-10-26T10:50:00.000000Z_2022-10-26T12:10:00.000000Z_011.pkl\r\n",
      "trigger_2022-10-26T11:50:00.000000Z_2022-10-26T13:10:00.000000Z_012.pkl\r\n",
      "trigger_2022-10-26T12:50:00.000000Z_2022-10-26T14:10:00.000000Z_013.pkl\r\n",
      "trigger_2022-10-26T13:50:00.000000Z_2022-10-26T15:10:00.000000Z_014.pkl\r\n",
      "trigger_2022-10-26T14:50:00.000000Z_2022-10-26T16:10:00.000000Z_015.pkl\r\n",
      "trigger_2022-10-26T15:50:00.000000Z_2022-10-26T17:10:00.000000Z_016.pkl\r\n",
      "trigger_2022-10-26T16:50:00.000000Z_2022-10-26T18:10:00.000000Z_017.pkl\r\n",
      "trigger_2022-10-26T17:50:00.000000Z_2022-10-26T19:10:00.000000Z_018.pkl\r\n",
      "trigger_2022-10-26T18:50:00.000000Z_2022-10-26T20:10:00.000000Z_019.pkl\r\n",
      "trigger_2022-10-26T19:50:00.000000Z_2022-10-26T21:10:00.000000Z_020.pkl\r\n",
      "trigger_2022-10-26T20:50:00.000000Z_2022-10-26T22:10:00.000000Z_021.pkl\r\n",
      "trigger_2022-10-26T21:50:00.000000Z_2022-10-26T23:10:00.000000Z_022.pkl\r\n",
      "trigger_2022-10-26T22:50:00.000000Z_2022-10-27T00:10:00.000000Z_023.pkl\r\n",
      "trigger_2022-10-26T23:50:00.000000Z_2022-10-27T01:10:00.000000Z_000.pkl\r\n",
      "trigger_2022-10-26T23:50:00.000000Z_2022-10-27T01:10:00.000000Z_024.pkl\r\n",
      "trigger_2022-10-27T00:50:00.000000Z_2022-10-27T02:10:00.000000Z_001.pkl\r\n",
      "trigger_2022-10-27T01:50:00.000000Z_2022-10-27T03:10:00.000000Z_002.pkl\r\n",
      "trigger_2022-10-27T02:50:00.000000Z_2022-10-27T04:10:00.000000Z_003.pkl\r\n",
      "trigger_2022-10-27T03:50:00.000000Z_2022-10-27T05:10:00.000000Z_004.pkl\r\n",
      "trigger_2022-10-27T04:50:00.000000Z_2022-10-27T06:10:00.000000Z_005.pkl\r\n",
      "trigger_2022-10-27T05:50:00.000000Z_2022-10-27T07:10:00.000000Z_006.pkl\r\n",
      "trigger_2022-10-27T06:50:00.000000Z_2022-10-27T08:10:00.000000Z_007.pkl\r\n",
      "trigger_2022-10-27T07:50:00.000000Z_2022-10-27T09:10:00.000000Z_008.pkl\r\n",
      "trigger_2022-10-27T08:50:00.000000Z_2022-10-27T10:10:00.000000Z_009.pkl\r\n",
      "trigger_2022-10-27T09:50:00.000000Z_2022-10-27T11:10:00.000000Z_010.pkl\r\n",
      "trigger_2022-10-27T10:50:00.000000Z_2022-10-27T12:10:00.000000Z_011.pkl\r\n",
      "trigger_2022-10-27T11:50:00.000000Z_2022-10-27T13:10:00.000000Z_012.pkl\r\n",
      "trigger_2022-10-27T12:50:00.000000Z_2022-10-27T14:10:00.000000Z_013.pkl\r\n",
      "trigger_2022-10-27T13:50:00.000000Z_2022-10-27T15:10:00.000000Z_014.pkl\r\n",
      "trigger_2022-10-27T14:50:00.000000Z_2022-10-27T16:10:00.000000Z_015.pkl\r\n",
      "trigger_2022-10-27T15:50:00.000000Z_2022-10-27T17:10:00.000000Z_016.pkl\r\n",
      "trigger_2022-10-27T16:50:00.000000Z_2022-10-27T18:10:00.000000Z_017.pkl\r\n",
      "trigger_2022-10-27T17:50:00.000000Z_2022-10-27T19:10:00.000000Z_018.pkl\r\n",
      "trigger_2022-10-27T18:50:00.000000Z_2022-10-27T20:10:00.000000Z_019.pkl\r\n",
      "trigger_2022-10-27T19:50:00.000000Z_2022-10-27T21:10:00.000000Z_020.pkl\r\n",
      "trigger_2022-10-27T20:50:00.000000Z_2022-10-27T22:10:00.000000Z_021.pkl\r\n",
      "trigger_2022-10-27T21:50:00.000000Z_2022-10-27T23:10:00.000000Z_022.pkl\r\n",
      "trigger_2022-10-27T22:50:00.000000Z_2022-10-28T00:10:00.000000Z_023.pkl\r\n",
      "trigger_2022-10-27T23:50:00.000000Z_2022-10-28T01:10:00.000000Z_000.pkl\r\n",
      "trigger_2022-10-27T23:50:00.000000Z_2022-10-28T01:10:00.000000Z_024.pkl\r\n",
      "trigger_2022-10-28T00:50:00.000000Z_2022-10-28T02:10:00.000000Z_001.pkl\r\n",
      "trigger_2022-10-28T01:50:00.000000Z_2022-10-28T03:10:00.000000Z_002.pkl\r\n",
      "trigger_2022-10-28T02:50:00.000000Z_2022-10-28T04:10:00.000000Z_003.pkl\r\n",
      "trigger_2022-10-28T03:50:00.000000Z_2022-10-28T05:10:00.000000Z_004.pkl\r\n",
      "trigger_2022-10-28T04:50:00.000000Z_2022-10-28T06:10:00.000000Z_005.pkl\r\n",
      "trigger_2022-10-28T05:50:00.000000Z_2022-10-28T07:10:00.000000Z_006.pkl\r\n",
      "trigger_2022-10-28T06:50:00.000000Z_2022-10-28T08:10:00.000000Z_007.pkl\r\n",
      "trigger_2022-10-28T07:50:00.000000Z_2022-10-28T09:10:00.000000Z_008.pkl\r\n",
      "trigger_2022-10-28T08:50:00.000000Z_2022-10-28T10:10:00.000000Z_009.pkl\r\n",
      "trigger_2022-10-28T09:50:00.000000Z_2022-10-28T11:10:00.000000Z_010.pkl\r\n",
      "trigger_2022-10-28T10:50:00.000000Z_2022-10-28T12:10:00.000000Z_011.pkl\r\n",
      "trigger_2022-10-28T11:50:00.000000Z_2022-10-28T13:10:00.000000Z_012.pkl\r\n",
      "trigger_2022-10-28T12:50:00.000000Z_2022-10-28T14:10:00.000000Z_013.pkl\r\n",
      "trigger_2022-10-28T13:50:00.000000Z_2022-10-28T15:10:00.000000Z_014.pkl\r\n",
      "trigger_2022-10-28T14:50:00.000000Z_2022-10-28T16:10:00.000000Z_015.pkl\r\n",
      "trigger_2022-10-28T15:50:00.000000Z_2022-10-28T17:10:00.000000Z_016.pkl\r\n",
      "trigger_2022-10-28T16:50:00.000000Z_2022-10-28T18:10:00.000000Z_017.pkl\r\n",
      "trigger_2022-10-28T17:50:00.000000Z_2022-10-28T19:10:00.000000Z_018.pkl\r\n",
      "trigger_2022-10-28T18:50:00.000000Z_2022-10-28T20:10:00.000000Z_019.pkl\r\n",
      "trigger_2022-10-28T19:50:00.000000Z_2022-10-28T21:10:00.000000Z_020.pkl\r\n",
      "trigger_2022-10-28T20:50:00.000000Z_2022-10-28T22:10:00.000000Z_021.pkl\r\n",
      "trigger_2022-10-28T21:50:00.000000Z_2022-10-28T23:10:00.000000Z_022.pkl\r\n",
      "trigger_2022-10-28T22:50:00.000000Z_2022-10-29T00:10:00.000000Z_023.pkl\r\n",
      "trigger_2022-10-28T23:50:00.000000Z_2022-10-29T01:10:00.000000Z_000.pkl\r\n",
      "trigger_2022-10-28T23:50:00.000000Z_2022-10-29T01:10:00.000000Z_024.pkl\r\n",
      "trigger_2022-10-29T00:00:00.000000Z_000.pkl\r\n",
      "trigger_2022-10-29T00:00:00.000000Z_001.pkl\r\n",
      "trigger_2022-10-29T00:00:00.000000Z_002.pkl\r\n",
      "trigger_2022-10-29T00:00:00.000000Z_003.pkl\r\n",
      "trigger_2022-10-29T00:00:00.000000Z_004.pkl\r\n",
      "trigger_2022-10-29T00:00:00.000000Z_005.pkl\r\n",
      "trigger_2022-10-29T00:00:00.000000Z_006.pkl\r\n",
      "trigger_2022-10-29T00:00:00.000000Z_007.pkl\r\n",
      "trigger_2022-10-29T00:00:00.000000Z_008.pkl\r\n",
      "trigger_2022-10-29T00:00:00.000000Z_009.pkl\r\n",
      "trigger_2022-10-29T00:00:00.000000Z_010.pkl\r\n",
      "trigger_2022-10-29T00:00:00.000000Z_011.pkl\r\n",
      "trigger_2022-10-29T00:00:00.000000Z_012.pkl\r\n",
      "trigger_2022-10-29T00:00:00.000000Z_013.pkl\r\n",
      "trigger_2022-10-29T00:00:00.000000Z_014.pkl\r\n",
      "trigger_2022-10-29T00:00:00.000000Z_015.pkl\r\n",
      "trigger_2022-10-29T00:00:00.000000Z_016.pkl\r\n",
      "trigger_2022-10-29T00:00:00.000000Z_017.pkl\r\n",
      "trigger_2022-10-29T00:00:00.000000Z_018.pkl\r\n",
      "trigger_2022-10-29T00:00:00.000000Z_019.pkl\r\n",
      "trigger_2022-10-29T00:00:00.000000Z_020.pkl\r\n",
      "trigger_2022-10-29T00:00:00.000000Z_021.pkl\r\n",
      "trigger_2022-10-29T00:00:00.000000Z_022.pkl\r\n",
      "trigger_2022-10-29T00:00:00.000000Z_023.pkl\r\n",
      "trigger_2022-10-29T00:00:00.000000Z_024.pkl\r\n",
      "trigger_2022-10-29T00:50:00.000000Z_2022-10-29T02:10:00.000000Z_001.pkl\r\n",
      "trigger_2022-10-29T01:50:00.000000Z_2022-10-29T03:10:00.000000Z_002.pkl\r\n",
      "trigger_2022-10-29T02:50:00.000000Z_2022-10-29T04:10:00.000000Z_003.pkl\r\n",
      "trigger_2022-10-29T03:50:00.000000Z_2022-10-29T05:10:00.000000Z_004.pkl\r\n",
      "trigger_2022-10-29T04:50:00.000000Z_2022-10-29T06:10:00.000000Z_005.pkl\r\n",
      "trigger_2022-10-29T05:50:00.000000Z_2022-10-29T07:10:00.000000Z_006.pkl\r\n",
      "trigger_2022-10-29T06:50:00.000000Z_2022-10-29T08:10:00.000000Z_007.pkl\r\n",
      "trigger_2022-10-29T07:50:00.000000Z_2022-10-29T09:10:00.000000Z_008.pkl\r\n",
      "trigger_2022-10-29T08:50:00.000000Z_2022-10-29T10:10:00.000000Z_009.pkl\r\n",
      "trigger_2022-10-29T09:50:00.000000Z_2022-10-29T11:10:00.000000Z_010.pkl\r\n",
      "trigger_2022-10-29T10:50:00.000000Z_2022-10-29T12:10:00.000000Z_011.pkl\r\n",
      "trigger_2022-10-29T11:50:00.000000Z_2022-10-29T13:10:00.000000Z_012.pkl\r\n",
      "trigger_2022-10-29T12:50:00.000000Z_2022-10-29T14:10:00.000000Z_013.pkl\r\n",
      "trigger_2022-10-29T13:50:00.000000Z_2022-10-29T15:10:00.000000Z_014.pkl\r\n",
      "trigger_2022-10-29T14:50:00.000000Z_2022-10-29T16:10:00.000000Z_015.pkl\r\n",
      "trigger_2022-10-29T15:50:00.000000Z_2022-10-29T17:10:00.000000Z_016.pkl\r\n",
      "trigger_2022-10-29T16:50:00.000000Z_2022-10-29T18:10:00.000000Z_017.pkl\r\n",
      "trigger_2022-10-29T17:50:00.000000Z_2022-10-29T19:10:00.000000Z_018.pkl\r\n",
      "trigger_2022-10-29T18:50:00.000000Z_2022-10-29T20:10:00.000000Z_019.pkl\r\n",
      "trigger_2022-10-29T19:50:00.000000Z_2022-10-29T21:10:00.000000Z_020.pkl\r\n",
      "trigger_2022-10-29T20:50:00.000000Z_2022-10-29T22:10:00.000000Z_021.pkl\r\n",
      "trigger_2022-10-29T21:50:00.000000Z_2022-10-29T23:10:00.000000Z_022.pkl\r\n",
      "trigger_2022-10-29T22:50:00.000000Z_2022-10-30T00:10:00.000000Z_023.pkl\r\n",
      "trigger_2022-10-29T23:50:00.000000Z_2022-10-30T01:10:00.000000Z_024.pkl\r\n",
      "trigger_all.pkl\r\n"
     ]
    }
   ],
   "source": [
    "!ls /import/kilauea-data/BSPF/trigger/tmp"
   ]
  },
  {
   "cell_type": "markdown",
   "id": "625335fc",
   "metadata": {},
   "source": [
    "## Load Data"
   ]
  },
  {
   "cell_type": "code",
   "execution_count": 18,
   "id": "9e516b95",
   "metadata": {
    "ExecuteTime": {
     "end_time": "2023-04-14T13:16:23.616334Z",
     "start_time": "2023-04-14T13:16:23.596929Z"
    },
    "code_folding": [
     0
    ]
   },
   "outputs": [],
   "source": [
    "def __request_data(seed, client, tbeg, tend):\n",
    "\n",
    "#     print(seed)\n",
    "    net, sta, loc, cha = seed.split(\".\")\n",
    "\n",
    "    try:\n",
    "        inventory = client.get_stations(network=net, \n",
    "                                         station=sta,\n",
    "                                         starttime=tbeg,\n",
    "                                         endtime=tend,\n",
    "                                         level=\"response\",\n",
    "                                         )\n",
    "    except:\n",
    "        print(f\" -> Failed to load inventory for {seed}!\")\n",
    "        return\n",
    "\n",
    "    try:\n",
    "        waveform = client.get_waveforms(network=net,\n",
    "                                       station=sta,\n",
    "                                       location=loc,\n",
    "                                       channel=cha, \n",
    "                                       starttime=tbeg-60,\n",
    "                                       endtime=tend+60,\n",
    "                                       )\n",
    "\n",
    "    except:\n",
    "        print(f\" -> Failed to load waveforms for {seed}!\")\n",
    "        return\n",
    "    \n",
    "    return waveform, inventory"
   ]
  },
  {
   "cell_type": "code",
   "execution_count": 19,
   "id": "5579f31a",
   "metadata": {
    "ExecuteTime": {
     "end_time": "2023-04-14T13:16:23.851494Z",
     "start_time": "2023-04-14T13:16:23.849810Z"
    }
   },
   "outputs": [],
   "source": [
    "# st_xpfo, inv_xpfo = __request_data(config['seeds']['translation'], config['client'], config['tbeg'], config['tend'])"
   ]
  },
  {
   "cell_type": "code",
   "execution_count": 20,
   "id": "69c79b5e",
   "metadata": {
    "ExecuteTime": {
     "end_time": "2023-04-14T13:16:25.119910Z",
     "start_time": "2023-04-14T13:16:25.115243Z"
    }
   },
   "outputs": [],
   "source": [
    "# st_bspf, inv_bspf = __request_data(config['seeds']['rotation'], config['client'], config['tbeg'], config['tend'])"
   ]
  },
  {
   "cell_type": "markdown",
   "id": "438346ca",
   "metadata": {},
   "source": [
    "## Load Triggered Events"
   ]
  },
  {
   "cell_type": "code",
   "execution_count": 53,
   "id": "52ad588f",
   "metadata": {
    "ExecuteTime": {
     "end_time": "2023-04-14T14:35:09.027995Z",
     "start_time": "2023-04-14T14:35:09.025199Z"
    },
    "code_folding": [
     0
    ]
   },
   "outputs": [],
   "source": [
    "def __read_pickle(config, filename):\n",
    "    \n",
    "    import pickle\n",
    "\n",
    "    with open(config['output_path']+filename, 'rb') as f:\n",
    "        triggerfile = pickle.load(f)\n",
    "        \n",
    "    return triggerfile"
   ]
  },
  {
   "cell_type": "code",
   "execution_count": 55,
   "id": "0b876eda",
   "metadata": {
    "ExecuteTime": {
     "end_time": "2023-04-14T14:50:20.061251Z",
     "start_time": "2023-04-14T14:50:20.059321Z"
    }
   },
   "outputs": [],
   "source": [
    "trigger_events = __read_pickle(config, \"trigger_all.pkl\")"
   ]
  },
  {
   "cell_type": "code",
   "execution_count": 68,
   "id": "d143da0c",
   "metadata": {
    "ExecuteTime": {
     "end_time": "2023-04-14T14:53:42.309389Z",
     "start_time": "2023-04-14T14:53:42.294081Z"
    }
   },
   "outputs": [
    {
     "name": "stdout",
     "output_type": "stream",
     "text": [
      "{'time': UTCDateTime(2022, 10, 23, 9, 24, 59, 994538), 'stations': ['PFO', 'PFO', 'PFO', 'BSPF', 'BSPF', 'BSPF'], 'trace_ids': ['II.PFO.10.BH1', 'II.PFO.10.BHZ', 'II.PFO.10.BH2', 'PY.BSPF..HJ3', 'PY.BSPF..HJ1', 'PY.BSPF..HJ2'], 'coincidence_sum': 6.0, 'similarity': {}, 'duration': 44.299999952316284}\n",
      "{'time': UTCDateTime(2022, 10, 25, 3, 55, 36, 344538), 'stations': ['PFO', 'PFO', 'PFO', 'BSPF'], 'trace_ids': ['II.PFO.10.BH1', 'II.PFO.10.BHZ', 'II.PFO.10.BH2', 'PY.BSPF..HJ2'], 'coincidence_sum': 4.0, 'similarity': {}, 'duration': 45.424999952316284}\n",
      "{'time': UTCDateTime(2022, 10, 25, 3, 55, 40, 19538), 'stations': ['PFO', 'PFO', 'PFO', 'BSPF', 'BSPF'], 'trace_ids': ['II.PFO.10.BH1', 'II.PFO.10.BHZ', 'II.PFO.10.BH2', 'PY.BSPF..HJ2', 'PY.BSPF..HJ1'], 'coincidence_sum': 5.0, 'similarity': {}, 'duration': 41.75000023841858}\n",
      "{'time': UTCDateTime(2022, 10, 26, 8, 14, 20, 294538), 'stations': ['PFO', 'PFO', 'PFO', 'BSPF', 'BSPF', 'BSPF'], 'trace_ids': ['II.PFO.10.BHZ', 'II.PFO.10.BH2', 'II.PFO.10.BH1', 'PY.BSPF..HJ2', 'PY.BSPF..HJ3', 'PY.BSPF..HJ1'], 'coincidence_sum': 6.0, 'similarity': {}, 'duration': 70.35000014305115}\n"
     ]
    }
   ],
   "source": [
    "times, cosum = [], []\n",
    "ref_time = obs.UTCDateTime(\"2022-10-01\")\n",
    "\n",
    "for trig in trigger_events:\n",
    "    print(trig)\n",
    "    times.append(trig['time'])\n",
    "    cosum.append(trig['coincidence_sum'])\n",
    "    \n",
    "rel_times = [(t-ref_time)/86400 for t in times]"
   ]
  },
  {
   "cell_type": "code",
   "execution_count": 69,
   "id": "e2b28af6",
   "metadata": {
    "ExecuteTime": {
     "end_time": "2023-04-14T14:53:44.303218Z",
     "start_time": "2023-04-14T14:53:44.181237Z"
    }
   },
   "outputs": [
    {
     "data": {
      "text/plain": [
       "<matplotlib.collections.PathCollection at 0x7f36d8c19810>"
      ]
     },
     "execution_count": 69,
     "metadata": {},
     "output_type": "execute_result"
    },
    {
     "data": {
      "image/png": "[encoded data removed]",
      "text/plain": [
       "<Figure size 432x288 with 1 Axes>"
      ]
     },
     "metadata": {
      "needs_background": "light"
     },
     "output_type": "display_data"
    }
   ],
   "source": [
    "plt.scatter(rel_times, cosum)"
   ]
  },
  {
   "cell_type": "markdown",
   "id": "3ac8d532",
   "metadata": {},
   "source": [
    "## Process Data"
   ]
  },
  {
   "cell_type": "code",
   "execution_count": null,
   "id": "debea5c3",
   "metadata": {},
   "outputs": [],
   "source": []
  },
  {
   "cell_type": "code",
   "execution_count": null,
   "id": "98ea9ffe",
   "metadata": {
    "ExecuteTime": {
     "end_time": "2023-04-14T10:06:30.041176Z",
     "start_time": "2023-04-14T10:06:29.371456Z"
    }
   },
   "outputs": [],
   "source": [
    "st_xpfo_proc = st_xpfo.copy()\n",
    "st_xpfo_proc.remove_response(inventory=inv_xpfo)\n",
    "\n",
    "st_bspf_proc = st_bspf.copy()\n",
    "st_bspf_proc.remove_sensitivity(inventory=inv_bspf)\n",
    "st_bspf_proc.resample(40.0)"
   ]
  },
  {
   "cell_type": "code",
   "execution_count": null,
   "id": "a6e8a3f7",
   "metadata": {
    "ExecuteTime": {
     "end_time": "2023-04-14T10:06:30.042665Z",
     "start_time": "2023-04-14T10:06:29.752Z"
    }
   },
   "outputs": [],
   "source": [
    "st = obs.Stream()\n",
    "\n",
    "st += st_bspf_proc.copy()\n",
    "st += st_xpfo_proc.copy()\n",
    "\n",
    "st.detrend(\"linear\")\n",
    "st.taper(0.01)\n",
    "st.filter('bandpass', freqmin=1.0, freqmax=20.0, corners=4, zerophase=True)  # optional prefiltering"
   ]
  },
  {
   "cell_type": "code",
   "execution_count": null,
   "id": "62737240",
   "metadata": {
    "ExecuteTime": {
     "start_time": "2023-04-14T10:03:35.753Z"
    }
   },
   "outputs": [],
   "source": [
    "st.plot(equal_scale=False);"
   ]
  },
  {
   "cell_type": "code",
   "execution_count": null,
   "id": "971a2fe6",
   "metadata": {},
   "outputs": [],
   "source": []
  },
  {
   "cell_type": "code",
   "execution_count": 1,
   "id": "3c17a916",
   "metadata": {
    "ExecuteTime": {
     "end_time": "2023-04-14T12:44:49.234244Z",
     "start_time": "2023-04-14T12:44:49.217497Z"
    }
   },
   "outputs": [],
   "source": []
  },
  {
   "cell_type": "code",
   "execution_count": null,
   "id": "b120645a",
   "metadata": {
    "ExecuteTime": {
     "end_time": "2023-04-14T12:46:18.177856Z",
     "start_time": "2023-04-14T12:45:35.183424Z"
    }
   },
   "outputs": [],
   "source": []
  },
  {
   "cell_type": "code",
   "execution_count": null,
   "id": "4ae39900",
   "metadata": {},
   "outputs": [],
   "source": []
  }
 ],
 "metadata": {
  "kernelspec": {
   "display_name": "Python 3",
   "language": "python",
   "name": "python3"
  },
  "language_info": {
   "codemirror_mode": {
    "name": "ipython",
    "version": 3
   },
   "file_extension": ".py",
   "mimetype": "text/x-python",
   "name": "python",
   "nbconvert_exporter": "python",
   "pygments_lexer": "ipython3",
   "version": "3.7.7"
  },
  "toc": {
   "base_numbering": 1,
   "nav_menu": {},
   "number_sections": true,
   "sideBar": true,
   "skip_h1_title": false,
   "title_cell": "Table of Contents",
   "title_sidebar": "Contents",
   "toc_cell": false,
   "toc_position": {},
   "toc_section_display": true,
   "toc_window_display": false
  },
  "varInspector": {
   "cols": {
    "lenName": 16,
    "lenType": 16,
    "lenVar": 40
   },
   "kernels_config": {
    "python": {
     "delete_cmd_postfix": "",
     "delete_cmd_prefix": "del ",
     "library": "var_list.py",
     "varRefreshCmd": "print(var_dic_list())"
    },
    "r": {
     "delete_cmd_postfix": ") ",
     "delete_cmd_prefix": "rm(",
     "library": "var_list.r",
     "varRefreshCmd": "cat(var_dic_list()) "
    }
   },
   "types_to_exclude": [
    "module",
    "function",
    "builtin_function_or_method",
    "instance",
    "_Feature"
   ],
   "window_display": false
  }
 },
 "nbformat": 4,
 "nbformat_minor": 5
}
