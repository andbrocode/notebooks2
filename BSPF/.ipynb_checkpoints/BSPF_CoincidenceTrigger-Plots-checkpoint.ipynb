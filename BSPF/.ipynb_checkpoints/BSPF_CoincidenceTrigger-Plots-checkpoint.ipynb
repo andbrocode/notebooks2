{
 "cells": [
  {
   "cell_type": "markdown",
   "id": "f1800f58",
   "metadata": {},
   "source": [
    "# Plot Coincidence Trigger"
   ]
  },
  {
   "cell_type": "markdown",
   "id": "d92f0fb4",
   "metadata": {},
   "source": [
    "## Import Libraries"
   ]
  },
  {
   "cell_type": "code",
   "execution_count": 1,
   "id": "77b73fe9",
   "metadata": {
    "ExecuteTime": {
     "end_time": "2023-04-24T15:45:24.627991Z",
     "start_time": "2023-04-24T15:45:23.447702Z"
    }
   },
   "outputs": [],
   "source": [
    "import os, sys\n",
    "import obspy as obs\n",
    "import matplotlib.pyplot as plt\n",
    "\n",
    "from obspy.clients.fdsn import Client\n",
    "from obspy.signal.trigger import coincidence_trigger\n",
    "from numpy import sort, argmin"
   ]
  },
  {
   "cell_type": "code",
   "execution_count": 2,
   "id": "21f63d73",
   "metadata": {
    "ExecuteTime": {
     "end_time": "2023-04-24T15:45:24.646737Z",
     "start_time": "2023-04-24T15:45:24.642123Z"
    }
   },
   "outputs": [],
   "source": [
    "if os.uname().nodename == 'lighthouse':\n",
    "    root_path = '/home/andbro/'\n",
    "    data_path = '/home/andbro/kilauea-data/'\n",
    "    archive_path = '/home/andbro/freenas/'\n",
    "elif os.uname().nodename == 'kilauea':\n",
    "    root_path = '/home/brotzer/'\n",
    "    data_path = '/import/kilauea-data/'\n",
    "    archive_path = '/import/freenas-ffb-01-data/'"
   ]
  },
  {
   "cell_type": "markdown",
   "id": "eaa20692",
   "metadata": {},
   "source": [
    "## Configurations"
   ]
  },
  {
   "cell_type": "code",
   "execution_count": 15,
   "id": "8e926584",
   "metadata": {
    "ExecuteTime": {
     "end_time": "2023-04-25T07:47:24.319928Z",
     "start_time": "2023-04-25T07:47:24.311477Z"
    }
   },
   "outputs": [],
   "source": [
    "config = {}\n",
    "\n",
    "## before 2023-04-01\n",
    "config['seeds'] = {\"rotation\":\"PY.BSPF..HJ*\", \"translation\":\"II.PFO.10.BH*\"}\n",
    "## after 2023-04-01\n",
    "# config['seeds'] = [\"PY.BSPF..HJ*\", \"PY.PFOIX..HH*\"]\n",
    "\n",
    "config['output_path'] = data_path+\"BSPF/trigger2/\"\n",
    "\n",
    "config['dir_data'] = data_path+\"BSPF/data/\"\n",
    "\n",
    "config['client'] = Client(\"IRIS\")"
   ]
  },
  {
   "cell_type": "code",
   "execution_count": null,
   "id": "6bf383e0",
   "metadata": {
    "ExecuteTime": {
     "end_time": "2023-04-24T15:45:40.750145Z",
     "start_time": "2023-04-24T15:45:40.750135Z"
    }
   },
   "outputs": [],
   "source": [
    "# !ls /import/kilauea-data/BSPF/trigger/tmp"
   ]
  },
  {
   "cell_type": "markdown",
   "id": "625335fc",
   "metadata": {},
   "source": [
    "## Load Data"
   ]
  },
  {
   "cell_type": "code",
   "execution_count": 4,
   "id": "9e516b95",
   "metadata": {
    "ExecuteTime": {
     "end_time": "2023-04-24T15:45:42.940707Z",
     "start_time": "2023-04-24T15:45:42.933204Z"
    },
    "code_folding": [
     0
    ]
   },
   "outputs": [],
   "source": [
    "def __request_data(seed, client, tbeg, tend):\n",
    "\n",
    "#     print(seed)\n",
    "    net, sta, loc, cha = seed.split(\".\")\n",
    "\n",
    "    try:\n",
    "        inventory = client.get_stations(network=net, \n",
    "                                         station=sta,\n",
    "                                         starttime=tbeg,\n",
    "                                         endtime=tend,\n",
    "                                         level=\"response\",\n",
    "                                         )\n",
    "    except:\n",
    "        print(f\" -> Failed to load inventory for {seed}!\")\n",
    "        return\n",
    "\n",
    "    try:\n",
    "        waveform = client.get_waveforms(network=net,\n",
    "                                       station=sta,\n",
    "                                       location=loc,\n",
    "                                       channel=cha, \n",
    "                                       starttime=tbeg-60,\n",
    "                                       endtime=tend+60,\n",
    "                                       )\n",
    "\n",
    "    except:\n",
    "        print(f\" -> Failed to load waveforms for {seed}!\")\n",
    "        return\n",
    "    \n",
    "    return waveform, inventory"
   ]
  },
  {
   "cell_type": "code",
   "execution_count": 5,
   "id": "5579f31a",
   "metadata": {
    "ExecuteTime": {
     "end_time": "2023-04-24T15:45:43.140748Z",
     "start_time": "2023-04-24T15:45:43.136525Z"
    }
   },
   "outputs": [],
   "source": [
    "# st_xpfo, inv_xpfo = __request_data(config['seeds']['translation'], config['client'], config['tbeg'], config['tend'])"
   ]
  },
  {
   "cell_type": "code",
   "execution_count": 6,
   "id": "69c79b5e",
   "metadata": {
    "ExecuteTime": {
     "end_time": "2023-04-24T15:45:43.297450Z",
     "start_time": "2023-04-24T15:45:43.295043Z"
    }
   },
   "outputs": [],
   "source": [
    "# st_bspf, inv_bspf = __request_data(config['seeds']['rotation'], config['client'], config['tbeg'], config['tend'])"
   ]
  },
  {
   "cell_type": "markdown",
   "id": "438346ca",
   "metadata": {},
   "source": [
    "## Load Triggered Events"
   ]
  },
  {
   "cell_type": "code",
   "execution_count": 7,
   "id": "52ad588f",
   "metadata": {
    "ExecuteTime": {
     "end_time": "2023-04-24T15:45:43.602234Z",
     "start_time": "2023-04-24T15:45:43.597936Z"
    },
    "code_folding": [
     0
    ]
   },
   "outputs": [],
   "source": [
    "def __read_pickle(config, path, filename):\n",
    "    \n",
    "    import pickle\n",
    "\n",
    "    with open(path+filename, 'rb') as f:\n",
    "        triggerfile = pickle.load(f)\n",
    "        \n",
    "    return triggerfile"
   ]
  },
  {
   "cell_type": "code",
   "execution_count": 8,
   "id": "0b876eda",
   "metadata": {
    "ExecuteTime": {
     "end_time": "2023-04-24T15:45:44.292705Z",
     "start_time": "2023-04-24T15:45:43.760803Z"
    }
   },
   "outputs": [],
   "source": [
    "trigger_events = __read_pickle(config, config['output_path'], \"trigger_all.pkl\")"
   ]
  },
  {
   "cell_type": "code",
   "execution_count": 23,
   "id": "d143da0c",
   "metadata": {
    "ExecuteTime": {
     "end_time": "2023-04-25T07:50:55.970767Z",
     "start_time": "2023-04-25T07:50:55.962168Z"
    }
   },
   "outputs": [],
   "source": [
    "times, cosum = [], []\n",
    "ref_time = obs.UTCDateTime(\"2022-10-01\")\n",
    "\n",
    "for trig in trigger_events:\n",
    "    times.append(trig['time'])\n",
    "    cosum.append(trig['coincidence_sum'])\n",
    "    \n",
    "rel_times = [(t-ref_time)/86400 for t in times]\n",
    "trigger_times = [t for t in times]"
   ]
  },
  {
   "cell_type": "code",
   "execution_count": 26,
   "id": "c3a2aec4",
   "metadata": {
    "ExecuteTime": {
     "end_time": "2023-04-16T18:58:31.949259Z",
     "start_time": "2023-04-16T18:58:31.945973Z"
    }
   },
   "outputs": [],
   "source": [
    "# __read_pickle(config, \"./\", \"BSPF_event_catalog.pkl\")"
   ]
  },
  {
   "cell_type": "code",
   "execution_count": 17,
   "id": "e8e917ff",
   "metadata": {
    "ExecuteTime": {
     "end_time": "2023-04-25T07:48:37.691786Z",
     "start_time": "2023-04-25T07:48:19.675929Z"
    }
   },
   "outputs": [
    {
     "name": "stdout",
     "output_type": "stream",
     "text": [
      "4969 73\n"
     ]
    }
   ],
   "source": [
    "## read catalog\n",
    "cat = obs.read_events(config['dir_data']+\"events_all.xml\")\n",
    "\n",
    "print(len(cat), len(trigger_events))"
   ]
  },
  {
   "cell_type": "code",
   "execution_count": 26,
   "id": "765d69de",
   "metadata": {
    "ExecuteTime": {
     "end_time": "2023-04-25T07:51:24.699444Z",
     "start_time": "2023-04-25T07:51:24.646101Z"
    },
    "code_folding": []
   },
   "outputs": [
    {
     "ename": "NameError",
     "evalue": "name 'events_times' is not defined",
     "output_type": "error",
     "traceback": [
      "\u001b[0;31m---------------------------------------------------------------------------\u001b[0m",
      "\u001b[0;31mNameError\u001b[0m                                 Traceback (most recent call last)",
      "\u001b[0;32m/tmp/ipykernel_106429/4125286859.py\u001b[0m in \u001b[0;36m<module>\u001b[0;34m\u001b[0m\n\u001b[1;32m     37\u001b[0m     \u001b[0;32mreturn\u001b[0m \u001b[0mnp\u001b[0m\u001b[0;34m.\u001b[0m\u001b[0marray\u001b[0m\u001b[0;34m(\u001b[0m\u001b[0mmatches\u001b[0m\u001b[0;34m)\u001b[0m\u001b[0;34m,\u001b[0m \u001b[0mnp\u001b[0m\u001b[0;34m.\u001b[0m\u001b[0marray\u001b[0m\u001b[0;34m(\u001b[0m\u001b[0mevents_triggered\u001b[0m\u001b[0;34m)\u001b[0m\u001b[0;34m,\u001b[0m \u001b[0mcat_sel\u001b[0m\u001b[0;34m\u001b[0m\u001b[0;34m\u001b[0m\u001b[0m\n\u001b[1;32m     38\u001b[0m \u001b[0;34m\u001b[0m\u001b[0m\n\u001b[0;32m---> 39\u001b[0;31m \u001b[0mmatches\u001b[0m\u001b[0;34m,\u001b[0m \u001b[0mevents_triggered\u001b[0m\u001b[0;34m,\u001b[0m \u001b[0mcat_select\u001b[0m \u001b[0;34m=\u001b[0m \u001b[0m__find_matches\u001b[0m\u001b[0;34m(\u001b[0m\u001b[0mtrigger_times\u001b[0m\u001b[0;34m,\u001b[0m \u001b[0mcat\u001b[0m\u001b[0;34m,\u001b[0m \u001b[0mmax_time_difference\u001b[0m\u001b[0;34m=\u001b[0m\u001b[0;36m60\u001b[0m\u001b[0;34m)\u001b[0m\u001b[0;34m\u001b[0m\u001b[0;34m\u001b[0m\u001b[0m\n\u001b[0m\u001b[1;32m     40\u001b[0m \u001b[0;34m\u001b[0m\u001b[0m\n\u001b[1;32m     41\u001b[0m \u001b[0;31m# len(events_triggered), len(matches)\u001b[0m\u001b[0;34m\u001b[0m\u001b[0;34m\u001b[0m\u001b[0;34m\u001b[0m\u001b[0m\n",
      "\u001b[0;32m/tmp/ipykernel_106429/4125286859.py\u001b[0m in \u001b[0;36m__find_matches\u001b[0;34m(trigger_times, catalog, max_time_difference)\u001b[0m\n\u001b[1;32m     20\u001b[0m         \u001b[0mtime_diffs\u001b[0m\u001b[0;34m.\u001b[0m\u001b[0mappend\u001b[0m\u001b[0;34m(\u001b[0m\u001b[0mt_min\u001b[0m\u001b[0;34m)\u001b[0m\u001b[0;34m\u001b[0m\u001b[0;34m\u001b[0m\u001b[0m\n\u001b[1;32m     21\u001b[0m         \u001b[0mmatches\u001b[0m\u001b[0;34m.\u001b[0m\u001b[0mappend\u001b[0m\u001b[0;34m(\u001b[0m\u001b[0mtrigger_time\u001b[0m\u001b[0;34m)\u001b[0m\u001b[0;34m\u001b[0m\u001b[0;34m\u001b[0m\u001b[0m\n\u001b[0;32m---> 22\u001b[0;31m         \u001b[0mevents_triggered\u001b[0m\u001b[0;34m.\u001b[0m\u001b[0mappend\u001b[0m\u001b[0;34m(\u001b[0m\u001b[0mevents_times\u001b[0m\u001b[0;34m[\u001b[0m\u001b[0mt_idx\u001b[0m\u001b[0;34m]\u001b[0m\u001b[0;34m)\u001b[0m\u001b[0;34m\u001b[0m\u001b[0;34m\u001b[0m\u001b[0m\n\u001b[0m\u001b[1;32m     23\u001b[0m         \u001b[0mevent_idxs\u001b[0m\u001b[0;34m.\u001b[0m\u001b[0mappend\u001b[0m\u001b[0;34m(\u001b[0m\u001b[0mt_idx\u001b[0m\u001b[0;34m)\u001b[0m\u001b[0;34m\u001b[0m\u001b[0;34m\u001b[0m\u001b[0m\n\u001b[1;32m     24\u001b[0m \u001b[0;34m\u001b[0m\u001b[0m\n",
      "\u001b[0;31mNameError\u001b[0m: name 'events_times' is not defined"
     ]
    }
   ],
   "source": [
    "def __find_matches(trigger_times, catalog, max_time_difference=60):\n",
    "\n",
    "    matches, time_diffs, events_triggered, event_idxs = [], [], [], []\n",
    "\n",
    "    ## extract origin times from catalog\n",
    "    event_times = [cat.events[j].origins[0].time for j in range(len(cat))]\n",
    "    \n",
    "    \n",
    "    for trigger_time in trigger_times:\n",
    "\n",
    "        ## compute time differences in seconds\n",
    "        diff = [event_time-trigger_time for event_time in event_times]\n",
    "        \n",
    "        ## only the ones before the trigger in time\n",
    "        abs_diff = [abs(d) for d in diff if d < 0]\n",
    "        \n",
    "        ## get closest event\n",
    "        t_min, t_idx = min(abs_diff), diff.index(-min(abs_diff))\n",
    "                \n",
    "        time_diffs.append(t_min)\n",
    "        matches.append(trigger_time)\n",
    "        events_triggered.append(events_times[t_idx])\n",
    "        event_idxs.append(t_idx)\n",
    "        \n",
    "    cat_sel = [cat.events[idx] for idx in idxs]\n",
    "        \n",
    "        \n",
    "    t_days = [(match-obs.UTCDateTime(\"2022-10-01\"))/86400 for match in matches]\n",
    "    plt.figure(figsize=(15,5))\n",
    "    plt.scatter(t_days, time_diffs, zorder=2, s=5)\n",
    "    plt.yscale(\"log\")\n",
    "    plt.grid(which=\"both\", zorder=-1, ls=\":\")\n",
    "    plt.ylabel(\"Time Differences (s)\")\n",
    "    plt.xlabel(\"Time (days)\")\n",
    "    plt.xlim(0, 190)\n",
    "    \n",
    "    return np.array(matches), np.array(events_triggered), cat_sel\n",
    "\n",
    "matches, events_triggered, cat_select = __find_matches(trigger_times, cat, max_time_difference=60)\n",
    "\n",
    "# len(events_triggered), len(matches)"
   ]
  },
  {
   "cell_type": "code",
   "execution_count": 19,
   "id": "2736bb95",
   "metadata": {
    "ExecuteTime": {
     "end_time": "2023-04-25T07:49:07.741678Z",
     "start_time": "2023-04-25T07:49:07.730205Z"
    }
   },
   "outputs": [
    {
     "ename": "NameError",
     "evalue": "name 'cat_select' is not defined",
     "output_type": "error",
     "traceback": [
      "\u001b[0;31m---------------------------------------------------------------------------\u001b[0m",
      "\u001b[0;31mNameError\u001b[0m                                 Traceback (most recent call last)",
      "\u001b[0;32m/tmp/ipykernel_106429/3928888301.py\u001b[0m in \u001b[0;36m<module>\u001b[0;34m\u001b[0m\n\u001b[0;32m----> 1\u001b[0;31m \u001b[0mcat_select\u001b[0m\u001b[0;34m\u001b[0m\u001b[0;34m\u001b[0m\u001b[0m\n\u001b[0m",
      "\u001b[0;31mNameError\u001b[0m: name 'cat_select' is not defined"
     ]
    }
   ],
   "source": [
    "cat_select"
   ]
  },
  {
   "cell_type": "code",
   "execution_count": 71,
   "id": "7901c224",
   "metadata": {
    "ExecuteTime": {
     "end_time": "2023-04-16T19:17:45.999884Z",
     "start_time": "2023-04-16T19:17:45.993107Z"
    }
   },
   "outputs": [
    {
     "data": {
      "text/plain": [
       "({'time': 2023-03-31T13:37:05.044538Z,\n",
       "  'stations': ['PFO', 'PFO', 'PFO', 'BSPF'],\n",
       "  'trace_ids': ['II.PFO.10.BHZ',\n",
       "   'II.PFO.10.BH1',\n",
       "   'II.PFO.10.BH2',\n",
       "   'PY.BSPF..HJ2'],\n",
       "  'coincidence_sum': 4.0,\n",
       "  'similarity': {},\n",
       "  'duration': 49.34999990463257},\n",
       " Event:\t2023-03-30T23:07:26.570000Z | +33.593, -116.808 | 0.99 ml | manual\n",
       "\n",
       "\t            resource_id: ResourceIdentifier(id=\"quakeml:earthquake.usgs.gov/fdsnws/event/1/query?eventid=ci39507906&format=quakeml\")\n",
       "\t             event_type: 'earthquake'\n",
       "\t          creation_info: CreationInfo(agency_id='ci', creation_time=UTCDateTime(2023, 3, 31, 0, 5, 44, 1000), version='5')\n",
       "\t    preferred_origin_id: ResourceIdentifier(id=\"quakeml:earthquake.usgs.gov/product/origin/ci39507906/ci/1680221141130/product.xml\")\n",
       "\t preferred_magnitude_id: ResourceIdentifier(id=\"quakeml:earthquake.usgs.gov/product/origin/ci39507906/ci/1680221141130/product.xml#magnitude\")\n",
       "\t                   ---------\n",
       "\t     event_descriptions: 1 Elements\n",
       "\t                origins: 1 Elements\n",
       "\t             magnitudes: 1 Elements)"
      ]
     },
     "execution_count": 71,
     "metadata": {},
     "output_type": "execute_result"
    }
   ],
   "source": [
    "trigger_events[-1], events.events[t_idx]"
   ]
  },
  {
   "cell_type": "markdown",
   "id": "3ac8d532",
   "metadata": {},
   "source": [
    "## Process Data"
   ]
  },
  {
   "cell_type": "code",
   "execution_count": null,
   "id": "debea5c3",
   "metadata": {},
   "outputs": [],
   "source": []
  },
  {
   "cell_type": "code",
   "execution_count": null,
   "id": "98ea9ffe",
   "metadata": {
    "ExecuteTime": {
     "end_time": "2023-04-14T10:06:30.041176Z",
     "start_time": "2023-04-14T10:06:29.371456Z"
    }
   },
   "outputs": [],
   "source": [
    "st_xpfo_proc = st_xpfo.copy()\n",
    "st_xpfo_proc.remove_response(inventory=inv_xpfo)\n",
    "\n",
    "st_bspf_proc = st_bspf.copy()\n",
    "st_bspf_proc.remove_sensitivity(inventory=inv_bspf)\n",
    "st_bspf_proc.resample(40.0)"
   ]
  },
  {
   "cell_type": "code",
   "execution_count": null,
   "id": "a6e8a3f7",
   "metadata": {
    "ExecuteTime": {
     "end_time": "2023-04-14T10:06:30.042665Z",
     "start_time": "2023-04-14T10:06:29.752Z"
    }
   },
   "outputs": [],
   "source": [
    "st = obs.Stream()\n",
    "\n",
    "st += st_bspf_proc.copy()\n",
    "st += st_xpfo_proc.copy()\n",
    "\n",
    "st.detrend(\"linear\")\n",
    "st.taper(0.01)\n",
    "st.filter('bandpass', freqmin=1.0, freqmax=20.0, corners=4, zerophase=True)  # optional prefiltering"
   ]
  },
  {
   "cell_type": "code",
   "execution_count": null,
   "id": "62737240",
   "metadata": {
    "ExecuteTime": {
     "start_time": "2023-04-14T10:03:35.753Z"
    }
   },
   "outputs": [],
   "source": [
    "st.plot(equal_scale=False);"
   ]
  },
  {
   "cell_type": "code",
   "execution_count": null,
   "id": "971a2fe6",
   "metadata": {},
   "outputs": [],
   "source": []
  },
  {
   "cell_type": "code",
   "execution_count": 1,
   "id": "3c17a916",
   "metadata": {
    "ExecuteTime": {
     "end_time": "2023-04-14T12:44:49.234244Z",
     "start_time": "2023-04-14T12:44:49.217497Z"
    }
   },
   "outputs": [],
   "source": []
  },
  {
   "cell_type": "code",
   "execution_count": null,
   "id": "b120645a",
   "metadata": {
    "ExecuteTime": {
     "end_time": "2023-04-14T12:46:18.177856Z",
     "start_time": "2023-04-14T12:45:35.183424Z"
    }
   },
   "outputs": [],
   "source": []
  },
  {
   "cell_type": "code",
   "execution_count": null,
   "id": "4ae39900",
   "metadata": {},
   "outputs": [],
   "source": []
  }
 ],
 "metadata": {
  "kernelspec": {
   "display_name": "Python 3 (ipykernel)",
   "language": "python",
   "name": "python3"
  },
  "language_info": {
   "codemirror_mode": {
    "name": "ipython",
    "version": 3
   },
   "file_extension": ".py",
   "mimetype": "text/x-python",
   "name": "python",
   "nbconvert_exporter": "python",
   "pygments_lexer": "ipython3",
   "version": "3.7.8"
  },
  "toc": {
   "base_numbering": 1,
   "nav_menu": {},
   "number_sections": true,
   "sideBar": true,
   "skip_h1_title": false,
   "title_cell": "Table of Contents",
   "title_sidebar": "Contents",
   "toc_cell": false,
   "toc_position": {},
   "toc_section_display": true,
   "toc_window_display": false
  },
  "varInspector": {
   "cols": {
    "lenName": 16,
    "lenType": 16,
    "lenVar": 40
   },
   "kernels_config": {
    "python": {
     "delete_cmd_postfix": "",
     "delete_cmd_prefix": "del ",
     "library": "var_list.py",
     "varRefreshCmd": "print(var_dic_list())"
    },
    "r": {
     "delete_cmd_postfix": ") ",
     "delete_cmd_prefix": "rm(",
     "library": "var_list.r",
     "varRefreshCmd": "cat(var_dic_list()) "
    }
   },
   "types_to_exclude": [
    "module",
    "function",
    "builtin_function_or_method",
    "instance",
    "_Feature"
   ],
   "window_display": false
  }
 },
 "nbformat": 4,
 "nbformat_minor": 5
}
