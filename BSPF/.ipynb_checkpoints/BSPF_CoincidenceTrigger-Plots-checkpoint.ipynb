{
 "cells": [
  {
   "cell_type": "markdown",
   "id": "f1800f58",
   "metadata": {},
   "source": [
    "# Plot Coincidence Trigger"
   ]
  },
  {
   "cell_type": "markdown",
   "id": "d92f0fb4",
   "metadata": {},
   "source": [
    "## Import Libraries"
   ]
  },
  {
   "cell_type": "code",
   "execution_count": 62,
   "id": "77b73fe9",
   "metadata": {
    "ExecuteTime": {
     "end_time": "2023-04-16T19:12:18.129252Z",
     "start_time": "2023-04-16T19:12:18.125561Z"
    }
   },
   "outputs": [],
   "source": [
    "import os, sys\n",
    "import obspy as obs\n",
    "import matplotlib.pyplot as plt\n",
    "\n",
    "from obspy.clients.fdsn import Client\n",
    "from obspy.signal.trigger import coincidence_trigger\n",
    "from numpy import sort, argmin"
   ]
  },
  {
   "cell_type": "markdown",
   "id": "eaa20692",
   "metadata": {},
   "source": [
    "## Configurations"
   ]
  },
  {
   "cell_type": "code",
   "execution_count": 11,
   "id": "8e926584",
   "metadata": {
    "ExecuteTime": {
     "end_time": "2023-04-16T13:03:42.494782Z",
     "start_time": "2023-04-16T13:03:42.485699Z"
    }
   },
   "outputs": [],
   "source": [
    "config = {}\n",
    "\n",
    "## before 2023-04-01\n",
    "config['seeds'] = {\"rotation\":\"PY.BSPF..HJ*\", \"translation\":\"II.PFO.10.BH*\"}\n",
    "## after 2023-04-01\n",
    "# config['seeds'] = [\"PY.BSPF..HJ*\", \"PY.PFOIX..HH*\"]\n",
    "\n",
    "\n",
    "config['output_path'] = \"/home/andbro/kilauea-data/BSPF/trigger/\"\n",
    "# config['output_path'] = \"/import/kilauea-data/BSPF/trigger/\"\n",
    "\n",
    "\n",
    "config['client'] = Client(\"IRIS\")"
   ]
  },
  {
   "cell_type": "code",
   "execution_count": null,
   "id": "6bf383e0",
   "metadata": {
    "ExecuteTime": {
     "end_time": "2023-04-16T13:03:22.582609Z",
     "start_time": "2023-04-16T13:03:22.582586Z"
    }
   },
   "outputs": [],
   "source": [
    "# !ls /import/kilauea-data/BSPF/trigger/tmp"
   ]
  },
  {
   "cell_type": "markdown",
   "id": "625335fc",
   "metadata": {},
   "source": [
    "## Load Data"
   ]
  },
  {
   "cell_type": "code",
   "execution_count": 5,
   "id": "9e516b95",
   "metadata": {
    "ExecuteTime": {
     "end_time": "2023-04-16T13:03:34.475069Z",
     "start_time": "2023-04-16T13:03:34.467730Z"
    },
    "code_folding": [
     0
    ]
   },
   "outputs": [],
   "source": [
    "def __request_data(seed, client, tbeg, tend):\n",
    "\n",
    "#     print(seed)\n",
    "    net, sta, loc, cha = seed.split(\".\")\n",
    "\n",
    "    try:\n",
    "        inventory = client.get_stations(network=net, \n",
    "                                         station=sta,\n",
    "                                         starttime=tbeg,\n",
    "                                         endtime=tend,\n",
    "                                         level=\"response\",\n",
    "                                         )\n",
    "    except:\n",
    "        print(f\" -> Failed to load inventory for {seed}!\")\n",
    "        return\n",
    "\n",
    "    try:\n",
    "        waveform = client.get_waveforms(network=net,\n",
    "                                       station=sta,\n",
    "                                       location=loc,\n",
    "                                       channel=cha, \n",
    "                                       starttime=tbeg-60,\n",
    "                                       endtime=tend+60,\n",
    "                                       )\n",
    "\n",
    "    except:\n",
    "        print(f\" -> Failed to load waveforms for {seed}!\")\n",
    "        return\n",
    "    \n",
    "    return waveform, inventory"
   ]
  },
  {
   "cell_type": "code",
   "execution_count": 6,
   "id": "5579f31a",
   "metadata": {
    "ExecuteTime": {
     "end_time": "2023-04-16T13:03:35.031713Z",
     "start_time": "2023-04-16T13:03:35.028820Z"
    }
   },
   "outputs": [],
   "source": [
    "# st_xpfo, inv_xpfo = __request_data(config['seeds']['translation'], config['client'], config['tbeg'], config['tend'])"
   ]
  },
  {
   "cell_type": "code",
   "execution_count": 7,
   "id": "69c79b5e",
   "metadata": {
    "ExecuteTime": {
     "end_time": "2023-04-16T13:03:35.332365Z",
     "start_time": "2023-04-16T13:03:35.329762Z"
    }
   },
   "outputs": [],
   "source": [
    "# st_bspf, inv_bspf = __request_data(config['seeds']['rotation'], config['client'], config['tbeg'], config['tend'])"
   ]
  },
  {
   "cell_type": "markdown",
   "id": "438346ca",
   "metadata": {},
   "source": [
    "## Load Triggered Events"
   ]
  },
  {
   "cell_type": "code",
   "execution_count": 18,
   "id": "52ad588f",
   "metadata": {
    "ExecuteTime": {
     "end_time": "2023-04-16T18:55:05.444172Z",
     "start_time": "2023-04-16T18:55:05.432279Z"
    },
    "code_folding": [
     0
    ]
   },
   "outputs": [],
   "source": [
    "def __read_pickle(config, path, filename):\n",
    "    \n",
    "    import pickle\n",
    "\n",
    "    with open(path+filename, 'rb') as f:\n",
    "        triggerfile = pickle.load(f)\n",
    "        \n",
    "    return triggerfile"
   ]
  },
  {
   "cell_type": "code",
   "execution_count": 19,
   "id": "0b876eda",
   "metadata": {
    "ExecuteTime": {
     "end_time": "2023-04-16T18:55:06.346365Z",
     "start_time": "2023-04-16T18:55:05.669122Z"
    }
   },
   "outputs": [],
   "source": [
    "trigger_events = __read_pickle(config, config['output_path'], \"trigger_all.pkl\")"
   ]
  },
  {
   "cell_type": "code",
   "execution_count": 13,
   "id": "d143da0c",
   "metadata": {
    "ExecuteTime": {
     "end_time": "2023-04-16T13:03:45.447918Z",
     "start_time": "2023-04-16T13:03:45.439296Z"
    }
   },
   "outputs": [
    {
     "name": "stdout",
     "output_type": "stream",
     "text": [
      "{'time': UTCDateTime(2022, 10, 2, 3, 25, 19, 344538), 'stations': ['PFO', 'PFO', 'PFO', 'BSPF'], 'trace_ids': ['II.PFO.10.BH1', 'II.PFO.10.BHZ', 'II.PFO.10.BH2', 'PY.BSPF..HJ2'], 'coincidence_sum': 4.0, 'similarity': {}, 'duration': 42.52499985694885}\n",
      "{'time': UTCDateTime(2022, 10, 3, 16, 8, 19, 219538), 'stations': ['PFO', 'PFO', 'PFO', 'BSPF', 'BSPF', 'BSPF'], 'trace_ids': ['II.PFO.10.BHZ', 'II.PFO.10.BH2', 'II.PFO.10.BH1', 'PY.BSPF..HJ2', 'PY.BSPF..HJ1', 'PY.BSPF..HJ3'], 'coincidence_sum': 6.0, 'similarity': {}, 'duration': 50.0}\n",
      "{'time': UTCDateTime(2022, 10, 3, 16, 8, 19, 219538), 'stations': ['PFO', 'PFO', 'PFO', 'BSPF', 'BSPF', 'BSPF'], 'trace_ids': ['II.PFO.10.BHZ', 'II.PFO.10.BH2', 'II.PFO.10.BH1', 'PY.BSPF..HJ2', 'PY.BSPF..HJ1', 'PY.BSPF..HJ3'], 'coincidence_sum': 6.0, 'similarity': {}, 'duration': 50.0}\n",
      "{'time': UTCDateTime(2022, 10, 5, 15, 39, 18, 894539), 'stations': ['PFO', 'PFO', 'PFO', 'BSPF'], 'trace_ids': ['II.PFO.10.BHZ', 'II.PFO.10.BH2', 'II.PFO.10.BH1', 'PY.BSPF..HJ2'], 'coincidence_sum': 4.0, 'similarity': {}, 'duration': 59.424999713897705}\n",
      "{'time': UTCDateTime(2022, 10, 7, 22, 45, 15, 969539), 'stations': ['PFO', 'PFO', 'PFO', 'BSPF', 'BSPF'], 'trace_ids': ['II.PFO.10.BH1', 'II.PFO.10.BHZ', 'II.PFO.10.BH2', 'PY.BSPF..HJ2', 'PY.BSPF..HJ1'], 'coincidence_sum': 5.0, 'similarity': {}, 'duration': 51.44999980926514}\n",
      "{'time': UTCDateTime(2022, 10, 8, 2, 52, 36, 369539), 'stations': ['PFO', 'PFO', 'PFO', 'BSPF'], 'trace_ids': ['II.PFO.10.BHZ', 'II.PFO.10.BH1', 'II.PFO.10.BH2', 'PY.BSPF..HJ2'], 'coincidence_sum': 4.0, 'similarity': {}, 'duration': 42.799999952316284}\n",
      "{'time': UTCDateTime(2022, 10, 15, 5, 17, 36, 519538), 'stations': ['PFO', 'PFO', 'PFO', 'BSPF', 'BSPF', 'BSPF'], 'trace_ids': ['II.PFO.10.BH1', 'II.PFO.10.BHZ', 'II.PFO.10.BH2', 'PY.BSPF..HJ2', 'PY.BSPF..HJ1', 'PY.BSPF..HJ3'], 'coincidence_sum': 6.0, 'similarity': {}, 'duration': 43.575000047683716}\n",
      "{'time': UTCDateTime(2022, 10, 17, 5, 25, 36, 319539), 'stations': ['PFO', 'PFO', 'PFO', 'BSPF'], 'trace_ids': ['II.PFO.10.BHZ', 'II.PFO.10.BH2', 'II.PFO.10.BH1', 'PY.BSPF..HJ2'], 'coincidence_sum': 4.0, 'similarity': {}, 'duration': 47.75000023841858}\n",
      "{'time': UTCDateTime(2022, 10, 23, 9, 24, 59, 994538), 'stations': ['PFO', 'PFO', 'PFO', 'BSPF', 'BSPF', 'BSPF'], 'trace_ids': ['II.PFO.10.BH1', 'II.PFO.10.BHZ', 'II.PFO.10.BH2', 'PY.BSPF..HJ3', 'PY.BSPF..HJ1', 'PY.BSPF..HJ2'], 'coincidence_sum': 6.0, 'similarity': {}, 'duration': 44.299999952316284}\n",
      "{'time': UTCDateTime(2022, 10, 25, 3, 55, 36, 344538), 'stations': ['PFO', 'PFO', 'PFO', 'BSPF'], 'trace_ids': ['II.PFO.10.BH1', 'II.PFO.10.BHZ', 'II.PFO.10.BH2', 'PY.BSPF..HJ2'], 'coincidence_sum': 4.0, 'similarity': {}, 'duration': 45.424999952316284}\n",
      "{'time': UTCDateTime(2022, 10, 25, 3, 55, 40, 19538), 'stations': ['PFO', 'PFO', 'PFO', 'BSPF', 'BSPF'], 'trace_ids': ['II.PFO.10.BH1', 'II.PFO.10.BHZ', 'II.PFO.10.BH2', 'PY.BSPF..HJ2', 'PY.BSPF..HJ1'], 'coincidence_sum': 5.0, 'similarity': {}, 'duration': 41.75000023841858}\n",
      "{'time': UTCDateTime(2022, 10, 26, 8, 14, 20, 294538), 'stations': ['PFO', 'PFO', 'PFO', 'BSPF', 'BSPF', 'BSPF'], 'trace_ids': ['II.PFO.10.BHZ', 'II.PFO.10.BH2', 'II.PFO.10.BH1', 'PY.BSPF..HJ2', 'PY.BSPF..HJ3', 'PY.BSPF..HJ1'], 'coincidence_sum': 6.0, 'similarity': {}, 'duration': 70.35000014305115}\n",
      "{'time': UTCDateTime(2022, 12, 1, 15, 28, 44, 744539), 'stations': ['PFO', 'PFO', 'PFO', 'BSPF', 'BSPF'], 'trace_ids': ['II.PFO.10.BHZ', 'II.PFO.10.BH1', 'II.PFO.10.BH2', 'PY.BSPF..HJ2', 'PY.BSPF..HJ1'], 'coincidence_sum': 5.0, 'similarity': {}, 'duration': 55.30000019073486}\n",
      "{'time': UTCDateTime(2022, 12, 21, 0, 46, 20, 219538), 'stations': ['PFO', 'PFO', 'PFO', 'BSPF', 'BSPF'], 'trace_ids': ['II.PFO.10.BHZ', 'II.PFO.10.BH1', 'II.PFO.10.BH2', 'PY.BSPF..HJ2', 'PY.BSPF..HJ1'], 'coincidence_sum': 5.0, 'similarity': {}, 'duration': 48.85000014305115}\n",
      "{'time': UTCDateTime(2022, 12, 21, 0, 46, 20, 219538), 'stations': ['PFO', 'PFO', 'PFO', 'BSPF', 'BSPF'], 'trace_ids': ['II.PFO.10.BHZ', 'II.PFO.10.BH1', 'II.PFO.10.BH2', 'PY.BSPF..HJ2', 'PY.BSPF..HJ1'], 'coincidence_sum': 5.0, 'similarity': {}, 'duration': 48.85000014305115}\n",
      "{'time': UTCDateTime(2022, 12, 25, 18, 53, 21, 769536), 'stations': ['PFO', 'PFO', 'PFO', 'BSPF', 'BSPF'], 'trace_ids': ['II.PFO.10.BHZ', 'II.PFO.10.BH1', 'II.PFO.10.BH2', 'PY.BSPF..HJ2', 'PY.BSPF..HJ1'], 'coincidence_sum': 5.0, 'similarity': {}, 'duration': 47.32499980926514}\n",
      "{'time': UTCDateTime(2022, 12, 31, 11, 41, 5, 819538), 'stations': ['PFO', 'PFO', 'PFO', 'BSPF', 'BSPF'], 'trace_ids': ['II.PFO.10.BHZ', 'II.PFO.10.BH1', 'II.PFO.10.BH2', 'PY.BSPF..HJ2', 'PY.BSPF..HJ1'], 'coincidence_sum': 5.0, 'similarity': {}, 'duration': 73.52500033378601}\n",
      "{'time': UTCDateTime(2022, 12, 31, 12, 12, 29, 969538), 'stations': ['PFO', 'PFO', 'PFO', 'BSPF', 'BSPF', 'BSPF'], 'trace_ids': ['II.PFO.10.BH1', 'II.PFO.10.BHZ', 'II.PFO.10.BH2', 'PY.BSPF..HJ1', 'PY.BSPF..HJ3', 'PY.BSPF..HJ2'], 'coincidence_sum': 6.0, 'similarity': {}, 'duration': 47.27500009536743}\n",
      "{'time': UTCDateTime(2023, 1, 2, 3, 20, 22, 144538), 'stations': ['PFO', 'PFO', 'PFO', 'BSPF'], 'trace_ids': ['II.PFO.10.BH1', 'II.PFO.10.BHZ', 'II.PFO.10.BH2', 'PY.BSPF..HJ2'], 'coincidence_sum': 4.0, 'similarity': {}, 'duration': 46.24999976158142}\n",
      "{'time': UTCDateTime(2023, 1, 5, 10, 0, 37, 244538), 'stations': ['PFO', 'PFO', 'PFO', 'BSPF'], 'trace_ids': ['II.PFO.10.BHZ', 'II.PFO.10.BH1', 'II.PFO.10.BH2', 'PY.BSPF..HJ2'], 'coincidence_sum': 4.0, 'similarity': {}, 'duration': 46.57499980926514}\n",
      "{'time': UTCDateTime(2023, 1, 5, 10, 0, 37, 244538), 'stations': ['PFO', 'PFO', 'PFO', 'BSPF'], 'trace_ids': ['II.PFO.10.BHZ', 'II.PFO.10.BH1', 'II.PFO.10.BH2', 'PY.BSPF..HJ2'], 'coincidence_sum': 4.0, 'similarity': {}, 'duration': 46.57499980926514}\n",
      "{'time': UTCDateTime(2023, 1, 5, 23, 26, 26, 994538), 'stations': ['PFO', 'PFO', 'PFO', 'BSPF'], 'trace_ids': ['II.PFO.10.BHZ', 'II.PFO.10.BH2', 'II.PFO.10.BH1', 'PY.BSPF..HJ2'], 'coincidence_sum': 4.0, 'similarity': {}, 'duration': 43.19999980926514}\n",
      "{'time': UTCDateTime(2023, 1, 9, 19, 43, 0, 219539), 'stations': ['PFO', 'PFO', 'PFO', 'BSPF', 'BSPF', 'BSPF'], 'trace_ids': ['II.PFO.10.BH1', 'II.PFO.10.BHZ', 'II.PFO.10.BH2', 'PY.BSPF..HJ2', 'PY.BSPF..HJ1', 'PY.BSPF..HJ3'], 'coincidence_sum': 6.0, 'similarity': {}, 'duration': 47.27500009536743}\n",
      "{'time': UTCDateTime(2023, 1, 11, 18, 59, 25, 244538), 'stations': ['PFO', 'PFO', 'PFO', 'BSPF', 'BSPF', 'BSPF'], 'trace_ids': ['II.PFO.10.BH2', 'II.PFO.10.BHZ', 'II.PFO.10.BH1', 'PY.BSPF..HJ2', 'PY.BSPF..HJ1', 'PY.BSPF..HJ3'], 'coincidence_sum': 6.0, 'similarity': {}, 'duration': 47.200000047683716}\n",
      "{'time': UTCDateTime(2023, 1, 11, 18, 59, 25, 144538), 'stations': ['PFO', 'PFO', 'PFO', 'BSPF', 'BSPF', 'BSPF'], 'trace_ids': ['II.PFO.10.BHZ', 'II.PFO.10.BH2', 'II.PFO.10.BH1', 'PY.BSPF..HJ2', 'PY.BSPF..HJ1', 'PY.BSPF..HJ3'], 'coincidence_sum': 6.0, 'similarity': {}, 'duration': 47.299999952316284}\n",
      "{'time': UTCDateTime(2023, 1, 12, 19, 9, 15, 563200), 'stations': ['BSPF', 'BSPF', 'BSPF', 'PFO', 'PFO', 'PFO'], 'trace_ids': ['PY.BSPF..HJ1', 'PY.BSPF..HJ2', 'PY.BSPF..HJ3', 'II.PFO.10.BH2', 'II.PFO.10.BH1', 'II.PFO.10.BHZ'], 'coincidence_sum': 6.0, 'similarity': {}, 'duration': 104.40000009536743}\n",
      "{'time': UTCDateTime(2023, 1, 15, 9, 58, 58, 494538), 'stations': ['PFO', 'PFO', 'PFO', 'BSPF'], 'trace_ids': ['II.PFO.10.BHZ', 'II.PFO.10.BH1', 'II.PFO.10.BH2', 'PY.BSPF..HJ2'], 'coincidence_sum': 4.0, 'similarity': {}, 'duration': 43.674999952316284}\n",
      "{'time': UTCDateTime(2023, 1, 15, 9, 58, 58, 469538), 'stations': ['PFO', 'PFO', 'PFO', 'BSPF'], 'trace_ids': ['II.PFO.10.BHZ', 'II.PFO.10.BH1', 'II.PFO.10.BH2', 'PY.BSPF..HJ2'], 'coincidence_sum': 4.0, 'similarity': {}, 'duration': 43.72499990463257}\n",
      "{'time': UTCDateTime(2023, 1, 18, 18, 44, 44, 69538), 'stations': ['PFO', 'PFO', 'PFO', 'BSPF'], 'trace_ids': ['II.PFO.10.BHZ', 'II.PFO.10.BH1', 'II.PFO.10.BH2', 'PY.BSPF..HJ2'], 'coincidence_sum': 4.0, 'similarity': {}, 'duration': 43.200000047683716}\n",
      "{'time': UTCDateTime(2023, 1, 20, 22, 36, 58, 619538), 'stations': ['PFO', 'PFO', 'PFO', 'BSPF'], 'trace_ids': ['II.PFO.10.BHZ', 'II.PFO.10.BH2', 'II.PFO.10.BH1', 'PY.BSPF..HJ2'], 'coincidence_sum': 4.0, 'similarity': {}, 'duration': 43.27500009536743}\n",
      "{'time': UTCDateTime(2023, 1, 21, 12, 5, 57, 419538), 'stations': ['PFO', 'PFO', 'PFO', 'BSPF', 'BSPF'], 'trace_ids': ['II.PFO.10.BHZ', 'II.PFO.10.BH2', 'II.PFO.10.BH1', 'PY.BSPF..HJ2', 'PY.BSPF..HJ1'], 'coincidence_sum': 5.0, 'similarity': {}, 'duration': 44.799999952316284}\n",
      "{'time': UTCDateTime(2023, 1, 21, 12, 5, 57, 419538), 'stations': ['PFO', 'PFO', 'PFO', 'BSPF'], 'trace_ids': ['II.PFO.10.BHZ', 'II.PFO.10.BH2', 'II.PFO.10.BH1', 'PY.BSPF..HJ2'], 'coincidence_sum': 4.0, 'similarity': {}, 'duration': 44.799999952316284}\n",
      "{'time': UTCDateTime(2023, 1, 23, 2, 8, 0, 892900), 'stations': ['BSPF', 'BSPF', 'BSPF', 'PFO', 'PFO', 'PFO'], 'trace_ids': ['PY.BSPF..HJ2', 'PY.BSPF..HJ1', 'PY.BSPF..HJ3', 'II.PFO.10.BHZ', 'II.PFO.10.BH2', 'II.PFO.10.BH1'], 'coincidence_sum': 6.0, 'similarity': {}, 'duration': 179.07499980926514}\n",
      "{'time': UTCDateTime(2023, 2, 1, 9, 5, 8, 219538), 'stations': ['PFO', 'PFO', 'PFO', 'BSPF', 'BSPF', 'BSPF'], 'trace_ids': ['II.PFO.10.BH1', 'II.PFO.10.BHZ', 'II.PFO.10.BH2', 'PY.BSPF..HJ2', 'PY.BSPF..HJ1', 'PY.BSPF..HJ3'], 'coincidence_sum': 6.0, 'similarity': {}, 'duration': 50.55000019073486}\n",
      "{'time': UTCDateTime(2023, 2, 1, 9, 5, 8, 219538), 'stations': ['PFO', 'PFO', 'PFO', 'BSPF', 'BSPF', 'BSPF'], 'trace_ids': ['II.PFO.10.BH1', 'II.PFO.10.BHZ', 'II.PFO.10.BH2', 'PY.BSPF..HJ2', 'PY.BSPF..HJ1', 'PY.BSPF..HJ3'], 'coincidence_sum': 6.0, 'similarity': {}, 'duration': 50.55000019073486}\n",
      "{'time': UTCDateTime(2023, 2, 8, 17, 58, 34, 669538), 'stations': ['PFO', 'PFO', 'PFO', 'BSPF'], 'trace_ids': ['II.PFO.10.BHZ', 'II.PFO.10.BH1', 'II.PFO.10.BH2', 'PY.BSPF..HJ2'], 'coincidence_sum': 4.0, 'similarity': {}, 'duration': 43.34999990463257}\n",
      "{'time': UTCDateTime(2023, 3, 1, 22, 44, 50, 444538), 'stations': ['PFO', 'PFO', 'PFO', 'BSPF'], 'trace_ids': ['II.PFO.10.BHZ', 'II.PFO.10.BH1', 'II.PFO.10.BH2', 'PY.BSPF..HJ2'], 'coincidence_sum': 4.0, 'similarity': {}, 'duration': 43.174999713897705}\n",
      "{'time': UTCDateTime(2023, 3, 1, 22, 49, 6, 769538), 'stations': ['PFO', 'PFO', 'PFO', 'BSPF', 'BSPF', 'BSPF'], 'trace_ids': ['II.PFO.10.BHZ', 'II.PFO.10.BH1', 'II.PFO.10.BH2', 'PY.BSPF..HJ2', 'PY.BSPF..HJ3', 'PY.BSPF..HJ1'], 'coincidence_sum': 6.0, 'similarity': {}, 'duration': 42.62499976158142}\n",
      "{'time': UTCDateTime(2023, 3, 8, 4, 7, 41, 94538), 'stations': ['PFO', 'PFO', 'PFO', 'BSPF', 'BSPF'], 'trace_ids': ['II.PFO.10.BHZ', 'II.PFO.10.BH1', 'II.PFO.10.BH2', 'PY.BSPF..HJ2', 'PY.BSPF..HJ1'], 'coincidence_sum': 5.0, 'similarity': {}, 'duration': 48.799999952316284}\n",
      "{'time': UTCDateTime(2023, 3, 8, 4, 7, 41, 94538), 'stations': ['PFO', 'PFO', 'PFO', 'BSPF', 'BSPF'], 'trace_ids': ['II.PFO.10.BHZ', 'II.PFO.10.BH1', 'II.PFO.10.BH2', 'PY.BSPF..HJ2', 'PY.BSPF..HJ1'], 'coincidence_sum': 5.0, 'similarity': {}, 'duration': 48.799999952316284}\n",
      "{'time': UTCDateTime(2023, 3, 9, 10, 33, 39, 94538), 'stations': ['PFO', 'PFO', 'PFO', 'BSPF'], 'trace_ids': ['II.PFO.10.BHZ', 'II.PFO.10.BH2', 'II.PFO.10.BH1', 'PY.BSPF..HJ2'], 'coincidence_sum': 4.0, 'similarity': {}, 'duration': 44.875}\n",
      "{'time': UTCDateTime(2023, 3, 10, 1, 13, 33, 244538), 'stations': ['PFO', 'PFO', 'PFO', 'BSPF', 'BSPF'], 'trace_ids': ['II.PFO.10.BHZ', 'II.PFO.10.BH2', 'II.PFO.10.BH1', 'PY.BSPF..HJ2', 'PY.BSPF..HJ1'], 'coincidence_sum': 5.0, 'similarity': {}, 'duration': 43.77500081062317}\n",
      "{'time': UTCDateTime(2023, 3, 10, 6, 49, 42, 844538), 'stations': ['PFO', 'PFO', 'PFO', 'BSPF'], 'trace_ids': ['II.PFO.10.BHZ', 'II.PFO.10.BH2', 'II.PFO.10.BH1', 'PY.BSPF..HJ2'], 'coincidence_sum': 4.0, 'similarity': {}, 'duration': 45.59999990463257}\n",
      "{'time': UTCDateTime(2023, 3, 10, 14, 32, 15, 169538), 'stations': ['PFO', 'PFO', 'PFO', 'BSPF'], 'trace_ids': ['II.PFO.10.BHZ', 'II.PFO.10.BH1', 'II.PFO.10.BH2', 'PY.BSPF..HJ2'], 'coincidence_sum': 4.0, 'similarity': {}, 'duration': 44.10000014305115}\n",
      "{'time': UTCDateTime(2023, 3, 10, 15, 2, 35, 944538), 'stations': ['PFO', 'PFO', 'PFO', 'BSPF'], 'trace_ids': ['II.PFO.10.BH1', 'II.PFO.10.BHZ', 'II.PFO.10.BH2', 'PY.BSPF..HJ2'], 'coincidence_sum': 4.0, 'similarity': {}, 'duration': 45.27499985694885}\n",
      "{'time': UTCDateTime(2023, 3, 10, 15, 2, 35, 869538), 'stations': ['PFO', 'PFO', 'PFO', 'BSPF'], 'trace_ids': ['II.PFO.10.BHZ', 'II.PFO.10.BH2', 'II.PFO.10.BH1', 'PY.BSPF..HJ2'], 'coincidence_sum': 4.0, 'similarity': {}, 'duration': 45.424999952316284}\n",
      "{'time': UTCDateTime(2023, 3, 18, 16, 52, 19, 94538), 'stations': ['PFO', 'PFO', 'PFO', 'BSPF'], 'trace_ids': ['II.PFO.10.BHZ', 'II.PFO.10.BH2', 'II.PFO.10.BH1', 'PY.BSPF..HJ2'], 'coincidence_sum': 4.0, 'similarity': {}, 'duration': 51.825000047683716}\n",
      "{'time': UTCDateTime(2023, 3, 18, 17, 19, 45, 469538), 'stations': ['PFO', 'PFO', 'PFO', 'BSPF', 'BSPF', 'BSPF'], 'trace_ids': ['II.PFO.10.BHZ', 'II.PFO.10.BH2', 'II.PFO.10.BH1', 'PY.BSPF..HJ2', 'PY.BSPF..HJ1', 'PY.BSPF..HJ3'], 'coincidence_sum': 6.0, 'similarity': {}, 'duration': 50.924999952316284}\n",
      "{'time': UTCDateTime(2023, 3, 22, 3, 21, 38, 494538), 'stations': ['PFO', 'PFO', 'PFO', 'BSPF'], 'trace_ids': ['II.PFO.10.BHZ', 'II.PFO.10.BH2', 'II.PFO.10.BH1', 'PY.BSPF..HJ2'], 'coincidence_sum': 4.0, 'similarity': {}, 'duration': 44.424999952316284}\n",
      "{'time': UTCDateTime(2023, 3, 24, 13, 45, 21, 619538), 'stations': ['PFO', 'PFO', 'PFO', 'BSPF', 'BSPF', 'BSPF'], 'trace_ids': ['II.PFO.10.BHZ', 'II.PFO.10.BH1', 'II.PFO.10.BH2', 'PY.BSPF..HJ2', 'PY.BSPF..HJ1', 'PY.BSPF..HJ3'], 'coincidence_sum': 6.0, 'similarity': {}, 'duration': 49.450000286102295}\n",
      "{'time': UTCDateTime(2023, 3, 24, 15, 4, 12, 119538), 'stations': ['PFO', 'PFO', 'PFO', 'BSPF'], 'trace_ids': ['II.PFO.10.BHZ', 'II.PFO.10.BH1', 'II.PFO.10.BH2', 'PY.BSPF..HJ2'], 'coincidence_sum': 4.0, 'similarity': {}, 'duration': 50.27500009536743}\n",
      "{'time': UTCDateTime(2023, 3, 27, 9, 29, 3, 444538), 'stations': ['PFO', 'PFO', 'PFO', 'BSPF', 'BSPF'], 'trace_ids': ['II.PFO.10.BHZ', 'II.PFO.10.BH2', 'II.PFO.10.BH1', 'PY.BSPF..HJ2', 'PY.BSPF..HJ1'], 'coincidence_sum': 5.0, 'similarity': {}, 'duration': 48.44999980926514}\n",
      "{'time': UTCDateTime(2023, 3, 31, 12, 5, 42, 319538), 'stations': ['PFO', 'PFO', 'PFO', 'BSPF'], 'trace_ids': ['II.PFO.10.BHZ', 'II.PFO.10.BH1', 'II.PFO.10.BH2', 'PY.BSPF..HJ2'], 'coincidence_sum': 4.0, 'similarity': {}, 'duration': 44.42500019073486}\n",
      "{'time': UTCDateTime(2023, 3, 31, 12, 5, 42, 244538), 'stations': ['PFO', 'PFO', 'PFO', 'BSPF'], 'trace_ids': ['II.PFO.10.BHZ', 'II.PFO.10.BH1', 'II.PFO.10.BH2', 'PY.BSPF..HJ2'], 'coincidence_sum': 4.0, 'similarity': {}, 'duration': 44.5}\n",
      "{'time': UTCDateTime(2023, 3, 31, 13, 37, 5, 44538), 'stations': ['PFO', 'PFO', 'PFO', 'BSPF'], 'trace_ids': ['II.PFO.10.BHZ', 'II.PFO.10.BH1', 'II.PFO.10.BH2', 'PY.BSPF..HJ2'], 'coincidence_sum': 4.0, 'similarity': {}, 'duration': 49.34999990463257}\n"
     ]
    }
   ],
   "source": [
    "times, cosum = [], []\n",
    "ref_time = obs.UTCDateTime(\"2022-10-01\")\n",
    "\n",
    "for trig in trigger_events:\n",
    "    times.append(trig['time'])\n",
    "    cosum.append(trig['coincidence_sum'])\n",
    "    \n",
    "rel_times = [(t-ref_time)/86400 for t in times]"
   ]
  },
  {
   "cell_type": "code",
   "execution_count": 14,
   "id": "e2b28af6",
   "metadata": {
    "ExecuteTime": {
     "end_time": "2023-04-16T13:03:48.872187Z",
     "start_time": "2023-04-16T13:03:48.728739Z"
    }
   },
   "outputs": [
    {
     "data": {
      "text/plain": [
       "<matplotlib.collections.PathCollection at 0x7fd45201d050>"
      ]
     },
     "execution_count": 14,
     "metadata": {},
     "output_type": "execute_result"
    },
    {
     "data": {
      "image/png": "[encoded data removed]",
      "text/plain": [
       "<Figure size 640x480 with 1 Axes>"
      ]
     },
     "metadata": {},
     "output_type": "display_data"
    }
   ],
   "source": [
    "plt.scatter(rel_times, cosum)"
   ]
  },
  {
   "cell_type": "code",
   "execution_count": 23,
   "id": "b36a4b12",
   "metadata": {
    "ExecuteTime": {
     "end_time": "2023-04-16T18:57:02.355830Z",
     "start_time": "2023-04-16T18:57:02.237391Z"
    }
   },
   "outputs": [
    {
     "name": "stdout",
     "output_type": "stream",
     "text": [
      "BSPF-Backazimuth.ipynb\t\t     BSPF_ImageSpectra.py\r\n",
      "BSPF_Catalog-Bck.ipynb\t\t     BSPF_ImageSpectra.py.save\r\n",
      "BSPF_Catalog.ipynb\t\t     BSPF_network_trigger.py\r\n",
      "BSPF_Catalog.py\t\t\t     BSPF_polarization6c.ipynb\r\n",
      "BSPF_check.ipynb\t\t     BSPF_PSD.ipynb\r\n",
      "BSPF_CoincidenceTrigger.ipynb\t     BSPF_SpectraAutoplots.ipynb\r\n",
      "BSPF_CoincidenceTrigger_MP.py\t     BSPF_UpdateCatalog.py\r\n",
      "BSPF_CoincidenceTrigger_MPrandom.py  configs\r\n",
      "BSPF_CoincidenceTrigger-Plots.ipynb  event_map.png\r\n",
      "BSPF-Data.ipynb\t\t\t     events.xml\r\n",
      "BSPF_EventAnalysis.ipynb\t     functions\r\n",
      "BSPF_event_catalog.pkl\t\t     new_events.pkl\r\n",
      "BSPF-event.ipynb\t\t     PFO_ADR_BSPF.py\r\n",
      "BSPF_eventplots_auto.ipynb\t     PFO_ImageSpectra.py\r\n",
      "BSPF_eventplots.ipynb\t\t     PFO_SpectraAutoplots.ipynb\r\n",
      "BSPF_ImageSpectra.ipynb\t\t     tmp_event_map.png\r\n"
     ]
    }
   ],
   "source": [
    "!ls"
   ]
  },
  {
   "cell_type": "code",
   "execution_count": 26,
   "id": "c3a2aec4",
   "metadata": {
    "ExecuteTime": {
     "end_time": "2023-04-16T18:58:31.949259Z",
     "start_time": "2023-04-16T18:58:31.945973Z"
    }
   },
   "outputs": [],
   "source": [
    "# __read_pickle(config, \"./\", \"BSPF_event_catalog.pkl\")"
   ]
  },
  {
   "cell_type": "code",
   "execution_count": 121,
   "id": "e8e917ff",
   "metadata": {
    "ExecuteTime": {
     "end_time": "2023-04-16T19:53:48.878689Z",
     "start_time": "2023-04-16T19:53:33.508634Z"
    }
   },
   "outputs": [
    {
     "name": "stdout",
     "output_type": "stream",
     "text": [
      "4969 55\n"
     ]
    }
   ],
   "source": [
    "## read catalog\n",
    "cat = obs.read_events(\"./events_all.xml\")\n",
    "\n",
    "print(len(events), len(trigger_events))"
   ]
  },
  {
   "cell_type": "code",
   "execution_count": 157,
   "id": "765d69de",
   "metadata": {
    "ExecuteTime": {
     "end_time": "2023-04-16T20:11:01.071966Z",
     "start_time": "2023-04-16T20:11:00.288731Z"
    },
    "code_folding": [
     0
    ]
   },
   "outputs": [
    {
     "data": {
      "text/plain": [
       "(55, 55)"
      ]
     },
     "execution_count": 157,
     "metadata": {},
     "output_type": "execute_result"
    },
    {
     "data": {
      "image/png": "[encoded data removed]",
      "text/plain": [
       "<Figure size 1500x500 with 1 Axes>"
      ]
     },
     "metadata": {},
     "output_type": "display_data"
    }
   ],
   "source": [
    "def __find_matches(trigger_times, catalog, max_time_difference=60):\n",
    "\n",
    "    matches, time_diffs, events_triggered, event_idxs = [], [], [], []\n",
    "\n",
    "    ## extract origin times from catalog\n",
    "    event_times = [cat.events[j].origins[0].time for j in range(len(cat))]\n",
    "    \n",
    "    \n",
    "    for trigger_time in trigger_times:\n",
    "\n",
    "        ## compute time differences in seconds\n",
    "        diff = [event_time-trigger_time for event_time in event_times]\n",
    "        \n",
    "        ## only the ones before the trigger in time\n",
    "        abs_diff = [abs(d) for d in diff if d < 0]\n",
    "        \n",
    "        ## get closest event\n",
    "        t_min, t_idx = min(abs_diff), diff.index(-min(abs_diff))\n",
    "                \n",
    "        time_diffs.append(t_min)\n",
    "        matches.append(trigger_time)\n",
    "        events_triggered.append(events_times[t_idx])\n",
    "        event_idxs.append(t_idx)\n",
    "        \n",
    "    cat_sel = [cat.events[idx] for idx in idxs]\n",
    "        \n",
    "        \n",
    "    t_days = [(match-obs.UTCDateTime(\"2022-10-01\"))/86400 for match in matches]\n",
    "    plt.figure(figsize=(15,5))\n",
    "    plt.scatter(t_days, time_diffs, zorder=2, s=5)\n",
    "    plt.yscale(\"log\")\n",
    "    plt.grid(which=\"both\", zorder=-1, ls=\":\")\n",
    "    plt.ylabel(\"Time Differences (s)\")\n",
    "    plt.xlabel(\"Time (days)\")\n",
    "    plt.xlim(0, 190)\n",
    "    \n",
    "    return np.array(matches), np.array(events_triggered), cat_sel\n",
    "\n",
    "matches, events_triggered, cat_select = __find_matches(times, cat, max_time_difference=60)\n",
    "\n",
    "len(events_triggered), len(matches)"
   ]
  },
  {
   "cell_type": "code",
   "execution_count": 146,
   "id": "2736bb95",
   "metadata": {
    "ExecuteTime": {
     "end_time": "2023-04-16T20:04:17.062738Z",
     "start_time": "2023-04-16T20:04:17.040742Z"
    }
   },
   "outputs": [
    {
     "data": {
      "text/plain": [
       "[Event:\t2022-10-02T03:25:16.440000Z | +33.484, -116.508 | 1.49 ml | manual\n",
       "\n",
       "\t            resource_id: ResourceIdentifier(id=\"quakeml:earthquake.usgs.gov/fdsnws/event/1/query?eventid=ci40354376&format=quakeml\")\n",
       "\t             event_type: 'earthquake'\n",
       "\t          creation_info: CreationInfo(agency_id='ci', creation_time=UTCDateTime(2022, 10, 2, 14, 16, 36, 720000), version='5')\n",
       "\t    preferred_origin_id: ResourceIdentifier(id=\"quakeml:earthquake.usgs.gov/product/origin/ci40354376/ci/1664720167500/product.xml\")\n",
       "\t preferred_magnitude_id: ResourceIdentifier(id=\"quakeml:earthquake.usgs.gov/product/origin/ci40354376/ci/1664720167500/product.xml#magnitude\")\n",
       "\t                   ---------\n",
       "\t     event_descriptions: 1 Elements\n",
       "\t                origins: 1 Elements\n",
       "\t             magnitudes: 1 Elements,\n",
       " Event:\t2022-10-03T16:08:09.970000Z | +33.925, -116.921 | 3.01 ml | manual\n",
       "\n",
       "\t            resource_id: ResourceIdentifier(id=\"quakeml:earthquake.usgs.gov/fdsnws/event/1/query?eventid=ci40355088&format=quakeml\")\n",
       "\t             event_type: 'earthquake'\n",
       "\t          creation_info: CreationInfo(agency_id='ci', creation_time=UTCDateTime(2022, 12, 10, 22, 52, 59, 40000), version='7')\n",
       "\t    preferred_origin_id: ResourceIdentifier(id=\"quakeml:earthquake.usgs.gov/product/origin/ci40355088/ci/1664815191030/product.xml\")\n",
       "\t preferred_magnitude_id: ResourceIdentifier(id=\"quakeml:earthquake.usgs.gov/product/origin/ci40355088/ci/1664815191030/product.xml#magnitude\")\n",
       "\t                   ---------\n",
       "\t     event_descriptions: 1 Elements\n",
       "\t                origins: 1 Elements\n",
       "\t             magnitudes: 1 Elements,\n",
       " Event:\t2022-10-03T16:08:09.970000Z | +33.925, -116.921 | 3.01 ml | manual\n",
       "\n",
       "\t            resource_id: ResourceIdentifier(id=\"quakeml:earthquake.usgs.gov/fdsnws/event/1/query?eventid=ci40355088&format=quakeml\")\n",
       "\t             event_type: 'earthquake'\n",
       "\t          creation_info: CreationInfo(agency_id='ci', creation_time=UTCDateTime(2022, 12, 10, 22, 52, 59, 40000), version='7')\n",
       "\t    preferred_origin_id: ResourceIdentifier(id=\"quakeml:earthquake.usgs.gov/product/origin/ci40355088/ci/1664815191030/product.xml\")\n",
       "\t preferred_magnitude_id: ResourceIdentifier(id=\"quakeml:earthquake.usgs.gov/product/origin/ci40355088/ci/1664815191030/product.xml#magnitude\")\n",
       "\t                   ---------\n",
       "\t     event_descriptions: 1 Elements\n",
       "\t                origins: 1 Elements\n",
       "\t             magnitudes: 1 Elements,\n",
       " Event:\t2022-10-05T15:39:13.690000Z | +33.495, -116.510 | 0.5 ml | manual\n",
       "\n",
       "\t            resource_id: ResourceIdentifier(id=\"quakeml:earthquake.usgs.gov/fdsnws/event/1/query?eventid=ci40356008&format=quakeml\")\n",
       "\t             event_type: 'earthquake'\n",
       "\t          creation_info: CreationInfo(agency_id='ci', creation_time=UTCDateTime(2022, 10, 5, 15, 54, 22, 323000), version='5')\n",
       "\t    preferred_origin_id: ResourceIdentifier(id=\"quakeml:earthquake.usgs.gov/product/origin/ci40356008/ci/1664985258010/product.xml\")\n",
       "\t preferred_magnitude_id: ResourceIdentifier(id=\"quakeml:earthquake.usgs.gov/product/origin/ci40356008/ci/1664985258010/product.xml#magnitude\")\n",
       "\t                   ---------\n",
       "\t     event_descriptions: 1 Elements\n",
       "\t                origins: 1 Elements\n",
       "\t             magnitudes: 1 Elements,\n",
       " Event:\t2022-10-07T22:45:05.470000Z | +33.041, -116.355 | 3.47 mlr | manual\n",
       "\n",
       "\t            resource_id: ResourceIdentifier(id=\"quakeml:earthquake.usgs.gov/fdsnws/event/1/query?eventid=ci40357392&format=quakeml\")\n",
       "\t             event_type: 'earthquake'\n",
       "\t          creation_info: CreationInfo(agency_id='ci', creation_time=UTCDateTime(2022, 12, 10, 22, 53, 57, 40000), version='5')\n",
       "\t    preferred_origin_id: ResourceIdentifier(id=\"quakeml:earthquake.usgs.gov/product/origin/ci40357392/ci/1665185070490/product.xml\")\n",
       "\t preferred_magnitude_id: ResourceIdentifier(id=\"quakeml:earthquake.usgs.gov/product/origin/ci40357392/ci/1665185070490/product.xml#magnitude\")\n",
       "\t                   ---------\n",
       "\t     event_descriptions: 1 Elements\n",
       "\t                origins: 1 Elements\n",
       "\t             magnitudes: 1 Elements,\n",
       " Event:\t2022-10-08T02:52:33.350000Z | +33.483, -116.508 | 1.79 ml | manual\n",
       "\n",
       "\t            resource_id: ResourceIdentifier(id=\"quakeml:earthquake.usgs.gov/fdsnws/event/1/query?eventid=ci40357584&format=quakeml\")\n",
       "\t             event_type: 'earthquake'\n",
       "\t          creation_info: CreationInfo(agency_id='ci', creation_time=UTCDateTime(2022, 10, 10, 19, 43, 24, 420000), version='6')\n",
       "\t    preferred_origin_id: ResourceIdentifier(id=\"quakeml:earthquake.usgs.gov/product/origin/ci40357584/ci/1665430969870/product.xml\")\n",
       "\t preferred_magnitude_id: ResourceIdentifier(id=\"quakeml:earthquake.usgs.gov/product/origin/ci40357584/ci/1665430969870/product.xml#magnitude\")\n",
       "\t                   ---------\n",
       "\t     event_descriptions: 1 Elements\n",
       "\t                origins: 1 Elements\n",
       "\t             magnitudes: 1 Elements,\n",
       " Event:\t2022-10-15T05:17:34.150000Z | +33.484, -116.426 | 2.45 ml | manual\n",
       "\n",
       "\t            resource_id: ResourceIdentifier(id=\"quakeml:earthquake.usgs.gov/fdsnws/event/1/query?eventid=ci40361368&format=quakeml\")\n",
       "\t             event_type: 'earthquake'\n",
       "\t          creation_info: CreationInfo(agency_id='ci', creation_time=UTCDateTime(2022, 12, 31, 23, 3, 32, 40000), version='6')\n",
       "\t    preferred_origin_id: ResourceIdentifier(id=\"quakeml:earthquake.usgs.gov/product/origin/ci40361368/ci/1665941728390/product.xml\")\n",
       "\t preferred_magnitude_id: ResourceIdentifier(id=\"quakeml:earthquake.usgs.gov/product/origin/ci40361368/ci/1665941728390/product.xml#magnitude\")\n",
       "\t                   ---------\n",
       "\t     event_descriptions: 1 Elements\n",
       "\t                origins: 1 Elements\n",
       "\t             magnitudes: 1 Elements,\n",
       " Event:\t2022-10-17T05:25:28.830000Z | +33.451, -116.888 | 2.56 ml | manual\n",
       "\n",
       "\t            resource_id: ResourceIdentifier(id=\"quakeml:earthquake.usgs.gov/fdsnws/event/1/query?eventid=ci40362256&format=quakeml\")\n",
       "\t             event_type: 'earthquake'\n",
       "\t          creation_info: CreationInfo(agency_id='ci', creation_time=UTCDateTime(2022, 12, 31, 23, 3, 25, 40000), version='6')\n",
       "\t    preferred_origin_id: ResourceIdentifier(id=\"quakeml:earthquake.usgs.gov/product/origin/ci40362256/ci/1666037075480/product.xml\")\n",
       "\t preferred_magnitude_id: ResourceIdentifier(id=\"quakeml:earthquake.usgs.gov/product/origin/ci40362256/ci/1666037075480/product.xml#magnitude\")\n",
       "\t                   ---------\n",
       "\t     event_descriptions: 1 Elements\n",
       "\t                origins: 1 Elements\n",
       "\t             magnitudes: 1 Elements,\n",
       " Event:\t2022-10-23T09:24:58.150000Z | +33.481, -116.426 | 3.27 ml | manual\n",
       "\n",
       "\t            resource_id: ResourceIdentifier(id=\"quakeml:earthquake.usgs.gov/fdsnws/event/1/query?eventid=ci40364760&format=quakeml\")\n",
       "\t             event_type: 'earthquake'\n",
       "\t          creation_info: CreationInfo(agency_id='ci', creation_time=UTCDateTime(2023, 1, 3, 15, 23, 30, 40000), version='6')\n",
       "\t    preferred_origin_id: ResourceIdentifier(id=\"quakeml:earthquake.usgs.gov/product/origin/ci40364760/ci/1666537571990/product.xml\")\n",
       "\t preferred_magnitude_id: ResourceIdentifier(id=\"quakeml:earthquake.usgs.gov/product/origin/ci40364760/ci/1666537571990/product.xml#magnitude\")\n",
       "\t                   ---------\n",
       "\t     event_descriptions: 1 Elements\n",
       "\t                origins: 1 Elements\n",
       "\t             magnitudes: 1 Elements,\n",
       " Event:\t2022-10-25T03:55:30.970000Z | +33.349, -116.358 | 2.48 ml | manual\n",
       "\n",
       "\t            resource_id: ResourceIdentifier(id=\"quakeml:earthquake.usgs.gov/fdsnws/event/1/query?eventid=ci40365376&format=quakeml\")\n",
       "\t             event_type: 'earthquake'\n",
       "\t          creation_info: CreationInfo(agency_id='ci', creation_time=UTCDateTime(2023, 1, 3, 15, 23, 28, 40000), version='6')\n",
       "\t    preferred_origin_id: ResourceIdentifier(id=\"quakeml:earthquake.usgs.gov/product/origin/ci40365376/ci/1666708925620/product.xml\")\n",
       "\t preferred_magnitude_id: ResourceIdentifier(id=\"quakeml:earthquake.usgs.gov/product/origin/ci40365376/ci/1666708925620/product.xml#magnitude\")\n",
       "\t                   ---------\n",
       "\t     event_descriptions: 1 Elements\n",
       "\t                origins: 1 Elements\n",
       "\t             magnitudes: 1 Elements,\n",
       " Event:\t2022-10-25T03:55:30.970000Z | +33.349, -116.358 | 2.48 ml | manual\n",
       "\n",
       "\t            resource_id: ResourceIdentifier(id=\"quakeml:earthquake.usgs.gov/fdsnws/event/1/query?eventid=ci40365376&format=quakeml\")\n",
       "\t             event_type: 'earthquake'\n",
       "\t          creation_info: CreationInfo(agency_id='ci', creation_time=UTCDateTime(2023, 1, 3, 15, 23, 28, 40000), version='6')\n",
       "\t    preferred_origin_id: ResourceIdentifier(id=\"quakeml:earthquake.usgs.gov/product/origin/ci40365376/ci/1666708925620/product.xml\")\n",
       "\t preferred_magnitude_id: ResourceIdentifier(id=\"quakeml:earthquake.usgs.gov/product/origin/ci40365376/ci/1666708925620/product.xml#magnitude\")\n",
       "\t                   ---------\n",
       "\t     event_descriptions: 1 Elements\n",
       "\t                origins: 1 Elements\n",
       "\t             magnitudes: 1 Elements,\n",
       " Event:\t2022-10-26T08:14:15.210000Z | +33.645, -116.730 | 0.92 ml | manual\n",
       "\n",
       "\t            resource_id: ResourceIdentifier(id=\"quakeml:earthquake.usgs.gov/fdsnws/event/1/query?eventid=ci40365952&format=quakeml\")\n",
       "\t             event_type: 'earthquake'\n",
       "\t          creation_info: CreationInfo(agency_id='ci', creation_time=UTCDateTime(2022, 10, 26, 13, 50, 38, 580000), version='4')\n",
       "\t    preferred_origin_id: ResourceIdentifier(id=\"quakeml:earthquake.usgs.gov/product/origin/ci40365952/ci/1666792171600/product.xml\")\n",
       "\t preferred_magnitude_id: ResourceIdentifier(id=\"quakeml:earthquake.usgs.gov/product/origin/ci40365952/ci/1666792171600/product.xml#magnitude\")\n",
       "\t                   ---------\n",
       "\t     event_descriptions: 1 Elements\n",
       "\t                origins: 1 Elements\n",
       "\t             magnitudes: 1 Elements,\n",
       " Event:\t2022-12-01T15:28:29.660000Z | +32.836, -116.040 | 3.82 mw | manual\n",
       "\n",
       "\t            resource_id: ResourceIdentifier(id=\"quakeml:earthquake.usgs.gov/fdsnws/event/1/query?eventid=ci40383192&format=quakeml\")\n",
       "\t             event_type: 'earthquake'\n",
       "\t          creation_info: CreationInfo(agency_id='ci', creation_time=UTCDateTime(2023, 2, 5, 23, 25, 51, 40000), version='5')\n",
       "\t    preferred_origin_id: ResourceIdentifier(id=\"quakeml:earthquake.usgs.gov/product/origin/ci40383192/ci/1669911301720/product.xml\")\n",
       "\t preferred_magnitude_id: ResourceIdentifier(id=\"quakeml:earthquake.usgs.gov/product/origin/ci40383192/ci/1669911301720/product.xml#magnitude\")\n",
       "\t                   ---------\n",
       "\t     event_descriptions: 1 Elements\n",
       "\t                origins: 1 Elements\n",
       "\t             magnitudes: 1 Elements,\n",
       " Event:\t2022-12-21T00:46:14.410000Z | +33.787, -116.156 | 2.55 ml | manual\n",
       "\n",
       "\t            resource_id: ResourceIdentifier(id=\"quakeml:earthquake.usgs.gov/fdsnws/event/1/query?eventid=ci40392824&format=quakeml\")\n",
       "\t             event_type: 'earthquake'\n",
       "\t          creation_info: CreationInfo(agency_id='ci', creation_time=UTCDateTime(2023, 2, 28, 23, 6, 37, 40000), version='6')\n",
       "\t    preferred_origin_id: ResourceIdentifier(id=\"quakeml:earthquake.usgs.gov/product/origin/ci40392824/ci/1671639550540/product.xml\")\n",
       "\t preferred_magnitude_id: ResourceIdentifier(id=\"quakeml:earthquake.usgs.gov/product/origin/ci40392824/ci/1671639550540/product.xml#magnitude\")\n",
       "\t                   ---------\n",
       "\t     event_descriptions: 1 Elements\n",
       "\t                origins: 1 Elements\n",
       "\t             magnitudes: 1 Elements,\n",
       " Event:\t2022-12-21T00:46:14.410000Z | +33.787, -116.156 | 2.55 ml | manual\n",
       "\n",
       "\t            resource_id: ResourceIdentifier(id=\"quakeml:earthquake.usgs.gov/fdsnws/event/1/query?eventid=ci40392824&format=quakeml\")\n",
       "\t             event_type: 'earthquake'\n",
       "\t          creation_info: CreationInfo(agency_id='ci', creation_time=UTCDateTime(2023, 2, 28, 23, 6, 37, 40000), version='6')\n",
       "\t    preferred_origin_id: ResourceIdentifier(id=\"quakeml:earthquake.usgs.gov/product/origin/ci40392824/ci/1671639550540/product.xml\")\n",
       "\t preferred_magnitude_id: ResourceIdentifier(id=\"quakeml:earthquake.usgs.gov/product/origin/ci40392824/ci/1671639550540/product.xml#magnitude\")\n",
       "\t                   ---------\n",
       "\t     event_descriptions: 1 Elements\n",
       "\t                origins: 1 Elements\n",
       "\t             magnitudes: 1 Elements,\n",
       " Event:\t2022-12-25T18:53:13.340000Z | +33.978, -116.766 | 2.57 ml | manual\n",
       "\n",
       "\t            resource_id: ResourceIdentifier(id=\"quakeml:earthquake.usgs.gov/fdsnws/event/1/query?eventid=ci40149879&format=quakeml\")\n",
       "\t             event_type: 'earthquake'\n",
       "\t          creation_info: CreationInfo(agency_id='ci', creation_time=UTCDateTime(2023, 3, 7, 18, 59, 41, 40000), version='6')\n",
       "\t    preferred_origin_id: ResourceIdentifier(id=\"quakeml:earthquake.usgs.gov/product/origin/ci40149879/ci/1674079750750/product.xml\")\n",
       "\t preferred_magnitude_id: ResourceIdentifier(id=\"quakeml:earthquake.usgs.gov/product/origin/ci40149879/ci/1674079750750/product.xml#magnitude\")\n",
       "\t                   ---------\n",
       "\t     event_descriptions: 1 Elements\n",
       "\t                origins: 1 Elements\n",
       "\t             magnitudes: 1 Elements,\n",
       " Event:\t2022-12-31T10:45:43.210000Z | +33.277, -116.783 | 1.21 ml | manual\n",
       "\n",
       "\t            resource_id: ResourceIdentifier(id=\"quakeml:earthquake.usgs.gov/fdsnws/event/1/query?eventid=ci40151703&format=quakeml\")\n",
       "\t             event_type: 'earthquake'\n",
       "\t          creation_info: CreationInfo(agency_id='ci', creation_time=UTCDateTime(2022, 12, 31, 12, 45, 5), version='4')\n",
       "\t    preferred_origin_id: ResourceIdentifier(id=\"quakeml:earthquake.usgs.gov/product/origin/ci40151703/ci/1672490613200/product.xml\")\n",
       "\t preferred_magnitude_id: ResourceIdentifier(id=\"quakeml:earthquake.usgs.gov/product/origin/ci40151703/ci/1672490613200/product.xml#magnitude\")\n",
       "\t                   ---------\n",
       "\t     event_descriptions: 1 Elements\n",
       "\t                origins: 1 Elements\n",
       "\t             magnitudes: 1 Elements,\n",
       " Event:\t2022-12-31T12:12:26.650000Z | +33.398, -116.393 | 4.14 mw | manual\n",
       "\n",
       "\t            resource_id: ResourceIdentifier(id=\"quakeml:earthquake.usgs.gov/fdsnws/event/1/query?eventid=ci40151807&format=quakeml\")\n",
       "\t             event_type: 'earthquake'\n",
       "\t          creation_info: CreationInfo(agency_id='ci', creation_time=UTCDateTime(2023, 4, 5, 16, 3, 26, 740000), version='18')\n",
       "\t    preferred_origin_id: ResourceIdentifier(id=\"quakeml:earthquake.usgs.gov/product/origin/ci40151807/ci/1680108864780/product.xml\")\n",
       "\t preferred_magnitude_id: ResourceIdentifier(id=\"quakeml:earthquake.usgs.gov/product/origin/ci40151807/ci/1680108864780/product.xml#magnitude\")\n",
       "\t                   ---------\n",
       "\t     event_descriptions: 1 Elements\n",
       "\t                origins: 1 Elements\n",
       "\t             magnitudes: 1 Elements,\n",
       " Event:\t2023-01-02T03:20:18.170000Z | +33.398, -116.390 | 2.61 ml | manual\n",
       "\n",
       "\t            resource_id: ResourceIdentifier(id=\"quakeml:earthquake.usgs.gov/fdsnws/event/1/query?eventid=ci40152887&format=quakeml\")\n",
       "\t             event_type: 'earthquake'\n",
       "\t          creation_info: CreationInfo(agency_id='ci', creation_time=UTCDateTime(2023, 3, 11, 22, 51, 31, 40000), version='6')\n",
       "\t    preferred_origin_id: ResourceIdentifier(id=\"quakeml:earthquake.usgs.gov/product/origin/ci40152887/ci/1672768858880/product.xml\")\n",
       "\t preferred_magnitude_id: ResourceIdentifier(id=\"quakeml:earthquake.usgs.gov/product/origin/ci40152887/ci/1672768858880/product.xml#magnitude\")\n",
       "\t                   ---------\n",
       "\t     event_descriptions: 1 Elements\n",
       "\t                origins: 1 Elements\n",
       "\t             magnitudes: 1 Elements,\n",
       " Event:\t2023-01-05T10:00:33.030000Z | +33.395, -116.393 | 2.59 ml | manual\n",
       "\n",
       "\t            resource_id: ResourceIdentifier(id=\"quakeml:earthquake.usgs.gov/fdsnws/event/1/query?eventid=ci40153855&format=quakeml\")\n",
       "\t             event_type: 'earthquake'\n",
       "\t          creation_info: CreationInfo(agency_id='ci', creation_time=UTCDateTime(2023, 3, 11, 22, 51, 40, 40000), version='6')\n",
       "\t    preferred_origin_id: ResourceIdentifier(id=\"quakeml:earthquake.usgs.gov/product/origin/ci40153855/ci/1672943324150/product.xml\")\n",
       "\t preferred_magnitude_id: ResourceIdentifier(id=\"quakeml:earthquake.usgs.gov/product/origin/ci40153855/ci/1672943324150/product.xml#magnitude\")\n",
       "\t                   ---------\n",
       "\t     event_descriptions: 1 Elements\n",
       "\t                origins: 1 Elements\n",
       "\t             magnitudes: 1 Elements,\n",
       " Event:\t2023-01-05T10:00:33.030000Z | +33.395, -116.393 | 2.59 ml | manual\n",
       "\n",
       "\t            resource_id: ResourceIdentifier(id=\"quakeml:earthquake.usgs.gov/fdsnws/event/1/query?eventid=ci40153855&format=quakeml\")\n",
       "\t             event_type: 'earthquake'\n",
       "\t          creation_info: CreationInfo(agency_id='ci', creation_time=UTCDateTime(2023, 3, 11, 22, 51, 40, 40000), version='6')\n",
       "\t    preferred_origin_id: ResourceIdentifier(id=\"quakeml:earthquake.usgs.gov/product/origin/ci40153855/ci/1672943324150/product.xml\")\n",
       "\t preferred_magnitude_id: ResourceIdentifier(id=\"quakeml:earthquake.usgs.gov/product/origin/ci40153855/ci/1672943324150/product.xml#magnitude\")\n",
       "\t                   ---------\n",
       "\t     event_descriptions: 1 Elements\n",
       "\t                origins: 1 Elements\n",
       "\t             magnitudes: 1 Elements,\n",
       " Event:\t2023-01-05T23:26:23.500000Z | +33.595, -116.631 | 2.05 ml | manual\n",
       "\n",
       "\t            resource_id: ResourceIdentifier(id=\"quakeml:earthquake.usgs.gov/fdsnws/event/1/query?eventid=ci40153999&format=quakeml\")\n",
       "\t             event_type: 'earthquake'\n",
       "\t          creation_info: CreationInfo(agency_id='ci', creation_time=UTCDateTime(2023, 1, 9, 19, 57, 22, 539000), version='6')\n",
       "\t    preferred_origin_id: ResourceIdentifier(id=\"quakeml:earthquake.usgs.gov/product/origin/ci40153999/ci/1673046725560/product.xml\")\n",
       "\t preferred_magnitude_id: ResourceIdentifier(id=\"quakeml:earthquake.usgs.gov/product/origin/ci40153999/ci/1673046725560/product.xml#magnitude\")\n",
       "\t                   ---------\n",
       "\t     event_descriptions: 1 Elements\n",
       "\t                origins: 1 Elements\n",
       "\t             magnitudes: 1 Elements,\n",
       " Event:\t2023-01-09T19:42:56.460000Z | +33.396, -116.397 | 3.18 ml | manual\n",
       "\n",
       "\t            resource_id: ResourceIdentifier(id=\"quakeml:earthquake.usgs.gov/fdsnws/event/1/query?eventid=ci40155015&format=quakeml\")\n",
       "\t             event_type: 'earthquake'\n",
       "\t          creation_info: CreationInfo(agency_id='ci', creation_time=UTCDateTime(2023, 3, 20, 6, 3, 8, 40000), version='7')\n",
       "\t    preferred_origin_id: ResourceIdentifier(id=\"quakeml:earthquake.usgs.gov/product/origin/ci40155015/ci/1673302715350/product.xml\")\n",
       "\t preferred_magnitude_id: ResourceIdentifier(id=\"quakeml:earthquake.usgs.gov/product/origin/ci40155015/ci/1673302715350/product.xml#magnitude\")\n",
       "\t                   ---------\n",
       "\t     event_descriptions: 1 Elements\n",
       "\t                origins: 1 Elements\n",
       "\t             magnitudes: 1 Elements,\n",
       " Event:\t2023-01-11T18:59:20.030000Z | +33.700, -116.761 | 3.23 ml | manual\n",
       "\n",
       "\t            resource_id: ResourceIdentifier(id=\"quakeml:earthquake.usgs.gov/fdsnws/event/1/query?eventid=ci40401704&format=quakeml\")\n",
       "\t             event_type: 'earthquake'\n",
       "\t          creation_info: CreationInfo(agency_id='ci', creation_time=UTCDateTime(2023, 4, 5, 16, 27, 25, 367000), version='7')\n",
       "\t    preferred_origin_id: ResourceIdentifier(id=\"quakeml:earthquake.usgs.gov/product/origin/ci40401704/ci/1673466127970/product.xml\")\n",
       "\t preferred_magnitude_id: ResourceIdentifier(id=\"quakeml:earthquake.usgs.gov/product/origin/ci40401704/ci/1673466127970/product.xml#magnitude\")\n",
       "\t                   ---------\n",
       "\t     event_descriptions: 1 Elements\n",
       "\t                origins: 1 Elements\n",
       "\t             magnitudes: 1 Elements,\n",
       " Event:\t2023-01-11T18:59:20.030000Z | +33.700, -116.761 | 3.23 ml | manual\n",
       "\n",
       "\t            resource_id: ResourceIdentifier(id=\"quakeml:earthquake.usgs.gov/fdsnws/event/1/query?eventid=ci40401704&format=quakeml\")\n",
       "\t             event_type: 'earthquake'\n",
       "\t          creation_info: CreationInfo(agency_id='ci', creation_time=UTCDateTime(2023, 4, 5, 16, 27, 25, 367000), version='7')\n",
       "\t    preferred_origin_id: ResourceIdentifier(id=\"quakeml:earthquake.usgs.gov/product/origin/ci40401704/ci/1673466127970/product.xml\")\n",
       "\t preferred_magnitude_id: ResourceIdentifier(id=\"quakeml:earthquake.usgs.gov/product/origin/ci40401704/ci/1673466127970/product.xml#magnitude\")\n",
       "\t                   ---------\n",
       "\t     event_descriptions: 1 Elements\n",
       "\t                origins: 1 Elements\n",
       "\t             magnitudes: 1 Elements,\n",
       " Event:\t2023-01-12T17:36:38.160000Z | +33.541, -116.718 | 0.38 ml | manual\n",
       "\n",
       "\t            resource_id: ResourceIdentifier(id=\"quakeml:earthquake.usgs.gov/fdsnws/event/1/query?eventid=ci40402064&format=quakeml\")\n",
       "\t             event_type: 'earthquake'\n",
       "\t          creation_info: CreationInfo(agency_id='ci', creation_time=UTCDateTime(2023, 1, 12, 19, 10, 26, 714000), version='5')\n",
       "\t    preferred_origin_id: ResourceIdentifier(id=\"quakeml:earthquake.usgs.gov/product/origin/ci40402064/ci/1673550625960/product.xml\")\n",
       "\t preferred_magnitude_id: ResourceIdentifier(id=\"quakeml:earthquake.usgs.gov/product/origin/ci40402064/ci/1673550625960/product.xml#magnitude\")\n",
       "\t                   ---------\n",
       "\t     event_descriptions: 1 Elements\n",
       "\t                origins: 1 Elements\n",
       "\t             magnitudes: 1 Elements,\n",
       " Event:\t2023-01-15T09:58:54.070000Z | +33.429, -116.600 | 2.22 ml | manual\n",
       "\n",
       "\t            resource_id: ResourceIdentifier(id=\"quakeml:earthquake.usgs.gov/fdsnws/event/1/query?eventid=ci40402776&format=quakeml\")\n",
       "\t             event_type: 'earthquake'\n",
       "\t          creation_info: CreationInfo(agency_id='ci', creation_time=UTCDateTime(2023, 1, 15, 19, 3, 50, 70000), version='5')\n",
       "\t    preferred_origin_id: ResourceIdentifier(id=\"quakeml:earthquake.usgs.gov/product/origin/ci40402776/ci/1673809407200/product.xml\")\n",
       "\t preferred_magnitude_id: ResourceIdentifier(id=\"quakeml:earthquake.usgs.gov/product/origin/ci40402776/ci/1673809407200/product.xml#magnitude\")\n",
       "\t                   ---------\n",
       "\t     event_descriptions: 1 Elements\n",
       "\t                origins: 1 Elements\n",
       "\t             magnitudes: 1 Elements,\n",
       " Event:\t2023-01-15T09:58:54.070000Z | +33.429, -116.600 | 2.22 ml | manual\n",
       "\n",
       "\t            resource_id: ResourceIdentifier(id=\"quakeml:earthquake.usgs.gov/fdsnws/event/1/query?eventid=ci40402776&format=quakeml\")\n",
       "\t             event_type: 'earthquake'\n",
       "\t          creation_info: CreationInfo(agency_id='ci', creation_time=UTCDateTime(2023, 1, 15, 19, 3, 50, 70000), version='5')\n",
       "\t    preferred_origin_id: ResourceIdentifier(id=\"quakeml:earthquake.usgs.gov/product/origin/ci40402776/ci/1673809407200/product.xml\")\n",
       "\t preferred_magnitude_id: ResourceIdentifier(id=\"quakeml:earthquake.usgs.gov/product/origin/ci40402776/ci/1673809407200/product.xml#magnitude\")\n",
       "\t                   ---------\n",
       "\t     event_descriptions: 1 Elements\n",
       "\t                origins: 1 Elements\n",
       "\t             magnitudes: 1 Elements,\n",
       " Event:\t2023-01-18T18:44:40.560000Z | +33.475, -116.523 | 1.4 ml | manual\n",
       "\n",
       "\t            resource_id: ResourceIdentifier(id=\"quakeml:earthquake.usgs.gov/fdsnws/event/1/query?eventid=ci40403656&format=quakeml\")\n",
       "\t             event_type: 'earthquake'\n",
       "\t          creation_info: CreationInfo(agency_id='ci', creation_time=UTCDateTime(2023, 1, 18, 19, 8, 13, 60000), version='6')\n",
       "\t    preferred_origin_id: ResourceIdentifier(id=\"quakeml:earthquake.usgs.gov/product/origin/ci40403656/ci/1674068830390/product.xml\")\n",
       "\t preferred_magnitude_id: ResourceIdentifier(id=\"quakeml:earthquake.usgs.gov/product/origin/ci40403656/ci/1674068830390/product.xml#magnitude\")\n",
       "\t                   ---------\n",
       "\t     event_descriptions: 1 Elements\n",
       "\t                origins: 1 Elements\n",
       "\t             magnitudes: 1 Elements,\n",
       " Event:\t2023-01-20T22:36:55.260000Z | +33.477, -116.525 | 1.57 ml | manual\n",
       "\n",
       "\t            resource_id: ResourceIdentifier(id=\"quakeml:earthquake.usgs.gov/fdsnws/event/1/query?eventid=ci40404512&format=quakeml\")\n",
       "\t             event_type: 'earthquake'\n",
       "\t          creation_info: CreationInfo(agency_id='ci', creation_time=UTCDateTime(2023, 1, 22, 15, 4, 15, 940000), version='5')\n",
       "\t    preferred_origin_id: ResourceIdentifier(id=\"quakeml:earthquake.usgs.gov/product/origin/ci40404512/ci/1674399841570/product.xml\")\n",
       "\t preferred_magnitude_id: ResourceIdentifier(id=\"quakeml:earthquake.usgs.gov/product/origin/ci40404512/ci/1674399841570/product.xml#magnitude\")\n",
       "\t                   ---------\n",
       "\t     event_descriptions: 1 Elements\n",
       "\t                origins: 1 Elements\n",
       "\t             magnitudes: 1 Elements,\n",
       " Event:\t2023-01-21T12:05:52.350000Z | +33.431, -116.685 | 2.2 ml | manual\n",
       "\n",
       "\t            resource_id: ResourceIdentifier(id=\"quakeml:earthquake.usgs.gov/fdsnws/event/1/query?eventid=ci40404648&format=quakeml\")\n",
       "\t             event_type: 'earthquake'\n",
       "\t          creation_info: CreationInfo(agency_id='ci', creation_time=UTCDateTime(2023, 1, 22, 18, 35, 47, 880000), version='6')\n",
       "\t    preferred_origin_id: ResourceIdentifier(id=\"quakeml:earthquake.usgs.gov/product/origin/ci40404648/ci/1674412506320/product.xml\")\n",
       "\t preferred_magnitude_id: ResourceIdentifier(id=\"quakeml:earthquake.usgs.gov/product/origin/ci40404648/ci/1674412506320/product.xml#magnitude\")\n",
       "\t                   ---------\n",
       "\t     event_descriptions: 1 Elements\n",
       "\t                origins: 1 Elements\n",
       "\t             magnitudes: 1 Elements,\n",
       " Event:\t2023-01-21T12:05:52.350000Z | +33.431, -116.685 | 2.2 ml | manual\n",
       "\n",
       "\t            resource_id: ResourceIdentifier(id=\"quakeml:earthquake.usgs.gov/fdsnws/event/1/query?eventid=ci40404648&format=quakeml\")\n",
       "\t             event_type: 'earthquake'\n",
       "\t          creation_info: CreationInfo(agency_id='ci', creation_time=UTCDateTime(2023, 1, 22, 18, 35, 47, 880000), version='6')\n",
       "\t    preferred_origin_id: ResourceIdentifier(id=\"quakeml:earthquake.usgs.gov/product/origin/ci40404648/ci/1674412506320/product.xml\")\n",
       "\t preferred_magnitude_id: ResourceIdentifier(id=\"quakeml:earthquake.usgs.gov/product/origin/ci40404648/ci/1674412506320/product.xml#magnitude\")\n",
       "\t                   ---------\n",
       "\t     event_descriptions: 1 Elements\n",
       "\t                origins: 1 Elements\n",
       "\t             magnitudes: 1 Elements,\n",
       " Event:\t2023-01-22T23:42:36.130000Z | +33.666, -116.697 | 0.82 ml | manual\n",
       "\n",
       "\t            resource_id: ResourceIdentifier(id=\"quakeml:earthquake.usgs.gov/fdsnws/event/1/query?eventid=ci40404952&format=quakeml\")\n",
       "\t             event_type: 'earthquake'\n",
       "\t          creation_info: CreationInfo(agency_id='ci', creation_time=UTCDateTime(2023, 1, 23, 14, 49, 49, 180000), version='4')\n",
       "\t    preferred_origin_id: ResourceIdentifier(id=\"quakeml:earthquake.usgs.gov/product/origin/ci40404952/ci/1674485361310/product.xml\")\n",
       "\t preferred_magnitude_id: ResourceIdentifier(id=\"quakeml:earthquake.usgs.gov/product/origin/ci40404952/ci/1674485361310/product.xml#magnitude\")\n",
       "\t                   ---------\n",
       "\t     event_descriptions: 1 Elements\n",
       "\t                origins: 1 Elements\n",
       "\t             magnitudes: 1 Elements,\n",
       " Event:\t2023-02-01T09:05:02.320000Z | +33.886, -116.258 | 3.11 ml | manual\n",
       "\n",
       "\t            resource_id: ResourceIdentifier(id=\"quakeml:earthquake.usgs.gov/fdsnws/event/1/query?eventid=ci40164927&format=quakeml\")\n",
       "\t             event_type: 'earthquake'\n",
       "\t          creation_info: CreationInfo(agency_id='ci', creation_time=UTCDateTime(2023, 4, 13, 21, 53, 15, 40000), version='7')\n",
       "\t    preferred_origin_id: ResourceIdentifier(id=\"quakeml:earthquake.usgs.gov/product/origin/ci40164927/ci/1675267862360/product.xml\")\n",
       "\t preferred_magnitude_id: ResourceIdentifier(id=\"quakeml:earthquake.usgs.gov/product/origin/ci40164927/ci/1675267862360/product.xml#magnitude\")\n",
       "\t                   ---------\n",
       "\t     event_descriptions: 1 Elements\n",
       "\t                origins: 1 Elements\n",
       "\t             magnitudes: 1 Elements,\n",
       " Event:\t2023-02-01T09:05:02.320000Z | +33.886, -116.258 | 3.11 ml | manual\n",
       "\n",
       "\t            resource_id: ResourceIdentifier(id=\"quakeml:earthquake.usgs.gov/fdsnws/event/1/query?eventid=ci40164927&format=quakeml\")\n",
       "\t             event_type: 'earthquake'\n",
       "\t          creation_info: CreationInfo(agency_id='ci', creation_time=UTCDateTime(2023, 4, 13, 21, 53, 15, 40000), version='7')\n",
       "\t    preferred_origin_id: ResourceIdentifier(id=\"quakeml:earthquake.usgs.gov/product/origin/ci40164927/ci/1675267862360/product.xml\")\n",
       "\t preferred_magnitude_id: ResourceIdentifier(id=\"quakeml:earthquake.usgs.gov/product/origin/ci40164927/ci/1675267862360/product.xml#magnitude\")\n",
       "\t                   ---------\n",
       "\t     event_descriptions: 1 Elements\n",
       "\t                origins: 1 Elements\n",
       "\t             magnitudes: 1 Elements,\n",
       " Event:\t2023-02-08T17:58:32.450000Z | +33.509, -116.458 | 1.48 ml | manual\n",
       "\n",
       "\t            resource_id: ResourceIdentifier(id=\"quakeml:earthquake.usgs.gov/fdsnws/event/1/query?eventid=ci40412272&format=quakeml\")\n",
       "\t             event_type: 'earthquake'\n",
       "\t          creation_info: CreationInfo(agency_id='ci', creation_time=UTCDateTime(2023, 2, 8, 18, 33, 11, 628000), version='6')\n",
       "\t    preferred_origin_id: ResourceIdentifier(id=\"quakeml:earthquake.usgs.gov/product/origin/ci40412272/ci/1675881180550/product.xml\")\n",
       "\t preferred_magnitude_id: ResourceIdentifier(id=\"quakeml:earthquake.usgs.gov/product/origin/ci40412272/ci/1675881180550/product.xml#magnitude\")\n",
       "\t                   ---------\n",
       "\t     event_descriptions: 1 Elements\n",
       "\t                origins: 1 Elements\n",
       "\t             magnitudes: 1 Elements,\n",
       " Event:\t2023-03-01T22:44:47.140000Z | +33.488, -116.472 | 1.48 ml | manual\n",
       "\n",
       "\t            resource_id: ResourceIdentifier(id=\"quakeml:earthquake.usgs.gov/fdsnws/event/1/query?eventid=ci40419936&format=quakeml\")\n",
       "\t             event_type: 'earthquake'\n",
       "\t          creation_info: CreationInfo(agency_id='ci', creation_time=UTCDateTime(2023, 3, 7, 21, 6, 43, 710000), version='7')\n",
       "\t    preferred_origin_id: ResourceIdentifier(id=\"quakeml:earthquake.usgs.gov/product/origin/ci40419936/ci/1678223157500/product.xml\")\n",
       "\t preferred_magnitude_id: ResourceIdentifier(id=\"quakeml:earthquake.usgs.gov/product/origin/ci40419936/ci/1678223157500/product.xml#magnitude\")\n",
       "\t                   ---------\n",
       "\t     event_descriptions: 1 Elements\n",
       "\t                origins: 1 Elements\n",
       "\t             magnitudes: 1 Elements,\n",
       " Event:\t2023-03-01T22:49:03.580000Z | +33.486, -116.478 | 2.33 ml | manual\n",
       "\n",
       "\t            resource_id: ResourceIdentifier(id=\"quakeml:earthquake.usgs.gov/fdsnws/event/1/query?eventid=ci40419944&format=quakeml\")\n",
       "\t             event_type: 'earthquake'\n",
       "\t          creation_info: CreationInfo(agency_id='ci', creation_time=UTCDateTime(2023, 3, 2, 16, 7, 38, 20000), version='6')\n",
       "\t    preferred_origin_id: ResourceIdentifier(id=\"quakeml:earthquake.usgs.gov/product/origin/ci40419944/ci/1677773209530/product.xml\")\n",
       "\t preferred_magnitude_id: ResourceIdentifier(id=\"quakeml:earthquake.usgs.gov/product/origin/ci40419944/ci/1677773209530/product.xml#magnitude\")\n",
       "\t                   ---------\n",
       "\t     event_descriptions: 1 Elements\n",
       "\t                origins: 1 Elements\n",
       "\t             magnitudes: 1 Elements,\n",
       " Event:\t2023-03-08T04:07:32.850000Z | +34.048, -116.351 | 2.77 ml | manual\n",
       "\n",
       "\t            resource_id: ResourceIdentifier(id=\"quakeml:earthquake.usgs.gov/fdsnws/event/1/query?eventid=ci40422016&format=quakeml\")\n",
       "\t             event_type: 'earthquake'\n",
       "\t          creation_info: CreationInfo(agency_id='ci', creation_time=UTCDateTime(2023, 4, 13, 2, 43, 39, 40000), version='6')\n",
       "\t    preferred_origin_id: ResourceIdentifier(id=\"quakeml:earthquake.usgs.gov/product/origin/ci40422016/ci/1678291139020/product.xml\")\n",
       "\t preferred_magnitude_id: ResourceIdentifier(id=\"quakeml:earthquake.usgs.gov/product/origin/ci40422016/ci/1678291139020/product.xml#magnitude\")\n",
       "\t                   ---------\n",
       "\t     event_descriptions: 1 Elements\n",
       "\t                origins: 1 Elements\n",
       "\t             magnitudes: 1 Elements,\n",
       " Event:\t2023-03-08T04:07:32.850000Z | +34.048, -116.351 | 2.77 ml | manual\n",
       "\n",
       "\t            resource_id: ResourceIdentifier(id=\"quakeml:earthquake.usgs.gov/fdsnws/event/1/query?eventid=ci40422016&format=quakeml\")\n",
       "\t             event_type: 'earthquake'\n",
       "\t          creation_info: CreationInfo(agency_id='ci', creation_time=UTCDateTime(2023, 4, 13, 2, 43, 39, 40000), version='6')\n",
       "\t    preferred_origin_id: ResourceIdentifier(id=\"quakeml:earthquake.usgs.gov/product/origin/ci40422016/ci/1678291139020/product.xml\")\n",
       "\t preferred_magnitude_id: ResourceIdentifier(id=\"quakeml:earthquake.usgs.gov/product/origin/ci40422016/ci/1678291139020/product.xml#magnitude\")\n",
       "\t                   ---------\n",
       "\t     event_descriptions: 1 Elements\n",
       "\t                origins: 1 Elements\n",
       "\t             magnitudes: 1 Elements,\n",
       " Event:\t2023-03-09T10:33:35.540000Z | +33.465, -116.567 | 1.97 ml | manual\n",
       "\n",
       "\t            resource_id: ResourceIdentifier(id=\"quakeml:earthquake.usgs.gov/fdsnws/event/1/query?eventid=ci40182127&format=quakeml\")\n",
       "\t             event_type: 'earthquake'\n",
       "\t          creation_info: CreationInfo(agency_id='ci', creation_time=UTCDateTime(2023, 3, 10, 0, 18, 3, 710000), version='6')\n",
       "\t    preferred_origin_id: ResourceIdentifier(id=\"quakeml:earthquake.usgs.gov/product/origin/ci40182127/ci/1678407427500/product.xml\")\n",
       "\t preferred_magnitude_id: ResourceIdentifier(id=\"quakeml:earthquake.usgs.gov/product/origin/ci40182127/ci/1678407427500/product.xml#magnitude\")\n",
       "\t                   ---------\n",
       "\t     event_descriptions: 1 Elements\n",
       "\t                origins: 1 Elements\n",
       "\t             magnitudes: 1 Elements,\n",
       " Event:\t2023-03-10T01:13:29.650000Z | +33.465, -116.570 | 2.3 ml | manual\n",
       "\n",
       "\t            resource_id: ResourceIdentifier(id=\"quakeml:earthquake.usgs.gov/fdsnws/event/1/query?eventid=ci40182479&format=quakeml\")\n",
       "\t             event_type: 'earthquake'\n",
       "\t          creation_info: CreationInfo(agency_id='ci', creation_time=UTCDateTime(2023, 3, 10, 18, 57, 38, 450000), version='6')\n",
       "\t    preferred_origin_id: ResourceIdentifier(id=\"quakeml:earthquake.usgs.gov/product/origin/ci40182479/ci/1678474571450/product.xml\")\n",
       "\t preferred_magnitude_id: ResourceIdentifier(id=\"quakeml:earthquake.usgs.gov/product/origin/ci40182479/ci/1678474571450/product.xml#magnitude\")\n",
       "\t                   ---------\n",
       "\t     event_descriptions: 1 Elements\n",
       "\t                origins: 1 Elements\n",
       "\t             magnitudes: 1 Elements,\n",
       " Event:\t2023-03-10T06:49:37.800000Z | +33.696, -116.721 | 2.56 ml | manual\n",
       "\n",
       "\t            resource_id: ResourceIdentifier(id=\"quakeml:earthquake.usgs.gov/fdsnws/event/1/query?eventid=ci40182679&format=quakeml\")\n",
       "\t             event_type: 'earthquake'\n",
       "\t          creation_info: CreationInfo(agency_id='ci', creation_time=UTCDateTime(2023, 4, 13, 5, 30, 17, 40000), version='6')\n",
       "\t    preferred_origin_id: ResourceIdentifier(id=\"quakeml:earthquake.usgs.gov/product/origin/ci40182679/ci/1678478532540/product.xml\")\n",
       "\t preferred_magnitude_id: ResourceIdentifier(id=\"quakeml:earthquake.usgs.gov/product/origin/ci40182679/ci/1678478532540/product.xml#magnitude\")\n",
       "\t                   ---------\n",
       "\t     event_descriptions: 1 Elements\n",
       "\t                origins: 1 Elements\n",
       "\t             magnitudes: 1 Elements,\n",
       " Event:\t2023-03-10T14:32:11.630000Z | +33.466, -116.567 | 1.96 ml | manual\n",
       "\n",
       "\t            resource_id: ResourceIdentifier(id=\"quakeml:earthquake.usgs.gov/fdsnws/event/1/query?eventid=ci40182823&format=quakeml\")\n",
       "\t             event_type: 'earthquake'\n",
       "\t          creation_info: CreationInfo(agency_id='ci', creation_time=UTCDateTime(2023, 3, 10, 20, 55, 58, 430000), version='6')\n",
       "\t    preferred_origin_id: ResourceIdentifier(id=\"quakeml:earthquake.usgs.gov/product/origin/ci40182823/ci/1678481721880/product.xml\")\n",
       "\t preferred_magnitude_id: ResourceIdentifier(id=\"quakeml:earthquake.usgs.gov/product/origin/ci40182823/ci/1678481721880/product.xml#magnitude\")\n",
       "\t                   ---------\n",
       "\t     event_descriptions: 1 Elements\n",
       "\t                origins: 1 Elements\n",
       "\t             magnitudes: 1 Elements,\n",
       " Event:\t2023-03-10T15:02:31.670000Z | +33.395, -116.391 | 2.42 ml | manual\n",
       "\n",
       "\t            resource_id: ResourceIdentifier(id=\"quakeml:earthquake.usgs.gov/fdsnws/event/1/query?eventid=ci40182847&format=quakeml\")\n",
       "\t             event_type: 'earthquake'\n",
       "\t          creation_info: CreationInfo(agency_id='ci', creation_time=UTCDateTime(2023, 3, 11, 0, 4, 51, 990000), version='6')\n",
       "\t    preferred_origin_id: ResourceIdentifier(id=\"quakeml:earthquake.usgs.gov/product/origin/ci40182847/ci/1678493038210/product.xml\")\n",
       "\t preferred_magnitude_id: ResourceIdentifier(id=\"quakeml:earthquake.usgs.gov/product/origin/ci40182847/ci/1678493038210/product.xml#magnitude\")\n",
       "\t                   ---------\n",
       "\t     event_descriptions: 1 Elements\n",
       "\t                origins: 1 Elements\n",
       "\t             magnitudes: 1 Elements,\n",
       " Event:\t2023-03-10T15:02:31.670000Z | +33.395, -116.391 | 2.42 ml | manual\n",
       "\n",
       "\t            resource_id: ResourceIdentifier(id=\"quakeml:earthquake.usgs.gov/fdsnws/event/1/query?eventid=ci40182847&format=quakeml\")\n",
       "\t             event_type: 'earthquake'\n",
       "\t          creation_info: CreationInfo(agency_id='ci', creation_time=UTCDateTime(2023, 3, 11, 0, 4, 51, 990000), version='6')\n",
       "\t    preferred_origin_id: ResourceIdentifier(id=\"quakeml:earthquake.usgs.gov/product/origin/ci40182847/ci/1678493038210/product.xml\")\n",
       "\t preferred_magnitude_id: ResourceIdentifier(id=\"quakeml:earthquake.usgs.gov/product/origin/ci40182847/ci/1678493038210/product.xml#magnitude\")\n",
       "\t                   ---------\n",
       "\t     event_descriptions: 1 Elements\n",
       "\t                origins: 1 Elements\n",
       "\t             magnitudes: 1 Elements,\n",
       " Event:\t2023-03-18T16:52:07.010000Z | +33.247, -115.799 | 3.55 mw | manual\n",
       "\n",
       "\t            resource_id: ResourceIdentifier(id=\"quakeml:earthquake.usgs.gov/fdsnws/event/1/query?eventid=ci40186543&format=quakeml\")\n",
       "\t             event_type: 'earthquake'\n",
       "\t          creation_info: CreationInfo(agency_id='ci', creation_time=UTCDateTime(2023, 4, 8, 20, 8, 41, 187000), version='7')\n",
       "\t    preferred_origin_id: ResourceIdentifier(id=\"quakeml:earthquake.usgs.gov/product/origin/ci40186543/ci/1679236767740/product.xml\")\n",
       "\t preferred_magnitude_id: ResourceIdentifier(id=\"quakeml:earthquake.usgs.gov/product/origin/ci40186543/ci/1679236767740/product.xml#magnitude\")\n",
       "\t                   ---------\n",
       "\t     event_descriptions: 1 Elements\n",
       "\t                origins: 1 Elements\n",
       "\t             magnitudes: 1 Elements,\n",
       " Event:\t2023-03-18T17:19:33.150000Z | +33.247, -115.796 | 3.56 mlr | manual\n",
       "\n",
       "\t            resource_id: ResourceIdentifier(id=\"quakeml:earthquake.usgs.gov/fdsnws/event/1/query?eventid=ci40186575&format=quakeml\")\n",
       "\t             event_type: 'earthquake'\n",
       "\t          creation_info: CreationInfo(agency_id='ci', creation_time=UTCDateTime(2023, 4, 13, 14, 50, 4, 815000), version='8')\n",
       "\t    preferred_origin_id: ResourceIdentifier(id=\"quakeml:earthquake.usgs.gov/product/origin/ci40186575/ci/1679239537210/product.xml\")\n",
       "\t preferred_magnitude_id: ResourceIdentifier(id=\"quakeml:earthquake.usgs.gov/product/origin/ci40186575/ci/1679239537210/product.xml#magnitude\")\n",
       "\t                   ---------\n",
       "\t     event_descriptions: 1 Elements\n",
       "\t                origins: 1 Elements\n",
       "\t             magnitudes: 1 Elements,\n",
       " Event:\t2023-03-22T03:21:34.900000Z | +33.465, -116.570 | 2.56 ml | manual\n",
       "\n",
       "\t            resource_id: ResourceIdentifier(id=\"quakeml:earthquake.usgs.gov/fdsnws/event/1/query?eventid=ci40188191&format=quakeml\")\n",
       "\t             event_type: 'earthquake'\n",
       "\t          creation_info: CreationInfo(agency_id='ci', creation_time=UTCDateTime(2023, 3, 23, 1, 38, 3, 159000), version='6')\n",
       "\t    preferred_origin_id: ResourceIdentifier(id=\"quakeml:earthquake.usgs.gov/product/origin/ci40188191/ci/1679503862770/product.xml\")\n",
       "\t preferred_magnitude_id: ResourceIdentifier(id=\"quakeml:earthquake.usgs.gov/product/origin/ci40188191/ci/1679503862770/product.xml#magnitude\")\n",
       "\t                   ---------\n",
       "\t     event_descriptions: 1 Elements\n",
       "\t                origins: 1 Elements\n",
       "\t             magnitudes: 1 Elements,\n",
       " Event:\t2023-03-24T13:45:13.700000Z | +33.178, -116.409 | 3.42 ml | manual\n",
       "\n",
       "\t            resource_id: ResourceIdentifier(id=\"quakeml:earthquake.usgs.gov/fdsnws/event/1/query?eventid=ci40189119&format=quakeml\")\n",
       "\t             event_type: 'earthquake'\n",
       "\t          creation_info: CreationInfo(agency_id='ci', creation_time=UTCDateTime(2023, 4, 5, 16, 36, 25, 151000), version='7')\n",
       "\t    preferred_origin_id: ResourceIdentifier(id=\"quakeml:earthquake.usgs.gov/product/origin/ci40189119/ci/1679844434230/product.xml\")\n",
       "\t preferred_magnitude_id: ResourceIdentifier(id=\"quakeml:earthquake.usgs.gov/product/origin/ci40189119/ci/1679844434230/product.xml#magnitude\")\n",
       "\t                   ---------\n",
       "\t     event_descriptions: 1 Elements\n",
       "\t                origins: 1 Elements\n",
       "\t             magnitudes: 1 Elements,\n",
       " Event:\t2023-03-24T15:04:04.090000Z | +33.180, -116.412 | 2.87 ml | manual\n",
       "\n",
       "\t            resource_id: ResourceIdentifier(id=\"quakeml:earthquake.usgs.gov/fdsnws/event/1/query?eventid=ci40189359&format=quakeml\")\n",
       "\t             event_type: 'earthquake'\n",
       "\t          creation_info: CreationInfo(agency_id='ci', creation_time=UTCDateTime(2023, 4, 16, 18, 22, 5, 40000), version='6')\n",
       "\t    preferred_origin_id: ResourceIdentifier(id=\"quakeml:earthquake.usgs.gov/product/origin/ci40189359/ci/1679848708810/product.xml\")\n",
       "\t preferred_magnitude_id: ResourceIdentifier(id=\"quakeml:earthquake.usgs.gov/product/origin/ci40189359/ci/1679848708810/product.xml#magnitude\")\n",
       "\t                   ---------\n",
       "\t     event_descriptions: 1 Elements\n",
       "\t                origins: 1 Elements\n",
       "\t             magnitudes: 1 Elements,\n",
       " Event:\t2023-03-27T09:28:56.340000Z | +33.786, -116.053 | 2.58 ml | manual\n",
       "\n",
       "\t            resource_id: ResourceIdentifier(id=\"quakeml:earthquake.usgs.gov/fdsnws/event/1/query?eventid=ci40190463&format=quakeml\")\n",
       "\t             event_type: 'earthquake'\n",
       "\t          creation_info: CreationInfo(agency_id='ci', creation_time=UTCDateTime(2023, 4, 1, 9, 1, 49, 573000), version='6')\n",
       "\t    preferred_origin_id: ResourceIdentifier(id=\"quakeml:earthquake.usgs.gov/product/origin/ci40190463/ci/1680025917070/product.xml\")\n",
       "\t preferred_magnitude_id: ResourceIdentifier(id=\"quakeml:earthquake.usgs.gov/product/origin/ci40190463/ci/1680025917070/product.xml#magnitude\")\n",
       "\t                   ---------\n",
       "\t     event_descriptions: 1 Elements\n",
       "\t                origins: 1 Elements\n",
       "\t             magnitudes: 1 Elements,\n",
       " Event:\t2023-03-30T23:07:26.570000Z | +33.593, -116.808 | 0.99 ml | manual\n",
       "\n",
       "\t            resource_id: ResourceIdentifier(id=\"quakeml:earthquake.usgs.gov/fdsnws/event/1/query?eventid=ci39507906&format=quakeml\")\n",
       "\t             event_type: 'earthquake'\n",
       "\t          creation_info: CreationInfo(agency_id='ci', creation_time=UTCDateTime(2023, 3, 31, 0, 5, 44, 1000), version='5')\n",
       "\t    preferred_origin_id: ResourceIdentifier(id=\"quakeml:earthquake.usgs.gov/product/origin/ci39507906/ci/1680221141130/product.xml\")\n",
       "\t preferred_magnitude_id: ResourceIdentifier(id=\"quakeml:earthquake.usgs.gov/product/origin/ci39507906/ci/1680221141130/product.xml#magnitude\")\n",
       "\t                   ---------\n",
       "\t     event_descriptions: 1 Elements\n",
       "\t                origins: 1 Elements\n",
       "\t             magnitudes: 1 Elements,\n",
       " Event:\t2023-03-30T23:07:26.570000Z | +33.593, -116.808 | 0.99 ml | manual\n",
       "\n",
       "\t            resource_id: ResourceIdentifier(id=\"quakeml:earthquake.usgs.gov/fdsnws/event/1/query?eventid=ci39507906&format=quakeml\")\n",
       "\t             event_type: 'earthquake'\n",
       "\t          creation_info: CreationInfo(agency_id='ci', creation_time=UTCDateTime(2023, 3, 31, 0, 5, 44, 1000), version='5')\n",
       "\t    preferred_origin_id: ResourceIdentifier(id=\"quakeml:earthquake.usgs.gov/product/origin/ci39507906/ci/1680221141130/product.xml\")\n",
       "\t preferred_magnitude_id: ResourceIdentifier(id=\"quakeml:earthquake.usgs.gov/product/origin/ci39507906/ci/1680221141130/product.xml#magnitude\")\n",
       "\t                   ---------\n",
       "\t     event_descriptions: 1 Elements\n",
       "\t                origins: 1 Elements\n",
       "\t             magnitudes: 1 Elements,\n",
       " Event:\t2023-03-30T23:07:26.570000Z | +33.593, -116.808 | 0.99 ml | manual\n",
       "\n",
       "\t            resource_id: ResourceIdentifier(id=\"quakeml:earthquake.usgs.gov/fdsnws/event/1/query?eventid=ci39507906&format=quakeml\")\n",
       "\t             event_type: 'earthquake'\n",
       "\t          creation_info: CreationInfo(agency_id='ci', creation_time=UTCDateTime(2023, 3, 31, 0, 5, 44, 1000), version='5')\n",
       "\t    preferred_origin_id: ResourceIdentifier(id=\"quakeml:earthquake.usgs.gov/product/origin/ci39507906/ci/1680221141130/product.xml\")\n",
       "\t preferred_magnitude_id: ResourceIdentifier(id=\"quakeml:earthquake.usgs.gov/product/origin/ci39507906/ci/1680221141130/product.xml#magnitude\")\n",
       "\t                   ---------\n",
       "\t     event_descriptions: 1 Elements\n",
       "\t                origins: 1 Elements\n",
       "\t             magnitudes: 1 Elements]"
      ]
     },
     "execution_count": 146,
     "metadata": {},
     "output_type": "execute_result"
    }
   ],
   "source": [
    "cat_select"
   ]
  },
  {
   "cell_type": "code",
   "execution_count": 119,
   "id": "e0ae149e",
   "metadata": {
    "ExecuteTime": {
     "end_time": "2023-04-16T19:51:19.073771Z",
     "start_time": "2023-04-16T19:51:18.931169Z"
    }
   },
   "outputs": [
    {
     "data": {
      "text/plain": [
       "<matplotlib.collections.PathCollection at 0x7fd42aadfcd0>"
      ]
     },
     "execution_count": 119,
     "metadata": {},
     "output_type": "execute_result"
    },
    {
     "data": {
      "image/png": "[encoded data removed]",
      "text/plain": [
       "<Figure size 640x480 with 1 Axes>"
      ]
     },
     "metadata": {},
     "output_type": "display_data"
    }
   ],
   "source": [
    "plt.plot()"
   ]
  },
  {
   "cell_type": "code",
   "execution_count": 71,
   "id": "7901c224",
   "metadata": {
    "ExecuteTime": {
     "end_time": "2023-04-16T19:17:45.999884Z",
     "start_time": "2023-04-16T19:17:45.993107Z"
    }
   },
   "outputs": [
    {
     "data": {
      "text/plain": [
       "({'time': 2023-03-31T13:37:05.044538Z,\n",
       "  'stations': ['PFO', 'PFO', 'PFO', 'BSPF'],\n",
       "  'trace_ids': ['II.PFO.10.BHZ',\n",
       "   'II.PFO.10.BH1',\n",
       "   'II.PFO.10.BH2',\n",
       "   'PY.BSPF..HJ2'],\n",
       "  'coincidence_sum': 4.0,\n",
       "  'similarity': {},\n",
       "  'duration': 49.34999990463257},\n",
       " Event:\t2023-03-30T23:07:26.570000Z | +33.593, -116.808 | 0.99 ml | manual\n",
       "\n",
       "\t            resource_id: ResourceIdentifier(id=\"quakeml:earthquake.usgs.gov/fdsnws/event/1/query?eventid=ci39507906&format=quakeml\")\n",
       "\t             event_type: 'earthquake'\n",
       "\t          creation_info: CreationInfo(agency_id='ci', creation_time=UTCDateTime(2023, 3, 31, 0, 5, 44, 1000), version='5')\n",
       "\t    preferred_origin_id: ResourceIdentifier(id=\"quakeml:earthquake.usgs.gov/product/origin/ci39507906/ci/1680221141130/product.xml\")\n",
       "\t preferred_magnitude_id: ResourceIdentifier(id=\"quakeml:earthquake.usgs.gov/product/origin/ci39507906/ci/1680221141130/product.xml#magnitude\")\n",
       "\t                   ---------\n",
       "\t     event_descriptions: 1 Elements\n",
       "\t                origins: 1 Elements\n",
       "\t             magnitudes: 1 Elements)"
      ]
     },
     "execution_count": 71,
     "metadata": {},
     "output_type": "execute_result"
    }
   ],
   "source": [
    "trigger_events[-1], events.events[t_idx]"
   ]
  },
  {
   "cell_type": "markdown",
   "id": "3ac8d532",
   "metadata": {},
   "source": [
    "## Process Data"
   ]
  },
  {
   "cell_type": "code",
   "execution_count": null,
   "id": "debea5c3",
   "metadata": {},
   "outputs": [],
   "source": []
  },
  {
   "cell_type": "code",
   "execution_count": null,
   "id": "98ea9ffe",
   "metadata": {
    "ExecuteTime": {
     "end_time": "2023-04-14T10:06:30.041176Z",
     "start_time": "2023-04-14T10:06:29.371456Z"
    }
   },
   "outputs": [],
   "source": [
    "st_xpfo_proc = st_xpfo.copy()\n",
    "st_xpfo_proc.remove_response(inventory=inv_xpfo)\n",
    "\n",
    "st_bspf_proc = st_bspf.copy()\n",
    "st_bspf_proc.remove_sensitivity(inventory=inv_bspf)\n",
    "st_bspf_proc.resample(40.0)"
   ]
  },
  {
   "cell_type": "code",
   "execution_count": null,
   "id": "a6e8a3f7",
   "metadata": {
    "ExecuteTime": {
     "end_time": "2023-04-14T10:06:30.042665Z",
     "start_time": "2023-04-14T10:06:29.752Z"
    }
   },
   "outputs": [],
   "source": [
    "st = obs.Stream()\n",
    "\n",
    "st += st_bspf_proc.copy()\n",
    "st += st_xpfo_proc.copy()\n",
    "\n",
    "st.detrend(\"linear\")\n",
    "st.taper(0.01)\n",
    "st.filter('bandpass', freqmin=1.0, freqmax=20.0, corners=4, zerophase=True)  # optional prefiltering"
   ]
  },
  {
   "cell_type": "code",
   "execution_count": null,
   "id": "62737240",
   "metadata": {
    "ExecuteTime": {
     "start_time": "2023-04-14T10:03:35.753Z"
    }
   },
   "outputs": [],
   "source": [
    "st.plot(equal_scale=False);"
   ]
  },
  {
   "cell_type": "code",
   "execution_count": null,
   "id": "971a2fe6",
   "metadata": {},
   "outputs": [],
   "source": []
  },
  {
   "cell_type": "code",
   "execution_count": 1,
   "id": "3c17a916",
   "metadata": {
    "ExecuteTime": {
     "end_time": "2023-04-14T12:44:49.234244Z",
     "start_time": "2023-04-14T12:44:49.217497Z"
    }
   },
   "outputs": [],
   "source": []
  },
  {
   "cell_type": "code",
   "execution_count": null,
   "id": "b120645a",
   "metadata": {
    "ExecuteTime": {
     "end_time": "2023-04-14T12:46:18.177856Z",
     "start_time": "2023-04-14T12:45:35.183424Z"
    }
   },
   "outputs": [],
   "source": []
  },
  {
   "cell_type": "code",
   "execution_count": null,
   "id": "4ae39900",
   "metadata": {},
   "outputs": [],
   "source": []
  }
 ],
 "metadata": {
  "kernelspec": {
   "display_name": "Python 3 (ipykernel)",
   "language": "python",
   "name": "python3"
  },
  "language_info": {
   "codemirror_mode": {
    "name": "ipython",
    "version": 3
   },
   "file_extension": ".py",
   "mimetype": "text/x-python",
   "name": "python",
   "nbconvert_exporter": "python",
   "pygments_lexer": "ipython3",
   "version": "3.7.8"
  },
  "toc": {
   "base_numbering": 1,
   "nav_menu": {},
   "number_sections": true,
   "sideBar": true,
   "skip_h1_title": false,
   "title_cell": "Table of Contents",
   "title_sidebar": "Contents",
   "toc_cell": false,
   "toc_position": {},
   "toc_section_display": true,
   "toc_window_display": false
  },
  "varInspector": {
   "cols": {
    "lenName": 16,
    "lenType": 16,
    "lenVar": 40
   },
   "kernels_config": {
    "python": {
     "delete_cmd_postfix": "",
     "delete_cmd_prefix": "del ",
     "library": "var_list.py",
     "varRefreshCmd": "print(var_dic_list())"
    },
    "r": {
     "delete_cmd_postfix": ") ",
     "delete_cmd_prefix": "rm(",
     "library": "var_list.r",
     "varRefreshCmd": "cat(var_dic_list()) "
    }
   },
   "types_to_exclude": [
    "module",
    "function",
    "builtin_function_or_method",
    "instance",
    "_Feature"
   ],
   "window_display": false
  }
 },
 "nbformat": 4,
 "nbformat_minor": 5
}
