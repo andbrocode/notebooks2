{
 "cells": [
  {
   "cell_type": "markdown",
   "id": "26ad060e",
   "metadata": {
    "ExecuteTime": {
     "end_time": "2022-09-13T00:35:24.926376Z",
     "start_time": "2022-09-13T00:35:24.923877Z"
    }
   },
   "source": [
    "# Analyse BlueSeis BSPF Event Analysis"
   ]
  },
  {
   "cell_type": "markdown",
   "id": "fa47ca0c",
   "metadata": {},
   "source": [
    "With pressure sensor parascientific and new sensor "
   ]
  },
  {
   "cell_type": "code",
   "execution_count": 55,
   "id": "7ae027cf",
   "metadata": {
    "ExecuteTime": {
     "end_time": "2023-04-19T13:00:46.592605Z",
     "start_time": "2023-04-19T13:00:46.590375Z"
    }
   },
   "outputs": [],
   "source": [
    "import os \n",
    "import obspy as obs\n",
    "import matplotlib.pyplot as plt\n",
    "import numpy as np\n",
    "import pandas as pd\n",
    "\n",
    "from andbro__savefig import __savefig"
   ]
  },
  {
   "cell_type": "code",
   "execution_count": 56,
   "id": "31994b59",
   "metadata": {
    "ExecuteTime": {
     "end_time": "2023-04-19T13:00:46.800045Z",
     "start_time": "2023-04-19T13:00:46.798025Z"
    },
    "code_folding": [
     0
    ]
   },
   "outputs": [],
   "source": [
    "# def __request_data(seed, tbeg, tend):\n",
    "\n",
    "#     from obspy.clients.fdsn import Client\n",
    "\n",
    "#     client = Client(\"IRIS\")\n",
    "\n",
    "#     net, sta, loc, cha = seed.split(\".\")\n",
    "\n",
    "#     try:\n",
    "#         inventory = client.get_stations(network=net, \n",
    "#                                          station=sta,\n",
    "#                                          starttime=tbeg-60,\n",
    "#                                          endtime=tend+60,\n",
    "#                                          level=\"response\",\n",
    "#                                          )\n",
    "#     except:\n",
    "#         print(\"Failed to load inventory!\")\n",
    "#         inventory = None\n",
    "        \n",
    "#     try:\n",
    "#         waveform = client.get_waveforms(network=net,\n",
    "#                                        station=sta,\n",
    "#                                        location=loc,\n",
    "#                                        channel=cha, \n",
    "#                                        starttime=tbeg-60,\n",
    "#                                        endtime=tend+60,\n",
    "#                                        )\n",
    "\n",
    "#     except:\n",
    "#         print(\"Failed to load waveforms!\")\n",
    "#         waveform = None\n",
    "    \n",
    "#     return waveform, inventory"
   ]
  },
  {
   "cell_type": "code",
   "execution_count": 57,
   "id": "0420f6c7",
   "metadata": {
    "ExecuteTime": {
     "end_time": "2023-04-19T13:00:46.947814Z",
     "start_time": "2023-04-19T13:00:46.942463Z"
    },
    "code_folding": [
     0
    ]
   },
   "outputs": [],
   "source": [
    "def __get_theo_baz(config):\n",
    "    \n",
    "    from obspy.clients.fdsn import Client\n",
    "    from obspy.geodetics.base import gps2dist_azimuth\n",
    "\n",
    "    ## get event if not provided\n",
    "    if 'event' not in config.keys():\n",
    "        events = Client(\"USGS\").get_events(starttime=config['eventtime']-20, endtime=config['eventtime']+20)\n",
    "        if len(events) > 1:\n",
    "            print(f\" -> {len(events)} events found!!!\")\n",
    "            print(events)\n",
    "            \n",
    "    event = events[0]\n",
    "    \n",
    "#     print(event.event_descriptions[0]['type'], ': ',event.event_descriptions[0]['text'] + \"\\n\")\n",
    "    \n",
    "    ## event location from event info\n",
    "    config['source_latitude'] = event.origins[0].latitude\n",
    "    config['source_longitude'] = event.origins[0].longitude\n",
    "    \n",
    "    \n",
    "    dist, az, baz = gps2dist_azimuth(\n",
    "                                    config['source_latitude'], config['source_longitude'], \n",
    "                                    config['BSPF_lat'], config['BSPF_lon'],\n",
    "                                    )\n",
    "    \n",
    "\n",
    "    return baz"
   ]
  },
  {
   "cell_type": "markdown",
   "id": "a9cfd05f",
   "metadata": {},
   "source": [
    "## Configurations"
   ]
  },
  {
   "cell_type": "code",
   "execution_count": 58,
   "id": "7a0175a0",
   "metadata": {
    "ExecuteTime": {
     "end_time": "2023-04-19T13:00:47.207450Z",
     "start_time": "2023-04-19T13:00:47.205336Z"
    }
   },
   "outputs": [],
   "source": [
    "workdir = \"/home/andbro/Documents/ROMY/BSPF\""
   ]
  },
  {
   "cell_type": "code",
   "execution_count": 59,
   "id": "42cd60e7",
   "metadata": {
    "ExecuteTime": {
     "end_time": "2023-04-19T13:00:47.472443Z",
     "start_time": "2023-04-19T13:00:47.470156Z"
    }
   },
   "outputs": [],
   "source": [
    "config = {}"
   ]
  },
  {
   "cell_type": "code",
   "execution_count": 60,
   "id": "d4b1e0b9",
   "metadata": {
    "ExecuteTime": {
     "end_time": "2023-04-19T13:00:47.793603Z",
     "start_time": "2023-04-19T13:00:47.790595Z"
    }
   },
   "outputs": [],
   "source": [
    "## blueSeis sensor\n",
    "config['seed_blueseis'] = \"PY.BSPF..HJ*\"\n",
    "\n",
    "## Trillium 240 next to BlueSeis on Pier\n",
    "config['seed_seismometer'] = \"II.PFO.10.BH*\" \n",
    "# config['seed_seismometer'] = \"PY.PFOIX..HH*\" \n",
    "\n",
    "## BSPF coordinates\n",
    "config['BSPF_lon'] = -116.455439\n",
    "config['BSPF_lat'] = 33.610643\n"
   ]
  },
  {
   "cell_type": "markdown",
   "id": "c4eed2cb",
   "metadata": {},
   "source": [
    "## Event Info"
   ]
  },
  {
   "cell_type": "code",
   "execution_count": 61,
   "id": "3c1c5de6",
   "metadata": {
    "ExecuteTime": {
     "end_time": "2023-04-19T13:00:48.579817Z",
     "start_time": "2023-04-19T13:00:48.575454Z"
    }
   },
   "outputs": [],
   "source": [
    "## Peru / Ecuador \n",
    "# config['tbeg'] = obs.UTCDateTime(\"2022-10-05 10:26\")\n",
    "# config['tend'] = obs.UTCDateTime(\"2022-10-05 10:40\")\n",
    "\n",
    "## Near PFO  - !! with XX location code\n",
    "# config['tbeg'] = obs.UTCDateTime(\"2022-10-05 15:39:32\")\n",
    "# config['tend'] = obs.UTCDateTime(\"2022-10-05 15:39:45\")\n",
    "\n",
    "## ---- North Pacific Ocean -> No\n",
    "# config['title'] = \"North Pacific Ocean | 2022-10-25 18:40 UTC | M5.8\"\n",
    "# config['tbeg'] = obs.UTCDateTime(\"2022-11-02 04:53:00\")\n",
    "# config['tend'] = obs.UTCDateTime(\"2022-11-02 05:53:00\")\n",
    "# config['fmin'], config['fmax'] = 0.1, 0.5\n",
    "\n",
    "## ---- Culf of California M5.1 -> No\n",
    "# config['title'] = \"Central California | 2022-10-25 18:40 UTC | M5.1\"\n",
    "# config['tbeg'] = obs.UTCDateTime(\"2022-10-25 18:40:00\")\n",
    "# config['tend'] = obs.UTCDateTime(\"2022-10-25 19:00:00\")\n",
    "# config['fmin'], config['fmax'] = 0.1, 0.5\n",
    "\n",
    "## ---- Local M3.8-> No\n",
    "# config['title'] = \"Local | 2022-10-11 06:19 UTC | M3.8\"\n",
    "# config['tbeg'] = obs.UTCDateTime(\"2022-10-11 06:19:00\")\n",
    "# config['tend'] = obs.UTCDateTime(\"2022-10-11 06:30:00\")\n",
    "# config['fmin'], config['fmax'] = 0.5, 15.0\n",
    "\n",
    "\n",
    "## Gulf of California M6.2 -> somewhat\n",
    "# config['title'] = \"Gullf of California | 2022-11-04 10:02 UTC | M6.2\"\n",
    "# config['tbeg'] = obs.UTCDateTime(\"2022-11-04 10:02\")\n",
    "# config['tend'] = obs.UTCDateTime(\"2022-11-04 10:15\")\n",
    "# config['fmin'], config['fmax'] = 0.025, 0.2\n",
    "\n",
    "## ..., California M3.2 -> good\n",
    "# config['tbeg'] = obs.UTCDateTime(\"2023-01-09 19:42:56\")\n",
    "# config['tend'] = config['tbeg']+20\n",
    "# config['fmin'], config['fmax'] = 0.5, 10.0\n",
    "# config['title'] = f\"Borrego Springs, Ca | {config['tbeg'].date} {str(config['tbeg'].time)[:5]} UTC | M3.2\"\n",
    "\n",
    "## Las Brisas, Mexico M6.2 -> alright\n",
    "# config['title'] = \"Las Brisas, Mexico | 2022-11-22 16:39 UTC | M6.2\"\n",
    "# config['eventtime'] = obs.UTCDateTime(\"2022-11-22 16:39\")\n",
    "# config['tbeg'] = obs.UTCDateTime(\"2022-11-22 16:32\")\n",
    "# config['tend'] = obs.UTCDateTime(\"2022-11-22 17:00\")\n",
    "# config['fmin'], config['fmax'] = 0.01, 0.5\n",
    "\n",
    "## Borrego Springs, California M4.2 -> good\n",
    "config['eventtime'] = obs.UTCDateTime(\"2022-12-31 12:12:26\")\n",
    "config['tbeg'] = obs.UTCDateTime(\"2022-12-31 12:12:27\")\n",
    "config['tend'] = obs.UTCDateTime(\"2022-12-31 12:13\")\n",
    "config['fmin'], config['fmax'] = 0.1, 15.0\n",
    "config['title'] = f\"Borrego Springs, Ca | {config['tbeg'].date} {str(config['tbeg'].time)[:5]} UTC | M4.2\"\n",
    "\n",
    "\n",
    "        \n",
    "## ... \n",
    "# config['tbeg'] = obs.UTCDateTime(\"2023-01-12 17:36:37\")\n",
    "# config['tend'] = config['tbeg']+15\n",
    "# config['fmin'], config['fmax'] = 0.5, 10.0\n",
    "# config['title'] = f\"... | {config['tbeg'].date} {str(config['tbeg'].time)[:5]} UTC | M0.4\"\n",
    "\n",
    "\n",
    "## _________________________________________________\n",
    "\n",
    "## ..., California M2.7\n",
    "# config['tbeg'] = obs.UTCDateTime(\"2023-04-10 14:50:56\")\n",
    "# config['tend'] = config['tbeg']+25\n",
    "# config['fmin'], config['fmax'] = 0.5, 80.0\n",
    "# config['title'] = f\"Borrego Springs, Ca | {config['tbeg'].date} {str(config['tbeg'].time)[:5]} UTC | M2.7\"\n",
    "\n",
    "\n"
   ]
  },
  {
   "cell_type": "markdown",
   "id": "47ff88ba",
   "metadata": {},
   "source": [
    "## Load Data"
   ]
  },
  {
   "cell_type": "code",
   "execution_count": 62,
   "id": "79377418",
   "metadata": {
    "ExecuteTime": {
     "end_time": "2023-04-19T13:00:52.040089Z",
     "start_time": "2023-04-19T13:00:52.037741Z"
    }
   },
   "outputs": [],
   "source": [
    "from functions.request_data import __request_data"
   ]
  },
  {
   "cell_type": "markdown",
   "id": "d4819654",
   "metadata": {},
   "source": [
    "### Load blueSeis Data"
   ]
  },
  {
   "cell_type": "code",
   "execution_count": 64,
   "id": "3b708f31",
   "metadata": {
    "ExecuteTime": {
     "end_time": "2023-04-19T13:01:05.613361Z",
     "start_time": "2023-04-19T13:01:04.802467Z"
    }
   },
   "outputs": [
    {
     "name": "stdout",
     "output_type": "stream",
     "text": [
      "Failed to load inventory!\n",
      "Failed to load waveforms!\n"
     ]
    },
    {
     "ename": "AttributeError",
     "evalue": "'NoneType' object has no attribute 'copy'",
     "output_type": "error",
     "traceback": [
      "\u001b[0;31m---------------------------------------------------------------------------\u001b[0m",
      "\u001b[0;31mAttributeError\u001b[0m                            Traceback (most recent call last)",
      "\u001b[0;32m<ipython-input-64-a7c3e8235ef3>\u001b[0m in \u001b[0;36m<module>\u001b[0;34m\u001b[0m\n\u001b[1;32m      2\u001b[0m \u001b[0;34m\u001b[0m\u001b[0m\n\u001b[1;32m      3\u001b[0m \u001b[0;34m\u001b[0m\u001b[0m\n\u001b[0;32m----> 4\u001b[0;31m \u001b[0mpy_bspf\u001b[0m \u001b[0;34m=\u001b[0m \u001b[0mpy_bspf0\u001b[0m\u001b[0;34m.\u001b[0m\u001b[0mcopy\u001b[0m\u001b[0;34m(\u001b[0m\u001b[0;34m)\u001b[0m\u001b[0;34m\u001b[0m\u001b[0;34m\u001b[0m\u001b[0m\n\u001b[0m\u001b[1;32m      5\u001b[0m \u001b[0;34m\u001b[0m\u001b[0m\n\u001b[1;32m      6\u001b[0m \u001b[0;31m## merge traces that might be split due to data gaps or overlaps\u001b[0m\u001b[0;34m\u001b[0m\u001b[0;34m\u001b[0m\u001b[0;34m\u001b[0m\u001b[0m\n",
      "\u001b[0;31mAttributeError\u001b[0m: 'NoneType' object has no attribute 'copy'"
     ]
    }
   ],
   "source": [
    "py_bspf0, py_bspf_inv = __request_data(config['seed_blueseis'], config['tbeg'], config['tend'])\n",
    "\n",
    "\n",
    "py_bspf = py_bspf0.copy()\n",
    "\n",
    "## merge traces that might be split due to data gaps or overlaps\n",
    "if len(py_bspf) > 3:\n",
    "    py_bspf.merge(fill_value=\"interpolate\")\n",
    "\n",
    "## resample to 40 Hz\n",
    "if config['seed_seismometer'].split(\".\")[3][0] == \"B\":\n",
    "    py_bspf.resample(40)\n",
    "\n",
    "## cut to event\n",
    "py_bspf.trim(config['tbeg'], config['tend'])\n",
    "\n",
    "## remove mean\n",
    "py_bspf.detrend(\"demean\")\n",
    "\n",
    "## apply taper\n",
    "py_bspf.taper(0.1)\n",
    "\n",
    "## bandpass filter\n",
    "py_bspf.filter(\"bandpass\", freqmin=config['fmin'], freqmax=config['fmax'], corners=4, zerophase=True)\n",
    "\n",
    "## show all traces in data stream\n",
    "print(py_bspf)\n",
    "\n",
    "py_bspf.plot(equal_scale=False);"
   ]
  },
  {
   "cell_type": "markdown",
   "id": "3e6072c2",
   "metadata": {},
   "source": [
    "### Load Seismometer Data"
   ]
  },
  {
   "cell_type": "code",
   "execution_count": 65,
   "id": "e18f87d6",
   "metadata": {
    "ExecuteTime": {
     "end_time": "2023-04-19T13:01:14.249905Z",
     "start_time": "2023-04-19T13:01:13.381375Z"
    }
   },
   "outputs": [
    {
     "name": "stdout",
     "output_type": "stream",
     "text": [
      "Failed to load inventory!\n",
      "Failed to load waveforms!\n"
     ]
    },
    {
     "ename": "AttributeError",
     "evalue": "'NoneType' object has no attribute 'copy'",
     "output_type": "error",
     "traceback": [
      "\u001b[0;31m---------------------------------------------------------------------------\u001b[0m",
      "\u001b[0;31mAttributeError\u001b[0m                            Traceback (most recent call last)",
      "\u001b[0;32m<ipython-input-65-187505b0c5ff>\u001b[0m in \u001b[0;36m<module>\u001b[0;34m\u001b[0m\n\u001b[1;32m      2\u001b[0m \u001b[0;34m\u001b[0m\u001b[0m\n\u001b[1;32m      3\u001b[0m \u001b[0;34m\u001b[0m\u001b[0m\n\u001b[0;32m----> 4\u001b[0;31m \u001b[0mii_pfo\u001b[0m \u001b[0;34m=\u001b[0m \u001b[0mii_pfo0\u001b[0m\u001b[0;34m.\u001b[0m\u001b[0mcopy\u001b[0m\u001b[0;34m(\u001b[0m\u001b[0;34m)\u001b[0m\u001b[0;34m\u001b[0m\u001b[0;34m\u001b[0m\u001b[0m\n\u001b[0m\u001b[1;32m      5\u001b[0m \u001b[0;34m\u001b[0m\u001b[0m\n\u001b[1;32m      6\u001b[0m \u001b[0;31m## cut properly\u001b[0m\u001b[0;34m\u001b[0m\u001b[0;34m\u001b[0m\u001b[0;34m\u001b[0m\u001b[0m\n",
      "\u001b[0;31mAttributeError\u001b[0m: 'NoneType' object has no attribute 'copy'"
     ]
    }
   ],
   "source": [
    "ii_pfo0, ii_pfo_inv = __request_data(config['seed_seismometer'], config['tbeg'], config['tend'])\n",
    "\n",
    "\n",
    "ii_pfo = ii_pfo0.copy()\n",
    "\n",
    "## cut properly\n",
    "ii_pfo.trim(config['tbeg'], config['tend'])\n",
    "\n",
    "## demean\n",
    "ii_pfo.detrend(\"demean\")\n",
    "\n",
    "## taper \n",
    "ii_pfo.taper(0.1)\n",
    "\n",
    "## bandpass\n",
    "ii_pfo.filter(\"bandpass\", freqmin=config['fmin'], freqmax=config['fmax'], corners=4, zerophase=True)\n",
    "\n",
    "print(ii_pfo)\n",
    "ii_pfo.plot(equal_scale=False);"
   ]
  },
  {
   "cell_type": "markdown",
   "id": "fcf3d040",
   "metadata": {
    "ExecuteTime": {
     "end_time": "2022-11-08T11:18:42.650132Z",
     "start_time": "2022-11-08T11:18:42.646547Z"
    }
   },
   "source": [
    "### Join Data"
   ]
  },
  {
   "cell_type": "code",
   "execution_count": null,
   "id": "4e932ef6",
   "metadata": {
    "ExecuteTime": {
     "end_time": "2023-04-19T12:48:10.206928Z",
     "start_time": "2023-04-19T12:48:03.904Z"
    },
    "code_folding": []
   },
   "outputs": [],
   "source": [
    "st_new = py_bspf.copy()\n",
    "st_new += ii_pfo"
   ]
  },
  {
   "cell_type": "markdown",
   "id": "c12d978c",
   "metadata": {},
   "source": [
    "### Plotting"
   ]
  },
  {
   "cell_type": "code",
   "execution_count": null,
   "id": "6823170d",
   "metadata": {
    "ExecuteTime": {
     "end_time": "2023-04-19T12:48:10.207713Z",
     "start_time": "2023-04-19T12:48:03.907Z"
    },
    "code_folding": [
     0
    ]
   },
   "outputs": [],
   "source": [
    "def __makeplot(config, st0):\n",
    "\n",
    "    st = st0.copy()\n",
    "    \n",
    "    fig, ax = plt.subplots(len(st),1, figsize=(15,10), sharex=True)\n",
    "\n",
    "    font = 14\n",
    "\n",
    "    time_scaling, time_unit = 1, \"sec\"\n",
    "    rot_scaling = 1e9\n",
    "    trans_scaling = 1e6\n",
    "    \n",
    "    for i, tr in enumerate(st):\n",
    "\n",
    "        if i in [0,1,2]:\n",
    "            ax[i].set_ylabel(r\"$\\omega$ (nrad/s)\", fontsize=font)\n",
    "            ax[i].plot(tr.times()/time_scaling, tr.data*rot_scaling, 'k', label=tr.stats.station+\".\"+tr.stats.channel)\n",
    "\n",
    "        elif i in [3,4,5]:\n",
    "            ax[i].set_ylabel(r\"u ($\\mu$m/s)\", fontsize=font)\n",
    "            ax[i].plot(tr.times()/time_scaling, tr.data*trans_scaling, 'k', label=tr.stats.station+\".\"+tr.stats.channel)\n",
    "        \n",
    "        elif i in [6,7,8]:\n",
    "            ax[i].set_ylabel(r\"$\\omega$ (nrad/s)\", fontsize=font)\n",
    "            ax[i].plot(tr.times()/time_scaling, tr.data*rot_scaling, 'k', label=tr.stats.station+\".\"+tr.stats.channel)\n",
    "            \n",
    "        ax[i].legend(loc=1)\n",
    "        \n",
    "    ax[len(st)-1].set_xlabel(f\"Time ({time_unit}) from {st[0].stats.starttime.date} {str(st[0].stats.starttime.time).split('.')[0]} UTC\", fontsize=font)\n",
    "    ax[0].set_title(config['title']+f\" | {config['fmin']} - {config['fmax']} Hz\", fontsize=font, pad=10)\n",
    "    \n",
    "    plt.show();\n",
    "    return fig"
   ]
  },
  {
   "cell_type": "code",
   "execution_count": null,
   "id": "d40c9cb3",
   "metadata": {
    "ExecuteTime": {
     "end_time": "2023-04-19T12:48:10.208535Z",
     "start_time": "2023-04-19T12:48:03.908Z"
    },
    "code_folding": [
     0
    ]
   },
   "outputs": [],
   "source": [
    "fig = __makeplot(config, st_new)"
   ]
  },
  {
   "cell_type": "code",
   "execution_count": null,
   "id": "3e6efd11",
   "metadata": {
    "ExecuteTime": {
     "end_time": "2023-04-19T12:48:10.209419Z",
     "start_time": "2023-04-19T12:48:03.910Z"
    }
   },
   "outputs": [],
   "source": [
    "# __savefig(fig, outpath=\"/home/andbro/Downloads/tmp/BSPF/\", outname=\"BSPF_event_1\", mode=\"png\", dpi=300)"
   ]
  },
  {
   "cell_type": "code",
   "execution_count": null,
   "id": "33b96a08",
   "metadata": {
    "ExecuteTime": {
     "end_time": "2023-04-19T12:48:10.210328Z",
     "start_time": "2023-04-19T12:48:03.912Z"
    },
    "code_folding": [
     0
    ]
   },
   "outputs": [],
   "source": [
    "def __makeplotStreamSpectra2(st, config, fscale=None):\n",
    "\n",
    "    from scipy import fftpack\n",
    "    from andbro__fft import __fft\n",
    "    import matplotlib.pyplot as plt\n",
    "\n",
    "    NN = len(st)\n",
    "    rot_scaling, rot_unit = 1e6, r\"$\\mu$rad/s\"\n",
    "    trans_scaling, trans_unit = 1e3, r\"mm/s\"\n",
    "        \n",
    "    fig, axes = plt.subplots(NN,2,figsize=(15,int(NN*2)), sharex='col')\n",
    "\n",
    "    font = 14\n",
    "    \n",
    "    plt.subplots_adjust(hspace=0.3)\n",
    "\n",
    "    ## _______________________________________________\n",
    "\n",
    "    st.sort(keys=['channel'], reverse=True)\n",
    "    \n",
    "    for i, tr in enumerate(st):\n",
    "\n",
    "#         comp_fft = abs(fftpack.fft(tr.data))\n",
    "#         ff       = fftpack.fftfreq(comp_fft.size, d=1/tr.stats.sampling_rate)\n",
    "#         comp_fft = fftpack.fftshift(comp_fft)\n",
    "#         ff, spec = ff[1:len(ff)//2], abs(fftpack.fft(tr.data)[1:len(ff)//2])\n",
    "\n",
    "        if tr.stats.channel[-2] == \"J\":\n",
    "            scaling = rot_scaling\n",
    "        elif tr.stats.channel[-2] == \"H\":\n",
    "            scaling = trans_scaling\n",
    "\n",
    "        spec, ff, ph = __fft(tr.data*scaling, tr.stats.delta, window=None, normalize=None)\n",
    "    \n",
    "    \n",
    "        ## _________________________________________________________________\n",
    "        if tr.stats.channel[-2] == \"J\":\n",
    "            axes[i,0].plot(\n",
    "                        tr.times(),\n",
    "                        tr.data*rot_scaling,\n",
    "                        color='black',\n",
    "                        label='{} {}'.format(tr.stats.station, tr.stats.channel),\n",
    "                        lw=1.0,\n",
    "                        )\n",
    "            axes[i,1].fill_between(ff, 0, spec, alpha=0.9, color='black', lw=0)\n",
    "\n",
    "\n",
    "        elif tr.stats.channel[-2] == \"H\":\n",
    "            axes[i,0].plot(\n",
    "                        tr.times(),\n",
    "                        tr.data*trans_scaling,\n",
    "                        color='darkblue',\n",
    "                        label='{} {}'.format(tr.stats.station, tr.stats.channel),\n",
    "                        lw=1.0,\n",
    "                        )\n",
    "            axes[i,1].fill_between(ff, 0, spec, alpha=0.9, color='darkblue', lw=0)\n",
    "\n",
    "\n",
    "        ## _________________________________________________________________\n",
    "#         if fscale == \"loglog\":\n",
    "# #             axes[i,1].loglog(ff, spec, color='black', lw=1.0)\n",
    "#             axes[i,1].fill_between(ff, 0, spec, alpha=0.7, color='black', lw=1.)\n",
    "            \n",
    "#         elif fscale == \"loglin\":\n",
    "# #             axes[i,1].semilogx(ff, spec, color='black', lw=1.0)\n",
    "#             axes[i,1].fill_between(ff, 0, spec, alpha=0.7, color='black', lw=1.)\n",
    "\n",
    "#         elif fscale == \"linlog\":\n",
    "# #             axes[i,1].semilogy(ff, spec, color='black', lw=1.0)\n",
    "#             axes[i,1].fill_between(ff, 0, spec, alpha=0.7, color='black', lw=1.)\n",
    "\n",
    "#         else:\n",
    "# #             axes[i,1].plot(ff, spec, color='black', lw=1.0)\n",
    "#             axes[i,1].fill_between(ff, 0, spec, alpha=0.7, color='black')\n",
    "\n",
    "        \n",
    "        if tr.stats.channel[1] == \"J\":\n",
    "            sym, unit = r\"$\\Omega$\", rot_unit\n",
    "        elif tr.stats.channel[1] == \"H\":\n",
    "            sym, unit = \"v\", trans_unit\n",
    "        else:\n",
    "            unit = \"Amplitude\", \"a.u.\"\n",
    "            \n",
    "        axes[i,0].set_ylabel(f'{sym} ({unit})',fontsize=font)    \n",
    "        axes[i,1].set_ylabel(f'ASD \\n({unit}/Hz)',fontsize=font)        \n",
    "        axes[i,0].legend(loc='upper left',bbox_to_anchor=(0.8, 1.10), framealpha=1.0)\n",
    "        \n",
    "#         axes[i,0].ticklabel_format(axis='y', style='sci', scilimits=(0,0))\n",
    "#         axes[i,1].ticklabel_format(axis='y', style='sci', scilimits=(0,0))\n",
    "\n",
    "    if \"fmin\" in config.keys() and \"fmax\" in config.keys():\n",
    "        axes[i,1].set_xlim(config['fmin'],config['fmax'])\n",
    "\n",
    "    axes[NN-1,0].set_xlabel(f\"Time from {tr.stats.starttime.date} {str(tr.stats.starttime.time)[:8]} (s)\",fontsize=font)     \n",
    "    axes[NN-1,1].set_xlabel(f\"Frequency (Hz)\",fontsize=font)     \n",
    "\n",
    "    return fig\n",
    "\n",
    "fig = __makeplotStreamSpectra2(st_new, config, fscale=\"linlin\");"
   ]
  },
  {
   "cell_type": "code",
   "execution_count": null,
   "id": "92fdaf8d",
   "metadata": {
    "ExecuteTime": {
     "end_time": "2023-04-19T12:48:10.211245Z",
     "start_time": "2023-04-19T12:48:03.914Z"
    }
   },
   "outputs": [],
   "source": [
    "# __savefig(fig, outpath=\"/home/andbro/Downloads/tmp/BSPF/\", outname=\"BSPF_ASD_event_1\", mode=\"png\", dpi=300)"
   ]
  },
  {
   "cell_type": "code",
   "execution_count": null,
   "id": "c2658bf2",
   "metadata": {
    "ExecuteTime": {
     "end_time": "2023-04-19T12:48:10.212156Z",
     "start_time": "2023-04-19T12:48:03.917Z"
    },
    "code_folding": []
   },
   "outputs": [],
   "source": [
    "def __makeplotStreamSpectra3(st0, config):\n",
    "\n",
    "    from scipy import fftpack\n",
    "    from andbro__fft import __fft\n",
    "    from matplotlib.gridspec import GridSpec\n",
    "    import matplotlib.pyplot as plt\n",
    "\n",
    "    st = st0.copy()\n",
    "    \n",
    "    NN = 5\n",
    "    rot_scaling, rot_unit = 1e9, r\"nrad/s\"\n",
    "    trans_scaling, trans_unit = 1e6, r\"$\\mu$m/s\"\n",
    "    \n",
    "    rot_scaling, rot_unit = 1, r\"nrad/s\"\n",
    "    trans_scaling, trans_unit = 1, r\"$\\mu$m/s\"\n",
    "\n",
    "    colors = ['crimson', 'red', 'magenta', 'green', 'yellowgreen', 'lime']\n",
    "\n",
    "#     fig, axes = plt.subplots(NN, 2 ,figsize=(15, int(NN*2)), sharex='col', layout=\"constrained\")\n",
    "    fig = plt.figure(figsize=(15,12))\n",
    "    \n",
    "    gs = GridSpec(NN, 2, figure=fig)\n",
    "    \n",
    "    ax1 = fig.add_subplot(gs[0, :-1])\n",
    "    ax2 = fig.add_subplot(gs[1, :-1])\n",
    "    ax3 = fig.add_subplot(gs[2, :-1])\n",
    "\n",
    "    ax4 = fig.add_subplot(gs[0, 1:])\n",
    "    ax5 = fig.add_subplot(gs[1, 1:])\n",
    "    ax6 = fig.add_subplot(gs[2, 1:])\n",
    "\n",
    "    ax7 = fig.add_subplot(gs[3:, :])\n",
    "    \n",
    "    \n",
    "    font = 14\n",
    "    \n",
    "    plt.subplots_adjust(hspace=0.1)\n",
    "\n",
    "    ## _______________________________________________\n",
    "\n",
    "    st.sort(keys=['channel'], reverse=True)\n",
    "    \n",
    "    ffs, specs, names = [], [], []\n",
    "    for i, tr in enumerate(st):\n",
    "\n",
    "        tr = tr.normalize()\n",
    "        \n",
    "        if tr.stats.channel[-2] == \"J\":\n",
    "            scaling = rot_scaling\n",
    "        elif tr.stats.channel[-2] == \"H\":\n",
    "            scaling = trans_scaling\n",
    "\n",
    "        spec, ff, ph = __fft(tr.data*scaling, tr.stats.delta, window=None, normalize=True)\n",
    "        \n",
    "        ffs.append(ff)\n",
    "        specs.append(spec)\n",
    "        names.append(f\"{tr.stats.station}.{tr.stats.channel}\")\n",
    "    \n",
    "    hz = st.select(channel=\"*HZ\")[0]\n",
    "    hn = st.select(channel=\"*HN\")[0]\n",
    "    he = st.select(channel=\"*HE\")[0]\n",
    "\n",
    "    jz = st.select(channel=\"*JZ\")[0]\n",
    "    jn = st.select(channel=\"*JN\")[0]\n",
    "    je = st.select(channel=\"*JE\")[0]\n",
    "\n",
    "    ax1.plot(hz.times(), hz.data*trans_scaling, 'k', label=f\"{hz.stats.station}.{hz.stats.channel}\")\n",
    "    ax2.plot(hn.times(), hn.data*trans_scaling, 'k', label=f\"{hn.stats.station}.{hn.stats.channel}\")\n",
    "    ax3.plot(he.times(), he.data*trans_scaling, 'k', label=f\"{he.stats.station}.{he.stats.channel}\")\n",
    "\n",
    "    ax4.plot(jz.times(), jz.data*rot_scaling, 'k', label=f\"{jz.stats.station}.{jz.stats.channel}\")\n",
    "    ax5.plot(jn.times(), jn.data*rot_scaling, 'k', label=f\"{jn.stats.station}.{jn.stats.channel}\")\n",
    "    ax6.plot(je.times(), je.data*rot_scaling, 'k', label=f\"{je.stats.station}.{je.stats.channel}\")\n",
    "\n",
    "    \n",
    "    for ii, (ff, spec, name) in enumerate(zip(ffs, specs, names)):\n",
    "#         ax7.plot(ff, spec, label=name, alpha=0.6, color=colors[ii])\n",
    "        ax7.fill_between(ff, 0, spec, label=name, alpha=0.2, color=colors[ii])\n",
    "    \n",
    "    \n",
    "    for ax in [ax1, ax2, ax3, ax4 ,ax5, ax6]:\n",
    "        ax.legend(loc=1, fontsize=font-2)\n",
    "        ax.set_ylim(-1,1)\n",
    "        ax.spines['right'].set_visible(False)\n",
    "        ax.spines['top'].set_visible(False)\n",
    "        ax.spines['bottom'].set_visible(False)\n",
    "        if ax not in [ax3, ax6]:\n",
    "            ax.set(xticklabels=[]) \n",
    "            ax.tick_params(bottom=False)  \n",
    "        \n",
    "        \n",
    "    if \"fmin\" in config.keys() and \"fmax\" in config.keys():\n",
    "        ax7.set_xlim(config['fmin'], config['fmax'])    \n",
    "    \n",
    "    ax7.legend(loc=2, fontsize=font-2)\n",
    "\n",
    "    ax1.set_ylabel(\"norm. acc. (m/s)\", fontsize=font-1)\n",
    "    ax2.set_ylabel(\"norm. acc. (m/s)\", fontsize=font-1)\n",
    "    ax3.set_ylabel(\"norm. acc. (m/s)\", fontsize=font-1)\n",
    "\n",
    "    ax4.set_ylabel(\"norm. rot. (rad/s)\", fontsize=font-1)\n",
    "    ax5.set_ylabel(\"norm. rot. (rad/s)\", fontsize=font-1)\n",
    "    ax6.set_ylabel(\"norm. rot. (rad/s)\", fontsize=font-1)\n",
    "\n",
    "    ax3.set_xlabel(\"Time (s)\", fontsize=font)\n",
    "    ax6.set_xlabel(\"Time (s)\", fontsize=font)\n",
    "\n",
    "    ax7.set_xlabel(\"Frequency (Hz)\", fontsize=font)\n",
    "    ax7.set_ylabel(\"Spec. Amplitude ()\", fontsize=font)\n",
    "    \n",
    "    \n",
    "    bbox = list(ax7.get_position().bounds)\n",
    "    bbox[3] = .9*bbox[3] # Reduce the height of the axis a bit.\n",
    "    ax7.set_position(bbox)\n",
    "    \n",
    "#     axes[i,0].ticklabel_format(axis='y', style='sci', scilimits=(0,0))\n",
    "#     axes[i,1].ticklabel_format(axis='y', style='sci', scilimits=(0,0))\n",
    "\n",
    "    return fig"
   ]
  },
  {
   "cell_type": "code",
   "execution_count": null,
   "id": "c6d5ce3b",
   "metadata": {
    "ExecuteTime": {
     "end_time": "2023-04-19T12:48:10.213000Z",
     "start_time": "2023-04-19T12:48:03.919Z"
    },
    "code_folding": [
     0
    ]
   },
   "outputs": [],
   "source": [
    "fig = __makeplotStreamSpectra3(st_new, config);"
   ]
  },
  {
   "cell_type": "markdown",
   "id": "9e92ba8b",
   "metadata": {},
   "source": [
    "### ZRT"
   ]
  },
  {
   "cell_type": "code",
   "execution_count": null,
   "id": "18b0fd36",
   "metadata": {
    "ExecuteTime": {
     "end_time": "2023-04-19T12:48:10.213800Z",
     "start_time": "2023-04-19T12:48:03.920Z"
    }
   },
   "outputs": [],
   "source": [
    "st_new"
   ]
  },
  {
   "cell_type": "code",
   "execution_count": null,
   "id": "b788db88",
   "metadata": {
    "ExecuteTime": {
     "end_time": "2023-04-19T12:48:10.214628Z",
     "start_time": "2023-04-19T12:48:03.922Z"
    },
    "code_folding": [
     0
    ]
   },
   "outputs": [],
   "source": [
    "baz = __get_theo_baz(config)"
   ]
  },
  {
   "cell_type": "code",
   "execution_count": null,
   "id": "03a94baa",
   "metadata": {
    "ExecuteTime": {
     "end_time": "2023-04-19T10:17:41.897383Z",
     "start_time": "2023-04-19T10:17:41.887581Z"
    }
   },
   "outputs": [],
   "source": []
  },
  {
   "cell_type": "code",
   "execution_count": null,
   "id": "2f5b8d2a",
   "metadata": {
    "ExecuteTime": {
     "end_time": "2023-04-19T12:48:10.215503Z",
     "start_time": "2023-04-19T12:48:03.925Z"
    }
   },
   "outputs": [],
   "source": [
    "from obspy.signal.rotate import rotate_ne_rt\n",
    "\n",
    "## rotate acc NE to RT\n",
    "if \"PFOIX\" in config['seed_seismometer']:\n",
    "    acc = st_new.copy().select(station=\"PFOIX\")\n",
    "else:\n",
    "    acc = st_new.copy().select(station=\"PFO\")\n",
    "\n",
    "    \n",
    "acc_N = acc.select(channel='*N')[0]\n",
    "acc_E = acc.select(channel='*E')[0]\n",
    "\n",
    "acc_N.data, acc_E.data = rotate_ne_rt(acc_N.data, acc_E.data, baz)\n",
    "\n",
    "# acc_N.stats.channel = \"BHR\"\n",
    "# acc_E.stats.channel = \"BHT\"\n",
    "\n",
    "## rotate rot NE to RT   \n",
    "rot = st_new.copy().select(station=\"BSPF\")\n",
    "\n",
    "rot_N = rot.select(channel='*N')[0]\n",
    "rot_E = rot.select(channel='*E')[0]\n",
    "\n",
    "rot_N.data, rot_E.data = rotate_ne_rt(rot_N.data, rot_E.data, baz)\n",
    "\n",
    "# rot_N.stats.channel = \"HJR\"\n",
    "# rot_E.stats.channel = \"HJT\"\n",
    "\n",
    "st_zrt = obs.Stream()\n",
    "\n",
    "st_zrt += st_new.copy().select(channel=\"*HZ\")[0]\n",
    "st_zrt += st_new.copy().select(channel=\"*JZ\")[0]\n",
    "st_zrt += acc_N\n",
    "st_zrt += acc_E\n",
    "st_zrt += rot_N\n",
    "st_zrt += rot_E\n",
    "\n",
    "# st_zrt.plot();"
   ]
  },
  {
   "cell_type": "code",
   "execution_count": null,
   "id": "01dd53cd",
   "metadata": {
    "ExecuteTime": {
     "end_time": "2023-04-19T12:48:10.216331Z",
     "start_time": "2023-04-19T12:48:03.926Z"
    }
   },
   "outputs": [],
   "source": [
    "fig = __makeplotStreamSpectra3(st_zrt, config);"
   ]
  },
  {
   "cell_type": "markdown",
   "id": "9ba5c207",
   "metadata": {},
   "source": [
    "## Load ADR "
   ]
  },
  {
   "cell_type": "code",
   "execution_count": null,
   "id": "9440bd82",
   "metadata": {
    "ExecuteTime": {
     "end_time": "2023-04-19T12:48:10.217146Z",
     "start_time": "2023-04-19T12:48:03.928Z"
    }
   },
   "outputs": [],
   "source": [
    "from functions.compute_adr_pfo import __compute_adr_pfo"
   ]
  },
  {
   "cell_type": "code",
   "execution_count": null,
   "id": "99b24ac7",
   "metadata": {
    "ExecuteTime": {
     "end_time": "2023-04-19T12:48:10.217918Z",
     "start_time": "2023-04-19T12:48:03.930Z"
    }
   },
   "outputs": [],
   "source": [
    "adr = __compute_adr_pfo(config['tbeg'], config['tend'])"
   ]
  },
  {
   "cell_type": "code",
   "execution_count": null,
   "id": "bbac096a",
   "metadata": {
    "ExecuteTime": {
     "end_time": "2023-04-19T12:48:10.218760Z",
     "start_time": "2023-04-19T12:48:03.932Z"
    }
   },
   "outputs": [],
   "source": [
    "## taper \n",
    "adr.taper(0.01)\n",
    "\n",
    "## bandpass\n",
    "adr.filter(\"bandpass\", freqmin=config['fmin'], freqmax=config['fmax'], corners=4, zerophase=True)"
   ]
  },
  {
   "cell_type": "code",
   "execution_count": null,
   "id": "8165d501",
   "metadata": {
    "ExecuteTime": {
     "end_time": "2023-04-19T12:48:10.219590Z",
     "start_time": "2023-04-19T12:48:03.933Z"
    },
    "code_folding": [
     0
    ]
   },
   "outputs": [],
   "source": [
    "def __makeplot2(config, st0):\n",
    "\n",
    "    st = st0.copy()\n",
    "    \n",
    "    fig, ax = plt.subplots(len(st),1, figsize=(15,10), sharex=True)\n",
    "\n",
    "    font = 14\n",
    "\n",
    "    time_scaling, time_unit = 1, \"sec\"\n",
    "    rot_scaling = 1\n",
    "    trans_scaling = 1\n",
    "    \n",
    "    for i, tr in enumerate(st):\n",
    "\n",
    "        if i in [0,1,2]:\n",
    "#             ax[i].set_ylabel(r\"$\\omega$ (nrad/s)\", fontsize=font)\n",
    "            ax[i].plot(tr.times()/time_scaling, tr.data*rot_scaling, 'black', label=tr.stats.station+\".\"+tr.stats.channel)\n",
    "\n",
    "        elif i in [3,4,5]:\n",
    "#             ax[i].set_ylabel(r\"u ($\\mu$m/s)\", fontsize=font)\n",
    "            ax[i].plot(tr.times()/time_scaling, tr.data*trans_scaling, 'darkred', label=tr.stats.station+\".\"+tr.stats.channel)\n",
    "        \n",
    "        elif i in [6,7,8]:\n",
    "#             ax[i].set_ylabel(r\"$\\omega$ (nrad/s)\", fontsize=font)\n",
    "            ax[i].plot(tr.times()/time_scaling, tr.data*rot_scaling, 'darkgreen', label=tr.stats.station+\".\"+tr.stats.channel)\n",
    "         \n",
    "        ax[i].set_ylim(-1,1)\n",
    "        ax[i].spines['right'].set_visible(False)\n",
    "        ax[i].spines['top'].set_visible(False)\n",
    "        if i != int(len(st)-1):\n",
    "            ax[i].spines['bottom'].set_visible(False)\n",
    "#             ax[i].set(xticklabels=[]) \n",
    "            ax[i].tick_params(bottom=False)\n",
    "        \n",
    "        ax[i].legend(loc=1)\n",
    "        \n",
    "    ax[len(st)-1].set_xlabel(f\"Time ({time_unit}) from {st[0].stats.starttime.date} {str(st[0].stats.starttime.time).split('.')[0]} UTC\", fontsize=font)\n",
    "    ax[0].set_title(config['title']+f\" | {config['fmin']} - {config['fmax']} Hz\", fontsize=font, pad=10)\n",
    "    \n",
    "    plt.show();\n",
    "    return fig"
   ]
  },
  {
   "cell_type": "code",
   "execution_count": null,
   "id": "842a8560",
   "metadata": {
    "ExecuteTime": {
     "end_time": "2023-04-19T12:48:10.220409Z",
     "start_time": "2023-04-19T12:48:03.935Z"
    }
   },
   "outputs": [],
   "source": [
    "st_all = st_new.copy()\n",
    "st_all += adr.copy()\n",
    "\n",
    "st_all = st_all.trim(adr[0].stats.starttime, adr[0].stats.endtime)\n",
    "\n",
    "st_all = st_all.normalize()\n",
    "\n",
    "fig = __makeplot2(config, st_all)"
   ]
  },
  {
   "cell_type": "code",
   "execution_count": null,
   "id": "ddd5593a",
   "metadata": {
    "ExecuteTime": {
     "end_time": "2023-04-19T12:48:10.221209Z",
     "start_time": "2023-04-19T12:48:03.937Z"
    }
   },
   "outputs": [],
   "source": [
    "st_adr = obs.Stream()\n",
    "st_adr += py_bspf.copy()\n",
    "st_adr += adr.copy()\n",
    "\n",
    "st_adr = st_adr.trim(adr[0].stats.starttime, adr[0].stats.endtime)"
   ]
  },
  {
   "cell_type": "markdown",
   "id": "879f39b6",
   "metadata": {},
   "source": [
    "### Plot Coherence"
   ]
  },
  {
   "cell_type": "code",
   "execution_count": null,
   "id": "98b3069a",
   "metadata": {
    "ExecuteTime": {
     "end_time": "2023-04-19T12:48:10.222079Z",
     "start_time": "2023-04-19T12:48:03.939Z"
    },
    "code_folding": [
     0
    ]
   },
   "outputs": [],
   "source": [
    "def __makeplotStreamSpectra4(st0, config):\n",
    "\n",
    "    from scipy import fftpack\n",
    "    from andbro__fft import __fft\n",
    "    from matplotlib.gridspec import GridSpec\n",
    "    from andbro__compute_coherence_stream import __coherence_stream\n",
    "    from numpy import array\n",
    "    \n",
    "    import matplotlib.pyplot as plt\n",
    "\n",
    "    st = st0.copy()\n",
    "    \n",
    "    NN = 5\n",
    "    rot_scaling, rot_unit = 1e9, r\"nrad/s\"\n",
    "    trans_scaling, trans_unit = 1e6, r\"$\\mu$m/s\"\n",
    "    \n",
    "    rot_scaling, rot_unit = 1, r\"nrad/s\"\n",
    "    trans_scaling, trans_unit = 1, r\"$\\mu$m/s\"\n",
    "\n",
    "    colors = ['crimson', 'red', 'magenta', 'darkblue', 'navy', 'indigo']\n",
    "\n",
    "    fig = plt.figure(figsize=(15,12))\n",
    "    \n",
    "    gs = GridSpec(NN, 2, figure=fig)\n",
    "    \n",
    "    ax1 = fig.add_subplot(gs[0, :-1])\n",
    "    ax2 = fig.add_subplot(gs[1, :-1])\n",
    "    ax3 = fig.add_subplot(gs[2, :-1])\n",
    "\n",
    "    ax4 = fig.add_subplot(gs[0, 1:])\n",
    "    ax5 = fig.add_subplot(gs[1, 1:])\n",
    "    ax6 = fig.add_subplot(gs[2, 1:])\n",
    "\n",
    "    ax7 = fig.add_subplot(gs[3:, :])\n",
    "    \n",
    "    \n",
    "    font = 14\n",
    "    \n",
    "    plt.subplots_adjust(hspace=0.1)\n",
    "\n",
    "    ## _______________________________________________\n",
    "\n",
    "    st.sort(keys=['channel'], reverse=True)\n",
    "    \n",
    "    ff, spec = __coherence_stream(st, st.select(channel=\"HJZ\"), nseg=512, nover=50)\n",
    "    \n",
    "    names, ffs, specs = [], [], []\n",
    "    for i, tr in enumerate(st):\n",
    "        tr = tr.normalize()\n",
    "        \n",
    "        ffs.append(ff[i])\n",
    "        specs.append(spec[i][0])\n",
    "        names.append(f\"{tr.stats.station}.{tr.stats.channel}\")\n",
    "        \n",
    "        \n",
    "    hz = st.select(channel=\"BJZ\")[0]\n",
    "    hn = st.select(channel=\"BJN\")[0]\n",
    "    he = st.select(channel=\"BJE\")[0]\n",
    "\n",
    "    jz = st.select(channel=\"HJZ\")[0]\n",
    "    jn = st.select(channel=\"HJN\")[0]\n",
    "    je = st.select(channel=\"HJE\")[0]\n",
    "\n",
    "    ax1.plot(hz.times(), hz.data*trans_scaling, 'k', label=f\"{hz.stats.station}.{hz.stats.channel}\")\n",
    "    ax2.plot(hn.times(), hn.data*trans_scaling, 'k', label=f\"{hn.stats.station}.{hn.stats.channel}\")\n",
    "    ax3.plot(he.times(), he.data*trans_scaling, 'k', label=f\"{he.stats.station}.{he.stats.channel}\")\n",
    "\n",
    "    ax4.plot(jz.times(), jz.data*rot_scaling, 'k', label=f\"{jz.stats.station}.{jz.stats.channel}\")\n",
    "    ax5.plot(jn.times(), jn.data*rot_scaling, 'k', label=f\"{jn.stats.station}.{jn.stats.channel}\")\n",
    "    ax6.plot(je.times(), je.data*rot_scaling, 'k', label=f\"{je.stats.station}.{je.stats.channel}\")\n",
    "\n",
    "    \n",
    "    for ii, (ff, spec, name) in enumerate(zip(ffs, specs, names)):\n",
    "        ax7.plot(ff, spec, label=name, alpha=0.6, color=colors[ii])\n",
    "    \n",
    "    \n",
    "    for ax in [ax1, ax2, ax3, ax4 ,ax5, ax6]:\n",
    "        ax.legend(loc=1, fontsize=font-2)\n",
    "        ax.set_ylim(-1,1)\n",
    "        ax.spines['right'].set_visible(False)\n",
    "        ax.spines['top'].set_visible(False)\n",
    "        ax.spines['bottom'].set_visible(False)\n",
    "        if ax not in [ax3, ax6]:\n",
    "            ax.set(xticklabels=[]) \n",
    "            ax.tick_params(bottom=False)  \n",
    "        \n",
    "        \n",
    "    if \"fmin\" in config.keys() and \"fmax\" in config.keys():\n",
    "        ax7.set_xlim(config['fmin'], config['fmax'])    \n",
    "    \n",
    "    ax7.legend(loc=2, fontsize=font-2)\n",
    "\n",
    "    ax3.set_xlabel(\"Time (s)\", fontsize=font)\n",
    "    ax6.set_xlabel(\"Time (s)\", fontsize=font)\n",
    "\n",
    "    ax7.set_xlabel(\"Frequency (Hz)\", fontsize=font)\n",
    "    ax7.set_ylabel(\"Spec. Amplitude ()\", fontsize=font)\n",
    "    \n",
    "    bbox = list(ax7.get_position().bounds)\n",
    "    bbox[3] = .9*bbox[3] # Reduce the height of the axis a bit.\n",
    "    ax7.set_position(bbox)\n",
    "    \n",
    "#     axes[i,0].ticklabel_format(axis='y', style='sci', scilimits=(0,0))\n",
    "#     axes[i,1].ticklabel_format(axis='y', style='sci', scilimits=(0,0))\n",
    "\n",
    "    return fig"
   ]
  },
  {
   "cell_type": "code",
   "execution_count": null,
   "id": "eedf1073",
   "metadata": {
    "ExecuteTime": {
     "end_time": "2023-04-19T12:48:10.222923Z",
     "start_time": "2023-04-19T12:48:03.940Z"
    }
   },
   "outputs": [],
   "source": [
    "fig = __makeplotStreamSpectra2(st_adr, config);"
   ]
  },
  {
   "cell_type": "code",
   "execution_count": null,
   "id": "7fc797e0",
   "metadata": {
    "ExecuteTime": {
     "end_time": "2023-04-19T12:48:10.223725Z",
     "start_time": "2023-04-19T12:48:03.941Z"
    }
   },
   "outputs": [],
   "source": [
    "fig = __makeplotStreamSpectra4(st_adr, config);"
   ]
  },
  {
   "cell_type": "markdown",
   "id": "8062d48e",
   "metadata": {},
   "source": [
    "### Plot CrossCorrelation"
   ]
  },
  {
   "cell_type": "code",
   "execution_count": null,
   "id": "1c6bae65",
   "metadata": {
    "ExecuteTime": {
     "end_time": "2023-04-19T12:48:10.224562Z",
     "start_time": "2023-04-19T12:48:03.943Z"
    }
   },
   "outputs": [],
   "source": [
    "py_z = st_adr[0]\n",
    "ii_z = st_adr[3]"
   ]
  },
  {
   "cell_type": "code",
   "execution_count": null,
   "id": "029fe35d",
   "metadata": {
    "ExecuteTime": {
     "end_time": "2023-04-19T12:48:10.225377Z",
     "start_time": "2023-04-19T12:48:03.944Z"
    }
   },
   "outputs": [],
   "source": [
    "py_z.plot(); ii_z.plot();"
   ]
  },
  {
   "cell_type": "code",
   "execution_count": null,
   "id": "361ceb52",
   "metadata": {
    "ExecuteTime": {
     "end_time": "2023-04-19T12:48:10.226194Z",
     "start_time": "2023-04-19T12:48:03.946Z"
    },
    "code_folding": []
   },
   "outputs": [],
   "source": [
    "from functions.compute_cc_for_fbands import __compute_cc_for_fbands"
   ]
  },
  {
   "cell_type": "code",
   "execution_count": null,
   "id": "3a835a7a",
   "metadata": {
    "ExecuteTime": {
     "end_time": "2023-04-19T12:48:10.227040Z",
     "start_time": "2023-04-19T12:48:03.947Z"
    },
    "code_folding": [
     2
    ]
   },
   "outputs": [],
   "source": [
    "# def __compute_cc_for_fbands(tr1, tr2, fmin=1, fmax=20, fband_type='octave'):\n",
    "    \n",
    "#     def __get_frequency_bands(f_min=fmin, f_max=fmax, fband_type=fband_type):\n",
    "\n",
    "#         from numpy import sqrt, array\n",
    "\n",
    "#         f_lower, f_upper, f_centers = [], [], []\n",
    "#         fcenter = f_max\n",
    "\n",
    "#         while fcenter > f_min:\n",
    "#             f_lower.append(fcenter/(sqrt(sqrt(2.))))\n",
    "#             f_upper.append(fcenter*(sqrt(sqrt(2.))))\n",
    "#             f_centers.append(fcenter)\n",
    "\n",
    "#             fcenter = fcenter/(sqrt(2.))\n",
    "\n",
    "#         return array(f_lower), array(f_upper), array(f_centers)\n",
    "    \n",
    "    \n",
    "#     from numpy import array, corrcoef\n",
    "\n",
    "#     f_lower, f_upper, f_centers = __get_frequency_bands(f_min=fmin, f_max=fmax, fband_type=fband_type)\n",
    "\n",
    "\n",
    "#     ccorrs = []\n",
    "#     for fl, fu in zip(f_lower, f_upper):\n",
    "\n",
    "#         tr01 = tr1.copy();\n",
    "#         tr02 = tr2.copy();\n",
    "\n",
    "#         tr01.detrend(\"linear\")\n",
    "#         tr02.detrend(\"linear\")\n",
    "\n",
    "#         tr01.normalize();\n",
    "#         tr02.normalize();\n",
    "        \n",
    "#         tr01.taper(0.1);\n",
    "#         tr02.taper(0.1);\n",
    "        \n",
    "#         tr01 = tr01.filter(\"bandpass\", freqmin=fl, freqmax=fu, corners=8, zerophase=True);\n",
    "#         tr02 = tr02.filter(\"bandpass\", freqmin=fl, freqmax=fu, corners=8, zerophase=True);\n",
    "\n",
    "#         tr01.normalize();\n",
    "#         tr02.normalize();        \n",
    "        \n",
    "#         ccorrs.append(corrcoef(tr01.data, tr02.data)[0][1])\n",
    "\n",
    "# #         plt.figure()\n",
    "# #         plt.plot(tr01.data)\n",
    "# #         plt.plot(tr02.data) \n",
    "    \n",
    "#     return array(f_centers), array(ccorrs)"
   ]
  },
  {
   "cell_type": "code",
   "execution_count": null,
   "id": "ba80b11f",
   "metadata": {
    "ExecuteTime": {
     "end_time": "2023-04-19T12:48:10.227846Z",
     "start_time": "2023-04-19T12:48:03.948Z"
    },
    "code_folding": [
     0,
     2
    ]
   },
   "outputs": [],
   "source": [
    "f_centers, ccorrs = __compute_cc_for_fbands(py_z, ii_z, fmin=config['fmin'], fmax=config['fmax'], fband_type='octave')\n",
    "\n",
    "plt.figure()\n",
    "plt.scatter(f_centers, ccorrs)\n",
    "plt.plot(f_centers, ccorrs)\n",
    "plt.xscale(\"log\")"
   ]
  },
  {
   "cell_type": "code",
   "execution_count": null,
   "id": "2aeedfed",
   "metadata": {
    "ExecuteTime": {
     "end_time": "2023-04-19T12:48:10.228819Z",
     "start_time": "2023-04-19T12:48:03.950Z"
    },
    "code_folding": [
     0
    ]
   },
   "outputs": [],
   "source": [
    "def __makeplotStreamSpectra5(st0, config):\n",
    "\n",
    "    from scipy import fftpack\n",
    "    from andbro__fft import __fft\n",
    "    from matplotlib.gridspec import GridSpec\n",
    "    from andbro__crosscorrelation import __crosscorrelation\n",
    "    from numpy import array\n",
    "    \n",
    "    import matplotlib.pyplot as plt\n",
    "\n",
    "    st = st0.copy()\n",
    "    \n",
    "    NN = 5\n",
    "    rot_scaling, rot_unit = 1e9, r\"nrad/s\"\n",
    "    trans_scaling, trans_unit = 1e6, r\"$\\mu$m/s\"\n",
    "    \n",
    "    rot_scaling, rot_unit = 1, r\"nrad/s\"\n",
    "    trans_scaling, trans_unit = 1, r\"$\\mu$m/s\"\n",
    "\n",
    "    colors = ['crimson', 'red', 'magenta', 'darkblue', '#3776ab', 'indigo']\n",
    "\n",
    "    fig = plt.figure(figsize=(15,12))\n",
    "    \n",
    "    gs = GridSpec(NN, 2, figure=fig)\n",
    "    \n",
    "    ax1 = fig.add_subplot(gs[0, :-1])\n",
    "    ax2 = fig.add_subplot(gs[1, :-1])\n",
    "    ax3 = fig.add_subplot(gs[2, :-1])\n",
    "\n",
    "    ax4 = fig.add_subplot(gs[0, 1:])\n",
    "    ax5 = fig.add_subplot(gs[1, 1:])\n",
    "    ax6 = fig.add_subplot(gs[2, 1:])\n",
    "\n",
    "    ax7 = fig.add_subplot(gs[3:, :])\n",
    "    \n",
    "    \n",
    "    font = 14\n",
    "    \n",
    "    plt.subplots_adjust(hspace=0.1)\n",
    "\n",
    "    ## _______________________________________________\n",
    "\n",
    "    st.normalize()\n",
    "    \n",
    "    st.sort(keys=['channel'], reverse=True)\n",
    "        \n",
    "    names, ffs, ccs = [], [], []\n",
    "    for comp in [\"Z\", \"N\", \"E\"]:\n",
    "        \n",
    "        tmp = st.select(channel=f\"*{comp}\")\n",
    "\n",
    "        f_centers, ccorrs = __compute_cc_for_fbands(tmp[0], tmp[1], \n",
    "                                                    fmin=config['fmin'], \n",
    "                                                    fmax=config['fmax'], \n",
    "                                                    fband_type='octave'\n",
    "                                                   )\n",
    "\n",
    "        names.append(f\"{tmp[0].stats.channel}\")\n",
    "        ffs.append(f_centers)\n",
    "        ccs.append(ccorrs)\n",
    "        \n",
    "    hz = st.select(channel=\"BJZ\")[0]\n",
    "    hn = st.select(channel=\"BJN\")[0]\n",
    "    he = st.select(channel=\"BJE\")[0]\n",
    "\n",
    "    jz = st.select(channel=\"HJZ\")[0]\n",
    "    jn = st.select(channel=\"HJN\")[0]\n",
    "    je = st.select(channel=\"HJE\")[0]\n",
    "\n",
    "    ax1.plot(hz.times(), hz.data*trans_scaling, colors[3], label=f\"{hz.stats.station}.{hz.stats.channel}\")\n",
    "    ax2.plot(hn.times(), hn.data*trans_scaling, colors[4], label=f\"{hn.stats.station}.{hn.stats.channel}\")\n",
    "    ax3.plot(he.times(), he.data*trans_scaling, colors[5], label=f\"{he.stats.station}.{he.stats.channel}\")\n",
    "\n",
    "    ax4.plot(jz.times(), jz.data*rot_scaling, colors[3], label=f\"{jz.stats.station}.{jz.stats.channel}\")\n",
    "    ax5.plot(jn.times(), jn.data*rot_scaling, colors[4], label=f\"{jn.stats.station}.{jn.stats.channel}\")\n",
    "    ax6.plot(je.times(), je.data*rot_scaling, colors[5], label=f\"{je.stats.station}.{je.stats.channel}\")\n",
    "\n",
    "    \n",
    "    for ii, (ff, cc, name) in enumerate(zip(ffs, ccs, names)):\n",
    "#         ax7.plot(ff, spec, label=name, alpha=0.6, color=colors[ii])\n",
    "        ax7.plot(ff, cc, label=name[-1], alpha=0.6, color=colors[ii+3])\n",
    "        ax7.scatter(ff, cc, alpha=0.6, color=colors[ii+3])\n",
    "        ax7.set_xscale(\"log\")\n",
    "    \n",
    "    for ax in [ax1, ax2, ax3, ax4 ,ax5, ax6]:\n",
    "        ax.legend(loc=1, fontsize=font-2)\n",
    "        ax.set_ylim(-1,1)\n",
    "        ax.spines['right'].set_visible(False)\n",
    "        ax.spines['top'].set_visible(False)\n",
    "        ax.spines['bottom'].set_visible(False)\n",
    "        if ax not in [ax3, ax6]:\n",
    "            ax.set(xticklabels=[]) \n",
    "            ax.tick_params(bottom=False)  \n",
    "        \n",
    "        \n",
    "#     if \"fmin\" in config.keys() and \"fmax\" in config.keys():\n",
    "#         ax7.set_xlim(config['fmin'], config['fmax'])    \n",
    "    \n",
    "    ax7.legend(loc=4, fontsize=font-2)\n",
    "\n",
    "    ax3.set_xlabel(\"Time (s)\", fontsize=font)\n",
    "    ax6.set_xlabel(\"Time (s)\", fontsize=font)\n",
    "\n",
    "    ax7.set_xlabel(\"Frequency (Hz)\", fontsize=font)\n",
    "    ax7.set_ylabel(\"Spec. Amplitude ()\", fontsize=font)\n",
    "    \n",
    "    bbox = list(ax7.get_position().bounds)\n",
    "    bbox[3] = .9*bbox[3] # Reduce the height of the axis a bit.\n",
    "    ax7.set_position(bbox)\n",
    "    \n",
    "#     axes[i,0].ticklabel_format(axis='y', style='sci', scilimits=(0,0))\n",
    "#     axes[i,1].ticklabel_format(axis='y', style='sci', scilimits=(0,0))\n",
    "\n",
    "    return fig"
   ]
  },
  {
   "cell_type": "code",
   "execution_count": null,
   "id": "63a3aef0",
   "metadata": {
    "ExecuteTime": {
     "end_time": "2023-04-19T12:48:10.229634Z",
     "start_time": "2023-04-19T12:48:03.952Z"
    }
   },
   "outputs": [],
   "source": [
    "fig = __makeplotStreamSpectra5(st_adr, config);"
   ]
  },
  {
   "cell_type": "markdown",
   "id": "9fe74500",
   "metadata": {},
   "source": [
    "## Backazimuth"
   ]
  },
  {
   "cell_type": "code",
   "execution_count": null,
   "id": "2b1c90f1",
   "metadata": {
    "ExecuteTime": {
     "end_time": "2023-04-19T12:48:10.230418Z",
     "start_time": "2023-04-19T12:48:03.953Z"
    }
   },
   "outputs": [],
   "source": [
    "config['station_longitude'] = config['BSPF_lon']\n",
    "config['station_latitude']  = config['BSPF_lat']\n",
    "\n",
    "config['win_length_sec'] = .5  ## window length for correlation\n",
    "config['step'] = 1\n",
    "config['overlap'] = 25"
   ]
  },
  {
   "cell_type": "code",
   "execution_count": null,
   "id": "173bfa91",
   "metadata": {
    "ExecuteTime": {
     "end_time": "2023-04-19T12:48:10.231226Z",
     "start_time": "2023-04-19T12:48:03.954Z"
    }
   },
   "outputs": [],
   "source": [
    "from functions.compute_backazimuth import __compute_backazimuth\n",
    "\n",
    "out = __compute_backazimuth(ii_pfo, py_bspf, config, plot=True)"
   ]
  },
  {
   "cell_type": "code",
   "execution_count": null,
   "id": "50eb292c",
   "metadata": {
    "ExecuteTime": {
     "end_time": "2023-04-19T12:48:10.232151Z",
     "start_time": "2023-04-19T12:48:03.956Z"
    },
    "code_folding": [
     0
    ]
   },
   "outputs": [],
   "source": [
    "# def __compute_backazimuth(st_acc, st_rot, config, event=None, plot=True):\n",
    "    \n",
    "#     import numpy as np\n",
    "#     import matplotlib as mpl\n",
    "    \n",
    "#     from obspy import read, read_events, UTCDateTime\n",
    "#     from obspy.clients.fdsn import Client\n",
    "#     from obspy.geodetics.base import gps2dist_azimuth\n",
    "#     from obspy.signal.cross_correlation import xcorr\n",
    "#     from obspy.signal.rotate import rotate_ne_rt\n",
    "\n",
    "#     ## _______________________________    \n",
    "#     ## check config\n",
    "#     keywords=['tbeg','tend','station_latitude', 'station_longitude',\n",
    "#               'step', 'win_length_sec', 'overlap', 'eventtime']\n",
    "\n",
    "#     for key in keywords: \n",
    "#         if key not in config.keys():\n",
    "#             print(f\" -> {key} is missing in config!\\n\")\n",
    "            \n",
    "            \n",
    "#     ## _______________________________    \n",
    "#     ## Defaults\n",
    "#     if 'win_length_sec' not in config.keys():\n",
    "#         config['win_length_sec'] = .5    ## window length for correlation\n",
    "#     if 'step' not in config.keys():\n",
    "#         config['step'] = 1\n",
    "#     if 'overlap' not in config.keys():\n",
    "#         config['overlap'] = 25\n",
    "    \n",
    "    \n",
    "#     ## time period\n",
    "#     config['tbeg'], config['tend'] = UTCDateTime(config['tbeg']), UTCDateTime(config['tend'])\n",
    "\n",
    "#     ## _______________________________    \n",
    "#     ## streams\n",
    "#     ACC = st_acc.trim(config['tbeg'], config['tend'])\n",
    "#     ROT = st_rot.trim(config['tbeg'], config['tend']).select(channel=\"*Z\")\n",
    "    \n",
    "#     ## _______________________________    \n",
    "#     ## get event if not provided\n",
    "#     if not event:\n",
    "#         events = Client(\"USGS\").get_events(starttime=config['eventtime']-20, endtime=config['eventtime']+20)\n",
    "#         if len(events) > 1:\n",
    "#             print(f\" -> {len(events)} events found!!!\")\n",
    "#             print(events)\n",
    "            \n",
    "#     event = events[0]\n",
    "    \n",
    "#     ## event location from event info\n",
    "#     config['source_latitude'] = event.origins[0].latitude\n",
    "#     config['source_longitude'] = event.origins[0].longitude\n",
    "    \n",
    "#     print(event.event_descriptions[0]['type'], ': ',event.event_descriptions[0]['text'] + \"\\n\")\n",
    "    \n",
    "\n",
    "#     ## _______________________________        \n",
    "#     ## theoretical backazimuth and distance\n",
    "    \n",
    "#     config['baz'] = gps2dist_azimuth(\n",
    "#                                     config['source_latitude'], config['source_longitude'], \n",
    "#                                     config['station_latitude'], config['station_longitude'],\n",
    "#                                     )\n",
    "\n",
    "#     print('Epicentral distance [m]:       ',np.round(config['baz'][0],1))\n",
    "#     print('Theoretical azimuth [deg]:     ', np.round(config['baz'][1],1))\n",
    "#     print('Theoretical backazimuth [deg]: ', np.round(config['baz'][2],1))\n",
    "\n",
    "#     ## _______________________________    \n",
    "#     ## backazimuth estimation\n",
    "    \n",
    "#     config['sampling_rate'] = int(ROT.select(channel=\"*Z\")[0].stats.sampling_rate)\n",
    "    \n",
    "#     config['num_windows'] = len(ROT.select(channel=\"*Z\")[0]) // (int(config['sampling_rate'] * config['win_length_sec']))\n",
    "\n",
    "    \n",
    "#     backas = np.linspace(0, 360 - config['step'], int(360 / config['step']))\n",
    "   \n",
    "#     corrbaz = []\n",
    "    \n",
    "#     ind = None\n",
    "    \n",
    "#     for i_deg in range(0, len(backas)):\n",
    "        \n",
    "#         for i_win in range(0, config['num_windows']):\n",
    "            \n",
    "#             ## infer indices\n",
    "#             idx1 = int(config['sampling_rate'] * config['win_length_sec'] * i_win)\n",
    "#             idx2 = int(config['sampling_rate'] * config['win_length_sec'] * (i_win + 1))\n",
    "            \n",
    "#             ## add overlap\n",
    "#             if i_win > 0 and i_win < config['num_windows']:\n",
    "#                 idx1 = int(idx1 - config['overlap']/100 * config['win_length_sec'] * config['sampling_rate'])\n",
    "#                 idx2 = int(idx2 + config['overlap']/100 * config['win_length_sec'] * config['sampling_rate'])\n",
    "                    \n",
    "#             ## rotate NE to RT   \n",
    "#             R, T = rotate_ne_rt(ACC.select(channel='*N')[0].data, \n",
    "#                                 ACC.select(channel='*E')[0].data,\n",
    "#                                 backas[i_deg]\n",
    "#                                )\n",
    "            \n",
    "#             ## compute correlation for backazimuth\n",
    "#             corrbaz0 = xcorr(ROT.select(channel=\"*Z\")[0][idx1:idx2], \n",
    "#                              T[idx1:idx2], 0,\n",
    "#                               )\n",
    "            \n",
    "#             corrbaz.append(corrbaz0[1])\n",
    "\n",
    "            \n",
    "#     corrbaz = np.asarray(corrbaz)\n",
    "#     corrbaz = corrbaz.reshape(len(backas), config['num_windows'])\n",
    "\n",
    "\n",
    "#     ## extract maxima\n",
    "#     maxcorr = np.array([backas[corrbaz[:, l1].argmax()] for l1 in range(0, config['num_windows'])])\n",
    "\n",
    "#     ## create mesh grid\n",
    "#     mesh = np.meshgrid(np.arange(config['win_length_sec']/2, config['win_length_sec'] * config['num_windows'], config['win_length_sec']), backas)\n",
    "\n",
    "    \n",
    "\n",
    "#     ## _______________________________\n",
    "#     ## Plotting\n",
    "#     def __makeplot():\n",
    "    \n",
    "#         ## get rotated acceleration\n",
    "#         R, T = rotate_ne_rt(ACC.select(component='N')[0].data, \n",
    "#                             ACC.select(component='E')[0].data,\n",
    "#                             config['baz'][2]\n",
    "#                            )\n",
    "\n",
    "#         fig, ax = plt.subplots(3, 1, figsize=(15, 10))\n",
    "\n",
    "#         ## parameters\n",
    "#         font = 14\n",
    "#         acc_scaling, acc_unit = 1e3, \"mm/s$^2$\"\n",
    "#         rot_scaling, rot_unit = 1e6, \"$\\mu$rad/s\"\n",
    "\n",
    "#         ## create time axis\n",
    "#         time = np.linspace(0, len(ACC[0].data)/ACC[0].stats.sampling_rate, len(ACC[0].data))\n",
    "\n",
    "#         ## plot vertical rotation rate\n",
    "#         ax[0].plot(time, ROT.select(channel=\"*Z\")[0].data*rot_scaling, label='vertical rotation rate')\n",
    "\n",
    "#         ax[0].set_xlim(time[0], time[-1])\n",
    "#         ax[0].set_ylabel(f'vert. rot. rate \\n({rot_unit})', fontsize=font)\n",
    "#         ax[0].legend()\n",
    "\n",
    "#         # add P- and S-wave arrivals\n",
    "#         ROT_max = max(ROT.select(channel=\"*Z\")[0].data*rot_scaling)\n",
    "        \n",
    "#         ## plot transverse acceleration\n",
    "#         ax[1].plot(time, T*acc_scaling, 'k',label='transverse acceleration')\n",
    "#         ax[1].set_xlim(time[0], time[-1])\n",
    "#         ax[1].set_ylabel(f'transv. acc. \\n({acc_unit})', fontsize=font)\n",
    "#         ax[1].ticklabel_format(axis='y', style='sci', scilimits=(-2,2))\n",
    "#         ax[1].legend()\n",
    "        \n",
    "\n",
    "#         ## backazimuth estimation plot\n",
    "#         im = ax[2].pcolormesh(mesh[0], mesh[1], corrbaz, cmap=plt.cm.RdYlGn_r, vmin=-1, vmax=1, shading=\"auto\")\n",
    "#         ax[2].set_xlim(time[0], time[-1])\n",
    "#         ax[2].set_ylim(0, 360)\n",
    "#         ax[2].set_ylabel(u'estimated \\nbackazimuth (°)', fontsize=font)\n",
    "#         ax[2].set_xlabel('time (s)', fontsize=font)\n",
    "\n",
    "#         ## plot maximal correclation values\n",
    "#         ax[2].plot(np.arange(config['win_length_sec']/2., config['win_length_sec'] * len(maxcorr), config['win_length_sec']), maxcorr, '.k')\n",
    "\n",
    "#         ## plot theoretical Backazimuth for comparison\n",
    "#         xx = np.arange(0, config['win_length_sec'] * len(maxcorr) + 1, config['win_length_sec'])\n",
    "#         tba = np.ones(len(xx)) * config['baz'][2]\n",
    "#         if config['baz'][2] < 330:\n",
    "#             x_text, y_text = time[int(0.82*len(time))], config['baz'][2]+5\n",
    "#         else:\n",
    "#             x_text, y_text = time[int(0.82*len(time))], config['baz'][2]-15\n",
    "\n",
    "#         ax[2].plot(xx, tba, c='.5', lw=1.5, alpha=0.6)\n",
    "#         ax[2].text(x_text, y_text, u'Theor. BAz = '+str(round(config['baz'][2],2))+'°', color='k', fontsize=font-1)\n",
    "\n",
    "#         edist = round(config['baz'][0]/1000,1)\n",
    "        \n",
    "#         if 'fmin' in config.keys() and 'fmax' in config.keys():\n",
    "#             ax[0].set_title(config['title'] +f\" | {edist} km\" + f\" | {config['fmin']}-{config['fmax']} Hz\", pad=15, fontsize=font)\n",
    "#         else:\n",
    "#             ax[0].set_title(config['title'] +f\" | {edist} km\", pad=15, fontsize=font)\n",
    " \n",
    "            \n",
    "#         ## add colorbar\n",
    "#     #     norm = mpl.colors.Normalize(vmin=-1, vmax=1)\n",
    "#     #     cb1 = mpl.colorbar.ColorbarBase(fig, cmap=plt.cm.RdYlGn_r, norm=norm, orientation='vertical')\n",
    "#         cax = ax[2].inset_axes([1.01, 0., 0.02, 1])\n",
    "#         cb1 = plt.colorbar(im, ax=ax[2], cax=cax)\n",
    "\n",
    "#         plt.show();\n",
    "#         return fig\n",
    "    \n",
    "    \n",
    "#     if plot:\n",
    "#         __makeplot();\n",
    "        \n",
    "\n",
    "#     ## _______________________________\n",
    "#     ## prepare output        \n",
    "    \n",
    "#     output = {}\n",
    "    \n",
    "#     output['baz_mesh'] = mesh\n",
    "#     output['baz_corr'] = corrbaz\n",
    "#     output['baz_theo'] = config['baz']\n",
    "#     output['acc_transverse'] = T\n",
    "#     output['acc_radial'] = R\n",
    "#     output['rot_vertical'] = ROT.select(channel=\"*Z\")\n",
    "#     output['event'] = event\n",
    "    \n",
    "#     return output\n",
    "        \n",
    "# out = __compute_backazimuth(ii_pfo, py_bspf, config, plot=True)"
   ]
  },
  {
   "cell_type": "code",
   "execution_count": null,
   "id": "e86537ee",
   "metadata": {},
   "outputs": [],
   "source": []
  },
  {
   "cell_type": "code",
   "execution_count": null,
   "id": "dc7f6eb6",
   "metadata": {},
   "outputs": [],
   "source": []
  },
  {
   "cell_type": "code",
   "execution_count": 69,
   "id": "325629ee",
   "metadata": {
    "ExecuteTime": {
     "end_time": "2023-04-19T13:09:26.560545Z",
     "start_time": "2023-04-19T13:09:25.848259Z"
    }
   },
   "outputs": [
    {
     "ename": "FDSNException",
     "evalue": "Service responds: Internal server error\nDetailed response of server:\n\nError 500: Error calling internal metadata service, code 404 [<!doctype html>\n<html lang=\"en\">\n  <head>\n    \n      <title>\n        \n          IRIS: \n  404 Page Not Found Error\n        \n      </title>\n      \n  <meta name=\"keywords\" content=\"seismology, seismological data,\n  earthquakes, iris dmc\" />\n  <!-- Forces IE to render in 'latest' compatible mode -->\n  <meta http-equiv=\"X-UA-Compatible\" content=\"IE=Edge\"/>\n  <meta charset=\"utf-8\" />\n  <meta name=\"viewport\" content=\"width=device-width, initial-scale=1\" />\n  \n      \n  <link rel=\"stylesheet\" media=\"all\" type=\"text/css\" href=\"/static/css/iris.css\" />\n  <link rel=\"stylesheet\" media=\"print\" type=\"text/css\" href=\"/static/css/print.css\" />\n  \n  \n  \n    <link rel=\"shortcut icon\" href=\"/static/img/favicon.ico\" />\n  \n      \n  <script type=\"text/javascript\" src=\"//ajax.googleapis.com/ajax/libs/jquery/1.11.1/jquery.js\"></script>\n  <script type=\"text/javascript\" src=\"//netdna.bootstrapcdn.com/bootstrap/3.4.1/js/bootstrap.min.js\"></script>\n  \n    <!--\n    <script type=\"text/javascript\" src=\"//ajax.googleapis.com/ajax/libs/jqueryui/1.8.23/jquery-ui.min.js\"></script>\n    <script type=\"text/javascript\" src=\"/static/libs/megamenu/megamenu_plugins.js\"></script>\n    <script type=\"text/javascript\" src=\"/static/libs/megamenu/megamenu.min.js\"></script>\n    -->\n  \n  \n    <!-- Global site tag (gtag.js) - Google Analytics -->\n    <script async src=\"https://www.googletagmanager.com/gtag/js?id=UA-1860730-1\"></script>\n    <script>\n      window.dataLayer = window.dataLayer || [];\n      function gtag(){dataLayer.push(arguments);}\n      gtag('js', new Date());\n      gtag('config', 'UA-1860730-1');\n    </script>\n  \n  \n    <link rel=\"stylesheet\" type=\"text/css\" href=\"/static/libs/qtip2/2.1.1/jquery.qtip.css\" />\n    <script type=\"text/javascript\" src=\"/static/libs/qtip2/2.1.1/jquery.qtip.js\"></script>\n    <script>\n      $(function() {\n        /* Automatically set up popup help blocks like:\n         * <div class=\"popup-help\">\n         *   <span class=\"glyphicon glyphicon-question-sign\"> </span>\n         *   <div>\n         *      Content to show in the popup.\n         *   </div>\n         * </div>\n         * Hovering over the icon shows the content in a popup.\n         */\n        $(\".popup-help\").each(function() {\n          var content = $(this).children('div').detach();\n          var popupOnClick = $(this).hasClass('popup-on-click');\n          // Attach to the first element\n          $(this).children().first().qtip({\n            content: { text: content },\n            style: { classes: 'qtip-bootstrap' },\n            hide: {\n              delay: 100,\n              fixed: true\n            },\n            show: {\n              event: popupOnClick ? 'click' : 'mouseenter'\n            },\n            position: {\n              viewport: $(window)\n            },\n          });\n        });\n      });\n    </script>\n  \n      \n      \n    \n  </head>\n  <body>\n  \n    \n    \n    <div class=\"container blur\">\n      <div id=\"breadcrumbs\">\n      \n        <ul class=\"breadcrumbs\">\n          \n            \n              <li>\n                <a href=\"/\">Web Services</a>\n              </li>\n            \n          \n        </ul>\n      \n      </div>\n      \n    \n  \n              \n              \n              <div id=\"page-content\">\n                \n                  \n                  \n                \n                \n                  \n                \n                \n                  <h1>\n                  \n                    \n  404 Page Not Found Error\n                  \n                  </h1>\n                  \n                  \n                  <div id=\"content\">\n                    \n  <p>We are sorry, but the page you are requesting does not exist.</p>\n  <p>Please check the URL path you are requested and try again.</p>\n  <p>If you believe the error to be ours, please\n    <a href=\"//www.iris.edu/hq/contact\">contact</a>\n  us.</p>\n                  </div>\n                \n              </div>\n            \n    \n    </div>\n    \n  \n  </body>\n</html>\n]\nMore Details:\nhandler exited, code: 1  reason: Internal Server Error\nRequest:\nhttp://service.iris.edu/fdsnws/dataselect/1/query?starttime=2022-09-30T23%3A59%3A00.000000&endtime=2022-10-01T00%3A02%3A00.000000&network=PY&station=BSPF&location=--&channel=HJ%2A\nRequest Submitted:\n2023/04/19 13:09:26 UTC\nService version:\nService: fdsnws-dataselect  version: 1.1.9",
     "output_type": "error",
     "traceback": [
      "\u001b[0;31m---------------------------------------------------------------------------\u001b[0m",
      "\u001b[0;31mFDSNException\u001b[0m                             Traceback (most recent call last)",
      "\u001b[0;32m<ipython-input-69-0ff4d3f54be8>\u001b[0m in \u001b[0;36m<module>\u001b[0;34m\u001b[0m\n\u001b[1;32m     23\u001b[0m                                \u001b[0mchannel\u001b[0m\u001b[0;34m=\u001b[0m\u001b[0mcha\u001b[0m\u001b[0;34m,\u001b[0m\u001b[0;34m\u001b[0m\u001b[0;34m\u001b[0m\u001b[0m\n\u001b[1;32m     24\u001b[0m                                \u001b[0mstarttime\u001b[0m\u001b[0;34m=\u001b[0m\u001b[0mtbeg\u001b[0m\u001b[0;34m-\u001b[0m\u001b[0;36m60\u001b[0m\u001b[0;34m,\u001b[0m\u001b[0;34m\u001b[0m\u001b[0;34m\u001b[0m\u001b[0m\n\u001b[0;32m---> 25\u001b[0;31m                                \u001b[0mendtime\u001b[0m\u001b[0;34m=\u001b[0m\u001b[0mtend\u001b[0m\u001b[0;34m+\u001b[0m\u001b[0;36m60\u001b[0m\u001b[0;34m,\u001b[0m\u001b[0;34m\u001b[0m\u001b[0;34m\u001b[0m\u001b[0m\n\u001b[0m\u001b[1;32m     26\u001b[0m                                )\n",
      "\u001b[0;32m~/anaconda3/lib/python3.7/site-packages/obspy/clients/fdsn/client.py\u001b[0m in \u001b[0;36mget_waveforms\u001b[0;34m(self, network, station, location, channel, starttime, endtime, quality, minimumlength, longestonly, filename, attach_response, **kwargs)\u001b[0m\n\u001b[1;32m    842\u001b[0m         \u001b[0;31m# Gzip not worth it for MiniSEED and most likely disabled for this\u001b[0m\u001b[0;34m\u001b[0m\u001b[0;34m\u001b[0m\u001b[0;34m\u001b[0m\u001b[0m\n\u001b[1;32m    843\u001b[0m         \u001b[0;31m# route in any case.\u001b[0m\u001b[0;34m\u001b[0m\u001b[0;34m\u001b[0m\u001b[0;34m\u001b[0m\u001b[0m\n\u001b[0;32m--> 844\u001b[0;31m         \u001b[0mdata_stream\u001b[0m \u001b[0;34m=\u001b[0m \u001b[0mself\u001b[0m\u001b[0;34m.\u001b[0m\u001b[0m_download\u001b[0m\u001b[0;34m(\u001b[0m\u001b[0murl\u001b[0m\u001b[0;34m,\u001b[0m \u001b[0muse_gzip\u001b[0m\u001b[0;34m=\u001b[0m\u001b[0;32mFalse\u001b[0m\u001b[0;34m)\u001b[0m\u001b[0;34m\u001b[0m\u001b[0;34m\u001b[0m\u001b[0m\n\u001b[0m\u001b[1;32m    845\u001b[0m         \u001b[0mdata_stream\u001b[0m\u001b[0;34m.\u001b[0m\u001b[0mseek\u001b[0m\u001b[0;34m(\u001b[0m\u001b[0;36m0\u001b[0m\u001b[0;34m,\u001b[0m \u001b[0;36m0\u001b[0m\u001b[0;34m)\u001b[0m\u001b[0;34m\u001b[0m\u001b[0;34m\u001b[0m\u001b[0m\n\u001b[1;32m    846\u001b[0m         \u001b[0;32mif\u001b[0m \u001b[0mfilename\u001b[0m\u001b[0;34m:\u001b[0m\u001b[0;34m\u001b[0m\u001b[0;34m\u001b[0m\u001b[0m\n",
      "\u001b[0;32m~/anaconda3/lib/python3.7/site-packages/obspy/clients/fdsn/client.py\u001b[0m in \u001b[0;36m_download\u001b[0;34m(self, url, return_string, data, use_gzip)\u001b[0m\n\u001b[1;32m   1395\u001b[0m             \u001b[0mdebug\u001b[0m\u001b[0;34m=\u001b[0m\u001b[0mself\u001b[0m\u001b[0;34m.\u001b[0m\u001b[0mdebug\u001b[0m\u001b[0;34m,\u001b[0m \u001b[0mreturn_string\u001b[0m\u001b[0;34m=\u001b[0m\u001b[0mreturn_string\u001b[0m\u001b[0;34m,\u001b[0m \u001b[0mdata\u001b[0m\u001b[0;34m=\u001b[0m\u001b[0mdata\u001b[0m\u001b[0;34m,\u001b[0m\u001b[0;34m\u001b[0m\u001b[0;34m\u001b[0m\u001b[0m\n\u001b[1;32m   1396\u001b[0m             timeout=self.timeout, use_gzip=use_gzip)\n\u001b[0;32m-> 1397\u001b[0;31m         \u001b[0mraise_on_error\u001b[0m\u001b[0;34m(\u001b[0m\u001b[0mcode\u001b[0m\u001b[0;34m,\u001b[0m \u001b[0mdata\u001b[0m\u001b[0;34m)\u001b[0m\u001b[0;34m\u001b[0m\u001b[0;34m\u001b[0m\u001b[0m\n\u001b[0m\u001b[1;32m   1398\u001b[0m         \u001b[0;32mreturn\u001b[0m \u001b[0mdata\u001b[0m\u001b[0;34m\u001b[0m\u001b[0;34m\u001b[0m\u001b[0m\n\u001b[1;32m   1399\u001b[0m \u001b[0;34m\u001b[0m\u001b[0m\n",
      "\u001b[0;32m~/anaconda3/lib/python3.7/site-packages/obspy/clients/fdsn/client.py\u001b[0m in \u001b[0;36mraise_on_error\u001b[0;34m(code, data)\u001b[0m\n\u001b[1;32m   1744\u001b[0m     \u001b[0;32melif\u001b[0m \u001b[0mcode\u001b[0m \u001b[0;34m==\u001b[0m \u001b[0;36m500\u001b[0m\u001b[0;34m:\u001b[0m\u001b[0;34m\u001b[0m\u001b[0;34m\u001b[0m\u001b[0m\n\u001b[1;32m   1745\u001b[0m         raise FDSNException(\"Service responds: Internal server error\",\n\u001b[0;32m-> 1746\u001b[0;31m                             server_info)\n\u001b[0m\u001b[1;32m   1747\u001b[0m     \u001b[0;32melif\u001b[0m \u001b[0mcode\u001b[0m \u001b[0;34m==\u001b[0m \u001b[0;36m503\u001b[0m\u001b[0;34m:\u001b[0m\u001b[0;34m\u001b[0m\u001b[0;34m\u001b[0m\u001b[0m\n\u001b[1;32m   1748\u001b[0m         \u001b[0;32mraise\u001b[0m \u001b[0mFDSNException\u001b[0m\u001b[0;34m(\u001b[0m\u001b[0;34m\"Service temporarily unavailable\"\u001b[0m\u001b[0;34m,\u001b[0m \u001b[0mserver_info\u001b[0m\u001b[0;34m)\u001b[0m\u001b[0;34m\u001b[0m\u001b[0;34m\u001b[0m\u001b[0m\n",
      "\u001b[0;31mFDSNException\u001b[0m: Service responds: Internal server error\nDetailed response of server:\n\nError 500: Error calling internal metadata service, code 404 [<!doctype html>\n<html lang=\"en\">\n  <head>\n    \n      <title>\n        \n          IRIS: \n  404 Page Not Found Error\n        \n      </title>\n      \n  <meta name=\"keywords\" content=\"seismology, seismological data,\n  earthquakes, iris dmc\" />\n  <!-- Forces IE to render in 'latest' compatible mode -->\n  <meta http-equiv=\"X-UA-Compatible\" content=\"IE=Edge\"/>\n  <meta charset=\"utf-8\" />\n  <meta name=\"viewport\" content=\"width=device-width, initial-scale=1\" />\n  \n      \n  <link rel=\"stylesheet\" media=\"all\" type=\"text/css\" href=\"/static/css/iris.css\" />\n  <link rel=\"stylesheet\" media=\"print\" type=\"text/css\" href=\"/static/css/print.css\" />\n  \n  \n  \n    <link rel=\"shortcut icon\" href=\"/static/img/favicon.ico\" />\n  \n      \n  <script type=\"text/javascript\" src=\"//ajax.googleapis.com/ajax/libs/jquery/1.11.1/jquery.js\"></script>\n  <script type=\"text/javascript\" src=\"//netdna.bootstrapcdn.com/bootstrap/3.4.1/js/bootstrap.min.js\"></script>\n  \n    <!--\n    <script type=\"text/javascript\" src=\"//ajax.googleapis.com/ajax/libs/jqueryui/1.8.23/jquery-ui.min.js\"></script>\n    <script type=\"text/javascript\" src=\"/static/libs/megamenu/megamenu_plugins.js\"></script>\n    <script type=\"text/javascript\" src=\"/static/libs/megamenu/megamenu.min.js\"></script>\n    -->\n  \n  \n    <!-- Global site tag (gtag.js) - Google Analytics -->\n    <script async src=\"https://www.googletagmanager.com/gtag/js?id=UA-1860730-1\"></script>\n    <script>\n      window.dataLayer = window.dataLayer || [];\n      function gtag(){dataLayer.push(arguments);}\n      gtag('js', new Date());\n      gtag('config', 'UA-1860730-1');\n    </script>\n  \n  \n    <link rel=\"stylesheet\" type=\"text/css\" href=\"/static/libs/qtip2/2.1.1/jquery.qtip.css\" />\n    <script type=\"text/javascript\" src=\"/static/libs/qtip2/2.1.1/jquery.qtip.js\"></script>\n    <script>\n      $(function() {\n        /* Automatically set up popup help blocks like:\n         * <div class=\"popup-help\">\n         *   <span class=\"glyphicon glyphicon-question-sign\"> </span>\n         *   <div>\n         *      Content to show in the popup.\n         *   </div>\n         * </div>\n         * Hovering over the icon shows the content in a popup.\n         */\n        $(\".popup-help\").each(function() {\n          var content = $(this).children('div').detach();\n          var popupOnClick = $(this).hasClass('popup-on-click');\n          // Attach to the first element\n          $(this).children().first().qtip({\n            content: { text: content },\n            style: { classes: 'qtip-bootstrap' },\n            hide: {\n              delay: 100,\n              fixed: true\n            },\n            show: {\n              event: popupOnClick ? 'click' : 'mouseenter'\n            },\n            position: {\n              viewport: $(window)\n            },\n          });\n        });\n      });\n    </script>\n  \n      \n      \n    \n  </head>\n  <body>\n  \n    \n    \n    <div class=\"container blur\">\n      <div id=\"breadcrumbs\">\n      \n        <ul class=\"breadcrumbs\">\n          \n            \n              <li>\n                <a href=\"/\">Web Services</a>\n              </li>\n            \n          \n        </ul>\n      \n      </div>\n      \n    \n  \n              \n              \n              <div id=\"page-content\">\n                \n                  \n                  \n                \n                \n                  \n                \n                \n                  <h1>\n                  \n                    \n  404 Page Not Found Error\n                  \n                  </h1>\n                  \n                  \n                  <div id=\"content\">\n                    \n  <p>We are sorry, but the page you are requesting does not exist.</p>\n  <p>Please check the URL path you are requested and try again.</p>\n  <p>If you believe the error to be ours, please\n    <a href=\"//www.iris.edu/hq/contact\">contact</a>\n  us.</p>\n                  </div>\n                \n              </div>\n            \n    \n    </div>\n    \n  \n  </body>\n</html>\n]\nMore Details:\nhandler exited, code: 1  reason: Internal Server Error\nRequest:\nhttp://service.iris.edu/fdsnws/dataselect/1/query?starttime=2022-09-30T23%3A59%3A00.000000&endtime=2022-10-01T00%3A02%3A00.000000&network=PY&station=BSPF&location=--&channel=HJ%2A\nRequest Submitted:\n2023/04/19 13:09:26 UTC\nService version:\nService: fdsnws-dataselect  version: 1.1.9"
     ]
    }
   ],
   "source": [
    "from obspy.clients.fdsn import Client\n",
    "\n",
    "seed = \"PY.BSPF..HJ*\"\n",
    "tbeg = obs.UTCDateTime(\"2022-10-01 00:00\")\n",
    "tend = obs.UTCDateTime(\"2022-10-01 00:00\") + 60\n",
    "\n",
    "\n",
    "client = Client(\"IRIS\")\n",
    "\n",
    "net, sta, loc, cha = seed.split(\".\")\n",
    "\n",
    "\n",
    "# inventory = client.get_stations(network=net, \n",
    "#                                  station=sta,\n",
    "#                                  starttime=tbeg-60,\n",
    "#                                  endtime=tend+60,\n",
    "#                                  level=\"response\",\n",
    "#                                  )\n",
    "waveform = client.get_waveforms(network=net,\n",
    "                               station=sta,\n",
    "                               location=loc,\n",
    "                               channel=cha, \n",
    "                               starttime=tbeg-60,\n",
    "                               endtime=tend+60,\n",
    "                               )\n"
   ]
  },
  {
   "cell_type": "code",
   "execution_count": null,
   "id": "d7eb6ed8",
   "metadata": {},
   "outputs": [],
   "source": []
  }
 ],
 "metadata": {
  "kernelspec": {
   "display_name": "Python 3",
   "language": "python",
   "name": "python3"
  },
  "language_info": {
   "codemirror_mode": {
    "name": "ipython",
    "version": 3
   },
   "file_extension": ".py",
   "mimetype": "text/x-python",
   "name": "python",
   "nbconvert_exporter": "python",
   "pygments_lexer": "ipython3",
   "version": "3.7.7"
  },
  "latex_envs": {
   "LaTeX_envs_menu_present": true,
   "autoclose": false,
   "autocomplete": true,
   "bibliofile": "biblio.bib",
   "cite_by": "apalike",
   "current_citInitial": 1,
   "eqLabelWithNumbers": true,
   "eqNumInitial": 1,
   "hotkeys": {
    "equation": "Ctrl-E",
    "itemize": "Ctrl-I"
   },
   "labels_anchors": false,
   "latex_user_defs": false,
   "report_style_numbering": false,
   "user_envs_cfg": false
  },
  "toc": {
   "base_numbering": 1,
   "nav_menu": {},
   "number_sections": true,
   "sideBar": true,
   "skip_h1_title": false,
   "title_cell": "Table of Contents",
   "title_sidebar": "Contents",
   "toc_cell": false,
   "toc_position": {},
   "toc_section_display": true,
   "toc_window_display": false
  },
  "varInspector": {
   "cols": {
    "lenName": 16,
    "lenType": 16,
    "lenVar": 40
   },
   "kernels_config": {
    "python": {
     "delete_cmd_postfix": "",
     "delete_cmd_prefix": "del ",
     "library": "var_list.py",
     "varRefreshCmd": "print(var_dic_list())"
    },
    "r": {
     "delete_cmd_postfix": ") ",
     "delete_cmd_prefix": "rm(",
     "library": "var_list.r",
     "varRefreshCmd": "cat(var_dic_list()) "
    }
   },
   "types_to_exclude": [
    "module",
    "function",
    "builtin_function_or_method",
    "instance",
    "_Feature"
   ],
   "window_display": false
  }
 },
 "nbformat": 4,
 "nbformat_minor": 5
}
