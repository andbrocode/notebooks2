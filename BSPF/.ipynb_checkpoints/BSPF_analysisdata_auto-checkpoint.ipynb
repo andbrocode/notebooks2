{
 "cells": [
  {
   "cell_type": "markdown",
   "id": "26ad060e",
   "metadata": {
    "ExecuteTime": {
     "end_time": "2022-09-13T00:35:24.926376Z",
     "start_time": "2022-09-13T00:35:24.923877Z"
    }
   },
   "source": [
    "# Automatic BSPF AnalysisData"
   ]
  },
  {
   "cell_type": "markdown",
   "id": "fa47ca0c",
   "metadata": {},
   "source": [
    "Creates automatic event plots based on catalog "
   ]
  },
  {
   "cell_type": "code",
   "execution_count": 1,
   "id": "7ae027cf",
   "metadata": {
    "ExecuteTime": {
     "end_time": "2023-07-26T16:05:00.409882Z",
     "start_time": "2023-07-26T16:04:57.610114Z"
    }
   },
   "outputs": [],
   "source": [
    "import os \n",
    "import obspy as obs\n",
    "import matplotlib.pyplot as plt\n",
    "import numpy as np\n",
    "import pandas as pd\n",
    "\n",
    "from tqdm.notebook import tqdm\n",
    "from pprint import pprint\n",
    "\n",
    "from functions.request_data import __request_data\n",
    "from functions.add_distances_and_backazimuth import __add_distances_and_backazimuth\n",
    "from functions.compute_adr_pfo import __compute_adr_pfo\n"
   ]
  },
  {
   "cell_type": "code",
   "execution_count": 2,
   "id": "4bdba00f",
   "metadata": {
    "ExecuteTime": {
     "end_time": "2023-07-26T16:05:00.413520Z",
     "start_time": "2023-07-26T16:05:00.410853Z"
    }
   },
   "outputs": [],
   "source": [
    "if os.uname().nodename == 'lighthouse':\n",
    "    root_path = '/home/andbro/'\n",
    "    data_path = '/home/andbro/kilauea-data/'\n",
    "    archive_path = '/home/andbro/freenas/'\n",
    "elif os.uname().nodename == 'kilauea':\n",
    "    root_path = '/home/brotzer/'\n",
    "    data_path = '/import/kilauea-data/'\n",
    "    archive_path = '/import/freenas-ffb-01-data/'"
   ]
  },
  {
   "cell_type": "code",
   "execution_count": 3,
   "id": "e18f87d6",
   "metadata": {
    "ExecuteTime": {
     "end_time": "2023-07-26T16:05:00.430325Z",
     "start_time": "2023-07-26T16:05:00.415044Z"
    },
    "code_folding": [
     0
    ]
   },
   "outputs": [],
   "source": [
    "def __process_xpfo(config, st, inv):\n",
    "\n",
    "    ii_pfo = st.copy()\n",
    "\n",
    "#     pre_filt = [0.005, 0.01, 19, 20]\n",
    "\n",
    "    ## cut properly\n",
    "#     ii_pfo.trim(config['tbeg'], config['tend'])\n",
    "\n",
    "    ## demean\n",
    "    ii_pfo.detrend(\"demean\")\n",
    "\n",
    "    ## remove response\n",
    "#     ii_pfo.remove_response(inventory=inv, \n",
    "#     #                        pre_filt=pre_filt, \n",
    "#                            output=\"VEL\",\n",
    "#     #                        water_level=60, \n",
    "#                            plot=False)\n",
    "\n",
    "    ## taper \n",
    "    ii_pfo.taper(0.1)\n",
    "\n",
    "    ## bandpass\n",
    "    ii_filter = ii_pfo.filter(\"bandpass\", freqmin=config['fmin'], freqmax=config['fmax'], corners=4, zerophase=True)\n",
    "\n",
    "    ## adjust channel names\n",
    "    for tr in ii_pfo:\n",
    "        if tr.stats.channel[-1] == \"1\":\n",
    "            tr.stats.channel = str(tr.stats.channel).replace(\"1\",\"N\")\n",
    "        if tr.stats.channel[-1] == \"2\":\n",
    "            tr.stats.channel = str(tr.stats.channel).replace(\"2\",\"E\")\n",
    "    \n",
    "    return ii_pfo"
   ]
  },
  {
   "cell_type": "code",
   "execution_count": 4,
   "id": "ba781332",
   "metadata": {
    "ExecuteTime": {
     "end_time": "2023-07-26T16:05:00.447767Z",
     "start_time": "2023-07-26T16:05:00.431406Z"
    },
    "code_folding": [
     0
    ]
   },
   "outputs": [],
   "source": [
    "def __makeplot(config, st):\n",
    "\n",
    "    \n",
    "    st_in = st.copy()\n",
    "    \n",
    "    fig, ax = plt.subplots(6,1, figsize=(15,10), sharex=True)\n",
    "\n",
    "    font = 14\n",
    "\n",
    "    time_scaling, time_unit = 1, \"sec\"\n",
    "    rot_scaling = 1e9\n",
    "    trans_scaling = 1e6\n",
    "    \n",
    "    for i, tr in enumerate(st_in):\n",
    "        \n",
    "        if i in [0,1,2]:\n",
    "            ax[i].set_ylabel(r\"$\\omega$ (nrad/s)\", fontsize=font)\n",
    "            ax[i].plot(tr.times()/time_scaling, tr.data*rot_scaling, 'k', label=tr.stats.station+\".\"+tr.stats.channel)\n",
    "\n",
    "        elif i in [3,4,5]:\n",
    "            ax[i].set_ylabel(r\"u ($\\mu$m/s)\", fontsize=font)\n",
    "            ax[i].plot(tr.times()/time_scaling, tr.data*trans_scaling, 'k', label=tr.stats.station+\".\"+tr.stats.channel)\n",
    "            \n",
    "        ax[i].legend(loc=1)\n",
    "        \n",
    "    ax[5].set_xlabel(f\"Time ({time_unit}) from {st[0].stats.starttime.date} {str(st[0].stats.starttime.time).split('.')[0]} UTC\", fontsize=font)\n",
    "    ax[0].set_title(config['title']+f\" | {config['fmin']} - {config['fmax']} Hz\", fontsize=font, pad=10)\n",
    "    \n",
    "    plt.show();\n",
    "    del st_in\n",
    "    return fig"
   ]
  },
  {
   "cell_type": "code",
   "execution_count": 5,
   "id": "33b96a08",
   "metadata": {
    "ExecuteTime": {
     "end_time": "2023-07-26T16:05:00.465637Z",
     "start_time": "2023-07-26T16:05:00.448759Z"
    },
    "code_folding": [
     0
    ]
   },
   "outputs": [],
   "source": [
    "def __makeplotStreamSpectra2(st, config, fscale=None):\n",
    "\n",
    "    from scipy import fftpack\n",
    "    from andbro__fft import __fft\n",
    "    import matplotlib.pyplot as plt\n",
    "\n",
    "    st_in = st.copy()\n",
    "    \n",
    "    NN = len(st_in)\n",
    "    rot_scaling, rot_unit = 1e9, r\"nrad/s\"\n",
    "    trans_scaling, trans_unit = 1e6, r\"$\\mu$m/s\"\n",
    "        \n",
    "    fig, axes = plt.subplots(NN,2,figsize=(15,int(NN*2)), sharex='col')\n",
    "\n",
    "    font = 14\n",
    "    \n",
    "    plt.subplots_adjust(hspace=0.3)\n",
    "\n",
    "    ## _______________________________________________\n",
    "\n",
    "    st.sort(keys=['channel'], reverse=True)\n",
    "    \n",
    "    for i, tr in enumerate(st_in):\n",
    "\n",
    "#         comp_fft = abs(fftpack.fft(tr.data))\n",
    "#         ff       = fftpack.fftfreq(comp_fft.size, d=1/tr.stats.sampling_rate)\n",
    "#         comp_fft = fftpack.fftshift(comp_fft)\n",
    "#         ff, spec = ff[1:len(ff)//2], abs(fftpack.fft(tr.data)[1:len(ff)//2])\n",
    "\n",
    "        if tr.stats.channel[-2] == \"J\":\n",
    "            scaling = rot_scaling\n",
    "        elif tr.stats.channel[-2] == \"H\":\n",
    "            scaling = trans_scaling\n",
    "\n",
    "        spec, ff, ph = __fft(tr.data*scaling, tr.stats.delta, window=None, normalize=None)\n",
    "    \n",
    "    \n",
    "        ## _________________________________________________________________\n",
    "        if tr.stats.channel[-2] == \"J\":\n",
    "            axes[i,0].plot(\n",
    "                        tr.times(),\n",
    "                        tr.data*rot_scaling,\n",
    "                        color='black',\n",
    "                        label='{} {}'.format(tr.stats.station, tr.stats.channel),\n",
    "                        lw=1.0,\n",
    "                        )\n",
    "\n",
    "        elif tr.stats.channel[-2] == \"H\":\n",
    "            axes[i,0].plot(\n",
    "                        tr.times(),\n",
    "                        tr.data*trans_scaling,\n",
    "                        color='black',\n",
    "                        label='{} {}'.format(tr.stats.station, tr.stats.channel),\n",
    "                        lw=1.0,\n",
    "                        )\n",
    "        ## _________________________________________________________________\n",
    "        if fscale == \"loglog\":\n",
    "            axes[i,1].loglog(ff, spec, color='black', lw=1.0)\n",
    "        elif fscale == \"loglin\":\n",
    "            axes[i,1].semilogx(ff, spec, color='black', lw=1.0)\n",
    "        elif fscale == \"linlog\":\n",
    "            axes[i,1].semilogy(ff, spec, color='black', lw=1.0)\n",
    "        else:\n",
    "            axes[i,1].plot(ff, spec, color='black', lw=1.0)         \n",
    "        \n",
    "        \n",
    "        if tr.stats.channel[1] == \"J\":\n",
    "            sym, unit = r\"$\\Omega$\", rot_unit\n",
    "        elif tr.stats.channel[1] == \"H\":\n",
    "            sym, unit = \"v\", trans_unit\n",
    "        else:\n",
    "            unit = \"Amplitude\", \"a.u.\"\n",
    "            \n",
    "        axes[i,0].set_ylabel(f'{sym} ({unit})',fontsize=font)    \n",
    "        axes[i,1].set_ylabel(f'ASD \\n({unit}/Hz)',fontsize=font)        \n",
    "        axes[i,0].legend(loc='upper left',bbox_to_anchor=(0.8, 1.10), framealpha=1.0)\n",
    "        \n",
    "#         axes[i,0].ticklabel_format(axis='y', style='sci', scilimits=(0,0))\n",
    "#         axes[i,1].ticklabel_format(axis='y', style='sci', scilimits=(0,0))\n",
    "\n",
    "    if \"fmin\" in config.keys() and \"fmax\" in config.keys():\n",
    "        axes[i,1].set_xlim(config['fmin'],config['fmax'])\n",
    "\n",
    "    axes[NN-1,0].set_xlabel(f\"Time from {tr.stats.starttime.date} {str(tr.stats.starttime.time)[:8]} (s)\",fontsize=font)     \n",
    "    axes[NN-1,1].set_xlabel(f\"Frequency (Hz)\",fontsize=font)     \n",
    "\n",
    "    del st_in\n",
    "    return fig"
   ]
  },
  {
   "cell_type": "code",
   "execution_count": 6,
   "id": "f3657a9c",
   "metadata": {
    "ExecuteTime": {
     "end_time": "2023-07-26T16:05:00.482745Z",
     "start_time": "2023-07-26T16:05:00.467032Z"
    },
    "code_folding": [
     0
    ]
   },
   "outputs": [],
   "source": [
    "def __empty_stream(reference_stream):\n",
    "\n",
    "    from numpy import ones\n",
    "    from obspy import Stream, Trace\n",
    "    \n",
    "    t_ref = reference_stream[0]\n",
    "    \n",
    "    empty = Stream()\n",
    "\n",
    "    for cha in [\"BHZ\", \"BHN\", \"BHE\"]:\n",
    "        t = Trace()\n",
    "        t.data = ones(len(t_ref))\n",
    "        t.stats.sampling_rate = t_ref.stats.sampling_rate\n",
    "        t.stats.starttime = t_ref.stats.starttime\n",
    "        t.stats.network, t.stats.station, t.stats.channel = \"PY\", \"RPFO\", cha\n",
    "        empty += t\n",
    "        \n",
    "    return empty"
   ]
  },
  {
   "cell_type": "markdown",
   "id": "a9cfd05f",
   "metadata": {},
   "source": [
    "## Configurations"
   ]
  },
  {
   "cell_type": "code",
   "execution_count": 7,
   "id": "d4b1e0b9",
   "metadata": {
    "ExecuteTime": {
     "end_time": "2023-07-26T16:05:00.498723Z",
     "start_time": "2023-07-26T16:05:00.483935Z"
    }
   },
   "outputs": [],
   "source": [
    "config = {}\n",
    "\n",
    "## location of BSPF\n",
    "config['BSPF_lon'] = -116.455439\n",
    "config['BSPF_lat'] = 33.610643\n",
    "\n",
    "## path for figures to store\n",
    "# config['outpath_figs'] = data_path+\"BSPF/figures/triggered_all/\"\n",
    "\n",
    "## path for output data\n",
    "config['outpath_data'] = data_path+\"BSPF/data/\" \n",
    "\n",
    "config['path_to_mseed'] = data_path+\"BSPF/data/waveforms/\" \n",
    "\n",
    "## blueSeis sensor (@200Hz)\n",
    "# config['seed_blueseis'] = \"PY.BSPF..HJ*\"\n",
    "\n",
    "## Trillium 240 next to BlueSeis on Pier (@40Hz)\n",
    "# config['seed_seismometer1'] = \"II.PFO.10.BH*\" \n",
    "\n",
    "## STS2 next to BlueSeis (@200Hz)\n",
    "# config['seed_seismometer2'] = \"PY.PFOIX..HH*\" \n",
    "\n",
    "config['path_to_catalog'] = data_path+\"BSPF/data/catalogs/\"\n",
    "\n",
    "config['catalog'] = \"BSPF_catalog_20221001_20230615_triggered.pkl\""
   ]
  },
  {
   "cell_type": "markdown",
   "id": "c4eed2cb",
   "metadata": {},
   "source": [
    "## Event Info"
   ]
  },
  {
   "cell_type": "code",
   "execution_count": 8,
   "id": "8bc0d935",
   "metadata": {
    "ExecuteTime": {
     "end_time": "2023-07-26T16:05:00.518748Z",
     "start_time": "2023-07-26T16:05:00.500884Z"
    }
   },
   "outputs": [],
   "source": [
    "events = pd.read_pickle(config['path_to_catalog']+config['catalog'])\n",
    "\n",
    "## reset the index\n",
    "events.reset_index(inplace=True)\n",
    "\n",
    "## set column for origin time\n",
    "events.rename(columns = {'index':'origin'}, inplace = True)\n",
    "\n",
    "## add column for hypocenter distance\n",
    "events['Hdistance_km'] = np.sqrt(events['distances_km']**2+(events['depth']/1000)**2)"
   ]
  },
  {
   "cell_type": "code",
   "execution_count": 9,
   "id": "6042661c",
   "metadata": {
    "ExecuteTime": {
     "end_time": "2023-07-26T16:05:00.549537Z",
     "start_time": "2023-07-26T16:05:00.520109Z"
    }
   },
   "outputs": [
    {
     "data": {
      "text/html": [
       "<div>\n",
       "<style scoped>\n",
       "    .dataframe tbody tr th:only-of-type {\n",
       "        vertical-align: middle;\n",
       "    }\n",
       "\n",
       "    .dataframe tbody tr th {\n",
       "        vertical-align: top;\n",
       "    }\n",
       "\n",
       "    .dataframe thead th {\n",
       "        text-align: right;\n",
       "    }\n",
       "</style>\n",
       "<table border=\"1\" class=\"dataframe\">\n",
       "  <thead>\n",
       "    <tr style=\"text-align: right;\">\n",
       "      <th></th>\n",
       "      <th>origin</th>\n",
       "      <th>latitude</th>\n",
       "      <th>longitude</th>\n",
       "      <th>depth</th>\n",
       "      <th>magnitude</th>\n",
       "      <th>type</th>\n",
       "      <th>seconds</th>\n",
       "      <th>trigger_time</th>\n",
       "      <th>cosum</th>\n",
       "      <th>backazimuth</th>\n",
       "      <th>distances_km</th>\n",
       "      <th>Hdistance_km</th>\n",
       "    </tr>\n",
       "  </thead>\n",
       "  <tbody>\n",
       "    <tr>\n",
       "      <th>0</th>\n",
       "      <td>2022-10-02 03:25:16.440</td>\n",
       "      <td>33.484333</td>\n",
       "      <td>-116.508500</td>\n",
       "      <td>8040.0</td>\n",
       "      <td>1.49</td>\n",
       "      <td>ml</td>\n",
       "      <td>0.00</td>\n",
       "      <td>2022-10-02T03:25:19.344538Z</td>\n",
       "      <td>4.0</td>\n",
       "      <td>19.364710</td>\n",
       "      <td>14.850966</td>\n",
       "      <td>16.887652</td>\n",
       "    </tr>\n",
       "    <tr>\n",
       "      <th>1</th>\n",
       "      <td>2022-10-03 16:08:09.970</td>\n",
       "      <td>33.924667</td>\n",
       "      <td>-116.921500</td>\n",
       "      <td>7620.0</td>\n",
       "      <td>3.01</td>\n",
       "      <td>ml</td>\n",
       "      <td>132173.53</td>\n",
       "      <td>2022-10-03T16:08:19.219538Z</td>\n",
       "      <td>6.0</td>\n",
       "      <td>128.765512</td>\n",
       "      <td>55.472148</td>\n",
       "      <td>55.993067</td>\n",
       "    </tr>\n",
       "    <tr>\n",
       "      <th>2</th>\n",
       "      <td>2022-10-03 16:08:09.970</td>\n",
       "      <td>33.924667</td>\n",
       "      <td>-116.921500</td>\n",
       "      <td>7620.0</td>\n",
       "      <td>3.01</td>\n",
       "      <td>ml</td>\n",
       "      <td>132173.53</td>\n",
       "      <td>2022-10-03T16:08:19.219538Z</td>\n",
       "      <td>6.0</td>\n",
       "      <td>128.765512</td>\n",
       "      <td>55.472148</td>\n",
       "      <td>55.993067</td>\n",
       "    </tr>\n",
       "    <tr>\n",
       "      <th>3</th>\n",
       "      <td>2022-10-05 15:39:13.690</td>\n",
       "      <td>33.494500</td>\n",
       "      <td>-116.509500</td>\n",
       "      <td>12410.0</td>\n",
       "      <td>0.50</td>\n",
       "      <td>ml</td>\n",
       "      <td>303237.25</td>\n",
       "      <td>2022-10-05T15:39:17.944539Z</td>\n",
       "      <td>4.0</td>\n",
       "      <td>21.277323</td>\n",
       "      <td>13.825658</td>\n",
       "      <td>18.578399</td>\n",
       "    </tr>\n",
       "    <tr>\n",
       "      <th>4</th>\n",
       "      <td>2022-10-07 22:45:05.470</td>\n",
       "      <td>33.041333</td>\n",
       "      <td>-116.354667</td>\n",
       "      <td>11790.0</td>\n",
       "      <td>3.47</td>\n",
       "      <td>mlr</td>\n",
       "      <td>501589.03</td>\n",
       "      <td>2022-10-07T22:45:15.894539Z</td>\n",
       "      <td>6.0</td>\n",
       "      <td>351.575554</td>\n",
       "      <td>63.835594</td>\n",
       "      <td>64.915231</td>\n",
       "    </tr>\n",
       "    <tr>\n",
       "      <th>...</th>\n",
       "      <td>...</td>\n",
       "      <td>...</td>\n",
       "      <td>...</td>\n",
       "      <td>...</td>\n",
       "      <td>...</td>\n",
       "      <td>...</td>\n",
       "      <td>...</td>\n",
       "      <td>...</td>\n",
       "      <td>...</td>\n",
       "      <td>...</td>\n",
       "      <td>...</td>\n",
       "      <td>...</td>\n",
       "    </tr>\n",
       "    <tr>\n",
       "      <th>95</th>\n",
       "      <td>2023-05-24 19:11:52.210</td>\n",
       "      <td>33.952667</td>\n",
       "      <td>-116.645333</td>\n",
       "      <td>11420.0</td>\n",
       "      <td>2.22</td>\n",
       "      <td>ml</td>\n",
       "      <td>20274395.77</td>\n",
       "      <td>2023-05-24T19:11:59.335000Z</td>\n",
       "      <td>4.0</td>\n",
       "      <td>155.073931</td>\n",
       "      <td>41.815491</td>\n",
       "      <td>43.346876</td>\n",
       "    </tr>\n",
       "    <tr>\n",
       "      <th>96</th>\n",
       "      <td>2023-05-31 23:27:27.570</td>\n",
       "      <td>33.950667</td>\n",
       "      <td>-116.642833</td>\n",
       "      <td>16340.0</td>\n",
       "      <td>2.35</td>\n",
       "      <td>ml</td>\n",
       "      <td>20894531.13</td>\n",
       "      <td>2023-05-31T23:27:34.805000Z</td>\n",
       "      <td>4.0</td>\n",
       "      <td>155.235515</td>\n",
       "      <td>41.517082</td>\n",
       "      <td>44.616854</td>\n",
       "    </tr>\n",
       "    <tr>\n",
       "      <th>97</th>\n",
       "      <td>2023-06-04 04:43:02.890</td>\n",
       "      <td>33.140667</td>\n",
       "      <td>-116.526500</td>\n",
       "      <td>7720.0</td>\n",
       "      <td>3.16</td>\n",
       "      <td>ml</td>\n",
       "      <td>21172666.45</td>\n",
       "      <td>2023-06-04T04:43:11.320000Z</td>\n",
       "      <td>5.0</td>\n",
       "      <td>7.210330</td>\n",
       "      <td>52.543371</td>\n",
       "      <td>53.107479</td>\n",
       "    </tr>\n",
       "    <tr>\n",
       "      <th>98</th>\n",
       "      <td>2023-06-07 06:03:42.030</td>\n",
       "      <td>33.965667</td>\n",
       "      <td>-116.946000</td>\n",
       "      <td>7240.0</td>\n",
       "      <td>2.58</td>\n",
       "      <td>ml</td>\n",
       "      <td>21436705.59</td>\n",
       "      <td>2023-06-07T06:03:52.075000Z</td>\n",
       "      <td>4.0</td>\n",
       "      <td>130.780515</td>\n",
       "      <td>60.123060</td>\n",
       "      <td>60.557410</td>\n",
       "    </tr>\n",
       "    <tr>\n",
       "      <th>99</th>\n",
       "      <td>2023-06-07 06:03:42.030</td>\n",
       "      <td>33.965667</td>\n",
       "      <td>-116.946000</td>\n",
       "      <td>7240.0</td>\n",
       "      <td>2.58</td>\n",
       "      <td>ml</td>\n",
       "      <td>21436705.59</td>\n",
       "      <td>2023-06-07T06:03:52.065000Z</td>\n",
       "      <td>4.0</td>\n",
       "      <td>130.780515</td>\n",
       "      <td>60.123060</td>\n",
       "      <td>60.557410</td>\n",
       "    </tr>\n",
       "  </tbody>\n",
       "</table>\n",
       "<p>100 rows × 12 columns</p>\n",
       "</div>"
      ],
      "text/plain": [
       "                    origin   latitude   longitude    depth  magnitude type  \\\n",
       "0  2022-10-02 03:25:16.440  33.484333 -116.508500   8040.0       1.49   ml   \n",
       "1  2022-10-03 16:08:09.970  33.924667 -116.921500   7620.0       3.01   ml   \n",
       "2  2022-10-03 16:08:09.970  33.924667 -116.921500   7620.0       3.01   ml   \n",
       "3  2022-10-05 15:39:13.690  33.494500 -116.509500  12410.0       0.50   ml   \n",
       "4  2022-10-07 22:45:05.470  33.041333 -116.354667  11790.0       3.47  mlr   \n",
       "..                     ...        ...         ...      ...        ...  ...   \n",
       "95 2023-05-24 19:11:52.210  33.952667 -116.645333  11420.0       2.22   ml   \n",
       "96 2023-05-31 23:27:27.570  33.950667 -116.642833  16340.0       2.35   ml   \n",
       "97 2023-06-04 04:43:02.890  33.140667 -116.526500   7720.0       3.16   ml   \n",
       "98 2023-06-07 06:03:42.030  33.965667 -116.946000   7240.0       2.58   ml   \n",
       "99 2023-06-07 06:03:42.030  33.965667 -116.946000   7240.0       2.58   ml   \n",
       "\n",
       "        seconds                 trigger_time  cosum  backazimuth  \\\n",
       "0          0.00  2022-10-02T03:25:19.344538Z    4.0    19.364710   \n",
       "1     132173.53  2022-10-03T16:08:19.219538Z    6.0   128.765512   \n",
       "2     132173.53  2022-10-03T16:08:19.219538Z    6.0   128.765512   \n",
       "3     303237.25  2022-10-05T15:39:17.944539Z    4.0    21.277323   \n",
       "4     501589.03  2022-10-07T22:45:15.894539Z    6.0   351.575554   \n",
       "..          ...                          ...    ...          ...   \n",
       "95  20274395.77  2023-05-24T19:11:59.335000Z    4.0   155.073931   \n",
       "96  20894531.13  2023-05-31T23:27:34.805000Z    4.0   155.235515   \n",
       "97  21172666.45  2023-06-04T04:43:11.320000Z    5.0     7.210330   \n",
       "98  21436705.59  2023-06-07T06:03:52.075000Z    4.0   130.780515   \n",
       "99  21436705.59  2023-06-07T06:03:52.065000Z    4.0   130.780515   \n",
       "\n",
       "    distances_km  Hdistance_km  \n",
       "0      14.850966     16.887652  \n",
       "1      55.472148     55.993067  \n",
       "2      55.472148     55.993067  \n",
       "3      13.825658     18.578399  \n",
       "4      63.835594     64.915231  \n",
       "..           ...           ...  \n",
       "95     41.815491     43.346876  \n",
       "96     41.517082     44.616854  \n",
       "97     52.543371     53.107479  \n",
       "98     60.123060     60.557410  \n",
       "99     60.123060     60.557410  \n",
       "\n",
       "[100 rows x 12 columns]"
      ]
     },
     "execution_count": 9,
     "metadata": {},
     "output_type": "execute_result"
    }
   ],
   "source": [
    "events"
   ]
  },
  {
   "cell_type": "markdown",
   "id": "64afa03a",
   "metadata": {},
   "source": [
    "## RUN LOOP"
   ]
  },
  {
   "cell_type": "code",
   "execution_count": 10,
   "id": "62ec407c",
   "metadata": {
    "ExecuteTime": {
     "end_time": "2023-07-26T16:05:00.552927Z",
     "start_time": "2023-07-26T16:05:00.550495Z"
    },
    "code_folding": [
     0
    ]
   },
   "outputs": [],
   "source": [
    "def __compute_Amax(st_in, out_lst):\n",
    "     \n",
    "    st_in = st_in.sort()\n",
    "\n",
    "    st_in = st_in.detrend(\"linear\")\n",
    "    \n",
    "    out, header = [], []\n",
    "    for tr in st_in:\n",
    "        out.append(max(abs(tr.data)))\n",
    "        header.append(f\"{tr.stats.station}_{tr.stats.location}_{tr.stats.channel}_Amax\")\n",
    "        \n",
    "    out_lst.append(out)\n",
    "    return out_lst, header"
   ]
  },
  {
   "cell_type": "code",
   "execution_count": 11,
   "id": "b616f65e",
   "metadata": {
    "ExecuteTime": {
     "end_time": "2023-07-26T16:05:00.569292Z",
     "start_time": "2023-07-26T16:05:00.553812Z"
    },
    "code_folding": [
     0
    ]
   },
   "outputs": [],
   "source": [
    "def __compute_SNR(st_in, out_lst, trigger_time, win_length_sec=10, plot=False):\n",
    "\n",
    "    from numpy import nanmean, sqrt\n",
    "    \n",
    "    st_in = st_in.sort()\n",
    "    \n",
    "    if plot:\n",
    "        fig, ax = plt.subplots(len(st_in),1, figsize=(15,15))\n",
    "    \n",
    "    out, header = [], []\n",
    "    for i, tr in enumerate(st_in):\n",
    "\n",
    "        t_rel_sec = trigger_time-tr.stats.starttime\n",
    "        \n",
    "        df = tr.stats.sampling_rate \n",
    "\n",
    "        NN = int(df * win_length_sec) ## samples\n",
    "\n",
    "        t_rel_spl = t_rel_sec*df ## samples\n",
    "\n",
    "        t_offset = df * 2 ## samples\n",
    "\n",
    "        noise = nanmean(tr.data[int(t_rel_spl-NN):int(t_rel_spl)]**2)\n",
    "        signal = nanmean(tr.data[int(t_rel_spl):int(t_rel_spl+NN)]**2)\n",
    "\n",
    "        out.append(sqrt(signal/noise))\n",
    "        header.append(f\"{tr.stats.station}_{tr.stats.location}_{tr.stats.channel}_SNR\")\n",
    "        \n",
    "        if plot:\n",
    "            ax[i].plot(tr.data)\n",
    "\n",
    "            ax[i].axvline(t_rel_spl, color=\"red\")\n",
    "            ax[i].axvline(t_rel_spl+NN, color=\"red\")\n",
    "\n",
    "            ax[i].axvline(t_rel_spl, color=\"g\")\n",
    "            ax[i].axvline(t_rel_spl-NN, color=\"g\")\n",
    "        \n",
    "    out_lst.append(out)\n",
    "    \n",
    "    return out_lst, header"
   ]
  },
  {
   "cell_type": "code",
   "execution_count": 12,
   "id": "63c0f2ea",
   "metadata": {
    "ExecuteTime": {
     "end_time": "2023-07-26T16:05:00.586638Z",
     "start_time": "2023-07-26T16:05:00.570186Z"
    }
   },
   "outputs": [
    {
     "name": "stdout",
     "output_type": "stream",
     "text": [
      "['000_20221002_032516.mseed', '001_20221003_160809.mseed', '002_20221003_160809.mseed', '003_20221005_153913.mseed', '004_20221007_224505.mseed', '005_20221008_025233.mseed', '006_20221015_051734.mseed', '007_20221017_052528.mseed', '008_20221023_092458.mseed', '009_20221025_035530.mseed', '010_20221025_035530.mseed', '011_20221025_122941.mseed', '012_20221026_021458.mseed', '013_20221026_081415.mseed', '014_20221119_041541.mseed', '015_20221201_152829.mseed', '016_20221221_004614.mseed', '017_20221221_004614.mseed', '018_20221225_084038.mseed', '019_20221225_185313.mseed', '020_20221231_104543.mseed', '021_20221231_121226.mseed', '022_20221231_164007.mseed', '023_20230102_032018.mseed', '024_20230105_100033.mseed', '025_20230105_100033.mseed', '026_20230105_232623.mseed', '027_20230109_165936.mseed', '028_20230109_194256.mseed', '029_20230111_185920.mseed', '030_20230111_185920.mseed', '031_20230112_173638.mseed', '032_20230115_095854.mseed', '033_20230115_095854.mseed', '034_20230118_184440.mseed', '035_20230120_223655.mseed', '036_20230121_120552.mseed', '037_20230121_120552.mseed', '038_20230122_234236.mseed', '039_20230128_052835.mseed', '040_20230201_090502.mseed', '041_20230201_090502.mseed', '042_20230204_055906.mseed', '043_20230204_055906.mseed', '044_20230208_175832.mseed', '045_20230208_175832.mseed', '046_20230221_192847.mseed', '047_20230228_050231.mseed', '048_20230301_224447.mseed', '049_20230301_224903.mseed', '050_20230301_234431.mseed', '051_20230305_051011.mseed', '052_20230305_051011.mseed', '053_20230308_040732.mseed', '054_20230308_040732.mseed', '055_20230309_103335.mseed', '056_20230310_011329.mseed', '057_20230310_064937.mseed', '058_20230310_143211.mseed', '059_20230310_150231.mseed', '060_20230310_150231.mseed', '061_20230312_025157.mseed', '062_20230318_165207.mseed', '063_20230318_171933.mseed', '064_20230321_041316.mseed', '065_20230322_032134.mseed', '066_20230324_134513.mseed', '067_20230324_150404.mseed', '068_20230324_150404.mseed', '069_20230327_092856.mseed', '070_20230331_120539.mseed', '071_20230331_120539.mseed', '072_20230331_133656.mseed', '073_20230410_135253.mseed', '074_20230413_005221.mseed', '075_20230413_005221.mseed', '076_20230414_134751.mseed', '077_20230417_185236.mseed', '078_20230422_172434.mseed', '079_20230425_115547.mseed', '080_20230425_115547.mseed', '081_20230426_064658.mseed', '082_20230427_231052.mseed', '083_20230429_053339.mseed', '084_20230430_055559.mseed', '085_20230430_055559.mseed', '086_20230430_072656.mseed', '087_20230430_221115.mseed', '088_20230503_211420.mseed', '089_20230506_021854.mseed', '090_20230510_194855.mseed', '091_20230512_173047.mseed', '092_20230520_081738.mseed', '093_20230522_184209.mseed', '094_20230524_153355.mseed', '095_20230524_191152.mseed', '096_20230531_232727.mseed', '097_20230604_044302.mseed', '098_20230607_060342.mseed', '099_20230607_060342.mseed']\n"
     ]
    }
   ],
   "source": [
    "config['mseed_files'] = sorted([file for file in os.listdir(config['path_to_mseed'])])\n",
    "print(config['mseed_files'])"
   ]
  },
  {
   "cell_type": "code",
   "execution_count": 41,
   "id": "3c1c5de6",
   "metadata": {
    "ExecuteTime": {
     "end_time": "2023-07-26T16:15:10.532068Z",
     "start_time": "2023-07-26T16:15:10.470914Z"
    }
   },
   "outputs": [
    {
     "name": "stdout",
     "output_type": "stream",
     "text": [
      "\n",
      " -> 0 2022-10-02 03:25:16.440000 \n",
      " -> writing: /import/kilauea-data/BSPF/data/bspf_analysisdata_amax.pkl\n",
      " -> writing: /import/kilauea-data/BSPF/data/bspf_analysisdata_snr.pkl\n"
     ]
    }
   ],
   "source": [
    "\n",
    "out_df = pd.DataFrame()\n",
    "\n",
    "out_df[\"Torigin\"] = events.origin\n",
    "out_df[\"Magnitude\"] = events.magnitude\n",
    "out_df[\"CoincidenceSum\"] = events.cosum\n",
    "out_df[\"BAZ\"] = events.backazimuth\n",
    "out_df[\"Edistance\"] = events.distances_km\n",
    "out_df[\"Hdistance\"] = events.Hdistance_km\n",
    "\n",
    "\n",
    "data_amax, data_snr = [], []\n",
    "for jj, event in enumerate(config['mseed_files'][:1]):\n",
    "\n",
    "    print(f\"\\n -> {jj} {events.origin[jj]} \")\n",
    "    \n",
    "    event_name = str(events.origin[jj]).replace(\"-\",\"\").replace(\":\",\"\").replace(\" \", \"_\").split(\".\")[0]\n",
    "    \n",
    "\n",
    "    st = obs.read(config['path_to_mseed']+event)\n",
    "\n",
    "    ## processing data stream\n",
    "    st = st.detrend(\"linear\")\n",
    "    st = st.taper(0.01)\n",
    "    st = st.filter(\"highpass\", freq=0.01, corners=4, zerophase=True)\n",
    "    \n",
    "    \n",
    "    ## compute maximal amplitude values (PGA and PGR)\n",
    "    data_amax, header_amax = __compute_Amax(st, data_amax)\n",
    "\n",
    "    ## compute signal-to-noise ratios\n",
    "    data_snr, header_snr = __compute_SNR(st, data_snr, events.trigger_time[jj], win_length_sec=10)\n",
    "    \n",
    "\n",
    "## _______________________________________\n",
    "\n",
    "df_amax = pd.DataFrame(columns=header_amax)\n",
    "\n",
    "for i, row in enumerate(data_amax):\n",
    "    if len(row) == 12:\n",
    "        df_amax.loc[len(df_amax)] = row    \n",
    "    else:\n",
    "        df_amax.loc[len(df_amax)] = np.ones(12)*np.nan\n",
    "\n",
    "df_amax_out = pd.concat([out_df, df_amax], axis=1, ignore_index=False, sort=False)\n",
    "\n",
    "df_amax_out.to_pickle(config['outpath_data']+\"bspf_analysisdata_amax.pkl\")\n",
    "print(f\" -> writing: {config['outpath_data']}bspf_analysisdata_amax.pkl\")\n",
    "\n",
    "## _______________________________________ \n",
    "    \n",
    "df_snr = pd.DataFrame(columns=header_snr)\n",
    "\n",
    "for row in data_snr:\n",
    "    if len(row) == 12:\n",
    "        df_snr.loc[len(df_amax)] = row    \n",
    "    else:\n",
    "        df_snr.loc[len(df_amax)] = np.ones(12)*np.nan\n",
    "        \n",
    "df_snr_out = pd.concat([out_df, df_snr], axis=1, ignore_index=False, sort=False)\n",
    "\n",
    "\n",
    "df_snr_out.to_pickle(config['outpath_data']+\"bspf_analysisdata_snr.pkl\")\n",
    "print(f\" -> writing: {config['outpath_data']}bspf_analysisdata_snr.pkl\")\n",
    "\n",
    "\n",
    "## End of File"
   ]
  },
  {
   "cell_type": "code",
   "execution_count": 42,
   "id": "f55b9f58",
   "metadata": {
    "ExecuteTime": {
     "end_time": "2023-07-26T16:15:12.484218Z",
     "start_time": "2023-07-26T16:15:12.478790Z"
    },
    "code_folding": [
     0
    ]
   },
   "outputs": [],
   "source": [
    "def __rolling_average(arr, win_size=5):\n",
    "    \n",
    "    from numpy import ones, array\n",
    "    from scipy.signal import convolve, hanning\n",
    "    \n",
    "    data = array(arr)\n",
    "    window = ones(win_size)/float(win_size)\n",
    "    window = hanning(win_size)/float(win_size)\n",
    "    rolling_average = convolve(data, window, mode='valid')\n",
    "\n",
    "    return rolling_average"
   ]
  },
  {
   "cell_type": "code",
   "execution_count": 43,
   "id": "86f7ebf1",
   "metadata": {
    "ExecuteTime": {
     "end_time": "2023-07-26T16:15:12.733703Z",
     "start_time": "2023-07-26T16:15:12.709726Z"
    }
   },
   "outputs": [
    {
     "data": {
      "text/plain": [
       "3 Trace(s) in Stream:\n",
       "II.PFO.10.BHE | 2022-10-02T03:24:16.444538Z - 2022-10-02T03:28:16.444538Z | 40.0 Hz, 9601 samples\n",
       "II.PFO.10.BHN | 2022-10-02T03:24:16.444538Z - 2022-10-02T03:28:16.444538Z | 40.0 Hz, 9601 samples\n",
       "II.PFO.10.BHZ | 2022-10-02T03:24:16.444538Z - 2022-10-02T03:28:16.444538Z | 40.0 Hz, 9601 samples"
      ]
     },
     "execution_count": 43,
     "metadata": {},
     "output_type": "execute_result"
    },
    {
     "data": {
      "text/plain": [
       "3 Trace(s) in Stream:\n",
       "PY.BSPF..HJE | 2022-10-02T03:24:16.441400Z - 2022-10-02T03:28:16.441400Z | 40.0 Hz, 9601 samples\n",
       "PY.BSPF..HJN | 2022-10-02T03:24:16.441400Z - 2022-10-02T03:28:16.441400Z | 40.0 Hz, 9601 samples\n",
       "PY.BSPF..HJZ | 2022-10-02T03:24:16.441400Z - 2022-10-02T03:28:16.441400Z | 40.0 Hz, 9601 samples"
      ]
     },
     "execution_count": 43,
     "metadata": {},
     "output_type": "execute_result"
    }
   ],
   "source": [
    "baz = out_df.loc[jj].BAZ\n",
    "\n",
    "from obspy.signal.rotate import rotate_ne_rt\n",
    "\n",
    "st_acc = st.select(station=\"PFO\").copy()\n",
    "st_rot = st.select(station=\"BSPF\").copy()\n",
    "\n",
    "st_acc.filter(\"bandpass\", freqmin=10, freqmax=18, zerophase=True, corners=4)\n",
    "st_rot.filter(\"bandpass\", freqmin=10, freqmax=18, zerophase=True, corners=4)\n",
    "\n",
    "r_acc, t_acc = rotate_ne_rt(st_acc.select(channel='*N')[0].data, \n",
    "                            st_acc.select(channel='*E')[0].data,\n",
    "                            baz\n",
    "                            )\n",
    "\n",
    "r_rot, t_rot = rotate_ne_rt(st_rot.select(channel='*N')[0].data, \n",
    "                            st_rot.select(channel='*E')[0].data,\n",
    "                            baz\n",
    "                            )\n",
    "\n",
    "z_acc = st_acc.select(channel=\"*Z\")[0].data\n",
    "\n",
    "v_rayleigh = abs(z_acc) / abs(t_rot)"
   ]
  },
  {
   "cell_type": "code",
   "execution_count": null,
   "id": "d8cb64c8",
   "metadata": {},
   "outputs": [],
   "source": []
  },
  {
   "cell_type": "code",
   "execution_count": 44,
   "id": "0b74eb91",
   "metadata": {
    "ExecuteTime": {
     "end_time": "2023-07-26T16:15:13.881853Z",
     "start_time": "2023-07-26T16:15:13.671933Z"
    }
   },
   "outputs": [
    {
     "data": {
      "text/plain": [
       "[<matplotlib.lines.Line2D at 0x7f27e3df3e90>]"
      ]
     },
     "execution_count": 44,
     "metadata": {},
     "output_type": "execute_result"
    },
    {
     "data": {
      "text/plain": [
       "[<matplotlib.lines.Line2D at 0x7f27e3dfe590>]"
      ]
     },
     "execution_count": 44,
     "metadata": {},
     "output_type": "execute_result"
    },
    {
     "data": {
      "text/plain": [
       "[<matplotlib.lines.Line2D at 0x7f27e3dfead0>]"
      ]
     },
     "execution_count": 44,
     "metadata": {},
     "output_type": "execute_result"
    },
    {
     "data": {
      "text/plain": [
       "(0.0, 6000.0)"
      ]
     },
     "execution_count": 44,
     "metadata": {},
     "output_type": "execute_result"
    },
    {
     "data": {
      "image/png": "[encoded data removed]",
      "text/plain": [
       "<Figure size 432x288 with 3 Axes>"
      ]
     },
     "metadata": {
      "needs_background": "light"
     },
     "output_type": "display_data"
    }
   ],
   "source": [
    "fig, ax = plt.subplots(3,1)\n",
    "\n",
    "ax[0].plot(t_rot)\n",
    "\n",
    "\n",
    "ax[1].plot(z_acc)\n",
    "\n",
    "ax[2].plot(v_rayleigh)\n",
    "\n",
    "ax[2].set_ylim(0,6000)"
   ]
  },
  {
   "cell_type": "code",
   "execution_count": 45,
   "id": "92a38521",
   "metadata": {
    "ExecuteTime": {
     "end_time": "2023-07-26T16:15:14.109226Z",
     "start_time": "2023-07-26T16:15:13.898490Z"
    },
    "code_folding": [
     0
    ]
   },
   "outputs": [
    {
     "data": {
      "text/plain": [
       "[<matplotlib.lines.Line2D at 0x7f27e3c81cd0>]"
      ]
     },
     "execution_count": 45,
     "metadata": {},
     "output_type": "execute_result"
    },
    {
     "data": {
      "text/plain": [
       "[<matplotlib.lines.Line2D at 0x7f27e3c8b3d0>]"
      ]
     },
     "execution_count": 45,
     "metadata": {},
     "output_type": "execute_result"
    },
    {
     "data": {
      "text/plain": [
       "[<matplotlib.lines.Line2D at 0x7f27e3c8b910>]"
      ]
     },
     "execution_count": 45,
     "metadata": {},
     "output_type": "execute_result"
    },
    {
     "data": {
      "text/plain": [
       "(0.0, 5000.0)"
      ]
     },
     "execution_count": 45,
     "metadata": {},
     "output_type": "execute_result"
    },
    {
     "data": {
      "image/png": "[encoded data removed]",
      "text/plain": [
       "<Figure size 432x288 with 3 Axes>"
      ]
     },
     "metadata": {
      "needs_background": "light"
     },
     "output_type": "display_data"
    }
   ],
   "source": [
    "st0 = st.copy()\n",
    "\n",
    "# st0.filter('bandpass', freqmin=5, freqmax=50, zerophase=True, corners=4)\n",
    "\n",
    "xpfo_n = abs(st0.select(station=\"PFO\", channel=\"*N\")[0].data)\n",
    "bspf_z = abs(st0.select(station=\"BSPF\", channel=\"*Z\")[0].data)\n",
    "\n",
    "# a_n = __rolling_average(xpfo_n, win_size=3)\n",
    "# w_z = __rolling_average(bspf_z, win_size=3)\n",
    "\n",
    "v1 = 0.5*xpfo_n/bspf_z\n",
    "# v2 = 0.5*a_n/w_z\n",
    "\n",
    "fig, ax = plt.subplots(3,1)\n",
    "\n",
    "ax[0].plot(xpfo_n)\n",
    "# ax[0].plot(a_n)\n",
    "\n",
    "\n",
    "ax[1].plot(bspf_z)\n",
    "# ax[1].plot(w_z)\n",
    "\n",
    "ax[2].plot(v1)\n",
    "# ax[2].plot(v2)\n",
    "\n",
    "ax[2].set_ylim(0,5000)"
   ]
  },
  {
   "cell_type": "code",
   "execution_count": null,
   "id": "fcce4e96",
   "metadata": {
    "ExecuteTime": {
     "end_time": "2023-07-25T15:22:19.281829Z",
     "start_time": "2023-07-25T15:22:19.273541Z"
    }
   },
   "outputs": [],
   "source": []
  },
  {
   "cell_type": "markdown",
   "id": "3d1f607d",
   "metadata": {},
   "source": [
    "## Testing Signal-to-Noise ratios"
   ]
  },
  {
   "cell_type": "code",
   "execution_count": 46,
   "id": "9ad6ceb5",
   "metadata": {
    "ExecuteTime": {
     "end_time": "2023-07-26T16:15:18.075388Z",
     "start_time": "2023-07-26T16:15:18.069429Z"
    },
    "code_folding": []
   },
   "outputs": [],
   "source": [
    "# from numpy import nanmean, sqrt\n",
    "\n",
    "# win_length_sec = 10 ## seconds\n",
    "\n",
    "# t_trigger = events.trigger_time[jj]\n",
    "# t_rel_sec = t_trigger-config['tbeg']\n",
    "# fig, ax = plt.subplots(len(st0),1, figsize=(15,15))\n",
    "\n",
    "# for i, tr in enumerate(st0):\n",
    "    \n",
    "#     df = tr.stats.sampling_rate \n",
    "    \n",
    "#     NN = int(df * win_length_sec) ## samples\n",
    "    \n",
    "#     t_rel_spl = t_rel_sec*df ## samples\n",
    "    \n",
    "#     t_offset = df * 2 ## samples\n",
    "    \n",
    "#     noise = nanmean(tr.data[int(t_rel_spl-NN):int(t_rel_spl)]**2)\n",
    "#     signal = nanmean(tr.data[int(t_rel_spl):int(t_rel_spl+NN)]**2)\n",
    "    \n",
    "#     SNR = sqrt(signal/noise)\n",
    "    \n",
    "    \n",
    "       \n",
    "#     ax[i].plot(tr.data)\n",
    "    \n",
    "#     ax[i].axvline(t_rel_spl, color=\"red\")\n",
    "#     ax[i].axvline(t_rel_spl+NN, color=\"red\")\n",
    "\n",
    "#     ax[i].axvline(t_rel_spl, color=\"g\")\n",
    "#     ax[i].axvline(t_rel_spl-NN, color=\"g\")\n",
    "\n",
    "#     print(SNR)\n",
    "    \n",
    "# plt.show();    \n"
   ]
  },
  {
   "cell_type": "markdown",
   "id": "91182ba3",
   "metadata": {
    "ExecuteTime": {
     "end_time": "2023-07-21T11:30:44.075509Z",
     "start_time": "2023-07-21T11:30:44.069287Z"
    }
   },
   "source": [
    "## Test Back Azimuth"
   ]
  },
  {
   "cell_type": "code",
   "execution_count": 47,
   "id": "c170e27a",
   "metadata": {
    "ExecuteTime": {
     "end_time": "2023-07-26T16:15:18.969213Z",
     "start_time": "2023-07-26T16:15:18.967371Z"
    }
   },
   "outputs": [],
   "source": [
    "from functions.compute_backazimuth import __compute_backazimuth"
   ]
  },
  {
   "cell_type": "code",
   "execution_count": 56,
   "id": "950505ab",
   "metadata": {
    "ExecuteTime": {
     "end_time": "2023-07-26T16:17:42.630733Z",
     "start_time": "2023-07-26T16:17:37.214860Z"
    }
   },
   "outputs": [
    {
     "data": {
      "text/plain": [
       "3 Trace(s) in Stream:\n",
       "II.PFO.10.BHE | 2022-10-02T03:24:16.444538Z - 2022-10-02T03:28:16.444538Z | 40.0 Hz, 9601 samples\n",
       "II.PFO.10.BHN | 2022-10-02T03:24:16.444538Z - 2022-10-02T03:28:16.444538Z | 40.0 Hz, 9601 samples\n",
       "II.PFO.10.BHZ | 2022-10-02T03:24:16.444538Z - 2022-10-02T03:28:16.444538Z | 40.0 Hz, 9601 samples"
      ]
     },
     "execution_count": 56,
     "metadata": {},
     "output_type": "execute_result"
    },
    {
     "data": {
      "text/plain": [
       "3 Trace(s) in Stream:\n",
       "PY.BSPF..HJE | 2022-10-02T03:24:16.441400Z - 2022-10-02T03:28:16.441400Z | 40.0 Hz, 9601 samples\n",
       "PY.BSPF..HJN | 2022-10-02T03:24:16.441400Z - 2022-10-02T03:28:16.441400Z | 40.0 Hz, 9601 samples\n",
       "PY.BSPF..HJZ | 2022-10-02T03:24:16.441400Z - 2022-10-02T03:28:16.441400Z | 40.0 Hz, 9601 samples"
      ]
     },
     "execution_count": 56,
     "metadata": {},
     "output_type": "execute_result"
    },
    {
     "data": {
      "image/png": "[encoded data removed]",
      "text/plain": [
       "<Figure size 1080x720 with 3 Axes>"
      ]
     },
     "metadata": {
      "needs_background": "light"
     },
     "output_type": "display_data"
    },
    {
     "data": {
      "text/plain": [
       "{'baz_mesh': [array([[   0.75,    2.25,    3.75, ...,  236.25,  237.75,  239.25],\n",
       "         [   0.75,    2.25,    3.75, ...,  236.25,  237.75,  239.25],\n",
       "         [   0.75,    2.25,    3.75, ...,  236.25,  237.75,  239.25],\n",
       "         ..., \n",
       "         [   0.75,    2.25,    3.75, ...,  236.25,  237.75,  239.25],\n",
       "         [   0.75,    2.25,    3.75, ...,  236.25,  237.75,  239.25],\n",
       "         [   0.75,    2.25,    3.75, ...,  236.25,  237.75,  239.25]]),\n",
       "  array([[   0.,    0.,    0., ...,    0.,    0.,    0.],\n",
       "         [   2.,    2.,    2., ...,    2.,    2.,    2.],\n",
       "         [   4.,    4.,    4., ...,    4.,    4.,    4.],\n",
       "         ..., \n",
       "         [ 354.,  354.,  354., ...,  354.,  354.,  354.],\n",
       "         [ 356.,  356.,  356., ...,  356.,  356.,  356.],\n",
       "         [ 358.,  358.,  358., ...,  358.,  358.,  358.]])],\n",
       " 'baz_corr': array([[-0.43707165,  0.18594855, -0.14849553, ...,  0.1097347 ,\n",
       "         -0.03095595,  0.34347779],\n",
       "        [-0.42812343,  0.16869235, -0.13329522, ...,  0.11145195,\n",
       "         -0.02961601,  0.34102969],\n",
       "        [-0.41800584,  0.15066453, -0.1175175 , ...,  0.11263552,\n",
       "         -0.02824403,  0.33847526],\n",
       "        ..., \n",
       "        [-0.45633682,  0.23245533, -0.19046578, ...,  0.10147567,\n",
       "         -0.03479582,  0.35023264],\n",
       "        [-0.45121486,  0.21787417, -0.17709009, ...,  0.10471976,\n",
       "         -0.0335447 ,  0.34807513],\n",
       "        [-0.44478441,  0.20236033, -0.16309806, ...,  0.10748453,\n",
       "         -0.03226511,  0.34582478]]),\n",
       " 'baz_theo': (14850.966424798866, 19.364709521102256, 199.39403253159566),\n",
       " 'acc_transverse': array([ -1.78774141e-10,   2.95922448e-10,   4.23982401e-10, ...,\n",
       "          2.47970305e-10,   1.04335416e-10,  -7.08927923e-11]),\n",
       " 'acc_radial': array([  1.23079994e-10,  -1.26916725e-10,  -5.85453306e-10, ...,\n",
       "         -2.92739326e-11,  -2.15138596e-10,   8.94273086e-11]),\n",
       " 'rot_vertical': 1 Trace(s) in Stream:\n",
       "PY.BSPF..HJZ | 2022-10-02T03:24:16.441400Z - 2022-10-02T03:28:16.441400Z | 40.0 Hz, 9601 samples,\n",
       " 'event': Event:\t2022-10-02T03:25:16.440000Z | +33.484, -116.508 | 1.49 ml | manual\n",
       "\n",
       "\t            resource_id: ResourceIdentifier(id=\"quakeml:earthquake.usgs.gov/fdsnws/event/1/query?eventid=ci40354376&format=quakeml\")\n",
       "\t             event_type: 'earthquake'\n",
       "\t          creation_info: CreationInfo(agency_id='ci', creation_time=UTCDateTime(2022, 10, 2, 14, 16, 36, 720000), version='5')\n",
       "\t    preferred_origin_id: ResourceIdentifier(id=\"quakeml:earthquake.usgs.gov/product/origin/ci40354376/ci/1664720167500/product.xml\")\n",
       "\t preferred_magnitude_id: ResourceIdentifier(id=\"quakeml:earthquake.usgs.gov/product/origin/ci40354376/ci/1664720167500/product.xml#magnitude\")\n",
       "\t                   ---------\n",
       "\t     event_descriptions: 1 Elements\n",
       "\t                origins: 1 Elements\n",
       "\t             magnitudes: 1 Elements,\n",
       " 'fig': <Figure size 1080x720 with 3 Axes>}"
      ]
     },
     "execution_count": 56,
     "metadata": {},
     "output_type": "execute_result"
    }
   ],
   "source": [
    "st_acc = st.select(station=\"PFO\").copy()\n",
    "st_rot = st.select(station=\"BSPF\").copy()\n",
    "\n",
    "st_acc.filter('bandpass', freqmin=8, freqmax=18, zerophase=True, corners=4)\n",
    "st_rot.filter('bandpass', freqmin=8, freqmax=18, zerophase=True, corners=4)\n",
    "\n",
    "config2 = {}\n",
    "config2['tbeg'] = st_acc[0].stats.starttime\n",
    "config2['tend'] = st_acc[0].stats.endtime\n",
    "config2['station_latitude'] = config['BSPF_lat']\n",
    "config2['station_longitude'] = config['BSPF_lon']\n",
    "config2['step'] = 2\n",
    "config2['win_length_sec'] = 1.5\n",
    "config2['overlap'] = 0.1\n",
    "config2['eventtime'] = obs.UTCDateTime(out_df['Torigin'].iloc[jj])\n",
    "config2['title'] = \"Test\"\n",
    "\n",
    "__compute_backazimuth(    \n",
    "                        st_acc,\n",
    "                        st_rot,\n",
    "                        config2,\n",
    "                        wave_type='love',\n",
    "                        event=None,\n",
    "                        plot=True,\n",
    "                        show_details=False,\n",
    "                      )\n"
   ]
  },
  {
   "cell_type": "markdown",
   "id": "195f7cd1",
   "metadata": {
    "ExecuteTime": {
     "end_time": "2023-07-26T13:48:20.221851Z",
     "start_time": "2023-07-26T13:48:20.220110Z"
    }
   },
   "source": [
    "## Test CC for f-bands"
   ]
  },
  {
   "cell_type": "code",
   "execution_count": 49,
   "id": "d47c023f",
   "metadata": {
    "ExecuteTime": {
     "end_time": "2023-07-26T16:15:24.445860Z",
     "start_time": "2023-07-26T16:15:24.443797Z"
    }
   },
   "outputs": [],
   "source": [
    "from functions.compute_cc_for_fbands import __compute_cc_for_fbands"
   ]
  },
  {
   "cell_type": "code",
   "execution_count": 50,
   "id": "76cbd749",
   "metadata": {
    "ExecuteTime": {
     "end_time": "2023-07-26T16:15:24.463035Z",
     "start_time": "2023-07-26T16:15:24.447642Z"
    }
   },
   "outputs": [
    {
     "data": {
      "text/plain": [
       "12 Trace(s) in Stream:\n",
       "II.PFO.10.BHE  | 2022-10-02T03:24:16.444538Z - 2022-10-02T03:28:16.444538Z | 40.0 Hz, 9601 samples\n",
       "II.PFO.10.BHN  | 2022-10-02T03:24:16.444538Z - 2022-10-02T03:28:16.444538Z | 40.0 Hz, 9601 samples\n",
       "II.PFO.10.BHZ  | 2022-10-02T03:24:16.444538Z - 2022-10-02T03:28:16.444538Z | 40.0 Hz, 9601 samples\n",
       "II.RPFO.10.BJE | 2022-10-02T03:24:16.444538Z - 2022-10-02T03:28:16.444538Z | 40.0 Hz, 9601 samples\n",
       "II.RPFO.10.BJN | 2022-10-02T03:24:16.444538Z - 2022-10-02T03:28:16.444538Z | 40.0 Hz, 9601 samples\n",
       "II.RPFO.10.BJZ | 2022-10-02T03:24:16.444538Z - 2022-10-02T03:28:16.444538Z | 40.0 Hz, 9601 samples\n",
       "II.RPFO.al.BJN | 2022-10-02T03:24:16.444538Z - 2022-10-02T03:28:16.444538Z | 40.0 Hz, 9601 samples\n",
       "II.RPFO.al.BJZ | 2022-10-02T03:24:16.444538Z - 2022-10-02T03:28:16.444538Z | 40.0 Hz, 9601 samples\n",
       "II.RPFO.in.BJE | 2022-10-02T03:24:16.444538Z - 2022-10-02T03:28:16.444538Z | 40.0 Hz, 9601 samples\n",
       "PY.BSPF..HJE   | 2022-10-02T03:24:16.441400Z - 2022-10-02T03:28:16.441400Z | 40.0 Hz, 9601 samples\n",
       "PY.BSPF..HJN   | 2022-10-02T03:24:16.441400Z - 2022-10-02T03:28:16.441400Z | 40.0 Hz, 9601 samples\n",
       "PY.BSPF..HJZ   | 2022-10-02T03:24:16.441400Z - 2022-10-02T03:28:16.441400Z | 40.0 Hz, 9601 samples"
      ]
     },
     "execution_count": 50,
     "metadata": {},
     "output_type": "execute_result"
    }
   ],
   "source": [
    "st"
   ]
  },
  {
   "cell_type": "code",
   "execution_count": 51,
   "id": "525c7a78",
   "metadata": {
    "ExecuteTime": {
     "end_time": "2023-07-26T16:15:24.664356Z",
     "start_time": "2023-07-26T16:15:24.464511Z"
    }
   },
   "outputs": [
    {
     "data": {
      "text/plain": [
       "<matplotlib.collections.PathCollection at 0x7f27e3a4e690>"
      ]
     },
     "execution_count": 51,
     "metadata": {},
     "output_type": "execute_result"
    },
    {
     "data": {
      "text/plain": [
       "<matplotlib.collections.PathCollection at 0x7f27e3a4eb50>"
      ]
     },
     "execution_count": 51,
     "metadata": {},
     "output_type": "execute_result"
    },
    {
     "data": {
      "image/png": "[encoded data removed]",
      "text/plain": [
       "<Figure size 432x288 with 1 Axes>"
      ]
     },
     "metadata": {
      "needs_background": "light"
     },
     "output_type": "display_data"
    }
   ],
   "source": [
    "tr1 = st.select(station=\"BSPF\", channel='*Z')[0]\n",
    "tr2 = st.select(station=\"RPFO\", location=\"10\", channel='*Z')[0]\n",
    "\n",
    "fmin, fmax = 1, 20\n",
    "\n",
    "# fbands = [(1,2),(2,4),(3,6),(4,8),(5,10),(6,12),(7,14),(8,16), (9,18), (10,20)]\n",
    "fbands = [(1,5),(2,6),(3,7),(4,8),(5,9),(6,10),(7,11),(8,12),(9,13),(10,14),(11,15),(12,16),(13,17),(14,18)]\n",
    "\n",
    "ff, cc_t_max, cc_f_max = __compute_cc_for_fbands(tr1, tr2, fbands=fbands, plot=False)\n",
    "\n",
    "plt.scatter(ff, cc_t_max)\n",
    "plt.scatter(ff, cc_f_max)"
   ]
  },
  {
   "cell_type": "code",
   "execution_count": 57,
   "id": "41907fd2",
   "metadata": {
    "ExecuteTime": {
     "end_time": "2023-07-26T16:17:43.005483Z",
     "start_time": "2023-07-26T16:17:42.631849Z"
    }
   },
   "outputs": [
    {
     "name": "stderr",
     "output_type": "stream",
     "text": [
      "/home/brotzer/anaconda3/lib/python3.7/site-packages/obspy/signal/filter.py:67: UserWarning: Selected high corner frequency (22.44924096618746) of bandpass is at or above Nyquist (20.0). Applying a high-pass instead.\n",
      "  warnings.warn(msg)\n"
     ]
    },
    {
     "data": {
      "text/plain": [
       "<matplotlib.collections.PathCollection at 0x7f27e2fc0d90>"
      ]
     },
     "execution_count": 57,
     "metadata": {},
     "output_type": "execute_result"
    },
    {
     "data": {
      "text/plain": [
       "<matplotlib.collections.PathCollection at 0x7f27e2fc0d50>"
      ]
     },
     "execution_count": 57,
     "metadata": {},
     "output_type": "execute_result"
    },
    {
     "data": {
      "image/png": "[encoded data removed]",
      "text/plain": [
       "<Figure size 432x288 with 1 Axes>"
      ]
     },
     "metadata": {
      "needs_background": "light"
     },
     "output_type": "display_data"
    }
   ],
   "source": [
    "from functions.get_octave_bands import __get_octave_bands\n",
    "\n",
    "flower, fupper, fcenter = __get_octave_bands(0.1, fmax, fband_type=\"one-third-octave\")\n",
    "\n",
    "fbands = [(fl, fu) for fl, fu in zip(flower, fupper)]\n",
    "\n",
    "ff, cc_t_max, cc_f_max = __compute_cc_for_fbands(tr1, tr2, fbands=fbands, plot=False)\n",
    "\n",
    "plt.scatter(ff, cc_t_max)\n",
    "plt.scatter(ff, cc_f_max)\n",
    "plt.xscale(\"log\")"
   ]
  },
  {
   "cell_type": "code",
   "execution_count": null,
   "id": "a03f10cf",
   "metadata": {
    "ExecuteTime": {
     "end_time": "2023-07-26T15:31:28.261974Z",
     "start_time": "2023-07-26T15:31:28.260435Z"
    }
   },
   "outputs": [],
   "source": []
  },
  {
   "cell_type": "code",
   "execution_count": null,
   "id": "a66a6925",
   "metadata": {},
   "outputs": [],
   "source": []
  }
 ],
 "metadata": {
  "kernelspec": {
   "display_name": "Python 3",
   "language": "python",
   "name": "python3"
  },
  "language_info": {
   "codemirror_mode": {
    "name": "ipython",
    "version": 3
   },
   "file_extension": ".py",
   "mimetype": "text/x-python",
   "name": "python",
   "nbconvert_exporter": "python",
   "pygments_lexer": "ipython3",
   "version": "3.7.7"
  },
  "latex_envs": {
   "LaTeX_envs_menu_present": true,
   "autoclose": false,
   "autocomplete": true,
   "bibliofile": "biblio.bib",
   "cite_by": "apalike",
   "current_citInitial": 1,
   "eqLabelWithNumbers": true,
   "eqNumInitial": 1,
   "hotkeys": {
    "equation": "Ctrl-E",
    "itemize": "Ctrl-I"
   },
   "labels_anchors": false,
   "latex_user_defs": false,
   "report_style_numbering": false,
   "user_envs_cfg": false
  },
  "toc": {
   "base_numbering": 1,
   "nav_menu": {},
   "number_sections": true,
   "sideBar": true,
   "skip_h1_title": false,
   "title_cell": "Table of Contents",
   "title_sidebar": "Contents",
   "toc_cell": false,
   "toc_position": {},
   "toc_section_display": true,
   "toc_window_display": false
  },
  "varInspector": {
   "cols": {
    "lenName": 16,
    "lenType": 16,
    "lenVar": 40
   },
   "kernels_config": {
    "python": {
     "delete_cmd_postfix": "",
     "delete_cmd_prefix": "del ",
     "library": "var_list.py",
     "varRefreshCmd": "print(var_dic_list())"
    },
    "r": {
     "delete_cmd_postfix": ") ",
     "delete_cmd_prefix": "rm(",
     "library": "var_list.r",
     "varRefreshCmd": "cat(var_dic_list()) "
    }
   },
   "types_to_exclude": [
    "module",
    "function",
    "builtin_function_or_method",
    "instance",
    "_Feature"
   ],
   "window_display": false
  }
 },
 "nbformat": 4,
 "nbformat_minor": 5
}
