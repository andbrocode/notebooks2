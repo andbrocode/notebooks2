{
 "cells": [
  {
   "cell_type": "markdown",
   "id": "f1800f58",
   "metadata": {},
   "source": [
    "# Create Dayplots for BSPF"
   ]
  },
  {
   "cell_type": "markdown",
   "id": "d92f0fb4",
   "metadata": {},
   "source": [
    "## Import Libraries"
   ]
  },
  {
   "cell_type": "code",
   "execution_count": 17,
   "id": "77b73fe9",
   "metadata": {
    "ExecuteTime": {
     "end_time": "2023-07-25T15:57:46.265475Z",
     "start_time": "2023-07-25T15:57:46.262510Z"
    }
   },
   "outputs": [],
   "source": [
    "import os, sys\n",
    "import obspy as obs\n",
    "import matplotlib.pyplot as plt\n",
    "\n",
    "from obspy.clients.fdsn import Client\n",
    "from obspy.signal.trigger import coincidence_trigger\n",
    "from pandas import date_range\n",
    "\n",
    "from functions.request_data import __request_data"
   ]
  },
  {
   "cell_type": "code",
   "execution_count": 2,
   "id": "0de057a3",
   "metadata": {
    "ExecuteTime": {
     "end_time": "2023-07-25T15:52:06.197423Z",
     "start_time": "2023-07-25T15:52:06.193931Z"
    }
   },
   "outputs": [],
   "source": [
    "if os.uname().nodename == 'lighthouse':\n",
    "    root_path = '/home/andbro/'\n",
    "    data_path = '/home/andbro/kilauea-data/'\n",
    "    archive_path = '/home/andbro/freenas/'\n",
    "elif os.uname().nodename == 'kilauea':\n",
    "    root_path = '/home/brotzer/'\n",
    "    data_path = '/import/kilauea-data/'\n",
    "    archive_path = '/import/freenas-ffb-01-data/'"
   ]
  },
  {
   "cell_type": "markdown",
   "id": "eaa20692",
   "metadata": {},
   "source": [
    "## Configurations"
   ]
  },
  {
   "cell_type": "code",
   "execution_count": 24,
   "id": "8e926584",
   "metadata": {
    "ExecuteTime": {
     "end_time": "2023-07-25T16:18:26.688906Z",
     "start_time": "2023-07-25T16:18:26.669957Z"
    }
   },
   "outputs": [],
   "source": [
    "config = {}\n",
    "\n",
    "config['seed'] = \"PY.BSPF..HJ*\"\n",
    "\n",
    "config['tbeg'] = obs.UTCDateTime(\"2022-10-01 00:00:00\")\n",
    "config['tend'] = obs.UTCDateTime(\"2022-10-01 01:00:00\")\n",
    "\n",
    "\n",
    "config['outpath_figs'] = data_path+\"BSPF/figures/dayplots/\"\n",
    "\n",
    "config['client'] = Client(\"IRIS\")"
   ]
  },
  {
   "cell_type": "markdown",
   "id": "625335fc",
   "metadata": {},
   "source": [
    "## Looping"
   ]
  },
  {
   "cell_type": "code",
   "execution_count": 44,
   "id": "53e02e6c",
   "metadata": {
    "ExecuteTime": {
     "end_time": "2023-07-25T16:37:56.097993Z",
     "start_time": "2023-07-25T16:37:56.084850Z"
    }
   },
   "outputs": [
    {
     "name": "stdout",
     "output_type": "stream",
     "text": [
      "2022-10-01T00:00:00.000000Z 2022-10-02T00:00:00.000000Z\n"
     ]
    },
    {
     "ename": "AttributeError",
     "evalue": "'NoneType' object has no attribute 'trim'",
     "output_type": "error",
     "traceback": [
      "\u001b[0;31m---------------------------------------------------------------------------\u001b[0m",
      "\u001b[0;31mAttributeError\u001b[0m                            Traceback (most recent call last)",
      "\u001b[0;32m/tmp/ipykernel_376385/1089056554.py\u001b[0m in \u001b[0;36m<module>\u001b[0;34m\u001b[0m\n\u001b[1;32m     10\u001b[0m \u001b[0;31m#     st_bspf, inv_bspf = __request_data(config['seed'], d1, d2)\u001b[0m\u001b[0;34m\u001b[0m\u001b[0;34m\u001b[0m\u001b[0;34m\u001b[0m\u001b[0m\n\u001b[1;32m     11\u001b[0m \u001b[0;34m\u001b[0m\u001b[0m\n\u001b[0;32m---> 12\u001b[0;31m     \u001b[0mst_bspf\u001b[0m\u001b[0;34m.\u001b[0m\u001b[0mtrim\u001b[0m\u001b[0;34m(\u001b[0m\u001b[0md1\u001b[0m\u001b[0;34m,\u001b[0m\u001b[0md2\u001b[0m\u001b[0;34m)\u001b[0m\u001b[0;34m\u001b[0m\u001b[0;34m\u001b[0m\u001b[0m\n\u001b[0m\u001b[1;32m     13\u001b[0m \u001b[0;34m\u001b[0m\u001b[0m\n\u001b[1;32m     14\u001b[0m     \u001b[0mst_bspf\u001b[0m \u001b[0;34m=\u001b[0m \u001b[0mst_bspf\u001b[0m\u001b[0;34m.\u001b[0m\u001b[0mdetrend\u001b[0m\u001b[0;34m(\u001b[0m\u001b[0;34m\"demean\"\u001b[0m\u001b[0;34m)\u001b[0m\u001b[0;34m\u001b[0m\u001b[0;34m\u001b[0m\u001b[0m\n",
      "\u001b[0;31mAttributeError\u001b[0m: 'NoneType' object has no attribute 'trim'"
     ]
    }
   ],
   "source": [
    "for date in date_range(config['tbeg'].date, config['tend'].date):\n",
    "    \n",
    "    from numpy import nanmean\n",
    "    \n",
    "    d1 = obs.UTCDateTime(date)\n",
    "    d2 = obs.UTCDateTime(date)+86400\n",
    "\n",
    "    print(d1, d2)\n",
    "    \n",
    "    st_bspf, inv_bspf = __request_data(config['seed'], d1, d2)\n",
    "    \n",
    "    st_bspf.trim(d1,d2)\n",
    "    \n",
    "    st_bspf = st_bspf.detrend(\"demean\")\n",
    "\n",
    "#     if len(st_bspf) > 3:\n",
    "#         st_bspf = st_bspf.merge(fill_value=0)\n",
    "        \n",
    "    fig = st_bspf.select(channel=\"*Z\").plot(\n",
    "                                            type=\"dayplot\", \n",
    "                                            interval=60, \n",
    "                                            right_vertical_labels=False,\n",
    "                                            vertical_scaling_range=max(abs(st_bspf[0].data))/10, \n",
    "                                            one_tick_per_line=True,\n",
    "                                            color=['k', 'r', 'b', 'g'],\n",
    "                                            show_y_UTC_label=False,\n",
    "                                            handle=True,\n",
    "                                            automerge=True,\n",
    "                                           );       \n",
    "    \n",
    "    filename = f'{str(d1.date).replace(\"-\",\"\")}.png'\n",
    "    fig.savefig(config['outpath_figs']+filename, dpi=200, bbox_inches='tight', pad_inches=0.05)"
   ]
  },
  {
   "cell_type": "code",
   "execution_count": null,
   "id": "c71361f8",
   "metadata": {
    "ExecuteTime": {
     "end_time": "2023-07-25T16:19:05.600976Z",
     "start_time": "2023-07-25T16:19:05.553746Z"
    }
   },
   "outputs": [],
   "source": []
  },
  {
   "cell_type": "code",
   "execution_count": null,
   "id": "8da3ddef",
   "metadata": {},
   "outputs": [],
   "source": []
  }
 ],
 "metadata": {
  "kernelspec": {
   "display_name": "Python 3 (ipykernel)",
   "language": "python",
   "name": "python3"
  },
  "language_info": {
   "codemirror_mode": {
    "name": "ipython",
    "version": 3
   },
   "file_extension": ".py",
   "mimetype": "text/x-python",
   "name": "python",
   "nbconvert_exporter": "python",
   "pygments_lexer": "ipython3",
   "version": "3.10.12"
  },
  "toc": {
   "base_numbering": 1,
   "nav_menu": {},
   "number_sections": true,
   "sideBar": true,
   "skip_h1_title": false,
   "title_cell": "Table of Contents",
   "title_sidebar": "Contents",
   "toc_cell": false,
   "toc_position": {},
   "toc_section_display": true,
   "toc_window_display": false
  },
  "varInspector": {
   "cols": {
    "lenName": 16,
    "lenType": 16,
    "lenVar": 40
   },
   "kernels_config": {
    "python": {
     "delete_cmd_postfix": "",
     "delete_cmd_prefix": "del ",
     "library": "var_list.py",
     "varRefreshCmd": "print(var_dic_list())"
    },
    "r": {
     "delete_cmd_postfix": ") ",
     "delete_cmd_prefix": "rm(",
     "library": "var_list.r",
     "varRefreshCmd": "cat(var_dic_list()) "
    }
   },
   "types_to_exclude": [
    "module",
    "function",
    "builtin_function_or_method",
    "instance",
    "_Feature"
   ],
   "window_display": false
  }
 },
 "nbformat": 4,
 "nbformat_minor": 5
}
