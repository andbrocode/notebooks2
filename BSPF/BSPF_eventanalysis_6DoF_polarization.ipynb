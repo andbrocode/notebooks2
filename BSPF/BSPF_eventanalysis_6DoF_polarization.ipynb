{
 "cells": [
  {
   "cell_type": "markdown",
   "id": "5fe4d14b",
   "metadata": {
    "ExecuteTime": {
     "end_time": "2022-09-13T00:35:24.926376Z",
     "start_time": "2022-09-13T00:35:24.923877Z"
    }
   },
   "source": [
    "# Analyse BlueSeis BSPF Event Analysis - Polarization"
   ]
  },
  {
   "cell_type": "markdown",
   "id": "757621cf",
   "metadata": {},
   "source": [
    "With pressure sensor parascientific and new sensor "
   ]
  },
  {
   "cell_type": "code",
   "execution_count": 1,
   "id": "a32a7007",
   "metadata": {
    "ExecuteTime": {
     "end_time": "2023-04-26T12:48:22.643660Z",
     "start_time": "2023-04-26T12:48:21.116997Z"
    }
   },
   "outputs": [],
   "source": [
    "import os, sys\n",
    "import obspy as obs\n",
    "import matplotlib.pyplot as plt\n",
    "import numpy as np\n",
    "import pandas as pd\n",
    "import scipy\n",
    "\n",
    "sys.path.append(\"/home/andbro/andbro_python\")\n",
    "\n",
    "from andbro__store_as_pickle import __store_as_pickle\n",
    "from andbro__savefig import __savefig"
   ]
  },
  {
   "cell_type": "code",
   "execution_count": null,
   "id": "2af50d75-34c0-44fd-bc07-e0e0aa47a3aa",
   "metadata": {},
   "outputs": [],
   "source": [
    "from functions.request_data import __request_data"
   ]
  },
  {
   "cell_type": "code",
   "execution_count": null,
   "id": "8e2e2545",
   "metadata": {
    "ExecuteTime": {
     "end_time": "2023-04-26T12:48:22.864654Z",
     "start_time": "2023-04-26T12:48:22.658382Z"
    }
   },
   "outputs": [],
   "source": [
    "sys.path.append(\"/home/andbro/Documents/ROMY/twistpy/TwistPy/\")\n",
    "\n",
    "from twistpy.utils import stransform\n",
    "from twistpy.convenience import ricker\n",
    "from twistpy.polarization import (\n",
    "    TimeDomainAnalysis6C,\n",
    "    PolarizationModel6C,\n",
    "    SupportVectorMachine,\n",
    "    EstimatorConfiguration,\n",
    ")"
   ]
  },
  {
   "cell_type": "code",
   "execution_count": null,
   "id": "41cc74f4",
   "metadata": {},
   "outputs": [],
   "source": [
    "if os.uname().nodename == 'lighthouse':\n",
    "    root_path = '/home/andbro/'\n",
    "    data_path = '/home/andbro/kilauea-data/'\n",
    "    archive_path = '/home/andbro/freenas/'\n",
    "elif os.uname().nodename == 'kilauea':\n",
    "    root_path = '/home/brotzer/'\n",
    "    data_path = '/import/kilauea-data/'\n",
    "    archive_path = '/import/freenas-ffb-01-data/'"
   ]
  },
  {
   "cell_type": "markdown",
   "id": "e5009dec",
   "metadata": {},
   "source": [
    "## Configurations"
   ]
  },
  {
   "cell_type": "code",
   "execution_count": null,
   "id": "e9cfc76c",
   "metadata": {},
   "outputs": [],
   "source": [
    "config = {}\n",
    "\n",
    "## BSPF coordinates\n",
    "config['BSPF_lon'] = -116.455439\n",
    "config['BSPF_lat'] = 33.610643\n",
    "\n",
    "##\n",
    "config['path_to_mseed'] = data_path+\"BSPF/data/waveforms/ACC/\"\n",
    "\n",
    "## event selction\n",
    "config['path_to_data'] = data_path+\"BSPF/data/\"\n",
    "\n",
    "## output path for figures\n",
    "config['output_figs'] = data_path+\"BSPF/figures/velocity/\"\n"
   ]
  },
  {
   "cell_type": "markdown",
   "id": "1e0fbdbb",
   "metadata": {},
   "source": [
    "## Load Data"
   ]
  },
  {
   "cell_type": "code",
   "execution_count": null,
   "id": "d364640a",
   "metadata": {},
   "outputs": [],
   "source": [
    "events = obs.read_events(config['path_to_data']+\"catalogs/BSPF_catalog_20221001_20230615_all.xml\")\n",
    "\n",
    "triggered = pd.read_pickle(config['path_to_data']+\"catalogs/BSPF_catalog_20221001_20230615_triggered.pkl\")\n",
    "\n",
    "event_times = pd.read_pickle(config['path_to_data']+\"event_selection_good.pkl\")"
   ]
  },
  {
   "cell_type": "code",
   "execution_count": null,
   "id": "156dd365",
   "metadata": {},
   "outputs": [],
   "source": [
    "num = 5\n",
    "\n",
    "event_time = event_times.origin_time.loc[num]\n",
    "\n",
    "event = events.filter(f\"time >= {event_time}\",f\"time <= {event_time}\")\n",
    "\n",
    "trig = triggered[triggered.origin == event_time]\n",
    "\n",
    "## prepare string\n",
    "event_time_str = event_time.split(\".\")[0].replace(\" \",\"_\").replace(\"-\",\"\").replace(\":\",\"\")"
   ]
  },
  {
   "cell_type": "code",
   "execution_count": null,
   "id": "656a2d25",
   "metadata": {},
   "outputs": [],
   "source": [
    "st = obs.read(config['path_to_mseed']+f\"*{event_time_str}*\")\n",
    "\n",
    "st.resample(40).trim(st[0].stats.starttime, st[0].stats.endtime)\n",
    "\n",
    "st.detrend(\"simple\")\n",
    "\n",
    "# st.plot(equal_scale=False);"
   ]
  },
  {
   "cell_type": "code",
   "execution_count": null,
   "id": "9c568649",
   "metadata": {},
   "outputs": [],
   "source": [
    "# cut_offs = [\n",
    "#     (65,80), (65,80), (60,100), (60,100), (60,70),\n",
    "#     (60,90), (60,90), (60,90), (62,105), (65,90),\n",
    "#     (62,110), (65,85), (60,105),\n",
    "# ]\n",
    "\n",
    "# st.trim(st[0].stats.starttime+cut_offs[num][0]-5, st[0].stats.endtime-cut_offs[num][1]+10);"
   ]
  },
  {
   "cell_type": "markdown",
   "id": "d8923d24",
   "metadata": {},
   "source": [
    "## S-Transform"
   ]
  },
  {
   "cell_type": "code",
   "execution_count": null,
   "id": "f5a8cb18",
   "metadata": {},
   "outputs": [],
   "source": [
    "from functions.makeplotStream_cwt import __makeplotStream_cwt"
   ]
  },
  {
   "cell_type": "code",
   "execution_count": null,
   "id": "83ef2c56",
   "metadata": {
    "ExecuteTime": {
     "end_time": "2023-04-26T12:57:43.810544Z",
     "start_time": "2023-04-26T12:57:41.036865Z"
    }
   },
   "outputs": [],
   "source": [
    "fig = __makeplotStream_cwt(st_all, config);"
   ]
  },
  {
   "cell_type": "markdown",
   "id": "959ee800",
   "metadata": {},
   "source": [
    "## Frequency Domain"
   ]
  },
  {
   "cell_type": "code",
   "execution_count": null,
   "id": "d8049204",
   "metadata": {
    "ExecuteTime": {
     "end_time": "2023-04-26T12:49:46.039094Z",
     "start_time": "2023-04-26T12:49:46.033406Z"
    }
   },
   "outputs": [],
   "source": [
    "from twistpy.polarization import TimeFrequencyAnalysis6C, EstimatorConfiguration"
   ]
  },
  {
   "cell_type": "code",
   "execution_count": null,
   "id": "f043d996",
   "metadata": {
    "ExecuteTime": {
     "end_time": "2023-04-26T12:49:57.560501Z",
     "start_time": "2023-04-26T12:49:57.538836Z"
    }
   },
   "outputs": [],
   "source": [
    "acc = ii_pfo_acc.copy()\n",
    "rot = py_bspf.copy()\n",
    "\n",
    "acc.resample(20.0)\n",
    "rot.resample(20.0)\n",
    "\n",
    "scaling_velocity = 5000 # m/s\n",
    "\n",
    "for tr1, tr2 in zip(acc, rot):\n",
    "    tr1.taper(0.1);  tr2.taper(0.1)\n",
    "    tr1.detrend(\"linear\") ; tr2.detrend(\"linear\")\n",
    "    \n",
    "for tr in acc: \n",
    "    tr.data /= scaling_velocity\n",
    "\n",
    "\n",
    "window = {\"number_of_periods\": 2, \"frequency_extent\": 0.01}"
   ]
  },
  {
   "cell_type": "code",
   "execution_count": null,
   "id": "81b558e8",
   "metadata": {
    "ExecuteTime": {
     "end_time": "2023-04-26T12:49:58.921205Z",
     "start_time": "2023-04-26T12:49:57.933057Z"
    },
    "scrolled": true
   },
   "outputs": [],
   "source": [
    "acc.plot(), rot.plot()"
   ]
  },
  {
   "cell_type": "code",
   "execution_count": null,
   "id": "fd0880f3",
   "metadata": {
    "ExecuteTime": {
     "end_time": "2023-04-26T12:50:00.845847Z",
     "start_time": "2023-04-26T12:50:00.696426Z"
    }
   },
   "outputs": [],
   "source": [
    "%matplotlib inline\n",
    "\n",
    "\n",
    "for tr in st_all:\n",
    "    plt.plot(tr.data)\n",
    "plt.show()"
   ]
  },
  {
   "cell_type": "code",
   "execution_count": null,
   "id": "1bdcc707",
   "metadata": {
    "ExecuteTime": {
     "end_time": "2023-04-26T12:50:53.441424Z",
     "start_time": "2023-04-26T12:50:53.421217Z"
    }
   },
   "outputs": [],
   "source": [
    "analysis = TimeFrequencyAnalysis6C(\n",
    "                                    traN=acc.select(channel=\"*N\")[0],\n",
    "                                    traE=acc.select(channel=\"*E\")[0],\n",
    "                                    traZ=acc.select(channel=\"*Z\")[0],\n",
    "                                    rotN=rot.select(channel=\"*N\")[0],\n",
    "                                    rotE=rot.select(channel=\"*E\")[0],\n",
    "                                    rotZ=rot.select(channel=\"*Z\")[0],\n",
    "                                    window=window,\n",
    "                                    dsfacf=100,\n",
    "                                    dsfact=1,\n",
    "                                    frange=[0.01, 15.0],\n",
    "                                    scaling_velocity=scaling_velocity,\n",
    ")"
   ]
  },
  {
   "cell_type": "code",
   "execution_count": null,
   "id": "860fb497",
   "metadata": {
    "ExecuteTime": {
     "end_time": "2023-04-26T12:50:53.970259Z",
     "start_time": "2023-04-26T12:50:53.963717Z"
    }
   },
   "outputs": [],
   "source": [
    "est = EstimatorConfiguration(\n",
    "                            wave_types=[\"R\"],\n",
    "                            method=\"DOT\",\n",
    "                            scaling_velocity=scaling_velocity,\n",
    "                            use_ml_classification=False,\n",
    "                            vr=[2000, 4000, 100],\n",
    "                            xi=[-90, 90, 2],\n",
    "                            phi=[0, 360, 10],\n",
    "                            eigenvector=0,\n",
    "\n",
    ")"
   ]
  },
  {
   "cell_type": "code",
   "execution_count": null,
   "id": "3a929434",
   "metadata": {
    "ExecuteTime": {
     "end_time": "2023-04-26T12:51:02.370852Z",
     "start_time": "2023-04-26T12:50:54.760208Z"
    }
   },
   "outputs": [],
   "source": [
    "analysis.polarization_analysis(estimator_configuration=est)"
   ]
  },
  {
   "cell_type": "code",
   "execution_count": null,
   "id": "44c83978",
   "metadata": {
    "ExecuteTime": {
     "end_time": "2023-04-26T12:51:02.409763Z",
     "start_time": "2023-04-26T12:50:55.469Z"
    }
   },
   "outputs": [],
   "source": []
  },
  {
   "cell_type": "code",
   "execution_count": null,
   "id": "dd04a4de",
   "metadata": {
    "ExecuteTime": {
     "end_time": "2023-04-26T12:51:02.501534Z",
     "start_time": "2023-04-26T12:50:58.008Z"
    }
   },
   "outputs": [],
   "source": [
    "analysis.plot_wave_parameters(estimator_configuration=est, lh_min=0.5, lh_max=1.0)"
   ]
  },
  {
   "cell_type": "markdown",
   "id": "a834bd61",
   "metadata": {},
   "source": [
    "## Polarization Analysis"
   ]
  },
  {
   "cell_type": "code",
   "execution_count": null,
   "id": "a7bccfc5",
   "metadata": {
    "ExecuteTime": {
     "end_time": "2023-04-26T12:51:05.852781Z",
     "start_time": "2023-04-26T12:51:05.847166Z"
    }
   },
   "outputs": [],
   "source": [
    "dt = py_bspf[0].stats.delta\n",
    "\n",
    "scaling_velocity = 5000.0"
   ]
  },
  {
   "cell_type": "markdown",
   "id": "e5497142",
   "metadata": {},
   "source": [
    "### Train Model"
   ]
  },
  {
   "cell_type": "code",
   "execution_count": null,
   "id": "b177328d",
   "metadata": {
    "ExecuteTime": {
     "end_time": "2023-04-26T12:56:19.152488Z",
     "start_time": "2023-04-26T12:56:11.259867Z"
    }
   },
   "outputs": [],
   "source": [
    "svm = SupportVectorMachine(name=\"love_wave_test2\")\n",
    "\n",
    "########################################################################################################################\n",
    "# Now we can train the model. For details, please check the example on how to train a\n",
    "# 'twistpy.machinelearning.SupportVectorMachine' object. In short, we want to train the model for wave parameters\n",
    "# that are typical for the near surface, and we want to be able to identify P, SV, SH and Rayleigh waves. This means\n",
    "# that we do not make a distinction between Love and SH waves here, and Love waves will simply be contained in the SH\n",
    "# wave class as the special case of horizontally propagating SH waves. Additionally, we make use of a Noise class, for\n",
    "# analysis windows with a random polarization. We allow waves to arrive from all directions (azimuth range [0 360]\n",
    "# degrees and inclination range [0 90] degrees).\n",
    "\n",
    "svm.train(\n",
    "            wave_types=[\"R\", \"P\", \"SV\", \"L\", \"Noise\"],\n",
    "            N=5000,\n",
    "            scaling_velocity=scaling_velocity,\n",
    "            vp=(2000, 4000),\n",
    "            vp_to_vs=(1.7, 2.4),\n",
    "            vl=(100, 3000),\n",
    "            vr=(100, 3000),\n",
    "            phi=(0, 360),\n",
    "            theta=(0, 90),\n",
    "            xi=(-90, 90),\n",
    "            free_surface=True,\n",
    "            C=1,\n",
    "            kernel=\"rbf\",\n",
    ")"
   ]
  },
  {
   "cell_type": "markdown",
   "id": "26d96f94",
   "metadata": {},
   "source": [
    "## Prepare"
   ]
  },
  {
   "cell_type": "code",
   "execution_count": null,
   "id": "d199fb8d",
   "metadata": {
    "ExecuteTime": {
     "end_time": "2023-04-26T13:04:38.549262Z",
     "start_time": "2023-04-26T13:04:38.533899Z"
    }
   },
   "outputs": [],
   "source": [
    "rot = py_bspf.copy().trim(config['tbeg'], config['tend']).taper(0.1)\n",
    "acc = ii_pfo_acc.copy().trim(config['tbeg'], config['tend']).taper(0.1)"
   ]
  },
  {
   "cell_type": "code",
   "execution_count": null,
   "id": "a2ea7054",
   "metadata": {
    "ExecuteTime": {
     "end_time": "2023-04-26T13:04:38.811893Z",
     "start_time": "2023-04-26T13:04:38.806756Z"
    }
   },
   "outputs": [],
   "source": [
    "acc.select(channel=\"*Z\")[0].data *= -1\n",
    "rot.select(channel=\"*Z\")[0].data *= -1"
   ]
  },
  {
   "cell_type": "code",
   "execution_count": null,
   "id": "d76dfb59",
   "metadata": {
    "ExecuteTime": {
     "end_time": "2023-04-26T13:04:39.472230Z",
     "start_time": "2023-04-26T13:04:39.465979Z"
    }
   },
   "outputs": [],
   "source": [
    "for tr in acc:\n",
    "    tr.data /= scaling_velocity"
   ]
  },
  {
   "cell_type": "code",
   "execution_count": null,
   "id": "092fa0a1",
   "metadata": {
    "ExecuteTime": {
     "end_time": "2023-04-26T12:56:26.282327Z",
     "start_time": "2023-04-26T12:56:26.278493Z"
    }
   },
   "outputs": [],
   "source": [
    "# acc.plot();\n",
    "# rot.plot();"
   ]
  },
  {
   "cell_type": "markdown",
   "id": "45965db1",
   "metadata": {},
   "source": [
    "## Time Domain"
   ]
  },
  {
   "cell_type": "code",
   "execution_count": null,
   "id": "6d96bb23",
   "metadata": {},
   "outputs": [],
   "source": [
    "acc[0].stats."
   ]
  },
  {
   "cell_type": "code",
   "execution_count": null,
   "id": "32e66325",
   "metadata": {
    "ExecuteTime": {
     "end_time": "2023-04-26T13:08:29.410192Z",
     "start_time": "2023-04-26T13:08:29.391149Z"
    }
   },
   "outputs": [],
   "source": [
    "########################################################################################################################\n",
    "# Now that we have trained the model, we can set up our analysis. We will perform 6C polarization analysis in the time\n",
    "# domain and use a sliding time window that is 0.05 s long (50 samples) with an overlap between subsequent windows of\n",
    "# 50%.\n",
    "\n",
    "dt = py_bspf[0].stats.delta\n",
    "\n",
    "window = {\"window_length_seconds\": 5 * dt, \"overlap\": 50}\n",
    "\n",
    "analysis = TimeDomainAnalysis6C(\n",
    "                                traN=acc.select(channel=\"*N\")[0],\n",
    "                                traE=acc.select(channel=\"*E\")[0],\n",
    "                                traZ=acc.select(channel=\"*Z\")[0],\n",
    "                                rotN=rot.select(channel=\"*N\")[0],\n",
    "                                rotE=rot.select(channel=\"*E\")[0],\n",
    "                                rotZ=rot.select(channel=\"*Z\")[0],\n",
    "                                window=window,\n",
    "                                scaling_velocity=scaling_velocity,\n",
    ")"
   ]
  },
  {
   "cell_type": "code",
   "execution_count": null,
   "id": "d05cdaad",
   "metadata": {
    "ExecuteTime": {
     "end_time": "2023-04-26T13:06:55.299267Z",
     "start_time": "2023-04-26T13:06:55.292450Z"
    }
   },
   "outputs": [],
   "source": [
    "%matplotlib inline"
   ]
  },
  {
   "cell_type": "code",
   "execution_count": null,
   "id": "d41a698d",
   "metadata": {
    "ExecuteTime": {
     "end_time": "2023-04-26T13:08:31.827445Z",
     "start_time": "2023-04-26T13:08:31.328001Z"
    }
   },
   "outputs": [],
   "source": [
    "########################################################################################################################\n",
    "# To classify the waves, we simply do (yielding a classification of the first eigenvector of the covariance matrix):\n",
    "\n",
    "analysis.classify(svm=svm, eigenvector_to_classify=0)\n",
    "\n",
    "classification = analysis.classification[\"0\"]\n",
    "\n",
    "t_windows = (analysis.t_windows)  # Positions of the sliding time windows where the classification was performed\n",
    "\n",
    "#  Wave parameter estimation\n",
    "\n",
    "# est = EstimatorConfiguration(\n",
    "#                             wave_types=[\"L\", \"R\"],\n",
    "#                             method=\"DOT\",\n",
    "#                             scaling_velocity=scaling_velocity,\n",
    "#                             use_ml_classification=False,\n",
    "    \n",
    "#                             svm=svm,\n",
    "# )\n",
    "\n",
    "est = EstimatorConfiguration(\n",
    "                            wave_types=[\"R\"],\n",
    "                            method=\"DOT\",\n",
    "                            scaling_velocity=scaling_velocity,\n",
    "                            use_ml_classification=False,\n",
    "                            vr=[1000, 4500, 100],\n",
    "                            xi=[-90, 90, 2],\n",
    "                            phi=[0, 360, 10],\n",
    "                            eigenvector=0,\n",
    "                            svm=svm,\n",
    ")\n",
    "\n",
    "\n",
    "analysis.polarization_analysis(estimator_configuration=est)\n",
    "\n",
    "analysis.plot(estimator_configuration=est, dop_clip=0.9)\n"
   ]
  },
  {
   "cell_type": "code",
   "execution_count": null,
   "id": "447d1843",
   "metadata": {
    "ExecuteTime": {
     "end_time": "2023-04-26T13:07:43.880334Z",
     "start_time": "2023-04-26T13:07:43.092Z"
    }
   },
   "outputs": [],
   "source": [
    "time domain grid search für parameter\n",
    "\n"
   ]
  },
  {
   "cell_type": "markdown",
   "id": "a7ac5433",
   "metadata": {},
   "source": [
    "## Test Example"
   ]
  },
  {
   "cell_type": "code",
   "execution_count": null,
   "id": "8e753640",
   "metadata": {
    "ExecuteTime": {
     "end_time": "2023-04-26T12:48:38.651553Z",
     "start_time": "2023-04-26T12:48:38.640318Z"
    }
   },
   "outputs": [],
   "source": [
    "# data = obs.read(\"/home/andbro/Documents/ROMY/twistpy/TwistPy/example_data/ROMY_gulf_of_alaska_teleseism.mseed\")\n",
    "\n",
    "# # scaling_velocity = 4500.0\n",
    "\n",
    "# for n, trace in enumerate(data):\n",
    "#     trace.detrend(\"spline\", order=5, dspline=100)\n",
    "#     trace.trim(starttime=trace.stats.starttime, endtime=trace.stats.endtime - 4500)\n",
    "#     trace.taper(0.2)\n",
    "#     if n < 3:\n",
    "#         trace.data /= scaling_velocity\n",
    "\n",
    "# window = {\"number_of_periods\": 1, \"frequency_extent\": 0.01}\n",
    "\n",
    "# analysis = TimeFrequencyAnalysis6C(\n",
    "#     traN=data[0],\n",
    "#     traE=data[1],\n",
    "#     traZ=data[2],\n",
    "#     rotN=data[3],\n",
    "#     rotE=data[4],\n",
    "#     rotZ=data[5],\n",
    "#     window=window,\n",
    "#     dsfacf=20,\n",
    "#     dsfact=20,\n",
    "#     frange=[0.01, 0.15],\n",
    "# )\n",
    "\n",
    "# est = EstimatorConfiguration(\n",
    "#     wave_types=[\"R\"],\n",
    "#     method=\"DOT\",\n",
    "#     scaling_velocity=scaling_velocity,\n",
    "#     use_ml_classification=False,\n",
    "#     vr=[3000, 4000, 100],\n",
    "#     xi=[-90, 90, 2],\n",
    "#     phi=[150, 210, 1],\n",
    "#     eigenvector=0,\n",
    "# )\n",
    "\n",
    "# analysis.plot_wave_parameters(estimator_configuration=est, lh_min=0.7, lh_max=1.0)\n"
   ]
  },
  {
   "cell_type": "code",
   "execution_count": null,
   "id": "5b42c7ff",
   "metadata": {
    "ExecuteTime": {
     "end_time": "2023-03-30T22:01:31.444128Z",
     "start_time": "2023-03-30T22:01:31.438803Z"
    }
   },
   "outputs": [],
   "source": []
  },
  {
   "cell_type": "code",
   "execution_count": null,
   "id": "f882c126",
   "metadata": {
    "ExecuteTime": {
     "end_time": "2023-03-30T22:03:02.493318Z",
     "start_time": "2023-03-30T22:03:02.475430Z"
    }
   },
   "outputs": [],
   "source": []
  },
  {
   "cell_type": "code",
   "execution_count": null,
   "id": "fc0261ab",
   "metadata": {},
   "outputs": [],
   "source": []
  }
 ],
 "metadata": {
  "kernelspec": {
   "display_name": "Python 3",
   "language": "python",
   "name": "python3"
  },
  "language_info": {
   "codemirror_mode": {
    "name": "ipython",
    "version": 3
   },
   "file_extension": ".py",
   "mimetype": "text/x-python",
   "name": "python",
   "nbconvert_exporter": "python",
   "pygments_lexer": "ipython3",
   "version": "3.7.7"
  },
  "latex_envs": {
   "LaTeX_envs_menu_present": true,
   "autoclose": false,
   "autocomplete": true,
   "bibliofile": "biblio.bib",
   "cite_by": "apalike",
   "current_citInitial": 1,
   "eqLabelWithNumbers": true,
   "eqNumInitial": 1,
   "hotkeys": {
    "equation": "Ctrl-E",
    "itemize": "Ctrl-I"
   },
   "labels_anchors": false,
   "latex_user_defs": false,
   "report_style_numbering": false,
   "user_envs_cfg": false
  },
  "toc": {
   "base_numbering": 1,
   "nav_menu": {},
   "number_sections": true,
   "sideBar": true,
   "skip_h1_title": false,
   "title_cell": "Table of Contents",
   "title_sidebar": "Contents",
   "toc_cell": false,
   "toc_position": {},
   "toc_section_display": true,
   "toc_window_display": false
  },
  "varInspector": {
   "cols": {
    "lenName": 16,
    "lenType": 16,
    "lenVar": 40
   },
   "kernels_config": {
    "python": {
     "delete_cmd_postfix": "",
     "delete_cmd_prefix": "del ",
     "library": "var_list.py",
     "varRefreshCmd": "print(var_dic_list())"
    },
    "r": {
     "delete_cmd_postfix": ") ",
     "delete_cmd_prefix": "rm(",
     "library": "var_list.r",
     "varRefreshCmd": "cat(var_dic_list()) "
    }
   },
   "types_to_exclude": [
    "module",
    "function",
    "builtin_function_or_method",
    "instance",
    "_Feature"
   ],
   "window_display": false
  }
 },
 "nbformat": 4,
 "nbformat_minor": 5
}
