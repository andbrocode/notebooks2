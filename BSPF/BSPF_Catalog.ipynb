{
 "cells": [
  {
   "cell_type": "markdown",
   "id": "a64eef39",
   "metadata": {},
   "source": [
    "# Analyse BlueSeis BSPF Events"
   ]
  },
  {
   "cell_type": "markdown",
   "id": "9ac2b327",
   "metadata": {},
   "source": [
    "With pressure sensor parascientific and new sensor "
   ]
  },
  {
   "cell_type": "code",
   "execution_count": 1,
   "id": "96f51ba9",
   "metadata": {
    "ExecuteTime": {
     "end_time": "2023-03-30T08:02:06.433455Z",
     "start_time": "2023-03-30T08:02:04.959639Z"
    }
   },
   "outputs": [],
   "source": [
    "import os \n",
    "import obspy as obs\n",
    "import matplotlib.pyplot as plt\n",
    "import numpy as np\n",
    "import pandas as pd\n",
    "\n",
    "from andbro__savefig import __savefig\n",
    "from obspy.clients.fdsn import Client"
   ]
  },
  {
   "cell_type": "markdown",
   "id": "0c281ea0",
   "metadata": {
    "ExecuteTime": {
     "end_time": "2023-01-13T15:42:15.099966Z",
     "start_time": "2023-01-13T15:42:15.096483Z"
    }
   },
   "source": [
    "## Configurations"
   ]
  },
  {
   "cell_type": "code",
   "execution_count": 2,
   "id": "b837ffad",
   "metadata": {
    "ExecuteTime": {
     "end_time": "2023-03-30T08:02:06.460484Z",
     "start_time": "2023-03-30T08:02:06.454247Z"
    }
   },
   "outputs": [],
   "source": [
    "config = {}\n",
    "\n",
    "config['minlatitude'] = 31\n",
    "config['maxlatitude'] = 35\n",
    "config['minlongitude'] = -119\n",
    "config['maxlongitude'] = -114\n",
    "\n",
    "config['BSPF_lon'] = np.array([-116.455439])\n",
    "config['BSPF_lat'] = np.array([33.610643])\n",
    "\n",
    "config['minmagnitude'] = 2.5\n",
    "\n",
    "config['tbeg'] = obs.UTCDateTime(\"2022-10-01\")\n",
    "config['tend'] = obs.UTCDateTime(\"2023-03-20\")\n",
    "\n",
    "config['eventfile'] = \"BSPF_event_catalog.pkl\"\n",
    "\n",
    "config['outpath'] = \"./\""
   ]
  },
  {
   "cell_type": "code",
   "execution_count": 4,
   "id": "b11c2d8a",
   "metadata": {
    "ExecuteTime": {
     "end_time": "2023-03-30T08:02:10.323039Z",
     "start_time": "2023-03-30T08:02:10.313751Z"
    },
    "code_folding": [
     0
    ]
   },
   "outputs": [],
   "source": [
    "def __export_new_events(config, events_old, events):\n",
    "    \n",
    "    ## combine new and old catalog\n",
    "    tmp = pd.concat([__cat_to_df(events_old), __cat_to_df(events)]).reset_index(drop=False)\n",
    "    ## remove duplicates\n",
    "    df = tmp.drop_duplicates(subset=['index'], keep=False)\n",
    "    ## sort and set index\n",
    "    df = df.sort_index(ascending=False)\n",
    "    df.set_index('index', inplace=True, drop=True)\n",
    "    \n",
    "    ## export new events to pickle file\n",
    "    print(f\" -> export new events: {config['outpath']}new_events.pkl\")\n",
    "    df.to_pickle(config['outpath']+\"new_events.pkl\")\n",
    "    \n",
    "    del tmp, df  "
   ]
  },
  {
   "cell_type": "code",
   "execution_count": 5,
   "id": "f850828a",
   "metadata": {
    "ExecuteTime": {
     "end_time": "2023-03-30T08:02:10.612458Z",
     "start_time": "2023-03-30T08:02:10.600319Z"
    },
    "code_folding": [
     0
    ]
   },
   "outputs": [],
   "source": [
    "def __cat_to_df(cat):\n",
    "    \n",
    "    from pandas import DataFrame\n",
    "    \n",
    "    times = []\n",
    "    lats = []\n",
    "    lons = []\n",
    "    deps = []\n",
    "    magnitudes = []\n",
    "    magnitudestype = []\n",
    "    \n",
    "    for event in cat:\n",
    "        if len(event.origins) != 0 and len(event.magnitudes) != 0:\n",
    "            times.append(event.origins[0].time.datetime)\n",
    "            lats.append(event.origins[0].latitude)\n",
    "            lons.append(event.origins[0].longitude)\n",
    "            deps.append(event.origins[0].depth)\n",
    "            magnitudes.append(event.magnitudes[0].mag)\n",
    "            magnitudestype.append(event.magnitudes[0].magnitude_type )\n",
    "            \n",
    "    df = DataFrame({'latitude':lats,'longitude':lons,'depth':deps,\n",
    "                    'magnitude':magnitudes,'type':magnitudestype}, \n",
    "                     index = times\n",
    "                  )\n",
    "    \n",
    "    return df"
   ]
  },
  {
   "cell_type": "code",
   "execution_count": 6,
   "id": "6ec5f287",
   "metadata": {
    "ExecuteTime": {
     "end_time": "2023-03-30T08:02:10.790153Z",
     "start_time": "2023-03-30T08:02:10.781468Z"
    },
    "code_folding": [
     0
    ]
   },
   "outputs": [],
   "source": [
    "def __add_distances_and_backazimuth(config, df):\n",
    "\n",
    "    from obspy.geodetics.base import gps2dist_azimuth\n",
    "\n",
    "    dist = np.zeros(len(df))\n",
    "    baz = np.zeros(len(df))\n",
    "\n",
    "    \n",
    "    for ii, ev in enumerate(df.index):\n",
    "        try:\n",
    "            dist[ii], az, baz[ii] = gps2dist_azimuth(config['BSPF_lat'], config['BSPF_lon'],\n",
    "                                                     df.latitude[ii], df.longitude[ii],\n",
    "                                                     a=6378137.0, f=0.0033528106647474805\n",
    "                                                     )\n",
    "        except:\n",
    "            print(\" -> failed to compute!\")\n",
    "            \n",
    "    df['backazimuth'] = baz\n",
    "    df['distances_km'] = dist/1000\n",
    "\n",
    "    return df"
   ]
  },
  {
   "cell_type": "markdown",
   "id": "4d40729f",
   "metadata": {},
   "source": [
    "## Get Events"
   ]
  },
  {
   "cell_type": "code",
   "execution_count": 8,
   "id": "e0b9a437",
   "metadata": {
    "ExecuteTime": {
     "end_time": "2023-03-30T08:03:42.180592Z",
     "start_time": "2023-03-30T08:03:16.884740Z"
    }
   },
   "outputs": [
    {
     "ename": "ImportError",
     "evalue": "cannot import name 'dedent' from 'matplotlib.cbook' (/home/andbro/anaconda3/lib/python3.7/site-packages/matplotlib/cbook/__init__.py)",
     "output_type": "error",
     "traceback": [
      "\u001b[0;31m---------------------------------------------------------------------------\u001b[0m",
      "\u001b[0;31mImportError\u001b[0m                               Traceback (most recent call last)",
      "\u001b[0;32m<ipython-input-8-f7d4804898d8>\u001b[0m in \u001b[0;36m<module>\u001b[0;34m()\u001b[0m\n\u001b[1;32m     44\u001b[0m \u001b[0;34m\u001b[0m\u001b[0m\n\u001b[1;32m     45\u001b[0m \u001b[0;34m\u001b[0m\u001b[0m\n\u001b[0;32m---> 46\u001b[0;31m \u001b[0mevents\u001b[0m\u001b[0;34m.\u001b[0m\u001b[0mplot\u001b[0m\u001b[0;34m(\u001b[0m\u001b[0mprojection\u001b[0m\u001b[0;34m=\u001b[0m\u001b[0;34m\"local\"\u001b[0m\u001b[0;34m)\u001b[0m\u001b[0;34m;\u001b[0m\u001b[0;34m\u001b[0m\u001b[0;34m\u001b[0m\u001b[0m\n\u001b[0m\u001b[1;32m     47\u001b[0m \u001b[0;34m\u001b[0m\u001b[0m\n\u001b[1;32m     48\u001b[0m \u001b[0;31m# events.write(config['outpath']+\"events.xml\", format=\"QUAKEML\")\u001b[0m\u001b[0;34m\u001b[0m\u001b[0;34m\u001b[0m\u001b[0;34m\u001b[0m\u001b[0m\n",
      "\u001b[0;32m/home/andbro/anaconda3/lib/python3.7/site-packages/obspy/core/event/catalog.py\u001b[0m in \u001b[0;36mplot\u001b[0;34m(self, projection, resolution, continent_fill_color, water_fill_color, label, color, colormap, show, outfile, method, fig, title, **kwargs)\u001b[0m\n\u001b[1;32m    654\u001b[0m             \u001b[0mcat\u001b[0m\u001b[0;34m.\u001b[0m\u001b[0mplot\u001b[0m\u001b[0;34m(\u001b[0m\u001b[0mfig\u001b[0m\u001b[0;34m=\u001b[0m\u001b[0mfig\u001b[0m\u001b[0;34m)\u001b[0m\u001b[0;34m\u001b[0m\u001b[0;34m\u001b[0m\u001b[0m\n\u001b[1;32m    655\u001b[0m         \"\"\"\n\u001b[0;32m--> 656\u001b[0;31m         \u001b[0;32mfrom\u001b[0m \u001b[0mobspy\u001b[0m\u001b[0;34m.\u001b[0m\u001b[0mimaging\u001b[0m\u001b[0;34m.\u001b[0m\u001b[0mmaps\u001b[0m \u001b[0;32mimport\u001b[0m \u001b[0mplot_map\u001b[0m\u001b[0;34m,\u001b[0m \u001b[0m_plot_basemap_into_axes\u001b[0m\u001b[0;34m\u001b[0m\u001b[0;34m\u001b[0m\u001b[0m\n\u001b[0m\u001b[1;32m    657\u001b[0m         \u001b[0;32mimport\u001b[0m \u001b[0mmatplotlib\u001b[0m\u001b[0;34m\u001b[0m\u001b[0;34m\u001b[0m\u001b[0m\n\u001b[1;32m    658\u001b[0m         \u001b[0;32mimport\u001b[0m \u001b[0mmatplotlib\u001b[0m\u001b[0;34m.\u001b[0m\u001b[0mpyplot\u001b[0m \u001b[0;32mas\u001b[0m \u001b[0mplt\u001b[0m\u001b[0;34m\u001b[0m\u001b[0;34m\u001b[0m\u001b[0m\n",
      "\u001b[0;32m/home/andbro/anaconda3/lib/python3.7/site-packages/obspy/imaging/maps.py\u001b[0m in \u001b[0;36m<module>\u001b[0;34m()\u001b[0m\n\u001b[1;32m     31\u001b[0m \u001b[0;34m\u001b[0m\u001b[0m\n\u001b[1;32m     32\u001b[0m \u001b[0;32mif\u001b[0m \u001b[0mBASEMAP_VERSION\u001b[0m\u001b[0;34m:\u001b[0m\u001b[0;34m\u001b[0m\u001b[0;34m\u001b[0m\u001b[0m\n\u001b[0;32m---> 33\u001b[0;31m     \u001b[0;32mfrom\u001b[0m \u001b[0mmpl_toolkits\u001b[0m\u001b[0;34m.\u001b[0m\u001b[0mbasemap\u001b[0m \u001b[0;32mimport\u001b[0m \u001b[0mBasemap\u001b[0m\u001b[0;34m\u001b[0m\u001b[0;34m\u001b[0m\u001b[0m\n\u001b[0m\u001b[1;32m     34\u001b[0m     \u001b[0mHAS_BASEMAP\u001b[0m \u001b[0;34m=\u001b[0m \u001b[0;32mTrue\u001b[0m\u001b[0;34m\u001b[0m\u001b[0;34m\u001b[0m\u001b[0m\n\u001b[1;32m     35\u001b[0m     \u001b[0;32mif\u001b[0m \u001b[0mBASEMAP_VERSION\u001b[0m \u001b[0;34m<\u001b[0m \u001b[0;34m[\u001b[0m\u001b[0;36m1\u001b[0m\u001b[0;34m,\u001b[0m \u001b[0;36m0\u001b[0m\u001b[0;34m,\u001b[0m \u001b[0;36m4\u001b[0m\u001b[0;34m]\u001b[0m\u001b[0;34m:\u001b[0m\u001b[0;34m\u001b[0m\u001b[0;34m\u001b[0m\u001b[0m\n",
      "\u001b[0;32m/home/andbro/anaconda3/lib/python3.7/site-packages/mpl_toolkits/basemap/__init__.py\u001b[0m in \u001b[0;36m<module>\u001b[0;34m()\u001b[0m\n\u001b[1;32m     24\u001b[0m \u001b[0;34m\u001b[0m\u001b[0m\n\u001b[1;32m     25\u001b[0m \u001b[0;32mfrom\u001b[0m \u001b[0mmatplotlib\u001b[0m \u001b[0;32mimport\u001b[0m \u001b[0m__version__\u001b[0m \u001b[0;32mas\u001b[0m \u001b[0m_matplotlib_version\u001b[0m\u001b[0;34m\u001b[0m\u001b[0;34m\u001b[0m\u001b[0m\n\u001b[0;32m---> 26\u001b[0;31m \u001b[0;32mfrom\u001b[0m \u001b[0mmatplotlib\u001b[0m\u001b[0;34m.\u001b[0m\u001b[0mcbook\u001b[0m \u001b[0;32mimport\u001b[0m \u001b[0mdedent\u001b[0m\u001b[0;34m\u001b[0m\u001b[0;34m\u001b[0m\u001b[0m\n\u001b[0m\u001b[1;32m     27\u001b[0m \u001b[0;31m# check to make sure matplotlib is not too old.\u001b[0m\u001b[0;34m\u001b[0m\u001b[0;34m\u001b[0m\u001b[0;34m\u001b[0m\u001b[0m\n\u001b[1;32m     28\u001b[0m \u001b[0m_matplotlib_version\u001b[0m \u001b[0;34m=\u001b[0m \u001b[0mLooseVersion\u001b[0m\u001b[0;34m(\u001b[0m\u001b[0m_matplotlib_version\u001b[0m\u001b[0;34m)\u001b[0m\u001b[0;34m\u001b[0m\u001b[0;34m\u001b[0m\u001b[0m\n",
      "\u001b[0;31mImportError\u001b[0m: cannot import name 'dedent' from 'matplotlib.cbook' (/home/andbro/anaconda3/lib/python3.7/site-packages/matplotlib/cbook/__init__.py)"
     ]
    }
   ],
   "source": [
    "client = Client(\"USGS\")\n",
    "\n",
    "## events - all in area and time period\n",
    "events_all = client.get_events(minlatitude=config['minlatitude'], maxlatitude=config['maxlatitude'],\n",
    "                               minlongitude=config['minlongitude'], maxlongitude=config['maxlongitude'],\n",
    "                               starttime=config['tbeg'],\n",
    "                               endtime=config['tend'],\n",
    "                               )\n",
    "\n",
    "# ## events smaller than 2.0\n",
    "# events_1 = client.get_events(minlatitude=config['minlatitude'], maxlatitude=config['maxlatitude'],\n",
    "#                              minlongitude=config['minlongitude'], maxlongitude=config['maxlongitude'],\n",
    "#                              starttime=config['tbeg'],\n",
    "#                              endtime=config['tend'],\n",
    "#                              maxmagnitude=2.0,\n",
    "#                             )\n",
    "\n",
    "## events between 2.0 and 3.0 within distance 0.5 degrees\n",
    "events_2 = client.get_events(\n",
    "                             latitude=config['BSPF_lat'], longitude=config['BSPF_lon'],\n",
    "                             starttime=config['tbeg'],\n",
    "                             endtime=config['tend'],\n",
    "                             minmagnitude=2.0,\n",
    "                             maxmagnitude=3.0,\n",
    "                             maxradius=0.5,\n",
    "                            )\n",
    "\n",
    "## events between 2.0 and 3.0 within distance 2.0 degrees\n",
    "events_3 = client.get_events(\n",
    "                             latitude=config['BSPF_lat'], longitude=config['BSPF_lon'],\n",
    "                             starttime=config['tbeg'],\n",
    "                             endtime=config['tend'],\n",
    "                             minmagnitude=3.0,\n",
    "                             maxmagnitude=5.0,\n",
    "                             maxradius=5.0,\n",
    "                            )\n",
    "\n",
    "## events larger than 5.0 \n",
    "events_4 = events_all.filter(\"magnitude > 5.0\")\n",
    "\n",
    "\n",
    "## join specified event catalogs together\n",
    "events = events_2 + events_3 + events_4\n",
    "\n",
    "\n",
    "events.plot(projection=\"local\");\n",
    "\n",
    "# events.write(config['outpath']+\"events.xml\", format=\"QUAKEML\")"
   ]
  },
  {
   "cell_type": "code",
   "execution_count": null,
   "id": "c112e098",
   "metadata": {
    "ExecuteTime": {
     "end_time": "2023-03-30T08:02:44.628401Z",
     "start_time": "2023-03-30T08:02:12.465Z"
    }
   },
   "outputs": [],
   "source": [
    "## convert catalog object to data frame\n",
    "events_df = __cat_to_df(events)\n",
    "events_all_df = __cat_to_df(events_all)\n",
    "\n",
    "## add epicentral distances\n",
    "__add_distances_and_backazimuth(config, events_df)\n",
    "__add_distances_and_backazimuth(config, events_all_df)\n",
    "\n",
    "## write data frame as pickle file\n",
    "events_df.to_pickle(config['outpath']+config['eventfile'])"
   ]
  },
  {
   "cell_type": "markdown",
   "id": "a1ed58fb",
   "metadata": {},
   "source": [
    "## Plot Event Timeline"
   ]
  },
  {
   "cell_type": "code",
   "execution_count": null,
   "id": "8dad3bd8",
   "metadata": {
    "ExecuteTime": {
     "end_time": "2023-03-30T08:02:44.632249Z",
     "start_time": "2023-03-30T08:02:13.523Z"
    }
   },
   "outputs": [],
   "source": [
    "events_df"
   ]
  },
  {
   "cell_type": "code",
   "execution_count": null,
   "id": "da2b3132",
   "metadata": {
    "ExecuteTime": {
     "end_time": "2023-03-30T08:02:44.634271Z",
     "start_time": "2023-03-30T08:02:14.250Z"
    }
   },
   "outputs": [],
   "source": [
    "fig, ax = plt.subplots(1, 1, figsize=(15,5))\n",
    "\n",
    "cax = ax.scatter(events_df.index, events_df.distances_km, s=4**events_df.magnitude, c=events_df.magnitude, alpha=0.5, cmap='viridis')\n",
    "\n",
    "ax.scatter(events_all_df.index, events_all_df.distances_km, s=4**events_all_df.magnitude, c='grey', alpha=0.5, zorder=-1)\n",
    "\n",
    "plt.colorbar(cax, ax=ax, )\n",
    "\n",
    "ax.set_ylim(bottom=0)\n",
    "ax.set_ylabel(\"Distance (km)\", fontsize=14)"
   ]
  },
  {
   "cell_type": "markdown",
   "id": "ec6448a2",
   "metadata": {},
   "source": [
    "## Plot on Map"
   ]
  },
  {
   "cell_type": "code",
   "execution_count": null,
   "id": "372389b4",
   "metadata": {
    "ExecuteTime": {
     "end_time": "2023-03-30T08:02:44.636601Z",
     "start_time": "2023-03-30T08:02:15.354Z"
    },
    "code_folding": [
     0
    ]
   },
   "outputs": [],
   "source": [
    "def __makeplot_eventmap(config, data):\n",
    "    \n",
    "\n",
    "    import pygmt\n",
    "    import pandas as pd\n",
    "\n",
    "    \n",
    "    # Set the region\n",
    "    region = [config['minlongitude'], config['maxlongitude'], config['minlatitude'], config['maxlatitude']]\n",
    "\n",
    "\n",
    "\n",
    "    fig = pygmt.Figure()\n",
    "    \n",
    "#     fig.basemap(region=region, projection=\"M15c\", frame=True)\n",
    "\n",
    "\n",
    "    # make color pallets\n",
    "    pygmt.makecpt(\n",
    "        cmap='etopo1',\n",
    "        series='-8000/5010/1000',\n",
    "        continuous=True\n",
    "    )\n",
    "    \n",
    "    \n",
    "    # define etopo data file\n",
    "    topo_data = \"@earth_relief_03s\"\n",
    "#     topo_data = pygmt.datasets.load_earth_relief(resolution=\"03s\", region=region)\n",
    "    \n",
    "    ## adjust land and sea/lakes\n",
    "#     land = topo_data * pygmt.grdlandmask(region=region, \n",
    "#                                          spacing=\"03s\", \n",
    "#                                          maskvalues=[0, 1], \n",
    "#                                          resolution=\"f\"\n",
    "#                                         )\n",
    "#     wet = topo_data * pygmt.grdlandmask(region=region, \n",
    "#                                         spacing=\"03s\", \n",
    "#                                         maskvalues=[1, \"NaN\"], \n",
    "#                                         resolution=\"f\"\n",
    "#                                        )\n",
    "\n",
    "    # plot high res topography\n",
    "    fig.grdimage(\n",
    "        grid=topo_data,\n",
    "        region=region,\n",
    "        projection='M4i',\n",
    "        shading=True,\n",
    "        frame=True\n",
    "    )\n",
    "        \n",
    "    \n",
    "    ## add coastlines\n",
    "    fig.coast(shorelines=True, frame=False)\n",
    "#     fig.coast(rivers=\"1/0.5p,blue\") # Rivers\n",
    "\n",
    "    \n",
    "    # colorbar colormap\n",
    "    pygmt.makecpt(cmap=\"rainbow\", series=[data.depth.min(), data.depth.max()])\n",
    "\n",
    "    \n",
    "    ## plot data coordinates\n",
    "    fig.plot(\n",
    "        x=data.longitude,\n",
    "        y=data.latitude,\n",
    "        sizes=0.07*data.magnitude,\n",
    "        color=data.depth,\n",
    "        cmap=True,\n",
    "        style=\"cc\",\n",
    "        pen=\"black\",\n",
    "    )\n",
    "\n",
    "    ## plot PFO\n",
    "    fig.plot(\n",
    "        x=config['BSPF_lon'],\n",
    "        y=config['BSPF_lat'],\n",
    "        sizes=np.array([0.3]),\n",
    "        color=\"white\",\n",
    "        style=\"t\",\n",
    "        pen=\"black\",\n",
    "    )\n",
    "    \n",
    "    fig.text(\n",
    "        text=\"PFO\",\n",
    "        x=config['BSPF_lon'],\n",
    "        y=config['BSPF_lat'],\n",
    "        offset=[0.3,0.3],\n",
    "        font=\"9p,Helvetica-Bold,black\"\n",
    "    )\n",
    "    \n",
    "    ## add depth colorbar\n",
    "    fig.colorbar(frame='af+l\"Depth (km)\"')\n",
    "    \n",
    "    \n",
    "    fig.savefig(config['outpath']+'event_map.png')\n",
    "\n",
    "    fig.show();\n",
    "    return fig\n",
    "\n",
    "# fig = __makeplot_eventmap(config, events_df)"
   ]
  },
  {
   "cell_type": "code",
   "execution_count": null,
   "id": "c41cbb15",
   "metadata": {
    "ExecuteTime": {
     "end_time": "2023-03-30T08:02:44.638697Z",
     "start_time": "2023-03-30T08:02:15.845Z"
    },
    "code_folding": [
     0
    ]
   },
   "outputs": [],
   "source": [
    "def __makeplot_eventmap2(config, data1, data2):\n",
    "    \n",
    "\n",
    "    import pygmt\n",
    "    import pandas as pd\n",
    "\n",
    "    \n",
    "    # Set the region\n",
    "    region = [config['minlongitude'], config['maxlongitude'], config['minlatitude'], config['maxlatitude']]\n",
    "\n",
    "\n",
    "\n",
    "    fig = pygmt.Figure()\n",
    "    \n",
    "#     fig.basemap(region=region, projection=\"M15c\", frame=True)\n",
    "\n",
    "\n",
    "    # make color pallets\n",
    "    pygmt.makecpt(\n",
    "        cmap='etopo1',\n",
    "        series='-8000/5010/1000',\n",
    "        continuous=True\n",
    "    )\n",
    "    \n",
    "    \n",
    "    # define etopo data file\n",
    "    topo_data = \"@earth_relief_03s\"\n",
    "#     topo_data = pygmt.datasets.load_earth_relief(resolution=\"03s\", region=region)\n",
    "    \n",
    "    ## adjust land and sea/lakes\n",
    "#     land = topo_data * pygmt.grdlandmask(region=region, \n",
    "#                                          spacing=\"03s\", \n",
    "#                                          maskvalues=[0, 1], \n",
    "#                                          resolution=\"f\"\n",
    "#                                         )\n",
    "#     wet = topo_data * pygmt.grdlandmask(region=region, \n",
    "#                                         spacing=\"03s\", \n",
    "#                                         maskvalues=[1, \"NaN\"], \n",
    "#                                         resolution=\"f\"\n",
    "#                                        )\n",
    "\n",
    "    # plot high res topography\n",
    "    fig.grdimage(\n",
    "        grid=topo_data,\n",
    "        region=region,\n",
    "        projection='M4i',\n",
    "        shading=True,\n",
    "        frame=True\n",
    "    )\n",
    "        \n",
    "    \n",
    "    ## add coastlines\n",
    "    fig.coast(shorelines=True, frame=False)\n",
    "#     fig.coast(rivers=\"1/0.5p,blue\") # Rivers\n",
    "\n",
    "    \n",
    "    # colorbar colormap\n",
    "#     pygmt.makecpt(cmap=\"rainbow\", series=[data1.depth.min(), data1.depth.max()])\n",
    "    pygmt.makecpt(cmap=\"rainbow\", series=[1.0, 6.0])\n",
    "\n",
    "    \n",
    "    ## plot data coordinates\n",
    "    fig.plot(\n",
    "        x=data2.longitude,\n",
    "        y=data2.latitude,\n",
    "        sizes=0.07*data2.depth,\n",
    "        color='grey',\n",
    "        style=\"cc\",\n",
    "        pen=\"black\",\n",
    "    )    \n",
    "    fig.plot(\n",
    "        x=data1.longitude,\n",
    "        y=data1.latitude,\n",
    "        sizes=0.07*data1.depth,\n",
    "        color=data1.depth,\n",
    "        cmap=True,\n",
    "        style=\"cc\",\n",
    "        pen=\"black\",\n",
    "    )\n",
    "\n",
    "\n",
    "    ## plot PFO\n",
    "    fig.plot(\n",
    "        x=config['BSPF_lon'],\n",
    "        y=config['BSPF_lat'],\n",
    "        sizes=np.array([0.3]),\n",
    "        color=\"white\",\n",
    "        style=\"t\",\n",
    "        pen=\"black\",\n",
    "    )\n",
    "    \n",
    "    fig.text(\n",
    "        text=\"PFO\",\n",
    "        x=config['BSPF_lon'],\n",
    "        y=config['BSPF_lat'],\n",
    "        offset=[0.3,0.3],\n",
    "        font=\"9p,Helvetica-Bold,black\"\n",
    "    )\n",
    "    \n",
    "    ## add depth colorbar\n",
    "    fig.colorbar(frame='af+l\"Depth (km)\"')\n",
    "    \n",
    "    \n",
    "    fig.savefig(config['outpath']+'event_map.png')\n",
    "\n",
    "    fig.show();\n",
    "    return fig\n",
    "\n",
    "fig = __makeplot_eventmap2(config, events_df, events_all_df)"
   ]
  },
  {
   "cell_type": "code",
   "execution_count": null,
   "id": "6097a808",
   "metadata": {
    "ExecuteTime": {
     "end_time": "2023-03-30T08:02:44.640772Z",
     "start_time": "2023-03-30T08:02:16.634Z"
    }
   },
   "outputs": [],
   "source": [
    "fig"
   ]
  },
  {
   "cell_type": "markdown",
   "id": "f0968468",
   "metadata": {},
   "source": [
    "## Others "
   ]
  },
  {
   "cell_type": "code",
   "execution_count": null,
   "id": "bfa26113",
   "metadata": {
    "ExecuteTime": {
     "end_time": "2023-03-29T20:27:16.009094Z",
     "start_time": "2023-03-29T20:27:16.009084Z"
    },
    "code_folding": [
     0
    ]
   },
   "outputs": [],
   "source": [
    "def __makeplot_eventmap_3d(config, data):\n",
    "    \n",
    "\n",
    "    import pygmt\n",
    "    import pandas as pd\n",
    "\n",
    "    \n",
    "    # Set the region\n",
    "    region = [config['minlongitude'], config['maxlongitude'], config['minlatitude'], config['maxlatitude']]\n",
    "\n",
    "\n",
    "\n",
    "    fig = pygmt.Figure()\n",
    "#     fig.basemap(region=region, projection=\"M15c\", frame=True)\n",
    "\n",
    "    # make color pallets\n",
    "    pygmt.makecpt(\n",
    "        cmap='etopo1',\n",
    "        series='-8000/5000/1000',\n",
    "        continuous=True\n",
    "    )\n",
    "\n",
    "    # define etopo data file\n",
    "    topo_data = \"@earth_relief_03s\"\n",
    "\n",
    "    \n",
    "    fig.grdview(\n",
    "        grid=topo_data,\n",
    "        # Set the azimuth to -130 (230) degrees and the elevation to 30 degrees\n",
    "        perspective=[-130, 30],\n",
    "        frame=[\"xaf\", \"yaf\", \"WSnE\"],\n",
    "        projection=\"M15c\",\n",
    "        zsize=\"1.5c\",\n",
    "        surftype=\"s\",\n",
    "        cmap=\"geo\",\n",
    "        plane=\"1000+ggrey\",\n",
    "        # Set the contour pen thickness to \"0.1p\"\n",
    "        contourpen=\"0.1p\",\n",
    "    )\n",
    "    fig.colorbar(perspective=True, frame=[\"a500\", \"x+lElevation\", \"y+lm\"])\n",
    "    \n",
    "    \n",
    "#     # plot high res topography\n",
    "#     fig.grdimage(\n",
    "#         grid=topo_data,\n",
    "#         region=region,\n",
    "#         projection='M4i',\n",
    "#         shading=True,\n",
    "#         frame=True\n",
    "#     )\n",
    "    \n",
    "#     fig.colorbar(perspective=True, frame=[\"a500\", \"x+lElevation\", \"y+lm\"])\n",
    "    \n",
    "#     fig.coast(shorelines=True, frame=False)\n",
    "\n",
    "#     # colorbar colormap\n",
    "#     pygmt.makecpt(cmap=\"magma\", series=[data.depth.min(), data.depth.max()])\n",
    "\n",
    "    fig.plot(\n",
    "        x=data.longitude,\n",
    "        y=data.latitude,\n",
    "        sizes=0.05*data.magnitude,\n",
    "        color=data.depth,\n",
    "        cmap=True,\n",
    "        style=\"cc\",\n",
    "        pen=\"black\",\n",
    "    )\n",
    "\n",
    "    fig.colorbar(frame='af+l\"Depth (km)\"')\n",
    "    \n",
    "    \n",
    "    fig.savefig(config['outpath']+'event_map.png')\n",
    "\n",
    "    \n",
    "    fig.show()\n",
    "\n",
    "# fig = __makeplot_eventmap_3d(config, events_df)"
   ]
  },
  {
   "cell_type": "code",
   "execution_count": null,
   "id": "163173cf",
   "metadata": {
    "ExecuteTime": {
     "end_time": "2023-03-29T20:27:16.010333Z",
     "start_time": "2023-03-29T20:27:16.010322Z"
    }
   },
   "outputs": [],
   "source": [
    "fig = plt.subplot()"
   ]
  },
  {
   "cell_type": "code",
   "execution_count": null,
   "id": "14e61c80",
   "metadata": {
    "ExecuteTime": {
     "end_time": "2023-03-29T20:27:16.011063Z",
     "start_time": "2023-03-29T20:27:16.011053Z"
    }
   },
   "outputs": [],
   "source": [
    "__savefig(fig, outpath=config['outpath'], outname=\"event_map\", mode=\"png\", dpi=200)"
   ]
  },
  {
   "cell_type": "code",
   "execution_count": null,
   "id": "45dfcee1",
   "metadata": {},
   "outputs": [],
   "source": []
  }
 ],
 "metadata": {
  "kernelspec": {
   "display_name": "Python 3",
   "language": "python",
   "name": "python3"
  },
  "language_info": {
   "codemirror_mode": {
    "name": "ipython",
    "version": 3
   },
   "file_extension": ".py",
   "mimetype": "text/x-python",
   "name": "python",
   "nbconvert_exporter": "python",
   "pygments_lexer": "ipython3",
   "version": "3.7.6"
  },
  "latex_envs": {
   "LaTeX_envs_menu_present": true,
   "autoclose": true,
   "autocomplete": true,
   "bibliofile": "biblio.bib",
   "cite_by": "apalike",
   "current_citInitial": 1,
   "eqLabelWithNumbers": true,
   "eqNumInitial": 1,
   "hotkeys": {
    "equation": "Ctrl-E",
    "itemize": "Ctrl-I"
   },
   "labels_anchors": false,
   "latex_user_defs": false,
   "report_style_numbering": false,
   "user_envs_cfg": false
  },
  "toc": {
   "base_numbering": 1,
   "nav_menu": {},
   "number_sections": true,
   "sideBar": true,
   "skip_h1_title": false,
   "title_cell": "Table of Contents",
   "title_sidebar": "Contents",
   "toc_cell": false,
   "toc_position": {},
   "toc_section_display": true,
   "toc_window_display": false
  },
  "varInspector": {
   "cols": {
    "lenName": 16,
    "lenType": 16,
    "lenVar": 40
   },
   "kernels_config": {
    "python": {
     "delete_cmd_postfix": "",
     "delete_cmd_prefix": "del ",
     "library": "var_list.py",
     "varRefreshCmd": "print(var_dic_list())"
    },
    "r": {
     "delete_cmd_postfix": ") ",
     "delete_cmd_prefix": "rm(",
     "library": "var_list.r",
     "varRefreshCmd": "cat(var_dic_list()) "
    }
   },
   "types_to_exclude": [
    "module",
    "function",
    "builtin_function_or_method",
    "instance",
    "_Feature"
   ],
   "window_display": false
  }
 },
 "nbformat": 4,
 "nbformat_minor": 5
}
