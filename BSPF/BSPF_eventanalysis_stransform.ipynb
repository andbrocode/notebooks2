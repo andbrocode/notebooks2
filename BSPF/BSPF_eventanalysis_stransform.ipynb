{
 "cells": [
  {
   "cell_type": "markdown",
   "id": "26ad060e",
   "metadata": {
    "ExecuteTime": {
     "end_time": "2022-09-13T00:35:24.926376Z",
     "start_time": "2022-09-13T00:35:24.923877Z"
    }
   },
   "source": [
    "# Analyse BlueSeis BSPF Event Analysis - S-Transform"
   ]
  },
  {
   "cell_type": "code",
   "execution_count": null,
   "id": "7ae027cf",
   "metadata": {
    "ExecuteTime": {
     "end_time": "2023-08-01T13:23:31.631221Z",
     "start_time": "2023-08-01T13:23:30.600327Z"
    }
   },
   "outputs": [],
   "source": [
    "import os \n",
    "import obspy as obs\n",
    "import matplotlib.pyplot as plt\n",
    "import numpy as np\n",
    "import pandas as pd\n",
    "\n",
    "from andbro__store_as_pickle import __store_as_pickle\n",
    "from andbro__savefig import __savefig"
   ]
  },
  {
   "cell_type": "code",
   "execution_count": null,
   "id": "7ec213f5",
   "metadata": {
    "ExecuteTime": {
     "end_time": "2023-08-01T13:23:31.652142Z",
     "start_time": "2023-08-01T13:23:31.643816Z"
    }
   },
   "outputs": [],
   "source": [
    "from functions.compute_backazimuth import __compute_backazimuth"
   ]
  },
  {
   "cell_type": "code",
   "execution_count": null,
   "id": "515aa60d",
   "metadata": {
    "ExecuteTime": {
     "end_time": "2023-08-01T13:23:31.669626Z",
     "start_time": "2023-08-01T13:23:31.661464Z"
    }
   },
   "outputs": [],
   "source": [
    "if os.uname().nodename == 'lighthouse':\n",
    "    root_path = '/home/andbro/'\n",
    "    data_path = '/home/andbro/kilauea-data/'\n",
    "    archive_path = '/home/andbro/freenas/'\n",
    "elif os.uname().nodename == 'kilauea':\n",
    "    root_path = '/home/brotzer/'\n",
    "    data_path = '/import/kilauea-data/'\n",
    "    archive_path = '/import/freenas-ffb-01-data/'"
   ]
  },
  {
   "cell_type": "markdown",
   "id": "a9cfd05f",
   "metadata": {},
   "source": [
    "## Configurations"
   ]
  },
  {
   "cell_type": "code",
   "execution_count": null,
   "id": "d4b1e0b9",
   "metadata": {
    "ExecuteTime": {
     "end_time": "2023-08-01T13:36:27.636107Z",
     "start_time": "2023-08-01T13:36:27.631030Z"
    },
    "code_folding": []
   },
   "outputs": [],
   "source": [
    "config = {}\n",
    "\n",
    "## BSPF coordinates\n",
    "config['BSPF_lon'] = -116.455439\n",
    "config['BSPF_lat'] = 33.610643\n",
    "\n",
    "## \n",
    "config['path_to_mseed'] = data_path+\"BSPF/data/waveforms/\"\n",
    "\n",
    "## event selction\n",
    "config['path_to_data'] = data_path+\"BSPF/data/\"\n",
    "\n",
    "## output path for figures\n",
    "config['output_figs'] = data_path+\"BSPF/figures/cwt/\"\n"
   ]
  },
  {
   "cell_type": "markdown",
   "id": "47ff88ba",
   "metadata": {},
   "source": [
    "## Load Data"
   ]
  },
  {
   "cell_type": "code",
   "execution_count": null,
   "id": "c99bb0cf",
   "metadata": {
    "ExecuteTime": {
     "end_time": "2023-08-01T13:23:37.379951Z",
     "start_time": "2023-08-01T13:23:37.232793Z"
    }
   },
   "outputs": [],
   "source": [
    "!ls /home/andbro/kilauea-data/BSPF/data/"
   ]
  },
  {
   "cell_type": "code",
   "execution_count": null,
   "id": "7a82bfaf",
   "metadata": {
    "ExecuteTime": {
     "end_time": "2023-08-01T13:24:05.877827Z",
     "start_time": "2023-08-01T13:23:42.074951Z"
    }
   },
   "outputs": [],
   "source": [
    "events = obs.read_events(config['path_to_data']+\"catalogs/BSPF_catalog_20221001_20230615_all.xml\")\n",
    "\n",
    "event_times = pd.read_pickle(config['path_to_data']+\"event_selection_good.pkl\")"
   ]
  },
  {
   "cell_type": "code",
   "execution_count": null,
   "id": "1bbd744f",
   "metadata": {
    "ExecuteTime": {
     "end_time": "2023-08-01T15:14:49.511136Z",
     "start_time": "2023-08-01T15:14:49.209239Z"
    }
   },
   "outputs": [],
   "source": [
    "num = 16\n",
    "\n",
    "event_time = event_times.origin_time.loc[num]\n",
    "event = events.filter(f\"time >= {event_time}\",f\"time <= {event_time}\")\n",
    "\n",
    "## prepare string\n",
    "event_time_str = event_time.split(\".\")[0].replace(\" \",\"_\").replace(\"-\",\"\").replace(\":\",\"\")"
   ]
  },
  {
   "cell_type": "code",
   "execution_count": null,
   "id": "aab0b5d2",
   "metadata": {
    "ExecuteTime": {
     "end_time": "2023-08-01T14:11:57.025095Z",
     "start_time": "2023-08-01T14:11:57.020351Z"
    }
   },
   "outputs": [],
   "source": [
    "config['fmin'], config['fmax'] = 1.0, 20.0"
   ]
  },
  {
   "cell_type": "code",
   "execution_count": null,
   "id": "658cf7c7",
   "metadata": {
    "ExecuteTime": {
     "end_time": "2023-08-01T15:14:26.650015Z",
     "start_time": "2023-08-01T15:14:26.500682Z"
    }
   },
   "outputs": [],
   "source": [
    "st = obs.read(config['path_to_mseed']+f\"*{event_time_str}*\")\n",
    "\n",
    "st.detrend(\"simple\")\n",
    "\n",
    "st.filter(\"bandpass\", freqmin=config['fmin'], freqmax=config['fmax'], corners=4, zerophase=True)\n",
    "\n",
    "# st.plot(equal_scale=False);"
   ]
  },
  {
   "cell_type": "code",
   "execution_count": null,
   "id": "e64f2043",
   "metadata": {
    "ExecuteTime": {
     "end_time": "2023-08-01T15:14:26.665260Z",
     "start_time": "2023-08-01T15:14:26.652883Z"
    }
   },
   "outputs": [],
   "source": [
    "cut_offs = [\n",
    "    (65,80), (65,80), (60,100), (60,100), (60,70),\n",
    "    (60,90), (60,90), (60,90), (62,105), (65,90),\n",
    "    (62,110), (65,85), (60,105), (63,105), (66,90),\n",
    "    (60,90), (65,90), (70,95),\n",
    "]\n",
    "\n",
    "st.trim(st[0].stats.starttime+cut_offs[num][0], st[0].stats.endtime-cut_offs[num][1]);"
   ]
  },
  {
   "cell_type": "markdown",
   "id": "046b6b8e",
   "metadata": {},
   "source": [
    "## S-transform\n"
   ]
  },
  {
   "cell_type": "code",
   "execution_count": null,
   "id": "46548aad",
   "metadata": {
    "ExecuteTime": {
     "end_time": "2023-08-01T15:14:26.691054Z",
     "start_time": "2023-08-01T15:14:26.667973Z"
    },
    "code_folding": [
     0
    ]
   },
   "outputs": [],
   "source": [
    "def __makeplotStream_cwt(st, config, fscale=None):\n",
    "\n",
    "    from scipy import fftpack\n",
    "    from andbro__fft import __fft\n",
    "    from numpy import array, log10, logspace, linspace\n",
    "    from obspy.signal.tf_misfit import cwt\n",
    "    from obspy.imaging.cm import obspy_sequential\n",
    "    \n",
    "    import matplotlib.pyplot as plt\n",
    "\n",
    "    keys_expected = ['fmin', 'fmax']\n",
    "    for key in keys_expected:\n",
    "        if key not in config.keys():\n",
    "            print(\" -> keys missing in config\")\n",
    "            print(keys_expected)\n",
    "            return\n",
    "    \n",
    "    \n",
    "    NN = len(st)\n",
    "    rot_scaling, rot_unit = 1e6, r\"$\\mu$rad/s\"\n",
    "    trans_scaling, trans_unit = 1e3, r\"mm/s\"\n",
    "        \n",
    "    fig, axes = plt.subplots(NN,2,figsize=(13, 18), sharex='col')\n",
    "\n",
    "    font = 13\n",
    "    \n",
    "    plt.subplots_adjust(hspace=0.1, wspace=0.2)\n",
    "\n",
    "    ## _______________________________________________\n",
    "\n",
    "    st.sort(keys=['channel'], reverse=True)\n",
    "    \n",
    "\n",
    "    for i, tr in enumerate(st):\n",
    "\n",
    "        if tr.stats.channel[-2] == \"J\":\n",
    "            scaling = rot_scaling\n",
    "        elif tr.stats.channel[-2] == \"H\":\n",
    "            scaling = trans_scaling\n",
    "            \n",
    "#         t = tr.times()\n",
    "        t = np.linspace(0, tr.stats.delta * tr.stats.npts, tr.stats.npts)\n",
    "        \n",
    "#         tr = tr.normalize()\n",
    "        \n",
    "        scalogram = cwt(tr.data, tr.stats.delta, 8, config['fmin'], config['fmax'])\n",
    "\n",
    "        x, y = np.meshgrid(t, logspace(log10(config['fmin']), log10(config['fmax']), scalogram.shape[0]))\n",
    "#         x, y = np.meshgrid(t, linspace(config['fmin'], config['fmax'], scalogram.shape[0]))\n",
    "         \n",
    "    \n",
    "        ## _________________________________________________________________\n",
    "        if tr.stats.channel[-2] == \"J\" and tr.stats.station == \"BSPF\":\n",
    "            axes[i,0].plot(\n",
    "                        tr.times(),\n",
    "                        tr.data*rot_scaling,\n",
    "                        color='black',\n",
    "                        label='{}.{}.{}'.format(tr.stats.station, tr.stats.location, tr.stats.channel),\n",
    "                        lw=1.0,\n",
    "                        )\n",
    "            axes[i,1].pcolormesh(x, y, np.abs(scalogram), cmap=obspy_sequential)    \n",
    "        \n",
    "        if tr.stats.channel[-2] == \"J\" and tr.stats.station == \"RPFO\":\n",
    "            axes[i,0].plot(\n",
    "                        tr.times(),\n",
    "                        tr.data*rot_scaling,\n",
    "                        color='darkred',\n",
    "                        label='{}.{}.{}'.format(tr.stats.station, tr.stats.location, tr.stats.channel),\n",
    "                        lw=1.0,\n",
    "                        )\n",
    "            axes[i,1].pcolormesh(x, y, np.abs(scalogram), cmap=obspy_sequential)    \n",
    "\n",
    "\n",
    "        elif tr.stats.channel[-2] == \"H\":\n",
    "            axes[i,0].plot(\n",
    "                        tr.times(),\n",
    "                        tr.data*trans_scaling,\n",
    "                        color='darkblue',\n",
    "                        label='{}.{}.{}'.format(tr.stats.station, tr.stats.location, tr.stats.channel),\n",
    "                        lw=1.0,\n",
    "                        )\n",
    "            axes[i,1].pcolormesh(x, y, np.abs(scalogram), cmap=obspy_sequential)    \n",
    "        \n",
    "#         axes[i,1].set_yscale(\"log\")\n",
    "        \n",
    "        if tr.stats.channel[1] == \"J\":\n",
    "            sym, unit = r\"$\\omega$ \", rot_unit\n",
    "        elif tr.stats.channel[1] == \"H\":\n",
    "            sym, unit = \"$\\ddot{u}$\", trans_unit\n",
    "        else:\n",
    "            unit = \"Amplitude\", \"a.u.\"\n",
    "            \n",
    "        axes[i,0].set_ylabel(f'{sym} ({unit})',fontsize=font)    \n",
    "        axes[i,1].set_ylabel(f'$f$ (Hz)',fontsize=font)        \n",
    "        axes[i,0].legend(loc='upper right', framealpha=1.0, fontsize=font-3)\n",
    "        \n",
    "#         axes[i,0].ticklabel_format(axis='y', style='sci', scilimits=(0,0))\n",
    "#         axes[i,1].ticklabel_format(axis='y', style='sci', scilimits=(0,0))\n",
    "\n",
    "        axes[i,0].tick_params(axis=\"y\", labelsize=15)\n",
    "        axes[i,0].tick_params(axis=\"x\", labelsize=15)\n",
    "        axes[i,1].tick_params(axis=\"y\", labelsize=15)\n",
    "        axes[i,1].tick_params(axis=\"x\", labelsize=15)\n",
    "        \n",
    "    axes[NN-1,0].set_xlabel(f\"Time from {tr.stats.starttime.date} {str(tr.stats.starttime.time)[:8]} (s)\",fontsize=font)     \n",
    "    axes[NN-1,1].set_xlabel(f\"Time from {tr.stats.starttime.date} {str(tr.stats.starttime.time)[:8]} (s)\",fontsize=font)     \n",
    "    \n",
    "\n",
    "    return fig"
   ]
  },
  {
   "cell_type": "code",
   "execution_count": null,
   "id": "f7374c78",
   "metadata": {
    "ExecuteTime": {
     "end_time": "2023-08-01T15:14:31.909885Z",
     "start_time": "2023-08-01T15:14:26.694654Z"
    }
   },
   "outputs": [],
   "source": [
    "fig = __makeplotStream_cwt(st, config);"
   ]
  },
  {
   "cell_type": "code",
   "execution_count": null,
   "id": "0ce6d0db",
   "metadata": {
    "ExecuteTime": {
     "end_time": "2023-08-01T15:14:43.038498Z",
     "start_time": "2023-08-01T15:14:40.432874Z"
    }
   },
   "outputs": [],
   "source": [
    "__savefig(fig, config['output_figs'], f\"{event_time_str}_cwt\", mode=\"png\", dpi=200)"
   ]
  },
  {
   "cell_type": "markdown",
   "id": "2d796a2f",
   "metadata": {},
   "source": [
    "## AS LOOP"
   ]
  },
  {
   "cell_type": "code",
   "execution_count": null,
   "id": "5654ff61",
   "metadata": {
    "ExecuteTime": {
     "end_time": "2023-08-01T13:31:10.511633Z",
     "start_time": "2023-08-01T13:31:10.507162Z"
    }
   },
   "outputs": [],
   "source": [
    "# for i in range(0,17):\n",
    "    \n",
    "#     event_time = event_times.origin_time.loc[i]\n",
    "    \n",
    "#     try:\n",
    "#         event = events.filter(f\"time >= {event_time}\",f\"time <= {event_time}\")\n",
    "#     except:\n",
    "#         print(f\" -> {i} no event in catalog\")\n",
    "       \n"
   ]
  },
  {
   "cell_type": "code",
   "execution_count": null,
   "id": "ae37566d",
   "metadata": {
    "ExecuteTime": {
     "end_time": "2023-08-01T13:18:29.588473Z",
     "start_time": "2023-08-01T13:18:29.580736Z"
    }
   },
   "outputs": [],
   "source": []
  },
  {
   "cell_type": "code",
   "execution_count": null,
   "id": "465c4529",
   "metadata": {},
   "outputs": [],
   "source": []
  }
 ],
 "metadata": {
  "kernelspec": {
   "display_name": "Python 3 (ipykernel)",
   "language": "python",
   "name": "python3"
  },
  "language_info": {
   "codemirror_mode": {
    "name": "ipython",
    "version": 3
   },
   "file_extension": ".py",
   "mimetype": "text/x-python",
   "name": "python",
   "nbconvert_exporter": "python",
   "pygments_lexer": "ipython3",
   "version": "3.7.8"
  },
  "latex_envs": {
   "LaTeX_envs_menu_present": true,
   "autoclose": false,
   "autocomplete": true,
   "bibliofile": "biblio.bib",
   "cite_by": "apalike",
   "current_citInitial": 1,
   "eqLabelWithNumbers": true,
   "eqNumInitial": 1,
   "hotkeys": {
    "equation": "Ctrl-E",
    "itemize": "Ctrl-I"
   },
   "labels_anchors": false,
   "latex_user_defs": false,
   "report_style_numbering": false,
   "user_envs_cfg": false
  },
  "toc": {
   "base_numbering": 1,
   "nav_menu": {},
   "number_sections": true,
   "sideBar": true,
   "skip_h1_title": false,
   "title_cell": "Table of Contents",
   "title_sidebar": "Contents",
   "toc_cell": false,
   "toc_position": {},
   "toc_section_display": true,
   "toc_window_display": false
  },
  "varInspector": {
   "cols": {
    "lenName": 16,
    "lenType": 16,
    "lenVar": 40
   },
   "kernels_config": {
    "python": {
     "delete_cmd_postfix": "",
     "delete_cmd_prefix": "del ",
     "library": "var_list.py",
     "varRefreshCmd": "print(var_dic_list())"
    },
    "r": {
     "delete_cmd_postfix": ") ",
     "delete_cmd_prefix": "rm(",
     "library": "var_list.r",
     "varRefreshCmd": "cat(var_dic_list()) "
    }
   },
   "types_to_exclude": [
    "module",
    "function",
    "builtin_function_or_method",
    "instance",
    "_Feature"
   ],
   "window_display": false
  }
 },
 "nbformat": 4,
 "nbformat_minor": 5
}
