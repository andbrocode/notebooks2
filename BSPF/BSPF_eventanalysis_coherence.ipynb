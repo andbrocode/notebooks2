{
 "cells": [
  {
   "cell_type": "markdown",
   "id": "26ad060e",
   "metadata": {
    "ExecuteTime": {
     "end_time": "2022-09-13T00:35:24.926376Z",
     "start_time": "2022-09-13T00:35:24.923877Z"
    }
   },
   "source": [
    "# Analyse BlueSeis BSPF Event Analysis - Coherence"
   ]
  },
  {
   "cell_type": "code",
   "execution_count": null,
   "id": "7ae027cf",
   "metadata": {
    "ExecuteTime": {
     "end_time": "2023-08-04T10:34:24.641121Z",
     "start_time": "2023-08-04T10:34:21.895084Z"
    }
   },
   "outputs": [],
   "source": [
    "import os \n",
    "import obspy as obs\n",
    "import matplotlib.pyplot as plt\n",
    "import numpy as np\n",
    "import pandas as pd\n",
    "\n",
    "from andbro__store_as_pickle import __store_as_pickle\n",
    "from andbro__savefig import __savefig"
   ]
  },
  {
   "cell_type": "code",
   "execution_count": null,
   "id": "7ec213f5",
   "metadata": {
    "ExecuteTime": {
     "end_time": "2023-08-04T10:34:24.653325Z",
     "start_time": "2023-08-04T10:34:24.642257Z"
    }
   },
   "outputs": [],
   "source": [
    "from functions.compute_backazimuth import __compute_backazimuth"
   ]
  },
  {
   "cell_type": "code",
   "execution_count": null,
   "id": "515aa60d",
   "metadata": {
    "ExecuteTime": {
     "end_time": "2023-08-04T10:34:24.660783Z",
     "start_time": "2023-08-04T10:34:24.654467Z"
    }
   },
   "outputs": [],
   "source": [
    "if os.uname().nodename == 'lighthouse':\n",
    "    root_path = '/home/andbro/'\n",
    "    data_path = '/home/andbro/kilauea-data/'\n",
    "    archive_path = '/home/andbro/freenas/'\n",
    "elif os.uname().nodename == 'kilauea':\n",
    "    root_path = '/home/brotzer/'\n",
    "    data_path = '/import/kilauea-data/'\n",
    "    archive_path = '/import/freenas-ffb-01-data/'"
   ]
  },
  {
   "cell_type": "code",
   "execution_count": null,
   "id": "7d90806e",
   "metadata": {
    "ExecuteTime": {
     "end_time": "2023-08-04T10:34:24.677095Z",
     "start_time": "2023-08-04T10:34:24.661788Z"
    },
    "code_folding": [
     0
    ]
   },
   "outputs": [],
   "source": [
    "def __rolling_average(arr, win_size=5):\n",
    "    \n",
    "    from numpy import ones, array\n",
    "    from scipy.signal import convolve, hanning\n",
    "    \n",
    "    data = array(arr)\n",
    "    window = ones(win_size)/float(win_size)\n",
    "    window = hanning(win_size)/float(win_size)\n",
    "    rolling_average = convolve(data, window, mode='valid')\n",
    "\n",
    "    return rolling_average"
   ]
  },
  {
   "cell_type": "markdown",
   "id": "a9cfd05f",
   "metadata": {},
   "source": [
    "## Configurations"
   ]
  },
  {
   "cell_type": "code",
   "execution_count": null,
   "id": "d4b1e0b9",
   "metadata": {
    "ExecuteTime": {
     "end_time": "2023-08-04T10:34:24.692796Z",
     "start_time": "2023-08-04T10:34:24.678289Z"
    },
    "code_folding": []
   },
   "outputs": [],
   "source": [
    "config = {}\n",
    "\n",
    "## BSPF coordinates\n",
    "config['BSPF_lon'] = -116.455439\n",
    "config['BSPF_lat'] = 33.610643\n",
    "\n",
    "## \n",
    "config['path_to_mseed'] = data_path+\"BSPF/data/waveforms/\"\n",
    "\n",
    "## event selction\n",
    "config['path_to_data'] = data_path+\"BSPF/data/\"\n",
    "\n",
    "## output path for figures\n",
    "config['output_figs'] = data_path+\"BSPF/figures/velocity/\"\n"
   ]
  },
  {
   "cell_type": "markdown",
   "id": "47ff88ba",
   "metadata": {},
   "source": [
    "## Load Data"
   ]
  },
  {
   "cell_type": "code",
   "execution_count": null,
   "id": "c99bb0cf",
   "metadata": {
    "ExecuteTime": {
     "end_time": "2023-08-04T10:34:24.814936Z",
     "start_time": "2023-08-04T10:34:24.813291Z"
    }
   },
   "outputs": [],
   "source": [
    "# !ls /home/andbro/kilauea-data/BSPF/data/catalogs/"
   ]
  },
  {
   "cell_type": "markdown",
   "id": "ff1d000f",
   "metadata": {},
   "source": [
    "### load event and trigger data"
   ]
  },
  {
   "cell_type": "code",
   "execution_count": null,
   "id": "7a82bfaf",
   "metadata": {
    "ExecuteTime": {
     "end_time": "2023-08-04T10:34:50.301712Z",
     "start_time": "2023-08-04T10:34:25.205383Z"
    }
   },
   "outputs": [],
   "source": [
    "events = obs.read_events(config['path_to_data']+\"catalogs/BSPF_catalog_20221001_20230615_all.xml\")\n",
    "\n",
    "triggered = pd.read_pickle(config['path_to_data']+\"catalogs/BSPF_catalog_20221001_20230615_triggered.pkl\")\n",
    "\n",
    "event_times = pd.read_pickle(config['path_to_data']+\"event_selection_good.pkl\")"
   ]
  },
  {
   "cell_type": "markdown",
   "id": "1766a9a0",
   "metadata": {},
   "source": [
    "### select event"
   ]
  },
  {
   "cell_type": "code",
   "execution_count": null,
   "id": "1bbd744f",
   "metadata": {
    "ExecuteTime": {
     "end_time": "2023-08-04T10:34:50.928840Z",
     "start_time": "2023-08-04T10:34:50.302718Z"
    }
   },
   "outputs": [],
   "source": [
    "num = 1\n",
    "\n",
    "event_time = event_times.origin_time.loc[num]\n",
    "\n",
    "event = events.filter(f\"time >= {event_time}\",f\"time <= {event_time}\")\n",
    "\n",
    "trig = triggered[triggered.origin == event_time]\n",
    "\n",
    "## prepare string\n",
    "event_time_str = event_time.split(\".\")[0].replace(\" \",\"_\").replace(\"-\",\"\").replace(\":\",\"\")"
   ]
  },
  {
   "cell_type": "markdown",
   "id": "894d5b99",
   "metadata": {
    "ExecuteTime": {
     "end_time": "2023-08-02T14:47:26.283998Z",
     "start_time": "2023-08-02T14:47:26.279806Z"
    }
   },
   "source": [
    "### load stream"
   ]
  },
  {
   "cell_type": "code",
   "execution_count": null,
   "id": "658cf7c7",
   "metadata": {
    "ExecuteTime": {
     "end_time": "2023-08-04T11:28:41.252465Z",
     "start_time": "2023-08-04T11:28:41.232350Z"
    }
   },
   "outputs": [],
   "source": [
    "st = obs.read(config['path_to_mseed']+f\"*{event_time_str}*\")\n",
    "\n",
    "# st.detrend(\"simple\")\n",
    "\n",
    "\n",
    "# config['fmin'], config['fmax'] = 5.0, 50.0\n",
    "# st.filter(\"bandpass\", freqmin=config['fmin'], freqmax=config['fmax'], corners=4, zerophase=True)\n",
    "\n",
    "# st.plot(equal_scale=False);\n",
    "\n",
    "cut_offs = [\n",
    "    (65,80), (65,80), (60,100), (60,100), (60,70),\n",
    "    (60,90), (60,90), (60,90), (62,105), (65,90),\n",
    "    (62,110), (65,85), (60,105),\n",
    "]\n",
    "\n",
    "st.trim(st[0].stats.starttime+cut_offs[num][0], st[0].stats.endtime-cut_offs[num][1]);"
   ]
  },
  {
   "cell_type": "markdown",
   "id": "36acbea0",
   "metadata": {},
   "source": [
    "## Coherence\n"
   ]
  },
  {
   "cell_type": "code",
   "execution_count": null,
   "id": "21420239",
   "metadata": {
    "ExecuteTime": {
     "end_time": "2023-08-04T11:29:37.576832Z",
     "start_time": "2023-08-04T11:29:37.055004Z"
    }
   },
   "outputs": [],
   "source": [
    "from scipy.signal import coherence, csd\n",
    "\n",
    "s1 = st.select(station=\"BSPF\", channel=\"*N\")[0]\n",
    "s2 = st.select(station=\"RPFO\", location=\"al\", channel=\"*N\")[0]\n",
    "\n",
    "df = s1.stats.sampling_rate\n",
    "\n",
    "fig, ax = plt.subplots(3,1, figsize=(15,10))\n",
    "\n",
    "ax[0].plot(s1.times(), s1.data/max(s1.data))\n",
    "ax[0].plot(s2.times(), s2.data/max(s2.data))\n",
    "\n",
    "for tseg in reversed(np.arange(1, 200, 20)):\n",
    "\n",
    "    nseg = int(df*tseg)\n",
    "    nover = int(0.5*nseg)\n",
    "\n",
    "\n",
    "    fcoh, coh = coherence(s1.data, s2.data, fs=df, window='hann',nperseg=nseg, noverlap=None)\n",
    "    fcsd, css = csd(s1.data, s2.data, fs=df, window='hann',nperseg=nseg, noverlap=None)\n",
    "\n",
    "    ax[1].semilogx(fcoh, coh, label=tseg)\n",
    "    ax[2].semilogx(fcsd, css, label=tseg)\n",
    "    \n",
    "plt.legend(ncol=4)\n",
    "plt.show();\n"
   ]
  },
  {
   "cell_type": "markdown",
   "id": "ce58aa28",
   "metadata": {},
   "source": [
    "## CrossSpectralDensity"
   ]
  },
  {
   "cell_type": "code",
   "execution_count": null,
   "id": "92246f65",
   "metadata": {
    "ExecuteTime": {
     "end_time": "2023-08-04T13:43:31.162968Z",
     "start_time": "2023-08-04T13:43:31.141473Z"
    },
    "code_folding": []
   },
   "outputs": [],
   "source": [
    "def __csd_in_octaves(st_in, fmin, fmax, plot=True):\n",
    "   \n",
    "    from matplotlib.gridspec import GridSpec\n",
    "    from numpy import arange, mean, nan, nanmax\n",
    "    from pandas import DataFrame\n",
    "    from functions.get_octave_bands import __get_octave_bands\n",
    "    from scipy.signal import csd\n",
    "    \n",
    "    flower, fupper, fcenter = __get_octave_bands(fmin, fmax, fband_type=\"one-third-octave\")\n",
    "    fbands = [(fl, fu) for fl, fu in zip(flower, fupper)]\n",
    "\n",
    "    colors = {\"Z\":\"tab:red\", \"N\":\"tab:green\", \"E\":\"blue\"}\n",
    "    \n",
    "    ## _____________________\n",
    "\n",
    "#     ddf = 3\n",
    "#     fcenter = arange(fmin+ddf, fmax-ddf, 1)\n",
    "#     fbands = [(fc - ddf, fc + ddf) for fc in fcenter] \n",
    "    \n",
    "    df_out = DataFrame()\n",
    "    \n",
    "    if plot:\n",
    "        NN = 5\n",
    "        fig = plt.figure(figsize=(15,14))\n",
    "\n",
    "        gs = GridSpec(NN, 2, figure=fig)\n",
    "\n",
    "        ax1 = fig.add_subplot(gs[0, :-1])\n",
    "        ax2 = fig.add_subplot(gs[1, :-1])\n",
    "        ax3 = fig.add_subplot(gs[2, :-1])\n",
    "\n",
    "        ax4 = fig.add_subplot(gs[0, 1:])\n",
    "        ax5 = fig.add_subplot(gs[1, 1:])\n",
    "        ax6 = fig.add_subplot(gs[2, 1:])\n",
    "\n",
    "        ax7 = fig.add_subplot(gs[3:, :])\n",
    "    \n",
    "    \n",
    "    font = 18\n",
    "    \n",
    "    plt.subplots_adjust(hspace=0.2)    \n",
    "    plt.figure()\n",
    "    \n",
    "    for ii, comp in enumerate([\"Z\",\"N\",\"E\"]):\n",
    "\n",
    "        tr0 = st_in.select(station=\"BSPF\", channel=f'*{comp}').copy()[0]\n",
    "        tr1 = st_in.select(station=\"BSPF\", channel=f'*{comp}').copy()[0]\n",
    "        tr2 = st_in.select(station=\"RPFO\", location=\"in\", channel=f'*{comp}').copy()[0]\n",
    "        tr3 = st_in.select(station=\"RPFO\", location=\"al\", channel=f'*{comp}').copy()[0]\n",
    "        \n",
    "        tr0 = tr0.detrend(\"linear\").taper(0.1).filter(\"bandpass\", freqmin=0.16, freqmax=16.5, corners=8, zerophase=True)\n",
    "        tr1 = tr1.detrend(\"linear\").taper(0.1).filter(\"bandpass\", freqmin=0.02, freqmax=1.3, corners=8, zerophase=True)\n",
    "        tr2 = tr2.detrend(\"linear\").taper(0.1).filter(\"bandpass\", freqmin=0.16, freqmax=16.5, corners=8, zerophase=True)\n",
    "        tr3 = tr3.detrend(\"linear\").taper(0.1).filter(\"bandpass\", freqmin=0.02, freqmax=1.3, corners=8, zerophase=True)\n",
    "\n",
    "        \n",
    "        co2, co3 = [],[]\n",
    "        for nn, (fl, fu) in enumerate(fbands):\n",
    "            s0, s1, s2, s3 = tr0.copy(), tr1.copy(), tr2.copy(), tr3.copy()\n",
    "            \n",
    "#             s1 = s1.filter(\"bandpass\", freqmin=fl, freqmax=fu, corners=8, zerophase=True)\n",
    "#             s2 = s2.filter(\"bandpass\", freqmin=fl, freqmax=fu, corners=8, zerophase=True)\n",
    "#             s3 = s3.filter(\"bandpass\", freqmin=fl, freqmax=fu, corners=8, zerophase=True)\n",
    "            \n",
    "#             s1 = s1.normalize()\n",
    "#             s2 = s2.normalize()\n",
    "#             s3 = s3.normalize()\n",
    "\n",
    "#             s1 = s1.taper(0.1)\n",
    "#             s2 = s2.taper(0.1)\n",
    "#             s3 = s3.taper(0.1)\n",
    "            \n",
    "            df = s1.stats.sampling_rate\n",
    "        \n",
    "            tseg = 1/fcenter[nn]*5\n",
    "            nseg = int(df*tseg) if int(df*tseg) < len(s1.data) else len(s1.data)\n",
    "            nover = int(0.5*nseg)\n",
    "                            \n",
    "            ff2, coh2 = csd(s0.data, s2.data, fs=df, window='hann', nperseg=nseg, noverlap=nover, scaling=\"density\")\n",
    "            ff3, coh3 = csd(s1.data, s3.data, fs=df, window='hann', nperseg=nseg, noverlap=nover, scaling=\"density\")\n",
    "#             ff2, coh2 = csd(s1.data, s2.data, fs=df, window='hann')\n",
    "#             ff3, coh3 = csd(s1.data, s3.data, fs=df, window='hann')\n",
    "        \n",
    "\n",
    "            for i in range(len(ff2)):\n",
    "                if ff2[i] <= fl or ff2[i] >= fu:\n",
    "                    coh2[i], coh3[i] = nan, nan\n",
    "        \n",
    "            \n",
    "            co2.append(nanmax(abs(coh2)))\n",
    "            co3.append(nanmax(abs(coh3)))\n",
    "            \n",
    "        if plot:\n",
    "            \n",
    "            if comp == \"Z\":\n",
    "                ax1.plot(tr0.times(), tr0.data, color=\"k\", label=f\"BSPF-{comp}\")\n",
    "                ax1.plot(tr2.times(), tr2.data, color=colors[comp], label=f\"ADR-{comp}\")\n",
    "\n",
    "                ax4.plot(tr1.times(), tr1.data, color=\"k\", label=f\"BSPF-{comp}\")\n",
    "                ax4.plot(tr3.times(), tr3.data, color=colors[comp], label=f\"ADR-{comp}\")\n",
    "                \n",
    "            elif comp == \"N\":\n",
    "                ax2.plot(tr0.times(), tr0.data, color=\"k\", label=f\"BSPF-{comp}\")\n",
    "                ax2.plot(tr2.times(), tr2.data, color=colors[comp], label=f\"ADR-{comp}\")\n",
    "\n",
    "                ax5.plot(tr1.times(), tr1.data, color=\"k\", label=f\"BSPF-{comp}\")\n",
    "                ax5.plot(tr3.times(), tr3.data, color=colors[comp], label=f\"ADR-{comp}\")\n",
    "                \n",
    "            elif comp == \"E\":\n",
    "                ax3.plot(tr0.times(), tr0.data, color=\"k\", label=f\"BSPF-{comp}\")\n",
    "                ax3.plot(tr2.times(), tr2.data,color=colors[comp], label=f\"ADR-{comp}\")\n",
    "\n",
    "                ax6.plot(tr1.times(), tr1.data, color=\"k\", label=f\"BSPF-{comp}\")\n",
    "                ax6.plot(tr3.times(), tr3.data, color=colors[comp], label=f\"ADR-{comp}\")\n",
    "                \n",
    "            for ax in [ax1, ax2, ax3, ax4, ax5, ax6]:\n",
    "                ax.legend(loc=1, ncol=2)\n",
    "                \n",
    "            ax7.scatter(fcenter, co2, s=50, marker=\"s\", label=\"BSPF-RPFO_inner\", zorder=2, color=\"w\", edgecolors=colors[comp])\n",
    "            ax7.plot(fcenter, co2, ls=\"-\", color=colors[comp])\n",
    "\n",
    "            ax7.scatter(fcenter, co3, s=50, label=\"BSPF-PRFO_all\", zorder=2, color=\"w\", edgecolors=colors[comp])\n",
    "            ax7.plot(fcenter, co3, ls=\":\", color=colors[comp])\n",
    "\n",
    "            ax7.legend(ncol=3)\n",
    "\n",
    "            ax7.set_xscale(\"log\")\n",
    "            ax7.set_yscale(\"log\")\n",
    "            \n",
    "            ax7.grid(ls=\"--\",zorder=0,alpha=.5, which=\"both\")\n",
    "            \n",
    "                \n",
    "        ## prepare output\n",
    "        df_out[f'{comp}_in_fc'] = fcenter\n",
    "        df_out[f'{comp}_in_co']  = co2\n",
    "        df_out[f'{comp}_al_fc'] = fcenter\n",
    "        df_out[f'{comp}_al_co']  = co3\n",
    "        \n",
    "        \n",
    "    plt.show();        \n",
    "\n",
    "        \n",
    "    return df_out"
   ]
  },
  {
   "cell_type": "code",
   "execution_count": null,
   "id": "e4250754",
   "metadata": {
    "ExecuteTime": {
     "end_time": "2023-08-04T13:43:50.310119Z",
     "start_time": "2023-08-04T13:43:49.312931Z"
    }
   },
   "outputs": [],
   "source": [
    "fmin, fmax = 0.02, 18\n",
    "\n",
    "df_coh = __csd_in_octaves(st, fmin, fmax)"
   ]
  },
  {
   "cell_type": "markdown",
   "id": "0cf14197",
   "metadata": {},
   "source": [
    "## Coherence"
   ]
  },
  {
   "cell_type": "code",
   "execution_count": null,
   "id": "43c91781",
   "metadata": {
    "ExecuteTime": {
     "end_time": "2023-08-04T13:44:41.017533Z",
     "start_time": "2023-08-04T13:44:40.998549Z"
    },
    "code_folding": [
     0
    ]
   },
   "outputs": [],
   "source": [
    "def __coherence_in_octaves(st_in, fmin, fmax, plot=True):\n",
    "   \n",
    "    from matplotlib.gridspec import GridSpec\n",
    "    from numpy import arange, mean, nan, nanmax\n",
    "    from pandas import DataFrame\n",
    "    from functions.get_octave_bands import __get_octave_bands\n",
    "    from scipy.signal import coherence\n",
    "    \n",
    "    flower, fupper, fcenter = __get_octave_bands(fmin, fmax, fband_type=\"one-third-octave\")\n",
    "    fbands = [(fl, fu) for fl, fu in zip(flower, fupper)]\n",
    "\n",
    "    colors = {\"Z\":\"tab:red\", \"N\":\"tab:green\", \"E\":\"blue\"}\n",
    "    \n",
    "    ## _____________________\n",
    "\n",
    "#     ddf = 3\n",
    "#     fcenter = arange(fmin+ddf, fmax-ddf, 1)\n",
    "#     fbands = [(fc - ddf, fc + ddf) for fc in fcenter] \n",
    "    \n",
    "    df_out = DataFrame()\n",
    "    \n",
    "    if plot:\n",
    "        NN = 5\n",
    "        font = 18\n",
    "\n",
    "        fig = plt.figure(figsize=(15,14))\n",
    "\n",
    "        gs = GridSpec(NN, 2, figure=fig)\n",
    "\n",
    "        ax1 = fig.add_subplot(gs[0, :-1])\n",
    "        ax2 = fig.add_subplot(gs[1, :-1])\n",
    "        ax3 = fig.add_subplot(gs[2, :-1])\n",
    "\n",
    "        ax4 = fig.add_subplot(gs[0, 1:])\n",
    "        ax5 = fig.add_subplot(gs[1, 1:])\n",
    "        ax6 = fig.add_subplot(gs[2, 1:])\n",
    "\n",
    "        ax7 = fig.add_subplot(gs[3:, :])\n",
    "        \n",
    "        plt.subplots_adjust(hspace=0.2)\n",
    "        \n",
    "        \n",
    "    \n",
    "    for ii, comp in enumerate([\"Z\",\"N\",\"E\"]):\n",
    "\n",
    "        tr0 = st_in.select(station=\"BSPF\", channel=f'*{comp}').copy()[0]\n",
    "        tr1 = st_in.select(station=\"BSPF\", channel=f'*{comp}').copy()[0]\n",
    "        tr2 = st_in.select(station=\"RPFO\", location=\"in\", channel=f'*{comp}').copy()[0]\n",
    "        tr3 = st_in.select(station=\"RPFO\", location=\"al\", channel=f'*{comp}').copy()[0]\n",
    "        \n",
    "        tr0 = tr0.detrend(\"linear\").taper(0.1).filter(\"bandpass\", freqmin=1.0, freqmax=16, corners=8, zerophase=True)\n",
    "        tr1 = tr1.detrend(\"linear\").taper(0.1).filter(\"bandpass\", freqmin=0.1, freqmax=1.0, corners=8, zerophase=True)\n",
    "        tr2 = tr2.detrend(\"linear\").taper(0.1).filter(\"bandpass\", freqmin=1.0, freqmax=16, corners=8, zerophase=True)\n",
    "        tr3 = tr3.detrend(\"linear\").taper(0.1).filter(\"bandpass\", freqmin=0.1, freqmax=1.0, corners=8, zerophase=True)\n",
    "\n",
    "        \n",
    "        co2, co3 = [],[]\n",
    "        for nn, (fl, fu) in enumerate(fbands):\n",
    "            s0, s1, s2, s3 = tr0.copy(), tr1.copy(), tr2.copy(), tr3.copy()\n",
    "\n",
    "#             s0 = s0.taper(0.1)\n",
    "#             s1 = s1.taper(0.1)\n",
    "#             s2 = s2.taper(0.1)\n",
    "#             s3 = s3.taper(0.1)\n",
    "\n",
    "#             s0 = s0.filter(\"bandpass\", freqmin=fl, freqmax=fu, corners=8, zerophase=True)            \n",
    "#             s1 = s1.filter(\"bandpass\", freqmin=fl, freqmax=fu, corners=8, zerophase=True)\n",
    "#             s2 = s2.filter(\"bandpass\", freqmin=fl, freqmax=fu, corners=8, zerophase=True)\n",
    "#             s3 = s3.filter(\"bandpass\", freqmin=fl, freqmax=fu, corners=8, zerophase=True)\n",
    "\n",
    "\n",
    "            \n",
    "            df = s1.stats.sampling_rate\n",
    "        \n",
    "            tseg = 1/fcenter[nn]*5\n",
    "            nseg = int(df*tseg) if int(df*tseg) < len(s1.data) else len(s1.data)\n",
    "            nover = int(0.5*nseg)\n",
    "                            \n",
    "            ff2, coh2 = coherence(s0.data, s2.data, fs=df, window='hann',nperseg=nseg, noverlap=nover)\n",
    "            ff3, coh3 = coherence(s1.data, s3.data, fs=df, window='hann',nperseg=nseg, noverlap=nover)\n",
    "            \n",
    "#             ff2, coh2 = coherence(s1.data, s2.data, fs=df, window='hann')\n",
    "#             ff3, coh3 = coherence(s1.data, s3.data, fs=df, window='hann')\n",
    "        \n",
    "            for i in range(len(ff2)):\n",
    "                if ff2[i] <= fl or ff2[i] >= fu:\n",
    "                    coh2[i], coh3[i] = nan, nan\n",
    "        \n",
    "            plt.semilogx(ff2, coh2)\n",
    "            \n",
    "            co2.append(nanmax(coh2))\n",
    "            co3.append(nanmax(coh3))\n",
    "            \n",
    "        if plot:\n",
    "            \n",
    "            if comp == \"Z\":\n",
    "                ax1.plot(tr0.times(), tr0.data, color=\"k\", label=f\"BSPF-{comp}\")\n",
    "                ax1.plot(tr2.times(), tr2.data, color=colors[comp], label=f\"ADR-{comp}\")\n",
    "\n",
    "                ax4.plot(tr1.times(), tr1.data, color=\"k\", label=f\"BSPF-{comp}\")\n",
    "                ax4.plot(tr3.times(), tr3.data, color=colors[comp], label=f\"ADR-{comp}\")\n",
    "                \n",
    "            elif comp == \"N\":\n",
    "                ax2.plot(tr0.times(), tr0.data, color=\"k\", label=f\"BSPF-{comp}\")\n",
    "                ax2.plot(tr2.times(), tr2.data, color=colors[comp], label=f\"ADR-{comp}\")\n",
    "\n",
    "                ax5.plot(tr1.times(), tr1.data, color=\"k\", label=f\"BSPF-{comp}\")\n",
    "                ax5.plot(tr3.times(), tr3.data, color=colors[comp], label=f\"ADR-{comp}\")\n",
    "                \n",
    "            elif comp == \"E\":\n",
    "                ax3.plot(tr0.times(), tr0.data, color=\"k\", label=f\"BSPF-{comp}\")\n",
    "                ax3.plot(tr2.times(), tr2.data,color=colors[comp], label=f\"ADR-{comp}\")\n",
    "\n",
    "                ax6.plot(tr1.times(), tr1.data, color=\"k\", label=f\"BSPF-{comp}\")\n",
    "                ax6.plot(tr3.times(), tr3.data, color=colors[comp], label=f\"ADR-{comp}\")\n",
    "                \n",
    "            for ax in [ax1, ax2, ax3, ax4, ax5, ax6]:\n",
    "                ax.legend(loc=1, ncol=2)\n",
    "                \n",
    "            ax7.scatter(fcenter, co2, s=50, marker=\"s\", label=\"BSPF-RPFO_inner\", zorder=2, color=\"w\", edgecolors=colors[comp])\n",
    "            ax7.plot(fcenter, co2, ls=\"-\", color=colors[comp])\n",
    "\n",
    "            ax7.scatter(fcenter, co3, s=50, label=\"BSPF-PRFO_all\", zorder=2, color=\"w\", edgecolors=colors[comp])\n",
    "            ax7.plot(fcenter, co3, ls=\":\", color=colors[comp])\n",
    "\n",
    "            ax7.legend(ncol=3)\n",
    "\n",
    "            ax7.set_xscale(\"log\")\n",
    "            ax7.grid(ls=\"--\",zorder=0,alpha=.5, which=\"both\")\n",
    "            \n",
    "                \n",
    "        ## prepare output\n",
    "        df_out[f'{comp}_in_fc'] = fcenter\n",
    "        df_out[f'{comp}_in_co']  = co2\n",
    "        df_out[f'{comp}_al_fc'] = fcenter\n",
    "        df_out[f'{comp}_al_co']  = co3\n",
    "        \n",
    "        \n",
    "    plt.show();        \n",
    "\n",
    "        \n",
    "    return df_out"
   ]
  },
  {
   "cell_type": "code",
   "execution_count": null,
   "id": "018b043b",
   "metadata": {
    "ExecuteTime": {
     "end_time": "2023-08-04T13:44:42.852693Z",
     "start_time": "2023-08-04T13:44:41.821682Z"
    }
   },
   "outputs": [],
   "source": [
    "fmin, fmax = 0.1, 18\n",
    "\n",
    "df_coh = __coherence_in_octaves(st, fmin, fmax)"
   ]
  },
  {
   "cell_type": "markdown",
   "id": "88a95a3f",
   "metadata": {},
   "source": [
    "## Plot CSD"
   ]
  },
  {
   "cell_type": "code",
   "execution_count": null,
   "id": "967d8829",
   "metadata": {
    "ExecuteTime": {
     "end_time": "2023-08-04T14:09:14.541936Z",
     "start_time": "2023-08-04T14:09:14.513657Z"
    },
    "code_folding": [
     0
    ]
   },
   "outputs": [],
   "source": [
    "def __makeplotStream_csd2(st0, config):\n",
    "\n",
    "    from scipy import fftpack\n",
    "    from matplotlib.gridspec import GridSpec\n",
    "    from scipy.signal import csd\n",
    "    from numpy import array, log10\n",
    "    \n",
    "    import matplotlib.pyplot as plt\n",
    "\n",
    "    st = st0.copy()\n",
    "    \n",
    "    NN = 5\n",
    "    rot_scaling, rot_unit = 1e6, r\"$\\mu$rad/s\"\n",
    "    trans_scaling, trans_unit = 1e6, r\"$\\mu$m/s\"\n",
    "    \n",
    "#     rot_scaling, rot_unit = 1, r\"nrad/s\"\n",
    "#     trans_scaling, trans_unit = 1, r\"$\\mu$m/s\"\n",
    "\n",
    "    colors2 = ['darkred', 'darkgreen', 'magenta', 'tab:green', 'red', 'lightgreen']\n",
    "#     colors2 = ['crimson', 'darkblue', 'red', '#3776ab', 'magenta', 'indigo']\n",
    "\n",
    "    fig = plt.figure(figsize=(15,14))\n",
    "    \n",
    "    gs = GridSpec(NN, 2, figure=fig)\n",
    "    \n",
    "    ax1 = fig.add_subplot(gs[0, :-1])\n",
    "    ax2 = fig.add_subplot(gs[1, :-1])\n",
    "    ax3 = fig.add_subplot(gs[2, :-1])\n",
    "\n",
    "    ax4 = fig.add_subplot(gs[0, 1:])\n",
    "    ax5 = fig.add_subplot(gs[1, 1:])\n",
    "    ax6 = fig.add_subplot(gs[2, 1:])\n",
    "\n",
    "    ax7 = fig.add_subplot(gs[3:, :])\n",
    "    \n",
    "    \n",
    "    font = 14\n",
    "    \n",
    "    plt.subplots_adjust(hspace=0.1)\n",
    "\n",
    "    ## _______________________________________________\n",
    "\n",
    "#     st.normalize()\n",
    "    \n",
    "    st.sort(keys=['channel'], reverse=True)\n",
    "        \n",
    "    bspf_all_data, bspf_inner_data, adr_all_data, adr_inner_data = [],[],[],[] \n",
    "    names, ffs, csds, ffs2, csds2 = [], [], [], [], []\n",
    "    for comp in [\"Z\", \"N\", \"E\"]:\n",
    "                \n",
    "        tmp = st.select(channel=f\"*{comp}\")\n",
    "        print(tmp)\n",
    "\n",
    "        bspf_inner = tmp[0].copy()\n",
    "        bspf_inner.detrend(\"linear\")\n",
    "        bspf_inner.taper(0.1)\n",
    "#         bspf_inner.filter(\"bandpass\", freqmin=5, freqmax=15, corners=4, zerophase=True)\n",
    "        bspf_inner.normalize()\n",
    "        \n",
    "        adr_inner = tmp[1].copy()\n",
    "        adr_inner.detrend(\"linear\")\n",
    "        adr_inner.taper(0.1)\n",
    "#         adr_inner.filter(\"bandpass\", freqmin=5, freqmax=15, corners=4, zerophase=True)\n",
    "        adr_inner.normalize()\n",
    "        \n",
    "        nseg = int(5*tmp[0].stats.sampling_rate)\n",
    "        \n",
    "        ff, Pxy = csd(  \n",
    "                        bspf_inner.data,\n",
    "                        adr_inner.data,\n",
    "                        fs=bspf_inner.stats.sampling_rate,\n",
    "                        nperseg=nseg,\n",
    "                        window='hann',\n",
    "                        noverlap=int(0.5*nseg),\n",
    "                        nfft=None,\n",
    "                        detrend='constant',\n",
    "                        return_onesided=True,\n",
    "                        scaling='density',\n",
    "                        axis=-1,\n",
    "                        average='mean'\n",
    "                    )\n",
    "        \n",
    "        names.append(f\"{tmp[0].stats.channel}\"+r\"$_{inner}$\")\n",
    "        ffs.append(ff)\n",
    "        csds.append(Pxy)\n",
    "\n",
    "        adr_inner_data.append(adr_inner.data)\n",
    "        bspf_inner_data.append(bspf_inner.data)\n",
    "        \n",
    "        ## _____________________________________\n",
    "        \n",
    "        bspf_all = tmp[0].copy()\n",
    "        bspf_all.detrend(\"linear\")        \n",
    "        bspf_all.taper(0.1)\n",
    "        bspf_all.filter(\"bandpass\", freqmin=0.1, freqmax=1., corners=4, zerophase=True)\n",
    "        bspf_all.normalize()\n",
    "\n",
    "        adr_all = tmp[2].copy()\n",
    "        adr_all.detrend(\"linear\")\n",
    "        adr_all.taper(0.1)\n",
    "        adr_all.filter(\"bandpass\", freqmin=0.1, freqmax=1., corners=4, zerophase=True)\n",
    "        adr_all.normalize()        \n",
    "            \n",
    "        nseg = int(20*tmp[0].stats.sampling_rate)\n",
    "        \n",
    "        ff2, Pxy2 = csd(  \n",
    "                        bspf_all.data*rot_scaling,\n",
    "                        adr_all.data*rot_scaling,\n",
    "                        fs=bspf_all.stats.sampling_rate,\n",
    "                        nperseg=nseg,\n",
    "                        window='hann',\n",
    "                        noverlap=int(0.5*nseg),\n",
    "                        nfft=None,\n",
    "                        detrend='constant',\n",
    "                        return_onesided=True,\n",
    "                        scaling='spectrum',\n",
    "                        axis=-1,\n",
    "                        average='mean'\n",
    "                    )\n",
    "        \n",
    "        names.append(f\"{tmp[0].stats.channel}\"+r\"$_{all}$\")\n",
    "        \n",
    "        ffs.append(ff2)\n",
    "        csds.append(Pxy2)\n",
    "        \n",
    "        adr_all_data.append(adr_all.data)\n",
    "        bspf_all_data.append(bspf_all.data)\n",
    "        \n",
    "    hz = st.select(channel=\"B*Z\")[0]\n",
    "    hn = st.select(channel=\"B*N\")[0]\n",
    "    he = st.select(channel=\"B*E\")[0]\n",
    "\n",
    "    jz = st.select(channel=\"HJZ\")[0]\n",
    "    jn = st.select(channel=\"HJN\")[0]\n",
    "    je = st.select(channel=\"HJE\")[0]\n",
    "\n",
    "    ax1.plot(hz.times(), bspf_all_data[0], 'black', label=f\"BSPF.Z\")\n",
    "    ax2.plot(hn.times(), bspf_all_data[1], 'black', label=f\"BSPF.N\")\n",
    "    ax3.plot(he.times(), bspf_all_data[2], 'black', label=f\"BSPF.E\")\n",
    "    ax1.plot(hz.times(), adr_all_data[0], 'darkred', label=r\"ADR$_{all}$.Z\")\n",
    "    ax2.plot(hn.times(), adr_all_data[1], 'darkred', label=r\"ADR$_{all}$.N\")\n",
    "    ax3.plot(he.times(), adr_all_data[2], 'darkred', label=r\"ADR$_{all}$.E\")\n",
    "\n",
    "    ax4.plot(jz.times(), bspf_inner_data[0], 'black', label=f\"BSPF.Z\")\n",
    "    ax5.plot(jn.times(), bspf_inner_data[1], 'black', label=f\"BSPF.N\")\n",
    "    ax6.plot(je.times(), bspf_inner_data[2], 'black', label=f\"BSPF.E\")\n",
    "    ax4.plot(jz.times(), adr_inner_data[0], 'darkred', label=r\"ADR$_{inner}$.Z\")\n",
    "    ax5.plot(jn.times(), adr_inner_data[1], 'darkred', label=r\"ADR$_{inner}$.N\")\n",
    "    ax6.plot(je.times(), adr_inner_data[2], 'darkred', label=r\"ADR$_{inner}$.E\")\n",
    "\n",
    "\n",
    "    for ii, (ff, cc, name) in enumerate(zip(ffs, csds, names)):\n",
    "#         ax7.plot(ff, 20*log10(abs(cc)), label=name[2:], alpha=0.6, color=colors2[ii])\n",
    "        if \"all\" in name:\n",
    "            ax7.plot(ff, abs(cc), label=name[2:], alpha=0.6, color=colors2[ii])\n",
    "        elif \"inner\" in name:       \n",
    "            if \"Z\" in name:\n",
    "                ax8 = ax7.twinx()\n",
    "            ax8.plot(ff, abs(cc), label=name[2:], alpha=0.6, color=colors2[ii])\n",
    "            \n",
    "\n",
    "#     ax7.set_yscale(\"log\")\n",
    "    \n",
    "    for ax in [ax1, ax2, ax3, ax4 ,ax5, ax6]:\n",
    "        ax.legend(loc=1, fontsize=font-2, bbox_to_anchor=(0.95, 1.10), ncol=2)\n",
    "        ax.set_ylabel(f\"$\\omega$ ({rot_unit})\", fontsize=font)\n",
    "        ax.spines['right'].set_visible(False)\n",
    "        ax.spines['top'].set_visible(False)\n",
    "        ax.spines['bottom'].set_visible(False)\n",
    "        if ax not in [ax3, ax6]:\n",
    "            ax.set(xticklabels=[]) \n",
    "            ax.tick_params(bottom=False)  \n",
    "    \n",
    "    ax7.set_xscale(\"log\")   \n",
    "    ax7.grid(which=\"both\", ls=\":\", alpha=0.7, color=\"grey\")\n",
    "    ax7.legend(fontsize=font-2, ncol=3, loc=2)\n",
    "    ax7.set_xlim(0.1, 20)\n",
    "    ax7.set_xlabel(\"Frequency (Hz)\", fontsize=font)\n",
    "    sqrthz=r\"$\\sqrt{Hz}$\"\n",
    "#     ax7.set_ylabel(f\"Cross Spectral Density \\n (dB rel. to 1 nrad$^2$/s$^2$/Hz)\", fontsize=font)\n",
    "    ax7.set_ylabel(f\"Cross Spectral Density ({rot_unit}/{sqrthz}')\", fontsize=font)\n",
    "    \n",
    "    \n",
    "    ax8.legend(fontsize=font-2, ncol=3, loc=1)\n",
    "    ax8.set_ylabel(f\"Cross Spectral Density ({rot_unit}/{sqrthz}')\", fontsize=font, color=\"tab:red\")\n",
    "    ax8.tick_params(axis='y', colors='tab:red')\n",
    "    \n",
    "    ax3.set_xlabel(\"Time (s)\", fontsize=font)\n",
    "    ax6.set_xlabel(\"Time (s)\", fontsize=font)\n",
    "\n",
    "\n",
    "    bbox = list(ax7.get_position().bounds)\n",
    "    bbox[3] = .85*bbox[3] # Reduce the height of the axis a bit.\n",
    "    ax7.set_position(bbox)\n",
    "    \n",
    "    for ax in [ax1, ax2, ax3, ax4 ,ax5, ax6, ax7, ax8]:\n",
    "        ax.tick_params(axis=\"y\", labelsize=font-2)\n",
    "        ax.tick_params(axis=\"x\", labelsize=font-2)\n",
    "            \n",
    "#     axes[i,0].ticklabel_format(axis='y', style='sci', scilimits=(0,0))\n",
    "#     axes[i,1].ticklabel_format(axis='y', style='sci', scilimits=(0,0))\n",
    "\n",
    "    return fig"
   ]
  },
  {
   "cell_type": "code",
   "execution_count": null,
   "id": "7baa98e2",
   "metadata": {
    "ExecuteTime": {
     "end_time": "2023-08-04T14:09:15.850056Z",
     "start_time": "2023-08-04T14:09:14.719704Z"
    }
   },
   "outputs": [],
   "source": [
    "__makeplotStream_csd2(st, config);"
   ]
  },
  {
   "cell_type": "markdown",
   "id": "35f73cb5",
   "metadata": {},
   "source": [
    "## Cross Correlation"
   ]
  },
  {
   "cell_type": "code",
   "execution_count": null,
   "id": "e57d7572",
   "metadata": {
    "ExecuteTime": {
     "end_time": "2023-08-04T11:30:49.983249Z",
     "start_time": "2023-08-04T11:30:49.972008Z"
    },
    "code_folding": [
     0
    ]
   },
   "outputs": [],
   "source": [
    "def __cc_in_octaves(st_in, fmin, fmax):\n",
    "\n",
    "    from pandas import DataFrame\n",
    "    from functions.get_octave_bands import __get_octave_bands\n",
    "    from functions.compute_cc_for_fbands import __compute_cc_for_fbands\n",
    "    \n",
    "    flower, fupper, fcenter = __get_octave_bands(fmin, fmax, fband_type=\"one-third-octave\")\n",
    "\n",
    "    fbands = [(fl, fu) for fl, fu in zip(flower, fupper)]\n",
    "\n",
    "    ## _____________________\n",
    "\n",
    "#     fbands = [(1,5),(2,6),(3,7),(4,8),(5,9),(6,10),(7,11),(8,12),(9,13),(10,14),(11,15),(12,16),(13,17),(14,18)]\n",
    "#     fbands = [(1,2),(2,4),(3,6),(4,8),(5,10),(6,12),(7,14),(8,16), (9,18), (10,20)]\n",
    "\n",
    "    df_out = DataFrame()\n",
    "    \n",
    "    for comp in [\"Z\",\"N\",\"E\"]:\n",
    "\n",
    "        print(comp)\n",
    "\n",
    "        plt.figure(figsize=(15,5))\n",
    "\n",
    "        tr1 = st_in.select(station=\"BSPF\", channel=f'*{comp}')[0]\n",
    "        tr2 = st_in.select(station=\"RPFO\", location=\"in\", channel=f'*{comp}')[0]\n",
    "        tr3 = st_in.select(station=\"RPFO\", location=\"al\", channel=f'*{comp}')[0]\n",
    "        \n",
    "        \n",
    "        ff, cc_t_max, cc_f_max = __compute_cc_for_fbands(tr1, tr2, fbands=fbands, plot=False)\n",
    "        \n",
    "        df_out[f'{comp}_in_fband'] = ff\n",
    "        df_out[f'{comp}_in_cc_t'] = cc_t_max\n",
    "        df_out[f'{comp}_in_cc_f'] = cc_f_max\n",
    "        \n",
    "        plt.scatter(ff, cc_t_max, color=\"r\")\n",
    "        plt.scatter(ff, cc_f_max, color=\"r\")\n",
    "\n",
    "        ff, cc_t_max, cc_f_max = __compute_cc_for_fbands(tr1, tr3, fbands=fbands, plot=False)\n",
    "\n",
    "        df_out[f'{comp}_al_fband'] = ff\n",
    "        df_out[f'{comp}_al_cc_t'] = cc_t_max\n",
    "        df_out[f'{comp}_al_cc_f'] = cc_f_max\n",
    "        \n",
    "        plt.scatter(ff, cc_t_max)\n",
    "        plt.scatter(ff, cc_f_max) \n",
    "\n",
    "    #     plt.xscale(\"log\")\n",
    "        plt.show()\n",
    "        \n",
    "    return df_out"
   ]
  },
  {
   "cell_type": "code",
   "execution_count": null,
   "id": "40d638d5",
   "metadata": {
    "ExecuteTime": {
     "end_time": "2023-08-04T11:30:51.276520Z",
     "start_time": "2023-08-04T11:30:50.157083Z"
    }
   },
   "outputs": [],
   "source": [
    "df_cc = __cc_in_octaves(st, fmin, fmax)\n",
    "df_cc"
   ]
  },
  {
   "cell_type": "code",
   "execution_count": null,
   "id": "3c41d6f1",
   "metadata": {},
   "outputs": [],
   "source": []
  },
  {
   "cell_type": "code",
   "execution_count": null,
   "id": "6a7df4b5",
   "metadata": {
    "ExecuteTime": {
     "end_time": "2023-08-04T15:00:34.158786Z",
     "start_time": "2023-08-04T15:00:33.757743Z"
    },
    "code_folding": [
     2
    ]
   },
   "outputs": [],
   "source": [
    "import seaborn as sns\n",
    "\n",
    "def __stream_to_dataframe(st):\n",
    "    \n",
    "    dff = pd.DataFrame()\n",
    "\n",
    "    for tr in st: \n",
    "        name = f\"{tr.stats.station}_{tr.stats.location}_{tr.stats.channel}\"\n",
    "        dff[name] = tr.data\n",
    "        \n",
    "    return dff\n",
    "\n",
    "\n",
    "st00 = st.copy();\n",
    "st00 = st00.detrend(\"linear\");\n",
    "st00 = st00.filter(\"bandpass\", freqmin=0.1, freqmax=18, corners=8, zerophase=True);\n",
    "# st00.plot();\n",
    "\n",
    "dff = __stream_to_dataframe(st00)\n",
    "\n",
    "matrix = dff.corr().round(2)\n",
    "\n",
    "sns.heatmap(matrix, annot=True, vmax=1, vmin=-1, center=0, cmap='vlag')"
   ]
  },
  {
   "cell_type": "code",
   "execution_count": null,
   "id": "693b612a",
   "metadata": {
    "ExecuteTime": {
     "end_time": "2023-08-04T15:24:22.280521Z",
     "start_time": "2023-08-04T15:24:21.000781Z"
    }
   },
   "outputs": [],
   "source": []
  },
  {
   "cell_type": "markdown",
   "id": "2d796a2f",
   "metadata": {
    "heading_collapsed": true
   },
   "source": [
    "## AS LOOP"
   ]
  },
  {
   "cell_type": "code",
   "execution_count": null,
   "id": "5654ff61",
   "metadata": {
    "ExecuteTime": {
     "end_time": "2023-08-02T14:48:02.613289Z",
     "start_time": "2023-08-02T14:48:02.613278Z"
    },
    "hidden": true
   },
   "outputs": [],
   "source": [
    "# for i in range(0,17):\n",
    "    \n",
    "#     event_time = event_times.origin_time.loc[i]\n",
    "    \n",
    "#     try:\n",
    "#         event = events.filter(f\"time >= {event_time}\",f\"time <= {event_time}\")\n",
    "        \n",
    "#         event_time = event_times.origin_time.loc[i]\n",
    "\n",
    "#         trig = triggered[triggered.origin == event_time]\n",
    "\n",
    "#     except:\n",
    "#         print(f\" -> {i} no event\")\n",
    "        \n",
    "#     ## prepare string\n",
    "#     event_time_str = event_time.split(\".\")[0].replace(\" \",\"_\").replace(\"-\",\"\").replace(\":\",\"\")\n",
    "     \n",
    "#     ## load data\n",
    "#     st = obs.read(config['path_to_mseed']+f\"*{event_time_str}*\")\n",
    "\n",
    "#     st.detrend(\"simple\")\n",
    "\n",
    "#     st.filter(\"bandpass\", freqmin=config['fmin'], freqmax=config['fmax'], corners=4, zerophase=True)\n",
    "\n",
    "    \n",
    "#     out['fig'].savefig(config['output_figs']+f\"{event_time_str}_rayleigh_velocity.png\", dpi=200, bbox_inches='tight', pad_inches=0.05)"
   ]
  },
  {
   "cell_type": "code",
   "execution_count": null,
   "id": "465c4529",
   "metadata": {
    "hidden": true
   },
   "outputs": [],
   "source": []
  }
 ],
 "metadata": {
  "kernelspec": {
   "display_name": "Python 3",
   "language": "python",
   "name": "python3"
  },
  "language_info": {
   "codemirror_mode": {
    "name": "ipython",
    "version": 3
   },
   "file_extension": ".py",
   "mimetype": "text/x-python",
   "name": "python",
   "nbconvert_exporter": "python",
   "pygments_lexer": "ipython3",
   "version": "3.7.7"
  },
  "latex_envs": {
   "LaTeX_envs_menu_present": true,
   "autoclose": false,
   "autocomplete": true,
   "bibliofile": "biblio.bib",
   "cite_by": "apalike",
   "current_citInitial": 1,
   "eqLabelWithNumbers": true,
   "eqNumInitial": 1,
   "hotkeys": {
    "equation": "Ctrl-E",
    "itemize": "Ctrl-I"
   },
   "labels_anchors": false,
   "latex_user_defs": false,
   "report_style_numbering": false,
   "user_envs_cfg": false
  },
  "toc": {
   "base_numbering": 1,
   "nav_menu": {},
   "number_sections": true,
   "sideBar": true,
   "skip_h1_title": false,
   "title_cell": "Table of Contents",
   "title_sidebar": "Contents",
   "toc_cell": false,
   "toc_position": {},
   "toc_section_display": true,
   "toc_window_display": false
  },
  "varInspector": {
   "cols": {
    "lenName": 16,
    "lenType": 16,
    "lenVar": 40
   },
   "kernels_config": {
    "python": {
     "delete_cmd_postfix": "",
     "delete_cmd_prefix": "del ",
     "library": "var_list.py",
     "varRefreshCmd": "print(var_dic_list())"
    },
    "r": {
     "delete_cmd_postfix": ") ",
     "delete_cmd_prefix": "rm(",
     "library": "var_list.r",
     "varRefreshCmd": "cat(var_dic_list()) "
    }
   },
   "types_to_exclude": [
    "module",
    "function",
    "builtin_function_or_method",
    "instance",
    "_Feature"
   ],
   "window_display": false
  }
 },
 "nbformat": 4,
 "nbformat_minor": 5
}
