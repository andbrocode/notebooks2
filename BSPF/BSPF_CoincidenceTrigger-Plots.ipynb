{
 "cells": [
  {
   "cell_type": "markdown",
   "id": "f1800f58",
   "metadata": {},
   "source": [
    "# Plot Coincidence Trigger"
   ]
  },
  {
   "cell_type": "markdown",
   "id": "d92f0fb4",
   "metadata": {},
   "source": [
    "## Import Libraries"
   ]
  },
  {
   "cell_type": "code",
   "execution_count": 1,
   "id": "77b73fe9",
   "metadata": {
    "ExecuteTime": {
     "end_time": "2023-04-24T15:45:24.627991Z",
     "start_time": "2023-04-24T15:45:23.447702Z"
    }
   },
   "outputs": [],
   "source": [
    "import os, sys\n",
    "import obspy as obs\n",
    "import matplotlib.pyplot as plt\n",
    "\n",
    "from obspy.clients.fdsn import Client\n",
    "from obspy.signal.trigger import coincidence_trigger\n",
    "from numpy import sort, argmin"
   ]
  },
  {
   "cell_type": "code",
   "execution_count": 2,
   "id": "21f63d73",
   "metadata": {
    "ExecuteTime": {
     "end_time": "2023-04-24T15:45:24.646737Z",
     "start_time": "2023-04-24T15:45:24.642123Z"
    }
   },
   "outputs": [],
   "source": [
    "if os.uname().nodename == 'lighthouse':\n",
    "    root_path = '/home/andbro/'\n",
    "    data_path = '/home/andbro/kilauea-data/'\n",
    "    archive_path = '/home/andbro/freenas/'\n",
    "elif os.uname().nodename == 'kilauea':\n",
    "    root_path = '/home/brotzer/'\n",
    "    data_path = '/import/kilauea-data/'\n",
    "    archive_path = '/import/freenas-ffb-01-data/'"
   ]
  },
  {
   "cell_type": "markdown",
   "id": "eaa20692",
   "metadata": {},
   "source": [
    "## Configurations"
   ]
  },
  {
   "cell_type": "code",
   "execution_count": 15,
   "id": "8e926584",
   "metadata": {
    "ExecuteTime": {
     "end_time": "2023-04-25T07:47:24.319928Z",
     "start_time": "2023-04-25T07:47:24.311477Z"
    }
   },
   "outputs": [],
   "source": [
    "config = {}\n",
    "\n",
    "## before 2023-04-01\n",
    "config['seeds'] = {\"rotation\":\"PY.BSPF..HJ*\", \"translation\":\"II.PFO.10.BH*\"}\n",
    "## after 2023-04-01\n",
    "# config['seeds'] = [\"PY.BSPF..HJ*\", \"PY.PFOIX..HH*\"]\n",
    "\n",
    "config['output_path'] = data_path+\"BSPF/trigger2/\"\n",
    "\n",
    "config['dir_data'] = data_path+\"BSPF/data/\"\n",
    "\n",
    "config['client'] = Client(\"IRIS\")"
   ]
  },
  {
   "cell_type": "code",
   "execution_count": null,
   "id": "6bf383e0",
   "metadata": {
    "ExecuteTime": {
     "end_time": "2023-04-24T15:45:40.750145Z",
     "start_time": "2023-04-24T15:45:40.750135Z"
    }
   },
   "outputs": [],
   "source": [
    "# !ls /import/kilauea-data/BSPF/trigger/tmp"
   ]
  },
  {
   "cell_type": "markdown",
   "id": "625335fc",
   "metadata": {},
   "source": [
    "## Load Data"
   ]
  },
  {
   "cell_type": "code",
   "execution_count": 4,
   "id": "9e516b95",
   "metadata": {
    "ExecuteTime": {
     "end_time": "2023-04-24T15:45:42.940707Z",
     "start_time": "2023-04-24T15:45:42.933204Z"
    },
    "code_folding": [
     0
    ]
   },
   "outputs": [],
   "source": [
    "def __request_data(seed, client, tbeg, tend):\n",
    "\n",
    "#     print(seed)\n",
    "    net, sta, loc, cha = seed.split(\".\")\n",
    "\n",
    "    try:\n",
    "        inventory = client.get_stations(network=net, \n",
    "                                         station=sta,\n",
    "                                         starttime=tbeg,\n",
    "                                         endtime=tend,\n",
    "                                         level=\"response\",\n",
    "                                         )\n",
    "    except:\n",
    "        print(f\" -> Failed to load inventory for {seed}!\")\n",
    "        return\n",
    "\n",
    "    try:\n",
    "        waveform = client.get_waveforms(network=net,\n",
    "                                       station=sta,\n",
    "                                       location=loc,\n",
    "                                       channel=cha, \n",
    "                                       starttime=tbeg-60,\n",
    "                                       endtime=tend+60,\n",
    "                                       )\n",
    "\n",
    "    except:\n",
    "        print(f\" -> Failed to load waveforms for {seed}!\")\n",
    "        return\n",
    "    \n",
    "    return waveform, inventory"
   ]
  },
  {
   "cell_type": "code",
   "execution_count": 5,
   "id": "5579f31a",
   "metadata": {
    "ExecuteTime": {
     "end_time": "2023-04-24T15:45:43.140748Z",
     "start_time": "2023-04-24T15:45:43.136525Z"
    }
   },
   "outputs": [],
   "source": [
    "# st_xpfo, inv_xpfo = __request_data(config['seeds']['translation'], config['client'], config['tbeg'], config['tend'])"
   ]
  },
  {
   "cell_type": "code",
   "execution_count": 6,
   "id": "69c79b5e",
   "metadata": {
    "ExecuteTime": {
     "end_time": "2023-04-24T15:45:43.297450Z",
     "start_time": "2023-04-24T15:45:43.295043Z"
    }
   },
   "outputs": [],
   "source": [
    "# st_bspf, inv_bspf = __request_data(config['seeds']['rotation'], config['client'], config['tbeg'], config['tend'])"
   ]
  },
  {
   "cell_type": "markdown",
   "id": "438346ca",
   "metadata": {},
   "source": [
    "## Load Triggered Events"
   ]
  },
  {
   "cell_type": "code",
   "execution_count": 7,
   "id": "52ad588f",
   "metadata": {
    "ExecuteTime": {
     "end_time": "2023-04-24T15:45:43.602234Z",
     "start_time": "2023-04-24T15:45:43.597936Z"
    },
    "code_folding": [
     0
    ]
   },
   "outputs": [],
   "source": [
    "def __read_pickle(config, path, filename):\n",
    "    \n",
    "    import pickle\n",
    "\n",
    "    with open(path+filename, 'rb') as f:\n",
    "        triggerfile = pickle.load(f)\n",
    "        \n",
    "    return triggerfile"
   ]
  },
  {
   "cell_type": "code",
   "execution_count": 8,
   "id": "0b876eda",
   "metadata": {
    "ExecuteTime": {
     "end_time": "2023-04-24T15:45:44.292705Z",
     "start_time": "2023-04-24T15:45:43.760803Z"
    }
   },
   "outputs": [],
   "source": [
    "trigger_events = __read_pickle(config, config['output_path'], \"trigger_all.pkl\")"
   ]
  },
  {
   "cell_type": "code",
   "execution_count": 23,
   "id": "d143da0c",
   "metadata": {
    "ExecuteTime": {
     "end_time": "2023-04-25T07:50:55.970767Z",
     "start_time": "2023-04-25T07:50:55.962168Z"
    }
   },
   "outputs": [],
   "source": [
    "times, cosum = [], []\n",
    "ref_time = obs.UTCDateTime(\"2022-10-01\")\n",
    "\n",
    "for trig in trigger_events:\n",
    "    times.append(trig['time'])\n",
    "    cosum.append(trig['coincidence_sum'])\n",
    "    \n",
    "rel_times = [(t-ref_time)/86400 for t in times]\n",
    "trigger_times = [t for t in times]"
   ]
  },
  {
   "cell_type": "code",
   "execution_count": 26,
   "id": "c3a2aec4",
   "metadata": {
    "ExecuteTime": {
     "end_time": "2023-04-16T18:58:31.949259Z",
     "start_time": "2023-04-16T18:58:31.945973Z"
    }
   },
   "outputs": [],
   "source": [
    "# __read_pickle(config, \"./\", \"BSPF_event_catalog.pkl\")"
   ]
  },
  {
   "cell_type": "code",
   "execution_count": 17,
   "id": "e8e917ff",
   "metadata": {
    "ExecuteTime": {
     "end_time": "2023-04-25T07:48:37.691786Z",
     "start_time": "2023-04-25T07:48:19.675929Z"
    }
   },
   "outputs": [
    {
     "name": "stdout",
     "output_type": "stream",
     "text": [
      "4969 73\n"
     ]
    }
   ],
   "source": [
    "## read catalog\n",
    "cat = obs.read_events(config['dir_data']+\"events_all.xml\")\n",
    "\n",
    "print(len(cat), len(trigger_events))"
   ]
  },
  {
   "cell_type": "code",
   "execution_count": 29,
   "id": "765d69de",
   "metadata": {
    "ExecuteTime": {
     "end_time": "2023-04-25T07:58:27.480305Z",
     "start_time": "2023-04-25T07:58:25.792158Z"
    },
    "code_folding": []
   },
   "outputs": [
    {
     "data": {
      "image/png": "[encoded data removed]",
      "text/plain": [
       "<Figure size 1500x500 with 1 Axes>"
      ]
     },
     "metadata": {},
     "output_type": "display_data"
    }
   ],
   "source": [
    "def __find_matches(trigger_times, catalog, max_time_difference=60):\n",
    "\n",
    "    matches, time_diffs, events_triggered, event_idxs = [], [], [], []\n",
    "\n",
    "    ## extract origin times from catalog\n",
    "    event_times = [catalog.events[j].origins[0].time for j in range(len(catalog))]\n",
    "    \n",
    "    \n",
    "    for trigger_time in trigger_times:\n",
    "\n",
    "        ## compute time differences in seconds\n",
    "        diff = [event_time-trigger_time for event_time in event_times]\n",
    "        \n",
    "        ## only the ones before the trigger in time\n",
    "        abs_diff = [abs(d) for d in diff if d < 0]\n",
    "        \n",
    "        ## get closest event\n",
    "        t_min, t_idx = min(abs_diff), diff.index(-min(abs_diff))\n",
    "                \n",
    "        time_diffs.append(t_min)\n",
    "        matches.append(trigger_time)\n",
    "        events_triggered.append(event_times[t_idx])\n",
    "        event_idxs.append(t_idx)\n",
    "        \n",
    "    cat_sel = [cat.events[idx] for idx in event_idxs]\n",
    "        \n",
    "        \n",
    "    t_days = [(match-obs.UTCDateTime(\"2022-10-01\"))/86400 for match in matches]\n",
    "    plt.figure(figsize=(15,5))\n",
    "    plt.scatter(t_days, time_diffs, zorder=2, s=5)\n",
    "    plt.yscale(\"log\")\n",
    "    plt.grid(which=\"both\", zorder=-1, ls=\":\")\n",
    "    plt.ylabel(\"Time Differences (s)\")\n",
    "    plt.xlabel(\"Time (days)\")\n",
    "    plt.xlim(0, 190)\n",
    "    \n",
    "    return np.array(matches), np.array(events_triggered), cat_sel\n",
    "\n",
    "matches, events_triggered, cat_select = __find_matches(trigger_times, cat, max_time_difference=60)\n",
    "\n",
    "# len(events_triggered), len(matches)"
   ]
  },
  {
   "cell_type": "code",
   "execution_count": 37,
   "id": "2736bb95",
   "metadata": {
    "ExecuteTime": {
     "end_time": "2023-04-25T08:02:09.460450Z",
     "start_time": "2023-04-25T08:02:08.841390Z"
    }
   },
   "outputs": [],
   "source": [
    "cata = obs.Catalog()\n",
    "for ev in cat_select:\n",
    "    cata += ev\n",
    "cata.write(config['output_path']+\"matched_catalog_events.xml\", format=\"QUAKEML\")"
   ]
  },
  {
   "cell_type": "code",
   "execution_count": null,
   "id": "9e07fd7a",
   "metadata": {},
   "outputs": [],
   "source": []
  },
  {
   "cell_type": "code",
   "execution_count": 40,
   "id": "5117126e",
   "metadata": {
    "ExecuteTime": {
     "end_time": "2023-04-25T08:07:28.668941Z",
     "start_time": "2023-04-25T08:07:28.652762Z"
    }
   },
   "outputs": [
    {
     "ename": "AttributeError",
     "evalue": "'Catalog' object has no attribute 'magnitues'",
     "output_type": "error",
     "traceback": [
      "\u001b[0;31m---------------------------------------------------------------------------\u001b[0m",
      "\u001b[0;31mAttributeError\u001b[0m                            Traceback (most recent call last)",
      "\u001b[0;32m/tmp/ipykernel_106429/3529224721.py\u001b[0m in \u001b[0;36m<module>\u001b[0;34m\u001b[0m\n\u001b[0;32m----> 1\u001b[0;31m \u001b[0mcata\u001b[0m\u001b[0;34m.\u001b[0m\u001b[0mmagnitues\u001b[0m\u001b[0;34m\u001b[0m\u001b[0;34m\u001b[0m\u001b[0m\n\u001b[0m",
      "\u001b[0;31mAttributeError\u001b[0m: 'Catalog' object has no attribute 'magnitues'"
     ]
    }
   ],
   "source": []
  },
  {
   "cell_type": "code",
   "execution_count": null,
   "id": "4ae39900",
   "metadata": {},
   "outputs": [],
   "source": []
  }
 ],
 "metadata": {
  "kernelspec": {
   "display_name": "Python 3 (ipykernel)",
   "language": "python",
   "name": "python3"
  },
  "language_info": {
   "codemirror_mode": {
    "name": "ipython",
    "version": 3
   },
   "file_extension": ".py",
   "mimetype": "text/x-python",
   "name": "python",
   "nbconvert_exporter": "python",
   "pygments_lexer": "ipython3",
   "version": "3.7.8"
  },
  "toc": {
   "base_numbering": 1,
   "nav_menu": {},
   "number_sections": true,
   "sideBar": true,
   "skip_h1_title": false,
   "title_cell": "Table of Contents",
   "title_sidebar": "Contents",
   "toc_cell": false,
   "toc_position": {},
   "toc_section_display": true,
   "toc_window_display": false
  },
  "varInspector": {
   "cols": {
    "lenName": 16,
    "lenType": 16,
    "lenVar": 40
   },
   "kernels_config": {
    "python": {
     "delete_cmd_postfix": "",
     "delete_cmd_prefix": "del ",
     "library": "var_list.py",
     "varRefreshCmd": "print(var_dic_list())"
    },
    "r": {
     "delete_cmd_postfix": ") ",
     "delete_cmd_prefix": "rm(",
     "library": "var_list.r",
     "varRefreshCmd": "cat(var_dic_list()) "
    }
   },
   "types_to_exclude": [
    "module",
    "function",
    "builtin_function_or_method",
    "instance",
    "_Feature"
   ],
   "window_display": false
  }
 },
 "nbformat": 4,
 "nbformat_minor": 5
}
