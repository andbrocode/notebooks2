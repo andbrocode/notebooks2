{
 "cells": [
  {
   "cell_type": "markdown",
   "id": "9d8f8a24",
   "metadata": {},
   "source": [
    "# BSPF Analysis"
   ]
  },
  {
   "cell_type": "code",
   "execution_count": 1,
   "id": "fe4540f2",
   "metadata": {
    "ExecuteTime": {
     "end_time": "2023-08-07T09:56:14.230317Z",
     "start_time": "2023-08-07T09:56:12.194332Z"
    }
   },
   "outputs": [],
   "source": [
    "import os\n",
    "import pandas as pd\n",
    "import numpy as np\n",
    "import obspy as obs\n",
    "import matplotlib.pyplot as plt\n",
    "\n",
    "from scipy.optimize import curve_fit"
   ]
  },
  {
   "cell_type": "code",
   "execution_count": 2,
   "id": "0385c6e2",
   "metadata": {
    "ExecuteTime": {
     "end_time": "2023-08-07T09:56:14.238662Z",
     "start_time": "2023-08-07T09:56:14.231424Z"
    }
   },
   "outputs": [],
   "source": [
    "from functions.compute_orthogonal_distance_regression import __compute_orthogonal_distance_regression\n",
    "from functions.compute_linear_regression import __compute_linear_regression"
   ]
  },
  {
   "cell_type": "code",
   "execution_count": 3,
   "id": "f3490903",
   "metadata": {
    "ExecuteTime": {
     "end_time": "2023-08-07T09:56:14.259904Z",
     "start_time": "2023-08-07T09:56:14.239745Z"
    }
   },
   "outputs": [],
   "source": [
    "if os.uname().nodename == 'lighthouse':\n",
    "    root_path = '/home/andbro/'\n",
    "    data_path = '/home/andbro/kilauea-data/'\n",
    "    archive_path = '/home/andbro/freenas/'\n",
    "elif os.uname().nodename == 'kilauea':\n",
    "    root_path = '/home/brotzer/'\n",
    "    data_path = '/import/kilauea-data/'\n",
    "    archive_path = '/import/freenas-ffb-01-data/'"
   ]
  },
  {
   "cell_type": "markdown",
   "id": "4e67ab25",
   "metadata": {},
   "source": [
    "## Configurations"
   ]
  },
  {
   "cell_type": "code",
   "execution_count": 4,
   "id": "15a2bfff",
   "metadata": {
    "ExecuteTime": {
     "end_time": "2023-08-07T09:56:14.274780Z",
     "start_time": "2023-08-07T09:56:14.261002Z"
    }
   },
   "outputs": [],
   "source": [
    "config = {}\n",
    "\n",
    "config['path_to_data'] = data_path+\"BSPF/data/\"\n",
    "\n",
    "config['path_to_catalogs'] = data_path+\"BSPF/data/catalogs/\"\n",
    "\n",
    "config['path_to_figs'] = data_path+\"BSPF/figures/\"\n",
    "\n",
    "config['catalog'] = \"\"\n",
    "\n",
    "config['save'] = False"
   ]
  },
  {
   "cell_type": "markdown",
   "id": "ae1fa8b1",
   "metadata": {},
   "source": [
    "## Load Data"
   ]
  },
  {
   "cell_type": "code",
   "execution_count": 5,
   "id": "ca6e31b2",
   "metadata": {
    "ExecuteTime": {
     "end_time": "2023-08-07T09:56:14.343333Z",
     "start_time": "2023-08-07T09:56:14.326600Z"
    }
   },
   "outputs": [
    {
     "ename": "FileNotFoundError",
     "evalue": "[Errno 2] No such file or directory: '/home/andbro/kilauea-data/BSPF/data/bspf_analysisdata_amax_disp.pkl'",
     "output_type": "error",
     "traceback": [
      "\u001b[0;31m---------------------------------------------------------------------------\u001b[0m",
      "\u001b[0;31mFileNotFoundError\u001b[0m                         Traceback (most recent call last)",
      "Cell \u001b[0;32mIn[5], line 1\u001b[0m\n\u001b[0;32m----> 1\u001b[0m data_amax_disp \u001b[38;5;241m=\u001b[39m \u001b[43mpd\u001b[49m\u001b[38;5;241;43m.\u001b[39;49m\u001b[43mread_pickle\u001b[49m\u001b[43m(\u001b[49m\u001b[43mconfig\u001b[49m\u001b[43m[\u001b[49m\u001b[38;5;124;43m'\u001b[39;49m\u001b[38;5;124;43mpath_to_data\u001b[39;49m\u001b[38;5;124;43m'\u001b[39;49m\u001b[43m]\u001b[49m\u001b[38;5;241;43m+\u001b[39;49m\u001b[38;5;124;43m\"\u001b[39;49m\u001b[38;5;124;43mbspf_analysisdata_amax_disp.pkl\u001b[39;49m\u001b[38;5;124;43m\"\u001b[39;49m\u001b[43m)\u001b[49m\n\u001b[1;32m      3\u001b[0m data_snr \u001b[38;5;241m=\u001b[39m pd\u001b[38;5;241m.\u001b[39mread_pickle(config[\u001b[38;5;124m'\u001b[39m\u001b[38;5;124mpath_to_data\u001b[39m\u001b[38;5;124m'\u001b[39m]\u001b[38;5;241m+\u001b[39m\u001b[38;5;124m\"\u001b[39m\u001b[38;5;124mbspf_analysisdata_snr_disp.pkl\u001b[39m\u001b[38;5;124m\"\u001b[39m)\n",
      "File \u001b[0;32m~/anaconda3/envs/obs2/lib/python3.10/site-packages/pandas/io/pickle.py:179\u001b[0m, in \u001b[0;36mread_pickle\u001b[0;34m(filepath_or_buffer, compression, storage_options)\u001b[0m\n\u001b[1;32m    115\u001b[0m \u001b[38;5;250m\u001b[39m\u001b[38;5;124;03m\"\"\"\u001b[39;00m\n\u001b[1;32m    116\u001b[0m \u001b[38;5;124;03mLoad pickled pandas object (or any object) from file.\u001b[39;00m\n\u001b[1;32m    117\u001b[0m \n\u001b[0;32m   (...)\u001b[0m\n\u001b[1;32m    176\u001b[0m \u001b[38;5;124;03m4    4    9\u001b[39;00m\n\u001b[1;32m    177\u001b[0m \u001b[38;5;124;03m\"\"\"\u001b[39;00m\n\u001b[1;32m    178\u001b[0m excs_to_catch \u001b[38;5;241m=\u001b[39m (\u001b[38;5;167;01mAttributeError\u001b[39;00m, \u001b[38;5;167;01mImportError\u001b[39;00m, \u001b[38;5;167;01mModuleNotFoundError\u001b[39;00m, \u001b[38;5;167;01mTypeError\u001b[39;00m)\n\u001b[0;32m--> 179\u001b[0m \u001b[38;5;28;01mwith\u001b[39;00m \u001b[43mget_handle\u001b[49m\u001b[43m(\u001b[49m\n\u001b[1;32m    180\u001b[0m \u001b[43m    \u001b[49m\u001b[43mfilepath_or_buffer\u001b[49m\u001b[43m,\u001b[49m\n\u001b[1;32m    181\u001b[0m \u001b[43m    \u001b[49m\u001b[38;5;124;43m\"\u001b[39;49m\u001b[38;5;124;43mrb\u001b[39;49m\u001b[38;5;124;43m\"\u001b[39;49m\u001b[43m,\u001b[49m\n\u001b[1;32m    182\u001b[0m \u001b[43m    \u001b[49m\u001b[43mcompression\u001b[49m\u001b[38;5;241;43m=\u001b[39;49m\u001b[43mcompression\u001b[49m\u001b[43m,\u001b[49m\n\u001b[1;32m    183\u001b[0m \u001b[43m    \u001b[49m\u001b[43mis_text\u001b[49m\u001b[38;5;241;43m=\u001b[39;49m\u001b[38;5;28;43;01mFalse\u001b[39;49;00m\u001b[43m,\u001b[49m\n\u001b[1;32m    184\u001b[0m \u001b[43m    \u001b[49m\u001b[43mstorage_options\u001b[49m\u001b[38;5;241;43m=\u001b[39;49m\u001b[43mstorage_options\u001b[49m\u001b[43m,\u001b[49m\n\u001b[1;32m    185\u001b[0m \u001b[43m\u001b[49m\u001b[43m)\u001b[49m \u001b[38;5;28;01mas\u001b[39;00m handles:\n\u001b[1;32m    186\u001b[0m     \u001b[38;5;66;03m# 1) try standard library Pickle\u001b[39;00m\n\u001b[1;32m    187\u001b[0m     \u001b[38;5;66;03m# 2) try pickle_compat (older pandas version) to handle subclass changes\u001b[39;00m\n\u001b[1;32m    188\u001b[0m     \u001b[38;5;66;03m# 3) try pickle_compat with latin-1 encoding upon a UnicodeDecodeError\u001b[39;00m\n\u001b[1;32m    190\u001b[0m     \u001b[38;5;28;01mtry\u001b[39;00m:\n\u001b[1;32m    191\u001b[0m         \u001b[38;5;66;03m# TypeError for Cython complaints about object.__new__ vs Tick.__new__\u001b[39;00m\n\u001b[1;32m    192\u001b[0m         \u001b[38;5;28;01mtry\u001b[39;00m:\n",
      "File \u001b[0;32m~/anaconda3/envs/obs2/lib/python3.10/site-packages/pandas/io/common.py:868\u001b[0m, in \u001b[0;36mget_handle\u001b[0;34m(path_or_buf, mode, encoding, compression, memory_map, is_text, errors, storage_options)\u001b[0m\n\u001b[1;32m    859\u001b[0m         handle \u001b[38;5;241m=\u001b[39m \u001b[38;5;28mopen\u001b[39m(\n\u001b[1;32m    860\u001b[0m             handle,\n\u001b[1;32m    861\u001b[0m             ioargs\u001b[38;5;241m.\u001b[39mmode,\n\u001b[0;32m   (...)\u001b[0m\n\u001b[1;32m    864\u001b[0m             newline\u001b[38;5;241m=\u001b[39m\u001b[38;5;124m\"\u001b[39m\u001b[38;5;124m\"\u001b[39m,\n\u001b[1;32m    865\u001b[0m         )\n\u001b[1;32m    866\u001b[0m     \u001b[38;5;28;01melse\u001b[39;00m:\n\u001b[1;32m    867\u001b[0m         \u001b[38;5;66;03m# Binary mode\u001b[39;00m\n\u001b[0;32m--> 868\u001b[0m         handle \u001b[38;5;241m=\u001b[39m \u001b[38;5;28;43mopen\u001b[39;49m\u001b[43m(\u001b[49m\u001b[43mhandle\u001b[49m\u001b[43m,\u001b[49m\u001b[43m \u001b[49m\u001b[43mioargs\u001b[49m\u001b[38;5;241;43m.\u001b[39;49m\u001b[43mmode\u001b[49m\u001b[43m)\u001b[49m\n\u001b[1;32m    869\u001b[0m     handles\u001b[38;5;241m.\u001b[39mappend(handle)\n\u001b[1;32m    871\u001b[0m \u001b[38;5;66;03m# Convert BytesIO or file objects passed with an encoding\u001b[39;00m\n",
      "\u001b[0;31mFileNotFoundError\u001b[0m: [Errno 2] No such file or directory: '/home/andbro/kilauea-data/BSPF/data/bspf_analysisdata_amax_disp.pkl'"
     ]
    }
   ],
   "source": [
    "data_amax_disp = pd.read_pickle(config['path_to_data']+\"bspf_analysisdata_amax_disp.pkl\")\n",
    "\n",
    "data_snr = pd.read_pickle(config['path_to_data']+\"bspf_analysisdata_snr_disp.pkl\")\n"
   ]
  },
  {
   "cell_type": "markdown",
   "id": "02389ea8",
   "metadata": {
    "ExecuteTime": {
     "end_time": "2023-07-13T11:04:39.349995Z",
     "start_time": "2023-07-13T11:04:39.341140Z"
    }
   },
   "source": [
    "## Modify Data"
   ]
  },
  {
   "cell_type": "markdown",
   "id": "0ac1c781",
   "metadata": {},
   "source": [
    "Filter data"
   ]
  },
  {
   "cell_type": "code",
   "execution_count": null,
   "id": "e7596314-3fe4-4140-8769-71a88a9669cf",
   "metadata": {
    "ExecuteTime": {
     "end_time": "2023-08-07T09:56:14.360405Z",
     "start_time": "2023-08-07T09:56:14.344545Z"
    }
   },
   "outputs": [],
   "source": [
    "## reject nan values\n",
    "print(f\" AMAX:  all: {data_amax_disp.origin.size} no_nan: {data_amax_disp.dropna().shape[0]}\")\n",
    "data_amax_disp.dropna(inplace=True)\n",
    "\n",
    "print(f\" SNR:  all: {data_snr.origin.size} no_nan: {data_snr.dropna().shape[0]}\")\n",
    "data_snr.dropna(inplace=True)"
   ]
  },
  {
   "cell_type": "code",
   "execution_count": null,
   "id": "51a117d9-e173-45c6-b413-ebb909762f70",
   "metadata": {
    "ExecuteTime": {
     "end_time": "2023-08-07T09:56:14.360405Z",
     "start_time": "2023-08-07T09:56:14.344545Z"
    }
   },
   "outputs": [],
   "source": [
    "## reject all magnitude types not ml\n",
    "nn = [mm for mm in data_amax_disp.Mag_type if mm != \"ml\"]\n",
    "\n",
    "data_amax_disp = data_amax_disp[data_amax_disp.Mag_type == \"ml\"]\n",
    "data_snr = data_snr[data_snr.Mag_type == \"ml\"]\n",
    "\n",
    "print(f\"\\n -> rejected {len(nn)} events: {nn}\")"
   ]
  },
  {
   "cell_type": "code",
   "execution_count": null,
   "id": "3e0f85a2-a0a2-4458-b5f5-c2b710a64df5",
   "metadata": {},
   "outputs": [],
   "source": [
    "data_amax_disp_cosum_6 = data_amax_disp[data_amax_disp.CoincidenceSum == 6]\n",
    "\n",
    "data_snr_cosum_6 = data_snr[data_snr.CoincidenceSum == 6]\n"
   ]
  },
  {
   "cell_type": "code",
   "execution_count": null,
   "id": "272486f4-c5d6-44ef-ba2c-5ad42c680811",
   "metadata": {},
   "outputs": [],
   "source": [
    "data_snr_cosum_6.shape, data_amax_disp_cosum_6.shape"
   ]
  },
  {
   "cell_type": "markdown",
   "id": "268f9baa",
   "metadata": {},
   "source": [
    "## Plots"
   ]
  },
  {
   "cell_type": "code",
   "execution_count": null,
   "id": "fca1ecd0",
   "metadata": {
    "ExecuteTime": {
     "end_time": "2023-08-07T09:56:15.608869Z",
     "start_time": "2023-08-07T09:56:14.362594Z"
    },
    "code_folding": [
     0
    ]
   },
   "outputs": [],
   "source": [
    "def __makeplot(data1, data2, data3, data4):\n",
    "\n",
    "    import matplotlib\n",
    "\n",
    "    fig, ax = plt.subplots(1,1,figsize=(15,5))\n",
    "\n",
    "    font=14\n",
    "\n",
    "    cmap = plt.get_cmap(\"viridis\", 9)\n",
    "\n",
    "    # dat = np.log10(data4.BSPF__N_snr)\n",
    "    dat = np.log10(data4.PFO_10_Z_snr)\n",
    "\n",
    "\n",
    "    ax.scatter(data1.Hdistance_km, data1.Magnitude, s=30, color=\"grey\", zorder=1, label=f\"all (N={len(data1)})\")\n",
    "\n",
    "    cax = ax.scatter(data2.Hdistance_km, data2.Magnitude, s=50, lw=0.5, edgecolors=\"k\",\n",
    "                     c=dat, cmap=cmap, zorder=2, label=f\"CoSum6 (N={len(data2)})\", vmin=round(min(dat),1), vmax=4.5)\n",
    "\n",
    "    ax.grid(ls=\"--\", color=\"grey\", alpha=0.6, zorder=0,which=\"both\")\n",
    "    ax.legend(loc=4, fontsize=font)\n",
    "\n",
    "    ax.set_ylabel(\"Magnitude\", fontsize=font)\n",
    "    ax.set_xlabel(\"Hypocenter Distance (km)\", fontsize=font)\n",
    "\n",
    "    ax.set_xscale(\"log\")\n",
    "    ax.set_xlim(left=10)\n",
    "\n",
    "    cbar = plt.colorbar(cax, pad=0.02)\n",
    "    cbar.set_label(r\"log$_{10}$(signal-to-noise ratio)\", fontsize=font)\n",
    "#     cbar.set_clim(0,4)\n",
    "\n",
    "    ax.set_xticks([10, 20, 30, 40, 50, 100])\n",
    "    ax.get_xaxis().set_major_formatter(matplotlib.ticker.ScalarFormatter())\n",
    "\n",
    "    plt.show()\n",
    "\n",
    "# __makeplot(data_amax_disp, data_amax_disp_cosum_6, data_snr, data_snr_cosum_6)"
   ]
  },
  {
   "cell_type": "markdown",
   "id": "75b01e9f-b282-4a0d-8d3f-9e90bdd432c5",
   "metadata": {},
   "source": [
    "## Magnitude Scale "
   ]
  },
  {
   "cell_type": "markdown",
   "id": "ae5ec10e-5520-4cbb-841a-1451bb5556d2",
   "metadata": {},
   "source": [
    "$M_L = log_{10} (A_{max}) + 1.11 log_{10} (R) + 0.00189 R - 2.09$   (adopted local magnitude scale)\n",
    "\n",
    "with $R$ = hypocentral distance in km and $A_{max}$ = maximal amplitude in nm"
   ]
  },
  {
   "cell_type": "code",
   "execution_count": null,
   "id": "b29d426f-deb3-48e2-8ae4-51099cf8d2b7",
   "metadata": {},
   "outputs": [],
   "source": [
    "def __ml(amax, hdist):\n",
    "    return np.log10(amax) + 1.11*np.log10(hdist) + 0.00189*hdist -2.09"
   ]
  },
  {
   "cell_type": "code",
   "execution_count": null,
   "id": "47e93d9a-ee4b-44a1-a272-41677fb39487",
   "metadata": {},
   "outputs": [],
   "source": [
    "\n",
    "## reject nan values\n",
    "print(f\" AMAX:  all: {data_amax_disp.origin.size} no_nan: {data_amax_disp.dropna().shape[0]}\")\n",
    "data_amax_disp.dropna(inplace=True)\n",
    "\n",
    "## reject all magnitude types not ml\n",
    "nn = [mm for mm in data_amax_disp.Mag_type if mm != \"ml\"]\n",
    "data_amax_disp = data_amax_disp[data_amax_disp.Mag_type == \"ml\"]\n",
    "print(f\"\\n -> rejected {len(nn)} events: {nn}\")"
   ]
  },
  {
   "cell_type": "code",
   "execution_count": null,
   "id": "082e1355-39a1-4a03-83e6-9322499ec620",
   "metadata": {},
   "outputs": [],
   "source": [
    "mm_z = __ml(data_amax_disp.PFO_10_Z_amax*1e6, data_amax_disp.Hdistance_km)\n",
    "mm_n = __ml(data_amax_disp.PFO_10_N_amax*1e6, data_amax_disp.Hdistance_km)\n",
    "mm_e = __ml(data_amax_disp.PFO_10_E_amax*1e6, data_amax_disp.Hdistance_km)\n",
    "\n",
    "mm_t = __ml(data_amax_disp.PFO_10_T_amax*1e6, data_amax_disp.Hdistance_km)\n",
    "mm_r = __ml(data_amax_disp.PFO_10_R_amax*1e6, data_amax_disp.Hdistance_km)\n"
   ]
  },
  {
   "cell_type": "code",
   "execution_count": null,
   "id": "610b56d7-44f9-4199-91f2-507984018e0f",
   "metadata": {},
   "outputs": [],
   "source": [
    "def __makeplot_magnitude_comparison():\n",
    "\n",
    "    fig, ax = plt.subplots(1,3, figsize=(15,4))\n",
    "\n",
    "    ax[0].scatter(hdist, mm, color='k', zorder=3)\n",
    "    ax[0].scatter(hdist, mm_z, s=15, zorder=3, label=\"Z\", edgecolors=\"tab:orange\", color=\"tab:orange\", alpha=0.7)\n",
    "    ax[0].scatter(hdist, mm_n, s=15, zorder=3, label=\"N\", edgecolors=\"tab:blue\", color=\"tab:blue\", alpha=0.7)\n",
    "    ax[0].scatter(hdist, mm_e, s=15, zorder=3, label=\"E\", edgecolors=\"tab:green\", color=\"tab:green\", alpha=0.7)\n",
    "\n",
    "    ax[0].grid(zorder=0, alpha=0.4)\n",
    "    ax[0].legend(loc=4)\n",
    "\n",
    "    ax[0].set_xlabel(r\"log$_{10}$( Hypocentral Distance ) (km)\")\n",
    "    ax[0].set_ylabel(\"Magnitude\")\n",
    "\n",
    "    dbars = 0.5\n",
    "    bars = np.arange(0,5+dbars,dbars)\n",
    "\n",
    "    # labels, counts = np.unique(mm, return_counts=True)\n",
    "    # ax[1].bar(labels, counts, align='center', width=0.5)\n",
    "\n",
    "    ax[1].hist(mm, bins=int(len(bars)-1), density=False, histtype='bar', range=(min(bars), max(bars)),\n",
    "               color=\"k\", rwidth=0.9, fill=False, align=\"mid\")\n",
    "    ax[1].hist(mm_z, bins=int(len(bars)-1), density=False, histtype='bar', range=(min(bars), max(bars)),\n",
    "               color=\"tab:orange\", edgecolor=\"tab:orange\", rwidth=0.7, fill=False, align=\"mid\", label=\"Z\")\n",
    "    ax[1].hist(mm_n, bins=int(len(bars)-1), density=False, histtype='bar', range=(min(bars), max(bars)),\n",
    "               color=\"tab:blue\", edgecolor=\"tab:blue\", rwidth=0.5, fill=False, align=\"mid\", label=\"N\")\n",
    "    ax[1].hist(mm_e, bins=int(len(bars)-1), density=False, histtype='bar', range=(min(bars), max(bars)),\n",
    "               color=\"tab:green\", edgecolor=\"tab:green\", rwidth=0.3, fill=False, align=\"mid\", label=\"E\")\n",
    "    ax[1].set_xticks(bars)\n",
    "    # ax[1].set_xticks(bars+dbars/2)\n",
    "    # ax[1].set_xticklabels([f\"{b}-{b+dbars}\" for b in bars], rotation=60)\n",
    "\n",
    "    ax[1].legend(loc=1)\n",
    "    ax[1].grid(zorder=0, alpha=0.4)\n",
    "\n",
    "    ax[1].set_xlabel(r\"M$_L$\")\n",
    "    ax[1].set_ylabel(\"Total Number\")\n",
    "\n",
    "    lim = round(max(max(abs(diff_z)), max(abs(diff_n)), max(abs(diff_e))),1)\n",
    "    dbars2 = 0.2\n",
    "    bars2 = np.arange(-lim, lim+dbars2, dbars2)\n",
    "    ax[2].hist(diff_z, bins=len(bars2)-1, density=False, histtype='bar', range=(-lim, lim),\n",
    "               color=\"tab:orange\", edgecolor=\"tab:orange\", rwidth=1, fill=False, align=\"mid\", label=\"Z\")\n",
    "    ax[2].hist(diff_n, bins=len(bars2)-1, density=False, histtype='bar', range=(-lim, lim),\n",
    "               color=\"tab:blue\", edgecolor=\"tab:blue\", rwidth=1, fill=False, align=\"mid\", label=\"N\")\n",
    "    ax[2].hist(diff_e, bins=len(bars2)-1, density=False, histtype='bar', range=(-lim, lim),\n",
    "               color=\"tab:green\", edgecolor=\"tab:green\", rwidth=1, fill=False, align=\"mid\", label=\"E\")\n",
    "\n",
    "    ax[2].legend(loc=1)\n",
    "    ax[2].grid(zorder=0, alpha=0.4)\n",
    "\n",
    "    ax[2].set_xlabel(r\"M$_L$ - M$_{L, est.}$\")\n",
    "    ax[2].set_ylabel(\"Total Number\")\n",
    "\n",
    "    plt.show();"
   ]
  },
  {
   "cell_type": "code",
   "execution_count": null,
   "id": "a0dd0dba-7d7e-40f2-85d8-a7b81034dbfd",
   "metadata": {},
   "outputs": [],
   "source": [
    "x_events = range(len(data_amax_disp))\n",
    "\n",
    "hdist = np.log10(data_amax_disp.Hdistance_km)\n",
    "\n",
    "mm = data_amax_disp.Magnitude\n",
    "\n",
    "diff_z, diff_n, diff_e = mm-mm_z, mm-mm_n, mm-mm_e\n",
    "\n",
    "__makeplot_magnitude_comparison()"
   ]
  },
  {
   "cell_type": "markdown",
   "id": "3dbe640f-d692-452f-85ef-7377ab7fc229",
   "metadata": {},
   "source": [
    "## Fitting Translation Data"
   ]
  },
  {
   "cell_type": "code",
   "execution_count": null,
   "id": "7c6f0086-0eea-4f4e-906a-c7343a8c874e",
   "metadata": {},
   "outputs": [],
   "source": [
    "def __ml_fit(X, a, b ,c):\n",
    "    amax, hdist = X\n",
    "    return np.log10(amax) + a*np.log10(hdist) + b*hdist - c"
   ]
  },
  {
   "cell_type": "code",
   "execution_count": null,
   "id": "633ab1c3-3d0c-47f0-ae5f-c3e20307eeb3",
   "metadata": {},
   "outputs": [],
   "source": [
    "def __predict_local_amplitude_ml(X):\n",
    "    mag, hdist = X\n",
    "    return 10**( mag - 1.11*np.log10(hdist) - 0.00189*hdist +  2.09)"
   ]
  },
  {
   "cell_type": "code",
   "execution_count": null,
   "id": "77681eba-5843-4390-bfaf-cf3b106a5888",
   "metadata": {},
   "outputs": [],
   "source": [
    "def __predict_local_amplitude(X, a, b ,c):\n",
    "    mag, hdist = X\n",
    "    return 10**( mag - a*np.log10(hdist) - b*hdist + c )"
   ]
  },
  {
   "cell_type": "code",
   "execution_count": null,
   "id": "6d33f6af-8626-41ec-bf1b-b0cbc0ef2e24",
   "metadata": {},
   "outputs": [],
   "source": [
    "## select amplitude data\n",
    "amax_n = data_amax_disp_cosum_6.PFO_10_N_amax*1e9\n",
    "amax_e = data_amax_disp_cosum_6.PFO_10_E_amax*1e9\n",
    "\n",
    "## select hypocentral distances and magnitudes\n",
    "hdist = data_amax_disp_cosum_6.Hdistance_km\n",
    "mag = data_amax_disp_cosum_6.Magnitude\n",
    "\n",
    "## perform data fitting\n",
    "popt_n, pcov_n = curve_fit(__ml_fit, (amax_n, hdist), mag, p0=(1., 0.001, 2.))\n",
    "popt_e, pcov_e = curve_fit(__ml_fit, (amax_e, hdist), mag, p0=(1., 0.001, 2.))\n",
    "\n",
    "## output the new laws\n",
    "print(f\"\\n N_trans:   Ml = log10(Amax) + {popt_n[0]:.2f} log10(R) + {popt_n[1]:.5f} R + {popt_n[2]:.2f}\")\n",
    "print(f\"\\n E_trans:   Ml = log10(Amax) + {popt_e[0]:.2f} log10(R) + {popt_e[1]:.5f} R + {popt_e[2]:.2f}\")\n",
    "\n",
    "## generate synthetic magnitudes\n",
    "syn_data_e = __ml_fit((amax_e, hdist), popt_e[0], popt_e[1], popt_e[2])\n",
    "syn_data_n = __ml_fit((amax_n, hdist), popt_n[0], popt_n[1], popt_n[2])\n",
    "\n",
    "## compute differences of magnitudes and synthetics\n",
    "diff_syn_n = mag-syn_data_n\n",
    "diff_syn_e = mag-syn_data_e\n",
    "\n",
    "## compute synthetic maximal amplitudes\n",
    "amax_syn = __predict_local_amplitude_ml((mag, hdist))\n",
    "amax_syn_n = __predict_local_amplitude((mag, hdist), popt_n[0], popt_n[1], popt_n[2])\n",
    "amax_syn_e = __predict_local_amplitude((mag, hdist), popt_e[0], popt_e[1], popt_e[2])"
   ]
  },
  {
   "cell_type": "code",
   "execution_count": null,
   "id": "f6dc4855-2a5a-4ee2-b6f1-39ccfd4b0b58",
   "metadata": {},
   "outputs": [],
   "source": [
    "def __makeplot_magnitude_comparison2():\n",
    "\n",
    "    fig, ax = plt.subplots(2,2, figsize=(12,8))\n",
    "\n",
    "    ## ______________________________________________________________\n",
    "\n",
    "    ax[0,0].scatter(np.log10(hdist), mag, color='k', zorder=3)\n",
    "    ax[0,0].scatter(np.log10(hdist), syn_data_n, s=15, zorder=3, label=\"N\", edgecolors=\"tab:blue\", color=\"tab:blue\", alpha=0.7)\n",
    "    ax[0,0].scatter(np.log10(hdist), syn_data_e, s=15, zorder=3, label=\"E\", edgecolors=\"tab:green\", color=\"tab:green\", alpha=0.7)\n",
    "\n",
    "    ax[0,0].grid(zorder=0, alpha=0.4)\n",
    "    ax[0,0].legend(loc=4)\n",
    "\n",
    "    ax[0,0].set_xlabel(r\"log$_{10}$(R) (km)\")\n",
    "    ax[0,0].set_ylabel(\"Magnitude\")\n",
    "\n",
    "\n",
    "    ## ______________________________________________________________\n",
    "\n",
    "    ax[0,1].scatter(np.log10(amax_syn_n), mag, color='k', zorder=3)\n",
    "    ax[0,1].scatter(np.log10(amax_syn_e), mag, color='k', zorder=3)\n",
    "\n",
    "    ax[0,1].scatter(np.log10(amax_n), syn_data_n, s=15, zorder=3, label=\"N\", edgecolors=\"tab:blue\", color=\"tab:blue\", alpha=0.7)\n",
    "    ax[0,1].scatter(np.log10(amax_e), syn_data_e, s=15, zorder=3, label=\"E\", edgecolors=\"tab:green\", color=\"tab:green\", alpha=0.7)\n",
    "\n",
    "    ax[0,1].grid(zorder=0, alpha=0.4)\n",
    "    ax[0,1].legend(loc=4)\n",
    "\n",
    "    ax[0,1].set_xlabel(r\"log$_{10}$(A$_{max}$) (nm)\")\n",
    "    ax[0,1].set_ylabel(\"Magnitude\")\n",
    "\n",
    "\n",
    "    ## ______________________________________________________________\n",
    "\n",
    "    dbars = 0.5\n",
    "    bars = np.arange(0,5+dbars,dbars)\n",
    "\n",
    "    # labels, counts = np.unique(mag, return_counts=True)\n",
    "    # ax[1].bar(labels, counts, align='center', width=0.5)\n",
    "\n",
    "    ax[1,0].hist(mag, bins=int(len(bars)-1), density=False, histtype='bar', range=(min(bars), max(bars)),\n",
    "               color=\"k\", rwidth=0.9, fill=False, align=\"mid\")\n",
    "    # ax[1,1].hist(mag_z, bins=int(len(bars)-1), density=False, histtype='bar', range=(min(bars), max(bars)),\n",
    "               # color=\"tab:orange\", edgecolor=\"tab:orange\", rwidth=0.7, fill=False, align=\"mid\", label=\"Z\")\n",
    "    ax[1,0].hist(syn_data_n, bins=int(len(bars)-1), density=False, histtype='bar', range=(min(bars), max(bars)),\n",
    "               color=\"tab:blue\", edgecolor=\"tab:blue\", rwidth=0.6, fill=False, align=\"mid\", label=\"N\")\n",
    "    ax[1,0].hist(syn_data_e, bins=int(len(bars)-1), density=False, histtype='bar', range=(min(bars), max(bars)),\n",
    "               color=\"tab:green\", edgecolor=\"tab:green\", rwidth=0.2, fill=False, align=\"mid\", label=\"E\")\n",
    "    ax[1,0].set_xticks(bars)\n",
    "\n",
    "    ax[1,0].legend(loc=1)\n",
    "    ax[1,0].grid(zorder=0, alpha=0.4)\n",
    "\n",
    "    ax[1,0].set_xlabel(r\"M$_L$\")\n",
    "    ax[1,0].set_ylabel(\"Total Number\")\n",
    "\n",
    "\n",
    "    ## ______________________________________________________________\n",
    "\n",
    "\n",
    "    lim = round(max(max(abs(diff_z)), max(abs(diff_n)), max(abs(diff_e))),1)\n",
    "    dbars2 = 0.2\n",
    "    bars2 = np.arange(-lim, lim+dbars2, dbars2)\n",
    "\n",
    "    # ax[2].hist(diff_z, bins=len(bars2)-1, density=False, histtype='bar', range=(-lim, lim),\n",
    "    #            color=\"tab:orange\", edgecolor=\"tab:orange\", rwidth=1, fill=False, align=\"mid\", label=\"Z\")\n",
    "    ax[1,1].hist(diff_syn_n, bins=len(bars2)-1, density=False, histtype='bar', range=(-lim, lim),\n",
    "               color=\"tab:blue\", edgecolor=\"tab:blue\", rwidth=1, fill=False, align=\"mid\", label=\"N\")\n",
    "    ax[1,1].hist(diff_syn_e, bins=len(bars2)-1, density=False, histtype='bar', range=(-lim, lim),\n",
    "               color=\"tab:green\", edgecolor=\"tab:green\", rwidth=1, fill=False, align=\"mid\", label=\"E\")\n",
    "\n",
    "    ax[1,1].legend(loc=1)\n",
    "    ax[1,1].grid(zorder=0, alpha=0.4)\n",
    "\n",
    "    ax[1,1].set_xlabel(r\"M$_L$ - M$_{L, est.}$\")\n",
    "    ax[1,1].set_ylabel(\"Total Number\")\n",
    "\n",
    "\n",
    "\n",
    "    ml_str, log10_str, amax_str = r\"M$_L$\", r\"log$_{10}$\", r\"A$_{max}$\"\n",
    "    law1 = f\"{ml_str} = {log10_str}({amax_str}) + {popt_n[0]:.2f} {log10_str}(R) + {popt_n[1]:.5f} R + {popt_n[2]:.2f}\"\n",
    "    law2 = f\"{ml_str} = {log10_str}({amax_str}) + {popt_e[0]:.2f} {log10_str}(R) + {popt_e[1]:.5f} R + {popt_e[2]:.2f}\"\n",
    "    plt.suptitle(f\" N:  {law1}  \\nE:  {law2}\")\n",
    "\n",
    "    plt.show();\n",
    "    return fig\n",
    "\n",
    "fig = __makeplot_magnitude_comparison2()\n",
    "\n",
    "# fig.savefig(config['path_to_figs']+\"BSPF_magnitudescales_translationsNE.png\", format=\"png\", dpi=200, bbox_inches='tight')"
   ]
  },
  {
   "cell_type": "markdown",
   "id": "8863246c-91e6-4393-bdc2-d13c74edd1c5",
   "metadata": {},
   "source": [
    "## Fitting Rotation Data"
   ]
  },
  {
   "cell_type": "code",
   "execution_count": null,
   "id": "f9246ea5-bd67-4b5d-b75d-99a0243e3870",
   "metadata": {},
   "outputs": [],
   "source": [
    "## select amplitude data\n",
    "amax_n = data_amax_disp_cosum_6.BSPF__N_amax\n",
    "amax_e = data_amax_disp_cosum_6.BSPF__E_amax\n",
    "\n",
    "## select hypocentral distances and magnitudes\n",
    "hdist = data_amax_disp_cosum_6.Hdistance_km\n",
    "mag = data_amax_disp_cosum_6.Magnitude\n",
    "\n",
    "## perform data fitting\n",
    "popt_n, pcov_n = curve_fit(__ml_fit, (amax_n, hdist), mag, p0=(1., 0.001, 2.))\n",
    "popt_e, pcov_e = curve_fit(__ml_fit, (amax_e, hdist), mag, p0=(1., 0.001, 2.))\n",
    "\n",
    "## output the new laws\n",
    "print(f\"\\n N_rot:   Ml = log10(Amax) + {popt_n[0]:.2f} log10(R) + {popt_n[1]:.5f} R + {popt_n[2]:.2f}\")\n",
    "print(f\"\\n E_rot:   Ml = log10(Amax) + {popt_e[0]:.2f} log10(R) + {popt_e[1]:.5f} R + {popt_e[2]:.2f}\")\n",
    "\n",
    "## generate synthetic magnitudes\n",
    "syn_data_e = __ml_fit((amax_e, hdist), popt_e[0], popt_e[1], popt_e[2])\n",
    "syn_data_n = __ml_fit((amax_n, hdist), popt_n[0], popt_n[1], popt_n[2])\n",
    "\n",
    "## compute differences of magnitudes and synthetics\n",
    "diff_syn_n = mag-syn_data_n\n",
    "diff_syn_e = mag-syn_data_e\n",
    "\n",
    "\n",
    "## compute synthetic maximal amplitudes\n",
    "amax_syn = __predict_local_amplitude_ml((mag, hdist))\n",
    "amax_syn_n = __predict_local_amplitude((mag, hdist), popt_n[0], popt_n[1], popt_n[2])\n",
    "amax_syn_e = __predict_local_amplitude((mag, hdist), popt_e[0], popt_e[1], popt_e[2])"
   ]
  },
  {
   "cell_type": "code",
   "execution_count": null,
   "id": "a16bb72d-0612-4134-be50-578cc657b7ff",
   "metadata": {},
   "outputs": [],
   "source": [
    "def __makeplot_magnitude_comparison3():\n",
    "\n",
    "    fig, ax = plt.subplots(2,2, figsize=(12,7))\n",
    "\n",
    "    ## ______________________________________________________________\n",
    "\n",
    "    ax[0,0].scatter(np.log10(hdist), mag, zorder=3, color=\"black\")\n",
    "    ax[0,0].scatter(np.log10(hdist), syn_data_n, s=15, zorder=3, label=\"N\", edgecolors=\"tab:blue\", color=\"tab:blue\", alpha=0.8)\n",
    "    ax[0,0].scatter(np.log10(hdist), syn_data_e, s=15, zorder=3, label=\"E\", edgecolors=\"tab:green\", color=\"tab:green\", alpha=0.8)\n",
    "\n",
    "    ax[0,0].grid(zorder=0, alpha=0.4)\n",
    "    ax[0,0].legend(loc=4)\n",
    "\n",
    "    ax[0,0].set_xlabel(r\"log$_{10}$( R ) (km)\")\n",
    "    ax[0,0].set_ylabel(\"Magnitude\")\n",
    "\n",
    "\n",
    "    ## ______________________________________________________________\n",
    "\n",
    "    ax[0,1].scatter(np.log10(amax_syn_n), mag, color='k', zorder=3)\n",
    "    ax[0,1].scatter(np.log10(amax_syn_e), mag, color='k', zorder=3)\n",
    "\n",
    "    ax[0,1].scatter(np.log10(amax_n), syn_data_n, s=15, zorder=3, label=\"N\", edgecolors=\"tab:blue\", color=\"tab:blue\", alpha=0.8)\n",
    "    ax[0,1].scatter(np.log10(amax_e), syn_data_e, s=15, zorder=3, label=\"E\", edgecolors=\"tab:green\", color=\"tab:green\", alpha=0.8)\n",
    "\n",
    "    ax[0,1].grid(zorder=0, alpha=0.4)\n",
    "    ax[0,1].legend(loc=4)\n",
    "\n",
    "    ax[0,1].set_xlabel(r\"log$_{10}$( A$_{max}$ ) (rad/s)\")\n",
    "    ax[0,1].set_ylabel(\"Magnitude\")\n",
    "\n",
    "\n",
    "    ## ______________________________________________________________\n",
    "\n",
    "    dbars = 0.5\n",
    "    bars = np.arange(0,5+dbars,dbars)\n",
    "\n",
    "    # labels, counts = np.unique(mag, return_counts=True)\n",
    "    # ax[1].bar(labels, counts, align='center', width=0.5)\n",
    "\n",
    "    ax[1,0].hist(mag, bins=int(len(bars)-1), density=False, histtype='bar', range=(min(bars), max(bars)),\n",
    "               color=\"k\", rwidth=0.9, fill=False, align=\"mid\")\n",
    "    # ax[1,0].hist(mag_z, bins=int(len(bars)-1), density=False, histtype='bar', range=(min(bars), max(bars)),\n",
    "               # color=\"tab:orange\", edgecolor=\"tab:orange\", rwidth=0.7, fill=False, align=\"mid\", label=\"Z\")\n",
    "    ax[1,0].hist(syn_data_n, bins=int(len(bars)-1), density=False, histtype='bar', range=(min(bars), max(bars)),\n",
    "               color=\"tab:blue\", edgecolor=\"tab:blue\", rwidth=0.6, fill=False, align=\"mid\", label=\"N\")\n",
    "    ax[1,0].hist(syn_data_e, bins=int(len(bars)-1), density=False, histtype='bar', range=(min(bars), max(bars)),\n",
    "               color=\"tab:green\", edgecolor=\"tab:green\", rwidth=0.2, fill=False, align=\"mid\", label=\"E\")\n",
    "    ax[1,0].set_xticks(bars)\n",
    "    # ax[1,0].set_xticks(bars+dbars/2)\n",
    "    # ax[1,0].set_xticklabels([f\"{b}-{b+dbars}\" for b in bars], rotation=60)\n",
    "\n",
    "    ax[1,0].legend(loc=1)\n",
    "    ax[1,0].grid(zorder=0, alpha=0.4)\n",
    "\n",
    "    ax[1,0].set_xlabel(r\"M$_L$\")\n",
    "    ax[1,0].set_ylabel(\"Total Number\")\n",
    "\n",
    "\n",
    "    ## ______________________________________________________________\n",
    "\n",
    "    lim = round(max(max(abs(diff_z)), max(abs(diff_n)), max(abs(diff_e))),1)\n",
    "    dbars2 = 0.2\n",
    "    bars2 = np.arange(-lim, lim+dbars2, dbars2)\n",
    "    # ax[1,1].hist(diff_z, bins=len(bars2)-1, density=False, histtype='bar', range=(-lim, lim),\n",
    "    #            color=\"tab:orange\", edgecolor=\"tab:orange\", rwidth=1, fill=False, align=\"mid\", label=\"Z\")\n",
    "    ax[1,1].hist(diff_syn_n, bins=len(bars2)-1, density=False, histtype='bar', range=(-lim, lim),\n",
    "               color=\"tab:blue\", edgecolor=\"tab:blue\", rwidth=1, fill=False, align=\"mid\", label=\"N\")\n",
    "    ax[1,1].hist(diff_syn_e, bins=len(bars2)-1, density=False, histtype='bar', range=(-lim, lim),\n",
    "               color=\"tab:green\", edgecolor=\"tab:green\", rwidth=1, fill=False, align=\"mid\", label=\"E\")\n",
    "\n",
    "    ax[1,1].legend(loc=1)\n",
    "    ax[1,1].grid(zorder=0, alpha=0.4)\n",
    "\n",
    "    ax[1,1].set_xlabel(r\"M$_L$ - M$_{L, est.}$\")\n",
    "    ax[1,1].set_ylabel(\"Total Number\")\n",
    "\n",
    "\n",
    "    ml_str, log10_str, amax_str = r\"M$_L$\", r\"log$_{10}$\", r\"A$_{max}$\"\n",
    "    law1 = f\"{ml_str} = {log10_str}({amax_str}) + {popt_n[0]:.2f} {log10_str}(R) + {popt_n[1]:.5f} R + {popt_n[2]:.2f}\"\n",
    "    law2 = f\"{ml_str} = {log10_str}({amax_str}) + {popt_e[0]:.2f} {log10_str}(R) + {popt_e[1]:.5f} R + {popt_e[2]:.2f}\"\n",
    "    plt.suptitle(f\" N:  {law1}  \\nE:  {law2}\")\n",
    "\n",
    "    plt.show();\n",
    "    return fig\n",
    "\n",
    "fig = __makeplot_magnitude_comparison3()\n",
    "\n",
    "# fig.savefig(config['path_to_figs']+\"BSPF_magnitudescales_rotationsNE.png\", format=\"png\", dpi=200, bbox_inches='tight')"
   ]
  },
  {
   "cell_type": "markdown",
   "id": "651240f8-084a-4d4e-8cb6-66940f37d06d",
   "metadata": {},
   "source": [
    "## Test "
   ]
  },
  {
   "cell_type": "code",
   "execution_count": null,
   "id": "7622939d-5542-4ab8-8e65-b797b607797a",
   "metadata": {},
   "outputs": [],
   "source": [
    "## select amplitude data\n",
    "amax = data_amax_disp_cosum_6.BSPF__N_amax\n",
    "amax = np.append(amax, data_amax_disp_cosum_6.BSPF__E_amax)\n",
    "\n",
    "## select hypocentral distances and magnitudes\n",
    "hdist = data_amax_disp_cosum_6.Hdistance_km\n",
    "hdist = np.append(hdist, data_amax_disp_cosum_6.Hdistance_km)\n",
    "\n",
    "mag = data_amax_disp_cosum_6.Magnitude\n",
    "mag = np.append(mag, data_amax_disp_cosum_6.Magnitude)\n",
    "\n",
    "## perform data fitting\n",
    "popt, pcov = curve_fit(__ml_fit, (amax, hdist), mag, p0=(1., 0.001, 2.))\n",
    "\n",
    "## output the new laws\n",
    "print(f\"\\n rot:   Ml = log10(Amax) + {popt[0]:.2f} log10(R) + {popt[1]:.5f} R + {popt[2]:.2f}\")\n",
    "\n",
    "## generate synthetic magnitudes\n",
    "syn_data = __ml_fit((amax, hdist), popt[0], popt[1], popt[2])\n",
    "\n",
    "## compute differences of magnitudes and synthetics\n",
    "diff_syn = mag-syn_data\n",
    "\n",
    "## compute synthetic maximal amplitudes\n",
    "# amax_syn = __predict_local_amplitude_ml((mag, hdist))\n",
    "amax_syn = __predict_local_amplitude((mag, hdist), popt[0], popt[1], popt[2])\n"
   ]
  },
  {
   "cell_type": "code",
   "execution_count": null,
   "id": "5c368649-58a6-415d-bdf6-213310333978",
   "metadata": {},
   "outputs": [],
   "source": [
    "def __makeplot_magnitude_comparison4():\n",
    "\n",
    "    fig, ax = plt.subplots(2,2, figsize=(12,7))\n",
    "\n",
    "    ## ______________________________________________________________\n",
    "\n",
    "    ax[0,0].scatter(np.log10(hdist), mag, color='k', zorder=3)\n",
    "    ax[0,0].scatter(np.log10(hdist), syn_data, s=15, zorder=3, label=\"N+E\", edgecolors=\"tab:blue\", color=\"tab:blue\", alpha=0.7)\n",
    "\n",
    "    ax[0,0].grid(zorder=0, alpha=0.4)\n",
    "    ax[0,0].legend(loc=4)\n",
    "\n",
    "    ax[0,0].set_xlabel(r\"log$_{10}$( R ) (km)\")\n",
    "    ax[0,0].set_ylabel(\"Magnitude\")\n",
    "\n",
    "    ## ______________________________________________________________\n",
    "\n",
    "    ax[0,1].scatter(np.log10(amax_syn), mag, color='k', zorder=3)\n",
    "    ax[0,1].scatter(np.log10(amax), syn_data, s=15, zorder=3, label=\"N+E\", edgecolors=\"tab:blue\", color=\"tab:blue\", alpha=0.7)\n",
    "\n",
    "    ax[0,1].grid(zorder=0, alpha=0.4)\n",
    "    ax[0,1].legend(loc=4)\n",
    "\n",
    "    ax[0,1].set_xlabel(r\"log$_{10}$( A$_{max}$ ) (rad/s)\")\n",
    "    ax[0,1].set_ylabel(\"Magnitude\")\n",
    "\n",
    "    ## ______________________________________________________________\n",
    "\n",
    "    dbars = 0.5\n",
    "    bars = np.arange(0,5+dbars,dbars)\n",
    "\n",
    "    # labels, counts = np.unique(mag, return_counts=True)\n",
    "    # ax[1].bar(labels, counts, align='center', width=0.5)\n",
    "\n",
    "    ax[1,0].hist(mag, bins=int(len(bars)-1), density=False, histtype='bar', range=(min(bars), max(bars)),\n",
    "               color=\"k\", rwidth=0.9, fill=False, align=\"mid\")\n",
    "\n",
    "    ax[1,0].hist(syn_data, bins=int(len(bars)-1), density=False, histtype='bar', range=(min(bars), max(bars)),\n",
    "               color=\"tab:blue\", edgecolor=\"tab:blue\", rwidth=0.6, fill=False, align=\"mid\", label=\"N+E\")\n",
    "\n",
    "    ax[1,0].set_xticks(bars)\n",
    "\n",
    "    ax[1,0].legend(loc=1)\n",
    "    ax[1,0].grid(zorder=0, alpha=0.4)\n",
    "\n",
    "    ax[1,0].set_xlabel(r\"M$_L$\")\n",
    "    ax[1,0].set_ylabel(\"Total Number\")\n",
    "\n",
    "\n",
    "    ## ______________________________________________________________\n",
    "\n",
    "    lim = round(max(max(abs(diff_z)), max(abs(diff_n)), max(abs(diff_e))),1)\n",
    "    dbars2 = 0.2\n",
    "    bars2 = np.arange(-lim, lim+dbars2, dbars2)\n",
    "\n",
    "    ax[1,1].hist(diff_syn, bins=len(bars2)-1, density=False, histtype='bar', range=(-lim, lim),\n",
    "               color=\"tab:blue\", edgecolor=\"tab:blue\", rwidth=1, fill=False, align=\"mid\", label=\"N+E\")\n",
    "\n",
    "\n",
    "    ax[1,1].legend(loc=1)\n",
    "    ax[1,1].grid(zorder=0, alpha=0.4)\n",
    "\n",
    "    ax[1,1].set_xlabel(r\"M$_L$ - M$_{L, est.}$\")\n",
    "    ax[1,1].set_ylabel(\"Total Number\")\n",
    "\n",
    "    ml_str, log10_str, amax_str = r\"M$_L$\", r\"log$_{10}$\", r\"A$_{max}$\"\n",
    "    plt.suptitle(f\" {ml_str} = {log10_str}({amax_str}) + {popt[0]:.2f} {log10_str}(R) + {popt[1]:.5f} R + {popt[2]:.2f}\", y=0.94)\n",
    "\n",
    "    plt.show();\n",
    "    return fig\n",
    "\n",
    "fig = __makeplot_magnitude_comparison4()\n",
    "\n",
    "# fig.savefig(config['path_to_figs']+\"BSPF_magnitudescales_modelallrotations.png\", format=\"png\", dpi=200, bbox_inches='tight')"
   ]
  },
  {
   "cell_type": "markdown",
   "id": "3b6023ee-79fc-4812-94e7-d28352546d9f",
   "metadata": {},
   "source": [
    "## Minimal Amplitude"
   ]
  },
  {
   "cell_type": "code",
   "execution_count": null,
   "id": "11e0d897-3f80-4c33-928c-a173c1b6ab6b",
   "metadata": {},
   "outputs": [],
   "source": [
    "def __predict_local_magnitude(X, a, b ,c):\n",
    "    amp, hdist = X\n",
    "    return np.log10(amp) + a*np.log10(hdist) + b*hdist - c"
   ]
  },
  {
   "cell_type": "code",
   "execution_count": null,
   "id": "826299bd-21c2-4875-97fc-540f8cf59800",
   "metadata": {},
   "outputs": [],
   "source": []
  },
  {
   "cell_type": "code",
   "execution_count": null,
   "id": "55443b85-f117-4fd9-b60b-bacee38699ce",
   "metadata": {},
   "outputs": [],
   "source": [
    "min_amp_rot = 10e-7  # rad/s\n",
    "\n",
    "a, b, c = 1.91, 0.00229, -5.05\n",
    "\n",
    "hdist = np.arange(1, 200, 1)\n",
    "mag = np.arange(0, 6.0, 0.1)\n",
    "\n",
    "amax_syn = np.zeros((len(hdist), len(mag)))\n",
    "\n",
    "for i, h in enumerate(hdist):\n",
    "    for j, m in enumerate(mag):\n",
    "        amax_syn[i,j] = __predict_local_amplitude((m, h), a, b, c)\n"
   ]
  },
  {
   "cell_type": "code",
   "execution_count": null,
   "id": "d33cdfb0-d286-46d4-8f51-05d86bbdd9a5",
   "metadata": {},
   "outputs": [],
   "source": [
    "bspf_e = data_amax_disp_cosum_6.BSPF__E_amax\n",
    "bspf_n = data_amax_disp_cosum_6.BSPF__N_amax\n",
    "\n",
    "bspf_mag = data_amax_disp_cosum_6.Magnitude\n",
    "bspf_hdist = data_amax_disp_cosum_6.Hdistance_km\n",
    "\n",
    "limit = 1e-7  ## rad/s\n",
    "mag_limit = __predict_local_magnitude((limit, hdist), popt_n[0], popt_n[1], popt_n[2])"
   ]
  },
  {
   "cell_type": "code",
   "execution_count": null,
   "id": "59c6cd19-9028-4d59-aaf7-a02f2c51c9da",
   "metadata": {},
   "outputs": [],
   "source": [
    "def __makeplot():\n",
    "\n",
    "    fig, ax = plt.subplots(1,2, figsize=(15,5))\n",
    "\n",
    "    import matplotlib as mpl\n",
    "    from matplotlib.ticker import LogFormatterExponent # <-- one new import here\n",
    "\n",
    "    cmap = mpl.colormaps['viridis'].resampled(11)\n",
    "    cmap = mpl.colormaps['rainbow'].resampled(11)\n",
    "\n",
    "    amin, amax = min(amax_syn.reshape(1, amax_syn.size)[0]), max(amax_syn.reshape(1, amax_syn.size)[0])\n",
    "\n",
    "    lev = np.logspace(round(np.log10(amin),0),round(np.log10(amax),0), 10)\n",
    "    lev = np.logspace(-10,1, 12)\n",
    "    lev_lbl = np.linspace(-10, 1, 12).astype(int)\n",
    "\n",
    "    ax[0].scatter(bspf_mag, bspf_hdist, c=bspf_e, s=40, cmap=cmap, edgecolors=\"white\", lw=0.5, zorder=3, norm=mpl.colors.LogNorm(vmin=amin, vmax=amax))\n",
    "    cb0 = ax[0].contourf(mag, hdist, amax_syn, cmap=cmap, norm=mpl.colors.LogNorm(vmin=amin, vmax=amax), levels=lev)\n",
    "\n",
    "\n",
    "    cb1 = ax[1].scatter(bspf_mag, bspf_hdist, c=bspf_n, s=40, cmap=cmap, edgecolors=\"white\", lw=0.5, zorder=3, norm=mpl.colors.LogNorm(vmin=amin, vmax=amax))\n",
    "    ax[1].contourf(mag, hdist, amax_syn, cmap=cmap, norm=mpl.colors.LogNorm(vmin=amin, vmax=amax), levels=lev)\n",
    "\n",
    "    ax[0].plot(mag_limit, hdist, color=\"tab:red\")\n",
    "    ax[1].plot(mag_limit, hdist, color=\"tab:red\")\n",
    "\n",
    "    ax[0].set_xlim(left=0)\n",
    "    ax[1].set_xlim(left=0)\n",
    "\n",
    "    cbar0 = plt.colorbar(cb0, ax=ax)\n",
    "    cbar0.set_ticklabels(lev_lbl)\n",
    "    cbar0.set_label(\"log. Amplitude (rad/s)\", labelpad=-60)\n",
    "\n",
    "    ax[0].set_xlabel(\"Magnitude\")\n",
    "    ax[0].set_ylabel(\"Hypocentral Distance (km)\")\n",
    "\n",
    "    ax[1].set_xlabel(\"Magnitude\")\n",
    "    ax[1].set_ylabel(\"Hypocentral Distance (km)\")\n",
    "\n",
    "    ax[0].set_title(\"BSPF-E\")\n",
    "    ax[1].set_title(\"BSPF-N\")\n",
    "\n",
    "    plt.show();\n",
    "    return fig\n",
    "\n",
    "fig = __makeplot();\n",
    "\n",
    "# fig.savefig(config['path_to_figs']+\"BSPF_model_magnitudescale.png\", format=\"png\", dpi=200, bbox_inches='tight')"
   ]
  },
  {
   "cell_type": "code",
   "execution_count": null,
   "id": "65099583-8876-4ad2-be80-eaa301bdeff6",
   "metadata": {},
   "outputs": [],
   "source": []
  },
  {
   "cell_type": "markdown",
   "id": "4868bc4f",
   "metadata": {},
   "source": [
    "## Polar Plot"
   ]
  },
  {
   "cell_type": "code",
   "execution_count": null,
   "id": "3dcf9eba-f234-410e-8e05-089912560c69",
   "metadata": {
    "ExecuteTime": {
     "end_time": "2023-08-07T09:56:15.789426Z",
     "start_time": "2023-08-07T09:56:15.610530Z"
    },
    "code_folding": [
     0
    ]
   },
   "outputs": [],
   "source": [
    "def __polar_plot(data1, data2, data0):\n",
    "\n",
    "    r2 = data2.Edistance_km\n",
    "    theta2 = np.radians(data2.BAZ)\n",
    "\n",
    "    fig, ax = plt.subplots(subplot_kw={'projection': 'polar'}, figsize=(8,8))\n",
    "\n",
    "    ax.set_theta_offset(np.pi/2)\n",
    "    ax.set_theta_direction(-1)\n",
    "\n",
    "\n",
    "    r1 = data0.edist_km\n",
    "    theta0 = np.radians(data0.baz_theo)\n",
    "    ax.scatter(theta0, r1, s=40, c=\"darkgrey\", lw=0.5, edgecolors=\"k\", zorder=2, alpha=0.2)\n",
    "\n",
    "\n",
    "    ax.scatter(theta2, r2, s=5**data2.Magnitude, c=data2.BSPF__E_amax ,lw=0.5, edgecolors=\"k\", zorder=3)\n",
    "\n",
    "    ## station\n",
    "    ax.scatter(0, 0, zorder=3, s=100, marker='^', c=\"r\", lw=0.8, edgecolors=\"k\")\n",
    "\n",
    "#     ax.set_rmax(2)\n",
    "\n",
    "#     ax.set_rticks([0.5, 1, 1.5, 2])  # Less radial ticks\n",
    "    ax.set_rlabel_position(-22.5)  # Move radial labels away from plotted line\n",
    "    ax.grid(True, zorder=0)\n",
    "\n",
    "    ax.set_title(\"\", va='bottom')\n",
    "    plt.show()"
   ]
  },
  {
   "cell_type": "code",
   "execution_count": null,
   "id": "380b2f0b-dc11-4cbc-b14f-6a284f2bb808",
   "metadata": {
    "ExecuteTime": {
     "end_time": "2023-08-07T09:56:15.789426Z",
     "start_time": "2023-08-07T09:56:15.610530Z"
    },
    "code_folding": [
     0
    ]
   },
   "outputs": [],
   "source": [
    "__polar_plot(data_amax_disp_cosum_6, data_amax_disp_cosum_6, data_baz)"
   ]
  },
  {
   "cell_type": "code",
   "execution_count": null,
   "id": "1b628615-3bd6-4e4a-bcc1-3d1133511cf5",
   "metadata": {},
   "outputs": [],
   "source": [
    "data_baz = pd.read_pickle(config['path_to_data']+\"bspf_baz_estimates.pkl\")\n",
    "data_baz_adr = pd.read_pickle(config['path_to_data']+\"iadr_baz_estimates.pkl\")"
   ]
  },
  {
   "cell_type": "code",
   "execution_count": null,
   "id": "cdfee8d5-d2ec-4d4a-ba91-616a0d073b30",
   "metadata": {},
   "outputs": [],
   "source": [
    "x = np.arange(1,len(data_baz.event_time)+1)\n",
    "\n",
    "plt.figure(figsize=(15,5))\n",
    "plt.scatter(x, data_baz.baz_theo, c=\"k\", zorder=3, label=\"Baz. theo.\")\n",
    "\n",
    "plt.scatter(x-0.1, data_baz.baz_mean, s=data_baz.samples+5, c=\"tab:red\", zorder=3, edgecolors=\"k\")\n",
    "plt.errorbar(x-0.1, data_baz.baz_mean, yerr=data_baz.baz_std, ms=0, capsize=7, fmt=\"o\", c=\"tab:red\", zorder=2, label=\"Baz. mean (BSPF)\")\n",
    "\n",
    "plt.scatter(x+0.1, data_baz_adr.baz_mean, s=data_baz_adr.samples+5, c=\"tab:blue\", zorder=3, edgecolors=\"k\")\n",
    "plt.errorbar(x+0.1, data_baz_adr.baz_mean, yerr=data_baz_adr.baz_std, ms=0, capsize=7, fmt=\"o\", c=\"tab:blue\", zorder=2, label=\"Baz. mean (ADR)\")\n",
    "\n",
    "plt.xticks(np.arange(0,18))\n",
    "plt.yticks(np.arange(0,390,30))\n",
    "plt.ylim(0, 360)\n",
    "\n",
    "plt.xlabel(\"Event No.\")\n",
    "plt.ylabel(\"Backazimuth (°)\")\n",
    "plt.legend(loc=3)\n",
    "plt.grid(alpha=0.5, zorder=-1, axis=\"y\")\n",
    "\n",
    "plt.show();\n",
    "\n",
    "fig.savefig(config['path_to_figs']+\"backazimuth_for_BSPF_and_ADR.png\", format=\"png\", dpi=200, bbox_inches='tight');"
   ]
  },
  {
   "cell_type": "code",
   "execution_count": null,
   "id": "fae52116-a430-4306-ab94-2fcd71af20fb",
   "metadata": {},
   "outputs": [],
   "source": [
    "def __polar_plot2(data1):\n",
    "\n",
    "    r1 = data1.edist_km\n",
    "\n",
    "    theta1 = np.radians(data1.baz_mean)\n",
    "    theta2 = np.radians(data1.baz_theo)\n",
    "\n",
    "    err = data1.baz_std\n",
    "\n",
    "    fig, ax = plt.subplots(subplot_kw={'projection': 'polar'}, figsize=(8,8))\n",
    "\n",
    "    ax.set_theta_offset(np.pi/2)\n",
    "    ax.set_theta_direction(-1)\n",
    "\n",
    "    m1 = ax.scatter(theta1, r1, s=40, c=\"tab:red\", marker=\"o\", lw=0.5, edgecolors=\"k\", zorder=3)\n",
    "    m1.set_facecolor('none')\n",
    "\n",
    "    ax.scatter(theta2, r1, s=40, c=\"darkgrey\", lw=0.5, edgecolors=\"k\", zorder=2)\n",
    "\n",
    "    for i in range(len(r1)):\n",
    "        ax.plot([theta1[i], theta2[i]], [r1[i], r1[i]], c=\"k\", zorder=1, alpha=0.5, ls=\":\")\n",
    "\n",
    "    # ax.bar(theta1, r1, width=err/200, bottom=0.0, color=\"b\", alpha=0.5)\n",
    "    ax.errorbar(theta1, r1, xerr=err/100, yerr=None, capsize=7, fmt=\"o\", c=\"tab:red\")\n",
    "\n",
    "    ## station\n",
    "    ax.scatter(0, 0, zorder=3, s=100, marker='^', c=\"r\", lw=0.8, edgecolors=\"k\")\n",
    "\n",
    "#     ax.set_rmax(2)\n",
    "\n",
    "#     ax.set_rticks([0.5, 1, 1.5, 2])  # Less radial ticks\n",
    "    ax.set_rlabel_position(-22.5)  # Move radial labels away from plotted line\n",
    "    ax.grid(True, zorder=0)\n",
    "\n",
    "    ax.set_title(\"\", va='bottom')\n",
    "    plt.show()"
   ]
  },
  {
   "cell_type": "code",
   "execution_count": null,
   "id": "077642fa-d305-4684-91bc-b6427bb72136",
   "metadata": {},
   "outputs": [],
   "source": [
    "__polar_plot2(data_baz)"
   ]
  },
  {
   "cell_type": "code",
   "execution_count": null,
   "id": "2ea0e2c4-ac4b-4006-9698-46e0eade4646",
   "metadata": {},
   "outputs": [],
   "source": [
    "data_baz"
   ]
  },
  {
   "cell_type": "code",
   "execution_count": null,
   "id": "7bdb18f0",
   "metadata": {
    "ExecuteTime": {
     "end_time": "2023-07-31T10:18:34.112916Z",
     "start_time": "2023-07-31T10:18:33.000234Z"
    }
   },
   "outputs": [],
   "source": []
  },
  {
   "cell_type": "code",
   "execution_count": null,
   "id": "5dede2a0",
   "metadata": {},
   "outputs": [],
   "source": []
  }
 ],
 "metadata": {
  "kernelspec": {
   "display_name": "Python 3 (ipykernel)",
   "language": "python",
   "name": "python3"
  },
  "language_info": {
   "codemirror_mode": {
    "name": "ipython",
    "version": 3
   },
   "file_extension": ".py",
   "mimetype": "text/x-python",
   "name": "python",
   "nbconvert_exporter": "python",
   "pygments_lexer": "ipython3",
   "version": "3.10.12"
  },
  "toc": {
   "base_numbering": 1,
   "nav_menu": {},
   "number_sections": true,
   "sideBar": true,
   "skip_h1_title": false,
   "title_cell": "Table of Contents",
   "title_sidebar": "Contents",
   "toc_cell": false,
   "toc_position": {},
   "toc_section_display": true,
   "toc_window_display": false
  },
  "varInspector": {
   "cols": {
    "lenName": 16,
    "lenType": 16,
    "lenVar": 40
   },
   "kernels_config": {
    "python": {
     "delete_cmd_postfix": "",
     "delete_cmd_prefix": "del ",
     "library": "var_list.py",
     "varRefreshCmd": "print(var_dic_list())"
    },
    "r": {
     "delete_cmd_postfix": ") ",
     "delete_cmd_prefix": "rm(",
     "library": "var_list.r",
     "varRefreshCmd": "cat(var_dic_list()) "
    }
   },
   "types_to_exclude": [
    "module",
    "function",
    "builtin_function_or_method",
    "instance",
    "_Feature"
   ],
   "window_display": false
  }
 },
 "nbformat": 4,
 "nbformat_minor": 5
}
