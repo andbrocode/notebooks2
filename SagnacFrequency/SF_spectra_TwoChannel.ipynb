{
 "cells": [
  {
   "cell_type": "markdown",
   "id": "22f5c8c9",
   "metadata": {
    "ExecuteTime": {
     "end_time": "2022-10-28T13:00:52.763484Z",
     "start_time": "2022-10-28T13:00:52.761516Z"
    }
   },
   "source": [
    "## Compute Sagnac Frequency - Spectra - Two Channel"
   ]
  },
  {
   "cell_type": "markdown",
   "id": "185b1a0b",
   "metadata": {},
   "source": [
    "## Imports"
   ]
  },
  {
   "cell_type": "code",
   "execution_count": 1,
   "id": "818caf4c",
   "metadata": {
    "ExecuteTime": {
     "end_time": "2023-06-27T08:11:10.277643Z",
     "start_time": "2023-06-27T08:11:08.781535Z"
    },
    "tags": []
   },
   "outputs": [],
   "source": [
    "import os\n",
    "import matplotlib.pyplot as plt\n",
    "\n",
    "from datetime import datetime, date\n",
    "from pandas import DataFrame, read_pickle, date_range, concat, read_csv\n",
    "from obspy import UTCDateTime, read_inventory\n",
    "from numpy import log10\n",
    "\n",
    "from andbro__read_sds import __read_sds\n",
    "\n",
    "from functions.get_fft import __get_fft\n",
    "from functions.to_dB import __to_dB\n",
    "\n",
    "# from matplotlib import rc\n",
    "# rc('text', usetex=True)\n"
   ]
  },
  {
   "cell_type": "code",
   "execution_count": 2,
   "id": "b83c9987",
   "metadata": {
    "ExecuteTime": {
     "end_time": "2023-06-27T08:11:10.288084Z",
     "start_time": "2023-06-27T08:11:10.284752Z"
    },
    "tags": []
   },
   "outputs": [],
   "source": [
    "if os.uname().nodename == 'lighthouse':\n",
    "    root_path = '/home/andbro/'\n",
    "    data_path = '/home/andbro/kilauea-data/'\n",
    "    archive_path = '/home/andbro/freenas/'\n",
    "    bay_path = '/home/andbro/bay200/'\n",
    "elif os.uname().nodename == 'kilauea':\n",
    "    root_path = '/home/brotzer/'\n",
    "    data_path = '/import/kilauea-data/'\n",
    "    archive_path = '/import/freenas-ffb-01-data/'\n",
    "    bay_path = '/bay200/'\n",
    "elif os.uname().nodename == 'lin-ffb-01':\n",
    "    root_path = '/home/brotzer/'\n",
    "    data_path = '/import/kilauea-data/'\n",
    "    archive_path = '/import/freenas-ffb-01-data/'\n",
    "    bay_path = '/bay200/'"
   ]
  },
  {
   "cell_type": "code",
   "execution_count": 3,
   "id": "c01ebdf7-a4bf-43db-ba9a-798c4b8c44a4",
   "metadata": {
    "tags": []
   },
   "outputs": [],
   "source": [
    "from functions.compute_psd_array import __compute_psd_array"
   ]
  },
  {
   "cell_type": "code",
   "execution_count": 4,
   "id": "def1625c-1a0a-4e99-98aa-7c513ce27f7c",
   "metadata": {
    "tags": []
   },
   "outputs": [],
   "source": [
    "def __compute_psd(st0, twin_sec=60, spec=\"PSD\"):\n",
    "\n",
    "    from scipy.signal import welch\n",
    "    from scipy.signal import get_window\n",
    "\n",
    "    _st = st0.copy()\n",
    "\n",
    "    _st.sort(keys=['channel'], reverse=True)\n",
    "\n",
    "    nblock = int(_st[0].stats.sampling_rate * twin_sec)\n",
    "    overlap = int(0.5*nblock)\n",
    "    win = get_window('hann', nblock, True)\n",
    "\n",
    "    Pxxs, ffs, chs = [], [], []\n",
    "\n",
    "    for i, tr in enumerate(_st):\n",
    "        if spec.upper() == \"PSD\":\n",
    "            ff, Pxx = welch(tr.data,\n",
    "                            fs=tr.stats.sampling_rate,\n",
    "                            window=win,\n",
    "                            noverlap=overlap,\n",
    "                            nfft=nblock,\n",
    "                            scaling=\"density\",\n",
    "                            return_onesided=True)\n",
    "\n",
    "        elif spec.upper() == \"FFT\":\n",
    "            Pxx, ff, ph = __get_fft(tr.data, tr.stats.delta)\n",
    "\n",
    "        ffs.append(ff)\n",
    "        chs.append(tr.stats.channel)\n",
    "        Pxxs.append(Pxx)\n",
    "\n",
    "    out = {}\n",
    "    out['Pxxs'] = Pxxs\n",
    "    out['ffs'] = ffs\n",
    "    out['chs'] = chs\n",
    "\n",
    "    return out"
   ]
  },
  {
   "cell_type": "markdown",
   "id": "ec2578ab",
   "metadata": {},
   "source": [
    "## Configurations"
   ]
  },
  {
   "cell_type": "code",
   "execution_count": 5,
   "id": "ba83e3e7",
   "metadata": {
    "ExecuteTime": {
     "end_time": "2023-06-27T08:11:13.008382Z",
     "start_time": "2023-06-27T08:11:13.002517Z"
    },
    "tags": []
   },
   "outputs": [
    {
     "ename": "SyntaxError",
     "evalue": "'(' was never closed (238701942.py, line 51)",
     "output_type": "error",
     "traceback": [
      "\u001b[0;36m  Cell \u001b[0;32mIn[5], line 51\u001b[0;36m\u001b[0m\n\u001b[0;31m    config['tend'] = UTCDateTime(\"2024-05-22 21:00\"\u001b[0m\n\u001b[0m                                ^\u001b[0m\n\u001b[0;31mSyntaxError\u001b[0m\u001b[0;31m:\u001b[0m '(' was never closed\n"
     ]
    }
   ],
   "source": [
    "config = {}\n",
    "\n",
    "\n",
    "config['seeds'] = [\"BW.DROMY..FJV\", \"BW.DROMY..FJW\"]\n",
    "\n",
    "config['path_to_sds'] = archive_path+\"romy_archive/\"\n",
    "\n",
    "config['tbeg'] = UTCDateTime(\"2023-10-23 23:30\")\n",
    "config['tend'] = UTCDateTime(\"2023-10-23 23:50\")\n",
    "\n",
    "## 10min with local signal\n",
    "config['tbeg'] = UTCDateTime(\"2023-10-27 00:00\")\n",
    "config['tend'] = UTCDateTime(\"2023-10-27 00:10\")\n",
    "\n",
    "## 10min noise only\n",
    "# config['tbeg'] = UTCDateTime(\"2023-10-27 16:45\")\n",
    "# config['tend'] = UTCDateTime(\"2023-10-27 16:55\")\n",
    "\n",
    "## only RV running (RZ transmitter off)\n",
    "config['tbeg'] = UTCDateTime(\"2023-11-09 14:00\")\n",
    "config['tend'] = UTCDateTime(\"2023-11-09 14:10\")\n",
    "\n",
    "## RZ und RV transmitter on, MLTI on RZ\n",
    "# config['tbeg'] = UTCDateTime(\"2023-11-09 16:00\")\n",
    "# config['tend'] = UTCDateTime(\"2023-11-09 16:10\")\n",
    "\n",
    "## RZ und RV transmitter on\n",
    "# config['tbeg'] = UTCDateTime(\"2023-11-10 12:55\")\n",
    "# config['tend'] = UTCDateTime(\"2023-11-10 13:05\")\n",
    "\n",
    "## RV and RW comparable sine\n",
    "config['tbeg'] = UTCDateTime(\"2023-11-17 00:00\")\n",
    "config['tend'] = UTCDateTime(\"2023-11-17 00:10\")\n",
    "\n",
    "## RV interference and RW off (loose cable)\n",
    "config['tbeg'] = UTCDateTime(\"2024-04-19 00:00\")\n",
    "config['tend'] = UTCDateTime(\"2024-04-19 00:10\")\n",
    "\n",
    "## RV new excitation and RW off (with 50Ohm) with oszi\n",
    "config['tbeg'] = UTCDateTime(\"2024-05-03 00:00\")\n",
    "config['tend'] = UTCDateTime(\"2024-05-03 00:10\")\n",
    "\n",
    "## RV new excitation and RW off (with 50Ohm)\n",
    "config['tbeg'] = UTCDateTime(\"2024-05-22 14:40\")\n",
    "config['tend'] = UTCDateTime(\"2024-05-22 14:50\")\n",
    "\n",
    "## RV new excitation and RW off (with 50Ohm)\n",
    "config['tbeg'] = UTCDateTime(\"2024-05-22 15:50\")\n",
    "config['tend'] = UTCDateTime(\"2024-05-22 16:00\")\n",
    "config['tbeg'] = UTCDateTime(\"2024-05-22 20:50\")\n",
    "config['tend'] = UTCDateTime(\"2024-05-22 21:00\"\n",
    "\n",
    "config['f_lower_zoomin'], config['f_upper_zoomin'] = 448-30, 448+30\n",
    "\n",
    "config['datapath'] = data_path+\"sagnac_frequency/prismspectra/\"\n",
    "\n",
    "config['path_to_figs'] = data_path+\"sagnac_frequency/figures/\""
   ]
  },
  {
   "cell_type": "markdown",
   "id": "0c2522f7-5aeb-460d-9b9d-104831a9296c",
   "metadata": {
    "tags": []
   },
   "source": [
    "## Load Raw data"
   ]
  },
  {
   "cell_type": "code",
   "execution_count": null,
   "id": "8b88098b-cb6c-4205-ba67-6a85f437fdc4",
   "metadata": {
    "ExecuteTime": {
     "end_time": "2023-06-27T08:11:26.732797Z",
     "start_time": "2023-06-27T08:11:26.732775Z"
    },
    "tags": []
   },
   "outputs": [],
   "source": [
    "def __load_romy_raw_data(seeds, tbeg, tend, path_to_sds):\n",
    "\n",
    "    from andbro__read_sds import __read_sds\n",
    "    from obspy import Stream, UTCDateTime\n",
    "\n",
    "    st0 = Stream()\n",
    "\n",
    "    for seed in seeds:\n",
    "\n",
    "        print(f\" -> loading {seed}...\")\n",
    "\n",
    "        try:\n",
    "            st00 = __read_sds(path_to_sds, seed, tbeg,tend, data_format='MSEED')\n",
    "        except:\n",
    "            print(f\" -> failed for {seed}\")\n",
    "\n",
    "        st0 += st00\n",
    "\n",
    "    st0 = st0.sort()\n",
    "\n",
    "    for tr in st0:\n",
    "        tr.data = tr.data*0.59604645e-6 # V / count  [0.59604645ug  from obsidian]\n",
    "\n",
    "    return st0"
   ]
  },
  {
   "cell_type": "code",
   "execution_count": null,
   "id": "16c10379-0992-4806-909e-4258db3eb029",
   "metadata": {
    "ExecuteTime": {
     "end_time": "2023-06-27T08:11:26.732797Z",
     "start_time": "2023-06-27T08:11:26.732775Z"
    },
    "tags": []
   },
   "outputs": [],
   "source": [
    "st = __load_romy_raw_data(config['seeds'], config['tbeg'], config['tend'], config['path_to_sds'])\n",
    "\n",
    "# st.detrend(\"demean\")\n",
    "\n",
    "st.plot(equal_scale=False);"
   ]
  },
  {
   "cell_type": "code",
   "execution_count": null,
   "id": "7e0d6144-79be-43fa-9f57-8d976849b6b7",
   "metadata": {
    "tags": []
   },
   "outputs": [],
   "source": [
    "# st.select(channel=\"FJW\").write(\"/home/andbro/Downloads/4Jan/westring_koester.csv\", format=\"TSPAIR\")\n",
    "# st.select(channel=\"FJV\").write(\"/home/andbro/Downloads/4Jan/westring_discrete.csv\", format=\"TSPAIR\")"
   ]
  },
  {
   "cell_type": "code",
   "execution_count": null,
   "id": "7112b71d",
   "metadata": {
    "ExecuteTime": {
     "end_time": "2023-06-26T08:46:45.817172Z",
     "start_time": "2023-06-26T08:46:45.763942Z"
    },
    "tags": []
   },
   "outputs": [],
   "source": [
    "def __makeplot_stream_PSD(st, twin_sec=60, f_lower_zoom=540, f_upper_zoom=560):\n",
    "\n",
    "    from scipy import fftpack\n",
    "    from numpy import abs\n",
    "    from scipy.signal import welch, hann\n",
    "    import matplotlib.pyplot as plt\n",
    "\n",
    "\n",
    "    nblock = int(st[0].stats.sampling_rate * twin_sec)\n",
    "    overlap = int(0.5*nblock)\n",
    "\n",
    "    print(f\" -> nseg = {nblock} | overlap = {overlap}\")\n",
    "\n",
    "    win = hann(nblock, True)\n",
    "\n",
    "\n",
    "    fig, axes = plt.subplots(len(st),2,figsize=(15,10), sharex='col')\n",
    "\n",
    "    plt.subplots_adjust(hspace=0.1)\n",
    "\n",
    "    ## _______________________________________________\n",
    "\n",
    "    st.sort(keys=['channel'], reverse=True)\n",
    "\n",
    "    Pxxs, ffs, chs = [], [], []\n",
    "\n",
    "    for i, tr in enumerate(st):\n",
    "\n",
    "        # tr.data /= max(abs(tr.data))\n",
    "\n",
    "        ff, Pxx = welch(tr.data,\n",
    "                        fs=tr.stats.sampling_rate,\n",
    "                        window=win, noverlap=overlap,\n",
    "                        nfft=nblock,\n",
    "                        scaling=\"spectrum\",\n",
    "                        return_onesided=True)\n",
    "\n",
    "        ffs.append(ff)\n",
    "        chs.append(tr.stats.channel)\n",
    "        Pxxs.append(Pxx)\n",
    "\n",
    "        ## _________________________________________________________________\n",
    "        axes[i,0].plot(\n",
    "                    tr.times(),\n",
    "                    tr.data,\n",
    "                    color='black',\n",
    "                    label='{} {}'.format(tr.stats.station, tr.stats.channel),\n",
    "                    lw=1.0,\n",
    "                    )\n",
    "\n",
    "\n",
    "        ## _________________________________________________________________\n",
    "        axes[i,1].semilogy(\n",
    "                    ff,\n",
    "                    Pxx,\n",
    "                    color='black',\n",
    "                    lw=1.0,\n",
    "                    )\n",
    "\n",
    "        axes[i,1].set_ylim(min(Pxx[10:]), max(Pxx[10:]))\n",
    "\n",
    "        axes[i,0].set_ylabel(r'U (V)')\n",
    "\n",
    "        axes[i,1].set_ylabel(r'PSD (V$^2$/Hz)')\n",
    "\n",
    "        axes[i,0].legend(loc='upper left', framealpha=.8)\n",
    "\n",
    "#         axes[i,0].ticklabel_format(axis='y', style='sci', scilimits=(0,0))\n",
    "#         axes[i,1].ticklabel_format(axis='y', style='sci', scilimits=(0,0))\n",
    "\n",
    "        axes[i,1].set_xlim(f_lower_zoom, f_upper_zoom)\n",
    "        # axes[i,1].set_ylim(top=0)\n",
    "\n",
    "    plt.show();\n",
    "    return fig, (Pxxs, ffs, chs)"
   ]
  },
  {
   "cell_type": "code",
   "execution_count": null,
   "id": "4cb80b4a-fd44-417c-97f8-4e044ce0e26e",
   "metadata": {
    "tags": []
   },
   "outputs": [],
   "source": [
    "fig, _ = __makeplot_stream_PSD(st, twin_sec=60, f_lower_zoom=config['f_lower_zoomin'], f_upper_zoom=config['f_upper_zoomin'])\n",
    "\n",
    "# fig.savefig(config['path_to_figs']+f\"Prismspectra_Westring_{st[0].stats.starttime.date}_trace&PSD.png\", format=\"png\", dpi=150, bbox_inches='tight')\n"
   ]
  },
  {
   "cell_type": "markdown",
   "id": "fb6c7dd6",
   "metadata": {
    "tags": []
   },
   "source": [
    "## Plot Comparison"
   ]
  },
  {
   "cell_type": "code",
   "execution_count": null,
   "id": "aa21da75-dba2-44ac-9b1a-2a8353a5b5b1",
   "metadata": {
    "tags": []
   },
   "outputs": [],
   "source": [
    "def __makeplot_psd_overview_with_zoomin(stx, twin_sec=60, plot_dB=True):\n",
    "\n",
    "    import matplotlib.pyplot as plt\n",
    "    from matplotlib.gridspec import GridSpec\n",
    "    from numpy import log10\n",
    "    from functions.to_dB import __to_dB\n",
    "\n",
    "    font = 14\n",
    "\n",
    "    stx = stx.detrend(\"demean\")\n",
    "    # stx = stx.normalize()\n",
    "\n",
    "    out = __compute_psd_array(stx, twin_sec=twin_sec, spec=\"PSD\")\n",
    "\n",
    "    Pxxs, ffs, chs = out['Pxxs'], out['ffs'], out['chs']\n",
    "\n",
    "    fig = plt.figure(figsize=(15, 8))\n",
    "\n",
    "    plt.subplots_adjust(wspace=0.05)\n",
    "\n",
    "    gs = GridSpec(1, 2, width_ratios=[2, 1])\n",
    "\n",
    "    ax1 = fig.add_subplot(gs[0])\n",
    "    ax2 = fig.add_subplot(gs[1])\n",
    "\n",
    "    if plot_dB:\n",
    "        max_db = []\n",
    "        for jj in range(len(Pxxs)):\n",
    "            max_db.append(max(__to_dB(Pxxs[jj])))\n",
    "    max_max_db = round(max(max_db), 0)\n",
    "\n",
    "    for jj in range(len(Pxxs)):\n",
    "        if plot_dB:\n",
    "            ax1.semilogx(ffs[jj], __to_dB(Pxxs[jj]) - max_max_db, alpha=0.5, label=chs[jj])\n",
    "            ax2.plot(ffs[jj], __to_dB(Pxxs[jj]) - max_max_db, alpha=0.5, label=chs[jj])\n",
    "\n",
    "        else:\n",
    "            ax1.loglog(ffs[jj], Pxxs[jj], alpha=0.5, label=chs[jj])\n",
    "            ax2.semilogy(ffs[jj], Pxxs[jj], alpha=0.5, label=chs[jj])\n",
    "\n",
    "    # ax1.semilogx(ffs[2], 20*log10(Pxxs[2]), alpha=0.5, color=\"tab:green\", label=chs[2], zorder=2)\n",
    "\n",
    "    ax1.grid(alpha=0.2, which=\"both\")\n",
    "    ax1.set_xlabel(\"Frequency (Hz)\", fontsize=font)\n",
    "    ax1.set_ylabel(f\"PSD (dB rel. to ({max_max_db} $V^2$/Hz))\", fontsize=font)\n",
    "    ax1.legend(loc=\"upper center\", fontsize=font-1, ncol=3)\n",
    "    ax1.tick_params(labelsize=font-2)\n",
    "\n",
    "\n",
    "    ax2.set_xlabel(\"Frequency (Hz)\", fontsize=font)\n",
    "    ax2.grid(alpha=0.2, which=\"both\")\n",
    "    ax2.tick_params(labelsize=font-2)\n",
    "    ax2.set_yticklabels([])\n",
    "\n",
    "    ax2.set_xlim(config['f_lower_zoomin'], config['f_upper_zoomin'])\n",
    "\n",
    "    for ax in [ax1, ax2]:\n",
    "        if plot_dB:\n",
    "            ax.set_ylim(-150, max_max_db)\n",
    "        else:\n",
    "            ax.set_ylim(bottom=1e-15)\n",
    "\n",
    "    ax1.text(.01, .99, '(a)', ha='left', va='top', transform=ax1.transAxes, fontsize=font+2)\n",
    "    ax2.text(.01, .99, '(b)', ha='left', va='top', transform=ax2.transAxes, fontsize=font+2)\n",
    "\n",
    "    time_str = f\"{str(stx[0].stats.starttime.time).split('.')[0]} - {str(stx[0].stats.endtime.time).split('.')[0]} UTC\"\n",
    "    ax1.set_title(f\"{stx[0].stats.starttime.date} {time_str}\")\n",
    "\n",
    "    plt.show();\n",
    "    return fig"
   ]
  },
  {
   "cell_type": "code",
   "execution_count": null,
   "id": "551d3d13-b9f5-4835-9a23-91c7dce91765",
   "metadata": {
    "tags": []
   },
   "outputs": [],
   "source": [
    "fig = __makeplot_psd_overview_with_zoomin(st, twin_sec=30, plot_dB=True)\n",
    "\n",
    "# fig.savefig(config['path_to_figs']+f\"Prismspectra_Westring_{st[0].stats.starttime.date}_zoomin.png\", format=\"png\", dpi=150, bbox_inches='tight')\n",
    "\n",
    "fig.savefig(config['path_to_figs']+f\"Westring_EastringOff_{st[0].stats.starttime.date}_zoomin.png\", format=\"png\", dpi=150, bbox_inches='tight')\n"
   ]
  },
  {
   "cell_type": "code",
   "execution_count": null,
   "id": "4833b02a-47b8-4127-b33d-3a45a723d726",
   "metadata": {
    "tags": []
   },
   "outputs": [],
   "source": [
    "romy = __read_sds(config['path_to_sds'], \"BW.ROMY..BJV\", config['tbeg'], config['tend'])\n",
    "\n",
    "romy_inv = read_inventory(root_path+\"Documents/ROMY/stationxml_ringlaser/dataless/dataless.seed.BW_ROMY\")\n",
    "\n",
    "romy = romy.remove_sensitivity(romy_inv)\n",
    "\n",
    "romy = romy.detrend(\"demean\")\n",
    "\n",
    "if len(romy) > 1:\n",
    "    romy.merge()"
   ]
  },
  {
   "cell_type": "code",
   "execution_count": null,
   "id": "599d39c3-66d3-4dcb-a7e7-46b86c9d4e39",
   "metadata": {
    "tags": []
   },
   "outputs": [],
   "source": [
    "def __makeplot2(st0, stx, twin_sec=30, plot_dB=True):\n",
    "\n",
    "\n",
    "    out = __compute_psd_array(stx, twin_sec=twin_sec, spec=\"PSD\")\n",
    "\n",
    "    Pxxs, ffs, chs = out['Pxxs'], out['ffs'], out['chs']\n",
    "\n",
    "    fig, ax = plt.subplots(3, 1, figsize=(15, 10))\n",
    "\n",
    "    plt.subplots_adjust(hspace=0.25)\n",
    "\n",
    "    font = 12\n",
    "\n",
    "    ax[0].plot(st0[0].times()/60, st0[0].data*1e9, color=\"k\")\n",
    "    ax[0].set_xlim(0, max(st0[0].times()/60))\n",
    "    ax[0].set_xlabel(\"Time (min)\", fontsize=font)\n",
    "    ax[0].set_ylabel(\"$\\Omega$ (nrad/s)\", fontsize=font)\n",
    "\n",
    "    time_str = f\"{str(stx[0].stats.starttime.time).split('.')[0]} - {str(stx[0].stats.endtime.time).split('.')[0]} UTC\"\n",
    "    ax[0].set_title(f\"{stx[0].stats.starttime.date} {time_str}\")\n",
    "\n",
    "    if plot_dB:\n",
    "        max_db = []\n",
    "        for jj in range(len(Pxxs)):\n",
    "            max_db.append(max(__to_dB(Pxxs[jj], power=True)))\n",
    "    max_max_db = round(max(max_db), 0)\n",
    "\n",
    "    for jj in range(len(Pxxs)):\n",
    "        if plot_dB:\n",
    "            ax[1].semilogx(ffs[jj], __to_dB(Pxxs[jj], power=True) - max_max_db, alpha=0.5, label=chs[jj])\n",
    "            ax[2].plot(ffs[jj], __to_dB(Pxxs[jj], power=True) - max_max_db, alpha=0.5, label=chs[jj])\n",
    "            ax[1].set_ylim(-150, max_max_db)\n",
    "            ax[2].set_ylim(-150, max_max_db)\n",
    "        else:\n",
    "            ax[1].loglog(ffs[jj], Pxxs[jj], alpha=0.5, label=chs[jj])\n",
    "            ax[2].semilogy(ffs[jj], Pxxs[jj], alpha=0.5, label=chs[jj])\n",
    "\n",
    "    ax[1].grid(alpha=0.2, which=\"both\")\n",
    "    ax[1].set_xlabel(\"Frequency (Hz)\", fontsize=font)\n",
    "    ax[1].set_ylabel(f\"PSD (dB rel. to ({max_max_db} $V^2$/Hz))\", fontsize=font)\n",
    "    ax[1].legend(loc=\"upper center\", fontsize=font-1, ncol=3)\n",
    "    ax[1].tick_params(labelsize=font-2)\n",
    "\n",
    "\n",
    "\n",
    "    ax[2].set_xlabel(\"Frequency (Hz)\", fontsize=font)\n",
    "    ax[2].grid(alpha=0.2, which=\"both\")\n",
    "    ax[2].tick_params(labelsize=font-2)\n",
    "    ax[2].set_ylabel(f\"PSD (dB rel. to ({max_max_db} $V^2$/Hz))\", fontsize=font)\n",
    "\n",
    "    ax[2].set_xlim(config['f_lower_zoomin'], config['f_upper_zoomin'])\n",
    "\n",
    "    ax[0].text(.01, .97, '(a)', ha='left', va='top', transform=ax[0].transAxes, fontsize=font+2)\n",
    "    ax[1].text(.01, .97, '(b)', ha='left', va='top', transform=ax[1].transAxes, fontsize=font+2)\n",
    "    ax[2].text(.01, .97, '(c)', ha='left', va='top', transform=ax[2].transAxes, fontsize=font+2)\n",
    "\n",
    "    plt.show();\n",
    "    return fig\n",
    "\n",
    "fig = __makeplot2(romy, st, twin_sec=60, plot_dB=True)\n",
    "\n",
    "# fig.savefig(config['path_to_figs']+f\"Prismspectra_Westring_{st[0].stats.starttime.date}_rotation_spectra.png\", format=\"png\", dpi=150, bbox_inches='tight')\n",
    "\n",
    "fig.savefig(config['path_to_figs']+f\"Westring_EastringOff_{st[0].stats.starttime.date}_rotation_spectra.png\", format=\"png\", dpi=150, bbox_inches='tight')\n"
   ]
  },
  {
   "cell_type": "code",
   "execution_count": null,
   "id": "7e240f0a-7f21-4a82-9527-63660e54a872",
   "metadata": {
    "tags": []
   },
   "outputs": [],
   "source": []
  },
  {
   "cell_type": "code",
   "execution_count": null,
   "id": "2cf183b3-f5d5-4f64-8547-0ca177e65977",
   "metadata": {},
   "outputs": [],
   "source": []
  }
 ],
 "metadata": {
  "kernelspec": {
   "display_name": "Python 3 (ipykernel)",
   "language": "python",
   "name": "python3"
  },
  "language_info": {
   "codemirror_mode": {
    "name": "ipython",
    "version": 3
   },
   "file_extension": ".py",
   "mimetype": "text/x-python",
   "name": "python",
   "nbconvert_exporter": "python",
   "pygments_lexer": "ipython3",
   "version": "3.10.12"
  },
  "latex_envs": {
   "LaTeX_envs_menu_present": true,
   "autoclose": false,
   "autocomplete": true,
   "bibliofile": "biblio.bib",
   "cite_by": "apalike",
   "current_citInitial": 1,
   "eqLabelWithNumbers": true,
   "eqNumInitial": 1,
   "hotkeys": {
    "equation": "Ctrl-E",
    "itemize": "Ctrl-I"
   },
   "labels_anchors": false,
   "latex_user_defs": false,
   "report_style_numbering": false,
   "user_envs_cfg": false
  },
  "toc": {
   "base_numbering": 1,
   "nav_menu": {},
   "number_sections": true,
   "sideBar": true,
   "skip_h1_title": false,
   "title_cell": "Table of Contents",
   "title_sidebar": "Contents",
   "toc_cell": false,
   "toc_position": {},
   "toc_section_display": true,
   "toc_window_display": false
  },
  "varInspector": {
   "cols": {
    "lenName": 16,
    "lenType": 16,
    "lenVar": 40
   },
   "kernels_config": {
    "python": {
     "delete_cmd_postfix": "",
     "delete_cmd_prefix": "del ",
     "library": "var_list.py",
     "varRefreshCmd": "print(var_dic_list())"
    },
    "r": {
     "delete_cmd_postfix": ") ",
     "delete_cmd_prefix": "rm(",
     "library": "var_list.r",
     "varRefreshCmd": "cat(var_dic_list()) "
    }
   },
   "types_to_exclude": [
    "module",
    "function",
    "builtin_function_or_method",
    "instance",
    "_Feature"
   ],
   "window_display": false
  }
 },
 "nbformat": 4,
 "nbformat_minor": 5
}
