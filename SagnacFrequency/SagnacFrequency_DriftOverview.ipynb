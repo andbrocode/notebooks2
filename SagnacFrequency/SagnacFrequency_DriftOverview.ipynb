{
 "cells": [
  {
   "cell_type": "code",
   "execution_count": null,
   "id": "365f7766-fd96-4f8b-9be5-d793b9a0732f",
   "metadata": {},
   "outputs": [],
   "source": []
  },
  {
   "cell_type": "code",
   "execution_count": null,
   "id": "0e60312e-ff1f-4ecf-8e9c-c08d82e37a23",
   "metadata": {},
   "outputs": [],
   "source": [
    "import os, sys\n",
    "import pandas as pd\n",
    "import matplotlib.pyplot as plt\n",
    "\n",
    "from obspy import UTCDateTime"
   ]
  },
  {
   "cell_type": "code",
   "execution_count": null,
   "id": "580f4113-f448-491e-ae07-b6b33ee3cdb8",
   "metadata": {},
   "outputs": [],
   "source": [
    "if os.uname().nodename == \"lighthouse\":\n",
    "    root_path = \"/home/andbro/\"\n",
    "    data_path = \"/home/andbro/kilauea-data/\"\n",
    "    archive_path = \"/home/andbro/freenas/\"\n",
    "elif os.uname().nodename == \"kilauea\":\n",
    "    root_path = \"/home/brotzer/\"\n",
    "    data_path = \"/import/kilauea-data/\"\n",
    "    archive_path = \"/import/freenas-ffb-01-data/\""
   ]
  },
  {
   "cell_type": "code",
   "execution_count": null,
   "id": "7df1c43d-b352-4351-8fc0-6ba82e9a8f51",
   "metadata": {},
   "outputs": [],
   "source": [
    "config = {}\n",
    "\n",
    "config['tbeg'] = \"2023-07-28\"\n",
    "config['tend'] = \"2023-08-14\"\n",
    "\n",
    "config['ring'] = \"Z\"\n",
    "\n",
    "config['path_to_wromy_sds'] = archive_path+\"romy_archive/\"\n",
    "\n",
    "config['path_to_data'] = archive_path+f\"romy_autodata/2023/R{config['ring']}/\""
   ]
  },
  {
   "cell_type": "code",
   "execution_count": null,
   "id": "eaebd191-c319-4212-97ca-eda6703becfa",
   "metadata": {},
   "outputs": [],
   "source": [
    "from functions.load_sagnac_beat_data import __load_sagnac_beat_data\n",
    "from functions.smoothing import __smooth\n",
    "\n",
    "from andbro__load_WROMY_stream import __load_wromy_stream\n",
    "from andbro__load_FURT_stream import __load_furt_stream"
   ]
  },
  {
   "cell_type": "code",
   "execution_count": null,
   "id": "0f541e94-16a8-4f03-b40b-eb014e90e6f1",
   "metadata": {},
   "outputs": [],
   "source": [
    "def __cumsum_rain(arr, xnum):\n",
    "\n",
    "    from numpy import cumsum, zeros\n",
    "\n",
    "    arr_out = zeros(len(arr))\n",
    "    for i, dat in enumerate(arr):\n",
    "        arr_out[i] = sum(arr[i:i+xnum])\n",
    "\n",
    "    return arr_out"
   ]
  },
  {
   "cell_type": "markdown",
   "id": "e5aba6cb-b899-4384-b5f5-531924460356",
   "metadata": {},
   "source": [
    "## Load Data"
   ]
  },
  {
   "cell_type": "markdown",
   "id": "e6973807-f4bb-4bfd-bce4-0e66fb615583",
   "metadata": {},
   "source": [
    "### Load Beat Data"
   ]
  },
  {
   "cell_type": "code",
   "execution_count": null,
   "id": "9f0a1ae0-2f92-431e-8f4c-2c214eaaa782",
   "metadata": {},
   "outputs": [],
   "source": [
    "df = __load_sagnac_beat_data(config['tbeg'], config['tend'], config['ring'], config['path_to_data'])\n",
    "df = df[df.times_mjd != 0]"
   ]
  },
  {
   "cell_type": "code",
   "execution_count": null,
   "id": "2659d8d4-3d3a-45f2-a74b-faa89bdccb55",
   "metadata": {},
   "outputs": [],
   "source": [
    "df.head()"
   ]
  },
  {
   "cell_type": "markdown",
   "id": "82d8940a-77fa-4691-a35f-98ce26619055",
   "metadata": {},
   "source": [
    "### Load FURT Data"
   ]
  },
  {
   "cell_type": "code",
   "execution_count": null,
   "id": "55a42a13-cccf-4b37-a4c2-692f1edf9eeb",
   "metadata": {
    "scrolled": true
   },
   "outputs": [],
   "source": [
    "furt = __load_furt_stream(config['tbeg'], config['tend'])"
   ]
  },
  {
   "cell_type": "code",
   "execution_count": null,
   "id": "3d89c8f1-c3d3-4170-a60c-2eaf33a0f6b5",
   "metadata": {},
   "outputs": [],
   "source": [
    "config['seed_wromy'] = \"BW.WROMY..WS8\"\n",
    "\n",
    "ws8 = __load_wromy_stream(config['path_to_wromy_sds'], config['seed_wromy'], config['tbeg'], config['tend'])"
   ]
  },
  {
   "cell_type": "code",
   "execution_count": null,
   "id": "cbf846cf-8afd-42b0-a542-1c25c3380242",
   "metadata": {},
   "outputs": [],
   "source": [
    "def __makeplot_overview():\n",
    "\n",
    "    from andbro__utc_to_mjd import __utc_to_mjd\n",
    "    ref = __utc_to_mjd([config['tbeg']])\n",
    "\n",
    "    N=5\n",
    "    t_scale = 86400\n",
    "\n",
    "    fig, ax = plt.subplots(N, 1, figsize=(15,10))\n",
    "\n",
    "    ax[0].scatter(df['times_mjd']-ref, df['fz'], s=1, label=f\"R{config['ring']}\")\n",
    "    # ax[0].plot(df['times_mjd'], df['fz'])\n",
    "\n",
    "    ax[0].set_ylim(553.485, 553.5)\n",
    "\n",
    "    ax[1].plot(furt.select(channel=\"*T\")[0].times()/t_scale, furt.select(channel=\"*T\")[0].data, color=\"tab:red\", label=\"FURT-T\")\n",
    "    ax1_1 = ax[1].twinx()\n",
    "    ax1_1.plot(ws8.select(channel=\"*T\")[0].times()/t_scale, ws8.select(channel=\"*T\")[0].data, label=\"WS8-T\")\n",
    "\n",
    "    ax[2].plot(furt.select(channel=\"*P\")[0].times()/t_scale, furt.select(channel=\"*P\")[0].data, label=\"Furt-P\")\n",
    "\n",
    "    ax[3].plot(furt.select(channel=\"*W\")[0].times()/t_scale, __smooth(furt.select(channel=\"*W\")[0].data, 300), label=\"FURT-wind speed (5min average)\")\n",
    "    ax[3].set_ylim(bottom=0)\n",
    "\n",
    "    ax[4].plot(furt.select(channel=\"*D\")[0].times()/t_scale, __smooth(furt.select(channel=\"*D\")[0].data, 300), label=\"FURT-wind direction (5min average)\")\n",
    "    ax[4].set_ylim(0, 360)\n",
    "\n",
    "    for i in range(N):\n",
    "        ax[i].legend()\n",
    "\n",
    "    ax[0].set_ylabel(\"Frequency (Hz)\")\n",
    "    ax[1].set_ylabel(\"Temperature (°C)\")\n",
    "    ax[2].set_ylabel(\"Pressure (hPa)\")\n",
    "    ax[3].set_ylabel(\"Wind Speed (m/s)\")\n",
    "    ax[4].set_ylabel(\"Wind Direction (°)\")\n",
    "    # ax[0].set_ylabel(\"\")\n",
    "\n",
    "    ax[N-1].set_xlabel(f\"Time from {config['tbeg']} (days)\")\n",
    "\n",
    "    plt.show();\n",
    "\n",
    "__makeplot_overview()"
   ]
  },
  {
   "cell_type": "code",
   "execution_count": null,
   "id": "3294c783-83b7-41f7-bfb7-69f57c2471f5",
   "metadata": {},
   "outputs": [],
   "source": []
  },
  {
   "cell_type": "code",
   "execution_count": null,
   "id": "00c61d75-ed47-4697-90f9-d23cfe63810b",
   "metadata": {},
   "outputs": [],
   "source": []
  },
  {
   "cell_type": "code",
   "execution_count": null,
   "id": "33b9a058-1949-4b2b-b2b7-def07b9f14f4",
   "metadata": {},
   "outputs": [],
   "source": [
    "path_to_data = archive_path+f\"romy_autodata/2023/RV/\"\n",
    "df1 = pd.read_pickle(path_to_data+\"FJV_20230801.pkl\")\n",
    "df1"
   ]
  },
  {
   "cell_type": "code",
   "execution_count": null,
   "id": "3238ca5e-e862-42d5-be60-380b90f71b9e",
   "metadata": {},
   "outputs": [],
   "source": [
    "path_to_data = archive_path+f\"romy_autodata/2023/RZ/\"\n",
    "df1 = pd.read_pickle(path_to_data+\"FJZ_20230809.pkl\")\n",
    "df1"
   ]
  },
  {
   "cell_type": "code",
   "execution_count": null,
   "id": "b7003bf9-c96c-4446-890e-05e0dbd178b1",
   "metadata": {},
   "outputs": [],
   "source": []
  }
 ],
 "metadata": {
  "kernelspec": {
   "display_name": "Python 3 (ipykernel)",
   "language": "python",
   "name": "python3"
  },
  "language_info": {
   "codemirror_mode": {
    "name": "ipython",
    "version": 3
   },
   "file_extension": ".py",
   "mimetype": "text/x-python",
   "name": "python",
   "nbconvert_exporter": "python",
   "pygments_lexer": "ipython3",
   "version": "3.9.16"
  }
 },
 "nbformat": 4,
 "nbformat_minor": 5
}
