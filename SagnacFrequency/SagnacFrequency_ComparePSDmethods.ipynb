{
 "cells": [
  {
   "cell_type": "markdown",
   "id": "22f5c8c9",
   "metadata": {
    "ExecuteTime": {
     "end_time": "2022-10-28T13:00:52.763484Z",
     "start_time": "2022-10-28T13:00:52.761516Z"
    }
   },
   "source": [
    "## Compute Sagnac Frequency "
   ]
  },
  {
   "cell_type": "code",
   "execution_count": null,
   "id": "505d662d",
   "metadata": {},
   "outputs": [],
   "source": []
  },
  {
   "cell_type": "markdown",
   "id": "185b1a0b",
   "metadata": {},
   "source": [
    "## Imports"
   ]
  },
  {
   "cell_type": "code",
   "execution_count": 5,
   "id": "818caf4c",
   "metadata": {
    "ExecuteTime": {
     "end_time": "2022-11-10T12:51:55.290070Z",
     "start_time": "2022-11-10T12:51:55.287057Z"
    }
   },
   "outputs": [],
   "source": [
    "import os\n",
    "import matplotlib.pyplot as plt\n",
    "\n",
    "from obspy import UTCDateTime\n",
    "from scipy.signal import welch, periodogram\n",
    "from numpy import zeros, argmax, arange\n",
    "from tqdm.notebook import tqdm\n",
    "from pandas import DataFrame, read_pickle\n",
    "\n",
    "from andbro__querrySeismoData import __querrySeismoData"
   ]
  },
  {
   "cell_type": "markdown",
   "id": "ec2578ab",
   "metadata": {},
   "source": [
    "## Configurations"
   ]
  },
  {
   "cell_type": "code",
   "execution_count": 6,
   "id": "ba83e3e7",
   "metadata": {
    "ExecuteTime": {
     "end_time": "2022-11-10T12:51:55.699673Z",
     "start_time": "2022-11-10T12:51:55.687724Z"
    }
   },
   "outputs": [],
   "source": [
    "config = {}\n",
    "\n",
    "\n",
    "config['seed'] = \"BW.DROMY..FJZ\"\n",
    "\n",
    "config['tbeg'] = UTCDateTime(\"2022-10-25 00:00\")\n",
    "config['tend'] = UTCDateTime(\"2022-10-25 00:05\")\n",
    "\n",
    "config['outpath_data'] = \"/home/brotzer/Downloads/tmp/sagnac_frequency/\"\n",
    "\n",
    "config['repository'] = \"george\"\n"
   ]
  },
  {
   "cell_type": "markdown",
   "id": "adb71d12",
   "metadata": {},
   "source": [
    "## Produce Data"
   ]
  },
  {
   "cell_type": "code",
   "execution_count": 10,
   "id": "e2a6f5bf",
   "metadata": {
    "ExecuteTime": {
     "end_time": "2022-11-10T12:53:20.235256Z",
     "start_time": "2022-11-10T12:52:36.471839Z"
    }
   },
   "outputs": [],
   "source": [
    "st, inv = __querrySeismoData(    \n",
    "                            seed_id=config['seed'],\n",
    "                            starttime=config['tbeg'],\n",
    "                            endtime=config['tend'],\n",
    "                            repository=config['repository'],\n",
    "                            path=None,\n",
    "                            restitute=None,\n",
    "                            detail=None,\n",
    "                            )"
   ]
  },
  {
   "cell_type": "markdown",
   "id": "638295c5",
   "metadata": {},
   "source": [
    "## Plotting "
   ]
  },
  {
   "cell_type": "code",
   "execution_count": 11,
   "id": "d913227e",
   "metadata": {
    "ExecuteTime": {
     "end_time": "2022-11-10T12:53:20.254918Z",
     "start_time": "2022-11-10T12:53:20.236488Z"
    }
   },
   "outputs": [],
   "source": [
    "import spectrum\n",
    "from spectrum.datasets import marple_data\n",
    "from pylab import legend, ylim\n",
    "norm = True\n",
    "sides = 'centerdc'\n",
    "\n",
    "marple_data = st[0].data\n",
    "fs = st[0].stats.sampling_rate\n",
    "\n",
    "#music\n",
    "p0 = spectrum.pmusic(marple_data, 15, 11, NFFT=4096, sampling=fs)\n",
    "# p(); p.plot(label='music (15, 11)', norm=norm, sides=sides)\n",
    "\n",
    "# MA method\n",
    "# p1 = spectrum.pma(marple_data, 15, 30, NFFT=4096, sampling=fs)\n",
    "# p(); p.plot(label='MA (15, 30)', norm=norm, sides=sides)\n",
    "\n",
    "# ARMA method\n",
    "p2 = spectrum.parma(marple_data, 15, 15, 30, NFFT=4096, sampling=fs)\n",
    "# p(); p.plot(label='ARMA(15,15)', norm=norm, sides=sides)\n",
    "\n",
    "# yulewalker\n",
    "p3 = spectrum.pyule(marple_data, 15, norm='biased', NFFT=4096, sampling=fs)\n",
    "# p(); p.plot(label='YuleWalker(15)', norm=norm, sides=sides)\n",
    "\n",
    "#burg method\n",
    "p4 = spectrum.pburg(marple_data, order=15, NFFT=4096, sampling=fs)\n",
    "# p(); p.plot(label='Burg(15)', norm=norm, sides=sides)\n",
    "\n",
    "#ev\n",
    "p5 = spectrum.pev(marple_data, 15, 11, NFFT=4096, sampling=fs)\n",
    "# p(); p.plot(label='ev (15, 11)', norm=norm, sides=sides)\n",
    "\n",
    "#covar method\n",
    "p6 = spectrum.pcovar(marple_data, 15, NFFT=4096, sampling=fs)\n",
    "# p(); p.plot(label='Covar(15)', norm=norm, sides=sides)\n",
    "\n",
    "#modcovar method\n",
    "p7 = spectrum.pmodcovar(marple_data, 15, NFFT=4096, sampling=fs)\n",
    "# p(); p.plot(label='Modcovar(15)', norm=norm, sides=sides)\n",
    "\n",
    "# correlagram\n",
    "p8 = spectrum.pcorrelogram(marple_data, lag=15, NFFT=4096, sampling=fs)\n",
    "# p(); p.plot(label='Correlogram(15)', norm=norm, sides=sides)\n",
    "\n",
    "#minvar\n",
    "p9 = spectrum.pminvar(marple_data, 15, NFFT=4096, sampling=fs)\n",
    "# p(); p.plot(label='minvar (15)', norm=norm, sides=sides)\n"
   ]
  },
  {
   "cell_type": "code",
   "execution_count": 1,
   "id": "ea42dd40",
   "metadata": {
    "ExecuteTime": {
     "end_time": "2022-11-10T16:18:03.217316Z",
     "start_time": "2022-11-10T16:18:02.963610Z"
    }
   },
   "outputs": [
    {
     "ename": "NameError",
     "evalue": "name 'p8' is not defined",
     "output_type": "error",
     "traceback": [
      "\u001b[0;31m---------------------------------------------------------------------------\u001b[0m",
      "\u001b[0;31mNameError\u001b[0m                                 Traceback (most recent call last)",
      "\u001b[0;32m<ipython-input-1-b9acf7b13a0f>\u001b[0m in \u001b[0;36m<module>\u001b[0;34m\u001b[0m\n\u001b[1;32m      6\u001b[0m \u001b[0;31m# p6.plot(label='Covar(15)', norm=norm, sides=sides)\u001b[0m\u001b[0;34m\u001b[0m\u001b[0;34m\u001b[0m\u001b[0;34m\u001b[0m\u001b[0m\n\u001b[1;32m      7\u001b[0m \u001b[0;31m# p7.plot(label='Modcovar(15)', norm=norm, sides=sides)\u001b[0m\u001b[0;34m\u001b[0m\u001b[0;34m\u001b[0m\u001b[0;34m\u001b[0m\u001b[0m\n\u001b[0;32m----> 8\u001b[0;31m \u001b[0mp8\u001b[0m\u001b[0;34m.\u001b[0m\u001b[0mplot\u001b[0m\u001b[0;34m(\u001b[0m\u001b[0mlabel\u001b[0m\u001b[0;34m=\u001b[0m\u001b[0;34m'Correlogram(15)'\u001b[0m\u001b[0;34m,\u001b[0m \u001b[0mnorm\u001b[0m\u001b[0;34m=\u001b[0m\u001b[0mnorm\u001b[0m\u001b[0;34m,\u001b[0m \u001b[0msides\u001b[0m\u001b[0;34m=\u001b[0m\u001b[0msides\u001b[0m\u001b[0;34m)\u001b[0m\u001b[0;34m\u001b[0m\u001b[0;34m\u001b[0m\u001b[0m\n\u001b[0m\u001b[1;32m      9\u001b[0m \u001b[0;31m# p9.plot(label='minvar (15)', norm=norm, sides=sides)\u001b[0m\u001b[0;34m\u001b[0m\u001b[0;34m\u001b[0m\u001b[0;34m\u001b[0m\u001b[0m\n\u001b[1;32m     10\u001b[0m \u001b[0;31m# p0.plot(label='music (15, 11)', norm=norm, sides=sides)\u001b[0m\u001b[0;34m\u001b[0m\u001b[0;34m\u001b[0m\u001b[0;34m\u001b[0m\u001b[0m\n",
      "\u001b[0;31mNameError\u001b[0m: name 'p8' is not defined"
     ]
    }
   ],
   "source": [
    "# p1.plot(label='MA (15, 30)', norm=norm, sides=sides) #No\n",
    "# p2.plot(label='ARMA(15,15)', norm=norm, sides=sides) #No\n",
    "# p3.plot(label='YuleWalker(15)', norm=norm, sides=sides) #No\n",
    "# p4.plot(label='Burg(15)', norm=norm, sides=sides)\n",
    "# p5.plot(label='ev (15, 11)', norm=norm, sides=sides)\n",
    "# p6.plot(label='Covar(15)', norm=norm, sides=sides)\n",
    "# p7.plot(label='Modcovar(15)', norm=norm, sides=sides)\n",
    "p8.plot(label='Correlogram(15)', norm=norm, sides=sides)\n",
    "# p9.plot(label='minvar (15)', norm=norm, sides=sides)\n",
    "# p0.plot(label='music (15, 11)', norm=norm, sides=sides)\n",
    "\n",
    "legend(loc='upper left', prop={'size':10}, ncol=2)\n",
    "# ylim([-80,10])"
   ]
  },
  {
   "cell_type": "code",
   "execution_count": null,
   "id": "3c019052",
   "metadata": {},
   "outputs": [],
   "source": []
  },
  {
   "cell_type": "code",
   "execution_count": null,
   "id": "065cea31",
   "metadata": {},
   "outputs": [],
   "source": []
  }
 ],
 "metadata": {
  "kernelspec": {
   "display_name": "Python 3",
   "language": "python",
   "name": "python3"
  },
  "language_info": {
   "codemirror_mode": {
    "name": "ipython",
    "version": 3
   },
   "file_extension": ".py",
   "mimetype": "text/x-python",
   "name": "python",
   "nbconvert_exporter": "python",
   "pygments_lexer": "ipython3",
   "version": "3.7.7"
  },
  "latex_envs": {
   "LaTeX_envs_menu_present": true,
   "autoclose": false,
   "autocomplete": true,
   "bibliofile": "biblio.bib",
   "cite_by": "apalike",
   "current_citInitial": 1,
   "eqLabelWithNumbers": true,
   "eqNumInitial": 1,
   "hotkeys": {
    "equation": "Ctrl-E",
    "itemize": "Ctrl-I"
   },
   "labels_anchors": false,
   "latex_user_defs": false,
   "report_style_numbering": false,
   "user_envs_cfg": false
  },
  "toc": {
   "base_numbering": 1,
   "nav_menu": {},
   "number_sections": true,
   "sideBar": true,
   "skip_h1_title": false,
   "title_cell": "Table of Contents",
   "title_sidebar": "Contents",
   "toc_cell": false,
   "toc_position": {},
   "toc_section_display": true,
   "toc_window_display": false
  }
 },
 "nbformat": 4,
 "nbformat_minor": 5
}
