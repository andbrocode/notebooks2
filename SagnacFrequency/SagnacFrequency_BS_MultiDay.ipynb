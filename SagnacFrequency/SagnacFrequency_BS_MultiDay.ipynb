{
 "cells": [
  {
   "cell_type": "markdown",
   "id": "22f5c8c9",
   "metadata": {
    "ExecuteTime": {
     "end_time": "2022-10-28T13:00:52.763484Z",
     "start_time": "2022-10-28T13:00:52.761516Z"
    }
   },
   "source": [
    "## Sagnac Frequency - Backscatter Correction - Multi Day"
   ]
  },
  {
   "cell_type": "markdown",
   "id": "1cd32aed",
   "metadata": {},
   "source": []
  },
  {
   "cell_type": "markdown",
   "id": "185b1a0b",
   "metadata": {},
   "source": [
    "## Imports"
   ]
  },
  {
   "cell_type": "code",
   "execution_count": 1,
   "id": "818caf4c",
   "metadata": {
    "ExecuteTime": {
     "end_time": "2023-06-27T08:11:10.277643Z",
     "start_time": "2023-06-27T08:11:08.781535Z"
    },
    "tags": []
   },
   "outputs": [],
   "source": [
    "import os\n",
    "import matplotlib.pyplot as plt\n",
    "import numpy as np\n",
    "\n",
    "from datetime import datetime, date\n",
    "from pandas import DataFrame, read_pickle, date_range, concat, read_csv\n",
    "from obspy import UTCDateTime, read\n",
    "from scipy.signal import hilbert\n"
   ]
  },
  {
   "cell_type": "code",
   "execution_count": 2,
   "id": "b83c9987",
   "metadata": {
    "ExecuteTime": {
     "end_time": "2023-06-27T08:11:10.288084Z",
     "start_time": "2023-06-27T08:11:10.284752Z"
    },
    "tags": []
   },
   "outputs": [],
   "source": [
    "if os.uname().nodename == 'lighthouse':\n",
    "    root_path = '/home/andbro/'\n",
    "    data_path = '/home/andbro/kilauea-data/'\n",
    "    archive_path = '/home/andbro/freenas/'\n",
    "elif os.uname().nodename == 'kilauea':\n",
    "    root_path = '/home/brotzer/'\n",
    "    data_path = '/import/kilauea-data/'\n",
    "    archive_path = '/import/freenas-ffb-01-data/'"
   ]
  },
  {
   "cell_type": "markdown",
   "id": "ec2578ab",
   "metadata": {},
   "source": [
    "## Configurations"
   ]
  },
  {
   "cell_type": "code",
   "execution_count": 14,
   "id": "ba83e3e7",
   "metadata": {
    "ExecuteTime": {
     "end_time": "2023-06-27T08:11:13.008382Z",
     "start_time": "2023-06-27T08:11:13.002517Z"
    },
    "tags": []
   },
   "outputs": [],
   "source": [
    "config = {}\n",
    "\n",
    "config['ring'] = \"U\"\n",
    "\n",
    "config['seed'] = \"BW.DROMY..FJU\"\n",
    "\n",
    "config['path_to_sds'] = archive_path+\"romy_archive/\"\n",
    "\n",
    "\n",
    "config['tbeg'] = UTCDateTime(\"2023-09-19 00:00\")\n",
    "config['tend'] = UTCDateTime(\"2023-09-20 00:00\")\n",
    "\n",
    "# config['f_lower_zoomin'], config['f_upper_zoomin'] = 448-10, 448+10\n",
    "\n",
    "## path to Sagnac data\n",
    "config['path_to_autodata'] = archive_path+f\"romy_autodata/\"\n",
    "\n",
    "config['path_to_data'] = data_path+\"sagnac_frequency/data/backscatter/\"\n",
    "\n",
    "config['path_to_figs'] = data_path+\"sagnac_frequency/figures/\""
   ]
  },
  {
   "cell_type": "markdown",
   "id": "12ef7747-2cb6-4561-bfe3-ccd226aae9dc",
   "metadata": {
    "tags": []
   },
   "source": [
    "## Configurations"
   ]
  },
  {
   "cell_type": "code",
   "execution_count": 10,
   "id": "c8f2d46f-bb36-4bc8-8487-0752cf80dfbf",
   "metadata": {
    "tags": []
   },
   "outputs": [],
   "source": [
    "interval = 60 ## seconds\n",
    "\n",
    "method = \"fft\" ## welch | multitaper | fft\n",
    "\n",
    "dates = date_range(config['tbeg'].date, config['tend'].date)"
   ]
  },
  {
   "cell_type": "code",
   "execution_count": 15,
   "id": "51931b63-c210-4304-a04d-9e27ee1a3bb5",
   "metadata": {
    "tags": []
   },
   "outputs": [],
   "source": [
    "def __load_backscatter_data(tbeg, tend, ring, path_to_data):\n",
    "\n",
    "    from obspy import UTCDateTime\n",
    "    from datetime import date\n",
    "    from pandas import read_pickle, concat, DataFrame, date_range\n",
    "\n",
    "    t1 = date.fromisoformat(str(UTCDateTime(tbeg).date))\n",
    "    t2 = date.fromisoformat(str((UTCDateTime(tend)-86400).date))\n",
    "\n",
    "    df = DataFrame()\n",
    "    for dat in date_range(t1, t2):\n",
    "        print(dat)\n",
    "        file = f\"FJ{ring}_\"+str(dat)[:10].replace(\"-\",\"\")+\"_backscatter.pkl\"\n",
    "        try:\n",
    "            df0 = read_pickle(path_to_data+file)\n",
    "            df = concat([df, df0])\n",
    "        except:\n",
    "            print(f\"error for {file}\")\n",
    "\n",
    "    df.reset_index(inplace=True)\n",
    "\n",
    "    return df"
   ]
  },
  {
   "cell_type": "code",
   "execution_count": 18,
   "id": "5d8a5d06-0406-40f2-865b-93ad62f11e51",
   "metadata": {
    "tags": []
   },
   "outputs": [
    {
     "name": "stdout",
     "output_type": "stream",
     "text": [
      "2023-09-19 00:00:00\n"
     ]
    }
   ],
   "source": [
    "bs = __load_backscatter_data(config['tbeg'], config['tend'], config['ring'], config['path_to_data'])"
   ]
  },
  {
   "cell_type": "code",
   "execution_count": 19,
   "id": "9c1f0966-baf7-4343-b266-925b2ff34f07",
   "metadata": {
    "tags": []
   },
   "outputs": [
    {
     "data": {
      "text/html": [
       "<div>\n",
       "<style scoped>\n",
       "    .dataframe tbody tr th:only-of-type {\n",
       "        vertical-align: middle;\n",
       "    }\n",
       "\n",
       "    .dataframe tbody tr th {\n",
       "        vertical-align: top;\n",
       "    }\n",
       "\n",
       "    .dataframe thead th {\n",
       "        text-align: right;\n",
       "    }\n",
       "</style>\n",
       "<table border=\"1\" class=\"dataframe\">\n",
       "  <thead>\n",
       "    <tr style=\"text-align: right;\">\n",
       "      <th></th>\n",
       "      <th>index</th>\n",
       "      <th>time1</th>\n",
       "      <th>time2</th>\n",
       "      <th>fj_fs</th>\n",
       "      <th>fj_ac</th>\n",
       "      <th>fj_dc</th>\n",
       "      <th>fj_ph</th>\n",
       "      <th>f1_fs</th>\n",
       "      <th>f1_ac</th>\n",
       "      <th>f1_dc</th>\n",
       "      <th>f1_ph</th>\n",
       "      <th>f2_fs</th>\n",
       "      <th>f2_ac</th>\n",
       "      <th>f2_dc</th>\n",
       "      <th>f2_ph</th>\n",
       "      <th>w_s</th>\n",
       "    </tr>\n",
       "  </thead>\n",
       "  <tbody>\n",
       "    <tr>\n",
       "      <th>0</th>\n",
       "      <td>0</td>\n",
       "      <td>2023-09-19T00:00:00.000000Z</td>\n",
       "      <td>2023-09-19T00:01:00.000000Z</td>\n",
       "      <td>303.060160</td>\n",
       "      <td>0.073224</td>\n",
       "      <td>0.195905</td>\n",
       "      <td>0.197328</td>\n",
       "      <td>303.060479</td>\n",
       "      <td>0.006733</td>\n",
       "      <td>0.834190</td>\n",
       "      <td>2.797403</td>\n",
       "      <td>303.055961</td>\n",
       "      <td>0.002937</td>\n",
       "      <td>0.815015</td>\n",
       "      <td>-1.908576</td>\n",
       "      <td>303.060091</td>\n",
       "    </tr>\n",
       "    <tr>\n",
       "      <th>1</th>\n",
       "      <td>1</td>\n",
       "      <td>2023-09-19T00:01:00.000000Z</td>\n",
       "      <td>2023-09-19T00:02:00.000000Z</td>\n",
       "      <td>303.060306</td>\n",
       "      <td>0.074772</td>\n",
       "      <td>0.196206</td>\n",
       "      <td>-2.089324</td>\n",
       "      <td>303.061106</td>\n",
       "      <td>0.006873</td>\n",
       "      <td>0.834288</td>\n",
       "      <td>0.464413</td>\n",
       "      <td>303.062215</td>\n",
       "      <td>0.003005</td>\n",
       "      <td>0.814646</td>\n",
       "      <td>-4.245801</td>\n",
       "      <td>303.060214</td>\n",
       "    </tr>\n",
       "    <tr>\n",
       "      <th>2</th>\n",
       "      <td>2</td>\n",
       "      <td>2023-09-19T00:02:00.000000Z</td>\n",
       "      <td>2023-09-19T00:03:00.000000Z</td>\n",
       "      <td>303.060723</td>\n",
       "      <td>0.075123</td>\n",
       "      <td>0.196174</td>\n",
       "      <td>-4.332173</td>\n",
       "      <td>303.061565</td>\n",
       "      <td>0.006841</td>\n",
       "      <td>0.834242</td>\n",
       "      <td>-1.812212</td>\n",
       "      <td>303.049780</td>\n",
       "      <td>0.003024</td>\n",
       "      <td>0.814968</td>\n",
       "      <td>-6.525569</td>\n",
       "      <td>303.060617</td>\n",
       "    </tr>\n",
       "    <tr>\n",
       "      <th>3</th>\n",
       "      <td>3</td>\n",
       "      <td>2023-09-19T00:03:00.000000Z</td>\n",
       "      <td>2023-09-19T00:04:00.000000Z</td>\n",
       "      <td>303.060562</td>\n",
       "      <td>0.072973</td>\n",
       "      <td>0.196342</td>\n",
       "      <td>-6.668228</td>\n",
       "      <td>303.061123</td>\n",
       "      <td>0.006618</td>\n",
       "      <td>0.834208</td>\n",
       "      <td>-4.195280</td>\n",
       "      <td>303.062879</td>\n",
       "      <td>0.002940</td>\n",
       "      <td>0.815975</td>\n",
       "      <td>-8.905413</td>\n",
       "      <td>303.060477</td>\n",
       "    </tr>\n",
       "    <tr>\n",
       "      <th>4</th>\n",
       "      <td>4</td>\n",
       "      <td>2023-09-19T00:04:00.000000Z</td>\n",
       "      <td>2023-09-19T00:05:00.000000Z</td>\n",
       "      <td>303.060630</td>\n",
       "      <td>0.073003</td>\n",
       "      <td>0.196380</td>\n",
       "      <td>-9.025958</td>\n",
       "      <td>303.062650</td>\n",
       "      <td>0.006648</td>\n",
       "      <td>0.834319</td>\n",
       "      <td>-6.599382</td>\n",
       "      <td>303.053542</td>\n",
       "      <td>0.002963</td>\n",
       "      <td>0.815795</td>\n",
       "      <td>-11.309047</td>\n",
       "      <td>303.060546</td>\n",
       "    </tr>\n",
       "    <tr>\n",
       "      <th>...</th>\n",
       "      <td>...</td>\n",
       "      <td>...</td>\n",
       "      <td>...</td>\n",
       "      <td>...</td>\n",
       "      <td>...</td>\n",
       "      <td>...</td>\n",
       "      <td>...</td>\n",
       "      <td>...</td>\n",
       "      <td>...</td>\n",
       "      <td>...</td>\n",
       "      <td>...</td>\n",
       "      <td>...</td>\n",
       "      <td>...</td>\n",
       "      <td>...</td>\n",
       "      <td>...</td>\n",
       "      <td>...</td>\n",
       "    </tr>\n",
       "    <tr>\n",
       "      <th>1435</th>\n",
       "      <td>1435</td>\n",
       "      <td>2023-09-19T23:55:00.000000Z</td>\n",
       "      <td>2023-09-19T23:56:00.000000Z</td>\n",
       "      <td>302.863412</td>\n",
       "      <td>0.000695</td>\n",
       "      <td>0.471687</td>\n",
       "      <td>169.402275</td>\n",
       "      <td>302.962797</td>\n",
       "      <td>0.000145</td>\n",
       "      <td>1.208388</td>\n",
       "      <td>158.243129</td>\n",
       "      <td>302.578221</td>\n",
       "      <td>0.000098</td>\n",
       "      <td>1.885224</td>\n",
       "      <td>130.052937</td>\n",
       "      <td>302.863413</td>\n",
       "    </tr>\n",
       "    <tr>\n",
       "      <th>1436</th>\n",
       "      <td>1436</td>\n",
       "      <td>2023-09-19T23:56:00.000000Z</td>\n",
       "      <td>2023-09-19T23:57:00.000000Z</td>\n",
       "      <td>302.795181</td>\n",
       "      <td>0.000404</td>\n",
       "      <td>0.472061</td>\n",
       "      <td>172.441516</td>\n",
       "      <td>302.977187</td>\n",
       "      <td>0.000083</td>\n",
       "      <td>1.208440</td>\n",
       "      <td>155.603440</td>\n",
       "      <td>302.460231</td>\n",
       "      <td>0.000095</td>\n",
       "      <td>1.888432</td>\n",
       "      <td>132.624602</td>\n",
       "      <td>302.795182</td>\n",
       "    </tr>\n",
       "    <tr>\n",
       "      <th>1437</th>\n",
       "      <td>1437</td>\n",
       "      <td>2023-09-19T23:57:00.000000Z</td>\n",
       "      <td>2023-09-19T23:58:00.000000Z</td>\n",
       "      <td>302.865362</td>\n",
       "      <td>0.000505</td>\n",
       "      <td>0.472402</td>\n",
       "      <td>173.574676</td>\n",
       "      <td>302.615883</td>\n",
       "      <td>0.000092</td>\n",
       "      <td>1.208282</td>\n",
       "      <td>158.572044</td>\n",
       "      <td>302.352413</td>\n",
       "      <td>0.000097</td>\n",
       "      <td>1.891617</td>\n",
       "      <td>132.183910</td>\n",
       "      <td>302.865362</td>\n",
       "    </tr>\n",
       "    <tr>\n",
       "      <th>1438</th>\n",
       "      <td>1438</td>\n",
       "      <td>2023-09-19T23:58:00.000000Z</td>\n",
       "      <td>2023-09-19T23:59:00.000000Z</td>\n",
       "      <td>302.862931</td>\n",
       "      <td>0.000832</td>\n",
       "      <td>0.472704</td>\n",
       "      <td>173.313013</td>\n",
       "      <td>302.519061</td>\n",
       "      <td>0.000159</td>\n",
       "      <td>1.208519</td>\n",
       "      <td>159.245827</td>\n",
       "      <td>302.459856</td>\n",
       "      <td>0.000102</td>\n",
       "      <td>1.894120</td>\n",
       "      <td>133.455465</td>\n",
       "      <td>302.862930</td>\n",
       "    </tr>\n",
       "    <tr>\n",
       "      <th>1439</th>\n",
       "      <td>1439</td>\n",
       "      <td>2023-09-19T23:59:00.000000Z</td>\n",
       "      <td>2023-09-20T00:00:00.000000Z</td>\n",
       "      <td>302.824974</td>\n",
       "      <td>0.000515</td>\n",
       "      <td>0.472910</td>\n",
       "      <td>175.602450</td>\n",
       "      <td>302.686257</td>\n",
       "      <td>0.000114</td>\n",
       "      <td>1.208972</td>\n",
       "      <td>161.667073</td>\n",
       "      <td>302.627100</td>\n",
       "      <td>0.000095</td>\n",
       "      <td>1.895668</td>\n",
       "      <td>134.359339</td>\n",
       "      <td>302.824975</td>\n",
       "    </tr>\n",
       "  </tbody>\n",
       "</table>\n",
       "<p>1440 rows × 16 columns</p>\n",
       "</div>"
      ],
      "text/plain": [
       "      index                        time1                        time2  \\\n",
       "0         0  2023-09-19T00:00:00.000000Z  2023-09-19T00:01:00.000000Z   \n",
       "1         1  2023-09-19T00:01:00.000000Z  2023-09-19T00:02:00.000000Z   \n",
       "2         2  2023-09-19T00:02:00.000000Z  2023-09-19T00:03:00.000000Z   \n",
       "3         3  2023-09-19T00:03:00.000000Z  2023-09-19T00:04:00.000000Z   \n",
       "4         4  2023-09-19T00:04:00.000000Z  2023-09-19T00:05:00.000000Z   \n",
       "...     ...                          ...                          ...   \n",
       "1435   1435  2023-09-19T23:55:00.000000Z  2023-09-19T23:56:00.000000Z   \n",
       "1436   1436  2023-09-19T23:56:00.000000Z  2023-09-19T23:57:00.000000Z   \n",
       "1437   1437  2023-09-19T23:57:00.000000Z  2023-09-19T23:58:00.000000Z   \n",
       "1438   1438  2023-09-19T23:58:00.000000Z  2023-09-19T23:59:00.000000Z   \n",
       "1439   1439  2023-09-19T23:59:00.000000Z  2023-09-20T00:00:00.000000Z   \n",
       "\n",
       "           fj_fs     fj_ac     fj_dc       fj_ph       f1_fs     f1_ac  \\\n",
       "0     303.060160  0.073224  0.195905    0.197328  303.060479  0.006733   \n",
       "1     303.060306  0.074772  0.196206   -2.089324  303.061106  0.006873   \n",
       "2     303.060723  0.075123  0.196174   -4.332173  303.061565  0.006841   \n",
       "3     303.060562  0.072973  0.196342   -6.668228  303.061123  0.006618   \n",
       "4     303.060630  0.073003  0.196380   -9.025958  303.062650  0.006648   \n",
       "...          ...       ...       ...         ...         ...       ...   \n",
       "1435  302.863412  0.000695  0.471687  169.402275  302.962797  0.000145   \n",
       "1436  302.795181  0.000404  0.472061  172.441516  302.977187  0.000083   \n",
       "1437  302.865362  0.000505  0.472402  173.574676  302.615883  0.000092   \n",
       "1438  302.862931  0.000832  0.472704  173.313013  302.519061  0.000159   \n",
       "1439  302.824974  0.000515  0.472910  175.602450  302.686257  0.000114   \n",
       "\n",
       "         f1_dc       f1_ph       f2_fs     f2_ac     f2_dc       f2_ph  \\\n",
       "0     0.834190    2.797403  303.055961  0.002937  0.815015   -1.908576   \n",
       "1     0.834288    0.464413  303.062215  0.003005  0.814646   -4.245801   \n",
       "2     0.834242   -1.812212  303.049780  0.003024  0.814968   -6.525569   \n",
       "3     0.834208   -4.195280  303.062879  0.002940  0.815975   -8.905413   \n",
       "4     0.834319   -6.599382  303.053542  0.002963  0.815795  -11.309047   \n",
       "...        ...         ...         ...       ...       ...         ...   \n",
       "1435  1.208388  158.243129  302.578221  0.000098  1.885224  130.052937   \n",
       "1436  1.208440  155.603440  302.460231  0.000095  1.888432  132.624602   \n",
       "1437  1.208282  158.572044  302.352413  0.000097  1.891617  132.183910   \n",
       "1438  1.208519  159.245827  302.459856  0.000102  1.894120  133.455465   \n",
       "1439  1.208972  161.667073  302.627100  0.000095  1.895668  134.359339   \n",
       "\n",
       "             w_s  \n",
       "0     303.060091  \n",
       "1     303.060214  \n",
       "2     303.060617  \n",
       "3     303.060477  \n",
       "4     303.060546  \n",
       "...          ...  \n",
       "1435  302.863413  \n",
       "1436  302.795182  \n",
       "1437  302.865362  \n",
       "1438  302.862930  \n",
       "1439  302.824975  \n",
       "\n",
       "[1440 rows x 16 columns]"
      ]
     },
     "execution_count": 19,
     "metadata": {},
     "output_type": "execute_result"
    }
   ],
   "source": [
    "bs"
   ]
  },
  {
   "cell_type": "code",
   "execution_count": 28,
   "id": "f12a5f73-ee79-474c-9624-e5177481ae44",
   "metadata": {
    "tags": []
   },
   "outputs": [
    {
     "name": "stderr",
     "output_type": "stream",
     "text": [
      "No artists with labels found to put in legend.  Note that artists whose label start with an underscore are ignored when legend() is called with no argument.\n",
      "No artists with labels found to put in legend.  Note that artists whose label start with an underscore are ignored when legend() is called with no argument.\n"
     ]
    },
    {
     "data": {
      "image/png": "[encoded data removed]",
      "text/plain": [
       "<Figure size 1500x800 with 2 Axes>"
      ]
     },
     "metadata": {},
     "output_type": "display_data"
    }
   ],
   "source": [
    "def __makeplot():\n",
    "\n",
    "    Nrow, Ncol = 2, 1\n",
    "\n",
    "    font = 12\n",
    "\n",
    "    fig, ax = plt.subplots(Nrow, Ncol, figsize=(15, 8))\n",
    "\n",
    "    ax[0].plot(bs.index, bs.fj_fs, color=\"black\")\n",
    "    ax[0].plot(bs.index, bs.w_s, color=\"tab:red\")\n",
    "\n",
    "    for _n in range(Nrow):\n",
    "        ax[_n].grid(ls=\":\", zorder=0)\n",
    "        ax[_n].legend(loc=1)\n",
    "\n",
    "    ax[0].set_ylim(303, 303.07)\n",
    "\n",
    "    plt.show();\n",
    "    return fig\n",
    "\n",
    "\n",
    "fig = __makeplot();"
   ]
  },
  {
   "cell_type": "code",
   "execution_count": null,
   "id": "d3811e7a-0bcf-46e4-a623-d4b7e25280d8",
   "metadata": {},
   "outputs": [],
   "source": []
  },
  {
   "cell_type": "code",
   "execution_count": null,
   "id": "a3dc23f8-6e83-4956-a970-37f9b5d51873",
   "metadata": {},
   "outputs": [],
   "source": []
  }
 ],
 "metadata": {
  "kernelspec": {
   "display_name": "Python 3 (ipykernel)",
   "language": "python",
   "name": "python3"
  },
  "language_info": {
   "codemirror_mode": {
    "name": "ipython",
    "version": 3
   },
   "file_extension": ".py",
   "mimetype": "text/x-python",
   "name": "python",
   "nbconvert_exporter": "python",
   "pygments_lexer": "ipython3",
   "version": "3.10.12"
  },
  "latex_envs": {
   "LaTeX_envs_menu_present": true,
   "autoclose": false,
   "autocomplete": true,
   "bibliofile": "biblio.bib",
   "cite_by": "apalike",
   "current_citInitial": 1,
   "eqLabelWithNumbers": true,
   "eqNumInitial": 1,
   "hotkeys": {
    "equation": "Ctrl-E",
    "itemize": "Ctrl-I"
   },
   "labels_anchors": false,
   "latex_user_defs": false,
   "report_style_numbering": false,
   "user_envs_cfg": false
  },
  "toc": {
   "base_numbering": 1,
   "nav_menu": {},
   "number_sections": true,
   "sideBar": true,
   "skip_h1_title": false,
   "title_cell": "Table of Contents",
   "title_sidebar": "Contents",
   "toc_cell": false,
   "toc_position": {},
   "toc_section_display": true,
   "toc_window_display": false
  },
  "varInspector": {
   "cols": {
    "lenName": 16,
    "lenType": 16,
    "lenVar": 40
   },
   "kernels_config": {
    "python": {
     "delete_cmd_postfix": "",
     "delete_cmd_prefix": "del ",
     "library": "var_list.py",
     "varRefreshCmd": "print(var_dic_list())"
    },
    "r": {
     "delete_cmd_postfix": ") ",
     "delete_cmd_prefix": "rm(",
     "library": "var_list.r",
     "varRefreshCmd": "cat(var_dic_list()) "
    }
   },
   "types_to_exclude": [
    "module",
    "function",
    "builtin_function_or_method",
    "instance",
    "_Feature"
   ],
   "window_display": false
  }
 },
 "nbformat": 4,
 "nbformat_minor": 5
}
