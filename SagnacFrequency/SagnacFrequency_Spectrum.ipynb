{
 "cells": [
  {
   "cell_type": "markdown",
   "id": "22f5c8c9",
   "metadata": {
    "ExecuteTime": {
     "end_time": "2022-10-28T13:00:52.763484Z",
     "start_time": "2022-10-28T13:00:52.761516Z"
    }
   },
   "source": [
    "## Compute Sagnac Frequency - Spectrum"
   ]
  },
  {
   "cell_type": "markdown",
   "id": "185b1a0b",
   "metadata": {},
   "source": [
    "## Imports"
   ]
  },
  {
   "cell_type": "code",
   "execution_count": null,
   "id": "818caf4c",
   "metadata": {
    "ExecuteTime": {
     "end_time": "2023-05-30T17:07:04.364829Z",
     "start_time": "2023-05-30T17:07:02.634061Z"
    }
   },
   "outputs": [],
   "source": [
    "import os\n",
    "import matplotlib.pyplot as plt\n",
    "\n",
    "from datetime import datetime, date\n",
    "from pandas import DataFrame, read_pickle, date_range, concat, read_csv\n",
    "from obspy import UTCDateTime\n",
    "from numpy import mean, median"
   ]
  },
  {
   "cell_type": "code",
   "execution_count": null,
   "id": "b83c9987",
   "metadata": {
    "ExecuteTime": {
     "end_time": "2023-05-30T17:07:04.371847Z",
     "start_time": "2023-05-30T17:07:04.367460Z"
    }
   },
   "outputs": [],
   "source": [
    "if os.uname().nodename == 'lighthouse':\n",
    "    root_path = '/home/andbro/'\n",
    "    data_path = '/home/andbro/kilauea-data/'\n",
    "    archive_path = '/home/andbro/freenas/'\n",
    "elif os.uname().nodename == 'kilauea':\n",
    "    root_path = '/home/brotzer/'\n",
    "    data_path = '/import/kilauea-data/'\n",
    "    archive_path = '/import/freenas-ffb-01-data/'"
   ]
  },
  {
   "cell_type": "markdown",
   "id": "ec2578ab",
   "metadata": {},
   "source": [
    "## Configurations"
   ]
  },
  {
   "cell_type": "code",
   "execution_count": null,
   "id": "ba83e3e7",
   "metadata": {
    "ExecuteTime": {
     "end_time": "2023-05-30T17:07:04.377933Z",
     "start_time": "2023-05-30T17:07:04.373645Z"
    }
   },
   "outputs": [],
   "source": [
    "config = {}\n",
    "\n",
    "config['seed'] = \"BW.DROMY..FJZ\"\n",
    "\n",
    "## Easter\n",
    "config['tbeg'] = UTCDateTime(\"2023-04-07 00:00\")\n",
    "config['tend'] = UTCDateTime(\"2023-04-10 00:00\")\n",
    "\n",
    "config['datapath'] = data_path+\"sagnac_frequency/easter/\"\n",
    "\n",
    "\n",
    "## PRISM\n",
    "config['tbeg'] = UTCDateTime(\"2023-05-09 01:00\")\n",
    "config['tend'] = UTCDateTime(\"2023-05-09 04:00\")\n",
    "\n",
    "config['datapath'] = data_path+\"sagnac_frequency/prism/\"\n"
   ]
  },
  {
   "cell_type": "markdown",
   "id": "37c3b765",
   "metadata": {
    "ExecuteTime": {
     "end_time": "2022-11-04T13:39:03.633371Z",
     "start_time": "2022-11-04T13:39:03.631352Z"
    }
   },
   "source": [
    "## Load Data"
   ]
  },
  {
   "cell_type": "code",
   "execution_count": null,
   "id": "ccbabc03",
   "metadata": {
    "ExecuteTime": {
     "end_time": "2023-05-30T17:07:04.382988Z",
     "start_time": "2023-05-30T17:07:04.380526Z"
    },
    "code_folding": [
     0
    ]
   },
   "outputs": [],
   "source": [
    "# def __load_data(config):\n",
    "    \n",
    "#     net, sta, loc, cha = config['seed'].split(\".\")\n",
    "    \n",
    "#     t1 = date.fromisoformat(str(config['tbeg'].date))\n",
    "#     t2 = date.fromisoformat(str(config['tend'].date))\n",
    "\n",
    "#     df = DataFrame()\n",
    "#     for dat in date_range(t1,t2):\n",
    "#         file = cha+\"_\"+str(dat)[:10].replace(\"-\",\"\")+\".pkl\"\n",
    "\n",
    "#         try:\n",
    "#             df0 = read_pickle(config['datapath']+file)\n",
    "#             df = concat([df, df0])\n",
    "#         except:\n",
    "#             print(f\"error for {config['datapath']}{file}\")\n",
    "            \n",
    "#     return df"
   ]
  },
  {
   "cell_type": "code",
   "execution_count": null,
   "id": "39daebaf",
   "metadata": {
    "ExecuteTime": {
     "end_time": "2023-05-30T17:07:04.388361Z",
     "start_time": "2023-05-30T17:07:04.384263Z"
    }
   },
   "outputs": [],
   "source": [
    "# config['seed'] = \"BW.DROMY..FJZ\"\n",
    "# fjz = __load_data(config)\n",
    "\n",
    "# # config['seed'] = \"BW.DROMY..F1V\"\n",
    "# # f1z = __load_data(config)\n",
    "\n",
    "# # config['seed'] = \"BW.DROMY..F4V\"\n",
    "# # f2z = __load_data(config)"
   ]
  },
  {
   "cell_type": "markdown",
   "id": "e0b31533",
   "metadata": {
    "ExecuteTime": {
     "end_time": "2023-05-30T10:43:41.639587Z",
     "start_time": "2023-05-30T10:43:41.629472Z"
    }
   },
   "source": [
    "## Plot Daily Hourly Spectra"
   ]
  },
  {
   "cell_type": "code",
   "execution_count": null,
   "id": "9801a830",
   "metadata": {
    "ExecuteTime": {
     "end_time": "2023-05-30T17:07:57.382214Z",
     "start_time": "2023-05-30T17:07:04.390203Z"
    }
   },
   "outputs": [],
   "source": [
    "df = read_pickle(\"/home/andbro/freenas/romy_autodata/2023/RZ/RZ_20230518_spectra.pkl\")\n",
    "\n",
    "freqs = df['frequencies']\n",
    "psds = df['psds']"
   ]
  },
  {
   "cell_type": "code",
   "execution_count": null,
   "id": "bcdf718e",
   "metadata": {
    "ExecuteTime": {
     "start_time": "2023-05-30T17:08:26.245Z"
    }
   },
   "outputs": [],
   "source": [
    "fig, ax = plt.subplots(1,2,figsize=(15,5))\n",
    "\n",
    "for psd in psds:\n",
    "    print(median(psd[:10_000]))\n",
    "    if median(psd[:10_000]) > 1e-7:\n",
    "        ax[0].loglog(freqs, psd, color='grey', alpha=0.2, zorder=0)\n",
    "#         ax[1].loglog(freqs, psd, color='grey', alpha=0.2, zorder=0)\n",
    "    else:\n",
    "        ax[0].loglog(freqs, psd)\n",
    "        ax[1].loglog(freqs, psd)\n",
    "        \n",
    "ax[1].set_xlim(553-30, 553+30)\n"
   ]
  },
  {
   "cell_type": "code",
   "execution_count": null,
   "id": "f2149905",
   "metadata": {},
   "outputs": [],
   "source": []
  }
 ],
 "metadata": {
  "kernelspec": {
   "display_name": "Python 3 (ipykernel)",
   "language": "python",
   "name": "python3"
  },
  "language_info": {
   "codemirror_mode": {
    "name": "ipython",
    "version": 3
   },
   "file_extension": ".py",
   "mimetype": "text/x-python",
   "name": "python",
   "nbconvert_exporter": "python",
   "pygments_lexer": "ipython3",
   "version": "3.7.8"
  },
  "latex_envs": {
   "LaTeX_envs_menu_present": true,
   "autoclose": false,
   "autocomplete": true,
   "bibliofile": "biblio.bib",
   "cite_by": "apalike",
   "current_citInitial": 1,
   "eqLabelWithNumbers": true,
   "eqNumInitial": 1,
   "hotkeys": {
    "equation": "Ctrl-E",
    "itemize": "Ctrl-I"
   },
   "labels_anchors": false,
   "latex_user_defs": false,
   "report_style_numbering": false,
   "user_envs_cfg": false
  },
  "toc": {
   "base_numbering": 1,
   "nav_menu": {},
   "number_sections": true,
   "sideBar": true,
   "skip_h1_title": false,
   "title_cell": "Table of Contents",
   "title_sidebar": "Contents",
   "toc_cell": false,
   "toc_position": {},
   "toc_section_display": true,
   "toc_window_display": false
  },
  "varInspector": {
   "cols": {
    "lenName": 16,
    "lenType": 16,
    "lenVar": 40
   },
   "kernels_config": {
    "python": {
     "delete_cmd_postfix": "",
     "delete_cmd_prefix": "del ",
     "library": "var_list.py",
     "varRefreshCmd": "print(var_dic_list())"
    },
    "r": {
     "delete_cmd_postfix": ") ",
     "delete_cmd_prefix": "rm(",
     "library": "var_list.r",
     "varRefreshCmd": "cat(var_dic_list()) "
    }
   },
   "types_to_exclude": [
    "module",
    "function",
    "builtin_function_or_method",
    "instance",
    "_Feature"
   ],
   "window_display": false
  }
 },
 "nbformat": 4,
 "nbformat_minor": 5
}
