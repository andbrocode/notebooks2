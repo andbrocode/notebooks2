{
 "cells": [
  {
   "cell_type": "markdown",
   "id": "22f5c8c9",
   "metadata": {
    "ExecuteTime": {
     "end_time": "2022-10-28T13:00:52.763484Z",
     "start_time": "2022-10-28T13:00:52.761516Z"
    }
   },
   "source": [
    "## Compute Sagnac Frequency - Backscatter Correction"
   ]
  },
  {
   "cell_type": "markdown",
   "id": "1cd32aed",
   "metadata": {},
   "source": []
  },
  {
   "cell_type": "markdown",
   "id": "185b1a0b",
   "metadata": {},
   "source": [
    "## Imports"
   ]
  },
  {
   "cell_type": "code",
   "execution_count": null,
   "id": "818caf4c",
   "metadata": {
    "ExecuteTime": {
     "end_time": "2023-06-27T08:11:10.277643Z",
     "start_time": "2023-06-27T08:11:08.781535Z"
    },
    "tags": []
   },
   "outputs": [],
   "source": [
    "import os\n",
    "import matplotlib.pyplot as plt\n",
    "import numpy as np\n",
    "\n",
    "from datetime import datetime, date\n",
    "from pandas import DataFrame, read_pickle, date_range, concat, read_csv\n",
    "from obspy import UTCDateTime, read\n",
    "from scipy.signal import hilbert\n"
   ]
  },
  {
   "cell_type": "code",
   "execution_count": null,
   "id": "b83c9987",
   "metadata": {
    "ExecuteTime": {
     "end_time": "2023-06-27T08:11:10.288084Z",
     "start_time": "2023-06-27T08:11:10.284752Z"
    },
    "tags": []
   },
   "outputs": [],
   "source": [
    "if os.uname().nodename == 'lighthouse':\n",
    "    root_path = '/home/andbro/'\n",
    "    data_path = '/home/andbro/kilauea-data/'\n",
    "    archive_path = '/home/andbro/freenas/'\n",
    "elif os.uname().nodename == 'kilauea':\n",
    "    root_path = '/home/brotzer/'\n",
    "    data_path = '/import/kilauea-data/'\n",
    "    archive_path = '/import/freenas-ffb-01-data/'"
   ]
  },
  {
   "cell_type": "markdown",
   "id": "ec2578ab",
   "metadata": {},
   "source": [
    "## Configurations"
   ]
  },
  {
   "cell_type": "code",
   "execution_count": null,
   "id": "ba83e3e7",
   "metadata": {
    "ExecuteTime": {
     "end_time": "2023-06-27T08:11:13.008382Z",
     "start_time": "2023-06-27T08:11:13.002517Z"
    },
    "tags": []
   },
   "outputs": [],
   "source": [
    "config = {}\n",
    "\n",
    "config['ring'] = \"U\"\n",
    "\n",
    "config['seed'] = \"BW.DROMY..FJU\"\n",
    "\n",
    "config['path_to_sds'] = archive_path+\"romy_archive/\"\n",
    "\n",
    "\n",
    "config['tbeg'] = UTCDateTime(\"2023-09-19 00:00\")\n",
    "config['tend'] = UTCDateTime(\"2023-09-19 02:00\")\n",
    "\n",
    "# config['f_lower_zoomin'], config['f_upper_zoomin'] = 448-10, 448+10\n",
    "\n",
    "## path to Sagnac data\n",
    "config['path_to_autodata'] = archive_path+f\"romy_autodata/\"\n",
    "\n",
    "config['path_to_data'] = data_path+\"sagnac_frequency/data/\"\n",
    "\n",
    "config['path_to_figs'] = data_path+\"sagnac_frequency/figures/\""
   ]
  },
  {
   "cell_type": "code",
   "execution_count": null,
   "id": "8b88098b-cb6c-4205-ba67-6a85f437fdc4",
   "metadata": {
    "ExecuteTime": {
     "end_time": "2023-06-27T08:11:26.732797Z",
     "start_time": "2023-06-27T08:11:26.732775Z"
    },
    "tags": []
   },
   "outputs": [],
   "source": [
    "def __load_romy_raw_data(seed, tbeg, tend, path_to_sds):\n",
    "\n",
    "    from andbro__read_sds import __read_sds\n",
    "    from obspy import Stream, UTCDateTime\n",
    "\n",
    "\n",
    "    print(f\" -> loading {seed}...\")\n",
    "\n",
    "    try:\n",
    "        st00 = __read_sds(path_to_sds, seed, tbeg,tend, data_format='MSEED')\n",
    "    except:\n",
    "        print(f\" -> failed for {seed}\")\n",
    "\n",
    "    st0 = st00.sort()\n",
    "\n",
    "    for tr in st0:\n",
    "        tr.data = tr.data*0.59604645e-6 # V / count  [0.59604645ug  from obsidian]\n",
    "\n",
    "    return st0"
   ]
  },
  {
   "cell_type": "markdown",
   "id": "d2c3bf44-6be4-445e-9c39-629fdc606900",
   "metadata": {
    "tags": []
   },
   "source": [
    "## NEW ULLI"
   ]
  },
  {
   "cell_type": "code",
   "execution_count": null,
   "id": "aa517b31-193f-42ee-909a-a2465a893204",
   "metadata": {
    "tags": []
   },
   "outputs": [],
   "source": [
    "# sagn = __load_romy_raw_data(\"BW.DROMY..FJU\", config['tbeg'], config['tend'], config['path_to_sds'])\n",
    "# mon1 = __load_romy_raw_data(\"BW.DROMY..F1V\", config['tbeg'], config['tend'], config['path_to_sds'])\n",
    "# mon2 = __load_romy_raw_data(\"BW.DROMY..F2V\", config['tbeg'], config['tend'], config['path_to_sds'])"
   ]
  },
  {
   "cell_type": "markdown",
   "id": "f952cadf-5eeb-4789-9aa7-f18528cef3f9",
   "metadata": {
    "tags": []
   },
   "source": [
    "### Load Local Files"
   ]
  },
  {
   "cell_type": "code",
   "execution_count": null,
   "id": "4e56366e-6ba0-4184-b1f0-b155ec372f0d",
   "metadata": {
    "tags": []
   },
   "outputs": [],
   "source": [
    "sagn = read(root_path+\"Downloads/mseed/DROMY_FJU_2023-09-19.mseed\")\n",
    "mon1 = read(root_path+\"Downloads/mseed/DROMY_F1V_2023-09-19.mseed\")\n",
    "mon2 = read(root_path+\"Downloads/mseed//DROMY_F2V_2023-09-19.mseed\")\n",
    "\n",
    "# sagn.trim(config['tbeg'], config['tbeg']+1800)\n",
    "# mon1.trim(config['tbeg'], config['tbeg']+1800)\n",
    "# mon2.trim(config['tbeg'], config['tbeg']+1800)\n",
    "\n",
    "for tr in sagn:\n",
    "    tr.data = tr.data*0.59604645e-6 # V / count  [0.59604645ug  from obsidian]\n",
    "for tr in mon1:\n",
    "    tr.data = tr.data*0.59604645e-6 # V / count  [0.59604645ug  from obsidian]\n",
    "for tr in mon2:\n",
    "    tr.data = tr.data*0.59604645e-6 # V / count  [0.59604645ug  from obsidian]\n",
    "\n",
    "config['tbeg'], config['tend'] = sagn[0].stats.starttime, sagn[0].stats.endtime"
   ]
  },
  {
   "cell_type": "code",
   "execution_count": null,
   "id": "3f7a54c6-e7a9-4e38-900c-42c66d09fce4",
   "metadata": {
    "tags": []
   },
   "outputs": [],
   "source": [
    "# sagn.plot();\n",
    "# mon1.plot();\n",
    "# mon2.plot();"
   ]
  },
  {
   "cell_type": "markdown",
   "id": "d7d548a1-7fa6-4248-a7cc-a936203396df",
   "metadata": {},
   "source": [
    "## Processing"
   ]
  },
  {
   "cell_type": "code",
   "execution_count": null,
   "id": "37174b69-4fc4-4667-be92-77d97b36afde",
   "metadata": {
    "tags": []
   },
   "outputs": [],
   "source": [
    "from functions.multitaper_psd import __multitaper_psd\n",
    "from functions.welch_psd import __welch_psd\n",
    "from acoustics.signal import phase_spectrum\n",
    "from functions.get_time_intervals import __get_time_intervals"
   ]
  },
  {
   "cell_type": "code",
   "execution_count": null,
   "id": "77799fdf-c31f-4ca3-bbb8-9307dc97393d",
   "metadata": {
    "tags": []
   },
   "outputs": [],
   "source": [
    "def __get_values(ff, psd, fph, ph, f_sagn, multitaper=False):\n",
    "\n",
    "    from numpy import argmax, sqrt, where, argmin, gradient, mean\n",
    "    from acoustics.signal import phase_spectrum\n",
    "\n",
    "    ## specify f-band around Sagnac frequency\n",
    "    fl = f_sagn-2\n",
    "    fu = f_sagn+2\n",
    "\n",
    "    ## get index of Sagnac peak\n",
    "    idx_fs = where(psd == max(psd[(ff > fl) & (ff < fu)]))[0][0]\n",
    "\n",
    "    if multitaper:\n",
    "        ## compute gradient\n",
    "        psd_d = abs(gradient(psd))\n",
    "\n",
    "        ## cut psd below f_sagn -10 Hz and above f_sagn + 10 Hz\n",
    "        psd_d1 = psd_d[(ff < f_sagn) & (ff > f_sagn - 10)]\n",
    "        psd_d2 = psd_d[(ff > f_sagn) & (ff < f_sagn + 10)]\n",
    "\n",
    "        ## get index of maximum gradient\n",
    "        idx1 = where(psd_d == max(psd_d1))[0][0]\n",
    "        idx2 = where(psd_d == max(psd_d2))[0][0]\n",
    "\n",
    "        ## get index in the center of the stronges changes (= center of plateau)\n",
    "        idx_fs = int( (idx2-idx1) /2 + idx1 )\n",
    "\n",
    "    ## estimate Sagnac frequency\n",
    "    f_sagn_est = ff[idx_fs]\n",
    "\n",
    "    ## estimate AC value at Sagnac peak\n",
    "    # AC_est = max(psd[(ff > fl) & (ff < fu)])\n",
    "    AC_est = psd[idx_fs]\n",
    "\n",
    "    ## estimate DC value at ff = 0\n",
    "    DC_est = psd[0]\n",
    "\n",
    "    ## estimate phase at Sagnac peak\n",
    "    idx_ph = argmin(abs(fph- f_sagn_est)) ## finde index of phase closest to sagnac frequency\n",
    "    phase_est = ph[idx_ph] ## select phase of Sagnac\n",
    "\n",
    "    # return f_sagn_est, sqrt(AC_est), sqrt(DC_est), phase_est\n",
    "    return f_sagn_est, AC_est, DC_est, phase_est"
   ]
  },
  {
   "cell_type": "code",
   "execution_count": null,
   "id": "b73df744-614f-45c0-9da1-0bca57ca2b84",
   "metadata": {
    "tags": []
   },
   "outputs": [],
   "source": [
    "def __get_fft(signal_in, dt, window=None):\n",
    "\n",
    "    '''\n",
    "    Calculating a simple 1D FastFourierSpectrum of a time series.\n",
    "\n",
    "    RETURN:\n",
    "\n",
    "    frequencies, spectrum, phase\n",
    "\n",
    "    TEST:\n",
    "\n",
    "    >>> spectrum, frequencies, phase = __fft(signal_in, dt ,window=None,normalize=None)\n",
    "    '''\n",
    "\n",
    "    from scipy.fft import fft, fftfreq, fftshift\n",
    "    from scipy import signal\n",
    "    from numpy import angle, imag\n",
    "    ## determine length of the input time series\n",
    "    n = int(len(signal_in))\n",
    "\n",
    "\n",
    "    ## calculate spectrum (with or without window function applied to time series)\n",
    "    if window:\n",
    "        win = signal.get_window(window, n);\n",
    "        spectrum = fft(signal_in * win)\n",
    "\n",
    "    else:\n",
    "        spectrum = fft(signal_in)\n",
    "\n",
    "    ## calculate frequency array \n",
    "    frequencies = fftfreq(n, d=dt)\n",
    "\n",
    "\n",
    "    ## correct amplitudes of spectrum\n",
    "    magnitude = 2.0 / n * abs(spectrum)\n",
    "\n",
    "\n",
    "    phase = angle(spectrum, deg=False)\n",
    "    # phase = imag(spectrum)\n",
    "\n",
    "    ## return the positive frequencies\n",
    "    return frequencies[0:n//2], magnitude[0:n//2], phase[0:n//2]"
   ]
  },
  {
   "cell_type": "code",
   "execution_count": null,
   "id": "a9d19356-d8ce-4b59-9e4a-fe28a8726db0",
   "metadata": {
    "tags": []
   },
   "outputs": [],
   "source": [
    "def __welch_psd(arr, dt, twin_sec=60):\n",
    "\n",
    "    from scipy.signal import welch\n",
    "    from scipy.signal.windows import hann\n",
    "\n",
    "    nblock = int(1/dt * twin_sec)\n",
    "    overlap = int(0.5*nblock)\n",
    "    win = hann(nblock, True)\n",
    "\n",
    "    ff, Pxx = welch(arr,\n",
    "                    fs=1/dt,\n",
    "                    window=win, noverlap=overlap,\n",
    "                    nfft=nblock,\n",
    "                    scaling=\"spectrum\",\n",
    "                    return_onesided=True)\n",
    "\n",
    "    return ff, Pxx"
   ]
  },
  {
   "cell_type": "code",
   "execution_count": null,
   "id": "ee6c13a3-fa9d-480b-b6f1-551a10816bc1",
   "metadata": {
    "tags": []
   },
   "outputs": [],
   "source": [
    "def __hilbert_frequency_estimator(st, nominal_sagnac, fband):\n",
    "\n",
    "    from scipy.signal import hilbert\n",
    "    import numpy as np\n",
    "\n",
    "    st0 = st.copy()\n",
    "\n",
    "    ## extract sampling rate\n",
    "    df = st0[0].stats.sampling_rate\n",
    "\n",
    "    ## define frequency band around Sagnac Frequency\n",
    "    f_lower = nominal_sagnac - fband\n",
    "    f_upper = nominal_sagnac + fband\n",
    "\n",
    "    ## bandpass with butterworth around Sagnac Frequency\n",
    "    st0.detrend(\"linear\")\n",
    "    st0.taper(0.01)\n",
    "    st0.filter(\"bandpass\", freqmin=f_lower, freqmax=f_upper, corners=8, zerophase=True)\n",
    "\n",
    "\n",
    "    ## estimate instantaneous frequency with hilbert\n",
    "    signal = st0[0].data\n",
    "\n",
    "    analytic_signal = hilbert(signal)\n",
    "    amplitude_envelope = np.abs(analytic_signal)\n",
    "    instantaneous_phase = np.unwrap(np.angle(analytic_signal))\n",
    "    instantaneous_frequency = (np.diff(instantaneous_phase) / (2.0*np.pi) * df)\n",
    "\n",
    "    ## cut first and last 5% (corrupted data)\n",
    "    dd = int(0.05*len(instantaneous_frequency))\n",
    "    insta_f_cut = instantaneous_frequency[dd:-dd]\n",
    "\n",
    "    ## get times\n",
    "    t = st0[0].times()\n",
    "    t_mid = t[int((len(t))/2)]\n",
    "\n",
    "    ## averaging of frequencies\n",
    "    # insta_f_cut_mean = np.mean(insta_f_cut)\n",
    "    insta_f_cut_mean = np.median(insta_f_cut)\n",
    "\n",
    "    return t_mid, insta_f_cut_mean, np.mean(amplitude_envelope), np.std(insta_f_cut)"
   ]
  },
  {
   "cell_type": "markdown",
   "id": "12ef7747-2cb6-4561-bfe3-ccd226aae9dc",
   "metadata": {
    "tags": []
   },
   "source": [
    "## Configurations"
   ]
  },
  {
   "cell_type": "code",
   "execution_count": null,
   "id": "c8f2d46f-bb36-4bc8-8487-0752cf80dfbf",
   "metadata": {
    "tags": []
   },
   "outputs": [],
   "source": [
    "tbeg, tend = sagn[0].stats.starttime, sagn[0].stats.endtime\n",
    "\n",
    "interval = 60 ## seconds\n",
    "\n",
    "method = \"fft\" ## welch | multitaper | fft\n",
    "\n",
    "times = __get_time_intervals(tbeg, tend, interval_seconds=interval, interval_overlap=0)"
   ]
  },
  {
   "cell_type": "markdown",
   "id": "9581fc95-968a-4086-8fe2-c0773b640bf4",
   "metadata": {},
   "source": [
    "## Computing"
   ]
  },
  {
   "cell_type": "code",
   "execution_count": null,
   "id": "303f6ca7-a770-470a-864a-6099b593448b",
   "metadata": {
    "tags": []
   },
   "outputs": [],
   "source": [
    "fs, ac, dc, ph = np.ones(len(times))*np.nan, np.ones(len(times))*np.nan, np.ones(len(times))*np.nan, np.ones(len(times))*np.nan\n",
    "\n",
    "\n",
    "out_df = DataFrame()\n",
    "out_df['time1'] = list(zip(*times))[0]\n",
    "out_df['time2'] = list(zip(*times))[1]\n",
    "\n",
    "for _k, _st in enumerate([sagn, mon1, mon2]):\n",
    "\n",
    "    print(_k, \"...\")\n",
    "\n",
    "    for _n, (t1, t2) in enumerate(times):\n",
    "\n",
    "        _dat = _st.copy().trim(t1, t2)\n",
    "\n",
    "        if method == \"welch\":\n",
    "            f, psd = __welch_psd(_dat[0].data, _dat[0].stats.delta, twin_sec=interval)\n",
    "            f_pha, pha = phase_spectrum(_dat[0].data, _dat[0].stats.sampling_rate)\n",
    "        elif method == \"multitaper\":\n",
    "            f, psd = __multitaper_psd(_dat[0].data, _dat[0].stats.delta, n_win=4)\n",
    "            f_pha, pha = phase_spectrum(_dat[0].data, _dat[0].stats.sampling_rate)\n",
    "        elif method == \"fft\":\n",
    "            f, psd, pha = __get_fft(_dat[0].data, _dat[0].stats.delta, window=None)\n",
    "            f_pha = f\n",
    "\n",
    "\n",
    "        fs[_n], ac[_n], dc[_n], ph[_n] = __get_values(f, psd, f_pha, pha, 303)\n",
    "\n",
    "        t, fs[_n], _, _ = __hilbert_frequency_estimator(_dat, nominal_sagnac=303, fband=10)\n",
    "\n",
    "        # dc[_n] = np.mean(_dat)\n",
    "        # ac[_n] = np.percentile(_dat[0].data, 99.9) - np.percentile(_dat[0].data, 100-99.9)\n",
    "\n",
    "    ph = np.unwrap(ph)\n",
    "\n",
    "    if _k == 0:\n",
    "        out_df['fj_fs'], out_df['fj_ac'], out_df['fj_dc'], out_df['fj_ph'] = fs, ac, dc, ph\n",
    "    elif _k == 1:\n",
    "        out_df['f1_fs'], out_df['f1_ac'], out_df['f1_dc'], out_df['f1_ph'] = fs, ac, dc, ph\n",
    "    elif _k == 2:\n",
    "        out_df['f2_fs'], out_df['f2_ac'], out_df['f2_dc'], out_df['f2_ph'] = fs, ac, dc, ph\n",
    "\n",
    "## store data\n",
    "date_str = f\"{config['tbeg'].year}{str(config['tbeg'].month).rjust(2,'0')}{str(config['tbeg'].day).rjust(2,'0')}\"\n",
    "out_df.to_pickle(config['path_to_data']+f\"{date_str}_{method}.pkl\")"
   ]
  },
  {
   "cell_type": "code",
   "execution_count": null,
   "id": "51931b63-c210-4304-a04d-9e27ee1a3bb5",
   "metadata": {
    "tags": []
   },
   "outputs": [],
   "source": [
    "# out_df = read_pickle(config['path_to_data']+f\"20230919_backscatter.pkl\")\n",
    "# out_df = read_pickle(config['path_to_data']+f\"20230901_backscatter.pkl\")"
   ]
  },
  {
   "cell_type": "code",
   "execution_count": null,
   "id": "7ee28142-7222-46ff-b60f-99b25285f215",
   "metadata": {
    "tags": []
   },
   "outputs": [],
   "source": [
    "def __makeplot(df):\n",
    "\n",
    "    Nrow, Ncol = 5, 1\n",
    "\n",
    "    font = 12\n",
    "    ms = 15\n",
    "\n",
    "    fig, ax = plt.subplots(Nrow, Ncol, figsize=(15, 10), sharex=True)\n",
    "\n",
    "    t_axis = (np.array(range(len(df['fj_fs'])))+0.5)*interval/60\n",
    "\n",
    "    ax[0].scatter(t_axis, df['fj_fs'], zorder=2, s=ms, label=\"fj\")\n",
    "    ax[0].scatter(t_axis, df['f1_fs'], zorder=2, s=ms, label=\"f1\")\n",
    "    ax[0].scatter(t_axis, df['f2_fs'], zorder=2, s=ms, label=\"f2\")\n",
    "    ax[0].set_ylabel(\"$\\delta$f (Hz)\")\n",
    "    ax[0].ticklabel_format(useOffset=False)\n",
    "\n",
    "    ax[1].scatter(t_axis, df['fj_ac'], zorder=2, s=ms, label=\"fj\")\n",
    "    ax[1].scatter(t_axis, df['f1_ac'], zorder=2, s=ms, label=\"f1\")\n",
    "    ax[1].scatter(t_axis, df['f2_ac'], zorder=2, s=ms, label=\"f2\")\n",
    "    # ax[1].set_ylabel(\"AC (V / $\\sqrt{Hz})$\")\n",
    "    ax[1].set_ylabel(\"AC (V)\")\n",
    "\n",
    "    ax[2].scatter(t_axis, df['fj_dc'], zorder=2, s=ms, label=\"fj\")\n",
    "    ax[2].scatter(t_axis, df['f1_dc'], zorder=2, s=ms, label=\"f1\")\n",
    "    ax[2].scatter(t_axis, df['f2_dc'], zorder=2, s=ms, label=\"f2\")\n",
    "    # ax[2].set_ylabel(\"DC (V / $\\sqrt{Hz})$\")\n",
    "    ax[2].set_ylabel(\"DC (V)\")\n",
    "    # ax[2].set_yscale(\"log\")\n",
    "\n",
    "    ax[3].scatter(t_axis, df['fj_ac']/df['fj_dc'], zorder=2, s=ms, label=\"fj\")\n",
    "    ax[3].scatter(t_axis, df['f1_ac']/df['f1_dc'], zorder=2, s=ms, label=\"f1\")\n",
    "    ax[3].scatter(t_axis, df['f2_ac']/df['f2_dc'], zorder=2, s=ms, label=\"f2\")\n",
    "    # ax[3].set_yscale(\"log\")\n",
    "    ax[3].set_ylabel(\"AC/DC\")\n",
    "\n",
    "    ax[4].scatter(t_axis, df['f1_ph']-df['f2_ph'], color=\"k\", zorder=2, s=ms, label=\"f1-f2\")\n",
    "    ax[4].set_ylabel(\"$\\Delta$ Phase (rad)\")\n",
    "    # ax[4].set_yscale(\"log\")\n",
    "\n",
    "    ax[4].set_xlabel(\"Time (min)\")\n",
    "\n",
    "    for _n in range(Nrow):\n",
    "        ax[_n].grid(ls=\":\", zorder=0)\n",
    "        ax[_n].legend(loc=1, ncol=3)\n",
    "\n",
    "    plt.show();\n",
    "    return fig\n",
    "\n",
    "fig = __makeplot(out_df);\n",
    "\n",
    "fig.savefig(config['path_to_figs']+f\"SagnacFrequency_BS_{method}_values_10hr.jpeg\", format=\"jpeg\", dpi=200, bbox_inches='tight')"
   ]
  },
  {
   "cell_type": "markdown",
   "id": "3c62347a-2b19-4f87-a4ce-3c967eab89bd",
   "metadata": {
    "tags": []
   },
   "source": [
    "## Define Quantities for Backscatter Correction"
   ]
  },
  {
   "cell_type": "code",
   "execution_count": null,
   "id": "16854512-9661-4590-a5d3-8011f04201a9",
   "metadata": {
    "tags": []
   },
   "outputs": [],
   "source": [
    "def __backscatter_correction(m01, m02, phase0, w_obs, cm_filter_factor=1.033):\n",
    "\n",
    "    ## Correct for bias\n",
    "    m1 = m01 * ( 1 + m01**2 / 4 )\n",
    "    m2 = m02 * ( 1 + m02**2 / 4 )\n",
    "\n",
    "    ## angular correction for phase\n",
    "    phase = phase0 + 0.5 * m1 * m2 * np.sin( phase0 )\n",
    "\n",
    "    ## compute squares of common-mode modulations\n",
    "    m2c = ( m1**2 + m2**2 + 2*m1*m2*np.cos( phase ) ) / 4\n",
    "\n",
    "    ## compute squares of differential-mode modulations\n",
    "    m2d = ( m1**2 + m2**2 - 2*m1*m2*np.cos( phase ) ) / 4  ## different angle!\n",
    "\n",
    "    ## correct m2c for gain saturation of a HeNe laser\n",
    "    # m2c = m2c * ( 1 + ( beta + theta )**2 * fL**2 * I0**2 / ws**2 )\n",
    "    m2c = m2c * cm_filter_factor\n",
    "\n",
    "    ## compute backscatter correction factor\n",
    "    M = m2c - m2d + 0.25 * m1**2 * m2**2 * np.sin(phase)**2\n",
    "\n",
    "    ## correction term\n",
    "    term = ( 4 + M ) / ( 4 - M )\n",
    "\n",
    "    ## backscatter correction\n",
    "    correction = -1 * ( term -1 ) * 303.05\n",
    "\n",
    "    w_corrected = np.array(w_obs) + correction\n",
    "\n",
    "    return w_corrected"
   ]
  },
  {
   "cell_type": "code",
   "execution_count": null,
   "id": "37047817-c1f6-4a26-981b-f124b14ce240",
   "metadata": {
    "tags": []
   },
   "outputs": [],
   "source": [
    "# fractional beat modulations\n",
    "m01 = out_df.f1_ac / out_df.f1_dc\n",
    "m02 = out_df.f2_ac / out_df.f2_dc\n",
    "\n",
    "\n",
    "# phase difference\n",
    "# phase0 = abs(hilbert(beat.f1 - beat.f2))\n",
    "# phase0 = abs(out_df.f1_ph - out_df.f2_ph)\n",
    "phase0 = out_df.f1_ph - out_df.f2_ph\n",
    "\n",
    "# beat signal observed\n",
    "w_obs = out_df.fj_fs\n",
    "\n",
    "\n",
    "## from Hurst 2014\n",
    "\n",
    "cm_filter_factor = 1.033\n",
    "\n",
    "## free spectral range fsr = c / P\n",
    "fL = 8e6 ## Hz\n",
    "\n",
    "## gain\n",
    "alpha = 7.39e-6\n",
    "\n",
    "## sekf-saturation coefficient\n",
    "beta = 4.67e-5\n",
    "\n",
    "## cross-saturation coefficient\n",
    "theta = 1.014e-5\n",
    "\n",
    "# I0 ="
   ]
  },
  {
   "cell_type": "markdown",
   "id": "40601cc4-09a1-492d-a5e8-712913eeee03",
   "metadata": {
    "tags": []
   },
   "source": [
    "## Beat Data"
   ]
  },
  {
   "cell_type": "code",
   "execution_count": null,
   "id": "c694f98b-df73-4166-8457-2d0a861f924b",
   "metadata": {
    "tags": []
   },
   "outputs": [],
   "source": [
    "def __load_beat(tbeg, tend, ring, path_to_data):\n",
    "\n",
    "    from datetime import date\n",
    "    from pandas import read_pickle, concat, DataFrame, date_range\n",
    "    from obspy import UTCDateTime\n",
    "\n",
    "\n",
    "    tbeg, tend = UTCDateTime(tbeg), UTCDateTime(tend)\n",
    "\n",
    "    dd1 = date.fromisoformat(str(tbeg.date))\n",
    "    dd2 = date.fromisoformat(str(tend.date))\n",
    "\n",
    "    year = str(tbeg.year)\n",
    "\n",
    "    df = DataFrame()\n",
    "    for dat in date_range(dd1, dd2):\n",
    "        file = f\"{year}/R{ring}/FJ{ring}_\"+str(dat)[:10].replace(\"-\", \"\")+\".pkl\"\n",
    "        try:\n",
    "            df0 = read_pickle(path_to_data+file)\n",
    "            df = concat([df, df0])\n",
    "        except:\n",
    "            print(f\"error for {file}\")\n",
    "\n",
    "    ## trim to defined times\n",
    "    df = df[(df.times_utc >= tbeg) & (df.times_utc < tend)]\n",
    "\n",
    "    ## correct seconds\n",
    "    df['times_utc_sec'] = [abs(tbeg - UTCDateTime(_t))  for _t in df['times_utc']]\n",
    "\n",
    "    return df"
   ]
  },
  {
   "cell_type": "code",
   "execution_count": null,
   "id": "0cd2cc61-58bc-44d6-bbb6-b00eda834b0d",
   "metadata": {
    "tags": []
   },
   "outputs": [],
   "source": [
    "t1, t2 = UTCDateTime(out_df['time1'][0]), UTCDateTime(out_df['time1'][0])+len(out_df['time1'])*interval\n",
    "\n",
    "data = __load_beat(t1, t2, config['seed'].split(\".\")[3][2], config['path_to_autodata'])\n",
    "w_obs = data['fj']"
   ]
  },
  {
   "cell_type": "markdown",
   "id": "2f2f7756-a2e9-49e6-9919-8fa2ebae4c23",
   "metadata": {},
   "source": [
    "## Compute Backscatter Correction"
   ]
  },
  {
   "cell_type": "code",
   "execution_count": null,
   "id": "cdd5934a-3a1d-4736-a6bf-3a4337e5c14e",
   "metadata": {
    "tags": []
   },
   "outputs": [],
   "source": [
    "# w_s = __backscatter_correction(m01, m02, phase0, w_obs, cm_filter_factor=cm_filter_factor)"
   ]
  },
  {
   "cell_type": "code",
   "execution_count": null,
   "id": "65ecb669-06a8-46f5-80a5-b3a0662faf86",
   "metadata": {
    "tags": []
   },
   "outputs": [],
   "source": [
    "## Correct for bias\n",
    "m1 = m01 * ( 1 + m01**2 / 4 )\n",
    "m2 = m02 * ( 1 + m02**2 / 4 )\n",
    "\n",
    "## angular correction for phase\n",
    "phase = phase0 + 0.5 * m1 * m2 * np.sin( phase0 )\n",
    "\n",
    "## compute squares of common-mode modulations\n",
    "m2c = ( m1**2 + m2**2 + 2*m1*m2*np.cos( phase ) ) / 4\n",
    "\n",
    "## compute squares of differential-mode modulations\n",
    "m2d = ( m1**2 + m2**2 - 2*m1*m2*np.cos( phase ) ) / 4  ## different angle!\n",
    "\n",
    "## correct m2c for gain saturation of a HeNe laser\n",
    "# m2c = m2c * ( 1 + ( beta + theta )**2 * fL**2 * I0**2 / ws**2 )\n",
    "m2c = m2c * cm_filter_factor\n",
    "\n",
    "## compute backscatter correction factor\n",
    "M = m2c - m2d + 0.25 * m1**2 * m2**2 * np.sin(phase)**2\n",
    "\n",
    "## correction term\n",
    "term = ( 4 + M ) / ( 4 - M )\n",
    "\n",
    "## backscatter correction\n",
    "correction = -1 * ( term -1 ) * 303.05\n",
    "\n",
    "w_corrected = np.array(w_obs) + correction"
   ]
  },
  {
   "cell_type": "code",
   "execution_count": null,
   "id": "56686a35-7351-4181-8964-481f4271d4d0",
   "metadata": {
    "tags": []
   },
   "outputs": [],
   "source": [
    "len(w_obs), len(w_corrected)"
   ]
  },
  {
   "cell_type": "markdown",
   "id": "6fc8b0a3-8725-4f17-ba5f-1bed17258373",
   "metadata": {},
   "source": [
    "## Plotting"
   ]
  },
  {
   "cell_type": "code",
   "execution_count": null,
   "id": "56b75daa-708f-4fe5-8ae7-195e0a1dd460",
   "metadata": {
    "tags": []
   },
   "outputs": [],
   "source": [
    "def __makeplot():\n",
    "\n",
    "    Nrow, Ncol = 5, 1\n",
    "\n",
    "    font = 12\n",
    "    ms = 15\n",
    "\n",
    "    fig, ax = plt.subplots(Nrow, Ncol, figsize=(15, 10), sharex=True)\n",
    "\n",
    "    t_axis = (np.array(range(len(out_df['fj_fs'])))+0.5)*interval/60\n",
    "\n",
    "    ax[0].plot(t_axis, w_obs, color=\"k\", label=\"$\\omega$\")\n",
    "    ax[0].plot(t_axis, w_corrected, color=\"r\", label=\"$\\omega_{s}$ = $\\omega_{obs}$ - BS correction\")\n",
    "    ax[0].ticklabel_format(useOffset=False)\n",
    "    ax[0].set_ylabel(\"$\\delta$f$_{obs}$ (Hz)\")\n",
    "\n",
    "    ax[1].plot(t_axis, m01, label=\"m01\")\n",
    "    ax[1].plot(t_axis, m02, label=\"m02\")\n",
    "    ax[1].set_ylabel(\"fractional modulation\")\n",
    "\n",
    "    ax[2].plot(t_axis, phase, color=\"k\", label=r\"$\\theta$1 - $\\theta$2\")\n",
    "    ax[2].set_ylabel(\" $\\Delta$ phase (rad)\")\n",
    "\n",
    "    # ax[3].plot(t_axis, M, color=\"k\", label=\"M\")\n",
    "    ax[3].plot(t_axis, (4+M)/(4-M), color=\"k\", label=\"(4+M)/(4-M))\")\n",
    "    ax[3].set_ylabel(\"BS faktor\")\n",
    "    ax[3].ticklabel_format(useOffset=False)\n",
    "\n",
    "    ax[4].plot(t_axis, correction, color=\"k\", label=\"BS correction = ((4+M)/(4-M) -1)*303.05\")\n",
    "    # ax[4].set_ylabel(\"$\\delta$f$_{corrected}$ (Hz)\")\n",
    "    ax[4].set_ylabel(\"BS correction (Hz)\")\n",
    "    ax[4].ticklabel_format(useOffset=False)\n",
    "\n",
    "    ax[4].set_xlabel(\"Time (min)\")\n",
    "\n",
    "    for _n in range(Nrow):\n",
    "        ax[_n].grid(ls=\":\", zorder=0)\n",
    "        ax[_n].legend(loc=1, ncol=3)\n",
    "\n",
    "    ax[0].set_title(f\" {t1.date}  {str(t1.time).split('.')[0]} - {str(t2.time).split('.')[0]} UTC\")\n",
    "\n",
    "    plt.show();\n",
    "    return fig\n",
    "\n",
    "fig = __makeplot();\n",
    "\n",
    "fig.savefig(config['path_to_figs']+f\"SagnacFrequency_BS_frequencyomain_{method}_{interval}_{str(t1.date).replace('-',' ')}.png\", format=\"png\", dpi=200, bbox_inches='tight')"
   ]
  },
  {
   "cell_type": "code",
   "execution_count": null,
   "id": "eef206ea-78d8-4f1a-8d17-3c59eb12e6be",
   "metadata": {},
   "outputs": [],
   "source": []
  },
  {
   "cell_type": "markdown",
   "id": "32f14f48-8716-475b-a31a-fd9a0322cee2",
   "metadata": {},
   "source": [
    "## Change of CM factor"
   ]
  },
  {
   "cell_type": "code",
   "execution_count": null,
   "id": "2d38e10d-0680-4d5f-979a-26a63df3ca86",
   "metadata": {
    "tags": []
   },
   "outputs": [],
   "source": [
    "ws = []\n",
    "cm = [0.01, 0.1, 1.0, 2.0]\n",
    "for cm_f_f in cm:\n",
    "    _ws = __backscatter_correction(m01, m02, phase0, w_obs, cm_filter_factor=cm_f_f)\n",
    "    ws.append(_ws)"
   ]
  },
  {
   "cell_type": "code",
   "execution_count": null,
   "id": "6d50d4cd-548a-4f0e-a18e-7e03fabecfe0",
   "metadata": {
    "tags": []
   },
   "outputs": [],
   "source": [
    "def __makeplot():\n",
    "\n",
    "    Nrow, Ncol = 5, 1\n",
    "\n",
    "    font = 12\n",
    "    ms = 15\n",
    "\n",
    "    fig, ax = plt.subplots(Nrow, Ncol, figsize=(15, 10), sharex=True)\n",
    "\n",
    "    t_axis = (np.array(range(len(out_df['fj_fs'])))+0.5)*interval/60\n",
    "\n",
    "    ax[0].plot(t_axis, w_obs, color=\"k\", label=\"$\\omega_{obs}$\", zorder=2)\n",
    "    # ax[0].plot(t_axis, w_s, color=\"r\", label=\"$\\omega_{s}$ = $\\omega_{obs}$ - BS correction\")\n",
    "    ax[0].ticklabel_format(useOffset=False)\n",
    "    ax[0].set_ylabel(\"$\\delta$f$_{obs}$ (Hz)\")\n",
    "\n",
    "    for _ws, _cm in zip(ws, cm):\n",
    "        ax[0].plot(t_axis, _ws, label=f\"cm={_cm}\", zorder=1)\n",
    "\n",
    "\n",
    "    ax[1].plot(t_axis, m01, label=\"m01\")\n",
    "    ax[1].plot(t_axis, m02, label=\"m02\")\n",
    "    ax[1].set_ylabel(\"fractional modulation\")\n",
    "\n",
    "    ax[2].plot(t_axis, phase, color=\"k\", label=r\"$\\theta$1 - $\\theta$2\")\n",
    "    ax[2].set_ylabel(\" $\\Delta$ phase (rad)\")\n",
    "\n",
    "    # ax[3].plot(t_axis, M, color=\"k\", label=\"M\")\n",
    "    ax[3].plot(t_axis, (4+M)/(4-M), color=\"k\", label=\"(4+M)/(4-M))\")\n",
    "    ax[3].set_ylabel(\"BS faktor\")\n",
    "    ax[3].ticklabel_format(useOffset=False)\n",
    "\n",
    "    ax[4].plot(t_axis, correction, color=\"k\", label=\"BS correction = ((4+M)/(4-M) -1)*303.05\")\n",
    "    # ax[4].set_ylabel(\"$\\delta$f$_{corrected}$ (Hz)\")\n",
    "    ax[4].set_ylabel(\"BS correction (Hz)\")\n",
    "    ax[4].ticklabel_format(useOffset=False)\n",
    "\n",
    "    ax[4].set_xlabel(\"Time (min)\")\n",
    "\n",
    "    for _n in range(Nrow):\n",
    "        ax[_n].grid(ls=\":\", zorder=0)\n",
    "        ax[_n].legend(loc=1, ncol=3)\n",
    "\n",
    "    plt.show();\n",
    "    return fig\n",
    "\n",
    "fig = __makeplot();\n",
    "\n",
    "fig.savefig(config['path_to_figs']+f\"SagnacFrequency_BS_frequencyomain_{method}_{interval}_cm_test.png\", format=\"png\", dpi=200, bbox_inches='tight')"
   ]
  },
  {
   "cell_type": "code",
   "execution_count": null,
   "id": "5ea2b7e4-0aba-4388-9a52-a8811b28ab66",
   "metadata": {},
   "outputs": [],
   "source": []
  },
  {
   "cell_type": "markdown",
   "id": "db800188-975c-4987-b737-aa5e87222e7e",
   "metadata": {},
   "source": [
    "## Test"
   ]
  },
  {
   "cell_type": "code",
   "execution_count": null,
   "id": "f0b9e7ec-3495-4948-9985-9b76a4beb4c0",
   "metadata": {
    "tags": []
   },
   "outputs": [],
   "source": [
    "ac1 = np.percentile(_dat[0].data, 99.9)\n",
    "ac2 = np.percentile(_dat[0].data, 100-99.9)\n",
    "\n",
    "print(ac1-ac2)\n",
    "\n",
    "plt.plot(_dat[0].data)\n",
    "plt.axhline(ac1, c=\"r\", zorder=2)\n",
    "plt.axhline(ac2, c=\"r\", zorder=2)\n",
    "plt.axhline(np.mean(_dat[0].data), c=\"orange\", zorder=2)\n",
    "plt.axhline(np.median(_dat[0].data), c=\"orange\", zorder=2)"
   ]
  },
  {
   "cell_type": "code",
   "execution_count": null,
   "id": "6878bd78-1723-4940-8e72-fe51fad57bb5",
   "metadata": {
    "tags": []
   },
   "outputs": [],
   "source": [
    "plt.hist(_dat[0].data, bins=100)\n",
    "plt.axvline(np.mean(_dat[0].data), color='r')\n",
    "plt.axvline(np.median(_dat[0].data), color='g')\n",
    "plt.show();"
   ]
  },
  {
   "cell_type": "code",
   "execution_count": null,
   "id": "b5848470-034e-42de-b6ae-11f9849350e3",
   "metadata": {},
   "outputs": [],
   "source": []
  },
  {
   "cell_type": "code",
   "execution_count": null,
   "id": "39ac6378-b71e-498a-b1cd-03e25b34a669",
   "metadata": {},
   "outputs": [],
   "source": [
    "t, f, a, b = __hilbert_frequency_estimator(_dat, 303.05, 10)"
   ]
  },
  {
   "cell_type": "code",
   "execution_count": null,
   "id": "9c1f0966-baf7-4343-b266-925b2ff34f07",
   "metadata": {},
   "outputs": [],
   "source": []
  }
 ],
 "metadata": {
  "kernelspec": {
   "display_name": "Python 3 (ipykernel)",
   "language": "python",
   "name": "python3"
  },
  "language_info": {
   "codemirror_mode": {
    "name": "ipython",
    "version": 3
   },
   "file_extension": ".py",
   "mimetype": "text/x-python",
   "name": "python",
   "nbconvert_exporter": "python",
   "pygments_lexer": "ipython3",
   "version": "3.10.12"
  },
  "latex_envs": {
   "LaTeX_envs_menu_present": true,
   "autoclose": false,
   "autocomplete": true,
   "bibliofile": "biblio.bib",
   "cite_by": "apalike",
   "current_citInitial": 1,
   "eqLabelWithNumbers": true,
   "eqNumInitial": 1,
   "hotkeys": {
    "equation": "Ctrl-E",
    "itemize": "Ctrl-I"
   },
   "labels_anchors": false,
   "latex_user_defs": false,
   "report_style_numbering": false,
   "user_envs_cfg": false
  },
  "toc": {
   "base_numbering": 1,
   "nav_menu": {},
   "number_sections": true,
   "sideBar": true,
   "skip_h1_title": false,
   "title_cell": "Table of Contents",
   "title_sidebar": "Contents",
   "toc_cell": false,
   "toc_position": {},
   "toc_section_display": true,
   "toc_window_display": false
  },
  "varInspector": {
   "cols": {
    "lenName": 16,
    "lenType": 16,
    "lenVar": 40
   },
   "kernels_config": {
    "python": {
     "delete_cmd_postfix": "",
     "delete_cmd_prefix": "del ",
     "library": "var_list.py",
     "varRefreshCmd": "print(var_dic_list())"
    },
    "r": {
     "delete_cmd_postfix": ") ",
     "delete_cmd_prefix": "rm(",
     "library": "var_list.r",
     "varRefreshCmd": "cat(var_dic_list()) "
    }
   },
   "types_to_exclude": [
    "module",
    "function",
    "builtin_function_or_method",
    "instance",
    "_Feature"
   ],
   "window_display": false
  }
 },
 "nbformat": 4,
 "nbformat_minor": 5
}
