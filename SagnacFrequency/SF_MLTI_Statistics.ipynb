{
 "cells": [
  {
   "cell_type": "markdown",
   "id": "22f5c8c9",
   "metadata": {
    "ExecuteTime": {
     "end_time": "2022-10-28T13:00:52.763484Z",
     "start_time": "2022-10-28T13:00:52.761516Z"
    }
   },
   "source": [
    "## Sagnac Frequency - MLTI Statistics"
   ]
  },
  {
   "cell_type": "markdown",
   "id": "1cd32aed",
   "metadata": {},
   "source": [
    "Explore the statistics of the MLTI boosts"
   ]
  },
  {
   "cell_type": "markdown",
   "id": "185b1a0b",
   "metadata": {},
   "source": [
    "## Imports"
   ]
  },
  {
   "cell_type": "code",
   "execution_count": 1,
   "id": "818caf4c",
   "metadata": {
    "ExecuteTime": {
     "end_time": "2023-06-27T08:11:10.277643Z",
     "start_time": "2023-06-27T08:11:08.781535Z"
    },
    "tags": []
   },
   "outputs": [],
   "source": [
    "import os\n",
    "import matplotlib.pyplot as plt\n",
    "import numpy as np\n",
    "\n",
    "from datetime import datetime, date\n",
    "from pandas import DataFrame, read_pickle, date_range, concat, read_csv\n",
    "from obspy import UTCDateTime, read, Trace\n",
    "from scipy.signal import hilbert\n"
   ]
  },
  {
   "cell_type": "code",
   "execution_count": 2,
   "id": "830b8486-344f-48cc-9332-910e215ce7b2",
   "metadata": {
    "tags": []
   },
   "outputs": [],
   "source": [
    "from functions.load_mlti import __load_mlti\n",
    "from functions.get_mlti_intervals import __get_mlti_intervals\n",
    "from functions.load_beat import __load_beat"
   ]
  },
  {
   "cell_type": "code",
   "execution_count": 4,
   "id": "b83c9987",
   "metadata": {
    "ExecuteTime": {
     "end_time": "2023-06-27T08:11:10.288084Z",
     "start_time": "2023-06-27T08:11:10.284752Z"
    },
    "tags": []
   },
   "outputs": [],
   "source": [
    "if os.uname().nodename == 'lighthouse':\n",
    "    root_path = '/home/andbro/'\n",
    "    data_path = '/home/andbro/kilauea-data/'\n",
    "    archive_path = '/home/andbro/freenas/'\n",
    "    bay_path = '/home/andbro/bay200/'\n",
    "elif os.uname().nodename == 'kilauea':\n",
    "    root_path = '/home/brotzer/'\n",
    "    data_path = '/import/kilauea-data/'\n",
    "    archive_path = '/import/freenas-ffb-01-data/'\n",
    "    bay_path = '/bay200/'\n",
    "elif os.uname().nodename == 'lin-ffb-01':\n",
    "    root_path = '/home/brotzer/'\n",
    "    data_path = '/import/kilauea-data/'\n",
    "    archive_path = '/import/freenas-ffb-01-data/'\n",
    "    bay_path = '/bay200/'"
   ]
  },
  {
   "cell_type": "markdown",
   "id": "ec2578ab",
   "metadata": {},
   "source": [
    "## Configurations"
   ]
  },
  {
   "cell_type": "code",
   "execution_count": 6,
   "id": "ba83e3e7",
   "metadata": {
    "ExecuteTime": {
     "end_time": "2023-06-27T08:11:13.008382Z",
     "start_time": "2023-06-27T08:11:13.002517Z"
    },
    "tags": []
   },
   "outputs": [],
   "source": [
    "config = {}\n",
    "\n",
    "config['tbeg'] = UTCDateTime(\"2023-12-01 00:00\")\n",
    "config['tend'] = UTCDateTime(\"2023-12-31 00:00\")\n",
    "\n",
    "config['path_to_figs'] = data_path+\"sagnac_frequency/figures/\""
   ]
  },
  {
   "cell_type": "markdown",
   "id": "87a89fa2-25f0-46a2-a18e-12aa8bc4b874",
   "metadata": {},
   "source": [
    "## Load MLTI times"
   ]
  },
  {
   "cell_type": "markdown",
   "id": "d758fec7-8159-4f2f-9176-a85817a788f2",
   "metadata": {},
   "source": [
    "Load MLTI logfiles for rings"
   ]
  },
  {
   "cell_type": "code",
   "execution_count": 7,
   "id": "1a153dfa-c649-4d32-ba2e-b319e4fe7c62",
   "metadata": {
    "tags": []
   },
   "outputs": [],
   "source": [
    "mltiU = __load_mlti(config['tbeg'], config['tend'], \"U\", archive_path)"
   ]
  },
  {
   "cell_type": "code",
   "execution_count": 8,
   "id": "347b783d-9992-48a2-8b33-9576d43ebf3f",
   "metadata": {
    "tags": []
   },
   "outputs": [],
   "source": [
    "mltiZ = __load_mlti(config['tbeg'], config['tend'], \"Z\", archive_path)"
   ]
  },
  {
   "cell_type": "code",
   "execution_count": 9,
   "id": "a496d6a7-4d33-4ad8-b8f9-9e70504e506d",
   "metadata": {
    "tags": []
   },
   "outputs": [],
   "source": [
    "mltiV = __load_mlti(config['tbeg'], config['tend'], \"V\", archive_path)"
   ]
  },
  {
   "cell_type": "markdown",
   "id": "0d0a55b5-0c85-4047-bad0-edd4a90ddb03",
   "metadata": {
    "tags": []
   },
   "source": [
    "Generate time intervals of MLTI boosts from log files"
   ]
  },
  {
   "cell_type": "code",
   "execution_count": 10,
   "id": "a4c04f98-f7b4-4dbd-8d59-5715391701d6",
   "metadata": {
    "tags": []
   },
   "outputs": [],
   "source": [
    "mltiU_t1, mltiU_t2 = __get_mlti_intervals(mltiU.time_utc, time_delta=50)\n",
    "mltiZ_t1, mltiZ_t2 = __get_mlti_intervals(mltiZ.time_utc, time_delta=50)\n",
    "mltiV_t1, mltiV_t2 = __get_mlti_intervals(mltiV.time_utc, time_delta=50)"
   ]
  },
  {
   "cell_type": "markdown",
   "id": "c1a05faf-2799-4574-a322-0f72f979e281",
   "metadata": {},
   "source": [
    "Compute Inter MLTI durations"
   ]
  },
  {
   "cell_type": "code",
   "execution_count": 12,
   "id": "b63f4df5-6bbb-4257-be68-07b242f70745",
   "metadata": {
    "tags": []
   },
   "outputs": [],
   "source": [
    "durationU = mltiU_t2 - mltiU_t1\n",
    "durationV = mltiV_t2 - mltiV_t1\n",
    "durationZ = mltiZ_t2 - mltiZ_t1"
   ]
  },
  {
   "cell_type": "code",
   "execution_count": null,
   "id": "6e834a00-40c6-4f22-a4d9-3a1be2fd921c",
   "metadata": {},
   "outputs": [],
   "source": []
  },
  {
   "cell_type": "markdown",
   "id": "ef368a6e-2053-4051-8c86-8165004482c1",
   "metadata": {},
   "source": [
    "### Plotting"
   ]
  },
  {
   "cell_type": "code",
   "execution_count": 13,
   "id": "2a79903c-f18a-439b-a3f2-1d0999b7cce2",
   "metadata": {
    "tags": []
   },
   "outputs": [
    {
     "data": {
      "text/plain": [
       "(array([955.,   2.,   5.,   5.,   5.,   4.,   0.,   2.,   1.,   2.]),\n",
       " array([  0.,  30.,  60.,  90., 120., 150., 180., 210., 240., 270., 300.]),\n",
       " <BarContainer object of 10 artists>)"
      ]
     },
     "execution_count": 13,
     "metadata": {},
     "output_type": "execute_result"
    },
    {
     "data": {
      "text/plain": [
       "(array([260.,   2.,   0.,   2.,   0.,   0.,   3.,   1.,   0.,   1.]),\n",
       " array([  0.,  30.,  60.,  90., 120., 150., 180., 210., 240., 270., 300.]),\n",
       " <BarContainer object of 10 artists>)"
      ]
     },
     "execution_count": 13,
     "metadata": {},
     "output_type": "execute_result"
    },
    {
     "data": {
      "text/plain": [
       "(array([284.,   5.,   2.,   1.,   0.,   1.,   0.,   0.,   0.,   0.]),\n",
       " array([  0.,  30.,  60.,  90., 120., 150., 180., 210., 240., 270., 300.]),\n",
       " <BarContainer object of 10 artists>)"
      ]
     },
     "execution_count": 13,
     "metadata": {},
     "output_type": "execute_result"
    },
    {
     "data": {
      "image/png": "[encoded data removed]",
      "text/plain": [
       "<Figure size 640x480 with 1 Axes>"
      ]
     },
     "metadata": {},
     "output_type": "display_data"
    }
   ],
   "source": [
    "plt.hist(durationU/30, bins=10, range=(0, 300))\n",
    "plt.hist(durationV/30, bins=10, range=(0, 300))\n",
    "plt.hist(durationZ/30, bins=10, range=(0, 300))"
   ]
  },
  {
   "cell_type": "code",
   "execution_count": null,
   "id": "b4176762-ada0-44fa-9498-27df556beaa3",
   "metadata": {},
   "outputs": [],
   "source": []
  }
 ],
 "metadata": {
  "kernelspec": {
   "display_name": "Python 3 (ipykernel)",
   "language": "python",
   "name": "python3"
  },
  "language_info": {
   "codemirror_mode": {
    "name": "ipython",
    "version": 3
   },
   "file_extension": ".py",
   "mimetype": "text/x-python",
   "name": "python",
   "nbconvert_exporter": "python",
   "pygments_lexer": "ipython3",
   "version": "3.9.16"
  },
  "latex_envs": {
   "LaTeX_envs_menu_present": true,
   "autoclose": false,
   "autocomplete": true,
   "bibliofile": "biblio.bib",
   "cite_by": "apalike",
   "current_citInitial": 1,
   "eqLabelWithNumbers": true,
   "eqNumInitial": 1,
   "hotkeys": {
    "equation": "Ctrl-E",
    "itemize": "Ctrl-I"
   },
   "labels_anchors": false,
   "latex_user_defs": false,
   "report_style_numbering": false,
   "user_envs_cfg": false
  },
  "toc": {
   "base_numbering": 1,
   "nav_menu": {},
   "number_sections": true,
   "sideBar": true,
   "skip_h1_title": false,
   "title_cell": "Table of Contents",
   "title_sidebar": "Contents",
   "toc_cell": false,
   "toc_position": {},
   "toc_section_display": true,
   "toc_window_display": false
  },
  "varInspector": {
   "cols": {
    "lenName": 16,
    "lenType": 16,
    "lenVar": 40
   },
   "kernels_config": {
    "python": {
     "delete_cmd_postfix": "",
     "delete_cmd_prefix": "del ",
     "library": "var_list.py",
     "varRefreshCmd": "print(var_dic_list())"
    },
    "r": {
     "delete_cmd_postfix": ") ",
     "delete_cmd_prefix": "rm(",
     "library": "var_list.r",
     "varRefreshCmd": "cat(var_dic_list()) "
    }
   },
   "types_to_exclude": [
    "module",
    "function",
    "builtin_function_or_method",
    "instance",
    "_Feature"
   ],
   "window_display": false
  }
 },
 "nbformat": 4,
 "nbformat_minor": 5
}
