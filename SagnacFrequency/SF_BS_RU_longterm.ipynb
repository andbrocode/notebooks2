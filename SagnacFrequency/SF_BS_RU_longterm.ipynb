{
 "cells": [
  {
   "cell_type": "markdown",
   "id": "22f5c8c9",
   "metadata": {
    "ExecuteTime": {
     "end_time": "2022-10-28T13:00:52.763484Z",
     "start_time": "2022-10-28T13:00:52.761516Z"
    }
   },
   "source": [
    "## Sagnac Frequency - Backscatter Correction - RU Longterm"
   ]
  },
  {
   "cell_type": "markdown",
   "id": "1cd32aed",
   "metadata": {},
   "source": [
    "Explore the longterm behaviour of the RU sagnac beat"
   ]
  },
  {
   "cell_type": "markdown",
   "id": "185b1a0b",
   "metadata": {},
   "source": [
    "## Imports"
   ]
  },
  {
   "cell_type": "code",
   "execution_count": 1,
   "id": "818caf4c",
   "metadata": {
    "ExecuteTime": {
     "end_time": "2023-06-27T08:11:10.277643Z",
     "start_time": "2023-06-27T08:11:08.781535Z"
    },
    "tags": []
   },
   "outputs": [],
   "source": [
    "import os\n",
    "import gc\n",
    "import matplotlib.pyplot as plt\n",
    "import numpy as np\n",
    "\n",
    "from datetime import datetime, date\n",
    "from pandas import DataFrame, read_pickle, date_range, concat, read_csv\n",
    "from obspy import UTCDateTime, read, Trace, Stream\n",
    "from scipy.signal import hilbert\n",
    "\n",
    "from functions.get_fft import __get_fft\n",
    "from functions.multitaper_psd import __multitaper_psd\n",
    "from functions.welch_psd import __welch_psd\n",
    "from andbro__read_sds import __read_sds\n",
    "from andbro__readYaml import __readYaml"
   ]
  },
  {
   "cell_type": "code",
   "execution_count": 2,
   "id": "b83c9987",
   "metadata": {
    "ExecuteTime": {
     "end_time": "2023-06-27T08:11:10.288084Z",
     "start_time": "2023-06-27T08:11:10.284752Z"
    },
    "tags": []
   },
   "outputs": [],
   "source": [
    "if os.uname().nodename == 'lighthouse':\n",
    "    root_path = '/home/andbro/'\n",
    "    data_path = '/home/andbro/kilauea-data/'\n",
    "    archive_path = '/home/andbro/freenas/'\n",
    "    bay_path = '/home/andbro/bay200/'\n",
    "elif os.uname().nodename == 'kilauea':\n",
    "    root_path = '/home/brotzer/'\n",
    "    data_path = '/import/kilauea-data/'\n",
    "    archive_path = '/import/freenas-ffb-01-data/'\n",
    "    bay_path = '/bay200/'\n",
    "elif os.uname().nodename == 'lin-ffb-01':\n",
    "    root_path = '/home/brotzer/'\n",
    "    data_path = '/import/kilauea-data/'\n",
    "    archive_path = '/import/freenas-ffb-01-data/'\n",
    "    bay_path = '/bay200/'"
   ]
  },
  {
   "cell_type": "code",
   "execution_count": 3,
   "id": "6d4dc8b2-cc89-420e-a4cf-5ca715a57aa7",
   "metadata": {
    "tags": []
   },
   "outputs": [],
   "source": [
    "from functions.reduce import __reduce\n",
    "from functions.load_backscatter_data import __load_backscatter_data"
   ]
  },
  {
   "cell_type": "code",
   "execution_count": 4,
   "id": "677c4986-49ff-47db-8416-6e2ced0cc8cf",
   "metadata": {
    "tags": []
   },
   "outputs": [],
   "source": [
    "def __correct_temperature_trend(st, correction, n_shift=0, intercept=False):\n",
    "\n",
    "    from numpy import roll\n",
    "\n",
    "    st0 = st.copy()\n",
    "    if n_shift == 0:\n",
    "        temperature = st0.select(channel=\"*T\")[0].data\n",
    "    else:\n",
    "        temperature = roll(st0.select(channel=\"*T\")[0].data, n_shift)\n",
    "\n",
    "\n",
    "    if intercept:\n",
    "        st0.select(channel=\"*N\")[0].data -= (correction['N_slope']* temperature + correction['N_intercept'])\n",
    "        st0.select(channel=\"*E\")[0].data -= (correction['E_slope']* temperature + correction['N_intercept'])\n",
    "    else:\n",
    "        st0.select(channel=\"*N\")[0].data -= (correction['N_slope']* temperature)\n",
    "        st0.select(channel=\"*E\")[0].data -= (correction['E_slope']* temperature)\n",
    "\n",
    "    plt.plot(temperature)\n",
    "\n",
    "    return st0"
   ]
  },
  {
   "cell_type": "markdown",
   "id": "ec2578ab",
   "metadata": {},
   "source": [
    "## Configurations"
   ]
  },
  {
   "cell_type": "code",
   "execution_count": 5,
   "id": "ba83e3e7",
   "metadata": {
    "ExecuteTime": {
     "end_time": "2023-06-27T08:11:13.008382Z",
     "start_time": "2023-06-27T08:11:13.002517Z"
    },
    "tags": []
   },
   "outputs": [],
   "source": [
    "config = {}\n",
    "\n",
    "config['ring'] = \"U\"\n",
    "\n",
    "config['seed'] = \"BW.DROMY..FJU\"\n",
    "\n",
    "config['path_to_sds'] = archive_path+\"romy_archive/\"\n",
    "\n",
    "config['tbeg'] = UTCDateTime(\"2023-11-01 00:00\")\n",
    "config['tend'] = UTCDateTime(\"2024-05-20 00:00\")\n",
    "flim1, flim2 = 302.3, 303.2\n",
    "\n",
    "## path to Sagnac data\n",
    "config['path_to_autodata'] = archive_path+f\"romy_autodata/\"\n",
    "\n",
    "config['path_to_data'] = data_path+\"sagnac_frequency/data/backscatter/\"\n",
    "\n",
    "config['path_to_figs'] = data_path+\"sagnac_frequency/figures/\""
   ]
  },
  {
   "cell_type": "markdown",
   "id": "12ef7747-2cb6-4561-bfe3-ccd226aae9dc",
   "metadata": {
    "tags": []
   },
   "source": [
    "## Configurations"
   ]
  },
  {
   "cell_type": "code",
   "execution_count": null,
   "id": "5d8a5d06-0406-40f2-865b-93ad62f11e51",
   "metadata": {
    "tags": []
   },
   "outputs": [],
   "source": [
    "bs = __load_backscatter_data(config['tbeg'], config['tend'], config['ring'], config['path_to_data'])\n",
    "\n",
    "bs['time_sec'] = bs.time2 - bs.time1 + (bs.time1 - bs.time1.loc[0])"
   ]
  },
  {
   "cell_type": "code",
   "execution_count": null,
   "id": "5d07a94d-79ed-4f72-ae54-2b345a645eaa",
   "metadata": {
    "tags": []
   },
   "outputs": [],
   "source": [
    "plt.figure(figsize=(15, 5))\n",
    "plt.plot(bs.time_sec/86400, bs.fj_fs)\n",
    "plt.ylim(302.3, 303.2)"
   ]
  },
  {
   "cell_type": "markdown",
   "id": "c5b9e835-f58a-4241-ba3f-ec5427ffa35c",
   "metadata": {},
   "source": [
    "### Cut corrupt data periods"
   ]
  },
  {
   "cell_type": "code",
   "execution_count": null,
   "id": "7f016660-577e-42a4-907d-9a7190a147e2",
   "metadata": {
    "tags": []
   },
   "outputs": [],
   "source": [
    "times = [(\"2023-12-04T09:11\", \"2023-12-04T18:01\")]\n",
    "\n",
    "for t1, t2 in times:\n",
    "    bs['fj_fs'] = np.where((bs.time1 > t1) & (bs.time1 < t2), np.nan, bs.fj_fs)\n",
    "    bs['w_s'] = np.where((bs.time1 > t1) & (bs.time1 < t2), np.nan, bs.w_s)\n",
    "\n",
    "\n",
    "bs['fj_fs'] = np.nan_to_num(bs['fj_fs'], nan=np.nanmedian(bs['fj_fs']))\n",
    "bs['w_s'] = np.nan_to_num(bs['w_s'], nan=np.nanmedian(bs['w_s']))"
   ]
  },
  {
   "cell_type": "code",
   "execution_count": null,
   "id": "a110303c-2c40-4558-a12a-c7dd99b09d6a",
   "metadata": {
    "tags": []
   },
   "outputs": [],
   "source": [
    "from functions.load_mlti import __load_mlti\n",
    "\n",
    "mltiU = __load_mlti(config['tbeg'], config['tend'], \"U\", archive_path)"
   ]
  },
  {
   "cell_type": "code",
   "execution_count": null,
   "id": "3073c5f9-f439-4b8b-a9f5-6702bfbd492c",
   "metadata": {
    "tags": []
   },
   "outputs": [],
   "source": [
    "from functions.get_mlti_intervals import __get_mlti_intervals\n",
    "\n",
    "mltiU_t1, mltiU_t2 = __get_mlti_intervals(mltiU.time_utc)"
   ]
  },
  {
   "cell_type": "code",
   "execution_count": null,
   "id": "f57efd20-ec2a-4e9e-baa3-29b5de985ead",
   "metadata": {
    "tags": []
   },
   "outputs": [],
   "source": [
    "from functions.mlti_intervals_to_NaN import __mlti_intervals_to_NaN\n",
    "\n",
    "bs = __mlti_intervals_to_NaN(bs, \"fj_fs\", \"time1\", mltiU_t1, mltiU_t2, t_offset_sec=300)\n",
    "bs = __mlti_intervals_to_NaN(bs, \"w_s\", \"time1\", mltiU_t1, mltiU_t2, t_offset_sec=300)"
   ]
  },
  {
   "cell_type": "markdown",
   "id": "60589676-e1b9-449d-92a9-22ba4cbe5e18",
   "metadata": {},
   "source": [
    "### Apply special filter sections"
   ]
  },
  {
   "cell_type": "code",
   "execution_count": null,
   "id": "f59af53c-b28c-4b70-83f8-e4850e70eac2",
   "metadata": {
    "tags": []
   },
   "outputs": [],
   "source": [
    "tt1, tt2 = \"2023-11-01\", \"2023-11-07 17:00\"\n",
    "cond1 = bs.time1 > tt1\n",
    "cond2 = bs.time1 < tt2\n",
    "cond3 = bs.fj_fs_nan < 302.95\n",
    "cond4 = bs.fj_fs_nan > 303.1\n",
    "\n",
    "bs['fj_fs_nan'] = np.where(cond1 & cond2 & cond3, np.nan, bs.fj_fs_nan)\n",
    "bs['fj_fs_nan'] = np.where(cond1 & cond2 & cond4, np.nan, bs.fj_fs_nan)\n",
    "\n",
    "bs['w_s_nan'] = np.where(cond1 & cond2 & cond3, np.nan, bs.w_s_nan)\n",
    "bs['w_s_nan'] = np.where(cond1 & cond2 & cond4, np.nan, bs.w_s_nan)\n"
   ]
  },
  {
   "cell_type": "code",
   "execution_count": null,
   "id": "934d85ba-f553-4782-92ba-2887a04ca0fa",
   "metadata": {
    "tags": []
   },
   "outputs": [],
   "source": [
    "tt1, tt2 = \"2023-11-07 17:00\", \"2023-11-20 14:00\"\n",
    "cond1 = bs.time1 > tt1\n",
    "cond2 = bs.time1 < tt2\n",
    "cond3 = bs.fj_fs_nan < 302.7\n",
    "cond4 = bs.fj_fs_nan > 303.0\n",
    "\n",
    "bs['fj_fs_nan'] = np.where(cond1 & cond2 & cond3, np.nan, bs.fj_fs_nan)\n",
    "bs['fj_fs_nan'] = np.where(cond1 & cond2 & cond4, np.nan, bs.fj_fs_nan)\n",
    "\n",
    "bs['w_s_nan'] = np.where(cond1 & cond2 & cond3, np.nan, bs.w_s_nan)\n",
    "bs['w_s_nan'] = np.where(cond1 & cond2 & cond4, np.nan, bs.w_s_nan)\n"
   ]
  },
  {
   "cell_type": "code",
   "execution_count": null,
   "id": "70aeb3b9-8b5b-487c-aada-be618b7b17ea",
   "metadata": {
    "tags": []
   },
   "outputs": [],
   "source": [
    "tt1, tt2 = \"2023-11-20 14:00\", \"2024-01-11\"\n",
    "cond1 = bs.time1 > tt1\n",
    "cond2 = bs.time1 < tt2\n",
    "cond3 = bs.fj_fs_nan < 302.4\n",
    "cond4 = bs.fj_fs_nan > 302.6\n",
    "\n",
    "bs['fj_fs_nan'] = np.where(cond1 & cond2 & cond3, np.nan, bs.fj_fs_nan)\n",
    "bs['fj_fs_nan'] = np.where(cond1 & cond2 & cond4, np.nan, bs.fj_fs_nan)\n",
    "\n",
    "bs['w_s_nan'] = np.where(cond1 & cond2 & cond3, np.nan, bs.w_s_nan)\n",
    "bs['w_s_nan'] = np.where(cond1 & cond2 & cond4, np.nan, bs.w_s_nan)\n"
   ]
  },
  {
   "cell_type": "code",
   "execution_count": null,
   "id": "a033ede7-a7dc-489a-9d31-6be404435dd0",
   "metadata": {
    "tags": []
   },
   "outputs": [],
   "source": [
    "tt1, tt2 = \"2023-12-20 00:00\", \"2024-02-22\"\n",
    "cond1 = bs.time1 > tt1\n",
    "cond2 = bs.time1 < tt2\n",
    "cond3 = bs.fj_fs_nan < 302.38\n",
    "cond4 = bs.fj_fs_nan > 302.48\n",
    "\n",
    "bs['fj_fs_nan'] = np.where(cond1 & cond2 & cond3, np.nan, bs.fj_fs_nan)\n",
    "bs['fj_fs_nan'] = np.where(cond1 & cond2 & cond4, np.nan, bs.fj_fs_nan)\n",
    "\n",
    "bs['w_s_nan'] = np.where(cond1 & cond2 & cond3, np.nan, bs.w_s_nan)\n",
    "bs['w_s_nan'] = np.where(cond1 & cond2 & cond4, np.nan, bs.w_s_nan)\n"
   ]
  },
  {
   "cell_type": "code",
   "execution_count": null,
   "id": "512abf36-a40d-480f-9177-556a493a4cbc",
   "metadata": {
    "tags": []
   },
   "outputs": [],
   "source": [
    "from functions.interpolate_nan import __interpolate_nan\n",
    "\n",
    "bs['fj_fs_inter'] = __interpolate_nan(np.array(bs.fj_fs_nan))\n",
    "bs['w_s_inter'] = __interpolate_nan(np.array(bs.w_s_nan))"
   ]
  },
  {
   "cell_type": "code",
   "execution_count": null,
   "id": "09b3cefb-1f20-400e-822c-37dde096970a",
   "metadata": {
    "tags": []
   },
   "outputs": [],
   "source": [
    "from functions.smoothing import __smooth\n",
    "\n",
    "n_minutes = 300\n",
    "\n",
    "bs['fj_fs_smooth'] = __smooth(bs.fj_fs_inter, n_minutes)\n",
    "bs['w_s_smooth'] = __smooth(bs.w_s_inter, n_minutes)"
   ]
  },
  {
   "cell_type": "markdown",
   "id": "2f3154b6-1c6a-436d-97bf-0e86d840b43d",
   "metadata": {},
   "source": [
    "### Load LXX maintenance"
   ]
  },
  {
   "cell_type": "code",
   "execution_count": null,
   "id": "fcb83285-ae34-4335-be4e-977e1d22561a",
   "metadata": {
    "tags": []
   },
   "outputs": [],
   "source": [
    "from functions.load_lxx import __load_lxx\n",
    "\n",
    "lxx =__load_lxx(config['tbeg'], config['tend'], archive_path)"
   ]
  },
  {
   "cell_type": "code",
   "execution_count": null,
   "id": "30338cfb-dfab-4814-9555-15fc6d779ef7",
   "metadata": {
    "tags": []
   },
   "outputs": [],
   "source": [
    "from functions.get_lxx_intervals import __get_lxx_intervals\n",
    "\n",
    "lxx_t1, lxx_t2 = __get_lxx_intervals(lxx.datetime)"
   ]
  },
  {
   "cell_type": "markdown",
   "id": "97787288-abff-4aa9-8601-0832ceaa11d8",
   "metadata": {},
   "source": [
    "### Checkup Plot"
   ]
  },
  {
   "cell_type": "code",
   "execution_count": null,
   "id": "2ae877ec-3074-4929-a0f1-d866cb07ae39",
   "metadata": {
    "tags": []
   },
   "outputs": [],
   "source": [
    "def __makeplot():\n",
    "\n",
    "    Nrow, Ncol = 1, 1\n",
    "\n",
    "    font = 12\n",
    "\n",
    "    fig, ax = plt.subplots(Nrow, Ncol, figsize=(15, 5), sharex=True)\n",
    "\n",
    "    plt.subplots_adjust(hspace=0.1)\n",
    "\n",
    "    # time_scaling = 1/86400\n",
    "    time_scaling = 1\n",
    "    ref_date = str(bs.time1.iloc[0])[:10]\n",
    "\n",
    "    ax.plot(bs.time_sec*time_scaling, bs.fj_fs, color=\"tab:grey\", alpha=0.3, label=\"raw\")\n",
    "    ax.plot(bs.time_sec*time_scaling, bs.fj_fs_nan, color=\"tab:blue\", label=\"cleaned\")\n",
    "    # ax.plot(bs.time_sec*time_scaling, bs.fj_fs_smooth, color=\"k\", label=f\"mov. avg. ({n_minutes} min)\")\n",
    "    ax.set_ylim(302.35, 303.15)\n",
    "    ax.ticklabel_format(useOffset=False)\n",
    "    ax.set_ylabel(\"$\\delta f$ north ring (Hz)\", fontsize=font)\n",
    "\n",
    "    ax.grid(ls=\":\", zorder=0)\n",
    "    ax.legend(loc=1)\n",
    "    ax.set_xlim(left=0)\n",
    "\n",
    "    for lx1, lx2 in zip(lxx_t1, lxx_t2):\n",
    "        lx1_sec = lx1-UTCDateTime(ref_date)\n",
    "        lx2_sec = lx2-UTCDateTime(ref_date)\n",
    "        ax.fill_betweenx([flim1, flim2], lx1_sec, lx2_sec, color=\"yellow\", alpha=0.5)\n",
    "\n",
    "    ## add dates to x-axis\n",
    "    tcks = ax.get_xticks()\n",
    "    tcklbls = [f\"{UTCDateTime(UTCDateTime(ref_date)+t).date} \\n {UTCDateTime(UTCDateTime(ref_date)+t).time}\" for t in tcks]\n",
    "    ax.set_xticklabels(tcklbls)\n",
    "\n",
    "    gc.collect()\n",
    "\n",
    "    plt.show();\n",
    "    return fig\n",
    "\n",
    "fig = __makeplot();\n",
    "\n",
    "fig.savefig(config['path_to_figs']+f\"SF_BS_RU_longterm_cleaned.png\", format=\"png\", dpi=150, bbox_inches='tight')\n"
   ]
  },
  {
   "cell_type": "markdown",
   "id": "f30a9a64-cae7-4114-9182-0b9e743eb9f0",
   "metadata": {},
   "source": [
    "## Load WROMY Data"
   ]
  },
  {
   "cell_type": "code",
   "execution_count": null,
   "id": "08017b39-7037-4066-aac4-3fb80f2d9e8b",
   "metadata": {
    "tags": []
   },
   "outputs": [],
   "source": [
    "from andbro__read_sds import __read_sds"
   ]
  },
  {
   "cell_type": "code",
   "execution_count": null,
   "id": "7f61e961-435d-43e3-b122-a74b79e534a6",
   "metadata": {
    "tags": []
   },
   "outputs": [],
   "source": [
    "ws1 = __read_sds(archive_path+\"temp_archive/\", \"BW.WROMY.01.LKI\", config['tbeg'], config['tend'])\n",
    "ws5 = __read_sds(archive_path+\"temp_archive/\", \"BW.WROMY.05.LKI\", config['tbeg'], config['tend'])\n",
    "ws9 = __read_sds(archive_path+\"temp_archive/\", \"BW.WROMY.09.LKI\", config['tbeg'], config['tend'])"
   ]
  },
  {
   "cell_type": "code",
   "execution_count": null,
   "id": "28bbafd6-79a1-48e3-af79-718ad3a3803c",
   "metadata": {
    "tags": []
   },
   "outputs": [],
   "source": [
    "ws1 = ws1.merge()\n",
    "ws5 = ws5.merge()\n",
    "ws9 = ws9.merge()"
   ]
  },
  {
   "cell_type": "code",
   "execution_count": null,
   "id": "e6ad98b2-edad-406e-b96e-487bf4d44749",
   "metadata": {
    "tags": []
   },
   "outputs": [],
   "source": [
    "ps3 = __read_sds(archive_path+\"temp_archive/\", \"BW.PROMY.03.LKI\", config['tbeg'], config['tend'])\n",
    "ps3 = ps3.merge()"
   ]
  },
  {
   "cell_type": "code",
   "execution_count": null,
   "id": "41de9a13-903a-45b1-a23c-e5e49a0eba4d",
   "metadata": {
    "tags": []
   },
   "outputs": [],
   "source": [
    "# from andbro__load_WROMY_stream import __load_wromy_stream\n",
    "\n",
    "# ws1 = __load_wromy_stream(config['path_to_sds'], \"BW.WROMY..WS1\", config['tbeg'], config['tend'])\n",
    "# ws5 = __load_wromy_stream(config['path_to_sds'], \"BW.WROMY..WS5\", config['tbeg'], config['tend'])\n",
    "# ws9 = __load_wromy_stream(config['path_to_sds'], \"BW.WROMY..WS9\", config['tbeg'], config['tend'])"
   ]
  },
  {
   "cell_type": "code",
   "execution_count": null,
   "id": "381a5920-8de4-49e1-8f13-f16260e39065",
   "metadata": {
    "tags": []
   },
   "outputs": [],
   "source": [
    "def __makeplot():\n",
    "\n",
    "    Nrow, Ncol = 2, 1\n",
    "\n",
    "    font = 12\n",
    "\n",
    "    ref_date = str(bs.time1.iloc[0])[:10]\n",
    "\n",
    "    fig, ax = plt.subplots(Nrow, Ncol, figsize=(15, 8), sharex=True)\n",
    "\n",
    "    plt.subplots_adjust(hspace=0.1)\n",
    "\n",
    "    # time_scaling = 1/86400\n",
    "    time_scaling = 1\n",
    "\n",
    "    ax[0].plot(bs.time_sec*time_scaling, bs.fj_fs, color=\"tab:grey\", alpha=0.3, label=\"raw\")\n",
    "    ax[0].plot(bs.time_sec*time_scaling, bs.fj_fs_nan, color=\"tab:blue\", label=\"cleaned\")\n",
    "    # ax[0].plot(bs.time_sec*time_scaling, bs.fj_fs_smooth, color=\"k\", label=f\"mov. avg. ({n_minutes} min)\")\n",
    "    ax[0].set_ylim(302.35, 303.15)\n",
    "    ax[0].ticklabel_format(useOffset=False)\n",
    "    ax[0].set_ylabel(\"$\\delta f$ north ring (Hz)\", fontsize=font)\n",
    "\n",
    "    ax[1].plot(ws1.select(channel=\"*KI\")[0].times(reftime=UTCDateTime(ref_date)),\n",
    "               __smooth(ws1.select(channel=\"*KI\")[0].data, 600), color=\"tab:orange\", label=\"WS1\")\n",
    "    ax[1].plot(ws5.select(channel=\"*KI\")[0].times(reftime=UTCDateTime(ref_date)),\n",
    "               __smooth(ws5.select(channel=\"*KI\")[0].data, 600), color=\"tab:purple\", label=\"WS5\")\n",
    "    ax[1].plot(ws9.select(channel=\"*KI\")[0].times(reftime=UTCDateTime(ref_date)),\n",
    "               __smooth(ws9.select(channel=\"*KI\")[0].data, 600), color=\"tab:red\", label=\"WS9\")\n",
    "\n",
    "    ax[1].plot(ps3.select(channel=\"*KI\")[0].times(reftime=UTCDateTime(ref_date)),\n",
    "               __smooth(ps3.select(channel=\"*KI\")[0].data, 600), color=\"tab:green\", label=\"PS3\")\n",
    "\n",
    "    ax[1].set_ylim(5, 17)\n",
    "    ax[1].set_ylabel(\"Temperature (°C)\", fontsize=font)\n",
    "\n",
    "    for _n in range(Nrow):\n",
    "        ax[_n].grid(ls=\":\", zorder=0)\n",
    "        ax[_n].legend(loc=1)\n",
    "        # ax[_n].set_xlim(left=0)\n",
    "\n",
    "    # ax[2].set_xlabel(\"Time (days)\", fontsize=font)\n",
    "\n",
    "    ## add dates to x-axis\n",
    "    tcks = ax[Nrow-1].get_xticks()\n",
    "    tcklbls = [UTCDateTime(UTCDateTime(ref_date)+t).date for t in tcks]\n",
    "    ax[Nrow-1].set_xticklabels(tcklbls)\n",
    "\n",
    "    gc.collect()\n",
    "\n",
    "    plt.show();\n",
    "    return fig\n",
    "\n",
    "fig = __makeplot();\n",
    "\n",
    "fig.savefig(config['path_to_figs']+f\"SF_BS_RU_longterm_temperature.png\", format=\"png\", dpi=150, bbox_inches='tight')\n"
   ]
  },
  {
   "cell_type": "markdown",
   "id": "4981daee-4891-4523-9f14-46ffae2a0f6b",
   "metadata": {},
   "source": [
    "### Load Rain Data"
   ]
  },
  {
   "cell_type": "code",
   "execution_count": null,
   "id": "047fec79-1199-4cf1-b4e5-fafdc7699150",
   "metadata": {
    "tags": []
   },
   "outputs": [],
   "source": [
    "from andbro__load_FURT_stream import __load_furt_stream"
   ]
  },
  {
   "cell_type": "code",
   "execution_count": null,
   "id": "66bf4268-69e0-4d05-bc4e-74b042bb99e8",
   "metadata": {
    "tags": []
   },
   "outputs": [],
   "source": [
    "def __cumsum_rain(arr, n_samples):\n",
    "\n",
    "    from numpy import cumsum, zeros, nansum, nanmean\n",
    "\n",
    "    arr_out = zeros(len(arr))\n",
    "    for i, dat in enumerate(arr):\n",
    "        arr_out[i] = nansum(arr[i:i+n_samples])\n",
    "        # arr_out[i] = nanmean(arr[i:i+n_samples])\n",
    "\n",
    "    return arr_out"
   ]
  },
  {
   "cell_type": "code",
   "execution_count": null,
   "id": "7ae12e7a-8e31-43e9-89d8-e3dec82c7946",
   "metadata": {
    "tags": []
   },
   "outputs": [],
   "source": [
    "furt = __load_furt_stream(config['tbeg'], config['tend'], path_to_archive=bay_path+'gif_online/FURT/WETTER/')"
   ]
  },
  {
   "cell_type": "code",
   "execution_count": null,
   "id": "b47c2bc1-f787-4a87-9390-e68421ca243a",
   "metadata": {
    "tags": []
   },
   "outputs": [],
   "source": [
    "rain = furt.select(channel=\"LAR\")"
   ]
  },
  {
   "cell_type": "code",
   "execution_count": null,
   "id": "0f575238-aca8-420c-8ea1-b706ed84f325",
   "metadata": {
    "tags": []
   },
   "outputs": [],
   "source": [
    "## smoothed precipitation\n",
    "rain_smooth = __smooth(__interpolate_nan(rain[0].data), 3600)\n",
    "\n",
    "## cumulative rain\n",
    "rain_cumsum = np.nancumsum(rain[0].data)"
   ]
  },
  {
   "cell_type": "code",
   "execution_count": null,
   "id": "e922b35b-1851-4267-9042-dcb79cccc4ee",
   "metadata": {
    "tags": []
   },
   "outputs": [],
   "source": [
    "def __makeplot():\n",
    "\n",
    "    Nrow, Ncol = 2, 1\n",
    "\n",
    "    font = 12\n",
    "\n",
    "    ref_date = str(bs.time1.iloc[0])[:10]\n",
    "\n",
    "    fig, ax = plt.subplots(Nrow, Ncol, figsize=(15, 8), sharex=True)\n",
    "\n",
    "    plt.subplots_adjust(hspace=0.1)\n",
    "\n",
    "    # time_scaling = 1/86400\n",
    "    time_scaling = 1\n",
    "\n",
    "    ax[0].plot(bs.time_sec*time_scaling, bs.fj_fs, color=\"tab:grey\", alpha=0.3, label=\"raw\")\n",
    "    ax[0].plot(bs.time_sec*time_scaling, bs.fj_fs_nan, color=\"tab:blue\", label=\"cleaned\")\n",
    "    # ax[0].plot(bs.time_sec*time_scaling, bs.fj_fs_smooth, color=\"k\", label=f\"mov. avg. ({n_minutes} min)\")\n",
    "    ax[0].set_ylim(302.35, 303.15)\n",
    "    ax[0].ticklabel_format(useOffset=False)\n",
    "    ax[0].set_ylabel(\"$\\delta f$ north ring (Hz)\", fontsize=font)\n",
    "\n",
    "    ax[1].plot(ws1.select(channel=\"*KI\")[0].times(reftime=UTCDateTime(ref_date)),\n",
    "               __smooth(ws1.select(channel=\"*KI\")[0].data, 600), color=\"tab:orange\", label=\"WS1\", alpha=0.7)\n",
    "    ax[1].plot(ws5.select(channel=\"*KI\")[0].times(reftime=UTCDateTime(ref_date)),\n",
    "               __smooth(ws5.select(channel=\"*KI\")[0].data, 600), color=\"tab:purple\", label=\"WS5\", alpha=0.7)\n",
    "    ax[1].plot(ws9.select(channel=\"*KI\")[0].times(reftime=UTCDateTime(ref_date)),\n",
    "               __smooth(ws9.select(channel=\"*KI\")[0].data, 600), color=\"tab:red\", label=\"WS9\", alpha=0.7)\n",
    "\n",
    "    ax[1].plot(ps3.select(channel=\"*KI\")[0].times(reftime=UTCDateTime(ref_date)),\n",
    "               __smooth(ps3.select(channel=\"*KI\")[0].data, 600), color=\"tab:green\", label=\"PS3\")\n",
    "\n",
    "    ax[1].set_ylim(8, 17)\n",
    "    ax[1].set_ylabel(\"Temperature (°C)\", fontsize=font)\n",
    "\n",
    "    ax11 = ax[1].twinx()\n",
    "    ax11.fill_between(rain[0].times(reftime=UTCDateTime(ref_date)),\n",
    "                      rain_smooth, color=\"tab:blue\", alpha=0.6, label=f\"rain\", zorder=0)\n",
    "    ax11.set_ylim(bottom=0)\n",
    "    ax11.set_ylabel(f\"Precipitation (mm/hour)\", fontsize=font, color=\"tab:blue\")\n",
    "    [t.set_color('tab:blue') for t in ax11.yaxis.get_ticklabels()]\n",
    "\n",
    "    ax[1].set_yticks(np.linspace(ax[1].get_yticks()[0], ax[1].get_yticks()[-1], len(ax[1].get_yticks())))\n",
    "    ax11.set_yticks(np.linspace(ax11.get_yticks()[0], ax11.get_yticks()[-1], len(ax[1].get_yticks())))\n",
    "\n",
    "    for _n in range(Nrow):\n",
    "        ax[_n].grid(ls=\":\", zorder=0)\n",
    "        ax[_n].legend(loc=1)\n",
    "        # ax[_n].set_xlim(left=0)\n",
    "\n",
    "    # ax[2].set_xlabel(\"Time (days)\", fontsize=font)\n",
    "\n",
    "    ## add dates to x-axis\n",
    "    tcks = ax[Nrow-1].get_xticks()\n",
    "    tcklbls = [f\"{UTCDateTime(UTCDateTime(ref_date)+t).date} \\n {UTCDateTime(UTCDateTime(ref_date)+t).time}\" for t in tcks]\n",
    "    ax[Nrow-1].set_xticklabels(tcklbls)\n",
    "\n",
    "    gc.collect()\n",
    "\n",
    "    plt.show();\n",
    "    return fig\n",
    "\n",
    "fig = __makeplot();\n",
    "\n",
    "fig.savefig(config['path_to_figs']+f\"SF_BS_RU_longterm_temperature_rain.png\", format=\"png\", dpi=150, bbox_inches='tight')\n"
   ]
  },
  {
   "cell_type": "markdown",
   "id": "0244fec6-eacb-4505-9074-03904a20f3ee",
   "metadata": {
    "tags": []
   },
   "source": [
    "### Load Tilt Data"
   ]
  },
  {
   "cell_type": "code",
   "execution_count": null,
   "id": "31e25295-87a3-4e6c-af9a-615aa72ff5c8",
   "metadata": {
    "tags": []
   },
   "outputs": [],
   "source": [
    "from functions.conversion_to_tilt import __conversion_to_tilt"
   ]
  },
  {
   "cell_type": "code",
   "execution_count": null,
   "id": "a13ea3fe-2766-4561-9d97-dd0856174f6e",
   "metadata": {
    "tags": []
   },
   "outputs": [],
   "source": [
    "path_to_tilt = data_path+\"TiltmeterDataBackup/Tilt_downsampled/\"\n",
    "\n",
    "tromy0 =  __read_sds(path_to_tilt, \"BW.TROMY..MAN\", config['tbeg']+17*86400-600, config['tend']+600)\n",
    "tromy0 += __read_sds(path_to_tilt, \"BW.TROMY..MAE\", config['tbeg']+17*86400-600, config['tend']+600)\n",
    "tromy0 += __read_sds(path_to_tilt, \"BW.TROMY..MAT\", config['tbeg']+17*86400-600, config['tend']+600)"
   ]
  },
  {
   "cell_type": "code",
   "execution_count": null,
   "id": "686cd881-38a5-49e5-b77d-3f8591c13156",
   "metadata": {
    "tags": []
   },
   "outputs": [],
   "source": [
    "## tiltmeter configurations\n",
    "confTilt = __readYaml(root_path+\"Documents/ROMY/tiltmeter/\", \"tiltmeter.conf\")\n",
    "\n",
    "tromy0 = __conversion_to_tilt(tromy0, confTilt['TROMY'])\n",
    "\n",
    "tromy0 = tromy0.trim(bs.time1[0], bs.time1[bs.time1.size-1]);\n",
    "\n",
    "tromy = tromy0.copy();\n",
    "\n",
    "tromy = tromy.merge();\n",
    "\n",
    "tromy.plot(equal_scale=False);"
   ]
  },
  {
   "cell_type": "code",
   "execution_count": null,
   "id": "e3830696-083a-4c34-b0e5-8010e6291b0b",
   "metadata": {
    "tags": []
   },
   "outputs": [],
   "source": [
    "# tromy.trim(tromy[0].stats.starttime+3600, tromy[0].stats.endtime-3600)\n",
    "\n",
    "# ## correction for temperature trends based on MAT\n",
    "# temperature_correction = __readYaml(f\"{root_path}Documents/ROMY/tiltmeter/\",\"tiltmeter_temperature_correction.yml\")\n",
    "\n",
    "# tromy_mod = __correct_temperature_trend(tromy, temperature_correction['TROMY'], n_shift=0, intercept=False)\n",
    "\n",
    "# tromy_mod.plot(equal_scale=False);"
   ]
  },
  {
   "cell_type": "markdown",
   "id": "1da2a9b2-db4c-4d36-9850-13999ab2e860",
   "metadata": {},
   "source": [
    "### Load Water Level Data"
   ]
  },
  {
   "cell_type": "code",
   "execution_count": null,
   "id": "53640e28-4714-4426-a38f-fefe3e1346ff",
   "metadata": {
    "tags": []
   },
   "outputs": [],
   "source": [
    "from functions.load_water_level import __load_water_level"
   ]
  },
  {
   "cell_type": "code",
   "execution_count": null,
   "id": "d9fb8a2f-a2a9-4a9d-8186-929407edca3f",
   "metadata": {
    "tags": []
   },
   "outputs": [],
   "source": [
    "pegel =  __load_water_level(config['tbeg'], config['tend'])\n",
    "\n",
    "## remove error measurements with nan\n",
    "pegel['pegel'] = np.where(pegel.pegel <= 0, np.nan, pegel.pegel)\n"
   ]
  },
  {
   "cell_type": "code",
   "execution_count": null,
   "id": "cf313b10-0857-49ef-87b8-f9ae3a04ddad",
   "metadata": {
    "tags": []
   },
   "outputs": [],
   "source": [
    "pegel"
   ]
  },
  {
   "cell_type": "markdown",
   "id": "2a7ceb9c-a4cd-4872-afed-9623a8e0a5f4",
   "metadata": {},
   "source": [
    "## Plotting"
   ]
  },
  {
   "cell_type": "code",
   "execution_count": null,
   "id": "6e8d5eb3-1f15-4cc0-b74b-33c0a47b2bd7",
   "metadata": {
    "tags": []
   },
   "outputs": [],
   "source": [
    "def __makeplot():\n",
    "\n",
    "    Nrow, Ncol = 3, 1\n",
    "\n",
    "    font = 12\n",
    "\n",
    "    ref_date = str(bs.time1.iloc[0])[:10]\n",
    "\n",
    "    fig, ax = plt.subplots(Nrow, Ncol, figsize=(15, 8), sharex=True)\n",
    "\n",
    "    plt.subplots_adjust(hspace=0.1)\n",
    "\n",
    "    # time_scaling = 1/86400\n",
    "    time_scaling = 1\n",
    "\n",
    "    ax[0].plot(bs.time_sec*time_scaling, bs.fj_fs, color=\"tab:grey\", alpha=0.3, label=\"raw\")\n",
    "    ax[0].plot(bs.time_sec*time_scaling, bs.fj_fs_nan, color=\"tab:blue\", label=\"cleaned\")\n",
    "    # ax[0].plot(bs.time_sec*time_scaling, bs.fj_fs_smooth, color=\"k\", label=f\"mov. avg. ({n_minutes} min)\")\n",
    "    ax[0].set_ylim(302.35, 303.15)\n",
    "    ax[0].ticklabel_format(useOffset=False)\n",
    "    ax[0].set_ylabel(\"$\\delta f$ north ring (Hz)\", fontsize=font)\n",
    "\n",
    "    ax[1].plot(ws1.select(channel=\"*KI\")[0].times(reftime=UTCDateTime(ref_date)),\n",
    "               __smooth(ws1.select(channel=\"*KI\")[0].data, 600), color=\"tab:pink\", label=\"WS1\", alpha=0.7)\n",
    "    ax[1].plot(ws5.select(channel=\"*KI\")[0].times(reftime=UTCDateTime(ref_date)),\n",
    "               __smooth(ws5.select(channel=\"*KI\")[0].data, 600), color=\"tab:purple\", label=\"WS5\", alpha=0.7)\n",
    "    ax[1].plot(ws9.select(channel=\"*KI\")[0].times(reftime=UTCDateTime(ref_date)),\n",
    "               __smooth(ws9.select(channel=\"*KI\")[0].data, 600), color=\"tab:red\", label=\"WS9\", alpha=0.7)\n",
    "\n",
    "    ax[1].plot(ps3.select(channel=\"*KI\")[0].times(reftime=UTCDateTime(ref_date)),\n",
    "               __smooth(ps3.select(channel=\"*KI\")[0].data, 600), color=\"tab:green\", label=\"PS3\")\n",
    "\n",
    "    ax[1].set_ylim(5, 17)\n",
    "    ax[1].set_ylabel(\"Temperature (°C)\", fontsize=font)\n",
    "\n",
    "\n",
    "\n",
    "    ax[2].plot(tromy.select(channel=\"*N\")[0].times(reftime=UTCDateTime(ref_date))[:-20],\n",
    "               __reduce(tromy.select(channel=\"*N\")[0].data, 100)[:-20]*1e6, label=\"TROMY N-S\", color=\"tab:orange\")\n",
    "    ax[2].plot(tromy.select(channel=\"*E\")[0].times(reftime=UTCDateTime(ref_date))[:-20],\n",
    "               __reduce(tromy.select(channel=\"*E\")[0].data, 100)[:-20]*1e6, label=\"TROMY E-W\", color=\"tab:brown\")\n",
    "    ax[2].set_ylabel(\"Tilt ($\\mu$rad)\", fontsize=font)\n",
    "    ax[2].set_ylim(-30,10)\n",
    "\n",
    "    ax22 = ax[2].twinx()\n",
    "    ax22.fill_between(rain[0].times(reftime=UTCDateTime(ref_date)),\n",
    "                      rain_smooth, color=\"tab:blue\", alpha=0.6, label=f\"rain\", zorder=0)\n",
    "    ax22.set_ylim(bottom=0)\n",
    "    ax22.set_ylabel(f\"Precipitation (mm/hour)\", fontsize=font, color=\"tab:blue\")\n",
    "    [t.set_color('tab:blue') for t in ax22.yaxis.get_ticklabels()]\n",
    "\n",
    "    ax[2].set_yticks(np.linspace(ax[2].get_yticks()[0], ax[2].get_yticks()[-1], len(ax[2].get_yticks())))\n",
    "    ax22.set_yticks(np.linspace(ax22.get_yticks()[0], ax22.get_yticks()[-1], len(ax[2].get_yticks())))\n",
    "\n",
    "\n",
    "    ax23 = ax[2].twinx()\n",
    "    ax23.spines.right.set_position((\"axes\", 1.07))\n",
    "    ax23.plot(pegel.times_utc - UTCDateTime(ref_date), pegel.pegel, color=\"darkblue\", alpha=0.6)\n",
    "    # ax23.set_ylim(bottom=0)\n",
    "    ax23.set_ylabel(f\"Water Level (m)\", fontsize=font, color=\"darkblue\")\n",
    "    [t.set_color('darkblue') for t in ax23.yaxis.get_ticklabels()]\n",
    "\n",
    "    ax[2].set_yticks(np.linspace(ax[2].get_yticks()[0], ax[2].get_yticks()[-1], len(ax[2].get_yticks())))\n",
    "    ax23.set_yticks(np.linspace(ax23.get_yticks()[0], ax23.get_yticks()[-1], len(ax[2].get_yticks())))\n",
    "\n",
    "    ax24 = ax[2].twinx()\n",
    "    ax24.plot(rain_cumsum/max(rain_cumsum), alpha=0.5, zorder=1, ls=\"--\")\n",
    "    ax24.axis('off')\n",
    "\n",
    "    for _n in range(Nrow):\n",
    "        ax[_n].grid(ls=\":\", zorder=0)\n",
    "        # ax[_n].legend(loc=1, ncol=2)\n",
    "        # ax[_n].set_xlim(left=0)\n",
    "\n",
    "    ax[0].legend(loc=1, ncol=2)\n",
    "    ax[1].legend(loc=4, ncol=2)\n",
    "    ax[2].legend(loc=2, ncol=1)\n",
    "\n",
    "    # ax[2].set_xlabel(\"Time (days)\", fontsize=font)\n",
    "\n",
    "    ## add dates to x-axis\n",
    "    tcks = ax[Nrow-1].get_xticks()\n",
    "    tcklbls = [UTCDateTime(UTCDateTime(ref_date)+t).date for t in tcks]\n",
    "    ax[Nrow-1].set_xticklabels(tcklbls)\n",
    "\n",
    "    gc.collect()\n",
    "\n",
    "    plt.show();\n",
    "    return fig\n",
    "\n",
    "fig = __makeplot();\n",
    "\n",
    "fig.savefig(config['path_to_figs']+f\"SF_BS_RU_longterm_temperature_rain_tilt.png\", format=\"png\", dpi=150, bbox_inches='tight')\n"
   ]
  },
  {
   "cell_type": "markdown",
   "id": "6c11fb44-1fbf-4807-b46d-5b3293589f97",
   "metadata": {},
   "source": [
    "### Convert beat to tilt"
   ]
  },
  {
   "cell_type": "markdown",
   "id": "dee20ed2-867c-48f0-8542-eb75d3ccdf1c",
   "metadata": {},
   "source": [
    "$\\delta$ f = S * $\\Omega_E$ * sin($\\phi_{lat}$ + $\\theta_{dip}$ + $\\epsilon_{tilt}$)\n",
    "\n",
    "$\\epsilon_{tilt}$ = arcsin( $\\delta$ f / S / $\\Omega_E$ ) - $\\phi_{lat}$ - $\\theta_{dip}$"
   ]
  },
  {
   "cell_type": "code",
   "execution_count": null,
   "id": "3b3ffabe-db37-4bad-84fe-5e608c9ea8b9",
   "metadata": {
    "tags": []
   },
   "outputs": [],
   "source": [
    "from functions.sagnac_to_tilt import __sagnac_to_tilt\n",
    "from functions.conversion_to_tilt import __conversion_to_tilt"
   ]
  },
  {
   "cell_type": "code",
   "execution_count": null,
   "id": "281da325-0595-4201-8d47-02447dd55076",
   "metadata": {},
   "outputs": [],
   "source": []
  },
  {
   "cell_type": "code",
   "execution_count": null,
   "id": "7012ce2c-1015-4022-8422-c8e81172c5cd",
   "metadata": {
    "tags": []
   },
   "outputs": [],
   "source": [
    "path_to_tilt = data_path+\"TiltmeterDataBackup/Tilt_downsampled/\"\n",
    "\n",
    "sta = \"TROMY\"\n",
    "\n",
    "tilt =  __read_sds(path_to_tilt, f\"BW.{sta}..MAT\", config['tbeg']-600, config['tend']+600)\n",
    "tilt += __read_sds(path_to_tilt, f\"BW.{sta}..MAN\", config['tbeg']-600, config['tend']+600)\n",
    "tilt += __read_sds(path_to_tilt, f\"BW.{sta}..MAE\", config['tbeg']-600, config['tend']+600)\n",
    "\n",
    "## tiltmeter configurations\n",
    "confTilt = __readYaml(root_path+\"Documents/ROMY/tiltmeter/\", \"tiltmeter.conf\")\n",
    "\n",
    "tilt = __conversion_to_tilt(tilt, confTilt[f'{sta}'])\n",
    "\n",
    "tilt = tilt.trim(config['tbeg'], config['tend'])\n",
    "\n",
    "tilt.plot(equal_scale=False);\n",
    "\n",
    "gc.collect();"
   ]
  },
  {
   "cell_type": "code",
   "execution_count": null,
   "id": "6f47bf9b-fcc4-46fd-b1b4-90258daea27a",
   "metadata": {
    "tags": []
   },
   "outputs": [],
   "source": [
    "arr1 = __reduce(__smooth(np.nan_to_num(tilt.select(channel=\"*E\")[0].data, 0), 10), 100)\n",
    "arr2 = __reduce(__smooth(np.nan_to_num(tilt.select(channel=\"*T\")[0].data, 0), 10), 100)\n",
    "\n",
    "\n",
    "fig, ax = plt.subplots(4, 1, figsize=(15, 8))\n",
    "\n",
    "factor = 2e-4\n",
    "\n",
    "ax[0].plot(arr1, label=\"tilt\")\n",
    "ax[0].plot(arr2*factor, label=\"-1 temperature\")\n",
    "# correct = np.roll(arr2, -200)\n",
    "# ax[0].plot(correct*factor, label=\"shifted -1 temperature\")\n",
    "\n",
    "ax[0].legend()\n",
    "\n",
    "ax[1].plot(arr1, label=\"tilt\")\n",
    "ax[1].plot(arr1 - arr2*factor, label=\"tilt corrected\")\n",
    "# ax[1].plot(arr1 - correct*factor, label=\"tilt corrected\")\n",
    "\n",
    "ax[1].legend()\n",
    "\n",
    "ax[2].scatter(arr2, -arr1, s=1)\n",
    "# ax[2].scatter(correct, arr1, s=1)\n",
    "\n",
    "plt.show();"
   ]
  },
  {
   "cell_type": "code",
   "execution_count": null,
   "id": "a9d9f41b-5576-4fac-86dd-a85fac854b88",
   "metadata": {
    "tags": []
   },
   "outputs": [],
   "source": [
    "from obspy.signal.cross_correlation import correlate, xcorr_max\n",
    "\n",
    "arr1 = np.nan_to_num(tilt.select(channel=\"*T\")[0].data, 0)\n",
    "arr2 = np.nan_to_num(tilt.select(channel=\"*N\")[0].data, 0)\n",
    "\n",
    "# arr1 = __interpolate_nan(tromy_lp.select(channel=\"*T\")[0].data)\n",
    "# arr2 = __interpolate_nan(tromy_lp.select(channel=\"*N\")[0].data)\n",
    "\n",
    "Nshift = len(arr1)\n",
    "ccf = correlate(arr1, arr2, shift=Nshift, demean=True, normalize='naive', method='fft')\n",
    "cclags = np.arange(-Nshift, Nshift+1)\n",
    "\n",
    "shift, value = xcorr_max(ccf)\n",
    "print(\"Nshift: \", shift, \"Tshift: \", shift*tromy_lp[0].stats.delta, \"CC: \", value)\n",
    "\n",
    "cclag = shift\n",
    "\n",
    "plt.plot(cclags, ccf)"
   ]
  },
  {
   "cell_type": "code",
   "execution_count": null,
   "id": "d3e3e537-0ffd-47e5-9e75-4e3c3a5f5a1b",
   "metadata": {
    "tags": []
   },
   "outputs": [],
   "source": [
    "from functions.multitaper_coherence import __multitaper_coherence\n",
    "\n",
    "dat1 = tromy.select(channel=\"*T\")[0].data\n",
    "dat2 = tromy.select(channel=\"*N\")[0].data\n",
    "dt = tromy[0].stats.delta\n",
    "\n",
    "\n",
    "out = __multitaper_coherence(dat1, dat2, dt, n_taper=10, time_bandwidth=3.5, method=2)\n",
    "\n",
    "\n",
    "f1, psd1, pha1 = __get_fft(dat1, dt)\n",
    "f2, psd2, pha2 = __get_fft(dat2, dt)\n",
    "\n",
    "\n",
    "\n",
    "fig, ax = plt.subplots(3, 1, figsize=(15, 5), sharex=True)\n",
    "\n",
    "ax[0].semilogx(1/out['fcoh'], out['coh'])\n",
    "ax[0].set_ylim(0, 1)\n",
    "\n",
    "ax[1].semilogx(1/out['ff1'], out['psd1'])\n",
    "ax[2].semilogx(1/out['ff2'], out['psd2'])\n",
    "\n",
    "ax11 = ax[1].twinx()\n",
    "ax11.semilogx(1/f1, psd1, color=\"tab:orange\")\n",
    "\n",
    "ax22 = ax[2].twinx()\n",
    "ax22.semilogx(1/f2, psd2, color=\"tab:orange\")\n",
    "\n",
    "plt.show();"
   ]
  },
  {
   "cell_type": "code",
   "execution_count": null,
   "id": "1311da1b-bfdd-406b-995f-48c14d4cf0d5",
   "metadata": {
    "tags": []
   },
   "outputs": [],
   "source": []
  }
 ],
 "metadata": {
  "kernelspec": {
   "display_name": "Python 3 (ipykernel)",
   "language": "python",
   "name": "python3"
  },
  "language_info": {
   "codemirror_mode": {
    "name": "ipython",
    "version": 3
   },
   "file_extension": ".py",
   "mimetype": "text/x-python",
   "name": "python",
   "nbconvert_exporter": "python",
   "pygments_lexer": "ipython3",
   "version": "3.10.12"
  },
  "latex_envs": {
   "LaTeX_envs_menu_present": true,
   "autoclose": false,
   "autocomplete": true,
   "bibliofile": "biblio.bib",
   "cite_by": "apalike",
   "current_citInitial": 1,
   "eqLabelWithNumbers": true,
   "eqNumInitial": 1,
   "hotkeys": {
    "equation": "Ctrl-E",
    "itemize": "Ctrl-I"
   },
   "labels_anchors": false,
   "latex_user_defs": false,
   "report_style_numbering": false,
   "user_envs_cfg": false
  },
  "toc": {
   "base_numbering": 1,
   "nav_menu": {},
   "number_sections": true,
   "sideBar": true,
   "skip_h1_title": false,
   "title_cell": "Table of Contents",
   "title_sidebar": "Contents",
   "toc_cell": false,
   "toc_position": {},
   "toc_section_display": true,
   "toc_window_display": false
  },
  "varInspector": {
   "cols": {
    "lenName": 16,
    "lenType": 16,
    "lenVar": 40
   },
   "kernels_config": {
    "python": {
     "delete_cmd_postfix": "",
     "delete_cmd_prefix": "del ",
     "library": "var_list.py",
     "varRefreshCmd": "print(var_dic_list())"
    },
    "r": {
     "delete_cmd_postfix": ") ",
     "delete_cmd_prefix": "rm(",
     "library": "var_list.r",
     "varRefreshCmd": "cat(var_dic_list()) "
    }
   },
   "types_to_exclude": [
    "module",
    "function",
    "builtin_function_or_method",
    "instance",
    "_Feature"
   ],
   "window_display": false
  }
 },
 "nbformat": 4,
 "nbformat_minor": 5
}
