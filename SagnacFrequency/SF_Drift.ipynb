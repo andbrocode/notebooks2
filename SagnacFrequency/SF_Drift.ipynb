{
 "cells": [
  {
   "cell_type": "markdown",
   "id": "22f5c8c9",
   "metadata": {
    "ExecuteTime": {
     "end_time": "2022-10-28T13:00:52.763484Z",
     "start_time": "2022-10-28T13:00:52.761516Z"
    }
   },
   "source": [
    "## Sagnac Frequency - Compare Drift of Rings"
   ]
  },
  {
   "cell_type": "markdown",
   "id": "1cd32aed",
   "metadata": {},
   "source": []
  },
  {
   "cell_type": "markdown",
   "id": "185b1a0b",
   "metadata": {},
   "source": [
    "## Imports"
   ]
  },
  {
   "cell_type": "code",
   "execution_count": 32,
   "id": "818caf4c",
   "metadata": {
    "ExecuteTime": {
     "end_time": "2023-06-27T08:11:10.277643Z",
     "start_time": "2023-06-27T08:11:08.781535Z"
    },
    "tags": []
   },
   "outputs": [],
   "source": [
    "import os\n",
    "import gc\n",
    "import matplotlib.pyplot as plt\n",
    "import numpy as np\n",
    "\n",
    "from datetime import datetime, date\n",
    "from pandas import DataFrame, read_pickle, date_range, concat, read_csv\n",
    "from obspy import UTCDateTime, read, Trace, Stream, read_inventory\n",
    "from scipy.signal import hilbert\n"
   ]
  },
  {
   "cell_type": "code",
   "execution_count": 33,
   "id": "b83c9987",
   "metadata": {
    "ExecuteTime": {
     "end_time": "2023-06-27T08:11:10.288084Z",
     "start_time": "2023-06-27T08:11:10.284752Z"
    },
    "tags": []
   },
   "outputs": [],
   "source": [
    "if os.uname().nodename == 'lighthouse':\n",
    "    root_path = '/home/andbro/'\n",
    "    data_path = '/home/andbro/kilauea-data/'\n",
    "    archive_path = '/home/andbro/freenas/'\n",
    "elif os.uname().nodename == 'kilauea':\n",
    "    root_path = '/home/brotzer/'\n",
    "    data_path = '/import/kilauea-data/'\n",
    "    archive_path = '/import/freenas-ffb-01-data/'"
   ]
  },
  {
   "cell_type": "code",
   "execution_count": 34,
   "id": "8f0c0edf-a8b5-45af-a8f6-59f09892ee34",
   "metadata": {
    "tags": []
   },
   "outputs": [],
   "source": [
    "from functions.interpolate_nan import __interpolate_nan"
   ]
  },
  {
   "cell_type": "code",
   "execution_count": 35,
   "id": "8d1ea8ec-750a-4938-aee9-a1ae6b93113c",
   "metadata": {
    "tags": []
   },
   "outputs": [],
   "source": [
    "def __get_mlti_intervals(mlti_times):\n",
    "\n",
    "    from obspy import UTCDateTime\n",
    "    from numpy import array\n",
    "\n",
    "    t1, t2 = [], []\n",
    "    for k,_t in enumerate(mlti_times):\n",
    "\n",
    "        _t = UTCDateTime(_t)\n",
    "\n",
    "        if k == 0:\n",
    "            _tlast = _t\n",
    "            t1.append(_t)\n",
    "\n",
    "        if _t -_tlast > 60:\n",
    "            t2.append(_tlast)\n",
    "            t1.append(_t)\n",
    "\n",
    "        _tlast = _t\n",
    "\n",
    "    t2.append(_t)\n",
    "\n",
    "    return array(t1), array(t2)"
   ]
  },
  {
   "cell_type": "code",
   "execution_count": 36,
   "id": "a9beca80-3b5a-487d-9f2b-9d8e0d43e173",
   "metadata": {
    "tags": []
   },
   "outputs": [],
   "source": [
    "def __load_beat(tbeg, tend, ring, path_to_data):\n",
    "\n",
    "    from datetime import date\n",
    "    from pandas import read_pickle, concat, DataFrame, date_range\n",
    "    from obspy import UTCDateTime\n",
    "\n",
    "\n",
    "    tbeg, tend = UTCDateTime(tbeg), UTCDateTime(tend)\n",
    "\n",
    "    dd1 = date.fromisoformat(str(tbeg.date))\n",
    "    dd2 = date.fromisoformat(str(tend.date))\n",
    "\n",
    "    df = DataFrame()\n",
    "    for dat in date_range(dd1, dd2):\n",
    "        file = f\"{str(dat)[:4]}/R{ring}/FJ{ring}_\"+str(dat)[:10].replace(\"-\", \"\")+\".pkl\"\n",
    "        try:\n",
    "            df0 = read_pickle(path_to_data+file)\n",
    "            df = concat([df, df0])\n",
    "        except:\n",
    "            print(f\"error for {file}\")\n",
    "    if df.empty:\n",
    "        print(\" -> empty dataframe!\")\n",
    "        return df\n",
    "\n",
    "    ## trim to defined times\n",
    "    df = df[(df.times_utc >= tbeg) & (df.times_utc < tend)]\n",
    "\n",
    "    ## correct seconds\n",
    "    df['times_utc_sec'] = [abs(tbeg - UTCDateTime(_t))  for _t in df['times_utc']]\n",
    "\n",
    "    return df"
   ]
  },
  {
   "cell_type": "code",
   "execution_count": 37,
   "id": "d039f541-c35b-4aa7-96e7-af7b379c60ce",
   "metadata": {
    "tags": []
   },
   "outputs": [],
   "source": [
    "def __smooth(y, npts):\n",
    "\n",
    "    from numpy import ones, convolve, hanning, nan\n",
    "\n",
    "    win = hanning(npts)\n",
    "    y_smooth = convolve(y, win/sum(win), mode='same')\n",
    "\n",
    "    y_smooth[:npts//2] = nan\n",
    "    y_smooth[-npts//2:] = nan\n",
    "    return y_smooth"
   ]
  },
  {
   "cell_type": "code",
   "execution_count": 38,
   "id": "9eb3a1c9-098e-487b-b22c-27c52fa874e2",
   "metadata": {
    "tags": []
   },
   "outputs": [],
   "source": [
    "def __get_mlti_intervals(mlti_times):\n",
    "\n",
    "    from obspy import UTCDateTime\n",
    "    from numpy import array\n",
    "\n",
    "    t1, t2 = [], []\n",
    "    for k,_t in enumerate(mlti_times):\n",
    "\n",
    "        _t = UTCDateTime(_t)\n",
    "\n",
    "        if k == 0:\n",
    "            _tlast = _t\n",
    "            t1.append(_t)\n",
    "\n",
    "        if _t -_tlast > 60:\n",
    "            t2.append(_tlast)\n",
    "            t1.append(_t)\n",
    "\n",
    "        _tlast = _t\n",
    "\n",
    "    t2.append(_t)\n",
    "\n",
    "    return array(t1), array(t2)"
   ]
  },
  {
   "cell_type": "code",
   "execution_count": 39,
   "id": "311359ab-e5f2-4201-8612-1484e3d69dc4",
   "metadata": {
    "tags": []
   },
   "outputs": [],
   "source": [
    "def __get_mlti_intervals(mlti_times):\n",
    "\n",
    "    from obspy import UTCDateTime\n",
    "    from numpy import array\n",
    "\n",
    "    t1, t2 = [], []\n",
    "    for k,_t in enumerate(mlti_times):\n",
    "\n",
    "        _t = UTCDateTime(_t)\n",
    "\n",
    "        if k == 0:\n",
    "            _tlast = _t\n",
    "            t1.append(_t)\n",
    "\n",
    "        if _t -_tlast > 60:\n",
    "            t2.append(_tlast)\n",
    "            t1.append(_t)\n",
    "\n",
    "        _tlast = _t\n",
    "\n",
    "    t2.append(_t)\n",
    "\n",
    "    return array(t1), array(t2)"
   ]
  },
  {
   "cell_type": "code",
   "execution_count": 40,
   "id": "7576af49-074b-4925-81e7-832858c42ccc",
   "metadata": {
    "tags": []
   },
   "outputs": [],
   "source": [
    "def __load_mlti(tbeg, tend, ring, path_to_archive):\n",
    "\n",
    "    from obspy import UTCDateTime\n",
    "    from pandas import read_csv, concat\n",
    "\n",
    "    tbeg, tend = UTCDateTime(tbeg), UTCDateTime(tend)\n",
    "\n",
    "    rings = {\"U\":\"03\", \"Z\":\"01\", \"V\":\"02\", \"W\":\"04\"}\n",
    "\n",
    "    if tbeg.year == tend.year:\n",
    "        year = tbeg.year\n",
    "\n",
    "        path_to_mlti = path_to_archive+f\"romy_archive/{year}/BW/CROMY/{year}_romy_{rings[ring]}_mlti.log\"\n",
    "\n",
    "        mlti = read_csv(path_to_mlti, names=[\"time_utc\",\"Action\",\"ERROR\"])\n",
    "\n",
    "    else:\n",
    "\n",
    "        path_to_mlti1 = path_to_archive+f\"romy_archive/{tbeg.year}/BW/CROMY/{tbeg.year}_romy_{rings[ring]}_mlti.log\"\n",
    "        mlti1 = read_csv(path_to_mlti1, names=[\"time_utc\",\"Action\",\"ERROR\"])\n",
    "\n",
    "        path_to_mlti2 = path_to_archive+f\"romy_archive/{tend.year}/BW/CROMY/{tend.year}_romy_{rings[ring]}_mlti.log\"\n",
    "        mlti2 = read_csv(path_to_mlti2, names=[\"time_utc\",\"Action\",\"ERROR\"])\n",
    "\n",
    "        mlti = concat([mlti1, mlti2])\n",
    "\n",
    "    mlti = mlti[(mlti.time_utc > tbeg) & (mlti.time_utc < tend)]\n",
    "\n",
    "    return mlti"
   ]
  },
  {
   "cell_type": "code",
   "execution_count": 41,
   "id": "17549f40-00cb-4b7d-9c45-9996a401df9a",
   "metadata": {
    "tags": []
   },
   "outputs": [],
   "source": [
    "def __mlti_intervals_to_NaN(df_in, mlti_t1, mlti_t2, t_offset_sec=120):\n",
    "\n",
    "    from numpy import nan, where\n",
    "\n",
    "    df_in['fj_nan'] = df_in['fj']\n",
    "\n",
    "    for t1, t2 in zip(mlti_t1, mlti_t2):\n",
    "\n",
    "        ## trim times to minutes and add t_offset_sec\n",
    "        tt1, tt2 = str(t1-t_offset_sec)[:16], str(t2+t_offset_sec)[:16]\n",
    "\n",
    "        ## replace data during mlti times with NaN values\n",
    "        df_in['fj_nan'] = where((df_in.times_utc > str(tt1)) & (df_in.times_utc < str(tt2)), nan, df_in['fj_nan'])\n",
    "\n",
    "    return df_in"
   ]
  },
  {
   "cell_type": "markdown",
   "id": "ec2578ab",
   "metadata": {},
   "source": [
    "## Configurations"
   ]
  },
  {
   "cell_type": "code",
   "execution_count": 42,
   "id": "ba83e3e7",
   "metadata": {
    "ExecuteTime": {
     "end_time": "2023-06-27T08:11:13.008382Z",
     "start_time": "2023-06-27T08:11:13.002517Z"
    },
    "tags": []
   },
   "outputs": [],
   "source": [
    "config = {}\n",
    "\n",
    "config['tbeg'] = UTCDateTime(\"2023-12-01 00:00\")\n",
    "config['tend'] = UTCDateTime(\"2023-12-31 00:00\")\n",
    "\n",
    "config['tbeg'] = UTCDateTime(\"2024-02-01 00:00\")\n",
    "config['tend'] = UTCDateTime(\"2024-02-11 00:00\")\n",
    "\n",
    "config['path_to_sds'] = archive_path+\"romy_archive/\"\n",
    "\n",
    "## path to Sagnac Beat data\n",
    "config['path_to_autodata'] = archive_path+f\"romy_autodata/\"\n",
    "\n",
    "config['path_to_figs'] = data_path+\"sagnac_frequency/figures/\""
   ]
  },
  {
   "cell_type": "code",
   "execution_count": 43,
   "id": "4159acaa-956d-44ad-bc94-e9a445ccb8a7",
   "metadata": {
    "tags": []
   },
   "outputs": [],
   "source": [
    "beatU = __load_beat(config['tbeg'], config['tend'], \"U\", config['path_to_autodata'])\n",
    "beatZ = __load_beat(config['tbeg'], config['tend'], \"Z\", config['path_to_autodata'])\n",
    "beatV = __load_beat(config['tbeg'], config['tend'], \"V\", config['path_to_autodata'])"
   ]
  },
  {
   "cell_type": "code",
   "execution_count": 44,
   "id": "0f9e9c64-33d0-4fc6-91bb-22f90a34fa12",
   "metadata": {
    "tags": []
   },
   "outputs": [
    {
     "name": "stderr",
     "output_type": "stream",
     "text": [
      "No artists with labels found to put in legend.  Note that artists whose label start with an underscore are ignored when legend() is called with no argument.\n",
      "No artists with labels found to put in legend.  Note that artists whose label start with an underscore are ignored when legend() is called with no argument.\n",
      "No artists with labels found to put in legend.  Note that artists whose label start with an underscore are ignored when legend() is called with no argument.\n"
     ]
    },
    {
     "data": {
      "image/png": "[encoded data removed]",
      "text/plain": [
       "<Figure size 1500x800 with 3 Axes>"
      ]
     },
     "metadata": {},
     "output_type": "display_data"
    }
   ],
   "source": [
    "def __makeplot():\n",
    "\n",
    "    Nrow, Ncol = 3, 1\n",
    "\n",
    "    font = 12\n",
    "\n",
    "    time_scaling = 1/86400\n",
    "\n",
    "    fig, ax = plt.subplots(Nrow, Ncol, figsize=(15, 8), sharex=True)\n",
    "\n",
    "    ax[0].plot(beatZ.times_utc_sec*time_scaling, beatZ.fj)\n",
    "    # ax[0].set_ylim(553.49, 553.52)\n",
    "    ax[0].ticklabel_format(useOffset=False)\n",
    "\n",
    "    ax[1].plot(beatU.times_utc_sec*time_scaling, beatU.fj)\n",
    "    # ax[1].set_ylim(302.4, 302.5)\n",
    "    ax[1].ticklabel_format(useOffset=False)\n",
    "\n",
    "    ax[2].plot(beatV.times_utc_sec*time_scaling, beatV.fj)\n",
    "    # ax[2].set_ylim(447.4, 447.6)\n",
    "    ax[2].ticklabel_format(useOffset=False)\n",
    "\n",
    "    # ax[2].axhline(np.nanpercentile(beatV.fj, 99))\n",
    "    # ax[2].axhline(np.nanpercentile(beatV.fj, 1))\n",
    "\n",
    "    for _n in range(Nrow):\n",
    "        ax[_n].grid(ls=\":\", zorder=0)\n",
    "        ax[_n].legend(loc=1)\n",
    "\n",
    "    plt.show();\n",
    "    return fig\n",
    "\n",
    "fig = __makeplot();\n"
   ]
  },
  {
   "cell_type": "markdown",
   "id": "a7e275d3-a082-4f03-9195-d385b9610adc",
   "metadata": {},
   "source": [
    "## Remove breakdown periods"
   ]
  },
  {
   "cell_type": "code",
   "execution_count": 14,
   "id": "6474b743-84e8-4151-a528-338d0307bfb9",
   "metadata": {
    "tags": []
   },
   "outputs": [],
   "source": [
    "times = [(\"2023-12-04T09:10\", \"2023-12-04T18:02\"),\n",
    "         (\"2023-12-20T06:10\", \"2023-12-20T12:01\")]\n",
    "\n",
    "for t1, t2 in times:\n",
    "    beatU['fj'] = np.where((beatU.times_utc > t1) & (beatU.times_utc < t2), np.nan, beatU['fj'])\n",
    "\n",
    "# beatU['fj'] = np.nan_to_num(beatU['fj'], nan=np.nanmedian(beatU['fj']))"
   ]
  },
  {
   "cell_type": "code",
   "execution_count": 15,
   "id": "143b539b-ee12-49ec-9b0a-91990abb9fc4",
   "metadata": {
    "tags": []
   },
   "outputs": [],
   "source": [
    "times = [(\"2024-01-01T04:00\", \"2024-01-01T22:51\"),\n",
    "         (\"2024-01-03T14:20\", \"2024-01-06T00:00\"),\n",
    "         (\"2023-12-19T09:40\", \"2023-12-19T15:21\")]\n",
    "\n",
    "for t1, t2 in times:\n",
    "    beatV['fj'] = np.where((beatV.times_utc > t1) & (beatV.times_utc < t2), np.nan, beatV['fj'])\n",
    "\n",
    "# beatV['fj'] = np.nan_to_num(beatV['fj'], nan=np.nanmedian(beatV['fj']))"
   ]
  },
  {
   "cell_type": "code",
   "execution_count": 16,
   "id": "fa6e6134-d24d-42fb-a5c6-4b08a453a707",
   "metadata": {
    "tags": []
   },
   "outputs": [],
   "source": [
    "times = [(\"2023-12-07T00:10\", \"2023-12-08T18:05\")]\n",
    "\n",
    "for t1, t2 in times:\n",
    "    beatZ['fj'] = np.where((beatZ.times_utc > t1) & (beatZ.times_utc < t2), np.nan, beatZ['fj'])\n",
    "\n",
    "# beatZ['fj'] = np.nan_to_num(beatZ['fj'], nan=np.nanmedian(beatZ['fj']))"
   ]
  },
  {
   "cell_type": "code",
   "execution_count": 17,
   "id": "a0fa3020-6639-4ee6-aca9-7fe325e3af5b",
   "metadata": {
    "tags": []
   },
   "outputs": [],
   "source": [
    "# beatU['fj'] = np.where((beatU.times_utc < \"2023-12-20T07:00:30\") & (beatU.fj < 302.4), np.nan, beatU.fj)\n",
    "beatU['fj'] = np.where((beatU.fj < 302.4), np.nan, beatU.fj)\n",
    "\n",
    "## cut off outliers manually\n",
    "beatU['fj'] = np.where((beatU.times_utc > \"2023-12-18T20:40\") & (beatU.times_utc < \"2023-12-19T05:00\") & (beatU.fj < 302.48), np.nan, beatU.fj)\n"
   ]
  },
  {
   "cell_type": "code",
   "execution_count": 18,
   "id": "23cd9285-f024-4875-bbc5-d37e9bfc4242",
   "metadata": {
    "tags": []
   },
   "outputs": [],
   "source": [
    "beatZ['fj'] = np.where((beatZ.fj > 553.515), np.nan, beatZ.fj)"
   ]
  },
  {
   "cell_type": "code",
   "execution_count": 19,
   "id": "9396d276-0f21-477b-adec-869c044892ca",
   "metadata": {
    "tags": []
   },
   "outputs": [],
   "source": [
    "# i1, i2 = 25000, 25500\n",
    "\n",
    "# # print(beatZ.times_utc.iloc[i1], beatZ.times_utc.iloc[i2])\n",
    "# # plt.plot(beatZ.times_utc_sec.iloc[i1:i2], beatZ.fj.iloc[i1:i2])\n",
    "\n",
    "# print(beatU.times_utc.iloc[i1], beatU.times_utc.iloc[i2])\n",
    "# plt.plot(beatU.times_utc_sec.iloc[i1:i2], beatU.fj.iloc[i1:i2])\n",
    "# # plt.plot(beatU.times_utc_sec.iloc[i1:i2], beatU.fj_nan.iloc[i1:i2])"
   ]
  },
  {
   "cell_type": "code",
   "execution_count": 20,
   "id": "72a5f21b-de0d-4abc-8be9-9f96ddf6e84a",
   "metadata": {
    "tags": []
   },
   "outputs": [
    {
     "name": "stderr",
     "output_type": "stream",
     "text": [
      "No artists with labels found to put in legend.  Note that artists whose label start with an underscore are ignored when legend() is called with no argument.\n",
      "No artists with labels found to put in legend.  Note that artists whose label start with an underscore are ignored when legend() is called with no argument.\n",
      "No artists with labels found to put in legend.  Note that artists whose label start with an underscore are ignored when legend() is called with no argument.\n"
     ]
    },
    {
     "data": {
      "image/png": "[encoded data removed]",
      "text/plain": [
       "<Figure size 1500x800 with 3 Axes>"
      ]
     },
     "metadata": {},
     "output_type": "display_data"
    }
   ],
   "source": [
    "fig = __makeplot();"
   ]
  },
  {
   "cell_type": "markdown",
   "id": "87a89fa2-25f0-46a2-a18e-12aa8bc4b874",
   "metadata": {},
   "source": [
    "## Remove MLTI times"
   ]
  },
  {
   "cell_type": "code",
   "execution_count": 21,
   "id": "1a153dfa-c649-4d32-ba2e-b319e4fe7c62",
   "metadata": {
    "tags": []
   },
   "outputs": [],
   "source": [
    "mltiU = __load_mlti(config['tbeg'], config['tend'], \"U\", archive_path)"
   ]
  },
  {
   "cell_type": "code",
   "execution_count": 22,
   "id": "347b783d-9992-48a2-8b33-9576d43ebf3f",
   "metadata": {
    "tags": []
   },
   "outputs": [],
   "source": [
    "mltiZ = __load_mlti(config['tbeg'], config['tend'], \"Z\", archive_path)"
   ]
  },
  {
   "cell_type": "code",
   "execution_count": 23,
   "id": "a496d6a7-4d33-4ad8-b8f9-9e70504e506d",
   "metadata": {
    "tags": []
   },
   "outputs": [],
   "source": [
    "mltiV = __load_mlti(config['tbeg'], config['tend'], \"V\", archive_path)"
   ]
  },
  {
   "cell_type": "code",
   "execution_count": 24,
   "id": "a4c04f98-f7b4-4dbd-8d59-5715391701d6",
   "metadata": {
    "tags": []
   },
   "outputs": [],
   "source": [
    "mltiU_t1, mltiU_t2 = __get_mlti_intervals(mltiU.time_utc)"
   ]
  },
  {
   "cell_type": "code",
   "execution_count": 25,
   "id": "ca562740-8489-4a21-aee4-fe25315a02de",
   "metadata": {
    "tags": []
   },
   "outputs": [],
   "source": [
    "mltiZ_t1, mltiZ_t2 = __get_mlti_intervals(mltiZ.time_utc)"
   ]
  },
  {
   "cell_type": "code",
   "execution_count": 26,
   "id": "c995c178-260c-40c3-918e-99011cb34356",
   "metadata": {
    "tags": []
   },
   "outputs": [],
   "source": [
    "mltiV_t1, mltiV_t2 = __get_mlti_intervals(mltiV.time_utc)"
   ]
  },
  {
   "cell_type": "code",
   "execution_count": 27,
   "id": "9816bcac-171c-49e5-9eec-b86472bcd75e",
   "metadata": {
    "tags": []
   },
   "outputs": [],
   "source": [
    "# # df, mlti, mlti_t1, mlti_t2  = beatU, mltiU, mltiU_t1, mltiU_t2\n",
    "# # df, mlti, mlti_t1, mlti_t2  = beatV, mltiV, mltiV_t1, mltiV_t2\n",
    "# df, mlti, mlti_t1, mlti_t2  = beatZ, mltiZ, mltiZ_t1, mltiZ_t2\n",
    "\n",
    "\n",
    "# time_axis = df.times_utc_sec-df.times_utc_sec.iloc[0]\n",
    "# plt.plot(time_axis, df.fj, zorder=2)\n",
    "\n",
    "# # for m in mlti.time_utc:\n",
    "# #     plt.axvline((UTCDateTime(m)-config['tbeg'])/86400, color=\"red\", zorder=0, alpha=0.5)\n",
    "\n",
    "# miny, maxy = min(df.fj), max(df.fj)\n",
    "# for t1, t2 in zip(mlti_t1, mlti_t2):\n",
    "#     plt.fill_betweenx([miny, maxy], t1-config['tbeg'], t2-config['tbeg'], color=\"red\", alpha=0.5;"
   ]
  },
  {
   "cell_type": "code",
   "execution_count": 28,
   "id": "c6e17c4e-9761-40ee-8f81-61f51d64ee30",
   "metadata": {
    "tags": []
   },
   "outputs": [],
   "source": [
    "# i1, i2 = 20400, 26819\n",
    "\n",
    "# print(beatV.times_utc.iloc[i1], beatV.times_utc.iloc[i2])\n",
    "# plt.plot(beatV.times_utc_sec.iloc[i1:i2], beatV.fj.iloc[i1:i2])"
   ]
  },
  {
   "cell_type": "code",
   "execution_count": 29,
   "id": "97ec6fec-017c-4f96-8313-973b69d1b0ae",
   "metadata": {
    "tags": []
   },
   "outputs": [],
   "source": [
    "beatU = __mlti_intervals_to_NaN(beatU, mltiU_t1, mltiU_t2, t_offset_sec=180)\n",
    "beatV = __mlti_intervals_to_NaN(beatV, mltiV_t1, mltiV_t2, t_offset_sec=180)\n",
    "beatZ = __mlti_intervals_to_NaN(beatZ, mltiZ_t1, mltiZ_t2, t_offset_sec=180)"
   ]
  },
  {
   "cell_type": "code",
   "execution_count": null,
   "id": "6b5b2dd9-e208-4a73-b8a1-927630e92235",
   "metadata": {
    "tags": []
   },
   "outputs": [],
   "source": []
  },
  {
   "cell_type": "markdown",
   "id": "bf68b759-0f4e-4181-9c41-4947954f7c47",
   "metadata": {
    "tags": []
   },
   "source": [
    "## Interpolate NaN values"
   ]
  },
  {
   "cell_type": "code",
   "execution_count": 30,
   "id": "fb67163f-c6d0-4a85-9889-55b687c789c9",
   "metadata": {
    "tags": []
   },
   "outputs": [
    {
     "ename": "ValueError",
     "evalue": "array of sample points is empty",
     "output_type": "error",
     "traceback": [
      "\u001b[0;31m---------------------------------------------------------------------------\u001b[0m",
      "\u001b[0;31mValueError\u001b[0m                                Traceback (most recent call last)",
      "Cell \u001b[0;32mIn[30], line 2\u001b[0m\n\u001b[1;32m      1\u001b[0m beatU[\u001b[38;5;124m'\u001b[39m\u001b[38;5;124mfj_inter\u001b[39m\u001b[38;5;124m'\u001b[39m] \u001b[38;5;241m=\u001b[39m __interpolate_nan(np\u001b[38;5;241m.\u001b[39marray(beatU\u001b[38;5;241m.\u001b[39mfj_nan))\n\u001b[0;32m----> 2\u001b[0m beatV[\u001b[38;5;124m'\u001b[39m\u001b[38;5;124mfj_inter\u001b[39m\u001b[38;5;124m'\u001b[39m] \u001b[38;5;241m=\u001b[39m \u001b[43m__interpolate_nan\u001b[49m\u001b[43m(\u001b[49m\u001b[43mnp\u001b[49m\u001b[38;5;241;43m.\u001b[39;49m\u001b[43marray\u001b[49m\u001b[43m(\u001b[49m\u001b[43mbeatV\u001b[49m\u001b[38;5;241;43m.\u001b[39;49m\u001b[43mfj_nan\u001b[49m\u001b[43m)\u001b[49m\u001b[43m)\u001b[49m\n\u001b[1;32m      3\u001b[0m beatZ[\u001b[38;5;124m'\u001b[39m\u001b[38;5;124mfj_inter\u001b[39m\u001b[38;5;124m'\u001b[39m] \u001b[38;5;241m=\u001b[39m __interpolate_nan(np\u001b[38;5;241m.\u001b[39marray(beatZ\u001b[38;5;241m.\u001b[39mfj_nan))\n",
      "File \u001b[0;32m~/notebooks/SagnacFrequency/functions/interpolate_nan.py:12\u001b[0m, in \u001b[0;36m__interpolate_nan\u001b[0;34m(array_like)\u001b[0m\n\u001b[1;32m      9\u001b[0m \u001b[38;5;28;01mdef\u001b[39;00m \u001b[38;5;21mget_x\u001b[39m(a):\n\u001b[1;32m     10\u001b[0m     \u001b[38;5;28;01mreturn\u001b[39;00m a\u001b[38;5;241m.\u001b[39mnonzero()[\u001b[38;5;241m0\u001b[39m]\n\u001b[0;32m---> 12\u001b[0m array[nans] \u001b[38;5;241m=\u001b[39m \u001b[43minterp\u001b[49m\u001b[43m(\u001b[49m\u001b[43mget_x\u001b[49m\u001b[43m(\u001b[49m\u001b[43mnans\u001b[49m\u001b[43m)\u001b[49m\u001b[43m,\u001b[49m\u001b[43m \u001b[49m\u001b[43mget_x\u001b[49m\u001b[43m(\u001b[49m\u001b[38;5;241;43m~\u001b[39;49m\u001b[43mnans\u001b[49m\u001b[43m)\u001b[49m\u001b[43m,\u001b[49m\u001b[43m \u001b[49m\u001b[43marray\u001b[49m\u001b[43m[\u001b[49m\u001b[38;5;241;43m~\u001b[39;49m\u001b[43mnans\u001b[49m\u001b[43m]\u001b[49m\u001b[43m)\u001b[49m\n\u001b[1;32m     14\u001b[0m \u001b[38;5;28;01mreturn\u001b[39;00m array\n",
      "File \u001b[0;32m~/anaconda3/envs/obs2/lib/python3.10/site-packages/numpy/lib/function_base.py:1599\u001b[0m, in \u001b[0;36minterp\u001b[0;34m(x, xp, fp, left, right, period)\u001b[0m\n\u001b[1;32m   1596\u001b[0m     xp \u001b[38;5;241m=\u001b[39m np\u001b[38;5;241m.\u001b[39mconcatenate((xp[\u001b[38;5;241m-\u001b[39m\u001b[38;5;241m1\u001b[39m:]\u001b[38;5;241m-\u001b[39mperiod, xp, xp[\u001b[38;5;241m0\u001b[39m:\u001b[38;5;241m1\u001b[39m]\u001b[38;5;241m+\u001b[39mperiod))\n\u001b[1;32m   1597\u001b[0m     fp \u001b[38;5;241m=\u001b[39m np\u001b[38;5;241m.\u001b[39mconcatenate((fp[\u001b[38;5;241m-\u001b[39m\u001b[38;5;241m1\u001b[39m:], fp, fp[\u001b[38;5;241m0\u001b[39m:\u001b[38;5;241m1\u001b[39m]))\n\u001b[0;32m-> 1599\u001b[0m \u001b[38;5;28;01mreturn\u001b[39;00m \u001b[43minterp_func\u001b[49m\u001b[43m(\u001b[49m\u001b[43mx\u001b[49m\u001b[43m,\u001b[49m\u001b[43m \u001b[49m\u001b[43mxp\u001b[49m\u001b[43m,\u001b[49m\u001b[43m \u001b[49m\u001b[43mfp\u001b[49m\u001b[43m,\u001b[49m\u001b[43m \u001b[49m\u001b[43mleft\u001b[49m\u001b[43m,\u001b[49m\u001b[43m \u001b[49m\u001b[43mright\u001b[49m\u001b[43m)\u001b[49m\n",
      "\u001b[0;31mValueError\u001b[0m: array of sample points is empty"
     ]
    }
   ],
   "source": [
    "beatU['fj_inter'] = __interpolate_nan(np.array(beatU.fj_nan))\n",
    "beatV['fj_inter'] = __interpolate_nan(np.array(beatV.fj_nan))\n",
    "beatZ['fj_inter'] = __interpolate_nan(np.array(beatZ.fj_nan))"
   ]
  },
  {
   "cell_type": "markdown",
   "id": "fad23456-3357-4da8-9d0c-c1805c551a37",
   "metadata": {},
   "source": [
    "## Smoothing"
   ]
  },
  {
   "cell_type": "code",
   "execution_count": null,
   "id": "00d4d273-a04e-4d82-b0d1-f3d45a5bd34c",
   "metadata": {
    "tags": []
   },
   "outputs": [],
   "source": [
    "n_minutes = 600\n",
    "\n",
    "beatU['fj_smooth'] = __smooth(beatU.fj_inter, n_minutes)\n",
    "beatV['fj_smooth'] = __smooth(beatV.fj_inter, n_minutes)\n",
    "beatZ['fj_smooth'] = __smooth(beatZ.fj_inter, n_minutes)"
   ]
  },
  {
   "cell_type": "markdown",
   "id": "f89ea86f-24bf-4848-bb6d-464e963dbf70",
   "metadata": {
    "tags": []
   },
   "source": [
    "## Plotting"
   ]
  },
  {
   "cell_type": "code",
   "execution_count": null,
   "id": "cd8bfc16-7f26-4b61-9d93-23617741030e",
   "metadata": {
    "tags": []
   },
   "outputs": [],
   "source": [
    "def __makeplot():\n",
    "\n",
    "    Nrow, Ncol = 3, 1\n",
    "\n",
    "    font = 12\n",
    "\n",
    "    fig, ax = plt.subplots(Nrow, Ncol, figsize=(15, 8), sharex=True)\n",
    "\n",
    "    # time_scaling = 1/86400\n",
    "    time_scaling = 1\n",
    "\n",
    "    ax[0].plot(beatZ.times_utc_sec*time_scaling, beatZ.fj, color=\"tab:grey\", alpha=0.3, label=\"raw\")\n",
    "    ax[0].plot(beatZ.times_utc_sec*time_scaling, beatZ.fj_inter, color=\"tab:blue\", label=\"cleaned\")\n",
    "    ax[0].plot(beatZ.times_utc_sec*time_scaling, beatZ.fj_smooth, color=\"k\", label=f\"mov. avg. ({n_minutes} min)\")\n",
    "    ax[0].set_ylim(553.49, 553.51)\n",
    "    ax[0].ticklabel_format(useOffset=False)\n",
    "    ax[0].set_ylabel(\"Horizontal ring (Hz)\", fontsize=font)\n",
    "\n",
    "    ax[1].plot(beatU.times_utc_sec*time_scaling, beatU.fj, color=\"tab:grey\", alpha=0.3, label=\"raw\")\n",
    "    ax[1].plot(beatU.times_utc_sec*time_scaling, beatU.fj_inter, color=\"tab:green\", label=\"cleaned\")\n",
    "    ax[1].plot(beatU.times_utc_sec*time_scaling, beatU.fj_smooth, color=\"k\", label=f\"mov. avg. ({n_minutes} min)\")\n",
    "    ax[1].set_ylim(302.4, 302.52)\n",
    "    ax[1].ticklabel_format(useOffset=False)\n",
    "    ax[1].set_ylabel(\"Northern ring (Hz)\", fontsize=font)\n",
    "\n",
    "    ax[2].plot(beatV.times_utc_sec*time_scaling, beatV.fj, color=\"tab:grey\", alpha=0.3, label=\"raw\")\n",
    "    ax[2].plot(beatV.times_utc_sec*time_scaling, beatV.fj_inter, color=\"tab:red\", label=\"cleaned\")\n",
    "    ax[2].plot(beatV.times_utc_sec*time_scaling, beatV.fj_smooth, color=\"k\", label=f\"mov. avg. ({n_minutes} min)\")\n",
    "    ax[2].set_ylim(447.435, 447.455)\n",
    "    ax[2].ticklabel_format(useOffset=False)\n",
    "    ax[2].set_ylabel(\"Western ring (Hz)\", fontsize=font)\n",
    "\n",
    "    for _n in range(Nrow):\n",
    "        ax[_n].grid(ls=\":\", zorder=0)\n",
    "        ax[_n].legend(loc=1)\n",
    "        # ax[_n].set_xlim(left=0)\n",
    "\n",
    "    # ax[2].set_xlabel(\"Time (days)\", fontsize=font)\n",
    "\n",
    "    ## add dates to x-axis\n",
    "    ref_date = UTCDateTime(beatZ.times_utc.iloc[0][:10])\n",
    "    tcks = ax[Nrow-1].get_xticks()\n",
    "    tcklbls = [str(UTCDateTime(ref_date+t).date) for t in tcks]\n",
    "    ax[Nrow-1].set_xticklabels(tcklbls)\n",
    "\n",
    "    plt.show();\n",
    "    return fig\n",
    "\n",
    "fig = __makeplot();\n",
    "\n",
    "fig.savefig(config['path_to_figs']+f\"BeatDrift_smoothed.png\", format=\"png\", dpi=150, bbox_inches='tight')\n"
   ]
  },
  {
   "cell_type": "code",
   "execution_count": null,
   "id": "9914526e-6782-453c-a203-e5cb3d2ed01c",
   "metadata": {
    "tags": []
   },
   "outputs": [],
   "source": [
    "beatU['fj_reduced'] = beatU['fj_smooth'] - np.abs(np.nanmean(beatU['fj_smooth'].iloc[:500]))\n",
    "beatV['fj_reduced'] = beatV['fj_smooth'] - np.abs(np.nanmean(beatV['fj_smooth'].iloc[:500]))\n",
    "beatZ['fj_reduced'] = beatZ['fj_smooth'] - np.abs(np.nanmean(beatZ['fj_smooth'].iloc[:500]))"
   ]
  },
  {
   "cell_type": "code",
   "execution_count": null,
   "id": "11a51083-3578-4cbd-b40e-3bc546297cae",
   "metadata": {
    "tags": []
   },
   "outputs": [],
   "source": [
    "def __sagnac_to_tilt(data, ring):\n",
    "\n",
    "    from numpy import pi, sqrt, arccos, deg2rad, arcsin\n",
    "\n",
    "    dip = {\"Z\":0, \"U\":109.5, \"V\":70.5, \"W\":70.5}\n",
    "\n",
    "    L = {\"Z\":11.2, \"U\":12, \"V\":12, \"W\":12}\n",
    "\n",
    "    ## Scale factor\n",
    "    S = (sqrt(3)*L[ring])/(3*632.8e-9)\n",
    "\n",
    "    ## ROMY latitude\n",
    "    lat = 48.162941\n",
    "\n",
    "    ## nominal Earth rotation\n",
    "    omegaE = 2*pi/86400\n",
    "\n",
    "    return arcsin(data /omegaE /S) - deg2rad(lat) - deg2rad(dip[ring])"
   ]
  },
  {
   "cell_type": "code",
   "execution_count": null,
   "id": "0c23e78c-1b52-40d3-b761-fc1573e291fa",
   "metadata": {
    "tags": []
   },
   "outputs": [],
   "source": [
    "beatZ['tilt'] = __sagnac_to_tilt(beatZ['fj_reduced'], \"Z\")\n",
    "beatU['tilt'] = __sagnac_to_tilt(beatU['fj_reduced'], \"U\")\n",
    "beatV['tilt'] = __sagnac_to_tilt(beatV['fj_reduced'], \"V\")\n",
    "\n",
    "beatU['tilt_reduced'] = beatU.tilt - np.nanmean(beatU.tilt.iloc[:1440])\n",
    "beatV['tilt_reduced'] = beatV.tilt - np.nanmean(beatV.tilt.iloc[:1440])\n",
    "beatZ['tilt_reduced'] = beatZ.tilt - np.nanmean(beatZ.tilt.iloc[:1440])"
   ]
  },
  {
   "cell_type": "code",
   "execution_count": null,
   "id": "46f7ace2-8289-4805-9cda-b4033e40902c",
   "metadata": {
    "tags": []
   },
   "outputs": [],
   "source": [
    "def __makeplot():\n",
    "\n",
    "    Nrow, Ncol = 2, 1\n",
    "\n",
    "    font = 12\n",
    "\n",
    "    time_scaling = 1/86400\n",
    "    tilt_scaling = 1e6\n",
    "\n",
    "    fig, ax = plt.subplots(Nrow, Ncol, figsize=(15, 8), sharex=True)\n",
    "\n",
    "    ax[0].plot(beatZ.times_utc_sec*time_scaling, beatZ.fj_reduced, color=\"tab:blue\", label=f\"RZ (mov. avg. {n_minutes} min)\")\n",
    "    ax[0].plot(beatV.times_utc_sec*time_scaling, beatV.fj_reduced, color=\"tab:red\", label=f\"RV (mov. avg. {n_minutes} min)\")\n",
    "    ax[0].plot(beatU.times_utc_sec*time_scaling, beatU.fj_reduced, color=\"tab:green\", label=f\"RU (mov. avg. {n_minutes} min)\")\n",
    "\n",
    "    ax[0].ticklabel_format(useOffset=False)\n",
    "    ax[0].set_ylabel(\"$\\Delta f$ (Hz)\", fontsize=font)\n",
    "\n",
    "    ax[1].plot(beatZ.times_utc_sec*time_scaling, beatZ.tilt_reduced*tilt_scaling, color=\"tab:blue\", label=f\"RZ (mov. avg. {n_minutes} min)\")\n",
    "    ax[1].plot(beatV.times_utc_sec*time_scaling, beatV.tilt_reduced*tilt_scaling, color=\"tab:red\", label=f\"RV (mov. avg. {n_minutes} min)\")\n",
    "    ax[1].plot(beatU.times_utc_sec*time_scaling, beatU.tilt_reduced*tilt_scaling, color=\"tab:green\", label=f\"RU (mov. avg. {n_minutes} min)\")\n",
    "\n",
    "\n",
    "    ax[1].set_ylabel(\"N-S Tilt ($\\mu$rad)\", fontsize=font)\n",
    "\n",
    "    for _n in range(Nrow):\n",
    "        ax[_n].grid(ls=\":\", zorder=0)\n",
    "        ax[_n].legend(loc=1)\n",
    "\n",
    "    ax[0].set_ylim(-0.04, 0.07)\n",
    "\n",
    "    ## add dates to x-axis\n",
    "    ref_date = UTCDateTime(beatZ.times_utc.iloc[0][:10])\n",
    "    tcks = ax[Nrow-1].get_xticks()\n",
    "    tcklbls = [str(UTCDateTime(ref_date+t).date) for t in tcks]\n",
    "    ax[Nrow-1].set_xticklabels(tcklbls)\n",
    "\n",
    "    plt.show();\n",
    "    return fig\n",
    "\n",
    "# fig = __makeplot();\n"
   ]
  },
  {
   "cell_type": "markdown",
   "id": "8bbefdf8-7d5d-4dfc-a3bd-3dc07fb583bd",
   "metadata": {},
   "source": [
    "## Rotate to ZNE"
   ]
  },
  {
   "cell_type": "code",
   "execution_count": null,
   "id": "cb9dfcc4-d81f-4ddf-9224-2646c435d277",
   "metadata": {
    "tags": []
   },
   "outputs": [],
   "source": [
    "tr_beatU = Trace()\n",
    "tr_beatU.data = np.array(beatU.fj_reduced)\n",
    "tr_beatU.stats.delta = 60\n",
    "tr_beatU.stats.starttime = UTCDateTime(str(beatU.times_utc.iloc[0]))\n",
    "tr_beatU.stats.network, tr_beatU.stats.station, tr_beatU.stats.channel = \"BW\", \"ROMY\", \"LJU\"\n",
    "# tr_beatU.plot();\n",
    "\n",
    "tr_beatV = Trace()\n",
    "tr_beatV.data = np.array(beatV.fj_reduced)\n",
    "tr_beatV.stats.delta = 60\n",
    "tr_beatV.stats.starttime = UTCDateTime(str(beatV.times_utc.iloc[0]))\n",
    "tr_beatV.stats.network, tr_beatV.stats.station, tr_beatV.stats.channel = \"BW\", \"ROMY\", \"LJV\"\n",
    "# tr_beatV.plot();\n",
    "\n",
    "tr_beatZ = Trace()\n",
    "tr_beatZ.data = np.array(beatZ.fj_reduced)\n",
    "tr_beatZ.stats.delta = 60\n",
    "tr_beatZ.stats.starttime = UTCDateTime(str(beatZ.times_utc.iloc[0]))\n",
    "tr_beatZ.stats.network, tr_beatZ.stats.station, tr_beatZ.stats.channel = \"BW\", \"ROMY\", \"LJZ\"\n",
    "# tr_beatZ.plot();\n",
    "\n",
    "st_beat = Stream(traces=[tr_beatU, tr_beatV, tr_beatZ])\n",
    "\n",
    "etime = min(st_beat[0].stats.endtime, st_beat[1].stats.endtime, st_beat[2].stats.endtime)\n",
    "st_beat = st_beat.trim(st_beat[0].stats.starttime, etime)\n",
    "\n",
    "st_beat"
   ]
  },
  {
   "cell_type": "code",
   "execution_count": null,
   "id": "33353cb1-e65a-4ce7-8202-885ac28753cd",
   "metadata": {
    "tags": []
   },
   "outputs": [],
   "source": [
    "from functions.rotate_romy_ZUV_ZNE import __rotate_romy_ZUV_ZNE"
   ]
  },
  {
   "cell_type": "code",
   "execution_count": null,
   "id": "bd796823-dde6-4844-a620-8eae8277f7ea",
   "metadata": {
    "tags": []
   },
   "outputs": [],
   "source": [
    "config['path_to_inventory'] = root_path+\"Documents/ROMY/stationxml_ringlaser/dataless/\"\n",
    "\n",
    "romy_inv = read_inventory(config['path_to_inventory']+\"dataless.seed.BW_ROMY\")\n",
    "\n",
    "st_beat_zne = __rotate_romy_ZUV_ZNE(st_beat, romy_inv)\n",
    "\n",
    "# st_beat_zne.plot();"
   ]
  },
  {
   "cell_type": "code",
   "execution_count": null,
   "id": "b186eff9-3c76-4148-beea-9cfb7f8f8acb",
   "metadata": {
    "tags": []
   },
   "outputs": [],
   "source": []
  },
  {
   "cell_type": "code",
   "execution_count": null,
   "id": "973056f8-d725-44cc-8f56-24ac66c2be5b",
   "metadata": {
    "tags": []
   },
   "outputs": [],
   "source": [
    "def __makeplot():\n",
    "\n",
    "    Nrow, Ncol = 2, 1\n",
    "\n",
    "    font = 12\n",
    "\n",
    "    ref_date = UTCDateTime(beatZ.times_utc.iloc[0][:10])\n",
    "\n",
    "    time_scaling = 1\n",
    "    tilt_scaling = 1e6\n",
    "\n",
    "    fig, ax = plt.subplots(Nrow, Ncol, figsize=(15, 8), sharex=True)\n",
    "\n",
    "    ax[0].plot(beatZ.times_utc_sec*time_scaling, beatZ.fj_reduced, color=\"tab:blue\", label=f\"RZ (mov. avg. {n_minutes} min)\")\n",
    "    ax[0].plot(beatV.times_utc_sec*time_scaling, beatV.fj_reduced, color=\"tab:red\", label=f\"RV (mov. avg. {n_minutes} min)\")\n",
    "    ax[0].plot(beatU.times_utc_sec*time_scaling, beatU.fj_reduced, color=\"tab:green\", label=f\"RU (mov. avg. {n_minutes} min)\")\n",
    "\n",
    "    ax[0].ticklabel_format(useOffset=False)\n",
    "    ax[0].set_ylabel(\"$\\Delta f$ (Hz)\", fontsize=font)\n",
    "\n",
    "\n",
    "    # ax[1].plot(beatZ.times_utc_sec*time_scaling, beatZ.tilt_reduced*tilt_scaling, color=\"tab:blue\", label=f\"RZ (mov. avg. {n_minutes} min)\")\n",
    "    # ax[1].plot(beatV.times_utc_sec*time_scaling, beatV.tilt_reduced*tilt_scaling, color=\"tab:red\", label=f\"RV (mov. avg. {n_minutes} min)\")\n",
    "    # ax[1].plot(beatU.times_utc_sec*time_scaling, beatU.tilt_reduced*tilt_scaling, color=\"tab:green\", label=f\"RU (mov. avg. {n_minutes} min)\")\n",
    "\n",
    "    ax[1].plot(st_beat.select(channel=\"*Z\")[0].times(reftime=ref_date),\n",
    "               st_beat.select(channel=\"*Z\")[0].data,\n",
    "               color=\"black\", label=f\"RZ (mov. avg. {n_minutes} min)\")\n",
    "\n",
    "    ax[1].plot(st_beat_zne.select(channel=\"*Z\")[0].times(reftime=ref_date),\n",
    "               st_beat_zne.select(channel=\"*Z\")[0].data,\n",
    "               color=\"tab:blue\", label=f\"RZ (mov. avg. {n_minutes} min)\", ls=\"--\")\n",
    "    ax[1].plot(st_beat_zne.select(channel=\"*N\")[0].times(reftime=ref_date),\n",
    "               st_beat_zne.select(channel=\"*N\")[0].data,\n",
    "               color=\"tab:green\", label=f\"RN (mov. avg. {n_minutes} min)\", ls=\"--\")\n",
    "    ax[1].plot(st_beat_zne.select(channel=\"*E\")[0].times(reftime=ref_date),\n",
    "               st_beat_zne.select(channel=\"*E\")[0].data,\n",
    "               color=\"tab:red\", label=f\"RE (mov. avg. {n_minutes} min)\", ls=\"--\")\n",
    "\n",
    "\n",
    "    # ax[1].set_ylabel(\"N-S Tilt ($\\mu$rad)\", fontsize=font)\n",
    "    ax[1].set_ylabel(\"$\\Delta f$ (Hz)\", fontsize=font)\n",
    "\n",
    "    for _n in range(Nrow):\n",
    "        ax[_n].grid(ls=\":\", zorder=0)\n",
    "        ax[_n].legend(loc=1)\n",
    "\n",
    "    ax[0].set_ylim(-0.07, 0.07)\n",
    "    ax[0].set_ylim(-0.07, 0.07)\n",
    "\n",
    "    ## add dates to x-axis\n",
    "    ref_date = UTCDateTime(beatZ.times_utc.iloc[0][:10])\n",
    "    tcks = ax[Nrow-1].get_xticks()\n",
    "    tcklbls = [str(UTCDateTime(ref_date+t).date) for t in tcks]\n",
    "    ax[Nrow-1].set_xticklabels(tcklbls)\n",
    "\n",
    "    plt.show();\n",
    "    return fig\n",
    "\n",
    "fig = __makeplot();\n",
    "\n",
    "fig.savefig(config['path_to_figs']+f\"BeatDrift_smoothed_ZNE.png\", format=\"png\", dpi=150, bbox_inches='tight')\n"
   ]
  },
  {
   "cell_type": "code",
   "execution_count": null,
   "id": "2ef758e8-4059-43bd-8b3c-9469e1d4d4fb",
   "metadata": {},
   "outputs": [],
   "source": [
    "def __sagnac_to_rads(data, ring):\n",
    "\n",
    "    from numpy import pi, sqrt, arccos, deg2rad, sin\n",
    "\n",
    "    dip = {\"Z\":0, \"U\":109.5, \"V\":70.5, \"W\":70.5}\n",
    "\n",
    "    L = {\"Z\":11.2, \"U\":12, \"V\":12, \"W\":12}\n",
    "\n",
    "    ## Scale factor\n",
    "    S = (sqrt(3)*L[ring])/(3*632.8e-9)\n",
    "\n",
    "    ## ROMY latitude\n",
    "    lat = 48.162941\n",
    "\n",
    "    ## nominal Earth rotation\n",
    "    omegaE = 2*pi/86400\n",
    "\n",
    "    return data /S /sin(deg2rad(lat+dip[ring]))"
   ]
  },
  {
   "cell_type": "code",
   "execution_count": null,
   "id": "0a7b1c2a-d91b-4c0f-9f17-1eb930bb9736",
   "metadata": {},
   "outputs": [],
   "source": [
    "\n",
    "st_rad = st_beat.copy()\n",
    "\n",
    "for tr in st_rad:\n",
    "    tr.data = __sagnac_to_rads(tr.data, tr.stats.channel[-1])\n",
    "    tr.data = __interpolate_nan(tr.data)\n",
    "\n",
    "st_rad = st_rad.integrate(method='cumtrapz')\n",
    "\n",
    "st_rad = __rotate_romy_ZUV_ZNE(st_rad, romy_inv)\n",
    "\n",
    "# st_rad.plot(equal_scale=False)"
   ]
  },
  {
   "cell_type": "code",
   "execution_count": null,
   "id": "1374e032-4887-4f5e-aacc-53214e042353",
   "metadata": {
    "tags": []
   },
   "outputs": [],
   "source": [
    "def __makeplot():\n",
    "\n",
    "    Nrow, Ncol = 2, 1\n",
    "\n",
    "    font = 12\n",
    "\n",
    "    ref_date = UTCDateTime(beatZ.times_utc.iloc[0][:10])\n",
    "\n",
    "    time_scaling = 1\n",
    "    tilt_scaling = 1e6\n",
    "\n",
    "    fig, ax = plt.subplots(Nrow, Ncol, figsize=(15, 8), sharex=True)\n",
    "\n",
    "    ax[0].plot(st_beat.select(channel=\"*Z\")[0].times()*time_scaling,\n",
    "               st_beat.select(channel=\"*Z\")[0].data,\n",
    "               color=\"tab:blue\", label=f\"RZ (mov. avg. {n_minutes} min)\")\n",
    "    ax[0].plot(st_beat.select(channel=\"*V\")[0].times()*time_scaling,\n",
    "               st_beat.select(channel=\"*V\")[0].data,\n",
    "               color=\"tab:red\", label=f\"RV (mov. avg. {n_minutes} min)\")\n",
    "    ax[0].plot(st_beat.select(channel=\"*U\")[0].times()*time_scaling,\n",
    "               st_beat.select(channel=\"*U\")[0].data,\n",
    "               color=\"tab:green\", label=f\"RU (mov. avg. {n_minutes} min)\")\n",
    "\n",
    "    ax[0].ticklabel_format(useOffset=False)\n",
    "    ax[0].set_ylabel(\"$\\Delta$f (Hz)\", fontsize=font)\n",
    "\n",
    "\n",
    "    ax[1].plot(st_rad.select(channel=\"*Z\")[0].times()*time_scaling,\n",
    "               st_rad.select(channel=\"*Z\")[0].data*tilt_scaling,\n",
    "               color=\"tab:blue\", label=f\"RZ\")\n",
    "    ax[1].plot(st_rad.select(channel=\"*N\")[0].times()*time_scaling,\n",
    "               st_rad.select(channel=\"*N\")[0].data*tilt_scaling,\n",
    "               color=\"tab:red\", label=f\"RN \")\n",
    "    ax[1].plot(st_rad.select(channel=\"*E\")[0].times()*time_scaling,\n",
    "               st_rad.select(channel=\"*E\")[0].data*tilt_scaling,\n",
    "               color=\"tab:green\", label=f\"RE\")\n",
    "\n",
    "\n",
    "    ax[1].set_ylabel(\"$\\Delta f$ (Hz)\", fontsize=font)\n",
    "    ax[1].set_ylabel(\"Tilt ($\\mu$rad)\", fontsize=font)\n",
    "\n",
    "    for _n in range(Nrow):\n",
    "        ax[_n].grid(ls=\":\", zorder=0)\n",
    "        ax[_n].legend(loc=1)\n",
    "\n",
    "    ax[0].set_ylim(-0.07, 0.07)\n",
    "    ax[0].set_ylim(-0.07, 0.07)\n",
    "\n",
    "    ## add dates to x-axis\n",
    "    ref_date = UTCDateTime(beatZ.times_utc.iloc[0][:10])\n",
    "    tcks = ax[Nrow-1].get_xticks()\n",
    "    tcklbls = [str(UTCDateTime(ref_date+t).date) for t in tcks]\n",
    "    ax[Nrow-1].set_xticklabels(tcklbls)\n",
    "\n",
    "    plt.show();\n",
    "    return fig\n",
    "\n",
    "fig = __makeplot();\n",
    "\n",
    "fig.savefig(config['path_to_figs']+f\"BeatDrift_smoothed_asTilt.png\", format=\"png\", dpi=150, bbox_inches='tight')\n"
   ]
  },
  {
   "cell_type": "code",
   "execution_count": null,
   "id": "42daaae7-fdc0-42b8-88e4-5344113a2119",
   "metadata": {
    "tags": []
   },
   "outputs": [],
   "source": [
    "st_rad"
   ]
  },
  {
   "cell_type": "code",
   "execution_count": null,
   "id": "c2a367ad-ea64-4114-b9cc-b471ce0c9490",
   "metadata": {
    "tags": []
   },
   "outputs": [],
   "source": [
    "def __get_vector_movement(N, E, Twin=3600, ref_date=None, plot=False):\n",
    "\n",
    "    from numpy import median, sqrt, arctan, degrees, mod, array, append, rad2deg, nan, ma, deg2rad\n",
    "\n",
    "    dt = N[0].stats.delta\n",
    "    t1 = 0\n",
    "\n",
    "    Ndata = N[0].data\n",
    "    Edata = E[0].data\n",
    "\n",
    "    if ma.is_masked(Ndata):\n",
    "        Ndata = ma.filled(Ndata, fill_value=nan)\n",
    "    if ma.is_masked(Edata):\n",
    "        Edata = ma.filled(Edata, fill_value=nan)\n",
    "\n",
    "    vnorm, vdir, timeline = [], [], []\n",
    "    while (t1 + Twin) < N[0].stats.npts*dt:\n",
    "\n",
    "        Nmed = median(Ndata[int(t1/dt):int((t1+Twin)/dt)])\n",
    "        Emed = median(Edata[int(t1/dt):int((t1+Twin)/dt)])\n",
    "\n",
    "\n",
    "        vnorm.append(sqrt(Nmed**2 + Emed**2))\n",
    "\n",
    "        if Nmed > 0 and Emed > 0:\n",
    "            vdir.append(90-abs(rad2deg(arctan(abs(Nmed/Emed)))))\n",
    "\n",
    "        elif Nmed < 0 and Emed > 0:\n",
    "            vdir.append(90+abs(rad2deg(arctan(abs(Nmed/Emed)))))\n",
    "\n",
    "        elif Nmed < 0 and Emed < 0:\n",
    "            vdir.append(270-abs(rad2deg(arctan(abs(Nmed/Emed)))))\n",
    "\n",
    "        elif Nmed > 0 and Emed < 0:\n",
    "            vdir.append(270+abs(rad2deg(arctan(abs(Nmed/Emed)))))\n",
    "\n",
    "        else:\n",
    "            vdir.append(nan)\n",
    "\n",
    "        t1 += Twin/2\n",
    "\n",
    "        timeline.append(t1)\n",
    "\n",
    "    if ref_date:\n",
    "        time_offset = abs(UTCDateTime(ref_date) - N[0].stats.starttime)\n",
    "    else:\n",
    "        time_offset = 0\n",
    "\n",
    "    vnorm = array(vnorm)\n",
    "    vdir = array(vdir)\n",
    "    timeline = (array(timeline) + time_offset)/3600 ## in hours\n",
    "\n",
    "\n",
    "    ## Plotting ------------------------------------\n",
    "    if plot:\n",
    "\n",
    "        from numpy import deg2rad, arange, linspace\n",
    "        import matplotlib.pyplot as plt\n",
    "\n",
    "        vnorm = vnorm\n",
    "        vdirection = vdir\n",
    "\n",
    "        ## times to days\n",
    "        times = timeline /24\n",
    "\n",
    "        time_min = min(times)\n",
    "        time_max = max(times)\n",
    "\n",
    "        ## Plot --------------------------------------------------------------------------\n",
    "        fig, ax = plt.subplots(1, 1, subplot_kw=dict(projection='polar'), figsize=(5, 5))\n",
    "\n",
    "        font = 12\n",
    "\n",
    "        cmap = plt.get_cmap('viridis')\n",
    "\n",
    "        vscaling, vunit = 1e3, \"mrad\"\n",
    "\n",
    "        ## convert degrees to radians for plotting as polar!\n",
    "        p0 = ax.scatter(deg2rad(vdirection), vnorm*vscaling, c=times, cmap=cmap,\n",
    "                        vmin=time_min, vmax=time_max, alpha=0.75, s=4, zorder=2)\n",
    "\n",
    "        cbar = plt.colorbar(p0, ax=ax,  pad=0.1, orientation='vertical', fraction=0.1, shrink=.8)\n",
    "\n",
    "        if ref_date:\n",
    "            cbar.set_label('Time (days)', rotation=90, fontsize=font, labelpad=10)\n",
    "        else:\n",
    "            cbar.set_label(f'Time from {ref_date} (days)', rotation=90, fontsize=font, labelpad=10)\n",
    "\n",
    "        ## set new colorbar ticks\n",
    "        # ref_time = config['tbeg']\n",
    "        # nticks = [str((ref_time+time_min+t*86400).date) for t in cbar.get_ticks()]\n",
    "        # cbar.set_ticklabels(nticks)\n",
    "\n",
    "        vmax = round(max(vnorm*vscaling) * 1.1, 0)\n",
    "\n",
    "        ax.set_ylim(0, vmax)\n",
    "        ax.set_theta_zero_location('N')\n",
    "        ax.set_theta_direction(-1)\n",
    "\n",
    "        ax.text(deg2rad(25), vmax*1.2, f\"({vunit})\")\n",
    "        ax.set_rgrids(linspace(0., vmax, 5), angle=25., zorder=0)\n",
    "\n",
    "        ax.set_title(\"Tilt of ROMY structure\", fontsize=font)\n",
    "\n",
    "        plt.show();\n",
    "\n",
    "    return timeline, vdir, vnorm"
   ]
  },
  {
   "cell_type": "code",
   "execution_count": null,
   "id": "e315e1a0-86b6-4c53-a788-68239799590a",
   "metadata": {
    "tags": []
   },
   "outputs": [],
   "source": [
    "def __makeplot_normal_vector_movement(times, vdirection, vnorm, ref_date=None):\n",
    "\n",
    "    from numpy import deg2rad, arange, linspace\n",
    "    import matplotlib.pyplot as plt\n",
    "\n",
    "    ## times to days\n",
    "    times = times /24\n",
    "\n",
    "    time_min = min(times)\n",
    "    time_max = max(times)\n",
    "\n",
    "    ## Plot --------------------------------------------------------------------------\n",
    "    fig, ax = plt.subplots(1, 1, subplot_kw=dict(projection='polar'), figsize=(5, 5))\n",
    "\n",
    "    font = 12\n",
    "\n",
    "    cmap = plt.get_cmap('viridis')\n",
    "\n",
    "    vscaling, vunit = 1e3, \"mrad\"\n",
    "\n",
    "    ## convert degrees to radians for plotting as polar!\n",
    "    p0 = ax.scatter(deg2rad(vdirection), vnorm*vscaling, c=times, cmap=cmap,\n",
    "                    vmin=time_min, vmax=time_max, alpha=0.75, s=4, zorder=2)\n",
    "\n",
    "    cbar = plt.colorbar(p0, ax=ax,  pad=0.1, orientation='vertical', fraction=0.1, shrink=.8)\n",
    "\n",
    "    if ref_date is not None:\n",
    "        cbar.set_label('Time (days)', rotation=90, fontsize=font, labelpad=10)\n",
    "    else:\n",
    "        cbar.set_label(f'Time from {ref_date} (days)', rotation=90, fontsize=font, labelpad=10)\n",
    "\n",
    "    ## set new colorbar ticks\n",
    "    # ref_time = config['tbeg']\n",
    "    # nticks = [str((ref_time+time_min+t*86400).date) for t in cbar.get_ticks()]\n",
    "    # cbar.set_ticklabels(nticks)\n",
    "\n",
    "    vmax = round(max(vnorm*vscaling) * 1.1, 0)\n",
    "\n",
    "    ax.set_ylim(0, vmax)\n",
    "    ax.set_theta_zero_location('N')\n",
    "    ax.set_theta_direction(-1)\n",
    "\n",
    "    ax.text(deg2rad(25), vmax*1.2, f\"({vunit})\")\n",
    "    ax.set_rgrids(linspace(0., vmax, 5), angle=25., zorder=0)\n",
    "\n",
    "    ax.set_title(\"Tilt of ROMY structure\", fontsize=font)\n",
    "\n",
    "    plt.show();\n",
    "    return fig"
   ]
  },
  {
   "cell_type": "code",
   "execution_count": null,
   "id": "d8a7aaed-f616-4d32-bdb6-838ca633bccc",
   "metadata": {
    "tags": []
   },
   "outputs": [],
   "source": [
    "twindow = 3600  ## seconds\n",
    "\n",
    "ttimes, vector_direction, vector_norm = __get_vector_movement(st_rad.select(channel=\"*N\"),\n",
    "                                                              st_rad.select(channel=\"*E\"),\n",
    "                                                              Twin=twindow,\n",
    "                                                              plot=False,\n",
    "                                                              )\n"
   ]
  },
  {
   "cell_type": "code",
   "execution_count": null,
   "id": "a33449c4-7229-49a5-8a8e-6a5c0d2fc335",
   "metadata": {
    "tags": []
   },
   "outputs": [],
   "source": [
    "\n",
    "fig = __makeplot_normal_vector_movement(ttimes, vector_direction, vector_norm, ref_date=st_rad[0].stats.starttime.date)\n",
    "\n",
    "fig.savefig(config['path_to_figs']+f\"BeatDrift_vector_movement.png\", format=\"png\", dpi=150, bbox_inches='tight')\n"
   ]
  },
  {
   "cell_type": "markdown",
   "id": "82d6c8a6-bfe3-495d-8b7e-c3ace6889d19",
   "metadata": {
    "tags": []
   },
   "source": [
    "## Tides"
   ]
  },
  {
   "cell_type": "code",
   "execution_count": null,
   "id": "39fc595a-d39f-4adc-9985-72418627d390",
   "metadata": {
    "tags": []
   },
   "outputs": [],
   "source": [
    "st_beat_zne_tide = st_beat_zne.copy();\n",
    "\n",
    "for tr in st_beat_zne_tide:\n",
    "    tr.data = __interpolate_nan(tr.data)\n",
    "\n",
    "## daily\n",
    "# f1 = 1/(25*3600)\n",
    "# f2 = 1/(23*3600)\n",
    "\n",
    "## sub-daily\n",
    "f1 = 1/(13*3600)\n",
    "f2 = 1/(11*3600)\n",
    "\n",
    "# st_beat_zne_tide.detrend(\"linear\")\n",
    "# st_beat_zne_tide.taper(0.2)\n",
    "st_beat_zne_tide.filter(\"bandpass\", freqmin=f1, freqmax=f2, corners=4, zerophase=True)\n",
    "\n",
    "st_beat_zne_tide.plot(equal_scale=False);\n"
   ]
  },
  {
   "cell_type": "markdown",
   "id": "58348741-b954-41d0-9a7b-8ec302ecddb5",
   "metadata": {},
   "source": [
    "### Load Tilt Data"
   ]
  },
  {
   "cell_type": "code",
   "execution_count": null,
   "id": "2ed496b4-edd0-4061-b1e2-485b7034c5f5",
   "metadata": {
    "tags": []
   },
   "outputs": [],
   "source": [
    "from andbro__read_sds import __read_sds\n",
    "from andbro__readYaml import __readYaml\n",
    "from functions.conversion_to_tilt import __conversion_to_tilt"
   ]
  },
  {
   "cell_type": "code",
   "execution_count": null,
   "id": "3e07ce94-ed5a-40db-8bc8-70897bca1add",
   "metadata": {
    "tags": []
   },
   "outputs": [],
   "source": [
    "path_to_tilt = data_path+\"TiltmeterDataBackup/Tilt_downsampled/\"\n",
    "\n",
    "sta = \"TROMY\"\n",
    "\n",
    "tilt =  __read_sds(path_to_tilt, f\"BW.{sta}..MAT\", config['tbeg']-600, config['tend']+600)\n",
    "tilt += __read_sds(path_to_tilt, f\"BW.{sta}..MAN\", config['tbeg']-600, config['tend']+600)\n",
    "tilt += __read_sds(path_to_tilt, f\"BW.{sta}..MAE\", config['tbeg']-600, config['tend']+600)\n",
    "\n",
    "## tiltmeter configurations\n",
    "confTilt = __readYaml(root_path+\"Documents/ROMY/tiltmeter/\", \"tiltmeter.conf\")\n",
    "\n",
    "tilt = __conversion_to_tilt(tilt, confTilt[f'{sta}'])\n",
    "\n",
    "tilt = tilt.trim(config['tbeg'], config['tend'])\n",
    "\n",
    "tilt.plot(equal_scale=False);\n",
    "\n",
    "gc.collect();"
   ]
  },
  {
   "cell_type": "code",
   "execution_count": null,
   "id": "7bd79f50-749d-4d9c-80da-548eb226dc7d",
   "metadata": {
    "tags": []
   },
   "outputs": [],
   "source": [
    "tides = Stream()\n",
    "\n",
    "tides += st_rad.copy()\n",
    "tides += tilt.copy()\n",
    "\n",
    "tides = tides.resample(0.005, no_filter=False);\n",
    "\n",
    "# f1, f2 = 1/(15*3600), 1/(11*3600)\n",
    "# f1, f2 = 1/(25*3600), 1/(23*3600)\n",
    "\n",
    "# tides = tides.detrend(\"simple\")\n",
    "# tides = tides.taper(0.01)\n",
    "# tides = tides.filter(\"bandpass\", freqmin=f1, freqmax=f2, corners=4, zerophase=True)\n",
    "\n",
    "# tides.merge();\n",
    "\n",
    "tides.plot(equal_scale=False);"
   ]
  },
  {
   "cell_type": "code",
   "execution_count": null,
   "id": "c3d6a5af-2299-4e4f-a66e-05e30f7850eb",
   "metadata": {
    "tags": []
   },
   "outputs": [],
   "source": [
    "def __makeplot_tides():\n",
    "\n",
    "\n",
    "    f1_subdaily, f2_subdaily = 1/(13*3600), 1/(11*3600)\n",
    "\n",
    "    f1_daily, f2_daily = 1/(25*3600), 1/(23*3600)\n",
    "\n",
    "    _detrend=\"simple\"\n",
    "    _taper = 0.05\n",
    "    corners = 2\n",
    "\n",
    "    tiltmeter=\"TROMY\"\n",
    "\n",
    "    tides_daily = tides.copy()\n",
    "    tides_daily = tides_daily.detrend(_detrend)\n",
    "    tides_daily = tides_daily.taper(_taper, type=\"cosine\")\n",
    "    tides_daily = tides_daily.filter(\"bandpass\", freqmin=f1_daily, freqmax=f2_daily, corners=corners, zerophase=False)\n",
    "    # tides_daily = tides_daily.filter(\"bandpass\", freqmin=f1_daily, freqmax=f2_daily, corners=corners, zerophase=True)\n",
    "\n",
    "    tides_subdaily = tides.copy()\n",
    "    tides_subdaily = tides_subdaily.detrend(_detrend)\n",
    "    tides_subdaily = tides_subdaily.taper(_taper, type=\"cosine\")\n",
    "    tides_subdaily = tides_subdaily.filter(\"bandpass\", freqmin=f1_subdaily, freqmax=f2_subdaily, corners=corners, zerophase=False)\n",
    "    # tides_subdaily = tides_subdaily.filter(\"bandpass\", freqmin=f1_subdaily, freqmax=f2_subdaily, corners=corners, zerophase=True)\n",
    "\n",
    "\n",
    "    Nrow, Ncol = 2, 2\n",
    "\n",
    "    font = 12\n",
    "\n",
    "    time_scaling, time_unit = 1/86400, \"days\"\n",
    "    tilt_scaling, tilt_unit = 1e9, \"nrad\"\n",
    "\n",
    "    ref_time = config['tbeg']-86400\n",
    "\n",
    "    fig, ax = plt.subplots(Nrow, Ncol, figsize=(15, 8), sharex=True)\n",
    "\n",
    "    plt.subplots_adjust(hspace=0.1)\n",
    "\n",
    "    ax[0,0].plot(tides_subdaily.select(station=tiltmeter, channel=\"*N\")[0].times(reftime=ref_time)*time_scaling,\n",
    "                 tides_subdaily.select(station=tiltmeter, channel=\"*N\")[0].data*tilt_scaling,\n",
    "                 color=\"black\", label=f\"N-S {tiltmeter}\", lw=1)\n",
    "\n",
    "    ax[1,0].plot(tides_subdaily.select(station=tiltmeter, channel=\"*E\")[0].times(reftime=ref_time)*time_scaling,\n",
    "                 tides_subdaily.select(station=tiltmeter, channel=\"*E\")[0].data*tilt_scaling,\n",
    "                 color=\"black\", label=f\"E-W {tiltmeter}\", lw=1)\n",
    "\n",
    "    ax[0,1].plot(tides_daily.select(station=tiltmeter, channel=\"*N\")[0].times(reftime=ref_time)*time_scaling,\n",
    "                 tides_daily.select(station=tiltmeter, channel=\"*N\")[0].data*tilt_scaling,\n",
    "                 color=\"black\", label=f\"N-S {tiltmeter}\", lw=1)\n",
    "\n",
    "    ax[1,1].plot(tides_daily.select(station=tiltmeter, channel=\"*E\")[0].times(reftime=ref_time)*time_scaling,\n",
    "                 tides_daily.select(station=tiltmeter, channel=\"*E\")[0].data*tilt_scaling,\n",
    "                 color=\"black\", label=f\"E-W {tiltmeter}\", lw=1)\n",
    "\n",
    "    ax00 = ax[0,0].twinx()\n",
    "    ax10 = ax[1,0].twinx()\n",
    "    ax01 = ax[0,1].twinx()\n",
    "    ax11 = ax[1,1].twinx()\n",
    "\n",
    "\n",
    "    ax00.plot(tides_subdaily.select(station=\"ROMY\", channel=\"*N\")[0].times(reftime=ref_time)*time_scaling,\n",
    "                 tides_subdaily.select(station=\"ROMY\", channel=\"*N\")[0].data*tilt_scaling,\n",
    "                 color=\"darkred\", label=\"N-S (ring)\", lw=1)\n",
    "\n",
    "    ax10.plot(tides_subdaily.select(station=\"ROMY\", channel=\"*E\")[0].times(reftime=ref_time)*time_scaling,\n",
    "                 tides_subdaily.select(station=\"ROMY\", channel=\"*E\")[0].data*tilt_scaling,\n",
    "                 color=\"darkred\", label=\"E-W (ring)\", lw=1)\n",
    "\n",
    "    ax01.plot(tides_daily.select(station=\"ROMY\", channel=\"*N\")[0].times(reftime=ref_time)*time_scaling,\n",
    "                 tides_daily.select(station=\"ROMY\", channel=\"*N\")[0].data*tilt_scaling,\n",
    "                 color=\"darkred\", label=\"N-S (ring)\", lw=1)\n",
    "\n",
    "    ax11.plot(tides_daily.select(station=\"ROMY\", channel=\"*E\")[0].times(reftime=ref_time)*time_scaling,\n",
    "                 tides_daily.select(station=\"ROMY\", channel=\"*E\")[0].data*tilt_scaling,\n",
    "                 color=\"darkred\", label=\"E-W (ring)\", lw=1)\n",
    "\n",
    "\n",
    "    ax[0,0].set_ylabel(f\"Tilt ({tilt_unit})\", fontsize=font)\n",
    "    ax[1,0].set_ylabel(f\"Tilt ({tilt_unit})\", fontsize=font)\n",
    "    ax01.set_ylabel(f\"Tilt ({tilt_unit})\", fontsize=font, color=\"darkred\")\n",
    "    ax11.set_ylabel(f\"Tilt ({tilt_unit})\", fontsize=font, color=\"darkred\")\n",
    "\n",
    "    ax[1,0].set_xlabel(f\"Time (days) from {config['tbeg'].date} {config['tbeg'].time} UTC\", fontsize=font)\n",
    "    ax[1,1].set_xlabel(f\"Time (days) from {config['tbeg'].date} {config['tbeg'].time} UTC\", fontsize=font)\n",
    "\n",
    "    ax[0,0].set_ylim(-60, 60)\n",
    "    ax[0,1].set_ylim(-40, 40)\n",
    "    ax[1,0].set_ylim(-100, 100)\n",
    "    ax[1,1].set_ylim(-50, 50)\n",
    "\n",
    "    ax[0,0].set_title(f\"T={round(1/f2_subdaily/3600,1)} - {round(1/f1_subdaily/3600,1)}h\", fontsize=font+1)\n",
    "    ax[0,1].set_title(f\"T={round(1/f2_daily/3600,1)} - {round(1/f1_daily/3600,1)}h\", fontsize=font+1)\n",
    "\n",
    "    ticks = []\n",
    "    for _i in range(Nrow):\n",
    "        for _j in range(Ncol):\n",
    "            ax[_i,_j].grid(ls=\":\", zorder=0)\n",
    "            ax[_i,_j].legend(loc=1)\n",
    "            ticks.append(ax[_i,_j].get_yticks())\n",
    "\n",
    "\n",
    "    for ax in [ax00, ax10, ax01, ax11]:\n",
    "        ax.tick_params(axis='y', colors='darkred')\n",
    "        ax.legend(loc=4)\n",
    "\n",
    "    ax00.set_yticks(np.linspace(ax00.get_yticks()[0], ax00.get_yticks()[-1], len(ticks[0])))\n",
    "    ax10.set_yticks(np.linspace(ax10.get_yticks()[0], ax10.get_yticks()[-1], len(ticks[2])))\n",
    "    ax01.set_yticks(np.linspace(ax01.get_yticks()[0], ax01.get_yticks()[-1], len(ticks[1])))\n",
    "    ax11.set_yticks(np.linspace(ax11.get_yticks()[0], ax11.get_yticks()[-1], len(ticks[3])))\n",
    "\n",
    "\n",
    "#     ## add dates to x-axis\n",
    "#     ref_date = UTCDateTime(config['tbeg'])\n",
    "#     tcks = ax[Nrow-1].get_xticks()\n",
    "#     tcklbls = [str(UTCDateTime(ref_date+t).date) for t in tcks]\n",
    "#     ax[Nrow-1].set_xticklabels(tcklbls)\n",
    "\n",
    "    plt.show();\n",
    "    return fig\n",
    "\n",
    "fig = __makeplot_tides();\n",
    "\n"
   ]
  },
  {
   "cell_type": "code",
   "execution_count": null,
   "id": "4916ad4d-1127-4c3a-ada8-e927db2e8b0a",
   "metadata": {},
   "outputs": [],
   "source": []
  }
 ],
 "metadata": {
  "kernelspec": {
   "display_name": "Python 3 (ipykernel)",
   "language": "python",
   "name": "python3"
  },
  "language_info": {
   "codemirror_mode": {
    "name": "ipython",
    "version": 3
   },
   "file_extension": ".py",
   "mimetype": "text/x-python",
   "name": "python",
   "nbconvert_exporter": "python",
   "pygments_lexer": "ipython3",
   "version": "3.10.12"
  },
  "latex_envs": {
   "LaTeX_envs_menu_present": true,
   "autoclose": false,
   "autocomplete": true,
   "bibliofile": "biblio.bib",
   "cite_by": "apalike",
   "current_citInitial": 1,
   "eqLabelWithNumbers": true,
   "eqNumInitial": 1,
   "hotkeys": {
    "equation": "Ctrl-E",
    "itemize": "Ctrl-I"
   },
   "labels_anchors": false,
   "latex_user_defs": false,
   "report_style_numbering": false,
   "user_envs_cfg": false
  },
  "toc": {
   "base_numbering": 1,
   "nav_menu": {},
   "number_sections": true,
   "sideBar": true,
   "skip_h1_title": false,
   "title_cell": "Table of Contents",
   "title_sidebar": "Contents",
   "toc_cell": false,
   "toc_position": {},
   "toc_section_display": true,
   "toc_window_display": false
  },
  "varInspector": {
   "cols": {
    "lenName": 16,
    "lenType": 16,
    "lenVar": 40
   },
   "kernels_config": {
    "python": {
     "delete_cmd_postfix": "",
     "delete_cmd_prefix": "del ",
     "library": "var_list.py",
     "varRefreshCmd": "print(var_dic_list())"
    },
    "r": {
     "delete_cmd_postfix": ") ",
     "delete_cmd_prefix": "rm(",
     "library": "var_list.r",
     "varRefreshCmd": "cat(var_dic_list()) "
    }
   },
   "types_to_exclude": [
    "module",
    "function",
    "builtin_function_or_method",
    "instance",
    "_Feature"
   ],
   "window_display": false
  }
 },
 "nbformat": 4,
 "nbformat_minor": 5
}
