{
 "cells": [
  {
   "cell_type": "markdown",
   "id": "22f5c8c9",
   "metadata": {
    "ExecuteTime": {
     "end_time": "2022-10-28T13:00:52.763484Z",
     "start_time": "2022-10-28T13:00:52.761516Z"
    }
   },
   "source": [
    "## Sagnac Frequency - Compare Drift of Rings"
   ]
  },
  {
   "cell_type": "markdown",
   "id": "1cd32aed",
   "metadata": {},
   "source": []
  },
  {
   "cell_type": "markdown",
   "id": "185b1a0b",
   "metadata": {},
   "source": [
    "## Imports"
   ]
  },
  {
   "cell_type": "code",
   "execution_count": 1,
   "id": "818caf4c",
   "metadata": {
    "ExecuteTime": {
     "end_time": "2023-06-27T08:11:10.277643Z",
     "start_time": "2023-06-27T08:11:08.781535Z"
    },
    "tags": []
   },
   "outputs": [],
   "source": [
    "import os\n",
    "import gc\n",
    "import matplotlib.pyplot as plt\n",
    "import numpy as np\n",
    "\n",
    "from datetime import datetime, date\n",
    "from pandas import DataFrame, read_pickle, date_range, concat, read_csv\n",
    "from obspy import UTCDateTime, read, Trace, Stream, read_inventory\n",
    "from scipy.signal import hilbert\n"
   ]
  },
  {
   "cell_type": "code",
   "execution_count": 2,
   "id": "b83c9987",
   "metadata": {
    "ExecuteTime": {
     "end_time": "2023-06-27T08:11:10.288084Z",
     "start_time": "2023-06-27T08:11:10.284752Z"
    },
    "tags": []
   },
   "outputs": [],
   "source": [
    "if os.uname().nodename == 'lighthouse':\n",
    "    root_path = '/home/andbro/'\n",
    "    data_path = '/home/andbro/kilauea-data/'\n",
    "    archive_path = '/home/andbro/freenas/'\n",
    "elif os.uname().nodename == 'kilauea':\n",
    "    root_path = '/home/brotzer/'\n",
    "    data_path = '/import/kilauea-data/'\n",
    "    archive_path = '/import/freenas-ffb-01-data/'"
   ]
  },
  {
   "cell_type": "code",
   "execution_count": 3,
   "id": "d717e2fc-6173-4d85-b4bb-59ffd121dc93",
   "metadata": {
    "tags": []
   },
   "outputs": [],
   "source": [
    "# from functions.load_beat import __load_beat\n",
    "from functions.load_sagnac_beat_data import __load_sagnac_beat_data\n",
    "from functions.get_mlti_intervals import __get_mlti_intervals\n",
    "from functions.mlti_intervals_to_NaN import __mlti_intervals_to_NaN\n",
    "from functions.load_mlti import __load_mlti\n",
    "from functions.smoothing import __smooth\n",
    "from functions.interpolate_nan import __interpolate_nan"
   ]
  },
  {
   "cell_type": "markdown",
   "id": "ec2578ab",
   "metadata": {},
   "source": [
    "## Configurations"
   ]
  },
  {
   "cell_type": "code",
   "execution_count": 4,
   "id": "ba83e3e7",
   "metadata": {
    "ExecuteTime": {
     "end_time": "2023-06-27T08:11:13.008382Z",
     "start_time": "2023-06-27T08:11:13.002517Z"
    },
    "tags": []
   },
   "outputs": [],
   "source": [
    "config = {}\n",
    "\n",
    "# case = 21\n",
    "# config['tbeg'] = UTCDateTime(\"2023-12-01 00:00\")\n",
    "# config['tend'] = UTCDateTime(\"2023-12-31 00:00\")\n",
    "# Zlower, Zupper = 553.49, 553.51\n",
    "# Ulower, Uupper = 302.4, 302.52\n",
    "# Vlower, Vupper = 447.42, 447.46\n",
    "\n",
    "# case = 22\n",
    "# config['tbeg'] = UTCDateTime(\"2024-02-09 00:00\")\n",
    "# config['tend'] = UTCDateTime(\"2024-02-12 12:00\")\n",
    "# Zlower, Zupper = 553.555, 553.565\n",
    "# Ulower, Uupper = 302.40, 302.45\n",
    "# Vlower, Vupper = 447.745, 447.755\n",
    "\n",
    "# case = 23\n",
    "# config['tbeg'] = UTCDateTime(\"2024-01-01 00:00\")\n",
    "# config['tend'] = UTCDateTime(\"2024-02-20 00:00\")\n",
    "# Zlower, Zupper = 553.48, 553.58\n",
    "# Ulower, Uupper = 302.39, 302.475\n",
    "# Vlower, Vupper = 447.7, 447.80\n",
    "\n",
    "# case = 24\n",
    "# config['tbeg'] = UTCDateTime(\"2023-12-01 00:00\")\n",
    "# config['tend'] = UTCDateTime(\"2024-01-15 00:00\")\n",
    "# Zlower, Zupper = 553.49, 553.51\n",
    "# Ulower, Uupper = 302.4, 302.52\n",
    "# Vlower, Vupper = 447.42, 447.46\n",
    "\n",
    "case = 24\n",
    "config['tbeg'] = UTCDateTime(\"2024-01-23 00:00\")\n",
    "config['tend'] = UTCDateTime(\"2024-06-23 00:00\")\n",
    "Zlower, Zupper = 553.52, 553.58\n",
    "Ulower, Uupper = 302.4, 302.48\n",
    "Vlower, Vupper = 447.72, 447.78\n",
    "\n",
    "\n",
    "# case = 25 # water\n",
    "# config['tbeg'] = UTCDateTime(\"2024-05-29 00:00\")\n",
    "# config['tend'] = UTCDateTime(\"2024-06-05 00:00\")\n",
    "# Zlower, Zupper = 553.52, 553.58\n",
    "# Ulower, Uupper = 302.40, 302.47\n",
    "# Vlower, Vupper = 447.72, 447.78\n",
    "\n",
    "\n",
    "config['path_to_sds'] = archive_path+\"romy_archive/\"\n",
    "\n",
    "# path to Sagnac Beat data\n",
    "config['path_to_autodata'] = archive_path+f\"romy_autodata/\"\n",
    "\n",
    "config['path_to_figs'] = data_path+\"sagnac_frequency/figures/\""
   ]
  },
  {
   "cell_type": "code",
   "execution_count": 5,
   "id": "4159acaa-956d-44ad-bc94-e9a445ccb8a7",
   "metadata": {
    "tags": []
   },
   "outputs": [],
   "source": [
    "beatU = __load_sagnac_beat_data(config['tbeg'], config['tend'], \"U\", config['path_to_autodata'])\n",
    "beatZ = __load_sagnac_beat_data(config['tbeg'], config['tend'], \"Z\", config['path_to_autodata'])\n",
    "beatV = __load_sagnac_beat_data(config['tbeg'], config['tend'], \"V\", config['path_to_autodata'])"
   ]
  },
  {
   "cell_type": "code",
   "execution_count": 6,
   "id": "535e8ca2-3e47-40c0-9ee3-d1923e8f89a5",
   "metadata": {
    "tags": []
   },
   "outputs": [],
   "source": [
    "# read_pickle(archive_path+\"romy_autodata/2024/RU/FJU_20240301.pkl\")"
   ]
  },
  {
   "cell_type": "code",
   "execution_count": 7,
   "id": "c5d52437-cbe4-4782-a2e6-16aef6703083",
   "metadata": {
    "tags": []
   },
   "outputs": [],
   "source": [
    "def __makeplot():\n",
    "\n",
    "    Nrow, Ncol = 3, 1\n",
    "\n",
    "    font = 12\n",
    "\n",
    "    time_scaling = 1/86400\n",
    "\n",
    "    fig, ax = plt.subplots(Nrow, Ncol, figsize=(15, 8), sharex=True)\n",
    "\n",
    "    ax[0].plot(beatZ.times_utc_sec*time_scaling, beatZ.fj_fs)\n",
    "    # ax[0].set_ylim(553.49, 553.52)\n",
    "    ax[0].ticklabel_format(useOffset=False)\n",
    "\n",
    "    ax[1].plot(beatU.times_utc_sec*time_scaling, beatU.fj_fs)\n",
    "    # ax[1].set_ylim(302.4, 302.5)\n",
    "    ax[1].ticklabel_format(useOffset=False)\n",
    "\n",
    "    ax[2].plot(beatV.times_utc_sec*time_scaling, beatV.fj_fs)\n",
    "    # ax[2].set_ylim(447.4, 447.6)\n",
    "    ax[2].ticklabel_format(useOffset=False)\n",
    "\n",
    "    # ax[2].axhline(np.nanpercentile(beatV.fj, 99))\n",
    "    # ax[2].axhline(np.nanpercentile(beatV.fj, 1))\n",
    "\n",
    "    for _n in range(Nrow):\n",
    "        ax[_n].grid(ls=\":\", zorder=0)\n",
    "        ax[_n].legend(loc=1)\n",
    "\n",
    "\n",
    "    ax[0].set_ylim(Zlower, Zupper)\n",
    "    ax[1].set_ylim(Ulower, Uupper)\n",
    "    ax[2].set_ylim(Vlower, Vupper)\n",
    "\n",
    "    plt.show();\n",
    "    return fig"
   ]
  },
  {
   "cell_type": "code",
   "execution_count": 8,
   "id": "b628e134-d983-4bd5-a8d1-5e0796b37ecf",
   "metadata": {
    "tags": []
   },
   "outputs": [
    {
     "ename": "AttributeError",
     "evalue": "'DataFrame' object has no attribute 'fj_fs'",
     "output_type": "error",
     "traceback": [
      "\u001b[0;31m---------------------------------------------------------------------------\u001b[0m",
      "\u001b[0;31mAttributeError\u001b[0m                            Traceback (most recent call last)",
      "\u001b[0;32m/tmp/ipykernel_860719/3148450147.py\u001b[0m in \u001b[0;36m?\u001b[0;34m()\u001b[0m\n\u001b[0;32m----> 1\u001b[0;31m \u001b[0mfig\u001b[0m \u001b[0;34m=\u001b[0m \u001b[0m__makeplot\u001b[0m\u001b[0;34m(\u001b[0m\u001b[0;34m)\u001b[0m\u001b[0;34m;\u001b[0m\u001b[0;34m\u001b[0m\u001b[0;34m\u001b[0m\u001b[0m\n\u001b[0m",
      "\u001b[0;32m/tmp/ipykernel_860719/4213688487.py\u001b[0m in \u001b[0;36m?\u001b[0;34m()\u001b[0m\n\u001b[1;32m      7\u001b[0m     \u001b[0mtime_scaling\u001b[0m \u001b[0;34m=\u001b[0m \u001b[0;36m1\u001b[0m\u001b[0;34m/\u001b[0m\u001b[0;36m86400\u001b[0m\u001b[0;34m\u001b[0m\u001b[0;34m\u001b[0m\u001b[0m\n\u001b[1;32m      8\u001b[0m \u001b[0;34m\u001b[0m\u001b[0m\n\u001b[1;32m      9\u001b[0m     \u001b[0mfig\u001b[0m\u001b[0;34m,\u001b[0m \u001b[0max\u001b[0m \u001b[0;34m=\u001b[0m \u001b[0mplt\u001b[0m\u001b[0;34m.\u001b[0m\u001b[0msubplots\u001b[0m\u001b[0;34m(\u001b[0m\u001b[0mNrow\u001b[0m\u001b[0;34m,\u001b[0m \u001b[0mNcol\u001b[0m\u001b[0;34m,\u001b[0m \u001b[0mfigsize\u001b[0m\u001b[0;34m=\u001b[0m\u001b[0;34m(\u001b[0m\u001b[0;36m15\u001b[0m\u001b[0;34m,\u001b[0m \u001b[0;36m8\u001b[0m\u001b[0;34m)\u001b[0m\u001b[0;34m,\u001b[0m \u001b[0msharex\u001b[0m\u001b[0;34m=\u001b[0m\u001b[0;32mTrue\u001b[0m\u001b[0;34m)\u001b[0m\u001b[0;34m\u001b[0m\u001b[0;34m\u001b[0m\u001b[0m\n\u001b[1;32m     10\u001b[0m \u001b[0;34m\u001b[0m\u001b[0m\n\u001b[0;32m---> 11\u001b[0;31m     \u001b[0max\u001b[0m\u001b[0;34m[\u001b[0m\u001b[0;36m0\u001b[0m\u001b[0;34m]\u001b[0m\u001b[0;34m.\u001b[0m\u001b[0mplot\u001b[0m\u001b[0;34m(\u001b[0m\u001b[0mbeatZ\u001b[0m\u001b[0;34m.\u001b[0m\u001b[0mtimes_utc_sec\u001b[0m\u001b[0;34m*\u001b[0m\u001b[0mtime_scaling\u001b[0m\u001b[0;34m,\u001b[0m \u001b[0mbeatZ\u001b[0m\u001b[0;34m.\u001b[0m\u001b[0mfj_fs\u001b[0m\u001b[0;34m)\u001b[0m\u001b[0;34m\u001b[0m\u001b[0;34m\u001b[0m\u001b[0m\n\u001b[0m\u001b[1;32m     12\u001b[0m     \u001b[0;31m# ax[0].set_ylim(553.49, 553.52)\u001b[0m\u001b[0;34m\u001b[0m\u001b[0;34m\u001b[0m\u001b[0m\n\u001b[1;32m     13\u001b[0m     \u001b[0max\u001b[0m\u001b[0;34m[\u001b[0m\u001b[0;36m0\u001b[0m\u001b[0;34m]\u001b[0m\u001b[0;34m.\u001b[0m\u001b[0mticklabel_format\u001b[0m\u001b[0;34m(\u001b[0m\u001b[0museOffset\u001b[0m\u001b[0;34m=\u001b[0m\u001b[0;32mFalse\u001b[0m\u001b[0;34m)\u001b[0m\u001b[0;34m\u001b[0m\u001b[0;34m\u001b[0m\u001b[0m\n\u001b[1;32m     14\u001b[0m \u001b[0;34m\u001b[0m\u001b[0m\n",
      "\u001b[0;32m~/anaconda3/envs/obs2/lib/python3.10/site-packages/pandas/core/generic.py\u001b[0m in \u001b[0;36m?\u001b[0;34m(self, name)\u001b[0m\n\u001b[1;32m   5985\u001b[0m             \u001b[0;32mand\u001b[0m \u001b[0mname\u001b[0m \u001b[0;32mnot\u001b[0m \u001b[0;32min\u001b[0m \u001b[0mself\u001b[0m\u001b[0;34m.\u001b[0m\u001b[0m_accessors\u001b[0m\u001b[0;34m\u001b[0m\u001b[0;34m\u001b[0m\u001b[0m\n\u001b[1;32m   5986\u001b[0m             \u001b[0;32mand\u001b[0m \u001b[0mself\u001b[0m\u001b[0;34m.\u001b[0m\u001b[0m_info_axis\u001b[0m\u001b[0;34m.\u001b[0m\u001b[0m_can_hold_identifiers_and_holds_name\u001b[0m\u001b[0;34m(\u001b[0m\u001b[0mname\u001b[0m\u001b[0;34m)\u001b[0m\u001b[0;34m\u001b[0m\u001b[0;34m\u001b[0m\u001b[0m\n\u001b[1;32m   5987\u001b[0m         ):\n\u001b[1;32m   5988\u001b[0m             \u001b[0;32mreturn\u001b[0m \u001b[0mself\u001b[0m\u001b[0;34m[\u001b[0m\u001b[0mname\u001b[0m\u001b[0;34m]\u001b[0m\u001b[0;34m\u001b[0m\u001b[0;34m\u001b[0m\u001b[0m\n\u001b[0;32m-> 5989\u001b[0;31m         \u001b[0;32mreturn\u001b[0m \u001b[0mobject\u001b[0m\u001b[0;34m.\u001b[0m\u001b[0m__getattribute__\u001b[0m\u001b[0;34m(\u001b[0m\u001b[0mself\u001b[0m\u001b[0;34m,\u001b[0m \u001b[0mname\u001b[0m\u001b[0;34m)\u001b[0m\u001b[0;34m\u001b[0m\u001b[0;34m\u001b[0m\u001b[0m\n\u001b[0m",
      "\u001b[0;31mAttributeError\u001b[0m: 'DataFrame' object has no attribute 'fj_fs'"
     ]
    },
    {
     "data": {
      "image/png": "[encoded data removed]",
      "text/plain": [
       "<Figure size 1500x800 with 3 Axes>"
      ]
     },
     "metadata": {},
     "output_type": "display_data"
    }
   ],
   "source": [
    "fig = __makeplot();"
   ]
  },
  {
   "cell_type": "markdown",
   "id": "1d4646a4-d375-41f3-9c1d-f5217db55081",
   "metadata": {},
   "source": [
    "## find jumps"
   ]
  },
  {
   "cell_type": "code",
   "execution_count": null,
   "id": "747008f5-85b0-4450-b4d2-2e38c280a4d8",
   "metadata": {
    "tags": []
   },
   "outputs": [],
   "source": [
    "def __get_phase_jumps(arr, time, fraction_of_pi=36, plot=True):\n",
    "\n",
    "    import matplotlib.pyplot as plt\n",
    "    import numpy as np\n",
    "    from scipy.signal import hilbert\n",
    "\n",
    "    data = arr.copy()\n",
    "\n",
    "    # define threshold for phase jump identification\n",
    "    threshold = np.pi/fraction_of_pi\n",
    "\n",
    "    # remove mean of data to avoid jumps at start and end\n",
    "    data -= np.nanmean(data)\n",
    "\n",
    "    # avoid having to deal with nan values\n",
    "    data = np.nan_to_num(data, nan=0)\n",
    "\n",
    "    # compute Hilbert transform\n",
    "    H = hilbert(data)\n",
    "\n",
    "    # obtain angle of hilibert\n",
    "    # pha = np.angle(H)\n",
    "    pha = np.unwrap(np.angle(H))\n",
    "\n",
    "    # derivative of angle\n",
    "    dpha = np.gradient(pha, edge_order=1)\n",
    "\n",
    "    # dpha /= np.real(H)\n",
    "    # dpha /= max(abs(pha))\n",
    "    # dpha /= sum((np.gradient(test)))\n",
    "\n",
    "    # detect phase changes\n",
    "    dpha_y = [_x if abs(_x) > threshold and abs(_x) < 3.14 else np.nan for _x in dpha]\n",
    "\n",
    "    # detect phase indices\n",
    "    dpha_idx = [list(dpha).index(_x) for _x in dpha if abs(_x) > threshold and abs(_x) < 3.14]\n",
    "\n",
    "    # apply filter\n",
    "    out = [np.nan if _i in dpha_idx else arr[_i] for _i in range(len(arr))]\n",
    "\n",
    "    # checkup plot\n",
    "    if plot:\n",
    "        fig, ax = plt.subplots(2, 1, figsize=(15, 8))\n",
    "\n",
    "        ax[0].plot(time, dpha)\n",
    "        ax[0].scatter(time, dpha_y, color=\"tab:orange\", s=10, zorder=2)\n",
    "        ax[0].axhline(threshold, color=\"red\", ls=\"--\", alpha=0.5)\n",
    "        ax[0].axhline(-threshold, color=\"red\", ls=\"--\", alpha=0.5)\n",
    "\n",
    "        ax[1].plot(time, data)\n",
    "        for line in time[dpha_idx]:\n",
    "            ax[1].axvline(line, -1000, 1000, zorder=0, alpha=0.3, color=\"tab:orange\")\n",
    "\n",
    "        plt.show();\n",
    "\n",
    "    return np.array(out), time[dpha_idx], np.array(dpha_y)[dpha_idx]"
   ]
  },
  {
   "cell_type": "code",
   "execution_count": null,
   "id": "ed24edf2-d5cd-49e6-94be-7c4a348ae36c",
   "metadata": {
    "tags": []
   },
   "outputs": [],
   "source": [
    "beatU['fj_fs'], Utt, Uii = __get_phase_jumps(beatU.fj, beatU.times_utc, fraction_of_pi=6, plot=True)\n",
    "beatV['fj_fs'], Vtt, Vii = __get_phase_jumps(beatV.fj, beatV.times_utc, fraction_of_pi=6, plot=True)\n",
    "beatZ['fj_fs'], Ztt, Zii = __get_phase_jumps(beatZ.fj, beatZ.times_utc, fraction_of_pi=6, plot=True)"
   ]
  },
  {
   "cell_type": "code",
   "execution_count": null,
   "id": "2484b51f-f17b-40b6-8187-8f097fece7ac",
   "metadata": {
    "tags": []
   },
   "outputs": [],
   "source": [
    "def __makeplot2():\n",
    "\n",
    "    Nrow, Ncol = 3, 1\n",
    "\n",
    "    font = 12\n",
    "\n",
    "    time_scaling = 1/86400\n",
    "\n",
    "    fig, ax = plt.subplots(Nrow, Ncol, figsize=(15, 8), sharex=True)\n",
    "\n",
    "    ax[0].plot(beatZ.times_utc_sec*time_scaling, beatZ.fj)\n",
    "    ax[0].plot(beatZ.times_utc_sec*time_scaling, beatZ.fj_cl)\n",
    "    # ax[0].set_ylim(553.49, 553.52)\n",
    "    ax[0].ticklabel_format(useOffset=False)\n",
    "\n",
    "    ax[1].plot(beatU.times_utc_sec*time_scaling, beatU.fj)\n",
    "    ax[1].plot(beatU.times_utc_sec*time_scaling, beatU.fj_cl)\n",
    "    # ax[1].set_ylim(302.4, 302.5)\n",
    "    ax[1].ticklabel_format(useOffset=False)\n",
    "\n",
    "    ax[2].plot(beatV.times_utc_sec*time_scaling, beatV.fj)\n",
    "    ax[2].plot(beatV.times_utc_sec*time_scaling, beatV.fj_cl)\n",
    "    # ax[2].set_ylim(447.4, 447.6)\n",
    "    ax[2].ticklabel_format(useOffset=False)\n",
    "\n",
    "    # ax[2].axhline(np.nanpercentile(beatV.fj, 99))\n",
    "    # ax[2].axhline(np.nanpercentile(beatV.fj, 1))\n",
    "\n",
    "    for _n in range(Nrow):\n",
    "        ax[_n].grid(ls=\":\", zorder=0)\n",
    "        ax[_n].legend(loc=1)\n",
    "\n",
    "\n",
    "    ax[0].set_ylim(Zlower, Zupper)\n",
    "    ax[1].set_ylim(Ulower, Uupper)\n",
    "    ax[2].set_ylim(Vlower, Vupper)\n",
    "\n",
    "    plt.show();\n",
    "    return fig"
   ]
  },
  {
   "cell_type": "code",
   "execution_count": null,
   "id": "e0ddd58f-04db-4613-b660-f5a36da41354",
   "metadata": {
    "tags": []
   },
   "outputs": [],
   "source": [
    "# fig = __makeplot2();"
   ]
  },
  {
   "cell_type": "markdown",
   "id": "a7e275d3-a082-4f03-9195-d385b9610adc",
   "metadata": {},
   "source": [
    "## Remove breakdown periods"
   ]
  },
  {
   "cell_type": "code",
   "execution_count": null,
   "id": "6474b743-84e8-4151-a528-338d0307bfb9",
   "metadata": {
    "tags": []
   },
   "outputs": [],
   "source": [
    "times = [(\"2023-12-04T09:10\", \"2023-12-04T18:02\"),\n",
    "         (\"2023-12-20T06:10\", \"2023-12-20T12:01\")]\n",
    "\n",
    "for t1, t2 in times:\n",
    "    beatU['fj'] = np.where((beatU.times_utc > t1) & (beatU.times_utc < t2), np.nan, beatU['fj'])\n",
    "\n",
    "# beatU['fj'] = np.nan_to_num(beatU['fj'], nan=np.nanmedian(beatU['fj']))"
   ]
  },
  {
   "cell_type": "code",
   "execution_count": null,
   "id": "143b539b-ee12-49ec-9b0a-91990abb9fc4",
   "metadata": {
    "tags": []
   },
   "outputs": [],
   "source": [
    "times = [(\"2024-01-01T04:00\", \"2024-01-01T22:51\"),\n",
    "         (\"2024-01-03T14:20\", \"2024-01-06T00:00\"),\n",
    "         (\"2023-12-19T09:40\", \"2023-12-19T15:21\")]\n",
    "\n",
    "for t1, t2 in times:\n",
    "    beatV['fj'] = np.where((beatV.times_utc > t1) & (beatV.times_utc < t2), np.nan, beatV['fj'])\n",
    "\n",
    "# beatV['fj'] = np.nan_to_num(beatV['fj'], nan=np.nanmedian(beatV['fj']))"
   ]
  },
  {
   "cell_type": "code",
   "execution_count": null,
   "id": "fa6e6134-d24d-42fb-a5c6-4b08a453a707",
   "metadata": {
    "tags": []
   },
   "outputs": [],
   "source": [
    "times = [(\"2023-12-07T00:10\", \"2023-12-08T18:05\")]\n",
    "\n",
    "for t1, t2 in times:\n",
    "    beatZ['fj'] = np.where((beatZ.times_utc > t1) & (beatZ.times_utc < t2), np.nan, beatZ['fj'])\n",
    "\n",
    "# beatZ['fj'] = np.nan_to_num(beatZ['fj'], nan=np.nanmedian(beatZ['fj']))"
   ]
  },
  {
   "cell_type": "code",
   "execution_count": null,
   "id": "a0fa3020-6639-4ee6-aca9-7fe325e3af5b",
   "metadata": {
    "tags": []
   },
   "outputs": [],
   "source": [
    "# # beatU['fj'] = np.where((beatU.times_utc < \"2023-12-20T07:00:30\") & (beatU.fj < 302.4), np.nan, beatU.fj)\n",
    "# beatU['fj'] = np.where((beatU.fj < 302.4), np.nan, beatU.fj)\n",
    "\n",
    "# ## cut off outliers manually\n",
    "# beatU['fj'] = np.where((beatU.times_utc > \"2023-12-18T20:40\") & (beatU.times_utc < \"2023-12-19T05:00\") & (beatU.fj < 302.48), np.nan, beatU.fj)\n"
   ]
  },
  {
   "cell_type": "markdown",
   "id": "c8ddaa22-8ec7-445c-8dab-bcdbf02d4c4d",
   "metadata": {},
   "source": [
    "### Exclude Outliers"
   ]
  },
  {
   "cell_type": "code",
   "execution_count": null,
   "id": "23cd9285-f024-4875-bbc5-d37e9bfc4242",
   "metadata": {
    "tags": []
   },
   "outputs": [],
   "source": [
    "beatZ['fj'] = np.where((beatZ.fj > Zupper), np.nan, beatZ.fj)\n",
    "beatZ['fj'] = np.where((beatZ.fj < Zlower), np.nan, beatZ.fj)\n",
    "\n",
    "beatU['fj'] = np.where((beatU.fj > Uupper), np.nan, beatU.fj)\n",
    "beatU['fj'] = np.where((beatU.fj < Ulower), np.nan, beatU.fj)\n",
    "\n",
    "beatV['fj'] = np.where((beatV.fj > Vupper), np.nan, beatV.fj)\n",
    "beatV['fj'] = np.where((beatV.fj < Vlower), np.nan, beatV.fj)"
   ]
  },
  {
   "cell_type": "code",
   "execution_count": null,
   "id": "9396d276-0f21-477b-adec-869c044892ca",
   "metadata": {
    "tags": []
   },
   "outputs": [],
   "source": [
    "# i1, i2 = 25000, 25500\n",
    "\n",
    "# # print(beatZ.times_utc.iloc[i1], beatZ.times_utc.iloc[i2])\n",
    "# # plt.plot(beatZ.times_utc_sec.iloc[i1:i2], beatZ.fj.iloc[i1:i2])\n",
    "\n",
    "# print(beatU.times_utc.iloc[i1], beatU.times_utc.iloc[i2])\n",
    "# plt.plot(beatU.times_utc_sec.iloc[i1:i2], beatU.fj.iloc[i1:i2])\n",
    "# # plt.plot(beatU.times_utc_sec.iloc[i1:i2], beatU.fj_nan.iloc[i1:i2])"
   ]
  },
  {
   "cell_type": "code",
   "execution_count": null,
   "id": "4ec654ac-84c6-466a-a730-6188f403c86a",
   "metadata": {
    "tags": []
   },
   "outputs": [],
   "source": [
    "beatU"
   ]
  },
  {
   "cell_type": "code",
   "execution_count": null,
   "id": "72a5f21b-de0d-4abc-8be9-9f96ddf6e84a",
   "metadata": {
    "tags": []
   },
   "outputs": [],
   "source": [
    "fig = __makeplot();"
   ]
  },
  {
   "cell_type": "markdown",
   "id": "24dae667-8ac7-49e7-bc73-4c52138cebf4",
   "metadata": {},
   "source": [
    "## Load Maintenance LXX log"
   ]
  },
  {
   "cell_type": "code",
   "execution_count": null,
   "id": "f479dff8-7896-47bb-bb14-c9a33d3d65b0",
   "metadata": {
    "tags": []
   },
   "outputs": [],
   "source": [
    "from functions.load_lxx import __load_lxx\n",
    "\n",
    "lxx =__load_lxx(config['tbeg'], config['tend'], archive_path)"
   ]
  },
  {
   "cell_type": "code",
   "execution_count": null,
   "id": "5b529c74-ce41-491d-b25a-a639caf51f77",
   "metadata": {
    "tags": []
   },
   "outputs": [],
   "source": [
    "from functions.get_lxx_intervals import __get_lxx_intervals\n",
    "\n",
    "lxx_t1, lxx_t2 = __get_lxx_intervals(lxx.datetime)"
   ]
  },
  {
   "cell_type": "markdown",
   "id": "87a89fa2-25f0-46a2-a18e-12aa8bc4b874",
   "metadata": {},
   "source": [
    "## Remove MLTI times"
   ]
  },
  {
   "cell_type": "code",
   "execution_count": null,
   "id": "1a153dfa-c649-4d32-ba2e-b319e4fe7c62",
   "metadata": {
    "tags": []
   },
   "outputs": [],
   "source": [
    "mltiU = __load_mlti(config['tbeg'], config['tend'], \"U\", archive_path)"
   ]
  },
  {
   "cell_type": "code",
   "execution_count": null,
   "id": "347b783d-9992-48a2-8b33-9576d43ebf3f",
   "metadata": {
    "tags": []
   },
   "outputs": [],
   "source": [
    "mltiZ = __load_mlti(config['tbeg'], config['tend'], \"Z\", archive_path)"
   ]
  },
  {
   "cell_type": "code",
   "execution_count": null,
   "id": "a496d6a7-4d33-4ad8-b8f9-9e70504e506d",
   "metadata": {
    "tags": []
   },
   "outputs": [],
   "source": [
    "mltiV = __load_mlti(config['tbeg'], config['tend'], \"V\", archive_path)"
   ]
  },
  {
   "cell_type": "code",
   "execution_count": null,
   "id": "a4c04f98-f7b4-4dbd-8d59-5715391701d6",
   "metadata": {
    "tags": []
   },
   "outputs": [],
   "source": [
    "mltiU_t1, mltiU_t2 = __get_mlti_intervals(mltiU.time_utc)"
   ]
  },
  {
   "cell_type": "code",
   "execution_count": null,
   "id": "ca562740-8489-4a21-aee4-fe25315a02de",
   "metadata": {
    "tags": []
   },
   "outputs": [],
   "source": [
    "mltiZ_t1, mltiZ_t2 = __get_mlti_intervals(mltiZ.time_utc)"
   ]
  },
  {
   "cell_type": "code",
   "execution_count": null,
   "id": "c995c178-260c-40c3-918e-99011cb34356",
   "metadata": {
    "tags": []
   },
   "outputs": [],
   "source": [
    "mltiV_t1, mltiV_t2 = __get_mlti_intervals(mltiV.time_utc)"
   ]
  },
  {
   "cell_type": "code",
   "execution_count": null,
   "id": "0abe9804-8abd-4a7e-bd27-ff29f258c450",
   "metadata": {
    "tags": []
   },
   "outputs": [],
   "source": [
    "def __get_mlti_statistics(mlti_times, times, plot=True, ylog=False):\n",
    "\n",
    "    import numpy as np\n",
    "    import matplotlib.pyplot as plt\n",
    "\n",
    "    # relative times\n",
    "    mlti_times_sec = np.array(mlti_times - times[0]).astype(int)\n",
    "\n",
    "    times_sec = np.array(times - times[0]).astype(int)\n",
    "\n",
    "    # start mlti array\n",
    "    _mlti = np.zeros(len(times))\n",
    "\n",
    "    # switch 0 to 1 for each mlti time\n",
    "    _t0 = 0\n",
    "    for _m in mlti_times_sec:\n",
    "        for _j, _t in enumerate(times_sec):\n",
    "            if _t < _t0:\n",
    "                continue\n",
    "            if _t >= _m:\n",
    "                _mlti[_j] = 1\n",
    "                _t0 = _t\n",
    "                break\n",
    "\n",
    "    # sum it up\n",
    "    mlti_cumsum = np.cumsum(_mlti)\n",
    "\n",
    "    # to percent\n",
    "    mlti_cumsum = mlti_cumsum \n",
    "    mlti_cumsum_percent = mlti_cumsum  / max(mlti_cumsum) * 100\n",
    "\n",
    "    # inter mlti times\n",
    "    mlti_times_sec_shift = np.roll(mlti_times_sec, 1)\n",
    "    mlti_times_sec_shift[0] = 0\n",
    "    mlti_inter_sec = mlti_times_sec - mlti_times_sec_shift\n",
    "\n",
    "    # plotting\n",
    "    if plot:\n",
    "        fig, ax = plt.subplots(1, 2, figsize=(15, 5))\n",
    "\n",
    "        ax[0].plot(np.arange(0, len(mlti_cumsum_percent))/86400, mlti_cumsum_percent)\n",
    "        ax[1].hist(mlti_inter_sec/60, bins=int(1440/10), range=(0, 1440))\n",
    "\n",
    "        if ylog:\n",
    "            ax[1].set_yscale(\"log\")\n",
    "\n",
    "        ax[0].grid(color=\"grey\", ls=\"--\", alpha=0.4)\n",
    "        ax[1].grid(color=\"grey\", ls=\"--\", alpha=0.4)\n",
    "\n",
    "        ax[0].set_xlabel(\"Time (days)\", fontsize=12)\n",
    "        ax[0].set_ylabel(\"Amount MLTI (%)\", fontsize=12)\n",
    "\n",
    "        ax[1].set_xlabel(\"Inter-MLTI-Time (min)\", fontsize=12)\n",
    "        ax[1].set_ylabel(\"Amount MLTI\", fontsize=12)\n",
    "\n",
    "        plt.show();\n",
    "\n",
    "    return mlti_cumsum, mlti_cumsum_percent, mlti_inter_sec"
   ]
  },
  {
   "cell_type": "code",
   "execution_count": null,
   "id": "930f2cc8-d98b-4290-8374-929929526a20",
   "metadata": {
    "tags": []
   },
   "outputs": [],
   "source": [
    "mltiU_cumsum, mlti_cumsum_percent, mltiU_inter_sec = __get_mlti_statistics(mltiU_t1, beatU.times_utc, plot=True, ylog=False)\n",
    "mltiV_cumsum, mlti_cumsum_percent, mltiV_inter_sec = __get_mlti_statistics(mltiV_t1, beatV.times_utc, plot=True, ylog=False)\n",
    "mltiZ_cumsum, mlti_cumsum_percent, mltiZ_inter_sec = __get_mlti_statistics(mltiZ_t1, beatZ.times_utc, plot=True, ylog=False)"
   ]
  },
  {
   "cell_type": "code",
   "execution_count": null,
   "id": "3977af5d-dfa7-471e-aead-e7bdd8290f0b",
   "metadata": {
    "tags": []
   },
   "outputs": [],
   "source": []
  },
  {
   "cell_type": "code",
   "execution_count": null,
   "id": "97ec6fec-017c-4f96-8313-973b69d1b0ae",
   "metadata": {
    "tags": []
   },
   "outputs": [],
   "source": [
    "beatU = __mlti_intervals_to_NaN(beatU, \"fj\", \"times_utc\", mltiU_t1, mltiU_t2, t_offset_sec=180)\n",
    "beatV = __mlti_intervals_to_NaN(beatV, \"fj\", \"times_utc\", mltiV_t1, mltiV_t2, t_offset_sec=180)\n",
    "beatZ = __mlti_intervals_to_NaN(beatZ, \"fj\", \"times_utc\", mltiZ_t1, mltiZ_t2, t_offset_sec=180)"
   ]
  },
  {
   "cell_type": "markdown",
   "id": "bf68b759-0f4e-4181-9c41-4947954f7c47",
   "metadata": {
    "tags": []
   },
   "source": [
    "## Interpolate NaN values"
   ]
  },
  {
   "cell_type": "code",
   "execution_count": null,
   "id": "fb67163f-c6d0-4a85-9889-55b687c789c9",
   "metadata": {
    "tags": []
   },
   "outputs": [],
   "source": [
    "beatU['fj_inter'] = __interpolate_nan(np.array(beatU.fj_nan))\n",
    "beatV['fj_inter'] = __interpolate_nan(np.array(beatV.fj_nan))\n",
    "beatZ['fj_inter'] = __interpolate_nan(np.array(beatZ.fj_nan))"
   ]
  },
  {
   "cell_type": "markdown",
   "id": "fad23456-3357-4da8-9d0c-c1805c551a37",
   "metadata": {},
   "source": [
    "## Smoothing"
   ]
  },
  {
   "cell_type": "code",
   "execution_count": null,
   "id": "00d4d273-a04e-4d82-b0d1-f3d45a5bd34c",
   "metadata": {
    "tags": []
   },
   "outputs": [],
   "source": [
    "# n_minutes = 24*60\n",
    "\n",
    "# beatU['fj_smooth'] = __smooth(beatU.fj_inter, n_minutes)\n",
    "# beatV['fj_smooth'] = __smooth(beatV.fj_inter, n_minutes)\n",
    "# beatZ['fj_smooth'] = __smooth(beatZ.fj_inter, n_minutes)\n",
    "\n",
    "from scipy.ndimage import gaussian_filter1d\n",
    "\n",
    "n_minutes = 360\n",
    "\n",
    "beatU['fj_smooth'] = gaussian_filter1d(beatU.fj_inter, n_minutes)\n",
    "beatV['fj_smooth'] = gaussian_filter1d(beatV.fj_inter, n_minutes)\n",
    "beatZ['fj_smooth'] = gaussian_filter1d(beatZ.fj_inter, n_minutes)"
   ]
  },
  {
   "cell_type": "markdown",
   "id": "e1dfe0a6-2138-4849-b9cc-f54a9e4e1fe5",
   "metadata": {},
   "source": [
    "## Masks"
   ]
  },
  {
   "cell_type": "code",
   "execution_count": null,
   "id": "76ddd9f7-4f85-420d-b2d1-191cf78bdec6",
   "metadata": {
    "tags": []
   },
   "outputs": [],
   "source": [
    "maskU = np.where(np.isnan(beatU.fj_nan), np.nan, 1)\n",
    "maskV = np.where(np.isnan(beatV.fj_nan), np.nan, 1)\n",
    "maskZ = np.where(np.isnan(beatZ.fj_nan), np.nan, 1)"
   ]
  },
  {
   "cell_type": "code",
   "execution_count": null,
   "id": "e376eddf-4c25-4dd0-a415-7e79918c4cc8",
   "metadata": {
    "tags": []
   },
   "outputs": [],
   "source": [
    "beatU['fj_smooth_masked'] = beatU['fj_smooth'] * maskU\n",
    "beatV['fj_smooth_masked'] = beatV['fj_smooth'] * maskV\n",
    "beatZ['fj_smooth_masked'] = beatZ['fj_smooth'] * maskZ"
   ]
  },
  {
   "cell_type": "markdown",
   "id": "f89ea86f-24bf-4848-bb6d-464e963dbf70",
   "metadata": {
    "tags": []
   },
   "source": [
    "## Plotting"
   ]
  },
  {
   "cell_type": "code",
   "execution_count": null,
   "id": "f16e7cd8-2d3f-4934-95f8-e681568710bb",
   "metadata": {
    "tags": []
   },
   "outputs": [],
   "source": [
    "Zlower, Zupper = 553.50, 553.60\n",
    "Ulower, Uupper = 302.39, 302.49\n",
    "Vlower, Vupper = 447.70, 447.80"
   ]
  },
  {
   "cell_type": "code",
   "execution_count": null,
   "id": "cd8bfc16-7f26-4b61-9d93-23617741030e",
   "metadata": {
    "tags": []
   },
   "outputs": [],
   "source": [
    "def __makeplot():\n",
    "\n",
    "    Nrow, Ncol = 3, 1\n",
    "\n",
    "    font = 12\n",
    "\n",
    "    ref_date = UTCDateTime(str(beatV.times_utc.iloc[0])[:10])\n",
    "\n",
    "    fig, ax = plt.subplots(Nrow, Ncol, figsize=(15, 8), sharex=True)\n",
    "\n",
    "    # time_scaling = 1/86400\n",
    "    time_scaling = 1\n",
    "\n",
    "    ax[0].plot(beatZ.times_utc_sec*time_scaling, beatZ.fj, color=\"tab:grey\", alpha=0.3, label=\"raw\")\n",
    "    ax[0].plot(beatZ.times_utc_sec*time_scaling, beatZ.fj_nan, color=\"tab:blue\", label=\"cleaned\")\n",
    "    ax[0].plot(beatZ.times_utc_sec*time_scaling, beatZ.fj_smooth_masked, color=\"k\", label=f\"mov. avg. ({n_minutes} min)\")\n",
    "    ax[0].set_ylim(Zlower, Zupper)\n",
    "    ax[0].ticklabel_format(useOffset=False)\n",
    "    ax[0].set_ylabel(\"Horizontal ring (Hz)\", fontsize=font)\n",
    "\n",
    "    ax[1].plot(beatU.times_utc_sec*time_scaling, beatU.fj, color=\"tab:grey\", alpha=0.3, label=\"raw\")\n",
    "    ax[1].plot(beatU.times_utc_sec*time_scaling, beatU.fj_nan, color=\"tab:green\", label=\"cleaned\")\n",
    "    ax[1].plot(beatU.times_utc_sec*time_scaling, beatU.fj_smooth_masked, color=\"k\", label=f\"mov. avg. ({n_minutes} min)\")\n",
    "    ax[1].set_ylim(Ulower, Uupper)\n",
    "    ax[1].ticklabel_format(useOffset=False)\n",
    "    ax[1].set_ylabel(\"Northern ring (Hz)\", fontsize=font)\n",
    "\n",
    "    ax[2].plot(beatV.times_utc_sec*time_scaling, beatV.fj, color=\"tab:grey\", alpha=0.3, label=\"raw\")\n",
    "    ax[2].plot(beatV.times_utc_sec*time_scaling, beatV.fj_nan, color=\"tab:red\", label=\"cleaned\")\n",
    "    ax[2].plot(beatV.times_utc_sec*time_scaling, beatV.fj_smooth_masked, color=\"k\", label=f\"mov. avg. ({n_minutes} min)\")\n",
    "    ax[2].set_ylim(Vlower, Vupper)\n",
    "    ax[2].set_ylim()\n",
    "\n",
    "    ax[2].ticklabel_format(useOffset=False)\n",
    "    ax[2].set_ylabel(\"Western ring (Hz)\", fontsize=font)\n",
    "\n",
    "    for _n in range(Nrow):\n",
    "        ax[_n].grid(ls=\":\", zorder=0)\n",
    "        ax[_n].legend(loc=1, ncol=3)\n",
    "\n",
    "        # add maintenance times\n",
    "        for lx1, lx2 in zip(lxx_t1, lxx_t2):\n",
    "            lx1_sec = lx1-UTCDateTime(ref_date)\n",
    "            lx2_sec = lx2-UTCDateTime(ref_date)\n",
    "            ax[_n].fill_betweenx([-1000, 1000], lx1_sec, lx2_sec, color=\"yellow\", alpha=0.3)\n",
    "\n",
    "    # ax[2].set_xlabel(\"Time (days)\", fontsize=font)\n",
    "\n",
    "    # add dates to x-axis\n",
    "    tcks = ax[Nrow-1].get_xticks()\n",
    "    tcklbls = [f\"{UTCDateTime(UTCDateTime(ref_date)+t).date} \\n {UTCDateTime(UTCDateTime(ref_date)+t).time}\" for t in tcks]\n",
    "    ax[Nrow-1].set_xticklabels(tcklbls)\n",
    "\n",
    "    # add subplot labels\n",
    "    for _k, ll in enumerate(['(a)', '(b)', '(c)']):\n",
    "        ax[_k].text(.005, .97, ll, ha='left', va='top', transform=ax[_k].transAxes, fontsize=font+2)\n",
    "\n",
    "\n",
    "    plt.show();\n",
    "    return fig\n",
    "\n",
    "fig = __makeplot();\n",
    "\n",
    "fig.savefig(config['path_to_figs']+f\"BeatDrift_Case{case}smoothed.png\", format=\"png\", dpi=150, bbox_inches='tight')\n"
   ]
  },
  {
   "cell_type": "code",
   "execution_count": null,
   "id": "e522baad-8137-487b-9a0c-9d01ee9f12f2",
   "metadata": {},
   "outputs": [],
   "source": []
  },
  {
   "cell_type": "code",
   "execution_count": null,
   "id": "466b6dcd-dfff-4d42-8d11-280536556f6a",
   "metadata": {
    "tags": []
   },
   "outputs": [],
   "source": []
  },
  {
   "cell_type": "markdown",
   "id": "8bbefdf8-7d5d-4dfc-a3bd-3dc07fb583bd",
   "metadata": {},
   "source": [
    "## Rotate to ZNE"
   ]
  },
  {
   "cell_type": "code",
   "execution_count": null,
   "id": "d354ac1f-8d7d-4ca0-aad6-3e60a4543024",
   "metadata": {
    "tags": []
   },
   "outputs": [],
   "source": [
    "from functions.reduce import __reduce\n",
    "\n",
    "beatU['fj_reduced'] = __reduce(beatU['fj_smooth'], 600)\n",
    "beatV['fj_reduced'] = __reduce(beatV['fj_smooth'], 600)\n",
    "beatZ['fj_reduced'] = __reduce(beatZ['fj_smooth'], 600)"
   ]
  },
  {
   "cell_type": "code",
   "execution_count": null,
   "id": "e5ed782f-003c-4931-bcfe-c6e5f63160e5",
   "metadata": {
    "tags": []
   },
   "outputs": [],
   "source": [
    "beatU['fj_reduced_masked'] = beatU['fj_reduced'] * maskU\n",
    "beatV['fj_reduced_masked'] = beatV['fj_reduced'] * maskV\n",
    "beatZ['fj_reduced_masked'] = beatZ['fj_reduced'] * maskZ"
   ]
  },
  {
   "cell_type": "code",
   "execution_count": null,
   "id": "cb9dfcc4-d81f-4ddf-9224-2646c435d277",
   "metadata": {
    "tags": []
   },
   "outputs": [],
   "source": [
    "tr_beatU = Trace()\n",
    "tr_beatU.data = np.array(beatU.fj_reduced_masked)\n",
    "tr_beatU.stats.delta = 60\n",
    "tr_beatU.stats.starttime = UTCDateTime(str(beatU.times_utc.iloc[0]))\n",
    "tr_beatU.stats.network, tr_beatU.stats.station, tr_beatU.stats.channel = \"BW\", \"ROMY\", \"LJU\"\n",
    "# tr_beatU.plot();\n",
    "\n",
    "tr_beatV = Trace()\n",
    "tr_beatV.data = np.array(beatV.fj_reduced_masked)\n",
    "tr_beatV.stats.delta = 60\n",
    "tr_beatV.stats.starttime = UTCDateTime(str(beatV.times_utc.iloc[0]))\n",
    "tr_beatV.stats.network, tr_beatV.stats.station, tr_beatV.stats.channel = \"BW\", \"ROMY\", \"LJV\"\n",
    "# tr_beatV.plot();\n",
    "\n",
    "tr_beatZ = Trace()\n",
    "tr_beatZ.data = np.array(beatZ.fj_reduced_masked)\n",
    "tr_beatZ.stats.delta = 60\n",
    "tr_beatZ.stats.starttime = UTCDateTime(str(beatZ.times_utc.iloc[0]))\n",
    "tr_beatZ.stats.network, tr_beatZ.stats.station, tr_beatZ.stats.channel = \"BW\", \"ROMY\", \"LJZ\"\n",
    "# tr_beatZ.plot();\n",
    "\n",
    "st_beat = Stream(traces=[tr_beatU, tr_beatV, tr_beatZ])\n",
    "\n",
    "etime = min(st_beat[0].stats.endtime, st_beat[1].stats.endtime, st_beat[2].stats.endtime)\n",
    "st_beat = st_beat.trim(st_beat[0].stats.starttime, etime)\n",
    "\n",
    "st_beat"
   ]
  },
  {
   "cell_type": "code",
   "execution_count": null,
   "id": "33353cb1-e65a-4ce7-8202-885ac28753cd",
   "metadata": {
    "tags": []
   },
   "outputs": [],
   "source": [
    "from functions.rotate_romy_ZUV_ZNE import __rotate_romy_ZUV_ZNE"
   ]
  },
  {
   "cell_type": "code",
   "execution_count": null,
   "id": "bd796823-dde6-4844-a620-8eae8277f7ea",
   "metadata": {
    "tags": []
   },
   "outputs": [],
   "source": [
    "config['path_to_inventory'] = root_path+\"Documents/ROMY/stationxml_ringlaser/dataless/\"\n",
    "\n",
    "romy_inv = read_inventory(config['path_to_inventory']+\"dataless.seed.BW_ROMY\")\n",
    "\n",
    "st_beat_zne = __rotate_romy_ZUV_ZNE(st_beat, romy_inv)\n",
    "\n",
    "# st_beat_zne.plot();"
   ]
  },
  {
   "cell_type": "code",
   "execution_count": null,
   "id": "b186eff9-3c76-4148-beea-9cfb7f8f8acb",
   "metadata": {
    "tags": []
   },
   "outputs": [],
   "source": []
  },
  {
   "cell_type": "code",
   "execution_count": null,
   "id": "973056f8-d725-44cc-8f56-24ac66c2be5b",
   "metadata": {
    "tags": []
   },
   "outputs": [],
   "source": [
    "def __makeplot():\n",
    "\n",
    "    Nrow, Ncol = 2, 1\n",
    "\n",
    "    font = 12\n",
    "\n",
    "    ref_date = UTCDateTime(str(beatZ.times_utc.iloc[0])[:10])\n",
    "\n",
    "    time_scaling = 1\n",
    "    tilt_scaling = 1e6\n",
    "\n",
    "    fig, ax = plt.subplots(Nrow, Ncol, figsize=(15, 8), sharex=True)\n",
    "\n",
    "    ax[0].plot(beatZ.times_utc_sec*time_scaling, beatZ.fj_reduced, color=\"tab:blue\", label=f\"RZ (mov. avg. {n_minutes} min)\")\n",
    "    ax[0].plot(beatV.times_utc_sec*time_scaling, beatV.fj_reduced, color=\"tab:red\", label=f\"RV (mov. avg. {n_minutes} min)\")\n",
    "    ax[0].plot(beatU.times_utc_sec*time_scaling, beatU.fj_reduced, color=\"tab:green\", label=f\"RU (mov. avg. {n_minutes} min)\")\n",
    "\n",
    "    ax[0].ticklabel_format(useOffset=False)\n",
    "    ax[0].set_ylabel(\"$\\Delta f$ (Hz)\", fontsize=font)\n",
    "\n",
    "\n",
    "    # ax[1].plot(beatZ.times_utc_sec*time_scaling, beatZ.tilt_reduced*tilt_scaling, color=\"tab:blue\", label=f\"RZ (mov. avg. {n_minutes} min)\")\n",
    "    # ax[1].plot(beatV.times_utc_sec*time_scaling, beatV.tilt_reduced*tilt_scaling, color=\"tab:red\", label=f\"RV (mov. avg. {n_minutes} min)\")\n",
    "    # ax[1].plot(beatU.times_utc_sec*time_scaling, beatU.tilt_reduced*tilt_scaling, color=\"tab:green\", label=f\"RU (mov. avg. {n_minutes} min)\")\n",
    "\n",
    "    ax[1].plot(st_beat.select(channel=\"*Z\")[0].times(reftime=ref_date),\n",
    "               st_beat.select(channel=\"*Z\")[0].data,\n",
    "               color=\"black\", label=f\"RZ (mov. avg. {n_minutes} min)\")\n",
    "\n",
    "    ax[1].plot(st_beat_zne.select(channel=\"*Z\")[0].times(reftime=ref_date),\n",
    "               st_beat_zne.select(channel=\"*Z\")[0].data,\n",
    "               color=\"tab:blue\", label=f\"RZ (mov. avg. {n_minutes} min)\", ls=\"--\")\n",
    "    ax[1].plot(st_beat_zne.select(channel=\"*N\")[0].times(reftime=ref_date),\n",
    "               st_beat_zne.select(channel=\"*N\")[0].data,\n",
    "               color=\"tab:green\", label=f\"RN (mov. avg. {n_minutes} min)\", ls=\"--\")\n",
    "    ax[1].plot(st_beat_zne.select(channel=\"*E\")[0].times(reftime=ref_date),\n",
    "               st_beat_zne.select(channel=\"*E\")[0].data,\n",
    "               color=\"tab:red\", label=f\"RE (mov. avg. {n_minutes} min)\", ls=\"--\")\n",
    "\n",
    "\n",
    "    # ax[1].set_ylabel(\"N-S Tilt ($\\mu$rad)\", fontsize=font)\n",
    "    ax[1].set_ylabel(\"$\\Delta f$ (Hz)\", fontsize=font)\n",
    "\n",
    "    for _n in range(Nrow):\n",
    "        ax[_n].grid(ls=\":\", zorder=0)\n",
    "        ax[_n].legend(loc=1)\n",
    "\n",
    "    ax[0].set_ylim(-0.07, 0.07)\n",
    "    ax[0].set_ylim(-0.07, 0.07)\n",
    "\n",
    "    ## add dates to x-axis\n",
    "    tcks = ax[Nrow-1].get_xticks()\n",
    "    tcklbls = [f\"{UTCDateTime(UTCDateTime(ref_date)+t).date} \\n {UTCDateTime(UTCDateTime(ref_date)+t).time}\" for t in tcks]\n",
    "    ax[Nrow-1].set_xticklabels(tcklbls)\n",
    "\n",
    "    plt.show();\n",
    "    return fig\n",
    "\n",
    "fig = __makeplot();\n",
    "\n",
    "fig.savefig(config['path_to_figs']+f\"BeatDrift_Case{case}_smoothed_ZNE.png\", format=\"png\", dpi=150, bbox_inches='tight')\n"
   ]
  },
  {
   "cell_type": "markdown",
   "id": "cab35219-956c-489a-b8c3-d976b6905e38",
   "metadata": {},
   "source": [
    "## Tilt"
   ]
  },
  {
   "cell_type": "code",
   "execution_count": null,
   "id": "a3506d31-0fb2-4829-890d-c65b768663a1",
   "metadata": {
    "tags": []
   },
   "outputs": [],
   "source": [
    "from functions.sagnac_to_tilt import __sagnac_to_tilt"
   ]
  },
  {
   "cell_type": "code",
   "execution_count": null,
   "id": "6cc4fd78-9015-4a36-b71e-afdab19352bb",
   "metadata": {
    "tags": []
   },
   "outputs": [],
   "source": [
    "beatZ['tilt'] = __sagnac_to_tilt(beatZ['fj_reduced'], \"Z\", tilt='n-s')\n",
    "beatU['tilt'] = __sagnac_to_tilt(beatU['fj_reduced'], \"U\", tilt='n-s')\n",
    "beatV['tilt'] = __sagnac_to_tilt(beatV['fj_reduced'], \"V\", tilt='n-s')\n",
    "\n",
    "# beatZ['tilt'] = __sagnac_to_tilt(beatZ['fj_reduced'], \"Z\", tilt='e-w')\n",
    "# beatU['tilt'] = __sagnac_to_tilt(beatU['fj_reduced'], \"U\", tilt='e-w')\n",
    "# beatV['tilt'] = __sagnac_to_tilt(beatV['fj_reduced'], \"V\", tilt='e-w')\n",
    "\n",
    "beatU['tilt_reduced'] = beatU.tilt - np.nanmean(beatU.tilt.iloc[:1440])\n",
    "beatV['tilt_reduced'] = beatV.tilt - np.nanmean(beatV.tilt.iloc[:1440])\n",
    "beatZ['tilt_reduced'] = beatZ.tilt - np.nanmean(beatZ.tilt.iloc[:1440])"
   ]
  },
  {
   "cell_type": "code",
   "execution_count": null,
   "id": "d178cdab-8711-437f-a43e-ad1df372ed67",
   "metadata": {
    "tags": []
   },
   "outputs": [],
   "source": [
    "beatU['tilt_reduced_masked'] = beatU['tilt_reduced'] * maskU\n",
    "beatV['tilt_reduced_masked'] = beatV['tilt_reduced'] * maskV\n",
    "beatZ['tilt_reduced_masked'] = beatZ['tilt_reduced'] * maskZ"
   ]
  },
  {
   "cell_type": "code",
   "execution_count": null,
   "id": "2d7adc6b-d720-4247-b28a-fcd772c6dd3d",
   "metadata": {
    "tags": []
   },
   "outputs": [],
   "source": [
    "tr_beatU = Trace()\n",
    "tr_beatU.data = np.array(beatU.tilt_reduced_masked)\n",
    "tr_beatU.stats.delta = 60\n",
    "tr_beatU.stats.starttime = UTCDateTime(str(beatU.times_utc.iloc[0]))\n",
    "tr_beatU.stats.network, tr_beatU.stats.station, tr_beatU.stats.channel = \"BW\", \"ROMY\", \"LAU\"\n",
    "# tr_beatU.plot();\n",
    "\n",
    "tr_beatV = Trace()\n",
    "tr_beatV.data = np.array(beatV.tilt_reduced_masked)\n",
    "tr_beatV.stats.delta = 60\n",
    "tr_beatV.stats.starttime = UTCDateTime(str(beatV.times_utc.iloc[0]))\n",
    "tr_beatV.stats.network, tr_beatV.stats.station, tr_beatV.stats.channel = \"BW\", \"ROMY\", \"LAV\"\n",
    "# tr_beatV.plot();\n",
    "\n",
    "tr_beatZ = Trace()\n",
    "tr_beatZ.data = np.array(beatZ.tilt_reduced_masked)\n",
    "tr_beatZ.stats.delta = 60\n",
    "tr_beatZ.stats.starttime = UTCDateTime(str(beatZ.times_utc.iloc[0]))\n",
    "tr_beatZ.stats.network, tr_beatZ.stats.station, tr_beatZ.stats.channel = \"BW\", \"ROMY\", \"LAZ\"\n",
    "# tr_beatZ.plot();\n",
    "\n",
    "st_tilt = Stream(traces=[tr_beatU, tr_beatV, tr_beatZ])\n",
    "\n",
    "etime = min(st_tilt[0].stats.endtime, st_tilt[1].stats.endtime, st_tilt[2].stats.endtime)\n",
    "st_tilt = st_tilt.trim(st_tilt[0].stats.starttime, etime)\n",
    "\n",
    "# rotate to ZNE system\n",
    "# st_tilt = __rotate_romy_ZUV_ZNE(st_tilt, romy_inv)\n",
    "\n",
    "st_tilt"
   ]
  },
  {
   "cell_type": "code",
   "execution_count": null,
   "id": "2927c378-9802-4766-a5f0-20375245415f",
   "metadata": {
    "tags": []
   },
   "outputs": [],
   "source": [
    "def __makeplot_mlti():\n",
    "\n",
    "    Nrow, Ncol = 2, 1\n",
    "\n",
    "    font = 12\n",
    "\n",
    "    ref_date = UTCDateTime(str(beatZ.times_utc.iloc[0])[:10])\n",
    "\n",
    "    time_scaling = 1\n",
    "    tilt_scaling = 1e6\n",
    "\n",
    "    fig, ax = plt.subplots(Nrow, Ncol, figsize=(15, 8), sharex=True)\n",
    "\n",
    "    ax[0].plot(beatZ.times_utc_sec*time_scaling, beatZ.fj_reduced_masked, color=\"tab:blue\", label=f\"RZ (mov. avg. {n_minutes} min)\")\n",
    "    ax[0].plot(beatV.times_utc_sec*time_scaling, beatV.fj_reduced_masked, color=\"tab:red\", label=f\"RV (mov. avg. {n_minutes} min)\")\n",
    "    ax[0].plot(beatU.times_utc_sec*time_scaling, beatU.fj_reduced_masked, color=\"tab:green\", label=f\"RU (mov. avg. {n_minutes} min)\")\n",
    "\n",
    "    ax[0].ticklabel_format(useOffset=False)\n",
    "    ax[0].set_ylabel(\"$\\Delta f$ (Hz)\", fontsize=font)\n",
    "\n",
    "\n",
    "    ax[1].plot(beatU.times_utc_sec*time_scaling, mltiU_cumsum, color=\"tab:blue\")\n",
    "    ax[1].plot(beatV.times_utc_sec*time_scaling, mltiV_cumsum, color=\"tab:red\")\n",
    "    ax[1].plot(beatZ.times_utc_sec*time_scaling, mltiZ_cumsum, color=\"tab:green\")\n",
    "\n",
    "    ax[1].set_ylabel(\"Amount MLTI\", fontsize=font)\n",
    "\n",
    "    ax[1].set_yscale(\"log\")\n",
    "\n",
    "    for _n in range(Nrow):\n",
    "        ax[_n].grid(ls=\":\", zorder=0)\n",
    "        ax[_n].legend(loc=1)\n",
    "\n",
    "    ax[0].set_ylim(-0.07, 0.07)\n",
    "    ax[0].set_ylim(-0.07, 0.07)\n",
    "\n",
    "    # add dates to x-axis\n",
    "    tcks = ax[Nrow-1].get_xticks()\n",
    "    tcklbls = [str(UTCDateTime(ref_date+t).date) for t in tcks]\n",
    "    ax[Nrow-1].set_xticklabels(tcklbls)\n",
    "\n",
    "    plt.show();\n",
    "    return fig\n",
    "\n",
    "fig = __makeplot_mlti();\n",
    "\n",
    "fig.savefig(config['path_to_figs']+f\"BeatDrift_Case{case}_mlti.png\", format=\"png\", dpi=150, bbox_inches='tight')\n"
   ]
  },
  {
   "cell_type": "markdown",
   "id": "151b701e-16c1-4418-9d60-2f5c9471f33d",
   "metadata": {},
   "source": [
    "### load water level data"
   ]
  },
  {
   "cell_type": "code",
   "execution_count": null,
   "id": "31475ff1-b724-41ad-a0dc-b15c3bcd62c7",
   "metadata": {
    "tags": []
   },
   "outputs": [],
   "source": [
    "from functions.load_water_level import __load_water_level\n",
    "\n",
    "try:\n",
    "    # load data\n",
    "    pegel =  __load_water_level(config['tbeg'], config['tend'], path_to_data=root_path+\"lamont/Pegel/\")\n",
    "\n",
    "    # remove error measurements with nan\n",
    "    pegel['pegel'] = np.where(pegel.pegel <= 0, np.nan, pegel.pegel)\n",
    "\n",
    "except:\n",
    "    print(\" -> pegel not loaded\")\n"
   ]
  },
  {
   "cell_type": "markdown",
   "id": "e4b15ca0-dd2a-4396-9cca-f78686d1eef8",
   "metadata": {},
   "source": [
    "### load barometer data"
   ]
  },
  {
   "cell_type": "code",
   "execution_count": null,
   "id": "48363092-8483-4aba-837f-469a5e4014d4",
   "metadata": {
    "tags": []
   },
   "outputs": [],
   "source": [
    "from andbro__read_sds import __read_sds\n",
    "\n",
    "ffbi = __read_sds(archive_path+\"temp_archive/\", \"BW.FFBI.30.LDO\", config['tbeg'], config['tend'])\n"
   ]
  },
  {
   "cell_type": "code",
   "execution_count": null,
   "id": "31865548-4be7-4a66-a070-939fc52ffbb3",
   "metadata": {
    "tags": []
   },
   "outputs": [],
   "source": [
    "ffbi.merge(fill_value=\"interpolate\")"
   ]
  },
  {
   "cell_type": "markdown",
   "id": "e6069b32-468d-48cb-8a25-23ae4a55ec1e",
   "metadata": {
    "tags": []
   },
   "source": [
    "### Plotting"
   ]
  },
  {
   "cell_type": "code",
   "execution_count": null,
   "id": "2fe882df-f5e1-428d-828c-d296f5ee9488",
   "metadata": {
    "tags": []
   },
   "outputs": [],
   "source": [
    "def __makeplot_tilt_pegel():\n",
    "\n",
    "    Nrow, Ncol = 3, 1\n",
    "\n",
    "    font = 12\n",
    "\n",
    "    ref_date = UTCDateTime(str(beatZ.times_utc.iloc[0])[:10])\n",
    "\n",
    "    time_scaling = 1\n",
    "    tilt_scaling = 1e6\n",
    "\n",
    "    fig, ax = plt.subplots(Nrow, Ncol, figsize=(15, 8), sharex=True)\n",
    "\n",
    "    ax[0].plot(beatZ.times_utc_sec*time_scaling, beatZ.fj_reduced_masked, color=\"tab:blue\", label=f\"RZ (mov. avg. {n_minutes} min)\")\n",
    "    ax[0].plot(beatV.times_utc_sec*time_scaling, beatV.fj_reduced_masked, color=\"tab:red\", label=f\"RV (mov. avg. {n_minutes} min)\")\n",
    "    ax[0].plot(beatU.times_utc_sec*time_scaling, beatU.fj_reduced_masked, color=\"tab:green\", label=f\"RU (mov. avg. {n_minutes} min)\")\n",
    "\n",
    "    ax[0].ticklabel_format(useOffset=False)\n",
    "    ax[0].set_ylabel(\"$\\Delta$ f (Hz)\", fontsize=font)\n",
    "\n",
    "\n",
    "    ax[1].plot(st_tilt.select(channel=\"*Z\")[0].times(reftime=ref_date),\n",
    "               st_tilt.select(channel=\"*Z\")[0].data*tilt_scaling,\n",
    "               color=\"tab:blue\", label=f\"RZ (mov. avg. {n_minutes} min)\", ls=\"--\")\n",
    "    ax[1].plot(st_tilt.select(channel=\"*U\")[0].times(reftime=ref_date),\n",
    "               st_tilt.select(channel=\"*U\")[0].data*tilt_scaling,\n",
    "               color=\"tab:green\", label=f\"RU (mov. avg. {n_minutes} min)\", ls=\"--\")\n",
    "    ax[1].plot(st_tilt.select(channel=\"*V\")[0].times(reftime=ref_date),\n",
    "               st_tilt.select(channel=\"*V\")[0].data*tilt_scaling,\n",
    "               color=\"tab:red\", label=f\"RV (mov. avg. {n_minutes} min)\", ls=\"--\")\n",
    "\n",
    "\n",
    "    ax[2].plot(pegel.times_utc - UTCDateTime(ref_date), pegel.pegel, color=\"purple\", alpha=0.9, zorder=3)\n",
    "    ax[2].set_ylabel(f\"Water Level (m)\", fontsize=font)\n",
    "\n",
    "    ax[1].set_ylabel(\"N-S Tilt ($\\mu$rad)\", fontsize=font)\n",
    "    # ax[1].set_ylabel(\"$\\Delta f$ (Hz)\", fontsize=font)\n",
    "\n",
    "    for _n in range(Nrow):\n",
    "        ax[_n].grid(ls=\":\", zorder=0)\n",
    "        ax[_n].legend(loc=1)\n",
    "\n",
    "    ax[0].set_ylim(-0.07, 0.07)\n",
    "    ax[0].set_ylim(-0.07, 0.07)\n",
    "\n",
    "    for _k, ll in enumerate(['(a)', '(b)', '(c)']):\n",
    "        ax[_k].text(.005, .97, ll, ha='left', va='top', transform=ax[_k].transAxes, fontsize=font+2)\n",
    "\n",
    "    # add dates to x-axis\n",
    "    tcks = ax[Nrow-1].get_xticks()\n",
    "    tcklbls = [f\"{UTCDateTime(UTCDateTime(ref_date)+t).date} \\n {UTCDateTime(UTCDateTime(ref_date)+t).time}\" for t in tcks]\n",
    "    ax[Nrow-1].set_xticklabels(tcklbls)\n",
    "\n",
    "    plt.show();\n",
    "    return fig\n",
    "\n",
    "fig = __makeplot_tilt_pegel();\n",
    "\n",
    "fig.savefig(config['path_to_figs']+f\"BeatDrift_Case{case}_tilt_pegel.png\", format=\"png\", dpi=150, bbox_inches='tight')\n"
   ]
  },
  {
   "cell_type": "code",
   "execution_count": null,
   "id": "6c4052da-1a1c-4f28-af88-a0ab96fbab13",
   "metadata": {
    "tags": []
   },
   "outputs": [],
   "source": [
    "def __makeplot_tilt_pegel_baro():\n",
    "\n",
    "    Nrow, Ncol = 4, 1\n",
    "\n",
    "    font = 12\n",
    "\n",
    "    ref_date = UTCDateTime(str(beatZ.times_utc.iloc[0])[:10])\n",
    "\n",
    "    time_scaling = 1\n",
    "    tilt_scaling = 1e6\n",
    "\n",
    "    fig, ax = plt.subplots(Nrow, Ncol, figsize=(15, 10), sharex=True)\n",
    "\n",
    "    plt.subplots_adjust(hspace=0.1)\n",
    "\n",
    "    ax[0].plot(beatZ.times_utc_sec*time_scaling, beatZ.fj_reduced_masked, color=\"tab:blue\", label=f\"RZ\")\n",
    "    ax[0].plot(beatV.times_utc_sec*time_scaling, beatV.fj_reduced_masked, color=\"tab:red\", label=f\"RV\")\n",
    "    ax[0].plot(beatU.times_utc_sec*time_scaling, beatU.fj_reduced_masked, color=\"tab:green\", label=f\"RU\")\n",
    "\n",
    "    ax[0].ticklabel_format(useOffset=False)\n",
    "    ax[0].set_ylabel(\"$\\Delta$ f (Hz)\", fontsize=font)\n",
    "\n",
    "\n",
    "    ax[1].plot(st_tilt.select(channel=\"*Z\")[0].times(reftime=ref_date),\n",
    "               st_tilt.select(channel=\"*Z\")[0].data*tilt_scaling,\n",
    "               color=\"tab:blue\", label=f\"RZ\", ls=\"-\")\n",
    "    ax[1].plot(st_tilt.select(channel=\"*U\")[0].times(reftime=ref_date),\n",
    "               st_tilt.select(channel=\"*U\")[0].data*tilt_scaling,\n",
    "               color=\"tab:green\", label=f\"RU\", ls=\"-\")\n",
    "    ax[1].plot(st_tilt.select(channel=\"*V\")[0].times(reftime=ref_date),\n",
    "               st_tilt.select(channel=\"*V\")[0].data*tilt_scaling,\n",
    "               color=\"tab:red\", label=f\"RV\", ls=\"-\")\n",
    "\n",
    "\n",
    "    ax[2].plot(pegel.times_utc - UTCDateTime(ref_date), pegel.pegel,\n",
    "               label=\"water level\",\n",
    "               color=\"purple\", alpha=0.9, zorder=3)\n",
    "\n",
    "\n",
    "    ax[3].plot(ffbi.select(channel=\"*O\")[0].times(reftime=UTCDateTime(ref_date)),\n",
    "               ffbi.select(channel=\"*O\")[0].data*100,\n",
    "               label=f\"{ffbi.select(channel='*O')[0].stats.station}.{ffbi.select(channel='*O')[0].stats.channel}\",\n",
    "               color=\"tab:red\")\n",
    "\n",
    "    ax[1].set_ylabel(\"N-S Tilt ($\\mu$rad)\", fontsize=font)\n",
    "    ax[2].set_ylabel(f\"Water Level (m)\", fontsize=font)\n",
    "    ax[3].set_ylabel(f\"Air Pressure (hPa)\", fontsize=font)\n",
    "\n",
    "    for _n in range(Nrow):\n",
    "        ax[_n].grid(ls=\":\", zorder=0)\n",
    "        ax[_n].legend(loc=1)\n",
    "\n",
    "    ax[0].set_ylim(-0.07, 0.07)\n",
    "    ax[0].set_ylim(-0.07, 0.07)\n",
    "\n",
    "    for _k, ll in enumerate(['(a)', '(b)', '(c)', '(d)']):\n",
    "        ax[_k].text(.005, .97, ll, ha='left', va='top', transform=ax[_k].transAxes, fontsize=font+2)\n",
    "\n",
    "\n",
    "    ax[0].set_title(f\"mov. avg. {n_minutes} min\")\n",
    "\n",
    "    # add dates to x-axis\n",
    "    tcks = ax[Nrow-1].get_xticks()\n",
    "    tcklbls = [f\"{UTCDateTime(UTCDateTime(ref_date)+t).date} \\n {UTCDateTime(UTCDateTime(ref_date)+t).time}\" for t in tcks]\n",
    "    ax[Nrow-1].set_xticklabels(tcklbls)\n",
    "\n",
    "    plt.show();\n",
    "    return fig\n",
    "\n",
    "fig = __makeplot_tilt_pegel_baro();\n",
    "\n",
    "fig.savefig(config['path_to_figs']+f\"BeatDrift_Case{case}_tilt_pegel_baro.png\", format=\"png\", dpi=150, bbox_inches='tight')\n"
   ]
  },
  {
   "cell_type": "code",
   "execution_count": null,
   "id": "d4d6ad14-bce6-4408-9cc7-b899b160157d",
   "metadata": {
    "tags": []
   },
   "outputs": [],
   "source": [
    "def __makeplot_tilt_pegel_baro():\n",
    "\n",
    "    Nrow, Ncol = 5, 1\n",
    "\n",
    "    font = 12\n",
    "\n",
    "    ref_date = UTCDateTime(str(beatZ.times_utc.iloc[0])[:10])\n",
    "\n",
    "    time_scaling = 1\n",
    "    tilt_scaling = 1e6\n",
    "\n",
    "    fig, ax = plt.subplots(Nrow, Ncol, figsize=(15, 10), sharex=True)\n",
    "\n",
    "    plt.subplots_adjust(hspace=0.1)\n",
    "\n",
    "    ax[0].plot(beatZ.times_utc_sec*time_scaling, beatZ.fj_reduced_masked, color=\"tab:blue\", label=f\"RZ\")\n",
    "    ax[0].plot(beatV.times_utc_sec*time_scaling, beatV.fj_reduced_masked, color=\"tab:red\", label=f\"RV\")\n",
    "    ax[0].plot(beatU.times_utc_sec*time_scaling, beatU.fj_reduced_masked, color=\"tab:green\", label=f\"RU\")\n",
    "\n",
    "    ax[0].ticklabel_format(useOffset=False)\n",
    "    ax[0].set_ylabel(\"$\\Delta$f (Hz)\", fontsize=font)\n",
    "\n",
    "\n",
    "    ax[1].plot(st_tilt.select(channel=\"*Z\")[0].times(reftime=ref_date),\n",
    "               st_tilt.select(channel=\"*Z\")[0].data*tilt_scaling,\n",
    "               color=\"tab:blue\", label=f\"RZ\", ls=\"-\")\n",
    "    ax[1].plot(st_tilt.select(channel=\"*U\")[0].times(reftime=ref_date),\n",
    "               st_tilt.select(channel=\"*U\")[0].data*tilt_scaling,\n",
    "               color=\"tab:green\", label=f\"RU\", ls=\"-\")\n",
    "    ax[1].plot(st_tilt.select(channel=\"*V\")[0].times(reftime=ref_date),\n",
    "               st_tilt.select(channel=\"*V\")[0].data*tilt_scaling,\n",
    "               color=\"tab:red\", label=f\"RV\", ls=\"-\")\n",
    "\n",
    "\n",
    "    ax[2].plot(pegel.times_utc - UTCDateTime(ref_date), pegel.pegel,\n",
    "               label=\"water level\",\n",
    "               color=\"purple\", alpha=0.9, zorder=3)\n",
    "\n",
    "\n",
    "    # ax[3].plot(ffbi.select(channel=\"*O\")[0].times(reftime=UTCDateTime(ref_date)),\n",
    "    #            ffbi.select(channel=\"*O\")[0].data*100,\n",
    "    #            label=f\"{ffbi.select(channel='*O')[0].stats.station}.{ffbi.select(channel='*O')[0].stats.channel}\",\n",
    "    #            color=\"tab:red\")\n",
    "\n",
    "\n",
    "    ax[4].plot(beatU.times_utc_sec*time_scaling, mltiU_cumsum, color=\"tab:blue\", label=f\"RZ ({int(mltiZ_cumsum[-1])})\")\n",
    "    ax[4].plot(beatV.times_utc_sec*time_scaling, mltiV_cumsum, color=\"tab:red\", label=f\"RV ({int(mltiV_cumsum[-1])})\")\n",
    "    ax[4].plot(beatZ.times_utc_sec*time_scaling, mltiZ_cumsum, color=\"tab:green\", label=f\"RU ({int(mltiU_cumsum[-1])})\")\n",
    "\n",
    "    ax[4].set_yscale(\"log\")\n",
    "\n",
    "\n",
    "    ax[1].set_ylabel(\"N-S Tilt ($\\mu$rad)\", fontsize=font)\n",
    "    ax[2].set_ylabel(f\"Water Level (m)\", fontsize=font)\n",
    "    ax[3].set_ylabel(f\"Air Pressure (hPa)\", fontsize=font)\n",
    "    ax[4].set_ylabel(\"Cumulative MLTI\", fontsize=font)\n",
    "\n",
    "    for _n in range(Nrow):\n",
    "        ax[_n].grid(ls=\":\", zorder=0)\n",
    "        ax[_n].legend(loc=1)\n",
    "\n",
    "    ax[4].legend(loc=4)\n",
    "\n",
    "    ax[0].set_ylim(-0.07, 0.07)\n",
    "    ax[0].set_ylim(-0.07, 0.07)\n",
    "\n",
    "    for _k, ll in enumerate(['(a)', '(b)', '(c)', '(d)']):\n",
    "        ax[_k].text(.005, .97, ll, ha='left', va='top', transform=ax[_k].transAxes, fontsize=font+2)\n",
    "\n",
    "\n",
    "    ax[0].set_title(f\"mov. avg. {n_minutes} min\")\n",
    "\n",
    "    # add dates to x-axis\n",
    "    tcks = ax[Nrow-1].get_xticks()\n",
    "    tcklbls = [f\"{UTCDateTime(UTCDateTime(ref_date)+t).date} \\n {UTCDateTime(UTCDateTime(ref_date)+t).time}\" for t in tcks]\n",
    "    ax[Nrow-1].set_xticklabels(tcklbls)\n",
    "\n",
    "    plt.show();\n",
    "    return fig\n",
    "\n",
    "fig = __makeplot_tilt_pegel_baro();\n",
    "\n",
    "fig.savefig(config['path_to_figs']+f\"BeatDrift_Case{case}_tilt_pegel_baro_mlti.png\", format=\"png\", dpi=150, bbox_inches='tight')\n"
   ]
  },
  {
   "cell_type": "code",
   "execution_count": null,
   "id": "42f43b0a-bbc8-4014-8b87-a42bf4a00610",
   "metadata": {},
   "outputs": [],
   "source": []
  },
  {
   "cell_type": "code",
   "execution_count": null,
   "id": "aaf9475a-05d8-4e50-a027-c5aa4ce93654",
   "metadata": {},
   "outputs": [],
   "source": []
  },
  {
   "cell_type": "code",
   "execution_count": null,
   "id": "2ef758e8-4059-43bd-8b3c-9469e1d4d4fb",
   "metadata": {
    "tags": []
   },
   "outputs": [],
   "source": [
    "def __sagnac_to_rads(data, ring):\n",
    "\n",
    "    from numpy import pi, sqrt, arccos, deg2rad, sin, cos\n",
    "\n",
    "    dip = {\"Z\":0, \"U\":109.5, \"V\":70.5, \"W\":70.5}\n",
    "\n",
    "    L = {\"Z\":11.2, \"U\":12, \"V\":12, \"W\":12}\n",
    "\n",
    "    ## Scale factor\n",
    "    S = (sqrt(3)*L[ring])/(3*632.8e-9)\n",
    "\n",
    "    ## ROMY latitude\n",
    "    lat = 48.162941\n",
    "\n",
    "    ## nominal Earth rotation\n",
    "    omegaE = 2*pi/86400\n",
    "\n",
    "    return data /S /sin(deg2rad(lat+dip[ring]))"
   ]
  },
  {
   "cell_type": "code",
   "execution_count": null,
   "id": "01e544b3-1134-4c77-9b4a-f9caeaefc7ed",
   "metadata": {
    "tags": []
   },
   "outputs": [],
   "source": [
    "np.cos(109.5), np.sin(109.5-90)"
   ]
  },
  {
   "cell_type": "code",
   "execution_count": null,
   "id": "0a7b1c2a-d91b-4c0f-9f17-1eb930bb9736",
   "metadata": {
    "tags": []
   },
   "outputs": [],
   "source": [
    "\n",
    "st_rad = st_beat.copy()\n",
    "\n",
    "for tr in st_rad:\n",
    "    tr.data = __sagnac_to_rads(tr.data, tr.stats.channel[-1])\n",
    "    tr.data = __interpolate_nan(tr.data)\n",
    "\n",
    "\n",
    "st_rad = st_rad.integrate(method='cumtrapz')\n",
    "# st_rad = st_rad.integrate(method='spline')\n",
    "\n",
    "# import scipy.integrate as integrate\n",
    "# for tr in st_rad:\n",
    "#     tr.data = integrate.quad(tr.data, 0, len(tr.data))\n",
    "\n",
    "st_rad = __rotate_romy_ZUV_ZNE(st_rad, romy_inv)\n",
    "\n",
    "\n",
    "# st_rad.plot(equal_scale=False)"
   ]
  },
  {
   "cell_type": "code",
   "execution_count": null,
   "id": "1374e032-4887-4f5e-aacc-53214e042353",
   "metadata": {
    "tags": []
   },
   "outputs": [],
   "source": [
    "def __makeplot():\n",
    "\n",
    "    Nrow, Ncol = 2, 1\n",
    "\n",
    "    font = 12\n",
    "\n",
    "    ref_date = UTCDateTime(str(beatZ.times_utc.iloc[0])[:10])\n",
    "\n",
    "    time_scaling = 1\n",
    "    tilt_scaling = 1e6\n",
    "\n",
    "    fig, ax = plt.subplots(Nrow, Ncol, figsize=(15, 8), sharex=True)\n",
    "\n",
    "    ax[0].plot(st_beat.select(channel=\"*Z\")[0].times()*time_scaling,\n",
    "               st_beat.select(channel=\"*Z\")[0].data,\n",
    "               color=\"tab:blue\", label=f\"RZ (mov. avg. {n_minutes} min)\")\n",
    "    ax[0].plot(st_beat.select(channel=\"*V\")[0].times()*time_scaling,\n",
    "               st_beat.select(channel=\"*V\")[0].data,\n",
    "               color=\"tab:red\", label=f\"RV (mov. avg. {n_minutes} min)\")\n",
    "    ax[0].plot(st_beat.select(channel=\"*U\")[0].times()*time_scaling,\n",
    "               st_beat.select(channel=\"*U\")[0].data,\n",
    "               color=\"tab:green\", label=f\"RU (mov. avg. {n_minutes} min)\")\n",
    "\n",
    "    ax[0].ticklabel_format(useOffset=False)\n",
    "    ax[0].set_ylabel(\"$\\Delta$f (Hz)\", fontsize=font)\n",
    "\n",
    "\n",
    "    ax[1].plot(st_rad.select(channel=\"*Z\")[0].times()*time_scaling,\n",
    "               st_rad.select(channel=\"*Z\")[0].data*tilt_scaling,\n",
    "               color=\"tab:blue\", label=f\"RZ\")\n",
    "    ax[1].plot(st_rad.select(channel=\"*N\")[0].times()*time_scaling,\n",
    "               st_rad.select(channel=\"*N\")[0].data*tilt_scaling,\n",
    "               color=\"tab:green\", label=f\"RN \")\n",
    "    ax[1].plot(st_rad.select(channel=\"*E\")[0].times()*time_scaling,\n",
    "               st_rad.select(channel=\"*E\")[0].data*tilt_scaling,\n",
    "               color=\"tab:red\", label=f\"RE\")\n",
    "\n",
    "\n",
    "    ax[1].set_ylabel(\"$\\Delta f$ (Hz)\", fontsize=font)\n",
    "    ax[1].set_ylabel(\"Tilt ($\\mu$rad)\", fontsize=font)\n",
    "\n",
    "    for _n in range(Nrow):\n",
    "        ax[_n].grid(ls=\":\", zorder=0)\n",
    "        ax[_n].legend(loc=1)\n",
    "\n",
    "    ax[0].set_ylim(-0.07, 0.07)\n",
    "    ax[0].set_ylim(-0.07, 0.07)\n",
    "\n",
    "    ## add dates to x-axis\n",
    "    tcks = ax[Nrow-1].get_xticks()\n",
    "    tcklbls = [str(UTCDateTime(ref_date+t).date) for t in tcks]\n",
    "    ax[Nrow-1].set_xticklabels(tcklbls)\n",
    "\n",
    "    plt.show();\n",
    "    return fig\n",
    "\n",
    "fig = __makeplot();\n",
    "\n",
    "fig.savefig(config['path_to_figs']+f\"BeatDrift_Case{case}_smoothed_asTilt.png\", format=\"png\", dpi=150, bbox_inches='tight')\n"
   ]
  },
  {
   "cell_type": "code",
   "execution_count": null,
   "id": "42daaae7-fdc0-42b8-88e4-5344113a2119",
   "metadata": {
    "tags": []
   },
   "outputs": [],
   "source": [
    "st_rad"
   ]
  },
  {
   "cell_type": "code",
   "execution_count": null,
   "id": "c2a367ad-ea64-4114-b9cc-b471ce0c9490",
   "metadata": {
    "tags": []
   },
   "outputs": [],
   "source": [
    "def __get_vector_movement(N, E, Twin=3600, ref_date=None, plot=False):\n",
    "\n",
    "    from numpy import median, sqrt, arctan, degrees, mod, array, append, rad2deg, nan, ma, deg2rad\n",
    "\n",
    "    dt = N[0].stats.delta\n",
    "    t1 = 0\n",
    "\n",
    "    Ndata = N[0].data\n",
    "    Edata = E[0].data\n",
    "\n",
    "    if ma.is_masked(Ndata):\n",
    "        Ndata = ma.filled(Ndata, fill_value=nan)\n",
    "    if ma.is_masked(Edata):\n",
    "        Edata = ma.filled(Edata, fill_value=nan)\n",
    "\n",
    "    vnorm, vdir, timeline = [], [], []\n",
    "    while (t1 + Twin) < N[0].stats.npts*dt:\n",
    "\n",
    "        Nmed = median(Ndata[int(t1/dt):int((t1+Twin)/dt)])\n",
    "        Emed = median(Edata[int(t1/dt):int((t1+Twin)/dt)])\n",
    "\n",
    "\n",
    "        vnorm.append(sqrt(Nmed**2 + Emed**2))\n",
    "\n",
    "        if Nmed > 0 and Emed > 0:\n",
    "            vdir.append(90-abs(rad2deg(arctan(abs(Nmed/Emed)))))\n",
    "\n",
    "        elif Nmed < 0 and Emed > 0:\n",
    "            vdir.append(90+abs(rad2deg(arctan(abs(Nmed/Emed)))))\n",
    "\n",
    "        elif Nmed < 0 and Emed < 0:\n",
    "            vdir.append(270-abs(rad2deg(arctan(abs(Nmed/Emed)))))\n",
    "\n",
    "        elif Nmed > 0 and Emed < 0:\n",
    "            vdir.append(270+abs(rad2deg(arctan(abs(Nmed/Emed)))))\n",
    "\n",
    "        else:\n",
    "            vdir.append(nan)\n",
    "\n",
    "        t1 += Twin/2\n",
    "\n",
    "        timeline.append(t1)\n",
    "\n",
    "    if ref_date:\n",
    "        time_offset = abs(UTCDateTime(ref_date) - N[0].stats.starttime)\n",
    "    else:\n",
    "        time_offset = 0\n",
    "\n",
    "    vnorm = array(vnorm)\n",
    "    vdir = array(vdir)\n",
    "    timeline = (array(timeline) + time_offset)/3600 ## in hours\n",
    "\n",
    "\n",
    "    ## Plotting ------------------------------------\n",
    "    if plot:\n",
    "\n",
    "        from numpy import deg2rad, arange, linspace\n",
    "        import matplotlib.pyplot as plt\n",
    "\n",
    "        vnorm = vnorm\n",
    "        vdirection = vdir\n",
    "\n",
    "        ## times to days\n",
    "        times = timeline /24\n",
    "\n",
    "        time_min = min(times)\n",
    "        time_max = max(times)\n",
    "\n",
    "        ## Plot --------------------------------------------------------------------------\n",
    "        fig, ax = plt.subplots(1, 1, subplot_kw=dict(projection='polar'), figsize=(5, 5))\n",
    "\n",
    "        font = 12\n",
    "\n",
    "        cmap = plt.get_cmap('viridis')\n",
    "\n",
    "        vscaling, vunit = 1e3, \"mrad\"\n",
    "\n",
    "        ## convert degrees to radians for plotting as polar!\n",
    "        p0 = ax.scatter(deg2rad(vdirection), vnorm*vscaling, c=times, cmap=cmap,\n",
    "                        vmin=time_min, vmax=time_max, alpha=0.75, s=4, zorder=2)\n",
    "\n",
    "        cbar = plt.colorbar(p0, ax=ax,  pad=0.1, orientation='vertical', fraction=0.1, shrink=.8)\n",
    "\n",
    "        if ref_date:\n",
    "            cbar.set_label('Time (days)', rotation=90, fontsize=font, labelpad=10)\n",
    "        else:\n",
    "            cbar.set_label(f'Time from {ref_date} (days)', rotation=90, fontsize=font, labelpad=10)\n",
    "\n",
    "        ## set new colorbar ticks\n",
    "        # ref_time = config['tbeg']\n",
    "        # nticks = [str((ref_time+time_min+t*86400).date) for t in cbar.get_ticks()]\n",
    "        # cbar.set_ticklabels(nticks)\n",
    "\n",
    "        vmax = round(max(vnorm*vscaling) * 1.1, 0)\n",
    "\n",
    "        ax.set_ylim(0, vmax)\n",
    "        ax.set_theta_zero_location('N')\n",
    "        ax.set_theta_direction(-1)\n",
    "\n",
    "        ax.text(deg2rad(25), vmax*1.2, f\"({vunit})\")\n",
    "        ax.set_rgrids(linspace(0., vmax, 5), angle=25., zorder=0)\n",
    "\n",
    "        ax.set_title(\"Tilt of ROMY structure\", fontsize=font)\n",
    "\n",
    "        plt.show();\n",
    "\n",
    "    return timeline, vdir, vnorm"
   ]
  },
  {
   "cell_type": "code",
   "execution_count": null,
   "id": "e315e1a0-86b6-4c53-a788-68239799590a",
   "metadata": {
    "tags": []
   },
   "outputs": [],
   "source": [
    "def __makeplot_normal_vector_movement(times, vdirection, vnorm, ref_date=None):\n",
    "\n",
    "    from numpy import deg2rad, arange, linspace\n",
    "    import matplotlib.pyplot as plt\n",
    "\n",
    "    ## times to days\n",
    "    times = times /24\n",
    "\n",
    "    time_min = min(times)\n",
    "    time_max = max(times)\n",
    "\n",
    "    ## Plot --------------------------------------------------------------------------\n",
    "    fig, ax = plt.subplots(1, 1, subplot_kw=dict(projection='polar'), figsize=(5, 5))\n",
    "\n",
    "    font = 12\n",
    "\n",
    "    cmap = plt.get_cmap('viridis')\n",
    "\n",
    "    vscaling, vunit = 1e3, \"mrad\"\n",
    "\n",
    "    ## convert degrees to radians for plotting as polar!\n",
    "    p0 = ax.scatter(deg2rad(vdirection), vnorm*vscaling, c=times, cmap=cmap,\n",
    "                    vmin=time_min, vmax=time_max, alpha=0.75, s=4, zorder=2)\n",
    "\n",
    "    cbar = plt.colorbar(p0, ax=ax,  pad=0.1, orientation='vertical', fraction=0.1, shrink=.8)\n",
    "\n",
    "    if ref_date is not None:\n",
    "        cbar.set_label('Time (days)', rotation=90, fontsize=font, labelpad=10)\n",
    "    else:\n",
    "        cbar.set_label(f'Time from {ref_date} (days)', rotation=90, fontsize=font, labelpad=10)\n",
    "\n",
    "    ## set new colorbar ticks\n",
    "    # ref_time = config['tbeg']\n",
    "    # nticks = [str((ref_time+time_min+t*86400).date) for t in cbar.get_ticks()]\n",
    "    # cbar.set_ticklabels(nticks)\n",
    "\n",
    "    vmax = round(max(vnorm*vscaling) * 1.1, 0)\n",
    "\n",
    "    ax.set_ylim(0, vmax)\n",
    "    ax.set_theta_zero_location('N')\n",
    "    ax.set_theta_direction(-1)\n",
    "\n",
    "    ax.text(deg2rad(25), vmax*1.2, f\"({vunit})\")\n",
    "    ax.set_rgrids(linspace(0., vmax, 5), angle=25., zorder=0)\n",
    "\n",
    "    ax.set_title(\"Tilt of ROMY structure\", fontsize=font)\n",
    "\n",
    "    plt.show();\n",
    "    return fig"
   ]
  },
  {
   "cell_type": "code",
   "execution_count": null,
   "id": "d8a7aaed-f616-4d32-bdb6-838ca633bccc",
   "metadata": {
    "tags": []
   },
   "outputs": [],
   "source": [
    "twindow = 3600  ## seconds\n",
    "\n",
    "ttimes, vector_direction, vector_norm = __get_vector_movement(st_rad.select(channel=\"*N\"),\n",
    "                                                              st_rad.select(channel=\"*E\"),\n",
    "                                                              Twin=twindow,\n",
    "                                                              plot=False,\n",
    "                                                              )\n"
   ]
  },
  {
   "cell_type": "code",
   "execution_count": null,
   "id": "a33449c4-7229-49a5-8a8e-6a5c0d2fc335",
   "metadata": {
    "tags": []
   },
   "outputs": [],
   "source": [
    "\n",
    "fig = __makeplot_normal_vector_movement(ttimes, vector_direction, vector_norm, ref_date=st_rad[0].stats.starttime.date)\n",
    "\n",
    "# fig.savefig(config['path_to_figs']+f\"BeatDrift_Case{case}_vector_movement.png\", format=\"png\", dpi=150, bbox_inches='tight')\n"
   ]
  },
  {
   "cell_type": "markdown",
   "id": "82d6c8a6-bfe3-495d-8b7e-c3ace6889d19",
   "metadata": {
    "tags": []
   },
   "source": [
    "## Tides"
   ]
  },
  {
   "cell_type": "code",
   "execution_count": null,
   "id": "39fc595a-d39f-4adc-9985-72418627d390",
   "metadata": {
    "tags": []
   },
   "outputs": [],
   "source": [
    "st_beat_zne_tide = st_beat_zne.copy();\n",
    "\n",
    "for tr in st_beat_zne_tide:\n",
    "    tr.data = __interpolate_nan(tr.data)\n",
    "\n",
    "## daily\n",
    "# f1 = 1/(25*3600)\n",
    "# f2 = 1/(23*3600)\n",
    "\n",
    "## sub-daily\n",
    "f1 = 1/(13*3600)\n",
    "f2 = 1/(11*3600)\n",
    "\n",
    "st_beat_zne_tide.detrend(\"linear\")\n",
    "st_beat_zne_tide.taper(0.1)\n",
    "st_beat_zne_tide.filter(\"bandpass\", freqmin=f1, freqmax=f2, corners=4, zerophase=True)\n",
    "\n",
    "st_beat_zne_tide.plot(equal_scale=False);\n"
   ]
  },
  {
   "cell_type": "markdown",
   "id": "58348741-b954-41d0-9a7b-8ec302ecddb5",
   "metadata": {},
   "source": [
    "### Load Tilt Data"
   ]
  },
  {
   "cell_type": "code",
   "execution_count": null,
   "id": "2ed496b4-edd0-4061-b1e2-485b7034c5f5",
   "metadata": {
    "tags": []
   },
   "outputs": [],
   "source": [
    "from andbro__read_sds import __read_sds\n",
    "from andbro__readYaml import __readYaml\n",
    "from functions.conversion_to_tilt import __conversion_to_tilt"
   ]
  },
  {
   "cell_type": "code",
   "execution_count": null,
   "id": "3e07ce94-ed5a-40db-8bc8-70897bca1add",
   "metadata": {
    "tags": []
   },
   "outputs": [],
   "source": [
    "path_to_tilt = data_path+\"TiltmeterDataBackup/Tilt_downsampled/\"\n",
    "path_to_tilt = archive_path+\"romy_archive/\"\n",
    "\n",
    "# sta, cha, name = \"TROMY\", \"MA\", \"TROMY\"\n",
    "sta, cha, name = \"DROMY\", \"LA\", \"BROMY\"\n",
    "\n",
    "tilt =  __read_sds(path_to_tilt, f\"BW.{sta}..{cha}T\", config['tbeg']-600, config['tend']+600)\n",
    "tilt += __read_sds(path_to_tilt, f\"BW.{sta}..{cha}N\", config['tbeg']-600, config['tend']+600)\n",
    "tilt += __read_sds(path_to_tilt, f\"BW.{sta}..{cha}E\", config['tbeg']-600, config['tend']+600)\n",
    "\n",
    "## tiltmeter configurations\n",
    "confTilt = __readYaml(root_path+\"Documents/ROMY/tiltmeter/\", \"tiltmeter.conf\")\n",
    "\n",
    "tilt = __conversion_to_tilt(tilt, confTilt[f'{name}'])\n",
    "\n",
    "tilt = tilt.trim(config['tbeg'], config['tend'])\n",
    "\n",
    "tilt.plot(equal_scale=False);\n",
    "\n",
    "gc.collect();"
   ]
  },
  {
   "cell_type": "code",
   "execution_count": null,
   "id": "7bd79f50-749d-4d9c-80da-548eb226dc7d",
   "metadata": {
    "tags": []
   },
   "outputs": [],
   "source": [
    "tides = Stream()\n",
    "\n",
    "tides += st_rad.copy()\n",
    "tides += tilt.copy()\n",
    "\n",
    "tides = tides.resample(0.005, no_filter=False);\n",
    "\n",
    "# f1, f2 = 1/(15*3600), 1/(11*3600)\n",
    "# f1, f2 = 1/(25*3600), 1/(23*3600)\n",
    "\n",
    "# tides = tides.detrend(\"simple\")\n",
    "# tides = tides.taper(0.01)\n",
    "# tides = tides.filter(\"bandpass\", freqmin=f1, freqmax=f2, corners=4, zerophase=True)\n",
    "\n",
    "# tides.merge();\n",
    "\n",
    "tides.plot(equal_scale=False);"
   ]
  },
  {
   "cell_type": "code",
   "execution_count": null,
   "id": "c3d6a5af-2299-4e4f-a66e-05e30f7850eb",
   "metadata": {
    "tags": []
   },
   "outputs": [],
   "source": [
    "def __makeplot_tides():\n",
    "\n",
    "\n",
    "    f1_subdaily, f2_subdaily = 1/(13*3600), 1/(11*3600)\n",
    "\n",
    "    f1_daily, f2_daily = 1/(25*3600), 1/(23*3600)\n",
    "\n",
    "    _detrend=\"simple\"\n",
    "    _taper = 0.05\n",
    "    corners = 2\n",
    "\n",
    "    tiltmeter=\"TROMY\"\n",
    "\n",
    "    tides_daily = tides.copy()\n",
    "    tides_daily = tides_daily.detrend(_detrend)\n",
    "    tides_daily = tides_daily.taper(_taper, type=\"cosine\")\n",
    "    tides_daily = tides_daily.filter(\"bandpass\", freqmin=f1_daily, freqmax=f2_daily, corners=corners, zerophase=False)\n",
    "    # tides_daily = tides_daily.filter(\"bandpass\", freqmin=f1_daily, freqmax=f2_daily, corners=corners, zerophase=True)\n",
    "\n",
    "    tides_subdaily = tides.copy()\n",
    "    tides_subdaily = tides_subdaily.detrend(_detrend)\n",
    "    tides_subdaily = tides_subdaily.taper(_taper, type=\"cosine\")\n",
    "    tides_subdaily = tides_subdaily.filter(\"bandpass\", freqmin=f1_subdaily, freqmax=f2_subdaily, corners=corners, zerophase=False)\n",
    "    # tides_subdaily = tides_subdaily.filter(\"bandpass\", freqmin=f1_subdaily, freqmax=f2_subdaily, corners=corners, zerophase=True)\n",
    "\n",
    "\n",
    "    Nrow, Ncol = 2, 2\n",
    "\n",
    "    font = 12\n",
    "\n",
    "    time_scaling, time_unit = 1/86400, \"days\"\n",
    "    tilt_scaling, tilt_unit = 1e9, \"nrad\"\n",
    "\n",
    "    ref_time = config['tbeg']-86400\n",
    "\n",
    "    fig, ax = plt.subplots(Nrow, Ncol, figsize=(15, 8), sharex=True)\n",
    "\n",
    "    plt.subplots_adjust(hspace=0.1)\n",
    "\n",
    "    ax[0,0].plot(tides_subdaily.select(station=tiltmeter, channel=\"*N\")[0].times(reftime=ref_time)*time_scaling,\n",
    "                 tides_subdaily.select(station=tiltmeter, channel=\"*N\")[0].data*tilt_scaling,\n",
    "                 color=\"black\", label=f\"N-S {tiltmeter}\", lw=1)\n",
    "\n",
    "    ax[1,0].plot(tides_subdaily.select(station=tiltmeter, channel=\"*E\")[0].times(reftime=ref_time)*time_scaling,\n",
    "                 tides_subdaily.select(station=tiltmeter, channel=\"*E\")[0].data*tilt_scaling,\n",
    "                 color=\"black\", label=f\"E-W {tiltmeter}\", lw=1)\n",
    "\n",
    "    ax[0,1].plot(tides_daily.select(station=tiltmeter, channel=\"*N\")[0].times(reftime=ref_time)*time_scaling,\n",
    "                 tides_daily.select(station=tiltmeter, channel=\"*N\")[0].data*tilt_scaling,\n",
    "                 color=\"black\", label=f\"N-S {tiltmeter}\", lw=1)\n",
    "\n",
    "    ax[1,1].plot(tides_daily.select(station=tiltmeter, channel=\"*E\")[0].times(reftime=ref_time)*time_scaling,\n",
    "                 tides_daily.select(station=tiltmeter, channel=\"*E\")[0].data*tilt_scaling,\n",
    "                 color=\"black\", label=f\"E-W {tiltmeter}\", lw=1)\n",
    "\n",
    "    ax00 = ax[0,0].twinx()\n",
    "    ax10 = ax[1,0].twinx()\n",
    "    ax01 = ax[0,1].twinx()\n",
    "    ax11 = ax[1,1].twinx()\n",
    "\n",
    "\n",
    "    ax00.plot(tides_subdaily.select(station=\"ROMY\", channel=\"*N\")[0].times(reftime=ref_time)*time_scaling,\n",
    "                 tides_subdaily.select(station=\"ROMY\", channel=\"*N\")[0].data*tilt_scaling,\n",
    "                 color=\"darkred\", label=\"N-S (ring)\", lw=1)\n",
    "\n",
    "    ax10.plot(tides_subdaily.select(station=\"ROMY\", channel=\"*E\")[0].times(reftime=ref_time)*time_scaling,\n",
    "                 tides_subdaily.select(station=\"ROMY\", channel=\"*E\")[0].data*tilt_scaling,\n",
    "                 color=\"darkred\", label=\"E-W (ring)\", lw=1)\n",
    "\n",
    "    ax01.plot(tides_daily.select(station=\"ROMY\", channel=\"*N\")[0].times(reftime=ref_time)*time_scaling,\n",
    "                 tides_daily.select(station=\"ROMY\", channel=\"*N\")[0].data*tilt_scaling,\n",
    "                 color=\"darkred\", label=\"N-S (ring)\", lw=1)\n",
    "\n",
    "    ax11.plot(tides_daily.select(station=\"ROMY\", channel=\"*E\")[0].times(reftime=ref_time)*time_scaling,\n",
    "                 tides_daily.select(station=\"ROMY\", channel=\"*E\")[0].data*tilt_scaling,\n",
    "                 color=\"darkred\", label=\"E-W (ring)\", lw=1)\n",
    "\n",
    "\n",
    "    ax[0,0].set_ylabel(f\"Tilt ({tilt_unit})\", fontsize=font)\n",
    "    ax[1,0].set_ylabel(f\"Tilt ({tilt_unit})\", fontsize=font)\n",
    "    ax01.set_ylabel(f\"Tilt ({tilt_unit})\", fontsize=font, color=\"darkred\")\n",
    "    ax11.set_ylabel(f\"Tilt ({tilt_unit})\", fontsize=font, color=\"darkred\")\n",
    "\n",
    "    ax[1,0].set_xlabel(f\"Time (days) from {config['tbeg'].date} {config['tbeg'].time} UTC\", fontsize=font)\n",
    "    ax[1,1].set_xlabel(f\"Time (days) from {config['tbeg'].date} {config['tbeg'].time} UTC\", fontsize=font)\n",
    "\n",
    "    ax[0,0].set_ylim(-60, 60)\n",
    "    ax[0,1].set_ylim(-40, 40)\n",
    "    ax[1,0].set_ylim(-100, 100)\n",
    "    ax[1,1].set_ylim(-50, 50)\n",
    "\n",
    "    ax[0,0].set_title(f\"T={round(1/f2_subdaily/3600,1)} - {round(1/f1_subdaily/3600,1)}h\", fontsize=font+1)\n",
    "    ax[0,1].set_title(f\"T={round(1/f2_daily/3600,1)} - {round(1/f1_daily/3600,1)}h\", fontsize=font+1)\n",
    "\n",
    "    ticks = []\n",
    "    for _i in range(Nrow):\n",
    "        for _j in range(Ncol):\n",
    "            ax[_i,_j].grid(ls=\":\", zorder=0)\n",
    "            ax[_i,_j].legend(loc=1)\n",
    "            ticks.append(ax[_i,_j].get_yticks())\n",
    "\n",
    "\n",
    "    for ax in [ax00, ax10, ax01, ax11]:\n",
    "        ax.tick_params(axis='y', colors='darkred')\n",
    "        ax.legend(loc=4)\n",
    "\n",
    "    ax00.set_yticks(np.linspace(ax00.get_yticks()[0], ax00.get_yticks()[-1], len(ticks[0])))\n",
    "    ax10.set_yticks(np.linspace(ax10.get_yticks()[0], ax10.get_yticks()[-1], len(ticks[2])))\n",
    "    ax01.set_yticks(np.linspace(ax01.get_yticks()[0], ax01.get_yticks()[-1], len(ticks[1])))\n",
    "    ax11.set_yticks(np.linspace(ax11.get_yticks()[0], ax11.get_yticks()[-1], len(ticks[3])))\n",
    "\n",
    "\n",
    "#     ## add dates to x-axis\n",
    "#     ref_date = UTCDateTime(config['tbeg'])\n",
    "#     tcks = ax[Nrow-1].get_xticks()\n",
    "#     tcklbls = [str(UTCDateTime(ref_date+t).date) for t in tcks]\n",
    "#     ax[Nrow-1].set_xticklabels(tcklbls)\n",
    "\n",
    "    plt.show();\n",
    "    return fig\n",
    "\n",
    "fig = __makeplot_tides();\n",
    "\n"
   ]
  },
  {
   "cell_type": "code",
   "execution_count": null,
   "id": "4916ad4d-1127-4c3a-ada8-e927db2e8b0a",
   "metadata": {},
   "outputs": [],
   "source": []
  }
 ],
 "metadata": {
  "kernelspec": {
   "display_name": "Python 3 (ipykernel)",
   "language": "python",
   "name": "python3"
  },
  "language_info": {
   "codemirror_mode": {
    "name": "ipython",
    "version": 3
   },
   "file_extension": ".py",
   "mimetype": "text/x-python",
   "name": "python",
   "nbconvert_exporter": "python",
   "pygments_lexer": "ipython3",
   "version": "3.9.16"
  },
  "latex_envs": {
   "LaTeX_envs_menu_present": true,
   "autoclose": false,
   "autocomplete": true,
   "bibliofile": "biblio.bib",
   "cite_by": "apalike",
   "current_citInitial": 1,
   "eqLabelWithNumbers": true,
   "eqNumInitial": 1,
   "hotkeys": {
    "equation": "Ctrl-E",
    "itemize": "Ctrl-I"
   },
   "labels_anchors": false,
   "latex_user_defs": false,
   "report_style_numbering": false,
   "user_envs_cfg": false
  },
  "toc": {
   "base_numbering": 1,
   "nav_menu": {},
   "number_sections": true,
   "sideBar": true,
   "skip_h1_title": false,
   "title_cell": "Table of Contents",
   "title_sidebar": "Contents",
   "toc_cell": false,
   "toc_position": {},
   "toc_section_display": true,
   "toc_window_display": false
  },
  "varInspector": {
   "cols": {
    "lenName": 16,
    "lenType": 16,
    "lenVar": 40
   },
   "kernels_config": {
    "python": {
     "delete_cmd_postfix": "",
     "delete_cmd_prefix": "del ",
     "library": "var_list.py",
     "varRefreshCmd": "print(var_dic_list())"
    },
    "r": {
     "delete_cmd_postfix": ") ",
     "delete_cmd_prefix": "rm(",
     "library": "var_list.r",
     "varRefreshCmd": "cat(var_dic_list()) "
    }
   },
   "types_to_exclude": [
    "module",
    "function",
    "builtin_function_or_method",
    "instance",
    "_Feature"
   ],
   "window_display": false
  }
 },
 "nbformat": 4,
 "nbformat_minor": 5
}
