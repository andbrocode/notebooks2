{
 "cells": [
  {
   "cell_type": "markdown",
   "id": "22f5c8c9",
   "metadata": {
    "ExecuteTime": {
     "end_time": "2022-10-28T13:00:52.763484Z",
     "start_time": "2022-10-28T13:00:52.761516Z"
    }
   },
   "source": [
    "## Compute Sagnac Frequency - Prism Spectra - RV"
   ]
  },
  {
   "cell_type": "markdown",
   "id": "1cd32aed",
   "metadata": {},
   "source": [
    "Westring was equipped with a Koester prism at the central shaft using the new prism mount with micrometer screws. Simultaneous recording with discrete combination (RV logging) and Koester prism (RW logging)"
   ]
  },
  {
   "cell_type": "markdown",
   "id": "185b1a0b",
   "metadata": {},
   "source": [
    "## Imports"
   ]
  },
  {
   "cell_type": "code",
   "execution_count": 1,
   "id": "818caf4c",
   "metadata": {
    "ExecuteTime": {
     "end_time": "2023-06-27T08:11:10.277643Z",
     "start_time": "2023-06-27T08:11:08.781535Z"
    },
    "tags": []
   },
   "outputs": [],
   "source": [
    "import os\n",
    "import matplotlib.pyplot as plt\n",
    "\n",
    "from datetime import datetime, date\n",
    "from pandas import DataFrame, read_pickle, date_range, concat, read_csv\n",
    "from obspy import UTCDateTime, read_inventory\n",
    "from numpy import log10\n",
    "\n",
    "from andbro__savefig import __savefig\n"
   ]
  },
  {
   "cell_type": "code",
   "execution_count": 2,
   "id": "b83c9987",
   "metadata": {
    "ExecuteTime": {
     "end_time": "2023-06-27T08:11:10.288084Z",
     "start_time": "2023-06-27T08:11:10.284752Z"
    },
    "tags": []
   },
   "outputs": [],
   "source": [
    "if os.uname().nodename == 'lighthouse':\n",
    "    root_path = '/home/andbro/'\n",
    "    data_path = '/home/andbro/kilauea-data/'\n",
    "    archive_path = '/home/andbro/freenas/'\n",
    "elif os.uname().nodename == 'kilauea':\n",
    "    root_path = '/home/brotzer/'\n",
    "    data_path = '/import/kilauea-data/'\n",
    "    archive_path = '/import/freenas-ffb-01-data/'"
   ]
  },
  {
   "cell_type": "code",
   "execution_count": 3,
   "id": "f1efed46",
   "metadata": {
    "ExecuteTime": {
     "end_time": "2023-06-27T08:11:12.340325Z",
     "start_time": "2023-06-27T08:11:12.336147Z"
    },
    "tags": []
   },
   "outputs": [],
   "source": [
    "# from matplotlib import rc\n",
    "# rc('text', usetex=True)"
   ]
  },
  {
   "cell_type": "markdown",
   "id": "ec2578ab",
   "metadata": {},
   "source": [
    "## Configurations"
   ]
  },
  {
   "cell_type": "code",
   "execution_count": 4,
   "id": "ba83e3e7",
   "metadata": {
    "ExecuteTime": {
     "end_time": "2023-06-27T08:11:13.008382Z",
     "start_time": "2023-06-27T08:11:13.002517Z"
    },
    "tags": []
   },
   "outputs": [],
   "source": [
    "config = {}\n",
    "\n",
    "\n",
    "config['seeds'] = [\"BW.DROMY..FJV\", \"BW.DROMY..FJW\"]\n",
    "\n",
    "config['path_to_sds'] = archive_path+\"romy_archive/\"\n",
    "\n",
    "config['tbeg'] = UTCDateTime(\"2023-10-23 23:30\")\n",
    "config['tend'] = UTCDateTime(\"2023-10-23 23:50\")\n",
    "\n",
    "## 10min with local signal\n",
    "config['tbeg'] = UTCDateTime(\"2023-10-27 00:00\")\n",
    "config['tend'] = UTCDateTime(\"2023-10-27 00:10\")\n",
    "\n",
    "## 10min noise only\n",
    "config['tbeg'] = UTCDateTime(\"2023-10-27 16:45\")\n",
    "config['tend'] = UTCDateTime(\"2023-10-27 16:55\")\n",
    "\n",
    "## \n",
    "config['tbeg'] = UTCDateTime(\"2023-10-27 15:00\")\n",
    "config['tend'] = UTCDateTime(\"2023-10-27 17:00\")\n",
    "\n",
    "config['f_lower_zoomin'], config['f_upper_zoomin'] = 448-10, 448+10\n",
    "\n",
    "config['datapath'] = data_path+\"sagnac_frequency/prismspectra/\"\n",
    "\n",
    "config['path_to_figs'] = data_path+\"sagnac_frequency/figures/\""
   ]
  },
  {
   "cell_type": "code",
   "execution_count": 5,
   "id": "def1625c-1a0a-4e99-98aa-7c513ce27f7c",
   "metadata": {
    "tags": []
   },
   "outputs": [],
   "source": [
    "def __compute_psd(st0, twin_sec=60):\n",
    "\n",
    "    from scipy.signal import welch, hann\n",
    "\n",
    "    _st = st0.copy()\n",
    "\n",
    "    _st.sort(keys=['channel'], reverse=True)\n",
    "\n",
    "    nblock = int(st[0].stats.sampling_rate * twin_sec)\n",
    "    overlap = int(0.5*nblock)\n",
    "    win = hann(nblock, True)\n",
    "\n",
    "    Pxxs, ffs, chs = [], [], []\n",
    "\n",
    "    for i, tr in enumerate(_st):\n",
    "\n",
    "        ff, Pxx = welch(tr.data,\n",
    "                        fs=tr.stats.sampling_rate,\n",
    "                        window=win, noverlap=overlap,\n",
    "                        nfft=nblock,\n",
    "                        scaling=\"spectrum\",\n",
    "                        return_onesided=True)\n",
    "\n",
    "        ffs.append(ff)\n",
    "        chs.append(tr.stats.channel)\n",
    "        Pxxs.append(Pxx)\n",
    "\n",
    "    out = {}\n",
    "    out['Pxxs'] = Pxxs\n",
    "    out['ffs'] = ffs\n",
    "    out['chs'] = chs\n",
    "\n",
    "    return out"
   ]
  },
  {
   "cell_type": "markdown",
   "id": "0c2522f7-5aeb-460d-9b9d-104831a9296c",
   "metadata": {
    "tags": []
   },
   "source": [
    "## Load Raw data"
   ]
  },
  {
   "cell_type": "code",
   "execution_count": 6,
   "id": "8b88098b-cb6c-4205-ba67-6a85f437fdc4",
   "metadata": {
    "ExecuteTime": {
     "end_time": "2023-06-27T08:11:26.732797Z",
     "start_time": "2023-06-27T08:11:26.732775Z"
    },
    "tags": []
   },
   "outputs": [],
   "source": [
    "def __load_romy_raw_data(seeds, tbeg, tend, path_to_sds):\n",
    "\n",
    "    from andbro__read_sds import __read_sds\n",
    "    from obspy import Stream, UTCDateTime\n",
    "\n",
    "    st0 = Stream()\n",
    "\n",
    "    for seed in seeds:\n",
    "\n",
    "        print(f\" -> loading {seed}...\")\n",
    "\n",
    "        try:\n",
    "            st00 = __read_sds(path_to_sds, seed, tbeg,tend, data_format='MSEED')\n",
    "        except:\n",
    "            print(f\" -> failed for {seed}\")\n",
    "\n",
    "        st0 += st00\n",
    "\n",
    "    st0 = st0.sort()\n",
    "\n",
    "    for tr in st0:\n",
    "        tr.data = tr.data*0.59604645e-6 # V / count  [0.59604645ug  from obsidian]\n",
    "\n",
    "    return st0"
   ]
  },
  {
   "cell_type": "code",
   "execution_count": 7,
   "id": "16c10379-0992-4806-909e-4258db3eb029",
   "metadata": {
    "ExecuteTime": {
     "end_time": "2023-06-27T08:11:26.732797Z",
     "start_time": "2023-06-27T08:11:26.732775Z"
    },
    "tags": []
   },
   "outputs": [
    {
     "name": "stdout",
     "output_type": "stream",
     "text": [
      " -> loading BW.DROMY..FJV...\n",
      " -> loading BW.DROMY..FJW...\n"
     ]
    },
    {
     "data": {
      "image/png": "[encoded data removed]",
      "text/plain": [
       "<Figure size 800x500 with 2 Axes>"
      ]
     },
     "metadata": {},
     "output_type": "display_data"
    }
   ],
   "source": [
    "st = __load_romy_raw_data(config['seeds'], config['tbeg'], config['tend'], config['path_to_sds'])\n",
    "\n",
    "# st.detrend(\"demean\")\n",
    "\n",
    "st.plot(equal_scale=False);"
   ]
  },
  {
   "cell_type": "code",
   "execution_count": null,
   "id": "7e0d6144-79be-43fa-9f57-8d976849b6b7",
   "metadata": {
    "tags": []
   },
   "outputs": [],
   "source": [
    "st.select(channel=\"FJW\").write(\"/home/andbro/Downloads/4Jan/westring_koester.csv\", format=\"TSPAIR\")\n",
    "st.select(channel=\"FJV\").write(\"/home/andbro/Downloads/4Jan/westring_discrete.csv\", format=\"TSPAIR\")"
   ]
  },
  {
   "cell_type": "code",
   "execution_count": null,
   "id": "7112b71d",
   "metadata": {
    "ExecuteTime": {
     "end_time": "2023-06-26T08:46:45.817172Z",
     "start_time": "2023-06-26T08:46:45.763942Z"
    },
    "tags": []
   },
   "outputs": [],
   "source": [
    "def __makeplot_stream_PSD(st, twin_sec=60, f_lower_zoom=540, f_upper_zoom=560):\n",
    "\n",
    "    from scipy import fftpack\n",
    "    from numpy import abs\n",
    "    from scipy.signal import welch, hann\n",
    "    import matplotlib.pyplot as plt\n",
    "\n",
    "\n",
    "    nblock = int(st[0].stats.sampling_rate * twin_sec)\n",
    "    overlap = int(0.5*nblock)\n",
    "\n",
    "    print(f\" -> nseg = {nblock} | overlap = {overlap}\")\n",
    "\n",
    "    win = hann(nblock, True)\n",
    "\n",
    "\n",
    "    fig, axes = plt.subplots(len(st),2,figsize=(15,10), sharex='col')\n",
    "\n",
    "    plt.subplots_adjust(hspace=0.1)\n",
    "\n",
    "    ## _______________________________________________\n",
    "\n",
    "    st.sort(keys=['channel'], reverse=True)\n",
    "\n",
    "    Pxxs, ffs, chs = [], [], []\n",
    "\n",
    "    for i, tr in enumerate(st):\n",
    "\n",
    "        # tr.data /= max(abs(tr.data))\n",
    "\n",
    "        ff, Pxx = welch(tr.data,\n",
    "                        fs=tr.stats.sampling_rate,\n",
    "                        window=win, noverlap=overlap,\n",
    "                        nfft=nblock,\n",
    "                        scaling=\"spectrum\",\n",
    "                        return_onesided=True)\n",
    "\n",
    "        ffs.append(ff)\n",
    "        chs.append(tr.stats.channel)\n",
    "        Pxxs.append(Pxx)\n",
    "\n",
    "        ## _________________________________________________________________\n",
    "        axes[i,0].plot(\n",
    "                    tr.times(),\n",
    "                    tr.data,\n",
    "                    color='black',\n",
    "                    label='{} {}'.format(tr.stats.station, tr.stats.channel),\n",
    "                    lw=1.0,\n",
    "                    )\n",
    "\n",
    "\n",
    "        ## _________________________________________________________________\n",
    "        axes[i,1].semilogy(\n",
    "                    ff,\n",
    "                    Pxx,\n",
    "                    color='black',\n",
    "                    lw=1.0,\n",
    "                    )\n",
    "\n",
    "        axes[i,1].set_ylim(min(Pxx[10:]), max(Pxx[10:]))\n",
    "\n",
    "        axes[i,0].set_ylabel(r'U (volt)')\n",
    "\n",
    "        axes[i,1].set_ylabel(r'PSD (volt$^2$/Hz)')\n",
    "\n",
    "        axes[i,0].legend(loc='upper left', framealpha=.8)\n",
    "\n",
    "#         axes[i,0].ticklabel_format(axis='y', style='sci', scilimits=(0,0))\n",
    "#         axes[i,1].ticklabel_format(axis='y', style='sci', scilimits=(0,0))\n",
    "\n",
    "        axes[i,1].set_xlim(f_lower_zoom, f_upper_zoom)\n",
    "        # axes[i,1].set_ylim(top=0)\n",
    "\n",
    "    plt.show();\n",
    "    return fig, (Pxxs, ffs, chs)"
   ]
  },
  {
   "cell_type": "code",
   "execution_count": null,
   "id": "4cb80b4a-fd44-417c-97f8-4e044ce0e26e",
   "metadata": {
    "tags": []
   },
   "outputs": [],
   "source": [
    "fig, out = __makeplot_stream_PSD(st, twin_sec=60, f_lower_zoom=config['f_lower_zoomin'], f_upper_zoom=config['f_upper_zoomin'])\n",
    "\n",
    "fig.savefig(config['path_to_figs']+f\"Prismspectra_Westring_{st[0].stats.starttime.date}_trace&PSD.png\", format=\"png\", dpi=200, bbox_inches='tight')"
   ]
  },
  {
   "cell_type": "markdown",
   "id": "fb6c7dd6",
   "metadata": {},
   "source": [
    "## Plot Comparison"
   ]
  },
  {
   "cell_type": "code",
   "execution_count": null,
   "id": "aa21da75-dba2-44ac-9b1a-2a8353a5b5b1",
   "metadata": {
    "tags": []
   },
   "outputs": [],
   "source": [
    "def __makeplot_psd_overview_with_zoomin(stx, twin_sec=60, plot_dB=True):\n",
    "\n",
    "    import matplotlib.pyplot as plt\n",
    "    from matplotlib.gridspec import GridSpec\n",
    "    from numpy import log10\n",
    "\n",
    "    font = 14\n",
    "\n",
    "    # stx = stx.detrend(\"demean\")\n",
    "    # stx = stx.normalize()\n",
    "\n",
    "    out = __compute_psd(stx, twin_sec=twin_sec)\n",
    "\n",
    "    Pxxs, ffs, chs = out['Pxxs'], out['ffs'], out['chs']\n",
    "\n",
    "    fig = plt.figure(figsize=(15, 8))\n",
    "\n",
    "    plt.subplots_adjust(wspace=0.05)\n",
    "\n",
    "    gs = GridSpec(1, 2, width_ratios=[2, 1])\n",
    "\n",
    "    ax1 = fig.add_subplot(gs[0])\n",
    "    ax2 = fig.add_subplot(gs[1])\n",
    "\n",
    "\n",
    "    for jj in range(len(Pxxs)):\n",
    "        if plot_dB:\n",
    "            ax1.semilogx(ffs[jj], 10*log10(Pxxs[jj]) - max(10*log10(Pxxs[jj])), alpha=0.5, label=chs[jj])\n",
    "            ax2.plot(ffs[jj], 10*log10(Pxxs[jj]) - max(10*log10(Pxxs[jj])), alpha=0.5, label=chs[jj])\n",
    "            ax1.set_ylim(-110, 0)\n",
    "            ax2.set_ylim(-110, 0)\n",
    "        else:\n",
    "            ax1.loglog(ffs[1], Pxxs[1], alpha=0.5, label=chs[1])\n",
    "            ax2.loglog(ffs[1], Pxxs[1], alpha=0.5, label=chs[1])\n",
    "\n",
    "    # ax1.semilogx(ffs[2], 20*log10(Pxxs[2]), alpha=0.5, color=\"tab:green\", label=chs[2], zorder=2)\n",
    "\n",
    "    ax1.grid(alpha=0.2, which=\"both\")\n",
    "    ax1.set_xlabel(\"Frequency (Hz)\", fontsize=font)\n",
    "    ax1.set_ylabel(f\"PSD (dB rel. to (1 $V^2$/Hz))\", fontsize=font)\n",
    "    ax1.legend(loc=\"upper center\", fontsize=font-1, ncol=3)\n",
    "    ax1.tick_params(labelsize=font-2)\n",
    "\n",
    "\n",
    "\n",
    "    ax2.set_xlabel(\"Frequency (Hz)\", fontsize=font)\n",
    "    ax2.grid(alpha=0.2, which=\"both\")\n",
    "    ax2.tick_params(labelsize=font-2)\n",
    "    ax2.set_yticklabels([])\n",
    "\n",
    "    ax2.set_xlim(config['f_lower_zoomin'], config['f_upper_zoomin'])\n",
    "    ax2.set_xlim(447.4, 447.55)\n",
    "\n",
    "    ax1.text(.01, .99, '(a)', ha='left', va='top', transform=ax1.transAxes, fontsize=font+2)\n",
    "    ax2.text(.01, .99, '(b)', ha='left', va='top', transform=ax2.transAxes, fontsize=font+2)\n",
    "\n",
    "    time_str = f\"{str(stx[0].stats.starttime.time).split('.')[0]} - {str(stx[0].stats.endtime.time).split('.')[0]} UTC\"\n",
    "    ax1.set_title(f\"{stx[0].stats.starttime.date} {time_str}\")\n",
    "\n",
    "    plt.show();\n",
    "    return fig"
   ]
  },
  {
   "cell_type": "code",
   "execution_count": null,
   "id": "551d3d13-b9f5-4835-9a23-91c7dce91765",
   "metadata": {
    "tags": []
   },
   "outputs": [],
   "source": [
    "fig = __makeplot_psd_overview_with_zoomin(st, twin_sec=1200, plot_dB=True)\n",
    "\n",
    "# fig.savefig(config['path_to_figs']+f\"Prismspectra_Westring_{st[0].stats.starttime.date}_zoomin.png\", format=\"png\", dpi=200, bbox_inches='tight')"
   ]
  },
  {
   "cell_type": "code",
   "execution_count": null,
   "id": "c208945e-6078-4d7a-8144-a7d3a0b4e18c",
   "metadata": {
    "tags": []
   },
   "outputs": [],
   "source": [
    "from andbro__read_sds import __read_sds"
   ]
  },
  {
   "cell_type": "code",
   "execution_count": null,
   "id": "4833b02a-47b8-4127-b33d-3a45a723d726",
   "metadata": {
    "tags": []
   },
   "outputs": [],
   "source": [
    "romy = __read_sds(config['path_to_sds'], \"BW.ROMY..BJU\", config['tbeg'], config['tend'])\n",
    "\n",
    "romy_inv = read_inventory(root_path+\"Documents/ROMY/stationxml_ringlaser/dataless.seed.BW_ROMY\")\n",
    "\n",
    "romy = romy.remove_sensitivity(romy_inv)\n",
    "\n",
    "romy = romy.detrend(\"demean\")"
   ]
  },
  {
   "cell_type": "code",
   "execution_count": null,
   "id": "599d39c3-66d3-4dcb-a7e7-46b86c9d4e39",
   "metadata": {
    "tags": []
   },
   "outputs": [],
   "source": [
    "def __makeplot2(st0, stx, twin_sec=30, plot_dB=True):\n",
    "\n",
    "\n",
    "    out = __compute_psd(stx, twin_sec=twin_sec)\n",
    "\n",
    "    Pxxs, ffs, chs = out['Pxxs'], out['ffs'], out['chs']\n",
    "\n",
    "    fig, ax = plt.subplots(3, 1, figsize=(15, 10))\n",
    "\n",
    "    plt.subplots_adjust(hspace=0.25)\n",
    "\n",
    "    font = 12\n",
    "\n",
    "    ax[0].plot(st0[0].times()/60, st0[0].data*1e9, color=\"k\")\n",
    "    ax[0].set_xlim(0, max(st0[0].times()/60))\n",
    "    ax[0].set_xlabel(\"Time (min)\", fontsize=font)\n",
    "    ax[0].set_ylabel(\"$\\Omega$ (nrad/s)\", fontsize=font)\n",
    "\n",
    "    time_str = f\"{str(stx[0].stats.starttime.time).split('.')[0]} - {str(stx[0].stats.endtime.time).split('.')[0]} UTC\"\n",
    "    ax[0].set_title(f\"{stx[0].stats.starttime.date} {time_str}\")\n",
    "\n",
    "\n",
    "    for jj in range(len(Pxxs)):\n",
    "        if plot_dB:\n",
    "            ax[1].semilogx(ffs[jj], 10*log10(Pxxs[jj]) - max(10*log10(Pxxs[jj])), alpha=0.5, label=chs[jj])\n",
    "            ax[2].plot(ffs[jj], 10*log10(Pxxs[jj]) - max(10*log10(Pxxs[jj])), alpha=0.5, label=chs[jj])\n",
    "            ax[1].set_ylim(-110, 0)\n",
    "            ax[2].set_ylim(-110, 0)\n",
    "        else:\n",
    "            ax[1].loglog(ffs[1], Pxxs[1], alpha=0.5, label=chs[1])\n",
    "            ax[2].loglog(ffs[1], Pxxs[1], alpha=0.5, label=chs[1])\n",
    "\n",
    "    ax[1].grid(alpha=0.2, which=\"both\")\n",
    "    ax[1].set_xlabel(\"Frequency (Hz)\", fontsize=font)\n",
    "    ax[1].set_ylabel(f\"PSD (dB rel. to (1 $V^2$/Hz))\", fontsize=font)\n",
    "    ax[1].legend(loc=\"upper center\", fontsize=font-1, ncol=3)\n",
    "    ax[1].tick_params(labelsize=font-2)\n",
    "\n",
    "\n",
    "\n",
    "    ax[2].set_xlabel(\"Frequency (Hz)\", fontsize=font)\n",
    "    ax[2].grid(alpha=0.2, which=\"both\")\n",
    "    ax[2].tick_params(labelsize=font-2)\n",
    "    ax[2].set_ylabel(f\"PSD (dB rel. to (1 $V^2$/Hz))\", fontsize=font)\n",
    "\n",
    "    ax[2].set_xlim(config['f_lower_zoomin'], config['f_upper_zoomin'])\n",
    "\n",
    "    ax[0].text(.01, .97, '(a)', ha='left', va='top', transform=ax[0].transAxes, fontsize=font+2)\n",
    "    ax[1].text(.01, .97, '(b)', ha='left', va='top', transform=ax[1].transAxes, fontsize=font+2)\n",
    "    ax[2].text(.01, .97, '(c)', ha='left', va='top', transform=ax[2].transAxes, fontsize=font+2)\n",
    "\n",
    "    plt.show();\n",
    "    return fig\n",
    "\n",
    "fig = __makeplot2(romy, st, twin_sec=1200, plot_dB=True)\n",
    "\n",
    "fig.savefig(config['path_to_figs']+f\"Prismspectra_Westring_{st[0].stats.starttime.date}_rotation_spectra.png\", format=\"png\", dpi=200, bbox_inches='tight')"
   ]
  },
  {
   "cell_type": "markdown",
   "id": "37c3b765",
   "metadata": {
    "ExecuteTime": {
     "end_time": "2022-11-04T13:39:03.633371Z",
     "start_time": "2022-11-04T13:39:03.631352Z"
    },
    "jp-MarkdownHeadingCollapsed": true,
    "tags": []
   },
   "source": [
    "## Load PSD Data"
   ]
  },
  {
   "cell_type": "markdown",
   "id": "73bd4b0d-a579-4936-af55-d09eca6c4965",
   "metadata": {},
   "source": [
    "data1 = discrete combination in north western corner\n",
    "\n",
    "data2 = Koester prism on new prism stage in central corner"
   ]
  },
  {
   "cell_type": "code",
   "execution_count": null,
   "id": "07a5ff60-f3af-4637-94dc-ac040f5d3871",
   "metadata": {
    "tags": []
   },
   "outputs": [],
   "source": [
    "data1 = read_pickle(config['datapath']+\"psd_2023-10-18_RV_westring_discrete.pkl\")\n",
    "data2 = read_pickle(config['datapath']+\"psd_2023-10-18_RV_westring_koester.pkl\")\n",
    "\n",
    "## add DB psds\n",
    "data1['fjz_psd_db'] = 20*log10(data1.fjz_psd)\n",
    "data2['fjz_psd_db'] = 20*log10(data2.fjz_psd)"
   ]
  },
  {
   "cell_type": "code",
   "execution_count": null,
   "id": "2b6256cd-ae33-41f2-a59a-a76e56c74647",
   "metadata": {
    "ExecuteTime": {
     "end_time": "2023-06-27T09:52:58.305979Z",
     "start_time": "2023-06-27T09:52:56.351767Z"
    },
    "code_folding": [
     0
    ],
    "tags": []
   },
   "outputs": [],
   "source": [
    "def __makeplot(data1, data2, plot_dB=True):\n",
    "\n",
    "    from matplotlib.gridspec import GridSpec\n",
    "\n",
    "    font = 14\n",
    "\n",
    "\n",
    "    fig = plt.figure(figsize=(15,8))\n",
    "\n",
    "    plt.subplots_adjust(wspace=0.05)\n",
    "\n",
    "    gs = GridSpec(1, 2, width_ratios=[2, 1])\n",
    "\n",
    "    ax1 = fig.add_subplot(gs[0])\n",
    "\n",
    "    if plot_dB:\n",
    "        ax1.semilogx(data1.frequencies, data1.fjz_psd_db, alpha=0.5, color=\"tab:blue\", label=\"inv. discrete beam combiner\")\n",
    "        ax1.semilogx(data2.frequencies, data2.fjz_psd_db, alpha=0.5, color=\"tab:orange\", label=\"inv. Koester prism\")\n",
    "        ax1.set_ylabel(f\"PSD (dB rel. to (1 $V^2$/Hz))\", fontsize=font)\n",
    "    else:\n",
    "        ax1.semilogx(data1.frequencies, data1.fjz_psd, alpha=0.5, color=\"tab:blue\", label=\"inv. discrete beam combiner\")\n",
    "        ax1.semilogx(data2.frequencies, data2.fjz_psd, alpha=0.5, color=\"tab:orange\", label=\"inv. Koester prism\")\n",
    "        ax1.set_ylabel(f\"PSD ($V^2$/Hz)\", fontsize=font)\n",
    "\n",
    "    ax1.grid(alpha=0.2, which=\"both\")\n",
    "    ax1.set_xlabel(\"Frequency (Hz)\", fontsize=font)\n",
    "    ax1.legend(loc=\"upper center\", fontsize=font-1)\n",
    "    ax1.tick_params(labelsize=font-2)\n",
    "\n",
    "    # ax1.set_ylim(-230, 50)\n",
    "\n",
    "\n",
    "    ax2 = fig.add_subplot(gs[1])\n",
    "\n",
    "    if plot_dB:\n",
    "        ax2.plot(data1.frequencies, data1.fjz_psd_db, alpha=0.5, color=\"tab:blue\")\n",
    "        ax2.plot(data2.frequencies, data2.fjz_psd_db, alpha=0.5, color=\"tab:orange\")\n",
    "    else:\n",
    "        ax2.plot(data1.frequencies, data1.fjz_psd, alpha=0.5, color=\"tab:blue\")\n",
    "        ax2.plot(data2.frequencies, data2.fjz_psd, alpha=0.5, color=\"tab:orange\")\n",
    "\n",
    "    ax2.set_xlabel(\"Frequency (Hz)\", fontsize=font)\n",
    "    ax2.grid(alpha=0.2, which=\"both\")\n",
    "    ax2.tick_params(labelsize=font-2)\n",
    "    ax2.set_yticklabels([])\n",
    "\n",
    "    ax2.set_xlim(448-30, 448+30)\n",
    "   # ax2.set_ylim(-230, 50)\n",
    "\n",
    "    ax1.text(.01, .99, '(a)', ha='left', va='top', transform=ax1.transAxes, fontsize=font+2)\n",
    "    ax2.text(.01, .99, '(b)', ha='left', va='top', transform=ax2.transAxes, fontsize=font+2)\n",
    "\n",
    "\n",
    "    plt.show();\n",
    "    return fig\n",
    "\n",
    "# fig = __makeplot(data1, data2, plot_dB=True)"
   ]
  },
  {
   "cell_type": "code",
   "execution_count": null,
   "id": "84ee74f2-a1ba-46e6-b0f3-cb529d4b8a25",
   "metadata": {},
   "outputs": [],
   "source": []
  },
  {
   "cell_type": "code",
   "execution_count": null,
   "id": "72495c28",
   "metadata": {
    "ExecuteTime": {
     "end_time": "2023-06-27T08:11:26.727737Z",
     "start_time": "2023-06-27T08:11:26.727727Z"
    },
    "code_folding": [
     0
    ],
    "tags": []
   },
   "outputs": [],
   "source": [
    "def __makeplot():\n",
    "\n",
    "    font = 12\n",
    "\n",
    "    fig, ax = plt.subplots(3,2,figsize=(15,10))\n",
    "\n",
    "    ax[0,0].loglog(data1.frequencies, data1.fjz_psd, alpha=0.5, label=\"before\")\n",
    "    ax[0,0].loglog(data1.frequencies, data1.fjz_psd, alpha=0.5, label=\"after\")\n",
    "    # ax[0,0].loglog(noise1.frequencies, noise1.fjz_psd, alpha=0.5, label=\"selfnoise\", color=\"grey\")\n",
    "\n",
    "    ax[1,0].loglog(before.frequencies, before.f1v_psd, alpha=0.5, label=\"before\")\n",
    "    ax[1,0].loglog(before.frequencies, after.f1v_psd, alpha=0.5, label=\"after\")\n",
    "\n",
    "    ax[2,0].loglog(before.frequencies, before.f2v_psd, alpha=0.5, label=\"before\")\n",
    "    ax[2,0].loglog(before.frequencies, after.f2v_psd, alpha=0.5, label=\"after\")\n",
    "\n",
    "    ax[0,1].semilogy(before.frequencies, before.fjz_psd, alpha=0.5, label=\"before\")\n",
    "    ax[0,1].semilogy(before.frequencies, after.fjz_psd, alpha=0.5, label=\"after\")\n",
    "    ax[0,1].semilogy(noise1.frequencies, noise1.fjz_psd, alpha=0.5, label=\"selfnoise\", color=\"grey\")\n",
    "\n",
    "    ax[1,1].semilogy(before.frequencies, before.f1v_psd, alpha=0.5, label=\"before\")\n",
    "    ax[1,1].semilogy(before.frequencies, after.f1v_psd, alpha=0.5, label=\"after\")\n",
    "\n",
    "    ax[2,1].semilogy(before.frequencies, before.f2v_psd, alpha=0.5, label=\"before\")\n",
    "    ax[2,1].semilogy(before.frequencies, after.f2v_psd, alpha=0.5, label=\"after\")\n",
    "\n",
    "\n",
    "    for i in range(3):\n",
    "        ax[i,1].set_xlim(553-30, 553+30)\n",
    "        ax[i,0].legend(loc=2)\n",
    "        ax[i,1].legend(loc=2)\n",
    "        ax[i,0].grid(zorder=-1, alpha=0.2)\n",
    "        ax[i,1].grid(zorder=-1, alpha=0.2)\n",
    "    #     ax[i].ticklabel_format(useOffset=False, style='plain')\n",
    "\n",
    "\n",
    "    ax[0,0].set_ylabel(\"PSD FZ ($V^2 / Hz$)\", fontsize=font)\n",
    "    ax[1,0].set_ylabel(\"PSD CCW ($V^2 / Hz$)\", fontsize=font)\n",
    "    ax[2,0].set_ylabel(\"PSD CW ($V^2 / Hz$)\", fontsize=font)\n",
    "\n",
    "    ax[2,0].set_xlabel(\"Frequency (Hz)\", fontsize=font)\n",
    "    ax[2,1].set_xlabel(\"Frequency (Hz)\", fontsize=font)\n",
    "\n",
    "    plt.show();\n",
    "\n",
    "# __makeplot()"
   ]
  },
  {
   "cell_type": "code",
   "execution_count": null,
   "id": "02f70eef",
   "metadata": {
    "ExecuteTime": {
     "end_time": "2023-06-27T08:11:26.728531Z",
     "start_time": "2023-06-27T08:11:26.728522Z"
    },
    "code_folding": [
     0
    ],
    "tags": []
   },
   "outputs": [],
   "source": [
    "def __makeplot_DB():\n",
    "\n",
    "    font = 12\n",
    "\n",
    "    fig, ax = plt.subplots(3,2,figsize=(15,10))\n",
    "\n",
    "    plt.subplots_adjust(wspace=0.1)\n",
    "\n",
    "    ax[0,0].semilogx(data1.frequencies, data1.fjz_psd_db, alpha=0.5, label=\"discrete combiner\")\n",
    "    ax[0,0].semilogx(data2.frequencies, data2.fjz_psd_db, alpha=0.5, label=\"after prism\")\n",
    "\n",
    "    ax[1,0].semilogx(before.frequencies, before.f1v_psd_db, alpha=0.5, label=\"discrete combiner\")\n",
    "    ax[1,0].semilogx(before.frequencies, after.f1v_psd_db, alpha=0.5, label=\"Koester prism\")\n",
    "\n",
    "    ax[2,0].semilogx(before.frequencies, before.f2v_psd_db, alpha=0.5, label=\"discrete combiner\")\n",
    "    ax[2,0].semilogx(before.frequencies, after.f2v_psd_db, alpha=0.5, label=\"Koester prism\")\n",
    "\n",
    "    ax[0,1].plot(before.frequencies, before.fjz_psd_db, alpha=0.5, label=\"discrete combiner\")\n",
    "    ax[0,1].plot(before.frequencies, after.fjz_psd_db, alpha=0.5, label=\"Koester prism\")\n",
    "\n",
    "    ax[1,1].plot(before.frequencies, before.f1v_psd_db, alpha=0.5, label=\"discrete combiner\")\n",
    "    ax[1,1].plot(before.frequencies, after.f1v_psd_db, alpha=0.5, label=\"Koester prism\")\n",
    "\n",
    "    ax[2,1].plot(before.frequencies, before.f2v_psd_db, alpha=0.5, label=\"discrete combiner\")\n",
    "    ax[2,1].plot(before.frequencies, after.f2v_psd_db, alpha=0.5, label=\"Koester prism\")\n",
    "\n",
    "\n",
    "    for i in range(3):\n",
    "        ax[i,1].set_xlim(553-30, 553+30)\n",
    "        ax[i,0].legend(loc=2)\n",
    "        ax[i,1].legend(loc=2)\n",
    "        ax[i,0].grid(zorder=-1, alpha=0.2, which=\"both\")\n",
    "        ax[i,1].grid(zorder=-1, alpha=0.2, which=\"both\")\n",
    "\n",
    "\n",
    "    for i in range(3):\n",
    "        for j in range(2):\n",
    "            ax[i,j].set_ylim(-200,50)\n",
    "\n",
    "    #     ax[i].ticklabel_format(useOffset=False, style='plain')\n",
    "\n",
    "\n",
    "    ax[0,0].set_ylabel(f\"PSD FZ \\n (dB rel.to (1 $V^2 / Hz$))\", fontsize=font)\n",
    "    ax[1,0].set_ylabel(f\"PSD CCW \\n (dB rel.to (1 $V^2 / Hz$))\", fontsize=font)\n",
    "    ax[2,0].set_ylabel(f\"PSD CW \\n (dB rel.to (1 $V^2 / Hz$))\", fontsize=font)\n",
    "\n",
    "    ax[2,0].set_xlabel(\"Frequency (Hz)\", fontsize=font)\n",
    "    ax[2,1].set_xlabel(\"Frequency (Hz)\", fontsize=font)\n",
    "\n",
    "    plt.show();\n",
    "\n",
    "# __makeplot_DB()"
   ]
  },
  {
   "cell_type": "code",
   "execution_count": null,
   "id": "38b2a486-b95b-485b-9244-9de3b4ebbf0c",
   "metadata": {
    "tags": []
   },
   "outputs": [],
   "source": []
  },
  {
   "cell_type": "code",
   "execution_count": null,
   "id": "ed0acd75-177f-4749-a904-381fa8d82436",
   "metadata": {
    "tags": []
   },
   "outputs": [],
   "source": []
  },
  {
   "cell_type": "code",
   "execution_count": null,
   "id": "c5758281-b8c0-4bc3-8108-bbca3a89225c",
   "metadata": {
    "tags": []
   },
   "outputs": [],
   "source": []
  },
  {
   "cell_type": "code",
   "execution_count": null,
   "id": "7e240f0a-7f21-4a82-9527-63660e54a872",
   "metadata": {},
   "outputs": [],
   "source": []
  }
 ],
 "metadata": {
  "kernelspec": {
   "display_name": "Python 3 (ipykernel)",
   "language": "python",
   "name": "python3"
  },
  "language_info": {
   "codemirror_mode": {
    "name": "ipython",
    "version": 3
   },
   "file_extension": ".py",
   "mimetype": "text/x-python",
   "name": "python",
   "nbconvert_exporter": "python",
   "pygments_lexer": "ipython3",
   "version": "3.10.12"
  },
  "latex_envs": {
   "LaTeX_envs_menu_present": true,
   "autoclose": false,
   "autocomplete": true,
   "bibliofile": "biblio.bib",
   "cite_by": "apalike",
   "current_citInitial": 1,
   "eqLabelWithNumbers": true,
   "eqNumInitial": 1,
   "hotkeys": {
    "equation": "Ctrl-E",
    "itemize": "Ctrl-I"
   },
   "labels_anchors": false,
   "latex_user_defs": false,
   "report_style_numbering": false,
   "user_envs_cfg": false
  },
  "toc": {
   "base_numbering": 1,
   "nav_menu": {},
   "number_sections": true,
   "sideBar": true,
   "skip_h1_title": false,
   "title_cell": "Table of Contents",
   "title_sidebar": "Contents",
   "toc_cell": false,
   "toc_position": {},
   "toc_section_display": true,
   "toc_window_display": false
  },
  "varInspector": {
   "cols": {
    "lenName": 16,
    "lenType": 16,
    "lenVar": 40
   },
   "kernels_config": {
    "python": {
     "delete_cmd_postfix": "",
     "delete_cmd_prefix": "del ",
     "library": "var_list.py",
     "varRefreshCmd": "print(var_dic_list())"
    },
    "r": {
     "delete_cmd_postfix": ") ",
     "delete_cmd_prefix": "rm(",
     "library": "var_list.r",
     "varRefreshCmd": "cat(var_dic_list()) "
    }
   },
   "types_to_exclude": [
    "module",
    "function",
    "builtin_function_or_method",
    "instance",
    "_Feature"
   ],
   "window_display": false
  }
 },
 "nbformat": 4,
 "nbformat_minor": 5
}
