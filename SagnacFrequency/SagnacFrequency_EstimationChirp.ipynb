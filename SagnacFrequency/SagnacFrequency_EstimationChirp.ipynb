{
 "cells": [
  {
   "cell_type": "markdown",
   "id": "22f5c8c9",
   "metadata": {
    "ExecuteTime": {
     "end_time": "2022-10-28T13:00:52.763484Z",
     "start_time": "2022-10-28T13:00:52.761516Z"
    }
   },
   "source": [
    "## Compute Instantaneous Frequency of Chirp"
   ]
  },
  {
   "cell_type": "code",
   "execution_count": null,
   "id": "505d662d",
   "metadata": {},
   "outputs": [],
   "source": []
  },
  {
   "cell_type": "markdown",
   "id": "185b1a0b",
   "metadata": {},
   "source": [
    "## Imports"
   ]
  },
  {
   "cell_type": "code",
   "execution_count": 2,
   "id": "818caf4c",
   "metadata": {
    "ExecuteTime": {
     "end_time": "2023-04-10T17:22:04.590440Z",
     "start_time": "2023-04-10T17:22:03.601217Z"
    }
   },
   "outputs": [],
   "source": [
    "import os\n",
    "import matplotlib.pyplot as plt\n",
    "\n",
    "from obspy import UTCDateTime, Stream, Trace\n",
    "from scipy.signal import welch, periodogram\n",
    "from numpy import zeros, argmax, arange\n",
    "from tqdm.notebook import tqdm\n",
    "from pandas import DataFrame, read_pickle\n",
    "\n",
    "from andbro__querrySeismoData import __querrySeismoData"
   ]
  },
  {
   "cell_type": "markdown",
   "id": "5d211582",
   "metadata": {},
   "source": [
    "## Define Methods"
   ]
  },
  {
   "cell_type": "code",
   "execution_count": 5,
   "id": "fa7c6acc",
   "metadata": {
    "ExecuteTime": {
     "end_time": "2023-04-10T17:22:07.883049Z",
     "start_time": "2023-04-10T17:22:07.874988Z"
    },
    "code_folding": [
     0
    ]
   },
   "outputs": [],
   "source": [
    "def __makeplot(df):\n",
    "    \n",
    "    fig, ax = plt.subplots(3,1, figsize=(15,10), sharex=True)\n",
    "    \n",
    "    font = 13 \n",
    "\n",
    "    ax[0].scatter(df['times'], df['freqs'], s=10, color=\"r\")\n",
    "    ax[0].plot(df['times'], df['freqs'], \"k\")    \n",
    "    \n",
    "    ax[1].scatter(df['times'], df['hmhw'], s=10, color=\"r\")\n",
    "    ax[1].plot(df['times'], df['hmhw'], \"k\") \n",
    "    \n",
    "    ax[2].scatter(df['times'], df['psd_max'], s=10, color=\"r\")\n",
    "    ax[2].plot(df['times'], df['psd_max'], \"k\") \n",
    "    \n",
    "    hours = arange(df['times'].min(),df['times'].max()+3600,3600)\n",
    "\n",
    "    for i in range(3):\n",
    "        for hrs in hours:\n",
    "            ax[i].axvline(hrs, 0, 1, zorder=0, alpha=0.4,color='grey')\n",
    "    \n",
    "    plt.show();"
   ]
  },
  {
   "cell_type": "code",
   "execution_count": 6,
   "id": "7befdc6e",
   "metadata": {
    "ExecuteTime": {
     "end_time": "2023-04-10T17:22:08.462303Z",
     "start_time": "2023-04-10T17:22:08.454850Z"
    },
    "code_folding": [
     0
    ]
   },
   "outputs": [],
   "source": [
    "def __half_width_half_max(data):\n",
    "\n",
    "    from scipy.signal import find_peaks, peak_widths\n",
    "    from numpy import argmax\n",
    "    \n",
    "    peaks, _ = find_peaks(data)\n",
    "\n",
    "    half = peak_widths(data, peaks, rel_height=0.5)\n",
    "\n",
    "    idx = argmax(half[1])\n",
    "    \n",
    "    y, xmin, xmax = half[1][idx], half[2][idx], half[3][idx]\n",
    "#     return xmin, xmax, y\n",
    "\n",
    "    hh = abs(half[3][idx] - half[2][idx])\n",
    "    \n",
    "    return hh"
   ]
  },
  {
   "cell_type": "code",
   "execution_count": 7,
   "id": "2da58236",
   "metadata": {
    "ExecuteTime": {
     "end_time": "2023-04-10T17:22:08.698332Z",
     "start_time": "2023-04-10T17:22:08.689365Z"
    },
    "code_folding": [
     0
    ]
   },
   "outputs": [],
   "source": [
    "def __multitaper(data, fs, n_windows=4, one_sided=True):\n",
    "\n",
    "    from spectrum import dpss, pmtm\n",
    "    from numpy import zeros, arange, linspace, argmax\n",
    "    \n",
    "    \n",
    "    NN = len(data)\n",
    "    \n",
    "    ## Option 1\n",
    "    #[tapers, eigen] = dpss(NN, 2.5, n_windows)\n",
    "    # spectra, weights, eigenvalues = pmtm(data, e=tapers, v=eigen, show=True)\n",
    "\n",
    "    ## Option 2\n",
    "    # res = pmtm(data, NW=2.5, show=False)\n",
    "    spectra, weights, eigenvalues = pmtm(data, NW=2.5, k=n_windows, show=False)\n",
    "\n",
    "    ## average spectra\n",
    "    estimate = zeros(len(spectra[0]))\n",
    "    for m in range(n_windows):\n",
    "        estimate += (abs(spectra[m])**2)\n",
    "    estimate /= n_windows\n",
    "    \n",
    "    l = len(estimate)\n",
    "    frequencies = linspace(-0.5*fs, 0.5*fs, l)\n",
    "    \n",
    "    if one_sided:\n",
    "        f_tmp, psd_tmp = frequencies[int(l/2):], estimate[:int(l/2)]\n",
    "    else:\n",
    "        f_tmp, psd_tmp = frequencies, estimate\n",
    "    \n",
    "    \n",
    "    f_max = f_tmp[argmax(psd_tmp)]\n",
    "    p_max = max(psd_tmp)\n",
    "    h_tmp = __half_width_half_max(psd_tmp)\n",
    "    \n",
    "    return f_tmp, f_max, p_max, h_tmp"
   ]
  },
  {
   "cell_type": "code",
   "execution_count": 8,
   "id": "2ba5ff0d",
   "metadata": {
    "ExecuteTime": {
     "end_time": "2023-04-10T17:22:08.863584Z",
     "start_time": "2023-04-10T17:22:08.857341Z"
    },
    "code_folding": [
     0
    ]
   },
   "outputs": [],
   "source": [
    "def __periodogram(st_in, fs):\n",
    "    \n",
    "    from scipy.signal.windows import tukey\n",
    "    from scipy.signal import periodogram\n",
    "    from numpy import nanmean, argmax\n",
    "    \n",
    "    st_cp = st_in.copy()\n",
    "            \n",
    "    tukey_win = tukey(len(st_cp[0].data))\n",
    "\n",
    "    f_tmp, psd_tmp = periodogram(st_cp[0].data, \n",
    "                                 fs=fs, \n",
    "                                 window=tukey_win, \n",
    "                                 nfft=None, \n",
    "                                 detrend='constant', \n",
    "                                 return_onesided=True, \n",
    "                                 scaling='density', \n",
    "                                 )\n",
    "\n",
    "    f_max = f_tmp[argmax(psd_tmp)]\n",
    "    p_max = max(psd_tmp)\n",
    "    h_tmp = __half_width_half_max(psd_tmp)\n",
    "    \n",
    "    return f_tmp, f_max, p_max, h_tmp"
   ]
  },
  {
   "cell_type": "code",
   "execution_count": 9,
   "id": "e483ade3",
   "metadata": {
    "ExecuteTime": {
     "end_time": "2023-04-10T17:22:09.045768Z",
     "start_time": "2023-04-10T17:22:09.039143Z"
    },
    "code_folding": [
     0
    ]
   },
   "outputs": [],
   "source": [
    "def __periodogram_multitaper(data, fs, n_windows=4):\n",
    "\n",
    "    from spectrum import dpss, pmtm\n",
    "    from numpy import zeros, arange, linspace\n",
    "    from scipy.signal import find_peaks, peak_widths\n",
    "    \n",
    "    [tapers, eigen] = dpss(len(data), 2.5, n_windows)\n",
    "\n",
    "    f_maxima, p_maxima, hh  = zeros(n_windows), zeros(n_windows), zeros(n_windows)\n",
    "    \n",
    "    for ii in range(n_windows):\n",
    "        \n",
    "        f_tmp, psd_tmp = periodogram(data, \n",
    "                                     fs=fs, \n",
    "                                     window=tapers[:,ii], \n",
    "                                     nfft=None, \n",
    "                                     detrend='constant', \n",
    "                                     return_onesided=True, \n",
    "                                     scaling='density', \n",
    "                                     )\n",
    "    \n",
    "        p_maxima[ii] = max(psd_tmp)\n",
    "        f_maxima[ii] = f_tmp[argmax(psd_tmp)]\n",
    "       \n",
    "        ## half widths\n",
    "        xx = psd_tmp[argmax(psd_tmp)-10:argmax(psd_tmp)+10]\n",
    "        peaks, _ = find_peaks(xx)\n",
    "        half = peak_widths(xx, peaks, rel_height=0.5)\n",
    "        idx = argmax(half[1]) \n",
    "        hh[ii] = abs(half[3][idx] -half[2][idx])\n",
    "        \n",
    "    f_mean = sum(f_maxima) / n_windows\n",
    "    p_mean = sum(p_maxima) / n_windows\n",
    "    h_mean = sum(hh) / n_windows\n",
    "    \n",
    "    return f_tmp, f_mean, p_mean, h_mean"
   ]
  },
  {
   "cell_type": "code",
   "execution_count": 10,
   "id": "5b7abfa9",
   "metadata": {
    "ExecuteTime": {
     "end_time": "2023-04-10T17:22:09.249647Z",
     "start_time": "2023-04-10T17:22:09.241432Z"
    },
    "code_folding": [
     0
    ]
   },
   "outputs": [],
   "source": [
    "def __hilbert(config, st, fs):\n",
    "\n",
    "    from scipy.signal import hilbert\n",
    "    from numpy import mean, median, diff, gradient, pi, unwrap, angle, array\n",
    "    \n",
    "    st0 = st.copy()\n",
    "      \n",
    "    st0.detrend(\"linear\")\n",
    "#     st0.taper(0.01)\n",
    "    \n",
    "    \n",
    "    ## estimate instantaneous frequency with hilbert\n",
    "    signal = st0[0].data\n",
    "    \n",
    "    analytic_signal = hilbert(signal)\n",
    "\n",
    "    amplitude_envelope = abs(analytic_signal)\n",
    "    \n",
    "    instantaneous_phase = unwrap(angle(analytic_signal))\n",
    "    \n",
    "    instantaneous_frequency = (gradient(instantaneous_phase, 2) /pi * fs)\n",
    "\n",
    "    ## cut first and last 2% (corrupted)\n",
    "    dd = int(0.1*len(instantaneous_frequency))\n",
    "    \n",
    "    insta_f_cut = instantaneous_frequency[dd:-dd]\n",
    "    \n",
    "    t_mid = st0[0].times()[int((st[0].stats.npts)/2)]   \n",
    "\n",
    "    ## averaging\n",
    "    insta_f_cut_mean = mean(insta_f_cut)\n",
    "#     insta_f_cut_mean = median(insta_f_cut)\n",
    "#     insta_f_cut_mean = insta_f_cut[len(insta_f_cut)//2]\n",
    "    \n",
    "    return t_mid, insta_f_cut_mean, np.mean(amplitude_envelope) ,np.std(insta_f_cut)"
   ]
  },
  {
   "cell_type": "code",
   "execution_count": 11,
   "id": "7744cc7b",
   "metadata": {
    "ExecuteTime": {
     "end_time": "2023-04-10T17:22:09.489251Z",
     "start_time": "2023-04-10T17:22:09.475186Z"
    },
    "code_folding": [
     0
    ]
   },
   "outputs": [],
   "source": [
    "def __hilbert_multitaper(config, st, fs, n_windows=1, plot=False):\n",
    "    \n",
    "    from scipy.signal import hilbert\n",
    "    from spectrum import dpss, pmtm\n",
    "    from numpy import zeros\n",
    "    from numpy import mean, median, diff, gradient, pi, unwrap, angle, array, std\n",
    "\n",
    "    N = len(st[0].data)\n",
    "    \n",
    "    [tapers, eigen] = dpss(N, 2.5, n_windows)\n",
    "\n",
    "\n",
    "    tmp_insta_f_cut_mean = zeros(n_windows)\n",
    "    tmp_amp = zeros(n_windows)\n",
    "    tmp_std_dev = zeros(n_windows)\n",
    "    \n",
    "    for ii in range(n_windows):\n",
    "\n",
    "        st0 = st.copy()\n",
    "    \n",
    "        st0.detrend(\"demean\")\n",
    "        \n",
    "        signal = st0[0].data*tapers[:, ii]\n",
    "\n",
    "        \n",
    "        ## compute instanteous frequencies using hilbert\n",
    "        analytic_signal = hilbert(signal)\n",
    "\n",
    "        amplitude_envelope = abs(analytic_signal)\n",
    "\n",
    "        instantaneous_phase = unwrap(angle(analytic_signal))\n",
    "\n",
    "        instantaneous_frequency = (gradient(instantaneous_phase, 2) /pi * fs)\n",
    "\n",
    "        ## cut first and last 2% (corrupted)\n",
    "        dd = int(0.1*len(instantaneous_frequency))\n",
    "\n",
    "        insta_f_cut = instantaneous_frequency[dd:-dd]\n",
    "    \n",
    "        ## averaging\n",
    "        tmp_insta_f_cut_mean[ii] = mean(insta_f_cut)\n",
    "        tmp_amp[ii] = mean(amplitude_envelope)\n",
    "        tmp_std_dev[ii] = std(insta_f_cut)\n",
    "        \n",
    "    t_mid = st0[0].times()[int((st[0].stats.npts)/2)]   \n",
    "        \n",
    "    ## average for different tapers\n",
    "    insta_f_cut_mean = sum(tmp_insta_f_cut_mean)/n_windows\n",
    "    amp = sum(tmp_amp)/n_windows\n",
    "    std_dev = sum(tmp_std_dev)/n_windows\n",
    "    \n",
    "    return t_mid, insta_f_cut_mean, amp, std_dev"
   ]
  },
  {
   "cell_type": "code",
   "execution_count": 12,
   "id": "255d1475",
   "metadata": {
    "ExecuteTime": {
     "end_time": "2023-04-10T17:22:09.783247Z",
     "start_time": "2023-04-10T17:22:09.774047Z"
    },
    "code_folding": [
     0
    ]
   },
   "outputs": [],
   "source": [
    "def __spectrogram_multitaper(config, st, fs, n_windows=1):\n",
    "    \n",
    "    import numpy as np\n",
    "\n",
    "    from scipy.signal import spectrogram\n",
    "    from spectrum import dpss, pmtm\n",
    "    from numpy import zeros, argmax\n",
    "    \n",
    "    N = len(st[0].data)\n",
    "    \n",
    "    [tapers, eigen] = dpss(N, 2.5, n_windows)\n",
    "\n",
    "    tmp_insta_f, tmp_amp, tmp_std_dev  = zeros(n_windows), zeros(n_windows), zeros(n_windows)\n",
    "\n",
    "    nseg = int(N / 20)    \n",
    "    \n",
    "    for ii in range(n_windows):\n",
    "\n",
    "        st0 = st.copy()\n",
    "    \n",
    "        ## bandpass with butterworth\n",
    "        st0.detrend(\"simple\")\n",
    "        st0.taper(0.01)\n",
    "        \n",
    "        \n",
    "        ## estimate instantaneous frequency with spectrogram\n",
    "        signal = st0[0].data*tapers[:, ii]\n",
    "\n",
    "        \n",
    "        ## compute spectrogram\n",
    "        ff, tt, Sxx = spectrogram(signal, fs=fs, nperseg=nseg)\n",
    "        \n",
    "        ## frequency at sum max\n",
    "        insta_f = ff[argmax(Sxx.sum(axis=1))]\n",
    "        \n",
    "        ## add time \n",
    "        t = st0[0].times()\n",
    "        t_mid = t[int((len(t))/2)]\n",
    "        \n",
    "        ## averaging\n",
    "        tmp_insta_f[ii] = insta_f\n",
    "        tmp_amp[ii] = 0\n",
    "        tmp_std_dev[ii] = np.std(insta_f)\n",
    "    \n",
    "    \n",
    "    ## average for different tapers\n",
    "    insta_f = np.sum(tmp_insta_f)/n_windows\n",
    "    amp = np.sum(tmp_amp)/n_windows\n",
    "    std_dev = np.sum(tmp_std_dev)/n_windows\n",
    "    \n",
    "\n",
    "    \n",
    "    \n",
    "    return t_mid, insta_f, amp, std_dev"
   ]
  },
  {
   "cell_type": "markdown",
   "id": "628ce7b7",
   "metadata": {
    "ExecuteTime": {
     "end_time": "2022-11-18T08:52:32.567800Z",
     "start_time": "2022-11-18T08:52:32.564930Z"
    }
   },
   "source": [
    "## Test Chrip Signal"
   ]
  },
  {
   "cell_type": "code",
   "execution_count": 13,
   "id": "963e30bf",
   "metadata": {
    "ExecuteTime": {
     "end_time": "2023-04-10T17:22:10.522321Z",
     "start_time": "2023-04-10T17:22:10.517967Z"
    }
   },
   "outputs": [],
   "source": [
    "import numpy as np\n",
    "import matplotlib.pyplot as plt\n",
    "\n",
    "from scipy.signal import hilbert, chirp, spectrogram\n",
    "from scipy.signal.windows import tukey"
   ]
  },
  {
   "cell_type": "code",
   "execution_count": 14,
   "id": "a3b2dba7",
   "metadata": {
    "ExecuteTime": {
     "end_time": "2023-04-10T17:22:11.089392Z",
     "start_time": "2023-04-10T17:22:11.082756Z"
    },
    "code_folding": [
     0
    ]
   },
   "outputs": [],
   "source": [
    "def plot_spectrogram(title, w, fs, nseg=128):\n",
    "\n",
    "    ff, tt, Sxx = spectrogram(w, fs=fs, nperseg=nseg)\n",
    "\n",
    "    fig, ax = plt.subplots()\n",
    "\n",
    "    ax.pcolormesh(tt, ff[:145], Sxx[:145], cmap='gray_r',\n",
    "\n",
    "                  shading='gouraud')\n",
    "\n",
    "    frequencies_interp = np.interp(tt, t_axis, frequencies)\n",
    "    ax.plot(tt, frequencies_interp)\n",
    "    \n",
    "    ax.set_title(title)\n",
    "\n",
    "    ax.set_xlabel('t (sec)')\n",
    "\n",
    "#     ax.set_ylim(0, max(frequencies_interp)+10)\n",
    "    \n",
    "    ax.set_ylabel('Frequency (Hz)')\n",
    "\n",
    "    ax.grid(True)"
   ]
  },
  {
   "cell_type": "code",
   "execution_count": 15,
   "id": "3cfdc377",
   "metadata": {
    "ExecuteTime": {
     "end_time": "2023-04-10T17:22:11.544988Z",
     "start_time": "2023-04-10T17:22:11.541249Z"
    },
    "code_folding": [
     0
    ]
   },
   "outputs": [],
   "source": [
    "def white_noise(rho, sr, n, mu=0):\n",
    "    sigma = rho * np.sqrt(sr/2)\n",
    "    noise = np.random.normal(mu, sigma, n)\n",
    "    return noise"
   ]
  },
  {
   "cell_type": "code",
   "execution_count": 16,
   "id": "1c04a823",
   "metadata": {
    "ExecuteTime": {
     "end_time": "2023-04-10T17:22:11.927902Z",
     "start_time": "2023-04-10T17:22:11.923471Z"
    },
    "code_folding": [
     0
    ]
   },
   "outputs": [],
   "source": [
    "def __to_stream(arr, sps, tbeg):\n",
    "    \n",
    "    from obspy import Trace, Stream, UTCDateTime\n",
    "    \n",
    "    tr = Trace()\n",
    "    tr.data = arr\n",
    "    tr.stats.sampling_rate = sps\n",
    "    tr.stats.starttime = UTCDateTime(tbeg)\n",
    "    \n",
    "    return Stream(traces=tr)"
   ]
  },
  {
   "cell_type": "code",
   "execution_count": 17,
   "id": "3a9385de",
   "metadata": {
    "ExecuteTime": {
     "end_time": "2023-04-10T17:22:12.432190Z",
     "start_time": "2023-04-10T17:22:12.424320Z"
    },
    "code_folding": [
     0
    ]
   },
   "outputs": [],
   "source": [
    "def __hilbert_simple(st):\n",
    "\n",
    "    from scipy.signal import hilbert\n",
    "    import numpy as np\n",
    "    \n",
    "    st0 = st.copy()\n",
    "    \n",
    "    fs = st0[0].stats.sampling_rate\n",
    "    \n",
    "    \n",
    "    ## estimate instantaneous frequency with hilbert\n",
    "    signal = st0[0].data\n",
    "    \n",
    "    analytic_signal = hilbert(signal)\n",
    "\n",
    "    amplitude_envelope = np.abs(analytic_signal)\n",
    "    instantaneous_phase = np.unwrap(np.angle(analytic_signal))\n",
    "    \n",
    "    #instantaneous_frequency = (np.diff(instantaneous_phase, n=2, prepend=0) / (2.0*np.pi) * fs)\n",
    "    instantaneous_frequency = (np.gradient(instantaneous_phase, 2) / (np.pi) * fs)\n",
    "\n",
    "    times = st0[0].times()\n",
    "    \n",
    "    return times, instantaneous_frequency"
   ]
  },
  {
   "cell_type": "code",
   "execution_count": 30,
   "id": "a1b21535",
   "metadata": {
    "ExecuteTime": {
     "end_time": "2023-04-10T18:33:00.013614Z",
     "start_time": "2023-04-10T18:32:59.997725Z"
    },
    "code_folding": [
     0
    ]
   },
   "outputs": [],
   "source": [
    "def __loop(config, st0, method=\"hilbert\"):\n",
    "\n",
    "    from scipy.signal import find_peaks, peak_widths, welch, periodogram\n",
    "    from numpy import nan, zeros, linspace, ones\n",
    "    from tqdm.notebook import tqdm \n",
    "    \n",
    "\n",
    "    n1 = 0\n",
    "    n2 = config['time_steps']\n",
    "\n",
    "    ## get sampling rate from stream\n",
    "    df = st0[0].stats.sampling_rate\n",
    "    \n",
    "    NN = st0[0].stats.npts\n",
    "    TT = int(NN/df)\n",
    "    SS = int(NN/df/config['time_steps'])\n",
    "        \n",
    "    ## get starttime\n",
    "    starttime = st0[0].stats.starttime\n",
    "    \n",
    "    ## define lists\n",
    "    tt, ff, hh, pp = zeros(SS), zeros(SS)*nan, zeros(SS), zeros(SS)\n",
    "\n",
    "    ## define maximal possible Nmax for n2\n",
    "    steps = linspace(0, int(TT), int(TT/config['time_steps']))\n",
    "    \n",
    "    for ii, zz in enumerate(tqdm(steps)):\n",
    "#     for ii, zz in enumerate(steps):\n",
    "\n",
    "        \n",
    "        ## cut stream to chuncks\n",
    "        try:\n",
    "            st_tmp = st0.copy().trim(starttime+n1-config['half_time_interval'], starttime+n2+config['half_time_interval'])\n",
    "        except:\n",
    "            print(\"skip \"+str(ii))\n",
    "            n1 += config['time_steps']\n",
    "            n2 += config['time_steps']\n",
    "            continue\n",
    "        \n",
    "#         if ii % 1000 == 0:\n",
    "#             print(ii)\n",
    "#             st_tmp.plot()\n",
    "\n",
    "        ## get time series from stream\n",
    "        times = st_tmp[0].times(reftime=starttime)\n",
    "\n",
    "    \n",
    "        if method == \"hilbert\":\n",
    "\n",
    "            f_tmp, f_max, p_max, h_tmp = __hilbert(config, st_tmp, df)\n",
    "\n",
    "        elif method == \"hilbert_multitaper\":\n",
    "\n",
    "            f_tmp, f_max, p_max, h_tmp = __hilbert_multitaper(config, st_tmp, df, n_windows=config['n_windows'])\n",
    "\n",
    "        elif method == \"periodogram_multitaper\":\n",
    "\n",
    "            f_tmp, f_max, p_max, h_tmp = __periodogram_multitaper(st_tmp[0].data, df, n_windows=config['n_windows'])\n",
    "\n",
    "        elif method == \"periodogram\":\n",
    "\n",
    "            f_tmp, f_max, p_max, h_tmp = __periodogram(st_tmp, df)\n",
    "\n",
    "        elif method == \"multitaper\":\n",
    "\n",
    "            f_tmp, f_max, p_max, h_tmp = __multitaper(st_tmp[0].data, df, n_windows=config['n_windows'], one_sided=True)                \n",
    "\n",
    "        elif method == \"spectrogram_multitaper\":\n",
    "\n",
    "            f_tmp, f_max, p_max, h_tmp = __spectrogram_multitaper(config, st, df, n_windows=config['n_windows'])\n",
    "\n",
    "        ## append values to arrays\n",
    "#         tt[ii] = times[int(len(times)/2)]\n",
    "        tt[ii] = times[0] + (max(times) - min(times))/2\n",
    "        ff[ii] = f_max\n",
    "        pp[ii] = p_max\n",
    "        hh[ii] = h_tmp\n",
    "     \n",
    "        \n",
    "        n1 += config['time_steps']\n",
    "        n2 += config['time_steps']\n",
    "\n",
    "    return tt, ff, hh, pp"
   ]
  },
  {
   "cell_type": "code",
   "execution_count": 20,
   "id": "56eb690d",
   "metadata": {
    "ExecuteTime": {
     "end_time": "2023-04-10T17:22:21.431965Z",
     "start_time": "2023-04-10T17:22:21.427098Z"
    },
    "code_folding": [
     0
    ]
   },
   "outputs": [],
   "source": [
    "def __smooth(y, box_pts):\n",
    "    \n",
    "    from numpy import convolve, ones\n",
    "    from scipy.signal.windows import hanning, tukey\n",
    "    \n",
    "    win = tukey(len(y))\n",
    "    y_smooth = convolve(y, win, mode='same')\n",
    "    \n",
    "    return y_smooth"
   ]
  },
  {
   "cell_type": "code",
   "execution_count": 21,
   "id": "95384e93",
   "metadata": {
    "ExecuteTime": {
     "end_time": "2023-04-10T17:22:21.711922Z",
     "start_time": "2023-04-10T17:22:21.708576Z"
    },
    "code_folding": [
     0
    ]
   },
   "outputs": [],
   "source": [
    "def __moving_average(arr, window_size=3):\n",
    "    \n",
    "    from numpy import zeros\n",
    "    \n",
    "    i = 0\n",
    "    # Initialize an empty list to store moving averages\n",
    "    moving_averages = zeros(len(arr))\n",
    "\n",
    "    # Loop through the array to consider\n",
    "    # every window of size 3\n",
    "    while i < len(arr) - window_size + 1:\n",
    "\n",
    "        # Store elements from i to i+window_size\n",
    "        # in list to get the current window\n",
    "        window = arr[i : i + int(window_size)]\n",
    "\n",
    "        # Calculate the average of current window\n",
    "        window_average = round(sum(window) / int(window_size), 2)\n",
    "\n",
    "        # Store the average of current\n",
    "        # window in moving average list\n",
    "        moving_averages[i] = window_average\n",
    "\n",
    "        # Shift window to right by one position\n",
    "        i += 1\n",
    "\n",
    "    return moving_averages"
   ]
  },
  {
   "cell_type": "code",
   "execution_count": 22,
   "id": "20c3f252",
   "metadata": {
    "ExecuteTime": {
     "end_time": "2023-04-10T17:22:21.971956Z",
     "start_time": "2023-04-10T17:22:21.960905Z"
    },
    "code_folding": [
     0
    ]
   },
   "outputs": [],
   "source": [
    "def __plot(config):\n",
    "    \n",
    "    fig, ax = plt.subplots(4, 1, figsize=(15,10), sharex=True)\n",
    "    \n",
    "    ax[0].plot(st[0].times(), st[0].data, color=\"darkred\", label=\"S1\")\n",
    "    \n",
    "    ax[1].plot(st[0].times(), signal_reconst_interp, label=\"S2\")\n",
    "    \n",
    "    ax[2].plot(st[0].times(), st[0].data-signal_reconst_interp, color='k', label=\"Diff S1-S2\")\n",
    "    \n",
    "    ax[3].plot(tt, ff, label=\"computed\")\n",
    "    ax[3].plot(t_axis, frequencies, color=\"darkred\", ls=\"-.\", label=\"f_orig\")\n",
    "    \n",
    "    ax[0].set_ylabel(\"Amplitude\")\n",
    "    ax[1].set_ylabel(\"Amplitude\")\n",
    "    ax[2].set_ylabel(\"Amplitude\")\n",
    "    ax[3].set_xlabel(\"Time (s)\")\n",
    "    ax[3].set_ylabel(\"Frequency (Hz)\")\n",
    "    \n",
    "    ax[0].set_title(f\"method: {config['method']} | interval: {2*config['half_time_interval']}s  |  sps: {sps}Hz  |  steps: {config['time_steps']}s\")\n",
    "    \n",
    "    for i in range(4): \n",
    "        ax[i].grid(ls=\":\", zorder=-1)\n",
    "        ax[i].legend()\n",
    "    \n",
    "    return fig"
   ]
  },
  {
   "cell_type": "markdown",
   "id": "b0e52637",
   "metadata": {},
   "source": [
    "### Parameters"
   ]
  },
  {
   "cell_type": "code",
   "execution_count": 42,
   "id": "82d36572",
   "metadata": {
    "ExecuteTime": {
     "end_time": "2023-04-11T07:29:29.543844Z",
     "start_time": "2023-04-11T07:29:29.536412Z"
    }
   },
   "outputs": [
    {
     "name": "stdout",
     "output_type": "stream",
     "text": [
      "0.1\n"
     ]
    }
   ],
   "source": [
    "sps = 10\n",
    "\n",
    "duration = 1000 # in seconds\n",
    "\n",
    "fmin = .1\n",
    "fmax = .2\n",
    "\n",
    "NN = int(sps * duration)\n",
    "\n",
    "t_axis = np.linspace(0, duration, NN)\n",
    "\n",
    "\n",
    "print(1/sps)"
   ]
  },
  {
   "cell_type": "code",
   "execution_count": 48,
   "id": "1f5566bb",
   "metadata": {
    "ExecuteTime": {
     "end_time": "2023-04-11T13:21:53.830552Z",
     "start_time": "2023-04-11T13:21:53.637868Z"
    }
   },
   "outputs": [
    {
     "data": {
      "image/png": "[encoded data removed]",
      "text/plain": [
       "<Figure size 800x250 with 1 Axes>"
      ]
     },
     "metadata": {},
     "output_type": "display_data"
    }
   ],
   "source": [
    "## chirp\n",
    "frequencies = np.linspace(fmin, fmax, NN)\n",
    "signal = chirp(t_axis, fmin, t_axis[-1], fmax, method=\"quadratic\", phi=0)\n",
    "# signal = np.sin(2*np.pi*frequencies*t_axis)\n",
    "\n",
    "\n",
    "## mixing\n",
    "# frequencies= 1 + 0.01 * np.sin(2*np.pi*0.1*t_axis)\n",
    "# frequencies= 1 + 0.01 * chirp(t_axis, fmin, t_axis[-1], fmax, method=\"linear\", phi=0)\n",
    "# signal = np.sin(2*np.pi*frequencies*t_axis)\n",
    "\n",
    "\n",
    "## monofrequent\n",
    "# frequencies = np.ones(NN)\n",
    "# signal = np.sin(2*np.pi*frequencies*t_axis)\n",
    "\n",
    "\n",
    "signal[:100], signal[-100:] = 0, 0\n",
    "\n",
    "## convert to stream object\n",
    "st = __to_stream(signal, sps, \"2023-04-07 01:00\")\n",
    "\n",
    "st.plot();\n",
    "\n",
    "# fig, ax = plt.subplots(2, 1, figsize=(15,5))\n",
    "# ax[0].plot(t_axis, np.sin(2*np.pi*10*t_axis))\n",
    "# ax[0].plot(t_axis, 0.01*chirpp)\n",
    "# ax[1].plot(t_axis, signal)\n"
   ]
  },
  {
   "cell_type": "code",
   "execution_count": 44,
   "id": "62164cf0",
   "metadata": {
    "ExecuteTime": {
     "end_time": "2023-04-11T07:29:32.217784Z",
     "start_time": "2023-04-11T07:29:32.212682Z"
    }
   },
   "outputs": [],
   "source": [
    "# config = {}\n",
    "\n",
    "# config['n_windows'] = 10\n",
    "\n",
    "# config['time_steps'] = 10/sps # seconds\n",
    "\n",
    "# config['half_time_interval'] = 2000/sps # seconds  [ it is +- this interval! ]\n",
    "\n",
    "\n",
    "# ## periodogram | hilbert | hilbert_multitaper | periodogram_multitaper | multitaper | spectrogram_multitaper\n",
    "# config['method'] = 'hilbert'\n",
    "\n",
    "# print(f\"interval: {2*config['half_time_interval']}s  |  sps: {sps}Hz  |  steps: {config['time_steps']}s\")\n",
    "\n",
    "# ## ________________________________\n",
    "# ## run loop for instantaneous frequency estimation\n",
    "\n",
    "# tt, ff, hh, pp = __loop(config, st, method=config['method'])\n",
    "\n",
    "# ## reconstruct the signal based on the frequency estimation\n",
    "# signal_reconst = np.sin(2*np.pi*ff*tt)\n",
    "\n",
    "# ## interpolate to match the original times\n",
    "# ff_interp = np.interp(st[0].times(), tt, ff)\n",
    "# signal_reconst_interp = np.sin(2*np.pi*ff_interp*st[0].times())\n",
    "\n",
    "\n",
    "\n",
    "# fig = __plot(config);"
   ]
  },
  {
   "cell_type": "code",
   "execution_count": null,
   "id": "63f954de",
   "metadata": {
    "ExecuteTime": {
     "end_time": "2023-04-08T13:17:33.956617Z",
     "start_time": "2023-04-08T13:17:33.956599Z"
    }
   },
   "outputs": [],
   "source": [
    "# plot_spectrogram(\"test\", st[0].data[:int(120*sps)], sps, nseg=128)"
   ]
  },
  {
   "cell_type": "markdown",
   "id": "606a6c7b",
   "metadata": {
    "ExecuteTime": {
     "end_time": "2023-04-08T13:17:07.479786Z",
     "start_time": "2023-04-08T13:17:07.470402Z"
    }
   },
   "source": [
    "## Test Loop"
   ]
  },
  {
   "cell_type": "code",
   "execution_count": null,
   "id": "86295268",
   "metadata": {
    "ExecuteTime": {
     "start_time": "2023-04-11T16:15:02.652Z"
    },
    "code_folding": [
     10
    ]
   },
   "outputs": [
    {
     "data": {
      "application/vnd.jupyter.widget-view+json": {
       "model_id": "c2ddfa83226f4d16ba2fd5ccdc6d6c16",
       "version_major": 2,
       "version_minor": 0
      },
      "text/plain": [
       "HBox(children=(HTML(value=''), FloatProgress(value=0.0, max=1.0), HTML(value='')))"
      ]
     },
     "metadata": {},
     "output_type": "display_data"
    },
    {
     "name": "stdout",
     "output_type": "stream",
     "text": [
      "hilbert 10000\n",
      "\n",
      " interval: 2000.0s  |  sps: 10Hz  |  steps: 0.1s\n"
     ]
    },
    {
     "data": {
      "application/vnd.jupyter.widget-view+json": {
       "model_id": "00e4bbc3d95e4c378555ab7af7912c10",
       "version_major": 2,
       "version_minor": 0
      },
      "text/plain": [
       "HBox(children=(HTML(value=''), FloatProgress(value=0.0, max=10000.0), HTML(value='')))"
      ]
     },
     "metadata": {},
     "output_type": "display_data"
    }
   ],
   "source": [
    "intervals = [10000]\n",
    "# methods = ['hilbert', 'hilbert_multitaper', 'spectrogram_multitaper', 'multitaper']\n",
    "methods = ['hilbert']\n",
    "\n",
    "pairs = []\n",
    "for interval in intervals:\n",
    "    for method in methods:\n",
    "        pairs.append([method, interval])\n",
    "        \n",
    "\n",
    "for args in tqdm(pairs):\n",
    "    \n",
    "    method, interval = args\n",
    "    print(method, interval)\n",
    "    \n",
    "    config = {}\n",
    "\n",
    "    config['n_windows'] = 10\n",
    "\n",
    "    config['time_steps'] = 1/sps # seconds\n",
    "\n",
    "    config['half_time_interval'] = interval/sps # seconds  [ it is +- this interval! ]\n",
    "\n",
    "    config['method'] = method\n",
    "\n",
    "    print(f\"\\n interval: {2*config['half_time_interval']}s  |  sps: {sps}Hz  |  steps: {config['time_steps']}s\")\n",
    "\n",
    "    ## ________________________________________________\n",
    "\n",
    "    ## estimate insta. frequency\n",
    "    try:\n",
    "        tt, ff, hh, pp = __loop(config, st, method=config['method'])\n",
    "    except Exception as e:\n",
    "        print(e)\n",
    "        print(\"estimate failed!\")\n",
    "\n",
    "    ## interpolate to match the original times\n",
    "    ff_interp = np.interp(st[0].times(), tt, ff)\n",
    "    signal_reconst_interp = np.sin(2*np.pi*ff_interp*st[0].times())\n",
    "\n",
    "    ## make figure\n",
    "    fig = __plot(config);\n",
    "\n",
    "    ## save figure\n",
    "    fig.savefig(f\"./figs/mono_{config['method']}_{interval}.png\")\n",
    "\n",
    "    ## store data\n",
    "    df = DataFrame()\n",
    "    df['times_orig'] = t_axis\n",
    "    df['frequencies_orig'] = frequencies\n",
    "    df['times'] = tt\n",
    "    df['frequencies'] = ff\n",
    "    df.to_pickle(f\"./data/mono_{config['method']}_{interval}.pkl\")\n"
   ]
  },
  {
   "cell_type": "markdown",
   "id": "b64c3c15",
   "metadata": {},
   "source": [
    "## Test Multiprocess"
   ]
  },
  {
   "cell_type": "code",
   "execution_count": null,
   "id": "9a39463a",
   "metadata": {},
   "outputs": [],
   "source": []
  }
 ],
 "metadata": {
  "kernelspec": {
   "display_name": "Python 3 (ipykernel)",
   "language": "python",
   "name": "python3"
  },
  "language_info": {
   "codemirror_mode": {
    "name": "ipython",
    "version": 3
   },
   "file_extension": ".py",
   "mimetype": "text/x-python",
   "name": "python",
   "nbconvert_exporter": "python",
   "pygments_lexer": "ipython3",
   "version": "3.7.8"
  },
  "latex_envs": {
   "LaTeX_envs_menu_present": true,
   "autoclose": false,
   "autocomplete": true,
   "bibliofile": "biblio.bib",
   "cite_by": "apalike",
   "current_citInitial": 1,
   "eqLabelWithNumbers": true,
   "eqNumInitial": 1,
   "hotkeys": {
    "equation": "Ctrl-E",
    "itemize": "Ctrl-I"
   },
   "labels_anchors": false,
   "latex_user_defs": false,
   "report_style_numbering": false,
   "user_envs_cfg": false
  },
  "toc": {
   "base_numbering": 1,
   "nav_menu": {},
   "number_sections": true,
   "sideBar": true,
   "skip_h1_title": false,
   "title_cell": "Table of Contents",
   "title_sidebar": "Contents",
   "toc_cell": false,
   "toc_position": {},
   "toc_section_display": true,
   "toc_window_display": false
  },
  "varInspector": {
   "cols": {
    "lenName": 16,
    "lenType": 16,
    "lenVar": 40
   },
   "kernels_config": {
    "python": {
     "delete_cmd_postfix": "",
     "delete_cmd_prefix": "del ",
     "library": "var_list.py",
     "varRefreshCmd": "print(var_dic_list())"
    },
    "r": {
     "delete_cmd_postfix": ") ",
     "delete_cmd_prefix": "rm(",
     "library": "var_list.r",
     "varRefreshCmd": "cat(var_dic_list()) "
    }
   },
   "types_to_exclude": [
    "module",
    "function",
    "builtin_function_or_method",
    "instance",
    "_Feature"
   ],
   "window_display": false
  }
 },
 "nbformat": 4,
 "nbformat_minor": 5
}
