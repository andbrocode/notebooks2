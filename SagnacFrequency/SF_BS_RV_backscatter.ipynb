{
 "cells": [
  {
   "cell_type": "markdown",
   "id": "22f5c8c9",
   "metadata": {
    "ExecuteTime": {
     "end_time": "2022-10-28T13:00:52.763484Z",
     "start_time": "2022-10-28T13:00:52.761516Z"
    }
   },
   "source": [
    "## Sagnac Frequency - Backscatter Correction - RV Backscatter"
   ]
  },
  {
   "cell_type": "markdown",
   "id": "1cd32aed",
   "metadata": {},
   "source": [
    "Explore the longterm behaviour of the RV sagnac beat"
   ]
  },
  {
   "cell_type": "markdown",
   "id": "185b1a0b",
   "metadata": {},
   "source": [
    "## Imports"
   ]
  },
  {
   "cell_type": "code",
   "execution_count": null,
   "id": "818caf4c",
   "metadata": {
    "ExecuteTime": {
     "end_time": "2023-06-27T08:11:10.277643Z",
     "start_time": "2023-06-27T08:11:08.781535Z"
    },
    "tags": []
   },
   "outputs": [],
   "source": [
    "import os\n",
    "import gc\n",
    "import matplotlib.pyplot as plt\n",
    "import numpy as np\n",
    "\n",
    "from datetime import datetime, date\n",
    "from pandas import DataFrame, read_pickle, date_range, concat, read_csv\n",
    "from obspy import UTCDateTime, read, Trace, Stream, read_inventory\n",
    "from scipy.signal import hilbert\n",
    "from scipy.ndimage import gaussian_filter1d\n",
    "\n",
    "from functions.get_fft import __get_fft\n",
    "from functions.multitaper_psd import __multitaper_psd\n",
    "from functions.welch_psd import __welch_psd\n",
    "\n",
    "from andbro__read_sds import __read_sds\n",
    "from andbro__readYaml import __readYaml\n",
    "from andbro__load_FURT_stream import __load_furt_stream"
   ]
  },
  {
   "cell_type": "code",
   "execution_count": null,
   "id": "b83c9987",
   "metadata": {
    "ExecuteTime": {
     "end_time": "2023-06-27T08:11:10.288084Z",
     "start_time": "2023-06-27T08:11:10.284752Z"
    },
    "tags": []
   },
   "outputs": [],
   "source": [
    "if os.uname().nodename == 'lighthouse':\n",
    "    root_path = '/home/andbro/'\n",
    "    data_path = '/home/andbro/kilauea-data/'\n",
    "    archive_path = '/home/andbro/freenas/'\n",
    "    bay_path = '/home/andbro/bay200/'\n",
    "elif os.uname().nodename == 'kilauea':\n",
    "    root_path = '/home/brotzer/'\n",
    "    data_path = '/import/kilauea-data/'\n",
    "    archive_path = '/import/freenas-ffb-01-data/'\n",
    "    bay_path = '/bay200/'\n",
    "elif os.uname().nodename == 'lin-ffb-01':\n",
    "    root_path = '/home/brotzer/'\n",
    "    data_path = '/import/kilauea-data/'\n",
    "    archive_path = '/import/freenas-ffb-01-data/'\n",
    "    bay_path = '/bay200/'"
   ]
  },
  {
   "cell_type": "code",
   "execution_count": null,
   "id": "6d4dc8b2-cc89-420e-a4cf-5ca715a57aa7",
   "metadata": {
    "tags": []
   },
   "outputs": [],
   "source": [
    "from functions.reduce import __reduce\n",
    "from functions.load_backscatter_data import __load_backscatter_data"
   ]
  },
  {
   "cell_type": "markdown",
   "id": "ec2578ab",
   "metadata": {},
   "source": [
    "## Configurations"
   ]
  },
  {
   "cell_type": "code",
   "execution_count": null,
   "id": "ba83e3e7",
   "metadata": {
    "ExecuteTime": {
     "end_time": "2023-06-27T08:11:13.008382Z",
     "start_time": "2023-06-27T08:11:13.002517Z"
    },
    "tags": []
   },
   "outputs": [],
   "source": [
    "config = {}\n",
    "\n",
    "config['ring'] = \"V\"\n",
    "\n",
    "config['seed'] = f\"BW.DROMY..FJ{config['ring']}\"\n",
    "\n",
    "config['path_to_sds'] = archive_path+\"romy_archive/\"\n",
    "\n",
    "\n",
    "config['tbeg'] = UTCDateTime(\"2024-05-22 16:00\")\n",
    "config['tend'] = UTCDateTime(\"2024-06-07 00:00\")\n",
    "\n",
    "flim1, flim2 = 447.726, 447.736\n",
    "\n",
    "\n",
    "\n",
    "## path to Sagnac data\n",
    "config['path_to_autodata'] = archive_path+f\"romy_autodata/\"\n",
    "\n",
    "config['path_to_data'] = data_path+\"sagnac_frequency/data/backscatter/\"\n",
    "\n",
    "config['path_to_out_data'] = data_path+\"sagnac_frequency/data/\"\n",
    "\n",
    "config['path_to_figs'] = data_path+\"sagnac_frequency/figures/\"\n",
    "\n",
    "config['colors'] = {  1:'darkgreen',\n",
    "                      3:'lightgreen',\n",
    "                      4:'purple',\n",
    "                      5:'darkred',\n",
    "                      6:'darkblue',\n",
    "                      7:'darkorange',\n",
    "                      8:'darkcyan',\n",
    "                      9:'cyan',\n",
    "                     }"
   ]
  },
  {
   "cell_type": "markdown",
   "id": "12ef7747-2cb6-4561-bfe3-ccd226aae9dc",
   "metadata": {
    "tags": []
   },
   "source": [
    "## Configurations"
   ]
  },
  {
   "cell_type": "code",
   "execution_count": null,
   "id": "5d8a5d06-0406-40f2-865b-93ad62f11e51",
   "metadata": {
    "tags": []
   },
   "outputs": [],
   "source": [
    "bs = __load_backscatter_data(config['tbeg'], config['tend'], config['ring'], config['path_to_data'])\n",
    "\n",
    "bs['time_sec'] = bs.time2 - bs.time1 + (bs.time1 - bs.time1.loc[0])"
   ]
  },
  {
   "cell_type": "markdown",
   "id": "3e53acfb-0295-4a70-a83e-337b7ed465a2",
   "metadata": {},
   "source": [
    "### Compute Backscatter (again)"
   ]
  },
  {
   "cell_type": "code",
   "execution_count": null,
   "id": "73528b65-7674-4d8e-a1e0-1a2d87ad0709",
   "metadata": {
    "tags": []
   },
   "outputs": [],
   "source": [
    "from functions.backscatter_correction import __backscatter_correction"
   ]
  },
  {
   "cell_type": "code",
   "execution_count": null,
   "id": "a45ff2da-cbcc-4a75-842a-85304cfbf9dd",
   "metadata": {
    "tags": []
   },
   "outputs": [],
   "source": [
    "# unwrap phases as one time series\n",
    "bs['fj_ph'] = np.unwrap(bs.fj_ph)\n",
    "bs['f1_ph'] = np.unwrap(bs.f1_ph)\n",
    "bs['f2_ph'] = np.unwrap(bs.f2_ph)\n",
    "\n",
    "# fractional beat modulations\n",
    "m01 = bs.f1_ac / bs.f1_dc\n",
    "m02 = bs.f2_ac / bs.f2_dc\n",
    "\n",
    "# phase difference\n",
    "ph1 = bs.f1_ph\n",
    "ph2 = bs.f2_ph\n",
    "phase0 = ph2 - ph1\n",
    "\n",
    "# beat signal observed\n",
    "w_obs = bs.fj_fs\n",
    "\n",
    "# compute backscatter corrected signal\n",
    "bs['fj_bs'] = __backscatter_correction(m01, m02, phase0, w_obs, np.median(bs.fj_fs), cm_filter_factor=1.033)"
   ]
  },
  {
   "cell_type": "code",
   "execution_count": null,
   "id": "f36b7207-0737-494e-9545-81278604fc06",
   "metadata": {
    "tags": []
   },
   "outputs": [],
   "source": []
  },
  {
   "cell_type": "code",
   "execution_count": null,
   "id": "5d07a94d-79ed-4f72-ae54-2b345a645eaa",
   "metadata": {
    "tags": []
   },
   "outputs": [],
   "source": [
    "plt.figure(figsize=(15, 5))\n",
    "plt.plot(bs.time_sec/86400, bs.fj_fs)\n",
    "plt.plot(bs.time_sec/86400, bs.fj_bs)\n",
    "\n",
    "# plt.plot(bs.time_sec/86400, gaussian_filter1d(bs.fj_bs, 2))\n",
    "\n",
    "plt.ylim(flim1, flim2)"
   ]
  },
  {
   "cell_type": "code",
   "execution_count": null,
   "id": "ac965f67-8ee5-4c01-ac19-8e1527bede0d",
   "metadata": {},
   "outputs": [],
   "source": []
  },
  {
   "cell_type": "markdown",
   "id": "c5b9e835-f58a-4241-ba3f-ec5427ffa35c",
   "metadata": {},
   "source": [
    "### Cut corrupt data periods"
   ]
  },
  {
   "cell_type": "code",
   "execution_count": null,
   "id": "7f016660-577e-42a4-907d-9a7190a147e2",
   "metadata": {
    "tags": []
   },
   "outputs": [],
   "source": [
    "# times = [(\"2023-12-04T09:11\", \"2023-12-04T18:01\")]\n",
    "\n",
    "# for t1, t2 in times:\n",
    "#     bs['fj_fs'] = np.where((bs.time1 > t1) & (bs.time1 < t2), np.nan, bs.fj_fs)\n",
    "#     bs['fj_bs'] = np.where((bs.time1 > t1) & (bs.time1 < t2), np.nan, bs.fj_bs)\n",
    "\n",
    "\n",
    "# bs['fj_fs'] = np.nan_to_num(bs['fj_fs'], nan=np.nanmedian(bs['fj_fs']))\n",
    "# bs['fj_bs'] = np.nan_to_num(bs['fj_bs'], nan=np.nanmedian(bs['fj_bs']))"
   ]
  },
  {
   "cell_type": "code",
   "execution_count": null,
   "id": "a110303c-2c40-4558-a12a-c7dd99b09d6a",
   "metadata": {
    "tags": []
   },
   "outputs": [],
   "source": [
    "from functions.load_mlti import __load_mlti\n",
    "\n",
    "mlti = __load_mlti(config['tbeg'], config['tend'], config['ring'], archive_path)"
   ]
  },
  {
   "cell_type": "code",
   "execution_count": null,
   "id": "3073c5f9-f439-4b8b-a9f5-6702bfbd492c",
   "metadata": {
    "tags": []
   },
   "outputs": [],
   "source": [
    "from functions.get_mlti_intervals import __get_mlti_intervals\n",
    "\n",
    "mlti_t1, mlti_t2 = __get_mlti_intervals(mlti.time_utc)"
   ]
  },
  {
   "cell_type": "code",
   "execution_count": null,
   "id": "f57efd20-ec2a-4e9e-baa3-29b5de985ead",
   "metadata": {
    "tags": []
   },
   "outputs": [],
   "source": [
    "from functions.mlti_intervals_to_NaN import __mlti_intervals_to_NaN\n",
    "\n",
    "bs = __mlti_intervals_to_NaN(bs, \"fj_fs\", \"time1\", mlti_t1, mlti_t2, t_offset_sec=300)\n",
    "bs = __mlti_intervals_to_NaN(bs, \"fj_bs\", \"time1\", mlti_t1, mlti_t2, t_offset_sec=300)"
   ]
  },
  {
   "cell_type": "markdown",
   "id": "60589676-e1b9-449d-92a9-22ba4cbe5e18",
   "metadata": {},
   "source": [
    "### Apply special filter sections"
   ]
  },
  {
   "cell_type": "code",
   "execution_count": null,
   "id": "512abf36-a40d-480f-9177-556a493a4cbc",
   "metadata": {
    "tags": []
   },
   "outputs": [],
   "source": [
    "from functions.interpolate_nan import __interpolate_nan\n",
    "\n",
    "bs['fj_fs_inter'] = __interpolate_nan(np.array(bs.fj_fs_nan))\n",
    "bs['fj_bs_inter'] = __interpolate_nan(np.array(bs.fj_bs_nan))"
   ]
  },
  {
   "cell_type": "code",
   "execution_count": null,
   "id": "09b3cefb-1f20-400e-822c-37dde096970a",
   "metadata": {
    "tags": []
   },
   "outputs": [],
   "source": [
    "from functions.smoothing import __smooth\n",
    "\n",
    "n_minutes = 60\n",
    "\n",
    "bs['fj_fs_smooth'] = __smooth(bs.fj_fs_inter, n_minutes)\n",
    "bs['fj_bs_smooth'] = __smooth(bs.fj_bs_inter, n_minutes)"
   ]
  },
  {
   "cell_type": "markdown",
   "id": "2f3154b6-1c6a-436d-97bf-0e86d840b43d",
   "metadata": {},
   "source": [
    "### Load LXX maintenance"
   ]
  },
  {
   "cell_type": "code",
   "execution_count": null,
   "id": "fcb83285-ae34-4335-be4e-977e1d22561a",
   "metadata": {
    "tags": []
   },
   "outputs": [],
   "source": [
    "from functions.load_lxx import __load_lxx\n",
    "\n",
    "lxx =__load_lxx(config['tbeg'], config['tend'], archive_path)"
   ]
  },
  {
   "cell_type": "code",
   "execution_count": null,
   "id": "30338cfb-dfab-4814-9555-15fc6d779ef7",
   "metadata": {
    "tags": []
   },
   "outputs": [],
   "source": [
    "from functions.get_lxx_intervals import __get_lxx_intervals\n",
    "\n",
    "lxx_t1, lxx_t2 = __get_lxx_intervals(lxx.datetime)"
   ]
  },
  {
   "cell_type": "code",
   "execution_count": null,
   "id": "29db4aa6-6f90-4d14-a55a-fa5ccb7106ce",
   "metadata": {
    "tags": []
   },
   "outputs": [],
   "source": [
    "bs"
   ]
  },
  {
   "cell_type": "markdown",
   "id": "97787288-abff-4aa9-8601-0832ceaa11d8",
   "metadata": {},
   "source": [
    "### Checkup Plot"
   ]
  },
  {
   "cell_type": "code",
   "execution_count": null,
   "id": "2ae877ec-3074-4929-a0f1-d866cb07ae39",
   "metadata": {
    "tags": []
   },
   "outputs": [],
   "source": [
    "def __makeplot():\n",
    "\n",
    "    Nrow, Ncol = 1, 1\n",
    "\n",
    "    font = 12\n",
    "\n",
    "    fig, ax = plt.subplots(Nrow, Ncol, figsize=(15, 5), sharex=True)\n",
    "\n",
    "    plt.subplots_adjust(hspace=0.1)\n",
    "\n",
    "    # time_scaling = 1/86400\n",
    "    time_scaling = 1\n",
    "    ref_date = str(bs.time1.iloc[0])[:10]\n",
    "\n",
    "    ax.plot(bs.time_sec*time_scaling, bs.fj_fs, color=\"tab:grey\", alpha=0.3, label=\"raw\")\n",
    "    ax.plot(bs.time_sec*time_scaling, bs.fj_fs_nan, color=\"tab:blue\", label=\"cleaned\")\n",
    "    # ax.plot(bs.time_sec*time_scaling, bs.fj_fs_smooth, color=\"k\", label=f\"mov. avg. ({n_minutes} min)\")\n",
    "    ax.set_ylim(flim1, flim2)\n",
    "    ax.ticklabel_format(useOffset=False)\n",
    "    ax.set_ylabel(\"$\\delta f$ north ring (Hz)\", fontsize=font)\n",
    "\n",
    "    ax.grid(ls=\":\", zorder=0)\n",
    "    ax.legend(loc=1)\n",
    "    ax.set_xlim(left=0)\n",
    "\n",
    "    for lx1, lx2 in zip(lxx_t1, lxx_t2):\n",
    "        lx1_sec = lx1-UTCDateTime(ref_date)\n",
    "        lx2_sec = lx2-UTCDateTime(ref_date)\n",
    "        ax.fill_betweenx([flim1, flim2], lx1_sec, lx2_sec, color=\"yellow\", alpha=0.5)\n",
    "\n",
    "    ## add dates to x-axis\n",
    "    tcks = ax.get_xticks()\n",
    "    tcklbls = [f\"{UTCDateTime(UTCDateTime(ref_date)+t).date} \\n {UTCDateTime(UTCDateTime(ref_date)+t).time}\" for t in tcks]\n",
    "    ax.set_xticklabels(tcklbls)\n",
    "\n",
    "    gc.collect()\n",
    "\n",
    "    plt.show();\n",
    "    return fig\n",
    "\n",
    "fig = __makeplot();\n",
    "\n",
    "# fig.savefig(config['path_to_figs']+f\"SF_BS_R{config['ring'}_cleaned.png\", format=\"png\", dpi=150, bbox_inches='tight')\n"
   ]
  },
  {
   "cell_type": "code",
   "execution_count": null,
   "id": "cd4ac5fb-bfcc-48db-9cfa-181b6fa7cd7d",
   "metadata": {
    "tags": []
   },
   "outputs": [],
   "source": [
    "from functions.multitaper_psd import __multitaper_psd\n",
    "from scipy.signal import detrend\n",
    "\n",
    "dat1 = detrend(bs.fj_fs_inter, type=\"linear\")\n",
    "dat2 = detrend(bs.fj_bs_inter, type=\"linear\")\n",
    "\n",
    "# f1, psd1 = __multitaper_psd(dat1, 60, n_win=10, time_bandwidth=3.5)\n",
    "# f2, psd2 = __multitaper_psd(dat2, 60, n_win=10, time_bandwidth=3.5)\n",
    "\n",
    "# f1, psd1 = __welch_psd(dat1, 60, twin_sec=86400)\n",
    "# f2, psd2 = __welch_psd(dat2, 60, twin_sec=86400)\n",
    "\n",
    "psd1, f1, pha1 = __get_fft(dat1, 60)\n",
    "psd2, f2, pha2 = __get_fft(dat2, 60)\n"
   ]
  },
  {
   "cell_type": "code",
   "execution_count": null,
   "id": "3651c6a7-e3e3-4b9b-9d1c-4bc0d556a23a",
   "metadata": {
    "tags": []
   },
   "outputs": [],
   "source": [
    "def __makeplot():\n",
    "\n",
    "    Nrow, Ncol = 2, 1\n",
    "\n",
    "    font = 12\n",
    "\n",
    "    tscale, tunit = 1/86400, \"days\"\n",
    "\n",
    "    fig, ax = plt.subplots(Nrow, Ncol, figsize=(15, 8))\n",
    "\n",
    "    ax[0].plot(bs.time_sec*tscale, bs.fj_fs, color=\"tab:grey\", alpha=0.3, label=\"raw\")\n",
    "    ax[0].plot(bs.time_sec*tscale, bs.fj_fs_nan, color=\"black\", label=f\"$\\delta$f (w/ backscatter)\")\n",
    "    ax[0].plot(bs.time_sec*tscale, bs.fj_bs_nan, color=\"tab:red\", label=f\"$\\delta$f (w/o backscatter)\")\n",
    "\n",
    "    ax[0].ticklabel_format(useOffset=False)\n",
    "\n",
    "    ax[1].semilogx(f1, psd1, color=\"black\", label=f\"$\\delta$f w/ backscatter\")\n",
    "    ax[1].semilogx(f2, psd2, color=\"tab:red\", label=f\"$\\delta$f w/o backscatter\")\n",
    "\n",
    "    for _n in range(Nrow):\n",
    "        ax[_n].grid(ls=\":\", zorder=0)\n",
    "        ax[_n].legend(loc=1, fontsize=font-1, ncol=3)\n",
    "\n",
    "    ax[0].set_ylim(flim1, flim2)\n",
    "\n",
    "\n",
    "    ax[0].set_ylabel(f\"$\\delta$f (Hz)\", fontsize=font)\n",
    "    ax[0].set_xlabel(f\"Time from {config['tbeg'].date} {config['tbeg'].time} UTC ({tunit})\", fontsize=font)\n",
    "\n",
    "    # ax[1].set_ylabel(\"PSD (Hz$^2$ /Hz)\", fontsize=font)\n",
    "    ax[1].set_ylabel(\"Spectrum (Hz $\\sqrt{Hz}$)\", fontsize=font)\n",
    "    ax[1].set_xlabel(\"Frequency (Hz)\", fontsize=font)\n",
    "\n",
    "    # ax[1].axvline(1/(6*3600), ls=\"--\", color=\"grey\", zorder=0)\n",
    "    # ax[1].axvline(1/(14*3600), ls=\"--\", color=\"grey\", zorder=0)\n",
    "\n",
    "    ax[0].text(.005, .97, \"(a)\", ha='left', va='top', transform=ax[0].transAxes, fontsize=font+2)\n",
    "    ax[1].text(.005, .97, \"(b)\", ha='left', va='top', transform=ax[1].transAxes, fontsize=font+2)\n",
    "\n",
    "    # add maintenance periods\n",
    "    for lx1, lx2 in zip(lxx_t1, lxx_t2):\n",
    "        lx1_sec = ( lx1-UTCDateTime(config['tbeg']) )*tscale\n",
    "        lx2_sec = ( lx2-UTCDateTime(config['tbeg']) )*tscale\n",
    "        ax[0].fill_betweenx([flim1, flim2], lx1_sec, lx2_sec, color=\"yellow\", alpha=0.5)\n",
    "\n",
    "    plt.show();\n",
    "    return fig\n",
    "\n",
    "fig = __makeplot();\n",
    "\n",
    "fig.savefig(config['path_to_figs']+f\"SF_BS_R{config['ring']}_backscatter_spectrum_{config['tbeg']}_{config['tend']}.png\", format=\"png\", dpi=200, bbox_inches='tight')\n"
   ]
  },
  {
   "cell_type": "code",
   "execution_count": null,
   "id": "48970b06-60da-40c6-af0f-4f76bbc7deb9",
   "metadata": {
    "tags": []
   },
   "outputs": [],
   "source": [
    "def __makeplot_residual():\n",
    "\n",
    "    import matplotlib.pyplot as plt\n",
    "    import numpy as np\n",
    "    from matplotlib.gridspec import GridSpec\n",
    "    from functions.multitaper_psd import __multitaper_psd\n",
    "    from functions.welch_psd import __welch_psd\n",
    "    from functions.to_dB import __to_dB\n",
    "    from functions.variance_reduction import __variance_reduction\n",
    "\n",
    "\n",
    "    def __integrate(stt, dat):\n",
    "        _st = stt.copy()\n",
    "        _st.data = dat\n",
    "        _st.integrate()\n",
    "        return _st.data\n",
    "\n",
    "    def __rmse(arr1, arr2):\n",
    "        return np.round(np.sqrt(np.mean((arr1-arr2)**2)), 4)\n",
    "\n",
    "    def __get_residual_percent(dat1, dat2):\n",
    "        imax, vmax = np.argmax(abs(dat2-dat1)), np.amax(abs(dat2-dat1))\n",
    "        pmax = round(np.amax(dat2-dat1)/dat1[imax]*1e6, 2)\n",
    "        return pmax\n",
    "\n",
    "    def __get_lim(arrs):\n",
    "        mins = [min(arr) for arr in arrs]\n",
    "        maxs = [max(arr) for arr in arrs]\n",
    "        return min(mins + maxs), max(mins + maxs)\n",
    "\n",
    "\n",
    "\n",
    "    tscale, tunit = 1/86400, \"days\"\n",
    "\n",
    "\n",
    "    Ncol, Nrow = 1, 3\n",
    "\n",
    "    font = 12\n",
    "\n",
    "    lw = 1\n",
    "\n",
    "    scale, unit = 1, f\"Hz\"\n",
    "\n",
    "    fig = plt.figure(figsize=(15, 5))\n",
    "\n",
    "    gs = GridSpec(Nrow, Ncol, figure=fig, hspace=0)\n",
    "\n",
    "    ax1 = fig.add_subplot(gs[0:2, :])\n",
    "    ax2 = fig.add_subplot(gs[2, :])\n",
    "\n",
    "    ax1.plot(bs.time_sec*tscale, bs.fj_fs, color=\"tab:grey\", alpha=0.3, label=\"raw\")\n",
    "    ax1.plot(bs.time_sec*tscale, bs.fj_fs_nan, color=\"black\", label=f\"$\\delta$f (w/ backscatter)\")\n",
    "    ax1.plot(bs.time_sec*tscale, bs.fj_bs_nan, color=\"tab:red\", label=f\"$\\delta$f (w/o backscatter)\")\n",
    "    ax1.plot(bs.time_sec*tscale, bs.fj_bs_smooth, color=\"w\", label=f\"$\\delta$f (w/o backscatter)\")\n",
    "\n",
    "    ax2.plot(bs.time_sec*tscale, ( bs.fj_fs-bs.fj_bs )*1e3, color=\"grey\", lw=lw)\n",
    "    # ax2.fill_between(bs.time_sec*tscale, 0, ( bs.fj_fs-bs.fj_bs )*1e3, color=\"grey\", alpha=0.3)\n",
    "\n",
    "    ax1.set_ylim(flim1, flim2)\n",
    "    ax1.ticklabel_format(useOffset=False)\n",
    "    ax1.legend(loc=1, ncol=3)\n",
    "\n",
    "    ax1.set_ylabel(f\"$\\delta$f (Hz)\", fontsize=font)\n",
    "    ax2.set_ylabel(f\"residual\\n(mHz)\", fontsize=font)\n",
    "\n",
    "    for ax in [ax1]:\n",
    "        ax.get_xaxis().set_visible(False)\n",
    "\n",
    "    ax2.set_xlabel(f\"Time ({tunit}) from {config['tbeg'].date} {str(config['tbeg'].time).split('.')[0]} UTC\", fontsize=font)\n",
    "\n",
    "    ax1.text(.005, .97, \"(a)\", ha='left', va='top', transform=ax1.transAxes, fontsize=font+2)\n",
    "    ax2.text(.005, .97, \"(b)\", ha='left', va='top', transform=ax2.transAxes, fontsize=font+2)\n",
    "\n",
    "    R = __variance_reduction(bs.fj_fs, bs.fj_fs - bs.fj_bs)\n",
    "\n",
    "    txt = f\"RMSE = {__rmse(bs.fj_fs, bs.fj_bs)}, max = {__get_residual_percent(bs.fj_fs, bs.fj_bs)} ppm, R = {R}%\"\n",
    "    ax2.text(.99, .97, txt, ha='right', va='top', transform=ax2.transAxes, fontsize=font-2)\n",
    "\n",
    "    # ax1.set_title(f\"{til_in[0].stats.station} & {acc_in[0].stats.station} | f = {fmin} - {fmax} Hz\")\n",
    "\n",
    "    # ax1.grid(ls=\":\", zorder=0)\n",
    "    # ax2.grid(ls=\":\", zorder=0)\n",
    "\n",
    "    # add maintenance periods\n",
    "    for lx1, lx2 in zip(lxx_t1, lxx_t2):\n",
    "        lx1_sec = ( lx1-UTCDateTime(config['tbeg']) )*tscale\n",
    "        lx2_sec = ( lx2-UTCDateTime(config['tbeg']) )*tscale\n",
    "        ax1.fill_betweenx([flim1, flim2], lx1_sec, lx2_sec, color=\"yellow\", alpha=0.5)\n",
    "\n",
    "    plt.plot();\n",
    "    return fig\n",
    "\n",
    "fig = __makeplot_residual()\n",
    "\n",
    "fig.savefig(config['path_to_figs']+f\"SF_BS_R{config['ring']}_backscatter_residual_{config['tbeg']}_{config['tend']}.png\", format=\"png\", dpi=200, bbox_inches='tight')\n"
   ]
  },
  {
   "cell_type": "code",
   "execution_count": null,
   "id": "7e7bb48c-79a0-4737-9bab-f5bb0f1fa336",
   "metadata": {
    "tags": []
   },
   "outputs": [],
   "source": [
    "def __sagnac_to_tilt(data, ring):\n",
    "\n",
    "    from numpy import pi, sqrt, arccos, deg2rad, arcsin, cos\n",
    "\n",
    "    dip = {\"Z\":0, \"U\":109.5, \"V\":70.5, \"W\":70.5}\n",
    "\n",
    "    L = {\"Z\":11.2, \"U\":12, \"V\":12, \"W\":12}\n",
    "\n",
    "    ## Scale factor\n",
    "    S = (sqrt(3)*L[ring])/(3*632.8e-9)\n",
    "\n",
    "    ## ROMY latitude\n",
    "    lat = 48.162941\n",
    "\n",
    "    ## nominal Earth rotation\n",
    "    omegaE = 2*pi/86400\n",
    "\n",
    "    # return arcsin(data /omegaE /S) - deg2rad(lat) - deg2rad(dip[ring])\n",
    "    return arcsin(data /omegaE /S /cos(deg2rad(dip[ring])) - deg2rad(lat))"
   ]
  },
  {
   "cell_type": "code",
   "execution_count": null,
   "id": "853e6b97-a271-4f47-b582-69c74a95f3fc",
   "metadata": {
    "tags": []
   },
   "outputs": [],
   "source": [
    "# from functions.sagnac_to_tilt import __sagnac_to_tilt\n",
    "\n",
    "dff = np.array(bs.fj_bs_inter)\n",
    "\n",
    "dff_tilt = __sagnac_to_tilt(dff, config['ring'])\n",
    "\n",
    "rx = Trace()\n",
    "rx.data = dff_tilt\n",
    "rx.stats.delta = 60\n",
    "rx.stats.starttime = bs.time1.iloc[0]\n",
    "rx.stats.station = \"ROMY\"\n",
    "rx.stats.channel = f\"FJ{config['ring']}\"\n",
    "rx.stats.network = \"BW\"\n",
    "\n",
    "rx = Stream(rx)\n",
    "\n",
    "rx.plot();"
   ]
  },
  {
   "cell_type": "code",
   "execution_count": null,
   "id": "c016c421-e043-4bfa-adb4-1521cfb41907",
   "metadata": {},
   "outputs": [],
   "source": [
    "fmin, fmax = 1/(30*3600), 1/(0.1*3600)\n",
    "\n",
    "\n",
    "rxx = rx.copy()\n",
    "\n",
    "rxx = rxx.trim(config['tbeg'], config['tend'], nearest_sample=False)\n",
    "rxx = rxx.detrend(\"linear\")\n",
    "rxx = rxx.taper(0.1)\n",
    "rxx = rxx.filter(\"bandpass\", freqmin=fmin, freqmax=fmax, corners=2, zerophase=True)\n",
    "# rxx = rxx.resample(10*fmax, no_filter=True)\n",
    "rxx = rxx.trim(config['tbeg'], config['tend'], nearest_sample=True)\n",
    "\n",
    "rxx\n",
    "\n",
    "rxx.plot();"
   ]
  },
  {
   "cell_type": "code",
   "execution_count": null,
   "id": "c070ebcd-6fc9-4b64-a457-1953ab54337f",
   "metadata": {},
   "outputs": [],
   "source": []
  },
  {
   "cell_type": "code",
   "execution_count": null,
   "id": "4cc57b6b-cb9a-4c8b-931e-d71e4954d63b",
   "metadata": {},
   "outputs": [],
   "source": []
  }
 ],
 "metadata": {
  "kernelspec": {
   "display_name": "Python 3 (ipykernel)",
   "language": "python",
   "name": "python3"
  },
  "language_info": {
   "codemirror_mode": {
    "name": "ipython",
    "version": 3
   },
   "file_extension": ".py",
   "mimetype": "text/x-python",
   "name": "python",
   "nbconvert_exporter": "python",
   "pygments_lexer": "ipython3",
   "version": "3.10.12"
  },
  "latex_envs": {
   "LaTeX_envs_menu_present": true,
   "autoclose": false,
   "autocomplete": true,
   "bibliofile": "biblio.bib",
   "cite_by": "apalike",
   "current_citInitial": 1,
   "eqLabelWithNumbers": true,
   "eqNumInitial": 1,
   "hotkeys": {
    "equation": "Ctrl-E",
    "itemize": "Ctrl-I"
   },
   "labels_anchors": false,
   "latex_user_defs": false,
   "report_style_numbering": false,
   "user_envs_cfg": false
  },
  "toc": {
   "base_numbering": 1,
   "nav_menu": {},
   "number_sections": true,
   "sideBar": true,
   "skip_h1_title": false,
   "title_cell": "Table of Contents",
   "title_sidebar": "Contents",
   "toc_cell": false,
   "toc_position": {},
   "toc_section_display": true,
   "toc_window_display": false
  },
  "varInspector": {
   "cols": {
    "lenName": 16,
    "lenType": 16,
    "lenVar": 40
   },
   "kernels_config": {
    "python": {
     "delete_cmd_postfix": "",
     "delete_cmd_prefix": "del ",
     "library": "var_list.py",
     "varRefreshCmd": "print(var_dic_list())"
    },
    "r": {
     "delete_cmd_postfix": ") ",
     "delete_cmd_prefix": "rm(",
     "library": "var_list.r",
     "varRefreshCmd": "cat(var_dic_list()) "
    }
   },
   "types_to_exclude": [
    "module",
    "function",
    "builtin_function_or_method",
    "instance",
    "_Feature"
   ],
   "window_display": false
  }
 },
 "nbformat": 4,
 "nbformat_minor": 5
}
