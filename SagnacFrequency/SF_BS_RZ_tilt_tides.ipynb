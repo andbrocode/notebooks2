{
 "cells": [
  {
   "cell_type": "markdown",
   "id": "22f5c8c9",
   "metadata": {
    "ExecuteTime": {
     "end_time": "2022-10-28T13:00:52.763484Z",
     "start_time": "2022-10-28T13:00:52.761516Z"
    }
   },
   "source": [
    "## Sagnac Frequency - Backscatter Correction - RV Tilt"
   ]
  },
  {
   "cell_type": "markdown",
   "id": "1cd32aed",
   "metadata": {},
   "source": [
    "Explore the longterm behaviour of the RU sagnac beat"
   ]
  },
  {
   "cell_type": "markdown",
   "id": "185b1a0b",
   "metadata": {},
   "source": [
    "## Imports"
   ]
  },
  {
   "cell_type": "code",
   "execution_count": null,
   "id": "818caf4c",
   "metadata": {
    "ExecuteTime": {
     "end_time": "2023-06-27T08:11:10.277643Z",
     "start_time": "2023-06-27T08:11:08.781535Z"
    },
    "tags": []
   },
   "outputs": [],
   "source": [
    "import os\n",
    "import gc\n",
    "import matplotlib.pyplot as plt\n",
    "import numpy as np\n",
    "\n",
    "from datetime import datetime, date\n",
    "from pandas import DataFrame, read_pickle, date_range, concat, read_csv\n",
    "from obspy import UTCDateTime, read, Trace, Stream, read_inventory\n",
    "from scipy.signal import hilbert\n",
    "\n",
    "from functions.get_fft import __get_fft\n",
    "from functions.multitaper_psd import __multitaper_psd\n",
    "from functions.welch_psd import __welch_psd\n",
    "from functions.compute_cwt import __compute_cwt\n",
    "from functions.sagnac_to_tilt import __sagnac_to_tilt\n",
    "\n",
    "from andbro__read_sds import __read_sds\n",
    "from andbro__readYaml import __readYaml\n",
    "from andbro__load_FURT_stream import __load_furt_stream"
   ]
  },
  {
   "cell_type": "code",
   "execution_count": null,
   "id": "b83c9987",
   "metadata": {
    "ExecuteTime": {
     "end_time": "2023-06-27T08:11:10.288084Z",
     "start_time": "2023-06-27T08:11:10.284752Z"
    },
    "tags": []
   },
   "outputs": [],
   "source": [
    "if os.uname().nodename == 'lighthouse':\n",
    "    root_path = '/home/andbro/'\n",
    "    data_path = '/home/andbro/kilauea-data/'\n",
    "    archive_path = '/home/andbro/freenas/'\n",
    "    bay_path = '/home/andbro/bay200/'\n",
    "elif os.uname().nodename == 'kilauea':\n",
    "    root_path = '/home/brotzer/'\n",
    "    data_path = '/import/kilauea-data/'\n",
    "    archive_path = '/import/freenas-ffb-01-data/'\n",
    "    bay_path = '/bay200/'\n",
    "elif os.uname().nodename == 'lin-ffb-01':\n",
    "    root_path = '/home/brotzer/'\n",
    "    data_path = '/import/kilauea-data/'\n",
    "    archive_path = '/import/freenas-ffb-01-data/'\n",
    "    bay_path = '/bay200/'"
   ]
  },
  {
   "cell_type": "code",
   "execution_count": null,
   "id": "6d4dc8b2-cc89-420e-a4cf-5ca715a57aa7",
   "metadata": {
    "tags": []
   },
   "outputs": [],
   "source": [
    "from functions.reduce import __reduce\n",
    "from functions.load_backscatter_data import __load_backscatter_data\n",
    "from functions.backscatter_correction import __backscatter_correction"
   ]
  },
  {
   "cell_type": "markdown",
   "id": "ec2578ab",
   "metadata": {},
   "source": [
    "## Configurations"
   ]
  },
  {
   "cell_type": "code",
   "execution_count": null,
   "id": "ba83e3e7",
   "metadata": {
    "ExecuteTime": {
     "end_time": "2023-06-27T08:11:13.008382Z",
     "start_time": "2023-06-27T08:11:13.002517Z"
    },
    "tags": []
   },
   "outputs": [],
   "source": [
    "config = {}\n",
    "\n",
    "config['ring'] = \"Z\"\n",
    "\n",
    "config['delta'] = 60\n",
    "\n",
    "config['seed'] = f\"BW.DROMY..FJ{config['ring']}\"\n",
    "\n",
    "config['path_to_sds'] = archive_path+\"romy_archive/\"\n",
    "\n",
    "# switch of PDs for monobeams at RZ & new control loop\n",
    "config['tbeg'] = UTCDateTime(\"2024-08-09 11:00\")\n",
    "config['tend'] = UTCDateTime(\"2024-08-20 00:00\")\n",
    "flim1, flim2 = 553.569, 553.577\n",
    "\n",
    "# path to Sagnac data\n",
    "config['path_to_autodata'] = archive_path+f\"romy_autodata/\"\n",
    "\n",
    "config['path_to_data'] = data_path+\"sagnac_frequency/data/backscatter/\"\n",
    "\n",
    "config['path_to_figs'] = data_path+\"sagnac_frequency/figures/\"\n"
   ]
  },
  {
   "cell_type": "markdown",
   "id": "12ef7747-2cb6-4561-bfe3-ccd226aae9dc",
   "metadata": {
    "tags": []
   },
   "source": [
    "## Configurations"
   ]
  },
  {
   "cell_type": "code",
   "execution_count": null,
   "id": "5d8a5d06-0406-40f2-865b-93ad62f11e51",
   "metadata": {
    "tags": []
   },
   "outputs": [],
   "source": [
    "bs = __load_backscatter_data(config['tbeg'], config['tend'], config['ring'], config['path_to_data'])\n",
    "\n",
    "bs['time_sec'] = bs.time2 - bs.time1 + (bs.time1 - bs.time1.loc[0])"
   ]
  },
  {
   "cell_type": "markdown",
   "id": "3e53acfb-0295-4a70-a83e-337b7ed465a2",
   "metadata": {},
   "source": [
    "### Compute Backscatter (again)"
   ]
  },
  {
   "cell_type": "code",
   "execution_count": null,
   "id": "a45ff2da-cbcc-4a75-842a-85304cfbf9dd",
   "metadata": {
    "tags": []
   },
   "outputs": [],
   "source": [
    "# compute backscatter corrected signal\n",
    "bs['fj_bs'], _, _ = __backscatter_correction(bs.f1_ac / bs.f1_dc,\n",
    "                                             bs.f2_ac / bs.f2_dc,\n",
    "                                             np.unwrap(bs.f1_phw) - np.unwrap(bs.f2_phw),\n",
    "                                             bs.fj_fs,\n",
    "                                             np.nanmedian(bs.fj_fs),\n",
    "                                             cm_filter_factor=1.033,\n",
    "                                             )\n"
   ]
  },
  {
   "cell_type": "code",
   "execution_count": null,
   "id": "5d07a94d-79ed-4f72-ae54-2b345a645eaa",
   "metadata": {
    "tags": []
   },
   "outputs": [],
   "source": [
    "plt.figure(figsize=(15, 5))\n",
    "plt.plot(bs.time_sec/86400, bs.fj_fs)\n",
    "plt.ylim(flim1, flim2)"
   ]
  },
  {
   "cell_type": "markdown",
   "id": "c5b9e835-f58a-4241-ba3f-ec5427ffa35c",
   "metadata": {},
   "source": [
    "### Cut corrupt data periods"
   ]
  },
  {
   "cell_type": "code",
   "execution_count": null,
   "id": "7f016660-577e-42a4-907d-9a7190a147e2",
   "metadata": {
    "tags": []
   },
   "outputs": [],
   "source": [
    "# times = [(\"2023-12-04T09:11\", \"2023-12-04T18:01\")]\n",
    "\n",
    "# for t1, t2 in times:\n",
    "#     bs['fj_fs'] = np.where((bs.time1 > t1) & (bs.time1 < t2), np.nan, bs.fj_fs)\n",
    "#     bs['fj_bs'] = np.where((bs.time1 > t1) & (bs.time1 < t2), np.nan, bs.w_s)\n",
    "\n",
    "\n",
    "# bs['fj_fs'] = np.nan_to_num(bs['fj_fs'], nan=np.nanmedian(bs['fj_fs']))\n",
    "# bs['fj_bs'] = np.nan_to_num(bs['fj_bs'], nan=np.nanmedian(bs['fj_bs']))"
   ]
  },
  {
   "cell_type": "code",
   "execution_count": null,
   "id": "a110303c-2c40-4558-a12a-c7dd99b09d6a",
   "metadata": {
    "tags": []
   },
   "outputs": [],
   "source": [
    "from functions.load_mlti import __load_mlti\n",
    "\n",
    "mlti = __load_mlti(config['tbeg'], config['tend'], config['ring'], archive_path)"
   ]
  },
  {
   "cell_type": "code",
   "execution_count": null,
   "id": "3073c5f9-f439-4b8b-a9f5-6702bfbd492c",
   "metadata": {
    "tags": []
   },
   "outputs": [],
   "source": [
    "from functions.get_mlti_intervals import __get_mlti_intervals\n",
    "\n",
    "mlti_t1, mlti_t2 = __get_mlti_intervals(mlti.time_utc)"
   ]
  },
  {
   "cell_type": "code",
   "execution_count": null,
   "id": "f57efd20-ec2a-4e9e-baa3-29b5de985ead",
   "metadata": {
    "tags": []
   },
   "outputs": [],
   "source": [
    "from functions.mlti_intervals_to_NaN import __mlti_intervals_to_NaN\n",
    "\n",
    "bs = __mlti_intervals_to_NaN(bs, \"fj_fs\", \"time1\", mlti_t1, mlti_t2, t_offset_sec=300)\n",
    "bs = __mlti_intervals_to_NaN(bs, \"fj_bs\", \"time1\", mlti_t1, mlti_t2, t_offset_sec=300)"
   ]
  },
  {
   "cell_type": "markdown",
   "id": "60589676-e1b9-449d-92a9-22ba4cbe5e18",
   "metadata": {},
   "source": [
    "### Apply special filter sections"
   ]
  },
  {
   "cell_type": "code",
   "execution_count": null,
   "id": "512abf36-a40d-480f-9177-556a493a4cbc",
   "metadata": {
    "tags": []
   },
   "outputs": [],
   "source": [
    "from functions.interpolate_nan import __interpolate_nan\n",
    "\n",
    "bs['fj_fs_inter'] = __interpolate_nan(np.array(bs.fj_fs_nan))\n",
    "bs['fj_bs_inter'] = __interpolate_nan(np.array(bs.fj_bs_nan))"
   ]
  },
  {
   "cell_type": "code",
   "execution_count": null,
   "id": "09b3cefb-1f20-400e-822c-37dde096970a",
   "metadata": {
    "tags": []
   },
   "outputs": [],
   "source": [
    "from functions.smoothing import __smooth\n",
    "\n",
    "n_minutes = 100\n",
    "\n",
    "bs['fj_fs_smooth'] = __smooth(bs.fj_fs_inter, n_minutes)\n",
    "bs['fj_bs_smooth'] = __smooth(bs.fj_bs_inter, n_minutes)"
   ]
  },
  {
   "cell_type": "markdown",
   "id": "2f3154b6-1c6a-436d-97bf-0e86d840b43d",
   "metadata": {},
   "source": [
    "### Load LXX maintenance"
   ]
  },
  {
   "cell_type": "code",
   "execution_count": null,
   "id": "fcb83285-ae34-4335-be4e-977e1d22561a",
   "metadata": {
    "tags": []
   },
   "outputs": [],
   "source": [
    "from functions.load_lxx import __load_lxx\n",
    "from functions.get_lxx_intervals import __get_lxx_intervals\n",
    "\n",
    "lxx =__load_lxx(config['tbeg'], config['tend'], archive_path)\n",
    "\n",
    "lxx_t1, lxx_t2 = __get_lxx_intervals(lxx.datetime)\n"
   ]
  },
  {
   "cell_type": "markdown",
   "id": "6f3fdde9-08b3-478e-a92c-afd2f1ade725",
   "metadata": {},
   "source": [
    "### Dejump"
   ]
  },
  {
   "cell_type": "code",
   "execution_count": null,
   "id": "e585ef8e-9f86-46be-892b-4567799804fa",
   "metadata": {},
   "outputs": [],
   "source": [
    "from functions.get_phase_jumps_sta_lta import get_phase_jumps_sta_lta\n",
    "from functions.correct_phase_jumps import __correct_phase_jumps"
   ]
  },
  {
   "cell_type": "code",
   "execution_count": null,
   "id": "a8afd627-7542-442c-986f-0abbbec039fa",
   "metadata": {},
   "outputs": [],
   "source": [
    "def __reduce_phase_jumps(data, detect):\n",
    "\n",
    "    data = np.array(data)\n",
    "\n",
    "    di = 5\n",
    "    offset = 3\n",
    "    for _i in range(len(data)):\n",
    "        if _i < di+offset:\n",
    "            continue\n",
    "\n",
    "        if detect[_i] == 1:\n",
    "            try:\n",
    "                left = np.nanmean(data[_i-offset-di:_i-offset])\n",
    "                right = np.nanmean(data[_i+offset:_i+offset+di])\n",
    "            except:\n",
    "                print(f\" -> skip {_i}\")\n",
    "                continue\n",
    "\n",
    "            diff = left - right\n",
    "\n",
    "            data[_i-3:_i] = left\n",
    "\n",
    "            data[_i:] += diff\n",
    "\n",
    "    return data"
   ]
  },
  {
   "cell_type": "code",
   "execution_count": null,
   "id": "291f8026-2bf2-4d0a-9300-fde1a06b2858",
   "metadata": {},
   "outputs": [],
   "source": [
    "ratio, detect, fig = get_phase_jumps_sta_lta(np.array(bs.fj_fs), np.array(bs.time_sec), 5, 3, amp_threshold=5e-5)"
   ]
  },
  {
   "cell_type": "code",
   "execution_count": null,
   "id": "b3c82056-b704-4d52-a4d0-fc174a35ef22",
   "metadata": {},
   "outputs": [],
   "source": [
    "# get index for mlti launches\n",
    "mlti_sec = [int((UTCDateTime(_t) - config['tbeg'])/config['delta']) for _t in mlti.time_utc]\n",
    "\n",
    "# add mlti launches to detected jumps for correction\n",
    "for _i in mlti_sec:\n",
    "    detect[_i] = 1\n",
    "    # detect[_i+10] = 1"
   ]
  },
  {
   "cell_type": "code",
   "execution_count": null,
   "id": "19593432-f928-4d5a-bf8e-d14f27b718a4",
   "metadata": {},
   "outputs": [],
   "source": [
    "bs['fj_fs_dejump'] = __correct_phase_jumps(bs.fj_fs_inter, detect)\n",
    "bs['fj_bs_dejump'] = __correct_phase_jumps(bs.fj_bs_inter, detect)"
   ]
  },
  {
   "cell_type": "markdown",
   "id": "97787288-abff-4aa9-8601-0832ceaa11d8",
   "metadata": {},
   "source": [
    "### Checkup Plot"
   ]
  },
  {
   "cell_type": "code",
   "execution_count": null,
   "id": "2ae877ec-3074-4929-a0f1-d866cb07ae39",
   "metadata": {
    "tags": []
   },
   "outputs": [],
   "source": [
    "def __makeplot():\n",
    "\n",
    "    Nrow, Ncol = 1, 1\n",
    "\n",
    "    font = 12\n",
    "\n",
    "    fig, ax = plt.subplots(Nrow, Ncol, figsize=(15, 5), sharex=True)\n",
    "\n",
    "    plt.subplots_adjust(hspace=0.1)\n",
    "\n",
    "    # time_scaling = 1/86400\n",
    "    time_scaling = 1\n",
    "    ref_date = str(bs.time1.iloc[0])[:10]\n",
    "\n",
    "    ax.plot(bs.time_sec*time_scaling, bs.fj_fs, color=\"tab:grey\", alpha=0.3, label=\"raw\")\n",
    "    ax.plot(bs.time_sec*time_scaling, bs.fj_fs_nan, color=\"tab:blue\", label=\"cleaned\")\n",
    "    # ax.plot(bs.time_sec*time_scaling, bs.fj_fs_smooth, color=\"k\", label=f\"mov. avg. ({n_minutes} min)\")\n",
    "    ax.set_ylim(flim1, flim2)\n",
    "    ax.ticklabel_format(useOffset=False)\n",
    "    ax.set_ylabel(\"$\\delta f$ north ring (Hz)\", fontsize=font)\n",
    "\n",
    "    ax.grid(ls=\":\", zorder=0)\n",
    "    ax.legend(loc=1)\n",
    "    ax.set_xlim(left=0)\n",
    "\n",
    "    for lx1, lx2 in zip(lxx_t1, lxx_t2):\n",
    "        lx1_sec = lx1-UTCDateTime(ref_date)\n",
    "        lx2_sec = lx2-UTCDateTime(ref_date)\n",
    "        ax.fill_betweenx([flim1, flim2], lx1_sec, lx2_sec, color=\"yellow\", alpha=0.5)\n",
    "\n",
    "    ## add dates to x-axis\n",
    "    tcks = ax.get_xticks()\n",
    "    tcklbls = [f\"{UTCDateTime(UTCDateTime(ref_date)+t).date} \\n {UTCDateTime(UTCDateTime(ref_date)+t).time}\" for t in tcks]\n",
    "    ax.set_xticklabels(tcklbls)\n",
    "\n",
    "    gc.collect()\n",
    "\n",
    "    plt.show();\n",
    "    return fig\n",
    "\n",
    "fig = __makeplot();\n"
   ]
  },
  {
   "cell_type": "markdown",
   "id": "0244fec6-eacb-4505-9074-03904a20f3ee",
   "metadata": {
    "tags": []
   },
   "source": [
    "### Load Tilt Data"
   ]
  },
  {
   "cell_type": "code",
   "execution_count": null,
   "id": "31e25295-87a3-4e6c-af9a-615aa72ff5c8",
   "metadata": {
    "tags": []
   },
   "outputs": [],
   "source": [
    "from functions.conversion_to_tilt import __conversion_to_tilt"
   ]
  },
  {
   "cell_type": "code",
   "execution_count": null,
   "id": "a13ea3fe-2766-4561-9d97-dd0856174f6e",
   "metadata": {
    "tags": []
   },
   "outputs": [],
   "source": [
    "# path_to_tilt = data_path+\"TiltmeterDataBackup/Tilt_downsampled/\"\n",
    "\n",
    "# tromy0 =  __read_sds(path_to_tilt, \"BW.TROMY..MAN\", config['tbeg']+17*86400-600, config['tend']+600)\n",
    "# tromy0 += __read_sds(path_to_tilt, \"BW.TROMY..MAE\", config['tbeg']+17*86400-600, config['tend']+600)\n",
    "# tromy0 += __read_sds(path_to_tilt, \"BW.TROMY..MAT\", config['tbeg']+17*86400-600, config['tend']+600)\n",
    "\n",
    "path_to_tilt = archive_path+\"romy_archive/\"\n",
    "\n",
    "tromy0 =  __read_sds(path_to_tilt, \"BW.ROMYT..MAN\", config['tbeg']-600, config['tend']+600)\n",
    "tromy0 += __read_sds(path_to_tilt, \"BW.ROMYT..MAE\", config['tbeg']-600, config['tend']+600)\n",
    "tromy0 += __read_sds(path_to_tilt, \"BW.ROMYT..MAT\", config['tbeg']-600, config['tend']+600)"
   ]
  },
  {
   "cell_type": "code",
   "execution_count": null,
   "id": "686cd881-38a5-49e5-b77d-3f8591c13156",
   "metadata": {
    "tags": []
   },
   "outputs": [],
   "source": [
    "# tiltmeter configurations\n",
    "confTilt = __readYaml(root_path+\"Documents/ROMY/tiltmeter/\", \"tiltmeter.conf\")\n",
    "\n",
    "tromy0 = __conversion_to_tilt(tromy0, confTilt['TROMY'])\n",
    "\n",
    "tromy0 = tromy0.trim(bs.time1[0], bs.time1[bs.time1.size-1]);\n",
    "\n",
    "tromy = tromy0.copy();\n",
    "\n",
    "tromy = tromy.merge();\n",
    "\n",
    "tromy.plot(equal_scale=False);"
   ]
  },
  {
   "cell_type": "code",
   "execution_count": null,
   "id": "93e4c991-42c1-459f-a1fc-d13c5e8f6503",
   "metadata": {
    "tags": []
   },
   "outputs": [],
   "source": [
    "from functions.sagnac_to_tilt import __sagnac_to_tilt"
   ]
  },
  {
   "cell_type": "code",
   "execution_count": null,
   "id": "2c4d8e5b-50be-4cb4-9fd6-e2d82d4ca577",
   "metadata": {
    "tags": []
   },
   "outputs": [],
   "source": [
    "dff = np.array(bs.fj_bs_inter)\n",
    "dff = np.array(bs.fj_bs_dejump)\n",
    "\n",
    "rx_tilt = __sagnac_to_tilt(dff, config['ring'], tilt=\"n-s\")\n",
    "# rx_tilt = __sagnac_to_tilt(dff, config['ring'], tilt=\"e-w\")\n",
    "\n",
    "rx = Stream()\n",
    "\n",
    "rx = Trace()\n",
    "rx.data = __interpolate_nan(__smooth(rx_tilt, 180))\n",
    "rx.stats.delta = 60\n",
    "rx.stats.starttime = bs.time1.iloc[0]\n",
    "rx.stats.station = \"ROMY\"\n",
    "rx.stats.channel = f\"FJ{config['ring']}\"\n",
    "rx.stats.network = \"BW\"\n",
    "\n",
    "rx.resample(5.0)"
   ]
  },
  {
   "cell_type": "code",
   "execution_count": null,
   "id": "4e2c07fb-b183-424a-8975-5c57b0449640",
   "metadata": {
    "tags": []
   },
   "outputs": [],
   "source": [
    "st0 = Stream()\n",
    "\n",
    "st0 += tromy.copy().select(channel=\"*N\")[0]\n",
    "st0 += tromy.copy().select(channel=\"*E\")[0]\n",
    "\n",
    "# st0 = st0.decimate(5, no_filter=False)\n",
    "# st0 = st0.decimate(10, no_filter=False)\n",
    "# st0 = st0.decimate(6, no_filter=False)\n",
    "\n",
    "st0 += rx.copy()\n",
    "\n",
    "st0"
   ]
  },
  {
   "cell_type": "code",
   "execution_count": null,
   "id": "4dce5d6b-7dd3-4ab7-8e06-40e9db7b5b4e",
   "metadata": {},
   "outputs": [],
   "source": [
    "plt.plot(st0.select(channel=\"*N\")[0].times(), __reduce(st0.select(channel=\"*N\")[0].data, 10))\n",
    "\n",
    "plt.plot(st0.select(channel=\"*Z\")[0].times(), __reduce(0.4*st0.select(channel=\"*Z\")[0].data, 10))\n",
    "\n",
    "# plt.ylim(-2e-7, 2e-7)"
   ]
  },
  {
   "cell_type": "code",
   "execution_count": null,
   "id": "59a19c5e-e2da-477b-a9f8-43574b209150",
   "metadata": {
    "tags": []
   },
   "outputs": [],
   "source": [
    "pmin, pmax = 13, 11 # hours\n",
    "\n",
    "st0 = st0.detrend(\"linear\")\n",
    "\n",
    "st0 = st0.taper(0.2, type=\"cosine\")\n",
    "\n",
    "Npad = 1*86400\n",
    "for tr in st0:\n",
    "    tr.data = np.pad(tr.data, Npad, mode=\"edge\")\n",
    "\n",
    "st0 = st0.filter(\"bandpass\", freqmin=1/(pmin*3600), freqmax=1/(pmax*3600), corners=2, zerophase=True)\n",
    "\n",
    "for tr in st0:\n",
    "    tr.data = tr.data[Npad:-Npad]\n",
    "\n",
    "# st0 = st0.trim(config['tbeg'], config['tend'], nearest_sample=False)\n",
    "\n",
    "st0"
   ]
  },
  {
   "cell_type": "code",
   "execution_count": null,
   "id": "161974aa-da74-46de-8294-c07d14a04e50",
   "metadata": {
    "tags": []
   },
   "outputs": [],
   "source": [
    "# print(st0)\n",
    "# for tr in st0:\n",
    "#     if \"V\" in tr.stats.channel:\n",
    "#         tr.data = tr.data[:-1]\n",
    "# print(st0)"
   ]
  },
  {
   "cell_type": "code",
   "execution_count": null,
   "id": "a2e499d3-09d2-4307-b6dc-f3f052f1f7fa",
   "metadata": {
    "tags": []
   },
   "outputs": [],
   "source": [
    "st0.plot(equal_scale=False);"
   ]
  },
  {
   "cell_type": "code",
   "execution_count": null,
   "id": "8860329a-67b4-4096-a3fa-7aa4aea7d77f",
   "metadata": {
    "tags": []
   },
   "outputs": [],
   "source": [
    "outs = {}\n",
    "\n",
    "for c in [\"N\", \"E\", config['ring']]:\n",
    "\n",
    "    tr = st0.select(channel=f\"*{c}\")[0]\n",
    "\n",
    "    ttt = tr.times()\n",
    "    arr = tr.data\n",
    "    dt = tr.stats.delta # seconds\n",
    "\n",
    "#     outs[c] = __compute_cwt(ttt, arr, dt,\n",
    "#                             tscale=\"hour\",\n",
    "#                             datalabel=\"$\\delta$f (Hz)\",\n",
    "#                             scale_value=12,\n",
    "#                             log=False, period=True, ymax=30, plot=False,\n",
    "#                            )\n"
   ]
  },
  {
   "cell_type": "code",
   "execution_count": null,
   "id": "f9170532-5e6e-4048-86d5-1ce675ffb2d4",
   "metadata": {
    "tags": []
   },
   "outputs": [],
   "source": [
    "def __makeplot_cwt_all(st0, out, clog=False, ylim=None):\n",
    "\n",
    "    import matplotlib.pyplot as plt\n",
    "    import numpy as np\n",
    "    from matplotlib.gridspec import GridSpec\n",
    "\n",
    "    def __rmse(arr1, arr2):\n",
    "        return np.round(np.sqrt(np.mean((arr1-arr2)**2)), 2)\n",
    "\n",
    "    tscale = 1/86400\n",
    "\n",
    "    times = st0.select(channel=\"*N\")[0].times()*tscale/3600\n",
    "\n",
    "    Ncol, Nrow = 1, 9\n",
    "\n",
    "    font = 12\n",
    "\n",
    "    cmap = plt.get_cmap(\"viridis\")\n",
    "\n",
    "    tilt_scale, tilt_unit = 1e9, f\"nrad\"\n",
    "\n",
    "    fig = plt.figure(figsize=(15, 8))\n",
    "\n",
    "    gs = GridSpec(Nrow, Ncol, figure=fig, hspace=0.1)\n",
    "\n",
    "    ax1 = fig.add_subplot(gs[0, :])\n",
    "    ax2 = fig.add_subplot(gs[1:3, :])\n",
    "    ax3 = fig.add_subplot(gs[3, :])\n",
    "    ax4 = fig.add_subplot(gs[4:6, :])\n",
    "    ax5 = fig.add_subplot(gs[6, :])\n",
    "    ax6 = fig.add_subplot(gs[7:9, :])\n",
    "\n",
    "    axes = [ax1, ax2, ax3, ax4, ax5, ax6]\n",
    "\n",
    "    U = st0.select(channel=f\"*{config['ring']}\")[0].data*tilt_scale\n",
    "    N = st0.select(channel=\"*N\")[0].data*tilt_scale\n",
    "    E = st0.select(channel=\"*E\")[0].data*tilt_scale\n",
    "\n",
    "    periodZ = 1/outs[config['ring']]['frequencies']/3600\n",
    "    periodN = 1/outs['N']['frequencies']/3600\n",
    "    periodE = 1/outs['N']['frequencies']/3600\n",
    "\n",
    "    # _______________________________________________________________\n",
    "    #\n",
    "    ax1.plot(times, N, color=\"k\", label=\"N\", lw=1)\n",
    "    ax1.set_xlim(min(times), max(times))\n",
    "    ax1.legend(loc=1)\n",
    "    ax1.set_xticklabels([])\n",
    "\n",
    "    if clog:\n",
    "        vmin, vmax, norm = 0.01, 1, \"log\"\n",
    "    else:\n",
    "        vmin, vmax, norm = 0.0, 0.9, None\n",
    "    # _______________________________________________________________\n",
    "    #\n",
    "    im1 = ax2.pcolormesh(out['N']['times']*tscale*3600, periodN, out['N']['cwt_power'],\n",
    "                         cmap=cmap,\n",
    "                         vmin=vmin,\n",
    "                         vmax=vmax,\n",
    "                         norm=norm,\n",
    "                        )\n",
    "    ax2.plot(out['N']['times']*tscale*3600, 1/out['N']['cone']/3600, color=\"white\", ls=\"--\")\n",
    "    ax2.fill_between(out['N']['times']*tscale*3600, 1/out['N']['cone']/3600, min(periodN)*np.ones(len(out['N']['cone'])), color=\"white\", alpha=0.2)\n",
    "    ax2.set_xticklabels([])\n",
    "\n",
    "    if ylim is None:\n",
    "        ax2.set_ylim(min(periodN), max(periodN))\n",
    "    else:\n",
    "        ax2.set_ylim(min(periodN), ylim)\n",
    "\n",
    "    # _______________________________________________________________\n",
    "    #\n",
    "    ax3.plot(times, E, color=\"k\", label=\"E\", lw=1)\n",
    "    ax3.set_xlim(min(times), max(times))\n",
    "    ax3.legend(loc=1)\n",
    "    ax3.set_xticklabels([])\n",
    "\n",
    "    # _______________________________________________________________\n",
    "    #\n",
    "    im2 = ax4.pcolormesh(out['E']['times']*tscale*3600, periodE, out['E']['cwt_power'],\n",
    "                         cmap=cmap,\n",
    "                         vmin=vmin,\n",
    "                         vmax=vmax,\n",
    "                         norm=norm,\n",
    "                        )\n",
    "    ax4.plot(out['E']['times']*tscale*3600, 1/out['E']['cone']/3600, color=\"white\", ls=\"--\")\n",
    "    ax4.fill_between(out['E']['times']*tscale*3600, 1/out['E']['cone']/3600, max(periodE)*np.ones(len(out['E']['cone'])), color=\"white\", alpha=0.2)\n",
    "    ax4.set_xticklabels([])\n",
    "\n",
    "    if ylim is None:\n",
    "        ax4.set_ylim(min(periodE), max(periodE))\n",
    "    else:\n",
    "        ax4.set_ylim(min(periodE), ylim)\n",
    "\n",
    "    # _______________________________________________________________\n",
    "    #\n",
    "    ax5.plot(times, U, color=\"k\", label=config['ring'], lw=1)\n",
    "    ax5.set_xlim(min(times), max(times))\n",
    "    ax5.legend(loc=1)\n",
    "    ax5.set_xticklabels([])\n",
    "\n",
    "    # _______________________________________________________________\n",
    "    #\n",
    "    im3 = ax6.pcolormesh(out[config['ring']]['times']*tscale*3600, periodE, out[config['ring']]['cwt_power'],\n",
    "                         cmap=cmap,\n",
    "                         vmin=vmin,\n",
    "                         vmax=vmax,\n",
    "                         norm=norm,\n",
    "                        )\n",
    "    ax6.plot(out[config['ring']]['times']*tscale*3600, 1/out[config['ring']]['cone']/3600, color=\"white\", ls=\"--\")\n",
    "    ax6.fill_between(out[config['ring']]['times']*tscale*3600, 1/out[config['ring']]['cone']/3600, max(periodZ)*np.ones(len(out[config['ring']]['cone'])), color=\"white\", alpha=0.2)\n",
    "\n",
    "    if ylim is None:\n",
    "        ax6.set_ylim(min(periodZ), max(periodZ))\n",
    "    else:\n",
    "        ax6.set_ylim(min(periodZ), ylim)\n",
    "\n",
    "    # _______________________________________________________________\n",
    "    #\n",
    "    ax1.set_ylabel(f\"$\\phi$ ({tilt_unit})\", fontsize=font)\n",
    "    ax2.set_ylabel(f\"Period (hour)\", fontsize=font)\n",
    "    ax3.set_ylabel(f\"$\\phi$ ({tilt_unit})\", fontsize=font)\n",
    "    ax4.set_ylabel(f\"Period (hour)\", fontsize=font)\n",
    "    ax5.set_ylabel(f\"$\\phi$ ({tilt_unit})\", fontsize=font)\n",
    "    ax6.set_ylabel(f\"Period (hour)\", fontsize=font)\n",
    "\n",
    "    ax6.set_xlabel(f\"Time (days) from {config['tbeg'].date} {str(config['tbeg'].time).split('.')[0]} UTC\", fontsize=font)\n",
    "\n",
    "\n",
    "    ax1.text(.005, .97, \"(a)\", ha='left', va='top', transform=ax1.transAxes, fontsize=font+2)\n",
    "    ax2.text(.005, .97, \"(b)\", ha='left', va='top', transform=ax2.transAxes, fontsize=font+2, color=\"w\")\n",
    "    ax3.text(.005, .97, \"(c)\", ha='left', va='top', transform=ax3.transAxes, fontsize=font+2)\n",
    "    ax4.text(.005, .97, \"(d)\", ha='left', va='top', transform=ax4.transAxes, fontsize=font+2, color=\"w\")\n",
    "    ax5.text(.005, .97, \"(e)\", ha='left', va='top', transform=ax5.transAxes, fontsize=font+2)\n",
    "    ax6.text(.005, .97, \"(f)\", ha='left', va='top', transform=ax6.transAxes, fontsize=font+2, color=\"w\")\n",
    "\n",
    "    # add colorbar\n",
    "    cbar_ax = fig.add_axes([0.91, 0.11, 0.01, 0.77]) #[left, bottom, width, height]\n",
    "    cb = plt.colorbar(im1, cax=cbar_ax, extend=\"max\")\n",
    "    cb.set_label(\"norm. continuous wavelet transform power\", fontsize=font, labelpad=5, color=\"black\")\n",
    "\n",
    "#     ax1.set_title(f\"bandpass = {pmax} - {pmin} hours\")\n",
    "\n",
    "    plt.plot();\n",
    "    return fig\n",
    "\n",
    "# fig = __makeplot_cwt_all(st0, outs, clog=False, ylim=15)\n",
    "\n",
    "# fig.savefig(config['path_to_figs']+f\"SF_BS_R{config['ring']}_CWT_tilt.png\", format=\"png\", dpi=150, bbox_inches='tight')\n"
   ]
  },
  {
   "cell_type": "markdown",
   "id": "bea47e9e-072d-4c8f-ab43-2e61803fef28",
   "metadata": {
    "tags": []
   },
   "source": [
    "### Compute Predicted Tilt"
   ]
  },
  {
   "cell_type": "code",
   "execution_count": null,
   "id": "fb53bda3-1675-448b-a0d5-d6833708f591",
   "metadata": {
    "tags": []
   },
   "outputs": [],
   "source": [
    "def __get_tides(tbeg, tend, component=\"N\", typ=\"acc\", df=3600):\n",
    "\n",
    "    from pygtide import predict_series\n",
    "    from numpy import arange, pi\n",
    "    from obspy import UTCDateTime\n",
    "\n",
    "    # ROMY\n",
    "    lat = 48.162941\n",
    "    lon = 11.275501\n",
    "    height = 570\n",
    "\n",
    "    startdate = str(UTCDateTime(tbeg).date)\n",
    "    duration =  (UTCDateTime(tend) -  UTCDateTime(tbeg)) /3600 # in hours\n",
    "    sampling_rate = df # in seconds\n",
    "\n",
    "    # creat time vector\n",
    "    times = arange(0, duration+df/3600, df/3600)\n",
    "\n",
    "    # prepare arguments\n",
    "    args = (lat, lon, height, startdate, duration, sampling_rate)\n",
    "\n",
    "    # specify station azimuth clockwise from north (=0)\n",
    "    if component == \"N\":\n",
    "        statazimut = 0\n",
    "    elif component == \"E\":\n",
    "        statazimut = 90\n",
    "\n",
    "\n",
    "\n",
    "    if typ == \"rad\":\n",
    "        # tides /= 9.81\n",
    "        tides = predict_series(*args, statgravit=0, statazimut=statazimut, tidalcompo=1) # tilt\n",
    "\n",
    "        # from mas to rad\n",
    "        tides = tides * pi / 648000000\n",
    "\n",
    "    elif typ == \"acc\":\n",
    "        tides = predict_series(*args, statazimut=statazimut, tidalcompo=0) # horizontal acceleration\n",
    "\n",
    "        # from nano to acc\n",
    "        tides *= 1e-9\n",
    "\n",
    "    elif typ == \"str\":\n",
    "        tides = predict_series(*args, statazimut=statazimut, tidalcompo=5) # horizontal strain\n",
    "\n",
    "        # from nano to str\n",
    "        tides *= 1e9\n",
    "\n",
    "    return times, tides"
   ]
  },
  {
   "cell_type": "code",
   "execution_count": null,
   "id": "178618f2-6aa6-4d75-a969-223b81e5e13f",
   "metadata": {
    "tags": []
   },
   "outputs": [],
   "source": [
    "# predict tidal tilts\n",
    "times, tideN = __get_tides(config['tbeg'], config['tend']-1, component=\"N\", typ=\"rad\", df=3600)\n",
    "times, tideE = __get_tides(config['tbeg'], config['tend']-1, component=\"E\", typ=\"rad\", df=3600)\n"
   ]
  },
  {
   "cell_type": "code",
   "execution_count": null,
   "id": "2ff2418a-e3ad-4bf6-b8ee-ad10fa06f1a0",
   "metadata": {
    "tags": []
   },
   "outputs": [],
   "source": [
    "gtide = Stream()\n",
    "\n",
    "gtideN = Trace()\n",
    "gtideN.data = tideN\n",
    "gtideN.stats.delta = 3600\n",
    "gtideN.stats.starttime = config['tbeg']\n",
    "gtideN.stats.station = \"GTID\"\n",
    "gtideN.stats.channel = \"LAN\"\n",
    "gtideN.stats.network = \"BW\"\n",
    "\n",
    "gtideE = Trace()\n",
    "gtideE.data = tideE\n",
    "gtideE.stats.delta = 3600\n",
    "gtideE.stats.starttime = config['tbeg']\n",
    "gtideE.stats.station = \"GTID\"\n",
    "gtideE.stats.channel = \"LAE\"\n",
    "gtideE.stats.network = \"BW\"\n",
    "\n",
    "gtide += gtideE\n",
    "gtide += gtideN"
   ]
  },
  {
   "cell_type": "markdown",
   "id": "fbd36a1d-517d-49c3-a228-8bb60ce6bb30",
   "metadata": {
    "tags": []
   },
   "source": [
    "### Make Collective Stream"
   ]
  },
  {
   "cell_type": "code",
   "execution_count": null,
   "id": "f4300f4d-17d2-4742-8fd4-50634ceefe3d",
   "metadata": {
    "tags": []
   },
   "outputs": [],
   "source": [
    "# fmin, fmax, tide_str = 1/(25*3600), 1/(23*3600), \"24hr\"\n",
    "fmin, fmax, tide_str = 1/(13*3600), 1/(11*3600), \"12hr\"\n",
    "\n",
    "stt = Stream()\n",
    "\n",
    "# stt += rx.copy().integrate(\"spline\")\n",
    "stt += rx.copy()\n",
    "stt += gtide.copy()\n",
    "# stt += rmy.copy()\n",
    "stt += tromy.select(component=\"N\").copy()\n",
    "stt += tromy.select(component=\"E\").copy()\n",
    "\n",
    "stt = stt.trim(config['tbeg'], config['tend'], nearest_sample=False)\n",
    "\n",
    "stt = stt.detrend(\"demean\")\n",
    "stt = stt.detrend(\"simple\")\n",
    "\n",
    "stt = stt.taper(0.05, type=\"cosine\")\n",
    "\n",
    "NN = 1_000_000\n",
    "for tr in stt:\n",
    "    tr.data = np.pad(tr.data, (NN, NN), 'constant')\n",
    "\n",
    "stt = stt.taper(0.2, type=\"cosine\")\n",
    "\n",
    "stt = stt.filter(\"bandpass\", freqmin=fmin, freqmax=fmax, corners=2, zerophase=True)\n",
    "\n",
    "for tr in stt:\n",
    "    tr.data = tr.data[NN:-NN]\n",
    "\n",
    "stt = stt.resample(20*fmax, no_filter=True)\n",
    "\n",
    "print(stt)\n",
    "\n",
    "stt.plot(equal_scale=False);"
   ]
  },
  {
   "cell_type": "code",
   "execution_count": null,
   "id": "b34d2cd7-b492-4250-be93-341ad6e4255d",
   "metadata": {},
   "outputs": [],
   "source": [
    "stt"
   ]
  },
  {
   "cell_type": "code",
   "execution_count": null,
   "id": "403f71a6-dbfc-41e0-9626-235e10bf89de",
   "metadata": {
    "tags": []
   },
   "outputs": [],
   "source": [
    "for tr in stt:\n",
    "    if tr.stats.channel == f\"FJ{config['ring']}\":\n",
    "        tr.data = tr.data[:-1]"
   ]
  },
  {
   "cell_type": "markdown",
   "id": "4b931747-1a55-4a3b-8925-f89e286a41e7",
   "metadata": {},
   "source": [
    "### Fit Models"
   ]
  },
  {
   "cell_type": "code",
   "execution_count": null,
   "id": "ddfb99ea-ea3f-42bb-b986-05c89941dda9",
   "metadata": {
    "tags": []
   },
   "outputs": [],
   "source": [
    "def __estimate_linear_coefficients(st0, c1=\"V\", c2=\"N\", c3=\"E\"):\n",
    "\n",
    "    from scipy.signal import hilbert\n",
    "    from numpy import imag, array, linalg, vstack\n",
    "\n",
    "\n",
    "    # data1\n",
    "    pp = st0.select(channel=c2)[0].data\n",
    "\n",
    "    # data2\n",
    "    hp = st0.select(channel=c3)[0].data\n",
    "\n",
    "    # data\n",
    "    dd = st0.select(channel=c1)[0].data\n",
    "\n",
    "    # matrix\n",
    "    A = vstack([pp, hp]).T\n",
    "\n",
    "    # least squares\n",
    "    a, b = linalg.lstsq(A, dd, rcond=None)[0]\n",
    "\n",
    "    # estimate of data\n",
    "    hh = a*pp + b*hp\n",
    "\n",
    "    # residual\n",
    "    rr = dd - hh\n",
    "\n",
    "    return a, b, hh, rr"
   ]
  },
  {
   "cell_type": "code",
   "execution_count": null,
   "id": "5fe83b95-392e-40b2-9c72-0cb11fa7d3d5",
   "metadata": {
    "tags": []
   },
   "outputs": [],
   "source": [
    "def __estimate_linear_coefficients_pressure(st0, c1=\"N\", c2=\"O\", c3=None):\n",
    "\n",
    "    from scipy.signal import hilbert\n",
    "    from numpy import imag, array, linalg, vstack\n",
    "\n",
    "    if c3 is None:\n",
    "        c3 = c2\n",
    "\n",
    "    # pressure\n",
    "    pp = st0.select(channel=c2)[0].data\n",
    "\n",
    "    # hilbert(pressure)\n",
    "    hp = imag(hilbert(st0.select(channel=c3)[0].data))\n",
    "\n",
    "    # data\n",
    "    dd = st0.select(channel=c1)[0].data\n",
    "\n",
    "    # matrix\n",
    "    A = vstack([pp, hp]).T\n",
    "\n",
    "    # least squares\n",
    "    a, b = linalg.lstsq(A, dd, rcond=None)[0]\n",
    "\n",
    "    # estimate of data\n",
    "    hh = a*pp + b*hp\n",
    "\n",
    "    # residual\n",
    "    rr = dd - hh\n",
    "\n",
    "    return a, b, hh, rr"
   ]
  },
  {
   "cell_type": "code",
   "execution_count": null,
   "id": "16c2b588-d043-4f8a-ae4a-4e04a5703b32",
   "metadata": {
    "tags": []
   },
   "outputs": [],
   "source": [
    "t0, dat0 = stt.select(component=\"E\")[0].times(reftime=config['tbeg']), stt.select(component=\"E\")[0].data\n",
    "t1, dat1 = stt.select(component=\"N\")[0].times(reftime=config['tbeg']), stt.select(component=\"N\")[0].data\n",
    "\n",
    "t2, dat2 = stt.select(component=config['ring'])[0].times(reftime=config['tbeg']), stt.select(component=config['ring'])[0].data\n",
    "\n",
    "# t3, dat3 = stt.select(component=\"O\")[0].times(reftime=config['tbeg']), stt.select(component=\"O\")[0].data\n",
    "\n",
    "t4, dat4 = stt.select(station=\"ROMYT\", channel=\"*E\")[0].times(reftime=config['tbeg']), stt.select(station=\"ROMYT\", channel=\"*E\")[0].data\n",
    "t5, dat5 = stt.select(station=\"ROMYT\", channel=\"*N\")[0].times(reftime=config['tbeg']), stt.select(station=\"ROMYT\", channel=\"*N\")[0].data\n",
    "\n",
    "\n",
    "dat2_mod = dat2*-1\n",
    "\n",
    "# fit barometer data to make model\n",
    "# a_p, b_p, mod_p, res_p = __estimate_linear_coefficients_pressure(stt, c1=\"FJV\", c2=\"LDO\", c3=\"LDO\")\n",
    "\n",
    "# make residual to data\n",
    "# stt.select(component=\"V\")[0].data = res_p\n",
    "\n",
    "# model tilt with tilt model\n",
    "a_t, b_t, mod_t, res_t = __estimate_linear_coefficients(stt, c1=f\"FJ{config['ring']}\", c2=\"LAN\", c3=\"LAE\")\n",
    "a_o, b_o, mod_o, res_o = __estimate_linear_coefficients(stt, c1=f\"FJ{config['ring']}\", c2=\"MAN\", c3=\"MAE\")\n",
    "\n"
   ]
  },
  {
   "cell_type": "code",
   "execution_count": null,
   "id": "15a4e9a2-f475-49b7-b910-309d26f11e02",
   "metadata": {
    "tags": []
   },
   "outputs": [],
   "source": [
    "plt.plot(t1, dat1)\n",
    "\n",
    "plt.plot(t2, dat2_mod)\n"
   ]
  },
  {
   "cell_type": "code",
   "execution_count": null,
   "id": "397aec0b-ba4a-4abb-9248-5cd6d8c44a17",
   "metadata": {
    "tags": []
   },
   "outputs": [],
   "source": [
    "def __makeplot():\n",
    "\n",
    "    Nrow, Ncol = 4, 1\n",
    "\n",
    "    font = 12\n",
    "\n",
    "    tscale, tunit = 1/86400, \"days\"\n",
    "\n",
    "    tiltscale, tiltunit = 1e9, \"nrad\"\n",
    "\n",
    "    fig, ax = plt.subplots(Nrow, Ncol, figsize=(15, 8), sharex=True)\n",
    "\n",
    "    plt.subplots_adjust(hspace=0.1)\n",
    "\n",
    "    ax[0].plot(bs.time_sec*tscale, bs.fj_bs_dejump, label=f\"R{config['ring']}\", color=\"k\")\n",
    "    # ax[0].set_ylim(flim1, flim2)\n",
    "    ax[0].ticklabel_format(useOffset=False)\n",
    "    ax[0].set_ylabel(r\"$\\delta$f (Hz)\", fontsize=font)\n",
    "\n",
    "    ax[1].plot(t2*tscale, dat2*tiltscale, color=\"k\", label=f\"R{config['ring']}-Tilt (bandpass)\")\n",
    "    ax[1].plot(t2*tscale, mod_o*tiltscale, color=\"tab:red\", label=f\"M_obs = {a_o:.3f} N-S + {b_o:.3f} E-W\")\n",
    "    ax[1].plot(t2*tscale, mod_t*tiltscale, color=\"tab:green\", label=f\"M_theo = {a_t:.3f} N-S + {b_t:.3f} E-W\")\n",
    "    # ax[1].plot(t2*tscale, res*tiltscale, color=\"tab:red\", label=f\"{a:.3f} N-S + {b:.3f} E-W\")\n",
    "    ax[1].set_ylabel(f\"Tilt ({tiltunit})\", fontsize=font)\n",
    "\n",
    "    ax[2].plot(t0*tscale, dat0*tiltscale, label=\"E-W (predicted)\", color=\"grey\")\n",
    "    ax[2].plot(t4*tscale, dat4*tiltscale, label=\"E-W (observed)\", color=\"tab:blue\")\n",
    "    ax[2].set_ylabel(f\"Tilt ({tiltunit})\", fontsize=font)\n",
    "\n",
    "    ax[3].plot(t1*tscale, dat1*tiltscale, label=\"N-S (predicted)\", color=\"grey\")\n",
    "    ax[3].plot(t5*tscale, dat5*tiltscale, label=\"N-S (observed)\", color=\"tab:orange\")\n",
    "    ax[3].set_ylabel(f\"Tilt ({tiltunit})\", fontsize=font)\n",
    "\n",
    "    ax[3].set_xlabel(f\"Time ({tunit})\", fontsize=font)\n",
    "\n",
    "    ax[0].set_title(f\"f = {1/fmax/3600} - {1/fmin/3600} hours\", fontsize=font+1)\n",
    "\n",
    "    ax[1].set_ylim(-250, 250)\n",
    "    ax[2].set_ylim(-100, 100)\n",
    "    ax[3].set_ylim(-100, 100)\n",
    "\n",
    "    for _k, ll in enumerate(['(a)', '(b)', '(c)', '(d)']):\n",
    "        ax[_k].text(.005, .97, ll, ha='left', va='top', transform=ax[_k].transAxes, fontsize=font+2)\n",
    "\n",
    "    for _n in range(Nrow):\n",
    "        ax[_n].grid(ls=\":\", zorder=0)\n",
    "        ax[_n].legend(loc=1, ncol=3)\n",
    "\n",
    "    plt.show();\n",
    "    return fig\n",
    "\n",
    "fig = __makeplot();\n",
    "\n",
    "fig.savefig(config['path_to_figs']+f\"SF_BS_R{config['ring']}_tilt_tides_{tide_str}.png\", format=\"png\", dpi=150, bbox_inches='tight')\n"
   ]
  },
  {
   "cell_type": "code",
   "execution_count": null,
   "id": "8fb28c58-5cc8-4a0c-9657-ddea0c68347e",
   "metadata": {
    "tags": []
   },
   "outputs": [],
   "source": [
    "def __makeplot():\n",
    "\n",
    "    Nrow, Ncol = 4, 1\n",
    "\n",
    "    font = 12\n",
    "\n",
    "    fig, ax = plt.subplots(Nrow, Ncol, figsize=(15, 8))\n",
    "\n",
    "    ax[0].plot(t0, dat0, label=\"E\", color=\"tab:blue\")\n",
    "    ax[0].plot(t1, dat1, label=\"N\", color=\"tab:orange\")\n",
    "    ax[0].plot(t2, dat2_mod, color=\"k\")\n",
    "\n",
    "    ax[1].plot(t2, dat2*-1, color=\"k\")\n",
    "    ax[1].plot(t2, res_p*-1, color=\"tab:red\")\n",
    "\n",
    "    ax[2].plot(t0, dat0, label=\"E\", color=\"tab:blue\")\n",
    "    ax[2].plot(t1, dat1, label=\"N\", color=\"tab:orange\")\n",
    "    ax[2].plot(t2, res_p*-1, color=\"tab:red\")\n",
    "\n",
    "    ax[3].plot(t2, dat2, color=\"k\")\n",
    "    ax[3].plot(t2, mod, color=\"tab:green\")\n",
    "\n",
    "    for _n in range(Nrow):\n",
    "        ax[_n].grid(ls=\":\", zorder=0)\n",
    "        ax[_n].legend(loc=1)\n",
    "\n",
    "    plt.show();\n",
    "    return fig\n",
    "\n",
    "# fig = __makeplot();\n"
   ]
  },
  {
   "cell_type": "code",
   "execution_count": null,
   "id": "a15d5362-d462-44f8-8cd8-64f120341719",
   "metadata": {
    "tags": []
   },
   "outputs": [],
   "source": [
    "def __compare_tilt_pressure(st0):\n",
    "\n",
    "    from obspy.signal.cross_correlation import correlate, xcorr_max\n",
    "    from numpy import nan_to_num, arange, array, linspace, imag, roll\n",
    "    from matplotlib.gridspec import GridSpec\n",
    "    from functions.compute_orthogonal_distance_regression import __compute_orthogonal_distance_regression\n",
    "    from functions.smoothing import __smooth\n",
    "    from scipy.signal import hilbert\n",
    "\n",
    "    tlp = st0.copy()\n",
    "\n",
    "    dt = tlp[0].stats.delta\n",
    "\n",
    "    times = tlp[0].times()/3600\n",
    "\n",
    "    ch = \"FJV\"\n",
    "\n",
    "    arr0 = tlp.select(channel=ch)[0].data\n",
    "    arr1 = tlp.select(component=\"N\")[0].data\n",
    "    arr2 = tlp.select(component=\"E\")[0].data\n",
    "\n",
    "\n",
    "    Nshift = len(arr0)\n",
    "\n",
    "    ccf1 = correlate(arr0, arr1, shift=Nshift, demean=False, normalize='naive', method='fft')\n",
    "    ccf2 = correlate(arr0, arr2, shift=Nshift, demean=False, normalize='naive', method='fft')\n",
    "\n",
    "    cclags = arange(-Nshift, Nshift+1) * dt\n",
    "\n",
    "    shift1, value1 = xcorr_max(ccf1)\n",
    "    shift2, value2 = xcorr_max(ccf2)\n",
    "\n",
    "    arr1_shifted = roll(arr1, shift1)\n",
    "    arr2_shifted = roll(arr2, shift2)\n",
    "\n",
    "    print(\"Nshift: \", shift1, \"Tshift: \", shift1*dt, \"CC: \", value1)\n",
    "    print(\"Nshift: \", shift2, \"Tshift: \", shift2*dt, \"CC: \", value2)\n",
    "\n",
    "\n",
    "    b1, a1 = __compute_orthogonal_distance_regression(arr0, arr1, xerr=None, yerr=None, bx=None, by=None)\n",
    "    b2, a2 = __compute_orthogonal_distance_regression(arr0, arr2, xerr=None, yerr=None, bx=None, by=None)\n",
    "\n",
    "    b1_shifted, a1_shifted = __compute_orthogonal_distance_regression(arr0, arr1_shifted, xerr=None, yerr=None, bx=None, by=None)\n",
    "    b2_shifted, a2_shifted = __compute_orthogonal_distance_regression(arr0, arr2_shifted, xerr=None, yerr=None, bx=None, by=None)\n",
    "\n",
    "    xxx = linspace(arr0.min(), arr0.max(), 100)\n",
    "\n",
    "    Nrow, Ncol = 5, 2\n",
    "    font = 12\n",
    "\n",
    "    fig = plt.figure(figsize=(12, 10))\n",
    "\n",
    "    gs0 = GridSpec(Nrow, Ncol, figure=fig, hspace=0)\n",
    "    gs = GridSpec(Nrow, Ncol, figure=fig, hspace=0.5)\n",
    "\n",
    "    ax1 = fig.add_subplot(gs0[0, :])\n",
    "    ax2 = fig.add_subplot(gs[1, :])\n",
    "    ax3 = fig.add_subplot(gs[2, :1])\n",
    "    ax4 = fig.add_subplot(gs[2, 1:])\n",
    "    ax5 = fig.add_subplot(gs[3, :1])\n",
    "    ax6 = fig.add_subplot(gs[3, 1:])\n",
    "    ax7 = fig.add_subplot(gs[4, :1])\n",
    "    ax8 = fig.add_subplot(gs[4, 1:])\n",
    "\n",
    "    axes = [ax1, ax2, ax3, ax4, ax5, ax6, ax7, ax8]\n",
    "    for _k, (ax, ll) in enumerate(zip(axes, ['(a)', '(b)', '(c)', '(d)', '(e)', '(f)', '(g)', '(h)'])):\n",
    "        ax.text(.005, .97, ll, ha='left', va='top', transform=ax.transAxes, fontsize=font+2)\n",
    "\n",
    "    plt.subplots_adjust(hspace=0.35)\n",
    "\n",
    "    ax1.plot(times, arr0, color=\"black\", label=f\"FFBI.{ch}\")\n",
    "    ax1.set_ylabel(\"Pressure (Pa)\", fontsize=font)\n",
    "    ax1.get_xaxis().set_visible(False)\n",
    "    ax1.legend(loc=1)\n",
    "\n",
    "    ax2.plot(times, arr1*1e9, label=\"N\")\n",
    "    ax2.plot(times, arr2*1e9, label=\"E\")\n",
    "    ax2.legend(loc=1, ncol=2)\n",
    "    ax2.set_ylabel(\"Tilt (nrad)\", fontsize=font)\n",
    "    ax2.set_xlabel(\"Time (hours)\", fontsize=font, labelpad=1)\n",
    "\n",
    "\n",
    "    ax3.scatter(arr0, arr1*1e9, color=\"tab:blue\", s=1)\n",
    "    ax3.plot(xxx, (a1+b1*xxx)*1e9, ls=\"--\", color=\"k\", label=f\"a={a1*1e9:.2f}; b={b1*1e9:.2f}\")\n",
    "    ax3.set_xlabel(\"Pressure (Pa)\", fontsize=font)\n",
    "    ax3.set_ylabel(\"Tilt (nrad)\", fontsize=font)\n",
    "    ax3.legend(loc=1)\n",
    "\n",
    "    ax4.scatter(arr0, arr2*1e9, color=\"tab:orange\", s=1)\n",
    "    ax4.plot(xxx, (a2+b2*xxx)*1e9, ls=\"--\", color=\"k\", label=f\"a={a2*1e9:.2f}; b={b2*1e9:.2f}\")\n",
    "    ax4.set_xlabel(\"Pressure (Pa)\", fontsize=font)\n",
    "    ax4.set_ylabel(\"Tilt (nrad)\", fontsize=font)\n",
    "    ax4.legend(loc=4)\n",
    "\n",
    "    ll = f\"t={round(shift1*dt, 1)} s  CC={round(value1, 1)}\"\n",
    "    ax5.plot(cclags, ccf1, color=\"tab:blue\", label=ll)\n",
    "    ax5.set_ylabel(\"CC-Coeff.\", fontsize=font)\n",
    "    ax5.set_xlabel(\"Lag time (s)\", fontsize=font, labelpad=0)\n",
    "    ax5.set_ylim(-1, 1)\n",
    "    ax5.axvline(shift1*dt, -1, 1, color=\"k\", ls=\"--\", zorder=0)\n",
    "    ax5.scatter(shift1*dt, value1, color=\"k\", marker=\"d\", zorder=0)\n",
    "    ax5.legend(loc=1)\n",
    "    # ax5.text(.005, .97, ll, ha='left', va='top', transform=ax3.transAxes, fontsize=font)\n",
    "\n",
    "    ll = f\"t={round(shift2*dt, 1)} s  CC={round(value2, 1)}\"\n",
    "    ax6.plot(cclags, ccf2, color=\"tab:orange\", label=ll)\n",
    "    ax6.set_ylabel(\"CC-Coeff.\", fontsize=font)\n",
    "    ax6.set_xlabel(\"Lag time (s)\", fontsize=font, labelpad=0)\n",
    "    ax6.set_ylim(-1, 1)\n",
    "    ax6.axvline(shift2*dt, -1, 1, color=\"k\", ls=\"--\", zorder=0)\n",
    "    ax6.scatter(shift2*dt, value2, color=\"k\", marker=\"d\", zorder=0)\n",
    "    ax6.legend(loc=1)\n",
    "    # ax6.text(.005, .97, ll, ha='left', va='top', transform=ax4.transAxes, fontsize=font)\n",
    "\n",
    "\n",
    "    ax7.scatter(arr0, arr1_shifted*1e9, color=\"tab:blue\", s=1)\n",
    "    ax7.plot(xxx, (a1_shifted+b1_shifted*xxx)*1e9, ls=\"--\", color=\"k\", label=f\"a={a1_shifted*1e9:.2f}; b={b1_shifted*1e9:.2f}\")\n",
    "    ax7.set_xlabel(\"Pressure (Pa)\", fontsize=font)\n",
    "    ax7.set_ylabel(\"Tilt (nrad)\", fontsize=font)\n",
    "    ax7.legend(loc=1)\n",
    "\n",
    "    ax8.scatter(arr0, arr2_shifted*1e9, color=\"tab:orange\", s=1)\n",
    "    ax8.plot(xxx, (a2_shifted+b2_shifted*xxx)*1e9, ls=\"--\", color=\"k\", label=f\"a={a2_shifted*1e9:.2f}; b={b2_shifted*1e9:.2f}\")\n",
    "    ax8.set_xlabel(\"Pressure (Pa)\", fontsize=font)\n",
    "    ax8.set_ylabel(\"Tilt (nrad)\", fontsize=font)\n",
    "    ax8.legend(loc=4)\n",
    "\n",
    "    for ax in [ax3, ax4, ax5, ax6, ax7, ax8]:\n",
    "        ax.grid(ls=\":\", alpha=0.5, zorder=0, color=\"grey\")\n",
    "\n",
    "    plt.show();\n",
    "    return fig\n",
    "\n",
    "fig = __compare_tilt_pressure(stt)\n",
    "\n"
   ]
  },
  {
   "cell_type": "code",
   "execution_count": null,
   "id": "e837b4e1-a6dc-47fc-af5a-bb1f9284887c",
   "metadata": {},
   "outputs": [],
   "source": []
  },
  {
   "cell_type": "code",
   "execution_count": null,
   "id": "9d5c020d-9bca-438c-8ff8-bb573a667e0d",
   "metadata": {},
   "outputs": [],
   "source": []
  }
 ],
 "metadata": {
  "kernelspec": {
   "display_name": "Python 3 (ipykernel)",
   "language": "python",
   "name": "python3"
  },
  "language_info": {
   "codemirror_mode": {
    "name": "ipython",
    "version": 3
   },
   "file_extension": ".py",
   "mimetype": "text/x-python",
   "name": "python",
   "nbconvert_exporter": "python",
   "pygments_lexer": "ipython3",
   "version": "3.9.19"
  },
  "latex_envs": {
   "LaTeX_envs_menu_present": true,
   "autoclose": false,
   "autocomplete": true,
   "bibliofile": "biblio.bib",
   "cite_by": "apalike",
   "current_citInitial": 1,
   "eqLabelWithNumbers": true,
   "eqNumInitial": 1,
   "hotkeys": {
    "equation": "Ctrl-E",
    "itemize": "Ctrl-I"
   },
   "labels_anchors": false,
   "latex_user_defs": false,
   "report_style_numbering": false,
   "user_envs_cfg": false
  },
  "toc": {
   "base_numbering": 1,
   "nav_menu": {},
   "number_sections": true,
   "sideBar": true,
   "skip_h1_title": false,
   "title_cell": "Table of Contents",
   "title_sidebar": "Contents",
   "toc_cell": false,
   "toc_position": {},
   "toc_section_display": true,
   "toc_window_display": false
  },
  "varInspector": {
   "cols": {
    "lenName": 16,
    "lenType": 16,
    "lenVar": 40
   },
   "kernels_config": {
    "python": {
     "delete_cmd_postfix": "",
     "delete_cmd_prefix": "del ",
     "library": "var_list.py",
     "varRefreshCmd": "print(var_dic_list())"
    },
    "r": {
     "delete_cmd_postfix": ") ",
     "delete_cmd_prefix": "rm(",
     "library": "var_list.r",
     "varRefreshCmd": "cat(var_dic_list()) "
    }
   },
   "types_to_exclude": [
    "module",
    "function",
    "builtin_function_or_method",
    "instance",
    "_Feature"
   ],
   "window_display": false
  }
 },
 "nbformat": 4,
 "nbformat_minor": 5
}
