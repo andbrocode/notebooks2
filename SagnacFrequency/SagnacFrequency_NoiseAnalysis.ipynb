{
 "cells": [
  {
   "cell_type": "markdown",
   "id": "22f5c8c9",
   "metadata": {
    "ExecuteTime": {
     "end_time": "2022-10-28T13:00:52.763484Z",
     "start_time": "2022-10-28T13:00:52.761516Z"
    }
   },
   "source": [
    "## Compute Sagnac Frequency - Noise Analysis"
   ]
  },
  {
   "cell_type": "markdown",
   "id": "1cd32aed",
   "metadata": {},
   "source": []
  },
  {
   "cell_type": "markdown",
   "id": "185b1a0b",
   "metadata": {},
   "source": [
    "## Imports"
   ]
  },
  {
   "cell_type": "code",
   "execution_count": 6,
   "id": "818caf4c",
   "metadata": {
    "ExecuteTime": {
     "end_time": "2023-07-18T08:17:38.022986Z",
     "start_time": "2023-07-18T08:17:38.016967Z"
    }
   },
   "outputs": [],
   "source": [
    "import os\n",
    "import matplotlib.pyplot as plt\n",
    "\n",
    "from datetime import datetime, date\n",
    "from pandas import DataFrame, read_pickle, date_range, concat, read_csv\n",
    "from obspy import UTCDateTime\n",
    "from numpy import log10\n",
    "\n",
    "from andbro__savefig import __savefig"
   ]
  },
  {
   "cell_type": "code",
   "execution_count": null,
   "id": "9671eeb9",
   "metadata": {},
   "outputs": [],
   "source": []
  },
  {
   "cell_type": "code",
   "execution_count": null,
   "id": "2f8ec57f",
   "metadata": {},
   "outputs": [],
   "source": []
  },
  {
   "cell_type": "code",
   "execution_count": 7,
   "id": "b83c9987",
   "metadata": {
    "ExecuteTime": {
     "end_time": "2023-07-18T08:17:39.145268Z",
     "start_time": "2023-07-18T08:17:39.136820Z"
    }
   },
   "outputs": [],
   "source": [
    "if os.uname().nodename == 'lighthouse':\n",
    "    root_path = '/home/andbro/'\n",
    "    data_path = '/home/andbro/kilauea-data/'\n",
    "    archive_path = '/home/andbro/freenas/'\n",
    "elif os.uname().nodename == 'kilauea':\n",
    "    root_path = '/home/brotzer/'\n",
    "    data_path = '/import/kilauea-data/'\n",
    "    archive_path = '/import/freenas-ffb-01-data/'"
   ]
  },
  {
   "cell_type": "code",
   "execution_count": 3,
   "id": "f1efed46",
   "metadata": {
    "ExecuteTime": {
     "end_time": "2023-07-17T15:27:09.316308Z",
     "start_time": "2023-07-17T15:27:09.310520Z"
    }
   },
   "outputs": [],
   "source": [
    "# from matplotlib import rc\n",
    "# rc('text', usetex=True)"
   ]
  },
  {
   "cell_type": "markdown",
   "id": "ec2578ab",
   "metadata": {},
   "source": [
    "## Configurations"
   ]
  },
  {
   "cell_type": "code",
   "execution_count": 4,
   "id": "ba83e3e7",
   "metadata": {
    "ExecuteTime": {
     "end_time": "2023-07-17T15:27:12.866151Z",
     "start_time": "2023-07-17T15:27:12.859443Z"
    }
   },
   "outputs": [],
   "source": [
    "config = {}\n",
    "\n",
    "config['datapath'] = data_path+\"sagnac_frequency/prismspectra/\"\n",
    "\n",
    "config['output_figures'] = root_path+\"Documents/ROMY/SagnacFrequency/\""
   ]
  },
  {
   "cell_type": "markdown",
   "id": "37c3b765",
   "metadata": {
    "ExecuteTime": {
     "end_time": "2022-11-04T13:39:03.633371Z",
     "start_time": "2022-11-04T13:39:03.631352Z"
    }
   },
   "source": [
    "## Load Data"
   ]
  },
  {
   "cell_type": "code",
   "execution_count": null,
   "id": "c30868c3",
   "metadata": {
    "ExecuteTime": {
     "start_time": "2023-07-17T15:27:00.184Z"
    }
   },
   "outputs": [],
   "source": [
    "from andbro__read_sds import __read_sds\n",
    "from obspy import Stream, UTCDateTime\n",
    "\n",
    "## ____________________________________\n",
    "\n",
    "config2 = {}\n",
    "\n",
    "config2['seeds'] = [\"BW.DROMY.*.F1V\"]\n",
    "\n",
    "config2['path_to_sds'] = archive_path+\"romy_archive/\"\n",
    "\n",
    "config2['tbeg'] = UTCDateTime(\"2023-06-24 19:00\")\n",
    "config2['tend'] = UTCDateTime(\"2023-06-24 22:00\")\n",
    "\n",
    "## ____________________________________\n",
    "\n",
    "st0 = Stream()\n",
    "\n",
    "for seed in config2['seeds']:\n",
    "\n",
    "    print(f\" -> loading {seed}...\")\n",
    "    \n",
    "    try:\n",
    "        st00 = __read_sds(config2['path_to_sds'], seed, config2['tbeg'], config2['tend'], data_format='MSEED')\n",
    "    except:\n",
    "        print(f\" -> failed for {seed}\")\n",
    "        \n",
    "    st0 += st00\n",
    "\n",
    "st0 = st0.sort() \n",
    "   \n",
    "for tr in st0:\n",
    "    tr.data = tr.data*0.59604645e-6 # V / count  [0.59604645ug  from obsidian]\n",
    "    \n",
    "st0.plot(equal_scale=False);"
   ]
  },
  {
   "cell_type": "markdown",
   "id": "fb6c7dd6",
   "metadata": {},
   "source": [
    "## Plot Comparison"
   ]
  },
  {
   "cell_type": "code",
   "execution_count": 8,
   "id": "9babbbc9",
   "metadata": {
    "ExecuteTime": {
     "end_time": "2023-07-18T08:20:36.088234Z",
     "start_time": "2023-07-18T08:17:44.649017Z"
    },
    "code_folding": []
   },
   "outputs": [],
   "source": [
    "# after1 = read_pickle(config['datapath']+\"psd_2023-05-01_RZ_before_prism.pkl\")\n",
    "# after2 = read_pickle(config['datapath']+\"psd_2023-05-04_RZ_after_prism.pkl\")\n",
    "# after3 = read_pickle(config['datapath']+\"psd_2023-06-07_RZ_after_prism_new_power_supply.pkl\")\n",
    "\n",
    "## recording signals parallel\n",
    "# after1 = read_pickle(config['datapath']+\"psd_2023-06-24_RZ_discrete.pkl\")\n",
    "# after2 = read_pickle(config['datapath']+\"psd_2023-06-24_RZ_new_prism_stage_direct.pkl\")\n",
    "# after3 = read_pickle(config['datapath']+\"psd_2023-06-24_RZ_new_prism_stage.pkl\")\n",
    "# after3 = read_pickle(config['datapath']+\"psd_2023-06-24_RZ_mono_CCW.pkl\")\n",
    "# after3 = read_pickle(config['datapath']+\"psd_2023-06-24_RU_noise.pkl\")\n",
    "\n",
    "\n",
    "## recording signals parallel\n",
    "# after1 = read_pickle(config['datapath']+\"psd_2023-06-26_RZ_discrete.pkl\")\n",
    "# after2 = read_pickle(config['datapath']+\"psd_2023-06-26_RZ_prism_direct.pkl\")\n",
    "# after3 = read_pickle(config['datapath']+\"psd_2023-06-26_RZ_prism_differential.pkl\")\n",
    "\n",
    "## compare transmission versions (clipped signal for differential channel...)\n",
    "# after1 = read_pickle(config['datapath']+\"psd_2023-06-26_RZ_prism_direct.pkl\")\n",
    "# after2 = read_pickle(config['datapath']+\"psd_2023-06-26_RZ_prism_electronics.pkl\")\n",
    "# after3 = read_pickle(config['datapath']+\"psd_2023-06-26_RZ_prism_differential.pkl\")\n",
    "# # after3 = read_pickle(config['datapath']+\"psd_2023-06-26_RU_noise.pkl\")\n",
    "\n",
    "\n",
    "## compare transmission versions (with endpieces removed and gain 490 for loop and sag)\n",
    "# after1 = read_pickle(config['datapath']+\"psd_2023-07-06_RZ_prism_electronics.pkl\")\n",
    "# after2 = read_pickle(config['datapath']+\"psd_2023-07-06_RZ_prism_direct.pkl\")\n",
    "# after3 = read_pickle(config['datapath']+\"psd_2023-07-06_RZ_prism_differential.pkl\")\n",
    "\n",
    "after1 = read_pickle(config['datapath']+\"psd_2023-07-07_RZ_prism_electronics.pkl\")\n",
    "after2 = read_pickle(config['datapath']+\"psd_2023-07-07_RZ_prism_direct.pkl\")\n",
    "after3 = read_pickle(config['datapath']+\"psd_2023-07-07_RZ_prism_diode.pkl\")\n",
    "\n",
    "\n",
    "# after1['fjz_psd_db'] = 20*log10(after1.fjz_psd)\n",
    "# after2['fjz_psd_db'] = 20*log10(after2.fjz_psd)\n",
    "# after3['fjz_psd_db'] = 20*log10(after3.fjz_psd)\n",
    "after1['fjz_psd_db'] = 20*log10(after1.fjz_psd/max(after1.fjz_psd))\n",
    "after2['fjz_psd_db'] = 20*log10(after2.fjz_psd/max(after2.fjz_psd))\n",
    "after3['fjz_psd_db'] = 20*log10(after3.fjz_psd/max(after3.fjz_psd))"
   ]
  },
  {
   "cell_type": "code",
   "execution_count": null,
   "id": "907e582e",
   "metadata": {
    "ExecuteTime": {
     "end_time": "2023-07-18T08:20:36.139685Z",
     "start_time": "2023-07-18T08:20:36.139667Z"
    },
    "code_folding": [
     0
    ]
   },
   "outputs": [],
   "source": [
    "def __makeplot():\n",
    "\n",
    "    from matplotlib.gridspec import GridSpec\n",
    "\n",
    "    font = 14\n",
    "\n",
    "\n",
    "    fig = plt.figure(figsize=(15,8))\n",
    "\n",
    "    plt.subplots_adjust(wspace=0.05)\n",
    "\n",
    "    gs = GridSpec(1, 2, width_ratios=[2, 1])\n",
    "\n",
    "    ax1 = fig.add_subplot(gs[0])\n",
    "    ax1.semilogx(after1.frequencies, after1.fjz_psd_db, alpha=0.5, color=\"tab:blue\", label=\"inv. Koester prism (electronics)\")\n",
    "    ax1.semilogx(after2.frequencies, after2.fjz_psd_db, alpha=0.5, color=\"tab:orange\", label=\"inv. Koester prism (direct)\")\n",
    "#     ax1.semilogx(after3.frequencies, after3.fjz_psd_db, alpha=0.5, color=\"tab:green\", label=\"inv. Koester prism (differential)\", zorder=2)\n",
    "\n",
    "    ax1.grid(alpha=0.2, which=\"both\")\n",
    "    ax1.set_xlabel(\"Frequency (Hz)\", fontsize=font)\n",
    "    ax1.set_ylabel(f\"PSD (dB rel. to (1 $V^2$/Hz))\", fontsize=font)\n",
    "    ax1.legend(loc=\"upper center\", fontsize=font-1)\n",
    "    ax1.set_ylim(-230, 0)\n",
    "    ax1.tick_params(labelsize=font-2)   \n",
    "\n",
    "    ax1.set_xlim(0.1, 2500)\n",
    "\n",
    "\n",
    "    ax2 = fig.add_subplot(gs[1])\n",
    "    ax2.plot(after1.frequencies, after1.fjz_psd_db, alpha=0.5, color=\"tab:blue\")\n",
    "    ax2.plot(after2.frequencies, after2.fjz_psd_db, alpha=0.5, color=\"tab:orange\")\n",
    "#     ax2.plot(after3.frequencies, after3.fjz_psd_db, alpha=0.5, color=\"tab:green\", zorder=2)\n",
    "\n",
    "    ax2.set_xlim(553.5-30, 553.5+30)\n",
    "    ax2.set_xlabel(\"Frequency (Hz)\", fontsize=font)\n",
    "    ax2.grid(alpha=0.2, which=\"both\")\n",
    "    ax2.set_ylim(-230, 0)\n",
    "    ax2.tick_params(labelsize=font-2)   \n",
    "    ax2.set_yticklabels([])\n",
    "\n",
    "    ax1.text(.01, .99, '(a)', ha='left', va='top', transform=ax1.transAxes, fontsize=font+2)\n",
    "    ax2.text(.01, .99, '(b)', ha='left', va='top', transform=ax2.transAxes, fontsize=font+2)\n",
    "\n",
    "\n",
    "    plt.show();\n",
    "    return fig\n",
    "\n",
    "__makeplot();"
   ]
  },
  {
   "cell_type": "code",
   "execution_count": null,
   "id": "03e4e2fa",
   "metadata": {
    "ExecuteTime": {
     "end_time": "2023-07-17T15:29:39.316444Z",
     "start_time": "2023-07-17T15:29:39.316427Z"
    }
   },
   "outputs": [],
   "source": [
    "fig.savefig(config['output_figures']+f\"prism_comparison_20230707_2000_2300.png\", dpi=200, bbox_inches='tight', pad_inches=0.05)"
   ]
  },
  {
   "cell_type": "markdown",
   "id": "6b0b6542",
   "metadata": {},
   "source": [
    "## Discrete vs. Prism"
   ]
  },
  {
   "cell_type": "code",
   "execution_count": null,
   "id": "510f32dc",
   "metadata": {
    "ExecuteTime": {
     "start_time": "2023-07-17T15:27:00.443Z"
    }
   },
   "outputs": [],
   "source": [
    "# discrete = read_pickle(config['datapath']+\"psd_2023-07-05_RZ_discrete.pkl\")\n",
    "# prism = read_pickle(config['datapath']+\"psd_2023-07-05_RZ_prism_differential.pkl\")\n",
    "\n",
    "discrete = read_pickle(config['datapath']+\"psd_2023-07-06_RZ_discrete.pkl\")\n",
    "prism = read_pickle(config['datapath']+\"psd_2023-07-06_RZ_prism_differential.pkl\")\n",
    "\n",
    "discrete['fjz_psd_db'] = 20*log10(discrete.fjz_psd/max(discrete.fjz_psd))\n",
    "prism['fjz_psd_db'] = 20*log10(prism.fjz_psd/max(prism.fjz_psd))"
   ]
  },
  {
   "cell_type": "code",
   "execution_count": null,
   "id": "a9d68a9b",
   "metadata": {
    "ExecuteTime": {
     "start_time": "2023-07-17T15:27:00.450Z"
    },
    "code_folding": [
     0
    ]
   },
   "outputs": [],
   "source": [
    "def __makeplot2():\n",
    "\n",
    "    from matplotlib.gridspec import GridSpec\n",
    "\n",
    "    font = 14\n",
    "\n",
    "\n",
    "    fig = plt.figure(figsize=(15,8))\n",
    "\n",
    "    plt.subplots_adjust(wspace=0.05)\n",
    "\n",
    "    gs = GridSpec(1, 2, width_ratios=[2, 1])\n",
    "\n",
    "    ax1 = fig.add_subplot(gs[0])\n",
    "    ax1.semilogx(discrete.frequencies, discrete.fjz_psd_db, alpha=0.5, color=\"tab:blue\", label=\"inv. discrete splitter\")\n",
    "    ax1.semilogx(prism.frequencies, prism.fjz_psd_db, alpha=0.5, color=\"tab:orange\", label=\"inv. Koester prism \")\n",
    "\n",
    "    ax1.grid(alpha=0.2, which=\"both\")\n",
    "    ax1.set_xlabel(\"Frequency (Hz)\", fontsize=font)\n",
    "    ax1.set_ylabel(f\"PSD (dB rel. to (1 $V^2$/Hz))\", fontsize=font)\n",
    "    ax1.legend(loc=\"upper center\", fontsize=font-1)\n",
    "    ax1.set_ylim(-230, 0)\n",
    "    ax1.tick_params(labelsize=font-2)   \n",
    "\n",
    "    ax1.set_xlim(0.1, 2500)\n",
    "\n",
    "\n",
    "    ax2 = fig.add_subplot(gs[1])\n",
    "    ax2.plot(discrete.frequencies, discrete.fjz_psd_db, alpha=0.5, color=\"tab:blue\")\n",
    "    ax2.plot(prism.frequencies, prism.fjz_psd_db, alpha=0.5, color=\"tab:orange\")\n",
    "\n",
    "    ax2.set_xlim(553.5-30, 553.5+30)\n",
    "    ax2.set_xlabel(\"Frequency (Hz)\", fontsize=font)\n",
    "    ax2.grid(alpha=0.2, which=\"both\")\n",
    "    ax2.set_ylim(-230, 0)\n",
    "    ax2.tick_params(labelsize=font-2)   \n",
    "    ax2.set_yticklabels([])\n",
    "\n",
    "    ax1.text(.01, .99, '(a)', ha='left', va='top', transform=ax1.transAxes, fontsize=font+2)\n",
    "    ax2.text(.01, .99, '(b)', ha='left', va='top', transform=ax2.transAxes, fontsize=font+2)\n",
    "\n",
    "\n",
    "    plt.show();\n",
    "    return fig\n",
    "    \n",
    "fig = __makeplot2()"
   ]
  },
  {
   "cell_type": "code",
   "execution_count": null,
   "id": "7cfee077",
   "metadata": {
    "ExecuteTime": {
     "start_time": "2023-07-17T15:27:00.456Z"
    }
   },
   "outputs": [],
   "source": [
    "fig.savefig(config['output_figures']+f\"discrete_prism_comparison_20230706_0100_0400.png\", dpi=200, bbox_inches='tight', pad_inches=0.05)"
   ]
  },
  {
   "cell_type": "markdown",
   "id": "2d0b8336",
   "metadata": {},
   "source": [
    "## Compare with Noise"
   ]
  },
  {
   "cell_type": "code",
   "execution_count": null,
   "id": "5fb177e3",
   "metadata": {
    "ExecuteTime": {
     "start_time": "2023-07-17T15:27:00.576Z"
    }
   },
   "outputs": [],
   "source": [
    "signal = read_pickle(config['datapath']+\"psd_2023-06-26_RZ_prism_differential.pkl\")\n",
    "signal['fjz_psd_db'] = 20*log10(signal.fjz_psd)"
   ]
  },
  {
   "cell_type": "code",
   "execution_count": null,
   "id": "a3806266",
   "metadata": {
    "ExecuteTime": {
     "start_time": "2023-07-17T15:27:00.581Z"
    }
   },
   "outputs": [],
   "source": [
    "## RW channel, loose cable with 50 Ohm endpiece  [2023-06-01  11:30 - 14:30 UTC]\n",
    "\n",
    "noise1 = read_pickle(config['datapath']+\"psd_2023-06-01_noise_NoConnection_Endpiece.pkl\")\n",
    "noise1['fjz_psd_db'] = 20*log10(noise1.fjz_psd)"
   ]
  },
  {
   "cell_type": "code",
   "execution_count": null,
   "id": "17df7951",
   "metadata": {
    "ExecuteTime": {
     "start_time": "2023-07-17T15:27:00.587Z"
    }
   },
   "outputs": [],
   "source": [
    "font = 12\n",
    "\n",
    "fig, ax = plt.subplots(1,1,figsize=(12,8))\n",
    "\n",
    "\n",
    "ax.semilogx(signal.frequencies, signal.fjz_psd_db, alpha=0.5, color=\"tab:blue\", label=\"before\")\n",
    "\n",
    "ax.semilogx(noise1.frequencies, noise1.fjz_psd_db, alpha=0.5, color=\"tab:purple\", label=\"noise\")\n",
    "\n",
    "plt.grid(alpha=0.2)\n",
    "plt.xlim(1e-2, 2.5e3)\n",
    "\n",
    "plt.xlabel(\"Frequency (Hz)\", fontsize=font)\n",
    "plt.ylabel(f\"PSD (dB rel. to (1 $V^2$/Hz))\", fontsize=font)\n",
    "plt.legend(loc=2)\n",
    "\n",
    "plt.show();"
   ]
  },
  {
   "cell_type": "code",
   "execution_count": null,
   "id": "032eaf1e",
   "metadata": {
    "ExecuteTime": {
     "start_time": "2023-07-17T15:27:00.594Z"
    }
   },
   "outputs": [],
   "source": [
    "## RU channel, electronics off, PMT power off [2023-06-01  11:30 - 14:30 UTC]\n",
    "\n",
    "noise2 = read_pickle(config['datapath']+\"psd_2023-06-01_noise_PmtPowerOff_ElectronicsOff.pkl\")\n",
    "noise2['fjz_psd_db'] = 20*log10(noise2.fjz_psd)"
   ]
  },
  {
   "cell_type": "code",
   "execution_count": null,
   "id": "613168b3",
   "metadata": {
    "ExecuteTime": {
     "start_time": "2023-07-17T15:27:00.600Z"
    }
   },
   "outputs": [],
   "source": [
    "font = 12\n",
    "\n",
    "fig, ax = plt.subplots(1,1,figsize=(12,8))\n",
    "\n",
    "\n",
    "ax.semilogx(signal.frequencies, signal.fjz_psd_db, alpha=0.5, color=\"tab:blue\", label=\"before\")\n",
    "\n",
    "ax.semilogx(noise2.frequencies, noise2.fjz_psd_db, alpha=0.5, color=\"tab:purple\", label=\"noise\")\n",
    "\n",
    "plt.grid(alpha=0.2)\n",
    "plt.xlim(1e-2, 2.5e3)\n",
    "\n",
    "plt.xlabel(\"Frequency (Hz)\", fontsize=font)\n",
    "plt.ylabel(f\"PSD (dB rel. to (1 $V^2$/Hz))\", fontsize=font)\n",
    "plt.legend(loc=2)\n",
    "\n",
    "plt.show();"
   ]
  },
  {
   "cell_type": "code",
   "execution_count": null,
   "id": "98f89b11",
   "metadata": {
    "ExecuteTime": {
     "start_time": "2023-07-17T15:27:00.606Z"
    }
   },
   "outputs": [],
   "source": [
    "## RZ channel, electronics on, PMT power on, PMT blocked [2023-06-01  11:30 - 14:30 UTC]\n",
    "\n",
    "# noise3 = read_pickle(config['datapath']+\"psd_2023-06-01_noise_PmtPowerOn_ElectricsOn_PmtBlocked.pkl\")\n",
    "\n",
    "## RZ channel, electronics on, PMT power on, PMT blocked [2023-06-09  00:00 - 03:00 UTC]\n",
    "noise3 = read_pickle(config['datapath']+\"psd_2023-06-09_RZ_noise_no_lasing.pkl\")\n",
    "noise3['fjz_psd_db'] = 20*log10(noise3.fjz_psd)"
   ]
  },
  {
   "cell_type": "code",
   "execution_count": null,
   "id": "398da89b",
   "metadata": {
    "ExecuteTime": {
     "start_time": "2023-07-17T15:27:00.612Z"
    }
   },
   "outputs": [],
   "source": [
    "font = 12\n",
    "\n",
    "fig, ax = plt.subplots(1,1,figsize=(12,8))\n",
    "\n",
    "\n",
    "ax.semilogx(signal.frequencies, signal.fjz_psd_db, alpha=0.5, color=\"tab:blue\", label=\"before\")\n",
    "\n",
    "ax.semilogx(noise3.frequencies, noise3.fjz_psd_db, alpha=0.5, color=\"tab:purple\", label=\"noise\")\n",
    "\n",
    "plt.grid(alpha=0.2)\n",
    "plt.xlim(1e-2, 2.5e3)\n",
    "\n",
    "plt.xlabel(\"Frequency (Hz)\", fontsize=font)\n",
    "plt.ylabel(f\"PSD (dB rel. to (1 $V^2$/Hz))\", fontsize=font)\n",
    "plt.legend(loc=2)\n",
    "\n",
    "plt.show();"
   ]
  },
  {
   "cell_type": "code",
   "execution_count": null,
   "id": "585e823d",
   "metadata": {
    "ExecuteTime": {
     "start_time": "2023-07-17T15:27:00.619Z"
    }
   },
   "outputs": [],
   "source": [
    "## channel RZ, self noise with no adapter only obsidian [ 2023-06-07 09:40 - 12:40 UTC]\n",
    "\n",
    "noise4 = read_pickle(config['datapath']+\"psd_2023-06-07_RZ_selfnoise_obsidian.pkl\")\n",
    "noise4['fjz_psd_db'] = 20*log10(noise4.fjz_psd)"
   ]
  },
  {
   "cell_type": "code",
   "execution_count": null,
   "id": "9c3baf61",
   "metadata": {
    "ExecuteTime": {
     "start_time": "2023-07-17T15:27:00.625Z"
    }
   },
   "outputs": [],
   "source": [
    "font = 12\n",
    "\n",
    "fig, ax = plt.subplots(1,1,figsize=(12,8))\n",
    "\n",
    "\n",
    "ax.semilogx(signal.frequencies, signal.fjz_psd_db, alpha=0.5, color=\"tab:blue\", label=\"before\")\n",
    "\n",
    "ax.semilogx(noise4.frequencies, noise4.fjz_psd_db, alpha=0.5, color=\"tab:purple\", label=\"noise\")\n",
    "\n",
    "plt.grid(alpha=0.2)\n",
    "plt.xlim(1e-2, 2.5e3)\n",
    "\n",
    "plt.xlabel(\"Frequency (Hz)\", fontsize=font)\n",
    "plt.ylabel(f\"PSD (dB rel. to (1 $V^2$/Hz))\", fontsize=font)\n",
    "plt.legend(loc=2)\n",
    "\n",
    "plt.show();"
   ]
  },
  {
   "cell_type": "markdown",
   "id": "5780fb08",
   "metadata": {},
   "source": [
    "## All Noise together"
   ]
  },
  {
   "cell_type": "code",
   "execution_count": null,
   "id": "31210e0d",
   "metadata": {
    "ExecuteTime": {
     "start_time": "2023-07-17T15:27:00.739Z"
    }
   },
   "outputs": [],
   "source": [
    "font = 14\n",
    "\n",
    "fig, ax = plt.subplots(1,1,figsize=(12,8))\n",
    "\n",
    "\n",
    "ax.semilogx(signal.frequencies, signal.fjz_psd_db, alpha=0.5, color=\"tab:blue\", label=\"Sagnac signal\")\n",
    "\n",
    "ax.semilogx(noise1.frequencies, noise1.fjz_psd_db, alpha=0.5, color=\"tab:red\", label=\"self-noise of data logger with 50 Ohm endpiece\")\n",
    "ax.semilogx(noise2.frequencies, noise2.fjz_psd_db, alpha=0.5, color=\"tab:brown\", label=\"coupling noise of cables & electronics\")\n",
    "ax.semilogx(noise3.frequencies, noise3.fjz_psd_db, alpha=0.5, color=\"tab:purple\", label=\"noise of active PMT & electronics\")\n",
    "ax.semilogx(noise4.frequencies, noise4.fjz_psd_db, alpha=0.5, color=\"tab:green\", label=\"self-noise of data logger\")\n",
    "\n",
    "\n",
    "plt.grid(alpha=0.3, which=\"both\")\n",
    "plt.xlim(1e-2, 2.5e3)\n",
    "\n",
    "plt.xlabel(\"Frequency (Hz)\", fontsize=font)\n",
    "plt.ylabel(f\"PSD (dB rel. to (1 $V^2$/Hz))\", fontsize=font)\n",
    "plt.legend(loc=2,fontsize=font-2)\n",
    "\n",
    "plt.tick_params(labelsize=font-2)   \n",
    "\n",
    "plt.show();"
   ]
  },
  {
   "cell_type": "code",
   "execution_count": null,
   "id": "d6a2a82e",
   "metadata": {},
   "outputs": [],
   "source": []
  },
  {
   "cell_type": "code",
   "execution_count": null,
   "id": "1902219a",
   "metadata": {},
   "outputs": [],
   "source": []
  }
 ],
 "metadata": {
  "kernelspec": {
   "display_name": "Python 3 (ipykernel)",
   "language": "python",
   "name": "python3"
  },
  "language_info": {
   "codemirror_mode": {
    "name": "ipython",
    "version": 3
   },
   "file_extension": ".py",
   "mimetype": "text/x-python",
   "name": "python",
   "nbconvert_exporter": "python",
   "pygments_lexer": "ipython3",
   "version": "3.7.8"
  },
  "latex_envs": {
   "LaTeX_envs_menu_present": true,
   "autoclose": false,
   "autocomplete": true,
   "bibliofile": "biblio.bib",
   "cite_by": "apalike",
   "current_citInitial": 1,
   "eqLabelWithNumbers": true,
   "eqNumInitial": 1,
   "hotkeys": {
    "equation": "Ctrl-E",
    "itemize": "Ctrl-I"
   },
   "labels_anchors": false,
   "latex_user_defs": false,
   "report_style_numbering": false,
   "user_envs_cfg": false
  },
  "toc": {
   "base_numbering": 1,
   "nav_menu": {},
   "number_sections": true,
   "sideBar": true,
   "skip_h1_title": false,
   "title_cell": "Table of Contents",
   "title_sidebar": "Contents",
   "toc_cell": false,
   "toc_position": {},
   "toc_section_display": true,
   "toc_window_display": false
  },
  "varInspector": {
   "cols": {
    "lenName": 16,
    "lenType": 16,
    "lenVar": 40
   },
   "kernels_config": {
    "python": {
     "delete_cmd_postfix": "",
     "delete_cmd_prefix": "del ",
     "library": "var_list.py",
     "varRefreshCmd": "print(var_dic_list())"
    },
    "r": {
     "delete_cmd_postfix": ") ",
     "delete_cmd_prefix": "rm(",
     "library": "var_list.r",
     "varRefreshCmd": "cat(var_dic_list()) "
    }
   },
   "types_to_exclude": [
    "module",
    "function",
    "builtin_function_or_method",
    "instance",
    "_Feature"
   ],
   "window_display": false
  }
 },
 "nbformat": 4,
 "nbformat_minor": 5
}
