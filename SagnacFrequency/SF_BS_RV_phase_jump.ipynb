{
 "cells": [
  {
   "cell_type": "markdown",
   "id": "22f5c8c9",
   "metadata": {
    "ExecuteTime": {
     "end_time": "2022-10-28T13:00:52.763484Z",
     "start_time": "2022-10-28T13:00:52.761516Z"
    }
   },
   "source": [
    "## Sagnac Frequency - Phase Jump Detection"
   ]
  },
  {
   "cell_type": "markdown",
   "id": "1cd32aed",
   "metadata": {},
   "source": [
    "..."
   ]
  },
  {
   "cell_type": "markdown",
   "id": "185b1a0b",
   "metadata": {},
   "source": [
    "## Imports"
   ]
  },
  {
   "cell_type": "code",
   "execution_count": 1,
   "id": "818caf4c",
   "metadata": {
    "ExecuteTime": {
     "end_time": "2023-06-27T08:11:10.277643Z",
     "start_time": "2023-06-27T08:11:08.781535Z"
    },
    "tags": []
   },
   "outputs": [],
   "source": [
    "import os\n",
    "import gc\n",
    "import matplotlib.pyplot as plt\n",
    "import numpy as np\n",
    "\n",
    "from datetime import datetime, date\n",
    "from pandas import DataFrame, read_pickle, date_range, concat, read_csv\n",
    "from obspy import UTCDateTime, read, Trace, Stream, read_inventory\n",
    "from scipy.signal import hilbert\n",
    "from scipy.ndimage import gaussian_filter1d\n",
    "from functions.rotate_romy_ZUV_ZNE import __rotate_romy_ZUV_ZNE\n",
    "\n",
    "from functions.get_fft import __get_fft\n",
    "from functions.multitaper_psd import __multitaper_psd\n",
    "from functions.welch_psd import __welch_psd\n",
    "from functions.reduce import __reduce\n",
    "from functions.load_backscatter_data import __load_backscatter_data\n",
    "\n",
    "from andbro__read_sds import __read_sds\n",
    "from andbro__readYaml import __readYaml\n",
    "from andbro__load_FURT_stream import __load_furt_stream"
   ]
  },
  {
   "cell_type": "code",
   "execution_count": 2,
   "id": "b83c9987",
   "metadata": {
    "ExecuteTime": {
     "end_time": "2023-06-27T08:11:10.288084Z",
     "start_time": "2023-06-27T08:11:10.284752Z"
    },
    "tags": []
   },
   "outputs": [],
   "source": [
    "if os.uname().nodename == 'lighthouse':\n",
    "    root_path = '/home/andbro/'\n",
    "    data_path = '/home/andbro/kilauea-data/'\n",
    "    archive_path = '/home/andbro/freenas/'\n",
    "    bay_path = '/home/andbro/bay200/'\n",
    "elif os.uname().nodename == 'kilauea':\n",
    "    root_path = '/home/brotzer/'\n",
    "    data_path = '/import/kilauea-data/'\n",
    "    archive_path = '/import/freenas-ffb-01-data/'\n",
    "    bay_path = '/bay200/'\n",
    "elif os.uname().nodename in ['lin-ffb-01', 'ambrym', 'hochfelln']:\n",
    "    root_path = '/home/brotzer/'\n",
    "    data_path = '/import/kilauea-data/'\n",
    "    archive_path = '/import/freenas-ffb-01-data/'\n",
    "    bay_path = '/bay200/'"
   ]
  },
  {
   "cell_type": "code",
   "execution_count": null,
   "id": "62eea053-7ff4-489c-9610-5d45e6ab8809",
   "metadata": {},
   "outputs": [],
   "source": []
  },
  {
   "cell_type": "code",
   "execution_count": null,
   "id": "6d4dc8b2-cc89-420e-a4cf-5ca715a57aa7",
   "metadata": {
    "tags": []
   },
   "outputs": [],
   "source": []
  },
  {
   "cell_type": "markdown",
   "id": "ec2578ab",
   "metadata": {},
   "source": [
    "## Configurations"
   ]
  },
  {
   "cell_type": "code",
   "execution_count": 3,
   "id": "ba83e3e7",
   "metadata": {
    "ExecuteTime": {
     "end_time": "2023-06-27T08:11:13.008382Z",
     "start_time": "2023-06-27T08:11:13.002517Z"
    },
    "tags": []
   },
   "outputs": [],
   "source": [
    "config = {}\n",
    "\n",
    "config['ring'] = \"V\"\n",
    "\n",
    "config['seed'] = f\"BW.DROMY..FJ{config['ring']}\"\n",
    "\n",
    "config['path_to_sds'] = archive_path+\"romy_archive/\"\n",
    "\n",
    "\n",
    "config['tbeg'] = UTCDateTime(\"2024-05-25 00:00\")\n",
    "config['tend'] = UTCDateTime(\"2024-05-25 06:00\")\n",
    "\n",
    "# config['tbeg'] = UTCDateTime(\"2024-05-31 00:00\")\n",
    "# config['tend'] = UTCDateTime(\"2024-06-01 00:00\")\n",
    "\n",
    "flim1, flim2 = 447.726, 447.745\n",
    "\n",
    "config['time_offset'] = 60 # seconds\n",
    "\n",
    "config['t1'] = config['tbeg']-config['time_offset']\n",
    "config['t2'] = config['tend']+config['time_offset']\n",
    "\n",
    "# specify sampling rate of rotation rate data\n",
    "config['sampling_rate'] = 20 # Hz\n",
    "\n",
    "# compute expected number of samples\n",
    "config['Nexpected'] = int((config['t2'] - config['t1']) * config['sampling_rate'])\n",
    "\n",
    "## path to Sagnac data\n",
    "config['path_to_autodata'] = archive_path+f\"romy_autodata/\"\n",
    "\n",
    "config['path_to_data'] = data_path+\"sagnac_frequency/data/backscatter/\"\n",
    "\n",
    "config['path_to_out_data'] = data_path+\"sagnac_frequency/data/\"\n",
    "\n",
    "config['path_to_figs'] = data_path+\"sagnac_frequency/figures/\"\n",
    "\n",
    "config['path_to_sds'] = archive_path+\"romy_archive/\"\n",
    "\n",
    "config['path_to_sds_out'] = archive_path+\"temp_archive/\"\n",
    "\n",
    "config['path_to_inventory'] =  data_path+\"stationxml_ringlaser/dataless/\"\n",
    "\n",
    "config['colors'] = {  1:'darkgreen',\n",
    "                      3:'lightgreen',\n",
    "                      4:'purple',\n",
    "                      5:'darkred',\n",
    "                      6:'darkblue',\n",
    "                      7:'darkorange',\n",
    "                      8:'darkcyan',\n",
    "                      9:'cyan',\n",
    "                     }"
   ]
  },
  {
   "cell_type": "markdown",
   "id": "12ef7747-2cb6-4561-bfe3-ccd226aae9dc",
   "metadata": {
    "tags": []
   },
   "source": [
    "### Load backscatter data"
   ]
  },
  {
   "cell_type": "code",
   "execution_count": null,
   "id": "5d8a5d06-0406-40f2-865b-93ad62f11e51",
   "metadata": {
    "tags": []
   },
   "outputs": [],
   "source": [
    "bs = __load_backscatter_data(config['tbeg'], config['tend'], config['ring'], config['path_to_data'])\n",
    "\n",
    "bs['time_sec'] = bs.time2 - bs.time1 + (bs.time1 - bs.time1.loc[0])"
   ]
  },
  {
   "cell_type": "markdown",
   "id": "1344bdce-6bb9-4f60-a91c-b04fb73b6ea8",
   "metadata": {
    "tags": []
   },
   "source": [
    "### Load rotation rate data"
   ]
  },
  {
   "cell_type": "code",
   "execution_count": 8,
   "id": "0f666de6-8251-43cf-b00c-5fd53458d82b",
   "metadata": {
    "tags": []
   },
   "outputs": [],
   "source": [
    "romy_inv = read_inventory(config['path_to_inventory']+\"dataless.seed.BW_ROMY\")"
   ]
  },
  {
   "cell_type": "code",
   "execution_count": 9,
   "id": "135aa035-a145-4a8f-8052-b13532a7a2c8",
   "metadata": {
    "tags": []
   },
   "outputs": [
    {
     "name": "stdout",
     "output_type": "stream",
     "text": [
      "3 Trace(s) in Stream:\n",
      "BW.ROMY.10.BJZ | 2024-05-24T23:59:00.009799Z - 2024-05-25T06:01:00.009799Z | 20.0 Hz, 434401 samples\n",
      "BW.ROMY..BJU   | 2024-05-24T23:58:59.989000Z - 2024-05-25T06:00:59.989000Z | 20.0 Hz, 434401 samples\n",
      "BW.ROMY..BJV   | 2024-05-24T23:59:00.019599Z - 2024-05-25T06:01:00.019599Z | 20.0 Hz, 434401 samples\n",
      "3 Trace(s) in Stream:\n",
      "BW.ROMY.10.BJZ | 2024-05-24T23:59:00.009799Z - 2024-05-25T06:01:00.009799Z | 20.0 Hz, 434401 samples\n",
      "BW.ROMY..BJU   | 2024-05-24T23:58:59.989000Z - 2024-05-25T06:00:59.989000Z | 20.0 Hz, 434401 samples\n",
      "BW.ROMY..BJV   | 2024-05-24T23:59:00.019599Z - 2024-05-25T06:01:00.019599Z | 20.0 Hz, 434401 samples\n"
     ]
    },
    {
     "data": {
      "text/plain": [
       "3 Trace(s) in Stream:\n",
       "BW.ROMY.10.BJZ | 2024-05-24T23:59:00.009799Z - 2024-05-25T06:00:59.959799Z | 20.0 Hz, 434400 samples\n",
       "BW.ROMY..BJU   | 2024-05-24T23:58:59.989000Z - 2024-05-25T06:00:59.939000Z | 20.0 Hz, 434400 samples\n",
       "BW.ROMY..BJV   | 2024-05-24T23:59:00.019599Z - 2024-05-25T06:00:59.969599Z | 20.0 Hz, 434400 samples"
      ]
     },
     "execution_count": 9,
     "metadata": {},
     "output_type": "execute_result"
    }
   ],
   "source": [
    "st0 = Stream()\n",
    "\n",
    "st0 += __read_sds(config['path_to_sds'], \"BW.ROMY.10.BJZ\", config['t1'], config['t2'])\n",
    "st0 += __read_sds(config['path_to_sds'], \"BW.ROMY..BJU\", config['t1'], config['t2'])\n",
    "st0 += __read_sds(config['path_to_sds'], \"BW.ROMY..BJV\", config['t1'], config['t2'])\n",
    "\n",
    "# remove sensitivity\n",
    "st0 = st0.remove_sensitivity(romy_inv)\n",
    "\n",
    "print(st0)\n",
    "\n",
    "# check if merging is required\n",
    "if len(st0) > 3:\n",
    "    print(f\" -> merging required!\")\n",
    "    st0.merge(fill_value=\"interpolate\")\n",
    "\n",
    "print(st0)\n",
    "\n",
    "# remove trend\n",
    "st0 = st0.detrend(\"linear\")\n",
    "\n",
    "# check if data has same length\n",
    "for tr in st0:\n",
    "    Nreal = len(tr.data)\n",
    "    if Nreal != config['Nexpected']:\n",
    "        tr.data = tr.data[:config['Nexpected']]\n",
    "        # print(f\" -> adjust length: {tr.stats.station}.{tr.stats.channel}:  {Nreal} -> {config['Nexpected']}\")\n",
    "\n",
    "# st0 = __rotate_romy_ZUV_ZNE(st0, romy_inv, keep_z=True)\n",
    "\n",
    "# st0 = st0.trim(config['tbeg'], config['tend'])\n",
    "\n",
    "st0"
   ]
  },
  {
   "cell_type": "code",
   "execution_count": 10,
   "id": "4a1bc3d4-93ea-4f49-a3be-1317e1d6ac1f",
   "metadata": {
    "tags": []
   },
   "outputs": [
    {
     "data": {
      "image/png": "[encoded data removed]",
      "text/plain": [
       "<Figure size 800x750 with 3 Axes>"
      ]
     },
     "metadata": {},
     "output_type": "display_data"
    }
   ],
   "source": [
    "st0.plot(equal_scale=False);"
   ]
  },
  {
   "cell_type": "code",
   "execution_count": null,
   "id": "6418fa30-105d-487f-82a5-9f45d6c24437",
   "metadata": {
    "tags": []
   },
   "outputs": [],
   "source": [
    "def get_phase_jumps(arr, times, LT, ST, amp_threshold, plot=True):\n",
    "\n",
    "    import numpy as np\n",
    "    from scipy.signal import hilbert\n",
    "    from functions.smoothing import __smooth\n",
    "\n",
    "    def sta_lta_detect(_data, threshold_upper, threshold_lower=None):\n",
    "\n",
    "        N = len(_data)\n",
    "\n",
    "        detection = np.ones(N)\n",
    "        ratio = np.zeros(N)\n",
    "\n",
    "        triggered = False\n",
    "        for n in range(N):\n",
    "\n",
    "            if n < LT:\n",
    "                continue\n",
    "\n",
    "            # compupte LTA, STA and ratio\n",
    "            LTA = np.nanmean(abs(_data[n-int(LT):n]))\n",
    "            STA = np.nanmean(abs(_data[n-int(ST):n]))\n",
    "            ratio[n] = abs(STA-LTA)\n",
    "\n",
    "            if triggered and ratio[n] > threshold_lower and threshold_lower is not None:\n",
    "                detection[n] = 0\n",
    "                continue\n",
    "            else:\n",
    "                triggered = False\n",
    "\n",
    "            if ratio[n] > threshold_upper and threshold_lower is not None:\n",
    "                detection[n] = np.nan\n",
    "                detection[n-1] = np.nan\n",
    "                triggered = True\n",
    "\n",
    "        # detect events based on threshold\n",
    "        for n, a in enumerate(ratio):\n",
    "            if a > threshold_upper:\n",
    "                detection[n] = np.nan\n",
    "                detection[n-1] = np.nan\n",
    "\n",
    "        return detection, ratio\n",
    "\n",
    "\n",
    "    amp_threshold_lower = 0.5\n",
    "\n",
    "    # dpha = __smooth(dpha, 10)\n",
    "\n",
    "    # 1st derivative of amplitude\n",
    "    damp = np.gradient(arr)\n",
    "\n",
    "    # 2nd derivative\n",
    "    # damp = np.gradient(damp)\n",
    "\n",
    "    # absolute values\n",
    "    damp = abs(damp)\n",
    "\n",
    "    detect, amp_ratio = sta_lta_detect(damp, amp_threshold)\n",
    "\n",
    "    if plot:\n",
    "\n",
    "        import matplotlib.pyplot as plt\n",
    "\n",
    "        Nrow, Ncol = 2, 1\n",
    "\n",
    "        font = 12\n",
    "\n",
    "        fig, ax = plt.subplots(Nrow, Ncol, figsize=(12, 5), sharex=True)\n",
    "\n",
    "        plt.subplots_adjust(hspace=0.1)\n",
    "\n",
    "        ax[0].plot(times, arr)\n",
    "        ax[0].plot(times, arr*np.array(detect))\n",
    "\n",
    "        ax[1].plot(times, amp_ratio, \"k\")\n",
    "        ax[1].axhline(amp_threshold, color=\"darkred\", alpha=0.5, ls=\"--\")\n",
    "        ax[1].set_ylim(0, 3*amp_threshold)\n",
    "\n",
    "        for _k in range(Nrow):\n",
    "            ax[_k].grid(which=\"both\", ls=\"--\", color=\"grey\", alpha=0.5, zorder=0)\n",
    "\n",
    "        for _n, d in enumerate(detect):\n",
    "            if np.isnan(d):\n",
    "                ax[0].axvline(times[_n], 0, np.nanmax(arr)*2, color=\"grey\", alpha=0.2, zorder=1)\n",
    "                ax[1].axvline(times[_n], 0, 10, color=\"grey\", alpha=0.2, zorder=1)\n",
    "\n",
    "        plt.show();\n",
    "\n",
    "    # change detections to one and everything else to zero\n",
    "    detect2 = abs(np.nan_to_num(detect, 0) - 1)\n",
    "\n",
    "    return np.array(amp_ratio), np.array(detect2)"
   ]
  },
  {
   "cell_type": "code",
   "execution_count": null,
   "id": "71a1a0c4-cc26-490b-8ce4-137b7b27ba2e",
   "metadata": {
    "tags": []
   },
   "outputs": [],
   "source": [
    "# x1 = 1000\n",
    "# x2 = x1+6000\n",
    "\n",
    "# data0 = np.array(bs.fj_fs[x1:x2])\n",
    "# time0 = np.array(bs.time_sec[x1:x2])\n",
    "\n",
    "data0 = np.array(bs.fj_fs)\n",
    "time0 = np.array(bs.time_sec)\n",
    "\n",
    "ratio, detect = get_phase_jumps(data0, time0, 10, 3, amp_threshold=0.00008)"
   ]
  },
  {
   "cell_type": "code",
   "execution_count": null,
   "id": "0035a00e-69d9-44e5-a060-caf370b9a8fb",
   "metadata": {
    "tags": []
   },
   "outputs": [],
   "source": [
    "# n = st0.select(component=\"U\")[0].data\n",
    "# ntime = st0.select(component=\"U\")[0].times()\n",
    "\n",
    "# # ratio, detect = get_phase_jumps(n, ntime, 10, 3, amp_threshold=0.0001)"
   ]
  },
  {
   "cell_type": "code",
   "execution_count": null,
   "id": "c8277f56-754a-461c-a709-d50b100cc7ce",
   "metadata": {
    "tags": []
   },
   "outputs": [],
   "source": [
    "mask1 = np.where(detect == 1, bs.time1, np.nan)\n",
    "mask2 = np.where(detect == 1, bs.time2, np.nan)\n",
    "\n",
    "mask_df = DataFrame()\n",
    "mask_df['mask1'] = mask1\n",
    "mask_df['mask2'] = mask2\n",
    "\n",
    "mask_df = mask_df.dropna()\n",
    "\n",
    "mask1 = np.array(mask_df.mask1)\n",
    "mask2 = np.array(mask_df.mask2)"
   ]
  },
  {
   "cell_type": "code",
   "execution_count": null,
   "id": "601388da-6196-4dfc-89b6-ba6ed3f9f0f3",
   "metadata": {
    "tags": []
   },
   "outputs": [],
   "source": [
    "def __get_trace(seed):\n",
    "\n",
    "    from obspy import Trace\n",
    "    from numpy import zeros\n",
    "\n",
    "    net, sta, loc, cha = seed.split('.')\n",
    "\n",
    "    trr = Trace()\n",
    "    trr.stats.starttime = config['t1']\n",
    "    trr.data = zeros(config['Nexpected'])\n",
    "    trr.stats.network = net\n",
    "    trr.stats.station = sta\n",
    "    trr.stats.location = loc\n",
    "    trr.stats.channel = cha\n",
    "    trr.stats.sampling_rate = config['sampling_rate']\n",
    "\n",
    "    return trr"
   ]
  },
  {
   "cell_type": "code",
   "execution_count": null,
   "id": "3e07b849-bdd6-4da1-9ba8-7a002d138f1a",
   "metadata": {
    "tags": []
   },
   "outputs": [],
   "source": [
    "def __mlti_intervals_to_zero(dat, times, mlti_t1, mlti_t2, t_offset_sec=120):\n",
    "\n",
    "    from numpy import nan, where, full, array\n",
    "\n",
    "    dat = array(dat)\n",
    "\n",
    "    mask = full((len(times)), 0, dtype=int)\n",
    "\n",
    "    idx = 0\n",
    "    for nn, tt in enumerate(times):\n",
    "\n",
    "        if idx >= len(mlti_t1):\n",
    "            continue\n",
    "        else:\n",
    "            t1, t2 = (mlti_t1[idx]-t_offset_sec), (mlti_t2[idx]+t_offset_sec)\n",
    "\n",
    "        if tt >= t1:\n",
    "            mask[nn] = 1\n",
    "        if tt > t2:\n",
    "            idx += 1\n",
    "\n",
    "    dat = where(mask == 1, 1, dat)\n",
    "\n",
    "    return dat"
   ]
  },
  {
   "cell_type": "code",
   "execution_count": null,
   "id": "f453be0d-6718-4404-b562-8d1038f3a71a",
   "metadata": {
    "tags": []
   },
   "outputs": [],
   "source": [
    "import obspy as obs\n",
    "\n",
    "tr_maskV = __get_trace(\"BW.ROMY.30.MLT\")\n",
    "\n",
    "tr_maskV.data = __mlti_intervals_to_zero(tr_maskV.data,\n",
    "                                         tr_maskV.times(reftime=config['t1'], type=\"utcdatetime\"),\n",
    "                                         mask1,\n",
    "                                         mask2,\n",
    "                                         t_offset_sec=60,\n",
    "                                         )"
   ]
  },
  {
   "cell_type": "code",
   "execution_count": null,
   "id": "f7ab7a55-faa6-4ddd-b79d-4d83e4709b98",
   "metadata": {
    "tags": []
   },
   "outputs": [],
   "source": [
    "tr_maskV.plot();"
   ]
  },
  {
   "cell_type": "code",
   "execution_count": null,
   "id": "6c91d74a-9d7d-4241-a96a-8a88fe106eae",
   "metadata": {
    "tags": []
   },
   "outputs": [],
   "source": [
    "import numpy.ma as ma\n",
    "\n",
    "st0.select(component=\"V\")[0].data = ma.masked_array(st0.select(component=\"V\")[0].data,\n",
    "                                                    mask=tr_maskV.data,\n",
    "                                                    fill_value=np.nan\n",
    "                                                   )\n",
    "\n",
    "st0.plot(equal_scale=False)"
   ]
  },
  {
   "cell_type": "code",
   "execution_count": null,
   "id": "9651a411-aefd-4be4-9965-dfd875ace742",
   "metadata": {},
   "outputs": [],
   "source": []
  },
  {
   "cell_type": "code",
   "execution_count": null,
   "id": "aba6a2df-7f0e-4cc0-9b53-559e9ed47d35",
   "metadata": {
    "tags": []
   },
   "outputs": [],
   "source": [
    "x1 = int(5*3600*20)\n",
    "x2 = x1+int(2*3600*20)\n",
    "\n",
    "V = st0.select(component=\"V\")[0].data[x1:x2]\n",
    "Vtime = st0.select(component=\"V\")[0].times()[x1:x2]\n",
    "\n",
    "V = st0.select(component=\"V\")[0].data\n",
    "Vtime = st0.select(component=\"V\")[0].times()\n",
    "\n",
    "plt.plot(V)\n",
    "\n",
    "# test, tt, yy, ii = __get_phase_jumps(V, Vtime, fraction_of_pi=2, plot=True)\n"
   ]
  },
  {
   "cell_type": "code",
   "execution_count": null,
   "id": "197d1361-030e-4acb-8471-51c67cd29fe3",
   "metadata": {
    "tags": []
   },
   "outputs": [],
   "source": []
  },
  {
   "cell_type": "code",
   "execution_count": 107,
   "id": "fa0110d8-89d4-4f52-8346-628b70d9ae53",
   "metadata": {
    "tags": []
   },
   "outputs": [],
   "source": [
    "import numpy as np\n",
    "\n",
    "def masking(img, n=3, method='mean', stats=[None, None]):\n",
    "    '''\n",
    "    Search for outlayer pixels with a value lower/larger\n",
    "    than the mean/median/other ± n × std\n",
    "    '''\n",
    "    if method.lower() == 'average':\n",
    "        avg, std = stats[0], stats[1]\n",
    "    elif method == 'mean':\n",
    "        avg, std = np.nanmean(img), np.nanstd(img)\n",
    "    elif method == 'median':\n",
    "        avg, std = np.nanmedian(img), np.nanstd(img)\n",
    "    return (img < (avg - n * std)) | (img > (avg + n * std))\n",
    "\n",
    "def box(A, i, j, size=1, nan=False):\n",
    "    '''\n",
    "    Extract the box (subarray) around (i,j) value inside\n",
    "    a box of size `size` and replace the centrale\n",
    "    value by NaN if necessary [option].\n",
    "    '''\n",
    "    if not isinstance(A, (list, np.ndarray)):\n",
    "        raise TypeError(\n",
    "            'The input must be an array. {} provided'.format(type(A)))\n",
    "\n",
    "    ny, nx = A.shape\n",
    "    if i < 0:\n",
    "        raise ValueError('Line index `i` must be ≥ 0')\n",
    "    if j < 0:\n",
    "        raise ValueError('Column index `j` must be ≥ 0')\n",
    "    if i >= nx:\n",
    "        raise ValueError('Line index `i` must be < {}'.format(nx))\n",
    "    if j >= ny:\n",
    "        raise ValueError('Column index `j` must be < {}'.format(ny))\n",
    "\n",
    "    if not isinstance(size, int):\n",
    "        raise TypeError('Size must be an int')\n",
    "    if size < 1:\n",
    "        raise ValueError('The box size must be ≥ 1')\n",
    "\n",
    "    if nan:\n",
    "        # The change of type is required to store a NaN\n",
    "        A = np.array(A, dtype=np.double)\n",
    "        A[j, i] = np.nan\n",
    "\n",
    "    l = i - size if i - size > 0 else 0\n",
    "    r = i + size if i + size < nx else nx\n",
    "    t = j - size if j - size > 0 else 0\n",
    "    b = j + size if j + size < ny else ny\n",
    "\n",
    "    return A[t:b+1, l:r+1]\n",
    "\n",
    "def mean(A):\n",
    "    return np.nanmean(A), np.nanstd(A)\n",
    "\n",
    "def median(A):\n",
    "    return np.nanmedian(A), np.nanstd(A)\n",
    "\n",
    "def spikes(img, method='mean', size=2, n=3, thres=None):\n",
    "    '''\n",
    "    Search spikes in the image using a moving box\n",
    "    of size `size` using `method` method with ± n × std\n",
    "    '''\n",
    "    if method.lower() == 'mean':\n",
    "        mask = mean\n",
    "    elif method.lower() == 'median':\n",
    "        mask = median\n",
    "    elif method.lower() == 'average':\n",
    "        mask = None\n",
    "        m, s = np.median(img), 1e-8\n",
    "    else:\n",
    "        raise ValueError(\"The masking method must be '[mean|median]\")\n",
    "\n",
    "    # s = np.nanpercentile(abs(img), 98)\n",
    "\n",
    "    ny, nx = img.shape\n",
    "    _spikes = np.zeros((ny, nx))\n",
    "    for i in range(nx):\n",
    "        for j in range(ny):\n",
    "            m, s = mask(box(img, i, j, size, nan=True))\n",
    "\n",
    "            # set threshold\n",
    "            if thres is not None:\n",
    "                if n * s < thres:\n",
    "                    s = thres\n",
    "\n",
    "            if img[j, i] < m - n * s or img[j, i] > m + n * s:\n",
    "                _spikes[j, i] = 1\n",
    "\n",
    "    return _spikes == 1\n",
    "\n",
    "def fill(img, mask, method='mean', size=1):\n",
    "    '''\n",
    "    Fill the masked pixels with the mean value of\n",
    "    surrounding neighboors inside a box of size `size`\n",
    "    '''\n",
    "    if img.shape != mask.shape:\n",
    "        raise ValueError('Image and outlayers mask must have the same dimentsion: {} vs. {}'.format(\n",
    "            img.shape, mask.shape\n",
    "        ))\n",
    "\n",
    "    if method.lower() == 'mean':\n",
    "        f = np.nanmean\n",
    "    elif method.lower() == 'median':\n",
    "        f = np.nanmedian\n",
    "    elif method.lower() == 'nan':\n",
    "        f = np.nanmedian\n",
    "    else:\n",
    "        raise ValueError(\"The filling method must be '[mean|median]\")\n",
    "\n",
    "    A = np.copy(img)\n",
    "    ny, nx = A.shape\n",
    "    x, y = np.meshgrid(range(nx), range(ny))\n",
    "\n",
    "    for x, y in zip(x[mask], y[mask]):\n",
    "        A[y, x] = f(box(A, x, y, size=size, nan=True))\n",
    "        # if method.lower() == 'nan':\n",
    "        #     A *= np.nan\n",
    "        #     print(A, type(A))\n",
    "    return A\n",
    "\n",
    "\n",
    "def clean(img, mask='mean', size=2, n=3, fill_method='median', fill_size=1, thres=None):\n",
    "    '''\n",
    "    Clean image from spikes with the `fill_method` method with surrounding\n",
    "    neighboors inside a box of size `fill_size`.\n",
    "    '''\n",
    "\n",
    "    # use absolute of image (seismic data)\n",
    "    aimg = abs(img)\n",
    "\n",
    "    return fill(img, spikes(aimg, mask, size, n, thres), fill_method, fill_size), spikes(aimg, mask, size, n, thres)\n",
    "\n",
    "def signal_to_image(arr):\n",
    "    '''\n",
    "    1d signal to square image\n",
    "    '''\n",
    "    # estimate size of square image\n",
    "    N = int(np.ceil(np.sqrt(len(arr))))\n",
    "\n",
    "    # compute difference required for square image\n",
    "    Npad = N**2 - len(arr)\n",
    "\n",
    "    # pad additional values with last value of signal\n",
    "    _pad = np.append(arr, np.ones(Npad)*arr[-1])\n",
    "\n",
    "    # reshape to square image\n",
    "    img = _pad.reshape(N, N)\n",
    "\n",
    "    return img, Npad\n",
    "\n",
    "def image_to_signal(img, pad=0):\n",
    "    '''\n",
    "    reshape image to 1d signal\n",
    "    '''\n",
    "    return img.reshape(1, img.size)[0][:-pad]\n",
    "\n",
    "\n",
    "def get_mask(spikes):\n",
    "    '''\n",
    "    modify 1d spikes to mask\n",
    "    '''\n",
    "    mask = np.where(spikes > 0, -1, spikes)\n",
    "    mask = np.where(mask == 0, 1, mask)\n",
    "    mask = np.where(mask < 0, np.nan, mask)\n",
    "    return mask\n",
    "\n",
    "def smooth(y, npts):\n",
    "    '''\n",
    "    moving average of 1d signal for n samples\n",
    "    '''\n",
    "    win = np.hanning(npts)\n",
    "    y_smooth = np.convolve(y, win/np.sum(win), mode='same')\n",
    "    y_smooth[:npts//2] = np.nan\n",
    "    y_smooth[-npts//2:] = np.nan\n",
    "    return y_smooth\n"
   ]
  },
  {
   "cell_type": "code",
   "execution_count": 137,
   "id": "7fa560e0-0267-487f-9cc3-589ddc066a7d",
   "metadata": {
    "tags": []
   },
   "outputs": [],
   "source": [
    "V = st0.copy().select(component=\"V\").trim(config['tbeg'], config['tend'], nearest_sample=False)[0].data"
   ]
  },
  {
   "cell_type": "code",
   "execution_count": 138,
   "id": "1e85c529-5673-4aea-a570-4241318be0a8",
   "metadata": {
    "tags": []
   },
   "outputs": [
    {
     "data": {
      "text/plain": [
       "[<matplotlib.lines.Line2D at 0x7fe442214940>]"
      ]
     },
     "execution_count": 138,
     "metadata": {},
     "output_type": "execute_result"
    }
   ],
   "source": [
    "plt.plot(V)"
   ]
  },
  {
   "cell_type": "code",
   "execution_count": 110,
   "id": "67600aa1-34a2-43f2-a5ff-dcc69a5e9006",
   "metadata": {
    "tags": []
   },
   "outputs": [],
   "source": [
    "# # get image for signal\n",
    "# Vimg, Npad = signal_to_image(V)\n",
    "\n",
    "# # get absolute image\n",
    "# aVimg = abs(Vimg)\n",
    "\n",
    "# # find spikes\n",
    "# Vimg_clean, Vimg_spikes = clean(Vimg, mask='median', size=5, n=5, fill_method='median', fill_size=2, thres=1e-8)\n",
    "\n",
    "# # turn image to signal\n",
    "# V_filt = image_to_signal(Vimg_clean, pad=Npad)\n",
    "# spikes = image_to_signal(Vimg_spikes, pad=Npad)\n",
    "\n",
    "# # create mask from spikes\n",
    "# mask = get_mask(spikes)\n",
    "\n",
    "# # smooth mask\n",
    "# mask_smooth = smooth(mask, 10)\n",
    "\n",
    "# # apply mask\n",
    "# V_masked = V * mask_smooth\n"
   ]
  },
  {
   "cell_type": "code",
   "execution_count": 111,
   "id": "03c070d7-76c4-4203-ba2c-b0148fb5579a",
   "metadata": {
    "tags": []
   },
   "outputs": [],
   "source": [
    "from functions.get_time_intervals import __get_time_intervals"
   ]
  },
  {
   "cell_type": "code",
   "execution_count": 112,
   "id": "d26cd5bd-4ea9-4974-88e9-4179f1c968e7",
   "metadata": {
    "tags": []
   },
   "outputs": [],
   "source": [
    "tinterval = 3600\n",
    "ninterval = 20*tinterval\n",
    "\n",
    "times = __get_time_intervals(config['tbeg'], config['tend'], tinterval, 0)"
   ]
  },
  {
   "cell_type": "code",
   "execution_count": 113,
   "id": "22bc70ac-8d68-4267-9376-ea4db1c7247e",
   "metadata": {
    "tags": []
   },
   "outputs": [
    {
     "data": {
      "application/vnd.jupyter.widget-view+json": {
       "model_id": "28cc8d66ef964ce3be34ace69f6c8352",
       "version_major": 2,
       "version_minor": 0
      },
      "text/plain": [
       "  0%|          | 0/6 [00:00<?, ?it/s]"
      ]
     },
     "metadata": {},
     "output_type": "display_data"
    }
   ],
   "source": [
    "from tqdm.notebook import tqdm\n",
    "\n",
    "_spikes = np.zeros(int((config['tend'] - config['tbeg'])*20))\n",
    "_cleans = np.zeros(int((config['tend'] - config['tbeg'])*20))\n",
    "\n",
    "n2 = 0\n",
    "for _k, (t1, t2) in enumerate(tqdm(times)):\n",
    "\n",
    "    _V = st0.select(component=\"V\").copy().trim(t1, t2, nearest_sample=False)[0].data\n",
    "\n",
    "    # get amount of samples of subdata\n",
    "    NV = len(_V)\n",
    "\n",
    "    if _k == 0:\n",
    "        n1, n2 = 0, NV\n",
    "\n",
    "    # get image for signal\n",
    "    Vimg, Npad = signal_to_image(_V)\n",
    "\n",
    "    # get absolute image\n",
    "    aVimg = abs(Vimg)\n",
    "\n",
    "    # find spikes\n",
    "    Vimg_clean, Vimg_spikes = clean(Vimg, mask='mean', size=15, n=10, fill_method='median', fill_size=2, thres=1e-8)\n",
    "\n",
    "    # turn image to signal\n",
    "    _cleans[n1:n2] = image_to_signal(Vimg_clean, pad=Npad)\n",
    "    _spikes[n1:n2] = image_to_signal(Vimg_spikes, pad=Npad)\n",
    "\n",
    "    n1, n2 = n1+NV, n2+NV\n",
    "\n",
    "V_filt = _cleans\n",
    "spikes = _spikes"
   ]
  },
  {
   "cell_type": "code",
   "execution_count": 114,
   "id": "eb223d72-743c-49cb-beb7-9e586bfefc97",
   "metadata": {
    "tags": []
   },
   "outputs": [],
   "source": [
    "\n",
    "# create mask from spikes\n",
    "mask = get_mask(spikes)\n",
    "\n",
    "# smooth mask\n",
    "mask_smooth = smooth(mask, 10)\n",
    "\n",
    "# apply mask\n",
    "V_masked = V * mask_smooth\n"
   ]
  },
  {
   "cell_type": "code",
   "execution_count": 67,
   "id": "b15ac802-6557-4a2b-85d8-8e3f45246fd2",
   "metadata": {
    "tags": []
   },
   "outputs": [],
   "source": [
    "%matplotlib tk"
   ]
  },
  {
   "cell_type": "code",
   "execution_count": 68,
   "id": "cd3cb801-d004-4247-8549-aa4e663f01b9",
   "metadata": {
    "tags": []
   },
   "outputs": [
    {
     "data": {
      "text/plain": [
       "[<matplotlib.lines.Line2D at 0x7fe44e9bbc70>]"
      ]
     },
     "execution_count": 68,
     "metadata": {},
     "output_type": "execute_result"
    }
   ],
   "source": [
    "plt.plot(V)\n",
    "plt.plot(V_masked)"
   ]
  },
  {
   "cell_type": "code",
   "execution_count": 115,
   "id": "8406373d-7439-4fdf-b9b0-64ec66ec7166",
   "metadata": {
    "tags": []
   },
   "outputs": [
    {
     "name": "stderr",
     "output_type": "stream",
     "text": [
      "invalid command name \"140618524786432delayed_destroy\"\n",
      "    while executing\n",
      "\"140618524786432delayed_destroy\"\n",
      "    (\"after\" script)\n",
      "invalid command name \"140618529335360delayed_destroy\"\n",
      "    while executing\n",
      "\"140618529335360delayed_destroy\"\n",
      "    (\"after\" script)\n"
     ]
    }
   ],
   "source": [
    "Vimg, _ = signal_to_image(V)\n",
    "aVimg = abs(Vimg)\n",
    "\n",
    "Vimg_spikes, _ = signal_to_image(spikes)\n",
    "\n",
    "\n",
    "def __makeplot():\n",
    "    import matplotlib.pyplot as plt\n",
    "\n",
    "    from matplotlib.gridspec import GridSpec\n",
    "\n",
    "    fig = plt.figure(layout=\"constrained\", figsize=(15, 10))\n",
    "\n",
    "    gs = GridSpec(3, 3, figure=fig)\n",
    "\n",
    "    ax1 = fig.add_subplot(gs[:1, :])\n",
    "    ax2 = fig.add_subplot(gs[1, 0:1])\n",
    "    ax3 = fig.add_subplot(gs[1, 1:2])\n",
    "    ax4 = fig.add_subplot(gs[1, 2:3])\n",
    "\n",
    "    # fig.suptitle(\"GridSpec\")\n",
    "\n",
    "    cmap1 = plt.get_cmap('viridis')\n",
    "\n",
    "    vmin, vmax = 0, 1e-8\n",
    "    #max(aVimg.reshape(aVimg.shape[0]*aVimg.shape[1]))\n",
    "\n",
    "    ax1.plot(V)\n",
    "    ax1.plot(V_masked)\n",
    "    # for sp in spikes:\n",
    "    #     ax1.axvline(sp, color=\"grey\", zorder=1, alpha=0.6)\n",
    "\n",
    "    ax2.imshow(aVimg, cmap=cmap1, vmin=vmin, vmax=vmax)\n",
    "    ax3.imshow(Vimg_spikes, cmap=plt.get_cmap('gray'))\n",
    "    ax4.imshow(aVimg*Vimg_spikes, cmap=cmap1, vmin=vmin, vmax=vmax)\n",
    "\n",
    "    # ax0.set_title('Original image')\n",
    "    # ax1.set_title('Median mask')\n",
    "    # ax2.set_title('Median image')\n",
    "\n",
    "    plt.show();\n",
    "\n",
    "__makeplot()"
   ]
  },
  {
   "cell_type": "code",
   "execution_count": 172,
   "id": "f343461f-efbb-4f82-9cf9-056a0179ddd4",
   "metadata": {},
   "outputs": [],
   "source": [
    "from obspy.signal.trigger import classic_sta_lta\n",
    "from obspy.signal.trigger import plot_trigger\n",
    "\n",
    "tr = st0.copy().select(component=\"V\")[0]\n",
    "\n",
    "tr = tr.detrend(\"demean\")\n",
    "\n",
    "t_lta = 50 # second\n",
    "t_sta = 1 # second\n",
    "\n",
    "threshol_upper = 40 # empirical\n",
    "\n",
    "df = tr.stats.sampling_rate\n",
    "\n",
    "cft = classic_sta_lta(tr.data, int(t_sta * df), int(t_lta * df))\n",
    "\n",
    "\n",
    "plot_trigger(tr, cft, threshol_upper, 1, show=False)\n",
    "\n",
    "mask = np.where(cft < threshol_upper, 0, cft)\n",
    "mask = np.where(mask > threshol_upper, 1, mask)\n",
    "\n",
    "mask_smooth = smooth(mask, 20)\n"
   ]
  },
  {
   "cell_type": "code",
   "execution_count": 173,
   "id": "61d40750-4638-46b0-a10a-32b2db927856",
   "metadata": {
    "tags": []
   },
   "outputs": [
    {
     "data": {
      "text/plain": [
       "[<matplotlib.lines.Line2D at 0x7fe44d0cc3a0>]"
      ]
     },
     "execution_count": 173,
     "metadata": {},
     "output_type": "execute_result"
    }
   ],
   "source": [
    "plt.figure()\n",
    "plt.plot(tr.data)\n",
    "plt.plot(tr.data*abs(mask_smooth-1))"
   ]
  },
  {
   "cell_type": "code",
   "execution_count": 125,
   "id": "df55fe09-6ecd-45bc-ad05-b17ed6087820",
   "metadata": {
    "tags": []
   },
   "outputs": [],
   "source": [
    "def __get_phase_jumps(arr, time, fraction_of_pi=6, plot=True):\n",
    "\n",
    "    import matplotlib.pyplot as plt\n",
    "    import numpy as np\n",
    "    from scipy.signal import hilbert\n",
    "\n",
    "\n",
    "    def smooth(y, npts):\n",
    "        '''\n",
    "        moving average of 1d signal for n samples\n",
    "        '''\n",
    "        win = np.hanning(npts)\n",
    "        y_smooth = np.convolve(y, win/np.sum(win), mode='same')\n",
    "        y_smooth[:npts//2] = np.nan\n",
    "        y_smooth[-npts//2:] = np.nan\n",
    "        return y_smooth\n",
    "\n",
    "    data = arr.copy()\n",
    "\n",
    "    # detect phase changes\n",
    "    dpha_y = [_x if abs(_x) > threshold and abs(_x) < 3.14 else np.nan for _x in dpha]\n",
    "\n",
    "    # detect phase indices\n",
    "    dpha_idx = [list(dpha).index(_x) for _x in dpha if abs(_x) > threshold and abs(_x) < 3.14]\n",
    "\n",
    "    # apply filter\n",
    "    out = [np.nan if _i in dpha_idx else arr[_i] for _i in range(len(arr))]\n",
    "\n",
    "    # checkup plot\n",
    "    if plot:\n",
    "        fig, ax = plt.subplots(2, 1, figsize=(15, 8))\n",
    "\n",
    "        ax[0].plot(time, dpha)\n",
    "        ax[0].scatter(time, dpha_y, color=\"tab:orange\", s=10, zorder=2)\n",
    "        ax[0].axhline(threshold, color=\"red\", ls=\"--\", alpha=0.5)\n",
    "        ax[0].axhline(-threshold, color=\"red\", ls=\"--\", alpha=0.5)\n",
    "\n",
    "        ax[1].plot(time, data)\n",
    "        for line in time[dpha_idx]:\n",
    "            ax[1].axvline(line, -1000, 1000, zorder=0, alpha=0.3, color=\"tab:orange\")\n",
    "\n",
    "        plt.show();\n",
    "\n",
    "    return np.array(out), time[dpha_idx], np.array(dpha_y)[dpha_idx], np.array(dpha_idx)"
   ]
  },
  {
   "cell_type": "code",
   "execution_count": 132,
   "id": "9b06d954-acf8-4c70-b2f9-b568615415a0",
   "metadata": {
    "tags": []
   },
   "outputs": [
    {
     "data": {
      "text/plain": [
       "(array([0.00000000e+00, 0.00000000e+00, 0.00000000e+00, ...,\n",
       "        1.61044030e-10, 1.70702887e-10, 1.09903627e-10]),\n",
       " array([0., 0., 0., ..., 0., 0., 0.]))"
      ]
     },
     "execution_count": 132,
     "metadata": {},
     "output_type": "execute_result"
    }
   ],
   "source": [
    "x1 = int(0*3600*20)\n",
    "x2 = x1+int(6*3600*20)\n",
    "\n",
    "V = st0.select(component=\"V\")[0].data[x1:x2]\n",
    "Vtime = st0.select(component=\"V\")[0].times()[x1:x2]\n",
    "\n",
    "get_phase_jumps(V, Vtime, 50, 10, 1e-8, plot=True)"
   ]
  },
  {
   "cell_type": "code",
   "execution_count": null,
   "id": "57e6b70b-0104-41ca-81cc-e5063dae7af5",
   "metadata": {
    "tags": []
   },
   "outputs": [],
   "source": []
  },
  {
   "cell_type": "code",
   "execution_count": null,
   "id": "b05883dd-0e00-4c8d-9843-62dfea8db41b",
   "metadata": {},
   "outputs": [],
   "source": []
  },
  {
   "cell_type": "code",
   "execution_count": null,
   "id": "beb2332f-c762-4c71-a69e-e084f5066e38",
   "metadata": {
    "tags": []
   },
   "outputs": [],
   "source": [
    "# # Median filtering\n",
    "# from despike.median import mask, median\n",
    "\n",
    "# median_mask = mask(aVimg, 20)\n",
    "# # median_img = median(Vimg, n=15, size=5)\n",
    "\n",
    "\n",
    "# Vimg_new = aVimg - aVimg*median_mask\n",
    "\n",
    "# f, (ax0, ax1, ax2) = plt.subplots(1, 3, sharey=True, figsize=(21, 7))\n",
    "\n",
    "# cmap1 = plt.get_cmap('viridis')\n",
    "\n",
    "# ax0.imshow(aVimg, cmap=cmap1, vmin=0)\n",
    "# ax1.imshow(median_mask, cmap=plt.get_cmap('gray'))\n",
    "# ax2.imshow(Vimg_new, cmap=cmap1, vmin=0)\n",
    "# ax0.set_title('Original image')\n",
    "# ax1.set_title('Median mask')\n",
    "# ax2.set_title('Median image')\n",
    "# plt.show()"
   ]
  },
  {
   "cell_type": "code",
   "execution_count": null,
   "id": "f7c48634-b82b-4c8a-81e3-5e31f87eb345",
   "metadata": {
    "tags": []
   },
   "outputs": [],
   "source": [
    "x1 = int(5*3600*20)\n",
    "x2 = x1+int(1*3600*20)\n",
    "\n",
    "V = st0.select(component=\"V\")[0].data[x1:x2]\n",
    "Vtime = st0.select(component=\"V\")[0].times()[x1:x2]\n",
    "\n",
    "plt.plot(V)\n"
   ]
  },
  {
   "cell_type": "markdown",
   "id": "3e53acfb-0295-4a70-a83e-337b7ed465a2",
   "metadata": {},
   "source": [
    "### Compute Backscatter (again)"
   ]
  },
  {
   "cell_type": "code",
   "execution_count": null,
   "id": "73528b65-7674-4d8e-a1e0-1a2d87ad0709",
   "metadata": {
    "tags": []
   },
   "outputs": [],
   "source": [
    "from functions.backscatter_correction import __backscatter_correction"
   ]
  },
  {
   "cell_type": "code",
   "execution_count": null,
   "id": "a45ff2da-cbcc-4a75-842a-85304cfbf9dd",
   "metadata": {
    "tags": []
   },
   "outputs": [],
   "source": [
    "# unwrap phases as one time series\n",
    "# bs['fj_ph'] = np.unwrap(bs.fj_ph)\n",
    "# bs['f1_ph'] = np.unwrap(bs.f1_ph)\n",
    "# bs['f2_ph'] = np.unwrap(bs.f2_ph)\n",
    "\n",
    "# use complete unwrapped phases\n",
    "bs['fj_ph'] = np.unwrap(bs.fj_phw)\n",
    "bs['f1_ph'] = np.unwrap(bs.f1_phw)\n",
    "bs['f2_ph'] = np.unwrap(bs.f2_phw)\n",
    "\n",
    "# fractional beat modulations\n",
    "m01 = bs.f1_ac / bs.f1_dc\n",
    "m02 = bs.f2_ac / bs.f2_dc\n",
    "\n",
    "# phase difference\n",
    "ph1 = bs.f1_ph\n",
    "ph2 = bs.f2_ph\n",
    "phase0 = ph2 - ph1\n",
    "\n",
    "# beat signal observed\n",
    "w_obs = bs.fj_fs\n",
    "\n",
    "# compute backscatter corrected signal\n",
    "bs['fj_bs'] = __backscatter_correction(m01, m02, phase0, w_obs, np.median(bs.fj_fs), cm_filter_factor=1.033)\n"
   ]
  },
  {
   "cell_type": "markdown",
   "id": "2698424e-9869-4b05-bb75-a88f603071e4",
   "metadata": {},
   "source": [
    "### Find phase jumps"
   ]
  },
  {
   "cell_type": "code",
   "execution_count": null,
   "id": "b08ede89-aa44-4b85-a79d-5b7c2857d3c9",
   "metadata": {
    "tags": []
   },
   "outputs": [],
   "source": []
  },
  {
   "cell_type": "code",
   "execution_count": null,
   "id": "8e7014e7-42d8-48ac-83e4-08d92391c7d3",
   "metadata": {
    "tags": []
   },
   "outputs": [],
   "source": [
    "bs['fj_fs'], tt, yy, ii = __get_phase_jumps(bs.fj_fs, bs.time_sec, fraction_of_pi=6, plot=True)"
   ]
  },
  {
   "cell_type": "code",
   "execution_count": null,
   "id": "814071ff-7895-48d9-bde9-d7ebef724919",
   "metadata": {
    "tags": []
   },
   "outputs": [],
   "source": [
    "_, tt1, yy1, ii1 = __get_phase_jumps(bs.fj_fs, bs.time_sec, fraction_of_pi=50, plot=False)\n",
    "\n",
    "_, tt2, yy2, ii2 = __get_phase_jumps(bs.fj_bs, bs.time_sec, fraction_of_pi=50, plot=False)\n"
   ]
  },
  {
   "cell_type": "code",
   "execution_count": 118,
   "id": "a998ea6a-1574-44f5-bc21-41dd208382ce",
   "metadata": {
    "tags": []
   },
   "outputs": [],
   "source": [
    "def get_phase_jumps(arr, times, LT, ST, amp_threshold, plot=True):\n",
    "\n",
    "    import numpy as np\n",
    "    from scipy.signal import hilbert\n",
    "    from functions.smoothing import __smooth\n",
    "\n",
    "    def sta_lta_detect(_data, threshold_upper, threshold_lower=None):\n",
    "\n",
    "        N = len(_data)\n",
    "\n",
    "        detection = np.ones(N)\n",
    "        ratio = np.zeros(N)\n",
    "\n",
    "        triggered = False\n",
    "        for n in range(N):\n",
    "\n",
    "            if n < LT:\n",
    "                continue\n",
    "\n",
    "            # compupte LTA, STA and ratio\n",
    "            LTA = np.nanmean(abs(_data[n-int(LT):n]))\n",
    "            STA = np.nanmean(abs(_data[n-int(ST):n]))\n",
    "            ratio[n] = abs(STA-LTA)\n",
    "\n",
    "            if triggered and ratio[n] > threshold_lower and threshold_lower is not None:\n",
    "                detection[n] = 0\n",
    "                continue\n",
    "            else:\n",
    "                triggered = False\n",
    "\n",
    "            if ratio[n] > threshold_upper and threshold_lower is not None:\n",
    "                detection[n] = np.nan\n",
    "                detection[n-1] = np.nan\n",
    "                triggered = True\n",
    "\n",
    "        # detect events based on threshold\n",
    "        for n, a in enumerate(ratio):\n",
    "            if a > threshold_upper:\n",
    "                detection[n] = np.nan\n",
    "                detection[n-1] = np.nan\n",
    "\n",
    "        return detection, ratio\n",
    "\n",
    "\n",
    "    amp_threshold_lower = 0.5\n",
    "\n",
    "    # dpha = __smooth(dpha, 10)\n",
    "\n",
    "    # 1st derivative of amplitude\n",
    "    damp = np.gradient(arr)\n",
    "\n",
    "    # 2nd derivative\n",
    "    # damp = np.gradient(damp)\n",
    "\n",
    "    # absolute values\n",
    "    damp = abs(damp)\n",
    "\n",
    "    detect, amp_ratio = sta_lta_detect(damp, amp_threshold)\n",
    "\n",
    "    if plot:\n",
    "\n",
    "        import matplotlib.pyplot as plt\n",
    "\n",
    "        Nrow, Ncol = 2, 1\n",
    "\n",
    "        font = 12\n",
    "\n",
    "        fig, ax = plt.subplots(Nrow, Ncol, figsize=(12, 5), sharex=True)\n",
    "\n",
    "        plt.subplots_adjust(hspace=0.1)\n",
    "\n",
    "        ax[0].plot(times, arr)\n",
    "        ax[0].plot(times, arr*np.array(detect))\n",
    "\n",
    "        ax[1].plot(times, amp_ratio, \"k\")\n",
    "        ax[1].axhline(amp_threshold, color=\"darkred\", alpha=0.5, ls=\"--\")\n",
    "        ax[1].set_ylim(0, 3*amp_threshold)\n",
    "\n",
    "        for _k in range(Nrow):\n",
    "            ax[_k].grid(which=\"both\", ls=\"--\", color=\"grey\", alpha=0.5, zorder=0)\n",
    "\n",
    "        for _n, d in enumerate(detect):\n",
    "            if np.isnan(d):\n",
    "                ax[0].axvline(times[_n], 0, np.nanmax(arr)*2, color=\"grey\", alpha=0.2, zorder=1)\n",
    "                ax[1].axvline(times[_n], 0, 10, color=\"grey\", alpha=0.2, zorder=1)\n",
    "\n",
    "        plt.show();\n",
    "\n",
    "    # change detections to one and everything else to zero\n",
    "    detect2 = abs(np.nan_to_num(detect, 0) - 1)\n",
    "\n",
    "    return np.array(amp_ratio), np.array(detect2)"
   ]
  },
  {
   "cell_type": "code",
   "execution_count": 117,
   "id": "6a5d801b-8ea8-4124-8733-aac06cd30ae5",
   "metadata": {
    "tags": []
   },
   "outputs": [
    {
     "ename": "NameError",
     "evalue": "name 'bs' is not defined",
     "output_type": "error",
     "traceback": [
      "\u001b[0;31m---------------------------------------------------------------------------\u001b[0m",
      "\u001b[0;31mNameError\u001b[0m                                 Traceback (most recent call last)",
      "Cell \u001b[0;32mIn[117], line 101\u001b[0m\n\u001b[1;32m     96\u001b[0m x2 \u001b[38;5;241m=\u001b[39m x1\u001b[38;5;241m+\u001b[39m\u001b[38;5;241m6000\u001b[39m\n\u001b[1;32m     98\u001b[0m \u001b[38;5;66;03m# data0 = np.array(bs.fj_fs[x1:x2])\u001b[39;00m\n\u001b[1;32m     99\u001b[0m \u001b[38;5;66;03m# time0 = np.array(bs.time_sec[x1:x2])\u001b[39;00m\n\u001b[0;32m--> 101\u001b[0m data0 \u001b[38;5;241m=\u001b[39m np\u001b[38;5;241m.\u001b[39marray(\u001b[43mbs\u001b[49m\u001b[38;5;241m.\u001b[39mfj_fs)\n\u001b[1;32m    102\u001b[0m time0 \u001b[38;5;241m=\u001b[39m np\u001b[38;5;241m.\u001b[39marray(bs\u001b[38;5;241m.\u001b[39mtime_sec)\n\u001b[1;32m    104\u001b[0m ratio, detect \u001b[38;5;241m=\u001b[39m get_phase_jumps(data0, time0, \u001b[38;5;241m10\u001b[39m, \u001b[38;5;241m3\u001b[39m, amp_threshold\u001b[38;5;241m=\u001b[39m\u001b[38;5;241m0.00025\u001b[39m)\n",
      "\u001b[0;31mNameError\u001b[0m: name 'bs' is not defined"
     ]
    }
   ],
   "source": [
    "x1 = 1000\n",
    "x2 = x1+6000\n",
    "\n",
    "# data0 = np.array(bs.fj_fs[x1:x2])\n",
    "# time0 = np.array(bs.time_sec[x1:x2])\n",
    "\n",
    "data0 = np.array(bs.fj_fs)\n",
    "time0 = np.array(bs.time_sec)\n",
    "\n",
    "ratio, detect = get_phase_jumps(data0, time0, 10, 3, amp_threshold=0.00025)"
   ]
  },
  {
   "cell_type": "code",
   "execution_count": null,
   "id": "6bfb66ec-2fc1-42fa-90ca-2f9faf3e9b2a",
   "metadata": {
    "tags": []
   },
   "outputs": [],
   "source": [
    "print(len(bs.fj_fs), len(detect))\n",
    "\n",
    "\n",
    "mask = np.where(detect==1, 1, 0)\n",
    "\n",
    "time_mask = time0 * detect\n",
    "\n",
    "time_inter = time_mask[time_mask != 0]\n",
    "\n",
    "inter = np.diff(time_inter)\n",
    "inter[0] = inter[1]\n",
    "\n",
    "plt.figure()\n",
    "plt.plot(np.cumsum(detect))\n",
    "\n",
    "NN = 3600\n",
    "plt.figure()\n",
    "plt.hist(inter, bins=int(NN/60), range=(0, NN), log=True, rwidth=0.7)\n",
    "plt.ylim(bottom=0.5)"
   ]
  },
  {
   "cell_type": "code",
   "execution_count": null,
   "id": "f56a5527-d279-49c4-936b-aed05cb238ae",
   "metadata": {
    "tags": []
   },
   "outputs": [],
   "source": [
    "data = np.array(bs.fj_fs)\n",
    "\n",
    "for _i in range(len(data)):\n",
    "\n",
    "    if detect[_i] == 1:\n",
    "        left = np.nanmean(data[_i-8:_i-3])\n",
    "        right = np.nanmean(data[_i+3:_i+8])\n",
    "\n",
    "        diff = left - right\n",
    "\n",
    "        data[_i-3:_i] = left\n",
    "\n",
    "        data[_i:] += diff\n",
    "\n",
    "\n",
    "# plt.plot(bs.fj_fs[:-40000])\n",
    "# plt.plot(data[:-40000])\n",
    "\n",
    "plt.plot(bs.fj_fs)\n",
    "plt.plot(data)\n",
    "\n",
    "# plt.ylim(flim1, flim2)"
   ]
  }
 ],
 "metadata": {
  "kernelspec": {
   "display_name": "Python 3 (ipykernel)",
   "language": "python",
   "name": "python3"
  },
  "language_info": {
   "codemirror_mode": {
    "name": "ipython",
    "version": 3
   },
   "file_extension": ".py",
   "mimetype": "text/x-python",
   "name": "python",
   "nbconvert_exporter": "python",
   "pygments_lexer": "ipython3",
   "version": "3.10.12"
  },
  "latex_envs": {
   "LaTeX_envs_menu_present": true,
   "autoclose": false,
   "autocomplete": true,
   "bibliofile": "biblio.bib",
   "cite_by": "apalike",
   "current_citInitial": 1,
   "eqLabelWithNumbers": true,
   "eqNumInitial": 1,
   "hotkeys": {
    "equation": "Ctrl-E",
    "itemize": "Ctrl-I"
   },
   "labels_anchors": false,
   "latex_user_defs": false,
   "report_style_numbering": false,
   "user_envs_cfg": false
  },
  "toc": {
   "base_numbering": 1,
   "nav_menu": {},
   "number_sections": true,
   "sideBar": true,
   "skip_h1_title": false,
   "title_cell": "Table of Contents",
   "title_sidebar": "Contents",
   "toc_cell": false,
   "toc_position": {},
   "toc_section_display": true,
   "toc_window_display": false
  },
  "varInspector": {
   "cols": {
    "lenName": 16,
    "lenType": 16,
    "lenVar": 40
   },
   "kernels_config": {
    "python": {
     "delete_cmd_postfix": "",
     "delete_cmd_prefix": "del ",
     "library": "var_list.py",
     "varRefreshCmd": "print(var_dic_list())"
    },
    "r": {
     "delete_cmd_postfix": ") ",
     "delete_cmd_prefix": "rm(",
     "library": "var_list.r",
     "varRefreshCmd": "cat(var_dic_list()) "
    }
   },
   "types_to_exclude": [
    "module",
    "function",
    "builtin_function_or_method",
    "instance",
    "_Feature"
   ],
   "window_display": false
  }
 },
 "nbformat": 4,
 "nbformat_minor": 5
}
