{
 "cells": [
  {
   "cell_type": "markdown",
   "id": "22f5c8c9",
   "metadata": {
    "ExecuteTime": {
     "end_time": "2022-10-28T13:00:52.763484Z",
     "start_time": "2022-10-28T13:00:52.761516Z"
    }
   },
   "source": [
    "## Compute Sagnac Frequency - Backscatter Correction"
   ]
  },
  {
   "cell_type": "markdown",
   "id": "1cd32aed",
   "metadata": {},
   "source": []
  },
  {
   "cell_type": "markdown",
   "id": "185b1a0b",
   "metadata": {},
   "source": [
    "## Imports"
   ]
  },
  {
   "cell_type": "code",
   "execution_count": 1,
   "id": "818caf4c",
   "metadata": {
    "ExecuteTime": {
     "end_time": "2023-06-27T08:11:10.277643Z",
     "start_time": "2023-06-27T08:11:08.781535Z"
    },
    "tags": []
   },
   "outputs": [],
   "source": [
    "import os\n",
    "import matplotlib.pyplot as plt\n",
    "import numpy as np\n",
    "\n",
    "from datetime import datetime, date\n",
    "from pandas import DataFrame, read_pickle, date_range, concat, read_csv\n",
    "from obspy import UTCDateTime, read\n",
    "from scipy.signal import hilbert\n",
    "\n",
    "\n",
    "from functions.multitaper_psd import __multitaper_psd\n",
    "from functions.welch_psd import __welch_psd\n",
    "from acoustics.signal import phase_spectrum, angle_spectrum"
   ]
  },
  {
   "cell_type": "code",
   "execution_count": 2,
   "id": "b83c9987",
   "metadata": {
    "ExecuteTime": {
     "end_time": "2023-06-27T08:11:10.288084Z",
     "start_time": "2023-06-27T08:11:10.284752Z"
    },
    "tags": []
   },
   "outputs": [],
   "source": [
    "if os.uname().nodename == 'lighthouse':\n",
    "    root_path = '/home/andbro/'\n",
    "    data_path = '/home/andbro/kilauea-data/'\n",
    "    archive_path = '/home/andbro/freenas/'\n",
    "elif os.uname().nodename == 'kilauea':\n",
    "    root_path = '/home/brotzer/'\n",
    "    data_path = '/import/kilauea-data/'\n",
    "    archive_path = '/import/freenas-ffb-01-data/'"
   ]
  },
  {
   "cell_type": "markdown",
   "id": "ec2578ab",
   "metadata": {},
   "source": [
    "## Configurations"
   ]
  },
  {
   "cell_type": "code",
   "execution_count": 3,
   "id": "ba83e3e7",
   "metadata": {
    "ExecuteTime": {
     "end_time": "2023-06-27T08:11:13.008382Z",
     "start_time": "2023-06-27T08:11:13.002517Z"
    },
    "tags": []
   },
   "outputs": [],
   "source": [
    "config = {}\n",
    "\n",
    "config['ring'] = \"U\"\n",
    "\n",
    "config['seed'] = \"BW.DROMY..FJU\"\n",
    "\n",
    "config['path_to_sds'] = archive_path+\"romy_archive/\"\n",
    "\n",
    "config['tbeg'] = UTCDateTime(\"2023-09-19 00:00\")\n",
    "config['tend'] = UTCDateTime(\"2023-09-19 10:00\")\n",
    "\n",
    "# config['f_lower_zoomin'], config['f_upper_zoomin'] = 448-10, 448+10\n",
    "\n",
    "config['path_to_data'] = archive_path+f\"romy_autodata/\"\n",
    "\n",
    "config['path_to_figs'] = data_path+\"sagnac_frequency/figures/\""
   ]
  },
  {
   "cell_type": "code",
   "execution_count": 4,
   "id": "8b88098b-cb6c-4205-ba67-6a85f437fdc4",
   "metadata": {
    "ExecuteTime": {
     "end_time": "2023-06-27T08:11:26.732797Z",
     "start_time": "2023-06-27T08:11:26.732775Z"
    },
    "tags": []
   },
   "outputs": [],
   "source": [
    "def __load_romy_raw_data(seeds, tbeg, tend, path_to_sds):\n",
    "\n",
    "    from andbro__read_sds import __read_sds\n",
    "    from obspy import Stream, UTCDateTime\n",
    "\n",
    "    st0 = Stream()\n",
    "\n",
    "    for seed in seeds:\n",
    "\n",
    "        print(f\" -> loading {seed}...\")\n",
    "\n",
    "        try:\n",
    "            st00 = __read_sds(path_to_sds, seed, tbeg,tend, data_format='MSEED')\n",
    "        except:\n",
    "            print(f\" -> failed for {seed}\")\n",
    "\n",
    "        st0 += st00\n",
    "\n",
    "    st0 = st0.sort()\n",
    "\n",
    "    for tr in st0:\n",
    "        tr.data = tr.data*0.59604645e-6 # V / count  [0.59604645ug  from obsidian]\n",
    "\n",
    "    return st0"
   ]
  },
  {
   "cell_type": "code",
   "execution_count": 5,
   "id": "77799fdf-c31f-4ca3-bbb8-9307dc97393d",
   "metadata": {
    "tags": []
   },
   "outputs": [],
   "source": [
    "def __get_values(ff, psd, fph, ph, f_sagn, multitaper=False):\n",
    "\n",
    "    from numpy import argmax, sqrt, where, argmin, gradient, mean\n",
    "    from acoustics.signal import phase_spectrum\n",
    "\n",
    "    ## specify f-band around Sagnac frequency\n",
    "    fl = f_sagn-2\n",
    "    fu = f_sagn+2\n",
    "\n",
    "    ## get index of Sagnac peak\n",
    "    idx_fs = where(psd == max(psd[(ff > fl) & (ff < fu)]))[0][0]\n",
    "\n",
    "    if multitaper:\n",
    "        ## compute gradient\n",
    "        psd_d = abs(gradient(psd))\n",
    "\n",
    "        ## cut psd below f_sagn -10 Hz and above f_sagn + 10 Hz\n",
    "        psd_d1 = psd_d[(ff < f_sagn) & (ff > f_sagn - 10)]\n",
    "        psd_d2 = psd_d[(ff > f_sagn) & (ff < f_sagn + 10)]\n",
    "\n",
    "        ## get index of maximum gradient\n",
    "        idx1 = where(psd_d == max(psd_d1))[0][0]\n",
    "        idx2 = where(psd_d == max(psd_d2))[0][0]\n",
    "\n",
    "        ## get index in the center of the stronges changes (= center of plateau)\n",
    "        idx_fs = int( (idx2-idx1) /2 + idx1 )\n",
    "\n",
    "    ## estimate Sagnac frequency\n",
    "    f_sagn_est = ff[idx_fs]\n",
    "\n",
    "    ## estimate AC value at Sagnac peak\n",
    "    # AC_est = max(psd[(ff > fl) & (ff < fu)])\n",
    "    AC_est = psd[idx_fs]\n",
    "\n",
    "    ## estimate DC value at ff = 0\n",
    "    DC_est = psd[0]\n",
    "\n",
    "    ## estimate phase at Sagnac peak\n",
    "    idx_ph = argmin(abs(fph- f_sagn_est)) ## finde index of phase closest to sagnac frequency\n",
    "    phase_est = ph[idx_ph] ## select phase of Sagnac\n",
    "\n",
    "    return f_sagn_est, sqrt(AC_est), sqrt(DC_est), phase_est"
   ]
  },
  {
   "cell_type": "code",
   "execution_count": 6,
   "id": "fb995769-7d54-4009-a93b-6723fcc025e9",
   "metadata": {
    "tags": []
   },
   "outputs": [],
   "source": [
    "def __get_fft(signal_in, dt, window=None):\n",
    "\n",
    "    '''\n",
    "    Calculating a simple 1D FastFourierSpectrum of a time series.\n",
    "\n",
    "    RETURN:\n",
    "\n",
    "    frequencies, spectrum, phase\n",
    "\n",
    "    TEST:\n",
    "\n",
    "    >>> spectrum, frequencies, phase = __fft(signal_in, dt ,window=None,normalize=None)\n",
    "    '''\n",
    "\n",
    "    from scipy.fft import fft, fftfreq, fftshift\n",
    "    from scipy import signal\n",
    "    from numpy import angle, imag\n",
    "\n",
    "    ## determine length of the input time series\n",
    "    n = int(len(signal_in))\n",
    "\n",
    "\n",
    "    ## calculate spectrum (with or without window function applied to time series)\n",
    "    if window is None or window is False:\n",
    "        spectrum = fft( signal_in )\n",
    "\n",
    "    elif window == \"hanning\":\n",
    "        window = signal.hann(n);\n",
    "        spectrum = fft(signal_in * window)\n",
    "\n",
    "    elif window == \"kaiser\":\n",
    "        window = signal.kaiser(n, 8.6); print('Kaiser window (beta = 8.6) applied \\n')\n",
    "        #window = signal.gaussian(n, std=20); print('Gaussian window (std = 20) applied \\n')\n",
    "        spectrum = fft( signal_in * window )\n",
    "\n",
    "    else:\n",
    "        print(\"choose either 'hanning' or 'kaiser' as window\")\n",
    "\n",
    "    ## calculate frequency array \n",
    "    frequencies = fftfreq(n, d=dt)\n",
    "\n",
    "\n",
    "    ## correct amplitudes of spectrum\n",
    "    magnitude = 2.0 / n * abs(spectrum)\n",
    "\n",
    "    phase = angle(spectrum, deg=False)\n",
    "    # phase = imag(spectrum)\n",
    "\n",
    "    ## return the positive frequencies\n",
    "    return frequencies[0:n//2], magnitude[0:n//2], phase[0:n//2]"
   ]
  },
  {
   "cell_type": "code",
   "execution_count": 7,
   "id": "9015cb28-c5b2-435d-a9e6-bc5cca9c534d",
   "metadata": {
    "tags": []
   },
   "outputs": [],
   "source": [
    "def __welch_psd(arr, dt, twin_sec=60):\n",
    "\n",
    "    from scipy.signal import welch\n",
    "    from scipy.signal.windows import hann\n",
    "\n",
    "    nblock = int(1/dt * twin_sec)\n",
    "    overlap = int(0.5*nblock)\n",
    "    win = hann(nblock, True)\n",
    "\n",
    "    ff, Pxx = welch(arr,\n",
    "                    fs=1/dt,\n",
    "                    window=win, noverlap=overlap,\n",
    "                    nfft=nblock,\n",
    "                    scaling=\"density\",\n",
    "                    return_onesided=True)\n",
    "\n",
    "    return ff, Pxx"
   ]
  },
  {
   "cell_type": "markdown",
   "id": "d2c3bf44-6be4-445e-9c39-629fdc606900",
   "metadata": {
    "tags": []
   },
   "source": [
    "## NEW ULLI"
   ]
  },
  {
   "cell_type": "code",
   "execution_count": 8,
   "id": "ef5c504e-3e62-44b4-8d2f-5b1eeace8b02",
   "metadata": {
    "tags": []
   },
   "outputs": [],
   "source": [
    "interval_seconds = 60"
   ]
  },
  {
   "cell_type": "code",
   "execution_count": 9,
   "id": "4e56366e-6ba0-4184-b1f0-b155ec372f0d",
   "metadata": {
    "tags": []
   },
   "outputs": [],
   "source": [
    "sagn = read(root_path+\"Downloads/mseed/30min/DROMY_FJU_2023-09-19.mseed\").trim(config['tbeg'], config['tbeg']+interval_seconds)\n",
    "mon1 = read(root_path+\"Downloads/mseed/30min/DROMY_F1V_2023-09-19.mseed\").trim(config['tbeg'], config['tbeg']+interval_seconds)\n",
    "mon2 = read(root_path+\"Downloads/mseed/30min/DROMY_F2V_2023-09-19.mseed\").trim(config['tbeg'], config['tbeg']+interval_seconds)"
   ]
  },
  {
   "cell_type": "code",
   "execution_count": 10,
   "id": "37e3e25e-3230-411d-b31b-79a8eecec558",
   "metadata": {
    "tags": []
   },
   "outputs": [],
   "source": [
    "for tr in sagn:\n",
    "    tr.data = tr.data*0.59604645e-6 # V / count  [0.59604645ug  from obsidian]\n",
    "for tr in mon1:\n",
    "    tr.data = tr.data*0.59604645e-6 # V / count  [0.59604645ug  from obsidian]\n",
    "for tr in mon2:\n",
    "    tr.data = tr.data*0.59604645e-6 # V / count  [0.59604645ug  from obsidian]"
   ]
  },
  {
   "cell_type": "code",
   "execution_count": 11,
   "id": "8fb3a2e9-8e82-4448-8284-4ea2c678bc37",
   "metadata": {
    "tags": []
   },
   "outputs": [],
   "source": [
    "# sagn.interpolate(20000);\n",
    "# mon1.interpolate(20000);\n",
    "# mon2.interpolate(20000);"
   ]
  },
  {
   "cell_type": "code",
   "execution_count": 12,
   "id": "3f7a54c6-e7a9-4e38-900c-42c66d09fce4",
   "metadata": {
    "tags": []
   },
   "outputs": [],
   "source": [
    "# sagn.plot();\n",
    "# mon1.plot();\n",
    "# mon2.plot();"
   ]
  },
  {
   "cell_type": "markdown",
   "id": "d7d548a1-7fa6-4248-a7cc-a936203396df",
   "metadata": {},
   "source": [
    "## Processing"
   ]
  },
  {
   "cell_type": "code",
   "execution_count": 13,
   "id": "7c9caaef-3b8f-4af2-ae17-22b089df69ca",
   "metadata": {
    "tags": []
   },
   "outputs": [],
   "source": [
    "f_f, psd_f, pha_f = __get_fft(mon1[0].data, mon1[0].stats.delta)\n",
    "\n",
    "pha_f = np.unwrap(pha_f)\n",
    "psd_f = psd_f**2"
   ]
  },
  {
   "cell_type": "code",
   "execution_count": null,
   "id": "3bff6514-844f-443c-8d07-b6a321a8f0a1",
   "metadata": {
    "tags": []
   },
   "outputs": [],
   "source": [
    "f_m, psd_m = __multitaper_psd(mon1[0].data, mon1[0].stats.delta, n_win=2)"
   ]
  },
  {
   "cell_type": "code",
   "execution_count": null,
   "id": "3d6faf48-1508-4960-b5c7-70ab13b4efd5",
   "metadata": {
    "tags": []
   },
   "outputs": [],
   "source": [
    "f_w, psd_w = __welch_psd(mon1[0].data, mon1[0].stats.delta, twin_sec=interval_seconds)"
   ]
  },
  {
   "cell_type": "code",
   "execution_count": null,
   "id": "146aa991-017e-4214-b46c-f83a3ad78098",
   "metadata": {
    "tags": []
   },
   "outputs": [],
   "source": [
    "f_pha, pha = phase_spectrum(mon1[0].data, mon1[0].stats.sampling_rate)"
   ]
  },
  {
   "cell_type": "code",
   "execution_count": null,
   "id": "47308011-e442-4a90-9035-3b1b5b6f57eb",
   "metadata": {
    "tags": []
   },
   "outputs": [],
   "source": [
    "fs_w, ac_w, dc_w, ph_w = __get_values(f_w, psd_w, f_pha, pha, 303.05, multitaper=False)"
   ]
  },
  {
   "cell_type": "code",
   "execution_count": null,
   "id": "b93cefd4-a5ea-4f53-8285-876b47fc8f1e",
   "metadata": {
    "tags": []
   },
   "outputs": [],
   "source": [
    "fs_m, ac_m, dc_m, ph_m = __get_values(f_m, psd_m, f_pha, pha, 303.05, multitaper=True)"
   ]
  },
  {
   "cell_type": "code",
   "execution_count": null,
   "id": "80461f26-97fc-43e3-b68f-77cb9ceb412b",
   "metadata": {
    "tags": []
   },
   "outputs": [],
   "source": [
    "fs_f, ac_f, dc_f, ph_f = __get_values(f_f, psd_f, f_f, pha_f, 303.05, multitaper=False)"
   ]
  },
  {
   "cell_type": "code",
   "execution_count": null,
   "id": "d8349205-9301-421c-ae36-b387fbf30f96",
   "metadata": {
    "tags": []
   },
   "outputs": [],
   "source": [
    "f_pha1, pha1 = phase_spectrum(mon1[0].data, mon1[0].stats.sampling_rate)\n",
    "f_pha2, pha2 = phase_spectrum(mon2[0].data, mon2[0].stats.sampling_rate)\n",
    "f_pha, pha = phase_spectrum(sagn[0].data, sagn[0].stats.sampling_rate)"
   ]
  },
  {
   "cell_type": "markdown",
   "id": "411742c3-a413-4fe1-83d4-d8d150748237",
   "metadata": {},
   "source": [
    "## Plotting"
   ]
  },
  {
   "cell_type": "code",
   "execution_count": null,
   "id": "c363a086-e5d3-4e91-bb81-8be0e35c55b3",
   "metadata": {
    "tags": []
   },
   "outputs": [],
   "source": [
    "def __makeplot():\n",
    "\n",
    "    Nrow = 3\n",
    "\n",
    "    fig, ax = plt.subplots(Nrow, 1, figsize=(15, 10))\n",
    "\n",
    "    ax[0].semilogx(f_pha1, pha1, color=\"k\", label=\"phase spectrum\", zorder=2)\n",
    "    ax[0].scatter(fs_w, ph_w, color=\"w\", edgecolor=\"k\", zorder=3)\n",
    "    ax[0].axvline(fs_w,  color=\"k\", ls=\"--\", zorder=2)\n",
    "\n",
    "    ax[0].semilogx(f_f, pha_f, color=\"tab:red\", label=\"phase fft\", zorder=2)\n",
    "    ax[0].scatter(fs_f, ph_f, color=\"w\", edgecolor=\"tab:red\", zorder=3)\n",
    "    ax[0].axvline(fs_f,  color=\"tab:red\", ls=\"--\", zorder=2)\n",
    "\n",
    "\n",
    "    ax[1].loglog(f_w, psd_w, label=\"welch\")\n",
    "    ax[1].loglog(f_m, psd_m, label=\"multitaper\")\n",
    "    ax[1].loglog(f_f, psd_f, label=\"fft\", color=\"tab:red\")\n",
    "\n",
    "    ax[1].loglog(f_w[0], psd_w[0], marker=\"o\", label=\"\", color=\"tab:blue\")\n",
    "    ax[1].loglog(f_m[0], psd_m[0], marker=\"o\", label=\"\", color=\"tab:orange\")\n",
    "    ax[1].loglog(f_f[0], psd_f[0], marker=\"o\", label=\"\", color=\"tab:red\")\n",
    "\n",
    "    ax[2].semilogy(f_w[(f_w > 300) & (f_w < 304)], psd_w[(f_w > 300) & (f_w < 304)], label=\"welch\")\n",
    "    ax[2].semilogy(f_m[(f_m > 300) & (f_m < 304)], psd_m[(f_m > 300) & (f_m < 304)], label=\"multitaper\")\n",
    "    ax[2].semilogy(f_f[(f_f > 300) & (f_f < 304)], psd_f[(f_f > 300) & (f_f < 304)], label=\"fft\", color=\"tab:red\")\n",
    "\n",
    "    ax[2].scatter(fs_w, ac_w**2, s=50, color=\"white\", edgecolors=\"tab:blue\", zorder=2)\n",
    "    ax[2].scatter(fs_m, ac_m**2, s=50, color=\"white\", edgecolor=\"tab:orange\", zorder=2)\n",
    "    ax[2].scatter(fs_f, ac_f**2, s=50, color=\"white\", edgecolor=\"tab:red\", zorder=2)\n",
    "\n",
    "    ax[2].axvline(fs_w,  color=\"tab:blue\", ls=\"--\", zorder=1)\n",
    "    ax[2].axvline(fs_m, color=\"tab:orange\", ls=\"--\", zorder=1)\n",
    "    ax[2].axvline(fs_f, color=\"tab:red\", ls=\"--\", zorder=1)\n",
    "\n",
    "    for i in range(Nrow):\n",
    "        ax[i].grid(ls=\":\", zorder=0)\n",
    "        ax[i].legend(loc=1)\n",
    "\n",
    "#     ax[0].set_xlim(-1, 3e3)\n",
    "#     ax[1].set_xlim(-1, 3e3)\n",
    "    ax[2].set_xlim(302.7, 303.4)\n",
    "\n",
    "    # ax[1].set_xlabel(\"Frequency (Hz)\")\n",
    "    ax[2].set_xlabel(\"Frequency (Hz)\")\n",
    "\n",
    "    ax[0].set_ylabel(\"unwrapped phase (rad)\")\n",
    "    ax[1].set_ylabel(\"PSD (V$^2$ /Hz)\")\n",
    "    ax[2].set_ylabel(\"PSD (V$^2$ /Hz)\")\n",
    "\n",
    "    ac_dc_w = float(np.sqrt( ac_w / dc_w ))\n",
    "    ac_dc_m = float(np.sqrt( ac_m / dc_m ))\n",
    "    ac_dc_f = float(np.sqrt( ac_f / dc_f ))\n",
    "\n",
    "    title_m = f\"multitaper: fs = {round(fs_m,6)} Hz, AC/DC = {round(ac_dc_m,2)}\"\n",
    "    title_w = f\"welch: fs = {round(fs_w,6)} Hz, AC/DC = {round(ac_dc_w,2)}\"\n",
    "    title_f = f\"fft: fs = {round(fs_f,6)} Hz, AC/DC = {round(ac_dc_f,2)}\"\n",
    "\n",
    "    ax[0].set_title(f\" {title_w}   |   {title_m}   |   {title_f} \")\n",
    "\n",
    "    plt.show();\n",
    "    return fig\n",
    "\n",
    "fig = __makeplot()\n",
    "\n",
    "fig.savefig(config['path_to_figs']+f\"SagnacFrequency_BS_compare_welch_multitaper_fft_{interval_seconds}s.jpeg\", format=\"jpeg\", dpi=200, bbox_inches='tight')"
   ]
  },
  {
   "cell_type": "code",
   "execution_count": null,
   "id": "94dc77db-92b8-4697-bf87-7e864f2bdcbb",
   "metadata": {
    "tags": []
   },
   "outputs": [],
   "source": [
    "psd_m_d = abs(np.gradient(psd_m))\n",
    "\n",
    "\n",
    "psd_m_d1 = psd_m_d[(f_m < fs_m) & (f_m > fs_m - 10)]\n",
    "psd_m_d2 = psd_m_d[(f_m > fs_m) & (f_m < fs_m + 10)]\n",
    "\n",
    "idx1 = np.where(psd_m_d == max(psd_m_d1))[0][0]\n",
    "idx2 = np.where(psd_m_d == max(psd_m_d2))[0][0]\n",
    "\n",
    "idx = int( (idx2-idx1) /2 + idx1 )\n",
    "\n",
    "f_m[idx1], f_m[idx2], psd_m[idx1], psd_m[idx2]\n",
    "\n",
    "\n",
    "plt.semilogy(f_m[(f_m > 300) & (f_m < 304)], psd_m_d[(f_m > 300) & (f_m < 304)], label=\"multitaper\")\n",
    "plt.semilogy(f_m[(f_m > 300) & (f_m < 304)], psd_m[(f_m > 300) & (f_m < 304)], label=\"multitaper\")\n",
    "plt.xlim(302.7, 303.4)\n",
    "\n",
    "plt.scatter(f_m[idx1], psd_m[idx1], color=\"k\")\n",
    "plt.scatter(f_m[idx2], psd_m[idx2], color=\"k\")\n",
    "plt.scatter(f_m[idx], psd_m[idx], color=\"red\")\n",
    "\n"
   ]
  },
  {
   "cell_type": "markdown",
   "id": "0b11265e-e8eb-4fab-bf44-f0d28a9ba6f9",
   "metadata": {
    "jp-MarkdownHeadingCollapsed": true,
    "tags": []
   },
   "source": [
    "## Automatic"
   ]
  },
  {
   "cell_type": "code",
   "execution_count": 23,
   "id": "0edf7923-9da4-4889-aacc-c13debb4baf1",
   "metadata": {
    "tags": []
   },
   "outputs": [],
   "source": [
    "sagn = read(root_path+\"Downloads/mseed/DROMY_FJU_2023-09-19.mseed\").trim(config['tbeg'], config['tend'])\n",
    "mon1 = read(root_path+\"Downloads/mseed/DROMY_F1V_2023-09-19.mseed\").trim(config['tbeg'], config['tend'])\n",
    "mon2 = read(root_path+\"Downloads/mseed/DROMY_F2V_2023-09-19.mseed\").trim(config['tbeg'], config['tend'])"
   ]
  },
  {
   "cell_type": "code",
   "execution_count": 24,
   "id": "d7bfb99a-b215-4156-a3d5-ca9b43433cb5",
   "metadata": {
    "tags": []
   },
   "outputs": [],
   "source": [
    "for tr in sagn:\n",
    "    tr.data = tr.data*0.59604645e-6 # V / count  [0.59604645ug  from obsidian]\n",
    "for tr in mon1:\n",
    "    tr.data = tr.data*0.59604645e-6 # V / count  [0.59604645ug  from obsidian]\n",
    "for tr in mon2:\n",
    "    tr.data = tr.data*0.59604645e-6 # V / count  [0.59604645ug  from obsidian]\n"
   ]
  },
  {
   "cell_type": "code",
   "execution_count": 25,
   "id": "69f525a3-7b5d-4d67-a8d6-2b98f42946e9",
   "metadata": {
    "tags": []
   },
   "outputs": [],
   "source": [
    "from functions.get_time_intervals import __get_time_intervals"
   ]
  },
  {
   "cell_type": "code",
   "execution_count": 26,
   "id": "c8f2d46f-bb36-4bc8-8487-0752cf80dfbf",
   "metadata": {
    "tags": []
   },
   "outputs": [],
   "source": [
    "tbeg, tend = sagn[0].stats.starttime, sagn[0].stats.endtime\n",
    "\n",
    "interval = 180 ## seconds\n",
    "\n",
    "times = __get_time_intervals(tbeg, tend, interval_seconds=interval, interval_overlap=0)"
   ]
  },
  {
   "cell_type": "code",
   "execution_count": null,
   "id": "ed523032-a952-4660-928e-a7e0969a39c9",
   "metadata": {
    "tags": []
   },
   "outputs": [
    {
     "name": "stdout",
     "output_type": "stream",
     "text": [
      "DPSS using interpolation 900001 100000\n",
      "DPSS using interpolation 900001 100000\n",
      "DPSS using interpolation 900001 100000\n",
      "DPSS using interpolation 900001 100000\n",
      "DPSS using interpolation 900001 100000\n",
      "DPSS using interpolation 900001 100000\n",
      "DPSS using interpolation 900001 100000\n",
      "DPSS using interpolation 900001 100000\n",
      "DPSS using interpolation 900001 100000\n",
      "DPSS using interpolation 900001 100000\n",
      "DPSS using interpolation 900001 100000\n",
      "DPSS using interpolation 900001 100000\n",
      "DPSS using interpolation 900001 100000\n",
      "DPSS using interpolation 900001 100000\n",
      "DPSS using interpolation 900001 100000\n",
      "DPSS using interpolation 900001 100000\n",
      "DPSS using interpolation 900001 100000\n",
      "DPSS using interpolation 900001 100000\n",
      "DPSS using interpolation 900001 100000\n",
      "DPSS using interpolation 900001 100000\n",
      "DPSS using interpolation 900001 100000\n",
      "DPSS using interpolation 900001 100000\n",
      "DPSS using interpolation 900001 100000\n",
      "DPSS using interpolation 900001 100000\n"
     ]
    }
   ],
   "source": [
    "fs_w, ac_w, dc_w, ph = np.ones(len(times))*np.nan, np.ones(len(times))*np.nan, np.ones(len(times))*np.nan, np.ones(len(times))*np.nan\n",
    "fs_m, ac_m, dc_m, ph = np.ones(len(times))*np.nan, np.ones(len(times))*np.nan, np.ones(len(times))*np.nan, np.ones(len(times))*np.nan\n",
    "\n",
    "for _n, (t1, t2) in enumerate(times):\n",
    "\n",
    "    _dat = sagn.copy().trim(t1, t2)\n",
    "\n",
    "    f_w, psd_w = __welch_psd(_dat[0].data, _dat[0].stats.delta, twin_sec=60)\n",
    "    f_m, psd_m = __multitaper_psd(_dat[0].data, _dat[0].stats.delta, n_win=4)\n",
    "    f_pha, pha = phase_spectrum(mon1[0].data, mon1[0].stats.sampling_rate)\n",
    "\n",
    "    fs_w[_n], ac_w[_n], dc_w[_n], ph[_n] = __get_values(f_w, psd_w, f_pha, pha, 303)\n",
    "    fs_m[_n], ac_m[_n], dc_m[_n], ph[_n] = __get_values(f_m, psd_m, f_pha, pha, 303)\n",
    "\n"
   ]
  },
  {
   "cell_type": "code",
   "execution_count": null,
   "id": "a453140d-eb64-472b-b1e3-16e21ec57085",
   "metadata": {
    "tags": []
   },
   "outputs": [],
   "source": [
    "def __makeplot():\n",
    "\n",
    "    Nrow, Ncol = 5, 1\n",
    "\n",
    "    font = 12\n",
    "\n",
    "    fig, ax = plt.subplots(Nrow, Ncol, figsize=(15, 8))\n",
    "\n",
    "    ax[0].scatter(np.array(range(len(fs_w)))+0.5, fs_w, zorder=2)\n",
    "    ax[0].scatter(np.array(range(len(fs_m)))+0.5, fs_m, zorder=2)\n",
    "\n",
    "    ax[1].scatter(np.array(range(len(ac_w)))+0.5, ac_w, zorder=2)\n",
    "    ax[1].scatter(np.array(range(len(ac_m)))+0.5, ac_m, zorder=2)\n",
    "\n",
    "    ax[2].scatter(np.array(range(len(dc_w)))+0.5, dc_w, zorder=2)\n",
    "    ax[2].scatter(np.array(range(len(dc_m)))+0.5, dc_m, zorder=2)\n",
    "\n",
    "    ax[3].scatter(np.array(range(len(dc_w)))+0.5, ac_w/dc_w, zorder=2)\n",
    "    ax[3].scatter(np.array(range(len(dc_m)))+0.5, ac_m/dc_m, zorder=2)\n",
    "\n",
    "    ax[3].set_yscale(\"log\")\n",
    "\n",
    "    ax[4].scatter(np.array(range(len(ph)))+0.5, ph, zorder=2)\n",
    "\n",
    "\n",
    "    for _n in range(Nrow):\n",
    "        ax[_n].grid(ls=\":\", zorder=0)\n",
    "        # ax[_n].legend(loc=1)\n",
    "\n",
    "    plt.show();\n",
    "    return fig\n",
    "\n",
    "__makeplot();"
   ]
  },
  {
   "cell_type": "code",
   "execution_count": null,
   "id": "303f6ca7-a770-470a-864a-6099b593448b",
   "metadata": {
    "tags": []
   },
   "outputs": [],
   "source": [
    "fs, ac, dc, ph = np.ones(len(times))*np.nan, np.ones(len(times))*np.nan, np.ones(len(times))*np.nan, np.ones(len(times))*np.nan\n",
    "\n",
    "\n",
    "out_df = DataFrame()\n",
    "out_df['time1'] = list(zip(*times))[0]\n",
    "out_df['time2'] = list(zip(*times))[1]\n",
    "\n",
    "for _k, _st in enumerate([sagn, mon1, mon2]):\n",
    "\n",
    "    for _n, (t1, t2) in enumerate(times):\n",
    "\n",
    "        _dat = _st.copy().trim(t1, t2)\n",
    "\n",
    "        f, psd = __welch_psd(_dat[0].data, _dat[0].stats.delta, twin_sec=interval)\n",
    "        # f, psd = __multitaper_psd(_dat[0].data, _dat[0].stats.delta, n_win=4)\n",
    "\n",
    "        f_pha, pha = phase_spectrum(_dat[0].data, _dat[0].stats.sampling_rate)\n",
    "\n",
    "        fs[_n], ac[_n], dc[_n], ph[_n] = __get_values(f, psd, f_pha, pha, 303)\n",
    "\n",
    "    if _k == 0:\n",
    "        out_df['fj_fs'], out_df['fj_ac'], out_df['fj_dc'], out_df['fj_ph'] = fs, ac, dc, ph\n",
    "    elif _k == 1:\n",
    "        out_df['f1_fs'], out_df['f1_ac'], out_df['f1_dc'], out_df['f1_ph'] = fs, ac, dc, ph\n",
    "    elif _k == 2:\n",
    "        out_df['f2_fs'], out_df['f2_ac'], out_df['f2_dc'], out_df['f2_ph'] = fs, ac, dc, ph\n"
   ]
  },
  {
   "cell_type": "code",
   "execution_count": null,
   "id": "7ee28142-7222-46ff-b60f-99b25285f215",
   "metadata": {
    "tags": []
   },
   "outputs": [],
   "source": [
    "def __makeplot(df):\n",
    "\n",
    "    Nrow, Ncol = 5, 1\n",
    "\n",
    "    font = 12\n",
    "    ms = 15\n",
    "\n",
    "    fig, ax = plt.subplots(Nrow, Ncol, figsize=(15, 10), sharex=True)\n",
    "\n",
    "    t_axis = (np.array(range(len(df['fj_fs'])))+0.5)*interval/60\n",
    "\n",
    "    ax[0].scatter(t_axis, df['fj_fs'], zorder=2, s=ms, label=\"fj\")\n",
    "    ax[0].scatter(t_axis, df['f1_fs'], zorder=2, s=ms, label=\"f1\")\n",
    "    ax[0].scatter(t_axis, df['f2_fs'], zorder=2, s=ms, label=\"f2\")\n",
    "    ax[0].set_ylabel(\"$\\delta$f (Hz)\")\n",
    "    ax[0].ticklabel_format(useOffset=False)\n",
    "\n",
    "    ax[1].scatter(t_axis, df['fj_ac'], zorder=2, s=ms, label=\"fj\")\n",
    "    ax[1].scatter(t_axis, df['f1_ac'], zorder=2, s=ms, label=\"f1\")\n",
    "    ax[1].scatter(t_axis, df['f2_ac'], zorder=2, s=ms, label=\"f2\")\n",
    "    ax[1].set_ylabel(\"AC (V / $\\sqrt{Hz})$\")\n",
    "\n",
    "    ax[2].scatter(t_axis, df['fj_dc'], zorder=2, s=ms, label=\"fj\")\n",
    "    ax[2].scatter(t_axis, df['f1_dc'], zorder=2, s=ms, label=\"f1\")\n",
    "    ax[2].scatter(t_axis, df['f2_dc'], zorder=2, s=ms, label=\"f2\")\n",
    "    ax[2].set_ylabel(\"DC (V / $\\sqrt{Hz})$\")\n",
    "\n",
    "    ax[3].scatter(t_axis, df['fj_ac']/df['fj_dc'], zorder=2, s=ms, label=\"fj\")\n",
    "    ax[3].scatter(t_axis, df['f1_ac']/df['f1_dc'], zorder=2, s=ms, label=\"f1\")\n",
    "    ax[3].scatter(t_axis, df['f2_ac']/df['f2_dc'], zorder=2, s=ms, label=\"f2\")\n",
    "    ax[3].set_yscale(\"log\")\n",
    "    ax[3].set_ylabel(\"AC/DC\")\n",
    "\n",
    "    ax[4].scatter(t_axis, df['f1_ph']/df['f2_ph'], color=\"k\", zorder=2, s=ms, label=\"f1-f2\")\n",
    "    ax[4].set_ylabel(\"$\\Delta$ Phase\")\n",
    "\n",
    "    ax[4].set_xlabel(\"Time (min)\")\n",
    "\n",
    "    for _n in range(Nrow):\n",
    "        ax[_n].grid(ls=\":\", zorder=0)\n",
    "        ax[_n].legend(loc=1, ncol=3)\n",
    "\n",
    "    plt.show();\n",
    "    return fig\n",
    "\n",
    "fig = __makeplot(out_df);\n",
    "\n",
    "# fig.savefig(config['path_to_figs']+f\"SagnacFrequency_BS_multitaper_values.jpeg\", format=\"jpeg\", dpi=200, bbox_inches='tight')"
   ]
  },
  {
   "cell_type": "code",
   "execution_count": null,
   "id": "289e9e94-56c1-4af2-9054-f2d63fb27707",
   "metadata": {},
   "outputs": [],
   "source": []
  }
 ],
 "metadata": {
  "kernelspec": {
   "display_name": "Python 3 (ipykernel)",
   "language": "python",
   "name": "python3"
  },
  "language_info": {
   "codemirror_mode": {
    "name": "ipython",
    "version": 3
   },
   "file_extension": ".py",
   "mimetype": "text/x-python",
   "name": "python",
   "nbconvert_exporter": "python",
   "pygments_lexer": "ipython3",
   "version": "3.9.16"
  },
  "latex_envs": {
   "LaTeX_envs_menu_present": true,
   "autoclose": false,
   "autocomplete": true,
   "bibliofile": "biblio.bib",
   "cite_by": "apalike",
   "current_citInitial": 1,
   "eqLabelWithNumbers": true,
   "eqNumInitial": 1,
   "hotkeys": {
    "equation": "Ctrl-E",
    "itemize": "Ctrl-I"
   },
   "labels_anchors": false,
   "latex_user_defs": false,
   "report_style_numbering": false,
   "user_envs_cfg": false
  },
  "toc": {
   "base_numbering": 1,
   "nav_menu": {},
   "number_sections": true,
   "sideBar": true,
   "skip_h1_title": false,
   "title_cell": "Table of Contents",
   "title_sidebar": "Contents",
   "toc_cell": false,
   "toc_position": {},
   "toc_section_display": true,
   "toc_window_display": false
  },
  "varInspector": {
   "cols": {
    "lenName": 16,
    "lenType": 16,
    "lenVar": 40
   },
   "kernels_config": {
    "python": {
     "delete_cmd_postfix": "",
     "delete_cmd_prefix": "del ",
     "library": "var_list.py",
     "varRefreshCmd": "print(var_dic_list())"
    },
    "r": {
     "delete_cmd_postfix": ") ",
     "delete_cmd_prefix": "rm(",
     "library": "var_list.r",
     "varRefreshCmd": "cat(var_dic_list()) "
    }
   },
   "types_to_exclude": [
    "module",
    "function",
    "builtin_function_or_method",
    "instance",
    "_Feature"
   ],
   "window_display": false
  }
 },
 "nbformat": 4,
 "nbformat_minor": 5
}
