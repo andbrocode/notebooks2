{
 "cells": [
  {
   "cell_type": "markdown",
   "id": "22f5c8c9",
   "metadata": {
    "ExecuteTime": {
     "end_time": "2022-10-28T13:00:52.763484Z",
     "start_time": "2022-10-28T13:00:52.761516Z"
    }
   },
   "source": [
    "## Compute Sagnac Frequency "
   ]
  },
  {
   "cell_type": "code",
   "execution_count": null,
   "id": "505d662d",
   "metadata": {},
   "outputs": [],
   "source": []
  },
  {
   "cell_type": "markdown",
   "id": "185b1a0b",
   "metadata": {},
   "source": [
    "## Imports"
   ]
  },
  {
   "cell_type": "code",
   "execution_count": 1,
   "id": "818caf4c",
   "metadata": {
    "ExecuteTime": {
     "end_time": "2022-11-28T10:43:58.667743Z",
     "start_time": "2022-11-28T10:43:55.749858Z"
    }
   },
   "outputs": [],
   "source": [
    "import os\n",
    "import matplotlib.pyplot as plt\n",
    "\n",
    "from obspy import UTCDateTime, Stream, Trace\n",
    "from scipy.signal import welch, periodogram\n",
    "from numpy import zeros, argmax, arange\n",
    "from tqdm.notebook import tqdm\n",
    "from pandas import DataFrame, read_pickle\n",
    "\n",
    "from andbro__querrySeismoData import __querrySeismoData"
   ]
  },
  {
   "cell_type": "markdown",
   "id": "ec2578ab",
   "metadata": {},
   "source": [
    "## Configurations"
   ]
  },
  {
   "cell_type": "code",
   "execution_count": 34,
   "id": "ba83e3e7",
   "metadata": {
    "ExecuteTime": {
     "end_time": "2022-11-28T10:53:05.056315Z",
     "start_time": "2022-11-28T10:53:05.052000Z"
    }
   },
   "outputs": [],
   "source": [
    "config = {}\n",
    "\n",
    "config['ring'] = \"Z\"\n",
    "\n",
    "config['seed'] = f\"BW.DROMY..FJ{config['ring']}\"\n",
    "\n",
    "config['tbeg'] = UTCDateTime(\"2022-09-01 00:00\")\n",
    "config['tend'] = UTCDateTime(\"2022-09-01 03:00\")\n",
    "\n",
    "config['outpath_data'] = \"/import/kilauea-data/sagnac_frequency/\"\n",
    "\n",
    "config['repository'] = \"george\"\n",
    "\n",
    "config['n_windows'] = 4\n",
    "\n",
    "config['dn'] = 60\n",
    "config['buffer'] = 0\n",
    "config['offset'] = 30\n",
    "\n",
    "rings = {\"Z\":553, \"U\":302, \"V\":448,\"W\":448}\n",
    "\n",
    "config['f_expected'] = rings[config['ring']] ## Hz\n",
    "config['f_band'] = 3  ## Hz\n",
    "\n",
    "config['loaded_period'] = 10800  #seconds\n",
    "config['NN'] = int(config['loaded_period']/config['dn'])\n",
    "\n",
    "config['nblock'] = 300*5000\n",
    "config['noverlap'] = None"
   ]
  },
  {
   "cell_type": "markdown",
   "id": "eea3155d",
   "metadata": {},
   "source": [
    "## load Test Data"
   ]
  },
  {
   "cell_type": "code",
   "execution_count": 4,
   "id": "e2a6f5bf",
   "metadata": {
    "ExecuteTime": {
     "end_time": "2022-11-28T10:46:22.300507Z",
     "start_time": "2022-11-28T10:45:22.550469Z"
    }
   },
   "outputs": [
    {
     "data": {
      "image/png": "[encoded data removed]",
      "text/plain": [
       "<Figure size 800x250 with 1 Axes>"
      ]
     },
     "metadata": {
      "needs_background": "light"
     },
     "output_type": "display_data"
    }
   ],
   "source": [
    "st, inv = __querrySeismoData(    \n",
    "                            seed_id=config['seed'],\n",
    "                            starttime=config['tbeg']-config['buffer']-2*config['offset'],\n",
    "                            endtime=config['tend']+config['buffer']+2*config['offset'],\n",
    "                            repository=config['repository'],\n",
    "                            path=None,\n",
    "                            restitute=None,\n",
    "                            detail=None,\n",
    "                            )\n",
    "st.plot();"
   ]
  },
  {
   "cell_type": "markdown",
   "id": "c10a8380",
   "metadata": {},
   "source": [
    "## Define Methods"
   ]
  },
  {
   "cell_type": "code",
   "execution_count": 5,
   "id": "fa7c6acc",
   "metadata": {
    "ExecuteTime": {
     "end_time": "2022-11-28T10:46:22.306443Z",
     "start_time": "2022-11-28T10:46:22.301841Z"
    },
    "code_folding": [
     0
    ]
   },
   "outputs": [],
   "source": [
    "def __makeplot(df):\n",
    "    \n",
    "    fig, ax = plt.subplots(3,1, figsize=(15,10), sharex=True)\n",
    "    \n",
    "    font = 13 \n",
    "\n",
    "    ax[0].scatter(df['times'], df['freqs'], s=10, color=\"r\")\n",
    "    ax[0].plot(df['times'], df['freqs'], \"k\")    \n",
    "    \n",
    "    ax[1].scatter(df['times'], df['hmhw'], s=10, color=\"r\")\n",
    "    ax[1].plot(df['times'], df['hmhw'], \"k\") \n",
    "    \n",
    "    ax[2].scatter(df['times'], df['psd_max'], s=10, color=\"r\")\n",
    "    ax[2].plot(df['times'], df['psd_max'], \"k\") \n",
    "    \n",
    "    hours = arange(df['times'].min(),df['times'].max()+3600,3600)\n",
    "\n",
    "    for i in range(3):\n",
    "        for hrs in hours:\n",
    "            ax[i].axvline(hrs, 0, 1, zorder=0, alpha=0.4,color='grey')\n",
    "    \n",
    "    plt.show();"
   ]
  },
  {
   "cell_type": "code",
   "execution_count": 6,
   "id": "7befdc6e",
   "metadata": {
    "ExecuteTime": {
     "end_time": "2022-11-28T10:46:22.327710Z",
     "start_time": "2022-11-28T10:46:22.307749Z"
    },
    "code_folding": [
     0
    ]
   },
   "outputs": [],
   "source": [
    "def __half_width_half_max(data):\n",
    "\n",
    "    from scipy.signal import find_peaks, peak_widths\n",
    "    \n",
    "    peaks, _ = find_peaks(data)\n",
    "\n",
    "    half = peak_widths(data, peaks, rel_height=0.5)\n",
    "\n",
    "    idx = argmax(half[1])\n",
    "    \n",
    "    y, xmin, xmax = half[1][idx], half[2][idx], half[3][idx]\n",
    "#     return xmin, xmax, y\n",
    "\n",
    "    hh = abs(half[3][idx] - half[2][idx])\n",
    "    \n",
    "    return hh"
   ]
  },
  {
   "cell_type": "code",
   "execution_count": 7,
   "id": "2da58236",
   "metadata": {
    "ExecuteTime": {
     "end_time": "2022-11-28T10:46:22.355749Z",
     "start_time": "2022-11-28T10:46:22.328811Z"
    },
    "code_folding": [
     0
    ]
   },
   "outputs": [],
   "source": [
    "def __multitaper_estimate(data, fs, n_windows=4, one_sided=True):\n",
    "\n",
    "    from spectrum import dpss, pmtm\n",
    "    from numpy import zeros, arange, linspace\n",
    "    \n",
    "    \n",
    "    NN = len(data)\n",
    "    \n",
    "    ## Option 1\n",
    "    #[tapers, eigen] = dpss(NN, 2.5, n_windows)\n",
    "    # spectra, weights, eigenvalues = pmtm(data, e=tapers, v=eigen, show=True)\n",
    "\n",
    "    ## Option 2\n",
    "    # res = pmtm(data, NW=2.5, show=False)\n",
    "    spectra, weights, eigenvalues = pmtm(data, NW=2.5, k=n_windows, show=False)\n",
    "\n",
    "    ## average spectra\n",
    "    estimate = zeros(len(spectra[0]))\n",
    "    for m in range(n_windows):\n",
    "        estimate += (abs(spectra[m])**2)\n",
    "    estimate /= n_windows\n",
    "    \n",
    "    l = len(estimate)\n",
    "    frequencies = linspace(-0.5*fs, 0.5*fs, l)\n",
    "    \n",
    "    if one_sided:\n",
    "        f_tmp, psd_tmp = frequencies[int(l/2):], estimate[:int(l/2)]\n",
    "    else:\n",
    "        f_tmp, psd_tmp = frequencies, estimate\n",
    "    \n",
    "    \n",
    "    f_max = f_tmp[argmax(psd_tmp)]\n",
    "    p_max = max(psd_tmp)\n",
    "    h_tmp = __half_width_half_max(psd_tmp)\n",
    "    \n",
    "    return f_tmp, f_max, p_max, h_tmp"
   ]
  },
  {
   "cell_type": "code",
   "execution_count": 8,
   "id": "e483ade3",
   "metadata": {
    "ExecuteTime": {
     "end_time": "2022-11-28T10:46:22.377356Z",
     "start_time": "2022-11-28T10:46:22.356924Z"
    },
    "code_folding": [
     0
    ]
   },
   "outputs": [],
   "source": [
    "def __multitaper_periodogram(data, fs, n_windows=4):\n",
    "\n",
    "    from spectrum import dpss, pmtm\n",
    "    from numpy import zeros, arange, linspace\n",
    "    from scipy.signal import find_peaks, peak_widths\n",
    "    \n",
    "    [tapers, eigen] = dpss(len(data), 2.5, n_windows)\n",
    "\n",
    "    f_maxima, p_maxima, hh  = zeros(n_windows), zeros(n_windows), zeros(n_windows)\n",
    "    \n",
    "    for ii in range(n_windows):\n",
    "        \n",
    "        f_tmp, psd_tmp = periodogram(data, \n",
    "                                     fs=fs, \n",
    "                                     window=tapers[:,ii], \n",
    "                                     nfft=None, \n",
    "                                     detrend='constant', \n",
    "                                     return_onesided=True, \n",
    "                                     scaling='density', \n",
    "                                     )\n",
    "    \n",
    "        p_maxima[ii] = max(psd_tmp)\n",
    "        f_maxima[ii] = f_tmp[argmax(psd_tmp)]\n",
    "       \n",
    "        ## half widths\n",
    "        xx = psd_tmp[argmax(psd_tmp)-10:argmax(psd_tmp)+10]\n",
    "        peaks, _ = find_peaks(xx)\n",
    "        half = peak_widths(xx, peaks, rel_height=0.5)\n",
    "        idx = argmax(half[1]) \n",
    "        hh[ii] = abs(half[3][idx] -half[2][idx])\n",
    "        \n",
    "    f_mean = sum(f_maxima) / n_windows\n",
    "    p_mean = sum(p_maxima) / n_windows\n",
    "    h_mean = sum(hh) / n_windows\n",
    "    \n",
    "    return f_tmp, f_mean, p_mean, h_mean"
   ]
  },
  {
   "cell_type": "code",
   "execution_count": 9,
   "id": "b872f3db",
   "metadata": {
    "ExecuteTime": {
     "end_time": "2022-11-28T10:46:22.396098Z",
     "start_time": "2022-11-28T10:46:22.378360Z"
    },
    "code_folding": [
     0
    ]
   },
   "outputs": [],
   "source": [
    "def __periodogram_estimate(st_in, fs):\n",
    "    \n",
    "    from scipy.signal.windows import tukey\n",
    "    from scipy.signal import periodogram\n",
    "    from numpy import nanmean\n",
    "    \n",
    "    st_cp = st_in.copy()\n",
    "    \n",
    "    print(st_cp[0].data)\n",
    "        \n",
    "    tukey_win = tukey(len(st_cp[0].data))\n",
    "\n",
    "    f_tmp, psd_tmp = periodogram(st_cp[0].data, \n",
    "                                 fs=fs, \n",
    "                                 window=tukey_win, \n",
    "                                 nfft=None, \n",
    "                                 detrend='constant', \n",
    "                                 return_onesided=True, \n",
    "                                 scaling='density', \n",
    "                                 )\n",
    "\n",
    "    f_max = f_tmp[argmax(psd_tmp)]\n",
    "    p_max = max(psd_tmp)\n",
    "    h_tmp = __half_width_half_max(psd_tmp)\n",
    "    \n",
    "    return f_tmp, f_max, p_max, h_tmp"
   ]
  },
  {
   "cell_type": "code",
   "execution_count": 30,
   "id": "9ef9ebca",
   "metadata": {
    "ExecuteTime": {
     "end_time": "2022-11-28T10:51:09.274869Z",
     "start_time": "2022-11-28T10:51:09.265714Z"
    },
    "code_folding": [
     0
    ]
   },
   "outputs": [],
   "source": [
    "def __hilbert_frequency_estimator(config, st, fs, plot=False):\n",
    "\n",
    "    from scipy.signal import hilbert\n",
    "    import numpy as np\n",
    "    \n",
    "    st0 = st.copy()\n",
    "    \n",
    "    \n",
    "    f_lower = config['f_expected'] - config['f_band']\n",
    "    f_upper = config['f_expected'] + config['f_band']\n",
    "\n",
    "    \n",
    "    ## bandpass with butterworth\n",
    "    st0.detrend(\"demean\")\n",
    "    st0.taper(0.1)\n",
    "    st0.filter(\"bandpass\", freqmin=f_lower, freqmax=f_upper, corners=8, zerophase=True)\n",
    "    \n",
    "    \n",
    "    ## estimate instantaneous frequency with hilbert\n",
    "    signal = st0[0].data\n",
    "    \n",
    "    analytic_signal = hilbert(signal)\n",
    "\n",
    "    amplitude_envelope = np.abs(analytic_signal)\n",
    "    instantaneous_phase = np.unwrap(np.angle(analytic_signal))\n",
    "    instantaneous_frequency = (np.diff(instantaneous_phase) / (2.0*np.pi) * fs)\n",
    "\n",
    "    ## cut first and last 5% (corrupted)\n",
    "    \n",
    "    dd = int(0.05*len(instantaneous_frequency))\n",
    "    \n",
    "    t = st0[0].times()\n",
    "    t1 = st0[0].times()[1:]\n",
    "    t2 = t1[dd:-dd]\n",
    "    \n",
    "    t_mid = t[int((len(t))/2)]\n",
    "    \n",
    "    insta_f_cut = instantaneous_frequency[dd:-dd]\n",
    "    \n",
    "    ## averaging\n",
    "    insta_f_cut_mean = np.mean(insta_f_cut)\n",
    "#     insta_f_cut_mean = np.median(insta_f_cut)\n",
    "    \n",
    "    if plot:\n",
    "        st0.plot(equal_scale=False);\n",
    "\n",
    "        fig, (ax0, ax1) = plt.subplots(nrows=2)\n",
    "        ax0.plot(t, signal, label='signal')\n",
    "        ax0.plot(t, amplitude_envelope, label='envelope')\n",
    "        ax0.set_xlabel(\"time in seconds\")\n",
    "        ax0.legend()\n",
    "        ax1.plot(t2, insta_f_cut)\n",
    "        ax1.set_xlabel(\"time in seconds\")\n",
    "        ax1.set_ylim(552, 555)\n",
    "        fig.tight_layout()\n",
    "    \n",
    "    return t_mid, insta_f_cut_mean, np.mean(amplitude_envelope) ,np.std(insta_f_cut)"
   ]
  },
  {
   "cell_type": "code",
   "execution_count": 31,
   "id": "a1b21535",
   "metadata": {
    "ExecuteTime": {
     "end_time": "2022-11-28T10:51:12.168320Z",
     "start_time": "2022-11-28T10:51:12.161796Z"
    },
    "code_folding": [
     0
    ]
   },
   "outputs": [],
   "source": [
    "def __compute(config, st0, starttime, method=\"hilbert\"):\n",
    "\n",
    "    from scipy.signal import find_peaks, peak_widths, welch, periodogram\n",
    "    from numpy import nan, zeros\n",
    "\n",
    "    NN = config['NN']\n",
    "\n",
    "    ii = 0\n",
    "    n1 = 0\n",
    "    n2 = config['dn']\n",
    "\n",
    "    tt, ff, hh, pp = zeros(NN), zeros(NN), zeros(NN), zeros(NN)\n",
    "\n",
    "    while n2 <= config['loaded_period']:\n",
    "\n",
    "        try:\n",
    "\n",
    "            ## cut stream to chuncks \n",
    "            st_tmp = st0.copy().trim(starttime+n1-config['buffer']-config['offset'], starttime+n1+config['dn']+config['buffer']-config['offset'])\n",
    "\n",
    "            ## get time series from stream\n",
    "            times = st_tmp[0].times(reftime=UTCDateTime(\"2016-01-01T00\"))\n",
    "\n",
    "            ## get sampling rate from stream\n",
    "            df = st_tmp[0].stats.sampling_rate\n",
    "\n",
    "\n",
    "            if method == \"hilbert\":\n",
    "                f_tmp, f_max, p_max, h_tmp = __hilbert_frequency_estimator(config, st_tmp, df, plot=False)\n",
    "\n",
    "            elif method == \"multitaper_periodogram\":\n",
    "\n",
    "                f_tmp, f_max, p_max, h_tmp = __multitaper_perio(st_tmp[0].data, df, n_windows=config['n_windows'])\n",
    "\n",
    "            elif method == \"periodogram\":\n",
    "\n",
    "                f_tmp, f_max, p_max, h_tmp = __periodogram_estimate(st_tmp, df)\n",
    "\n",
    "            elif method == \"multitaper\":\n",
    "\n",
    "                f_tmp, f_max, p_max, h_tmp = __multitaper_estimate(st_tmp[0].data, df, n_windows=config['n_windows'], one_sided=True)                \n",
    "\n",
    "\n",
    "            ## append values to arrays\n",
    "            tt[ii] = times[int(len(times)/2)]\n",
    "            ff[ii] = f_max\n",
    "            pp[ii] = p_max\n",
    "            hh[ii] = h_tmp\n",
    "\n",
    "        except:\n",
    "            tt[ii], ff[ii], pp[ii], hh[ii] = nan, nan, nan, nan\n",
    "            print(\" -> computing failed\")\n",
    "\n",
    "        ii += 1\n",
    "        n1 += config['dn']\n",
    "        n2 += config['dn']\n",
    "\n",
    "    return tt, ff, hh, pp"
   ]
  },
  {
   "cell_type": "markdown",
   "id": "adb71d12",
   "metadata": {},
   "source": [
    "## Produce Data"
   ]
  },
  {
   "cell_type": "code",
   "execution_count": 39,
   "id": "90743dd4",
   "metadata": {
    "ExecuteTime": {
     "end_time": "2022-11-28T10:54:11.458755Z",
     "start_time": "2022-11-28T10:53:48.843764Z"
    },
    "code_folding": []
   },
   "outputs": [],
   "source": [
    "tt, ff, hh, pp = __compute(config, st, config['tbeg'], method=\"hilbert\")\n",
    "# tt, ff, hh, pp = __compute(config, st, config['tbeg'], method=\"multitaper_periodogram\")\n",
    "# tt, ff, hh, pp = __compute(config, st, config['tbeg'], method=\"periodogram\")\n",
    "# tt, ff, hh, pp = __compute(config, st, config['tbeg'], method=\"multitaper\")"
   ]
  },
  {
   "cell_type": "code",
   "execution_count": 40,
   "id": "9a28b8b9",
   "metadata": {
    "ExecuteTime": {
     "end_time": "2022-11-28T10:54:11.464180Z",
     "start_time": "2022-11-28T10:54:11.459844Z"
    },
    "code_folding": []
   },
   "outputs": [],
   "source": [
    "df = DataFrame()\n",
    "df['times'] = tt\n",
    "df['freqs'] = ff\n",
    "df['hmhw']  = hh\n",
    "df['psd_max'] = pp\n",
    "\n",
    "df.to_pickle(config['outpath_data']+\"test_hilbert_wide.pkl\")"
   ]
  },
  {
   "cell_type": "markdown",
   "id": "638295c5",
   "metadata": {},
   "source": [
    "## Plotting "
   ]
  },
  {
   "cell_type": "code",
   "execution_count": 41,
   "id": "7b3ca909",
   "metadata": {
    "ExecuteTime": {
     "end_time": "2022-11-28T10:54:11.483754Z",
     "start_time": "2022-11-28T10:54:11.465292Z"
    },
    "code_folding": [
     0
    ]
   },
   "outputs": [],
   "source": [
    "def __makeplot(df1, df2, label1=\"\", label2=\"\"):\n",
    "    \n",
    "    def __smooth(y, box_pts):\n",
    "        from numpy import ones, convolve, hanning\n",
    "\n",
    "#         win = ones(box_pts)/box_pts\n",
    "        win = hanning(box_pts)\n",
    "        y_smooth = convolve(y, win/sum(win), mode='same')\n",
    "\n",
    "        return y_smooth\n",
    "    \n",
    "    time_scaling, time_unit = 86400, \"days\"\n",
    "    \n",
    "    ## ___________________\n",
    "    ##\n",
    "    \n",
    "    fig, ax = plt.subplots(3,1, figsize=(15,10), sharex=True)\n",
    "    \n",
    "    plt.subplots_adjust(hspace=0.05)\n",
    "    \n",
    "    font = 13 \n",
    "    smooting = 5\n",
    "    cut_off = int(smooting/2)\n",
    "    \n",
    "    ## DF1\n",
    "    ax[0].scatter(df1['times']/time_scaling, df1['freqs'], c=\"#3776ab\", s=10, alpha=0.4, zorder=2, label=label1)\n",
    "    ax[0].plot(df1['times'][cut_off:-cut_off]/time_scaling, __smooth(df1['freqs'],smooting)[cut_off:-cut_off], \"#3776ab\", zorder=2)\n",
    "    \n",
    "    ax[1].scatter(df1['times']/time_scaling, df1['hmhw'], c=\"#3776ab\", s=10, alpha=0.4, zorder=2)\n",
    "    ax[1].plot(df1['times'][cut_off:-cut_off]/time_scaling, __smooth(df1['hmhw'],smooting)[cut_off:-cut_off], \"#3776ab\", alpha=0.7, zorder=2) \n",
    "    \n",
    "    ax[2].scatter(df1['times']/time_scaling, df1['psd_max'], c=\"#3776ab\", s=10, alpha=0.4, zorder=2)\n",
    "    ax[2].plot(df1['times'][cut_off:-cut_off]/time_scaling, __smooth(df1['psd_max'],smooting)[cut_off:-cut_off], \"#3776ab\", alpha=0.7, zorder=2) \n",
    "    ax[2].set_yscale(\"log\")\n",
    "    \n",
    "    ## DF2\n",
    "    ax[0].scatter(df2['times']/time_scaling, df2['freqs'], c=\"#f48512\", s=10, alpha=0.4, zorder=2, label=label2)\n",
    "    ax[0].plot(df2['times'][cut_off:-cut_off]/time_scaling, __smooth(df2['freqs'],smooting)[cut_off:-cut_off], \"k\", zorder=2)\n",
    "\n",
    "    ax[1].scatter(df2['times']/time_scaling, df2['hmhw'], c=\"#f48512\", s=10, alpha=0.4, zorder=2)\n",
    "    ax[1].plot(df2['times'][cut_off:-cut_off]/time_scaling, __smooth(df2['hmhw'],smooting)[cut_off:-cut_off], \"#f48512\", alpha=0.7, zorder=2) \n",
    "    \n",
    "    ax[2].scatter(df2['times']/time_scaling, df2['psd_max'], c=\"#f48512\", s=10, alpha=0.4, zorder=2)\n",
    "    ax[2].plot(df2['times'][cut_off:-cut_off]/time_scaling, __smooth(df2['psd_max'],smooting)[cut_off:-cut_off], \"#f48512\", alpha=0.7, zorder=2) \n",
    "    ax[2].set_yscale(\"log\")\n",
    "\n",
    "#     ax[2].set_ylim(5e12, 2e14)\n",
    "        \n",
    "#     ax[0].set_ylim(min(df1['freqs'][1:10]), max(df1['freqs'][1:10]))\n",
    "\n",
    "#     ax[0].set_ylim(553.4550, 553.4655)\n",
    "#     ax[0].set_ylim(553.1, 553.5)\n",
    "    \n",
    "    \n",
    "    ax[0].ticklabel_format(useOffset=False, style='plain')\n",
    "    \n",
    "    ax[0].set_ylabel(r\"Sagnac Beat (Hz)\", fontsize=font)\n",
    "    ax[1].set_ylabel(r\"PSD HMHW (Hz)\", fontsize=font)\n",
    "    ax[2].set_ylabel(r\"PSD$_{max}$ (V$^2$ / Hz)\", fontsize=font)\n",
    "\n",
    "    ax[2].set_xlabel(\"Days since 2016-01-01\", fontsize=font)\n",
    "    \n",
    "    ax[0].set_title(\"ROMY-Z Sagnac-Frequency\", fontsize=font+2, pad=10)\n",
    "    ax[0].legend(loc=4)\n",
    "    \n",
    "    for i in range(3):\n",
    "        ax[i].grid(zorder=0)\n",
    "    \n",
    "    plt.show();"
   ]
  },
  {
   "cell_type": "code",
   "execution_count": 42,
   "id": "43a1c9ce",
   "metadata": {
    "ExecuteTime": {
     "end_time": "2022-11-28T10:54:12.000647Z",
     "start_time": "2022-11-28T10:54:11.484714Z"
    }
   },
   "outputs": [
    {
     "data": {
      "image/png": "[encoded data removed]",
      "text/plain": [
       "<Figure size 1080x720 with 3 Axes>"
      ]
     },
     "metadata": {
      "needs_background": "light"
     },
     "output_type": "display_data"
    }
   ],
   "source": [
    "df1 = read_pickle(config['outpath_data']+\"test_hilbert.pkl\")\n",
    "df2 = read_pickle(config['outpath_data']+\"test_hilbert_wide.pkl\")\n",
    "\n",
    "__makeplot(df1, df2, label1=\"multiperio\", label2=\"hilbert\")"
   ]
  },
  {
   "cell_type": "code",
   "execution_count": null,
   "id": "aa146f3c",
   "metadata": {
    "ExecuteTime": {
     "end_time": "2022-11-28T10:42:49.546443Z",
     "start_time": "2022-11-28T10:42:49.541958Z"
    }
   },
   "outputs": [],
   "source": []
  },
  {
   "cell_type": "markdown",
   "id": "65370cf4",
   "metadata": {
    "heading_collapsed": true
   },
   "source": [
    "## Test intervall for periodogramm"
   ]
  },
  {
   "cell_type": "code",
   "execution_count": null,
   "id": "8c4a685e",
   "metadata": {
    "ExecuteTime": {
     "end_time": "2022-11-18T11:09:04.847193Z",
     "start_time": "2022-11-18T11:09:04.574404Z"
    },
    "hidden": true
   },
   "outputs": [],
   "source": [
    "config['buffer'] = 0\n",
    "\n",
    "intervals = [20, 30, 60, 120, 180, 600]\n",
    "\n",
    "for dn in intervals:\n",
    "\n",
    "    print(dn)\n",
    "    config['dn'] = dn\n",
    "    \n",
    "    df = DataFrame()\n",
    "\n",
    "#     df['times'], df['freqs'], df['hmhw'], df['psd_max'] = __compute(config, st, config['tbeg'], method=\"periodogram\")\n",
    "    df['times'], df['freqs'], df['hmhw'], df['psd_max'] = __compute2(config, st, config['tbeg'])\n",
    "    \n",
    "    df.to_pickle(config['outpath_data']+f\"test_perio_{dn}_{config['buffer']}.pkl\")"
   ]
  },
  {
   "cell_type": "code",
   "execution_count": null,
   "id": "42d06e7f",
   "metadata": {
    "ExecuteTime": {
     "end_time": "2022-11-18T10:31:26.212618Z",
     "start_time": "2022-11-18T10:31:26.048914Z"
    },
    "code_folding": [
     0
    ],
    "hidden": true
   },
   "outputs": [],
   "source": [
    "def __makeplot_intervals(config, intervals):\n",
    "\n",
    "    plt.figure(figsize=(15,5))\n",
    "\n",
    "    font = 14\n",
    "\n",
    "    for i, dn in enumerate(intervals):\n",
    "        df = read_pickle(config['outpath_data']+f\"test_perio_{dn}_{config['buffer']}.pkl\")\n",
    "\n",
    "    #     plt.scatter(df['times'], df['freqs'], label=f\"perio_{dn}_{config['buffer']}\")\n",
    "        plt.plot((df['times']-df['times'][0])/60, df['freqs'], label=f\"perio_{dn}_{config['buffer']}\")\n",
    "\n",
    "    plt.ticklabel_format(useOffset=False, style='plain')\n",
    "\n",
    "    plt.xlabel(\"Time (min)\", fontsize=font)\n",
    "    plt.ylabel(\"beat note (Hz)\", fontsize=font)\n",
    "\n",
    "    plt.legend()\n",
    "\n",
    "    plt.show();\n",
    "\n",
    "__makeplot_intervals(config, intervals)"
   ]
  },
  {
   "cell_type": "markdown",
   "id": "628ce7b7",
   "metadata": {
    "ExecuteTime": {
     "end_time": "2022-11-18T08:52:32.567800Z",
     "start_time": "2022-11-18T08:52:32.564930Z"
    },
    "heading_collapsed": true
   },
   "source": [
    "## Test Chrip Signal"
   ]
  },
  {
   "cell_type": "code",
   "execution_count": null,
   "id": "8a544243",
   "metadata": {
    "ExecuteTime": {
     "end_time": "2022-11-28T10:37:11.302400Z",
     "start_time": "2022-11-28T10:37:10.743615Z"
    },
    "hidden": true
   },
   "outputs": [],
   "source": [
    "from scipy.signal import hilbert, chirp\n",
    "import numpy as np\n",
    "\n",
    "def white_noise(rho, sr, n, mu=0):\n",
    "    sigma = rho * np.sqrt(sr/2)\n",
    "    noise = np.random.normal(mu, sigma, n)\n",
    "    return noise\n",
    "\n",
    "duration = 1200 ## seconds\n",
    "fs = 5000.0\n",
    "rho = 0.005\n",
    "f_min = 10\n",
    "f_max = 90\n",
    "\n",
    "samples = int(fs*duration)\n",
    "\n",
    "t = np.arange(samples) / fs\n",
    "\n",
    "f_theo = np.linspace(f_min, f_max, 100)\n",
    "t_theo = np.linspace(t[0], t[-1], 100)\n",
    "\n",
    "noise = white_noise(rho, fs, samples)\n",
    "\n",
    "signal = chirp(t, f_min, t[-1], f_max) \n",
    "# signal *= (1.0 + 0.5 * np.sin(2.0*np.pi*3.0*t) )\n",
    "signal += noise\n",
    "\n",
    "plt.plot(t, signal, label='signal')\n",
    "plt.xlim(0.5, 10)"
   ]
  },
  {
   "cell_type": "code",
   "execution_count": null,
   "id": "606c9120",
   "metadata": {
    "ExecuteTime": {
     "end_time": "2022-11-28T10:37:13.477502Z",
     "start_time": "2022-11-28T10:37:11.303440Z"
    },
    "hidden": true
   },
   "outputs": [],
   "source": [
    "df = DataFrame()\n",
    "\n",
    "tr = Trace()\n",
    "tr.data = signal\n",
    "tr.stats.sampling_rate = fs\n",
    "tr.stats.starttime = config['tbeg']\n",
    "\n",
    "st = Stream(traces=tr)\n",
    "\n",
    "print(st)\n",
    "\n",
    "config['buffer'] = 0\n",
    "config['dn'] = 60\n",
    "config['loaded_period'] = duration\n",
    "\n",
    "df['times'], df['freqs'], df['hmhw'], df['psd_max'] = __compute(config, st, config['tbeg'], method=\"hilbert\")\n",
    "# df['times'], df['freqs'], df['hmhw'], df['psd_max'] = __compute2(config, st, config['tbeg'])\n",
    "# df['times'], df['freqs'], df['hmhw'], df['psd_max'] = __compute(config, st, config['tbeg'], method=\"periodogram\")\n",
    "\n",
    "df.to_pickle(config['outpath_data']+f\"test_perio_{config['dn']}_{config['buffer']}_chirp.pkl\")"
   ]
  },
  {
   "cell_type": "code",
   "execution_count": null,
   "id": "29b0264c",
   "metadata": {
    "ExecuteTime": {
     "end_time": "2022-11-28T10:37:35.625496Z",
     "start_time": "2022-11-28T10:37:35.472664Z"
    },
    "code_folding": [
     0
    ],
    "hidden": true
   },
   "outputs": [],
   "source": [
    "def __makeplot_chirp(config):\n",
    "\n",
    "    dn = config['dn']\n",
    "    \n",
    "    plt.figure(figsize=(15,5))\n",
    "\n",
    "    font = 14\n",
    "    \n",
    "    df = read_pickle(config['outpath_data']+f\"test_perio_{dn}_{config['buffer']}_chirp.pkl\")\n",
    "    ref = df['times'][0]\n",
    "    df = df.loc[(df!=0).any(axis=1)]\n",
    "\n",
    "    plt.scatter(df['times']-ref, df['freqs'], label=f\"perio_{dn}_{config['buffer']}\")\n",
    "#     plt.plot((df['times']-df['times'][0])/60, df['freqs'], label=f\"perio_{dn}_{config['buffer']}\")\n",
    "\n",
    "    plt.plot(t_theo, f_theo, 'k')\n",
    "    \n",
    "    plt.ticklabel_format(useOffset=False, style='plain')\n",
    "\n",
    "    plt.xlabel(\"Time (min)\", fontsize=font)\n",
    "    plt.ylabel(\"beat note (Hz)\", fontsize=font)\n",
    "\n",
    "    plt.legend()\n",
    "\n",
    "#     plt.ylim(f_min, f_max)\n",
    "    \n",
    "    plt.show();\n",
    "\n",
    "__makeplot_chirp(config)"
   ]
  },
  {
   "cell_type": "markdown",
   "id": "0d395e14",
   "metadata": {},
   "source": [
    "## Test Synthetic"
   ]
  },
  {
   "cell_type": "code",
   "execution_count": null,
   "id": "425ec7df",
   "metadata": {
    "ExecuteTime": {
     "end_time": "2022-11-10T18:02:07.164671Z",
     "start_time": "2022-11-10T18:02:06.565020Z"
    }
   },
   "outputs": [],
   "source": [
    "%matplotlib inline\n",
    "import numpy as np\n",
    "import matplotlib.pyplot as plt\n",
    "from scipy import signal\n",
    "\n",
    "\"\"\"\n",
    "parameters: \n",
    "rhp - spectral noise density unit/SQRT(Hz)\n",
    "sr  - sample rate\n",
    "n   - no of points\n",
    "mu  - mean value, optional\n",
    "\n",
    "returns:\n",
    "n points of noise signal with spectral noise density of rho\n",
    "\"\"\"\n",
    "def white_noise(rho, sr, n, mu=0):\n",
    "    sigma = rho * np.sqrt(sr/2)\n",
    "    noise = np.random.normal(mu, sigma, n)\n",
    "    return noise\n",
    "\n",
    "rho = 10\n",
    "sr = 5000\n",
    "n = 80000\n",
    "period = n/sr\n",
    "time = np.linspace(0, period, n)\n",
    "\n",
    "signal_pure = 100*np.sin(2*np.pi*553*time)\n",
    "signal_pure2 = 100*np.sin(2*np.pi*553.01*time)\n",
    "\n",
    "noise = white_noise(rho, sr, n)\n",
    "signal_with_noise = signal_pure + signal_pure2 + noise\n",
    "\n",
    "f, psd = signal.periodogram(signal_with_noise, sr)\n",
    "\n",
    "print(\"Mean spectral noise density = \",np.sqrt(np.mean(psd[50:])), \"arb.u/SQRT(Hz)\")\n",
    "\n",
    "plt.plot(time, signal_with_noise)\n",
    "plt.plot(time, signal_pure)\n",
    "plt.xlabel(\"time (s)\")\n",
    "plt.ylabel(\"signal (arb.u.)\")\n",
    "plt.show();\n",
    "\n",
    "plt.semilogy(f[1:], np.sqrt(psd[1:]))\n",
    "plt.xlabel(\"frequency (Hz)\")\n",
    "plt.ylabel(\"psd (arb.u./SQRT(Hz))\")\n",
    "#plt.axvline(13, ls=\"dashed\", color=\"g\")\n",
    "plt.axhline(rho, ls=\"dashed\", color=\"r\")\n",
    "plt.show();"
   ]
  },
  {
   "cell_type": "code",
   "execution_count": null,
   "id": "22f54df1",
   "metadata": {
    "ExecuteTime": {
     "end_time": "2022-11-10T18:08:24.220387Z",
     "start_time": "2022-11-10T18:08:24.076269Z"
    }
   },
   "outputs": [],
   "source": [
    "from scipy.signal.windows import tukey\n",
    "\n",
    "tukey_win = tukey(len(signal_with_noise))\n",
    "\n",
    "f_tmp, psd_tmp = periodogram(signal_with_noise[:5000*], \n",
    "                 fs=sr, \n",
    "                 window=tukey_win, \n",
    "                 nfft=None, \n",
    "                 detrend='constant', \n",
    "                 return_onesided=True, \n",
    "                 scaling='density', \n",
    "                 )\n",
    "\n",
    "plt.semilogy(f_tmp[1:], psd_tmp[1:])\n",
    "\n",
    "plt.xlim(552., 554.)\n",
    "print(max(psd_tmp), f_tmp[argmax(psd_tmp)])"
   ]
  },
  {
   "cell_type": "markdown",
   "id": "a48db8a1",
   "metadata": {
    "heading_collapsed": true
   },
   "source": [
    "## Testing Amount of Windows for Mulittaper"
   ]
  },
  {
   "cell_type": "code",
   "execution_count": null,
   "id": "0a5742f6",
   "metadata": {
    "ExecuteTime": {
     "end_time": "2022-11-10T17:56:26.599748Z",
     "start_time": "2022-11-10T17:56:26.598049Z"
    },
    "hidden": true
   },
   "outputs": [],
   "source": [
    "# n1 = 300\n",
    "\n",
    "# st_tmp = st.copy().trim(config['tbeg']+n1-config['buffer'], config['tbeg']+n1+config['dn']+config['buffer'])\n",
    "\n",
    "# data = st_tmp[0].data\n",
    "# fs = st_tmp[0].stats.sampling_rate\n",
    "\n",
    "# fff, eee = [],[]\n",
    "# for nn in [2,3,4,6,8,10]:\n",
    "#     print(nn)\n",
    "#     f, e = __multitaper_estimate(data, fs, n_windows=nn, one_sided=True)\n",
    "     \n",
    "#     fff.append(f)\n",
    "#     eee.append(e)"
   ]
  },
  {
   "cell_type": "code",
   "execution_count": null,
   "id": "97923f41",
   "metadata": {
    "ExecuteTime": {
     "end_time": "2022-11-09T14:05:09.772517Z",
     "start_time": "2022-11-09T14:05:04.351746Z"
    },
    "hidden": true
   },
   "outputs": [],
   "source": [
    "# plt.figure(figsize=(15,5))\n",
    "\n",
    "# for i, n_win in enumerate([2,3,4,6,8,10]):\n",
    "#     plt.semilogy(fff[i], eee[i], label=n_win)\n",
    "\n",
    "# plt.legend()\n",
    "# plt.xlim(553.2, 553.7)\n",
    "# plt.ylim(1e10, 1e17)\n",
    "\n",
    "# plt.xlabel(\"Frequency (Hz)\",fontsize=13)\n",
    "# plt.ylabel(r\"PSD (V$^2$/Hz)\",fontsize=13)\n",
    "# plt.grid(zorder=0)\n",
    "\n",
    "# plt.show();"
   ]
  },
  {
   "cell_type": "code",
   "execution_count": null,
   "id": "3c019052",
   "metadata": {
    "hidden": true
   },
   "outputs": [],
   "source": []
  }
 ],
 "metadata": {
  "kernelspec": {
   "display_name": "Python 3",
   "language": "python",
   "name": "python3"
  },
  "language_info": {
   "codemirror_mode": {
    "name": "ipython",
    "version": 3
   },
   "file_extension": ".py",
   "mimetype": "text/x-python",
   "name": "python",
   "nbconvert_exporter": "python",
   "pygments_lexer": "ipython3",
   "version": "3.7.7"
  },
  "latex_envs": {
   "LaTeX_envs_menu_present": true,
   "autoclose": false,
   "autocomplete": true,
   "bibliofile": "biblio.bib",
   "cite_by": "apalike",
   "current_citInitial": 1,
   "eqLabelWithNumbers": true,
   "eqNumInitial": 1,
   "hotkeys": {
    "equation": "Ctrl-E",
    "itemize": "Ctrl-I"
   },
   "labels_anchors": false,
   "latex_user_defs": false,
   "report_style_numbering": false,
   "user_envs_cfg": false
  },
  "toc": {
   "base_numbering": 1,
   "nav_menu": {},
   "number_sections": true,
   "sideBar": true,
   "skip_h1_title": false,
   "title_cell": "Table of Contents",
   "title_sidebar": "Contents",
   "toc_cell": false,
   "toc_position": {},
   "toc_section_display": true,
   "toc_window_display": false
  }
 },
 "nbformat": 4,
 "nbformat_minor": 5
}
