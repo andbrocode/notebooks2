{
 "cells": [
  {
   "cell_type": "markdown",
   "id": "22f5c8c9",
   "metadata": {
    "ExecuteTime": {
     "end_time": "2022-10-28T13:00:52.763484Z",
     "start_time": "2022-10-28T13:00:52.761516Z"
    }
   },
   "source": [
    "## Compute Sagnac Frequency - Prism Spectra - Compare Before/After"
   ]
  },
  {
   "cell_type": "markdown",
   "id": "185b1a0b",
   "metadata": {},
   "source": [
    "## Imports"
   ]
  },
  {
   "cell_type": "code",
   "execution_count": null,
   "id": "818caf4c",
   "metadata": {
    "ExecuteTime": {
     "end_time": "2023-06-27T08:11:10.277643Z",
     "start_time": "2023-06-27T08:11:08.781535Z"
    },
    "tags": []
   },
   "outputs": [],
   "source": [
    "import os\n",
    "import matplotlib.pyplot as plt\n",
    "\n",
    "from datetime import datetime, date\n",
    "from pandas import DataFrame, read_pickle, date_range, concat, read_csv\n",
    "from obspy import UTCDateTime\n",
    "from numpy import log10\n",
    "\n",
    "from andbro__savefig import __savefig\n"
   ]
  },
  {
   "cell_type": "code",
   "execution_count": null,
   "id": "b83c9987",
   "metadata": {
    "ExecuteTime": {
     "end_time": "2023-06-27T08:11:10.288084Z",
     "start_time": "2023-06-27T08:11:10.284752Z"
    },
    "tags": []
   },
   "outputs": [],
   "source": [
    "if os.uname().nodename == 'lighthouse':\n",
    "    root_path = '/home/andbro/'\n",
    "    data_path = '/home/andbro/kilauea-data/'\n",
    "    archive_path = '/home/andbro/freenas/'\n",
    "elif os.uname().nodename == 'kilauea':\n",
    "    root_path = '/home/brotzer/'\n",
    "    data_path = '/import/kilauea-data/'\n",
    "    archive_path = '/import/freenas-ffb-01-data/'"
   ]
  },
  {
   "cell_type": "code",
   "execution_count": null,
   "id": "f1efed46",
   "metadata": {
    "ExecuteTime": {
     "end_time": "2023-06-27T08:11:12.340325Z",
     "start_time": "2023-06-27T08:11:12.336147Z"
    },
    "tags": []
   },
   "outputs": [],
   "source": [
    "# from matplotlib import rc\n",
    "# rc('text', usetex=True)"
   ]
  },
  {
   "cell_type": "markdown",
   "id": "ec2578ab",
   "metadata": {},
   "source": [
    "## Configurations"
   ]
  },
  {
   "cell_type": "code",
   "execution_count": null,
   "id": "ba83e3e7",
   "metadata": {
    "ExecuteTime": {
     "end_time": "2023-06-27T08:11:13.008382Z",
     "start_time": "2023-06-27T08:11:13.002517Z"
    },
    "tags": []
   },
   "outputs": [],
   "source": [
    "config = {}\n",
    "\n",
    "\n",
    "config['seeds'] = [\"BW.DROMY..FJZ\", \"BW.DROMY..FJZ\"]\n",
    "\n",
    "config['path_to_sds'] = archive_path+\"romy_archive/\"\n",
    "\n",
    "## time before change\n",
    "config['tbeg1'] = UTCDateTime(\"2023-10-19 10:30\")\n",
    "config['tend1'] = UTCDateTime(\"2023-10-19 11:00\")\n",
    "\n",
    "## time after change\n",
    "config['tbeg2'] = UTCDateTime(\"2023-10-19 11:30\")\n",
    "config['tend2'] = UTCDateTime(\"2023-10-19 12:00\")\n",
    "\n",
    "config['f_lower_zoomin'], config['f_upper_zoomin'] = 540, 560\n",
    "\n",
    "\n",
    "config['datapath'] = data_path+\"sagnac_frequency/prismspectra/\"\n",
    "\n",
    "config['path_to_figs'] = data_path+\"sagnac_frequency/figures/\""
   ]
  },
  {
   "cell_type": "code",
   "execution_count": null,
   "id": "def1625c-1a0a-4e99-98aa-7c513ce27f7c",
   "metadata": {
    "tags": []
   },
   "outputs": [],
   "source": [
    "def __compute_psd(st0, twin_sec=60):\n",
    "\n",
    "    from scipy.signal import welch, hann\n",
    "\n",
    "    _st = st0.copy()\n",
    "\n",
    "    _st.sort(keys=['channel'], reverse=True)\n",
    "\n",
    "    nblock = int(st[0].stats.sampling_rate * twin_sec)\n",
    "    overlap = int(0.5*nblock)\n",
    "    win = hann(nblock, True)\n",
    "\n",
    "    Pxxs, ffs, chs = [], [], []\n",
    "\n",
    "    for i, tr in enumerate(_st):\n",
    "\n",
    "        ff, Pxx = welch(tr.data,\n",
    "                        fs=tr.stats.sampling_rate,\n",
    "                        window=win, noverlap=overlap,\n",
    "                        nfft=nblock,\n",
    "                        scaling=\"density\",\n",
    "                        return_onesided=True)\n",
    "\n",
    "        ffs.append(ff)\n",
    "        chs.append(tr.stats.channel)\n",
    "        Pxxs.append(Pxx)\n",
    "\n",
    "    out = {}\n",
    "    out['Pxxs'] = Pxxs\n",
    "    out['ffs'] = ffs\n",
    "    out['chs'] = chs\n",
    "\n",
    "    return out"
   ]
  },
  {
   "cell_type": "markdown",
   "id": "0c2522f7-5aeb-460d-9b9d-104831a9296c",
   "metadata": {
    "tags": []
   },
   "source": [
    "## Load Raw data"
   ]
  },
  {
   "cell_type": "code",
   "execution_count": null,
   "id": "8b88098b-cb6c-4205-ba67-6a85f437fdc4",
   "metadata": {
    "ExecuteTime": {
     "end_time": "2023-06-27T08:11:26.732797Z",
     "start_time": "2023-06-27T08:11:26.732775Z"
    },
    "tags": []
   },
   "outputs": [],
   "source": [
    "def __load_romy_raw_data(seeds, tbeg, tend, path_to_sds):\n",
    "\n",
    "    from andbro__read_sds import __read_sds\n",
    "    from obspy import Stream, UTCDateTime\n",
    "\n",
    "    st0 = Stream()\n",
    "\n",
    "    for seed in seeds:\n",
    "\n",
    "        print(f\" -> loading {seed}...\")\n",
    "\n",
    "        try:\n",
    "            st00 = __read_sds(path_to_sds, seed, tbeg,tend, data_format='MSEED')\n",
    "        except:\n",
    "            print(f\" -> failed for {seed}\")\n",
    "\n",
    "        st0 += st00\n",
    "\n",
    "    st0 = st0.sort()\n",
    "\n",
    "    for tr in st0:\n",
    "        tr.data = tr.data*0.59604645e-6 # V / count  [0.59604645ug  from obsidian]\n",
    "\n",
    "    return st0"
   ]
  },
  {
   "cell_type": "code",
   "execution_count": null,
   "id": "16c10379-0992-4806-909e-4258db3eb029",
   "metadata": {
    "ExecuteTime": {
     "end_time": "2023-06-27T08:11:26.732797Z",
     "start_time": "2023-06-27T08:11:26.732775Z"
    },
    "tags": []
   },
   "outputs": [],
   "source": [
    "st1 = __load_romy_raw_data([config['seeds'][0]], config['tbeg1'], config['tend1'], config['path_to_sds'])\n",
    "st2 = __load_romy_raw_data([config['seeds'][1]], config['tbeg2'], config['tend2'], config['path_to_sds'])\n",
    "\n",
    "\n",
    "st = st1.copy()\n",
    "st += st2.copy()\n",
    "\n",
    "st.plot(equal_scale=False);"
   ]
  },
  {
   "cell_type": "code",
   "execution_count": null,
   "id": "7112b71d",
   "metadata": {
    "ExecuteTime": {
     "end_time": "2023-06-26T08:46:45.817172Z",
     "start_time": "2023-06-26T08:46:45.763942Z"
    }
   },
   "outputs": [],
   "source": [
    "def __makeplot_stream_PSD(st, twin_sec=60, f_lower_zoom=540, f_upper_zoom=560):\n",
    "\n",
    "    from scipy import fftpack\n",
    "    from numpy import abs\n",
    "    from scipy.signal import welch, hann\n",
    "    import matplotlib.pyplot as plt\n",
    "\n",
    "\n",
    "    nblock = int(st[0].stats.sampling_rate * twin_sec)\n",
    "    overlap = int(0.5*nblock)\n",
    "\n",
    "    print(f\" -> nseg = {nblock} | overlap = {overlap}\")\n",
    "\n",
    "    win = hann(nblock, True)\n",
    "\n",
    "\n",
    "    fig, axes = plt.subplots(len(st),2,figsize=(15,10), sharex='col')\n",
    "\n",
    "    plt.subplots_adjust(hspace=0.1)\n",
    "\n",
    "    ## _______________________________________________\n",
    "\n",
    "    st.sort(keys=['channel'], reverse=True)\n",
    "\n",
    "    Pxxs, ffs, chs = [], [], []\n",
    "\n",
    "    for i, tr in enumerate(st):\n",
    "\n",
    "        tr.data /= max(abs(tr.data))\n",
    "\n",
    "        ff, Pxx = welch(tr.data,\n",
    "                        fs=tr.stats.sampling_rate,\n",
    "                        window=win, noverlap=overlap,\n",
    "                        nfft=nblock,\n",
    "                        scaling=\"density\",\n",
    "                        return_onesided=True)\n",
    "\n",
    "        ffs.append(ff)\n",
    "        chs.append(tr.stats.channel)\n",
    "        Pxxs.append(Pxx)\n",
    "\n",
    "        ## _________________________________________________________________\n",
    "        axes[i,0].plot(\n",
    "                    tr.times(),\n",
    "                    tr.data,\n",
    "                    color='black',\n",
    "                    label='{} {}'.format(tr.stats.station, tr.stats.channel),\n",
    "                    lw=1.0,\n",
    "                    )\n",
    "\n",
    "\n",
    "        ## _________________________________________________________________\n",
    "        axes[i,1].semilogy(\n",
    "                    ff,\n",
    "                    Pxx,\n",
    "                    color='black',\n",
    "                    lw=1.0,\n",
    "                    )\n",
    "\n",
    "        axes[i,1].set_ylim(min(Pxx[10:]), max(Pxx[10:]))\n",
    "\n",
    "        axes[i,0].set_ylabel(r'U (volt)')\n",
    "\n",
    "        axes[i,1].set_ylabel(r'PSD (volt$^2$/Hz)')\n",
    "\n",
    "        axes[i,0].legend(loc='upper left', framealpha=.8)\n",
    "\n",
    "#         axes[i,0].ticklabel_format(axis='y', style='sci', scilimits=(0,0))\n",
    "#         axes[i,1].ticklabel_format(axis='y', style='sci', scilimits=(0,0))\n",
    "\n",
    "        axes[i,1].set_xlim(f_lower_zoom, f_upper_zoom)\n",
    "\n",
    "    plt.show();\n",
    "    return fig, (Pxxs, ffs, chs)"
   ]
  },
  {
   "cell_type": "code",
   "execution_count": null,
   "id": "27f1841e-21da-4e51-9a6e-997028ada678",
   "metadata": {
    "tags": []
   },
   "outputs": [],
   "source": [
    "fig, out = __makeplot_stream_PSD(st, twin_sec=60, f_lower_zoom=config['f_lower_zoomin'], f_upper_zoom=config['f_upper_zoomin'])"
   ]
  },
  {
   "cell_type": "code",
   "execution_count": null,
   "id": "4cb80b4a-fd44-417c-97f8-4e044ce0e26e",
   "metadata": {
    "tags": []
   },
   "outputs": [],
   "source": [
    "fig, out = __makeplot_stream_PSD(st, twin_sec=60, f_lower_zoom=500, f_upper_zoom=600)\n",
    "\n",
    "fig.savefig(config['path_to_figs']+f\"Prismspectra_{st[0].stats.channel}_{st[1].stats.channel}_trace&PSD.png\", format=\"png\", dpi=200, bbox_inches='tight')"
   ]
  },
  {
   "cell_type": "markdown",
   "id": "fb6c7dd6",
   "metadata": {},
   "source": [
    "## Plot Comparison"
   ]
  },
  {
   "cell_type": "code",
   "execution_count": null,
   "id": "aa21da75-dba2-44ac-9b1a-2a8353a5b5b1",
   "metadata": {
    "tags": []
   },
   "outputs": [],
   "source": [
    "def __makeplot_psd_overview_with_zoomin(stx, twin_sec=60, plot_dB=True, f_lower_zoom=540, f_upper_zoom=560):\n",
    "\n",
    "    import matplotlib.pyplot as plt\n",
    "    from matplotlib.gridspec import GridSpec\n",
    "    from numpy import log10\n",
    "\n",
    "    font = 14\n",
    "\n",
    "    # stx = stx.detrend(\"demean\")\n",
    "    # stx = stx.normalize()\n",
    "\n",
    "    out = __compute_psd(stx, twin_sec=twin_sec)\n",
    "\n",
    "    Pxxs, ffs, chs = out['Pxxs'], out['ffs'], out['chs']\n",
    "\n",
    "    chs[0] = chs[0]+\" before\"\n",
    "    chs[1] = chs[1]+\" after\"\n",
    "\n",
    "    fig = plt.figure(figsize=(15, 8))\n",
    "\n",
    "    plt.subplots_adjust(wspace=0.05)\n",
    "\n",
    "    gs = GridSpec(1, 2, width_ratios=[2, 1])\n",
    "\n",
    "    ax1 = fig.add_subplot(gs[0])\n",
    "    ax2 = fig.add_subplot(gs[1])\n",
    "\n",
    "    for jj in range(len(Pxxs)):\n",
    "        if plot_dB:\n",
    "            ax1.semilogx(ffs[jj], 20*log10(Pxxs[jj]/max(Pxxs[jj])), alpha=0.5, label=chs[jj])\n",
    "            ax2.plot(ffs[jj], 20*log10(Pxxs[jj]/max(Pxxs[jj])), alpha=0.5, label=chs[jj])\n",
    "            ax1.set_ylim(-190, 0)\n",
    "            ax2.set_ylim(-190, 0)\n",
    "        else:\n",
    "            ax1.loglog(ffs[1], Pxxs[1], alpha=0.5, label=chs[1])\n",
    "            ax2.loglog(ffs[1], Pxxs[1], alpha=0.5, label=chs[1])\n",
    "\n",
    "    # ax1.semilogx(ffs[2], 20*log10(Pxxs[2]), alpha=0.5, color=\"tab:green\", label=chs[2], zorder=2)\n",
    "\n",
    "    ax1.grid(alpha=0.2, which=\"both\")\n",
    "    ax1.set_xlabel(\"Frequency (Hz)\", fontsize=font)\n",
    "    ax1.set_ylabel(f\"PSD (dB rel. to (1 $V^2$/Hz))\", fontsize=font)\n",
    "    ax1.legend(loc=\"upper center\", fontsize=font-1, ncol=3)\n",
    "    ax1.tick_params(labelsize=font-2)\n",
    "\n",
    "\n",
    "\n",
    "    ax2.set_xlabel(\"Frequency (Hz)\", fontsize=font)\n",
    "    ax2.grid(alpha=0.2, which=\"both\")\n",
    "    ax2.tick_params(labelsize=font-2)\n",
    "    ax2.set_yticklabels([])\n",
    "\n",
    "    ax2.set_xlim(553-100, 553+100)\n",
    "\n",
    "    ax1.text(.01, .99, '(a)', ha='left', va='top', transform=ax1.transAxes, fontsize=font+2)\n",
    "    ax2.text(.01, .99, '(b)', ha='left', va='top', transform=ax2.transAxes, fontsize=font+2)\n",
    "\n",
    "    time_str1 = f\"{stx[0].stats.starttime.date} {str(stx[0].stats.starttime.time).split('.')[0]} - {str(stx[0].stats.endtime.time).split('.')[0]} UTC\"\n",
    "    time_str2 = f\"{stx[1].stats.starttime.date} {str(stx[1].stats.starttime.time).split('.')[0]} - {str(stx[1].stats.endtime.time).split('.')[0]} UTC\"\n",
    "\n",
    "    ax1.set_title(f\"{time_str1} vs. {time_str2}\")\n",
    "\n",
    "    plt.show();\n",
    "    return fig"
   ]
  },
  {
   "cell_type": "code",
   "execution_count": null,
   "id": "551d3d13-b9f5-4835-9a23-91c7dce91765",
   "metadata": {
    "tags": []
   },
   "outputs": [],
   "source": [
    "Pxxs, ffs, chs = out[0], out[1], out[2]\n",
    "\n",
    "fig = __makeplot_psd_overview_with_zoomin(st, twin_sec=60, plot_dB=True, f_lower_zoom=config['f_lower_zoomin']-20, f_upper_zoom=config['f_upper_zoomin']+20)\n",
    "\n",
    "fig.savefig(config['path_to_figs']+f\"Prismspectra_{st[0].stats.channel}_{st[1].stats.channel}_zoomin.png\", format=\"png\", dpi=200, bbox_inches='tight')"
   ]
  },
  {
   "cell_type": "code",
   "execution_count": null,
   "id": "295e6c6f-b13c-424f-80cd-7886cc0c0778",
   "metadata": {},
   "outputs": [],
   "source": []
  }
 ],
 "metadata": {
  "kernelspec": {
   "display_name": "Python 3 (ipykernel)",
   "language": "python",
   "name": "python3"
  },
  "language_info": {
   "codemirror_mode": {
    "name": "ipython",
    "version": 3
   },
   "file_extension": ".py",
   "mimetype": "text/x-python",
   "name": "python",
   "nbconvert_exporter": "python",
   "pygments_lexer": "ipython3",
   "version": "3.9.16"
  },
  "latex_envs": {
   "LaTeX_envs_menu_present": true,
   "autoclose": false,
   "autocomplete": true,
   "bibliofile": "biblio.bib",
   "cite_by": "apalike",
   "current_citInitial": 1,
   "eqLabelWithNumbers": true,
   "eqNumInitial": 1,
   "hotkeys": {
    "equation": "Ctrl-E",
    "itemize": "Ctrl-I"
   },
   "labels_anchors": false,
   "latex_user_defs": false,
   "report_style_numbering": false,
   "user_envs_cfg": false
  },
  "toc": {
   "base_numbering": 1,
   "nav_menu": {},
   "number_sections": true,
   "sideBar": true,
   "skip_h1_title": false,
   "title_cell": "Table of Contents",
   "title_sidebar": "Contents",
   "toc_cell": false,
   "toc_position": {},
   "toc_section_display": true,
   "toc_window_display": false
  },
  "varInspector": {
   "cols": {
    "lenName": 16,
    "lenType": 16,
    "lenVar": 40
   },
   "kernels_config": {
    "python": {
     "delete_cmd_postfix": "",
     "delete_cmd_prefix": "del ",
     "library": "var_list.py",
     "varRefreshCmd": "print(var_dic_list())"
    },
    "r": {
     "delete_cmd_postfix": ") ",
     "delete_cmd_prefix": "rm(",
     "library": "var_list.r",
     "varRefreshCmd": "cat(var_dic_list()) "
    }
   },
   "types_to_exclude": [
    "module",
    "function",
    "builtin_function_or_method",
    "instance",
    "_Feature"
   ],
   "window_display": false
  }
 },
 "nbformat": 4,
 "nbformat_minor": 5
}
