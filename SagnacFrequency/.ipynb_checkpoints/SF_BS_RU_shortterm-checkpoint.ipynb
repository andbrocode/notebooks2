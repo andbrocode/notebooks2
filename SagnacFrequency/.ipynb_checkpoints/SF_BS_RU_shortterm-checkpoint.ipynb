{
 "cells": [
  {
   "cell_type": "markdown",
   "id": "22f5c8c9",
   "metadata": {
    "ExecuteTime": {
     "end_time": "2022-10-28T13:00:52.763484Z",
     "start_time": "2022-10-28T13:00:52.761516Z"
    }
   },
   "source": [
    "## Sagnac Frequency - Backscatter Correction - RU shortterm"
   ]
  },
  {
   "cell_type": "markdown",
   "id": "1cd32aed",
   "metadata": {},
   "source": [
    "Explore the longterm behaviour of the RU sagnac beat"
   ]
  },
  {
   "cell_type": "markdown",
   "id": "185b1a0b",
   "metadata": {},
   "source": [
    "## Imports"
   ]
  },
  {
   "cell_type": "code",
   "execution_count": 1,
   "id": "818caf4c",
   "metadata": {
    "ExecuteTime": {
     "end_time": "2023-06-27T08:11:10.277643Z",
     "start_time": "2023-06-27T08:11:08.781535Z"
    },
    "tags": []
   },
   "outputs": [],
   "source": [
    "import os\n",
    "import gc\n",
    "import matplotlib.pyplot as plt\n",
    "import numpy as np\n",
    "\n",
    "from datetime import datetime, date\n",
    "from pandas import DataFrame, read_pickle, date_range, concat, read_csv\n",
    "from obspy import UTCDateTime, read, Trace, Stream, read_inventory\n",
    "from scipy.signal import hilbert\n",
    "\n",
    "from functions.get_fft import __get_fft\n",
    "from functions.multitaper_psd import __multitaper_psd\n",
    "from functions.welch_psd import __welch_psd\n",
    "\n",
    "from andbro__read_sds import __read_sds\n",
    "from andbro__readYaml import __readYaml\n",
    "from andbro__load_FURT_stream import __load_furt_stream"
   ]
  },
  {
   "cell_type": "code",
   "execution_count": 2,
   "id": "b83c9987",
   "metadata": {
    "ExecuteTime": {
     "end_time": "2023-06-27T08:11:10.288084Z",
     "start_time": "2023-06-27T08:11:10.284752Z"
    },
    "tags": []
   },
   "outputs": [],
   "source": [
    "if os.uname().nodename == 'lighthouse':\n",
    "    root_path = '/home/andbro/'\n",
    "    data_path = '/home/andbro/kilauea-data/'\n",
    "    archive_path = '/home/andbro/freenas/'\n",
    "    bay_path = '/home/andbro/bay200/'\n",
    "elif os.uname().nodename == 'kilauea':\n",
    "    root_path = '/home/brotzer/'\n",
    "    data_path = '/import/kilauea-data/'\n",
    "    archive_path = '/import/freenas-ffb-01-data/'\n",
    "    bay_path = '/bay200/'\n",
    "elif os.uname().nodename == 'lin-ffb-01':\n",
    "    root_path = '/home/brotzer/'\n",
    "    data_path = '/import/kilauea-data/'\n",
    "    archive_path = '/import/freenas-ffb-01-data/'\n",
    "    bay_path = '/bay200/'"
   ]
  },
  {
   "cell_type": "code",
   "execution_count": 3,
   "id": "6d4dc8b2-cc89-420e-a4cf-5ca715a57aa7",
   "metadata": {
    "tags": []
   },
   "outputs": [],
   "source": [
    "from functions.reduce import __reduce\n",
    "from functions.load_backscatter_data import __load_backscatter_data"
   ]
  },
  {
   "cell_type": "markdown",
   "id": "ec2578ab",
   "metadata": {},
   "source": [
    "## Configurations"
   ]
  },
  {
   "cell_type": "code",
   "execution_count": 4,
   "id": "ba83e3e7",
   "metadata": {
    "ExecuteTime": {
     "end_time": "2023-06-27T08:11:13.008382Z",
     "start_time": "2023-06-27T08:11:13.002517Z"
    },
    "tags": []
   },
   "outputs": [],
   "source": [
    "config = {}\n",
    "\n",
    "config['ring'] = \"U\"\n",
    "\n",
    "config['seed'] = \"BW.DROMY..FJU\"\n",
    "\n",
    "config['path_to_sds'] = archive_path+\"romy_archive/\"\n",
    "\n",
    "config['tbeg'] = UTCDateTime(\"2024-03-26 12:00\")\n",
    "config['tend'] = UTCDateTime(\"2024-03-31 00:00\")\n",
    "flim1, flim2 = 302.42, 302.50\n",
    "\n",
    "## path to Sagnac data\n",
    "config['path_to_autodata'] = archive_path+f\"romy_autodata/\"\n",
    "\n",
    "config['path_to_data'] = data_path+\"sagnac_frequency/data/backscatter/\"\n",
    "\n",
    "config['path_to_figs'] = data_path+\"sagnac_frequency/figures/\"\n",
    "\n",
    "config['colors'] = {  1:'darkgreen',\n",
    "                      3:'lightgreen',\n",
    "                      4:'purple',\n",
    "                      5:'darkred',\n",
    "                      6:'darkblue',\n",
    "                      7:'darkorange',\n",
    "                      8:'darkcyan',\n",
    "                      9:'cyan',\n",
    "                     }"
   ]
  },
  {
   "cell_type": "markdown",
   "id": "12ef7747-2cb6-4561-bfe3-ccd226aae9dc",
   "metadata": {
    "tags": []
   },
   "source": [
    "## Configurations"
   ]
  },
  {
   "cell_type": "code",
   "execution_count": 5,
   "id": "5d8a5d06-0406-40f2-865b-93ad62f11e51",
   "metadata": {
    "tags": []
   },
   "outputs": [
    {
     "name": "stdout",
     "output_type": "stream",
     "text": [
      " -> failed: /import/kilauea-data/sagnac_frequency/data/backscatter/sagnac_frequency/data/FJU_20240401_00:00:00_backscatter.pkl\n",
      " -> failed: /import/kilauea-data/sagnac_frequency/data/backscatter/sagnac_frequency/data/FJU_20240401_01:00:00_backscatter.pkl\n",
      " -> failed: /import/kilauea-data/sagnac_frequency/data/backscatter/sagnac_frequency/data/FJU_20240401_02:00:00_backscatter.pkl\n",
      " -> failed: /import/kilauea-data/sagnac_frequency/data/backscatter/sagnac_frequency/data/FJU_20240401_03:00:00_backscatter.pkl\n",
      " -> failed: /import/kilauea-data/sagnac_frequency/data/backscatter/sagnac_frequency/data/FJU_20240401_04:00:00_backscatter.pkl\n",
      " -> failed: /import/kilauea-data/sagnac_frequency/data/backscatter/sagnac_frequency/data/FJU_20240401_05:00:00_backscatter.pkl\n",
      " -> failed: /import/kilauea-data/sagnac_frequency/data/backscatter/sagnac_frequency/data/FJU_20240401_06:00:00_backscatter.pkl\n",
      " -> failed: /import/kilauea-data/sagnac_frequency/data/backscatter/sagnac_frequency/data/FJU_20240401_07:00:00_backscatter.pkl\n",
      " -> failed: /import/kilauea-data/sagnac_frequency/data/backscatter/sagnac_frequency/data/FJU_20240401_08:00:00_backscatter.pkl\n",
      " -> failed: /import/kilauea-data/sagnac_frequency/data/backscatter/sagnac_frequency/data/FJU_20240401_09:00:00_backscatter.pkl\n",
      " -> failed: /import/kilauea-data/sagnac_frequency/data/backscatter/sagnac_frequency/data/FJU_20240401_10:00:00_backscatter.pkl\n",
      " -> failed: /import/kilauea-data/sagnac_frequency/data/backscatter/sagnac_frequency/data/FJU_20240401_11:00:00_backscatter.pkl\n",
      " -> failed: /import/kilauea-data/sagnac_frequency/data/backscatter/sagnac_frequency/data/FJU_20240401_12:00:00_backscatter.pkl\n",
      " -> failed: /import/kilauea-data/sagnac_frequency/data/backscatter/sagnac_frequency/data/FJU_20240401_13:00:00_backscatter.pkl\n",
      " -> failed: /import/kilauea-data/sagnac_frequency/data/backscatter/sagnac_frequency/data/FJU_20240401_14:00:00_backscatter.pkl\n",
      " -> failed: /import/kilauea-data/sagnac_frequency/data/backscatter/sagnac_frequency/data/FJU_20240401_15:00:00_backscatter.pkl\n",
      " -> failed: /import/kilauea-data/sagnac_frequency/data/backscatter/sagnac_frequency/data/FJU_20240401_16:00:00_backscatter.pkl\n",
      " -> failed: /import/kilauea-data/sagnac_frequency/data/backscatter/sagnac_frequency/data/FJU_20240401_17:00:00_backscatter.pkl\n",
      " -> failed: /import/kilauea-data/sagnac_frequency/data/backscatter/sagnac_frequency/data/FJU_20240401_18:00:00_backscatter.pkl\n",
      " -> failed: /import/kilauea-data/sagnac_frequency/data/backscatter/sagnac_frequency/data/FJU_20240401_19:00:00_backscatter.pkl\n",
      " -> failed: /import/kilauea-data/sagnac_frequency/data/backscatter/sagnac_frequency/data/FJU_20240401_20:00:00_backscatter.pkl\n",
      " -> failed: /import/kilauea-data/sagnac_frequency/data/backscatter/sagnac_frequency/data/FJU_20240401_21:00:00_backscatter.pkl\n",
      " -> failed: /import/kilauea-data/sagnac_frequency/data/backscatter/sagnac_frequency/data/FJU_20240401_22:00:00_backscatter.pkl\n",
      " -> failed: /import/kilauea-data/sagnac_frequency/data/backscatter/sagnac_frequency/data/FJU_20240401_23:00:00_backscatter.pkl\n"
     ]
    }
   ],
   "source": [
    "bs = __load_backscatter_data(config['tbeg'], config['tend'], config['ring'], config['path_to_data'])\n",
    "\n",
    "bs['time_sec'] = bs.time2 - bs.time1 + (bs.time1 - bs.time1.loc[0])"
   ]
  },
  {
   "cell_type": "markdown",
   "id": "3e53acfb-0295-4a70-a83e-337b7ed465a2",
   "metadata": {},
   "source": [
    "### Compute Backscatter (again)"
   ]
  },
  {
   "cell_type": "code",
   "execution_count": 6,
   "id": "73528b65-7674-4d8e-a1e0-1a2d87ad0709",
   "metadata": {
    "tags": []
   },
   "outputs": [],
   "source": [
    "from functions.backscatter_correction import __backscatter_correction"
   ]
  },
  {
   "cell_type": "code",
   "execution_count": 7,
   "id": "a45ff2da-cbcc-4a75-842a-85304cfbf9dd",
   "metadata": {
    "tags": []
   },
   "outputs": [],
   "source": [
    "# unwrap phases as one time series\n",
    "bs['fj_ph'] = np.unwrap(bs.fj_ph)\n",
    "bs['f1_ph'] = np.unwrap(bs.f1_ph)\n",
    "bs['f2_ph'] = np.unwrap(bs.f2_ph)\n",
    "\n",
    "# fractional beat modulations\n",
    "m01 = bs.f1_ac / bs.f1_dc\n",
    "m02 = bs.f2_ac / bs.f2_dc\n",
    "\n",
    "# phase difference\n",
    "ph1 = bs.f1_ph\n",
    "ph2 = bs.f2_ph\n",
    "phase0 = ph2 - ph1\n",
    "\n",
    "# beat signal observed\n",
    "w_obs = bs.fj_fs\n",
    "\n",
    "# compute backscatter corrected signal\n",
    "bs['fj_bs'] = __backscatter_correction(m01, m02, phase0, w_obs, 303.05, cm_filter_factor=1.033)"
   ]
  },
  {
   "cell_type": "code",
   "execution_count": 8,
   "id": "5d07a94d-79ed-4f72-ae54-2b345a645eaa",
   "metadata": {
    "tags": []
   },
   "outputs": [
    {
     "data": {
      "text/plain": [
       "<Figure size 1500x500 with 0 Axes>"
      ]
     },
     "execution_count": 8,
     "metadata": {},
     "output_type": "execute_result"
    },
    {
     "data": {
      "text/plain": [
       "[<matplotlib.lines.Line2D at 0x7f105e578520>]"
      ]
     },
     "execution_count": 8,
     "metadata": {},
     "output_type": "execute_result"
    },
    {
     "data": {
      "text/plain": [
       "(302.42, 302.5)"
      ]
     },
     "execution_count": 8,
     "metadata": {},
     "output_type": "execute_result"
    },
    {
     "data": {
      "image/png": "[encoded data removed]",
      "text/plain": [
       "<Figure size 1500x500 with 1 Axes>"
      ]
     },
     "metadata": {},
     "output_type": "display_data"
    }
   ],
   "source": [
    "plt.figure(figsize=(15, 5))\n",
    "plt.plot(bs.time_sec/86400, bs.fj_fs)\n",
    "plt.ylim(flim1, flim2)"
   ]
  },
  {
   "cell_type": "markdown",
   "id": "c5b9e835-f58a-4241-ba3f-ec5427ffa35c",
   "metadata": {},
   "source": [
    "### Cut corrupt data periods"
   ]
  },
  {
   "cell_type": "code",
   "execution_count": 9,
   "id": "7f016660-577e-42a4-907d-9a7190a147e2",
   "metadata": {
    "tags": []
   },
   "outputs": [],
   "source": [
    "times = [(\"2023-12-04T09:11\", \"2023-12-04T18:01\")]\n",
    "\n",
    "for t1, t2 in times:\n",
    "    bs['fj_fs'] = np.where((bs.time1 > t1) & (bs.time1 < t2), np.nan, bs.fj_fs)\n",
    "    bs['fj_bs'] = np.where((bs.time1 > t1) & (bs.time1 < t2), np.nan, bs.w_s)\n",
    "\n",
    "\n",
    "bs['fj_fs'] = np.nan_to_num(bs['fj_fs'], nan=np.nanmedian(bs['fj_fs']))\n",
    "bs['fj_bs'] = np.nan_to_num(bs['fj_bs'], nan=np.nanmedian(bs['fj_bs']))"
   ]
  },
  {
   "cell_type": "code",
   "execution_count": 10,
   "id": "a110303c-2c40-4558-a12a-c7dd99b09d6a",
   "metadata": {
    "tags": []
   },
   "outputs": [],
   "source": [
    "from functions.load_mlti import __load_mlti\n",
    "\n",
    "mltiU = __load_mlti(config['tbeg'], config['tend'], \"U\", archive_path)"
   ]
  },
  {
   "cell_type": "code",
   "execution_count": 11,
   "id": "3073c5f9-f439-4b8b-a9f5-6702bfbd492c",
   "metadata": {
    "tags": []
   },
   "outputs": [],
   "source": [
    "from functions.get_mlti_intervals import __get_mlti_intervals\n",
    "\n",
    "mltiU_t1, mltiU_t2 = __get_mlti_intervals(mltiU.time_utc)"
   ]
  },
  {
   "cell_type": "code",
   "execution_count": 12,
   "id": "f57efd20-ec2a-4e9e-baa3-29b5de985ead",
   "metadata": {
    "tags": []
   },
   "outputs": [],
   "source": [
    "from functions.mlti_intervals_to_NaN import __mlti_intervals_to_NaN\n",
    "\n",
    "bs = __mlti_intervals_to_NaN(bs, \"fj_fs\", \"time1\", mltiU_t1, mltiU_t2, t_offset_sec=300)\n",
    "bs = __mlti_intervals_to_NaN(bs, \"fj_bs\", \"time1\", mltiU_t1, mltiU_t2, t_offset_sec=300)"
   ]
  },
  {
   "cell_type": "markdown",
   "id": "60589676-e1b9-449d-92a9-22ba4cbe5e18",
   "metadata": {},
   "source": [
    "### Apply special filter sections"
   ]
  },
  {
   "cell_type": "code",
   "execution_count": 13,
   "id": "f59af53c-b28c-4b70-83f8-e4850e70eac2",
   "metadata": {
    "tags": []
   },
   "outputs": [],
   "source": [
    "tt1, tt2 = \"2023-11-01\", \"2023-11-07 17:00\"\n",
    "cond1 = bs.time1 > tt1\n",
    "cond2 = bs.time1 < tt2\n",
    "cond3 = bs.fj_fs_nan < 302.95\n",
    "cond4 = bs.fj_fs_nan > 303.1\n",
    "\n",
    "bs['fj_fs_nan'] = np.where(cond1 & cond2 & cond3, np.nan, bs.fj_fs_nan)\n",
    "bs['fj_fs_nan'] = np.where(cond1 & cond2 & cond4, np.nan, bs.fj_fs_nan)\n",
    "\n",
    "bs['fj_bs_nan'] = np.where(cond1 & cond2 & cond3, np.nan, bs.fj_bs_nan)\n",
    "bs['fj_bs_nan'] = np.where(cond1 & cond2 & cond4, np.nan, bs.fj_bs_nan)\n"
   ]
  },
  {
   "cell_type": "code",
   "execution_count": 14,
   "id": "934d85ba-f553-4782-92ba-2887a04ca0fa",
   "metadata": {
    "tags": []
   },
   "outputs": [],
   "source": [
    "tt1, tt2 = \"2023-11-07 17:00\", \"2023-11-20 14:00\"\n",
    "cond1 = bs.time1 > tt1\n",
    "cond2 = bs.time1 < tt2\n",
    "cond3 = bs.fj_fs_nan < 302.7\n",
    "cond4 = bs.fj_fs_nan > 303.0\n",
    "\n",
    "bs['fj_fs_nan'] = np.where(cond1 & cond2 & cond3, np.nan, bs.fj_fs_nan)\n",
    "bs['fj_fs_nan'] = np.where(cond1 & cond2 & cond4, np.nan, bs.fj_fs_nan)\n",
    "\n",
    "bs['fj_bs_nan'] = np.where(cond1 & cond2 & cond3, np.nan, bs.fj_bs_nan)\n",
    "bs['fj_bs_nan'] = np.where(cond1 & cond2 & cond4, np.nan, bs.fj_bs_nan)\n"
   ]
  },
  {
   "cell_type": "code",
   "execution_count": 15,
   "id": "70aeb3b9-8b5b-487c-aada-be618b7b17ea",
   "metadata": {
    "tags": []
   },
   "outputs": [],
   "source": [
    "tt1, tt2 = \"2023-11-20 14:00\", \"2024-01-11\"\n",
    "cond1 = bs.time1 > tt1\n",
    "cond2 = bs.time1 < tt2\n",
    "cond3 = bs.fj_fs_nan < 302.4\n",
    "cond4 = bs.fj_fs_nan > 302.6\n",
    "\n",
    "bs['fj_fs_nan'] = np.where(cond1 & cond2 & cond3, np.nan, bs.fj_fs_nan)\n",
    "bs['fj_fs_nan'] = np.where(cond1 & cond2 & cond4, np.nan, bs.fj_fs_nan)\n",
    "\n",
    "bs['fj_bs_nan'] = np.where(cond1 & cond2 & cond3, np.nan, bs.fj_bs_nan)\n",
    "bs['fj_bs_nan'] = np.where(cond1 & cond2 & cond4, np.nan, bs.fj_bs_nan)\n"
   ]
  },
  {
   "cell_type": "code",
   "execution_count": 16,
   "id": "a033ede7-a7dc-489a-9d31-6be404435dd0",
   "metadata": {
    "tags": []
   },
   "outputs": [],
   "source": [
    "tt1, tt2 = \"2023-12-20 00:00\", \"2024-02-22\"\n",
    "cond1 = bs.time1 > tt1\n",
    "cond2 = bs.time1 < tt2\n",
    "cond3 = bs.fj_fs_nan < 302.38\n",
    "cond4 = bs.fj_fs_nan > 302.48\n",
    "\n",
    "bs['fj_fs_nan'] = np.where(cond1 & cond2 & cond3, np.nan, bs.fj_fs_nan)\n",
    "bs['fj_fs_nan'] = np.where(cond1 & cond2 & cond4, np.nan, bs.fj_fs_nan)\n",
    "\n",
    "bs['fj_bs_nan'] = np.where(cond1 & cond2 & cond3, np.nan, bs.fj_bs_nan)\n",
    "bs['fj_bs_nan'] = np.where(cond1 & cond2 & cond4, np.nan, bs.fj_bs_nan)\n"
   ]
  },
  {
   "cell_type": "code",
   "execution_count": 17,
   "id": "512abf36-a40d-480f-9177-556a493a4cbc",
   "metadata": {
    "tags": []
   },
   "outputs": [],
   "source": [
    "from functions.interpolate_nan import __interpolate_nan\n",
    "\n",
    "bs['fj_fs_inter'] = __interpolate_nan(np.array(bs.fj_fs_nan))\n",
    "bs['fj_bs_inter'] = __interpolate_nan(np.array(bs.fj_bs_nan))"
   ]
  },
  {
   "cell_type": "code",
   "execution_count": 18,
   "id": "09b3cefb-1f20-400e-822c-37dde096970a",
   "metadata": {
    "tags": []
   },
   "outputs": [],
   "source": [
    "from functions.smoothing import __smooth\n",
    "\n",
    "n_minutes = 300\n",
    "\n",
    "bs['fj_fs_smooth'] = __smooth(bs.fj_fs_inter, n_minutes)\n",
    "bs['fj_bs_smooth'] = __smooth(bs.fj_bs_inter, n_minutes)"
   ]
  },
  {
   "cell_type": "markdown",
   "id": "2f3154b6-1c6a-436d-97bf-0e86d840b43d",
   "metadata": {},
   "source": [
    "### Load LXX maintenance"
   ]
  },
  {
   "cell_type": "code",
   "execution_count": 19,
   "id": "fcb83285-ae34-4335-be4e-977e1d22561a",
   "metadata": {
    "tags": []
   },
   "outputs": [],
   "source": [
    "from functions.load_lxx import __load_lxx\n",
    "\n",
    "lxx =__load_lxx(config['tbeg'], config['tend'], archive_path)"
   ]
  },
  {
   "cell_type": "code",
   "execution_count": 20,
   "id": "30338cfb-dfab-4814-9555-15fc6d779ef7",
   "metadata": {
    "tags": []
   },
   "outputs": [],
   "source": [
    "from functions.get_lxx_intervals import __get_lxx_intervals\n",
    "\n",
    "lxx_t1, lxx_t2 = __get_lxx_intervals(lxx.datetime)"
   ]
  },
  {
   "cell_type": "markdown",
   "id": "97787288-abff-4aa9-8601-0832ceaa11d8",
   "metadata": {},
   "source": [
    "### Checkup Plot"
   ]
  },
  {
   "cell_type": "code",
   "execution_count": null,
   "id": "2ae877ec-3074-4929-a0f1-d866cb07ae39",
   "metadata": {
    "tags": []
   },
   "outputs": [
    {
     "name": "stderr",
     "output_type": "stream",
     "text": [
      "/tmp/ipykernel_864592/3069509830.py:34: UserWarning: set_ticklabels() should only be used with a fixed number of ticks, i.e. after set_ticks() or using a FixedLocator.\n",
      "  ax.set_xticklabels(tcklbls)\n"
     ]
    },
    {
     "data": {
      "image/png": "[encoded data removed]",
      "text/plain": [
       "<Figure size 1500x500 with 1 Axes>"
      ]
     },
     "metadata": {},
     "output_type": "display_data"
    }
   ],
   "source": [
    "def __makeplot():\n",
    "\n",
    "    Nrow, Ncol = 1, 1\n",
    "\n",
    "    font = 12\n",
    "\n",
    "    fig, ax = plt.subplots(Nrow, Ncol, figsize=(15, 5), sharex=True)\n",
    "\n",
    "    plt.subplots_adjust(hspace=0.1)\n",
    "\n",
    "    # time_scaling = 1/86400\n",
    "    time_scaling = 1\n",
    "    ref_date = str(bs.time1.iloc[0])[:10]\n",
    "\n",
    "    ax.plot(bs.time_sec*time_scaling, bs.fj_fs, color=\"tab:grey\", alpha=0.3, label=\"raw\")\n",
    "    ax.plot(bs.time_sec*time_scaling, bs.fj_fs_nan, color=\"tab:blue\", label=\"cleaned\")\n",
    "    # ax.plot(bs.time_sec*time_scaling, bs.fj_fs_smooth, color=\"k\", label=f\"mov. avg. ({n_minutes} min)\")\n",
    "    ax.set_ylim(flim1, flim2)\n",
    "    ax.ticklabel_format(useOffset=False)\n",
    "    ax.set_ylabel(\"$\\delta f$ north ring (Hz)\", fontsize=font)\n",
    "\n",
    "    ax.grid(ls=\":\", zorder=0)\n",
    "    ax.legend(loc=1)\n",
    "    ax.set_xlim(left=0)\n",
    "\n",
    "    for lx1, lx2 in zip(lxx_t1, lxx_t2):\n",
    "        lx1_sec = lx1-UTCDateTime(ref_date)\n",
    "        lx2_sec = lx2-UTCDateTime(ref_date)\n",
    "        ax.fill_betweenx([flim1, flim2], lx1_sec, lx2_sec, color=\"yellow\", alpha=0.5)\n",
    "\n",
    "    ## add dates to x-axis\n",
    "    tcks = ax.get_xticks()\n",
    "    tcklbls = [f\"{UTCDateTime(UTCDateTime(ref_date)+t).date} \\n {UTCDateTime(UTCDateTime(ref_date)+t).time}\" for t in tcks]\n",
    "    ax.set_xticklabels(tcklbls)\n",
    "\n",
    "    gc.collect()\n",
    "\n",
    "    plt.show();\n",
    "    return fig\n",
    "\n",
    "fig = __makeplot();\n",
    "\n",
    "# fig.savefig(config['path_to_figs']+f\"SF_BS_RU_longterm_cleaned.png\", format=\"png\", dpi=150, bbox_inches='tight')\n"
   ]
  },
  {
   "cell_type": "markdown",
   "id": "f30a9a64-cae7-4114-9182-0b9e743eb9f0",
   "metadata": {},
   "source": [
    "### Load WROMY Data"
   ]
  },
  {
   "cell_type": "code",
   "execution_count": null,
   "id": "7f61e961-435d-43e3-b122-a74b79e534a6",
   "metadata": {
    "tags": []
   },
   "outputs": [],
   "source": [
    "ws = Stream()\n",
    "ws += __read_sds(archive_path+\"temp_archive/\", \"BW.WROMY.01.LKI\", config['tbeg'], config['tend'])\n",
    "ws += __read_sds(archive_path+\"temp_archive/\", \"BW.WROMY.05.LKI\", config['tbeg'], config['tend'])\n",
    "ws += __read_sds(archive_path+\"temp_archive/\", \"BW.WROMY.09.LKI\", config['tbeg'], config['tend'])\n",
    "\n",
    "ws = ws.merge();\n",
    "\n",
    "ws"
   ]
  },
  {
   "cell_type": "markdown",
   "id": "7668bfc3-a538-4b59-9830-6ec41872deb9",
   "metadata": {
    "tags": []
   },
   "source": [
    "### Load PROMY Data"
   ]
  },
  {
   "cell_type": "code",
   "execution_count": null,
   "id": "e6ad98b2-edad-406e-b96e-487bf4d44749",
   "metadata": {
    "tags": []
   },
   "outputs": [],
   "source": [
    "ps = Stream()\n",
    "ps += __read_sds(archive_path+\"temp_archive/\", \"BW.PROMY.03.LKI\", config['tbeg'], config['tend'])\n",
    "ps += __read_sds(archive_path+\"temp_archive/\", \"BW.PROMY.01.LKI\", config['tbeg'], config['tend'])\n",
    "ps += __read_sds(archive_path+\"temp_archive/\", \"BW.PROMY.05.LKI\", config['tbeg'], config['tend'])\n",
    "ps += __read_sds(archive_path+\"temp_archive/\", \"BW.PROMY.09.LKI\", config['tbeg'], config['tend'])\n",
    "\n",
    "ps3 = ps.merge();\n",
    "\n",
    "ps"
   ]
  },
  {
   "cell_type": "markdown",
   "id": "4981daee-4891-4523-9f14-46ffae2a0f6b",
   "metadata": {},
   "source": [
    "### Load Rain Data"
   ]
  },
  {
   "cell_type": "code",
   "execution_count": null,
   "id": "66bf4268-69e0-4d05-bc4e-74b042bb99e8",
   "metadata": {
    "tags": []
   },
   "outputs": [],
   "source": [
    "def __cumsum_rain(arr, n_samples):\n",
    "\n",
    "    from numpy import cumsum, zeros, nansum, nanmean\n",
    "\n",
    "    arr_out = zeros(len(arr))\n",
    "    for i, dat in enumerate(arr):\n",
    "        arr_out[i] = nansum(arr[i:i+n_samples])\n",
    "        # arr_out[i] = nanmean(arr[i:i+n_samples])\n",
    "\n",
    "    return arr_out"
   ]
  },
  {
   "cell_type": "code",
   "execution_count": null,
   "id": "7ae12e7a-8e31-43e9-89d8-e3dec82c7946",
   "metadata": {
    "tags": []
   },
   "outputs": [],
   "source": [
    "furt = __load_furt_stream(config['tbeg'], config['tend'], path_to_archive=bay_path+'gif_online/FURT/WETTER/')"
   ]
  },
  {
   "cell_type": "code",
   "execution_count": null,
   "id": "0f575238-aca8-420c-8ea1-b706ed84f325",
   "metadata": {
    "tags": []
   },
   "outputs": [],
   "source": [
    "rain = furt.select(channel=\"LAR\")\n",
    "\n",
    "# smoothed precipitation\n",
    "rain_smooth = __smooth(__interpolate_nan(rain[0].data), 3600)\n",
    "\n",
    "# cumulative rain\n",
    "rain_cumsum = np.nancumsum(rain[0].data)"
   ]
  },
  {
   "cell_type": "markdown",
   "id": "0244fec6-eacb-4505-9074-03904a20f3ee",
   "metadata": {
    "tags": []
   },
   "source": [
    "### Load Tilt Data"
   ]
  },
  {
   "cell_type": "code",
   "execution_count": null,
   "id": "31e25295-87a3-4e6c-af9a-615aa72ff5c8",
   "metadata": {
    "tags": []
   },
   "outputs": [],
   "source": [
    "from functions.conversion_to_tilt import __conversion_to_tilt"
   ]
  },
  {
   "cell_type": "code",
   "execution_count": null,
   "id": "a13ea3fe-2766-4561-9d97-dd0856174f6e",
   "metadata": {
    "tags": []
   },
   "outputs": [],
   "source": [
    "# path_to_tilt = data_path+\"TiltmeterDataBackup/Tilt_downsampled/\"\n",
    "\n",
    "# tromy0 =  __read_sds(path_to_tilt, \"BW.TROMY..MAN\", config['tbeg']+17*86400-600, config['tend']+600)\n",
    "# tromy0 += __read_sds(path_to_tilt, \"BW.TROMY..MAE\", config['tbeg']+17*86400-600, config['tend']+600)\n",
    "# tromy0 += __read_sds(path_to_tilt, \"BW.TROMY..MAT\", config['tbeg']+17*86400-600, config['tend']+600)\n",
    "\n",
    "path_to_tilt = archive_path+\"romy_archive/\"\n",
    "\n",
    "tromy0 =  __read_sds(path_to_tilt, \"BW.ROMYT..MAN\", config['tbeg']-600, config['tend']+600)\n",
    "tromy0 += __read_sds(path_to_tilt, \"BW.ROMYT..MAE\", config['tbeg']-600, config['tend']+600)\n",
    "tromy0 += __read_sds(path_to_tilt, \"BW.ROMYT..MAT\", config['tbeg']-600, config['tend']+600)"
   ]
  },
  {
   "cell_type": "code",
   "execution_count": null,
   "id": "686cd881-38a5-49e5-b77d-3f8591c13156",
   "metadata": {
    "tags": []
   },
   "outputs": [],
   "source": [
    "## tiltmeter configurations\n",
    "confTilt = __readYaml(root_path+\"Documents/ROMY/tiltmeter/\", \"tiltmeter.conf\")\n",
    "\n",
    "tromy0 = __conversion_to_tilt(tromy0, confTilt['TROMY'])\n",
    "\n",
    "tromy0 = tromy0.trim(bs.time1[0], bs.time1[bs.time1.size-1]);\n",
    "\n",
    "tromy = tromy0.copy();\n",
    "\n",
    "tromy = tromy.merge();\n",
    "\n",
    "tromy.plot(equal_scale=False);"
   ]
  },
  {
   "cell_type": "markdown",
   "id": "1da2a9b2-db4c-4d36-9850-13999ab2e860",
   "metadata": {},
   "source": [
    "### Load Water Level Data"
   ]
  },
  {
   "cell_type": "code",
   "execution_count": null,
   "id": "53640e28-4714-4426-a38f-fefe3e1346ff",
   "metadata": {
    "tags": []
   },
   "outputs": [],
   "source": [
    "from functions.load_water_level import __load_water_level"
   ]
  },
  {
   "cell_type": "code",
   "execution_count": null,
   "id": "d9fb8a2f-a2a9-4a9d-8186-929407edca3f",
   "metadata": {
    "tags": []
   },
   "outputs": [],
   "source": [
    "pegel =  __load_water_level(config['tbeg'], config['tend'])\n",
    "\n",
    "## remove error measurements with nan\n",
    "pegel['pegel'] = np.where(pegel.pegel <= 0, np.nan, pegel.pegel)\n",
    "\n",
    "pegel"
   ]
  },
  {
   "cell_type": "markdown",
   "id": "e41008f2-9db5-45c0-a3b7-5134a043f486",
   "metadata": {},
   "source": [
    "### Load Beam Wander Data"
   ]
  },
  {
   "cell_type": "code",
   "execution_count": null,
   "id": "cad8eb53-42ec-468b-9143-5973b7bf4adc",
   "metadata": {
    "tags": []
   },
   "outputs": [],
   "source": [
    "from functions.load_beam_wander_data import __load_beam_wander_data"
   ]
  },
  {
   "cell_type": "code",
   "execution_count": null,
   "id": "d53b6b10-fd93-4620-9ed6-9b45c1c5333f",
   "metadata": {
    "tags": []
   },
   "outputs": [],
   "source": [
    "bw = __load_beam_wander_data(config['tbeg'].date, config['tend'].date, data_path+\"ids/data/\")"
   ]
  },
  {
   "cell_type": "code",
   "execution_count": null,
   "id": "e5363347-c5c4-4136-94a9-a690219083c8",
   "metadata": {
    "tags": []
   },
   "outputs": [],
   "source": [
    "bw = bw[(bw.time > config['tbeg']) & (bw.time < config['tend'])]\n",
    "\n",
    "bw.time_utc = np.array([UTCDateTime(_t) for _t in bw.time])\n",
    "\n",
    "bw['x_mm'] = bw.x*1.67e-3\n",
    "bw['y_mm'] = bw.y*1.67e-3\n",
    "\n",
    "bw['x_mm'] = bw.x_mm - bw.x_mm.iloc[0]\n",
    "bw['y_mm'] = bw.y_mm - bw.y_mm.iloc[0]"
   ]
  },
  {
   "cell_type": "markdown",
   "id": "09161acb-7975-4362-a28b-8ea4704d7cf1",
   "metadata": {},
   "source": [
    "### Load Infrasound FFBI"
   ]
  },
  {
   "cell_type": "code",
   "execution_count": null,
   "id": "ca975a1e-35bf-4d90-8c63-c731c8b07672",
   "metadata": {
    "tags": []
   },
   "outputs": [],
   "source": [
    "ffbi = __read_sds(bay_path+\"mseed_online/archive/\", \"BW.FFBI..BDF\", config['tbeg'], config['tend'])\n",
    "\n",
    "if len(ffbi) != 2:\n",
    "    ffbi.merge();\n",
    "\n",
    "ffbi_inv = read_inventory(root_path+\"/Documents/ROMY/ROMY_infrasound/station_BW_FFBI.xml\")\n",
    "ffbi = ffbi.remove_response(ffbi_inv, water_level=10)\n",
    "\n",
    "ffbi += __read_sds(bay_path+\"mseed_online/archive/\", \"BW.FFBI..BDO\", config['tbeg'], config['tend'])\n",
    "for tr in ffbi:\n",
    "    if \"O\" in tr.stats.station:\n",
    "        tr.data = tr.data /1.0 /6.28099e5 /100e-3   # gain=1 sensitivity_reftek=6.28099e5count/V; sensitivity = 100 mV/hPa\n",
    "\n",
    "ffbi.plot(equal_scale=False);"
   ]
  },
  {
   "cell_type": "markdown",
   "id": "2a7ceb9c-a4cd-4872-afed-9623a8e0a5f4",
   "metadata": {},
   "source": [
    "## Plotting"
   ]
  },
  {
   "cell_type": "code",
   "execution_count": null,
   "id": "760dd6e3-3237-4dc6-acf0-ea0fdb119c9d",
   "metadata": {
    "tags": []
   },
   "outputs": [],
   "source": []
  },
  {
   "cell_type": "code",
   "execution_count": null,
   "id": "6e8d5eb3-1f15-4cc0-b74b-33c0a47b2bd7",
   "metadata": {
    "tags": []
   },
   "outputs": [],
   "source": [
    "def __makeplot():\n",
    "\n",
    "    Nrow, Ncol = 6, 1\n",
    "\n",
    "    font = 12\n",
    "\n",
    "    ref_date = str(bs.time1.iloc[0])[:10]\n",
    "\n",
    "    fig, ax = plt.subplots(Nrow, Ncol, figsize=(12, 12), sharex=True)\n",
    "\n",
    "    plt.subplots_adjust(hspace=0.1)\n",
    "\n",
    "    time_scaling = 1\n",
    "\n",
    "    ref_date = bs.time1.iloc[0]\n",
    "\n",
    "    # _____________________________________________________________________________________\n",
    "    #\n",
    "    ax[0].plot(bs.time_sec*time_scaling, bs.fj_fs, color=\"tab:grey\", alpha=0.3, label=\"raw\")\n",
    "    ax[0].plot(bs.time_sec*time_scaling, bs.fj_fs_nan, color=\"black\", label=\"cleaned\")\n",
    "    ax[0].plot(bs.time_sec*time_scaling, bs.fj_bs_nan, color=\"red\", label=f\"BS corrected\")\n",
    "\n",
    "    ax[0].set_ylim(flim1, flim2)\n",
    "    ax[0].ticklabel_format(useOffset=False)\n",
    "    ax[0].set_ylabel(\"$\\delta f$ north ring (Hz)\", fontsize=font)\n",
    "\n",
    "    # _____________________________________________________________________________________\n",
    "    #\n",
    "    for tr in ws.select(channel=\"*T\"):\n",
    "        num = int(tr.stats.location[-1])\n",
    "        if num != 1:\n",
    "            ax[1].plot(tr.times(reftime=UTCDateTime(ref_date)),\n",
    "                       __smooth(tr.data, 600), color=config['colors'][num], label=f\"WS{num}\", alpha=0.7)\n",
    "\n",
    "    for tr in ps.select(channel=\"*KI\"):\n",
    "        num = int(tr.stats.location[-1])\n",
    "        if num != 1:\n",
    "            ax[1].plot(tr.times(reftime=UTCDateTime(ref_date)),\n",
    "                       __smooth(tr.data, 600), color=config['colors'][num], label=f\"PS{num}\", alpha=0.7)\n",
    "\n",
    "    ax[1].set_ylim(10, 12)\n",
    "    ax[1].set_ylabel(\"Temperature (°C)\", fontsize=font)\n",
    "\n",
    "    ax11 = ax[1].twinx()\n",
    "    ax11.plot(ps.select(location=\"01\", channel=\"*KI\")[0].times(reftime=UTCDateTime(ref_date)),\n",
    "              __smooth(ps.select(location=\"01\", channel=\"*KI\")[0].data, 600), color=config['colors'][1], label=\"PS1\")\n",
    "\n",
    "    ax11.set_ylabel(\"Temperature (°C)\", fontsize=font, color=config['colors'][1])\n",
    "    [t.set_color(config['colors'][1]) for t in ax11.yaxis.get_ticklabels()]\n",
    "    ax[1].set_yticks(np.linspace(ax[1].get_yticks()[0], ax[1].get_yticks()[-1], len(ax[1].get_yticks())))\n",
    "    ax11.set_yticks(np.linspace(ax11.get_yticks()[0], ax11.get_yticks()[-1], len(ax[1].get_yticks())))\n",
    "\n",
    "\n",
    "\n",
    "    # _____________________________________________________________________________________\n",
    "    #\n",
    "    ax[2].spines.right.set_position((\"axes\", 1.07))\n",
    "    # ax[2].plot(pegel.times_utc - UTCDateTime(ref_date), pegel.pegel, color=\"darkblue\", alpha=0.9)\n",
    "    # ax[2].set_ylabel(f\"Water Level (m)\", fontsize=font)\n",
    "\n",
    "    ax22 = ax[2].twinx()\n",
    "    ax22.fill_between(rain[0].times(reftime=UTCDateTime(ref_date)),\n",
    "                      rain_smooth, color=\"tab:blue\", alpha=0.6, label=f\"rain\", zorder=0)\n",
    "    ax22.set_ylim(bottom=0)\n",
    "    ax22.set_ylabel(f\"Precipitation \\n (mm/hour)\", fontsize=font, color=\"tab:blue\")\n",
    "    [t.set_color('tab:blue') for t in ax22.yaxis.get_ticklabels()]\n",
    "\n",
    "    ax[2].set_yticks(np.linspace(ax[2].get_yticks()[0], ax[2].get_yticks()[-1], len(ax[2].get_yticks())))\n",
    "    ax22.set_yticks(np.linspace(ax22.get_yticks()[0], ax22.get_yticks()[-1], len(ax[2].get_yticks())))\n",
    "\n",
    "\n",
    "    ax24 = ax[2].twinx()\n",
    "    ax24.plot(rain_cumsum/max(rain_cumsum), alpha=0.5, zorder=1, ls=\"--\")\n",
    "    ax24.axis('off')\n",
    "    # ax[2].set_yticks(np.linspace(ax[2].get_yticks()[0], ax[2].get_yticks()[-1], len(ax[2].get_yticks())))\n",
    "    # [t.set_color('darkblue') for t in ax24.yaxis.get_ticklabels()]\n",
    "    # ax24.set_ylabel(f\"Cum. Rain (mm)\", fontsize=font, color=\"darkblue\")\n",
    "\n",
    "\n",
    "    # _____________________________________________________________________________________\n",
    "    #\n",
    "    ax[3].plot(tromy.select(channel=\"*N\")[0].times(reftime=UTCDateTime(ref_date))[:-20],\n",
    "               __smooth(__reduce(tromy.select(channel=\"*N\")[0].data, 100), 60)[:-20]*1e6, label=\"TROMY N-S (1 min. avg.)\", color=\"tab:orange\")\n",
    "    ax[3].plot(tromy.select(channel=\"*E\")[0].times(reftime=UTCDateTime(ref_date))[:-20],\n",
    "               __smooth(__reduce(tromy.select(channel=\"*E\")[0].data, 100), 60)[:-20]*1e6, label=\"TROMY E-W (1 min. avg.)\", color=\"tab:brown\")\n",
    "    ax[3].set_ylabel(\"Tilt ($\\mu$rad)\", fontsize=font)\n",
    "    ax[3].set_ylim(-5, 3)\n",
    "\n",
    "    # _____________________________________________________________________________________\n",
    "    #\n",
    "    ax[4].plot(ffbi.select(channel=\"*F\")[0].times(reftime=UTCDateTime(ref_date)),\n",
    "               __smooth(ffbi.select(channel=\"*F\")[0].data, 600),\n",
    "               label=f\"{ffbi.select(channel='*F')[0].stats.station}.{ffbi.select(channel='*F')[0].stats.channel} (10 min. avg.)\",\n",
    "               color=\"tab:red\"\n",
    "              )\n",
    "    ax[4].set_ylabel(\"Pressure (Pa)\", fontsize=font)\n",
    "    # ax[4].set_ylim(-, 6)\n",
    "\n",
    "    ax41 = ax[4].twinx()\n",
    "    ax41.plot(ffbi.select(channel=\"*O\")[0].times(reftime=UTCDateTime(ref_date)),\n",
    "              ffbi.select(channel=\"*O\")[0].data,\n",
    "              label=f\"{ffbi.select(channel='*O')[0].stats.station}.{ffbi.select(channel='*F')[0].stats.channel} (10 min. avg.)\",\n",
    "              color=\"black\"\n",
    "              )\n",
    "    # _____________________________________________________________________________________\n",
    "    #\n",
    "    ax[5].scatter(bw.time_utc - UTCDateTime(ref_date),\n",
    "                  bw.x_mm*1e3,\n",
    "                  label=f\"in-plane\",\n",
    "                  color=\"tab:pink\",\n",
    "                  zorder=2,\n",
    "                  s=5,\n",
    "              )\n",
    "    ax[5].scatter(bw.time_utc - UTCDateTime(ref_date),\n",
    "                  bw.y_mm*1e3,\n",
    "                  label=f\"out-of-plane\",\n",
    "                  color=\"purple\",\n",
    "                  zorder=2,\n",
    "                  s=5,\n",
    "              )\n",
    "    ax[5].set_ylabel(\"rel. Beam \\n Position ($\\mu$m)\", fontsize=font)\n",
    "    ax[5].set_ylim(-5, 20)\n",
    "\n",
    "\n",
    "    # _____________________________________________________________________________________\n",
    "    #\n",
    "    for _n in range(Nrow):\n",
    "        ax[_n].grid(ls=\":\", zorder=0, alpha=0.5)\n",
    "\n",
    "\n",
    "    ax[0].legend(loc=1, ncol=3)\n",
    "    ax[1].legend(loc=1, ncol=1)\n",
    "    # ax[2].legend(loc=2, ncol=1)\n",
    "    ax[3].legend(loc=3, ncol=1)\n",
    "    ax[4].legend(loc=3, ncol=1)\n",
    "    ax[5].legend(loc=2, ncol=1)\n",
    "\n",
    "    # ax[2].set_xlabel(\"Time (days)\", fontsize=font)\n",
    "\n",
    "    ## add dates to x-axis\n",
    "    tcks = ax[Nrow-1].get_xticks()\n",
    "    tcklbls = [f\"{UTCDateTime(UTCDateTime(ref_date)+t).date} \\n {UTCDateTime(UTCDateTime(ref_date)+t).time}\" for t in tcks]\n",
    "    ax[Nrow-1].set_xticklabels(tcklbls)\n",
    "\n",
    "    gc.collect()\n",
    "\n",
    "    plt.show();\n",
    "    return fig\n",
    "\n",
    "fig = __makeplot();\n",
    "\n",
    "fig.savefig(config['path_to_figs']+f\"SF_BS_RU_shortterm_environmentals_{config['tbeg'].date}_{config['tend'].date}_.png\", format=\"png\", dpi=150, bbox_inches='tight')\n"
   ]
  },
  {
   "cell_type": "code",
   "execution_count": null,
   "id": "fb53bda3-1675-448b-a0d5-d6833708f591",
   "metadata": {
    "tags": []
   },
   "outputs": [],
   "source": []
  }
 ],
 "metadata": {
  "kernelspec": {
   "display_name": "Python 3 (ipykernel)",
   "language": "python",
   "name": "python3"
  },
  "language_info": {
   "codemirror_mode": {
    "name": "ipython",
    "version": 3
   },
   "file_extension": ".py",
   "mimetype": "text/x-python",
   "name": "python",
   "nbconvert_exporter": "python",
   "pygments_lexer": "ipython3",
   "version": "3.9.16"
  },
  "latex_envs": {
   "LaTeX_envs_menu_present": true,
   "autoclose": false,
   "autocomplete": true,
   "bibliofile": "biblio.bib",
   "cite_by": "apalike",
   "current_citInitial": 1,
   "eqLabelWithNumbers": true,
   "eqNumInitial": 1,
   "hotkeys": {
    "equation": "Ctrl-E",
    "itemize": "Ctrl-I"
   },
   "labels_anchors": false,
   "latex_user_defs": false,
   "report_style_numbering": false,
   "user_envs_cfg": false
  },
  "toc": {
   "base_numbering": 1,
   "nav_menu": {},
   "number_sections": true,
   "sideBar": true,
   "skip_h1_title": false,
   "title_cell": "Table of Contents",
   "title_sidebar": "Contents",
   "toc_cell": false,
   "toc_position": {},
   "toc_section_display": true,
   "toc_window_display": false
  },
  "varInspector": {
   "cols": {
    "lenName": 16,
    "lenType": 16,
    "lenVar": 40
   },
   "kernels_config": {
    "python": {
     "delete_cmd_postfix": "",
     "delete_cmd_prefix": "del ",
     "library": "var_list.py",
     "varRefreshCmd": "print(var_dic_list())"
    },
    "r": {
     "delete_cmd_postfix": ") ",
     "delete_cmd_prefix": "rm(",
     "library": "var_list.r",
     "varRefreshCmd": "cat(var_dic_list()) "
    }
   },
   "types_to_exclude": [
    "module",
    "function",
    "builtin_function_or_method",
    "instance",
    "_Feature"
   ],
   "window_display": false
  }
 },
 "nbformat": 4,
 "nbformat_minor": 5
}
