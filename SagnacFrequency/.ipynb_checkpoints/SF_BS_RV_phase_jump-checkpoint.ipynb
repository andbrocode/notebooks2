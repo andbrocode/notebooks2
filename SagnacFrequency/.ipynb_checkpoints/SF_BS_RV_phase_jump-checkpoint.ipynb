{
 "cells": [
  {
   "cell_type": "markdown",
   "id": "22f5c8c9",
   "metadata": {
    "ExecuteTime": {
     "end_time": "2022-10-28T13:00:52.763484Z",
     "start_time": "2022-10-28T13:00:52.761516Z"
    }
   },
   "source": [
    "## Sagnac Frequency - Phase Jump Detection"
   ]
  },
  {
   "cell_type": "markdown",
   "id": "1cd32aed",
   "metadata": {},
   "source": [
    "..."
   ]
  },
  {
   "cell_type": "markdown",
   "id": "185b1a0b",
   "metadata": {},
   "source": [
    "## Imports"
   ]
  },
  {
   "cell_type": "code",
   "execution_count": 1,
   "id": "818caf4c",
   "metadata": {
    "ExecuteTime": {
     "end_time": "2023-06-27T08:11:10.277643Z",
     "start_time": "2023-06-27T08:11:08.781535Z"
    },
    "tags": []
   },
   "outputs": [],
   "source": [
    "import os\n",
    "import gc\n",
    "import matplotlib.pyplot as plt\n",
    "import numpy as np\n",
    "\n",
    "from datetime import datetime, date\n",
    "from pandas import DataFrame, read_pickle, date_range, concat, read_csv\n",
    "from obspy import UTCDateTime, read, Trace, Stream, read_inventory\n",
    "from scipy.signal import hilbert\n",
    "from scipy.ndimage import gaussian_filter1d\n",
    "from functions.rotate_romy_ZUV_ZNE import __rotate_romy_ZUV_ZNE\n",
    "\n",
    "from functions.get_fft import __get_fft\n",
    "from functions.multitaper_psd import __multitaper_psd\n",
    "from functions.welch_psd import __welch_psd\n",
    "from functions.reduce import __reduce\n",
    "from functions.load_backscatter_data import __load_backscatter_data\n",
    "\n",
    "from andbro__read_sds import __read_sds\n",
    "from andbro__readYaml import __readYaml\n",
    "from andbro__load_FURT_stream import __load_furt_stream"
   ]
  },
  {
   "cell_type": "code",
   "execution_count": 2,
   "id": "b83c9987",
   "metadata": {
    "ExecuteTime": {
     "end_time": "2023-06-27T08:11:10.288084Z",
     "start_time": "2023-06-27T08:11:10.284752Z"
    },
    "tags": []
   },
   "outputs": [],
   "source": [
    "if os.uname().nodename == 'lighthouse':\n",
    "    root_path = '/home/andbro/'\n",
    "    data_path = '/home/andbro/kilauea-data/'\n",
    "    archive_path = '/home/andbro/freenas/'\n",
    "    bay_path = '/home/andbro/bay200/'\n",
    "elif os.uname().nodename == 'kilauea':\n",
    "    root_path = '/home/brotzer/'\n",
    "    data_path = '/import/kilauea-data/'\n",
    "    archive_path = '/import/freenas-ffb-01-data/'\n",
    "    bay_path = '/bay200/'\n",
    "elif os.uname().nodename in ['lin-ffb-01', 'ambrym', 'hochfelln']:\n",
    "    root_path = '/home/brotzer/'\n",
    "    data_path = '/import/kilauea-data/'\n",
    "    archive_path = '/import/freenas-ffb-01-data/'\n",
    "    bay_path = '/bay200/'"
   ]
  },
  {
   "cell_type": "code",
   "execution_count": null,
   "id": "62eea053-7ff4-489c-9610-5d45e6ab8809",
   "metadata": {},
   "outputs": [],
   "source": []
  },
  {
   "cell_type": "code",
   "execution_count": null,
   "id": "6d4dc8b2-cc89-420e-a4cf-5ca715a57aa7",
   "metadata": {
    "tags": []
   },
   "outputs": [],
   "source": []
  },
  {
   "cell_type": "markdown",
   "id": "ec2578ab",
   "metadata": {},
   "source": [
    "## Configurations"
   ]
  },
  {
   "cell_type": "code",
   "execution_count": 3,
   "id": "ba83e3e7",
   "metadata": {
    "ExecuteTime": {
     "end_time": "2023-06-27T08:11:13.008382Z",
     "start_time": "2023-06-27T08:11:13.002517Z"
    },
    "tags": []
   },
   "outputs": [],
   "source": [
    "config = {}\n",
    "\n",
    "config['ring'] = \"V\"\n",
    "\n",
    "config['seed'] = f\"BW.DROMY..FJ{config['ring']}\"\n",
    "\n",
    "config['path_to_sds'] = archive_path+\"romy_archive/\"\n",
    "\n",
    "\n",
    "config['tbeg'] = UTCDateTime(\"2024-05-25 00:00\")\n",
    "config['tend'] = UTCDateTime(\"2024-05-26 00:00\")\n",
    "\n",
    "# config['tbeg'] = UTCDateTime(\"2024-05-31 00:00\")\n",
    "# config['tend'] = UTCDateTime(\"2024-06-01 00:00\")\n",
    "\n",
    "flim1, flim2 = 447.726, 447.745\n",
    "\n",
    "config['time_offset'] = 60 # seconds\n",
    "\n",
    "config['t1'] = config['tbeg']-config['time_offset']\n",
    "config['t2'] = config['tend']+config['time_offset']\n",
    "\n",
    "# specify sampling rate of rotation rate data\n",
    "config['sampling_rate'] = 20 # Hz\n",
    "\n",
    "# compute expected number of samples\n",
    "config['Nexpected'] = int((config['t2'] - config['t1']) * config['sampling_rate'])\n",
    "\n",
    "## path to Sagnac data\n",
    "config['path_to_autodata'] = archive_path+f\"romy_autodata/\"\n",
    "\n",
    "config['path_to_data'] = data_path+\"sagnac_frequency/data/backscatter/\"\n",
    "\n",
    "config['path_to_out_data'] = data_path+\"sagnac_frequency/data/\"\n",
    "\n",
    "config['path_to_figs'] = data_path+\"sagnac_frequency/figures/\"\n",
    "\n",
    "config['path_to_sds'] = archive_path+\"romy_archive/\"\n",
    "\n",
    "config['path_to_sds_out'] = archive_path+\"temp_archive/\"\n",
    "\n",
    "config['path_to_inventory'] =  data_path+\"stationxml_ringlaser/dataless/\"\n",
    "\n",
    "config['colors'] = {  1:'darkgreen',\n",
    "                      3:'lightgreen',\n",
    "                      4:'purple',\n",
    "                      5:'darkred',\n",
    "                      6:'darkblue',\n",
    "                      7:'darkorange',\n",
    "                      8:'darkcyan',\n",
    "                      9:'cyan',\n",
    "                     }"
   ]
  },
  {
   "cell_type": "markdown",
   "id": "12ef7747-2cb6-4561-bfe3-ccd226aae9dc",
   "metadata": {
    "tags": []
   },
   "source": [
    "### Load backscatter data"
   ]
  },
  {
   "cell_type": "code",
   "execution_count": 4,
   "id": "5d8a5d06-0406-40f2-865b-93ad62f11e51",
   "metadata": {
    "tags": []
   },
   "outputs": [],
   "source": [
    "bs = __load_backscatter_data(config['tbeg'], config['tend'], config['ring'], config['path_to_data'])\n",
    "\n",
    "bs['time_sec'] = bs.time2 - bs.time1 + (bs.time1 - bs.time1.loc[0])"
   ]
  },
  {
   "cell_type": "markdown",
   "id": "1344bdce-6bb9-4f60-a91c-b04fb73b6ea8",
   "metadata": {
    "tags": []
   },
   "source": [
    "### Load rotation rate data"
   ]
  },
  {
   "cell_type": "code",
   "execution_count": 5,
   "id": "0f666de6-8251-43cf-b00c-5fd53458d82b",
   "metadata": {
    "tags": []
   },
   "outputs": [],
   "source": [
    "romy_inv = read_inventory(config['path_to_inventory']+\"dataless.seed.BW_ROMY\")"
   ]
  },
  {
   "cell_type": "code",
   "execution_count": 105,
   "id": "135aa035-a145-4a8f-8052-b13532a7a2c8",
   "metadata": {
    "tags": []
   },
   "outputs": [
    {
     "name": "stdout",
     "output_type": "stream",
     "text": [
      "6 Trace(s) in Stream:\n",
      "BW.ROMY.10.BJZ | 2024-05-24T23:59:00.009799Z - 2024-05-26T00:01:00.009799Z | 20.0 Hz, 1730401 samples\n",
      "BW.ROMY..BJU   | 2024-05-24T23:58:59.989000Z - 2024-05-25T06:37:56.339000Z | 20.0 Hz, 478728 samples\n",
      "BW.ROMY..BJU   | 2024-05-25T06:38:00.138201Z - 2024-05-25T19:12:59.638201Z | 20.0 Hz, 905991 samples\n",
      "BW.ROMY..BJU   | 2024-05-25T19:13:01.562799Z - 2024-05-26T00:01:00.012799Z | 20.0 Hz, 345570 samples\n",
      "BW.ROMY..BJV   | 2024-05-24T23:59:00.019599Z - 2024-05-25T09:48:44.369599Z | 20.0 Hz, 707688 samples\n",
      "BW.ROMY..BJV   | 2024-05-25T09:48:45.644199Z - 2024-05-26T00:00:59.994199Z | 20.0 Hz, 1022688 samples\n",
      " -> merging required!\n"
     ]
    },
    {
     "data": {
      "text/plain": [
       "3 Trace(s) in Stream:\n",
       "BW.ROMY..BJU   | 2024-05-24T23:58:59.989000Z - 2024-05-26T00:00:59.989000Z | 20.0 Hz, 1730401 samples\n",
       "BW.ROMY..BJV   | 2024-05-24T23:59:00.019599Z - 2024-05-26T00:00:59.969599Z | 20.0 Hz, 1730400 samples\n",
       "BW.ROMY.10.BJZ | 2024-05-24T23:59:00.009799Z - 2024-05-26T00:01:00.009799Z | 20.0 Hz, 1730401 samples"
      ]
     },
     "execution_count": 105,
     "metadata": {},
     "output_type": "execute_result"
    },
    {
     "name": "stdout",
     "output_type": "stream",
     "text": [
      "3 Trace(s) in Stream:\n",
      "BW.ROMY..BJU   | 2024-05-24T23:58:59.989000Z - 2024-05-26T00:00:59.989000Z | 20.0 Hz, 1730401 samples\n",
      "BW.ROMY..BJV   | 2024-05-24T23:59:00.019599Z - 2024-05-26T00:00:59.969599Z | 20.0 Hz, 1730400 samples\n",
      "BW.ROMY.10.BJZ | 2024-05-24T23:59:00.009799Z - 2024-05-26T00:01:00.009799Z | 20.0 Hz, 1730401 samples\n"
     ]
    },
    {
     "data": {
      "text/plain": [
       "3 Trace(s) in Stream:\n",
       "BW.ROMY..BJU   | 2024-05-24T23:58:59.989000Z - 2024-05-26T00:00:59.939000Z | 20.0 Hz, 1730400 samples\n",
       "BW.ROMY..BJV   | 2024-05-24T23:59:00.019599Z - 2024-05-26T00:00:59.969599Z | 20.0 Hz, 1730400 samples\n",
       "BW.ROMY.10.BJZ | 2024-05-24T23:59:00.009799Z - 2024-05-26T00:00:59.959799Z | 20.0 Hz, 1730400 samples"
      ]
     },
     "execution_count": 105,
     "metadata": {},
     "output_type": "execute_result"
    }
   ],
   "source": [
    "st0 = Stream()\n",
    "\n",
    "st0 += __read_sds(config['path_to_sds'], \"BW.ROMY.10.BJZ\", config['t1'], config['t2'])\n",
    "st0 += __read_sds(config['path_to_sds'], \"BW.ROMY..BJU\", config['t1'], config['t2'])\n",
    "st0 += __read_sds(config['path_to_sds'], \"BW.ROMY..BJV\", config['t1'], config['t2'])\n",
    "\n",
    "# remove sensitivity\n",
    "st0 = st0.remove_sensitivity(romy_inv)\n",
    "\n",
    "print(st0)\n",
    "\n",
    "# check if merging is required\n",
    "if len(st0) > 3:\n",
    "    print(f\" -> merging required!\")\n",
    "    st0.merge(fill_value=\"interpolate\")\n",
    "\n",
    "print(st0)\n",
    "\n",
    "# remove trend\n",
    "st0 = st0.detrend(\"linear\")\n",
    "\n",
    "# check if data has same length\n",
    "for tr in st0:\n",
    "    Nreal = len(tr.data)\n",
    "    if Nreal != config['Nexpected']:\n",
    "        tr.data = tr.data[:config['Nexpected']]\n",
    "        # print(f\" -> adjust length: {tr.stats.station}.{tr.stats.channel}:  {Nreal} -> {config['Nexpected']}\")\n",
    "\n",
    "# st0 = __rotate_romy_ZUV_ZNE(st0, romy_inv, keep_z=True)\n",
    "\n",
    "# st0 = st0.trim(config['tbeg'], config['tend'])\n",
    "\n",
    "st0"
   ]
  },
  {
   "cell_type": "code",
   "execution_count": 7,
   "id": "4a1bc3d4-93ea-4f49-a3be-1317e1d6ac1f",
   "metadata": {
    "tags": []
   },
   "outputs": [
    {
     "data": {
      "image/png": "[encoded data removed]",
      "text/plain": [
       "<Figure size 800x750 with 3 Axes>"
      ]
     },
     "metadata": {},
     "output_type": "display_data"
    }
   ],
   "source": [
    "st0.plot(equal_scale=False);"
   ]
  },
  {
   "cell_type": "code",
   "execution_count": 8,
   "id": "6418fa30-105d-487f-82a5-9f45d6c24437",
   "metadata": {
    "tags": []
   },
   "outputs": [],
   "source": [
    "def get_phase_jumps(arr, times, LT, ST, amp_threshold, plot=True):\n",
    "\n",
    "    import numpy as np\n",
    "    from scipy.signal import hilbert\n",
    "    from functions.smoothing import __smooth\n",
    "\n",
    "    def sta_lta_detect(_data, threshold_upper, threshold_lower=None):\n",
    "\n",
    "        N = len(_data)\n",
    "\n",
    "        detection = np.ones(N)\n",
    "        ratio = np.zeros(N)\n",
    "\n",
    "        triggered = False\n",
    "        for n in range(N):\n",
    "\n",
    "            if n < LT:\n",
    "                continue\n",
    "\n",
    "            # compupte LTA, STA and ratio\n",
    "            LTA = np.nanmean(abs(_data[n-int(LT):n]))\n",
    "            STA = np.nanmean(abs(_data[n-int(ST):n]))\n",
    "            ratio[n] = abs(STA-LTA)\n",
    "\n",
    "            if triggered and ratio[n] > threshold_lower and threshold_lower is not None:\n",
    "                detection[n] = 0\n",
    "                continue\n",
    "            else:\n",
    "                triggered = False\n",
    "\n",
    "            if ratio[n] > threshold_upper and threshold_lower is not None:\n",
    "                detection[n] = np.nan\n",
    "                detection[n-1] = np.nan\n",
    "                triggered = True\n",
    "\n",
    "        # detect events based on threshold\n",
    "        for n, a in enumerate(ratio):\n",
    "            if a > threshold_upper:\n",
    "                detection[n] = np.nan\n",
    "                detection[n-1] = np.nan\n",
    "\n",
    "        return detection, ratio\n",
    "\n",
    "\n",
    "    amp_threshold_lower = 0.5\n",
    "\n",
    "    # dpha = __smooth(dpha, 10)\n",
    "\n",
    "    # 1st derivative of amplitude\n",
    "    damp = np.gradient(arr)\n",
    "\n",
    "    # 2nd derivative\n",
    "    # damp = np.gradient(damp)\n",
    "\n",
    "    # absolute values\n",
    "    damp = abs(damp)\n",
    "\n",
    "    detect, amp_ratio = sta_lta_detect(damp, amp_threshold)\n",
    "\n",
    "    if plot:\n",
    "\n",
    "        import matplotlib.pyplot as plt\n",
    "\n",
    "        Nrow, Ncol = 2, 1\n",
    "\n",
    "        font = 12\n",
    "\n",
    "        fig, ax = plt.subplots(Nrow, Ncol, figsize=(12, 5), sharex=True)\n",
    "\n",
    "        plt.subplots_adjust(hspace=0.1)\n",
    "\n",
    "        ax[0].plot(times, arr)\n",
    "        ax[0].plot(times, arr*np.array(detect))\n",
    "\n",
    "        ax[1].plot(times, amp_ratio, \"k\")\n",
    "        ax[1].axhline(amp_threshold, color=\"darkred\", alpha=0.5, ls=\"--\")\n",
    "        ax[1].set_ylim(0, 3*amp_threshold)\n",
    "\n",
    "        for _k in range(Nrow):\n",
    "            ax[_k].grid(which=\"both\", ls=\"--\", color=\"grey\", alpha=0.5, zorder=0)\n",
    "\n",
    "        for _n, d in enumerate(detect):\n",
    "            if np.isnan(d):\n",
    "                ax[0].axvline(times[_n], 0, np.nanmax(arr)*2, color=\"grey\", alpha=0.2, zorder=1)\n",
    "                ax[1].axvline(times[_n], 0, 10, color=\"grey\", alpha=0.2, zorder=1)\n",
    "\n",
    "        plt.show();\n",
    "\n",
    "    # change detections to one and everything else to zero\n",
    "    detect2 = abs(np.nan_to_num(detect, 0) - 1)\n",
    "\n",
    "    return np.array(amp_ratio), np.array(detect2)"
   ]
  },
  {
   "cell_type": "code",
   "execution_count": 9,
   "id": "71a1a0c4-cc26-490b-8ce4-137b7b27ba2e",
   "metadata": {
    "tags": []
   },
   "outputs": [
    {
     "data": {
      "image/png": "[encoded data removed]",
      "text/plain": [
       "<Figure size 1200x500 with 2 Axes>"
      ]
     },
     "metadata": {},
     "output_type": "display_data"
    }
   ],
   "source": [
    "# x1 = 1000\n",
    "# x2 = x1+6000\n",
    "\n",
    "# data0 = np.array(bs.fj_fs[x1:x2])\n",
    "# time0 = np.array(bs.time_sec[x1:x2])\n",
    "\n",
    "data0 = np.array(bs.fj_fs)\n",
    "time0 = np.array(bs.time_sec)\n",
    "\n",
    "ratio, detect = get_phase_jumps(data0, time0, 10, 3, amp_threshold=0.00008)"
   ]
  },
  {
   "cell_type": "code",
   "execution_count": 10,
   "id": "0035a00e-69d9-44e5-a060-caf370b9a8fb",
   "metadata": {
    "tags": []
   },
   "outputs": [],
   "source": [
    "# n = st0.select(component=\"U\")[0].data\n",
    "# ntime = st0.select(component=\"U\")[0].times()\n",
    "\n",
    "# # ratio, detect = get_phase_jumps(n, ntime, 10, 3, amp_threshold=0.0001)"
   ]
  },
  {
   "cell_type": "code",
   "execution_count": 11,
   "id": "c8277f56-754a-461c-a709-d50b100cc7ce",
   "metadata": {
    "tags": []
   },
   "outputs": [],
   "source": [
    "mask1 = np.where(detect == 1, bs.time1, np.nan)\n",
    "mask2 = np.where(detect == 1, bs.time2, np.nan)\n",
    "\n",
    "mask_df = DataFrame()\n",
    "mask_df['mask1'] = mask1\n",
    "mask_df['mask2'] = mask2\n",
    "\n",
    "mask_df = mask_df.dropna()\n",
    "\n",
    "mask1 = np.array(mask_df.mask1)\n",
    "mask2 = np.array(mask_df.mask2)"
   ]
  },
  {
   "cell_type": "code",
   "execution_count": 12,
   "id": "601388da-6196-4dfc-89b6-ba6ed3f9f0f3",
   "metadata": {
    "tags": []
   },
   "outputs": [],
   "source": [
    "def __get_trace(seed):\n",
    "\n",
    "    from obspy import Trace\n",
    "    from numpy import zeros\n",
    "\n",
    "    net, sta, loc, cha = seed.split('.')\n",
    "\n",
    "    trr = Trace()\n",
    "    trr.stats.starttime = config['t1']\n",
    "    trr.data = zeros(config['Nexpected'])\n",
    "    trr.stats.network = net\n",
    "    trr.stats.station = sta\n",
    "    trr.stats.location = loc\n",
    "    trr.stats.channel = cha\n",
    "    trr.stats.sampling_rate = config['sampling_rate']\n",
    "\n",
    "    return trr"
   ]
  },
  {
   "cell_type": "code",
   "execution_count": 13,
   "id": "3e07b849-bdd6-4da1-9ba8-7a002d138f1a",
   "metadata": {
    "tags": []
   },
   "outputs": [],
   "source": [
    "def __mlti_intervals_to_zero(dat, times, mlti_t1, mlti_t2, t_offset_sec=120):\n",
    "\n",
    "    from numpy import nan, where, full, array\n",
    "\n",
    "    dat = array(dat)\n",
    "\n",
    "    mask = full((len(times)), 0, dtype=int)\n",
    "\n",
    "    idx = 0\n",
    "    for nn, tt in enumerate(times):\n",
    "\n",
    "        if idx >= len(mlti_t1):\n",
    "            continue\n",
    "        else:\n",
    "            t1, t2 = (mlti_t1[idx]-t_offset_sec), (mlti_t2[idx]+t_offset_sec)\n",
    "\n",
    "        if tt >= t1:\n",
    "            mask[nn] = 1\n",
    "        if tt > t2:\n",
    "            idx += 1\n",
    "\n",
    "    dat = where(mask == 1, 1, dat)\n",
    "\n",
    "    return dat"
   ]
  },
  {
   "cell_type": "code",
   "execution_count": 14,
   "id": "f453be0d-6718-4404-b562-8d1038f3a71a",
   "metadata": {
    "tags": []
   },
   "outputs": [],
   "source": [
    "import obspy as obs\n",
    "\n",
    "tr_maskV = __get_trace(\"BW.ROMY.30.MLT\")\n",
    "\n",
    "tr_maskV.data = __mlti_intervals_to_zero(tr_maskV.data,\n",
    "                                         tr_maskV.times(reftime=config['t1'], type=\"utcdatetime\"),\n",
    "                                         mask1,\n",
    "                                         mask2,\n",
    "                                         t_offset_sec=60,\n",
    "                                         )"
   ]
  },
  {
   "cell_type": "code",
   "execution_count": 15,
   "id": "f7ab7a55-faa6-4ddd-b79d-4d83e4709b98",
   "metadata": {
    "tags": []
   },
   "outputs": [
    {
     "data": {
      "image/png": "[encoded data removed]",
      "text/plain": [
       "<Figure size 800x250 with 1 Axes>"
      ]
     },
     "metadata": {},
     "output_type": "display_data"
    }
   ],
   "source": [
    "tr_maskV.plot();"
   ]
  },
  {
   "cell_type": "code",
   "execution_count": 16,
   "id": "6c91d74a-9d7d-4241-a96a-8a88fe106eae",
   "metadata": {
    "tags": []
   },
   "outputs": [
    {
     "data": {
      "image/png": "[encoded data removed]",
      "text/plain": [
       "<Figure size 800x750 with 3 Axes>"
      ]
     },
     "metadata": {},
     "output_type": "display_data"
    },
    {
     "data": {
      "image/png": "[encoded data removed]",
      "text/plain": [
       "<Figure size 800x750 with 3 Axes>"
      ]
     },
     "execution_count": 16,
     "metadata": {},
     "output_type": "execute_result"
    }
   ],
   "source": [
    "import numpy.ma as ma\n",
    "\n",
    "st0.select(component=\"V\")[0].data = ma.masked_array(st0.select(component=\"V\")[0].data,\n",
    "                                                    mask=tr_maskV.data,\n",
    "                                                    fill_value=np.nan\n",
    "                                                   )\n",
    "\n",
    "st0.plot(equal_scale=False)"
   ]
  },
  {
   "cell_type": "code",
   "execution_count": null,
   "id": "9651a411-aefd-4be4-9965-dfd875ace742",
   "metadata": {},
   "outputs": [],
   "source": []
  },
  {
   "cell_type": "code",
   "execution_count": 299,
   "id": "aba6a2df-7f0e-4cc0-9b53-559e9ed47d35",
   "metadata": {
    "tags": []
   },
   "outputs": [
    {
     "data": {
      "text/plain": [
       "[<matplotlib.lines.Line2D at 0x7fa2caf62d00>]"
      ]
     },
     "execution_count": 299,
     "metadata": {},
     "output_type": "execute_result"
    },
    {
     "data": {
      "image/png": "[encoded data removed]",
      "text/plain": [
       "<Figure size 640x480 with 1 Axes>"
      ]
     },
     "metadata": {},
     "output_type": "display_data"
    }
   ],
   "source": [
    "x1 = int(5*3600*20)\n",
    "x2 = x1+int(2*3600*20)\n",
    "\n",
    "V = st0.select(component=\"V\")[0].data[x1:x2]\n",
    "Vtime = st0.select(component=\"V\")[0].times()[x1:x2]\n",
    "\n",
    "V = st0.select(component=\"V\")[0].data\n",
    "Vtime = st0.select(component=\"V\")[0].times()\n",
    "\n",
    "plt.plot(V)\n",
    "\n",
    "# test, tt, yy, ii = __get_phase_jumps(V, Vtime, fraction_of_pi=2, plot=True)\n"
   ]
  },
  {
   "cell_type": "code",
   "execution_count": 260,
   "id": "197d1361-030e-4acb-8471-51c67cd29fe3",
   "metadata": {
    "tags": []
   },
   "outputs": [],
   "source": []
  },
  {
   "cell_type": "code",
   "execution_count": 300,
   "id": "fa0110d8-89d4-4f52-8346-628b70d9ae53",
   "metadata": {
    "tags": []
   },
   "outputs": [],
   "source": [
    "import numpy as np\n",
    "\n",
    "def masking(img, n=3, method='mean', stats=[None, None]):\n",
    "    '''\n",
    "    Search for outlayer pixels with a value lower/larger\n",
    "    than the mean/median/other ± n × std\n",
    "    '''\n",
    "    if method.lower() == 'average':\n",
    "        avg, std = stats[0], stats[1]\n",
    "    elif method == 'mean':\n",
    "        avg, std = np.nanmean(img), np.nanstd(img)\n",
    "    elif method == 'median':\n",
    "        avg, std = np.nanmedian(img), np.nanstd(img)\n",
    "    return (img < (avg - n * std)) | (img > (avg + n * std))\n",
    "\n",
    "def box(A, i, j, size=1, nan=False):\n",
    "    '''\n",
    "    Extract the box (subarray) around (i,j) value inside\n",
    "    a box of size `size` and replace the centrale\n",
    "    value by NaN if necessary [option].\n",
    "    '''\n",
    "    if not isinstance(A, (list, np.ndarray)):\n",
    "        raise TypeError(\n",
    "            'The input must be an array. {} provided'.format(type(A)))\n",
    "\n",
    "    ny, nx = A.shape\n",
    "    if i < 0:\n",
    "        raise ValueError('Line index `i` must be ≥ 0')\n",
    "    if j < 0:\n",
    "        raise ValueError('Column index `j` must be ≥ 0')\n",
    "    if i >= nx:\n",
    "        raise ValueError('Line index `i` must be < {}'.format(nx))\n",
    "    if j >= ny:\n",
    "        raise ValueError('Column index `j` must be < {}'.format(ny))\n",
    "\n",
    "    if not isinstance(size, int):\n",
    "        raise TypeError('Size must be an int')\n",
    "    if size < 1:\n",
    "        raise ValueError('The box size must be ≥ 1')\n",
    "\n",
    "    if nan:\n",
    "        # The change of type is required to store a NaN\n",
    "        A = np.array(A, dtype=np.double)\n",
    "        A[j, i] = np.nan\n",
    "\n",
    "    l = i - size if i - size > 0 else 0\n",
    "    r = i + size if i + size < nx else nx\n",
    "    t = j - size if j - size > 0 else 0\n",
    "    b = j + size if j + size < ny else ny\n",
    "\n",
    "    return A[t:b+1, l:r+1]\n",
    "\n",
    "def mean(A):\n",
    "    return np.nanmean(A), np.nanstd(A)\n",
    "\n",
    "def median(A):\n",
    "    return np.nanmedian(A), np.nanstd(A)\n",
    "\n",
    "def spikes(img, method='mean', size=2, n=3, thres):\n",
    "    '''\n",
    "    Search spikes in the image using a moving box\n",
    "    of size `size` using `method` method with ± n × std\n",
    "    '''\n",
    "    if method.lower() == 'mean':\n",
    "        mask = mean\n",
    "    elif method.lower() == 'median':\n",
    "        mask = median\n",
    "    elif method.lower() == 'average':\n",
    "        mask = None\n",
    "        m, s = np.median(img), np.nanstd(img)\n",
    "        if s < 1e-8:\n",
    "            s = 1e-8\n",
    "    else:\n",
    "        raise ValueError(\"The masking method must be '[mean|median]\")\n",
    "\n",
    "    # s = np.nanpercentile(abs(img), 98)\n",
    "\n",
    "    ny, nx = img.shape\n",
    "    _spikes = np.zeros((ny, nx))\n",
    "    for i in range(nx):\n",
    "        for j in range(ny):\n",
    "            m, s = mask(box(img, i, j, size, nan=True))\n",
    "\n",
    "            if thres is not None:\n",
    "                # set threshold\n",
    "                s = thres\n",
    "\n",
    "            if img[j, i] < m - n * s or img[j, i] > m + n * s:\n",
    "                _spikes[j, i] = 1\n",
    "\n",
    "    return _spikes == 1\n",
    "\n",
    "def fill(img, mask, method='mean', size=1):\n",
    "    '''\n",
    "    Fill the masked pixels with the mean value of\n",
    "    surrounding neighboors inside a box of size `size`\n",
    "    '''\n",
    "    if img.shape != mask.shape:\n",
    "        raise ValueError('Image and outlayers mask must have the same dimentsion: {} vs. {}'.format(\n",
    "            img.shape, mask.shape\n",
    "        ))\n",
    "\n",
    "    if method.lower() == 'mean':\n",
    "        f = np.nanmean\n",
    "    elif method.lower() == 'median':\n",
    "        f = np.nanmedian\n",
    "    elif method.lower() == 'nan':\n",
    "        f = np.nanmedian\n",
    "    else:\n",
    "        raise ValueError(\"The filling method must be '[mean|median]\")\n",
    "\n",
    "    A = np.copy(img)\n",
    "    ny, nx = A.shape\n",
    "    x, y = np.meshgrid(range(nx), range(ny))\n",
    "\n",
    "    for x, y in zip(x[mask], y[mask]):\n",
    "        A[y, x] = f(box(A, x, y, size=size, nan=True))\n",
    "        # if method.lower() == 'nan':\n",
    "        #     A *= np.nan\n",
    "        #     print(A, type(A))\n",
    "    return A\n",
    "\n",
    "\n",
    "def clean(img, mask='mean', size=2, n=3, fill_method='median', fill_size=1, thres=None):\n",
    "    '''\n",
    "    Clean image from spikes with the `fill_method` method with surrounding\n",
    "    neighboors inside a box of size `fill_size`.\n",
    "    '''\n",
    "\n",
    "    # use absolute of image (seismic data)\n",
    "    aimg = abs(img)\n",
    "\n",
    "    return fill(img, spikes(aimg, mask, size, n), fill_method, fill_size, thres), spikes(aimg, mask, size, n)\n",
    "\n",
    "def signal_to_image(arr):\n",
    "    '''\n",
    "    1d signal to square image\n",
    "    '''\n",
    "    # estimate size of square image\n",
    "    N = int(np.ceil(np.sqrt(len(arr))))\n",
    "\n",
    "    # compute difference required for square image\n",
    "    Npad = N**2 - len(arr)\n",
    "\n",
    "    # pad additional values with last value of signal\n",
    "    _pad = np.append(arr, np.ones(Npad)*arr[-1])\n",
    "\n",
    "    # reshape to square image\n",
    "    img = _pad.reshape(N, N)\n",
    "\n",
    "    return img, Npad\n",
    "\n",
    "def image_to_signal(img, pad=0):\n",
    "    '''\n",
    "    reshape image to 1d signal\n",
    "    '''\n",
    "    return img.reshape(1, img.size)[0][:-pad]\n",
    "\n",
    "\n",
    "def get_mask(spikes):\n",
    "    '''\n",
    "    modify 1d spikes to mask\n",
    "    '''\n",
    "    mask = np.where(spikes > 0, -1, spikes)\n",
    "    mask = np.where(mask == 0, 1, mask)\n",
    "    mask = np.where(mask < 0, np.nan, mask)\n",
    "    return mask\n",
    "\n",
    "def smooth(y, npts):\n",
    "    '''\n",
    "    moving average of 1d signal for n samples\n",
    "    '''\n",
    "    win = np.hanning(npts)\n",
    "    y_smooth = np.convolve(y, win/np.sum(win), mode='same')\n",
    "    y_smooth[:npts//2] = np.nan\n",
    "    y_smooth[-npts//2:] = np.nan\n",
    "    return y_smooth\n"
   ]
  },
  {
   "cell_type": "code",
   "execution_count": 301,
   "id": "67600aa1-34a2-43f2-a5ff-dcc69a5e9006",
   "metadata": {
    "tags": []
   },
   "outputs": [
    {
     "ename": "KeyboardInterrupt",
     "evalue": "",
     "output_type": "error",
     "traceback": [
      "\u001b[0;31m---------------------------------------------------------------------------\u001b[0m",
      "\u001b[0;31mKeyboardInterrupt\u001b[0m                         Traceback (most recent call last)",
      "Cell \u001b[0;32mIn[301], line 8\u001b[0m\n\u001b[1;32m      5\u001b[0m aVimg \u001b[38;5;241m=\u001b[39m \u001b[38;5;28mabs\u001b[39m(Vimg)\n\u001b[1;32m      7\u001b[0m \u001b[38;5;66;03m# find spikes\u001b[39;00m\n\u001b[0;32m----> 8\u001b[0m Vimg_clean, Vimg_spikes \u001b[38;5;241m=\u001b[39m \u001b[43mclean\u001b[49m\u001b[43m(\u001b[49m\u001b[43mVimg\u001b[49m\u001b[43m,\u001b[49m\u001b[43m \u001b[49m\u001b[43mmask\u001b[49m\u001b[38;5;241;43m=\u001b[39;49m\u001b[38;5;124;43m'\u001b[39;49m\u001b[38;5;124;43mmedian\u001b[39;49m\u001b[38;5;124;43m'\u001b[39;49m\u001b[43m,\u001b[49m\u001b[43m \u001b[49m\u001b[43msize\u001b[49m\u001b[38;5;241;43m=\u001b[39;49m\u001b[38;5;241;43m5\u001b[39;49m\u001b[43m,\u001b[49m\u001b[43m \u001b[49m\u001b[43mn\u001b[49m\u001b[38;5;241;43m=\u001b[39;49m\u001b[38;5;241;43m5\u001b[39;49m\u001b[43m,\u001b[49m\u001b[43m \u001b[49m\u001b[43mfill_method\u001b[49m\u001b[38;5;241;43m=\u001b[39;49m\u001b[38;5;124;43m'\u001b[39;49m\u001b[38;5;124;43mmedian\u001b[39;49m\u001b[38;5;124;43m'\u001b[39;49m\u001b[43m,\u001b[49m\u001b[43m \u001b[49m\u001b[43mfill_size\u001b[49m\u001b[38;5;241;43m=\u001b[39;49m\u001b[38;5;241;43m2\u001b[39;49m\u001b[43m)\u001b[49m\n\u001b[1;32m     10\u001b[0m \u001b[38;5;66;03m# turn image to signal\u001b[39;00m\n\u001b[1;32m     11\u001b[0m V_filt \u001b[38;5;241m=\u001b[39m image_to_signal(Vimg_clean, pad\u001b[38;5;241m=\u001b[39mNpad)\n",
      "Cell \u001b[0;32mIn[300], line 132\u001b[0m, in \u001b[0;36mclean\u001b[0;34m(img, mask, size, n, fill_method, fill_size)\u001b[0m\n\u001b[1;32m    129\u001b[0m \u001b[38;5;66;03m# use absolute of image (seismic data)\u001b[39;00m\n\u001b[1;32m    130\u001b[0m aimg \u001b[38;5;241m=\u001b[39m \u001b[38;5;28mabs\u001b[39m(img)\n\u001b[0;32m--> 132\u001b[0m \u001b[38;5;28;01mreturn\u001b[39;00m fill(img, \u001b[43mspikes\u001b[49m\u001b[43m(\u001b[49m\u001b[43maimg\u001b[49m\u001b[43m,\u001b[49m\u001b[43m \u001b[49m\u001b[43mmask\u001b[49m\u001b[43m,\u001b[49m\u001b[43m \u001b[49m\u001b[43msize\u001b[49m\u001b[43m,\u001b[49m\u001b[43m \u001b[49m\u001b[43mn\u001b[49m\u001b[43m)\u001b[49m, fill_method, fill_size), spikes(aimg, mask, size, n)\n",
      "Cell \u001b[0;32mIn[300], line 82\u001b[0m, in \u001b[0;36mspikes\u001b[0;34m(img, method, size, n)\u001b[0m\n\u001b[1;32m     80\u001b[0m \u001b[38;5;28;01mfor\u001b[39;00m i \u001b[38;5;129;01min\u001b[39;00m \u001b[38;5;28mrange\u001b[39m(nx):\n\u001b[1;32m     81\u001b[0m     \u001b[38;5;28;01mfor\u001b[39;00m j \u001b[38;5;129;01min\u001b[39;00m \u001b[38;5;28mrange\u001b[39m(ny):\n\u001b[0;32m---> 82\u001b[0m         m, s \u001b[38;5;241m=\u001b[39m mask(\u001b[43mbox\u001b[49m\u001b[43m(\u001b[49m\u001b[43mimg\u001b[49m\u001b[43m,\u001b[49m\u001b[43m \u001b[49m\u001b[43mi\u001b[49m\u001b[43m,\u001b[49m\u001b[43m \u001b[49m\u001b[43mj\u001b[49m\u001b[43m,\u001b[49m\u001b[43m \u001b[49m\u001b[43msize\u001b[49m\u001b[43m,\u001b[49m\u001b[43m \u001b[49m\u001b[43mnan\u001b[49m\u001b[38;5;241;43m=\u001b[39;49m\u001b[38;5;28;43;01mTrue\u001b[39;49;00m\u001b[43m)\u001b[49m)\n\u001b[1;32m     84\u001b[0m         \u001b[38;5;66;03m# set threshold\u001b[39;00m\n\u001b[1;32m     85\u001b[0m         s \u001b[38;5;241m=\u001b[39m \u001b[38;5;241m1e-8\u001b[39m\n",
      "Cell \u001b[0;32mIn[300], line 43\u001b[0m, in \u001b[0;36mbox\u001b[0;34m(A, i, j, size, nan)\u001b[0m\n\u001b[1;32m     39\u001b[0m     \u001b[38;5;28;01mraise\u001b[39;00m \u001b[38;5;167;01mValueError\u001b[39;00m(\u001b[38;5;124m'\u001b[39m\u001b[38;5;124mThe box size must be ≥ 1\u001b[39m\u001b[38;5;124m'\u001b[39m)\n\u001b[1;32m     41\u001b[0m \u001b[38;5;28;01mif\u001b[39;00m nan:\n\u001b[1;32m     42\u001b[0m     \u001b[38;5;66;03m# The change of type is required to store a NaN\u001b[39;00m\n\u001b[0;32m---> 43\u001b[0m     A \u001b[38;5;241m=\u001b[39m \u001b[43mnp\u001b[49m\u001b[38;5;241;43m.\u001b[39;49m\u001b[43marray\u001b[49m\u001b[43m(\u001b[49m\u001b[43mA\u001b[49m\u001b[43m,\u001b[49m\u001b[43m \u001b[49m\u001b[43mdtype\u001b[49m\u001b[38;5;241;43m=\u001b[39;49m\u001b[43mnp\u001b[49m\u001b[38;5;241;43m.\u001b[39;49m\u001b[43mdouble\u001b[49m\u001b[43m)\u001b[49m\n\u001b[1;32m     44\u001b[0m     A[j, i] \u001b[38;5;241m=\u001b[39m np\u001b[38;5;241m.\u001b[39mnan\n\u001b[1;32m     46\u001b[0m l \u001b[38;5;241m=\u001b[39m i \u001b[38;5;241m-\u001b[39m size \u001b[38;5;28;01mif\u001b[39;00m i \u001b[38;5;241m-\u001b[39m size \u001b[38;5;241m>\u001b[39m \u001b[38;5;241m0\u001b[39m \u001b[38;5;28;01melse\u001b[39;00m \u001b[38;5;241m0\u001b[39m\n",
      "\u001b[0;31mKeyboardInterrupt\u001b[0m: "
     ]
    }
   ],
   "source": [
    "# get image for signal\n",
    "Vimg, Npad = signal_to_image(V)\n",
    "\n",
    "# get absolute image\n",
    "aVimg = abs(Vimg)\n",
    "\n",
    "# find spikes\n",
    "Vimg_clean, Vimg_spikes = clean(Vimg, mask='median', size=5, n=5, fill_method='median', fill_size=2, thres=1e-8)\n",
    "\n",
    "# turn image to signal\n",
    "V_filt = image_to_signal(Vimg_clean, pad=Npad)\n",
    "spikes = image_to_signal(Vimg_spikes, pad=Npad)\n",
    "\n",
    "# create mask from spikes\n",
    "mask = get_mask(spikes)\n",
    "\n",
    "# smooth mask\n",
    "mask_smooth = smooth(mask, 10)\n",
    "\n",
    "# apply mask\n",
    "V_masked = V * mask_smooth\n"
   ]
  },
  {
   "cell_type": "code",
   "execution_count": null,
   "id": "8406373d-7439-4fdf-b9b0-64ec66ec7166",
   "metadata": {
    "tags": []
   },
   "outputs": [],
   "source": [
    "import matplotlib.pyplot as plt\n",
    "\n",
    "from matplotlib.gridspec import GridSpec\n",
    "\n",
    "fig = plt.figure(layout=\"constrained\", figsize=(15, 10))\n",
    "\n",
    "gs = GridSpec(3, 3, figure=fig)\n",
    "\n",
    "ax1 = fig.add_subplot(gs[:1, :])\n",
    "ax2 = fig.add_subplot(gs[1, 0:1])\n",
    "ax3 = fig.add_subplot(gs[1, 1:2])\n",
    "ax4 = fig.add_subplot(gs[1, 2:3])\n",
    "\n",
    "# fig.suptitle(\"GridSpec\")\n",
    "\n",
    "cmap1 = plt.get_cmap('viridis')\n",
    "\n",
    "ax1.plot(V)\n",
    "ax1.plot(V_masked)\n",
    "\n",
    "ax2.imshow(aVimg, cmap=cmap1, vmin=0, vmax=max(aVimg.reshape(aVimg.shape[0]*aVimg.shape[1])))\n",
    "ax3.imshow(Vimg_spikes, cmap=plt.get_cmap('gray'))\n",
    "ax4.imshow(aVimg*Vimg_spikes, cmap=cmap1, vmin=0, vmax=max(aVimg.reshape(aVimg.shape[0]*aVimg.shape[1])))\n",
    "\n",
    "# ax0.set_title('Original image')\n",
    "# ax1.set_title('Median mask')\n",
    "# ax2.set_title('Median image')\n",
    "\n",
    "plt.show();"
   ]
  },
  {
   "cell_type": "code",
   "execution_count": 275,
   "id": "9b06d954-acf8-4c70-b2f9-b568615415a0",
   "metadata": {
    "tags": []
   },
   "outputs": [],
   "source": []
  },
  {
   "cell_type": "code",
   "execution_count": null,
   "id": "57e6b70b-0104-41ca-81cc-e5063dae7af5",
   "metadata": {
    "tags": []
   },
   "outputs": [],
   "source": []
  },
  {
   "cell_type": "code",
   "execution_count": null,
   "id": "b05883dd-0e00-4c8d-9843-62dfea8db41b",
   "metadata": {},
   "outputs": [],
   "source": []
  },
  {
   "cell_type": "code",
   "execution_count": 114,
   "id": "beb2332f-c762-4c71-a69e-e084f5066e38",
   "metadata": {
    "tags": []
   },
   "outputs": [
    {
     "data": {
      "text/plain": [
       "<matplotlib.image.AxesImage at 0x7fa2d291f340>"
      ]
     },
     "execution_count": 114,
     "metadata": {},
     "output_type": "execute_result"
    },
    {
     "data": {
      "text/plain": [
       "<matplotlib.image.AxesImage at 0x7fa2d2856490>"
      ]
     },
     "execution_count": 114,
     "metadata": {},
     "output_type": "execute_result"
    },
    {
     "data": {
      "text/plain": [
       "<matplotlib.image.AxesImage at 0x7fa2d2856520>"
      ]
     },
     "execution_count": 114,
     "metadata": {},
     "output_type": "execute_result"
    },
    {
     "data": {
      "text/plain": [
       "Text(0.5, 1.0, 'Original image')"
      ]
     },
     "execution_count": 114,
     "metadata": {},
     "output_type": "execute_result"
    },
    {
     "data": {
      "text/plain": [
       "Text(0.5, 1.0, 'Median mask')"
      ]
     },
     "execution_count": 114,
     "metadata": {},
     "output_type": "execute_result"
    },
    {
     "data": {
      "text/plain": [
       "Text(0.5, 1.0, 'Median image')"
      ]
     },
     "execution_count": 114,
     "metadata": {},
     "output_type": "execute_result"
    },
    {
     "data": {
      "image/png": "[encoded data removed]",
      "text/plain": [
       "<Figure size 2100x700 with 3 Axes>"
      ]
     },
     "metadata": {},
     "output_type": "display_data"
    }
   ],
   "source": [
    "# # Median filtering\n",
    "# from despike.median import mask, median\n",
    "\n",
    "# median_mask = mask(aVimg, 20)\n",
    "# # median_img = median(Vimg, n=15, size=5)\n",
    "\n",
    "\n",
    "# Vimg_new = aVimg - aVimg*median_mask\n",
    "\n",
    "# f, (ax0, ax1, ax2) = plt.subplots(1, 3, sharey=True, figsize=(21, 7))\n",
    "\n",
    "# cmap1 = plt.get_cmap('viridis')\n",
    "\n",
    "# ax0.imshow(aVimg, cmap=cmap1, vmin=0)\n",
    "# ax1.imshow(median_mask, cmap=plt.get_cmap('gray'))\n",
    "# ax2.imshow(Vimg_new, cmap=cmap1, vmin=0)\n",
    "# ax0.set_title('Original image')\n",
    "# ax1.set_title('Median mask')\n",
    "# ax2.set_title('Median image')\n",
    "# plt.show()"
   ]
  },
  {
   "cell_type": "code",
   "execution_count": null,
   "id": "f7c48634-b82b-4c8a-81e3-5e31f87eb345",
   "metadata": {
    "tags": []
   },
   "outputs": [],
   "source": [
    "x1 = int(5*3600*20)\n",
    "x2 = x1+int(1*3600*20)\n",
    "\n",
    "V = st0.select(component=\"V\")[0].data[x1:x2]\n",
    "Vtime = st0.select(component=\"V\")[0].times()[x1:x2]\n",
    "\n",
    "plt.plot(V)\n"
   ]
  },
  {
   "cell_type": "markdown",
   "id": "3e53acfb-0295-4a70-a83e-337b7ed465a2",
   "metadata": {},
   "source": [
    "### Compute Backscatter (again)"
   ]
  },
  {
   "cell_type": "code",
   "execution_count": null,
   "id": "73528b65-7674-4d8e-a1e0-1a2d87ad0709",
   "metadata": {
    "tags": []
   },
   "outputs": [],
   "source": [
    "from functions.backscatter_correction import __backscatter_correction"
   ]
  },
  {
   "cell_type": "code",
   "execution_count": null,
   "id": "a45ff2da-cbcc-4a75-842a-85304cfbf9dd",
   "metadata": {
    "tags": []
   },
   "outputs": [],
   "source": [
    "# unwrap phases as one time series\n",
    "# bs['fj_ph'] = np.unwrap(bs.fj_ph)\n",
    "# bs['f1_ph'] = np.unwrap(bs.f1_ph)\n",
    "# bs['f2_ph'] = np.unwrap(bs.f2_ph)\n",
    "\n",
    "# use complete unwrapped phases\n",
    "bs['fj_ph'] = np.unwrap(bs.fj_phw)\n",
    "bs['f1_ph'] = np.unwrap(bs.f1_phw)\n",
    "bs['f2_ph'] = np.unwrap(bs.f2_phw)\n",
    "\n",
    "# fractional beat modulations\n",
    "m01 = bs.f1_ac / bs.f1_dc\n",
    "m02 = bs.f2_ac / bs.f2_dc\n",
    "\n",
    "# phase difference\n",
    "ph1 = bs.f1_ph\n",
    "ph2 = bs.f2_ph\n",
    "phase0 = ph2 - ph1\n",
    "\n",
    "# beat signal observed\n",
    "w_obs = bs.fj_fs\n",
    "\n",
    "# compute backscatter corrected signal\n",
    "bs['fj_bs'] = __backscatter_correction(m01, m02, phase0, w_obs, np.median(bs.fj_fs), cm_filter_factor=1.033)\n"
   ]
  },
  {
   "cell_type": "markdown",
   "id": "2698424e-9869-4b05-bb75-a88f603071e4",
   "metadata": {},
   "source": [
    "### Find phase jumps"
   ]
  },
  {
   "cell_type": "code",
   "execution_count": null,
   "id": "b08ede89-aa44-4b85-a79d-5b7c2857d3c9",
   "metadata": {
    "tags": []
   },
   "outputs": [],
   "source": [
    "def __get_phase_jumps(arr, time, fraction_of_pi=6, plot=True):\n",
    "\n",
    "    import matplotlib.pyplot as plt\n",
    "    import numpy as np\n",
    "    from scipy.signal import hilbert\n",
    "\n",
    "    data = arr.copy()\n",
    "\n",
    "    # define threshold for phase jump identification\n",
    "    threshold = np.pi/fraction_of_pi\n",
    "\n",
    "    # remove mean of data to avoid jumps at start and end\n",
    "    data -= np.nanmean(data)\n",
    "\n",
    "    # avoid having to deal with nan values\n",
    "    data = np.nan_to_num(data, nan=0)\n",
    "\n",
    "    # compute Hilbert transform\n",
    "    H = hilbert(data)\n",
    "\n",
    "    # obtain angle of hilibert\n",
    "    # pha = np.angle(H)\n",
    "    pha = np.unwrap(np.angle(H))\n",
    "\n",
    "    # derivative of angle\n",
    "    dpha = np.gradient(pha, edge_order=1)\n",
    "\n",
    "    # dpha /= np.real(H)\n",
    "    # dpha /= max(abs(pha))\n",
    "    # dpha /= sum((np.gradient(test)))\n",
    "\n",
    "    # detect phase changes\n",
    "    dpha_y = [_x if abs(_x) > threshold and abs(_x) < 3.14 else np.nan for _x in dpha]\n",
    "\n",
    "    # detect phase indices\n",
    "    dpha_idx = [list(dpha).index(_x) for _x in dpha if abs(_x) > threshold and abs(_x) < 3.14]\n",
    "\n",
    "    # apply filter\n",
    "    out = [np.nan if _i in dpha_idx else arr[_i] for _i in range(len(arr))]\n",
    "\n",
    "    # checkup plot\n",
    "    if plot:\n",
    "        fig, ax = plt.subplots(2, 1, figsize=(15, 8))\n",
    "\n",
    "        ax[0].plot(time, dpha)\n",
    "        ax[0].scatter(time, dpha_y, color=\"tab:orange\", s=10, zorder=2)\n",
    "        ax[0].axhline(threshold, color=\"red\", ls=\"--\", alpha=0.5)\n",
    "        ax[0].axhline(-threshold, color=\"red\", ls=\"--\", alpha=0.5)\n",
    "\n",
    "        ax[1].plot(time, data)\n",
    "        for line in time[dpha_idx]:\n",
    "            ax[1].axvline(line, -1000, 1000, zorder=0, alpha=0.3, color=\"tab:orange\")\n",
    "\n",
    "        plt.show();\n",
    "\n",
    "    return np.array(out), time[dpha_idx], np.array(dpha_y)[dpha_idx], np.array(dpha_idx)"
   ]
  },
  {
   "cell_type": "code",
   "execution_count": null,
   "id": "8e7014e7-42d8-48ac-83e4-08d92391c7d3",
   "metadata": {
    "tags": []
   },
   "outputs": [],
   "source": [
    "bs['fj_fs'], tt, yy, ii = __get_phase_jumps(bs.fj_fs, bs.time_sec, fraction_of_pi=6, plot=True)"
   ]
  },
  {
   "cell_type": "code",
   "execution_count": null,
   "id": "814071ff-7895-48d9-bde9-d7ebef724919",
   "metadata": {
    "tags": []
   },
   "outputs": [],
   "source": [
    "_, tt1, yy1, ii1 = __get_phase_jumps(bs.fj_fs, bs.time_sec, fraction_of_pi=50, plot=False)\n",
    "\n",
    "_, tt2, yy2, ii2 = __get_phase_jumps(bs.fj_bs, bs.time_sec, fraction_of_pi=50, plot=False)\n"
   ]
  },
  {
   "cell_type": "code",
   "execution_count": null,
   "id": "9ad006fe-f4ec-409d-8540-67b01d57660e",
   "metadata": {
    "tags": []
   },
   "outputs": [],
   "source": [
    "def get_phase_jumps(arr, times, LT, ST, amp_threshold, plot=True):\n",
    "\n",
    "    import numpy as np\n",
    "    from scipy.signal import hilbert\n",
    "    from functions.smoothing import __smooth\n",
    "\n",
    "    def sta_lta_detect(_data, threshold_upper, threshold_lower=None):\n",
    "\n",
    "        N = len(_data)\n",
    "\n",
    "        detection = np.ones(N)\n",
    "        ratio = np.zeros(N)\n",
    "\n",
    "        triggered = False\n",
    "        for n in range(N):\n",
    "\n",
    "            if n < LT:\n",
    "                continue\n",
    "\n",
    "            # compupte LTA, STA and ratio\n",
    "            LTA = np.nanmean(abs(_data[n-int(LT):n]))\n",
    "            STA = np.nanmean(abs(_data[n-int(ST):n]))\n",
    "            ratio[n] = abs(STA-LTA)\n",
    "\n",
    "            if triggered and ratio[n] > threshold_lower and threshold_lower is not None:\n",
    "                detection[n] = 0\n",
    "                continue\n",
    "            else:\n",
    "                triggered = False\n",
    "\n",
    "            if ratio[n] > threshold_upper and threshold_lower is not None:\n",
    "                detection[n] = np.nan\n",
    "                detection[n-1] = np.nan\n",
    "                triggered = True\n",
    "\n",
    "        # detect events based on threshold\n",
    "        for n, a in enumerate(ratio):\n",
    "            if a > threshold_upper:\n",
    "                detection[n] = np.nan\n",
    "                detection[n-1] = np.nan\n",
    "\n",
    "        return detection, ratio\n",
    "\n",
    "\n",
    "    amp_threshold_lower = 0.5\n",
    "\n",
    "    # dpha = __smooth(dpha, 10)\n",
    "\n",
    "    # 1st derivative of amplitude\n",
    "    damp = np.gradient(arr)\n",
    "\n",
    "    # 2nd derivative\n",
    "    # damp = np.gradient(damp)\n",
    "\n",
    "    # absolute values\n",
    "    damp = abs(damp)\n",
    "\n",
    "    detect, amp_ratio = sta_lta_detect(damp, amp_threshold)\n",
    "\n",
    "    if plot:\n",
    "\n",
    "        import matplotlib.pyplot as plt\n",
    "\n",
    "        Nrow, Ncol = 2, 1\n",
    "\n",
    "        font = 12\n",
    "\n",
    "        fig, ax = plt.subplots(Nrow, Ncol, figsize=(12, 5), sharex=True)\n",
    "\n",
    "        plt.subplots_adjust(hspace=0.1)\n",
    "\n",
    "        ax[0].plot(times, arr)\n",
    "        ax[0].plot(times, arr*np.array(detect))\n",
    "\n",
    "        ax[1].plot(times, amp_ratio, \"k\")\n",
    "        ax[1].axhline(amp_threshold, color=\"darkred\", alpha=0.5, ls=\"--\")\n",
    "        ax[1].set_ylim(0, 3*amp_threshold)\n",
    "\n",
    "        for _k in range(Nrow):\n",
    "            ax[_k].grid(which=\"both\", ls=\"--\", color=\"grey\", alpha=0.5, zorder=0)\n",
    "\n",
    "        for _n, d in enumerate(detect):\n",
    "            if np.isnan(d):\n",
    "                ax[0].axvline(times[_n], 0, np.nanmax(arr)*2, color=\"grey\", alpha=0.2, zorder=1)\n",
    "                ax[1].axvline(times[_n], 0, 10, color=\"grey\", alpha=0.2, zorder=1)\n",
    "\n",
    "        plt.show();\n",
    "\n",
    "    # change detections to one and everything else to zero\n",
    "    detect2 = abs(np.nan_to_num(detect, 0) - 1)\n",
    "\n",
    "    return np.array(amp_ratio), np.array(detect2)\n",
    "\n",
    "\n",
    "x1 = 1000\n",
    "x2 = x1+6000\n",
    "\n",
    "# data0 = np.array(bs.fj_fs[x1:x2])\n",
    "# time0 = np.array(bs.time_sec[x1:x2])\n",
    "\n",
    "data0 = np.array(bs.fj_fs)\n",
    "time0 = np.array(bs.time_sec)\n",
    "\n",
    "ratio, detect = get_phase_jumps(data0, time0, 10, 3, amp_threshold=0.00025)\n"
   ]
  },
  {
   "cell_type": "code",
   "execution_count": null,
   "id": "6bfb66ec-2fc1-42fa-90ca-2f9faf3e9b2a",
   "metadata": {
    "tags": []
   },
   "outputs": [],
   "source": [
    "print(len(bs.fj_fs), len(detect))\n",
    "\n",
    "\n",
    "mask = np.where(detect==1, 1, 0)\n",
    "\n",
    "time_mask = time0 * detect\n",
    "\n",
    "time_inter = time_mask[time_mask != 0]\n",
    "\n",
    "inter = np.diff(time_inter)\n",
    "inter[0] = inter[1]\n",
    "\n",
    "plt.figure()\n",
    "plt.plot(np.cumsum(detect))\n",
    "\n",
    "NN = 3600\n",
    "plt.figure()\n",
    "plt.hist(inter, bins=int(NN/60), range=(0, NN), log=True, rwidth=0.7)\n",
    "plt.ylim(bottom=0.5)"
   ]
  },
  {
   "cell_type": "code",
   "execution_count": null,
   "id": "f56a5527-d279-49c4-936b-aed05cb238ae",
   "metadata": {
    "tags": []
   },
   "outputs": [],
   "source": [
    "data = np.array(bs.fj_fs)\n",
    "\n",
    "for _i in range(len(data)):\n",
    "\n",
    "    if detect[_i] == 1:\n",
    "        left = np.nanmean(data[_i-8:_i-3])\n",
    "        right = np.nanmean(data[_i+3:_i+8])\n",
    "\n",
    "        diff = left - right\n",
    "\n",
    "        data[_i-3:_i] = left\n",
    "\n",
    "        data[_i:] += diff\n",
    "\n",
    "\n",
    "# plt.plot(bs.fj_fs[:-40000])\n",
    "# plt.plot(data[:-40000])\n",
    "\n",
    "plt.plot(bs.fj_fs)\n",
    "plt.plot(data)\n",
    "\n",
    "# plt.ylim(flim1, flim2)"
   ]
  },
  {
   "cell_type": "markdown",
   "id": "c5b9e835-f58a-4241-ba3f-ec5427ffa35c",
   "metadata": {},
   "source": [
    "### Cut corrupt data periods"
   ]
  },
  {
   "cell_type": "code",
   "execution_count": null,
   "id": "b2448408-bd7f-4d43-8bb2-681e845eed56",
   "metadata": {
    "tags": []
   },
   "outputs": [],
   "source": [
    "bs['fj_fs'] = np.where((bs.fj_fs > flim2), np.nan, bs.fj_fs)\n",
    "bs['fj_fs'] = np.where((bs.fj_fs < flim1), np.nan, bs.fj_fs)\n",
    "\n",
    "bs['fj_bs'] = np.where((bs.fj_bs > flim2), np.nan, bs.fj_bs)\n",
    "bs['fj_bs'] = np.where((bs.fj_bs < flim1), np.nan, bs.fj_bs)"
   ]
  },
  {
   "cell_type": "code",
   "execution_count": null,
   "id": "7f016660-577e-42a4-907d-9a7190a147e2",
   "metadata": {
    "tags": []
   },
   "outputs": [],
   "source": [
    "# times = [(\"2023-12-04T09:11\", \"2023-12-04T18:01\")]\n",
    "\n",
    "# for t1, t2 in times:\n",
    "#     bs['fj_fs'] = np.where((bs.time1 > t1) & (bs.time1 < t2), np.nan, bs.fj_fs)\n",
    "#     bs['fj_bs'] = np.where((bs.time1 > t1) & (bs.time1 < t2), np.nan, bs.fj_bs)\n",
    "\n",
    "\n",
    "# bs['fj_fs'] = np.nan_to_num(bs['fj_fs'], nan=np.nanmedian(bs['fj_fs']))\n",
    "# bs['fj_bs'] = np.nan_to_num(bs['fj_bs'], nan=np.nanmedian(bs['fj_bs']))"
   ]
  },
  {
   "cell_type": "code",
   "execution_count": null,
   "id": "a110303c-2c40-4558-a12a-c7dd99b09d6a",
   "metadata": {
    "tags": []
   },
   "outputs": [],
   "source": [
    "from functions.load_mlti import __load_mlti\n",
    "\n",
    "mlti = __load_mlti(config['tbeg'], config['tend'], config['ring'], archive_path)"
   ]
  },
  {
   "cell_type": "code",
   "execution_count": null,
   "id": "3073c5f9-f439-4b8b-a9f5-6702bfbd492c",
   "metadata": {
    "tags": []
   },
   "outputs": [],
   "source": [
    "from functions.get_mlti_intervals import __get_mlti_intervals\n",
    "\n",
    "mlti_t1, mlti_t2 = __get_mlti_intervals(mlti.time_utc)"
   ]
  },
  {
   "cell_type": "code",
   "execution_count": null,
   "id": "f57efd20-ec2a-4e9e-baa3-29b5de985ead",
   "metadata": {
    "tags": []
   },
   "outputs": [],
   "source": [
    "from functions.mlti_intervals_to_NaN import __mlti_intervals_to_NaN\n",
    "\n",
    "bs = __mlti_intervals_to_NaN(bs, \"fj_fs\", \"time1\", mlti_t1, mlti_t2, t_offset_sec=180)\n",
    "bs = __mlti_intervals_to_NaN(bs, \"fj_bs\", \"time1\", mlti_t1, mlti_t2, t_offset_sec=180)"
   ]
  },
  {
   "cell_type": "code",
   "execution_count": null,
   "id": "45472590-c446-4f57-b7c8-4cba26aac9d6",
   "metadata": {
    "tags": []
   },
   "outputs": [],
   "source": [
    "from functions.get_mlti_statistics import __get_mlti_statistics\n",
    "\n",
    "mlti_cumsum, mlti_inter_sec = __get_mlti_statistics(mlti_t1, bs.time1, plot=True, ylog=False)"
   ]
  },
  {
   "cell_type": "markdown",
   "id": "60589676-e1b9-449d-92a9-22ba4cbe5e18",
   "metadata": {},
   "source": [
    "### Apply special filter sections"
   ]
  },
  {
   "cell_type": "code",
   "execution_count": null,
   "id": "512abf36-a40d-480f-9177-556a493a4cbc",
   "metadata": {
    "tags": []
   },
   "outputs": [],
   "source": [
    "from functions.interpolate_nan import __interpolate_nan\n",
    "\n",
    "bs['fj_fs_inter'] = __interpolate_nan(np.array(bs.fj_fs_nan))\n",
    "bs['fj_bs_inter'] = __interpolate_nan(np.array(bs.fj_bs_nan))"
   ]
  },
  {
   "cell_type": "code",
   "execution_count": null,
   "id": "09b3cefb-1f20-400e-822c-37dde096970a",
   "metadata": {
    "tags": []
   },
   "outputs": [],
   "source": [
    "from functions.smoothing import __smooth\n",
    "\n",
    "n_minutes = 60\n",
    "\n",
    "bs['fj_fs_smooth'] = __smooth(bs.fj_fs_inter, n_minutes)\n",
    "bs['fj_bs_smooth'] = __smooth(bs.fj_bs_inter, n_minutes)"
   ]
  },
  {
   "cell_type": "markdown",
   "id": "2f3154b6-1c6a-436d-97bf-0e86d840b43d",
   "metadata": {},
   "source": [
    "### Load LXX maintenance"
   ]
  },
  {
   "cell_type": "code",
   "execution_count": null,
   "id": "fcb83285-ae34-4335-be4e-977e1d22561a",
   "metadata": {
    "tags": []
   },
   "outputs": [],
   "source": [
    "from functions.load_lxx import __load_lxx\n",
    "\n",
    "lxx =__load_lxx(config['tbeg'], config['tend'], archive_path)"
   ]
  },
  {
   "cell_type": "code",
   "execution_count": null,
   "id": "30338cfb-dfab-4814-9555-15fc6d779ef7",
   "metadata": {
    "tags": []
   },
   "outputs": [],
   "source": [
    "from functions.get_lxx_intervals import __get_lxx_intervals\n",
    "\n",
    "lxx_t1, lxx_t2 = __get_lxx_intervals(lxx.datetime)"
   ]
  },
  {
   "cell_type": "code",
   "execution_count": null,
   "id": "29db4aa6-6f90-4d14-a55a-fa5ccb7106ce",
   "metadata": {
    "tags": []
   },
   "outputs": [],
   "source": [
    "bs"
   ]
  },
  {
   "cell_type": "markdown",
   "id": "97787288-abff-4aa9-8601-0832ceaa11d8",
   "metadata": {},
   "source": [
    "### Checkup Plot"
   ]
  },
  {
   "cell_type": "code",
   "execution_count": null,
   "id": "2ae877ec-3074-4929-a0f1-d866cb07ae39",
   "metadata": {
    "tags": []
   },
   "outputs": [],
   "source": [
    "def __makeplot():\n",
    "\n",
    "    Nrow, Ncol = 1, 1\n",
    "\n",
    "    font = 12\n",
    "\n",
    "    fig, ax = plt.subplots(Nrow, Ncol, figsize=(15, 5), sharex=True)\n",
    "\n",
    "    plt.subplots_adjust(hspace=0.1)\n",
    "\n",
    "    # time_scaling = 1/86400\n",
    "    time_scaling = 1\n",
    "    ref_date = str(bs.time1.iloc[0])[:10]\n",
    "\n",
    "    ax.plot(bs.time_sec*time_scaling, bs.fj_fs, color=\"tab:grey\", alpha=0.3, label=\"raw\")\n",
    "    ax.plot(bs.time_sec*time_scaling, bs.fj_fs_nan, color=\"tab:blue\", label=\"cleaned\")\n",
    "    # ax.plot(bs.time_sec*time_scaling, bs.fj_fs_smooth, color=\"k\", label=f\"mov. avg. ({n_minutes} min)\")\n",
    "    ax.set_ylim(flim1, flim2)\n",
    "    ax.ticklabel_format(useOffset=False)\n",
    "    ax.set_ylabel(\"$\\delta f$ north ring (Hz)\", fontsize=font)\n",
    "\n",
    "    ax.grid(ls=\":\", zorder=0)\n",
    "    ax.legend(loc=1)\n",
    "    ax.set_xlim(left=0)\n",
    "\n",
    "    for lx1, lx2 in zip(lxx_t1, lxx_t2):\n",
    "        lx1_sec = lx1-UTCDateTime(ref_date)\n",
    "        lx2_sec = lx2-UTCDateTime(ref_date)\n",
    "        ax.fill_betweenx([flim1, flim2], lx1_sec, lx2_sec, color=\"yellow\", alpha=0.5)\n",
    "\n",
    "    ## add dates to x-axis\n",
    "    tcks = ax.get_xticks()\n",
    "    tcklbls = [f\"{UTCDateTime(UTCDateTime(ref_date)+t).date} \\n {UTCDateTime(UTCDateTime(ref_date)+t).time}\" for t in tcks]\n",
    "    ax.set_xticklabels(tcklbls)\n",
    "\n",
    "    gc.collect()\n",
    "\n",
    "    plt.show();\n",
    "    return fig\n",
    "\n",
    "fig = __makeplot();\n",
    "\n",
    "# fig.savefig(config['path_to_figs']+f\"SF_BS_R{config['ring'}_cleaned.png\", format=\"png\", dpi=150, bbox_inches='tight')\n"
   ]
  },
  {
   "cell_type": "code",
   "execution_count": null,
   "id": "cd4ac5fb-bfcc-48db-9cfa-181b6fa7cd7d",
   "metadata": {
    "tags": []
   },
   "outputs": [],
   "source": [
    "from functions.multitaper_psd import __multitaper_psd\n",
    "from scipy.signal import detrend\n",
    "\n",
    "bs['fj_bs_smooth_inter'] = __interpolate_nan(np.array(bs.fj_bs_smooth))\n",
    "\n",
    "dat1 = detrend(bs.fj_fs_inter, type=\"linear\")\n",
    "dat2 = detrend(bs.fj_bs_inter, type=\"linear\")\n",
    "dat3 = detrend(bs.fj_bs_smooth_inter, type=\"linear\")\n",
    "\n",
    "# f1, psd1 = __multitaper_psd(dat1, 60, n_win=10, time_bandwidth=3.5)\n",
    "# f2, psd2 = __multitaper_psd(dat2, 60, n_win=10, time_bandwidth=3.5)\n",
    "\n",
    "# f1, psd1 = __welch_psd(dat1, 60, twin_sec=86400)\n",
    "# f2, psd2 = __welch_psd(dat2, 60, twin_sec=86400)\n",
    "\n",
    "psd1, f1, pha1 = __get_fft(dat1, 60, window=\"cosine\")\n",
    "psd2, f2, pha2 = __get_fft(dat2, 60, window=\"cosine\")\n",
    "psd3, f3, pha3 = __get_fft(dat3, 60, window=\"cosine\")\n",
    "# psd1, f1, pha1 = __get_fft(dat1, 60)\n",
    "# psd2, f2, pha2 = __get_fft(dat2, 60)\n",
    "# psd3, f3, pha3 = __get_fft(dat3, 60)"
   ]
  },
  {
   "cell_type": "code",
   "execution_count": null,
   "id": "3651c6a7-e3e3-4b9b-9d1c-4bc0d556a23a",
   "metadata": {
    "tags": []
   },
   "outputs": [],
   "source": [
    "def __makeplot():\n",
    "\n",
    "    Nrow, Ncol = 2, 1\n",
    "\n",
    "    font = 12\n",
    "\n",
    "    tscale, tunit = 1/86400, \"days\"\n",
    "\n",
    "    fig, ax = plt.subplots(Nrow, Ncol, figsize=(15, 8))\n",
    "\n",
    "    ax[0].plot(bs.time_sec*tscale, bs.fj_fs, color=\"tab:grey\", alpha=0.3, label=\"raw\")\n",
    "    ax[0].plot(bs.time_sec*tscale, bs.fj_fs_nan, color=\"black\", label=f\"$\\delta$f (w/ backscatter)\")\n",
    "    ax[0].plot(bs.time_sec*tscale, bs.fj_bs_nan, color=\"tab:red\", label=f\"$\\delta$f (w/o backscatter)\")\n",
    "    ax[0].plot(bs.time_sec*tscale, bs.fj_bs_smooth, color=\"w\", lw=1)\n",
    "\n",
    "    ax[0].ticklabel_format(useOffset=False)\n",
    "\n",
    "    ax[1].semilogx(f1*86400, psd1, color=\"black\", label=f\"$\\delta$f w/ backscatter\")\n",
    "    ax[1].semilogx(f2*86400, psd2, color=\"tab:red\", label=f\"$\\delta$f w/o backscatter\")\n",
    "    # ax[1].semilogx(f3, psd3, color=\"tab:grey\", label=f\"$\\delta$f w/o backscatter (smooth)\")\n",
    "\n",
    "    for _n in range(Nrow):\n",
    "        ax[_n].grid(ls=\":\", zorder=0)\n",
    "\n",
    "    ax[0].legend(loc=4, fontsize=font-1, ncol=3)\n",
    "    ax[1].legend(loc=1, fontsize=font-1, ncol=3)\n",
    "\n",
    "    ax[0].set_ylim(flim1, flim2)\n",
    "\n",
    "\n",
    "    ax[0].set_ylabel(f\"$\\delta$f (Hz)\", fontsize=font)\n",
    "    ax[0].set_xlabel(f\"Time from {config['tbeg'].date} {config['tbeg'].time} UTC ({tunit})\", fontsize=font)\n",
    "\n",
    "    # ax[1].set_ylabel(\"PSD (Hz$^2$ /Hz)\", fontsize=font)\n",
    "    ax[1].set_ylabel(\"Spectrum (Hz $\\sqrt{Hz}$)\", fontsize=font)\n",
    "    ax[1].set_xlabel(\"Frequency (cycles per day)\", fontsize=font)\n",
    "\n",
    "    ax[1].axvline(1/(12*3600)*86400, ls=\"--\", color=\"grey\", zorder=0)\n",
    "    ax[1].axvline(1/(24*3600)*86400, ls=\"--\", color=\"grey\", zorder=0)\n",
    "\n",
    "    ax[0].text(.005, .97, \"(a)\", ha='left', va='top', transform=ax[0].transAxes, fontsize=font+2)\n",
    "    ax[1].text(.005, .97, \"(b)\", ha='left', va='top', transform=ax[1].transAxes, fontsize=font+2)\n",
    "\n",
    "    # add maintenance periods\n",
    "    for lx1, lx2 in zip(lxx_t1, lxx_t2):\n",
    "        lx1_sec = ( lx1-UTCDateTime(config['tbeg']) )*tscale\n",
    "        lx2_sec = ( lx2-UTCDateTime(config['tbeg']) )*tscale\n",
    "        ax[0].fill_betweenx([flim1, flim2], lx1_sec, lx2_sec, color=\"yellow\", alpha=0.5)\n",
    "\n",
    "    plt.show();\n",
    "    return fig\n",
    "\n",
    "fig = __makeplot();\n",
    "\n",
    "fig.savefig(config['path_to_figs']+f\"SF_BS_R{config['ring']}_backscatter_spectrum_{config['tbeg']}_{config['tend']}.png\", format=\"png\", dpi=150, bbox_inches='tight')\n"
   ]
  },
  {
   "cell_type": "code",
   "execution_count": null,
   "id": "48970b06-60da-40c6-af0f-4f76bbc7deb9",
   "metadata": {
    "tags": []
   },
   "outputs": [],
   "source": [
    "def __makeplot_residual():\n",
    "\n",
    "    import matplotlib.pyplot as plt\n",
    "    import numpy as np\n",
    "    from matplotlib.gridspec import GridSpec\n",
    "    from functions.multitaper_psd import __multitaper_psd\n",
    "    from functions.welch_psd import __welch_psd\n",
    "    from functions.to_dB import __to_dB\n",
    "    from functions.variance_reduction import __variance_reduction\n",
    "\n",
    "\n",
    "    def __integrate(stt, dat):\n",
    "        _st = stt.copy()\n",
    "        _st.data = dat\n",
    "        _st.integrate()\n",
    "        return _st.data\n",
    "\n",
    "    def __rmse(arr1, arr2):\n",
    "        return np.round(np.sqrt(np.mean((arr1-arr2)**2)), 4)\n",
    "\n",
    "    def __variance_reduction(arr1, arr2):\n",
    "        from numpy import var\n",
    "        return round(( var(arr1) - var(arr2) ) / var(arr1) * 100, 2)\n",
    "\n",
    "    def __get_lim(arrs):\n",
    "        mins = [min(arr) for arr in arrs]\n",
    "        maxs = [max(arr) for arr in arrs]\n",
    "        return min(mins + maxs), max(mins + maxs)\n",
    "\n",
    "\n",
    "\n",
    "    tscale, tunit = 1/86400, \"days\"\n",
    "\n",
    "\n",
    "    Ncol, Nrow = 1, 3\n",
    "\n",
    "    font = 12\n",
    "\n",
    "    lw = 1\n",
    "\n",
    "    scale, unit = 1, f\"Hz\"\n",
    "\n",
    "    fig = plt.figure(figsize=(15, 5))\n",
    "\n",
    "    gs = GridSpec(Nrow, Ncol, figure=fig, hspace=0)\n",
    "\n",
    "    ax1 = fig.add_subplot(gs[0:2, :])\n",
    "    ax2 = fig.add_subplot(gs[2, :])\n",
    "\n",
    "    ax1.plot(bs.time_sec*tscale, bs.fj_fs, color=\"tab:grey\", alpha=0.3, label=\"raw\")\n",
    "    ax1.plot(bs.time_sec*tscale, bs.fj_fs_nan, color=\"black\", label=f\"$\\delta$f (w/ backscatter)\")\n",
    "    ax1.plot(bs.time_sec*tscale, bs.fj_bs_nan, color=\"tab:red\", label=f\"$\\delta$f (w/o backscatter)\")\n",
    "    ax1.plot(bs.time_sec*tscale, bs.fj_bs_smooth, color=\"w\", lw=1)\n",
    "\n",
    "    ax2.plot(bs.time_sec*tscale, ( bs.fj_fs-bs.fj_bs )*1e3, color=\"grey\", lw=lw)\n",
    "    # ax2.fill_between(bs.time_sec*tscale, 0, ( bs.fj_fs-bs.fj_bs )*1e3, color=\"grey\", alpha=0.3)\n",
    "\n",
    "    ax1.set_ylim(flim1, flim2)\n",
    "    ax1.ticklabel_format(useOffset=False)\n",
    "    ax1.legend(loc=1, ncol=3)\n",
    "\n",
    "    ax1.set_ylabel(f\"$\\delta$f (Hz)\", fontsize=font)\n",
    "    ax2.set_ylabel(f\"residual\\n(mHz)\", fontsize=font)\n",
    "\n",
    "    for ax in [ax1]:\n",
    "        ax.get_xaxis().set_visible(False)\n",
    "\n",
    "    ax2.set_xlabel(f\"Time ({tunit}) from {config['tbeg'].date} {str(config['tbeg'].time).split('.')[0]} UTC\", fontsize=font)\n",
    "\n",
    "    ax1.text(.005, .97, \"(a)\", ha='left', va='top', transform=ax1.transAxes, fontsize=font+2)\n",
    "    ax2.text(.005, .97, \"(b)\", ha='left', va='top', transform=ax2.transAxes, fontsize=font+2)\n",
    "\n",
    "    R = __variance_reduction(bs.fj_fs, bs.fj_fs - bs.fj_bs)\n",
    "\n",
    "    txt = f\"RMSE = {__rmse(bs.fj_fs, bs.fj_bs)}, R = {R}%\"\n",
    "    ax2.text(.99, .97, txt, ha='right', va='top', transform=ax2.transAxes, fontsize=font-2)\n",
    "\n",
    "    # ax1.set_title(f\"{til_in[0].stats.station} & {acc_in[0].stats.station} | f = {fmin} - {fmax} Hz\")\n",
    "\n",
    "    # ax1.grid(ls=\":\", zorder=0)\n",
    "    # ax2.grid(ls=\":\", zorder=0)\n",
    "\n",
    "    # add maintenance periods\n",
    "    for lx1, lx2 in zip(lxx_t1, lxx_t2):\n",
    "        lx1_sec = ( lx1-UTCDateTime(config['tbeg']) )*tscale\n",
    "        lx2_sec = ( lx2-UTCDateTime(config['tbeg']) )*tscale\n",
    "        ax1.fill_betweenx([flim1, flim2], lx1_sec, lx2_sec, color=\"yellow\", alpha=0.5)\n",
    "\n",
    "    plt.plot();\n",
    "    return fig\n",
    "\n",
    "fig = __makeplot_residual()\n",
    "\n",
    "fig.savefig(config['path_to_figs']+f\"SF_BS_R{config['ring']}_backscatter_residual_{config['tbeg']}_{config['tend']}.png\", format=\"png\", dpi=150, bbox_inches='tight')\n"
   ]
  },
  {
   "cell_type": "markdown",
   "id": "77402337-1a5f-4367-aa77-bd36bb935ae0",
   "metadata": {},
   "source": [
    "## Plot with zoom-in"
   ]
  },
  {
   "cell_type": "code",
   "execution_count": null,
   "id": "18771ee8-75f5-4b50-afb3-eb7129b49901",
   "metadata": {
    "tags": []
   },
   "outputs": [],
   "source": [
    "# %matplotlib tk"
   ]
  },
  {
   "cell_type": "code",
   "execution_count": null,
   "id": "52e84df1-ec91-426e-bed8-6a78a0d6991d",
   "metadata": {
    "tags": []
   },
   "outputs": [],
   "source": [
    "def __makeplot_residual():\n",
    "\n",
    "    import matplotlib.pyplot as plt\n",
    "    import numpy as np\n",
    "    from matplotlib.gridspec import GridSpec\n",
    "    from functions.multitaper_psd import __multitaper_psd\n",
    "    from functions.welch_psd import __welch_psd\n",
    "    from functions.to_dB import __to_dB\n",
    "    from functions.variance_reduction import __variance_reduction\n",
    "\n",
    "\n",
    "    def __integrate(stt, dat):\n",
    "        _st = stt.copy()\n",
    "        _st.data = dat\n",
    "        _st.integrate()\n",
    "        return _st.data\n",
    "\n",
    "    def __rmse(arr1, arr2):\n",
    "        return np.round(np.sqrt(np.mean((arr1-arr2)**2)), 4)\n",
    "\n",
    "    def __variance_reduction(arr1, arr2):\n",
    "        from numpy import var\n",
    "        return round(( var(arr1) - var(arr2) ) / var(arr1) * 100, 2)\n",
    "\n",
    "    def __get_lim(arrs):\n",
    "        mins = [min(arr) for arr in arrs]\n",
    "        maxs = [max(arr) for arr in arrs]\n",
    "        return min(mins + maxs), max(mins + maxs)\n",
    "\n",
    "\n",
    "\n",
    "    tscale, tunit = 1/86400, \"days\"\n",
    "\n",
    "\n",
    "    Ncol, Nrow = 2, 5\n",
    "\n",
    "    font = 12\n",
    "\n",
    "    lw = 1\n",
    "\n",
    "    scale, unit = 1, f\"Hz\"\n",
    "\n",
    "    fig = plt.figure(figsize=(15, 10))\n",
    "\n",
    "    gs1 = GridSpec(Nrow, Ncol, figure=fig, hspace=0)\n",
    "    gs2 = GridSpec(Nrow, Ncol, figure=fig, hspace=1)\n",
    "\n",
    "    ax1 = fig.add_subplot(gs1[0:2, :])\n",
    "    ax2 = fig.add_subplot(gs1[2, :])\n",
    "    ax3 = fig.add_subplot(gs2[3:5, :1])\n",
    "    ax4 = fig.add_subplot(gs2[3:5, 1:])\n",
    "\n",
    "    ax1.plot(bs.time_sec*tscale, bs.fj_fs, color=\"tab:grey\", alpha=0.3, label=\"raw\")\n",
    "    ax1.plot(bs.time_sec*tscale, bs.fj_fs_nan, color=\"black\", label=f\"$\\delta$f (w/ backscatter)\")\n",
    "    ax1.plot(bs.time_sec*tscale, bs.fj_bs_nan, color=\"tab:red\", label=f\"$\\delta$f (w/o backscatter)\")\n",
    "    ax1.plot(bs.time_sec*tscale, bs.fj_bs_smooth, color=\"w\", lw=1)\n",
    "\n",
    "    ax2.plot(bs.time_sec*tscale, ( bs.fj_fs-bs.fj_bs )*1e3, color=\"grey\", lw=lw)\n",
    "    # ax2.fill_between(bs.time_sec*tscale, 0, ( bs.fj_fs-bs.fj_bs )*1e3, color=\"grey\", alpha=0.3)\n",
    "\n",
    "    t31, t32 = 2.0, 2.7 # days\n",
    "    t31, t32 = 12.0, 13.8 # days\n",
    "    # t31, t32 = 8.0, 9.0 # days\n",
    "    n31, n32 = int(t31*1440), int(t32*1440)\n",
    "    print(n31, n32)\n",
    "    ax3.plot(bs.time_sec[n31:n32]*tscale, bs.fj_fs[n31:n32], color=\"tab:grey\", alpha=0.3, label=\"raw\")\n",
    "    ax3.plot(bs.time_sec[n31:n32]*tscale, bs.fj_fs_nan[n31:n32], color=\"black\", label=f\"$\\delta$f (w/ backscatter)\")\n",
    "    ax3.plot(bs.time_sec[n31:n32]*tscale, bs.fj_bs_nan[n31:n32], color=\"tab:red\", label=f\"$\\delta$f (w/o backscatter)\")\n",
    "    ax3.plot(bs.time_sec[n31:n32]*tscale, bs.fj_bs_smooth[n31:n32], color=\"w\", lw=1)\n",
    "    ax3.set_xlim(t31, t32)\n",
    "\n",
    "    t41 ,t42 = 18.5, 19.3 # days\n",
    "    n41, n42 = int(t41*1440), int(t42*1440)\n",
    "    ax4.plot(bs.time_sec[n41:n42]*tscale, bs.fj_fs[n41:n42], color=\"tab:grey\", alpha=0.3, label=\"raw\")\n",
    "    ax4.plot(bs.time_sec[n41:n42]*tscale, bs.fj_fs_nan[n41:n42], color=\"black\", label=f\"$\\delta$f (w/ backscatter)\")\n",
    "    ax4.plot(bs.time_sec[n41:n42]*tscale, bs.fj_bs_nan[n41:n42], color=\"tab:red\", label=f\"$\\delta$f (w/o backscatter)\")\n",
    "    ax4.plot(bs.time_sec[n41:n42]*tscale, bs.fj_bs_smooth[n41:n42], color=\"w\", lw=1)\n",
    "    ax4.set_xlim(t41, t42)\n",
    "\n",
    "\n",
    "    ax1.fill_betweenx([flim1, flim2],\n",
    "                      bs.time_sec[n31]*tscale, bs.time_sec[n32]*tscale,\n",
    "                      color=\"purple\", alpha=0.1\n",
    "                     )\n",
    "    ax1.fill_betweenx([flim1, flim2],\n",
    "                      bs.time_sec[n41]*tscale, bs.time_sec[n42]*tscale,\n",
    "                      color=\"purple\", alpha=0.1\n",
    "                     )\n",
    "\n",
    "    ax1.set_ylim(flim1, flim2)\n",
    "    ax3.set_ylim(447.730, 447.735)\n",
    "    ax4.set_ylim(447.728, 447.735)\n",
    "\n",
    "    for ax in [ax1, ax3, ax4]:\n",
    "        ax.ticklabel_format(useOffset=False)\n",
    "        ax.set_ylabel(f\"$\\delta$f (Hz)\", fontsize=font)\n",
    "\n",
    "    ax1.legend(loc=4, ncol=3)\n",
    "\n",
    "    ax2.set_ylabel(f\"Residual\\n(mHz)\", fontsize=font)\n",
    "\n",
    "    for ax in [ax1]:\n",
    "        ax.get_xaxis().set_visible(False)\n",
    "\n",
    "    ax2.set_xlabel(f\"Time ({tunit}) from {config['tbeg'].date} {str(config['tbeg'].time).split('.')[0]} UTC\", fontsize=font)\n",
    "    ax3.set_xlabel(f\"Time ({tunit}) from {config['tbeg'].date} {str(config['tbeg'].time).split('.')[0]} UTC\", fontsize=font)\n",
    "    ax4.set_xlabel(f\"Time ({tunit}) from {config['tbeg'].date} {str(config['tbeg'].time).split('.')[0]} UTC\", fontsize=font)\n",
    "\n",
    "    ax1.text(.005, .97, \"(a)\", ha='left', va='top', transform=ax1.transAxes, fontsize=font+2)\n",
    "    ax2.text(.005, .97, \"(b)\", ha='left', va='top', transform=ax2.transAxes, fontsize=font+2)\n",
    "    ax3.text(.005, .97, \"(c)\", ha='left', va='top', transform=ax3.transAxes, fontsize=font+2)\n",
    "    ax4.text(.005, .97, \"(d)\", ha='left', va='top', transform=ax4.transAxes, fontsize=font+2)\n",
    "\n",
    "    R = __variance_reduction(bs.fj_fs, bs.fj_fs - bs.fj_bs)\n",
    "\n",
    "    txt = f\"RMSE = {__rmse(bs.fj_fs, bs.fj_bs)}, R = {R}%\"\n",
    "    ax2.text(.99, .97, txt, ha='right', va='top', transform=ax2.transAxes, fontsize=font-2)\n",
    "\n",
    "    # ax1.set_title(f\"{til_in[0].stats.station} & {acc_in[0].stats.station} | f = {fmin} - {fmax} Hz\")\n",
    "\n",
    "\n",
    "    # add maintenance periods\n",
    "    for lx1, lx2 in zip(lxx_t1, lxx_t2):\n",
    "        lx1_sec = ( lx1-UTCDateTime(config['tbeg']) )*tscale\n",
    "        lx2_sec = ( lx2-UTCDateTime(config['tbeg']) )*tscale\n",
    "        ax1.fill_betweenx([flim1, flim2], lx1_sec, lx2_sec, color=\"yellow\", alpha=0.5)\n",
    "        ax3.fill_betweenx([flim1, flim2], lx1_sec, lx2_sec, color=\"yellow\", alpha=0.5)\n",
    "        ax4.fill_betweenx([flim1, flim2], lx1_sec, lx2_sec, color=\"yellow\", alpha=0.5)\n",
    "\n",
    "    plt.plot();\n",
    "    return fig\n",
    "\n",
    "fig = __makeplot_residual()\n",
    "\n",
    "fig.savefig(config['path_to_figs']+f\"SF_BS_R{config['ring']}_backscatter_residual_{config['tbeg']}_{config['tend']}_zoomin.png\",\n",
    "            format=\"png\", dpi=150, bbox_inches='tight')\n"
   ]
  },
  {
   "cell_type": "code",
   "execution_count": null,
   "id": "59b1fb2c-4ed7-4a76-8416-1cd3e60e6b3d",
   "metadata": {
    "tags": []
   },
   "outputs": [],
   "source": [
    "from functions.sagnac_to_tilt import __sagnac_to_tilt\n",
    "\n",
    "dff = np.array(bs.fj_fs_inter)\n",
    "\n",
    "rx = Trace()\n",
    "rx.data = dff\n",
    "rx.stats.delta = 60\n",
    "rx.stats.starttime = bs.time1.iloc[0]\n",
    "rx.stats.station = \"ROMY\"\n",
    "rx.stats.channel = f\"FJ{config['ring']}\"\n",
    "rx.stats.network = \"BW\"\n",
    "\n",
    "rx = Stream(rx)\n",
    "\n",
    "rx.plot();"
   ]
  },
  {
   "cell_type": "code",
   "execution_count": null,
   "id": "ee698cfa-f10d-4118-99eb-d15816975bf7",
   "metadata": {
    "tags": []
   },
   "outputs": [],
   "source": [
    "t1, t2 = config['tbeg']+12.0298*86400, config['tbeg']+12.613*86400"
   ]
  },
  {
   "cell_type": "code",
   "execution_count": null,
   "id": "3da9071d-8a0b-466b-80ce-c2fd8d9f799b",
   "metadata": {
    "tags": []
   },
   "outputs": [],
   "source": [
    "_ps1 = __read_sds(archive_path+\"temp_archive/\", \"BW.PROMY.01.LKI\", t1-3600, t2+3600)\n",
    "_ps7 = __read_sds(archive_path+\"temp_archive/\", \"BW.PROMY.07.LKI\", t1-3600, t2+3600)\n",
    "_ps9 = __read_sds(archive_path+\"temp_archive/\", \"BW.PROMY.09.LKI\", t1-3600, t2+3600)"
   ]
  },
  {
   "cell_type": "code",
   "execution_count": null,
   "id": "d04663db-a76a-4dff-aa93-13e41702ca57",
   "metadata": {
    "tags": []
   },
   "outputs": [],
   "source": [
    "for _ps in [_ps1, _ps7, _ps9]:\n",
    "    _ps.detrend(\"demean\")\n",
    "    _ps.decimate(10, no_filter=False)\n",
    "    _ps.decimate(6, no_filter=False)\n",
    "\n"
   ]
  },
  {
   "cell_type": "code",
   "execution_count": null,
   "id": "b276cd21-46b2-441d-8010-385b13f685d7",
   "metadata": {
    "tags": []
   },
   "outputs": [],
   "source": [
    "def __get_diff(arr):\n",
    "    return round(arr[~np.isnan(arr)][-1] - arr[~np.isnan(arr)][0], 5)"
   ]
  },
  {
   "cell_type": "code",
   "execution_count": null,
   "id": "7729c594-d6ed-4618-b3cc-6f9261259b03",
   "metadata": {
    "tags": []
   },
   "outputs": [],
   "source": [
    "# selected interval and surrounding\n",
    "_rx0 = rx.copy()\n",
    "rx0 = _rx0.trim(t1-3600, t2+3600)[0].data\n",
    "trx0 = _rx0[0].times(reftime=t1)\n",
    "\n",
    "_ps01 = _ps1.copy()\n",
    "ps01 = _ps01[0].data\n",
    "tps01 = _ps01[0].times(reftime=t1)\n",
    "\n",
    "_ps07 = _ps7.copy()\n",
    "ps07 = _ps07[0].data\n",
    "tps07 = _ps07[0].times(reftime=t1)\n",
    "\n",
    "_ps09 = _ps9.copy()\n",
    "ps09 = _ps09[0].data\n",
    "tps09 = _ps09[0].times(reftime=t1)\n",
    "\n",
    "# selected interval\n",
    "_rx1 = rx.copy()\n",
    "rx1 = _rx1.trim(t1, t2)[0].data\n",
    "trx1 = _rx1[0].times(reftime=t1)\n",
    "\n",
    "\n",
    "_ps11 = _ps1.copy()\n",
    "ps11 = _ps11.trim(t1, t2)[0].data\n",
    "tps11 = _ps11[0].times(reftime=t1)\n",
    "\n",
    "_ps17 = _ps7.copy()\n",
    "ps17 = _ps17.trim(t1, t2)[0].data\n",
    "tps17 = _ps17[0].times(reftime=t1)\n",
    "\n",
    "_ps19 = _ps9.copy()\n",
    "ps19 = _ps19.trim(t1, t2)[0].data\n",
    "tps19 = _ps19[0].times(reftime=t1)\n",
    "\n",
    "rn = 100\n",
    "_reduce = np.nanmean(ps11[:rn])\n",
    "ps11 -= _reduce\n",
    "ps01 -= _reduce\n",
    "_reduce = np.nanmean(ps17[:rn])\n",
    "ps17 -= _reduce\n",
    "ps07 -= _reduce\n",
    "_reduce = np.nanmean(ps19[:rn])\n",
    "ps19 -= _reduce\n",
    "ps09 -= _reduce\n",
    "\n",
    "rn = 10\n",
    "_reduce = np.nanmean(rx1[:rn])\n",
    "rx1 -= _reduce\n",
    "rx0 -= _reduce\n",
    "\n",
    "ps11_smooth = __smooth(ps01, 120)\n",
    "ps17_smooth = __smooth(ps07, 120)\n",
    "ps19_smooth = __smooth(ps09, 120)\n",
    "\n",
    "rx1_smooth = __smooth(rx1, 180)\n",
    "rx11_smooth = __smooth(rx0, 180)\n",
    "\n",
    "\n",
    "print(\"ps11: \", __get_diff(ps11_smooth))\n",
    "print(\"ps17: \", __get_diff(ps17_smooth))\n",
    "print(\"ps19: \", __get_diff(ps19_smooth))"
   ]
  },
  {
   "cell_type": "code",
   "execution_count": null,
   "id": "b7fd50c0-b6ee-472e-8522-43bd506d8179",
   "metadata": {
    "tags": []
   },
   "outputs": [],
   "source": [
    "_ps_diff = np.nanmean(ps11[-10:]) - np.nanmean(ps1[:10])\n",
    "print(_ps_diff)\n",
    "\n",
    "_rx_diff = np.nanmean(rx1[-10:]) - np.nanmean(rx1[:10])\n",
    "print(_rx_diff)"
   ]
  },
  {
   "cell_type": "code",
   "execution_count": null,
   "id": "a0dcd3a9-55a8-41d2-a45a-a178a082db09",
   "metadata": {
    "tags": []
   },
   "outputs": [],
   "source": [
    "alpha = 15e-6 # m/m/°C\n",
    "\n",
    "strain = 633e-9 / 36\n",
    "\n",
    "strain / alpha"
   ]
  },
  {
   "cell_type": "code",
   "execution_count": null,
   "id": "45065a34-1251-48b6-9aaa-41c8767e8b52",
   "metadata": {
    "tags": []
   },
   "outputs": [],
   "source": [
    "def __makeplot():\n",
    "\n",
    "    Nrow, Ncol = 4, 1\n",
    "\n",
    "    font = 12\n",
    "\n",
    "    fig, ax = plt.subplots(Nrow, Ncol, figsize=(15, 8), sharex=True)\n",
    "\n",
    "    plt.subplots_adjust(hspace=0.1)\n",
    "\n",
    "    tscale, tunit = 1/3600, \"hours\"\n",
    "    Tscale, Tunit = 1e3, \"m°C\"\n",
    "    fscale, funit = 1e3, \"mHz\"\n",
    "\n",
    "    ax[0].plot(trx0*tscale, rx0*fscale, color=\"black\")\n",
    "    ax[0].plot(trx1*tscale, rx1*fscale, color=\"tab:blue\")\n",
    "    ax[0].plot(trx1*tscale, rx1_smooth*fscale, color=\"darkblue\")\n",
    "    ax[0].ticklabel_format(useOffset=False)\n",
    "\n",
    "    ax[1].plot(tps01*tscale, ps01*Tscale, color=\"black\")\n",
    "    ax[1].plot(tps11*tscale, ps11*Tscale, color=\"tab:green\", label=\"PS1\")\n",
    "    ax[1].plot(tps01*tscale, ps11_smooth*Tscale, color=\"darkgreen\")\n",
    "\n",
    "    ax[2].plot(tps07*tscale, ps07*Tscale, color=\"black\")\n",
    "    ax[2].plot(tps17*tscale, ps17*Tscale, color=\"tab:orange\", label=\"PS7\")\n",
    "    ax[2].plot(tps07*tscale, ps17_smooth*Tscale, color=\"darkorange\")\n",
    "\n",
    "    ax[3].plot(tps09*tscale, ps09*Tscale, color=\"black\")\n",
    "    ax[3].plot(tps19*tscale, ps19*Tscale, color=\"tab:red\", label=\"PS9\")\n",
    "    ax[3].plot(tps09*tscale, ps19_smooth*Tscale, color=\"darkred\")\n",
    "\n",
    "    ax[0].set_ylabel(f\"$\\Delta$f ({funit})\", fontsize=font)\n",
    "    ax[1].set_ylabel(f\"T ({Tunit})\", fontsize=font)\n",
    "    ax[2].set_ylabel(f\"T ({Tunit})\", fontsize=font)\n",
    "    ax[3].set_ylabel(f\"T ({Tunit})\", fontsize=font)\n",
    "    ax[3].set_xlabel(f\"Time ({tunit})\", fontsize=font)\n",
    "\n",
    "    for _n in range(Nrow):\n",
    "        ax[_n].grid(ls=\":\", zorder=0)\n",
    "        ax[_n].legend(loc=1)\n",
    "\n",
    "    plt.show();\n",
    "    return fig\n",
    "\n",
    "fig = __makeplot();\n"
   ]
  },
  {
   "cell_type": "code",
   "execution_count": null,
   "id": "a0913e34-b286-431e-932d-25b31c8f25bf",
   "metadata": {
    "tags": []
   },
   "outputs": [],
   "source": [
    "def __makeplot():\n",
    "\n",
    "    Nrow, Ncol = 4, 1\n",
    "\n",
    "    font = 12\n",
    "\n",
    "    fig, ax = plt.subplots(Nrow, Ncol, figsize=(15, 8), sharex=True)\n",
    "\n",
    "    plt.subplots_adjust(hspace=0.1)\n",
    "\n",
    "    tscale, tunit = 1/3600, \"hours\"\n",
    "    Tscale, Tunit = 1, \"m/m\"\n",
    "    fscale, funit = 1e3, \"mHz\"\n",
    "\n",
    "    alpha = 15e-6 * 1e9\n",
    "\n",
    "    ps11_diff = round(__get_diff(ps11_smooth*alpha), 1)\n",
    "    ps17_diff = round(__get_diff(ps17_smooth*alpha), 1)\n",
    "    ps19_diff = round(__get_diff(ps19_smooth*alpha), 1)\n",
    "\n",
    "    ax[0].plot(trx0*tscale, rx0*fscale, color=\"black\", alpha=0.7)\n",
    "    ax[0].plot(trx1*tscale, rx1*fscale, color=\"tab:blue\")\n",
    "    ax[0].plot(trx1*tscale, rx1_smooth*fscale, color=\"darkblue\")\n",
    "    ax[0].ticklabel_format(useOffset=False)\n",
    "\n",
    "    ax[1].plot(tps01*tscale, ps01*alpha, color=\"black\", alpha=0.7)\n",
    "    ax[1].plot(tps11*tscale, ps11*alpha, color=\"tab:green\", label=f\"PS1 ($\\Delta\\epsilon$ = {ps11_diff}nm)\")\n",
    "    ax[1].plot(tps01*tscale, ps11_smooth*alpha, color=\"darkgreen\")\n",
    "\n",
    "    ax[2].plot(tps07*tscale, ps07*alpha, color=\"black\", alpha=0.7)\n",
    "    ax[2].plot(tps17*tscale, ps17*alpha, color=\"tab:orange\", label=f\"PS7 ($\\Delta\\epsilon$ = {ps17_diff}nm)\")\n",
    "    ax[2].plot(tps07*tscale, ps17_smooth*alpha, color=\"orange\")\n",
    "\n",
    "    ax[3].plot(tps09*tscale, ps09*alpha, color=\"black\", alpha=0.7)\n",
    "    ax[3].plot(tps19*tscale, ps19*alpha, color=\"tab:red\", label=f\"PS9 ($\\Delta\\epsilon$ = {ps19_diff}nm)\")\n",
    "    ax[3].plot(tps09*tscale, ps19_smooth*alpha, color=\"darkred\")\n",
    "\n",
    "    ax[0].set_ylabel(f\"$\\Delta$f ({funit})\", fontsize=font)\n",
    "    ax[1].set_ylabel(f\"n$\\epsilon$ ({Tunit})\", fontsize=font)\n",
    "    ax[2].set_ylabel(f\"n$\\epsilon$ ({Tunit})\", fontsize=font)\n",
    "    ax[3].set_ylabel(f\"n$\\epsilon$ ({Tunit})\", fontsize=font)\n",
    "    ax[3].set_xlabel(f\"Time ({tunit})\", fontsize=font)\n",
    "\n",
    "    for _k in range(1, 4):\n",
    "        ax[_k].axhline(633, color=\"grey\", ls=\"--\")\n",
    "        ax[_k].axhline(-633, color=\"grey\", ls=\"--\")\n",
    "\n",
    "    for _n in range(Nrow):\n",
    "        ax[_n].grid(ls=\":\", zorder=0)\n",
    "        ax[_n].legend(loc=1)\n",
    "\n",
    "    plt.show();\n",
    "    return fig\n",
    "\n",
    "fig = __makeplot();\n"
   ]
  },
  {
   "cell_type": "code",
   "execution_count": null,
   "id": "dc6d51fe-d38c-42ad-8000-e53ff6ddfb21",
   "metadata": {},
   "outputs": [],
   "source": []
  },
  {
   "cell_type": "code",
   "execution_count": null,
   "id": "286b8926-96e0-4993-8f28-a5ac29d0be33",
   "metadata": {},
   "outputs": [],
   "source": []
  },
  {
   "cell_type": "code",
   "execution_count": null,
   "id": "853e6b97-a271-4f47-b582-69c74a95f3fc",
   "metadata": {
    "tags": []
   },
   "outputs": [],
   "source": [
    "from functions.sagnac_to_tilt import __sagnac_to_tilt\n",
    "\n",
    "dff = np.array(bs.fj_bs_inter)\n",
    "\n",
    "dff_tilt = __sagnac_to_tilt(dff, config['ring'])\n",
    "\n",
    "rx = Trace()\n",
    "rx.data = dff_tilt\n",
    "rx.stats.delta = 60\n",
    "rx.stats.starttime = bs.time1.iloc[0]\n",
    "rx.stats.station = \"ROMY\"\n",
    "rx.stats.channel = f\"FJ{config['ring']}\"\n",
    "rx.stats.network = \"BW\"\n",
    "\n",
    "rx = Stream(rx)\n",
    "\n",
    "rx.plot();"
   ]
  },
  {
   "cell_type": "code",
   "execution_count": null,
   "id": "c016c421-e043-4bfa-adb4-1521cfb41907",
   "metadata": {},
   "outputs": [],
   "source": [
    "fmin, fmax = 1/(24*3600), 1/(1*3600)\n",
    "\n",
    "\n",
    "rxx = rx.copy()\n",
    "\n",
    "rxx = rxx.trim(config['tbeg'], config['tend'], nearest_sample=False)\n",
    "rxx = rxx.detrend(\"linear\")\n",
    "\n",
    "rxx = rxx.taper(0.05)\n",
    "\n",
    "# rxx = rxx.filter(\"lowpass\", freq=fmax, corners=2, zerophase=True)\n",
    "\n",
    "rxx = rxx.filter(\"bandpass\", freqmin=fmin, freqmax=fmax, corners=2, zerophase=True)\n",
    "\n",
    "# rxx = rxx.resample(10*fmax, no_filter=True)\n",
    "rxx = rxx.trim(config['tbeg'], config['tend'], nearest_sample=True)\n",
    "\n",
    "rxx\n",
    "\n",
    "rxx.plot();"
   ]
  },
  {
   "cell_type": "code",
   "execution_count": null,
   "id": "6046fc18-b9cb-44b2-b3ed-22376b5befa5",
   "metadata": {
    "tags": []
   },
   "outputs": [],
   "source": []
  },
  {
   "cell_type": "code",
   "execution_count": null,
   "id": "c21a291f-f716-48c5-88ff-89926adad296",
   "metadata": {},
   "outputs": [],
   "source": []
  },
  {
   "cell_type": "code",
   "execution_count": null,
   "id": "fe68726b-d59e-4085-863f-e70d8cdc7044",
   "metadata": {},
   "outputs": [],
   "source": []
  }
 ],
 "metadata": {
  "kernelspec": {
   "display_name": "Python 3 (ipykernel)",
   "language": "python",
   "name": "python3"
  },
  "language_info": {
   "codemirror_mode": {
    "name": "ipython",
    "version": 3
   },
   "file_extension": ".py",
   "mimetype": "text/x-python",
   "name": "python",
   "nbconvert_exporter": "python",
   "pygments_lexer": "ipython3",
   "version": "3.9.16"
  },
  "latex_envs": {
   "LaTeX_envs_menu_present": true,
   "autoclose": false,
   "autocomplete": true,
   "bibliofile": "biblio.bib",
   "cite_by": "apalike",
   "current_citInitial": 1,
   "eqLabelWithNumbers": true,
   "eqNumInitial": 1,
   "hotkeys": {
    "equation": "Ctrl-E",
    "itemize": "Ctrl-I"
   },
   "labels_anchors": false,
   "latex_user_defs": false,
   "report_style_numbering": false,
   "user_envs_cfg": false
  },
  "toc": {
   "base_numbering": 1,
   "nav_menu": {},
   "number_sections": true,
   "sideBar": true,
   "skip_h1_title": false,
   "title_cell": "Table of Contents",
   "title_sidebar": "Contents",
   "toc_cell": false,
   "toc_position": {},
   "toc_section_display": true,
   "toc_window_display": false
  },
  "varInspector": {
   "cols": {
    "lenName": 16,
    "lenType": 16,
    "lenVar": 40
   },
   "kernels_config": {
    "python": {
     "delete_cmd_postfix": "",
     "delete_cmd_prefix": "del ",
     "library": "var_list.py",
     "varRefreshCmd": "print(var_dic_list())"
    },
    "r": {
     "delete_cmd_postfix": ") ",
     "delete_cmd_prefix": "rm(",
     "library": "var_list.r",
     "varRefreshCmd": "cat(var_dic_list()) "
    }
   },
   "types_to_exclude": [
    "module",
    "function",
    "builtin_function_or_method",
    "instance",
    "_Feature"
   ],
   "window_display": false
  }
 },
 "nbformat": 4,
 "nbformat_minor": 5
}
