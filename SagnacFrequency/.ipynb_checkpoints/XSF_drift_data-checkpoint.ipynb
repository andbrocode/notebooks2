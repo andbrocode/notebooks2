{
 "cells": [
  {
   "cell_type": "markdown",
   "id": "22f5c8c9",
   "metadata": {
    "ExecuteTime": {
     "end_time": "2022-10-28T13:00:52.763484Z",
     "start_time": "2022-10-28T13:00:52.761516Z"
    }
   },
   "source": [
    "## Sagnac Frequency - Process Data"
   ]
  },
  {
   "cell_type": "markdown",
   "id": "185b1a0b",
   "metadata": {},
   "source": [
    "## Imports"
   ]
  },
  {
   "cell_type": "code",
   "execution_count": null,
   "id": "818caf4c",
   "metadata": {
    "ExecuteTime": {
     "end_time": "2023-06-27T08:11:10.277643Z",
     "start_time": "2023-06-27T08:11:08.781535Z"
    },
    "tags": []
   },
   "outputs": [],
   "source": [
    "import os\n",
    "import gc\n",
    "import matplotlib.pyplot as plt\n",
    "import numpy as np\n",
    "\n",
    "from datetime import datetime, date\n",
    "from pandas import DataFrame, read_pickle, date_range, concat, read_csv\n",
    "from obspy import UTCDateTime, read, Trace, Stream, read_inventory\n",
    "from scipy.signal import hilbert\n"
   ]
  },
  {
   "cell_type": "code",
   "execution_count": null,
   "id": "d717e2fc-6173-4d85-b4bb-59ffd121dc93",
   "metadata": {
    "tags": []
   },
   "outputs": [],
   "source": [
    "from functions.load_sagnac_beat_data import __load_sagnac_beat_data\n",
    "from functions.get_mlti_intervals import __get_mlti_intervals\n",
    "from functions.mlti_intervals_to_NaN import __mlti_intervals_to_NaN\n",
    "from functions.load_mlti import __load_mlti\n",
    "from functions.smoothing import __smooth\n",
    "from functions.interpolate_nan import __interpolate_nan\n",
    "from functions.get_phase_jumps_sta_lta import get_phase_jumps_sta_lta\n",
    "from functions.correct_phase_jumps import __correct_phase_jumps\n",
    "from functions.load_lxx import __load_lxx\n",
    "from functions.get_lxx_intervals import __get_lxx_intervals\n",
    "from functions.reduce import __reduce\n",
    "from functions.sagnac_to_tilt import __sagnac_to_tilt\n",
    "from functions.get_mlti_statistics import __get_mlti_statistics\n"
   ]
  },
  {
   "cell_type": "code",
   "execution_count": null,
   "id": "b83c9987",
   "metadata": {
    "ExecuteTime": {
     "end_time": "2023-06-27T08:11:10.288084Z",
     "start_time": "2023-06-27T08:11:10.284752Z"
    },
    "tags": []
   },
   "outputs": [],
   "source": [
    "if os.uname().nodename == 'lighthouse':\n",
    "    root_path = '/home/andbro/'\n",
    "    data_path = '/home/andbro/kilauea-data/'\n",
    "    archive_path = '/home/andbro/freenas/'\n",
    "    bay_path = '/home/andbro/ontap-ffb-bay200/'\n",
    "    lamont_path = '/home/andbro/lamont/'\n",
    "elif os.uname().nodename == 'kilauea':\n",
    "    root_path = '/home/brotzer/'\n",
    "    data_path = '/import/kilauea-data/'\n",
    "    archive_path = '/import/freenas-ffb-01-data/'\n",
    "    bay_path = '/import/ontap-ffb-bay200/'\n",
    "    lamont_path = '/lamont/'\n",
    "elif os.uname().nodename in ['lin-ffb-01', 'ambrym', 'hochfelln']:\n",
    "    root_path = '/home/brotzer/'\n",
    "    data_path = '/import/kilauea-data/'\n",
    "    archive_path = '/import/freenas-ffb-01-data/'\n",
    "    bay_path = '/import/ontap-ffb-bay200/'\n",
    "    lamont_path = '/lamont/'"
   ]
  },
  {
   "cell_type": "markdown",
   "id": "ec2578ab",
   "metadata": {},
   "source": [
    "## Configurations"
   ]
  },
  {
   "cell_type": "code",
   "execution_count": null,
   "id": "ba83e3e7",
   "metadata": {
    "ExecuteTime": {
     "end_time": "2023-06-27T08:11:13.008382Z",
     "start_time": "2023-06-27T08:11:13.002517Z"
    },
    "tags": []
   },
   "outputs": [],
   "source": [
    "config = {}\n",
    "\n",
    "case = 20\n",
    "config['tbeg'] = UTCDateTime(\"2024-03-09 00:00\")\n",
    "config['tend'] = UTCDateTime(\"2024-04-09 00:00\")\n",
    "Zlower, Zupper = 553.542, 553.564\n",
    "Ulower, Uupper = 302.40, 302.50\n",
    "Vlower, Vupper = 447.725, 447.74\n",
    "\n",
    "# case = 21\n",
    "# config['tbeg'] = UTCDateTime(\"2023-12-01 00:00\")\n",
    "# config['tend'] = UTCDateTime(\"2023-12-31 00:00\")\n",
    "# Zlower, Zupper = 553.49, 553.51\n",
    "# Ulower, Uupper = 302.4, 302.52\n",
    "# Vlower, Vupper = 447.42, 447.46\n",
    "\n",
    "# case = 22\n",
    "# config['tbeg'] = UTCDateTime(\"2024-02-09 00:00\")\n",
    "# config['tend'] = UTCDateTime(\"2024-02-12 12:00\")\n",
    "# Zlower, Zupper = 553.555, 553.565\n",
    "# Ulower, Uupper = 302.40, 302.45\n",
    "# Vlower, Vupper = 447.745, 447.755\n",
    "\n",
    "# case = 23\n",
    "# config['tbeg'] = UTCDateTime(\"2024-01-01 00:00\")\n",
    "# config['tend'] = UTCDateTime(\"2024-02-20 00:00\")\n",
    "# Zlower, Zupper = 553.48, 553.58\n",
    "# Ulower, Uupper = 302.39, 302.475\n",
    "# Vlower, Vupper = 447.7, 447.80\n",
    "\n",
    "# case = 24\n",
    "# config['tbeg'] = UTCDateTime(\"2023-12-01 00:00\")\n",
    "# config['tend'] = UTCDateTime(\"2024-01-15 00:00\")\n",
    "# Zlower, Zupper = 553.49, 553.51\n",
    "# Ulower, Uupper = 302.4, 302.52\n",
    "# Vlower, Vupper = 447.42, 447.46\n",
    "\n",
    "# longterm 2024\n",
    "# case = 30\n",
    "# config['tbeg'] = UTCDateTime(\"2024-01-23 00:00\")\n",
    "# config['tend'] = UTCDateTime(\"2024-06-30 00:00\")\n",
    "# Zlower, Zupper = 553.52, 553.58\n",
    "# Ulower, Uupper = 302.4, 302.48\n",
    "# Vlower, Vupper = 447.72, 447.78\n",
    "\n",
    "# case = 25 # water\n",
    "# config['tbeg'] = UTCDateTime(\"2024-05-29 00:00\")\n",
    "# config['tend'] = UTCDateTime(\"2024-06-05 00:00\")\n",
    "# Zlower, Zupper = 553.52, 553.58\n",
    "# Ulower, Uupper = 302.40, 302.47\n",
    "# Vlower, Vupper = 447.72, 447.78\n",
    "\n",
    "# shortterm tilt\n",
    "# case = 26\n",
    "# config['tbeg'] = UTCDateTime(\"2024-07-06 00:00\")\n",
    "# config['tend'] = UTCDateTime(\"2024-07-17 00:00\")\n",
    "# Zlower, Zupper = 553.52, 553.58\n",
    "# Ulower, Uupper = 302.4, 302.48\n",
    "# Vlower, Vupper = 447.72, 447.78\n",
    "\n",
    "config['delta'] = 60\n",
    "\n",
    "config['n_minutes'] = 12 * config['delta']\n",
    "\n",
    "config['path_to_sds'] = archive_path+\"romy_archive/\"\n",
    "\n",
    "# path to Sagnac Beat data\n",
    "config['path_to_autodata'] = archive_path+f\"romy_autodata/\"\n",
    "\n",
    "# specify path to output data\n",
    "config['path_to_out_data'] = data_path+\"manuscripts/manuscript_romy_drifts/data/\"\n"
   ]
  },
  {
   "cell_type": "code",
   "execution_count": null,
   "id": "4159acaa-956d-44ad-bc94-e9a445ccb8a7",
   "metadata": {
    "tags": []
   },
   "outputs": [],
   "source": [
    "beatU = __load_sagnac_beat_data(config['tbeg'], config['tend'], \"U\", config['path_to_autodata'])\n",
    "beatZ = __load_sagnac_beat_data(config['tbeg'], config['tend'], \"Z\", config['path_to_autodata'])\n",
    "beatV = __load_sagnac_beat_data(config['tbeg'], config['tend'], \"V\", config['path_to_autodata'])"
   ]
  },
  {
   "cell_type": "code",
   "execution_count": null,
   "id": "c5d52437-cbe4-4782-a2e6-16aef6703083",
   "metadata": {
    "tags": []
   },
   "outputs": [],
   "source": [
    "def __makeplot0(beat1, beat2, beat3, key, limits=True):\n",
    "\n",
    "    Nrow, Ncol = 3, 1\n",
    "\n",
    "    font = 12\n",
    "\n",
    "    time_scaling = 1/86400\n",
    "\n",
    "    fig, ax = plt.subplots(Nrow, Ncol, figsize=(15, 8), sharex=True)\n",
    "\n",
    "    ax[0].plot(beat1.times_utc_sec*time_scaling, beat1[key])\n",
    "    # ax[0].set_ylim(553.49, 553.52)\n",
    "    ax[0].ticklabel_format(useOffset=False)\n",
    "\n",
    "    ax[1].plot(beat2.times_utc_sec*time_scaling, beat2[key])\n",
    "    # ax[1].set_ylim(302.4, 302.5)\n",
    "    ax[1].ticklabel_format(useOffset=False)\n",
    "\n",
    "    ax[2].plot(beat3.times_utc_sec*time_scaling, beat3[key])\n",
    "    # ax[2].set_ylim(447.4, 447.6)\n",
    "    ax[2].ticklabel_format(useOffset=False)\n",
    "\n",
    "    # ax[2].axhline(np.nanpercentile(beatV.fj, 99))\n",
    "    # ax[2].axhline(np.nanpercentile(beatV.fj, 1))\n",
    "\n",
    "    for _n in range(Nrow):\n",
    "        ax[_n].grid(ls=\":\", zorder=0)\n",
    "        ax[_n].legend(loc=1)\n",
    "\n",
    "    if limits:\n",
    "        ax[0].set_ylim(Zlower, Zupper)\n",
    "        ax[1].set_ylim(Ulower, Uupper)\n",
    "        ax[2].set_ylim(Vlower, Vupper)\n",
    "\n",
    "    plt.show();\n",
    "    return fig"
   ]
  },
  {
   "cell_type": "code",
   "execution_count": null,
   "id": "b628e134-d983-4bd5-a8d1-5e0796b37ecf",
   "metadata": {
    "tags": []
   },
   "outputs": [],
   "source": [
    "fig = __makeplot0(beatZ, beatU, beatV, \"fj\");"
   ]
  },
  {
   "cell_type": "markdown",
   "id": "a7e275d3-a082-4f03-9195-d385b9610adc",
   "metadata": {},
   "source": [
    "## Remove breakdown periods"
   ]
  },
  {
   "cell_type": "code",
   "execution_count": null,
   "id": "6474b743-84e8-4151-a528-338d0307bfb9",
   "metadata": {
    "tags": []
   },
   "outputs": [],
   "source": [
    "timesU = [(\"2023-12-04T09:10\", \"2023-12-04T18:02\"),\n",
    "          (\"2023-12-20T06:10\", \"2023-12-20T12:01\")]\n",
    "\n",
    "for t1, t2 in timesU:\n",
    "    beatU['fj'] = np.where((beatU.times_utc > t1) & (beatU.times_utc < t2), np.nan, beatU['fj'])\n"
   ]
  },
  {
   "cell_type": "code",
   "execution_count": null,
   "id": "143b539b-ee12-49ec-9b0a-91990abb9fc4",
   "metadata": {
    "tags": []
   },
   "outputs": [],
   "source": [
    "timesV = [(\"2024-01-01T04:00\", \"2024-01-01T22:51\"),\n",
    "          (\"2024-01-03T14:20\", \"2024-01-06T00:00\"),\n",
    "          (\"2023-12-19T09:40\", \"2023-12-19T15:21\")]\n",
    "\n",
    "for t1, t2 in timesV:\n",
    "    beatV['fj'] = np.where((beatV.times_utc > t1) & (beatV.times_utc < t2), np.nan, beatV['fj'])\n"
   ]
  },
  {
   "cell_type": "code",
   "execution_count": null,
   "id": "fa6e6134-d24d-42fb-a5c6-4b08a453a707",
   "metadata": {
    "tags": []
   },
   "outputs": [],
   "source": [
    "timesZ = [(\"2023-12-07T00:10\", \"2023-12-08T18:05\"),\n",
    "          (\"2024-05-30T14:00\", \"2024-06-02T15:00\"),\n",
    "          (\"2024-06-03 02:00\", \"2024-06-23 00:00\"),]\n",
    "\n",
    "for t1, t2 in timesZ:\n",
    "    beatZ['fj'] = np.where((beatZ.times_utc > t1) & (beatZ.times_utc < t2), np.nan, beatZ['fj'])\n"
   ]
  },
  {
   "cell_type": "markdown",
   "id": "c8ddaa22-8ec7-445c-8dab-bcdbf02d4c4d",
   "metadata": {},
   "source": [
    "### Exclude Outliers (outside fmin and fmax)"
   ]
  },
  {
   "cell_type": "code",
   "execution_count": null,
   "id": "23cd9285-f024-4875-bbc5-d37e9bfc4242",
   "metadata": {
    "tags": []
   },
   "outputs": [],
   "source": [
    "beatZ['fj'] = np.where((beatZ.fj > Zupper), np.nan, beatZ.fj)\n",
    "beatZ['fj'] = np.where((beatZ.fj < Zlower), np.nan, beatZ.fj)\n",
    "\n",
    "beatU['fj'] = np.where((beatU.fj > Uupper), np.nan, beatU.fj)\n",
    "beatU['fj'] = np.where((beatU.fj < Ulower), np.nan, beatU.fj)\n",
    "\n",
    "beatV['fj'] = np.where((beatV.fj > Vupper), np.nan, beatV.fj)\n",
    "beatV['fj'] = np.where((beatV.fj < Vlower), np.nan, beatV.fj)"
   ]
  },
  {
   "cell_type": "code",
   "execution_count": null,
   "id": "72a5f21b-de0d-4abc-8be9-9f96ddf6e84a",
   "metadata": {
    "tags": []
   },
   "outputs": [],
   "source": [
    "fig = __makeplot0(beatZ, beatU, beatV, \"fj\");"
   ]
  },
  {
   "cell_type": "markdown",
   "id": "24dae667-8ac7-49e7-bc73-4c52138cebf4",
   "metadata": {},
   "source": [
    "## Load Maintenance LXX log"
   ]
  },
  {
   "cell_type": "code",
   "execution_count": null,
   "id": "f479dff8-7896-47bb-bb14-c9a33d3d65b0",
   "metadata": {
    "tags": []
   },
   "outputs": [],
   "source": [
    "# load LXX log data\n",
    "lxx =__load_lxx(config['tbeg'], config['tend'], archive_path)\n",
    "\n",
    "# extract time intervals\n",
    "lxx_t1, lxx_t2 = __get_lxx_intervals(lxx.datetime)\n"
   ]
  },
  {
   "cell_type": "markdown",
   "id": "87a89fa2-25f0-46a2-a18e-12aa8bc4b874",
   "metadata": {},
   "source": [
    "## Remove MLTI times"
   ]
  },
  {
   "cell_type": "code",
   "execution_count": null,
   "id": "314fcb2a-47e7-4344-a9ec-71096c50fca6",
   "metadata": {
    "tags": []
   },
   "outputs": [],
   "source": [
    "# load mlti launches\n",
    "mltiZ = __load_mlti(config['tbeg'], config['tend'], \"Z\", archive_path)\n",
    "\n",
    "# compute mlti sequences\n",
    "mltiZ_t1, mltiZ_t2 = __get_mlti_intervals(mltiZ.time_utc)\n",
    "\n",
    "# get index for mlti launches\n",
    "mltiZ_sec = [int((UTCDateTime(_t) - config['tbeg'])/config['delta']) for _t in mltiZ.time_utc]\n"
   ]
  },
  {
   "cell_type": "code",
   "execution_count": null,
   "id": "a6f61324-9b7f-4343-a67d-754fb356d3c4",
   "metadata": {
    "tags": []
   },
   "outputs": [],
   "source": [
    "# load mlti launches\n",
    "mltiU = __load_mlti(config['tbeg'], config['tend'], \"U\", archive_path)\n",
    "\n",
    "# compute mlti sequences\n",
    "mltiU_t1, mltiU_t2 = __get_mlti_intervals(mltiU.time_utc)\n",
    "\n",
    "# get index for mlti launches\n",
    "mltiU_sec = [int((UTCDateTime(_t) - config['tbeg'])/config['delta']) for _t in mltiU.time_utc]\n"
   ]
  },
  {
   "cell_type": "code",
   "execution_count": null,
   "id": "4ea9860e-647d-4822-890b-696d73db1f70",
   "metadata": {
    "tags": []
   },
   "outputs": [],
   "source": [
    "# load mlti launches\n",
    "mltiV = __load_mlti(config['tbeg'], config['tend'], \"V\", archive_path)\n",
    "\n",
    "# compute mlti sequences\n",
    "mltiV_t1, mltiV_t2 = __get_mlti_intervals(mltiV.time_utc)\n",
    "\n",
    "# get index for mlti launches\n",
    "mltiV_sec = [int((UTCDateTime(_t) - config['tbeg'])/config['delta']) for _t in mltiV.time_utc]\n"
   ]
  },
  {
   "cell_type": "markdown",
   "id": "1d4646a4-d375-41f3-9c1d-f5217db55081",
   "metadata": {},
   "source": [
    "## Find jumps and correct"
   ]
  },
  {
   "cell_type": "code",
   "execution_count": null,
   "id": "74f7eea3-3bbe-486e-96f2-1796e1616ed7",
   "metadata": {
    "tags": []
   },
   "outputs": [],
   "source": [
    "# detect phase jumps\n",
    "ratio, detect = get_phase_jumps_sta_lta(np.array(beatZ.fj), np.array(beatZ.times_utc_sec),\n",
    "                                        5, 3, amp_threshold=0.0001, plot=False)\n",
    "\n",
    "# add mlti launches to detected jumps for correction\n",
    "for _i in mltiZ_sec:\n",
    "    detect[_i] = 1\n",
    "\n",
    "# correct phase jumps\n",
    "beatZ['fj_dj'] = __correct_phase_jumps(beatZ.fj, detect)"
   ]
  },
  {
   "cell_type": "code",
   "execution_count": null,
   "id": "5ba57336-1266-4ebf-8e20-c2aec3bc4d92",
   "metadata": {
    "tags": []
   },
   "outputs": [],
   "source": [
    "# detect phase jumps\n",
    "ratio, detect = get_phase_jumps_sta_lta(np.array(beatU.fj), np.array(beatU.times_utc_sec),\n",
    "                                        5, 3, amp_threshold=0.0001, plot=False)\n",
    "\n",
    "# add mlti launches to detected jumps for correction\n",
    "for _i in mltiU_sec:\n",
    "    detect[_i] = 1\n",
    "\n",
    "# correct phase jumps\n",
    "beatU['fj_dj'] = __correct_phase_jumps(beatU.fj, detect)"
   ]
  },
  {
   "cell_type": "code",
   "execution_count": null,
   "id": "f55cfb80-ad21-4e7b-82ef-a22f0c039823",
   "metadata": {
    "tags": []
   },
   "outputs": [],
   "source": [
    "# detect phase jumps\n",
    "ratio, detect = get_phase_jumps_sta_lta(np.array(beatV.fj), np.array(beatV.times_utc_sec),\n",
    "                                        5, 3, amp_threshold=0.0001, plot=False)\n",
    "\n",
    "# add mlti launches to detected jumps for correction\n",
    "for _i in mltiV_sec:\n",
    "    detect[_i] = 1\n",
    "\n",
    "# correct phase jumps\n",
    "beatV['fj_dj'] = __correct_phase_jumps(beatV.fj, detect)"
   ]
  },
  {
   "cell_type": "code",
   "execution_count": null,
   "id": "36f3c92c-eb0d-49b2-94aa-90a30baed930",
   "metadata": {
    "tags": []
   },
   "outputs": [],
   "source": [
    "fig = __makeplot0(beatZ, beatU, beatV, \"fj_dj\", limits=False);"
   ]
  },
  {
   "cell_type": "markdown",
   "id": "eaafc755-042d-417c-90ab-8d6284420eb9",
   "metadata": {
    "tags": []
   },
   "source": [
    "### Compute MLTI density"
   ]
  },
  {
   "cell_type": "code",
   "execution_count": null,
   "id": "930f2cc8-d98b-4290-8374-929929526a20",
   "metadata": {
    "tags": []
   },
   "outputs": [],
   "source": [
    "mltistats = {}\n",
    "\n",
    "set_intervals = True\n",
    "\n",
    "mltistats[\"U\"] = __get_mlti_statistics(mltiU, config['tbeg'], config['tend'], intervals=set_intervals, plot=False, ylog=False)\n",
    "\n",
    "mltistats[\"V\"] = __get_mlti_statistics(mltiV, config['tbeg'], config['tend'], intervals=set_intervals, plot=False, ylog=False)\n",
    "\n",
    "mltistats[\"Z\"] = __get_mlti_statistics(mltiZ, config['tbeg'], config['tend'], intervals=set_intervals, plot=False, ylog=False)"
   ]
  },
  {
   "cell_type": "code",
   "execution_count": null,
   "id": "45a6c856-63f3-4a40-90ed-3d1bc2d75c84",
   "metadata": {
    "tags": []
   },
   "outputs": [],
   "source": [
    "Nsec = config['n_minutes'] * 60\n",
    "\n",
    "mltistats[\"U\"][\"mlti_series_avg\"] = __smooth(mltistats[\"U\"][\"mlti_series\"], Nsec, win=\"hanning\")\n",
    "mltistats[\"V\"][\"mlti_series_avg\"] = __smooth(mltistats[\"V\"][\"mlti_series\"], Nsec, win=\"hanning\")\n",
    "mltistats[\"Z\"][\"mlti_series_avg\"] = __smooth(mltistats[\"Z\"][\"mlti_series\"], Nsec, win=\"hanning\")"
   ]
  },
  {
   "cell_type": "markdown",
   "id": "e5eeb52e-91a8-4d18-9583-c9dfd8112317",
   "metadata": {},
   "source": [
    "### Set MLTI intervals to NaN"
   ]
  },
  {
   "cell_type": "code",
   "execution_count": null,
   "id": "97ec6fec-017c-4f96-8313-973b69d1b0ae",
   "metadata": {
    "tags": []
   },
   "outputs": [],
   "source": [
    "beatU = __mlti_intervals_to_NaN(beatU, \"fj\", \"times_utc\", mltiU_t1, mltiU_t2, t_offset_sec=180)\n",
    "beatV = __mlti_intervals_to_NaN(beatV, \"fj\", \"times_utc\", mltiV_t1, mltiV_t2, t_offset_sec=180)\n",
    "beatZ = __mlti_intervals_to_NaN(beatZ, \"fj\", \"times_utc\", mltiZ_t1, mltiZ_t2, t_offset_sec=180)"
   ]
  },
  {
   "cell_type": "markdown",
   "id": "bf68b759-0f4e-4181-9c41-4947954f7c47",
   "metadata": {
    "tags": []
   },
   "source": [
    "## Interpolate NaN values"
   ]
  },
  {
   "cell_type": "code",
   "execution_count": null,
   "id": "fb67163f-c6d0-4a85-9889-55b687c789c9",
   "metadata": {
    "tags": []
   },
   "outputs": [],
   "source": [
    "beatU['fj_inter'] = __interpolate_nan(np.array(beatU.fj_nan))\n",
    "beatV['fj_inter'] = __interpolate_nan(np.array(beatV.fj_nan))\n",
    "beatZ['fj_inter'] = __interpolate_nan(np.array(beatZ.fj_nan))"
   ]
  },
  {
   "cell_type": "markdown",
   "id": "fad23456-3357-4da8-9d0c-c1805c551a37",
   "metadata": {},
   "source": [
    "## Smoothing"
   ]
  },
  {
   "cell_type": "code",
   "execution_count": null,
   "id": "00d4d273-a04e-4d82-b0d1-f3d45a5bd34c",
   "metadata": {
    "tags": []
   },
   "outputs": [],
   "source": [
    "# moving average with hanning window\n",
    "beatU['fj_smooth'] = __smooth(beatU.fj_inter, config['n_minutes'], setpad=True)\n",
    "beatV['fj_smooth'] = __smooth(beatV.fj_inter, config['n_minutes'], setpad=True)\n",
    "beatZ['fj_smooth'] = __smooth(beatZ.fj_inter, config['n_minutes'], setpad=True)\n",
    "\n",
    "beatU['fj_dj_smooth'] = __smooth(beatU.fj_dj, config['n_minutes'], setpad=True)\n",
    "beatV['fj_dj_smooth'] = __smooth(beatV.fj_dj, config['n_minutes'], setpad=True)\n",
    "beatZ['fj_dj_smooth'] = __smooth(beatZ.fj_dj, config['n_minutes'], setpad=True)\n",
    "\n",
    "# from scipy.ndimage import median_filter\n",
    "\n",
    "# n_minutes = 6 * config['delta']\n",
    "\n",
    "# beatU['fj_smooth'] = median_filter(beatU.fj_inter, n_minutes)\n",
    "# beatV['fj_smooth'] = median_filter(beatV.fj_inter, n_minutes)\n",
    "# beatZ['fj_smooth'] = median_filter(beatZ.fj_inter, n_minutes)\n",
    "\n",
    "# beatU['fj_dj_smooth'] = median_filter(beatU.fj_dj, n_minutes)\n",
    "# beatV['fj_dj_smooth'] = median_filter(beatV.fj_dj, n_minutes)\n",
    "# beatZ['fj_dj_smooth'] = median_filter(beatZ.fj_dj, n_minutes)\n",
    "\n",
    "# from scipy.ndimage import gaussian_filter1d\n",
    "\n",
    "# n = 180\n",
    "\n",
    "# beatU['fj_smooth'] = gaussian_filter1d(beatU.fj_inter, n)\n",
    "# beatV['fj_smooth'] = gaussian_filter1d(beatV.fj_inter, n)\n",
    "# beatZ['fj_smooth'] = gaussian_filter1d(beatZ.fj_inter, n)\n",
    "\n",
    "# beatU['fj_dj_smooth'] = gaussian_filter1d(beatU.fj_dj, n)\n",
    "# beatV['fj_dj_smooth'] = gaussian_filter1d(beatV.fj_dj, n)\n",
    "# beatZ['fj_dj_smooth'] = gaussian_filter1d(beatZ.fj_dj, n)"
   ]
  },
  {
   "cell_type": "markdown",
   "id": "e1dfe0a6-2138-4849-b9cc-f54a9e4e1fe5",
   "metadata": {},
   "source": [
    "## Masks"
   ]
  },
  {
   "cell_type": "code",
   "execution_count": null,
   "id": "76ddd9f7-4f85-420d-b2d1-191cf78bdec6",
   "metadata": {
    "tags": []
   },
   "outputs": [],
   "source": [
    "maskU = np.where(np.isnan(beatU.fj_nan), np.nan, 1)\n",
    "maskV = np.where(np.isnan(beatV.fj_nan), np.nan, 1)\n",
    "maskZ = np.where(np.isnan(beatZ.fj_nan), np.nan, 1)"
   ]
  },
  {
   "cell_type": "code",
   "execution_count": null,
   "id": "e376eddf-4c25-4dd0-a415-7e79918c4cc8",
   "metadata": {
    "tags": []
   },
   "outputs": [],
   "source": [
    "beatU['fj_smooth_masked'] = beatU['fj_smooth'] * maskU\n",
    "beatV['fj_smooth_masked'] = beatV['fj_smooth'] * maskV\n",
    "beatZ['fj_smooth_masked'] = beatZ['fj_smooth'] * maskZ\n",
    "\n",
    "beatU['fj_dj_smooth_masked'] = beatU['fj_dj_smooth'] * maskU\n",
    "beatV['fj_dj_smooth_masked'] = beatV['fj_dj_smooth'] * maskV\n",
    "beatZ['fj_dj_smooth_masked'] = beatZ['fj_dj_smooth'] * maskZ"
   ]
  },
  {
   "cell_type": "markdown",
   "id": "8bbefdf8-7d5d-4dfc-a3bd-3dc07fb583bd",
   "metadata": {},
   "source": [
    "## Rotate to ZNE"
   ]
  },
  {
   "cell_type": "code",
   "execution_count": null,
   "id": "d354ac1f-8d7d-4ca0-aad6-3e60a4543024",
   "metadata": {
    "tags": []
   },
   "outputs": [],
   "source": [
    "# select key feature\n",
    "key0 = \"fj_smooth\"\n",
    "\n",
    "beatU['fj_reduced'] = __reduce(beatU[key0], 60)\n",
    "beatV['fj_reduced'] = __reduce(beatV[key0], 60)\n",
    "beatZ['fj_reduced'] = __reduce(beatZ[key0], 60)\n",
    "\n",
    "beatU['fj_reduced_masked'] = beatU['fj_reduced'] * maskU\n",
    "beatV['fj_reduced_masked'] = beatV['fj_reduced'] * maskV\n",
    "beatZ['fj_reduced_masked'] = beatZ['fj_reduced'] * maskZ\n",
    "\n",
    "key0 = \"fj_dj_smooth\"\n",
    "\n",
    "beatU['fj_dj_reduced'] = __reduce(beatU[key0], 60)\n",
    "beatV['fj_dj_reduced'] = __reduce(beatV[key0], 60)\n",
    "beatZ['fj_dj_reduced'] = __reduce(beatZ[key0], 60)\n",
    "\n",
    "beatU['fj_dj_reduced_masked'] = beatU['fj_dj_reduced'] * maskU\n",
    "beatV['fj_dj_reduced_masked'] = beatV['fj_dj_reduced'] * maskV\n",
    "beatZ['fj_dj_reduced_masked'] = beatZ['fj_dj_reduced'] * maskZ"
   ]
  },
  {
   "cell_type": "markdown",
   "id": "cab35219-956c-489a-b8c3-d976b6905e38",
   "metadata": {},
   "source": [
    "## Tilt"
   ]
  },
  {
   "cell_type": "code",
   "execution_count": null,
   "id": "6cc4fd78-9015-4a36-b71e-afdab19352bb",
   "metadata": {
    "tags": []
   },
   "outputs": [],
   "source": [
    "key, str_key = 'fj_reduced_masked', \"\"\n",
    "\n",
    "# N-S\n",
    "beatZ['tilt_ns'] = __sagnac_to_tilt(beatZ[key], \"Z\", tilt='n-s')\n",
    "beatU['tilt_ns'] = __sagnac_to_tilt(beatU[key], \"U\", tilt='n-s')\n",
    "beatV['tilt_ns'] = __sagnac_to_tilt(beatV[key], \"V\", tilt='n-s')\n",
    "\n",
    "# E-W\n",
    "beatZ['tilt_ew'] = __sagnac_to_tilt(beatZ[key], \"Z\", tilt='e-w')\n",
    "beatU['tilt_ew'] = __sagnac_to_tilt(beatU[key], \"U\", tilt='e-w')\n",
    "beatV['tilt_ew'] = __sagnac_to_tilt(beatV[key], \"V\", tilt='e-w')\n"
   ]
  },
  {
   "cell_type": "markdown",
   "id": "b99b2e8f-5506-4d60-8efe-9bfd52e9bbf9",
   "metadata": {},
   "source": [
    "### Store Data Frame"
   ]
  },
  {
   "cell_type": "code",
   "execution_count": null,
   "id": "f59248ac-8798-4f9e-b905-14bf8f866b3b",
   "metadata": {
    "tags": []
   },
   "outputs": [],
   "source": [
    "beatZ.to_pickle(f\"{config['path_to_out_data']}beatz_drift_{config['tbeg'].date}_{config['tend'].date}.pkl\")\n",
    "beatU.to_pickle(f\"{config['path_to_out_data']}beatu_drift_{config['tbeg'].date}_{config['tend'].date}.pkl\")\n",
    "beatV.to_pickle(f\"{config['path_to_out_data']}beatv_drift_{config['tbeg'].date}_{config['tend'].date}.pkl\")"
   ]
  },
  {
   "cell_type": "markdown",
   "id": "67825345-5f7f-4100-aab2-ad334be4e822",
   "metadata": {},
   "source": [
    "## Store MLTI"
   ]
  },
  {
   "cell_type": "code",
   "execution_count": null,
   "id": "56e29549-8111-45ba-b5c2-99ae3096bed2",
   "metadata": {
    "tags": []
   },
   "outputs": [],
   "source": [
    "def __save_to_pickle(obj, path, name):\n",
    "\n",
    "    import os\n",
    "    import pickle\n",
    "\n",
    "    ofile = open(path+name+\".pkl\", 'wb')\n",
    "    pickle.dump(obj, ofile)\n",
    "\n",
    "    if os.path.isfile(path+name+\".pkl\"):\n",
    "        print(f\"\\n -> created:  {path}{name}.pkl\")"
   ]
  },
  {
   "cell_type": "code",
   "execution_count": null,
   "id": "1d11ace4-3221-4d1a-bb91-13137bec1771",
   "metadata": {
    "tags": []
   },
   "outputs": [],
   "source": [
    "__save_to_pickle(mltistats, config['path_to_out_data'], f\"mltistats_{config['tbeg'].date}_{config['tend'].date}\")"
   ]
  },
  {
   "cell_type": "markdown",
   "id": "1ab1b87c-d39b-4892-9220-439d5e166cde",
   "metadata": {},
   "source": [
    "## Store LXX"
   ]
  },
  {
   "cell_type": "code",
   "execution_count": null,
   "id": "b4b47d48-f932-4a1d-be4e-e1b341a8146c",
   "metadata": {
    "tags": []
   },
   "outputs": [],
   "source": [
    "lxx = DataFrame()\n",
    "\n",
    "lxx['t1'] = lxx_t1\n",
    "lxx['t2'] = lxx_t2\n",
    "\n",
    "lxx.to_pickle(f\"{config['path_to_out_data']}lxx__{config['tbeg'].date}_{config['tend'].date}.pkl\")"
   ]
  },
  {
   "cell_type": "code",
   "execution_count": null,
   "id": "ee88fa01-9e97-4018-a36a-07c865b63468",
   "metadata": {},
   "outputs": [],
   "source": []
  }
 ],
 "metadata": {
  "kernelspec": {
   "display_name": "Python 3 (ipykernel)",
   "language": "python",
   "name": "python3"
  },
  "language_info": {
   "codemirror_mode": {
    "name": "ipython",
    "version": 3
   },
   "file_extension": ".py",
   "mimetype": "text/x-python",
   "name": "python",
   "nbconvert_exporter": "python",
   "pygments_lexer": "ipython3",
   "version": "3.10.12"
  },
  "latex_envs": {
   "LaTeX_envs_menu_present": true,
   "autoclose": false,
   "autocomplete": true,
   "bibliofile": "biblio.bib",
   "cite_by": "apalike",
   "current_citInitial": 1,
   "eqLabelWithNumbers": true,
   "eqNumInitial": 1,
   "hotkeys": {
    "equation": "Ctrl-E",
    "itemize": "Ctrl-I"
   },
   "labels_anchors": false,
   "latex_user_defs": false,
   "report_style_numbering": false,
   "user_envs_cfg": false
  },
  "toc": {
   "base_numbering": 1,
   "nav_menu": {},
   "number_sections": true,
   "sideBar": true,
   "skip_h1_title": false,
   "title_cell": "Table of Contents",
   "title_sidebar": "Contents",
   "toc_cell": false,
   "toc_position": {},
   "toc_section_display": true,
   "toc_window_display": false
  },
  "varInspector": {
   "cols": {
    "lenName": 16,
    "lenType": 16,
    "lenVar": 40
   },
   "kernels_config": {
    "python": {
     "delete_cmd_postfix": "",
     "delete_cmd_prefix": "del ",
     "library": "var_list.py",
     "varRefreshCmd": "print(var_dic_list())"
    },
    "r": {
     "delete_cmd_postfix": ") ",
     "delete_cmd_prefix": "rm(",
     "library": "var_list.r",
     "varRefreshCmd": "cat(var_dic_list()) "
    }
   },
   "types_to_exclude": [
    "module",
    "function",
    "builtin_function_or_method",
    "instance",
    "_Feature"
   ],
   "window_display": false
  }
 },
 "nbformat": 4,
 "nbformat_minor": 5
}
