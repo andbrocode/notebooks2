{
 "cells": [
  {
   "cell_type": "markdown",
   "id": "22f5c8c9",
   "metadata": {
    "ExecuteTime": {
     "end_time": "2022-10-28T13:00:52.763484Z",
     "start_time": "2022-10-28T13:00:52.761516Z"
    }
   },
   "source": [
    "## Sagnac Frequency - Backscatter Correction - RU Tilt"
   ]
  },
  {
   "cell_type": "markdown",
   "id": "1cd32aed",
   "metadata": {},
   "source": [
    "Explore the longterm behaviour of the RU sagnac beat"
   ]
  },
  {
   "cell_type": "markdown",
   "id": "185b1a0b",
   "metadata": {},
   "source": [
    "## Imports"
   ]
  },
  {
   "cell_type": "code",
   "execution_count": null,
   "id": "818caf4c",
   "metadata": {
    "ExecuteTime": {
     "end_time": "2023-06-27T08:11:10.277643Z",
     "start_time": "2023-06-27T08:11:08.781535Z"
    },
    "tags": []
   },
   "outputs": [],
   "source": [
    "import os\n",
    "import gc\n",
    "import matplotlib.pyplot as plt\n",
    "import numpy as np\n",
    "\n",
    "from datetime import datetime, date\n",
    "from pandas import DataFrame, read_pickle, date_range, concat, read_csv\n",
    "from obspy import UTCDateTime, read, Trace, Stream, read_inventory\n",
    "from scipy.signal import hilbert\n",
    "\n",
    "from functions.get_fft import __get_fft\n",
    "from functions.multitaper_psd import __multitaper_psd\n",
    "from functions.welch_psd import __welch_psd\n",
    "\n",
    "from andbro__read_sds import __read_sds\n",
    "from andbro__readYaml import __readYaml\n",
    "from andbro__load_FURT_stream import __load_furt_stream"
   ]
  },
  {
   "cell_type": "code",
   "execution_count": null,
   "id": "b83c9987",
   "metadata": {
    "ExecuteTime": {
     "end_time": "2023-06-27T08:11:10.288084Z",
     "start_time": "2023-06-27T08:11:10.284752Z"
    },
    "tags": []
   },
   "outputs": [],
   "source": [
    "if os.uname().nodename == 'lighthouse':\n",
    "    root_path = '/home/andbro/'\n",
    "    data_path = '/home/andbro/kilauea-data/'\n",
    "    archive_path = '/home/andbro/freenas/'\n",
    "    bay_path = '/home/andbro/bay200/'\n",
    "elif os.uname().nodename == 'kilauea':\n",
    "    root_path = '/home/brotzer/'\n",
    "    data_path = '/import/kilauea-data/'\n",
    "    archive_path = '/import/freenas-ffb-01-data/'\n",
    "    bay_path = '/bay200/'\n",
    "elif os.uname().nodename == 'lin-ffb-01':\n",
    "    root_path = '/home/brotzer/'\n",
    "    data_path = '/import/kilauea-data/'\n",
    "    archive_path = '/import/freenas-ffb-01-data/'\n",
    "    bay_path = '/bay200/'"
   ]
  },
  {
   "cell_type": "code",
   "execution_count": null,
   "id": "6d4dc8b2-cc89-420e-a4cf-5ca715a57aa7",
   "metadata": {
    "tags": []
   },
   "outputs": [],
   "source": [
    "from functions.reduce import __reduce\n",
    "from functions.load_backscatter_data import __load_backscatter_data"
   ]
  },
  {
   "cell_type": "markdown",
   "id": "ec2578ab",
   "metadata": {},
   "source": [
    "## Configurations"
   ]
  },
  {
   "cell_type": "code",
   "execution_count": null,
   "id": "ba83e3e7",
   "metadata": {
    "ExecuteTime": {
     "end_time": "2023-06-27T08:11:13.008382Z",
     "start_time": "2023-06-27T08:11:13.002517Z"
    },
    "tags": []
   },
   "outputs": [],
   "source": [
    "config = {}\n",
    "\n",
    "config['ring'] = \"U\"\n",
    "\n",
    "config['seed'] = \"BW.DROMY..FJU\"\n",
    "\n",
    "config['path_to_sds'] = archive_path+\"romy_archive/\"\n",
    "\n",
    "config['tbeg'] = UTCDateTime(\"2024-03-26 12:00\")\n",
    "config['tend'] = UTCDateTime(\"2024-03-31 00:00\")\n",
    "flim1, flim2 = 302.42, 302.50\n",
    "\n",
    "## path to Sagnac data\n",
    "config['path_to_autodata'] = archive_path+f\"romy_autodata/\"\n",
    "\n",
    "config['path_to_data'] = data_path+\"sagnac_frequency/data/backscatter/\"\n",
    "\n",
    "config['path_to_figs'] = data_path+\"sagnac_frequency/figures/\"\n",
    "\n",
    "config['colors'] = {  1:'darkgreen',\n",
    "                      3:'lightgreen',\n",
    "                      4:'purple',\n",
    "                      5:'darkred',\n",
    "                      6:'darkblue',\n",
    "                      7:'darkorange',\n",
    "                      8:'darkcyan',\n",
    "                      9:'cyan',\n",
    "                     }"
   ]
  },
  {
   "cell_type": "markdown",
   "id": "12ef7747-2cb6-4561-bfe3-ccd226aae9dc",
   "metadata": {
    "tags": []
   },
   "source": [
    "## Configurations"
   ]
  },
  {
   "cell_type": "code",
   "execution_count": null,
   "id": "5d8a5d06-0406-40f2-865b-93ad62f11e51",
   "metadata": {
    "tags": []
   },
   "outputs": [],
   "source": [
    "bs = __load_backscatter_data(config['tbeg'], config['tend'], config['ring'], config['path_to_data'])\n",
    "\n",
    "bs['time_sec'] = bs.time2 - bs.time1 + (bs.time1 - bs.time1.loc[0])"
   ]
  },
  {
   "cell_type": "markdown",
   "id": "3e53acfb-0295-4a70-a83e-337b7ed465a2",
   "metadata": {},
   "source": [
    "### Compute Backscatter (again)"
   ]
  },
  {
   "cell_type": "code",
   "execution_count": null,
   "id": "73528b65-7674-4d8e-a1e0-1a2d87ad0709",
   "metadata": {
    "tags": []
   },
   "outputs": [],
   "source": [
    "from functions.backscatter_correction import __backscatter_correction"
   ]
  },
  {
   "cell_type": "code",
   "execution_count": null,
   "id": "a45ff2da-cbcc-4a75-842a-85304cfbf9dd",
   "metadata": {
    "tags": []
   },
   "outputs": [],
   "source": [
    "# unwrap phases as one time series\n",
    "bs['fj_ph'] = np.unwrap(bs.fj_ph)\n",
    "bs['f1_ph'] = np.unwrap(bs.f1_ph)\n",
    "bs['f2_ph'] = np.unwrap(bs.f2_ph)\n",
    "\n",
    "# fractional beat modulations\n",
    "m01 = bs.f1_ac / bs.f1_dc\n",
    "m02 = bs.f2_ac / bs.f2_dc\n",
    "\n",
    "# phase difference\n",
    "ph1 = bs.f1_ph\n",
    "ph2 = bs.f2_ph\n",
    "phase0 = ph2 - ph1\n",
    "\n",
    "# beat signal observed\n",
    "w_obs = bs.fj_fs\n",
    "\n",
    "# compute backscatter corrected signal\n",
    "bs['fj_bs'] = __backscatter_correction(m01, m02, phase0, w_obs, 303.05, cm_filter_factor=1.033)"
   ]
  },
  {
   "cell_type": "code",
   "execution_count": null,
   "id": "5d07a94d-79ed-4f72-ae54-2b345a645eaa",
   "metadata": {
    "tags": []
   },
   "outputs": [],
   "source": [
    "plt.figure(figsize=(15, 5))\n",
    "plt.plot(bs.time_sec/86400, bs.fj_fs)\n",
    "plt.ylim(flim1, flim2)"
   ]
  },
  {
   "cell_type": "markdown",
   "id": "c5b9e835-f58a-4241-ba3f-ec5427ffa35c",
   "metadata": {},
   "source": [
    "### Cut corrupt data periods"
   ]
  },
  {
   "cell_type": "code",
   "execution_count": null,
   "id": "7f016660-577e-42a4-907d-9a7190a147e2",
   "metadata": {
    "tags": []
   },
   "outputs": [],
   "source": [
    "times = [(\"2023-12-04T09:11\", \"2023-12-04T18:01\")]\n",
    "\n",
    "for t1, t2 in times:\n",
    "    bs['fj_fs'] = np.where((bs.time1 > t1) & (bs.time1 < t2), np.nan, bs.fj_fs)\n",
    "    bs['fj_bs'] = np.where((bs.time1 > t1) & (bs.time1 < t2), np.nan, bs.w_s)\n",
    "\n",
    "\n",
    "bs['fj_fs'] = np.nan_to_num(bs['fj_fs'], nan=np.nanmedian(bs['fj_fs']))\n",
    "bs['fj_bs'] = np.nan_to_num(bs['fj_bs'], nan=np.nanmedian(bs['fj_bs']))"
   ]
  },
  {
   "cell_type": "code",
   "execution_count": null,
   "id": "a110303c-2c40-4558-a12a-c7dd99b09d6a",
   "metadata": {
    "tags": []
   },
   "outputs": [],
   "source": [
    "from functions.load_mlti import __load_mlti\n",
    "\n",
    "mltiU = __load_mlti(config['tbeg'], config['tend'], \"U\", archive_path)"
   ]
  },
  {
   "cell_type": "code",
   "execution_count": null,
   "id": "3073c5f9-f439-4b8b-a9f5-6702bfbd492c",
   "metadata": {
    "tags": []
   },
   "outputs": [],
   "source": [
    "from functions.get_mlti_intervals import __get_mlti_intervals\n",
    "\n",
    "mltiU_t1, mltiU_t2 = __get_mlti_intervals(mltiU.time_utc)"
   ]
  },
  {
   "cell_type": "code",
   "execution_count": null,
   "id": "f57efd20-ec2a-4e9e-baa3-29b5de985ead",
   "metadata": {
    "tags": []
   },
   "outputs": [],
   "source": [
    "from functions.mlti_intervals_to_NaN import __mlti_intervals_to_NaN\n",
    "\n",
    "bs = __mlti_intervals_to_NaN(bs, \"fj_fs\", \"time1\", mltiU_t1, mltiU_t2, t_offset_sec=300)\n",
    "bs = __mlti_intervals_to_NaN(bs, \"fj_bs\", \"time1\", mltiU_t1, mltiU_t2, t_offset_sec=300)"
   ]
  },
  {
   "cell_type": "markdown",
   "id": "60589676-e1b9-449d-92a9-22ba4cbe5e18",
   "metadata": {},
   "source": [
    "### Apply special filter sections"
   ]
  },
  {
   "cell_type": "code",
   "execution_count": null,
   "id": "f59af53c-b28c-4b70-83f8-e4850e70eac2",
   "metadata": {
    "tags": []
   },
   "outputs": [],
   "source": [
    "tt1, tt2 = \"2023-11-01\", \"2023-11-07 17:00\"\n",
    "cond1 = bs.time1 > tt1\n",
    "cond2 = bs.time1 < tt2\n",
    "cond3 = bs.fj_fs_nan < 302.95\n",
    "cond4 = bs.fj_fs_nan > 303.1\n",
    "\n",
    "bs['fj_fs_nan'] = np.where(cond1 & cond2 & cond3, np.nan, bs.fj_fs_nan)\n",
    "bs['fj_fs_nan'] = np.where(cond1 & cond2 & cond4, np.nan, bs.fj_fs_nan)\n",
    "\n",
    "bs['fj_bs_nan'] = np.where(cond1 & cond2 & cond3, np.nan, bs.fj_bs_nan)\n",
    "bs['fj_bs_nan'] = np.where(cond1 & cond2 & cond4, np.nan, bs.fj_bs_nan)\n"
   ]
  },
  {
   "cell_type": "code",
   "execution_count": null,
   "id": "934d85ba-f553-4782-92ba-2887a04ca0fa",
   "metadata": {
    "tags": []
   },
   "outputs": [],
   "source": [
    "tt1, tt2 = \"2023-11-07 17:00\", \"2023-11-20 14:00\"\n",
    "cond1 = bs.time1 > tt1\n",
    "cond2 = bs.time1 < tt2\n",
    "cond3 = bs.fj_fs_nan < 302.7\n",
    "cond4 = bs.fj_fs_nan > 303.0\n",
    "\n",
    "bs['fj_fs_nan'] = np.where(cond1 & cond2 & cond3, np.nan, bs.fj_fs_nan)\n",
    "bs['fj_fs_nan'] = np.where(cond1 & cond2 & cond4, np.nan, bs.fj_fs_nan)\n",
    "\n",
    "bs['fj_bs_nan'] = np.where(cond1 & cond2 & cond3, np.nan, bs.fj_bs_nan)\n",
    "bs['fj_bs_nan'] = np.where(cond1 & cond2 & cond4, np.nan, bs.fj_bs_nan)\n"
   ]
  },
  {
   "cell_type": "code",
   "execution_count": null,
   "id": "70aeb3b9-8b5b-487c-aada-be618b7b17ea",
   "metadata": {
    "tags": []
   },
   "outputs": [],
   "source": [
    "tt1, tt2 = \"2023-11-20 14:00\", \"2024-01-11\"\n",
    "cond1 = bs.time1 > tt1\n",
    "cond2 = bs.time1 < tt2\n",
    "cond3 = bs.fj_fs_nan < 302.4\n",
    "cond4 = bs.fj_fs_nan > 302.6\n",
    "\n",
    "bs['fj_fs_nan'] = np.where(cond1 & cond2 & cond3, np.nan, bs.fj_fs_nan)\n",
    "bs['fj_fs_nan'] = np.where(cond1 & cond2 & cond4, np.nan, bs.fj_fs_nan)\n",
    "\n",
    "bs['fj_bs_nan'] = np.where(cond1 & cond2 & cond3, np.nan, bs.fj_bs_nan)\n",
    "bs['fj_bs_nan'] = np.where(cond1 & cond2 & cond4, np.nan, bs.fj_bs_nan)\n"
   ]
  },
  {
   "cell_type": "code",
   "execution_count": null,
   "id": "a033ede7-a7dc-489a-9d31-6be404435dd0",
   "metadata": {
    "tags": []
   },
   "outputs": [],
   "source": [
    "tt1, tt2 = \"2023-12-20 00:00\", \"2024-02-22\"\n",
    "cond1 = bs.time1 > tt1\n",
    "cond2 = bs.time1 < tt2\n",
    "cond3 = bs.fj_fs_nan < 302.38\n",
    "cond4 = bs.fj_fs_nan > 302.48\n",
    "\n",
    "bs['fj_fs_nan'] = np.where(cond1 & cond2 & cond3, np.nan, bs.fj_fs_nan)\n",
    "bs['fj_fs_nan'] = np.where(cond1 & cond2 & cond4, np.nan, bs.fj_fs_nan)\n",
    "\n",
    "bs['fj_bs_nan'] = np.where(cond1 & cond2 & cond3, np.nan, bs.fj_bs_nan)\n",
    "bs['fj_bs_nan'] = np.where(cond1 & cond2 & cond4, np.nan, bs.fj_bs_nan)\n"
   ]
  },
  {
   "cell_type": "code",
   "execution_count": null,
   "id": "512abf36-a40d-480f-9177-556a493a4cbc",
   "metadata": {
    "tags": []
   },
   "outputs": [],
   "source": [
    "from functions.interpolate_nan import __interpolate_nan\n",
    "\n",
    "bs['fj_fs_inter'] = __interpolate_nan(np.array(bs.fj_fs_nan))\n",
    "bs['fj_bs_inter'] = __interpolate_nan(np.array(bs.fj_bs_nan))"
   ]
  },
  {
   "cell_type": "code",
   "execution_count": null,
   "id": "09b3cefb-1f20-400e-822c-37dde096970a",
   "metadata": {
    "tags": []
   },
   "outputs": [],
   "source": [
    "from functions.smoothing import __smooth\n",
    "\n",
    "n_minutes = 300\n",
    "\n",
    "bs['fj_fs_smooth'] = __smooth(bs.fj_fs_inter, n_minutes)\n",
    "bs['fj_bs_smooth'] = __smooth(bs.fj_bs_inter, n_minutes)"
   ]
  },
  {
   "cell_type": "markdown",
   "id": "2f3154b6-1c6a-436d-97bf-0e86d840b43d",
   "metadata": {},
   "source": [
    "### Load LXX maintenance"
   ]
  },
  {
   "cell_type": "code",
   "execution_count": null,
   "id": "fcb83285-ae34-4335-be4e-977e1d22561a",
   "metadata": {
    "tags": []
   },
   "outputs": [],
   "source": [
    "from functions.load_lxx import __load_lxx\n",
    "\n",
    "lxx =__load_lxx(config['tbeg'], config['tend'], archive_path)"
   ]
  },
  {
   "cell_type": "code",
   "execution_count": null,
   "id": "30338cfb-dfab-4814-9555-15fc6d779ef7",
   "metadata": {
    "tags": []
   },
   "outputs": [],
   "source": [
    "from functions.get_lxx_intervals import __get_lxx_intervals\n",
    "\n",
    "lxx_t1, lxx_t2 = __get_lxx_intervals(lxx.datetime)"
   ]
  },
  {
   "cell_type": "markdown",
   "id": "97787288-abff-4aa9-8601-0832ceaa11d8",
   "metadata": {},
   "source": [
    "### Checkup Plot"
   ]
  },
  {
   "cell_type": "code",
   "execution_count": null,
   "id": "2ae877ec-3074-4929-a0f1-d866cb07ae39",
   "metadata": {
    "tags": []
   },
   "outputs": [],
   "source": [
    "def __makeplot():\n",
    "\n",
    "    Nrow, Ncol = 1, 1\n",
    "\n",
    "    font = 12\n",
    "\n",
    "    fig, ax = plt.subplots(Nrow, Ncol, figsize=(15, 5), sharex=True)\n",
    "\n",
    "    plt.subplots_adjust(hspace=0.1)\n",
    "\n",
    "    # time_scaling = 1/86400\n",
    "    time_scaling = 1\n",
    "    ref_date = str(bs.time1.iloc[0])[:10]\n",
    "\n",
    "    ax.plot(bs.time_sec*time_scaling, bs.fj_fs, color=\"tab:grey\", alpha=0.3, label=\"raw\")\n",
    "    ax.plot(bs.time_sec*time_scaling, bs.fj_fs_nan, color=\"tab:blue\", label=\"cleaned\")\n",
    "    # ax.plot(bs.time_sec*time_scaling, bs.fj_fs_smooth, color=\"k\", label=f\"mov. avg. ({n_minutes} min)\")\n",
    "    ax.set_ylim(flim1, flim2)\n",
    "    ax.ticklabel_format(useOffset=False)\n",
    "    ax.set_ylabel(\"$\\delta f$ north ring (Hz)\", fontsize=font)\n",
    "\n",
    "    ax.grid(ls=\":\", zorder=0)\n",
    "    ax.legend(loc=1)\n",
    "    ax.set_xlim(left=0)\n",
    "\n",
    "    for lx1, lx2 in zip(lxx_t1, lxx_t2):\n",
    "        lx1_sec = lx1-UTCDateTime(ref_date)\n",
    "        lx2_sec = lx2-UTCDateTime(ref_date)\n",
    "        ax.fill_betweenx([flim1, flim2], lx1_sec, lx2_sec, color=\"yellow\", alpha=0.5)\n",
    "\n",
    "    ## add dates to x-axis\n",
    "    tcks = ax.get_xticks()\n",
    "    tcklbls = [f\"{UTCDateTime(UTCDateTime(ref_date)+t).date} \\n {UTCDateTime(UTCDateTime(ref_date)+t).time}\" for t in tcks]\n",
    "    ax.set_xticklabels(tcklbls)\n",
    "\n",
    "    gc.collect()\n",
    "\n",
    "    plt.show();\n",
    "    return fig\n",
    "\n",
    "fig = __makeplot();\n",
    "\n",
    "# fig.savefig(config['path_to_figs']+f\"SF_BS_RU_longterm_cleaned.png\", format=\"png\", dpi=150, bbox_inches='tight')\n"
   ]
  },
  {
   "cell_type": "markdown",
   "id": "f30a9a64-cae7-4114-9182-0b9e743eb9f0",
   "metadata": {},
   "source": [
    "### Load WROMY Data"
   ]
  },
  {
   "cell_type": "code",
   "execution_count": null,
   "id": "7f61e961-435d-43e3-b122-a74b79e534a6",
   "metadata": {
    "tags": []
   },
   "outputs": [],
   "source": [
    "ws = Stream()\n",
    "ws += __read_sds(archive_path+\"temp_archive/\", \"BW.WROMY.01.LKI\", config['tbeg'], config['tend'])\n",
    "ws += __read_sds(archive_path+\"temp_archive/\", \"BW.WROMY.05.LKI\", config['tbeg'], config['tend'])\n",
    "ws += __read_sds(archive_path+\"temp_archive/\", \"BW.WROMY.09.LKI\", config['tbeg'], config['tend'])\n",
    "\n",
    "ws = ws.merge();\n",
    "\n",
    "ws"
   ]
  },
  {
   "cell_type": "markdown",
   "id": "7668bfc3-a538-4b59-9830-6ec41872deb9",
   "metadata": {
    "tags": []
   },
   "source": [
    "### Load PROMY Data"
   ]
  },
  {
   "cell_type": "code",
   "execution_count": null,
   "id": "e6ad98b2-edad-406e-b96e-487bf4d44749",
   "metadata": {
    "tags": []
   },
   "outputs": [],
   "source": [
    "ps = Stream()\n",
    "ps += __read_sds(archive_path+\"temp_archive/\", \"BW.PROMY.03.LKI\", config['tbeg'], config['tend'])\n",
    "ps += __read_sds(archive_path+\"temp_archive/\", \"BW.PROMY.01.LKI\", config['tbeg'], config['tend'])\n",
    "ps += __read_sds(archive_path+\"temp_archive/\", \"BW.PROMY.05.LKI\", config['tbeg'], config['tend'])\n",
    "ps += __read_sds(archive_path+\"temp_archive/\", \"BW.PROMY.09.LKI\", config['tbeg'], config['tend'])\n",
    "\n",
    "ps3 = ps.merge();\n",
    "\n",
    "ps"
   ]
  },
  {
   "cell_type": "markdown",
   "id": "0244fec6-eacb-4505-9074-03904a20f3ee",
   "metadata": {
    "tags": []
   },
   "source": [
    "### Load Tilt Data"
   ]
  },
  {
   "cell_type": "code",
   "execution_count": null,
   "id": "31e25295-87a3-4e6c-af9a-615aa72ff5c8",
   "metadata": {
    "tags": []
   },
   "outputs": [],
   "source": [
    "from functions.conversion_to_tilt import __conversion_to_tilt"
   ]
  },
  {
   "cell_type": "code",
   "execution_count": null,
   "id": "a13ea3fe-2766-4561-9d97-dd0856174f6e",
   "metadata": {
    "tags": []
   },
   "outputs": [],
   "source": [
    "# path_to_tilt = data_path+\"TiltmeterDataBackup/Tilt_downsampled/\"\n",
    "\n",
    "# tromy0 =  __read_sds(path_to_tilt, \"BW.TROMY..MAN\", config['tbeg']+17*86400-600, config['tend']+600)\n",
    "# tromy0 += __read_sds(path_to_tilt, \"BW.TROMY..MAE\", config['tbeg']+17*86400-600, config['tend']+600)\n",
    "# tromy0 += __read_sds(path_to_tilt, \"BW.TROMY..MAT\", config['tbeg']+17*86400-600, config['tend']+600)\n",
    "\n",
    "path_to_tilt = archive_path+\"romy_archive/\"\n",
    "\n",
    "tromy0 =  __read_sds(path_to_tilt, \"BW.ROMYT..MAN\", config['tbeg']-600, config['tend']+600)\n",
    "tromy0 += __read_sds(path_to_tilt, \"BW.ROMYT..MAE\", config['tbeg']-600, config['tend']+600)\n",
    "tromy0 += __read_sds(path_to_tilt, \"BW.ROMYT..MAT\", config['tbeg']-600, config['tend']+600)"
   ]
  },
  {
   "cell_type": "code",
   "execution_count": null,
   "id": "686cd881-38a5-49e5-b77d-3f8591c13156",
   "metadata": {
    "tags": []
   },
   "outputs": [],
   "source": [
    "## tiltmeter configurations\n",
    "confTilt = __readYaml(root_path+\"Documents/ROMY/tiltmeter/\", \"tiltmeter.conf\")\n",
    "\n",
    "tromy0 = __conversion_to_tilt(tromy0, confTilt['TROMY'])\n",
    "\n",
    "tromy0 = tromy0.trim(bs.time1[0], bs.time1[bs.time1.size-1]);\n",
    "\n",
    "tromy = tromy0.copy();\n",
    "\n",
    "tromy = tromy.merge();\n",
    "\n",
    "tromy.plot(equal_scale=False);"
   ]
  },
  {
   "cell_type": "code",
   "execution_count": null,
   "id": "0beaa753-3608-497f-b1be-e6154c5b2781",
   "metadata": {
    "tags": []
   },
   "outputs": [],
   "source": [
    "from functions.compute_cwt import __compute_cwt\n",
    "from functions.sagnac_to_tilt import __sagnac_to_tilt"
   ]
  },
  {
   "cell_type": "code",
   "execution_count": null,
   "id": "2c4d8e5b-50be-4cb4-9fd6-e2d82d4ca577",
   "metadata": {
    "tags": []
   },
   "outputs": [],
   "source": [
    "ru_tilt = __sagnac_to_tilt(np.array(bs.fj_bs), \"U\")\n",
    "\n",
    "ru = Stream()\n",
    "\n",
    "ru = Trace()\n",
    "ru.data = ru_tilt\n",
    "ru.stats.delta = 60\n",
    "ru.stats.starttime = bs.time1.iloc[0]\n",
    "ru.stats.station = \"ROMY\"\n",
    "ru.stats.channel = \"FJU\"\n",
    "ru.stats.network = \"BW\"\n"
   ]
  },
  {
   "cell_type": "code",
   "execution_count": null,
   "id": "4e2c07fb-b183-424a-8975-5c57b0449640",
   "metadata": {
    "tags": []
   },
   "outputs": [],
   "source": [
    "st0 = Stream()\n",
    "\n",
    "st0 += tromy.copy().select(channel=\"*N\")[0]\n",
    "st0 += tromy.copy().select(channel=\"*E\")[0]\n",
    "\n",
    "st0 += ru.copy()"
   ]
  },
  {
   "cell_type": "code",
   "execution_count": null,
   "id": "59a19c5e-e2da-477b-a9f8-43574b209150",
   "metadata": {
    "tags": []
   },
   "outputs": [],
   "source": [
    "pmin, pmax = 15, 10\n",
    "\n",
    "st0 = st0.trim(config['tbeg'], config['tend'], nearest_sample=False)\n",
    "st0 = st0.detrend(\"linear\")\n",
    "st0 = st0.taper(0.2)\n",
    "st0 = st0.filter(\"bandpass\", freqmin=1/(pmin*3600), freqmax=1/(pmax*3600), corners=2, zerophase=True)\n",
    "st0 = st0.resample(1/600, no_filter=True)\n",
    "st0 = st0.trim(config['tbeg'], config['tend']-7200, nearest_sample=True)\n",
    "st0\n"
   ]
  },
  {
   "cell_type": "code",
   "execution_count": null,
   "id": "a2e499d3-09d2-4307-b6dc-f3f052f1f7fa",
   "metadata": {
    "tags": []
   },
   "outputs": [],
   "source": [
    "st0.plot(equal_scale=False);"
   ]
  },
  {
   "cell_type": "code",
   "execution_count": null,
   "id": "8860329a-67b4-4096-a3fa-7aa4aea7d77f",
   "metadata": {
    "tags": []
   },
   "outputs": [],
   "source": [
    "\n",
    "outs = {}\n",
    "\n",
    "for c in [\"N\", \"E\", \"U\"]:\n",
    "\n",
    "    tr = st0.select(channel=f\"*{c}\")[0]\n",
    "\n",
    "    ttt = tr.times()\n",
    "    arr = tr.data\n",
    "    dt  = tr.stats.delta # seconds\n",
    "\n",
    "    outs[c] = __compute_cwt(ttt, arr, dt,\n",
    "                            tscale=\"hour\",\n",
    "                            datalabel=\"$\\delta$f (Hz)\",\n",
    "                            scale_value=2,\n",
    "                            log=False, period=True, ymax=30, plot=False,\n",
    "                           )"
   ]
  },
  {
   "cell_type": "code",
   "execution_count": null,
   "id": "f9170532-5e6e-4048-86d5-1ce675ffb2d4",
   "metadata": {
    "tags": []
   },
   "outputs": [],
   "source": [
    "def __makeplot_cwt_all(st0, out, clog=False, ylim=None):\n",
    "\n",
    "    import matplotlib.pyplot as plt\n",
    "    import numpy as np\n",
    "    from matplotlib.gridspec import GridSpec\n",
    "\n",
    "    def __rmse(arr1, arr2):\n",
    "        return np.round(np.sqrt(np.mean((arr1-arr2)**2)), 2)\n",
    "\n",
    "    tscale = 1/86400\n",
    "\n",
    "    times = st0.select(channel=\"*N\")[0].times()*tscale/3600\n",
    "\n",
    "    Ncol, Nrow = 1, 9\n",
    "\n",
    "    font = 12\n",
    "\n",
    "    cmap = plt.get_cmap(\"viridis\")\n",
    "\n",
    "    tilt_scale, tilt_unit = 1e9, f\"nrad\"\n",
    "\n",
    "    fig = plt.figure(figsize=(15, 8))\n",
    "\n",
    "    gs = GridSpec(Nrow, Ncol, figure=fig, hspace=0.1)\n",
    "\n",
    "    ax1 = fig.add_subplot(gs[0, :])\n",
    "    ax2 = fig.add_subplot(gs[1:3, :])\n",
    "    ax3 = fig.add_subplot(gs[3, :])\n",
    "    ax4 = fig.add_subplot(gs[4:6, :])\n",
    "    ax5 = fig.add_subplot(gs[6, :])\n",
    "    ax6 = fig.add_subplot(gs[7:9, :])\n",
    "\n",
    "    axes = [ax1, ax2, ax3, ax4, ax5, ax6]\n",
    "\n",
    "    U = st0.select(channel=\"*U\")[0].data*tilt_scale\n",
    "    N = st0.select(channel=\"*N\")[0].data*tilt_scale\n",
    "    E = st0.select(channel=\"*E\")[0].data*tilt_scale\n",
    "\n",
    "    periodZ = 1/outs['U']['frequencies']/3600\n",
    "    periodN = 1/outs['N']['frequencies']/3600\n",
    "    periodE = 1/outs['N']['frequencies']/3600\n",
    "\n",
    "    # _______________________________________________________________\n",
    "    #\n",
    "    ax1.plot(times, N, color=\"k\", label=\"N\", lw=1)\n",
    "    ax1.set_xlim(min(times), max(times))\n",
    "    ax1.legend(loc=1)\n",
    "    ax1.set_xticklabels([])\n",
    "\n",
    "    if clog:\n",
    "        vmin, vmax, norm = 0.01, 1, \"log\"\n",
    "    else:\n",
    "        vmin, vmax, norm = 0.0, 0.9, None\n",
    "    # _______________________________________________________________\n",
    "    #\n",
    "    im1 = ax2.pcolormesh(out['N']['times']*tscale*3600, periodN, out['N']['cwt_power'],\n",
    "                         cmap=cmap,\n",
    "                         vmin=vmin,\n",
    "                         vmax=vmax,\n",
    "                         norm=norm,\n",
    "                        )\n",
    "    ax2.plot(out['N']['times']*tscale*3600, 1/out['N']['cone']/3600, color=\"white\", ls=\"--\")\n",
    "    ax2.fill_between(out['N']['times']*tscale*3600, 1/out['N']['cone']/3600, min(periodN)*np.ones(len(out['N']['cone'])), color=\"white\", alpha=0.2)\n",
    "    ax2.set_xticklabels([])\n",
    "\n",
    "    if ylim is None:\n",
    "        ax2.set_ylim(min(periodN), max(periodN))\n",
    "    else:\n",
    "        ax2.set_ylim(min(periodN), ylim)\n",
    "\n",
    "    # _______________________________________________________________\n",
    "    #\n",
    "    ax3.plot(times, E, color=\"k\", label=\"E\", lw=1)\n",
    "    ax3.set_xlim(min(times), max(times))\n",
    "    ax3.legend(loc=1)\n",
    "    ax3.set_xticklabels([])\n",
    "\n",
    "    # _______________________________________________________________\n",
    "    #\n",
    "    im2 = ax4.pcolormesh(out['E']['times']*tscale*3600, periodE, out['E']['cwt_power'],\n",
    "                         cmap=cmap,\n",
    "                         vmin=vmin,\n",
    "                         vmax=vmax,\n",
    "                         norm=norm,\n",
    "                        )\n",
    "    ax4.plot(out['E']['times']*tscale*3600, 1/out['E']['cone']/3600, color=\"white\", ls=\"--\")\n",
    "    ax4.fill_between(out['E']['times']*tscale*3600, 1/out['E']['cone']/3600, max(periodE)*np.ones(len(out['E']['cone'])), color=\"white\", alpha=0.2)\n",
    "    ax4.set_xticklabels([])\n",
    "\n",
    "    if ylim is None:\n",
    "        ax4.set_ylim(min(periodE), max(periodE))\n",
    "    else:\n",
    "        ax4.set_ylim(min(periodE), ylim)\n",
    "\n",
    "    # _______________________________________________________________\n",
    "    #\n",
    "    ax5.plot(times, U, color=\"k\", label=\"U\", lw=1)\n",
    "    ax5.set_xlim(min(times), max(times))\n",
    "    ax5.legend(loc=1)\n",
    "    ax5.set_xticklabels([])\n",
    "\n",
    "    # _______________________________________________________________\n",
    "    #\n",
    "    im3 = ax6.pcolormesh(out['U']['times']*tscale*3600, periodE, out['U']['cwt_power'],\n",
    "                         cmap=cmap,\n",
    "                         vmin=vmin,\n",
    "                         vmax=vmax,\n",
    "                         norm=norm,\n",
    "                        )\n",
    "    ax6.plot(out['U']['times']*tscale*3600, 1/out['U']['cone']/3600, color=\"white\", ls=\"--\")\n",
    "    ax6.fill_between(out['U']['times']*tscale*3600, 1/out['U']['cone']/3600, max(periodZ)*np.ones(len(out['U']['cone'])), color=\"white\", alpha=0.2)\n",
    "\n",
    "    if ylim is None:\n",
    "        ax6.set_ylim(min(periodZ), max(periodZ))\n",
    "    else:\n",
    "        ax6.set_ylim(min(periodZ), ylim)\n",
    "\n",
    "    # _______________________________________________________________\n",
    "    #\n",
    "    ax1.set_ylabel(f\"$\\phi$ ({tilt_unit})\", fontsize=font)\n",
    "    ax2.set_ylabel(f\"Period (hour)\", fontsize=font)\n",
    "    ax3.set_ylabel(f\"$\\phi$ ({tilt_unit})\", fontsize=font)\n",
    "    ax4.set_ylabel(f\"Period (hour)\", fontsize=font)\n",
    "    ax5.set_ylabel(f\"$\\phi$ ({tilt_unit})\", fontsize=font)\n",
    "    ax6.set_ylabel(f\"Period (hour)\", fontsize=font)\n",
    "\n",
    "    ax6.set_xlabel(f\"Time (days) from {config['tbeg'].date} {str(config['tbeg'].time).split('.')[0]} UTC\", fontsize=font)\n",
    "\n",
    "\n",
    "    ax1.text(.005, .97, \"(a)\", ha='left', va='top', transform=ax1.transAxes, fontsize=font+2)\n",
    "    ax2.text(.005, .97, \"(b)\", ha='left', va='top', transform=ax2.transAxes, fontsize=font+2, color=\"w\")\n",
    "    ax3.text(.005, .97, \"(c)\", ha='left', va='top', transform=ax3.transAxes, fontsize=font+2)\n",
    "    ax4.text(.005, .97, \"(d)\", ha='left', va='top', transform=ax4.transAxes, fontsize=font+2, color=\"w\")\n",
    "    ax5.text(.005, .97, \"(e)\", ha='left', va='top', transform=ax5.transAxes, fontsize=font+2)\n",
    "    ax6.text(.005, .97, \"(f)\", ha='left', va='top', transform=ax6.transAxes, fontsize=font+2, color=\"w\")\n",
    "\n",
    "    # add colorbar\n",
    "    cbar_ax = fig.add_axes([0.91, 0.11, 0.01, 0.77]) #[left, bottom, width, height]\n",
    "    cb = plt.colorbar(im1, cax=cbar_ax, extend=\"max\")\n",
    "    cb.set_label(\"norm. continuous wavelet transform power\", fontsize=font, labelpad=5, color=\"black\")\n",
    "\n",
    "#     ax1.set_title(f\"bandpass = {pmax} - {pmin} hours\")\n",
    "\n",
    "    plt.plot();\n",
    "    return fig\n",
    "\n",
    "fig = __makeplot_cwt_all(st0, outs, clog=False, ylim=35)\n"
   ]
  },
  {
   "cell_type": "markdown",
   "id": "09161acb-7975-4362-a28b-8ea4704d7cf1",
   "metadata": {},
   "source": [
    "### Load Infrasound FFBI"
   ]
  },
  {
   "cell_type": "code",
   "execution_count": null,
   "id": "ca975a1e-35bf-4d90-8c63-c731c8b07672",
   "metadata": {
    "tags": []
   },
   "outputs": [],
   "source": [
    "ffbi = __read_sds(bay_path+\"mseed_online/archive/\", \"BW.FFBI..BDF\", config['tbeg'], config['tend'])\n",
    "\n",
    "if len(ffbi) != 2:\n",
    "    ffbi.merge();\n",
    "\n",
    "ffbi_inv = read_inventory(root_path+\"/Documents/ROMY/ROMY_infrasound/station_BW_FFBI.xml\")\n",
    "ffbi = ffbi.remove_response(ffbi_inv, water_level=10)\n",
    "\n",
    "ffbi += __read_sds(bay_path+\"mseed_online/archive/\", \"BW.FFBI..BDO\", config['tbeg'], config['tend'])\n",
    "for tr in ffbi:\n",
    "    if \"O\" in tr.stats.station:\n",
    "        tr.data = tr.data /1.0 /6.28099e5 /100e-3   # gain=1 sensitivity_reftek=6.28099e5count/V; sensitivity = 100 mV/hPa\n",
    "\n",
    "ffbi.plot(equal_scale=False);"
   ]
  },
  {
   "cell_type": "code",
   "execution_count": null,
   "id": "0db6848d-588d-423d-8e87-89028440871f",
   "metadata": {
    "tags": []
   },
   "outputs": [],
   "source": [
    "ru_tilt = __sagnac_to_tilt(np.array(bs.fj_bs_inter), \"U\")\n",
    "\n",
    "ru = Stream()\n",
    "\n",
    "ru = Trace()\n",
    "ru.data = ru_tilt\n",
    "ru.stats.delta = 60\n",
    "ru.stats.starttime = bs.time1.iloc[0]\n",
    "ru.stats.station = \"ROMY\"\n",
    "ru.stats.channel = \"FJU\"\n",
    "ru.stats.network = \"BW\"\n"
   ]
  },
  {
   "cell_type": "code",
   "execution_count": null,
   "id": "701498ad-e8ec-4b05-a942-03d741b6a3d0",
   "metadata": {
    "tags": []
   },
   "outputs": [],
   "source": [
    "st0 = Stream()\n",
    "\n",
    "st0 += ffbi.select(channel=\"*F\")[0].copy()\n",
    "st0 += ffbi.select(channel=\"*O\")[0].copy()\n",
    "\n",
    "st0 += ru.copy()"
   ]
  },
  {
   "cell_type": "code",
   "execution_count": null,
   "id": "3657f4b3-3135-4702-abcc-fd15080b0fc0",
   "metadata": {
    "tags": []
   },
   "outputs": [],
   "source": [
    "st0.plot(equal_scale=False)"
   ]
  },
  {
   "cell_type": "code",
   "execution_count": null,
   "id": "55e65f1d-2adc-441c-87b4-304ec1f2b709",
   "metadata": {
    "tags": []
   },
   "outputs": [],
   "source": [
    "fmin, fmax = 0.0005, 0.05\n",
    "\n",
    "st0 = st0.trim(config['tbeg'], config['tend'], nearest_sample=False)\n",
    "st0 = st0.detrend(\"linear\")\n",
    "st0 = st0.taper(0.1)\n",
    "st0 = st0.filter(\"bandpass\", freqmin=fmin, freqmax=fmax, corners=2, zerophase=True)\n",
    "st0 = st0.resample(5*fmax, no_filter=True)\n",
    "st0 = st0.trim(config['tbeg'], config['tend']-7200, nearest_sample=True)\n",
    "st0\n"
   ]
  },
  {
   "cell_type": "code",
   "execution_count": null,
   "id": "2ebdedb0-0d2f-4440-a9e8-6b7f7afd92da",
   "metadata": {
    "tags": []
   },
   "outputs": [],
   "source": [
    "\n",
    "outs = {}\n",
    "\n",
    "for c in [\"O\", \"F\", \"U\"]:\n",
    "\n",
    "    tr = st0.select(channel=f\"*{c}\")[0]\n",
    "\n",
    "    ttt = tr.times()\n",
    "    arr = tr.data\n",
    "    dt  = tr.stats.delta # seconds\n",
    "\n",
    "    outs[c] = __compute_cwt(ttt, arr, dt,\n",
    "                            tscale=\"hour\",\n",
    "                            datalabel=\"$\\delta$f (Hz)\",\n",
    "                            scale_value=10,\n",
    "                            log=False, period=True, ymax=None, plot=True,\n",
    "                           )"
   ]
  },
  {
   "cell_type": "code",
   "execution_count": null,
   "id": "72af412d-0456-4323-ad29-eb20a0c7e7da",
   "metadata": {
    "tags": []
   },
   "outputs": [],
   "source": [
    "def __makeplot_cwt_all(st0, out, clog=False, ylim=None):\n",
    "\n",
    "    import matplotlib.pyplot as plt\n",
    "    import numpy as np\n",
    "    from matplotlib.gridspec import GridSpec\n",
    "\n",
    "    def __rmse(arr1, arr2):\n",
    "        return np.round(np.sqrt(np.mean((arr1-arr2)**2)), 2)\n",
    "\n",
    "    tscale = 1/86400\n",
    "\n",
    "    times = st0.select(channel=\"*O\")[0].times()*tscale/3600\n",
    "\n",
    "    Ncol, Nrow = 1, 9\n",
    "\n",
    "    font = 12\n",
    "\n",
    "    cmap = plt.get_cmap(\"viridis\")\n",
    "\n",
    "    # tilt_scale, tilt_unit = 1e9, f\"nrad\"\n",
    "\n",
    "    fig = plt.figure(figsize=(15, 8))\n",
    "\n",
    "    gs = GridSpec(Nrow, Ncol, figure=fig, hspace=0.1)\n",
    "\n",
    "    ax1 = fig.add_subplot(gs[0, :])\n",
    "    ax2 = fig.add_subplot(gs[1:3, :])\n",
    "    ax3 = fig.add_subplot(gs[3, :])\n",
    "    ax4 = fig.add_subplot(gs[4:6, :])\n",
    "    ax5 = fig.add_subplot(gs[6, :])\n",
    "    ax6 = fig.add_subplot(gs[7:9, :])\n",
    "\n",
    "    axes = [ax1, ax2, ax3, ax4, ax5, ax6]\n",
    "\n",
    "    U = st0.select(channel=\"*U\")[0].data\n",
    "    O = st0.select(channel=\"*O\")[0].data\n",
    "    F = st0.select(channel=\"*F\")[0].data\n",
    "\n",
    "    periodZ = 1/outs['U']['frequencies']/3600\n",
    "    periodN = 1/outs['O']['frequencies']/3600\n",
    "    periodE = 1/outs['F']['frequencies']/3600\n",
    "\n",
    "    # _______________________________________________________________\n",
    "    #\n",
    "    ax1.plot(times, O, color=\"k\", label=\"BDO\", lw=1)\n",
    "    ax1.set_xlim(min(times), max(times))\n",
    "    ax1.legend(loc=1)\n",
    "    ax1.set_xticklabels([])\n",
    "\n",
    "    if clog:\n",
    "        vmin, vmax, norm = 0.01, 1, \"log\"\n",
    "    else:\n",
    "        vmin, vmax, norm = 0.0, 0.9, None\n",
    "    # _______________________________________________________________\n",
    "    #\n",
    "    im1 = ax2.pcolormesh(out['O']['times']*tscale*3600, periodN, out['O']['cwt_power'],\n",
    "                         cmap=cmap,\n",
    "                         vmin=vmin,\n",
    "                         vmax=vmax,\n",
    "                         norm=norm,\n",
    "                        )\n",
    "    ax2.plot(out['O']['times']*tscale*3600, 1/out['O']['cone']/3600, color=\"white\", ls=\"--\")\n",
    "    ax2.fill_between(out['O']['times']*tscale*3600, 1/out['O']['cone']/3600, min(periodN)*np.ones(len(out['O']['cone'])), color=\"white\", alpha=0.2)\n",
    "    ax2.set_xticklabels([])\n",
    "\n",
    "    if ylim is None:\n",
    "        ax2.set_ylim(min(periodN), max(periodN))\n",
    "    else:\n",
    "        ax2.set_ylim(min(periodN), ylim)\n",
    "\n",
    "    # _______________________________________________________________\n",
    "    #\n",
    "    ax3.plot(times, F, color=\"k\", label=\"BDF\", lw=1)\n",
    "    ax3.set_xlim(min(times), max(times))\n",
    "    ax3.legend(loc=1)\n",
    "    ax3.set_xticklabels([])\n",
    "\n",
    "    # _______________________________________________________________\n",
    "    #\n",
    "    im2 = ax4.pcolormesh(out['F']['times']*tscale*3600, periodE, out['F']['cwt_power'],\n",
    "                         cmap=cmap,\n",
    "                         vmin=vmin,\n",
    "                         vmax=vmax,\n",
    "                         norm=norm,\n",
    "                        )\n",
    "    ax4.plot(out['F']['times']*tscale*3600, 1/out['F']['cone']/3600, color=\"white\", ls=\"--\")\n",
    "    ax4.fill_between(out['F']['times']*tscale*3600, 1/out['F']['cone']/3600, max(periodE)*np.ones(len(out['F']['cone'])), color=\"white\", alpha=0.2)\n",
    "    ax4.set_xticklabels([])\n",
    "\n",
    "    if ylim is None:\n",
    "        ax4.set_ylim(min(periodE), max(periodE))\n",
    "    else:\n",
    "        ax4.set_ylim(min(periodE), ylim)\n",
    "\n",
    "    # _______________________________________________________________\n",
    "    #\n",
    "    ax5.plot(times, U*1e9, color=\"k\", label=\"FJU\", lw=1)\n",
    "    ax5.set_xlim(min(times), max(times))\n",
    "    ax5.legend(loc=1)\n",
    "    ax5.set_xticklabels([])\n",
    "\n",
    "    # _______________________________________________________________\n",
    "    #\n",
    "    im3 = ax6.pcolormesh(out['U']['times']*tscale*3600, periodE, out['U']['cwt_power'],\n",
    "                         cmap=cmap,\n",
    "                         vmin=vmin,\n",
    "                         vmax=vmax,\n",
    "                         norm=norm,\n",
    "                        )\n",
    "    ax6.plot(out['U']['times']*tscale*3600, 1/out['U']['cone']/3600, color=\"white\", ls=\"--\")\n",
    "    ax6.fill_between(out['U']['times']*tscale*3600, 1/out['U']['cone']/3600, max(periodZ)*np.ones(len(out['U']['cone'])), color=\"white\", alpha=0.2)\n",
    "\n",
    "    if ylim is None:\n",
    "        ax6.set_ylim(min(periodZ), max(periodZ))\n",
    "    else:\n",
    "        ax6.set_ylim(min(periodZ), ylim)\n",
    "\n",
    "    # _______________________________________________________________\n",
    "    #\n",
    "    ax1.set_ylabel(f\"P (Pa)\", fontsize=font)\n",
    "    ax2.set_ylabel(f\"Period (hour)\", fontsize=font)\n",
    "    ax3.set_ylabel(f\"P (Pa)\", fontsize=font)\n",
    "    ax4.set_ylabel(f\"Period (hour)\", fontsize=font)\n",
    "    ax5.set_ylabel(f\"$\\Omega$ (nrad)\", fontsize=font)\n",
    "    ax6.set_ylabel(f\"Period (hour)\", fontsize=font)\n",
    "\n",
    "    ax6.set_xlabel(f\"Time (days) from {config['tbeg'].date} {str(config['tbeg'].time).split('.')[0]} UTC\", fontsize=font)\n",
    "\n",
    "\n",
    "    ax1.text(.005, .97, \"(a)\", ha='left', va='top', transform=ax1.transAxes, fontsize=font+2)\n",
    "    ax2.text(.005, .97, \"(b)\", ha='left', va='top', transform=ax2.transAxes, fontsize=font+2, color=\"w\")\n",
    "    ax3.text(.005, .97, \"(c)\", ha='left', va='top', transform=ax3.transAxes, fontsize=font+2)\n",
    "    ax4.text(.005, .97, \"(d)\", ha='left', va='top', transform=ax4.transAxes, fontsize=font+2, color=\"w\")\n",
    "    ax5.text(.005, .97, \"(e)\", ha='left', va='top', transform=ax5.transAxes, fontsize=font+2)\n",
    "    ax6.text(.005, .97, \"(f)\", ha='left', va='top', transform=ax6.transAxes, fontsize=font+2, color=\"w\")\n",
    "\n",
    "    # add colorbar\n",
    "    cbar_ax = fig.add_axes([0.91, 0.11, 0.01, 0.77]) #[left, bottom, width, height]\n",
    "    cb = plt.colorbar(im1, cax=cbar_ax, extend=\"max\")\n",
    "    cb.set_label(\"norm. continuous wavelet transform power\", fontsize=font, labelpad=5, color=\"black\")\n",
    "\n",
    "#     ax1.set_title(f\"bandpass = {pmax} - {pmin} hours\")\n",
    "\n",
    "    plt.plot();\n",
    "    return fig\n",
    "\n",
    "fig = __makeplot_cwt_all(st0, outs, clog=False, ylim=None)\n"
   ]
  },
  {
   "cell_type": "markdown",
   "id": "2a7ceb9c-a4cd-4872-afed-9623a8e0a5f4",
   "metadata": {},
   "source": [
    "## Plotting"
   ]
  },
  {
   "cell_type": "code",
   "execution_count": null,
   "id": "760dd6e3-3237-4dc6-acf0-ea0fdb119c9d",
   "metadata": {
    "tags": []
   },
   "outputs": [],
   "source": []
  },
  {
   "cell_type": "code",
   "execution_count": null,
   "id": "6e8d5eb3-1f15-4cc0-b74b-33c0a47b2bd7",
   "metadata": {
    "tags": []
   },
   "outputs": [],
   "source": [
    "# def __makeplot():\n",
    "\n",
    "#     Nrow, Ncol = 6, 1\n",
    "\n",
    "#     font = 12\n",
    "\n",
    "#     ref_date = str(bs.time1.iloc[0])[:10]\n",
    "\n",
    "#     fig, ax = plt.subplots(Nrow, Ncol, figsize=(12, 12), sharex=True)\n",
    "\n",
    "#     plt.subplots_adjust(hspace=0.1)\n",
    "\n",
    "#     time_scaling = 1\n",
    "\n",
    "#     ref_date = bs.time1.iloc[0]\n",
    "\n",
    "#     # _____________________________________________________________________________________\n",
    "#     #\n",
    "#     ax[0].plot(bs.time_sec*time_scaling, bs.fj_fs, color=\"tab:grey\", alpha=0.3, label=\"raw\")\n",
    "#     ax[0].plot(bs.time_sec*time_scaling, bs.fj_fs_nan, color=\"black\", label=\"cleaned\")\n",
    "#     ax[0].plot(bs.time_sec*time_scaling, bs.fj_bs_nan, color=\"red\", label=f\"BS corrected\")\n",
    "\n",
    "#     ax[0].set_ylim(flim1, flim2)\n",
    "#     ax[0].ticklabel_format(useOffset=False)\n",
    "#     ax[0].set_ylabel(\"$\\delta f$ north ring (Hz)\", fontsize=font)\n",
    "\n",
    "#     # _____________________________________________________________________________________\n",
    "#     #\n",
    "#     for tr in ws.select(channel=\"*T\"):\n",
    "#         num = int(tr.stats.location[-1])\n",
    "#         if num != 1:\n",
    "#             ax[1].plot(tr.times(reftime=UTCDateTime(ref_date)),\n",
    "#                        __smooth(tr.data, 600), color=config['colors'][num], label=f\"WS{num}\", alpha=0.7)\n",
    "\n",
    "#     for tr in ps.select(channel=\"*KI\"):\n",
    "#         num = int(tr.stats.location[-1])\n",
    "#         if num != 1:\n",
    "#             ax[1].plot(tr.times(reftime=UTCDateTime(ref_date)),\n",
    "#                        __smooth(tr.data, 600), color=config['colors'][num], label=f\"PS{num}\", alpha=0.7)\n",
    "\n",
    "#     ax[1].set_ylim(10.5, 11)\n",
    "#     ax[1].set_ylabel(\"Temperature (°C)\", fontsize=font)\n",
    "\n",
    "#     ax11 = ax[1].twinx()\n",
    "#     ax11.plot(ps.select(location=\"01\", channel=\"*KI\")[0].times(reftime=UTCDateTime(ref_date)),\n",
    "#               __smooth(ps.select(location=\"01\", channel=\"*KI\")[0].data, 600), color=config['colors'][1], label=\"PS1\")\n",
    "\n",
    "#     ax11.set_ylabel(\"Temperature (°C)\", fontsize=font, color=config['colors'][1])\n",
    "#     [t.set_color(config['colors'][1]) for t in ax11.yaxis.get_ticklabels()]\n",
    "#     ax[1].set_yticks(np.linspace(ax[1].get_yticks()[0], ax[1].get_yticks()[-1], len(ax[1].get_yticks())))\n",
    "#     ax11.set_yticks(np.linspace(ax11.get_yticks()[0], ax11.get_yticks()[-1], len(ax[1].get_yticks())))\n",
    "\n",
    "\n",
    "\n",
    "#     # _____________________________________________________________________________________\n",
    "#     #\n",
    "#     ax[2].spines.right.set_position((\"axes\", 1.07))\n",
    "#     # ax[2].plot(pegel.times_utc - UTCDateTime(ref_date), pegel.pegel, color=\"darkblue\", alpha=0.9)\n",
    "#     # ax[2].set_ylabel(f\"Water Level (m)\", fontsize=font)\n",
    "\n",
    "#     ax22 = ax[2].twinx()\n",
    "#     ax22.fill_between(rain[0].times(reftime=UTCDateTime(ref_date)),\n",
    "#                       rain_smooth, color=\"tab:blue\", alpha=0.6, label=f\"rain\", zorder=0)\n",
    "#     ax22.set_ylim(bottom=0)\n",
    "#     ax22.set_ylabel(f\"Precipitation \\n (mm/hour)\", fontsize=font, color=\"tab:blue\")\n",
    "#     [t.set_color('tab:blue') for t in ax22.yaxis.get_ticklabels()]\n",
    "\n",
    "#     ax[2].set_yticks(np.linspace(ax[2].get_yticks()[0], ax[2].get_yticks()[-1], len(ax[2].get_yticks())))\n",
    "#     ax22.set_yticks(np.linspace(ax22.get_yticks()[0], ax22.get_yticks()[-1], len(ax[2].get_yticks())))\n",
    "\n",
    "\n",
    "#     ax24 = ax[2].twinx()\n",
    "#     ax24.plot(rain_cumsum/max(rain_cumsum), alpha=0.5, zorder=1, ls=\"--\")\n",
    "#     ax24.axis('off')\n",
    "#     # ax[2].set_yticks(np.linspace(ax[2].get_yticks()[0], ax[2].get_yticks()[-1], len(ax[2].get_yticks())))\n",
    "#     # [t.set_color('darkblue') for t in ax24.yaxis.get_ticklabels()]\n",
    "#     # ax24.set_ylabel(f\"Cum. Rain (mm)\", fontsize=font, color=\"darkblue\")\n",
    "\n",
    "\n",
    "#     # _____________________________________________________________________________________\n",
    "#     #\n",
    "#     ax[3].plot(tromy.select(channel=\"*N\")[0].times(reftime=UTCDateTime(ref_date))[:-20],\n",
    "#                __smooth(__reduce(tromy.select(channel=\"*N\")[0].data, 100), 60)[:-20]*1e6, label=\"TROMY N-S (1 min. avg.)\", color=\"tab:orange\")\n",
    "#     ax[3].plot(tromy.select(channel=\"*E\")[0].times(reftime=UTCDateTime(ref_date))[:-20],\n",
    "#                __smooth(__reduce(tromy.select(channel=\"*E\")[0].data, 100), 60)[:-20]*1e6, label=\"TROMY E-W (1 min. avg.)\", color=\"tab:brown\")\n",
    "#     ax[3].set_ylabel(\"Tilt ($\\mu$rad)\", fontsize=font)\n",
    "#     ax[3].set_ylim(-3, 1)\n",
    "\n",
    "#     # _____________________________________________________________________________________\n",
    "#     #\n",
    "#     ax[4].plot(ffbi.select(channel=\"*F\")[0].times(reftime=UTCDateTime(ref_date)),\n",
    "#                __smooth(ffbi.select(channel=\"*F\")[0].data, 600),\n",
    "#                label=f\"{ffbi.select(channel='*F')[0].stats.station}.{ffbi.select(channel='*F')[0].stats.channel} (10 min. avg.)\",\n",
    "#                color=\"tab:red\"\n",
    "#               )\n",
    "#     ax[4].set_ylabel(\"Pressure (Pa)\", fontsize=font)\n",
    "#     # ax[4].set_ylim(-, 6)\n",
    "\n",
    "#     ax41 = ax[4].twinx()\n",
    "#     ax41.plot(ffbi.select(channel=\"*O\")[0].times(reftime=UTCDateTime(ref_date)),\n",
    "#               ffbi.select(channel=\"*O\")[0].data,\n",
    "#               label=f\"{ffbi.select(channel='*O')[0].stats.station}.{ffbi.select(channel='*F')[0].stats.channel} (10 min. avg.)\",\n",
    "#               color=\"black\"\n",
    "#               )\n",
    "#     # _____________________________________________________________________________________\n",
    "#     #\n",
    "#     ax[5].scatter(bw.time_utc - UTCDateTime(ref_date),\n",
    "#                   bw.x_mm*1e3,\n",
    "#                   label=f\"in-plane\",\n",
    "#                   color=\"tab:pink\",\n",
    "#                   zorder=2,\n",
    "#                   s=5,\n",
    "#               )\n",
    "#     ax[5].scatter(bw.time_utc - UTCDateTime(ref_date),\n",
    "#                   bw.y_mm*1e3,\n",
    "#                   label=f\"out-of-plane\",\n",
    "#                   color=\"purple\",\n",
    "#                   zorder=2,\n",
    "#                   s=5,\n",
    "#               )\n",
    "#     ax[5].set_ylabel(\"rel. Beam \\n Position ($\\mu$m)\", fontsize=font)\n",
    "#     ax[5].set_ylim(-5, 20)\n",
    "\n",
    "\n",
    "#     # _____________________________________________________________________________________\n",
    "#     #\n",
    "#     for _n in range(Nrow):\n",
    "#         ax[_n].grid(ls=\":\", zorder=0, alpha=0.5)\n",
    "\n",
    "\n",
    "#     ax[0].legend(loc=1, ncol=3)\n",
    "#     ax[1].legend(loc=1, ncol=1)\n",
    "#     # ax[2].legend(loc=2, ncol=1)\n",
    "#     ax[3].legend(loc=3, ncol=1)\n",
    "#     ax[4].legend(loc=3, ncol=1)\n",
    "#     ax[5].legend(loc=2, ncol=1)\n",
    "\n",
    "#     # ax[2].set_xlabel(\"Time (days)\", fontsize=font)\n",
    "\n",
    "#     ## add dates to x-axis\n",
    "#     tcks = ax[Nrow-1].get_xticks()\n",
    "#     tcklbls = [f\"{UTCDateTime(UTCDateTime(ref_date)+t).date} \\n {UTCDateTime(UTCDateTime(ref_date)+t).time}\" for t in tcks]\n",
    "#     ax[Nrow-1].set_xticklabels(tcklbls)\n",
    "\n",
    "#     gc.collect()\n",
    "\n",
    "#     plt.show();\n",
    "#     return fig\n",
    "\n",
    "# fig = __makeplot();\n",
    "\n",
    "# fig.savefig(config['path_to_figs']+f\"SF_BS_RU_shortterm_environmentals_{config['tbeg'].date}_{config['tend'].date}_.png\", format=\"png\", dpi=150, bbox_inches='tight')\n"
   ]
  },
  {
   "cell_type": "code",
   "execution_count": null,
   "id": "fb53bda3-1675-448b-a0d5-d6833708f591",
   "metadata": {
    "tags": []
   },
   "outputs": [],
   "source": []
  }
 ],
 "metadata": {
  "kernelspec": {
   "display_name": "Python 3 (ipykernel)",
   "language": "python",
   "name": "python3"
  },
  "language_info": {
   "codemirror_mode": {
    "name": "ipython",
    "version": 3
   },
   "file_extension": ".py",
   "mimetype": "text/x-python",
   "name": "python",
   "nbconvert_exporter": "python",
   "pygments_lexer": "ipython3",
   "version": "3.10.12"
  },
  "latex_envs": {
   "LaTeX_envs_menu_present": true,
   "autoclose": false,
   "autocomplete": true,
   "bibliofile": "biblio.bib",
   "cite_by": "apalike",
   "current_citInitial": 1,
   "eqLabelWithNumbers": true,
   "eqNumInitial": 1,
   "hotkeys": {
    "equation": "Ctrl-E",
    "itemize": "Ctrl-I"
   },
   "labels_anchors": false,
   "latex_user_defs": false,
   "report_style_numbering": false,
   "user_envs_cfg": false
  },
  "toc": {
   "base_numbering": 1,
   "nav_menu": {},
   "number_sections": true,
   "sideBar": true,
   "skip_h1_title": false,
   "title_cell": "Table of Contents",
   "title_sidebar": "Contents",
   "toc_cell": false,
   "toc_position": {},
   "toc_section_display": true,
   "toc_window_display": false
  },
  "varInspector": {
   "cols": {
    "lenName": 16,
    "lenType": 16,
    "lenVar": 40
   },
   "kernels_config": {
    "python": {
     "delete_cmd_postfix": "",
     "delete_cmd_prefix": "del ",
     "library": "var_list.py",
     "varRefreshCmd": "print(var_dic_list())"
    },
    "r": {
     "delete_cmd_postfix": ") ",
     "delete_cmd_prefix": "rm(",
     "library": "var_list.r",
     "varRefreshCmd": "cat(var_dic_list()) "
    }
   },
   "types_to_exclude": [
    "module",
    "function",
    "builtin_function_or_method",
    "instance",
    "_Feature"
   ],
   "window_display": false
  }
 },
 "nbformat": 4,
 "nbformat_minor": 5
}
