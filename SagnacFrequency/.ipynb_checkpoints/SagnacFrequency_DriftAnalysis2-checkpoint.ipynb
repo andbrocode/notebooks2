{
 "cells": [
  {
   "cell_type": "markdown",
   "id": "extensive-movement",
   "metadata": {},
   "source": [
    "## Sagnac Frequency - Drift Analysis"
   ]
  },
  {
   "cell_type": "markdown",
   "id": "noted-resort",
   "metadata": {
    "ExecuteTime": {
     "end_time": "2021-02-19T15:09:20.288504Z",
     "start_time": "2021-02-19T15:09:20.284413Z"
    }
   },
   "source": [
    "### Import Libraries"
   ]
  },
  {
   "cell_type": "code",
   "execution_count": 1,
   "id": "animal-despite",
   "metadata": {
    "ExecuteTime": {
     "end_time": "2023-01-26T16:05:06.445701Z",
     "start_time": "2023-01-26T16:05:04.817104Z"
    }
   },
   "outputs": [
    {
     "data": {
      "application/javascript": [
       "IPython.notebook.set_autosave_interval(120000)"
      ]
     },
     "metadata": {},
     "output_type": "display_data"
    },
    {
     "name": "stdout",
     "output_type": "stream",
     "text": [
      "Autosaving every 120 seconds\n"
     ]
    }
   ],
   "source": [
    "%autosave 120\n",
    "\n",
    "import os\n",
    "import yaml\n",
    "import matplotlib.pyplot as plt\n",
    "\n",
    "from pandas import read_csv, DataFrame, date_range\n",
    "from obspy import UTCDateTime, read, Stream\n",
    "from numpy import nanmean, zeros, nanmedian, ones, nan\n",
    "\n",
    "from andbro__readYaml import __readYaml\n",
    "from andbro__savefig import __savefig\n",
    "\n",
    "from andbro__querrySeismoData import __querrySeismoData"
   ]
  },
  {
   "cell_type": "code",
   "execution_count": 2,
   "id": "6b386714",
   "metadata": {
    "ExecuteTime": {
     "end_time": "2023-01-26T16:05:06.450516Z",
     "start_time": "2023-01-26T16:05:06.447901Z"
    }
   },
   "outputs": [],
   "source": [
    "if os.uname().nodename == \"lighthouse\":\n",
    "    root_path = \"/home/andbro/\"\n",
    "    data_path = \"/home/andbro/kilauea-data/\"\n",
    "    archive_path = \"/home/andbro/freenas/\"\n",
    "elif os.uname().nodename == \"kilauea\":\n",
    "    root_path = \"/home/brotzer/\"\n",
    "    data_path = \"/import/kilauea-data/\"\n",
    "    archive_path = \"/import/freenas-ffb-01-data/\""
   ]
  },
  {
   "cell_type": "markdown",
   "id": "mounted-throat",
   "metadata": {},
   "source": [
    "### Define Functions"
   ]
  },
  {
   "cell_type": "code",
   "execution_count": 3,
   "id": "99c89a4d",
   "metadata": {
    "ExecuteTime": {
     "end_time": "2023-01-26T16:05:06.461768Z",
     "start_time": "2023-01-26T16:05:06.452047Z"
    },
    "code_folding": [
     0
    ]
   },
   "outputs": [],
   "source": [
    "def __smooth(y, box_pts):\n",
    "    from numpy import ones, convolve, hanning\n",
    "\n",
    "#     win = ones(box_pts)/box_pts\n",
    "    win = hanning(box_pts)\n",
    "    y_smooth = convolve(y, win/sum(win), mode='same')\n",
    "\n",
    "    return y_smooth"
   ]
  },
  {
   "cell_type": "markdown",
   "id": "clean-hacker",
   "metadata": {},
   "source": [
    "## Configurations"
   ]
  },
  {
   "cell_type": "code",
   "execution_count": 4,
   "id": "d21146f6",
   "metadata": {
    "ExecuteTime": {
     "end_time": "2023-01-26T16:05:06.473220Z",
     "start_time": "2023-01-26T16:05:06.463805Z"
    },
    "code_folding": []
   },
   "outputs": [],
   "source": [
    "## configurations\n",
    "config={}\n",
    "\n",
    "config['save'] = False\n",
    "\n",
    "## get 'raw' data from romy archive\n",
    "# config['datapath'] = f\"{archive_path}/romy_archive\"\n",
    "\n",
    "## get downsampled data \n",
    "config['datapath'] = f\"{data_path}TiltmeterDataBackup/Tilt_downsampled\"\n",
    "\n",
    "## time selection\n",
    "config['tbeg'] = UTCDateTime(\"2022-01-01 00:00\")\n",
    "config['tend'] = UTCDateTime(\"2022-06-12 00:00\")\n",
    "\n",
    "## specify output directory for figures\n",
    "config['output_figures'] = f\"{root_path}Documents/ROMY/tiltmeter/figures/\"\n",
    "\n",
    "## indicate path to wromy data\n",
    "config['path_to_wromy'] = f\"{data_path}wromy/\"\n",
    "\n",
    "config['path_to_tilt'] = f\"{root_path}notebooks/Tilt/\"\n",
    "\n",
    "config['path_to_sagnac'] = f\"{data_path}sagnac_frequency/hilbert_60_RZ/\""
   ]
  },
  {
   "cell_type": "markdown",
   "id": "2d2c4135",
   "metadata": {
    "ExecuteTime": {
     "end_time": "2022-12-08T15:05:50.694281Z",
     "start_time": "2022-12-08T15:05:50.692577Z"
    }
   },
   "source": [
    "## Load Data"
   ]
  },
  {
   "cell_type": "markdown",
   "id": "1a9c6f6e",
   "metadata": {},
   "source": [
    "### Load ROMY Saganac Frequency"
   ]
  },
  {
   "cell_type": "code",
   "execution_count": 5,
   "id": "14d4d2d8",
   "metadata": {
    "ExecuteTime": {
     "end_time": "2023-01-26T16:05:06.486680Z",
     "start_time": "2023-01-26T16:05:06.474180Z"
    },
    "code_folding": [
     0
    ]
   },
   "outputs": [],
   "source": [
    "def __load_beat(config, path_to_data):\n",
    "    \n",
    "    from datetime import date\n",
    "    from pandas import read_pickle, concat\n",
    "\n",
    "    t1 = date.fromisoformat(str(config['tbeg'].date))\n",
    "    t2 = date.fromisoformat(str(config['tend'].date))\n",
    "\n",
    "    df = DataFrame()\n",
    "    for dat in date_range(t1,t2):\n",
    "        file = str(dat)[:10].replace(\"-\",\"\")+\".pkl\"\n",
    "        try:\n",
    "            df0 = read_pickle(path_to_data+file)\n",
    "            df = concat([df, df0])\n",
    "        except:\n",
    "            print(f\"error for {file}\")\n",
    "            \n",
    "    return df"
   ]
  },
  {
   "cell_type": "code",
   "execution_count": 6,
   "id": "02776adc",
   "metadata": {
    "ExecuteTime": {
     "end_time": "2023-01-26T16:05:51.230847Z",
     "start_time": "2023-01-26T16:05:06.541365Z"
    }
   },
   "outputs": [],
   "source": [
    "df1 = __load_beat(config, config['path_to_sagnac'])\n",
    "     \n",
    "from numpy import where, nan, array\n",
    "from obspy import Trace\n",
    "# df1['freqs'] = where(df1['psd_max'] > 1e5, df1['freqs'], nan)\n",
    "\n",
    "beat = Trace()\n",
    "beat.data = array(df1['freqs'])\n",
    "beat.stats.starttime = config['tbeg']\n",
    "beat.stats.sampling_rate = 1/60"
   ]
  },
  {
   "cell_type": "markdown",
   "id": "charming-shuttle",
   "metadata": {},
   "source": [
    "\n",
    "### Load Tiltmeter Data"
   ]
  },
  {
   "cell_type": "code",
   "execution_count": 7,
   "id": "77d1f574",
   "metadata": {
    "ExecuteTime": {
     "end_time": "2023-01-26T16:05:51.371316Z",
     "start_time": "2023-01-26T16:05:51.233030Z"
    }
   },
   "outputs": [],
   "source": [
    "tilt = read(f\"{config['path_to_tilt']}tilt_all_Tcorrect.mseed\")\n",
    "\n",
    "tilt.trim(config['tbeg'], config['tend'])\n",
    "\n",
    "for tr in tilt:\n",
    "    tr.data -= nanmean(tr.data[:50])"
   ]
  },
  {
   "cell_type": "code",
   "execution_count": null,
   "id": "68a09d32",
   "metadata": {
    "ExecuteTime": {
     "end_time": "2022-12-08T16:05:41.386220Z",
     "start_time": "2022-12-08T16:05:39.304148Z"
    }
   },
   "outputs": [],
   "source": []
  },
  {
   "cell_type": "markdown",
   "id": "f88ffceb",
   "metadata": {},
   "source": [
    "### Load WROMY"
   ]
  },
  {
   "cell_type": "code",
   "execution_count": 8,
   "id": "05dfea26",
   "metadata": {
    "ExecuteTime": {
     "end_time": "2023-01-26T16:05:51.376242Z",
     "start_time": "2023-01-26T16:05:51.372995Z"
    },
    "code_folding": [
     0
    ]
   },
   "outputs": [],
   "source": [
    "def __load_wromy_data(path_to_wromy, channel):\n",
    "    \n",
    "    from os import listdir\n",
    "    from tqdm.notebook import tqdm\n",
    "    from pandas import read_pickle, concat\n",
    "    \n",
    "    files = listdir(path_to_wromy+channel)\n",
    "    \n",
    "    for n, file in enumerate(tqdm(files)):\n",
    "        df0 = read_pickle(path_to_wromy+channel+\"/\"+file)\n",
    "        if n == 0:\n",
    "            df_raw = df0\n",
    "        else: \n",
    "            df_raw = concat([df_raw,df0])\n",
    "    df_raw.reset_index()\n",
    "    return df_raw"
   ]
  },
  {
   "cell_type": "code",
   "execution_count": 9,
   "id": "5e3399fc",
   "metadata": {
    "ExecuteTime": {
     "end_time": "2023-01-26T16:05:51.388592Z",
     "start_time": "2023-01-26T16:05:51.378205Z"
    },
    "code_folding": [
     0
    ]
   },
   "outputs": [],
   "source": [
    "def __cumsum_rain(arr, xnum):\n",
    "    \n",
    "    from numpy import cumsum, zeros\n",
    "    \n",
    "    arr_out = zeros(len(arr))\n",
    "    for i, dat in enumerate(arr):\n",
    "        arr_out[i] = sum(arr[i:i+xnum])\n",
    "    \n",
    "    return arr_out"
   ]
  },
  {
   "cell_type": "code",
   "execution_count": 10,
   "id": "57dbd3e3",
   "metadata": {
    "ExecuteTime": {
     "end_time": "2023-01-26T16:07:00.660526Z",
     "start_time": "2023-01-26T16:05:51.390989Z"
    }
   },
   "outputs": [
    {
     "data": {
      "application/vnd.jupyter.widget-view+json": {
       "model_id": "645d9c9d8b8a4b72af96a2037b1133da",
       "version_major": 2,
       "version_minor": 0
      },
      "text/plain": [
       "HBox(children=(HTML(value=''), FloatProgress(value=0.0, max=363.0), HTML(value='')))"
      ]
     },
     "metadata": {},
     "output_type": "display_data"
    },
    {
     "name": "stdout",
     "output_type": "stream",
     "text": [
      "\n"
     ]
    }
   ],
   "source": [
    "FURT_raw = __load_wromy_data(config['path_to_wromy'], \"FURT\") \n",
    "furt = FURT_raw.copy()\n",
    "furt.dropna(inplace=True)\n",
    "furt.sort_values('TimeStamp', inplace=True)\n",
    "furt.reset_index(drop=True, inplace=True)"
   ]
  },
  {
   "cell_type": "code",
   "execution_count": 11,
   "id": "c2fe8552",
   "metadata": {
    "ExecuteTime": {
     "end_time": "2023-01-26T16:07:03.970694Z",
     "start_time": "2023-01-26T16:07:00.663336Z"
    }
   },
   "outputs": [
    {
     "data": {
      "text/plain": [
       "... | 2022-01-01T00:00:00.000000Z - 2022-06-12T00:00:00.000000Z | 600.0 s, 23329 samples"
      ]
     },
     "execution_count": 11,
     "metadata": {},
     "output_type": "execute_result"
    }
   ],
   "source": [
    "num = 5  ## in days\n",
    "\n",
    "\n",
    "rain_data = __cumsum_rain(furt.Rc, int(1440*num/10))\n",
    "\n",
    "rain = Trace()\n",
    "rain.data = array(rain_data)\n",
    "rain.stats.starttime = furt['TimeStamp'][0]\n",
    "rain.stats.sampling_rate = 1/600\n",
    "rain.trim(config['tbeg'], config['tend'])"
   ]
  },
  {
   "cell_type": "markdown",
   "id": "27a0de55",
   "metadata": {},
   "source": [
    "## Processing"
   ]
  },
  {
   "cell_type": "code",
   "execution_count": 12,
   "id": "7c32ef11",
   "metadata": {
    "ExecuteTime": {
     "end_time": "2023-01-26T16:07:04.070601Z",
     "start_time": "2023-01-26T16:07:03.972630Z"
    }
   },
   "outputs": [],
   "source": [
    "## create copy of beat note\n",
    "beat_smooth = beat.copy()\n",
    "\n",
    "## exclude values outside interval for beat note\n",
    "beat_lower, beat_upper = 553.35, 553.42\n",
    "\n",
    "beat_data = zeros(len(beat_smooth.data))\n",
    "\n",
    "for i, dat in enumerate(beat_smooth.data):\n",
    "    if dat >= beat_lower and dat <= beat_upper:\n",
    "        beat_data[i] = dat\n",
    "    else:\n",
    "        beat_data[i] = nan\n",
    "\n",
    "## smoothing time seriese of beat note\n",
    "beat_smooth.data = __smooth(beat_data, 180)\n",
    "beat_smooth.data[:180] = nan*ones(180)"
   ]
  },
  {
   "cell_type": "markdown",
   "id": "bf4344a1",
   "metadata": {},
   "source": [
    "### Express as change of triangle height"
   ]
  },
  {
   "cell_type": "code",
   "execution_count": 13,
   "id": "bf254a85",
   "metadata": {
    "ExecuteTime": {
     "end_time": "2023-01-26T16:07:04.079397Z",
     "start_time": "2023-01-26T16:07:04.073928Z"
    },
    "code_folding": [
     0
    ]
   },
   "outputs": [],
   "source": [
    "def __to_H(data):\n",
    "    \n",
    "    from numpy import cos, pi, deg2rad, sqrt, nanmedian\n",
    "    \n",
    "    H = data * 3/2 * 632.8e-9 / (2*pi/86400 * cos(deg2rad(48.162941)))\n",
    "    \n",
    "#     H_expected = 2*53.93/11.3\n",
    "    H_expected = 11.3/2*sqrt(3)\n",
    "    \n",
    "#     H_rel = abs(H-H_expected)/H_expected \n",
    "    H_rel = abs(H-H_expected) \n",
    "    H_rel = H - nanmedian(H)\n",
    "    \n",
    "    return H, H_rel"
   ]
  },
  {
   "cell_type": "code",
   "execution_count": 14,
   "id": "d917fdc8",
   "metadata": {
    "ExecuteTime": {
     "end_time": "2023-01-26T16:07:04.098022Z",
     "start_time": "2023-01-26T16:07:04.081383Z"
    }
   },
   "outputs": [],
   "source": [
    "data = beat_smooth.trim(config['tbeg'], config['tend']).data\n",
    "\n",
    "H, H_rel = __to_H(data)"
   ]
  },
  {
   "cell_type": "code",
   "execution_count": 15,
   "id": "aa61f02d",
   "metadata": {
    "ExecuteTime": {
     "end_time": "2023-01-26T16:07:04.409429Z",
     "start_time": "2023-01-26T16:07:04.100464Z"
    }
   },
   "outputs": [
    {
     "name": "stdout",
     "output_type": "stream",
     "text": [
      "median:  18.5705467657  e-6/°C\n",
      "mean:    592.312260415  e-6/°C\n"
     ]
    },
    {
     "data": {
      "image/png": "[encoded data removed]",
      "text/plain": [
       "<Figure size 432x288 with 1 Axes>"
      ]
     },
     "metadata": {
      "needs_background": "light"
     },
     "output_type": "display_data"
    }
   ],
   "source": [
    "temp = tilt.copy().select(station=\"TROMY\", channel=\"*T\")[0].resample(1/60).trim(config['tbeg'], config['tend']).data\n",
    "# temp -= nanmean(temp[:20])\n",
    "\n",
    "dx = 100\n",
    "plt.scatter(temp[dx:-dx], H_rel[dx:-dx], s=1)\n",
    "\n",
    "print(\"median: \", nanmedian(H_rel/temp*1e6), \" e-6/°C\")\n",
    "print(\"mean:   \",nanmean(H_rel/temp*1e6), \" e-6/°C\")"
   ]
  },
  {
   "cell_type": "markdown",
   "id": "39534400",
   "metadata": {
    "ExecuteTime": {
     "end_time": "2022-12-21T16:48:09.979507Z",
     "start_time": "2022-12-21T16:48:09.973425Z"
    }
   },
   "source": [
    "### Express as tilt variation"
   ]
  },
  {
   "cell_type": "code",
   "execution_count": 16,
   "id": "61f8c41a",
   "metadata": {
    "ExecuteTime": {
     "end_time": "2023-01-26T16:07:04.415951Z",
     "start_time": "2023-01-26T16:07:04.411582Z"
    },
    "code_folding": []
   },
   "outputs": [],
   "source": [
    "def __to_tilt(data):\n",
    "    \n",
    "    from numpy import pi, sqrt, arccos, deg2rad\n",
    "    \n",
    "    return -1 * (arccos((data * 632.8e-9 * 3) / ( (2*pi/86400) * 11.3 * sqrt(3) )) + deg2rad(48.162941))"
   ]
  },
  {
   "cell_type": "code",
   "execution_count": 17,
   "id": "a1b0a5a8",
   "metadata": {
    "ExecuteTime": {
     "end_time": "2023-01-26T16:07:04.432775Z",
     "start_time": "2023-01-26T16:07:04.418647Z"
    }
   },
   "outputs": [],
   "source": [
    "beat_tilt = __to_tilt(beat_smooth.data)\n",
    "\n",
    "beat_tilt -= nanmedian(beat_tilt[:500])"
   ]
  },
  {
   "cell_type": "markdown",
   "id": "20c3f8b2",
   "metadata": {},
   "source": [
    "## Plotting"
   ]
  },
  {
   "cell_type": "code",
   "execution_count": 18,
   "id": "6670f80f",
   "metadata": {
    "ExecuteTime": {
     "end_time": "2023-01-26T16:07:05.370765Z",
     "start_time": "2023-01-26T16:07:04.433933Z"
    },
    "code_folding": [
     0
    ]
   },
   "outputs": [
    {
     "data": {
      "image/png": "[encoded data removed]",
      "text/plain": [
       "<Figure size 1080x720 with 5 Axes>"
      ]
     },
     "metadata": {
      "needs_background": "light"
     },
     "output_type": "display_data"
    }
   ],
   "source": [
    "def __makeplot(config):\n",
    "    \n",
    "    \n",
    "    smooth = 180\n",
    "    \n",
    "    time_reference = \"2022-01-01\"\n",
    "    \n",
    "    N = 5\n",
    "    font = 12\n",
    "    \n",
    "    time_scaling, time_unit = 1/86400, \"days\"\n",
    "    time_reference = \"2022-01-01\"\n",
    "    \n",
    "    fig, ax = plt.subplots(N, 1, figsize=(15,10), sharex=True)\n",
    "    \n",
    "    plt.subplots_adjust(hspace=0.1)\n",
    "    \n",
    "\n",
    "    ## ----------------------\n",
    "    \n",
    "    \n",
    "    ax[0].scatter(beat.times(reftime=UTCDateTime(time_reference))*time_scaling, beat.data, s=0.1, color='grey')\n",
    "    ax[0].plot(beat_smooth.times(reftime=UTCDateTime(time_reference))[smooth:]*time_scaling, beat_smooth[smooth:], 'k')\n",
    "    \n",
    "    for tr in tilt.select(channel=\"*N\"):\n",
    "        ax[1].plot(tr.times(reftime=UTCDateTime(time_reference))[15:]*time_scaling, tr.data[15:]*1e6, label=str(tr.stats.station).replace(\"D\",\"B\"))\n",
    "\n",
    "    ax[1].plot(beat_smooth.times(reftime=UTCDateTime(time_reference))[smooth:]*time_scaling, beat_tilt[smooth:]*1e6)\n",
    "\n",
    "        \n",
    "    ax[2].plot(rain.times()*time_scaling, rain.data)\n",
    "    ax[2].fill_between(rain.times(reftime=UTCDateTime(time_reference))*time_scaling, 0, rain.data, alpha=0.4)\n",
    "        \n",
    "    ax[3].plot(beat_smooth.times(reftime=UTCDateTime(time_reference))[smooth:]*time_scaling, H_rel[smooth:]*1e3)\n",
    "        \n",
    "    ## ----------------------\n",
    "        \n",
    "    for axx in ax:\n",
    "        axx.grid(ls=\"--\", alpha=0.4)\n",
    "    \n",
    "#     ax[0].set_ylim(553.35,553.42)\n",
    "    ax[0].set_ylim(beat_lower, beat_upper)\n",
    "\n",
    "    ax[0].set_ylabel(f\"Beat note (Hz)\", fontsize=font)\n",
    "    ax[1].set_ylabel(f\"Corr. N-tilt ($\\mu$rad)\", fontsize=font)\n",
    "    ax[2].set_ylabel(f\"Cum. perc. (mm)\", fontsize=font)\n",
    "    ax[3].set_ylabel(f\"Rel. H (mm)\", fontsize=font)\n",
    "    \n",
    "        \n",
    "    ax[1].legend()\n",
    "    \n",
    "    plt.show();\n",
    "    return fig\n",
    "\n",
    "__makeplot(config);"
   ]
  },
  {
   "cell_type": "code",
   "execution_count": null,
   "id": "02e83d26",
   "metadata": {},
   "outputs": [],
   "source": []
  },
  {
   "cell_type": "code",
   "execution_count": 112,
   "id": "2b0b11e0",
   "metadata": {
    "ExecuteTime": {
     "end_time": "2022-12-21T16:42:37.616133Z",
     "start_time": "2022-12-21T16:42:37.613011Z"
    }
   },
   "outputs": [],
   "source": [
    "# __savefig(fig, outpath=config['output_figures'], outname=\"Tilt_ALL_EarthTides_TempCorrect_TheoResiduals_BeatNote\", mode=\"png\", dpi=None)"
   ]
  },
  {
   "cell_type": "code",
   "execution_count": null,
   "id": "8f6818b6",
   "metadata": {
    "ExecuteTime": {
     "end_time": "2022-12-20T10:21:19.383515Z",
     "start_time": "2022-12-20T10:21:07.276Z"
    }
   },
   "outputs": [],
   "source": [
    "# import numpy as np\n",
    "# w1 = np.arcsin(np.deg2rad(553.375 * 33.6 * 632.8e-9 / 4 / 53.93 / (2*np.pi/86400)))\n",
    "\n",
    "# w2 = np.arcsin(np.deg2rad(553.41 * 33.6 * 632.8e-9 / 4 / 53.93 / (2*np.pi/86400)))\n",
    "\n",
    "# abs(w1-w2)*1e6"
   ]
  },
  {
   "cell_type": "markdown",
   "id": "7a002169",
   "metadata": {},
   "source": [
    "## Compare with Ambient Air Pressure"
   ]
  },
  {
   "cell_type": "code",
   "execution_count": null,
   "id": "d1389a48",
   "metadata": {
    "ExecuteTime": {
     "end_time": "2022-12-20T10:21:19.384070Z",
     "start_time": "2022-12-20T10:21:07.277Z"
    }
   },
   "outputs": [],
   "source": [
    "from numpy import nan\n",
    "BROMY \n",
    "# BROMY = BROMY.split().merge(fill_value=nan)\n",
    "BROMY = BROMY.split().merge(fill_value=\"interpolate\")\n",
    "BROMY"
   ]
  },
  {
   "cell_type": "code",
   "execution_count": null,
   "id": "7d04bc04",
   "metadata": {
    "ExecuteTime": {
     "end_time": "2022-12-20T10:21:19.384597Z",
     "start_time": "2022-12-20T10:21:07.279Z"
    },
    "code_folding": [
     0
    ]
   },
   "outputs": [],
   "source": [
    "def __load_wromy_data(channel, config):\n",
    "    \n",
    "    from os import listdir\n",
    "    from tqdm.notebook import tqdm\n",
    "    from pandas import read_pickle, concat\n",
    "\n",
    "    files = listdir(config['path_to_wromy']+channel)\n",
    "    \n",
    "    for n, file in enumerate(tqdm(files)):\n",
    "        df0 = read_pickle(config['path_to_wromy']+channel+\"/\"+file)\n",
    "        if n == 0:\n",
    "            df_raw = df0\n",
    "        else: \n",
    "            df_raw = concat([df_raw,df0])\n",
    "    df_raw.reset_index()\n",
    "    return df_raw"
   ]
  },
  {
   "cell_type": "code",
   "execution_count": null,
   "id": "5567ab7a",
   "metadata": {
    "ExecuteTime": {
     "end_time": "2022-12-20T10:21:19.385189Z",
     "start_time": "2022-12-20T10:21:07.280Z"
    },
    "code_folding": [
     0
    ]
   },
   "outputs": [],
   "source": [
    "def __add_wromy_trace(stream, ws):\n",
    "\n",
    "    from numpy import array\n",
    "\n",
    "    df0 = __load_wromy_data(ws, config)\n",
    "    df0.dropna(inplace=True)\n",
    "    df0.sort_values('TimeStamp', inplace=True)\n",
    "    df0.reset_index(drop=True, inplace=True)\n",
    "    wsx = df0\n",
    "\n",
    "    ## limit to tbeg - tend\n",
    "    times_absolut = stream.select(channel=\"*T\")[0].times(reftime=UTCDateTime(\"2019-01-01T00\"))\n",
    "    wsx = wsx[(wsx['totalSeconds'] >= times_absolut[0]) & (wsx['totalSeconds'] <= times_absolut[-1]+500)]\n",
    "\n",
    "    if len(wsx['totalSeconds']) != stream[0].stats.npts:\n",
    "        print(f\"-> npts don't match: {len(wsx['totalSeconds'])} != {stream[0].stats.npts}\")\n",
    "    \n",
    "    ## create trace and addto stream\n",
    "    tr_wsx = stream.select(channel=\"*T\")[0].copy()\n",
    "    tr_wsx.data = array(wsx['Pressure (hPa)'])\n",
    "    tr_wsx.stats.channel = ws\n",
    "    stream += tr_wsx"
   ]
  },
  {
   "cell_type": "code",
   "execution_count": null,
   "id": "eab65058",
   "metadata": {
    "ExecuteTime": {
     "end_time": "2022-12-20T10:21:19.385694Z",
     "start_time": "2022-12-20T10:21:07.282Z"
    }
   },
   "outputs": [],
   "source": [
    "__add_wromy_trace(ROMYT, \"WS9\")\n",
    "__add_wromy_trace(TROMY, \"WS5\")\n",
    "__add_wromy_trace(BROMY, \"WS1\")"
   ]
  },
  {
   "cell_type": "code",
   "execution_count": null,
   "id": "7416e27f",
   "metadata": {
    "ExecuteTime": {
     "end_time": "2022-12-20T10:21:19.386319Z",
     "start_time": "2022-12-20T10:21:07.283Z"
    },
    "code_folding": [
     0
    ]
   },
   "outputs": [],
   "source": [
    "def __makeplotStreamPSD(config, st, st2=None):\n",
    "\n",
    "    from scipy import fftpack\n",
    "    from numpy import log10, median\n",
    "    from scipy.signal import welch, periodogram, hann\n",
    "\n",
    "    \n",
    "    nblock =  1028\n",
    "    overlap = None\n",
    "    win = hann(nblock, True)\n",
    "\n",
    "    NN = len(st)\n",
    "    \n",
    "    fig, axes = plt.subplots(NN,2,figsize=(15,15), sharex='col')\n",
    "\n",
    "    plt.subplots_adjust(hspace=0.3)\n",
    "\n",
    "    ## _______________________________________________\n",
    "\n",
    "    st.sort(keys=['station','channel'], reverse=True)\n",
    "    \n",
    "    for i, tr in enumerate(st):\n",
    "\n",
    "#         ff, Pxx = welch(tr.data, \n",
    "#                         fs=tr.stats.sampling_rate, \n",
    "#                         window=win, \n",
    "#                         noverlap=overlap, \n",
    "#                         nfft=nblock,\n",
    "#                         scaling=\"density\",\n",
    "#                         return_onesided=True,\n",
    "#                        )\n",
    "        ff, Pxx = periodogram(tr.data, \n",
    "                              fs=tr.stats.sampling_rate, \n",
    "                              window=None,\n",
    "                              scaling=\"density\",\n",
    "                              return_onesided=True,\n",
    "                             )\n",
    "        \n",
    "        if st2 is not None:\n",
    "            ff2, Pxx2 = welch(st2[i].data, \n",
    "                              fs=st2[i].stats.sampling_rate, \n",
    "                              window=win,\n",
    "                              noverlap=overlap, \n",
    "                              nfft=nblock,\n",
    "                              scaling=\"density\", \n",
    "                              return_onesided=True,\n",
    "                             )\n",
    "        \n",
    "        ## _________________________________________________________________\n",
    "        axes[i,0].plot(\n",
    "                    tr.times()/86400,\n",
    "                    tr.data*1e6,\n",
    "                    color='black',\n",
    "                    label='{} {}'.format(tr.stats.station, tr.stats.channel),\n",
    "                    lw=1.0,\n",
    "                    )\n",
    "\n",
    "\n",
    "        ## _________________________________________________________________\n",
    "#         axes[i,1].loglog(ff, Pxx, color='black', lw=1.0,)\n",
    "        axes[i,1].semilogx(ff, Pxx, color='black', lw=1.0,)\n",
    "        \n",
    "        if st2 is not None:\n",
    "#             axes[i,1].loglog(ff2, Pxx2, color='red', lw=1.0,)       \n",
    "            axes[i,1].semilogx(ff2, Pxx2, color='red', lw=1.0,)       \n",
    "        \n",
    "        \n",
    "        axes[i,1].vlines(1/86400,min(Pxx[:]), max(Pxx[:]), color=\"darkgrey\", alpha=1.0, zorder=0)\n",
    "        axes[i,1].vlines(2/86400,min(Pxx[:]), max(Pxx[:]), color=\"darkgrey\", alpha=1.0, zorder=0)\n",
    "        \n",
    "        axes[NN-1,0].set_xlabel(\"Time (days)\")\n",
    "        axes[NN-1,1].set_xlabel(\"Frequency (Hz)\")\n",
    "        \n",
    "        axes[i,1].set_ylim(min(Pxx[:]), max(Pxx[:]))\n",
    "        \n",
    "        axes[i,0].set_ylabel(r'Tilt ($\\mu$rad)')    \n",
    "        axes[i,1].set_ylabel(r'PSD (rad$^2$/Hz)')        \n",
    "        axes[i,0].legend(loc='upper left',bbox_to_anchor=(0.8, 1.10), framealpha=1.0)\n",
    "        \n",
    "#         axes[i,0].ticklabel_format(axis='y', style='sci', scilimits=(0,0))\n",
    "        axes[i,1].ticklabel_format(axis='y', style='sci', scilimits=(0,0))\n",
    "\n",
    "#         axes[i,1].set_xlim(3e-6,1e-4)\n",
    "        axes[i,1].set_xlim(1e-5,5e-5)\n",
    "        \n",
    "#         axes[0,1].set_ylim(0, 2e6)\n",
    "#         axes[3,1].set_ylim(0, 2e6)\n",
    "#         axes[6,1].set_ylim(0, 2e6)\n",
    "        \n",
    "#         axes[1,1].set_ylim(0, 5e-9)\n",
    "#         axes[2,1].set_ylim(0, 5e-8)\n",
    "#         axes[4,1].set_ylim(0, 3e-8)\n",
    "#         axes[5,1].set_ylim(0, 1e-8)\n",
    "#         axes[7,1].set_ylim(0, 9e-8)\n",
    "#         axes[8,1].set_ylim(0, 9e-8)\n",
    "\n",
    "        axes[0,1].set_ylim(0, .5e6)        \n",
    "        axes[1,1].set_ylim(0, 3e-9)\n",
    "        axes[2,1].set_ylim(0, 4e-8)\n",
    "        axes[3,1].set_ylim(0, .5e6)\n",
    "        axes[4,1].set_ylim(0, 1.5e-8)\n",
    "        axes[5,1].set_ylim(0, 1e-8)\n",
    "        axes[6,1].set_ylim(0, .5e6)\n",
    "        axes[7,1].set_ylim(0, 9e-8)\n",
    "        axes[8,1].set_ylim(0, 9e-8)\n",
    "        \n",
    "        axes[0,0].set_ylabel(r'Pressure (hPa)') \n",
    "        axes[3,0].set_ylabel(r'Pressure (hPa)') \n",
    "        axes[6,0].set_ylabel(r'Pressure (hPa)') \n",
    "        \n",
    "        plt.suptitle(r\"Highpass: 10 $mu$Hz\", y=0.92, fontsize=14)\n",
    "        \n",
    "    return fig"
   ]
  },
  {
   "cell_type": "code",
   "execution_count": null,
   "id": "0f3051ea",
   "metadata": {
    "ExecuteTime": {
     "end_time": "2022-12-20T10:21:19.386854Z",
     "start_time": "2022-12-20T10:21:07.285Z"
    }
   },
   "outputs": [],
   "source": [
    "# fig = __makeplotStreamPSD(config, st_f, st2=None);"
   ]
  },
  {
   "cell_type": "code",
   "execution_count": null,
   "id": "75be2728",
   "metadata": {
    "ExecuteTime": {
     "end_time": "2022-12-20T10:21:19.387470Z",
     "start_time": "2022-12-20T10:21:07.286Z"
    },
    "code_folding": [
     0
    ]
   },
   "outputs": [],
   "source": [
    "def __makeplotStreamSpectra(st, config):\n",
    "\n",
    "    from scipy import fftpack\n",
    "    from numpy import abs\n",
    "\n",
    "    NN = len(st)\n",
    "\n",
    "    fig, axes = plt.subplots(NN,2,figsize=(15,10), sharex='col')\n",
    "\n",
    "    plt.subplots_adjust(hspace=0.3)\n",
    "\n",
    "    ## _______________________________________________\n",
    "\n",
    "    st.sort(keys=['channel'], reverse=True)\n",
    "    \n",
    "    for i, tr in enumerate(st):\n",
    "\n",
    "        comp_fft = abs(fftpack.fft(tr.data))\n",
    "        ff       = fftpack.fftfreq(comp_fft.size, d=1/tr.stats.sampling_rate)\n",
    "        comp_fft = fftpack.fftshift(comp_fft)\n",
    "\n",
    "\n",
    "        ## _________________________________________________________________\n",
    "        axes[i,0].plot(\n",
    "                    tr.times()/86400,\n",
    "                    tr.data*1e6,\n",
    "                    color='black',\n",
    "                    label='{} {}'.format(tr.stats.station, tr.stats.channel),\n",
    "                    lw=1.0,\n",
    "                    )\n",
    "\n",
    "\n",
    "        ## _________________________________________________________________\n",
    "        fxx = abs(fftpack.fft(tr.data)[1:len(ff)//2])\n",
    "        axes[i,1].loglog(\n",
    "                    ff[1:len(ff)//2],\n",
    "                    fxx,\n",
    "                    color='black',\n",
    "                    lw=1.0,\n",
    "                    )\n",
    "        \n",
    "        axes[i,1].vlines(1/86400,min(fxx[:]), max(fxx[:]), color=\"darkgrey\", alpha=1.0, zorder=0)\n",
    "        axes[i,1].vlines(2/86400,min(fxx[:]), max(fxx[:]), color=\"darkgrey\", alpha=1.0, zorder=0)\n",
    "        \n",
    "        axes[NN-1,0].set_xlabel(\"Time (days)\")\n",
    "        axes[NN-1,1].set_xlabel(\"Frequency (Hz)\")\n",
    "                      \n",
    "        axes[i,0].set_ylabel(r'$\\Omega$ ($\\mu$rad)')    \n",
    "        axes[i,1].set_ylabel(r'ASD (rad/Hz)')        \n",
    "        axes[i,0].legend(loc='upper left',bbox_to_anchor=(0.8, 1.10), framealpha=1.0)\n",
    "#         axes[i,0].ticklabel_format(axis='y', style='sci', scilimits=(0,0))\n",
    "#         axes[i,1].ticklabel_format(axis='y', style='sci', scilimits=(0,0))\n",
    "#         axes[i,1].set_xlim(1e-7,0.25)\n",
    "#         axes[i,1].set_ylim(1e-12,1e-9)\n",
    "\n",
    "    return fig"
   ]
  },
  {
   "cell_type": "code",
   "execution_count": null,
   "id": "69b771f5",
   "metadata": {
    "ExecuteTime": {
     "end_time": "2022-12-20T10:21:19.388014Z",
     "start_time": "2022-12-20T10:21:07.287Z"
    }
   },
   "outputs": [],
   "source": [
    "# fig = __makeplotStreamSpectra(st_all, config);"
   ]
  },
  {
   "cell_type": "markdown",
   "id": "6455c518",
   "metadata": {},
   "source": [
    "## Compare with Rainfall"
   ]
  },
  {
   "cell_type": "code",
   "execution_count": null,
   "id": "0c809deb",
   "metadata": {
    "ExecuteTime": {
     "end_time": "2022-12-08T13:40:04.859814Z",
     "start_time": "2022-12-08T13:40:04.250165Z"
    }
   },
   "outputs": [],
   "source": []
  },
  {
   "cell_type": "code",
   "execution_count": null,
   "id": "f04f90e1",
   "metadata": {
    "ExecuteTime": {
     "end_time": "2022-12-20T10:21:19.388566Z",
     "start_time": "2022-12-20T10:21:07.290Z"
    },
    "code_folding": [
     0
    ]
   },
   "outputs": [],
   "source": [
    "num = int(1440*3/10)\n",
    "\n",
    "rain = __cumsum_rain(furt.Rc, num)\n",
    "\n",
    "plt.plot(rain)\n",
    "# plt.semilogy(furt.Rc)"
   ]
  },
  {
   "cell_type": "code",
   "execution_count": null,
   "id": "4d8b6127",
   "metadata": {},
   "outputs": [],
   "source": []
  },
  {
   "cell_type": "code",
   "execution_count": null,
   "id": "d329561b",
   "metadata": {},
   "outputs": [],
   "source": []
  },
  {
   "cell_type": "code",
   "execution_count": null,
   "id": "870b55be",
   "metadata": {},
   "outputs": [],
   "source": []
  }
 ],
 "metadata": {
  "kernelspec": {
   "display_name": "Python 3",
   "language": "python",
   "name": "python3"
  },
  "language_info": {
   "codemirror_mode": {
    "name": "ipython",
    "version": 3
   },
   "file_extension": ".py",
   "mimetype": "text/x-python",
   "name": "python",
   "nbconvert_exporter": "python",
   "pygments_lexer": "ipython3",
   "version": "3.7.7"
  },
  "latex_envs": {
   "LaTeX_envs_menu_present": true,
   "autoclose": false,
   "autocomplete": true,
   "bibliofile": "biblio.bib",
   "cite_by": "apalike",
   "current_citInitial": 1,
   "eqLabelWithNumbers": true,
   "eqNumInitial": 1,
   "hotkeys": {
    "equation": "Ctrl-E",
    "itemize": "Ctrl-I"
   },
   "labels_anchors": false,
   "latex_user_defs": false,
   "report_style_numbering": false,
   "user_envs_cfg": false
  },
  "toc": {
   "base_numbering": 1,
   "nav_menu": {},
   "number_sections": true,
   "sideBar": true,
   "skip_h1_title": false,
   "title_cell": "Table of Contents",
   "title_sidebar": "Contents",
   "toc_cell": false,
   "toc_position": {},
   "toc_section_display": true,
   "toc_window_display": false
  }
 },
 "nbformat": 4,
 "nbformat_minor": 5
}
