{
 "cells": [
  {
   "cell_type": "markdown",
   "id": "22f5c8c9",
   "metadata": {
    "ExecuteTime": {
     "end_time": "2022-10-28T13:00:52.763484Z",
     "start_time": "2022-10-28T13:00:52.761516Z"
    }
   },
   "source": [
    "## Sagnac Frequency - Backscatter Correction - Frequency Domain"
   ]
  },
  {
   "cell_type": "markdown",
   "id": "1cd32aed",
   "metadata": {},
   "source": []
  },
  {
   "cell_type": "markdown",
   "id": "185b1a0b",
   "metadata": {},
   "source": [
    "## Imports"
   ]
  },
  {
   "cell_type": "code",
   "execution_count": null,
   "id": "818caf4c",
   "metadata": {
    "ExecuteTime": {
     "end_time": "2023-06-27T08:11:10.277643Z",
     "start_time": "2023-06-27T08:11:08.781535Z"
    },
    "tags": []
   },
   "outputs": [],
   "source": [
    "import os\n",
    "import gc\n",
    "import matplotlib.pyplot as plt\n",
    "import numpy as np\n",
    "\n",
    "from datetime import datetime, date\n",
    "from pandas import DataFrame, read_pickle, date_range, concat, read_csv\n",
    "from obspy import UTCDateTime, read\n",
    "from scipy.signal import hilbert"
   ]
  },
  {
   "cell_type": "code",
   "execution_count": null,
   "id": "f5788f8c-02bb-48ee-9907-24030a7bcece",
   "metadata": {},
   "outputs": [],
   "source": [
    "from functions.load_romy_raw_data import __load_romy_raw_data\n",
    "from functions.hilbert_frequency_estimator import __hilbert_frequency_estimator\n",
    "from functions.get_fft_values import __get_fft_values\n",
    "from functions.get_time_intervals import __get_time_intervals\n",
    "from functions.backscatter_correction import __backscatter_correction\n",
    "from functions.sine_frequency_estimator import __sine_frequency_estimator"
   ]
  },
  {
   "cell_type": "code",
   "execution_count": null,
   "id": "b83c9987",
   "metadata": {
    "ExecuteTime": {
     "end_time": "2023-06-27T08:11:10.288084Z",
     "start_time": "2023-06-27T08:11:10.284752Z"
    },
    "tags": []
   },
   "outputs": [],
   "source": [
    "if os.uname().nodename == 'lighthouse':\n",
    "    root_path = '/home/andbro/'\n",
    "    data_path = '/home/andbro/kilauea-data/'\n",
    "    archive_path = '/home/andbro/freenas/'\n",
    "elif os.uname().nodename == 'kilauea':\n",
    "    root_path = '/home/brotzer/'\n",
    "    data_path = '/import/kilauea-data/'\n",
    "    archive_path = '/import/freenas-ffb-01-data/'"
   ]
  },
  {
   "cell_type": "markdown",
   "id": "ec2578ab",
   "metadata": {},
   "source": [
    "## Configurations"
   ]
  },
  {
   "cell_type": "code",
   "execution_count": null,
   "id": "ba83e3e7",
   "metadata": {
    "ExecuteTime": {
     "end_time": "2023-06-27T08:11:13.008382Z",
     "start_time": "2023-06-27T08:11:13.002517Z"
    },
    "tags": []
   },
   "outputs": [],
   "source": [
    "config = {}\n",
    "\n",
    "config['ring'] = \"V\"\n",
    "\n",
    "config['seed'] = f\"BW.DROMY..FJ{config['ring']}\"\n",
    "\n",
    "config['path_to_sds'] = archive_path+\"romy_archive/\"\n",
    "\n",
    "# test U\n",
    "config['tbeg'] = UTCDateTime(\"2023-09-19 00:00\")\n",
    "config['tend'] = UTCDateTime(\"2023-09-19 02:00\")\n",
    "\n",
    "# test V\n",
    "config['tbeg'] = UTCDateTime(\"2024-05-22 16:00\")\n",
    "config['tend'] = UTCDateTime(\"2024-05-22 19:00\")\n",
    "\n",
    "# test Z\n",
    "# config['tbeg'] = UTCDateTime(\"2024-08-01 15:30\")\n",
    "# config['tend'] = UTCDateTime(\"2024-08-01 19:30\")\n",
    "\n",
    "\n",
    "# define nominal sagnac frequency of rings\n",
    "config['ring_sagnac'] = {\"U\":303.05, \"V\":447.5, \"W\":447.5, \"Z\":553.5}\n",
    "config['nominal_sagnac'] = config['ring_sagnac'][config['ring']]\n",
    "\n",
    "## path to Sagnac data\n",
    "config['path_to_autodata'] = archive_path+f\"romy_autodata/\"\n",
    "\n",
    "config['path_to_data'] = data_path+\"sagnac_frequency/data/\"\n",
    "\n",
    "config['path_to_figs'] = data_path+\"sagnac_frequency/figures/\"\n",
    "\n",
    "config['interval'] = 120 ## seconds\n",
    "\n",
    "config['method'] = \"fft\" ## welch | multitaper | fft\n",
    "\n",
    "config['ddt'] = 60\n",
    "\n",
    "config['fband'] = 2\n",
    "\n",
    "config['cm_value'] = 1.033\n",
    "\n",
    "# set if amplitdes are corrected with envelope\n",
    "config['correct_amplitudes'] = True\n",
    "\n",
    "# set prewhitening factor (to avoid division by zero)\n",
    "config['prewhitening'] = 0.1\n",
    "\n",
    "# select frequency estimation mode\n",
    "config['mode'] = \"both\" # \"hilbert\" | \"sine\" | \"both\"\n"
   ]
  },
  {
   "cell_type": "markdown",
   "id": "d2c3bf44-6be4-445e-9c39-629fdc606900",
   "metadata": {
    "tags": []
   },
   "source": [
    "### Load Archive Files"
   ]
  },
  {
   "cell_type": "code",
   "execution_count": null,
   "id": "aa517b31-193f-42ee-909a-a2465a893204",
   "metadata": {
    "tags": []
   },
   "outputs": [],
   "source": [
    "sagn = __load_romy_raw_data(f\"BW.DROMY..FJ{config['ring']}\",\n",
    "                            config['tbeg']-2*config['ddt'],\n",
    "                            config['tend']+2*config['ddt'],\n",
    "                            config['path_to_sds']\n",
    "                           )\n",
    "mon1 = __load_romy_raw_data(\"BW.DROMY..F1V\",\n",
    "                            config['tbeg']-2*config['ddt'],\n",
    "                            config['tend']+2*config['ddt'],\n",
    "                            config['path_to_sds']\n",
    "                           )\n",
    "mon2 = __load_romy_raw_data(\"BW.DROMY..F2V\",\n",
    "                            config['tbeg']-2*config['ddt'],\n",
    "                            config['tend']+2*config['ddt'],\n",
    "                            config['path_to_sds']\n",
    "                           )"
   ]
  },
  {
   "cell_type": "code",
   "execution_count": null,
   "id": "45bf08df-8215-410c-86de-959ee756c5a5",
   "metadata": {
    "tags": []
   },
   "outputs": [],
   "source": [
    "# for ss in [sagn, mon1, mon2]:\n",
    "#     ss.write(root_path+f\"Downloads/mseed/DROMY_{ss[0].stats.channel}_{config['tbeg'].date}.mseed)"
   ]
  },
  {
   "cell_type": "markdown",
   "id": "f952cadf-5eeb-4789-9aa7-f18528cef3f9",
   "metadata": {
    "tags": []
   },
   "source": [
    "### Load Local Files"
   ]
  },
  {
   "cell_type": "code",
   "execution_count": null,
   "id": "166a8dd7-5766-4838-9217-bb4458dbfe27",
   "metadata": {
    "tags": []
   },
   "outputs": [],
   "source": [
    "# sagn = read(root_path+\"Downloads/mseed/DROMY_FJU_2023-09-19.mseed\")\n",
    "# mon1 = read(root_path+\"Downloads/mseed/DROMY_F1V_2023-09-19.mseed\")\n",
    "# mon2 = read(root_path+\"Downloads/mseed/DROMY_F2V_2023-09-19.mseed\")\n",
    "\n",
    "# sagn = read(root_path+\"Downloads/mseed/DROMY_FJU_2023-09-01.mseed\")\n",
    "# mon1 = read(root_path+\"Downloads/mseed/DROMY_F1V_2023-09-01.mseed\")\n",
    "# mon2 = read(root_path+\"Downloads/mseed/DROMY_F2V_2023-09-01.mseed\")\n",
    "\n",
    "# sagn.trim(config['tbeg'], config['tbeg']+1800)\n",
    "# mon1.trim(config['tbeg'], config['tbeg']+1800)\n",
    "# mon2.trim(config['tbeg'], config['tbeg']+1800)\n",
    "\n",
    "# sagn = read(root_path+f\"Downloads/mseed/DROMY_FJ{config['ring']}_{config['tbeg'].date}.mseed\")\n",
    "# mon1 = read(root_path+f\"Downloads/mseed/DROMY_F1V_{config['tbeg'].date}.mseed\")\n",
    "# mon2 = read(root_path+f\"Downloads/mseed/DROMY_F2V_{config['tbeg'].date}.mseed\")\n",
    "\n",
    "# for st0 in [sagn, mon1, mon2]:\n",
    "#     for tr in st0:\n",
    "#         tr.data = tr.data*0.59604645e-6 # V / count  [0.59604645ug  from obsidian]\n"
   ]
  },
  {
   "cell_type": "code",
   "execution_count": null,
   "id": "189a9940-000a-4a39-a2db-2b9bd663cc82",
   "metadata": {
    "tags": []
   },
   "outputs": [],
   "source": [
    "sagn.plot();\n",
    "mon1.plot();\n",
    "mon2.plot();"
   ]
  },
  {
   "cell_type": "markdown",
   "id": "d7d548a1-7fa6-4248-a7cc-a936203396df",
   "metadata": {},
   "source": [
    "## Processing"
   ]
  },
  {
   "cell_type": "code",
   "execution_count": null,
   "id": "19305eb8-ffa6-4d27-a591-d525df5315bd",
   "metadata": {
    "tags": []
   },
   "outputs": [],
   "source": [
    "# def __hilbert_frequency_estimator2(st, nominal_sagnac, fband, cut=0):\n",
    "\n",
    "#     from scipy.signal import hilbert\n",
    "#     import numpy as np\n",
    "\n",
    "#     st0 = st.copy()\n",
    "\n",
    "#     ## extract sampling rate\n",
    "#     df = st0[0].stats.sampling_rate\n",
    "\n",
    "#     ## define frequency band around Sagnac Frequency\n",
    "#     f_lower = nominal_sagnac - fband\n",
    "#     f_upper = nominal_sagnac + fband\n",
    "\n",
    "#     ## bandpass with butterworth around Sagnac Frequency\n",
    "#     st0 = st0.detrend(\"linear\")\n",
    "#     st0 = st0.taper(0.01, type='cosine')\n",
    "#     st0 = st0.filter(\"bandpass\", freqmin=f_lower, freqmax=f_upper, corners=4, zerophase=True)\n",
    "\n",
    "#     ## estimate instantaneous frequency with hilbert\n",
    "#     signal = st0[0].data\n",
    "\n",
    "#     ## calulcate hilbert transform\n",
    "#     hil0 = hilbert(signal)\n",
    "\n",
    "#     ## extract imaginary part of hilbert transform\n",
    "#     hil = np.imag(hil0)\n",
    "\n",
    "#     ## calculate derivatives\n",
    "#     d_hil = np.gradient(hil, edge_order=1)\n",
    "#     d_sig = np.gradient(signal, edge_order=1)\n",
    "\n",
    "#     delta_f_full = (signal * d_hil - d_sig * hil) / (2*np.pi*np.sqrt(signal**2 + hil**2))\n",
    "\n",
    "#     ## extract real part\n",
    "#     instantaneous_frequency = np.real(delta_f_full)\n",
    "\n",
    "#     del hil0, hil, d_hil, d_sig\n",
    "#     ## cut first and last 5% (corrupted data)\n",
    "#     # dd = int(cut*len(instantaneous_frequency))\n",
    "#     dd = int(cut*df)\n",
    "#     insta_f_cut = instantaneous_frequency[dd:-dd]\n",
    "\n",
    "#     ## get times\n",
    "#     t = st0[0].times()\n",
    "#     t_mid = t[int((len(t))/2)]\n",
    "\n",
    "#     ## averaging of frequencies\n",
    "#     insta_f_cut_avg = np.mean(insta_f_cut)\n",
    "#     # insta_f_cut_avg = np.median(insta_f_cut)\n",
    "\n",
    "#     return t_mid, insta_f_cut_avg"
   ]
  },
  {
   "cell_type": "code",
   "execution_count": null,
   "id": "cabc9889-ec8b-4cfd-aee6-6ad44889acc5",
   "metadata": {
    "tags": []
   },
   "outputs": [],
   "source": [
    "times = __get_time_intervals(config['tbeg'], config['tend'], interval_seconds=config['interval'], interval_overlap=0)"
   ]
  },
  {
   "cell_type": "markdown",
   "id": "9581fc95-968a-4086-8fe2-c0773b640bf4",
   "metadata": {},
   "source": [
    "## Computing"
   ]
  },
  {
   "cell_type": "code",
   "execution_count": null,
   "id": "14338b4d-799d-4c39-8953-601cf508e0a8",
   "metadata": {
    "tags": []
   },
   "outputs": [],
   "source": [
    "gc.collect();"
   ]
  },
  {
   "cell_type": "code",
   "execution_count": null,
   "id": "4459949b-3f72-42c5-ad20-da0a5a30090c",
   "metadata": {},
   "outputs": [],
   "source": [
    "# overall samples\n",
    "NN = len(times)\n",
    "\n",
    "# prepare output arrays\n",
    "fs, fh, ff = np.ones(NN)*np.nan, np.ones(NN)*np.nan, np.ones(NN)*np.nan\n",
    "ac, dc, ph, st = np.ones(NN)*np.nan, np.ones(NN)*np.nan, np.ones(NN)*np.nan, np.ones(NN)*np.nan\n",
    "\n",
    "ph_wrap = np.ones(NN)*np.nan\n",
    "\n",
    "# prepare output dataframe\n",
    "out_df = DataFrame()\n",
    "out_df['time1'] = list(zip(*times))[0]\n",
    "out_df['time2'] = list(zip(*times))[1]\n",
    "\n",
    "for _k, _st in enumerate([sagn, mon1, mon2]):\n",
    "\n",
    "    print(\" -> processing \", _k, \"...\")\n",
    "\n",
    "    for _n, (t1, t2) in enumerate(times):\n",
    "\n",
    "        # _dat = _st.copy().trim(t1, t2)\n",
    "        _dat = _st.copy().trim(t1-config['ddt'], t2+config['ddt'])\n",
    "\n",
    "        # estimate AC and DC values in frequency domain\n",
    "        fs[_n], ac[_n], dc[_n], ph[_n] = __get_fft_values(_dat[0].data,\n",
    "                                                          _dat[0].stats.delta,\n",
    "                                                          config['nominal_sagnac']\n",
    "                                                         )\n",
    "\n",
    "        # correct amplitudes with envelope\n",
    "        if config['correct_amplitudes']:\n",
    "            for tr in _dat:\n",
    "                # scale by envelope\n",
    "                env = abs(hilbert(tr.data)) + config['prewhitening']\n",
    "                tr.data = tr.data / env\n",
    "\n",
    "\n",
    "        if config['mode'] in [\"hilbert\", \"both\"]:\n",
    "            # estimate instantaneous frequency average via hilbert\n",
    "            t, fh[_n], _, st[_n] = __hilbert_frequency_estimator(_dat,\n",
    "                                                                 config['nominal_sagnac'],\n",
    "                                                                 fband=config['fband'],\n",
    "                                                                 cut=config['ddt']\n",
    "                                                                 )\n",
    "\n",
    "        elif config['mode'] in [\"sine\", \"both\"]:\n",
    "            # estimate instantaneous frequency average via sine fit\n",
    "            t, fs[_n], _, _ = __sine_frequency_estimator(_dat,\n",
    "                                                          config['nominal_sagnac'],\n",
    "                                                          fband=config['fband'],\n",
    "                                                          Tinterval=config['interval'],\n",
    "                                                          Toverlap=0,\n",
    "                                                          plot=False,\n",
    "                                                         )\n",
    "        if config['mode'] == \"sine\":\n",
    "            ff[_n] = fs[_n]\n",
    "        else:\n",
    "            ff[_n] = fh[_n]\n",
    "\n",
    "        # estimate DC and AC based on time series (time domain)\n",
    "        # dc[_n] = np.median(_dat)\n",
    "        # dc[_n] = np.mean(_dat)\n",
    "        # ac[_n] = np.percentile(_dat[0].data, 99.9) - np.percentile(_dat[0].data, 100-99.9)\n",
    "\n",
    "    # store wrapped phase\n",
    "    ph_wrap = ph\n",
    "\n",
    "    # store unwrapped phase\n",
    "    ph = np.unwrap(ph)\n",
    "\n",
    "    # fill output dataframe\n",
    "    if _k == 0:\n",
    "        out_df['fj_fs'], out_df['fj_ac'], out_df['fj_dc'], out_df['fj_ph'], out_df['fj_st'] = ff, ac, dc, ph, st\n",
    "        out_df['fj_phw'] = ph_wrap\n",
    "        if config['mode'] == \"both\":\n",
    "            out_df['fj_sine'], out_df['fj_hilb'] = fs, fh\n",
    "    elif _k == 1:\n",
    "        out_df['f1_fs'], out_df['f1_ac'], out_df['f1_dc'], out_df['f1_ph'], out_df['f1_st'] = ff, ac, dc, ph, st\n",
    "        out_df['f1_phw'] = ph_wrap\n",
    "        if config['mode'] == \"both\":\n",
    "            out_df['fj_sine'], out_df['fj_hilb'] = fs, fh\n",
    "    elif _k == 2:\n",
    "        out_df['f2_fs'], out_df['f2_ac'], out_df['f2_dc'], out_df['f2_ph'], out_df['f2_st'] = ff, ac, dc, ph, st\n",
    "        out_df['f2_phw'] = ph_wrap\n",
    "        if config['mode'] == \"both\":\n",
    "            out_df['fj_sine'], out_df['fj_hilb'] = fs, fh\n",
    "\n",
    "# prepare values for backscatter correction\n",
    "\n",
    "# AC/DC ratios\n",
    "m01 = out_df.f1_ac / out_df.f1_dc\n",
    "m02 = out_df.f2_ac / out_df.f2_dc\n",
    "\n",
    "# phase difference\n",
    "phase0 = out_df.f1_ph - out_df.f2_ph\n",
    "phase0 = np.unwrap(out_df.f1_phw) - np.unwrap(out_df.f2_phw)\n",
    "\n",
    "# obseved Sagnac frequency with backscatter\n",
    "w_obs = out_df.fj_fs\n",
    "\n",
    "# apply backscatter correction\n",
    "out_df['w_s'], out_df['bscorrection'], out_df['term'] = __backscatter_correction(m01, m02,\n",
    "                                                                                 phase0,\n",
    "                                                                                 w_obs,\n",
    "                                                                                 config['nominal_sagnac'],\n",
    "                                                                                 cm_filter_factor=config['cm_value'],\n",
    "                                                                                 )\n"
   ]
  },
  {
   "cell_type": "code",
   "execution_count": null,
   "id": "7ee28142-7222-46ff-b60f-99b25285f215",
   "metadata": {
    "tags": []
   },
   "outputs": [],
   "source": [
    "def __makeplot(df):\n",
    "\n",
    "    Nrow, Ncol = 5, 1\n",
    "\n",
    "    font = 12\n",
    "    ms = 15\n",
    "\n",
    "    fig, ax = plt.subplots(Nrow, Ncol, figsize=(15, 10), sharex=True)\n",
    "\n",
    "    t_axis = (np.array(range(len(df['fj_fs'])))+0.5)*config['interval']/60\n",
    "\n",
    "    ax[0].scatter(t_axis, df['fj_fs'], zorder=2, s=ms, label=\"fj\")\n",
    "    ax[0].scatter(t_axis, df['f1_fs'], zorder=2, s=ms, label=\"f1\")\n",
    "    ax[0].scatter(t_axis, df['f2_fs'], zorder=2, s=ms, label=\"f2\")\n",
    "    ax[0].set_ylabel(\"$\\delta$f (Hz)\")\n",
    "    ax[0].ticklabel_format(useOffset=False)\n",
    "\n",
    "    # ax[1].scatter(t_axis, df['fj_ac'], zorder=2, s=ms, label=\"fj\")\n",
    "    ax[1].scatter(t_axis, df['f1_ac']*1e3, zorder=2, s=ms, label=\"f1\", color=\"tab:orange\")\n",
    "    ax[1].scatter(t_axis, df['f2_ac']*1e3, zorder=2, s=ms, label=\"f2\", color=\"tab:green\")\n",
    "    ax[1].set_ylabel(\"AC (mV)\")\n",
    "    ax[1].set_ylim(0, 4)\n",
    "\n",
    "    ax11 = ax[1].twinx()\n",
    "    ax11.scatter(t_axis, df['fj_ac'], zorder=2, s=ms, label=\"fj\")\n",
    "    ax11.set_ylabel(\"AC (V)\")\n",
    "    ax11.spines['right'].set_color('tab:blue')\n",
    "    ax11.yaxis.label.set_color('tab:blue')\n",
    "    ax11.tick_params(axis='y', colors='tab:blue')\n",
    "    ax11.set_yticks(np.linspace(ax11.get_yticks()[0], ax11.get_yticks()[-1], len(ax[1].get_yticks())))\n",
    "\n",
    "    # ax[2].scatter(t_axis, df['fj_dc'], zorder=2, s=ms, label=\"fj\")\n",
    "    ax[2].scatter(t_axis, df['f1_dc'], zorder=2, s=ms, label=\"f1\", color=\"tab:orange\")\n",
    "    ax[2].scatter(t_axis, df['f2_dc'], zorder=2, s=ms, label=\"f2\", color=\"tab:green\")\n",
    "    ax[2].set_ylabel(\"DC (V)\")\n",
    "    # ax[2].set_ylim(0.7, 1)\n",
    "\n",
    "    ax21 = ax[2].twinx()\n",
    "    ax21.scatter(t_axis, df['fj_dc'], zorder=2, s=ms, label=\"fj\")\n",
    "    ax21.set_ylabel(\"DC (V)\")\n",
    "    ax21.spines['right'].set_color('tab:blue')\n",
    "    ax21.yaxis.label.set_color('tab:blue')\n",
    "    ax21.tick_params(axis='y', colors='tab:blue')\n",
    "    ax21.set_yticks(np.linspace(ax21.get_yticks()[0], ax21.get_yticks()[-1], len(ax[2].get_yticks())))\n",
    "\n",
    "    # ax[3].scatter(t_axis, df['fj_ac']/df['fj_dc'], zorder=2, s=ms, label=\"fj\")\n",
    "    ax[3].scatter(t_axis, df['f1_ac']/df['f1_dc'], zorder=2, s=ms, label=\"f1\", color=\"tab:orange\")\n",
    "    ax[3].scatter(t_axis, df['f2_ac']/df['f2_dc'], zorder=2, s=ms, label=\"f2\", color=\"tab:green\")\n",
    "    ax[3].set_ylabel(\"AC/DC\")\n",
    "    ax[3].set_ylim(0, 5e-3)\n",
    "\n",
    "    ax31 = ax[3].twinx()\n",
    "    ax31.scatter(t_axis, df['fj_ac']/df['fj_dc'], zorder=2, s=ms, label=\"fj\")\n",
    "    ax31.set_ylabel(\"AC/DC\")\n",
    "    ax31.spines['right'].set_color('tab:blue')\n",
    "    ax31.yaxis.label.set_color('tab:blue')\n",
    "    ax31.tick_params(axis='y', colors='tab:blue')\n",
    "    ax31.set_yticks(np.linspace(ax31.get_yticks()[0], ax31.get_yticks()[-1], len(ax[3].get_yticks())))\n",
    "\n",
    "    ax[4].scatter(t_axis, df['f1_ph']-df['f2_ph'], color=\"k\", zorder=2, s=ms, label=\"f1-f2\")\n",
    "    ax[4].set_ylabel(\"$\\Delta$ Phase (rad)\")\n",
    "    # ax[4].set_yscale(\"log\")\n",
    "\n",
    "    ax[4].set_xlabel(\"Time (min)\")\n",
    "\n",
    "    for _n in range(Nrow):\n",
    "        ax[_n].grid(ls=\":\", zorder=0)\n",
    "        ax[_n].legend(loc=1, ncol=3)\n",
    "\n",
    "    plt.show();\n",
    "    return fig\n",
    "\n",
    "fig = __makeplot(out_df);\n",
    "\n",
    "# fig.savefig(config['path_to_figs']+f\"SF_BS_{config['ring']}_{method}_values.png\", format=\"png\", dpi=150, bbox_inches='tight')\n"
   ]
  },
  {
   "cell_type": "code",
   "execution_count": null,
   "id": "7bcdb728-429c-41a4-90d3-617fc9b00bb7",
   "metadata": {},
   "outputs": [],
   "source": [
    "def __makeplot2(df):\n",
    "\n",
    "    Nrow, Ncol = 5, 1\n",
    "\n",
    "    font = 12\n",
    "    ms = 15\n",
    "\n",
    "    fig, ax = plt.subplots(Nrow, Ncol, figsize=(15, 10), sharex=True)\n",
    "\n",
    "    t_axis = (np.array(range(len(df['fj_fs'])))+0.5)*config['interval']/60\n",
    "\n",
    "    ax[0].plot(t_axis, df['f1_fs'], zorder=2, label=\"f1\", color=\"tab:orange\")\n",
    "    ax[0].plot(t_axis, df['f2_fs'], zorder=2, label=\"f2\", color=\"tab:green\")\n",
    "    ax[0].set_ylabel(\"$\\delta$f (Hz)\")\n",
    "    ax[0].ticklabel_format(useOffset=False)\n",
    "\n",
    "\n",
    "    ax00 = ax[0].twinx()\n",
    "    ax00.plot(t_axis, df['fj_fs'], zorder=2, label=\"fj\", color=\"tab:blue\")\n",
    "    ax00.plot(t_axis, df['w_s'], zorder=2, label=\"bs\", ls=\"--\", color=\"tab:blue\")\n",
    "    ax00.set_ylabel(\"$\\delta$f (Hz)\")\n",
    "    ax00.spines['right'].set_color('tab:blue')\n",
    "    ax00.yaxis.label.set_color('tab:blue')\n",
    "    ax00.tick_params(axis='y', colors='tab:blue')\n",
    "    ax00.set_yticks(np.linspace(ax00.get_yticks()[0], ax00.get_yticks()[-1], len(ax[0].get_yticks())))\n",
    "    ax00.ticklabel_format(useOffset=False)\n",
    "\n",
    "    ax[1].plot(t_axis, df['f1_ac']*1e3, zorder=2, label=\"f1\", color=\"tab:orange\")\n",
    "    ax[1].plot(t_axis, df['f2_ac']*1e3, zorder=2, label=\"f2\", color=\"tab:green\")\n",
    "    ax[1].set_ylabel(\"AC (mV)\")\n",
    "    ax[1].set_ylim(0, 4)\n",
    "\n",
    "    ax11 = ax[1].twinx()\n",
    "    ax11.plot(t_axis, df['fj_ac'], zorder=2, label=\"fj\")\n",
    "    ax11.set_ylabel(\"AC (V)\")\n",
    "    ax11.spines['right'].set_color('tab:blue')\n",
    "    ax11.yaxis.label.set_color('tab:blue')\n",
    "    ax11.tick_params(axis='y', colors='tab:blue')\n",
    "    ax11.set_yticks(np.linspace(ax11.get_yticks()[0], ax11.get_yticks()[-1], len(ax[1].get_yticks())))\n",
    "\n",
    "    ax[2].plot(t_axis, df['f1_dc'], zorder=2, label=\"f1\", color=\"tab:orange\")\n",
    "    ax[2].plot(t_axis, df['f2_dc'], zorder=2, label=\"f2\", color=\"tab:green\")\n",
    "    ax[2].set_ylabel(\"DC (V)\")\n",
    "\n",
    "    ax21 = ax[2].twinx()\n",
    "    ax21.plot(t_axis, df['fj_dc'], zorder=2, label=\"fj\")\n",
    "    ax21.set_ylabel(\"DC (V)\")\n",
    "    ax21.spines['right'].set_color('tab:blue')\n",
    "    ax21.yaxis.label.set_color('tab:blue')\n",
    "    ax21.tick_params(axis='y', colors='tab:blue')\n",
    "    ax21.set_yticks(np.linspace(ax21.get_yticks()[0], ax21.get_yticks()[-1], len(ax[2].get_yticks())))\n",
    "\n",
    "    ax[3].plot(t_axis, df['f1_ac']/df['f1_dc'], zorder=2, label=\"f1\", color=\"tab:orange\")\n",
    "    ax[3].plot(t_axis, df['f2_ac']/df['f2_dc'], zorder=2, label=\"f2\", color=\"tab:green\")\n",
    "    ax[3].set_ylabel(\"AC/DC\")\n",
    "    ax[3].set_ylim(0, 5e-3)\n",
    "\n",
    "    ax31 = ax[3].twinx()\n",
    "    ax31.plot(t_axis, df['fj_ac']/df['fj_dc'], zorder=2, label=\"fj\")\n",
    "    ax31.set_ylabel(\"AC/DC\")\n",
    "    ax31.spines['right'].set_color('tab:blue')\n",
    "    ax31.yaxis.label.set_color('tab:blue')\n",
    "    ax31.tick_params(axis='y', colors='tab:blue')\n",
    "    ax31.set_yticks(np.linspace(ax31.get_yticks()[0], ax31.get_yticks()[-1], len(ax[3].get_yticks())))\n",
    "\n",
    "    ax[4].plot(t_axis, df['f1_ph']-df['f2_ph'], color=\"k\", zorder=2, label=\"f1-f2\")\n",
    "    ax[4].set_ylabel(\"$\\Delta$ Phase (rad)\")\n",
    "    # ax[4].set_yscale(\"log\")\n",
    "\n",
    "    ax[4].set_xlabel(\"Time (min)\")\n",
    "\n",
    "    for _n in range(Nrow):\n",
    "        ax[_n].grid(ls=\":\", zorder=0)\n",
    "        ax[_n].legend(loc=1, ncol=3)\n",
    "\n",
    "    plt.show();\n",
    "    return fig\n",
    "\n",
    "fig = __makeplot2(out_df);\n",
    "\n",
    "# fig.savefig(config['path_to_figs']+f\"SF_BS_{config['ring']}_{method}_values.png\", format=\"png\", dpi=150, bbox_inches='tight')\n"
   ]
  },
  {
   "cell_type": "code",
   "execution_count": null,
   "id": "e03b1c69-e3d5-4128-b81f-d215a47c7f07",
   "metadata": {},
   "outputs": [],
   "source": [
    "plt.plot(out_df.fj_sine)\n",
    "plt.plot(out_df.fj_hilb)\n"
   ]
  },
  {
   "cell_type": "markdown",
   "id": "40601cc4-09a1-492d-a5e8-712913eeee03",
   "metadata": {
    "tags": []
   },
   "source": [
    "## Beat Data"
   ]
  },
  {
   "cell_type": "code",
   "execution_count": null,
   "id": "c694f98b-df73-4166-8457-2d0a861f924b",
   "metadata": {
    "tags": []
   },
   "outputs": [],
   "source": [
    "def __load_beat(tbeg, tend, ring, path_to_data):\n",
    "\n",
    "    from datetime import date\n",
    "    from pandas import read_pickle, concat, DataFrame, date_range\n",
    "    from obspy import UTCDateTime\n",
    "\n",
    "    tbeg, tend = UTCDateTime(tbeg), UTCDateTime(tend)\n",
    "\n",
    "    dd1 = date.fromisoformat(str(tbeg.date))\n",
    "    dd2 = date.fromisoformat(str(tend.date))\n",
    "\n",
    "    year = str(tbeg.year)\n",
    "\n",
    "    df = DataFrame()\n",
    "    for dat in date_range(dd1, dd2):\n",
    "        file = f\"{year}/R{ring}/FJ{ring}_\"+str(dat)[:10].replace(\"-\", \"\")+\".pkl\"\n",
    "        try:\n",
    "            df0 = read_pickle(path_to_data+file)\n",
    "            df = concat([df, df0])\n",
    "        except:\n",
    "            print(f\"error for {file}\")\n",
    "\n",
    "    ## trim to defined times\n",
    "    df = df[(df.times_utc >= tbeg) & (df.times_utc < tend)]\n",
    "\n",
    "    ## correct seconds\n",
    "    df['times_utc_sec'] = [abs(tbeg - UTCDateTime(_t))  for _t in df['times_utc']]\n",
    "\n",
    "    return df"
   ]
  },
  {
   "cell_type": "code",
   "execution_count": null,
   "id": "0cd2cc61-58bc-44d6-bbb6-b00eda834b0d",
   "metadata": {
    "tags": []
   },
   "outputs": [],
   "source": [
    "# t1, t2 = UTCDateTime(out_df['time1'][0]), UTCDateTime(out_df['time1'][0])+len(out_df['time1'])*interval\n",
    "\n",
    "# # data = __load_beat(t1, t2, config['seed'].split(\".\")[3][2], config['path_to_data'])\n",
    "# data = out_df\n",
    "\n",
    "# w_obs = data['fj_fs']"
   ]
  },
  {
   "cell_type": "code",
   "execution_count": null,
   "id": "5ea2b7e4-0aba-4388-9a52-a8811b28ab66",
   "metadata": {},
   "outputs": [],
   "source": []
  }
 ],
 "metadata": {
  "kernelspec": {
   "display_name": "Python 3 (ipykernel)",
   "language": "python",
   "name": "python3"
  },
  "language_info": {
   "codemirror_mode": {
    "name": "ipython",
    "version": 3
   },
   "file_extension": ".py",
   "mimetype": "text/x-python",
   "name": "python",
   "nbconvert_exporter": "python",
   "pygments_lexer": "ipython3",
   "version": "3.9.19"
  },
  "latex_envs": {
   "LaTeX_envs_menu_present": true,
   "autoclose": false,
   "autocomplete": true,
   "bibliofile": "biblio.bib",
   "cite_by": "apalike",
   "current_citInitial": 1,
   "eqLabelWithNumbers": true,
   "eqNumInitial": 1,
   "hotkeys": {
    "equation": "Ctrl-E",
    "itemize": "Ctrl-I"
   },
   "labels_anchors": false,
   "latex_user_defs": false,
   "report_style_numbering": false,
   "user_envs_cfg": false
  },
  "toc": {
   "base_numbering": 1,
   "nav_menu": {},
   "number_sections": true,
   "sideBar": true,
   "skip_h1_title": false,
   "title_cell": "Table of Contents",
   "title_sidebar": "Contents",
   "toc_cell": false,
   "toc_position": {},
   "toc_section_display": true,
   "toc_window_display": false
  },
  "varInspector": {
   "cols": {
    "lenName": 16,
    "lenType": 16,
    "lenVar": 40
   },
   "kernels_config": {
    "python": {
     "delete_cmd_postfix": "",
     "delete_cmd_prefix": "del ",
     "library": "var_list.py",
     "varRefreshCmd": "print(var_dic_list())"
    },
    "r": {
     "delete_cmd_postfix": ") ",
     "delete_cmd_prefix": "rm(",
     "library": "var_list.r",
     "varRefreshCmd": "cat(var_dic_list()) "
    }
   },
   "types_to_exclude": [
    "module",
    "function",
    "builtin_function_or_method",
    "instance",
    "_Feature"
   ],
   "window_display": false
  }
 },
 "nbformat": 4,
 "nbformat_minor": 5
}
