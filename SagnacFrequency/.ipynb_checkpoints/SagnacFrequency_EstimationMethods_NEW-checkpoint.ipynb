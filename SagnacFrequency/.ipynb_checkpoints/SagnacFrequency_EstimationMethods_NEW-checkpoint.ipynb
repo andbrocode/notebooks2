{
 "cells": [
  {
   "cell_type": "markdown",
   "id": "22f5c8c9",
   "metadata": {
    "ExecuteTime": {
     "end_time": "2022-10-28T13:00:52.763484Z",
     "start_time": "2022-10-28T13:00:52.761516Z"
    }
   },
   "source": [
    "## Compute Sagnac Frequency - Estimation NEW"
   ]
  },
  {
   "cell_type": "markdown",
   "id": "1cd32aed",
   "metadata": {},
   "source": []
  },
  {
   "cell_type": "markdown",
   "id": "185b1a0b",
   "metadata": {},
   "source": [
    "## Imports"
   ]
  },
  {
   "cell_type": "code",
   "execution_count": 1,
   "id": "818caf4c",
   "metadata": {
    "ExecuteTime": {
     "end_time": "2023-06-27T08:11:10.277643Z",
     "start_time": "2023-06-27T08:11:08.781535Z"
    },
    "tags": []
   },
   "outputs": [],
   "source": [
    "import os\n",
    "import matplotlib.pyplot as plt\n",
    "import numpy as np\n",
    "\n",
    "from datetime import datetime, date\n",
    "from pandas import DataFrame, read_pickle, date_range, concat, read_csv\n",
    "from obspy import UTCDateTime, read\n",
    "from scipy.signal import hilbert\n"
   ]
  },
  {
   "cell_type": "code",
   "execution_count": 2,
   "id": "b83c9987",
   "metadata": {
    "ExecuteTime": {
     "end_time": "2023-06-27T08:11:10.288084Z",
     "start_time": "2023-06-27T08:11:10.284752Z"
    },
    "tags": []
   },
   "outputs": [],
   "source": [
    "if os.uname().nodename == 'lighthouse':\n",
    "    root_path = '/home/andbro/'\n",
    "    data_path = '/home/andbro/kilauea-data/'\n",
    "    archive_path = '/home/andbro/freenas/'\n",
    "elif os.uname().nodename == 'kilauea':\n",
    "    root_path = '/home/brotzer/'\n",
    "    data_path = '/import/kilauea-data/'\n",
    "    archive_path = '/import/freenas-ffb-01-data/'"
   ]
  },
  {
   "cell_type": "markdown",
   "id": "ec2578ab",
   "metadata": {},
   "source": [
    "## Configurations"
   ]
  },
  {
   "cell_type": "code",
   "execution_count": 3,
   "id": "ba83e3e7",
   "metadata": {
    "ExecuteTime": {
     "end_time": "2023-06-27T08:11:13.008382Z",
     "start_time": "2023-06-27T08:11:13.002517Z"
    },
    "tags": []
   },
   "outputs": [],
   "source": [
    "config = {}\n",
    "\n",
    "config['ring'] = \"U\"\n",
    "\n",
    "config['seed'] = \"BW.DROMY..FJU\"\n",
    "\n",
    "config['path_to_sds'] = archive_path+\"romy_archive/\"\n",
    "\n",
    "\n",
    "config['tbeg'] = UTCDateTime(\"2023-09-01 17:00\")\n",
    "config['tend'] = UTCDateTime(\"2023-09-01 19:00\")\n",
    "\n",
    "# config['f_lower_zoomin'], config['f_upper_zoomin'] = 448-10, 448+10\n",
    "\n",
    "## path to Sagnac data\n",
    "config['path_to_autodata'] = archive_path+f\"romy_autodata/\"\n",
    "\n",
    "config['path_to_data'] = data_path+\"sagnac_frequency/data/\"\n",
    "\n",
    "config['path_to_figs'] = data_path+\"sagnac_frequency/figures/\""
   ]
  },
  {
   "cell_type": "code",
   "execution_count": 4,
   "id": "8b88098b-cb6c-4205-ba67-6a85f437fdc4",
   "metadata": {
    "ExecuteTime": {
     "end_time": "2023-06-27T08:11:26.732797Z",
     "start_time": "2023-06-27T08:11:26.732775Z"
    },
    "tags": []
   },
   "outputs": [],
   "source": [
    "def __load_romy_raw_data(seed, tbeg, tend, path_to_sds):\n",
    "\n",
    "    from andbro__read_sds import __read_sds\n",
    "    from obspy import Stream, UTCDateTime\n",
    "\n",
    "\n",
    "    print(f\" -> loading {seed}...\")\n",
    "\n",
    "    try:\n",
    "        st00 = __read_sds(path_to_sds, seed, tbeg,tend, data_format='MSEED')\n",
    "    except:\n",
    "        print(f\" -> failed for {seed}\")\n",
    "\n",
    "    st0 = st00.sort()\n",
    "\n",
    "    for tr in st0:\n",
    "        tr.data = tr.data*0.59604645e-6 # V / count  [0.59604645ug  from obsidian]\n",
    "\n",
    "    return st0"
   ]
  },
  {
   "cell_type": "markdown",
   "id": "7a693657-b38b-4fd2-ae5d-b79ca1e19546",
   "metadata": {},
   "source": [
    "### Load Archive Files"
   ]
  },
  {
   "cell_type": "code",
   "execution_count": 5,
   "id": "9a236662-9c79-45d3-9bce-9006a89dcbb2",
   "metadata": {
    "tags": []
   },
   "outputs": [],
   "source": [
    "# sagn = __load_romsagn = __load_romy_raw_data(\"BW.DROMY..FJU\", config['tbeg'], config['tend'], config['path_to_sds'])\n",
    "# mon1 = __load_romy_raw_data(\"BW.DROMY..F1V\", config['tbeg'], config['tend'], config['path_to_sds'])\n",
    "# mon2 = __load_romy_raw_data(\"BW.DROMY..F2V\", config['tbeg'], config['tend'], config['path_to_sds'])y_raw_data(\"BW.DROMY..FJU\", config['tbeg'], config['tend'], config['path_to_sds'])\n",
    "# mon1 = __load_romy_raw_data(\"BW.DROMY..F1V\", config['tbeg'], config['tend'], config['path_to_sds'])\n",
    "# mon2 = __load_romy_raw_data(\"BW.DROMY..F2V\", config['tbeg'], config['tend'], config['path_to_sds'])"
   ]
  },
  {
   "cell_type": "markdown",
   "id": "f952cadf-5eeb-4789-9aa7-f18528cef3f9",
   "metadata": {
    "tags": []
   },
   "source": [
    "### Load Local Files"
   ]
  },
  {
   "cell_type": "code",
   "execution_count": 24,
   "id": "4e56366e-6ba0-4184-b1f0-b155ec372f0d",
   "metadata": {
    "tags": []
   },
   "outputs": [],
   "source": [
    "sagn = read(root_path+\"Downloads/mseed/DROMY_FJU_2023-09-19.mseed\")\n",
    "mon1 = read(root_path+\"Downloads/mseed/DROMY_F1V_2023-09-19.mseed\")\n",
    "mon2 = read(root_path+\"Downloads/mseed//DROMY_F2V_2023-09-19.mseed\")\n",
    "\n",
    "sagn.trim(config['tbeg'], config['tbeg']+600)\n",
    "mon1.trim(config['tbeg'], config['tbeg']+600)\n",
    "mon2.trim(config['tbeg'], config['tbeg']+600)\n",
    "\n",
    "for tr in sagn:\n",
    "    tr.data = tr.data*0.59604645e-6 # V / count  [0.59604645ug  from obsidian]\n",
    "for tr in mon1:\n",
    "    tr.data = tr.data*0.59604645e-6 # V / count  [0.59604645ug  from obsidian]\n",
    "for tr in mon2:\n",
    "    tr.data = tr.data*0.59604645e-6 # V / count  [0.59604645ug  from obsidian]\n",
    "\n",
    "config['tbeg'], config['tend'] = sagn[0].stats.starttime, sagn[0].stats.endtime"
   ]
  },
  {
   "cell_type": "code",
   "execution_count": 25,
   "id": "3f7a54c6-e7a9-4e38-900c-42c66d09fce4",
   "metadata": {
    "tags": []
   },
   "outputs": [],
   "source": [
    "# sagn.plot();\n",
    "# mon1.plot();\n",
    "# mon2.plot();"
   ]
  },
  {
   "cell_type": "markdown",
   "id": "d7d548a1-7fa6-4248-a7cc-a936203396df",
   "metadata": {},
   "source": [
    "## Processing"
   ]
  },
  {
   "cell_type": "code",
   "execution_count": 26,
   "id": "37174b69-4fc4-4667-be92-77d97b36afde",
   "metadata": {
    "tags": []
   },
   "outputs": [],
   "source": [
    "from functions.multitaper_psd import __multitaper_psd\n",
    "from functions.welch_psd import __welch_psd\n",
    "from acoustics.signal import phase_spectrum\n",
    "from functions.get_time_intervals import __get_time_intervals"
   ]
  },
  {
   "cell_type": "code",
   "execution_count": 27,
   "id": "b73df744-614f-45c0-9da1-0bca57ca2b84",
   "metadata": {
    "tags": []
   },
   "outputs": [],
   "source": [
    "def __get_fft(signal_in, dt, window=None):\n",
    "\n",
    "    '''\n",
    "    Calculating a simple 1D FastFourierSpectrum of a time series.\n",
    "\n",
    "    RETURN:\n",
    "\n",
    "    frequencies, spectrum, phase\n",
    "\n",
    "    TEST:\n",
    "\n",
    "    >>> spectrum, frequencies, phase = __fft(signal_in, dt ,window=None,normalize=None)\n",
    "    '''\n",
    "\n",
    "    from scipy.fft import fft, fftfreq, fftshift\n",
    "    from scipy import signal\n",
    "    from numpy import angle, imag\n",
    "    ## determine length of the input time series\n",
    "    n = int(len(signal_in))\n",
    "\n",
    "\n",
    "    ## calculate spectrum (with or without window function applied to time series)\n",
    "    if window:\n",
    "        win = signal.get_window(window, n);\n",
    "        spectrum = fft(signal_in * win)\n",
    "\n",
    "    else:\n",
    "        spectrum = fft(signal_in)\n",
    "\n",
    "    ## calculate frequency array\n",
    "    frequencies = fftfreq(n, d=dt)\n",
    "\n",
    "\n",
    "    ## correct amplitudes of spectrum\n",
    "    magnitude = abs(spectrum) * 2.0 / n\n",
    "\n",
    "\n",
    "    phase = angle(spectrum, deg=False)\n",
    "    # phase = imag(spectrum)\n",
    "\n",
    "    ## return the positive frequencies\n",
    "    return frequencies[0:n//2], magnitude[0:n//2], phase[0:n//2]"
   ]
  },
  {
   "cell_type": "code",
   "execution_count": 28,
   "id": "a9d19356-d8ce-4b59-9e4a-fe28a8726db0",
   "metadata": {
    "tags": []
   },
   "outputs": [],
   "source": [
    "def __welch_psd(arr, dt, twin_sec=60):\n",
    "\n",
    "    from scipy.signal import welch\n",
    "    from scipy.signal.windows import hann\n",
    "\n",
    "    nblock = int(1/dt * twin_sec)\n",
    "    overlap = int(0.5*nblock)\n",
    "    win = hann(nblock, True)\n",
    "\n",
    "    ff, Pxx = welch(arr,\n",
    "                    fs=1/dt,\n",
    "                    window=win, noverlap=overlap,\n",
    "                    nfft=nblock,\n",
    "                    scaling=\"spectrum\",\n",
    "                    return_onesided=True)\n",
    "\n",
    "    return ff, Pxx"
   ]
  },
  {
   "cell_type": "code",
   "execution_count": 122,
   "id": "ee6c13a3-fa9d-480b-b6f1-551a10816bc1",
   "metadata": {
    "tags": []
   },
   "outputs": [],
   "source": [
    "def __hilbert_frequency_estimator(st, nominal_sagnac, fband):\n",
    "\n",
    "    from scipy.signal import hilbert\n",
    "    import numpy as np\n",
    "\n",
    "    st0 = st.copy()\n",
    "\n",
    "    ## extract sampling rate\n",
    "    df = st0[0].stats.sampling_rate\n",
    "\n",
    "    ## define frequency band around Sagnac Frequency\n",
    "    f_lower = nominal_sagnac - fband\n",
    "    f_upper = nominal_sagnac + fband\n",
    "\n",
    "    ## bandpass with butterworth around Sagnac Frequency\n",
    "    # st0.detrend(\"linear\")\n",
    "    # st0.taper(0.01)\n",
    "    # st0.filter(\"bandpass\", freqmin=f_lower, freqmax=f_upper, corners=8, zerophase=True)\n",
    "\n",
    "\n",
    "    ## estimate instantaneous frequency with hilbert\n",
    "    signal = st0[0].data\n",
    "\n",
    "    analytic_signal = hilbert(signal)\n",
    "    amplitude_envelope = np.abs(analytic_signal)\n",
    "    instantaneous_phase = np.unwrap(np.angle(analytic_signal))\n",
    "    instantaneous_frequency = (np.diff(instantaneous_phase) / (2.0*np.pi) * df)\n",
    "\n",
    "    ## cut first and last 5% (corrupted data)\n",
    "    dd = int(0.05*len(instantaneous_frequency))\n",
    "    insta_f_cut = instantaneous_frequency[dd:-dd]\n",
    "\n",
    "    ## get times\n",
    "    t = st0[0].times()\n",
    "    t_center = t[int((len(t))/2)]\n",
    "\n",
    "    ## averaging of frequencies\n",
    "    insta_f_cut_mean = np.mean(insta_f_cut)\n",
    "    # insta_f_cut_mean = np.median(insta_f_cut)\n",
    "\n",
    "    return t_center, insta_f_cut_mean"
   ]
  },
  {
   "cell_type": "code",
   "execution_count": 38,
   "id": "228dc7fa-5d74-4cef-8944-ab69023e3b7e",
   "metadata": {
    "tags": []
   },
   "outputs": [],
   "source": [
    "def __zero_crossing_frequency_estimator(st0, df):\n",
    "\n",
    "    \"\"\"\n",
    "    Estimate frequency by counting zero crossings\n",
    "\n",
    "    Pros: Fast, accurate (increasing with data length).  Works well for long low-noise sines, square, triangle, etc.\n",
    "    Cons: Doesn't work if there are multiple zero crossings per cycle, low-frequency baseline shift, noise, etc.\n",
    "\n",
    "    \"\"\"\n",
    "\n",
    "    from numpy import average, diff, where, sign, mean, median, ones, nan\n",
    "\n",
    "    sig = st0[0].data\n",
    "\n",
    "    ## remove mean of data\n",
    "    sig -= mean(sig)\n",
    "\n",
    "    ## get number samples of set\n",
    "    Nsamples = sig.size\n",
    "\n",
    "    ## divide input set into 10 subsets\n",
    "    dN = int(Nsamples/10)\n",
    "\n",
    "    over = int(dN*1.0)\n",
    "\n",
    "    ## prepare array\n",
    "    _crossings = ones(int(Nsamples/over))*nan\n",
    "\n",
    "    m1, m2 = 0, dN\n",
    "    for _i in range(int(Nsamples/over)):\n",
    "        ## find amount of polarity / sign changes in data subset\n",
    "        _crossings[_i] = where(diff(sign(sig)))[0].size\n",
    "\n",
    "        m1, m2 = m1+over, m2+over\n",
    "\n",
    "    ## compute instantaneous frequency from crossings using mean of found crossings\n",
    "    f = median(_crossings)*df/Nsamples/2\n",
    "\n",
    "    ## get center time\n",
    "    t = st0[0].times()\n",
    "    t_center = t[int((len(t))/2)]\n",
    "\n",
    "    return t_center, f"
   ]
  },
  {
   "cell_type": "code",
   "execution_count": 39,
   "id": "dd989a13-ab24-4461-ac88-8ec8dba85e63",
   "metadata": {
    "tags": []
   },
   "outputs": [],
   "source": [
    "def __zero_crossing_differences_frequency_estimator(st0, df):\n",
    "\n",
    "    \"\"\"\n",
    "    Estimate frequency by counting zero crossings\n",
    "\n",
    "    Pros: Fast, accurate (increasing with data length).  Works well for long low-noise sines, square, triangle, etc.\n",
    "    Cons: Doesn't work if there are multiple zero crossings per cycle, low-frequency baseline shift, noise, etc.\n",
    "\n",
    "    \"\"\"\n",
    "\n",
    "    from numpy import average, diff, where, sign, mean, median, ones, nan\n",
    "\n",
    "    sig = st0[0].data\n",
    "\n",
    "    ## remove mean of data\n",
    "    sig -= mean(sig)\n",
    "\n",
    "    ## get number samples of set\n",
    "    Nsamples = sig.size\n",
    "\n",
    "    ## divide input set into 10 subsets\n",
    "    dN = int(Nsamples/10)\n",
    "\n",
    "    ## prepare array\n",
    "    _freqs = ones(int(Nsamples/dN))*nan\n",
    "\n",
    "    m1, m2 = 0, dN\n",
    "    for _i in range(int(Nsamples/dN)):\n",
    "        ## find amount of polarity / sign changes in data subset\n",
    "        _freqs[_i] = median(df/diff(where(diff(sign(sig)))[0])/2)\n",
    "\n",
    "        m1, m2 = m1+dN, m2+dN\n",
    "\n",
    "    ## compute instantaneous frequency from crossings using mean of found crossings\n",
    "    f = median(_freqs)\n",
    "\n",
    "    ## get center time\n",
    "    t = st0[0].times()\n",
    "    t_center = t[int((len(t))/2)]\n",
    "\n",
    "    return t_center, f"
   ]
  },
  {
   "cell_type": "markdown",
   "id": "12ef7747-2cb6-4561-bfe3-ccd226aae9dc",
   "metadata": {
    "tags": []
   },
   "source": [
    "## Configurations"
   ]
  },
  {
   "cell_type": "code",
   "execution_count": 142,
   "id": "c8f2d46f-bb36-4bc8-8487-0752cf80dfbf",
   "metadata": {
    "tags": []
   },
   "outputs": [],
   "source": [
    "tbeg, tend = sagn[0].stats.starttime, sagn[0].stats.endtime\n",
    "\n",
    "interval = 5 ## seconds\n",
    "\n",
    "over = 0.2\n",
    "\n",
    "fs0 = 303.05\n",
    "\n",
    "fband = 30 ## +- df (Hz)\n",
    "\n",
    "method = \"fft\" ## welch | multitaper | fft\n",
    "\n",
    "times = __get_time_intervals(tbeg, tend, interval_seconds=interval, interval_overlap=0)"
   ]
  },
  {
   "cell_type": "markdown",
   "id": "9581fc95-968a-4086-8fe2-c0773b640bf4",
   "metadata": {},
   "source": [
    "## Computing"
   ]
  },
  {
   "cell_type": "code",
   "execution_count": 143,
   "id": "303f6ca7-a770-470a-864a-6099b593448b",
   "metadata": {
    "tags": []
   },
   "outputs": [
    {
     "name": "stdout",
     "output_type": "stream",
     "text": [
      "0 ...\n"
     ]
    }
   ],
   "source": [
    "fs1, fs2 = np.ones(len(times))*np.nan, np.ones(len(times))*np.nan\n",
    "trelative = np.ones(len(times))*np.nan\n",
    "\n",
    "\n",
    "out_df = DataFrame()\n",
    "out_df['time1'] = list(zip(*times))[0]\n",
    "out_df['time2'] = list(zip(*times))[1]\n",
    "\n",
    "trel = 0\n",
    "for _k, _st in enumerate([sagn]):\n",
    "\n",
    "    print(_k, \"...\")\n",
    "\n",
    "    for _n, (t1, t2) in enumerate(times):\n",
    "\n",
    "        _dat = _st.copy().trim(t1-over, t2+over)\n",
    "        _dat.detrend(\"demean\")\n",
    "        _dat.taper(0.01)\n",
    "        _dat.filter(\"bandpass\", freqmin=fs0-fband, freqmax=fs0+fband, corners=4, zerophase=True)\n",
    "\n",
    "        _t, fs1[_n] = __hilbert_frequency_estimator(_dat, nominal_sagnac=fs0, fband=fband)\n",
    "\n",
    "        _, fs2[_n] = __zero_crossing_frequency_estimator(_dat, _dat[0].stats.sampling_rate)\n",
    "\n",
    "        # _, fs2[_n] = __zero_crossing_differences_frequency_estimator(_dat, _dat[0].stats.sampling_rate)\n",
    "\n",
    "        trel += _t\n",
    "        trelative[_n] = trel\n",
    "\n",
    "out_df['fs1'] = fs1\n",
    "out_df['fs2'] = fs2\n",
    "out_df['trelative'] = trelative\n",
    "\n",
    "\n",
    "\n",
    "# ## store data\n",
    "# date_str = f\"{config['tbeg'].year}{str(config['tbeg'].month).rjust(2,'0')}{str(config['tbeg'].day).rjust(2,'0')}\"\n",
    "# out_df.to_pickle(config['path_to_data']+f\"{date_str}_{method}.pkl\")\n",
    "# print(f\" -> writing: {config['path_to_data']}{date_str}_{method}.pkl\")"
   ]
  },
  {
   "cell_type": "code",
   "execution_count": 145,
   "id": "2b5f0874-4000-4eb6-9ec1-bb8d2a3f05ba",
   "metadata": {},
   "outputs": [
    {
     "data": {
      "image/png": "[encoded data removed]",
      "text/plain": [
       "<Figure size 1500x500 with 1 Axes>"
      ]
     },
     "metadata": {},
     "output_type": "display_data"
    }
   ],
   "source": [
    "plt.figure(figsize=(15,5))\n",
    "\n",
    "plt.plot(out_df.fs1, label=\"hilbert\")\n",
    "plt.plot(out_df.fs2, label=\"zero crossing\")\n",
    "plt.xlabel(\"Time (s)\")\n",
    "plt.ylabel(\"$\\delta$f (Hz)\")\n",
    "plt.legend()\n",
    "plt.title(f\"T={interval} seconds | overlap={over} seconds\")\n",
    "plt.show();"
   ]
  },
  {
   "cell_type": "code",
   "execution_count": null,
   "id": "9bc589e9-0379-45a3-94d0-17c1a9271b67",
   "metadata": {
    "tags": []
   },
   "outputs": [],
   "source": []
  },
  {
   "cell_type": "markdown",
   "id": "46fa84a0-0eaa-409d-ba0f-7991972b202e",
   "metadata": {},
   "source": [
    "## Decomposition TEST"
   ]
  },
  {
   "cell_type": "code",
   "execution_count": null,
   "id": "d6c42f56-ede8-4f50-bea1-e34bffd5311f",
   "metadata": {},
   "outputs": [],
   "source": [
    "import statsmodels.api as sm\n",
    "\n",
    "decomposition = sm.tsa.seasonal_decompose(bromy_tilt, period=60, model='additive')\n",
    "\n",
    "fig = decomposition.plot()\n",
    "plt.show()"
   ]
  },
  {
   "cell_type": "markdown",
   "id": "ea67cf82-4864-402d-8adc-abb0fa132f93",
   "metadata": {},
   "source": [
    "## EMD TEST "
   ]
  },
  {
   "cell_type": "code",
   "execution_count": 1,
   "id": "258b1e7a-b1a6-497c-813c-9bc63a8b163d",
   "metadata": {},
   "outputs": [],
   "source": [
    "import emd"
   ]
  },
  {
   "cell_type": "code",
   "execution_count": 2,
   "id": "ce4657e8-5a04-4197-9d61-30973d6a9012",
   "metadata": {
    "tags": []
   },
   "outputs": [
    {
     "ename": "NameError",
     "evalue": "name 'read' is not defined",
     "output_type": "error",
     "traceback": [
      "\u001b[0;31m---------------------------------------------------------------------------\u001b[0m",
      "\u001b[0;31mNameError\u001b[0m                                 Traceback (most recent call last)",
      "Cell \u001b[0;32mIn[2], line 1\u001b[0m\n\u001b[0;32m----> 1\u001b[0m raw \u001b[38;5;241m=\u001b[39m \u001b[43mread\u001b[49m(\u001b[38;5;124m\"\u001b[39m\u001b[38;5;124m/home/andbro/Downloads/mseed/30min/DROMY_FJU_2023-09-19.mseed\u001b[39m\u001b[38;5;124m\"\u001b[39m)\n",
      "\u001b[0;31mNameError\u001b[0m: name 'read' is not defined"
     ]
    }
   ],
   "source": [
    "raw = read(\"/home/andbro/Downloads/mseed/30min/DROMY_FJU_2023-09-19.mseed\")"
   ]
  },
  {
   "cell_type": "code",
   "execution_count": null,
   "id": "c0ee14ab-b06c-410b-96e2-03e919cc995b",
   "metadata": {},
   "outputs": [],
   "source": [
    "data = raw[0].data[:5000*180]\n",
    "# data = np.array(bs.w_s)"
   ]
  },
  {
   "cell_type": "code",
   "execution_count": null,
   "id": "1dc302dc-da4c-4c4e-8151-561b70ece911",
   "metadata": {},
   "outputs": [],
   "source": [
    "imf = emd.sift.sift(data)\n",
    "\n",
    "IP, IF, IA = emd.spectra.frequency_transform(imf, 5000, 'hilbert')\n"
   ]
  },
  {
   "cell_type": "code",
   "execution_count": null,
   "id": "fb24302b-c7de-4839-8539-c4beed6e0576",
   "metadata": {},
   "outputs": [],
   "source": [
    "N = IF.shape[1]\n",
    "\n",
    "fig, ax = plt.subplots(N, 1, figsize=(15, 8), sharex=True)\n",
    "\n",
    "for i in range(N):\n",
    "    # ax[i].plot(np.unwrap(IP[:, i]))\n",
    "    ax[i].plot(IF[:, i])"
   ]
  },
  {
   "cell_type": "code",
   "execution_count": null,
   "id": "2bd691af-a91e-4bfe-9e02-36c044d8d375",
   "metadata": {},
   "outputs": [],
   "source": [
    "freq_edges, freq_centres = emd.spectra.define_hist_bins(1, 2500, 1000, 'log')\n",
    "\n",
    "f, spec_weighted = emd.spectra.hilberthuang(IF, IA, freq_edges, sum_imfs=False)\n",
    "\n",
    "f, spec_unweighted = emd.spectra.hilberthuang(IF, np.ones_like(IA), freq_edges, sum_imfs=False)"
   ]
  },
  {
   "cell_type": "code",
   "execution_count": null,
   "id": "362358c3-bf05-48fd-b78a-0aec0785bbaf",
   "metadata": {},
   "outputs": [],
   "source": [
    "plt.figure(figsize=(10, 4))\n",
    "plt.subplots_adjust(hspace=0.4)\n",
    "plt.subplot(121)\n",
    "plt.plot(freq_centres, spec_unweighted)\n",
    "# plt.xticks(np.arange(10)*10)\n",
    "plt.xlim(0, 500)\n",
    "plt.xlabel('Frequency (Hz)')\n",
    "plt.ylabel('Count')\n",
    "plt.title('unweighted\\nHilbert-Huang Transform')\n",
    "\n",
    "plt.subplot(122)\n",
    "plt.plot(freq_centres, spec_weighted)\n",
    "# plt.xticks(np.arange(10)*10)\n",
    "plt.xlim(0, 500)\n",
    "plt.xlabel('Frequency (Hz)')\n",
    "plt.ylabel('Power')\n",
    "plt.title('IA-weighted\\nHilbert-Huang Transform')\n",
    "plt.legend(['IMF-1', 'IMF-2', 'IMF-3', 'IMF-4', 'IMF-5'], frameon=False)"
   ]
  },
  {
   "cell_type": "code",
   "execution_count": null,
   "id": "753f2747-d52b-4bcc-b10a-6608b823aa55",
   "metadata": {},
   "outputs": [],
   "source": [
    "plt.plot(IF[:, 0])\n",
    "plt.ylim(200, 400)\n",
    "\n",
    "np.mean(IF[:, 0])"
   ]
  }
 ],
 "metadata": {
  "kernelspec": {
   "display_name": "Python 3 (ipykernel)",
   "language": "python",
   "name": "python3"
  },
  "language_info": {
   "codemirror_mode": {
    "name": "ipython",
    "version": 3
   },
   "file_extension": ".py",
   "mimetype": "text/x-python",
   "name": "python",
   "nbconvert_exporter": "python",
   "pygments_lexer": "ipython3",
   "version": "3.10.12"
  },
  "latex_envs": {
   "LaTeX_envs_menu_present": true,
   "autoclose": false,
   "autocomplete": true,
   "bibliofile": "biblio.bib",
   "cite_by": "apalike",
   "current_citInitial": 1,
   "eqLabelWithNumbers": true,
   "eqNumInitial": 1,
   "hotkeys": {
    "equation": "Ctrl-E",
    "itemize": "Ctrl-I"
   },
   "labels_anchors": false,
   "latex_user_defs": false,
   "report_style_numbering": false,
   "user_envs_cfg": false
  },
  "toc": {
   "base_numbering": 1,
   "nav_menu": {},
   "number_sections": true,
   "sideBar": true,
   "skip_h1_title": false,
   "title_cell": "Table of Contents",
   "title_sidebar": "Contents",
   "toc_cell": false,
   "toc_position": {},
   "toc_section_display": true,
   "toc_window_display": false
  },
  "varInspector": {
   "cols": {
    "lenName": 16,
    "lenType": 16,
    "lenVar": 40
   },
   "kernels_config": {
    "python": {
     "delete_cmd_postfix": "",
     "delete_cmd_prefix": "del ",
     "library": "var_list.py",
     "varRefreshCmd": "print(var_dic_list())"
    },
    "r": {
     "delete_cmd_postfix": ") ",
     "delete_cmd_prefix": "rm(",
     "library": "var_list.r",
     "varRefreshCmd": "cat(var_dic_list()) "
    }
   },
   "types_to_exclude": [
    "module",
    "function",
    "builtin_function_or_method",
    "instance",
    "_Feature"
   ],
   "window_display": false
  }
 },
 "nbformat": 4,
 "nbformat_minor": 5
}
