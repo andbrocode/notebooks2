{
 "cells": [
  {
   "cell_type": "markdown",
   "metadata": {
    "ExecuteTime": {
     "end_time": "2023-01-24T17:39:08.177978Z",
     "start_time": "2023-01-24T17:39:08.174409Z"
    }
   },
   "source": [
    "## Make Allan Deviation Plot"
   ]
  },
  {
   "cell_type": "code",
   "execution_count": 1,
   "metadata": {
    "ExecuteTime": {
     "end_time": "2023-08-01T11:53:09.607032Z",
     "start_time": "2023-08-01T11:53:08.671283Z"
    },
    "tags": []
   },
   "outputs": [],
   "source": [
    "import os\n",
    "import obspy as obs\n",
    "import matplotlib.pyplot as plt\n",
    "import numpy as np\n",
    "import allantools\n",
    "\n",
    "from andbro__querrySeismoData import __querrySeismoData\n",
    "from andbro__read_sds import __read_sds"
   ]
  },
  {
   "cell_type": "code",
   "execution_count": 2,
   "metadata": {
    "ExecuteTime": {
     "end_time": "2023-08-01T11:53:11.123983Z",
     "start_time": "2023-08-01T11:53:11.118454Z"
    },
    "tags": []
   },
   "outputs": [],
   "source": [
    "if os.uname().nodename == 'lighthouse':\n",
    "    root_path = '/home/andbro/'\n",
    "    data_path = '/home/andbro/kilauea-data/'\n",
    "    archive_path = '/home/andbro/freenas/'\n",
    "elif os.uname().nodename == 'kilauea':\n",
    "    root_path = '/home/brotzer/'\n",
    "    data_path = '/import/kilauea-data/'\n",
    "    archive_path = '/import/freenas-ffb-01-data/'"
   ]
  },
  {
   "cell_type": "markdown",
   "metadata": {},
   "source": [
    "## Configurations"
   ]
  },
  {
   "cell_type": "code",
   "execution_count": 3,
   "metadata": {
    "ExecuteTime": {
     "end_time": "2023-08-01T11:53:12.012756Z",
     "start_time": "2023-08-01T11:53:12.001974Z"
    },
    "tags": []
   },
   "outputs": [],
   "source": [
    "## Configurations\n",
    "\n",
    "config = {}\n",
    "\n",
    "config['tbeg'] = obs.UTCDateTime(\"2023-09-19 09:00\")\n",
    "config['tend'] = obs.UTCDateTime(\"2023-09-19 10:00\")\n",
    "\n",
    "config['seed'] = \"BW.ROMY.10.BJZ\"\n",
    "\n",
    "config['repository'] = \"archive\"\n",
    "\n",
    "config['output_figures'] = data_path+\"\"\n",
    "\n",
    "config['net'], config['sta'], config['loc'], config['cha'] = config['seed'].split(\".\")\n"
   ]
  },
  {
   "cell_type": "markdown",
   "metadata": {},
   "source": [
    "## Load Data"
   ]
  },
  {
   "cell_type": "markdown",
   "metadata": {
    "ExecuteTime": {
     "end_time": "2023-06-21T09:04:14.269030Z",
     "start_time": "2023-06-21T09:04:14.261866Z"
    }
   },
   "source": [
    "### import raw sagnac data"
   ]
  },
  {
   "cell_type": "code",
   "execution_count": 71,
   "metadata": {
    "ExecuteTime": {
     "start_time": "2023-08-01T11:51:59.613Z"
    },
    "tags": []
   },
   "outputs": [
    {
     "data": {
      "text/plain": [
       "1 Trace(s) in Stream:\n",
       "BW.DROMY..FJZ | 2023-09-19T09:00:00.000000Z - 2023-09-19T10:00:00.000000Z | 5000.0 Hz, 18000001 samples"
      ]
     },
     "execution_count": 71,
     "metadata": {},
     "output_type": "execute_result"
    }
   ],
   "source": [
    "if config['datatype'] == \"raw\":\n",
    "\n",
    "    st = __read_sds(archive_path+\"romy_archive\", \"BW.DROMY..FJZ\", config['tbeg'], config['tend'])\n",
    "\n",
    "    for tr in st:\n",
    "        tr.data = tr.data*0.59604645e-6 # V / count  [0.59604645ug  from obsidian]\n",
    "st"
   ]
  },
  {
   "cell_type": "code",
   "execution_count": 68,
   "metadata": {
    "tags": []
   },
   "outputs": [],
   "source": [
    "def __instantaneous_frequency(st0, df, f_expected):\n",
    "\n",
    "    from numpy import unwrap, diff, angle, pi, nanmean, sqrt, gradient\n",
    "    from scipy.signal import hilbert\n",
    "\n",
    "    ## prepare data\n",
    "    # st0 = st0.detrend(\"demean\")\n",
    "    # st0 = st0.taper(0.01)\n",
    "    # st0 = st0.filter(\"bandpass\", freqmin=f_expected-50, freqmax=f_expected+50, corners=8, zerophase=True)\n",
    "\n",
    "    # estimate instantaneous frequency\n",
    "    analytic_signal = hilbert(st[0].data)\n",
    "    amplitude_envelope = abs(analytic_signal)\n",
    "    instantaneous_phase = unwrap(angle(analytic_signal))\n",
    "    instantaneous_frequency = (diff(instantaneous_phase) / (2.0*pi) * df)\n",
    "\n",
    "#     x = st[0].data\n",
    "#     H = unwrap(angle(hilbert(x)))\n",
    "#     # dH = diff(H, prepend=H[0])\n",
    "#     # dx = diff(x, prepend=x[0])\n",
    "#     dH = gradient(H)\n",
    "#     dx = gradient(x)\n",
    "\n",
    "#     instantaneous_frequency = ( dH * x - dx * H ) / (2 * pi * sqrt( x**2 + H**2 ) )\n",
    "\n",
    "\n",
    "    print(instantaneous_frequency)\n",
    "\n",
    "\n",
    "    ## cut first and last 5% (corrupted)\n",
    "    dd = int(0.1*len(instantaneous_frequency))\n",
    "    insta_f_cut = instantaneous_frequency[dd:-dd]\n",
    "\n",
    "    ## time\n",
    "    t = st0[0].times()\n",
    "    t_mid = t[int((len(t))/2)]\n",
    "\n",
    "    ## average\n",
    "    # insta_f_cut_mean = nanmean(insta_f_cut)\n",
    "    insta_f_cut_mean = nanmean(insta_f_cut)\n",
    "\n",
    "    return t, insta_f_cut_mean"
   ]
  },
  {
   "cell_type": "code",
   "execution_count": 57,
   "metadata": {
    "tags": []
   },
   "outputs": [],
   "source": [
    "def __get_time_intervals(tbeg, tend, interval_seconds, interval_overlap):\n",
    "\n",
    "    from obspy import UTCDateTime\n",
    "\n",
    "    tbeg, tend = UTCDateTime(tbeg), UTCDateTime(tend)\n",
    "\n",
    "    times = []\n",
    "    t1, t2 = tbeg, tbeg + interval_seconds\n",
    "    while t2 <= tend:\n",
    "        times.append((t1, t2))\n",
    "        t1 = t1 + interval_seconds - interval_overlap\n",
    "        t2 = t2 + interval_seconds - interval_overlap\n",
    "\n",
    "    return times"
   ]
  },
  {
   "cell_type": "code",
   "execution_count": 69,
   "metadata": {
    "tags": []
   },
   "outputs": [],
   "source": [
    "interval_seconds = 600\n",
    "interval_overlap = 0\n",
    "\n",
    "t = np.arange(0, int(config['tend'] - config['tbeg']), interval_seconds)\n",
    "\n",
    "times = __get_time_intervals(config['tbeg'], config['tend'], interval_seconds, interval_overlap)"
   ]
  },
  {
   "cell_type": "code",
   "execution_count": 70,
   "metadata": {
    "tags": []
   },
   "outputs": [
    {
     "name": "stdout",
     "output_type": "stream",
     "text": [
      "[  -26.1679527    314.39446152   215.34538028 ... -1531.36489427\n",
      "    57.21231184   485.86366197]\n",
      "6.388550266803713e-05\n",
      "[  -26.1679527    314.39446152   215.34538028 ... -1531.36489427\n",
      "    57.21231184   485.86366197]\n",
      "6.388550266803713e-05\n",
      "[  -26.1679527    314.39446152   215.34538028 ... -1531.36489427\n",
      "    57.21231184   485.86366197]\n",
      "6.388550266803713e-05\n",
      "[  -26.1679527    314.39446152   215.34538028 ... -1531.36489427\n",
      "    57.21231184   485.86366197]\n",
      "6.388550266803713e-05\n",
      "[  -26.1679527    314.39446152   215.34538028 ... -1531.36489427\n",
      "    57.21231184   485.86366197]\n",
      "6.388550266803713e-05\n",
      "[  -26.1679527    314.39446152   215.34538028 ... -1531.36489427\n",
      "    57.21231184   485.86366197]\n",
      "6.388550266803713e-05\n"
     ]
    }
   ],
   "source": [
    "f_insta = []\n",
    "\n",
    "for t1, t2 in times:\n",
    "    _st = st.copy().trim(t1, t2, nearest_sample=False)\n",
    "\n",
    "    _t, _f = __instantaneous_frequency(_st, _st[0].stats.sampling_rate, 553.5)\n",
    "\n",
    "    print(_f)\n",
    "\n",
    "    f_insta.append(_f)"
   ]
  },
  {
   "cell_type": "code",
   "execution_count": null,
   "metadata": {
    "tags": []
   },
   "outputs": [],
   "source": [
    "plt.plot(f_insta)"
   ]
  },
  {
   "cell_type": "code",
   "execution_count": null,
   "metadata": {},
   "outputs": [],
   "source": []
  }
 ],
 "metadata": {
  "kernelspec": {
   "display_name": "Python 3 (ipykernel)",
   "language": "python",
   "name": "python3"
  },
  "language_info": {
   "codemirror_mode": {
    "name": "ipython",
    "version": 3
   },
   "file_extension": ".py",
   "mimetype": "text/x-python",
   "name": "python",
   "nbconvert_exporter": "python",
   "pygments_lexer": "ipython3",
   "version": "3.10.12"
  },
  "latex_envs": {
   "LaTeX_envs_menu_present": true,
   "autoclose": true,
   "autocomplete": true,
   "bibliofile": "biblio.bib",
   "cite_by": "apalike",
   "current_citInitial": 1,
   "eqLabelWithNumbers": true,
   "eqNumInitial": 1,
   "hotkeys": {
    "equation": "Ctrl-E",
    "itemize": "Ctrl-I"
   },
   "labels_anchors": false,
   "latex_user_defs": false,
   "report_style_numbering": false,
   "user_envs_cfg": false
  },
  "toc": {
   "base_numbering": 1,
   "nav_menu": {},
   "number_sections": true,
   "sideBar": true,
   "skip_h1_title": false,
   "title_cell": "Table of Contents",
   "title_sidebar": "Contents",
   "toc_cell": false,
   "toc_position": {},
   "toc_section_display": true,
   "toc_window_display": false
  },
  "varInspector": {
   "cols": {
    "lenName": 16,
    "lenType": 16,
    "lenVar": 40
   },
   "kernels_config": {
    "python": {
     "delete_cmd_postfix": "",
     "delete_cmd_prefix": "del ",
     "library": "var_list.py",
     "varRefreshCmd": "print(var_dic_list())"
    },
    "r": {
     "delete_cmd_postfix": ") ",
     "delete_cmd_prefix": "rm(",
     "library": "var_list.r",
     "varRefreshCmd": "cat(var_dic_list()) "
    }
   },
   "types_to_exclude": [
    "module",
    "function",
    "builtin_function_or_method",
    "instance",
    "_Feature"
   ],
   "window_display": false
  }
 },
 "nbformat": 4,
 "nbformat_minor": 4
}
