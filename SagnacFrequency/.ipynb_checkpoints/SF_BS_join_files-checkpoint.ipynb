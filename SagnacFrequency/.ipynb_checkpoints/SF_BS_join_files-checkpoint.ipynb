{
 "cells": [
  {
   "cell_type": "markdown",
   "id": "22f5c8c9",
   "metadata": {
    "ExecuteTime": {
     "end_time": "2022-10-28T13:00:52.763484Z",
     "start_time": "2022-10-28T13:00:52.761516Z"
    }
   },
   "source": [
    "## Sagnac Frequency - Backscatter Correction - Join Files"
   ]
  },
  {
   "cell_type": "markdown",
   "id": "1cd32aed",
   "metadata": {},
   "source": []
  },
  {
   "cell_type": "markdown",
   "id": "185b1a0b",
   "metadata": {},
   "source": [
    "## Imports"
   ]
  },
  {
   "cell_type": "code",
   "execution_count": 2,
   "id": "818caf4c",
   "metadata": {
    "ExecuteTime": {
     "end_time": "2023-06-27T08:11:10.277643Z",
     "start_time": "2023-06-27T08:11:08.781535Z"
    },
    "tags": []
   },
   "outputs": [],
   "source": [
    "import os\n",
    "import matplotlib.pyplot as plt\n",
    "import numpy as np\n",
    "import shutil\n",
    "\n",
    "from datetime import datetime, date\n",
    "from pandas import DataFrame, read_pickle, date_range, concat, read_csv\n",
    "from obspy import UTCDateTime, read, Trace, Stream\n",
    "from scipy.signal import hilbert\n",
    "\n",
    "from functions.get_fft import __get_fft\n",
    "from functions.multitaper_psd import __multitaper_psd\n",
    "from functions.welch_psd import __welch_psd\n",
    "from andbro__read_sds import __read_sds\n",
    "from andbro__readYaml import __readYaml"
   ]
  },
  {
   "cell_type": "code",
   "execution_count": 3,
   "id": "b83c9987",
   "metadata": {
    "ExecuteTime": {
     "end_time": "2023-06-27T08:11:10.288084Z",
     "start_time": "2023-06-27T08:11:10.284752Z"
    },
    "tags": []
   },
   "outputs": [],
   "source": [
    "if os.uname().nodename == 'lighthouse':\n",
    "    root_path = '/home/andbro/'\n",
    "    data_path = '/home/andbro/kilauea-data/'\n",
    "    archive_path = '/home/andbro/freenas/'\n",
    "elif os.uname().nodename == 'kilauea':\n",
    "    root_path = '/home/brotzer/'\n",
    "    data_path = '/import/kilauea-data/'\n",
    "    archive_path = '/import/freenas-ffb-01-data/'"
   ]
  },
  {
   "cell_type": "markdown",
   "id": "ec2578ab",
   "metadata": {},
   "source": [
    "## Configurations"
   ]
  },
  {
   "cell_type": "code",
   "execution_count": 4,
   "id": "ba83e3e7",
   "metadata": {
    "ExecuteTime": {
     "end_time": "2023-06-27T08:11:13.008382Z",
     "start_time": "2023-06-27T08:11:13.002517Z"
    },
    "tags": []
   },
   "outputs": [],
   "source": [
    "config = {}\n",
    "\n",
    "config['ring'] = \"U\"\n",
    "\n",
    "config['seed'] = \"BW.DROMY..FJU\"\n",
    "\n",
    "config['path_to_sds'] = archive_path+\"romy_archive/\"\n",
    "\n",
    "config['tbeg'] = UTCDateTime(\"2024-03-30 00:00\")\n",
    "config['tend'] = UTCDateTime(\"2024-04-02 00:00\")\n",
    "\n",
    "## path to Sagnac data\n",
    "config['path_to_autodata'] = archive_path+f\"romy_autodata/\"\n",
    "\n",
    "config['path_to_data'] = data_path+\"sagnac_frequency/data/backscatter/\"\n",
    "\n",
    "config['path_to_figs'] = data_path+\"sagnac_frequency/figures/\""
   ]
  },
  {
   "cell_type": "markdown",
   "id": "12ef7747-2cb6-4561-bfe3-ccd226aae9dc",
   "metadata": {
    "tags": []
   },
   "source": [
    "## Configurations"
   ]
  },
  {
   "cell_type": "code",
   "execution_count": 7,
   "id": "51931b63-c210-4304-a04d-9e27ee1a3bb5",
   "metadata": {
    "tags": []
   },
   "outputs": [],
   "source": [
    "def __load_backscatter_data0(tbeg, tend, ring, path_to_data):\n",
    "\n",
    "    from obspy import UTCDateTime\n",
    "    from datetime import date\n",
    "    from pandas import read_pickle, concat, DataFrame, date_range\n",
    "\n",
    "    t1 = date.fromisoformat(str(UTCDateTime(tbeg).date))\n",
    "    t2 = date.fromisoformat(str((UTCDateTime(tend)-86400).date))\n",
    "\n",
    "    df = DataFrame()\n",
    "    for dat in date_range(t1, t2):\n",
    "        print(dat)\n",
    "        dat_str = str(dat)[:10].replace(\"-\",\"\")\n",
    "        file = f\"FJ{ring}_{dat_str}_backscatter.pkl\"\n",
    "\n",
    "        if not os.path.isfile(path_to_data+file):\n",
    "            _path = data_path+\"sagnac_frequency/data/\"\n",
    "\n",
    "            out = DataFrame()\n",
    "            for m in range(24):\n",
    "                hour = str(m).rjust(2, '0')+\":00:00\"\n",
    "                filename = f\"FJU_{dat_str}_{hour}_backscatter.pkl\"\n",
    "                try:\n",
    "                    _df = read_pickle(_path+filename)\n",
    "                    out = concat([out, _df])\n",
    "                except:\n",
    "                    print(f\" -> failed: {_path}{filename}\")\n",
    "                    continue\n",
    "\n",
    "            if not out.empty:\n",
    "                print(f\" -> write to: {_path}backscatter/FJU_{dat_str}_backscatter.pkl\")\n",
    "                out.to_pickle(f\"{_path}backscatter/FJU_{dat_str}_backscatter.pkl\")\n",
    "\n",
    "                # move file to tmp files\n",
    "                # try:\n",
    "                #     shutil.move(_path+filename, _path+\"tmp_backscatter/\"+filename)\n",
    "                # except:\n",
    "                #     print(f\" -> failed to move file\")\n",
    "            else:\n",
    "                continue\n",
    "\n",
    "        try:\n",
    "            df0 = read_pickle(path_to_data+file)\n",
    "            df = concat([df, df0])\n",
    "        except:\n",
    "            print(f\"error for {file}\")\n",
    "\n",
    "\n",
    "    df.reset_index(inplace=True)\n",
    "\n",
    "    return df"
   ]
  },
  {
   "cell_type": "code",
   "execution_count": 8,
   "id": "5d8a5d06-0406-40f2-865b-93ad62f11e51",
   "metadata": {
    "tags": []
   },
   "outputs": [
    {
     "name": "stdout",
     "output_type": "stream",
     "text": [
      "2024-03-30 00:00:00\n",
      "2024-03-31 00:00:00\n",
      " -> write to: /import/kilauea-data/sagnac_frequency/data/backscatter/FJU_20240331_backscatter.pkl\n",
      "2024-04-01 00:00:00\n"
     ]
    }
   ],
   "source": [
    "bs = __load_backscatter_data0(config['tbeg'], config['tend'], config['ring'], config['path_to_data'])"
   ]
  },
  {
   "cell_type": "code",
   "execution_count": null,
   "id": "344bb6e2-a895-4b8f-aeb7-cddc57e2e175",
   "metadata": {
    "tags": []
   },
   "outputs": [],
   "source": []
  },
  {
   "cell_type": "code",
   "execution_count": null,
   "id": "343a6099-37a5-4fcc-9560-3948a36ce922",
   "metadata": {},
   "outputs": [],
   "source": []
  }
 ],
 "metadata": {
  "kernelspec": {
   "display_name": "Python 3 (ipykernel)",
   "language": "python",
   "name": "python3"
  },
  "language_info": {
   "codemirror_mode": {
    "name": "ipython",
    "version": 3
   },
   "file_extension": ".py",
   "mimetype": "text/x-python",
   "name": "python",
   "nbconvert_exporter": "python",
   "pygments_lexer": "ipython3",
   "version": "3.9.16"
  },
  "latex_envs": {
   "LaTeX_envs_menu_present": true,
   "autoclose": false,
   "autocomplete": true,
   "bibliofile": "biblio.bib",
   "cite_by": "apalike",
   "current_citInitial": 1,
   "eqLabelWithNumbers": true,
   "eqNumInitial": 1,
   "hotkeys": {
    "equation": "Ctrl-E",
    "itemize": "Ctrl-I"
   },
   "labels_anchors": false,
   "latex_user_defs": false,
   "report_style_numbering": false,
   "user_envs_cfg": false
  },
  "toc": {
   "base_numbering": 1,
   "nav_menu": {},
   "number_sections": true,
   "sideBar": true,
   "skip_h1_title": false,
   "title_cell": "Table of Contents",
   "title_sidebar": "Contents",
   "toc_cell": false,
   "toc_position": {},
   "toc_section_display": true,
   "toc_window_display": false
  },
  "varInspector": {
   "cols": {
    "lenName": 16,
    "lenType": 16,
    "lenVar": 40
   },
   "kernels_config": {
    "python": {
     "delete_cmd_postfix": "",
     "delete_cmd_prefix": "del ",
     "library": "var_list.py",
     "varRefreshCmd": "print(var_dic_list())"
    },
    "r": {
     "delete_cmd_postfix": ") ",
     "delete_cmd_prefix": "rm(",
     "library": "var_list.r",
     "varRefreshCmd": "cat(var_dic_list()) "
    }
   },
   "types_to_exclude": [
    "module",
    "function",
    "builtin_function_or_method",
    "instance",
    "_Feature"
   ],
   "window_display": false
  }
 },
 "nbformat": 4,
 "nbformat_minor": 5
}
