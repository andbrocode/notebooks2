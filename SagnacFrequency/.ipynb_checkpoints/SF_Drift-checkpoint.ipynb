{
 "cells": [
  {
   "cell_type": "markdown",
   "id": "22f5c8c9",
   "metadata": {
    "ExecuteTime": {
     "end_time": "2022-10-28T13:00:52.763484Z",
     "start_time": "2022-10-28T13:00:52.761516Z"
    }
   },
   "source": [
    "## Sagnac Frequency - Compare Drift of Rings"
   ]
  },
  {
   "cell_type": "markdown",
   "id": "1cd32aed",
   "metadata": {},
   "source": []
  },
  {
   "cell_type": "markdown",
   "id": "185b1a0b",
   "metadata": {},
   "source": [
    "## Imports"
   ]
  },
  {
   "cell_type": "code",
   "execution_count": null,
   "id": "818caf4c",
   "metadata": {
    "ExecuteTime": {
     "end_time": "2023-06-27T08:11:10.277643Z",
     "start_time": "2023-06-27T08:11:08.781535Z"
    },
    "tags": []
   },
   "outputs": [],
   "source": [
    "import os\n",
    "import gc\n",
    "import matplotlib.pyplot as plt\n",
    "import numpy as np\n",
    "\n",
    "from datetime import datetime, date\n",
    "from pandas import DataFrame, read_pickle, date_range, concat, read_csv\n",
    "from obspy import UTCDateTime, read, Trace, Stream, read_inventory\n",
    "from scipy.signal import hilbert\n"
   ]
  },
  {
   "cell_type": "code",
   "execution_count": null,
   "id": "b83c9987",
   "metadata": {
    "ExecuteTime": {
     "end_time": "2023-06-27T08:11:10.288084Z",
     "start_time": "2023-06-27T08:11:10.284752Z"
    },
    "tags": []
   },
   "outputs": [],
   "source": [
    "if os.uname().nodename == 'lighthouse':\n",
    "    root_path = '/home/andbro/'\n",
    "    data_path = '/home/andbro/kilauea-data/'\n",
    "    archive_path = '/home/andbro/freenas/'\n",
    "    bay_path = '/home/andbro/ontap-ffb-bay200/'\n",
    "    lamont_path = '/home/andbro/lamont/'\n",
    "elif os.uname().nodename == 'kilauea':\n",
    "    root_path = '/home/brotzer/'\n",
    "    data_path = '/import/kilauea-data/'\n",
    "    archive_path = '/import/freenas-ffb-01-data/'\n",
    "    bay_path = '/import/ontap-ffb-bay200/'\n",
    "    lamont_path = '/lamont/'\n",
    "elif os.uname().nodename in ['lin-ffb-01', 'ambrym', 'hochfelln']:\n",
    "    root_path = '/home/brotzer/'\n",
    "    data_path = '/import/kilauea-data/'\n",
    "    archive_path = '/import/freenas-ffb-01-data/'\n",
    "    bay_path = '/import/ontap-ffb-bay200/'\n",
    "    lamont_path = '/lamont/'"
   ]
  },
  {
   "cell_type": "code",
   "execution_count": null,
   "id": "d717e2fc-6173-4d85-b4bb-59ffd121dc93",
   "metadata": {
    "tags": []
   },
   "outputs": [],
   "source": [
    "# from functions.load_beat import __load_beat\n",
    "from functions.load_sagnac_beat_data import __load_sagnac_beat_data\n",
    "from functions.get_mlti_intervals import __get_mlti_intervals\n",
    "from functions.mlti_intervals_to_NaN import __mlti_intervals_to_NaN\n",
    "from functions.load_mlti import __load_mlti\n",
    "from functions.smoothing import __smooth\n",
    "from functions.interpolate_nan import __interpolate_nan"
   ]
  },
  {
   "cell_type": "markdown",
   "id": "ec2578ab",
   "metadata": {},
   "source": [
    "## Configurations"
   ]
  },
  {
   "cell_type": "code",
   "execution_count": null,
   "id": "ba83e3e7",
   "metadata": {
    "ExecuteTime": {
     "end_time": "2023-06-27T08:11:13.008382Z",
     "start_time": "2023-06-27T08:11:13.002517Z"
    },
    "tags": []
   },
   "outputs": [],
   "source": [
    "config = {}\n",
    "\n",
    "# case = 20\n",
    "# config['tbeg'] = UTCDateTime(\"2024-03-09 00:00\")\n",
    "# config['tend'] = UTCDateTime(\"2024-04-09 00:00\")\n",
    "# Zlower, Zupper = 553.542, 553.564\n",
    "# Ulower, Uupper = 302.40, 302.50\n",
    "# Vlower, Vupper = 447.725, 447.74\n",
    "\n",
    "# case = 21\n",
    "# config['tbeg'] = UTCDateTime(\"2023-12-01 00:00\")\n",
    "# config['tend'] = UTCDateTime(\"2023-12-31 00:00\")\n",
    "# Zlower, Zupper = 553.49, 553.51\n",
    "# Ulower, Uupper = 302.4, 302.52\n",
    "# Vlower, Vupper = 447.42, 447.46\n",
    "\n",
    "# case = 22\n",
    "# config['tbeg'] = UTCDateTime(\"2024-02-09 00:00\")\n",
    "# config['tend'] = UTCDateTime(\"2024-02-12 12:00\")\n",
    "# Zlower, Zupper = 553.555, 553.565\n",
    "# Ulower, Uupper = 302.40, 302.45\n",
    "# Vlower, Vupper = 447.745, 447.755\n",
    "\n",
    "# case = 23\n",
    "# config['tbeg'] = UTCDateTime(\"2024-01-01 00:00\")\n",
    "# config['tend'] = UTCDateTime(\"2024-02-20 00:00\")\n",
    "# Zlower, Zupper = 553.48, 553.58\n",
    "# Ulower, Uupper = 302.39, 302.475\n",
    "# Vlower, Vupper = 447.7, 447.80\n",
    "\n",
    "# case = 24\n",
    "# config['tbeg'] = UTCDateTime(\"2023-12-01 00:00\")\n",
    "# config['tend'] = UTCDateTime(\"2024-01-15 00:00\")\n",
    "# Zlower, Zupper = 553.49, 553.51\n",
    "# Ulower, Uupper = 302.4, 302.52\n",
    "# Vlower, Vupper = 447.42, 447.46\n",
    "\n",
    "case = 30 # longterm 2024\n",
    "config['tbeg'] = UTCDateTime(\"2024-01-23 00:00\")\n",
    "config['tend'] = UTCDateTime(\"2024-06-30 00:00\")\n",
    "Zlower, Zupper = 553.52, 553.58\n",
    "Ulower, Uupper = 302.4, 302.48\n",
    "Vlower, Vupper = 447.72, 447.78\n",
    "\n",
    "# case = 25 # water\n",
    "# config['tbeg'] = UTCDateTime(\"2024-05-29 00:00\")\n",
    "# config['tend'] = UTCDateTime(\"2024-06-05 00:00\")\n",
    "# Zlower, Zupper = 553.52, 553.58\n",
    "# Ulower, Uupper = 302.40, 302.47\n",
    "# Vlower, Vupper = 447.72, 447.78\n",
    "\n",
    "case = 26\n",
    "config['tbeg'] = UTCDateTime(\"2024-07-06 00:00\")\n",
    "config['tend'] = UTCDateTime(\"2024-07-17 00:00\")\n",
    "Zlower, Zupper = 553.52, 553.58\n",
    "Ulower, Uupper = 302.4, 302.48\n",
    "Vlower, Vupper = 447.72, 447.78\n",
    "\n",
    "config['delta'] = 60\n",
    "\n",
    "config['n_minutes'] = 12 * config['delta']\n",
    "\n",
    "config['path_to_sds'] = archive_path+\"romy_archive/\"\n",
    "\n",
    "# path to Sagnac Beat data\n",
    "config['path_to_autodata'] = archive_path+f\"romy_autodata/\"\n",
    "\n",
    "config['path_to_figs'] = data_path+\"sagnac_frequency/figures/\""
   ]
  },
  {
   "cell_type": "code",
   "execution_count": null,
   "id": "4159acaa-956d-44ad-bc94-e9a445ccb8a7",
   "metadata": {
    "tags": []
   },
   "outputs": [],
   "source": [
    "beatU = __load_sagnac_beat_data(config['tbeg'], config['tend'], \"U\", config['path_to_autodata'])\n",
    "beatZ = __load_sagnac_beat_data(config['tbeg'], config['tend'], \"Z\", config['path_to_autodata'])\n",
    "beatV = __load_sagnac_beat_data(config['tbeg'], config['tend'], \"V\", config['path_to_autodata'])"
   ]
  },
  {
   "cell_type": "code",
   "execution_count": null,
   "id": "535e8ca2-3e47-40c0-9ee3-d1923e8f89a5",
   "metadata": {
    "tags": []
   },
   "outputs": [],
   "source": [
    "# read_pickle(archive_path+\"romy_autodata/2024/RU/FJU_20240301.pkl\")"
   ]
  },
  {
   "cell_type": "code",
   "execution_count": null,
   "id": "c5d52437-cbe4-4782-a2e6-16aef6703083",
   "metadata": {
    "tags": []
   },
   "outputs": [],
   "source": [
    "def __makeplot0(beat1, beat2, beat3, key, limits=True):\n",
    "\n",
    "    Nrow, Ncol = 3, 1\n",
    "\n",
    "    font = 12\n",
    "\n",
    "    time_scaling = 1/86400\n",
    "\n",
    "    fig, ax = plt.subplots(Nrow, Ncol, figsize=(15, 8), sharex=True)\n",
    "\n",
    "    ax[0].plot(beat1.times_utc_sec*time_scaling, beat1[key])\n",
    "    # ax[0].set_ylim(553.49, 553.52)\n",
    "    ax[0].ticklabel_format(useOffset=False)\n",
    "\n",
    "    ax[1].plot(beat2.times_utc_sec*time_scaling, beat2[key])\n",
    "    # ax[1].set_ylim(302.4, 302.5)\n",
    "    ax[1].ticklabel_format(useOffset=False)\n",
    "\n",
    "    ax[2].plot(beat3.times_utc_sec*time_scaling, beat3[key])\n",
    "    # ax[2].set_ylim(447.4, 447.6)\n",
    "    ax[2].ticklabel_format(useOffset=False)\n",
    "\n",
    "    # ax[2].axhline(np.nanpercentile(beatV.fj, 99))\n",
    "    # ax[2].axhline(np.nanpercentile(beatV.fj, 1))\n",
    "\n",
    "    for _n in range(Nrow):\n",
    "        ax[_n].grid(ls=\":\", zorder=0)\n",
    "        ax[_n].legend(loc=1)\n",
    "\n",
    "    if limits:\n",
    "        ax[0].set_ylim(Zlower, Zupper)\n",
    "        ax[1].set_ylim(Ulower, Uupper)\n",
    "        ax[2].set_ylim(Vlower, Vupper)\n",
    "\n",
    "    plt.show();\n",
    "    return fig"
   ]
  },
  {
   "cell_type": "code",
   "execution_count": null,
   "id": "b628e134-d983-4bd5-a8d1-5e0796b37ecf",
   "metadata": {
    "tags": []
   },
   "outputs": [],
   "source": [
    "fig = __makeplot0(beatZ, beatU, beatV, \"fj\");"
   ]
  },
  {
   "cell_type": "markdown",
   "id": "1d4646a4-d375-41f3-9c1d-f5217db55081",
   "metadata": {},
   "source": [
    "## find jumps"
   ]
  },
  {
   "cell_type": "code",
   "execution_count": null,
   "id": "20fd4c68-ef78-4f24-ba03-25428309cfeb",
   "metadata": {
    "tags": []
   },
   "outputs": [],
   "source": [
    "from functions.get_phase_jumps_sta_lta import get_phase_jumps_sta_lta"
   ]
  },
  {
   "cell_type": "code",
   "execution_count": null,
   "id": "17e407d2-d1b5-4239-b09f-68b94bf660a7",
   "metadata": {
    "tags": []
   },
   "outputs": [],
   "source": [
    "from functions.correct_phase_jumps import __correct_phase_jumps"
   ]
  },
  {
   "cell_type": "code",
   "execution_count": null,
   "id": "fd5bcd2b-1e11-47b2-9cd8-5793af26fe5e",
   "metadata": {
    "tags": []
   },
   "outputs": [],
   "source": [
    "ratio, detect = get_phase_jumps_sta_lta(np.array(beatU.fj), np.array(beatU.times_utc_sec),\n",
    "                                        5, 3, amp_threshold=0.0001, plot=False)\n",
    "\n",
    "beatU['fj_dj'] = __correct_phase_jumps(beatU.fj, detect)\n",
    "\n",
    "ratio, detect = get_phase_jumps_sta_lta(np.array(beatV.fj), np.array(beatV.times_utc_sec),\n",
    "                                        5, 3, amp_threshold=0.0001, plot=False)\n",
    "\n",
    "beatV['fj_dj'] = __correct_phase_jumps(beatV.fj, detect)\n",
    "\n",
    "ratio, detect = get_phase_jumps_sta_lta(np.array(beatZ.fj), np.array(beatZ.times_utc_sec),\n",
    "                                        5, 3, amp_threshold=0.0001, plot=False)\n",
    "\n",
    "beatZ['fj_dj'] = __correct_phase_jumps(beatZ.fj, detect)\n"
   ]
  },
  {
   "cell_type": "code",
   "execution_count": null,
   "id": "36f3c92c-eb0d-49b2-94aa-90a30baed930",
   "metadata": {
    "tags": []
   },
   "outputs": [],
   "source": [
    "fig = __makeplot0(beatZ, beatU, beatV, \"fj_dj\", limits=False);"
   ]
  },
  {
   "cell_type": "markdown",
   "id": "a7e275d3-a082-4f03-9195-d385b9610adc",
   "metadata": {},
   "source": [
    "## Remove breakdown periods"
   ]
  },
  {
   "cell_type": "code",
   "execution_count": null,
   "id": "6474b743-84e8-4151-a528-338d0307bfb9",
   "metadata": {
    "tags": []
   },
   "outputs": [],
   "source": [
    "timesU = [(\"2023-12-04T09:10\", \"2023-12-04T18:02\"),\n",
    "          (\"2023-12-20T06:10\", \"2023-12-20T12:01\")]\n",
    "\n",
    "for t1, t2 in timesU:\n",
    "    beatU['fj'] = np.where((beatU.times_utc > t1) & (beatU.times_utc < t2), np.nan, beatU['fj'])\n",
    "\n",
    "# beatU['fj'] = np.nan_to_num(beatU['fj'], nan=np.nanmedian(beatU['fj']))"
   ]
  },
  {
   "cell_type": "code",
   "execution_count": null,
   "id": "143b539b-ee12-49ec-9b0a-91990abb9fc4",
   "metadata": {
    "tags": []
   },
   "outputs": [],
   "source": [
    "timesV = [(\"2024-01-01T04:00\", \"2024-01-01T22:51\"),\n",
    "          (\"2024-01-03T14:20\", \"2024-01-06T00:00\"),\n",
    "          (\"2023-12-19T09:40\", \"2023-12-19T15:21\")]\n",
    "\n",
    "for t1, t2 in timesV:\n",
    "    beatV['fj'] = np.where((beatV.times_utc > t1) & (beatV.times_utc < t2), np.nan, beatV['fj'])\n",
    "\n",
    "# beatV['fj'] = np.nan_to_num(beatV['fj'], nan=np.nanmedian(beatV['fj']))"
   ]
  },
  {
   "cell_type": "code",
   "execution_count": null,
   "id": "76d92fbf-24f0-46fd-92a5-1bf004c1f980",
   "metadata": {
    "tags": []
   },
   "outputs": [],
   "source": [
    "# plt.plot(beatZ[(beatZ.times_utc > \"2024-06-03 02:00\") & (beatZ.times_utc < \"2024-06-23 00:00\")].fj)"
   ]
  },
  {
   "cell_type": "code",
   "execution_count": null,
   "id": "fa6e6134-d24d-42fb-a5c6-4b08a453a707",
   "metadata": {
    "tags": []
   },
   "outputs": [],
   "source": [
    "timesZ = [(\"2023-12-07T00:10\", \"2023-12-08T18:05\"),\n",
    "          (\"2024-05-30T14:00\", \"2024-06-02T15:00\"),\n",
    "          (\"2024-06-03 02:00\", \"2024-06-23 00:00\"),]\n",
    "\n",
    "for t1, t2 in timesZ:\n",
    "    beatZ['fj'] = np.where((beatZ.times_utc > t1) & (beatZ.times_utc < t2), np.nan, beatZ['fj'])\n",
    "\n",
    "# beatZ['fj'] = np.nan_to_num(beatZ['fj'], nan=np.nanmedian(beatZ['fj']))"
   ]
  },
  {
   "cell_type": "markdown",
   "id": "c8ddaa22-8ec7-445c-8dab-bcdbf02d4c4d",
   "metadata": {},
   "source": [
    "### Exclude Outliers"
   ]
  },
  {
   "cell_type": "code",
   "execution_count": null,
   "id": "23cd9285-f024-4875-bbc5-d37e9bfc4242",
   "metadata": {
    "tags": []
   },
   "outputs": [],
   "source": [
    "beatZ['fj'] = np.where((beatZ.fj > Zupper), np.nan, beatZ.fj)\n",
    "beatZ['fj'] = np.where((beatZ.fj < Zlower), np.nan, beatZ.fj)\n",
    "\n",
    "beatU['fj'] = np.where((beatU.fj > Uupper), np.nan, beatU.fj)\n",
    "beatU['fj'] = np.where((beatU.fj < Ulower), np.nan, beatU.fj)\n",
    "\n",
    "beatV['fj'] = np.where((beatV.fj > Vupper), np.nan, beatV.fj)\n",
    "beatV['fj'] = np.where((beatV.fj < Vlower), np.nan, beatV.fj)"
   ]
  },
  {
   "cell_type": "code",
   "execution_count": null,
   "id": "72a5f21b-de0d-4abc-8be9-9f96ddf6e84a",
   "metadata": {
    "tags": []
   },
   "outputs": [],
   "source": [
    "fig = __makeplot0(beatZ, beatU, beatV, \"fj\");"
   ]
  },
  {
   "cell_type": "markdown",
   "id": "24dae667-8ac7-49e7-bc73-4c52138cebf4",
   "metadata": {},
   "source": [
    "## Load Maintenance LXX log"
   ]
  },
  {
   "cell_type": "code",
   "execution_count": null,
   "id": "f479dff8-7896-47bb-bb14-c9a33d3d65b0",
   "metadata": {
    "tags": []
   },
   "outputs": [],
   "source": [
    "from functions.load_lxx import __load_lxx\n",
    "from functions.get_lxx_intervals import __get_lxx_intervals\n",
    "\n",
    "# load LXX log data\n",
    "lxx =__load_lxx(config['tbeg'], config['tend'], archive_path)\n",
    "\n",
    "# extract time intervals\n",
    "lxx_t1, lxx_t2 = __get_lxx_intervals(lxx.datetime)\n"
   ]
  },
  {
   "cell_type": "markdown",
   "id": "87a89fa2-25f0-46a2-a18e-12aa8bc4b874",
   "metadata": {},
   "source": [
    "## Remove MLTI times"
   ]
  },
  {
   "cell_type": "code",
   "execution_count": null,
   "id": "a6f61324-9b7f-4343-a67d-754fb356d3c4",
   "metadata": {
    "tags": []
   },
   "outputs": [],
   "source": [
    "# load mlti launches\n",
    "mltiU = __load_mlti(config['tbeg'], config['tend'], \"U\", archive_path)\n",
    "# compute mlti sequences\n",
    "mltiU_t1, mltiU_t2 = __get_mlti_intervals(mltiU.time_utc)"
   ]
  },
  {
   "cell_type": "code",
   "execution_count": null,
   "id": "314fcb2a-47e7-4344-a9ec-71096c50fca6",
   "metadata": {
    "tags": []
   },
   "outputs": [],
   "source": [
    "# load mlti launches\n",
    "mltiZ = __load_mlti(config['tbeg'], config['tend'], \"Z\", archive_path)\n",
    "# compute mlti sequences\n",
    "mltiZ_t1, mltiZ_t2 = __get_mlti_intervals(mltiZ.time_utc)"
   ]
  },
  {
   "cell_type": "code",
   "execution_count": null,
   "id": "4ea9860e-647d-4822-890b-696d73db1f70",
   "metadata": {
    "tags": []
   },
   "outputs": [],
   "source": [
    "# load mlti launches\n",
    "mltiV = __load_mlti(config['tbeg'], config['tend'], \"V\", archive_path)\n",
    "# compute mlti sequences\n",
    "mltiV_t1, mltiV_t2 = __get_mlti_intervals(mltiV.time_utc)"
   ]
  },
  {
   "cell_type": "code",
   "execution_count": null,
   "id": "439ee425-654e-4a49-a3e1-aa2dffc99248",
   "metadata": {
    "tags": []
   },
   "outputs": [],
   "source": [
    "from functions.get_mlti_statistics import __get_mlti_statistics"
   ]
  },
  {
   "cell_type": "code",
   "execution_count": null,
   "id": "c9bd6c86-1224-4b04-bbdb-c5d333cc8ee2",
   "metadata": {
    "tags": []
   },
   "outputs": [],
   "source": [
    "def __get_mlti_statistics(mlti, starttime, endtime, plot=True, ylog=False):\n",
    "\n",
    "    import numpy as np\n",
    "    import matplotlib.pyplot as plt\n",
    "    from obspy import UTCDateTime\n",
    "\n",
    "    # convert to array with UTCDateTime objects\n",
    "    mlti_times = np.array([UTCDateTime(_t) for _t in mlti.time_utc])\n",
    "\n",
    "    # relative time in seconds\n",
    "    mlti_times_sec = np.array(mlti_times - starttime)\n",
    "\n",
    "    # timeline in seconds\n",
    "    times_sec = np.array(np.arange(0, UTCDateTime(endtime)-UTCDateTime(starttime), 1))\n",
    "\n",
    "    # start mlti array\n",
    "    _mlti = np.zeros(len(times_sec))\n",
    "\n",
    "    # switch 0 to 1 for each mlti time\n",
    "    _t0 = 0\n",
    "    for _m in mlti_times_sec:\n",
    "        for _j, _t in enumerate(times_sec):\n",
    "            if _t < _t0:\n",
    "                continue\n",
    "            if _t >= _m:\n",
    "                _mlti[_j] = 1\n",
    "                _t0 = _t\n",
    "                break\n",
    "\n",
    "    # sum it up\n",
    "    mlti_cumsum = np.cumsum(_mlti)\n",
    "\n",
    "    # to percent\n",
    "    mlti_cumsum = mlti_cumsum\n",
    "    mlti_cumsum_percent = mlti_cumsum / max(mlti_cumsum) * 100\n",
    "\n",
    "    # inter mlti times\n",
    "    mlti_times_sec_shift = np.roll(mlti_times_sec, 1)\n",
    "    mlti_times_sec_shift[0] = 0\n",
    "    mlti_inter_sec = mlti_times_sec - mlti_times_sec_shift\n",
    "\n",
    "    # plotting\n",
    "    if plot:\n",
    "        fig, ax = plt.subplots(1, 2, figsize=(15, 5))\n",
    "\n",
    "        ax[0].plot(times_sec/86400, mlti_cumsum_percent)\n",
    "        ax[1].hist(mlti_inter_sec/3600, bins=int(24/1), range=(0, 24), rwidth=0.8)\n",
    "\n",
    "        if ylog:\n",
    "            ax[1].set_yscale(\"log\")\n",
    "\n",
    "        ax[0].grid(color=\"grey\", ls=\"--\", alpha=0.4)\n",
    "        ax[1].grid(color=\"grey\", ls=\"--\", alpha=0.4)\n",
    "\n",
    "        ax[0].set_xlabel(\"Time (days)\", fontsize=12)\n",
    "        ax[0].set_ylabel(\"MLTI Count (%)\", fontsize=12)\n",
    "\n",
    "        ax[1].set_xlabel(\"Inter-MLTI-Time (hours)\", fontsize=12)\n",
    "        ax[1].set_ylabel(\"MLTI Count\", fontsize=12)\n",
    "\n",
    "        plt.show();\n",
    "\n",
    "    output = {\"cumsum\":mlti_cumsum,\n",
    "              \"cumsumsec\":mlti_cumsum*30,\n",
    "              \"cumsump\":mlti_cumsum_percent,\n",
    "              \"intersec\":mlti_inter_sec,\n",
    "              \"tsec\":times_sec,\n",
    "              \"mlti_series\":_mlti\n",
    "             }\n",
    "\n",
    "    return output"
   ]
  },
  {
   "cell_type": "code",
   "execution_count": null,
   "id": "930f2cc8-d98b-4290-8374-929929526a20",
   "metadata": {
    "tags": []
   },
   "outputs": [],
   "source": [
    "mltistats = {}\n",
    "\n",
    "set_intervals = True\n",
    "\n",
    "mltistats[\"U\"] = __get_mlti_statistics(mltiU, config['tbeg'], config['tend'], intervals=set_intervals, plot=False, ylog=False)\n",
    "\n",
    "mltistats[\"V\"] = __get_mlti_statistics(mltiV, config['tbeg'], config['tend'], intervals=set_intervals, plot=False, ylog=False)\n",
    "\n",
    "mltistats[\"Z\"] = __get_mlti_statistics(mltiZ, config['tbeg'], config['tend'], intervals=set_intervals, plot=False, ylog=False)"
   ]
  },
  {
   "cell_type": "code",
   "execution_count": null,
   "id": "45a6c856-63f3-4a40-90ed-3d1bc2d75c84",
   "metadata": {
    "tags": []
   },
   "outputs": [],
   "source": [
    "Nsec = config['n_minutes'] * 60\n",
    "\n",
    "mltistats[\"U\"][\"mlti_series_avg\"] = __smooth(mltistats[\"U\"][\"mlti_series\"], Nsec, win=\"hanning\")\n",
    "mltistats[\"V\"][\"mlti_series_avg\"] = __smooth(mltistats[\"V\"][\"mlti_series\"], Nsec, win=\"hanning\")\n",
    "mltistats[\"Z\"][\"mlti_series_avg\"] = __smooth(mltistats[\"Z\"][\"mlti_series\"], Nsec, win=\"hanning\")"
   ]
  },
  {
   "cell_type": "code",
   "execution_count": null,
   "id": "d15d3e5b-3007-481d-98b9-5b4be0c61781",
   "metadata": {
    "tags": []
   },
   "outputs": [],
   "source": [
    "# plt.plot(__smooth(data[\"Z\"][\"mlti_series\"], 8640))\n",
    "# plt.plot(__smooth(data[\"U\"][\"mlti_series\"], 8640))\n",
    "# plt.plot(__smooth(data[\"V\"][\"mlti_series\"], 8640))"
   ]
  },
  {
   "cell_type": "code",
   "execution_count": null,
   "id": "797ba262-052f-4113-a45d-c94a6a9c873f",
   "metadata": {
    "tags": []
   },
   "outputs": [],
   "source": [
    "def __makeplot_mlti_statistics(data, ylog=False, sec=False):\n",
    "\n",
    "    from matplotlib.ticker import (MultipleLocator, AutoMinorLocator)\n",
    "\n",
    "    tscale = 1/86400\n",
    "\n",
    "    fig, ax = plt.subplots(1, 2, figsize=(15, 5))\n",
    "\n",
    "    plt.subplots_adjust(wspace=0.15)\n",
    "\n",
    "    colors = {\"Z\":\"tab:blue\", \"U\":\"tab:green\", \"V\":\"tab:red\"}\n",
    "\n",
    "    s_max = []\n",
    "    for r in data.keys():\n",
    "        s_max.append(max(data[r][\"cumsumsec\"]))\n",
    "    s_max = max(s_max)\n",
    "\n",
    "    if s_max > 3600:\n",
    "        sscale, sunit = 1/60, \"min\"\n",
    "    elif s_max > 86400:\n",
    "        sscale, sunit = 1/3600, \"hour\"\n",
    "    else:\n",
    "        sscale, sunit = 1, \"s\"\n",
    "\n",
    "    offset = [-0.3, 0, 0.3]\n",
    "    for _i, r in enumerate(data.keys()):\n",
    "\n",
    "        n = data[r][\"cumsum\"][-1].astype(int)\n",
    "\n",
    "        if sec:\n",
    "            ax[0].plot(data[r][\"tsec\"]*tscale, data[r][\"cumsumsec\"]*sscale, label=f\"R{r} (N={n})\", color=colors[r], zorder=3)\n",
    "            ax[0].set_ylim(0, s_max*sscale)\n",
    "            ax[0].set_ylabel(f\"MLTI time ({sunit})\", fontsize=12)\n",
    "        else:\n",
    "            ax[0].plot(data[r][\"tsec\"]*tscale, data[r][\"cumsump\"], label=f\"R{r} (N={n})\", color=colors[r], zorder=3)\n",
    "            ax[0].set_ylim(0, 102)\n",
    "            ax[0].set_ylabel(\"MLTI Count (%)\", fontsize=12)\n",
    "\n",
    "        imax = round(max(data[r][\"intersec\"]/3600), 1)\n",
    "        h, b = np.histogram(data[r][\"intersec\"]/3600, bins=int(24/1), range=(0, 24))\n",
    "        bins = b[:-1] + b[1]/2 + offset[_i]\n",
    "        ax[1].bar(bins, h, width=0.3, color=colors[r], label=f\"R{r} (max={imax} hours)\")\n",
    "\n",
    "    if ylog:\n",
    "        ax[1].set_yscale(\"log\")\n",
    "\n",
    "    ax[0].set_xlim(0-0.5, max(data[r][\"tsec\"]*tscale)+0.5)\n",
    "    ax[1].set_xlim(0-0.2, 24+0.2)\n",
    "\n",
    "    ax[0].legend(loc=9)\n",
    "    ax[1].legend(loc=9)\n",
    "\n",
    "    ax[0].grid(color=\"grey\", ls=\"--\", alpha=0.4)\n",
    "    ax[1].grid(color=\"grey\", ls=\"--\", alpha=0.4)\n",
    "\n",
    "    ax[0].set_xlabel(f\"Time (days) from {config['tbeg'].date}\", fontsize=12)\n",
    "\n",
    "    ax[1].set_xlabel(\"Inter-MLTI-Time (hours)\", fontsize=12)\n",
    "    ax[1].set_ylabel(\"MLTI Count\", fontsize=12)\n",
    "\n",
    "    ax[0].xaxis.set_major_locator(MultipleLocator(2))\n",
    "    ax[0].xaxis.set_minor_locator(MultipleLocator(1))\n",
    "    ax[1].xaxis.set_major_locator(MultipleLocator(4))\n",
    "    ax[1].xaxis.set_minor_locator(MultipleLocator(1))\n",
    "\n",
    "    for _k, ll in enumerate(['(a)', '(b)']):\n",
    "        ax[_k].text(.006, .97, ll, ha='left', va='top', transform=ax[_k].transAxes, fontsize=14)\n",
    "\n",
    "    # add maintenance times\n",
    "    for lx1, lx2 in zip(lxx_t1, lxx_t2):\n",
    "        lx1_sec = (lx1-UTCDateTime(config['tbeg']))*tscale\n",
    "        lx2_sec = (lx2-UTCDateTime(config['tbeg']))*tscale\n",
    "        ax[0].fill_betweenx([-10000, 10000], lx1_sec, lx2_sec, color=\"yellow\", alpha=0.7)\n",
    "\n",
    "\n",
    "    plt.show();\n",
    "    return fig\n",
    "\n",
    "\n",
    "fig = __makeplot_mlti_statistics(mltistats, ylog=True, sec=False)\n",
    "\n",
    "fig.savefig(config['path_to_figs']+f\"BeatDrift_Case{case}_mlti_statistics.png\", format=\"png\", dpi=150, bbox_inches='tight')\n",
    "\n",
    "\n",
    "fig = __makeplot_mlti_statistics(mltistats, ylog=True, sec=True)\n",
    "\n",
    "fig.savefig(config['path_to_figs']+f\"BeatDrift_Case{case}_mlti_statistics_secs.png\", format=\"png\", dpi=150, bbox_inches='tight')\n",
    "\n"
   ]
  },
  {
   "cell_type": "markdown",
   "id": "e5eeb52e-91a8-4d18-9583-c9dfd8112317",
   "metadata": {},
   "source": [
    "### Set MLTI intervals to NaN"
   ]
  },
  {
   "cell_type": "code",
   "execution_count": null,
   "id": "97ec6fec-017c-4f96-8313-973b69d1b0ae",
   "metadata": {
    "tags": []
   },
   "outputs": [],
   "source": [
    "beatU = __mlti_intervals_to_NaN(beatU, \"fj\", \"times_utc\", mltiU_t1, mltiU_t2, t_offset_sec=180)\n",
    "beatV = __mlti_intervals_to_NaN(beatV, \"fj\", \"times_utc\", mltiV_t1, mltiV_t2, t_offset_sec=180)\n",
    "beatZ = __mlti_intervals_to_NaN(beatZ, \"fj\", \"times_utc\", mltiZ_t1, mltiZ_t2, t_offset_sec=180)"
   ]
  },
  {
   "cell_type": "markdown",
   "id": "bf68b759-0f4e-4181-9c41-4947954f7c47",
   "metadata": {
    "tags": []
   },
   "source": [
    "## Interpolate NaN values"
   ]
  },
  {
   "cell_type": "code",
   "execution_count": null,
   "id": "fb67163f-c6d0-4a85-9889-55b687c789c9",
   "metadata": {
    "tags": []
   },
   "outputs": [],
   "source": [
    "beatU['fj_inter'] = __interpolate_nan(np.array(beatU.fj_nan))\n",
    "beatV['fj_inter'] = __interpolate_nan(np.array(beatV.fj_nan))\n",
    "beatZ['fj_inter'] = __interpolate_nan(np.array(beatZ.fj_nan))"
   ]
  },
  {
   "cell_type": "markdown",
   "id": "fad23456-3357-4da8-9d0c-c1805c551a37",
   "metadata": {},
   "source": [
    "## Smoothing"
   ]
  },
  {
   "cell_type": "code",
   "execution_count": null,
   "id": "00d4d273-a04e-4d82-b0d1-f3d45a5bd34c",
   "metadata": {
    "tags": []
   },
   "outputs": [],
   "source": [
    "\n",
    "\n",
    "beatU['fj_smooth'] = __smooth(beatU.fj_inter, config['n_minutes'])\n",
    "beatV['fj_smooth'] = __smooth(beatV.fj_inter, config['n_minutes'])\n",
    "beatZ['fj_smooth'] = __smooth(beatZ.fj_inter, config['n_minutes'])\n",
    "\n",
    "beatU['fj_dj_smooth'] = __smooth(beatU.fj_dj, config['n_minutes'])\n",
    "beatV['fj_dj_smooth'] = __smooth(beatV.fj_dj, config['n_minutes'])\n",
    "beatZ['fj_dj_smooth'] = __smooth(beatZ.fj_dj, config['n_minutes'])\n",
    "\n",
    "# from scipy.ndimage import median_filter\n",
    "\n",
    "# n_minutes = 6 * config['delta']\n",
    "\n",
    "# beatU['fj_smooth'] = median_filter(beatU.fj_inter, n_minutes)\n",
    "# beatV['fj_smooth'] = median_filter(beatV.fj_inter, n_minutes)\n",
    "# beatZ['fj_smooth'] = median_filter(beatZ.fj_inter, n_minutes)\n",
    "\n",
    "# beatU['fj_dj_smooth'] = median_filter(beatU.fj_dj, n_minutes)\n",
    "# beatV['fj_dj_smooth'] = median_filter(beatV.fj_dj, n_minutes)\n",
    "# beatZ['fj_dj_smooth'] = median_filter(beatZ.fj_dj, n_minutes)\n",
    "\n",
    "# from scipy.ndimage import gaussian_filter1d\n",
    "\n",
    "# n = 180\n",
    "\n",
    "# beatU['fj_smooth'] = gaussian_filter1d(beatU.fj_inter, n)\n",
    "# beatV['fj_smooth'] = gaussian_filter1d(beatV.fj_inter, n)\n",
    "# beatZ['fj_smooth'] = gaussian_filter1d(beatZ.fj_inter, n)\n",
    "\n",
    "# beatU['fj_dj_smooth'] = gaussian_filter1d(beatU.fj_dj, n)\n",
    "# beatV['fj_dj_smooth'] = gaussian_filter1d(beatV.fj_dj, n)\n",
    "# beatZ['fj_dj_smooth'] = gaussian_filter1d(beatZ.fj_dj, n)"
   ]
  },
  {
   "cell_type": "markdown",
   "id": "e1dfe0a6-2138-4849-b9cc-f54a9e4e1fe5",
   "metadata": {},
   "source": [
    "## Masks"
   ]
  },
  {
   "cell_type": "code",
   "execution_count": null,
   "id": "76ddd9f7-4f85-420d-b2d1-191cf78bdec6",
   "metadata": {
    "tags": []
   },
   "outputs": [],
   "source": [
    "maskU = np.where(np.isnan(beatU.fj_nan), np.nan, 1)\n",
    "maskV = np.where(np.isnan(beatV.fj_nan), np.nan, 1)\n",
    "maskZ = np.where(np.isnan(beatZ.fj_nan), np.nan, 1)"
   ]
  },
  {
   "cell_type": "code",
   "execution_count": null,
   "id": "e376eddf-4c25-4dd0-a415-7e79918c4cc8",
   "metadata": {
    "tags": []
   },
   "outputs": [],
   "source": [
    "beatU['fj_smooth_masked'] = beatU['fj_smooth'] * maskU\n",
    "beatV['fj_smooth_masked'] = beatV['fj_smooth'] * maskV\n",
    "beatZ['fj_smooth_masked'] = beatZ['fj_smooth'] * maskZ\n",
    "\n",
    "beatU['fj_dj_smooth_masked'] = beatU['fj_dj_smooth'] * maskU\n",
    "beatV['fj_dj_smooth_masked'] = beatV['fj_dj_smooth'] * maskV\n",
    "beatZ['fj_dj_smooth_masked'] = beatZ['fj_dj_smooth'] * maskZ"
   ]
  },
  {
   "cell_type": "markdown",
   "id": "f89ea86f-24bf-4848-bb6d-464e963dbf70",
   "metadata": {
    "tags": []
   },
   "source": [
    "## Plotting"
   ]
  },
  {
   "cell_type": "code",
   "execution_count": null,
   "id": "f16e7cd8-2d3f-4934-95f8-e681568710bb",
   "metadata": {
    "tags": []
   },
   "outputs": [],
   "source": [
    "# Zlower, Zupper = 553.50, 553.60\n",
    "# Ulower, Uupper = 302.39, 302.49\n",
    "# Vlower, Vupper = 447.70, 447.80"
   ]
  },
  {
   "cell_type": "code",
   "execution_count": null,
   "id": "cd8bfc16-7f26-4b61-9d93-23617741030e",
   "metadata": {
    "tags": []
   },
   "outputs": [],
   "source": [
    "def __makeplot():\n",
    "\n",
    "    Nrow, Ncol = 3, 1\n",
    "\n",
    "    font = 12\n",
    "\n",
    "    ref_date = UTCDateTime(str(beatV.times_utc.iloc[0])[:10])\n",
    "\n",
    "    fig, ax = plt.subplots(Nrow, Ncol, figsize=(15, 8), sharex=True)\n",
    "\n",
    "    # time_scaling = 1/86400\n",
    "    time_scaling = 1\n",
    "\n",
    "    ax[0].plot(beatZ.times_utc_sec*time_scaling, beatZ.fj, color=\"tab:grey\", alpha=0.3, label=\"raw\")\n",
    "    ax[0].plot(beatZ.times_utc_sec*time_scaling, beatZ.fj_nan, color=\"tab:blue\", label=\"cleaned\")\n",
    "    ax[0].plot(beatZ.times_utc_sec*time_scaling, beatZ.fj_smooth_masked, color=\"k\", label=f\"mov. avg. ({n_minutes} min)\")\n",
    "    ax[0].set_ylim(Zlower, Zupper)\n",
    "    ax[0].ticklabel_format(useOffset=False)\n",
    "    ax[0].set_ylabel(\"Horizontal ring (Hz)\", fontsize=font)\n",
    "\n",
    "    ax[1].plot(beatU.times_utc_sec*time_scaling, beatU.fj, color=\"tab:grey\", alpha=0.3, label=\"raw\")\n",
    "    ax[1].plot(beatU.times_utc_sec*time_scaling, beatU.fj_nan, color=\"tab:green\", label=\"cleaned\")\n",
    "    ax[1].plot(beatU.times_utc_sec*time_scaling, beatU.fj_smooth_masked, color=\"k\", label=f\"mov. avg. ({n_minutes} min)\")\n",
    "    ax[1].set_ylim(Ulower, Uupper)\n",
    "    ax[1].ticklabel_format(useOffset=False)\n",
    "    ax[1].set_ylabel(\"Northern ring (Hz)\", fontsize=font)\n",
    "\n",
    "    ax[2].plot(beatV.times_utc_sec*time_scaling, beatV.fj, color=\"tab:grey\", alpha=0.3, label=\"raw\")\n",
    "    ax[2].plot(beatV.times_utc_sec*time_scaling, beatV.fj_nan, color=\"tab:red\", label=\"cleaned\")\n",
    "    ax[2].plot(beatV.times_utc_sec*time_scaling, beatV.fj_smooth_masked, color=\"k\", label=f\"mov. avg. ({n_minutes} min)\")\n",
    "    ax[2].set_ylim(Vlower, Vupper)\n",
    "    ax[2].set_ylim()\n",
    "\n",
    "    ax[2].ticklabel_format(useOffset=False)\n",
    "    ax[2].set_ylabel(\"Western ring (Hz)\", fontsize=font)\n",
    "\n",
    "    for _n in range(Nrow):\n",
    "        ax[_n].grid(ls=\":\", zorder=0)\n",
    "        ax[_n].legend(loc=1, ncol=3)\n",
    "\n",
    "        # add maintenance times\n",
    "        for lx1, lx2 in zip(lxx_t1, lxx_t2):\n",
    "            lx1_sec = lx1-UTCDateTime(ref_date)\n",
    "            lx2_sec = lx2-UTCDateTime(ref_date)\n",
    "            ax[_n].fill_betweenx([-1000, 1000], lx1_sec, lx2_sec, color=\"yellow\", alpha=0.3)\n",
    "\n",
    "    # ax[2].set_xlabel(\"Time (days)\", fontsize=font)\n",
    "\n",
    "    # add dates to x-axis\n",
    "    tcks = ax[Nrow-1].get_xticks()\n",
    "    tcklbls = [f\"{UTCDateTime(UTCDateTime(ref_date)+t).date} \\n {UTCDateTime(UTCDateTime(ref_date)+t).time}\" for t in tcks]\n",
    "    ax[Nrow-1].set_xticklabels(tcklbls)\n",
    "\n",
    "    # add subplot labels\n",
    "    for _k, ll in enumerate(['(a)', '(b)', '(c)']):\n",
    "        ax[_k].text(.005, .97, ll, ha='left', va='top', transform=ax[_k].transAxes, fontsize=font+2)\n",
    "\n",
    "\n",
    "    plt.show();\n",
    "    return fig\n",
    "\n",
    "# fig = __makeplot();\n",
    "\n",
    "# fig.savefig(config['path_to_figs']+f\"BeatDrift_Case{case}_smoothed.png\", format=\"png\", dpi=150, bbox_inches='tight')\n"
   ]
  },
  {
   "cell_type": "code",
   "execution_count": null,
   "id": "9a979e5b-928b-4cbf-951d-bc80ec8414be",
   "metadata": {
    "tags": []
   },
   "outputs": [],
   "source": [
    "Zlower2, Zupper2 = 553.557, 553.574\n",
    "Ulower2, Uupper2 = 302.435, 303.150\n",
    "Vlower2, Vupper2 = 447.730, 447.746"
   ]
  },
  {
   "cell_type": "code",
   "execution_count": null,
   "id": "e522baad-8137-487b-9a0c-9d01ee9f12f2",
   "metadata": {
    "tags": []
   },
   "outputs": [],
   "source": [
    "def __makeplot():\n",
    "\n",
    "    Nrow, Ncol = 4, 1\n",
    "\n",
    "    font = 12\n",
    "\n",
    "    ref_date = UTCDateTime(str(beatV.times_utc.iloc[0])[:10])\n",
    "    ref_date = config['tbeg']\n",
    "\n",
    "    fig, ax = plt.subplots(Nrow, Ncol, figsize=(15, 10), sharex=True)\n",
    "\n",
    "    plt.subplots_adjust(hspace=0.15)\n",
    "\n",
    "    # time_scaling = 1/86400\n",
    "    time_scaling = 1\n",
    "\n",
    "    # ax[0].plot(beatZ.times_utc_sec*time_scaling, beatZ.fj, color=\"tab:grey\", alpha=0.3, label=\"raw\")\n",
    "    ax[0].plot(beatZ.times_utc_sec*time_scaling, beatZ.fj_nan, color=\"tab:blue\", label=\"clean\", ls=\"--\", alpha=0.5)\n",
    "    ax[0].plot(beatZ.times_utc_sec*time_scaling, beatZ.fj_dj, color=\"tab:blue\", label=\"dejump\")\n",
    "    ax[0].plot(beatZ.times_utc_sec*time_scaling, beatZ.fj_dj_smooth, color=\"k\", label=f\"mov. avg. ({n_minutes} min)\")\n",
    "    ax[0].ticklabel_format(useOffset=False)\n",
    "    ax[0].set_ylabel(r\"$\\delta$f (Hz)\", fontsize=font)\n",
    "    ax[0].text(.035, .95, \"Horizontal Ring (RZ)\", ha='left', va='top', transform=ax[0].transAxes, fontsize=font)\n",
    "\n",
    "    # ax[1].plot(beatU.times_utc_sec*time_scaling, beatU.fj, color=\"tab:grey\", alpha=0.3, label=\"raw\")\n",
    "    ax[1].plot(beatU.times_utc_sec*time_scaling, beatU.fj_nan, color=\"tab:green\", label=\"clean\", ls=\"--\", alpha=0.5)\n",
    "    ax[1].plot(beatU.times_utc_sec*time_scaling, beatU.fj_dj, color=\"tab:green\", label=\"dejump\")\n",
    "    ax[1].plot(beatU.times_utc_sec*time_scaling, beatU.fj_dj_smooth, color=\"k\", label=f\"mov. avg. ({n_minutes} min)\")\n",
    "    ax[1].ticklabel_format(useOffset=False)\n",
    "    ax[1].set_ylabel(r\"$\\delta$f (Hz)\", fontsize=font)\n",
    "    ax[1].text(.035, .95, \"Northern Ring (RU)\", ha='left', va='top', transform=ax[1].transAxes, fontsize=font)\n",
    "\n",
    "    # ax[2].plot(beatV.times_utc_sec*time_scaling, beatV.fj, color=\"tab:grey\", alpha=0.3, label=\"raw\")\n",
    "    ax[2].plot(beatV.times_utc_sec*time_scaling, beatV.fj_nan, color=\"tab:red\", label=\"clean\", ls=\"--\", alpha=0.5)\n",
    "    ax[2].plot(beatV.times_utc_sec*time_scaling, beatV.fj_dj, color=\"tab:red\", label=\"dejump\")\n",
    "    ax[2].plot(beatV.times_utc_sec*time_scaling, beatV.fj_dj_smooth, color=\"k\", label=f\"mov. avg. ({n_minutes} min)\")\n",
    "    ax[2].set_ylabel(r\"$\\delta$f (Hz)\", fontsize=font)\n",
    "    ax[2].text(.035, .95, \"Western Ring (RV)\", ha='left', va='top', transform=ax[2].transAxes, fontsize=font)\n",
    "\n",
    "    ax[2].ticklabel_format(useOffset=False)\n",
    "    ax[2].set_ylabel(\"$\\delta$f (Hz)\", fontsize=font)\n",
    "\n",
    "    n_rz, n_ru, n_rv = int(mltistats['Z']['cumsum'][-1]), int(mltistats['U']['cumsum'][-1]), int(mltistats['V']['cumsum'][-1])\n",
    "    ax[3].plot(mltistats['Z']['tsec']*time_scaling, mltistats['Z']['cumsump'], color=\"tab:blue\", label=f\"RZ (N={n_rz})\")\n",
    "    ax[3].plot(mltistats['U']['tsec']*time_scaling, mltistats['U']['cumsump'], color=\"tab:green\", label=f\"RU (N={n_ru})\")\n",
    "    ax[3].plot(mltistats['V']['tsec']*time_scaling, mltistats['V']['cumsump'], color=\"tab:red\", label=f\"RV (N={n_rv})\")\n",
    "    # ax[3].set_yscale(\"log\")\n",
    "    # ax[3].set_ylim(0, max([n_rz, n_rv, n_ru])+2)\n",
    "    ax[3].set_ylim(0, 102)\n",
    "    ax[3].set_ylabel(\"MLTI Count (%)\", fontsize=font)\n",
    "\n",
    "    ax[0].set_ylim(Zlower2, Zupper2)\n",
    "    ax[1].set_ylim(Ulower2, Uupper2)\n",
    "    ax[2].set_ylim(Vlower2, Vupper2)\n",
    "\n",
    "\n",
    "    for _n in range(Nrow):\n",
    "        ax[_n].grid(ls=\":\", zorder=0)\n",
    "        ax[_n].legend(loc=9, ncol=4)\n",
    "\n",
    "        # add maintenance times\n",
    "        for lx1, lx2 in zip(lxx_t1, lxx_t2):\n",
    "            lx1_sec = lx1-UTCDateTime(ref_date)\n",
    "            lx2_sec = lx2-UTCDateTime(ref_date)\n",
    "            ax[_n].fill_betweenx([-1000, 1000], lx1_sec, lx2_sec, color=\"yellow\", alpha=0.3)\n",
    "\n",
    "    # ax[2].set_xlabel(\"Time (days)\", fontsize=font)\n",
    "\n",
    "    # add dates to x-axis\n",
    "    tcks = ax[Nrow-1].get_xticks()\n",
    "    tcklbls = [f\"{UTCDateTime(UTCDateTime(ref_date)+t).date} \\n {UTCDateTime(UTCDateTime(ref_date)+t).time}\" for t in tcks]\n",
    "    ax[Nrow-1].set_xticklabels(tcklbls)\n",
    "\n",
    "    # add subplot labels\n",
    "    for _k, ll in enumerate(['(a)', '(b)', '(c)', '(d)']):\n",
    "        ax[_k].text(.005, .97, ll, ha='left', va='top', transform=ax[_k].transAxes, fontsize=font+2)\n",
    "\n",
    "\n",
    "    plt.show();\n",
    "    return fig\n",
    "\n",
    "# fig = __makeplot();\n",
    "\n",
    "# fig.savefig(config['path_to_figs']+f\"BeatDrift_Case{case}_dejump_smoothed.png\", format=\"png\", dpi=150, bbox_inches='tight')\n"
   ]
  },
  {
   "cell_type": "code",
   "execution_count": null,
   "id": "03ce30d8-d333-40a8-a2b0-27dbe6835755",
   "metadata": {
    "tags": []
   },
   "outputs": [],
   "source": [
    "def __makeplot():\n",
    "\n",
    "    Nrow, Ncol = 4, 1\n",
    "\n",
    "    font = 12\n",
    "\n",
    "    ref_date = UTCDateTime(str(beatV.times_utc.iloc[0])[:10])\n",
    "    ref_date = config['tbeg']\n",
    "\n",
    "    fig, ax = plt.subplots(Nrow, Ncol, figsize=(15, 10), sharex=True)\n",
    "\n",
    "    plt.subplots_adjust(hspace=0.15)\n",
    "\n",
    "    # time_scaling = 1/86400\n",
    "    time_scaling = 1\n",
    "\n",
    "    # ax[0].plot(beatZ.times_utc_sec*time_scaling, beatZ.fj, color=\"tab:grey\", alpha=0.3, label=\"raw\")\n",
    "    ax[0].plot(beatZ.times_utc_sec*time_scaling, beatZ.fj_nan, color=\"tab:blue\", label=\"clean\", ls=\"--\", alpha=0.5)\n",
    "    ax[0].plot(beatZ.times_utc_sec*time_scaling, beatZ.fj_dj, color=\"tab:blue\", label=\"dejump\")\n",
    "    ax[0].plot(beatZ.times_utc_sec*time_scaling, beatZ.fj_dj_smooth, color=\"k\", label=f\"mov. avg. ({config['n_minutes']} min)\")\n",
    "    ax[0].ticklabel_format(useOffset=False)\n",
    "    ax[0].set_ylabel(r\"$\\delta$f (Hz)\", fontsize=font)\n",
    "    ax[0].text(.035, .95, \"Horizontal Ring (RZ)\", ha='left', va='top', transform=ax[0].transAxes, fontsize=font)\n",
    "\n",
    "    # ax[1].plot(beatU.times_utc_sec*time_scaling, beatU.fj, color=\"tab:grey\", alpha=0.3, label=\"raw\")\n",
    "    ax[1].plot(beatU.times_utc_sec*time_scaling, beatU.fj_nan, color=\"tab:green\", label=\"clean\", ls=\"--\", alpha=0.5)\n",
    "    ax[1].plot(beatU.times_utc_sec*time_scaling, beatU.fj_dj, color=\"tab:green\", label=\"dejump\")\n",
    "    ax[1].plot(beatU.times_utc_sec*time_scaling, beatU.fj_dj_smooth, color=\"k\", label=f\"mov. avg. ({config['n_minutes']} min)\")\n",
    "    ax[1].ticklabel_format(useOffset=False)\n",
    "    ax[1].set_ylabel(r\"$\\delta$f (Hz)\", fontsize=font)\n",
    "    ax[1].text(.035, .95, \"Northern Ring (RU)\", ha='left', va='top', transform=ax[1].transAxes, fontsize=font)\n",
    "\n",
    "    # ax[2].plot(beatV.times_utc_sec*time_scaling, beatV.fj, color=\"tab:grey\", alpha=0.3, label=\"raw\")\n",
    "    ax[2].plot(beatV.times_utc_sec*time_scaling, beatV.fj_nan, color=\"tab:red\", label=\"clean\", ls=\"--\", alpha=0.5)\n",
    "    ax[2].plot(beatV.times_utc_sec*time_scaling, beatV.fj_dj, color=\"tab:red\", label=\"dejump\")\n",
    "    ax[2].plot(beatV.times_utc_sec*time_scaling, beatV.fj_dj_smooth, color=\"k\", label=f\"mov. avg. ({config['n_minutes']} min)\")\n",
    "    ax[2].set_ylabel(r\"$\\delta$f (Hz)\", fontsize=font)\n",
    "    ax[2].text(.035, .95, \"Western Ring (RV)\", ha='left', va='top', transform=ax[2].transAxes, fontsize=font)\n",
    "\n",
    "    ax[2].ticklabel_format(useOffset=False)\n",
    "    ax[2].set_ylabel(\"$\\delta$f (Hz)\", fontsize=font)\n",
    "\n",
    "    n_rz, n_ru, n_rv = int(mltistats['Z']['cumsum'][-1]), int(mltistats['U']['cumsum'][-1]), int(mltistats['V']['cumsum'][-1])\n",
    "    # ax[3].plot(mltistats['Z']['tsec']*time_scaling, mltistats['Z']['mlti_series_avg'], color=\"tab:blue\", label=f\"RZ (N={n_rz})\")\n",
    "    # ax[3].plot(mltistats['U']['tsec']*time_scaling, mltistats['U']['mlti_series_avg'], color=\"tab:green\", label=f\"RU (N={n_ru})\")\n",
    "    # ax[3].plot(mltistats['V']['tsec']*time_scaling, mltistats['V']['mlti_series_avg'], color=\"tab:red\", label=f\"RV (N={n_rv})\")\n",
    "    ax[3].fill_between(mltistats['Z']['tsec']*time_scaling, 0, mltistats['Z']['mlti_series_avg'],\n",
    "                       color=\"tab:blue\", label=f\"RZ (N={n_rz})\", alpha=0.5,\n",
    "                      )\n",
    "    ax[3].fill_between(mltistats['U']['tsec']*time_scaling, 0, mltistats['U']['mlti_series_avg'],\n",
    "                       color=\"tab:green\", label=f\"RU (N={n_ru})\", alpha=0.5,\n",
    "                      )\n",
    "    ax[3].fill_between(mltistats['V']['tsec']*time_scaling, 0, mltistats['V']['mlti_series_avg'],\n",
    "                       color=\"tab:red\", label=f\"RV (N={n_rv})\", alpha=0.5,\n",
    "                      )\n",
    "\n",
    "    ax[3].set_ylim(bottom=0)\n",
    "    ax[3].set_ylabel(f\"MLTI Density\", fontsize=font)\n",
    "\n",
    "    ax[0].set_ylim(Zlower2, Zupper2)\n",
    "    ax[1].set_ylim(Ulower2, Uupper2)\n",
    "    ax[2].set_ylim(Vlower2, Vupper2)\n",
    "\n",
    "\n",
    "    for _n in range(Nrow):\n",
    "        ax[_n].grid(ls=\":\", zorder=0)\n",
    "        ax[_n].legend(loc=9, ncol=4)\n",
    "        _, _ , _ymin, _ymax = ax[_n].axis()\n",
    "\n",
    "        # add maintenance times\n",
    "        for lx1, lx2 in zip(lxx_t1, lxx_t2):\n",
    "            lx1_sec = lx1-UTCDateTime(ref_date)\n",
    "            lx2_sec = lx2-UTCDateTime(ref_date)\n",
    "            ax[_n].fill_betweenx([_ymin, _ymax], lx1_sec, lx2_sec, color=\"yellow\", alpha=0.3)\n",
    "\n",
    "    # ax[2].set_xlabel(\"Time (days)\", fontsize=font)\n",
    "\n",
    "    # add dates to x-axis\n",
    "    tcks = ax[Nrow-1].get_xticks()\n",
    "    tcklbls = [f\"{UTCDateTime(UTCDateTime(ref_date)+t).date} \\n {UTCDateTime(UTCDateTime(ref_date)+t).time}\" for t in tcks]\n",
    "    ax[Nrow-1].set_xticklabels(tcklbls)\n",
    "\n",
    "    # add subplot labels\n",
    "    for _k, ll in enumerate(['(a)', '(b)', '(c)', '(d)']):\n",
    "        ax[_k].text(.005, .97, ll, ha='left', va='top', transform=ax[_k].transAxes, fontsize=font+2)\n",
    "\n",
    "\n",
    "    plt.show();\n",
    "    return fig\n",
    "\n",
    "fig = __makeplot();\n",
    "\n",
    "fig.savefig(config['path_to_figs']+f\"BeatDrift_Case{case}_dejump_smoothed.png\", format=\"png\", dpi=150, bbox_inches='tight')\n"
   ]
  },
  {
   "cell_type": "markdown",
   "id": "8bbefdf8-7d5d-4dfc-a3bd-3dc07fb583bd",
   "metadata": {},
   "source": [
    "## Rotate to ZNE"
   ]
  },
  {
   "cell_type": "code",
   "execution_count": null,
   "id": "d354ac1f-8d7d-4ca0-aad6-3e60a4543024",
   "metadata": {
    "tags": []
   },
   "outputs": [],
   "source": [
    "from functions.reduce import __reduce\n",
    "\n",
    "key0 = \"fj_smooth\"\n",
    "\n",
    "beatU['fj_reduced'] = __reduce(beatU[key0], 60)\n",
    "beatV['fj_reduced'] = __reduce(beatV[key0], 60)\n",
    "beatZ['fj_reduced'] = __reduce(beatZ[key0], 60)\n",
    "\n",
    "beatU['fj_reduced_masked'] = beatU['fj_reduced'] * maskU\n",
    "beatV['fj_reduced_masked'] = beatV['fj_reduced'] * maskV\n",
    "beatZ['fj_reduced_masked'] = beatZ['fj_reduced'] * maskZ\n",
    "\n",
    "key0 = \"fj_dj_smooth\"\n",
    "\n",
    "beatU['fj_dj_reduced'] = __reduce(beatU[key0], 60)\n",
    "beatV['fj_dj_reduced'] = __reduce(beatV[key0], 60)\n",
    "beatZ['fj_dj_reduced'] = __reduce(beatZ[key0], 60)\n",
    "\n",
    "beatU['fj_dj_reduced_masked'] = beatU['fj_dj_reduced'] * maskU\n",
    "beatV['fj_dj_reduced_masked'] = beatV['fj_dj_reduced'] * maskV\n",
    "beatZ['fj_dj_reduced_masked'] = beatZ['fj_dj_reduced'] * maskZ"
   ]
  },
  {
   "cell_type": "code",
   "execution_count": null,
   "id": "973056f8-d725-44cc-8f56-24ac66c2be5b",
   "metadata": {
    "tags": []
   },
   "outputs": [],
   "source": [
    "def __makeplot():\n",
    "\n",
    "    Nrow, Ncol = 2, 1\n",
    "\n",
    "    font = 12\n",
    "\n",
    "    ref_date = UTCDateTime(str(beatZ.times_utc.iloc[0])[:10])\n",
    "\n",
    "    time_scaling = 1\n",
    "    tilt_scaling = 1e6\n",
    "\n",
    "    fig, ax = plt.subplots(Nrow, Ncol, figsize=(15, 8), sharex=True)\n",
    "\n",
    "    ax[0].plot(beatZ.times_utc_sec*time_scaling, beatZ.fj_reduced, color=\"tab:blue\", label=f\"RZ (mov. avg. {n_minutes} min)\")\n",
    "    ax[0].plot(beatV.times_utc_sec*time_scaling, beatV.fj_reduced, color=\"tab:red\", label=f\"RV (mov. avg. {n_minutes} min)\")\n",
    "    ax[0].plot(beatU.times_utc_sec*time_scaling, beatU.fj_reduced, color=\"tab:green\", label=f\"RU (mov. avg. {n_minutes} min)\")\n",
    "\n",
    "    ax[0].ticklabel_format(useOffset=False)\n",
    "    ax[0].set_ylabel(\"$\\Delta f$ (Hz)\", fontsize=font)\n",
    "\n",
    "\n",
    "    # ax[1].plot(beatZ.times_utc_sec*time_scaling, beatZ.tilt_reduced*tilt_scaling, color=\"tab:blue\", label=f\"RZ (mov. avg. {n_minutes} min)\")\n",
    "    # ax[1].plot(beatV.times_utc_sec*time_scaling, beatV.tilt_reduced*tilt_scaling, color=\"tab:red\", label=f\"RV (mov. avg. {n_minutes} min)\")\n",
    "    # ax[1].plot(beatU.times_utc_sec*time_scaling, beatU.tilt_reduced*tilt_scaling, color=\"tab:green\", label=f\"RU (mov. avg. {n_minutes} min)\")\n",
    "\n",
    "    ax[1].plot(st_beat.select(channel=\"*Z\")[0].times(reftime=ref_date),\n",
    "               st_beat.select(channel=\"*Z\")[0].data,\n",
    "               color=\"black\", label=f\"RZ (mov. avg. {n_minutes} min)\")\n",
    "\n",
    "    ax[1].plot(st_beat_zne.select(channel=\"*Z\")[0].times(reftime=ref_date),\n",
    "               st_beat_zne.select(channel=\"*Z\")[0].data,\n",
    "               color=\"tab:blue\", label=f\"RZ (mov. avg. {n_minutes} min)\", ls=\"--\")\n",
    "    ax[1].plot(st_beat_zne.select(channel=\"*N\")[0].times(reftime=ref_date),\n",
    "               st_beat_zne.select(channel=\"*N\")[0].data,\n",
    "               color=\"tab:green\", label=f\"RN (mov. avg. {n_minutes} min)\", ls=\"--\")\n",
    "    ax[1].plot(st_beat_zne.select(channel=\"*E\")[0].times(reftime=ref_date),\n",
    "               st_beat_zne.select(channel=\"*E\")[0].data,\n",
    "               color=\"tab:red\", label=f\"RE (mov. avg. {n_minutes} min)\", ls=\"--\")\n",
    "\n",
    "\n",
    "    # ax[1].set_ylabel(\"N-S Tilt ($\\mu$rad)\", fontsize=font)\n",
    "    ax[1].set_ylabel(\"$\\Delta f$ (Hz)\", fontsize=font)\n",
    "\n",
    "    for _n in range(Nrow):\n",
    "        ax[_n].grid(ls=\":\", zorder=0)\n",
    "        ax[_n].legend(loc=1)\n",
    "\n",
    "    ax[0].set_ylim(-0.07, 0.07)\n",
    "    ax[0].set_ylim(-0.07, 0.07)\n",
    "\n",
    "    ## add dates to x-axis\n",
    "    tcks = ax[Nrow-1].get_xticks()\n",
    "    tcklbls = [f\"{UTCDateTime(UTCDateTime(ref_date)+t).date} \\n {UTCDateTime(UTCDateTime(ref_date)+t).time}\" for t in tcks]\n",
    "    ax[Nrow-1].set_xticklabels(tcklbls)\n",
    "\n",
    "    plt.show();\n",
    "    return fig\n",
    "\n",
    "# fig = __makeplot();\n",
    "\n",
    "# fig.savefig(config['path_to_figs']+f\"BeatDrift_Case{case}_smoothed_ZNE.png\", format=\"png\", dpi=150, bbox_inches='tight')\n"
   ]
  },
  {
   "cell_type": "markdown",
   "id": "cab35219-956c-489a-b8c3-d976b6905e38",
   "metadata": {},
   "source": [
    "## Tilt"
   ]
  },
  {
   "cell_type": "code",
   "execution_count": null,
   "id": "a3506d31-0fb2-4829-890d-c65b768663a1",
   "metadata": {
    "tags": []
   },
   "outputs": [],
   "source": [
    "from functions.sagnac_to_tilt import __sagnac_to_tilt"
   ]
  },
  {
   "cell_type": "code",
   "execution_count": null,
   "id": "6cc4fd78-9015-4a36-b71e-afdab19352bb",
   "metadata": {
    "tags": []
   },
   "outputs": [],
   "source": [
    "key, str_key = 'fj_smooth_masked', \"\"\n",
    "# key, str_key = 'fj_dj_smooth_masked', \"dj\"\n",
    "\n",
    "# N-S\n",
    "beatZ['tilt_ns'] = __sagnac_to_tilt(beatZ[key], \"Z\", tilt='n-s')\n",
    "beatU['tilt_ns'] = __sagnac_to_tilt(beatU[key], \"U\", tilt='n-s')\n",
    "beatV['tilt_ns'] = __sagnac_to_tilt(beatV[key], \"V\", tilt='n-s')\n",
    "\n",
    "beatU['tilt_ns_reduced'] = beatU.tilt_ns - np.nanmean(beatU.tilt_ns.iloc[:2*1440])\n",
    "beatV['tilt_ns_reduced'] = beatV.tilt_ns - np.nanmean(beatV.tilt_ns.iloc[:2*1440])\n",
    "beatZ['tilt_ns_reduced'] = beatZ.tilt_ns - np.nanmean(beatZ.tilt_ns.iloc[:2*1440])\n",
    "\n",
    "beatU['tilt_ns_reduced_masked'] = beatU['tilt_ns_reduced'] * maskU\n",
    "beatV['tilt_ns_reduced_masked'] = beatV['tilt_ns_reduced'] * maskV\n",
    "beatZ['tilt_ns_reduced_masked'] = beatZ['tilt_ns_reduced'] * maskZ\n",
    "\n",
    "# E-W\n",
    "beatZ['tilt_ew'] = __sagnac_to_tilt(beatZ[key], \"Z\", tilt='e-w')\n",
    "beatU['tilt_ew'] = __sagnac_to_tilt(beatU[key], \"U\", tilt='e-w')\n",
    "beatV['tilt_ew'] = __sagnac_to_tilt(beatV[key], \"V\", tilt='e-w')\n",
    "\n",
    "beatU['tilt_ew_reduced'] = beatU.tilt_ew - np.nanmean(beatU.tilt_ew.iloc[:2*1440])\n",
    "beatV['tilt_ew_reduced'] = beatV.tilt_ew - np.nanmean(beatV.tilt_ew.iloc[:2*1440])\n",
    "beatZ['tilt_ew_reduced'] = beatZ.tilt_ew - np.nanmean(beatZ.tilt_ew.iloc[:2*1440])\n",
    "\n",
    "beatU['tilt_ew_reduced_masked'] = beatU['tilt_ew_reduced'] * maskU\n",
    "beatV['tilt_ew_reduced_masked'] = beatV['tilt_ew_reduced'] * maskV\n",
    "beatZ['tilt_ew_reduced_masked'] = beatZ['tilt_ew_reduced'] * maskZ"
   ]
  },
  {
   "cell_type": "code",
   "execution_count": null,
   "id": "f59248ac-8798-4f9e-b905-14bf8f866b3b",
   "metadata": {},
   "outputs": [],
   "source": []
  },
  {
   "cell_type": "code",
   "execution_count": null,
   "id": "4b092345-fbf5-45f7-92d3-9a56415eab59",
   "metadata": {},
   "outputs": [],
   "source": [
    "key_plot = \"fj_reduced_masked\"\n",
    "# key_plot = \"fj_dj_reduced_masked\""
   ]
  },
  {
   "cell_type": "code",
   "execution_count": null,
   "id": "2927c378-9802-4766-a5f0-20375245415f",
   "metadata": {
    "tags": []
   },
   "outputs": [],
   "source": [
    "def __makeplot_mlti(_key):\n",
    "\n",
    "    Nrow, Ncol = 2, 1\n",
    "\n",
    "    font = 12\n",
    "\n",
    "    ref_date = UTCDateTime(str(beatZ.times_utc.iloc[0])[:10])\n",
    "\n",
    "    time_scaling = 1\n",
    "    tilt_scaling = 1e6\n",
    "\n",
    "    fig, ax = plt.subplots(Nrow, Ncol, figsize=(15, 8), sharex=True)\n",
    "\n",
    "    ax[0].plot(beatZ.times_utc_sec*time_scaling, beatZ[_key], color=\"tab:blue\", label=f\"RZ (mov. avg. {n_minutes} min)\")\n",
    "    ax[0].plot(beatU.times_utc_sec*time_scaling, beatU[_key], color=\"tab:green\", label=f\"RU (mov. avg. {n_minutes} min)\")\n",
    "    ax[0].plot(beatV.times_utc_sec*time_scaling, beatV[_key], color=\"tab:red\", label=f\"RV (mov. avg. {n_minutes} min)\")\n",
    "\n",
    "    ax[0].ticklabel_format(useOffset=False)\n",
    "    ax[0].set_ylabel(\"$\\Delta f$ (Hz)\", fontsize=font)\n",
    "\n",
    "    n_rz, n_ru, n_rv = int(mltistats['Z']['cumsum'][-1]), int(mltistats['U']['cumsum'][-1]), int(mltistats['V']['cumsum'][-1])\n",
    "    ax[1].plot(mltistats['Z']['tsec']*time_scaling, mltistats['Z']['cumsump'], color=\"tab:blue\", label=f\"RZ (N={n_rz})\")\n",
    "    ax[1].plot(mltistats['U']['tsec']*time_scaling, mltistats['U']['cumsump'], color=\"tab:green\", label=f\"RU (N={n_ru})\")\n",
    "    ax[1].plot(mltistats['V']['tsec']*time_scaling, mltistats['V']['cumsump'], color=\"tab:red\", label=f\"RV (N={n_rv})\")\n",
    "\n",
    "    ax[1].set_ylabel(\"MLTI Count (%)\", fontsize=font)\n",
    "\n",
    "    # ax[1].set_yscale(\"log\")\n",
    "\n",
    "    for _n in range(Nrow):\n",
    "        ax[_n].grid(ls=\":\", zorder=0)\n",
    "        ax[_n].legend(loc=1)\n",
    "\n",
    "    # ax[0].set_ylim(-0.07, 0.07)\n",
    "    # ax[0].set_ylim(-0.07, 0.07)\n",
    "\n",
    "    # add dates to x-axis\n",
    "    tcks = ax[Nrow-1].get_xticks()\n",
    "    tcklbls = [str(UTCDateTime(ref_date+t).date) for t in tcks]\n",
    "    ax[Nrow-1].set_xticklabels(tcklbls)\n",
    "\n",
    "    plt.show();\n",
    "    return fig\n",
    "\n",
    "fig = __makeplot_mlti(key_plot);\n",
    "\n",
    "fig.savefig(config['path_to_figs']+f\"BeatDrift_Case{case}_mlti.png\", format=\"png\", dpi=150, bbox_inches='tight')\n"
   ]
  },
  {
   "cell_type": "markdown",
   "id": "151b701e-16c1-4418-9d60-2f5c9471f33d",
   "metadata": {},
   "source": [
    "### load water level data"
   ]
  },
  {
   "cell_type": "code",
   "execution_count": null,
   "id": "31475ff1-b724-41ad-a0dc-b15c3bcd62c7",
   "metadata": {
    "tags": []
   },
   "outputs": [],
   "source": [
    "from functions.load_water_level import __load_water_level\n",
    "\n",
    "try:\n",
    "    # load data\n",
    "    pegel =  __load_water_level(config['tbeg'], config['tend'], path_to_data=lamont_path+\"Pegel/\")\n",
    "\n",
    "    # remove error measurements with nan\n",
    "    pegel['pegel'] = np.where(pegel.pegel <= 0, np.nan, pegel.pegel)\n",
    "\n",
    "except:\n",
    "    print(\" -> pegel not loaded\")\n"
   ]
  },
  {
   "cell_type": "markdown",
   "id": "e4b15ca0-dd2a-4396-9cca-f78686d1eef8",
   "metadata": {},
   "source": [
    "### load barometer data"
   ]
  },
  {
   "cell_type": "code",
   "execution_count": null,
   "id": "48363092-8483-4aba-837f-469a5e4014d4",
   "metadata": {
    "tags": []
   },
   "outputs": [],
   "source": [
    "from andbro__read_sds import __read_sds\n",
    "\n",
    "ffbi = __read_sds(archive_path+\"temp_archive/\", \"BW.FFBI.30.LDO\", config['tbeg'], config['tend'])\n",
    "\n",
    "ffbi.merge(fill_value=\"interpolate\")"
   ]
  },
  {
   "cell_type": "markdown",
   "id": "e8d3cd56-97fe-462d-bf0b-089ab49965cc",
   "metadata": {},
   "source": [
    "### load tiltmeter data"
   ]
  },
  {
   "cell_type": "code",
   "execution_count": null,
   "id": "c70d0ab8-21b5-4677-a309-9403e6e02031",
   "metadata": {
    "tags": []
   },
   "outputs": [],
   "source": [
    "from functions.conversion_to_tilt import __conversion_to_tilt\n",
    "from functions.read_yaml import __readYaml"
   ]
  },
  {
   "cell_type": "code",
   "execution_count": null,
   "id": "8f3a9341-c161-4a7e-badb-b2299cde995f",
   "metadata": {
    "tags": []
   },
   "outputs": [],
   "source": [
    "# path_to_tilt = data_path+\"TiltmeterDataBackup/Tilt_downsampled/\"\n",
    "path_to_tilt = archive_path+\"romy_archive/\"\n",
    "\n",
    "tromy0 = __read_sds(path_to_tilt, \"BW.ROMYT..MAN\", config['tbeg']-600, config['tend']+600)\n",
    "tromy0 += __read_sds(path_to_tilt, \"BW.ROMYT..MAE\", config['tbeg']-600, config['tend']+600)\n",
    "tromy0 += __read_sds(path_to_tilt, \"BW.ROMYT..MAT\", config['tbeg']-600, config['tend']+600)\n",
    "\n",
    "# tiltmeter configurations\n",
    "confTilt = __readYaml(root_path+\"Documents/ROMY/tiltmeter/\", \"tiltmeter.conf\")\n",
    "\n",
    "tromy0 = __conversion_to_tilt(tromy0, confTilt['TROMY'])"
   ]
  },
  {
   "cell_type": "code",
   "execution_count": null,
   "id": "55cdd33d-f73f-428b-920e-0301a8d1bc60",
   "metadata": {
    "tags": []
   },
   "outputs": [],
   "source": [
    "tromy = tromy0.copy();\n",
    "\n",
    "tromy = tromy.merge(fill_value=\"interpolate\");\n",
    "\n",
    "tromy = tromy.decimate(10, no_filter=False)\n",
    "tromy = tromy.decimate(10, no_filter=False)\n",
    "\n",
    "print(tromy)\n",
    "\n",
    "tromy = tromy.trim(config['tbeg'], config['tend'])\n",
    "\n",
    "for tr in tromy:\n",
    "    tr.data = __reduce(tr.data, 10)\n",
    "\n",
    "tromy.plot(equal_scale=False);\n"
   ]
  },
  {
   "cell_type": "code",
   "execution_count": null,
   "id": "274a0af2-87de-4dbe-a9ed-15d6cea4605e",
   "metadata": {},
   "outputs": [],
   "source": []
  },
  {
   "cell_type": "code",
   "execution_count": null,
   "id": "f4d62f7c-f07f-4f78-b096-a1bd5fad612b",
   "metadata": {},
   "outputs": [],
   "source": [
    "# # path_to_tilt = data_path+\"TiltmeterDataBackup/Tilt_downsampled/\"\n",
    "# path_to_tilt = archive_path+\"romy_archive/\"\n",
    "\n",
    "# # load data\n",
    "# bromy0 =  __read_sds(path_to_tilt, \"BW.DROMY..LAN\", config['tbeg']-600, config['tend']+600)\n",
    "# bromy0 += __read_sds(path_to_tilt, \"BW.DROMY..LAE\", config['tbeg']-600, config['tend']+600)\n",
    "# bromy0 += __read_sds(path_to_tilt, \"BW.DROMY..LAT\", config['tbeg']-600, config['tend']+600)\n",
    "\n",
    "# # downsampling\n",
    "# bromy0 = bromy0.decimate(10, no_filter=False);\n",
    "# bromy0 = bromy0.decimate(10, no_filter=False);\n",
    "# bromy0 = bromy0.decimate(10, no_filter=False);\n",
    "# bromy0 = bromy0.decimate(4, no_filter=False);\n",
    "\n",
    "# # tiltmeter configurations\n",
    "# confTilt = __readYaml(root_path+\"Documents/ROMY/tiltmeter/\", \"tiltmeter.conf\")\n",
    "\n",
    "# bromy0 = __conversion_to_tilt(bromy0, confTilt['BROMY'])\n",
    "\n",
    "# bromy0 = bromy0.trim(config['tbeg'], config['tend']);\n",
    "\n",
    "# bromy = bromy0.copy();\n",
    "\n",
    "# bromy = bromy.merge(fill_value=\"interpolate\");\n",
    "\n",
    "# bromy.plot(equal_scale=False);\n",
    "\n",
    "# del bromy0;\n",
    "\n",
    "# Nsmooth = int(n_minutes*60*tromy.select(channel=\"*N\")[0].stats.sampling_rate)\n",
    "\n",
    "# bromyN_smooth = __reduce(bromy.select(channel=\"*N\")[0].data, Nsmooth)\n",
    "# bromyE_smooth = __reduce(bromy.select(channel=\"*E\")[0].data, Nsmooth)"
   ]
  },
  {
   "cell_type": "code",
   "execution_count": null,
   "id": "da578d48-ec82-455a-b0b0-6a53d3f8d661",
   "metadata": {
    "tags": []
   },
   "outputs": [],
   "source": [
    "Nsmooth = int(n_minutes*60*tromy.select(channel=\"*N\")[0].stats.sampling_rate)\n",
    "\n",
    "tromyN_smooth = __smooth(tromy.select(channel=\"*N\")[0].data, Nsmooth)\n",
    "tromyE_smooth = __smooth(tromy.select(channel=\"*E\")[0].data, Nsmooth)\n"
   ]
  },
  {
   "cell_type": "code",
   "execution_count": null,
   "id": "dbf218b1-0634-4815-9d17-32f41a32c058",
   "metadata": {
    "tags": []
   },
   "outputs": [],
   "source": [
    "v0 = tromyN_smooth[~np.isnan(tromyN_smooth)][0]\n",
    "\n",
    "if v0 > 0:\n",
    "    tromyN_smooth += v0\n",
    "else:\n",
    "    tromyN_smooth -= v0\n"
   ]
  },
  {
   "cell_type": "markdown",
   "id": "e6069b32-468d-48cb-8a25-23ae4a55ec1e",
   "metadata": {
    "tags": []
   },
   "source": [
    "### Plotting"
   ]
  },
  {
   "cell_type": "code",
   "execution_count": null,
   "id": "d4d6ad14-bce6-4408-9cc7-b899b160157d",
   "metadata": {
    "tags": []
   },
   "outputs": [],
   "source": [
    "def __makeplot_tilt_pegel_baro(_key1, _key2):\n",
    "\n",
    "    Nrow, Ncol = 5, 1\n",
    "\n",
    "    font = 12\n",
    "\n",
    "    ref_date = UTCDateTime(str(beatZ.times_utc.iloc[0])[:10])\n",
    "\n",
    "    time_scaling = 1\n",
    "\n",
    "    tilt_scaling = 1e6\n",
    "\n",
    "    fscale = 1e6\n",
    "\n",
    "    fig, ax = plt.subplots(Nrow, Ncol, figsize=(15, 10), sharex=True)\n",
    "\n",
    "    plt.subplots_adjust(hspace=0.1)\n",
    "\n",
    "    f0_U = round(beatU.fj.iloc[0], 2)\n",
    "    f0_V = round(beatV.fj.iloc[0], 2)\n",
    "    f0_Z = round(beatZ.fj.iloc[0], 2)\n",
    "\n",
    "    ax[0].plot(beatZ.times_utc_sec*time_scaling, beatZ[_key1]/f0_Z*fscale,\n",
    "               color=\"tab:blue\", label=f\"RZ (fo = {f0_Z} Hz)\")\n",
    "    # ax[0].plot(beatU.times_utc_sec*time_scaling, beatU[_key1]/f0_U*fscale,\n",
    "    #            color=\"tab:green\", label=f\"RU (fo = {f0_U} Hz)\")\n",
    "    ax[0].plot(beatV.times_utc_sec*time_scaling, beatV[_key1]/f0_V*fscale,\n",
    "               color=\"tab:red\", label=f\"RV (fo = {f0_V} Hz)\")\n",
    "\n",
    "    ax[0].ticklabel_format(useOffset=False)\n",
    "    # ax[0].set_ylabel(\"$\\Delta$f (Hz)\", fontsize=font)\n",
    "    ax[0].set_ylabel(\"( $\\delta$f - f$_o$ ) / f$_o$ (ppm)\", fontsize=font)\n",
    "\n",
    "    z0 = beatZ[_key2].dropna().iloc[0]\n",
    "    u0 = beatU[_key2].dropna().iloc[0]\n",
    "    v0 = beatV[_key2].dropna().iloc[0]\n",
    "\n",
    "    fz, fv = -0.2, -0.2\n",
    "    ax[1].plot(beatZ.times_utc_sec*time_scaling, fz*(beatZ[_key2]-z0)*tilt_scaling,\n",
    "               color=\"tab:blue\", label=f\"{fz}x RZ\")\n",
    "    # ax[1].plot(beatU.times_utc_sec*time_scaling, -1*(beatU[_key2]-u0)*tilt_scaling,\n",
    "    #            color=\"tab:green\", label=f\"-1x RU\")\n",
    "    ax[1].plot(beatV.times_utc_sec*time_scaling, fv*(beatV[_key2]-v0)*tilt_scaling,\n",
    "               color=\"tab:red\", label=f\"{fv}x RV\")\n",
    "    # ax[1].set_ylim(-2, 7)\n",
    "\n",
    "    ax[1].plot(tromy.select(channel=\"*N\")[0].times(reftime=ref_date),\n",
    "               tromyN_smooth*tilt_scaling,\n",
    "               label=\"ROMYT\",\n",
    "               color=\"tab:orange\", alpha=0.9, zorder=3, ls=\"--\")\n",
    "\n",
    "#     ax111 = ax[1].twinx()\n",
    "#     # ax111.plot(bromy.select(channel=\"*N\")[0].times(reftime=ref_date),\n",
    "#     #            bromyN_smooth*tilt_scaling,\n",
    "#     #            label=\"BROMY\",\n",
    "#     #            color=\"tab:orange\", ls=\"--\", alpha=0.9, zorder=3)\n",
    "#     ax111.plot(tromy.select(channel=\"*N\")[0].times(reftime=ref_date),\n",
    "#                tromyN_smooth*tilt_scaling,\n",
    "#                label=\"ROMYT\",\n",
    "#                color=\"tab:orange\", alpha=0.9, zorder=3)\n",
    "\n",
    "#     ax111.set_ylim(-1, 2)\n",
    "#     ax111.set_yticks(np.linspace(ax111.get_yticks()[0], ax111.get_yticks()[-1], len(ax[1].get_yticks())))\n",
    "#     ax111.yaxis.label.set_color('tab:orange')\n",
    "#     ax111.tick_params(axis='y', colors='tab:orange')\n",
    "#     ax111.set_ylabel(\"N-S Tilt ($\\mu$rad)\", fontsize=font)\n",
    "#     ax111.legend(loc=4)\n",
    "\n",
    "    ax[2].plot(pegel.times_utc - UTCDateTime(ref_date), pegel.pegel,\n",
    "               label=\"water level\",\n",
    "               color=\"purple\", alpha=0.9, zorder=3)\n",
    "\n",
    "\n",
    "    ax[3].plot(ffbi.select(channel=\"*O\")[0].times(reftime=UTCDateTime(ref_date)),\n",
    "               ffbi.select(channel=\"*O\")[0].data,\n",
    "               label=f\"{ffbi.select(channel='*O')[0].stats.station}.{ffbi.select(channel='*O')[0].stats.channel}\",\n",
    "               color=\"tab:red\")\n",
    "\n",
    "    # n_rz, n_ru, n_rv = int(mltistats['Z']['cumsum'][-1]), int(mltistats['U']['cumsum'][-1]), int(mltistats['V']['cumsum'][-1])\n",
    "    # ax[4].plot(mltistats['Z']['tsec']*time_scaling, mltistats['Z']['cumsump'], color=\"tab:blue\", label=f\"RZ (N={n_rz})\")\n",
    "    # # ax[4].plot(mltistats['U']['tsec']*time_scaling, mltistats['U']['cumsump'], color=\"tab:green\", label=f\"RU (N={n_ru})\")\n",
    "    # ax[4].plot(mltistats['V']['tsec']*time_scaling, mltistats['V']['cumsump'], color=\"tab:red\", label=f\"RV (N={n_rv})\")\n",
    "    # ax[4].set_ylim(0, 102)\n",
    "    # ax[4].legend(loc=4)\n",
    "\n",
    "    n_rz, n_ru, n_rv = int(mltistats['Z']['cumsum'][-1]), int(mltistats['U']['cumsum'][-1]), int(mltistats['V']['cumsum'][-1])\n",
    "    # ax[4].plot(mltistats['Z']['tsec']*time_scaling, mltistats['Z']['mlti_series_avg'], color=\"tab:blue\", label=f\"RZ (N={n_rz})\")\n",
    "    # ax[4].plot(mltistats['U']['tsec']*time_scaling, mltistats['U']['mlti_series_avg'], color=\"tab:green\", label=f\"RU (N={n_ru})\")\n",
    "    # ax[4].plot(mltistats['V']['tsec']*time_scaling, mltistats['V']['mlti_series_avg'], color=\"tab:red\", label=f\"RV (N={n_rv})\")\n",
    "    ax[4].fill_between(mltistats['Z']['tsec']*time_scaling, 0, mltistats['Z']['mlti_series_avg'],\n",
    "                       color=\"tab:blue\", label=f\"RZ (N={n_rz})\", alpha=0.5,\n",
    "                      )\n",
    "    ax[4].fill_between(mltistats['U']['tsec']*time_scaling, 0, mltistats['U']['mlti_series_avg'],\n",
    "                       color=\"tab:green\", label=f\"RU (N={n_ru})\", alpha=0.5,\n",
    "                      )\n",
    "    ax[4].fill_between(mltistats['V']['tsec']*time_scaling, 0, mltistats['V']['mlti_series_avg'],\n",
    "                       color=\"tab:red\", label=f\"RV (N={n_rv})\", alpha=0.5,\n",
    "                      )\n",
    "    ax[4].set_ylim(bottom=0)\n",
    "    ax[4].legend(loc=1, ncol=3)\n",
    "\n",
    "    ax[1].set_ylabel(\"N-S Tilt ($\\mu$rad)\", fontsize=font)\n",
    "    ax[2].set_ylabel(f\"Water Level (m)\", fontsize=font)\n",
    "    ax[3].set_ylabel(f\"Air Pressure (hPa)\", fontsize=font)\n",
    "    # ax[4].set_ylabel(\"Cum. MLTI (%)\", fontsize=font)\n",
    "    ax[4].set_ylabel(f\"MLTI Density\", fontsize=font)\n",
    "\n",
    "    ax[0].legend(loc=4)\n",
    "    ax[1].legend(loc=4)\n",
    "    ax[2].legend(loc=1)\n",
    "    ax[3].legend(loc=4)\n",
    "\n",
    "    for _n in range(Nrow):\n",
    "        ax[_n].grid(ls=\":\", zorder=0)\n",
    "        _, _ , _ymin, _ymax = ax[_n].axis()\n",
    "\n",
    "        # add maintenance times\n",
    "        for lx1, lx2 in zip(lxx_t1, lxx_t2):\n",
    "            lx1_sec = lx1-UTCDateTime(ref_date)\n",
    "            lx2_sec = lx2-UTCDateTime(ref_date)\n",
    "            ax[_n].fill_betweenx([_ymin, _ymax], lx1_sec, lx2_sec, color=\"yellow\", alpha=0.3)\n",
    "\n",
    "    # add labels\n",
    "    for _k, ll in enumerate(['(a)', '(b)', '(c)', '(d)', '(e)']):\n",
    "        ax[_k].text(.005, .97, ll, ha='left', va='top', transform=ax[_k].transAxes, fontsize=font+2)\n",
    "\n",
    "\n",
    "    ax[0].set_title(f\"mov. avg. {n_minutes} min\")\n",
    "\n",
    "    # add dates to x-axis\n",
    "    tcks = ax[Nrow-1].get_xticks()\n",
    "    tcklbls = [f\"{UTCDateTime(UTCDateTime(ref_date)+t).date} \\n {UTCDateTime(UTCDateTime(ref_date)+t).time}\" for t in tcks]\n",
    "    ax[Nrow-1].set_xticklabels(tcklbls)\n",
    "\n",
    "    plt.show();\n",
    "    return fig\n",
    "\n",
    "fig = __makeplot_tilt_pegel_baro(key_plot, \"tilt_ns_reduced_masked\");\n",
    "\n",
    "fig.savefig(config['path_to_figs']+f\"BeatDrift_Case{case}_{str_key}_tilt_pegel_baro_mlti.png\", format=\"png\", dpi=150, bbox_inches='tight')\n"
   ]
  },
  {
   "cell_type": "code",
   "execution_count": null,
   "id": "cd94c8ae-26d4-4caf-b7b0-4f71e1a2f0af",
   "metadata": {},
   "outputs": [],
   "source": [
    "plt.plot(beatV.times_utc_sec, beatV['tilt_ew_reduced_masked']*-0.05)\n",
    "plt.plot(tromy.select(channel=\"*E\")[0].times(), __reduce(tromy.select(channel=\"*E\")[0].data, 100))"
   ]
  },
  {
   "cell_type": "code",
   "execution_count": null,
   "id": "1d583964-40d9-41c3-9265-66b61e39376a",
   "metadata": {},
   "outputs": [],
   "source": [
    "def __tilt_to_sagnac(ns, ew, ring=\"Z\"):\n",
    "\n",
    "    from numpy import pi, sqrt, arccos, deg2rad, arcsin, cos, sin, array, tan, zeros\n",
    "\n",
    "    # angle in horizontal plane\n",
    "    h_rot = {\"Z\":0, \"U\":0, \"V\":60, \"W\":60}\n",
    "\n",
    "    # angle from vertical\n",
    "    v_rot = {\"Z\":0, \"U\":109.5, \"V\":70.5, \"W\":70.5}\n",
    "\n",
    "    # dip = {\"Z\":0, \"U\":-70.5-180, \"V\":-14, \"W\":-14}\n",
    "\n",
    "    # side length\n",
    "    L = {\"Z\":11.2, \"U\":12, \"V\":12, \"W\":12}\n",
    "\n",
    "    # Scale factor\n",
    "    S = (sqrt(3)*L[ring])/(3*632.8e-9)\n",
    "\n",
    "    # ROMY latitude\n",
    "    lat = deg2rad(48.162941)\n",
    "    lon = deg2rad(11.275501)\n",
    "\n",
    "    # nominal Earth rotation\n",
    "    omegaE = 2*pi/86400 * array([0, 0, 1])\n",
    "\n",
    "    # matrix 1\n",
    "    D = array([[-sin(lat)*cos(lon), -sin(lon), cos(lat)*cos(lon)],\n",
    "               [sin(lat)*sin(lon), cos(lon), cos(lat)*sin(lon)],\n",
    "               [cos(lat), 0, sin(lat)]\n",
    "              ])\n",
    "\n",
    "    out = zeros(len(ns))\n",
    "    for _i, (_ns, _ew) in enumerate(zip(ns, ew)):\n",
    "\n",
    "        # tilt\n",
    "        # da = tan(_ns/_ew)\n",
    "        da = 0\n",
    "        dz = _ns\n",
    "\n",
    "        # tilt matrix\n",
    "        R = array([[1, -da, -dz], [da,  1, 0], [dz, 0, 1]])\n",
    "\n",
    "        p1 = deg2rad(v_rot[ring])\n",
    "        p2 = deg2rad(h_rot[ring])\n",
    "\n",
    "        # normal vector of ring\n",
    "        nx = array([[sin(p1)*cos(p2)], [sin(p1)*sin(p2)], [cos(p1)]])\n",
    "\n",
    "        # terms\n",
    "        # term1 = cos(v_rot[ring])*sin(lat)\n",
    "        # term2 = cos(lat)*sin(v_rot[ring])*cos(h_rot[ring])\n",
    "\n",
    "        # tilt factor assuming e-w tilt is zero\n",
    "        # fz = sin(lat)*sin(v_rot[ring])*cos(h_rot[ring]) - cos(v_rot[ring])*cos(lat)\n",
    "\n",
    "        # tilt factor assuming n-s tilt is zero\n",
    "        # fa = sin(v_rot[ring])*sin(h_rot[ring])*cos(lat)\n",
    "\n",
    "        out[_i] = S * ( omegaE @ ( D @ (R @ nx) ) )[0]\n",
    "\n",
    "    return out"
   ]
  },
  {
   "cell_type": "code",
   "execution_count": null,
   "id": "2e6492bc-453c-4860-a471-ae1ab0bef859",
   "metadata": {},
   "outputs": [],
   "source": [
    "ns = tromy.select(channel=\"*N\")[0].data\n",
    "ew = tromy.select(channel=\"*E\")[0].data\n",
    "\n",
    "timeV = tromy.select(channel=\"*E\")[0].times()\n",
    "\n",
    "tiltV = __tilt_to_sagnac(ns, ew, ring=\"V\")"
   ]
  },
  {
   "cell_type": "code",
   "execution_count": null,
   "id": "07914518-e2e2-410a-896a-a45cff1040db",
   "metadata": {},
   "outputs": [],
   "source": [
    "plt.plot(beatV.times_utc_sec, beatV.fj_reduced)\n",
    "plt.plot(timeV, 50*__reduce(tiltV, 10))\n",
    "\n",
    "plt.ylim(-0.01, 0.01)"
   ]
  },
  {
   "cell_type": "code",
   "execution_count": null,
   "id": "17181ca3-8340-4a4a-9688-cc53b0e79013",
   "metadata": {},
   "outputs": [],
   "source": [
    "def __solve(z, u, v):\n",
    "\n",
    "    from numpy import pi, sqrt, arccos, deg2rad, arcsin, cos, sin, array\n",
    "\n",
    "    # angle in horizontal plane\n",
    "    h_rot = {\"Z\":0, \"U\":0, \"V\":60, \"W\":60}\n",
    "\n",
    "    # angle from vertical\n",
    "    v_rot = {\"Z\":0, \"U\":109.5, \"V\":70.5, \"W\":70.5}\n",
    "\n",
    "    # dip = {\"Z\":0, \"U\":-70.5-180, \"V\":-14, \"W\":-14}\n",
    "\n",
    "    # side length\n",
    "    L = {\"Z\":11.2, \"U\":12, \"V\":12, \"W\":12}\n",
    "\n",
    "    # Scale factor\n",
    "    S = (sqrt(3)*L[ring])/(3*632.8e-9)\n",
    "\n",
    "    # ROMY latitude\n",
    "    lat = deg2rad(48.162941)\n",
    "    lon = deg2rad(11.275501)\n",
    "\n",
    "    # nominal Earth rotation\n",
    "    omegaE = 2*pi/86400 * array([0, 0, 1])\n",
    "\n",
    "    # matrix 1\n",
    "    D = array([[-sin(lat)*cos(lon), -sin(lon), cos(lat)*cos(lon)],\n",
    "               [sin(lat)*sin(lon), cos(lon), cos(lat)*sin(lon)],\n",
    "               [cos(lat), 0, sin(lat)]\n",
    "              ])\n",
    "\n",
    "    # tilt\n",
    "    da = deg2rad(0)\n",
    "    dz = deg2rad(0)\n",
    "\n",
    "    # tilt matrix\n",
    "    R = array([[1, -da, -dz], [da,  1, 0], [dz, 0, 1]])\n",
    "\n",
    "    p1 = deg2rad(v_rot[ring])\n",
    "    p2 = deg2rad(h_rot[ring])\n",
    "\n",
    "    # normal vector of ring\n",
    "    nx = array([[sin(p1)*cos(p2)], [sin(p1)*sin(p2)], [cos(p1)]])\n",
    "\n",
    "    # terms\n",
    "    term1 = cos(v_rot[ring])*sin(lat)\n",
    "    term2 = cos(lat)*sin(v_rot[ring])*cos(h_rot[ring])\n",
    "\n",
    "    # tilt factor\n",
    "    fz = sin(lat)*sin(v_rot[ring])*cos(h_rot[ring]) - cos(v_rot[ring])*cos(lat)\n",
    "    fa = sin(v_rot[ring])*sin(h_rot[ring])*cos(lat)\n",
    "\n",
    "    if data is None:\n",
    "        out = S * ( omegaE @ ( D @ (R @ nx) ) )[0]\n",
    "\n",
    "    else:\n",
    "        if tilt == \"n-s\":\n",
    "            out = ( (data /S /omegaE[2]) - term1 - term2 ) / fz\n",
    "        elif tilt == \"e-w\":\n",
    "            out = ( (data /S /omegaE[2]) - term1 - term2 ) / fa\n",
    "\n",
    "\n",
    "    return out"
   ]
  },
  {
   "cell_type": "code",
   "execution_count": null,
   "id": "4a03909a-45a9-47c4-977a-eb5e4bb3d0c6",
   "metadata": {},
   "outputs": [],
   "source": []
  },
  {
   "cell_type": "code",
   "execution_count": null,
   "id": "1c7ba1b6-8f41-439c-a551-1b2f5b84b490",
   "metadata": {},
   "outputs": [],
   "source": []
  },
  {
   "cell_type": "markdown",
   "id": "f8b05874-632e-49c2-9554-27b4812127b8",
   "metadata": {},
   "source": [
    "## As Stream"
   ]
  },
  {
   "cell_type": "code",
   "execution_count": null,
   "id": "5458dd09-622a-44f8-a834-457ad85787d4",
   "metadata": {},
   "outputs": [],
   "source": [
    "from functions.rotate_romy_ZUV_ZNE import __rotate_romy_ZUV_ZNE"
   ]
  },
  {
   "cell_type": "code",
   "execution_count": null,
   "id": "2ef758e8-4059-43bd-8b3c-9469e1d4d4fb",
   "metadata": {
    "tags": []
   },
   "outputs": [],
   "source": [
    "def __sagnac_to_rads(data, ring):\n",
    "\n",
    "    from numpy import pi, sqrt, arccos, deg2rad, sin, cos\n",
    "\n",
    "    dip = {\"Z\":0, \"U\":109.5, \"V\":70.5, \"W\":70.5}\n",
    "\n",
    "    L = {\"Z\":11.2, \"U\":12, \"V\":12, \"W\":12}\n",
    "\n",
    "    ## Scale factor\n",
    "    S = (sqrt(3)*L[ring])/(3*632.8e-9)\n",
    "\n",
    "    ## ROMY latitude\n",
    "    lat = 48.162941\n",
    "\n",
    "    ## nominal Earth rotation\n",
    "    omegaE = 2*pi/86400\n",
    "\n",
    "    return data /S /sin(deg2rad(lat+dip[ring]))"
   ]
  },
  {
   "cell_type": "code",
   "execution_count": null,
   "id": "01e8f608-78df-4044-8448-1d454a235b85",
   "metadata": {
    "tags": []
   },
   "outputs": [],
   "source": [
    "def __get_stream(dfU, dfV, dfZ, key, c=\"N\", delta=60, rotate=False):\n",
    "\n",
    "    from functions.rotate_romy_ZUV_ZNE import __rotate_romy_ZUV_ZNE\n",
    "\n",
    "    tr_beatU = Trace()\n",
    "    tr_beatU.data = np.array(dfU[key])\n",
    "    tr_beatU.stats.delta = delta\n",
    "    tr_beatU.stats.starttime = UTCDateTime(str(dfU.times_utc.iloc[0]))\n",
    "    tr_beatU.stats.network, tr_beatU.stats.station, tr_beatU.stats.location, tr_beatU.stats.channel = \"BW\", \"ROMY\", \"UU\", f\"LA{c}\"\n",
    "\n",
    "    tr_beatV = Trace()\n",
    "    tr_beatV.data = np.array(dfV[key])\n",
    "    tr_beatV.stats.delta = delta\n",
    "    tr_beatV.stats.starttime = UTCDateTime(str(dfV.times_utc.iloc[0]))\n",
    "    tr_beatV.stats.network, tr_beatV.stats.station, tr_beatV.stats.location, tr_beatV.stats.channel = \"BW\", \"ROMY\", \"VV\", f\"LA{c}\"\n",
    "\n",
    "    tr_beatZ = Trace()\n",
    "    tr_beatZ.data = np.array(dfZ[key])\n",
    "    tr_beatZ.stats.delta = delta\n",
    "    tr_beatZ.stats.starttime = UTCDateTime(str(dfZ.times_utc.iloc[0]))\n",
    "    tr_beatZ.stats.network, tr_beatZ.stats.station, tr_beatZ.stats.location, tr_beatZ.stats.channel = \"BW\", \"ROMY\", \"ZZ\", f\"LA{c}\"\n",
    "\n",
    "    st_tilt = Stream(traces=[tr_beatU, tr_beatV, tr_beatZ])\n",
    "\n",
    "    etime = min(st_tilt[0].stats.endtime, st_tilt[1].stats.endtime, st_tilt[2].stats.endtime)\n",
    "    st_tilt = st_tilt.trim(st_tilt[0].stats.starttime, etime)\n",
    "\n",
    "    # rotate to ZNE system\n",
    "    if rotate:\n",
    "        path_to_inventory = root_path+\"Documents/ROMY/stationxml_ringlaser/dataless/\"\n",
    "\n",
    "        romy_inv = read_inventory(path_to_inventory+\"dataless.seed.BW_ROMY\")\n",
    "\n",
    "        st_tilt = __rotate_romy_ZUV_ZNE(st_tilt, romy_inv)\n",
    "\n",
    "    return st_tilt"
   ]
  },
  {
   "cell_type": "code",
   "execution_count": null,
   "id": "25299c1b-de40-45f3-9561-9b0a795ab957",
   "metadata": {
    "tags": []
   },
   "outputs": [],
   "source": [
    "st_beat = __get_stream(beatU, beatV, beatZ, \"fj_reduced_masked\", rotate=False)"
   ]
  },
  {
   "cell_type": "code",
   "execution_count": null,
   "id": "5095e03b-934c-4691-9345-6293e82b6b21",
   "metadata": {
    "tags": []
   },
   "outputs": [],
   "source": [
    "st_tilt = __get_stream(beatU, beatV, beatZ, \"tilt_ns_reduced_masked\", c=\"N\", rotate=False)\n",
    "st_tilt += __get_stream(beatU, beatV, beatZ, \"tilt_ew_reduced_masked\", c=\"E\", rotate=False)"
   ]
  },
  {
   "cell_type": "code",
   "execution_count": null,
   "id": "c2e0ffcb-bdb0-445a-ac82-f63a835a30c2",
   "metadata": {},
   "outputs": [],
   "source": [
    "st_tilt.plot(equal_scale=False);"
   ]
  },
  {
   "cell_type": "code",
   "execution_count": null,
   "id": "0a7b1c2a-d91b-4c0f-9f17-1eb930bb9736",
   "metadata": {
    "tags": []
   },
   "outputs": [],
   "source": [
    "st_rad = st_beat.copy()\n",
    "\n",
    "for tr in st_rad:\n",
    "    tr.data = __sagnac_to_rads(tr.data, tr.stats.channel[-1])\n",
    "    tr.data = __interpolate_nan(tr.data)\n",
    "\n",
    "st_rad = __rotate_romy_ZUV_ZNE(st_rad, romy_inv)\n",
    "\n",
    "st_rad = st_rad.integrate(method='cumtrapz')\n",
    "# st_rad = st_rad.integrate(method='spline')\n",
    "\n",
    "# import scipy.integrate as integrate\n",
    "# for tr in st_rad:\n",
    "#     tr.data = integrate.quad(tr.data, 0, len(tr.data))\n",
    "\n",
    "\n",
    "st_rad.plot(equal_scale=False);"
   ]
  },
  {
   "cell_type": "code",
   "execution_count": null,
   "id": "bb11a126-6247-4766-b4fa-9f2bd7aa0d53",
   "metadata": {
    "tags": []
   },
   "outputs": [],
   "source": [
    "plt.scatter(tromy.select(channel=\"*E\")[0].data, tromy.select(channel=\"*N\")[0].data, c=tromy.select(channel=\"*E\")[0].times(),s=5)\n",
    "# plt.scatter(st_tilt_zne.select(channel=\"*E\")[0].data, st_tilt_zne.select(channel=\"*N\")[0].data, c=st_tilt_zne.select(channel=\"*E\")[0].times(), s=5)\n",
    "\n",
    "plt.ylim(-1e-6, 1e-6)\n",
    "\n"
   ]
  },
  {
   "cell_type": "code",
   "execution_count": null,
   "id": "1374e032-4887-4f5e-aacc-53214e042353",
   "metadata": {
    "tags": []
   },
   "outputs": [],
   "source": [
    "def __makeplot(_st):\n",
    "\n",
    "    Nrow, Ncol = 2, 1\n",
    "\n",
    "    font = 12\n",
    "\n",
    "    # ref_date = UTCDateTime(str(beatZ.times_utc.iloc[0])[:10])\n",
    "    ref_date = config['tbeg']\n",
    "\n",
    "    time_scaling = 1\n",
    "    tilt_scaling = 1e6\n",
    "\n",
    "    fig, ax = plt.subplots(Nrow, Ncol, figsize=(15, 8), sharex=True)\n",
    "\n",
    "    plt.subplots_adjust(hspace=0.05)\n",
    "\n",
    "    z = st_beat.select(channel=\"*Z\")[0].data\n",
    "    z0 = z[~np.isnan(z)][0]\n",
    "\n",
    "    v = st_beat.select(channel=\"*V\")[0].data\n",
    "    v0 = v[~np.isnan(v)][0]\n",
    "\n",
    "    u = st_beat.select(channel=\"*U\")[0].data\n",
    "    u0 = u[~np.isnan(u)][0]\n",
    "\n",
    "    ax[0].plot(st_beat.select(channel=\"*Z\")[0].times()*time_scaling, (z - z0)/z0,\n",
    "               color=\"tab:blue\", label=f\"RZ (mov. avg. {n_minutes} min)\")\n",
    "    ax[0].plot(st_beat.select(channel=\"*V\")[0].times()*time_scaling, (v - v0)/v0,\n",
    "               color=\"tab:red\", label=f\"RV (mov. avg. {n_minutes} min)\")\n",
    "    ax[0].plot(st_beat.select(channel=\"*U\")[0].times()*time_scaling, (u - u0)/u0,\n",
    "               color=\"tab:green\", label=f\"RU (mov. avg. {n_minutes} min)\")\n",
    "\n",
    "    ax[0].ticklabel_format(useOffset=False)\n",
    "    # ax[0].set_ylabel(\"$\\Delta$f (Hz)\", fontsize=font)\n",
    "    ax[0].set_ylabel(\"($\\delta$f - fo) / fo\", fontsize=font)\n",
    "\n",
    "\n",
    "    ax[1].plot(_st.select(channel=\"*Z\")[0].times()*time_scaling,\n",
    "               _st.select(channel=\"*Z\")[0].data*tilt_scaling,\n",
    "               color=\"tab:blue\", label=f\"RZ\")\n",
    "    try:\n",
    "        ax[1].plot(_st.select(channel=\"*N\")[0].times()*time_scaling,\n",
    "                   _st.select(channel=\"*N\")[0].data*tilt_scaling,\n",
    "                   color=\"tab:green\", label=f\"RN\")\n",
    "        ax[1].plot(_st.select(channel=\"*E\")[0].times()*time_scaling,\n",
    "                   _st.select(channel=\"*E\")[0].data*tilt_scaling,\n",
    "                   color=\"tab:red\", label=f\"RE\")\n",
    "    except:\n",
    "        ax[1].plot(_st.select(channel=\"*U\")[0].times()*time_scaling,\n",
    "                   _st.select(channel=\"*U\")[0].data*tilt_scaling,\n",
    "                   color=\"tab:green\", label=f\"RU\")\n",
    "        ax[1].plot(_st.select(channel=\"*V\")[0].times()*time_scaling,\n",
    "                   _st.select(channel=\"*V\")[0].data*tilt_scaling,\n",
    "                   color=\"tab:red\", label=f\"RV\")\n",
    "\n",
    "    ax[1].set_ylabel(\"N-S Tilt ($\\mu$rad)\", fontsize=font)\n",
    "\n",
    "    for _n in range(Nrow):\n",
    "        ax[_n].grid(ls=\":\", zorder=0)\n",
    "        ax[_n].legend(loc=1)\n",
    "\n",
    "    # ax[0].set_ylim(-0.04, 0.04)\n",
    "\n",
    "    ## add dates to x-axis\n",
    "    tcks = ax[Nrow-1].get_xticks()\n",
    "    tcklbls = [str(UTCDateTime(ref_date+t).date) for t in tcks]\n",
    "    ax[Nrow-1].set_xticklabels(tcklbls)\n",
    "\n",
    "    for _k, ll in enumerate(['(a)', '(b)']):\n",
    "        ax[_k].text(.005, .97, ll, ha='left', va='top', transform=ax[_k].transAxes, fontsize=font+2)\n",
    "\n",
    "    plt.show();\n",
    "    return fig\n",
    "\n",
    "fig = __makeplot(st_tilt);\n",
    "\n",
    "# fig.savefig(config['path_to_figs']+f\"BeatDrift_Case{case}_smoothed_asTilt.png\", format=\"png\", dpi=150, bbox_inches='tight')\n"
   ]
  },
  {
   "cell_type": "code",
   "execution_count": null,
   "id": "c2a367ad-ea64-4114-b9cc-b471ce0c9490",
   "metadata": {
    "tags": []
   },
   "outputs": [],
   "source": [
    "def __get_vector_movement(N, E, Twin=3600, ref_date=None, plot=False):\n",
    "\n",
    "    from numpy import median, sqrt, arctan, degrees, mod, array, append, rad2deg, nan, ma, deg2rad\n",
    "\n",
    "    dt = N[0].stats.delta\n",
    "    t1 = 0\n",
    "\n",
    "    Ndata = N[0].data\n",
    "    Edata = E[0].data\n",
    "\n",
    "    if ma.is_masked(Ndata):\n",
    "        Ndata = ma.filled(Ndata, fill_value=nan)\n",
    "    if ma.is_masked(Edata):\n",
    "        Edata = ma.filled(Edata, fill_value=nan)\n",
    "\n",
    "    vnorm, vdir, timeline = [], [], []\n",
    "    while (t1 + Twin) < N[0].stats.npts*dt:\n",
    "\n",
    "        Nmed = median(Ndata[int(t1/dt):int((t1+Twin)/dt)])\n",
    "        Emed = median(Edata[int(t1/dt):int((t1+Twin)/dt)])\n",
    "\n",
    "\n",
    "        vnorm.append(sqrt(Nmed**2 + Emed**2))\n",
    "\n",
    "        if Nmed > 0 and Emed > 0:\n",
    "            vdir.append(90-abs(rad2deg(arctan(abs(Nmed/Emed)))))\n",
    "\n",
    "        elif Nmed < 0 and Emed > 0:\n",
    "            vdir.append(90+abs(rad2deg(arctan(abs(Nmed/Emed)))))\n",
    "\n",
    "        elif Nmed < 0 and Emed < 0:\n",
    "            vdir.append(270-abs(rad2deg(arctan(abs(Nmed/Emed)))))\n",
    "\n",
    "        elif Nmed > 0 and Emed < 0:\n",
    "            vdir.append(270+abs(rad2deg(arctan(abs(Nmed/Emed)))))\n",
    "\n",
    "        else:\n",
    "            vdir.append(nan)\n",
    "\n",
    "        t1 += Twin/2\n",
    "\n",
    "        timeline.append(t1)\n",
    "\n",
    "    if ref_date:\n",
    "        time_offset = abs(UTCDateTime(ref_date) - N[0].stats.starttime)\n",
    "    else:\n",
    "        time_offset = 0\n",
    "\n",
    "    vnorm = array(vnorm)\n",
    "    vdir = array(vdir)\n",
    "    timeline = (array(timeline) + time_offset)/3600 ## in hours\n",
    "\n",
    "\n",
    "    ## Plotting ------------------------------------\n",
    "    if plot:\n",
    "\n",
    "        from numpy import deg2rad, arange, linspace\n",
    "        import matplotlib.pyplot as plt\n",
    "\n",
    "        vnorm = vnorm\n",
    "        vdirection = vdir\n",
    "\n",
    "        ## times to days\n",
    "        times = timeline /24\n",
    "\n",
    "        time_min = min(times)\n",
    "        time_max = max(times)\n",
    "\n",
    "        ## Plot --------------------------------------------------------------------------\n",
    "        fig, ax = plt.subplots(1, 1, subplot_kw=dict(projection='polar'), figsize=(5, 5))\n",
    "\n",
    "        font = 12\n",
    "\n",
    "        cmap = plt.get_cmap('viridis')\n",
    "\n",
    "        vscaling, vunit = 1e3, \"mrad\"\n",
    "\n",
    "        ## convert degrees to radians for plotting as polar!\n",
    "        p0 = ax.scatter(deg2rad(vdirection), vnorm*vscaling, c=times, cmap=cmap,\n",
    "                        vmin=time_min, vmax=time_max, alpha=0.75, s=4, zorder=2)\n",
    "\n",
    "        cbar = plt.colorbar(p0, ax=ax,  pad=0.1, orientation='vertical', fraction=0.1, shrink=.8)\n",
    "\n",
    "        if ref_date:\n",
    "            cbar.set_label('Time (days)', rotation=90, fontsize=font, labelpad=10)\n",
    "        else:\n",
    "            cbar.set_label(f'Time from {ref_date} (days)', rotation=90, fontsize=font, labelpad=10)\n",
    "\n",
    "        ## set new colorbar ticks\n",
    "        # ref_time = config['tbeg']\n",
    "        # nticks = [str((ref_time+time_min+t*86400).date) for t in cbar.get_ticks()]\n",
    "        # cbar.set_ticklabels(nticks)\n",
    "\n",
    "        vmax = round(max(vnorm*vscaling) * 1.1, 0)\n",
    "\n",
    "        ax.set_ylim(0, vmax)\n",
    "        ax.set_theta_zero_location('N')\n",
    "        ax.set_theta_direction(-1)\n",
    "\n",
    "        ax.text(deg2rad(25), vmax*1.2, f\"({vunit})\")\n",
    "        ax.set_rgrids(linspace(0., vmax, 5), angle=25., zorder=0)\n",
    "\n",
    "        ax.set_title(\"Tilt of ROMY structure\", fontsize=font)\n",
    "\n",
    "        plt.show();\n",
    "\n",
    "    return timeline, vdir, vnorm"
   ]
  },
  {
   "cell_type": "code",
   "execution_count": null,
   "id": "e315e1a0-86b6-4c53-a788-68239799590a",
   "metadata": {
    "tags": []
   },
   "outputs": [],
   "source": [
    "def __makeplot_normal_vector_movement(times, vdirection, vnorm, ref_date=None):\n",
    "\n",
    "    from numpy import deg2rad, arange, linspace\n",
    "    import matplotlib.pyplot as plt\n",
    "\n",
    "    ## times to days\n",
    "    times = times /24\n",
    "\n",
    "    time_min = min(times)\n",
    "    time_max = max(times)\n",
    "\n",
    "    ## Plot --------------------------------------------------------------------------\n",
    "    fig, ax = plt.subplots(1, 1, subplot_kw=dict(projection='polar'), figsize=(5, 5))\n",
    "\n",
    "    font = 12\n",
    "\n",
    "    cmap = plt.get_cmap('viridis')\n",
    "\n",
    "    vscaling, vunit = 1e3, \"mrad\"\n",
    "\n",
    "    ## convert degrees to radians for plotting as polar!\n",
    "    p0 = ax.scatter(deg2rad(vdirection), vnorm*vscaling, c=times, cmap=cmap,\n",
    "                    vmin=time_min, vmax=time_max, alpha=0.75, s=4, zorder=2)\n",
    "\n",
    "    cbar = plt.colorbar(p0, ax=ax,  pad=0.1, orientation='vertical', fraction=0.1, shrink=.8)\n",
    "\n",
    "    if ref_date is not None:\n",
    "        cbar.set_label('Time (days)', rotation=90, fontsize=font, labelpad=10)\n",
    "    else:\n",
    "        cbar.set_label(f'Time from {ref_date} (days)', rotation=90, fontsize=font, labelpad=10)\n",
    "\n",
    "    ## set new colorbar ticks\n",
    "    # ref_time = config['tbeg']\n",
    "    # nticks = [str((ref_time+time_min+t*86400).date) for t in cbar.get_ticks()]\n",
    "    # cbar.set_ticklabels(nticks)\n",
    "\n",
    "    vmax = round(max(vnorm*vscaling) * 1.1, 0)\n",
    "\n",
    "    ax.set_ylim(0, vmax)\n",
    "    ax.set_theta_zero_location('N')\n",
    "    ax.set_theta_direction(-1)\n",
    "\n",
    "    ax.text(deg2rad(25), vmax*1.2, f\"({vunit})\")\n",
    "    ax.set_rgrids(linspace(0., vmax, 5), angle=25., zorder=0)\n",
    "\n",
    "    ax.set_title(\"Tilt of ROMY structure\", fontsize=font)\n",
    "\n",
    "    plt.show();\n",
    "    return fig"
   ]
  },
  {
   "cell_type": "code",
   "execution_count": null,
   "id": "d8a7aaed-f616-4d32-bdb6-838ca633bccc",
   "metadata": {
    "tags": []
   },
   "outputs": [],
   "source": [
    "twindow = 3600  # seconds\n",
    "\n",
    "ttimes, vector_direction, vector_norm = __get_vector_movement(st_rad.select(channel=\"*N\"),\n",
    "                                                              st_rad.select(channel=\"*E\"),\n",
    "                                                              Twin=twindow,\n",
    "                                                              plot=False,\n",
    "                                                              )\n"
   ]
  },
  {
   "cell_type": "code",
   "execution_count": null,
   "id": "a33449c4-7229-49a5-8a8e-6a5c0d2fc335",
   "metadata": {
    "tags": []
   },
   "outputs": [],
   "source": [
    "fig = __makeplot_normal_vector_movement(ttimes, vector_direction, vector_norm, ref_date=st_rad[0].stats.starttime.date)\n",
    "\n",
    "# fig.savefig(config['path_to_figs']+f\"BeatDrift_Case{case}_vector_movement.png\", format=\"png\", dpi=150, bbox_inches='tight')\n"
   ]
  },
  {
   "cell_type": "markdown",
   "id": "82d6c8a6-bfe3-495d-8b7e-c3ace6889d19",
   "metadata": {
    "tags": []
   },
   "source": [
    "## Tides"
   ]
  },
  {
   "cell_type": "code",
   "execution_count": null,
   "id": "39fc595a-d39f-4adc-9985-72418627d390",
   "metadata": {
    "tags": []
   },
   "outputs": [],
   "source": [
    "st_beat_zne_tide = st_beat_zne.copy();\n",
    "\n",
    "for tr in st_beat_zne_tide:\n",
    "    tr.data = __interpolate_nan(tr.data)\n",
    "\n",
    "## daily\n",
    "# f1 = 1/(25*3600)\n",
    "# f2 = 1/(23*3600)\n",
    "\n",
    "## sub-daily\n",
    "f1 = 1/(13*3600)\n",
    "f2 = 1/(11*3600)\n",
    "\n",
    "st_beat_zne_tide.detrend(\"linear\")\n",
    "st_beat_zne_tide.taper(0.1)\n",
    "st_beat_zne_tide.filter(\"bandpass\", freqmin=f1, freqmax=f2, corners=4, zerophase=True)\n",
    "\n",
    "st_beat_zne_tide.plot(equal_scale=False);\n"
   ]
  },
  {
   "cell_type": "markdown",
   "id": "58348741-b954-41d0-9a7b-8ec302ecddb5",
   "metadata": {
    "jp-MarkdownHeadingCollapsed": true,
    "tags": []
   },
   "source": [
    "### Load Tilt Data"
   ]
  },
  {
   "cell_type": "code",
   "execution_count": null,
   "id": "2ed496b4-edd0-4061-b1e2-485b7034c5f5",
   "metadata": {
    "tags": []
   },
   "outputs": [],
   "source": [
    "from andbro__read_sds import __read_sds\n",
    "from andbro__readYaml import __readYaml\n",
    "from functions.conversion_to_tilt import __conversion_to_tilt"
   ]
  },
  {
   "cell_type": "code",
   "execution_count": null,
   "id": "3e07ce94-ed5a-40db-8bc8-70897bca1add",
   "metadata": {
    "tags": []
   },
   "outputs": [],
   "source": [
    "path_to_tilt = data_path+\"TiltmeterDataBackup/Tilt_downsampled/\"\n",
    "path_to_tilt = archive_path+\"romy_archive/\"\n",
    "\n",
    "# sta, cha, name = \"TROMY\", \"MA\", \"TROMY\"\n",
    "sta, cha, name = \"DROMY\", \"LA\", \"BROMY\"\n",
    "\n",
    "tilt =  __read_sds(path_to_tilt, f\"BW.{sta}..{cha}T\", config['tbeg']-600, config['tend']+600)\n",
    "tilt += __read_sds(path_to_tilt, f\"BW.{sta}..{cha}N\", config['tbeg']-600, config['tend']+600)\n",
    "tilt += __read_sds(path_to_tilt, f\"BW.{sta}..{cha}E\", config['tbeg']-600, config['tend']+600)\n",
    "\n",
    "## tiltmeter configurations\n",
    "confTilt = __readYaml(root_path+\"Documents/ROMY/tiltmeter/\", \"tiltmeter.conf\")\n",
    "\n",
    "tilt = __conversion_to_tilt(tilt, confTilt[f'{name}'])\n",
    "\n",
    "tilt = tilt.trim(config['tbeg'], config['tend'])\n",
    "\n",
    "tilt.plot(equal_scale=False);\n",
    "\n",
    "gc.collect();"
   ]
  },
  {
   "cell_type": "code",
   "execution_count": null,
   "id": "7bd79f50-749d-4d9c-80da-548eb226dc7d",
   "metadata": {
    "tags": []
   },
   "outputs": [],
   "source": [
    "tides = Stream()\n",
    "\n",
    "tides += st_rad.copy()\n",
    "tides += tilt.copy()\n",
    "\n",
    "tides = tides.resample(0.005, no_filter=False);\n",
    "\n",
    "# f1, f2 = 1/(15*3600), 1/(11*3600)\n",
    "# f1, f2 = 1/(25*3600), 1/(23*3600)\n",
    "\n",
    "# tides = tides.detrend(\"simple\")\n",
    "# tides = tides.taper(0.01)\n",
    "# tides = tides.filter(\"bandpass\", freqmin=f1, freqmax=f2, corners=4, zerophase=True)\n",
    "\n",
    "# tides.merge();\n",
    "\n",
    "tides.plot(equal_scale=False);"
   ]
  },
  {
   "cell_type": "code",
   "execution_count": null,
   "id": "c3d6a5af-2299-4e4f-a66e-05e30f7850eb",
   "metadata": {
    "tags": []
   },
   "outputs": [],
   "source": [
    "def __makeplot_tides():\n",
    "\n",
    "\n",
    "    f1_subdaily, f2_subdaily = 1/(13*3600), 1/(11*3600)\n",
    "\n",
    "    f1_daily, f2_daily = 1/(25*3600), 1/(23*3600)\n",
    "\n",
    "    _detrend=\"simple\"\n",
    "    _taper = 0.05\n",
    "    corners = 2\n",
    "\n",
    "    tiltmeter=\"TROMY\"\n",
    "\n",
    "    tides_daily = tides.copy()\n",
    "    tides_daily = tides_daily.detrend(_detrend)\n",
    "    tides_daily = tides_daily.taper(_taper, type=\"cosine\")\n",
    "    tides_daily = tides_daily.filter(\"bandpass\", freqmin=f1_daily, freqmax=f2_daily, corners=corners, zerophase=False)\n",
    "    # tides_daily = tides_daily.filter(\"bandpass\", freqmin=f1_daily, freqmax=f2_daily, corners=corners, zerophase=True)\n",
    "\n",
    "    tides_subdaily = tides.copy()\n",
    "    tides_subdaily = tides_subdaily.detrend(_detrend)\n",
    "    tides_subdaily = tides_subdaily.taper(_taper, type=\"cosine\")\n",
    "    tides_subdaily = tides_subdaily.filter(\"bandpass\", freqmin=f1_subdaily, freqmax=f2_subdaily, corners=corners, zerophase=False)\n",
    "    # tides_subdaily = tides_subdaily.filter(\"bandpass\", freqmin=f1_subdaily, freqmax=f2_subdaily, corners=corners, zerophase=True)\n",
    "\n",
    "\n",
    "    Nrow, Ncol = 2, 2\n",
    "\n",
    "    font = 12\n",
    "\n",
    "    time_scaling, time_unit = 1/86400, \"days\"\n",
    "    tilt_scaling, tilt_unit = 1e9, \"nrad\"\n",
    "\n",
    "    ref_time = config['tbeg']-86400\n",
    "\n",
    "    fig, ax = plt.subplots(Nrow, Ncol, figsize=(15, 8), sharex=True)\n",
    "\n",
    "    plt.subplots_adjust(hspace=0.1)\n",
    "\n",
    "    ax[0,0].plot(tides_subdaily.select(station=tiltmeter, channel=\"*N\")[0].times(reftime=ref_time)*time_scaling,\n",
    "                 tides_subdaily.select(station=tiltmeter, channel=\"*N\")[0].data*tilt_scaling,\n",
    "                 color=\"black\", label=f\"N-S {tiltmeter}\", lw=1)\n",
    "\n",
    "    ax[1,0].plot(tides_subdaily.select(station=tiltmeter, channel=\"*E\")[0].times(reftime=ref_time)*time_scaling,\n",
    "                 tides_subdaily.select(station=tiltmeter, channel=\"*E\")[0].data*tilt_scaling,\n",
    "                 color=\"black\", label=f\"E-W {tiltmeter}\", lw=1)\n",
    "\n",
    "    ax[0,1].plot(tides_daily.select(station=tiltmeter, channel=\"*N\")[0].times(reftime=ref_time)*time_scaling,\n",
    "                 tides_daily.select(station=tiltmeter, channel=\"*N\")[0].data*tilt_scaling,\n",
    "                 color=\"black\", label=f\"N-S {tiltmeter}\", lw=1)\n",
    "\n",
    "    ax[1,1].plot(tides_daily.select(station=tiltmeter, channel=\"*E\")[0].times(reftime=ref_time)*time_scaling,\n",
    "                 tides_daily.select(station=tiltmeter, channel=\"*E\")[0].data*tilt_scaling,\n",
    "                 color=\"black\", label=f\"E-W {tiltmeter}\", lw=1)\n",
    "\n",
    "    ax00 = ax[0,0].twinx()\n",
    "    ax10 = ax[1,0].twinx()\n",
    "    ax01 = ax[0,1].twinx()\n",
    "    ax11 = ax[1,1].twinx()\n",
    "\n",
    "\n",
    "    ax00.plot(tides_subdaily.select(station=\"ROMY\", channel=\"*N\")[0].times(reftime=ref_time)*time_scaling,\n",
    "                 tides_subdaily.select(station=\"ROMY\", channel=\"*N\")[0].data*tilt_scaling,\n",
    "                 color=\"darkred\", label=\"N-S (ring)\", lw=1)\n",
    "\n",
    "    ax10.plot(tides_subdaily.select(station=\"ROMY\", channel=\"*E\")[0].times(reftime=ref_time)*time_scaling,\n",
    "                 tides_subdaily.select(station=\"ROMY\", channel=\"*E\")[0].data*tilt_scaling,\n",
    "                 color=\"darkred\", label=\"E-W (ring)\", lw=1)\n",
    "\n",
    "    ax01.plot(tides_daily.select(station=\"ROMY\", channel=\"*N\")[0].times(reftime=ref_time)*time_scaling,\n",
    "                 tides_daily.select(station=\"ROMY\", channel=\"*N\")[0].data*tilt_scaling,\n",
    "                 color=\"darkred\", label=\"N-S (ring)\", lw=1)\n",
    "\n",
    "    ax11.plot(tides_daily.select(station=\"ROMY\", channel=\"*E\")[0].times(reftime=ref_time)*time_scaling,\n",
    "                 tides_daily.select(station=\"ROMY\", channel=\"*E\")[0].data*tilt_scaling,\n",
    "                 color=\"darkred\", label=\"E-W (ring)\", lw=1)\n",
    "\n",
    "\n",
    "    ax[0,0].set_ylabel(f\"Tilt ({tilt_unit})\", fontsize=font)\n",
    "    ax[1,0].set_ylabel(f\"Tilt ({tilt_unit})\", fontsize=font)\n",
    "    ax01.set_ylabel(f\"Tilt ({tilt_unit})\", fontsize=font, color=\"darkred\")\n",
    "    ax11.set_ylabel(f\"Tilt ({tilt_unit})\", fontsize=font, color=\"darkred\")\n",
    "\n",
    "    ax[1,0].set_xlabel(f\"Time (days) from {config['tbeg'].date} {config['tbeg'].time} UTC\", fontsize=font)\n",
    "    ax[1,1].set_xlabel(f\"Time (days) from {config['tbeg'].date} {config['tbeg'].time} UTC\", fontsize=font)\n",
    "\n",
    "    ax[0,0].set_ylim(-60, 60)\n",
    "    ax[0,1].set_ylim(-40, 40)\n",
    "    ax[1,0].set_ylim(-100, 100)\n",
    "    ax[1,1].set_ylim(-50, 50)\n",
    "\n",
    "    ax[0,0].set_title(f\"T={round(1/f2_subdaily/3600,1)} - {round(1/f1_subdaily/3600,1)}h\", fontsize=font+1)\n",
    "    ax[0,1].set_title(f\"T={round(1/f2_daily/3600,1)} - {round(1/f1_daily/3600,1)}h\", fontsize=font+1)\n",
    "\n",
    "    ticks = []\n",
    "    for _i in range(Nrow):\n",
    "        for _j in range(Ncol):\n",
    "            ax[_i,_j].grid(ls=\":\", zorder=0)\n",
    "            ax[_i,_j].legend(loc=1)\n",
    "            ticks.append(ax[_i,_j].get_yticks())\n",
    "\n",
    "\n",
    "    for ax in [ax00, ax10, ax01, ax11]:\n",
    "        ax.tick_params(axis='y', colors='darkred')\n",
    "        ax.legend(loc=4)\n",
    "\n",
    "    ax00.set_yticks(np.linspace(ax00.get_yticks()[0], ax00.get_yticks()[-1], len(ticks[0])))\n",
    "    ax10.set_yticks(np.linspace(ax10.get_yticks()[0], ax10.get_yticks()[-1], len(ticks[2])))\n",
    "    ax01.set_yticks(np.linspace(ax01.get_yticks()[0], ax01.get_yticks()[-1], len(ticks[1])))\n",
    "    ax11.set_yticks(np.linspace(ax11.get_yticks()[0], ax11.get_yticks()[-1], len(ticks[3])))\n",
    "\n",
    "\n",
    "#     ## add dates to x-axis\n",
    "#     ref_date = UTCDateTime(config['tbeg'])\n",
    "#     tcks = ax[Nrow-1].get_xticks()\n",
    "#     tcklbls = [str(UTCDateTime(ref_date+t).date) for t in tcks]\n",
    "#     ax[Nrow-1].set_xticklabels(tcklbls)\n",
    "\n",
    "    plt.show();\n",
    "    return fig\n",
    "\n",
    "fig = __makeplot_tides();\n",
    "\n"
   ]
  },
  {
   "cell_type": "code",
   "execution_count": null,
   "id": "4916ad4d-1127-4c3a-ada8-e927db2e8b0a",
   "metadata": {},
   "outputs": [],
   "source": []
  }
 ],
 "metadata": {
  "kernelspec": {
   "display_name": "Python 3 (ipykernel)",
   "language": "python",
   "name": "python3"
  },
  "language_info": {
   "codemirror_mode": {
    "name": "ipython",
    "version": 3
   },
   "file_extension": ".py",
   "mimetype": "text/x-python",
   "name": "python",
   "nbconvert_exporter": "python",
   "pygments_lexer": "ipython3",
   "version": "3.10.12"
  },
  "latex_envs": {
   "LaTeX_envs_menu_present": true,
   "autoclose": false,
   "autocomplete": true,
   "bibliofile": "biblio.bib",
   "cite_by": "apalike",
   "current_citInitial": 1,
   "eqLabelWithNumbers": true,
   "eqNumInitial": 1,
   "hotkeys": {
    "equation": "Ctrl-E",
    "itemize": "Ctrl-I"
   },
   "labels_anchors": false,
   "latex_user_defs": false,
   "report_style_numbering": false,
   "user_envs_cfg": false
  },
  "toc": {
   "base_numbering": 1,
   "nav_menu": {},
   "number_sections": true,
   "sideBar": true,
   "skip_h1_title": false,
   "title_cell": "Table of Contents",
   "title_sidebar": "Contents",
   "toc_cell": false,
   "toc_position": {},
   "toc_section_display": true,
   "toc_window_display": false
  },
  "varInspector": {
   "cols": {
    "lenName": 16,
    "lenType": 16,
    "lenVar": 40
   },
   "kernels_config": {
    "python": {
     "delete_cmd_postfix": "",
     "delete_cmd_prefix": "del ",
     "library": "var_list.py",
     "varRefreshCmd": "print(var_dic_list())"
    },
    "r": {
     "delete_cmd_postfix": ") ",
     "delete_cmd_prefix": "rm(",
     "library": "var_list.r",
     "varRefreshCmd": "cat(var_dic_list()) "
    }
   },
   "types_to_exclude": [
    "module",
    "function",
    "builtin_function_or_method",
    "instance",
    "_Feature"
   ],
   "window_display": false
  }
 },
 "nbformat": 4,
 "nbformat_minor": 5
}
