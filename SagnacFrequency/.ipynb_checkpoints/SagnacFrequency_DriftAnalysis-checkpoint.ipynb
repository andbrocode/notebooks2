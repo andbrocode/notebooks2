{
 "cells": [
  {
   "cell_type": "markdown",
   "id": "extensive-movement",
   "metadata": {},
   "source": [
    "## Sagnac Frequency - Drift Analysis"
   ]
  },
  {
   "cell_type": "markdown",
   "id": "noted-resort",
   "metadata": {
    "ExecuteTime": {
     "end_time": "2021-02-19T15:09:20.288504Z",
     "start_time": "2021-02-19T15:09:20.284413Z"
    }
   },
   "source": [
    "### Import Libraries"
   ]
  },
  {
   "cell_type": "code",
   "execution_count": 7,
   "id": "animal-despite",
   "metadata": {
    "ExecuteTime": {
     "end_time": "2023-06-09T17:46:49.916268Z",
     "start_time": "2023-06-09T17:46:45.944843Z"
    }
   },
   "outputs": [
    {
     "data": {
      "application/javascript": [
       "IPython.notebook.set_autosave_interval(120000)"
      ]
     },
     "metadata": {},
     "output_type": "display_data"
    },
    {
     "name": "stdout",
     "output_type": "stream",
     "text": [
      "Autosaving every 120 seconds\n"
     ]
    }
   ],
   "source": [
    "%autosave 120\n",
    "\n",
    "import os\n",
    "import yaml\n",
    "import matplotlib.pyplot as plt\n",
    "\n",
    "from pandas import read_csv, DataFrame, date_range\n",
    "from obspy import UTCDateTime, read, Stream\n",
    "from numpy import nanmean, zeros, ones, nanmedian\n",
    "\n",
    "from andbro__readYaml import __readYaml\n",
    "from andbro__savefig import __savefig\n",
    "\n",
    "from andbro__querrySeismoData import __querrySeismoData"
   ]
  },
  {
   "cell_type": "code",
   "execution_count": 6,
   "id": "6b386714",
   "metadata": {
    "ExecuteTime": {
     "end_time": "2023-06-09T17:46:49.919650Z",
     "start_time": "2023-06-09T17:46:49.917361Z"
    }
   },
   "outputs": [],
   "source": [
    "if os.uname().nodename == \"lighthouse\":\n",
    "    root_path = \"/home/andbro/\"\n",
    "    data_path = \"/home/andbro/kilauea-data/\"\n",
    "    archive_path = \"/home/andbro/freenas/\"\n",
    "elif os.uname().nodename == \"kilauea\":\n",
    "    root_path = \"/home/brotzer/\"\n",
    "    data_path = \"/import/kilauea-data/\"\n",
    "    archive_path = \"/import/freenas-ffb-01-data/\""
   ]
  },
  {
   "cell_type": "markdown",
   "id": "mounted-throat",
   "metadata": {},
   "source": [
    "### Define Functions"
   ]
  },
  {
   "cell_type": "code",
   "execution_count": 10,
   "id": "99c89a4d",
   "metadata": {
    "ExecuteTime": {
     "end_time": "2023-06-09T17:46:49.933975Z",
     "start_time": "2023-06-09T17:46:49.920819Z"
    },
    "code_folding": [
     0
    ]
   },
   "outputs": [],
   "source": [
    "from functions.smoothing import __smooth\n",
    "from functions.load_sagnac_beat_data import __load_sagnac_beat_data"
   ]
  },
  {
   "cell_type": "markdown",
   "id": "clean-hacker",
   "metadata": {},
   "source": [
    "## Configurations"
   ]
  },
  {
   "cell_type": "code",
   "execution_count": 11,
   "id": "d21146f6",
   "metadata": {
    "ExecuteTime": {
     "end_time": "2023-06-09T17:46:49.984701Z",
     "start_time": "2023-06-09T17:46:49.934994Z"
    },
    "code_folding": []
   },
   "outputs": [],
   "source": [
    "## configurations\n",
    "config={}\n",
    "\n",
    "config['save'] = False\n",
    "\n",
    "config['ring'] = \"Z\"\n",
    "\n",
    "## get 'raw' data from romy archive\n",
    "# config['datapath'] = f\"{archive_path}/romy_archive\"\n",
    "\n",
    "## get downsampled data\n",
    "config['datapath'] = f\"{data_path}TiltmeterDataBackup/Tilt_downsampled\"\n",
    "\n",
    "## time selection\n",
    "config['tbeg'] = UTCDateTime(\"2022-01-01 00:00\")\n",
    "config['tend'] = UTCDateTime(\"2022-06-12 00:00\")\n",
    "\n",
    "## specify output directory for figures\n",
    "config['output_figures'] = f\"{root_path}Documents/ROMY/tiltmeter/figures/\"\n",
    "config['output_figures'] = root_path+\"Documents/LMU_Docs/GRM2023/Poster/\"\n",
    "\n",
    "## indicate path to wromy data\n",
    "config['path_to_furt'] = f\"{data_path}wromy/\"\n",
    "config['path_to_wromy'] = f\"{archive_path}romy_archive/\"\n",
    "\n",
    "\n",
    "config['path_to_tilt'] = f\"{data_path}TiltmeterDataBackup/\"\n",
    "\n",
    "config['path_to_sagnac'] = f\"{data_path}sagnac_frequency/hilbert_60_RZ/\""
   ]
  },
  {
   "cell_type": "markdown",
   "id": "2d2c4135",
   "metadata": {
    "ExecuteTime": {
     "end_time": "2022-12-08T15:05:50.694281Z",
     "start_time": "2022-12-08T15:05:50.692577Z"
    }
   },
   "source": [
    "## Load Data"
   ]
  },
  {
   "cell_type": "markdown",
   "id": "1a9c6f6e",
   "metadata": {},
   "source": [
    "### Load ROMY Saganac Frequency"
   ]
  },
  {
   "cell_type": "code",
   "execution_count": 18,
   "id": "14d4d2d8",
   "metadata": {
    "ExecuteTime": {
     "end_time": "2023-06-09T17:46:49.999812Z",
     "start_time": "2023-06-09T17:46:49.985682Z"
    },
    "code_folding": [
     0
    ]
   },
   "outputs": [],
   "source": [
    "def __load_beat(config, path_to_data):\n",
    "\n",
    "    from datetime import date\n",
    "    from pandas import read_pickle, concat\n",
    "\n",
    "    t1 = date.fromisoformat(str(config['tbeg'].date))\n",
    "    t2 = date.fromisoformat(str(config['tend'].date))\n",
    "\n",
    "    df = DataFrame()\n",
    "    for dat in date_range(t1,t2):\n",
    "        file = str(dat)[:10].replace(\"-\",\"\")+\".pkl\"\n",
    "        try:\n",
    "            df0 = read_pickle(path_to_data+file)\n",
    "            df = concat([df, df0])\n",
    "        except:\n",
    "            print(f\"error for {file}\")\n",
    "\n",
    "    return df"
   ]
  },
  {
   "cell_type": "code",
   "execution_count": 19,
   "id": "02776adc",
   "metadata": {
    "ExecuteTime": {
     "end_time": "2023-06-09T17:46:50.470280Z",
     "start_time": "2023-06-09T17:46:50.000819Z"
    }
   },
   "outputs": [
    {
     "name": "stdout",
     "output_type": "stream",
     "text": [
      "error for 20220101.pkl\n",
      "error for 20220102.pkl\n",
      "error for 20220103.pkl\n",
      "error for 20220104.pkl\n",
      "error for 20220105.pkl\n",
      "error for 20220106.pkl\n",
      "error for 20220107.pkl\n",
      "error for 20220108.pkl\n",
      "error for 20220109.pkl\n",
      "error for 20220110.pkl\n",
      "error for 20220111.pkl\n",
      "error for 20220112.pkl\n",
      "error for 20220113.pkl\n",
      "error for 20220114.pkl\n",
      "error for 20220115.pkl\n",
      "error for 20220116.pkl\n",
      "error for 20220117.pkl\n",
      "error for 20220118.pkl\n",
      "error for 20220119.pkl\n",
      "error for 20220120.pkl\n",
      "error for 20220121.pkl\n",
      "error for 20220122.pkl\n",
      "error for 20220123.pkl\n",
      "error for 20220124.pkl\n",
      "error for 20220125.pkl\n",
      "error for 20220126.pkl\n",
      "error for 20220127.pkl\n",
      "error for 20220128.pkl\n",
      "error for 20220129.pkl\n",
      "error for 20220130.pkl\n",
      "error for 20220131.pkl\n",
      "error for 20220201.pkl\n",
      "error for 20220202.pkl\n",
      "error for 20220203.pkl\n",
      "error for 20220204.pkl\n",
      "error for 20220205.pkl\n",
      "error for 20220206.pkl\n",
      "error for 20220207.pkl\n",
      "error for 20220208.pkl\n",
      "error for 20220209.pkl\n",
      "error for 20220210.pkl\n",
      "error for 20220211.pkl\n",
      "error for 20220212.pkl\n",
      "error for 20220213.pkl\n",
      "error for 20220214.pkl\n",
      "error for 20220215.pkl\n",
      "error for 20220216.pkl\n",
      "error for 20220217.pkl\n",
      "error for 20220218.pkl\n",
      "error for 20220219.pkl\n",
      "error for 20220220.pkl\n",
      "error for 20220221.pkl\n",
      "error for 20220222.pkl\n",
      "error for 20220223.pkl\n",
      "error for 20220224.pkl\n",
      "error for 20220225.pkl\n",
      "error for 20220226.pkl\n",
      "error for 20220227.pkl\n",
      "error for 20220228.pkl\n",
      "error for 20220301.pkl\n",
      "error for 20220302.pkl\n",
      "error for 20220303.pkl\n",
      "error for 20220304.pkl\n",
      "error for 20220305.pkl\n",
      "error for 20220306.pkl\n",
      "error for 20220307.pkl\n",
      "error for 20220308.pkl\n",
      "error for 20220309.pkl\n",
      "error for 20220310.pkl\n",
      "error for 20220311.pkl\n",
      "error for 20220312.pkl\n",
      "error for 20220313.pkl\n",
      "error for 20220314.pkl\n",
      "error for 20220315.pkl\n",
      "error for 20220316.pkl\n",
      "error for 20220317.pkl\n",
      "error for 20220318.pkl\n",
      "error for 20220319.pkl\n",
      "error for 20220320.pkl\n",
      "error for 20220321.pkl\n",
      "error for 20220322.pkl\n",
      "error for 20220323.pkl\n",
      "error for 20220324.pkl\n",
      "error for 20220325.pkl\n",
      "error for 20220326.pkl\n",
      "error for 20220327.pkl\n",
      "error for 20220328.pkl\n",
      "error for 20220329.pkl\n",
      "error for 20220330.pkl\n",
      "error for 20220331.pkl\n",
      "error for 20220401.pkl\n",
      "error for 20220402.pkl\n",
      "error for 20220403.pkl\n",
      "error for 20220404.pkl\n",
      "error for 20220405.pkl\n",
      "error for 20220406.pkl\n",
      "error for 20220407.pkl\n",
      "error for 20220408.pkl\n",
      "error for 20220409.pkl\n",
      "error for 20220410.pkl\n",
      "error for 20220411.pkl\n",
      "error for 20220412.pkl\n",
      "error for 20220413.pkl\n",
      "error for 20220414.pkl\n",
      "error for 20220415.pkl\n",
      "error for 20220416.pkl\n",
      "error for 20220417.pkl\n",
      "error for 20220418.pkl\n",
      "error for 20220419.pkl\n",
      "error for 20220420.pkl\n",
      "error for 20220421.pkl\n",
      "error for 20220422.pkl\n",
      "error for 20220423.pkl\n",
      "error for 20220424.pkl\n",
      "error for 20220425.pkl\n",
      "error for 20220426.pkl\n",
      "error for 20220427.pkl\n",
      "error for 20220428.pkl\n",
      "error for 20220429.pkl\n",
      "error for 20220430.pkl\n",
      "error for 20220501.pkl\n",
      "error for 20220502.pkl\n",
      "error for 20220503.pkl\n",
      "error for 20220504.pkl\n",
      "error for 20220505.pkl\n",
      "error for 20220506.pkl\n",
      "error for 20220507.pkl\n",
      "error for 20220508.pkl\n",
      "error for 20220509.pkl\n",
      "error for 20220510.pkl\n",
      "error for 20220511.pkl\n",
      "error for 20220512.pkl\n",
      "error for 20220513.pkl\n",
      "error for 20220514.pkl\n",
      "error for 20220515.pkl\n",
      "error for 20220516.pkl\n",
      "error for 20220517.pkl\n",
      "error for 20220518.pkl\n",
      "error for 20220519.pkl\n",
      "error for 20220520.pkl\n",
      "error for 20220521.pkl\n",
      "error for 20220522.pkl\n",
      "error for 20220523.pkl\n",
      "error for 20220524.pkl\n",
      "error for 20220525.pkl\n",
      "error for 20220526.pkl\n",
      "error for 20220527.pkl\n",
      "error for 20220528.pkl\n",
      "error for 20220529.pkl\n",
      "error for 20220530.pkl\n",
      "error for 20220531.pkl\n",
      "error for 20220601.pkl\n",
      "error for 20220602.pkl\n",
      "error for 20220603.pkl\n",
      "error for 20220604.pkl\n",
      "error for 20220605.pkl\n",
      "error for 20220606.pkl\n",
      "error for 20220607.pkl\n",
      "error for 20220608.pkl\n",
      "error for 20220609.pkl\n",
      "error for 20220610.pkl\n",
      "error for 20220611.pkl\n",
      "error for 20220612.pkl\n"
     ]
    },
    {
     "ename": "KeyError",
     "evalue": "'freqs'",
     "output_type": "error",
     "traceback": [
      "\u001b[0;31m---------------------------------------------------------------------------\u001b[0m",
      "\u001b[0;31mKeyError\u001b[0m                                  Traceback (most recent call last)",
      "File \u001b[0;32m~/anaconda3/envs/obs2/lib/python3.9/site-packages/pandas/core/indexes/base.py:3803\u001b[0m, in \u001b[0;36mIndex.get_loc\u001b[0;34m(self, key, method, tolerance)\u001b[0m\n\u001b[1;32m   3802\u001b[0m \u001b[38;5;28;01mtry\u001b[39;00m:\n\u001b[0;32m-> 3803\u001b[0m     \u001b[38;5;28;01mreturn\u001b[39;00m \u001b[38;5;28;43mself\u001b[39;49m\u001b[38;5;241;43m.\u001b[39;49m\u001b[43m_engine\u001b[49m\u001b[38;5;241;43m.\u001b[39;49m\u001b[43mget_loc\u001b[49m\u001b[43m(\u001b[49m\u001b[43mcasted_key\u001b[49m\u001b[43m)\u001b[49m\n\u001b[1;32m   3804\u001b[0m \u001b[38;5;28;01mexcept\u001b[39;00m \u001b[38;5;167;01mKeyError\u001b[39;00m \u001b[38;5;28;01mas\u001b[39;00m err:\n",
      "File \u001b[0;32m~/anaconda3/envs/obs2/lib/python3.9/site-packages/pandas/_libs/index.pyx:138\u001b[0m, in \u001b[0;36mpandas._libs.index.IndexEngine.get_loc\u001b[0;34m()\u001b[0m\n",
      "File \u001b[0;32m~/anaconda3/envs/obs2/lib/python3.9/site-packages/pandas/_libs/index.pyx:165\u001b[0m, in \u001b[0;36mpandas._libs.index.IndexEngine.get_loc\u001b[0;34m()\u001b[0m\n",
      "File \u001b[0;32mpandas/_libs/hashtable_class_helper.pxi:5745\u001b[0m, in \u001b[0;36mpandas._libs.hashtable.PyObjectHashTable.get_item\u001b[0;34m()\u001b[0m\n",
      "File \u001b[0;32mpandas/_libs/hashtable_class_helper.pxi:5753\u001b[0m, in \u001b[0;36mpandas._libs.hashtable.PyObjectHashTable.get_item\u001b[0;34m()\u001b[0m\n",
      "\u001b[0;31mKeyError\u001b[0m: 'freqs'",
      "\nThe above exception was the direct cause of the following exception:\n",
      "\u001b[0;31mKeyError\u001b[0m                                  Traceback (most recent call last)",
      "Cell \u001b[0;32mIn[19], line 9\u001b[0m\n\u001b[1;32m      6\u001b[0m \u001b[38;5;66;03m# df1['freqs'] = where(df1['psd_max'] > 1e5, df1['freqs'], nan)\u001b[39;00m\n\u001b[1;32m      8\u001b[0m beat \u001b[38;5;241m=\u001b[39m Trace()\n\u001b[0;32m----> 9\u001b[0m beat\u001b[38;5;241m.\u001b[39mdata \u001b[38;5;241m=\u001b[39m array(\u001b[43mdf1\u001b[49m\u001b[43m[\u001b[49m\u001b[38;5;124;43m'\u001b[39;49m\u001b[38;5;124;43mfreqs\u001b[39;49m\u001b[38;5;124;43m'\u001b[39;49m\u001b[43m]\u001b[49m)\n\u001b[1;32m     10\u001b[0m beat\u001b[38;5;241m.\u001b[39mstats\u001b[38;5;241m.\u001b[39mstarttime \u001b[38;5;241m=\u001b[39m config[\u001b[38;5;124m'\u001b[39m\u001b[38;5;124mtbeg\u001b[39m\u001b[38;5;124m'\u001b[39m]\n\u001b[1;32m     11\u001b[0m beat\u001b[38;5;241m.\u001b[39mstats\u001b[38;5;241m.\u001b[39msampling_rate \u001b[38;5;241m=\u001b[39m \u001b[38;5;241m1\u001b[39m\u001b[38;5;241m/\u001b[39m\u001b[38;5;241m60\u001b[39m\n",
      "File \u001b[0;32m~/anaconda3/envs/obs2/lib/python3.9/site-packages/pandas/core/frame.py:3805\u001b[0m, in \u001b[0;36mDataFrame.__getitem__\u001b[0;34m(self, key)\u001b[0m\n\u001b[1;32m   3803\u001b[0m \u001b[38;5;28;01mif\u001b[39;00m \u001b[38;5;28mself\u001b[39m\u001b[38;5;241m.\u001b[39mcolumns\u001b[38;5;241m.\u001b[39mnlevels \u001b[38;5;241m>\u001b[39m \u001b[38;5;241m1\u001b[39m:\n\u001b[1;32m   3804\u001b[0m     \u001b[38;5;28;01mreturn\u001b[39;00m \u001b[38;5;28mself\u001b[39m\u001b[38;5;241m.\u001b[39m_getitem_multilevel(key)\n\u001b[0;32m-> 3805\u001b[0m indexer \u001b[38;5;241m=\u001b[39m \u001b[38;5;28;43mself\u001b[39;49m\u001b[38;5;241;43m.\u001b[39;49m\u001b[43mcolumns\u001b[49m\u001b[38;5;241;43m.\u001b[39;49m\u001b[43mget_loc\u001b[49m\u001b[43m(\u001b[49m\u001b[43mkey\u001b[49m\u001b[43m)\u001b[49m\n\u001b[1;32m   3806\u001b[0m \u001b[38;5;28;01mif\u001b[39;00m is_integer(indexer):\n\u001b[1;32m   3807\u001b[0m     indexer \u001b[38;5;241m=\u001b[39m [indexer]\n",
      "File \u001b[0;32m~/anaconda3/envs/obs2/lib/python3.9/site-packages/pandas/core/indexes/base.py:3805\u001b[0m, in \u001b[0;36mIndex.get_loc\u001b[0;34m(self, key, method, tolerance)\u001b[0m\n\u001b[1;32m   3803\u001b[0m     \u001b[38;5;28;01mreturn\u001b[39;00m \u001b[38;5;28mself\u001b[39m\u001b[38;5;241m.\u001b[39m_engine\u001b[38;5;241m.\u001b[39mget_loc(casted_key)\n\u001b[1;32m   3804\u001b[0m \u001b[38;5;28;01mexcept\u001b[39;00m \u001b[38;5;167;01mKeyError\u001b[39;00m \u001b[38;5;28;01mas\u001b[39;00m err:\n\u001b[0;32m-> 3805\u001b[0m     \u001b[38;5;28;01mraise\u001b[39;00m \u001b[38;5;167;01mKeyError\u001b[39;00m(key) \u001b[38;5;28;01mfrom\u001b[39;00m \u001b[38;5;21;01merr\u001b[39;00m\n\u001b[1;32m   3806\u001b[0m \u001b[38;5;28;01mexcept\u001b[39;00m \u001b[38;5;167;01mTypeError\u001b[39;00m:\n\u001b[1;32m   3807\u001b[0m     \u001b[38;5;66;03m# If we have a listlike key, _check_indexing_error will raise\u001b[39;00m\n\u001b[1;32m   3808\u001b[0m     \u001b[38;5;66;03m#  InvalidIndexError. Otherwise we fall through and re-raise\u001b[39;00m\n\u001b[1;32m   3809\u001b[0m     \u001b[38;5;66;03m#  the TypeError.\u001b[39;00m\n\u001b[1;32m   3810\u001b[0m     \u001b[38;5;28mself\u001b[39m\u001b[38;5;241m.\u001b[39m_check_indexing_error(key)\n",
      "\u001b[0;31mKeyError\u001b[0m: 'freqs'"
     ]
    }
   ],
   "source": [
    "df1 = __load_beat(config, config['path_to_sagnac'])\n",
    "# df1 = __load_sagnac_beat_data(config['tbeg'], config['tend'], config['ring'], config['path_to_sagnac'])\n",
    "\n",
    "from numpy import where, nan, array\n",
    "from obspy import Trace\n",
    "# df1['freqs'] = where(df1['psd_max'] > 1e5, df1['freqs'], nan)\n",
    "\n",
    "beat = Trace()\n",
    "beat.data = array(df1['freqs'])\n",
    "beat.stats.starttime = config['tbeg']\n",
    "beat.stats.sampling_rate = 1/60"
   ]
  },
  {
   "cell_type": "markdown",
   "id": "charming-shuttle",
   "metadata": {},
   "source": [
    "\n",
    "### Load Tiltmeter Data"
   ]
  },
  {
   "cell_type": "code",
   "execution_count": 20,
   "id": "77d1f574",
   "metadata": {
    "ExecuteTime": {
     "end_time": "2023-06-09T17:46:50.795530Z",
     "start_time": "2023-06-09T17:46:50.471226Z"
    }
   },
   "outputs": [
    {
     "data": {
      "text/plain": [
       "9 Trace(s) in Stream:\n",
       "BW.TROMY..MAN | 2021-12-31T23:59:59.955000Z - 2022-06-11T23:59:59.955000Z | 600.0 s, 23329 samples\n",
       "BW.TROMY..MAT | 2021-12-31T23:59:59.955000Z - 2022-06-11T23:59:59.955000Z | 600.0 s, 23329 samples\n",
       "BW.TROMY..MAE | 2021-12-31T23:59:59.955000Z - 2022-06-11T23:59:59.955000Z | 600.0 s, 23329 samples\n",
       "BW.ROMYT..MAE | 2022-04-12T15:44:07.140000Z - 2022-06-12T00:04:07.140000Z | 600.0 s, 8691 samples\n",
       "BW.ROMYT..MAN | 2022-04-12T15:44:07.140000Z - 2022-06-12T00:04:07.140000Z | 600.0 s, 8691 samples\n",
       "BW.ROMYT..MAT | 2022-04-12T15:44:07.140000Z - 2022-06-12T00:04:07.140000Z | 600.0 s, 8691 samples\n",
       "BW.DROMY..LAE | 2022-01-01T00:00:00.000000Z - 2022-05-31T23:50:00.000000Z | 600.0 s, 21744 samples\n",
       "BW.DROMY..LAN | 2022-01-01T00:00:00.000000Z - 2022-05-31T23:50:00.000000Z | 600.0 s, 21744 samples\n",
       "BW.DROMY..LAT | 2022-01-01T00:00:00.000000Z - 2022-05-31T23:50:00.000000Z | 600.0 s, 21744 samples"
      ]
     },
     "execution_count": 20,
     "metadata": {},
     "output_type": "execute_result"
    }
   ],
   "source": [
    "tilt = read(f\"{config['path_to_tilt']}tilt_all_Tcorrect.mseed\")\n",
    "\n",
    "tilt.trim(config['tbeg'], config['tend'])\n",
    "\n",
    "for tr in tilt:\n",
    "    tr.data -= nanmean(tr.data[:50])"
   ]
  },
  {
   "cell_type": "markdown",
   "id": "f88ffceb",
   "metadata": {},
   "source": [
    "### Load WROMY and FURT"
   ]
  },
  {
   "cell_type": "code",
   "execution_count": 21,
   "id": "0a71c796",
   "metadata": {
    "ExecuteTime": {
     "end_time": "2023-06-09T17:46:50.801283Z",
     "start_time": "2023-06-09T17:46:50.797543Z"
    }
   },
   "outputs": [],
   "source": [
    "from andbro__load_FURT_stream import __load_furt_stream"
   ]
  },
  {
   "cell_type": "code",
   "execution_count": null,
   "id": "fe87ca61",
   "metadata": {
    "ExecuteTime": {
     "end_time": "2023-06-09T17:52:59.838544Z",
     "start_time": "2023-06-09T17:46:50.802366Z"
    }
   },
   "outputs": [],
   "source": [
    "furt = __load_furt_stream(config['tbeg'], config['tend'])"
   ]
  },
  {
   "cell_type": "code",
   "execution_count": 10,
   "id": "05dfea26",
   "metadata": {
    "ExecuteTime": {
     "end_time": "2023-06-09T17:52:59.843323Z",
     "start_time": "2023-06-09T17:52:59.839942Z"
    },
    "code_folding": [
     0
    ]
   },
   "outputs": [],
   "source": [
    "# def __load_furt_data(path_to_wromy, channel):\n",
    "\n",
    "#     from os import listdir\n",
    "#     from tqdm.notebook import tqdm\n",
    "#     from pandas import read_pickle, concat\n",
    "\n",
    "#     files = listdir(path_to_wromy+channel)\n",
    "\n",
    "#     for n, file in enumerate(tqdm(files)):\n",
    "#         df0 = read_pickle(path_to_wromy+channel+\"/\"+file)\n",
    "#         if n == 0:\n",
    "#             df_raw = df0\n",
    "#         else:\n",
    "#             df_raw = concat([df_raw,df0])\n",
    "#     df_raw.reset_index()\n",
    "#     return df_raw"
   ]
  },
  {
   "cell_type": "code",
   "execution_count": 11,
   "id": "5e3399fc",
   "metadata": {
    "ExecuteTime": {
     "end_time": "2023-06-09T17:52:59.886027Z",
     "start_time": "2023-06-09T17:52:59.844758Z"
    },
    "code_folding": [
     0
    ]
   },
   "outputs": [],
   "source": [
    "def __cumsum_rain(arr, xnum):\n",
    "\n",
    "    from numpy import cumsum, zeros\n",
    "\n",
    "    arr_out = zeros(len(arr))\n",
    "    for i, dat in enumerate(arr):\n",
    "        arr_out[i] = sum(arr[i:i+xnum])\n",
    "\n",
    "    return arr_out"
   ]
  },
  {
   "cell_type": "code",
   "execution_count": 12,
   "id": "57dbd3e3",
   "metadata": {
    "ExecuteTime": {
     "end_time": "2023-06-09T17:53:01.296676Z",
     "start_time": "2023-06-09T17:52:59.887167Z"
    }
   },
   "outputs": [
    {
     "data": {
      "application/vnd.jupyter.widget-view+json": {
       "model_id": "1251ac92bb434741806413ec1d0885e8",
       "version_major": 2,
       "version_minor": 0
      },
      "text/plain": [
       "  0%|          | 0/634 [00:00<?, ?it/s]"
      ]
     },
     "metadata": {},
     "output_type": "display_data"
    }
   ],
   "source": [
    "FURT_raw = __load_furt_data(config['path_to_furt'], \"FURT\")\n",
    "furt = FURT_raw.copy()\n",
    "furt.dropna(inplace=True)\n",
    "furt.sort_values('TimeStamp', inplace=True)\n",
    "furt.reset_index(drop=True, inplace=True)"
   ]
  },
  {
   "cell_type": "code",
   "execution_count": 13,
   "id": "c2fe8552",
   "metadata": {
    "ExecuteTime": {
     "end_time": "2023-06-09T17:53:07.000463Z",
     "start_time": "2023-06-09T17:53:01.297882Z"
    }
   },
   "outputs": [
    {
     "data": {
      "text/plain": [
       "... | 2022-01-01T00:00:00.000000Z - 2022-06-12T00:00:00.000000Z | 600.0 s, 23329 samples"
      ]
     },
     "execution_count": 13,
     "metadata": {},
     "output_type": "execute_result"
    }
   ],
   "source": [
    "num = 5  ## in days\n",
    "\n",
    "rain_data = __cumsum_rain(furt.Rc, int(1440*num/10))\n",
    "\n",
    "rain = Trace()\n",
    "rain.data = array(rain_data)\n",
    "rain.stats.starttime = furt['TimeStamp'][0]\n",
    "rain.stats.sampling_rate = 1/600\n",
    "rain.trim(config['tbeg'], config['tend'])"
   ]
  },
  {
   "cell_type": "code",
   "execution_count": 14,
   "id": "d9a2a664",
   "metadata": {
    "ExecuteTime": {
     "end_time": "2023-06-09T17:55:33.000378Z",
     "start_time": "2023-06-09T17:53:07.001731Z"
    }
   },
   "outputs": [
    {
     "data": {
      "application/vnd.jupyter.widget-view+json": {
       "model_id": "907a3fea83c140e39fa686cdb5a340f4",
       "version_major": 2,
       "version_minor": 0
      },
      "text/plain": [
       "  0%|          | 0/164 [00:00<?, ?it/s]"
      ]
     },
     "metadata": {},
     "output_type": "display_data"
    },
    {
     "name": "stdout",
     "output_type": "stream",
     "text": [
      "Specified end: 2022-06-12T00:00:00.000000Z \n",
      "Trace end:     2022-06-12T00:00:00.000000Z\n"
     ]
    },
    {
     "data": {
      "application/vnd.jupyter.widget-view+json": {
       "model_id": "e7b835f1ded24539ae0c138d2e13afa6",
       "version_major": 2,
       "version_minor": 0
      },
      "text/plain": [
       "  0%|          | 0/164 [00:00<?, ?it/s]"
      ]
     },
     "metadata": {},
     "output_type": "display_data"
    },
    {
     "name": "stdout",
     "output_type": "stream",
     "text": [
      "Specified end: 2022-06-12T00:00:00.000000Z \n",
      "Trace end:     2022-06-12T00:00:00.000000Z\n"
     ]
    },
    {
     "data": {
      "application/vnd.jupyter.widget-view+json": {
       "model_id": "d22673bb48a344819cbe06543c7e8f2f",
       "version_major": 2,
       "version_minor": 0
      },
      "text/plain": [
       "  0%|          | 0/164 [00:00<?, ?it/s]"
      ]
     },
     "metadata": {},
     "output_type": "display_data"
    },
    {
     "name": "stdout",
     "output_type": "stream",
     "text": [
      "Specified end: 2022-06-12T00:00:00.000000Z \n",
      "Trace end:     2022-06-12T00:00:00.000000Z\n"
     ]
    }
   ],
   "source": [
    "from andbro__load_WROMY_stream import __load_wromy_stream\n",
    "\n",
    "ws1 = __load_wromy_stream(config['path_to_wromy'], \"BW.WROMY..WS1\", config['tbeg'], config['tend'])\n",
    "ws5 = __load_wromy_stream(config['path_to_wromy'], \"BW.WROMY..WS5\", config['tbeg'], config['tend'])\n",
    "ws9 = __load_wromy_stream(config['path_to_wromy'], \"BW.WROMY..WS9\", config['tbeg'], config['tend'])"
   ]
  },
  {
   "cell_type": "markdown",
   "id": "27a0de55",
   "metadata": {},
   "source": [
    "## Processing"
   ]
  },
  {
   "cell_type": "code",
   "execution_count": 15,
   "id": "7c32ef11",
   "metadata": {
    "ExecuteTime": {
     "end_time": "2023-06-09T17:55:33.083663Z",
     "start_time": "2023-06-09T17:55:33.001805Z"
    }
   },
   "outputs": [],
   "source": [
    "## create copy of beat note\n",
    "beat_smooth = beat.copy()\n",
    "\n",
    "## exclude values outside interval for beat note\n",
    "beat_lower, beat_upper = 553.35, 553.42\n",
    "\n",
    "beat_data = zeros(len(beat_smooth.data))\n",
    "\n",
    "for i, dat in enumerate(beat_smooth.data):\n",
    "    if dat >= beat_lower and dat <= beat_upper:\n",
    "        beat_data[i] = dat\n",
    "    else:\n",
    "        beat_data[i] = nan\n",
    "\n",
    "## smoothing time seriese of beat note\n",
    "beat_smooth.data = __smooth(beat_data, 180)\n",
    "beat_smooth.data[:180] = nan*ones(180)"
   ]
  },
  {
   "cell_type": "markdown",
   "id": "6426e706",
   "metadata": {
    "ExecuteTime": {
     "end_time": "2023-01-27T16:21:51.583880Z",
     "start_time": "2023-01-27T16:21:51.582304Z"
    }
   },
   "source": [
    "### Express as change of triangle height"
   ]
  },
  {
   "cell_type": "code",
   "execution_count": 16,
   "id": "a0e2d9a7",
   "metadata": {
    "ExecuteTime": {
     "end_time": "2023-06-09T17:55:33.087656Z",
     "start_time": "2023-06-09T17:55:33.084793Z"
    },
    "code_folding": [
     0
    ]
   },
   "outputs": [],
   "source": [
    "def __to_H(data):\n",
    "\n",
    "    from numpy import cos, pi, deg2rad, sqrt, nanmedian\n",
    "\n",
    "    H = data * 3/2 * 632.8e-9 / (2*pi/86400 * cos(deg2rad(48.162941)))\n",
    "\n",
    "#     H_expected = 2*53.93/11.3\n",
    "    H_expected = 11.3/2*sqrt(3)\n",
    "\n",
    "#     H_rel = abs(H-H_expected)/H_expected\n",
    "    H_rel = abs(H-H_expected)\n",
    "    H_rel = H - nanmedian(H)\n",
    "\n",
    "    return H, H_rel"
   ]
  },
  {
   "cell_type": "code",
   "execution_count": 17,
   "id": "0db4d77b",
   "metadata": {
    "ExecuteTime": {
     "end_time": "2023-06-09T17:55:33.107599Z",
     "start_time": "2023-06-09T17:55:33.088851Z"
    }
   },
   "outputs": [],
   "source": [
    "data = beat_smooth.trim(config['tbeg'], config['tend']).data\n",
    "\n",
    "H, H_rel = __to_H(data)\n",
    "\n",
    "H_rel *= 1"
   ]
  },
  {
   "cell_type": "code",
   "execution_count": 18,
   "id": "d003d1a2",
   "metadata": {
    "ExecuteTime": {
     "end_time": "2023-06-09T17:55:34.061883Z",
     "start_time": "2023-06-09T17:55:33.108631Z"
    }
   },
   "outputs": [
    {
     "data": {
      "text/plain": [
       "<Figure size 432x288 with 0 Axes>"
      ]
     },
     "execution_count": 18,
     "metadata": {},
     "output_type": "execute_result"
    },
    {
     "data": {
      "text/plain": [
       "[<matplotlib.lines.Line2D at 0x7f2525296e90>]"
      ]
     },
     "execution_count": 18,
     "metadata": {},
     "output_type": "execute_result"
    },
    {
     "data": {
      "text/plain": [
       "[<matplotlib.lines.Line2D at 0x7f2525296390>]"
      ]
     },
     "execution_count": 18,
     "metadata": {},
     "output_type": "execute_result"
    },
    {
     "data": {
      "text/plain": [
       "<Figure size 432x288 with 0 Axes>"
      ]
     },
     "execution_count": 18,
     "metadata": {},
     "output_type": "execute_result"
    },
    {
     "data": {
      "text/plain": [
       "<matplotlib.collections.PathCollection at 0x7f25281ba050>"
      ]
     },
     "execution_count": 18,
     "metadata": {},
     "output_type": "execute_result"
    },
    {
     "name": "stdout",
     "output_type": "stream",
     "text": [
      "median:  17.1928202049  e-6/°C\n",
      "mean:    1391.02239177  e-6/°C\n"
     ]
    },
    {
     "data": {
      "text/plain": [
       "<Figure size 432x288 with 0 Axes>"
      ]
     },
     "execution_count": 18,
     "metadata": {},
     "output_type": "execute_result"
    },
    {
     "data": {
      "text/plain": [
       "[<matplotlib.lines.Line2D at 0x7f252b716a10>]"
      ]
     },
     "execution_count": 18,
     "metadata": {},
     "output_type": "execute_result"
    },
    {
     "data": {
      "text/plain": [
       "[<matplotlib.lines.Line2D at 0x7f252b716610>]"
      ]
     },
     "execution_count": 18,
     "metadata": {},
     "output_type": "execute_result"
    },
    {
     "data": {
      "image/png": "[encoded data removed]",
      "text/plain": [
       "<Figure size 432x288 with 1 Axes>"
      ]
     },
     "metadata": {
      "needs_background": "light"
     },
     "output_type": "display_data"
    },
    {
     "data": {
      "image/png": "[encoded data removed]",
      "text/plain": [
       "<Figure size 432x288 with 1 Axes>"
      ]
     },
     "metadata": {
      "needs_background": "light"
     },
     "output_type": "display_data"
    },
    {
     "data": {
      "image/png": "[encoded data removed]",
      "text/plain": [
       "<Figure size 432x288 with 1 Axes>"
      ]
     },
     "metadata": {
      "needs_background": "light"
     },
     "output_type": "display_data"
    }
   ],
   "source": [
    "temp = tilt.copy().select(station=\"TROMY\", channel=\"*T\")[0].resample(1/60).trim(config['tbeg'], config['tend']).data\n",
    "# temp -= nanmean(temp[dx1:int(dx1+20)])\n",
    "\n",
    "dx1 = 100000\n",
    "dx2 = 10000\n",
    "\n",
    "plt.figure()\n",
    "plt.plot(temp[dx1:-dx2])\n",
    "temp = __smooth(temp, 10800)\n",
    "plt.plot(temp[dx1:-dx2])\n",
    "\n",
    "\n",
    "plt.figure()\n",
    "plt.scatter(temp[dx1:-dx2], H_rel[dx1:-dx2], s=0.01)\n",
    "\n",
    "print(\"median: \", nanmedian(H_rel/temp*1e6), \" e-6/°C\")\n",
    "print(\"mean:   \",nanmean(H_rel/temp*1e6), \" e-6/°C\")\n",
    "\n",
    "plt.figure()\n",
    "\n",
    "plt.plot(temp[dx1:-dx2])\n",
    "plt.plot(0.2*H_rel[dx1:-dx2]/8.8e-6)\n",
    "\n",
    "plt.show();\n",
    "\n",
    "beat_temp = 0.2*H_rel/8.8e-6 + 8"
   ]
  },
  {
   "cell_type": "markdown",
   "id": "864f8b1c",
   "metadata": {
    "ExecuteTime": {
     "end_time": "2023-01-27T16:21:52.422873Z",
     "start_time": "2023-01-27T16:18:57.835Z"
    }
   },
   "source": [
    "### Express as tilt variation"
   ]
  },
  {
   "cell_type": "code",
   "execution_count": 19,
   "id": "c5890c07",
   "metadata": {
    "ExecuteTime": {
     "end_time": "2023-06-09T17:55:34.065724Z",
     "start_time": "2023-06-09T17:55:34.063010Z"
    },
    "code_folding": [
     0
    ]
   },
   "outputs": [],
   "source": [
    "def __to_tilt(data):\n",
    "    \n",
    "    from numpy import pi, sqrt, arccos, deg2rad, arcsin\n",
    "#     return -1 * (arccos((data * 632.8e-9 * 3) / ( (2*pi/86400) * 11.3 * sqrt(3) )) + deg2rad(48.162941))    \n",
    "    return (arcsin((data * 632.8e-9 * 3) / ( (2*pi/86400) * 11.3 * sqrt(3) )) - deg2rad(48.162941))"
   ]
  },
  {
   "cell_type": "code",
   "execution_count": 20,
   "id": "2c3558f7",
   "metadata": {
    "ExecuteTime": {
     "end_time": "2023-06-09T17:55:34.086873Z",
     "start_time": "2023-06-09T17:55:34.066970Z"
    }
   },
   "outputs": [],
   "source": [
    "beat_tilt = __to_tilt(beat_smooth.data)\n",
    "\n",
    "beat_tilt -= nanmedian(beat_tilt[:1000])\n",
    "\n",
    "beat_tilt *= 0.1"
   ]
  },
  {
   "cell_type": "markdown",
   "id": "20c3f8b2",
   "metadata": {},
   "source": [
    "## Plotting"
   ]
  },
  {
   "cell_type": "code",
   "execution_count": 32,
   "id": "6670f80f",
   "metadata": {
    "ExecuteTime": {
     "end_time": "2023-06-09T18:05:33.261714Z",
     "start_time": "2023-06-09T18:05:29.179662Z"
    },
    "code_folding": []
   },
   "outputs": [
    {
     "data": {
      "image/png": "[encoded data removed]",
      "text/plain": [
       "<Figure size 1080x720 with 5 Axes>"
      ]
     },
     "metadata": {
      "needs_background": "light"
     },
     "output_type": "display_data"
    }
   ],
   "source": [
    "def __makeplot(config):\n",
    "    \n",
    "    from numpy import zeros, linspace, nan\n",
    "    \n",
    "    smooth = 180\n",
    "    \n",
    "    time_reference = \"2022-01-01\"\n",
    "    \n",
    "    N = 4\n",
    "    \n",
    "    time_scaling, time_unit = 1/86400, \"days\"\n",
    "    time_reference = \"2022-01-01\"\n",
    "    \n",
    "    font = 13\n",
    "    \n",
    "    fig, ax = plt.subplots(N, 1, figsize=(15,10), sharex=True)\n",
    "    \n",
    "    plt.subplots_adjust(hspace=0.1)\n",
    "    \n",
    "    \n",
    "    \n",
    "    ## exclude values outside interval for beat note\n",
    "    beat_lower, beat_upper = 553.34, 553.42\n",
    "    \n",
    "    beat_data = zeros(len(beat.data))\n",
    "\n",
    "    for i, dat in enumerate(beat.data):\n",
    "        if dat >= beat_lower and dat <= beat_upper:\n",
    "            beat_data[i] = dat\n",
    "        else:\n",
    "            beat_data[i] = nan\n",
    "    \n",
    "\n",
    "    ## ----------------------\n",
    "    \n",
    "    ## PANEL 0 ---------    \n",
    "    ax[0].scatter(beat.times(reftime=UTCDateTime(time_reference))*time_scaling, beat_data, s=0.1, color='grey', zorder=2)\n",
    "    ax[0].plot(beat.times(reftime=UTCDateTime(time_reference))[smooth:]*time_scaling, __smooth(beat_data, smooth)[smooth:], 'k', zorder=2)\n",
    "    ax[0].set_ylim(beat_lower, beat_upper)\n",
    "    \n",
    "    ax1_2 = ax[0].twinx()\n",
    "    ax1_2.scatter(beat_smooth.times(reftime=UTCDateTime(time_reference))[smooth:]*time_scaling, H_rel[smooth:]*1e3, \n",
    "                  facecolor=\"red\", lw=0, s=0.5, alpha=0.1, zorder=1, color=\"darkred\") ## cumlative sum\n",
    "    ax1_2.set_ylabel(\"Rel. H (mm)\", fontsize=font, color=\"darkred\")\n",
    "    ax1_2.tick_params(axis=\"y\", colors=\"darkred\")\n",
    "    ax1_2.set_yticks(linspace(ax1_2.get_yticks()[0], ax1_2.get_yticks()[-1], len(ax[0].get_yticks())))\n",
    "    ax1_2.tick_params(labelsize=font-2)  \n",
    "\n",
    "    \n",
    "    ## PANEL 1 ---------\n",
    "    tr = tilt.select(station=\"ROMYT\", channel=\"*N\")[0]\n",
    "    ax[1].plot(tr.times(reftime=UTCDateTime(time_reference))[15:]*time_scaling, tr.data[15:]*1e6, label=tr.stats.station)\n",
    "        \n",
    "    tr = tilt.select(station=\"TROMY\", channel=\"*N\")[0]\n",
    "    ax[1].plot(tr.times(reftime=UTCDateTime(time_reference))[15:]*time_scaling, tr.data[15:]*1e6, label=tr.stats.station)\n",
    "    \n",
    "    tr = tilt.select(station=\"DROMY\", channel=\"*N\")[0]\n",
    "    ax[1].plot(tr.times(reftime=UTCDateTime(time_reference))[15:]*time_scaling, tr.data[15:]*1e6, label=tr.stats.station)\n",
    "    \n",
    "    ax[1].set_ylim(-10, 20)\n",
    "        \n",
    "#     ax2_2 = ax[1].twinx()\n",
    "#     ax2_2.scatter(beat_smooth.times(reftime=UTCDateTime(time_reference))[smooth:]*time_scaling, beat_tilt[smooth:]*1e6, s=0.1, color=\"purple\")\n",
    "#     ax2_2.set_ylabel(f\"Rz Tilt ($\\mu$rad)\", fontsize=font, color=\"purple\")\n",
    "#     ax2_2.tick_params(axis=\"y\", colors=\"purple\")\n",
    "#     ax2_2.set_yticks(linspace(ax2_2.get_yticks()[0], ax2_2.get_yticks()[-1], len(ax[1].get_yticks())))\n",
    "#     ax2_2.tick_params(labelsize=font-2)\n",
    "    \n",
    "    ax[1].scatter(beat_smooth.times(reftime=UTCDateTime(time_reference))[smooth:]*time_scaling, beat_tilt[smooth:]*1e6, \n",
    "                  s=0.05, color=\"purple\")\n",
    "    ax[1].plot(beat_smooth.times(reftime=UTCDateTime(time_reference))[smooth:]*time_scaling, nan*beat_tilt[smooth:]*1e6, \n",
    "               color=\"purple\", label=f\"10% RZ Tilt\")\n",
    "        \n",
    "    ## PANEL 2 ---------\n",
    "    ax[2].plot(rain.times()*time_scaling, rain.data)\n",
    "    ax[2].fill_between(rain.times(reftime=UTCDateTime(time_reference))*time_scaling, 0, rain.data, alpha=0.4)\n",
    "    \n",
    "    ## PANEL 3 ---------\n",
    "    ws5_timeaxis = ws5.select(channel=\"*T\")[0].times(reftime=UTCDateTime(time_reference))*time_scaling\n",
    "    ax[3].plot(ws5_timeaxis, ws5.select(channel=\"*T\")[0].data, label=\"WS5 T\")\n",
    "    \n",
    "    ws9_timeaxis = ws9.select(channel=\"*T\")[0].times(reftime=UTCDateTime(time_reference))*time_scaling\n",
    "    ax[3].plot(ws9_timeaxis, ws9.select(channel=\"*T\")[0].data, label=\"WS9 T\")\n",
    "    \n",
    "    ws1_timeaxis = ws1.select(channel=\"*T\")[0].times(reftime=UTCDateTime(time_reference))*time_scaling\n",
    "    ax[3].plot(ws1_timeaxis, ws1.select(channel=\"*T\")[0].data, label=\"WS1 T\")\n",
    "\n",
    "#     ax[3].scatter(beat_smooth.times(reftime=UTCDateTime(time_reference))[smooth:]*time_scaling, beat_temp[smooth:],\n",
    "#                   s=0.05, color=\"purple\", label=f\"20% RZ Temp\")   \n",
    "\n",
    "        \n",
    "    ## ----------------------\n",
    "        \n",
    "    for axx in ax:\n",
    "        axx.grid(ls=\"--\", alpha=0.4)\n",
    "        axx.tick_params(labelsize=font-2)   \n",
    "        axx.set_xlim(-2, 164)\n",
    "\n",
    "    ax[0].set_ylabel(f\"RZ Beat (Hz)\", fontsize=font)\n",
    "    ax[1].set_ylabel(f\"corrected \\n N-S Tilt ($\\mu$rad)\", fontsize=font)\n",
    "    ax[2].set_ylabel(f\"Cumulative \\n Percipitation (mm)\", fontsize=font)\n",
    "    ax[3].set_ylabel(f\"Temperature (°C)\", fontsize=font)\n",
    "    \n",
    "    ax[0].text(.01, .99, '(a)', ha='left', va='top', transform=ax[0].transAxes, fontsize=font+2)\n",
    "    ax[1].text(.01, .99, '(b)', ha='left', va='top', transform=ax[1].transAxes, fontsize=font+2)\n",
    "    ax[2].text(.01, .99, '(c)', ha='left', va='top', transform=ax[2].transAxes, fontsize=font+2)\n",
    "    ax[3].text(.01, .99, '(d)', ha='left', va='top', transform=ax[3].transAxes, fontsize=font+2)\n",
    "\n",
    "    \n",
    "    ax[N-1].set_xlabel(f\"Time (days) from {time_reference} UTC\", fontsize=font)\n",
    "    ax[1].legend(loc=1, ncol=4)\n",
    "    ax[3].legend(loc=4, ncol=3)\n",
    "    \n",
    "\n",
    "    plt.show();\n",
    "    return fig\n",
    "\n",
    "fig = __makeplot(config);"
   ]
  },
  {
   "cell_type": "code",
   "execution_count": 33,
   "id": "ca395395",
   "metadata": {
    "ExecuteTime": {
     "end_time": "2023-06-09T18:05:35.872388Z",
     "start_time": "2023-06-09T18:05:33.262753Z"
    }
   },
   "outputs": [
    {
     "name": "stdout",
     "output_type": "stream",
     "text": [
      "\n",
      "   -> saving /home/brotzer/Documents/LMU_Docs/GRM2023/Poster/Drift_Analysis.png ...\n",
      "\n",
      "   -> Done\n",
      "\n"
     ]
    }
   ],
   "source": [
    "from andbro__savefig import __savefig\n",
    "__savefig(fig, outpath=config['output_figures'], outname=\"Drift_Analysis\", mode=\"png\", dpi=200)"
   ]
  },
  {
   "cell_type": "code",
   "execution_count": null,
   "id": "df4ce04f",
   "metadata": {},
   "outputs": [],
   "source": []
  },
  {
   "cell_type": "code",
   "execution_count": 23,
   "id": "7887217f",
   "metadata": {
    "ExecuteTime": {
     "end_time": "2023-06-09T17:55:43.896186Z",
     "start_time": "2023-06-09T17:55:43.249806Z"
    }
   },
   "outputs": [
    {
     "ename": "NameError",
     "evalue": "name 'TROMY' is not defined",
     "output_type": "error",
     "traceback": [
      "\u001b[0;31m---------------------------------------------------------------------------\u001b[0m",
      "\u001b[0;31mNameError\u001b[0m                                 Traceback (most recent call last)",
      "\u001b[0;32m<ipython-input-23-e0611aae3a15>\u001b[0m in \u001b[0;36m<module>\u001b[0;34m\u001b[0m\n\u001b[1;32m      2\u001b[0m \u001b[0mt2\u001b[0m \u001b[0;34m=\u001b[0m \u001b[0mUTCDateTime\u001b[0m\u001b[0;34m(\u001b[0m\u001b[0;34m\"2022-05-20\"\u001b[0m\u001b[0;34m)\u001b[0m\u001b[0;34m\u001b[0m\u001b[0;34m\u001b[0m\u001b[0m\n\u001b[1;32m      3\u001b[0m \u001b[0;34m\u001b[0m\u001b[0m\n\u001b[0;32m----> 4\u001b[0;31m \u001b[0mtemp\u001b[0m \u001b[0;34m=\u001b[0m \u001b[0mTROMY\u001b[0m\u001b[0;34m.\u001b[0m\u001b[0mcopy\u001b[0m\u001b[0;34m(\u001b[0m\u001b[0;34m)\u001b[0m\u001b[0;34m.\u001b[0m\u001b[0mselect\u001b[0m\u001b[0;34m(\u001b[0m\u001b[0mchannel\u001b[0m\u001b[0;34m=\u001b[0m\u001b[0;34m\"*T\"\u001b[0m\u001b[0;34m)\u001b[0m\u001b[0;34m[\u001b[0m\u001b[0;36m0\u001b[0m\u001b[0;34m]\u001b[0m\u001b[0;34m.\u001b[0m\u001b[0mresample\u001b[0m\u001b[0;34m(\u001b[0m\u001b[0;36m1\u001b[0m\u001b[0;34m/\u001b[0m\u001b[0;36m60\u001b[0m\u001b[0;34m)\u001b[0m\u001b[0;34m.\u001b[0m\u001b[0mtrim\u001b[0m\u001b[0;34m(\u001b[0m\u001b[0mt1\u001b[0m\u001b[0;34m,\u001b[0m \u001b[0mt2\u001b[0m\u001b[0;34m)\u001b[0m\u001b[0;34m.\u001b[0m\u001b[0mdata\u001b[0m\u001b[0;34m\u001b[0m\u001b[0;34m\u001b[0m\u001b[0m\n\u001b[0m\u001b[1;32m      5\u001b[0m \u001b[0mtemp\u001b[0m \u001b[0;34m-=\u001b[0m \u001b[0mnanmean\u001b[0m\u001b[0;34m(\u001b[0m\u001b[0mtemp\u001b[0m\u001b[0;34m[\u001b[0m\u001b[0;34m:\u001b[0m\u001b[0;36m20\u001b[0m\u001b[0;34m]\u001b[0m\u001b[0;34m)\u001b[0m\u001b[0;34m\u001b[0m\u001b[0;34m\u001b[0m\u001b[0m\n\u001b[1;32m      6\u001b[0m \u001b[0;34m\u001b[0m\u001b[0m\n",
      "\u001b[0;31mNameError\u001b[0m: name 'TROMY' is not defined"
     ]
    }
   ],
   "source": [
    "t1 = UTCDateTime(\"2022-04-26\")\n",
    "t2 = UTCDateTime(\"2022-05-20\")\n",
    "\n",
    "temp = TROMY.copy().select(channel=\"*T\")[0].resample(1/60).trim(t1, t2).data\n",
    "temp -= nanmean(temp[:20])\n",
    "\n",
    "H = __to_H(beat.data)\n",
    "\n",
    "H_expected = 2*53.93/11.3\n",
    "\n",
    "H_rel = abs(H-H[0])/H_expected \n",
    "\n",
    "plt.scatter(temp, H_rel)\n",
    "\n",
    "print(np.nanmedian(H_rel/temp), \" /°C\")"
   ]
  },
  {
   "cell_type": "code",
   "execution_count": null,
   "id": "2b0b11e0",
   "metadata": {
    "ExecuteTime": {
     "end_time": "2023-06-09T17:55:43.897706Z",
     "start_time": "2023-06-09T17:46:46.008Z"
    }
   },
   "outputs": [],
   "source": [
    "# __savefig(fig, outpath=config['output_figures'], outname=\"Tilt_ALL_EarthTides_TempCorrect_TheoResiduals_BeatNote\", mode=\"png\", dpi=None)"
   ]
  },
  {
   "cell_type": "code",
   "execution_count": null,
   "id": "8f6818b6",
   "metadata": {
    "ExecuteTime": {
     "end_time": "2023-06-09T17:55:43.898247Z",
     "start_time": "2023-06-09T17:46:46.009Z"
    }
   },
   "outputs": [],
   "source": [
    "# import numpy as np\n",
    "# w1 = np.arcsin(np.deg2rad(553.375 * 33.6 * 632.8e-9 / 4 / 53.93 / (2*np.pi/86400)))\n",
    "\n",
    "# w2 = np.arcsin(np.deg2rad(553.41 * 33.6 * 632.8e-9 / 4 / 53.93 / (2*np.pi/86400)))\n",
    "\n",
    "# abs(w1-w2)*1e6"
   ]
  },
  {
   "cell_type": "markdown",
   "id": "7a002169",
   "metadata": {},
   "source": [
    "## Compare with Ambient Air Pressure"
   ]
  },
  {
   "cell_type": "code",
   "execution_count": null,
   "id": "d1389a48",
   "metadata": {
    "ExecuteTime": {
     "end_time": "2023-06-09T17:55:43.899117Z",
     "start_time": "2023-06-09T17:46:46.012Z"
    }
   },
   "outputs": [],
   "source": [
    "from numpy import nan\n",
    "BROMY \n",
    "# BROMY = BROMY.split().merge(fill_value=nan)\n",
    "BROMY = BROMY.split().merge(fill_value=\"interpolate\")\n",
    "BROMY"
   ]
  },
  {
   "cell_type": "code",
   "execution_count": null,
   "id": "7d04bc04",
   "metadata": {
    "ExecuteTime": {
     "end_time": "2023-06-09T17:55:43.899685Z",
     "start_time": "2023-06-09T17:46:46.014Z"
    },
    "code_folding": [
     0
    ]
   },
   "outputs": [],
   "source": [
    "def __load_wromy_data(channel, config):\n",
    "    \n",
    "    from os import listdir\n",
    "    from tqdm.notebook import tqdm\n",
    "    from pandas import read_pickle, concat\n",
    "\n",
    "    files = listdir(config['path_to_wromy']+channel)\n",
    "    \n",
    "    for n, file in enumerate(tqdm(files)):\n",
    "        df0 = read_pickle(config['path_to_wromy']+channel+\"/\"+file)\n",
    "        if n == 0:\n",
    "            df_raw = df0\n",
    "        else: \n",
    "            df_raw = concat([df_raw,df0])\n",
    "    df_raw.reset_index()\n",
    "    return df_raw"
   ]
  },
  {
   "cell_type": "code",
   "execution_count": null,
   "id": "5567ab7a",
   "metadata": {
    "ExecuteTime": {
     "end_time": "2023-06-09T17:55:43.900207Z",
     "start_time": "2023-06-09T17:46:46.016Z"
    },
    "code_folding": [
     0
    ]
   },
   "outputs": [],
   "source": [
    "def __add_wromy_trace(stream, ws):\n",
    "\n",
    "    from numpy import array\n",
    "\n",
    "    df0 = __load_wromy_data(ws, config)\n",
    "    df0.dropna(inplace=True)\n",
    "    df0.sort_values('TimeStamp', inplace=True)\n",
    "    df0.reset_index(drop=True, inplace=True)\n",
    "    wsx = df0\n",
    "\n",
    "    ## limit to tbeg - tend\n",
    "    times_absolut = stream.select(channel=\"*T\")[0].times(reftime=UTCDateTime(\"2019-01-01T00\"))\n",
    "    wsx = wsx[(wsx['totalSeconds'] >= times_absolut[0]) & (wsx['totalSeconds'] <= times_absolut[-1]+500)]\n",
    "\n",
    "    if len(wsx['totalSeconds']) != stream[0].stats.npts:\n",
    "        print(f\"-> npts don't match: {len(wsx['totalSeconds'])} != {stream[0].stats.npts}\")\n",
    "    \n",
    "    ## create trace and addto stream\n",
    "    tr_wsx = stream.select(channel=\"*T\")[0].copy()\n",
    "    tr_wsx.data = array(wsx['Pressure (hPa)'])\n",
    "    tr_wsx.stats.channel = ws\n",
    "    stream += tr_wsx"
   ]
  },
  {
   "cell_type": "code",
   "execution_count": null,
   "id": "eab65058",
   "metadata": {
    "ExecuteTime": {
     "end_time": "2023-06-09T17:55:43.900788Z",
     "start_time": "2023-06-09T17:46:46.018Z"
    }
   },
   "outputs": [],
   "source": [
    "__add_wromy_trace(ROMYT, \"WS9\")\n",
    "__add_wromy_trace(TROMY, \"WS5\")\n",
    "__add_wromy_trace(BROMY, \"WS1\")"
   ]
  },
  {
   "cell_type": "code",
   "execution_count": null,
   "id": "7416e27f",
   "metadata": {
    "ExecuteTime": {
     "end_time": "2023-06-09T17:55:43.901438Z",
     "start_time": "2023-06-09T17:46:46.020Z"
    },
    "code_folding": [
     0
    ]
   },
   "outputs": [],
   "source": [
    "def __makeplotStreamPSD(config, st, st2=None):\n",
    "\n",
    "    from scipy import fftpack\n",
    "    from numpy import log10, median\n",
    "    from scipy.signal import welch, periodogram, hann\n",
    "\n",
    "    \n",
    "    nblock =  1028\n",
    "    overlap = None\n",
    "    win = hann(nblock, True)\n",
    "\n",
    "    NN = len(st)\n",
    "    \n",
    "    fig, axes = plt.subplots(NN,2,figsize=(15,15), sharex='col')\n",
    "\n",
    "    plt.subplots_adjust(hspace=0.3)\n",
    "\n",
    "    ## _______________________________________________\n",
    "\n",
    "    st.sort(keys=['station','channel'], reverse=True)\n",
    "    \n",
    "    for i, tr in enumerate(st):\n",
    "\n",
    "#         ff, Pxx = welch(tr.data, \n",
    "#                         fs=tr.stats.sampling_rate, \n",
    "#                         window=win, \n",
    "#                         noverlap=overlap, \n",
    "#                         nfft=nblock,\n",
    "#                         scaling=\"density\",\n",
    "#                         return_onesided=True,\n",
    "#                        )\n",
    "        ff, Pxx = periodogram(tr.data, \n",
    "                              fs=tr.stats.sampling_rate, \n",
    "                              window=None,\n",
    "                              scaling=\"density\",\n",
    "                              return_onesided=True,\n",
    "                             )\n",
    "        \n",
    "        if st2 is not None:\n",
    "            ff2, Pxx2 = welch(st2[i].data, \n",
    "                              fs=st2[i].stats.sampling_rate, \n",
    "                              window=win,\n",
    "                              noverlap=overlap, \n",
    "                              nfft=nblock,\n",
    "                              scaling=\"density\", \n",
    "                              return_onesided=True,\n",
    "                             )\n",
    "        \n",
    "        ## _________________________________________________________________\n",
    "        axes[i,0].plot(\n",
    "                    tr.times()/86400,\n",
    "                    tr.data*1e6,\n",
    "                    color='black',\n",
    "                    label='{} {}'.format(tr.stats.station, tr.stats.channel),\n",
    "                    lw=1.0,\n",
    "                    )\n",
    "\n",
    "\n",
    "        ## _________________________________________________________________\n",
    "#         axes[i,1].loglog(ff, Pxx, color='black', lw=1.0,)\n",
    "        axes[i,1].semilogx(ff, Pxx, color='black', lw=1.0,)\n",
    "        \n",
    "        if st2 is not None:\n",
    "#             axes[i,1].loglog(ff2, Pxx2, color='red', lw=1.0,)       \n",
    "            axes[i,1].semilogx(ff2, Pxx2, color='red', lw=1.0,)       \n",
    "        \n",
    "        \n",
    "        axes[i,1].vlines(1/86400,min(Pxx[:]), max(Pxx[:]), color=\"darkgrey\", alpha=1.0, zorder=0)\n",
    "        axes[i,1].vlines(2/86400,min(Pxx[:]), max(Pxx[:]), color=\"darkgrey\", alpha=1.0, zorder=0)\n",
    "        \n",
    "        axes[NN-1,0].set_xlabel(\"Time (days)\")\n",
    "        axes[NN-1,1].set_xlabel(\"Frequency (Hz)\")\n",
    "        \n",
    "        axes[i,1].set_ylim(min(Pxx[:]), max(Pxx[:]))\n",
    "        \n",
    "        axes[i,0].set_ylabel(r'Tilt ($\\mu$rad)')    \n",
    "        axes[i,1].set_ylabel(r'PSD (rad$^2$/Hz)')        \n",
    "        axes[i,0].legend(loc='upper left',bbox_to_anchor=(0.8, 1.10), framealpha=1.0)\n",
    "        \n",
    "#         axes[i,0].ticklabel_format(axis='y', style='sci', scilimits=(0,0))\n",
    "        axes[i,1].ticklabel_format(axis='y', style='sci', scilimits=(0,0))\n",
    "\n",
    "#         axes[i,1].set_xlim(3e-6,1e-4)\n",
    "        axes[i,1].set_xlim(1e-5,5e-5)\n",
    "        \n",
    "#         axes[0,1].set_ylim(0, 2e6)\n",
    "#         axes[3,1].set_ylim(0, 2e6)\n",
    "#         axes[6,1].set_ylim(0, 2e6)\n",
    "        \n",
    "#         axes[1,1].set_ylim(0, 5e-9)\n",
    "#         axes[2,1].set_ylim(0, 5e-8)\n",
    "#         axes[4,1].set_ylim(0, 3e-8)\n",
    "#         axes[5,1].set_ylim(0, 1e-8)\n",
    "#         axes[7,1].set_ylim(0, 9e-8)\n",
    "#         axes[8,1].set_ylim(0, 9e-8)\n",
    "\n",
    "        axes[0,1].set_ylim(0, .5e6)        \n",
    "        axes[1,1].set_ylim(0, 3e-9)\n",
    "        axes[2,1].set_ylim(0, 4e-8)\n",
    "        axes[3,1].set_ylim(0, .5e6)\n",
    "        axes[4,1].set_ylim(0, 1.5e-8)\n",
    "        axes[5,1].set_ylim(0, 1e-8)\n",
    "        axes[6,1].set_ylim(0, .5e6)\n",
    "        axes[7,1].set_ylim(0, 9e-8)\n",
    "        axes[8,1].set_ylim(0, 9e-8)\n",
    "        \n",
    "        axes[0,0].set_ylabel(r'Pressure (hPa)') \n",
    "        axes[3,0].set_ylabel(r'Pressure (hPa)') \n",
    "        axes[6,0].set_ylabel(r'Pressure (hPa)') \n",
    "        \n",
    "        plt.suptitle(r\"Highpass: 10 $mu$Hz\", y=0.92, fontsize=14)\n",
    "        \n",
    "    return fig"
   ]
  },
  {
   "cell_type": "code",
   "execution_count": null,
   "id": "0f3051ea",
   "metadata": {
    "ExecuteTime": {
     "end_time": "2023-06-09T17:55:43.901962Z",
     "start_time": "2023-06-09T17:46:46.021Z"
    }
   },
   "outputs": [],
   "source": [
    "# fig = __makeplotStreamPSD(config, st_f, st2=None);"
   ]
  },
  {
   "cell_type": "code",
   "execution_count": null,
   "id": "75be2728",
   "metadata": {
    "ExecuteTime": {
     "end_time": "2023-06-09T17:55:43.902624Z",
     "start_time": "2023-06-09T17:46:46.022Z"
    },
    "code_folding": [
     0
    ]
   },
   "outputs": [],
   "source": [
    "def __makeplotStreamSpectra(st, config):\n",
    "\n",
    "    from scipy import fftpack\n",
    "    from numpy import abs\n",
    "\n",
    "    NN = len(st)\n",
    "\n",
    "    fig, axes = plt.subplots(NN,2,figsize=(15,10), sharex='col')\n",
    "\n",
    "    plt.subplots_adjust(hspace=0.3)\n",
    "\n",
    "    ## _______________________________________________\n",
    "\n",
    "    st.sort(keys=['channel'], reverse=True)\n",
    "    \n",
    "    for i, tr in enumerate(st):\n",
    "\n",
    "        comp_fft = abs(fftpack.fft(tr.data))\n",
    "        ff       = fftpack.fftfreq(comp_fft.size, d=1/tr.stats.sampling_rate)\n",
    "        comp_fft = fftpack.fftshift(comp_fft)\n",
    "\n",
    "\n",
    "        ## _________________________________________________________________\n",
    "        axes[i,0].plot(\n",
    "                    tr.times()/86400,\n",
    "                    tr.data*1e6,\n",
    "                    color='black',\n",
    "                    label='{} {}'.format(tr.stats.station, tr.stats.channel),\n",
    "                    lw=1.0,\n",
    "                    )\n",
    "\n",
    "\n",
    "        ## _________________________________________________________________\n",
    "        fxx = abs(fftpack.fft(tr.data)[1:len(ff)//2])\n",
    "        axes[i,1].loglog(\n",
    "                    ff[1:len(ff)//2],\n",
    "                    fxx,\n",
    "                    color='black',\n",
    "                    lw=1.0,\n",
    "                    )\n",
    "        \n",
    "        axes[i,1].vlines(1/86400,min(fxx[:]), max(fxx[:]), color=\"darkgrey\", alpha=1.0, zorder=0)\n",
    "        axes[i,1].vlines(2/86400,min(fxx[:]), max(fxx[:]), color=\"darkgrey\", alpha=1.0, zorder=0)\n",
    "        \n",
    "        axes[NN-1,0].set_xlabel(\"Time (days)\")\n",
    "        axes[NN-1,1].set_xlabel(\"Frequency (Hz)\")\n",
    "                      \n",
    "        axes[i,0].set_ylabel(r'$\\Omega$ ($\\mu$rad)')    \n",
    "        axes[i,1].set_ylabel(r'ASD (rad/Hz)')        \n",
    "        axes[i,0].legend(loc='upper left',bbox_to_anchor=(0.8, 1.10), framealpha=1.0)\n",
    "#         axes[i,0].ticklabel_format(axis='y', style='sci', scilimits=(0,0))\n",
    "#         axes[i,1].ticklabel_format(axis='y', style='sci', scilimits=(0,0))\n",
    "#         axes[i,1].set_xlim(1e-7,0.25)\n",
    "#         axes[i,1].set_ylim(1e-12,1e-9)\n",
    "\n",
    "    return fig"
   ]
  },
  {
   "cell_type": "code",
   "execution_count": null,
   "id": "69b771f5",
   "metadata": {
    "ExecuteTime": {
     "end_time": "2023-06-09T17:55:43.903448Z",
     "start_time": "2023-06-09T17:46:46.024Z"
    }
   },
   "outputs": [],
   "source": [
    "# fig = __makeplotStreamSpectra(st_all, config);"
   ]
  },
  {
   "cell_type": "code",
   "execution_count": null,
   "id": "4d8b6127",
   "metadata": {},
   "outputs": [],
   "source": []
  },
  {
   "cell_type": "code",
   "execution_count": null,
   "id": "d329561b",
   "metadata": {},
   "outputs": [],
   "source": []
  },
  {
   "cell_type": "code",
   "execution_count": null,
   "id": "870b55be",
   "metadata": {},
   "outputs": [],
   "source": []
  }
 ],
 "metadata": {
  "kernelspec": {
   "display_name": "Python 3 (ipykernel)",
   "language": "python",
   "name": "python3"
  },
  "language_info": {
   "codemirror_mode": {
    "name": "ipython",
    "version": 3
   },
   "file_extension": ".py",
   "mimetype": "text/x-python",
   "name": "python",
   "nbconvert_exporter": "python",
   "pygments_lexer": "ipython3",
   "version": "3.9.16"
  },
  "latex_envs": {
   "LaTeX_envs_menu_present": true,
   "autoclose": false,
   "autocomplete": true,
   "bibliofile": "biblio.bib",
   "cite_by": "apalike",
   "current_citInitial": 1,
   "eqLabelWithNumbers": true,
   "eqNumInitial": 1,
   "hotkeys": {
    "equation": "Ctrl-E",
    "itemize": "Ctrl-I"
   },
   "labels_anchors": false,
   "latex_user_defs": false,
   "report_style_numbering": false,
   "user_envs_cfg": false
  },
  "toc": {
   "base_numbering": 1,
   "nav_menu": {},
   "number_sections": true,
   "sideBar": true,
   "skip_h1_title": false,
   "title_cell": "Table of Contents",
   "title_sidebar": "Contents",
   "toc_cell": false,
   "toc_position": {},
   "toc_section_display": true,
   "toc_window_display": false
  },
  "varInspector": {
   "cols": {
    "lenName": 16,
    "lenType": 16,
    "lenVar": 40
   },
   "kernels_config": {
    "python": {
     "delete_cmd_postfix": "",
     "delete_cmd_prefix": "del ",
     "library": "var_list.py",
     "varRefreshCmd": "print(var_dic_list())"
    },
    "r": {
     "delete_cmd_postfix": ") ",
     "delete_cmd_prefix": "rm(",
     "library": "var_list.r",
     "varRefreshCmd": "cat(var_dic_list()) "
    }
   },
   "types_to_exclude": [
    "module",
    "function",
    "builtin_function_or_method",
    "instance",
    "_Feature"
   ],
   "window_display": false
  }
 },
 "nbformat": 4,
 "nbformat_minor": 5
}
