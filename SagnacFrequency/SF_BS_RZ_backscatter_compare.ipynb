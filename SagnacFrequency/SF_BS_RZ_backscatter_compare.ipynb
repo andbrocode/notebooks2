{
 "cells": [
  {
   "cell_type": "markdown",
   "id": "22f5c8c9",
   "metadata": {
    "ExecuteTime": {
     "end_time": "2022-10-28T13:00:52.763484Z",
     "start_time": "2022-10-28T13:00:52.761516Z"
    }
   },
   "source": [
    "## Sagnac Frequency - Backscatter Correction - RV Backscatter"
   ]
  },
  {
   "cell_type": "markdown",
   "id": "1cd32aed",
   "metadata": {},
   "source": [
    "Explore the longterm behaviour of the RV sagnac beat"
   ]
  },
  {
   "cell_type": "markdown",
   "id": "185b1a0b",
   "metadata": {},
   "source": [
    "## Imports"
   ]
  },
  {
   "cell_type": "code",
   "execution_count": 1,
   "id": "818caf4c",
   "metadata": {
    "ExecuteTime": {
     "end_time": "2023-06-27T08:11:10.277643Z",
     "start_time": "2023-06-27T08:11:08.781535Z"
    },
    "tags": []
   },
   "outputs": [],
   "source": [
    "import os\n",
    "import gc\n",
    "import matplotlib.pyplot as plt\n",
    "import numpy as np\n",
    "\n",
    "from datetime import datetime, date\n",
    "from pandas import DataFrame, read_pickle, date_range, concat, read_csv\n",
    "from obspy import UTCDateTime, read, Trace, Stream, read_inventory\n",
    "from scipy.signal import hilbert\n",
    "from scipy.ndimage import gaussian_filter1d\n",
    "\n",
    "from functions.get_fft import __get_fft\n",
    "from functions.multitaper_psd import __multitaper_psd\n",
    "from functions.welch_psd import __welch_psd\n",
    "from functions.rotate_romy_ZUV_ZNE import __rotate_romy_ZUV_ZNE\n",
    "from functions.reduce import __reduce\n",
    "from functions.load_backscatter_data import __load_backscatter_data\n",
    "from functions.backscatter_correction import __backscatter_correction\n",
    "\n",
    "from andbro__read_sds import __read_sds\n",
    "from andbro__readYaml import __readYaml\n",
    "from andbro__load_FURT_stream import __load_furt_stream"
   ]
  },
  {
   "cell_type": "code",
   "execution_count": 2,
   "id": "b83c9987",
   "metadata": {
    "ExecuteTime": {
     "end_time": "2023-06-27T08:11:10.288084Z",
     "start_time": "2023-06-27T08:11:10.284752Z"
    },
    "tags": []
   },
   "outputs": [],
   "source": [
    "if os.uname().nodename == 'lighthouse':\n",
    "    root_path = '/home/andbro/'\n",
    "    data_path = '/home/andbro/kilauea-data/'\n",
    "    archive_path = '/home/andbro/freenas/'\n",
    "    bay_path = '/home/andbro/ontap-ffb-bay200/'\n",
    "    lamont_path = '/home/andbro/lamont/'\n",
    "elif os.uname().nodename == 'kilauea':\n",
    "    root_path = '/home/brotzer/'\n",
    "    data_path = '/import/kilauea-data/'\n",
    "    archive_path = '/import/freenas-ffb-01-data/'\n",
    "    bay_path = '/import/ontap-ffb-bay200/'\n",
    "    lamont_path = '/lamont/'\n",
    "elif os.uname().nodename in ['lin-ffb-01', 'ambrym', 'hochfelln']:\n",
    "    root_path = '/home/brotzer/'\n",
    "    data_path = '/import/kilauea-data/'\n",
    "    archive_path = '/import/freenas-ffb-01-data/'\n",
    "    bay_path = '/import/ontap-ffb-bay200/'\n",
    "    lamont_path = '/lamont/'"
   ]
  },
  {
   "cell_type": "markdown",
   "id": "ec2578ab",
   "metadata": {},
   "source": [
    "## Configurations"
   ]
  },
  {
   "cell_type": "code",
   "execution_count": 3,
   "id": "ba83e3e7",
   "metadata": {
    "ExecuteTime": {
     "end_time": "2023-06-27T08:11:13.008382Z",
     "start_time": "2023-06-27T08:11:13.002517Z"
    },
    "tags": []
   },
   "outputs": [],
   "source": [
    "config = {}\n",
    "\n",
    "config['ring'] = \"Z\"\n",
    "\n",
    "config['delta'] = 120\n",
    "\n",
    "config['seed'] = f\"BW.DROMY..FJ{config['ring']}\"\n",
    "\n",
    "config['path_to_sds'] = archive_path+\"romy_archive/\"\n",
    "\n",
    "# switch of PDs for monobeams at RZ & new control loop\n",
    "config['tbeg'] = UTCDateTime(\"2024-08-08 00:00\")\n",
    "config['tbeg'] = UTCDateTime(\"2024-08-10 00:00\")\n",
    "flim1, flim2 = 553.569, 553.577\n",
    "\n",
    "# path to Sagnac data\n",
    "config['path_to_autodata'] = archive_path+f\"romy_autodata/\"\n",
    "\n",
    "config['path_to_data'] = data_path+\"sagnac_frequency/data/backscatter/\"\n",
    "\n",
    "config['path_to_out_data'] = data_path+\"sagnac_frequency/data/\"\n",
    "\n",
    "config['path_to_figs'] = data_path+\"sagnac_frequency/figures/\"\n"
   ]
  },
  {
   "cell_type": "markdown",
   "id": "12ef7747-2cb6-4561-bfe3-ccd226aae9dc",
   "metadata": {
    "tags": []
   },
   "source": [
    "### Load backscatter data"
   ]
  },
  {
   "cell_type": "code",
   "execution_count": 4,
   "id": "c309e1b5-3b2c-4ca3-8a9e-7e0f8cae36b5",
   "metadata": {},
   "outputs": [
    {
     "ename": "KeyError",
     "evalue": "'tend'",
     "output_type": "error",
     "traceback": [
      "\u001b[0;31m---------------------------------------------------------------------------\u001b[0m",
      "\u001b[0;31mKeyError\u001b[0m                                  Traceback (most recent call last)",
      "Cell \u001b[0;32mIn[4], line 1\u001b[0m\n\u001b[0;32m----> 1\u001b[0m bs1 \u001b[38;5;241m=\u001b[39m __load_backscatter_data(config[\u001b[38;5;124m'\u001b[39m\u001b[38;5;124mtbeg\u001b[39m\u001b[38;5;124m'\u001b[39m], \u001b[43mconfig\u001b[49m\u001b[43m[\u001b[49m\u001b[38;5;124;43m'\u001b[39;49m\u001b[38;5;124;43mtend\u001b[39;49m\u001b[38;5;124;43m'\u001b[39;49m\u001b[43m]\u001b[49m, config[\u001b[38;5;124m'\u001b[39m\u001b[38;5;124mring\u001b[39m\u001b[38;5;124m'\u001b[39m], config[\u001b[38;5;124m'\u001b[39m\u001b[38;5;124mpath_to_data\u001b[39m\u001b[38;5;124m'\u001b[39m], label\u001b[38;5;241m=\u001b[39m\u001b[38;5;124m\"\u001b[39m\u001b[38;5;124m\"\u001b[39m)\n\u001b[1;32m      2\u001b[0m bs2 \u001b[38;5;241m=\u001b[39m __load_backscatter_data(config[\u001b[38;5;124m'\u001b[39m\u001b[38;5;124mtbeg\u001b[39m\u001b[38;5;124m'\u001b[39m], config[\u001b[38;5;124m'\u001b[39m\u001b[38;5;124mtend\u001b[39m\u001b[38;5;124m'\u001b[39m], config[\u001b[38;5;124m'\u001b[39m\u001b[38;5;124mring\u001b[39m\u001b[38;5;124m'\u001b[39m], config[\u001b[38;5;124m'\u001b[39m\u001b[38;5;124mpath_to_data\u001b[39m\u001b[38;5;124m'\u001b[39m], label\u001b[38;5;241m=\u001b[39m\u001b[38;5;124m\"\u001b[39m\u001b[38;5;124m120\u001b[39m\u001b[38;5;124m\"\u001b[39m)\n\u001b[1;32m      4\u001b[0m bs1[\u001b[38;5;124m'\u001b[39m\u001b[38;5;124mtime_sec\u001b[39m\u001b[38;5;124m'\u001b[39m] \u001b[38;5;241m=\u001b[39m bs1\u001b[38;5;241m.\u001b[39mtime2 \u001b[38;5;241m-\u001b[39m bs1\u001b[38;5;241m.\u001b[39mtime1 \u001b[38;5;241m+\u001b[39m (bs1\u001b[38;5;241m.\u001b[39mtime1 \u001b[38;5;241m-\u001b[39m bs1\u001b[38;5;241m.\u001b[39mtime1\u001b[38;5;241m.\u001b[39mloc[\u001b[38;5;241m0\u001b[39m])\n",
      "\u001b[0;31mKeyError\u001b[0m: 'tend'"
     ]
    }
   ],
   "source": [
    "bs1 = __load_backscatter_data(config['tbeg'], config['tend'], config['ring'], config['path_to_data'], label=\"\")\n",
    "bs2 = __load_backscatter_data(config['tbeg'], config['tend'], config['ring'], config['path_to_data'], label=\"120\")\n",
    "\n",
    "bs1['time_sec'] = bs1.time2 - bs1.time1 + (bs1.time1 - bs1.time1.loc[0])\n",
    "bs2['time_sec'] = bs2.time2 - bs2.time1 + (bs2.time1 - bs2.time1.loc[0])"
   ]
  },
  {
   "cell_type": "code",
   "execution_count": null,
   "id": "7ebc95c5-1800-4776-aa49-2d3a97095e64",
   "metadata": {
    "tags": []
   },
   "outputs": [],
   "source": [
    "plt.plot(bs2.time1)"
   ]
  },
  {
   "cell_type": "code",
   "execution_count": null,
   "id": "2dead6af-49fa-42ad-9d8e-97d65566f8db",
   "metadata": {
    "tags": []
   },
   "outputs": [],
   "source": [
    "# use complete unwrapped phases\n",
    "bs1['fj_ph'] = np.unwrap(bs1.fj_phw)\n",
    "bs1['f1_ph'] = np.unwrap(bs1.f1_phw)\n",
    "bs1['f2_ph'] = np.unwrap(bs1.f2_phw)\n",
    "\n",
    "ph1 = np.unwrap(bs1.f1_phw)\n",
    "ph2 = np.unwrap(bs1.f2_phw)\n",
    "\n",
    "# fractional beat modulations\n",
    "m01 = bs1.f1_ac / bs1.f1_dc\n",
    "m02 = bs1.f2_ac / bs1.f2_dc\n",
    "\n",
    "# phase difference\n",
    "phase0 = ph2 - ph1\n",
    "\n",
    "# beat signal observed\n",
    "w_obs = bs1.fj_fs\n",
    "\n",
    "# compute backscatter corrected signal\n",
    "bs1['fj_bs'], _, _ = __backscatter_correction(m01, m02, phase0, w_obs, np.median(bs1.fj_fs), cm_filter_factor=1.033)"
   ]
  },
  {
   "cell_type": "code",
   "execution_count": null,
   "id": "e3cdf42b-f171-42c3-8c07-234a874f4a20",
   "metadata": {
    "tags": []
   },
   "outputs": [],
   "source": [
    "# use complete unwrapped phases\n",
    "bs2['fj_ph'] = np.unwrap(bs2.fj_phw)\n",
    "bs2['f1_ph'] = np.unwrap(bs2.f1_phw)\n",
    "bs2['f2_ph'] = np.unwrap(bs2.f2_phw)\n",
    "\n",
    "ph1 = np.unwrap(bs2.f1_phw)\n",
    "ph2 = np.unwrap(bs2.f2_phw)\n",
    "\n",
    "# fractional beat modulations\n",
    "m01 = bs2.f1_ac / bs2.f1_dc\n",
    "m02 = bs2.f2_ac / bs2.f2_dc\n",
    "\n",
    "# phase difference\n",
    "phase0 = ph2 - ph1\n",
    "\n",
    "# beat signal observed\n",
    "w_obs = bs2.fj_fs\n",
    "\n",
    "# compute backscatter corrected signal\n",
    "bs2['fj_bs'], _, _ = __backscatter_correction(m01, m02, phase0, w_obs, np.median(bs2.fj_fs), cm_filter_factor=1.033)"
   ]
  },
  {
   "cell_type": "code",
   "execution_count": null,
   "id": "6fe738d9-c4f3-4155-bc83-edac20ff9dd7",
   "metadata": {},
   "outputs": [],
   "source": [
    "%matplotlib tk"
   ]
  },
  {
   "cell_type": "code",
   "execution_count": null,
   "id": "129f733c-d7d4-4c68-ab95-75bd689fd010",
   "metadata": {},
   "outputs": [],
   "source": [
    "plt.plot(bs1.time_sec, bs1.fj_fs)\n",
    "plt.plot(bs2.time_sec, bs2.fj_fs)\n",
    "\n",
    "plt.ylim(flim1, flim2)"
   ]
  },
  {
   "cell_type": "code",
   "execution_count": null,
   "id": "3fb689a1-5b36-4dd5-ac86-26df2fb8fd50",
   "metadata": {
    "tags": []
   },
   "outputs": [],
   "source": [
    "plt.plot(bs1.time_sec, bs1.f1_ac/bs1.f1_dc)\n",
    "plt.plot(bs2.time_sec, bs2.f1_ac/bs2.f1_dc)"
   ]
  },
  {
   "cell_type": "markdown",
   "id": "c5b9e835-f58a-4241-ba3f-ec5427ffa35c",
   "metadata": {},
   "source": [
    "### Cut corrupt data periods"
   ]
  },
  {
   "cell_type": "code",
   "execution_count": null,
   "id": "b2448408-bd7f-4d43-8bb2-681e845eed56",
   "metadata": {
    "tags": []
   },
   "outputs": [],
   "source": [
    "bs['fj_fs'] = np.where((bs.fj_fs > flim2), np.nan, bs.fj_fs)\n",
    "bs['fj_fs'] = np.where((bs.fj_fs < flim1), np.nan, bs.fj_fs)\n",
    "\n",
    "bs['fj_bs'] = np.where((bs.fj_bs > flim2), np.nan, bs.fj_bs)\n",
    "bs['fj_bs'] = np.where((bs.fj_bs < flim1), np.nan, bs.fj_bs)"
   ]
  },
  {
   "cell_type": "code",
   "execution_count": null,
   "id": "dcc213a7-e18a-43ad-b17e-44a3645e79ea",
   "metadata": {
    "tags": []
   },
   "outputs": [],
   "source": [
    "def __time_spans_to_nan(bs, time_spans):\n",
    "\n",
    "    from numpy import where, nan\n",
    "\n",
    "    for t1, t2 in time_spans:\n",
    "        bs['fj_fs'] = where((bs.time1 > t1) & (bs.time1 < t2), nan, bs.fj_fs)\n",
    "        bs['fj_bs'] = where((bs.time1 > t1) & (bs.time1 < t2), nan, bs.fj_bs)\n",
    "\n",
    "    return bs"
   ]
  },
  {
   "cell_type": "code",
   "execution_count": null,
   "id": "9a31dbbf-7a37-454c-a966-d170fb2e417c",
   "metadata": {
    "tags": []
   },
   "outputs": [],
   "source": [
    "time_spans = [(\"2024-06-20T12:00\", \"2024-06-21T12:00\"),\n",
    "             ]\n",
    "\n",
    "bs = __time_spans_to_nan(bs, time_spans)"
   ]
  },
  {
   "cell_type": "code",
   "execution_count": null,
   "id": "a110303c-2c40-4558-a12a-c7dd99b09d6a",
   "metadata": {
    "tags": []
   },
   "outputs": [],
   "source": [
    "from functions.load_mlti import __load_mlti\n",
    "from functions.get_mlti_intervals import __get_mlti_intervals\n",
    "from functions.mlti_intervals_to_NaN import __mlti_intervals_to_NaN\n",
    "\n",
    "mlti = __load_mlti(config['tbeg'], config['tend'], config['ring'], archive_path)\n",
    "\n",
    "mlti_t1, mlti_t2 = __get_mlti_intervals(mlti.time_utc)\n",
    "\n",
    "bs = __mlti_intervals_to_NaN(bs, \"fj_fs\", \"time1\", mlti_t1, mlti_t2, t_offset_sec=180)\n",
    "bs = __mlti_intervals_to_NaN(bs, \"fj_bs\", \"time1\", mlti_t1, mlti_t2, t_offset_sec=180)"
   ]
  },
  {
   "cell_type": "code",
   "execution_count": null,
   "id": "45472590-c446-4f57-b7c8-4cba26aac9d6",
   "metadata": {
    "tags": []
   },
   "outputs": [],
   "source": [
    "from functions.get_mlti_statistics import __get_mlti_statistics\n",
    "\n",
    "mlti_stats = __get_mlti_statistics(mlti, config['tbeg'], config['tend'], intervals=True, plot=True, ylog=False)\n"
   ]
  },
  {
   "cell_type": "markdown",
   "id": "60589676-e1b9-449d-92a9-22ba4cbe5e18",
   "metadata": {},
   "source": [
    "### Apply special filter sections"
   ]
  },
  {
   "cell_type": "code",
   "execution_count": null,
   "id": "512abf36-a40d-480f-9177-556a493a4cbc",
   "metadata": {
    "tags": []
   },
   "outputs": [],
   "source": [
    "from functions.interpolate_nan import __interpolate_nan\n",
    "\n",
    "bs['fj_fs_inter'] = __interpolate_nan(np.array(bs.fj_fs_nan))\n",
    "bs['fj_bs_inter'] = __interpolate_nan(np.array(bs.fj_bs_nan))"
   ]
  },
  {
   "cell_type": "code",
   "execution_count": null,
   "id": "09b3cefb-1f20-400e-822c-37dde096970a",
   "metadata": {
    "tags": []
   },
   "outputs": [],
   "source": [
    "from functions.smoothing import __smooth\n",
    "\n",
    "n_minutes = 60\n",
    "\n",
    "bs['fj_fs_smooth'] = __smooth(bs.fj_fs_inter, n_minutes)\n",
    "bs['fj_bs_smooth'] = __smooth(bs.fj_bs_inter, n_minutes)"
   ]
  },
  {
   "cell_type": "markdown",
   "id": "2f3154b6-1c6a-436d-97bf-0e86d840b43d",
   "metadata": {},
   "source": [
    "### Load LXX maintenance"
   ]
  },
  {
   "cell_type": "code",
   "execution_count": null,
   "id": "fcb83285-ae34-4335-be4e-977e1d22561a",
   "metadata": {
    "tags": []
   },
   "outputs": [],
   "source": [
    "from functions.load_lxx import __load_lxx\n",
    "from functions.get_lxx_intervals import __get_lxx_intervals\n",
    "\n",
    "lxx =__load_lxx(config['tbeg'], config['tend'], archive_path)\n",
    "\n",
    "lxx_t1, lxx_t2 = __get_lxx_intervals(lxx.datetime)"
   ]
  },
  {
   "cell_type": "markdown",
   "id": "97787288-abff-4aa9-8601-0832ceaa11d8",
   "metadata": {},
   "source": [
    "### Checkup Plot"
   ]
  },
  {
   "cell_type": "code",
   "execution_count": null,
   "id": "2ae877ec-3074-4929-a0f1-d866cb07ae39",
   "metadata": {
    "tags": []
   },
   "outputs": [],
   "source": [
    "def __makeplot():\n",
    "\n",
    "    Nrow, Ncol = 1, 1\n",
    "\n",
    "    font = 12\n",
    "\n",
    "    fig, ax = plt.subplots(Nrow, Ncol, figsize=(15, 5), sharex=True)\n",
    "\n",
    "    plt.subplots_adjust(hspace=0.1)\n",
    "\n",
    "    # time_scaling = 1/86400\n",
    "    time_scaling = 1\n",
    "    ref_date = str(bs.time1.iloc[0])[:10]\n",
    "\n",
    "    ax.plot(bs.time_sec*time_scaling, bs.fj_fs, color=\"tab:grey\", alpha=0.3, label=\"raw\")\n",
    "    ax.plot(bs.time_sec*time_scaling, bs.fj_fs_nan, color=\"tab:blue\", label=\"cleaned\")\n",
    "    # ax.plot(bs.time_sec*time_scaling, bs.fj_fs_smooth, color=\"k\", label=f\"mov. avg. ({n_minutes} min)\")\n",
    "    ax.set_ylim(flim1, flim2)\n",
    "    ax.ticklabel_format(useOffset=False)\n",
    "    ax.set_ylabel(\"$\\delta f$ north ring (Hz)\", fontsize=font)\n",
    "\n",
    "    ax.grid(ls=\":\", zorder=0)\n",
    "    ax.legend(loc=1)\n",
    "    ax.set_xlim(left=0)\n",
    "\n",
    "    for lx1, lx2 in zip(lxx_t1, lxx_t2):\n",
    "        lx1_sec = lx1-UTCDateTime(ref_date)\n",
    "        lx2_sec = lx2-UTCDateTime(ref_date)\n",
    "        ax.fill_betweenx([flim1, flim2], lx1_sec, lx2_sec, color=\"yellow\", alpha=0.5)\n",
    "\n",
    "    ## add dates to x-axis\n",
    "    tcks = ax.get_xticks()\n",
    "    tcklbls = [f\"{UTCDateTime(UTCDateTime(ref_date)+t).date} \\n {UTCDateTime(UTCDateTime(ref_date)+t).time}\" for t in tcks]\n",
    "    ax.set_xticklabels(tcklbls)\n",
    "\n",
    "    gc.collect()\n",
    "\n",
    "    plt.show();\n",
    "    return fig\n",
    "\n",
    "fig = __makeplot();\n",
    "\n",
    "# fig.savefig(config['path_to_figs']+f\"SF_BS_R{config['ring'}_cleaned.png\", format=\"png\", dpi=150, bbox_inches='tight')\n"
   ]
  },
  {
   "cell_type": "markdown",
   "id": "2698424e-9869-4b05-bb75-a88f603071e4",
   "metadata": {
    "tags": []
   },
   "source": [
    "### Find phase jumps"
   ]
  },
  {
   "cell_type": "code",
   "execution_count": null,
   "id": "9ad006fe-f4ec-409d-8540-67b01d57660e",
   "metadata": {
    "tags": []
   },
   "outputs": [],
   "source": [
    "from functions.get_phase_jumps_sta_lta import get_phase_jumps_sta_lta"
   ]
  },
  {
   "cell_type": "code",
   "execution_count": null,
   "id": "00d73322-915d-4419-a51b-53ee86f5c061",
   "metadata": {
    "tags": []
   },
   "outputs": [],
   "source": [
    "ratio, detect = get_phase_jumps_sta_lta(np.array(bs.fj_fs), np.array(bs.time_sec), 5, 3, amp_threshold=5e-5)\n"
   ]
  },
  {
   "cell_type": "code",
   "execution_count": null,
   "id": "6bfb66ec-2fc1-42fa-90ca-2f9faf3e9b2a",
   "metadata": {
    "tags": []
   },
   "outputs": [],
   "source": [
    "mask1 = np.where(detect == 1, bs.time1, np.nan)\n",
    "mask2 = np.where(detect == 1, bs.time2, np.nan)\n",
    "\n",
    "mask_df = DataFrame()\n",
    "mask_df['mask1'] = mask1\n",
    "mask_df['mask2'] = mask2\n",
    "\n",
    "mask_df = mask_df.dropna()\n",
    "\n",
    "mask1 = np.array(mask_df.mask1)\n",
    "mask2 = np.array(mask_df.mask2)"
   ]
  },
  {
   "cell_type": "markdown",
   "id": "acd963bb-7000-4a8f-aca8-2e35ffdf8604",
   "metadata": {},
   "source": [
    "#### Correct phase jumps"
   ]
  },
  {
   "cell_type": "code",
   "execution_count": null,
   "id": "bcf249a0-ef18-4d48-93b6-743ac00c5ca5",
   "metadata": {
    "tags": []
   },
   "outputs": [],
   "source": [
    "def __reduce_phase_jumps(data, detect):\n",
    "\n",
    "    data = np.array(data)\n",
    "\n",
    "    di = 5\n",
    "    offset = 3\n",
    "    for _i in range(len(data)):\n",
    "        if _i < di+offset:\n",
    "            continue\n",
    "\n",
    "        if detect[_i] == 1:\n",
    "            try:\n",
    "                left = np.nanmean(data[_i-offset-di:_i-offset])\n",
    "                right = np.nanmean(data[_i+offset:_i+offset+di])\n",
    "            except:\n",
    "                print(f\" -> skip {_i}\")\n",
    "                continue\n",
    "\n",
    "            diff = left - right\n",
    "\n",
    "            data[_i-3:_i] = left\n",
    "\n",
    "            data[_i:] += diff\n",
    "\n",
    "    return data"
   ]
  },
  {
   "cell_type": "code",
   "execution_count": null,
   "id": "3e23cc23-f971-4ca8-ac7d-1cea00140250",
   "metadata": {
    "tags": []
   },
   "outputs": [],
   "source": [
    "# get index for mlti launches\n",
    "mlti_sec = [int((UTCDateTime(_t) - config['tbeg'])/60) for _t in mlti.time_utc]\n",
    "\n",
    "# add mlti launches to detected jumps for correction\n",
    "for _i in mlti_sec:\n",
    "    detect[_i] = 1\n",
    "    # detect[_i+10] = 1"
   ]
  },
  {
   "cell_type": "code",
   "execution_count": null,
   "id": "811844ee-5e14-445d-9b42-886641398395",
   "metadata": {
    "tags": []
   },
   "outputs": [],
   "source": [
    "bs['fj_fs_dejump'] = __reduce_phase_jumps(bs.fj_fs_inter, detect)\n",
    "bs['fj_bs_dejump'] = __reduce_phase_jumps(bs.fj_bs_inter, detect)"
   ]
  },
  {
   "cell_type": "code",
   "execution_count": null,
   "id": "1a290edf-d232-48f8-a876-43dbc55d0f45",
   "metadata": {},
   "outputs": [],
   "source": [
    "plt.plot(bs.fj_fs_dejump)\n",
    "plt.plot(bs.fj_bs_dejump)"
   ]
  },
  {
   "cell_type": "code",
   "execution_count": null,
   "id": "5ee14dfe-38ab-4e1a-8415-fd700db4a6a7",
   "metadata": {
    "tags": []
   },
   "outputs": [],
   "source": [
    "def __makeplot5():\n",
    "\n",
    "    Nrow, Ncol = 1, 1\n",
    "\n",
    "    font = 12\n",
    "\n",
    "    fig, ax = plt.subplots(Nrow, Ncol, figsize=(15, 5), sharex=True)\n",
    "\n",
    "    plt.subplots_adjust(hspace=0.1)\n",
    "\n",
    "    tscale, tunit = 1/86400, \"days\"\n",
    "\n",
    "    ax.plot(bs.time_sec*tscale, bs.fj_bs, color=\"tab:grey\", alpha=0.5)\n",
    "    ax.plot(bs.time_sec*tscale, bs.fj_bs_nan, color=\"black\", label=f\"R{config['ring']} w/o backscatter (masked)\")\n",
    "    ax.plot(bs.time_sec*tscale, bs.fj_bs_dejump, color=\"tab:blue\", label=f\"R{config['ring']} w/o backscatter (dejumped)\")\n",
    "\n",
    "    for d in detect*bs.time_sec*tscale:\n",
    "        ax.axvline(d, alpha=0.1, zorder=1, color=\"darkred\")\n",
    "\n",
    "    ax.ticklabel_format(useOffset=False)\n",
    "\n",
    "    # ax.set_ylim(447.726, 447.738)\n",
    "\n",
    "    ax.grid(ls=\":\", zorder=0)\n",
    "    ax.legend(loc=9, ncol=2)\n",
    "\n",
    "    ax.set_ylabel(\"$\\delta$f (Hz)\", fontsize=font)\n",
    "    ax.set_xlabel(f\"Time ({tunit}) from {config['tbeg'].date} {str(config['tbeg'].time).split('.')[0]} UTC\", fontsize=font)\n",
    "\n",
    "    plt.show();\n",
    "    return fig\n",
    "\n",
    "fig = __makeplot5();\n",
    "\n",
    "fig.savefig(config['path_to_figs']+f\"SF_BS_R{config['ring']}_dejump.png\", format=\"png\", dpi=150, bbox_inches='tight')\n"
   ]
  },
  {
   "cell_type": "code",
   "execution_count": null,
   "id": "cd4ac5fb-bfcc-48db-9cfa-181b6fa7cd7d",
   "metadata": {
    "tags": []
   },
   "outputs": [],
   "source": [
    "from functions.multitaper_psd import __multitaper_psd\n",
    "from scipy.signal import detrend\n",
    "\n",
    "bs['fj_bs_smooth_inter'] = __interpolate_nan(np.array(bs.fj_bs_smooth))\n",
    "\n",
    "mode = \"linear\"\n",
    "\n",
    "dat1 = detrend(bs.fj_fs_inter, type=mode)\n",
    "dat2 = detrend(bs.fj_bs_inter, type=mode)\n",
    "# dat1 = detrend(bs.fj_fs_dejump, type=mode)\n",
    "# dat2 = detrend(bs.fj_bs_dejump, type=mode)\n",
    "\n",
    "# dat3 = detrend(bs.fj_bs_smooth_inter, type=mode)\n",
    "\n",
    "# f1, psd1 = __multitaper_psd(dat1, 60, n_win=10, time_bandwidth=3.5)\n",
    "# f2, psd2 = __multitaper_psd(dat2, 60, n_win=10, time_bandwidth=3.5)\n",
    "\n",
    "# f1, psd1 = __welch_psd(dat1, 60, twin_sec=86400)\n",
    "# f2, psd2 = __welch_psd(dat2, 60, twin_sec=86400)\n",
    "\n",
    "psd1, f1, pha1 = __get_fft(dat1, 60, window=\"cosine\")\n",
    "psd2, f2, pha2 = __get_fft(dat2, 60, window=\"cosine\")\n",
    "# psd3, f3, pha3 = __get_fft(dat3, 60, window=\"cosine\")\n",
    "\n",
    "# psd1, f1, pha1 = __get_fft(dat1, 60)\n",
    "# psd2, f2, pha2 = __get_fft(dat2, 60)\n",
    "# psd3, f3, pha3 = __get_fft(dat3, 60)"
   ]
  },
  {
   "cell_type": "code",
   "execution_count": null,
   "id": "3651c6a7-e3e3-4b9b-9d1c-4bc0d556a23a",
   "metadata": {
    "tags": []
   },
   "outputs": [],
   "source": [
    "def __makeplot():\n",
    "\n",
    "    Nrow, Ncol = 2, 1\n",
    "\n",
    "    font = 12\n",
    "\n",
    "    tscale, tunit = 1/86400, \"days\"\n",
    "\n",
    "    fig, ax = plt.subplots(Nrow, Ncol, figsize=(15, 8))\n",
    "\n",
    "    ax[0].plot(bs.time_sec*tscale, bs.fj_fs, color=\"tab:grey\", alpha=0.3, label=\"raw\")\n",
    "    ax[0].plot(bs.time_sec*tscale, bs.fj_fs_nan, color=\"black\", label=f\"$\\delta$f (w/ backscatter)\")\n",
    "    ax[0].plot(bs.time_sec*tscale, bs.fj_bs_nan, color=\"tab:red\", label=f\"$\\delta$f (w/o backscatter)\")\n",
    "    ax[0].plot(bs.time_sec*tscale, bs.fj_bs_smooth, color=\"w\", lw=1)\n",
    "\n",
    "    ax[0].ticklabel_format(useOffset=False)\n",
    "\n",
    "    ax[1].semilogx(f1*86400, psd1, color=\"black\", label=f\"$\\delta$f w/ backscatter\")\n",
    "    ax[1].semilogx(f2*86400, psd2, color=\"tab:red\", label=f\"$\\delta$f w/o backscatter\")\n",
    "    # ax[1].semilogx(f3, psd3, color=\"tab:grey\", label=f\"$\\delta$f w/o backscatter (smooth)\")\n",
    "\n",
    "    for _n in range(Nrow):\n",
    "        ax[_n].grid(ls=\":\", zorder=0)\n",
    "\n",
    "    ax[0].legend(loc=4, fontsize=font-1, ncol=3)\n",
    "    ax[1].legend(loc=1, fontsize=font-1, ncol=3)\n",
    "\n",
    "    ax[0].set_ylim(flim1, flim2)\n",
    "\n",
    "\n",
    "    ax[0].set_ylabel(f\"$\\delta$f (Hz)\", fontsize=font)\n",
    "    ax[0].set_xlabel(f\"Time from {config['tbeg'].date} {config['tbeg'].time} UTC ({tunit})\", fontsize=font)\n",
    "\n",
    "    # ax[1].set_ylabel(\"PSD (Hz$^2$ /Hz)\", fontsize=font)\n",
    "    ax[1].set_ylabel(\"Spectrum (Hz $\\sqrt{Hz}$)\", fontsize=font)\n",
    "    ax[1].set_xlabel(\"Frequency (cycles per day)\", fontsize=font)\n",
    "\n",
    "    ax[1].axvline(1/(12*3600)*86400, ls=\"--\", color=\"grey\", zorder=0)\n",
    "    ax[1].axvline(1/(24*3600)*86400, ls=\"--\", color=\"grey\", zorder=0)\n",
    "\n",
    "    ax[0].text(.005, .97, \"(a)\", ha='left', va='top', transform=ax[0].transAxes, fontsize=font+2)\n",
    "    ax[1].text(.005, .97, \"(b)\", ha='left', va='top', transform=ax[1].transAxes, fontsize=font+2)\n",
    "\n",
    "    # add maintenance periods\n",
    "    for lx1, lx2 in zip(lxx_t1, lxx_t2):\n",
    "        lx1_sec = ( lx1-UTCDateTime(config['tbeg']) )*tscale\n",
    "        lx2_sec = ( lx2-UTCDateTime(config['tbeg']) )*tscale\n",
    "        ax[0].fill_betweenx([flim1, flim2], lx1_sec, lx2_sec, color=\"yellow\", alpha=0.5)\n",
    "\n",
    "    plt.show();\n",
    "    return fig\n",
    "\n",
    "fig = __makeplot();\n",
    "\n",
    "fig.savefig(config['path_to_figs']+f\"SF_BS_R{config['ring']}_backscatter_spectrum_{config['tbeg']}_{config['tend']}.png\", format=\"png\", dpi=150, bbox_inches='tight')\n"
   ]
  },
  {
   "cell_type": "code",
   "execution_count": null,
   "id": "48970b06-60da-40c6-af0f-4f76bbc7deb9",
   "metadata": {
    "tags": []
   },
   "outputs": [],
   "source": [
    "def __makeplot_residual():\n",
    "\n",
    "    import matplotlib.pyplot as plt\n",
    "    import numpy as np\n",
    "    from matplotlib.gridspec import GridSpec\n",
    "    from functions.multitaper_psd import __multitaper_psd\n",
    "    from functions.welch_psd import __welch_psd\n",
    "    from functions.to_dB import __to_dB\n",
    "    from functions.variance_reduction import __variance_reduction\n",
    "\n",
    "\n",
    "    def __integrate(stt, dat):\n",
    "        _st = stt.copy()\n",
    "        _st.data = dat\n",
    "        _st.integrate()\n",
    "        return _st.data\n",
    "\n",
    "    def __rmse(arr1, arr2):\n",
    "        return np.round(np.sqrt(np.mean((arr1-arr2)**2)), 4)\n",
    "\n",
    "    def __variance_reduction(arr1, arr2):\n",
    "        from numpy import var\n",
    "        return round(( var(arr1) - var(arr2) ) / var(arr1) * 100, 2)\n",
    "\n",
    "    def __get_lim(arrs):\n",
    "        mins = [min(arr) for arr in arrs]\n",
    "        maxs = [max(arr) for arr in arrs]\n",
    "        return min(mins + maxs), max(mins + maxs)\n",
    "\n",
    "\n",
    "\n",
    "    tscale, tunit = 1/86400, \"days\"\n",
    "\n",
    "\n",
    "    Ncol, Nrow = 1, 3\n",
    "\n",
    "    font = 12\n",
    "\n",
    "    lw = 1\n",
    "\n",
    "    scale, unit = 1, f\"Hz\"\n",
    "\n",
    "    fig = plt.figure(figsize=(15, 5))\n",
    "\n",
    "    gs = GridSpec(Nrow, Ncol, figure=fig, hspace=0)\n",
    "\n",
    "    ax1 = fig.add_subplot(gs[0:2, :])\n",
    "    ax2 = fig.add_subplot(gs[2, :])\n",
    "\n",
    "    ax1.plot(bs.time_sec*tscale, bs.fj_fs, color=\"tab:grey\", alpha=0.3, label=\"raw\")\n",
    "    ax1.plot(bs.time_sec*tscale, bs.fj_fs_nan, color=\"black\", label=f\"$\\delta$f (w/ backscatter)\")\n",
    "    ax1.plot(bs.time_sec*tscale, bs.fj_bs_nan, color=\"tab:red\", label=f\"$\\delta$f (w/o backscatter)\")\n",
    "    ax1.plot(bs.time_sec*tscale, bs.fj_bs_smooth, color=\"w\", lw=1)\n",
    "\n",
    "    ax2.plot(bs.time_sec*tscale, ( bs.fj_fs-bs.fj_bs )*1e3, color=\"grey\", lw=lw)\n",
    "    # ax2.fill_between(bs.time_sec*tscale, 0, ( bs.fj_fs-bs.fj_bs )*1e3, color=\"grey\", alpha=0.3)\n",
    "\n",
    "    ax1.set_ylim(flim1, flim2)\n",
    "    ax1.ticklabel_format(useOffset=False)\n",
    "    ax1.legend(loc=1, ncol=3)\n",
    "\n",
    "    ax1.set_ylabel(f\"$\\delta$f (Hz)\", fontsize=font)\n",
    "    ax2.set_ylabel(f\"residual\\n(mHz)\", fontsize=font)\n",
    "\n",
    "    for ax in [ax1]:\n",
    "        ax.get_xaxis().set_visible(False)\n",
    "\n",
    "    ax2.set_xlabel(f\"Time ({tunit}) from {config['tbeg'].date} {str(config['tbeg'].time).split('.')[0]} UTC\", fontsize=font)\n",
    "\n",
    "    ax1.text(.005, .97, \"(a)\", ha='left', va='top', transform=ax1.transAxes, fontsize=font+2)\n",
    "    ax2.text(.005, .97, \"(b)\", ha='left', va='top', transform=ax2.transAxes, fontsize=font+2)\n",
    "\n",
    "    R = __variance_reduction(bs.fj_fs, bs.fj_fs - bs.fj_bs)\n",
    "\n",
    "    txt = f\"RMSE = {__rmse(bs.fj_fs, bs.fj_bs)}, VR = {R}%\"\n",
    "    ax2.text(.99, .95, txt, ha='right', va='top', transform=ax2.transAxes, fontsize=font-2, bbox=dict(facecolor='white', alpha=0.6, edgecolor=\"w\"))\n",
    "\n",
    "    # ax1.set_title(f\"{til_in[0].stats.station} & {acc_in[0].stats.station} | f = {fmin} - {fmax} Hz\")\n",
    "\n",
    "    # ax1.grid(ls=\":\", zorder=0)\n",
    "    # ax2.grid(ls=\":\", zorder=0)\n",
    "\n",
    "    # add maintenance periods\n",
    "    for lx1, lx2 in zip(lxx_t1, lxx_t2):\n",
    "        lx1_sec = ( lx1-UTCDateTime(config['tbeg']) )*tscale\n",
    "        lx2_sec = ( lx2-UTCDateTime(config['tbeg']) )*tscale\n",
    "        ax1.fill_betweenx([flim1, flim2], lx1_sec, lx2_sec, color=\"yellow\", alpha=0.5)\n",
    "\n",
    "    plt.plot();\n",
    "    return fig\n",
    "\n",
    "fig = __makeplot_residual()\n",
    "\n",
    "fig.savefig(config['path_to_figs']+f\"SF_BS_R{config['ring']}_backscatter_residual_{config['tbeg']}_{config['tend']}.png\", format=\"png\", dpi=150, bbox_inches='tight')\n"
   ]
  },
  {
   "cell_type": "code",
   "execution_count": null,
   "id": "ea4042e0-19e1-4f33-815f-ebf462e0f67b",
   "metadata": {
    "tags": []
   },
   "outputs": [],
   "source": [
    "# from andbro__store_as_pickle import __store_as_pickle\n",
    "\n",
    "# __store_as_pickle(fig, \"/home/andbro/notebooks/RomyMonitor/images/fig0.pkl\")"
   ]
  },
  {
   "cell_type": "markdown",
   "id": "77402337-1a5f-4367-aa77-bd36bb935ae0",
   "metadata": {},
   "source": [
    "## Plot with zoom-in"
   ]
  },
  {
   "cell_type": "code",
   "execution_count": null,
   "id": "18771ee8-75f5-4b50-afb3-eb7129b49901",
   "metadata": {
    "tags": []
   },
   "outputs": [],
   "source": [
    "# %matplotlib tk"
   ]
  },
  {
   "cell_type": "code",
   "execution_count": null,
   "id": "5f2197f4-91ef-4b09-b4a9-c3e8c0fed200",
   "metadata": {},
   "outputs": [],
   "source": [
    "plt.plot(np.arange(0, len(bs.time_sec)-1, 1), np.diff(bs.time_sec))"
   ]
  },
  {
   "cell_type": "code",
   "execution_count": null,
   "id": "52e84df1-ec91-426e-bed8-6a78a0d6991d",
   "metadata": {
    "tags": []
   },
   "outputs": [],
   "source": [
    "def __makeplot_residual():\n",
    "\n",
    "    import matplotlib.pyplot as plt\n",
    "    import numpy as np\n",
    "    from matplotlib.gridspec import GridSpec\n",
    "    from functions.multitaper_psd import __multitaper_psd\n",
    "    from functions.welch_psd import __welch_psd\n",
    "    from functions.to_dB import __to_dB\n",
    "    from functions.variance_reduction import __variance_reduction\n",
    "\n",
    "\n",
    "    def __integrate(stt, dat):\n",
    "        _st = stt.copy()\n",
    "        _st.data = dat\n",
    "        _st.integrate()\n",
    "        return _st.data\n",
    "\n",
    "    def __rmse(arr1, arr2):\n",
    "        return np.round(np.sqrt(np.mean((arr1-arr2)**2)), 4)\n",
    "\n",
    "    def __variance_reduction(arr1, arr2):\n",
    "        from numpy import var\n",
    "        return round(( var(arr1) - var(arr2) ) / var(arr1) * 100, 2)\n",
    "\n",
    "    def __get_lim(arrs):\n",
    "        mins = [min(arr) for arr in arrs]\n",
    "        maxs = [max(arr) for arr in arrs]\n",
    "        return min(mins + maxs), max(mins + maxs)\n",
    "\n",
    "    _df = 1/2\n",
    "\n",
    "    fs0 = 553.57\n",
    "\n",
    "    fscale, funit = 1e3, \"mHz\"\n",
    "\n",
    "    tscale, tunit = 1/86400, \"days\"\n",
    "\n",
    "    Ncol, Nrow = 2, 5\n",
    "\n",
    "    font = 12\n",
    "\n",
    "    lw = 1\n",
    "\n",
    "    scale, unit = 1, f\"Hz\"\n",
    "\n",
    "    fig = plt.figure(figsize=(15, 10))\n",
    "\n",
    "    gs1 = GridSpec(Nrow, Ncol, figure=fig, hspace=0)\n",
    "    gs2 = GridSpec(Nrow, Ncol, figure=fig, hspace=1)\n",
    "\n",
    "    ax1 = fig.add_subplot(gs1[0:2, :])\n",
    "    ax2 = fig.add_subplot(gs1[2, :])\n",
    "    ax3 = fig.add_subplot(gs2[3:5, :1])\n",
    "    ax4 = fig.add_subplot(gs2[3:5, 1:])\n",
    "\n",
    "    ax1.plot(bs.time_sec*tscale, bs.fj_fs, color=\"tab:grey\", alpha=0.3, label=\"raw\")\n",
    "    ax1.plot(bs.time_sec*tscale, bs.fj_fs_nan, color=\"black\", label=f\"$\\delta$f (w/ backscatter)\")\n",
    "    ax1.plot(bs.time_sec*tscale, bs.fj_bs_nan, color=\"tab:red\", label=f\"$\\delta$f (w/o backscatter)\")\n",
    "    ax1.plot(bs.time_sec*tscale, bs.fj_bs_smooth, color=\"w\", lw=1)\n",
    "\n",
    "    ax2.plot(bs.time_sec*tscale, ( bs.fj_fs - bs.fj_bs )*1e3, color=\"grey\", lw=lw)\n",
    "    # ax2.fill_between(bs.time_sec*tscale, 0, ( bs.fj_fs-bs.fj_bs )*1e3, color=\"grey\", alpha=0.3)\n",
    "\n",
    "    t31, t32 = 0.95, 1.3 # days\n",
    "    n31, n32 = int(t31*1440*_df), int(t32*1440*_df)\n",
    "    print(n31, n32)\n",
    "    ax3.plot(bs.time_sec[n31:n32]*tscale, (bs.fj_fs[n31:n32]-fs0)*fscale, color=\"tab:grey\", alpha=0.3, label=\"raw\")\n",
    "    ax3.plot(bs.time_sec[n31:n32]*tscale, (bs.fj_fs_nan[n31:n32]-fs0)*fscale, color=\"black\", label=f\"$\\delta$f (w/ backscatter)\")\n",
    "    ax3.plot(bs.time_sec[n31:n32]*tscale, (bs.fj_bs_nan[n31:n32]-fs0)*fscale, color=\"tab:red\", label=f\"$\\delta$f (w/o backscatter)\")\n",
    "    ax3.plot(bs.time_sec[n31:n32]*tscale, (bs.fj_bs_smooth[n31:n32]-fs0)*fscale, color=\"w\", lw=1)\n",
    "    ax3.set_xlim(t31, t32)\n",
    "\n",
    "    t41, t42 = 2.5, 2.85 # days\n",
    "    n41, n42 = int(t41*1440*_df), int(t42*1440*_df)\n",
    "    ax4.plot(bs.time_sec[n41:n42]*tscale, (bs.fj_fs[n41:n42]-fs0)*fscale, color=\"tab:grey\", alpha=0.3, label=\"raw\")\n",
    "    ax4.plot(bs.time_sec[n41:n42]*tscale, (bs.fj_fs_nan[n41:n42]-fs0)*fscale, color=\"black\", label=f\"$\\delta$f (w/ backscatter)\")\n",
    "    ax4.plot(bs.time_sec[n41:n42]*tscale, (bs.fj_bs_nan[n41:n42]-fs0)*fscale, color=\"tab:red\", label=f\"$\\delta$f (w/o backscatter)\")\n",
    "    ax4.plot(bs.time_sec[n41:n42]*tscale, (bs.fj_bs_smooth[n41:n42]-fs0)*fscale, color=\"w\", lw=1)\n",
    "    ax4.set_xlim(t41, t42)\n",
    "\n",
    "\n",
    "    ax1.set_ylim(flim1, flim2)\n",
    "    flim_z1_1, flim_z1_2 = 553.571, 553.5735\n",
    "    ax3.set_ylim((flim_z1_1-fs0)*fscale, (flim_z1_2-fs0)*fscale)\n",
    "    flim_z2_1, flim_z2_2 = 553.572, 553.5738\n",
    "    ax4.set_ylim((flim_z2_1-fs0)*fscale, (flim_z2_2-fs0)*fscale)\n",
    "\n",
    "    ax1.fill_betweenx([flim_z1_1, flim_z1_2],\n",
    "                      bs.time_sec[n31]*tscale, bs.time_sec[n32]*tscale,\n",
    "                      color=\"purple\", alpha=0.1\n",
    "                     )\n",
    "    ax1.fill_betweenx([flim_z2_1, flim_z2_2],\n",
    "                      bs.time_sec[n41]*tscale, bs.time_sec[n42]*tscale,\n",
    "                      color=\"purple\", alpha=0.1\n",
    "                     )\n",
    "\n",
    "    ax1.set_ylabel(f\"$\\delta$f (Hz)\", fontsize=font)\n",
    "    ax3.set_ylabel(f\"$\\delta$f - fo ({funit})\", fontsize=font)\n",
    "    ax4.set_ylabel(f\"$\\delta$f - fo ({funit})\", fontsize=font)\n",
    "\n",
    "\n",
    "    for ax in [ax1, ax3, ax4]:\n",
    "        ax.ticklabel_format(useOffset=False)\n",
    "\n",
    "    ax1.legend(loc=4, ncol=3)\n",
    "\n",
    "    ax2.set_ylabel(f\"Residual\\n(mHz)\", fontsize=font)\n",
    "\n",
    "    for ax in [ax1]:\n",
    "        ax.get_xaxis().set_visible(False)\n",
    "\n",
    "    ax2.set_xlabel(f\"Time ({tunit}) since {config['tbeg'].date} {str(config['tbeg'].time).split('.')[0]} UTC\", fontsize=font)\n",
    "    ax3.set_xlabel(f\"Time ({tunit}) since {config['tbeg'].date} {str(config['tbeg'].time).split('.')[0]} UTC\", fontsize=font)\n",
    "    ax4.set_xlabel(f\"Time ({tunit}) since {config['tbeg'].date} {str(config['tbeg'].time).split('.')[0]} UTC\", fontsize=font)\n",
    "\n",
    "    ax1.text(.005, .97, \"(a)\", ha='left', va='top', transform=ax1.transAxes, fontsize=font+2)\n",
    "    ax2.text(.005, .97, \"(b)\", ha='left', va='top', transform=ax2.transAxes, fontsize=font+2)\n",
    "    ax3.text(.005, .97, \"(c)\", ha='left', va='top', transform=ax3.transAxes, fontsize=font+2)\n",
    "    ax4.text(.005, .97, \"(d)\", ha='left', va='top', transform=ax4.transAxes, fontsize=font+2)\n",
    "\n",
    "    R = __variance_reduction(bs.fj_fs, bs.fj_fs - bs.fj_bs)\n",
    "\n",
    "    txt = f\"VR = {R}%\"\n",
    "    ax2.text(.99, .97, txt, ha='right', va='top', transform=ax2.transAxes, fontsize=font-2)\n",
    "\n",
    "    # ax1.set_title(f\"{til_in[0].stats.station} & {acc_in[0].stats.station} | f = {fmin} - {fmax} Hz\")\n",
    "\n",
    "    # from matplotlib.ticker import (MultipleLocator, AutoMinorLocator)\n",
    "    # ax1.xaxis.set_major_locator(MultipleLocator(2))\n",
    "    # ax1.xaxis.set_minor_locator(MultipleLocator(4))\n",
    "\n",
    "    # add maintenance periods\n",
    "    for lx1, lx2 in zip(lxx_t1, lxx_t2):\n",
    "        lx1_sec = ( lx1-UTCDateTime(config['tbeg']) )*tscale\n",
    "        lx2_sec = ( lx2-UTCDateTime(config['tbeg']) )*tscale\n",
    "        ax1.fill_betweenx([flim1, flim2], lx1_sec, lx2_sec, color=\"yellow\", alpha=0.5)\n",
    "        ax3.fill_betweenx([flim1, flim2], lx1_sec, lx2_sec, color=\"yellow\", alpha=0.5)\n",
    "        ax4.fill_betweenx([flim1, flim2], lx1_sec, lx2_sec, color=\"yellow\", alpha=0.5)\n",
    "\n",
    "    plt.plot();\n",
    "    return fig\n",
    "\n",
    "# fig = __makeplot_residual()\n",
    "\n",
    "# fig.savefig(config['path_to_figs']+f\"SF_BS_R{config['ring']}_backscatter_residual_{config['tbeg']}_{config['tend']}_zoomin.png\",\n",
    "#             format=\"png\", dpi=150, bbox_inches='tight')\n"
   ]
  },
  {
   "cell_type": "markdown",
   "id": "58c2d20d-6cc7-44f6-839c-9adf3e451815",
   "metadata": {},
   "source": [
    "## Make Stream"
   ]
  },
  {
   "cell_type": "code",
   "execution_count": null,
   "id": "59b1fb2c-4ed7-4a76-8416-1cd3e60e6b3d",
   "metadata": {
    "tags": []
   },
   "outputs": [],
   "source": [
    "from functions.sagnac_to_tilt import __sagnac_to_tilt\n",
    "\n",
    "# dff = np.array(bs.fj_fs_inter)\n",
    "# dff = np.array(bs.fj_bs_inter)\n",
    "dff = np.array(bs.fj_bs_dejump)\n",
    "\n",
    "rx = Trace()\n",
    "rx.data = dff\n",
    "rx.stats.delta = 60\n",
    "rx.stats.starttime = bs.time1.iloc[0]\n",
    "rx.stats.station = \"ROMY\"\n",
    "rx.stats.channel = f\"FJ{config['ring']}\"\n",
    "rx.stats.network = \"BW\"\n",
    "\n",
    "rx = Stream(rx)\n",
    "\n",
    "rx.plot();"
   ]
  },
  {
   "cell_type": "code",
   "execution_count": null,
   "id": "22b160d9-3d15-472d-bd25-36ccc0e8fe86",
   "metadata": {
    "tags": []
   },
   "outputs": [],
   "source": [
    "# rx = rx.trim(UTCDateTime(\"2024-07-05\"), UTCDateTime(\"2024-07-18\"))\n",
    "\n",
    "rx = rx.detrend(\"linear\")\n",
    "rx = rx.detrend(\"simple\")\n",
    "\n",
    "rx = rx.taper(0.01, type=\"cosine\")\n",
    "\n",
    "# rx = rx.filter(\"bandpass\", freqmin=1/(30*3600), freqmax=1/(1*3600), zerophase=True, corners=4)\n",
    "rx.plot();"
   ]
  },
  {
   "cell_type": "code",
   "execution_count": null,
   "id": "286b8926-96e0-4993-8f28-a5ac29d0be33",
   "metadata": {
    "tags": []
   },
   "outputs": [],
   "source": [
    "# https://www.engineeringtoolbox.com/linear-expansion-coefficients-d_95.html"
   ]
  },
  {
   "cell_type": "code",
   "execution_count": null,
   "id": "853e6b97-a271-4f47-b582-69c74a95f3fc",
   "metadata": {
    "tags": []
   },
   "outputs": [],
   "source": [
    "from functions.sagnac_to_tilt import __sagnac_to_tilt\n",
    "\n",
    "dff = np.array(bs.fj_bs_dejump)\n",
    "\n",
    "dff_tilt = __sagnac_to_tilt(dff, config['ring'], tilt='n-s')\n",
    "\n",
    "rx = Trace()\n",
    "rx.data = dff_tilt\n",
    "rx.stats.delta = config['delta']\n",
    "rx.stats.starttime = bs.time1.iloc[0]\n",
    "rx.stats.station = \"ROMY\"\n",
    "rx.stats.channel = f\"FJ{config['ring']}\"\n",
    "rx.stats.network = \"BW\"\n",
    "\n",
    "rx = Stream(rx)\n",
    "\n",
    "rx.plot();"
   ]
  },
  {
   "cell_type": "code",
   "execution_count": null,
   "id": "e6120a45-02de-49f5-a4d5-181b37cf25c6",
   "metadata": {},
   "outputs": [],
   "source": [
    "tromy1 = tromy0.copy()\n",
    "\n",
    "tromy1 = tromy1.resample(1/60)\n",
    "\n",
    "tromy1.plot()"
   ]
  },
  {
   "cell_type": "code",
   "execution_count": null,
   "id": "7b7fc348-19aa-4a5b-a468-805a147c9b6f",
   "metadata": {},
   "outputs": [],
   "source": []
  },
  {
   "cell_type": "code",
   "execution_count": null,
   "id": "597898b7-7c99-4463-bbe6-d641a58bf7f1",
   "metadata": {},
   "outputs": [],
   "source": [
    "def __makeplot():\n",
    "\n",
    "    import matplotlib.pyplot as plt\n",
    "\n",
    "    ns = tromy1.copy().select(channel=\"*N\")[0]\n",
    "    ew = tromy1.copy().select(channel=\"*E\")[0]\n",
    "    rr = rx.copy()[0]\n",
    "\n",
    "    scaling = -0.05\n",
    "\n",
    "    Nrow, Ncol = 1, 1\n",
    "\n",
    "    font = 12\n",
    "\n",
    "    fig, ax = plt.subplots(Nrow, Ncol, figsize=(12, 5), sharex=True)\n",
    "\n",
    "    plt.subplots_adjust(hspace=0.1)\n",
    "\n",
    "    ax.plot(rr.times(reftime=config['tbeg']), __reduce(rr.data, 10)*scaling)\n",
    "    ax.plot(ns.times(reftime=config['tbeg']), __reduce(ns.data, 10))\n",
    "    ax.plot(ew.times(reftime=config['tbeg']), __reduce(ew.data, 10))\n",
    "    # ax.plot(ew.times(reftime=config['tbeg']), -__reduce(ns.data-ew.data, 10))\n",
    "\n",
    "    ax.grid(which=\"both\", ls=\"--\", color=\"grey\", alpha=0.5, zorder=0)\n",
    "\n",
    "    plt.show();\n",
    "    return fig\n",
    "\n",
    "fig = __makeplot();"
   ]
  },
  {
   "cell_type": "code",
   "execution_count": null,
   "id": "5809dc4e-6f07-45ce-b4f2-2abc4729dabb",
   "metadata": {},
   "outputs": [],
   "source": []
  },
  {
   "cell_type": "code",
   "execution_count": null,
   "id": "c016c421-e043-4bfa-adb4-1521cfb41907",
   "metadata": {
    "tags": []
   },
   "outputs": [],
   "source": [
    "fmin, fmax = 1/(14*3600), 1/(10*3600)\n",
    "\n",
    "rxx = rx.copy()\n",
    "\n",
    "rxx = rxx.trim(config['tbeg'], config['tend'], nearest_sample=False)\n",
    "\n",
    "rxx = rxx.resample(5.0)\n",
    "\n",
    "rxx = rxx.detrend(\"linear\")\n",
    "\n",
    "rxx = rxx.taper(0.05)\n",
    "\n",
    "# rxx = rxx.filter(\"lowpass\", freq=fmax, corners=2, zerophase=True)\n",
    "\n",
    "rxx = rxx.filter(\"bandpass\", freqmin=fmin, freqmax=fmax, corners=4, zerophase=True)\n",
    "\n",
    "# rxx = rxx.resample(10*fmax, no_filter=True)\n",
    "rxx = rxx.trim(config['tbeg'], config['tend'], nearest_sample=True)\n",
    "\n",
    "rxx\n",
    "\n",
    "rxx.plot();"
   ]
  },
  {
   "cell_type": "code",
   "execution_count": null,
   "id": "92fb0704-6ba9-441d-96b5-45bb986fd3d8",
   "metadata": {
    "tags": []
   },
   "outputs": [],
   "source": [
    "from functions.conversion_to_tilt import __conversion_to_tilt\n",
    "from functions.read_yaml import __readYaml"
   ]
  },
  {
   "cell_type": "code",
   "execution_count": null,
   "id": "6046fc18-b9cb-44b2-b3ed-22376b5befa5",
   "metadata": {
    "tags": []
   },
   "outputs": [],
   "source": [
    "# path_to_tilt = data_path+\"TiltmeterDataBackup/Tilt_downsampled/\"\n",
    "path_to_tilt = archive_path+\"romy_archive/\"\n",
    "\n",
    "tromy0 = __read_sds(path_to_tilt, \"BW.ROMYT..MAN\", config['tbeg']-600, config['tend']+600)\n",
    "tromy0 += __read_sds(path_to_tilt, \"BW.ROMYT..MAE\", config['tbeg']-600, config['tend']+600)\n",
    "# tromy0 += __read_sds(path_to_tilt, \"BW.ROMYT..MAT\", config['tbeg']-600, config['tend']+600)\n",
    "\n",
    "# tiltmeter configurations\n",
    "confTilt = __readYaml(root_path+\"Documents/ROMY/tiltmeter/\", \"tiltmeter.conf\")\n",
    "\n",
    "tromy0 = __conversion_to_tilt(tromy0, confTilt['TROMY'])"
   ]
  },
  {
   "cell_type": "code",
   "execution_count": null,
   "id": "c21a291f-f716-48c5-88ff-89926adad296",
   "metadata": {
    "tags": []
   },
   "outputs": [],
   "source": [
    "tromy = tromy0.copy();\n",
    "\n",
    "tromy = tromy.merge(fill_value=\"interpolate\");\n",
    "\n",
    "tromy = tromy.trim(config['tbeg'], config['tend'])\n",
    "# tromy = tromy.resample(1, no_filter=False)\n",
    "# tromy = tromy.resample(0.1, no_filter=False)\n",
    "# tromy = tromy.resample(1/60, no_filter=False)\n",
    "\n",
    "tromy = tromy.detrend(\"linear\")\n",
    "tromy = tromy.taper(0.01, type=\"cosine\")\n",
    "tromy = tromy.filter(\"bandpass\", freqmin=fmin, freqmax=fmax, corners=4, zerophase=True)\n",
    "\n",
    "tromy.plot(equal_scale=False);\n"
   ]
  },
  {
   "cell_type": "code",
   "execution_count": null,
   "id": "fe68726b-d59e-4085-863f-e70d8cdc7044",
   "metadata": {
    "tags": []
   },
   "outputs": [],
   "source": [
    "plt.plot(tromy.select(channel=\"*N\")[0].times(), tromy.select(channel=\"*N\")[0].data)\n",
    "\n",
    "plt.plot(rxx.select(channel=\"*Z\")[0].times(), 0.4*rxx.select(channel=\"*Z\")[0].data)\n",
    "\n",
    "plt.ylim(-2e-7, 2e-7)"
   ]
  },
  {
   "cell_type": "code",
   "execution_count": null,
   "id": "51f7e8bb-97a0-47c4-b459-542fdffbbac5",
   "metadata": {
    "tags": []
   },
   "outputs": [],
   "source": [
    "import emd"
   ]
  },
  {
   "cell_type": "code",
   "execution_count": null,
   "id": "894a6607-ef87-4516-b199-3727f1db390e",
   "metadata": {
    "tags": []
   },
   "outputs": [],
   "source": [
    "plt.plot(bs.fj_bs_inter)"
   ]
  },
  {
   "cell_type": "code",
   "execution_count": null,
   "id": "389f64e7-6a34-4b3b-a5b9-717325c77680",
   "metadata": {
    "tags": []
   },
   "outputs": [],
   "source": [
    "df = 1/60\n",
    "\n",
    "data = np.array(bs.fj_fs_inter)\n",
    "\n",
    "# Run a mask sift\n",
    "imf = emd.sift.mask_sift(data, max_imfs=3)\n",
    "\n",
    "IP, IF, IA = emd.spectra.frequency_transform(imf, df, 'nht')"
   ]
  },
  {
   "cell_type": "code",
   "execution_count": null,
   "id": "1461119f-0562-4524-8949-0085b4687fa5",
   "metadata": {
    "tags": []
   },
   "outputs": [],
   "source": [
    "N = imf.shape[1]\n",
    "\n",
    "fig, ax = plt.subplots(N, 1)\n",
    "\n",
    "for n in range(N):\n",
    "    ax[n].plot(imf[:, n])\n"
   ]
  },
  {
   "cell_type": "code",
   "execution_count": null,
   "id": "10aaf5bc-6a45-481c-a2dc-dab11d8a78a0",
   "metadata": {
    "tags": []
   },
   "outputs": [],
   "source": [
    "N = IF.shape[1]\n",
    "\n",
    "fig, ax = plt.subplots(N, 1)\n",
    "\n",
    "for n in range(N):\n",
    "    ax[n].plot(IF[:, n])\n"
   ]
  },
  {
   "cell_type": "code",
   "execution_count": null,
   "id": "b37e9754-1128-44b1-ae5d-7dbdefe1bb78",
   "metadata": {
    "tags": []
   },
   "outputs": [],
   "source": []
  },
  {
   "cell_type": "code",
   "execution_count": null,
   "id": "28e21de1-c93c-4a1d-af9d-acdf61eb3357",
   "metadata": {
    "tags": []
   },
   "outputs": [],
   "source": [
    "f, spectrum = emd.spectra.hilberthuang(IF[:,2], IA[:,2], (.01, 10, 1000))"
   ]
  },
  {
   "cell_type": "code",
   "execution_count": null,
   "id": "7e0708a5-07c1-4e25-9592-d26f831e78d9",
   "metadata": {
    "tags": []
   },
   "outputs": [],
   "source": [
    "plt.semilogx(f, spectrum)"
   ]
  },
  {
   "cell_type": "code",
   "execution_count": null,
   "id": "41ac0edb-306c-4d10-b351-6621513fdffb",
   "metadata": {
    "tags": []
   },
   "outputs": [],
   "source": [
    "rot = read(\"/home/andbro/Downloads/mseed/ROMY_BJU_2023-09-08.mseed\")\n",
    "st = read(\"/home/andbro/Downloads/mseed/DROMY_FJU_2023-09-08.mseed\")"
   ]
  },
  {
   "cell_type": "code",
   "execution_count": null,
   "id": "ea4764dc-4bfc-4b93-ae95-2213791c6edd",
   "metadata": {
    "tags": []
   },
   "outputs": [],
   "source": [
    "st, rot"
   ]
  },
  {
   "cell_type": "code",
   "execution_count": null,
   "id": "dafaac06-59ec-4699-a676-cf0538cae574",
   "metadata": {
    "tags": []
   },
   "outputs": [],
   "source": [
    "t1, t2 = UTCDateTime(\"2023-09-08 22:25\"), UTCDateTime(\"2023-09-08 22:27\")\n",
    "\n",
    "rot = rot.trim(t1, t2)\n",
    "st = st.trim(t1, t2)"
   ]
  },
  {
   "cell_type": "code",
   "execution_count": null,
   "id": "dfd19861-370d-4502-baff-0461b0a3fb64",
   "metadata": {
    "tags": []
   },
   "outputs": [],
   "source": [
    "rot.plot();"
   ]
  },
  {
   "cell_type": "code",
   "execution_count": null,
   "id": "3c6e220c-d75c-41be-b287-d35f74f30e6f",
   "metadata": {
    "tags": []
   },
   "outputs": [],
   "source": [
    "st = st.detrend(\"linear\")\n",
    "\n",
    "df = st[0].stats.sampling_rate\n",
    "\n",
    "data = st[0].data\n",
    "\n",
    "# Run a mask sift\n",
    "imf = emd.sift.mask_sift(data, max_imfs=4)\n",
    "\n",
    "IP, IF, IA = emd.spectra.frequency_transform(imf, df, 'nht')"
   ]
  },
  {
   "cell_type": "code",
   "execution_count": null,
   "id": "525a4459-c1aa-4c9a-af2e-52f0e0a6293a",
   "metadata": {
    "tags": []
   },
   "outputs": [],
   "source": [
    "N = imf.shape[1]\n",
    "\n",
    "fig, ax = plt.subplots(N, 1)\n",
    "\n",
    "for n in range(N):\n",
    "    ax[n].plot(imf[:, n])\n"
   ]
  },
  {
   "cell_type": "code",
   "execution_count": null,
   "id": "52558fba-d9a7-4e3c-a748-ab01811ae985",
   "metadata": {
    "tags": []
   },
   "outputs": [],
   "source": [
    "N = IF.shape[1]\n",
    "\n",
    "fig, ax = plt.subplots(N, 1)\n",
    "\n",
    "for n in range(N):\n",
    "    ax[n].plot(IF[:, n])\n"
   ]
  },
  {
   "cell_type": "code",
   "execution_count": null,
   "id": "152883a9-f8dc-44a7-930a-aec8ff6e7f4b",
   "metadata": {
    "tags": []
   },
   "outputs": [],
   "source": [
    "plt.plot(IF[:, 2]*IA[:, 2]+IF[:, 3]*IA[:, 3])"
   ]
  },
  {
   "cell_type": "code",
   "execution_count": null,
   "id": "bf19a501-1cc9-4a23-9853-aad74bdc318a",
   "metadata": {
    "tags": []
   },
   "outputs": [],
   "source": [
    "plt.plot(imf[:,2]+imf[:,3])"
   ]
  },
  {
   "cell_type": "code",
   "execution_count": null,
   "id": "e01c5b34-28c1-4946-90eb-8f457bc6fa6a",
   "metadata": {},
   "outputs": [],
   "source": []
  },
  {
   "cell_type": "code",
   "execution_count": null,
   "id": "7a07759b-282f-4bb9-8340-a3c6040147b0",
   "metadata": {},
   "outputs": [],
   "source": []
  }
 ],
 "metadata": {
  "kernelspec": {
   "display_name": "Python 3 (ipykernel)",
   "language": "python",
   "name": "python3"
  },
  "language_info": {
   "codemirror_mode": {
    "name": "ipython",
    "version": 3
   },
   "file_extension": ".py",
   "mimetype": "text/x-python",
   "name": "python",
   "nbconvert_exporter": "python",
   "pygments_lexer": "ipython3",
   "version": "3.10.12"
  },
  "latex_envs": {
   "LaTeX_envs_menu_present": true,
   "autoclose": false,
   "autocomplete": true,
   "bibliofile": "biblio.bib",
   "cite_by": "apalike",
   "current_citInitial": 1,
   "eqLabelWithNumbers": true,
   "eqNumInitial": 1,
   "hotkeys": {
    "equation": "Ctrl-E",
    "itemize": "Ctrl-I"
   },
   "labels_anchors": false,
   "latex_user_defs": false,
   "report_style_numbering": false,
   "user_envs_cfg": false
  },
  "toc": {
   "base_numbering": 1,
   "nav_menu": {},
   "number_sections": true,
   "sideBar": true,
   "skip_h1_title": false,
   "title_cell": "Table of Contents",
   "title_sidebar": "Contents",
   "toc_cell": false,
   "toc_position": {},
   "toc_section_display": true,
   "toc_window_display": false
  },
  "varInspector": {
   "cols": {
    "lenName": 16,
    "lenType": 16,
    "lenVar": 40
   },
   "kernels_config": {
    "python": {
     "delete_cmd_postfix": "",
     "delete_cmd_prefix": "del ",
     "library": "var_list.py",
     "varRefreshCmd": "print(var_dic_list())"
    },
    "r": {
     "delete_cmd_postfix": ") ",
     "delete_cmd_prefix": "rm(",
     "library": "var_list.r",
     "varRefreshCmd": "cat(var_dic_list()) "
    }
   },
   "types_to_exclude": [
    "module",
    "function",
    "builtin_function_or_method",
    "instance",
    "_Feature"
   ],
   "window_display": false
  }
 },
 "nbformat": 4,
 "nbformat_minor": 5
}
