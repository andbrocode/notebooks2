{
 "cells": [
  {
   "cell_type": "markdown",
   "id": "22f5c8c9",
   "metadata": {
    "ExecuteTime": {
     "end_time": "2022-10-28T13:00:52.763484Z",
     "start_time": "2022-10-28T13:00:52.761516Z"
    }
   },
   "source": [
    "## Sagnac Frequency - Backscatter Correction - RV Baro"
   ]
  },
  {
   "cell_type": "markdown",
   "id": "1cd32aed",
   "metadata": {},
   "source": [
    "Explore the longterm behaviour of the RU sagnac beat"
   ]
  },
  {
   "cell_type": "markdown",
   "id": "185b1a0b",
   "metadata": {},
   "source": [
    "## Imports"
   ]
  },
  {
   "cell_type": "code",
   "execution_count": 1,
   "id": "818caf4c",
   "metadata": {
    "ExecuteTime": {
     "end_time": "2023-06-27T08:11:10.277643Z",
     "start_time": "2023-06-27T08:11:08.781535Z"
    },
    "tags": []
   },
   "outputs": [],
   "source": [
    "import os\n",
    "import gc\n",
    "import matplotlib.pyplot as plt\n",
    "import numpy as np\n",
    "\n",
    "from datetime import datetime, date\n",
    "from pandas import DataFrame, read_pickle, date_range, concat, read_csv\n",
    "from obspy import UTCDateTime, read, Trace, Stream, read_inventory\n",
    "from scipy.signal import hilbert\n",
    "\n",
    "from functions.get_fft import __get_fft\n",
    "from functions.multitaper_psd import __multitaper_psd\n",
    "from functions.welch_psd import __welch_psd\n",
    "from functions.sagnac_to_tilt import __sagnac_to_tilt\n",
    "from functions.compute_cwt import __compute_cwt\n",
    "\n",
    "from andbro__read_sds import __read_sds\n",
    "from andbro__readYaml import __readYaml\n",
    "from andbro__load_FURT_stream import __load_furt_stream"
   ]
  },
  {
   "cell_type": "code",
   "execution_count": 2,
   "id": "b83c9987",
   "metadata": {
    "ExecuteTime": {
     "end_time": "2023-06-27T08:11:10.288084Z",
     "start_time": "2023-06-27T08:11:10.284752Z"
    },
    "tags": []
   },
   "outputs": [],
   "source": [
    "if os.uname().nodename == 'lighthouse':\n",
    "    root_path = '/home/andbro/'\n",
    "    data_path = '/home/andbro/kilauea-data/'\n",
    "    archive_path = '/home/andbro/freenas/'\n",
    "    bay_path = '/home/andbro/bay200/'\n",
    "elif os.uname().nodename == 'kilauea':\n",
    "    root_path = '/home/brotzer/'\n",
    "    data_path = '/import/kilauea-data/'\n",
    "    archive_path = '/import/freenas-ffb-01-data/'\n",
    "    bay_path = '/bay200/'\n",
    "elif os.uname().nodename == 'lin-ffb-01':\n",
    "    root_path = '/home/brotzer/'\n",
    "    data_path = '/import/kilauea-data/'\n",
    "    archive_path = '/import/freenas-ffb-01-data/'\n",
    "    bay_path = '/bay200/'"
   ]
  },
  {
   "cell_type": "code",
   "execution_count": 3,
   "id": "6d4dc8b2-cc89-420e-a4cf-5ca715a57aa7",
   "metadata": {
    "tags": []
   },
   "outputs": [],
   "source": [
    "from functions.reduce import __reduce\n",
    "from functions.load_backscatter_data import __load_backscatter_data"
   ]
  },
  {
   "cell_type": "markdown",
   "id": "ec2578ab",
   "metadata": {},
   "source": [
    "## Configurations"
   ]
  },
  {
   "cell_type": "code",
   "execution_count": 4,
   "id": "ba83e3e7",
   "metadata": {
    "ExecuteTime": {
     "end_time": "2023-06-27T08:11:13.008382Z",
     "start_time": "2023-06-27T08:11:13.002517Z"
    },
    "tags": []
   },
   "outputs": [],
   "source": [
    "config = {}\n",
    "\n",
    "config['ring'] = \"V\"\n",
    "\n",
    "config['seed'] = f\"BW.DROMY..FJ{config['ring']}\"\n",
    "\n",
    "config['path_to_sds'] = archive_path+\"romy_archive/\"\n",
    "\n",
    "config['tbeg'] = UTCDateTime(\"2024-05-22 16:00\")\n",
    "config['tend'] = UTCDateTime(\"2024-06-03 00:00\")\n",
    "\n",
    "flim1, flim2 = 447.726, 447.736\n",
    "\n",
    "## path to Sagnac data\n",
    "config['path_to_autodata'] = archive_path+f\"romy_autodata/\"\n",
    "\n",
    "config['path_to_data'] = data_path+\"sagnac_frequency/data/backscatter/\"\n",
    "\n",
    "config['path_to_figs'] = data_path+\"sagnac_frequency/figures/\"\n",
    "\n",
    "config['colors'] = {  1:'darkgreen',\n",
    "                      3:'lightgreen',\n",
    "                      4:'purple',\n",
    "                      5:'darkred',\n",
    "                      6:'darkblue',\n",
    "                      7:'darkorange',\n",
    "                      8:'darkcyan',\n",
    "                      9:'cyan',\n",
    "                     }"
   ]
  },
  {
   "cell_type": "markdown",
   "id": "12ef7747-2cb6-4561-bfe3-ccd226aae9dc",
   "metadata": {
    "tags": []
   },
   "source": [
    "## Configurations"
   ]
  },
  {
   "cell_type": "code",
   "execution_count": 5,
   "id": "5d8a5d06-0406-40f2-865b-93ad62f11e51",
   "metadata": {
    "tags": []
   },
   "outputs": [],
   "source": [
    "bs = __load_backscatter_data(config['tbeg'], config['tend'], config['ring'], config['path_to_data'])\n",
    "\n",
    "bs['time_sec'] = bs.time2 - bs.time1 + (bs.time1 - bs.time1.loc[0])"
   ]
  },
  {
   "cell_type": "markdown",
   "id": "3e53acfb-0295-4a70-a83e-337b7ed465a2",
   "metadata": {},
   "source": [
    "### Compute Backscatter (again)"
   ]
  },
  {
   "cell_type": "code",
   "execution_count": 6,
   "id": "73528b65-7674-4d8e-a1e0-1a2d87ad0709",
   "metadata": {
    "tags": []
   },
   "outputs": [],
   "source": [
    "from functions.backscatter_correction import __backscatter_correction"
   ]
  },
  {
   "cell_type": "code",
   "execution_count": 7,
   "id": "a45ff2da-cbcc-4a75-842a-85304cfbf9dd",
   "metadata": {
    "tags": []
   },
   "outputs": [],
   "source": [
    "# unwrap phases as one time series\n",
    "bs['fj_ph'] = np.unwrap(bs.fj_ph)\n",
    "bs['f1_ph'] = np.unwrap(bs.f1_ph)\n",
    "bs['f2_ph'] = np.unwrap(bs.f2_ph)\n",
    "\n",
    "# fractional beat modulations\n",
    "m01 = bs.f1_ac / bs.f1_dc\n",
    "m02 = bs.f2_ac / bs.f2_dc\n",
    "\n",
    "# phase difference\n",
    "ph1 = bs.f1_ph\n",
    "ph2 = bs.f2_ph\n",
    "phase0 = ph2 - ph1\n",
    "\n",
    "# beat signal observed\n",
    "w_obs = bs.fj_fs\n",
    "\n",
    "# compute backscatter corrected signal\n",
    "bs['fj_bs'] = __backscatter_correction(m01, m02, phase0, w_obs, np.median(bs.fj_fs), cm_filter_factor=1.033)"
   ]
  },
  {
   "cell_type": "code",
   "execution_count": 8,
   "id": "5d07a94d-79ed-4f72-ae54-2b345a645eaa",
   "metadata": {
    "tags": []
   },
   "outputs": [
    {
     "data": {
      "text/plain": [
       "(447.726, 447.736)"
      ]
     },
     "execution_count": 8,
     "metadata": {},
     "output_type": "execute_result"
    },
    {
     "data": {
      "image/png": "[encoded data removed]",
      "text/plain": [
       "<Figure size 1500x500 with 1 Axes>"
      ]
     },
     "metadata": {},
     "output_type": "display_data"
    }
   ],
   "source": [
    "plt.figure(figsize=(15, 5))\n",
    "plt.plot(bs.time_sec/86400, bs.fj_fs)\n",
    "plt.ylim(flim1, flim2)"
   ]
  },
  {
   "cell_type": "markdown",
   "id": "c5b9e835-f58a-4241-ba3f-ec5427ffa35c",
   "metadata": {},
   "source": [
    "### Cut corrupt data periods"
   ]
  },
  {
   "cell_type": "code",
   "execution_count": 9,
   "id": "7f016660-577e-42a4-907d-9a7190a147e2",
   "metadata": {
    "tags": []
   },
   "outputs": [],
   "source": [
    "# times = [(\"2023-12-04T09:11\", \"2023-12-04T18:01\")]\n",
    "\n",
    "# for t1, t2 in times:\n",
    "#     bs['fj_fs'] = np.where((bs.time1 > t1) & (bs.time1 < t2), np.nan, bs.fj_fs)\n",
    "#     bs['fj_bs'] = np.where((bs.time1 > t1) & (bs.time1 < t2), np.nan, bs.w_s)\n",
    "\n",
    "\n",
    "# bs['fj_fs'] = np.nan_to_num(bs['fj_fs'], nan=np.nanmedian(bs['fj_fs']))\n",
    "# bs['fj_bs'] = np.nan_to_num(bs['fj_bs'], nan=np.nanmedian(bs['fj_bs']))"
   ]
  },
  {
   "cell_type": "code",
   "execution_count": 10,
   "id": "a110303c-2c40-4558-a12a-c7dd99b09d6a",
   "metadata": {
    "tags": []
   },
   "outputs": [],
   "source": [
    "from functions.load_mlti import __load_mlti\n",
    "\n",
    "mlti = __load_mlti(config['tbeg'], config['tend'], config['ring'], archive_path)"
   ]
  },
  {
   "cell_type": "code",
   "execution_count": 11,
   "id": "3073c5f9-f439-4b8b-a9f5-6702bfbd492c",
   "metadata": {
    "tags": []
   },
   "outputs": [],
   "source": [
    "from functions.get_mlti_intervals import __get_mlti_intervals\n",
    "\n",
    "mlti_t1, mlti_t2 = __get_mlti_intervals(mlti.time_utc)"
   ]
  },
  {
   "cell_type": "code",
   "execution_count": 12,
   "id": "f57efd20-ec2a-4e9e-baa3-29b5de985ead",
   "metadata": {
    "tags": []
   },
   "outputs": [],
   "source": [
    "from functions.mlti_intervals_to_NaN import __mlti_intervals_to_NaN\n",
    "\n",
    "bs = __mlti_intervals_to_NaN(bs, \"fj_fs\", \"time1\", mlti_t1, mlti_t2, t_offset_sec=300)\n",
    "bs = __mlti_intervals_to_NaN(bs, \"fj_bs\", \"time1\", mlti_t1, mlti_t2, t_offset_sec=300)"
   ]
  },
  {
   "cell_type": "markdown",
   "id": "60589676-e1b9-449d-92a9-22ba4cbe5e18",
   "metadata": {},
   "source": [
    "### Apply special filter sections"
   ]
  },
  {
   "cell_type": "code",
   "execution_count": 13,
   "id": "512abf36-a40d-480f-9177-556a493a4cbc",
   "metadata": {
    "tags": []
   },
   "outputs": [],
   "source": [
    "from functions.interpolate_nan import __interpolate_nan\n",
    "\n",
    "bs['fj_fs_inter'] = __interpolate_nan(np.array(bs.fj_fs_nan))\n",
    "bs['fj_bs_inter'] = __interpolate_nan(np.array(bs.fj_bs_nan))"
   ]
  },
  {
   "cell_type": "code",
   "execution_count": 14,
   "id": "09b3cefb-1f20-400e-822c-37dde096970a",
   "metadata": {
    "tags": []
   },
   "outputs": [],
   "source": [
    "from functions.smoothing import __smooth\n",
    "\n",
    "n_minutes = 100\n",
    "\n",
    "bs['fj_fs_smooth'] = __smooth(bs.fj_fs_inter, n_minutes)\n",
    "bs['fj_bs_smooth'] = __smooth(bs.fj_bs_inter, n_minutes)"
   ]
  },
  {
   "cell_type": "markdown",
   "id": "2f3154b6-1c6a-436d-97bf-0e86d840b43d",
   "metadata": {},
   "source": [
    "### Load LXX maintenance"
   ]
  },
  {
   "cell_type": "code",
   "execution_count": 15,
   "id": "fcb83285-ae34-4335-be4e-977e1d22561a",
   "metadata": {
    "tags": []
   },
   "outputs": [],
   "source": [
    "from functions.load_lxx import __load_lxx\n",
    "\n",
    "lxx =__load_lxx(config['tbeg'], config['tend'], archive_path)"
   ]
  },
  {
   "cell_type": "code",
   "execution_count": 16,
   "id": "30338cfb-dfab-4814-9555-15fc6d779ef7",
   "metadata": {
    "tags": []
   },
   "outputs": [],
   "source": [
    "from functions.get_lxx_intervals import __get_lxx_intervals\n",
    "\n",
    "lxx_t1, lxx_t2 = __get_lxx_intervals(lxx.datetime)"
   ]
  },
  {
   "cell_type": "markdown",
   "id": "97787288-abff-4aa9-8601-0832ceaa11d8",
   "metadata": {},
   "source": [
    "### Checkup Plot"
   ]
  },
  {
   "cell_type": "code",
   "execution_count": null,
   "id": "2ae877ec-3074-4929-a0f1-d866cb07ae39",
   "metadata": {
    "tags": []
   },
   "outputs": [],
   "source": [
    "def __makeplot():\n",
    "\n",
    "    Nrow, Ncol = 1, 1\n",
    "\n",
    "    font = 12\n",
    "\n",
    "    fig, ax = plt.subplots(Nrow, Ncol, figsize=(15, 5), sharex=True)\n",
    "\n",
    "    plt.subplots_adjust(hspace=0.1)\n",
    "\n",
    "    # time_scaling = 1/86400\n",
    "    time_scaling = 1\n",
    "    ref_date = str(bs.time1.iloc[0])[:10]\n",
    "\n",
    "    ax.plot(bs.time_sec*time_scaling, bs.fj_bs, color=\"tab:grey\", alpha=0.3, label=\"raw\")\n",
    "    ax.plot(bs.time_sec*time_scaling, bs.fj_bs_nan, color=\"tab:blue\", label=\"cleaned\")\n",
    "    ax.plot(bs.time_sec*time_scaling, bs.fj_bs_smooth, color=\"k\", label=f\"mov. avg. ({n_minutes} min)\")\n",
    "    ax.set_ylim(flim1, flim2)\n",
    "    ax.ticklabel_format(useOffset=False)\n",
    "    ax.set_ylabel(\"$\\delta f$ north ring (Hz)\", fontsize=font)\n",
    "\n",
    "    ax.grid(ls=\":\", zorder=0)\n",
    "    ax.legend(loc=1)\n",
    "    ax.set_xlim(left=0)\n",
    "\n",
    "    for lx1, lx2 in zip(lxx_t1, lxx_t2):\n",
    "        lx1_sec = lx1-UTCDateTime(ref_date)\n",
    "        lx2_sec = lx2-UTCDateTime(ref_date)\n",
    "        ax.fill_betweenx([flim1, flim2], lx1_sec, lx2_sec, color=\"yellow\", alpha=0.5)\n",
    "\n",
    "    ## add dates to x-axis\n",
    "    tcks = ax.get_xticks()\n",
    "    tcklbls = [f\"{UTCDateTime(UTCDateTime(ref_date)+t).date} \\n {UTCDateTime(UTCDateTime(ref_date)+t).time}\" for t in tcks]\n",
    "    ax.set_xticklabels(tcklbls)\n",
    "\n",
    "    gc.collect()\n",
    "\n",
    "    plt.show();\n",
    "    return fig\n",
    "\n",
    "fig = __makeplot();\n",
    "\n",
    "# fig.savefig(config['path_to_figs']+f\"SF_BS_RU_longterm_cleaned.png\", format=\"png\", dpi=150, bbox_inches='tight')\n"
   ]
  },
  {
   "cell_type": "markdown",
   "id": "f30a9a64-cae7-4114-9182-0b9e743eb9f0",
   "metadata": {},
   "source": [
    "### Load WROMY Data"
   ]
  },
  {
   "cell_type": "code",
   "execution_count": 18,
   "id": "7f61e961-435d-43e3-b122-a74b79e534a6",
   "metadata": {
    "tags": []
   },
   "outputs": [],
   "source": [
    "# ws = Stream()\n",
    "# ws += __read_sds(archive_path+\"temp_archive/\", \"BW.WROMY.01.LKI\", config['tbeg'], config['tend'])\n",
    "# ws += __read_sds(archive_path+\"temp_archive/\", \"BW.WROMY.05.LKI\", config['tbeg'], config['tend'])\n",
    "# ws += __read_sds(archive_path+\"temp_archive/\", \"BW.WROMY.09.LKI\", config['tbeg'], config['tend'])\n",
    "\n",
    "# ws = ws.merge();\n",
    "\n",
    "# ws"
   ]
  },
  {
   "cell_type": "markdown",
   "id": "7668bfc3-a538-4b59-9830-6ec41872deb9",
   "metadata": {
    "tags": []
   },
   "source": [
    "### Load PROMY Data"
   ]
  },
  {
   "cell_type": "code",
   "execution_count": 19,
   "id": "e6ad98b2-edad-406e-b96e-487bf4d44749",
   "metadata": {
    "tags": []
   },
   "outputs": [],
   "source": [
    "# ps = Stream()\n",
    "# ps += __read_sds(archive_path+\"temp_archive/\", \"BW.PROMY.03.LKI\", config['tbeg'], config['tend'])\n",
    "# ps += __read_sds(archive_path+\"temp_archive/\", \"BW.PROMY.01.LKI\", config['tbeg'], config['tend'])\n",
    "# ps += __read_sds(archive_path+\"temp_archive/\", \"BW.PROMY.05.LKI\", config['tbeg'], config['tend'])\n",
    "# ps += __read_sds(archive_path+\"temp_archive/\", \"BW.PROMY.09.LKI\", config['tbeg'], config['tend'])\n",
    "\n",
    "# ps3 = ps.merge();\n",
    "\n",
    "# ps"
   ]
  },
  {
   "cell_type": "markdown",
   "id": "09161acb-7975-4362-a28b-8ea4704d7cf1",
   "metadata": {},
   "source": [
    "### Load Infrasound FFBI"
   ]
  },
  {
   "cell_type": "code",
   "execution_count": null,
   "id": "ca975a1e-35bf-4d90-8c63-c731c8b07672",
   "metadata": {
    "tags": []
   },
   "outputs": [
    {
     "name": "stderr",
     "output_type": "stream",
     "text": [
      " WARNING (norm_resp): computed and reported sensitivities differ by more than 5 percent. \n",
      "\t Execution continuing.\n"
     ]
    }
   ],
   "source": [
    "ffbi = __read_sds(bay_path+\"mseed_online/archive/\", \"BW.FFBI..BDF\", config['tbeg'], config['tend'])\n",
    "ffbi += __read_sds(bay_path+\"mseed_online/archive/\", \"BW.FFBI..BDO\", config['tbeg'], config['tend'])\n",
    "\n",
    "if len(ffbi) != 2:\n",
    "    ffbi.merge();\n",
    "\n",
    "ffbi_inv = read_inventory(root_path+\"/Documents/ROMY/ROMY_infrasound/station_BW_FFBI.xml\")\n",
    "\n",
    "ffbi = ffbi.remove_response(ffbi_inv, water_level=10)\n",
    "\n",
    "# for tr in ffbi:\n",
    "#     if \"O\" in tr.stats.station:\n",
    "#         tr.data = tr.data /1.0 /6.28099e5 /100e-3   # gain=1 sensitivity_reftek=6.28099e5count/V; sensitivity = 100 mV/hPa\n",
    "\n",
    "ffbi.plot(equal_scale=False);"
   ]
  },
  {
   "cell_type": "code",
   "execution_count": null,
   "id": "0db6848d-588d-423d-8e87-89028440871f",
   "metadata": {
    "tags": []
   },
   "outputs": [],
   "source": [
    "dff = np.array(bs.fj_bs_inter)\n",
    "\n",
    "rx_tilt = __sagnac_to_tilt(dff, config['ring'])\n",
    "\n",
    "rx = Stream()\n",
    "\n",
    "rx = Trace()\n",
    "rx.data = rx_tilt\n",
    "rx.stats.delta = 60\n",
    "rx.stats.starttime = bs.time1.iloc[0]\n",
    "rx.stats.station = \"ROMY\"\n",
    "rx.stats.channel = f\"FJ{config['ring']}\"\n",
    "rx.stats.network = \"BW\"\n"
   ]
  },
  {
   "cell_type": "code",
   "execution_count": null,
   "id": "701498ad-e8ec-4b05-a942-03d741b6a3d0",
   "metadata": {
    "tags": []
   },
   "outputs": [],
   "source": [
    "st0 = Stream()\n",
    "\n",
    "st0 += ffbi.select(channel=\"*F\")[0].copy()\n",
    "st0 += ffbi.select(channel=\"*O\")[0].copy()\n",
    "st0 += rx.copy()\n"
   ]
  },
  {
   "cell_type": "code",
   "execution_count": null,
   "id": "3657f4b3-3135-4702-abcc-fd15080b0fc0",
   "metadata": {
    "tags": []
   },
   "outputs": [],
   "source": [
    "st0.plot(equal_scale=False);"
   ]
  },
  {
   "cell_type": "code",
   "execution_count": null,
   "id": "55e65f1d-2adc-441c-87b4-304ec1f2b709",
   "metadata": {
    "tags": []
   },
   "outputs": [],
   "source": [
    "fmin, fmax = 1/3600, 0.01\n",
    "\n",
    "st0 = st0.trim(config['tbeg'], config['tend'], nearest_sample=False)\n",
    "st0 = st0.detrend(\"linear\")\n",
    "st0 = st0.taper(0.1)\n",
    "st0 = st0.filter(\"bandpass\", freqmin=fmin, freqmax=fmax, corners=2, zerophase=True)\n",
    "st0 = st0.resample(5*fmax, no_filter=True)\n",
    "st0 = st0.trim(config['tbeg'], config['tend']-7200, nearest_sample=True)\n",
    "st0\n"
   ]
  },
  {
   "cell_type": "code",
   "execution_count": null,
   "id": "e706963d-169e-4e4f-b0a1-6b9ff81e157c",
   "metadata": {
    "tags": []
   },
   "outputs": [],
   "source": [
    "st0.plot(equal_scale=False);"
   ]
  },
  {
   "cell_type": "code",
   "execution_count": null,
   "id": "2ebdedb0-0d2f-4440-a9e8-6b7f7afd92da",
   "metadata": {
    "tags": []
   },
   "outputs": [],
   "source": [
    "\n",
    "outs = {}\n",
    "\n",
    "for c in [\"O\", \"F\", config['ring']]:\n",
    "\n",
    "    tr = st0.select(channel=f\"*{c}\")[0]\n",
    "\n",
    "    ttt = tr.times()\n",
    "    arr = tr.data\n",
    "    dt  = tr.stats.delta # seconds\n",
    "\n",
    "    outs[c] = __compute_cwt(ttt, arr, dt,\n",
    "                            tscale=\"hour\",\n",
    "                            datalabel=\"$\\delta$f (Hz)\",\n",
    "                            scale_value=10,\n",
    "                            log=False, period=True, ymax=None, plot=False,\n",
    "                           )"
   ]
  },
  {
   "cell_type": "code",
   "execution_count": null,
   "id": "72af412d-0456-4323-ad29-eb20a0c7e7da",
   "metadata": {
    "tags": []
   },
   "outputs": [],
   "source": [
    "def __makeplot_cwt_all(st0, out, clog=False, ylim=None):\n",
    "\n",
    "    import matplotlib.pyplot as plt\n",
    "    import numpy as np\n",
    "    from matplotlib.gridspec import GridSpec\n",
    "\n",
    "    def __rmse(arr1, arr2):\n",
    "        return np.round(np.sqrt(np.mean((arr1-arr2)**2)), 2)\n",
    "\n",
    "    tscale = 1/86400\n",
    "\n",
    "    times = st0.select(channel=\"*O\")[0].times()*tscale/3600\n",
    "\n",
    "    Ncol, Nrow = 1, 9\n",
    "\n",
    "    font = 12\n",
    "\n",
    "    cmap = plt.get_cmap(\"viridis\")\n",
    "\n",
    "    # tilt_scale, tilt_unit = 1e9, f\"nrad\"\n",
    "\n",
    "    fig = plt.figure(figsize=(15, 8))\n",
    "\n",
    "    gs = GridSpec(Nrow, Ncol, figure=fig, hspace=0.1)\n",
    "\n",
    "    ax1 = fig.add_subplot(gs[0, :])\n",
    "    ax2 = fig.add_subplot(gs[1:3, :])\n",
    "    ax3 = fig.add_subplot(gs[3, :])\n",
    "    ax4 = fig.add_subplot(gs[4:6, :])\n",
    "    ax5 = fig.add_subplot(gs[6, :])\n",
    "    ax6 = fig.add_subplot(gs[7:9, :])\n",
    "\n",
    "    axes = [ax1, ax2, ax3, ax4, ax5, ax6]\n",
    "\n",
    "    U = st0.select(channel=f\"*{config['ring']}\")[0].data\n",
    "    O = st0.select(channel=\"*O\")[0].data\n",
    "    F = st0.select(channel=\"*F\")[0].data\n",
    "\n",
    "    periodZ = 1/outs[config['ring']]['frequencies']/3600\n",
    "    periodN = 1/outs['O']['frequencies']/3600\n",
    "    periodE = 1/outs['F']['frequencies']/3600\n",
    "\n",
    "    # _______________________________________________________________\n",
    "    #\n",
    "    ax1.plot(times, O, color=\"k\", label=\"BDO\", lw=1)\n",
    "    ax1.set_xlim(min(times), max(times))\n",
    "    ax1.legend(loc=1)\n",
    "    ax1.set_xticklabels([])\n",
    "\n",
    "    if clog:\n",
    "        vmin, vmax, norm = 0.01, 1, \"log\"\n",
    "    else:\n",
    "        vmin, vmax, norm = 0.0, 0.9, None\n",
    "    # _______________________________________________________________\n",
    "    #\n",
    "    im1 = ax2.pcolormesh(out['O']['times']*tscale*3600, periodN, out['O']['cwt_power'],\n",
    "                         cmap=cmap,\n",
    "                         vmin=vmin,\n",
    "                         vmax=vmax,\n",
    "                         norm=norm,\n",
    "                        )\n",
    "    ax2.plot(out['O']['times']*tscale*3600, 1/out['O']['cone']/3600, color=\"white\", ls=\"--\")\n",
    "    ax2.fill_between(out['O']['times']*tscale*3600, 1/out['O']['cone']/3600,\n",
    "                     max(periodN)*np.ones(len(out['O']['cone'])), color=\"white\", alpha=0.2)\n",
    "    ax2.set_xticklabels([])\n",
    "\n",
    "    if ylim is None:\n",
    "        ax2.set_ylim(min(periodN), max(periodN))\n",
    "    else:\n",
    "        ax2.set_ylim(min(periodN), ylim)\n",
    "\n",
    "    # _______________________________________________________________\n",
    "    #\n",
    "    ax3.plot(times, F, color=\"k\", label=\"BDF\", lw=1)\n",
    "    ax3.set_xlim(min(times), max(times))\n",
    "    ax3.legend(loc=1)\n",
    "    ax3.set_xticklabels([])\n",
    "\n",
    "    # _______________________________________________________________\n",
    "    #\n",
    "    im2 = ax4.pcolormesh(out['F']['times']*tscale*3600, periodE, out['F']['cwt_power'],\n",
    "                         cmap=cmap,\n",
    "                         vmin=vmin,\n",
    "                         vmax=vmax,\n",
    "                         norm=norm,\n",
    "                        )\n",
    "    ax4.plot(out['F']['times']*tscale*3600, 1/out['F']['cone']/3600, color=\"white\", ls=\"--\")\n",
    "    ax4.fill_between(out['F']['times']*tscale*3600, 1/out['F']['cone']/3600,\n",
    "                     max(periodE)*np.ones(len(out['F']['cone'])), color=\"white\", alpha=0.2)\n",
    "    ax4.set_xticklabels([])\n",
    "\n",
    "    if ylim is None:\n",
    "        ax4.set_ylim(min(periodE), max(periodE))\n",
    "    else:\n",
    "        ax4.set_ylim(min(periodE), ylim)\n",
    "\n",
    "    # _______________________________________________________________\n",
    "    #\n",
    "    ax5.plot(times, U*1e9, color=\"k\", label=f\"FJ{config['ring']}\", lw=1)\n",
    "    ax5.set_xlim(min(times), max(times))\n",
    "    ax5.legend(loc=1)\n",
    "    ax5.set_xticklabels([])\n",
    "\n",
    "    # _______________________________________________________________\n",
    "    #\n",
    "    im3 = ax6.pcolormesh(out[config['ring']]['times']*tscale*3600, periodE, out[config['ring']]['cwt_power'],\n",
    "                         cmap=cmap,\n",
    "                         vmin=vmin,\n",
    "                         vmax=vmax,\n",
    "                         norm=norm,\n",
    "                        )\n",
    "    ax6.plot(out[config['ring']]['times']*tscale*3600, 1/out[config['ring']]['cone']/3600, color=\"white\", ls=\"--\")\n",
    "    ax6.fill_between(out[config['ring']]['times']*tscale*3600, 1/out[config['ring']]['cone']/3600,\n",
    "                     max(periodZ)*np.ones(len(out[config['ring']]['cone'])), color=\"white\", alpha=0.2)\n",
    "\n",
    "    if ylim is None:\n",
    "        ax6.set_ylim(min(periodZ), max(periodZ))\n",
    "    else:\n",
    "        ax6.set_ylim(min(periodZ), ylim)\n",
    "\n",
    "    # _______________________________________________________________\n",
    "    #\n",
    "    ax1.set_ylabel(f\"P (Pa)\", fontsize=font)\n",
    "    ax2.set_ylabel(f\"Period (hour)\", fontsize=font)\n",
    "    ax3.set_ylabel(f\"P (Pa)\", fontsize=font)\n",
    "    ax4.set_ylabel(f\"Period (hour)\", fontsize=font)\n",
    "    ax5.set_ylabel(f\"$\\Omega$ (nrad)\", fontsize=font)\n",
    "    ax6.set_ylabel(f\"Period (hour)\", fontsize=font)\n",
    "\n",
    "    ax6.set_xlabel(f\"Time (days) from {config['tbeg'].date} {str(config['tbeg'].time).split('.')[0]} UTC\", fontsize=font)\n",
    "\n",
    "\n",
    "    ax1.text(.005, .97, \"(a)\", ha='left', va='top', transform=ax1.transAxes, fontsize=font+2)\n",
    "    ax2.text(.005, .97, \"(b)\", ha='left', va='top', transform=ax2.transAxes, fontsize=font+2, color=\"w\")\n",
    "    ax3.text(.005, .97, \"(c)\", ha='left', va='top', transform=ax3.transAxes, fontsize=font+2)\n",
    "    ax4.text(.005, .97, \"(d)\", ha='left', va='top', transform=ax4.transAxes, fontsize=font+2, color=\"w\")\n",
    "    ax5.text(.005, .97, \"(e)\", ha='left', va='top', transform=ax5.transAxes, fontsize=font+2)\n",
    "    ax6.text(.005, .97, \"(f)\", ha='left', va='top', transform=ax6.transAxes, fontsize=font+2, color=\"w\")\n",
    "\n",
    "    # add colorbar\n",
    "    cbar_ax = fig.add_axes([0.91, 0.11, 0.01, 0.77]) #[left, bottom, width, height]\n",
    "    cb = plt.colorbar(im1, cax=cbar_ax, extend=\"max\")\n",
    "    cb.set_label(\"norm. continuous wavelet transform power\", fontsize=font, labelpad=5, color=\"black\")\n",
    "\n",
    "#     ax1.set_title(f\"bandpass = {pmax} - {pmin} hours\")\n",
    "\n",
    "    plt.plot();\n",
    "    return fig\n",
    "\n",
    "fig = __makeplot_cwt_all(st0, outs, clog=False, ylim=1)\n",
    "\n",
    "fig.savefig(config['path_to_figs']+f\"SF_BS_RV_CWT_baro.png\", format=\"png\", dpi=150, bbox_inches='tight')\n"
   ]
  },
  {
   "cell_type": "markdown",
   "id": "2a7ceb9c-a4cd-4872-afed-9623a8e0a5f4",
   "metadata": {},
   "source": [
    "## Plotting"
   ]
  },
  {
   "cell_type": "code",
   "execution_count": null,
   "id": "760dd6e3-3237-4dc6-acf0-ea0fdb119c9d",
   "metadata": {
    "tags": []
   },
   "outputs": [],
   "source": []
  },
  {
   "cell_type": "code",
   "execution_count": null,
   "id": "fb53bda3-1675-448b-a0d5-d6833708f591",
   "metadata": {
    "tags": []
   },
   "outputs": [],
   "source": []
  }
 ],
 "metadata": {
  "kernelspec": {
   "display_name": "Python 3 (ipykernel)",
   "language": "python",
   "name": "python3"
  },
  "language_info": {
   "codemirror_mode": {
    "name": "ipython",
    "version": 3
   },
   "file_extension": ".py",
   "mimetype": "text/x-python",
   "name": "python",
   "nbconvert_exporter": "python",
   "pygments_lexer": "ipython3",
   "version": "3.10.12"
  },
  "latex_envs": {
   "LaTeX_envs_menu_present": true,
   "autoclose": false,
   "autocomplete": true,
   "bibliofile": "biblio.bib",
   "cite_by": "apalike",
   "current_citInitial": 1,
   "eqLabelWithNumbers": true,
   "eqNumInitial": 1,
   "hotkeys": {
    "equation": "Ctrl-E",
    "itemize": "Ctrl-I"
   },
   "labels_anchors": false,
   "latex_user_defs": false,
   "report_style_numbering": false,
   "user_envs_cfg": false
  },
  "toc": {
   "base_numbering": 1,
   "nav_menu": {},
   "number_sections": true,
   "sideBar": true,
   "skip_h1_title": false,
   "title_cell": "Table of Contents",
   "title_sidebar": "Contents",
   "toc_cell": false,
   "toc_position": {},
   "toc_section_display": true,
   "toc_window_display": false
  },
  "varInspector": {
   "cols": {
    "lenName": 16,
    "lenType": 16,
    "lenVar": 40
   },
   "kernels_config": {
    "python": {
     "delete_cmd_postfix": "",
     "delete_cmd_prefix": "del ",
     "library": "var_list.py",
     "varRefreshCmd": "print(var_dic_list())"
    },
    "r": {
     "delete_cmd_postfix": ") ",
     "delete_cmd_prefix": "rm(",
     "library": "var_list.r",
     "varRefreshCmd": "cat(var_dic_list()) "
    }
   },
   "types_to_exclude": [
    "module",
    "function",
    "builtin_function_or_method",
    "instance",
    "_Feature"
   ],
   "window_display": false
  }
 },
 "nbformat": 4,
 "nbformat_minor": 5
}
