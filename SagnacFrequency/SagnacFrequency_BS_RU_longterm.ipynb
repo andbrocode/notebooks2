{
 "cells": [
  {
   "cell_type": "markdown",
   "id": "22f5c8c9",
   "metadata": {
    "ExecuteTime": {
     "end_time": "2022-10-28T13:00:52.763484Z",
     "start_time": "2022-10-28T13:00:52.761516Z"
    }
   },
   "source": [
    "## Sagnac Frequency - Backscatter Correction - RU Longterm"
   ]
  },
  {
   "cell_type": "markdown",
   "id": "1cd32aed",
   "metadata": {},
   "source": []
  },
  {
   "cell_type": "markdown",
   "id": "185b1a0b",
   "metadata": {},
   "source": [
    "## Imports"
   ]
  },
  {
   "cell_type": "code",
   "execution_count": 1,
   "id": "818caf4c",
   "metadata": {
    "ExecuteTime": {
     "end_time": "2023-06-27T08:11:10.277643Z",
     "start_time": "2023-06-27T08:11:08.781535Z"
    },
    "tags": []
   },
   "outputs": [],
   "source": [
    "import os\n",
    "import gc\n",
    "import matplotlib.pyplot as plt\n",
    "import numpy as np\n",
    "\n",
    "from datetime import datetime, date\n",
    "from pandas import DataFrame, read_pickle, date_range, concat, read_csv\n",
    "from obspy import UTCDateTime, read, Trace, Stream\n",
    "from scipy.signal import hilbert\n",
    "\n",
    "from functions.get_fft import __get_fft\n",
    "from functions.multitaper_psd import __multitaper_psd\n",
    "from functions.welch_psd import __welch_psd\n",
    "from andbro__read_sds import __read_sds\n",
    "from andbro__readYaml import __readYaml"
   ]
  },
  {
   "cell_type": "code",
   "execution_count": 2,
   "id": "b83c9987",
   "metadata": {
    "ExecuteTime": {
     "end_time": "2023-06-27T08:11:10.288084Z",
     "start_time": "2023-06-27T08:11:10.284752Z"
    },
    "tags": []
   },
   "outputs": [],
   "source": [
    "if os.uname().nodename == 'lighthouse':\n",
    "    root_path = '/home/andbro/'\n",
    "    data_path = '/home/andbro/kilauea-data/'\n",
    "    archive_path = '/home/andbro/freenas/'\n",
    "    bay_path = '/home/andbro/bay200/'\n",
    "elif os.uname().nodename == 'kilauea':\n",
    "    root_path = '/home/brotzer/'\n",
    "    data_path = '/import/kilauea-data/'\n",
    "    archive_path = '/import/freenas-ffb-01-data/'\n",
    "    bay_path = '/bay200/'\n",
    "elif os.uname().nodename == 'lin-ffb-01':\n",
    "    root_path = '/home/brotzer/'\n",
    "    data_path = '/import/kilauea-data/'\n",
    "    archive_path = '/import/freenas-ffb-01-data/'\n",
    "    bay_path = '/bay200/'"
   ]
  },
  {
   "cell_type": "code",
   "execution_count": null,
   "id": "6d4dc8b2-cc89-420e-a4cf-5ca715a57aa7",
   "metadata": {},
   "outputs": [],
   "source": [
    "def __reduce(dat, n_samples):\n",
    "    from numpy import nanmean\n",
    "    return dat - nanmean(dat[:n_samples])"
   ]
  },
  {
   "cell_type": "markdown",
   "id": "ec2578ab",
   "metadata": {},
   "source": [
    "## Configurations"
   ]
  },
  {
   "cell_type": "code",
   "execution_count": 3,
   "id": "ba83e3e7",
   "metadata": {
    "ExecuteTime": {
     "end_time": "2023-06-27T08:11:13.008382Z",
     "start_time": "2023-06-27T08:11:13.002517Z"
    },
    "tags": []
   },
   "outputs": [],
   "source": [
    "config = {}\n",
    "\n",
    "config['ring'] = \"U\"\n",
    "\n",
    "config['seed'] = \"BW.DROMY..FJU\"\n",
    "\n",
    "config['path_to_sds'] = archive_path+\"romy_archive/\"\n",
    "\n",
    "config['tbeg'] = UTCDateTime(\"2023-11-01 00:00\")\n",
    "config['tend'] = UTCDateTime(\"2024-01-12 00:00\")\n",
    "\n",
    "\n",
    "## path to Sagnac data\n",
    "config['path_to_autodata'] = archive_path+f\"romy_autodata/\"\n",
    "\n",
    "config['path_to_data'] = data_path+\"sagnac_frequency/data/backscatter/\"\n",
    "\n",
    "config['path_to_figs'] = data_path+\"sagnac_frequency/figures/\""
   ]
  },
  {
   "cell_type": "markdown",
   "id": "12ef7747-2cb6-4561-bfe3-ccd226aae9dc",
   "metadata": {
    "tags": []
   },
   "source": [
    "## Configurations"
   ]
  },
  {
   "cell_type": "code",
   "execution_count": 4,
   "id": "51931b63-c210-4304-a04d-9e27ee1a3bb5",
   "metadata": {
    "tags": []
   },
   "outputs": [],
   "source": [
    "def __load_backscatter_data(tbeg, tend, ring, path_to_data):\n",
    "\n",
    "    from obspy import UTCDateTime\n",
    "    from datetime import date\n",
    "    from pandas import read_pickle, concat, DataFrame, date_range\n",
    "\n",
    "    t1 = date.fromisoformat(str(UTCDateTime(tbeg).date))\n",
    "    t2 = date.fromisoformat(str((UTCDateTime(tend)-86400).date))\n",
    "\n",
    "    df = DataFrame()\n",
    "    for dat in date_range(t1, t2):\n",
    "        print(dat)\n",
    "        dat_str = str(dat)[:10].replace(\"-\",\"\")\n",
    "        file = f\"FJ{ring}_{dat_str}_backscatter.pkl\"\n",
    "\n",
    "        if not os.path.isfile(path_to_data+file):\n",
    "            _path = data_path+\"sagnac_frequency/data/\"\n",
    "\n",
    "            out = DataFrame()\n",
    "            for m in range(24):\n",
    "                hour = str(m).rjust(2, '0')+\":00:00\"\n",
    "                filename = f\"FJU_{dat_str}_{hour}_backscatter.pkl\"\n",
    "                try:\n",
    "                    _df = read_pickle(_path+filename)\n",
    "                    out = concat([out, _df])\n",
    "                except:\n",
    "                    print(f\" -> failed: {_path}{filename}\")\n",
    "                    continue\n",
    "\n",
    "            if not out.empty:\n",
    "                print(f\" -> write to: {_path}backscatter/FJU_{dat_str}_backscatter.pkl\")\n",
    "                out.to_pickle(f\"{_path}backscatter/FJU_{dat_str}_backscatter.pkl\")\n",
    "            else:\n",
    "                continue\n",
    "\n",
    "        try:\n",
    "            df0 = read_pickle(path_to_data+file)\n",
    "            df = concat([df, df0])\n",
    "        except:\n",
    "            print(f\"error for {file}\")\n",
    "\n",
    "    df.reset_index(inplace=True)\n",
    "\n",
    "    return df"
   ]
  },
  {
   "cell_type": "code",
   "execution_count": 5,
   "id": "5d8a5d06-0406-40f2-865b-93ad62f11e51",
   "metadata": {
    "tags": []
   },
   "outputs": [
    {
     "name": "stdout",
     "output_type": "stream",
     "text": [
      "2023-11-01 00:00:00\n",
      "2023-11-02 00:00:00\n",
      "2023-11-03 00:00:00\n",
      "2023-11-04 00:00:00\n",
      "2023-11-05 00:00:00\n",
      "2023-11-06 00:00:00\n",
      "2023-11-07 00:00:00\n",
      "2023-11-08 00:00:00\n",
      "2023-11-09 00:00:00\n",
      "2023-11-10 00:00:00\n",
      "2023-11-11 00:00:00\n",
      "2023-11-12 00:00:00\n",
      "2023-11-13 00:00:00\n",
      "2023-11-14 00:00:00\n",
      "2023-11-15 00:00:00\n",
      "2023-11-16 00:00:00\n",
      "2023-11-17 00:00:00\n",
      "2023-11-18 00:00:00\n",
      "2023-11-19 00:00:00\n",
      "2023-11-20 00:00:00\n",
      "2023-11-21 00:00:00\n",
      "2023-11-22 00:00:00\n",
      "2023-11-23 00:00:00\n",
      "2023-11-24 00:00:00\n",
      "2023-11-25 00:00:00\n",
      "2023-11-26 00:00:00\n",
      "2023-11-27 00:00:00\n",
      "2023-11-28 00:00:00\n",
      "2023-11-29 00:00:00\n",
      "2023-11-30 00:00:00\n",
      "2023-12-01 00:00:00\n",
      "2023-12-02 00:00:00\n",
      "2023-12-03 00:00:00\n",
      "2023-12-04 00:00:00\n",
      "2023-12-05 00:00:00\n",
      "2023-12-06 00:00:00\n",
      "2023-12-07 00:00:00\n",
      "2023-12-08 00:00:00\n",
      "2023-12-09 00:00:00\n",
      "2023-12-10 00:00:00\n",
      "2023-12-11 00:00:00\n",
      "2023-12-12 00:00:00\n",
      "2023-12-13 00:00:00\n",
      "2023-12-14 00:00:00\n",
      "2023-12-15 00:00:00\n",
      "2023-12-16 00:00:00\n",
      "2023-12-17 00:00:00\n",
      "2023-12-18 00:00:00\n",
      "2023-12-19 00:00:00\n",
      "2023-12-20 00:00:00\n",
      "2023-12-21 00:00:00\n",
      "2023-12-22 00:00:00\n",
      "2023-12-23 00:00:00\n",
      "2023-12-24 00:00:00\n",
      "2023-12-25 00:00:00\n",
      "2023-12-26 00:00:00\n",
      "2023-12-27 00:00:00\n",
      "2023-12-28 00:00:00\n",
      "2023-12-29 00:00:00\n",
      "2023-12-30 00:00:00\n",
      "2023-12-31 00:00:00\n",
      "2024-01-01 00:00:00\n",
      "2024-01-02 00:00:00\n",
      "2024-01-03 00:00:00\n",
      "2024-01-04 00:00:00\n",
      "2024-01-05 00:00:00\n",
      "2024-01-06 00:00:00\n",
      "2024-01-07 00:00:00\n",
      "2024-01-08 00:00:00\n",
      "2024-01-09 00:00:00\n",
      "2024-01-10 00:00:00\n",
      "2024-01-11 00:00:00\n"
     ]
    }
   ],
   "source": [
    "bs = __load_backscatter_data(config['tbeg'], config['tend'], config['ring'], config['path_to_data'])\n",
    "\n",
    "bs['time_sec'] = bs.time2 - bs.time1 + (bs.time1 - bs.time1.loc[0])"
   ]
  },
  {
   "cell_type": "code",
   "execution_count": 6,
   "id": "5d07a94d-79ed-4f72-ae54-2b345a645eaa",
   "metadata": {
    "tags": []
   },
   "outputs": [
    {
     "data": {
      "text/plain": [
       "(302.3, 303.2)"
      ]
     },
     "execution_count": 6,
     "metadata": {},
     "output_type": "execute_result"
    },
    {
     "data": {
      "image/png": "[encoded data removed]",
      "text/plain": [
       "<Figure size 1500x500 with 1 Axes>"
      ]
     },
     "metadata": {},
     "output_type": "display_data"
    }
   ],
   "source": [
    "plt.figure(figsize=(15,5))\n",
    "plt.plot(bs.time_sec/86400, bs.fj_fs)\n",
    "plt.ylim(302.3, 303.2)"
   ]
  },
  {
   "cell_type": "markdown",
   "id": "c5b9e835-f58a-4241-ba3f-ec5427ffa35c",
   "metadata": {},
   "source": [
    "### Cut corrupt data periods"
   ]
  },
  {
   "cell_type": "code",
   "execution_count": 7,
   "id": "7f016660-577e-42a4-907d-9a7190a147e2",
   "metadata": {
    "tags": []
   },
   "outputs": [],
   "source": [
    "times = [(\"2023-12-04T09:11\", \"2023-12-04T18:01\")]\n",
    "\n",
    "for t1, t2 in times:\n",
    "    bs['fj_fs'] = np.where((bs.time1 > t1) & (bs.time1 < t2), np.nan, bs.fj_fs)\n",
    "    bs['w_s'] = np.where((bs.time1 > t1) & (bs.time1 < t2), np.nan, bs.w_s)\n",
    "\n",
    "\n",
    "bs['fj_fs'] = np.nan_to_num(bs['fj_fs'], nan=np.nanmedian(bs['fj_fs']))\n",
    "bs['w_s'] = np.nan_to_num(bs['w_s'], nan=np.nanmedian(bs['w_s']))"
   ]
  },
  {
   "cell_type": "code",
   "execution_count": 8,
   "id": "a110303c-2c40-4558-a12a-c7dd99b09d6a",
   "metadata": {
    "tags": []
   },
   "outputs": [],
   "source": [
    "from functions.load_mlti import __load_mlti\n",
    "\n",
    "mltiU = __load_mlti(config['tbeg'], config['tend'], \"U\", archive_path)"
   ]
  },
  {
   "cell_type": "code",
   "execution_count": 9,
   "id": "3073c5f9-f439-4b8b-a9f5-6702bfbd492c",
   "metadata": {
    "tags": []
   },
   "outputs": [],
   "source": [
    "from functions.get_mlti_intervals import __get_mlti_intervals\n",
    "\n",
    "mltiU_t1, mltiU_t2 = __get_mlti_intervals(mltiU.time_utc)"
   ]
  },
  {
   "cell_type": "code",
   "execution_count": 10,
   "id": "f57efd20-ec2a-4e9e-baa3-29b5de985ead",
   "metadata": {
    "tags": []
   },
   "outputs": [],
   "source": [
    "from functions.mlti_intervals_to_NaN import __mlti_intervals_to_NaN\n",
    "\n",
    "bs = __mlti_intervals_to_NaN(bs, \"fj_fs\", \"time1\", mltiU_t1, mltiU_t2, t_offset_sec=300)\n",
    "bs = __mlti_intervals_to_NaN(bs, \"w_s\", \"time1\", mltiU_t1, mltiU_t2, t_offset_sec=300)"
   ]
  },
  {
   "cell_type": "code",
   "execution_count": 11,
   "id": "f59af53c-b28c-4b70-83f8-e4850e70eac2",
   "metadata": {
    "tags": []
   },
   "outputs": [],
   "source": [
    "tt1, tt2 = \"2023-11-01\", \"2023-11-07 17:00\"\n",
    "cond1 = bs.time1 > tt1\n",
    "cond2 = bs.time1 < tt2\n",
    "cond3 = bs.fj_fs_nan < 302.95\n",
    "cond4 = bs.fj_fs_nan > 303.1\n",
    "\n",
    "bs['fj_fs_nan'] = np.where(cond1 & cond2 & cond3, np.nan, bs.fj_fs_nan)\n",
    "bs['fj_fs_nan'] = np.where(cond1 & cond2 & cond4, np.nan, bs.fj_fs_nan)\n",
    "\n",
    "bs['w_s_nan'] = np.where(cond1 & cond2 & cond3, np.nan, bs.w_s_nan)\n",
    "bs['w_s_nan'] = np.where(cond1 & cond2 & cond4, np.nan, bs.w_s_nan)\n"
   ]
  },
  {
   "cell_type": "code",
   "execution_count": 12,
   "id": "934d85ba-f553-4782-92ba-2887a04ca0fa",
   "metadata": {
    "tags": []
   },
   "outputs": [],
   "source": [
    "tt1, tt2 = \"2023-11-07 17:00\", \"2023-11-20 14:00\"\n",
    "cond1 = bs.time1 > tt1\n",
    "cond2 = bs.time1 < tt2\n",
    "cond3 = bs.fj_fs_nan < 302.7\n",
    "cond4 = bs.fj_fs_nan > 303.0\n",
    "\n",
    "bs['fj_fs_nan'] = np.where(cond1 & cond2 & cond3, np.nan, bs.fj_fs_nan)\n",
    "bs['fj_fs_nan'] = np.where(cond1 & cond2 & cond4, np.nan, bs.fj_fs_nan)\n",
    "\n",
    "bs['w_s_nan'] = np.where(cond1 & cond2 & cond3, np.nan, bs.w_s_nan)\n",
    "bs['w_s_nan'] = np.where(cond1 & cond2 & cond4, np.nan, bs.w_s_nan)\n"
   ]
  },
  {
   "cell_type": "code",
   "execution_count": 13,
   "id": "70aeb3b9-8b5b-487c-aada-be618b7b17ea",
   "metadata": {
    "tags": []
   },
   "outputs": [],
   "source": [
    "tt1, tt2 = \"2023-11-20 14:00\", \"2024-01-11\"\n",
    "cond1 = bs.time1 > tt1\n",
    "cond2 = bs.time1 < tt2\n",
    "cond3 = bs.fj_fs_nan < 302.4\n",
    "cond4 = bs.fj_fs_nan > 302.6\n",
    "\n",
    "bs['fj_fs_nan'] = np.where(cond1 & cond2 & cond3, np.nan, bs.fj_fs_nan)\n",
    "bs['fj_fs_nan'] = np.where(cond1 & cond2 & cond4, np.nan, bs.fj_fs_nan)\n",
    "\n",
    "bs['w_s_nan'] = np.where(cond1 & cond2 & cond3, np.nan, bs.w_s_nan)\n",
    "bs['w_s_nan'] = np.where(cond1 & cond2 & cond4, np.nan, bs.w_s_nan)\n"
   ]
  },
  {
   "cell_type": "code",
   "execution_count": 14,
   "id": "512abf36-a40d-480f-9177-556a493a4cbc",
   "metadata": {},
   "outputs": [],
   "source": [
    "from functions.interpolate_nan import __interpolate_nan\n",
    "\n",
    "bs['fj_fs_inter'] = __interpolate_nan(np.array(bs.fj_fs_nan))\n",
    "bs['w_s_inter'] = __interpolate_nan(np.array(bs.w_s_nan))"
   ]
  },
  {
   "cell_type": "code",
   "execution_count": 15,
   "id": "09b3cefb-1f20-400e-822c-37dde096970a",
   "metadata": {
    "tags": []
   },
   "outputs": [],
   "source": [
    "from functions.smoothing import __smooth\n",
    "\n",
    "n_minutes = 300\n",
    "\n",
    "bs['fj_fs_smooth'] = __smooth(bs.fj_fs_inter, n_minutes)\n",
    "bs['w_s_smooth'] = __smooth(bs.w_s_inter, n_minutes)"
   ]
  },
  {
   "cell_type": "code",
   "execution_count": 24,
   "id": "2ae877ec-3074-4929-a0f1-d866cb07ae39",
   "metadata": {
    "tags": []
   },
   "outputs": [
    {
     "name": "stderr",
     "output_type": "stream",
     "text": [
      "/tmp/ipykernel_1751552/3763198510.py:30: UserWarning: FixedFormatter should only be used together with FixedLocator\n",
      "  ax.set_xticklabels(tcklbls)\n"
     ]
    },
    {
     "data": {
      "image/png": "[encoded data removed]",
      "text/plain": [
       "<Figure size 1500x500 with 1 Axes>"
      ]
     },
     "metadata": {},
     "output_type": "display_data"
    }
   ],
   "source": [
    "def __makeplot():\n",
    "\n",
    "    Nrow, Ncol = 1, 1\n",
    "\n",
    "    font = 12\n",
    "\n",
    "    fig, ax = plt.subplots(Nrow, Ncol, figsize=(15, 5), sharex=True)\n",
    "\n",
    "    plt.subplots_adjust(hspace=0.1)\n",
    "\n",
    "    # time_scaling = 1/86400\n",
    "    time_scaling = 1\n",
    "\n",
    "    ax.plot(bs.time_sec*time_scaling, bs.fj_fs, color=\"tab:grey\", alpha=0.3, label=\"raw\")\n",
    "    ax.plot(bs.time_sec*time_scaling, bs.fj_fs_nan, color=\"tab:blue\", label=\"cleaned\")\n",
    "    # ax.plot(bs.time_sec*time_scaling, bs.fj_fs_smooth, color=\"k\", label=f\"mov. avg. ({n_minutes} min)\")\n",
    "    ax.set_ylim(302.35, 303.15)\n",
    "    ax.ticklabel_format(useOffset=False)\n",
    "    ax.set_ylabel(\"$\\delta f$ north ring (Hz)\", fontsize=font)\n",
    "\n",
    "    ax.grid(ls=\":\", zorder=0)\n",
    "    ax.legend(loc=1)\n",
    "    ax.set_xlim(left=0)\n",
    "\n",
    "\n",
    "    ## add dates to x-axis\n",
    "    ref_date = str(bs.time1.iloc[0])[:10]\n",
    "    tcks = ax.get_xticks()\n",
    "    tcklbls = [UTCDateTime(UTCDateTime(ref_date)+t).date for t in tcks]\n",
    "    ax.set_xticklabels(tcklbls)\n",
    "\n",
    "    plt.show();\n",
    "    return fig\n",
    "\n",
    "fig = __makeplot();\n",
    "\n",
    "fig.savefig(config['path_to_figs']+f\"SF_BS_RU_longterm_cleaned.png\", format=\"png\", dpi=150, bbox_inches='tight')\n"
   ]
  },
  {
   "cell_type": "markdown",
   "id": "f30a9a64-cae7-4114-9182-0b9e743eb9f0",
   "metadata": {},
   "source": [
    "## Load WROMY Data"
   ]
  },
  {
   "cell_type": "code",
   "execution_count": 17,
   "id": "41de9a13-903a-45b1-a23c-e5e49a0eba4d",
   "metadata": {},
   "outputs": [
    {
     "name": "stdout",
     "output_type": "stream",
     "text": [
      "Specified end: 2024-01-12T00:00:00.000000Z \n",
      "Trace end:     2024-01-11T23:59:59.000000Z\n",
      "File: BW.WROMY.WS5.D.2024.001, does not exists!\n",
      "File: BW.WROMY.WS5.D.2024.002, does not exists!\n",
      "File: BW.WROMY.WS5.D.2024.003, does not exists!\n",
      "File: BW.WROMY.WS5.D.2024.004, does not exists!\n",
      "File: BW.WROMY.WS5.D.2024.005, does not exists!\n",
      "Specified end: 2024-01-12T00:00:00.000000Z \n",
      "Trace end:     2024-01-07T05:36:44.000000Z\n",
      "File: BW.WROMY.WS9.D.2024.001, does not exists!\n",
      "File: BW.WROMY.WS9.D.2024.002, does not exists!\n",
      "File: BW.WROMY.WS9.D.2024.003, does not exists!\n",
      "File: BW.WROMY.WS9.D.2024.004, does not exists!\n",
      "File: BW.WROMY.WS9.D.2024.005, does not exists!\n",
      "Specified end: 2024-01-12T00:00:00.000000Z \n",
      "Trace end:     2024-01-07T05:43:32.000000Z\n"
     ]
    }
   ],
   "source": [
    "from andbro__load_WROMY_stream import __load_wromy_stream\n",
    "\n",
    "ws1 = __load_wromy_stream(config['path_to_sds'], \"BW.WROMY..WS1\", config['tbeg'], config['tend'])\n",
    "ws5 = __load_wromy_stream(config['path_to_sds'], \"BW.WROMY..WS5\", config['tbeg'], config['tend'])\n",
    "ws9 = __load_wromy_stream(config['path_to_sds'], \"BW.WROMY..WS9\", config['tbeg'], config['tend'])"
   ]
  },
  {
   "cell_type": "code",
   "execution_count": 18,
   "id": "0cb0d9d0-22ae-4e35-a2d8-cab6300fc96d",
   "metadata": {
    "tags": []
   },
   "outputs": [],
   "source": [
    "# plt.plot(bs[bs.time1 < \"2023-11-20 14:00\"].fj_fs)\n",
    "# plt.ylim(302, 303)"
   ]
  },
  {
   "cell_type": "code",
   "execution_count": 25,
   "id": "381a5920-8de4-49e1-8f13-f16260e39065",
   "metadata": {
    "tags": []
   },
   "outputs": [
    {
     "name": "stderr",
     "output_type": "stream",
     "text": [
      "/tmp/ipykernel_1751552/3986233301.py:43: UserWarning: FixedFormatter should only be used together with FixedLocator\n",
      "  ax[Nrow-1].set_xticklabels(tcklbls)\n"
     ]
    },
    {
     "data": {
      "image/png": "[encoded data removed]",
      "text/plain": [
       "<Figure size 1500x800 with 2 Axes>"
      ]
     },
     "metadata": {},
     "output_type": "display_data"
    }
   ],
   "source": [
    "def __makeplot():\n",
    "\n",
    "    Nrow, Ncol = 2, 1\n",
    "\n",
    "    font = 12\n",
    "\n",
    "    ref_date = str(bs.time1.iloc[0])[:10]\n",
    "\n",
    "    fig, ax = plt.subplots(Nrow, Ncol, figsize=(15, 8), sharex=True)\n",
    "\n",
    "    plt.subplots_adjust(hspace=0.1)\n",
    "\n",
    "    # time_scaling = 1/86400\n",
    "    time_scaling = 1\n",
    "\n",
    "    ax[0].plot(bs.time_sec*time_scaling, bs.fj_fs, color=\"tab:grey\", alpha=0.3, label=\"raw\")\n",
    "    ax[0].plot(bs.time_sec*time_scaling, bs.fj_fs_nan, color=\"tab:blue\", label=\"cleaned\")\n",
    "    # ax[0].plot(bs.time_sec*time_scaling, bs.fj_fs_smooth, color=\"k\", label=f\"mov. avg. ({n_minutes} min)\")\n",
    "    ax[0].set_ylim(302.35, 303.15)\n",
    "    ax[0].ticklabel_format(useOffset=False)\n",
    "    ax[0].set_ylabel(\"$\\delta f$ north ring (Hz)\", fontsize=font)\n",
    "\n",
    "    ax[1].plot(ws1.select(channel=\"*T\")[0].times(reftime=UTCDateTime(ref_date)),\n",
    "               __smooth(ws1.select(channel=\"*T\")[0].data, 600), color=\"tab:orange\", label=\"WS1\")\n",
    "    ax[1].plot(ws5.select(channel=\"*T\")[0].times(reftime=UTCDateTime(ref_date)),\n",
    "               __smooth(ws5.select(channel=\"*T\")[0].data, 600), color=\"tab:purple\", label=\"WS5\")\n",
    "    ax[1].plot(ws9.select(channel=\"*T\")[0].times(reftime=UTCDateTime(ref_date)),\n",
    "               __smooth(ws9.select(channel=\"*T\")[0].data, 600), color=\"tab:red\", label=\"WS9\")\n",
    "\n",
    "    ax[1].set_ylim(8, 17)\n",
    "    ax[1].set_ylabel(\"Temperature (°C)\", fontsize=font)\n",
    "\n",
    "    for _n in range(Nrow):\n",
    "        ax[_n].grid(ls=\":\", zorder=0)\n",
    "        ax[_n].legend(loc=1)\n",
    "        # ax[_n].set_xlim(left=0)\n",
    "\n",
    "    # ax[2].set_xlabel(\"Time (days)\", fontsize=font)\n",
    "\n",
    "    ## add dates to x-axis\n",
    "    tcks = ax[Nrow-1].get_xticks()\n",
    "    tcklbls = [UTCDateTime(UTCDateTime(ref_date)+t).date for t in tcks]\n",
    "    ax[Nrow-1].set_xticklabels(tcklbls)\n",
    "\n",
    "    gc.collect()\n",
    "\n",
    "    plt.show();\n",
    "    return fig\n",
    "\n",
    "fig = __makeplot();\n",
    "\n",
    "fig.savefig(config['path_to_figs']+f\"SF_BS_RU_multiday_Case3_temperature.png\", format=\"png\", dpi=150, bbox_inches='tight')\n"
   ]
  },
  {
   "cell_type": "markdown",
   "id": "4981daee-4891-4523-9f14-46ffae2a0f6b",
   "metadata": {},
   "source": [
    "## Load Rain Data"
   ]
  },
  {
   "cell_type": "code",
   "execution_count": 26,
   "id": "047fec79-1199-4cf1-b4e5-fafdc7699150",
   "metadata": {
    "tags": []
   },
   "outputs": [],
   "source": [
    "from andbro__load_FURT_stream import __load_furt_stream"
   ]
  },
  {
   "cell_type": "code",
   "execution_count": 27,
   "id": "66bf4268-69e0-4d05-bc4e-74b042bb99e8",
   "metadata": {
    "tags": []
   },
   "outputs": [],
   "source": [
    "def __cumsum_rain(arr, n_samples):\n",
    "\n",
    "    from numpy import cumsum, zeros, nansum, nanmean\n",
    "\n",
    "    arr_out = zeros(len(arr))\n",
    "    for i, dat in enumerate(arr):\n",
    "        arr_out[i] = nansum(arr[i:i+n_samples])\n",
    "        # arr_out[i] = nanmean(arr[i:i+n_samples])\n",
    "\n",
    "    return arr_out"
   ]
  },
  {
   "cell_type": "code",
   "execution_count": null,
   "id": "7ae12e7a-8e31-43e9-89d8-e3dec82c7946",
   "metadata": {
    "tags": []
   },
   "outputs": [
    {
     "name": "stderr",
     "output_type": "stream",
     "text": [
      "/home/andbro/andbro_python/andbro__load_FURT_stream.py:105: DtypeWarning: Columns (1) have mixed types. Specify dtype option on import or set low_memory=False.\n",
      "  df0 = read_csv(path_to_archive+filename, header=0, usecols=[0,1,5,8,10,12,13,14], names=['date', 'time', 'Dm', 'Sm', 'T', 'H', 'P','Rc'])\n"
     ]
    }
   ],
   "source": [
    "furt = __load_furt_stream(config['tbeg'], config['tend'], path_to_archive=bay_path+'gif_online/FURT/WETTER/')"
   ]
  },
  {
   "cell_type": "code",
   "execution_count": null,
   "id": "b47c2bc1-f787-4a87-9390-e68421ca243a",
   "metadata": {
    "tags": []
   },
   "outputs": [],
   "source": [
    "rain = furt.select(channel=\"LAR\")"
   ]
  },
  {
   "cell_type": "code",
   "execution_count": null,
   "id": "0f575238-aca8-420c-8ea1-b706ed84f325",
   "metadata": {
    "tags": []
   },
   "outputs": [],
   "source": [
    "# rain_cumsum = __cumsum_rain(rain[0].data, 3600)\n",
    "rain_smooth = __smooth(__interpolate_nan(rain[0].data), 3600)\n"
   ]
  },
  {
   "cell_type": "markdown",
   "id": "75a6bcca-037e-4479-bea3-4cf30f48d702",
   "metadata": {
    "jp-MarkdownHeadingCollapsed": true,
    "tags": []
   },
   "source": [
    "### Compute PSD"
   ]
  },
  {
   "cell_type": "code",
   "execution_count": null,
   "id": "fff799c1-d5a9-4111-95c4-5ff16b9775ed",
   "metadata": {
    "tags": []
   },
   "outputs": [],
   "source": [
    "from functions.multitaper_psd import __multitaper_psd\n",
    "\n",
    "dat1 = np.array((bs.fj_fs_inter - bs.fj_fs_inter.mean()).replace(np.nan, 0))\n",
    "dat2 = np.array((bs.w_s_inter - bs.w_s_inter.mean()).replace(np.nan, 0))\n",
    "\n",
    "# dat1 = np.array((bs.fj_fs - bs.fj_fs.mean()).replace(np.nan, 0))\n",
    "# dat2 = np.array((bs.w_s - bs.w_s.mean()).replace(np.nan, 0))\n",
    "\n",
    "dat1 = dat1 - np.mean(dat1)\n",
    "dat2 = dat2 - np.mean(dat2)\n",
    "\n",
    "# f1, psd1 = __multitaper_psd(dat1, 60, n_win=10)\n",
    "# f2, psd2 = __multitaper_psd(dat2, 60, n_win=10)\n",
    "\n",
    "# f1, psd1 = __welch_psd(dat1, 60, twin_sec=86400)\n",
    "# f2, psd2 = __welch_psd(dat2, 60, twin_sec=86400)\n",
    "\n",
    "f1, psd1, pha1 = __get_fft(dat1, 60)\n",
    "f2, psd2, pha2 = __get_fft(dat2, 60)\n"
   ]
  },
  {
   "cell_type": "code",
   "execution_count": null,
   "id": "12774ce5-2db5-43f5-a289-0723d464748f",
   "metadata": {
    "tags": []
   },
   "outputs": [],
   "source": [
    "def __makeplot():\n",
    "\n",
    "    Nrow, Ncol = 2, 1\n",
    "\n",
    "    font = 12\n",
    "\n",
    "    time_scaling = 1/86400\n",
    "\n",
    "    fig, ax = plt.subplots(Nrow, Ncol, figsize=(15, 8))\n",
    "\n",
    "    ax[0].plot(bs.time_sec*time_scaling, bs.fj_fs_inter, color=\"black\", label=f\"$\\delta$f w/ backscatter\")\n",
    "    ax[0].plot(bs.time_sec*time_scaling, bs.w_s_inter, color=\"tab:red\", label=f\"$\\delta$f w/o backscatter\")\n",
    "\n",
    "    ax[0].ticklabel_format(useOffset=False)\n",
    "\n",
    "    ax[1].semilogx(f1, psd1, color=\"black\", label=f\"$\\delta$f w/ backscatter\")\n",
    "    ax[1].semilogx(f2, psd2, color=\"tab:red\", label=f\"$\\delta$f w/o backscatter\")\n",
    "\n",
    "    for _n in range(Nrow):\n",
    "        ax[_n].grid(ls=\":\", zorder=0)\n",
    "        ax[_n].legend(loc=1, fontsize=font-1)\n",
    "\n",
    "    ax[0].set_ylim(302.40, 302.53)\n",
    "    ax[1].set_ylim(0, max(psd1))\n",
    "    ax[0].set_xlim(0, max(bs.time_sec)*time_scaling)\n",
    "\n",
    "    ax[0].set_ylabel(f\"$\\delta$f (Hz)\", fontsize=font)\n",
    "    ax[0].set_xlabel(f\"Time from {config['tbeg'].date} {config['tbeg'].time} UTC (hours)\", fontsize=font)\n",
    "\n",
    "    # ax[1].set_ylabel(\"PSD (Hz$^2$ /Hz)\", fontsize=font)\n",
    "    ax[1].set_ylabel(\"Spectrum (Hz $\\sqrt{Hz}$)\", fontsize=font)\n",
    "    ax[1].set_xlabel(\"Frequency (Hz)\", fontsize=font)\n",
    "\n",
    "    ax[1].axvline(1/(12*3600), ls=\"--\", color=\"grey\", zorder=0)\n",
    "    ax[1].axvline(1/(24*3600), ls=\"--\", color=\"grey\", zorder=0)\n",
    "\n",
    "    plt.show();\n",
    "    return fig\n",
    "\n",
    "fig = __makeplot();\n",
    "\n",
    "# fig.savefig(config['path_to_figs']+f\"SagnacFrequency_BS_RU_multiday_Case2_PSD.png\", format=\"png\", dpi=200, bbox_inches='tight')\n"
   ]
  },
  {
   "cell_type": "markdown",
   "id": "6c11fb44-1fbf-4807-b46d-5b3293589f97",
   "metadata": {},
   "source": [
    "### Convert beat to tilt"
   ]
  },
  {
   "cell_type": "markdown",
   "id": "dee20ed2-867c-48f0-8542-eb75d3ccdf1c",
   "metadata": {},
   "source": [
    "$\\delta$ f = S * $\\Omega_E$ * sin($\\phi_{lat}$ + $\\theta_{dip}$ + $\\epsilon_{tilt}$)\n",
    "\n",
    "$\\epsilon_{tilt}$ = arcsin( $\\delta$ f / S / $\\Omega_E$ ) - $\\phi_{lat}$ - $\\theta_{dip}$"
   ]
  },
  {
   "cell_type": "code",
   "execution_count": null,
   "id": "3b3ffabe-db37-4bad-84fe-5e608c9ea8b9",
   "metadata": {
    "tags": []
   },
   "outputs": [],
   "source": [
    "from functions.sagnac_to_tilt import __sagnac_to_tilt"
   ]
  },
  {
   "cell_type": "code",
   "execution_count": null,
   "id": "25f19c91-8617-4ee4-afa1-9273398a37e6",
   "metadata": {
    "tags": []
   },
   "outputs": [],
   "source": [
    "# def __to_tilt(data):\n",
    "\n",
    "#     from numpy import pi, sqrt, arccos, deg2rad, arcsin\n",
    "\n",
    "#     dip = 109.5\n",
    "#     L = 12.0\n",
    "#     S = (np.sqrt(3)*L)/(3*632.8e-9)\n",
    "#     lat = 48.162941\n",
    "#     omegaE = 2*np.pi/86400\n",
    "\n",
    "#     return arcsin(data /omegaE /S) - deg2rad(lat) - deg2rad(dip)"
   ]
  },
  {
   "cell_type": "code",
   "execution_count": null,
   "id": "d7f8b8a0-8e06-4c2b-9d5d-75b00ea66dd2",
   "metadata": {
    "tags": []
   },
   "outputs": [],
   "source": [
    "def __conversion_to_tilt(st, conf):\n",
    "\n",
    "    st0 = st.copy()\n",
    "\n",
    "    def convertTemp(trace):\n",
    "        Tvolt = trace.data * conf.get('gainTemp')\n",
    "        coeff = conf.get('calcTempCoefficients')\n",
    "        return coeff[0] + coeff[1]*Tvolt + coeff[2]*Tvolt**2 + coeff[3]*Tvolt**3\n",
    "\n",
    "    def convertTilt(trace, conversion, sensitivity):\n",
    "        return trace.data * conversion * sensitivity\n",
    "\n",
    "    for tr in st0:\n",
    "        if tr.stats.channel[-1] == 'T':\n",
    "            tr.data = convertTemp(tr)\n",
    "        elif tr.stats.channel[-1] == 'N':\n",
    "            tr.data = convertTilt(tr, conf['convTN'], conf['gainTilt'])\n",
    "        elif tr.stats.channel[-1] == 'E':\n",
    "            tr.data = convertTilt(tr, conf['convTE'], conf['gainTilt'])\n",
    "        else:\n",
    "            print(\"no match\")\n",
    "\n",
    "    print(f\"  -> converted data of {st[0].stats.station}\")\n",
    "    return st0"
   ]
  },
  {
   "cell_type": "code",
   "execution_count": null,
   "id": "5f44355e-fa8e-4eb2-bcc5-a3d61402ef59",
   "metadata": {
    "tags": []
   },
   "outputs": [],
   "source": [
    "fs_tilt = __sagnac_to_tilt(bs.w_s_inter, \"U\")\n",
    "\n",
    "plt.plot(fs_tilt)"
   ]
  },
  {
   "cell_type": "markdown",
   "id": "0244fec6-eacb-4505-9074-03904a20f3ee",
   "metadata": {},
   "source": [
    "### Load Tilt Data"
   ]
  },
  {
   "cell_type": "code",
   "execution_count": null,
   "id": "911e0a68-43cf-44cb-b0b0-54fcce9bb5ad",
   "metadata": {
    "tags": []
   },
   "outputs": [],
   "source": [
    "tromy0 = __read_sds(config['path_to_sds'], \"BW.TROMY..MAN\", config['tbeg']-600, config['tend']+600)\n",
    "tromy0 += __read_sds(config['path_to_sds'], \"BW.TROMY..MAE\", config['tbeg']-600, config['tend']+600)\n",
    "tromy0 += __read_sds(config['path_to_sds'], \"BW.TROMY..MAT\", config['tbeg']-600, config['tend']+600)\n",
    "\n",
    "## tiltmeter configurations\n",
    "confTilt = __readYaml(root_path+\"Documents/ROMY/tiltmeter/\", \"tiltmeter.conf\")\n",
    "\n",
    "tromy0 = __conversion_to_tilt(tromy0, confTilt['TROMY'])\n",
    "\n",
    "tromy0 = tromy0.trim(bs.time1[0], bs.time1[bs.time1.size-1]);\n",
    "\n",
    "tromy = tromy0.copy();\n",
    "\n",
    "tromy = tromy.merge();\n",
    "\n",
    "tromy.plot(equal_scale=False);"
   ]
  },
  {
   "cell_type": "markdown",
   "id": "42983d4b-42c0-408b-9b07-49d8e30104be",
   "metadata": {
    "tags": []
   },
   "source": [
    "### LowPass Version"
   ]
  },
  {
   "cell_type": "code",
   "execution_count": null,
   "id": "461edf1f-7a89-4a1d-8015-27ef252407a1",
   "metadata": {
    "tags": []
   },
   "outputs": [],
   "source": [
    "tromy_lp = tromy0.copy()\n",
    "tromy_lp = tromy_lp.detrend(\"simple\")\n",
    "tromy_lp = tromy_lp.taper(0.1)\n",
    "# tromy_lp = tromy_lp.filter(\"lowpass\", freq=0.01, corners=4, zerophase=True)\n",
    "tromy_lp = tromy_lp.filter(\"bandpass\", freqmin=1/(10*86400), freqmax=1/(1*3600), corners=4, zerophase=True)\n",
    "tromy_lp = tromy_lp.resample(1/(1*3600), no_filter=True)\n",
    "\n",
    "tromy_lp.merge()\n",
    "tromy_lp.plot(equal_scale=False);"
   ]
  },
  {
   "cell_type": "code",
   "execution_count": null,
   "id": "73866d84-2c53-4678-a82a-e400fc6f4ab0",
   "metadata": {
    "tags": []
   },
   "outputs": [],
   "source": [
    "gc.collect()"
   ]
  },
  {
   "cell_type": "code",
   "execution_count": null,
   "id": "a9d9f41b-5576-4fac-86dd-a85fac854b88",
   "metadata": {
    "tags": []
   },
   "outputs": [],
   "source": [
    "from obspy.signal.cross_correlation import correlate, xcorr_max\n",
    "\n",
    "arr1 = np.nan_to_num(tromy_lp.select(channel=\"*T\")[0].data, 0)\n",
    "arr2 = np.nan_to_num(tromy_lp.select(channel=\"*N\")[0].data, 0)\n",
    "\n",
    "# arr1 = __interpolate_nan(tromy_lp.select(channel=\"*T\")[0].data)\n",
    "# arr2 = __interpolate_nan(tromy_lp.select(channel=\"*N\")[0].data)\n",
    "\n",
    "Nshift = len(arr1)\n",
    "ccf = correlate(arr1, arr2, shift=Nshift, demean=True, normalize='naive', method='fft')\n",
    "cclags = np.arange(-Nshift, Nshift+1)\n",
    "\n",
    "shift, value = xcorr_max(ccf)\n",
    "print(\"Nshift: \", shift, \"Tshift: \", shift*tromy_lp[0].stats.delta, \"CC: \", value)\n",
    "\n",
    "cclag = shift\n",
    "\n",
    "plt.plot(cclags, ccf)"
   ]
  },
  {
   "cell_type": "code",
   "execution_count": null,
   "id": "6f47bf9b-fcc4-46fd-b1b4-90258daea27a",
   "metadata": {
    "tags": []
   },
   "outputs": [],
   "source": [
    "arr1 = np.nan_to_num(tromy_lp.select(channel=\"*N\")[0].data, 0)\n",
    "arr2 = np.nan_to_num(tromy_lp.select(channel=\"*T\")[0].data, 0)\n",
    "\n",
    "\n",
    "fig, ax = plt.subplots(4, 1, figsize=(15, 8))\n",
    "\n",
    "ax[0].plot(arr1, label=\"tilt\")\n",
    "ax[0].plot(-arr2*1e-5, label=\"-1 temperature\")\n",
    "correct = np.roll(arr2, -cclag)\n",
    "ax[0].plot(-correct*1e-5, label=\"shifted -1 temperature\")\n",
    "\n",
    "ax[0].legend()\n",
    "\n",
    "ax[1].plot(arr1, label=\"tilt\")\n",
    "ax[1].plot(arr1 + arr2*1e-5, label=\"tilt corrected\")\n",
    "ax[1].plot(arr1 + correct*1.2e-5, label=\"tilt corrected\")\n",
    "\n",
    "ax[1].legend()\n",
    "\n",
    "ax[2].scatter(arr2, arr1, s=1)\n",
    "ax[2].scatter(correct, arr1, s=1)\n",
    "\n",
    "plt.show();"
   ]
  },
  {
   "cell_type": "code",
   "execution_count": null,
   "id": "b270bd2b-adb8-493e-b7e8-361bc1fc096c",
   "metadata": {
    "tags": []
   },
   "outputs": [],
   "source": [
    "from scipy import signal\n",
    "\n",
    "# tf = signal.TransferFunction(arr1, arr2, dt=0.2)\n",
    "\n",
    "# plt.plot(tf)"
   ]
  },
  {
   "cell_type": "code",
   "execution_count": null,
   "id": "869050d8-da13-4d85-a0e4-af4a622c8147",
   "metadata": {
    "tags": []
   },
   "outputs": [],
   "source": [
    "def __correct_temperature_trend(st, correction, n_shift=0, intercept=False):\n",
    "\n",
    "    from numpy import roll\n",
    "\n",
    "    st0 = st.copy()\n",
    "    if roll == 0:\n",
    "        temperature = st0.select(channel=\"*T\")[0].data\n",
    "    else:\n",
    "        temperature = roll(st0.select(channel=\"*T\")[0].data, n_shift)\n",
    "\n",
    "\n",
    "    if intercept:\n",
    "        st0.select(channel=\"*N\")[0].data -= (correction['N_slope']* temperature + correction['N_intercept'])\n",
    "        st0.select(channel=\"*E\")[0].data -= (correction['E_slope']* temperature + correction['N_intercept'])\n",
    "    else:\n",
    "        st0.select(channel=\"*N\")[0].data -= (correction['N_slope']* temperature)\n",
    "        st0.select(channel=\"*E\")[0].data -= (correction['E_slope']* temperature)\n",
    "\n",
    "    plt.plot(temperature)\n",
    "\n",
    "    return st0"
   ]
  },
  {
   "cell_type": "code",
   "execution_count": null,
   "id": "6c94bdcc-be88-4059-8bcb-2e1154433401",
   "metadata": {
    "tags": []
   },
   "outputs": [],
   "source": [
    "## correction for temperature trends based on MAT\n",
    "temperature_correction = __readYaml(f\"{root_path}Documents/ROMY/tiltmeter/\",\"tiltmeter_temperature_correction.yml\")\n",
    "\n",
    "# from functions.correct_temperature_trend import __correct_temperature_trend\n",
    "\n",
    "tromy_mod = __correct_temperature_trend(tromy, temperature_correction['TROMY'], n_shift=0, intercept=False)\n",
    "\n",
    "tromy_mod.plot(equal_scale=False);"
   ]
  },
  {
   "cell_type": "code",
   "execution_count": null,
   "id": "170db74c-371a-44d5-9892-2fe6817a74c1",
   "metadata": {
    "tags": []
   },
   "outputs": [],
   "source": []
  },
  {
   "cell_type": "markdown",
   "id": "3da6e2af-6380-48ce-9e9f-3f531eaaf7de",
   "metadata": {
    "tags": []
   },
   "source": [
    "#### BROMY Data"
   ]
  },
  {
   "cell_type": "code",
   "execution_count": null,
   "id": "f0bd949c-4839-4425-81a1-0cea0f3f0c89",
   "metadata": {
    "tags": []
   },
   "outputs": [],
   "source": [
    "# bromy = __read_sds(config['path_to_sds'], \"BW.DROMY..LAN\", config['tbeg']-600, config['tend']+600)\n",
    "# bromy += __read_sds(config['path_to_sds'], \"BW.DROMY..LAT\", config['tbeg']-600, config['tend']+600)\n",
    "\n",
    "# ## tiltmeter configurations\n",
    "# confTilt = __readYaml(root_path+\"Documents/ROMY/tiltmeter/\", \"tiltmeter.conf\")\n",
    "\n",
    "# bromy = __conversion_to_tilt(bromy, confTilt['BROMY'])\n",
    "\n",
    "# bromy2 = bromy.copy()\n",
    "# bromy2= bromy2.decimate(6, no_filter=False)\n",
    "# bromy2= bromy2.decimate(10, no_filter=False)\n",
    "\n",
    "# temp_gradient = np.gradient(bromy2[0].data, 60)[10:-10]\n",
    "\n",
    "# bromy.trim(config['tbeg'], config['tend'])\n",
    "# bromy2.trim(config['tbeg'], config['tend'])\n",
    "\n",
    "# bromy2.trim(bs.time1[0], bs.time1[bs.time1.size-1])\n",
    "# bromy2.plot(equal_scale=False);\n"
   ]
  },
  {
   "cell_type": "code",
   "execution_count": null,
   "id": "cbe73df6-4755-44a6-b744-38a74d3dfb4c",
   "metadata": {
    "tags": []
   },
   "outputs": [],
   "source": [
    "# plt.plot(rain_cumsum/np.nanmax(rain_cumsum))\n",
    "# plt.plot(rain_smooth/np.nanmax(rain_smooth))"
   ]
  },
  {
   "cell_type": "code",
   "execution_count": null,
   "id": "44fbc717-77b0-4e67-acf1-46fe5f67a7aa",
   "metadata": {
    "tags": []
   },
   "outputs": [],
   "source": []
  },
  {
   "cell_type": "markdown",
   "id": "2b07d38b-a945-4c7a-acc6-814f904c5f7b",
   "metadata": {
    "tags": []
   },
   "source": [
    "### Load WROMY data"
   ]
  },
  {
   "cell_type": "code",
   "execution_count": null,
   "id": "8396ef45-1a6e-48fd-aab7-93f8fabee040",
   "metadata": {
    "tags": []
   },
   "outputs": [],
   "source": [
    "from andbro__load_WROMY_stream import __load_wromy_stream\n",
    "\n",
    "ws1 = __load_wromy_stream(config['path_to_sds'], \"BW.WROMY..WS1\", config['tbeg'], config['tend'])\n",
    "ws5 = __load_wromy_stream(config['path_to_sds'], \"BW.WROMY..WS5\", config['tbeg'], config['tend'])\n",
    "ws9 = __load_wromy_stream(config['path_to_sds'], \"BW.WROMY..WS9\", config['tbeg'], config['tend'])"
   ]
  },
  {
   "cell_type": "code",
   "execution_count": null,
   "id": "997c7d71-d639-44b1-a33e-ce85d890f60f",
   "metadata": {
    "tags": []
   },
   "outputs": [],
   "source": [
    "# ws1 = ws1.decimate(6, no_filter=False)\n",
    "# ws1 = ws1.decimate(10, no_filter=False)\n",
    "\n",
    "# ws5 = ws5.decimate(6, no_filter=False)\n",
    "# ws5 = ws5.decimate(10, no_filter=False)\n",
    "\n",
    "# ws9 = ws9.decimate(6, no_filter=False)\n",
    "# ws9 = ws9.decimate(10, no_filter=False)"
   ]
  },
  {
   "cell_type": "code",
   "execution_count": null,
   "id": "841f7d17-88ba-4976-8dd5-cf84922813ad",
   "metadata": {
    "tags": []
   },
   "outputs": [],
   "source": [
    "ws5.plot(equal_scale=False);"
   ]
  },
  {
   "cell_type": "code",
   "execution_count": null,
   "id": "63961283-d252-4753-9e6e-b34c4618ebf5",
   "metadata": {
    "tags": []
   },
   "outputs": [],
   "source": [
    "from functions.smoothing import __smooth\n",
    "\n",
    "ws1_T = ws1.select(channel=\"*T\")[0].data\n",
    "ws1_T_smooth = __smooth(ws1_T, 60)\n",
    "ws1_gradient = np.gradient(ws1_T_smooth, 5)\n",
    "\n",
    "ws5_T = ws5.select(channel=\"*T\")[0].data\n",
    "ws5_T_smooth = __smooth(ws5_T, 60)\n",
    "ws5_gradient = np.gradient(ws5_T_smooth, 5)\n",
    "\n",
    "ws9_T = ws9.select(channel=\"*T\")[0].data\n",
    "ws9_T_smooth = __smooth(ws9_T, 60)\n",
    "ws9_gradient = np.gradient(ws9_T_smooth, 5)"
   ]
  },
  {
   "cell_type": "code",
   "execution_count": null,
   "id": "955bc3ae-c35d-4e61-b4ca-0e01a4448442",
   "metadata": {
    "tags": []
   },
   "outputs": [],
   "source": [
    "# # plt.plot(ws1_gradient)\n",
    "# # plt.plot(ws5_gradient)\n",
    "# plt.plot(ws1_gradient-ws5_gradient)\n",
    "\n",
    "# plt.ylim(-0.01, 0.01)"
   ]
  },
  {
   "cell_type": "markdown",
   "id": "89e55b81-fd0e-4c84-8bb1-a72b85975acc",
   "metadata": {},
   "source": [
    "## Plotting"
   ]
  },
  {
   "cell_type": "markdown",
   "id": "d5d27bb4-17bd-494c-bde3-51638e7af076",
   "metadata": {},
   "source": [
    "### CWT"
   ]
  },
  {
   "cell_type": "code",
   "execution_count": null,
   "id": "8c297454-56af-4a7a-8a12-85cd10a5be47",
   "metadata": {
    "tags": []
   },
   "outputs": [],
   "source": [
    "from functions.compute_cwt import __compute_cwt"
   ]
  },
  {
   "cell_type": "code",
   "execution_count": null,
   "id": "08e46383-7b17-44f6-ab7b-357f71e05fc6",
   "metadata": {
    "tags": []
   },
   "outputs": [],
   "source": [
    "def __compute_cwt(times, arr1, tdelta, datalabel=\"dat1\", log=False, period=False, tscale='sec', fmax=None, normalize=True, plot=True):\n",
    "\n",
    "    from pycwt import wct, xwt, Morlet, ar1, significance, cwt\n",
    "    from numpy import std, nanmean, nan, nansum, nanmax, nanmin, nanvar, ones, nan_to_num, polyfit, polyval, array, reshape, nanpercentile\n",
    "    import matplotlib.pyplot as plt\n",
    "    from numpy import sum as npsum\n",
    "\n",
    "    times = array(times, dtype='float64')\n",
    "    arr1 = array(arr1, dtype='float64')\n",
    "\n",
    "    if len(arr1) != len(arr1):\n",
    "        print(\" -> different lenght of arrays!\")\n",
    "        return\n",
    "\n",
    "    def __mask_cone(arr2d, ff, thresholds, fill=nan):\n",
    "        mask = ones(arr2d.shape)\n",
    "        for k in range(arr2d.shape[0]):  ##85\n",
    "            for l in range(arr2d.shape[1]):  ## 1401\n",
    "                 if ff[k] < thresholds[l]:\n",
    "                    mask[k,l] = fill\n",
    "        return mask\n",
    "\n",
    "\n",
    "    ## specify parameters\n",
    "    N = len(arr1)\n",
    "    dt = tdelta\n",
    "    df = 1/dt\n",
    "    significance_threshold = 0.95\n",
    "\n",
    "    ## detrend data\n",
    "    p = polyfit(times - times[0], arr1, 1)\n",
    "    dat_notrend = arr1 - polyval(p, times - times[0])\n",
    "    std = dat_notrend.std()  # Standard deviation\n",
    "    var = std ** 2  # Variance\n",
    "    arr1 = dat_notrend / std  # Normalized dataset\n",
    "\n",
    "    ## create mother wavelet\n",
    "    mother_wavelet = Morlet(6)\n",
    "    s0_set = 2 * dt  # Starting scale\n",
    "    dj_set = 1 / 12  # Twelve sub-octaves per octaves\n",
    "    J_set = int(7 / dj_set)  # Seven powers of two with dj sub-octaves\n",
    "    #print(s0_set, dj_set, J_set)\n",
    "\n",
    "\n",
    "    cwt, scales, ff_cwt, cone_p, fft, fftfreqs = cwt(\n",
    "                                                        arr1,\n",
    "                                                        dt=dt,\n",
    "                                                        dj=dj_set, #0.05,\n",
    "                                                        s0=s0_set, #-1,\n",
    "                                                        J=J_set, #-1,\n",
    "                                                        wavelet=mother_wavelet,  # u'morlet',\n",
    "                                                    )\n",
    "\n",
    "    cone_f = 1/cone_p\n",
    "    print(ff_cwt[0])\n",
    "    pp_cwt = 1/ff_cwt\n",
    "\n",
    "    if tscale == \"min\":\n",
    "        times /= 60\n",
    "        cone_p /= 60\n",
    "        pp_cwt /= 60\n",
    "        unit = \"min\"\n",
    "    elif tscale == \"hour\":\n",
    "        times /= 3600\n",
    "        cone_p /= 3600\n",
    "        pp_cwt /= 3600\n",
    "        unit = \"hour\"\n",
    "    else:\n",
    "        unit = \"s\"\n",
    "\n",
    "    ## building cone\n",
    "    mask_cone = __mask_cone(cwt, ff_cwt, cone_f, fill=nan)\n",
    "\n",
    "\n",
    "    ## get real part\n",
    "    cwt_power = abs(cwt)\n",
    "\n",
    "    ## normalize cross wavelet transform\n",
    "    if normalize:\n",
    "        cwt_power /= nanmax(cwt_power.reshape((1, cwt_power.size))[0])\n",
    "\n",
    "    ## apply masks\n",
    "    # cwt_power_masked = cwt_power * mask_cwt * mask_cone\n",
    "    cwt_power_masked = cwt_power * mask_cone\n",
    "\n",
    "    ## compute global cross wavelet transform power\n",
    "    global_mean_cwt_f = nanmean(cwt_power_masked, axis=1)\n",
    "    global_sum_cwt_f = nansum(cwt_power_masked, axis=1)\n",
    "\n",
    "    # if normalize:\n",
    "    #     global_sum_cwt_f /= max(global_sum_cwt_f)\n",
    "    #     global_mean_cwt_f /= max(global_mean_cwt_f)\n",
    "\n",
    "\n",
    "    ## ____________________________________________________\n",
    "    ## plotting\n",
    "    if plot:\n",
    "\n",
    "        from mpl_toolkits.axes_grid1 import make_axes_locatable\n",
    "\n",
    "        import matplotlib.pyplot as plt\n",
    "        from matplotlib.gridspec import GridSpec\n",
    "\n",
    "        Ncol, Nrow = 4, 3\n",
    "\n",
    "        font = 12\n",
    "\n",
    "        fig = plt.figure(figsize=(15, 8))\n",
    "\n",
    "        gs = GridSpec(Nrow, Ncol, figure=fig)\n",
    "\n",
    "        ax1 = fig.add_subplot(gs[0, :-1])\n",
    "        ax2 = fig.add_subplot(gs[1:, :-1])\n",
    "        ax3 = fig.add_subplot(gs[1:, 3:])\n",
    "\n",
    "        ax1.set_xticklabels([])\n",
    "        ax3.set_yticklabels([])\n",
    "\n",
    "        plt.subplots_adjust(hspace=0.1, wspace=0.1)\n",
    "\n",
    "\n",
    "        ax1.plot(times, arr1, alpha=1, color=\"black\", lw=1, label=datalabel)\n",
    "\n",
    "        ax1.set_xlim(min(times), max(times))\n",
    "        ax1.set_ylabel(\"Amplitude\", fontsize=font)\n",
    "        ax1.legend(loc=1)\n",
    "\n",
    "\n",
    "\n",
    "        if period:\n",
    "            ca2 = ax2.pcolormesh(\n",
    "                                times,\n",
    "                                pp_cwt,\n",
    "                                cwt_power,\n",
    "                                # vmin=min(reshape(cwt_power, cwt_power.size)),\n",
    "                                # vmax=max(reshape(cwt_power, cwt_power.size)),\n",
    "                                vmin=nanpercentile(reshape(cwt_power, cwt_power.size), 2),\n",
    "                                vmax=nanpercentile(reshape(cwt_power, cwt_power.size), 98),\n",
    "                                )\n",
    "\n",
    "            ax3.plot(global_mean_cwt_f, pp_cwt, color=\"black\", label=\"global mean power\")\n",
    "\n",
    "            ax33 = ax3.twiny()\n",
    "            ax33.plot(global_sum_cwt_f, pp_cwt, color=\"darkred\", label=\"global sum power\")\n",
    "\n",
    "        else:\n",
    "            ca2 = ax2.pcolormesh(\n",
    "                                times,\n",
    "                                ff_cwt,\n",
    "                                cwt_power,\n",
    "                                # vmin=min(reshape(cwt_power, cwt_power.size)),\n",
    "                                # vmax=max(reshape(cwt_power, cwt_power.size)),\n",
    "                                vmin=nanpercentile(reshape(cwt_power, cwt_power.size), 2),\n",
    "                                vmax=nanpercentile(reshape(cwt_power, cwt_power.size), 98),\n",
    "                                )\n",
    "\n",
    "\n",
    "            ax3.plot(global_mean_cwt_f, ff_cwt, color=\"black\", label=\"global mean power\")\n",
    "\n",
    "            ax33 = ax3.twiny()\n",
    "            ax33.plot(global_sum_cwt_f, ff_cwt, color=\"darkred\", label=\"global sum power\")\n",
    "\n",
    "        if period:\n",
    "            ax2.plot(times, cone_p, color=\"white\", ls=\"--\")\n",
    "            ax2.fill_between(times, cone_p, max(pp_cwt), color=\"white\", alpha=0.2)\n",
    "            ax2.set_ylabel(f\"Period ({unit})\", fontsize=font)\n",
    "        else:\n",
    "            ax2.plot(times, cone_f, color=\"white\")\n",
    "            ax2.fill_between(times, cone_f, min(ff_cwt), color=\"white\", alpha=0.2)\n",
    "            ax2.set_ylabel(\"Frequency (Hz)\", fontsize=font)\n",
    "            ax3.set_xlabel(\"Frequency (Hz)\", fontsize=font)\n",
    "\n",
    "        # ax3.legend()\n",
    "        ax3.set_xlabel(\"global mean power\", fontsize=font)\n",
    "        ax33.set_xlabel(\"global sum power\", fontsize=font, color=\"darkred\")\n",
    "        ax33.tick_params(axis='x', labelcolor=\"darkred\")\n",
    "        ax2.set_xlabel(f\"Time ({unit})\", fontsize=font)\n",
    "\n",
    "\n",
    "        ## add colorbar\n",
    "        cbar_ax = fig.add_axes([0.73, 0.75, 0.17, 0.08]) #[left, bottom, width, height]\n",
    "        cb = plt.colorbar(ca2, cax=cbar_ax, orientation=\"horizontal\", extend=\"both\")\n",
    "        cb.set_label(\"CWT power\", fontsize=font, color=\"black\")\n",
    "\n",
    "\n",
    "\n",
    "        if fmax:\n",
    "            if period:\n",
    "                ax3.set_xlim(0, 1/(fmax*2))\n",
    "            else:\n",
    "                if fmax*2 <= 1/tdelta/2:\n",
    "                    ax3.set_xlim(0, fmax*2)\n",
    "                    ax2.set_ylim(0, fmax)\n",
    "        else:\n",
    "            if period:\n",
    "                ax2.set_ylim(min(pp_cwt), max(pp_cwt))\n",
    "            else:\n",
    "                ax2.set_ylim(min(ff_cwt), max(ff_cwt))\n",
    "\n",
    "\n",
    "\n",
    "        plt.show();\n",
    "\n",
    "    ## prepare dict for return\n",
    "    out = {}\n",
    "    out['times'] = times\n",
    "    out['frequencies'] = ff_cwt\n",
    "    out['cwt_power'] = cwt_power\n",
    "    out['cone_mask'] = mask_cone\n",
    "    out['global_mean_cwt'] = global_mean_cwt_f\n",
    "    out['global_sum_cwt'] = global_sum_cwt_f\n",
    "\n",
    "\n",
    "    if plot:\n",
    "        out['fig'] = fig\n",
    "\n",
    "    return out"
   ]
  },
  {
   "cell_type": "code",
   "execution_count": null,
   "id": "b629d482-37e6-4719-8450-0ffcb0b5c57e",
   "metadata": {
    "tags": []
   },
   "outputs": [],
   "source": [
    "ttt = np.array(bs.time_sec)\n",
    "arr = np.array(bs.w_s)\n",
    "dt = 60 # seconds\n",
    "\n",
    "out = __compute_cwt(ttt, arr, dt, tscale=\"hour\", datalabel=\"$\\delta$f (Hz)\",\n",
    "                    log=False, period=True, fmax=None, plot=True)\n",
    "\n",
    "out['fig'].savefig(config['path_to_figs']+f\"SagnacFrequency_BS_RU_multiday_Case2_CWT.png\", format=\"png\", dpi=200, bbox_inches='tight')\n"
   ]
  },
  {
   "cell_type": "markdown",
   "id": "e7b2c96a-ca9d-4796-ab17-de427ab3ec11",
   "metadata": {
    "tags": []
   },
   "source": [
    "## FFT"
   ]
  },
  {
   "cell_type": "code",
   "execution_count": null,
   "id": "f12a5f73-ee79-474c-9624-e5177481ae44",
   "metadata": {
    "tags": []
   },
   "outputs": [],
   "source": []
  },
  {
   "cell_type": "code",
   "execution_count": null,
   "id": "fbc565dc-aca8-4c8f-8baf-11ca4d456e3d",
   "metadata": {},
   "outputs": [],
   "source": [
    "def __makeplot():\n",
    "\n",
    "    Nrow, Ncol = 2, 1\n",
    "\n",
    "    font = 12\n",
    "\n",
    "    fig, ax = plt.subplots(Nrow, Ncol, figsize=(15, 8))\n",
    "\n",
    "    ax[0].plot(bs.time_sec/3600, bs.fj_fs, color=\"black\", label=f\"$\\delta$f w/ backscatter\")\n",
    "    ax[0].plot(bs.time_sec/3600, bs.w_s, color=\"tab:red\", label=f\"$\\delta$f w/o backscatter\")\n",
    "\n",
    "    ax[0].ticklabel_format(useOffset=False)\n",
    "\n",
    "    ax[1].semilogx(f1, psd1, color=\"black\", label=f\"$\\delta$f w/ backscatter\")\n",
    "    ax[1].semilogx(f2, psd2, color=\"tab:red\", label=f\"$\\delta$f w/o backscatter\")\n",
    "\n",
    "    for _n in range(Nrow):\n",
    "        ax[_n].grid(ls=\":\", zorder=0)\n",
    "        ax[_n].legend(loc=1, fontsize=font-1)\n",
    "\n",
    "    ax[0].set_ylim(302.41, 302.52)\n",
    "    ax[1].set_ylim(0, max(psd1))\n",
    "\n",
    "    ax[0].set_ylabel(f\"$\\delta$f (Hz)\", fontsize=font)\n",
    "    ax[0].set_xlabel(f\"Time from {config['tbeg'].date} {config['tbeg'].time} UTC (hours)\", fontsize=font)\n",
    "\n",
    "    # ax[1].set_ylabel(\"PSD (Hz$^2$ /Hz)\", fontsize=font)\n",
    "    ax[1].set_ylabel(\"Spectrum (Hz $\\sqrt{Hz}$)\", fontsize=font)\n",
    "    ax[1].set_xlabel(\"Frequency (Hz)\", fontsize=font)\n",
    "\n",
    "    ax[1].axvline(1/(12*3600), ls=\"--\", color=\"grey\", zorder=0)\n",
    "    ax[1].axvline(1/(24*3600), ls=\"--\", color=\"grey\", zorder=0)\n",
    "\n",
    "    plt.show();\n",
    "    return fig\n",
    "\n",
    "fig = __makeplot();\n",
    "\n",
    "# fig.savefig(config['path_to_figs']+f\"SagnacFrequency_BS_RU_multiday_Case2_PSD.png\", format=\"png\", dpi=200, bbox_inches='tight')\n"
   ]
  },
  {
   "cell_type": "markdown",
   "id": "ac0eca15-d0da-418e-bba8-a4c7caa4439b",
   "metadata": {},
   "source": [
    "## Tilt"
   ]
  },
  {
   "cell_type": "code",
   "execution_count": null,
   "id": "5706ca5b-9c57-480d-8714-303c0c07275e",
   "metadata": {
    "tags": []
   },
   "outputs": [],
   "source": [
    "def __reduce(dat, n_samples):\n",
    "    return dat - np.nanmean(dat[:n_samples])"
   ]
  },
  {
   "cell_type": "code",
   "execution_count": null,
   "id": "de6f189d-4a44-41ae-8526-28cfc335a589",
   "metadata": {
    "tags": []
   },
   "outputs": [],
   "source": [
    "def __makeplot():\n",
    "\n",
    "    dat = np.array(bs.w_s)\n",
    "\n",
    "    tr = Trace()\n",
    "    tr.data = dat\n",
    "    tr.stats.delta = 60\n",
    "    tr.stats.starttime = bs.time1[0]\n",
    "\n",
    "    hr1 = 1\n",
    "    tr1 = tr.copy()\n",
    "    tr1 = tr1.detrend(\"demean\")\n",
    "    tr1 = tr1.taper(0.01)\n",
    "    tr1 = tr1.filter(\"lowpass\", freq=1/(hr1*3600), corners=2, zerophase=True)\n",
    "\n",
    "    hr2 = 24\n",
    "    tr2 = tr.copy()\n",
    "    tr2.data = __sagnac_to_tilt(__interpolate_nan(dat), \"U\")\n",
    "    tr2 = tr2.detrend(\"simple\")\n",
    "    tr2 = tr2.taper(0.01)\n",
    "    tr2 = tr2.filter(\"lowpass\", freq=1/(hr2*3600), corners=2, zerophase=True)\n",
    "\n",
    "    scaling_factor = 0.01\n",
    "\n",
    "    Nrow, Ncol = 2, 1\n",
    "\n",
    "    font = 12\n",
    "\n",
    "    tilt_scaling = 1e6\n",
    "    time_scaling = 1\n",
    "\n",
    "    ref_time = config['tbeg']\n",
    "\n",
    "    fig, ax = plt.subplots(Nrow, Ncol, figsize=(15, 8), sharex=True)\n",
    "\n",
    "    plt.subplots_adjust(hspace=0.1)\n",
    "\n",
    "    ax[0].plot(bs.time_sec*time_scaling, bs.fj_fs_inter, color=\"grey\", alpha=0.5, label=f\"$\\Delta$f w/ backscatter\")\n",
    "    ax[0].plot(bs.time_sec*time_scaling, bs.fj_fs_smooth, color=\"black\", label=f\"$\\Delta$f w/ backscatter (smoothed)\")\n",
    "    # ax[0].plot(bs.time_sec*time_scaling, tr1.data*1e3, color=\"black\", label=f\"$\\Delta$f w/o backscatter (lp < {hr1} hour)\")\n",
    "    ax[0].set_ylim(302.41, 302.52)\n",
    "    ax[0].ticklabel_format(useOffset=False)\n",
    "\n",
    "\n",
    "    # ax[1].plot(bs.time_sec*time_scaling,\n",
    "    #            tr2.data*tilt_scaling*scaling_factor,\n",
    "    #            ls=\"--\", color=\"k\", label=f\"{scaling_factor}* N-S tilt by $\\Delta$f (lp < {hr2} hour)\",\n",
    "    #            zorder=2,\n",
    "    #           )\n",
    "\n",
    "    tromy_tilt = tromy.select(channel=\"*N\")[0].data\n",
    "    ax[1].plot(tromy.select(channel=\"*N\")[0].times(reftime=ref_time)*time_scaling,\n",
    "               __reduce(__smooth(tromy_tilt, 600), 600)*tilt_scaling,\n",
    "               color=\"tab:orange\", label=f\"N-S tilt\",\n",
    "               zorder=2,\n",
    "              )\n",
    "\n",
    "    tromy_tilt = tromy.select(channel=\"*E\")[0].data\n",
    "    ax[1].plot(tromy.select(channel=\"*E\")[0].times(reftime=ref_time)*time_scaling,\n",
    "               __reduce(__smooth(tromy_tilt, 600), 600)*tilt_scaling,\n",
    "               color=\"tab:purple\", label=f\"E-W tilt\",\n",
    "               zorder=2,\n",
    "              )\n",
    "\n",
    "    ax11 = ax[1].twinx()\n",
    "    ax11.fill_between(rain[0].times(reftime=ref_time)*time_scaling, rain_smooth, alpha=0.6, zorder=1)\n",
    "    ax11.set_ylim(bottom=0)\n",
    "    ax11.set_yticks(np.linspace(ax11.get_yticks()[0], ax11.get_yticks()[-1], len(ax[1].get_yticks())))\n",
    "    ax11.tick_params(axis=\"y\", colors=\"tab:blue\")\n",
    "    ax11.set_ylabel(\"Cumulative Rain (mm/hour)\", fontsize=font, color=\"tab:blue\")\n",
    "\n",
    "    ax12 = ax[1].twinx()\n",
    "    p12 = ax12.plot(tromy.select(channel=\"*T\")[0].times(reftime=ref_time)*time_scaling,\n",
    "                    tromy.select(channel=\"*T\")[0].data, alpha=0.6, zorder=1, color=\"darkred\", ls=\"--\")\n",
    "\n",
    "    # ax12.set_ylim(bottom=0)\n",
    "    # ax12.set_yticks(np.linspace(ax11.get_yticks()[0], ax11.get_yticks()[-1], len(ax[1].get_yticks())))\n",
    "    # ax12.tick_params(axis=\"y\", colors=\"tab:blue\")\n",
    "    ax12.set_ylabel(\"Temperature (°C)\", fontsize=font, color=\"darkred\")\n",
    "    ax12.tick_params(axis='y', colors=\"darkred\")\n",
    "    ax12.spines.right.set_position((\"axes\", 1.10))\n",
    "\n",
    "    for _n in range(Nrow):\n",
    "        ax[_n].grid(ls=\":\", zorder=0)\n",
    "\n",
    "    ax[0].legend(loc=1, fontsize=font-1)\n",
    "    ax[1].legend(loc=1, fontsize=font-1, ncol=1)\n",
    "\n",
    "    ax[0].set_ylabel(f\"$\\Delta$f (mHz)\", fontsize=font)\n",
    "\n",
    "    ax[1].set_ylabel(\"Tilt ($\\mu$rad)\", fontsize=font)\n",
    "    ax[1].set_xlabel(f\"Time (days) from {config['tbeg'].date} {config['tbeg'].time} UTC\", fontsize=font)\n",
    "\n",
    "    ## add dates to x-axis\n",
    "    ref_date = UTCDateTime(config['tbeg'])\n",
    "    tcks = ax[Nrow-1].get_xticks()\n",
    "    tcklbls = [str(UTCDateTime(ref_date+t).date) for t in tcks]\n",
    "    ax[Nrow-1].set_xticklabels(tcklbls)\n",
    "\n",
    "    plt.show();\n",
    "    gc.collect();\n",
    "    return fig\n",
    "\n",
    "\n",
    "fig = __makeplot();\n",
    "\n",
    "fig.savefig(config['path_to_figs']+f\"SagnacFrequency_BS_RU_multiday_Case3_Tilt_Rain_example.png\", format=\"png\", dpi=150, bbox_inches='tight')\n"
   ]
  },
  {
   "cell_type": "code",
   "execution_count": null,
   "id": "ffb48956-aae4-4cba-8654-e9622ec5a985",
   "metadata": {
    "tags": []
   },
   "outputs": [],
   "source": []
  },
  {
   "cell_type": "code",
   "execution_count": null,
   "id": "66ebe573-7302-407e-a22f-36e2e7e89736",
   "metadata": {
    "tags": []
   },
   "outputs": [],
   "source": []
  },
  {
   "cell_type": "code",
   "execution_count": null,
   "id": "67fc2433-bc66-4c22-8918-500e1e1c8f9a",
   "metadata": {
    "tags": []
   },
   "outputs": [],
   "source": [
    "def __makeplot():\n",
    "\n",
    "\n",
    "    f11 = 1/(14*3600)\n",
    "    f12 = 1/(10*3600)\n",
    "\n",
    "    f21 = 1/(26*3600)\n",
    "    f22 = 1/(22*3600)\n",
    "\n",
    "    detrend=\"demean\"\n",
    "    taper = 0.1\n",
    "    corners = 4\n",
    "\n",
    "    tr = Trace()\n",
    "    tr.data = __sagnac_to_tilt(np.array(bs.fj_fs_inter), \"U\")\n",
    "    tr.stats.delta = 60\n",
    "    tr.stats.starttime = bs.time1[0]\n",
    "\n",
    "    tr1 = tr.copy()\n",
    "    tr1 = tr1.detrend(detrend).detrend(\"simple\")\n",
    "    tr1 = tr1.taper(taper)\n",
    "    tr1 = tr1.filter(\"bandpass\", freqmin=f11, freqmax=f12, corners=corners, zerophase=True)\n",
    "\n",
    "    tr2 = tr.copy()\n",
    "    tr2 = tr2.detrend(detrend).detrend(\"simple\")\n",
    "    tr2 = tr2.taper(taper)\n",
    "    tr2 = tr2.filter(\"bandpass\", freqmin=f21, freqmax=f22, corners=corners, zerophase=True)\n",
    "\n",
    "\n",
    "    tromy1 = tromy.select(channel=\"*N\").copy();\n",
    "    tromy1 = tromy1.split()\n",
    "    tromy1 = tromy1.detrend(detrend).detrend(\"simple\")\n",
    "    tromy1 = tromy1.taper(taper)\n",
    "    tromy1 = tromy1.filter(\"bandpass\", freqmin=f11, freqmax=f12, corners=corners, zerophase=True)\n",
    "    tromy1 = tromy1.merge()\n",
    "\n",
    "\n",
    "    tromy2 = tromy.select(channel=\"*N\").copy();\n",
    "    tromy2 = tromy2.split()\n",
    "    tromy2 = tromy2.detrend(detrend).detrend(\"simple\")\n",
    "    tromy2 = tromy2.taper(taper)\n",
    "    tromy2 = tromy2.filter(\"bandpass\", freqmin=f21, freqmax=f22, corners=corners, zerophase=True)\n",
    "    tromy2 = tromy2.merge()\n",
    "\n",
    "\n",
    "    Nrow, Ncol = 2, 1\n",
    "\n",
    "    font = 12\n",
    "\n",
    "    scaling = 1e9\n",
    "\n",
    "    ref_time = config['tbeg']\n",
    "\n",
    "    fig, ax = plt.subplots(Nrow, Ncol, figsize=(15, 8), sharex=True)\n",
    "\n",
    "    plt.subplots_adjust(hspace=0.1)\n",
    "\n",
    "    ax[0].plot(tromy1[0].times(reftime=ref_time), -tromy1[0].data*scaling, color=\"black\", label=\"-1* N-S Tilt\")\n",
    "    ax[1].plot(tromy2[0].times(reftime=ref_time), -tromy2[0].data*scaling, color=\"black\", label=\"-1* N-S Tilt\")\n",
    "\n",
    "    ax0 = ax[0].twinx()\n",
    "    ax0.plot(tr1.times(reftime=ref_time), tr1.data*scaling, color=\"darkred\", label=\"$\\Delta $f  to Tilt\")\n",
    "\n",
    "    ax1 = ax[1].twinx()\n",
    "    ax1.plot(tr2.times(reftime=ref_time), tr2.data*scaling, color=\"darkred\", label=\"$\\Delta $f  to Tilt\")\n",
    "\n",
    "    ax[0].set_ylabel(\"Tilt (nrad)\", fontsize=font)\n",
    "    ax[1].set_ylabel(\"Tilt (nrad)\", fontsize=font)\n",
    "    # ax[1].set_xlabel(f\"Time (days) from {config['tbeg'].date} {config['tbeg'].time} UTC\", fontsize=font)\n",
    "\n",
    "    ax0.set_ylabel(\"Tilt (nrad)\", fontsize=font, color=\"darkred\")\n",
    "    ax1.set_ylabel(\"Tilt (nrad)\", fontsize=font, color=\"darkred\")\n",
    "\n",
    "    for _n in range(Nrow):\n",
    "        ax[_n].grid(ls=\":\", zorder=0)\n",
    "        ax[_n].legend(loc=1)\n",
    "\n",
    "    ax0.legend(loc=4)\n",
    "    ax1.legend(loc=4)\n",
    "\n",
    "    ax[0].text(.01, .97, '(a) 11-13 h', ha='left', va='top', transform=ax[0].transAxes, fontsize=font+2)\n",
    "    ax[1].text(.01, .97, '(b) 23-25 h', ha='left', va='top', transform=ax[1].transAxes, fontsize=font+2)\n",
    "\n",
    "    ax[0].set_ylim(-40, 40)\n",
    "    ax[1].set_ylim(-15, 15)\n",
    "\n",
    "    ax0.tick_params(axis='y', colors='darkred')\n",
    "    ax0.set_yticks(np.linspace(ax0.get_yticks()[0], ax0.get_yticks()[-1], len(ax[0].get_yticks())))\n",
    "\n",
    "    ax1.tick_params(axis='y', colors='darkred')\n",
    "    ax1.set_yticks(np.linspace(ax1.get_yticks()[0], ax1.get_yticks()[-1], len(ax[1].get_yticks())))\n",
    "\n",
    "    ## add dates to x-axis\n",
    "    ref_date = UTCDateTime(config['tbeg'])\n",
    "    tcks = ax[Nrow-1].get_xticks()\n",
    "    tcklbls = [str(UTCDateTime(ref_date+t).date) for t in tcks]\n",
    "    ax[Nrow-1].set_xticklabels(tcklbls)\n",
    "\n",
    "    plt.show();\n",
    "    return fig\n",
    "\n",
    "fig = __makeplot();\n",
    "\n",
    "fig.savefig(config['path_to_figs']+f\"SagnacFrequency_BS_RU_multiday_Case3_Tilt_Tides.png\", format=\"png\", dpi=150, bbox_inches='tight')\n"
   ]
  },
  {
   "cell_type": "markdown",
   "id": "16170036-ee2b-4d00-ad3e-966f87f99cb8",
   "metadata": {},
   "source": [
    "## Testing"
   ]
  },
  {
   "cell_type": "code",
   "execution_count": null,
   "id": "960861ba-3e4d-429c-b970-f86680736ae3",
   "metadata": {
    "tags": []
   },
   "outputs": [],
   "source": [
    "dat = __to_tilt(np.array(bs.w_s))\n",
    "\n",
    "f1 = 1/(13*3600)\n",
    "f2 = 1/(11*3600)\n",
    "\n",
    "f1 = 1/(25*3600)\n",
    "f2 = 1/(23*3600)\n",
    "\n",
    "\n",
    "print(f1, f2)\n",
    "\n",
    "tr = Trace()\n",
    "tr.data = dat\n",
    "tr.stats.delta = 60\n",
    "tr.stats.starttime = bs.time1[0]\n",
    "tr.plot();\n",
    "print(tr)\n",
    "\n",
    "tr.plot();\n",
    "\n",
    "tr = tr.detrend(\"demean\").detrend(\"linear\")\n",
    "tr.plot();\n",
    "\n",
    "tr = tr.taper(0.1)\n",
    "tr.plot();\n",
    "\n",
    "# tr.filter(\"lowpass\", freq=f2, corners=2, zerophase=True)\n",
    "tr = tr.filter(\"bandpass\", freqmin=f1, freqmax=f2, corners=2, zerophase=True)\n",
    "tr.plot();\n",
    "\n",
    "fs_tilt_lp = tr.data"
   ]
  },
  {
   "cell_type": "code",
   "execution_count": null,
   "id": "d01634ec-1700-4cb5-8e48-f01892f531aa",
   "metadata": {},
   "outputs": [],
   "source": []
  },
  {
   "cell_type": "code",
   "execution_count": null,
   "id": "47ac6619-25d1-4ea1-a491-8ad68f091046",
   "metadata": {
    "tags": []
   },
   "outputs": [],
   "source": []
  },
  {
   "cell_type": "code",
   "execution_count": null,
   "id": "805ef940-4031-4e68-ace5-5705fa2195a1",
   "metadata": {
    "tags": []
   },
   "outputs": [],
   "source": [
    "def __makeplot():\n",
    "\n",
    "    Nrow, Ncol = 1, 1\n",
    "\n",
    "    font = 14\n",
    "\n",
    "    fig, ax = plt.subplots(Nrow, Ncol, figsize=(15, 8))\n",
    "\n",
    "    ax.plot(bs.time_sec/3600, bs.w_s, color=\"black\", zorder=4, label=f\"$\\delta$f w/o backscatter\")\n",
    "\n",
    "    ax.ticklabel_format(useOffset=False)\n",
    "\n",
    "    ax00 = ax.twinx()\n",
    "\n",
    "    p2, = ax00.plot(bromy2[0].times()/3600, bromy2[0].data, color=\"tab:blue\", label=f\"\", zorder=2)\n",
    "    ax00.set_ylim(13.31, 13.325)\n",
    "\n",
    "    # p2, = ax00.plot(bromy2[0].times()/3600, temp_gradient, color=\"tab:blue\", label=f\"\", zorder=2)\n",
    "    # ax00.set_ylim(-0.001, 0.001)\n",
    "\n",
    "    # p2, = ax00.plot(ws1.select(channel=\"*T\")[0].times()/3600, ws1_gradient, color=\"tab:blue\", label=f\"\", zorder=2)\n",
    "    # ax00.set_ylim(-0.01, 0.01)\n",
    "\n",
    "    ax00.set_ylabel(\"Temperature Change (°C/s)\", fontsize=font, color=p2.get_color())\n",
    "    ax00.tick_params(axis='y', colors=p2.get_color())\n",
    "\n",
    "    ax.grid(ls=\":\", zorder=1)\n",
    "    ax.legend(loc=1, fontsize=font-1)\n",
    "\n",
    "    # ax.set_ylim(302.97, 303.07)\n",
    "\n",
    "\n",
    "    # ax.set_xlim(0, 108)\n",
    "    # ax.set_xlim(30, 70)\n",
    "\n",
    "    ax.set_ylabel(f\"$\\delta$f (Hz)\", fontsize=font)\n",
    "    ax.set_xlabel(f\"Time from {config['tbeg'].date} {config['big-pumptbeg'].time} UTC (hours)\", fontsize=font)\n",
    "\n",
    "    plt.show();\n",
    "    return fig\n",
    "\n",
    "# fig = __makeplot();\n",
    "\n",
    "# fig.savefig(config['path_to_figs']+f\"SagnacFrequency_BS_RU_multiday_TemperatureChange_zoomin.png\", format=\"png\", dpi=200, bbox_inches='tight')\n"
   ]
  },
  {
   "cell_type": "code",
   "execution_count": null,
   "id": "77c00ab5-07ef-4468-b095-88a3956dce4d",
   "metadata": {},
   "outputs": [],
   "source": []
  },
  {
   "cell_type": "code",
   "execution_count": null,
   "id": "454248b2-aaa3-48e1-bb5b-d81d60863ef9",
   "metadata": {},
   "outputs": [],
   "source": []
  }
 ],
 "metadata": {
  "kernelspec": {
   "display_name": "Python 3 (ipykernel)",
   "language": "python",
   "name": "python3"
  },
  "language_info": {
   "codemirror_mode": {
    "name": "ipython",
    "version": 3
   },
   "file_extension": ".py",
   "mimetype": "text/x-python",
   "name": "python",
   "nbconvert_exporter": "python",
   "pygments_lexer": "ipython3",
   "version": "3.10.12"
  },
  "latex_envs": {
   "LaTeX_envs_menu_present": true,
   "autoclose": false,
   "autocomplete": true,
   "bibliofile": "biblio.bib",
   "cite_by": "apalike",
   "current_citInitial": 1,
   "eqLabelWithNumbers": true,
   "eqNumInitial": 1,
   "hotkeys": {
    "equation": "Ctrl-E",
    "itemize": "Ctrl-I"
   },
   "labels_anchors": false,
   "latex_user_defs": false,
   "report_style_numbering": false,
   "user_envs_cfg": false
  },
  "toc": {
   "base_numbering": 1,
   "nav_menu": {},
   "number_sections": true,
   "sideBar": true,
   "skip_h1_title": false,
   "title_cell": "Table of Contents",
   "title_sidebar": "Contents",
   "toc_cell": false,
   "toc_position": {},
   "toc_section_display": true,
   "toc_window_display": false
  },
  "varInspector": {
   "cols": {
    "lenName": 16,
    "lenType": 16,
    "lenVar": 40
   },
   "kernels_config": {
    "python": {
     "delete_cmd_postfix": "",
     "delete_cmd_prefix": "del ",
     "library": "var_list.py",
     "varRefreshCmd": "print(var_dic_list())"
    },
    "r": {
     "delete_cmd_postfix": ") ",
     "delete_cmd_prefix": "rm(",
     "library": "var_list.r",
     "varRefreshCmd": "cat(var_dic_list()) "
    }
   },
   "types_to_exclude": [
    "module",
    "function",
    "builtin_function_or_method",
    "instance",
    "_Feature"
   ],
   "window_display": false
  }
 },
 "nbformat": 4,
 "nbformat_minor": 5
}
