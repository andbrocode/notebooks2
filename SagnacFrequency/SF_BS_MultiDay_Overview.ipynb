{
 "cells": [
  {
   "cell_type": "markdown",
   "id": "22f5c8c9",
   "metadata": {
    "ExecuteTime": {
     "end_time": "2022-10-28T13:00:52.763484Z",
     "start_time": "2022-10-28T13:00:52.761516Z"
    }
   },
   "source": [
    "## Sagnac Frequency - Backscatter Correction - Overview"
   ]
  },
  {
   "cell_type": "markdown",
   "id": "185b1a0b",
   "metadata": {},
   "source": [
    "## Imports"
   ]
  },
  {
   "cell_type": "code",
   "execution_count": null,
   "id": "818caf4c",
   "metadata": {
    "ExecuteTime": {
     "end_time": "2023-06-27T08:11:10.277643Z",
     "start_time": "2023-06-27T08:11:08.781535Z"
    },
    "tags": []
   },
   "outputs": [],
   "source": [
    "import os\n",
    "import gc\n",
    "import matplotlib.pyplot as plt\n",
    "import numpy as np\n",
    "\n",
    "from datetime import datetime, date\n",
    "from pandas import DataFrame, read_pickle, date_range, concat, read_csv\n",
    "from obspy import UTCDateTime, read, Trace, Stream\n",
    "from scipy.signal import hilbert\n",
    "\n",
    "from functions.get_fft import __get_fft\n",
    "from functions.multitaper_psd import __multitaper_psd\n",
    "from functions.welch_psd import __welch_psd\n",
    "from functions.compute_cwt import __compute_cwt\n",
    "\n",
    "from andbro__read_sds import __read_sds\n",
    "from andbro__readYaml import __readYaml"
   ]
  },
  {
   "cell_type": "code",
   "execution_count": null,
   "id": "b83c9987",
   "metadata": {
    "ExecuteTime": {
     "end_time": "2023-06-27T08:11:10.288084Z",
     "start_time": "2023-06-27T08:11:10.284752Z"
    },
    "tags": []
   },
   "outputs": [],
   "source": [
    "if os.uname().nodename == 'lighthouse':\n",
    "    root_path = '/home/andbro/'\n",
    "    data_path = '/home/andbro/kilauea-data/'\n",
    "    archive_path = '/home/andbro/freenas/'\n",
    "    bay_path = '/home/andbro/bay200/'\n",
    "elif os.uname().nodename == 'kilauea':\n",
    "    root_path = '/home/brotzer/'\n",
    "    data_path = '/import/kilauea-data/'\n",
    "    archive_path = '/import/freenas-ffb-01-data/'\n",
    "    bay_path = '/bay200/'\n",
    "elif os.uname().nodename == 'lin-ffb-01':\n",
    "    root_path = '/home/brotzer/'\n",
    "    data_path = '/import/kilauea-data/'\n",
    "    archive_path = '/import/freenas-ffb-01-data/'\n",
    "    bay_path = '/bay200/'"
   ]
  },
  {
   "cell_type": "code",
   "execution_count": null,
   "id": "215111e6-1d0a-41fd-944b-9d818ffad22c",
   "metadata": {
    "tags": []
   },
   "outputs": [],
   "source": [
    "from functions.reduce import __reduce\n",
    "from functions.multitaper_coherence import __multitaper_coherence\n",
    "from functions.cross_correlation_windows import __cross_correlation_windows\n",
    "from functions.cc_lag_matrix import __cc_lag_matrix\n",
    "# from functions.load_backscatter_data import __load_backscatter_data"
   ]
  },
  {
   "cell_type": "markdown",
   "id": "ec2578ab",
   "metadata": {},
   "source": [
    "## Configurations"
   ]
  },
  {
   "cell_type": "code",
   "execution_count": null,
   "id": "ba83e3e7",
   "metadata": {
    "ExecuteTime": {
     "end_time": "2023-06-27T08:11:13.008382Z",
     "start_time": "2023-06-27T08:11:13.002517Z"
    },
    "tags": []
   },
   "outputs": [],
   "source": [
    "config = {}\n",
    "\n",
    "config['ring'] = \"U\"\n",
    "\n",
    "config['seed'] = \"BW.DROMY..FJU\"\n",
    "\n",
    "config['path_to_sds'] = archive_path+\"romy_archive/\"\n",
    "\n",
    "case = 10\n",
    "# config['tbeg'] = UTCDateTime(\"2023-12-05 00:00\")\n",
    "# config['tend'] = UTCDateTime(\"2023-12-16 00:00\")\n",
    "\n",
    "config['tbeg'] = UTCDateTime(\"2023-12-08 00:00\")\n",
    "config['tend'] = UTCDateTime(\"2023-12-15 00:00\")\n",
    "flim1, flim2 = 302.425, 302.485\n",
    "\n",
    "## note air ventilation on from 27-12-2023 !!!\n",
    "# case = 11\n",
    "# config['tbeg'] = UTCDateTime(\"2023-12-24 00:00\")\n",
    "# config['tend'] = UTCDateTime(\"2023-12-31 00:00\")\n",
    "\n",
    "# case = 12\n",
    "# config['tbeg'] = UTCDateTime(\"2024-01-06 00:00\")\n",
    "# config['tend'] = UTCDateTime(\"2024-01-26 00:00\")\n",
    "# flim1, flim2 = 302.375, 302.475\n",
    "\n",
    "# case = 13\n",
    "# config['tbeg'] = UTCDateTime(\"2024-02-08 07:00\")\n",
    "# config['tend'] = UTCDateTime(\"2024-02-13 05:00\")\n",
    "# flim1, flim2 = 302.395, 302.45\n",
    "\n",
    "# case = 14\n",
    "# config['tbeg'] = UTCDateTime(\"2024-02-15 18:00\")\n",
    "# config['tend'] = UTCDateTime(\"2024-02-18 16:00\")\n",
    "# flim1, flim2 = 302.395, 302.45\n",
    "\n",
    "# case = 16\n",
    "# config['tbeg'] = UTCDateTime(\"2024-02-24 00:00\")\n",
    "# config['tend'] = UTCDateTime(\"2024-03-18 00:00\")\n",
    "# flim1, flim2 = 302.40, 302.47\n",
    "\n",
    "case = 17\n",
    "config['tbeg'] = UTCDateTime(\"2024-03-01 00:00\")\n",
    "config['tend'] = UTCDateTime(\"2024-03-20 00:00\")\n",
    "flim1, flim2 = 302.40, 302.47\n",
    "\n",
    "## path to Sagnac data\n",
    "config['path_to_autodata'] = archive_path+f\"romy_autodata/\"\n",
    "\n",
    "config['path_to_data'] = data_path+\"sagnac_frequency/data/backscatter/\"\n",
    "\n",
    "config['path_to_figs'] = data_path+\"sagnac_frequency/figures/\""
   ]
  },
  {
   "cell_type": "markdown",
   "id": "12ef7747-2cb6-4561-bfe3-ccd226aae9dc",
   "metadata": {
    "tags": []
   },
   "source": [
    "## Configurations"
   ]
  },
  {
   "cell_type": "code",
   "execution_count": null,
   "id": "51931b63-c210-4304-a04d-9e27ee1a3bb5",
   "metadata": {
    "tags": []
   },
   "outputs": [],
   "source": [
    "def __load_backscatter_data(tbeg, tend, ring, path_to_data):\n",
    "\n",
    "    from os.path import isfile\n",
    "    from obspy import UTCDateTime\n",
    "    from datetime import date\n",
    "    from pandas import read_pickle, concat, DataFrame, date_range\n",
    "\n",
    "    t1 = date.fromisoformat(str(UTCDateTime(tbeg).date))\n",
    "    t2 = date.fromisoformat(str((UTCDateTime(tend)+86400).date))\n",
    "\n",
    "    df = DataFrame()\n",
    "    for dat in date_range(t1, t2):\n",
    "        # print(dat)\n",
    "        dat_str = str(dat)[:10].replace(\"-\", \"\")\n",
    "        file = f\"FJ{ring}_{dat_str}_backscatter.pkl\"\n",
    "\n",
    "        if not isfile(path_to_data+file):\n",
    "            _path = data_path+\"sagnac_frequency/data/\"\n",
    "\n",
    "            out = DataFrame()\n",
    "            for m in range(24):\n",
    "                hour = str(m).rjust(2, '0')+\":00:00\"\n",
    "                filename = f\"FJU_{dat_str}_{hour}_backscatter.pkl\"\n",
    "                try:\n",
    "                    _df = read_pickle(_path+filename)\n",
    "                    out = concat([out, _df])\n",
    "                except:\n",
    "                    print(f\" -> failed: {_path}{filename}\")\n",
    "                    continue\n",
    "\n",
    "            if not out.empty:\n",
    "                print(f\" -> write to: {_path}backscatter/FJU_{dat_str}_backscatter.pkl\")\n",
    "                out.to_pickle(f\"{_path}backscatter/FJU_{dat_str}_backscatter.pkl\")\n",
    "            else:\n",
    "                continue\n",
    "\n",
    "        try:\n",
    "            df0 = read_pickle(path_to_data+file)\n",
    "            df = concat([df, df0])\n",
    "        except:\n",
    "            print(f\"error for {file}\")\n",
    "\n",
    "    ## trim to time interval\n",
    "    df = df[df.time1 >= tbeg]\n",
    "    df = df[df.time2 <= tend]\n",
    "\n",
    "    df.reset_index(inplace=True)\n",
    "\n",
    "    return df"
   ]
  },
  {
   "cell_type": "code",
   "execution_count": null,
   "id": "5d8a5d06-0406-40f2-865b-93ad62f11e51",
   "metadata": {
    "tags": []
   },
   "outputs": [],
   "source": [
    "bs = __load_backscatter_data(config['tbeg'], config['tend'], config['ring'], config['path_to_data'])\n",
    "\n",
    "\n",
    "# apply backscatter correction\n",
    "# bs['fj_bs'] = bs.fj_fs * bs.term\n",
    "\n",
    "# add seconds\n",
    "bs['time_sec'] = bs.time2 - bs.time1 + (bs.time1 - bs.time1.loc[0])"
   ]
  },
  {
   "cell_type": "code",
   "execution_count": null,
   "id": "6e119dd5-4d4c-41f1-90fe-2159ce999e98",
   "metadata": {
    "tags": []
   },
   "outputs": [],
   "source": [
    "def __backscatter_correction(m01, m02, phase0, w_obs, nominal_sagnac, cm_filter_factor=1.033):\n",
    "\n",
    "    ## Correct for bias\n",
    "    m1 = m01 * ( 1 + m01**2 / 4 )\n",
    "    m2 = m02 * ( 1 + m02**2 / 4 )\n",
    "\n",
    "    ## angular correction for phase\n",
    "    phase = phase0 + 0.5 * m1 * m2 * np.sin( phase0 )\n",
    "\n",
    "    ## compute squares of common-mode modulations\n",
    "    m2c = ( m1**2 + m2**2 + 2*m1*m2*np.cos( phase ) ) / 4\n",
    "\n",
    "    ## compute squares of differential-mode modulations\n",
    "    m2d = ( m1**2 + m2**2 - 2*m1*m2*np.cos( phase ) ) / 4  ## different angle!\n",
    "\n",
    "    ## correct m2c for gain saturation of a HeNe laser\n",
    "    # m2c = m2c * ( 1 + ( beta + theta )**2 * fL**2 * I0**2 / ws**2 )\n",
    "    m2c = m2c * cm_filter_factor\n",
    "\n",
    "    ## compute backscatter correction factor\n",
    "    M = m2c - m2d + 0.25 * m1**2 * m2**2 * np.sin(phase)**2\n",
    "\n",
    "    ## correction term\n",
    "    term = ( 4 + M ) / ( 4 - M )\n",
    "\n",
    "    ## backscatter correction\n",
    "    # BScorrection = -1 * ( term - 1 ) * nominal_sagnac\n",
    "    # w_corrected = np.array(w_obs) + BScorrection\n",
    "\n",
    "    w_corrected = np.array(w_obs) * term\n",
    "\n",
    "    return w_corrected"
   ]
  },
  {
   "cell_type": "code",
   "execution_count": null,
   "id": "19b7c9a8-b8e5-48a4-86ba-e2c211b65515",
   "metadata": {
    "tags": []
   },
   "outputs": [],
   "source": [
    "# unwrap phases as one time series\n",
    "bs['fj_ph'] = np.unwrap(bs.fj_ph)\n",
    "bs['f1_ph'] = np.unwrap(bs.f1_ph)\n",
    "bs['f2_ph'] = np.unwrap(bs.f2_ph)\n",
    "\n",
    "# fractional beat modulations\n",
    "m01 = bs.f1_ac / bs.f1_dc\n",
    "m02 = bs.f2_ac / bs.f2_dc\n",
    "\n",
    "# phase difference\n",
    "ph1 = bs.f1_ph\n",
    "ph2 = bs.f2_ph\n",
    "phase0 = ph2 - ph1\n",
    "\n",
    "# beat signal observed\n",
    "w_obs = bs.fj_fs\n",
    "\n",
    "# compute backscatter corrected signal\n",
    "bs['fj_bs'] = __backscatter_correction(m01, m02, phase0, w_obs, 303.05, cm_filter_factor=1.033)"
   ]
  },
  {
   "cell_type": "markdown",
   "id": "c5b9e835-f58a-4241-ba3f-ec5427ffa35c",
   "metadata": {},
   "source": [
    "### Cut corrupt data periods"
   ]
  },
  {
   "cell_type": "code",
   "execution_count": null,
   "id": "7f016660-577e-42a4-907d-9a7190a147e2",
   "metadata": {
    "tags": []
   },
   "outputs": [],
   "source": [
    "# times = [(\"2023-12-04T09:11\", \"2023-12-04T18:01\")]\n",
    "\n",
    "# for t1, t2 in times:\n",
    "#     # bs['fj_fs'] = np.where((bs.time1 > t1) & (bs.time1 < t2), np.nan, bs.fj_fs)\n",
    "#     # bs['w_s'] = np.where((bs.time1 > t1) & (bs.time1 < t2), np.nan, bs.w_s)\n",
    "#     bs['fj_fs'] = np.where((bs.time1 > t1) & (bs.time1 < t2), np.nan, bs.fj_fs)\n",
    "#     bs['fj_bs'] = np.where((bs.time1 > t1) & (bs.time1 < t2), np.nan, bs.w_s)\n",
    "\n",
    "\n",
    "# bs['fj_fs'] = np.nan_to_num(bs['fj_fs'], nan=np.nanmedian(bs['fj_fs']))\n",
    "# bs['fj_bs'] = np.nan_to_num(bs['fj_bs'], nan=np.nanmedian(bs['fj_bs']))"
   ]
  },
  {
   "cell_type": "code",
   "execution_count": null,
   "id": "5d07a94d-79ed-4f72-ae54-2b345a645eaa",
   "metadata": {
    "tags": []
   },
   "outputs": [],
   "source": [
    "plt.figure(figsize=(15, 5))\n",
    "plt.plot(bs.time_sec/86400, bs.fj_fs)\n",
    "plt.ylim(flim1, flim2)"
   ]
  },
  {
   "cell_type": "markdown",
   "id": "49223a27-6a82-4457-953b-13956367ca1d",
   "metadata": {},
   "source": [
    "### Load Maintenance Log"
   ]
  },
  {
   "cell_type": "code",
   "execution_count": null,
   "id": "46d8e4a4-f7fe-4d38-9af7-5292d8116e39",
   "metadata": {
    "tags": []
   },
   "outputs": [],
   "source": [
    "from functions.load_lxx import __load_lxx\n",
    "\n",
    "lxx =__load_lxx(config['tbeg'], config['tend'], archive_path)"
   ]
  },
  {
   "cell_type": "code",
   "execution_count": null,
   "id": "b6304bf0-385f-4803-a449-8bda2c16013f",
   "metadata": {
    "tags": []
   },
   "outputs": [],
   "source": [
    "from functions.get_lxx_intervals import __get_lxx_intervals\n",
    "\n",
    "lxx_t1, lxx_t2 = __get_lxx_intervals(lxx.datetime)"
   ]
  },
  {
   "cell_type": "markdown",
   "id": "9e6ad651-2e37-4b71-a929-c8a90fa48b2a",
   "metadata": {},
   "source": [
    "### Load MLTI Log"
   ]
  },
  {
   "cell_type": "code",
   "execution_count": null,
   "id": "a110303c-2c40-4558-a12a-c7dd99b09d6a",
   "metadata": {
    "tags": []
   },
   "outputs": [],
   "source": [
    "from functions.load_mlti import __load_mlti\n",
    "\n",
    "mltiU = __load_mlti(config['tbeg'], config['tend'], \"U\", archive_path)"
   ]
  },
  {
   "cell_type": "code",
   "execution_count": null,
   "id": "3073c5f9-f439-4b8b-a9f5-6702bfbd492c",
   "metadata": {
    "tags": []
   },
   "outputs": [],
   "source": [
    "from functions.get_mlti_intervals import __get_mlti_intervals\n",
    "\n",
    "mltiU_t1, mltiU_t2 = __get_mlti_intervals(mltiU.time_utc)"
   ]
  },
  {
   "cell_type": "code",
   "execution_count": null,
   "id": "f57efd20-ec2a-4e9e-baa3-29b5de985ead",
   "metadata": {
    "tags": []
   },
   "outputs": [],
   "source": [
    "from functions.mlti_intervals_to_NaN import __mlti_intervals_to_NaN\n",
    "\n",
    "\n",
    "for key in [\"fj_fs\", \"fj_bs\", \"f1_fs\", \"f2_fs\", \"f1_ac\", \"f2_ac\", \"f1_dc\", \"f2_dc\", \"f1_ph\", \"f2_ph\"]:\n",
    "    bs = __mlti_intervals_to_NaN(bs, key, \"time1\", mltiU_t1, mltiU_t2, t_offset_sec=300)\n"
   ]
  },
  {
   "cell_type": "markdown",
   "id": "0a71cafc-c525-41fd-95ad-cfee1aee0e76",
   "metadata": {},
   "source": [
    "### Apply Selections"
   ]
  },
  {
   "cell_type": "code",
   "execution_count": null,
   "id": "70aeb3b9-8b5b-487c-aada-be618b7b17ea",
   "metadata": {
    "tags": []
   },
   "outputs": [],
   "source": [
    "# tt1, tt2 = \"2023-11-20 14:00\", \"2024-01-11\"\n",
    "# cond1 = bs.time1 > tt1\n",
    "# cond2 = bs.time1 < tt2\n",
    "# cond3 = bs.fj_fs_nan < 302.4\n",
    "# cond4 = bs.fj_fs_nan > 302.6\n",
    "\n",
    "# bs['fj_fs_nan'] = np.where(cond1 & cond2 & cond3, np.nan, bs.fj_fs_nan)\n",
    "# bs['fj_fs_nan'] = np.where(cond1 & cond2 & cond4, np.nan, bs.fj_fs_nan)\n",
    "\n",
    "# bs['fj_bs_nan'] = np.where(cond1 & cond2 & cond3, np.nan, bs.fj_bs_nan)\n",
    "# bs['fj_bs_nan'] = np.where(cond1 & cond2 & cond4, np.nan, bs.fj_bs_nan)\n"
   ]
  },
  {
   "cell_type": "code",
   "execution_count": null,
   "id": "512abf36-a40d-480f-9177-556a493a4cbc",
   "metadata": {
    "tags": []
   },
   "outputs": [],
   "source": [
    "from functions.interpolate_nan import __interpolate_nan\n",
    "\n",
    "bs['fj_fs_inter'] = __interpolate_nan(np.array(bs.fj_fs_nan))\n",
    "bs['fj_bs_inter'] = __interpolate_nan(np.array(bs.fj_bs_nan))"
   ]
  },
  {
   "cell_type": "code",
   "execution_count": null,
   "id": "09b3cefb-1f20-400e-822c-37dde096970a",
   "metadata": {
    "tags": []
   },
   "outputs": [],
   "source": [
    "from functions.smoothing import __smooth\n",
    "\n",
    "n_minutes = 180\n",
    "\n",
    "bs['fj_fs_smooth'] = __smooth(bs.fj_fs_inter, n_minutes)\n",
    "bs['fj_bs_smooth'] = __smooth(bs.fj_bs_inter, n_minutes)"
   ]
  },
  {
   "cell_type": "code",
   "execution_count": null,
   "id": "2ae877ec-3074-4929-a0f1-d866cb07ae39",
   "metadata": {
    "tags": []
   },
   "outputs": [],
   "source": [
    "def __makeplot():\n",
    "\n",
    "    Nrow, Ncol = 1, 1\n",
    "\n",
    "    font = 12\n",
    "\n",
    "    fig, ax = plt.subplots(Nrow, Ncol, figsize=(15, 5), sharex=True)\n",
    "\n",
    "    plt.subplots_adjust(hspace=0.1)\n",
    "\n",
    "    # time_scaling = 1/86400\n",
    "    time_scaling = 1\n",
    "\n",
    "    ref_date = str(bs.time1.iloc[0])[:10]\n",
    "\n",
    "    ax.plot(bs.time_sec*time_scaling, bs.fj_fs, color=\"tab:grey\", alpha=0.3, label=\"raw\")\n",
    "    ax.plot(bs.time_sec*time_scaling, bs.fj_fs_nan, color=\"tab:blue\", label=\"cleaned\")\n",
    "    # ax.plot(bs.time_sec*time_scaling, bs.fj_fs_smooth, color=\"k\", label=f\"mov. avg. ({n_minutes} min)\")\n",
    "    ax.set_ylim(flim1, flim2)\n",
    "    ax.ticklabel_format(useOffset=False)\n",
    "    ax.set_ylabel(\"$\\delta f$ north ring (Hz)\", fontsize=font)\n",
    "\n",
    "    ax.grid(ls=\":\", zorder=0)\n",
    "    ax.legend(loc=1)\n",
    "    ax.set_xlim(left=0)\n",
    "\n",
    "\n",
    "    ## add dates to x-axis\n",
    "    tcks = ax.get_xticks()\n",
    "    tcklbls = [UTCDateTime(UTCDateTime(ref_date)+t).date for t in tcks]\n",
    "    ax.set_xticklabels(tcklbls)\n",
    "\n",
    "    ## add maintenance times\n",
    "    for lx1, lx2 in zip(lxx_t1, lxx_t2):\n",
    "        lx1_sec = lx1-UTCDateTime(ref_date)\n",
    "        lx2_sec = lx2-UTCDateTime(ref_date)\n",
    "        ax.fill_betweenx([flim1, flim2], lx1_sec, lx2_sec, color=\"yellow\", alpha=0.3)\n",
    "\n",
    "    plt.show();\n",
    "    return fig\n",
    "\n",
    "fig = __makeplot();\n",
    "\n",
    "fig.savefig(config['path_to_figs']+f\"SF_BS_RU_multiday_Case{case}_cleaned.png\", format=\"png\", dpi=150, bbox_inches='tight')\n"
   ]
  },
  {
   "cell_type": "markdown",
   "id": "bc9d9a69-4466-4809-b53a-10fb2c7f3b8d",
   "metadata": {},
   "source": [
    "## Overview Plot"
   ]
  },
  {
   "cell_type": "code",
   "execution_count": null,
   "id": "b4af0c10-6056-4cec-9702-2a56f00a3377",
   "metadata": {
    "tags": []
   },
   "outputs": [],
   "source": [
    "def __makeplot_sagnac_overview():\n",
    "\n",
    "    Nrow, Ncol = 6, 1\n",
    "\n",
    "    font = 11\n",
    "\n",
    "    fig, ax = plt.subplots(Nrow, Ncol, figsize=(12, 12), sharex=True)\n",
    "\n",
    "    plt.subplots_adjust(hspace=0.1)\n",
    "\n",
    "    # time_scaling = 1/86400\n",
    "    time_scaling = 1\n",
    "\n",
    "    ref_date = str(bs.time1.iloc[0])[:10]\n",
    "\n",
    "    ## -----------------------------------------------------------------------------\n",
    "\n",
    "    ax[0].plot(bs.time_sec, bs.fj_fs, color=\"tab:grey\", alpha=0.3, label=\"raw\")\n",
    "    ax[0].plot(bs.time_sec, bs.fj_fs_nan, color=\"black\", label=\"cleaned\")\n",
    "    ax[0].plot(bs.time_sec, bs.fj_bs_nan, color=\"tab:red\", label=\"BS corrected\")\n",
    "\n",
    "    ax[0].set_ylim(flim1, flim2)\n",
    "    ax[0].ticklabel_format(useOffset=False)\n",
    "    ax[0].set_ylabel(\"$\\delta f$ north ring (Hz)\", fontsize=font)\n",
    "\n",
    "    ## -----------------------------------------------------------------------------\n",
    "\n",
    "    ax[1].plot(bs.time_sec, bs.f1_fs_nan, color=\"tab:blue\", label=\"F1\")\n",
    "    ax[1].plot(bs.time_sec, bs.f2_fs_nan, color=\"tab:orange\", label=\"F2\")\n",
    "\n",
    "    ax[1].set_ylim(flim1-0.1, flim2)\n",
    "    ax[1].ticklabel_format(useOffset=False)\n",
    "    ax[1].set_ylabel(\"$\\delta f$ (Hz)\", fontsize=font)\n",
    "\n",
    "\n",
    "\n",
    "    ## -----------------------------------------------------------------------------\n",
    "\n",
    "    ax[2].plot(bs.time_sec, bs.f1_ac_nan, color=\"tab:blue\", label=\"AC1\")\n",
    "    ax[2].plot(bs.time_sec, bs.f2_ac_nan, color=\"tab:orange\", label=\"AC2\")\n",
    "\n",
    "    ax[2].set_ylabel(\"AC (V)\", fontsize=font)\n",
    "\n",
    "\n",
    "    ## -----------------------------------------------------------------------------\n",
    "\n",
    "    ax[3].plot(bs.time_sec, bs.f1_dc_nan, color=\"tab:blue\", label=\"DC1\")\n",
    "    ax[3].plot(bs.time_sec, bs.f2_dc_nan, color=\"tab:orange\", label=\"DC2\")\n",
    "\n",
    "    ax[3].set_ylabel(\"DC (V)\", fontsize=font)\n",
    "    ax[3].set_ylim(0.2, 0.55)\n",
    "\n",
    "    ## -----------------------------------------------------------------------------\n",
    "\n",
    "    ax[4].plot(bs.time_sec, bs.f1_ph_nan-bs.f2_ph_nan, color=\"tab:blue\", label=\"BS phase\")\n",
    "    # ax[4].set_ylim(-12, 12)\n",
    "\n",
    "    ax[4].set_ylabel(\"Phase (rad)\", fontsize=font)\n",
    "\n",
    "    ## -----------------------------------------------------------------------------\n",
    "\n",
    "    ax[5].plot(bs.time_sec, bs.f1_ph_nan, color=\"tab:blue\", label=\"Ph1\")\n",
    "    ax[5].plot(bs.time_sec, bs.f2_ph_nan, color=\"tab:orange\", label=\"Ph2\")\n",
    "    ax[5].plot(bs.time_sec, bs.fj_ph, color=\"tab:red\", label=\"Ph_sagnac\")\n",
    "\n",
    "    ax[5].set_ylabel(\"Phaes (rad)\", fontsize=font)\n",
    "\n",
    "    for _k in range(Nrow):\n",
    "        ax[_k].grid(ls=\":\", zorder=0)\n",
    "        ax[_k].legend(loc=1)\n",
    "\n",
    "    ## add dates to x-axis\n",
    "    tcks = ax[Nrow-1].get_xticks()\n",
    "    tcklbls = [UTCDateTime(UTCDateTime(ref_date)+t).date for t in tcks]\n",
    "    ax[Nrow-1].set_xticklabels(tcklbls)\n",
    "\n",
    "    ## add maintenance times\n",
    "    for lx1, lx2 in zip(lxx_t1, lxx_t2):\n",
    "        lx1_sec = lx1-UTCDateTime(ref_date)\n",
    "        lx2_sec = lx2-UTCDateTime(ref_date)\n",
    "        for _n in range(Nrow):\n",
    "            ax[_n].fill_betweenx([ax[_n].get_ylim()[0], ax[_n].get_ylim()[1]], lx1_sec, lx2_sec, color=\"yellow\", alpha=0.3)\n",
    "\n",
    "    plt.show();\n",
    "    return fig\n",
    "\n",
    "fig = __makeplot_sagnac_overview();\n",
    "\n",
    "# fig.savefig(config['path_to_figs']+f\"SF_BS_RU_multiday_Case{case}_cleaned.png\", format=\"png\", dpi=150, bbox_inches='tight')\n"
   ]
  },
  {
   "cell_type": "markdown",
   "id": "75a6bcca-037e-4479-bea3-4cf30f48d702",
   "metadata": {
    "tags": []
   },
   "source": [
    "### Compute PSD"
   ]
  },
  {
   "cell_type": "code",
   "execution_count": null,
   "id": "12774ce5-2db5-43f5-a289-0723d464748f",
   "metadata": {
    "tags": []
   },
   "outputs": [],
   "source": [
    "def __makeplot(key1, key2, fft=False):\n",
    "\n",
    "    dat1 = np.array((bs[key1] - bs[key1].mean()).replace(np.nan, 0))\n",
    "    dat2 = np.array((bs[key2] - bs[key2].mean()).replace(np.nan, 0))\n",
    "\n",
    "\n",
    "    out = __multitaper_coherence(dat1, dat2, 60, n_taper=10, time_bandwidth=3.5, method=0)\n",
    "\n",
    "\n",
    "    f1, psd1, pha1 = __get_fft(dat1, 60)\n",
    "    f2, psd2, pha2 = __get_fft(dat2, 60)\n",
    "\n",
    "\n",
    "    Nrow, Ncol = 2, 1\n",
    "\n",
    "    font = 12\n",
    "\n",
    "    time_scaling = 1\n",
    "\n",
    "    fig, ax = plt.subplots(Nrow, Ncol, figsize=(15, 8))\n",
    "\n",
    "\n",
    "    ax[0].plot(bs.time_sec*time_scaling, bs[key1], color=\"black\", label=f\"$\\delta$f cleaned\")\n",
    "    ax[0].plot(bs.time_sec*time_scaling, bs[key2], color=\"tab:red\", label=f\"$\\delta$f backscatter corrected\")\n",
    "\n",
    "    ax[0].ticklabel_format(useOffset=False)\n",
    "\n",
    "    if fft:\n",
    "        ax[1].semilogx(f1, psd1, color=\"black\", label=f\"$\\delta$f cleaned\")\n",
    "        ax[1].semilogx(f2, psd2, color=\"tab:red\", label=f\"$\\delta$f backscatter corrected\")\n",
    "        ax[1].set_ylim(0, max(psd1)+0.2*max(psd1))\n",
    "        ax[1].set_ylabel(\"Spectrum (Hz $\\sqrt{Hz}$)\", fontsize=font)\n",
    "    else:\n",
    "        ax[1].semilogx(out['ff1'], out['psd1'], color=\"black\", label=f\"$\\delta$f w/ backscatter\")\n",
    "        ax[1].semilogx(out['ff2'], out['psd2'], color=\"tab:red\", label=f\"$\\delta$f w/o backscatter\")\n",
    "        ax[1].set_ylim(0, max(out['psd2'])*1.2)\n",
    "        ax[1].set_ylabel(\"PSD (Hz$^2$ /Hz)\", fontsize=font)\n",
    "\n",
    "    ax11 = ax[1].twinx()\n",
    "    ax11.semilogx(out['fcoh'], out['coh'], color=\"tab:grey\", label=f\"coherence\")\n",
    "    ax11.set_ylim(0, 1.)\n",
    "    ax11.set_ylabel(f\"Coherence\", fontsize=font, color=\"tab:grey\")\n",
    "    [t.set_color('tab:grey') for t in ax11.yaxis.get_ticklabels()]\n",
    "\n",
    "    for _n in range(Nrow):\n",
    "        ax[_n].grid(which=\"both\", ls=\":\", zorder=0)\n",
    "        ax[_n].legend(loc=1, fontsize=font-1)\n",
    "\n",
    "    # ax[0].set_ylim(302.395, 302.465)\n",
    "    ax[0].set_ylim(flim1, flim2)\n",
    "    ax[0].set_xlim(0, max(bs.time_sec)*time_scaling)\n",
    "\n",
    "    ax[1].set_xlim(0, 1e-3)\n",
    "\n",
    "    ax[1].legend(loc=4, fontsize=font-1)\n",
    "\n",
    "    ax[0].set_ylabel(f\"$\\delta$f (Hz)\", fontsize=font)\n",
    "    # ax[0].set_xlabel(f\"Time from {config['tbeg'].date} {config['tbeg'].time} UTC (hours)\", fontsize=font)\n",
    "\n",
    "    ax[1].set_xlabel(\"Frequency (Hz)\", fontsize=font)\n",
    "\n",
    "    ax[1].axvline(1/(12*3600), ls=\"--\", color=\"grey\", zorder=0)\n",
    "    ax[1].axvline(1/(24*3600), ls=\"--\", color=\"grey\", zorder=0)\n",
    "\n",
    "    ## add dates to x-axis\n",
    "    ref_date = str(bs.time1.iloc[0])[:10]\n",
    "    tcks = ax[0].get_xticks()\n",
    "    tcklbls = [UTCDateTime(UTCDateTime(ref_date)+t).date for t in tcks]\n",
    "    ax[0].set_xticklabels(tcklbls)\n",
    "\n",
    "    gc.collect()\n",
    "\n",
    "    plt.show();\n",
    "    return fig\n",
    "\n",
    "fig = __makeplot(\"fj_fs_nan\", \"fj_bs_nan\", fft=False);\n",
    "# fig = __makeplot(\"fj_fs_inter\", \"w_s_inter\");\n",
    "\n",
    "fig.savefig(config['path_to_figs']+f\"SF_BS_RU_multiday_Case{case}_PSD_inter.png\", format=\"png\", dpi=150, bbox_inches='tight')\n"
   ]
  },
  {
   "cell_type": "markdown",
   "id": "ae5a324e-e552-4984-859c-8707c8016430",
   "metadata": {},
   "source": [
    "### Compute CWT"
   ]
  },
  {
   "cell_type": "code",
   "execution_count": null,
   "id": "4ad1f898-3cae-4b3d-bd0e-70bc616734fc",
   "metadata": {
    "tags": []
   },
   "outputs": [],
   "source": [
    "ttt = bs.time_sec\n",
    "arr = bs.fj_bs_inter\n",
    "dt  = 60 # seconds\n",
    "\n",
    "out = __compute_cwt(ttt, arr, dt,\n",
    "                    tscale=\"hour\",\n",
    "                    datalabel=\"$\\delta$f (Hz)\",\n",
    "                    scale_value=15,\n",
    "                    log=False, period=True, ymax=None, plot=True,\n",
    "                   )\n",
    "\n",
    "out['fig'].savefig(config['path_to_figs']+f\"SF_BS_RU_multiday_Case{case}_CWT.png\", format=\"png\", dpi=200, bbox_inches='tight')\n"
   ]
  },
  {
   "cell_type": "markdown",
   "id": "1d6d3955-a28e-401b-b624-fb75b9d8fec4",
   "metadata": {
    "tags": []
   },
   "source": [
    "## Load Pressure Data"
   ]
  },
  {
   "cell_type": "code",
   "execution_count": null,
   "id": "e70a9dc9-5026-4d58-860f-8843a722fd67",
   "metadata": {
    "tags": []
   },
   "outputs": [],
   "source": [
    "ps = __read_sds(archive_path+\"temp_archive/\", \"BW.PROMY.03.LDI\", config['tbeg'], config['tend'])\n",
    "# ws = __read_sds(archive_path+\"temp_archive/\", \"BW.WROMY.05.LDI\", config['tbeg'], config['tend'])\n",
    "\n",
    "# ps = __read_sds(bay_path+\"mseed_online/archive/\", \"BW.FFBI..BDF\", config['tbeg'], config['tend'])"
   ]
  },
  {
   "cell_type": "code",
   "execution_count": null,
   "id": "ff7a90de-a42f-4741-9277-a2e2928d1be1",
   "metadata": {
    "tags": []
   },
   "outputs": [],
   "source": [
    "ps"
   ]
  },
  {
   "cell_type": "code",
   "execution_count": null,
   "id": "6c15b4fd-a481-42ce-bf26-f9a728545bf9",
   "metadata": {
    "tags": []
   },
   "outputs": [],
   "source": [
    "for tr in ps:\n",
    "    tr.data = __interpolate_nan(tr.data)\n",
    "    if \"PROMY\" in tr.stats.station and \"D\" in tr.stats.channel:\n",
    "        tr.data /= 100\n",
    "\n",
    "    # tr.data = np.gradient(tr.data)\n",
    "ps"
   ]
  },
  {
   "cell_type": "code",
   "execution_count": null,
   "id": "d6534c8d-ed6d-4c37-ae88-d2add6e21184",
   "metadata": {
    "tags": []
   },
   "outputs": [],
   "source": [
    "tr00 = Trace()\n",
    "tr00.data = np.array(bs.fj_bs_inter)\n",
    "tr00.stats.delta = 60\n",
    "tr00.stats.starttime = bs.time1[0]\n",
    "tr00.stats.network = \"BW\"\n",
    "tr00.stats.station = \"ROMY\"\n",
    "tr00.stats.location = \"U\"\n",
    "\n",
    "st = Stream()\n",
    "st += tr00.copy()\n",
    "st += ps[0].copy()\n",
    "\n",
    "st = st.detrend(\"simple\")\n",
    "st = st.filter(\"lowpass\", freq = 0.005, corners=4, zerophase=True)\n",
    "st = st.resample(0.01, no_filter=True)\n",
    "\n",
    "st"
   ]
  },
  {
   "cell_type": "code",
   "execution_count": null,
   "id": "17767fa7-dea2-4072-9ab8-0d7985d0f76f",
   "metadata": {
    "tags": []
   },
   "outputs": [],
   "source": [
    "st.plot(equal_scale=False);"
   ]
  },
  {
   "cell_type": "code",
   "execution_count": null,
   "id": "625606d0-291f-4712-bf4a-65841aee8cc5",
   "metadata": {
    "tags": []
   },
   "outputs": [],
   "source": [
    "ttt = st[1].times()\n",
    "arr = st[1].data\n",
    "dt  = st[1].stats.delta # seconds\n",
    "\n",
    "out = __compute_cwt(ttt, arr, dt,\n",
    "                    tscale=\"hour\",\n",
    "                    datalabel=\"Air Pressure (hPa)\",\n",
    "                    scale_value=15,\n",
    "                    log=False, period=True, ymax=None, plot=True,\n",
    "                   )\n",
    "\n",
    "out['fig'].savefig(config['path_to_figs']+f\"SF_BS_RU_multiday_Case{case}_CWT_2.png\", format=\"png\", dpi=200, bbox_inches='tight')\n"
   ]
  },
  {
   "cell_type": "code",
   "execution_count": null,
   "id": "809c77db-e2d5-4a8b-9ffc-253b3d637a97",
   "metadata": {
    "tags": []
   },
   "outputs": [],
   "source": [
    "lp = st.copy()\n",
    "\n",
    "lp = lp.detrend(\"simple\")\n",
    "lp = lp.taper(0.1)\n",
    "# lp = lp.filter(\"bandpass\", freqmin=1/(12*3600), freqmax=1/(1*3600), corners=4, zerophase=True)\n",
    "lp = lp.filter(\"highpass\", freq=1/(48*3600), corners=4, zerophase=True)\n",
    "# lp = lp.filter(\"lowpass\", freq=0.01, corners=4, zerophase=True)\n",
    "\n",
    "lp.plot(equal_scale=False);"
   ]
  },
  {
   "cell_type": "code",
   "execution_count": null,
   "id": "fdbfc42f-95d2-40d9-925e-c7253115caa4",
   "metadata": {
    "tags": []
   },
   "outputs": [],
   "source": [
    "# dat1 = lp[0].data\n",
    "# dat2 = lp[1].data\n",
    "# dt, df = lp[0].stats.delta, lp[0].stats.delta\n",
    "\n",
    "dat1 = st[0].data\n",
    "dat2 = st[1].data\n",
    "dt, df = st[0].stats.delta, st[0].stats.delta\n",
    "\n",
    "out = __multitaper_coherence(dat1, dat2, dt, n_taper=5, time_bandwidth=3.5, method=2)\n",
    "\n",
    "\n",
    "f1, psd1, pha1 = __get_fft(dat1, dt)\n",
    "f2, psd2, pha2 = __get_fft(dat2, dt)\n",
    "\n",
    "\n",
    "\n",
    "fig, ax = plt.subplots(3, 1, figsize=(15, 5), sharex=True)\n",
    "\n",
    "ax[0].semilogx(1/out['fcoh'], out['coh'])\n",
    "\n",
    "ax[1].semilogx(1/out['ff1'], out['psd1'])\n",
    "ax[2].semilogx(1/out['ff2'], out['psd2'])\n",
    "\n",
    "ax11 = ax[1].twinx()\n",
    "ax11.semilogx(1/f1, psd1, color=\"tab:orange\")\n",
    "\n",
    "ax22 = ax[2].twinx()\n",
    "ax22.semilogx(1/f2, psd2, color=\"tab:orange\")\n",
    "\n",
    "plt.show();"
   ]
  },
  {
   "cell_type": "code",
   "execution_count": null,
   "id": "ceccd84f-562f-40f7-9077-2be760824161",
   "metadata": {
    "tags": []
   },
   "outputs": [],
   "source": [
    "# from scipy.signal import hilbert\n",
    "\n",
    "# env0 = abs(hilbert(lp[0].data))\n",
    "# env1 = abs(hilbert(lp[1].data))\n",
    "\n",
    "# # plt.plot(env0)\n",
    "# # plt.plot(env1*0.05)\n",
    "\n",
    "# plt.plot(__smooth(env0, 200))\n",
    "# plt.plot(__smooth(env1*0.01, 200))"
   ]
  },
  {
   "cell_type": "code",
   "execution_count": null,
   "id": "5548fb5e-22e9-46ac-9a35-4e31fa332e44",
   "metadata": {
    "tags": []
   },
   "outputs": [],
   "source": [
    "def __cross_correlation_function_windows(arr1, arr2, dt, Twin, overlap=0, demean=True):\n",
    "\n",
    "    from obspy.signal.cross_correlation import correlate, xcorr_max\n",
    "    from numpy import arange, array, roll\n",
    "\n",
    "    N = len(arr1)\n",
    "    n_interval = int(Twin/dt)\n",
    "    n_overlap = int(overlap*Twin/dt)\n",
    "\n",
    "    # time = arange(0, N*dt, dt)\n",
    "\n",
    "    times, samples = [], []\n",
    "    n1, n2 = 0, n_interval\n",
    "    while n2 <= N:\n",
    "        samples.append((n1, n2))\n",
    "        times.append(int(n1+(n2-n1)/2)*dt)\n",
    "        n1 = n1 + n_interval - n_overlap\n",
    "        n2 = n2 + n_interval - n_overlap\n",
    "\n",
    "    cc, mm, ss = [], [], []\n",
    "    for _n, (n1, n2) in enumerate(samples):\n",
    "\n",
    "        _arr1 = arr1[n1:n2]\n",
    "        _arr2 = arr2[n1:n2]\n",
    "\n",
    "        num = len(_arr1)\n",
    "\n",
    "        ccf = correlate(_arr1, _arr2, num, demean=demean, normalize='naive', method='fft')\n",
    "        shift, val = xcorr_max(ccf)\n",
    "\n",
    "        cc.append(ccf)\n",
    "        mm.append(val)\n",
    "        ss.append(shift)\n",
    "\n",
    "    tlags = arange(-num*dt, num*dt+1, dt)\n",
    "\n",
    "    return array(times), array(cc), tlags, array(ss), array(mm)"
   ]
  },
  {
   "cell_type": "code",
   "execution_count": null,
   "id": "9ca697c2-ad3a-469f-a2af-54606b59bace",
   "metadata": {
    "tags": []
   },
   "outputs": [],
   "source": [
    "# dt = st[0].stats.delta\n",
    "# dat1 = st[0].data\n",
    "# dat2 = st[1].data\n",
    "\n",
    "dt = lp[0].stats.delta\n",
    "dat1 = lp[0].data\n",
    "dat2 = lp[1].data\n",
    "# dat2 = np.roll(lp[0].data,50)\n",
    "\n",
    "\n",
    "twin = 6*3600\n",
    "\n",
    "ttt, ccf, tlags, shifts, maxima = __cross_correlation_function_windows(dat1, dat2, dt, twin, overlap=0.5, demean=True)\n",
    "\n"
   ]
  },
  {
   "cell_type": "code",
   "execution_count": null,
   "id": "fa30f3e5-8d7a-4e69-aeb7-558cdf05b1d7",
   "metadata": {
    "tags": []
   },
   "outputs": [],
   "source": [
    "plt.figure(figsize=(15, 5))\n",
    "\n",
    "cmap = plt.get_cmap(\"seismic\")\n",
    "\n",
    "plt.pcolormesh(ttt/86400, tlags/60, ccf.T, rasterized=True, vmin=-1, vmax=1, cmap=cmap)"
   ]
  },
  {
   "cell_type": "code",
   "execution_count": null,
   "id": "cd71be12-6110-4f9f-b8ca-7f746efdef10",
   "metadata": {
    "tags": []
   },
   "outputs": [],
   "source": [
    "# dt = st[0].stats.delta\n",
    "# dat1 = st[0].data\n",
    "# dat2 = st[1].data\n",
    "\n",
    "dt = lp[0].stats.delta\n",
    "dat1 = lp[0].data\n",
    "dat2 = lp[1].data\n",
    "\n",
    "twin = 3*3600\n",
    "\n",
    "\n",
    "tt, Tlags, ccc = __cc_lag_matrix(dat1, dat2, dt, twin, 5*3600, 600, plot=True)\n"
   ]
  },
  {
   "cell_type": "code",
   "execution_count": null,
   "id": "6dc72fb3-30ef-4b30-924f-32dde2b2e7c4",
   "metadata": {},
   "outputs": [],
   "source": []
  },
  {
   "cell_type": "markdown",
   "id": "6c11fb44-1fbf-4807-b46d-5b3293589f97",
   "metadata": {},
   "source": [
    "### Convert beat to tilt"
   ]
  },
  {
   "cell_type": "markdown",
   "id": "dee20ed2-867c-48f0-8542-eb75d3ccdf1c",
   "metadata": {},
   "source": [
    "$\\delta$ f = S * $\\Omega_E$ * sin($\\phi_{lat}$ + $\\theta_{dip}$ + $\\epsilon_{tilt}$)\n",
    "\n",
    "$\\epsilon_{tilt}$ = arcsin( $\\delta$ f / S / $\\Omega_E$ ) - $\\phi_{lat}$ - $\\theta_{dip}$"
   ]
  },
  {
   "cell_type": "code",
   "execution_count": null,
   "id": "3b3ffabe-db37-4bad-84fe-5e608c9ea8b9",
   "metadata": {
    "tags": []
   },
   "outputs": [],
   "source": [
    "from functions.sagnac_to_tilt import __sagnac_to_tilt"
   ]
  },
  {
   "cell_type": "code",
   "execution_count": null,
   "id": "5f44355e-fa8e-4eb2-bcc5-a3d61402ef59",
   "metadata": {
    "tags": []
   },
   "outputs": [],
   "source": [
    "fs_tilt = __sagnac_to_tilt(bs.w_s_inter, \"U\")\n",
    "\n",
    "plt.plot(fs_tilt)"
   ]
  },
  {
   "cell_type": "markdown",
   "id": "0244fec6-eacb-4505-9074-03904a20f3ee",
   "metadata": {},
   "source": [
    "### Load Tilt Data"
   ]
  },
  {
   "cell_type": "code",
   "execution_count": null,
   "id": "90301936-e448-46d0-b611-0b8d62c0f0e4",
   "metadata": {
    "tags": []
   },
   "outputs": [],
   "source": [
    "from functions.conversion_to_tilt import __conversion_to_tilt"
   ]
  },
  {
   "cell_type": "markdown",
   "id": "41f4915d-710e-4fd7-bdc5-502f6c041204",
   "metadata": {},
   "source": [
    "##### ROMYT Data"
   ]
  },
  {
   "cell_type": "code",
   "execution_count": null,
   "id": "911e0a68-43cf-44cb-b0b0-54fcce9bb5ad",
   "metadata": {
    "tags": []
   },
   "outputs": [],
   "source": [
    "## tiltmeter configurations\n",
    "confTilt = __readYaml(root_path+\"Documents/ROMY/tiltmeter/\", \"tiltmeter.conf\")\n",
    "\n",
    "\n",
    "tromy0 =  __read_sds(config['path_to_sds'], \"BW.DROMY..LAN\", config['tbeg']-600, config['tend']+600)\n",
    "tromy0 += __read_sds(config['path_to_sds'], \"BW.DROMY..LAE\", config['tbeg']-600, config['tend']+600)\n",
    "tromy0 += __read_sds(config['path_to_sds'], \"BW.DROMY..LAT\", config['tbeg']-600, config['tend']+600)\n",
    "\n",
    "tromy0 = __conversion_to_tilt(tromy0, confTilt['BROMY'])\n",
    "\n",
    "\n",
    "# tromy0 =  __read_sds(config['path_to_sds'], \"BW.ROMYT..MAN\", config['tbeg']-600, config['tend']+600)\n",
    "# tromy0 += __read_sds(config['path_to_sds'], \"BW.ROMYT..MAE\", config['tbeg']-600, config['tend']+600)\n",
    "# tromy0 += __read_sds(config['path_to_sds'], \"BW.ROMYT..MAT\", config['tbeg']-600, config['tend']+600)\n",
    "\n",
    "# tromy0 = __conversion_to_tilt(tromy0, confTilt['ROMYT'])\n",
    "\n",
    "tromy0 = tromy0.trim(bs.time1[0], bs.time1[bs.time1.size-1]);\n",
    "\n",
    "tromy = tromy0.copy();\n",
    "\n",
    "tromy = tromy.merge();\n",
    "\n",
    "tromy.plot(equal_scale=False);\n",
    "\n",
    "gc.collect();\n"
   ]
  },
  {
   "cell_type": "markdown",
   "id": "3da6e2af-6380-48ce-9e9f-3f531eaaf7de",
   "metadata": {
    "tags": []
   },
   "source": [
    "##### BROMY Data"
   ]
  },
  {
   "cell_type": "code",
   "execution_count": null,
   "id": "f0bd949c-4839-4425-81a1-0cea0f3f0c89",
   "metadata": {
    "tags": []
   },
   "outputs": [],
   "source": [
    "# bromy = __read_sds(config['path_to_sds'], \"BW.DROMY..LAN\", config['tbeg']-600, config['tend']+600)\n",
    "# bromy += __read_sds(config['path_to_sds'], \"BW.DROMY..LAT\", config['tbeg']-600, config['tend']+600)\n",
    "\n",
    "# ## tiltmeter configurations\n",
    "# confTilt = __readYaml(root_path+\"Documents/ROMY/tiltmeter/\", \"tiltmeter.conf\")\n",
    "\n",
    "# bromy = __conversion_to_tilt(bromy, confTilt['BROMY'])\n",
    "\n",
    "# bromy2 = bromy.copy()\n",
    "# bromy2= bromy2.decimate(6, no_filter=False)\n",
    "# bromy2= bromy2.decimate(10, no_filter=False)\n",
    "\n",
    "# temp_gradient = np.gradient(bromy2[0].data, 60)[10:-10]\n",
    "\n",
    "# bromy.trim(config['tbeg'], config['tend'])\n",
    "# bromy2.trim(config['tbeg'], config['tend'])\n",
    "\n",
    "# bromy2.trim(bs.time1[0], bs.time1[bs.time1.size-1])\n",
    "# bromy2.plot(equal_scale=False);\n"
   ]
  },
  {
   "cell_type": "markdown",
   "id": "42983d4b-42c0-408b-9b07-49d8e30104be",
   "metadata": {
    "tags": []
   },
   "source": [
    "### LowPass Version"
   ]
  },
  {
   "cell_type": "code",
   "execution_count": null,
   "id": "6f47bf9b-fcc4-46fd-b1b4-90258daea27a",
   "metadata": {
    "tags": []
   },
   "outputs": [],
   "source": [
    "tromy_lp = tromy0.copy()\n",
    "\n",
    "tromy_lp = tromy_lp.detrend(\"simple\")\n",
    "\n",
    "tromy_lp = tromy_lp.taper(0.01)\n",
    "\n",
    "# tromy_lp = tromy_lp.filter(\"lowpass\", freq=1/(6*3600), corners=4, zerophase=True)\n",
    "tromy_lp = tromy_lp.filter(\"bandpass\", freqmin=1/(6*86400), freqmax=1/(1*3600), corners=4, zerophase=True)\n",
    "\n",
    "tromy_lp = tromy_lp.resample(1/(1*3600), no_filter=True)\n",
    "\n",
    "tromy_lp.merge()\n",
    "tromy_lp.plot(equal_scale=False);\n",
    "\n",
    "\n",
    "arr1 = np.nan_to_num(tromy_lp.select(channel=\"*N\")[0].data, 0)\n",
    "arr2 = np.nan_to_num(tromy_lp.select(channel=\"*T\")[0].data, 0)\n",
    "\n",
    "\n",
    "fig, ax = plt.subplots(4, 1, figsize=(15, 8))\n",
    "\n",
    "ax[0].plot(arr1, label=\"tilt\")\n",
    "ax[0].plot(-arr2*1e-5, label=\"-1 temperature\")\n",
    "correct = np.roll(arr2, -cclag)\n",
    "ax[0].plot(-correct*1e-5, label=\"shifted -1 temperature\")\n",
    "\n",
    "ax[0].legend()\n",
    "\n",
    "ax[1].plot(arr1, label=\"tilt\")\n",
    "ax[1].plot(arr1 + arr2*1e-5, label=\"tilt corrected\")\n",
    "ax[1].plot(arr1 + correct*1.2e-5, label=\"tilt corrected\")\n",
    "\n",
    "ax[1].legend()\n",
    "\n",
    "ax[2].scatter(arr2, arr1, s=1)\n",
    "ax[2].scatter(correct, arr1, s=1)\n",
    "\n",
    "plt.show();"
   ]
  },
  {
   "cell_type": "code",
   "execution_count": null,
   "id": "869050d8-da13-4d85-a0e4-af4a622c8147",
   "metadata": {
    "tags": []
   },
   "outputs": [],
   "source": [
    "def __correct_temperature_trend(st, correction, n_shift=0, intercept=False):\n",
    "\n",
    "    from numpy import roll\n",
    "\n",
    "    st0 = st.copy()\n",
    "    if roll == 0:\n",
    "        temperature = st0.select(channel=\"*T\")[0].data\n",
    "    else:\n",
    "        temperature = roll(st0.select(channel=\"*T\")[0].data, n_shift)\n",
    "\n",
    "\n",
    "    if intercept:\n",
    "        st0.select(channel=\"*N\")[0].data -= (correction['N_slope']* temperature + correction['N_intercept'])\n",
    "        st0.select(channel=\"*E\")[0].data -= (correction['E_slope']* temperature + correction['N_intercept'])\n",
    "    else:\n",
    "        st0.select(channel=\"*N\")[0].data -= (correction['N_slope']* temperature)\n",
    "        st0.select(channel=\"*E\")[0].data -= (correction['E_slope']* temperature)\n",
    "\n",
    "    plt.plot(temperature)\n",
    "\n",
    "    return st0"
   ]
  },
  {
   "cell_type": "code",
   "execution_count": null,
   "id": "6c94bdcc-be88-4059-8bcb-2e1154433401",
   "metadata": {
    "tags": []
   },
   "outputs": [],
   "source": [
    "## correction for temperature trends based on MAT\n",
    "temperature_correction = __readYaml(f\"{root_path}Documents/ROMY/tiltmeter/\",\"tiltmeter_temperature_correction.yml\")\n",
    "\n",
    "# from functions.correct_temperature_trend import __correct_temperature_trend\n",
    "\n",
    "tromy_mod = __correct_temperature_trend(tromy, temperature_correction['TROMY'], n_shift=0, intercept=False)\n",
    "\n",
    "tromy_mod.plot(equal_scale=False);"
   ]
  },
  {
   "cell_type": "markdown",
   "id": "4981daee-4891-4523-9f14-46ffae2a0f6b",
   "metadata": {},
   "source": [
    "## Load Rain Data"
   ]
  },
  {
   "cell_type": "code",
   "execution_count": null,
   "id": "047fec79-1199-4cf1-b4e5-fafdc7699150",
   "metadata": {
    "tags": []
   },
   "outputs": [],
   "source": [
    "from andbro__load_FURT_stream import __load_furt_stream"
   ]
  },
  {
   "cell_type": "code",
   "execution_count": null,
   "id": "66bf4268-69e0-4d05-bc4e-74b042bb99e8",
   "metadata": {
    "tags": []
   },
   "outputs": [],
   "source": [
    "def __cumsum_rain(arr, n_samples):\n",
    "\n",
    "    from numpy import cumsum, zeros, nansum, nanmean\n",
    "\n",
    "    arr_out = zeros(len(arr))\n",
    "    for i, dat in enumerate(arr):\n",
    "        arr_out[i] = nansum(arr[i:i+n_samples])\n",
    "        # arr_out[i] = nanmean(arr[i:i+n_samples])\n",
    "\n",
    "    return arr_out"
   ]
  },
  {
   "cell_type": "code",
   "execution_count": null,
   "id": "7ae12e7a-8e31-43e9-89d8-e3dec82c7946",
   "metadata": {
    "tags": []
   },
   "outputs": [],
   "source": [
    "furt = __load_furt_stream(config['tbeg'], config['tend'], path_to_archive=bay_path+'gif_online/FURT/WETTER/')"
   ]
  },
  {
   "cell_type": "code",
   "execution_count": null,
   "id": "b47c2bc1-f787-4a87-9390-e68421ca243a",
   "metadata": {
    "tags": []
   },
   "outputs": [],
   "source": [
    "rain = furt.select(channel=\"LAR\")"
   ]
  },
  {
   "cell_type": "code",
   "execution_count": null,
   "id": "0f575238-aca8-420c-8ea1-b706ed84f325",
   "metadata": {
    "tags": []
   },
   "outputs": [],
   "source": [
    "\n",
    "rain_cumsum = __cumsum_rain(rain[0].data, 3600)\n",
    "\n",
    "rain_smooth = __smooth(__interpolate_nan(rain[0].data), 3600)\n"
   ]
  },
  {
   "cell_type": "code",
   "execution_count": null,
   "id": "cbe73df6-4755-44a6-b744-38a74d3dfb4c",
   "metadata": {
    "tags": []
   },
   "outputs": [],
   "source": [
    "# plt.plot(rain_cumsum/np.nanmax(rain_cumsum))\n",
    "# plt.plot(rain_smooth/np.nanmax(rain_smooth))"
   ]
  },
  {
   "cell_type": "code",
   "execution_count": null,
   "id": "44fbc717-77b0-4e67-acf1-46fe5f67a7aa",
   "metadata": {
    "tags": []
   },
   "outputs": [],
   "source": []
  },
  {
   "cell_type": "code",
   "execution_count": null,
   "id": "997c7d71-d639-44b1-a33e-ce85d890f60f",
   "metadata": {
    "tags": []
   },
   "outputs": [],
   "source": [
    "# ws1 = ws1.decimate(6, no_filter=False)\n",
    "# ws1 = ws1.decimate(10, no_filter=False)\n",
    "\n",
    "# ws5 = ws5.decimate(6, no_filter=False)\n",
    "# ws5 = ws5.decimate(10, no_filter=False)\n",
    "\n",
    "# ws9 = ws9.decimate(6, no_filter=False)\n",
    "# ws9 = ws9.decimate(10, no_filter=False)"
   ]
  },
  {
   "cell_type": "code",
   "execution_count": null,
   "id": "63961283-d252-4753-9e6e-b34c4618ebf5",
   "metadata": {
    "tags": []
   },
   "outputs": [],
   "source": [
    "from functions.smoothing import __smooth\n",
    "\n",
    "ws1_T = ws1.select(channel=\"*T\")[0].data\n",
    "ws1_T_smooth = __smooth(ws1_T, 60)\n",
    "ws1_gradient = np.gradient(ws1_T_smooth, 5)\n",
    "\n",
    "ws5_T = ws5.select(channel=\"*T\")[0].data\n",
    "ws5_T_smooth = __smooth(ws5_T, 60)\n",
    "ws5_gradient = np.gradient(ws5_T_smooth, 5)\n",
    "\n",
    "ws9_T = ws9.select(channel=\"*T\")[0].data\n",
    "ws9_T_smooth = __smooth(ws9_T, 60)\n",
    "ws9_gradient = np.gradient(ws9_T_smooth, 5)"
   ]
  },
  {
   "cell_type": "code",
   "execution_count": null,
   "id": "955bc3ae-c35d-4e61-b4ca-0e01a4448442",
   "metadata": {
    "tags": []
   },
   "outputs": [],
   "source": [
    "# # plt.plot(ws1_gradient)\n",
    "# # plt.plot(ws5_gradient)\n",
    "# plt.plot(ws1_gradient-ws5_gradient)\n",
    "\n",
    "# plt.ylim(-0.01, 0.01)"
   ]
  },
  {
   "cell_type": "markdown",
   "id": "89e55b81-fd0e-4c84-8bb1-a72b85975acc",
   "metadata": {},
   "source": [
    "## Plotting"
   ]
  },
  {
   "cell_type": "markdown",
   "id": "ac0eca15-d0da-418e-bba8-a4c7caa4439b",
   "metadata": {},
   "source": [
    "## Tilt"
   ]
  },
  {
   "cell_type": "code",
   "execution_count": null,
   "id": "de6f189d-4a44-41ae-8526-28cfc335a589",
   "metadata": {
    "tags": []
   },
   "outputs": [],
   "source": [
    "def __makeplot():\n",
    "\n",
    "    dat = np.array(bs.w_s)\n",
    "\n",
    "    tr = Trace()\n",
    "    tr.data = dat\n",
    "    tr.stats.delta = 60\n",
    "    tr.stats.starttime = bs.time1[0]\n",
    "\n",
    "    hr1 = 1\n",
    "    tr1 = tr.copy()\n",
    "    tr1 = tr1.detrend(\"demean\")\n",
    "    tr1 = tr1.taper(0.01)\n",
    "    tr1 = tr1.filter(\"lowpass\", freq=1/(hr1*3600), corners=2, zerophase=True)\n",
    "\n",
    "    hr2 = 24\n",
    "    tr2 = tr.copy()\n",
    "    tr2.data = __sagnac_to_tilt(__interpolate_nan(dat), \"U\")\n",
    "    tr2 = tr2.detrend(\"simple\")\n",
    "    tr2 = tr2.taper(0.01)\n",
    "    tr2 = tr2.filter(\"lowpass\", freq=1/(hr2*3600), corners=2, zerophase=True)\n",
    "\n",
    "    scaling_factor = 0.01\n",
    "\n",
    "    Nrow, Ncol = 2, 1\n",
    "\n",
    "    font = 12\n",
    "\n",
    "    tilt_scaling = 1e6\n",
    "    time_scaling = 1\n",
    "\n",
    "    ref_time = config['tbeg']\n",
    "\n",
    "    fig, ax = plt.subplots(Nrow, Ncol, figsize=(15, 8), sharex=True)\n",
    "\n",
    "    plt.subplots_adjust(hspace=0.1)\n",
    "\n",
    "    ax[0].plot(bs.time_sec*time_scaling, bs.fj_fs_inter, color=\"grey\", alpha=0.5, label=f\"$\\Delta$f w/ backscatter\")\n",
    "    ax[0].plot(bs.time_sec*time_scaling, bs.fj_fs_smooth, color=\"black\", label=f\"$\\Delta$f w/ backscatter (smoothed)\")\n",
    "    # ax[0].plot(bs.time_sec*time_scaling, tr1.data*1e3, color=\"black\", label=f\"$\\Delta$f w/o backscatter (lp < {hr1} hour)\")\n",
    "    ax[0].set_ylim(302.41, 302.52)\n",
    "    ax[0].ticklabel_format(useOffset=False)\n",
    "\n",
    "\n",
    "    # ax[1].plot(bs.time_sec*time_scaling,\n",
    "    #            tr2.data*tilt_scaling*scaling_factor,\n",
    "    #            ls=\"--\", color=\"k\", label=f\"{scaling_factor}* N-S tilt by $\\Delta$f (lp < {hr2} hour)\",\n",
    "    #            zorder=2,\n",
    "    #           )\n",
    "\n",
    "    tromy_tilt = tromy.select(channel=\"*N\")[0].data\n",
    "    ax[1].plot(tromy.select(channel=\"*N\")[0].times(reftime=ref_time)*time_scaling,\n",
    "               __reduce(__smooth(tromy_tilt, 600), 600)*tilt_scaling,\n",
    "               color=\"tab:orange\", label=f\"N-S tilt\",\n",
    "               zorder=2,\n",
    "              )\n",
    "\n",
    "    tromy_tilt = tromy.select(channel=\"*E\")[0].data\n",
    "    ax[1].plot(tromy.select(channel=\"*E\")[0].times(reftime=ref_time)*time_scaling,\n",
    "               __reduce(__smooth(tromy_tilt, 600), 600)*tilt_scaling,\n",
    "               color=\"tab:purple\", label=f\"E-W tilt\",\n",
    "               zorder=2,\n",
    "              )\n",
    "\n",
    "    ax11 = ax[1].twinx()\n",
    "    ax11.fill_between(rain[0].times(reftime=ref_time)*time_scaling, rain_smooth, alpha=0.6, zorder=1)\n",
    "    ax11.set_ylim(bottom=0)\n",
    "    ax11.set_yticks(np.linspace(ax11.get_yticks()[0], ax11.get_yticks()[-1], len(ax[1].get_yticks())))\n",
    "    ax11.tick_params(axis=\"y\", colors=\"tab:blue\")\n",
    "    ax11.set_ylabel(\"Cumulative Rain (mm/hour)\", fontsize=font, color=\"tab:blue\")\n",
    "\n",
    "    ax12 = ax[1].twinx()\n",
    "    p12 = ax12.plot(tromy.select(channel=\"*T\")[0].times(reftime=ref_time)*time_scaling,\n",
    "                    tromy.select(channel=\"*T\")[0].data, alpha=0.6, zorder=1, color=\"darkred\", ls=\"--\")\n",
    "\n",
    "    # ax12.set_ylim(bottom=0)\n",
    "    # ax12.set_yticks(np.linspace(ax11.get_yticks()[0], ax11.get_yticks()[-1], len(ax[1].get_yticks())))\n",
    "    # ax12.tick_params(axis=\"y\", colors=\"tab:blue\")\n",
    "    ax12.set_ylabel(\"Temperature (°C)\", fontsize=font, color=\"darkred\")\n",
    "    ax12.tick_params(axis='y', colors=\"darkred\")\n",
    "    ax12.spines.right.set_position((\"axes\", 1.10))\n",
    "\n",
    "    for _n in range(Nrow):\n",
    "        ax[_n].grid(ls=\":\", zorder=0)\n",
    "\n",
    "    ax[0].legend(loc=1, fontsize=font-1)\n",
    "    ax[1].legend(loc=1, fontsize=font-1, ncol=1)\n",
    "\n",
    "    ax[0].set_ylabel(f\"$\\Delta$f (mHz)\", fontsize=font)\n",
    "\n",
    "    ax[1].set_ylabel(\"Tilt ($\\mu$rad)\", fontsize=font)\n",
    "    ax[1].set_xlabel(f\"Time (days) from {config['tbeg'].date} {config['tbeg'].time} UTC\", fontsize=font)\n",
    "\n",
    "    ## add dates to x-axis\n",
    "    ref_date = UTCDateTime(config['tbeg'])\n",
    "    tcks = ax[Nrow-1].get_xticks()\n",
    "    tcklbls = [str(UTCDateTime(ref_date+t).date) for t in tcks]\n",
    "    ax[Nrow-1].set_xticklabels(tcklbls)\n",
    "\n",
    "    plt.show();\n",
    "    gc.collect();\n",
    "    return fig\n",
    "\n",
    "fig = __makeplot();\n",
    "\n",
    "# fig.savefig(config['path_to_figs']+f\"SagnacFrequency_BS_RU_multiday_Case3_Tilt_Rain_example.png\", format=\"png\", dpi=150, bbox_inches='tight')\n"
   ]
  },
  {
   "cell_type": "code",
   "execution_count": null,
   "id": "ffb48956-aae4-4cba-8654-e9622ec5a985",
   "metadata": {
    "tags": []
   },
   "outputs": [],
   "source": []
  },
  {
   "cell_type": "code",
   "execution_count": null,
   "id": "66ebe573-7302-407e-a22f-36e2e7e89736",
   "metadata": {
    "tags": []
   },
   "outputs": [],
   "source": []
  },
  {
   "cell_type": "code",
   "execution_count": null,
   "id": "67fc2433-bc66-4c22-8918-500e1e1c8f9a",
   "metadata": {
    "tags": []
   },
   "outputs": [],
   "source": [
    "def __makeplot():\n",
    "\n",
    "\n",
    "    f11 = 1/(14*3600)\n",
    "    f12 = 1/(10*3600)\n",
    "\n",
    "    f21 = 1/(26*3600)\n",
    "    f22 = 1/(22*3600)\n",
    "\n",
    "    detrend=\"demean\"\n",
    "    taper = 0.1\n",
    "    corners = 4\n",
    "\n",
    "    tr = Trace()\n",
    "    tr.data = __sagnac_to_tilt(np.array(bs.fj_fs_inter), \"U\")\n",
    "    tr.stats.delta = 60\n",
    "    tr.stats.starttime = bs.time1[0]\n",
    "\n",
    "    tr1 = tr.copy()\n",
    "    tr1 = tr1.detrend(detrend).detrend(\"simple\")\n",
    "    tr1 = tr1.taper(taper)\n",
    "    tr1 = tr1.filter(\"bandpass\", freqmin=f11, freqmax=f12, corners=corners, zerophase=True)\n",
    "\n",
    "    tr2 = tr.copy()\n",
    "    tr2 = tr2.detrend(detrend).detrend(\"simple\")\n",
    "    tr2 = tr2.taper(taper)\n",
    "    tr2 = tr2.filter(\"bandpass\", freqmin=f21, freqmax=f22, corners=corners, zerophase=True)\n",
    "\n",
    "\n",
    "    tromy1 = tromy.select(channel=\"*N\").copy();\n",
    "    tromy1 = tromy1.split()\n",
    "    tromy1 = tromy1.detrend(detrend).detrend(\"simple\")\n",
    "    tromy1 = tromy1.taper(taper)\n",
    "    tromy1 = tromy1.filter(\"bandpass\", freqmin=f11, freqmax=f12, corners=corners, zerophase=True)\n",
    "    tromy1 = tromy1.merge()\n",
    "\n",
    "\n",
    "    tromy2 = tromy.select(channel=\"*N\").copy();\n",
    "    tromy2 = tromy2.split()\n",
    "    tromy2 = tromy2.detrend(detrend).detrend(\"simple\")\n",
    "    tromy2 = tromy2.taper(taper)\n",
    "    tromy2 = tromy2.filter(\"bandpass\", freqmin=f21, freqmax=f22, corners=corners, zerophase=True)\n",
    "    tromy2 = tromy2.merge()\n",
    "\n",
    "\n",
    "    Nrow, Ncol = 2, 1\n",
    "\n",
    "    font = 12\n",
    "\n",
    "    scaling = 1e9\n",
    "\n",
    "    ref_time = config['tbeg']\n",
    "\n",
    "    fig, ax = plt.subplots(Nrow, Ncol, figsize=(15, 8), sharex=True)\n",
    "\n",
    "    plt.subplots_adjust(hspace=0.1)\n",
    "\n",
    "    ax[0].plot(tromy1[0].times(reftime=ref_time), -tromy1[0].data*scaling, color=\"black\", label=\"-1* N-S Tilt\")\n",
    "    ax[1].plot(tromy2[0].times(reftime=ref_time), -tromy2[0].data*scaling, color=\"black\", label=\"-1* N-S Tilt\")\n",
    "\n",
    "    ax0 = ax[0].twinx()\n",
    "    ax0.plot(tr1.times(reftime=ref_time), tr1.data*scaling, color=\"darkred\", label=\"$\\Delta $f  to Tilt\")\n",
    "\n",
    "    ax1 = ax[1].twinx()\n",
    "    ax1.plot(tr2.times(reftime=ref_time), tr2.data*scaling, color=\"darkred\", label=\"$\\Delta $f  to Tilt\")\n",
    "\n",
    "    ax[0].set_ylabel(\"Tilt (nrad)\", fontsize=font)\n",
    "    ax[1].set_ylabel(\"Tilt (nrad)\", fontsize=font)\n",
    "    # ax[1].set_xlabel(f\"Time (days) from {config['tbeg'].date} {config['tbeg'].time} UTC\", fontsize=font)\n",
    "\n",
    "    ax0.set_ylabel(\"Tilt (nrad)\", fontsize=font, color=\"darkred\")\n",
    "    ax1.set_ylabel(\"Tilt (nrad)\", fontsize=font, color=\"darkred\")\n",
    "\n",
    "    for _n in range(Nrow):\n",
    "        ax[_n].grid(ls=\":\", zorder=0)\n",
    "        ax[_n].legend(loc=1)\n",
    "\n",
    "    ax0.legend(loc=4)\n",
    "    ax1.legend(loc=4)\n",
    "\n",
    "    ax[0].text(.01, .97, '(a) 11-13 h', ha='left', va='top', transform=ax[0].transAxes, fontsize=font+2)\n",
    "    ax[1].text(.01, .97, '(b) 23-25 h', ha='left', va='top', transform=ax[1].transAxes, fontsize=font+2)\n",
    "\n",
    "    ax[0].set_ylim(-40, 40)\n",
    "    ax[1].set_ylim(-15, 15)\n",
    "\n",
    "    ax0.tick_params(axis='y', colors='darkred')\n",
    "    ax0.set_yticks(np.linspace(ax0.get_yticks()[0], ax0.get_yticks()[-1], len(ax[0].get_yticks())))\n",
    "\n",
    "    ax1.tick_params(axis='y', colors='darkred')\n",
    "    ax1.set_yticks(np.linspace(ax1.get_yticks()[0], ax1.get_yticks()[-1], len(ax[1].get_yticks())))\n",
    "\n",
    "    ## add dates to x-axis\n",
    "    ref_date = UTCDateTime(config['tbeg'])\n",
    "    tcks = ax[Nrow-1].get_xticks()\n",
    "    tcklbls = [str(UTCDateTime(ref_date+t).date) for t in tcks]\n",
    "    ax[Nrow-1].set_xticklabels(tcklbls)\n",
    "\n",
    "    plt.show();\n",
    "    return fig\n",
    "\n",
    "fig = __makeplot();\n",
    "\n",
    "# fig.savefig(config['path_to_figs']+f\"SagnacFrequency_BS_RU_multiday_Case3_Tilt_Tides.png\", format=\"png\", dpi=150, bbox_inches='tight')\n"
   ]
  },
  {
   "cell_type": "code",
   "execution_count": null,
   "id": "77c00ab5-07ef-4468-b095-88a3956dce4d",
   "metadata": {},
   "outputs": [],
   "source": []
  },
  {
   "cell_type": "code",
   "execution_count": null,
   "id": "454248b2-aaa3-48e1-bb5b-d81d60863ef9",
   "metadata": {},
   "outputs": [],
   "source": []
  }
 ],
 "metadata": {
  "kernelspec": {
   "display_name": "Python 3 (ipykernel)",
   "language": "python",
   "name": "python3"
  },
  "language_info": {
   "codemirror_mode": {
    "name": "ipython",
    "version": 3
   },
   "file_extension": ".py",
   "mimetype": "text/x-python",
   "name": "python",
   "nbconvert_exporter": "python",
   "pygments_lexer": "ipython3",
   "version": "3.10.12"
  },
  "latex_envs": {
   "LaTeX_envs_menu_present": true,
   "autoclose": false,
   "autocomplete": true,
   "bibliofile": "biblio.bib",
   "cite_by": "apalike",
   "current_citInitial": 1,
   "eqLabelWithNumbers": true,
   "eqNumInitial": 1,
   "hotkeys": {
    "equation": "Ctrl-E",
    "itemize": "Ctrl-I"
   },
   "labels_anchors": false,
   "latex_user_defs": false,
   "report_style_numbering": false,
   "user_envs_cfg": false
  },
  "toc": {
   "base_numbering": 1,
   "nav_menu": {},
   "number_sections": true,
   "sideBar": true,
   "skip_h1_title": false,
   "title_cell": "Table of Contents",
   "title_sidebar": "Contents",
   "toc_cell": false,
   "toc_position": {},
   "toc_section_display": true,
   "toc_window_display": false
  },
  "varInspector": {
   "cols": {
    "lenName": 16,
    "lenType": 16,
    "lenVar": 40
   },
   "kernels_config": {
    "python": {
     "delete_cmd_postfix": "",
     "delete_cmd_prefix": "del ",
     "library": "var_list.py",
     "varRefreshCmd": "print(var_dic_list())"
    },
    "r": {
     "delete_cmd_postfix": ") ",
     "delete_cmd_prefix": "rm(",
     "library": "var_list.r",
     "varRefreshCmd": "cat(var_dic_list()) "
    }
   },
   "types_to_exclude": [
    "module",
    "function",
    "builtin_function_or_method",
    "instance",
    "_Feature"
   ],
   "window_display": false
  }
 },
 "nbformat": 4,
 "nbformat_minor": 5
}
