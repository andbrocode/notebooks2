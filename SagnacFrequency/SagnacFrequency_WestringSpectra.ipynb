{
 "cells": [
  {
   "cell_type": "markdown",
   "id": "22f5c8c9",
   "metadata": {
    "ExecuteTime": {
     "end_time": "2022-10-28T13:00:52.763484Z",
     "start_time": "2022-10-28T13:00:52.761516Z"
    }
   },
   "source": [
    "## Sagnac Frequency - Westring Spectra"
   ]
  },
  {
   "cell_type": "markdown",
   "id": "1cd32aed",
   "metadata": {},
   "source": []
  },
  {
   "cell_type": "markdown",
   "id": "185b1a0b",
   "metadata": {},
   "source": [
    "## Imports"
   ]
  },
  {
   "cell_type": "code",
   "execution_count": 3,
   "id": "818caf4c",
   "metadata": {
    "ExecuteTime": {
     "end_time": "2023-06-07T08:14:29.776301Z",
     "start_time": "2023-06-07T08:14:27.307331Z"
    },
    "tags": []
   },
   "outputs": [],
   "source": [
    "import os\n",
    "import matplotlib.pyplot as plt\n",
    "\n",
    "from datetime import datetime, date\n",
    "from pandas import DataFrame, read_pickle, date_range, concat, read_csv\n",
    "from obspy import UTCDateTime\n",
    "from numpy import log10"
   ]
  },
  {
   "cell_type": "code",
   "execution_count": 4,
   "id": "b83c9987",
   "metadata": {
    "ExecuteTime": {
     "end_time": "2023-06-07T08:14:29.779880Z",
     "start_time": "2023-06-07T08:14:29.777516Z"
    },
    "tags": []
   },
   "outputs": [],
   "source": [
    "if os.uname().nodename == 'lighthouse':\n",
    "    root_path = '/home/andbro/'\n",
    "    data_path = '/home/andbro/kilauea-data/'\n",
    "    archive_path = '/home/andbro/freenas/'\n",
    "elif os.uname().nodename == 'kilauea':\n",
    "    root_path = '/home/brotzer/'\n",
    "    data_path = '/import/kilauea-data/'\n",
    "    archive_path = '/import/freenas-ffb-01-data/'"
   ]
  },
  {
   "cell_type": "markdown",
   "id": "ec2578ab",
   "metadata": {},
   "source": [
    "## Configurations"
   ]
  },
  {
   "cell_type": "code",
   "execution_count": 5,
   "id": "ba83e3e7",
   "metadata": {
    "ExecuteTime": {
     "end_time": "2023-06-07T08:14:29.795455Z",
     "start_time": "2023-06-07T08:14:29.781611Z"
    },
    "tags": []
   },
   "outputs": [],
   "source": [
    "config = {}\n",
    "\n",
    "config['seeds'] = [\"BW.DROMY..FJV\"]\n",
    "\n",
    "config['path_to_sds'] = archive_path+\"romy_archive/\"\n",
    "\n",
    "config['tbeg'] = UTCDateTime(\"2023-06-02 00:00\")\n",
    "config['tend'] = UTCDateTime(\"2023-06-02 08:00\")\n"
   ]
  },
  {
   "cell_type": "markdown",
   "id": "37c3b765",
   "metadata": {
    "ExecuteTime": {
     "end_time": "2022-11-04T13:39:03.633371Z",
     "start_time": "2022-11-04T13:39:03.631352Z"
    }
   },
   "source": [
    "## Load Data"
   ]
  },
  {
   "cell_type": "code",
   "execution_count": 6,
   "id": "6e6621f5",
   "metadata": {
    "ExecuteTime": {
     "end_time": "2023-06-07T08:15:01.028896Z",
     "start_time": "2023-06-07T08:14:29.796595Z"
    },
    "tags": []
   },
   "outputs": [
    {
     "name": "stdout",
     "output_type": "stream",
     "text": [
      " -> loading BW.DROMY..FJV...\n",
      " -> failed to obtain waveforms!\n"
     ]
    },
    {
     "ename": "IndexError",
     "evalue": "Empty stream object",
     "output_type": "error",
     "traceback": [
      "\u001b[0;31m---------------------------------------------------------------------------\u001b[0m",
      "\u001b[0;31mIndexError\u001b[0m                                Traceback (most recent call last)",
      "Cell \u001b[0;32mIn[6], line 22\u001b[0m\n\u001b[1;32m     19\u001b[0m \u001b[38;5;28;01mfor\u001b[39;00m tr \u001b[38;5;129;01min\u001b[39;00m st0:\n\u001b[1;32m     20\u001b[0m     tr\u001b[38;5;241m.\u001b[39mdata \u001b[38;5;241m=\u001b[39m tr\u001b[38;5;241m.\u001b[39mdata\u001b[38;5;241m*\u001b[39m\u001b[38;5;241m0.59604645e-6\u001b[39m \u001b[38;5;66;03m# V / count  [0.59604645ug  from obsidian]\u001b[39;00m\n\u001b[0;32m---> 22\u001b[0m \u001b[43mst0\u001b[49m\u001b[38;5;241;43m.\u001b[39;49m\u001b[43mplot\u001b[49m\u001b[43m(\u001b[49m\u001b[43mequal_scale\u001b[49m\u001b[38;5;241;43m=\u001b[39;49m\u001b[38;5;28;43;01mFalse\u001b[39;49;00m\u001b[43m)\u001b[49m\n",
      "File \u001b[0;32m~/anaconda3/envs/obs2/lib/python3.10/site-packages/obspy/core/stream.py:1154\u001b[0m, in \u001b[0;36mStream.plot\u001b[0;34m(self, *args, **kwargs)\u001b[0m\n\u001b[1;32m    873\u001b[0m \u001b[38;5;250m\u001b[39m\u001b[38;5;124;03m\"\"\"\u001b[39;00m\n\u001b[1;32m    874\u001b[0m \u001b[38;5;124;03mCreate a waveform plot of the current ObsPy Stream object.\u001b[39;00m\n\u001b[1;32m    875\u001b[0m \n\u001b[0;32m   (...)\u001b[0m\n\u001b[1;32m   1151\u001b[0m \u001b[38;5;124;03m    st.plot()\u001b[39;00m\n\u001b[1;32m   1152\u001b[0m \u001b[38;5;124;03m\"\"\"\u001b[39;00m\n\u001b[1;32m   1153\u001b[0m \u001b[38;5;28;01mfrom\u001b[39;00m \u001b[38;5;21;01mobspy\u001b[39;00m\u001b[38;5;21;01m.\u001b[39;00m\u001b[38;5;21;01mimaging\u001b[39;00m\u001b[38;5;21;01m.\u001b[39;00m\u001b[38;5;21;01mwaveform\u001b[39;00m \u001b[38;5;28;01mimport\u001b[39;00m WaveformPlotting\n\u001b[0;32m-> 1154\u001b[0m waveform \u001b[38;5;241m=\u001b[39m \u001b[43mWaveformPlotting\u001b[49m\u001b[43m(\u001b[49m\u001b[43mstream\u001b[49m\u001b[38;5;241;43m=\u001b[39;49m\u001b[38;5;28;43mself\u001b[39;49m\u001b[43m,\u001b[49m\u001b[43m \u001b[49m\u001b[38;5;241;43m*\u001b[39;49m\u001b[43margs\u001b[49m\u001b[43m,\u001b[49m\u001b[43m \u001b[49m\u001b[38;5;241;43m*\u001b[39;49m\u001b[38;5;241;43m*\u001b[39;49m\u001b[43mkwargs\u001b[49m\u001b[43m)\u001b[49m\n\u001b[1;32m   1155\u001b[0m \u001b[38;5;28;01mreturn\u001b[39;00m waveform\u001b[38;5;241m.\u001b[39mplot_waveform(\u001b[38;5;241m*\u001b[39margs, \u001b[38;5;241m*\u001b[39m\u001b[38;5;241m*\u001b[39mkwargs)\n",
      "File \u001b[0;32m~/anaconda3/envs/obs2/lib/python3.10/site-packages/obspy/imaging/waveform.py:79\u001b[0m, in \u001b[0;36mWaveformPlotting.__init__\u001b[0;34m(self, **kwargs)\u001b[0m\n\u001b[1;32m     77\u001b[0m \u001b[38;5;28;01mif\u001b[39;00m \u001b[38;5;28mlen\u001b[39m(\u001b[38;5;28mself\u001b[39m\u001b[38;5;241m.\u001b[39mstream) \u001b[38;5;241m<\u001b[39m \u001b[38;5;241m1\u001b[39m:\n\u001b[1;32m     78\u001b[0m     msg \u001b[38;5;241m=\u001b[39m \u001b[38;5;124m\"\u001b[39m\u001b[38;5;124mEmpty stream object\u001b[39m\u001b[38;5;124m\"\u001b[39m\n\u001b[0;32m---> 79\u001b[0m     \u001b[38;5;28;01mraise\u001b[39;00m \u001b[38;5;167;01mIndexError\u001b[39;00m(msg)\n\u001b[1;32m     80\u001b[0m \u001b[38;5;28mself\u001b[39m\u001b[38;5;241m.\u001b[39mstream \u001b[38;5;241m=\u001b[39m \u001b[38;5;28mself\u001b[39m\u001b[38;5;241m.\u001b[39mstream\u001b[38;5;241m.\u001b[39mcopy()\n\u001b[1;32m     81\u001b[0m \u001b[38;5;66;03m# Type of the plot.\u001b[39;00m\n",
      "\u001b[0;31mIndexError\u001b[0m: Empty stream object"
     ]
    }
   ],
   "source": [
    "from andbro__read_sds import __read_sds\n",
    "from obspy import Stream, UTCDateTime\n",
    "\n",
    "st0 = Stream()\n",
    "\n",
    "for seed in config['seeds']:\n",
    "\n",
    "    print(f\" -> loading {seed}...\")\n",
    "\n",
    "    try:\n",
    "        st00 = __read_sds(config['path_to_sds'], seed, config['tbeg'], config['tend'], data_format='MSEED')\n",
    "    except:\n",
    "        print(f\" -> failed for {seed}\")\n",
    "\n",
    "    st0 += st00\n",
    "\n",
    "st0 = st0.sort()\n",
    "\n",
    "for tr in st0:\n",
    "    tr.data = tr.data*0.59604645e-6 # V / count  [0.59604645ug  from obsidian]\n",
    "\n",
    "st0.plot(equal_scale=False);"
   ]
  },
  {
   "cell_type": "markdown",
   "id": "b5d469e1",
   "metadata": {
    "ExecuteTime": {
     "end_time": "2023-06-02T09:25:59.805610Z",
     "start_time": "2023-06-02T09:25:59.803856Z"
    }
   },
   "source": [
    "### Load PSD Spectra"
   ]
  },
  {
   "cell_type": "code",
   "execution_count": null,
   "id": "907bccbe",
   "metadata": {
    "ExecuteTime": {
     "end_time": "2023-06-07T08:15:01.710076Z",
     "start_time": "2023-06-07T08:15:01.030029Z"
    },
    "tags": []
   },
   "outputs": [],
   "source": [
    "rv1 = read_pickle(data_path+\"psd_2023-06-02_RV_sagnac_geoshardware_decreasingamplitude.pkl\")\n",
    "rv2 = read_pickle(data_path+\"psd_2023-06-02_RV_sagnac_geoshardware_constantamplitude.pkl\")\n",
    "rv3 = read_pickle(data_path+\"psd_2023-06-02_RV_sagnac_geoshardware_3hour.pkl\")"
   ]
  },
  {
   "cell_type": "code",
   "execution_count": null,
   "id": "8c6ed7dd",
   "metadata": {},
   "outputs": [],
   "source": []
  },
  {
   "cell_type": "markdown",
   "id": "1702fcf4",
   "metadata": {},
   "source": [
    "## Plotting"
   ]
  },
  {
   "cell_type": "code",
   "execution_count": null,
   "id": "2e0db04b",
   "metadata": {
    "ExecuteTime": {
     "end_time": "2023-06-07T08:40:20.276994Z",
     "start_time": "2023-06-07T08:39:59.890815Z"
    }
   },
   "outputs": [],
   "source": [
    "fig, ax = plt.subplots(3,1,figsize=(15,10))\n",
    "\n",
    "ax[0].plot(st0[0].times()/3600, st0[0].data, color=\"black\")\n",
    "\n",
    "ax[0].fill_betweenx([0,2], 0, 2, color=\"tab:orange\", alpha=0.4)\n",
    "ax[0].fill_betweenx([0,2], 2, 2.5, color=\"tab:green\", alpha=0.4)\n",
    "ax[0].fill_betweenx([0,2], 3, 6, color=\"tab:red\", alpha=0.4)\n",
    "\n",
    "ax[0].set_ylabel(\"Amp. (V)\")\n",
    "ax[0].set_xlabel(\"Time (hours)\")\n",
    "\n",
    "# ax[1].semilogy(rv1.frequencies, rv1.fjz_psd, alpha=0.5, color=\"tab:orange\")\n",
    "# ax[1].semilogy(rv2.frequencies, rv2.fjz_psd, alpha=0.5, color=\"tab:green\")\n",
    "# ax[1].semilogy(rv3.frequencies, rv3.fjz_psd, alpha=0.5, color=\"tab:red\")\n",
    "\n",
    "ax[1].loglog(rv1.frequencies, rv1.fjz_psd, alpha=0.5, color=\"tab:orange\")\n",
    "ax[1].loglog(rv2.frequencies, rv2.fjz_psd, alpha=0.5, color=\"tab:green\")\n",
    "ax[1].loglog(rv3.frequencies, rv3.fjz_psd, alpha=0.5, color=\"tab:red\")\n",
    "\n",
    "\n",
    "ax[1].set_xlim(0, 2500)\n",
    "ax[1].set_ylabel(\"PSD ($V^2 /HZ$)\")\n",
    "ax[1].set_xlabel(\"Frequency (Hz)\")\n",
    "\n",
    "\n",
    "ax[2].semilogy(rv1.frequencies, rv1.fjz_psd, alpha=0.5, color=\"tab:orange\")\n",
    "ax[2].semilogy(rv2.frequencies, rv2.fjz_psd, alpha=0.5, color=\"tab:green\")\n",
    "ax[2].semilogy(rv3.frequencies, rv3.fjz_psd, alpha=0.5, color=\"tab:red\")\n",
    "\n",
    "ax[2].set_xlim(300, 600)\n",
    "ax[2].set_ylabel(\"PSD ($V^2 /HZ$)\")\n",
    "ax[2].set_xlabel(\"Frequency (Hz)\")\n",
    "\n",
    "plt.show();"
   ]
  },
  {
   "cell_type": "code",
   "execution_count": null,
   "id": "155033e1",
   "metadata": {},
   "outputs": [],
   "source": []
  },
  {
   "cell_type": "code",
   "execution_count": null,
   "id": "cd5fbdb0",
   "metadata": {},
   "outputs": [],
   "source": []
  },
  {
   "cell_type": "code",
   "execution_count": null,
   "id": "f5283845",
   "metadata": {
    "ExecuteTime": {
     "end_time": "2023-06-07T08:15:28.582624Z",
     "start_time": "2023-06-07T08:15:28.308020Z"
    }
   },
   "outputs": [],
   "source": [
    "rv4 = read_pickle(data_path+\"psd_2023-06-04_RV_test2.pkl\")\n",
    "rv4['fjz_psd_db'] = 20*log10(rv4.fjz_psd)"
   ]
  },
  {
   "cell_type": "code",
   "execution_count": null,
   "id": "2b43d757",
   "metadata": {
    "ExecuteTime": {
     "end_time": "2023-06-07T08:15:29.789610Z",
     "start_time": "2023-06-07T08:15:28.583839Z"
    }
   },
   "outputs": [],
   "source": [
    "font = 12\n",
    "\n",
    "fig, ax = plt.subplots(1,1,figsize=(12,8))\n",
    "\n",
    "\n",
    "ax.semilogx(rv4.frequencies, rv4.fjz_psd_db, alpha=0.5, color=\"tab:blue\", label=\"before\")\n",
    "\n",
    "ax.semilogx(rv4.frequencies, rv4.fjz_psd_db, alpha=0.5, color=\"tab:purple\", label=\"noise\")\n",
    "\n",
    "plt.grid(alpha=0.2)\n",
    "plt.xlim(1e-2, 2.5e3)\n",
    "plt.xlim(545, 560)\n",
    "plt.xlabel(\"Frequency (Hz)\", fontsize=font)\n",
    "plt.ylabel(f\"PSD (dB rel. to (1 $V^2$/Hz))\", fontsize=font)\n",
    "plt.legend(loc=2)\n",
    "\n",
    "plt.show();"
   ]
  },
  {
   "cell_type": "code",
   "execution_count": null,
   "id": "cb3ecb63",
   "metadata": {},
   "outputs": [],
   "source": []
  },
  {
   "cell_type": "code",
   "execution_count": null,
   "id": "0e491694-b3c8-497d-a6d0-5df3d288ee10",
   "metadata": {},
   "outputs": [],
   "source": []
  }
 ],
 "metadata": {
  "kernelspec": {
   "display_name": "Python 3 (ipykernel)",
   "language": "python",
   "name": "python3"
  },
  "language_info": {
   "codemirror_mode": {
    "name": "ipython",
    "version": 3
   },
   "file_extension": ".py",
   "mimetype": "text/x-python",
   "name": "python",
   "nbconvert_exporter": "python",
   "pygments_lexer": "ipython3",
   "version": "3.10.12"
  },
  "latex_envs": {
   "LaTeX_envs_menu_present": true,
   "autoclose": false,
   "autocomplete": true,
   "bibliofile": "biblio.bib",
   "cite_by": "apalike",
   "current_citInitial": 1,
   "eqLabelWithNumbers": true,
   "eqNumInitial": 1,
   "hotkeys": {
    "equation": "Ctrl-E",
    "itemize": "Ctrl-I"
   },
   "labels_anchors": false,
   "latex_user_defs": false,
   "report_style_numbering": false,
   "user_envs_cfg": false
  },
  "toc": {
   "base_numbering": 1,
   "nav_menu": {},
   "number_sections": true,
   "sideBar": true,
   "skip_h1_title": false,
   "title_cell": "Table of Contents",
   "title_sidebar": "Contents",
   "toc_cell": false,
   "toc_position": {},
   "toc_section_display": true,
   "toc_window_display": false
  },
  "varInspector": {
   "cols": {
    "lenName": 16,
    "lenType": 16,
    "lenVar": 40
   },
   "kernels_config": {
    "python": {
     "delete_cmd_postfix": "",
     "delete_cmd_prefix": "del ",
     "library": "var_list.py",
     "varRefreshCmd": "print(var_dic_list())"
    },
    "r": {
     "delete_cmd_postfix": ") ",
     "delete_cmd_prefix": "rm(",
     "library": "var_list.r",
     "varRefreshCmd": "cat(var_dic_list()) "
    }
   },
   "types_to_exclude": [
    "module",
    "function",
    "builtin_function_or_method",
    "instance",
    "_Feature"
   ],
   "window_display": false
  }
 },
 "nbformat": 4,
 "nbformat_minor": 5
}
