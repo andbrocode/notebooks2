{
 "cells": [
  {
   "cell_type": "markdown",
   "id": "22f5c8c9",
   "metadata": {
    "ExecuteTime": {
     "end_time": "2022-10-28T13:00:52.763484Z",
     "start_time": "2022-10-28T13:00:52.761516Z"
    }
   },
   "source": [
    "## Sagnac Frequency - Westring Spectra"
   ]
  },
  {
   "cell_type": "markdown",
   "id": "1cd32aed",
   "metadata": {},
   "source": []
  },
  {
   "cell_type": "markdown",
   "id": "185b1a0b",
   "metadata": {},
   "source": [
    "## Imports"
   ]
  },
  {
   "cell_type": "code",
   "execution_count": 1,
   "id": "818caf4c",
   "metadata": {
    "ExecuteTime": {
     "end_time": "2023-06-07T08:14:29.776301Z",
     "start_time": "2023-06-07T08:14:27.307331Z"
    }
   },
   "outputs": [],
   "source": [
    "import os\n",
    "import matplotlib.pyplot as plt\n",
    "\n",
    "from datetime import datetime, date\n",
    "from pandas import DataFrame, read_pickle, date_range, concat, read_csv\n",
    "from obspy import UTCDateTime\n",
    "from numpy import log10"
   ]
  },
  {
   "cell_type": "code",
   "execution_count": 2,
   "id": "b83c9987",
   "metadata": {
    "ExecuteTime": {
     "end_time": "2023-06-07T08:14:29.779880Z",
     "start_time": "2023-06-07T08:14:29.777516Z"
    }
   },
   "outputs": [],
   "source": [
    "if os.uname().nodename == 'lighthouse':\n",
    "    root_path = '/home/andbro/'\n",
    "    data_path = '/home/andbro/kilauea-data/'\n",
    "    archive_path = '/home/andbro/freenas/'\n",
    "elif os.uname().nodename == 'kilauea':\n",
    "    root_path = '/home/brotzer/'\n",
    "    data_path = '/import/kilauea-data/'\n",
    "    archive_path = '/import/freenas-ffb-01-data/'"
   ]
  },
  {
   "cell_type": "markdown",
   "id": "ec2578ab",
   "metadata": {},
   "source": [
    "## Configurations"
   ]
  },
  {
   "cell_type": "code",
   "execution_count": 3,
   "id": "ba83e3e7",
   "metadata": {
    "ExecuteTime": {
     "end_time": "2023-06-07T08:14:29.795455Z",
     "start_time": "2023-06-07T08:14:29.781611Z"
    }
   },
   "outputs": [],
   "source": [
    "config = {}\n",
    "\n",
    "config['seeds'] = [\"BW.DROMY..FJV\"]\n",
    "\n",
    "config['path_to_sds'] = archive_path+\"romy_archive/\"\n",
    "\n",
    "config['tbeg'] = UTCDateTime(\"2023-06-02 00:00\")\n",
    "config['tend'] = UTCDateTime(\"2023-06-02 08:00\")\n"
   ]
  },
  {
   "cell_type": "markdown",
   "id": "37c3b765",
   "metadata": {
    "ExecuteTime": {
     "end_time": "2022-11-04T13:39:03.633371Z",
     "start_time": "2022-11-04T13:39:03.631352Z"
    }
   },
   "source": [
    "## Load Data"
   ]
  },
  {
   "cell_type": "code",
   "execution_count": 4,
   "id": "6e6621f5",
   "metadata": {
    "ExecuteTime": {
     "end_time": "2023-06-07T08:15:01.028896Z",
     "start_time": "2023-06-07T08:14:29.796595Z"
    }
   },
   "outputs": [
    {
     "name": "stdout",
     "output_type": "stream",
     "text": [
      " -> loading BW.DROMY..FJV...\n"
     ]
    },
    {
     "data": {
      "image/png": "[encoded data removed]",
      "text/plain": [
       "<Figure size 800x250 with 1 Axes>"
      ]
     },
     "metadata": {},
     "output_type": "display_data"
    }
   ],
   "source": [
    "from andbro__read_sds import __read_sds\n",
    "from obspy import Stream, UTCDateTime\n",
    "\n",
    "st0 = Stream()\n",
    "\n",
    "for seed in config['seeds']:\n",
    "\n",
    "    print(f\" -> loading {seed}...\")\n",
    "    \n",
    "    try:\n",
    "        st00 = __read_sds(config['path_to_sds'], seed, config['tbeg'], config['tend'], data_format='MSEED')\n",
    "    except:\n",
    "        print(f\" -> failed for {seed}\")\n",
    "        \n",
    "    st0 += st00\n",
    "\n",
    "st0 = st0.sort() \n",
    "   \n",
    "for tr in st0:\n",
    "    tr.data = tr.data*0.59604645e-6 # V / count  [0.59604645ug  from obsidian]\n",
    "    \n",
    "st0.plot(equal_scale=False);"
   ]
  },
  {
   "cell_type": "markdown",
   "id": "b5d469e1",
   "metadata": {
    "ExecuteTime": {
     "end_time": "2023-06-02T09:25:59.805610Z",
     "start_time": "2023-06-02T09:25:59.803856Z"
    }
   },
   "source": [
    "### Load PSD Spectra"
   ]
  },
  {
   "cell_type": "code",
   "execution_count": 5,
   "id": "907bccbe",
   "metadata": {
    "ExecuteTime": {
     "end_time": "2023-06-07T08:15:01.710076Z",
     "start_time": "2023-06-07T08:15:01.030029Z"
    }
   },
   "outputs": [
    {
     "ename": "FileNotFoundError",
     "evalue": "[Errno 2] No such file or directory: '/import/kilauea-data/psd_2023-06-02_RV_sagnac_geoshardware_decreasingamplitude.pkl'",
     "output_type": "error",
     "traceback": [
      "\u001b[0;31m---------------------------------------------------------------------------\u001b[0m",
      "\u001b[0;31mFileNotFoundError\u001b[0m                         Traceback (most recent call last)",
      "Cell \u001b[0;32mIn[5], line 1\u001b[0m\n\u001b[0;32m----> 1\u001b[0m rv1 \u001b[38;5;241m=\u001b[39m \u001b[43mread_pickle\u001b[49m\u001b[43m(\u001b[49m\u001b[43mdata_path\u001b[49m\u001b[38;5;241;43m+\u001b[39;49m\u001b[38;5;124;43m\"\u001b[39;49m\u001b[38;5;124;43mpsd_2023-06-02_RV_sagnac_geoshardware_decreasingamplitude.pkl\u001b[39;49m\u001b[38;5;124;43m\"\u001b[39;49m\u001b[43m)\u001b[49m\n\u001b[1;32m      2\u001b[0m rv2 \u001b[38;5;241m=\u001b[39m read_pickle(data_path\u001b[38;5;241m+\u001b[39m\u001b[38;5;124m\"\u001b[39m\u001b[38;5;124mpsd_2023-06-02_RV_sagnac_geoshardware_constantamplitude.pkl\u001b[39m\u001b[38;5;124m\"\u001b[39m)\n\u001b[1;32m      3\u001b[0m rv3 \u001b[38;5;241m=\u001b[39m read_pickle(data_path\u001b[38;5;241m+\u001b[39m\u001b[38;5;124m\"\u001b[39m\u001b[38;5;124mpsd_2023-06-02_RV_sagnac_geoshardware_3hour.pkl\u001b[39m\u001b[38;5;124m\"\u001b[39m)\n",
      "File \u001b[0;32m~/anaconda3/envs/obs2/lib/python3.9/site-packages/pandas/io/pickle.py:190\u001b[0m, in \u001b[0;36mread_pickle\u001b[0;34m(filepath_or_buffer, compression, storage_options)\u001b[0m\n\u001b[1;32m    124\u001b[0m \u001b[38;5;250m\u001b[39m\u001b[38;5;124;03m\"\"\"\u001b[39;00m\n\u001b[1;32m    125\u001b[0m \u001b[38;5;124;03mLoad pickled pandas object (or any object) from file.\u001b[39;00m\n\u001b[1;32m    126\u001b[0m \n\u001b[0;32m   (...)\u001b[0m\n\u001b[1;32m    187\u001b[0m \u001b[38;5;124;03m4    4    9\u001b[39;00m\n\u001b[1;32m    188\u001b[0m \u001b[38;5;124;03m\"\"\"\u001b[39;00m\n\u001b[1;32m    189\u001b[0m excs_to_catch \u001b[38;5;241m=\u001b[39m (\u001b[38;5;167;01mAttributeError\u001b[39;00m, \u001b[38;5;167;01mImportError\u001b[39;00m, \u001b[38;5;167;01mModuleNotFoundError\u001b[39;00m, \u001b[38;5;167;01mTypeError\u001b[39;00m)\n\u001b[0;32m--> 190\u001b[0m \u001b[38;5;28;01mwith\u001b[39;00m \u001b[43mget_handle\u001b[49m\u001b[43m(\u001b[49m\n\u001b[1;32m    191\u001b[0m \u001b[43m    \u001b[49m\u001b[43mfilepath_or_buffer\u001b[49m\u001b[43m,\u001b[49m\n\u001b[1;32m    192\u001b[0m \u001b[43m    \u001b[49m\u001b[38;5;124;43m\"\u001b[39;49m\u001b[38;5;124;43mrb\u001b[39;49m\u001b[38;5;124;43m\"\u001b[39;49m\u001b[43m,\u001b[49m\n\u001b[1;32m    193\u001b[0m \u001b[43m    \u001b[49m\u001b[43mcompression\u001b[49m\u001b[38;5;241;43m=\u001b[39;49m\u001b[43mcompression\u001b[49m\u001b[43m,\u001b[49m\n\u001b[1;32m    194\u001b[0m \u001b[43m    \u001b[49m\u001b[43mis_text\u001b[49m\u001b[38;5;241;43m=\u001b[39;49m\u001b[38;5;28;43;01mFalse\u001b[39;49;00m\u001b[43m,\u001b[49m\n\u001b[1;32m    195\u001b[0m \u001b[43m    \u001b[49m\u001b[43mstorage_options\u001b[49m\u001b[38;5;241;43m=\u001b[39;49m\u001b[43mstorage_options\u001b[49m\u001b[43m,\u001b[49m\n\u001b[1;32m    196\u001b[0m \u001b[43m\u001b[49m\u001b[43m)\u001b[49m \u001b[38;5;28;01mas\u001b[39;00m handles:\n\u001b[1;32m    197\u001b[0m \n\u001b[1;32m    198\u001b[0m     \u001b[38;5;66;03m# 1) try standard library Pickle\u001b[39;00m\n\u001b[1;32m    199\u001b[0m     \u001b[38;5;66;03m# 2) try pickle_compat (older pandas version) to handle subclass changes\u001b[39;00m\n\u001b[1;32m    200\u001b[0m     \u001b[38;5;66;03m# 3) try pickle_compat with latin-1 encoding upon a UnicodeDecodeError\u001b[39;00m\n\u001b[1;32m    202\u001b[0m     \u001b[38;5;28;01mtry\u001b[39;00m:\n\u001b[1;32m    203\u001b[0m         \u001b[38;5;66;03m# TypeError for Cython complaints about object.__new__ vs Tick.__new__\u001b[39;00m\n\u001b[1;32m    204\u001b[0m         \u001b[38;5;28;01mtry\u001b[39;00m:\n",
      "File \u001b[0;32m~/anaconda3/envs/obs2/lib/python3.9/site-packages/pandas/io/common.py:865\u001b[0m, in \u001b[0;36mget_handle\u001b[0;34m(path_or_buf, mode, encoding, compression, memory_map, is_text, errors, storage_options)\u001b[0m\n\u001b[1;32m    856\u001b[0m         handle \u001b[38;5;241m=\u001b[39m \u001b[38;5;28mopen\u001b[39m(\n\u001b[1;32m    857\u001b[0m             handle,\n\u001b[1;32m    858\u001b[0m             ioargs\u001b[38;5;241m.\u001b[39mmode,\n\u001b[0;32m   (...)\u001b[0m\n\u001b[1;32m    861\u001b[0m             newline\u001b[38;5;241m=\u001b[39m\u001b[38;5;124m\"\u001b[39m\u001b[38;5;124m\"\u001b[39m,\n\u001b[1;32m    862\u001b[0m         )\n\u001b[1;32m    863\u001b[0m     \u001b[38;5;28;01melse\u001b[39;00m:\n\u001b[1;32m    864\u001b[0m         \u001b[38;5;66;03m# Binary mode\u001b[39;00m\n\u001b[0;32m--> 865\u001b[0m         handle \u001b[38;5;241m=\u001b[39m \u001b[38;5;28;43mopen\u001b[39;49m\u001b[43m(\u001b[49m\u001b[43mhandle\u001b[49m\u001b[43m,\u001b[49m\u001b[43m \u001b[49m\u001b[43mioargs\u001b[49m\u001b[38;5;241;43m.\u001b[39;49m\u001b[43mmode\u001b[49m\u001b[43m)\u001b[49m\n\u001b[1;32m    866\u001b[0m     handles\u001b[38;5;241m.\u001b[39mappend(handle)\n\u001b[1;32m    868\u001b[0m \u001b[38;5;66;03m# Convert BytesIO or file objects passed with an encoding\u001b[39;00m\n",
      "\u001b[0;31mFileNotFoundError\u001b[0m: [Errno 2] No such file or directory: '/import/kilauea-data/psd_2023-06-02_RV_sagnac_geoshardware_decreasingamplitude.pkl'"
     ]
    }
   ],
   "source": [
    "rv1 = read_pickle(data_path+\"psd_2023-06-02_RV_sagnac_geoshardware_decreasingamplitude.pkl\")\n",
    "rv2 = read_pickle(data_path+\"psd_2023-06-02_RV_sagnac_geoshardware_constantamplitude.pkl\")\n",
    "rv3 = read_pickle(data_path+\"psd_2023-06-02_RV_sagnac_geoshardware_3hour.pkl\")"
   ]
  },
  {
   "cell_type": "code",
   "execution_count": null,
   "id": "8c6ed7dd",
   "metadata": {},
   "outputs": [],
   "source": []
  },
  {
   "cell_type": "markdown",
   "id": "1702fcf4",
   "metadata": {},
   "source": [
    "## Plotting"
   ]
  },
  {
   "cell_type": "code",
   "execution_count": null,
   "id": "2e0db04b",
   "metadata": {
    "ExecuteTime": {
     "end_time": "2023-06-07T08:40:20.276994Z",
     "start_time": "2023-06-07T08:39:59.890815Z"
    }
   },
   "outputs": [],
   "source": [
    "fig, ax = plt.subplots(3,1,figsize=(15,10))\n",
    "\n",
    "ax[0].plot(st0[0].times()/3600, st0[0].data, color=\"black\")\n",
    "\n",
    "ax[0].fill_betweenx([0,2], 0, 2, color=\"tab:orange\", alpha=0.4)\n",
    "ax[0].fill_betweenx([0,2], 2, 2.5, color=\"tab:green\", alpha=0.4)\n",
    "ax[0].fill_betweenx([0,2], 3, 6, color=\"tab:red\", alpha=0.4)\n",
    "\n",
    "ax[0].set_ylabel(\"Amp. (V)\")\n",
    "ax[0].set_xlabel(\"Time (hours)\")\n",
    "\n",
    "# ax[1].semilogy(rv1.frequencies, rv1.fjz_psd, alpha=0.5, color=\"tab:orange\")\n",
    "# ax[1].semilogy(rv2.frequencies, rv2.fjz_psd, alpha=0.5, color=\"tab:green\")\n",
    "# ax[1].semilogy(rv3.frequencies, rv3.fjz_psd, alpha=0.5, color=\"tab:red\")\n",
    "\n",
    "ax[1].loglog(rv1.frequencies, rv1.fjz_psd, alpha=0.5, color=\"tab:orange\")\n",
    "ax[1].loglog(rv2.frequencies, rv2.fjz_psd, alpha=0.5, color=\"tab:green\")\n",
    "ax[1].loglog(rv3.frequencies, rv3.fjz_psd, alpha=0.5, color=\"tab:red\")\n",
    "\n",
    "\n",
    "ax[1].set_xlim(0, 2500)\n",
    "ax[1].set_ylabel(\"PSD ($V^2 /HZ$)\")\n",
    "ax[1].set_xlabel(\"Frequency (Hz)\")\n",
    "\n",
    "\n",
    "ax[2].semilogy(rv1.frequencies, rv1.fjz_psd, alpha=0.5, color=\"tab:orange\")\n",
    "ax[2].semilogy(rv2.frequencies, rv2.fjz_psd, alpha=0.5, color=\"tab:green\")\n",
    "ax[2].semilogy(rv3.frequencies, rv3.fjz_psd, alpha=0.5, color=\"tab:red\")\n",
    "\n",
    "ax[2].set_xlim(300, 600)\n",
    "ax[2].set_ylabel(\"PSD ($V^2 /HZ$)\")\n",
    "ax[2].set_xlabel(\"Frequency (Hz)\")\n",
    "\n",
    "plt.show();"
   ]
  },
  {
   "cell_type": "code",
   "execution_count": null,
   "id": "155033e1",
   "metadata": {},
   "outputs": [],
   "source": []
  },
  {
   "cell_type": "code",
   "execution_count": null,
   "id": "cd5fbdb0",
   "metadata": {},
   "outputs": [],
   "source": []
  },
  {
   "cell_type": "code",
   "execution_count": null,
   "id": "f5283845",
   "metadata": {
    "ExecuteTime": {
     "end_time": "2023-06-07T08:15:28.582624Z",
     "start_time": "2023-06-07T08:15:28.308020Z"
    }
   },
   "outputs": [],
   "source": [
    "rv4 = read_pickle(data_path+\"psd_2023-06-04_RV_test2.pkl\")\n",
    "rv4['fjz_psd_db'] = 20*log10(rv4.fjz_psd)"
   ]
  },
  {
   "cell_type": "code",
   "execution_count": null,
   "id": "2b43d757",
   "metadata": {
    "ExecuteTime": {
     "end_time": "2023-06-07T08:15:29.789610Z",
     "start_time": "2023-06-07T08:15:28.583839Z"
    }
   },
   "outputs": [],
   "source": [
    "font = 12\n",
    "\n",
    "fig, ax = plt.subplots(1,1,figsize=(12,8))\n",
    "\n",
    "\n",
    "ax.semilogx(rv4.frequencies, rv4.fjz_psd_db, alpha=0.5, color=\"tab:blue\", label=\"before\")\n",
    "\n",
    "ax.semilogx(rv4.frequencies, rv4.fjz_psd_db, alpha=0.5, color=\"tab:purple\", label=\"noise\")\n",
    "\n",
    "plt.grid(alpha=0.2)\n",
    "plt.xlim(1e-2, 2.5e3)\n",
    "plt.xlim(545, 560)\n",
    "plt.xlabel(\"Frequency (Hz)\", fontsize=font)\n",
    "plt.ylabel(f\"PSD (dB rel. to (1 $V^2$/Hz))\", fontsize=font)\n",
    "plt.legend(loc=2)\n",
    "\n",
    "plt.show();"
   ]
  },
  {
   "cell_type": "code",
   "execution_count": null,
   "id": "cb3ecb63",
   "metadata": {},
   "outputs": [],
   "source": []
  },
  {
   "cell_type": "code",
   "execution_count": null,
   "id": "0e491694-b3c8-497d-a6d0-5df3d288ee10",
   "metadata": {},
   "outputs": [],
   "source": []
  }
 ],
 "metadata": {
  "kernelspec": {
   "display_name": "Python 3 (ipykernel)",
   "language": "python",
   "name": "python3"
  },
  "language_info": {
   "codemirror_mode": {
    "name": "ipython",
    "version": 3
   },
   "file_extension": ".py",
   "mimetype": "text/x-python",
   "name": "python",
   "nbconvert_exporter": "python",
   "pygments_lexer": "ipython3",
   "version": "3.9.16"
  },
  "latex_envs": {
   "LaTeX_envs_menu_present": true,
   "autoclose": false,
   "autocomplete": true,
   "bibliofile": "biblio.bib",
   "cite_by": "apalike",
   "current_citInitial": 1,
   "eqLabelWithNumbers": true,
   "eqNumInitial": 1,
   "hotkeys": {
    "equation": "Ctrl-E",
    "itemize": "Ctrl-I"
   },
   "labels_anchors": false,
   "latex_user_defs": false,
   "report_style_numbering": false,
   "user_envs_cfg": false
  },
  "toc": {
   "base_numbering": 1,
   "nav_menu": {},
   "number_sections": true,
   "sideBar": true,
   "skip_h1_title": false,
   "title_cell": "Table of Contents",
   "title_sidebar": "Contents",
   "toc_cell": false,
   "toc_position": {},
   "toc_section_display": true,
   "toc_window_display": false
  },
  "varInspector": {
   "cols": {
    "lenName": 16,
    "lenType": 16,
    "lenVar": 40
   },
   "kernels_config": {
    "python": {
     "delete_cmd_postfix": "",
     "delete_cmd_prefix": "del ",
     "library": "var_list.py",
     "varRefreshCmd": "print(var_dic_list())"
    },
    "r": {
     "delete_cmd_postfix": ") ",
     "delete_cmd_prefix": "rm(",
     "library": "var_list.r",
     "varRefreshCmd": "cat(var_dic_list()) "
    }
   },
   "types_to_exclude": [
    "module",
    "function",
    "builtin_function_or_method",
    "instance",
    "_Feature"
   ],
   "window_display": false
  }
 },
 "nbformat": 4,
 "nbformat_minor": 5
}
