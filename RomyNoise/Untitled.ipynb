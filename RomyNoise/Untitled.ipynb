{
 "cells": [
  {
   "cell_type": "markdown",
   "id": "b5c2e79b-ce30-40cb-bdfe-edee16a3b566",
   "metadata": {
    "tags": []
   },
   "source": [
    "## ROMY Noise"
   ]
  },
  {
   "cell_type": "markdown",
   "id": "a72a0ed0-241d-4106-81aa-e8cefbcbad10",
   "metadata": {},
   "source": []
  },
  {
   "cell_type": "code",
   "execution_count": 2,
   "id": "666efe15-4e1f-4610-95d0-6eb42520c284",
   "metadata": {
    "tags": []
   },
   "outputs": [],
   "source": [
    "import os\n",
    "import gc\n",
    "import obspy as obs\n",
    "import matplotlib.pyplot as plt\n",
    "import numpy as np\n",
    "import pandas as pd"
   ]
  },
  {
   "cell_type": "code",
   "execution_count": 3,
   "id": "57b2307e-34d0-453f-96ba-a7691a9868cf",
   "metadata": {
    "tags": []
   },
   "outputs": [],
   "source": [
    "if os.uname().nodename == 'lighthouse':\n",
    "    root_path = '/home/andbro/'\n",
    "    data_path = '/home/andbro/kilauea-data/'\n",
    "    archive_path = '/home/andbro/freenas/'\n",
    "    bay_path = '/home/andbro/bay200/'\n",
    "elif os.uname().nodename == 'kilauea':\n",
    "    root_path = '/home/brotzer/'\n",
    "    data_path = '/import/kilauea-data/'\n",
    "    archive_path = '/import/freenas-ffb-01-data/'\n",
    "    bay_path = '/bay200/'\n",
    "elif os.uname().nodename == 'lin-ffb-01':\n",
    "    root_path = '/home/brotzer/'\n",
    "    data_path = '/import/kilauea-data/'\n",
    "    archive_path = '/import/freenas-ffb-01-data/'\n",
    "    bay_path = '/bay200/'"
   ]
  },
  {
   "cell_type": "code",
   "execution_count": null,
   "id": "9ffc9f36-9174-47b0-b6f8-4d59a8a2fbff",
   "metadata": {},
   "outputs": [],
   "source": [
    "config = {}\n",
    "\n",
    "config['path_to_models'] = data_path+f\"LNM2/PSDS/\""
   ]
  },
  {
   "cell_type": "markdown",
   "id": "905875ce-5833-4281-b3fb-dae7a0fc981e",
   "metadata": {},
   "source": [
    "## Load Data"
   ]
  },
  {
   "cell_type": "code",
   "execution_count": 4,
   "id": "f1286b92-3695-4465-a9af-d8cecffdbfa1",
   "metadata": {
    "tags": []
   },
   "outputs": [],
   "source": [
    "df_models = pd.read_csv(data_path+\"LNM/data/FINAL/\"+\"TLNM_to_RLNM.csv\")"
   ]
  },
  {
   "cell_type": "code",
   "execution_count": 7,
   "id": "887bc7ee-ed04-4030-8b9d-f4537cbeefbe",
   "metadata": {
    "tags": []
   },
   "outputs": [],
   "source": [
    "date_str = \"2024-01-01_2024-03-31\"\n",
    "\n",
    "romy_z = pd.read_pickle(data_path+f\"LNM2/data/PSD_statistics_ROMY_BJZ_{date_str}.pkl\")\n",
    "romy_n = pd.read_pickle(data_path+f\"LNM2/data/PSD_statistics_ROMY_BJN_{date_str}.pkl\")\n",
    "romy_e = pd.read_pickle(data_path+f\"LNM2/data/PSD_statistics_ROMY_BJE_{date_str}.pkl\")\n"
   ]
  },
  {
   "cell_type": "code",
   "execution_count": null,
   "id": "41fd3e76-312d-497d-92e6-5a31648ab805",
   "metadata": {},
   "outputs": [],
   "source": []
  },
  {
   "cell_type": "code",
   "execution_count": null,
   "id": "88365084-62a3-45ed-9ec6-cc64ed961dfd",
   "metadata": {},
   "outputs": [],
   "source": []
  },
  {
   "cell_type": "code",
   "execution_count": null,
   "id": "f91ec2b2-386e-428f-8750-a3cfc58caa46",
   "metadata": {},
   "outputs": [],
   "source": []
  }
 ],
 "metadata": {
  "kernelspec": {
   "display_name": "Python 3 (ipykernel)",
   "language": "python",
   "name": "python3"
  },
  "language_info": {
   "codemirror_mode": {
    "name": "ipython",
    "version": 3
   },
   "file_extension": ".py",
   "mimetype": "text/x-python",
   "name": "python",
   "nbconvert_exporter": "python",
   "pygments_lexer": "ipython3",
   "version": "3.10.12"
  }
 },
 "nbformat": 4,
 "nbformat_minor": 5
}
