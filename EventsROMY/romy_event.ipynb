{
 "cells": [
  {
   "cell_type": "markdown",
   "metadata": {},
   "source": [
    "### Importing Libraries"
   ]
  },
  {
   "cell_type": "code",
   "execution_count": 1,
   "metadata": {},
   "outputs": [
    {
     "ename": "FileNotFoundError",
     "evalue": "[Errno 2] No such file or directory: '/home/YOUR_USER/anaconda3/share/proj/epsg'",
     "output_type": "error",
     "traceback": [
      "\u001b[0;31m---------------------------------------------------------------------------\u001b[0m",
      "\u001b[0;31mFileNotFoundError\u001b[0m                         Traceback (most recent call last)",
      "\u001b[0;32m<ipython-input-1-03cac3d4fa0a>\u001b[0m in \u001b[0;36m<module>\u001b[0;34m\u001b[0m\n\u001b[1;32m     19\u001b[0m \u001b[0;32mfrom\u001b[0m \u001b[0mandbro__get_data_archive\u001b[0m \u001b[0;32mimport\u001b[0m \u001b[0m__get_data_archive\u001b[0m\u001b[0;34m\u001b[0m\u001b[0;34m\u001b[0m\u001b[0m\n\u001b[1;32m     20\u001b[0m \u001b[0;34m\u001b[0m\u001b[0m\n\u001b[0;32m---> 21\u001b[0;31m \u001b[0;32mfrom\u001b[0m \u001b[0mmpl_toolkits\u001b[0m\u001b[0;34m.\u001b[0m\u001b[0mbasemap\u001b[0m \u001b[0;32mimport\u001b[0m \u001b[0mBasemap\u001b[0m\u001b[0;34m\u001b[0m\u001b[0;34m\u001b[0m\u001b[0m\n\u001b[0m",
      "\u001b[0;32m~/anaconda3/lib/python3.7/site-packages/mpl_toolkits/basemap/__init__.py\u001b[0m in \u001b[0;36m<module>\u001b[0;34m\u001b[0m\n\u001b[1;32m    163\u001b[0m \u001b[0;31m# create dictionary that maps epsg codes to Basemap kwargs.\u001b[0m\u001b[0;34m\u001b[0m\u001b[0;34m\u001b[0m\u001b[0;34m\u001b[0m\u001b[0m\n\u001b[1;32m    164\u001b[0m \u001b[0mpyproj_datadir\u001b[0m \u001b[0;34m=\u001b[0m \u001b[0mos\u001b[0m\u001b[0;34m.\u001b[0m\u001b[0menviron\u001b[0m\u001b[0;34m[\u001b[0m\u001b[0;34m'PROJ_LIB'\u001b[0m\u001b[0;34m]\u001b[0m\u001b[0;34m\u001b[0m\u001b[0;34m\u001b[0m\u001b[0m\n\u001b[0;32m--> 165\u001b[0;31m \u001b[0mepsgf\u001b[0m \u001b[0;34m=\u001b[0m \u001b[0mopen\u001b[0m\u001b[0;34m(\u001b[0m\u001b[0mos\u001b[0m\u001b[0;34m.\u001b[0m\u001b[0mpath\u001b[0m\u001b[0;34m.\u001b[0m\u001b[0mjoin\u001b[0m\u001b[0;34m(\u001b[0m\u001b[0mpyproj_datadir\u001b[0m\u001b[0;34m,\u001b[0m\u001b[0;34m'epsg'\u001b[0m\u001b[0;34m)\u001b[0m\u001b[0;34m)\u001b[0m\u001b[0;34m\u001b[0m\u001b[0;34m\u001b[0m\u001b[0m\n\u001b[0m\u001b[1;32m    166\u001b[0m \u001b[0mepsg_dict\u001b[0m\u001b[0;34m=\u001b[0m\u001b[0;34m{\u001b[0m\u001b[0;34m}\u001b[0m\u001b[0;34m\u001b[0m\u001b[0;34m\u001b[0m\u001b[0m\n\u001b[1;32m    167\u001b[0m \u001b[0;32mfor\u001b[0m \u001b[0mline\u001b[0m \u001b[0;32min\u001b[0m \u001b[0mepsgf\u001b[0m\u001b[0;34m:\u001b[0m\u001b[0;34m\u001b[0m\u001b[0;34m\u001b[0m\u001b[0m\n",
      "\u001b[0;31mFileNotFoundError\u001b[0m: [Errno 2] No such file or directory: '/home/YOUR_USER/anaconda3/share/proj/epsg'"
     ]
    }
   ],
   "source": [
    "__author__ = 'AndreasBrotzer'\n",
    "\n",
    "\n",
    "##__________________________________________________________________\n",
    "\n",
    "import sys\n",
    "import numpy as np\n",
    "import matplotlib.pyplot as plt \n",
    "import obspy as obs\n",
    "import matplotlib.gridspec as gridspec\n",
    "\n",
    "\n",
    "\n",
    "from scipy import signal, fft\n",
    "from obspy.clients.fdsn import Client, RoutingClient\n",
    "\n",
    "from andbro__get_data_george import __get_data_george\n",
    "from andbro__save_to import __save_to\n",
    "from andbro__get_data_archive import __get_data_archive\n",
    "\n",
    "from mpl_toolkits.basemap import Basemap\n"
   ]
  },
  {
   "cell_type": "markdown",
   "metadata": {},
   "source": [
    "### Defining Methods"
   ]
  },
  {
   "cell_type": "code",
   "execution_count": 7,
   "metadata": {
    "code_folding": [
     1
    ]
   },
   "outputs": [],
   "source": [
    "\n",
    "def __request_event_parameters():\n",
    "     \n",
    "    ## set of global variables \n",
    "    global name, delta_T, dt, freq, source, mag\n",
    "    \n",
    "    ## event name\n",
    "    name = input(\"*\\n* Enter Name of Event:  \")\n",
    "    \n",
    "    ## origin time\n",
    "    dt0 = input(\"*\\n* Enter DateTime (e.g. 2020-06-29 09:52):  \")\n",
    "    \n",
    "    ## check input\n",
    "    while len(dt0) <= 10:\n",
    "        dt0   = input(\"*\\n* --> Try Again (e.g. 2020-06-29 09:52):  \")\n",
    "\n",
    "    ## magnitude \n",
    "    mag = input(\"*\\n* Enter Magnitude of Event:  \")\n",
    "    \n",
    "    ## frequencies for filter\n",
    "    freq0 = input(\"*\\n* Enter Frequency range (e.g. 0.1,1 or 0.1):   \") \n",
    "    \n",
    "    ## duration of the trace\n",
    "    delta = input(\"*\\n* Enter Trace Length (in minutes):   \")\n",
    "\n",
    "    ## source for data querry\n",
    "    source = input(\"*\\n* Enter source [george (default) or archive]: \")\n",
    "\n",
    "\n",
    "    delta_T = float(delta) * 60   \n",
    "    dt   = obs.UTCDateTime(dt0)\n",
    "\n",
    "    freq = [float(idx) for idx in freq0.split(',')]\n",
    "    if len(freq) == 1:\n",
    "        freq = float(freq[0])\n",
    "    if len(source) == 0:\n",
    "        source = 'george'\n",
    "        \n",
    "        \n",
    "    print(\"*\\n* ________________________________________ \\n*\")\n",
    "    print('*\\n* {}   {}   {} \\n*'.format(name,mag,dt))\n"
   ]
  },
  {
   "cell_type": "code",
   "execution_count": 18,
   "metadata": {
    "code_folding": [
     1
    ]
   },
   "outputs": [],
   "source": [
    "\n",
    "def __querry_event_of_catalog(dt, delta_T, mag):\n",
    "\n",
    "    global lon_event, lat_event, event_time, timestring, event_depth\n",
    "\n",
    "    for catalog in [\"IRIS\",\"GFZ\",\"BGR\"]:\n",
    "\n",
    "        try:\n",
    "            ''' get event from client as catalog object '''\n",
    "\n",
    "\n",
    "            try:\n",
    "                event_client = Client(catalog)\n",
    "                cat = event_client.get_events(starttime=dt, endtime=dt+delta_T, minmagnitude=mag)\n",
    "            except:\n",
    "                ## test for slightly lower magnitude (magnitudes vary a little)\n",
    "                mag = str(round(float(mag)-0.1,1))        \n",
    "                cat = event_client.get_events(starttime=dt, endtime=dt+delta_T, minmagnitude=mag)\n",
    "\n",
    "\n",
    "            ## get event attributes \n",
    "            lon_event=cat[0].origins[0].longitude\n",
    "            lat_event=cat[0].origins[0].latitude\n",
    "\n",
    "            event_time  = cat[0].origins[0].time\n",
    "            timestring  = event_time.isoformat()\n",
    "\n",
    "            event_depth = cat[0].origins[0].depth\n",
    "\n",
    "            if not len(cat) == 0:\n",
    "                print('\\n -->  Using Event in {} !!\\n'.format(catalog))\n",
    "                return cat\n",
    "                break\n",
    "\n",
    "        except:\n",
    "            cat = obs.core.event.Catalog()\n",
    "            print('\\n !! Event not found in {} !!\\n'.format(catalog))\n",
    "            sys.exit()        \n"
   ]
  },
  {
   "cell_type": "code",
   "execution_count": 9,
   "metadata": {
    "code_folding": [
     1
    ]
   },
   "outputs": [],
   "source": [
    "\n",
    "def get_stream_data(path,comp,day,year,samplerate):\n",
    "    ''' get stream from romy archive daily files for one component '''\n",
    "    \n",
    "    if comp == 'Z':\n",
    "        name = '{}J{}.D/BW.ROMY.10.{}J{}.D.{}.'.format(str(samplerate),comp,str(samplerate),comp,year)\n",
    "        st = obs.read(path+name+str(day))\n",
    "\n",
    "    else:\n",
    "        name = '{}J{}.D/BW.ROMY..{}J{}.D.{}.'.format(str(samplerate),comp,str(samplerate),comp,year)\n",
    "        st = obs.read(path+name+str(day))\n",
    "        \n",
    "    return st\n",
    "    "
   ]
  },
  {
   "cell_type": "code",
   "execution_count": 10,
   "metadata": {
    "code_folding": [
     1
    ]
   },
   "outputs": [],
   "source": [
    "\n",
    "def get_stream_data_event(path, comp, day, year, samplerate, beg=None, end=None):\n",
    "    ''' get stream from romy archive daily files for one component and one event'''\n",
    "\n",
    "    if day < 10:\n",
    "        day = f\"00{day}\"\n",
    "    elif day >= 10 and day < 100:\n",
    "        day = f\"0{day}\"\n",
    "    \n",
    "    if comp == 'Z':\n",
    "        name = '{}J{}.D/BW.ROMY.10.{}J{}.D.{}.'.format(str(samplerate),comp,str(samplerate),comp,year)\n",
    "        st = obs.read(path+name+str(day),starttime=beg,endtime=end)\n",
    "\n",
    "    else:\n",
    "        name = '{}J{}.D/BW.ROMY..{}J{}.D.{}.'.format(str(samplerate),comp,str(samplerate),comp,year)\n",
    "        st = obs.read(path+name+str(day),starttime=beg,endtime=end)\n",
    "        \n",
    "    return st\n",
    "  "
   ]
  },
  {
   "cell_type": "code",
   "execution_count": 11,
   "metadata": {
    "code_folding": [
     1
    ]
   },
   "outputs": [],
   "source": [
    "\n",
    "def process_traces(st_in,f):\n",
    "    traces = st_in[0]\n",
    "\n",
    "    timeline = np.arange(0, traces.stats.npts / traces.stats.sampling_rate, traces.stats.delta)\n",
    "    \n",
    "    ## remove linear trend\n",
    "    traces.detrend('linear')\n",
    "    \n",
    "   \n",
    "    if type(f) is float:\n",
    "        #print('lowpass applied')\n",
    "        traces.filter('lowpass',freq=f, corners=2, zerophase=True)\n",
    "    elif type(f) is list:\n",
    "        #print('bandpass applied')\n",
    "        traces.filter('bandpass',freqmin=f[0],freqmax=f[1], corners=2, zerophase=True)\n",
    "\n",
    "    ## normalize traces\n",
    "    #traces.data = traces.data/max(abs(traces.data))     \n",
    "    #traces.normalize()\n",
    "    \n",
    "    return timeline, traces\n"
   ]
  },
  {
   "cell_type": "code",
   "execution_count": 12,
   "metadata": {
    "code_folding": [
     1
    ]
   },
   "outputs": [],
   "source": [
    "\n",
    "def draw_map():\n",
    "    ''' equidistant polar plot centered at ROMY'''\n",
    "    \n",
    "    wide, long = [24e6,20e6] \n",
    "    thres=1000\n",
    "    \n",
    "    map1 = Basemap(projection='aeqd',lat_0=lat_OBS,lon_0=lon_OBS,fix_aspect=True,width=wide,height=long,\\\n",
    "                    area_thresh=thres,resolution='l')\n",
    "    \n",
    "    \n",
    "    ### read a shapefile \n",
    "    #map.readshapefile('/home/brotzer/resources/NE_countries/ne_10m_admin_0_countries', name='world', drawbounds=False, color='gray')\n",
    "    \n",
    "    \n",
    "    ''' draw second map for grid '''\n",
    "    map2 = Basemap(projection='aeqd',lat_0=90,lon_0=180,fix_aspect=True,width=wide,height=long,area_thresh=thres)\n",
    "    map2.drawparallels(range(-90, 90, 30),dashes=[1,0], fontsize=8,color='grey')\n",
    "    map2.drawmeridians(range(0, 360, 30),labels=[1,1,1,1],dashes=[1,0],fontsize=10,color='grey',labelstyle='+/-')\n",
    " \n",
    "    ''' draw map items '''\n",
    "    map1.drawcoastlines(linewidth=0.5,antialiased=1)\n",
    "    map1.drawmapboundary(fill_color='lightblue')\n",
    "    map1.fillcontinents(color='lightgrey',lake_color='lightblue')\n",
    "    map1.drawcountries()\n",
    "    \n",
    "    ''' locate  ROMY ringlaser '''\n",
    "    x_obs, y_obs = map1(lon_OBS,lat_OBS)\n",
    "#     obs = map1.plot(x_obs,y_obs,marker='v',color='r',markersize=8,markeredgecolor='k',markeredgewidth=1,alpha=1,zorder=3)\n",
    "    obs = map1.scatter(x_obs, y_obs, marker='v', color='r', s=100, edgecolor='k', linewidth=1, alpha=1, zorder=3)\n",
    "    #plt.annotate('ROMY',xy=(map1(lon_OBS,lat_OBS)),xytext=(map1(15,50)),color='r',arrowprops=dict(arrowstyle=\"->\",color='r'))\n",
    "    \n",
    "    ''' locate event '''\n",
    "    x_ev, y_ev = map1(lon_event,lat_event)\n",
    "    event = map1.scatter(x_ev, y_ev, s=200, marker='*', color='yellow', edgecolor='k', linewidths=0.5, alpha=1, zorder=3)\n",
    "    \n",
    "#    map1.plot(x_ev,y_ev,marker='*',color='yellow',markersize=12,markeredgecolor='k')\n",
    "\n",
    "    legend = plt.legend([obs, event], \n",
    "                        [\"ROMY\", \"Event\"], \n",
    "                        ncol=1, \n",
    "                        bbox_to_anchor=(0.7, 0.0), \n",
    "                        loc='lower left', \n",
    "                        framealpha=0.3)\n"
   ]
  },
  {
   "cell_type": "code",
   "execution_count": 13,
   "metadata": {
    "code_folding": [
     1
    ]
   },
   "outputs": [],
   "source": [
    "\n",
    "def get_distance_great_circle(lon1, lat1, lon2, lat2):\n",
    "    from math import radians, degrees, sin, cos, asin, acos, sqrt\n",
    "    lon1, lat1, lon2, lat2 = map(radians, [lon1, lat1, lon2, lat2])    \n",
    "    \n",
    "    deg = (acos(sin(lat1) * sin(lat2) + cos(lat1) * cos(lat2) * cos(lon1 - lon2)))\n",
    "    \n",
    "    return (6371 * deg , 180 / np.pi * deg) \n"
   ]
  },
  {
   "cell_type": "code",
   "execution_count": 14,
   "metadata": {
    "code_folding": [
     1
    ]
   },
   "outputs": [],
   "source": [
    "\n",
    "def get_baz(lon1, lat1, lon2, lat2):\n",
    "    \n",
    "    wide, long = [24e6,20e6] \n",
    "    \n",
    "    map1 = Basemap(\n",
    "            projection='aeqd',\n",
    "            lat_0=lat_OBS,\n",
    "            lon_0=lon_OBS,\n",
    "            fix_aspect=True,\n",
    "            width=wide,\n",
    "            height=long,\n",
    "            area_thresh=1000,\n",
    "            resolution='l'\n",
    "            )\n",
    "\n",
    "    x_1, y_1 = map1(lon1,lat1)\n",
    "    x_2, y_2 = map1(lon2,lat2)\n",
    "\n",
    "    if x_2 > x_1 and y_2 > y_1:\n",
    "        return float(90-np.rad2deg(np.arctan(abs(y_1-y_2)/abs(x_1-x_2))))\n",
    "    elif x_2 > x_1 and y_2 < y_1:\n",
    "        return float(90+np.rad2deg(np.arctan(abs(y_1-y_2)/abs(x_1-x_2))))\n",
    "    elif x_2 < x_1 and y_2 < y_1:\n",
    "        return float(270-np.rad2deg(np.arctan(abs(y_1-y_2)/abs(x_1-x_2))))\n",
    "    elif x_2 < x_1 and y_2 > y_1:\n",
    "        return float(270+np.rad2deg(np.arctan(abs(y_1-y_2)/abs(x_1-x_2))))\n"
   ]
  },
  {
   "cell_type": "markdown",
   "metadata": {},
   "source": [
    "### Interactively request event paramters"
   ]
  },
  {
   "cell_type": "code",
   "execution_count": 15,
   "metadata": {
    "code_folding": []
   },
   "outputs": [
    {
     "name": "stdout",
     "output_type": "stream",
     "text": [
      "*\n",
      "* Enter Name of Event:  test\n",
      "*\n",
      "* Enter DateTime (e.g. 2020-06-29 09:52):  2021-02-10 13:20\n",
      "*\n",
      "* Enter Magnitude of Event:  7.5\n",
      "*\n",
      "* Enter Frequency range (e.g. 0.1,1 or 0.1):   0.1,1.0\n",
      "*\n",
      "* Enter Trace Length (in minutes):   60\n",
      "*\n",
      "* Enter source [george (default) or archive]: archive\n",
      "*\n",
      "* ________________________________________ \n",
      "*\n",
      "*\n",
      "* test   7.5   2021-02-10T13:20:00.000000Z \n",
      "*\n"
     ]
    }
   ],
   "source": [
    "## manually \n",
    "\n",
    "# event = ['Alaska Peninsula', '7.8',\"2020-07-22 06:12\", \"0.01\", \"60*60\"]\n",
    "\n",
    "# name, mag, dt, freq0, delta_T = event\n",
    "\n",
    "\n",
    "##__________________________________________________________________\n",
    "## check if arguments are passed to .py code or assigned interactively\n",
    "\n",
    "if sys.argv[0] == \"romy_event.py\" and len(sys.argv) > 1:\n",
    "    print(\"\\nusing provided parameters...\\n\")\n",
    "\n",
    "    name = sys.argv[1]\n",
    "    mag  = float(sys.argv[3])\n",
    "    dt   = obs.UTCDateTime(sys.argv[2])\n",
    "    freq = float(sys.argv[4])\n",
    "    delta_T = float(sys.argv[5])*60\n",
    "    source = sys.argv[6]\n",
    "    \n",
    "    print(name,mag,dt)\n",
    "    \n",
    "else:\n",
    "\n",
    "    __request_event_parameters()"
   ]
  },
  {
   "cell_type": "markdown",
   "metadata": {},
   "source": [
    "### Setting essential varibales "
   ]
  },
  {
   "cell_type": "code",
   "execution_count": 16,
   "metadata": {},
   "outputs": [],
   "source": [
    "##__________________________________________________________________\n",
    "## some variables are set\n",
    "\n",
    "\n",
    "## set fixed parameters\n",
    "day     = dt.julday\n",
    "year    = dt.year\n",
    "\n",
    "## output parameters\n",
    "outname = name+'_'+str(dt.year)+str(dt.month)+str(dt.day)+'_'+str(mag)\n",
    "outpath = \"/home/brotzer/notebooks/figs\"\n",
    "\n",
    "## define path to local data\n",
    "path=\"/import/freenas-ffb-01-data/romy_archive/{}/BW/ROMY/\".format(str(year))\n",
    "\n",
    "## coordinates of observatory, loc='upper left'\n",
    "lon_OBS = 11.277\n",
    "lat_OBS = 48.165\n"
   ]
  },
  {
   "cell_type": "markdown",
   "metadata": {},
   "source": [
    "### Main "
   ]
  },
  {
   "cell_type": "code",
   "execution_count": 70,
   "metadata": {
    "code_folding": []
   },
   "outputs": [],
   "source": [
    "\n",
    "def __querry_waveforms(dt, delta_T, source):\n",
    "\n",
    "    global fur, rlas, u, v, w, z\n",
    "    \n",
    "    fur = obs.core.stream.Stream()\n",
    "    rlas = obs.core.stream.Stream()\n",
    "    z = obs.core.stream.Stream()\n",
    "    u = obs.core.stream.Stream()\n",
    "    v = obs.core.stream.Stream()\n",
    "    w = obs.core.stream.Stream()\n",
    "    \n",
    "    def __check(st, trace_dummy, seed_id=None):\n",
    "           \n",
    "        if seed_id is not None:\n",
    "            net, sta, loc, cha = seed_id.split(\".\")\n",
    "            \n",
    "        if len(st) == 0:\n",
    "            print(f\"empty stream found for {cha}\")\n",
    "            st.append(trace_dummy)\n",
    "            st[0].data *= 0.0\n",
    "            st[0].stats.network = net\n",
    "            st[0].stats.station = sta\n",
    "            st[0].stats.location = loc\n",
    "            st[0].stats.channel = cha\n",
    "        else:\n",
    "            print(f\"{st[0].stats.station}.{st[0].stats.channel} passed check!\")\n",
    "    \n",
    "    route = RoutingClient('eida-routing')\n",
    "\n",
    "\n",
    "    ## ______________________________________________________________\n",
    "    ''' get waveforms of FUR '''\n",
    "\n",
    "    net, sta, loc, cha = \"GR.FUR..BHZ\".split(\".\")\n",
    "\n",
    "    inv = route.get_stations(network=net, station=sta, location=loc, channel=cha, level='response')\n",
    "\n",
    "    fur = route.get_waveforms(network=net, station=sta, location=loc, channel=cha, starttime=dt, endtime=dt + delta_T, attach_responses=True)\n",
    "    fur.remove_response(inventory=inv) \n",
    "\n",
    "    ## ______________________________________________________________\n",
    "    ''' get waveforms of RLAS '''\n",
    "\n",
    "    net, sta, loc, cha = \"BW.RLAS..BJZ\".split(\".\")\n",
    "\n",
    "    inv = route.get_stations(network=net, station=sta, location=loc, channel=cha, level='response')\n",
    "    \n",
    "    rlas = route.get_waveforms(network=net, station=sta, location=loc, channel=cha, starttime=dt, endtime=dt + delta_T, attach_responses=True)\n",
    "    \n",
    "    rlas.remove_response(inventory=inv)\n",
    "\n",
    "    ## ______________________________________________________________\n",
    "    ''' get waveforms of ROMY '''\n",
    "\n",
    "    inv = route.get_stations(network=\"BW\", station=\"ROMY\", level='response')\n",
    "\n",
    "    if source == 'george':\n",
    "\n",
    "        '''get data of ring components for event from george '''\n",
    "        z = __get_data_george('Z', sr, dt, delta_T)\n",
    "        u = __get_data_george('U', sr, dt, delta_T)\n",
    "        v = __get_data_george('V', sr, dt, delta_T)\n",
    "        w = __get_data_george('W', sr, dt, delta_T)\n",
    "\n",
    "    elif source == 'archive':\n",
    "        print(\"get archive data ...\\n\")\n",
    "        '''get data of ring components for event from archive '''\n",
    "         \n",
    "        z, z_inv = __get_data_archive(\"BW.ROMY.10.BJZ\", dt, dt+delta_T, raw=None)\n",
    "        u, u_inv = __get_data_archive(\"BW.ROMY..BJU\", dt, dt+delta_T, raw=None)\n",
    "        v, v_inv = __get_data_archive(\"BW.ROMY..BJV\", dt, dt+delta_T, raw=None)\n",
    "        w, w_inv = __get_data_archive(\"BW.ROMY..BJW\", dt, dt+delta_T, raw=None)\n",
    "\n",
    "        \n",
    "        trace_dummy = rlas[0].copy()\n",
    "    \n",
    "        __check(fur, trace_dummy)\n",
    "        __check(rlas, trace_dummy)\n",
    "        __check(z, trace_dummy, \"BW.ROMY..BJU\")\n",
    "        __check(u, trace_dummy, \"BW.ROMY..BJU\")\n",
    "        __check(v, trace_dummy, \"BW.ROMY..BJU\")\n",
    "        __check(w, trace_dummy, \"BW.ROMY..BJU\")\n",
    "        \n",
    "\n",
    "    z.remove_response(inventory=inv)\n",
    "    u.remove_response(inventory=inv)\n",
    "    v.remove_response(inventory=inv)\n",
    "    w.remove_response(inventory=inv)\n",
    "        \n",
    "    \n",
    "    if fur and rlas and u and v and w and z:\n",
    "        print('\\n --> retrieved waveforms for: FUR, RLAS and ROMY\\n')\n"
   ]
  },
  {
   "cell_type": "code",
   "execution_count": 66,
   "metadata": {
    "code_folding": []
   },
   "outputs": [
    {
     "data": {
      "text/plain": [
       "' querry event data from online catalog'"
      ]
     },
     "execution_count": 66,
     "metadata": {},
     "output_type": "execute_result"
    },
    {
     "name": "stdout",
     "output_type": "stream",
     "text": [
      "\n",
      " -->  Using Event in IRIS !!\n",
      "\n"
     ]
    },
    {
     "data": {
      "text/plain": [
       "' querry waveform data either online or locally '"
      ]
     },
     "execution_count": 66,
     "metadata": {},
     "output_type": "execute_result"
    },
    {
     "name": "stderr",
     "output_type": "stream",
     "text": [
      "/home/brotzer/anaconda3/lib/python3.7/site-packages/obspy/core/inventory/response.py:1193: UserWarning: The unit 'RAD/S' is not known to ObsPy. It will be assumed to be displacement for the calculations. This mostly does the right thing but please proceed with caution.\n",
      "  warnings.warn(msg)\n"
     ]
    },
    {
     "name": "stdout",
     "output_type": "stream",
     "text": [
      "get archive data ...\n",
      "\n",
      "FURBHZ passed check!\n",
      "RLASBJZ passed check!\n",
      "ROMYBJZ passed check!\n",
      "ROMYBJU passed check!\n",
      "empty stream found\n",
      "ROMYBJW passed check!\n",
      "\n",
      " --> retrieved waveforms for: FUR, RLAS and ROMY\n",
      "\n"
     ]
    },
    {
     "data": {
      "text/plain": [
       "'detrend and filter data of ROMY'"
      ]
     },
     "execution_count": 66,
     "metadata": {},
     "output_type": "execute_result"
    },
    {
     "data": {
      "text/plain": [
       "'calculate the distance to the event along a great circle'"
      ]
     },
     "execution_count": 66,
     "metadata": {},
     "output_type": "execute_result"
    },
    {
     "data": {
      "text/plain": [
       "'calculate BAZ ROMY and EVENT location mapped on the equidistant plot'"
      ]
     },
     "execution_count": 66,
     "metadata": {},
     "output_type": "execute_result"
    },
    {
     "ename": "NameError",
     "evalue": "name 'Basemap' is not defined",
     "output_type": "error",
     "traceback": [
      "\u001b[0;31m---------------------------------------------------------------------------\u001b[0m",
      "\u001b[0;31mNameError\u001b[0m                                 Traceback (most recent call last)",
      "\u001b[0;32m<ipython-input-66-df7b81d9d898>\u001b[0m in \u001b[0;36m<module>\u001b[0;34m\u001b[0m\n\u001b[1;32m     33\u001b[0m \u001b[0;34m\u001b[0m\u001b[0m\n\u001b[1;32m     34\u001b[0m \u001b[0;34m'''calculate BAZ ROMY and EVENT location mapped on the equidistant plot'''\u001b[0m\u001b[0;34m\u001b[0m\u001b[0;34m\u001b[0m\u001b[0m\n\u001b[0;32m---> 35\u001b[0;31m \u001b[0mbaz\u001b[0m \u001b[0;34m=\u001b[0m \u001b[0mget_baz\u001b[0m\u001b[0;34m(\u001b[0m\u001b[0mlon_OBS\u001b[0m\u001b[0;34m,\u001b[0m\u001b[0mlat_OBS\u001b[0m\u001b[0;34m,\u001b[0m\u001b[0mlon_event\u001b[0m\u001b[0;34m,\u001b[0m\u001b[0mlat_event\u001b[0m\u001b[0;34m)\u001b[0m\u001b[0;34m\u001b[0m\u001b[0;34m\u001b[0m\u001b[0m\n\u001b[0m\u001b[1;32m     36\u001b[0m \u001b[0;34m\u001b[0m\u001b[0m\n\u001b[1;32m     37\u001b[0m \u001b[0;34m\u001b[0m\u001b[0m\n",
      "\u001b[0;32m<ipython-input-14-a0f3e0afe8a4>\u001b[0m in \u001b[0;36mget_baz\u001b[0;34m(lon1, lat1, lon2, lat2)\u001b[0m\n\u001b[1;32m      3\u001b[0m     \u001b[0mwide\u001b[0m\u001b[0;34m,\u001b[0m \u001b[0mlong\u001b[0m \u001b[0;34m=\u001b[0m \u001b[0;34m[\u001b[0m\u001b[0;36m24e6\u001b[0m\u001b[0;34m,\u001b[0m\u001b[0;36m20e6\u001b[0m\u001b[0;34m]\u001b[0m\u001b[0;34m\u001b[0m\u001b[0;34m\u001b[0m\u001b[0m\n\u001b[1;32m      4\u001b[0m \u001b[0;34m\u001b[0m\u001b[0m\n\u001b[0;32m----> 5\u001b[0;31m     map1 = Basemap(\n\u001b[0m\u001b[1;32m      6\u001b[0m             \u001b[0mprojection\u001b[0m\u001b[0;34m=\u001b[0m\u001b[0;34m'aeqd'\u001b[0m\u001b[0;34m,\u001b[0m\u001b[0;34m\u001b[0m\u001b[0;34m\u001b[0m\u001b[0m\n\u001b[1;32m      7\u001b[0m             \u001b[0mlat_0\u001b[0m\u001b[0;34m=\u001b[0m\u001b[0mlat_OBS\u001b[0m\u001b[0;34m,\u001b[0m\u001b[0;34m\u001b[0m\u001b[0;34m\u001b[0m\u001b[0m\n",
      "\u001b[0;31mNameError\u001b[0m: name 'Basemap' is not defined"
     ]
    }
   ],
   "source": [
    "''' querry event data from online catalog'''\n",
    "cat = 0\n",
    "cat = __querry_event_of_catalog(dt, delta_T, mag)\n",
    "\n",
    "\n",
    "if cat == 0:\n",
    "    print(\"aborted\")\n",
    "    sys.exit(1)\n",
    "\n",
    "''' querry waveform data either online or locally '''\n",
    "__querry_waveforms(dt, delta_T, source)        \n",
    "\n",
    "\n",
    "\n",
    "'''detrend and filter data of ROMY'''\n",
    "#freq=0.1\n",
    "#freq=[0.01,0.2]\n",
    "\n",
    "z_timeline, z_tr = process_traces(z, freq)\n",
    "u_timeline, u_tr = process_traces(u, freq)\n",
    "v_timeline, v_tr = process_traces(v, freq)\n",
    "w_timeline, w_tr = process_traces(w, freq)\n",
    "\n",
    "\n",
    "fur_timeline, fur_tr = process_traces(fur, freq)\n",
    "\n",
    "#rlas_timeline, rlas_tr = np.arange(0, rlas[0].stats.npts * rlas[0].stats.delta, rlas[0].stats.delta), rlas[0].data\n",
    "rlas_timeline, rlas_tr = process_traces(rlas, freq)\n",
    "\n",
    "'''calculate the distance to the event along a great circle'''\n",
    "dist_km, dist_deg = get_distance_great_circle(lon_OBS,lat_OBS,lon_event,lat_event)\n",
    "\n",
    "\n",
    "'''calculate BAZ ROMY and EVENT location mapped on the equidistant plot'''\n",
    "baz = get_baz(lon_OBS,lat_OBS,lon_event,lat_event)\n",
    "\n",
    "        "
   ]
  },
  {
   "cell_type": "markdown",
   "metadata": {},
   "source": [
    "### Plotting"
   ]
  },
  {
   "cell_type": "code",
   "execution_count": 69,
   "metadata": {
    "code_folding": []
   },
   "outputs": [
    {
     "ename": "NameError",
     "evalue": "name 'Basemap' is not defined",
     "output_type": "error",
     "traceback": [
      "\u001b[0;31m---------------------------------------------------------------------------\u001b[0m",
      "\u001b[0;31mNameError\u001b[0m                                 Traceback (most recent call last)",
      "\u001b[0;32m<ipython-input-69-0a088bf34d51>\u001b[0m in \u001b[0;36m<module>\u001b[0;34m\u001b[0m\n\u001b[1;32m     99\u001b[0m     \u001b[0;32mreturn\u001b[0m \u001b[0mfig\u001b[0m\u001b[0;34m\u001b[0m\u001b[0;34m\u001b[0m\u001b[0m\n\u001b[1;32m    100\u001b[0m \u001b[0;34m\u001b[0m\u001b[0m\n\u001b[0;32m--> 101\u001b[0;31m \u001b[0mfig\u001b[0m \u001b[0;34m=\u001b[0m \u001b[0m__makeplot\u001b[0m\u001b[0;34m(\u001b[0m\u001b[0;34m)\u001b[0m\u001b[0;34m\u001b[0m\u001b[0;34m\u001b[0m\u001b[0m\n\u001b[0m",
      "\u001b[0;32m<ipython-input-69-0a088bf34d51>\u001b[0m in \u001b[0;36m__makeplot\u001b[0;34m()\u001b[0m\n\u001b[1;32m     24\u001b[0m     \u001b[0;31m##\u001b[0m\u001b[0;34m\u001b[0m\u001b[0;34m\u001b[0m\u001b[0;34m\u001b[0m\u001b[0m\n\u001b[1;32m     25\u001b[0m     \u001b[0max2\u001b[0m \u001b[0;34m=\u001b[0m \u001b[0mplt\u001b[0m\u001b[0;34m.\u001b[0m\u001b[0msubplot\u001b[0m\u001b[0;34m(\u001b[0m\u001b[0mgs\u001b[0m\u001b[0;34m[\u001b[0m\u001b[0;36m1\u001b[0m\u001b[0;34m:\u001b[0m\u001b[0;34m,\u001b[0m \u001b[0;36m0\u001b[0m\u001b[0;34m:\u001b[0m\u001b[0;36m2\u001b[0m\u001b[0;34m]\u001b[0m\u001b[0;34m)\u001b[0m\u001b[0;34m\u001b[0m\u001b[0;34m\u001b[0m\u001b[0m\n\u001b[0;32m---> 26\u001b[0;31m     \u001b[0mdraw_map\u001b[0m\u001b[0;34m(\u001b[0m\u001b[0;34m)\u001b[0m\u001b[0;34m\u001b[0m\u001b[0;34m\u001b[0m\u001b[0m\n\u001b[0m\u001b[1;32m     27\u001b[0m \u001b[0;34m\u001b[0m\u001b[0m\n\u001b[1;32m     28\u001b[0m \u001b[0;34m\u001b[0m\u001b[0m\n",
      "\u001b[0;32m<ipython-input-12-872739bb18e3>\u001b[0m in \u001b[0;36mdraw_map\u001b[0;34m()\u001b[0m\n\u001b[1;32m      5\u001b[0m     \u001b[0mthres\u001b[0m\u001b[0;34m=\u001b[0m\u001b[0;36m1000\u001b[0m\u001b[0;34m\u001b[0m\u001b[0;34m\u001b[0m\u001b[0m\n\u001b[1;32m      6\u001b[0m \u001b[0;34m\u001b[0m\u001b[0m\n\u001b[0;32m----> 7\u001b[0;31m     map1 = Basemap(projection='aeqd',lat_0=lat_OBS,lon_0=lon_OBS,fix_aspect=True,width=wide,height=long,\\\n\u001b[0m\u001b[1;32m      8\u001b[0m                     area_thresh=thres,resolution='l')\n\u001b[1;32m      9\u001b[0m \u001b[0;34m\u001b[0m\u001b[0m\n",
      "\u001b[0;31mNameError\u001b[0m: name 'Basemap' is not defined"
     ]
    },
    {
     "data": {
      "image/png": "[encoded data removed]",
      "text/plain": [
       "<Figure size 1008x432 with 2 Axes>"
      ]
     },
     "metadata": {
      "needs_background": "light"
     },
     "output_type": "display_data"
    }
   ],
   "source": [
    "def __makeplot():\n",
    "\n",
    "    rlas , fur = True , False\n",
    "    \n",
    "    fig = plt.figure(figsize=(14,6))\n",
    "#    gridspec_kw={'hspace': 2,'wspace':2}\n",
    "\n",
    "#     fig.subplots_adjust(wspace=0.7, hspace=0.9)\n",
    "\n",
    "    gs = gridspec.GridSpec(5, 5, wspace=0.9, hspace=.4)\n",
    "\n",
    "\n",
    "\n",
    "    ## -------------------------------------------------------------\n",
    "    ##\n",
    "    ax1 = plt.subplot(gs[:1,:2])\n",
    "    ax1.axis('off')\n",
    "    ax1.text(0,0.05,'Event:   {}  (Mw={})\\nTime:    {}  {} UTC\\nDepth:  {} km\\n\\n'.format(name,mag,timestring[0:10],timestring[11:19],event_depth/1000),fontsize=11)\n",
    "\n",
    "    ax1.text(0,0,'Dist:     {:.0f} km   ({:.1f} °)\\nBAZ:     {:.1f} °'.format(dist_km,dist_deg,baz),fontsize=11)\n",
    "\n",
    "\n",
    "    ## -------------------------------------------------------------\n",
    "    ##\n",
    "    ax2 = plt.subplot(gs[1:, 0:2])\n",
    "    draw_map()\n",
    "\n",
    "\n",
    "    ## -------------------------------------------------------------\n",
    "    ##\n",
    "    ax3 = plt.subplot(gs[0,2:])\n",
    "    #ax3.plot(np.arange(0,fur[0].stats.npts*fur[0].stats.delta,fur[0].stats.delta),fur[0].data/max(abs(fur[0].data)),'k',label='FUR')\n",
    "    if fur:\n",
    "        ax3.plot(fur_timeline/60,fur_tr,'k',label='FUR')\n",
    "    elif rlas:\n",
    "        ax3.plot(rlas_timeline/60,rlas_tr,'k',label='RLAS')\n",
    "\n",
    "    ax3.plot((event_time-dt)/60,0,marker='*',color='yellow',markeredgecolor='k',markersize=15,alpha=1,markeredgewidth=1)\n",
    "    ax3.legend(loc='upper left',bbox_to_anchor=(0, 1.10), framealpha=1)\n",
    "    ax3.set_xticklabels([])\n",
    "#     ax3.grid(True,zorder=0,color='grey',linestyle='--')\n",
    "#    ax3.set_ylim(-1,1)\n",
    "    ax3.set_ylabel(\"rotation rate \\n (rad/s)\")\n",
    "\n",
    "    if type(freq) is list:\n",
    "        ax3.set_title('bandpass filtered: {} - {} Hz'.format(freq[0],freq[1]))\n",
    "    else:\n",
    "        ax3.set_title('lowpass filtered: {} Hz'.format(freq) )\n",
    "\n",
    "    ## -------------------------------------------------------------\n",
    "    ##\n",
    "    ax4 = plt.subplot(gs[1,2:])\n",
    "    ax4.plot(z_timeline/60,z_tr.data,'k',label='ROMY Z')\n",
    "    ax4.plot((event_time-dt)/60,0,marker='*',color='yellow',markeredgecolor='k',markersize=15,alpha=1,markeredgewidth=1)\n",
    "    ax4.legend(loc='upper left',bbox_to_anchor=(0, 1.10), framealpha=1)\n",
    "    ax4.set_xticklabels([])\n",
    "    ax4.set_ylabel(\"rotation rate \\n (rad/s)\")\n",
    "    ax4.set_ylim([-max(abs(z_tr.data)), max(abs(z_tr.data))])\n",
    "#     ax4.grid(True,zorder=0,color='grey',linestyle='--')\n",
    "\n",
    "\n",
    "    ## -------------------------------------------------------------\n",
    "    ##\n",
    "    ax5 = plt.subplot(gs[2,2:])\n",
    "    ax5.plot(u_timeline/60,u_tr.data,'k',label='ROMY U')\n",
    "    ax5.plot((event_time-dt)/60,0,marker='*',color='yellow',markeredgecolor='k',markersize=15,alpha=1,markeredgewidth=1)\n",
    "    ax5.legend(loc='upper left',bbox_to_anchor=(0, 1.10), framealpha=1)\n",
    "    ax5.set_xticklabels([])\n",
    "    ax5.set_ylabel(\"rotation rate \\n (rad/s)\")\n",
    "    ax5.set_ylim([-max(abs(u_tr.data)), max(abs(u_tr.data))])\n",
    "#     ax5.grid(True,zorder=0,color='grey',linestyle='--')\n",
    "\n",
    "\n",
    "    ## -------------------------------------------------------------\n",
    "    ##\n",
    "    ax6 = plt.subplot(gs[3,2:])\n",
    "    ax6.plot(v_timeline/60,v_tr.data,'k',label='ROMY V')\n",
    "    ax6.plot((event_time-dt)/60,0,marker='*',color='yellow',markeredgecolor='k',markersize=15,alpha=1,markeredgewidth=1)\n",
    "    ax6.legend(loc='upper left',bbox_to_anchor=(0, 1.10), framealpha=1)\n",
    "    ax6.set_xticklabels([])\n",
    "    ax6.set_ylabel(\"rotation rate \\n (rad/s)\")\n",
    "    ax6.set_ylim([-max(abs(v_tr.data)), max(abs(v_tr.data))])\n",
    "\n",
    "#     ax6.grid(True,zorder=0,color='grey',linestyle='--')\n",
    "\n",
    "    ## -------------------------------------------------------------\n",
    "    ##\n",
    "    ax7 = plt.subplot(gs[4,2:])\n",
    "    ax7.plot(w_timeline/60,w_tr.data,'k',label='ROMY W')\n",
    "    ax7.plot((event_time-dt)/60,0,marker='*',color='yellow',markeredgecolor='k',markersize=15,alpha=1,markeredgewidth=1)\n",
    "    ax7.legend(loc='upper left',bbox_to_anchor=(0, 1.10), framealpha=1)\n",
    "    ax7.set_ylim([-max(abs(w_tr.data)), max(abs(w_tr.data))])\n",
    "    ax7.set_ylabel(\"rotation rate \\n (rad/s)\")\n",
    "    ax7.set_xlabel('Time from {} {} UTC (min)'.format(dt.isoformat()[0:10],dt.isoformat()[11:19]))\n",
    "#     ax7.grid(True,zorder=0,color='grey',linestyle='--')\n",
    "\n",
    "\n",
    "    plt.show();\n",
    "    return fig\n",
    "\n",
    "fig = __makeplot()"
   ]
  },
  {
   "cell_type": "markdown",
   "metadata": {},
   "source": [
    "### Saving "
   ]
  },
  {
   "cell_type": "code",
   "execution_count": null,
   "metadata": {
    "code_folding": [
     1
    ]
   },
   "outputs": [],
   "source": [
    "## _______________________________________________________________\n",
    "## check if figure should be saved\n",
    "\n",
    "save = input('*\\n* SAVE FIGURE (y/n) ??:  ')\n",
    "\n",
    "if save == 'y':\n",
    "    \n",
    "    outpath = input('\\n* Enter path (default: /home/brotzer/notebooks/figs/romy_events/): ')\n",
    "    if len(outpath) == 0:\n",
    "        outpath = '/home/brotzer/spyder/figs/romy_events/'\n",
    "  \n",
    "    outname = input('\\n* Enter name (default: ROMY_<date>_<name>): ')\n",
    "    if len(outname) == 0:\n",
    "        outname = 'ROMY_{}{}{}_{}'.format(str(dt.year),str(dt.month),str(dt.day),name.replace(', ','_'))\n",
    "        outname = outname.replace(' ','_')    \n",
    "    form    = input('\\n* Enter format (default: pdf): ')\n",
    "    if len(form) == 0:\n",
    "        form = 'pdf'\n",
    "    \n",
    "    #__save_to([fig0,fig1], str(outpath), str(outname), str(form))\n",
    "    __save_to([fig], str(outpath), str(outname), str(form))\n",
    "\n",
    "else: \n",
    "    print('*\\n* Figure discared!\\n*')\n",
    "\n",
    "\n",
    "\n",
    "## End of File"
   ]
  },
  {
   "cell_type": "code",
   "execution_count": null,
   "metadata": {},
   "outputs": [],
   "source": []
  },
  {
   "cell_type": "code",
   "execution_count": null,
   "metadata": {},
   "outputs": [],
   "source": []
  },
  {
   "cell_type": "code",
   "execution_count": null,
   "metadata": {},
   "outputs": [],
   "source": []
  },
  {
   "cell_type": "code",
   "execution_count": null,
   "metadata": {},
   "outputs": [],
   "source": []
  }
 ],
 "metadata": {
  "anaconda-cloud": {},
  "kernelspec": {
   "display_name": "Python 3",
   "language": "python",
   "name": "python3"
  },
  "language_info": {
   "codemirror_mode": {
    "name": "ipython",
    "version": 3
   },
   "file_extension": ".py",
   "mimetype": "text/x-python",
   "name": "python",
   "nbconvert_exporter": "python",
   "pygments_lexer": "ipython3",
   "version": "3.7.7"
  }
 },
 "nbformat": 4,
 "nbformat_minor": 1
}
