{
 "cells": [
  {
   "cell_type": "code",
   "execution_count": 1,
   "id": "63468869-04cc-4739-a90f-e19c7bd6bc98",
   "metadata": {
    "tags": []
   },
   "outputs": [],
   "source": [
    "import os\n",
    "import gc\n",
    "import numpy as np\n",
    "\n",
    "from scipy.optimize import curve_fit\n",
    "from obspy import UTCDateTime\n",
    "from pandas import DataFrame, date_range\n",
    "\n",
    "import matplotlib.pyplot as plt\n",
    "\n",
    "import sys\n",
    "sys.path.append('../')"
   ]
  },
  {
   "cell_type": "code",
   "execution_count": 2,
   "id": "3696d4a0-8cda-41bc-b9ac-a3659c92f1e7",
   "metadata": {
    "tags": []
   },
   "outputs": [],
   "source": [
    "if os.uname().nodename == 'lighthouse':\n",
    "    root_path = '/home/andbro/'\n",
    "    data_path = '/home/andbro/kilauea-data/'\n",
    "    archive_path = '/home/andbro/freenas/'\n",
    "    bay_path = '/home/andbro/ontap-ffb-bay200/'\n",
    "    lamont_path = '/home/andbro/lamont/'\n",
    "elif os.uname().nodename == 'kilauea':\n",
    "    root_path = '/home/brotzer/'\n",
    "    data_path = '/import/kilauea-data/'\n",
    "    archive_path = '/import/freenas-ffb-01-data/'\n",
    "    bay_path = '/import/ontap-ffb-bay200/'\n",
    "    lamont_path = '/lamont/'\n",
    "elif os.uname().nodename in ['lin-ffb-01', 'ambrym', 'hochfelln']:\n",
    "    root_path = '/home/brotzer/'\n",
    "    data_path = '/import/kilauea-data/'\n",
    "    archive_path = '/import/freenas-ffb-01-data/'\n",
    "    bay_path = '/import/ontap-ffb-bay200/'\n",
    "    lamont_path = '/lamont/'"
   ]
  },
  {
   "cell_type": "code",
   "execution_count": 31,
   "id": "f828475e-d591-47e5-8742-00e80aa654c7",
   "metadata": {
    "tags": []
   },
   "outputs": [],
   "source": [
    "config = {}\n",
    "\n",
    "config['cam'] = \"\"\n",
    "\n",
    "config['path_to_data'] = data_path+\"ids/\"\n",
    "\n",
    "config['path_to_outdata'] = data_path+\"ids/data/\"\n",
    "\n",
    "config['path_to_figures'] = data_path+\"ids/figures/\"\n",
    "\n",
    "## experiment 1\n",
    "# config['date1'] = \"2024-01-29\"\n",
    "# config['date2'] = \"2024-02-05\"\n",
    "\n",
    "## experiment 2\n",
    "# config['date1'] = \"2024-02-15\"\n",
    "# config['date2'] = \"2024-02-23\"\n",
    "\n",
    "## experiment 3\n",
    "# config['date1'] = \"2024-03-09\"\n",
    "# config['date2'] = \"2024-04-09\"\n",
    "\n",
    "## experiment 4\n",
    "# config['date1'] = \"2024-03-09\"\n",
    "# config['date2'] = \"2024-05-21\"\n",
    "\n",
    "# ## experiment 5\n",
    "# config['date1'] = \"2024-05-22\"\n",
    "# config['date2'] = \"2024-06-12\"\n",
    "\n",
    "## experiment 6\n",
    "# after switch to ids04 !\n",
    "config['date1'] = \"2024-08-06\"\n",
    "config['date2'] = \"2024-08-13\"\n"
   ]
  },
  {
   "cell_type": "code",
   "execution_count": 8,
   "id": "66c6a4c6-7ec6-463b-9f35-b901fc83e3f7",
   "metadata": {
    "tags": []
   },
   "outputs": [],
   "source": [
    "from functions.load_mlti import __load_mlti\n",
    "from functions.get_mlti_intervals import __get_mlti_intervals\n",
    "from functions.mlti_intervals_to_NaN import __mlti_intervals_to_NaN"
   ]
  },
  {
   "cell_type": "code",
   "execution_count": 9,
   "id": "2493334f-6d73-4010-a711-78fd29bcb000",
   "metadata": {
    "tags": []
   },
   "outputs": [],
   "source": [
    "mltiU = __load_mlti(config['date1'], config['date2'], \"U\", archive_path)\n",
    "mltiU_t1, mltiU_t2 = __get_mlti_intervals(mltiU.time_utc)"
   ]
  },
  {
   "cell_type": "code",
   "execution_count": 10,
   "id": "2f9a7c4d-d478-4be9-9dbd-d23759a0c6f7",
   "metadata": {
    "tags": []
   },
   "outputs": [],
   "source": [
    "def __load_beam_wander_data(tbeg, tend, path_to_data):\n",
    "\n",
    "    from obspy import UTCDateTime\n",
    "    from datetime import date\n",
    "    from pandas import read_pickle, concat, DataFrame, date_range, to_datetime\n",
    "\n",
    "    t1 = date.fromisoformat(str(UTCDateTime(tbeg).date))\n",
    "    t2 = date.fromisoformat(str((UTCDateTime(tend)).date))\n",
    "\n",
    "    df = DataFrame()\n",
    "    for dat in date_range(t1, t2):\n",
    "        print(str(dat)[:10])\n",
    "        file = f\"{str(dat)[:10].replace('-','')}.pkl\"\n",
    "        try:\n",
    "            df0 = read_pickle(path_to_data+file)\n",
    "            df = concat([df, df0])\n",
    "        except:\n",
    "            print(f\"error for {file}\")\n",
    "\n",
    "    # remove NaN from time column\n",
    "    df.dropna(subset=['time'], inplace=True)\n",
    "\n",
    "    # reset the index column\n",
    "    df.reset_index(inplace=True, drop=True)\n",
    "\n",
    "    # add column for relative time in seconds\n",
    "    df['time_sec'] = [UTCDateTime(_t) - UTCDateTime(df.time.iloc[0]) for _t in df.time]\n",
    "\n",
    "    return df"
   ]
  },
  {
   "cell_type": "code",
   "execution_count": 15,
   "id": "c4a865de-89b6-43b1-8621-7300f6ad9125",
   "metadata": {},
   "outputs": [],
   "source": [
    "from functions.load_beam_wander_data import __load_beam_wander_data"
   ]
  },
  {
   "cell_type": "code",
   "execution_count": 35,
   "id": "411e3d5b-c7d5-4886-9ace-28411347386e",
   "metadata": {
    "tags": []
   },
   "outputs": [
    {
     "name": "stdout",
     "output_type": "stream",
     "text": [
      "/import/kilauea-data/ids/data/\n",
      "2024-08-06\n",
      "2024-08-07\n",
      "2024-08-08\n",
      "2024-08-09\n",
      "2024-08-10\n",
      "2024-08-11\n",
      "2024-08-12\n",
      "2024-08-13\n",
      " -> error for 20240813.pkl\n"
     ]
    }
   ],
   "source": [
    "df = __load_beam_wander_data(config['date1'], config['date2'], config['path_to_data'], config['cam'])"
   ]
  },
  {
   "cell_type": "markdown",
   "id": "e293d1c0-009b-45a0-80bf-9589c089a473",
   "metadata": {
    "tags": []
   },
   "source": [
    "### Remove MLTI times"
   ]
  },
  {
   "cell_type": "code",
   "execution_count": 38,
   "id": "4f1e2152-3723-4461-9a83-1273988930b4",
   "metadata": {
    "tags": []
   },
   "outputs": [],
   "source": [
    "\n",
    "# add utc object\n",
    "df['time_utc'] = [UTCDateTime(tl) for tl in df.time]\n",
    "\n",
    "\n",
    "# pixel to length\n",
    "if config['date1'] > \"2024-08-01\":\n",
    "    conversion_factor = 5.3e-3 # mm / pixel\n",
    "else:\n",
    "    conversion_factor = 1.67e-3 # mm / pixel\n",
    "\n",
    "keys_to_convert = [\"y_idx\", \"x_idx\", \"y\", \"x\"]\n",
    "\n",
    "for k in keys_to_convert:\n",
    "    df[k] *= conversion_factor\n",
    "\n",
    "# turn times with MLTI to NaN\n",
    "df = __mlti_intervals_to_NaN(df, \"y_idx\", \"time_utc\", mltiU_t1, mltiU_t2, t_offset_sec=180)\n",
    "df = __mlti_intervals_to_NaN(df, \"x_idx\", \"time_utc\", mltiU_t1, mltiU_t2, t_offset_sec=180)\n"
   ]
  },
  {
   "cell_type": "markdown",
   "id": "e7b9e741-f9f9-4905-9f25-3564ff69060b",
   "metadata": {},
   "source": [
    "### Remove artefacts"
   ]
  },
  {
   "cell_type": "code",
   "execution_count": 39,
   "id": "0a051a2b-db64-45f9-ae03-f4ccca8d676f",
   "metadata": {
    "tags": []
   },
   "outputs": [],
   "source": [
    "# remove corrupt values\n",
    "df = df[df['y_sig_var'] != np.inf]\n",
    "\n",
    "# when intensity is super low, there is a black image\n",
    "df = df[df['amp'] > 20]\n",
    "\n",
    "# when intensity is super high or saturated, there is likely a MLTI boost\n",
    "df = df[df['amp'] < 255]"
   ]
  },
  {
   "cell_type": "markdown",
   "id": "82c4a4a5-1540-4975-b76c-d5f7958818e9",
   "metadata": {},
   "source": [
    "### Load Maintenance Log"
   ]
  },
  {
   "cell_type": "code",
   "execution_count": 40,
   "id": "67ab1ee6-a71d-4bb8-a09c-36f8f7d189d4",
   "metadata": {
    "tags": []
   },
   "outputs": [],
   "source": [
    "from functions.load_lxx import __load_lxx\n",
    "from functions.get_lxx_intervals import __get_lxx_intervals\n",
    "\n",
    "lxx =__load_lxx(config['date1'], config['date2'], archive_path)\n",
    "lxx_t1, lxx_t2 = __get_lxx_intervals(lxx.datetime)\n"
   ]
  },
  {
   "cell_type": "markdown",
   "id": "1eb67ca2-7238-4391-80e6-1f42d07845b1",
   "metadata": {},
   "source": [
    "### Plotting"
   ]
  },
  {
   "cell_type": "code",
   "execution_count": 41,
   "id": "cf82304a-1250-4f77-8bbb-df50e47571af",
   "metadata": {
    "tags": []
   },
   "outputs": [],
   "source": [
    "from functions.reduce import __reduce"
   ]
  },
  {
   "cell_type": "code",
   "execution_count": 42,
   "id": "98a5607c-83b0-42aa-be3a-d86f03d1950e",
   "metadata": {
    "tags": []
   },
   "outputs": [
    {
     "name": "stderr",
     "output_type": "stream",
     "text": [
      "/home/brotzer/notebooks/BeamWander/functions/reduce.py:4: RuntimeWarning: Mean of empty slice\n",
      "  return _dat - nanmean(_dat[:n_samples])\n",
      "/home/brotzer/notebooks/BeamWander/functions/reduce.py:4: RuntimeWarning: Mean of empty slice\n",
      "  return _dat - nanmean(_dat[:n_samples])\n"
     ]
    }
   ],
   "source": [
    "df['x_um_rel'] = __reduce(df.x, 10) * 1e3\n",
    "df['y_um_rel'] = __reduce(df.y, 10) * 1e3"
   ]
  },
  {
   "cell_type": "code",
   "execution_count": 43,
   "id": "30fe5e52-6c3d-449b-9ecb-b9a33313908e",
   "metadata": {
    "tags": []
   },
   "outputs": [
    {
     "ename": "IndexError",
     "evalue": "single positional indexer is out-of-bounds",
     "output_type": "error",
     "traceback": [
      "\u001b[0;31m---------------------------------------------------------------------------\u001b[0m",
      "\u001b[0;31mIndexError\u001b[0m                                Traceback (most recent call last)",
      "Cell \u001b[0;32mIn[43], line 84\u001b[0m\n\u001b[1;32m     81\u001b[0m     plt\u001b[38;5;241m.\u001b[39mshow();\n\u001b[1;32m     82\u001b[0m     \u001b[38;5;28;01mreturn\u001b[39;00m fig\n\u001b[0;32m---> 84\u001b[0m fig \u001b[38;5;241m=\u001b[39m \u001b[43m__makeplot_beam_wander\u001b[49m\u001b[43m(\u001b[49m\u001b[43mdf\u001b[49m\u001b[43m)\u001b[49m\n\u001b[1;32m     86\u001b[0m fig\u001b[38;5;241m.\u001b[39msavefig(config[\u001b[38;5;124m'\u001b[39m\u001b[38;5;124mpath_to_figures\u001b[39m\u001b[38;5;124m'\u001b[39m]\u001b[38;5;241m+\u001b[39m\u001b[38;5;124mf\u001b[39m\u001b[38;5;124m\"\u001b[39m\u001b[38;5;124mBeamWander_RU_\u001b[39m\u001b[38;5;132;01m{\u001b[39;00mconfig[\u001b[38;5;124m'\u001b[39m\u001b[38;5;124mdate1\u001b[39m\u001b[38;5;124m'\u001b[39m]\u001b[38;5;132;01m}\u001b[39;00m\u001b[38;5;124m_\u001b[39m\u001b[38;5;132;01m{\u001b[39;00mconfig[\u001b[38;5;124m'\u001b[39m\u001b[38;5;124mdate2\u001b[39m\u001b[38;5;124m'\u001b[39m]\u001b[38;5;132;01m}\u001b[39;00m\u001b[38;5;124m.png\u001b[39m\u001b[38;5;124m\"\u001b[39m, \u001b[38;5;28mformat\u001b[39m\u001b[38;5;241m=\u001b[39m\u001b[38;5;124m\"\u001b[39m\u001b[38;5;124mpng\u001b[39m\u001b[38;5;124m\"\u001b[39m, dpi\u001b[38;5;241m=\u001b[39m\u001b[38;5;241m150\u001b[39m, bbox_inches\u001b[38;5;241m=\u001b[39m\u001b[38;5;124m'\u001b[39m\u001b[38;5;124mtight\u001b[39m\u001b[38;5;124m'\u001b[39m)\n",
      "Cell \u001b[0;32mIn[43], line 41\u001b[0m, in \u001b[0;36m__makeplot_beam_wander\u001b[0;34m(df0)\u001b[0m\n\u001b[1;32m     38\u001b[0m \u001b[38;5;66;03m# ax2.set_xlabel(f\"Time (days) from {str(df.time_utc.iloc[0])[:10]}\")\u001b[39;00m\n\u001b[1;32m     40\u001b[0m ax3\u001b[38;5;241m.\u001b[39mset_ylabel(\u001b[38;5;124m\"\u001b[39m\u001b[38;5;124mrel. X-Position  ($\u001b[39m\u001b[38;5;124m\\\u001b[39m\u001b[38;5;124mmu$m)\u001b[39m\u001b[38;5;124m\"\u001b[39m)\n\u001b[0;32m---> 41\u001b[0m ax3\u001b[38;5;241m.\u001b[39mset_xlabel(\u001b[38;5;124mf\u001b[39m\u001b[38;5;124m\"\u001b[39m\u001b[38;5;124mTime (days) from \u001b[39m\u001b[38;5;132;01m{\u001b[39;00m\u001b[38;5;28mstr\u001b[39m(df\u001b[38;5;241m.\u001b[39mtime_utc\u001b[38;5;241m.\u001b[39miloc[\u001b[38;5;241m0\u001b[39m])[:\u001b[38;5;241m10\u001b[39m]\u001b[38;5;132;01m}\u001b[39;00m\u001b[38;5;124m\"\u001b[39m)\n\u001b[1;32m     43\u001b[0m \u001b[38;5;28;01mfor\u001b[39;00m ax \u001b[38;5;129;01min\u001b[39;00m [ax1, ax2, ax3]:\n\u001b[1;32m     44\u001b[0m     ax\u001b[38;5;241m.\u001b[39mgrid(ls\u001b[38;5;241m=\u001b[39m\u001b[38;5;124m\"\u001b[39m\u001b[38;5;124m:\u001b[39m\u001b[38;5;124m\"\u001b[39m, alpha\u001b[38;5;241m=\u001b[39m\u001b[38;5;241m0.5\u001b[39m, zorder\u001b[38;5;241m=\u001b[39m\u001b[38;5;241m0\u001b[39m)\n",
      "File \u001b[0;32m~/anaconda3/envs/obs2/lib/python3.9/site-packages/pandas/core/indexing.py:1153\u001b[0m, in \u001b[0;36m_LocationIndexer.__getitem__\u001b[0;34m(self, key)\u001b[0m\n\u001b[1;32m   1150\u001b[0m axis \u001b[38;5;241m=\u001b[39m \u001b[38;5;28mself\u001b[39m\u001b[38;5;241m.\u001b[39maxis \u001b[38;5;129;01mor\u001b[39;00m \u001b[38;5;241m0\u001b[39m\n\u001b[1;32m   1152\u001b[0m maybe_callable \u001b[38;5;241m=\u001b[39m com\u001b[38;5;241m.\u001b[39mapply_if_callable(key, \u001b[38;5;28mself\u001b[39m\u001b[38;5;241m.\u001b[39mobj)\n\u001b[0;32m-> 1153\u001b[0m \u001b[38;5;28;01mreturn\u001b[39;00m \u001b[38;5;28;43mself\u001b[39;49m\u001b[38;5;241;43m.\u001b[39;49m\u001b[43m_getitem_axis\u001b[49m\u001b[43m(\u001b[49m\u001b[43mmaybe_callable\u001b[49m\u001b[43m,\u001b[49m\u001b[43m \u001b[49m\u001b[43maxis\u001b[49m\u001b[38;5;241;43m=\u001b[39;49m\u001b[43maxis\u001b[49m\u001b[43m)\u001b[49m\n",
      "File \u001b[0;32m~/anaconda3/envs/obs2/lib/python3.9/site-packages/pandas/core/indexing.py:1714\u001b[0m, in \u001b[0;36m_iLocIndexer._getitem_axis\u001b[0;34m(self, key, axis)\u001b[0m\n\u001b[1;32m   1711\u001b[0m     \u001b[38;5;28;01mraise\u001b[39;00m \u001b[38;5;167;01mTypeError\u001b[39;00m(\u001b[38;5;124m\"\u001b[39m\u001b[38;5;124mCannot index by location index with a non-integer key\u001b[39m\u001b[38;5;124m\"\u001b[39m)\n\u001b[1;32m   1713\u001b[0m \u001b[38;5;66;03m# validate the location\u001b[39;00m\n\u001b[0;32m-> 1714\u001b[0m \u001b[38;5;28;43mself\u001b[39;49m\u001b[38;5;241;43m.\u001b[39;49m\u001b[43m_validate_integer\u001b[49m\u001b[43m(\u001b[49m\u001b[43mkey\u001b[49m\u001b[43m,\u001b[49m\u001b[43m \u001b[49m\u001b[43maxis\u001b[49m\u001b[43m)\u001b[49m\n\u001b[1;32m   1716\u001b[0m \u001b[38;5;28;01mreturn\u001b[39;00m \u001b[38;5;28mself\u001b[39m\u001b[38;5;241m.\u001b[39mobj\u001b[38;5;241m.\u001b[39m_ixs(key, axis\u001b[38;5;241m=\u001b[39maxis)\n",
      "File \u001b[0;32m~/anaconda3/envs/obs2/lib/python3.9/site-packages/pandas/core/indexing.py:1647\u001b[0m, in \u001b[0;36m_iLocIndexer._validate_integer\u001b[0;34m(self, key, axis)\u001b[0m\n\u001b[1;32m   1645\u001b[0m len_axis \u001b[38;5;241m=\u001b[39m \u001b[38;5;28mlen\u001b[39m(\u001b[38;5;28mself\u001b[39m\u001b[38;5;241m.\u001b[39mobj\u001b[38;5;241m.\u001b[39m_get_axis(axis))\n\u001b[1;32m   1646\u001b[0m \u001b[38;5;28;01mif\u001b[39;00m key \u001b[38;5;241m>\u001b[39m\u001b[38;5;241m=\u001b[39m len_axis \u001b[38;5;129;01mor\u001b[39;00m key \u001b[38;5;241m<\u001b[39m \u001b[38;5;241m-\u001b[39mlen_axis:\n\u001b[0;32m-> 1647\u001b[0m     \u001b[38;5;28;01mraise\u001b[39;00m \u001b[38;5;167;01mIndexError\u001b[39;00m(\u001b[38;5;124m\"\u001b[39m\u001b[38;5;124msingle positional indexer is out-of-bounds\u001b[39m\u001b[38;5;124m\"\u001b[39m)\n",
      "\u001b[0;31mIndexError\u001b[0m: single positional indexer is out-of-bounds"
     ]
    },
    {
     "data": {
      "image/png": "[encoded data removed]",
      "text/plain": [
       "<Figure size 800x1200 with 3 Axes>"
      ]
     },
     "metadata": {},
     "output_type": "display_data"
    }
   ],
   "source": [
    "def __makeplot_beam_wander(df0):\n",
    "\n",
    "    import matplotlib.pyplot as plt\n",
    "    from matplotlib.gridspec import GridSpec\n",
    "    from matplotlib.ticker import (MultipleLocator, AutoMinorLocator)\n",
    "\n",
    "    time_scaling = 1/86400\n",
    "\n",
    "    Ncol, Nrow = 2, 6\n",
    "\n",
    "    font = 12\n",
    "\n",
    "    fig = plt.figure(figsize=(8, 12))\n",
    "\n",
    "    gs1 = GridSpec(Nrow, Ncol, figure=fig, hspace=0.7)\n",
    "    gs2 = GridSpec(Nrow, Ncol, figure=fig)\n",
    "\n",
    "    ax1 = fig.add_subplot(gs1[0:3, :])\n",
    "\n",
    "    ax2 = fig.add_subplot(gs2[3, :])\n",
    "    ax3 = fig.add_subplot(gs2[4, :])\n",
    "\n",
    "    plt.subplots_adjust(hspace=0.25)\n",
    "\n",
    "    # ax1.scatter(df0.x_idx, df0.y_idx, c=df0.time_sec*time_scaling, s=5, zorder=2)\n",
    "    # cb = ax1.scatter(df0.x, df0.y, c=df0.time_sec*time_scaling, s=5, zorder=2)\n",
    "    cb = ax1.scatter(df0.x_um_rel, df0.y_um_rel, c=df0.time_sec*time_scaling, s=3, zorder=2)\n",
    "\n",
    "    # ax2.scatter(df0.time_sec*time_scaling, df0.y, c=df0.time_sec*time_scaling, s=5, zorder=2)\n",
    "    # ax3.scatter(df0.time_sec*time_scaling, df0.x, c=df0.time_sec*time_scaling, s=5, zorder=2)\n",
    "    ax2.scatter(df0.time_sec*time_scaling, df0.y_um_rel, c=df0.time_sec*time_scaling, s=5, zorder=2)\n",
    "    ax3.scatter(df0.time_sec*time_scaling, df0.x_um_rel, c=df0.time_sec*time_scaling, s=5, zorder=2)\n",
    "\n",
    "    ax1.set_ylabel(\"rel. Y-Position ($\\mu$m)\")\n",
    "    ax1.set_xlabel(\"rel. X-Position ($\\mu$m)\")\n",
    "\n",
    "    ax2.set_ylabel(\"rel. X Position ($\\mu$m)\")\n",
    "    # ax2.set_xlabel(f\"Time (days) from {str(df.time_utc.iloc[0])[:10]}\")\n",
    "\n",
    "    ax3.set_ylabel(\"rel. X-Position  ($\\mu$m)\")\n",
    "    ax3.set_xlabel(f\"Time (days) from {str(df.time_utc.iloc[0])[:10]}\")\n",
    "\n",
    "    for ax in [ax1, ax2, ax3]:\n",
    "        ax.grid(ls=\":\", alpha=0.5, zorder=0)\n",
    "\n",
    "    for ax in [ax2, ax3]:\n",
    "        ax.set_xlim(left=0)\n",
    "        ax.xaxis.set_major_locator(MultipleLocator(5))\n",
    "        ax.xaxis.set_minor_locator(MultipleLocator(1))\n",
    "\n",
    "    # x1, x2 = 3.44, 3.52\n",
    "    # y1, y2 = 1.62, 1.66\n",
    "    x1, x2 = -20, 350\n",
    "    y1, y2 = -50, 100\n",
    "    ax1.set_xlim(x1, x2)\n",
    "    ax1.set_ylim(y1, y2)\n",
    "    ax2.set_ylim(y1, y2)\n",
    "    ax3.set_ylim(x1, x2)\n",
    "\n",
    "    # add title\n",
    "    ax1.set_title(f\"Beam Wander - North Ring (NW) [ {df0.time_utc.iloc[0].date} - {df0.time_utc.iloc[-1].date} ]\", fontsize=font+1)\n",
    "\n",
    "    # add colorbar\n",
    "    cax1 = ax1.inset_axes([0.08, 0.86, 0.4, 0.02])\n",
    "    cb5 = plt.colorbar(cb, ax=ax1, cax=cax1, orientation=\"horizontal\")\n",
    "    cb5.set_label(f\"Time from {df0.time_utc.iloc[0].date} (days)\", fontsize=font, labelpad=-40)\n",
    "\n",
    "    # add maintencane periods\n",
    "    ref_date = config['date1']\n",
    "    for ax in [ax2, ax3]:\n",
    "        for lx1, lx2 in zip(lxx_t1, lxx_t2):\n",
    "            lx1_sec = lx1-UTCDateTime(ref_date)\n",
    "            lx2_sec = lx2-UTCDateTime(ref_date)\n",
    "            ax.fill_betweenx([-1000, 1000], lx1_sec*time_scaling, lx2_sec*time_scaling, color=\"yellow\", alpha=0.3)\n",
    "\n",
    "    axes = [ax1, ax2, ax3]\n",
    "    for _k, (ax, ll) in enumerate(zip(axes, ['(a)', '(b)', '(c)'])):\n",
    "        ax.text(.005, .97, ll, ha='left', va='top', transform=ax.transAxes, fontsize=font+2)\n",
    "\n",
    "\n",
    "    plt.show();\n",
    "    return fig\n",
    "\n",
    "fig = __makeplot_beam_wander(df)\n",
    "\n",
    "fig.savefig(config['path_to_figures']+f\"BeamWander_RU_{config['date1']}_{config['date2']}.png\", format=\"png\", dpi=150, bbox_inches='tight')\n"
   ]
  },
  {
   "cell_type": "code",
   "execution_count": null,
   "id": "fa370f18-5bdd-4902-8b5b-d9ac1e83a156",
   "metadata": {},
   "outputs": [],
   "source": []
  },
  {
   "cell_type": "code",
   "execution_count": null,
   "id": "47bf846b-59f0-42fc-9118-314894c07376",
   "metadata": {},
   "outputs": [],
   "source": []
  },
  {
   "cell_type": "code",
   "execution_count": null,
   "id": "6974fc1b-5427-48ba-b02d-9286e36c607f",
   "metadata": {
    "tags": []
   },
   "outputs": [],
   "source": [
    "def __makeplot():\n",
    "\n",
    "    Nrow, Ncol = 7, 1\n",
    "\n",
    "    font = 12\n",
    "    size = 2\n",
    "    tscale = 1/86400\n",
    "\n",
    "    fig, ax = plt.subplots(Nrow, Ncol, figsize=(15, 10), sharex=True)\n",
    "\n",
    "    # ax[0].fill_between(df.time_sec*tscale, df.x-df.x_var, df.x+df.x_var,\n",
    "    #                    color=\"grey\", alpha=0.7, interpolate=False\n",
    "    #                   )\n",
    "    ax[0].scatter(df.time_sec*tscale, df.x, s=size, zorder=2, color=\"k\")\n",
    "    ax[0].set_ylim(3.42, 3.8)\n",
    "    ax[0].set_ylabel(\"X position\")\n",
    "\n",
    "    # ax[1].fill_between(df.time_sec*tscale, df.y-df.y_var, df.y+df.y_var,\n",
    "    #                    color=\"grey\", alpha=0.7, interpolate=False\n",
    "    #                   )\n",
    "    ax[1].scatter(df.time_sec*tscale, df.y, s=size, zorder=2, color=\"k\")\n",
    "    ax[1].set_ylim(1.57, 1.69)\n",
    "    ax[1].set_ylabel(\"Y position\")\n",
    "\n",
    "    # ax[2].fill_between(df.time_sec*tscale, df.amp-df.amp_var, df.amp+df.amp_var,\n",
    "    #                    color=\"grey\", alpha=0.7, interpolate=False\n",
    "    #                   )\n",
    "    ax[2].scatter(df.time_sec*tscale, df.amp, s=size, zorder=2, color=\"k\")\n",
    "    ax[2].set_ylim(50, 130)\n",
    "    ax[2].set_ylabel(\"Intensity\")\n",
    "\n",
    "    # ax[3].fill_between(df.time_sec*tscale, df.x_sig-df.x_sig_var, df.x_sig+df.x_sig_var,\n",
    "    #                    color=\"grey\", alpha=0.7, interpolate=False\n",
    "    #                   )\n",
    "    ax[3].scatter(df.time_sec*tscale, df.x_sig, s=size, zorder=2, color=\"k\")\n",
    "    ax[3].set_ylim(480, 520)\n",
    "    ax[3].set_ylabel(\"Sigma X\")\n",
    "\n",
    "    # ax[4].fill_between(df.time_sec*tscale, df.y_sig-df.y_sig_var, df.y_sig+df.y_sig_var,\n",
    "    #                    color=\"grey\", alpha=0.7, interpolate=False\n",
    "    #                   )\n",
    "    ax[4].scatter(df.time_sec*tscale, df.y_sig, s=size, zorder=2, color=\"k\")\n",
    "    ax[4].set_ylim(480, 530)\n",
    "    ax[4].set_ylabel(\"Sigma Y\")\n",
    "\n",
    "    # ax[5].fill_between(df.time_sec*tscale, df.theta-df.theta_var, df.theta+df.theta_var,\n",
    "    #                    color=\"grey\", alpha=0.7, interpolate=False\n",
    "    #                   )\n",
    "    ax[5].scatter(df.time_sec*tscale, df.theta, s=size, zorder=2, color=\"k\")\n",
    "    ax[5].set_ylim(0.1, 2.2)\n",
    "    ax[5].set_ylabel(\"Theta\")\n",
    "\n",
    "    # ax[6].fill_between(df.time_sec*tscale, df.offset-df.offset_var, df.offset+df.offset_var,\n",
    "    #                    color=\"grey\", alpha=0.7, interpolate=False\n",
    "    #                   )\n",
    "    ax[6].scatter(df.time_sec*tscale, df.offset, s=size, zorder=2, color=\"k\")\n",
    "    ax[6].set_ylim(6.5, 12.5)\n",
    "    ax[6].set_ylabel(\"Offset\")\n",
    "\n",
    "    ax[6].set_xlabel(\"Time (days)\")\n",
    "\n",
    "    for _n in range(Nrow):\n",
    "        ax[_n].grid(ls=\":\", zorder=0)\n",
    "        # ax[_n].legend(loc=1)\n",
    "\n",
    "    plt.show();\n",
    "    return fig\n",
    "\n",
    "fig = __makeplot();\n",
    "\n",
    "fig.savefig(config['path_to_figures']+f\"BeamWander_RU_parameters_{config['date1']}_{config['date2']}.png\", format=\"png\", dpi=150, bbox_inches='tight')\n"
   ]
  },
  {
   "cell_type": "code",
   "execution_count": null,
   "id": "b2ffd9b2-1022-445e-ab30-d3d252a41da0",
   "metadata": {},
   "outputs": [],
   "source": []
  },
  {
   "cell_type": "code",
   "execution_count": null,
   "id": "99707ffb-80fe-4b5c-a699-89a10bd7572e",
   "metadata": {},
   "outputs": [],
   "source": []
  }
 ],
 "metadata": {
  "kernelspec": {
   "display_name": "Python 3 (ipykernel)",
   "language": "python",
   "name": "python3"
  },
  "language_info": {
   "codemirror_mode": {
    "name": "ipython",
    "version": 3
   },
   "file_extension": ".py",
   "mimetype": "text/x-python",
   "name": "python",
   "nbconvert_exporter": "python",
   "pygments_lexer": "ipython3",
   "version": "3.9.19"
  }
 },
 "nbformat": 4,
 "nbformat_minor": 5
}
