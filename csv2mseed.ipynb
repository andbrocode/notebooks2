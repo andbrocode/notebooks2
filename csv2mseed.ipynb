{
 "cells": [
  {
   "cell_type": "markdown",
   "id": "70d44b25-074f-4351-a789-016c697f84e6",
   "metadata": {},
   "source": [
    "# Convert CSV to Mseed"
   ]
  },
  {
   "cell_type": "code",
   "execution_count": 1,
   "id": "dfb18ecc-d511-4d62-8906-7681a0e18c7b",
   "metadata": {},
   "outputs": [],
   "source": [
    "from pandas import read_csv"
   ]
  },
  {
   "cell_type": "code",
   "execution_count": 2,
   "id": "4ce6422a-3291-40b0-a4bd-357d5df34508",
   "metadata": {},
   "outputs": [],
   "source": [
    "def __get_stream(arr, seed, starttime, dt=None, sps=None):\n",
    "\n",
    "    from obspy import Stream, Trace\n",
    "\n",
    "    net, sta, loc, cha = seed.split(\".\")\n",
    "\n",
    "    tr00 = Trace()\n",
    "    tr00.data = arr\n",
    "\n",
    "    if dt is not None:\n",
    "        tr00.stats.delta = dt\n",
    "    elif sps is not None:\n",
    "        tr00.stats.sampling_rate = sps\n",
    "\n",
    "    tr00.stats.starttime = starttime\n",
    "    tr00.stats.network = net\n",
    "    tr00.stats.station = sta\n",
    "    tr00.stats.location = loc\n",
    "    tr00.stats.channel = cha\n",
    "\n",
    "    return Stream(tr00)"
   ]
  },
  {
   "cell_type": "code",
   "execution_count": 3,
   "id": "d13707cf-1127-4022-9dbb-5bf13174422a",
   "metadata": {},
   "outputs": [],
   "source": [
    "def __write_stream_to_sds(st, path_to_sds):\n",
    "\n",
    "    import os\n",
    "\n",
    "    ## check if output path exists\n",
    "    if not os.path.exists(path_to_sds):\n",
    "        print(f\" -> {path_to_sds} does not exist!\")\n",
    "        return\n",
    "\n",
    "    for tr in st:\n",
    "        nn, ss, ll, cc = tr.stats.network, tr.stats.station, tr.stats.location, tr.stats.channel\n",
    "        yy, jj = tr.stats.starttime.year, tr.stats.starttime.julday\n",
    "\n",
    "        if not os.path.exists(path_to_sds+f\"{yy}/\"):\n",
    "            os.mkdir(path_to_sds+f\"{yy}/\")\n",
    "            print(f\"creating: {path_to_sds}{yy}/\")\n",
    "        if not os.path.exists(path_to_sds+f\"{yy}/{nn}/\"):\n",
    "            os.mkdir(path_to_sds+f\"{yy}/{nn}/\")\n",
    "            print(f\"creating: {path_to_sds}{yy}/{nn}/\")\n",
    "        if not os.path.exists(path_to_sds+f\"{yy}/{nn}/{ss}/\"):\n",
    "            os.mkdir(path_to_sds+f\"{yy}/{nn}/{ss}/\")\n",
    "            print(f\"creating: {path_to_sds}{yy}/{nn}/{ss}/\")\n",
    "        if not os.path.exists(path_to_sds+f\"{yy}/{nn}/{ss}/{cc}.D\"):\n",
    "            os.mkdir(path_to_sds+f\"{yy}/{nn}/{ss}/{cc}.D\")\n",
    "            print(f\"creating: {path_to_sds}{yy}/{nn}/{ss}/{cc}.D\")\n",
    "\n",
    "    for tr in st:\n",
    "        nn, ss, ll, cc = tr.stats.network, tr.stats.station, tr.stats.location, tr.stats.channel\n",
    "        yy, jj = tr.stats.starttime.year, str(tr.stats.starttime.julday).rjust(3,\"0\")\n",
    "\n",
    "        try:\n",
    "            st_tmp = st.copy()\n",
    "            st_tmp.select(network=nn, station=ss, location=ll, channel=cc).write(path_to_sds+f\"{yy}/{nn}/{ss}/{cc}.D/\"+f\"{nn}.{ss}.{ll}.{cc}.D.{yy}.{jj}\", format=\"MSEED\")\n",
    "        except:\n",
    "            print(f\" -> failed to write: {cc}\")\n",
    "        finally:\n",
    "            print(f\" -> stored stream as: {yy}/{nn}/{ss}/{cc}.D/{nn}.{ss}.{ll}.{cc}.D.{yy}.{jj}\")"
   ]
  },
  {
   "cell_type": "markdown",
   "id": "ff0bfe19-1565-4d9b-a674-4639b7917f29",
   "metadata": {},
   "source": [
    "### Configurations"
   ]
  },
  {
   "cell_type": "code",
   "execution_count": 4,
   "id": "e6d16ae4-9740-49e1-a90b-c93f5c34aa0b",
   "metadata": {},
   "outputs": [],
   "source": [
    "path_to_data = \"/import/kilauea-data/sagnac_frequency/bonn/\"\n",
    "\n",
    "filename = \"4h_GEORG_Data.csv\"\n",
    "\n",
    "sps = 7000\n",
    "\n",
    "starttime = \"2024-10-01 00:00\"\n",
    "\n",
    "seed_code = \"XX.GEORG..BJZ\""
   ]
  },
  {
   "cell_type": "markdown",
   "id": "6752959e-de8c-44a6-8eb4-38b002c19d05",
   "metadata": {},
   "source": [
    "### read csv data to dataframe"
   ]
  },
  {
   "cell_type": "code",
   "execution_count": 5,
   "id": "ad3b2c40-4549-4ef0-aebb-056c25ea582e",
   "metadata": {},
   "outputs": [],
   "source": [
    "df = read_csv(path_to_data+filename, names=[\"time\", \"data\"])"
   ]
  },
  {
   "cell_type": "markdown",
   "id": "565a3c0c-131e-492e-8976-9b2e76673bdc",
   "metadata": {},
   "source": [
    "### create stream"
   ]
  },
  {
   "cell_type": "code",
   "execution_count": 6,
   "id": "97441e05-364e-4d23-bf04-5c604cc8f0ab",
   "metadata": {},
   "outputs": [],
   "source": [
    "st = __get_stream(df['data'].values, seed_code, starttime, sps=sps)"
   ]
  },
  {
   "cell_type": "markdown",
   "id": "2895e150-839d-4c6a-83f4-4a493c3cd065",
   "metadata": {},
   "source": [
    "### write data as mseed to SDS archive"
   ]
  },
  {
   "cell_type": "code",
   "execution_count": 7,
   "id": "015520be-6ac3-4726-867f-6651a5d4353c",
   "metadata": {},
   "outputs": [
    {
     "name": "stdout",
     "output_type": "stream",
     "text": [
      " -> stored stream as: 2024/XX/GEORG/BJZ.D/XX.GEORG..BJZ.D.2024.275\n"
     ]
    }
   ],
   "source": [
    "__write_stream_to_sds(st, path_to_data)"
   ]
  },
  {
   "cell_type": "code",
   "execution_count": null,
   "id": "8c6df776-c0a3-4e35-8385-75e2fa22d052",
   "metadata": {},
   "outputs": [],
   "source": []
  }
 ],
 "metadata": {
  "kernelspec": {
   "display_name": "Python 3 (ipykernel)",
   "language": "python",
   "name": "python3"
  },
  "language_info": {
   "codemirror_mode": {
    "name": "ipython",
    "version": 3
   },
   "file_extension": ".py",
   "mimetype": "text/x-python",
   "name": "python",
   "nbconvert_exporter": "python",
   "pygments_lexer": "ipython3",
   "version": "3.9.19"
  }
 },
 "nbformat": 4,
 "nbformat_minor": 5
}
