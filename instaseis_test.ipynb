{
 "cells": [
  {
   "cell_type": "markdown",
   "metadata": {},
   "source": [
    "# Instaseis Test "
   ]
  },
  {
   "cell_type": "code",
   "execution_count": 26,
   "metadata": {},
   "outputs": [],
   "source": [
    "import instaseis\n",
    "import obspy\n",
    "\n",
    "from obspy.clients.fdsn import RoutingClient, Client"
   ]
  },
  {
   "cell_type": "markdown",
   "metadata": {},
   "source": [
    "### Get background model"
   ]
  },
  {
   "cell_type": "code",
   "execution_count": 27,
   "metadata": {},
   "outputs": [],
   "source": [
    "# load local background model\n",
    "db = instaseis.open_db(\"/home/andbro/Documents/geodata/10s_PREM_ANI_FORCES/\")\n",
    "\n",
    "# load external background model\n",
    "#db = instaseis.open_db(\"http://127.0.0.10\")\n",
    "\n",
    "# print(db)"
   ]
  },
  {
   "cell_type": "markdown",
   "metadata": {},
   "source": [
    "### Define variables"
   ]
  },
  {
   "cell_type": "code",
   "execution_count": 28,
   "metadata": {},
   "outputs": [],
   "source": [
    "\n",
    "# station code\n",
    "seed_id = \"GR.WET..BH*\"\n",
    "# seed_id = \"BW.ROMY..BJZ\"\n",
    "\n",
    "tbeg = obspy.UTCDateTime(2020, 10, 30, 11, 50)\n",
    "tend = obspy.UTCDateTime(2020, 10, 30, 12, 15)\n",
    "\n",
    "t =  obspy.UTCDateTime(2020, 10, 30)\n",
    "\n",
    "net, sta, loc, cha = seed_id.split(\".\")\n",
    "\n",
    "route = RoutingClient(\"eida-routing\")\n",
    "\n"
   ]
  },
  {
   "cell_type": "markdown",
   "metadata": {},
   "source": [
    "### Get Data"
   ]
  },
  {
   "cell_type": "code",
   "execution_count": 29,
   "metadata": {
    "code_folding": []
   },
   "outputs": [],
   "source": [
    "\n",
    "def getData(seed_id, tbeg, tend):\n",
    "    \n",
    "    net, sta, loc, cha = seed_id.split(\".\")\n",
    "\n",
    "    inv = obspy.read_inventory(level=\"response\")\n",
    "\n",
    "    fur_inv = route.get_stations(\n",
    "        network=net, \n",
    "        station=sta, \n",
    "        location=loc, \n",
    "        channel=cha, \n",
    "        starttime=tbeg, \n",
    "        endtime=tend,\n",
    "    )\n",
    "\n",
    "    st = route.get_waveforms(\n",
    "        network=net, \n",
    "        station=sta,                                      \n",
    "        location=loc, \n",
    "        channel=cha, \n",
    "        starttime=tbeg, \n",
    "        endtime=tend,\n",
    "    )\n",
    "    \n",
    "    st.remove_response(inv)\n",
    "#     st.remove_sensitivity(inv)\n",
    "    \n",
    "    return st, fur_inv, inv\n",
    "\n",
    "## get waveforms and inventory\n",
    "fur, fur_inv, inv = getData(\"GR.FUR..BH*\", tbeg, tend)\n"
   ]
  },
  {
   "cell_type": "markdown",
   "metadata": {},
   "source": [
    "### Get synthetic seismograms from instaseis - Option 1\n"
   ]
  },
  {
   "cell_type": "code",
   "execution_count": 30,
   "metadata": {},
   "outputs": [],
   "source": [
    "## get receiver data\n",
    "fur_coordinates = inv.get_coordinates(\"GR.FUR..BHZ\", t)\n",
    "\n",
    "## define receiver\n",
    "receiver = instaseis.Receiver(\n",
    "                latitude = fur_coordinates[\"latitude\"],\n",
    "                longitude = fur_coordinates[\"longitude\"],\n",
    "                network = net,\n",
    "                station = sta,\n",
    ")\n",
    "\n",
    "## define source\n",
    "source = instaseis.Source(\n",
    "    latitude=37.90, longitude=26.82, depth_in_m=21000,\n",
    "    m_rr = -3.53e19 ,\n",
    "    m_tt =  3.46e19 ,\n",
    "    m_pp =  0.07e19 ,\n",
    "    m_rt =  0.50e19 ,\n",
    "    m_rp =  0.13e19 ,\n",
    "    m_tp = -0.31e19 ,\n",
    "    origin_time=obspy.UTCDateTime(\"2020-10-30T15:19:15.900000Z\")\n",
    ")\n",
    "\n",
    "## call instaseis\n",
    "syn = db.get_seismograms(\n",
    "    source = source, \n",
    "    receiver = receiver, \n",
    "    kind = \"velocity\",\n",
    "    remove_source_shift = True,\n",
    "    dt=fur[0].stats.delta,\n",
    ")\n",
    "\n",
    "\n",
    "syn = syn.sort()\n",
    "\n",
    "#syn.plot();\n",
    "#fur.plot();"
   ]
  },
  {
   "cell_type": "markdown",
   "metadata": {},
   "source": [
    "### Get synthetic seismograms from instaseis - Option 2\n"
   ]
  },
  {
   "cell_type": "code",
   "execution_count": 31,
   "metadata": {},
   "outputs": [],
   "source": [
    "## Get source information\n",
    "\n",
    "#cat = obspy.read_events(\"/home/andbro/Documents/geodata/turkey_source.xml\", format=\"quakeml\")\n",
    "\n",
    "cat = Client(\"IRIS\").get_events(\n",
    "    starttime = tbeg, \n",
    "    endtime = tend, \n",
    "    minmagnitude = 6.9\n",
    ")\n",
    "\n",
    "# cat.plot(projection=\"ortho\");\n",
    "event = cat[0]\n",
    "\n",
    "\n",
    "## define source\n",
    "src = instaseis.Source(\n",
    "    latitude=event.origins[0].latitude,\n",
    "    longitude=event.origins[0].longitude,\n",
    "    depth_in_m=event.origins[0].depth,\n",
    "    m_rr = -3.53e19 ,\n",
    "    m_tt =  3.46e19 ,\n",
    "    m_pp =  0.07e19 ,\n",
    "    m_rt =  0.50e19 ,\n",
    "    m_rp =  0.13e19 ,\n",
    "    m_tp = -0.31e19 ,\n",
    "    origin_time=event.origins[0].time\n",
    ")\n",
    "#print(src)"
   ]
  },
  {
   "cell_type": "code",
   "execution_count": 32,
   "metadata": {},
   "outputs": [],
   "source": [
    "syn = db.get_seismograms(\n",
    "    source = src, \n",
    "    receiver = fur_inv,\n",
    "    kind = \"velocity\",\n",
    "    remove_source_shift = True,\n",
    "    dt=fur[0].stats.delta,\n",
    ")\n",
    "\n",
    "syn = syn.sort()"
   ]
  },
  {
   "cell_type": "markdown",
   "metadata": {},
   "source": [
    "### Process data"
   ]
  },
  {
   "cell_type": "code",
   "execution_count": 33,
   "metadata": {},
   "outputs": [],
   "source": [
    "syn.filter(\"lowpass\", freq=1.0 , corners=4)\n",
    "fur.filter(\"lowpass\", freq=1.0 , corners=4)\n",
    "\n",
    "for tr1 ,tr2 in zip(fur, syn):\n",
    "    tr1.data = tr1.data / 1e3\n",
    "    tr2.data = tr2.data / 1e3"
   ]
  },
  {
   "cell_type": "markdown",
   "metadata": {},
   "source": [
    "### Compare the observed and synthetic seismograms"
   ]
  },
  {
   "cell_type": "code",
   "execution_count": 34,
   "metadata": {
    "code_folding": [
     4
    ]
   },
   "outputs": [
    {
     "name": "stdout",
     "output_type": "stream",
     "text": [
      "Using matplotlib backend: Qt5Agg\n"
     ]
    }
   ],
   "source": [
    "%matplotlib auto\n",
    "\n",
    "import matplotlib.pyplot as plt \n",
    "\n",
    "def __plotCompareStreams(st1, st2):\n",
    "    \"\"\"\n",
    "    dependencies: \n",
    "        - import matplotlib.pyplot as plt\n",
    "    \"\"\"\n",
    "    \n",
    "    tstart = min(st1[0].stats.starttime, st2[0].stats.starttime)\n",
    "    \n",
    "    ## find out about the number of rows\n",
    "    if st1.count() is not st2.count():\n",
    "        print(\"streams do not have the same amount of traces!\")\n",
    "        \n",
    "    else: \n",
    "        rows = st1.count()\n",
    "    \n",
    "    ## create figure and axes objects \n",
    "    fig,  axes = plt.subplots(rows,1, figsize=(15,10))\n",
    "\n",
    "    ## perform the plotting\n",
    "    for i, ax in enumerate(axes):\n",
    "        ax.plot(st1[i].times(\"matplotlib\"), st1[i].data, label=f'{sta}.{st1[i].id.split(\".\")[3]}', color=\"red\")\n",
    "        ax.plot(st2[i].times(\"matplotlib\"), st2[i].data, label=f'{sta}.{st2[i].id.split(\".\")[3]}', color=\"black\")\n",
    "\n",
    "        #ax.plot(st1[i].times(\"matplotlib\")[0], 0, \"*g-\", linewidth=4, markersize=12)\n",
    "\n",
    "        ax.legend()\n",
    "        ax.set_ylabel(\"velocity (mm/s)\")\n",
    "\n",
    "    ax.set_xlabel(f\"Time (s) from {tstart.date} {tstart.time} UTC \")\n",
    "    \n",
    "    plt.show();\n",
    "    \n",
    "__plotCompareStreams(fur, syn)"
   ]
  }
 ],
 "metadata": {
  "kernelspec": {
   "display_name": "Python 3",
   "language": "python",
   "name": "python3"
  },
  "language_info": {
   "codemirror_mode": {
    "name": "ipython",
    "version": 3
   },
   "file_extension": ".py",
   "mimetype": "text/x-python",
   "name": "python",
   "nbconvert_exporter": "python",
   "pygments_lexer": "ipython3",
   "version": "3.7.8"
  }
 },
 "nbformat": 4,
 "nbformat_minor": 4
}
