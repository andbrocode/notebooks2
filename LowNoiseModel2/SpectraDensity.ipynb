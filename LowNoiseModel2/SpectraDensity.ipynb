{
 "cells": [
  {
   "cell_type": "markdown",
   "id": "eda030d3",
   "metadata": {},
   "source": [
    "# Spectral Density"
   ]
  },
  {
   "cell_type": "markdown",
   "id": "protected-presentation",
   "metadata": {},
   "source": [
    "## Load Libraries"
   ]
  },
  {
   "cell_type": "code",
   "execution_count": 1,
   "id": "behind-arrangement",
   "metadata": {
    "ExecuteTime": {
     "end_time": "2023-08-07T14:02:02.205745Z",
     "start_time": "2023-08-07T14:01:59.488541Z"
    },
    "tags": []
   },
   "outputs": [],
   "source": [
    "from andbro__querrySeismoData import __querrySeismoData\n",
    "from andbro__savefig import __savefig\n",
    "\n",
    "from obspy import UTCDateTime\n",
    "from scipy.signal import welch\n",
    "from numpy import log10, zeros, pi, append, linspace, mean, median, array, where, transpose, shape, histogram, arange\n",
    "from numpy import logspace, linspace, log, log10, isinf, ones, nan, count_nonzero, sqrt, isnan\n",
    "from pandas import DataFrame, concat, Series, date_range, read_csv, read_pickle\n",
    "from tqdm import tqdm_notebook\n",
    "from pathlib import Path\n",
    "\n",
    "import os\n",
    "import pickle\n",
    "import matplotlib.pyplot as plt"
   ]
  },
  {
   "cell_type": "code",
   "execution_count": 2,
   "id": "108de4ae-3e3f-42d5-8fcd-8148e4c1f128",
   "metadata": {
    "tags": []
   },
   "outputs": [],
   "source": [
    "from functions.get_hist_loglog import __get_hist_loglog\n",
    "from functions.replace_noise_psd_with_nan import __replace_noisy_psds_with_nan"
   ]
  },
  {
   "cell_type": "code",
   "execution_count": 3,
   "id": "f337911b",
   "metadata": {
    "ExecuteTime": {
     "end_time": "2023-08-07T14:02:02.308085Z",
     "start_time": "2023-08-07T14:02:02.293848Z"
    },
    "tags": []
   },
   "outputs": [],
   "source": [
    "if os.uname().nodename == 'lighthouse':\n",
    "    root_path = '/home/andbro/'\n",
    "    data_path = '/home/andbro/kilauea-data/'\n",
    "    archive_path = '/home/andbro/freenas/'\n",
    "    bay_path = '/home/andbro/bay200/'\n",
    "elif os.uname().nodename == 'kilauea':\n",
    "    root_path = '/home/brotzer/'\n",
    "    data_path = '/import/kilauea-data/'\n",
    "    archive_path = '/import/freenas-ffb-01-data/'\n",
    "    bay_path = '/bay200/'\n",
    "elif os.uname().nodename == 'lin-ffb-01':\n",
    "    root_path = '/home/brotzer/'\n",
    "    data_path = '/import/kilauea-data/'\n",
    "    archive_path = '/import/freenas-ffb-01-data/'\n",
    "    bay_path = '/bay200/'"
   ]
  },
  {
   "cell_type": "markdown",
   "id": "subject-expression",
   "metadata": {},
   "source": [
    "## Configurations"
   ]
  },
  {
   "cell_type": "code",
   "execution_count": 4,
   "id": "cea9400c-59b1-4a60-b81b-53e18fffc711",
   "metadata": {
    "tags": []
   },
   "outputs": [],
   "source": [
    "config = {}\n",
    "\n",
    "# config['sta'] = \"FUR\"\n",
    "config['sta'] = \"ROMY\"\n",
    "\n",
    "config['d1'], config['d2'] = \"2023-09-23\", \"2023-12-31\"\n",
    "\n",
    "config['path_to_data'] = data_path+f\"LNM2/PSDS/\"\n",
    "\n",
    "config['path_to_outdata'] = data_path+f\"LNM2/data/\"\n",
    "\n",
    "config['outpath_figures'] = data_path+f\"LNM2/figures/\"\n",
    "\n",
    "config['frequency_limits'] = 1e-3, 1e1\n"
   ]
  },
  {
   "cell_type": "markdown",
   "id": "natural-beginning",
   "metadata": {},
   "source": [
    "## Methods"
   ]
  },
  {
   "cell_type": "code",
   "execution_count": 5,
   "id": "e8453ee6",
   "metadata": {
    "ExecuteTime": {
     "end_time": "2023-08-07T14:03:57.177938Z",
     "start_time": "2023-08-07T14:03:57.174706Z"
    },
    "code_folding": [
     0
    ],
    "tags": []
   },
   "outputs": [],
   "source": [
    "def __filter_psds(psds, thresholds):\n",
    "\n",
    "    from numpy import mean, array\n",
    "\n",
    "    psds_filtered = []\n",
    "        ## filter mean psds values\n",
    "#         m_psd = mean(psd)\n",
    "#         if m_psd > thresholds[0] and m_psd < thresholds[1]:\n",
    "#             psds_filtered.append(psd)\n",
    "\n",
    "    ## filter for periods larger than 20 seconds\n",
    "    if mean(psd[0:63]) < thresholds[0]:\n",
    "        psds_filtered.append(psd)\n",
    "\n",
    "    print(f\" -> removed {len(psds)- len(psds_filtered)} of {len(psds)} psds due to thresholds: {thresholds[0]} & {thresholds[1]}\")\n",
    "    return array(psds_filtered)"
   ]
  },
  {
   "cell_type": "code",
   "execution_count": 6,
   "id": "f9df50f3",
   "metadata": {
    "ExecuteTime": {
     "end_time": "2023-08-07T14:03:57.507675Z",
     "start_time": "2023-08-07T14:03:57.501498Z"
    },
    "code_folding": [
     0
    ],
    "tags": []
   },
   "outputs": [],
   "source": [
    "def __cut_frequencies_array(arr, freqs, fmin, fmax):\n",
    "\n",
    "    ind = []\n",
    "    for i, f in enumerate(freqs):\n",
    "        if f >= fmin and f <= fmax:\n",
    "            ind.append(i)\n",
    "\n",
    "    ff = freqs[ind[0]:ind[-1]]\n",
    "    pp = arr[:,ind[0]:ind[-1]]\n",
    "\n",
    "    return pp, ff"
   ]
  },
  {
   "cell_type": "code",
   "execution_count": 7,
   "id": "8efbaf73",
   "metadata": {
    "ExecuteTime": {
     "end_time": "2023-08-07T14:03:57.827780Z",
     "start_time": "2023-08-07T14:03:57.815758Z"
    },
    "code_folding": [
     0
    ],
    "tags": []
   },
   "outputs": [],
   "source": [
    "def __makeplot_colorlines(config, ff, psds, rejected, day):\n",
    "\n",
    "    from tqdm.notebook import tqdm\n",
    "    from numpy import isnan, median, mean, std, array, zeros\n",
    "    from scipy.stats import median_abs_deviation as mad\n",
    "\n",
    "#     psds_median = __get_median_psd(array(psds))\n",
    "#     psds_minimal = __get_minimal_psd(array(psds))\n",
    "#     psds_minimum = __get_minimum_psd(array(psds), ff)\n",
    "\n",
    "\n",
    "\n",
    "    ##____________________________\n",
    "\n",
    "\n",
    "    fig, axes = plt.subplots(1, 1, figsize=(15,7), sharey=False, sharex=True)\n",
    "\n",
    "    plt.subplots_adjust(hspace=0.1)\n",
    "\n",
    "    font = 14\n",
    "\n",
    "    N = 24\n",
    "    colors = plt.cm.rainbow(linspace(0, 1, N))\n",
    "    cmap = plt.get_cmap('rainbow', 24)\n",
    "\n",
    "    for n, psd in enumerate(psds):\n",
    "        axes.loglog(ff, psd, color=colors[n], alpha=0.7)\n",
    "        p2 = axes.scatter(ff[0], psd[0], s=0.1, c=int(n/N), cmap=cmap, vmin=0, vmax=N)\n",
    "\n",
    "    for reject in rejected:\n",
    "         axes.loglog(ff, reject, color='grey', alpha=0.6, zorder=1)\n",
    "\n",
    "    axes.loglog(ff, __get_median_psd(psds), 'black', zorder=3, alpha=0.6, label=\"Median\")\n",
    "\n",
    "    axes.grid(True, which=\"both\", ls=\"-\", alpha=0.5)\n",
    "    axes.legend(loc='lower left')\n",
    "    axes.tick_params(labelsize=font-2)\n",
    "\n",
    "    axes.set_xlim(1e-3, 2e1)\n",
    "#     axes.set_ylim(1e-23, 1e-16)\n",
    "\n",
    "    axes.set_xlabel(\"  Frequency (Hz)\", fontsize=font, labelpad=-1)\n",
    "\n",
    "\n",
    "    # axes.set_ylabel(r\"PSD$_{absolute}$ ($hPa$/$Hz)$\", fontsize=font)\n",
    "    axes.set_ylabel(r\"PSD$_{infrasound}$ ($hPa$/$Hz)$\", fontsize=font)\n",
    "\n",
    "    ## set colorbar at bottom\n",
    "    cbar = fig.colorbar(p2, orientation='vertical', ax=axes, aspect=50, pad=-1e-5,\n",
    "                       ticks=arange(1,N,2))\n",
    "\n",
    "    axes.set_title(f\"{config['station']} | {day}\")\n",
    "\n",
    "    plt.show();\n",
    "    return fig"
   ]
  },
  {
   "cell_type": "code",
   "execution_count": 8,
   "id": "cd183d87",
   "metadata": {
    "ExecuteTime": {
     "end_time": "2023-08-07T14:03:57.971120Z",
     "start_time": "2023-08-07T14:03:57.956350Z"
    },
    "code_folding": [
     0
    ],
    "tags": []
   },
   "outputs": [],
   "source": [
    "def __makeplot_colorlines_overview(config, ff, psds, rejected, day):\n",
    "\n",
    "    from tqdm.notebook import tqdm\n",
    "    from numpy import isnan, median, mean, std, array, zeros\n",
    "    from scipy.stats import median_abs_deviation as mad\n",
    "\n",
    "#     psds_median = __get_median_psd(array(psds))\n",
    "#     psds_minimal = __get_minimal_psd(array(psds))\n",
    "#     psds_minimum = __get_minimum_psd(array(psds), ff)\n",
    "\n",
    "\n",
    "    ## convert frequencies to periods\n",
    "    pp=[]\n",
    "    for mm in range(len(ff)):\n",
    "        ppp = zeros(len(ff[mm]))\n",
    "        ppp = 1/ff[mm]\n",
    "        pp.append(ppp)\n",
    "\n",
    "\n",
    "    ##____________________________\n",
    "\n",
    "    NN = 3\n",
    "\n",
    "    fig, axes = plt.subplots(NN,1, figsize=(10,10), sharey=False, sharex=True)\n",
    "\n",
    "    plt.subplots_adjust(hspace=0.1)\n",
    "\n",
    "    font = 14\n",
    "\n",
    "#     N = max(psds[0].shape[0], psds[1].shape[0], psds[2].shape[0])\n",
    "#     colors = plt.cm.rainbow(linspace(0, 1, N))\n",
    "\n",
    "    N = 24\n",
    "    colors = plt.cm.rainbow(linspace(0,1,N))\n",
    "    cmap = plt.get_cmap('rainbow', 24)\n",
    "\n",
    "\n",
    "    ## add Frequency Axis\n",
    "#     g = lambda x: 1/x\n",
    "#     ax2 = axes[0].secondary_xaxis(\"top\", functions=(g,g))\n",
    "#     ax2.set_xlabel(\"  Frequency (Hz)\", fontsize=font, labelpad=-1)\n",
    "#     ax2.set_xticklabels(ff[2], fontsize=11)\n",
    "#     ax2.tick_params(axis='both', labelsize=font-2)\n",
    "\n",
    "\n",
    "    for j in range(NN):\n",
    "        for n, psd in enumerate(tqdm(psds[j])):\n",
    "            axes[j].loglog(ff[j], psd, color=colors[n], alpha=0.7)\n",
    "            p2 = axes[j].scatter(ff[j][0], psd[0], s=0., c=n/N, cmap=cmap, vmin=0, vmax=N)\n",
    "\n",
    "        for reject in rejected[j]:\n",
    "             axes[j].loglog(ff[j],reject, color='grey', alpha=0.6, zorder=1)\n",
    "\n",
    "        axes[j].loglog(ff[j], __get_median_psd(psds[j]), 'black', zorder=3, alpha=0.6, label=\"Median\")\n",
    "\n",
    "\n",
    "        axes[j].grid(True, which=\"both\", ls=\"-\", alpha=0.5)\n",
    "        axes[j].legend(loc='lower left')\n",
    "        axes[j].tick_params(labelsize=font-2)\n",
    "\n",
    "\n",
    "    axes[NN-1].set_xlabel(\"  Frequency (Hz)\", fontsize=font, labelpad=-1)\n",
    "\n",
    "    ## panel labels\n",
    "    axes[0].text(.01, .99, 'a)', ha='left', va='top', transform=axes[0].transAxes, fontsize=font+2)\n",
    "    axes[1].text(.01, .99, 'b)', ha='left', va='top', transform=axes[1].transAxes, fontsize=font+2)\n",
    "    axes[2].text(.01, .99, 'c)', ha='left', va='top', transform=axes[2].transAxes, fontsize=font+2)\n",
    "\n",
    "    axes[0].set_ylabel(r\"PSD$_{vertical}$ (m$^2$/s$^4$/$Hz)$\", fontsize=font)\n",
    "    axes[1].set_ylabel(r\"PSD$_{north}$ (m$^2$/s$^4$/$Hz)$\", fontsize=font)\n",
    "    axes[2].set_ylabel(r\"PSD$_{east}$ (m$^2$/s$^4$/$Hz)$\", fontsize=font)\n",
    "\n",
    "    ## set colorbar at bottom\n",
    "    cbar = fig.colorbar(p2, orientation='vertical', ax=axes.ravel().tolist(), aspect=50, pad=-1e-5,\n",
    "                       ticks=arange(1,N,2))\n",
    "\n",
    "\n",
    "    plt.show();\n",
    "    return fig"
   ]
  },
  {
   "cell_type": "markdown",
   "id": "3cff2634",
   "metadata": {},
   "source": [
    "## RUN for all files "
   ]
  },
  {
   "cell_type": "code",
   "execution_count": 9,
   "id": "69913014-5c05-4392-9266-5ad1c56c255d",
   "metadata": {
    "tags": []
   },
   "outputs": [],
   "source": [
    "def __get_hist_loglog(psd_array, ff, bins=20, density=False, axis=1, plot=False):\n",
    "\n",
    "    import matplotlib.pyplot as plt\n",
    "    from numpy import argmax, std, median, isnan, array, histogram, nan, zeros, count_nonzero, isinf, log10, nanmax, nanmin, nonzero\n",
    "    from scipy.stats import median_abs_deviation as mad\n",
    "\n",
    "    def __convert_to_log(in_psds):\n",
    "\n",
    "        out_psds = zeros(in_psds.shape)\n",
    "        rows_with_zeros = 0\n",
    "\n",
    "        for i, psd in enumerate(in_psds):\n",
    "            if count_nonzero(psd) != len(psd):\n",
    "                rows_with_zeros += 1\n",
    "                psd = [nan for val in psd if val == 0]\n",
    "            out_psds[i, :] = log10(psd)\n",
    "            if isinf(out_psds[i,:]).any():\n",
    "                out_psds[i, :] = nan * ones(len(out_psds[i, :]))\n",
    "\n",
    "        print(f\" -> rows with zeros: {rows_with_zeros}\")\n",
    "\n",
    "        return out_psds\n",
    "\n",
    "    ## converting to log10\n",
    "    psd_array = __convert_to_log(psd_array)\n",
    "\n",
    "    ## exclude psds with only NaN values\n",
    "    psds = array([psd for psd in psd_array if not isnan(psd).all()])\n",
    "    print(f\" -> total spectra used: {psd_array.shape[0]}\")\n",
    "\n",
    "    ## find overall minimum and maxium values\n",
    "    # max_value = max([max(sublist) for sublist in psd_array])\n",
    "    # min_value = min([min(sublist) for sublist in psd_array])\n",
    "    max_value = nanmax(psd_array.reshape(psd_array.size))\n",
    "    min_value = nanmin(psd_array.reshape(psd_array.size))\n",
    "    # print(min_value, max_value)\n",
    "\n",
    "    ## define empty lists\n",
    "    dist, dist_maximas, bins_maximas, bins_medians, stds, mads = [], [], [], [], [], []\n",
    "\n",
    "    count = 0\n",
    "    for h in range(len(psd_array[axis])):\n",
    "\n",
    "        psd = psd_array[:, h]\n",
    "\n",
    "        ## compute histograms\n",
    "        hist, bin_edges = histogram(psd, bins=bins, range=(min_value, max_value), density=density);\n",
    "\n",
    "        ## center bins\n",
    "        bin_mids = 0.5*(bin_edges[1:] + bin_edges[:-1])\n",
    "\n",
    "        ## normalization\n",
    "#         if True:\n",
    "#             hist = [val / len(psd_array[:,h]) for val in hist]\n",
    "#             config['set_density'] = True\n",
    "\n",
    "        ## check if density works\n",
    "        # DX = abs(max_value-min_value)/bins\n",
    "        # SUM = sum(hist)\n",
    "        # if str(SUM*DX) != \"1.0\":\n",
    "        #     count += 1\n",
    "\n",
    "        ## modify histogram with range increment\n",
    "        # hist = hist*DX\n",
    "        hist = [h / sum(hist) for h in hist]\n",
    "\n",
    "\n",
    "        ## append values to list\n",
    "        dist.append(hist)\n",
    "        stds.append(std(hist))\n",
    "        dist_maximas.append(max(hist))\n",
    "        bins_maximas.append(bin_mids[argmax(hist)])\n",
    "        mads.append(mad(hist))\n",
    "\n",
    "        ## compute median\n",
    "        psd = psd[~(isnan(psd))]\n",
    "        bins_medians.append(median(psd[psd != 0]))\n",
    "\n",
    "    ## undo log conversion\n",
    "    output = {}\n",
    "    output['dist'] = array(dist)\n",
    "    output['bin_mids'] = 10**array(bin_mids)\n",
    "    output['bins_maximas'] = 10**array(bins_maximas)\n",
    "    output['stds'] = 10**array(stds)\n",
    "    output['mads'] = 10**array(mads)\n",
    "    output['bins_medians'] = 10**array(bins_medians)\n",
    "    output['set_density'] = density\n",
    "    output['total'] = psd_array.shape[0]\n",
    "    output['frequencies'] = ff\n",
    "\n",
    "\n",
    "    ## check plot\n",
    "    if plot:\n",
    "\n",
    "        fig = plt.figure(figsize=(15, 5))\n",
    "        cmap = plt.colormaps.get_cmap('viridis')\n",
    "        cmap.set_under(color='white')\n",
    "\n",
    "        _tmp = output['dist'].reshape(output['dist'].size)\n",
    "        cb = plt.pcolormesh(ff, output['bin_mids'], output['dist'].T, cmap=cmap, shading=\"auto\",\n",
    "                            rasterized=True, antialiased=True, vmin=min(_tmp[nonzero(_tmp)]), norm=\"log\")\n",
    "\n",
    "        plt.yscale(\"log\")\n",
    "        plt.xscale(\"log\")\n",
    "\n",
    "        plt.colorbar(cb)\n",
    "\n",
    "        plt.xlabel(\"Frequency (Hz)\")\n",
    "        plt.ylabel(\"PSD\")\n",
    "\n",
    "        plt.xlim(ff[1], ff[-1])\n",
    "\n",
    "        plt.show();\n",
    "\n",
    "    if count > 0:\n",
    "        print(f\" -> {count}/{len(psd_array[axis])} errors found for density computation!!!\")\n",
    "\n",
    "    return output"
   ]
  },
  {
   "cell_type": "markdown",
   "id": "67e77d36-20b5-44b9-8f2a-158dd6162c6f",
   "metadata": {},
   "source": [
    "### Load PSD Files"
   ]
  },
  {
   "cell_type": "code",
   "execution_count": 10,
   "id": "da5dafeb-4e6c-480e-8195-4c34315cc0e4",
   "metadata": {
    "tags": []
   },
   "outputs": [],
   "source": [
    "def __read_files(seed, tbeg, tend):\n",
    "\n",
    "    net, sta, loc, cha = seed.split('.')\n",
    "\n",
    "    psds_medians_out, times_out = [], []\n",
    "\n",
    "    dat, dates = [], []\n",
    "    for jj, day in enumerate(date_range(tbeg, tend)):\n",
    "\n",
    "        # if jj > 2:\n",
    "        #     continue\n",
    "\n",
    "        day = str(day).split(\" \")[0].replace(\"-\", \"\")\n",
    "\n",
    "        filename = f\"{sta}/{day[:4]}_{sta}_{cha}_3600_{day}_hourly.pkl\"\n",
    "\n",
    "        ## skip if file does not exist\n",
    "        if not os.path.isfile(config['path_to_data']+filename):\n",
    "            print(f\" -> skipping {filename} ...\")\n",
    "            continue\n",
    "\n",
    "        try:\n",
    "            out = read_pickle(config['path_to_data']+filename)\n",
    "            ff1, dat1 = out['frequencies'], out['psd']\n",
    "\n",
    "        except Exception as e:\n",
    "            print(e)\n",
    "            print(f\" -> {day}: no data found\")\n",
    "            continue\n",
    "\n",
    "        for _k, _psd in enumerate(dat1):\n",
    "            if jj == 0 and _k == 0:\n",
    "                NN = len(_psd)\n",
    "            if len(_psd) == NN:\n",
    "                dat.append(_psd)\n",
    "                dates.append(f\"{day}_{str(_k).rjust(2, '0')}\")\n",
    "            else:\n",
    "                print(day, len(_psd), NN)\n",
    "                break\n",
    "\n",
    "    dat = array(dat)\n",
    "\n",
    "    return dat, ff1"
   ]
  },
  {
   "cell_type": "code",
   "execution_count": null,
   "id": "35e5cc45-adaf-4b92-851e-52736226031a",
   "metadata": {
    "tags": []
   },
   "outputs": [],
   "source": [
    "ffbi_f, ff_f = __read_files(\"BW.FFBI..BDF\", config['d1'], config['d2'])\n",
    "ffbi_o, ff_o = __read_files(\"BW.FFBI..BDO\", config['d1'], config['d2'])\n",
    "\n",
    "ffbi_f, _ = __replace_noisy_psds_with_nan(ffbi_f, threshold_mean=1e4, ff=ff_f, flim=None)\n",
    "ffbi_o, _ = __replace_noisy_psds_with_nan(ffbi_o, threshold_mean=1e4, ff=ff_o, flim=None)\n",
    "\n",
    "out_ffbi_f = __get_hist_loglog(ffbi_f, ff_f, bins=100, density=False, axis=1, plot=True)\n",
    "out_ffbi_o = __get_hist_loglog(ffbi_o, ff_o, bins=100, density=False, axis=1, plot=True)"
   ]
  },
  {
   "cell_type": "code",
   "execution_count": null,
   "id": "75aacc2d-2e5b-4172-a221-53f42ff28e72",
   "metadata": {
    "tags": []
   },
   "outputs": [],
   "source": [
    "if \"FUR\" in config['sta']:\n",
    "\n",
    "    fur_z, ff_z = __read_files(\"GR.FUR..BHZ\", config['d1'], config['d2'])\n",
    "    fur_n, ff_n = __read_files(\"GR.FUR..BHN\", config['d1'], config['d2'])\n",
    "    fur_e, ff_e = __read_files(\"GR.FUR..BHE\", config['d1'], config['d2'])\n",
    "\n",
    "    fur_z, _ = __replace_noisy_psds_with_nan(fur_z, threshold_mean=1e-10, ff=ff_z, flim=(0, 0.05))\n",
    "    fur_n, _ = __replace_noisy_psds_with_nan(fur_n, threshold_mean=1e-10, ff=ff_n, flim= (0, 0.05))\n",
    "    fur_e, _ = __replace_noisy_psds_with_nan(fur_e, threshold_mean=1e-10, ff=ff_e, flim=(0, 0.05))\n",
    "\n",
    "    out_fur_z = __get_hist_loglog(fur_z, ff_z, bins=100, density=False, axis=1, plot=True)\n",
    "    out_fur_n = __get_hist_loglog(fur_n, ff_n, bins=100, density=False, axis=1, plot=True)\n",
    "    out_fur_e = __get_hist_loglog(fur_e, ff_e, bins=100, density=False, axis=1, plot=True)\n",
    "\n",
    "if \"ROMY\" in config['sta']:\n",
    "\n",
    "    romy_z, ff_z = __read_files(\"BW.ROMY..BJZ\", config['d1'], config['d2'])\n",
    "    # romy_n, ff_n = __read_files(\"BW.ROMY..BJN\", config['d1'], config['d2'])\n",
    "    # romy_e, ff_e = __read_files(\"BW.ROMY..BJE\", config['d1'], config['d2'])\n",
    "\n",
    "    romy_z, _ = __replace_noisy_psds_with_nan(romy_z, threshold_mean=5e-19, ff=ff_z, flim=(0.005, 0.05))\n",
    "    # romy_n, _ = __replace_noisy_psds_with_nan(romy_n, threshold_mean=2e-19, ff=ff_n, flim= (0.005, 0.05))\n",
    "    # romy_e, _ = __replace_noisy_psds_with_nan(romy_e, threshold_mean=2e-19, ff=ff_e, flim=(0.005, 0.05))\n",
    "\n",
    "    out_romy_z = __get_hist_loglog(romy_z, ff_z, bins=100, density=False, axis=1, plot=True)\n",
    "    # out_romy_n = __get_hist_loglog(romy_n, ff_n, bins=100, density=False, axis=1, plot=True)\n",
    "    # out_romy_e = __get_hist_loglog(romy_e, ff_e, bins=100, density=False, axis=1, plot=True)"
   ]
  },
  {
   "cell_type": "markdown",
   "id": "94d90f60-c563-4dd5-8cbb-1fb2e61980db",
   "metadata": {
    "tags": []
   },
   "source": [
    "## Plotting"
   ]
  },
  {
   "cell_type": "code",
   "execution_count": null,
   "id": "8aa2a212-bd9c-4bd7-9c3e-4d0cc027edb2",
   "metadata": {
    "tags": []
   },
   "outputs": [],
   "source": [
    "def __makeplot_density(data, name=\"FUR\"):\n",
    "\n",
    "    import matplotlib.pyplot as plt\n",
    "    import numpy as np\n",
    "\n",
    "\n",
    "    def __get_median_psd(psds):\n",
    "\n",
    "        from numpy import median, zeros, isnan\n",
    "\n",
    "        med_psd = zeros(psds.shape[1])\n",
    "\n",
    "        for f in range(psds.shape[1]):\n",
    "            a = psds[:, f]\n",
    "            med_psd[f] = median(a[~isnan(a)])\n",
    "\n",
    "        return med_psd\n",
    "\n",
    "\n",
    "    # psd_median = __get_median_psd(dat)\n",
    "\n",
    "\n",
    "    font = 12\n",
    "\n",
    "    Nrow, Ncol = len(data), 1\n",
    "\n",
    "    fig, ax = plt.subplots(Nrow, Ncol, figsize=(12, 10), sharex=True)\n",
    "\n",
    "\n",
    "    ## theoretical rlnm\n",
    "    # plt.plot(periods, rlnm_psd, color=\"black\", zorder=2, lw=2, ls=\"--\", label=\"RLNM\")\n",
    "\n",
    "    for _n, out in enumerate(data):\n",
    "\n",
    "        out['dist'] = np.ma.masked_array(out['dist'], out['dist'] == 0)\n",
    "\n",
    "        y_axis = 10**(out['bin_mids']/10)\n",
    "\n",
    "        x_axis = out['frequencies']\n",
    "\n",
    "        if x_axis[_n] == 0:\n",
    "            x_axis[_n] == 1e-20\n",
    "\n",
    "        ## plotting\n",
    "\n",
    "        cmap = plt.colormaps.get_cmap('viridis')\n",
    "        # cmap.set_under(color='white')\n",
    "\n",
    "        _tmp = out['dist'].reshape(out['dist'].size)\n",
    "\n",
    "        im = ax[_n].pcolormesh(out['frequencies'], out['bin_mids'], out['dist'].T,\n",
    "                               cmap=cmap, shading=\"auto\", antialiased=True, rasterized=True,\n",
    "                               vmin=min(_tmp[np.nonzero(_tmp)]), zorder=2, norm=\"log\")\n",
    "\n",
    "        ax[_n].set_xscale(\"log\")\n",
    "        ax[_n].set_yscale(\"log\")\n",
    "        ax[_n].tick_params(axis='both', labelsize=font-1)\n",
    "        ax[_n].set_xlim(1e-3, 2e0)\n",
    "        ax[_n].grid(axis=\"both\", which=\"both\", ls=\"--\", zorder=1)\n",
    "\n",
    "        if name == \"FUR\":\n",
    "            ax[_n].set_ylim(1e-20, 1e-10)\n",
    "        elif name == \"ROMY\":\n",
    "            ax[_n].set_ylim(1e-23, 1e-16)\n",
    "\n",
    "        ax[Nrow-2].set_ylim(1e-5, 1e7)\n",
    "        ax[Nrow-1].set_ylim(1e-5, 1e7)\n",
    "\n",
    "\n",
    "    ax[Nrow-1].set_xlabel(\"Frequency (Hz)\", fontsize=font)\n",
    "\n",
    "    if name == \"FUR\":\n",
    "        ax[0].set_ylabel(r\"PSD ($m^2 /s^4 /Hz$)\", fontsize=font)\n",
    "        ax[1].set_ylabel(r\"PSD ($m^2 /s^4 /Hz$)\", fontsize=font)\n",
    "        ax[2].set_ylabel(r\"PSD ($m^2 /s^4 /Hz$)\", fontsize=font)\n",
    "\n",
    "    elif name == \"ROMY\":\n",
    "        ax[0].set_ylabel(r\"PSD ($rad^2 /s^2 /Hz$)\", fontsize=font)\n",
    "        ax[1].set_ylabel(r\"PSD ($rad^2 /s^2 /Hz$)\", fontsize=font)\n",
    "        ax[2].set_ylabel(r\"PSD ($rad^2 /s^2 /Hz$)\", fontsize=font)\n",
    "\n",
    "    ax[Nrow-2].set_ylabel(r\"PSD ($Pa^2 /Hz$)\", fontsize=font)\n",
    "    ax[Nrow-1].set_ylabel(r\"PSD ($Pa^2 /Hz$)\", fontsize=font)\n",
    "\n",
    "    ## add labels\n",
    "    ax[0].text(.99, .95, f'{name}.Z', color=\"k\", ha='right', va='top', transform=ax[0].transAxes, fontsize=font, bbox={'facecolor':'w', 'alpha':0.7, 'pad':2})\n",
    "    ax[1].text(.99, .95, f'{name}.N', color=\"k\", ha='right', va='top', transform=ax[1].transAxes, fontsize=font, bbox={'facecolor':'w', 'alpha':0.7, 'pad':2})\n",
    "    ax[2].text(.99, .95, f'{name}.E', color=\"k\", ha='right', va='top', transform=ax[2].transAxes, fontsize=font, bbox={'facecolor':'w', 'alpha':0.7, 'pad':2})\n",
    "    ax[3].text(.99, .95, f'FFBI.O', color=\"k\", ha='right', va='top', transform=ax[3].transAxes, fontsize=font, bbox={'facecolor':'w', 'alpha':0.7, 'pad':2})\n",
    "    ax[4].text(.99, .95, f'FFBI.F', color=\"k\", ha='right', va='top', transform=ax[4].transAxes, fontsize=font, bbox={'facecolor':'w', 'alpha':0.7, 'pad':2})\n",
    "\n",
    "    ## add colorbar\n",
    "    cbar_ax = fig.add_axes([0.91, 0.11, 0.02, 0.77]) #[left, bottom, width, height]\n",
    "    cb = plt.colorbar(im, cax=cbar_ax)\n",
    "    cb.set_label(\"Propability Density\", fontsize=font, labelpad=-45, color=\"white\")\n",
    "\n",
    "    plt.show();\n",
    "    return fig"
   ]
  },
  {
   "cell_type": "code",
   "execution_count": null,
   "id": "99e11340-b701-47f3-a0d7-caeedc212da9",
   "metadata": {
    "tags": []
   },
   "outputs": [],
   "source": [
    "if \"FUR\" in config['sta']:\n",
    "    fig = __makeplot_density([out_fur_z, out_fur_n, out_fur_e, out_ffbi_o, out_ffbi_f], name=config['sta'])\n",
    "\n",
    "    fig.savefig(config['outpath_figures']+f\"SpectraDensity_{config['sta']}_all.png\", format=\"png\", dpi=200, bbox_inches='tight')\n",
    "\n",
    "if \"ROMY\" in config['sta']:\n",
    "    fig = __makeplot_density([out_romy_z, out_romy_n, out_romy_e, out_ffbi_o, out_ffbi_f], name=config['sta'])\n",
    "\n",
    "    fig.savefig(config['outpath_figures']+f\"SpectraDensity_{config['sta']}_all.png\", format=\"png\", dpi=200, bbox_inches='tight')\n"
   ]
  },
  {
   "cell_type": "code",
   "execution_count": null,
   "id": "e1010307-80e3-440b-9eb0-3e958c0d9450",
   "metadata": {
    "tags": []
   },
   "outputs": [],
   "source": []
  },
  {
   "cell_type": "markdown",
   "id": "a699a427-89ef-4dca-930c-30f95170b573",
   "metadata": {},
   "source": [
    "## Get median and store"
   ]
  },
  {
   "cell_type": "code",
   "execution_count": 19,
   "id": "a2d406ec-a6d1-4354-b7fd-4f28908cd569",
   "metadata": {},
   "outputs": [],
   "source": [
    "from functions.get_median_psd import __get_median_psd\n",
    "from functions.get_percentiles import __get_percentiles"
   ]
  },
  {
   "cell_type": "code",
   "execution_count": null,
   "id": "1ab0bbd4-b503-4d61-8b26-61bfb5310e09",
   "metadata": {
    "tags": []
   },
   "outputs": [],
   "source": [
    "# out_df = DataFrame()\n",
    "\n",
    "# out_df['frequencies'] = ff_o\n",
    "# out_df['psds_median'] = __get_median_psd(ffbi_o)\n",
    "# out_df['perc_low'], out_df['perc_high'] = __get_percentiles(ffbi_o, p_low=2.5, p_high=97.5)\n",
    "\n",
    "# out_df.to_pickle(config['path_to_outdata']+f\"FFBI_BDO_psd_stats.pkl\")"
   ]
  },
  {
   "cell_type": "code",
   "execution_count": null,
   "id": "b57a18f1-885b-4618-91e5-4ffba840afbe",
   "metadata": {},
   "outputs": [],
   "source": [
    "# out_df = DataFrame()\n",
    "\n",
    "# out_df['frequencies'] = ff_f\n",
    "# out_df['psds_median'] = __get_median_psd(ffbi_f)\n",
    "# out_df['perc_low'], out_df['perc_high'] = __get_percentiles(ffbi_f, p_low=2.5, p_high=97.5)\n",
    "\n",
    "# out_df.to_pickle(config['path_to_outdata']+f\"FFBI_BDF_psd_stats.pkl\")"
   ]
  },
  {
   "cell_type": "code",
   "execution_count": 20,
   "id": "2048800c-04f8-4993-843b-4791da8a872c",
   "metadata": {
    "tags": []
   },
   "outputs": [],
   "source": [
    "if \"FUR\" in config['sta']:\n",
    "\n",
    "    out_df = DataFrame()\n",
    "\n",
    "    out_df['frequencies'] = ff_z\n",
    "    out_df['psds_median_z'] = __get_median_psd(fur_z)\n",
    "    out_df['perc_low_z'], out_df['perc_high_z'] = __get_percentiles(fur_z, p_low=2.5, p_high=97.5)\n",
    "\n",
    "    out_df['psds_median_n'] = __get_median_psd(fur_n)\n",
    "    out_df['perc_low_n'], out_df['perc_high_n'] = __get_percentiles(fur_n, p_low=2.5, p_high=97.5)\n",
    "\n",
    "    out_df['psds_median_e'] = __get_median_psd(fur_e)\n",
    "    out_df['perc_low_e'], out_df['perc_high_e'] = __get_percentiles(fur_e, p_low=2.5, p_high=97.5)\n",
    "\n",
    "\n",
    "    out_df.to_pickle(config['path_to_outdata']+f\"FUR_psd_stats.pkl\")"
   ]
  },
  {
   "cell_type": "code",
   "execution_count": 21,
   "id": "83e7055a-186c-426d-8c8e-6bcb632bfd06",
   "metadata": {
    "tags": []
   },
   "outputs": [
    {
     "ename": "ValueError",
     "evalue": "Length of values (36002) does not match length of index (18002)",
     "output_type": "error",
     "traceback": [
      "\u001b[0;31m---------------------------------------------------------------------------\u001b[0m",
      "\u001b[0;31mValueError\u001b[0m                                Traceback (most recent call last)",
      "Cell \u001b[0;32mIn[21], line 9\u001b[0m\n\u001b[1;32m      6\u001b[0m out_df[\u001b[38;5;124m'\u001b[39m\u001b[38;5;124mpsds_median_z\u001b[39m\u001b[38;5;124m'\u001b[39m] \u001b[38;5;241m=\u001b[39m __get_median_psd(romy_z)\n\u001b[1;32m      7\u001b[0m out_df[\u001b[38;5;124m'\u001b[39m\u001b[38;5;124mperc_low_z\u001b[39m\u001b[38;5;124m'\u001b[39m], out_df[\u001b[38;5;124m'\u001b[39m\u001b[38;5;124mperc_high_z\u001b[39m\u001b[38;5;124m'\u001b[39m] \u001b[38;5;241m=\u001b[39m __get_percentiles(romy_z, p_low\u001b[38;5;241m=\u001b[39m\u001b[38;5;241m2.5\u001b[39m, p_high\u001b[38;5;241m=\u001b[39m\u001b[38;5;241m97.5\u001b[39m)\n\u001b[0;32m----> 9\u001b[0m out_df[\u001b[38;5;124m'\u001b[39m\u001b[38;5;124mpsds_median_n\u001b[39m\u001b[38;5;124m'\u001b[39m] \u001b[38;5;241m=\u001b[39m __get_median_psd(romy_n)\n\u001b[1;32m     10\u001b[0m out_df[\u001b[38;5;124m'\u001b[39m\u001b[38;5;124mperc_low_n\u001b[39m\u001b[38;5;124m'\u001b[39m], out_df[\u001b[38;5;124m'\u001b[39m\u001b[38;5;124mperc_high_n\u001b[39m\u001b[38;5;124m'\u001b[39m] \u001b[38;5;241m=\u001b[39m __get_percentiles(romy_n, p_low\u001b[38;5;241m=\u001b[39m\u001b[38;5;241m2.5\u001b[39m, p_high\u001b[38;5;241m=\u001b[39m\u001b[38;5;241m97.5\u001b[39m)\n\u001b[1;32m     12\u001b[0m out_df[\u001b[38;5;124m'\u001b[39m\u001b[38;5;124mpsds_median_e\u001b[39m\u001b[38;5;124m'\u001b[39m] \u001b[38;5;241m=\u001b[39m __get_median_psd(romy_e)\n",
      "File \u001b[0;32m~/anaconda3/envs/obs2/lib/python3.10/site-packages/pandas/core/frame.py:3950\u001b[0m, in \u001b[0;36mDataFrame.__setitem__\u001b[0;34m(self, key, value)\u001b[0m\n\u001b[1;32m   3947\u001b[0m     \u001b[38;5;28mself\u001b[39m\u001b[38;5;241m.\u001b[39m_setitem_array([key], value)\n\u001b[1;32m   3948\u001b[0m \u001b[38;5;28;01melse\u001b[39;00m:\n\u001b[1;32m   3949\u001b[0m     \u001b[38;5;66;03m# set column\u001b[39;00m\n\u001b[0;32m-> 3950\u001b[0m     \u001b[38;5;28;43mself\u001b[39;49m\u001b[38;5;241;43m.\u001b[39;49m\u001b[43m_set_item\u001b[49m\u001b[43m(\u001b[49m\u001b[43mkey\u001b[49m\u001b[43m,\u001b[49m\u001b[43m \u001b[49m\u001b[43mvalue\u001b[49m\u001b[43m)\u001b[49m\n",
      "File \u001b[0;32m~/anaconda3/envs/obs2/lib/python3.10/site-packages/pandas/core/frame.py:4143\u001b[0m, in \u001b[0;36mDataFrame._set_item\u001b[0;34m(self, key, value)\u001b[0m\n\u001b[1;32m   4133\u001b[0m \u001b[38;5;28;01mdef\u001b[39;00m \u001b[38;5;21m_set_item\u001b[39m(\u001b[38;5;28mself\u001b[39m, key, value) \u001b[38;5;241m-\u001b[39m\u001b[38;5;241m>\u001b[39m \u001b[38;5;28;01mNone\u001b[39;00m:\n\u001b[1;32m   4134\u001b[0m \u001b[38;5;250m    \u001b[39m\u001b[38;5;124;03m\"\"\"\u001b[39;00m\n\u001b[1;32m   4135\u001b[0m \u001b[38;5;124;03m    Add series to DataFrame in specified column.\u001b[39;00m\n\u001b[1;32m   4136\u001b[0m \n\u001b[0;32m   (...)\u001b[0m\n\u001b[1;32m   4141\u001b[0m \u001b[38;5;124;03m    ensure homogeneity.\u001b[39;00m\n\u001b[1;32m   4142\u001b[0m \u001b[38;5;124;03m    \"\"\"\u001b[39;00m\n\u001b[0;32m-> 4143\u001b[0m     value \u001b[38;5;241m=\u001b[39m \u001b[38;5;28;43mself\u001b[39;49m\u001b[38;5;241;43m.\u001b[39;49m\u001b[43m_sanitize_column\u001b[49m\u001b[43m(\u001b[49m\u001b[43mvalue\u001b[49m\u001b[43m)\u001b[49m\n\u001b[1;32m   4145\u001b[0m     \u001b[38;5;28;01mif\u001b[39;00m (\n\u001b[1;32m   4146\u001b[0m         key \u001b[38;5;129;01min\u001b[39;00m \u001b[38;5;28mself\u001b[39m\u001b[38;5;241m.\u001b[39mcolumns\n\u001b[1;32m   4147\u001b[0m         \u001b[38;5;129;01mand\u001b[39;00m value\u001b[38;5;241m.\u001b[39mndim \u001b[38;5;241m==\u001b[39m \u001b[38;5;241m1\u001b[39m\n\u001b[1;32m   4148\u001b[0m         \u001b[38;5;129;01mand\u001b[39;00m \u001b[38;5;129;01mnot\u001b[39;00m is_extension_array_dtype(value)\n\u001b[1;32m   4149\u001b[0m     ):\n\u001b[1;32m   4150\u001b[0m         \u001b[38;5;66;03m# broadcast across multiple columns if necessary\u001b[39;00m\n\u001b[1;32m   4151\u001b[0m         \u001b[38;5;28;01mif\u001b[39;00m \u001b[38;5;129;01mnot\u001b[39;00m \u001b[38;5;28mself\u001b[39m\u001b[38;5;241m.\u001b[39mcolumns\u001b[38;5;241m.\u001b[39mis_unique \u001b[38;5;129;01mor\u001b[39;00m \u001b[38;5;28misinstance\u001b[39m(\u001b[38;5;28mself\u001b[39m\u001b[38;5;241m.\u001b[39mcolumns, MultiIndex):\n",
      "File \u001b[0;32m~/anaconda3/envs/obs2/lib/python3.10/site-packages/pandas/core/frame.py:4870\u001b[0m, in \u001b[0;36mDataFrame._sanitize_column\u001b[0;34m(self, value)\u001b[0m\n\u001b[1;32m   4867\u001b[0m     \u001b[38;5;28;01mreturn\u001b[39;00m _reindex_for_setitem(Series(value), \u001b[38;5;28mself\u001b[39m\u001b[38;5;241m.\u001b[39mindex)\n\u001b[1;32m   4869\u001b[0m \u001b[38;5;28;01mif\u001b[39;00m is_list_like(value):\n\u001b[0;32m-> 4870\u001b[0m     \u001b[43mcom\u001b[49m\u001b[38;5;241;43m.\u001b[39;49m\u001b[43mrequire_length_match\u001b[49m\u001b[43m(\u001b[49m\u001b[43mvalue\u001b[49m\u001b[43m,\u001b[49m\u001b[43m \u001b[49m\u001b[38;5;28;43mself\u001b[39;49m\u001b[38;5;241;43m.\u001b[39;49m\u001b[43mindex\u001b[49m\u001b[43m)\u001b[49m\n\u001b[1;32m   4871\u001b[0m \u001b[38;5;28;01mreturn\u001b[39;00m sanitize_array(value, \u001b[38;5;28mself\u001b[39m\u001b[38;5;241m.\u001b[39mindex, copy\u001b[38;5;241m=\u001b[39m\u001b[38;5;28;01mTrue\u001b[39;00m, allow_2d\u001b[38;5;241m=\u001b[39m\u001b[38;5;28;01mTrue\u001b[39;00m)\n",
      "File \u001b[0;32m~/anaconda3/envs/obs2/lib/python3.10/site-packages/pandas/core/common.py:576\u001b[0m, in \u001b[0;36mrequire_length_match\u001b[0;34m(data, index)\u001b[0m\n\u001b[1;32m    572\u001b[0m \u001b[38;5;250m\u001b[39m\u001b[38;5;124;03m\"\"\"\u001b[39;00m\n\u001b[1;32m    573\u001b[0m \u001b[38;5;124;03mCheck the length of data matches the length of the index.\u001b[39;00m\n\u001b[1;32m    574\u001b[0m \u001b[38;5;124;03m\"\"\"\u001b[39;00m\n\u001b[1;32m    575\u001b[0m \u001b[38;5;28;01mif\u001b[39;00m \u001b[38;5;28mlen\u001b[39m(data) \u001b[38;5;241m!=\u001b[39m \u001b[38;5;28mlen\u001b[39m(index):\n\u001b[0;32m--> 576\u001b[0m     \u001b[38;5;28;01mraise\u001b[39;00m \u001b[38;5;167;01mValueError\u001b[39;00m(\n\u001b[1;32m    577\u001b[0m         \u001b[38;5;124m\"\u001b[39m\u001b[38;5;124mLength of values \u001b[39m\u001b[38;5;124m\"\u001b[39m\n\u001b[1;32m    578\u001b[0m         \u001b[38;5;124mf\u001b[39m\u001b[38;5;124m\"\u001b[39m\u001b[38;5;124m(\u001b[39m\u001b[38;5;132;01m{\u001b[39;00m\u001b[38;5;28mlen\u001b[39m(data)\u001b[38;5;132;01m}\u001b[39;00m\u001b[38;5;124m) \u001b[39m\u001b[38;5;124m\"\u001b[39m\n\u001b[1;32m    579\u001b[0m         \u001b[38;5;124m\"\u001b[39m\u001b[38;5;124mdoes not match length of index \u001b[39m\u001b[38;5;124m\"\u001b[39m\n\u001b[1;32m    580\u001b[0m         \u001b[38;5;124mf\u001b[39m\u001b[38;5;124m\"\u001b[39m\u001b[38;5;124m(\u001b[39m\u001b[38;5;132;01m{\u001b[39;00m\u001b[38;5;28mlen\u001b[39m(index)\u001b[38;5;132;01m}\u001b[39;00m\u001b[38;5;124m)\u001b[39m\u001b[38;5;124m\"\u001b[39m\n\u001b[1;32m    581\u001b[0m     )\n",
      "\u001b[0;31mValueError\u001b[0m: Length of values (36002) does not match length of index (18002)"
     ]
    }
   ],
   "source": [
    "if \"ROMY\" in config['sta']:\n",
    "\n",
    "    out_df = DataFrame()\n",
    "\n",
    "    out_df['frequencies'] = ff_z\n",
    "    out_df['psds_median_z'] = __get_median_psd(romy_z)\n",
    "    out_df['perc_low_z'], out_df['perc_high_z'] = __get_percentiles(romy_z, p_low=2.5, p_high=97.5)\n",
    "\n",
    "    out_df['psds_median_n'] = __get_median_psd(romy_n)\n",
    "    out_df['perc_low_n'], out_df['perc_high_n'] = __get_percentiles(romy_n, p_low=2.5, p_high=97.5)\n",
    "\n",
    "    out_df['psds_median_e'] = __get_median_psd(romy_e)\n",
    "    out_df['perc_low_e'], out_df['perc_high_e'] = __get_percentiles(romy_e, p_low=2.5, p_high=97.5)\n",
    "\n",
    "\n",
    "    out_df.to_pickle(config['path_to_outdata']+f\"ROMY_psd_stats.pkl\")"
   ]
  },
  {
   "cell_type": "code",
   "execution_count": 24,
   "id": "75ebb776-d551-4cb3-9507-bcdbda4ac34b",
   "metadata": {
    "tags": []
   },
   "outputs": [
    {
     "data": {
      "text/plain": [
       "((1728, 18002), (2064, 36002), (2064, 36002))"
      ]
     },
     "execution_count": 24,
     "metadata": {},
     "output_type": "execute_result"
    }
   ],
   "source": [
    "romy_z.shape, romy_n.shape, romy_e.shape"
   ]
  },
  {
   "cell_type": "code",
   "execution_count": 38,
   "id": "6143ed14-e448-4598-a5c0-2f16e2338314",
   "metadata": {
    "tags": []
   },
   "outputs": [
    {
     "data": {
      "text/plain": [
       "[<matplotlib.lines.Line2D at 0x7f5440c494e0>]"
      ]
     },
     "execution_count": 38,
     "metadata": {},
     "output_type": "execute_result"
    },
    {
     "data": {
      "image/png": "[encoded data removed]",
      "text/plain": [
       "<Figure size 640x480 with 1 Axes>"
      ]
     },
     "metadata": {},
     "output_type": "display_data"
    }
   ],
   "source": [
    "plt.loglog(ff_n, romy_n[300])\n",
    "plt.loglog(ff_z, romy_z[350])"
   ]
  },
  {
   "cell_type": "code",
   "execution_count": 45,
   "id": "fee10c5f-451f-4603-9832-36657319272f",
   "metadata": {
    "tags": []
   },
   "outputs": [
    {
     "ename": "IndexError",
     "evalue": "index 2500 is out of bounds for axis 0 with size 1728",
     "output_type": "error",
     "traceback": [
      "\u001b[0;31m---------------------------------------------------------------------------\u001b[0m",
      "\u001b[0;31mIndexError\u001b[0m                                Traceback (most recent call last)",
      "Cell \u001b[0;32mIn[45], line 1\u001b[0m\n\u001b[0;32m----> 1\u001b[0m \u001b[43mromy_z\u001b[49m\u001b[43m[\u001b[49m\u001b[38;5;241;43m2500\u001b[39;49m\u001b[43m]\u001b[49m\n",
      "\u001b[0;31mIndexError\u001b[0m: index 2500 is out of bounds for axis 0 with size 1728"
     ]
    }
   ],
   "source": [
    "romy_z[00]"
   ]
  },
  {
   "cell_type": "code",
   "execution_count": null,
   "id": "8af86a98-d6b5-4305-88fd-968907330cb1",
   "metadata": {},
   "outputs": [],
   "source": []
  }
 ],
 "metadata": {
  "kernelspec": {
   "display_name": "Python 3 (ipykernel)",
   "language": "python",
   "name": "python3"
  },
  "language_info": {
   "codemirror_mode": {
    "name": "ipython",
    "version": 3
   },
   "file_extension": ".py",
   "mimetype": "text/x-python",
   "name": "python",
   "nbconvert_exporter": "python",
   "pygments_lexer": "ipython3",
   "version": "3.10.12"
  },
  "latex_envs": {
   "LaTeX_envs_menu_present": true,
   "autoclose": false,
   "autocomplete": true,
   "bibliofile": "biblio.bib",
   "cite_by": "apalike",
   "current_citInitial": 1,
   "eqLabelWithNumbers": true,
   "eqNumInitial": 1,
   "hotkeys": {
    "equation": "Ctrl-E",
    "itemize": "Ctrl-I"
   },
   "labels_anchors": false,
   "latex_user_defs": false,
   "report_style_numbering": false,
   "user_envs_cfg": false
  },
  "toc": {
   "base_numbering": 1,
   "nav_menu": {},
   "number_sections": true,
   "sideBar": true,
   "skip_h1_title": false,
   "title_cell": "Table of Contents",
   "title_sidebar": "Contents",
   "toc_cell": false,
   "toc_position": {},
   "toc_section_display": true,
   "toc_window_display": false
  },
  "varInspector": {
   "cols": {
    "lenName": 16,
    "lenType": 16,
    "lenVar": 40
   },
   "kernels_config": {
    "python": {
     "delete_cmd_postfix": "",
     "delete_cmd_prefix": "del ",
     "library": "var_list.py",
     "varRefreshCmd": "print(var_dic_list())"
    },
    "r": {
     "delete_cmd_postfix": ") ",
     "delete_cmd_prefix": "rm(",
     "library": "var_list.r",
     "varRefreshCmd": "cat(var_dic_list()) "
    }
   },
   "types_to_exclude": [
    "module",
    "function",
    "builtin_function_or_method",
    "instance",
    "_Feature"
   ],
   "window_display": false
  }
 },
 "nbformat": 4,
 "nbformat_minor": 5
}
