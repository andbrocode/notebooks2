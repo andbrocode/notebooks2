{
 "cells": [
  {
   "cell_type": "markdown",
   "id": "eda030d3",
   "metadata": {},
   "source": [
    "# Compliance Plot"
   ]
  },
  {
   "cell_type": "markdown",
   "id": "protected-presentation",
   "metadata": {},
   "source": [
    "## Load Libraries"
   ]
  },
  {
   "cell_type": "code",
   "execution_count": 1,
   "id": "behind-arrangement",
   "metadata": {
    "ExecuteTime": {
     "end_time": "2023-08-07T14:54:03.050940Z",
     "start_time": "2023-08-07T14:54:00.312331Z"
    },
    "tags": []
   },
   "outputs": [],
   "source": [
    "import os, sys\n",
    "import pickle\n",
    "import matplotlib.pyplot as plt\n",
    "import pandas as pd\n",
    "import numpy as np\n",
    "\n",
    "from obspy import UTCDateTime"
   ]
  },
  {
   "cell_type": "code",
   "execution_count": 2,
   "id": "f337911b",
   "metadata": {
    "ExecuteTime": {
     "end_time": "2023-08-07T14:54:03.147385Z",
     "start_time": "2023-08-07T14:54:03.133998Z"
    },
    "tags": []
   },
   "outputs": [],
   "source": [
    "if os.uname().nodename == 'lighthouse':\n",
    "    root_path = '/home/andbro/'\n",
    "    data_path = '/home/andbro/kilauea-data/'\n",
    "    archive_path = '/home/andbro/freenas/'\n",
    "elif os.uname().nodename == 'kilauea':\n",
    "    root_path = '/home/brotzer/'\n",
    "    data_path = '/import/kilauea-data/'\n",
    "    archive_path = '/import/freenas-ffb-01-data/'"
   ]
  },
  {
   "cell_type": "markdown",
   "id": "subject-expression",
   "metadata": {},
   "source": [
    "## Configurations"
   ]
  },
  {
   "cell_type": "code",
   "execution_count": 3,
   "id": "565a7b24-4640-4f17-b66e-2ee951eeee5b",
   "metadata": {
    "ExecuteTime": {
     "end_time": "2023-08-07T15:31:55.890800Z",
     "start_time": "2023-08-07T15:31:55.885708Z"
    },
    "tags": []
   },
   "outputs": [],
   "source": [
    "# ## ---------------------------------------\n",
    "\n",
    "config = {}\n",
    "\n",
    "## specify paths\n",
    "config['path_to_figs'] = data_path+f\"LNM2/figures/scatter/\"\n",
    "\n",
    "config['path_to_data'] = data_path+f\"LNM2/data/\"\n"
   ]
  },
  {
   "cell_type": "markdown",
   "id": "natural-beginning",
   "metadata": {},
   "source": [
    "## Methods"
   ]
  },
  {
   "cell_type": "code",
   "execution_count": 4,
   "id": "d863e65e-d767-4625-81a1-dc17a9987270",
   "metadata": {
    "tags": []
   },
   "outputs": [
    {
     "ename": "FileNotFoundError",
     "evalue": "[Errno 2] No such file or directory: '/home/andbro/kilauea-data/LNM2/data/compliance_FUR.pkl'",
     "output_type": "error",
     "traceback": [
      "\u001b[0;31m---------------------------------------------------------------------------\u001b[0m",
      "\u001b[0;31mFileNotFoundError\u001b[0m                         Traceback (most recent call last)",
      "Cell \u001b[0;32mIn[4], line 1\u001b[0m\n\u001b[0;32m----> 1\u001b[0m compl_FUR \u001b[38;5;241m=\u001b[39m \u001b[43mpd\u001b[49m\u001b[38;5;241;43m.\u001b[39;49m\u001b[43mread_pickle\u001b[49m\u001b[43m(\u001b[49m\u001b[43mconfig\u001b[49m\u001b[43m[\u001b[49m\u001b[38;5;124;43m'\u001b[39;49m\u001b[38;5;124;43mpath_to_data\u001b[39;49m\u001b[38;5;124;43m'\u001b[39;49m\u001b[43m]\u001b[49m\u001b[38;5;241;43m+\u001b[39;49m\u001b[38;5;124;43m\"\u001b[39;49m\u001b[38;5;124;43mcompliance_FUR.pkl\u001b[39;49m\u001b[38;5;124;43m\"\u001b[39;49m\u001b[43m)\u001b[49m\n\u001b[1;32m      3\u001b[0m compl_ROMY \u001b[38;5;241m=\u001b[39m pd\u001b[38;5;241m.\u001b[39mread_pickle(config[\u001b[38;5;124m'\u001b[39m\u001b[38;5;124mpath_to_data\u001b[39m\u001b[38;5;124m'\u001b[39m]\u001b[38;5;241m+\u001b[39m\u001b[38;5;124m\"\u001b[39m\u001b[38;5;124mcompliance_ROMY.pkl\u001b[39m\u001b[38;5;124m\"\u001b[39m)\n",
      "File \u001b[0;32m~/anaconda3/envs/obs2/lib/python3.10/site-packages/pandas/io/pickle.py:179\u001b[0m, in \u001b[0;36mread_pickle\u001b[0;34m(filepath_or_buffer, compression, storage_options)\u001b[0m\n\u001b[1;32m    115\u001b[0m \u001b[38;5;250m\u001b[39m\u001b[38;5;124;03m\"\"\"\u001b[39;00m\n\u001b[1;32m    116\u001b[0m \u001b[38;5;124;03mLoad pickled pandas object (or any object) from file.\u001b[39;00m\n\u001b[1;32m    117\u001b[0m \n\u001b[0;32m   (...)\u001b[0m\n\u001b[1;32m    176\u001b[0m \u001b[38;5;124;03m4    4    9\u001b[39;00m\n\u001b[1;32m    177\u001b[0m \u001b[38;5;124;03m\"\"\"\u001b[39;00m\n\u001b[1;32m    178\u001b[0m excs_to_catch \u001b[38;5;241m=\u001b[39m (\u001b[38;5;167;01mAttributeError\u001b[39;00m, \u001b[38;5;167;01mImportError\u001b[39;00m, \u001b[38;5;167;01mModuleNotFoundError\u001b[39;00m, \u001b[38;5;167;01mTypeError\u001b[39;00m)\n\u001b[0;32m--> 179\u001b[0m \u001b[38;5;28;01mwith\u001b[39;00m \u001b[43mget_handle\u001b[49m\u001b[43m(\u001b[49m\n\u001b[1;32m    180\u001b[0m \u001b[43m    \u001b[49m\u001b[43mfilepath_or_buffer\u001b[49m\u001b[43m,\u001b[49m\n\u001b[1;32m    181\u001b[0m \u001b[43m    \u001b[49m\u001b[38;5;124;43m\"\u001b[39;49m\u001b[38;5;124;43mrb\u001b[39;49m\u001b[38;5;124;43m\"\u001b[39;49m\u001b[43m,\u001b[49m\n\u001b[1;32m    182\u001b[0m \u001b[43m    \u001b[49m\u001b[43mcompression\u001b[49m\u001b[38;5;241;43m=\u001b[39;49m\u001b[43mcompression\u001b[49m\u001b[43m,\u001b[49m\n\u001b[1;32m    183\u001b[0m \u001b[43m    \u001b[49m\u001b[43mis_text\u001b[49m\u001b[38;5;241;43m=\u001b[39;49m\u001b[38;5;28;43;01mFalse\u001b[39;49;00m\u001b[43m,\u001b[49m\n\u001b[1;32m    184\u001b[0m \u001b[43m    \u001b[49m\u001b[43mstorage_options\u001b[49m\u001b[38;5;241;43m=\u001b[39;49m\u001b[43mstorage_options\u001b[49m\u001b[43m,\u001b[49m\n\u001b[1;32m    185\u001b[0m \u001b[43m\u001b[49m\u001b[43m)\u001b[49m \u001b[38;5;28;01mas\u001b[39;00m handles:\n\u001b[1;32m    186\u001b[0m     \u001b[38;5;66;03m# 1) try standard library Pickle\u001b[39;00m\n\u001b[1;32m    187\u001b[0m     \u001b[38;5;66;03m# 2) try pickle_compat (older pandas version) to handle subclass changes\u001b[39;00m\n\u001b[1;32m    188\u001b[0m     \u001b[38;5;66;03m# 3) try pickle_compat with latin-1 encoding upon a UnicodeDecodeError\u001b[39;00m\n\u001b[1;32m    190\u001b[0m     \u001b[38;5;28;01mtry\u001b[39;00m:\n\u001b[1;32m    191\u001b[0m         \u001b[38;5;66;03m# TypeError for Cython complaints about object.__new__ vs Tick.__new__\u001b[39;00m\n\u001b[1;32m    192\u001b[0m         \u001b[38;5;28;01mtry\u001b[39;00m:\n",
      "File \u001b[0;32m~/anaconda3/envs/obs2/lib/python3.10/site-packages/pandas/io/common.py:868\u001b[0m, in \u001b[0;36mget_handle\u001b[0;34m(path_or_buf, mode, encoding, compression, memory_map, is_text, errors, storage_options)\u001b[0m\n\u001b[1;32m    859\u001b[0m         handle \u001b[38;5;241m=\u001b[39m \u001b[38;5;28mopen\u001b[39m(\n\u001b[1;32m    860\u001b[0m             handle,\n\u001b[1;32m    861\u001b[0m             ioargs\u001b[38;5;241m.\u001b[39mmode,\n\u001b[0;32m   (...)\u001b[0m\n\u001b[1;32m    864\u001b[0m             newline\u001b[38;5;241m=\u001b[39m\u001b[38;5;124m\"\u001b[39m\u001b[38;5;124m\"\u001b[39m,\n\u001b[1;32m    865\u001b[0m         )\n\u001b[1;32m    866\u001b[0m     \u001b[38;5;28;01melse\u001b[39;00m:\n\u001b[1;32m    867\u001b[0m         \u001b[38;5;66;03m# Binary mode\u001b[39;00m\n\u001b[0;32m--> 868\u001b[0m         handle \u001b[38;5;241m=\u001b[39m \u001b[38;5;28;43mopen\u001b[39;49m\u001b[43m(\u001b[49m\u001b[43mhandle\u001b[49m\u001b[43m,\u001b[49m\u001b[43m \u001b[49m\u001b[43mioargs\u001b[49m\u001b[38;5;241;43m.\u001b[39;49m\u001b[43mmode\u001b[49m\u001b[43m)\u001b[49m\n\u001b[1;32m    869\u001b[0m     handles\u001b[38;5;241m.\u001b[39mappend(handle)\n\u001b[1;32m    871\u001b[0m \u001b[38;5;66;03m# Convert BytesIO or file objects passed with an encoding\u001b[39;00m\n",
      "\u001b[0;31mFileNotFoundError\u001b[0m: [Errno 2] No such file or directory: '/home/andbro/kilauea-data/LNM2/data/compliance_FUR.pkl'"
     ]
    }
   ],
   "source": [
    "compl_FUR = pd.read_pickle(config['path_to_data']+\"compliance_FUR.pkl\")\n",
    "\n",
    "compl_ROMY = pd.read_pickle(config['path_to_data']+\"compliance_ROMY.pkl\")\n"
   ]
  },
  {
   "cell_type": "code",
   "execution_count": null,
   "id": "3fb621ad-ebf7-402b-b971-d397866f848b",
   "metadata": {
    "tags": []
   },
   "outputs": [],
   "source": [
    "scaling = 9.81 / (2*np.pi*compl_FUR['fc'])\n",
    "\n",
    "compl_ROMY['z_acc'] = compl_ROMY['Z']*scaling\n",
    "compl_ROMY['n_acc'] = compl_ROMY['N']*scaling\n",
    "compl_ROMY['e_acc'] = compl_ROMY['E']*scaling"
   ]
  },
  {
   "cell_type": "markdown",
   "id": "93bacab4-4873-4459-b0ff-80ea2121a252",
   "metadata": {
    "tags": []
   },
   "source": [
    "## Compliance Plot"
   ]
  },
  {
   "cell_type": "code",
   "execution_count": null,
   "id": "b7184a44-34a1-4aff-b1a6-1e2769dfa23e",
   "metadata": {
    "tags": []
   },
   "outputs": [],
   "source": [
    "def __makeplot():\n",
    "\n",
    "    Nrow, Ncol = 1, 1\n",
    "\n",
    "    font = 12\n",
    "\n",
    "    scaling = 1\n",
    "\n",
    "    fig, ax = plt.subplots(Nrow, Ncol, figsize=(10, 5))\n",
    "\n",
    "    ax.plot(compl_FUR['fc'], compl_FUR['Z'], label=\"FUR.Z\", marker=\".\")\n",
    "    ax.plot(compl_FUR['fc'], compl_FUR['N'], label=\"FUR.N\", marker=\".\")\n",
    "    ax.plot(compl_FUR['fc'], compl_FUR['E'], label=\"FUR.E\", marker=\".\")\n",
    "\n",
    "\n",
    "    ax.plot(compl_ROMY['fc'], compl_ROMY['z_acc']*scaling, label=\"ROMY.Z\", ls=\"-\", marker=\"x\")\n",
    "    ax.plot(compl_ROMY['fc'], compl_ROMY['n_acc']*scaling, label=\"ROMY.N\", ls=\"-\", marker=\"x\")\n",
    "    ax.plot(compl_ROMY['fc'], compl_ROMY['e_acc']*scaling, label=\"ROMY.E\", ls=\"-\", marker=\"x\")\n",
    "\n",
    "\n",
    "    ax.grid(axis=\"both\", which=\"both\", ls=\":\", zorder=0)\n",
    "    ax.legend(loc=4, ncol=2)\n",
    "\n",
    "    ax.set_xscale(\"log\")\n",
    "    ax.set_yscale(\"log\")\n",
    "\n",
    "    ax.set_xlim(1e-3, 2e-1)\n",
    "\n",
    "    ax.set_xlabel(\"Frequency (Hz)\", fontsize=font)\n",
    "    ax.set_ylabel(\"Compliance (nm /s$^2$ /hPa)\", fontsize=font)\n",
    "\n",
    "    plt.show();\n",
    "    return fig"
   ]
  },
  {
   "cell_type": "code",
   "execution_count": null,
   "id": "15661c02-dca8-413c-ad96-ffaf79b8b51c",
   "metadata": {
    "tags": []
   },
   "outputs": [],
   "source": [
    "fig = __makeplot();\n",
    "\n",
    "fig.savefig(config['path_to_figs']+f\"compliance.png\", format=\"png\", dpi=150, bbox_inches='tight')\n"
   ]
  },
  {
   "cell_type": "code",
   "execution_count": null,
   "id": "77ea49d6-e28e-4aa7-b73f-5ba5ebbefab3",
   "metadata": {
    "tags": []
   },
   "outputs": [],
   "source": [
    "df_models = pd.read_csv(data_path+\"LNM/data/FINAL/\"+\"TLNM_to_RLNM.csv\")"
   ]
  },
  {
   "cell_type": "code",
   "execution_count": null,
   "id": "b92c4c26-7a99-4ed4-821e-d70af8a1e6e8",
   "metadata": {
    "tags": []
   },
   "outputs": [],
   "source": [
    "df_models"
   ]
  },
  {
   "cell_type": "code",
   "execution_count": null,
   "id": "c87bb608-db5f-4d38-b993-4412a5876f7a",
   "metadata": {
    "tags": []
   },
   "outputs": [],
   "source": [
    "df_gsn = pd.read_csv(data_path+\"LNM/data/MODELS/\"+\"GSN_noise_model.csv\",\n",
    "                  dtype={'period': np.float32, 'minH': np.float32, 'minZ': 'float32'}\n",
    "                 )\n",
    "\n",
    "df_gsn.sort_values(\"period\", inplace=True)\n",
    "\n",
    "df_gsn['minH_acc'] = [10**(xx/20) for xx in df_gsn['minH']]\n",
    "df_gsn['minZ_acc'] = [10**(xx/20) for xx in df_gsn['minZ']]"
   ]
  },
  {
   "cell_type": "code",
   "execution_count": null,
   "id": "c01389bd-fe85-4845-9e3b-1a9a4089daba",
   "metadata": {
    "tags": []
   },
   "outputs": [],
   "source": [
    "tmp = np.load(data_path+\"LNM/data/MODELS/\"+\"noise_models.npz\")\n",
    "\n",
    "df_lnm = pd.DataFrame()\n",
    "df_lnm['periods'], df_lnm['nlnm'], df_lnm['nhnm'] = tmp['model_periods'], tmp['low_noise'], tmp['high_noise']; del tmp\n",
    "\n",
    "df_lnm['nlnm_acc'] = [10**(xx/20) for xx in df_lnm['nlnm']]\n",
    "df_lnm['nhnm_acc'] = [10**(xx/20) for xx in df_lnm['nhnm']]"
   ]
  },
  {
   "cell_type": "markdown",
   "id": "367fd30a-5daf-4717-badf-24650dc1aed6",
   "metadata": {
    "tags": []
   },
   "source": [
    "## load barometric noise models"
   ]
  },
  {
   "cell_type": "code",
   "execution_count": null,
   "id": "97b9d210-0721-46c9-b020-e87c45308a12",
   "metadata": {
    "tags": []
   },
   "outputs": [],
   "source": [
    "baro_lnm = pd.read_csv(data_path+f\"LNM2/data/\"+\"baro_nlnm_nhnm.csv\")\n",
    "\n",
    "baro_lnm['nlnm_baro'] = 10**(baro_lnm['nlnm_baro_db']/10)\n",
    "baro_lnm['nhnm_baro'] = 10**(baro_lnm['nhnm_baro_db']/10)"
   ]
  },
  {
   "cell_type": "markdown",
   "id": "6af3fb03-eb11-49e0-8150-a7bbfe1e4776",
   "metadata": {},
   "source": [
    "## interpolate barometric noise models on central frequencies"
   ]
  },
  {
   "cell_type": "code",
   "execution_count": null,
   "id": "5cb7546b-2731-49a5-8468-f241b6d69cbd",
   "metadata": {
    "tags": []
   },
   "outputs": [],
   "source": [
    "compl_ROMY['nlnm_baro'] = np.interp(compl_ROMY['fc'], baro_lnm['frequency'], baro_lnm['nlnm_baro'])\n",
    "compl_ROMY['nhnm_baro'] = np.interp(compl_ROMY['fc'], baro_lnm['frequency'], baro_lnm['nhnm_baro'])"
   ]
  },
  {
   "cell_type": "markdown",
   "id": "fa3c99b0-f6f9-4044-a337-7cae1c2d7741",
   "metadata": {
    "tags": []
   },
   "source": [
    "## convert barometric noise models to rotation rate"
   ]
  },
  {
   "cell_type": "code",
   "execution_count": null,
   "id": "14d7735d-5544-47f5-9587-24a3bef88b41",
   "metadata": {
    "tags": []
   },
   "outputs": [],
   "source": [
    "compl_ROMY['baro_rlnm_Z'] = compl_ROMY['Z'] * 0.01 * 1e-9 * compl_ROMY['nlnm_baro']\n",
    "compl_ROMY['baro_rlnm_N'] = compl_ROMY['N'] * 0.01 * 1e-9 * compl_ROMY['nlnm_baro']\n",
    "compl_ROMY['baro_rlnm_E'] = compl_ROMY['E'] * 0.01 * 1e-9 * compl_ROMY['nlnm_baro']\n",
    "\n",
    "compl_ROMY['baro_rhnm_Z'] = compl_ROMY['Z'] * 0.01 * 1e-9 * compl_ROMY['nhnm_baro']\n",
    "compl_ROMY['baro_rhnm_N'] = compl_ROMY['N'] * 0.01 * 1e-9 * compl_ROMY['nhnm_baro']\n",
    "compl_ROMY['baro_rhnm_E'] = compl_ROMY['E'] * 0.01 * 1e-9 * compl_ROMY['nhnm_baro']\n",
    "\n",
    "compl_ROMY['baro_rlnm_Z_acc'] = compl_ROMY['z_acc'] * 0.01 * 1e-9 * compl_ROMY['nlnm_baro']\n",
    "compl_ROMY['baro_rlnm_N_acc'] = compl_ROMY['n_acc'] * 0.01 * 1e-9 * compl_ROMY['nlnm_baro']\n",
    "compl_ROMY['baro_rlnm_E_acc'] = compl_ROMY['e_acc'] * 0.01 * 1e-9 * compl_ROMY['nlnm_baro']\n",
    "\n",
    "compl_ROMY['baro_rhnm_Z_acc'] = compl_ROMY['z_acc'] * 0.01 * 1e-9 * compl_ROMY['nhnm_baro']\n",
    "compl_ROMY['baro_rhnm_N_acc'] = compl_ROMY['n_acc'] * 0.01 * 1e-9 * compl_ROMY['nhnm_baro']\n",
    "compl_ROMY['baro_rhnm_E_acc'] = compl_ROMY['e_acc'] * 0.01 * 1e-9 * compl_ROMY['nhnm_baro']"
   ]
  },
  {
   "cell_type": "code",
   "execution_count": null,
   "id": "7834df1b-2d93-473f-97f6-c509e879fb18",
   "metadata": {
    "tags": []
   },
   "outputs": [],
   "source": [
    "def __makeplot():\n",
    "\n",
    "    Nrow, Ncol = 3, 2\n",
    "\n",
    "    font = 12\n",
    "\n",
    "    fig, ax = plt.subplots(Nrow, Ncol, figsize=(15, 10), sharex=True)\n",
    "\n",
    "    plt.subplots_adjust(hspace=0.1)\n",
    "\n",
    "    ax[0,1].plot(compl_FUR['fc'], compl_FUR['Z'], label=\"FUR.Z\", marker=\".\")\n",
    "    ax[0,1].plot(compl_FUR['fc'], compl_FUR['N'], label=\"FUR.N\", marker=\".\")\n",
    "    ax[0,1].plot(compl_FUR['fc'], compl_FUR['E'], label=\"FUR.E\", marker=\".\")\n",
    "\n",
    "\n",
    "    ax[0,0].plot(compl_ROMY['fc'], compl_ROMY['Z'], label=\"ROMY.Z\", ls=\"-\", marker=\".\")\n",
    "    ax[0,0].plot(compl_ROMY['fc'], compl_ROMY['N'], label=\"ROMY.N\", ls=\"-\", marker=\".\")\n",
    "    ax[0,0].plot(compl_ROMY['fc'], compl_ROMY['E'], label=\"ROMY.E\", ls=\"-\", marker=\".\")\n",
    "\n",
    "    # ax[0,1].plot(compl_ROMY['fc'], compl_ROMY['z_acc'], label=\"ROMY.Z\", ls=\"-\", marker=\"x\")\n",
    "    # ax[0,1].plot(compl_ROMY['fc'], compl_ROMY['n_acc'], label=\"ROMY.N\", ls=\"-\", marker=\"x\")\n",
    "    # ax[0,1].plot(compl_ROMY['fc'], compl_ROMY['e_acc'], label=\"ROMY.E\", ls=\"-\", marker=\"x\")\n",
    "\n",
    "    ax[1,0].plot(baro_lnm['frequency'], baro_lnm['nlnm_baro'], color=\"grey\", ls=\":\")\n",
    "    ax[1,0].plot(baro_lnm['frequency'], baro_lnm['nhnm_baro'], color=\"grey\", ls=\":\")\n",
    "    ax[1,0].plot(compl_ROMY['fc'], compl_ROMY['nlnm_baro'], \"k\", label=\"Marty et al. 2021\")\n",
    "    ax[1,0].plot(compl_ROMY['fc'], compl_ROMY['nhnm_baro'], \"k\")\n",
    "\n",
    "    ax[1,1].plot(baro_lnm['frequency'], baro_lnm['nlnm_baro'], color=\"grey\", ls=\":\")\n",
    "    ax[1,1].plot(baro_lnm['frequency'], baro_lnm['nhnm_baro'], color=\"grey\", ls=\":\")\n",
    "    ax[1,1].plot(compl_ROMY['fc'], compl_ROMY['nlnm_baro'], \"k\", label=\"Marty et al. 2021\")\n",
    "    ax[1,1].plot(compl_ROMY['fc'], compl_ROMY['nhnm_baro'], \"k\")\n",
    "\n",
    "    ax[2,1].plot(compl_ROMY['fc'], compl_ROMY['baro_rlnm_Z_acc']**2)\n",
    "    ax[2,1].plot(compl_ROMY['fc'], compl_ROMY['baro_rlnm_N_acc']**2)\n",
    "    ax[2,1].plot(compl_ROMY['fc'], compl_ROMY['baro_rlnm_E_acc']**2)\n",
    "\n",
    "    # ax[2,1].plot(compl_ROMY['fc'], compl_ROMY['baro_rhnm_Z_acc']**2)\n",
    "    # ax[2,1].plot(compl_ROMY['fc'], compl_ROMY['baro_rhnm_N_acc']**2)\n",
    "    # ax[2,1].plot(compl_ROMY['fc'], compl_ROMY['baro_rhnm_E_acc']**2)\n",
    "\n",
    "    ax[2,1].plot(df_models.frequencies, df_models.nlnm_acc, color=\"k\", ls=\"--\", label=\"Petersen 1993\")\n",
    "    ax[2,1].plot(df_models.frequencies, df_models.nhnm_acc, color=\"k\", ls=\"--\")\n",
    "\n",
    "    ax[2,0].plot(compl_ROMY['fc'], compl_ROMY['baro_rlnm_Z']**2)\n",
    "    ax[2,0].plot(compl_ROMY['fc'], compl_ROMY['baro_rlnm_N']**2)\n",
    "    ax[2,0].plot(compl_ROMY['fc'], compl_ROMY['baro_rlnm_E']**2)\n",
    "\n",
    "#     ax[2,0].plot(compl_ROMY['fc'], compl_ROMY['baro_rhnm_Z']**2)\n",
    "#     ax[2,0].plot(compl_ROMY['fc'], compl_ROMY['baro_rhnm_N']**2)\n",
    "#     ax[2,0].plot(compl_ROMY['fc'], compl_ROMY['baro_rhnm_E']**2)\n",
    "\n",
    "    ax[2,0].plot(df_models.frequencies, df_models.nlnm_rot_rate, color=\"k\", ls=\"--\", label=\"Brotzer et al. 2023\")\n",
    "    ax[2,0].plot(df_models.frequencies, df_models.nhnm_rot_rate, color=\"k\", ls=\"--\")\n",
    "\n",
    "    for _n in range(Nrow):\n",
    "        for _m in range(Ncol):\n",
    "            ax[_n, _m].grid(which=\"both\", ls=\":\", zorder=0)\n",
    "            ax[_n, _m].legend(loc=1)\n",
    "            ax[_n, _m].set_yscale(\"log\")\n",
    "            ax[_n, _m].set_xscale(\"log\")\n",
    "            ax[_n, _m].set_xlim(7e-4, 1e0)\n",
    "\n",
    "    ax[1,0].set_ylim(1e-8, 1e7)\n",
    "    ax[1,1].set_ylim(1e-8, 1e7)\n",
    "\n",
    "    ax[0,0].set_ylabel(\"Compliance (nrad/s/hPa)\", fontsize=font)\n",
    "    ax[1,0].set_ylabel(\"Air pressure (Pa)\", fontsize=font)\n",
    "    ax[2,0].set_ylabel(\"PSD ($rad^2/s^2/Hz^2$)\", fontsize=font)\n",
    "\n",
    "    ax[0,1].set_ylabel(\"Compliance (nm/s$^2$/hPa)\", fontsize=font)\n",
    "    ax[1,1].set_ylabel(\"Air pressure (Pa)\", fontsize=font)\n",
    "    ax[2,1].set_ylabel(\"PSD ($m^2/s^4/Hz^2$)\", fontsize=font)\n",
    "\n",
    "    ax[2,0].set_xlabel(\"Frequency (Hz)\", fontsize=font)\n",
    "    ax[2,1].set_xlabel(\"Frequency (Hz)\", fontsize=font)\n",
    "\n",
    "    plt.show();\n",
    "    return fig\n",
    "\n",
    "fig = __makeplot();\n",
    "\n",
    "fig.savefig(config['path_to_figs']+f\"Overview_compliance.png\", format=\"png\", dpi=150, bbox_inches='tight')\n",
    "\n"
   ]
  },
  {
   "cell_type": "code",
   "execution_count": null,
   "id": "12f6934a-636c-4375-85a7-d0dcf46b65a6",
   "metadata": {},
   "outputs": [],
   "source": []
  }
 ],
 "metadata": {
  "kernelspec": {
   "display_name": "Python 3 (ipykernel)",
   "language": "python",
   "name": "python3"
  },
  "language_info": {
   "codemirror_mode": {
    "name": "ipython",
    "version": 3
   },
   "file_extension": ".py",
   "mimetype": "text/x-python",
   "name": "python",
   "nbconvert_exporter": "python",
   "pygments_lexer": "ipython3",
   "version": "3.10.12"
  },
  "latex_envs": {
   "LaTeX_envs_menu_present": true,
   "autoclose": false,
   "autocomplete": true,
   "bibliofile": "biblio.bib",
   "cite_by": "apalike",
   "current_citInitial": 1,
   "eqLabelWithNumbers": true,
   "eqNumInitial": 1,
   "hotkeys": {
    "equation": "Ctrl-E",
    "itemize": "Ctrl-I"
   },
   "labels_anchors": false,
   "latex_user_defs": false,
   "report_style_numbering": false,
   "user_envs_cfg": false
  },
  "toc": {
   "base_numbering": 1,
   "nav_menu": {},
   "number_sections": true,
   "sideBar": true,
   "skip_h1_title": false,
   "title_cell": "Table of Contents",
   "title_sidebar": "Contents",
   "toc_cell": false,
   "toc_position": {},
   "toc_section_display": true,
   "toc_window_display": false
  },
  "varInspector": {
   "cols": {
    "lenName": 16,
    "lenType": 16,
    "lenVar": 40
   },
   "kernels_config": {
    "python": {
     "delete_cmd_postfix": "",
     "delete_cmd_prefix": "del ",
     "library": "var_list.py",
     "varRefreshCmd": "print(var_dic_list())"
    },
    "r": {
     "delete_cmd_postfix": ") ",
     "delete_cmd_prefix": "rm(",
     "library": "var_list.r",
     "varRefreshCmd": "cat(var_dic_list()) "
    }
   },
   "types_to_exclude": [
    "module",
    "function",
    "builtin_function_or_method",
    "instance",
    "_Feature"
   ],
   "window_display": false
  }
 },
 "nbformat": 4,
 "nbformat_minor": 5
}
