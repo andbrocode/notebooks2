{
 "cells": [
  {
   "cell_type": "markdown",
   "id": "eda030d3",
   "metadata": {},
   "source": [
    "# Hourly PSDS - ROMY | FUR | TILT with FFBI"
   ]
  },
  {
   "cell_type": "markdown",
   "id": "protected-presentation",
   "metadata": {},
   "source": [
    "## Load Libraries"
   ]
  },
  {
   "cell_type": "code",
   "execution_count": 1,
   "id": "behind-arrangement",
   "metadata": {
    "ExecuteTime": {
     "end_time": "2023-08-07T14:54:03.050940Z",
     "start_time": "2023-08-07T14:54:00.312331Z"
    },
    "tags": []
   },
   "outputs": [],
   "source": [
    "from obspy import UTCDateTime\n",
    "from scipy.signal import welch\n",
    "from numpy import log10, zeros, pi, append, linspace, mean, median, array, where, transpose, shape, histogram, arange, append\n",
    "from numpy import logspace, linspace, log, log10, isinf, ones, nan, count_nonzero, sqrt, isnan\n",
    "from pandas import DataFrame, concat, Series, date_range, read_csv, read_pickle\n",
    "from tqdm import tqdm\n",
    "from pathlib import Path\n",
    "\n",
    "import os, sys\n",
    "import pickle\n",
    "import matplotlib.pyplot as plt\n",
    "\n",
    "from andbro__store_as_pickle import __store_as_pickle"
   ]
  },
  {
   "cell_type": "code",
   "execution_count": 2,
   "id": "f337911b",
   "metadata": {
    "ExecuteTime": {
     "end_time": "2023-08-07T14:54:03.147385Z",
     "start_time": "2023-08-07T14:54:03.133998Z"
    },
    "tags": []
   },
   "outputs": [],
   "source": [
    "if os.uname().nodename == 'lighthouse':\n",
    "    root_path = '/home/andbro/'\n",
    "    data_path = '/home/andbro/kilauea-data/'\n",
    "    archive_path = '/home/andbro/freenas/'\n",
    "elif os.uname().nodename == 'kilauea':\n",
    "    root_path = '/home/brotzer/'\n",
    "    data_path = '/import/kilauea-data/'\n",
    "    archive_path = '/import/freenas-ffb-01-data/'"
   ]
  },
  {
   "cell_type": "markdown",
   "id": "subject-expression",
   "metadata": {},
   "source": [
    "## Configurations"
   ]
  },
  {
   "cell_type": "code",
   "execution_count": 3,
   "id": "c898fc5e-9073-419a-b426-e7aa9a58625b",
   "metadata": {
    "ExecuteTime": {
     "end_time": "2023-08-07T15:31:55.890800Z",
     "start_time": "2023-08-07T15:31:55.885708Z"
    },
    "tags": []
   },
   "outputs": [],
   "source": [
    "\n",
    "## _____________________\n",
    "## pressure data\n",
    "# name, comp, app = \"PROMY\", \"\", \"\"\n",
    "# name, comp, app = \"FFBI\", \"\", \"_absolute\"\n",
    "# name, comp, app = \"FFBI\", \"\", \"\"\n",
    "\n",
    "## _____________________\n",
    "## ROMY data\n",
    "name, comp, app = \"ROMY\", \"Z\", \"\"\n",
    "# name, comp, app = \"ROMY\", \"U\", \"\"\n",
    "# name, comp, app = \"ROMY\", \"V\", \"\"\n",
    "\n",
    "## _____________________\n",
    "## FUR data\n",
    "# name, comp, app = \"FUR\", \"Z\", \"\"\n",
    "# name, comp, app = \"FUR\", \"N\", \"\"\n",
    "# name, comp, app = \"FUR\", \"E\", \"\"\n",
    "\n",
    "## _____________________\n",
    "## TILT data\n",
    "# name, comp, app = \"DROMY\", \"N\", \"\"\n",
    "# name, comp, app = \"DROMY\", \"E\", \"\"\n",
    "\n",
    "\n",
    "## _____________________\n",
    "## coherence data\n",
    "# name, comp, app = \"ROMY\", \"Z\", \"_coherence\"\n",
    "# name, comp, app = \"ROMY\", \"U\", \"_coherence\"\n",
    "# name, comp, app = \"ROMY\", \"V\", \"_coherence\"\n",
    "\n",
    "# name, comp, app = \"FUR\", \"Z\", \"_coherence\"\n",
    "# name, comp, app = \"FUR\", \"N\", \"_coherence\"\n",
    "# name, comp, app = \"FUR\", \"E\", \"_coherence\"\n",
    "\n",
    "# name, comp, app = \"DROMY\", \"N\", \"_coherence\"\n",
    "# name, comp, app = \"DROMY\", \"E\", \"_coherence\"\n",
    "\n",
    "\n",
    "year = \"2023\"\n",
    "\n",
    "path = data_path+f\"LNM2/PSDS/\"\n",
    "\n",
    "t1 ,t2 = \"2023-09-23\", \"2023-10-22\""
   ]
  },
  {
   "cell_type": "code",
   "execution_count": 4,
   "id": "565a7b24-4640-4f17-b66e-2ee951eeee5b",
   "metadata": {
    "ExecuteTime": {
     "end_time": "2023-08-07T15:31:55.890800Z",
     "start_time": "2023-08-07T15:31:55.885708Z"
    },
    "tags": []
   },
   "outputs": [],
   "source": [
    "## ---------------------------------------\n",
    "\n",
    "## load configurations\n",
    "if len(comp) != 0:\n",
    "    config = pickle.load(open(path+name+app+\"/\"+f\"{year}_{name}_{comp}_3600_config.pkl\", 'rb'))\n",
    "    config['filename'] = f\"{name}{app}/{year}_{name}_{comp}_3600\"\n",
    "    config['station'] = f\"{name}_{comp}\"\n",
    "else:\n",
    "    config = pickle.load(open(path+name+app+\"/\"+f\"{year}_{name}_3600_config.pkl\", 'rb'))\n",
    "    config['filename'] = f\"{name}{app}/{year}_{name}_3600\"\n",
    "    config['station'] = f\"{name}\"\n",
    "\n",
    "\n",
    "config['path'] = path\n",
    "\n",
    "config['startdate'], config['enddate'] = t1, t2\n",
    "\n",
    "\n",
    "\n",
    "## specify paths\n",
    "config['outpath_figures'] = data_path+f\"LNM2/figures/\"\n",
    "\n",
    "config['path_to_outdata'] = data_path+f\"LNM2/data/\""
   ]
  },
  {
   "cell_type": "markdown",
   "id": "natural-beginning",
   "metadata": {},
   "source": [
    "## Methods"
   ]
  },
  {
   "cell_type": "code",
   "execution_count": 5,
   "id": "b42d3dc5",
   "metadata": {
    "ExecuteTime": {
     "end_time": "2023-08-07T15:31:57.679758Z",
     "start_time": "2023-08-07T15:31:57.677330Z"
    },
    "code_folding": [
     0
    ],
    "tags": []
   },
   "outputs": [],
   "source": [
    "def __load_data_file(path, file):\n",
    "\n",
    "    from tqdm.notebook import tqdm\n",
    "    from numpy import array\n",
    "\n",
    "    psds_all = []\n",
    "    psds_hourly = read_pickle(path+file)\n",
    "\n",
    "    for psd in psds_hourly:\n",
    "        psds_all.append(psd)\n",
    "\n",
    "    return array(psds_all)"
   ]
  },
  {
   "cell_type": "markdown",
   "id": "3e039344-731c-494b-b850-232a39a92e9a",
   "metadata": {
    "tags": []
   },
   "source": [
    "## Compute PSD value per frequency band"
   ]
  },
  {
   "cell_type": "code",
   "execution_count": null,
   "id": "0477bdeb-1ae9-473e-ab30-3677533e4d93",
   "metadata": {
    "tags": []
   },
   "outputs": [
    {
     "name": "stdout",
     "output_type": "stream",
     "text": [
      "ROMY/2023_ROMY_Z_3600_20230923_hourly.pkl\n"
     ]
    }
   ],
   "source": [
    "d1, d2 = config['startdate'], config['enddate']\n",
    "\n",
    "psds_medians_out, times_out = [], []\n",
    "\n",
    "ff = pickle.load(open(config['path']+f\"{config['filename']}_frequency_axis.pkl\", 'rb'))\n",
    "\n",
    "dat, dates = [], []\n",
    "for jj, day in enumerate(date_range(d1, d2)):\n",
    "\n",
    "#     if jj > 1:\n",
    "#         continue\n",
    "\n",
    "    day = str(day).split(\" \")[0].replace(\"-\", \"\")\n",
    "\n",
    "    print(f\"{config['filename']}_{day}_hourly.pkl\")\n",
    "\n",
    "    try:\n",
    "        _dat = __load_data_file(path, f\"{config['filename']}_{day}_hourly.pkl\")\n",
    "        # _dat, _rejected = __remove_noisy_psds(_dat, threshold_mean=1e-15, ff=ff1, flim=0.1)\n",
    "\n",
    "    except Exception as e:\n",
    "        print(e)\n",
    "        print(f\" -> {day}: no data found\")\n",
    "        continue\n",
    "\n",
    "    for _k, _psd in enumerate(_dat):\n",
    "        dat.append(_psd)\n",
    "        dates.append(f\"{day}_{str(_k).rjust(2, '0')}\")\n",
    "\n",
    "dat = array(dat)"
   ]
  },
  {
   "cell_type": "markdown",
   "id": "a3f44d75-1f36-46f6-9b6a-8c895a4818fb",
   "metadata": {},
   "source": [
    "### Get frequency bands"
   ]
  },
  {
   "cell_type": "code",
   "execution_count": null,
   "id": "141cb613-f2cb-4b51-80df-51ffac5b3639",
   "metadata": {
    "tags": []
   },
   "outputs": [],
   "source": [
    "def __get_octave_bands(fmin, fmax, fband_type=\"octave\", plot=False):\n",
    "\n",
    "    \"\"\"\n",
    "    Computing octave / one-third-octave bands\n",
    "\n",
    "    Arguments:\n",
    "        - fmin:    (float) minimum center frequency\n",
    "        - fmax:    (float) maximum center frequency\n",
    "        - fband_type:    [octave] / one-third-octave\n",
    "        - plot:    (bool) show frequency bands\n",
    "\n",
    "    Example:\n",
    "\n",
    "    >>> flower, fupper, fcenter = __get_octave_bands(f_min, f_max, fband_type=\"octave\", plot=False)\n",
    "\n",
    "    \"\"\"\n",
    "\n",
    "    import matplotlib.pyplot as plt\n",
    "    from numpy import sqrt, array\n",
    "    from acoustics import bands\n",
    "\n",
    "    f_lower, f_upper, f_centers = [], [], []\n",
    "\n",
    "    if fband_type == \"octave\":\n",
    "        f_centers = bands.octave(fmin, fmax)\n",
    "        f_lower = bands.octave_low(fmin, fmax)\n",
    "        f_upper = bands.octave_high(fmin, fmax)\n",
    "\n",
    "    if fband_type == \"one-third-octave\":\n",
    "        f_centers = bands.third(fmin, fmax)\n",
    "        f_lower = bands.third_low(fmin, fmax)\n",
    "        f_upper = bands.third_high(fmin, fmax)\n",
    "\n",
    "    if plot:\n",
    "        plt.figure()\n",
    "        for fl, fc, fu in zip(f_lower, f_centers, f_upper):\n",
    "            plt.axvline(fu, color=\"r\")\n",
    "            plt.axvline(fl, color=\"r\")\n",
    "            plt.axvline(fc)\n",
    "            plt.axvline(fmin, color=\"g\")\n",
    "            plt.axvline(fmax, color=\"g\")\n",
    "            plt.xscale(\"log\")\n",
    "        plt.show()\n",
    "\n",
    "    return array(f_lower), array(f_upper), array(f_centers)"
   ]
  },
  {
   "cell_type": "code",
   "execution_count": null,
   "id": "ce001e33-583f-417a-98cf-1ac1a616c3e8",
   "metadata": {
    "tags": []
   },
   "outputs": [],
   "source": [
    "f_lower, f_upper, f_center = __get_octave_bands(1e-3, 1e0, fband_type=\"one-third-octave\", plot=False)"
   ]
  },
  {
   "cell_type": "markdown",
   "id": "63082a8c-871b-4df8-87e9-ea706993a993",
   "metadata": {},
   "source": [
    "### Get PSD average for frequency bands"
   ]
  },
  {
   "cell_type": "code",
   "execution_count": null,
   "id": "e79cf5f9-a7cf-478c-8a32-bf02a1ec71be",
   "metadata": {
    "tags": []
   },
   "outputs": [],
   "source": [
    "def __get_band_average(freq, data, f_center, f_upper, f_lower):\n",
    "\n",
    "    ## get frequency indices\n",
    "    fl_idx, fu_idx = [], []\n",
    "\n",
    "    for _k, (fl, fu) in enumerate(zip(f_lower, f_upper)):\n",
    "        if _k <= len(f_center):\n",
    "\n",
    "            for _i, _f in enumerate(freq):\n",
    "                if _f >= fl:\n",
    "                    fl_idx.append(int(_i))\n",
    "                    break\n",
    "\n",
    "            for _i, _f in enumerate(freq):\n",
    "                if _f >= fu:\n",
    "                    fu_idx.append(int(_i))\n",
    "                    break\n",
    "\n",
    "    ## compute average per band\n",
    "    psd_avg, fc, fu, fl = [], [], [], []\n",
    "    for _n, (ifl, ifu) in enumerate(zip(fl_idx, fu_idx)):\n",
    "\n",
    "        avg = []\n",
    "        for _psd in data:\n",
    "            avg.append(median(_psd[ifl:ifu]))\n",
    "        psd_avg.append(array(avg))\n",
    "        fc.append(f_center[_n])\n",
    "        fu.append(f_upper[_n])\n",
    "        fl.append(f_lower[_n])\n",
    "\n",
    "    psd_avg = array(psd_avg)\n",
    "\n",
    "\n",
    "    ## check up plot\n",
    "    plt.figure(figsize=(15, 5))\n",
    "\n",
    "    for _j, dd in enumerate(psd_avg):\n",
    "        plt.scatter(ones(len(dd))*fc[_j], dd, s=5)\n",
    "        plt.xscale(\"log\")\n",
    "        plt.yscale(\"log\")\n",
    "\n",
    "    plt.show();\n",
    "\n",
    "\n",
    "    ## output\n",
    "    out = {}\n",
    "    out['psd_avg'] = psd_avg\n",
    "    out['fcenter'] = array(fc)\n",
    "    out['fupper'] = array(fu)\n",
    "    out['flower'] = array(fl)\n",
    "    out['dates'] = dates\n",
    "\n",
    "    return out"
   ]
  },
  {
   "cell_type": "code",
   "execution_count": null,
   "id": "623a4dec-c5a2-4a0a-bc6d-1667827a730d",
   "metadata": {
    "tags": []
   },
   "outputs": [],
   "source": [
    "out0 = __get_band_average(ff, dat, f_center, f_upper, f_lower)"
   ]
  },
  {
   "cell_type": "markdown",
   "id": "1c45c62c-8af2-4eff-ae9e-8ddabe9e9564",
   "metadata": {
    "tags": []
   },
   "source": [
    "## Store data"
   ]
  },
  {
   "cell_type": "code",
   "execution_count": null,
   "id": "6ff2934e-6b13-4532-bac4-6a6640cc97a5",
   "metadata": {
    "tags": []
   },
   "outputs": [],
   "source": [
    "# __store_as_pickle(out0, config['path_to_outdata']+config['station']+\".pkl\")"
   ]
  },
  {
   "cell_type": "code",
   "execution_count": null,
   "id": "2b9ca1a0-6fc5-40c4-b919-ef5f58f36766",
   "metadata": {
    "tags": []
   },
   "outputs": [],
   "source": [
    "## create and fill data frame\n",
    "df_out = DataFrame()\n",
    "\n",
    "df_out['dates'] = out0['dates']\n",
    "\n",
    "for _i, fc in enumerate(out0['fcenter']):\n",
    "    df_out[round(fc, 5)] = out0['psd_avg'][_i]\n",
    "\n",
    "## store as pickle file\n",
    "df_out.to_pickle(config['path_to_outdata']+config['station']+app+\".pkl\")"
   ]
  },
  {
   "cell_type": "markdown",
   "id": "4072e9bb-c895-4794-a67b-3f6c341d5724",
   "metadata": {},
   "source": [
    "## Plot Density Histogram"
   ]
  },
  {
   "cell_type": "code",
   "execution_count": null,
   "id": "8a2dd005-8b93-45cb-8f02-ca1ad9869c1b",
   "metadata": {
    "tags": []
   },
   "outputs": [],
   "source": [
    "from functions.get_hist_loglog import __get_hist_loglog"
   ]
  },
  {
   "cell_type": "code",
   "execution_count": null,
   "id": "5d509c3e-46e0-471a-bf5d-c9937259bdad",
   "metadata": {
    "tags": []
   },
   "outputs": [],
   "source": [
    "# out = __get_hist_loglog(dat, ff, bins=100, density=False, axis=1, plot=True)"
   ]
  },
  {
   "cell_type": "code",
   "execution_count": null,
   "id": "086223cb-c996-42ef-a575-f6f13c2731f3",
   "metadata": {},
   "outputs": [],
   "source": []
  }
 ],
 "metadata": {
  "kernelspec": {
   "display_name": "Python 3 (ipykernel)",
   "language": "python",
   "name": "python3"
  },
  "language_info": {
   "codemirror_mode": {
    "name": "ipython",
    "version": 3
   },
   "file_extension": ".py",
   "mimetype": "text/x-python",
   "name": "python",
   "nbconvert_exporter": "python",
   "pygments_lexer": "ipython3",
   "version": "3.10.12"
  },
  "latex_envs": {
   "LaTeX_envs_menu_present": true,
   "autoclose": false,
   "autocomplete": true,
   "bibliofile": "biblio.bib",
   "cite_by": "apalike",
   "current_citInitial": 1,
   "eqLabelWithNumbers": true,
   "eqNumInitial": 1,
   "hotkeys": {
    "equation": "Ctrl-E",
    "itemize": "Ctrl-I"
   },
   "labels_anchors": false,
   "latex_user_defs": false,
   "report_style_numbering": false,
   "user_envs_cfg": false
  },
  "toc": {
   "base_numbering": 1,
   "nav_menu": {},
   "number_sections": true,
   "sideBar": true,
   "skip_h1_title": false,
   "title_cell": "Table of Contents",
   "title_sidebar": "Contents",
   "toc_cell": false,
   "toc_position": {},
   "toc_section_display": true,
   "toc_window_display": false
  },
  "varInspector": {
   "cols": {
    "lenName": 16,
    "lenType": 16,
    "lenVar": 40
   },
   "kernels_config": {
    "python": {
     "delete_cmd_postfix": "",
     "delete_cmd_prefix": "del ",
     "library": "var_list.py",
     "varRefreshCmd": "print(var_dic_list())"
    },
    "r": {
     "delete_cmd_postfix": ") ",
     "delete_cmd_prefix": "rm(",
     "library": "var_list.r",
     "varRefreshCmd": "cat(var_dic_list()) "
    }
   },
   "types_to_exclude": [
    "module",
    "function",
    "builtin_function_or_method",
    "instance",
    "_Feature"
   ],
   "window_display": false
  }
 },
 "nbformat": 4,
 "nbformat_minor": 5
}
