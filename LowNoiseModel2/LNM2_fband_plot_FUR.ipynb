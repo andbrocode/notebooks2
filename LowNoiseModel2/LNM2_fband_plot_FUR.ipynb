{
 "cells": [
  {
   "cell_type": "markdown",
   "id": "eda030d3",
   "metadata": {},
   "source": [
    "# Scatter Plots"
   ]
  },
  {
   "cell_type": "markdown",
   "id": "protected-presentation",
   "metadata": {},
   "source": [
    "## Load Libraries"
   ]
  },
  {
   "cell_type": "code",
   "execution_count": 11,
   "id": "behind-arrangement",
   "metadata": {
    "ExecuteTime": {
     "end_time": "2023-08-07T14:54:03.050940Z",
     "start_time": "2023-08-07T14:54:00.312331Z"
    }
   },
   "outputs": [],
   "source": [
    "from obspy import UTCDateTime\n",
    "from scipy.signal import welch\n",
    "from tqdm import tqdm\n",
    "from pathlib import Path\n",
    "\n",
    "import os, sys\n",
    "import pickle\n",
    "import matplotlib.pyplot as plt\n",
    "import pandas as pd\n",
    "import numpy as np\n",
    "\n",
    "# from andbro__store_as_pickle import __store_as_pickle"
   ]
  },
  {
   "cell_type": "code",
   "execution_count": 12,
   "id": "f337911b",
   "metadata": {
    "ExecuteTime": {
     "end_time": "2023-08-07T14:54:03.147385Z",
     "start_time": "2023-08-07T14:54:03.133998Z"
    }
   },
   "outputs": [],
   "source": [
    "if os.uname().nodename == 'lighthouse':\n",
    "    root_path = '/home/andbro/'\n",
    "    data_path = '/home/andbro/kilauea-data/'\n",
    "    archive_path = '/home/andbro/freenas/'\n",
    "elif os.uname().nodename == 'kilauea':\n",
    "    root_path = '/home/brotzer/'\n",
    "    data_path = '/import/kilauea-data/'\n",
    "    archive_path = '/import/freenas-ffb-01-data/'"
   ]
  },
  {
   "cell_type": "markdown",
   "id": "subject-expression",
   "metadata": {},
   "source": [
    "## Configurations"
   ]
  },
  {
   "cell_type": "code",
   "execution_count": 13,
   "id": "c898fc5e-9073-419a-b426-e7aa9a58625b",
   "metadata": {
    "ExecuteTime": {
     "end_time": "2023-08-07T15:31:55.890800Z",
     "start_time": "2023-08-07T15:31:55.885708Z"
    }
   },
   "outputs": [],
   "source": [
    "## ---------------------------------------\n",
    "\n",
    "name0 = \"FFBI_BDO\"\n",
    "\n",
    "name1 = \"FUR_BHN\"\n",
    "name2 = \"FUR_BHE\"\n",
    "name3 = \"FUR_BHZ\"\n",
    "\n",
    "\n",
    "# t1 ,t2 = \"2023-09-23\", \"2023-10-23\""
   ]
  },
  {
   "cell_type": "code",
   "execution_count": 14,
   "id": "565a7b24-4640-4f17-b66e-2ee951eeee5b",
   "metadata": {
    "ExecuteTime": {
     "end_time": "2023-08-07T15:31:55.890800Z",
     "start_time": "2023-08-07T15:31:55.885708Z"
    }
   },
   "outputs": [],
   "source": [
    "# ## ---------------------------------------\n",
    "\n",
    "config = {}\n",
    "\n",
    "## specify paths\n",
    "config['path_to_figs'] = data_path+f\"LNM2/figures/scatter/\"\n",
    "\n",
    "config['path_to_data'] = data_path+f\"LNM2/data/\"\n"
   ]
  },
  {
   "cell_type": "markdown",
   "id": "natural-beginning",
   "metadata": {},
   "source": [
    "## Methods"
   ]
  },
  {
   "cell_type": "code",
   "execution_count": 15,
   "id": "86d97464-9f95-46eb-b750-5c74fa5997e6",
   "metadata": {
    "tags": []
   },
   "outputs": [],
   "source": [
    "from functions.get_octave_bands import __get_octave_bands"
   ]
  },
  {
   "cell_type": "code",
   "execution_count": 16,
   "id": "757677b5-3f4d-462b-8ab1-b1ce6afac61f",
   "metadata": {
    "tags": []
   },
   "outputs": [],
   "source": [
    "def __quantile_regression(x, y, quantiles=[0.05, 0.5, 0.95]):\n",
    "\n",
    "\n",
    "    from sklearn.utils.fixes import parse_version, sp_version\n",
    "    from sklearn.linear_model import QuantileRegressor\n",
    "    from numpy import newaxis, zeros_like, bool_, logical_or, array\n",
    "\n",
    "    # This is line is to avoid incompatibility if older SciPy version.\n",
    "    # You should use `solver=\"highs\"` with recent version of SciPy.\n",
    "    solver = \"highs\" if sp_version >= parse_version(\"1.6.0\") else \"interior-point\"\n",
    "\n",
    "    predictions = {}\n",
    "\n",
    "    x = array(x)\n",
    "    X = x[:, newaxis]\n",
    "\n",
    "    out_bounds_predictions = zeros_like(y, dtype=bool_)\n",
    "\n",
    "    for quantile in quantiles:\n",
    "        qr = QuantileRegressor(quantile=quantile, alpha=0, solver=solver)\n",
    "        y_pred = qr.fit(X, y).predict(X)\n",
    "        predictions[quantile] = y_pred\n",
    "\n",
    "        if quantile == min(quantiles):\n",
    "            out_bounds_predictions = logical_or(\n",
    "                out_bounds_predictions, y_pred >= y\n",
    "            )\n",
    "        elif quantile == max(quantiles):\n",
    "            out_bounds_predictions = logical_or(\n",
    "                out_bounds_predictions, y_pred <= y\n",
    "            )\n",
    "\n",
    "    # print(qr.score(X, y))\n",
    "    return predictions"
   ]
  },
  {
   "cell_type": "code",
   "execution_count": 17,
   "id": "faa8d665-8b20-493b-87a9-dd980fe788aa",
   "metadata": {},
   "outputs": [],
   "source": [
    "def __compute_orthogonal_distance_regression(x_array, y_array, xerr=None, yerr=None, bx=None, by=None):\n",
    "\n",
    "    from scipy import odr\n",
    "    from numpy import power, mean, std\n",
    "\n",
    "    def __model(B, x):\n",
    "        return 1*x+B[0]\n",
    "\n",
    "    if bx is None and by is None:\n",
    "        bx, by = 0, mean(y_array)/mean(x_array)\n",
    "\n",
    "    if xerr is None and yerr is None:\n",
    "        xerr, yerr = std(x_array), std(y_array)\n",
    "\n",
    "#     data = odr.RealData(x_array, y_array)\n",
    "    data = odr.Data(x_array, y_array, wd=1./xerr, we=1./yerr)\n",
    "\n",
    "    # odr = odr.ODR(data, model=odr.unilinear)\n",
    "    M = odr.Model(__model)\n",
    "    odr = odr.ODR(data, model=M, beta0=[1])\n",
    "\n",
    "    output = odr.run()\n",
    "\n",
    "    # slope, intercept = output.beta\n",
    "    slope, intercept = 1, output.beta\n",
    "\n",
    "    return slope, intercept"
   ]
  },
  {
   "cell_type": "markdown",
   "id": "24093c5f-3ecb-4afb-8a83-ff43d7d501e5",
   "metadata": {},
   "source": [
    "## Plot all "
   ]
  },
  {
   "cell_type": "code",
   "execution_count": 22,
   "id": "96d134d2-6924-456d-9779-e313619d9fc7",
   "metadata": {
    "tags": []
   },
   "outputs": [
    {
     "ename": "FileNotFoundError",
     "evalue": "[Errno 2] No such file or directory: '/home/andbro/kilauea-data/LNM2/data/FUR_BHN_coherence.pkl'",
     "output_type": "error",
     "traceback": [
      "\u001b[0;31m---------------------------------------------------------------------------\u001b[0m",
      "\u001b[0;31mFileNotFoundError\u001b[0m                         Traceback (most recent call last)",
      "Cell \u001b[0;32mIn[22], line 8\u001b[0m\n\u001b[1;32m      4\u001b[0m dat2 \u001b[38;5;241m=\u001b[39m pd\u001b[38;5;241m.\u001b[39mread_pickle(config[\u001b[38;5;124m'\u001b[39m\u001b[38;5;124mpath_to_data\u001b[39m\u001b[38;5;124m'\u001b[39m]\u001b[38;5;241m+\u001b[39mname2\u001b[38;5;241m+\u001b[39m\u001b[38;5;124m\"\u001b[39m\u001b[38;5;124m.pkl\u001b[39m\u001b[38;5;124m\"\u001b[39m)\n\u001b[1;32m      5\u001b[0m dat3 \u001b[38;5;241m=\u001b[39m pd\u001b[38;5;241m.\u001b[39mread_pickle(config[\u001b[38;5;124m'\u001b[39m\u001b[38;5;124mpath_to_data\u001b[39m\u001b[38;5;124m'\u001b[39m]\u001b[38;5;241m+\u001b[39mname3\u001b[38;5;241m+\u001b[39m\u001b[38;5;124m\"\u001b[39m\u001b[38;5;124m.pkl\u001b[39m\u001b[38;5;124m\"\u001b[39m)\n\u001b[0;32m----> 8\u001b[0m coh1 \u001b[38;5;241m=\u001b[39m \u001b[43mpd\u001b[49m\u001b[38;5;241;43m.\u001b[39;49m\u001b[43mread_pickle\u001b[49m\u001b[43m(\u001b[49m\u001b[43mconfig\u001b[49m\u001b[43m[\u001b[49m\u001b[38;5;124;43m'\u001b[39;49m\u001b[38;5;124;43mpath_to_data\u001b[39;49m\u001b[38;5;124;43m'\u001b[39;49m\u001b[43m]\u001b[49m\u001b[38;5;241;43m+\u001b[39;49m\u001b[43mname1\u001b[49m\u001b[38;5;241;43m+\u001b[39;49m\u001b[38;5;124;43m\"\u001b[39;49m\u001b[38;5;124;43m_coherence.pkl\u001b[39;49m\u001b[38;5;124;43m\"\u001b[39;49m\u001b[43m)\u001b[49m\n\u001b[1;32m      9\u001b[0m coh2 \u001b[38;5;241m=\u001b[39m pd\u001b[38;5;241m.\u001b[39mread_pickle(config[\u001b[38;5;124m'\u001b[39m\u001b[38;5;124mpath_to_data\u001b[39m\u001b[38;5;124m'\u001b[39m]\u001b[38;5;241m+\u001b[39mname2\u001b[38;5;241m+\u001b[39m\u001b[38;5;124m\"\u001b[39m\u001b[38;5;124m_coherence.pkl\u001b[39m\u001b[38;5;124m\"\u001b[39m)\n\u001b[1;32m     10\u001b[0m coh3 \u001b[38;5;241m=\u001b[39m pd\u001b[38;5;241m.\u001b[39mread_pickle(config[\u001b[38;5;124m'\u001b[39m\u001b[38;5;124mpath_to_data\u001b[39m\u001b[38;5;124m'\u001b[39m]\u001b[38;5;241m+\u001b[39mname3\u001b[38;5;241m+\u001b[39m\u001b[38;5;124m\"\u001b[39m\u001b[38;5;124m_coherence.pkl\u001b[39m\u001b[38;5;124m\"\u001b[39m)\n",
      "File \u001b[0;32m~/anaconda3/envs/obs2/lib/python3.10/site-packages/pandas/io/pickle.py:179\u001b[0m, in \u001b[0;36mread_pickle\u001b[0;34m(filepath_or_buffer, compression, storage_options)\u001b[0m\n\u001b[1;32m    115\u001b[0m \u001b[38;5;250m\u001b[39m\u001b[38;5;124;03m\"\"\"\u001b[39;00m\n\u001b[1;32m    116\u001b[0m \u001b[38;5;124;03mLoad pickled pandas object (or any object) from file.\u001b[39;00m\n\u001b[1;32m    117\u001b[0m \n\u001b[0;32m   (...)\u001b[0m\n\u001b[1;32m    176\u001b[0m \u001b[38;5;124;03m4    4    9\u001b[39;00m\n\u001b[1;32m    177\u001b[0m \u001b[38;5;124;03m\"\"\"\u001b[39;00m\n\u001b[1;32m    178\u001b[0m excs_to_catch \u001b[38;5;241m=\u001b[39m (\u001b[38;5;167;01mAttributeError\u001b[39;00m, \u001b[38;5;167;01mImportError\u001b[39;00m, \u001b[38;5;167;01mModuleNotFoundError\u001b[39;00m, \u001b[38;5;167;01mTypeError\u001b[39;00m)\n\u001b[0;32m--> 179\u001b[0m \u001b[38;5;28;01mwith\u001b[39;00m \u001b[43mget_handle\u001b[49m\u001b[43m(\u001b[49m\n\u001b[1;32m    180\u001b[0m \u001b[43m    \u001b[49m\u001b[43mfilepath_or_buffer\u001b[49m\u001b[43m,\u001b[49m\n\u001b[1;32m    181\u001b[0m \u001b[43m    \u001b[49m\u001b[38;5;124;43m\"\u001b[39;49m\u001b[38;5;124;43mrb\u001b[39;49m\u001b[38;5;124;43m\"\u001b[39;49m\u001b[43m,\u001b[49m\n\u001b[1;32m    182\u001b[0m \u001b[43m    \u001b[49m\u001b[43mcompression\u001b[49m\u001b[38;5;241;43m=\u001b[39;49m\u001b[43mcompression\u001b[49m\u001b[43m,\u001b[49m\n\u001b[1;32m    183\u001b[0m \u001b[43m    \u001b[49m\u001b[43mis_text\u001b[49m\u001b[38;5;241;43m=\u001b[39;49m\u001b[38;5;28;43;01mFalse\u001b[39;49;00m\u001b[43m,\u001b[49m\n\u001b[1;32m    184\u001b[0m \u001b[43m    \u001b[49m\u001b[43mstorage_options\u001b[49m\u001b[38;5;241;43m=\u001b[39;49m\u001b[43mstorage_options\u001b[49m\u001b[43m,\u001b[49m\n\u001b[1;32m    185\u001b[0m \u001b[43m\u001b[49m\u001b[43m)\u001b[49m \u001b[38;5;28;01mas\u001b[39;00m handles:\n\u001b[1;32m    186\u001b[0m     \u001b[38;5;66;03m# 1) try standard library Pickle\u001b[39;00m\n\u001b[1;32m    187\u001b[0m     \u001b[38;5;66;03m# 2) try pickle_compat (older pandas version) to handle subclass changes\u001b[39;00m\n\u001b[1;32m    188\u001b[0m     \u001b[38;5;66;03m# 3) try pickle_compat with latin-1 encoding upon a UnicodeDecodeError\u001b[39;00m\n\u001b[1;32m    190\u001b[0m     \u001b[38;5;28;01mtry\u001b[39;00m:\n\u001b[1;32m    191\u001b[0m         \u001b[38;5;66;03m# TypeError for Cython complaints about object.__new__ vs Tick.__new__\u001b[39;00m\n\u001b[1;32m    192\u001b[0m         \u001b[38;5;28;01mtry\u001b[39;00m:\n",
      "File \u001b[0;32m~/anaconda3/envs/obs2/lib/python3.10/site-packages/pandas/io/common.py:868\u001b[0m, in \u001b[0;36mget_handle\u001b[0;34m(path_or_buf, mode, encoding, compression, memory_map, is_text, errors, storage_options)\u001b[0m\n\u001b[1;32m    859\u001b[0m         handle \u001b[38;5;241m=\u001b[39m \u001b[38;5;28mopen\u001b[39m(\n\u001b[1;32m    860\u001b[0m             handle,\n\u001b[1;32m    861\u001b[0m             ioargs\u001b[38;5;241m.\u001b[39mmode,\n\u001b[0;32m   (...)\u001b[0m\n\u001b[1;32m    864\u001b[0m             newline\u001b[38;5;241m=\u001b[39m\u001b[38;5;124m\"\u001b[39m\u001b[38;5;124m\"\u001b[39m,\n\u001b[1;32m    865\u001b[0m         )\n\u001b[1;32m    866\u001b[0m     \u001b[38;5;28;01melse\u001b[39;00m:\n\u001b[1;32m    867\u001b[0m         \u001b[38;5;66;03m# Binary mode\u001b[39;00m\n\u001b[0;32m--> 868\u001b[0m         handle \u001b[38;5;241m=\u001b[39m \u001b[38;5;28;43mopen\u001b[39;49m\u001b[43m(\u001b[49m\u001b[43mhandle\u001b[49m\u001b[43m,\u001b[49m\u001b[43m \u001b[49m\u001b[43mioargs\u001b[49m\u001b[38;5;241;43m.\u001b[39;49m\u001b[43mmode\u001b[49m\u001b[43m)\u001b[49m\n\u001b[1;32m    869\u001b[0m     handles\u001b[38;5;241m.\u001b[39mappend(handle)\n\u001b[1;32m    871\u001b[0m \u001b[38;5;66;03m# Convert BytesIO or file objects passed with an encoding\u001b[39;00m\n",
      "\u001b[0;31mFileNotFoundError\u001b[0m: [Errno 2] No such file or directory: '/home/andbro/kilauea-data/LNM2/data/FUR_BHN_coherence.pkl'"
     ]
    }
   ],
   "source": [
    "dat0 = pd.read_pickle(config['path_to_data']+name0+\".pkl\")\n",
    "\n",
    "dat1 = pd.read_pickle(config['path_to_data']+name1+\".pkl\")\n",
    "dat2 = pd.read_pickle(config['path_to_data']+name2+\".pkl\")\n",
    "dat3 = pd.read_pickle(config['path_to_data']+name3+\".pkl\")\n",
    "\n",
    "\n",
    "coh1 = pd.read_pickle(config['path_to_data']+name1+\"_coherence.pkl\")\n",
    "coh2 = pd.read_pickle(config['path_to_data']+name2+\"_coherence.pkl\")\n",
    "coh3 = pd.read_pickle(config['path_to_data']+name3+\"_coherence.pkl\")\n"
   ]
  },
  {
   "cell_type": "code",
   "execution_count": null,
   "id": "4c9f57fe-64c6-4f02-a45e-dd2838e3f304",
   "metadata": {
    "tags": []
   },
   "outputs": [],
   "source": [
    "plt.plot(np.array(coh3.iloc[:,1]))\n",
    "plt.plot(np.array(coh2.iloc[:,1]))\n",
    "plt.plot(np.array(coh1.iloc[:,1]))"
   ]
  },
  {
   "cell_type": "code",
   "execution_count": 10,
   "id": "940d638a-f7c4-4631-9190-ffe157584abc",
   "metadata": {
    "tags": []
   },
   "outputs": [
    {
     "ename": "KeyError",
     "evalue": "'[0.00103] not in index'",
     "output_type": "error",
     "traceback": [
      "\u001b[0;31m---------------------------------------------------------------------------\u001b[0m",
      "\u001b[0;31mKeyError\u001b[0m                                  Traceback (most recent call last)",
      "Cell \u001b[0;32mIn[10], line 28\u001b[0m\n\u001b[1;32m     25\u001b[0m _dat2 \u001b[38;5;241m=\u001b[39m dat2\u001b[38;5;241m.\u001b[39mloc[:, [\u001b[38;5;124m\"\u001b[39m\u001b[38;5;124mdates\u001b[39m\u001b[38;5;124m\"\u001b[39m, band]]\n\u001b[1;32m     26\u001b[0m _dat3 \u001b[38;5;241m=\u001b[39m dat3\u001b[38;5;241m.\u001b[39mloc[:, [\u001b[38;5;124m\"\u001b[39m\u001b[38;5;124mdates\u001b[39m\u001b[38;5;124m\"\u001b[39m, band]]\n\u001b[0;32m---> 28\u001b[0m _coh1 \u001b[38;5;241m=\u001b[39m \u001b[43mcoh1\u001b[49m\u001b[38;5;241;43m.\u001b[39;49m\u001b[43mloc\u001b[49m\u001b[43m[\u001b[49m\u001b[43m:\u001b[49m\u001b[43m,\u001b[49m\u001b[43m \u001b[49m\u001b[43m[\u001b[49m\u001b[38;5;124;43m\"\u001b[39;49m\u001b[38;5;124;43mdates\u001b[39;49m\u001b[38;5;124;43m\"\u001b[39;49m\u001b[43m,\u001b[49m\u001b[43m \u001b[49m\u001b[43mband\u001b[49m\u001b[43m]\u001b[49m\u001b[43m]\u001b[49m\n\u001b[1;32m     29\u001b[0m _coh2 \u001b[38;5;241m=\u001b[39m coh2\u001b[38;5;241m.\u001b[39mloc[:, [\u001b[38;5;124m\"\u001b[39m\u001b[38;5;124mdates\u001b[39m\u001b[38;5;124m\"\u001b[39m, band]]\n\u001b[1;32m     30\u001b[0m _coh3 \u001b[38;5;241m=\u001b[39m coh3\u001b[38;5;241m.\u001b[39mloc[:, [\u001b[38;5;124m\"\u001b[39m\u001b[38;5;124mdates\u001b[39m\u001b[38;5;124m\"\u001b[39m, band]]\n",
      "File \u001b[0;32m~/anaconda3/envs/obs2/lib/python3.10/site-packages/pandas/core/indexing.py:1097\u001b[0m, in \u001b[0;36m_LocationIndexer.__getitem__\u001b[0;34m(self, key)\u001b[0m\n\u001b[1;32m   1095\u001b[0m     \u001b[38;5;28;01mif\u001b[39;00m \u001b[38;5;28mself\u001b[39m\u001b[38;5;241m.\u001b[39m_is_scalar_access(key):\n\u001b[1;32m   1096\u001b[0m         \u001b[38;5;28;01mreturn\u001b[39;00m \u001b[38;5;28mself\u001b[39m\u001b[38;5;241m.\u001b[39mobj\u001b[38;5;241m.\u001b[39m_get_value(\u001b[38;5;241m*\u001b[39mkey, takeable\u001b[38;5;241m=\u001b[39m\u001b[38;5;28mself\u001b[39m\u001b[38;5;241m.\u001b[39m_takeable)\n\u001b[0;32m-> 1097\u001b[0m     \u001b[38;5;28;01mreturn\u001b[39;00m \u001b[38;5;28;43mself\u001b[39;49m\u001b[38;5;241;43m.\u001b[39;49m\u001b[43m_getitem_tuple\u001b[49m\u001b[43m(\u001b[49m\u001b[43mkey\u001b[49m\u001b[43m)\u001b[49m\n\u001b[1;32m   1098\u001b[0m \u001b[38;5;28;01melse\u001b[39;00m:\n\u001b[1;32m   1099\u001b[0m     \u001b[38;5;66;03m# we by definition only have the 0th axis\u001b[39;00m\n\u001b[1;32m   1100\u001b[0m     axis \u001b[38;5;241m=\u001b[39m \u001b[38;5;28mself\u001b[39m\u001b[38;5;241m.\u001b[39maxis \u001b[38;5;129;01mor\u001b[39;00m \u001b[38;5;241m0\u001b[39m\n",
      "File \u001b[0;32m~/anaconda3/envs/obs2/lib/python3.10/site-packages/pandas/core/indexing.py:1289\u001b[0m, in \u001b[0;36m_LocIndexer._getitem_tuple\u001b[0;34m(self, tup)\u001b[0m\n\u001b[1;32m   1286\u001b[0m \u001b[38;5;28;01mif\u001b[39;00m \u001b[38;5;28mself\u001b[39m\u001b[38;5;241m.\u001b[39m_multi_take_opportunity(tup):\n\u001b[1;32m   1287\u001b[0m     \u001b[38;5;28;01mreturn\u001b[39;00m \u001b[38;5;28mself\u001b[39m\u001b[38;5;241m.\u001b[39m_multi_take(tup)\n\u001b[0;32m-> 1289\u001b[0m \u001b[38;5;28;01mreturn\u001b[39;00m \u001b[38;5;28;43mself\u001b[39;49m\u001b[38;5;241;43m.\u001b[39;49m\u001b[43m_getitem_tuple_same_dim\u001b[49m\u001b[43m(\u001b[49m\u001b[43mtup\u001b[49m\u001b[43m)\u001b[49m\n",
      "File \u001b[0;32m~/anaconda3/envs/obs2/lib/python3.10/site-packages/pandas/core/indexing.py:955\u001b[0m, in \u001b[0;36m_LocationIndexer._getitem_tuple_same_dim\u001b[0;34m(self, tup)\u001b[0m\n\u001b[1;32m    952\u001b[0m \u001b[38;5;28;01mif\u001b[39;00m com\u001b[38;5;241m.\u001b[39mis_null_slice(key):\n\u001b[1;32m    953\u001b[0m     \u001b[38;5;28;01mcontinue\u001b[39;00m\n\u001b[0;32m--> 955\u001b[0m retval \u001b[38;5;241m=\u001b[39m \u001b[38;5;28;43mgetattr\u001b[39;49m\u001b[43m(\u001b[49m\u001b[43mretval\u001b[49m\u001b[43m,\u001b[49m\u001b[43m \u001b[49m\u001b[38;5;28;43mself\u001b[39;49m\u001b[38;5;241;43m.\u001b[39;49m\u001b[43mname\u001b[49m\u001b[43m)\u001b[49m\u001b[38;5;241;43m.\u001b[39;49m\u001b[43m_getitem_axis\u001b[49m\u001b[43m(\u001b[49m\u001b[43mkey\u001b[49m\u001b[43m,\u001b[49m\u001b[43m \u001b[49m\u001b[43maxis\u001b[49m\u001b[38;5;241;43m=\u001b[39;49m\u001b[43mi\u001b[49m\u001b[43m)\u001b[49m\n\u001b[1;32m    956\u001b[0m \u001b[38;5;66;03m# We should never have retval.ndim < self.ndim, as that should\u001b[39;00m\n\u001b[1;32m    957\u001b[0m \u001b[38;5;66;03m#  be handled by the _getitem_lowerdim call above.\u001b[39;00m\n\u001b[1;32m    958\u001b[0m \u001b[38;5;28;01massert\u001b[39;00m retval\u001b[38;5;241m.\u001b[39mndim \u001b[38;5;241m==\u001b[39m \u001b[38;5;28mself\u001b[39m\u001b[38;5;241m.\u001b[39mndim\n",
      "File \u001b[0;32m~/anaconda3/envs/obs2/lib/python3.10/site-packages/pandas/core/indexing.py:1332\u001b[0m, in \u001b[0;36m_LocIndexer._getitem_axis\u001b[0;34m(self, key, axis)\u001b[0m\n\u001b[1;32m   1329\u001b[0m     \u001b[38;5;28;01mif\u001b[39;00m \u001b[38;5;28mhasattr\u001b[39m(key, \u001b[38;5;124m\"\u001b[39m\u001b[38;5;124mndim\u001b[39m\u001b[38;5;124m\"\u001b[39m) \u001b[38;5;129;01mand\u001b[39;00m key\u001b[38;5;241m.\u001b[39mndim \u001b[38;5;241m>\u001b[39m \u001b[38;5;241m1\u001b[39m:\n\u001b[1;32m   1330\u001b[0m         \u001b[38;5;28;01mraise\u001b[39;00m \u001b[38;5;167;01mValueError\u001b[39;00m(\u001b[38;5;124m\"\u001b[39m\u001b[38;5;124mCannot index with multidimensional key\u001b[39m\u001b[38;5;124m\"\u001b[39m)\n\u001b[0;32m-> 1332\u001b[0m     \u001b[38;5;28;01mreturn\u001b[39;00m \u001b[38;5;28;43mself\u001b[39;49m\u001b[38;5;241;43m.\u001b[39;49m\u001b[43m_getitem_iterable\u001b[49m\u001b[43m(\u001b[49m\u001b[43mkey\u001b[49m\u001b[43m,\u001b[49m\u001b[43m \u001b[49m\u001b[43maxis\u001b[49m\u001b[38;5;241;43m=\u001b[39;49m\u001b[43maxis\u001b[49m\u001b[43m)\u001b[49m\n\u001b[1;32m   1334\u001b[0m \u001b[38;5;66;03m# nested tuple slicing\u001b[39;00m\n\u001b[1;32m   1335\u001b[0m \u001b[38;5;28;01mif\u001b[39;00m is_nested_tuple(key, labels):\n",
      "File \u001b[0;32m~/anaconda3/envs/obs2/lib/python3.10/site-packages/pandas/core/indexing.py:1272\u001b[0m, in \u001b[0;36m_LocIndexer._getitem_iterable\u001b[0;34m(self, key, axis)\u001b[0m\n\u001b[1;32m   1269\u001b[0m \u001b[38;5;28mself\u001b[39m\u001b[38;5;241m.\u001b[39m_validate_key(key, axis)\n\u001b[1;32m   1271\u001b[0m \u001b[38;5;66;03m# A collection of keys\u001b[39;00m\n\u001b[0;32m-> 1272\u001b[0m keyarr, indexer \u001b[38;5;241m=\u001b[39m \u001b[38;5;28;43mself\u001b[39;49m\u001b[38;5;241;43m.\u001b[39;49m\u001b[43m_get_listlike_indexer\u001b[49m\u001b[43m(\u001b[49m\u001b[43mkey\u001b[49m\u001b[43m,\u001b[49m\u001b[43m \u001b[49m\u001b[43maxis\u001b[49m\u001b[43m)\u001b[49m\n\u001b[1;32m   1273\u001b[0m \u001b[38;5;28;01mreturn\u001b[39;00m \u001b[38;5;28mself\u001b[39m\u001b[38;5;241m.\u001b[39mobj\u001b[38;5;241m.\u001b[39m_reindex_with_indexers(\n\u001b[1;32m   1274\u001b[0m     {axis: [keyarr, indexer]}, copy\u001b[38;5;241m=\u001b[39m\u001b[38;5;28;01mTrue\u001b[39;00m, allow_dups\u001b[38;5;241m=\u001b[39m\u001b[38;5;28;01mTrue\u001b[39;00m\n\u001b[1;32m   1275\u001b[0m )\n",
      "File \u001b[0;32m~/anaconda3/envs/obs2/lib/python3.10/site-packages/pandas/core/indexing.py:1462\u001b[0m, in \u001b[0;36m_LocIndexer._get_listlike_indexer\u001b[0;34m(self, key, axis)\u001b[0m\n\u001b[1;32m   1459\u001b[0m ax \u001b[38;5;241m=\u001b[39m \u001b[38;5;28mself\u001b[39m\u001b[38;5;241m.\u001b[39mobj\u001b[38;5;241m.\u001b[39m_get_axis(axis)\n\u001b[1;32m   1460\u001b[0m axis_name \u001b[38;5;241m=\u001b[39m \u001b[38;5;28mself\u001b[39m\u001b[38;5;241m.\u001b[39mobj\u001b[38;5;241m.\u001b[39m_get_axis_name(axis)\n\u001b[0;32m-> 1462\u001b[0m keyarr, indexer \u001b[38;5;241m=\u001b[39m \u001b[43max\u001b[49m\u001b[38;5;241;43m.\u001b[39;49m\u001b[43m_get_indexer_strict\u001b[49m\u001b[43m(\u001b[49m\u001b[43mkey\u001b[49m\u001b[43m,\u001b[49m\u001b[43m \u001b[49m\u001b[43maxis_name\u001b[49m\u001b[43m)\u001b[49m\n\u001b[1;32m   1464\u001b[0m \u001b[38;5;28;01mreturn\u001b[39;00m keyarr, indexer\n",
      "File \u001b[0;32m~/anaconda3/envs/obs2/lib/python3.10/site-packages/pandas/core/indexes/base.py:5877\u001b[0m, in \u001b[0;36mIndex._get_indexer_strict\u001b[0;34m(self, key, axis_name)\u001b[0m\n\u001b[1;32m   5874\u001b[0m \u001b[38;5;28;01melse\u001b[39;00m:\n\u001b[1;32m   5875\u001b[0m     keyarr, indexer, new_indexer \u001b[38;5;241m=\u001b[39m \u001b[38;5;28mself\u001b[39m\u001b[38;5;241m.\u001b[39m_reindex_non_unique(keyarr)\n\u001b[0;32m-> 5877\u001b[0m \u001b[38;5;28;43mself\u001b[39;49m\u001b[38;5;241;43m.\u001b[39;49m\u001b[43m_raise_if_missing\u001b[49m\u001b[43m(\u001b[49m\u001b[43mkeyarr\u001b[49m\u001b[43m,\u001b[49m\u001b[43m \u001b[49m\u001b[43mindexer\u001b[49m\u001b[43m,\u001b[49m\u001b[43m \u001b[49m\u001b[43maxis_name\u001b[49m\u001b[43m)\u001b[49m\n\u001b[1;32m   5879\u001b[0m keyarr \u001b[38;5;241m=\u001b[39m \u001b[38;5;28mself\u001b[39m\u001b[38;5;241m.\u001b[39mtake(indexer)\n\u001b[1;32m   5880\u001b[0m \u001b[38;5;28;01mif\u001b[39;00m \u001b[38;5;28misinstance\u001b[39m(key, Index):\n\u001b[1;32m   5881\u001b[0m     \u001b[38;5;66;03m# GH 42790 - Preserve name from an Index\u001b[39;00m\n",
      "File \u001b[0;32m~/anaconda3/envs/obs2/lib/python3.10/site-packages/pandas/core/indexes/base.py:5941\u001b[0m, in \u001b[0;36mIndex._raise_if_missing\u001b[0;34m(self, key, indexer, axis_name)\u001b[0m\n\u001b[1;32m   5938\u001b[0m     \u001b[38;5;28;01mraise\u001b[39;00m \u001b[38;5;167;01mKeyError\u001b[39;00m(\u001b[38;5;124mf\u001b[39m\u001b[38;5;124m\"\u001b[39m\u001b[38;5;124mNone of [\u001b[39m\u001b[38;5;132;01m{\u001b[39;00mkey\u001b[38;5;132;01m}\u001b[39;00m\u001b[38;5;124m] are in the [\u001b[39m\u001b[38;5;132;01m{\u001b[39;00maxis_name\u001b[38;5;132;01m}\u001b[39;00m\u001b[38;5;124m]\u001b[39m\u001b[38;5;124m\"\u001b[39m)\n\u001b[1;32m   5940\u001b[0m not_found \u001b[38;5;241m=\u001b[39m \u001b[38;5;28mlist\u001b[39m(ensure_index(key)[missing_mask\u001b[38;5;241m.\u001b[39mnonzero()[\u001b[38;5;241m0\u001b[39m]]\u001b[38;5;241m.\u001b[39munique())\n\u001b[0;32m-> 5941\u001b[0m \u001b[38;5;28;01mraise\u001b[39;00m \u001b[38;5;167;01mKeyError\u001b[39;00m(\u001b[38;5;124mf\u001b[39m\u001b[38;5;124m\"\u001b[39m\u001b[38;5;132;01m{\u001b[39;00mnot_found\u001b[38;5;132;01m}\u001b[39;00m\u001b[38;5;124m not in index\u001b[39m\u001b[38;5;124m\"\u001b[39m)\n",
      "\u001b[0;31mKeyError\u001b[0m: '[0.00103] not in index'"
     ]
    }
   ],
   "source": [
    "import matplotlib.ticker as mticker\n",
    "\n",
    "f_lower, f_upper, f_center = __get_octave_bands(1e-3, 1e0, faction_of_octave=12, plot=False)\n",
    "\n",
    "N_bands = dat0.shape[1] - 1\n",
    "\n",
    "bands = dat0.keys()[1:]\n",
    "\n",
    "## compliance\n",
    "compl = pd.DataFrame()\n",
    "compl['fl'] = f_lower\n",
    "compl['fu'] = f_upper\n",
    "compl['fc'] = f_center\n",
    "\n",
    "complN, complE, complZ = np.ones(N_bands)*np.nan, np.ones(N_bands)*np.nan, np.ones(N_bands)*np.nan\n",
    "\n",
    "for _n, band in enumerate(bands):\n",
    "\n",
    "\n",
    "    # if not _n == 13:\n",
    "    #     continue\n",
    "\n",
    "    _dat0 = dat0.loc[:, [\"dates\", band]]\n",
    "    _dat1 = dat1.loc[:, [\"dates\", band]]\n",
    "    _dat2 = dat2.loc[:, [\"dates\", band]]\n",
    "    _dat3 = dat3.loc[:, [\"dates\", band]]\n",
    "\n",
    "    _coh1 = coh1.loc[:, [\"dates\", band]]\n",
    "    _coh2 = coh2.loc[:, [\"dates\", band]]\n",
    "    _coh3 = coh3.loc[:, [\"dates\", band]]\n",
    "\n",
    "    ## join data frames based on dates and hour\n",
    "    _df1 = pd.merge(left=_dat0, right=_dat1, how=\"inner\", on=\"dates\")\n",
    "    _df2 = pd.merge(left=_dat0, right=_dat2, how=\"inner\", on=\"dates\")\n",
    "    _df3 = pd.merge(left=_dat0, right=_dat3, how=\"inner\", on=\"dates\")\n",
    "\n",
    "    _df1 = pd.merge(left=_df1, right=_coh1, how=\"inner\", on=\"dates\")\n",
    "    _df2 = pd.merge(left=_df2, right=_coh2, how=\"inner\", on=\"dates\")\n",
    "    _df3 = pd.merge(left=_df3, right=_coh3, how=\"inner\", on=\"dates\")\n",
    "\n",
    "    # ## remove NaN values\n",
    "    _df1.dropna(inplace=True)\n",
    "    _df2.dropna(inplace=True)\n",
    "    _df3.dropna(inplace=True)\n",
    "\n",
    "    ## remove large values\n",
    "    _df1 = _df1[_df1.iloc[:, 2] < 1e-11]\n",
    "    _df2 = _df2[_df2.iloc[:, 2] < 1e-11]\n",
    "    _df3 = _df3[_df3.iloc[:, 2] < 1e-11]\n",
    "\n",
    "    ## reset the index\n",
    "    _df1 = _df1.reset_index(drop=True)\n",
    "    _df2 = _df2.reset_index(drop=True)\n",
    "    _df3 = _df3.reset_index(drop=True)\n",
    "\n",
    "    _df1 = _df1.sort_values(by=band, ascending=True)\n",
    "    _df2 = _df2.sort_values(by=band, ascending=True)\n",
    "    _df3 = _df3.sort_values(by=band, ascending=True)\n",
    "\n",
    "    xx1, yy1, ccoh1 = np.log10(_df1.iloc[:, 1]), np.log10(_df1.iloc[:, 2]), _df1.iloc[:, 3]\n",
    "    xx2, yy2, ccoh2 = np.log10(_df2.iloc[:, 1]), np.log10(_df2.iloc[:, 2]), _df2.iloc[:, 3]\n",
    "    xx3, yy3, ccoh3 = np.log10(_df3.iloc[:, 1]), np.log10(_df3.iloc[:, 2]), _df3.iloc[:, 3]\n",
    "\n",
    "#     try:\n",
    "#         pre1 = __quantile_regression(xx1, yy1, quantiles=[0.01, 0.5, 0.99])\n",
    "#         pre2 = __quantile_regression(xx2, yy2, quantiles=[0.01, 0.5, 0.99])\n",
    "#         pre3 = __quantile_regression(xx3, yy3, quantiles=[0.01, 0.5, 0.99])\n",
    "\n",
    "#     except Exception as e:\n",
    "#         print(e)\n",
    "#         pass\n",
    "\n",
    "    ## only select high coherence (=hc)\n",
    "    coh_thres = 0.8\n",
    "    df1_hc = _df1_high_coh = _df1[_df1.iloc[:, 3] > coh_thres]\n",
    "    df2_hc = _df2_high_coh = _df2[_df2.iloc[:, 3] > coh_thres]\n",
    "    df3_hc = _df3_high_coh = _df3[_df3.iloc[:, 3] > coh_thres]\n",
    "\n",
    "    xx1_hc, yy1_hc = np.log10(df1_hc.iloc[:, 1]), np.log10(df1_hc.iloc[:, 2])\n",
    "    xx2_hc, yy2_hc = np.log10(df2_hc.iloc[:, 1]), np.log10(df2_hc.iloc[:, 2])\n",
    "    xx3_hc, yy3_hc = np.log10(df3_hc.iloc[:, 1]), np.log10(df3_hc.iloc[:, 2])\n",
    "\n",
    "\n",
    "    try:\n",
    "        if len(xx1_hc) >= 10:\n",
    "            odr1_slope, odr1_inter = __compute_orthogonal_distance_regression(xx1_hc, yy1_hc, xerr=None, yerr=None, bx=None, by=None)\n",
    "        else:\n",
    "            odr1_slope = np.nan\n",
    "        if len(xx2_hc) >= 10:\n",
    "            odr2_slope, odr2_inter = __compute_orthogonal_distance_regression(xx2_hc, yy2_hc, xerr=None, yerr=None, bx=None, by=None)\n",
    "        else:\n",
    "            odr2_slope = np.nan\n",
    "        if len(xx3_hc) >= 10:\n",
    "            odr3_slope, odr3_inter = __compute_orthogonal_distance_regression(xx3_hc, yy3_hc, xerr=None, yerr=None, bx=None, by=None)\n",
    "        else:\n",
    "            odr3_slope = np.nan\n",
    "        try:\n",
    "            complN[_n] = np.sqrt(odr1_slope)\n",
    "        except:\n",
    "            complN[_n] = np.nan\n",
    "        try:\n",
    "            complE[_n] = np.sqrt(odr2_slope)\n",
    "        except:\n",
    "            complE[_n] = np.nan\n",
    "        try:\n",
    "            complZ[_n] = np.sqrt(odr3_slope)\n",
    "        except:\n",
    "            complZ[_n] = np.nan\n",
    "\n",
    "    except Exception as e:\n",
    "        complN[_n], complE[_n], complZ[_n] = np.nan, np.nan, np.nan\n",
    "        print(e)\n",
    "        pass\n",
    "\n",
    "\n",
    "    ## ____________________________________________________________________\n",
    "\n",
    "    fig, ax = plt.subplots(1, 3, figsize=(15, 5), sharey=True)\n",
    "\n",
    "    font = 12\n",
    "\n",
    "    cmap = plt.colormaps.get(\"viridis\")\n",
    "    cmap = plt.get_cmap(\"viridis\", 10)\n",
    "\n",
    "    plt.subplots_adjust(wspace=0.12)\n",
    "\n",
    "    ca1 = ax[0].scatter(10**xx1, 10**yy1, s=15, c=ccoh1, edgecolors=\"black\", lw=0.5, zorder=2, cmap=cmap, vmin=0., vmax=1)\n",
    "    ca2 = ax[1].scatter(10**xx2, 10**yy2, s=15, c=ccoh2, edgecolors=\"black\", lw=0.5, zorder=2, cmap=cmap, vmin=0., vmax=1)\n",
    "    ca3 = ax[2].scatter(10**xx3, 10**yy3, s=15, c=ccoh3, edgecolors=\"black\", lw=0.5, zorder=2, cmap=cmap, vmin=0., vmax=1)\n",
    "\n",
    "#     try:\n",
    "#         ax[0].plot(10**xx1, 10**pre1[0.01], color=\"k\", zorder=1, ls=\":\", label=\"90%-fit\")\n",
    "#         ax[1].plot(10**xx2, 10**pre2[0.01], color=\"k\", zorder=1, ls=\":\", label=\"90%-fit\")\n",
    "#         ax[2].plot(10**xx3, 10**pre3[0.01], color=\"k\", zorder=1, ls=\":\", label=\"90%-fit\")\n",
    "#     except Exception as e:\n",
    "#         print(e)\n",
    "#         pass\n",
    "\n",
    "    ## add correlation estimate\n",
    "    _xx = np.logspace(-10, 10, 100)\n",
    "    _yy = 1e-22 * _xx\n",
    "\n",
    "    # ax[0].plot(_xx, _yy + _xx*1e-17, color=\"darkred\", ls=\"--\", label=\"1 $m^2/s^4/Pa^2$\")\n",
    "    # ax[1].plot(_xx, _yy + _xx*1e-17, color=\"darkred\", ls=\"--\", label=\"1 $m^2/s^4/Pa^2$\")\n",
    "    # ax[2].plot(_xx, _yy + _xx*1e-19, color=\"darkred\", ls=\"--\", label=\"1 $m^2/s^4/Pa^2$\")\n",
    "\n",
    "    try:\n",
    "        _xx = np.linspace(-10, 10, 100)\n",
    "        for _i, (slope, intercept) in enumerate(zip([odr1_slope, odr2_slope, odr3_slope], [odr1_inter, odr2_inter, odr3_inter])):\n",
    "            ax[_i].plot(10**(_xx), 10**(_xx*slope+intercept), color=\"red\", ls=\"--\", label=f\"{round(slope,3)} $m^2/s^4/Pa^2$\")\n",
    "            # ax[_i].plot(10**(_xx), 10**(_xx*1+intercept), color=\"red\", ls=\"--\", label=f\"{round(slope,3)} $m^2/s^4/Pa^2$\")\n",
    "    except Exception as e:\n",
    "        print(e)\n",
    "        pass\n",
    "\n",
    "    for _i in range(3):\n",
    "        ax[_i].set_xscale(\"log\")\n",
    "        ax[_i].set_yscale(\"logit\")\n",
    "        ax[_i].set_xlim(1e-2, 1e7)\n",
    "        ax[_i].set_ylim(1e-20, 1e-11)\n",
    "        ax[_i].grid(zorder=0, alpha=0.5, which=\"both\")\n",
    "        ax[_i].legend(loc=2)\n",
    "        ax[_i].set_xlabel(r\"PSD (Pa$^2$ /Hz)\", fontsize=font)\n",
    "\n",
    "        ax[_i].xaxis.set_major_locator(mticker.LogLocator(numticks=999))\n",
    "        ax[_i].xaxis.set_minor_locator(mticker.LogLocator(numticks=999, subs=\"auto\"))\n",
    "\n",
    "    # ax[0].set_title(f\"{name0.replace('_','-')} & {name1.replace('_','-')} | fc = {float(_df1.keys()[1][:-2])*1e3} mHz\")\n",
    "    # ax[1].set_title(f\"{name0.replace('_','-')} & {name2.replace('_','-')} | fc = {float(_df2.keys()[1][:-2])*1e3} mHz\")\n",
    "    # ax[2].set_title(f\"{name0.replace('_','-')} & {name3.replace('_','-')} | fc = {float(_df3.keys()[1][:-2])*1e3} mHz\")\n",
    "    ax[0].set_title(f\"{name0.replace('_','-')} & {name1.replace('_','-')} | {round(f_lower[_n]*1e3, 1)} - {round(f_upper[_n]*1e3, 1)} mHz\")\n",
    "    ax[1].set_title(f\"{name0.replace('_','-')} & {name2.replace('_','-')} | {round(f_lower[_n]*1e3, 1)} - {round(f_upper[_n]*1e3, 1)} mHz\")\n",
    "    ax[2].set_title(f\"{name0.replace('_','-')} & {name3.replace('_','-')} | {round(f_lower[_n]*1e3, 1)} - {round(f_upper[_n]*1e3, 1)} mHz\")\n",
    "\n",
    "    ax[0].text(.8, .04, f\"N={len(xx1)}\", ha='left', va='top', transform=ax[0].transAxes, fontsize=font)\n",
    "    ax[1].text(.8, .04, f\"N={len(xx2)}\", ha='left', va='top', transform=ax[1].transAxes, fontsize=font)\n",
    "    ax[2].text(.8, .04, f\"N={len(xx3)}\", ha='left', va='top', transform=ax[2].transAxes, fontsize=font)\n",
    "\n",
    "    ax[0].set_ylabel(r\"PSD (m$^2$ /s$^4$ /Hz)\", fontsize=font)\n",
    "\n",
    "    ## add colorbar\n",
    "    cbar_ax = fig.add_axes([0.92, 0.11, 0.01, 0.77]) #[left, bottom, width, height]\n",
    "    cb = plt.colorbar(ca1, cax=cbar_ax)\n",
    "    cb.set_label(\"Coherence\", fontsize=font, labelpad=-50, color=\"black\")\n",
    "\n",
    "    plt.show();\n",
    "\n",
    "    fig.savefig(config['path_to_figs']+f\"all/{str(_n).rjust(3, '0')}_{name1}_{name2}_{band}Hz_all.png\", format=\"png\", dpi=200, bbox_inches='tight');\n",
    "\n",
    "\n",
    "# compl['N'] = complN\n",
    "# compl['E'] = complE\n",
    "# compl['Z'] = complZ\n"
   ]
  },
  {
   "cell_type": "markdown",
   "id": "93bacab4-4873-4459-b0ff-80ea2121a252",
   "metadata": {
    "tags": []
   },
   "source": [
    "## Compliance Plot"
   ]
  },
  {
   "cell_type": "code",
   "execution_count": null,
   "id": "b7184a44-34a1-4aff-b1a6-1e2769dfa23e",
   "metadata": {
    "tags": []
   },
   "outputs": [],
   "source": [
    "def __makeplot():\n",
    "\n",
    "    Nrow, Ncol = 1, 1\n",
    "\n",
    "    font = 12\n",
    "\n",
    "    fig, ax = plt.subplots(Nrow, Ncol, figsize=(10, 5))\n",
    "\n",
    "    ax.plot(compl['fc'], compl['Z'], label=\"FUR.Z\")\n",
    "    ax.plot(compl['fc'], compl['N'], label=\"FUR.N\")\n",
    "    ax.plot(compl['fc'], compl['E'], label=\"FUR.E\")\n",
    "\n",
    "    ax.grid(ls=\":\", zorder=0)\n",
    "    ax.legend(loc=1)\n",
    "\n",
    "    ax.set_xscale(\"log\")\n",
    "    # ax.set_yscale(\"log\")\n",
    "\n",
    "    ax.set_xlim(1e-3, 1e0)\n",
    "\n",
    "    ax.set_xlabel(\"Frequency (Hz)\")\n",
    "    ax.set_ylabel(\"Compliance (m/s$^2$/Pa)\")\n",
    "\n",
    "    plt.show();\n",
    "    return fig"
   ]
  },
  {
   "cell_type": "code",
   "execution_count": null,
   "id": "15661c02-dca8-413c-ad96-ffaf79b8b51c",
   "metadata": {
    "tags": []
   },
   "outputs": [],
   "source": [
    "compl = compl.replace(1.0, np.nan)\n",
    "\n",
    "fig = __makeplot();\n",
    "\n",
    "fig.savefig(config['path_to_figs']+f\"FUR_compliance.png\", format=\"png\", dpi=200, bbox_inches='tight')"
   ]
  },
  {
   "cell_type": "code",
   "execution_count": null,
   "id": "f6bd4d1f-a859-483a-9768-46754fd23bce",
   "metadata": {},
   "outputs": [],
   "source": []
  },
  {
   "cell_type": "code",
   "execution_count": null,
   "id": "bba9750d-b93b-41af-bbca-08bace918229",
   "metadata": {},
   "outputs": [],
   "source": []
  },
  {
   "cell_type": "code",
   "execution_count": null,
   "id": "989f6d09-fd5a-4497-8677-629a0c9f5531",
   "metadata": {
    "tags": []
   },
   "outputs": [],
   "source": [
    "# _df2_high_coh = _df2[_df2.iloc[:, 3] > 0.8]\n",
    "\n",
    "# _x_high_coh = np.log10(_df2_high_coh.iloc[:, 1])\n",
    "# _y_high_coh = np.log10(_df2_high_coh.iloc[:, 2])\n",
    "\n",
    "# x = np.linspace(min(_x_high_coh), max(_x_high_coh), 100)\n",
    "# a, b = __compute_orthogonal_distance_regression(_x_high_coh, _y_high_coh, xerr=None, yerr=None, bx=None, by=None)\n",
    "\n",
    "# plt.scatter(10**_x_high_coh, 10**_y_high_coh)\n",
    "# plt.plot(10**(x), 10**(x*a+b))\n",
    "# plt.xscale(\"log\")\n",
    "# plt.yscale(\"log\")\n",
    "# print(x)"
   ]
  },
  {
   "cell_type": "code",
   "execution_count": null,
   "id": "1c8280a8-c002-4b53-9121-d9bd84bc98d1",
   "metadata": {},
   "outputs": [],
   "source": []
  },
  {
   "cell_type": "code",
   "execution_count": null,
   "id": "75ed1999-46ea-42a9-ac55-549b21192743",
   "metadata": {},
   "outputs": [],
   "source": []
  }
 ],
 "metadata": {
  "kernelspec": {
   "display_name": "Python 3 (ipykernel)",
   "language": "python",
   "name": "python3"
  },
  "language_info": {
   "codemirror_mode": {
    "name": "ipython",
    "version": 3
   },
   "file_extension": ".py",
   "mimetype": "text/x-python",
   "name": "python",
   "nbconvert_exporter": "python",
   "pygments_lexer": "ipython3",
   "version": "3.10.12"
  },
  "latex_envs": {
   "LaTeX_envs_menu_present": true,
   "autoclose": false,
   "autocomplete": true,
   "bibliofile": "biblio.bib",
   "cite_by": "apalike",
   "current_citInitial": 1,
   "eqLabelWithNumbers": true,
   "eqNumInitial": 1,
   "hotkeys": {
    "equation": "Ctrl-E",
    "itemize": "Ctrl-I"
   },
   "labels_anchors": false,
   "latex_user_defs": false,
   "report_style_numbering": false,
   "user_envs_cfg": false
  },
  "toc": {
   "base_numbering": 1,
   "nav_menu": {},
   "number_sections": true,
   "sideBar": true,
   "skip_h1_title": false,
   "title_cell": "Table of Contents",
   "title_sidebar": "Contents",
   "toc_cell": false,
   "toc_position": {},
   "toc_section_display": true,
   "toc_window_display": false
  },
  "varInspector": {
   "cols": {
    "lenName": 16,
    "lenType": 16,
    "lenVar": 40
   },
   "kernels_config": {
    "python": {
     "delete_cmd_postfix": "",
     "delete_cmd_prefix": "del ",
     "library": "var_list.py",
     "varRefreshCmd": "print(var_dic_list())"
    },
    "r": {
     "delete_cmd_postfix": ") ",
     "delete_cmd_prefix": "rm(",
     "library": "var_list.r",
     "varRefreshCmd": "cat(var_dic_list()) "
    }
   },
   "types_to_exclude": [
    "module",
    "function",
    "builtin_function_or_method",
    "instance",
    "_Feature"
   ],
   "window_display": false
  }
 },
 "nbformat": 4,
 "nbformat_minor": 5
}
