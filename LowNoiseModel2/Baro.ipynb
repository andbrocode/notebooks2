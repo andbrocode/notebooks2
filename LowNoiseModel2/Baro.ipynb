{
 "cells": [
  {
   "cell_type": "markdown",
   "id": "d9b61cd4",
   "metadata": {},
   "source": [
    "## PSD of BaroData"
   ]
  },
  {
   "cell_type": "code",
   "execution_count": 5,
   "id": "b1f4323b",
   "metadata": {
    "ExecuteTime": {
     "end_time": "2023-08-07T10:39:56.274325Z",
     "start_time": "2023-08-07T10:39:56.263933Z"
    }
   },
   "outputs": [],
   "source": [
    "import matplotlib.pyplot as plt\n",
    "import pickle, os\n",
    "\n",
    "\n",
    "from andbro__querrySeismoData import __querrySeismoData\n",
    "from obspy import UTCDateTime, read\n",
    "from scipy.signal import welch\n",
    "from numpy import log10, zeros, append, linspace, mean, median, array, where, transpose, shape, histogram\n",
    "from pandas import DataFrame, concat, Series, date_range, to_pickle\n",
    "from pathlib import Path\n",
    "from andbro__load_FURT_stream import __load_furt_stream\n",
    "\n",
    "import warnings\n",
    "warnings.filterwarnings('ignore')"
   ]
  },
  {
   "cell_type": "code",
   "execution_count": 6,
   "id": "3b56e9a4",
   "metadata": {
    "ExecuteTime": {
     "end_time": "2023-08-07T10:39:56.856701Z",
     "start_time": "2023-08-07T10:39:56.848988Z"
    }
   },
   "outputs": [],
   "source": [
    "if os.uname().nodename == 'lighthouse':\n",
    "    root_path = '/home/andbro/'\n",
    "    data_path = '/home/andbro/kilauea-data/'\n",
    "    archive_path = '/home/andbro/freenas/'\n",
    "elif os.uname().nodename == 'kilauea':\n",
    "    root_path = '/home/brotzer/'\n",
    "    data_path = '/import/kilauea-data/'\n",
    "    archive_path = '/import/freenas-ffb-01-data/'"
   ]
  },
  {
   "cell_type": "code",
   "execution_count": null,
   "id": "976a7b7e",
   "metadata": {},
   "outputs": [],
   "source": []
  },
  {
   "cell_type": "code",
   "execution_count": null,
   "id": "9a0fd2c0",
   "metadata": {},
   "outputs": [],
   "source": []
  }
 ],
 "metadata": {
  "kernelspec": {
   "display_name": "Python 3",
   "language": "python",
   "name": "python3"
  },
  "language_info": {
   "codemirror_mode": {
    "name": "ipython",
    "version": 3
   },
   "file_extension": ".py",
   "mimetype": "text/x-python",
   "name": "python",
   "nbconvert_exporter": "python",
   "pygments_lexer": "ipython3",
   "version": "3.7.7"
  },
  "toc": {
   "base_numbering": 1,
   "nav_menu": {},
   "number_sections": true,
   "sideBar": true,
   "skip_h1_title": false,
   "title_cell": "Table of Contents",
   "title_sidebar": "Contents",
   "toc_cell": false,
   "toc_position": {},
   "toc_section_display": true,
   "toc_window_display": false
  }
 },
 "nbformat": 4,
 "nbformat_minor": 5
}
