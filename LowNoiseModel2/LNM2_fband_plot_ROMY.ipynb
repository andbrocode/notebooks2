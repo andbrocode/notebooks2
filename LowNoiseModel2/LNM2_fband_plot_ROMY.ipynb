{
 "cells": [
  {
   "cell_type": "markdown",
   "id": "eda030d3",
   "metadata": {},
   "source": [
    "# Scatter Plots - ROMY"
   ]
  },
  {
   "cell_type": "markdown",
   "id": "protected-presentation",
   "metadata": {},
   "source": [
    "## Load Libraries"
   ]
  },
  {
   "cell_type": "code",
   "execution_count": null,
   "id": "behind-arrangement",
   "metadata": {
    "ExecuteTime": {
     "end_time": "2023-08-07T14:54:03.050940Z",
     "start_time": "2023-08-07T14:54:00.312331Z"
    },
    "tags": []
   },
   "outputs": [],
   "source": [
    "from obspy import UTCDateTime\n",
    "from scipy.signal import welch\n",
    "from tqdm import tqdm\n",
    "from pathlib import Path\n",
    "\n",
    "import os, sys\n",
    "import pickle\n",
    "import matplotlib.pyplot as plt\n",
    "import pandas as pd\n",
    "import numpy as np\n",
    "\n",
    "# from andbro__store_as_pickle import __store_as_pickle"
   ]
  },
  {
   "cell_type": "code",
   "execution_count": null,
   "id": "f337911b",
   "metadata": {
    "ExecuteTime": {
     "end_time": "2023-08-07T14:54:03.147385Z",
     "start_time": "2023-08-07T14:54:03.133998Z"
    },
    "tags": []
   },
   "outputs": [],
   "source": [
    "if os.uname().nodename == 'lighthouse':\n",
    "    root_path = '/home/andbro/'\n",
    "    data_path = '/home/andbro/kilauea-data/'\n",
    "    archive_path = '/home/andbro/freenas/'\n",
    "elif os.uname().nodename == 'kilauea':\n",
    "    root_path = '/home/brotzer/'\n",
    "    data_path = '/import/kilauea-data/'\n",
    "    archive_path = '/import/freenas-ffb-01-data/'"
   ]
  },
  {
   "cell_type": "markdown",
   "id": "subject-expression",
   "metadata": {},
   "source": [
    "## Configurations"
   ]
  },
  {
   "cell_type": "code",
   "execution_count": null,
   "id": "c898fc5e-9073-419a-b426-e7aa9a58625b",
   "metadata": {
    "ExecuteTime": {
     "end_time": "2023-08-07T15:31:55.890800Z",
     "start_time": "2023-08-07T15:31:55.885708Z"
    },
    "tags": []
   },
   "outputs": [],
   "source": [
    "## ---------------------------------------\n",
    "\n",
    "name0 = \"FFBI_BDO\"\n",
    "\n",
    "name1 = \"ROMY_BJN\"\n",
    "name2 = \"ROMY_BJE\"\n",
    "name3 = \"ROMY_BJZ\"\n"
   ]
  },
  {
   "cell_type": "code",
   "execution_count": null,
   "id": "565a7b24-4640-4f17-b66e-2ee951eeee5b",
   "metadata": {
    "ExecuteTime": {
     "end_time": "2023-08-07T15:31:55.890800Z",
     "start_time": "2023-08-07T15:31:55.885708Z"
    },
    "tags": []
   },
   "outputs": [],
   "source": [
    "# ## ---------------------------------------\n",
    "\n",
    "config = {}\n",
    "\n",
    "## specify paths\n",
    "config['path_to_figs'] = data_path+f\"LNM2/figures/scatter/\"\n",
    "\n",
    "config['path_to_data'] = data_path+f\"LNM2/data/\"\n",
    "\n",
    "config['path_to_data'] = data_path+f\"LNM2/data/\""
   ]
  },
  {
   "cell_type": "markdown",
   "id": "natural-beginning",
   "metadata": {},
   "source": [
    "## Methods"
   ]
  },
  {
   "cell_type": "code",
   "execution_count": null,
   "id": "c65da437-740c-44c9-8aef-f2b78988236c",
   "metadata": {
    "tags": []
   },
   "outputs": [],
   "source": [
    "dat1 = pd.read_pickle(config['path_to_data']+name0+\".pkl\")\n",
    "dat2 = pd.read_pickle(config['path_to_data']+name2+\".pkl\")"
   ]
  },
  {
   "cell_type": "code",
   "execution_count": null,
   "id": "86d97464-9f95-46eb-b750-5c74fa5997e6",
   "metadata": {
    "tags": []
   },
   "outputs": [],
   "source": [
    "def __get_octave_bands(fmin, fmax, fband_type=\"octave\", plot=False):\n",
    "\n",
    "    \"\"\"\n",
    "    Computing octave / one-third-octave bands\n",
    "\n",
    "    Arguments:\n",
    "        - fmin:    (float) minimum center frequency\n",
    "        - fmax:    (float) maximum center frequency\n",
    "        - fband_type:    [octave] / one-third-octave\n",
    "        - plot:    (bool) show frequency bands\n",
    "\n",
    "    Example:\n",
    "\n",
    "    >>> flower, fupper, fcenter = __get_octave_bands(f_min, f_max, fband_type=\"octave\", plot=False)\n",
    "\n",
    "    \"\"\"\n",
    "\n",
    "    import matplotlib.pyplot as plt\n",
    "    from numpy import sqrt, array\n",
    "    from acoustics import bands\n",
    "\n",
    "    f_lower, f_upper, f_centers = [], [], []\n",
    "\n",
    "    if fband_type == \"octave\":\n",
    "        f_centers = bands.octave(fmin, fmax)\n",
    "        f_lower = bands.octave_low(fmin, fmax)\n",
    "        f_upper = bands.octave_high(fmin, fmax)\n",
    "\n",
    "    if fband_type == \"one-third-octave\":\n",
    "        f_centers = bands.third(fmin, fmax)\n",
    "        f_lower = bands.third_low(fmin, fmax)\n",
    "        f_upper = bands.third_high(fmin, fmax)\n",
    "\n",
    "    if plot:\n",
    "        plt.figure()\n",
    "        for fl, fc, fu in zip(f_lower, f_centers, f_upper):\n",
    "            plt.axvline(fu, color=\"r\")\n",
    "            plt.axvline(fl, color=\"r\")\n",
    "            plt.axvline(fc)\n",
    "            plt.axvline(fmin, color=\"g\")\n",
    "            plt.axvline(fmax, color=\"g\")\n",
    "            plt.xscale(\"log\")\n",
    "        plt.show()\n",
    "\n",
    "    return array(f_lower), array(f_upper), array(f_centers)"
   ]
  },
  {
   "cell_type": "code",
   "execution_count": null,
   "id": "757677b5-3f4d-462b-8ab1-b1ce6afac61f",
   "metadata": {
    "tags": []
   },
   "outputs": [],
   "source": [
    "def __quantile_regression(x, y, quantiles=[0.05, 0.5, 0.95]):\n",
    "\n",
    "\n",
    "    from sklearn.utils.fixes import parse_version, sp_version\n",
    "    from sklearn.linear_model import QuantileRegressor\n",
    "    from numpy import newaxis, zeros_like, bool_, logical_or, array\n",
    "\n",
    "    # This is line is to avoid incompatibility if older SciPy version.\n",
    "    # You should use `solver=\"highs\"` with recent version of SciPy.\n",
    "    solver = \"highs\" if sp_version >= parse_version(\"1.6.0\") else \"interior-point\"\n",
    "\n",
    "    predictions = {}\n",
    "\n",
    "    x = array(x)\n",
    "    X = x[:, newaxis]\n",
    "\n",
    "    out_bounds_predictions = zeros_like(y, dtype=bool_)\n",
    "\n",
    "    for quantile in quantiles:\n",
    "        qr = QuantileRegressor(quantile=quantile, alpha=0, solver=solver)\n",
    "        y_pred = qr.fit(X, y).predict(X)\n",
    "        predictions[quantile] = y_pred\n",
    "\n",
    "        if quantile == min(quantiles):\n",
    "            out_bounds_predictions = logical_or(\n",
    "                out_bounds_predictions, y_pred >= y\n",
    "            )\n",
    "        elif quantile == max(quantiles):\n",
    "            out_bounds_predictions = logical_or(\n",
    "                out_bounds_predictions, y_pred <= y\n",
    "            )\n",
    "\n",
    "    print(qr.score(X, y))\n",
    "    return predictions"
   ]
  },
  {
   "cell_type": "code",
   "execution_count": null,
   "id": "98b6f019-0950-4a60-aff1-c9cfc5d3f8cd",
   "metadata": {
    "tags": []
   },
   "outputs": [],
   "source": [
    "def __compute_orthogonal_distance_regression(x_array, y_array, xerr=None, yerr=None, bx=None, by=None):\n",
    "\n",
    "    from scipy import odr\n",
    "    from numpy import power, mean, std\n",
    "\n",
    "    if bx is None and by is None:\n",
    "        bx, by = 0, mean(y_array)/mean(x_array)\n",
    "\n",
    "    if xerr is None and yerr is None:\n",
    "        xerr, yerr = std(x_array), std(y_array)\n",
    "\n",
    "#     data = odr.RealData(x_array, y_array)\n",
    "    data = odr.Data(x_array, y_array, wd=1./xerr, we=1./yerr)\n",
    "\n",
    "    odr = odr.ODR(data, model=odr.unilinear)\n",
    "\n",
    "    output = odr.run()\n",
    "\n",
    "    slope, intercept = output.beta\n",
    "\n",
    "    return slope, intercept"
   ]
  },
  {
   "cell_type": "code",
   "execution_count": null,
   "id": "faa8d665-8b20-493b-87a9-dd980fe788aa",
   "metadata": {
    "tags": []
   },
   "outputs": [],
   "source": [
    "from functions.get_octave_bands import __get_octave_bands"
   ]
  },
  {
   "cell_type": "markdown",
   "id": "24093c5f-3ecb-4afb-8a83-ff43d7d501e5",
   "metadata": {},
   "source": [
    "## Plot all "
   ]
  },
  {
   "cell_type": "code",
   "execution_count": null,
   "id": "96d134d2-6924-456d-9779-e313619d9fc7",
   "metadata": {
    "tags": []
   },
   "outputs": [],
   "source": [
    "dat0 = pd.read_pickle(config['path_to_data']+name0+\".pkl\")\n",
    "\n",
    "dat1 = pd.read_pickle(config['path_to_data']+name1+\".pkl\")\n",
    "dat2 = pd.read_pickle(config['path_to_data']+name2+\".pkl\")\n",
    "dat3 = pd.read_pickle(config['path_to_data']+name3+\".pkl\")\n",
    "\n",
    "\n",
    "coh1 = pd.read_pickle(config['path_to_data']+name1+\"_coherence.pkl\")\n",
    "coh2 = pd.read_pickle(config['path_to_data']+name2+\"_coherence.pkl\")\n",
    "coh3 = pd.read_pickle(config['path_to_data']+name3+\"_coherence.pkl\")\n"
   ]
  },
  {
   "cell_type": "code",
   "execution_count": null,
   "id": "940d638a-f7c4-4631-9190-ffe157584abc",
   "metadata": {
    "tags": []
   },
   "outputs": [],
   "source": [
    "f_lower, f_upper, f_center = __get_octave_bands(1e-3, 1e0, faction_of_octave=12, plot=False)\n",
    "\n",
    "N_bands = dat0.shape[1] - 1\n",
    "\n",
    "bands = dat0.keys()[1:]\n",
    "\n",
    "## compliance\n",
    "compl = pd.DataFrame()\n",
    "compl['fl'] = f_lower\n",
    "compl['fu'] = f_upper\n",
    "compl['fc'] = f_center\n",
    "\n",
    "complU, complV, complZ = np.ones(N_bands)*np.nan, np.ones(N_bands)*np.nan, np.ones(N_bands)*np.nan\n",
    "\n",
    "\n",
    "for _n, band in enumerate(bands):\n",
    "\n",
    "    # if not _n == 13:\n",
    "    #     continue\n",
    "\n",
    "    _dat0 = dat0.loc[:, [\"dates\", band]]\n",
    "    _dat1 = dat1.loc[:, [\"dates\", band]]\n",
    "    _dat2 = dat2.loc[:, [\"dates\", band]]\n",
    "    _dat3 = dat3.loc[:, [\"dates\", band]]\n",
    "\n",
    "    _coh1 = coh1.loc[:, [\"dates\", band]]\n",
    "    _coh2 = coh2.loc[:, [\"dates\", band]]\n",
    "    _coh3 = coh3.loc[:, [\"dates\", band]]\n",
    "\n",
    "    ## join data frames based on dates and hour\n",
    "    _df1 = pd.merge(left=_dat0, right=_dat1, how=\"inner\", on=\"dates\")\n",
    "    _df2 = pd.merge(left=_dat0, right=_dat2, how=\"inner\", on=\"dates\")\n",
    "    _df3 = pd.merge(left=_dat0, right=_dat3, how=\"inner\", on=\"dates\")\n",
    "\n",
    "    _df1 = pd.merge(left=_df1, right=_coh1, how=\"inner\", on=\"dates\")\n",
    "    _df2 = pd.merge(left=_df2, right=_coh2, how=\"inner\", on=\"dates\")\n",
    "    _df3 = pd.merge(left=_df3, right=_coh3, how=\"inner\", on=\"dates\")\n",
    "\n",
    "    # ## remove NaN values\n",
    "    _df1.dropna(inplace=True)\n",
    "    _df2.dropna(inplace=True)\n",
    "    _df3.dropna(inplace=True)\n",
    "\n",
    "    ## remove large values\n",
    "    _df1 = _df1[_df1.iloc[:, 2] < 1e-15]\n",
    "    _df2 = _df2[_df2.iloc[:, 2] < 1e-15]\n",
    "    _df3 = _df3[_df3.iloc[:, 2] < 1e-15]\n",
    "\n",
    "    ## reset the index\n",
    "    _df1 = _df1.reset_index(drop=True)\n",
    "    _df2 = _df2.reset_index(drop=True)\n",
    "    _df3 = _df3.reset_index(drop=True)\n",
    "\n",
    "    _df1 = _df1.sort_values(by=band, ascending=True)\n",
    "    _df2 = _df2.sort_values(by=band, ascending=True)\n",
    "    _df3 = _df3.sort_values(by=band, ascending=True)\n",
    "\n",
    "    xx1, yy1, ccoh1 = np.log10(_df1.iloc[:, 1]), np.log10(_df1.iloc[:, 2]), _df1.iloc[:, 3]\n",
    "    xx2, yy2, ccoh2 = np.log10(_df2.iloc[:, 1]), np.log10(_df2.iloc[:, 2]), _df2.iloc[:, 3]\n",
    "    xx3, yy3, ccoh3 = np.log10(_df3.iloc[:, 1]), np.log10(_df3.iloc[:, 2]), _df3.iloc[:, 3]\n",
    "\n",
    "\n",
    "    ## only select high coherence (=hc)\n",
    "    coh_thres = 0.8\n",
    "    df1_hc = _df1_high_coh = _df1[_df1.iloc[:, 3] > coh_thres]\n",
    "    df2_hc = _df2_high_coh = _df2[_df2.iloc[:, 3] > coh_thres]\n",
    "    df3_hc = _df3_high_coh = _df3[_df3.iloc[:, 3] > coh_thres]\n",
    "\n",
    "    xx1_hc, yy1_hc = np.log10(df1_hc.iloc[:, 1]), np.log10(df1_hc.iloc[:, 2])\n",
    "    xx2_hc, yy2_hc = np.log10(df2_hc.iloc[:, 1]), np.log10(df2_hc.iloc[:, 2])\n",
    "    xx3_hc, yy3_hc = np.log10(df3_hc.iloc[:, 1]), np.log10(df3_hc.iloc[:, 2])\n",
    "\n",
    "\n",
    "    try:\n",
    "        if len(xx1_hc) >= 10:\n",
    "            odr1_slope, odr1_inter = __compute_orthogonal_distance_regression(xx1_hc, yy1_hc, xerr=None, yerr=None, bx=None, by=None)\n",
    "        else:\n",
    "            odr1_slope = np.nan\n",
    "        if len(xx2_hc) >= 10:\n",
    "            odr2_slope, odr2_inter = __compute_orthogonal_distance_regression(xx2_hc, yy2_hc, xerr=None, yerr=None, bx=None, by=None)\n",
    "        else:\n",
    "            odr2_slope = np.nan\n",
    "        if len(xx3_hc) >= 10:\n",
    "            odr3_slope, odr3_inter = __compute_orthogonal_distance_regression(xx3_hc, yy3_hc, xerr=None, yerr=None, bx=None, by=None)\n",
    "        else:\n",
    "            odr3_slope = np.nan\n",
    "\n",
    "        complU[_n], complV[_n], complZ[_n] = np.sqrt(odr1_slope), np.sqrt(odr2_slope), np.sqrt(odr3_slope)\n",
    "\n",
    "    except Exception as e:\n",
    "        complU[_n], complV[_n], complZ[_n] = np.nan, np.nan, np.nan\n",
    "        print(e)\n",
    "        pass\n",
    "\n",
    "#     try:\n",
    "#         pre1 = __quantile_regression(xx1_hc, yy1_hc, quantiles=[0.05, 0.5, 0.95])\n",
    "#         pre2 = __quantile_regression(xx2_hc, yy2_hc, quantiles=[0.05, 0.5, 0.95])\n",
    "#         pre3 = __quantile_regression(xx3_hc, yy3_hc, quantiles=[0.05, 0.5, 0.95])\n",
    "#     except Exception as e:\n",
    "#         print(e)\n",
    "#         pass\n",
    "\n",
    "\n",
    "    ## ____________________________________________________________________\n",
    "\n",
    "    fig, ax = plt.subplots(1, 3, figsize=(15, 5), sharey=True)\n",
    "\n",
    "    font = 12\n",
    "\n",
    "    cmap = plt.colormaps.get(\"viridis\")\n",
    "\n",
    "    plt.subplots_adjust(wspace=0.12)\n",
    "\n",
    "    # ca1 = ax[0].scatter(10**xx1, 10**yy1, s=15, c=ccoh1, alpha=ccoh1, edgecolors=\"black\", lw=0.5, zorder=2, cmap=cmap, vmin=0, vmax=1)\n",
    "    # ca2 = ax[1].scatter(10**xx2, 10**yy2, s=15, c=ccoh2, alpha=ccoh2, edgecolors=\"black\", lw=0.5, zorder=2, cmap=cmap, vmin=0, vmax=1)\n",
    "    # ca3 = ax[2].scatter(10**xx3, 10**yy3, s=15, c=ccoh3, alpha=ccoh3, edgecolors=\"black\", lw=0.5, zorder=2, cmap=cmap, vmin=0, vmax=1)\n",
    "    ca1 = ax[0].scatter(10**xx1, 10**yy1, s=15, c=ccoh1, edgecolors=\"black\", lw=0.5, zorder=2, cmap=cmap, vmin=0, vmax=1)\n",
    "    ca2 = ax[1].scatter(10**xx2, 10**yy2, s=15, c=ccoh2, edgecolors=\"black\", lw=0.5, zorder=2, cmap=cmap, vmin=0, vmax=1)\n",
    "    ca3 = ax[2].scatter(10**xx3, 10**yy3, s=15, c=ccoh3, edgecolors=\"black\", lw=0.5, zorder=2, cmap=cmap, vmin=0, vmax=1)\n",
    "\n",
    "#     try:\n",
    "#         ax[0].plot(10**xx1_hc, 10**pre1[0.05], color=\"pink\", zorder=3, ls=\":\", label=\"95%-fit\")\n",
    "#         ax[1].plot(10**xx2_hc, 10**pre2[0.05], color=\"pink\", zorder=3, ls=\":\", label=\"95%-fit\")\n",
    "#         ax[2].plot(10**xx3_hc, 10**pre3[0.05], color=\"pink\", zorder=3, ls=\":\", label=\"95%-fit\")\n",
    "\n",
    "#     except Exception as e:\n",
    "#         print(e)\n",
    "#         pass\n",
    "\n",
    "    ## add correlation estimate\n",
    "    _xx = np.logspace(-2, 7)\n",
    "    _yy = 1e-22 * _xx\n",
    "\n",
    "    for _i in range(3):\n",
    "        ax[_i].plot(_xx, _yy, color=\"darkred\", ls=\"--\", label=\"1 nrad/s/Pa\")\n",
    "\n",
    "    try:\n",
    "        _xx = np.linspace(-10, 10, 100)\n",
    "        for _i, (slope, intercept) in enumerate(zip([odr1_slope, odr2_slope, odr3_slope], [odr1_inter, odr2_inter, odr3_inter])):\n",
    "            ax[_i].plot(10**(_xx), 10**(_xx*slope+intercept), color=\"red\", ls=\"--\", label=f\"{round(slope,3)} $m^2/s^4/Pa^2$\")\n",
    "    except:\n",
    "        pass\n",
    "\n",
    "\n",
    "\n",
    "    for _i in range(3):\n",
    "        ax[_i].set_xscale(\"log\")\n",
    "        ax[_i].set_yscale(\"log\")\n",
    "        ax[_i].set_xlim(1e-3, 1e7)\n",
    "        ax[_i].set_ylim(1e-23, 1e-15)\n",
    "        ax[_i].grid(zorder=0, alpha=0.5)\n",
    "        ax[_i].legend(loc=2)\n",
    "        ax[_i].set_xlabel(r\"PSD (Pa$^2$ /Hz)\", fontsize=font)\n",
    "\n",
    "    # ax[0].set_title(f\"{name0.replace('_','-')} & {name1.replace('_','-')} | fc = {float(_df1.keys()[1][:-2])*1e3} mHz\")\n",
    "    # ax[1].set_title(f\"{name0.replace('_','-')} & {name2.replace('_','-')} | fc = {float(_df2.keys()[1][:-2])*1e3} mHz\")\n",
    "    # ax[2].set_title(f\"{name0.replace('_','-')} & {name3.replace('_','-')} | fc = {float(_df3.keys()[1][:-2])*1e3} mHz\")\n",
    "    ax[0].set_title(f\"{name0.replace('_','-')} & {name1.replace('_','-')} | {round(f_lower[_n]*1e3, 1)} - {round(f_upper[_n]*1e3, 1)} mHz\")\n",
    "    ax[1].set_title(f\"{name0.replace('_','-')} & {name2.replace('_','-')} | {round(f_lower[_n]*1e3, 1)} - {round(f_upper[_n]*1e3, 1)} mHz\")\n",
    "    ax[2].set_title(f\"{name0.replace('_','-')} & {name3.replace('_','-')} | {round(f_lower[_n]*1e3, 1)} - {round(f_upper[_n]*1e3, 1)} mHz\")\n",
    "\n",
    "    ax[0].text(.8, .04, f\"N={len(xx1)}\", ha='left', va='top', transform=ax[0].transAxes, fontsize=font)\n",
    "    ax[1].text(.8, .04, f\"N={len(xx2)}\", ha='left', va='top', transform=ax[1].transAxes, fontsize=font)\n",
    "    ax[2].text(.8, .04, f\"N={len(xx3)}\", ha='left', va='top', transform=ax[2].transAxes, fontsize=font)\n",
    "\n",
    "    ax[0].set_ylabel(r\"PSD (rad$^2$ /s$^2$ /Hz)\", fontsize=font)\n",
    "\n",
    "    ## add colorbar\n",
    "    cbar_ax = fig.add_axes([0.92, 0.11, 0.01, 0.77]) #[left, bottom, width, height]\n",
    "    cb = plt.colorbar(ca1, cax=cbar_ax)\n",
    "    cb.set_label(\"Coherence\", fontsize=font, labelpad=-50, color=\"black\")\n",
    "\n",
    "    plt.show();\n",
    "\n",
    "    fig.savefig(config['path_to_figs']+f\"all/{str(_n).rjust(3, '0')}_{name1}_{name2}_{band}Hz_all.png\", format=\"png\", dpi=200, bbox_inches='tight');\n"
   ]
  },
  {
   "cell_type": "code",
   "execution_count": null,
   "id": "4cd1e95f-a9e7-4d05-86d4-d19e38fd3c32",
   "metadata": {},
   "outputs": [],
   "source": [
    "compl['U'] = complU\n",
    "compl['V'] = complV\n",
    "compl['Z'] = complZ"
   ]
  },
  {
   "cell_type": "markdown",
   "id": "4fd44aee-61f1-4ef0-ad8e-8f7b210e1fc5",
   "metadata": {},
   "source": [
    "## Compliance Plot"
   ]
  },
  {
   "cell_type": "code",
   "execution_count": null,
   "id": "deb6fcad-1d7a-4e83-9a70-1e061fd4146b",
   "metadata": {
    "tags": []
   },
   "outputs": [],
   "source": [
    "def __makeplot():\n",
    "\n",
    "    Nrow, Ncol = 1, 1\n",
    "\n",
    "    font = 12\n",
    "\n",
    "    fig, ax = plt.subplots(Nrow, Ncol, figsize=(10, 5))\n",
    "\n",
    "    ax.plot(compl['fc'], compl['U'], label=f\"{name1[:-2]}.{name1[-1]}\")\n",
    "    ax.plot(compl['fc'], compl['V'], label=f\"{name2[:-2]}.{name2[-1]}\")\n",
    "    ax.plot(compl['fc'], compl['Z'], label=f\"{name3[:-2]}.{name3[-1]}\")\n",
    "\n",
    "    ax.grid(ls=\":\", zorder=0)\n",
    "    ax.legend(loc=1)\n",
    "\n",
    "    ax.set_xscale(\"log\")\n",
    "    # ax.set_yscale(\"log\")\n",
    "\n",
    "    ax.set_xlim(1e-3, 1e0)\n",
    "    ax.set_ylim(0.5, 2)\n",
    "\n",
    "    ax.set_xlabel(\"Frequency (Hz)\")\n",
    "    ax.set_ylabel(\"Compliance (rad/s/Pa)\")\n",
    "\n",
    "    plt.show();\n",
    "    return fig"
   ]
  },
  {
   "cell_type": "code",
   "execution_count": null,
   "id": "4d8d7b8f-22c1-4b64-9cbb-74c04115cfee",
   "metadata": {
    "tags": []
   },
   "outputs": [],
   "source": [
    "compl = compl.replace(1.0, np.nan)\n",
    "\n",
    "fig = __makeplot();\n",
    "\n",
    "fig.savefig(config['path_to_figs']+f\"ROMY_ZNE_compliance.png\", format=\"png\", dpi=200, bbox_inches='tight')"
   ]
  },
  {
   "cell_type": "code",
   "execution_count": null,
   "id": "de1e39b0-c520-4d40-bb34-007fa050586b",
   "metadata": {},
   "outputs": [],
   "source": []
  },
  {
   "cell_type": "code",
   "execution_count": null,
   "id": "7a35be82-7ed1-4b95-bfef-0af32a059ccf",
   "metadata": {},
   "outputs": [],
   "source": []
  }
 ],
 "metadata": {
  "kernelspec": {
   "display_name": "Python 3 (ipykernel)",
   "language": "python",
   "name": "python3"
  },
  "language_info": {
   "codemirror_mode": {
    "name": "ipython",
    "version": 3
   },
   "file_extension": ".py",
   "mimetype": "text/x-python",
   "name": "python",
   "nbconvert_exporter": "python",
   "pygments_lexer": "ipython3",
   "version": "3.10.12"
  },
  "latex_envs": {
   "LaTeX_envs_menu_present": true,
   "autoclose": false,
   "autocomplete": true,
   "bibliofile": "biblio.bib",
   "cite_by": "apalike",
   "current_citInitial": 1,
   "eqLabelWithNumbers": true,
   "eqNumInitial": 1,
   "hotkeys": {
    "equation": "Ctrl-E",
    "itemize": "Ctrl-I"
   },
   "labels_anchors": false,
   "latex_user_defs": false,
   "report_style_numbering": false,
   "user_envs_cfg": false
  },
  "toc": {
   "base_numbering": 1,
   "nav_menu": {},
   "number_sections": true,
   "sideBar": true,
   "skip_h1_title": false,
   "title_cell": "Table of Contents",
   "title_sidebar": "Contents",
   "toc_cell": false,
   "toc_position": {},
   "toc_section_display": true,
   "toc_window_display": false
  },
  "varInspector": {
   "cols": {
    "lenName": 16,
    "lenType": 16,
    "lenVar": 40
   },
   "kernels_config": {
    "python": {
     "delete_cmd_postfix": "",
     "delete_cmd_prefix": "del ",
     "library": "var_list.py",
     "varRefreshCmd": "print(var_dic_list())"
    },
    "r": {
     "delete_cmd_postfix": ") ",
     "delete_cmd_prefix": "rm(",
     "library": "var_list.r",
     "varRefreshCmd": "cat(var_dic_list()) "
    }
   },
   "types_to_exclude": [
    "module",
    "function",
    "builtin_function_or_method",
    "instance",
    "_Feature"
   ],
   "window_display": false
  }
 },
 "nbformat": 4,
 "nbformat_minor": 5
}
