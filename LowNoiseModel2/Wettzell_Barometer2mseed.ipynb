{
 "cells": [
  {
   "cell_type": "markdown",
   "id": "3b1e5c4f-b07b-45a6-a655-e045bb540b2f",
   "metadata": {},
   "source": [
    "## Convert CSV to mseed"
   ]
  },
  {
   "cell_type": "code",
   "execution_count": 1,
   "id": "59636d09-162c-43d8-aac7-f44aacecaf00",
   "metadata": {
    "tags": []
   },
   "outputs": [],
   "source": [
    "import os\n",
    "import pandas as pd\n",
    "import obspy as obs\n",
    "import numpy as np\n",
    "\n",
    "import matplotlib.pyplot as plt\n",
    "\n",
    "from andbro__write_stream_to_sds import __write_stream_to_sds"
   ]
  },
  {
   "cell_type": "code",
   "execution_count": 2,
   "id": "42eb590b-6f6e-4314-a0f1-1afc6a92bd84",
   "metadata": {
    "tags": []
   },
   "outputs": [],
   "source": [
    "if os.uname().nodename == 'lighthouse':\n",
    "    root_path = '/home/andbro/'\n",
    "    data_path = '/home/andbro/kilauea-data/'\n",
    "    archive_path = '/home/andbro/freenas/'\n",
    "    bay_path = '/home/andbro/bay200/'\n",
    "elif os.uname().nodename == 'kilauea':\n",
    "    root_path = '/home/brotzer/'\n",
    "    data_path = '/import/kilauea-data/'\n",
    "    archive_path = '/import/freenas-ffb-01-data/'\n",
    "    bay_path = '/bay200/'\n",
    "elif os.uname().nodename == 'lin-ffb-01':\n",
    "    root_path = '/home/brotzer/'\n",
    "    data_path = '/import/kilauea-data/'\n",
    "    archive_path = '/import/freenas-ffb-01-data/'\n",
    "    bay_path = '/bay200/'"
   ]
  },
  {
   "cell_type": "code",
   "execution_count": 3,
   "id": "e764c674-1081-4a8f-bba5-8c3709360544",
   "metadata": {
    "tags": []
   },
   "outputs": [],
   "source": [
    "path_to_data = data_path+\"LNM2/data/wettzell/\""
   ]
  },
  {
   "cell_type": "markdown",
   "id": "8e6e058b-edf1-4869-8171-c10aa03e3e2b",
   "metadata": {},
   "source": [
    "### Load Data"
   ]
  },
  {
   "cell_type": "code",
   "execution_count": 4,
   "id": "09efd702-eabd-48b3-a36d-070328924b6a",
   "metadata": {
    "tags": []
   },
   "outputs": [],
   "source": [
    "df = pd.read_csv(path_to_data+\"luftdruck_wettzell.csv\")"
   ]
  },
  {
   "cell_type": "code",
   "execution_count": 5,
   "id": "6bbdb7e5-e01d-4522-b859-50b48fd534ab",
   "metadata": {
    "tags": []
   },
   "outputs": [
    {
     "data": {
      "text/html": [
       "<div>\n",
       "<style scoped>\n",
       "    .dataframe tbody tr th:only-of-type {\n",
       "        vertical-align: middle;\n",
       "    }\n",
       "\n",
       "    .dataframe tbody tr th {\n",
       "        vertical-align: top;\n",
       "    }\n",
       "\n",
       "    .dataframe thead th {\n",
       "        text-align: right;\n",
       "    }\n",
       "</style>\n",
       "<table border=\"1\" class=\"dataframe\">\n",
       "  <thead>\n",
       "    <tr style=\"text-align: right;\">\n",
       "      <th></th>\n",
       "      <th>epoch</th>\n",
       "      <th>p</th>\n",
       "    </tr>\n",
       "  </thead>\n",
       "  <tbody>\n",
       "    <tr>\n",
       "      <th>0</th>\n",
       "      <td>2023-09-01 00:00:00+00</td>\n",
       "      <td>946.154</td>\n",
       "    </tr>\n",
       "    <tr>\n",
       "      <th>1</th>\n",
       "      <td>2023-09-01 00:01:00+00</td>\n",
       "      <td>946.165</td>\n",
       "    </tr>\n",
       "    <tr>\n",
       "      <th>2</th>\n",
       "      <td>2023-09-01 00:02:00+00</td>\n",
       "      <td>946.168</td>\n",
       "    </tr>\n",
       "    <tr>\n",
       "      <th>3</th>\n",
       "      <td>2023-09-01 00:03:00+00</td>\n",
       "      <td>946.168</td>\n",
       "    </tr>\n",
       "    <tr>\n",
       "      <th>4</th>\n",
       "      <td>2023-09-01 00:04:00+00</td>\n",
       "      <td>946.166</td>\n",
       "    </tr>\n",
       "    <tr>\n",
       "      <th>...</th>\n",
       "      <td>...</td>\n",
       "      <td>...</td>\n",
       "    </tr>\n",
       "    <tr>\n",
       "      <th>175390</th>\n",
       "      <td>2023-12-31 23:55:00+00</td>\n",
       "      <td>938.512</td>\n",
       "    </tr>\n",
       "    <tr>\n",
       "      <th>175391</th>\n",
       "      <td>2023-12-31 23:56:00+00</td>\n",
       "      <td>938.534</td>\n",
       "    </tr>\n",
       "    <tr>\n",
       "      <th>175392</th>\n",
       "      <td>2023-12-31 23:57:00+00</td>\n",
       "      <td>938.566</td>\n",
       "    </tr>\n",
       "    <tr>\n",
       "      <th>175393</th>\n",
       "      <td>2023-12-31 23:58:00+00</td>\n",
       "      <td>938.563</td>\n",
       "    </tr>\n",
       "    <tr>\n",
       "      <th>175394</th>\n",
       "      <td>2023-12-31 23:59:00+00</td>\n",
       "      <td>938.586</td>\n",
       "    </tr>\n",
       "  </tbody>\n",
       "</table>\n",
       "<p>175395 rows × 2 columns</p>\n",
       "</div>"
      ],
      "text/plain": [
       "                         epoch        p\n",
       "0       2023-09-01 00:00:00+00  946.154\n",
       "1       2023-09-01 00:01:00+00  946.165\n",
       "2       2023-09-01 00:02:00+00  946.168\n",
       "3       2023-09-01 00:03:00+00  946.168\n",
       "4       2023-09-01 00:04:00+00  946.166\n",
       "...                        ...      ...\n",
       "175390  2023-12-31 23:55:00+00  938.512\n",
       "175391  2023-12-31 23:56:00+00  938.534\n",
       "175392  2023-12-31 23:57:00+00  938.566\n",
       "175393  2023-12-31 23:58:00+00  938.563\n",
       "175394  2023-12-31 23:59:00+00  938.586\n",
       "\n",
       "[175395 rows x 2 columns]"
      ]
     },
     "execution_count": 5,
     "metadata": {},
     "output_type": "execute_result"
    }
   ],
   "source": [
    "df"
   ]
  },
  {
   "cell_type": "markdown",
   "id": "f34e1a83-c49e-4115-94f4-65b14bb5aecb",
   "metadata": {},
   "source": [
    "### Merge with Dummy Frame (to ensure constant sampling)"
   ]
  },
  {
   "cell_type": "code",
   "execution_count": 6,
   "id": "a5787d05-d26b-4d06-93e5-ca9156207897",
   "metadata": {
    "tags": []
   },
   "outputs": [],
   "source": [
    "df_dummy = pd.DataFrame()\n",
    "\n",
    "seconds = int(abs(obs.UTCDateTime(df.epoch.iloc[0][:-3]) - obs.UTCDateTime(df.epoch.iloc[-1][:-3])))\n",
    "\n",
    "tt = []\n",
    "for _n, _t in enumerate(np.arange(0, seconds+60, 60)):\n",
    "    obst = obs.UTCDateTime(df.epoch.iloc[0][:-3]) + _t\n",
    "    tt.append(f\"{obst.date} {str(obst.time).split('.')[0]}+00\")\n",
    "\n",
    "df_dummy['epoch'] = tt\n",
    "\n",
    "df_new = df_dummy.merge(df, how=\"outer\", on=\"epoch\")"
   ]
  },
  {
   "cell_type": "code",
   "execution_count": 7,
   "id": "af77c87e-d87b-488c-9927-9e478ebfeda3",
   "metadata": {
    "tags": []
   },
   "outputs": [],
   "source": [
    "# df_new[df_new.p.isna()]"
   ]
  },
  {
   "cell_type": "markdown",
   "id": "caa2202b-c436-4cba-9cc8-6666bf5a81f4",
   "metadata": {},
   "source": [
    "### Create Stream and write to SDS"
   ]
  },
  {
   "cell_type": "code",
   "execution_count": 8,
   "id": "5189c5e0-5237-4555-b82c-7ce5bca7b1de",
   "metadata": {
    "tags": []
   },
   "outputs": [],
   "source": [
    "tr = obs.Trace()\n",
    "\n",
    "Tdelta = 60\n",
    "\n",
    "tr.data = df_new.p.to_numpy()\n",
    "tr.stats.delta = Tdelta\n",
    "tr.stats.starttime = obs.UTCDateTime(df.epoch.iloc[0][:-3])\n",
    "tr.stats.network = \"BW\"\n",
    "tr.stats.station = \"WETR\"\n",
    "tr.stats.location = \"\"\n",
    "tr.stats.channel = \"BDO\"\n",
    "\n",
    "st = obs.Stream(traces=tr)"
   ]
  },
  {
   "cell_type": "code",
   "execution_count": 11,
   "id": "f634e9b6-13c5-4565-ae06-993ae716cd8b",
   "metadata": {
    "tags": []
   },
   "outputs": [
    {
     "data": {
      "text/plain": [
       "0.016666666666666666"
      ]
     },
     "execution_count": 11,
     "metadata": {},
     "output_type": "execute_result"
    }
   ],
   "source": []
  },
  {
   "cell_type": "code",
   "execution_count": 10,
   "id": "b46b1e93-435c-4b07-b256-128103bb5dfc",
   "metadata": {
    "tags": []
   },
   "outputs": [
    {
     "name": "stdout",
     "output_type": "stream",
     "text": [
      "1 Trace(s) in Stream:\n",
      "BW.WETR..BDO | 2023-09-01T00:00:00.000000Z - 2023-09-01T23:59:00.000000Z | 60.0 s, 1440 samples\n",
      " -> stored stream as: 2023/BW/WETR/BDO.D/BW.WETR..BDO.D.2023.244\n",
      "1 Trace(s) in Stream:\n",
      "BW.WETR..BDO | 2023-09-02T00:00:00.000000Z - 2023-09-02T23:59:00.000000Z | 60.0 s, 1440 samples\n",
      " -> stored stream as: 2023/BW/WETR/BDO.D/BW.WETR..BDO.D.2023.245\n",
      "1 Trace(s) in Stream:\n",
      "BW.WETR..BDO | 2023-09-03T00:00:00.000000Z - 2023-09-03T23:59:00.000000Z | 60.0 s, 1440 samples\n",
      " -> stored stream as: 2023/BW/WETR/BDO.D/BW.WETR..BDO.D.2023.246\n",
      "1 Trace(s) in Stream:\n",
      "BW.WETR..BDO | 2023-09-04T00:00:00.000000Z - 2023-09-04T23:59:00.000000Z | 60.0 s, 1440 samples\n",
      " -> stored stream as: 2023/BW/WETR/BDO.D/BW.WETR..BDO.D.2023.247\n",
      "1 Trace(s) in Stream:\n",
      "BW.WETR..BDO | 2023-09-05T00:00:00.000000Z - 2023-09-05T23:59:00.000000Z | 60.0 s, 1440 samples\n",
      " -> stored stream as: 2023/BW/WETR/BDO.D/BW.WETR..BDO.D.2023.248\n",
      "1 Trace(s) in Stream:\n",
      "BW.WETR..BDO | 2023-09-06T00:00:00.000000Z - 2023-09-06T23:59:00.000000Z | 60.0 s, 1440 samples\n",
      " -> stored stream as: 2023/BW/WETR/BDO.D/BW.WETR..BDO.D.2023.249\n",
      "1 Trace(s) in Stream:\n",
      "BW.WETR..BDO | 2023-09-07T00:00:00.000000Z - 2023-09-07T23:59:00.000000Z | 60.0 s, 1440 samples\n",
      " -> stored stream as: 2023/BW/WETR/BDO.D/BW.WETR..BDO.D.2023.250\n",
      "1 Trace(s) in Stream:\n",
      "BW.WETR..BDO | 2023-09-08T00:00:00.000000Z - 2023-09-08T23:59:00.000000Z | 60.0 s, 1440 samples\n",
      " -> stored stream as: 2023/BW/WETR/BDO.D/BW.WETR..BDO.D.2023.251\n",
      "1 Trace(s) in Stream:\n",
      "BW.WETR..BDO | 2023-09-09T00:00:00.000000Z - 2023-09-09T23:59:00.000000Z | 60.0 s, 1440 samples\n",
      " -> stored stream as: 2023/BW/WETR/BDO.D/BW.WETR..BDO.D.2023.252\n",
      "1 Trace(s) in Stream:\n",
      "BW.WETR..BDO | 2023-09-10T00:00:00.000000Z - 2023-09-10T23:59:00.000000Z | 60.0 s, 1440 samples\n",
      " -> stored stream as: 2023/BW/WETR/BDO.D/BW.WETR..BDO.D.2023.253\n",
      "1 Trace(s) in Stream:\n",
      "BW.WETR..BDO | 2023-09-11T00:00:00.000000Z - 2023-09-11T23:59:00.000000Z | 60.0 s, 1440 samples\n",
      " -> stored stream as: 2023/BW/WETR/BDO.D/BW.WETR..BDO.D.2023.254\n",
      "1 Trace(s) in Stream:\n",
      "BW.WETR..BDO | 2023-09-12T00:00:00.000000Z - 2023-09-12T23:59:00.000000Z | 60.0 s, 1440 samples\n",
      " -> stored stream as: 2023/BW/WETR/BDO.D/BW.WETR..BDO.D.2023.255\n",
      "1 Trace(s) in Stream:\n",
      "BW.WETR..BDO | 2023-09-13T00:00:00.000000Z - 2023-09-13T23:59:00.000000Z | 60.0 s, 1440 samples\n",
      " -> stored stream as: 2023/BW/WETR/BDO.D/BW.WETR..BDO.D.2023.256\n",
      "1 Trace(s) in Stream:\n",
      "BW.WETR..BDO | 2023-09-14T00:00:00.000000Z - 2023-09-14T23:59:00.000000Z | 60.0 s, 1440 samples\n",
      " -> stored stream as: 2023/BW/WETR/BDO.D/BW.WETR..BDO.D.2023.257\n",
      "1 Trace(s) in Stream:\n",
      "BW.WETR..BDO | 2023-09-15T00:00:00.000000Z - 2023-09-15T23:59:00.000000Z | 60.0 s, 1440 samples\n",
      " -> stored stream as: 2023/BW/WETR/BDO.D/BW.WETR..BDO.D.2023.258\n",
      "1 Trace(s) in Stream:\n",
      "BW.WETR..BDO | 2023-09-16T00:00:00.000000Z - 2023-09-16T23:59:00.000000Z | 60.0 s, 1440 samples\n",
      " -> stored stream as: 2023/BW/WETR/BDO.D/BW.WETR..BDO.D.2023.259\n",
      "1 Trace(s) in Stream:\n",
      "BW.WETR..BDO | 2023-09-17T00:00:00.000000Z - 2023-09-17T23:59:00.000000Z | 60.0 s, 1440 samples\n",
      " -> stored stream as: 2023/BW/WETR/BDO.D/BW.WETR..BDO.D.2023.260\n",
      "1 Trace(s) in Stream:\n",
      "BW.WETR..BDO | 2023-09-18T00:00:00.000000Z - 2023-09-18T23:59:00.000000Z | 60.0 s, 1440 samples\n",
      " -> stored stream as: 2023/BW/WETR/BDO.D/BW.WETR..BDO.D.2023.261\n",
      "1 Trace(s) in Stream:\n",
      "BW.WETR..BDO | 2023-09-19T00:00:00.000000Z - 2023-09-19T23:59:00.000000Z | 60.0 s, 1440 samples\n",
      " -> stored stream as: 2023/BW/WETR/BDO.D/BW.WETR..BDO.D.2023.262\n",
      "1 Trace(s) in Stream:\n",
      "BW.WETR..BDO | 2023-09-20T00:00:00.000000Z - 2023-09-20T23:59:00.000000Z | 60.0 s, 1440 samples\n",
      " -> stored stream as: 2023/BW/WETR/BDO.D/BW.WETR..BDO.D.2023.263\n",
      "1 Trace(s) in Stream:\n",
      "BW.WETR..BDO | 2023-09-21T00:00:00.000000Z - 2023-09-21T23:59:00.000000Z | 60.0 s, 1440 samples\n",
      " -> stored stream as: 2023/BW/WETR/BDO.D/BW.WETR..BDO.D.2023.264\n",
      "1 Trace(s) in Stream:\n",
      "BW.WETR..BDO | 2023-09-22T00:00:00.000000Z - 2023-09-22T23:59:00.000000Z | 60.0 s, 1440 samples\n",
      " -> stored stream as: 2023/BW/WETR/BDO.D/BW.WETR..BDO.D.2023.265\n",
      "1 Trace(s) in Stream:\n",
      "BW.WETR..BDO | 2023-09-23T00:00:00.000000Z - 2023-09-23T23:59:00.000000Z | 60.0 s, 1440 samples\n",
      " -> stored stream as: 2023/BW/WETR/BDO.D/BW.WETR..BDO.D.2023.266\n",
      "1 Trace(s) in Stream:\n",
      "BW.WETR..BDO | 2023-09-24T00:00:00.000000Z - 2023-09-24T23:59:00.000000Z | 60.0 s, 1440 samples\n",
      " -> stored stream as: 2023/BW/WETR/BDO.D/BW.WETR..BDO.D.2023.267\n",
      "1 Trace(s) in Stream:\n",
      "BW.WETR..BDO | 2023-09-25T00:00:00.000000Z - 2023-09-25T23:59:00.000000Z | 60.0 s, 1440 samples\n",
      " -> stored stream as: 2023/BW/WETR/BDO.D/BW.WETR..BDO.D.2023.268\n",
      "1 Trace(s) in Stream:\n",
      "BW.WETR..BDO | 2023-09-26T00:00:00.000000Z - 2023-09-26T23:59:00.000000Z | 60.0 s, 1440 samples\n",
      " -> stored stream as: 2023/BW/WETR/BDO.D/BW.WETR..BDO.D.2023.269\n",
      "1 Trace(s) in Stream:\n",
      "BW.WETR..BDO | 2023-09-27T00:00:00.000000Z - 2023-09-27T23:59:00.000000Z | 60.0 s, 1440 samples\n",
      " -> stored stream as: 2023/BW/WETR/BDO.D/BW.WETR..BDO.D.2023.270\n",
      "1 Trace(s) in Stream:\n",
      "BW.WETR..BDO | 2023-09-28T00:00:00.000000Z - 2023-09-28T23:59:00.000000Z | 60.0 s, 1440 samples\n",
      " -> stored stream as: 2023/BW/WETR/BDO.D/BW.WETR..BDO.D.2023.271\n",
      "1 Trace(s) in Stream:\n",
      "BW.WETR..BDO | 2023-09-29T00:00:00.000000Z - 2023-09-29T23:59:00.000000Z | 60.0 s, 1440 samples\n",
      " -> stored stream as: 2023/BW/WETR/BDO.D/BW.WETR..BDO.D.2023.272\n",
      "1 Trace(s) in Stream:\n",
      "BW.WETR..BDO | 2023-09-30T00:00:00.000000Z - 2023-09-30T23:59:00.000000Z | 60.0 s, 1440 samples\n",
      " -> stored stream as: 2023/BW/WETR/BDO.D/BW.WETR..BDO.D.2023.273\n",
      "1 Trace(s) in Stream:\n",
      "BW.WETR..BDO | 2023-10-01T00:00:00.000000Z - 2023-10-01T23:59:00.000000Z | 60.0 s, 1440 samples\n",
      " -> stored stream as: 2023/BW/WETR/BDO.D/BW.WETR..BDO.D.2023.274\n",
      "1 Trace(s) in Stream:\n",
      "BW.WETR..BDO | 2023-10-02T00:00:00.000000Z - 2023-10-02T23:59:00.000000Z | 60.0 s, 1440 samples\n",
      " -> stored stream as: 2023/BW/WETR/BDO.D/BW.WETR..BDO.D.2023.275\n",
      "1 Trace(s) in Stream:\n",
      "BW.WETR..BDO | 2023-10-03T00:00:00.000000Z - 2023-10-03T23:59:00.000000Z | 60.0 s, 1440 samples\n",
      " -> stored stream as: 2023/BW/WETR/BDO.D/BW.WETR..BDO.D.2023.276\n",
      "1 Trace(s) in Stream:\n",
      "BW.WETR..BDO | 2023-10-04T00:00:00.000000Z - 2023-10-04T23:59:00.000000Z | 60.0 s, 1440 samples\n",
      " -> stored stream as: 2023/BW/WETR/BDO.D/BW.WETR..BDO.D.2023.277\n",
      "1 Trace(s) in Stream:\n",
      "BW.WETR..BDO | 2023-10-05T00:00:00.000000Z - 2023-10-05T23:59:00.000000Z | 60.0 s, 1440 samples\n",
      " -> stored stream as: 2023/BW/WETR/BDO.D/BW.WETR..BDO.D.2023.278\n",
      "1 Trace(s) in Stream:\n",
      "BW.WETR..BDO | 2023-10-06T00:00:00.000000Z - 2023-10-06T23:59:00.000000Z | 60.0 s, 1440 samples\n",
      " -> stored stream as: 2023/BW/WETR/BDO.D/BW.WETR..BDO.D.2023.279\n",
      "1 Trace(s) in Stream:\n",
      "BW.WETR..BDO | 2023-10-07T00:00:00.000000Z - 2023-10-07T23:59:00.000000Z | 60.0 s, 1440 samples\n",
      " -> stored stream as: 2023/BW/WETR/BDO.D/BW.WETR..BDO.D.2023.280\n",
      "1 Trace(s) in Stream:\n",
      "BW.WETR..BDO | 2023-10-08T00:00:00.000000Z - 2023-10-08T23:59:00.000000Z | 60.0 s, 1440 samples\n",
      " -> stored stream as: 2023/BW/WETR/BDO.D/BW.WETR..BDO.D.2023.281\n",
      "1 Trace(s) in Stream:\n",
      "BW.WETR..BDO | 2023-10-09T00:00:00.000000Z - 2023-10-09T23:59:00.000000Z | 60.0 s, 1440 samples\n",
      " -> stored stream as: 2023/BW/WETR/BDO.D/BW.WETR..BDO.D.2023.282\n",
      "1 Trace(s) in Stream:\n",
      "BW.WETR..BDO | 2023-10-10T00:00:00.000000Z - 2023-10-10T23:59:00.000000Z | 60.0 s, 1440 samples\n",
      " -> stored stream as: 2023/BW/WETR/BDO.D/BW.WETR..BDO.D.2023.283\n",
      "1 Trace(s) in Stream:\n",
      "BW.WETR..BDO | 2023-10-11T00:00:00.000000Z - 2023-10-11T23:59:00.000000Z | 60.0 s, 1440 samples\n",
      " -> stored stream as: 2023/BW/WETR/BDO.D/BW.WETR..BDO.D.2023.284\n",
      "1 Trace(s) in Stream:\n",
      "BW.WETR..BDO | 2023-10-12T00:00:00.000000Z - 2023-10-12T23:59:00.000000Z | 60.0 s, 1440 samples\n",
      " -> stored stream as: 2023/BW/WETR/BDO.D/BW.WETR..BDO.D.2023.285\n",
      "1 Trace(s) in Stream:\n",
      "BW.WETR..BDO | 2023-10-13T00:00:00.000000Z - 2023-10-13T23:59:00.000000Z | 60.0 s, 1440 samples\n",
      " -> stored stream as: 2023/BW/WETR/BDO.D/BW.WETR..BDO.D.2023.286\n",
      "1 Trace(s) in Stream:\n",
      "BW.WETR..BDO | 2023-10-14T00:00:00.000000Z - 2023-10-14T23:59:00.000000Z | 60.0 s, 1440 samples\n",
      " -> stored stream as: 2023/BW/WETR/BDO.D/BW.WETR..BDO.D.2023.287\n",
      "1 Trace(s) in Stream:\n",
      "BW.WETR..BDO | 2023-10-15T00:00:00.000000Z - 2023-10-15T23:59:00.000000Z | 60.0 s, 1440 samples\n",
      " -> stored stream as: 2023/BW/WETR/BDO.D/BW.WETR..BDO.D.2023.288\n",
      "1 Trace(s) in Stream:\n",
      "BW.WETR..BDO | 2023-10-16T00:00:00.000000Z - 2023-10-16T23:59:00.000000Z | 60.0 s, 1440 samples\n",
      " -> stored stream as: 2023/BW/WETR/BDO.D/BW.WETR..BDO.D.2023.289\n",
      "1 Trace(s) in Stream:\n",
      "BW.WETR..BDO | 2023-10-17T00:00:00.000000Z - 2023-10-17T23:59:00.000000Z | 60.0 s, 1440 samples\n",
      " -> stored stream as: 2023/BW/WETR/BDO.D/BW.WETR..BDO.D.2023.290\n",
      "1 Trace(s) in Stream:\n",
      "BW.WETR..BDO | 2023-10-18T00:00:00.000000Z - 2023-10-18T23:59:00.000000Z | 60.0 s, 1440 samples\n",
      " -> stored stream as: 2023/BW/WETR/BDO.D/BW.WETR..BDO.D.2023.291\n",
      "1 Trace(s) in Stream:\n",
      "BW.WETR..BDO | 2023-10-19T00:00:00.000000Z - 2023-10-19T23:59:00.000000Z | 60.0 s, 1440 samples\n",
      " -> stored stream as: 2023/BW/WETR/BDO.D/BW.WETR..BDO.D.2023.292\n",
      "1 Trace(s) in Stream:\n",
      "BW.WETR..BDO | 2023-10-20T00:00:00.000000Z - 2023-10-20T23:59:00.000000Z | 60.0 s, 1440 samples\n",
      " -> stored stream as: 2023/BW/WETR/BDO.D/BW.WETR..BDO.D.2023.293\n",
      "1 Trace(s) in Stream:\n",
      "BW.WETR..BDO | 2023-10-21T00:00:00.000000Z - 2023-10-21T23:59:00.000000Z | 60.0 s, 1440 samples\n",
      " -> stored stream as: 2023/BW/WETR/BDO.D/BW.WETR..BDO.D.2023.294\n",
      "1 Trace(s) in Stream:\n",
      "BW.WETR..BDO | 2023-10-22T00:00:00.000000Z - 2023-10-22T23:59:00.000000Z | 60.0 s, 1440 samples\n",
      " -> stored stream as: 2023/BW/WETR/BDO.D/BW.WETR..BDO.D.2023.295\n",
      "1 Trace(s) in Stream:\n",
      "BW.WETR..BDO | 2023-10-23T00:00:00.000000Z - 2023-10-23T23:59:00.000000Z | 60.0 s, 1440 samples\n",
      " -> stored stream as: 2023/BW/WETR/BDO.D/BW.WETR..BDO.D.2023.296\n",
      "1 Trace(s) in Stream:\n",
      "BW.WETR..BDO | 2023-10-24T00:00:00.000000Z - 2023-10-24T23:59:00.000000Z | 60.0 s, 1440 samples\n",
      " -> stored stream as: 2023/BW/WETR/BDO.D/BW.WETR..BDO.D.2023.297\n",
      "1 Trace(s) in Stream:\n",
      "BW.WETR..BDO | 2023-10-25T00:00:00.000000Z - 2023-10-25T23:59:00.000000Z | 60.0 s, 1440 samples\n",
      " -> stored stream as: 2023/BW/WETR/BDO.D/BW.WETR..BDO.D.2023.298\n",
      "1 Trace(s) in Stream:\n",
      "BW.WETR..BDO | 2023-10-26T00:00:00.000000Z - 2023-10-26T23:59:00.000000Z | 60.0 s, 1440 samples\n",
      " -> stored stream as: 2023/BW/WETR/BDO.D/BW.WETR..BDO.D.2023.299\n",
      "1 Trace(s) in Stream:\n",
      "BW.WETR..BDO | 2023-10-27T00:00:00.000000Z - 2023-10-27T23:59:00.000000Z | 60.0 s, 1440 samples\n",
      " -> stored stream as: 2023/BW/WETR/BDO.D/BW.WETR..BDO.D.2023.300\n",
      "1 Trace(s) in Stream:\n",
      "BW.WETR..BDO | 2023-10-28T00:00:00.000000Z - 2023-10-28T23:59:00.000000Z | 60.0 s, 1440 samples\n",
      " -> stored stream as: 2023/BW/WETR/BDO.D/BW.WETR..BDO.D.2023.301\n",
      "1 Trace(s) in Stream:\n",
      "BW.WETR..BDO | 2023-10-29T00:00:00.000000Z - 2023-10-29T23:59:00.000000Z | 60.0 s, 1440 samples\n",
      " -> stored stream as: 2023/BW/WETR/BDO.D/BW.WETR..BDO.D.2023.302\n",
      "1 Trace(s) in Stream:\n",
      "BW.WETR..BDO | 2023-10-30T00:00:00.000000Z - 2023-10-30T23:59:00.000000Z | 60.0 s, 1440 samples\n",
      " -> stored stream as: 2023/BW/WETR/BDO.D/BW.WETR..BDO.D.2023.303\n",
      "1 Trace(s) in Stream:\n",
      "BW.WETR..BDO | 2023-10-31T00:00:00.000000Z - 2023-10-31T23:59:00.000000Z | 60.0 s, 1440 samples\n",
      " -> stored stream as: 2023/BW/WETR/BDO.D/BW.WETR..BDO.D.2023.304\n",
      "1 Trace(s) in Stream:\n",
      "BW.WETR..BDO | 2023-11-01T00:00:00.000000Z - 2023-11-01T23:59:00.000000Z | 60.0 s, 1440 samples\n",
      " -> stored stream as: 2023/BW/WETR/BDO.D/BW.WETR..BDO.D.2023.305\n",
      "1 Trace(s) in Stream:\n",
      "BW.WETR..BDO | 2023-11-02T00:00:00.000000Z - 2023-11-02T23:59:00.000000Z | 60.0 s, 1440 samples\n",
      " -> stored stream as: 2023/BW/WETR/BDO.D/BW.WETR..BDO.D.2023.306\n",
      "1 Trace(s) in Stream:\n",
      "BW.WETR..BDO | 2023-11-03T00:00:00.000000Z - 2023-11-03T23:59:00.000000Z | 60.0 s, 1440 samples\n",
      " -> stored stream as: 2023/BW/WETR/BDO.D/BW.WETR..BDO.D.2023.307\n",
      "1 Trace(s) in Stream:\n",
      "BW.WETR..BDO | 2023-11-04T00:00:00.000000Z - 2023-11-04T23:59:00.000000Z | 60.0 s, 1440 samples\n",
      " -> stored stream as: 2023/BW/WETR/BDO.D/BW.WETR..BDO.D.2023.308\n",
      "1 Trace(s) in Stream:\n",
      "BW.WETR..BDO | 2023-11-05T00:00:00.000000Z - 2023-11-05T23:59:00.000000Z | 60.0 s, 1440 samples\n",
      " -> stored stream as: 2023/BW/WETR/BDO.D/BW.WETR..BDO.D.2023.309\n",
      "1 Trace(s) in Stream:\n",
      "BW.WETR..BDO | 2023-11-06T00:00:00.000000Z - 2023-11-06T23:59:00.000000Z | 60.0 s, 1440 samples\n",
      " -> stored stream as: 2023/BW/WETR/BDO.D/BW.WETR..BDO.D.2023.310\n",
      "1 Trace(s) in Stream:\n",
      "BW.WETR..BDO | 2023-11-07T00:00:00.000000Z - 2023-11-07T23:59:00.000000Z | 60.0 s, 1440 samples\n",
      " -> stored stream as: 2023/BW/WETR/BDO.D/BW.WETR..BDO.D.2023.311\n",
      "1 Trace(s) in Stream:\n",
      "BW.WETR..BDO | 2023-11-08T00:00:00.000000Z - 2023-11-08T23:59:00.000000Z | 60.0 s, 1440 samples\n",
      " -> stored stream as: 2023/BW/WETR/BDO.D/BW.WETR..BDO.D.2023.312\n",
      "1 Trace(s) in Stream:\n",
      "BW.WETR..BDO | 2023-11-09T00:00:00.000000Z - 2023-11-09T23:59:00.000000Z | 60.0 s, 1440 samples\n",
      " -> stored stream as: 2023/BW/WETR/BDO.D/BW.WETR..BDO.D.2023.313\n",
      "1 Trace(s) in Stream:\n",
      "BW.WETR..BDO | 2023-11-10T00:00:00.000000Z - 2023-11-10T23:59:00.000000Z | 60.0 s, 1440 samples\n",
      " -> stored stream as: 2023/BW/WETR/BDO.D/BW.WETR..BDO.D.2023.314\n",
      "1 Trace(s) in Stream:\n",
      "BW.WETR..BDO | 2023-11-11T00:00:00.000000Z - 2023-11-11T23:59:00.000000Z | 60.0 s, 1440 samples\n",
      " -> stored stream as: 2023/BW/WETR/BDO.D/BW.WETR..BDO.D.2023.315\n",
      "1 Trace(s) in Stream:\n",
      "BW.WETR..BDO | 2023-11-12T00:00:00.000000Z - 2023-11-12T23:59:00.000000Z | 60.0 s, 1440 samples\n",
      " -> stored stream as: 2023/BW/WETR/BDO.D/BW.WETR..BDO.D.2023.316\n",
      "1 Trace(s) in Stream:\n",
      "BW.WETR..BDO | 2023-11-13T00:00:00.000000Z - 2023-11-13T23:59:00.000000Z | 60.0 s, 1440 samples\n",
      " -> stored stream as: 2023/BW/WETR/BDO.D/BW.WETR..BDO.D.2023.317\n",
      "1 Trace(s) in Stream:\n",
      "BW.WETR..BDO | 2023-11-14T00:00:00.000000Z - 2023-11-14T23:59:00.000000Z | 60.0 s, 1440 samples\n",
      " -> stored stream as: 2023/BW/WETR/BDO.D/BW.WETR..BDO.D.2023.318\n",
      "1 Trace(s) in Stream:\n",
      "BW.WETR..BDO | 2023-11-15T00:00:00.000000Z - 2023-11-15T23:59:00.000000Z | 60.0 s, 1440 samples\n",
      " -> stored stream as: 2023/BW/WETR/BDO.D/BW.WETR..BDO.D.2023.319\n",
      "1 Trace(s) in Stream:\n",
      "BW.WETR..BDO | 2023-11-16T00:00:00.000000Z - 2023-11-16T23:59:00.000000Z | 60.0 s, 1440 samples\n",
      " -> stored stream as: 2023/BW/WETR/BDO.D/BW.WETR..BDO.D.2023.320\n",
      "1 Trace(s) in Stream:\n",
      "BW.WETR..BDO | 2023-11-17T00:00:00.000000Z - 2023-11-17T23:59:00.000000Z | 60.0 s, 1440 samples\n",
      " -> stored stream as: 2023/BW/WETR/BDO.D/BW.WETR..BDO.D.2023.321\n",
      "1 Trace(s) in Stream:\n",
      "BW.WETR..BDO | 2023-11-18T00:00:00.000000Z - 2023-11-18T23:59:00.000000Z | 60.0 s, 1440 samples\n",
      " -> stored stream as: 2023/BW/WETR/BDO.D/BW.WETR..BDO.D.2023.322\n",
      "1 Trace(s) in Stream:\n",
      "BW.WETR..BDO | 2023-11-19T00:00:00.000000Z - 2023-11-19T23:59:00.000000Z | 60.0 s, 1440 samples\n",
      " -> stored stream as: 2023/BW/WETR/BDO.D/BW.WETR..BDO.D.2023.323\n",
      "1 Trace(s) in Stream:\n",
      "BW.WETR..BDO | 2023-11-20T00:00:00.000000Z - 2023-11-20T23:59:00.000000Z | 60.0 s, 1440 samples\n",
      " -> stored stream as: 2023/BW/WETR/BDO.D/BW.WETR..BDO.D.2023.324\n",
      "1 Trace(s) in Stream:\n",
      "BW.WETR..BDO | 2023-11-21T00:00:00.000000Z - 2023-11-21T23:59:00.000000Z | 60.0 s, 1440 samples\n",
      " -> stored stream as: 2023/BW/WETR/BDO.D/BW.WETR..BDO.D.2023.325\n",
      "1 Trace(s) in Stream:\n",
      "BW.WETR..BDO | 2023-11-22T00:00:00.000000Z - 2023-11-22T23:59:00.000000Z | 60.0 s, 1440 samples\n",
      " -> stored stream as: 2023/BW/WETR/BDO.D/BW.WETR..BDO.D.2023.326\n",
      "1 Trace(s) in Stream:\n",
      "BW.WETR..BDO | 2023-11-23T00:00:00.000000Z - 2023-11-23T23:59:00.000000Z | 60.0 s, 1440 samples\n",
      " -> stored stream as: 2023/BW/WETR/BDO.D/BW.WETR..BDO.D.2023.327\n",
      "1 Trace(s) in Stream:\n",
      "BW.WETR..BDO | 2023-11-24T00:00:00.000000Z - 2023-11-24T23:59:00.000000Z | 60.0 s, 1440 samples\n",
      " -> stored stream as: 2023/BW/WETR/BDO.D/BW.WETR..BDO.D.2023.328\n",
      "1 Trace(s) in Stream:\n",
      "BW.WETR..BDO | 2023-11-25T00:00:00.000000Z - 2023-11-25T23:59:00.000000Z | 60.0 s, 1440 samples\n",
      " -> stored stream as: 2023/BW/WETR/BDO.D/BW.WETR..BDO.D.2023.329\n",
      "1 Trace(s) in Stream:\n",
      "BW.WETR..BDO | 2023-11-26T00:00:00.000000Z - 2023-11-26T23:59:00.000000Z | 60.0 s, 1440 samples\n",
      " -> stored stream as: 2023/BW/WETR/BDO.D/BW.WETR..BDO.D.2023.330\n",
      "1 Trace(s) in Stream:\n",
      "BW.WETR..BDO | 2023-11-27T00:00:00.000000Z - 2023-11-27T23:59:00.000000Z | 60.0 s, 1440 samples\n",
      " -> stored stream as: 2023/BW/WETR/BDO.D/BW.WETR..BDO.D.2023.331\n",
      "1 Trace(s) in Stream:\n",
      "BW.WETR..BDO | 2023-11-28T00:00:00.000000Z - 2023-11-28T23:59:00.000000Z | 60.0 s, 1440 samples\n",
      " -> stored stream as: 2023/BW/WETR/BDO.D/BW.WETR..BDO.D.2023.332\n",
      "1 Trace(s) in Stream:\n",
      "BW.WETR..BDO | 2023-11-29T00:00:00.000000Z - 2023-11-29T23:59:00.000000Z | 60.0 s, 1440 samples\n",
      " -> stored stream as: 2023/BW/WETR/BDO.D/BW.WETR..BDO.D.2023.333\n",
      "1 Trace(s) in Stream:\n",
      "BW.WETR..BDO | 2023-11-30T00:00:00.000000Z - 2023-11-30T23:59:00.000000Z | 60.0 s, 1440 samples\n",
      " -> stored stream as: 2023/BW/WETR/BDO.D/BW.WETR..BDO.D.2023.334\n",
      "1 Trace(s) in Stream:\n",
      "BW.WETR..BDO | 2023-12-01T00:00:00.000000Z - 2023-12-01T23:59:00.000000Z | 60.0 s, 1440 samples\n",
      " -> stored stream as: 2023/BW/WETR/BDO.D/BW.WETR..BDO.D.2023.335\n",
      "1 Trace(s) in Stream:\n",
      "BW.WETR..BDO | 2023-12-02T00:00:00.000000Z - 2023-12-02T23:59:00.000000Z | 60.0 s, 1440 samples\n",
      " -> stored stream as: 2023/BW/WETR/BDO.D/BW.WETR..BDO.D.2023.336\n",
      "1 Trace(s) in Stream:\n",
      "BW.WETR..BDO | 2023-12-03T00:00:00.000000Z - 2023-12-03T23:59:00.000000Z | 60.0 s, 1440 samples\n",
      " -> stored stream as: 2023/BW/WETR/BDO.D/BW.WETR..BDO.D.2023.337\n",
      "1 Trace(s) in Stream:\n",
      "BW.WETR..BDO | 2023-12-04T00:00:00.000000Z - 2023-12-04T23:59:00.000000Z | 60.0 s, 1440 samples\n",
      " -> stored stream as: 2023/BW/WETR/BDO.D/BW.WETR..BDO.D.2023.338\n",
      "1 Trace(s) in Stream:\n",
      "BW.WETR..BDO | 2023-12-05T00:00:00.000000Z - 2023-12-05T23:59:00.000000Z | 60.0 s, 1440 samples\n",
      " -> stored stream as: 2023/BW/WETR/BDO.D/BW.WETR..BDO.D.2023.339\n",
      "1 Trace(s) in Stream:\n",
      "BW.WETR..BDO | 2023-12-06T00:00:00.000000Z - 2023-12-06T23:59:00.000000Z | 60.0 s, 1440 samples\n",
      " -> stored stream as: 2023/BW/WETR/BDO.D/BW.WETR..BDO.D.2023.340\n",
      "1 Trace(s) in Stream:\n",
      "BW.WETR..BDO | 2023-12-07T00:00:00.000000Z - 2023-12-07T23:59:00.000000Z | 60.0 s, 1440 samples\n",
      " -> stored stream as: 2023/BW/WETR/BDO.D/BW.WETR..BDO.D.2023.341\n",
      "1 Trace(s) in Stream:\n",
      "BW.WETR..BDO | 2023-12-08T00:00:00.000000Z - 2023-12-08T23:59:00.000000Z | 60.0 s, 1440 samples\n",
      " -> stored stream as: 2023/BW/WETR/BDO.D/BW.WETR..BDO.D.2023.342\n",
      "1 Trace(s) in Stream:\n",
      "BW.WETR..BDO | 2023-12-09T00:00:00.000000Z - 2023-12-09T23:59:00.000000Z | 60.0 s, 1440 samples\n",
      " -> stored stream as: 2023/BW/WETR/BDO.D/BW.WETR..BDO.D.2023.343\n",
      "1 Trace(s) in Stream:\n",
      "BW.WETR..BDO | 2023-12-10T00:00:00.000000Z - 2023-12-10T23:59:00.000000Z | 60.0 s, 1440 samples\n",
      " -> stored stream as: 2023/BW/WETR/BDO.D/BW.WETR..BDO.D.2023.344\n",
      "1 Trace(s) in Stream:\n",
      "BW.WETR..BDO | 2023-12-11T00:00:00.000000Z - 2023-12-11T23:59:00.000000Z | 60.0 s, 1440 samples\n",
      " -> stored stream as: 2023/BW/WETR/BDO.D/BW.WETR..BDO.D.2023.345\n",
      "1 Trace(s) in Stream:\n",
      "BW.WETR..BDO | 2023-12-12T00:00:00.000000Z - 2023-12-12T23:59:00.000000Z | 60.0 s, 1440 samples\n",
      " -> stored stream as: 2023/BW/WETR/BDO.D/BW.WETR..BDO.D.2023.346\n",
      "1 Trace(s) in Stream:\n",
      "BW.WETR..BDO | 2023-12-13T00:00:00.000000Z - 2023-12-13T23:59:00.000000Z | 60.0 s, 1440 samples\n",
      " -> stored stream as: 2023/BW/WETR/BDO.D/BW.WETR..BDO.D.2023.347\n",
      "1 Trace(s) in Stream:\n",
      "BW.WETR..BDO | 2023-12-14T00:00:00.000000Z - 2023-12-14T23:59:00.000000Z | 60.0 s, 1440 samples\n",
      " -> stored stream as: 2023/BW/WETR/BDO.D/BW.WETR..BDO.D.2023.348\n",
      "1 Trace(s) in Stream:\n",
      "BW.WETR..BDO | 2023-12-15T00:00:00.000000Z - 2023-12-15T23:59:00.000000Z | 60.0 s, 1440 samples\n",
      " -> stored stream as: 2023/BW/WETR/BDO.D/BW.WETR..BDO.D.2023.349\n",
      "1 Trace(s) in Stream:\n",
      "BW.WETR..BDO | 2023-12-16T00:00:00.000000Z - 2023-12-16T23:59:00.000000Z | 60.0 s, 1440 samples\n",
      " -> stored stream as: 2023/BW/WETR/BDO.D/BW.WETR..BDO.D.2023.350\n",
      "1 Trace(s) in Stream:\n",
      "BW.WETR..BDO | 2023-12-17T00:00:00.000000Z - 2023-12-17T23:59:00.000000Z | 60.0 s, 1440 samples\n",
      " -> stored stream as: 2023/BW/WETR/BDO.D/BW.WETR..BDO.D.2023.351\n",
      "1 Trace(s) in Stream:\n",
      "BW.WETR..BDO | 2023-12-18T00:00:00.000000Z - 2023-12-18T23:59:00.000000Z | 60.0 s, 1440 samples\n",
      " -> stored stream as: 2023/BW/WETR/BDO.D/BW.WETR..BDO.D.2023.352\n",
      "1 Trace(s) in Stream:\n",
      "BW.WETR..BDO | 2023-12-19T00:00:00.000000Z - 2023-12-19T23:59:00.000000Z | 60.0 s, 1440 samples\n",
      " -> stored stream as: 2023/BW/WETR/BDO.D/BW.WETR..BDO.D.2023.353\n",
      "1 Trace(s) in Stream:\n",
      "BW.WETR..BDO | 2023-12-20T00:00:00.000000Z - 2023-12-20T23:59:00.000000Z | 60.0 s, 1440 samples\n",
      " -> stored stream as: 2023/BW/WETR/BDO.D/BW.WETR..BDO.D.2023.354\n",
      "1 Trace(s) in Stream:\n",
      "BW.WETR..BDO | 2023-12-21T00:00:00.000000Z - 2023-12-21T23:59:00.000000Z | 60.0 s, 1440 samples\n",
      " -> stored stream as: 2023/BW/WETR/BDO.D/BW.WETR..BDO.D.2023.355\n",
      "1 Trace(s) in Stream:\n",
      "BW.WETR..BDO | 2023-12-22T00:00:00.000000Z - 2023-12-22T23:59:00.000000Z | 60.0 s, 1440 samples\n",
      " -> stored stream as: 2023/BW/WETR/BDO.D/BW.WETR..BDO.D.2023.356\n",
      "1 Trace(s) in Stream:\n",
      "BW.WETR..BDO | 2023-12-23T00:00:00.000000Z - 2023-12-23T23:59:00.000000Z | 60.0 s, 1440 samples\n",
      " -> stored stream as: 2023/BW/WETR/BDO.D/BW.WETR..BDO.D.2023.357\n",
      "1 Trace(s) in Stream:\n",
      "BW.WETR..BDO | 2023-12-24T00:00:00.000000Z - 2023-12-24T23:59:00.000000Z | 60.0 s, 1440 samples\n",
      " -> stored stream as: 2023/BW/WETR/BDO.D/BW.WETR..BDO.D.2023.358\n",
      "1 Trace(s) in Stream:\n",
      "BW.WETR..BDO | 2023-12-25T00:00:00.000000Z - 2023-12-25T23:59:00.000000Z | 60.0 s, 1440 samples\n",
      " -> stored stream as: 2023/BW/WETR/BDO.D/BW.WETR..BDO.D.2023.359\n",
      "1 Trace(s) in Stream:\n",
      "BW.WETR..BDO | 2023-12-26T00:00:00.000000Z - 2023-12-26T23:59:00.000000Z | 60.0 s, 1440 samples\n",
      " -> stored stream as: 2023/BW/WETR/BDO.D/BW.WETR..BDO.D.2023.360\n",
      "1 Trace(s) in Stream:\n",
      "BW.WETR..BDO | 2023-12-27T00:00:00.000000Z - 2023-12-27T23:59:00.000000Z | 60.0 s, 1440 samples\n",
      " -> stored stream as: 2023/BW/WETR/BDO.D/BW.WETR..BDO.D.2023.361\n",
      "1 Trace(s) in Stream:\n",
      "BW.WETR..BDO | 2023-12-28T00:00:00.000000Z - 2023-12-28T23:59:00.000000Z | 60.0 s, 1440 samples\n",
      " -> stored stream as: 2023/BW/WETR/BDO.D/BW.WETR..BDO.D.2023.362\n",
      "1 Trace(s) in Stream:\n",
      "BW.WETR..BDO | 2023-12-29T00:00:00.000000Z - 2023-12-29T23:59:00.000000Z | 60.0 s, 1440 samples\n",
      " -> stored stream as: 2023/BW/WETR/BDO.D/BW.WETR..BDO.D.2023.363\n",
      "1 Trace(s) in Stream:\n",
      "BW.WETR..BDO | 2023-12-30T00:00:00.000000Z - 2023-12-30T23:59:00.000000Z | 60.0 s, 1440 samples\n",
      " -> stored stream as: 2023/BW/WETR/BDO.D/BW.WETR..BDO.D.2023.364\n",
      "1 Trace(s) in Stream:\n",
      "BW.WETR..BDO | 2023-12-31T00:00:00.000000Z - 2023-12-31T23:59:00.000000Z | 60.0 s, 1440 samples\n",
      " -> stored stream as: 2023/BW/WETR/BDO.D/BW.WETR..BDO.D.2023.365\n"
     ]
    }
   ],
   "source": [
    "for datetime in pd.date_range(str(st[0].stats.starttime.date), str(st[0].stats.endtime.date)):\n",
    "    st_out = st.copy()\n",
    "    st_out.trim(obs.UTCDateTime(datetime), obs.UTCDateTime(datetime)+86400-Tdelta)\n",
    "    print(st_out)\n",
    "    __write_stream_to_sds(st_out, path_to_data)"
   ]
  },
  {
   "cell_type": "code",
   "execution_count": 16,
   "id": "e688f9fb-ecab-4318-8e37-c43e129ad834",
   "metadata": {
    "tags": []
   },
   "outputs": [],
   "source": [
    "from andbro__read_sds import __read_sds"
   ]
  },
  {
   "cell_type": "code",
   "execution_count": 73,
   "id": "8266d0f3-db22-4c11-b616-074178405d3c",
   "metadata": {
    "tags": []
   },
   "outputs": [],
   "source": [
    "tbeg, tend = obs.UTCDateTime(\"2023-12-31 00:00\"), obs.UTCDateTime(\"2023-12-31 01:00\")\n",
    "\n",
    "rlas = __read_sds(archive_path+\"romy_archive\", \"BW.RLAS..BJZ\", tbeg, tend)\n",
    "wetr = __read_sds(data_path+\"LNM2/data/wettzell/\", \"BW.WETR..BDO\", tbeg, tend)"
   ]
  },
  {
   "cell_type": "code",
   "execution_count": 74,
   "id": "e19ea6b0-02cc-4f36-85fa-fcc9561e98f7",
   "metadata": {
    "tags": []
   },
   "outputs": [
    {
     "data": {
      "image/png": "[encoded data removed]",
      "text/plain": [
       "<Figure size 800x250 with 1 Axes>"
      ]
     },
     "metadata": {},
     "output_type": "display_data"
    },
    {
     "data": {
      "image/png": "[encoded data removed]",
      "text/plain": [
       "<Figure size 800x250 with 1 Axes>"
      ]
     },
     "metadata": {},
     "output_type": "display_data"
    }
   ],
   "source": [
    "wetr.plot();\n",
    "\n",
    "wetr.detrend(\"linear\").detrend(\"demean\")\n",
    "wetr.taper(0.05)\n",
    "\n",
    "wetr.plot();\n"
   ]
  },
  {
   "cell_type": "code",
   "execution_count": 75,
   "id": "a80b7773-19c6-435f-9a63-f3f1cbd9a7cd",
   "metadata": {
    "tags": []
   },
   "outputs": [
    {
     "data": {
      "image/png": "[encoded data removed]",
      "text/plain": [
       "<Figure size 800x250 with 1 Axes>"
      ]
     },
     "metadata": {},
     "output_type": "display_data"
    },
    {
     "data": {
      "image/png": "[encoded data removed]",
      "text/plain": [
       "<Figure size 800x250 with 1 Axes>"
      ]
     },
     "metadata": {},
     "output_type": "display_data"
    }
   ],
   "source": [
    "\n",
    "wetr.filter(\"lowpass\", freq=0.005, corners=4, zerophase=True)\n",
    "# wetr.filter(\"bandpass\", freqmin=5e-4, freqmax=0.005, corners=4, zerophase=True)\n",
    "\n",
    "wetr.plot();\n",
    "\n",
    "wetr.resample(0.01, no_filter=True)\n",
    "\n",
    "wetr.plot();\n"
   ]
  },
  {
   "cell_type": "code",
   "execution_count": null,
   "id": "328ffdaf-a223-46b0-bba9-9a422b302df8",
   "metadata": {
    "tags": []
   },
   "outputs": [],
   "source": []
  },
  {
   "cell_type": "code",
   "execution_count": null,
   "id": "6416d1bc-085a-420d-a18c-738c7d2b437a",
   "metadata": {},
   "outputs": [],
   "source": []
  }
 ],
 "metadata": {
  "kernelspec": {
   "display_name": "Python 3 (ipykernel)",
   "language": "python",
   "name": "python3"
  },
  "language_info": {
   "codemirror_mode": {
    "name": "ipython",
    "version": 3
   },
   "file_extension": ".py",
   "mimetype": "text/x-python",
   "name": "python",
   "nbconvert_exporter": "python",
   "pygments_lexer": "ipython3",
   "version": "3.10.12"
  }
 },
 "nbformat": 4,
 "nbformat_minor": 5
}
