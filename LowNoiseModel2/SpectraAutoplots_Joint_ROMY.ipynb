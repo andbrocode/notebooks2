{
 "cells": [
  {
   "cell_type": "markdown",
   "id": "eda030d3",
   "metadata": {},
   "source": [
    "# Hourly PSDS - FFBI & ROMY"
   ]
  },
  {
   "cell_type": "markdown",
   "id": "protected-presentation",
   "metadata": {},
   "source": [
    "## Load Libraries"
   ]
  },
  {
   "cell_type": "code",
   "execution_count": 1,
   "id": "behind-arrangement",
   "metadata": {
    "ExecuteTime": {
     "end_time": "2023-08-07T14:54:03.050940Z",
     "start_time": "2023-08-07T14:54:00.312331Z"
    },
    "tags": []
   },
   "outputs": [],
   "source": [
    "from obspy import UTCDateTime\n",
    "from scipy.signal import welch\n",
    "from numpy import log10, zeros, pi, append, linspace, mean, median, array, where, transpose, shape, histogram, arange\n",
    "from numpy import logspace, linspace, log, log10, isinf, ones, nan, count_nonzero, sqrt, isnan\n",
    "from pandas import DataFrame, concat, Series, date_range, read_csv, read_pickle\n",
    "from tqdm import tqdm\n",
    "from pathlib import Path\n",
    "\n",
    "import os, sys\n",
    "import pickle\n",
    "import matplotlib.pyplot as plt\n",
    "\n",
    "from functions.get_fband_average import __get_fband_average"
   ]
  },
  {
   "cell_type": "code",
   "execution_count": 2,
   "id": "f337911b",
   "metadata": {
    "ExecuteTime": {
     "end_time": "2023-08-07T14:54:03.147385Z",
     "start_time": "2023-08-07T14:54:03.133998Z"
    },
    "tags": []
   },
   "outputs": [],
   "source": [
    "if os.uname().nodename == 'lighthouse':\n",
    "    root_path = '/home/andbro/'\n",
    "    data_path = '/home/andbro/kilauea-data/'\n",
    "    archive_path = '/home/andbro/freenas/'\n",
    "    bay_path = '/home/andbro/bay200/'\n",
    "elif os.uname().nodename == 'kilauea':\n",
    "    root_path = '/home/brotzer/'\n",
    "    data_path = '/import/kilauea-data/'\n",
    "    archive_path = '/import/freenas-ffb-01-data/'\n",
    "    bay_path = '/bay200/'\n",
    "elif os.uname().nodename == 'lin-ffb-01':\n",
    "    root_path = '/home/brotzer/'\n",
    "    data_path = '/import/kilauea-data/'\n",
    "    archive_path = '/import/freenas-ffb-01-data/'\n",
    "    bay_path = '/bay200/'"
   ]
  },
  {
   "cell_type": "markdown",
   "id": "subject-expression",
   "metadata": {},
   "source": [
    "## Configurations"
   ]
  },
  {
   "cell_type": "code",
   "execution_count": 3,
   "id": "d365e8e0-a71e-4f0b-9961-89d24266d47d",
   "metadata": {
    "tags": []
   },
   "outputs": [],
   "source": [
    "config = {}\n",
    "\n",
    "\n",
    "config['d1'], config['d2'] = \"2023-09-23\", \"2023-12-31\"\n",
    "\n",
    "config['path_to_data'] = data_path+f\"LNM2/PSDS/\"\n",
    "\n",
    "config['outpath_figures'] = data_path+f\"LNM2/figures/\"\n",
    "\n",
    "config['frequency_limits'] = 1e-3, 1e1\n"
   ]
  },
  {
   "cell_type": "markdown",
   "id": "natural-beginning",
   "metadata": {},
   "source": [
    "## Methods"
   ]
  },
  {
   "cell_type": "code",
   "execution_count": 4,
   "id": "396e24f9",
   "metadata": {
    "ExecuteTime": {
     "end_time": "2023-08-07T14:54:03.071147Z",
     "start_time": "2023-08-07T14:54:03.055673Z"
    },
    "code_folding": [
     0
    ],
    "tags": []
   },
   "outputs": [],
   "source": [
    "def __get_median_psd(psds):\n",
    "\n",
    "    from numpy import median, zeros, isnan\n",
    "\n",
    "    med_psd = zeros(psds.shape[1])\n",
    "\n",
    "    for f in range(psds.shape[1]):\n",
    "        a = psds[:,f]\n",
    "        med_psd[f] = median(a[~isnan(a)])\n",
    "\n",
    "    return med_psd"
   ]
  },
  {
   "cell_type": "code",
   "execution_count": 5,
   "id": "e8453ee6",
   "metadata": {
    "ExecuteTime": {
     "end_time": "2023-08-07T15:31:56.944115Z",
     "start_time": "2023-08-07T15:31:56.941146Z"
    },
    "code_folding": [
     0
    ],
    "tags": []
   },
   "outputs": [],
   "source": [
    "def __filter_psds(psds, thresholds):\n",
    "\n",
    "    from numpy import mean, array\n",
    "\n",
    "    psds_filtered = []\n",
    "        ## filter mean psds values\n",
    "#         m_psd = mean(psd)\n",
    "#         if m_psd > thresholds[0] and m_psd < thresholds[1]:\n",
    "#             psds_filtered.append(psd)\n",
    "\n",
    "    ## filter for periods larger than 20 seconds\n",
    "    if mean(psd[0:63]) < thresholds[0]:\n",
    "        psds_filtered.append(psd)\n",
    "\n",
    "    print(f\" -> removed {len(psds)- len(psds_filtered)} of {len(psds)} psds due to thresholds: {thresholds[0]} & {thresholds[1]}\")\n",
    "    return array(psds_filtered)"
   ]
  },
  {
   "cell_type": "code",
   "execution_count": 6,
   "id": "f9df50f3",
   "metadata": {
    "ExecuteTime": {
     "end_time": "2023-08-07T15:31:57.879707Z",
     "start_time": "2023-08-07T15:31:57.876935Z"
    },
    "code_folding": [
     0
    ],
    "tags": []
   },
   "outputs": [],
   "source": [
    "def __cut_frequencies_array(arr, freqs, fmin, fmax):\n",
    "\n",
    "    ind = []\n",
    "    for i, f in enumerate(freqs):\n",
    "        if f >= fmin and f <= fmax:\n",
    "            ind.append(i)\n",
    "\n",
    "    ff = freqs[ind[0]:ind[-1]]\n",
    "    pp = arr[:,ind[0]:ind[-1]]\n",
    "\n",
    "    return pp, ff"
   ]
  },
  {
   "cell_type": "code",
   "execution_count": 7,
   "id": "cf7921ed",
   "metadata": {
    "ExecuteTime": {
     "end_time": "2023-08-07T15:31:58.162502Z",
     "start_time": "2023-08-07T15:31:58.157201Z"
    },
    "code_folding": [
     0
    ],
    "tags": []
   },
   "outputs": [],
   "source": [
    "def __replace_noisy_psds_with_nan(arr, threshold_mean=1e-16, ff=None, flim=None):\n",
    "\n",
    "    from numpy import delete, shape, sort, array, ones, nan, nanmean, array\n",
    "\n",
    "    idx_min = 0\n",
    "    idx_max = arr.shape[1]-1\n",
    "\n",
    "    if flim is not None and ff is not None:\n",
    "        for n, f in enumerate(ff):\n",
    "            if f > flim[0]:\n",
    "                if n == 0:\n",
    "                    idx_min = 0\n",
    "                else:\n",
    "                    idx_min = n-1\n",
    "                break\n",
    "        for n, f in enumerate(ff):\n",
    "            if f > flim[1]:\n",
    "                idx_max = n\n",
    "                break\n",
    "\n",
    "    l1 = shape(arr)[0]\n",
    "\n",
    "    rejected = []\n",
    "    for ii in range(shape(arr)[0]):\n",
    "\n",
    "        ## appy upper threshold\n",
    "        if ff is not None:\n",
    "            if nanmean(arr[ii, idx_min:idx_max]) > threshold_mean:\n",
    "                rejected.append(arr[ii, :])\n",
    "                arr[ii, :] = ones(shape(arr)[1]) * nan\n",
    "\n",
    "\n",
    "    l2 = len(rejected)\n",
    "\n",
    "    print(f\" -> removed {l1-l2} rows due to mean thresholds ({round(ff[idx_min],4)} and {round(ff[idx_max],4)} Hz)!\")\n",
    "    print(f\" -> {l2} / {l1} psds removed\")\n",
    "\n",
    "    return arr, array(rejected)"
   ]
  },
  {
   "cell_type": "code",
   "execution_count": 8,
   "id": "65aeee3e-9810-4ffa-9db8-eed9e08bb878",
   "metadata": {
    "tags": []
   },
   "outputs": [],
   "source": [
    "def __makeplot_colorlines_overview(config, ff, psds, rejected, names, day, show_rejected=True):\n",
    "\n",
    "    from tqdm.notebook import tqdm\n",
    "    from numpy import isnan, median, mean, std, array, zeros\n",
    "    from scipy.stats import median_abs_deviation as mad\n",
    "\n",
    "#     psds_median = __get_median_psd(array(psds))\n",
    "#     psds_minimal = __get_minimal_psd(array(psds))\n",
    "#     psds_minimum = __get_minimum_psd(array(psds), ff)\n",
    "\n",
    "\n",
    "    # ## convert frequencies to periods\n",
    "    # pp=[]\n",
    "    # for mm in range(len(ff)):\n",
    "    #     ppp = zeros(len(ff[mm]))\n",
    "    #     ppp = 1/ff[mm]\n",
    "    #     pp.append(ppp)\n",
    "\n",
    "\n",
    "    ##____________________________\n",
    "\n",
    "    NN = 5\n",
    "\n",
    "    fig, axes = plt.subplots(NN, 1, figsize=(12, 12), sharey=False, sharex=True)\n",
    "\n",
    "    plt.subplots_adjust(hspace=0.1)\n",
    "\n",
    "    font = 14\n",
    "\n",
    "    N = 24\n",
    "\n",
    "    colors = plt.cm.rainbow(linspace(0, 1, N))\n",
    "    cmap = plt.get_cmap('rainbow', 24)\n",
    "\n",
    "\n",
    "    for j in range(NN):\n",
    "\n",
    "        try:\n",
    "            for n, psd in enumerate(psds[j]):\n",
    "                axes[j].loglog(ff[j], psd, color=colors[n], alpha=0.7)\n",
    "                p2 = axes[j].scatter(ff[j][0], psd[0], s=0., c=n/N, cmap=cmap, vmin=0, vmax=N, zorder=3)\n",
    "\n",
    "            if show_rejected:\n",
    "                for reject in rejected[j]:\n",
    "                     axes[j].loglog(ff[j], reject, color='grey', alpha=0.6, zorder=2)\n",
    "        except:\n",
    "            pass\n",
    "\n",
    "        axes[j].loglog(ff[j], __get_median_psd(psds[j]), 'black', zorder=3, alpha=0.6, label=\"Median\")\n",
    "\n",
    "        axes[NN-2].loglog(baro_lnm['frequency'], baro_lnm['nlnm_baro'], color=\"grey\", ls=\"--\", alpha=0.8)\n",
    "        axes[NN-2].loglog(baro_lnm['frequency'], baro_lnm['nhnm_baro'], color=\"grey\", ls=\"--\", alpha=0.8)\n",
    "\n",
    "        axes[NN-1].loglog(baro_lnm['frequency'], baro_lnm['nlnm_baro'], color=\"grey\", ls=\"--\", alpha=0.8)\n",
    "        axes[NN-1].loglog(baro_lnm['frequency'], baro_lnm['nhnm_baro'], color=\"grey\", ls=\"--\", alpha=0.8)\n",
    "\n",
    "        axes[j].set_xlim(1e-3, 2e0)\n",
    "        axes[j].grid(True, which=\"both\", ls=\"-\", alpha=0.5)\n",
    "        axes[j].legend(loc='lower left')\n",
    "        axes[j].tick_params(labelsize=font-2)\n",
    "\n",
    "    ## limits of sensor noise\n",
    "    # freq = arange(0.0001, 1, 0.001)\n",
    "    # plim1 = 0.1**2 * ones(len(freq)) / 12 / (0.5*0.1) ## resolution = 0.1 hPa @ 0.1Hz sampling\n",
    "    # plim2 = 0.1**2 * ones(len(freq)) / 12/ (0.5*1.0) ## resolution = 0.1 hPa @ 0.1Hz sampling\n",
    "\n",
    "    # plim1_1 = 0.1**2 * ones(len(freq)) / (0.5*0.1) ## resolution = 0.1 hPa @ 0.1Hz sampling\n",
    "    # plim2_1 = 0.1**2 * ones(len(freq)) / (0.5*1.0) ## resolution = 0.1 hPa @ 0.1Hz sampling\n",
    "\n",
    "    # axes[1].loglog(freq, plim1, color=\"black\", ls=\"--\", zorder=4, alpha=0.7)\n",
    "    # axes[2].loglog(freq, plim2, color=\"black\", ls=\"--\", zorder=4, alpha=0.7)\n",
    "\n",
    "    # axes[1].loglog(freq, plim1_1, color=\"black\", ls=\":\", zorder=4, alpha=0.7)\n",
    "    # axes[2].loglog(freq, plim2_1, color=\"black\", ls=\":\", zorder=4, alpha=0.7)\n",
    "\n",
    "    axes[0].plot(df_models.frequencies, df_models.nlnm_rot_rate, color=\"k\", ls=\"--\", alpha=0.6)\n",
    "    axes[1].plot(df_models.frequencies, df_models.nlnm_rot_rate, color=\"k\", ls=\"--\", alpha=0.6)\n",
    "    axes[2].plot(df_models.frequencies, df_models.nlnm_rot_rate, color=\"k\", ls=\"--\", alpha=0.6)\n",
    "\n",
    "    axes[NN-1].set_xlabel(\"Frequency (Hz)\", fontsize=font, labelpad=-1)\n",
    "\n",
    "    ## panel labels\n",
    "    axes[0].text(.01, .95, '(a)', ha='left', va='top', transform=axes[0].transAxes, fontsize=font)\n",
    "    axes[1].text(.01, .95, '(b)', ha='left', va='top', transform=axes[1].transAxes, fontsize=font)\n",
    "    axes[2].text(.01, .95, '(c)', ha='left', va='top', transform=axes[2].transAxes, fontsize=font)\n",
    "    axes[3].text(.01, .95, '(d)', ha='left', va='top', transform=axes[3].transAxes, fontsize=font)\n",
    "    axes[4].text(.01, .95, '(e)', ha='left', va='top', transform=axes[4].transAxes, fontsize=font)\n",
    "\n",
    "    sta, cha = names[0].split(\"_\")[-2], names[0].split(\"_\")[-1]\n",
    "    axes[0].text(.05, .95, f'{sta}.{cha}', ha='left', va='top', transform=axes[0].transAxes, fontsize=font)\n",
    "\n",
    "    sta, cha = names[1].split(\"_\")[-2], names[1].split(\"_\")[-1]\n",
    "    axes[1].text(.05, .95, f'{sta}.{cha}', ha='left', va='top', transform=axes[1].transAxes, fontsize=font)\n",
    "\n",
    "    sta, cha = names[2].split(\"_\")[-2], names[2].split(\"_\")[-1]\n",
    "    axes[2].text(.05, .95, f'{sta}.{cha}', ha='left', va='top', transform=axes[2].transAxes, fontsize=font)\n",
    "\n",
    "    sta, cha = names[3].split(\"_\")[-2], names[3].split(\"_\")[-1]\n",
    "    axes[3].text(.05, .95, f'{sta}.{cha}', ha='left', va='top', transform=axes[3].transAxes, fontsize=font)\n",
    "\n",
    "    sta, cha = names[4].split(\"_\")[-2], names[4].split(\"_\")[-1]\n",
    "    axes[4].text(.05, .95, f'{sta}.{cha}', ha='left', va='top', transform=axes[4].transAxes, fontsize=font)\n",
    "\n",
    "    axes[0].set_title(day, fontsize=font+2)\n",
    "\n",
    "    axes[0].set_ylim(bottom=1e-23, top=1e-17)\n",
    "    axes[1].set_ylim(bottom=1e-23, top=1e-17)\n",
    "    axes[2].set_ylim(bottom=1e-23, top=1e-17)\n",
    "    axes[3].set_ylim(bottom=1e-6, top=1e6)\n",
    "    axes[4].set_ylim(bottom=1e-6, top=1e6)\n",
    "\n",
    "    axes[0].set_ylabel(r\"PSD (rad$^2$/s$^2$/Hz)\", fontsize=font)\n",
    "    axes[1].set_ylabel(r\"PSD (rad$^2$/s$^2$/Hz)\", fontsize=font)\n",
    "    axes[2].set_ylabel(r\"PSD (rad$^2$/s$^2$/Hz)\", fontsize=font)\n",
    "    axes[3].set_ylabel(r\"PSD (Pa$^2$/Hz)\", fontsize=font)\n",
    "    axes[4].set_ylabel(r\"PSD (Pa$^2$/Hz)\", fontsize=font)\n",
    "\n",
    "    ## set colorbar at bottom\n",
    "    cbar = fig.colorbar(p2, orientation='vertical', ax=axes.ravel().tolist(), aspect=50, pad=-1e-5, ticks=arange(1,N,2))\n",
    "\n",
    "\n",
    "    plt.show();\n",
    "    return fig"
   ]
  },
  {
   "cell_type": "code",
   "execution_count": 9,
   "id": "32bbb65f-be14-4a67-b49f-efb2eace1d95",
   "metadata": {
    "tags": []
   },
   "outputs": [],
   "source": [
    "from functions.get_fband_averages import __get_fband_averages"
   ]
  },
  {
   "cell_type": "markdown",
   "id": "3cff2634",
   "metadata": {},
   "source": [
    "## RUN for all files "
   ]
  },
  {
   "cell_type": "code",
   "execution_count": 10,
   "id": "c824ef59-1498-405d-8dea-2330a5413237",
   "metadata": {
    "tags": []
   },
   "outputs": [],
   "source": [
    "baro_lnm = read_csv(data_path+f\"LNM2/data/\"+\"baro_nlnm_nhnm.csv\")\n",
    "\n",
    "baro_lnm['nlnm_baro'] = 10**(baro_lnm['nlnm_baro_db']/10)\n",
    "baro_lnm['nhnm_baro'] = 10**(baro_lnm['nhnm_baro_db']/10)"
   ]
  },
  {
   "cell_type": "code",
   "execution_count": 11,
   "id": "5c849ed0-6ec0-4031-986f-1a1fb29a0379",
   "metadata": {},
   "outputs": [],
   "source": [
    "df_models = read_csv(data_path+\"LNM/data/FINAL/\"+\"TLNM_to_RLNM.csv\")"
   ]
  },
  {
   "cell_type": "code",
   "execution_count": null,
   "id": "f3822839",
   "metadata": {
    "ExecuteTime": {
     "end_time": "2023-08-07T16:31:13.609975Z",
     "start_time": "2023-08-07T16:23:41.306613Z"
    },
    "tags": []
   },
   "outputs": [
    {
     "name": "stdout",
     "output_type": "stream",
     "text": [
      " -> removed 24 rows due to mean thresholds (0.0019 and 0.0101 Hz)!\n",
      " -> 0 / 24 psds removed\n"
     ]
    },
    {
     "name": "stderr",
     "output_type": "stream",
     "text": [
      "/tmp/ipykernel_1465604/193466075.py:28: RuntimeWarning: Mean of empty slice\n",
      "  if nanmean(arr[ii, idx_min:idx_max]) > threshold_mean:\n"
     ]
    },
    {
     "name": "stdout",
     "output_type": "stream",
     "text": [
      " -> removed 18 rows due to mean thresholds (0.0019 and 0.0101 Hz)!\n",
      " -> 6 / 24 psds removed\n"
     ]
    },
    {
     "name": "stderr",
     "output_type": "stream",
     "text": [
      "/home/andbro/notebooks/LowNoiseModel2/functions/get_fband_average.py:100: RuntimeWarning: All-NaN slice encountered\n",
      "  psd_average.append(nanmedian(psd[ifl:ifu]))\n",
      "/tmp/ipykernel_1465604/193466075.py:28: RuntimeWarning: Mean of empty slice\n",
      "  if nanmean(arr[ii, idx_min:idx_max]) > threshold_mean:\n"
     ]
    },
    {
     "name": "stdout",
     "output_type": "stream",
     "text": [
      " -> removed 18 rows due to mean thresholds (0.0019 and 0.0101 Hz)!\n",
      " -> 6 / 24 psds removed\n"
     ]
    },
    {
     "name": "stderr",
     "output_type": "stream",
     "text": [
      "/home/andbro/notebooks/LowNoiseModel2/functions/get_fband_average.py:100: RuntimeWarning: All-NaN slice encountered\n",
      "  psd_average.append(nanmedian(psd[ifl:ifu]))\n"
     ]
    },
    {
     "name": "stdout",
     "output_type": "stream",
     "text": [
      " -> removed 24 rows due to mean thresholds (0.0 and 4.9999 Hz)!\n",
      " -> 0 / 24 psds removed\n"
     ]
    },
    {
     "name": "stderr",
     "output_type": "stream",
     "text": [
      "/tmp/ipykernel_1465604/193466075.py:28: RuntimeWarning: Mean of empty slice\n",
      "  if nanmean(arr[ii, idx_min:idx_max]) > threshold_mean:\n"
     ]
    },
    {
     "name": "stdout",
     "output_type": "stream",
     "text": [
      " -> removed 24 rows due to mean thresholds (0.0 and 4.9999 Hz)!\n",
      " -> 0 / 24 psds removed\n"
     ]
    }
   ],
   "source": [
    "\n",
    "psds_medians_out, times_out = [], []\n",
    "\n",
    "rejected_dat1, rejected_dat2, rejected_dat3, rejected_dat4, rejected_dat5 = [], [], [], [], []\n",
    "\n",
    "for _i, day in enumerate(date_range(config['d1'], config['d2'])):\n",
    "\n",
    "    day = str(day).split(\" \")[0].replace(\"-\", \"\")\n",
    "\n",
    "    config['outpath_figname'] = \"joint_\"+day\n",
    "\n",
    "    if _i > 3:\n",
    "        continue\n",
    "\n",
    "    # if os.path.isfile(config['outpath_figures']+config['outpath_figname']):\n",
    "    #     print(f\" -> skipping {config['outpath_figname']} ...\")\n",
    "    #     continue\n",
    "\n",
    "\n",
    "    try:\n",
    "\n",
    "\n",
    "        ## Data1 --------------------------\n",
    "        name1 = \"ROMY/2023_ROMY_BJZ\"\n",
    "\n",
    "        out = read_pickle(config['path_to_data']+f\"{name1}_3600_{day}_hourly.pkl\")\n",
    "        ff1, dat1 = out['frequencies'], out['psd']\n",
    "\n",
    "        dat1, rejected_dat1 = __replace_noisy_psds_with_nan(dat1, threshold_mean=1e-19, ff=ff1, flim=[0.002, 0.01])\n",
    "        # dat1, ff1 = __cut_frequencies_array(dat1, ff1, config['frequency_limits'][0], config['frequency_limits'][1])\n",
    "        ff1, dat1 = __get_fband_averages(ff1, dat1)\n",
    "\n",
    "        ## Data2 --------------------------\n",
    "        name2 = \"ROMY/2023_ROMY_BJN\"\n",
    "\n",
    "        out = read_pickle(config['path_to_data']+f\"{name2}_3600_{day}_hourly.pkl\")\n",
    "        ff2, dat2 = out['frequencies'], out['psd']\n",
    "\n",
    "        dat2, rejected_dat2 = __replace_noisy_psds_with_nan(dat2, threshold_mean=5e-19, ff=ff2, flim=[0.002, 0.01])\n",
    "        # dat2, ff2 = __cut_frequencies_array(dat2, ff2, config['frequency_limits'][0], config['frequency_limits'][1])\n",
    "        ff2, dat2 = __get_fband_averages(ff2, dat2)\n",
    "\n",
    "\n",
    "        ## Data3 --------------------------\n",
    "        name3 = \"ROMY/2023_ROMY_BJE\"\n",
    "\n",
    "        out = read_pickle(config['path_to_data']+f\"{name3}_3600_{day}_hourly.pkl\")\n",
    "        ff3, dat3 = out['frequencies'], out['psd']\n",
    "\n",
    "        dat3, rejected_dat3 = __replace_noisy_psds_with_nan(dat3, threshold_mean=5e-19, ff=ff3, flim=[0.002, 0.01])\n",
    "        # dat3, ff3 = __cut_frequencies_array(dat3, ff3, config['frequency_limits'][0], config['frequency_limits'][1])\n",
    "        ff3, dat3 = __get_fband_averages(ff3, dat3)\n",
    "\n",
    "\n",
    "        ## Data4 --------------------------\n",
    "        name4 = \"FFBI/2023_FFBI_BDF\"\n",
    "\n",
    "        out = read_pickle(config['path_to_data']+f\"{name4}_3600_{day}_hourly.pkl\")\n",
    "        ff4, dat4 = out['frequencies'], out['psd']\n",
    "\n",
    "        dat4, rejected_dat4 = __replace_noisy_psds_with_nan(dat4, threshold_mean=1e3, ff=ff4, flim=None)\n",
    "        # dat4, ff4 = __cut_frequencies_array(dat4, ff4, config['frequency_limits'][0], config['frequency_limits'][1])\n",
    "        ff4, dat4 = __get_fband_averages(ff4, dat4)\n",
    "\n",
    "\n",
    "        ## Data5 --------------------------\n",
    "        name5 = \"FFBI/2023_FFBI_BDO\"\n",
    "\n",
    "        out = read_pickle(config['path_to_data']+f\"{name5}_3600_{day}_hourly.pkl\")\n",
    "        ff5, dat5 = out['frequencies'], out['psd']\n",
    "\n",
    "        dat5, rejected_dat5 = __replace_noisy_psds_with_nan(dat5, threshold_mean=1e4, ff=ff5, flim=None)\n",
    "        # dat5, ff5 = __cut_frequencies_array(dat5, ff5, config['frequency_limits'][0], config['frequency_limits'][1])\n",
    "        ff5, dat5 = __get_fband_averages(ff5, dat5)\n",
    "\n",
    "\n",
    "    except Exception as e:\n",
    "        print(\" -> exception !\")\n",
    "        print(e)\n",
    "        continue\n",
    "\n",
    "\n",
    "    fig = __makeplot_colorlines_overview(config,\n",
    "                                         [ff1, ff2, ff3, ff4, ff5],\n",
    "                                         [dat1, dat2, dat3, dat4, dat5],\n",
    "                                         [rejected_dat1, rejected_dat2, rejected_dat3, rejected_dat4, rejected_dat5],\n",
    "                                         [name1, name2, name3, name4, name5],\n",
    "                                         day,\n",
    "                                         show_rejected=True)\n",
    "\n",
    "\n",
    "    app = f\"_{name1[-1]}{name2[-1]}{name3[-1]}\"\n",
    "\n",
    "    print(f\" -> saving: {config['outpath_figures']}{config['outpath_figname']}.png\")\n",
    "    fig.savefig(config['outpath_figures']+\"joint_ROMY/\"+config['outpath_figname']+f\"_ROMY{app}.png\", format=\"png\", transparent=False, bbox_inches='tight', dpi=150)\n"
   ]
  },
  {
   "cell_type": "code",
   "execution_count": 13,
   "id": "f516868f-9ef6-409a-ad23-fd5377d71264",
   "metadata": {},
   "outputs": [
    {
     "data": {
      "text/plain": [
       "0"
      ]
     },
     "execution_count": 13,
     "metadata": {},
     "output_type": "execute_result"
    }
   ],
   "source": [
    "os.system(\"\"\"spd-say \"Finished\" \"\"\")"
   ]
  },
  {
   "cell_type": "code",
   "execution_count": null,
   "id": "a51db4b1-0b0c-474d-b004-5ba7b82ccbb2",
   "metadata": {
    "tags": []
   },
   "outputs": [],
   "source": []
  },
  {
   "cell_type": "code",
   "execution_count": null,
   "id": "0c7e1471-9cb2-4840-afcc-ae469263d3fb",
   "metadata": {},
   "outputs": [],
   "source": []
  }
 ],
 "metadata": {
  "kernelspec": {
   "display_name": "Python 3 (ipykernel)",
   "language": "python",
   "name": "python3"
  },
  "language_info": {
   "codemirror_mode": {
    "name": "ipython",
    "version": 3
   },
   "file_extension": ".py",
   "mimetype": "text/x-python",
   "name": "python",
   "nbconvert_exporter": "python",
   "pygments_lexer": "ipython3",
   "version": "3.10.12"
  },
  "latex_envs": {
   "LaTeX_envs_menu_present": true,
   "autoclose": false,
   "autocomplete": true,
   "bibliofile": "biblio.bib",
   "cite_by": "apalike",
   "current_citInitial": 1,
   "eqLabelWithNumbers": true,
   "eqNumInitial": 1,
   "hotkeys": {
    "equation": "Ctrl-E",
    "itemize": "Ctrl-I"
   },
   "labels_anchors": false,
   "latex_user_defs": false,
   "report_style_numbering": false,
   "user_envs_cfg": false
  },
  "toc": {
   "base_numbering": 1,
   "nav_menu": {},
   "number_sections": true,
   "sideBar": true,
   "skip_h1_title": false,
   "title_cell": "Table of Contents",
   "title_sidebar": "Contents",
   "toc_cell": false,
   "toc_position": {},
   "toc_section_display": true,
   "toc_window_display": false
  },
  "varInspector": {
   "cols": {
    "lenName": 16,
    "lenType": 16,
    "lenVar": 40
   },
   "kernels_config": {
    "python": {
     "delete_cmd_postfix": "",
     "delete_cmd_prefix": "del ",
     "library": "var_list.py",
     "varRefreshCmd": "print(var_dic_list())"
    },
    "r": {
     "delete_cmd_postfix": ") ",
     "delete_cmd_prefix": "rm(",
     "library": "var_list.r",
     "varRefreshCmd": "cat(var_dic_list()) "
    }
   },
   "types_to_exclude": [
    "module",
    "function",
    "builtin_function_or_method",
    "instance",
    "_Feature"
   ],
   "window_display": false
  }
 },
 "nbformat": 4,
 "nbformat_minor": 5
}
