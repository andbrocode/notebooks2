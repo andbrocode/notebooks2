{
 "cells": [
  {
   "cell_type": "markdown",
   "id": "d9b61cd4",
   "metadata": {},
   "source": [
    "## PSD of BaroData"
   ]
  },
  {
   "cell_type": "code",
   "execution_count": 1,
   "id": "b1f4323b",
   "metadata": {
    "ExecuteTime": {
     "end_time": "2023-08-07T10:39:56.274325Z",
     "start_time": "2023-08-07T10:39:56.263933Z"
    },
    "tags": []
   },
   "outputs": [],
   "source": [
    "import matplotlib.pyplot as plt\n",
    "import pickle, os\n",
    "\n",
    "\n",
    "from andbro__querrySeismoData import __querrySeismoData\n",
    "from obspy import UTCDateTime, read, Stream, Trace\n",
    "from scipy.signal import welch\n",
    "from numpy import log10, zeros, append, linspace, mean, median, array, where, transpose, shape, histogram\n",
    "from pandas import DataFrame, concat, Series, date_range, to_pickle, read_csv\n",
    "from pathlib import Path\n",
    "from andbro__load_FURT_stream import __load_furt_stream\n",
    "\n",
    "import warnings\n",
    "warnings.filterwarnings('ignore')"
   ]
  },
  {
   "cell_type": "code",
   "execution_count": 2,
   "id": "3b56e9a4",
   "metadata": {
    "ExecuteTime": {
     "end_time": "2023-08-07T10:39:56.856701Z",
     "start_time": "2023-08-07T10:39:56.848988Z"
    },
    "tags": []
   },
   "outputs": [],
   "source": [
    "if os.uname().nodename == 'lighthouse':\n",
    "    root_path = '/home/andbro/'\n",
    "    data_path = '/home/andbro/kilauea-data/'\n",
    "    archive_path = '/home/andbro/freenas/'\n",
    "elif os.uname().nodename == 'kilauea':\n",
    "    root_path = '/home/brotzer/'\n",
    "    data_path = '/import/kilauea-data/'\n",
    "    archive_path = '/import/freenas-ffb-01-data/'"
   ]
  },
  {
   "cell_type": "markdown",
   "id": "50f57953-fb99-4905-a854-afd3d2b7c269",
   "metadata": {},
   "source": [
    "# IROMY DATA"
   ]
  },
  {
   "cell_type": "code",
   "execution_count": null,
   "id": "ecb07d41-9d27-48b9-b9b5-6385b8c81668",
   "metadata": {
    "tags": []
   },
   "outputs": [],
   "source": [
    "from andbro__read_sds import __read_sds\n",
    "from obspy import read_inventory\n",
    "\n",
    "## period to check data... one sided differential signals...\n",
    "# tbeg, tend = \"2023-08-13\",\"2023-08-20\"\n",
    "# st = __read_sds(\"/import/kilauea-data/LNM2/mb2000/sds/\", \"BW.IROMY..BD*\", tbeg, tend)\n",
    "\n",
    "\n",
    "tbeg, tend = \"2023-09-01\", \"2023-09-17\"\n",
    "st = __read_sds(\"/bay200/mseed_online/archive/\", \"BW.FFBI..BD*\", tbeg, tend)\n",
    "\n",
    "for tr in st:\n",
    "    if \"DF\" in tr.stats.channel:\n",
    "        tr.data = tr.data /1.0 /6.28099e5 /0.02  # gain=1 sensitivity_reftek=6.28099e5count/V; sensitivity_mb2005=0.02 V/Pa\n",
    "    elif \"DI\" in tr.stats.channel:\n",
    "        tr.data = tr.data /1.0 /6.28099e5 /1e-3  # gain=1 sensitivity_reftek=6.28099e5count/V; sensitivity = 1 mV/hPa\n",
    "    elif \"DO\" in tr.stats.channel:\n",
    "        tr.data = tr.data /1.0 /6.28099e5 /100e-3   # gain=1 sensitivity_reftek=6.28099e5count/V; sensitivity = 100 mV/hPa\n",
    "\n",
    "print(st)\n",
    "\n",
    "st.plot(equal_scale=False);"
   ]
  },
  {
   "cell_type": "code",
   "execution_count": null,
   "id": "ac9bc102-0923-4c10-9a15-7519becc4068",
   "metadata": {
    "tags": []
   },
   "outputs": [],
   "source": [
    "# inv = read_inventory(\"/home/brotzer/Documents/ROMY/ROMY_infrasound/IROMY.xml\", format=\"STATIONXML\", level=\"response\")\n",
    "# inv = read_inventory(\"/home/brotzer/Documents/ROMY/ROMY_infrasound/IROMY_resp.xml\", format=\"STATIONXML\", level=\"response\")"
   ]
  },
  {
   "cell_type": "markdown",
   "id": "dd901a22-1c2a-4b92-83a9-cf6e1e4a3ffd",
   "metadata": {},
   "source": [
    "## PROMY Data"
   ]
  },
  {
   "cell_type": "code",
   "execution_count": null,
   "id": "7119c52c-3bc7-4663-a0dd-713d62f1d9f4",
   "metadata": {
    "tags": []
   },
   "outputs": [],
   "source": [
    "tbeg, tend = \"2023-09-01\",\"2023-09-17\"\n",
    "\n",
    "promy = __read_sds(\"/import/kilauea-data/LNM2/infrasound/\", \"BW.PROMY..*\", tbeg, tend)\n",
    "\n",
    "promy.plot(equal_scale=False);"
   ]
  },
  {
   "cell_type": "markdown",
   "id": "d12976cc-c4e4-4491-99af-bf9e8688f422",
   "metadata": {},
   "source": [
    "# Dino Data"
   ]
  },
  {
   "cell_type": "code",
   "execution_count": null,
   "id": "9129fdfb-b52f-439d-a860-37f585fec870",
   "metadata": {
    "tags": []
   },
   "outputs": [],
   "source": [
    "tbeg, tend = \"2023-03-01\",\"2023-03-11\"\n",
    "\n",
    "dino = __read_sds(\"/import/kilauea-data/LNM2/infrasound/\", \"BW.DINO..*\", tbeg, tend)\n",
    "\n",
    "dino.plot(equal_scale=False);"
   ]
  },
  {
   "cell_type": "code",
   "execution_count": null,
   "id": "7234259d-e5af-4243-9a6a-84a116290226",
   "metadata": {},
   "outputs": [],
   "source": []
  }
 ],
 "metadata": {
  "kernelspec": {
   "display_name": "Python 3 (ipykernel)",
   "language": "python",
   "name": "python3"
  },
  "language_info": {
   "codemirror_mode": {
    "name": "ipython",
    "version": 3
   },
   "file_extension": ".py",
   "mimetype": "text/x-python",
   "name": "python",
   "nbconvert_exporter": "python",
   "pygments_lexer": "ipython3",
   "version": "3.9.16"
  },
  "toc": {
   "base_numbering": 1,
   "nav_menu": {},
   "number_sections": true,
   "sideBar": true,
   "skip_h1_title": false,
   "title_cell": "Table of Contents",
   "title_sidebar": "Contents",
   "toc_cell": false,
   "toc_position": {},
   "toc_section_display": true,
   "toc_window_display": false
  }
 },
 "nbformat": 4,
 "nbformat_minor": 5
}
