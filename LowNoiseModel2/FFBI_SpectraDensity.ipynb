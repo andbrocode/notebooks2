{
 "cells": [
  {
   "cell_type": "markdown",
   "id": "eda030d3",
   "metadata": {},
   "source": [
    "# Hourly PSDS - IROMY"
   ]
  },
  {
   "cell_type": "markdown",
   "id": "protected-presentation",
   "metadata": {},
   "source": [
    "## Load Libraries"
   ]
  },
  {
   "cell_type": "code",
   "execution_count": 1,
   "id": "behind-arrangement",
   "metadata": {
    "ExecuteTime": {
     "end_time": "2023-08-07T14:02:02.205745Z",
     "start_time": "2023-08-07T14:01:59.488541Z"
    }
   },
   "outputs": [],
   "source": [
    "from andbro__querrySeismoData import __querrySeismoData\n",
    "from andbro__savefig import __savefig\n",
    "\n",
    "from obspy import UTCDateTime\n",
    "from scipy.signal import welch\n",
    "from numpy import log10, zeros, pi, append, linspace, mean, median, array, where, transpose, shape, histogram, arange\n",
    "from numpy import logspace, linspace, log, log10, isinf, ones, nan, count_nonzero, sqrt, isnan\n",
    "from pandas import DataFrame, concat, Series, date_range, read_csv, read_pickle\n",
    "from tqdm import tqdm_notebook\n",
    "from pathlib import Path\n",
    "\n",
    "import os\n",
    "import pickle\n",
    "import matplotlib.pyplot as plt"
   ]
  },
  {
   "cell_type": "code",
   "execution_count": 2,
   "id": "e4858b93",
   "metadata": {
    "ExecuteTime": {
     "end_time": "2023-08-07T14:02:02.209323Z",
     "start_time": "2023-08-07T14:02:02.206841Z"
    },
    "code_folding": [
     0
    ]
   },
   "outputs": [],
   "source": [
    "def __get_minimal_psd(psds):\n",
    "\n",
    "    from numpy import nanmin, array, nonzero\n",
    "\n",
    "    min_psd = zeros(psds.shape[1])\n",
    "\n",
    "    for f in range(psds.shape[1]):\n",
    "        a = psds[:,f]\n",
    "        min_psd[f] = nanmin(a[nonzero(a)])\n",
    "\n",
    "    return min_psd"
   ]
  },
  {
   "cell_type": "code",
   "execution_count": 3,
   "id": "396e24f9",
   "metadata": {
    "ExecuteTime": {
     "end_time": "2023-08-07T14:02:02.226840Z",
     "start_time": "2023-08-07T14:02:02.210616Z"
    },
    "code_folding": [
     0
    ]
   },
   "outputs": [],
   "source": [
    "def __get_median_psd(psds):\n",
    "\n",
    "    from numpy import median, zeros, isnan\n",
    "\n",
    "    med_psd = zeros(psds.shape[1])\n",
    "\n",
    "    for f in range(psds.shape[1]):\n",
    "        a = psds[:,f]\n",
    "        med_psd[f] = median(a[~isnan(a)])\n",
    "\n",
    "    return med_psd"
   ]
  },
  {
   "cell_type": "code",
   "execution_count": 4,
   "id": "c4ec90e8",
   "metadata": {
    "ExecuteTime": {
     "end_time": "2023-08-07T14:02:02.259268Z",
     "start_time": "2023-08-07T14:02:02.244427Z"
    },
    "code_folding": [
     0
    ]
   },
   "outputs": [],
   "source": [
    "def __get_minimum_psd(psds, f_tmp):\n",
    "\n",
    "    for i, psd in enumerate(psds):\n",
    "        if i == 0:\n",
    "            lowest_value = psd.sum()\n",
    "            idx = 0\n",
    "\n",
    "        value = psd.sum()\n",
    "\n",
    "        if value < lowest_value and value != 0:\n",
    "            lowest_value = value\n",
    "            idx = i\n",
    "\n",
    "    return psds[idx]"
   ]
  },
  {
   "cell_type": "code",
   "execution_count": 5,
   "id": "d4ffd698",
   "metadata": {
    "ExecuteTime": {
     "end_time": "2023-08-07T14:02:02.292457Z",
     "start_time": "2023-08-07T14:02:02.277315Z"
    },
    "code_folding": [
     0
    ]
   },
   "outputs": [],
   "source": [
    "def __get_array_from_dataframe(df):\n",
    "\n",
    "    from pandas import to_numeric\n",
    "\n",
    "    ## convert to list\n",
    "    psds = []\n",
    "    for col in array(df.columns):\n",
    "\n",
    "        ## turn non-float series to float objects\n",
    "        df[col] = to_numeric(df[col], errors = 'coerce')\n",
    "\n",
    "        ## add to psds list\n",
    "        psds.append(array(df[col]))\n",
    "\n",
    "    return array(psds)"
   ]
  },
  {
   "cell_type": "code",
   "execution_count": 6,
   "id": "f337911b",
   "metadata": {
    "ExecuteTime": {
     "end_time": "2023-08-07T14:02:02.308085Z",
     "start_time": "2023-08-07T14:02:02.293848Z"
    }
   },
   "outputs": [],
   "source": [
    "if os.uname().nodename == 'lighthouse':\n",
    "    root_path = '/home/andbro/'\n",
    "    data_path = '/home/andbro/kilauea-data/'\n",
    "    archive_path = '/home/andbro/freenas/'\n",
    "elif os.uname().nodename == 'kilauea':\n",
    "    root_path = '/home/brotzer/'\n",
    "    data_path = '/import/kilauea-data/'\n",
    "    archive_path = '/import/freenas-ffb-01-data/'"
   ]
  },
  {
   "cell_type": "markdown",
   "id": "subject-expression",
   "metadata": {},
   "source": [
    "## Configurations"
   ]
  },
  {
   "cell_type": "code",
   "execution_count": 7,
   "id": "e89d22a7",
   "metadata": {
    "ExecuteTime": {
     "end_time": "2023-08-07T14:03:55.344239Z",
     "start_time": "2023-08-07T14:03:55.340231Z"
    }
   },
   "outputs": [],
   "source": [
    "## ---------------------------------------\n",
    "\n",
    "name = \"FFBI\"\n",
    "inname = \"2023_FFBI_3600\"\n",
    "subdir = \"FFBI/\"\n",
    "threshold = 1e8\n",
    "f_limits = 0.001, 1.0\n",
    "\n",
    "\n",
    "## ---------------------------------------\n",
    "\n",
    "path = data_path+f\"LNM2/PSDS/\"\n",
    "\n",
    "## load configurations\n",
    "config = pickle.load(open(path+subdir+inname+\"_config.pkl\", 'rb'))\n",
    "\n",
    "config['inname'] = inname\n",
    "config['inpath'] = path+subdir\n",
    "config['f_limits'] = f_limits\n",
    "config['thres'] = threshold\n",
    "config['station'] = name\n",
    "\n",
    "config['outpath_figures'] = data_path+f\"LNM2/figures/\"\n",
    "\n",
    "config['period_limits'] = [1/config['f_limits'][1], 1/config['f_limits'][0]]\n"
   ]
  },
  {
   "cell_type": "code",
   "execution_count": 8,
   "id": "5505e8c7",
   "metadata": {
    "ExecuteTime": {
     "end_time": "2023-08-07T14:03:56.364713Z",
     "start_time": "2023-08-07T14:03:56.209995Z"
    }
   },
   "outputs": [
    {
     "name": "stdout",
     "output_type": "stream",
     "text": [
      "2023_FFBI_3600_20230922_hourly.pkl  2023_FFBI_3600_20231005_hourly.pkl\n",
      "2023_FFBI_3600_20230923_hourly.pkl  2023_FFBI_3600_20231006_hourly.pkl\n",
      "2023_FFBI_3600_20230924_hourly.pkl  2023_FFBI_3600_20231007_hourly.pkl\n",
      "2023_FFBI_3600_20230925_hourly.pkl  2023_FFBI_3600_20231008_hourly.pkl\n",
      "2023_FFBI_3600_20230926_hourly.pkl  2023_FFBI_3600_20231009_hourly.pkl\n",
      "2023_FFBI_3600_20230927_hourly.pkl  2023_FFBI_3600_20231010_hourly.pkl\n",
      "2023_FFBI_3600_20230928_hourly.pkl  2023_FFBI_3600_20231011_hourly.pkl\n",
      "2023_FFBI_3600_20230929_hourly.pkl  2023_FFBI_3600_20231012_hourly.pkl\n",
      "2023_FFBI_3600_20230930_hourly.pkl  2023_FFBI_3600_20231013_hourly.pkl\n",
      "2023_FFBI_3600_20231001_hourly.pkl  2023_FFBI_3600_20231014_hourly.pkl\n",
      "2023_FFBI_3600_20231002_hourly.pkl  2023_FFBI_3600_20231015_hourly.pkl\n",
      "2023_FFBI_3600_20231003_hourly.pkl  2023_FFBI_3600_config.pkl\n",
      "2023_FFBI_3600_20231004_hourly.pkl  2023_FFBI_3600_frequency_axis.pkl\n"
     ]
    }
   ],
   "source": [
    "!ls /import/kilauea-data/LNM2/PSDS/FFBI"
   ]
  },
  {
   "cell_type": "code",
   "execution_count": 9,
   "id": "f4136449-3c02-4f89-be3c-b5bec546dd55",
   "metadata": {
    "tags": []
   },
   "outputs": [],
   "source": [
    "dat = read_pickle(\"/import/kilauea-data/LNM2/PSDS/FFBI/2023_FFBI_3600_20231012_hourly.pkl\")"
   ]
  },
  {
   "cell_type": "code",
   "execution_count": 10,
   "id": "9b986908-5756-4680-ae69-eb71965ec83b",
   "metadata": {
    "tags": []
   },
   "outputs": [
    {
     "ename": "NameError",
     "evalue": "name 'ff' is not defined",
     "output_type": "error",
     "traceback": [
      "\u001b[0;31m---------------------------------------------------------------------------\u001b[0m",
      "\u001b[0;31mNameError\u001b[0m                                 Traceback (most recent call last)",
      "Cell \u001b[0;32mIn[10], line 1\u001b[0m\n\u001b[0;32m----> 1\u001b[0m fff \u001b[38;5;241m=\u001b[39m ones((dat\u001b[38;5;241m.\u001b[39mshape))\u001b[38;5;241m*\u001b[39m\u001b[43mff\u001b[49m\n",
      "\u001b[0;31mNameError\u001b[0m: name 'ff' is not defined"
     ]
    }
   ],
   "source": [
    "fff = ones((dat.shape))*ff"
   ]
  },
  {
   "cell_type": "code",
   "execution_count": null,
   "id": "e40183a7-12f1-4cc6-b052-c621be2fd4a2",
   "metadata": {
    "tags": []
   },
   "outputs": [],
   "source": [
    "ff = read_pickle(\"/import/kilauea-data/LNM2/PSDS/FFBI/2023_FFBI_3600_frequency_axis.pkl\")"
   ]
  },
  {
   "cell_type": "code",
   "execution_count": null,
   "id": "83c381bd-cf29-4bbc-bd25-3ec9b1885563",
   "metadata": {
    "tags": []
   },
   "outputs": [],
   "source": []
  },
  {
   "cell_type": "markdown",
   "id": "natural-beginning",
   "metadata": {},
   "source": [
    "## Methods"
   ]
  },
  {
   "cell_type": "code",
   "execution_count": null,
   "id": "bba5f658-f478-4548-9110-99e5b9cd4fca",
   "metadata": {},
   "outputs": [],
   "source": [
    "def __load_psd_files(tbeg, tend, ring, path_to_data):\n",
    "\n",
    "    from datetime import date\n",
    "    from pandas import read_pickle, concat\n",
    "    from obspy import UTCDateTime\n",
    "\n",
    "\n",
    "    tbeg, tend = UTCDateTime(tbeg), UTCDateTime(tend)\n",
    "\n",
    "    dd1 = date.fromisoformat(str(tbeg.date))\n",
    "    dd2 = date.fromisoformat(str(tend.date))\n",
    "\n",
    "    year = str(tbeg.year)\n",
    "\n",
    "    df = DataFrame()\n",
    "    for dat in date_range(dd1, dd2):\n",
    "        file = f\"{year}/R{ring}/FJ{ring}_\"+str(dat)[:10].replace(\"-\", \"\")+\".pkl\"\n",
    "        try:\n",
    "            df0 = read_pickle(path_to_data+file)\n",
    "            df = concat([df, df0])\n",
    "        except:\n",
    "            print(f\"error for {file}\")\n",
    "\n",
    "    ## trim to defined times\n",
    "    df = df[(df.times_utc >= tbeg) & (df.times_utc < tend)]\n",
    "\n",
    "    ## correct seconds\n",
    "    df['times_utc_sec'] = [abs(tbeg - UTCDateTime(_t))  for _t in df['times_utc']]\n",
    "\n",
    "    return df"
   ]
  },
  {
   "cell_type": "code",
   "execution_count": null,
   "id": "e8453ee6",
   "metadata": {
    "ExecuteTime": {
     "end_time": "2023-08-07T14:03:57.177938Z",
     "start_time": "2023-08-07T14:03:57.174706Z"
    },
    "code_folding": [
     0
    ]
   },
   "outputs": [],
   "source": [
    "def __filter_psds(psds, thresholds):\n",
    "\n",
    "    from numpy import mean, array\n",
    "\n",
    "    psds_filtered = []\n",
    "        ## filter mean psds values\n",
    "#         m_psd = mean(psd)\n",
    "#         if m_psd > thresholds[0] and m_psd < thresholds[1]:\n",
    "#             psds_filtered.append(psd)\n",
    "\n",
    "    ## filter for periods larger than 20 seconds\n",
    "    if mean(psd[0:63]) < thresholds[0]:\n",
    "        psds_filtered.append(psd)\n",
    "\n",
    "    print(f\" -> removed {len(psds)- len(psds_filtered)} of {len(psds)} psds due to thresholds: {thresholds[0]} & {thresholds[1]}\")\n",
    "    return array(psds_filtered)"
   ]
  },
  {
   "cell_type": "code",
   "execution_count": null,
   "id": "b42d3dc5",
   "metadata": {
    "ExecuteTime": {
     "end_time": "2023-08-07T14:03:57.370938Z",
     "start_time": "2023-08-07T14:03:57.365816Z"
    },
    "code_folding": [
     0
    ]
   },
   "outputs": [],
   "source": [
    "def __load_data_file(path, file):\n",
    "\n",
    "    from tqdm.notebook import tqdm\n",
    "    from numpy import array\n",
    "\n",
    "    psds_all = []\n",
    "    psds_hourly = read_pickle(path+file)\n",
    "\n",
    "    for psd in psds_hourly:\n",
    "        psds_all.append(psd)\n",
    "\n",
    "    return array(psds_all)"
   ]
  },
  {
   "cell_type": "code",
   "execution_count": null,
   "id": "f9df50f3",
   "metadata": {
    "ExecuteTime": {
     "end_time": "2023-08-07T14:03:57.507675Z",
     "start_time": "2023-08-07T14:03:57.501498Z"
    },
    "code_folding": [
     0
    ]
   },
   "outputs": [],
   "source": [
    "def __cut_frequencies_array(arr, freqs, fmin, fmax):\n",
    "\n",
    "    ind = []\n",
    "    for i, f in enumerate(freqs):\n",
    "        if f >= fmin and f <= fmax:\n",
    "            ind.append(i)\n",
    "\n",
    "    ff = freqs[ind[0]:ind[-1]]\n",
    "    pp = arr[:,ind[0]:ind[-1]]\n",
    "\n",
    "    return pp, ff"
   ]
  },
  {
   "cell_type": "code",
   "execution_count": null,
   "id": "cf7921ed",
   "metadata": {
    "ExecuteTime": {
     "end_time": "2023-08-07T14:03:57.668589Z",
     "start_time": "2023-08-07T14:03:57.660466Z"
    },
    "code_folding": [
     0
    ]
   },
   "outputs": [],
   "source": [
    "def __remove_noisy_psds(arr, threshold_mean=1e-16):\n",
    "\n",
    "    from numpy import delete, shape, sort, array\n",
    "\n",
    "    l1 = shape(arr)[0]\n",
    "\n",
    "    idx_to_remove = []\n",
    "    rejected = []\n",
    "    for ii in range(shape(arr)[0]):\n",
    "\n",
    "        ## appy upper threshold\n",
    "        if arr[ii,:].mean() > threshold_mean:\n",
    "            rejected.append(arr[ii,:])\n",
    "            idx_to_remove.append(ii)\n",
    "\n",
    "        ## apply default lowe threshold\n",
    "        if arr[ii,:].mean() < 1e-26:\n",
    "            rejected.append(arr[ii,:])\n",
    "            idx_to_remove.append(ii)\n",
    "\n",
    "    for jj in sort(array(idx_to_remove))[::-1]:\n",
    "        arr = delete(arr, jj, axis=0)\n",
    "\n",
    "    l2 = shape(arr)[0]\n",
    "\n",
    "    print(f\" -> removed {l1-l2} rows due to mean thresholds!\")\n",
    "    print(f\" -> {l2} psds remain\")\n",
    "\n",
    "    return arr, rejected"
   ]
  },
  {
   "cell_type": "code",
   "execution_count": null,
   "id": "8efbaf73",
   "metadata": {
    "ExecuteTime": {
     "end_time": "2023-08-07T14:03:57.827780Z",
     "start_time": "2023-08-07T14:03:57.815758Z"
    },
    "code_folding": [
     0
    ]
   },
   "outputs": [],
   "source": [
    "def __makeplot_colorlines(config, ff, psds, rejected, day):\n",
    "\n",
    "    from tqdm.notebook import tqdm\n",
    "    from numpy import isnan, median, mean, std, array, zeros\n",
    "    from scipy.stats import median_abs_deviation as mad\n",
    "\n",
    "#     psds_median = __get_median_psd(array(psds))\n",
    "#     psds_minimal = __get_minimal_psd(array(psds))\n",
    "#     psds_minimum = __get_minimum_psd(array(psds), ff)\n",
    "\n",
    "\n",
    "\n",
    "    ##____________________________\n",
    "\n",
    "\n",
    "    fig, axes = plt.subplots(1, 1, figsize=(15,7), sharey=False, sharex=True)\n",
    "\n",
    "    plt.subplots_adjust(hspace=0.1)\n",
    "\n",
    "    font = 14\n",
    "\n",
    "    N = 24\n",
    "    colors = plt.cm.rainbow(linspace(0, 1, N))\n",
    "    cmap = plt.get_cmap('rainbow', 24)\n",
    "\n",
    "    for n, psd in enumerate(psds):\n",
    "        axes.loglog(ff, psd, color=colors[n], alpha=0.7)\n",
    "        p2 = axes.scatter(ff[0], psd[0], s=0.1, c=int(n/N), cmap=cmap, vmin=0, vmax=N)\n",
    "\n",
    "    for reject in rejected:\n",
    "         axes.loglog(ff, reject, color='grey', alpha=0.6, zorder=1)\n",
    "\n",
    "    axes.loglog(ff, __get_median_psd(psds), 'black', zorder=3, alpha=0.6, label=\"Median\")\n",
    "\n",
    "    axes.grid(True, which=\"both\", ls=\"-\", alpha=0.5)\n",
    "    axes.legend(loc='lower left')\n",
    "    axes.tick_params(labelsize=font-2)\n",
    "\n",
    "    axes.set_xlim(1e-3, 2e1)\n",
    "#     axes.set_ylim(1e-23, 1e-16)\n",
    "\n",
    "    axes.set_xlabel(\"  Frequency (Hz)\", fontsize=font, labelpad=-1)\n",
    "\n",
    "\n",
    "    # axes.set_ylabel(r\"PSD$_{absolute}$ ($hPa$/$Hz)$\", fontsize=font)\n",
    "    axes.set_ylabel(r\"PSD$_{infrasound}$ ($hPa$/$Hz)$\", fontsize=font)\n",
    "\n",
    "    ## set colorbar at bottom\n",
    "    cbar = fig.colorbar(p2, orientation='vertical', ax=axes, aspect=50, pad=-1e-5,\n",
    "                       ticks=arange(1,N,2))\n",
    "\n",
    "    axes.set_title(f\"{config['station']} | {day}\")\n",
    "\n",
    "    plt.show();\n",
    "    return fig"
   ]
  },
  {
   "cell_type": "code",
   "execution_count": null,
   "id": "cd183d87",
   "metadata": {
    "ExecuteTime": {
     "end_time": "2023-08-07T14:03:57.971120Z",
     "start_time": "2023-08-07T14:03:57.956350Z"
    },
    "code_folding": [
     0
    ]
   },
   "outputs": [],
   "source": [
    "# def __makeplot_colorlines_overview(config, ff, psds, rejected, day):\n",
    "\n",
    "#     from tqdm.notebook import tqdm\n",
    "#     from numpy import isnan, median, mean, std, array, zeros\n",
    "#     from scipy.stats import median_abs_deviation as mad\n",
    "\n",
    "# #     psds_median = __get_median_psd(array(psds))\n",
    "# #     psds_minimal = __get_minimal_psd(array(psds))\n",
    "# #     psds_minimum = __get_minimum_psd(array(psds), ff)\n",
    "\n",
    "\n",
    "#     ## convert frequencies to periods\n",
    "#     pp=[]\n",
    "#     for mm in range(len(ff)):\n",
    "#         ppp = zeros(len(ff[mm]))\n",
    "#         ppp = 1/ff[mm]\n",
    "#         pp.append(ppp)\n",
    "\n",
    "\n",
    "#     ##____________________________\n",
    "\n",
    "#     NN = 3\n",
    "\n",
    "#     fig, axes = plt.subplots(NN,1, figsize=(10,10), sharey=False, sharex=True)\n",
    "\n",
    "#     plt.subplots_adjust(hspace=0.1)\n",
    "\n",
    "#     font = 14\n",
    "\n",
    "# #     N = max(psds[0].shape[0], psds[1].shape[0], psds[2].shape[0])\n",
    "# #     colors = plt.cm.rainbow(linspace(0, 1, N))\n",
    "\n",
    "#     N =24\n",
    "#     colors = plt.cm.rainbow(linspace(0,1,N))\n",
    "#     cmap = plt.get_cmap('rainbow', 24)\n",
    "\n",
    "\n",
    "#     ## add Frequency Axis\n",
    "# #     g = lambda x: 1/x\n",
    "# #     ax2 = axes[0].secondary_xaxis(\"top\", functions=(g,g))\n",
    "# #     ax2.set_xlabel(\"  Frequency (Hz)\", fontsize=font, labelpad=-1)\n",
    "# #     ax2.set_xticklabels(ff[2], fontsize=11)\n",
    "# #     ax2.tick_params(axis='both', labelsize=font-2)\n",
    "\n",
    "\n",
    "#     for j in range(NN):\n",
    "#         for n, psd in enumerate(tqdm(psds[j])):\n",
    "#             axes[j].loglog(ff[j], psd, color=colors[n], alpha=0.7)\n",
    "#             p2 = axes[j].scatter(ff[j][0], psd[0], s=0., c=n/N, cmap=cmap, vmin=0, vmax=N)\n",
    "\n",
    "#         for reject in rejected[j]:\n",
    "#              axes[j].loglog(ff[j],reject, color='grey', alpha=0.6, zorder=1)\n",
    "\n",
    "#         axes[j].loglog(ff[j], __get_median_psd(psds[j]), 'black', zorder=3, alpha=0.6, label=\"Median\")\n",
    "\n",
    "\n",
    "#         axes[j].grid(True, which=\"both\", ls=\"-\", alpha=0.5)\n",
    "#         axes[j].legend(loc='lower left')\n",
    "#         axes[j].tick_params(labelsize=font-2)\n",
    "\n",
    "\n",
    "#     axes[NN-1].set_xlabel(\"  Frequency (Hz)\", fontsize=font, labelpad=-1)\n",
    "\n",
    "#     ## panel labels\n",
    "#     axes[0].text(.01, .99, 'a)', ha='left', va='top', transform=axes[0].transAxes, fontsize=font+2)\n",
    "#     axes[1].text(.01, .99, 'b)', ha='left', va='top', transform=axes[1].transAxes, fontsize=font+2)\n",
    "#     axes[2].text(.01, .99, 'c)', ha='left', va='top', transform=axes[2].transAxes, fontsize=font+2)\n",
    "\n",
    "#     axes[0].set_ylabel(r\"PSD$_{vertical}$ (m$^2$/s$^4$/$Hz)$\", fontsize=font)\n",
    "#     axes[1].set_ylabel(r\"PSD$_{north}$ (m$^2$/s$^4$/$Hz)$\", fontsize=font)\n",
    "#     axes[2].set_ylabel(r\"PSD$_{east}$ (m$^2$/s$^4$/$Hz)$\", fontsize=font)\n",
    "\n",
    "#     ## set colorbar at bottom\n",
    "#     cbar = fig.colorbar(p2, orientation='vertical', ax=axes.ravel().tolist(), aspect=50, pad=-1e-5,\n",
    "#                        ticks=arange(1,N,2))\n",
    "\n",
    "\n",
    "#     plt.show();\n",
    "#     return fig"
   ]
  },
  {
   "cell_type": "markdown",
   "id": "3cff2634",
   "metadata": {},
   "source": [
    "## RUN for all files "
   ]
  },
  {
   "cell_type": "code",
   "execution_count": null,
   "id": "f3822839",
   "metadata": {
    "ExecuteTime": {
     "end_time": "2023-08-07T14:04:06.974973Z",
     "start_time": "2023-08-07T14:03:58.258090Z"
    }
   },
   "outputs": [],
   "source": [
    "config['files'] = [ file for file in os.listdir(config['inpath']) if \"hourly\" in file ]\n",
    "config['files'].sort()\n",
    "\n",
    "\n",
    "psds_medians_out, times_out = [],[]\n",
    "\n",
    "for file in config['files']:\n",
    "\n",
    "    print(file)\n",
    "\n",
    "    day = file.split(\"_\")[-2]\n",
    "\n",
    "    # config['outpath_figname'] = config['station']+\"_absolute\"+\"_\"+day\n",
    "    config['outpath_figname'] = config['station']+\"_infrasound\"+\"_\"+day\n",
    "\n",
    "    if os.path.isfile(config['outpath_figures']+config['outpath_figname']):\n",
    "        continue\n",
    "\n",
    "    ff_Z = pickle.load(open(f\"{config['inpath'].replace('Z','Z')}{config['inname'].replace('Z','Z')}_frequency_axis.pkl\", 'rb'))\n",
    "#     ff_N = pickle.load(open(f\"{config['inpath'].replace('Z','N')}{config['inname'].replace('Z','N')}_frequency_axis.pkl\", 'rb'))\n",
    "#     ff_E = pickle.load(open(f\"{config['inpath'].replace('Z','E')}{config['inname'].replace('Z','E')}_frequency_axis.pkl\", 'rb'))\n",
    "\n",
    "    ADR_Z = __load_data_file(config['inpath'].replace(\"Z\",\"Z\"), file.replace(\"Z\",\"Z\"))\n",
    "#     ADR_N = __load_data_file(config['inpath'].replace(\"Z\",\"N\"), file.replace(\"Z\",\"N\"))\n",
    "#     ADR_E = __load_data_file(config['inpath'].replace(\"Z\",\"E\"), file.replace(\"Z\",\"E\"))\n",
    "\n",
    "#     ADR_Z, ff_Z = __cut_frequencies_array(ADR_Z, ff_Z, config['frequency_limits'][0], config['frequency_limits'][1])\n",
    "#     ADR_N, ff_N = __cut_frequencies_array(ADR_N, ff_N, config['frequency_limits'][0], config['frequency_limits'][1])\n",
    "#     ADR_E, ff_E = __cut_frequencies_array(ADR_E, ff_E, config['frequency_limits'][0], config['frequency_limits'][1])\n",
    "\n",
    "    ADR_Z, rejected_Z = __remove_noisy_psds(ADR_Z, threshold_mean=config['thres'])\n",
    "#     ADR_N, rejected_N = __remove_noisy_psds(ADR_N, threshold_mean=config['thres'])\n",
    "#     ADR_E, rejected_E = __remove_noisy_psds(ADR_E, threshold_mean=config['thres'])\n",
    "\n",
    "    fig = __makeplot_colorlines(config, ff_Z,  ADR_Z, rejected_Z, day)\n",
    "\n",
    "#     fig = __makeplot_colorlines_overview(config,\n",
    "#                                          [ff_Z, ff_N, ff_E],\n",
    "#                                          [ADR_Z, ADR_N, ADR_E],\n",
    "#                                          [rejected_Z, rejected_N, rejected_E],\n",
    "#                                          day)\n",
    "\n",
    "\n",
    "#     fig.savefig(config['outpath_figures']+config['outpath_figname'], format=\"png\", transparent=False)\n",
    "    __savefig(fig, outpath=config['outpath_figures'], outname=config['outpath_figname'], mode=\"png\", dpi=300)"
   ]
  },
  {
   "cell_type": "code",
   "execution_count": null,
   "id": "669bbd98",
   "metadata": {
    "ExecuteTime": {
     "end_time": "2023-08-07T14:02:52.818635Z",
     "start_time": "2023-08-07T14:02:44.645803Z"
    }
   },
   "outputs": [],
   "source": [
    "    ## output data\n",
    "#     psds_medians_out.append(psds_median)\n",
    "#     times_out.append(time)\n",
    "\n",
    "# ## write output\n",
    "# output = {\"times\": array(times_out).astype(int), \"frequencies\": array(ff), \"psds_medians\": array(psds_medians_out)}\n",
    "\n",
    "# with open(f\"{config['inpath']}{config['inname']}_psds_filtered_medians.pkl\", 'wb') as file:\n",
    "#     pickle.dump(output, file, protocol=pickle.HIGHEST_PROTOCOL)"
   ]
  },
  {
   "cell_type": "code",
   "execution_count": null,
   "id": "c9b2d2a8",
   "metadata": {},
   "outputs": [],
   "source": []
  },
  {
   "cell_type": "code",
   "execution_count": null,
   "id": "f128ecc7",
   "metadata": {},
   "outputs": [],
   "source": []
  },
  {
   "cell_type": "code",
   "execution_count": null,
   "id": "b48e90a0",
   "metadata": {},
   "outputs": [],
   "source": []
  }
 ],
 "metadata": {
  "kernelspec": {
   "display_name": "Python 3 (ipykernel)",
   "language": "python",
   "name": "python3"
  },
  "language_info": {
   "codemirror_mode": {
    "name": "ipython",
    "version": 3
   },
   "file_extension": ".py",
   "mimetype": "text/x-python",
   "name": "python",
   "nbconvert_exporter": "python",
   "pygments_lexer": "ipython3",
   "version": "3.9.16"
  },
  "latex_envs": {
   "LaTeX_envs_menu_present": true,
   "autoclose": false,
   "autocomplete": true,
   "bibliofile": "biblio.bib",
   "cite_by": "apalike",
   "current_citInitial": 1,
   "eqLabelWithNumbers": true,
   "eqNumInitial": 1,
   "hotkeys": {
    "equation": "Ctrl-E",
    "itemize": "Ctrl-I"
   },
   "labels_anchors": false,
   "latex_user_defs": false,
   "report_style_numbering": false,
   "user_envs_cfg": false
  },
  "toc": {
   "base_numbering": 1,
   "nav_menu": {},
   "number_sections": true,
   "sideBar": true,
   "skip_h1_title": false,
   "title_cell": "Table of Contents",
   "title_sidebar": "Contents",
   "toc_cell": false,
   "toc_position": {},
   "toc_section_display": true,
   "toc_window_display": false
  },
  "varInspector": {
   "cols": {
    "lenName": 16,
    "lenType": 16,
    "lenVar": 40
   },
   "kernels_config": {
    "python": {
     "delete_cmd_postfix": "",
     "delete_cmd_prefix": "del ",
     "library": "var_list.py",
     "varRefreshCmd": "print(var_dic_list())"
    },
    "r": {
     "delete_cmd_postfix": ") ",
     "delete_cmd_prefix": "rm(",
     "library": "var_list.r",
     "varRefreshCmd": "cat(var_dic_list()) "
    }
   },
   "types_to_exclude": [
    "module",
    "function",
    "builtin_function_or_method",
    "instance",
    "_Feature"
   ],
   "window_display": false
  }
 },
 "nbformat": 4,
 "nbformat_minor": 5
}
