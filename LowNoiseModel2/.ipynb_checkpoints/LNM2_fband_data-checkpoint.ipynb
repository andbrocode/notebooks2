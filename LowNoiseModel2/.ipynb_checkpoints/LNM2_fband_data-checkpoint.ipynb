{
 "cells": [
  {
   "cell_type": "markdown",
   "id": "eda030d3",
   "metadata": {},
   "source": [
    "# Hourly PSDS - IROMY | WROMY | ROMY"
   ]
  },
  {
   "cell_type": "markdown",
   "id": "protected-presentation",
   "metadata": {},
   "source": [
    "## Load Libraries"
   ]
  },
  {
   "cell_type": "code",
   "execution_count": 1,
   "id": "behind-arrangement",
   "metadata": {
    "ExecuteTime": {
     "end_time": "2023-08-07T14:54:03.050940Z",
     "start_time": "2023-08-07T14:54:00.312331Z"
    }
   },
   "outputs": [],
   "source": [
    "from obspy import UTCDateTime\n",
    "from scipy.signal import welch\n",
    "from numpy import log10, zeros, pi, append, linspace, mean, median, array, where, transpose, shape, histogram, arange, append\n",
    "from numpy import logspace, linspace, log, log10, isinf, ones, nan, count_nonzero, sqrt, isnan\n",
    "from pandas import DataFrame, concat, Series, date_range, read_csv, read_pickle\n",
    "from tqdm import tqdm\n",
    "from pathlib import Path\n",
    "\n",
    "import os, sys\n",
    "import pickle\n",
    "import matplotlib.pyplot as plt\n",
    "\n",
    "from andbro__store_as_pickle import __store_as_pickle"
   ]
  },
  {
   "cell_type": "code",
   "execution_count": 2,
   "id": "f337911b",
   "metadata": {
    "ExecuteTime": {
     "end_time": "2023-08-07T14:54:03.147385Z",
     "start_time": "2023-08-07T14:54:03.133998Z"
    }
   },
   "outputs": [],
   "source": [
    "if os.uname().nodename == 'lighthouse':\n",
    "    root_path = '/home/andbro/'\n",
    "    data_path = '/home/andbro/kilauea-data/'\n",
    "    archive_path = '/home/andbro/freenas/'\n",
    "elif os.uname().nodename == 'kilauea':\n",
    "    root_path = '/home/brotzer/'\n",
    "    data_path = '/import/kilauea-data/'\n",
    "    archive_path = '/import/freenas-ffb-01-data/'"
   ]
  },
  {
   "cell_type": "markdown",
   "id": "subject-expression",
   "metadata": {},
   "source": [
    "## Configurations"
   ]
  },
  {
   "cell_type": "code",
   "execution_count": 3,
   "id": "c898fc5e-9073-419a-b426-e7aa9a58625b",
   "metadata": {
    "ExecuteTime": {
     "end_time": "2023-08-07T15:31:55.890800Z",
     "start_time": "2023-08-07T15:31:55.885708Z"
    }
   },
   "outputs": [],
   "source": [
    "## ---------------------------------------\n",
    "\n",
    "# name, comp = \"PROMY\", \"\"\n",
    "name, comp = \"FFBI\", \"\"\n",
    "# name, comp = \"ROMY\", \"Z\"\n",
    "# name, comp = \"ROMY\", \"U\"\n",
    "\n",
    "year = \"2023\"\n",
    "\n",
    "path = data_path+f\"LNM2/PSDS/\"\n",
    "\n",
    "t1 ,t2 = \"2023-09-23\", \"2023-10-23\""
   ]
  },
  {
   "cell_type": "code",
   "execution_count": null,
   "id": "fdcb9307-a11f-4f7e-b115-675b1c760cc8",
   "metadata": {
    "tags": []
   },
   "outputs": [],
   "source": []
  },
  {
   "cell_type": "code",
   "execution_count": 4,
   "id": "565a7b24-4640-4f17-b66e-2ee951eeee5b",
   "metadata": {
    "ExecuteTime": {
     "end_time": "2023-08-07T15:31:55.890800Z",
     "start_time": "2023-08-07T15:31:55.885708Z"
    }
   },
   "outputs": [],
   "source": [
    "## ---------------------------------------\n",
    "\n",
    "## load configurations\n",
    "if len(comp) != 0:\n",
    "    config = pickle.load(open(path+name+\"/\"+f\"{year}_{name}_{comp}_3600_config.pkl\", 'rb'))\n",
    "    config['filename'] = f\"{name}/{year}_{name}_{comp}_3600\"\n",
    "    config['station'] = f\"{name}_{comp}\"\n",
    "else:\n",
    "    config = pickle.load(open(path+name+\"/\"+f\"{year}_{name}_3600_config.pkl\", 'rb'))\n",
    "    config['filename'] = f\"{name}/{year}_{name}_3600\"\n",
    "    config['station'] = f\"{name}\"\n",
    "\n",
    "\n",
    "config['path'] = path\n",
    "\n",
    "config['startdate'], config['enddate'] = t1, t2\n",
    "\n",
    "\n",
    "\n",
    "## specify paths\n",
    "config['outpath_figures'] = data_path+f\"LNM2/figures/\"\n",
    "\n",
    "config['path_to_outdata'] = data_path+f\"LNM2/data/\""
   ]
  },
  {
   "cell_type": "markdown",
   "id": "natural-beginning",
   "metadata": {},
   "source": [
    "## Methods"
   ]
  },
  {
   "cell_type": "code",
   "execution_count": 5,
   "id": "b42d3dc5",
   "metadata": {
    "ExecuteTime": {
     "end_time": "2023-08-07T15:31:57.679758Z",
     "start_time": "2023-08-07T15:31:57.677330Z"
    },
    "code_folding": [
     0
    ]
   },
   "outputs": [],
   "source": [
    "def __load_data_file(path, file):\n",
    "\n",
    "    from tqdm.notebook import tqdm\n",
    "    from numpy import array\n",
    "\n",
    "    psds_all = []\n",
    "    psds_hourly = read_pickle(path+file)\n",
    "\n",
    "    for psd in psds_hourly:\n",
    "        psds_all.append(psd)\n",
    "\n",
    "    return array(psds_all)"
   ]
  },
  {
   "cell_type": "code",
   "execution_count": 6,
   "id": "6f4da151-e188-4a17-869e-fd4e0e1049eb",
   "metadata": {
    "tags": []
   },
   "outputs": [
    {
     "name": "stdout",
     "output_type": "stream",
     "text": [
      "DINO  FFBI  FURT  IROMY  PROMY\tROMY  WROMY  WROMY_WS1\tWROMY_WS7\n"
     ]
    }
   ],
   "source": [
    "!ls /import/kilauea-data/LNM2/PSDS/"
   ]
  },
  {
   "cell_type": "markdown",
   "id": "3e039344-731c-494b-b850-232a39a92e9a",
   "metadata": {
    "tags": []
   },
   "source": [
    "## Compute PSD value per frequency band"
   ]
  },
  {
   "cell_type": "code",
   "execution_count": 7,
   "id": "0477bdeb-1ae9-473e-ab30-3677533e4d93",
   "metadata": {
    "tags": []
   },
   "outputs": [
    {
     "name": "stdout",
     "output_type": "stream",
     "text": [
      "20230923\n",
      "20230924\n",
      "20230925\n",
      "20230926\n",
      "20230927\n",
      "20230928\n",
      "20230929\n",
      "20230930\n",
      "20231001\n",
      "20231002\n",
      "20231003\n",
      "20231004\n",
      "20231005\n",
      "20231006\n",
      "20231007\n",
      "20231008\n",
      "20231009\n",
      "20231010\n",
      "20231011\n",
      "20231012\n",
      "20231013\n",
      "20231014\n",
      "20231015\n",
      "20231016\n",
      "20231017\n",
      "20231018\n",
      "20231019\n",
      "20231020\n",
      "20231021\n",
      "20231022\n",
      "20231023\n"
     ]
    }
   ],
   "source": [
    "d1, d2 = config['startdate'], config['enddate']\n",
    "\n",
    "psds_medians_out, times_out = [], []\n",
    "\n",
    "ff = pickle.load(open(config['path']+f\"{config['filename']}_frequency_axis.pkl\", 'rb'))\n",
    "\n",
    "dat, dates = [], []\n",
    "for jj, day in enumerate(date_range(d1, d2)):\n",
    "\n",
    "    # if jj > 2:\n",
    "    #     continue\n",
    "\n",
    "    day = str(day).split(\" \")[0].replace(\"-\", \"\")\n",
    "\n",
    "    print(day)\n",
    "\n",
    "    config['outpath_figname'] = \"joint_IROMY_\"+day\n",
    "\n",
    "    try:\n",
    "        _dat = __load_data_file(path,f\"{config['filename']}_{day}_hourly.pkl\")\n",
    "        # dat1, rejected_dat1 = __remove_noisy_psds(dat1, threshold_mean=1e-19, ff=ff1, flim=0.1)\n",
    "    except Exception as e:\n",
    "        print(e)\n",
    "        print(f\" -> {day}: no data found\")\n",
    "        continue\n",
    "\n",
    "    for _k, _psd in enumerate(_dat):\n",
    "        dat.append(_psd)\n",
    "        dates.append(f\"{day}_{str(_k).rjust(2, '0')}\")\n",
    "\n",
    "dat = array(dat)"
   ]
  },
  {
   "cell_type": "markdown",
   "id": "a3f44d75-1f36-46f6-9b6a-8c895a4818fb",
   "metadata": {},
   "source": [
    "### Get frequency bands"
   ]
  },
  {
   "cell_type": "code",
   "execution_count": 8,
   "id": "141cb613-f2cb-4b51-80df-51ffac5b3639",
   "metadata": {
    "tags": []
   },
   "outputs": [],
   "source": [
    "def __get_octave_bands(fmin, fmax, fband_type=\"octave\", plot=False):\n",
    "\n",
    "    \"\"\"\n",
    "    Computing octave / one-third-octave bands\n",
    "\n",
    "    Arguments:\n",
    "        - fmin:    (float) minimum center frequency\n",
    "        - fmax:    (float) maximum center frequency\n",
    "        - fband_type:    [octave] / one-third-octave\n",
    "        - plot:    (bool) show frequency bands\n",
    "\n",
    "    Example:\n",
    "\n",
    "    >>> flower, fupper, fcenter = __get_octave_bands(f_min, f_max, fband_type=\"octave\", plot=False)\n",
    "\n",
    "    \"\"\"\n",
    "\n",
    "    import matplotlib.pyplot as plt\n",
    "    from numpy import sqrt, array\n",
    "    from acoustics import bands\n",
    "\n",
    "    f_lower, f_upper, f_centers = [], [], []\n",
    "\n",
    "    if fband_type == \"octave\":\n",
    "        f_centers = bands.octave(fmin, fmax)\n",
    "        f_lower = bands.octave_low(fmin, fmax)\n",
    "        f_upper = bands.octave_high(fmin, fmax)\n",
    "\n",
    "    if fband_type == \"one-third-octave\":\n",
    "        f_centers = bands.third(fmin, fmax)\n",
    "        f_lower = bands.third_low(fmin, fmax)\n",
    "        f_upper = bands.third_high(fmin, fmax)    \n",
    "\n",
    "    if plot:\n",
    "        plt.figure()\n",
    "        for fl, fc, fu in zip(f_lower, f_centers, f_upper):\n",
    "            plt.axvline(fu, color=\"r\")\n",
    "            plt.axvline(fl, color=\"r\")\n",
    "            plt.axvline(fc)\n",
    "            plt.axvline(fmin, color=\"g\")\n",
    "            plt.axvline(fmax, color=\"g\")\n",
    "            plt.xscale(\"log\")\n",
    "        plt.show()\n",
    "\n",
    "    return array(f_lower), array(f_upper), array(f_centers)"
   ]
  },
  {
   "cell_type": "code",
   "execution_count": 9,
   "id": "ce001e33-583f-417a-98cf-1ac1a616c3e8",
   "metadata": {
    "tags": []
   },
   "outputs": [],
   "source": [
    "f_lower, f_upper, f_center = __get_octave_bands(1e-3, 1e0, fband_type=\"one-third-octave\", plot=False)"
   ]
  },
  {
   "cell_type": "markdown",
   "id": "0568a928-a2fc-430a-95dc-f64c3967434e",
   "metadata": {},
   "source": [
    "### Get indicies for frequency bands"
   ]
  },
  {
   "cell_type": "code",
   "execution_count": 10,
   "id": "dd47f956-8577-4738-ac00-edc06b6e41a2",
   "metadata": {
    "tags": []
   },
   "outputs": [],
   "source": [
    "\n",
    "fl_idx, fu_idx = [], []\n",
    "\n",
    "for _k, (fl, fu) in enumerate(zip(f_lower, f_upper)):\n",
    "    if _k <= len(f_center):\n",
    "\n",
    "        for _i, _f in enumerate(ff):\n",
    "            if _f >= fl:\n",
    "                fl_idx.append(int(_i))\n",
    "                break\n",
    "\n",
    "        for _i, _f in enumerate(ff):\n",
    "            if _f >= fu:\n",
    "                fu_idx.append(int(_i))\n",
    "                break"
   ]
  },
  {
   "cell_type": "markdown",
   "id": "63082a8c-871b-4df8-87e9-ea706993a993",
   "metadata": {},
   "source": [
    "### Get PSD mean for frequency bands"
   ]
  },
  {
   "cell_type": "code",
   "execution_count": 11,
   "id": "c64a8698-ff2d-4a73-ac53-d600920617e4",
   "metadata": {
    "tags": []
   },
   "outputs": [
    {
     "name": "stderr",
     "output_type": "stream",
     "text": [
      "/home/brotzer/anaconda3/envs/obs2/lib/python3.9/site-packages/numpy/core/fromnumeric.py:3504: RuntimeWarning: Mean of empty slice.\n",
      "  return _methods._mean(a, axis=axis, dtype=dtype,\n",
      "/home/brotzer/anaconda3/envs/obs2/lib/python3.9/site-packages/numpy/core/_methods.py:129: RuntimeWarning: invalid value encountered in scalar divide\n",
      "  ret = ret.dtype.type(ret / rcount)\n"
     ]
    },
    {
     "data": {
      "image/png": "[encoded data removed]",
      "text/plain": [
       "<Figure size 1500x500 with 1 Axes>"
      ]
     },
     "metadata": {},
     "output_type": "display_data"
    }
   ],
   "source": [
    "def __get_band_means(freq, data, f_center):\n",
    "\n",
    "    psd_mean, fc = [], []\n",
    "    for _n, (ifl, ifu) in enumerate(zip(fl_idx, fu_idx)):\n",
    "\n",
    "        means = []\n",
    "        for _psd in data:\n",
    "            means.append(mean(_psd[ifl:ifu]))\n",
    "        psd_mean.append(array(means))\n",
    "        fc.append(f_center[_n])\n",
    "\n",
    "    psd_mean = array(psd_mean)\n",
    "\n",
    "    ## ___________________\n",
    "    ## check up plot\n",
    "\n",
    "    plt.figure(figsize=(15, 5))\n",
    "\n",
    "    for _j, dd in enumerate(psd_mean):\n",
    "        plt.scatter(ones(len(dd))*fc[_j], dd, s=5)\n",
    "        plt.xscale(\"log\")\n",
    "        plt.yscale(\"log\")\n",
    "\n",
    "    plt.show();\n",
    "\n",
    "    out = {}\n",
    "    out['psd_means'] = psd_mean\n",
    "    out['fcenter'] = array(fc)\n",
    "    out['dates'] = dates\n",
    "\n",
    "    return out\n",
    "\n",
    "\n",
    "out0 = __get_band_means(ff, dat, f_center)"
   ]
  },
  {
   "cell_type": "markdown",
   "id": "1c45c62c-8af2-4eff-ae9e-8ddabe9e9564",
   "metadata": {
    "tags": []
   },
   "source": [
    "## Store data"
   ]
  },
  {
   "cell_type": "code",
   "execution_count": 12,
   "id": "6ff2934e-6b13-4532-bac4-6a6640cc97a5",
   "metadata": {
    "tags": []
   },
   "outputs": [],
   "source": [
    "# __store_as_pickle(out0, config['path_to_outdata']+config['station']+\".pkl\")"
   ]
  },
  {
   "cell_type": "code",
   "execution_count": 13,
   "id": "2b9ca1a0-6fc5-40c4-b919-ef5f58f36766",
   "metadata": {
    "tags": []
   },
   "outputs": [],
   "source": [
    "## create and fill data frame\n",
    "df_out = DataFrame()\n",
    "\n",
    "df_out['dates'] = out0['dates']\n",
    "\n",
    "for _i, fc in enumerate(out0['fcenter']):\n",
    "    df_out[round(fc, 5)] = out0['psd_means'][_i]\n",
    "\n",
    "## store as pickle file\n",
    "df_out.to_pickle(config['path_to_outdata']+config['station']+\".pkl\")"
   ]
  },
  {
   "cell_type": "code",
   "execution_count": 14,
   "id": "d5ff9a66-7f7d-4595-8f4c-01f92456751b",
   "metadata": {},
   "outputs": [
    {
     "data": {
      "text/html": [
       "<div>\n",
       "<style scoped>\n",
       "    .dataframe tbody tr th:only-of-type {\n",
       "        vertical-align: middle;\n",
       "    }\n",
       "\n",
       "    .dataframe tbody tr th {\n",
       "        vertical-align: top;\n",
       "    }\n",
       "\n",
       "    .dataframe thead th {\n",
       "        text-align: right;\n",
       "    }\n",
       "</style>\n",
       "<table border=\"1\" class=\"dataframe\">\n",
       "  <thead>\n",
       "    <tr style=\"text-align: right;\">\n",
       "      <th></th>\n",
       "      <th>dates</th>\n",
       "      <th>0.001</th>\n",
       "      <th>0.00125</th>\n",
       "      <th>0.0016</th>\n",
       "      <th>0.002</th>\n",
       "      <th>0.0025</th>\n",
       "      <th>0.00315</th>\n",
       "      <th>0.004</th>\n",
       "      <th>0.005</th>\n",
       "      <th>0.0063</th>\n",
       "      <th>...</th>\n",
       "      <th>0.125</th>\n",
       "      <th>0.16</th>\n",
       "      <th>0.2</th>\n",
       "      <th>0.25</th>\n",
       "      <th>0.315</th>\n",
       "      <th>0.4</th>\n",
       "      <th>0.5</th>\n",
       "      <th>0.63</th>\n",
       "      <th>0.8</th>\n",
       "      <th>1.0</th>\n",
       "    </tr>\n",
       "  </thead>\n",
       "  <tbody>\n",
       "    <tr>\n",
       "      <th>0</th>\n",
       "      <td>20230923_00</td>\n",
       "      <td>0.017425</td>\n",
       "      <td>NaN</td>\n",
       "      <td>0.009499</td>\n",
       "      <td>0.008473</td>\n",
       "      <td>0.011561</td>\n",
       "      <td>0.006078</td>\n",
       "      <td>0.002956</td>\n",
       "      <td>0.001885</td>\n",
       "      <td>0.001587</td>\n",
       "      <td>...</td>\n",
       "      <td>2.625402e-04</td>\n",
       "      <td>0.000165</td>\n",
       "      <td>0.000131</td>\n",
       "      <td>1.056856e-04</td>\n",
       "      <td>7.437795e-05</td>\n",
       "      <td>5.949291e-05</td>\n",
       "      <td>4.321320e-05</td>\n",
       "      <td>3.376698e-05</td>\n",
       "      <td>1.608663e-05</td>\n",
       "      <td>1.170058e-05</td>\n",
       "    </tr>\n",
       "    <tr>\n",
       "      <th>1</th>\n",
       "      <td>20230923_01</td>\n",
       "      <td>0.031656</td>\n",
       "      <td>NaN</td>\n",
       "      <td>0.026072</td>\n",
       "      <td>0.020572</td>\n",
       "      <td>0.027255</td>\n",
       "      <td>0.012571</td>\n",
       "      <td>0.001030</td>\n",
       "      <td>0.001310</td>\n",
       "      <td>0.000975</td>\n",
       "      <td>...</td>\n",
       "      <td>8.110334e-05</td>\n",
       "      <td>0.000085</td>\n",
       "      <td>0.000046</td>\n",
       "      <td>3.279878e-05</td>\n",
       "      <td>2.471513e-05</td>\n",
       "      <td>1.814139e-05</td>\n",
       "      <td>1.144809e-05</td>\n",
       "      <td>6.081962e-06</td>\n",
       "      <td>3.836132e-06</td>\n",
       "      <td>2.207094e-06</td>\n",
       "    </tr>\n",
       "    <tr>\n",
       "      <th>2</th>\n",
       "      <td>20230923_02</td>\n",
       "      <td>0.038789</td>\n",
       "      <td>NaN</td>\n",
       "      <td>0.015347</td>\n",
       "      <td>0.009212</td>\n",
       "      <td>0.003034</td>\n",
       "      <td>0.002729</td>\n",
       "      <td>0.001010</td>\n",
       "      <td>0.000898</td>\n",
       "      <td>0.001056</td>\n",
       "      <td>...</td>\n",
       "      <td>7.763474e-05</td>\n",
       "      <td>0.000049</td>\n",
       "      <td>0.000042</td>\n",
       "      <td>3.855803e-05</td>\n",
       "      <td>2.307613e-05</td>\n",
       "      <td>1.523963e-05</td>\n",
       "      <td>1.009787e-05</td>\n",
       "      <td>5.427968e-06</td>\n",
       "      <td>3.329447e-06</td>\n",
       "      <td>2.032981e-06</td>\n",
       "    </tr>\n",
       "    <tr>\n",
       "      <th>3</th>\n",
       "      <td>20230923_03</td>\n",
       "      <td>0.015444</td>\n",
       "      <td>NaN</td>\n",
       "      <td>0.021015</td>\n",
       "      <td>0.009258</td>\n",
       "      <td>0.004000</td>\n",
       "      <td>0.002082</td>\n",
       "      <td>0.001719</td>\n",
       "      <td>0.005418</td>\n",
       "      <td>0.001935</td>\n",
       "      <td>...</td>\n",
       "      <td>1.405477e-04</td>\n",
       "      <td>0.000090</td>\n",
       "      <td>0.000068</td>\n",
       "      <td>4.959224e-05</td>\n",
       "      <td>3.137029e-05</td>\n",
       "      <td>2.588615e-05</td>\n",
       "      <td>2.077662e-05</td>\n",
       "      <td>1.320658e-05</td>\n",
       "      <td>7.835593e-06</td>\n",
       "      <td>5.101245e-06</td>\n",
       "    </tr>\n",
       "    <tr>\n",
       "      <th>4</th>\n",
       "      <td>20230923_04</td>\n",
       "      <td>0.024912</td>\n",
       "      <td>NaN</td>\n",
       "      <td>0.015081</td>\n",
       "      <td>0.006539</td>\n",
       "      <td>0.004831</td>\n",
       "      <td>0.007250</td>\n",
       "      <td>0.003127</td>\n",
       "      <td>0.002539</td>\n",
       "      <td>0.005729</td>\n",
       "      <td>...</td>\n",
       "      <td>2.116137e-04</td>\n",
       "      <td>0.000096</td>\n",
       "      <td>0.000058</td>\n",
       "      <td>6.006683e-05</td>\n",
       "      <td>2.913977e-05</td>\n",
       "      <td>2.394734e-05</td>\n",
       "      <td>2.146121e-05</td>\n",
       "      <td>1.378575e-05</td>\n",
       "      <td>7.951731e-06</td>\n",
       "      <td>5.301498e-06</td>\n",
       "    </tr>\n",
       "    <tr>\n",
       "      <th>...</th>\n",
       "      <td>...</td>\n",
       "      <td>...</td>\n",
       "      <td>...</td>\n",
       "      <td>...</td>\n",
       "      <td>...</td>\n",
       "      <td>...</td>\n",
       "      <td>...</td>\n",
       "      <td>...</td>\n",
       "      <td>...</td>\n",
       "      <td>...</td>\n",
       "      <td>...</td>\n",
       "      <td>...</td>\n",
       "      <td>...</td>\n",
       "      <td>...</td>\n",
       "      <td>...</td>\n",
       "      <td>...</td>\n",
       "      <td>...</td>\n",
       "      <td>...</td>\n",
       "      <td>...</td>\n",
       "      <td>...</td>\n",
       "      <td>...</td>\n",
       "    </tr>\n",
       "    <tr>\n",
       "      <th>739</th>\n",
       "      <td>20231023_19</td>\n",
       "      <td>0.032223</td>\n",
       "      <td>NaN</td>\n",
       "      <td>0.013572</td>\n",
       "      <td>0.008827</td>\n",
       "      <td>0.030750</td>\n",
       "      <td>0.033159</td>\n",
       "      <td>0.002737</td>\n",
       "      <td>0.002297</td>\n",
       "      <td>0.003344</td>\n",
       "      <td>...</td>\n",
       "      <td>2.270126e-05</td>\n",
       "      <td>0.000014</td>\n",
       "      <td>0.000012</td>\n",
       "      <td>6.062033e-06</td>\n",
       "      <td>3.924210e-06</td>\n",
       "      <td>1.972108e-06</td>\n",
       "      <td>1.455939e-06</td>\n",
       "      <td>9.365145e-07</td>\n",
       "      <td>6.464608e-07</td>\n",
       "      <td>4.617666e-07</td>\n",
       "    </tr>\n",
       "    <tr>\n",
       "      <th>740</th>\n",
       "      <td>20231023_20</td>\n",
       "      <td>0.003630</td>\n",
       "      <td>NaN</td>\n",
       "      <td>0.007555</td>\n",
       "      <td>0.022137</td>\n",
       "      <td>0.016850</td>\n",
       "      <td>0.022542</td>\n",
       "      <td>0.039054</td>\n",
       "      <td>0.030018</td>\n",
       "      <td>0.005573</td>\n",
       "      <td>...</td>\n",
       "      <td>4.160558e-06</td>\n",
       "      <td>0.000004</td>\n",
       "      <td>0.000004</td>\n",
       "      <td>2.142931e-06</td>\n",
       "      <td>1.034083e-06</td>\n",
       "      <td>5.400821e-07</td>\n",
       "      <td>3.740267e-07</td>\n",
       "      <td>2.441060e-07</td>\n",
       "      <td>1.470417e-07</td>\n",
       "      <td>1.246395e-07</td>\n",
       "    </tr>\n",
       "    <tr>\n",
       "      <th>741</th>\n",
       "      <td>20231023_21</td>\n",
       "      <td>0.030312</td>\n",
       "      <td>NaN</td>\n",
       "      <td>0.038435</td>\n",
       "      <td>0.058605</td>\n",
       "      <td>0.046803</td>\n",
       "      <td>0.006756</td>\n",
       "      <td>0.084798</td>\n",
       "      <td>0.115622</td>\n",
       "      <td>0.044886</td>\n",
       "      <td>...</td>\n",
       "      <td>5.526254e-07</td>\n",
       "      <td>0.000001</td>\n",
       "      <td>0.000002</td>\n",
       "      <td>8.117793e-07</td>\n",
       "      <td>3.597328e-07</td>\n",
       "      <td>1.605968e-07</td>\n",
       "      <td>8.180719e-08</td>\n",
       "      <td>5.784563e-08</td>\n",
       "      <td>3.040453e-08</td>\n",
       "      <td>2.796267e-08</td>\n",
       "    </tr>\n",
       "    <tr>\n",
       "      <th>742</th>\n",
       "      <td>20231023_22</td>\n",
       "      <td>0.047995</td>\n",
       "      <td>NaN</td>\n",
       "      <td>0.045015</td>\n",
       "      <td>0.019402</td>\n",
       "      <td>0.029543</td>\n",
       "      <td>0.015926</td>\n",
       "      <td>0.008348</td>\n",
       "      <td>0.004307</td>\n",
       "      <td>0.005177</td>\n",
       "      <td>...</td>\n",
       "      <td>4.038288e-07</td>\n",
       "      <td>0.000001</td>\n",
       "      <td>0.000001</td>\n",
       "      <td>6.308107e-07</td>\n",
       "      <td>3.080605e-07</td>\n",
       "      <td>1.340716e-07</td>\n",
       "      <td>8.064757e-08</td>\n",
       "      <td>5.811947e-08</td>\n",
       "      <td>4.110347e-08</td>\n",
       "      <td>3.704918e-08</td>\n",
       "    </tr>\n",
       "    <tr>\n",
       "      <th>743</th>\n",
       "      <td>20231023_23</td>\n",
       "      <td>0.051266</td>\n",
       "      <td>NaN</td>\n",
       "      <td>0.028896</td>\n",
       "      <td>0.027329</td>\n",
       "      <td>0.018732</td>\n",
       "      <td>0.024790</td>\n",
       "      <td>0.036189</td>\n",
       "      <td>0.044245</td>\n",
       "      <td>0.025840</td>\n",
       "      <td>...</td>\n",
       "      <td>1.528124e-06</td>\n",
       "      <td>0.000002</td>\n",
       "      <td>0.000002</td>\n",
       "      <td>7.339128e-07</td>\n",
       "      <td>3.305962e-07</td>\n",
       "      <td>1.786864e-07</td>\n",
       "      <td>1.124937e-07</td>\n",
       "      <td>7.125326e-08</td>\n",
       "      <td>4.623149e-08</td>\n",
       "      <td>3.589712e-08</td>\n",
       "    </tr>\n",
       "  </tbody>\n",
       "</table>\n",
       "<p>744 rows × 32 columns</p>\n",
       "</div>"
      ],
      "text/plain": [
       "           dates     0.001  0.00125    0.0016     0.002    0.0025   0.00315  \\\n",
       "0    20230923_00  0.017425      NaN  0.009499  0.008473  0.011561  0.006078   \n",
       "1    20230923_01  0.031656      NaN  0.026072  0.020572  0.027255  0.012571   \n",
       "2    20230923_02  0.038789      NaN  0.015347  0.009212  0.003034  0.002729   \n",
       "3    20230923_03  0.015444      NaN  0.021015  0.009258  0.004000  0.002082   \n",
       "4    20230923_04  0.024912      NaN  0.015081  0.006539  0.004831  0.007250   \n",
       "..           ...       ...      ...       ...       ...       ...       ...   \n",
       "739  20231023_19  0.032223      NaN  0.013572  0.008827  0.030750  0.033159   \n",
       "740  20231023_20  0.003630      NaN  0.007555  0.022137  0.016850  0.022542   \n",
       "741  20231023_21  0.030312      NaN  0.038435  0.058605  0.046803  0.006756   \n",
       "742  20231023_22  0.047995      NaN  0.045015  0.019402  0.029543  0.015926   \n",
       "743  20231023_23  0.051266      NaN  0.028896  0.027329  0.018732  0.024790   \n",
       "\n",
       "        0.004     0.005    0.0063  ...         0.125      0.16       0.2  \\\n",
       "0    0.002956  0.001885  0.001587  ...  2.625402e-04  0.000165  0.000131   \n",
       "1    0.001030  0.001310  0.000975  ...  8.110334e-05  0.000085  0.000046   \n",
       "2    0.001010  0.000898  0.001056  ...  7.763474e-05  0.000049  0.000042   \n",
       "3    0.001719  0.005418  0.001935  ...  1.405477e-04  0.000090  0.000068   \n",
       "4    0.003127  0.002539  0.005729  ...  2.116137e-04  0.000096  0.000058   \n",
       "..        ...       ...       ...  ...           ...       ...       ...   \n",
       "739  0.002737  0.002297  0.003344  ...  2.270126e-05  0.000014  0.000012   \n",
       "740  0.039054  0.030018  0.005573  ...  4.160558e-06  0.000004  0.000004   \n",
       "741  0.084798  0.115622  0.044886  ...  5.526254e-07  0.000001  0.000002   \n",
       "742  0.008348  0.004307  0.005177  ...  4.038288e-07  0.000001  0.000001   \n",
       "743  0.036189  0.044245  0.025840  ...  1.528124e-06  0.000002  0.000002   \n",
       "\n",
       "             0.25         0.315           0.4           0.5          0.63  \\\n",
       "0    1.056856e-04  7.437795e-05  5.949291e-05  4.321320e-05  3.376698e-05   \n",
       "1    3.279878e-05  2.471513e-05  1.814139e-05  1.144809e-05  6.081962e-06   \n",
       "2    3.855803e-05  2.307613e-05  1.523963e-05  1.009787e-05  5.427968e-06   \n",
       "3    4.959224e-05  3.137029e-05  2.588615e-05  2.077662e-05  1.320658e-05   \n",
       "4    6.006683e-05  2.913977e-05  2.394734e-05  2.146121e-05  1.378575e-05   \n",
       "..            ...           ...           ...           ...           ...   \n",
       "739  6.062033e-06  3.924210e-06  1.972108e-06  1.455939e-06  9.365145e-07   \n",
       "740  2.142931e-06  1.034083e-06  5.400821e-07  3.740267e-07  2.441060e-07   \n",
       "741  8.117793e-07  3.597328e-07  1.605968e-07  8.180719e-08  5.784563e-08   \n",
       "742  6.308107e-07  3.080605e-07  1.340716e-07  8.064757e-08  5.811947e-08   \n",
       "743  7.339128e-07  3.305962e-07  1.786864e-07  1.124937e-07  7.125326e-08   \n",
       "\n",
       "              0.8           1.0  \n",
       "0    1.608663e-05  1.170058e-05  \n",
       "1    3.836132e-06  2.207094e-06  \n",
       "2    3.329447e-06  2.032981e-06  \n",
       "3    7.835593e-06  5.101245e-06  \n",
       "4    7.951731e-06  5.301498e-06  \n",
       "..            ...           ...  \n",
       "739  6.464608e-07  4.617666e-07  \n",
       "740  1.470417e-07  1.246395e-07  \n",
       "741  3.040453e-08  2.796267e-08  \n",
       "742  4.110347e-08  3.704918e-08  \n",
       "743  4.623149e-08  3.589712e-08  \n",
       "\n",
       "[744 rows x 32 columns]"
      ]
     },
     "execution_count": 14,
     "metadata": {},
     "output_type": "execute_result"
    }
   ],
   "source": [
    "df_out"
   ]
  },
  {
   "cell_type": "code",
   "execution_count": null,
   "id": "8a2dd005-8b93-45cb-8f02-ca1ad9869c1b",
   "metadata": {},
   "outputs": [],
   "source": []
  }
 ],
 "metadata": {
  "kernelspec": {
   "display_name": "Python 3 (ipykernel)",
   "language": "python",
   "name": "python3"
  },
  "language_info": {
   "codemirror_mode": {
    "name": "ipython",
    "version": 3
   },
   "file_extension": ".py",
   "mimetype": "text/x-python",
   "name": "python",
   "nbconvert_exporter": "python",
   "pygments_lexer": "ipython3",
   "version": "3.9.16"
  },
  "latex_envs": {
   "LaTeX_envs_menu_present": true,
   "autoclose": false,
   "autocomplete": true,
   "bibliofile": "biblio.bib",
   "cite_by": "apalike",
   "current_citInitial": 1,
   "eqLabelWithNumbers": true,
   "eqNumInitial": 1,
   "hotkeys": {
    "equation": "Ctrl-E",
    "itemize": "Ctrl-I"
   },
   "labels_anchors": false,
   "latex_user_defs": false,
   "report_style_numbering": false,
   "user_envs_cfg": false
  },
  "toc": {
   "base_numbering": 1,
   "nav_menu": {},
   "number_sections": true,
   "sideBar": true,
   "skip_h1_title": false,
   "title_cell": "Table of Contents",
   "title_sidebar": "Contents",
   "toc_cell": false,
   "toc_position": {},
   "toc_section_display": true,
   "toc_window_display": false
  },
  "varInspector": {
   "cols": {
    "lenName": 16,
    "lenType": 16,
    "lenVar": 40
   },
   "kernels_config": {
    "python": {
     "delete_cmd_postfix": "",
     "delete_cmd_prefix": "del ",
     "library": "var_list.py",
     "varRefreshCmd": "print(var_dic_list())"
    },
    "r": {
     "delete_cmd_postfix": ") ",
     "delete_cmd_prefix": "rm(",
     "library": "var_list.r",
     "varRefreshCmd": "cat(var_dic_list()) "
    }
   },
   "types_to_exclude": [
    "module",
    "function",
    "builtin_function_or_method",
    "instance",
    "_Feature"
   ],
   "window_display": false
  }
 },
 "nbformat": 4,
 "nbformat_minor": 5
}
