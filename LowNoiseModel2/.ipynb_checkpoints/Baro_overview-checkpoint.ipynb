{
 "cells": [
  {
   "cell_type": "markdown",
   "id": "d9b61cd4",
   "metadata": {},
   "source": [
    "## PSD of BaroData"
   ]
  },
  {
   "cell_type": "code",
   "execution_count": 1,
   "id": "b1f4323b",
   "metadata": {
    "ExecuteTime": {
     "end_time": "2023-08-07T10:39:56.274325Z",
     "start_time": "2023-08-07T10:39:56.263933Z"
    },
    "tags": []
   },
   "outputs": [],
   "source": [
    "import matplotlib.pyplot as plt\n",
    "import os\n",
    "\n",
    "from obspy import UTCDateTime, read, Stream, Trace, read_inventory\n",
    "from obspy import read_inventory\n",
    "\n",
    "from andbro__read_sds import __read_sds\n",
    "from andbro__load_FURT_stream import __load_furt_stream\n",
    "\n",
    "import warnings\n",
    "warnings.filterwarnings('ignore')"
   ]
  },
  {
   "cell_type": "code",
   "execution_count": 2,
   "id": "3b56e9a4",
   "metadata": {
    "ExecuteTime": {
     "end_time": "2023-08-07T10:39:56.856701Z",
     "start_time": "2023-08-07T10:39:56.848988Z"
    },
    "tags": []
   },
   "outputs": [],
   "source": [
    "if os.uname().nodename == 'lighthouse':\n",
    "    root_path = '/home/andbro/'\n",
    "    data_path = '/home/andbro/kilauea-data/'\n",
    "    archive_path = '/home/andbro/freenas/'\n",
    "elif os.uname().nodename == 'kilauea':\n",
    "    root_path = '/home/brotzer/'\n",
    "    data_path = '/import/kilauea-data/'\n",
    "    archive_path = '/import/freenas-ffb-01-data/'"
   ]
  },
  {
   "cell_type": "code",
   "execution_count": 3,
   "id": "2dd25eea-6808-45f7-b9d7-18e46d4174a4",
   "metadata": {
    "tags": []
   },
   "outputs": [],
   "source": [
    "# tbeg, tend = UTCDateTime(\"2023-09-03\"), UTCDateTime(\"2023-09-07\")\n",
    "tbeg, tend = UTCDateTime(\"2023-11-05\"), UTCDateTime(\"2023-11-22\")\n",
    "\n",
    "path_to_figs = root_path+\"Documents/ROMY/ROMY_infrasound/figures/\"\n",
    "\n",
    "## time of inlet below gravel\n",
    "t_gravel = UTCDateTime(\"2023-09-20 12:00\")\n",
    "\n",
    "##\n",
    "t_gravel_filter = UTCDateTime(\"2023-10-05 12:00\")\n",
    "\n",
    "##\n",
    "t_mushroom_filter = UTCDateTime(\"2023-10-13 16:00\")\n",
    "\n",
    "##\n",
    "t_mushroom_foam_filter = UTCDateTime(\"2023-11-09 13:00\")\n",
    "\n",
    "##\n",
    "t_mushroom_foam_porous = UTCDateTime(\"2023-11-17 12:00\")"
   ]
  },
  {
   "cell_type": "markdown",
   "id": "50f57953-fb99-4905-a854-afd3d2b7c269",
   "metadata": {},
   "source": [
    "# FFBI DATA"
   ]
  },
  {
   "cell_type": "code",
   "execution_count": null,
   "id": "ecb07d41-9d27-48b9-b9b5-6385b8c81668",
   "metadata": {
    "tags": []
   },
   "outputs": [
    {
     "name": "stdout",
     "output_type": "stream",
     "text": [
      " -> /home/brotzer//bay200/mseed_online/archive/ does not exist!\n"
     ]
    }
   ],
   "source": [
    "\n",
    "## period to check data... one sided differential signals...\n",
    "# tbeg, tend = \"2023-08-13\",\"2023-08-20\"\n",
    "# ffbi = __read_sds(\"/import/kilauea-data/LNM2/mb2000/sds/\", \"BW.IROMY..BD*\", tbeg, tend)\n",
    "\n",
    "ffbi = __read_sds(root_path+\"/bay200/mseed_online/archive/\", \"BW.FFBI..BD*\", tbeg, tend)\n",
    "ffbi = __read_sds(\"/bay200/mseed_online/archive/\", \"BW.FFBI..BD*\", tbeg, tend)\n",
    "\n",
    "# ffbi_inv = read_inventory(root_path+\"/Documents/ROMY/ROMY_infrasound/station_BW_FFBI.xml\")\n",
    "\n",
    "if len(ffbi) != 2:\n",
    "    ffbi.merge();\n",
    "\n",
    "# ffbi = ffbi.remove_response(ffbi_inv)\n",
    "\n",
    "## remove gain and sensitivity\n",
    "for tr in ffbi:\n",
    "    if \"F\" in tr.stats.channel:\n",
    "        # tr = tr.remove_response(ffbi_inv)\n",
    "        tr.data = tr.data *1.589e-6 /0.02  # gain=1 sensitivity_reftek=6.28099e5count/V; sensitivity_mb2005=0.02 VPa\n",
    "    elif \"O\" in tr.stats.channel:\n",
    "        tr.data = tr.data *1.589e-6 *1e5   # gain=1 sensitivity_reftek=6.28099e5count/V; sensitivity = 1 mV/hPa\n",
    "\n",
    "ffbi.merge();\n",
    "\n",
    "print(ffbi)\n",
    "\n",
    "ffbi.plot(equal_scale=False);"
   ]
  },
  {
   "cell_type": "markdown",
   "id": "dd901a22-1c2a-4b92-83a9-cf6e1e4a3ffd",
   "metadata": {},
   "source": [
    "## PROMY Data"
   ]
  },
  {
   "cell_type": "code",
   "execution_count": null,
   "id": "7119c52c-3bc7-4663-a0dd-713d62f1d9f4",
   "metadata": {
    "tags": []
   },
   "outputs": [],
   "source": [
    "promy = __read_sds(archive_path+\"romy_archive/\", \"BW.PROMY..L*\", tbeg, tend)\n",
    "promy.merge();\n",
    "promy.plot(equal_scale=False);"
   ]
  },
  {
   "cell_type": "markdown",
   "id": "af6a540c-1252-4f4c-af0a-f2805ed4e4bf",
   "metadata": {},
   "source": [
    "# FURT Data"
   ]
  },
  {
   "cell_type": "code",
   "execution_count": null,
   "id": "b9b51387-d51e-4bb5-bfbf-d13615d00dc1",
   "metadata": {
    "tags": []
   },
   "outputs": [],
   "source": [
    "# furt = __load_furt_stream(tbeg, tend, show_raw=False, sampling_rate=1.0, path_to_archive=root_path+\"/bay200/gif_online/FURT/WETTER/\")\n",
    "\n",
    "furt = __load_furt_stream(tbeg, tend, show_raw=False, sampling_rate=1.0, path_to_archive=\"/bay200/gif_online/FURT/WETTER/\")\n",
    "\n",
    "furt.plot(equal_scale=False);"
   ]
  },
  {
   "cell_type": "markdown",
   "id": "b8816f6e-0934-4087-9572-6a617e00cd44",
   "metadata": {},
   "source": [
    "## Plot Data"
   ]
  },
  {
   "cell_type": "code",
   "execution_count": null,
   "id": "7234259d-e5af-4243-9a6a-84a116290226",
   "metadata": {
    "tags": []
   },
   "outputs": [],
   "source": [
    "def __makeplot_overview():\n",
    "\n",
    "    fig, ax = plt.subplots(4, 1, figsize=(15, 10), sharex=True)\n",
    "\n",
    "    def smooth(y, box_pts):\n",
    "        from numpy import ones, convolve, zeros, array, concatenate\n",
    "        box = ones(box_pts)/box_pts\n",
    "        y = concatenate((zeros(box_pts), array(y), zeros(box_pts)))\n",
    "        y_smooth = convolve(y, box, mode='same')\n",
    "        return y_smooth[box_pts:-box_pts]\n",
    "\n",
    "\n",
    "    time_scaling = 86400\n",
    "\n",
    "    ax[0].plot(ffbi.select(channel=\"*F\")[0].times()/time_scaling, ffbi.select(channel=\"*F\")[0].data, label=\"FFBI\", color=\"k\")\n",
    "\n",
    "\n",
    "    ax[1].plot(ffbi.select(channel=\"*O\")[0].times()/time_scaling, ffbi.select(channel=\"*O\")[0].data/100, label=\"FFBI\", color=\"k\")\n",
    "    ax[1].plot(promy.select(channel=\"LDI\")[0].times()/time_scaling, promy.select(channel=\"LDI\")[0].data/100, label=\"PROMY\", color=\"tab:blue\")\n",
    "    ax[1].plot(furt.select(channel=\"LAP\")[0].times()/time_scaling, furt.select(channel=\"LAP\")[0].data, label=\"FURT\", color=\"tab:orange\")\n",
    "\n",
    "\n",
    "    ax[2].plot(furt.select(channel=\"LAT\")[0].times()/time_scaling, furt.select(channel=\"LAT\")[0].data, label=\"FURT\", color=\"tab:red\")\n",
    "    ax22 = ax[2].twinx()\n",
    "    ax22.plot(promy.select(channel=\"LKI\")[0].times()/time_scaling, promy.select(channel=\"LKI\")[0].data, label=\"PROMY\", color=\"tab:brown\")\n",
    "    ax22.legend(loc=4)\n",
    "    ax22.tick_params(axis='y', colors=\"tab:brown\")\n",
    "\n",
    "    wind_force = smooth(furt.select(channel=\"LAW\")[0].data, 900)\n",
    "    ax[3].plot(furt.select(channel=\"LAW\")[0].times()/time_scaling, wind_force, color=\"tab:green\", label=\"15 min mean\")\n",
    "\n",
    "    ax32 = ax[3].twinx()\n",
    "    wind_direction = smooth(furt.select(channel=\"LAD\")[0].data, 900)\n",
    "    ax32.plot(furt.select(channel=\"LAD\")[0].times()/time_scaling, wind_direction, color=\"tab:purple\", label=\"15 min mean\")\n",
    "    ax32.set_ylim(0, 360)\n",
    "    ax32.tick_params(axis='y', colors=\"tab:purple\")\n",
    "\n",
    "\n",
    "    ax22.set_ylabel(\"Temperature (°C)\", color=\"tab:brown\")\n",
    "    ax32.set_ylabel(\"Wind Direction (°)\", color=\"tab:purple\")\n",
    "    ax[0].set_ylabel(\"Diff. Pressure (Pa)\")\n",
    "    ax[1].set_ylabel(\"Abs. Pressure (hPa)\")\n",
    "    ax[2].set_ylabel(\"Temperature (°C)\")\n",
    "    ax[3].set_ylabel(\"Wind (m/s)\")\n",
    "\n",
    "    ax[3].set_xlabel(f\"Time from {tbeg.date} {str(tbeg.time).split('.')[0]} UTC (days)\")\n",
    "\n",
    "    for i in range(4):\n",
    "        ax[i].grid(alpha=0.5, color=\"grey\", zorder=0)\n",
    "        ax[i].legend()\n",
    "        ax[i].axvline((t_gravel-tbeg)/time_scaling, color=\"darkblue\", ls=\"--\")\n",
    "        ax[i].axvline((t_mushroom_filter-tbeg)/time_scaling, color=\"purple\", ls=\"--\")\n",
    "        ax[i].axvline((t_gravel_filter-tbeg)/time_scaling, color=\"cyan\", ls=\"--\")\n",
    "        ax[i].axvline((t_mushroom_foam_filter-tbeg)/time_scaling, color=\"darkred\", ls=\"--\")\n",
    "        ax[i].axvline((t_mushroom_foam_porous-tbeg)/time_scaling, color=\"darkgreen\", ls=\"--\")\n",
    "\n",
    "\n",
    "    ax[1].legend(ncol=3)\n",
    "\n",
    "    ax[1].set_ylim(900, 970)\n",
    "    ax[3].set_xlim(0, max(ffbi.select(channel=\"*F\")[0].times()/time_scaling))\n",
    "\n",
    "    plt.show();\n",
    "    return fig\n",
    "\n",
    "fig = __makeplot_overview()"
   ]
  },
  {
   "cell_type": "code",
   "execution_count": null,
   "id": "d509c5e0-2ef9-4479-b594-91c49f5f538f",
   "metadata": {
    "tags": []
   },
   "outputs": [],
   "source": [
    "fig.savefig(path_to_figs+f\"comparison_{tbeg.date}_{tend.date}.tiff\", dpi=200, format=\"tiff\", bbox_inches='tight')"
   ]
  },
  {
   "cell_type": "code",
   "execution_count": null,
   "id": "78105cb9-ea55-4cbe-b322-965cde3d5474",
   "metadata": {},
   "outputs": [],
   "source": []
  },
  {
   "cell_type": "code",
   "execution_count": null,
   "id": "df4996de-69f0-440b-a1c0-f787fb21e34c",
   "metadata": {},
   "outputs": [],
   "source": []
  },
  {
   "cell_type": "code",
   "execution_count": null,
   "id": "91fe08fa-f946-4b4c-86d8-ccb8b904b73e",
   "metadata": {},
   "outputs": [],
   "source": []
  }
 ],
 "metadata": {
  "kernelspec": {
   "display_name": "Python 3 (ipykernel)",
   "language": "python",
   "name": "python3"
  },
  "language_info": {
   "codemirror_mode": {
    "name": "ipython",
    "version": 3
   },
   "file_extension": ".py",
   "mimetype": "text/x-python",
   "name": "python",
   "nbconvert_exporter": "python",
   "pygments_lexer": "ipython3",
   "version": "3.9.16"
  },
  "toc": {
   "base_numbering": 1,
   "nav_menu": {},
   "number_sections": true,
   "sideBar": true,
   "skip_h1_title": false,
   "title_cell": "Table of Contents",
   "title_sidebar": "Contents",
   "toc_cell": false,
   "toc_position": {},
   "toc_section_display": true,
   "toc_window_display": false
  }
 },
 "nbformat": 4,
 "nbformat_minor": 5
}
