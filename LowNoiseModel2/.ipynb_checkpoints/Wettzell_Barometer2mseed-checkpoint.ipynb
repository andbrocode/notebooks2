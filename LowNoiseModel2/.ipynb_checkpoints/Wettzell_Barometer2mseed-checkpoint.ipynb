{
 "cells": [
  {
   "cell_type": "markdown",
   "id": "3b1e5c4f-b07b-45a6-a655-e045bb540b2f",
   "metadata": {},
   "source": [
    "## Convert CSV to mseed"
   ]
  },
  {
   "cell_type": "code",
   "execution_count": 79,
   "id": "59636d09-162c-43d8-aac7-f44aacecaf00",
   "metadata": {
    "tags": []
   },
   "outputs": [],
   "source": [
    "import os\n",
    "import pandas as pd\n",
    "import obspy as obs\n",
    "import numpy as np\n",
    "\n",
    "import matplotlib.pyplot as plt\n",
    "\n",
    "from andbro__write_stream_to_sds import __write_stream_to_sds"
   ]
  },
  {
   "cell_type": "code",
   "execution_count": 4,
   "id": "42eb590b-6f6e-4314-a0f1-1afc6a92bd84",
   "metadata": {
    "tags": []
   },
   "outputs": [],
   "source": [
    "if os.uname().nodename == 'lighthouse':\n",
    "    root_path = '/home/andbro/'\n",
    "    data_path = '/home/andbro/kilauea-data/'\n",
    "    archive_path = '/home/andbro/freenas/'\n",
    "    bay_path = '/home/andbro/bay200/'\n",
    "elif os.uname().nodename == 'kilauea':\n",
    "    root_path = '/home/brotzer/'\n",
    "    data_path = '/import/kilauea-data/'\n",
    "    archive_path = '/import/freenas-ffb-01-data/'\n",
    "    bay_path = '/bay200/'\n",
    "elif os.uname().nodename == 'lin-ffb-01':\n",
    "    root_path = '/home/brotzer/'\n",
    "    data_path = '/import/kilauea-data/'\n",
    "    archive_path = '/import/freenas-ffb-01-data/'\n",
    "    bay_path = '/bay200/'"
   ]
  },
  {
   "cell_type": "code",
   "execution_count": 68,
   "id": "e764c674-1081-4a8f-bba5-8c3709360544",
   "metadata": {
    "tags": []
   },
   "outputs": [],
   "source": [
    "path_to_data = data_path+\"LNM2/data/wettzell/\""
   ]
  },
  {
   "cell_type": "markdown",
   "id": "8e6e058b-edf1-4869-8171-c10aa03e3e2b",
   "metadata": {},
   "source": [
    "### Load Data"
   ]
  },
  {
   "cell_type": "code",
   "execution_count": 11,
   "id": "09efd702-eabd-48b3-a36d-070328924b6a",
   "metadata": {
    "tags": []
   },
   "outputs": [],
   "source": [
    "df = pd.read_csv(path_to_data+\"luftdruck_wettzell.csv\")"
   ]
  },
  {
   "cell_type": "code",
   "execution_count": 12,
   "id": "6bbdb7e5-e01d-4522-b859-50b48fd534ab",
   "metadata": {
    "tags": []
   },
   "outputs": [
    {
     "data": {
      "text/html": [
       "<div>\n",
       "<style scoped>\n",
       "    .dataframe tbody tr th:only-of-type {\n",
       "        vertical-align: middle;\n",
       "    }\n",
       "\n",
       "    .dataframe tbody tr th {\n",
       "        vertical-align: top;\n",
       "    }\n",
       "\n",
       "    .dataframe thead th {\n",
       "        text-align: right;\n",
       "    }\n",
       "</style>\n",
       "<table border=\"1\" class=\"dataframe\">\n",
       "  <thead>\n",
       "    <tr style=\"text-align: right;\">\n",
       "      <th></th>\n",
       "      <th>epoch</th>\n",
       "      <th>p</th>\n",
       "    </tr>\n",
       "  </thead>\n",
       "  <tbody>\n",
       "    <tr>\n",
       "      <th>0</th>\n",
       "      <td>2023-09-01 00:00:00+00</td>\n",
       "      <td>946.154</td>\n",
       "    </tr>\n",
       "    <tr>\n",
       "      <th>1</th>\n",
       "      <td>2023-09-01 00:01:00+00</td>\n",
       "      <td>946.165</td>\n",
       "    </tr>\n",
       "    <tr>\n",
       "      <th>2</th>\n",
       "      <td>2023-09-01 00:02:00+00</td>\n",
       "      <td>946.168</td>\n",
       "    </tr>\n",
       "    <tr>\n",
       "      <th>3</th>\n",
       "      <td>2023-09-01 00:03:00+00</td>\n",
       "      <td>946.168</td>\n",
       "    </tr>\n",
       "    <tr>\n",
       "      <th>4</th>\n",
       "      <td>2023-09-01 00:04:00+00</td>\n",
       "      <td>946.166</td>\n",
       "    </tr>\n",
       "    <tr>\n",
       "      <th>...</th>\n",
       "      <td>...</td>\n",
       "      <td>...</td>\n",
       "    </tr>\n",
       "    <tr>\n",
       "      <th>175390</th>\n",
       "      <td>2023-12-31 23:55:00+00</td>\n",
       "      <td>938.512</td>\n",
       "    </tr>\n",
       "    <tr>\n",
       "      <th>175391</th>\n",
       "      <td>2023-12-31 23:56:00+00</td>\n",
       "      <td>938.534</td>\n",
       "    </tr>\n",
       "    <tr>\n",
       "      <th>175392</th>\n",
       "      <td>2023-12-31 23:57:00+00</td>\n",
       "      <td>938.566</td>\n",
       "    </tr>\n",
       "    <tr>\n",
       "      <th>175393</th>\n",
       "      <td>2023-12-31 23:58:00+00</td>\n",
       "      <td>938.563</td>\n",
       "    </tr>\n",
       "    <tr>\n",
       "      <th>175394</th>\n",
       "      <td>2023-12-31 23:59:00+00</td>\n",
       "      <td>938.586</td>\n",
       "    </tr>\n",
       "  </tbody>\n",
       "</table>\n",
       "<p>175395 rows × 2 columns</p>\n",
       "</div>"
      ],
      "text/plain": [
       "                         epoch        p\n",
       "0       2023-09-01 00:00:00+00  946.154\n",
       "1       2023-09-01 00:01:00+00  946.165\n",
       "2       2023-09-01 00:02:00+00  946.168\n",
       "3       2023-09-01 00:03:00+00  946.168\n",
       "4       2023-09-01 00:04:00+00  946.166\n",
       "...                        ...      ...\n",
       "175390  2023-12-31 23:55:00+00  938.512\n",
       "175391  2023-12-31 23:56:00+00  938.534\n",
       "175392  2023-12-31 23:57:00+00  938.566\n",
       "175393  2023-12-31 23:58:00+00  938.563\n",
       "175394  2023-12-31 23:59:00+00  938.586\n",
       "\n",
       "[175395 rows x 2 columns]"
      ]
     },
     "execution_count": 12,
     "metadata": {},
     "output_type": "execute_result"
    }
   ],
   "source": [
    "df"
   ]
  },
  {
   "cell_type": "markdown",
   "id": "f34e1a83-c49e-4115-94f4-65b14bb5aecb",
   "metadata": {},
   "source": [
    "### Merge with Dummy Frame (to ensure constant sampling)"
   ]
  },
  {
   "cell_type": "code",
   "execution_count": 49,
   "id": "a5787d05-d26b-4d06-93e5-ca9156207897",
   "metadata": {
    "tags": []
   },
   "outputs": [],
   "source": [
    "df_dummy = pd.DataFrame()\n",
    "\n",
    "seconds = int(abs(obs.UTCDateTime(df.epoch.iloc[0][:-3]) - obs.UTCDateTime(df.epoch.iloc[-1][:-3])))\n",
    "\n",
    "tt = []\n",
    "for _n, _t in enumerate(np.arange(0, seconds+60, 60)):\n",
    "    obst = obs.UTCDateTime(df.epoch.iloc[0][:-3]) + _t\n",
    "    tt.append(f\"{obst.date} {str(obst.time).split('.')[0]}+00\")\n",
    "\n",
    "df_dummy['epoch'] = tt\n",
    "\n",
    "df_new = df_dummy.merge(df, how=\"outer\", on=\"epoch\")"
   ]
  },
  {
   "cell_type": "code",
   "execution_count": 61,
   "id": "af77c87e-d87b-488c-9927-9e478ebfeda3",
   "metadata": {
    "tags": []
   },
   "outputs": [
    {
     "data": {
      "text/html": [
       "<div>\n",
       "<style scoped>\n",
       "    .dataframe tbody tr th:only-of-type {\n",
       "        vertical-align: middle;\n",
       "    }\n",
       "\n",
       "    .dataframe tbody tr th {\n",
       "        vertical-align: top;\n",
       "    }\n",
       "\n",
       "    .dataframe thead th {\n",
       "        text-align: right;\n",
       "    }\n",
       "</style>\n",
       "<table border=\"1\" class=\"dataframe\">\n",
       "  <thead>\n",
       "    <tr style=\"text-align: right;\">\n",
       "      <th></th>\n",
       "      <th>epoch</th>\n",
       "      <th>p</th>\n",
       "      <th>time</th>\n",
       "    </tr>\n",
       "  </thead>\n",
       "  <tbody>\n",
       "    <tr>\n",
       "      <th>18105</th>\n",
       "      <td>2023-09-13 13:45:00+00</td>\n",
       "      <td>NaN</td>\n",
       "      <td>NaN</td>\n",
       "    </tr>\n",
       "    <tr>\n",
       "      <th>36536</th>\n",
       "      <td>2023-09-26 08:56:00+00</td>\n",
       "      <td>NaN</td>\n",
       "      <td>NaN</td>\n",
       "    </tr>\n",
       "    <tr>\n",
       "      <th>36549</th>\n",
       "      <td>2023-09-26 09:09:00+00</td>\n",
       "      <td>NaN</td>\n",
       "      <td>NaN</td>\n",
       "    </tr>\n",
       "    <tr>\n",
       "      <th>36550</th>\n",
       "      <td>2023-09-26 09:10:00+00</td>\n",
       "      <td>NaN</td>\n",
       "      <td>NaN</td>\n",
       "    </tr>\n",
       "    <tr>\n",
       "      <th>36551</th>\n",
       "      <td>2023-09-26 09:11:00+00</td>\n",
       "      <td>NaN</td>\n",
       "      <td>NaN</td>\n",
       "    </tr>\n",
       "    <tr>\n",
       "      <th>...</th>\n",
       "      <td>...</td>\n",
       "      <td>...</td>\n",
       "      <td>...</td>\n",
       "    </tr>\n",
       "    <tr>\n",
       "      <th>110235</th>\n",
       "      <td>2023-11-16 13:15:00+00</td>\n",
       "      <td>NaN</td>\n",
       "      <td>NaN</td>\n",
       "    </tr>\n",
       "    <tr>\n",
       "      <th>110236</th>\n",
       "      <td>2023-11-16 13:16:00+00</td>\n",
       "      <td>NaN</td>\n",
       "      <td>NaN</td>\n",
       "    </tr>\n",
       "    <tr>\n",
       "      <th>110237</th>\n",
       "      <td>2023-11-16 13:17:00+00</td>\n",
       "      <td>NaN</td>\n",
       "      <td>NaN</td>\n",
       "    </tr>\n",
       "    <tr>\n",
       "      <th>110238</th>\n",
       "      <td>2023-11-16 13:18:00+00</td>\n",
       "      <td>NaN</td>\n",
       "      <td>NaN</td>\n",
       "    </tr>\n",
       "    <tr>\n",
       "      <th>110239</th>\n",
       "      <td>2023-11-16 13:19:00+00</td>\n",
       "      <td>NaN</td>\n",
       "      <td>NaN</td>\n",
       "    </tr>\n",
       "  </tbody>\n",
       "</table>\n",
       "<p>285 rows × 3 columns</p>\n",
       "</div>"
      ],
      "text/plain": [
       "                         epoch   p time\n",
       "18105   2023-09-13 13:45:00+00 NaN  NaN\n",
       "36536   2023-09-26 08:56:00+00 NaN  NaN\n",
       "36549   2023-09-26 09:09:00+00 NaN  NaN\n",
       "36550   2023-09-26 09:10:00+00 NaN  NaN\n",
       "36551   2023-09-26 09:11:00+00 NaN  NaN\n",
       "...                        ...  ..  ...\n",
       "110235  2023-11-16 13:15:00+00 NaN  NaN\n",
       "110236  2023-11-16 13:16:00+00 NaN  NaN\n",
       "110237  2023-11-16 13:17:00+00 NaN  NaN\n",
       "110238  2023-11-16 13:18:00+00 NaN  NaN\n",
       "110239  2023-11-16 13:19:00+00 NaN  NaN\n",
       "\n",
       "[285 rows x 3 columns]"
      ]
     },
     "execution_count": 61,
     "metadata": {},
     "output_type": "execute_result"
    }
   ],
   "source": [
    "# df_new[df_new.p.isna()]"
   ]
  },
  {
   "cell_type": "markdown",
   "id": "caa2202b-c436-4cba-9cc8-6666bf5a81f4",
   "metadata": {},
   "source": [
    "### Create Stream and write to SDS"
   ]
  },
  {
   "cell_type": "code",
   "execution_count": 81,
   "id": "5189c5e0-5237-4555-b82c-7ce5bca7b1de",
   "metadata": {
    "tags": []
   },
   "outputs": [],
   "source": [
    "tr = obs.Trace()\n",
    "\n",
    "tr.data = df_new.p.to_numpy()\n",
    "tr.stats.delta = 60\n",
    "tr.stats.starttime = obs.UTCDateTime(df.epoch.iloc[0][:-3])\n",
    "tr.stats.network = \"BW\"\n",
    "tr.stats.station = \"WETR\"\n",
    "tr.stats.location = \"\"\n",
    "tr.stats.channel = \"BDO\"\n",
    "\n",
    "st = obs.Stream(traces=tr)"
   ]
  },
  {
   "cell_type": "code",
   "execution_count": null,
   "id": "b46b1e93-435c-4b07-b256-128103bb5dfc",
   "metadata": {
    "tags": []
   },
   "outputs": [],
   "source": [
    "for datetime in pd.date_range(str(st[0].stats.starttime.date), str(st[0].stats.endtime.date)):\n",
    "    st_out = st.copy()\n",
    "    st_out.trim(obs.UTCDateTime(datetime), obs.UTCDateTime(datetime)+86399)\n",
    "    print(st_out)\n",
    "    __write_stream_to_sds(st_out, path_to_data)"
   ]
  },
  {
   "cell_type": "code",
   "execution_count": 13,
   "id": "e688f9fb-ecab-4318-8e37-c43e129ad834",
   "metadata": {
    "tags": []
   },
   "outputs": [],
   "source": []
  },
  {
   "cell_type": "code",
   "execution_count": null,
   "id": "a80b7773-19c6-435f-9a63-f3f1cbd9a7cd",
   "metadata": {},
   "outputs": [],
   "source": []
  }
 ],
 "metadata": {
  "kernelspec": {
   "display_name": "Python 3 (ipykernel)",
   "language": "python",
   "name": "python3"
  },
  "language_info": {
   "codemirror_mode": {
    "name": "ipython",
    "version": 3
   },
   "file_extension": ".py",
   "mimetype": "text/x-python",
   "name": "python",
   "nbconvert_exporter": "python",
   "pygments_lexer": "ipython3",
   "version": "3.10.12"
  }
 },
 "nbformat": 4,
 "nbformat_minor": 5
}
