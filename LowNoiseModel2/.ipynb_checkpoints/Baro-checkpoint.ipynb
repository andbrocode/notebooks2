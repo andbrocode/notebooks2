{
 "cells": [
  {
   "cell_type": "markdown",
   "id": "d9b61cd4",
   "metadata": {},
   "source": [
    "## PSD of BaroData"
   ]
  },
  {
   "cell_type": "code",
   "execution_count": 19,
   "id": "b1f4323b",
   "metadata": {
    "ExecuteTime": {
     "end_time": "2023-08-07T10:39:56.274325Z",
     "start_time": "2023-08-07T10:39:56.263933Z"
    }
   },
   "outputs": [],
   "source": [
    "import matplotlib.pyplot as plt\n",
    "import pickle, os\n",
    "\n",
    "\n",
    "from andbro__querrySeismoData import __querrySeismoData\n",
    "from obspy import UTCDateTime, read, Stream\n",
    "from scipy.signal import welch\n",
    "from numpy import log10, zeros, append, linspace, mean, median, array, where, transpose, shape, histogram\n",
    "from pandas import DataFrame, concat, Series, date_range, to_pickle\n",
    "from pathlib import Path\n",
    "from andbro__load_FURT_stream import __load_furt_stream\n",
    "\n",
    "import warnings\n",
    "warnings.filterwarnings('ignore')"
   ]
  },
  {
   "cell_type": "code",
   "execution_count": 2,
   "id": "3b56e9a4",
   "metadata": {
    "ExecuteTime": {
     "end_time": "2023-08-07T10:39:56.856701Z",
     "start_time": "2023-08-07T10:39:56.848988Z"
    }
   },
   "outputs": [],
   "source": [
    "if os.uname().nodename == 'lighthouse':\n",
    "    root_path = '/home/andbro/'\n",
    "    data_path = '/home/andbro/kilauea-data/'\n",
    "    archive_path = '/home/andbro/freenas/'\n",
    "elif os.uname().nodename == 'kilauea':\n",
    "    root_path = '/home/brotzer/'\n",
    "    data_path = '/import/kilauea-data/'\n",
    "    archive_path = '/import/freenas-ffb-01-data/'"
   ]
  },
  {
   "cell_type": "code",
   "execution_count": 3,
   "id": "976a7b7e",
   "metadata": {},
   "outputs": [],
   "source": [
    "path = \"/import/kilauea-data/LNM2/infrasound/\""
   ]
  },
  {
   "cell_type": "markdown",
   "id": "09b32701-87d8-4e52-9786-5aae3390bc4b",
   "metadata": {},
   "source": [
    "## Load Data"
   ]
  },
  {
   "cell_type": "code",
   "execution_count": 68,
   "id": "e0bdac36-2fc5-4342-8811-422b80237316",
   "metadata": {},
   "outputs": [],
   "source": [
    "files = os.listdir(path)\n",
    "\n",
    "st0 = Stream()\n",
    "for file in files:\n",
    "\n",
    "    st = read(path+file+\"/*\")\n",
    "    st = st.merge()\n",
    "    st = st.select(channel=\"*3\")\n",
    "    st0+=st\n",
    "\n",
    "st0.detrend(\"demean\")\n",
    "\n",
    "st0.plot(equal_scale=False);"
   ]
  },
  {
   "cell_type": "code",
   "execution_count": 89,
   "id": "1f1ae015-b547-47c7-a829-3ae454dd29a2",
   "metadata": {},
   "outputs": [],
   "source": [
    "# %load /home/brotzer/andbro_python/andbro__write_SDS.py\n",
    "#!/usr/bin/python\n",
    "#\n",
    "# description\n",
    "#\n",
    "# by AndBro @2022\n",
    "#\n",
    "# update 2023-08-21\n",
    "# __________________________\n",
    "\n",
    "\n",
    "'''\n",
    "\n",
    "VARIABLES:\n",
    " - st:          stream object to write\n",
    " - root_path:   path to directory for setting up sds file structure\n",
    "\n",
    "DEPENDENCIES:\n",
    " - import os\n",
    "\n",
    "OUTPUT:\n",
    " - None\n",
    "\n",
    "EXAMPLE:\n",
    ">>> __write_SDS(st, config)\n",
    "\n",
    "'''\n",
    "\n",
    "def __write_stream_to_sds(st, root_path):\n",
    "\n",
    "    import os\n",
    "\n",
    "    ## check if output path exists\n",
    "    if not os.path.exists(config['output_path']):\n",
    "        print(f\" -> {config['output_path']} does not exist!\")\n",
    "        return\n",
    "\n",
    "    for tr in st:\n",
    "        nn, ss, ll, cc = tr.stats.network, tr.stats.station, tr.stats.location, tr.stats.channel\n",
    "        yy, jj = tr.stats.starttime.year, tr.stats.starttime.julday\n",
    "\n",
    "        if not os.path.exists(config['output_path']+f\"{yy}/\"):\n",
    "            os.mkdir(config['output_path']+f\"{yy}/\")\n",
    "            print(f\"creating: {config['output_path']}{yy}/\")\n",
    "        if not os.path.exists(config['output_path']+f\"{yy}/{nn}/\"):\n",
    "            os.mkdir(config['output_path']+f\"{yy}/{nn}/\")\n",
    "            print(f\"creating: {config['output_path']}{yy}/{nn}/\")\n",
    "        if not os.path.exists(config['output_path']+f\"{yy}/{nn}/{ss}/\"):\n",
    "            os.mkdir(config['output_path']+f\"{yy}/{nn}/{ss}/\")\n",
    "            print(f\"creating: {config['output_path']}{yy}/{nn}/{ss}/\")\n",
    "        if not os.path.exists(config['output_path']+f\"{yy}/{nn}/{ss}/{cc}.D\"):\n",
    "            os.mkdir(config['output_path']+f\"{yy}/{nn}/{ss}/{cc}.D\")\n",
    "            print(f\"creating: {config['output_path']}{yy}/{nn}/{ss}/{cc}.D\")\n",
    "\n",
    "    for tr in st:\n",
    "        nn, ss, ll, cc = tr.stats.network, tr.stats.station, tr.stats.location, tr.stats.channel\n",
    "        yy, jj = tr.stats.starttime.year, str(tr.stats.starttime.julday).rjust(3,\"0\")\n",
    "\n",
    "        try:\n",
    "            st_tmp = st.copy()\n",
    "            st_tmp.select(network=nn, station=ss, location=ll, channel=cc).write(config['output_path']+f\"{yy}/{nn}/{ss}/{cc}.D/\"+f\"{nn}.{ss}.{ll}.{cc}.D.{yy}.{jj}\", format=\"MSEED\")\n",
    "        except:\n",
    "            print(f\" -> failed to write: {cc}\")\n",
    "        finally:\n",
    "            print(f\" -> stored stream as: {yy}/{nn}/{ss}/{cc}.D/{nn}.{ss}.{ll}.{cc}.D.{yy}.{jj}\")\n",
    "\n",
    "## End of File\n"
   ]
  },
  {
   "cell_type": "markdown",
   "id": "f84b6677-465e-4bd8-95c6-4043309e8987",
   "metadata": {},
   "source": [
    "## Write Data"
   ]
  },
  {
   "cell_type": "code",
   "execution_count": 87,
   "id": "d5528588-7bd0-4295-8e73-65ac163a3077",
   "metadata": {},
   "outputs": [
    {
     "name": "stdout",
     "output_type": "stream",
     "text": [
      "2023-03-01 00:00:00\n"
     ]
    },
    {
     "data": {
      "text/plain": [
       "1 Trace(s) in Stream:\n",
       "FI.FBR.00.CH3 | 2023-03-01T00:00:04.000000Z - 2023-03-01T23:59:59.980000Z | 50.0 Hz, 4319800 samples"
      ]
     },
     "execution_count": 87,
     "metadata": {},
     "output_type": "execute_result"
    },
    {
     "name": "stdout",
     "output_type": "stream",
     "text": [
      "1 Trace(s) in Stream:\n",
      "BW.DINO..BDI | 2023-03-01T00:00:04.000000Z - 2023-03-01T23:59:59.980000Z | 50.0 Hz, 4319800 samples\n",
      "2023-03-02 00:00:00\n"
     ]
    },
    {
     "data": {
      "text/plain": [
       "1 Trace(s) in Stream:\n",
       "FI.FBR.00.CH3 | 2023-03-02T00:00:00.000000Z - 2023-03-02T23:59:59.980000Z | 50.0 Hz, 4320000 samples"
      ]
     },
     "execution_count": 87,
     "metadata": {},
     "output_type": "execute_result"
    },
    {
     "name": "stdout",
     "output_type": "stream",
     "text": [
      "1 Trace(s) in Stream:\n",
      "BW.DINO..BDI | 2023-03-02T00:00:00.000000Z - 2023-03-02T23:59:59.980000Z | 50.0 Hz, 4320000 samples\n",
      "2023-03-03 00:00:00\n"
     ]
    },
    {
     "data": {
      "text/plain": [
       "1 Trace(s) in Stream:\n",
       "FI.FBR.00.CH3 | 2023-03-03T00:00:00.000000Z - 2023-03-03T23:59:59.980000Z | 50.0 Hz, 4320000 samples"
      ]
     },
     "execution_count": 87,
     "metadata": {},
     "output_type": "execute_result"
    },
    {
     "name": "stdout",
     "output_type": "stream",
     "text": [
      "1 Trace(s) in Stream:\n",
      "BW.DINO..BDI | 2023-03-03T00:00:00.000000Z - 2023-03-03T23:59:59.980000Z | 50.0 Hz, 4320000 samples\n",
      "2023-03-04 00:00:00\n"
     ]
    },
    {
     "data": {
      "text/plain": [
       "1 Trace(s) in Stream:\n",
       "FI.FBR.00.CH3 | 2023-03-04T00:00:00.000000Z - 2023-03-04T23:59:59.980000Z | 50.0 Hz, 4320000 samples"
      ]
     },
     "execution_count": 87,
     "metadata": {},
     "output_type": "execute_result"
    },
    {
     "name": "stdout",
     "output_type": "stream",
     "text": [
      "1 Trace(s) in Stream:\n",
      "BW.DINO..BDI | 2023-03-04T00:00:00.000000Z - 2023-03-04T23:59:59.980000Z | 50.0 Hz, 4320000 samples\n",
      "2023-03-05 00:00:00\n"
     ]
    },
    {
     "data": {
      "text/plain": [
       "1 Trace(s) in Stream:\n",
       "FI.FBR.00.CH3 | 2023-03-05T00:00:00.000000Z - 2023-03-05T23:59:59.980000Z | 50.0 Hz, 4320000 samples"
      ]
     },
     "execution_count": 87,
     "metadata": {},
     "output_type": "execute_result"
    },
    {
     "name": "stdout",
     "output_type": "stream",
     "text": [
      "1 Trace(s) in Stream:\n",
      "BW.DINO..BDI | 2023-03-05T00:00:00.000000Z - 2023-03-05T23:59:59.980000Z | 50.0 Hz, 4320000 samples\n",
      "2023-03-06 00:00:00\n"
     ]
    },
    {
     "data": {
      "text/plain": [
       "1 Trace(s) in Stream:\n",
       "FI.FBR.00.CH3 | 2023-03-06T00:00:00.000000Z - 2023-03-06T23:59:59.980000Z | 50.0 Hz, 4320000 samples"
      ]
     },
     "execution_count": 87,
     "metadata": {},
     "output_type": "execute_result"
    },
    {
     "name": "stdout",
     "output_type": "stream",
     "text": [
      "1 Trace(s) in Stream:\n",
      "BW.DINO..BDI | 2023-03-06T00:00:00.000000Z - 2023-03-06T23:59:59.980000Z | 50.0 Hz, 4320000 samples\n",
      "2023-03-07 00:00:00\n"
     ]
    },
    {
     "data": {
      "text/plain": [
       "1 Trace(s) in Stream:\n",
       "FI.FBR.00.CH3 | 2023-03-07T00:00:00.000000Z - 2023-03-07T23:59:59.980000Z | 50.0 Hz, 4320000 samples"
      ]
     },
     "execution_count": 87,
     "metadata": {},
     "output_type": "execute_result"
    },
    {
     "name": "stdout",
     "output_type": "stream",
     "text": [
      "1 Trace(s) in Stream:\n",
      "BW.DINO..BDI | 2023-03-07T00:00:00.000000Z - 2023-03-07T23:59:59.980000Z | 50.0 Hz, 4320000 samples\n",
      "2023-03-08 00:00:00\n"
     ]
    },
    {
     "data": {
      "text/plain": [
       "1 Trace(s) in Stream:\n",
       "FI.FBR.00.CH3 | 2023-03-08T00:00:00.000000Z - 2023-03-08T23:59:59.980000Z | 50.0 Hz, 4320000 samples"
      ]
     },
     "execution_count": 87,
     "metadata": {},
     "output_type": "execute_result"
    },
    {
     "name": "stdout",
     "output_type": "stream",
     "text": [
      "1 Trace(s) in Stream:\n",
      "BW.DINO..BDI | 2023-03-08T00:00:00.000000Z - 2023-03-08T23:59:59.980000Z | 50.0 Hz, 4320000 samples\n",
      "2023-03-09 00:00:00\n"
     ]
    },
    {
     "data": {
      "text/plain": [
       "1 Trace(s) in Stream:\n",
       "FI.FBR.00.CH3 | 2023-03-09T00:00:00.000000Z - 2023-03-09T23:59:59.980000Z | 50.0 Hz, 4320000 samples"
      ]
     },
     "execution_count": 87,
     "metadata": {},
     "output_type": "execute_result"
    },
    {
     "name": "stdout",
     "output_type": "stream",
     "text": [
      "1 Trace(s) in Stream:\n",
      "BW.DINO..BDI | 2023-03-09T00:00:00.000000Z - 2023-03-09T23:59:59.980000Z | 50.0 Hz, 4320000 samples\n",
      "2023-03-10 00:00:00\n"
     ]
    },
    {
     "data": {
      "text/plain": [
       "1 Trace(s) in Stream:\n",
       "FI.FBR.00.CH3 | 2023-03-10T00:00:00.000000Z - 2023-03-10T23:59:59.980000Z | 50.0 Hz, 4320000 samples"
      ]
     },
     "execution_count": 87,
     "metadata": {},
     "output_type": "execute_result"
    },
    {
     "name": "stdout",
     "output_type": "stream",
     "text": [
      "1 Trace(s) in Stream:\n",
      "BW.DINO..BDI | 2023-03-10T00:00:00.000000Z - 2023-03-10T23:59:59.980000Z | 50.0 Hz, 4320000 samples\n",
      "2023-03-11 00:00:00\n"
     ]
    },
    {
     "data": {
      "text/plain": [
       "1 Trace(s) in Stream:\n",
       "FI.FBR.00.CH3 | 2023-03-11T00:00:00.000000Z - 2023-03-11T00:00:03.860000Z | 50.0 Hz, 194 samples"
      ]
     },
     "execution_count": 87,
     "metadata": {},
     "output_type": "execute_result"
    },
    {
     "name": "stdout",
     "output_type": "stream",
     "text": [
      "1 Trace(s) in Stream:\n",
      "BW.DINO..BDI | 2023-03-11T00:00:00.000000Z - 2023-03-11T00:00:03.860000Z | 50.0 Hz, 194 samples\n"
     ]
    }
   ],
   "source": [
    "from pandas import date_range\n",
    "\n",
    "for dt in date_range(\"2023-03-01\", \"2023-03-11\"):\n",
    "    print(dt)\n",
    "    st00 = st0.copy();\n",
    "    st00 = st00.select(channel=\"CH3\").merge();\n",
    "\n",
    "    t1, t2 = UTCDateTime(dt), UTCDateTime(dt)+86400-st00[0].stats.delta/2\n",
    "\n",
    "    st00.trim(t1, t2);\n",
    "    st00[0].stats.network = \"BW\";\n",
    "    st00[0].stats.station = \"DINO\";\n",
    "    st00[0].stats.location = \"\";\n",
    "    st00[0].stats.channel = \"BDI\";\n",
    "\n",
    "    st00.write(path+\"/2023/BW/DINO/BDI.D/\"+f\"BW.DINO..BDI.D.{t1.year}.{str(t1.julday).rjust(3, '0')}\", \"MSEED\");\n",
    "    print(st00);"
   ]
  },
  {
   "cell_type": "code",
   "execution_count": null,
   "id": "ecb07d41-9d27-48b9-b9b5-6385b8c81668",
   "metadata": {},
   "outputs": [],
   "source": []
  }
 ],
 "metadata": {
  "kernelspec": {
   "display_name": "Python 3 (ipykernel)",
   "language": "python",
   "name": "python3"
  },
  "language_info": {
   "codemirror_mode": {
    "name": "ipython",
    "version": 3
   },
   "file_extension": ".py",
   "mimetype": "text/x-python",
   "name": "python",
   "nbconvert_exporter": "python",
   "pygments_lexer": "ipython3",
   "version": "3.9.16"
  },
  "toc": {
   "base_numbering": 1,
   "nav_menu": {},
   "number_sections": true,
   "sideBar": true,
   "skip_h1_title": false,
   "title_cell": "Table of Contents",
   "title_sidebar": "Contents",
   "toc_cell": false,
   "toc_position": {},
   "toc_section_display": true,
   "toc_window_display": false
  }
 },
 "nbformat": 4,
 "nbformat_minor": 5
}
