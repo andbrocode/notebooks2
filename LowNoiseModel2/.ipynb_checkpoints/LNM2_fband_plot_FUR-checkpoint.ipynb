{
 "cells": [
  {
   "cell_type": "markdown",
   "id": "eda030d3",
   "metadata": {},
   "source": [
    "# Scatter Plots - FUR"
   ]
  },
  {
   "cell_type": "markdown",
   "id": "protected-presentation",
   "metadata": {},
   "source": [
    "## Load Libraries"
   ]
  },
  {
   "cell_type": "code",
   "execution_count": 1,
   "id": "behind-arrangement",
   "metadata": {
    "ExecuteTime": {
     "end_time": "2023-08-07T14:54:03.050940Z",
     "start_time": "2023-08-07T14:54:00.312331Z"
    }
   },
   "outputs": [],
   "source": [
    "from obspy import UTCDateTime\n",
    "from scipy.signal import welch\n",
    "from tqdm import tqdm\n",
    "from pathlib import Path\n",
    "\n",
    "import os, sys\n",
    "import pickle\n",
    "import matplotlib.pyplot as plt\n",
    "import pandas as pd\n",
    "import numpy as np\n",
    "\n",
    "# from andbro__store_as_pickle import __store_as_pickle"
   ]
  },
  {
   "cell_type": "code",
   "execution_count": 2,
   "id": "f337911b",
   "metadata": {
    "ExecuteTime": {
     "end_time": "2023-08-07T14:54:03.147385Z",
     "start_time": "2023-08-07T14:54:03.133998Z"
    }
   },
   "outputs": [],
   "source": [
    "if os.uname().nodename == 'lighthouse':\n",
    "    root_path = '/home/andbro/'\n",
    "    data_path = '/home/andbro/kilauea-data/'\n",
    "    archive_path = '/home/andbro/freenas/'\n",
    "elif os.uname().nodename == 'kilauea':\n",
    "    root_path = '/home/brotzer/'\n",
    "    data_path = '/import/kilauea-data/'\n",
    "    archive_path = '/import/freenas-ffb-01-data/'"
   ]
  },
  {
   "cell_type": "markdown",
   "id": "subject-expression",
   "metadata": {},
   "source": [
    "## Configurations"
   ]
  },
  {
   "cell_type": "code",
   "execution_count": 3,
   "id": "c898fc5e-9073-419a-b426-e7aa9a58625b",
   "metadata": {
    "ExecuteTime": {
     "end_time": "2023-08-07T15:31:55.890800Z",
     "start_time": "2023-08-07T15:31:55.885708Z"
    }
   },
   "outputs": [],
   "source": [
    "## ---------------------------------------\n",
    "\n",
    "name01 = \"FFBI_BDO\"\n",
    "name02 = \"FFBI_BDF\"\n",
    "\n",
    "name1 = \"FUR_BHN\"\n",
    "name2 = \"FUR_BHE\"\n",
    "name3 = \"FUR_BHZ\"\n",
    "\n",
    "\n",
    "# t1 ,t2 = \"2023-09-23\", \"2023-10-23\""
   ]
  },
  {
   "cell_type": "code",
   "execution_count": 4,
   "id": "565a7b24-4640-4f17-b66e-2ee951eeee5b",
   "metadata": {
    "ExecuteTime": {
     "end_time": "2023-08-07T15:31:55.890800Z",
     "start_time": "2023-08-07T15:31:55.885708Z"
    }
   },
   "outputs": [],
   "source": [
    "# ## ---------------------------------------\n",
    "\n",
    "config = {}\n",
    "\n",
    "## specify paths\n",
    "config['path_to_figs'] = data_path+f\"LNM2/figures/scatter/\"\n",
    "\n",
    "config['path_to_data'] = data_path+f\"LNM2/data/\"\n"
   ]
  },
  {
   "cell_type": "markdown",
   "id": "natural-beginning",
   "metadata": {},
   "source": [
    "## Methods"
   ]
  },
  {
   "cell_type": "code",
   "execution_count": 5,
   "id": "86d97464-9f95-46eb-b750-5c74fa5997e6",
   "metadata": {
    "tags": []
   },
   "outputs": [],
   "source": [
    "from functions.get_octave_bands import __get_octave_bands"
   ]
  },
  {
   "cell_type": "code",
   "execution_count": 6,
   "id": "757677b5-3f4d-462b-8ab1-b1ce6afac61f",
   "metadata": {
    "tags": []
   },
   "outputs": [],
   "source": [
    "def __quantile_regression(x, y, quantiles=[0.05, 0.5, 0.95]):\n",
    "\n",
    "\n",
    "    from sklearn.utils.fixes import parse_version, sp_version\n",
    "    from sklearn.linear_model import QuantileRegressor\n",
    "    from numpy import newaxis, zeros_like, bool_, logical_or, array\n",
    "\n",
    "    # This is line is to avoid incompatibility if older SciPy version.\n",
    "    # You should use `solver=\"highs\"` with recent version of SciPy.\n",
    "    solver = \"highs\" if sp_version >= parse_version(\"1.6.0\") else \"interior-point\"\n",
    "\n",
    "    predictions = {}\n",
    "\n",
    "    x = array(x)\n",
    "    X = x[:, newaxis]\n",
    "\n",
    "    out_bounds_predictions = zeros_like(y, dtype=bool_)\n",
    "\n",
    "    for quantile in quantiles:\n",
    "        qr = QuantileRegressor(quantile=quantile, alpha=0, solver=solver)\n",
    "        y_pred = qr.fit(X, y).predict(X)\n",
    "        predictions[quantile] = y_pred\n",
    "\n",
    "        if quantile == min(quantiles):\n",
    "            out_bounds_predictions = logical_or(\n",
    "                out_bounds_predictions, y_pred >= y\n",
    "            )\n",
    "        elif quantile == max(quantiles):\n",
    "            out_bounds_predictions = logical_or(\n",
    "                out_bounds_predictions, y_pred <= y\n",
    "            )\n",
    "\n",
    "    # print(qr.score(X, y))\n",
    "    return predictions"
   ]
  },
  {
   "cell_type": "code",
   "execution_count": 7,
   "id": "faa8d665-8b20-493b-87a9-dd980fe788aa",
   "metadata": {},
   "outputs": [],
   "source": [
    "def __compute_orthogonal_distance_regression(x_array, y_array, xerr=None, yerr=None, bx=None, by=None):\n",
    "\n",
    "    from scipy import odr\n",
    "    from numpy import power, mean, std\n",
    "\n",
    "    def __model(B, x):\n",
    "        return 1*x+B[0]\n",
    "\n",
    "    if bx is None and by is None:\n",
    "        bx, by = 0, mean(y_array)/mean(x_array)\n",
    "\n",
    "    if xerr is None and yerr is None:\n",
    "        xerr, yerr = std(x_array), std(y_array)\n",
    "\n",
    "#     data = odr.RealData(x_array, y_array)\n",
    "    data = odr.Data(x_array, y_array, wd=1./xerr, we=1./yerr)\n",
    "\n",
    "    # odr = odr.ODR(data, model=odr.unilinear)\n",
    "    M = odr.Model(__model)\n",
    "    odr = odr.ODR(data, model=M, beta0=[1])\n",
    "\n",
    "    output = odr.run()\n",
    "\n",
    "    # slope, intercept = output.beta\n",
    "    slope, intercept = 1, output.beta[0]\n",
    "\n",
    "    return slope, intercept"
   ]
  },
  {
   "cell_type": "markdown",
   "id": "24093c5f-3ecb-4afb-8a83-ff43d7d501e5",
   "metadata": {},
   "source": [
    "## Plot all "
   ]
  },
  {
   "cell_type": "code",
   "execution_count": 8,
   "id": "96d134d2-6924-456d-9779-e313619d9fc7",
   "metadata": {
    "tags": []
   },
   "outputs": [],
   "source": [
    "dat01 = pd.read_pickle(config['path_to_data']+name01+\".pkl\")\n",
    "dat02 = pd.read_pickle(config['path_to_data']+name02+\".pkl\")\n",
    "\n",
    "dat1 = pd.read_pickle(config['path_to_data']+name1+\".pkl\")\n",
    "dat2 = pd.read_pickle(config['path_to_data']+name2+\".pkl\")\n",
    "dat3 = pd.read_pickle(config['path_to_data']+name3+\".pkl\")\n",
    "\n",
    "coh11 = pd.read_pickle(config['path_to_data']+name01+\"_\"+name1+\"_coherence.pkl\")\n",
    "coh12 = pd.read_pickle(config['path_to_data']+name01+\"_\"+name2+\"_coherence.pkl\")\n",
    "coh13 = pd.read_pickle(config['path_to_data']+name01+\"_\"+name3+\"_coherence.pkl\")\n",
    "\n",
    "coh21 = pd.read_pickle(config['path_to_data']+name02+\"_\"+name1+\"_coherence.pkl\")\n",
    "coh22 = pd.read_pickle(config['path_to_data']+name02+\"_\"+name2+\"_coherence.pkl\")\n",
    "coh23 = pd.read_pickle(config['path_to_data']+name02+\"_\"+name3+\"_coherence.pkl\")\n"
   ]
  },
  {
   "cell_type": "code",
   "execution_count": null,
   "id": "27d019f0-e317-437c-9f56-df44404991d8",
   "metadata": {
    "tags": []
   },
   "outputs": [],
   "source": []
  },
  {
   "cell_type": "code",
   "execution_count": 9,
   "id": "36cff346-cf60-48ff-a882-2aeddb1d98ed",
   "metadata": {
    "tags": []
   },
   "outputs": [
    {
     "ename": "NameError",
     "evalue": "name 'dat0' is not defined",
     "output_type": "error",
     "traceback": [
      "\u001b[0;31m---------------------------------------------------------------------------\u001b[0m",
      "\u001b[0;31mNameError\u001b[0m                                 Traceback (most recent call last)",
      "Cell \u001b[0;32mIn[9], line 1\u001b[0m\n\u001b[0;32m----> 1\u001b[0m \u001b[38;5;28;01mfor\u001b[39;00m col \u001b[38;5;129;01min\u001b[39;00m \u001b[43mdat0\u001b[49m\u001b[38;5;241m.\u001b[39mcolumns:\n\u001b[1;32m      2\u001b[0m     dat0[col] \u001b[38;5;241m=\u001b[39m dat0[col]\u001b[38;5;241m.\u001b[39mastype(\u001b[38;5;124m\"\u001b[39m\u001b[38;5;124mfloat\u001b[39m\u001b[38;5;124m\"\u001b[39m)\n\u001b[1;32m      3\u001b[0m \u001b[38;5;28;01mfor\u001b[39;00m col \u001b[38;5;129;01min\u001b[39;00m dat1\u001b[38;5;241m.\u001b[39mcolumns:\n",
      "\u001b[0;31mNameError\u001b[0m: name 'dat0' is not defined"
     ]
    }
   ],
   "source": [
    "for col in dat0.columns:\n",
    "    dat0[col] = dat0[col].astype(\"float\")\n",
    "for col in dat1.columns:\n",
    "    dat1[col] = dat1[col].astype(\"float\")\n",
    "for col in dat2.columns:\n",
    "    dat2[col] = dat2[col].astype(\"float\")\n",
    "for col in dat3.columns:\n",
    "    dat3[col] = dat3[col].astype(\"float\")\n",
    "\n",
    "for col in coh1.columns:\n",
    "    coh1[col] = coh1[col].astype(\"float\")\n",
    "for col in coh2.columns:\n",
    "    coh2[col] = coh2[col].astype(\"float\")\n",
    "for col in coh3.columns:\n",
    "    coh3[col] = coh3[col].astype(\"float\")\n"
   ]
  },
  {
   "cell_type": "code",
   "execution_count": null,
   "id": "940d638a-f7c4-4631-9190-ffe157584abc",
   "metadata": {
    "tags": []
   },
   "outputs": [],
   "source": [
    "import matplotlib.ticker as mticker\n",
    "\n",
    "f_lower, f_upper, f_center = __get_octave_bands(1e-3, 1e0, faction_of_octave=12, plot=False)\n",
    "\n",
    "N_bands = dat01.shape[1] - 1\n",
    "\n",
    "bands = dat01.keys()[1:]\n",
    "\n",
    "## compliance\n",
    "compl = pd.DataFrame()\n",
    "compl['fl'] = f_lower\n",
    "compl['fu'] = f_upper\n",
    "compl['fc'] = f_center\n",
    "\n",
    "complN, complE, complZ = np.ones(N_bands)*np.nan, np.ones(N_bands)*np.nan, np.ones(N_bands)*np.nan\n",
    "\n",
    "for _n, band in enumerate(bands):\n",
    "\n",
    "\n",
    "    # if not _n == 13:\n",
    "    #     continue\n",
    "\n",
    "    if pd.isnull(dat01.loc[:, band]).all():\n",
    "        continue\n",
    "\n",
    "    _dat1 = dat1.loc[:, [\"dates\", band]]\n",
    "    _dat2 = dat2.loc[:, [\"dates\", band]]\n",
    "    _dat3 = dat3.loc[:, [\"dates\", band]]\n",
    "\n",
    "    if band < 0.03:\n",
    "        _dat0 = dat01.loc[:, [\"dates\", band]]\n",
    "\n",
    "        name00 = name01\n",
    "\n",
    "        _coh1 = coh11.loc[:, [\"dates\", band]]\n",
    "        _coh2 = coh12.loc[:, [\"dates\", band]]\n",
    "        _coh3 = coh13.loc[:, [\"dates\", band]]\n",
    "    else:\n",
    "        _dat0 = dat02.loc[:, [\"dates\", band]]\n",
    "\n",
    "        name00 = name02\n",
    "\n",
    "        _coh1 = coh21.loc[:, [\"dates\", band]]\n",
    "        _coh2 = coh22.loc[:, [\"dates\", band]]\n",
    "        _coh3 = coh23.loc[:, [\"dates\", band]]\n",
    "\n",
    "\n",
    "\n",
    "    ## join data frames based on dates and hour\n",
    "    _df1 = pd.merge(left=_dat0, right=_dat1, how=\"inner\", on=\"dates\")\n",
    "    _df2 = pd.merge(left=_dat0, right=_dat2, how=\"inner\", on=\"dates\")\n",
    "    _df3 = pd.merge(left=_dat0, right=_dat3, how=\"inner\", on=\"dates\")\n",
    "\n",
    "    _df1 = pd.merge(left=_df1, right=_coh1, how=\"inner\", on=\"dates\")\n",
    "    _df2 = pd.merge(left=_df2, right=_coh2, how=\"inner\", on=\"dates\")\n",
    "    _df3 = pd.merge(left=_df3, right=_coh3, how=\"inner\", on=\"dates\")\n",
    "\n",
    "    # ## remove NaN values\n",
    "    _df1.dropna(inplace=True)\n",
    "    _df2.dropna(inplace=True)\n",
    "    _df3.dropna(inplace=True)\n",
    "\n",
    "    ## remove large values\n",
    "    _df1 = _df1[_df1.iloc[:, 2] < 1e-11]\n",
    "    _df2 = _df2[_df2.iloc[:, 2] < 1e-11]\n",
    "    _df3 = _df3[_df3.iloc[:, 2] < 1e-11]\n",
    "\n",
    "    ## reset the index\n",
    "    _df1 = _df1.reset_index(drop=True)\n",
    "    _df2 = _df2.reset_index(drop=True)\n",
    "    _df3 = _df3.reset_index(drop=True)\n",
    "\n",
    "    _df1 = _df1.sort_values(by=band, ascending=True)\n",
    "    _df2 = _df2.sort_values(by=band, ascending=True)\n",
    "    _df3 = _df3.sort_values(by=band, ascending=True)\n",
    "\n",
    "    xx1, yy1, ccoh1 = np.log10(_df1.iloc[:, 1]), np.log10(_df1.iloc[:, 2]), _df1.iloc[:, 3]\n",
    "    xx2, yy2, ccoh2 = np.log10(_df2.iloc[:, 1]), np.log10(_df2.iloc[:, 2]), _df2.iloc[:, 3]\n",
    "    xx3, yy3, ccoh3 = np.log10(_df3.iloc[:, 1]), np.log10(_df3.iloc[:, 2]), _df3.iloc[:, 3]\n",
    "\n",
    "#     try:\n",
    "#         pre1 = __quantile_regression(xx1, yy1, quantiles=[0.01, 0.5, 0.99])\n",
    "#         pre2 = __quantile_regression(xx2, yy2, quantiles=[0.01, 0.5, 0.99])\n",
    "#         pre3 = __quantile_regression(xx3, yy3, quantiles=[0.01, 0.5, 0.99])\n",
    "\n",
    "#     except Exception as e:\n",
    "#         print(e)\n",
    "#         pass\n",
    "\n",
    "    ## only select high coherence (=hc)\n",
    "    coh_thres = 0.8\n",
    "    df1_hc = _df1_high_coh = _df1[_df1.iloc[:, 3] > coh_thres]\n",
    "    df2_hc = _df2_high_coh = _df2[_df2.iloc[:, 3] > coh_thres]\n",
    "    df3_hc = _df3_high_coh = _df3[_df3.iloc[:, 3] > coh_thres]\n",
    "\n",
    "    xx1_hc, yy1_hc = np.log10(df1_hc.iloc[:, 1]), np.log10(df1_hc.iloc[:, 2])\n",
    "    xx2_hc, yy2_hc = np.log10(df2_hc.iloc[:, 1]), np.log10(df2_hc.iloc[:, 2])\n",
    "    xx3_hc, yy3_hc = np.log10(df3_hc.iloc[:, 1]), np.log10(df3_hc.iloc[:, 2])\n",
    "\n",
    "\n",
    "    try:\n",
    "        if len(xx1_hc) >= 10:\n",
    "            odr1_slope, odr1_inter = __compute_orthogonal_distance_regression(xx1_hc, yy1_hc, xerr=None, yerr=None, bx=None, by=None)\n",
    "        else:\n",
    "            odr1_slope, odr1_inter = np.nan, np.nan\n",
    "        if len(xx2_hc) >= 10:\n",
    "            odr2_slope, odr2_inter = __compute_orthogonal_distance_regression(xx2_hc, yy2_hc, xerr=None, yerr=None, bx=None, by=None)\n",
    "        else:\n",
    "            odr2_slope, odr2_inter = np.nan, np.nan\n",
    "        if len(xx3_hc) >= 10:\n",
    "            odr3_slope, odr3_inter = __compute_orthogonal_distance_regression(xx3_hc, yy3_hc, xerr=None, yerr=None, bx=None, by=None)\n",
    "        else:\n",
    "            odr3_slope, odr3_inter = np.nan, np.nan\n",
    "        try:\n",
    "            complN[_n] = odr1_inter\n",
    "        except:\n",
    "            complN[_n] = np.nan\n",
    "        try:\n",
    "            complE[_n] = odr2_inter\n",
    "        except:\n",
    "            complE[_n] = np.nan\n",
    "        try:\n",
    "            complZ[_n] = odr3_inter\n",
    "        except:\n",
    "            complZ[_n] = np.nan\n",
    "\n",
    "    except Exception as e:\n",
    "        complN[_n], complE[_n], complZ[_n] = np.nan, np.nan, np.nan\n",
    "        print(e)\n",
    "        pass\n",
    "\n",
    "\n",
    "    ## ____________________________________________________________________\n",
    "\n",
    "    fig, ax = plt.subplots(1, 3, figsize=(15, 5), sharey=True)\n",
    "\n",
    "    font = 12\n",
    "\n",
    "    cmap = plt.colormaps.get(\"viridis\")\n",
    "    cmap = plt.get_cmap(\"viridis\", 10)\n",
    "\n",
    "    plt.subplots_adjust(wspace=0.12)\n",
    "\n",
    "    ca1 = ax[0].scatter(10**xx1, 10**yy1, s=15, c=ccoh1, edgecolors=\"black\", lw=0.5, zorder=2, cmap=cmap, vmin=0., vmax=1)\n",
    "    ca2 = ax[1].scatter(10**xx2, 10**yy2, s=15, c=ccoh2, edgecolors=\"black\", lw=0.5, zorder=2, cmap=cmap, vmin=0., vmax=1)\n",
    "    ca3 = ax[2].scatter(10**xx3, 10**yy3, s=15, c=ccoh3, edgecolors=\"black\", lw=0.5, zorder=2, cmap=cmap, vmin=0., vmax=1)\n",
    "\n",
    "#     try:\n",
    "#         ax[0].plot(10**xx1, 10**pre1[0.01], color=\"k\", zorder=1, ls=\":\", label=\"90%-fit\")\n",
    "#         ax[1].plot(10**xx2, 10**pre2[0.01], color=\"k\", zorder=1, ls=\":\", label=\"90%-fit\")\n",
    "#         ax[2].plot(10**xx3, 10**pre3[0.01], color=\"k\", zorder=1, ls=\":\", label=\"90%-fit\")\n",
    "#     except Exception as e:\n",
    "#         print(e)\n",
    "#         pass\n",
    "\n",
    "    ## add correlation estimate\n",
    "    _xx = np.logspace(-10, 10, 100)\n",
    "    _yy = 1e-22 * _xx\n",
    "\n",
    "    # ax[0].plot(_xx, _yy + _xx*1e-17, color=\"darkred\", ls=\"--\", label=\"1 $m^2/s^4/Pa^2$\")\n",
    "    # ax[1].plot(_xx, _yy + _xx*1e-17, color=\"darkred\", ls=\"--\", label=\"1 $m^2/s^4/Pa^2$\")\n",
    "    # ax[2].plot(_xx, _yy + _xx*1e-19, color=\"darkred\", ls=\"--\", label=\"1 $m^2/s^4/Pa^2$\")\n",
    "\n",
    "    try:\n",
    "        _xx = np.linspace(-10, 10, 100)\n",
    "        for _i, (slope, intercept) in enumerate(zip([odr1_slope, odr2_slope, odr3_slope], [odr1_inter, odr2_inter, odr3_inter])):\n",
    "            ax[_i].plot(10**(_xx), 10**(_xx*slope+intercept), color=\"red\", ls=\"--\", label=f\"{round(slope,3)} $m^2/s^4/Pa^2$\")\n",
    "            # ax[_i].plot(10**(_xx), 10**(_xx*1+intercept), color=\"red\", ls=\"--\", label=f\"{round(slope,3)} $m^2/s^4/Pa^2$\")\n",
    "    except Exception as e:\n",
    "        print(e)\n",
    "        pass\n",
    "\n",
    "    for _i in range(3):\n",
    "        ax[_i].set_xscale(\"log\")\n",
    "        ax[_i].set_yscale(\"logit\")\n",
    "        ax[_i].set_xlim(1e-2, 1e7)\n",
    "        ax[_i].set_ylim(1e-20, 1e-11)\n",
    "        ax[_i].grid(zorder=0, alpha=0.5, which=\"both\")\n",
    "        ax[_i].legend(loc=2)\n",
    "        ax[_i].set_xlabel(r\"PSD (Pa$^2$ /Hz)\", fontsize=font)\n",
    "\n",
    "        ax[_i].xaxis.set_major_locator(mticker.LogLocator(numticks=999))\n",
    "        ax[_i].xaxis.set_minor_locator(mticker.LogLocator(numticks=999, subs=\"auto\"))\n",
    "\n",
    "    # ax[0].set_title(f\"{name0.replace('_','-')} & {name1.replace('_','-')} | fc = {float(_df1.keys()[1][:-2])*1e3} mHz\")\n",
    "    # ax[1].set_title(f\"{name0.replace('_','-')} & {name2.replace('_','-')} | fc = {float(_df2.keys()[1][:-2])*1e3} mHz\")\n",
    "    # ax[2].set_title(f\"{name0.replace('_','-')} & {name3.replace('_','-')} | fc = {float(_df3.keys()[1][:-2])*1e3} mHz\")\n",
    "    ax[0].set_title(f\"{name00.replace('_','-')} & {name1.replace('_','-')} | {round(f_lower[_n]*1e3, 1)} - {round(f_upper[_n]*1e3, 1)} mHz\")\n",
    "    ax[1].set_title(f\"{name00.replace('_','-')} & {name2.replace('_','-')} | {round(f_lower[_n]*1e3, 1)} - {round(f_upper[_n]*1e3, 1)} mHz\")\n",
    "    ax[2].set_title(f\"{name00.replace('_','-')} & {name3.replace('_','-')} | {round(f_lower[_n]*1e3, 1)} - {round(f_upper[_n]*1e3, 1)} mHz\")\n",
    "\n",
    "    ax[0].text(.8, .04, f\"N={len(xx1)}\", ha='left', va='top', transform=ax[0].transAxes, fontsize=font)\n",
    "    ax[1].text(.8, .04, f\"N={len(xx2)}\", ha='left', va='top', transform=ax[1].transAxes, fontsize=font)\n",
    "    ax[2].text(.8, .04, f\"N={len(xx3)}\", ha='left', va='top', transform=ax[2].transAxes, fontsize=font)\n",
    "\n",
    "    ax[0].set_ylabel(r\"PSD (m$^2$ /s$^4$ /Hz)\", fontsize=font)\n",
    "\n",
    "    ## add colorbar\n",
    "    cbar_ax = fig.add_axes([0.92, 0.11, 0.01, 0.77]) #[left, bottom, width, height]\n",
    "    cb = plt.colorbar(ca1, cax=cbar_ax)\n",
    "    cb.set_label(\"Coherence\", fontsize=font, labelpad=-50, color=\"black\")\n",
    "\n",
    "    plt.show();\n",
    "\n",
    "    fig.savefig(config['path_to_figs']+f\"all/{str(_n).rjust(3, '0')}_{name1}_{name2}_{band}Hz_all.png\", format=\"png\", dpi=200, bbox_inches='tight');\n",
    "\n",
    "\n",
    "# compl['N'] = complN\n",
    "# compl['E'] = complE\n",
    "# compl['Z'] = complZ\n"
   ]
  },
  {
   "cell_type": "code",
   "execution_count": null,
   "id": "d364fc9b-aa82-4357-87be-3713dd90d672",
   "metadata": {
    "tags": []
   },
   "outputs": [],
   "source": [
    "compl['N'] = np.sqrt(10**(complN))\n",
    "compl['E'] = np.sqrt(10**complE)\n",
    "compl['Z'] = np.sqrt(10**complZ)"
   ]
  },
  {
   "cell_type": "code",
   "execution_count": null,
   "id": "9ee18770-9803-401d-b26b-92efc1a0b9aa",
   "metadata": {
    "tags": []
   },
   "outputs": [],
   "source": [
    "# compl['N'] = 10**complN\n",
    "# compl['E'] = 10**complE\n",
    "# compl['Z'] = 10**complZ"
   ]
  },
  {
   "cell_type": "markdown",
   "id": "93bacab4-4873-4459-b0ff-80ea2121a252",
   "metadata": {
    "tags": []
   },
   "source": [
    "## Compliance Plot"
   ]
  },
  {
   "cell_type": "code",
   "execution_count": null,
   "id": "b7184a44-34a1-4aff-b1a6-1e2769dfa23e",
   "metadata": {
    "tags": []
   },
   "outputs": [],
   "source": [
    "def __makeplot():\n",
    "\n",
    "    Nrow, Ncol = 1, 1\n",
    "\n",
    "    font = 12\n",
    "\n",
    "    scaling = 1e9\n",
    "\n",
    "    fig, ax = plt.subplots(Nrow, Ncol, figsize=(10, 5))\n",
    "\n",
    "    ax.plot(compl['fc'], compl['Z']*scaling, label=\"FUR.Z\")\n",
    "    ax.plot(compl['fc'], compl['N']*scaling, label=\"FUR.N\")\n",
    "    ax.plot(compl['fc'], compl['E']*scaling, label=\"FUR.E\")\n",
    "\n",
    "    ax.grid(ls=\":\", zorder=0)\n",
    "    ax.legend(loc=1)\n",
    "\n",
    "    ax.set_xscale(\"log\")\n",
    "    # ax.set_yscale(\"log\")\n",
    "\n",
    "    ax.set_xlim(1e-3, 1e0)\n",
    "\n",
    "    ax.set_xlabel(\"Frequency (Hz)\")\n",
    "    ax.set_ylabel(\"Compliance (nm/s$^2$/Pa)\")\n",
    "\n",
    "    plt.show();\n",
    "    return fig"
   ]
  },
  {
   "cell_type": "code",
   "execution_count": null,
   "id": "15661c02-dca8-413c-ad96-ffaf79b8b51c",
   "metadata": {
    "tags": []
   },
   "outputs": [],
   "source": [
    "# compl = compl.replace(1.0, np.nan)\n",
    "\n",
    "fig = __makeplot();\n",
    "\n",
    "fig.savefig(config['path_to_figs']+f\"FUR_compliance.png\", format=\"png\", dpi=200, bbox_inches='tight')"
   ]
  },
  {
   "cell_type": "code",
   "execution_count": null,
   "id": "f6bd4d1f-a859-483a-9768-46754fd23bce",
   "metadata": {},
   "outputs": [],
   "source": [
    "os.system(\"\"\"spd-say \"Finished\" \"\"\")"
   ]
  },
  {
   "cell_type": "code",
   "execution_count": null,
   "id": "bba9750d-b93b-41af-bbca-08bace918229",
   "metadata": {},
   "outputs": [],
   "source": []
  },
  {
   "cell_type": "code",
   "execution_count": null,
   "id": "989f6d09-fd5a-4497-8677-629a0c9f5531",
   "metadata": {
    "tags": []
   },
   "outputs": [],
   "source": [
    "# _df2_high_coh = _df2[_df2.iloc[:, 3] > 0.8]\n",
    "\n",
    "# _x_high_coh = np.log10(_df2_high_coh.iloc[:, 1])\n",
    "# _y_high_coh = np.log10(_df2_high_coh.iloc[:, 2])\n",
    "\n",
    "# x = np.linspace(min(_x_high_coh), max(_x_high_coh), 100)\n",
    "# a, b = __compute_orthogonal_distance_regression(_x_high_coh, _y_high_coh, xerr=None, yerr=None, bx=None, by=None)\n",
    "\n",
    "# plt.scatter(10**_x_high_coh, 10**_y_high_coh)\n",
    "# plt.plot(10**(x), 10**(x*a+b))\n",
    "# plt.xscale(\"log\")\n",
    "# plt.yscale(\"log\")\n",
    "# print(x)"
   ]
  },
  {
   "cell_type": "code",
   "execution_count": null,
   "id": "1c8280a8-c002-4b53-9121-d9bd84bc98d1",
   "metadata": {},
   "outputs": [],
   "source": []
  },
  {
   "cell_type": "code",
   "execution_count": null,
   "id": "75ed1999-46ea-42a9-ac55-549b21192743",
   "metadata": {},
   "outputs": [],
   "source": []
  }
 ],
 "metadata": {
  "kernelspec": {
   "display_name": "Python 3 (ipykernel)",
   "language": "python",
   "name": "python3"
  },
  "language_info": {
   "codemirror_mode": {
    "name": "ipython",
    "version": 3
   },
   "file_extension": ".py",
   "mimetype": "text/x-python",
   "name": "python",
   "nbconvert_exporter": "python",
   "pygments_lexer": "ipython3",
   "version": "3.10.12"
  },
  "latex_envs": {
   "LaTeX_envs_menu_present": true,
   "autoclose": false,
   "autocomplete": true,
   "bibliofile": "biblio.bib",
   "cite_by": "apalike",
   "current_citInitial": 1,
   "eqLabelWithNumbers": true,
   "eqNumInitial": 1,
   "hotkeys": {
    "equation": "Ctrl-E",
    "itemize": "Ctrl-I"
   },
   "labels_anchors": false,
   "latex_user_defs": false,
   "report_style_numbering": false,
   "user_envs_cfg": false
  },
  "toc": {
   "base_numbering": 1,
   "nav_menu": {},
   "number_sections": true,
   "sideBar": true,
   "skip_h1_title": false,
   "title_cell": "Table of Contents",
   "title_sidebar": "Contents",
   "toc_cell": false,
   "toc_position": {},
   "toc_section_display": true,
   "toc_window_display": false
  },
  "varInspector": {
   "cols": {
    "lenName": 16,
    "lenType": 16,
    "lenVar": 40
   },
   "kernels_config": {
    "python": {
     "delete_cmd_postfix": "",
     "delete_cmd_prefix": "del ",
     "library": "var_list.py",
     "varRefreshCmd": "print(var_dic_list())"
    },
    "r": {
     "delete_cmd_postfix": ") ",
     "delete_cmd_prefix": "rm(",
     "library": "var_list.r",
     "varRefreshCmd": "cat(var_dic_list()) "
    }
   },
   "types_to_exclude": [
    "module",
    "function",
    "builtin_function_or_method",
    "instance",
    "_Feature"
   ],
   "window_display": false
  }
 },
 "nbformat": 4,
 "nbformat_minor": 5
}
