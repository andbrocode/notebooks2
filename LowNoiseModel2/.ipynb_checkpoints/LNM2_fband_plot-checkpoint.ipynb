{
 "cells": [
  {
   "cell_type": "markdown",
   "id": "eda030d3",
   "metadata": {},
   "source": [
    "# Scatter Plots"
   ]
  },
  {
   "cell_type": "markdown",
   "id": "protected-presentation",
   "metadata": {},
   "source": [
    "## Load Libraries"
   ]
  },
  {
   "cell_type": "code",
   "execution_count": null,
   "id": "behind-arrangement",
   "metadata": {
    "ExecuteTime": {
     "end_time": "2023-08-07T14:54:03.050940Z",
     "start_time": "2023-08-07T14:54:00.312331Z"
    }
   },
   "outputs": [],
   "source": [
    "from obspy import UTCDateTime\n",
    "from scipy.signal import welch\n",
    "from tqdm import tqdm\n",
    "from pathlib import Path\n",
    "\n",
    "import os, sys\n",
    "import pickle\n",
    "import matplotlib.pyplot as plt\n",
    "import pandas as pd\n",
    "import numpy as np\n",
    "\n",
    "# from andbro__store_as_pickle import __store_as_pickle"
   ]
  },
  {
   "cell_type": "code",
   "execution_count": null,
   "id": "f337911b",
   "metadata": {
    "ExecuteTime": {
     "end_time": "2023-08-07T14:54:03.147385Z",
     "start_time": "2023-08-07T14:54:03.133998Z"
    }
   },
   "outputs": [],
   "source": [
    "if os.uname().nodename == 'lighthouse':\n",
    "    root_path = '/home/andbro/'\n",
    "    data_path = '/home/andbro/kilauea-data/'\n",
    "    archive_path = '/home/andbro/freenas/'\n",
    "elif os.uname().nodename == 'kilauea':\n",
    "    root_path = '/home/brotzer/'\n",
    "    data_path = '/import/kilauea-data/'\n",
    "    archive_path = '/import/freenas-ffb-01-data/'"
   ]
  },
  {
   "cell_type": "markdown",
   "id": "subject-expression",
   "metadata": {},
   "source": [
    "## Configurations"
   ]
  },
  {
   "cell_type": "code",
   "execution_count": null,
   "id": "c898fc5e-9073-419a-b426-e7aa9a58625b",
   "metadata": {
    "ExecuteTime": {
     "end_time": "2023-08-07T15:31:55.890800Z",
     "start_time": "2023-08-07T15:31:55.885708Z"
    }
   },
   "outputs": [],
   "source": [
    "## ---------------------------------------\n",
    "\n",
    "name0 = \"FFBI\"\n",
    "\n",
    "name1 = \"ROMY_U\"\n",
    "name2 = \"ROMY_V\"\n",
    "name3 = \"ROMY_Z\"\n",
    "\n",
    "# t1 ,t2 = \"2023-09-23\", \"2023-10-23\""
   ]
  },
  {
   "cell_type": "code",
   "execution_count": null,
   "id": "565a7b24-4640-4f17-b66e-2ee951eeee5b",
   "metadata": {
    "ExecuteTime": {
     "end_time": "2023-08-07T15:31:55.890800Z",
     "start_time": "2023-08-07T15:31:55.885708Z"
    }
   },
   "outputs": [],
   "source": [
    "# ## ---------------------------------------\n",
    "\n",
    "config = {}\n",
    "\n",
    "## specify paths\n",
    "config['path_to_figs'] = data_path+f\"LNM2/figures/scatter/\"\n",
    "\n",
    "config['path_to_data'] = data_path+f\"LNM2/data/\""
   ]
  },
  {
   "cell_type": "markdown",
   "id": "natural-beginning",
   "metadata": {},
   "source": [
    "## Methods"
   ]
  },
  {
   "cell_type": "code",
   "execution_count": null,
   "id": "c65da437-740c-44c9-8aef-f2b78988236c",
   "metadata": {
    "tags": []
   },
   "outputs": [],
   "source": [
    "dat1 = pd.read_pickle(config['path_to_data']+name0+\".pkl\")\n",
    "dat2 = pd.read_pickle(config['path_to_data']+name2+\".pkl\")"
   ]
  },
  {
   "cell_type": "code",
   "execution_count": null,
   "id": "86d97464-9f95-46eb-b750-5c74fa5997e6",
   "metadata": {
    "tags": []
   },
   "outputs": [],
   "source": [
    "def __get_octave_bands(fmin, fmax, fband_type=\"octave\", plot=False):\n",
    "\n",
    "    \"\"\"\n",
    "    Computing octave / one-third-octave bands\n",
    "\n",
    "    Arguments:\n",
    "        - fmin:    (float) minimum center frequency\n",
    "        - fmax:    (float) maximum center frequency\n",
    "        - fband_type:    [octave] / one-third-octave\n",
    "        - plot:    (bool) show frequency bands\n",
    "\n",
    "    Example:\n",
    "\n",
    "    >>> flower, fupper, fcenter = __get_octave_bands(f_min, f_max, fband_type=\"octave\", plot=False)\n",
    "\n",
    "    \"\"\"\n",
    "\n",
    "    import matplotlib.pyplot as plt\n",
    "    from numpy import sqrt, array\n",
    "    from acoustics import bands\n",
    "\n",
    "    f_lower, f_upper, f_centers = [], [], []\n",
    "\n",
    "    if fband_type == \"octave\":\n",
    "        f_centers = bands.octave(fmin, fmax)\n",
    "        f_lower = bands.octave_low(fmin, fmax)\n",
    "        f_upper = bands.octave_high(fmin, fmax)\n",
    "\n",
    "    if fband_type == \"one-third-octave\":\n",
    "        f_centers = bands.third(fmin, fmax)\n",
    "        f_lower = bands.third_low(fmin, fmax)\n",
    "        f_upper = bands.third_high(fmin, fmax)    \n",
    "\n",
    "    if plot:\n",
    "        plt.figure()\n",
    "        for fl, fc, fu in zip(f_lower, f_centers, f_upper):\n",
    "            plt.axvline(fu, color=\"r\")\n",
    "            plt.axvline(fl, color=\"r\")\n",
    "            plt.axvline(fc)\n",
    "            plt.axvline(fmin, color=\"g\")\n",
    "            plt.axvline(fmax, color=\"g\")\n",
    "            plt.xscale(\"log\")\n",
    "        plt.show()\n",
    "\n",
    "    return array(f_lower), array(f_upper), array(f_centers)"
   ]
  },
  {
   "cell_type": "code",
   "execution_count": null,
   "id": "757677b5-3f4d-462b-8ab1-b1ce6afac61f",
   "metadata": {
    "tags": []
   },
   "outputs": [],
   "source": [
    "def __quantile_regression(x, y, quantiles=[0.05, 0.5, 0.95]):\n",
    "\n",
    "\n",
    "    from sklearn.utils.fixes import parse_version, sp_version\n",
    "    from sklearn.linear_model import QuantileRegressor\n",
    "    from numpy import newaxis, zeros_like, bool_, logical_or, array\n",
    "\n",
    "    # This is line is to avoid incompatibility if older SciPy version.\n",
    "    # You should use `solver=\"highs\"` with recent version of SciPy.\n",
    "    solver = \"highs\" if sp_version >= parse_version(\"1.6.0\") else \"interior-point\"\n",
    "\n",
    "    predictions = {}\n",
    "\n",
    "    x = array(x)\n",
    "    X = x[:, newaxis]\n",
    "\n",
    "    out_bounds_predictions = zeros_like(y, dtype=bool_)\n",
    "\n",
    "    for quantile in quantiles:\n",
    "        qr = QuantileRegressor(quantile=quantile, alpha=0, solver=solver)\n",
    "        y_pred = qr.fit(X, y).predict(X)\n",
    "        predictions[quantile] = y_pred\n",
    "\n",
    "        if quantile == min(quantiles):\n",
    "            out_bounds_predictions = logical_or(\n",
    "                out_bounds_predictions, y_pred >= y\n",
    "            )\n",
    "        elif quantile == max(quantiles):\n",
    "            out_bounds_predictions = logical_or(\n",
    "                out_bounds_predictions, y_pred <= y\n",
    "            )\n",
    "\n",
    "    return predictions"
   ]
  },
  {
   "cell_type": "code",
   "execution_count": null,
   "id": "2b542e7e-5f39-424a-822d-918aa7ba3f01",
   "metadata": {
    "tags": []
   },
   "outputs": [],
   "source": [
    "f_lower, f_upper, f_center = __get_octave_bands(1e-3, 1e0, fband_type=\"one-third-octave\", plot=False)\n",
    "\n",
    "N_bands = dat1.shape[1] - 1\n",
    "\n",
    "bands = dat1.keys()[1:]\n",
    "\n",
    "for _n, band in enumerate(bands):\n",
    "\n",
    "    # if not _n == 11:\n",
    "    #     continue\n",
    "\n",
    "    _dat1 = dat1.loc[:, [\"dates\", band]]\n",
    "    _dat2 = dat2.loc[:, [\"dates\", band]]\n",
    "\n",
    "    _df = pd.merge(left=_dat1, right=_dat2, how=\"inner\", on=\"dates\")\n",
    "\n",
    "    _df.dropna(inplace=True)\n",
    "\n",
    "    _df = _df[_df.iloc[:, 1] < 1e-15]\n",
    "    _df = _df.reset_index(drop=True)\n",
    "\n",
    "\n",
    "    xx = np.log10(_df.iloc[:, 1])\n",
    "    yy = np.log10(_df.iloc[:, 2])\n",
    "\n",
    "    try:\n",
    "        pre = __quantile_regression(xx, yy, quantiles=[0.1, 0.5, 0.9])\n",
    "\n",
    "    except:\n",
    "        continue\n",
    "\n",
    "    if not _df.empty:\n",
    "\n",
    "        fig = plt.figure()\n",
    "\n",
    "        # ys = powerfit(xx, yy, xx)\n",
    "        # plt.plot(xx, ys, color=\"tab:green\", ls=\"--\")\n",
    "\n",
    "        # plt.scatter(_df[f'{band}_x'], _df[f'{band}_y'], s=15, edgecolors=\"black\", lw=0.5, zorder=2)\n",
    "        plt.scatter(10**xx, 10**yy, s=15, edgecolors=\"black\", lw=0.5, zorder=2)\n",
    "\n",
    "        plt.plot(10**xx, 10**pre[0.9], color=\"k\", zorder=1, ls=\":\")\n",
    "\n",
    "        plt.xscale(\"log\")\n",
    "        plt.yscale(\"log\")\n",
    "\n",
    "        plt.title(f\"{name1.replace('_','-')} & {name2.replace('_','-')} | fc = {float(_df.keys()[1][:-2])*1e3} mHz\")\n",
    "        plt.ylabel(r\"PSD (hPa$^2$ /Hz)\")\n",
    "        plt.xlabel(r\"PSD (rad$^2$ /s$^2$ /Hz)\")\n",
    "        plt.grid(zorder=0, alpha=0.5)\n",
    "\n",
    "        plt.ylim(1e-7, 1e1)\n",
    "        plt.xlim(1e-23, 1e-15)\n",
    "\n",
    "        plt.show();\n",
    "\n",
    "        fig.savefig(config['path_to_figs']+f\"{name1}/{str(_n).rjust(3, '0')}_{name1}_{name2}_{band}Hz.png\", format=\"png\", dpi=200, bbox_inches='tight');"
   ]
  },
  {
   "cell_type": "code",
   "execution_count": null,
   "id": "faa8d665-8b20-493b-87a9-dd980fe788aa",
   "metadata": {},
   "outputs": [],
   "source": []
  },
  {
   "cell_type": "markdown",
   "id": "24093c5f-3ecb-4afb-8a83-ff43d7d501e5",
   "metadata": {},
   "source": [
    "## Plot all "
   ]
  },
  {
   "cell_type": "code",
   "execution_count": null,
   "id": "96d134d2-6924-456d-9779-e313619d9fc7",
   "metadata": {
    "tags": []
   },
   "outputs": [],
   "source": [
    "dat0 = pd.read_pickle(config['path_to_data']+name0+\".pkl\")\n",
    "\n",
    "dat1 = pd.read_pickle(config['path_to_data']+name1+\".pkl\")\n",
    "dat2 = pd.read_pickle(config['path_to_data']+name2+\".pkl\")\n",
    "dat3 = pd.read_pickle(config['path_to_data']+name3+\".pkl\")"
   ]
  },
  {
   "cell_type": "code",
   "execution_count": null,
   "id": "08187e16-ca5b-4153-a135-af75f3759c71",
   "metadata": {
    "tags": []
   },
   "outputs": [],
   "source": [
    "dat0"
   ]
  },
  {
   "cell_type": "code",
   "execution_count": null,
   "id": "940d638a-f7c4-4631-9190-ffe157584abc",
   "metadata": {
    "tags": []
   },
   "outputs": [],
   "source": [
    "f_lower, f_upper, f_center = __get_octave_bands(1e-3, 1e0, fband_type=\"one-third-octave\", plot=False)\n",
    "\n",
    "N_bands = dat0.shape[1] - 1\n",
    "\n",
    "bands = dat0.keys()[1:]\n",
    "\n",
    "for _n, band in enumerate(bands):\n",
    "\n",
    "    if not _n == 11:\n",
    "        continue\n",
    "\n",
    "    _dat0 = dat0.loc[:, [\"dates\", band]]\n",
    "    _dat1 = dat1.loc[:, [\"dates\", band]]\n",
    "    _dat2 = dat2.loc[:, [\"dates\", band]]\n",
    "    _dat3 = dat3.loc[:, [\"dates\", band]]\n",
    "\n",
    "    ## join data frames based on dates and hour\n",
    "    _df1 = pd.merge(left=_dat0, right=_dat1, how=\"inner\", on=\"dates\")\n",
    "    _df2 = pd.merge(left=_dat0, right=_dat2, how=\"inner\", on=\"dates\")\n",
    "    _df3 = pd.merge(left=_dat0, right=_dat3, how=\"inner\", on=\"dates\")\n",
    "\n",
    "    # ## remove NaN values\n",
    "    _df1.dropna(inplace=True)\n",
    "    _df2.dropna(inplace=True)\n",
    "    _df3.dropna(inplace=True)\n",
    "\n",
    "    ## remove large values\n",
    "    _df1 = _df1[_df1.iloc[:, 2] < 1e-15]\n",
    "    _df2 = _df2[_df2.iloc[:, 2] < 1e-15]\n",
    "    _df3 = _df3[_df3.iloc[:, 2] < 1e-15]\n",
    "\n",
    "    ## reset the index\n",
    "    _df1 = _df1.reset_index(drop=True)\n",
    "    _df2 = _df2.reset_index(drop=True)\n",
    "    _df3 = _df3.reset_index(drop=True)\n",
    "\n",
    "    xx1, yy1 = np.log10(_df1.iloc[:, 2]), np.log10(_df1.iloc[:, 1])\n",
    "    xx2, yy2 = np.log10(_df2.iloc[:, 2]), np.log10(_df2.iloc[:, 1])\n",
    "    xx3, yy3 = np.log10(_df3.iloc[:, 2]), np.log10(_df3.iloc[:, 1])\n",
    "\n",
    "    try:\n",
    "        pre1 = __quantile_regression(xx1, yy1, quantiles=[0.1, 0.5, 0.9])\n",
    "        pre2 = __quantile_regression(xx2, yy2, quantiles=[0.1, 0.5, 0.9])\n",
    "        pre3 = __quantile_regression(xx3, yy3, quantiles=[0.1, 0.5, 0.9])\n",
    "\n",
    "    except Exception as e:\n",
    "        print(e)\n",
    "        pass\n",
    "\n",
    "\n",
    "    fig, ax = plt.subplots(1, 3, figsize=(15, 5), sharey=True)\n",
    "\n",
    "    plt.subplots_adjust(wspace=0.1)\n",
    "\n",
    "    ax[0].scatter(10**xx1, 10**yy1, s=15, edgecolors=\"black\", lw=0.5, zorder=2)\n",
    "    ax[1].scatter(10**xx2, 10**yy2, s=15, edgecolors=\"black\", lw=0.5, zorder=2)\n",
    "    ax[2].scatter(10**xx3, 10**yy3, s=15, edgecolors=\"black\", lw=0.5, zorder=2)\n",
    "\n",
    "    try:\n",
    "        ax[0].plot(10**xx1, 10**pre1[0.9], color=\"k\", zorder=1, ls=\":\")\n",
    "        ax[1].plot(10**xx2, 10**pre2[0.9], color=\"k\", zorder=1, ls=\":\")\n",
    "        ax[2].plot(10**xx3, 10**pre3[0.9], color=\"k\", zorder=1, ls=\":\")\n",
    "    except Exception as e:\n",
    "        print(e)\n",
    "        pass\n",
    "\n",
    "    for _i in range(3):\n",
    "        ax[_i].set_xscale(\"log\")\n",
    "        ax[_i].set_yscale(\"log\")\n",
    "        ax[_i].set_ylim(1e-7, 1e1)\n",
    "        ax[_i].set_xlim(1e-23, 1e-15)\n",
    "        ax[_i].grid(zorder=0, alpha=0.5)\n",
    "        ax[_i].set_xlabel(r\"PSD (rad$^2$ /s$^2$ /Hz)\")\n",
    "\n",
    "    ax[0].set_title(f\"{name0.replace('_','-')} & {name1.replace('_','-')} | fc = {float(_df1.keys()[1][:-2])*1e3} mHz\")\n",
    "    ax[1].set_title(f\"{name0.replace('_','-')} & {name2.replace('_','-')} | fc = {float(_df2.keys()[1][:-2])*1e3} mHz\")\n",
    "    ax[2].set_title(f\"{name0.replace('_','-')} & {name3.replace('_','-')} | fc = {float(_df3.keys()[1][:-2])*1e3} mHz\")\n",
    "\n",
    "    ax[0].set_ylabel(r\"PSD (hPa$^2$ /Hz)\")\n",
    "\n",
    "\n",
    "    plt.show();\n",
    "\n",
    "    fig.savefig(config['path_to_figs']+f\"all/{str(_n).rjust(3, '0')}_{name1}_{name2}_{band}Hz_all.png\", format=\"png\", dpi=200, bbox_inches='tight');"
   ]
  },
  {
   "cell_type": "code",
   "execution_count": null,
   "id": "c3f058ca-81f6-4e69-97ca-27d231bb61e0",
   "metadata": {},
   "outputs": [],
   "source": []
  },
  {
   "cell_type": "code",
   "execution_count": null,
   "id": "d98ee16d-9f1f-4e43-abcf-47729256137a",
   "metadata": {},
   "outputs": [],
   "source": []
  }
 ],
 "metadata": {
  "kernelspec": {
   "display_name": "Python 3 (ipykernel)",
   "language": "python",
   "name": "python3"
  },
  "language_info": {
   "codemirror_mode": {
    "name": "ipython",
    "version": 3
   },
   "file_extension": ".py",
   "mimetype": "text/x-python",
   "name": "python",
   "nbconvert_exporter": "python",
   "pygments_lexer": "ipython3",
   "version": "3.10.12"
  },
  "latex_envs": {
   "LaTeX_envs_menu_present": true,
   "autoclose": false,
   "autocomplete": true,
   "bibliofile": "biblio.bib",
   "cite_by": "apalike",
   "current_citInitial": 1,
   "eqLabelWithNumbers": true,
   "eqNumInitial": 1,
   "hotkeys": {
    "equation": "Ctrl-E",
    "itemize": "Ctrl-I"
   },
   "labels_anchors": false,
   "latex_user_defs": false,
   "report_style_numbering": false,
   "user_envs_cfg": false
  },
  "toc": {
   "base_numbering": 1,
   "nav_menu": {},
   "number_sections": true,
   "sideBar": true,
   "skip_h1_title": false,
   "title_cell": "Table of Contents",
   "title_sidebar": "Contents",
   "toc_cell": false,
   "toc_position": {},
   "toc_section_display": true,
   "toc_window_display": false
  },
  "varInspector": {
   "cols": {
    "lenName": 16,
    "lenType": 16,
    "lenVar": 40
   },
   "kernels_config": {
    "python": {
     "delete_cmd_postfix": "",
     "delete_cmd_prefix": "del ",
     "library": "var_list.py",
     "varRefreshCmd": "print(var_dic_list())"
    },
    "r": {
     "delete_cmd_postfix": ") ",
     "delete_cmd_prefix": "rm(",
     "library": "var_list.r",
     "varRefreshCmd": "cat(var_dic_list()) "
    }
   },
   "types_to_exclude": [
    "module",
    "function",
    "builtin_function_or_method",
    "instance",
    "_Feature"
   ],
   "window_display": false
  }
 },
 "nbformat": 4,
 "nbformat_minor": 5
}
