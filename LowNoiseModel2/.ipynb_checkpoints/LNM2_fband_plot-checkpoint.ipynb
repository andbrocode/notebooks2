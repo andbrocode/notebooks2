{
 "cells": [
  {
   "cell_type": "markdown",
   "id": "eda030d3",
   "metadata": {},
   "source": [
    "# Hourly PSDS - IROMY | WROMY | ROMY"
   ]
  },
  {
   "cell_type": "markdown",
   "id": "protected-presentation",
   "metadata": {},
   "source": [
    "## Load Libraries"
   ]
  },
  {
   "cell_type": "code",
   "execution_count": 13,
   "id": "behind-arrangement",
   "metadata": {
    "ExecuteTime": {
     "end_time": "2023-08-07T14:54:03.050940Z",
     "start_time": "2023-08-07T14:54:00.312331Z"
    }
   },
   "outputs": [],
   "source": [
    "from obspy import UTCDateTime\n",
    "from scipy.signal import welch\n",
    "from numpy import log10, zeros, pi, append, linspace, mean, median, array, where, transpose, shape, histogram, arange, append\n",
    "from numpy import logspace, linspace, log, log10, isinf, ones, nan, count_nonzero, sqrt, isnan\n",
    "from pandas import DataFrame, concat, Series, date_range, read_csv, read_pickle\n",
    "from tqdm import tqdm\n",
    "from pathlib import Path\n",
    "\n",
    "import os, sys\n",
    "import pickle\n",
    "import matplotlib.pyplot as plt\n",
    "import pandas as pd\n",
    "import numpy as np\n",
    "\n",
    "# from andbro__store_as_pickle import __store_as_pickle"
   ]
  },
  {
   "cell_type": "code",
   "execution_count": 14,
   "id": "f337911b",
   "metadata": {
    "ExecuteTime": {
     "end_time": "2023-08-07T14:54:03.147385Z",
     "start_time": "2023-08-07T14:54:03.133998Z"
    }
   },
   "outputs": [],
   "source": [
    "if os.uname().nodename == 'lighthouse':\n",
    "    root_path = '/home/andbro/'\n",
    "    data_path = '/home/andbro/kilauea-data/'\n",
    "    archive_path = '/home/andbro/freenas/'\n",
    "elif os.uname().nodename == 'kilauea':\n",
    "    root_path = '/home/brotzer/'\n",
    "    data_path = '/import/kilauea-data/'\n",
    "    archive_path = '/import/freenas-ffb-01-data/'"
   ]
  },
  {
   "cell_type": "markdown",
   "id": "subject-expression",
   "metadata": {},
   "source": [
    "## Configurations"
   ]
  },
  {
   "cell_type": "code",
   "execution_count": 3,
   "id": "c898fc5e-9073-419a-b426-e7aa9a58625b",
   "metadata": {
    "ExecuteTime": {
     "end_time": "2023-08-07T15:31:55.890800Z",
     "start_time": "2023-08-07T15:31:55.885708Z"
    }
   },
   "outputs": [],
   "source": [
    "## ---------------------------------------\n",
    "\n",
    "name1 = \"ROMY_U\"\n",
    "# name1 = \"ROMY_V\"\n",
    "# name1 = \"ROMY_Z\"\n",
    "\n",
    "name2 = \"FFBI\"\n",
    "\n",
    "# t1 ,t2 = \"2023-09-23\", \"2023-10-23\""
   ]
  },
  {
   "cell_type": "code",
   "execution_count": 4,
   "id": "565a7b24-4640-4f17-b66e-2ee951eeee5b",
   "metadata": {
    "ExecuteTime": {
     "end_time": "2023-08-07T15:31:55.890800Z",
     "start_time": "2023-08-07T15:31:55.885708Z"
    }
   },
   "outputs": [],
   "source": [
    "# ## ---------------------------------------\n",
    "\n",
    "config = {}\n",
    "\n",
    "## specify paths\n",
    "config['path_to_figs'] = data_path+f\"LNM2/figures/scatter/\"\n",
    "\n",
    "config['path_to_data'] = data_path+f\"LNM2/data/\""
   ]
  },
  {
   "cell_type": "markdown",
   "id": "natural-beginning",
   "metadata": {},
   "source": [
    "## Methods"
   ]
  },
  {
   "cell_type": "code",
   "execution_count": 5,
   "id": "c65da437-740c-44c9-8aef-f2b78988236c",
   "metadata": {
    "tags": []
   },
   "outputs": [],
   "source": [
    "dat1 = pd.read_pickle(config['path_to_data']+name1+\".pkl\")\n",
    "dat2 = pd.read_pickle(config['path_to_data']+name2+\".pkl\")"
   ]
  },
  {
   "cell_type": "code",
   "execution_count": 108,
   "id": "79c29e0b-a3d2-43e5-80a2-0d0d50db2765",
   "metadata": {
    "tags": []
   },
   "outputs": [],
   "source": [
    "def fit_above(x, y):\n",
    "\n",
    "    from scipy.optimize import minimize\n",
    "    import numpy as np\n",
    "\n",
    "    def error_function_2(b, x, y):\n",
    "        a = np.min((y - b) / x)\n",
    "        return np.sum((y - a * x - b)**2)\n",
    "\n",
    "\n",
    "    idx = np.argsort(x)\n",
    "    x = x[idx]\n",
    "    y = y[idx]\n",
    "    x0, y0 = x[0] - 1, y[0]\n",
    "    x -= x0\n",
    "    y -= y0\n",
    "\n",
    "    b = minimize(error_function_2, [0], args=(x, y)).x[0]\n",
    "\n",
    "    a = np.max((y - b) / x)\n",
    "\n",
    "    return a, b - a * x0 + y0"
   ]
  },
  {
   "cell_type": "code",
   "execution_count": 132,
   "id": "17c09e2a-1e4d-4355-b3f2-68e4ecc9b09b",
   "metadata": {
    "tags": []
   },
   "outputs": [
    {
     "data": {
      "text/plain": [
       "'line fitting on log-log scale'"
      ]
     },
     "execution_count": 132,
     "metadata": {},
     "output_type": "execute_result"
    }
   ],
   "source": [
    "\"\"\"line fitting on log-log scale\"\"\"\n",
    "def powerfit(x, y, xnew):\n",
    "    k, m = np.polyfit(np.log(x), np.log(y), 1)\n",
    "    return np.exp(m) * xnew**(k)\n"
   ]
  },
  {
   "cell_type": "code",
   "execution_count": 150,
   "id": "2b542e7e-5f39-424a-822d-918aa7ba3f01",
   "metadata": {
    "tags": []
   },
   "outputs": [
    {
     "name": "stdout",
     "output_type": "stream",
     "text": [
      "           dates      0.0125_x  0.0125_y\n",
      "0    20230923_00  5.934207e-21  0.003387\n",
      "1    20230923_01  5.847524e-19  0.002338\n",
      "2    20230923_02  1.498422e-20  0.001322\n",
      "3    20230923_03  3.704068e-20  0.004471\n",
      "4    20230923_04  4.461187e-19  0.003479\n",
      "..           ...           ...       ...\n",
      "165  20231022_09  4.300076e-20  0.005728\n",
      "166  20231022_10  6.857601e-20  0.005200\n",
      "167  20231022_18  3.726826e-18  0.000012\n",
      "168  20231022_22  9.828540e-19  0.000041\n",
      "169  20231022_23  1.307497e-18  0.000038\n",
      "\n",
      "[170 rows x 3 columns]\n",
      "0      5.934207e-21\n",
      "1      5.847524e-19\n",
      "2      1.498422e-20\n",
      "3      3.704068e-20\n",
      "4      4.461187e-19\n",
      "           ...     \n",
      "165    4.300076e-20\n",
      "166    6.857601e-20\n",
      "167    3.726826e-18\n",
      "168    9.828540e-19\n",
      "169    1.307497e-18\n",
      "Name: 0.0125_x, Length: 170, dtype: float64 0      0.003387\n",
      "1      0.002338\n",
      "2      0.001322\n",
      "3      0.004471\n",
      "4      0.003479\n",
      "         ...   \n",
      "165    0.005728\n",
      "166    0.005200\n",
      "167    0.000012\n",
      "168    0.000041\n",
      "169    0.000038\n",
      "Name: 0.0125_y, Length: 170, dtype: float64\n"
     ]
    },
    {
     "data": {
      "text/plain": [
       "[<matplotlib.lines.Line2D at 0x7fb8ab160160>]"
      ]
     },
     "execution_count": 150,
     "metadata": {},
     "output_type": "execute_result"
    },
    {
     "data": {
      "text/plain": [
       "<matplotlib.collections.PathCollection at 0x7fb8ab1602b0>"
      ]
     },
     "execution_count": 150,
     "metadata": {},
     "output_type": "execute_result"
    },
    {
     "data": {
      "text/plain": [
       "Text(0.5, 1.0, 'ROMY-U & FFBI | fc = 0.0125 Hz')"
      ]
     },
     "execution_count": 150,
     "metadata": {},
     "output_type": "execute_result"
    },
    {
     "data": {
      "text/plain": [
       "Text(0, 0.5, 'PSD (hPa$^2$ /Hz)')"
      ]
     },
     "execution_count": 150,
     "metadata": {},
     "output_type": "execute_result"
    },
    {
     "data": {
      "text/plain": [
       "Text(0.5, 0, 'PSD (rad$^2$ /s$^2$ /Hz)')"
      ]
     },
     "execution_count": 150,
     "metadata": {},
     "output_type": "execute_result"
    },
    {
     "data": {
      "text/plain": [
       "(1e-07, 10.0)"
      ]
     },
     "execution_count": 150,
     "metadata": {},
     "output_type": "execute_result"
    },
    {
     "data": {
      "text/plain": [
       "(1e-23, 1e-15)"
      ]
     },
     "execution_count": 150,
     "metadata": {},
     "output_type": "execute_result"
    },
    {
     "data": {
      "image/png": "[encoded data removed]",
      "text/plain": [
       "<Figure size 640x480 with 1 Axes>"
      ]
     },
     "metadata": {},
     "output_type": "display_data"
    }
   ],
   "source": [
    "\n",
    "N_bands = dat1.shape[1] - 1\n",
    "\n",
    "bands = dat1.keys()[1:]\n",
    "\n",
    "for _n, band in enumerate(bands):\n",
    "\n",
    "    if not _n == 11:\n",
    "        continue\n",
    "\n",
    "    _dat1 = dat1.loc[:, [\"dates\", band]]\n",
    "    _dat2 = dat2.loc[:, [\"dates\", band]]\n",
    "\n",
    "    _df = pd.merge(left=_dat1, right=_dat2, how=\"inner\", on=\"dates\")\n",
    "\n",
    "    _df.dropna(inplace=True)\n",
    "\n",
    "    _df = _df[_df.iloc[:, 1] < 1e-15]\n",
    "    _df = _df.reset_index(drop=True)\n",
    "\n",
    "    print(_df)\n",
    "\n",
    "    xx = _df.iloc[:, 1]\n",
    "    yy = _df.iloc[:, 2]\n",
    "\n",
    "    print(xx, yy)\n",
    "\n",
    "    if not _df.empty:\n",
    "\n",
    "        fig = plt.figure()\n",
    "\n",
    "        ys = powerfit(xx, yy, xx)\n",
    "        # plt.plot(xx, ys, color=\"tab:green\", ls=\"--\")\n",
    "\n",
    "        plt.scatter(_df[f'{band}_x'], _df[f'{band}_y'], s=15, edgecolors=\"black\", lw=0.5, zorder=2)\n",
    "\n",
    "        plt.xscale(\"log\")\n",
    "        plt.yscale(\"log\")\n",
    "\n",
    "        plt.title(f\"{name1.replace('_','-')} & {name2.replace('_','-')} | fc = {_df.keys()[1][:-2]} Hz\")\n",
    "        plt.ylabel(r\"PSD (hPa$^2$ /Hz)\")\n",
    "        plt.xlabel(r\"PSD (rad$^2$ /s$^2$ /Hz)\")\n",
    "        plt.grid(zorder=0, alpha=0.5)\n",
    "\n",
    "        plt.ylim(1e-7, 1e1)\n",
    "        plt.xlim(1e-23, 1e-15)\n",
    "\n",
    "        plt.show();\n",
    "\n",
    "        # fig.savefig(config['path_to_figs']+f\"{name1}/{str(_n).rjust(3, '0')}_{name1}_{name2}_{band}Hz.png\", format=\"png\", dpi=200, bbox_inches='tight')"
   ]
  },
  {
   "cell_type": "code",
   "execution_count": null,
   "id": "6506a5bf-c791-42f6-acf1-8065a4565231",
   "metadata": {
    "tags": []
   },
   "outputs": [],
   "source": [
    "\n"
   ]
  },
  {
   "cell_type": "code",
   "execution_count": 124,
   "id": "b2a5371c-4195-4568-959c-546ca40d58f6",
   "metadata": {
    "tags": []
   },
   "outputs": [
    {
     "data": {
      "text/plain": [
       "[<matplotlib.lines.Line2D at 0x7fb8ab290550>]"
      ]
     },
     "execution_count": 124,
     "metadata": {},
     "output_type": "execute_result"
    },
    {
     "data": {
      "text/plain": [
       "[<matplotlib.lines.Line2D at 0x7fb8ab290e80>]"
      ]
     },
     "execution_count": 124,
     "metadata": {},
     "output_type": "execute_result"
    },
    {
     "data": {
      "image/png": "[encoded data removed]",
      "text/plain": [
       "<Figure size 640x480 with 1 Axes>"
      ]
     },
     "metadata": {},
     "output_type": "display_data"
    }
   ],
   "source": [
    "import scipy\n",
    "\n",
    "\n",
    "\n",
    "x = np.arange(10).astype(float)\n",
    "y = x * 2 + 3 + 3 * np.random.rand(len(x))\n",
    "\n",
    "a, b = fit_above(x, y)\n",
    "\n",
    "plt.plot(x, y, 'o')\n",
    "plt.plot(x, a*x + b, '-')\n",
    "plt.show()"
   ]
  },
  {
   "cell_type": "code",
   "execution_count": 98,
   "id": "8c55530f-1ad5-49f9-ba75-60f11b82f9b7",
   "metadata": {
    "tags": []
   },
   "outputs": [
    {
     "name": "stdout",
     "output_type": "stream",
     "text": [
      "0      5.934207e-21\n",
      "1      5.847524e-19\n",
      "2      1.498422e-20\n",
      "3      3.704068e-20\n",
      "4      4.461187e-19\n",
      "           ...     \n",
      "165    4.300076e-20\n",
      "166    6.857601e-20\n",
      "167    3.726826e-18\n",
      "168    9.828540e-19\n",
      "169    1.307497e-18\n",
      "Name: 0.0125_x, Length: 170, dtype: float64 0      0.003387\n",
      "1      0.002338\n",
      "2      0.001322\n",
      "3      0.004471\n",
      "4      0.003479\n",
      "         ...   \n",
      "165    0.005728\n",
      "166    0.005200\n",
      "167    0.000012\n",
      "168    0.000041\n",
      "169    0.000038\n",
      "Name: 0.0125_y, Length: 170, dtype: float64\n"
     ]
    },
    {
     "data": {
      "text/plain": [
       "<matplotlib.collections.PathCollection at 0x7fb8a8ac6b20>"
      ]
     },
     "execution_count": 98,
     "metadata": {},
     "output_type": "execute_result"
    },
    {
     "data": {
      "text/plain": [
       "[<matplotlib.lines.Line2D at 0x7fb8a8416df0>]"
      ]
     },
     "execution_count": 98,
     "metadata": {},
     "output_type": "execute_result"
    },
    {
     "data": {
      "image/png": "[encoded data removed]",
      "text/plain": [
       "<Figure size 640x480 with 1 Axes>"
      ]
     },
     "metadata": {},
     "output_type": "display_data"
    }
   ],
   "source": [
    "print(xx, yy)\n",
    "ys = powerfit(xx, yy, xx)\n",
    "\n",
    "plt.scatter(xx, yy)\n",
    "plt.plot(xx, ys)\n",
    "plt.xscale(\"log\")\n",
    "plt.yscale(\"log\")"
   ]
  },
  {
   "cell_type": "code",
   "execution_count": null,
   "id": "faa8d665-8b20-493b-87a9-dd980fe788aa",
   "metadata": {},
   "outputs": [],
   "source": []
  },
  {
   "cell_type": "code",
   "execution_count": null,
   "id": "6dc0d95c-3ca9-4bbf-a524-9ce4f73d481d",
   "metadata": {},
   "outputs": [],
   "source": []
  },
  {
   "cell_type": "code",
   "execution_count": null,
   "id": "940d638a-f7c4-4631-9190-ffe157584abc",
   "metadata": {},
   "outputs": [],
   "source": []
  }
 ],
 "metadata": {
  "kernelspec": {
   "display_name": "Python 3 (ipykernel)",
   "language": "python",
   "name": "python3"
  },
  "language_info": {
   "codemirror_mode": {
    "name": "ipython",
    "version": 3
   },
   "file_extension": ".py",
   "mimetype": "text/x-python",
   "name": "python",
   "nbconvert_exporter": "python",
   "pygments_lexer": "ipython3",
   "version": "3.9.16"
  },
  "latex_envs": {
   "LaTeX_envs_menu_present": true,
   "autoclose": false,
   "autocomplete": true,
   "bibliofile": "biblio.bib",
   "cite_by": "apalike",
   "current_citInitial": 1,
   "eqLabelWithNumbers": true,
   "eqNumInitial": 1,
   "hotkeys": {
    "equation": "Ctrl-E",
    "itemize": "Ctrl-I"
   },
   "labels_anchors": false,
   "latex_user_defs": false,
   "report_style_numbering": false,
   "user_envs_cfg": false
  },
  "toc": {
   "base_numbering": 1,
   "nav_menu": {},
   "number_sections": true,
   "sideBar": true,
   "skip_h1_title": false,
   "title_cell": "Table of Contents",
   "title_sidebar": "Contents",
   "toc_cell": false,
   "toc_position": {},
   "toc_section_display": true,
   "toc_window_display": false
  },
  "varInspector": {
   "cols": {
    "lenName": 16,
    "lenType": 16,
    "lenVar": 40
   },
   "kernels_config": {
    "python": {
     "delete_cmd_postfix": "",
     "delete_cmd_prefix": "del ",
     "library": "var_list.py",
     "varRefreshCmd": "print(var_dic_list())"
    },
    "r": {
     "delete_cmd_postfix": ") ",
     "delete_cmd_prefix": "rm(",
     "library": "var_list.r",
     "varRefreshCmd": "cat(var_dic_list()) "
    }
   },
   "types_to_exclude": [
    "module",
    "function",
    "builtin_function_or_method",
    "instance",
    "_Feature"
   ],
   "window_display": false
  }
 },
 "nbformat": 4,
 "nbformat_minor": 5
}
