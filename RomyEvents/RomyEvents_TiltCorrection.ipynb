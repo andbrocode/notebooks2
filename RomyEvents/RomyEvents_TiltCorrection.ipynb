{
 "cells": [
  {
   "cell_type": "markdown",
   "id": "0b26487a",
   "metadata": {
    "ExecuteTime": {
     "end_time": "2022-09-13T00:35:24.926376Z",
     "start_time": "2022-09-13T00:35:24.923877Z"
    }
   },
   "source": [
    "# Analyse ROMY Events - Tilt Correction"
   ]
  },
  {
   "cell_type": "markdown",
   "id": "7742e363",
   "metadata": {},
   "source": []
  },
  {
   "cell_type": "code",
   "execution_count": 1,
   "id": "35a4ef94",
   "metadata": {
    "ExecuteTime": {
     "end_time": "2023-04-05T16:30:44.374156Z",
     "start_time": "2023-04-05T16:30:42.823021Z"
    },
    "tags": []
   },
   "outputs": [],
   "source": [
    "import os\n",
    "import obspy as obs\n",
    "import matplotlib.pyplot as plt\n",
    "import numpy as np\n",
    "# import multitaper\n",
    "\n",
    "from obspy.clients.fdsn import Client\n",
    "from twistpy.tilt.correction import remove_tilt"
   ]
  },
  {
   "cell_type": "code",
   "execution_count": 2,
   "id": "938b2d63",
   "metadata": {
    "tags": []
   },
   "outputs": [],
   "source": [
    "from functions.makeplot_spectra_comparison_fill import __makeplot_spectra_comparison_fill\n",
    "from functions.compute_backazimuth import __compute_backazimuth\n",
    "from functions.makeplot_waveform_comparison_cc import __makeplot_waveform_comparison_cc\n",
    "from functions.makeplot_comparison_ccf import __makeplot_comparison_ccf\n",
    "from functions.get_event_info import __get_event_info\n",
    "from functions.compute_cross_wavelet_transform import __compute_cross_wavelet_transform\n",
    "from functions.compute_cwt import __compute_cwt\n",
    "from functions.makeplot_waveforms import __makeplot_waveforms"
   ]
  },
  {
   "cell_type": "code",
   "execution_count": 3,
   "id": "ead1b641",
   "metadata": {
    "tags": []
   },
   "outputs": [],
   "source": [
    "if os.uname().nodename == 'lighthouse':\n",
    "    root_path = '/home/andbro/'\n",
    "    data_path = '/home/andbro/kilauea-data/'\n",
    "    archive_path = '/home/andbro/freenas/'\n",
    "elif os.uname().nodename == 'kilauea':\n",
    "    root_path = '/home/brotzer/'\n",
    "    data_path = '/import/kilauea-data/'\n",
    "    archive_path = '/import/freenas-ffb-01-data/'"
   ]
  },
  {
   "cell_type": "markdown",
   "id": "a0057ee8",
   "metadata": {},
   "source": [
    "## Configurations"
   ]
  },
  {
   "cell_type": "code",
   "execution_count": 4,
   "id": "2759106e",
   "metadata": {
    "ExecuteTime": {
     "end_time": "2023-04-05T16:32:26.446824Z",
     "start_time": "2023-04-05T16:32:26.444464Z"
    },
    "tags": []
   },
   "outputs": [],
   "source": [
    "config = {}\n",
    "\n",
    "## output path for figures\n",
    "config['path_to_figs'] = data_path+\"romy_events/figures/\"\n",
    "\n",
    "## path to data archive\n",
    "config['path_to_data'] = data_path+\"romy_events/data/\"\n",
    "\n",
    "## select seismometer ( FUR or DROMY )\n",
    "config['seis'] = \"FUR\"\n",
    "\n",
    "## Event\n",
    "config['event_name'] = \"Montenegro\"\n",
    "config['tbeg'] = obs.UTCDateTime(\"2024-03-14 03:06\")\n",
    "config['tend'] = obs.UTCDateTime(\"2024-03-14 03:36\")\n",
    "config['trim'] = [120, 1100]\n",
    "\n",
    "## Noise\n",
    "# config['event_name'] = \"Noise\"\n",
    "# config['tbeg'] = obs.UTCDateTime(\"2024-03-29 00:00\")\n",
    "# config['tend'] = obs.UTCDateTime(\"2024-03-30 00:00\")\n",
    "# config['trim'] = [15*3600, 4*3600]\n",
    "\n",
    "\n",
    "\n",
    "config['filename'] = f\"ROMY_{config['seis']}_{config['event_name']}_{str(config['tbeg'].date).replace('-','')}_6C.mseed\"\n",
    "\n",
    "config['Client'] = Client(\"USGS\")\n",
    "\n",
    "## ROMY coordinates\n",
    "config['sta_lon'] = 11.275501\n",
    "config['sta_lat'] = 48.162941\n",
    "\n"
   ]
  },
  {
   "cell_type": "markdown",
   "id": "3914128a",
   "metadata": {},
   "source": [
    "## Load Data"
   ]
  },
  {
   "cell_type": "code",
   "execution_count": 5,
   "id": "7a2316cb",
   "metadata": {
    "tags": []
   },
   "outputs": [],
   "source": [
    "# config, dist, baz, az = __get_event_info(config)"
   ]
  },
  {
   "cell_type": "code",
   "execution_count": 6,
   "id": "d8f5678a",
   "metadata": {
    "ExecuteTime": {
     "end_time": "2023-04-05T16:32:28.848402Z",
     "start_time": "2023-04-05T16:32:27.388915Z"
    },
    "tags": []
   },
   "outputs": [
    {
     "ename": "FileNotFoundError",
     "evalue": "[Errno 2] No such file or directory: '/import/kilauea-data/romy_events/data/ROMY_FUR_Montenegro_20240314_6C.mseed'",
     "output_type": "error",
     "traceback": [
      "\u001b[0;31m---------------------------------------------------------------------------\u001b[0m",
      "\u001b[0;31mFileNotFoundError\u001b[0m                         Traceback (most recent call last)",
      "Cell \u001b[0;32mIn[6], line 1\u001b[0m\n\u001b[0;32m----> 1\u001b[0m st0 \u001b[38;5;241m=\u001b[39m \u001b[43mobs\u001b[49m\u001b[38;5;241;43m.\u001b[39;49m\u001b[43mread\u001b[49m\u001b[43m(\u001b[49m\u001b[43mconfig\u001b[49m\u001b[43m[\u001b[49m\u001b[38;5;124;43m'\u001b[39;49m\u001b[38;5;124;43mpath_to_data\u001b[39;49m\u001b[38;5;124;43m'\u001b[39;49m\u001b[43m]\u001b[49m\u001b[38;5;241;43m+\u001b[39;49m\u001b[43mconfig\u001b[49m\u001b[43m[\u001b[49m\u001b[38;5;124;43m'\u001b[39;49m\u001b[38;5;124;43mfilename\u001b[39;49m\u001b[38;5;124;43m'\u001b[39;49m\u001b[43m]\u001b[49m\u001b[43m)\u001b[49m\n\u001b[1;32m      3\u001b[0m st0 \u001b[38;5;241m=\u001b[39m st0\u001b[38;5;241m.\u001b[39mtrim(config[\u001b[38;5;124m'\u001b[39m\u001b[38;5;124mtbeg\u001b[39m\u001b[38;5;124m'\u001b[39m]\u001b[38;5;241m+\u001b[39mconfig[\u001b[38;5;124m'\u001b[39m\u001b[38;5;124mtrim\u001b[39m\u001b[38;5;124m'\u001b[39m][\u001b[38;5;241m0\u001b[39m], config[\u001b[38;5;124m'\u001b[39m\u001b[38;5;124mtend\u001b[39m\u001b[38;5;124m'\u001b[39m]\u001b[38;5;241m-\u001b[39mconfig[\u001b[38;5;124m'\u001b[39m\u001b[38;5;124mtrim\u001b[39m\u001b[38;5;124m'\u001b[39m][\u001b[38;5;241m1\u001b[39m])\n",
      "File \u001b[0;32m~/anaconda3/envs/obs2/lib/python3.9/site-packages/decorator.py:232\u001b[0m, in \u001b[0;36mdecorate.<locals>.fun\u001b[0;34m(*args, **kw)\u001b[0m\n\u001b[1;32m    230\u001b[0m \u001b[38;5;28;01mif\u001b[39;00m \u001b[38;5;129;01mnot\u001b[39;00m kwsyntax:\n\u001b[1;32m    231\u001b[0m     args, kw \u001b[38;5;241m=\u001b[39m fix(args, kw, sig)\n\u001b[0;32m--> 232\u001b[0m \u001b[38;5;28;01mreturn\u001b[39;00m \u001b[43mcaller\u001b[49m\u001b[43m(\u001b[49m\u001b[43mfunc\u001b[49m\u001b[43m,\u001b[49m\u001b[43m \u001b[49m\u001b[38;5;241;43m*\u001b[39;49m\u001b[43m(\u001b[49m\u001b[43mextras\u001b[49m\u001b[43m \u001b[49m\u001b[38;5;241;43m+\u001b[39;49m\u001b[43m \u001b[49m\u001b[43margs\u001b[49m\u001b[43m)\u001b[49m\u001b[43m,\u001b[49m\u001b[43m \u001b[49m\u001b[38;5;241;43m*\u001b[39;49m\u001b[38;5;241;43m*\u001b[39;49m\u001b[43mkw\u001b[49m\u001b[43m)\u001b[49m\n",
      "File \u001b[0;32m~/anaconda3/envs/obs2/lib/python3.9/site-packages/obspy/core/util/decorator.py:297\u001b[0m, in \u001b[0;36mmap_example_filename.<locals>._map_example_filename\u001b[0;34m(func, *args, **kwargs)\u001b[0m\n\u001b[1;32m    295\u001b[0m                 \u001b[38;5;28;01mexcept\u001b[39;00m \u001b[38;5;167;01mIOError\u001b[39;00m:\n\u001b[1;32m    296\u001b[0m                     \u001b[38;5;28;01mpass\u001b[39;00m\n\u001b[0;32m--> 297\u001b[0m \u001b[38;5;28;01mreturn\u001b[39;00m \u001b[43mfunc\u001b[49m\u001b[43m(\u001b[49m\u001b[38;5;241;43m*\u001b[39;49m\u001b[43margs\u001b[49m\u001b[43m,\u001b[49m\u001b[43m \u001b[49m\u001b[38;5;241;43m*\u001b[39;49m\u001b[38;5;241;43m*\u001b[39;49m\u001b[43mkwargs\u001b[49m\u001b[43m)\u001b[49m\n",
      "File \u001b[0;32m~/anaconda3/envs/obs2/lib/python3.9/site-packages/obspy/core/stream.py:208\u001b[0m, in \u001b[0;36mread\u001b[0;34m(pathname_or_url, format, headonly, starttime, endtime, nearest_sample, dtype, apply_calib, check_compression, **kwargs)\u001b[0m\n\u001b[1;32m    206\u001b[0m     st \u001b[38;5;241m=\u001b[39m _create_example_stream(headonly\u001b[38;5;241m=\u001b[39mheadonly)\n\u001b[1;32m    207\u001b[0m \u001b[38;5;28;01melse\u001b[39;00m:\n\u001b[0;32m--> 208\u001b[0m     st \u001b[38;5;241m=\u001b[39m \u001b[43m_generic_reader\u001b[49m\u001b[43m(\u001b[49m\u001b[43mpathname_or_url\u001b[49m\u001b[43m,\u001b[49m\u001b[43m \u001b[49m\u001b[43m_read\u001b[49m\u001b[43m,\u001b[49m\u001b[43m \u001b[49m\u001b[38;5;241;43m*\u001b[39;49m\u001b[38;5;241;43m*\u001b[39;49m\u001b[43mkwargs\u001b[49m\u001b[43m)\u001b[49m\n\u001b[1;32m    210\u001b[0m \u001b[38;5;28;01mif\u001b[39;00m \u001b[38;5;28mlen\u001b[39m(st) \u001b[38;5;241m==\u001b[39m \u001b[38;5;241m0\u001b[39m:\n\u001b[1;32m    211\u001b[0m     \u001b[38;5;66;03m# try to give more specific information why the stream is empty\u001b[39;00m\n\u001b[1;32m    212\u001b[0m     \u001b[38;5;28;01mif\u001b[39;00m has_magic(pathname_or_url) \u001b[38;5;129;01mand\u001b[39;00m \u001b[38;5;129;01mnot\u001b[39;00m glob(pathname_or_url):\n",
      "File \u001b[0;32m~/anaconda3/envs/obs2/lib/python3.9/site-packages/obspy/core/util/base.py:656\u001b[0m, in \u001b[0;36m_generic_reader\u001b[0;34m(pathname_or_url, callback_func, **kwargs)\u001b[0m\n\u001b[1;32m    654\u001b[0m         \u001b[38;5;28;01mraise\u001b[39;00m \u001b[38;5;167;01mException\u001b[39;00m(\u001b[38;5;124m\"\u001b[39m\u001b[38;5;124mNo file matching file pattern: \u001b[39m\u001b[38;5;132;01m%s\u001b[39;00m\u001b[38;5;124m\"\u001b[39m \u001b[38;5;241m%\u001b[39m pathname)\n\u001b[1;32m    655\u001b[0m     \u001b[38;5;28;01melif\u001b[39;00m \u001b[38;5;129;01mnot\u001b[39;00m glob\u001b[38;5;241m.\u001b[39mhas_magic(pathname) \u001b[38;5;129;01mand\u001b[39;00m \u001b[38;5;129;01mnot\u001b[39;00m Path(pathname)\u001b[38;5;241m.\u001b[39mis_file():\n\u001b[0;32m--> 656\u001b[0m         \u001b[38;5;28;01mraise\u001b[39;00m \u001b[38;5;167;01mIOError\u001b[39;00m(\u001b[38;5;241m2\u001b[39m, \u001b[38;5;124m\"\u001b[39m\u001b[38;5;124mNo such file or directory\u001b[39m\u001b[38;5;124m\"\u001b[39m, pathname)\n\u001b[1;32m    658\u001b[0m generic \u001b[38;5;241m=\u001b[39m callback_func(pathnames[\u001b[38;5;241m0\u001b[39m], \u001b[38;5;241m*\u001b[39m\u001b[38;5;241m*\u001b[39mkwargs)\n\u001b[1;32m    659\u001b[0m \u001b[38;5;28;01mif\u001b[39;00m \u001b[38;5;28mlen\u001b[39m(pathnames) \u001b[38;5;241m>\u001b[39m \u001b[38;5;241m1\u001b[39m:\n",
      "\u001b[0;31mFileNotFoundError\u001b[0m: [Errno 2] No such file or directory: '/import/kilauea-data/romy_events/data/ROMY_FUR_Montenegro_20240314_6C.mseed'"
     ]
    }
   ],
   "source": [
    "st0 = obs.read(config['path_to_data']+config['filename'])\n",
    "\n",
    "st0 = st0.trim(config['tbeg']+config['trim'][0], config['tend']-config['trim'][1])\n"
   ]
  },
  {
   "cell_type": "code",
   "execution_count": null,
   "id": "f9c2cb18",
   "metadata": {
    "tags": []
   },
   "outputs": [],
   "source": [
    "st0.plot(equal_scale=False);"
   ]
  },
  {
   "cell_type": "code",
   "execution_count": null,
   "id": "d365dc10-4252-4213-bb70-3f37aca86c44",
   "metadata": {
    "tags": []
   },
   "outputs": [],
   "source": [
    "st0"
   ]
  },
  {
   "cell_type": "code",
   "execution_count": null,
   "id": "b24555d1",
   "metadata": {
    "tags": []
   },
   "outputs": [],
   "source": [
    "# fmin, fmax = 0.001, 0.01\n",
    "fmin, fmax = 0.01, 0.2\n",
    "\n",
    "rot1 = st0.select(station=f\"ROMY\", channel=\"*J*\").copy()\n",
    "acc1 = st0.select(station=f\"{config['seis']}*\", channel=\"*H*\").copy()\n",
    "\n",
    "rot1 = rot1.detrend(\"linear\").taper(0.05, type=\"cosine\").filter(\"bandpass\", freqmin=fmin, freqmax=fmax, corners=4, zerophase=True);\n",
    "acc1 = acc1.detrend(\"linear\").taper(0.05, type=\"cosine\").filter(\"bandpass\", freqmin=fmin, freqmax=fmax, corners=4, zerophase=True);\n",
    "\n",
    "til1 = rot1.integrate(method='cumtrapz')\n",
    "\n",
    "# til1 = til1.detrend(\"demean\")\n",
    "\n",
    "til1.plot(equal_scale=False);"
   ]
  },
  {
   "cell_type": "code",
   "execution_count": null,
   "id": "96dbf95a-63ab-4e40-a66a-fb0f6effc669",
   "metadata": {
    "tags": []
   },
   "outputs": [],
   "source": [
    "_acc = acc1.copy().select(channel=\"*E\")[0].data\n",
    "_til = til1.copy().select(channel=\"*N\")[0].data * 9.81 *1000\n",
    "\n",
    "plt.figure(figsize=(15, 5))\n",
    "plt.plot(_acc)\n",
    "plt.plot(_til)"
   ]
  },
  {
   "cell_type": "code",
   "execution_count": null,
   "id": "2be3b1a4",
   "metadata": {
    "tags": []
   },
   "outputs": [],
   "source": [
    "def __makeplot(til_in, acc_in, comp=\"N\"):\n",
    "\n",
    "    import matplotlib.pyplot as plt\n",
    "    import numpy as np\n",
    "    from matplotlib.gridspec import GridSpec\n",
    "\n",
    "    def __integrate(stt, dat):\n",
    "        _st = stt.copy()\n",
    "        _st.data = dat\n",
    "        _st.integrate()\n",
    "        return _st.data\n",
    "\n",
    "    def __rmse(arr1, arr2):\n",
    "        return np.round(np.sqrt(np.mean((arr1-arr2)**2)), 4)\n",
    "\n",
    "    def __get_residual_percent(dat1, dat2):\n",
    "        imax, vmax = np.argmax(abs(dat2-dat1)), np.max(abs(dat2-dat1))\n",
    "        print(vmax, dat1[imax])\n",
    "        pmax = round(np.max(dat2-dat1)/dat1[imax]*100, 2)\n",
    "        return pmax\n",
    "\n",
    "    def __remove_tilt(acc0, rot0, m=\"freq\", scale=1):\n",
    "\n",
    "        dt = acc0[0].stats.delta\n",
    "\n",
    "        accN_cor = remove_tilt(acc0.select(channel=\"*N\")[0].data,\n",
    "                               rot0.select(channel=\"*E\")[0].data,\n",
    "                               dt,\n",
    "                               fmin,\n",
    "                               fmax,\n",
    "                               parallel=True,\n",
    "                               # smooth=100.0 / 164.0,\n",
    "                               method=m,\n",
    "                               threshold=0.2 # only for coh\n",
    "                              )\n",
    "\n",
    "        accE_cor = remove_tilt(acc0.select(channel=\"*E\")[0].data,\n",
    "                               rot0.select(channel=\"*N\")[0].data,\n",
    "                               dt,\n",
    "                               fmin,\n",
    "                               fmax,\n",
    "                               parallel=False,\n",
    "                               # smooth=100.0 / 164.0,\n",
    "                               method=m,\n",
    "                               threshold=0.2 # only for coh\n",
    "                               )\n",
    "\n",
    "        return accE_cor*scale, accN_cor*scale\n",
    "\n",
    "    acc = acc_in.copy()\n",
    "    til = til_in.copy()\n",
    "\n",
    "    times = acc.select(channel=\"*N\")[0].times()\n",
    "\n",
    "    Ncol, Nrow = 1, 9\n",
    "\n",
    "    font = 12\n",
    "\n",
    "    lw = 1\n",
    "\n",
    "    scale, unit = 1e6, f\"$\\mu$m/s$^2$\"\n",
    "\n",
    "    fig = plt.figure(figsize=(15, 8))\n",
    "\n",
    "    gs = GridSpec(Nrow, Ncol, figure=fig, hspace=0)\n",
    "\n",
    "    ax1 = fig.add_subplot(gs[0:2, :])\n",
    "    ax2 = fig.add_subplot(gs[2, :])\n",
    "    ax3 = fig.add_subplot(gs[3:5, :])\n",
    "    ax4 = fig.add_subplot(gs[5, :])\n",
    "    ax5 = fig.add_subplot(gs[6:8, :])\n",
    "    ax6 = fig.add_subplot(gs[8, :])\n",
    "\n",
    "    accN = acc.select(channel=\"*N\")[0].data*scale\n",
    "    accE = acc.select(channel=\"*E\")[0].data*scale\n",
    "\n",
    "    # accN = __integrate(acc.copy(), accN)\n",
    "    # accE = __integrate(acc.copy(), accE)\n",
    "\n",
    "    accE_f, accN_f = __remove_tilt(acc.copy(), til.copy(), m=\"freq\", scale=scale)\n",
    "    accE_c, accN_c = __remove_tilt(acc.copy(), til.copy(), m=\"coh\", scale=scale)\n",
    "    accE_t, accN_t = __remove_tilt(acc.copy(), til.copy(), m=\"direct\", scale=scale)\n",
    "\n",
    "    # accE_f, accN_f = __integrate(acc.copy(), accE_f), __integrate(acc.copy(), accN_f)\n",
    "    # accE_c, accN_c = __integrate(acc.copy(), accE_c), __integrate(acc.copy(), accN_c)\n",
    "    # accE_t, accN_t = __integrate(acc.copy(), accE_t), __integrate(acc.copy(), accN_t)\n",
    "\n",
    "\n",
    "    if comp == \"N\":\n",
    "        ax1.plot(times, accN, color=\"k\", label=\"observed\", lw=lw)\n",
    "        ax1.plot(times, accN_f, color=\"tab:red\", label=\"corrected (freq)\", lw=lw)\n",
    "\n",
    "        ax2.plot(times, (accN-accN_f), color=\"grey\", label=f\"RMSE = {__rmse(accN, accN_f)}, max = {__get_residual_percent(accN, accN_f)}%\", lw=lw)\n",
    "\n",
    "        ax3.plot(times, accN, color=\"k\", label=\"observed\", lw=lw)\n",
    "        ax3.plot(times, accN_c, color=\"tab:red\", label=\"corrected (coh)\", lw=lw)\n",
    "\n",
    "        ax4.plot(times, (accN-accN_c), color=\"grey\", label=f\"RMSE = {__rmse(accN, accN_c)}, max = {__get_residual_percent(accN, accN_c)}%\", lw=lw)\n",
    "\n",
    "        ax5.plot(times, accN, color=\"k\", label=\"observed\", lw=lw)\n",
    "        ax5.plot(times, accN_t, color=\"tab:red\", label=\"corrected (time)\", lw=lw)\n",
    "\n",
    "        ax6.plot(times, (accN-accN_t), color=\"grey\", label=f\"RMSE = {__rmse(accN, accN_t)}, max = {__get_residual_percent(accN, accN_t)}%\", lw=lw)\n",
    "\n",
    "    elif comp == \"E\":\n",
    "        ax1.plot(times, accE, color=\"k\", label=\"observed\", lw=lw)\n",
    "        ax1.plot(times, accE_f, color=\"tab:red\", label=\"corrected (freq)\", lw=lw)\n",
    "\n",
    "        ax2.plot(times, (accE-accE_f), color=\"grey\", label=f\"RMSE = {__rmse(accE, accE_f)}, max = {__get_residual_percent(accE, accE_f)}%\", lw=lw)\n",
    "\n",
    "        ax3.plot(times, accE, color=\"k\", label=\"observed\", lw=lw)\n",
    "        ax3.plot(times, accE_c, color=\"tab:red\", label=\"corrected (coh)\", lw=lw)\n",
    "\n",
    "        ax4.plot(times, (accE-accE_c), color=\"grey\", label=f\"RMSE = {__rmse(accE, accE_c)}, max = {__get_residual_percent(accE, accE_c)}%\", lw=lw)\n",
    "\n",
    "        ax5.plot(times, accE, color=\"k\", label=\"observed\", lw=lw)\n",
    "        ax5.plot(times, accE_t, color=\"tab:red\", label=\"corrected (time)\", lw=lw)\n",
    "\n",
    "        ax6.plot(times, (accE-accE_t), color=\"grey\", label=f\"RMSE = {__rmse(accE, accE_t)}, max = {__get_residual_percent(accE, accE_t)}%\", lw=lw)\n",
    "\n",
    "    for ax in [ax1, ax2, ax3, ax4, ax5, ax6]:\n",
    "        ax.legend(loc=1, ncol=2)\n",
    "\n",
    "    ax1.set_ylabel(f\"a ({unit})\", fontsize=font)\n",
    "    ax3.set_ylabel(f\"a ({unit})\", fontsize=font)\n",
    "    ax5.set_ylabel(f\"a ({unit})\", fontsize=font)\n",
    "\n",
    "    ax2.set_ylabel(f\"residual\\n ({unit})\", fontsize=font)\n",
    "    ax4.set_ylabel(f\"residual\\n ({unit})\", fontsize=font)\n",
    "    ax6.set_ylabel(f\"residual\\n ({unit})\", fontsize=font)\n",
    "\n",
    "    # ax1.axis('off')\n",
    "    for ax in [ax1, ax2, ax3, ax4, ax5]:\n",
    "        ax.get_xaxis().set_visible(False)\n",
    "\n",
    "#     ax3.set_ylabel(f\"East Tilt ({tilt_unit})\", fontsize=font)\n",
    "#     ax4.set_ylabel(f\"Residual \\n ({tilt_unit})\", fontsize=font)\n",
    "    ax6.set_xlabel(f\"Time (s) from {config['tbeg'].date} {str(config['tbeg'].time).split('.')[0]} UTC\", fontsize=font)\n",
    "\n",
    "    ax1.text(.005, .97, \"(a)\", ha='left', va='top', transform=ax1.transAxes, fontsize=font+2)\n",
    "    ax2.text(.005, .97, \"(b)\", ha='left', va='top', transform=ax2.transAxes, fontsize=font+2)\n",
    "    ax3.text(.005, .97, \"(c)\", ha='left', va='top', transform=ax3.transAxes, fontsize=font+2)\n",
    "    ax4.text(.005, .97, \"(d)\", ha='left', va='top', transform=ax4.transAxes, fontsize=font+2)\n",
    "    ax5.text(.005, .97, \"(e)\", ha='left', va='top', transform=ax5.transAxes, fontsize=font+2)\n",
    "    ax6.text(.005, .97, \"(f)\", ha='left', va='top', transform=ax6.transAxes, fontsize=font+2)\n",
    "\n",
    "    ax1.set_title(f\"component = {comp} | bandpass = {fmin} - {fmax} Hz\")\n",
    "\n",
    "    plt.plot();\n",
    "    return fig\n",
    "\n",
    "fig = __makeplot(til1, acc1, comp=\"N\")\n",
    "\n",
    "fig.savefig(config['path_to_figs']+f\"RomyTiltCorrection_{config['event_name']}_E.png\", format=\"png\", dpi=150, bbox_inches='tight')\n",
    "\n",
    "\n",
    "fig = __makeplot(til1, acc1, comp=\"E\")\n",
    "\n",
    "fig.savefig(config['path_to_figs']+f\"RomyTiltCorrection_{config['event_name']}_N.png\", format=\"png\", dpi=150, bbox_inches='tight')\n"
   ]
  },
  {
   "cell_type": "code",
   "execution_count": null,
   "id": "f69da1f7-01dd-4f51-8bad-828ea182a980",
   "metadata": {},
   "outputs": [],
   "source": []
  }
 ],
 "metadata": {
  "kernelspec": {
   "display_name": "Python 3 (ipykernel)",
   "language": "python",
   "name": "python3"
  },
  "language_info": {
   "codemirror_mode": {
    "name": "ipython",
    "version": 3
   },
   "file_extension": ".py",
   "mimetype": "text/x-python",
   "name": "python",
   "nbconvert_exporter": "python",
   "pygments_lexer": "ipython3",
   "version": "3.9.16"
  },
  "latex_envs": {
   "LaTeX_envs_menu_present": true,
   "autoclose": false,
   "autocomplete": true,
   "bibliofile": "biblio.bib",
   "cite_by": "apalike",
   "current_citInitial": 1,
   "eqLabelWithNumbers": true,
   "eqNumInitial": 1,
   "hotkeys": {
    "equation": "Ctrl-E",
    "itemize": "Ctrl-I"
   },
   "labels_anchors": false,
   "latex_user_defs": false,
   "report_style_numbering": false,
   "user_envs_cfg": false
  },
  "toc": {
   "base_numbering": 1,
   "nav_menu": {},
   "number_sections": true,
   "sideBar": true,
   "skip_h1_title": false,
   "title_cell": "Table of Contents",
   "title_sidebar": "Contents",
   "toc_cell": false,
   "toc_position": {},
   "toc_section_display": true,
   "toc_window_display": false
  },
  "varInspector": {
   "cols": {
    "lenName": 16,
    "lenType": 16,
    "lenVar": 40
   },
   "kernels_config": {
    "python": {
     "delete_cmd_postfix": "",
     "delete_cmd_prefix": "del ",
     "library": "var_list.py",
     "varRefreshCmd": "print(var_dic_list())"
    },
    "r": {
     "delete_cmd_postfix": ") ",
     "delete_cmd_prefix": "rm(",
     "library": "var_list.r",
     "varRefreshCmd": "cat(var_dic_list()) "
    }
   },
   "types_to_exclude": [
    "module",
    "function",
    "builtin_function_or_method",
    "instance",
    "_Feature"
   ],
   "window_display": false
  }
 },
 "nbformat": 4,
 "nbformat_minor": 5
}
