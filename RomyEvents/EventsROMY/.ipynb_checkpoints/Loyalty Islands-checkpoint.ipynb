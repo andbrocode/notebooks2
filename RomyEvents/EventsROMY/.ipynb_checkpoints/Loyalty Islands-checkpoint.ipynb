{
 "cells": [
  {
   "cell_type": "code",
   "execution_count": 4,
   "id": "starting-attribute",
   "metadata": {
    "ExecuteTime": {
     "end_time": "2021-02-12T09:25:59.194710Z",
     "start_time": "2021-02-12T09:25:59.191383Z"
    }
   },
   "outputs": [],
   "source": [
    "import obspy as obs\n",
    "\n",
    "import matplotlib.pyplot as plt\n",
    "\n",
    "# from andbro__querrySeismoData import __querrySeismoData"
   ]
  },
  {
   "cell_type": "code",
   "execution_count": 5,
   "id": "paperback-clause",
   "metadata": {
    "ExecuteTime": {
     "end_time": "2021-02-12T09:25:59.577360Z",
     "start_time": "2021-02-12T09:25:59.574004Z"
    }
   },
   "outputs": [],
   "source": [
    "path = \"/home/andbro/Documents/ROMY/data/\"\n",
    "\n",
    "# c = obs.clients.fdsn.Client(\"IRIS\")"
   ]
  },
  {
   "cell_type": "code",
   "execution_count": 6,
   "id": "forbidden-albuquerque",
   "metadata": {
    "ExecuteTime": {
     "end_time": "2021-02-12T09:25:59.758086Z",
     "start_time": "2021-02-12T09:25:59.749777Z"
    }
   },
   "outputs": [
    {
     "ename": "AttributeError",
     "evalue": "module 'obspy' has no attribute 'clients'",
     "output_type": "error",
     "traceback": [
      "\u001b[0;31m---------------------------------------------------------------------------\u001b[0m",
      "\u001b[0;31mAttributeError\u001b[0m                            Traceback (most recent call last)",
      "\u001b[0;32m<ipython-input-6-3086980674e0>\u001b[0m in \u001b[0;36m<module>\u001b[0;34m\u001b[0m\n\u001b[0;32m----> 1\u001b[0;31m \u001b[0mroute\u001b[0m \u001b[0;34m=\u001b[0m \u001b[0mobs\u001b[0m\u001b[0;34m.\u001b[0m\u001b[0mclients\u001b[0m\u001b[0;34m.\u001b[0m\u001b[0mfdsn\u001b[0m\u001b[0;34m.\u001b[0m\u001b[0mRoutingClient\u001b[0m\u001b[0;34m(\u001b[0m\u001b[0;34m\"eida-routing\"\u001b[0m\u001b[0;34m)\u001b[0m\u001b[0;34m\u001b[0m\u001b[0;34m\u001b[0m\u001b[0m\n\u001b[0m",
      "\u001b[0;31mAttributeError\u001b[0m: module 'obspy' has no attribute 'clients'"
     ]
    }
   ],
   "source": [
    "route = obs.clients.fdsn.RoutingClient(\"eida-routing\")"
   ]
  },
  {
   "cell_type": "code",
   "execution_count": null,
   "id": "tribal-circus",
   "metadata": {
    "ExecuteTime": {
     "end_time": "2021-02-12T09:23:54.327409Z",
     "start_time": "2021-02-12T09:23:54.173998Z"
    }
   },
   "outputs": [],
   "source": [
    "BJZ_10_r = obs.read(path+\"ROMY_BJZ_2021-02-10.mseed\"); BJZ_10 = BJZ_10_r.copy()\n",
    "BJZ_11_r = obs.read(path+\"ROMY_BJZ_2021-02-11.mseed\"); BJZ_11 = BJZ_11_r.copy()\n",
    "BJZ_inv = route.get_stations(networtk=\"BW\", station=\"ROMY\", level=\"response\")\n",
    "\n",
    "BJV_10_r = obs.read(path+\"ROMY_BJV_2021-02-10.mseed\"); BJV_10 = BJV_10_r.copy()\n",
    "BJV_11_r = obs.read(path+\"ROMY_BJV_2021-02-11.mseed\"); BJV_11 = BJV_11_r.copy()\n",
    "BJV_inv = route.get_stations(networtk=\"BW\", station=\"ROMY\", level=\"response\")\n",
    "\n",
    "RLAS_10_r = obs.read(path+\"RLAS_BJZ_2021-02-10.mseed\"); RLAS_10 = RLAS_10_r.copy()\n",
    "RLAS_11_r = obs.read(path+\"RLAS_BJZ_2021-02-11.mseed\"); RLAS_11 = RLAS_11_r.copy()\n",
    "RLAS_inv = route.get_stations(networtk=\"BW\", station=\"RLAS\", level=\"response\")\n",
    "\n",
    "# c.get_waveforms(network=\"BW\",\n",
    "#                 station=\"RLAS\",\n",
    "#                 \"2021-02-10 00:00\", \"2021-02-10 23:59\", attach_response=True)\n",
    "\n",
    "RLAS_11_r = __querrySeismoData(\"BW.RLAS..BJZ\", \"2021-02-11 00:00\", \"2021-02-11 23:59\", restitute=True)"
   ]
  },
  {
   "cell_type": "code",
   "execution_count": null,
   "id": "favorite-transportation",
   "metadata": {
    "ExecuteTime": {
     "end_time": "2021-02-12T09:23:56.368355Z",
     "start_time": "2021-02-12T09:23:56.358432Z"
    }
   },
   "outputs": [],
   "source": [
    "BJZ_10_r.remove_response(BJZ_inv)\n",
    "BJZ_11_r.remove_response(BJZ_inv)\n",
    "\n",
    "BJZ_10_r.remove_response(BJV_inv)\n",
    "BJZ_11_r.remove_response(BJV_inv)"
   ]
  },
  {
   "cell_type": "code",
   "execution_count": null,
   "id": "utility-original",
   "metadata": {
    "ExecuteTime": {
     "end_time": "2021-02-12T09:23:57.835810Z",
     "start_time": "2021-02-12T09:23:57.828489Z"
    }
   },
   "outputs": [],
   "source": [
    "e1_tbeg = obs.UTCDateTime(\"2021-02-10 13:20\")\n",
    "e1_tend = e1_tbeg + 120*60\n",
    "\n",
    "e2_tbeg = obs.UTCDateTime(\"2021-02-10 18:36\")\n",
    "e2_tend = e2_tbeg + 120*60\n",
    "\n",
    "e3_tbeg = obs.UTCDateTime(\"2021-02-10 21:32\")\n",
    "e3_tend = e3_tbeg + 120*60\n",
    "\n",
    "e4_tbeg = obs.UTCDateTime(\"2021-02-11 06:52\")\n",
    "e4_tend = e4_tbeg + 120*60"
   ]
  },
  {
   "cell_type": "code",
   "execution_count": null,
   "id": "organizational-terrain",
   "metadata": {
    "ExecuteTime": {
     "end_time": "2021-02-12T09:21:08.689728Z",
     "start_time": "2021-02-12T09:21:08.053Z"
    }
   },
   "outputs": [],
   "source": [
    "def __make_event(tbeg, tend):\n",
    "    \n",
    "    if tbeg.day == 10:\n",
    "        BJZ_10 = BJZ_10_r.copy()\n",
    "        BJZ_10.trim(tbeg, tend)\n",
    "        \n",
    "        RLAS_10 = RLAS_10_r.copy()\n",
    "        RLAS_10.trim(tbeg, tend)\n",
    "#         BJV_10.trim(tbeg, tend)\n",
    "\n",
    "#         event = obs.core.stream.Stream(traces=[BJZ_10[0], BJV_10[0], RLAS_10[0]])\n",
    "        event = obs.core.stream.Stream(traces=[BJZ_10[0], RLAS_10[0]])\n",
    "        \n",
    "    elif tbeg.day == 11:\n",
    "        \n",
    "        BJZ_11 = BJZ_11_r.copy()\n",
    "        BJZ_11.trim(tbeg, tend)\n",
    "        \n",
    "        RLAS_11 = RLAS_11_r.copy()\n",
    "        RLAS_11.trim(tbeg, tend)\n",
    "        \n",
    "        event = obs.core.stream.Stream(traces=[BJZ_11[0], RLAS_11[0]])\n",
    "    \n",
    "    return event"
   ]
  },
  {
   "cell_type": "code",
   "execution_count": null,
   "id": "happy-raising",
   "metadata": {
    "ExecuteTime": {
     "end_time": "2021-02-12T09:21:08.690331Z",
     "start_time": "2021-02-12T09:21:08.060Z"
    }
   },
   "outputs": [],
   "source": [
    "event_1 = __make_event(e1_tbeg, e1_tend)\n",
    "\n",
    "event_2 = __make_event(e2_tbeg, e2_tend)\n",
    "\n",
    "event_3 = __make_event(e3_tbeg, e3_tend)\n",
    "\n",
    "event_4 = __make_event(e4_tbeg, e4_tend)\n"
   ]
  },
  {
   "cell_type": "code",
   "execution_count": null,
   "id": "extraordinary-coordinate",
   "metadata": {
    "ExecuteTime": {
     "end_time": "2021-02-12T09:21:08.690800Z",
     "start_time": "2021-02-12T09:21:08.067Z"
    }
   },
   "outputs": [],
   "source": [
    "event_1.detrend(\"simple\")\n",
    "event_1.filter('bandpass', freqmin=0.01, freqmax=0.1, corners=4, zerophase=True)"
   ]
  },
  {
   "cell_type": "code",
   "execution_count": null,
   "id": "certain-recipe",
   "metadata": {
    "ExecuteTime": {
     "end_time": "2021-02-12T09:21:08.691366Z",
     "start_time": "2021-02-12T09:21:08.072Z"
    }
   },
   "outputs": [],
   "source": [
    "fig, ax = plt.subplots(3, 1, figsize=(15,7))\n",
    "\n",
    "event = event_1\n",
    "\n",
    "ax[0].plot(event[0])\n",
    "ax[1].plot(event[1])\n",
    "ax[2].plot(event[0].data-event[1].data)"
   ]
  },
  {
   "cell_type": "code",
   "execution_count": null,
   "id": "broken-blond",
   "metadata": {},
   "outputs": [],
   "source": []
  },
  {
   "cell_type": "code",
   "execution_count": null,
   "id": "british-jonathan",
   "metadata": {},
   "outputs": [],
   "source": []
  }
 ],
 "metadata": {
  "kernelspec": {
   "display_name": "Python 3",
   "language": "python",
   "name": "python3"
  },
  "language_info": {
   "codemirror_mode": {
    "name": "ipython",
    "version": 3
   },
   "file_extension": ".py",
   "mimetype": "text/x-python",
   "name": "python",
   "nbconvert_exporter": "python",
   "pygments_lexer": "ipython3",
   "version": "3.7.8"
  }
 },
 "nbformat": 4,
 "nbformat_minor": 5
}
