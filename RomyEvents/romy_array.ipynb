{
 "cells": [
  {
   "cell_type": "markdown",
   "metadata": {},
   "source": [
    "## ROMY ARRAY DATA"
   ]
  },
  {
   "cell_type": "markdown",
   "metadata": {},
   "source": [
    "### Importing"
   ]
  },
  {
   "cell_type": "code",
   "execution_count": 1,
   "metadata": {
    "tags": []
   },
   "outputs": [],
   "source": [
    "\n",
    "import os, subprocess\n",
    "import numpy as np\n",
    "import matplotlib.pyplot as plt \n",
    "import obspy\n",
    "import pandas as pd\n",
    "\n",
    "from obspy.clients.fdsn import Client, RoutingClient\n",
    "from obspy.signal.array_analysis import array_transff_wavenumber\n",
    "from obspy.imaging.cm import obspy_sequential\n",
    "from obspy.geodetics import locations2degrees\n",
    "from andbro__querrySeismoData import __querrySeismoData\n",
    "from tqdm import tqdm\n",
    "from obspy.core.util import AttribDict\n",
    "# from pydsm.relab import shiftdim\n",
    "\n",
    "\n",
    "#from andbro__save_to import __save_to\n",
    "#from andbro__get_data import __get_data\n"
   ]
  },
  {
   "cell_type": "markdown",
   "metadata": {},
   "source": [
    "### Initializing Settings"
   ]
  },
  {
   "cell_type": "code",
   "execution_count": 14,
   "metadata": {
    "code_folding": []
   },
   "outputs": [],
   "source": [
    "plt.style.use('default') # print(plt.style.available)   \n",
    "\n",
    "%matplotlib inline"
   ]
  },
  {
   "cell_type": "markdown",
   "metadata": {},
   "source": [
    "### Setting Variables"
   ]
  },
  {
   "cell_type": "code",
   "execution_count": 17,
   "metadata": {
    "code_folding": []
   },
   "outputs": [],
   "source": [
    "\n",
    "#ipath = '/home/brotzer/'\n",
    "#ifile = ''\n",
    "\n",
    "#opath = '/home/brotzer/'\n",
    "#ofile = ''\n",
    "\n",
    "config = {}\n",
    "\n",
    "config['klim'] = 50.\n",
    "config['kstep'] = config['klim'] / 100.\n",
    "\n",
    "config['tbeg'] = obspy.UTCDateTime(\"2019-05-14T12:17:00.000\")\n",
    "config['tend'] = obspy.UTCDateTime(\"2019-05-14T14:00:10.000\")\n",
    "\n",
    "\n",
    "config['client'] = RoutingClient(\"eida-routing\")"
   ]
  },
  {
   "cell_type": "markdown",
   "metadata": {},
   "source": [
    "### Defining Methods"
   ]
  },
  {
   "cell_type": "code",
   "execution_count": 18,
   "metadata": {
    "code_folding": [
     1
    ]
   },
   "outputs": [],
   "source": [
    "\n",
    "def __plotArrayGeometryAndResponse(array, transff, klim, kstep, unit=None):\n",
    "    \n",
    "    ## calulcate geometrical center of array\n",
    "    array_center = [np.median(array[:,0]), np.median(array[:,1])]\n",
    "    \n",
    "    ## find geometrical limits of array\n",
    "    lon_min, lon_max = np.min(array[:,0]), np.max(array[:,0])\n",
    "    lat_min, lat_max = np.min(array[:,1]), np.max(array[:,1])\n",
    "    \n",
    "    ## define bounds\n",
    "    kxmin, kxmax, kymin, kymax = -klim, klim, -klim, klim\n",
    "    \n",
    "    \n",
    "    ## _________________________________________________________\n",
    "    ##\n",
    "    fig, axes = plt.subplots(1,2, figsize=(16,6))\n",
    "\n",
    "    fs=12\n",
    "    \n",
    "    if unit is \"km\":\n",
    "        xdata = (array[:,0]-array_center[0])*111.\n",
    "        ydata = (array[:,1]-array_center[1])*111. * np.cos(array[:,1]/180.*np.pi)\n",
    "        x0, y0 = 0.0, 0.0\n",
    "    elif unit is \"deg\":\n",
    "        xdata = array[:,0]\n",
    "        ydata = array[:,1]\n",
    "        x0, y0 = array_center[0], array_center[1]\n",
    "        \n",
    "    ## ________________________________________________\n",
    "    axes[0].plot(xdata, ydata,'kv')\n",
    "    axes[0].scatter(x0, y0, color='red', marker='o', s=15)\n",
    "    \n",
    "    if unit is \"km\" or unit is None:\n",
    "        axes[0].set_xlabel('X (km)', fontsize=fs)\n",
    "        axes[0].set_ylabel('Y (km)', fontsize=fs)\n",
    "\n",
    "        axes[0].set_ylim([-max(abs(ydata)), max(abs(ydata))])\n",
    "        axes[0].set_ylim([-max(abs(ydata)), max(abs(ydata))])\n",
    "                 \n",
    "    elif unit is \"deg\":\n",
    "        axes[0].set_xlabel('Longitude (°)', fontsize=fs)\n",
    "        axes[0].set_ylabel('Latitude (°)', fontsize=fs)\n",
    "                 \n",
    "    axes[0].set_title('Square Array configuration', fontsize=fs+2)\n",
    "\n",
    "    \n",
    "    ## ________________________________________________\n",
    "    ax2 = axes[1].pcolor(np.arange(kxmin, kxmax + kstep * 1.1, kstep) - kstep / 2.,\n",
    "               np.arange(kymin, kymax + kstep * 1.1, kstep) - kstep / 2.,\n",
    "               transff.T, cmap=obspy_sequential)\n",
    "    \n",
    "    plt.colorbar(ax2, ax=axes[:])\n",
    "    ax2.set_clim(0., 1.)\n",
    "    \n",
    "    axes[1].set_xlim(kxmin, kxmax)\n",
    "    axes[1].set_ylim(kymin, kymax)\n",
    "    axes[1].set_xlabel('wave number (m$^{-1}$)', fontsize=fs)\n",
    "    axes[1].set_ylabel('wave number (m$^{-1}$)', fontsize=fs)\n",
    "    axes[1].set_title('ARF Square Array', fontsize=fs+2)\n",
    "    \n",
    "    plt.show()    \n"
   ]
  },
  {
   "cell_type": "code",
   "execution_count": 19,
   "metadata": {
    "code_folding": [
     1
    ]
   },
   "outputs": [],
   "source": [
    "\n",
    "def __getArrayStations(seed_id, tbeg, tend, fur_coords):\n",
    "\n",
    "    net, sta, loc, cha  = seed_id.split(\".\")\n",
    "\n",
    "    route =  RoutingClient(\"eida-routing\")\n",
    "    inv_check =route.get_stations(\n",
    "                            network=net, \n",
    "                            station=sta,\n",
    "                            channel=cha,\n",
    "                            starttime=tbeg,\n",
    "                            endtime=tend,\n",
    "                            latitude=fur_coords[0],\n",
    "                            longitude=fur_coords[1],\n",
    "                            minradius=0,\n",
    "                            maxradius=0.1,\n",
    "                            )\n",
    "    \n",
    "    \n",
    "    inv_check.plot(projection=\"local\");\n",
    "    \n",
    "    \n",
    "    codes, lon, lat, elev = [], [], [], []\n",
    "    for h, network in enumerate(inv_check):\n",
    "        for i, station in enumerate(network):\n",
    "             \n",
    "            codes.append(f'{inv_check[h].code}.{station.code}')\n",
    "            lon.append(station.longitude)\n",
    "            lat.append(station.latitude)\n",
    "            elev.append(station.elevation/1000.)\n",
    "            \n",
    "    frame = pd.DataFrame({'codes': codes, 'lon': lon, 'lat': lat, 'elev':elev})\n",
    "    \n",
    "    return frame\n"
   ]
  },
  {
   "cell_type": "code",
   "execution_count": 20,
   "metadata": {
    "code_folding": [
     1
    ]
   },
   "outputs": [],
   "source": [
    "\n",
    "def __calculateDistanceOfStations(array_stations):\n",
    "    '''\n",
    "    from obspy.geodetics import locations2degrees\n",
    "\n",
    "    '''\n",
    "    \n",
    "    N = len(array_stations)\n",
    "    \n",
    "    dist_in_deg = np.zeros((N, N))\n",
    "\n",
    "    for i, station1 in array_stations.iterrows():\n",
    "        for j, station2 in array_stations.iterrows():\n",
    "            dist_in_deg[i][j] = locations2degrees(lat1  = station1[2], \n",
    "                                                  long1 = station1[1], \n",
    "                                                  lat2  = station2[2], \n",
    "                                                  long2 = station2[1],\n",
    "                                                  )\n",
    "            \n",
    "    return dist_in_deg, np.max(dist_in_deg)*111.0\n"
   ]
  },
  {
   "cell_type": "code",
   "execution_count": 21,
   "metadata": {
    "code_folding": [
     1
    ]
   },
   "outputs": [],
   "source": [
    "\n",
    "def __plotArraySection(st_in, scal, comp=None): \n",
    "    \n",
    "    if comp is not None:\n",
    "        st_in = st_in.select(component = comp);\n",
    "        title = f'{comp}-components of ROMY Array'\n",
    "        \n",
    "    names = [tr.stats.station for tr in st_in]\n",
    "    \n",
    "    fs = 14\n",
    "    \n",
    "    ## _________________________________________\n",
    "    ##\n",
    "    fig, ax = plt.subplots(1,1, figsize=(13,6))\n",
    "    \n",
    "    if len(st_in) > 50: \n",
    "        print(f\"only 50 of {len(st_in)} traces are plotted!\")\n",
    "        st_in = st_in[:30]\n",
    "        \n",
    "    for istation in range(len(st_in)):\n",
    "        tmp = st_in[istation].data\n",
    "        \n",
    "        if len(tmp) == 0:\n",
    "            print('no data for station:', st_in[istation].stats.station)\n",
    "        \n",
    "        else:\n",
    "            if scal > 0:\n",
    "                tmp1 = tmp/(np.max(tmp)-np.min(tmp))\n",
    "            else:\n",
    "                tmp1 = tmp\n",
    "            \n",
    "            timeline = np.arange(0,len(tmp1),1)*st_in[istation].stats.delta\n",
    "            \n",
    "            ax.plot(timeline, tmp1*np.abs(scal)+istation*np.abs(scal),'k')\n",
    "    \n",
    "    ax.set_yticks(np.arange(0,len(st_in), 1)*scal)\n",
    "    ax.set_yticklabels(names, fontsize = fs)    \n",
    "#     ax.set_yticklabels(np.arange(0,len(st_in),1)+1)\n",
    "    ax.set_xlabel(f'Time from {st_in[0].stats.starttime.date} {st_in[0].stats.starttime.time} UTC (s)', fontsize = fs, labelpad=10)\n",
    "    ax.set_title(title, fontsize = fs)\n",
    "    \n",
    "    plt.show();\n",
    "    return fig\n"
   ]
  },
  {
   "cell_type": "code",
   "execution_count": 22,
   "metadata": {
    "code_folding": [
     1
    ]
   },
   "outputs": [],
   "source": [
    "\n",
    "def __getStream(array_stations, tbeg, tend):\n",
    "    \n",
    "    '''\n",
    "    from obspy.core.util import AttribDict\n",
    "\n",
    "    '''\n",
    "    \n",
    "    ## request waveforms\n",
    "    st = obspy.Stream(traces=None)\n",
    "    for i, station in array_stations.iterrows():\n",
    "        print(f\"requesting {station[0]}..BH* ...\")\n",
    "\n",
    "        try:\n",
    "            st0, st_inv = __querrySeismoData(f\"{station[0]}..BH*\", tbeg, tend, restitute = True, details=None)\n",
    "            \n",
    "        \n",
    "        except:\n",
    "            print(f'--> failed for {station[0]}!')\n",
    "        \n",
    "\n",
    "\n",
    "        st += st0\n",
    "    \n",
    "    \n",
    "    ## check for doubles\n",
    "    codes = []; removed = 0\n",
    "    for tr in st:\n",
    "        code = f\"{tr.stats.network}.{tr.stats.station}.{tr.stats.channel}\"\n",
    "        if code in codes:\n",
    "            st.remove(tr)\n",
    "            removed += 1\n",
    "        else:\n",
    "            codes.append(code)\n",
    "    \n",
    "    st.merge(); \n",
    "    print(f'\\n{removed} doubles have been removed!')\n",
    "    \n",
    "    return st\n"
   ]
  },
  {
   "cell_type": "code",
   "execution_count": 23,
   "metadata": {
    "code_folding": [
     1
    ]
   },
   "outputs": [],
   "source": [
    "\n",
    "def __TimeShift(st, timematrix): \n",
    "    \n",
    "    '''\n",
    "    timemaxtrix have same length as station\n",
    "    \n",
    "    '''\n",
    "    \n",
    "    ## create copy to not overwrite the stream\n",
    "    st_shift=st.copy()\n",
    "    \n",
    "    \n",
    "    ##all waveforms resampled to the same sampling rate\n",
    "    maximal_frequency = 1/st[0].stats.delta \n",
    "    \n",
    "    Nfft = st[0].stats.npts \n",
    "    \n",
    "    central_frequencies  = maximal_frequency/2*np.linspace(0,1,endpoint=True, num=np.int(Nfft/2+1)); \n",
    "    \n",
    "    \n",
    "    for i in range(len(st)):\n",
    "        \n",
    "        delay = timematrix[i] ##compute lag from slownesses \n",
    "        rep   = np.exp(1j*2*np.pi*central_frequencies*delay)\n",
    "        vehlp = np.fft.fft(st_shift[i].data)\n",
    "        shft  = shiftdim(vehlp[0:len(central_frequencies)],1,nargout=1)\n",
    "        dshft = rep.T*shft\n",
    "        s_sh  = np.double(2*np.real(np.fft.ifft(dshft, Nfft)))\n",
    "        \n",
    "        st_shift[i].data=s_sh\n",
    "    \n",
    "    \n",
    "    return st_shift\n"
   ]
  },
  {
   "cell_type": "code",
   "execution_count": 8,
   "metadata": {
    "code_folding": [
     1
    ]
   },
   "outputs": [],
   "source": [
    "\n",
    "# def __calulcateBeamPower(st, sl_min, sl_max, sl_step):\n",
    "    \n",
    "#     '''\n",
    "#     from pydsm.relab import shiftdim\n",
    "\n",
    "#     '''\n",
    "\n",
    "\n",
    "#     def shiftdim(array, n=None):\n",
    "\n",
    "#     from collections import deque\n",
    "#     import numpy as np        \n",
    "\n",
    "#     if n is not None:\n",
    "#         if n >= 0:\n",
    "#             axes = tuple(range(len(array.shape)))\n",
    "#             new_axes = deque(axes)\n",
    "#             new_axes.rotate(n)\n",
    "#             return np.moveaxis(array, axes, tuple(new_axes))\n",
    "#         return np.expand_dims(array, axis=tuple(range(-n)))\n",
    "#     else:\n",
    "#         idx = 0\n",
    "#         for dim in array.shape:\n",
    "#             if dim == 1:\n",
    "#                 idx += 1\n",
    "#             else:\n",
    "#                 break\n",
    "#         axes = tuple(range(idx))\n",
    "#         # Note that this returns a tuple of 2 results\n",
    "#         return np.squeeze(array, axis=axes), len(axes)\n",
    "\n",
    "    \n",
    "#     ## define slowness grid extensions\n",
    "#     Eslowness = np.arange(sl_min, sl_max+sl_step, sl_step)\n",
    "#     Nslowness = np.arange(sl_min, sl_max+sl_step, sl_step)\n",
    "    \n",
    "#     N_slow = len(Eslowness)\n",
    "    \n",
    "#     ## get distancens to center of array\n",
    "#     array_coords = np.zeros((len(st), 2))\n",
    "#     for i, tr in enumerate(st): \n",
    "#         array_coords[i][0] = tr.stats.coordinates.latitude\n",
    "#         array_coords[i][1] = tr.stats.coordinates.latitude\n",
    "    \n",
    "#     distN = (array_coords[:,0] - np.median(array_coords[:,0]))*111.0; \n",
    "#     distE = (array_coords[:,1] - np.median(array_coords[:,1]))*111.0 * np.cos(np.median(array_coords[:,1])/180*np.pi);\n",
    "\n",
    "    \n",
    "#     ## relevant parameters for frequency domain\n",
    "#     dt   = st[0].stats.delta  ## sampling interval\n",
    "#     Fmax = np.int(1/dt); ## maximum frequency\n",
    "#     Nfft = st[0].stats.npts ## number of sample in each chopped seismogram (i.e. number in fft)\n",
    "#     frq  = Fmax/2*np.linspace(0,1,endpoint=True, num=np.int(Nfft/2+1)); ## central frequencies\n",
    "\n",
    "#     beam = np.zeros([N_slow, N_slow])\n",
    "\n",
    "#     for ind1 in range(N_slow):\n",
    "\n",
    "#         for ind2 in range(N_slow):\n",
    "\n",
    "#             stdel = np.zeros([len(st)])\n",
    "\n",
    "#             for ind3 in np.arange(len(st)):\n",
    "\n",
    "#                 delay = -1*(distN[ind3]*Nslowness[ind1] + distE[ind3]*Eslowness[ind2]) ##compute lag from slownesses \n",
    "                \n",
    "#                 rep   = np.exp(1j*2*np.pi*frq*delay)\n",
    "                \n",
    "#                 vehlp = np.fft.fft(st[ind3].data)\n",
    "                \n",
    "#                 shft  = shiftdim(vehlp[0:len(frq)],1,nargout=1)\n",
    "                \n",
    "#                 dshft = rep.T*shft\n",
    "                \n",
    "#                 s_sh  = np.double(2*np.real(np.fft.ifft(dshft, Nfft)))\n",
    "                \n",
    "#                 stdel = stdel + s_sh/np.max(np.abs(s_sh))\n",
    "\n",
    "#             beam[ind1,ind2] = np.sum((stdel/len(inp))**2)\n",
    "\n",
    "\n",
    "#     ## determine peak\n",
    "#     indextuple = np.unravel_index(np.argmax(beam, axis=None), beam.shape)\n",
    "\n",
    "#     beampeak = beam[indextuple]\n",
    "\n",
    "#     beampeak_y = NsloV[indextuple[0]]\n",
    "#     beampeak_x = EsloV[indextuple[1]]\n",
    "\n",
    "#     ## calculate back azimuth\n",
    "#     baz = np.rad2deg(np.arctan2(beampeak_x,beampeak_y))\n",
    "    \n",
    "#     print('Slowness [s/km]: %g'%(np.sqrt(beampeak_x**2+beampeak_x**2) ))\n",
    "#     print(f'Back azimuth from North [degree]: {baz}')\n",
    "\n",
    "#     return beam, beampeak_x, beampeak_y, baz\n",
    "\n",
    "# __calulcateBeamPower(st, sl_min=-0.3, sl_max=0.3, sl_step=0.03)"
   ]
  },
  {
   "cell_type": "markdown",
   "metadata": {},
   "source": [
    "### Obtain Station Information"
   ]
  },
  {
   "cell_type": "code",
   "execution_count": 24,
   "metadata": {
    "code_folding": []
   },
   "outputs": [],
   "source": [
    "## get station info of FUR\n",
    "\n",
    "net, sta, loc, cha  = \"GR.FUR..BHZ\".split(\".\")\n",
    " \n",
    "inv = c.get_stations(network = net, \n",
    "                    station = sta,\n",
    "                    channel = cha,\n",
    "                    starttime = tbeg,\n",
    "                    endtime = tend\n",
    "                    ) \n",
    "\n",
    "\n",
    "fur_coords = [inv[0][0].latitude, inv[0][0].longitude, inv[0][0].elevation]\n"
   ]
  },
  {
   "cell_type": "code",
   "execution_count": 25,
   "metadata": {
    "code_folding": []
   },
   "outputs": [
    {
     "ename": "FileNotFoundError",
     "evalue": "[Errno 2] No such file or directory: '/home/YOUR_USER/anaconda3/share/proj/epsg'",
     "output_type": "error",
     "traceback": [
      "\u001b[0;31m---------------------------------------------------------------------------\u001b[0m",
      "\u001b[0;31mFileNotFoundError\u001b[0m                         Traceback (most recent call last)",
      "\u001b[0;32m<ipython-input-25-5182685fab5c>\u001b[0m in \u001b[0;36m<module>\u001b[0;34m\u001b[0m\n\u001b[1;32m      1\u001b[0m \u001b[0;31m## get all stations around ROMY\u001b[0m\u001b[0;34m\u001b[0m\u001b[0;34m\u001b[0m\u001b[0;34m\u001b[0m\u001b[0m\n\u001b[1;32m      2\u001b[0m \u001b[0;34m\u001b[0m\u001b[0m\n\u001b[0;32m----> 3\u001b[0;31m \u001b[0marray_stations\u001b[0m \u001b[0;34m=\u001b[0m \u001b[0m__getArrayStations\u001b[0m\u001b[0;34m(\u001b[0m\u001b[0;34m\"*.*..B*Z\"\u001b[0m\u001b[0;34m,\u001b[0m \u001b[0mtbeg\u001b[0m\u001b[0;34m,\u001b[0m \u001b[0mtend\u001b[0m\u001b[0;34m,\u001b[0m \u001b[0mfur_coords\u001b[0m\u001b[0;34m)\u001b[0m\u001b[0;34m\u001b[0m\u001b[0;34m\u001b[0m\u001b[0m\n\u001b[0m\u001b[1;32m      4\u001b[0m \u001b[0;34m\u001b[0m\u001b[0m\n\u001b[1;32m      5\u001b[0m \u001b[0marray_stations\u001b[0m\u001b[0;34m\u001b[0m\u001b[0;34m\u001b[0m\u001b[0m\n",
      "\u001b[0;32m<ipython-input-19-dcc5d3eb89bd>\u001b[0m in \u001b[0;36m__getArrayStations\u001b[0;34m(seed_id, tbeg, tend, fur_coords)\u001b[0m\n\u001b[1;32m     17\u001b[0m \u001b[0;34m\u001b[0m\u001b[0m\n\u001b[1;32m     18\u001b[0m \u001b[0;34m\u001b[0m\u001b[0m\n\u001b[0;32m---> 19\u001b[0;31m     \u001b[0minv_check\u001b[0m\u001b[0;34m.\u001b[0m\u001b[0mplot\u001b[0m\u001b[0;34m(\u001b[0m\u001b[0mprojection\u001b[0m\u001b[0;34m=\u001b[0m\u001b[0;34m\"local\"\u001b[0m\u001b[0;34m)\u001b[0m\u001b[0;34m;\u001b[0m\u001b[0;34m\u001b[0m\u001b[0;34m\u001b[0m\u001b[0m\n\u001b[0m\u001b[1;32m     20\u001b[0m \u001b[0;34m\u001b[0m\u001b[0m\n\u001b[1;32m     21\u001b[0m \u001b[0;34m\u001b[0m\u001b[0m\n",
      "\u001b[0;32m~/anaconda3/lib/python3.7/site-packages/obspy/core/inventory/inventory.py\u001b[0m in \u001b[0;36mplot\u001b[0;34m(self, projection, resolution, continent_fill_color, water_fill_color, marker, size, label, color, color_per_network, colormap, legend, time, show, outfile, method, fig, **kwargs)\u001b[0m\n\u001b[1;32m    957\u001b[0m             \u001b[0mcat\u001b[0m\u001b[0;34m.\u001b[0m\u001b[0mplot\u001b[0m\u001b[0;34m(\u001b[0m\u001b[0mfig\u001b[0m\u001b[0;34m=\u001b[0m\u001b[0mfig\u001b[0m\u001b[0;34m)\u001b[0m\u001b[0;34m\u001b[0m\u001b[0;34m\u001b[0m\u001b[0m\n\u001b[1;32m    958\u001b[0m         \"\"\"\n\u001b[0;32m--> 959\u001b[0;31m         \u001b[0;32mfrom\u001b[0m \u001b[0mobspy\u001b[0m\u001b[0;34m.\u001b[0m\u001b[0mimaging\u001b[0m\u001b[0;34m.\u001b[0m\u001b[0mmaps\u001b[0m \u001b[0;32mimport\u001b[0m \u001b[0mplot_map\u001b[0m\u001b[0;34m\u001b[0m\u001b[0;34m\u001b[0m\u001b[0m\n\u001b[0m\u001b[1;32m    960\u001b[0m         \u001b[0;32mimport\u001b[0m \u001b[0mmatplotlib\u001b[0m\u001b[0;34m.\u001b[0m\u001b[0mpyplot\u001b[0m \u001b[0;32mas\u001b[0m \u001b[0mplt\u001b[0m\u001b[0;34m\u001b[0m\u001b[0;34m\u001b[0m\u001b[0m\n\u001b[1;32m    961\u001b[0m \u001b[0;34m\u001b[0m\u001b[0m\n",
      "\u001b[0;32m~/anaconda3/lib/python3.7/site-packages/obspy/imaging/maps.py\u001b[0m in \u001b[0;36m<module>\u001b[0;34m\u001b[0m\n\u001b[1;32m     31\u001b[0m \u001b[0;34m\u001b[0m\u001b[0m\n\u001b[1;32m     32\u001b[0m \u001b[0;32mif\u001b[0m \u001b[0mBASEMAP_VERSION\u001b[0m\u001b[0;34m:\u001b[0m\u001b[0;34m\u001b[0m\u001b[0;34m\u001b[0m\u001b[0m\n\u001b[0;32m---> 33\u001b[0;31m     \u001b[0;32mfrom\u001b[0m \u001b[0mmpl_toolkits\u001b[0m\u001b[0;34m.\u001b[0m\u001b[0mbasemap\u001b[0m \u001b[0;32mimport\u001b[0m \u001b[0mBasemap\u001b[0m\u001b[0;34m\u001b[0m\u001b[0;34m\u001b[0m\u001b[0m\n\u001b[0m\u001b[1;32m     34\u001b[0m     \u001b[0mHAS_BASEMAP\u001b[0m \u001b[0;34m=\u001b[0m \u001b[0;32mTrue\u001b[0m\u001b[0;34m\u001b[0m\u001b[0;34m\u001b[0m\u001b[0m\n\u001b[1;32m     35\u001b[0m     \u001b[0;32mif\u001b[0m \u001b[0mBASEMAP_VERSION\u001b[0m \u001b[0;34m<\u001b[0m \u001b[0;34m[\u001b[0m\u001b[0;36m1\u001b[0m\u001b[0;34m,\u001b[0m \u001b[0;36m0\u001b[0m\u001b[0;34m,\u001b[0m \u001b[0;36m4\u001b[0m\u001b[0;34m]\u001b[0m\u001b[0;34m:\u001b[0m\u001b[0;34m\u001b[0m\u001b[0;34m\u001b[0m\u001b[0m\n",
      "\u001b[0;32m~/anaconda3/lib/python3.7/site-packages/mpl_toolkits/basemap/__init__.py\u001b[0m in \u001b[0;36m<module>\u001b[0;34m\u001b[0m\n\u001b[1;32m    163\u001b[0m \u001b[0;31m# create dictionary that maps epsg codes to Basemap kwargs.\u001b[0m\u001b[0;34m\u001b[0m\u001b[0;34m\u001b[0m\u001b[0;34m\u001b[0m\u001b[0m\n\u001b[1;32m    164\u001b[0m \u001b[0mpyproj_datadir\u001b[0m \u001b[0;34m=\u001b[0m \u001b[0mos\u001b[0m\u001b[0;34m.\u001b[0m\u001b[0menviron\u001b[0m\u001b[0;34m[\u001b[0m\u001b[0;34m'PROJ_LIB'\u001b[0m\u001b[0;34m]\u001b[0m\u001b[0;34m\u001b[0m\u001b[0;34m\u001b[0m\u001b[0m\n\u001b[0;32m--> 165\u001b[0;31m \u001b[0mepsgf\u001b[0m \u001b[0;34m=\u001b[0m \u001b[0mopen\u001b[0m\u001b[0;34m(\u001b[0m\u001b[0mos\u001b[0m\u001b[0;34m.\u001b[0m\u001b[0mpath\u001b[0m\u001b[0;34m.\u001b[0m\u001b[0mjoin\u001b[0m\u001b[0;34m(\u001b[0m\u001b[0mpyproj_datadir\u001b[0m\u001b[0;34m,\u001b[0m\u001b[0;34m'epsg'\u001b[0m\u001b[0;34m)\u001b[0m\u001b[0;34m)\u001b[0m\u001b[0;34m\u001b[0m\u001b[0;34m\u001b[0m\u001b[0m\n\u001b[0m\u001b[1;32m    166\u001b[0m \u001b[0mepsg_dict\u001b[0m\u001b[0;34m=\u001b[0m\u001b[0;34m{\u001b[0m\u001b[0;34m}\u001b[0m\u001b[0;34m\u001b[0m\u001b[0;34m\u001b[0m\u001b[0m\n\u001b[1;32m    167\u001b[0m \u001b[0;32mfor\u001b[0m \u001b[0mline\u001b[0m \u001b[0;32min\u001b[0m \u001b[0mepsgf\u001b[0m\u001b[0;34m:\u001b[0m\u001b[0;34m\u001b[0m\u001b[0;34m\u001b[0m\u001b[0m\n",
      "\u001b[0;31mFileNotFoundError\u001b[0m: [Errno 2] No such file or directory: '/home/YOUR_USER/anaconda3/share/proj/epsg'"
     ]
    }
   ],
   "source": [
    "## get all stations around ROMY\n",
    "\n",
    "array_stations = __getArrayStations(\"*.*..B*Z\", tbeg, tend, fur_coords)\n",
    "\n",
    "array_stations"
   ]
  },
  {
   "cell_type": "markdown",
   "metadata": {},
   "source": [
    "### Calulcate Distances, Plot Array Geometry and Response"
   ]
  },
  {
   "cell_type": "code",
   "execution_count": 11,
   "metadata": {
    "code_folding": []
   },
   "outputs": [
    {
     "ename": "NameError",
     "evalue": "name 'array_stations' is not defined",
     "output_type": "error",
     "traceback": [
      "\u001b[0;31m---------------------------------------------------------------------------\u001b[0m",
      "\u001b[0;31mNameError\u001b[0m                                 Traceback (most recent call last)",
      "\u001b[0;32m<ipython-input-11-4f191f7ecb26>\u001b[0m in \u001b[0;36m<module>\u001b[0;34m\u001b[0m\n\u001b[0;32m----> 1\u001b[0;31m \u001b[0mdist\u001b[0m\u001b[0;34m,\u001b[0m \u001b[0mdist_max\u001b[0m \u001b[0;34m=\u001b[0m \u001b[0m__calculateDistanceOfStations\u001b[0m\u001b[0;34m(\u001b[0m\u001b[0marray_stations\u001b[0m\u001b[0;34m)\u001b[0m\u001b[0;34m\u001b[0m\u001b[0;34m\u001b[0m\u001b[0m\n\u001b[0m\u001b[1;32m      2\u001b[0m \u001b[0;34m\u001b[0m\u001b[0m\n\u001b[1;32m      3\u001b[0m \u001b[0;34m\u001b[0m\u001b[0m\n\u001b[1;32m      4\u001b[0m \u001b[0mlambda_min\u001b[0m \u001b[0;34m=\u001b[0m \u001b[0;36m.5\u001b[0m\u001b[0;34m*\u001b[0m\u001b[0mdist_max\u001b[0m \u001b[0;31m# in km\u001b[0m\u001b[0;34m\u001b[0m\u001b[0;34m\u001b[0m\u001b[0m\n\u001b[1;32m      5\u001b[0m \u001b[0;34m\u001b[0m\u001b[0m\n",
      "\u001b[0;31mNameError\u001b[0m: name 'array_stations' is not defined"
     ]
    }
   ],
   "source": [
    "\n",
    "dist, dist_max = __calculateDistanceOfStations(array_stations)\n",
    "\n",
    "\n",
    "lambda_min = .5*dist_max # in km\n",
    "\n",
    "k_max = 2*np.pi/lambda_min\n",
    "k_step = k_max / 100.\n",
    "\n",
    "coordinates = np.column_stack([array_stations.lon, array_stations.lat, array_stations.elev])\n",
    "\n",
    "## compute transfer function as a function of wavenumber difference\n",
    "transff = array_transff_wavenumber(coordinates, \n",
    "                                   k_max, \n",
    "                                   k_step, \n",
    "                                   coordsys='lonlat'\n",
    "                                  )\n",
    "\n",
    "    \n",
    "__plotArrayGeometryAndResponse(coordinates, transff, k_max, k_step, unit=\"deg\")"
   ]
  },
  {
   "cell_type": "markdown",
   "metadata": {},
   "source": [
    "### Obtain Waveforms"
   ]
  },
  {
   "cell_type": "code",
   "execution_count": 171,
   "metadata": {},
   "outputs": [
    {
     "name": "stdout",
     "output_type": "stream",
     "text": [
      "requesting BW.FFB1..BH* ...\n",
      "\n",
      "Get data:  BW.FFB1..BH* (3.0) ...\n",
      "\n",
      "Using Eida-Routing...\n",
      "\n",
      "Requesting from 1 network(s) and 1 station(s)\n",
      "\n",
      "pre-filter is applied: (0.01, 0.05, 20, 40)\n",
      "\n",
      "removing response ...\n",
      "\n",
      "output VEL\n",
      "\n",
      "Finished\n",
      "_______________\n",
      "\n",
      "requesting BW.FFB2..BH* ...\n",
      "\n",
      "Get data:  BW.FFB2..BH* (3.0) ...\n",
      "\n",
      "Using Eida-Routing...\n",
      "\n",
      "Requesting from 1 network(s) and 1 station(s)\n",
      "--> failed for BW.FFB2!\n",
      "requesting BW.FFB3..BH* ...\n",
      "\n",
      "Get data:  BW.FFB3..BH* (3.0) ...\n",
      "\n",
      "Using Eida-Routing...\n",
      "\n",
      "Requesting from 1 network(s) and 1 station(s)\n",
      "\n",
      "pre-filter is applied: (0.01, 0.05, 20, 40)\n",
      "\n",
      "removing response ...\n",
      "\n",
      "output VEL\n",
      "\n",
      "Finished\n",
      "_______________\n",
      "\n",
      "requesting BW.TON..BH* ...\n",
      "\n",
      "Get data:  BW.TON..BH* (3.0) ...\n",
      "\n",
      "Using Eida-Routing...\n",
      "\n",
      "Requesting from 1 network(s) and 1 station(s)\n",
      "\n",
      "pre-filter is applied: (0.01, 0.05, 20, 40)\n",
      "\n",
      "removing response ...\n",
      "\n",
      "output VEL\n",
      "\n",
      "Finished\n",
      "_______________\n",
      "\n",
      "requesting BW.GELB..BH* ...\n",
      "\n",
      "Get data:  BW.GELB..BH* (3.0) ...\n",
      "\n",
      "Using Eida-Routing...\n",
      "\n",
      "Requesting from 0 network(s) and 0 station(s)\n",
      "\n",
      "Using Iris-Federator...\n",
      "--> failed for BW.GELB!\n",
      "requesting BW.GRMB..BH* ...\n",
      "\n",
      "Get data:  BW.GRMB..BH* (3.0) ...\n",
      "\n",
      "Using Eida-Routing...\n",
      "\n",
      "Requesting from 0 network(s) and 0 station(s)\n",
      "\n",
      "Using Iris-Federator...\n",
      "--> failed for BW.GRMB!\n",
      "requesting BW.ROMY..BH* ...\n",
      "\n",
      "Get data:  BW.ROMY..BH* (3.0) ...\n",
      "\n",
      "Using Eida-Routing...\n",
      "\n",
      "Requesting from 0 network(s) and 0 station(s)\n",
      "\n",
      "Using Iris-Federator...\n",
      "--> failed for BW.ROMY!\n",
      "requesting BW.BIB..BH* ...\n",
      "\n",
      "Get data:  BW.BIB..BH* (3.0) ...\n",
      "\n",
      "Using Eida-Routing...\n",
      "\n",
      "Requesting from 1 network(s) and 1 station(s)\n",
      "\n",
      "pre-filter is applied: (0.01, 0.05, 20, 40)\n",
      "\n",
      "removing response ...\n",
      "\n",
      "output VEL\n",
      "\n",
      "Finished\n",
      "_______________\n",
      "\n",
      "requesting BW.ALFT..BH* ...\n",
      "\n",
      "Get data:  BW.ALFT..BH* (3.0) ...\n",
      "\n",
      "Using Eida-Routing...\n",
      "\n",
      "Requesting from 1 network(s) and 1 station(s)\n",
      "\n",
      "pre-filter is applied: (0.01, 0.05, 20, 40)\n",
      "\n",
      "removing response ...\n",
      "\n",
      "output VEL\n",
      "\n",
      "Finished\n",
      "_______________\n",
      "\n",
      "requesting BW.DROMY..BH* ...\n",
      "\n",
      "Get data:  BW.DROMY..BH* (3.0) ...\n",
      "\n",
      "Using Eida-Routing...\n",
      "\n",
      "Requesting from 0 network(s) and 0 station(s)\n",
      "\n",
      "Using Iris-Federator...\n",
      "--> failed for BW.DROMY!\n",
      "requesting GR.FUR..BH* ...\n",
      "\n",
      "Get data:  GR.FUR..BH* (3.0) ...\n",
      "\n",
      "Using Eida-Routing...\n",
      "\n",
      "Requesting from 1 network(s) and 1 station(s)\n",
      "\n",
      "pre-filter is applied: (0.01, 0.05, 20, 40)\n",
      "\n",
      "removing response ...\n",
      "\n",
      "output VEL\n",
      "\n",
      "Finished\n",
      "_______________\n",
      "\n",
      "\n",
      "15 doubles have been removed!\n",
      "['ALFT', 'BIB', 'FFB1', 'FFB3', 'TON', 'FUR']\n"
     ]
    },
    {
     "data": {
      "image/png": "[encoded data removed]",
      "text/plain": [
       "<Figure size 936x432 with 1 Axes>"
      ]
     },
     "metadata": {
      "needs_background": "light"
     },
     "output_type": "display_data"
    }
   ],
   "source": [
    "tstart = obspy.UTCDateTime('2020-11-30 23:25:00')\n",
    "tdelta = 3 # in minutes\n",
    "\n",
    "\n",
    "stream = __getStream(array_stations, tstart, tstart+tdelta*60)\n",
    "\n",
    "## plot traces for checkup\n",
    "__plotArraySection(stream, scal=1, comp='Z');"
   ]
  },
  {
   "cell_type": "markdown",
   "metadata": {},
   "source": [
    "### Process Waveforms"
   ]
  },
  {
   "cell_type": "code",
   "execution_count": 177,
   "metadata": {},
   "outputs": [
    {
     "data": {
      "image/png": "[encoded data removed]",
      "text/plain": [
       "<Figure size 936x432 with 1 Axes>"
      ]
     },
     "metadata": {
      "needs_background": "light"
     },
     "output_type": "display_data"
    }
   ],
   "source": [
    "resampling_rate = 40.\n",
    "freq_max = 5\n",
    "freq_min = 0.5\n",
    "\n",
    "t1 = tstart + 50\n",
    "t2 = tstart + 150\n",
    "\n",
    "## ____________________________________\n",
    "## detrend, bandpass filtering, resampling, trimming\n",
    "\n",
    "st = stream.copy()\n",
    "\n",
    "st.detrend('demean')\n",
    "st.detrend()\n",
    "\n",
    "st.filter('bandpass', \n",
    "          freqmin=freq_min, \n",
    "          freqmax=freq_max, \n",
    "          corners=4, \n",
    "          zerophase=True\n",
    "         )\n",
    "\n",
    "st.trim(starttime = t1, \n",
    "        endtime = t2, \n",
    "#         pad = True, \n",
    "#         fill_value = 0\n",
    "       )\n",
    "\n",
    "st.resample(resampling_rate)\n",
    "\n",
    "## plot traces for checkup\n",
    "__plotArraySection(st, scal=1, comp='Z');"
   ]
  },
  {
   "cell_type": "markdown",
   "metadata": {},
   "source": [
    "### Beamforming / F-K Analysis"
   ]
  },
  {
   "cell_type": "code",
   "execution_count": 180,
   "metadata": {
    "code_folding": [
     6
    ]
   },
   "outputs": [
    {
     "ename": "AttributeError",
     "evalue": "coordinates",
     "output_type": "error",
     "traceback": [
      "\u001b[0;31m---------------------------------------------------------------------------\u001b[0m",
      "\u001b[0;31mKeyError\u001b[0m                                  Traceback (most recent call last)",
      "\u001b[0;32m~/anaconda3/envs/obs/lib/python3.7/site-packages/obspy/core/util/attribdict.py\u001b[0m in \u001b[0;36m__getattr__\u001b[0;34m(self, name, default)\u001b[0m\n\u001b[1;32m    127\u001b[0m         \u001b[0;32mtry\u001b[0m\u001b[0;34m:\u001b[0m\u001b[0;34m\u001b[0m\u001b[0;34m\u001b[0m\u001b[0m\n\u001b[0;32m--> 128\u001b[0;31m             \u001b[0;32mreturn\u001b[0m \u001b[0mself\u001b[0m\u001b[0;34m.\u001b[0m\u001b[0m__getitem__\u001b[0m\u001b[0;34m(\u001b[0m\u001b[0mname\u001b[0m\u001b[0;34m,\u001b[0m \u001b[0mdefault\u001b[0m\u001b[0;34m)\u001b[0m\u001b[0;34m\u001b[0m\u001b[0;34m\u001b[0m\u001b[0m\n\u001b[0m\u001b[1;32m    129\u001b[0m         \u001b[0;32mexcept\u001b[0m \u001b[0mKeyError\u001b[0m \u001b[0;32mas\u001b[0m \u001b[0me\u001b[0m\u001b[0;34m:\u001b[0m\u001b[0;34m\u001b[0m\u001b[0;34m\u001b[0m\u001b[0m\n",
      "\u001b[0;32m~/anaconda3/envs/obs/lib/python3.7/site-packages/obspy/core/trace.py\u001b[0m in \u001b[0;36m__getitem__\u001b[0;34m(self, key, default)\u001b[0m\n\u001b[1;32m    234\u001b[0m         \u001b[0;32melse\u001b[0m\u001b[0;34m:\u001b[0m\u001b[0;34m\u001b[0m\u001b[0;34m\u001b[0m\u001b[0m\n\u001b[0;32m--> 235\u001b[0;31m             \u001b[0;32mreturn\u001b[0m \u001b[0msuper\u001b[0m\u001b[0;34m(\u001b[0m\u001b[0mStats\u001b[0m\u001b[0;34m,\u001b[0m \u001b[0mself\u001b[0m\u001b[0;34m)\u001b[0m\u001b[0;34m.\u001b[0m\u001b[0m__getitem__\u001b[0m\u001b[0;34m(\u001b[0m\u001b[0mkey\u001b[0m\u001b[0;34m,\u001b[0m \u001b[0mdefault\u001b[0m\u001b[0;34m)\u001b[0m\u001b[0;34m\u001b[0m\u001b[0;34m\u001b[0m\u001b[0m\n\u001b[0m\u001b[1;32m    236\u001b[0m \u001b[0;34m\u001b[0m\u001b[0m\n",
      "\u001b[0;32m~/anaconda3/envs/obs/lib/python3.7/site-packages/obspy/core/util/attribdict.py\u001b[0m in \u001b[0;36m__getitem__\u001b[0;34m(self, name, default)\u001b[0m\n\u001b[1;32m     73\u001b[0m         \u001b[0;32mtry\u001b[0m\u001b[0;34m:\u001b[0m\u001b[0;34m\u001b[0m\u001b[0;34m\u001b[0m\u001b[0m\n\u001b[0;32m---> 74\u001b[0;31m             \u001b[0;32mreturn\u001b[0m \u001b[0mself\u001b[0m\u001b[0;34m.\u001b[0m\u001b[0m__dict__\u001b[0m\u001b[0;34m[\u001b[0m\u001b[0mname\u001b[0m\u001b[0;34m]\u001b[0m\u001b[0;34m\u001b[0m\u001b[0;34m\u001b[0m\u001b[0m\n\u001b[0m\u001b[1;32m     75\u001b[0m         \u001b[0;32mexcept\u001b[0m \u001b[0mKeyError\u001b[0m\u001b[0;34m:\u001b[0m\u001b[0;34m\u001b[0m\u001b[0;34m\u001b[0m\u001b[0m\n",
      "\u001b[0;31mKeyError\u001b[0m: 'coordinates'",
      "\nDuring handling of the above exception, another exception occurred:\n",
      "\u001b[0;31mAttributeError\u001b[0m                            Traceback (most recent call last)",
      "\u001b[0;32m<ipython-input-180-8f60a5ca7f1b>\u001b[0m in \u001b[0;36m<module>\u001b[0;34m\u001b[0m\n\u001b[1;32m     73\u001b[0m                        \u001b[0mcoordsys\u001b[0m\u001b[0;34m=\u001b[0m\u001b[0;34m'lonlat'\u001b[0m\u001b[0;34m,\u001b[0m\u001b[0;34m\u001b[0m\u001b[0;34m\u001b[0m\u001b[0m\n\u001b[1;32m     74\u001b[0m                        \u001b[0mtimestamp\u001b[0m\u001b[0;34m=\u001b[0m\u001b[0;34m'mlabday'\u001b[0m\u001b[0;34m,\u001b[0m\u001b[0;34m\u001b[0m\u001b[0;34m\u001b[0m\u001b[0m\n\u001b[0;32m---> 75\u001b[0;31m                        \u001b[0mmethod\u001b[0m \u001b[0;34m=\u001b[0m \u001b[0;36m0\u001b[0m\u001b[0;34m,\u001b[0m\u001b[0;34m\u001b[0m\u001b[0;34m\u001b[0m\u001b[0m\n\u001b[0m\u001b[1;32m     76\u001b[0m                       )\n\u001b[1;32m     77\u001b[0m \u001b[0;34m\u001b[0m\u001b[0m\n",
      "\u001b[0;32m~/anaconda3/envs/obs/lib/python3.7/site-packages/obspy/signal/array_analysis.py\u001b[0m in \u001b[0;36marray_processing\u001b[0;34m(stream, win_len, win_frac, sll_x, slm_x, sll_y, slm_y, sl_s, semb_thres, vel_thres, frqlow, frqhigh, stime, etime, prewhiten, verbose, coordsys, timestamp, method, store)\u001b[0m\n\u001b[1;32m    920\u001b[0m     \u001b[0mgrdpts_y\u001b[0m \u001b[0;34m=\u001b[0m \u001b[0mint\u001b[0m\u001b[0;34m(\u001b[0m\u001b[0;34m(\u001b[0m\u001b[0;34m(\u001b[0m\u001b[0mslm_y\u001b[0m \u001b[0;34m-\u001b[0m \u001b[0msll_y\u001b[0m\u001b[0;34m)\u001b[0m \u001b[0;34m/\u001b[0m \u001b[0msl_s\u001b[0m \u001b[0;34m+\u001b[0m \u001b[0;36m0.5\u001b[0m\u001b[0;34m)\u001b[0m \u001b[0;34m+\u001b[0m \u001b[0;36m1\u001b[0m\u001b[0;34m)\u001b[0m\u001b[0;34m\u001b[0m\u001b[0;34m\u001b[0m\u001b[0m\n\u001b[1;32m    921\u001b[0m \u001b[0;34m\u001b[0m\u001b[0m\n\u001b[0;32m--> 922\u001b[0;31m     \u001b[0mgeometry\u001b[0m \u001b[0;34m=\u001b[0m \u001b[0mget_geometry\u001b[0m\u001b[0;34m(\u001b[0m\u001b[0mstream\u001b[0m\u001b[0;34m,\u001b[0m \u001b[0mcoordsys\u001b[0m\u001b[0;34m=\u001b[0m\u001b[0mcoordsys\u001b[0m\u001b[0;34m,\u001b[0m \u001b[0mverbose\u001b[0m\u001b[0;34m=\u001b[0m\u001b[0mverbose\u001b[0m\u001b[0;34m)\u001b[0m\u001b[0;34m\u001b[0m\u001b[0;34m\u001b[0m\u001b[0m\n\u001b[0m\u001b[1;32m    923\u001b[0m \u001b[0;34m\u001b[0m\u001b[0m\n\u001b[1;32m    924\u001b[0m     \u001b[0;32mif\u001b[0m \u001b[0mverbose\u001b[0m\u001b[0;34m:\u001b[0m\u001b[0;34m\u001b[0m\u001b[0;34m\u001b[0m\u001b[0m\n",
      "\u001b[0;32m~/anaconda3/envs/obs/lib/python3.7/site-packages/obspy/signal/array_analysis.py\u001b[0m in \u001b[0;36mget_geometry\u001b[0;34m(stream, coordsys, return_center, verbose)\u001b[0m\n\u001b[1;32m    634\u001b[0m         \u001b[0;32mfor\u001b[0m \u001b[0mi\u001b[0m\u001b[0;34m,\u001b[0m \u001b[0mtr\u001b[0m \u001b[0;32min\u001b[0m \u001b[0menumerate\u001b[0m\u001b[0;34m(\u001b[0m\u001b[0mstream\u001b[0m\u001b[0;34m)\u001b[0m\u001b[0;34m:\u001b[0m\u001b[0;34m\u001b[0m\u001b[0;34m\u001b[0m\u001b[0m\n\u001b[1;32m    635\u001b[0m             \u001b[0;32mif\u001b[0m \u001b[0mcoordsys\u001b[0m \u001b[0;34m==\u001b[0m \u001b[0;34m'lonlat'\u001b[0m\u001b[0;34m:\u001b[0m\u001b[0;34m\u001b[0m\u001b[0;34m\u001b[0m\u001b[0m\n\u001b[0;32m--> 636\u001b[0;31m                 \u001b[0mgeometry\u001b[0m\u001b[0;34m[\u001b[0m\u001b[0mi\u001b[0m\u001b[0;34m,\u001b[0m \u001b[0;36m0\u001b[0m\u001b[0;34m]\u001b[0m \u001b[0;34m=\u001b[0m \u001b[0mtr\u001b[0m\u001b[0;34m.\u001b[0m\u001b[0mstats\u001b[0m\u001b[0;34m.\u001b[0m\u001b[0mcoordinates\u001b[0m\u001b[0;34m.\u001b[0m\u001b[0mlongitude\u001b[0m\u001b[0;34m\u001b[0m\u001b[0;34m\u001b[0m\u001b[0m\n\u001b[0m\u001b[1;32m    637\u001b[0m                 \u001b[0mgeometry\u001b[0m\u001b[0;34m[\u001b[0m\u001b[0mi\u001b[0m\u001b[0;34m,\u001b[0m \u001b[0;36m1\u001b[0m\u001b[0;34m]\u001b[0m \u001b[0;34m=\u001b[0m \u001b[0mtr\u001b[0m\u001b[0;34m.\u001b[0m\u001b[0mstats\u001b[0m\u001b[0;34m.\u001b[0m\u001b[0mcoordinates\u001b[0m\u001b[0;34m.\u001b[0m\u001b[0mlatitude\u001b[0m\u001b[0;34m\u001b[0m\u001b[0;34m\u001b[0m\u001b[0m\n\u001b[1;32m    638\u001b[0m                 \u001b[0mgeometry\u001b[0m\u001b[0;34m[\u001b[0m\u001b[0mi\u001b[0m\u001b[0;34m,\u001b[0m \u001b[0;36m2\u001b[0m\u001b[0;34m]\u001b[0m \u001b[0;34m=\u001b[0m \u001b[0mtr\u001b[0m\u001b[0;34m.\u001b[0m\u001b[0mstats\u001b[0m\u001b[0;34m.\u001b[0m\u001b[0mcoordinates\u001b[0m\u001b[0;34m.\u001b[0m\u001b[0melevation\u001b[0m\u001b[0;34m\u001b[0m\u001b[0;34m\u001b[0m\u001b[0m\n",
      "\u001b[0;32m~/anaconda3/envs/obs/lib/python3.7/site-packages/obspy/core/util/attribdict.py\u001b[0m in \u001b[0;36m__getattr__\u001b[0;34m(self, name, default)\u001b[0m\n\u001b[1;32m    128\u001b[0m             \u001b[0;32mreturn\u001b[0m \u001b[0mself\u001b[0m\u001b[0;34m.\u001b[0m\u001b[0m__getitem__\u001b[0m\u001b[0;34m(\u001b[0m\u001b[0mname\u001b[0m\u001b[0;34m,\u001b[0m \u001b[0mdefault\u001b[0m\u001b[0;34m)\u001b[0m\u001b[0;34m\u001b[0m\u001b[0;34m\u001b[0m\u001b[0m\n\u001b[1;32m    129\u001b[0m         \u001b[0;32mexcept\u001b[0m \u001b[0mKeyError\u001b[0m \u001b[0;32mas\u001b[0m \u001b[0me\u001b[0m\u001b[0;34m:\u001b[0m\u001b[0;34m\u001b[0m\u001b[0;34m\u001b[0m\u001b[0m\n\u001b[0;32m--> 130\u001b[0;31m             \u001b[0;32mraise\u001b[0m \u001b[0mAttributeError\u001b[0m\u001b[0;34m(\u001b[0m\u001b[0me\u001b[0m\u001b[0;34m.\u001b[0m\u001b[0margs\u001b[0m\u001b[0;34m[\u001b[0m\u001b[0;36m0\u001b[0m\u001b[0;34m]\u001b[0m\u001b[0;34m)\u001b[0m\u001b[0;34m\u001b[0m\u001b[0;34m\u001b[0m\u001b[0m\n\u001b[0m\u001b[1;32m    131\u001b[0m \u001b[0;34m\u001b[0m\u001b[0m\n\u001b[1;32m    132\u001b[0m     \u001b[0m__setattr__\u001b[0m \u001b[0;34m=\u001b[0m \u001b[0m__setitem__\u001b[0m\u001b[0;34m\u001b[0m\u001b[0;34m\u001b[0m\u001b[0m\n",
      "\u001b[0;31mAttributeError\u001b[0m: coordinates"
     ]
    }
   ],
   "source": [
    "from obspy.signal.array_analysis import array_processing\n",
    "from matplotlib.colorbar import ColorbarBase\n",
    "from obspy.imaging.cm import obspy_sequential\n",
    "from matplotlib.colors import Normalize\n",
    "\n",
    "\n",
    "def __plotSlownessAndBackazimuth(out):\n",
    "    cmap = obspy_sequential\n",
    "\n",
    "    # make output human readable, adjust backazimuth to values between 0 and 360\n",
    "    t, rel_power, abs_power, baz, slow = out.T\n",
    "    baz[baz < 0.0] += 360\n",
    "\n",
    "    # choose number of fractions in plot (desirably 360 degree/N is an integer!)\n",
    "    N = 36\n",
    "    N2 = 30\n",
    "    abins = np.arange(N + 1) * 360. / N\n",
    "    sbins = np.linspace(0, 3, N2 + 1)\n",
    "\n",
    "    # sum rel power in bins given by abins and sbins\n",
    "    hist, baz_edges, sl_edges =  np.histogram2d(baz, slow, bins=[abins, sbins], weights=rel_power)\n",
    "\n",
    "    # transform to radian\n",
    "    baz_edges = np.radians(baz_edges)\n",
    "\n",
    "    # add polar and colorbar axes\n",
    "    fig = plt.figure(figsize=(8, 8))\n",
    "    cax = fig.add_axes([0.85, 0.2, 0.05, 0.5])\n",
    "    ax = fig.add_axes([0.10, 0.1, 0.70, 0.7], polar=True)\n",
    "    ax.set_theta_direction(-1)\n",
    "    ax.set_theta_zero_location(\"N\")\n",
    "\n",
    "    dh = abs(sl_edges[1] - sl_edges[0])\n",
    "    dw = abs(baz_edges[1] - baz_edges[0])\n",
    "\n",
    "    # circle through backazimuth\n",
    "    for i, row in enumerate(hist):\n",
    "        bars = ax.bar((i * dw) * np.ones(N2),\n",
    "                      height = dh * np.ones(N2),\n",
    "                      width = dw, bottom=dh * np.arange(N2),\n",
    "                      color = cmap(row / hist.max())\n",
    "                     )\n",
    "\n",
    "    ax.set_xticks(np.linspace(0, 2 * np.pi, 4, endpoint=False))\n",
    "    ax.set_xticklabels(['N', 'E', 'S', 'W'])\n",
    "\n",
    "    # set slowness limits\n",
    "    ax.set_ylim(0, 3)\n",
    "    [i.set_color('grey') for i in ax.get_yticklabels()]\n",
    "    ColorbarBase(cax, \n",
    "                 cmap=cmap,\n",
    "                 norm=Normalize(vmin=hist.min(), vmax=hist.max())\n",
    "                )\n",
    "\n",
    "    plt.show()\n",
    "\n",
    "## perfom a f-k analysis \n",
    "out = array_processing(st, \n",
    "                       win_len = 3., \n",
    "                       win_frac = 0.25, \n",
    "                       sll_x = -3.0, \n",
    "                       slm_x = 3.0, \n",
    "                       sll_y = -3.0, \n",
    "                       slm_y = 3.0, \n",
    "                       sl_s = 0.03, \n",
    "                       semb_thres = -1e9,\n",
    "                       vel_thres = -1e9, \n",
    "                       frqlow = 0.5, \n",
    "                       frqhigh = 5., \n",
    "                       stime = t1+1, \n",
    "                       etime = t2-1, \n",
    "                       prewhiten = 0,  \n",
    "                       coordsys='lonlat', \n",
    "                       timestamp='mlabday', \n",
    "                       method = 0, \n",
    "                      )\n",
    "\n",
    "## get quantities from output\n",
    "t, rel_power, abs_power, baz, slow = out.T\n",
    "\n",
    "\n",
    "## get slowness and back azimuth\n",
    "baz_max = baz[np.argmax(abs_power)]\n",
    "slow_max = slow[np.argmax(abs_power)]\n",
    "\n",
    "print(f'slowness: {round(slow_max, 2)} s/km')\n",
    "print(f'back azimuth: {round(baz_max, 2)} degrees')\n",
    "\n",
    "\n",
    "## Plot result of F-K Analysis\n",
    "__plotSlownessAndBackazimuth(out)   "
   ]
  },
  {
   "cell_type": "code",
   "execution_count": 185,
   "metadata": {},
   "outputs": [
    {
     "data": {
      "text/plain": [
       "AttribDict({'latitude': 48.1522, 'elevation': 599.0, 'longitude': 11.2473})"
      ]
     },
     "execution_count": 185,
     "metadata": {},
     "output_type": "execute_result"
    }
   ],
   "source": [
    "stream[3].stats.coordinates"
   ]
  },
  {
   "cell_type": "code",
   "execution_count": 86,
   "metadata": {},
   "outputs": [
    {
     "ename": "NameError",
     "evalue": "name '__TimeShift' is not defined",
     "output_type": "error",
     "traceback": [
      "\u001b[0;31m---------------------------------------------------------------------------\u001b[0m",
      "\u001b[0;31mNameError\u001b[0m                                 Traceback (most recent call last)",
      "\u001b[0;32m<ipython-input-86-7c8e2d7356ea>\u001b[0m in \u001b[0;36m<module>\u001b[0;34m\u001b[0m\n\u001b[0;32m----> 1\u001b[0;31m \u001b[0m__TimeShift\u001b[0m\u001b[0;34m(\u001b[0m\u001b[0mst\u001b[0m\u001b[0;34m,\u001b[0m \u001b[0mtimematrix\u001b[0m\u001b[0;34m)\u001b[0m\u001b[0;34m\u001b[0m\u001b[0;34m\u001b[0m\u001b[0m\n\u001b[0m",
      "\u001b[0;31mNameError\u001b[0m: name '__TimeShift' is not defined"
     ]
    }
   ],
   "source": [
    "__TimeShift(st, timematrix)"
   ]
  },
  {
   "cell_type": "code",
   "execution_count": null,
   "metadata": {},
   "outputs": [],
   "source": []
  }
 ],
 "metadata": {
  "kernelspec": {
   "display_name": "Python 3 (ipykernel)",
   "language": "python",
   "name": "python3"
  },
  "language_info": {
   "codemirror_mode": {
    "name": "ipython",
    "version": 3
   },
   "file_extension": ".py",
   "mimetype": "text/x-python",
   "name": "python",
   "nbconvert_exporter": "python",
   "pygments_lexer": "ipython3",
   "version": "3.10.12"
  }
 },
 "nbformat": 4,
 "nbformat_minor": 4
}
