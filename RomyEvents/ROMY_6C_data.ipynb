{
 "cells": [
  {
   "cell_type": "markdown",
   "id": "26ad060e",
   "metadata": {
    "ExecuteTime": {
     "end_time": "2022-09-13T00:35:24.926376Z",
     "start_time": "2022-09-13T00:35:24.923877Z"
    }
   },
   "source": [
    "# Get 6C Data for Event"
   ]
  },
  {
   "cell_type": "markdown",
   "id": "fa47ca0c",
   "metadata": {},
   "source": []
  },
  {
   "cell_type": "code",
   "execution_count": 1,
   "id": "7ae027cf",
   "metadata": {
    "ExecuteTime": {
     "end_time": "2023-04-05T16:30:44.374156Z",
     "start_time": "2023-04-05T16:30:42.823021Z"
    },
    "tags": []
   },
   "outputs": [],
   "source": [
    "import os\n",
    "import obspy as obs\n",
    "import matplotlib.pyplot as plt\n",
    "\n",
    "from obspy.clients.fdsn import Client\n",
    "\n",
    "from andbro__read_sds import __read_sds"
   ]
  },
  {
   "cell_type": "code",
   "execution_count": 2,
   "id": "8cfc93b5-07b8-4d53-806a-99176e9700ad",
   "metadata": {
    "tags": []
   },
   "outputs": [],
   "source": [
    "if os.uname().nodename == 'lighthouse':\n",
    "    root_path = '/home/andbro/'\n",
    "    data_path = '/home/andbro/kilauea-data/'\n",
    "    archive_path = '/home/andbro/freenas/'\n",
    "elif os.uname().nodename == 'kilauea':\n",
    "    root_path = '/home/brotzer/'\n",
    "    data_path = '/import/kilauea-data/'\n",
    "    archive_path = '/import/freenas-ffb-01-data/'"
   ]
  },
  {
   "cell_type": "markdown",
   "id": "a9cfd05f",
   "metadata": {},
   "source": [
    "## Configurations"
   ]
  },
  {
   "cell_type": "code",
   "execution_count": 3,
   "id": "42cd60e7",
   "metadata": {
    "ExecuteTime": {
     "end_time": "2023-04-05T16:32:26.446824Z",
     "start_time": "2023-04-05T16:32:26.444464Z"
    },
    "tags": []
   },
   "outputs": [],
   "source": [
    "config = {}\n",
    "\n",
    "## output path for figures\n",
    "config['path_to_figs'] = data_path+\"romy_events/figures/\"\n",
    "\n",
    "config['path_to_outdata'] = data_path+\"romy_events/data/\"\n",
    "\n",
    "config['path_to_sds'] = archive_path+\"romy_archive/\"\n",
    "\n",
    "config['path_to_inventory'] = root_path+\"Documents/ROMY/stationxml_ringlaser/\"\n",
    "\n",
    "## BSPF coordinates\n",
    "config['ROMY_lon'] = 11.275501\n",
    "config['ROMY_lat'] = 48.162941\n",
    "\n",
    "config['submask'] = \"\"\n",
    "\n",
    "\n",
    "## Eventtime\n",
    "config['eventtime'] = obs.UTCDateTime(\"2023-10-25 13:40:00\")\n",
    "\n",
    "# config['event_name'] = \"Italy\"\n",
    "# config['tbeg'] = obs.UTCDateTime(\"2023-10-25 13:45:00\")\n",
    "# config['tend'] = obs.UTCDateTime(\"2023-10-25 13:50:00\")\n",
    "\n",
    "# config['event_name'] = \"Morocco\"\n",
    "# config['tbeg'] = obs.UTCDateTime(\"2023-09-08 22:00\")\n",
    "# config['tend'] = obs.UTCDateTime(\"2023-09-08 23:00\")\n",
    "\n",
    "# config['event_name'] = \"Morocco2\"\n",
    "# config['tbeg'] = obs.UTCDateTime(\"2023-09-08 22:30\")\n",
    "# config['tend'] = obs.UTCDateTime(\"2023-09-08 23:30\")\n",
    "\n",
    "# config['event_name'] = \"Mindanao\" ## M7-6\n",
    "# config['tbeg'] = obs.UTCDateTime(\"2023-12-02 14:37\")\n",
    "# config['tend'] = obs.UTCDateTime(\"2023-12-02 17:00\")\n",
    "\n",
    "config['event_name'] = \"Mindanao2\" ## M6.6\n",
    "config['tbeg'] = obs.UTCDateTime(\"2023-12-03 10:35\")\n",
    "config['tend'] = obs.UTCDateTime(\"2023-12-03 12:35\")\n",
    "\n",
    "\n",
    "config['fmin'] = 0.01\n",
    "config['fmax'] = 10"
   ]
  },
  {
   "cell_type": "markdown",
   "id": "47ff88ba",
   "metadata": {},
   "source": [
    "## Load Data"
   ]
  },
  {
   "cell_type": "markdown",
   "id": "e954a16e-3204-451f-92fd-d787d7dc906a",
   "metadata": {},
   "source": [
    "#### Find event in catalog"
   ]
  },
  {
   "cell_type": "code",
   "execution_count": 4,
   "id": "478cd310-9e08-475c-b927-e0928b65b280",
   "metadata": {
    "tags": []
   },
   "outputs": [
    {
     "ename": "FDSNNoServiceException",
     "evalue": "No FDSN services could be discovered at 'http://service.iris.edu'. This could be due to a temporary service outage or an invalid FDSN service address.",
     "output_type": "error",
     "traceback": [
      "\u001b[0;31m---------------------------------------------------------------------------\u001b[0m",
      "\u001b[0;31mFDSNNoServiceException\u001b[0m                    Traceback (most recent call last)",
      "Cell \u001b[0;32mIn[4], line 1\u001b[0m\n\u001b[0;32m----> 1\u001b[0m event \u001b[38;5;241m=\u001b[39m \u001b[43mClient\u001b[49m\u001b[43m(\u001b[49m\u001b[38;5;124;43m\"\u001b[39;49m\u001b[38;5;124;43mIRIS\u001b[39;49m\u001b[38;5;124;43m\"\u001b[39;49m\u001b[43m)\u001b[49m\u001b[38;5;241m.\u001b[39mget_events(starttime\u001b[38;5;241m=\u001b[39mconfig[\u001b[38;5;124m'\u001b[39m\u001b[38;5;124mtbeg\u001b[39m\u001b[38;5;124m'\u001b[39m], endtime\u001b[38;5;241m=\u001b[39mconfig[\u001b[38;5;124m'\u001b[39m\u001b[38;5;124mtend\u001b[39m\u001b[38;5;124m'\u001b[39m], minmagnitude\u001b[38;5;241m=\u001b[39m\u001b[38;5;241m4.0\u001b[39m)\n\u001b[1;32m      2\u001b[0m event \u001b[38;5;241m=\u001b[39m event[\u001b[38;5;241m0\u001b[39m]\n",
      "File \u001b[0;32m~/anaconda3/envs/obs2/lib/python3.10/site-packages/obspy/clients/fdsn/client.py:277\u001b[0m, in \u001b[0;36mClient.__init__\u001b[0;34m(self, base_url, major_versions, user, password, user_agent, debug, timeout, service_mappings, force_redirect, eida_token, _discover_services)\u001b[0m\n\u001b[1;32m    274\u001b[0m     \u001b[38;5;28mprint\u001b[39m(\u001b[38;5;124m\"\u001b[39m\u001b[38;5;124mRequest Headers: \u001b[39m\u001b[38;5;132;01m%s\u001b[39;00m\u001b[38;5;124m\"\u001b[39m \u001b[38;5;241m%\u001b[39m \u001b[38;5;28mstr\u001b[39m(\u001b[38;5;28mself\u001b[39m\u001b[38;5;241m.\u001b[39mrequest_headers))\n\u001b[1;32m    276\u001b[0m \u001b[38;5;28;01mif\u001b[39;00m _discover_services:\n\u001b[0;32m--> 277\u001b[0m     \u001b[38;5;28;43mself\u001b[39;49m\u001b[38;5;241;43m.\u001b[39;49m\u001b[43m_discover_services\u001b[49m\u001b[43m(\u001b[49m\u001b[43m)\u001b[49m\n\u001b[1;32m    278\u001b[0m \u001b[38;5;28;01melse\u001b[39;00m:\n\u001b[1;32m    279\u001b[0m     \u001b[38;5;28mself\u001b[39m\u001b[38;5;241m.\u001b[39mservices \u001b[38;5;241m=\u001b[39m DEFAULT_SERVICES\n",
      "File \u001b[0;32m~/anaconda3/envs/obs2/lib/python3.10/site-packages/obspy/clients/fdsn/client.py:1638\u001b[0m, in \u001b[0;36mClient._discover_services\u001b[0;34m(self)\u001b[0m\n\u001b[1;32m   1633\u001b[0m         \u001b[38;5;28;01mraise\u001b[39;00m FDSNRedirectException(\u001b[38;5;124m\"\u001b[39m\u001b[38;5;124m, \u001b[39m\u001b[38;5;124m\"\u001b[39m\u001b[38;5;241m.\u001b[39mjoin(redirect_messages))\n\u001b[1;32m   1635\u001b[0m     msg \u001b[38;5;241m=\u001b[39m (\u001b[38;5;124m\"\u001b[39m\u001b[38;5;124mNo FDSN services could be discovered at \u001b[39m\u001b[38;5;124m'\u001b[39m\u001b[38;5;132;01m%s\u001b[39;00m\u001b[38;5;124m'\u001b[39m\u001b[38;5;124m. This could \u001b[39m\u001b[38;5;124m\"\u001b[39m\n\u001b[1;32m   1636\u001b[0m            \u001b[38;5;124m\"\u001b[39m\u001b[38;5;124mbe due to a temporary service outage or an invalid FDSN \u001b[39m\u001b[38;5;124m\"\u001b[39m\n\u001b[1;32m   1637\u001b[0m            \u001b[38;5;124m\"\u001b[39m\u001b[38;5;124mservice address.\u001b[39m\u001b[38;5;124m\"\u001b[39m \u001b[38;5;241m%\u001b[39m \u001b[38;5;28mself\u001b[39m\u001b[38;5;241m.\u001b[39mbase_url)\n\u001b[0;32m-> 1638\u001b[0m     \u001b[38;5;28;01mraise\u001b[39;00m FDSNNoServiceException(msg)\n\u001b[1;32m   1639\u001b[0m \u001b[38;5;66;03m# Cache.\u001b[39;00m\n\u001b[1;32m   1640\u001b[0m \u001b[38;5;28;01mif\u001b[39;00m \u001b[38;5;28mself\u001b[39m\u001b[38;5;241m.\u001b[39mdebug \u001b[38;5;129;01mis\u001b[39;00m \u001b[38;5;28;01mTrue\u001b[39;00m:\n",
      "\u001b[0;31mFDSNNoServiceException\u001b[0m: No FDSN services could be discovered at 'http://service.iris.edu'. This could be due to a temporary service outage or an invalid FDSN service address."
     ]
    }
   ],
   "source": [
    "event = Client(\"IRIS\").get_events(starttime=config['tbeg'], endtime=config['tend'], minmagnitude=4.0)\n",
    "event = event[0]"
   ]
  },
  {
   "cell_type": "markdown",
   "id": "b77b0e91-16de-4727-ab5e-d65748be26ad",
   "metadata": {},
   "source": [
    "#### Load inventory"
   ]
  },
  {
   "cell_type": "code",
   "execution_count": null,
   "id": "09be55c7-9229-49ee-b0dc-815bc46e77bc",
   "metadata": {
    "tags": []
   },
   "outputs": [],
   "source": [
    "romy_inv = obs.read_inventory(config['path_to_inventory']+\"dataless.seed.BW_ROMY\")\n",
    "seis_inv = obs.read_inventory(config['path_to_inventory']+\"dataless.seed.BW_DROMY\")"
   ]
  },
  {
   "cell_type": "code",
   "execution_count": null,
   "id": "6531ba89-9408-4e09-854e-62d7fe27a1f4",
   "metadata": {
    "tags": []
   },
   "outputs": [],
   "source": [
    "st0 = obs.Stream()\n",
    "\n",
    "st0 += __read_sds(config['path_to_sds'], \"BW.ROMY.10.BJZ\", config['tbeg']-1, config['tend']+1)\n",
    "st0 += __read_sds(config['path_to_sds'], \"BW.ROMY..BJU\", config['tbeg']-1, config['tend']+1)\n",
    "st0 += __read_sds(config['path_to_sds'], \"BW.ROMY..BJV\", config['tbeg']-1, config['tend']+1)\n",
    "\n",
    "if len(st0) > 3:\n",
    "    st0.merge(fill_value=\"interpolate\")"
   ]
  },
  {
   "cell_type": "code",
   "execution_count": null,
   "id": "5e844ed3-4f9c-4389-8f69-59ec74b43734",
   "metadata": {
    "tags": []
   },
   "outputs": [],
   "source": [
    "st0.plot(equal_scale=False);"
   ]
  },
  {
   "cell_type": "code",
   "execution_count": null,
   "id": "58fef3ab-fdca-493b-93f6-88a258dd214c",
   "metadata": {
    "tags": []
   },
   "outputs": [],
   "source": [
    "acc = __read_sds(config['path_to_sds'], \"BW.DROMY..HH*\", config['tbeg']-1, config['tend']+1)\n",
    "\n",
    "acc.remove_response(seis_inv, output=\"ACC\")\n",
    "\n",
    "acc.detrend(\"demean\")"
   ]
  },
  {
   "cell_type": "code",
   "execution_count": null,
   "id": "432ee32a-a2a2-45ca-96cc-7baed0fcdc94",
   "metadata": {
    "tags": []
   },
   "outputs": [],
   "source": [
    "acc.plot(equal_scale=False);"
   ]
  },
  {
   "cell_type": "code",
   "execution_count": null,
   "id": "bc762864-d46e-4ba0-ac49-69c58494c810",
   "metadata": {
    "tags": []
   },
   "outputs": [],
   "source": [
    "st = st0.copy()\n",
    "\n",
    "st.remove_sensitivity(romy_inv)\n",
    "\n",
    "st.detrend(\"demean\")\n",
    "# st.taper(0.1)\n",
    "# st.filter(\"bandpass\", freqmin=config['fmin'], freqmax=config['fmax'], corners=4, zerophase=True)\n",
    "\n",
    "st.plot(equal_scale=False);"
   ]
  },
  {
   "cell_type": "code",
   "execution_count": null,
   "id": "a8e63912-4036-410d-94ed-abcfad9ff2d4",
   "metadata": {
    "tags": []
   },
   "outputs": [],
   "source": [
    "acc, st"
   ]
  },
  {
   "cell_type": "code",
   "execution_count": null,
   "id": "619b19e0-92dc-47bd-add9-3e8e43f76fc4",
   "metadata": {
    "tags": []
   },
   "outputs": [],
   "source": [
    "# st = st.rotate(method=\"->ZNE\", inventory=romy_inv)\n",
    "\n",
    "ori_z = romy_inv.get_orientation(\"BW.ROMY.10.BJZ\")\n",
    "ori_u = romy_inv.get_orientation(\"BW.ROMY..BJU\")\n",
    "ori_v = romy_inv.get_orientation(\"BW.ROMY..BJV\")\n",
    "\n",
    "romy_z = st.select(channel=\"*Z\")[0].data\n",
    "romy_u = st.select(channel=\"*U\")[0].data\n",
    "romy_v = st.select(channel=\"*V\")[0].data\n",
    "\n",
    "from obspy.signal.rotate import rotate2zne\n",
    "\n",
    "romy_z, romy_n, romy_e =rotate2zne(\n",
    "                                   romy_z, ori_z['azimuth'], ori_z['dip'],\n",
    "                                   romy_u, ori_u['azimuth'], ori_u['dip'],\n",
    "                                   romy_v, ori_v['azimuth'], ori_v['dip'],\n",
    "                                   inverse=False\n",
    "                                  )\n",
    "\n",
    "st_new = st.copy()\n",
    "\n",
    "st_new.select(channel=\"*Z\")[0].data = romy_z\n",
    "st_new.select(channel=\"*U\")[0].data = romy_n\n",
    "st_new.select(channel=\"*V\")[0].data = romy_e\n",
    "\n",
    "st_new.select(channel=\"*U\")[0].stats.channel = \"BJN\"\n",
    "st_new.select(channel=\"*V\")[0].stats.channel = \"BJE\"\n"
   ]
  },
  {
   "cell_type": "code",
   "execution_count": null,
   "id": "c923d2c5-4b62-43b3-ae6f-f81f4bc45ca2",
   "metadata": {
    "tags": []
   },
   "outputs": [],
   "source": [
    "st_new.plot(equal_scale=False);"
   ]
  },
  {
   "cell_type": "code",
   "execution_count": null,
   "id": "b575ca20-c0d2-483e-8265-c81b2a8d9099",
   "metadata": {
    "tags": []
   },
   "outputs": [],
   "source": [
    "test = st_new.copy().trim(config['tbeg']+10*60, config['tend']-0*60)\n",
    "test.detrend(\"linear\")\n",
    "test.taper(0.1)\n",
    "test.filter(\"bandpass\", freqmin=0.001, freqmax=0.1, corners=4, zerophase=True)\n",
    "test.plot();"
   ]
  },
  {
   "cell_type": "code",
   "execution_count": null,
   "id": "923007f0-e819-45bc-bb02-1e084929468f",
   "metadata": {
    "tags": []
   },
   "outputs": [],
   "source": [
    "t1, t2 = config['tbeg']+11*60, config['tend']-0*60\n",
    "\n",
    "st = st.copy().trim(t1, t2)\n",
    "st_new = st_new.copy().trim(t1, t2)\n",
    "acc = acc.copy().trim(t1, t2)\n"
   ]
  },
  {
   "cell_type": "markdown",
   "id": "b6462d5b-bb98-4bb2-99f0-8686d8940fa7",
   "metadata": {},
   "source": [
    "## Compare Waveforms"
   ]
  },
  {
   "cell_type": "code",
   "execution_count": null,
   "id": "3423b13f-ef73-41ba-9b5a-289360884dd0",
   "metadata": {
    "tags": []
   },
   "outputs": [],
   "source": [
    "def __makeplot_waveform_comparison(st1, st2):\n",
    "\n",
    "    fig, ax = plt.subplots(3, 1, figsize=(15, 5), sharex=True)\n",
    "\n",
    "    font = 14\n",
    "\n",
    "    rot_scaling = 1e9\n",
    "\n",
    "    lw = 1\n",
    "\n",
    "    ax[0].plot(st1.select(channel=\"*Z\")[0].times(), st1.select(channel=\"*Z\")[0].data*rot_scaling, lw=lw, label=\"Z\", color=\"darkred\", ls=\"-\", zorder=3)\n",
    "    ax[0].plot(st2.select(channel=\"*Z\")[0].times(), st2.select(channel=\"*Z\")[0].data*rot_scaling, lw=lw, label=\"Z\", color=\"black\", zorder=2)\n",
    "\n",
    "    ax[1].plot(st1.select(channel=\"*U\")[0].times(), st1.select(channel=\"*U\")[0].data*rot_scaling, lw=lw, label=\"U\", color=\"darkred\", ls=\"-\", zorder=3)\n",
    "    ax[1].plot(st2.select(channel=\"*N\")[0].times(), st2.select(channel=\"*N\")[0].data*rot_scaling, lw=lw, label=\"N\", color=\"black\", zorder=2)\n",
    "\n",
    "    ax[2].plot(st1.select(channel=\"*V\")[0].times(), st1.select(channel=\"*V\")[0].data*rot_scaling, lw=lw, label=\"V\", color=\"darkred\", ls=\"-\", zorder=3)\n",
    "    ax[2].plot(st2.select(channel=\"*E\")[0].times(), st2.select(channel=\"*E\")[0].data*rot_scaling, lw=lw, label=\"E\", color=\"black\", zorder=2)\n",
    "\n",
    "    ax00 = ax[0].twinx()\n",
    "    diff_Z = ( abs(st1.select(channel=\"*Z\")[0].data - st2.select(channel=\"*Z\")[0].data)*rot_scaling )\n",
    "    ax00.fill_between(st2.select(channel=\"*Z\")[0].times(), diff_Z, color=\"grey\", alpha=0.5, zorder=1)\n",
    "    ax00.set_ylim(-1, 10)\n",
    "    ax00.set_ylabel(\"Z - Z (nrad/s)\", color=\"darkgrey\")\n",
    "\n",
    "    ax11 = ax[1].twinx()\n",
    "    diff_N = ( abs(st1.select(channel=\"*U\")[0].data - st2.select(channel=\"*N\")[0].data)*rot_scaling )\n",
    "    ax11.fill_between(st2.select(channel=\"*N\")[0].times(), diff_N, color=\"grey\", alpha=0.5, zorder=1)\n",
    "    ax11.set_ylim(-1, 10)\n",
    "    ax11.set_ylabel(\"U - N (nrad/s)\", color=\"darkgrey\")\n",
    "\n",
    "    ax22 = ax[2].twinx()\n",
    "    diff_E = ( abs(st1.select(channel=\"*V\")[0].data - st2.select(channel=\"*E\")[0].data)*rot_scaling )\n",
    "    ax22.fill_between(st2.select(channel=\"*E\")[0].times(), diff_E, color=\"grey\", alpha=0.5, zorder=1)\n",
    "    ax22.set_ylim(-1, 10)\n",
    "    ax22.set_ylabel(\"V - E (nrad/s)\", color=\"darkgrey\")\n",
    "\n",
    "    for i in range(3):\n",
    "        ax[i].legend(loc=1, ncols=4)\n",
    "        ax[i].grid(which=\"both\", alpha=0.5)\n",
    "        # ax[i].set_xscale(\"log\")\n",
    "        ax[i].set_ylabel(r\"$\\Omega$ (nrad/s)\")\n",
    "\n",
    "    ax[2].set_xlabel(\"Time (s)\")\n",
    "    ax[0].set_title(f\"{config['tbeg'].date} {str(config['tbeg'].time).split('.')[0]} UTC | {config['fmin']}-{config['fmax']} Hz \")\n",
    "\n",
    "    plt.show();\n",
    "    return fig"
   ]
  },
  {
   "cell_type": "code",
   "execution_count": null,
   "id": "c0916a7e-f40b-460c-8983-9552f7c57e40",
   "metadata": {
    "tags": []
   },
   "outputs": [],
   "source": [
    "config['fmin'] = 0.01\n",
    "config['fmax'] = 0.1\n",
    "\n",
    "st_cp = st.copy()\n",
    "st_cp = st_cp.detrend(\"demean\");\n",
    "st_cp = st_cp.taper(0.1);\n",
    "st_cp = st_cp.filter(\"bandpass\", freqmin=config['fmin'], freqmax=config['fmax'], corners=4, zerophase=True);\n",
    "st_cp.trim(config['tbeg']+600, config['tend'])\n",
    "\n",
    "st_rot_cp = st_new.copy()\n",
    "st_rot_cp = st_rot_cp.detrend(\"demean\");\n",
    "st_rot_cp = st_rot_cp.taper(0.1);\n",
    "st_rot_cp = st_rot_cp.filter(\"bandpass\", freqmin=config['fmin'], freqmax=config['fmax'], corners=4, zerophase=True);\n",
    "\n",
    "st_rot_cp.trim(config['tbeg']+600, config['tend'])\n",
    "\n",
    "\n",
    "\n",
    "fig = __makeplot_waveform_comparison(st_cp, st_rot_cp)\n",
    "\n",
    "fig.savefig(config['path_to_figs']+f\"ROMY_{config['event_name']}_waveforms.png\", format=\"png\", dpi=200, bbox_inches='tight');"
   ]
  },
  {
   "cell_type": "code",
   "execution_count": null,
   "id": "ebf03cfd-af69-4e17-994e-9bbffe267690",
   "metadata": {
    "tags": []
   },
   "outputs": [],
   "source": [
    "def __makeplot_spectra_comparison(st1, st2):\n",
    "\n",
    "    def __multitaper_psd(arr, dt, n_win=5):\n",
    "\n",
    "        import multitaper as mt\n",
    "\n",
    "        out_psd = mt.MTSpec(arr, nw=n_win, kspec=0, dt=dt)\n",
    "\n",
    "        _f, _psd = out_psd.rspec()\n",
    "\n",
    "        f = _f.reshape(_f.size)\n",
    "        psd = _psd.reshape(_psd.size)\n",
    "\n",
    "        ## 95% confidence interval\n",
    "        # _psd95 = out_psd.jackspec()\n",
    "        # psd95_lower, psd95_upper = psd95[::2, 0], psd95[::2, 1]\n",
    "\n",
    "        return f, psd\n",
    "\n",
    "    f1_Z, psd1_Z = __multitaper_psd(st1.select(channel=\"*Z\")[0].data, st1[0].stats.delta ,n_win=10)\n",
    "    f2_Z, psd2_Z = __multitaper_psd(st2.select(channel=\"*Z\")[0].data, st2[0].stats.delta ,n_win=10)\n",
    "\n",
    "    f1_U, psd1_U = __multitaper_psd(st1.select(channel=\"*U\")[0].data, st1[0].stats.delta ,n_win=10)\n",
    "    f2_N, psd2_N = __multitaper_psd(st2.select(channel=\"*N\")[0].data, st2[0].stats.delta ,n_win=10)\n",
    "\n",
    "    f1_V, psd1_V = __multitaper_psd(st1.select(channel=\"*V\")[0].data, st1[0].stats.delta ,n_win=10)\n",
    "    f2_E, psd2_E = __multitaper_psd(st2.select(channel=\"*E\")[0].data, st2[0].stats.delta ,n_win=10)\n",
    "\n",
    "\n",
    "    fig, ax = plt.subplots(3, 1, figsize=(15, 5), sharex=True)\n",
    "\n",
    "    font = 14\n",
    "\n",
    "    rot_scaling = 1e9\n",
    "\n",
    "    lw = 1\n",
    "\n",
    "    ax[0].plot(f1_Z, psd1_Z, lw=lw, label=\"Z\", color=\"darkred\", ls=\"-\", zorder=3)\n",
    "    ax[0].plot(f2_Z, psd2_Z, lw=lw, label=\"Z\", color=\"black\", zorder=2)\n",
    "\n",
    "    ax[1].plot(f1_U, psd1_U, lw=lw, label=\"U\", color=\"darkred\", ls=\"-\", zorder=3)\n",
    "    ax[1].plot(f2_N, psd2_N, lw=lw, label=\"N\", color=\"black\", zorder=2)\n",
    "\n",
    "    ax[2].plot(f1_V, psd1_V, lw=lw, label=\"V\", color=\"darkred\", ls=\"-\", zorder=3)\n",
    "    ax[2].plot(f2_E, psd2_E, lw=lw, label=\"E\", color=\"black\", zorder=2)\n",
    "\n",
    "\n",
    "    for i in range(3):\n",
    "        ax[i].legend(loc=1, ncols=4)\n",
    "        ax[i].set_xscale(\"log\")\n",
    "        ax[i].set_yscale(\"log\")\n",
    "        ax[i].grid(which=\"both\", alpha=0.5)\n",
    "        ax[i].set_ylabel(r\"PSD (rad$^2$/s$^2$/Hz)\")\n",
    "        ax[i].set_xlim(1e-3, 1e1)\n",
    "\n",
    "    ax[2].set_xlabel(\"Frequency (Hz)\")\n",
    "    ax[0].set_title(f\"{config['tbeg'].date} {str(config['tbeg'].time).split('.')[0]} UTC | {config['fmin']}-{config['fmax']} Hz \")\n",
    "\n",
    "    plt.show();\n",
    "    return fig"
   ]
  },
  {
   "cell_type": "code",
   "execution_count": null,
   "id": "85c30f41-05e4-4feb-a03f-2defc0bb599f",
   "metadata": {
    "tags": []
   },
   "outputs": [],
   "source": [
    "fig = __makeplot_spectra_comparison(st_cp, st_rot_cp)"
   ]
  },
  {
   "cell_type": "code",
   "execution_count": null,
   "id": "21457143-2c80-4e2b-9934-9c46068362e7",
   "metadata": {},
   "outputs": [],
   "source": []
  },
  {
   "cell_type": "markdown",
   "id": "41f05a1d-11c6-4d56-94d2-f20bc5ac58c2",
   "metadata": {},
   "source": [
    "## Write Data"
   ]
  },
  {
   "cell_type": "code",
   "execution_count": null,
   "id": "c01c4242-0109-41ab-b7f7-4d3b15419409",
   "metadata": {
    "tags": []
   },
   "outputs": [],
   "source": [
    "st_all = st_new.copy();\n",
    "st_all += acc.copy();\n",
    "\n",
    "st_all.resample(20, no_filter=False)\n",
    "\n",
    "st_all.trim(config['tbeg'], config['tend'])\n",
    "\n",
    "st_all.plot(equal_scale=False);\n",
    "\n",
    "st_all.write(config['path_to_outdata']+f\"ROMY_{config['event_name']}_{str(config['tbeg'].date).replace('-','')}_{str(config['tbeg'].time).split('.')[0]}_6C.mseed\", format=\"MSEED\");\n"
   ]
  },
  {
   "cell_type": "code",
   "execution_count": null,
   "id": "f92b9ca6-dc42-416e-9b2c-35a95ea94ffe",
   "metadata": {},
   "outputs": [],
   "source": []
  },
  {
   "cell_type": "code",
   "execution_count": null,
   "id": "fdec5c07-3f76-43a5-b42a-bc99ba2176f8",
   "metadata": {},
   "outputs": [],
   "source": []
  }
 ],
 "metadata": {
  "kernelspec": {
   "display_name": "Python 3 (ipykernel)",
   "language": "python",
   "name": "python3"
  },
  "language_info": {
   "codemirror_mode": {
    "name": "ipython",
    "version": 3
   },
   "file_extension": ".py",
   "mimetype": "text/x-python",
   "name": "python",
   "nbconvert_exporter": "python",
   "pygments_lexer": "ipython3",
   "version": "3.10.12"
  },
  "latex_envs": {
   "LaTeX_envs_menu_present": true,
   "autoclose": false,
   "autocomplete": true,
   "bibliofile": "biblio.bib",
   "cite_by": "apalike",
   "current_citInitial": 1,
   "eqLabelWithNumbers": true,
   "eqNumInitial": 1,
   "hotkeys": {
    "equation": "Ctrl-E",
    "itemize": "Ctrl-I"
   },
   "labels_anchors": false,
   "latex_user_defs": false,
   "report_style_numbering": false,
   "user_envs_cfg": false
  },
  "toc": {
   "base_numbering": 1,
   "nav_menu": {},
   "number_sections": true,
   "sideBar": true,
   "skip_h1_title": false,
   "title_cell": "Table of Contents",
   "title_sidebar": "Contents",
   "toc_cell": false,
   "toc_position": {},
   "toc_section_display": true,
   "toc_window_display": false
  },
  "varInspector": {
   "cols": {
    "lenName": 16,
    "lenType": 16,
    "lenVar": 40
   },
   "kernels_config": {
    "python": {
     "delete_cmd_postfix": "",
     "delete_cmd_prefix": "del ",
     "library": "var_list.py",
     "varRefreshCmd": "print(var_dic_list())"
    },
    "r": {
     "delete_cmd_postfix": ") ",
     "delete_cmd_prefix": "rm(",
     "library": "var_list.r",
     "varRefreshCmd": "cat(var_dic_list()) "
    }
   },
   "types_to_exclude": [
    "module",
    "function",
    "builtin_function_or_method",
    "instance",
    "_Feature"
   ],
   "window_display": false
  }
 },
 "nbformat": 4,
 "nbformat_minor": 5
}
