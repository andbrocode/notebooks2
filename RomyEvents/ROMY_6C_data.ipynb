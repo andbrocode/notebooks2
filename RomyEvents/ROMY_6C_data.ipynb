{
 "cells": [
  {
   "cell_type": "markdown",
   "id": "26ad060e",
   "metadata": {
    "ExecuteTime": {
     "end_time": "2022-09-13T00:35:24.926376Z",
     "start_time": "2022-09-13T00:35:24.923877Z"
    }
   },
   "source": [
    "# Get 6C Data for Event"
   ]
  },
  {
   "cell_type": "markdown",
   "id": "fa47ca0c",
   "metadata": {},
   "source": [
    "Get 6C data for ROMY and store it"
   ]
  },
  {
   "cell_type": "code",
   "execution_count": 2,
   "id": "7ae027cf",
   "metadata": {
    "ExecuteTime": {
     "end_time": "2023-04-05T16:30:44.374156Z",
     "start_time": "2023-04-05T16:30:42.823021Z"
    },
    "tags": []
   },
   "outputs": [],
   "source": [
    "import os\n",
    "import obspy as obs\n",
    "import matplotlib.pyplot as plt\n",
    "\n",
    "from obspy.clients.fdsn import Client\n",
    "\n",
    "from andbro__read_sds import __read_sds"
   ]
  },
  {
   "cell_type": "code",
   "execution_count": 3,
   "id": "e101e1c9-f54b-4b15-8e50-bbb3a856e141",
   "metadata": {
    "tags": []
   },
   "outputs": [],
   "source": [
    "from functions.rotate_romy_ZUV_ZNE import __rotate_romy_ZUV_ZNE\n",
    "from functions.get_event_info import __get_event_info"
   ]
  },
  {
   "cell_type": "code",
   "execution_count": 4,
   "id": "8cfc93b5-07b8-4d53-806a-99176e9700ad",
   "metadata": {
    "tags": []
   },
   "outputs": [],
   "source": [
    "if os.uname().nodename == 'lighthouse':\n",
    "    root_path = '/home/andbro/'\n",
    "    data_path = '/home/andbro/kilauea-data/'\n",
    "    archive_path = '/home/andbro/freenas/'\n",
    "    bay_path = '/home/andbro/bay200/'\n",
    "elif os.uname().nodename == 'kilauea':\n",
    "    root_path = '/home/brotzer/'\n",
    "    data_path = '/import/kilauea-data/'\n",
    "    archive_path = '/import/freenas-ffb-01-data/'\n",
    "    bay_path = '/bay200/'\n",
    "elif os.uname().nodename == 'lin-ffb-01':\n",
    "    root_path = '/home/brotzer/'\n",
    "    data_path = '/import/kilauea-data/'\n",
    "    archive_path = '/import/freenas-ffb-01-data/'\n",
    "    bay_path = '/bay200/'"
   ]
  },
  {
   "cell_type": "markdown",
   "id": "a9cfd05f",
   "metadata": {},
   "source": [
    "## Configurations"
   ]
  },
  {
   "cell_type": "code",
   "execution_count": 5,
   "id": "42cd60e7",
   "metadata": {
    "ExecuteTime": {
     "end_time": "2023-04-05T16:32:26.446824Z",
     "start_time": "2023-04-05T16:32:26.444464Z"
    },
    "tags": []
   },
   "outputs": [],
   "source": [
    "config = {}\n",
    "\n",
    "## output path for figures\n",
    "config['path_to_figs'] = data_path+\"romy_events/figures/\"\n",
    "\n",
    "config['path_to_outdata'] = data_path+\"romy_events/data/\"\n",
    "\n",
    "config['path_to_sds'] = archive_path+\"romy_archive/\"\n",
    "\n",
    "config['path_to_inventory'] = root_path+\"Documents/ROMY/stationxml_ringlaser/dataless/\"\n",
    "\n",
    "## BSPF coordinates\n",
    "config['sta_lon'] = 11.275501\n",
    "config['sta_lat'] = 48.162941\n",
    "\n",
    "# specify mask for ADR\n",
    "config['submask'] = \"\"\n",
    "\n",
    "# specify frequency band\n",
    "config['fmin'] = 0.01\n",
    "config['fmax'] = 0.1\n",
    "\n",
    "# specify client\n",
    "config['Client'] = Client(\"GFZ\")\n",
    "\n",
    "\n",
    "config['seed_acc'] = \"BW.DROMY..HH*\"\n",
    "# config['seed_acc'] = \"GR.FUR..BH*\"\n",
    "\n",
    "\n",
    "config['path_to_rot'] = archive_path+\"romy_archive/\"\n",
    "\n",
    "if \"DROMY\" in config['seed_acc']:\n",
    "    config['path_to_acc'] = archive_path+\"romy_archive/\"\n",
    "elif \"FUR\" in config['seed_acc']:\n",
    "    config['path_to_acc'] = bay_path+\"mseed_online/archive/\"\n",
    "\n",
    "## Eventtime\n",
    "# config['eventtime'] = obs.UTCDateTime(\"2023-10-25 13:40:00\")\n",
    "\n",
    "# config['event_name'] = \"Italy\"\n",
    "# config['tbeg'] = obs.UTCDateTime(\"2023-10-25 13:45:00\")\n",
    "# config['tend'] = obs.UTCDateTime(\"2023-10-25 13:50:00\")\n",
    "\n",
    "# config['event_name'] = \"Morocco\"\n",
    "# config['tbeg'] = obs.UTCDateTime(\"2023-09-08 22:00\")\n",
    "# config['tend'] = obs.UTCDateTime(\"2023-09-08 23:00\")\n",
    "\n",
    "# config['event_name'] = \"Morocco2\"\n",
    "# config['tbeg'] = obs.UTCDateTime(\"2023-09-08 22:30\")\n",
    "# config['tend'] = obs.UTCDateTime(\"2023-09-08 23:30\")\n",
    "\n",
    "# config['event_name'] = \"Mindanao\" ## M7-6\n",
    "# config['tbeg'] = obs.UTCDateTime(\"2023-12-02 14:37\")\n",
    "# config['tend'] = obs.UTCDateTime(\"2023-12-02 17:00\")\n",
    "\n",
    "# config['event_name'] = \"Mindanao2\" ## M6.6\n",
    "# config['tbeg'] = obs.UTCDateTime(\"2023-12-03 10:35\")\n",
    "# config['tend'] = obs.UTCDateTime(\"2023-12-03 12:35\")\n",
    "\n",
    "# config['event_name'] = \"Meteoride\"\n",
    "# config['tbeg'] = obs.UTCDateTime(\"2024-01-21 00:15\")\n",
    "# config['tend'] = obs.UTCDateTime(\"2024-01-21 00:50\")\n",
    "\n",
    "config['event_name'] = \"Montenegro\"\n",
    "config['tbeg'] = obs.UTCDateTime(\"2024-03-14 03:06\")\n",
    "config['tend'] = obs.UTCDateTime(\"2024-03-14 03:36\")\n",
    "\n",
    "# config['event_name'] = \"distortions\"\n",
    "# config['tbeg'] = obs.UTCDateTime(\"2023-12-02 18:25:00\")\n",
    "# config['tend'] = obs.UTCDateTime(\"2023-12-02 18:40:00\")\n",
    "\n",
    "# config['event_name'] = \"Germany\"\n",
    "# config['tbeg'] = obs.UTCDateTime(\"2024-03-22 05:30:00\")\n",
    "# config['tend'] = obs.UTCDateTime(\"2024-03-22 05:40:00\")\n",
    "\n",
    "# config['event_name'] = \"Italy2\"\n",
    "# config['tbeg'] = obs.UTCDateTime(\"2024-03-27 21:32:00\")\n",
    "# config['tend'] = obs.UTCDateTime(\"2024-03-27 21:35:00\")\n",
    "\n",
    "# config['event_name'] = \"Taiwan\"\n",
    "# config['tbeg'] = obs.UTCDateTime(\"2024-04-03 00:11:00\")\n",
    "# config['tend'] = obs.UTCDateTime(\"2024-04-03 03:11:00\")\n",
    "\n",
    "# config['event_name'] = \"Noise\"\n",
    "# config['tbeg'] = obs.UTCDateTime(\"2024-03-29 00:00\")\n",
    "# config['tend'] = obs.UTCDateTime(\"2024-03-30 00:00\")\n",
    "\n",
    "config['event_name'] = \"Wind\"\n",
    "config['tbeg'] = obs.UTCDateTime(\"2024-03-21 00:00\")\n",
    "config['tend'] = obs.UTCDateTime(\"2024-03-22 00:00\")\n"
   ]
  },
  {
   "cell_type": "markdown",
   "id": "47ff88ba",
   "metadata": {},
   "source": [
    "## Load Data"
   ]
  },
  {
   "cell_type": "markdown",
   "id": "e954a16e-3204-451f-92fd-d787d7dc906a",
   "metadata": {},
   "source": [
    "#### Find event in catalog"
   ]
  },
  {
   "cell_type": "code",
   "execution_count": null,
   "id": "5e48ede6-1a94-4f56-a5e8-7512fb93304f",
   "metadata": {
    "tags": []
   },
   "outputs": [],
   "source": []
  },
  {
   "cell_type": "code",
   "execution_count": 6,
   "id": "478cd310-9e08-475c-b927-e0928b65b280",
   "metadata": {
    "tags": []
   },
   "outputs": [],
   "source": [
    "# config, dist, baz, az = __get_event_info(config, min_mag=2)\n",
    "# event = Client(\"IRIS\").get_events(starttime=config['tbeg'], endtime=config['tend'], minmagnitude=2.0)\n",
    "# event = event[0]"
   ]
  },
  {
   "cell_type": "markdown",
   "id": "b77b0e91-16de-4727-ab5e-d65748be26ad",
   "metadata": {},
   "source": [
    "#### Load inventory"
   ]
  },
  {
   "cell_type": "code",
   "execution_count": 7,
   "id": "09be55c7-9229-49ee-b0dc-815bc46e77bc",
   "metadata": {
    "tags": []
   },
   "outputs": [],
   "source": [
    "romy_inv = obs.read_inventory(config['path_to_inventory']+\"dataless.seed.BW_ROMY\")\n",
    "# romy_inv = obs.read_inventory(config['path_to_inventory']+\"../station_BW_ROMY.xml\")\n",
    "romy_inv = obs.read_inventory(config['path_to_inventory']+\"../romy_george.xml\")\n",
    "# romy_inv = obs.read_inventory(config['path_to_inventory']+\"../station_BW_ROMY2.xml\")\n",
    "\n",
    "if \"DROMY\" in config['seed_acc']:\n",
    "    seis_inv = obs.read_inventory(config['path_to_inventory']+\"dataless.seed.BW_DROMY\")\n",
    "elif \"FUR\" in config['seed_acc']:\n",
    "    seis_inv = obs.read_inventory(config['path_to_inventory']+\"dataless.seed.GR_FUR\")\n"
   ]
  },
  {
   "cell_type": "code",
   "execution_count": 8,
   "id": "6531ba89-9408-4e09-854e-62d7fe27a1f4",
   "metadata": {
    "tags": []
   },
   "outputs": [
    {
     "name": "stdout",
     "output_type": "stream",
     "text": [
      " -> merging required!\n"
     ]
    },
    {
     "data": {
      "text/plain": [
       "3 Trace(s) in Stream:\n",
       "BW.ROMY..BJU   | 2024-03-21T00:00:00.006599Z - 2024-03-22T00:00:00.006599Z | 20.0 Hz, 1728001 samples\n",
       "BW.ROMY..BJV   | 2024-03-20T23:59:59.997799Z - 2024-03-21T23:59:59.997799Z | 20.0 Hz, 1728001 samples\n",
       "BW.ROMY.10.BJZ | 2024-03-21T00:00:00.004199Z - 2024-03-22T00:00:00.004199Z | 20.0 Hz, 1728001 samples"
      ]
     },
     "execution_count": 8,
     "metadata": {},
     "output_type": "execute_result"
    }
   ],
   "source": [
    "st0 = obs.Stream()\n",
    "\n",
    "st0 += __read_sds(config['path_to_sds'], \"BW.ROMY.10.BJZ\", config['tbeg']-1, config['tend']+1)\n",
    "st0 += __read_sds(config['path_to_sds'], \"BW.ROMY..BJU\", config['tbeg']-1, config['tend']+1)\n",
    "st0 += __read_sds(config['path_to_sds'], \"BW.ROMY..BJV\", config['tbeg']-1, config['tend']+1)\n",
    "\n",
    "if len(st0) > 3:\n",
    "    print(f\" -> merging required!\")\n",
    "    st0.merge(fill_value=\"interpolate\")\n",
    "\n",
    "st0 = st0.trim(config['tbeg'], config['tend'])\n",
    "st0"
   ]
  },
  {
   "cell_type": "code",
   "execution_count": 9,
   "id": "5e844ed3-4f9c-4389-8f69-59ec74b43734",
   "metadata": {
    "tags": []
   },
   "outputs": [
    {
     "data": {
      "image/png": "[encoded data removed]",
      "text/plain": [
       "<Figure size 800x750 with 3 Axes>"
      ]
     },
     "metadata": {},
     "output_type": "display_data"
    }
   ],
   "source": [
    "st0.plot(equal_scale=False);"
   ]
  },
  {
   "cell_type": "markdown",
   "id": "c4c669a9-4742-4c4d-aa59-255b6853eb13",
   "metadata": {},
   "source": [
    "## Process Translation Data"
   ]
  },
  {
   "cell_type": "code",
   "execution_count": null,
   "id": "58fef3ab-fdca-493b-93f6-88a258dd214c",
   "metadata": {
    "tags": []
   },
   "outputs": [],
   "source": [
    "acc = __read_sds(config['path_to_acc'], config['seed_acc'], config['tbeg']-1, config['tend']+1)\n",
    "\n",
    "acc = acc.remove_response(seis_inv, output=\"ACC\", water_level=60)\n",
    "\n",
    "acc = acc.detrend(\"linear\")\n",
    "\n",
    "if \"H\" in config['seed_acc']:\n",
    "    acc = acc.resample(20, no_filter=True)\n",
    "\n",
    "acc.plot(equal_scale=False);"
   ]
  },
  {
   "cell_type": "markdown",
   "id": "3d749fae-b571-448b-a2a8-c2044ab56ce2",
   "metadata": {
    "tags": []
   },
   "source": [
    "## Process Rotation Data"
   ]
  },
  {
   "cell_type": "code",
   "execution_count": null,
   "id": "f0c0b086-8cc6-4ad6-8e7d-4ed7d7b8cd3c",
   "metadata": {
    "tags": []
   },
   "outputs": [],
   "source": [
    "romy_inv"
   ]
  },
  {
   "cell_type": "code",
   "execution_count": null,
   "id": "bc762864-d46e-4ba0-ac49-69c58494c810",
   "metadata": {
    "tags": []
   },
   "outputs": [],
   "source": [
    "rot = st0.copy()\n",
    "\n",
    "rot = rot.remove_sensitivity(romy_inv)\n",
    "\n",
    "rot = rot.detrend(\"linear\")\n",
    "\n",
    "# rot = rot.taper(0.1)\n",
    "# rot = rot.filter(\"bandpass\", freqmin=config['fmin'], freqmax=config['fmax'], corners=4, zerophase=True)\n",
    "\n",
    "rot.plot(equal_scale=False);"
   ]
  },
  {
   "cell_type": "code",
   "execution_count": null,
   "id": "619b19e0-92dc-47bd-add9-3e8e43f76fc4",
   "metadata": {
    "tags": []
   },
   "outputs": [],
   "source": [
    "rot_zne = __rotate_romy_ZUV_ZNE(rot, romy_inv)"
   ]
  },
  {
   "cell_type": "code",
   "execution_count": null,
   "id": "c923d2c5-4b62-43b3-ae6f-f81f4bc45ca2",
   "metadata": {
    "tags": []
   },
   "outputs": [],
   "source": [
    "rot_zne.plot(equal_scale=False);"
   ]
  },
  {
   "cell_type": "markdown",
   "id": "f48be47c-ba04-4226-9693-2be4647368ca",
   "metadata": {},
   "source": [
    "### Plot Waveforms"
   ]
  },
  {
   "cell_type": "code",
   "execution_count": null,
   "id": "b8e78f51-9c76-4870-8b85-22f80bce989f",
   "metadata": {
    "tags": []
   },
   "outputs": [],
   "source": [
    "from functions.makeplot_waveforms import __makeplot_waveforms"
   ]
  },
  {
   "cell_type": "code",
   "execution_count": null,
   "id": "f1f779ff-195a-4bac-b8f2-be0745b7c47b",
   "metadata": {
    "tags": []
   },
   "outputs": [],
   "source": [
    "fig = __makeplot_waveforms(acc, rot_zne)"
   ]
  },
  {
   "cell_type": "code",
   "execution_count": null,
   "id": "e36e0b8b-860d-4b63-bf49-f8d46b890c0c",
   "metadata": {
    "tags": []
   },
   "outputs": [],
   "source": []
  },
  {
   "cell_type": "markdown",
   "id": "b6462d5b-bb98-4bb2-99f0-8686d8940fa7",
   "metadata": {},
   "source": [
    "## Compare Waveforms"
   ]
  },
  {
   "cell_type": "code",
   "execution_count": null,
   "id": "3423b13f-ef73-41ba-9b5a-289360884dd0",
   "metadata": {
    "tags": []
   },
   "outputs": [],
   "source": [
    "def __makeplot_waveform_comparison(st1, st2):\n",
    "\n",
    "    fig, ax = plt.subplots(3, 1, figsize=(15, 5), sharex=True)\n",
    "\n",
    "    font = 14\n",
    "\n",
    "    rot_scaling = 1e9\n",
    "\n",
    "    lw = 1\n",
    "\n",
    "    ax[0].plot(st1.select(channel=\"*Z\")[0].times(), st1.select(channel=\"*Z\")[0].data*rot_scaling, lw=lw, label=\"Z\", color=\"darkred\", ls=\"-\", zorder=3)\n",
    "    ax[0].plot(st2.select(channel=\"*Z\")[0].times(), st2.select(channel=\"*Z\")[0].data*rot_scaling, lw=lw, label=\"Z\", color=\"black\", zorder=2)\n",
    "\n",
    "    ax[1].plot(st1.select(channel=\"*U\")[0].times(), st1.select(channel=\"*U\")[0].data*rot_scaling, lw=lw, label=\"U\", color=\"darkred\", ls=\"-\", zorder=3)\n",
    "    ax[1].plot(st2.select(channel=\"*N\")[0].times(), st2.select(channel=\"*N\")[0].data*rot_scaling, lw=lw, label=\"N\", color=\"black\", zorder=2)\n",
    "\n",
    "    ax[2].plot(st1.select(channel=\"*V\")[0].times(), st1.select(channel=\"*V\")[0].data*rot_scaling, lw=lw, label=\"V\", color=\"darkred\", ls=\"-\", zorder=3)\n",
    "    ax[2].plot(st2.select(channel=\"*E\")[0].times(), st2.select(channel=\"*E\")[0].data*rot_scaling, lw=lw, label=\"E\", color=\"black\", zorder=2)\n",
    "\n",
    "    ax00 = ax[0].twinx()\n",
    "    diff_Z = ( abs(st1.select(channel=\"*Z\")[0].data - st2.select(channel=\"*Z\")[0].data)*rot_scaling )\n",
    "    ax00.fill_between(st2.select(channel=\"*Z\")[0].times(), diff_Z, color=\"grey\", alpha=0.5, zorder=1)\n",
    "    ax00.set_ylim(-1, 10)\n",
    "    ax00.set_ylabel(\"Z - Z (nrad/s)\", color=\"darkgrey\")\n",
    "\n",
    "    ax11 = ax[1].twinx()\n",
    "    diff_N = ( abs(st1.select(channel=\"*U\")[0].data - st2.select(channel=\"*N\")[0].data)*rot_scaling )\n",
    "    ax11.fill_between(st2.select(channel=\"*N\")[0].times(), diff_N, color=\"grey\", alpha=0.5, zorder=1)\n",
    "    ax11.set_ylim(-1, 10)\n",
    "    ax11.set_ylabel(\"U - N (nrad/s)\", color=\"darkgrey\")\n",
    "\n",
    "    ax22 = ax[2].twinx()\n",
    "    diff_E = ( abs(st1.select(channel=\"*V\")[0].data - st2.select(channel=\"*E\")[0].data)*rot_scaling )\n",
    "    ax22.fill_between(st2.select(channel=\"*E\")[0].times(), diff_E, color=\"grey\", alpha=0.5, zorder=1)\n",
    "    ax22.set_ylim(-1, 10)\n",
    "    ax22.set_ylabel(\"V - E (nrad/s)\", color=\"darkgrey\")\n",
    "\n",
    "    for i in range(3):\n",
    "        ax[i].legend(loc=1, ncols=4)\n",
    "        ax[i].grid(which=\"both\", alpha=0.5)\n",
    "        # ax[i].set_xscale(\"log\")\n",
    "        ax[i].set_ylabel(r\"$\\Omega$ (nrad/s)\")\n",
    "\n",
    "    ax[2].set_xlabel(\"Time (s)\")\n",
    "    ax[0].set_title(f\"{config['tbeg'].date} {str(config['tbeg'].time).split('.')[0]} UTC | {config['fmin']}-{config['fmax']} Hz \")\n",
    "\n",
    "    plt.show();\n",
    "    return fig"
   ]
  },
  {
   "cell_type": "code",
   "execution_count": null,
   "id": "c0916a7e-f40b-460c-8983-9552f7c57e40",
   "metadata": {
    "tags": []
   },
   "outputs": [],
   "source": [
    "config['fmin'] = 0.01\n",
    "config['fmax'] = 0.1\n",
    "\n",
    "st_cp = rot.copy()\n",
    "st_cp = st_cp.detrend(\"demean\");\n",
    "st_cp = st_cp.taper(0.01);\n",
    "st_cp = st_cp.filter(\"bandpass\", freqmin=config['fmin'], freqmax=config['fmax'], corners=4, zerophase=True);\n",
    "st_cp.trim(config['tbeg'], config['tend'])\n",
    "\n",
    "st_rot_cp = rot_zne.copy()\n",
    "st_rot_cp = st_rot_cp.detrend(\"demean\");\n",
    "st_rot_cp = st_rot_cp.taper(0.01);\n",
    "st_rot_cp = st_rot_cp.filter(\"bandpass\", freqmin=config['fmin'], freqmax=config['fmax'], corners=4, zerophase=True);\n",
    "\n",
    "st_rot_cp.trim(config['tbeg'], config['tend'])\n",
    "\n",
    "st_acc_cp = acc.copy()\n",
    "st_acc_cp = st_acc_cp.detrend(\"demean\");\n",
    "st_acc_cp = st_acc_cp.taper(0.01);\n",
    "st_acc_cp = st_acc_cp.filter(\"bandpass\", freqmin=config['fmin'], freqmax=config['fmax'], corners=4, zerophase=True);\n",
    "\n",
    "\n",
    "fig = __makeplot_waveform_comparison(st_cp, st_rot_cp)\n",
    "\n",
    "fig.savefig(config['path_to_figs']+f\"ROMY_{config['event_name']}_waveforms.png\", format=\"png\", dpi=200, bbox_inches='tight');\n"
   ]
  },
  {
   "cell_type": "code",
   "execution_count": null,
   "id": "ebf03cfd-af69-4e17-994e-9bbffe267690",
   "metadata": {
    "tags": []
   },
   "outputs": [],
   "source": [
    "def __makeplot_spectra_comparison(st1, st2):\n",
    "\n",
    "    def __multitaper_psd(arr, dt, n_win=5, time_bandwidth=4.0):\n",
    "\n",
    "        import multitaper as mt\n",
    "\n",
    "        out_psd = mt.MTSpec(arr, nw=time_bandwidth, kspec=n_win, dt=dt, iadapt=0)\n",
    "\n",
    "        _f, _psd = out_psd.rspec()\n",
    "\n",
    "        f = _f.reshape(_f.size)\n",
    "        psd = _psd.reshape(_psd.size)\n",
    "\n",
    "        ## 95% confidence interval\n",
    "        # _psd95 = out_psd.jackspec()\n",
    "        # psd95_lower, psd95_upper = psd95[::2, 0], psd95[::2, 1]\n",
    "\n",
    "        return f, psd\n",
    "\n",
    "    Tsec = 5\n",
    "    f1_Z, psd1_Z = __multitaper_psd(st1.select(channel=\"*Z\")[0].data, st1[0].stats.delta ,n_win=Tsec)\n",
    "    f2_Z, psd2_Z = __multitaper_psd(st2.select(channel=\"*Z\")[0].data, st2[0].stats.delta ,n_win=Tsec)\n",
    "\n",
    "    f1_U, psd1_U = __multitaper_psd(st1.select(channel=\"*U\")[0].data, st1[0].stats.delta ,n_win=Tsec)\n",
    "    f2_N, psd2_N = __multitaper_psd(st2.select(channel=\"*N\")[0].data, st2[0].stats.delta ,n_win=Tsec)\n",
    "\n",
    "    f1_V, psd1_V = __multitaper_psd(st1.select(channel=\"*V\")[0].data, st1[0].stats.delta ,n_win=Tsec)\n",
    "    f2_E, psd2_E = __multitaper_psd(st2.select(channel=\"*E\")[0].data, st2[0].stats.delta ,n_win=Tsec)\n",
    "\n",
    "\n",
    "    fig, ax = plt.subplots(3, 1, figsize=(15, 5), sharex=True)\n",
    "\n",
    "    font = 14\n",
    "\n",
    "    rot_scaling = 1e9\n",
    "\n",
    "    lw = 1\n",
    "\n",
    "    ax[0].plot(f1_Z, psd1_Z, lw=lw, label=\"Z\", color=\"darkred\", ls=\"-\", zorder=3)\n",
    "    ax[0].plot(f2_Z, psd2_Z, lw=lw, label=\"Z\", color=\"black\", zorder=2)\n",
    "\n",
    "    ax[1].plot(f1_U, psd1_U, lw=lw, label=\"U\", color=\"darkred\", ls=\"-\", zorder=3)\n",
    "    ax[1].plot(f2_N, psd2_N, lw=lw, label=\"N\", color=\"black\", zorder=2)\n",
    "\n",
    "    ax[2].plot(f1_V, psd1_V, lw=lw, label=\"V\", color=\"darkred\", ls=\"-\", zorder=3)\n",
    "    ax[2].plot(f2_E, psd2_E, lw=lw, label=\"E\", color=\"black\", zorder=2)\n",
    "\n",
    "\n",
    "    for i in range(3):\n",
    "        ax[i].legend(loc=1, ncols=4)\n",
    "        ax[i].set_xscale(\"log\")\n",
    "        # ax[i].set_yscale(\"log\")\n",
    "        ax[i].grid(which=\"both\", alpha=0.5)\n",
    "        ax[i].set_ylabel(r\"PSD (rad$^2$/s$^2$/Hz)\")\n",
    "        ax[i].set_xlim(2e-2, 2e-1)\n",
    "\n",
    "    ax[2].set_xlabel(\"Frequency (Hz)\")\n",
    "    ax[0].set_title(f\"{config['tbeg'].date} {str(config['tbeg'].time).split('.')[0]} UTC | {config['fmin']}-{config['fmax']} Hz \")\n",
    "\n",
    "    plt.show();\n",
    "    return fig"
   ]
  },
  {
   "cell_type": "code",
   "execution_count": null,
   "id": "85c30f41-05e4-4feb-a03f-2defc0bb599f",
   "metadata": {
    "tags": []
   },
   "outputs": [],
   "source": [
    "fig = __makeplot_spectra_comparison(st_cp, st_rot_cp)"
   ]
  },
  {
   "cell_type": "code",
   "execution_count": null,
   "id": "a4f26e92-a21f-4c32-a082-0df068911d50",
   "metadata": {
    "tags": []
   },
   "outputs": [],
   "source": [
    "fig = __makeplot_waveforms(st_acc_cp, st_rot_cp)"
   ]
  },
  {
   "cell_type": "markdown",
   "id": "41f05a1d-11c6-4d56-94d2-f20bc5ac58c2",
   "metadata": {},
   "source": [
    "## Write Data"
   ]
  },
  {
   "cell_type": "code",
   "execution_count": null,
   "id": "c01c4242-0109-41ab-b7f7-4d3b15419409",
   "metadata": {
    "tags": []
   },
   "outputs": [],
   "source": [
    "st_all = rot_zne.copy();\n",
    "st_all += acc.copy();\n",
    "\n",
    "# st_all = st_all.resample(20, no_filter=False)\n",
    "\n",
    "st_all = st_all.trim(config['tbeg'], config['tend'])\n",
    "\n",
    "st_all.plot(equal_scale=False);\n",
    "\n",
    "# filename = f\"ROMY_{config['event_name']}_{str(config['tbeg'].date).replace('-','')}_{str(config['tbeg'].time).split('.')[0]}_6C.mseed\"\n",
    "filename = f\"ROMY_{config['event_name']}_{str(config['tbeg'].date).replace('-','')}_6C.mseed\"\n",
    "print(f\"-> store: \", config['path_to_outdata']+filename)\n",
    "st_all.write(config['path_to_outdata']+filename, format=\"MSEED\");\n"
   ]
  },
  {
   "cell_type": "code",
   "execution_count": null,
   "id": "ae5cab4e-7471-4899-9598-eafaca812bcb",
   "metadata": {},
   "outputs": [],
   "source": []
  },
  {
   "cell_type": "code",
   "execution_count": null,
   "id": "3f727700-bc39-43ca-9e9e-a4e039d7f0b0",
   "metadata": {},
   "outputs": [],
   "source": []
  }
 ],
 "metadata": {
  "kernelspec": {
   "display_name": "Python 3 (ipykernel)",
   "language": "python",
   "name": "python3"
  },
  "language_info": {
   "codemirror_mode": {
    "name": "ipython",
    "version": 3
   },
   "file_extension": ".py",
   "mimetype": "text/x-python",
   "name": "python",
   "nbconvert_exporter": "python",
   "pygments_lexer": "ipython3",
   "version": "3.10.12"
  },
  "latex_envs": {
   "LaTeX_envs_menu_present": true,
   "autoclose": false,
   "autocomplete": true,
   "bibliofile": "biblio.bib",
   "cite_by": "apalike",
   "current_citInitial": 1,
   "eqLabelWithNumbers": true,
   "eqNumInitial": 1,
   "hotkeys": {
    "equation": "Ctrl-E",
    "itemize": "Ctrl-I"
   },
   "labels_anchors": false,
   "latex_user_defs": false,
   "report_style_numbering": false,
   "user_envs_cfg": false
  },
  "toc": {
   "base_numbering": 1,
   "nav_menu": {},
   "number_sections": true,
   "sideBar": true,
   "skip_h1_title": false,
   "title_cell": "Table of Contents",
   "title_sidebar": "Contents",
   "toc_cell": false,
   "toc_position": {},
   "toc_section_display": true,
   "toc_window_display": false
  },
  "varInspector": {
   "cols": {
    "lenName": 16,
    "lenType": 16,
    "lenVar": 40
   },
   "kernels_config": {
    "python": {
     "delete_cmd_postfix": "",
     "delete_cmd_prefix": "del ",
     "library": "var_list.py",
     "varRefreshCmd": "print(var_dic_list())"
    },
    "r": {
     "delete_cmd_postfix": ") ",
     "delete_cmd_prefix": "rm(",
     "library": "var_list.r",
     "varRefreshCmd": "cat(var_dic_list()) "
    }
   },
   "types_to_exclude": [
    "module",
    "function",
    "builtin_function_or_method",
    "instance",
    "_Feature"
   ],
   "window_display": false
  }
 },
 "nbformat": 4,
 "nbformat_minor": 5
}
