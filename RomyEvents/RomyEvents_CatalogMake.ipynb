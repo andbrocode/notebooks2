{
 "cells": [
  {
   "cell_type": "markdown",
   "id": "09a2fa44",
   "metadata": {},
   "source": [
    "# ROMY Event Catalog"
   ]
  },
  {
   "cell_type": "markdown",
   "id": "5b1c7ac1",
   "metadata": {},
   "source": []
  },
  {
   "cell_type": "code",
   "execution_count": null,
   "id": "ac7ec6a8",
   "metadata": {
    "ExecuteTime": {
     "end_time": "2023-06-30T11:19:38.309887Z",
     "start_time": "2023-06-30T11:19:36.645590Z"
    },
    "tags": []
   },
   "outputs": [],
   "source": [
    "import os\n",
    "import obspy as obs\n",
    "import matplotlib.pyplot as plt\n",
    "import numpy as np\n",
    "import pandas as pd\n",
    "\n",
    "# from andbro__savefig import __savefig\n",
    "from obspy.clients.fdsn import Client"
   ]
  },
  {
   "cell_type": "markdown",
   "id": "2d625638",
   "metadata": {
    "ExecuteTime": {
     "end_time": "2023-01-13T15:42:15.099966Z",
     "start_time": "2023-01-13T15:42:15.096483Z"
    }
   },
   "source": [
    "## Configurations"
   ]
  },
  {
   "cell_type": "code",
   "execution_count": null,
   "id": "4f157a5b",
   "metadata": {
    "ExecuteTime": {
     "end_time": "2023-06-30T11:19:38.314653Z",
     "start_time": "2023-06-30T11:19:38.311182Z"
    },
    "tags": []
   },
   "outputs": [],
   "source": [
    "if os.uname().nodename == 'lighthouse':\n",
    "    root_path = '/home/andbro/'\n",
    "    data_path = '/home/andbro/kilauea-data/'\n",
    "    archive_path = '/home/andbro/freenas/'\n",
    "elif os.uname().nodename == 'kilauea':\n",
    "    root_path = '/home/brotzer/'\n",
    "    data_path = '/import/kilauea-data/'\n",
    "    archive_path = '/import/freenas-ffb-01-data/'"
   ]
  },
  {
   "cell_type": "code",
   "execution_count": null,
   "id": "685a3ddf",
   "metadata": {
    "ExecuteTime": {
     "end_time": "2023-06-30T11:19:38.324269Z",
     "start_time": "2023-06-30T11:19:38.317306Z"
    },
    "tags": []
   },
   "outputs": [],
   "source": [
    "config = {}\n",
    "\n",
    "## ROMY coordinates\n",
    "config['ROMY_lon'] = 11.275501\n",
    "config['ROMY_lat'] = 48.162941\n",
    "\n",
    "## minimal magnitude\n",
    "config['minmagnitude'] = 6.0\n",
    "\n",
    "## first region specified\n",
    "config['minlatitude'] = -90\n",
    "config['maxlatitude'] = 90\n",
    "config['minlongitude'] = -180\n",
    "config['maxlongitude'] = 180\n",
    "\n",
    "config['eventfile'] = \"ROMY_global_catalog\"\n",
    "\n",
    "\n",
    "config['tbeg'] = obs.UTCDateTime(\"2020-01-01\")\n",
    "config['tend'] = obs.UTCDateTime(\"2023-12-31\")\n",
    "\n",
    "\n",
    "config['outpath'] = data_path+\"romy_events/data/catalogs/\"\n",
    "# config['outpath'] = \"./data/\"\n",
    "\n",
    "config['outpath_figs'] = data_path+\"romy_events/figures/\"\n",
    "\n",
    "## adjust eventfile name\n",
    "config['eventfile'] += f\"_{str(config['tbeg'].date).replace('-','')}\"\n",
    "config['eventfile'] += f\"_{str(config['tend'].date).replace('-','')}\"\n",
    "\n",
    "config['str_dates'] = f\"{str(config['tbeg'].date).replace('-','')}_{str(config['tend'].date).replace('-','')}\""
   ]
  },
  {
   "cell_type": "code",
   "execution_count": null,
   "id": "cd80af1b",
   "metadata": {
    "ExecuteTime": {
     "end_time": "2023-06-30T11:19:38.328297Z",
     "start_time": "2023-06-30T11:19:38.325904Z"
    },
    "tags": []
   },
   "outputs": [],
   "source": [
    "from functions.catalog_to_dataframe import __catalog_to_dataframe\n",
    "from functions.add_distances_and_backazimuth import __add_distances_and_backazimuth"
   ]
  },
  {
   "cell_type": "code",
   "execution_count": null,
   "id": "bea21897",
   "metadata": {
    "ExecuteTime": {
     "end_time": "2023-06-30T11:19:38.333720Z",
     "start_time": "2023-06-30T11:19:38.329476Z"
    },
    "code_folding": [
     0
    ],
    "tags": []
   },
   "outputs": [],
   "source": [
    "def __export_new_events(config, events_old, events):\n",
    "    \n",
    "    ## combine new and old catalog\n",
    "    tmp = pd.concat([__cat_to_df(events_old), __cat_to_df(events)]).reset_index(drop=False)\n",
    "    ## remove duplicates\n",
    "    df = tmp.drop_duplicates(subset=['index'], keep=False)\n",
    "    ## sort and set index\n",
    "    df = df.sort_index(ascending=False)\n",
    "    df.set_index('index', inplace=True, drop=True)\n",
    "    \n",
    "    ## export new events to pickle file\n",
    "    print(f\" -> export new events: {config['outpath']}new_events.pkl\")\n",
    "    df.to_pickle(config['outpath']+\"new_events.pkl\")\n",
    "    \n",
    "    del tmp, df  "
   ]
  },
  {
   "cell_type": "code",
   "execution_count": null,
   "id": "70c092ee",
   "metadata": {
    "ExecuteTime": {
     "end_time": "2023-06-30T11:19:38.342438Z",
     "start_time": "2023-06-30T11:19:38.336672Z"
    },
    "code_folding": [
     0
    ],
    "tags": []
   },
   "outputs": [],
   "source": []
  },
  {
   "cell_type": "markdown",
   "id": "fd72f646",
   "metadata": {},
   "source": [
    "## Get Events"
   ]
  },
  {
   "cell_type": "code",
   "execution_count": null,
   "id": "acfd8052",
   "metadata": {
    "ExecuteTime": {
     "end_time": "2023-06-30T11:20:30.164639Z",
     "start_time": "2023-06-30T11:19:38.343519Z"
    },
    "code_folding": [],
    "tags": []
   },
   "outputs": [],
   "source": [
    "client = Client(\"ISC\")\n",
    "\n",
    "## events - all in area and time period\n",
    "events = client.get_events(\n",
    "                           minlatitude=config['minlatitude'], maxlatitude=config['maxlatitude'],\n",
    "                           minlongitude=config['minlongitude'], maxlongitude=config['maxlongitude'],\n",
    "                           minmagnitude=config['minmagnitude'],\n",
    "                           starttime=config['tbeg'], endtime=config['tend'],\n",
    "                           )"
   ]
  },
  {
   "cell_type": "code",
   "execution_count": null,
   "id": "55d95a8d",
   "metadata": {
    "ExecuteTime": {
     "end_time": "2023-06-30T11:20:49.490255Z",
     "start_time": "2023-06-30T11:20:30.166161Z"
    },
    "code_folding": [],
    "tags": []
   },
   "outputs": [],
   "source": [
    "print(f\" -> storing: {config['outpath']}{config['eventfile']}.xml\")\n",
    "events.write(config['outpath']+config['eventfile']+\".xml\", format=\"QUAKEML\")"
   ]
  },
  {
   "cell_type": "markdown",
   "id": "43b98ae3",
   "metadata": {
    "ExecuteTime": {
     "end_time": "2023-06-27T13:14:43.949601Z",
     "start_time": "2023-06-27T13:14:43.946210Z"
    }
   },
   "source": [
    "### converting to dataframe"
   ]
  },
  {
   "cell_type": "code",
   "execution_count": null,
   "id": "dc43c219",
   "metadata": {
    "ExecuteTime": {
     "end_time": "2023-06-30T11:20:49.591989Z",
     "start_time": "2023-06-30T11:20:49.502128Z"
    },
    "tags": []
   },
   "outputs": [],
   "source": [
    "## convert catalog object to data frame\n",
    "events_df = __catalog_to_dataframe(events)\n",
    "\n",
    "events_df = events_df.rename_axis('timestamp').reset_index()\n",
    "events_df['seconds'] = [abs((events_df.timestamp.min()-tt).total_seconds()) for tt in events_df.timestamp]\n",
    "events_df"
   ]
  },
  {
   "cell_type": "markdown",
   "id": "8af88c72",
   "metadata": {
    "ExecuteTime": {
     "end_time": "2023-06-27T13:18:09.796267Z",
     "start_time": "2023-06-27T13:18:09.788645Z"
    }
   },
   "source": [
    "### add distances and backazimuth"
   ]
  },
  {
   "cell_type": "code",
   "execution_count": null,
   "id": "7190b202",
   "metadata": {
    "ExecuteTime": {
     "end_time": "2023-06-30T11:20:51.032667Z",
     "start_time": "2023-06-30T11:20:49.593380Z"
    },
    "tags": []
   },
   "outputs": [],
   "source": [
    "## add epicentral distances\n",
    "__add_distances_and_backazimuth(config, events_df)"
   ]
  },
  {
   "cell_type": "markdown",
   "id": "5421840d",
   "metadata": {},
   "source": [
    "### store catalogs"
   ]
  },
  {
   "cell_type": "code",
   "execution_count": null,
   "id": "43dc4fa7",
   "metadata": {
    "ExecuteTime": {
     "end_time": "2023-06-30T11:20:51.867527Z",
     "start_time": "2023-06-30T11:20:51.035219Z"
    },
    "tags": []
   },
   "outputs": [],
   "source": [
    "## write data frame as pickle file\n",
    "events_df.to_pickle(config['outpath']+config['eventfile']+\".pkl\")"
   ]
  },
  {
   "cell_type": "markdown",
   "id": "da4f2238",
   "metadata": {},
   "source": [
    "## Request Focal Mechanisms"
   ]
  },
  {
   "cell_type": "code",
   "execution_count": null,
   "id": "37d9bda7",
   "metadata": {
    "ExecuteTime": {
     "end_time": "2023-06-30T11:20:52.029118Z",
     "start_time": "2023-06-30T11:20:51.878419Z"
    },
    "tags": []
   },
   "outputs": [],
   "source": [
    "from functions.request_CMT_events import __request_CMT_events\n",
    "\n",
    "# !rm /import/kilauea-data/BSPF/data/catalogs/gcmt_solutions_20221001_20230930.xml\n",
    "\n",
    "__request_CMT_events(starttime=config['tbeg'], endtime=config['tend'], outtype=\"QUAKEML\", outfile=config['outpath']+f\"gcmt_solutions_{config['str_dates']}.xml\")\n",
    "\n",
    "# cgmt = obs.read_events(config['outpath']+'gcmt_solutions_{config['str_dates']}.xml')"
   ]
  },
  {
   "cell_type": "markdown",
   "id": "73c2a6dc",
   "metadata": {},
   "source": [
    "## Plot Event Timeline"
   ]
  },
  {
   "cell_type": "code",
   "execution_count": null,
   "id": "2f474d8a",
   "metadata": {
    "ExecuteTime": {
     "end_time": "2023-06-30T11:20:52.605022Z",
     "start_time": "2023-06-30T11:20:52.597129Z"
    },
    "code_folding": [
     0
    ],
    "tags": []
   },
   "outputs": [],
   "source": [
    "def __plot_timeline(catalog_all_df):\n",
    "\n",
    "    fig, ax = plt.subplots(1, 1, figsize=(15, 5))\n",
    "\n",
    "    cmap = plt.get_cmap('viridis', 7)\n",
    "\n",
    "    cax = ax.scatter(catalog_all_df.timestamp, catalog_all_df.distances_km, s=2**catalog_all_df.magnitude,\n",
    "                     c=catalog_all_df.magnitude, alpha=0.6, cmap=cmap)\n",
    "\n",
    "\n",
    "    cbar = plt.colorbar(cax, ax=ax, pad=0.01)\n",
    "    cbar.set_label(\"Magnitude\", fontsize=14)\n",
    "    cax.set_clim(6, 9.5)\n",
    "\n",
    "    ax.set_ylim(bottom=0)\n",
    "    ax.set_ylabel(\"Distance (km)\", fontsize=14)\n",
    "\n",
    "    ax.grid(ls=\":\", zorder=-1)\n",
    "\n",
    "#     ax.set_xlim(events_all_df.timestamp.min().date(), events_all_df.timestamp.max().date())\n",
    "    ax.set_xlim(config['tbeg']-4*86400, config['tend']+4*86400)\n",
    "\n",
    "#     ax.set_title(f\"Events={len(catalog_df)}\")\n",
    "    ax.text(config['tend']-140*86400, catalog_all_df.distances_km.max(), f\"Events={len(catalog_all_df)}\")\n",
    "\n",
    "    plt.show();\n",
    "    return fig"
   ]
  },
  {
   "cell_type": "code",
   "execution_count": null,
   "id": "b864ba5d",
   "metadata": {
    "ExecuteTime": {
     "end_time": "2023-06-30T11:20:52.895883Z",
     "start_time": "2023-06-30T11:20:52.606915Z"
    },
    "tags": []
   },
   "outputs": [],
   "source": [
    "fig = __plot_timeline(events_df)\n",
    "\n",
    "# fig.savefig(config['outpath_figs']+f\"Plot_timeline_{config['eventfile']}_{config['str_dates']}.png\", dpi=200, bbox_inches=\"tight\", pad_inches=0.05)\n"
   ]
  },
  {
   "cell_type": "code",
   "execution_count": null,
   "id": "cd237140",
   "metadata": {
    "ExecuteTime": {
     "end_time": "2023-06-30T11:20:54.422249Z",
     "start_time": "2023-06-30T11:20:52.897118Z"
    },
    "tags": []
   },
   "outputs": [],
   "source": []
  },
  {
   "cell_type": "code",
   "execution_count": null,
   "id": "d3bf7d50",
   "metadata": {},
   "outputs": [],
   "source": []
  }
 ],
 "metadata": {
  "kernelspec": {
   "display_name": "Python 3 (ipykernel)",
   "language": "python",
   "name": "python3"
  },
  "language_info": {
   "codemirror_mode": {
    "name": "ipython",
    "version": 3
   },
   "file_extension": ".py",
   "mimetype": "text/x-python",
   "name": "python",
   "nbconvert_exporter": "python",
   "pygments_lexer": "ipython3",
   "version": "3.10.12"
  },
  "latex_envs": {
   "LaTeX_envs_menu_present": true,
   "autoclose": true,
   "autocomplete": true,
   "bibliofile": "biblio.bib",
   "cite_by": "apalike",
   "current_citInitial": 1,
   "eqLabelWithNumbers": true,
   "eqNumInitial": 1,
   "hotkeys": {
    "equation": "Ctrl-E",
    "itemize": "Ctrl-I"
   },
   "labels_anchors": false,
   "latex_user_defs": false,
   "report_style_numbering": false,
   "user_envs_cfg": false
  },
  "toc": {
   "base_numbering": 1,
   "nav_menu": {},
   "number_sections": true,
   "sideBar": true,
   "skip_h1_title": false,
   "title_cell": "Table of Contents",
   "title_sidebar": "Contents",
   "toc_cell": false,
   "toc_position": {},
   "toc_section_display": true,
   "toc_window_display": false
  },
  "varInspector": {
   "cols": {
    "lenName": 16,
    "lenType": 16,
    "lenVar": 40
   },
   "kernels_config": {
    "python": {
     "delete_cmd_postfix": "",
     "delete_cmd_prefix": "del ",
     "library": "var_list.py",
     "varRefreshCmd": "print(var_dic_list())"
    },
    "r": {
     "delete_cmd_postfix": ") ",
     "delete_cmd_prefix": "rm(",
     "library": "var_list.r",
     "varRefreshCmd": "cat(var_dic_list()) "
    }
   },
   "types_to_exclude": [
    "module",
    "function",
    "builtin_function_or_method",
    "instance",
    "_Feature"
   ],
   "window_display": false
  }
 },
 "nbformat": 4,
 "nbformat_minor": 5
}
