{
 "cells": [
  {
   "cell_type": "markdown",
   "metadata": {},
   "source": [
    "### importing libraries"
   ]
  },
  {
   "cell_type": "code",
   "execution_count": 1,
   "metadata": {
    "ExecuteTime": {
     "end_time": "2022-08-16T11:59:42.248855Z",
     "start_time": "2022-08-16T11:59:40.796334Z"
    },
    "scrolled": true
   },
   "outputs": [
    {
     "name": "stdout",
     "output_type": "stream",
     "text": [
      " importing libraries ... \n"
     ]
    }
   ],
   "source": [
    "print(\" importing libraries ... \")\n",
    "\n",
    "import numpy as np\n",
    "import matplotlib.pyplot as plt \n",
    "import obspy \n",
    "\n",
    "\n",
    "from andbro__save_to import __save_to\n"
   ]
  },
  {
   "cell_type": "markdown",
   "metadata": {},
   "source": [
    "### configurations"
   ]
  },
  {
   "cell_type": "code",
   "execution_count": 2,
   "metadata": {
    "ExecuteTime": {
     "end_time": "2022-08-16T11:59:42.254575Z",
     "start_time": "2022-08-16T11:59:42.249934Z"
    }
   },
   "outputs": [
    {
     "name": "stdout",
     "output_type": "stream",
     "text": [
      " initializing general settings ... \n"
     ]
    }
   ],
   "source": [
    "##________________________________________________________\n",
    "print(\" initializing general settings ... \")\n",
    "\n",
    "plt.style.use('default') # print(plt.style.available)   \n",
    "\n",
    "%matplotlib inline"
   ]
  },
  {
   "cell_type": "markdown",
   "metadata": {},
   "source": [
    "### setting variables"
   ]
  },
  {
   "cell_type": "code",
   "execution_count": 3,
   "metadata": {
    "ExecuteTime": {
     "end_time": "2022-08-16T11:59:42.462175Z",
     "start_time": "2022-08-16T11:59:42.450337Z"
    }
   },
   "outputs": [
    {
     "name": "stdout",
     "output_type": "stream",
     "text": [
      " setting variables ... \n"
     ]
    }
   ],
   "source": [
    "##________________________________________________________\n",
    "print(\" setting variables ... \")\n",
    "\n",
    "#ipath = '/home/brotzer/'\n",
    "#ifile = ''\n",
    "\n",
    "opath = '/home/brotzer/Desktop/'\n",
    "ofile = 'test.txt'\n",
    "\n",
    "\n",
    "#tstart = obspy.UTCDateTime(\"2020-10-19 20:30\")\n",
    "tstart = obspy.UTCDateTime(\"2019-05-14 13:30\")\n",
    "\n",
    "tdelta = 15 # minutes\n",
    "\n",
    "\n",
    "tdelta *= 60\n"
   ]
  },
  {
   "cell_type": "markdown",
   "metadata": {},
   "source": [
    "### defining methods"
   ]
  },
  {
   "cell_type": "code",
   "execution_count": 4,
   "metadata": {
    "ExecuteTime": {
     "end_time": "2022-08-16T11:59:43.223802Z",
     "start_time": "2022-08-16T11:59:43.201866Z"
    },
    "code_folding": [
     1
    ]
   },
   "outputs": [],
   "source": [
    "\n",
    "def __archive_request(seed_id, tstart, tdelta, raw=None):\n",
    "    \n",
    "    ''' get data of ROMY for one component from archive \n",
    "\n",
    "    VARIABLES:\n",
    "        seed_id:    code of seismic stations (e.g. \"BW.ROMY..BJU\")\n",
    "        tstart:\t    begin of time period\n",
    "        tdelta:     temporal length of period\n",
    "\n",
    "    DEPENDENCIES:\n",
    "        import obspy\n",
    "\n",
    "    EXAMPLE:\n",
    "        >>> __get_stream_data_archive('BW.ROMY.10.BJZ', '2020-07-17 02:50', 3600, raw=False)\n",
    "\n",
    "    '''\n",
    "    from obspy.clients.fdsn import Client\n",
    "\n",
    "    print(\" requesting data from archive...\")\n",
    "\n",
    "    net, sta, loc, cha = seed_id.split(\".\")\n",
    "    \n",
    "    ## defining parameters\n",
    "    year = tstart.year\n",
    "    doy  = tstart.julday\n",
    "    tend = tstart + tdelta\n",
    "    \n",
    "    ## define station depending if raw is set or not\n",
    "#     sta = sta if raw is None else f\"D{sta}\"\n",
    "\n",
    "    ## define local data path\n",
    "    pathroot = \"/import/freenas-ffb-01-data/romy_archive/\"\n",
    "\n",
    "    ## __________________________________________________________________________\n",
    "    \n",
    "    try:\n",
    "        route = obspy.clients.fdsn.RoutingClient(\"eida-routing\")\n",
    "        inv   = client.get_stations(network=net, station=sta, level=\"response\")\n",
    "        print(\"  --> inventory was obtained\"); obtained_inventory=True\n",
    "\n",
    "    except:\n",
    "        print(\"  --> inventory could not be obtained...\"); obtained_inventory=False\n",
    "    \n",
    "    ## -------------------------- ##\n",
    "    if raw is None:\n",
    "        ## recreate file structure of archive\n",
    "        path = f\"{pathroot}{year}/{net}/{sta}/{cha}.D/\"\n",
    "        name = f\"{net}.{sta}.{loc}.{cha}.D.{year}.{doy}\"\n",
    "        ## get stream data\n",
    "        st = obspy.read(path+name, starttime=tstart, endtime= tend)\n",
    "        \n",
    "        if obtained_inventory:\n",
    "            print(\"  --> trend and response is being removed...\")\n",
    "            return st.detrend(\"linear\").remove_response(inventory=inv) \n",
    "        else:\n",
    "            return st   \n",
    "\n",
    "    ## -------------------------- ##\n",
    "    elif raw is True: \n",
    "        if sta == \"ROMY\":\n",
    "            ## recreate file structure of archive\n",
    "            path = f\"{pathroot}{year}/{net}/DROMY/FJ{cha[2]}.D/\"\n",
    "            name = f\"{net}.D{sta}..F{cha[1:3]}.D.{year}.{doy}\"\n",
    "            ## get stream data\n",
    "            st = obspy.read(path+name, starttime=tstart, endtime= tend)\n",
    "            return st\n",
    "        else:\n",
    "            print(\"  --> something went wrong! perhaps with seed_id?\")\n"
   ]
  },
  {
   "cell_type": "code",
   "execution_count": 5,
   "metadata": {
    "ExecuteTime": {
     "end_time": "2022-08-16T11:59:44.015670Z",
     "start_time": "2022-08-16T11:59:43.993380Z"
    },
    "code_folding": [
     1
    ]
   },
   "outputs": [],
   "source": [
    "\n",
    "def __makeplot_raw_data(bjz, bjz2, bjz3):\n",
    "\n",
    "    fig, axes = plt.subplots(4,1, figsize=(10, 6))\n",
    "\n",
    "    fig.subplots_adjust( hspace=0.8)\n",
    "\n",
    "    dt=bjz[0].stats.delta\n",
    "\n",
    "    cut1=15000\n",
    "    cut2=cut1+150\n",
    "    axes[0].plot(bjz[0].times()[cut1:cut2]*1000, bjz[0][cut1:cut2], color=\"black\")\n",
    "    axes[0].scatter(bjz[0].times()[cut1:cut2]*1000, bjz[0][cut1:cut2], color=\"red\", zorder=3, s=8)\n",
    "\n",
    "\n",
    "    axes[1].plot(bjz[0].times()/60, bjz[0], color=\"black\")\n",
    "    axes[1].plot([dt*cut1, dt*cut1], [min(bjz[0].data), max(bjz[0].data)], color=\"darkred\")\n",
    "    axes[1].plot([dt*cut2, dt*cut2], [min(bjz[0].data), max(bjz[0].data)], color=\"red\")\n",
    "\n",
    "\n",
    "    axes[2].plot(bjz2[0].times()/60, bjz2[0], color=\"black\")\n",
    "\n",
    "\n",
    "    axes[3].plot(bjz3[0].times()/60, bjz3[0], color=\"black\")\n",
    "\n",
    "\n",
    "\n",
    "    font=12\n",
    "    axes[0].set_ylabel(\"counts\", fontsize=font)\n",
    "    axes[1].set_ylabel(\"counts\", fontsize=font)\n",
    "    axes[2].set_ylabel(\"rotation rate \\n rad/s\", fontsize=font)\n",
    "    axes[3].set_ylabel(\"rotation rate \\n rad/s\", fontsize=font)\n",
    "    axes[0].set_xlabel(\"Time (ms)\", fontsize=font)\n",
    "    axes[3].set_xlabel(\"Time (min)\", fontsize=font)\n",
    "\n",
    "    axes[2].set_ylim([-5.3e-8, 5.3e-8])\n",
    "    axes[3].set_ylim([-1e-9, 1e-9])\n",
    "\n",
    "\n",
    "\n",
    "\n",
    "    plt.show();\n",
    "    return fig\n"
   ]
  },
  {
   "cell_type": "markdown",
   "metadata": {},
   "source": [
    "### getting data"
   ]
  },
  {
   "cell_type": "code",
   "execution_count": 6,
   "metadata": {
    "ExecuteTime": {
     "end_time": "2022-08-16T12:00:05.527351Z",
     "start_time": "2022-08-16T11:59:44.834846Z"
    }
   },
   "outputs": [
    {
     "name": "stdout",
     "output_type": "stream",
     "text": [
      " requesting data from archive...\n",
      "  --> inventory could not be obtained...\n",
      " requesting data from archive...\n",
      "  --> inventory could not be obtained...\n"
     ]
    }
   ],
   "source": [
    "      \n",
    "bjz = __archive_request(\"BW.ROMY.10.BJZ\", tstart, tdelta, raw=True)\n",
    "\n",
    "bjz2 = __archive_request(\"BW.ROMY.10.BJZ\", tstart, tdelta, raw=None)\n",
    "\n",
    "bjz3=bjz2.copy()\n"
   ]
  },
  {
   "cell_type": "markdown",
   "metadata": {},
   "source": [
    "### processing"
   ]
  },
  {
   "cell_type": "code",
   "execution_count": 7,
   "metadata": {
    "ExecuteTime": {
     "end_time": "2022-08-16T12:00:05.647319Z",
     "start_time": "2022-08-16T12:00:05.528387Z"
    }
   },
   "outputs": [
    {
     "data": {
      "text/plain": [
       "1 Trace(s) in Stream:\n",
       "BW.ROMY.10.BJZ | 2019-05-14T13:30:00.010599Z - 2019-05-14T13:45:00.010599Z | 20.0 Hz, 18001 samples"
      ]
     },
     "execution_count": 7,
     "metadata": {},
     "output_type": "execute_result"
    },
    {
     "data": {
      "text/plain": [
       "1 Trace(s) in Stream:\n",
       "BW.ROMY.10.BJZ | 2019-05-14T13:30:00.010599Z - 2019-05-14T13:45:00.010599Z | 20.0 Hz, 18001 samples"
      ]
     },
     "execution_count": 7,
     "metadata": {},
     "output_type": "execute_result"
    }
   ],
   "source": [
    "\n",
    "bjz3.detrend('simple')\n",
    "\n",
    "bjz3.filter('bandpass', freqmin=.001, freqmax=0.1, corners=2, zerophase=True)\n"
   ]
  },
  {
   "cell_type": "markdown",
   "metadata": {},
   "source": [
    "### plotting"
   ]
  },
  {
   "cell_type": "code",
   "execution_count": 8,
   "metadata": {
    "ExecuteTime": {
     "end_time": "2022-08-16T12:00:07.995717Z",
     "start_time": "2022-08-16T12:00:05.648701Z"
    },
    "code_folding": [
     0
    ]
   },
   "outputs": [
    {
     "data": {
      "image/png": "[encoded data removed]",
      "text/plain": [
       "<Figure size 720x432 with 4 Axes>"
      ]
     },
     "metadata": {
      "needs_background": "light"
     },
     "output_type": "display_data"
    }
   ],
   "source": [
    "fig = __makeplot_raw_data(bjz, bjz2, bjz3)"
   ]
  },
  {
   "cell_type": "markdown",
   "metadata": {},
   "source": [
    "### saving"
   ]
  },
  {
   "cell_type": "code",
   "execution_count": null,
   "metadata": {
    "ExecuteTime": {
     "start_time": "2022-08-16T11:59:49.150Z"
    }
   },
   "outputs": [],
   "source": [
    "from andbro__save_to import __save_to\n",
    "\n",
    "__save_to(fig)"
   ]
  },
  {
   "cell_type": "code",
   "execution_count": null,
   "metadata": {},
   "outputs": [],
   "source": []
  }
 ],
 "metadata": {
  "kernelspec": {
   "display_name": "Python 3 (ipykernel)",
   "language": "python",
   "name": "python3"
  },
  "language_info": {
   "codemirror_mode": {
    "name": "ipython",
    "version": 3
   },
   "file_extension": ".py",
   "mimetype": "text/x-python",
   "name": "python",
   "nbconvert_exporter": "python",
   "pygments_lexer": "ipython3",
   "version": "3.10.12"
  }
 },
 "nbformat": 4,
 "nbformat_minor": 4
}
