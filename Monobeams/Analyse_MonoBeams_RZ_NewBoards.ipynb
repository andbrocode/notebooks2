{
 "cells": [
  {
   "cell_type": "markdown",
   "id": "1e17d705",
   "metadata": {},
   "source": [
    "## Analysis of MonoBeams of Z-Ring"
   ]
  },
  {
   "cell_type": "markdown",
   "id": "f0e3eee2",
   "metadata": {},
   "source": [
    "New Boars of Jan are tested for monobeam recording"
   ]
  },
  {
   "cell_type": "markdown",
   "id": "0e450631",
   "metadata": {},
   "source": [
    "### Imports"
   ]
  },
  {
   "cell_type": "code",
   "execution_count": 1,
   "id": "57bf631e",
   "metadata": {
    "ExecuteTime": {
     "end_time": "2023-03-29T16:24:10.960343Z",
     "start_time": "2023-03-29T16:24:10.277063Z"
    }
   },
   "outputs": [],
   "source": [
    "import os\n",
    "import pandas as pd\n",
    "import numpy as np\n",
    "import obspy as obs\n",
    "import matplotlib.pyplot as plt\n",
    "\n",
    "from obspy.signal import PPSD\n",
    "from andbro__querrySeismoData import __querrySeismoData"
   ]
  },
  {
   "cell_type": "code",
   "execution_count": 2,
   "id": "36eb825f",
   "metadata": {
    "ExecuteTime": {
     "end_time": "2023-03-29T16:24:11.010767Z",
     "start_time": "2023-03-29T16:24:11.006244Z"
    }
   },
   "outputs": [],
   "source": [
    "if os.uname().nodename == 'lighthouse':\n",
    "    root_path = '/home/andbro/'\n",
    "    data_path = '/home/andbro/kilauea-data/'\n",
    "    archive_path = '/home/andbro/freenas/'\n",
    "elif os.uname().nodename == 'kilauea':\n",
    "    root_path = '/home/brotzer/'\n",
    "    data_path = '/import/kilauea-data/'\n",
    "    archive_path = '/import/freenas-ffb-01-data/'"
   ]
  },
  {
   "cell_type": "code",
   "execution_count": 3,
   "id": "29f1e982",
   "metadata": {
    "ExecuteTime": {
     "end_time": "2023-03-29T16:24:11.059623Z",
     "start_time": "2023-03-29T16:24:11.055294Z"
    },
    "code_folding": [
     0
    ]
   },
   "outputs": [],
   "source": [
    "def __get_inventory_from_client(config):\n",
    "\n",
    "    from obspy.clients.fdsn import Client\n",
    "\n",
    "    cli = Client(base_url=config['client'], timeout=100)\n",
    "\n",
    "    try:\n",
    "        inv = cli.get_stations(network=config['seed'].split(\".\")[0],\n",
    "                               station=config['seed'].split(\".\")[1],\n",
    "                               location=config['seed'].split(\".\")[2],\n",
    "                               channel='*',\n",
    "                               starttime=tbeg,\n",
    "                               endtime=tend,\n",
    "                               level=\"response\")\n",
    "    except:\n",
    "        print(f\"ERROR: failed to load inventory for {config['seed'].split('.')[1]}!\")\n",
    "\n",
    "    return inv"
   ]
  },
  {
   "cell_type": "markdown",
   "id": "1288376d",
   "metadata": {},
   "source": [
    "### Configurations"
   ]
  },
  {
   "cell_type": "code",
   "execution_count": 4,
   "id": "af0f5cb7",
   "metadata": {
    "ExecuteTime": {
     "end_time": "2023-03-29T16:24:12.652042Z",
     "start_time": "2023-03-29T16:24:12.644881Z"
    }
   },
   "outputs": [],
   "source": [
    "config = {}\n",
    "\n",
    "config['seeds'] = [\"BW.DROMY..F1V\", \"BW.DROMY..F2V\", \"BW.DROMY..F3V\",\n",
    "                   \"BW.DROMY..F4V\", \"BW.DROMY..F5V\", \"BW.DROMY..F6V\",\n",
    "                   \"BW.DROMY..FJZ\"]\n",
    "\n",
    "## After running both mono beam boards. Random time selection\n",
    "config['tbeg'] = obs.UTCDateTime(\"2023-03-23 01:00\")\n",
    "config['tend'] = obs.UTCDateTime(\"2023-03-23 01:30\")\n",
    "\n",
    "config['repo'] = \"archive\"\n",
    "config['repository'] = archive_path+\"romy_archive/\""
   ]
  },
  {
   "cell_type": "code",
   "execution_count": null,
   "id": "425e0c11",
   "metadata": {
    "ExecuteTime": {
     "start_time": "2023-03-29T16:25:30.334Z"
    }
   },
   "outputs": [],
   "source": []
  },
  {
   "cell_type": "code",
   "execution_count": null,
   "id": "2a283779",
   "metadata": {
    "ExecuteTime": {
     "end_time": "2023-03-29T16:52:52.371987Z",
     "start_time": "2023-03-29T16:33:26.001Z"
    },
    "code_folding": [
     0
    ]
   },
   "outputs": [],
   "source": [
    "def __read_sds(path_to_archive, seed, tbeg, tend, data_format=\"MSEED\"):\n",
    "    \n",
    "    from obspy.core import UTCDateTime\n",
    "    from obspy.clients.filesystem.sds import Client\n",
    "    \n",
    "    tbeg, tend = UTCDateTime(tbeg), UTCDateTime(tend)\n",
    "    \n",
    "    ## separate seed id\n",
    "    net, sta, loc, cha = seed.split(\".\")\n",
    "    \n",
    "    ## define SDS client\n",
    "    client = Client(path_to_archive, sds_type='D', format=data_format)\n",
    "        \n",
    "    ## read waveforms\n",
    "    st = client.get_waveforms(net, sta, loc, cha, tbeg, tend, merge=-1)\n",
    "\n",
    "    return st\n",
    "\n",
    "__read_sds(config['repository'], \"BW.ROMY.10.BJZ\", config['tbeg'], config['tbeg']+100)"
   ]
  },
  {
   "cell_type": "markdown",
   "id": "33075fc1",
   "metadata": {},
   "source": [
    "### Load Data"
   ]
  },
  {
   "cell_type": "code",
   "execution_count": null,
   "id": "3200f85d",
   "metadata": {
    "ExecuteTime": {
     "end_time": "2023-03-29T15:43:43.699191Z",
     "start_time": "2023-03-29T15:43:43.690318Z"
    }
   },
   "outputs": [],
   "source": [
    "st0 = obs.Stream()\n",
    "for seed in config['seeds']:\n",
    "\n",
    "    print(f\" -> loading {seed}...\")\n",
    "    \n",
    "#     st00, inv = __querrySeismoData(\n",
    "#                                 seed_id=seed,\n",
    "#                                 starttime=config.get(\"tbeg\"),\n",
    "#                                 endtime=config.get(\"tend\"),\n",
    "#                                 repository=config.get(\"repo\"),\n",
    "#                                 path=None,\n",
    "#                                 restitute=False,\n",
    "#                                 detail=True,\n",
    "#                                 fill_value=None,\n",
    "#                                 )\n",
    "    \n",
    "    st00 = __read_sds(config['repositroy'], \"BW.DROMY..FJZ\", config['tbeg'], config['tbeg']+100)\n",
    "    \n",
    "    st0 += st00\n",
    "\n",
    "st0 = st0.sort()\n",
    "    \n",
    "st0.plot(equal_scale=False);"
   ]
  },
  {
   "cell_type": "markdown",
   "id": "619ed1fd",
   "metadata": {},
   "source": [
    "## Modify Data"
   ]
  },
  {
   "cell_type": "code",
   "execution_count": null,
   "id": "c8199499",
   "metadata": {
    "ExecuteTime": {
     "end_time": "2023-03-28T08:06:57.212982Z",
     "start_time": "2023-03-28T08:06:57.151330Z"
    }
   },
   "outputs": [],
   "source": [
    "st = st0.copy()\n",
    "st = st.sort(['channel'])"
   ]
  },
  {
   "cell_type": "markdown",
   "id": "c1970c33",
   "metadata": {},
   "source": [
    "### convert from counts to volts: 0.59604645ug  from obsidian"
   ]
  },
  {
   "cell_type": "code",
   "execution_count": null,
   "id": "a3967ab5",
   "metadata": {
    "ExecuteTime": {
     "end_time": "2023-03-28T08:06:57.605908Z",
     "start_time": "2023-03-28T08:06:57.509749Z"
    }
   },
   "outputs": [],
   "source": [
    "for tr in st:\n",
    "    tr.data = tr.data*0.59604645e-6 # V / count  [0.59604645ug  from obsidian]"
   ]
  },
  {
   "cell_type": "code",
   "execution_count": null,
   "id": "4e03d24f",
   "metadata": {
    "ExecuteTime": {
     "end_time": "2023-03-28T08:06:58.664430Z",
     "start_time": "2023-03-28T08:06:57.670317Z"
    }
   },
   "outputs": [],
   "source": [
    "st.copy().sort().trim(config['tbeg'], config['tbeg']+0.5).plot(equal_scale=False);"
   ]
  },
  {
   "cell_type": "markdown",
   "id": "73ec34bb",
   "metadata": {
    "ExecuteTime": {
     "end_time": "2023-03-27T11:42:41.417915Z",
     "start_time": "2023-03-27T11:42:41.416366Z"
    }
   },
   "source": [
    "### Plot FFT"
   ]
  },
  {
   "cell_type": "code",
   "execution_count": null,
   "id": "f717c9f7",
   "metadata": {
    "ExecuteTime": {
     "end_time": "2023-03-28T08:06:58.668692Z",
     "start_time": "2023-03-28T08:06:58.665556Z"
    },
    "code_folding": [
     0
    ]
   },
   "outputs": [],
   "source": [
    "def __compute_fft_stream(st):\n",
    "    \n",
    "    from andbro__fft import __fft\n",
    "    from numpy import array\n",
    "    \n",
    "    ffts, freqs, chas = [], [], []\n",
    "\n",
    "#     st.detrend('demean')\n",
    "\n",
    "    for i, tr in enumerate(st):\n",
    "\n",
    "        spectrum, frequencies, phase = __fft(tr.data, tr.stats.delta, window='hanning', normalize=False)\n",
    "        \n",
    "        ffts.append(spectrum)\n",
    "        freqs.append(frequencies)\n",
    "        chas.append(tr.stats.channel)\n",
    "        \n",
    "    return array(ffts), array(freqs), array(chas)"
   ]
  },
  {
   "cell_type": "code",
   "execution_count": null,
   "id": "0332d1c0",
   "metadata": {
    "ExecuteTime": {
     "end_time": "2023-03-28T08:07:11.387773Z",
     "start_time": "2023-03-28T08:06:58.669750Z"
    }
   },
   "outputs": [],
   "source": [
    "ffts, freqs, chas = __compute_fft_stream(st)"
   ]
  },
  {
   "cell_type": "code",
   "execution_count": null,
   "id": "63cdc59b",
   "metadata": {
    "ExecuteTime": {
     "end_time": "2023-03-28T08:10:58.197936Z",
     "start_time": "2023-03-28T08:10:54.315067Z"
    },
    "code_folding": []
   },
   "outputs": [],
   "source": [
    "plt.figure(figsize=(15,10))\n",
    "\n",
    "for f, fft, cha in zip(freqs, ffts, chas):\n",
    "\n",
    "    if cha == \"FJZ\":\n",
    "        plt.plot(f, fft, label=cha, zorder=-1)\n",
    "    else:\n",
    "        plt.plot(f, fft, label=cha)\n",
    "    \n",
    "    plt.xscale(\"log\")\n",
    "    plt.yscale(\"log\")\n",
    "\n",
    "    plt.xlim(540, 560)\n",
    "    \n",
    "    plt.legend(loc=1)\n",
    "    \n",
    "plt.show();"
   ]
  },
  {
   "cell_type": "markdown",
   "id": "e45471e3",
   "metadata": {},
   "source": [
    "### Plot PSD"
   ]
  },
  {
   "cell_type": "code",
   "execution_count": null,
   "id": "0879c46e",
   "metadata": {
    "ExecuteTime": {
     "end_time": "2023-03-28T08:07:15.569799Z",
     "start_time": "2023-03-28T08:07:15.476550Z"
    },
    "code_folding": [
     0
    ]
   },
   "outputs": [],
   "source": [
    "def __makeplot_stream_PSD(st, config):\n",
    "\n",
    "    from scipy import fftpack\n",
    "    from numpy import abs\n",
    "    from scipy.signal import welch, hann\n",
    "    import matplotlib.pyplot as plt\n",
    "\n",
    "\n",
    "    nblock =  4096*100\n",
    "    overlap = int(0.5*nblock)\n",
    "    \n",
    "    print(f\" -> nseg = {nblock} | overlap = {overlap}\")\n",
    "    \n",
    "    win = hann(nblock, True)\n",
    "\n",
    "    \n",
    "    fig, axes = plt.subplots(len(st),2,figsize=(15,10), sharex='col')\n",
    "\n",
    "    plt.subplots_adjust(hspace=0.3)\n",
    "\n",
    "    ## _______________________________________________\n",
    "\n",
    "    st.sort(keys=['channel'], reverse=True)\n",
    "    \n",
    "    for i, tr in enumerate(st):\n",
    "\n",
    "        ff, Pxx = welch(tr.data, fs=tr.stats.sampling_rate, \n",
    "                        window=win, noverlap=overlap, nfft=nblock,\n",
    "                        scaling=\"density\",\n",
    "                        return_onesided=True)\n",
    "\n",
    "        ## _________________________________________________________________\n",
    "        axes[i,0].plot(\n",
    "                    tr.times(),\n",
    "                    tr.data,\n",
    "                    color='black',\n",
    "                    label='{} {}'.format(tr.stats.station, tr.stats.channel),\n",
    "                    lw=1.0,\n",
    "                    )\n",
    "\n",
    "\n",
    "        ## _________________________________________________________________\n",
    "        axes[i,1].loglog(\n",
    "                    ff,\n",
    "                    Pxx,\n",
    "                    color='black',\n",
    "                    lw=1.0,\n",
    "                    )\n",
    "        axes[i,1].set_ylim(min(Pxx[10:]), max(Pxx[10:]))\n",
    "        \n",
    "        axes[i,0].set_ylabel(r'U (volt)')    \n",
    "        axes[i,1].set_ylabel(r'PSD (volt$^2$/Hz)')        \n",
    "#         axes[i,0].legend(loc='upper left',bbox_to_anchor=(0.8, 1.10), framealpha=.8)\n",
    "        axes[i,0].legend(loc='upper left', framealpha=.8)\n",
    "        \n",
    "#         axes[i,0].ticklabel_format(axis='y', style='sci', scilimits=(0,0))\n",
    "#         axes[i,1].ticklabel_format(axis='y', style='sci', scilimits=(0,0))    \n",
    "\n",
    "        axes[i,1].set_xlim(530, 570)\n",
    "    \n",
    "    plt.show();\n",
    "    return fig"
   ]
  },
  {
   "cell_type": "code",
   "execution_count": null,
   "id": "b67308fb",
   "metadata": {
    "ExecuteTime": {
     "end_time": "2023-03-28T08:07:24.972145Z",
     "start_time": "2023-03-28T08:07:15.570673Z"
    }
   },
   "outputs": [],
   "source": [
    "__makeplot_stream_PSD(st, config);"
   ]
  },
  {
   "cell_type": "code",
   "execution_count": null,
   "id": "a46b6e31",
   "metadata": {},
   "outputs": [],
   "source": []
  },
  {
   "cell_type": "markdown",
   "id": "87d29420",
   "metadata": {},
   "source": [
    "### Processing"
   ]
  },
  {
   "cell_type": "code",
   "execution_count": null,
   "id": "59a02ac5",
   "metadata": {
    "ExecuteTime": {
     "end_time": "2023-03-28T08:13:37.128313Z",
     "start_time": "2023-03-28T08:13:34.242115Z"
    }
   },
   "outputs": [],
   "source": [
    "st_pro = st.copy()\n",
    "\n",
    "st_pro.detrend('simple')\n",
    "\n",
    "st_pro.taper(0.1)\n",
    "\n",
    "fmin, fmax = 551, 555\n",
    "\n",
    "st_pro.filter('bandpass', freqmin=fmin, freqmax=fmax, corners=4, zerophase=True)\n",
    "\n",
    "# st_pro.filter('lowpass', freq=fmax, corners=8, zerophase=True)\n",
    "# st_pro.filter('highpass', freq=fmin, corners=4, zerophase=True)\n",
    "# st_pro.filter('bandstop', freqmin=0.05, freqmax=0.08, corners=4)\n",
    "\n",
    "st_pro.trim(config['tbeg']+1000, config['tbeg']+1000.1).plot(equal_scale=False);"
   ]
  },
  {
   "cell_type": "code",
   "execution_count": null,
   "id": "aeb7cd97",
   "metadata": {
    "ExecuteTime": {
     "end_time": "2023-03-28T08:03:30.913088Z",
     "start_time": "2023-03-28T08:03:17.493674Z"
    }
   },
   "outputs": [],
   "source": [
    "ffts, freqs, chas = __compute_fft_stream(st_pro)"
   ]
  },
  {
   "cell_type": "code",
   "execution_count": null,
   "id": "e38de36e",
   "metadata": {
    "ExecuteTime": {
     "end_time": "2023-03-28T08:03:34.848946Z",
     "start_time": "2023-03-28T08:03:30.914130Z"
    }
   },
   "outputs": [],
   "source": [
    "plt.figure(figsize=(15,10))\n",
    "\n",
    "for f, fft, cha in zip(freqs, ffts, chas):\n",
    "    plt.plot(f, fft, label=cha)\n",
    "    \n",
    "    plt.xscale(\"log\")\n",
    "    plt.yscale(\"log\")\n",
    "\n",
    "    plt.xlim(540, 560)\n",
    "    \n",
    "    plt.ylim(1e-10, 1e-1)\n",
    "    \n",
    "    plt.legend(loc=1)\n",
    "    \n",
    "plt.show();"
   ]
  },
  {
   "cell_type": "code",
   "execution_count": null,
   "id": "8e82e32c",
   "metadata": {},
   "outputs": [],
   "source": []
  },
  {
   "cell_type": "code",
   "execution_count": null,
   "id": "ba0c7f25",
   "metadata": {},
   "outputs": [],
   "source": []
  }
 ],
 "metadata": {
  "kernelspec": {
   "display_name": "Python 3",
   "language": "python",
   "name": "python3"
  },
  "language_info": {
   "codemirror_mode": {
    "name": "ipython",
    "version": 3
   },
   "file_extension": ".py",
   "mimetype": "text/x-python",
   "name": "python",
   "nbconvert_exporter": "python",
   "pygments_lexer": "ipython3",
   "version": "3.7.8"
  },
  "latex_envs": {
   "LaTeX_envs_menu_present": true,
   "autoclose": true,
   "autocomplete": true,
   "bibliofile": "biblio.bib",
   "cite_by": "apalike",
   "current_citInitial": 1,
   "eqLabelWithNumbers": true,
   "eqNumInitial": 1,
   "hotkeys": {
    "equation": "Ctrl-E",
    "itemize": "Ctrl-I"
   },
   "labels_anchors": false,
   "latex_user_defs": false,
   "report_style_numbering": false,
   "user_envs_cfg": false
  },
  "toc": {
   "base_numbering": 1,
   "nav_menu": {},
   "number_sections": true,
   "sideBar": true,
   "skip_h1_title": false,
   "title_cell": "Table of Contents",
   "title_sidebar": "Contents",
   "toc_cell": false,
   "toc_position": {},
   "toc_section_display": true,
   "toc_window_display": false
  },
  "varInspector": {
   "cols": {
    "lenName": 16,
    "lenType": 16,
    "lenVar": 40
   },
   "kernels_config": {
    "python": {
     "delete_cmd_postfix": "",
     "delete_cmd_prefix": "del ",
     "library": "var_list.py",
     "varRefreshCmd": "print(var_dic_list())"
    },
    "r": {
     "delete_cmd_postfix": ") ",
     "delete_cmd_prefix": "rm(",
     "library": "var_list.r",
     "varRefreshCmd": "cat(var_dic_list()) "
    }
   },
   "types_to_exclude": [
    "module",
    "function",
    "builtin_function_or_method",
    "instance",
    "_Feature"
   ],
   "window_display": false
  }
 },
 "nbformat": 4,
 "nbformat_minor": 5
}
