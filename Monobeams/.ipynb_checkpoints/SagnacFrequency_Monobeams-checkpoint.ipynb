{
 "cells": [
  {
   "cell_type": "markdown",
   "id": "22f5c8c9",
   "metadata": {
    "ExecuteTime": {
     "end_time": "2022-10-28T13:00:52.763484Z",
     "start_time": "2022-10-28T13:00:52.761516Z"
    }
   },
   "source": [
    "## Compute Sagnac Frequency - Plotting"
   ]
  },
  {
   "cell_type": "markdown",
   "id": "1cd32aed",
   "metadata": {},
   "source": []
  },
  {
   "cell_type": "markdown",
   "id": "185b1a0b",
   "metadata": {},
   "source": [
    "## Imports"
   ]
  },
  {
   "cell_type": "code",
   "execution_count": 1,
   "id": "818caf4c",
   "metadata": {
    "ExecuteTime": {
     "end_time": "2023-05-30T14:45:27.624934Z",
     "start_time": "2023-05-30T14:45:26.419758Z"
    },
    "tags": []
   },
   "outputs": [],
   "source": [
    "import os\n",
    "import matplotlib.pyplot as plt\n",
    "\n",
    "from datetime import datetime, date\n",
    "from pandas import DataFrame, read_pickle, date_range, concat, read_csv\n",
    "from obspy import UTCDateTime"
   ]
  },
  {
   "cell_type": "code",
   "execution_count": 2,
   "id": "b83c9987",
   "metadata": {
    "ExecuteTime": {
     "end_time": "2023-05-30T14:45:27.630263Z",
     "start_time": "2023-05-30T14:45:27.627336Z"
    },
    "tags": []
   },
   "outputs": [],
   "source": [
    "if os.uname().nodename == 'lighthouse':\n",
    "    root_path = '/home/andbro/'\n",
    "    data_path = '/home/andbro/kilauea-data/'\n",
    "    archive_path = '/home/andbro/freenas/'\n",
    "elif os.uname().nodename == 'kilauea':\n",
    "    root_path = '/home/brotzer/'\n",
    "    data_path = '/import/kilauea-data/'\n",
    "    archive_path = '/import/freenas-ffb-01-data/'"
   ]
  },
  {
   "cell_type": "markdown",
   "id": "ec2578ab",
   "metadata": {},
   "source": [
    "## Configurations"
   ]
  },
  {
   "cell_type": "code",
   "execution_count": 4,
   "id": "ba83e3e7",
   "metadata": {
    "ExecuteTime": {
     "end_time": "2023-05-30T14:45:27.638227Z",
     "start_time": "2023-05-30T14:45:27.632201Z"
    },
    "tags": []
   },
   "outputs": [],
   "source": [
    "config = {}\n",
    "\n",
    "# config['seed'] = \"BW.DROMY..FJZ\"\n",
    "\n",
    "## Easter\n",
    "config['tbeg'] = UTCDateTime(\"2023-04-07 00:00\")\n",
    "config['tend'] = UTCDateTime(\"2023-04-10 00:00\")\n",
    "\n",
    "config['datapath'] = data_path+\"sagnac_frequency/easter/\"\n",
    "\n",
    "\n",
    "## PRISM\n",
    "config['tbeg'] = UTCDateTime(\"2023-05-09 01:00\")\n",
    "config['tend'] = UTCDateTime(\"2023-05-09 04:00\")\n",
    "\n",
    "## RU witm PMT\n",
    "config['tbeg'] = UTCDateTime(\"2023-08-31 00:00\")\n",
    "config['tend'] = UTCDateTime(\"2023-08-31 00:15\")\n",
    "config['datapath'] = data_path+\"sagnac_frequency/nordring/\"\n",
    "config['seeds'] = [\"BW.DROMY..FJU\", \"BW.DROMY..F1V\", \"BW.DROMY..F2V\"]\n",
    "\n",
    "## RU with PD\n",
    "config['tbeg'] = UTCDateTime(\"2023-09-01 14:00\")\n",
    "config['tend'] = UTCDateTime(\"2023-09-01 14:30\")\n",
    "config['datapath'] = data_path+\"sagnac_frequency/nordring/\"\n",
    "config['seeds'] = [\"BW.DROMY..FJU\", \"BW.DROMY..F1V\", \"BW.DROMY..F2V\"]\n",
    "\n",
    "## RU with PD long\n",
    "config['tbeg'] = UTCDateTime(\"2023-09-01 17:00\")\n",
    "config['tend'] = UTCDateTime(\"2023-09-01 19:00\")\n",
    "config['datapath'] = data_path+\"sagnac_frequency/\"\n",
    "config['seeds'] = [\"BW.DROMY..FJU\", \"BW.DROMY..F1V\", \"BW.DROMY..F2V\"]\n",
    "\n",
    "\n",
    "## compare 3 rings\n",
    "config['tbeg'] = UTCDateTime(\"2023-09-01 14:00\")\n",
    "config['tend'] = UTCDateTime(\"2023-09-01 14:30\")\n",
    "config['datapath'] = data_path+\"sagnac_frequency/compare_3rings/\"\n",
    "config['seeds'] = [\"BW.DROMY..FJU\", \"BW.DROMY..FJZ\", \"BW.DROMY..FJV\"]\n",
    "\n",
    "## RU with one monobeam and new board\n",
    "config['tbeg'] = UTCDateTime(\"2023-11-17 16:30\")\n",
    "config['tend'] = UTCDateTime(\"2023-09-01 16:40\")\n",
    "config['datapath'] = data_path+\"sagnac_frequency/\"\n",
    "config['seeds'] = [\"BW.DROMY..FJU\", \"BW.DROMY..F1V\", \"BW.DROMY..F2V\"]\n"
   ]
  },
  {
   "cell_type": "markdown",
   "id": "37c3b765",
   "metadata": {
    "ExecuteTime": {
     "end_time": "2022-11-04T13:39:03.633371Z",
     "start_time": "2022-11-04T13:39:03.631352Z"
    }
   },
   "source": [
    "## Load Data"
   ]
  },
  {
   "cell_type": "code",
   "execution_count": 5,
   "id": "e0cba301-1234-44db-90c4-3c00025c61cb",
   "metadata": {
    "tags": []
   },
   "outputs": [],
   "source": [
    "# def __load_autodata(config):\n",
    "\n",
    "#     net, sta, loc, cha = config['seed'].split(\".\")\n",
    "\n",
    "#     t1 = date.fromisoformat(str(config['tbeg'].date))\n",
    "#     t2 = date.fromisoformat(str(config['tend'].date))\n",
    "\n",
    "#     path = config['datapath']+str(config['tbeg'].year)+\"/\"+\"R\"+cha[-1]+\"/\"\n",
    "\n",
    "#     df = DataFrame()\n",
    "#     for dat in date_range(t1,t2):\n",
    "#         file = cha+\"_\"+str(dat)[:10].replace(\"-\",\"\")+\".pkl\"\n",
    "\n",
    "#         try:\n",
    "#             df0 = read_pickle(path+file)\n",
    "#             df = concat([df, df0])\n",
    "#         except:\n",
    "#             print(f\"error for {path}{file}\")\n",
    "\n",
    "#     return df"
   ]
  },
  {
   "cell_type": "code",
   "execution_count": 6,
   "id": "ccbabc03",
   "metadata": {
    "ExecuteTime": {
     "end_time": "2023-05-30T14:45:27.644176Z",
     "start_time": "2023-05-30T14:45:27.639921Z"
    },
    "code_folding": [
     0
    ],
    "tags": []
   },
   "outputs": [],
   "source": [
    "def __load_data_psd(config):\n",
    "\n",
    "    net, sta, loc, cha = config['seed'].split(\".\")\n",
    "\n",
    "    t1 = date.fromisoformat(str(config['tbeg'].date))\n",
    "    t2 = date.fromisoformat(str(config['tend'].date))\n",
    "\n",
    "    path = config['datapath']\n",
    "\n",
    "    df = DataFrame()\n",
    "    for dat in date_range(t1,t2):\n",
    "        # file = cha+\"_\"+str(dat)[:10].replace(\"-\",\"\")+cha\".pkl\"\n",
    "        file = f\"psd_{str(dat)[:10]}_{cha}.pkl\"\n",
    "        try:\n",
    "            df0 = read_pickle(path+file)\n",
    "            df = concat([df, df0])\n",
    "        except:\n",
    "            print(f\"error for {path}{file}\")\n",
    "\n",
    "    return df"
   ]
  },
  {
   "cell_type": "code",
   "execution_count": 8,
   "id": "39daebaf",
   "metadata": {
    "ExecuteTime": {
     "end_time": "2023-05-30T14:45:27.724398Z",
     "start_time": "2023-05-30T14:45:27.646170Z"
    },
    "tags": []
   },
   "outputs": [],
   "source": [
    "config['seed'] = config['seeds'][0]\n",
    "fj = __load_data_psd(config)\n",
    "\n",
    "config['seed'] = config['seeds'][1]\n",
    "f1 = __load_data_psd(config)\n",
    "\n",
    "config['seed'] = config['seeds'][2]\n",
    "f2 = __load_data_psd(config)"
   ]
  },
  {
   "cell_type": "markdown",
   "id": "7d714760-331f-47a5-93a8-4b9723a618ab",
   "metadata": {},
   "source": [
    "## Plot PSD"
   ]
  },
  {
   "cell_type": "code",
   "execution_count": 9,
   "id": "0521d454-bea5-410e-8367-061f5570c61f",
   "metadata": {
    "tags": []
   },
   "outputs": [],
   "source": [
    "def __makeplot_psd():\n",
    "\n",
    "    font = 12\n",
    "\n",
    "    fig, ax = plt.subplots(1, 2, figsize=(15,5))\n",
    "\n",
    "    ax[0].loglog(fj.frequencies, fj.fjz_psd, alpha=0.5, label=config['seeds'][0][-3:])\n",
    "    ax[0].loglog(f1.frequencies, f1.fjz_psd, alpha=0.5, label=config['seeds'][1][-3:])\n",
    "    ax[0].loglog(f2.frequencies, f2.fjz_psd, alpha=0.5, label=config['seeds'][2][-3:])\n",
    "\n",
    "    ax[0].set_xlim(0.1, 1000)\n",
    "\n",
    "\n",
    "    ax[1].loglog(fj.frequencies, fj.fjz_psd, alpha=0.5, label=config['seeds'][0][-3:])\n",
    "    ax[1].loglog(f1.frequencies, f1.fjz_psd, alpha=0.5, label=config['seeds'][1][-3:])\n",
    "    ax[1].loglog(f2.frequencies, f2.fjz_psd, alpha=0.5, label=config['seeds'][2][-3:])\n",
    "\n",
    "    ax[1].set_xlim(290, 315)\n",
    "    # ax[1].set_xlim(270, 580)\n",
    "\n",
    "    for i in range(2):\n",
    "        ax[i].legend(loc=2)\n",
    "        ax[i].grid(which=\"both\", zorder=-1, alpha=0.3)\n",
    "    #     ax[i].grid(zorder=-1, alpha=0.2)\n",
    "    # #     ax[i.ticklabel_format(useOffset=False, style='plain')\n",
    "\n",
    "\n",
    "    ax[0].set_ylabel(\"PSD FZ ($V^2 / Hz$)\", fontsize=font)\n",
    "    ax[1].set_ylabel(\"PSD CCW ($V^2 / Hz$)\", fontsize=font)\n",
    "\n",
    "    ax[0].set_xlabel(\"Frequency (Hz)\", fontsize=font)\n",
    "    ax[1].set_xlabel(\"Frequency (Hz)\", fontsize=font)\n",
    "\n",
    "    fig.suptitle(f\"Nordring RU - Monobeams {config['tbeg'].date}  {config['tbeg'].time} - {config['tend'].time} UTC\", fontsize=font)\n",
    "\n",
    "    plt.show();\n",
    "    return fig"
   ]
  },
  {
   "cell_type": "code",
   "execution_count": 10,
   "id": "c8547fef-f382-4ab9-bdeb-a4f70811300f",
   "metadata": {
    "tags": []
   },
   "outputs": [
    {
     "ename": "AttributeError",
     "evalue": "'DataFrame' object has no attribute 'frequencies'",
     "output_type": "error",
     "traceback": [
      "\u001b[0;31m---------------------------------------------------------------------------\u001b[0m",
      "\u001b[0;31mAttributeError\u001b[0m                            Traceback (most recent call last)",
      "\u001b[0;32m/tmp/ipykernel_1151921/3907111403.py\u001b[0m in \u001b[0;36m?\u001b[0;34m()\u001b[0m\n\u001b[0;32m----> 1\u001b[0;31m \u001b[0mfig\u001b[0m \u001b[0;34m=\u001b[0m \u001b[0m__makeplot_psd\u001b[0m\u001b[0;34m(\u001b[0m\u001b[0;34m)\u001b[0m\u001b[0;34m\u001b[0m\u001b[0;34m\u001b[0m\u001b[0m\n\u001b[0m\u001b[1;32m      2\u001b[0m \u001b[0;34m\u001b[0m\u001b[0m\n\u001b[1;32m      3\u001b[0m \u001b[0;31m# fig.savefig(\"./PSD_RU_RV_RZ.png\")\u001b[0m\u001b[0;34m\u001b[0m\u001b[0;34m\u001b[0m\u001b[0m\n",
      "\u001b[0;32m/tmp/ipykernel_1151921/2375605004.py\u001b[0m in \u001b[0;36m?\u001b[0;34m()\u001b[0m\n\u001b[1;32m      3\u001b[0m     \u001b[0mfont\u001b[0m \u001b[0;34m=\u001b[0m \u001b[0;36m12\u001b[0m\u001b[0;34m\u001b[0m\u001b[0;34m\u001b[0m\u001b[0m\n\u001b[1;32m      4\u001b[0m \u001b[0;34m\u001b[0m\u001b[0m\n\u001b[1;32m      5\u001b[0m     \u001b[0mfig\u001b[0m\u001b[0;34m,\u001b[0m \u001b[0max\u001b[0m \u001b[0;34m=\u001b[0m \u001b[0mplt\u001b[0m\u001b[0;34m.\u001b[0m\u001b[0msubplots\u001b[0m\u001b[0;34m(\u001b[0m\u001b[0;36m1\u001b[0m\u001b[0;34m,\u001b[0m \u001b[0;36m2\u001b[0m\u001b[0;34m,\u001b[0m \u001b[0mfigsize\u001b[0m\u001b[0;34m=\u001b[0m\u001b[0;34m(\u001b[0m\u001b[0;36m15\u001b[0m\u001b[0;34m,\u001b[0m\u001b[0;36m5\u001b[0m\u001b[0;34m)\u001b[0m\u001b[0;34m)\u001b[0m\u001b[0;34m\u001b[0m\u001b[0;34m\u001b[0m\u001b[0m\n\u001b[1;32m      6\u001b[0m \u001b[0;34m\u001b[0m\u001b[0m\n\u001b[0;32m----> 7\u001b[0;31m     \u001b[0max\u001b[0m\u001b[0;34m[\u001b[0m\u001b[0;36m0\u001b[0m\u001b[0;34m]\u001b[0m\u001b[0;34m.\u001b[0m\u001b[0mloglog\u001b[0m\u001b[0;34m(\u001b[0m\u001b[0mfj\u001b[0m\u001b[0;34m.\u001b[0m\u001b[0mfrequencies\u001b[0m\u001b[0;34m,\u001b[0m \u001b[0mfj\u001b[0m\u001b[0;34m.\u001b[0m\u001b[0mfjz_psd\u001b[0m\u001b[0;34m,\u001b[0m \u001b[0malpha\u001b[0m\u001b[0;34m=\u001b[0m\u001b[0;36m0.5\u001b[0m\u001b[0;34m,\u001b[0m \u001b[0mlabel\u001b[0m\u001b[0;34m=\u001b[0m\u001b[0mconfig\u001b[0m\u001b[0;34m[\u001b[0m\u001b[0;34m'seeds'\u001b[0m\u001b[0;34m]\u001b[0m\u001b[0;34m[\u001b[0m\u001b[0;36m0\u001b[0m\u001b[0;34m]\u001b[0m\u001b[0;34m[\u001b[0m\u001b[0;34m-\u001b[0m\u001b[0;36m3\u001b[0m\u001b[0;34m:\u001b[0m\u001b[0;34m]\u001b[0m\u001b[0;34m)\u001b[0m\u001b[0;34m\u001b[0m\u001b[0;34m\u001b[0m\u001b[0m\n\u001b[0m\u001b[1;32m      8\u001b[0m     \u001b[0max\u001b[0m\u001b[0;34m[\u001b[0m\u001b[0;36m0\u001b[0m\u001b[0;34m]\u001b[0m\u001b[0;34m.\u001b[0m\u001b[0mloglog\u001b[0m\u001b[0;34m(\u001b[0m\u001b[0mf1\u001b[0m\u001b[0;34m.\u001b[0m\u001b[0mfrequencies\u001b[0m\u001b[0;34m,\u001b[0m \u001b[0mf1\u001b[0m\u001b[0;34m.\u001b[0m\u001b[0mfjz_psd\u001b[0m\u001b[0;34m,\u001b[0m \u001b[0malpha\u001b[0m\u001b[0;34m=\u001b[0m\u001b[0;36m0.5\u001b[0m\u001b[0;34m,\u001b[0m \u001b[0mlabel\u001b[0m\u001b[0;34m=\u001b[0m\u001b[0mconfig\u001b[0m\u001b[0;34m[\u001b[0m\u001b[0;34m'seeds'\u001b[0m\u001b[0;34m]\u001b[0m\u001b[0;34m[\u001b[0m\u001b[0;36m1\u001b[0m\u001b[0;34m]\u001b[0m\u001b[0;34m[\u001b[0m\u001b[0;34m-\u001b[0m\u001b[0;36m3\u001b[0m\u001b[0;34m:\u001b[0m\u001b[0;34m]\u001b[0m\u001b[0;34m)\u001b[0m\u001b[0;34m\u001b[0m\u001b[0;34m\u001b[0m\u001b[0m\n\u001b[1;32m      9\u001b[0m     \u001b[0max\u001b[0m\u001b[0;34m[\u001b[0m\u001b[0;36m0\u001b[0m\u001b[0;34m]\u001b[0m\u001b[0;34m.\u001b[0m\u001b[0mloglog\u001b[0m\u001b[0;34m(\u001b[0m\u001b[0mf2\u001b[0m\u001b[0;34m.\u001b[0m\u001b[0mfrequencies\u001b[0m\u001b[0;34m,\u001b[0m \u001b[0mf2\u001b[0m\u001b[0;34m.\u001b[0m\u001b[0mfjz_psd\u001b[0m\u001b[0;34m,\u001b[0m \u001b[0malpha\u001b[0m\u001b[0;34m=\u001b[0m\u001b[0;36m0.5\u001b[0m\u001b[0;34m,\u001b[0m \u001b[0mlabel\u001b[0m\u001b[0;34m=\u001b[0m\u001b[0mconfig\u001b[0m\u001b[0;34m[\u001b[0m\u001b[0;34m'seeds'\u001b[0m\u001b[0;34m]\u001b[0m\u001b[0;34m[\u001b[0m\u001b[0;36m2\u001b[0m\u001b[0;34m]\u001b[0m\u001b[0;34m[\u001b[0m\u001b[0;34m-\u001b[0m\u001b[0;36m3\u001b[0m\u001b[0;34m:\u001b[0m\u001b[0;34m]\u001b[0m\u001b[0;34m)\u001b[0m\u001b[0;34m\u001b[0m\u001b[0;34m\u001b[0m\u001b[0m\n\u001b[1;32m     10\u001b[0m \u001b[0;34m\u001b[0m\u001b[0m\n",
      "\u001b[0;32m~/anaconda3/envs/obs2/lib/python3.9/site-packages/pandas/core/generic.py\u001b[0m in \u001b[0;36m?\u001b[0;34m(self, name)\u001b[0m\n\u001b[1;32m   5898\u001b[0m             \u001b[0;32mand\u001b[0m \u001b[0mname\u001b[0m \u001b[0;32mnot\u001b[0m \u001b[0;32min\u001b[0m \u001b[0mself\u001b[0m\u001b[0;34m.\u001b[0m\u001b[0m_accessors\u001b[0m\u001b[0;34m\u001b[0m\u001b[0;34m\u001b[0m\u001b[0m\n\u001b[1;32m   5899\u001b[0m             \u001b[0;32mand\u001b[0m \u001b[0mself\u001b[0m\u001b[0;34m.\u001b[0m\u001b[0m_info_axis\u001b[0m\u001b[0;34m.\u001b[0m\u001b[0m_can_hold_identifiers_and_holds_name\u001b[0m\u001b[0;34m(\u001b[0m\u001b[0mname\u001b[0m\u001b[0;34m)\u001b[0m\u001b[0;34m\u001b[0m\u001b[0;34m\u001b[0m\u001b[0m\n\u001b[1;32m   5900\u001b[0m         ):\n\u001b[1;32m   5901\u001b[0m             \u001b[0;32mreturn\u001b[0m \u001b[0mself\u001b[0m\u001b[0;34m[\u001b[0m\u001b[0mname\u001b[0m\u001b[0;34m]\u001b[0m\u001b[0;34m\u001b[0m\u001b[0;34m\u001b[0m\u001b[0m\n\u001b[0;32m-> 5902\u001b[0;31m         \u001b[0;32mreturn\u001b[0m \u001b[0mobject\u001b[0m\u001b[0;34m.\u001b[0m\u001b[0m__getattribute__\u001b[0m\u001b[0;34m(\u001b[0m\u001b[0mself\u001b[0m\u001b[0;34m,\u001b[0m \u001b[0mname\u001b[0m\u001b[0;34m)\u001b[0m\u001b[0;34m\u001b[0m\u001b[0;34m\u001b[0m\u001b[0m\n\u001b[0m",
      "\u001b[0;31mAttributeError\u001b[0m: 'DataFrame' object has no attribute 'frequencies'"
     ]
    },
    {
     "data": {
      "image/png": "[encoded data removed]",
      "text/plain": [
       "<Figure size 1500x500 with 2 Axes>"
      ]
     },
     "metadata": {},
     "output_type": "display_data"
    }
   ],
   "source": [
    "fig = __makeplot_psd()\n",
    "\n",
    "# fig.savefig(\"./PSD_RU_RV_RZ.png\")"
   ]
  },
  {
   "cell_type": "markdown",
   "id": "57384c27",
   "metadata": {},
   "source": [
    "## Plot Frequency"
   ]
  },
  {
   "cell_type": "code",
   "execution_count": 11,
   "id": "fa7c6acc",
   "metadata": {
    "ExecuteTime": {
     "end_time": "2023-05-30T14:45:27.740886Z",
     "start_time": "2023-05-30T14:45:27.728004Z"
    },
    "code_folding": [
     0
    ],
    "tags": []
   },
   "outputs": [],
   "source": [
    "def __makeplot(df1, df2, df3):\n",
    "\n",
    "    def __smooth(y, box_pts):\n",
    "        from numpy import ones, convolve, hanning\n",
    "\n",
    "#         win = ones(box_pts)/box_pts\n",
    "        win = hanning(box_pts)\n",
    "        y_smooth = convolve(y, win/sum(win), mode='same')\n",
    "\n",
    "        return y_smooth\n",
    "\n",
    "    time_scaling, time_unit = 1, \"MJD\"\n",
    "\n",
    "    ## ___________________\n",
    "    ##\n",
    "\n",
    "    fig, ax = plt.subplots(3,1, figsize=(15,10), sharex=True)\n",
    "\n",
    "    plt.subplots_adjust(hspace=0.05)\n",
    "\n",
    "    font = 14\n",
    "    smooting = 10\n",
    "    cut_off = int(smooting/2)\n",
    "\n",
    "    ## DF1\n",
    "    ax[0].scatter(df1['times_mjd']/time_scaling, df1['freqs'], c=\"#3776ab\", s=10, alpha=0.4, zorder=2, label=\"FJZ\")\n",
    "    ax[0].plot(df1['times_mjd'][cut_off:-cut_off]/time_scaling, __smooth(df1['freqs'],smooting)[cut_off:-cut_off], \"k\", zorder=2)\n",
    "\n",
    "\n",
    "    ## DF2\n",
    "    ax[1].scatter(df2['times_mjd']/time_scaling, df2['freqs'], c=\"#f48512\", s=10, alpha=0.4, zorder=2, label=\"F1Z\")\n",
    "    ax[1].plot(df2['times_mjd'][cut_off:-cut_off]/time_scaling, __smooth(df2['freqs'],smooting)[cut_off:-cut_off], \"k\", zorder=2)\n",
    "\n",
    "\n",
    "    ## DF3\n",
    "    ax[2].scatter(df2['times_mjd']/time_scaling, df3['freqs'], c=\"darkred\", s=10, alpha=0.4, zorder=2, label=\"F2Z\")\n",
    "    ax[2].plot(df2['times_mjd'][cut_off:-cut_off]/time_scaling, __smooth(df3['freqs'],smooting)[cut_off:-cut_off], \"k\", zorder=2)\n",
    "\n",
    "\n",
    "#     ax[2].set_ylim(5e12, 2e14)\n",
    "\n",
    "#     ax[0].set_ylim(min(df1['freqs'][1:10]), max(df1['freqs'][1:10]))\n",
    "\n",
    "    ax[0].set_ylim(553.48, 553.495)\n",
    "    ax[1].set_ylim(553.48, 553.495)\n",
    "\n",
    "    ax[0].ticklabel_format(useOffset=False, style='plain')\n",
    "    ax[1].ticklabel_format(useOffset=False, style='plain')\n",
    "    ax[2].ticklabel_format(useOffset=False, style='plain')\n",
    "\n",
    "#     ymin, ymax = ax[0].axes.get_ylim()\n",
    "#     ax[1].set_ylim(ymin, ymax)\n",
    "#     ax[2].set_ylim(ymin, ymax)\n",
    "\n",
    "    ax[0].set_ylabel(r\"Sagnac Beat (Hz)\", fontsize=font)\n",
    "    ax[1].set_ylabel(r\"CCW (Hz)\", fontsize=font)\n",
    "    ax[2].set_ylabel(r\"CW (Hz)\", fontsize=font)\n",
    "\n",
    "    ax[2].set_xlabel(\"Days (MJD)\", fontsize=font)\n",
    "\n",
    "#     ax[0].set_title(\"ROMY-U Sagnac-Frequency\", fontsize=font+2, pad=10)\n",
    "    ax[0].legend(loc=4)\n",
    "    ax[1].legend(loc=4)\n",
    "    ax[2].legend(loc=4)\n",
    "\n",
    "    for i in range(3):\n",
    "        ax[i].grid(zorder=0)\n",
    "\n",
    "    plt.show();"
   ]
  },
  {
   "cell_type": "code",
   "execution_count": 13,
   "id": "a5e3faec",
   "metadata": {
    "ExecuteTime": {
     "end_time": "2023-05-30T14:45:28.097615Z",
     "start_time": "2023-05-30T14:45:27.742750Z"
    },
    "tags": []
   },
   "outputs": [
    {
     "ename": "KeyError",
     "evalue": "'times_mjd'",
     "output_type": "error",
     "traceback": [
      "\u001b[0;31m---------------------------------------------------------------------------\u001b[0m",
      "\u001b[0;31mKeyError\u001b[0m                                  Traceback (most recent call last)",
      "File \u001b[0;32m~/anaconda3/envs/obs2/lib/python3.9/site-packages/pandas/core/indexes/base.py:3803\u001b[0m, in \u001b[0;36mIndex.get_loc\u001b[0;34m(self, key, method, tolerance)\u001b[0m\n\u001b[1;32m   3802\u001b[0m \u001b[38;5;28;01mtry\u001b[39;00m:\n\u001b[0;32m-> 3803\u001b[0m     \u001b[38;5;28;01mreturn\u001b[39;00m \u001b[38;5;28;43mself\u001b[39;49m\u001b[38;5;241;43m.\u001b[39;49m\u001b[43m_engine\u001b[49m\u001b[38;5;241;43m.\u001b[39;49m\u001b[43mget_loc\u001b[49m\u001b[43m(\u001b[49m\u001b[43mcasted_key\u001b[49m\u001b[43m)\u001b[49m\n\u001b[1;32m   3804\u001b[0m \u001b[38;5;28;01mexcept\u001b[39;00m \u001b[38;5;167;01mKeyError\u001b[39;00m \u001b[38;5;28;01mas\u001b[39;00m err:\n",
      "File \u001b[0;32m~/anaconda3/envs/obs2/lib/python3.9/site-packages/pandas/_libs/index.pyx:138\u001b[0m, in \u001b[0;36mpandas._libs.index.IndexEngine.get_loc\u001b[0;34m()\u001b[0m\n",
      "File \u001b[0;32m~/anaconda3/envs/obs2/lib/python3.9/site-packages/pandas/_libs/index.pyx:165\u001b[0m, in \u001b[0;36mpandas._libs.index.IndexEngine.get_loc\u001b[0;34m()\u001b[0m\n",
      "File \u001b[0;32mpandas/_libs/hashtable_class_helper.pxi:5745\u001b[0m, in \u001b[0;36mpandas._libs.hashtable.PyObjectHashTable.get_item\u001b[0;34m()\u001b[0m\n",
      "File \u001b[0;32mpandas/_libs/hashtable_class_helper.pxi:5753\u001b[0m, in \u001b[0;36mpandas._libs.hashtable.PyObjectHashTable.get_item\u001b[0;34m()\u001b[0m\n",
      "\u001b[0;31mKeyError\u001b[0m: 'times_mjd'",
      "\nThe above exception was the direct cause of the following exception:\n",
      "\u001b[0;31mKeyError\u001b[0m                                  Traceback (most recent call last)",
      "Cell \u001b[0;32mIn[13], line 1\u001b[0m\n\u001b[0;32m----> 1\u001b[0m \u001b[43m__makeplot\u001b[49m\u001b[43m(\u001b[49m\u001b[43mfj\u001b[49m\u001b[43m,\u001b[49m\u001b[43m \u001b[49m\u001b[43mf1\u001b[49m\u001b[43m,\u001b[49m\u001b[43m \u001b[49m\u001b[43mf2\u001b[49m\u001b[43m)\u001b[49m\n",
      "Cell \u001b[0;32mIn[11], line 26\u001b[0m, in \u001b[0;36m__makeplot\u001b[0;34m(df1, df2, df3)\u001b[0m\n\u001b[1;32m     23\u001b[0m cut_off \u001b[38;5;241m=\u001b[39m \u001b[38;5;28mint\u001b[39m(smooting\u001b[38;5;241m/\u001b[39m\u001b[38;5;241m2\u001b[39m)\n\u001b[1;32m     25\u001b[0m \u001b[38;5;66;03m## DF1\u001b[39;00m\n\u001b[0;32m---> 26\u001b[0m ax[\u001b[38;5;241m0\u001b[39m]\u001b[38;5;241m.\u001b[39mscatter(\u001b[43mdf1\u001b[49m\u001b[43m[\u001b[49m\u001b[38;5;124;43m'\u001b[39;49m\u001b[38;5;124;43mtimes_mjd\u001b[39;49m\u001b[38;5;124;43m'\u001b[39;49m\u001b[43m]\u001b[49m\u001b[38;5;241m/\u001b[39mtime_scaling, df1[\u001b[38;5;124m'\u001b[39m\u001b[38;5;124mfreqs\u001b[39m\u001b[38;5;124m'\u001b[39m], c\u001b[38;5;241m=\u001b[39m\u001b[38;5;124m\"\u001b[39m\u001b[38;5;124m#3776ab\u001b[39m\u001b[38;5;124m\"\u001b[39m, s\u001b[38;5;241m=\u001b[39m\u001b[38;5;241m10\u001b[39m, alpha\u001b[38;5;241m=\u001b[39m\u001b[38;5;241m0.4\u001b[39m, zorder\u001b[38;5;241m=\u001b[39m\u001b[38;5;241m2\u001b[39m, label\u001b[38;5;241m=\u001b[39m\u001b[38;5;124m\"\u001b[39m\u001b[38;5;124mFJZ\u001b[39m\u001b[38;5;124m\"\u001b[39m)\n\u001b[1;32m     27\u001b[0m ax[\u001b[38;5;241m0\u001b[39m]\u001b[38;5;241m.\u001b[39mplot(df1[\u001b[38;5;124m'\u001b[39m\u001b[38;5;124mtimes_mjd\u001b[39m\u001b[38;5;124m'\u001b[39m][cut_off:\u001b[38;5;241m-\u001b[39mcut_off]\u001b[38;5;241m/\u001b[39mtime_scaling, __smooth(df1[\u001b[38;5;124m'\u001b[39m\u001b[38;5;124mfreqs\u001b[39m\u001b[38;5;124m'\u001b[39m],smooting)[cut_off:\u001b[38;5;241m-\u001b[39mcut_off], \u001b[38;5;124m\"\u001b[39m\u001b[38;5;124mk\u001b[39m\u001b[38;5;124m\"\u001b[39m, zorder\u001b[38;5;241m=\u001b[39m\u001b[38;5;241m2\u001b[39m)\n\u001b[1;32m     30\u001b[0m \u001b[38;5;66;03m## DF2\u001b[39;00m\n",
      "File \u001b[0;32m~/anaconda3/envs/obs2/lib/python3.9/site-packages/pandas/core/frame.py:3805\u001b[0m, in \u001b[0;36mDataFrame.__getitem__\u001b[0;34m(self, key)\u001b[0m\n\u001b[1;32m   3803\u001b[0m \u001b[38;5;28;01mif\u001b[39;00m \u001b[38;5;28mself\u001b[39m\u001b[38;5;241m.\u001b[39mcolumns\u001b[38;5;241m.\u001b[39mnlevels \u001b[38;5;241m>\u001b[39m \u001b[38;5;241m1\u001b[39m:\n\u001b[1;32m   3804\u001b[0m     \u001b[38;5;28;01mreturn\u001b[39;00m \u001b[38;5;28mself\u001b[39m\u001b[38;5;241m.\u001b[39m_getitem_multilevel(key)\n\u001b[0;32m-> 3805\u001b[0m indexer \u001b[38;5;241m=\u001b[39m \u001b[38;5;28;43mself\u001b[39;49m\u001b[38;5;241;43m.\u001b[39;49m\u001b[43mcolumns\u001b[49m\u001b[38;5;241;43m.\u001b[39;49m\u001b[43mget_loc\u001b[49m\u001b[43m(\u001b[49m\u001b[43mkey\u001b[49m\u001b[43m)\u001b[49m\n\u001b[1;32m   3806\u001b[0m \u001b[38;5;28;01mif\u001b[39;00m is_integer(indexer):\n\u001b[1;32m   3807\u001b[0m     indexer \u001b[38;5;241m=\u001b[39m [indexer]\n",
      "File \u001b[0;32m~/anaconda3/envs/obs2/lib/python3.9/site-packages/pandas/core/indexes/base.py:3805\u001b[0m, in \u001b[0;36mIndex.get_loc\u001b[0;34m(self, key, method, tolerance)\u001b[0m\n\u001b[1;32m   3803\u001b[0m     \u001b[38;5;28;01mreturn\u001b[39;00m \u001b[38;5;28mself\u001b[39m\u001b[38;5;241m.\u001b[39m_engine\u001b[38;5;241m.\u001b[39mget_loc(casted_key)\n\u001b[1;32m   3804\u001b[0m \u001b[38;5;28;01mexcept\u001b[39;00m \u001b[38;5;167;01mKeyError\u001b[39;00m \u001b[38;5;28;01mas\u001b[39;00m err:\n\u001b[0;32m-> 3805\u001b[0m     \u001b[38;5;28;01mraise\u001b[39;00m \u001b[38;5;167;01mKeyError\u001b[39;00m(key) \u001b[38;5;28;01mfrom\u001b[39;00m \u001b[38;5;21;01merr\u001b[39;00m\n\u001b[1;32m   3806\u001b[0m \u001b[38;5;28;01mexcept\u001b[39;00m \u001b[38;5;167;01mTypeError\u001b[39;00m:\n\u001b[1;32m   3807\u001b[0m     \u001b[38;5;66;03m# If we have a listlike key, _check_indexing_error will raise\u001b[39;00m\n\u001b[1;32m   3808\u001b[0m     \u001b[38;5;66;03m#  InvalidIndexError. Otherwise we fall through and re-raise\u001b[39;00m\n\u001b[1;32m   3809\u001b[0m     \u001b[38;5;66;03m#  the TypeError.\u001b[39;00m\n\u001b[1;32m   3810\u001b[0m     \u001b[38;5;28mself\u001b[39m\u001b[38;5;241m.\u001b[39m_check_indexing_error(key)\n",
      "\u001b[0;31mKeyError\u001b[0m: 'times_mjd'"
     ]
    },
    {
     "data": {
      "image/png": "[encoded data removed]",
      "text/plain": [
       "<Figure size 1500x1000 with 3 Axes>"
      ]
     },
     "metadata": {},
     "output_type": "display_data"
    }
   ],
   "source": [
    "__makeplot(fj, f1, f2)"
   ]
  },
  {
   "cell_type": "markdown",
   "id": "0e8cbff3",
   "metadata": {},
   "source": [
    "## Cross-Correlation"
   ]
  },
  {
   "cell_type": "code",
   "execution_count": 14,
   "id": "4da0f43d",
   "metadata": {
    "ExecuteTime": {
     "end_time": "2023-05-30T14:45:28.102882Z",
     "start_time": "2023-05-30T14:45:28.102872Z"
    },
    "code_folding": [
     0
    ],
    "tags": []
   },
   "outputs": [],
   "source": [
    "def __makeplot_CC(df1, df2, df3):\n",
    "\n",
    "    def __smooth(y, box_pts):\n",
    "        from numpy import ones, convolve, hanning\n",
    "\n",
    "#         win = ones(box_pts)/box_pts\n",
    "        win = hanning(box_pts)\n",
    "        y_smooth = convolve(y, win/sum(win), mode='same')\n",
    "\n",
    "        return y_smooth\n",
    "    \n",
    "    time_scaling, time_unit = 1, \"MJD\"\n",
    "    \n",
    "    \n",
    "    from scipy import signal\n",
    "    from numpy import mean, nanmax, correlate, argmax, arange\n",
    "    \n",
    "    s1 = fjz.freqs - mean(fjz.freqs)\n",
    "    s2 = f1z.freqs - mean(f1z.freqs)\n",
    "    s3 = f1z.freqs - mean(f1z.freqs)\n",
    "\n",
    "\n",
    "    corr1 = correlate(s1, s2, mode='same')\n",
    "    corr1 /= nanmax(corr1)\n",
    "\n",
    "    corr2 = correlate(s1, s3, mode='same')\n",
    "    corr2 /= nanmax(corr2)\n",
    "    \n",
    "    xlags1 = arange(-corr1.size//2, corr1.size//2, 1)\n",
    "    xlags2 = arange(-corr2.size//2, corr2.size//2, 1)\n",
    "    \n",
    "    cc1_max_x = xlags1[argmax(corr1)]\n",
    "    cc2_max_x = xlags2[argmax(corr2)]\n",
    "    \n",
    "    print(cc1_max_x, cc2_max_x)\n",
    "    \n",
    "    ## ___________________\n",
    "    ##\n",
    "    \n",
    "    fig, ax = plt.subplots(2,1, figsize=(15,7), sharex=False)\n",
    "    \n",
    "#     plt.subplots_adjust(hspace=0.05)\n",
    "    \n",
    "    font = 14\n",
    "    smooting = 10\n",
    "    cut_off = int(smooting/2)\n",
    "    \n",
    "    ## DF1\n",
    "    ax[0].plot(df1['times_mjd']/time_scaling, df1['freqs'], c='k', alpha=0.4, zorder=2, label=\"FJZ\")\n",
    "    \n",
    "    \n",
    "    ## DF2\n",
    "    ax[0].plot(df2['times_mjd']/time_scaling, df2['freqs'], c=\"#f48512\", alpha=0.4, zorder=2, label=\"F1Z\")\n",
    "\n",
    "\n",
    "    ## DF3\n",
    "    ax[0].plot(df2['times_mjd']/time_scaling, df3['freqs'], c=\"darkred\", alpha=0.4, zorder=2, label=\"F2Z\")\n",
    "\n",
    "\n",
    "    ax[1].plot(xlags1, corr1, ls=\"--\", label=\"FJZ-F1V\")\n",
    "    ax[1].plot(xlags2, corr2, ls=\":\", label=\"FJZ-F2V\")\n",
    "    \n",
    "\n",
    "#     ax[0].set_ylim(553.462, 553.4725)\n",
    "    \n",
    "    \n",
    "    ax[0].ticklabel_format(useOffset=False, style='plain')\n",
    "    ax[1].ticklabel_format(useOffset=False, style='plain')\n",
    "\n",
    "    \n",
    "    ax[0].set_ylabel(r\"Sagnac Beat (Hz)\", fontsize=font)\n",
    "    ax[1].set_ylabel(r\"CC\", fontsize=font)\n",
    "\n",
    "    ax[1].set_xlabel(\"Days (MJD)\", fontsize=font)\n",
    "    \n",
    "#     ax[0].set_title(\"ROMY-U Sagnac-Frequency\", fontsize=font+2, pad=10)\n",
    "    ax[0].legend(loc=1)\n",
    "    ax[1].legend(loc=1)\n",
    "    \n",
    "    for i in range(2):\n",
    "        ax[i].grid(zorder=0)\n",
    "\n",
    "    plt.show();"
   ]
  },
  {
   "cell_type": "code",
   "execution_count": 15,
   "id": "72b6f7f6",
   "metadata": {
    "ExecuteTime": {
     "end_time": "2023-05-30T14:45:28.103631Z",
     "start_time": "2023-05-30T14:45:28.103622Z"
    },
    "tags": []
   },
   "outputs": [
    {
     "ename": "NameError",
     "evalue": "name 'fjz' is not defined",
     "output_type": "error",
     "traceback": [
      "\u001b[0;31m---------------------------------------------------------------------------\u001b[0m",
      "\u001b[0;31mNameError\u001b[0m                                 Traceback (most recent call last)",
      "Cell \u001b[0;32mIn[15], line 1\u001b[0m\n\u001b[0;32m----> 1\u001b[0m __makeplot_CC(\u001b[43mfjz\u001b[49m, f1z, f2z)\n",
      "\u001b[0;31mNameError\u001b[0m: name 'fjz' is not defined"
     ]
    }
   ],
   "source": [
    "__makeplot_CC(fjz, f1z, f2z)"
   ]
  },
  {
   "cell_type": "markdown",
   "id": "3a3b66ae",
   "metadata": {},
   "source": [
    "## Plot Power"
   ]
  },
  {
   "cell_type": "code",
   "execution_count": 16,
   "id": "f5ef2fe8",
   "metadata": {
    "ExecuteTime": {
     "end_time": "2023-05-30T14:45:28.104117Z",
     "start_time": "2023-05-30T14:45:28.104109Z"
    },
    "code_folding": [
     0,
     2
    ],
    "tags": []
   },
   "outputs": [],
   "source": [
    "def __makeplot_power(df1, df2, df3):\n",
    "    \n",
    "    def __smooth(y, box_pts):\n",
    "        from numpy import ones, convolve, hanning\n",
    "\n",
    "#         win = ones(box_pts)/box_pts\n",
    "        win = hanning(box_pts)\n",
    "        y_smooth = convolve(y, win/sum(win), mode='same')\n",
    "\n",
    "        return y_smooth\n",
    "    \n",
    "    \n",
    "    ## ___________________\n",
    "    ##\n",
    "    \n",
    "    fig, ax = plt.subplots(2,1, figsize=(15,7), sharex=True)\n",
    "    \n",
    "    plt.subplots_adjust(hspace=0.05)\n",
    "    \n",
    "    font = 14\n",
    "    smooting = 10\n",
    "    cut_off = int(smooting/2)\n",
    "    \n",
    "    ## DF1\n",
    "    ax[0].scatter(df1['times_mjd'], df1['psd_max'], c=\"#3776ab\", s=10, alpha=0.4, zorder=2, label=\"FJZ\")\n",
    "#     ax[0].plot(df1['times_mjd'][cut_off:-cut_off]/time_scaling, __smooth(df1['freqs'],smooting)[cut_off:-cut_off], \"k\", zorder=2)\n",
    "    \n",
    "    \n",
    "    ## DF2\n",
    "    ax[1].scatter(df2['times_mjd'], df2['psd_max'], c=\"#f48512\", s=10, alpha=0.4, zorder=2, label=\"F1Z*\")\n",
    "#     ax[1].plot(df2['times_mjd'][cut_off:-cut_off]/time_scaling, __smooth(df2['freqs'],smooting)[cut_off:-cut_off], \"k\", zorder=2)\n",
    "\n",
    "\n",
    "    ## DF3\n",
    "    ax[1].scatter(df2['times_mjd'], df3['psd_max'], c=\"darkred\", s=10, alpha=0.4, zorder=2, label=\"F2Z\")\n",
    "#     ax[1].plot(df2['times_mjd'][cut_off:-cut_off]/time_scaling, __smooth(df3['freqs'],smooting)[cut_off:-cut_off], \"k\", zorder=2)\n",
    "\n",
    "\n",
    "#     ax[2].set_ylim(5e12, 2e14)\n",
    "        \n",
    "#     ax[0].set_ylim(min(df1['freqs'][1:10]), max(df1['freqs'][1:10]))\n",
    "\n",
    "#     ax[0].set_ylim(553.4550, 553.4655)\n",
    "    \n",
    "    \n",
    "    ax[0].ticklabel_format(useOffset=False, style='plain')\n",
    "    ax[1].ticklabel_format(useOffset=False, style='plain')\n",
    "       \n",
    "    ax[0].set_yscale(\"log\")\n",
    "    ax[1].set_yscale(\"log\")\n",
    "    \n",
    "    ax[0].set_ylabel(r\"PSD$_{max}$\", fontsize=font)\n",
    "    ax[1].set_ylabel(r\"PSD$_{max}$\", fontsize=font)\n",
    "\n",
    "    ax[1].set_xlabel(\"Days (MJD)\", fontsize=font)\n",
    "    \n",
    "#     ax[0].set_title(\"ROMY-U Sagnac-Frequency\", fontsize=font+2, pad=10)\n",
    "    ax[0].legend(loc=4)\n",
    "    ax[1].legend(loc=4)\n",
    "    \n",
    "    for i in range(2):\n",
    "        ax[i].grid(zorder=0)\n",
    "    \n",
    "    plt.show();"
   ]
  },
  {
   "cell_type": "code",
   "execution_count": 17,
   "id": "982524cb",
   "metadata": {
    "ExecuteTime": {
     "end_time": "2023-05-30T14:45:28.104673Z",
     "start_time": "2023-05-30T14:45:28.104664Z"
    },
    "tags": []
   },
   "outputs": [
    {
     "ename": "NameError",
     "evalue": "name 'fjz' is not defined",
     "output_type": "error",
     "traceback": [
      "\u001b[0;31m---------------------------------------------------------------------------\u001b[0m",
      "\u001b[0;31mNameError\u001b[0m                                 Traceback (most recent call last)",
      "Cell \u001b[0;32mIn[17], line 1\u001b[0m\n\u001b[0;32m----> 1\u001b[0m __makeplot_power(\u001b[43mfjz\u001b[49m, f1z, f2z)\n",
      "\u001b[0;31mNameError\u001b[0m: name 'fjz' is not defined"
     ]
    }
   ],
   "source": [
    "__makeplot_power(fjz, f1z, f2z)"
   ]
  },
  {
   "cell_type": "markdown",
   "id": "21d6a855",
   "metadata": {},
   "source": [
    "## Plot Overview"
   ]
  },
  {
   "cell_type": "code",
   "execution_count": 18,
   "id": "832c50ca",
   "metadata": {
    "ExecuteTime": {
     "end_time": "2023-05-30T14:45:28.105790Z",
     "start_time": "2023-05-30T14:45:28.105770Z"
    },
    "tags": []
   },
   "outputs": [
    {
     "ename": "FileNotFoundError",
     "evalue": "[Errno 2] No such file or directory: '/import/kilauea-data/sagnac_frequency/autodata/FJZ_20230516.pkl'",
     "output_type": "error",
     "traceback": [
      "\u001b[0;31m---------------------------------------------------------------------------\u001b[0m",
      "\u001b[0;31mFileNotFoundError\u001b[0m                         Traceback (most recent call last)",
      "Cell \u001b[0;32mIn[18], line 5\u001b[0m\n\u001b[1;32m      1\u001b[0m \u001b[38;5;28;01mfrom\u001b[39;00m \u001b[38;5;21;01mpandas\u001b[39;00m \u001b[38;5;28;01mimport\u001b[39;00m read_pickle\n\u001b[1;32m      3\u001b[0m path \u001b[38;5;241m=\u001b[39m data_path\u001b[38;5;241m+\u001b[39m\u001b[38;5;124m\"\u001b[39m\u001b[38;5;124msagnac_frequency/autodata/\u001b[39m\u001b[38;5;124m\"\u001b[39m\n\u001b[0;32m----> 5\u001b[0m df \u001b[38;5;241m=\u001b[39m \u001b[43mread_pickle\u001b[49m\u001b[43m(\u001b[49m\u001b[43mpath\u001b[49m\u001b[38;5;241;43m+\u001b[39;49m\u001b[38;5;124;43m\"\u001b[39;49m\u001b[38;5;124;43mFJZ_20230516.pkl\u001b[39;49m\u001b[38;5;124;43m\"\u001b[39;49m\u001b[43m)\u001b[49m\n\u001b[1;32m      7\u001b[0m df\u001b[38;5;241m.\u001b[39msort_values(by\u001b[38;5;241m=\u001b[39m\u001b[38;5;124m\"\u001b[39m\u001b[38;5;124mtimes_mjd\u001b[39m\u001b[38;5;124m\"\u001b[39m, inplace\u001b[38;5;241m=\u001b[39m\u001b[38;5;28;01mTrue\u001b[39;00m)\n\u001b[1;32m      8\u001b[0m df\u001b[38;5;241m.\u001b[39mreset_index(drop\u001b[38;5;241m=\u001b[39m\u001b[38;5;28;01mTrue\u001b[39;00m, inplace\u001b[38;5;241m=\u001b[39m\u001b[38;5;28;01mTrue\u001b[39;00m)\n",
      "File \u001b[0;32m~/anaconda3/envs/obs2/lib/python3.9/site-packages/pandas/io/pickle.py:190\u001b[0m, in \u001b[0;36mread_pickle\u001b[0;34m(filepath_or_buffer, compression, storage_options)\u001b[0m\n\u001b[1;32m    124\u001b[0m \u001b[38;5;250m\u001b[39m\u001b[38;5;124;03m\"\"\"\u001b[39;00m\n\u001b[1;32m    125\u001b[0m \u001b[38;5;124;03mLoad pickled pandas object (or any object) from file.\u001b[39;00m\n\u001b[1;32m    126\u001b[0m \n\u001b[0;32m   (...)\u001b[0m\n\u001b[1;32m    187\u001b[0m \u001b[38;5;124;03m4    4    9\u001b[39;00m\n\u001b[1;32m    188\u001b[0m \u001b[38;5;124;03m\"\"\"\u001b[39;00m\n\u001b[1;32m    189\u001b[0m excs_to_catch \u001b[38;5;241m=\u001b[39m (\u001b[38;5;167;01mAttributeError\u001b[39;00m, \u001b[38;5;167;01mImportError\u001b[39;00m, \u001b[38;5;167;01mModuleNotFoundError\u001b[39;00m, \u001b[38;5;167;01mTypeError\u001b[39;00m)\n\u001b[0;32m--> 190\u001b[0m \u001b[38;5;28;01mwith\u001b[39;00m \u001b[43mget_handle\u001b[49m\u001b[43m(\u001b[49m\n\u001b[1;32m    191\u001b[0m \u001b[43m    \u001b[49m\u001b[43mfilepath_or_buffer\u001b[49m\u001b[43m,\u001b[49m\n\u001b[1;32m    192\u001b[0m \u001b[43m    \u001b[49m\u001b[38;5;124;43m\"\u001b[39;49m\u001b[38;5;124;43mrb\u001b[39;49m\u001b[38;5;124;43m\"\u001b[39;49m\u001b[43m,\u001b[49m\n\u001b[1;32m    193\u001b[0m \u001b[43m    \u001b[49m\u001b[43mcompression\u001b[49m\u001b[38;5;241;43m=\u001b[39;49m\u001b[43mcompression\u001b[49m\u001b[43m,\u001b[49m\n\u001b[1;32m    194\u001b[0m \u001b[43m    \u001b[49m\u001b[43mis_text\u001b[49m\u001b[38;5;241;43m=\u001b[39;49m\u001b[38;5;28;43;01mFalse\u001b[39;49;00m\u001b[43m,\u001b[49m\n\u001b[1;32m    195\u001b[0m \u001b[43m    \u001b[49m\u001b[43mstorage_options\u001b[49m\u001b[38;5;241;43m=\u001b[39;49m\u001b[43mstorage_options\u001b[49m\u001b[43m,\u001b[49m\n\u001b[1;32m    196\u001b[0m \u001b[43m\u001b[49m\u001b[43m)\u001b[49m \u001b[38;5;28;01mas\u001b[39;00m handles:\n\u001b[1;32m    197\u001b[0m \n\u001b[1;32m    198\u001b[0m     \u001b[38;5;66;03m# 1) try standard library Pickle\u001b[39;00m\n\u001b[1;32m    199\u001b[0m     \u001b[38;5;66;03m# 2) try pickle_compat (older pandas version) to handle subclass changes\u001b[39;00m\n\u001b[1;32m    200\u001b[0m     \u001b[38;5;66;03m# 3) try pickle_compat with latin-1 encoding upon a UnicodeDecodeError\u001b[39;00m\n\u001b[1;32m    202\u001b[0m     \u001b[38;5;28;01mtry\u001b[39;00m:\n\u001b[1;32m    203\u001b[0m         \u001b[38;5;66;03m# TypeError for Cython complaints about object.__new__ vs Tick.__new__\u001b[39;00m\n\u001b[1;32m    204\u001b[0m         \u001b[38;5;28;01mtry\u001b[39;00m:\n",
      "File \u001b[0;32m~/anaconda3/envs/obs2/lib/python3.9/site-packages/pandas/io/common.py:865\u001b[0m, in \u001b[0;36mget_handle\u001b[0;34m(path_or_buf, mode, encoding, compression, memory_map, is_text, errors, storage_options)\u001b[0m\n\u001b[1;32m    856\u001b[0m         handle \u001b[38;5;241m=\u001b[39m \u001b[38;5;28mopen\u001b[39m(\n\u001b[1;32m    857\u001b[0m             handle,\n\u001b[1;32m    858\u001b[0m             ioargs\u001b[38;5;241m.\u001b[39mmode,\n\u001b[0;32m   (...)\u001b[0m\n\u001b[1;32m    861\u001b[0m             newline\u001b[38;5;241m=\u001b[39m\u001b[38;5;124m\"\u001b[39m\u001b[38;5;124m\"\u001b[39m,\n\u001b[1;32m    862\u001b[0m         )\n\u001b[1;32m    863\u001b[0m     \u001b[38;5;28;01melse\u001b[39;00m:\n\u001b[1;32m    864\u001b[0m         \u001b[38;5;66;03m# Binary mode\u001b[39;00m\n\u001b[0;32m--> 865\u001b[0m         handle \u001b[38;5;241m=\u001b[39m \u001b[38;5;28;43mopen\u001b[39;49m\u001b[43m(\u001b[49m\u001b[43mhandle\u001b[49m\u001b[43m,\u001b[49m\u001b[43m \u001b[49m\u001b[43mioargs\u001b[49m\u001b[38;5;241;43m.\u001b[39;49m\u001b[43mmode\u001b[49m\u001b[43m)\u001b[49m\n\u001b[1;32m    866\u001b[0m     handles\u001b[38;5;241m.\u001b[39mappend(handle)\n\u001b[1;32m    868\u001b[0m \u001b[38;5;66;03m# Convert BytesIO or file objects passed with an encoding\u001b[39;00m\n",
      "\u001b[0;31mFileNotFoundError\u001b[0m: [Errno 2] No such file or directory: '/import/kilauea-data/sagnac_frequency/autodata/FJZ_20230516.pkl'"
     ]
    }
   ],
   "source": [
    "from pandas import read_pickle\n",
    "\n",
    "path = data_path+\"sagnac_frequency/autodata/\"\n",
    "\n",
    "df = read_pickle(path+\"FJZ_20230516.pkl\")\n",
    "\n",
    "df.sort_values(by=\"times_mjd\", inplace=True)\n",
    "df.reset_index(drop=True, inplace=True)\n",
    "df.head()\n",
    "\n",
    "# df = df[(df.times_mjd > 60074) & (df.times_mjd < 60075)]"
   ]
  },
  {
   "cell_type": "code",
   "execution_count": 19,
   "id": "48956994",
   "metadata": {
    "ExecuteTime": {
     "end_time": "2023-05-30T14:45:28.107607Z",
     "start_time": "2023-05-30T14:45:28.107586Z"
    },
    "code_folding": [
     0
    ],
    "tags": []
   },
   "outputs": [],
   "source": [
    "def __makeplot_overview2(df):\n",
    "\n",
    "\n",
    "    N = 5\n",
    "    font = 12\n",
    "    ms = 5\n",
    "    \n",
    "    fig, ax = plt.subplots(N,1,figsize=(15,10), sharex=True)\n",
    "\n",
    "    # plt.subplots_adjust(wspace=0.2)\n",
    "\n",
    "\n",
    "    ## ______________________________\n",
    "\n",
    "    ax[0].scatter(df.times_mjd, df.fz, c=\"tab:blue\", label=\"FZ\", s=ms, alpha=0.4, zorder=2)\n",
    "    ax[0].scatter(df.times_mjd, df.f1, c=\"tab:orange\", label=\"CCW\", s=ms, alpha=0.4, zorder=2)\n",
    "    ax[0].scatter(df.times_mjd, df.f2, c=\"tab:red\", label=\"CW\", s=ms, alpha=0.4, zorder=2)\n",
    "\n",
    "    ax[0].ticklabel_format(useOffset=False, style='plain')\n",
    "    ax[0].set_ylabel(\"Freq. (Hz)\", fontsize=font)\n",
    "    ax[0].legend(loc=1, fontsize=font-2, ncol=3, bbox_to_anchor=(1, 1.3))\n",
    "    \n",
    "\n",
    "    ## ______________________________\n",
    "\n",
    "    ax[1].scatter(df.times_mjd, df.fz, c=\"tab:blue\", s=ms, alpha=0.4, zorder=2)\n",
    "    ax[1].scatter(df.times_mjd, df.f1, c=\"tab:orange\", s=ms, alpha=0.4, zorder=2)\n",
    "    ax[1].scatter(df.times_mjd, df.f2, c=\"tab:red\", s=ms, alpha=0.4, zorder=2)\n",
    "\n",
    "#     ax[1].plot(df.times_mjd, df.fz, c=\"tab:blue\", alpha=0.4, zorder=1)\n",
    "#     ax[1].plot(df.times_mjd, df.f1, c=\"tab:orange\", alpha=0.4, zorder=1)\n",
    "#     ax[1].plot(df.times_mjd, df.f2, c=\"tab:red\", alpha=0.4, zorder=1)\n",
    "\n",
    "\n",
    "    ax[1].set_ylim(df.fz.mean()-0.5*df.fz.std(), df.fz.mean()+0.5*df.fz.std())\n",
    "    ax[1].ticklabel_format(useOffset=False, style='plain')\n",
    "    ax[1].set_ylabel(\"Freq. (Hz)\", fontsize=font)\n",
    "\n",
    "    ## ______________________________\n",
    "\n",
    "    ax[2].scatter(df.times_mjd, df.ac_z, c=\"tab:blue\", s=ms, alpha=0.4, zorder=2)\n",
    "    ax[2].scatter(df.times_mjd, df.ac_1, c=\"tab:orange\", s=ms, alpha=0.4, zorder=2)\n",
    "    ax[2].scatter(df.times_mjd, df.ac_2, c=\"tab:red\", s=ms, alpha=0.4, zorder=2)\n",
    "\n",
    "#     ax[2].plot(df.times_mjd, df.ac_z, c=\"tab:blue\", alpha=0.4, zorder=1)\n",
    "#     ax[2].plot(df.times_mjd, df.ac_1, c=\"tab:orange\", alpha=0.4, zorder=1)\n",
    "#     ax[2].plot(df.times_mjd, df.ac_2, c=\"tab:red\", alpha=0.4, zorder=1)\n",
    "\n",
    "    ax[2].set_ylim(0, 0.5)\n",
    "    ax[2].set_ylabel(\"AC (V)\", fontsize=font)\n",
    "\n",
    "    ## ______________________________\n",
    "\n",
    "    ax[3].scatter(df.times_mjd, df.dc_z, c=\"tab:blue\", s=ms, alpha=0.4, zorder=2)\n",
    "    ax[3].scatter(df.times_mjd, df.dc_1, c=\"tab:orange\", s=ms, alpha=0.4, zorder=2)\n",
    "    ax[3].scatter(df.times_mjd, df.dc_2, c=\"tab:red\", s=ms, alpha=0.4, zorder=2)\n",
    "\n",
    "#     ax[3].plot(df.times_mjd, df.dc_z, c=\"tab:blue\", alpha=0.4, zorder=1)\n",
    "#     ax[3].plot(df.times_mjd, df.dc_1, c=\"tab:orange\", alpha=0.4, zorder=1)\n",
    "#     ax[3].plot(df.times_mjd, df.dc_2, c=\"tab:red\", alpha=0.4, zorder=1)\n",
    "\n",
    "    ax[3].set_ylabel(\"DC (V)\", fontsize=font)\n",
    "    # ax[3].set_ylim(0, 0.1)\n",
    "\n",
    "    ## ______________________________\n",
    "\n",
    "    ax[4].scatter(df.times_mjd, df.contrast_z, c=\"tab:blue\", s=ms, alpha=0.4, zorder=2)\n",
    "    ax[4].scatter(df.times_mjd, df.contrast_1, c=\"tab:orange\", s=ms, alpha=0.4, zorder=2)\n",
    "    ax[4].scatter(df.times_mjd, df.contrast_2, c=\"tab:red\", s=ms, alpha=0.4, zorder=2)\n",
    "\n",
    "#     ax[4].plot(df.times_mjd, df.contrast_z, c=\"tab:blue\", alpha=0.4, zorder=1)\n",
    "#     ax[4].plot(df.times_mjd, df.contrast_1, c=\"tab:orange\", alpha=0.4, zorder=1)\n",
    "#     ax[4].plot(df.times_mjd, df.contrast_2, c=\"tab:red\", alpha=0.4, zorder=1)\n",
    "\n",
    "    ax[4].set_ylim(0, 0.5)\n",
    "    ax[4].set_ylabel(\"Contrast (V)\", fontsize=font)\n",
    "\n",
    "    \n",
    "    \n",
    "    for n in range(N):\n",
    "        ax[n].grid(alpha=0.8, ls=\":\", zorder=0)\n",
    "\n",
    "        \n",
    "    ax[N-1].set_xlabel(\"Time (mjd)\")\n",
    "    ax[0].set_title(\"ROMY-Z Sagnac Signal \", fontsize=font+1, pad=10)\n",
    "        \n",
    "        \n",
    "    return fig"
   ]
  },
  {
   "cell_type": "code",
   "execution_count": 20,
   "id": "c307e370",
   "metadata": {
    "ExecuteTime": {
     "end_time": "2023-05-30T14:45:28.108941Z",
     "start_time": "2023-05-30T14:45:28.108922Z"
    },
    "tags": []
   },
   "outputs": [
    {
     "ename": "NameError",
     "evalue": "name 'df' is not defined",
     "output_type": "error",
     "traceback": [
      "\u001b[0;31m---------------------------------------------------------------------------\u001b[0m",
      "\u001b[0;31mNameError\u001b[0m                                 Traceback (most recent call last)",
      "Cell \u001b[0;32mIn[20], line 1\u001b[0m\n\u001b[0;32m----> 1\u001b[0m __makeplot_overview2(\u001b[43mdf\u001b[49m)\n",
      "\u001b[0;31mNameError\u001b[0m: name 'df' is not defined"
     ]
    }
   ],
   "source": [
    "__makeplot_overview2(df)"
   ]
  },
  {
   "cell_type": "code",
   "execution_count": null,
   "id": "f2149905",
   "metadata": {},
   "outputs": [],
   "source": []
  }
 ],
 "metadata": {
  "kernelspec": {
   "display_name": "Python 3 (ipykernel)",
   "language": "python",
   "name": "python3"
  },
  "language_info": {
   "codemirror_mode": {
    "name": "ipython",
    "version": 3
   },
   "file_extension": ".py",
   "mimetype": "text/x-python",
   "name": "python",
   "nbconvert_exporter": "python",
   "pygments_lexer": "ipython3",
   "version": "3.9.16"
  },
  "latex_envs": {
   "LaTeX_envs_menu_present": true,
   "autoclose": false,
   "autocomplete": true,
   "bibliofile": "biblio.bib",
   "cite_by": "apalike",
   "current_citInitial": 1,
   "eqLabelWithNumbers": true,
   "eqNumInitial": 1,
   "hotkeys": {
    "equation": "Ctrl-E",
    "itemize": "Ctrl-I"
   },
   "labels_anchors": false,
   "latex_user_defs": false,
   "report_style_numbering": false,
   "user_envs_cfg": false
  },
  "toc": {
   "base_numbering": 1,
   "nav_menu": {},
   "number_sections": true,
   "sideBar": true,
   "skip_h1_title": false,
   "title_cell": "Table of Contents",
   "title_sidebar": "Contents",
   "toc_cell": false,
   "toc_position": {},
   "toc_section_display": true,
   "toc_window_display": false
  },
  "varInspector": {
   "cols": {
    "lenName": 16,
    "lenType": 16,
    "lenVar": 40
   },
   "kernels_config": {
    "python": {
     "delete_cmd_postfix": "",
     "delete_cmd_prefix": "del ",
     "library": "var_list.py",
     "varRefreshCmd": "print(var_dic_list())"
    },
    "r": {
     "delete_cmd_postfix": ") ",
     "delete_cmd_prefix": "rm(",
     "library": "var_list.r",
     "varRefreshCmd": "cat(var_dic_list()) "
    }
   },
   "types_to_exclude": [
    "module",
    "function",
    "builtin_function_or_method",
    "instance",
    "_Feature"
   ],
   "window_display": false
  }
 },
 "nbformat": 4,
 "nbformat_minor": 5
}
