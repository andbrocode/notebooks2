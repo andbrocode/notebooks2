{
 "cells": [
  {
   "cell_type": "markdown",
   "id": "1e17d705",
   "metadata": {},
   "source": [
    "## Analysis of MonoBeams"
   ]
  },
  {
   "cell_type": "markdown",
   "id": "f0e3eee2",
   "metadata": {},
   "source": [
    "New Boards for monobeam recording set up for Westring (RV) on 2024-05-22 (~12:00 UTC)"
   ]
  },
  {
   "cell_type": "markdown",
   "id": "0e450631",
   "metadata": {},
   "source": [
    "### Imports"
   ]
  },
  {
   "cell_type": "code",
   "execution_count": null,
   "id": "57bf631e",
   "metadata": {
    "ExecuteTime": {
     "end_time": "2023-05-30T10:43:20.300995Z",
     "start_time": "2023-05-30T10:43:19.120368Z"
    },
    "tags": []
   },
   "outputs": [],
   "source": [
    "import os\n",
    "import numpy as np\n",
    "import obspy as obs\n",
    "import matplotlib.pyplot as plt\n",
    "\n",
    "from andbro__read_sds import __read_sds\n",
    "from scipy.signal import hilbert\n",
    "\n",
    "from functions.compute_psd_array import __compute_psd_array\n"
   ]
  },
  {
   "cell_type": "code",
   "execution_count": null,
   "id": "63ad0aea-714f-4396-b471-7769a8eadb91",
   "metadata": {
    "tags": []
   },
   "outputs": [],
   "source": [
    "if os.uname().nodename == 'lighthouse':\n",
    "    root_path = '/home/andbro/'\n",
    "    data_path = '/home/andbro/kilauea-data/'\n",
    "    archive_path = '/home/andbro/freenas/'\n",
    "    bay_path = '/home/andbro/ontap-ffb-bay200/'\n",
    "    lamont_path = '/home/andbro/lamont/'\n",
    "elif os.uname().nodename == 'kilauea':\n",
    "    root_path = '/home/brotzer/'\n",
    "    data_path = '/import/kilauea-data/'\n",
    "    archive_path = '/import/freenas-ffb-01-data/'\n",
    "    bay_path = '/import/ontap-ffb-bay200/'\n",
    "    lamont_path = '/lamont/'\n",
    "elif os.uname().nodename in ['lin-ffb-01', 'ambrym', 'hochfelln']:\n",
    "    root_path = '/home/brotzer/'\n",
    "    data_path = '/import/kilauea-data/'\n",
    "    archive_path = '/import/freenas-ffb-01-data/'\n",
    "    bay_path = '/import/ontap-ffb-bay200/'\n",
    "    lamont_path = '/lamont/'"
   ]
  },
  {
   "cell_type": "code",
   "execution_count": null,
   "id": "29f1e982",
   "metadata": {
    "ExecuteTime": {
     "end_time": "2023-05-30T10:43:20.312577Z",
     "start_time": "2023-05-30T10:43:20.305903Z"
    },
    "code_folding": [
     0
    ],
    "tags": []
   },
   "outputs": [],
   "source": [
    "def __get_inventory_from_client(config):\n",
    "\n",
    "    from obspy.clients.fdsn import Client\n",
    "\n",
    "    cli = Client(base_url=config['client'], timeout=100)\n",
    "\n",
    "    try:\n",
    "        inv = cli.get_stations(network=config['seed'].split(\".\")[0],\n",
    "                               station=config['seed'].split(\".\")[1],\n",
    "                               location=config['seed'].split(\".\")[2],\n",
    "                               channel='*',\n",
    "                               starttime=config['tbeg'],\n",
    "                               endtime=config['tend'],\n",
    "                               level=\"response\")\n",
    "    except:\n",
    "        print(f\"ERROR: failed to load inventory for {config['seed'].split('.')[1]}!\")\n",
    "\n",
    "    return inv"
   ]
  },
  {
   "cell_type": "markdown",
   "id": "1288376d",
   "metadata": {},
   "source": [
    "### Configurations"
   ]
  },
  {
   "cell_type": "code",
   "execution_count": null,
   "id": "af0f5cb7",
   "metadata": {
    "ExecuteTime": {
     "end_time": "2023-05-30T10:43:20.325903Z",
     "start_time": "2023-05-30T10:43:20.317927Z"
    },
    "tags": []
   },
   "outputs": [],
   "source": [
    "config = {}\n",
    "\n",
    "config['ring'] = \"Z\"\n",
    "\n",
    "# define data seed\n",
    "config['seeds'] = [\"BW.DROMY..F1V\",\n",
    "                   \"BW.DROMY..F2V\",\n",
    "                   \"BW.DROMY..FJZ\",\n",
    "                   # \"BW.ROMY.10.BJZ\"\n",
    "                  ]\n",
    "\n",
    "# checkup\n",
    "config['tbeg'] = obs.UTCDateTime(\"2024-07-29 16:50\")\n",
    "config['tend'] = obs.UTCDateTime(\"2024-07-29 17:00\")\n",
    "\n",
    "# checkup after new setup (PD switch)\n",
    "config['tbeg'] = obs.UTCDateTime(\"2024-08-01 13:30\")\n",
    "config['tend'] = obs.UTCDateTime(\"2024-08-01 13:40\")\n",
    "\n",
    "# checkup after new intensity control\n",
    "config['tbeg'] = obs.UTCDateTime(\"2024-08-07 11:30\")\n",
    "config['tend'] = obs.UTCDateTime(\"2024-08-07 11:35\")\n",
    "\n",
    "# set freq zoom\n",
    "config['flower'], config['fupper'] = 550, 555\n",
    "\n",
    "# path to SDS data archive\n",
    "config['path_to_sds'] = archive_path+\"romy_archive/\"\n",
    "\n",
    "# path to signal data\n",
    "config['path_to_data'] = archive_path+f\"romy_autodata/{config['tbeg'].year}/R{config['ring']}/\"\n",
    "\n",
    "# path to store figures\n",
    "config['path_to_figs'] = data_path+\"mono_beams/figures/\""
   ]
  },
  {
   "cell_type": "markdown",
   "id": "33075fc1",
   "metadata": {},
   "source": [
    "### Load Data"
   ]
  },
  {
   "cell_type": "code",
   "execution_count": null,
   "id": "3200f85d",
   "metadata": {
    "ExecuteTime": {
     "end_time": "2023-05-30T10:46:03.790799Z",
     "start_time": "2023-05-30T10:43:20.327312Z"
    },
    "code_folding": [
     1
    ],
    "tags": []
   },
   "outputs": [],
   "source": [
    "st0 = obs.Stream()\n",
    "\n",
    "for seed in config['seeds']:\n",
    "\n",
    "    print(f\" -> loading {seed}...\")\n",
    "\n",
    "    try:\n",
    "        st00 = __read_sds(config['path_to_sds'], seed, config['tbeg'], config['tend'], data_format='MSEED')\n",
    "    except:\n",
    "        print(f\" -> failed for {seed}\")\n",
    "\n",
    "    if len(st00) != 0:\n",
    "        st0 += st00\n",
    "\n",
    "st0 = st0.sort()\n",
    "\n",
    "st0.plot(equal_scale=False);"
   ]
  },
  {
   "cell_type": "code",
   "execution_count": null,
   "id": "7dbb6e6a",
   "metadata": {
    "ExecuteTime": {
     "end_time": "2023-05-30T10:46:03.948004Z",
     "start_time": "2023-05-30T10:46:03.792088Z"
    },
    "tags": []
   },
   "outputs": [],
   "source": [
    "st0.copy().trim(config['tbeg'], config['tbeg']+0.1).plot(equal_scale=False);"
   ]
  },
  {
   "cell_type": "markdown",
   "id": "619ed1fd",
   "metadata": {},
   "source": [
    "## Modify Data"
   ]
  },
  {
   "cell_type": "code",
   "execution_count": null,
   "id": "c8199499",
   "metadata": {
    "ExecuteTime": {
     "end_time": "2023-05-30T10:46:03.955068Z",
     "start_time": "2023-05-30T10:46:03.950008Z"
    },
    "tags": []
   },
   "outputs": [],
   "source": [
    "st = st0.copy()\n",
    "\n",
    "st = st.split().merge(fill_value=\"interpolate\")\n",
    "\n",
    "st = st.sort(['channel'])"
   ]
  },
  {
   "cell_type": "markdown",
   "id": "c1970c33",
   "metadata": {},
   "source": [
    "### convert from counts to volts: 0.59604645ug  from obsidian"
   ]
  },
  {
   "cell_type": "code",
   "execution_count": null,
   "id": "a3967ab5",
   "metadata": {
    "ExecuteTime": {
     "end_time": "2023-05-30T10:46:03.962512Z",
     "start_time": "2023-05-30T10:46:03.958005Z"
    },
    "tags": []
   },
   "outputs": [],
   "source": [
    "for tr in st:\n",
    "    if tr.stats.station == \"DROMY\":\n",
    "        tr.data = tr.data*0.59604645e-6 # V / count  [0.59604645ug  from obsidian]\n",
    "\n",
    "stx = st.select(station=\"DROMY\")"
   ]
  },
  {
   "cell_type": "code",
   "execution_count": null,
   "id": "4e03d24f",
   "metadata": {
    "ExecuteTime": {
     "end_time": "2023-05-30T10:46:04.083363Z",
     "start_time": "2023-05-30T10:46:03.965072Z"
    },
    "tags": []
   },
   "outputs": [],
   "source": [
    "st.copy().sort().trim(config['tbeg'], config['tbeg']+1).plot(equal_scale=False);"
   ]
  },
  {
   "cell_type": "code",
   "execution_count": null,
   "id": "abbd7690-aaa8-43da-bafc-4b086efe9af1",
   "metadata": {},
   "outputs": [],
   "source": [
    "st.detrend(\"linear\")\n",
    "st.filter(\"bandpass\", freqmin=540, freqmax=560,  zerophase=True)"
   ]
  },
  {
   "cell_type": "code",
   "execution_count": null,
   "id": "1705a6a7-f978-4888-91f4-454ec7fac4f1",
   "metadata": {},
   "outputs": [],
   "source": [
    "st.copy().sort().trim(config['tbeg'], config['tbeg']+0.2).plot(equal_scale=False);"
   ]
  },
  {
   "cell_type": "markdown",
   "id": "31a49018-c5ac-4aa4-a9ca-c4b69b32a53d",
   "metadata": {
    "tags": []
   },
   "source": [
    "## Plot"
   ]
  },
  {
   "cell_type": "code",
   "execution_count": null,
   "id": "de9bc044-f298-4f27-9e30-6a1d5c77023d",
   "metadata": {
    "tags": []
   },
   "outputs": [],
   "source": [
    "def __compute_psd_array(st0, twin_sec=60, spec=\"PSD\"):\n",
    "\n",
    "    from scipy.signal import welch\n",
    "    from scipy.signal import get_window\n",
    "    from scipy.fft import fft, fftfreq, fftshift\n",
    "    from scipy import signal\n",
    "    from numpy import angle, imag\n",
    "\n",
    "    def __get_fft(signal_in, dt, window=None):\n",
    "\n",
    "        ## determine length of the input time series\n",
    "        n = int(len(signal_in))\n",
    "\n",
    "\n",
    "        ## calculate spectrum (with or without window function applied to time series)\n",
    "        if window:\n",
    "            win = signal.get_window(window, n);\n",
    "            spectrum = fft(signal_in * win)\n",
    "\n",
    "        else:\n",
    "            spectrum = fft(signal_in)\n",
    "\n",
    "        ## calculate frequency array\n",
    "        frequencies = fftfreq(n, d=dt)\n",
    "\n",
    "\n",
    "        ## correct amplitudes of spectrum\n",
    "        magnitude = abs(spectrum) * 2.0 / n\n",
    "\n",
    "\n",
    "        phase = angle(spectrum, deg=False)\n",
    "        # phase = imag(spectrum)\n",
    "\n",
    "        ## return the positive frequencies\n",
    "        return  magnitude[0:n//2], frequencies[0:n//2], phase[0:n//2]\n",
    "\n",
    "    _st = st0.copy()\n",
    "\n",
    "    _st.sort(keys=['channel'], reverse=True)\n",
    "\n",
    "    nblock = int(_st[0].stats.sampling_rate * twin_sec)\n",
    "    overlap = int(0.5*nblock)\n",
    "    win = get_window('hann', nblock, True)\n",
    "\n",
    "    Pxxs, ffs, chs = [], [], []\n",
    "\n",
    "    for i, tr in enumerate(_st):\n",
    "        if spec.upper() == \"PSD\":\n",
    "            ff, Pxx = welch(tr.data,\n",
    "                            fs=tr.stats.sampling_rate,\n",
    "                            window=win,\n",
    "                            noverlap=overlap,\n",
    "                            nfft=nblock,\n",
    "                            scaling=\"density\",\n",
    "                            return_onesided=True)\n",
    "\n",
    "        elif spec.upper() == \"FFT\":\n",
    "            Pxx, ff, ph = __get_fft(tr.data, tr.stats.delta)\n",
    "\n",
    "        ffs.append(ff)\n",
    "        chs.append(tr.stats.channel)\n",
    "        Pxxs.append(Pxx)\n",
    "\n",
    "    out = {}\n",
    "    out['Pxxs'] = Pxxs\n",
    "    out['ffs'] = ffs\n",
    "    out['chs'] = chs\n",
    "\n",
    "    return out"
   ]
  },
  {
   "cell_type": "code",
   "execution_count": null,
   "id": "a7444a91-0ff7-4802-8ef5-8b5547934e32",
   "metadata": {
    "tags": []
   },
   "outputs": [],
   "source": [
    "out = __compute_psd_array(stx, twin_sec=30, spec=\"PSD\")"
   ]
  },
  {
   "cell_type": "code",
   "execution_count": null,
   "id": "763a6f24-f4be-4b51-beef-d4640bb7339f",
   "metadata": {
    "tags": []
   },
   "outputs": [],
   "source": [
    "Pxxs, ffs, chs = out['Pxxs'], out['ffs'], out['chs']"
   ]
  },
  {
   "cell_type": "markdown",
   "id": "e45471e3",
   "metadata": {},
   "source": [
    "### Plot PSD"
   ]
  },
  {
   "cell_type": "code",
   "execution_count": null,
   "id": "0879c46e",
   "metadata": {
    "ExecuteTime": {
     "end_time": "2023-05-30T10:46:04.111797Z",
     "start_time": "2023-05-30T10:46:04.104215Z"
    },
    "code_folding": [],
    "tags": []
   },
   "outputs": [],
   "source": [
    "def __makeplot_stream_PSD(st, twin_sec, f_lower_zoom=540, f_upper_zoom=560):\n",
    "\n",
    "    from scipy import fftpack\n",
    "    from numpy import abs\n",
    "    from scipy import signal\n",
    "    import matplotlib.pyplot as plt\n",
    "\n",
    "    def __fft(signal_in, dt, window=None):\n",
    "\n",
    "        from scipy.fft import fft, fftfreq, fftshift\n",
    "        from scipy import signal\n",
    "        from numpy import angle\n",
    "\n",
    "        ## determine length of the input time series\n",
    "        n = int(len(signal_in))\n",
    "\n",
    "\n",
    "        ## calculate spectrum (with or without window function applied to time series)\n",
    "        if window:\n",
    "            win = signal.get_window(window, n);\n",
    "            spectrum = fft(signal_in * win)\n",
    "\n",
    "        else:\n",
    "            spectrum = fft(signal_in)\n",
    "\n",
    "        ## calculate frequency array\n",
    "        frequencies = fftfreq(n, d=dt)\n",
    "\n",
    "\n",
    "        ## correct amplitudes of spectrum\n",
    "        magnitude = 2.0 / n * abs(spectrum)\n",
    "\n",
    "\n",
    "        phase = angle(spectrum, deg=False)\n",
    "        # phase = imag(spectrum)\n",
    "\n",
    "        ## return the positive frequencies\n",
    "        return frequencies[0:n//2], magnitude[0:n//2], phase[0:n//2]\n",
    "\n",
    "\n",
    "    nblock = int(st[0].stats.sampling_rate * twin_sec)\n",
    "\n",
    "    overlap = int(0.5*nblock)\n",
    "\n",
    "    print(f\" -> nseg = {nblock} | overlap = {overlap}\")\n",
    "\n",
    "    win = signal.get_window(\"hann\", nblock)\n",
    "\n",
    "\n",
    "    fig, axes = plt.subplots(len(st),2,figsize=(15,10), sharex='col')\n",
    "\n",
    "    plt.subplots_adjust(hspace=0.1)\n",
    "\n",
    "    font = 12\n",
    "\n",
    "    ## _______________________________________________\n",
    "\n",
    "    st.sort(keys=['channel'], reverse=True)\n",
    "\n",
    "    Pxxs, ffs, chs = [], [], []\n",
    "\n",
    "    for i, tr in enumerate(st):\n",
    "\n",
    "        ff, Pxx = signal.welch(tr.data,\n",
    "                               fs=tr.stats.sampling_rate,\n",
    "                               window=win,\n",
    "                               noverlap=overlap,\n",
    "                               nfft=nblock,\n",
    "                               scaling=\"density\",\n",
    "                               return_onesided=True,\n",
    "                              )\n",
    "\n",
    "        # ff, Pxx, ph = __fft(tr.data,\n",
    "        #                     tr.stats.delta,\n",
    "        #                     window=\"hann\",\n",
    "        #                    )\n",
    "\n",
    "\n",
    "        ffs.append(ff)\n",
    "        chs.append(tr.stats.channel)\n",
    "        Pxxs.append(Pxx)\n",
    "\n",
    "        ## _________________________________________________________________\n",
    "        axes[i,0].plot(\n",
    "                    tr.times()[:400],\n",
    "                    tr.data[:400],\n",
    "                    color='black',\n",
    "                    label='{} {}'.format(tr.stats.station, tr.stats.channel),\n",
    "                    lw=1.0,\n",
    "                    )\n",
    "\n",
    "\n",
    "        ## _________________________________________________________________\n",
    "        axes[i,1].semilogy(\n",
    "                    ff,\n",
    "                    Pxx,\n",
    "                    color='black',\n",
    "                    lw=1.0,\n",
    "                    )\n",
    "\n",
    "        axes[i,1].set_ylim(min(Pxx[10:]), max(Pxx[10:]))\n",
    "\n",
    "        axes[i,0].set_ylabel(r'Voltage (V)', fontsize=font)\n",
    "\n",
    "        axes[i,1].set_ylabel(r'PSD (V$^2$/Hz)', fontsize=font)\n",
    "\n",
    "        axes[2,0].set_xlabel(r'Time (s)', fontsize=font)\n",
    "\n",
    "        axes[2,1].set_xlabel(r'Frequency (Hz)', fontsize=font)\n",
    "\n",
    "        axes[i,0].legend(loc='upper left', framealpha=.8)\n",
    "\n",
    "#         axes[i,0].ticklabel_format(axis='y', style='sci', scilimits=(0,0))\n",
    "#         axes[i,1].ticklabel_format(axis='y', style='sci', scilimits=(0,0))\n",
    "\n",
    "        axes[i,1].set_xlim(f_lower_zoom, f_upper_zoom)\n",
    "        axes[i,1].set_ylim(1e-10, 1e0)\n",
    "\n",
    "\n",
    "    plt.show();\n",
    "    return fig, (Pxxs, ffs, chs)"
   ]
  },
  {
   "cell_type": "code",
   "execution_count": null,
   "id": "b67308fb",
   "metadata": {
    "ExecuteTime": {
     "end_time": "2023-05-30T10:46:04.400625Z",
     "start_time": "2023-05-30T10:46:04.113995Z"
    },
    "tags": []
   },
   "outputs": [],
   "source": [
    "fig, _ = __makeplot_stream_PSD(stx, twin_sec=30, f_lower_zoom=config['flower'], f_upper_zoom=config['fupper']);\n",
    "\n",
    "# fig.savefig(config['path_to_figs']+f\"Monobeams_R{config['ring']}_{stx[0].stats.starttime.date}_trace&PSD.png\", format=\"png\", dpi=150, bbox_inches='tight')\n"
   ]
  },
  {
   "cell_type": "code",
   "execution_count": null,
   "id": "5c5e6db7-84b2-4aba-9cd5-4dfe9c1791f7",
   "metadata": {
    "tags": []
   },
   "outputs": [],
   "source": [
    "# m1 = st0.select(channel=\"F1V\")[0].data\n",
    "# m2 = st0.select(channel=\"F2V\")[0].data\n",
    "# res = m1 - m2\n",
    "\n",
    "# plt.plot(res[0:300])"
   ]
  },
  {
   "cell_type": "markdown",
   "id": "6315ada8-1473-468e-92ef-77168cf68140",
   "metadata": {},
   "source": [
    "## Spectrogram"
   ]
  },
  {
   "cell_type": "code",
   "execution_count": null,
   "id": "35f52e65",
   "metadata": {
    "tags": []
   },
   "outputs": [],
   "source": [
    "# params = [1048, 128, 32]\n",
    "\n",
    "# for tr in stx:\n",
    "#     __makeplot_trace_spectrogram(tr, unit='hour', normalize=True, spec_param=params);\n",
    "\n",
    "# plt.show();"
   ]
  },
  {
   "cell_type": "markdown",
   "id": "2da7c353-f763-4fcd-98b3-047d39a9cc4f",
   "metadata": {
    "ExecuteTime": {
     "end_time": "2023-05-30T10:46:04.403606Z",
     "start_time": "2023-05-30T10:46:04.403597Z"
    },
    "tags": []
   },
   "source": [
    "## PSD Overview"
   ]
  },
  {
   "cell_type": "code",
   "execution_count": null,
   "id": "33355e04-c147-4b42-9410-a96b77b8d6ff",
   "metadata": {
    "tags": []
   },
   "outputs": [],
   "source": [
    "def __makelot_psd():\n",
    "\n",
    "    plt.figure(figsize=(15, 10))\n",
    "\n",
    "    for f, pxx, cha in zip(ffs, Pxxs, chs):\n",
    "\n",
    "        if cha == \"FJZ\":\n",
    "            plt.plot(f, pxx, label=cha, zorder=1)\n",
    "        else:\n",
    "            plt.plot(f, pxx, label=cha, zorder=2)\n",
    "\n",
    "        plt.xscale(\"log\")\n",
    "        plt.yscale(\"log\")\n",
    "\n",
    "    #     plt.xlim(500, 560)\n",
    "\n",
    "        plt.ylim(1e-10, 1e-3)\n",
    "\n",
    "        plt.legend(loc=1)\n",
    "\n",
    "        plt.ylabel(r\"PSD (V/$\\sqrt{Hz}$)\", fontsize=14)\n",
    "        plt.xlabel(\"Frequency (Hz)\", fontsize=14)\n",
    "\n",
    "        plt.grid(which=\"both\", ls=\":\", zorder=-1, alpha=0.7)\n",
    "\n",
    "    plt.show();\n",
    "    return fig"
   ]
  },
  {
   "cell_type": "code",
   "execution_count": null,
   "id": "5d58123e",
   "metadata": {
    "ExecuteTime": {
     "end_time": "2023-05-30T10:46:04.404428Z",
     "start_time": "2023-05-30T10:46:04.404418Z"
    },
    "tags": []
   },
   "outputs": [],
   "source": [
    "\n",
    "fig = __makelot_psd()\n",
    "\n",
    "fig.savefig(config['path_to_figs']+f\"Monobeams_R{config['ring']}_PSDoverview_{stx[0].stats.starttime.date}.png\", format=\"png\", dpi=150, bbox_inches='tight')\n"
   ]
  },
  {
   "cell_type": "code",
   "execution_count": null,
   "id": "3dccf30d-f34b-422b-b8a4-037c335401f5",
   "metadata": {
    "tags": []
   },
   "outputs": [],
   "source": [
    "def __makeplot_psd_overview_with_zoomin(Pxxs, ffs, chs, fmin, fmax):\n",
    "\n",
    "    from matplotlib.gridspec import GridSpec\n",
    "    from functions.to_dB import __to_dB\n",
    "    from numpy import log10\n",
    "\n",
    "    font = 14\n",
    "\n",
    "    fig = plt.figure(figsize=(15, 8))\n",
    "\n",
    "    plt.subplots_adjust(wspace=0.05)\n",
    "\n",
    "    gs = GridSpec(1, 2, width_ratios=[2, 1])\n",
    "\n",
    "\n",
    "    max_db = []\n",
    "    for jj in range(len(Pxxs)):\n",
    "        max_db.append(max(__to_dB(Pxxs[jj])))\n",
    "    max_max_db = round(max(max_db), 0)\n",
    "\n",
    "\n",
    "    ax1 = fig.add_subplot(gs[0])\n",
    "    ax1.semilogx(ffs[0], __to_dB(Pxxs[0], power=True), alpha=0.5, color=\"tab:blue\", label=chs[0])\n",
    "    ax1.semilogx(ffs[1], __to_dB(Pxxs[1], power=True), alpha=0.5, color=\"tab:orange\", label=chs[1])\n",
    "    ax1.semilogx(ffs[2], __to_dB(Pxxs[2], power=True), alpha=0.5, color=\"tab:green\", label=chs[2], zorder=2)\n",
    "\n",
    "    ax1.grid(alpha=0.2, which=\"both\")\n",
    "    ax1.set_xlabel(\"Frequency (Hz)\", fontsize=font)\n",
    "    ax1.set_ylabel(f\"PSD (dB rel. to ({max_max_db} $V^2$/Hz))\", fontsize=font)\n",
    "    ax1.legend(loc=\"upper center\", fontsize=font-1, ncol=3)\n",
    "    ax1.tick_params(labelsize=font-2)\n",
    "\n",
    "    ax1.set_ylim(-110, max_max_db)\n",
    "\n",
    "\n",
    "\n",
    "    ax2 = fig.add_subplot(gs[1])\n",
    "    ax2.plot(ffs[0], __to_dB(Pxxs[0], power=True), alpha=0.5, color=\"tab:blue\")\n",
    "    ax2.plot(ffs[1], __to_dB(Pxxs[1], power=True), alpha=0.5, color=\"tab:orange\")\n",
    "    ax2.plot(ffs[2], __to_dB(Pxxs[2], power=True), alpha=0.5, color=\"tab:green\", zorder=2)\n",
    "\n",
    "    ax2.set_xlabel(\"Frequency (Hz)\", fontsize=font)\n",
    "    ax2.grid(alpha=0.2, which=\"both\")\n",
    "    ax2.tick_params(labelsize=font-2)\n",
    "    ax2.set_yticklabels([])\n",
    "\n",
    "    ax2.set_ylim(-110, max_max_db)\n",
    "    ax2.set_xlim(fmin, fmax)\n",
    "\n",
    "    ax1.text(.01, .99, '(a)', ha='left', va='top', transform=ax1.transAxes, fontsize=font+2)\n",
    "    ax2.text(.01, .99, '(b)', ha='left', va='top', transform=ax2.transAxes, fontsize=font+2)\n",
    "\n",
    "    time_str = f\"{str(stx[0].stats.starttime.time).split('.')[0]} - {str(stx[0].stats.endtime.time).split('.')[0]} UTC\"\n",
    "    ax1.set_title(f\"{stx[0].stats.starttime.date} {time_str}\")\n",
    "\n",
    "    plt.show();\n",
    "    return fig"
   ]
  },
  {
   "cell_type": "code",
   "execution_count": null,
   "id": "ead5e0b7-59d7-490e-985a-b9194248a9de",
   "metadata": {
    "tags": []
   },
   "outputs": [],
   "source": [
    "# fig = __makeplot_psd_overview_with_zoomin(Pxxs, ffs, chs, config['flower'], config['fupper'])\n",
    "\n",
    "# fig.savefig(config['path_to_figs']+f\"Monobeams_Westring_{stx[0].stats.starttime.date}.png\", format=\"png\", dpi=150, bbox_inches='tight')\n"
   ]
  },
  {
   "cell_type": "code",
   "execution_count": null,
   "id": "5e9b6448-649d-493c-b544-e231b1d50881",
   "metadata": {
    "tags": []
   },
   "outputs": [],
   "source": [
    "def __makeplot_psd_overview(stx, twin_sec=30, plot_dB=True):\n",
    "\n",
    "    import matplotlib.pyplot as plt\n",
    "    from matplotlib.gridspec import GridSpec\n",
    "    from functions.to_dB import __to_dB\n",
    "    from functions.compute_psd_array import __compute_psd_array\n",
    "    # from functions.get_fft import __get_fft\n",
    "\n",
    "    font = 14\n",
    "\n",
    "    f_lower_zoom1 = 553.5 - 50\n",
    "    f_upper_zoom1 = 553.5 + 50\n",
    "\n",
    "    f_lower_zoom2 = 553.5 - 2\n",
    "    f_upper_zoom2 = 553.5 + 2\n",
    "\n",
    "\n",
    "    stx = stx.detrend(\"demean\")\n",
    "\n",
    "    out = __compute_psd_array(stx, twin_sec=twin_sec)\n",
    "    Pxxs, ffs, chs = out['Pxxs'], out['ffs'], out['chs']\n",
    "\n",
    "\n",
    "    fig = plt.figure(figsize=(15, 8))\n",
    "\n",
    "    plt.subplots_adjust(wspace=0.05)\n",
    "\n",
    "    gs = GridSpec(2, 2, hspace=0.25)\n",
    "\n",
    "    ax1 = fig.add_subplot(gs[0, :])\n",
    "    ax2 = fig.add_subplot(gs[1, :1])\n",
    "    ax3 = fig.add_subplot(gs[1, 1:])\n",
    "\n",
    "\n",
    "    if plot_dB:\n",
    "        max_db = []\n",
    "        for jj in range(len(Pxxs)):\n",
    "            max_db.append(max(__to_dB(Pxxs[jj])))\n",
    "    max_max_db = round(max(max_db), 0)\n",
    "\n",
    "\n",
    "    for jj in range(len(Pxxs)):\n",
    "        if plot_dB:\n",
    "            ax1.plot(ffs[jj], __to_dB(Pxxs[jj])-max_max_db, alpha=0.5, label=chs[jj])\n",
    "            ax2.plot(ffs[jj], __to_dB(Pxxs[jj])-max_max_db, alpha=0.5, label=chs[jj])\n",
    "            ax3.plot(ffs[jj], __to_dB(Pxxs[jj])-max_max_db, alpha=0.5, label=chs[jj])\n",
    "\n",
    "        else:\n",
    "            ax1.loglog(ffs[1], Pxxs[0], alpha=0.5, label=chs[1])\n",
    "            ax2.loglog(ffs[1], Pxxs[0], alpha=0.5, label=chs[1])\n",
    "            ax3.loglog(ffs[1], Pxxs[0], alpha=0.5, label=chs[1])\n",
    "\n",
    "\n",
    "    ax1.grid(alpha=0.2, which=\"both\")\n",
    "    ax1.set_xlabel(\"Frequency (Hz)\", fontsize=font)\n",
    "    ax1.set_ylabel(f\"PSD (dB rel. to ({max_max_db} $V^2$/Hz))\", fontsize=font)\n",
    "    ax1.legend(loc=\"upper center\", fontsize=font-1, ncol=3)\n",
    "    ax1.tick_params(labelsize=font-2)\n",
    "    ax1.set_xscale(\"log\")\n",
    "    ax1.set_xlim(1e-1, 2500)\n",
    "\n",
    "    ax2.set_ylabel(f\"PSD (dB rel. to ({max_max_db} $V^2$/Hz))\", fontsize=font)\n",
    "    ax2.set_xlabel(\"Frequency (Hz)\", fontsize=font)\n",
    "    ax2.grid(alpha=0.2, which=\"both\")\n",
    "    ax2.tick_params(labelsize=font-2)\n",
    "\n",
    "    ax3.set_xlabel(\"Frequency (Hz)\", fontsize=font)\n",
    "    ax3.grid(alpha=0.2, which=\"both\")\n",
    "    ax3.tick_params(labelsize=font-2)\n",
    "    ax3.set_yticklabels([])\n",
    "\n",
    "\n",
    "    ax2.set_xlim(f_lower_zoom1, f_upper_zoom1)\n",
    "    ax3.set_xlim(f_lower_zoom2, f_upper_zoom2)\n",
    "\n",
    "    ax1.set_ylim(-120, 2)\n",
    "    ax2.set_ylim(-120, 2)\n",
    "    ax3.set_ylim(-120, 2)\n",
    "\n",
    "    ax1.text(.01, .99, '(a)', ha='left', va='top', transform=ax1.transAxes, fontsize=font+2)\n",
    "    ax2.text(.01, .99, '(b)', ha='left', va='top', transform=ax2.transAxes, fontsize=font+2)\n",
    "    ax3.text(.01, .99, '(c)', ha='left', va='top', transform=ax3.transAxes, fontsize=font+2)\n",
    "\n",
    "    time_str1 = f\"{stx[0].stats.starttime.date} {str(stx[0].stats.starttime.time).split('.')[0]} - {str(stx[0].stats.endtime.time).split('.')[0]} UTC\"\n",
    "    time_str2 = f\"{stx[1].stats.starttime.date} {str(stx[1].stats.starttime.time).split('.')[0]} - {str(stx[1].stats.endtime.time).split('.')[0]} UTC\"\n",
    "\n",
    "    ax1.set_title(f\"{time_str1} vs. {time_str2}\")\n",
    "\n",
    "    plt.show();\n",
    "    return fig\n",
    "\n",
    "fig = __makeplot_psd_overview(stx, twin_sec=120, plot_dB=True);\n",
    "\n",
    "# fig.savefig(config['path_to_figs']+f\"Monobeams_PSD_R{config['ring']}_{st[0].stats.channel}_{st[1].stats.channel}_overview.png\", format=\"png\", dpi=150, bbox_inches='tight')\n"
   ]
  },
  {
   "cell_type": "markdown",
   "id": "73ec34bb",
   "metadata": {
    "ExecuteTime": {
     "end_time": "2023-03-27T11:42:41.417915Z",
     "start_time": "2023-03-27T11:42:41.416366Z"
    },
    "tags": []
   },
   "source": [
    "### Plot Saganc Frequency"
   ]
  },
  {
   "cell_type": "code",
   "execution_count": null,
   "id": "aab7be63-6608-4fff-8ea6-c3d6924f98ce",
   "metadata": {
    "tags": []
   },
   "outputs": [],
   "source": [
    "config['path_to_data']+f\"{config['tbeg'].year}/R{config['ring']}/FJ{config['ring']}_{config['tbeg'].year}{config['tbeg'].month}{config['tbeg'].day}.pkl\""
   ]
  },
  {
   "cell_type": "code",
   "execution_count": null,
   "id": "f717c9f7",
   "metadata": {
    "ExecuteTime": {
     "end_time": "2023-05-30T10:46:04.092719Z",
     "start_time": "2023-05-30T10:46:04.087044Z"
    },
    "code_folding": [
     0
    ],
    "tags": []
   },
   "outputs": [],
   "source": [
    "from pandas import read_pickle\n",
    "\n",
    "date_str = f\"{config['tbeg'].year}{str(config['tbeg'].month).rjust(2,'0')}{str(config['tbeg'].day).rjust(2,'0')}\"\n",
    "\n",
    "df = read_pickle(config['path_to_data']+f\"/FJ{config['ring']}_{date_str}.pkl\")\n",
    "\n",
    "df.sort_values(by=\"times_mjd\", inplace=True)\n",
    "\n",
    "df.reset_index(drop=True, inplace=True)\n",
    "\n",
    "df"
   ]
  },
  {
   "cell_type": "code",
   "execution_count": null,
   "id": "5121800a-ccd0-4273-bb3e-39d26dfccefc",
   "metadata": {
    "tags": []
   },
   "outputs": [],
   "source": [
    "def __makeplot_overview2(df):\n",
    "\n",
    "\n",
    "    N = 5\n",
    "    font = 12\n",
    "    ms = 5\n",
    "\n",
    "    fig, ax = plt.subplots(N, 1, figsize=(15, 10), sharex=True)\n",
    "\n",
    "    # plt.subplots_adjust(wspace=0.2)\n",
    "\n",
    "\n",
    "    ## ______________________________\n",
    "\n",
    "    ax[0].scatter(df.times_mjd, df.fj, c=\"tab:blue\", label=\"FJ\", s=ms, alpha=0.4, zorder=2)\n",
    "    ax[0].scatter(df.times_mjd, df.f1, c=\"tab:orange\", label=\"CCW\", s=ms, alpha=0.4, zorder=2)\n",
    "    ax[0].scatter(df.times_mjd, df.f2, c=\"tab:red\", label=\"CW\", s=ms, alpha=0.4, zorder=2)\n",
    "\n",
    "    ax[0].ticklabel_format(useOffset=False, style='plain')\n",
    "    ax[0].set_ylabel(\"Freq. (Hz)\", fontsize=font)\n",
    "    ax[0].legend(loc=1, fontsize=font-2, ncol=3, bbox_to_anchor=(1, 1.3))\n",
    "\n",
    "\n",
    "    ## ______________________________\n",
    "\n",
    "    ax[1].scatter(df.times_mjd, df.fj, c=\"tab:blue\", s=ms, alpha=0.4, zorder=2)\n",
    "    ax[1].scatter(df.times_mjd, df.f1, c=\"tab:orange\", s=ms, alpha=0.4, zorder=2)\n",
    "    ax[1].scatter(df.times_mjd, df.f2, c=\"tab:red\", s=ms, alpha=0.4, zorder=2)\n",
    "\n",
    "    ax[1].set_ylim(df.fj.mean()-2*df.fj.std(), df.fj.mean()+2*df.fj.std())\n",
    "    ax[1].ticklabel_format(useOffset=False, style='plain')\n",
    "    ax[1].set_ylabel(\"Freq. (Hz)\", fontsize=font)\n",
    "\n",
    "    ## ______________________________\n",
    "\n",
    "    ax[2].scatter(df.times_mjd, df.ac_z, c=\"tab:blue\", s=ms, alpha=0.4, zorder=2)\n",
    "    ax[2].scatter(df.times_mjd, df.ac_1, c=\"tab:orange\", s=ms, alpha=0.4, zorder=2)\n",
    "    ax[2].scatter(df.times_mjd, df.ac_2, c=\"tab:red\", s=ms, alpha=0.4, zorder=2)\n",
    "\n",
    "\n",
    "    ax[2].set_ylim(0, 0.5)\n",
    "    ax[2].set_ylabel(\"AC (V)\", fontsize=font)\n",
    "\n",
    "    ## ______________________________\n",
    "\n",
    "    ax[3].scatter(df.times_mjd, df.dc_z, c=\"tab:blue\", s=ms, alpha=0.4, zorder=2)\n",
    "    ax[3].scatter(df.times_mjd, df.dc_1, c=\"tab:orange\", s=ms, alpha=0.4, zorder=2)\n",
    "    ax[3].scatter(df.times_mjd, df.dc_2, c=\"tab:red\", s=ms, alpha=0.4, zorder=2)\n",
    "\n",
    "    ax[3].set_ylabel(\"DC (V)\", fontsize=font)\n",
    "\n",
    "    ## ______________________________\n",
    "\n",
    "    ax[4].scatter(df.times_mjd, df.contrast_z, c=\"tab:blue\", s=ms, alpha=0.4, zorder=2)\n",
    "    ax[4].scatter(df.times_mjd, df.contrast_1, c=\"tab:orange\", s=ms, alpha=0.4, zorder=2)\n",
    "    ax[4].scatter(df.times_mjd, df.contrast_2, c=\"tab:red\", s=ms, alpha=0.4, zorder=2)\n",
    "\n",
    "    ax[4].set_ylim(0, 0.5)\n",
    "    ax[4].set_ylabel(\"Contrast (V)\", fontsize=font)\n",
    "\n",
    "\n",
    "\n",
    "    for n in range(N):\n",
    "        ax[n].grid(alpha=0.8, ls=\":\", zorder=0)\n",
    "\n",
    "\n",
    "    ax[N-1].set_xlabel(\"Time (mjd)\")\n",
    "    ax[0].set_title(\"ROMY-Z Sagnac Signal \", fontsize=font+1, pad=10)\n",
    "\n",
    "\n",
    "    return fig"
   ]
  },
  {
   "cell_type": "code",
   "execution_count": null,
   "id": "1266d879-25ce-48b8-a7b6-244b9cf1fb80",
   "metadata": {
    "tags": []
   },
   "outputs": [],
   "source": [
    "__makeplot_overview2(df);"
   ]
  },
  {
   "cell_type": "code",
   "execution_count": null,
   "id": "6b4dd74f-06c2-4a31-8ef6-75c8328fe566",
   "metadata": {},
   "outputs": [],
   "source": []
  }
 ],
 "metadata": {
  "kernelspec": {
   "display_name": "Python 3 (ipykernel)",
   "language": "python",
   "name": "python3"
  },
  "language_info": {
   "codemirror_mode": {
    "name": "ipython",
    "version": 3
   },
   "file_extension": ".py",
   "mimetype": "text/x-python",
   "name": "python",
   "nbconvert_exporter": "python",
   "pygments_lexer": "ipython3",
   "version": "3.9.19"
  },
  "toc": {
   "base_numbering": 1,
   "nav_menu": {},
   "number_sections": true,
   "sideBar": true,
   "skip_h1_title": false,
   "title_cell": "Table of Contents",
   "title_sidebar": "Contents",
   "toc_cell": false,
   "toc_position": {},
   "toc_section_display": true,
   "toc_window_display": false
  },
  "varInspector": {
   "cols": {
    "lenName": 16,
    "lenType": 16,
    "lenVar": 40
   },
   "kernels_config": {
    "python": {
     "delete_cmd_postfix": "",
     "delete_cmd_prefix": "del ",
     "library": "var_list.py",
     "varRefreshCmd": "print(var_dic_list())"
    },
    "r": {
     "delete_cmd_postfix": ") ",
     "delete_cmd_prefix": "rm(",
     "library": "var_list.r",
     "varRefreshCmd": "cat(var_dic_list()) "
    }
   },
   "types_to_exclude": [
    "module",
    "function",
    "builtin_function_or_method",
    "instance",
    "_Feature"
   ],
   "window_display": false
  }
 },
 "nbformat": 4,
 "nbformat_minor": 5
}
