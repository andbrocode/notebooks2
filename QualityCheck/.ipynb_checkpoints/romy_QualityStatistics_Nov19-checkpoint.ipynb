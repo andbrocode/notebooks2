{
 "cells": [
  {
   "cell_type": "markdown",
   "metadata": {},
   "source": [
    "### Load Libraries"
   ]
  },
  {
   "cell_type": "code",
   "execution_count": 1,
   "metadata": {
    "ExecuteTime": {
     "end_time": "2021-04-12T08:00:19.569068Z",
     "start_time": "2021-04-12T08:00:18.303697Z"
    }
   },
   "outputs": [],
   "source": [
    "import matplotlib.pyplot as plt\n",
    "import os\n",
    "\n",
    "\n",
    "from numpy import arange, array, cumsum\n",
    "from pandas import read_csv, DataFrame\n",
    "from numpy import zeros, median, linspace\n",
    "from obspy import UTCDateTime\n",
    "from numpy import isnan\n",
    "from obspy import UTCDateTime"
   ]
  },
  {
   "cell_type": "markdown",
   "metadata": {},
   "source": [
    "### Configurations"
   ]
  },
  {
   "cell_type": "markdown",
   "metadata": {
    "ExecuteTime": {
     "end_time": "2021-04-12T07:51:11.861952Z",
     "start_time": "2021-04-12T07:51:11.856990Z"
    }
   },
   "source": [
    "Several essential parameters are set. Only parameters in this cell have to be adjusted."
   ]
  },
  {
   "cell_type": "code",
   "execution_count": 2,
   "metadata": {
    "ExecuteTime": {
     "end_time": "2021-04-12T08:00:19.578861Z",
     "start_time": "2021-04-12T08:00:19.573656Z"
    }
   },
   "outputs": [],
   "source": [
    "## save figure eventually?\n",
    "save = True\n",
    "\n",
    "## which data to be loaded\n",
    "year = '2019'\n",
    "cha  = 'BJZ'\n",
    "mode = 'runq'\n",
    "\n",
    "## path specifications\n",
    "path = f'/home/andbro/Documents/ROMY/QualityCheck/{mode}/logs/'\n",
    "path2plots = f'/home/andbro/Documents/ROMY/QualityCheck/{mode}/'\n",
    "\n",
    "\n",
    "ifile = f'{year}_{cha}_overview'\n"
   ]
  },
  {
   "cell_type": "markdown",
   "metadata": {},
   "source": [
    "Data is read from overview-files and sorted by doy (just to be sure). It is check for double entries. November is extracted and boundaries set."
   ]
  },
  {
   "cell_type": "code",
   "execution_count": 3,
   "metadata": {
    "ExecuteTime": {
     "end_time": "2021-04-12T08:00:19.594367Z",
     "start_time": "2021-04-12T08:00:19.583422Z"
    },
    "scrolled": true
   },
   "outputs": [],
   "source": [
    "## read data\n",
    "data = read_csv(path+ifile, delimiter=\",\")\n",
    "\n",
    "\n",
    "## sort data frame in case any mixup occured\n",
    "data = data.sort_values(by=['doy'], ascending=True, axis=0)\n",
    "\n",
    "\n",
    "## check for doubles \n",
    "doubles = 0\n",
    "if data.doy.duplicated().any():\n",
    "    doubles +=1\n",
    "if doubles != 0:\n",
    "    print(f\"\\n {doubles} doubles found\")\n",
    "    sys.exit\n",
    "\n",
    "\n",
    "## extract November\n",
    "data = data[(data.doy > 304) & (data.doy < 335)]\n",
    "x1, x2  = 304.5, 334.5"
   ]
  },
  {
   "cell_type": "markdown",
   "metadata": {},
   "source": [
    "#### Calculate daily shares"
   ]
  },
  {
   "cell_type": "markdown",
   "metadata": {},
   "source": [
    "Daily shares are calulcated for each quality level individually relative to the overall samples per day. This avoids distortion of days with possibly less samples due to data gaps/errors."
   ]
  },
  {
   "cell_type": "code",
   "execution_count": 4,
   "metadata": {
    "ExecuteTime": {
     "end_time": "2021-04-12T08:00:19.601670Z",
     "start_time": "2021-04-12T08:00:19.597813Z"
    }
   },
   "outputs": [],
   "source": [
    "max_samples_per_day = max(data.total_samples)\n",
    "\n",
    "q0p = data.Q0/max_samples_per_day*100\n",
    "q1p = data.Q1/max_samples_per_day*100\n",
    "q2p = data.Q2/max_samples_per_day*100"
   ]
  },
  {
   "cell_type": "markdown",
   "metadata": {},
   "source": [
    "#### Define month labels"
   ]
  },
  {
   "cell_type": "code",
   "execution_count": 5,
   "metadata": {
    "ExecuteTime": {
     "end_time": "2021-04-12T08:00:19.610031Z",
     "start_time": "2021-04-12T08:00:19.606064Z"
    }
   },
   "outputs": [],
   "source": [
    "month_names = ['Jan', 'Feb', 'Mar', 'Apr', 'May', 'Jun', 'Jul', 'Aug','Sep', 'Oct', 'Nov', 'Dec']\n",
    "months = [0, 31, 28, 31, 30, 31, 30, 31, 31, 30 ,31, 30]\n",
    "m_cum = cumsum(months)+1\n"
   ]
  },
  {
   "cell_type": "markdown",
   "metadata": {},
   "source": [
    "# Check with Log File"
   ]
  },
  {
   "cell_type": "markdown",
   "metadata": {},
   "source": [
    "Sometimes a log file is also written and here read an checked for data gaps..."
   ]
  },
  {
   "cell_type": "code",
   "execution_count": 6,
   "metadata": {
    "ExecuteTime": {
     "end_time": "2021-04-12T08:00:19.621057Z",
     "start_time": "2021-04-12T08:00:19.612989Z"
    }
   },
   "outputs": [
    {
     "name": "stdout",
     "output_type": "stream",
     "text": [
      "no log file found !\n"
     ]
    }
   ],
   "source": [
    "log_no_data = f\"{path}{year}-{cha}.log\"\n",
    "\n",
    "if os.path.isfile(f\"{path}{year}-{cha}.log\"):\n",
    "    \n",
    "    no_data = read_csv(log_no_data, header=0, names =[\"Date\", \"Channel\", \"Comment\"])\n",
    "\n",
    "    doy = []\n",
    "    for i in no_data.Date.to_list():\n",
    "        doy.append(UTCDateTime(i).julday)\n",
    "\n",
    "    no_data[\"doy\"] = doy    \n",
    "    \n",
    "else:\n",
    "    print(\"no log file found !\")\n",
    "    no_data = DataFrame()\n",
    "    no_data[\"doy\"] = []"
   ]
  },
  {
   "cell_type": "markdown",
   "metadata": {},
   "source": [
    "# Plot Quality Overview Shares"
   ]
  },
  {
   "cell_type": "markdown",
   "metadata": {},
   "source": [
    "Plot with median frequency is generated"
   ]
  },
  {
   "cell_type": "code",
   "execution_count": 7,
   "metadata": {
    "ExecuteTime": {
     "end_time": "2021-04-12T08:00:20.746374Z",
     "start_time": "2021-04-12T08:00:19.624916Z"
    },
    "code_folding": [
     0
    ]
   },
   "outputs": [
    {
     "data": {
      "image/png": "[encoded data removed]",
      "text/plain": [
       "<Figure size 1080x288 with 2 Axes>"
      ]
     },
     "metadata": {
      "needs_background": "light"
     },
     "output_type": "display_data"
    }
   ],
   "source": [
    "def __makeplot_shares_Nov2019_v1():\n",
    "\n",
    "    fig, ax = plt.subplots(1, 1, figsize=(15,4))\n",
    "\n",
    "    font=16\n",
    "\n",
    "    width=0.8\n",
    "    ax.bar(data.doy, q0p, width, color=\"green\", alpha=0.6, label=\"Q0\", edgecolor=None, aa=True)\n",
    "    ax.bar(data.doy, q1p, width,bottom=q0p, color=\"gold\", alpha=0.8, label=\"Q1\", edgecolor=None, aa=True)\n",
    "    ax.bar(data.doy, q2p, width,bottom=q0p+q1p, color=\"darkred\", alpha=0.7, label=\"Q2\", edgecolor=None, aa=True)\n",
    "\n",
    "    # ax.plot(data.doy, data.bad_areas/data.Q2*100, zorder=1, color='black', ls='--', lw=0.8)\n",
    "\n",
    "\n",
    "#     for gap in gaps:\n",
    "#         ax.bar(gap, 100, width=width, color=\"grey\", alpha=0.3, zorder=2, aa=True)\n",
    "\n",
    "\n",
    "    ax.set_ylim(0,100)\n",
    "    # ax.set_xticks(m_cum)\n",
    "    # ax.set_xticklabels(month_names, rotation=20)\n",
    "\n",
    "    ax.set_xticks(data.doy)\n",
    "    ax.set_xticklabels(data.doy-304, rotation=40)\n",
    "\n",
    "\n",
    "#     ax.axhline(95, color='black', ls=':', label=\"95%\")\n",
    "\n",
    "    ax.set_ylabel(\"daily share (%)\", fontsize=font+2)\n",
    "    ax.set_xlabel(f\"days in November {year}\", fontsize=font+2)\n",
    "\n",
    "    ax.tick_params(axis='both', labelsize=font-1)\n",
    "\n",
    "    ax.set_title(f\"Quality Overview ROMY {cha[-1]}-component\", fontsize=font+4)\n",
    "\n",
    "    ax.legend(fontsize=font-3, loc=\"lower right\")\n",
    "\n",
    "    ax.set_xlim(x1,x2)\n",
    "\n",
    "\n",
    "    ## add second access\n",
    "    ax2 = ax.twinx()\n",
    "\n",
    "    col2 = \"darkblue\"\n",
    "    \n",
    "    ax2.plot(data.doy, data.frequency_med, color=col2, ls='--', zorder=1)\n",
    "    ax2.scatter(data.doy, data.frequency_med, color=col2, s=20, fc=\"white\", label=r\"f$_{median}$\", zorder=2)\n",
    "\n",
    "#     ax2.plot(data.doy, data.contrast, color=col2, ls='--', zorder=1)\n",
    "#     ax2.scatter(data.doy, data.contrast, color=col2, s=20, fc=\"white\", label=r\"f$_{median}$\", zorder=2)\n",
    "\n",
    "    ax2.tick_params(axis='both', labelsize=font-2, labelcolor=col2)\n",
    "    ax2.set_ylabel(\"median frequency (Hz)\", fontsize=font+2, color=col2, labelpad=10)\n",
    "\n",
    "    if cha == \"BJZ\":\n",
    "        ax2.set_ylim(553.2, 553.6)\n",
    "    if cha == \"BJU\":\n",
    "        ax2.set_ylim(302.5, 303.0)\n",
    "    if cha == \"BJV\":\n",
    "        ax2.set_ylim(447.7, 447.8)\n",
    "\n",
    "    plt.show();\n",
    "    \n",
    "    return fig\n",
    "\n",
    "\n",
    "## _____________________________________\n",
    "\n",
    "fig = __makeplot_shares_Nov2019_v1()\n",
    "\n",
    "\n",
    "if save:\n",
    "    fig.savefig(path2plots+\"figs/\"+f\"{year}_{cha}_overview_Nov2019_shares_frequency\", format=\"png\", dpi=300)"
   ]
  },
  {
   "cell_type": "markdown",
   "metadata": {},
   "source": [
    "Plot with median contrast is generated"
   ]
  },
  {
   "cell_type": "code",
   "execution_count": 8,
   "metadata": {
    "ExecuteTime": {
     "end_time": "2021-04-12T08:00:21.783113Z",
     "start_time": "2021-04-12T08:00:20.747506Z"
    },
    "code_folding": [
     0
    ]
   },
   "outputs": [
    {
     "data": {
      "image/png": "[encoded data removed]",
      "text/plain": [
       "<Figure size 1080x288 with 2 Axes>"
      ]
     },
     "metadata": {
      "needs_background": "light"
     },
     "output_type": "display_data"
    },
    {
     "name": "stdout",
     "output_type": "stream",
     "text": [
      "\n",
      "saving png ...\n",
      "\n"
     ]
    }
   ],
   "source": [
    "def __makeplot_shares_Nov2019_v2():\n",
    "\n",
    "    fig, ax = plt.subplots(1, 1, figsize=(15,4))\n",
    "\n",
    "    font=16\n",
    "\n",
    "    width=0.8\n",
    "    ax.bar(data.doy, q0p, width, color=\"green\", alpha=0.6, label=\"Q0\", edgecolor=None, aa=True)\n",
    "    ax.bar(data.doy, q1p, width,bottom=q0p, color=\"gold\", alpha=0.8, label=\"Q1\", edgecolor=None, aa=True)\n",
    "    ax.bar(data.doy, q2p, width,bottom=q0p+q1p, color=\"darkred\", alpha=0.7, label=\"Q2\", edgecolor=None, aa=True)\n",
    "\n",
    "    # ax.plot(data.doy, data.bad_areas/data.Q2*100, zorder=1, color='black', ls='--', lw=0.8)\n",
    "\n",
    "\n",
    "#     for gap in gaps:\n",
    "#         ax.bar(gap, 100, width=width, color=\"grey\", alpha=0.3, zorder=2, aa=True)\n",
    "\n",
    "\n",
    "    ax.set_ylim(0,100)\n",
    "    # ax.set_xticks(m_cum)\n",
    "    # ax.set_xticklabels(month_names, rotation=20)\n",
    "\n",
    "    ax.set_xticks(data.doy)\n",
    "    ax.set_xticklabels(data.doy-304, rotation=40)\n",
    "\n",
    "\n",
    "#     ax.axhline(95, color='black', ls=':', label=\"95%\")\n",
    "\n",
    "    ax.set_ylabel(\"daily share (%)\", fontsize=font+2)\n",
    "    ax.set_xlabel(f\"days in November {year}\", fontsize=font+2)\n",
    "\n",
    "    ax.tick_params(axis='both', labelsize=font-1)\n",
    "\n",
    "    ax.set_title(f\"Quality Overview ROMY {cha[-1]}-component\", fontsize=font+4)\n",
    "\n",
    "    ax.legend(fontsize=font-3, loc=\"lower right\")\n",
    "\n",
    "    ax.set_xlim(x1,x2)\n",
    "\n",
    "\n",
    "    ## add second access\n",
    "    ax2 = ax.twinx()\n",
    "\n",
    "    col2 = \"darkblue\"\n",
    "    \n",
    "    ax2.plot(data.doy, data.contrast, color=col2, ls='--', zorder=1)\n",
    "    ax2.scatter(data.doy, data.contrast, color=col2, s=20, fc=\"white\", label=r\"$\\Gamma_{median}$\", zorder=2)\n",
    "\n",
    "    ax2.tick_params(axis='both', labelsize=font-2, labelcolor=col2)\n",
    "    ax2.set_ylabel(r\"median $\\Gamma$\", fontsize=font+2, color=col2, labelpad=10)\n",
    "\n",
    "\n",
    "    plt.show();\n",
    "    \n",
    "    return fig\n",
    "\n",
    "\n",
    "## _____________________________________\n",
    "\n",
    "fig = __makeplot_shares_Nov2019_v2()\n",
    "\n",
    "\n",
    "if save:\n",
    "    fig.savefig(path2plots+\"figs/\"+f\"{year}_{cha}_overview_Nov2019_shares_contrast.png\", format=\"png\", dpi=300)\n",
    "    print(\"\\nsaving png ...\\n\")"
   ]
  },
  {
   "cell_type": "markdown",
   "metadata": {},
   "source": [
    "Calculate median of entire month"
   ]
  },
  {
   "cell_type": "code",
   "execution_count": 9,
   "metadata": {
    "ExecuteTime": {
     "end_time": "2021-04-12T08:00:21.796519Z",
     "start_time": "2021-04-12T08:00:21.792613Z"
    }
   },
   "outputs": [],
   "source": [
    "med = f'{data.frequency_med.median()} +- {round(data.frequency_med.std(),3)} Hz'"
   ]
  },
  {
   "cell_type": "markdown",
   "metadata": {
    "ExecuteTime": {
     "end_time": "2021-04-08T21:46:44.191173Z",
     "start_time": "2021-04-08T21:46:44.172111Z"
    }
   },
   "source": [
    "Median of frequency medians of entire month: {{med}}\n"
   ]
  },
  {
   "cell_type": "markdown",
   "metadata": {
    "ExecuteTime": {
     "end_time": "2021-04-12T07:55:10.398689Z",
     "start_time": "2021-04-12T07:55:10.396774Z"
    }
   },
   "source": [
    "# Plot Quality Overview Times"
   ]
  },
  {
   "cell_type": "code",
   "execution_count": 10,
   "metadata": {
    "ExecuteTime": {
     "end_time": "2021-04-12T08:00:23.125565Z",
     "start_time": "2021-04-12T08:00:21.797878Z"
    },
    "code_folding": [
     0
    ]
   },
   "outputs": [
    {
     "name": "stdout",
     "output_type": "stream",
     "text": [
      "working on:  11 01\n",
      "working on:  11 02\n",
      "working on:  11 03\n",
      "working on:  11 04\n",
      "working on:  11 05\n",
      "working on:  11 06\n",
      "working on:  11 07\n",
      "working on:  11 08\n",
      "working on:  11 09\n",
      "working on:  11 10\n",
      "working on:  11 11\n",
      "working on:  11 12\n",
      "working on:  11 13\n",
      "working on:  11 14\n",
      "working on:  11 15\n",
      "working on:  11 16\n",
      "working on:  11 17\n",
      "working on:  11 18\n",
      "working on:  11 19\n",
      "working on:  11 20\n",
      "working on:  11 21\n",
      "working on:  11 22\n",
      "working on:  11 23\n",
      "working on:  11 24\n",
      "working on:  11 25\n",
      "working on:  11 26\n",
      "working on:  11 27\n",
      "skipped 11-27\n",
      "working on:  11 28\n",
      "working on:  11 29\n",
      "working on:  11 30\n",
      "\n",
      "saving png ...\n",
      "\n"
     ]
    },
    {
     "data": {
      "image/png": "[encoded data removed]",
      "text/plain": [
       "<Figure size 1080x288 with 1 Axes>"
      ]
     },
     "metadata": {
      "needs_background": "light"
     },
     "output_type": "display_data"
    }
   ],
   "source": [
    "def __makeplot_times_Nov2019():\n",
    "\n",
    "    if mode == \"runy\":\n",
    "        hsw = 30\n",
    "    elif mode == \"runx\":\n",
    "        hsw = 90\n",
    "    elif mode == \"runz\":\n",
    "        hsw = 1        \n",
    "    elif mode == \"runq\":\n",
    "        hsw = 1     \n",
    "        \n",
    "\n",
    "    fig, ax = plt.subplots(1,1, figsize=(15,4))\n",
    "\n",
    "    font = 16\n",
    "\n",
    "    daylabels, dayticks = [], []\n",
    "    \n",
    "    j = 0\n",
    "    for month in range(11,12):\n",
    "\n",
    "        if month < 10:\n",
    "            month = f'0{month}'\n",
    "\n",
    "        for h, day in enumerate(range(1,31)):\n",
    "\n",
    "            if day < 10:\n",
    "                day = f'0{day}'\n",
    "            \n",
    "\n",
    "            try:\n",
    "                print(\"working on: \", month, day)\n",
    "\n",
    "                daylabels.append(str(f\"{day}\"))\n",
    "                dayticks.append(int(day))                \n",
    "                \n",
    "                path_to_cfiles = f\"/home/andbro/Documents/ROMY/QualityCheck/{mode}/Cfiles/{year}-{month}/{year}-{month}-{day}.C{cha[-1]}\"\n",
    "\n",
    "                ## read daily C-file\n",
    "                df = read_csv(path_to_cfiles)\n",
    "\n",
    "                ## extend at the begin\n",
    "#                 if df.seconds.iloc[0] != 30:\n",
    "#                     tmp_beg = DataFrame([[30, df.quality.iloc[0]],[86400, df.quality.iloc[-1]]], columns=[\"seconds\", \"quality\"])\n",
    "#                     df = concat([tmp_beg, df], ignore_index=True).sort_values(by=\"seconds\")\n",
    "    \n",
    "                \n",
    "                ## extend at the end\n",
    "#                 if df.seconds.iloc[-1] != 86360:\n",
    "#                     tmp_end = DataFrame([[86360, df.quality.iloc[-1]],[86400, df.quality.iloc[-1]]], columns=[\"seconds\", \"quality\"])\n",
    "#                     df = concat([df, tmp_end], ignore_index=True).sort_values(by=\"seconds\")\n",
    "\n",
    "                \n",
    "                \n",
    "                ## divide into bars of quality\n",
    "                bars = []\n",
    "                for l in range(df.seconds.size):\n",
    "                    if l>0: \n",
    "                        bars.append(df.seconds[l] - df.seconds[l-1])\n",
    "\n",
    "                qual = df.quality[:-1]  \n",
    "\n",
    "                ## color dictionary\n",
    "                col_dict = {0:'green',1:'gold', 2:'darkred'}\n",
    "                alphas   = {0:0.6,1:0.8,2:0.7}\n",
    "\n",
    "                ## plotting\n",
    "                for i, val in enumerate(bars):\n",
    "\n",
    "                    ax.bar(f\"{year}-{month}-{day}\", val, bottom=sum(bars[:i]), color=col_dict[qual[i]], alpha=alphas[qual[i]])\n",
    "\n",
    "                j += 1\n",
    "                \n",
    "                del df\n",
    "            except:\n",
    "                print(f\"skipped {month}-{day}\")\n",
    "                ax.bar(f\"{year}-{month}-{day}\", 86400, color=\"white\")\n",
    "\n",
    "                \n",
    "            ## tweak x axis    \n",
    "            ax.set_xticks(range(0,len(dayticks)))   \n",
    "            ax.set_xlim(-0.5,j+0.5)\n",
    "            ax.set_xticklabels(daylabels, fontsize=font, rotation=30)\n",
    "            ax.set_xlabel(f\"days in November {year}\", fontsize=font+2)\n",
    "            \n",
    "            ## tweak y axis\n",
    "            ax.set_yticks(linspace(0,86400,5))\n",
    "            ax.set_yticklabels(linspace(0,24,5, dtype=int), fontsize=font-1)\n",
    "            ax.set_ylim(0, 86400)\n",
    "            ax.set_ylabel('time (hours)', fontsize=font)\n",
    "\n",
    "#             ax.set_title(f\"Quality Overview ROMY.{cha} {year}            \", fontsize=font+4)\n",
    "            ax.set_title(f\"Quality Overview ROMY {cha[-1]}-component         \", fontsize=font+4)\n",
    "            \n",
    "            \n",
    "            from matplotlib.patches import Polygon, Patch\n",
    "            legend_elements = [Patch(facecolor='green'    , edgecolor='green', label='Q0', alpha=0.6),\n",
    "                               Patch(facecolor='gold'    , edgecolor='orange', label='Q1', alpha=0.8),\n",
    "                               Patch(facecolor='darkred', edgecolor='darkred', label='Q2', alpha=0.7),\n",
    "                              ]        \n",
    "\n",
    "            ax.legend(handles=legend_elements, fontsize=font-3, ncol=3, loc=\"upper right\", bbox_to_anchor=[0.99, 1.15])      \n",
    "            \n",
    "    return fig\n",
    "\n",
    "        \n",
    "## _____________________________________\n",
    "\n",
    "fig = __makeplot_times_Nov2019()\n",
    "\n",
    "\n",
    "if save:\n",
    "    fig.savefig(path2plots+\"figs/\"+f\"{year}_{cha}_overview_Nov2019_times.png\", format=\"png\", dpi=300)\n",
    "    print(\"\\nsaving png ...\\n\")"
   ]
  },
  {
   "cell_type": "code",
   "execution_count": null,
   "metadata": {},
   "outputs": [],
   "source": []
  }
 ],
 "metadata": {
  "kernelspec": {
   "display_name": "Python 3",
   "language": "python",
   "name": "python3"
  },
  "language_info": {
   "codemirror_mode": {
    "name": "ipython",
    "version": 3
   },
   "file_extension": ".py",
   "mimetype": "text/x-python",
   "name": "python",
   "nbconvert_exporter": "python",
   "pygments_lexer": "ipython3",
   "version": "3.7.8"
  }
 },
 "nbformat": 4,
 "nbformat_minor": 4
}
