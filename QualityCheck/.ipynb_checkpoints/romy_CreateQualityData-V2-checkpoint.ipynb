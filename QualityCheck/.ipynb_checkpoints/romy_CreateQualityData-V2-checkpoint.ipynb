{
 "cells": [
  {
   "cell_type": "markdown",
   "metadata": {},
   "source": [
    "### Importing Libraries"
   ]
  },
  {
   "cell_type": "code",
   "execution_count": 15,
   "metadata": {
    "ExecuteTime": {
     "end_time": "2021-03-17T12:05:06.522726Z",
     "start_time": "2021-03-17T12:05:06.518722Z"
    }
   },
   "outputs": [],
   "source": [
    "import sys, os\n",
    "import numpy as np\n",
    "import obspy \n",
    "import time\n",
    "import io\n",
    "\n",
    "from tqdm import tqdm\n",
    "from pathlib import Path\n",
    "from multiprocessing import Pool \n"
   ]
  },
  {
   "cell_type": "code",
   "execution_count": 16,
   "metadata": {
    "ExecuteTime": {
     "end_time": "2021-03-17T12:05:06.783828Z",
     "start_time": "2021-03-17T12:05:06.775513Z"
    },
    "code_folding": [
     0
    ]
   },
   "outputs": [],
   "source": [
    "def __check_if_file_exists(tstart, channel, path):\n",
    "    \n",
    "    doy = tstart.julday\n",
    "    \n",
    "    if doy < 10:\n",
    "        doy = f\"00{doy}\"\n",
    "    elif doy >= 10 and doy < 100:\n",
    "        doy = f\"0{doy}\"\n",
    "    \n",
    "    if os.path.exists(f\"/import/freenas-ffb-01-data/romy_archive/{tstart.year}/BW/DROMY/FJ{channel[-1]}.D/BW.DROMY..FJ{channel[-1]}.D.{tstart.year}.{doy}\"):\n",
    "        print(f\" data file: BW.DROMY..FJ{channel[-1]}.D.{tstart.year}.{doy} exists!\\n\")\n",
    "    else:\n",
    "        print(f\" data file: BW.DROMY..FJ{channel[-1]}.D.{tstart.year}.{doy} is missing! --> is being skipped!\\n\")\n",
    "        \n",
    "        if tstart.day < 10:\n",
    "            day = f\"0{tstart.day}\"\n",
    "        else:\n",
    "            day = tstart.day\n",
    "        if tstart.month < 10:\n",
    "            month = f\"0{tstart.month}\"\n",
    "        else: \n",
    "            month = tstart.month\n",
    "            \n",
    "        Path(f\"{path}{tstart.year}{month}{day}.missing.txt\").touch(mode=755)\n",
    "        sys.exit(1)"
   ]
  },
  {
   "cell_type": "markdown",
   "metadata": {},
   "source": [
    "## Configurations"
   ]
  },
  {
   "cell_type": "code",
   "execution_count": 17,
   "metadata": {
    "ExecuteTime": {
     "end_time": "2021-03-17T12:05:16.980094Z",
     "start_time": "2021-03-17T12:05:07.307827Z"
    }
   },
   "outputs": [
    {
     "name": "stdout",
     "output_type": "stream",
     "text": [
      "\n",
      " Enter the date (e.g. 2019-05-14):  2021-01-04\n",
      "\n",
      "\n",
      "\n",
      " Enter the channel:  BJZ\n",
      "\n",
      "\n",
      "\n",
      " processing using 180s and 60s windows with 0.5 percent overlap...\n",
      "\n"
     ]
    }
   ],
   "source": [
    "path='/home/andbro/Documents/ROMY/QualityCheck/runy/Qfiles/'\n",
    "path='/home/andbro/Documents/ROMY/data/'\n",
    "\n",
    "## interactively \n",
    "if len(sys.argv) == 6:\n",
    "    date_to_analyse = sys.argv[1]\n",
    "    channel = sys.argv[2]\n",
    "    path = sys.argv[3]\n",
    "    twin1 = sys.argv[4]\n",
    "    twin2 = sys.argv[5]\n",
    "else:\n",
    "    date_to_analyse = input(\"\\n Enter the date (e.g. 2019-05-14):  \"); print(\"\\n\")\n",
    "    channel = input(\"\\n Enter the channel:  \"); print(\"\\n\")\n",
    "    twin1, twin2 = [],[]\n",
    "\n",
    "\n",
    "tstart = obspy.UTCDateTime(date_to_analyse)\n",
    "\n",
    "\n",
    "## setting output paths and files automatically\n",
    "opath = f'{path}Qfiles/{str(date_to_analyse)[:7]}/'\n",
    "\n",
    "## is done in bash script\n",
    "# if not os.path.isdir(opath):\n",
    "#     os.mkdir(opath)\n",
    "#     print(\"creating folder\")\n",
    "#     os.listdir(opath)\n",
    "\n",
    "\n",
    "## \n",
    "tdelta = 15 # length of requested raw data chunks (in minutes)\n",
    "overlap = 0.5 # overlap of sub-windows (in percent) \n",
    "\n",
    "if twin1 and twin2:\n",
    "    twin = int(twin1)\n",
    "    tsubwin = int(twin2)\n",
    "else:\n",
    "    twin = 180 # essential sampling interval for averages (in seconds) default value\n",
    "    tsubwin = 60 # sub-windows to calculate quantites (in seconds) default value\n",
    "\n",
    "print(f\"\\n processing using {twin}s and {tsubwin}s windows with {overlap} percent overlap...\\n\")\n",
    "\n",
    "twin=60\n",
    "tsubwin=20\n",
    "\n",
    "## check if input file exists \n",
    "# __check_if_file_exists(tstart, channel, path)\n"
   ]
  },
  {
   "cell_type": "code",
   "execution_count": 18,
   "metadata": {
    "ExecuteTime": {
     "end_time": "2021-03-17T12:05:18.878068Z",
     "start_time": "2021-03-17T12:05:18.876280Z"
    }
   },
   "outputs": [],
   "source": [
    "# path='/home/andbro/Documents/ROMY/QualityCheck/runy/Qfiles/'\n"
   ]
  },
  {
   "cell_type": "markdown",
   "metadata": {},
   "source": [
    "### Defining Methods"
   ]
  },
  {
   "cell_type": "code",
   "execution_count": 19,
   "metadata": {
    "ExecuteTime": {
     "end_time": "2021-03-17T12:05:20.338485Z",
     "start_time": "2021-03-17T12:05:20.328979Z"
    },
    "code_folding": [
     1
    ]
   },
   "outputs": [],
   "source": [
    "\n",
    "def __archive_request(seed_id, tstart, tdelta, raw=None):\n",
    "    \n",
    "    ''' get data of ROMY for one component from archive \n",
    "\n",
    "    VARIABLES:\n",
    "        seed_id:    code of seismic stations (e.g. \"BW.ROMY..BJU\")\n",
    "        tstart:\t    begin of time period\n",
    "        tdelta:     temporal length of period\n",
    "\n",
    "    DEPENDENCIES:\n",
    "        import obspy\n",
    "\n",
    "    OUTPUT:\n",
    "\n",
    "    EXAMPLE:\n",
    "        >>> __get_stream_data_archive('BW.ROMY.10.BJZ', '2020-07-17 02:50', 3600, raw=False)\n",
    "\n",
    "    '''\n",
    "    from obspy.clients.fdsn import Client\n",
    "    from obspy import UTCDateTime, read\n",
    "    \n",
    "#     print(\" requesting data from archive...\")\n",
    "\n",
    "    def __extend_digits(doy):\n",
    "        if doy < 10:\n",
    "            doy = f\"00{doy}\"\n",
    "        elif doy >= 10 and doy < 100:\n",
    "            doy = f\"0{doy}\"\n",
    "        return doy \n",
    "\n",
    "\n",
    "    net, sta, loc, cha = seed_id.split(\".\")\n",
    "    \n",
    "    ## defining parameters\n",
    "    year = tstart.year\n",
    "    doy  = tstart.julday\n",
    "    tend = tstart + tdelta\n",
    "    \n",
    "    if tstart.date != tend.date:\n",
    "        doy_1 = doy\n",
    "        doy_2 = tend.julday\n",
    "        \n",
    "        tbeg_1 = tstart\n",
    "        tend_1 = UTCDateTime(tend.date)\n",
    "        tbeg_2 = UTCDateTime(tend.date)\n",
    "        tend_2 = tend\n",
    "        \n",
    "        doy_1 = __extend_digits(doy_1)\n",
    "        doy_2 = __extend_digits(doy_2)\n",
    "    else:\n",
    "        doy = __extend_digits(doy)  \n",
    "        \n",
    "    ## define station depending if raw is set or not\n",
    "#     sta = sta if raw is None else f\"D{sta}\"\n",
    "\n",
    "    ## define local data path\n",
    "    pathroot = \"/import/freenas-ffb-01-data/romy_archive/\"\n",
    "\n",
    "    ## __________________________________________________________________________\n",
    "    \n",
    "    try:\n",
    "        route = obspy.clients.fdsn.RoutingClient(\"eida-routing\")\n",
    "        inv   = client.get_stations(network=net, station=sta, level=\"response\")\n",
    "#         print(\"  --> inventory was obtained\"); obtained_inventory=True\n",
    "\n",
    "    except:\n",
    "        if raw is not True:\n",
    "            print(\"  --> inventory could not be obtained...\"); obtained_inventory=False\n",
    "    \n",
    "    ## -------------------------- ##\n",
    "    if raw is None:\n",
    "        ## recreate file structure of archive\n",
    "        path = f\"{pathroot}{year}/{net}/{sta}/{cha}.D/\"\n",
    "        name = f\"{net}.{sta}.{loc}.{cha}.D.{year}.{doy}\"\n",
    "        ## get stream data\n",
    "        st = obspy.read(path+name, starttime=tstart, endtime=tend)\n",
    "        \n",
    "        if obtained_inventory:\n",
    "            print(\"  --> trend and response is being removed...\")\n",
    "            return st.detrend(\"linear\").remove_response(inventory=inv) \n",
    "        else:\n",
    "            return st   \n",
    "\n",
    "    ## -------------------------- ##\n",
    "    elif raw is True: \n",
    "        if sta == \"ROMY\":\n",
    "            if tstart.date != tend.date:\n",
    "                st = read().clear();\n",
    "                for t1, t2, d in zip((tbeg_1, tbeg_2), (tend_1, tend_2), (doy_1, doy_2)):\n",
    "                    ## recreate file structure of archive\n",
    "                    path = f\"{pathroot}{year}/{net}/DROMY/FJ{cha[2]}.D/\"\n",
    "                    name = f\"{net}.D{sta}..F{cha[1:3]}.D.{year}.{d}\"\n",
    "\n",
    "                    ## get and return stream data\n",
    "                    try:\n",
    "                        st += obspy.read(path+name, starttime=t1, endtime=t2);\n",
    "                    except:\n",
    "                            st += obspy.read('/home/andbro/Documents/ROMY/data/BW.DROMY..FJZ.D.2021.053', starttime=t1, endtime=t2)\n",
    "#                         print(\"\\ntying to read chunkwise...\")\n",
    "#                         st = obspy.core.stream.Stream()\n",
    "#                         reclen = 512\n",
    "#                         chunksize = 1000 * reclen # Around 50 MB\n",
    "#                         with io.open(path+name, \"rb\") as fh:\n",
    "#                             while True:\n",
    "#                                 with io.BytesIO() as buf:\n",
    "#                                     c = fh.read(chunksize)\n",
    "#                                     if not c:\n",
    "#                                         break\n",
    "#                                     buf.write(c)\n",
    "#                                     buf.seek(0, 0)\n",
    "#                                     st_tmp = obspy.read(buf)\n",
    "#                             st.append(st_tmp[0])\n",
    "#                             del st_tmp[0]\n",
    "                return st.merge()\n",
    "            \n",
    "            else:\n",
    "                ## recreate file structure of archive\n",
    "                path = f\"{pathroot}{year}/{net}/DROMY/FJ{cha[2]}.D/\"\n",
    "                name = f\"{net}.D{sta}..F{cha[1:3]}.D.{year}.{doy}\"\n",
    "                \n",
    "                ## get and return stream data\n",
    "#                 st = obspy.read(path+name, starttime=tstart, endtime=tend)\n",
    "                st = obspy.read('/home/andbro/Documents/ROMY/data/BW.DROMY..FJZ.D.2021.053', starttime=tstart, endtime=tend)\n",
    "\n",
    "                return st\n",
    "\n",
    "        \n",
    "        else:\n",
    "            print(\"  --> something went wrong! perhaps with seed_id?\")\n"
   ]
  },
  {
   "cell_type": "code",
   "execution_count": 20,
   "metadata": {
    "ExecuteTime": {
     "end_time": "2021-03-17T12:05:21.818835Z",
     "start_time": "2021-03-17T12:05:21.809050Z"
    },
    "code_folding": []
   },
   "outputs": [],
   "source": [
    "\n",
    "def __create_and_write_quality_data(trace, opath, twin, tsubwin, over, count):\n",
    "    \n",
    "#     print(\" evaluating data...\")\n",
    "    \n",
    "    samples = trace[0].stats.npts\n",
    "    deltaT  = trace[0].stats.delta\n",
    "    steps = int(twin / deltaT) # every minute\n",
    "\n",
    "    ## define one minute intervalls counted in samples\n",
    "    intervalls = np.arange(0,samples,steps)\n",
    "\n",
    "    ## define locations of means\n",
    "    samples_in_minutes = np.arange(steps/2,samples-steps/2,steps) \n",
    "    minute_axis_time = []\n",
    "    \n",
    "    \n",
    "    for m in samples_in_minutes :\n",
    "        minute_axis_time.append(trace[0].times()[int(m)])\n",
    "\n",
    "        \n",
    "    ## allocate memory for variables\n",
    "    delta_min    = np.zeros(len(intervalls[:-1]))\n",
    "    delta_max    = np.zeros(len(intervalls[:-1]))\n",
    "    sigma_minute = np.zeros(len(intervalls[:-1]))\n",
    "    mean_minute  = np.zeros(len(intervalls[:-1]))\n",
    "    ifreq        = np.zeros(len(intervalls[:-1]))\n",
    "\n",
    "    \n",
    "    \n",
    "    for k, idx in enumerate(range(len(intervalls[:-1]))):\n",
    "            \n",
    "        x = trace[0][intervalls[idx]:intervalls[idx+1]+1]\n",
    "            \n",
    "# #             print(intervalls[idx]*deltaT/60,\"min\", \"-\", intervalls[idx+1]*deltaT/60, \"min\")\n",
    "\n",
    "#             binsize = tsubwin / deltaT \n",
    "#             overlap = int(binsize * over)\n",
    "\n",
    "\n",
    "#             bins = np.arange(binsize/2, len(x)-binsize/2+overlap, overlap)\n",
    "\n",
    "            \n",
    "#             ## allocate variable memory\n",
    "#             dif_tmp   = np.zeros(len(bins))\n",
    "#             avg_tmp   = np.zeros(len(bins))\n",
    "#             std_tmp   = np.zeros(len(bins))\n",
    "#             ifreq_tmp = np.zeros(len(bins))\n",
    "\n",
    "#             for l, xbin in enumerate(bins):\n",
    "# #                 print(f'{(xbin-binsize/2)*deltaT-1}--{(xbin+binsize/2)*deltaT-1}')\n",
    "               \n",
    "#                 wdata = x[int(xbin-binsize/2):int(xbin+binsize/2)]\n",
    "                \n",
    "#                 avg_tmp[l] = (np.mean(wdata))\n",
    "\n",
    "#                 std_tmp[l] = (np.std(wdata))\n",
    "\n",
    "#                 dif_tmp[l] = (np.abs(np.max(wdata))-np.abs(np.min(wdata)))\n",
    "\n",
    "#                 ifreq_tmp[l] = (np.nonzero(np.diff(wdata-np.mean(wdata) > 0))[0].size) /2 /tsubwin\n",
    "        \n",
    "            \n",
    "#             ## assign values to vectors\n",
    "#             mean_minute[k] = (np.mean(avg_tmp))\n",
    "#             sigma_minute[k] = (np.std(std_tmp))\n",
    "#             delta_max[k] = (np.max(dif_tmp))\n",
    "#             delta_min[k] = (np.min(dif_tmp))\n",
    "#             ifreq[k] = np.median(ifreq_tmp)\n",
    "            \n",
    "#             del avg_tmp, std_tmp, dif_tmp, ifreq_tmp\n",
    "    \n",
    "        mean_minute[k]  = np.mean(x)\n",
    "        sigma_minute[k] = np.std(x)\n",
    "        delta_max[k]    = np.max(x)\n",
    "        delta_min[k]    = np.min(x)\n",
    "        ifreq[k]        = np.median(ifreq_tmp)\n",
    "\n",
    "    \n",
    "    ## calulcate offset to add for each iteration (time and samples) \n",
    "    if count == 0:\n",
    "        toffset=0; soffset=0;\n",
    "    else:\n",
    "        toffset = trace[0].stats.starttime.time.hour*3600+trace[0].stats.starttime.time.minute*60+trace[0].stats.starttime.time.second\n",
    "        soffset = toffset/trace[0].stats.delta\n",
    "\n",
    "    ## writing output\n",
    "    out = open(opath + oname, \"a+\")\n",
    "    \n",
    "    for idx in range(0,len( samples_in_minutes)):\n",
    "        out.write(f\"{soffset+samples_in_minutes[idx]} {toffset+minute_axis_time[idx]} {mean_minute[idx]} {sigma_minute[idx]} {delta_max[idx]} {delta_min[idx]} {ifreq[idx]}\\n\")\n",
    "    out.close()\n"
   ]
  },
  {
   "cell_type": "code",
   "execution_count": 21,
   "metadata": {
    "ExecuteTime": {
     "end_time": "2021-03-17T12:05:22.169584Z",
     "start_time": "2021-03-17T12:05:22.158527Z"
    },
    "code_folding": [
     1
    ]
   },
   "outputs": [],
   "source": [
    "\n",
    "def func(period):\n",
    "#     tbeg = obspy.UTCDateTime(tstart+period*60)\n",
    "    tbeg = obspy.UTCDateTime(tstart+period*60 - tsubwin/2)\n",
    "\n",
    "#     print(\"\\n\", tbeg, \"-\", tbeg+tdelta*60)\n",
    "\n",
    "    ## requesting data in pieces\n",
    "    tr1=time.time()\n",
    "    \n",
    "    if channel[2] == \"Z\":\n",
    "        data = __archive_request(f\"BW.ROMY.10.{channel}\", tbeg, tdelta*60+tsubwin, raw=True)\n",
    "    else:\n",
    "        data = __archive_request(f\"BW.ROMY..{channel}\", tbeg, tdelta*60+tsubwin, raw=True)\n",
    "        \n",
    "    tr2=time.time()\n",
    "    tr.append(tr2-tr1)\n",
    "    \n",
    "    \n",
    "    ## evaluation of the data window\n",
    "    te1=time.time()\n",
    "    \n",
    "    __create_and_write_quality_data(data, opath, twin, tsubwin, overlap, period)\n",
    "    \n",
    "    te2=time.time()\n",
    "    te.append(te2-te1)\n",
    "    \n",
    "    del data\n",
    "    \n",
    "    return [tr ,te]\n"
   ]
  },
  {
   "cell_type": "markdown",
   "metadata": {},
   "source": [
    "### Requesting and Evaluating Data"
   ]
  },
  {
   "cell_type": "code",
   "execution_count": 26,
   "metadata": {
    "ExecuteTime": {
     "end_time": "2021-03-17T12:07:49.555442Z",
     "start_time": "2021-03-17T12:07:44.205879Z"
    },
    "code_folding": []
   },
   "outputs": [
    {
     "name": "stderr",
     "output_type": "stream",
     "text": [
      "  0%|          | 0/96 [00:05<?, ?it/s]\n"
     ]
    },
    {
     "ename": "IndexError",
     "evalue": "list index out of range",
     "output_type": "error",
     "traceback": [
      "\u001b[0;31m---------------------------------------------------------------------------\u001b[0m",
      "\u001b[0;31mRemoteTraceback\u001b[0m                           Traceback (most recent call last)",
      "\u001b[0;31mRemoteTraceback\u001b[0m: \n\"\"\"\nTraceback (most recent call last):\n  File \"/home/andbro/anaconda3/envs/obs/lib/python3.7/multiprocessing/pool.py\", line 121, in worker\n    result = (True, func(*args, **kwds))\n  File \"<ipython-input-21-20cb7d6e7557>\", line 22, in func\n    __create_and_write_quality_data(data, opath, twin, tsubwin, overlap, period)\n  File \"<ipython-input-20-1e1d80a1056d>\", line 5, in __create_and_write_quality_data\n    samples = trace[0].stats.npts\n  File \"/home/andbro/anaconda3/envs/obs/lib/python3.7/site-packages/obspy/core/stream.py\", line 649, in __getitem__\n    return self.traces.__getitem__(index)\nIndexError: list index out of range\n\"\"\"",
      "\nThe above exception was the direct cause of the following exception:\n",
      "\u001b[0;31mIndexError\u001b[0m                                Traceback (most recent call last)",
      "\u001b[0;32m<ipython-input-26-af4b4ff43715>\u001b[0m in \u001b[0;36m<module>\u001b[0;34m\u001b[0m\n\u001b[1;32m     19\u001b[0m \u001b[0;34m\u001b[0m\u001b[0m\n\u001b[1;32m     20\u001b[0m     \u001b[0;32mwith\u001b[0m \u001b[0mPool\u001b[0m\u001b[0;34m(\u001b[0m\u001b[0;36m2\u001b[0m\u001b[0;34m)\u001b[0m \u001b[0;32mas\u001b[0m \u001b[0mp\u001b[0m\u001b[0;34m:\u001b[0m\u001b[0;34m\u001b[0m\u001b[0;34m\u001b[0m\u001b[0m\n\u001b[0;32m---> 21\u001b[0;31m         \u001b[0mtimes\u001b[0m \u001b[0;34m=\u001b[0m \u001b[0mlist\u001b[0m\u001b[0;34m(\u001b[0m\u001b[0mtqdm\u001b[0m\u001b[0;34m(\u001b[0m\u001b[0mp\u001b[0m\u001b[0;34m.\u001b[0m\u001b[0mimap\u001b[0m\u001b[0;34m(\u001b[0m\u001b[0mfunc\u001b[0m\u001b[0;34m,\u001b[0m \u001b[0mnp\u001b[0m\u001b[0;34m.\u001b[0m\u001b[0marange\u001b[0m\u001b[0;34m(\u001b[0m\u001b[0;36m0\u001b[0m\u001b[0;34m,\u001b[0m \u001b[0;36m1440\u001b[0m\u001b[0;34m,\u001b[0m \u001b[0mtdelta\u001b[0m\u001b[0;34m)\u001b[0m\u001b[0;34m)\u001b[0m\u001b[0;34m,\u001b[0m \u001b[0mtotal\u001b[0m\u001b[0;34m=\u001b[0m\u001b[0mint\u001b[0m\u001b[0;34m(\u001b[0m\u001b[0;36m1440\u001b[0m\u001b[0;34m/\u001b[0m\u001b[0mtdelta\u001b[0m\u001b[0;34m)\u001b[0m\u001b[0;34m)\u001b[0m\u001b[0;34m)\u001b[0m\u001b[0;34m\u001b[0m\u001b[0;34m\u001b[0m\u001b[0m\n\u001b[0m\u001b[1;32m     22\u001b[0m     \u001b[0mprint\u001b[0m\u001b[0;34m(\u001b[0m\u001b[0mtimes\u001b[0m\u001b[0;34m[\u001b[0m\u001b[0;36m0\u001b[0m\u001b[0;34m]\u001b[0m\u001b[0;34m[\u001b[0m\u001b[0;36m0\u001b[0m\u001b[0;34m]\u001b[0m\u001b[0;34m)\u001b[0m\u001b[0;34m\u001b[0m\u001b[0;34m\u001b[0m\u001b[0m\n\u001b[1;32m     23\u001b[0m     \u001b[0mtr\u001b[0m \u001b[0;34m=\u001b[0m \u001b[0mtimes\u001b[0m\u001b[0;34m[\u001b[0m\u001b[0;34m:\u001b[0m\u001b[0;34m]\u001b[0m\u001b[0;34m[\u001b[0m\u001b[0;36m0\u001b[0m\u001b[0;34m]\u001b[0m\u001b[0;34m\u001b[0m\u001b[0;34m\u001b[0m\u001b[0m\n",
      "\u001b[0;32m~/anaconda3/envs/obs/lib/python3.7/site-packages/tqdm/std.py\u001b[0m in \u001b[0;36m__iter__\u001b[0;34m(self)\u001b[0m\n\u001b[1;32m   1169\u001b[0m \u001b[0;34m\u001b[0m\u001b[0m\n\u001b[1;32m   1170\u001b[0m         \u001b[0;32mtry\u001b[0m\u001b[0;34m:\u001b[0m\u001b[0;34m\u001b[0m\u001b[0;34m\u001b[0m\u001b[0m\n\u001b[0;32m-> 1171\u001b[0;31m             \u001b[0;32mfor\u001b[0m \u001b[0mobj\u001b[0m \u001b[0;32min\u001b[0m \u001b[0miterable\u001b[0m\u001b[0;34m:\u001b[0m\u001b[0;34m\u001b[0m\u001b[0;34m\u001b[0m\u001b[0m\n\u001b[0m\u001b[1;32m   1172\u001b[0m                 \u001b[0;32myield\u001b[0m \u001b[0mobj\u001b[0m\u001b[0;34m\u001b[0m\u001b[0;34m\u001b[0m\u001b[0m\n\u001b[1;32m   1173\u001b[0m                 \u001b[0;31m# Update and possibly print the progressbar.\u001b[0m\u001b[0;34m\u001b[0m\u001b[0;34m\u001b[0m\u001b[0;34m\u001b[0m\u001b[0m\n",
      "\u001b[0;32m~/anaconda3/envs/obs/lib/python3.7/multiprocessing/pool.py\u001b[0m in \u001b[0;36mnext\u001b[0;34m(self, timeout)\u001b[0m\n\u001b[1;32m    746\u001b[0m         \u001b[0;32mif\u001b[0m \u001b[0msuccess\u001b[0m\u001b[0;34m:\u001b[0m\u001b[0;34m\u001b[0m\u001b[0;34m\u001b[0m\u001b[0m\n\u001b[1;32m    747\u001b[0m             \u001b[0;32mreturn\u001b[0m \u001b[0mvalue\u001b[0m\u001b[0;34m\u001b[0m\u001b[0;34m\u001b[0m\u001b[0m\n\u001b[0;32m--> 748\u001b[0;31m         \u001b[0;32mraise\u001b[0m \u001b[0mvalue\u001b[0m\u001b[0;34m\u001b[0m\u001b[0;34m\u001b[0m\u001b[0m\n\u001b[0m\u001b[1;32m    749\u001b[0m \u001b[0;34m\u001b[0m\u001b[0m\n\u001b[1;32m    750\u001b[0m     \u001b[0m__next__\u001b[0m \u001b[0;34m=\u001b[0m \u001b[0mnext\u001b[0m                    \u001b[0;31m# XXX\u001b[0m\u001b[0;34m\u001b[0m\u001b[0;34m\u001b[0m\u001b[0m\n",
      "\u001b[0;31mIndexError\u001b[0m: list index out of range"
     ]
    }
   ],
   "source": [
    "\n",
    "if __name__ == '__main__':\n",
    "\n",
    "    start_time = time.time()\n",
    "\n",
    "\n",
    "\n",
    "    ## create lists for elapsed times\n",
    "    tr, te = [], []\n",
    "\n",
    "    ## define output filename\n",
    "    oname = f\"{tstart.date}.Q{channel[-1]}\"\n",
    "\n",
    "    ## create output file and add header\n",
    "    out = open(opath + oname, \"w\");\n",
    "    out.write(f\"# TimeSteps[sec]: {int(twin)} SubSteps[sec]: {tsubwin} Overlap[sec]: {overlap} \\n\");\n",
    "    out.write(f\"sample_id seconds average sigma delta_max delta_min frequency\\n\");\n",
    "    out.close();\n",
    "\n",
    "    \n",
    "    with Pool(6) as p:\n",
    "        times = list(tqdm(p.imap(func, np.arange(0, 1440, tdelta)), total=int(1440/tdelta)))\n",
    "    print(times[0][0])\n",
    "    tr = times[:][0]\n",
    "    te = times[:][1]\n",
    "\n",
    "\n",
    "    ## feedback on performance\n",
    "    print(f\"\\n elapsed time overall:  {round((time.time() - start_time)/60,2)} minutes\")\n",
    "    print(f\" average requesting time: {round(np.mean(tr),2)} seconds\")\n",
    "    print(f\" average evaluating time: {round(np.mean(te),2)} seconds\\n\")"
   ]
  },
  {
   "cell_type": "code",
   "execution_count": null,
   "metadata": {
    "ExecuteTime": {
     "end_time": "2021-03-17T10:32:15.007439Z",
     "start_time": "2021-03-17T10:31:59.795Z"
    }
   },
   "outputs": [],
   "source": [
    "# for period in tqdm(np.arange(0,1440,tdelta)):\n",
    "    \n",
    "# #     tbeg = obspy.UTCDateTime(tstart+period*60)\n",
    "#     tbeg = obspy.UTCDateTime(tstart+period*60 - tsubwin/2)\n",
    "\n",
    "# #     print(\"\\n\", tbeg, \"-\", tbeg+tdelta*60)\n",
    "\n",
    "#     ## requesting data in pieces\n",
    "#     tr1=time.time()\n",
    "    \n",
    "#     if channel[2] == \"Z\":\n",
    "#         data = __archive_request(f\"BW.ROMY.10.{channel}\", tbeg, tdelta*60+tsubwin, raw=True)\n",
    "#     else:\n",
    "#         data = __archive_request(f\"BW.ROMY..{channel}\", tbeg, tdelta*60+tsubwin, raw=True)\n",
    "        \n",
    "#     tr2=time.time()\n",
    "#     tr.append(tr2-tr1)\n",
    "    \n",
    "    \n",
    "#     ## evaluation of the data window\n",
    "#     te1=time.time()\n",
    "    \n",
    "#     __create_and_write_quality_data(data, opath, twin, tsubwin, overlap, period)\n",
    "    \n",
    "#     te2=time.time()\n",
    "#     te.append(te2-te1)\n",
    "    \n",
    "#     del data"
   ]
  },
  {
   "cell_type": "code",
   "execution_count": null,
   "metadata": {},
   "outputs": [],
   "source": []
  }
 ],
 "metadata": {
  "kernelspec": {
   "display_name": "Python 3",
   "language": "python",
   "name": "python3"
  },
  "language_info": {
   "codemirror_mode": {
    "name": "ipython",
    "version": 3
   },
   "file_extension": ".py",
   "mimetype": "text/x-python",
   "name": "python",
   "nbconvert_exporter": "python",
   "pygments_lexer": "ipython3",
   "version": "3.7.8"
  }
 },
 "nbformat": 4,
 "nbformat_minor": 4
}
