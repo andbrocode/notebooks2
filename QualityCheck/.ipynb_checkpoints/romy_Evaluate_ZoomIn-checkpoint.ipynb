{
 "cells": [
  {
   "cell_type": "markdown",
   "metadata": {
    "code_folding": [
     6
    ]
   },
   "source": [
    "## Import Libraries"
   ]
  },
  {
   "cell_type": "code",
   "execution_count": 1,
   "metadata": {
    "ExecuteTime": {
     "end_time": "2021-04-18T09:49:13.765907Z",
     "start_time": "2021-04-18T09:49:12.620136Z"
    }
   },
   "outputs": [],
   "source": [
    "import matplotlib.pyplot as plt\n",
    "\n",
    "from andbro__querrySeismoData import __querrySeismoData\n",
    "from andbro__get_seconds import __get_seconds\n",
    "\n",
    "from numpy import ma\n",
    "from numpy import nan, arange\n",
    "from obspy import UTCDateTime"
   ]
  },
  {
   "cell_type": "code",
   "execution_count": 2,
   "metadata": {
    "ExecuteTime": {
     "end_time": "2021-04-18T09:49:13.771135Z",
     "start_time": "2021-04-18T09:49:13.768515Z"
    },
    "code_folding": [
     0
    ]
   },
   "outputs": [],
   "source": [
    "def __get_ymd(datetime):\n",
    "    \n",
    "    if datetime.month < 10:\n",
    "        month = f\"0{datetime.month}\"\n",
    "    else: \n",
    "        month = datetime.month\n",
    "    \n",
    "    if datetime.day < 10:\n",
    "        day = f\"0{datetime.day}\"\n",
    "    else: \n",
    "        day = datetime.day\n",
    "    \n",
    "    return datetime.year, month, day"
   ]
  },
  {
   "cell_type": "code",
   "execution_count": 3,
   "metadata": {
    "ExecuteTime": {
     "end_time": "2021-04-18T09:49:13.775666Z",
     "start_time": "2021-04-18T09:49:13.772363Z"
    }
   },
   "outputs": [],
   "source": [
    "# tbeg = UTCDateTime(\"2019-11-14 09:50\")\n",
    "# tend = UTCDateTime(\"2019-11-14 10:00\")\n",
    "\n",
    "## day with distortions\n",
    "tbeg = UTCDateTime(\"2019-11-14 09:25\")\n",
    "tend = UTCDateTime(\"2019-11-14 11:00\")\n",
    "\n",
    "# \n",
    "# tbeg = UTCDateTime(\"2019-11-21 08:00\")\n",
    "# tend = UTCDateTime(\"2019-11-21 09:30\")\n",
    "\n",
    "# tbeg = UTCDateTime(\"2019-11-11 16:00\")\n",
    "# tend = UTCDateTime(\"2019-11-11 17:30\")\n",
    "\n",
    "# tbeg = UTCDateTime(\"2019-11-30 12:00\")\n",
    "# tend = UTCDateTime(\"2019-11-30 14:00\")\n",
    "\n",
    "# tbeg = UTCDateTime(\"2019-11-21 13:30\")\n",
    "# tend = UTCDateTime(\"2019-11-21 14:00\")\n",
    "\n",
    "tbeg = UTCDateTime(\"2019-11-28 15:00\")\n",
    "tend = UTCDateTime(\"2019-11-28 16:30\")\n",
    "\n",
    "save = False\n",
    "\n",
    "mode = \"runq\""
   ]
  },
  {
   "cell_type": "markdown",
   "metadata": {},
   "source": [
    "## Load Raw and Rotational Data"
   ]
  },
  {
   "cell_type": "code",
   "execution_count": 8,
   "metadata": {
    "ExecuteTime": {
     "end_time": "2021-04-18T09:55:12.489580Z",
     "start_time": "2021-04-18T09:55:11.814139Z"
    }
   },
   "outputs": [
    {
     "ename": "FDSNNoDataException",
     "evalue": "No data available for request.\nDetailed response of server:\n\n",
     "output_type": "error",
     "traceback": [
      "\u001b[0;31m---------------------------------------------------------------------------\u001b[0m",
      "\u001b[0;31mTypeError\u001b[0m                                 Traceback (most recent call last)",
      "\u001b[0;32m~/anaconda3/envs/obs/lib/python3.7/site-packages/andbro__querrySeismoData.py\u001b[0m in \u001b[0;36m__querrySeismoData\u001b[0;34m(seed_id, starttime, endtime, where, path, restitute, detail)\u001b[0m\n\u001b[1;32m    178\u001b[0m                                                \u001b[0mendtime\u001b[0m\u001b[0;34m=\u001b[0m\u001b[0mtend\u001b[0m\u001b[0;34m,\u001b[0m\u001b[0;34m\u001b[0m\u001b[0;34m\u001b[0m\u001b[0m\n\u001b[0;32m--> 179\u001b[0;31m                                                \u001b[0mlevel\u001b[0m\u001b[0;34m=\u001b[0m\u001b[0;34m'response'\u001b[0m\u001b[0;34m,\u001b[0m\u001b[0;34m\u001b[0m\u001b[0;34m\u001b[0m\u001b[0m\n\u001b[0m\u001b[1;32m    180\u001b[0m                                               );\n",
      "\u001b[0;32m~/anaconda3/envs/obs/lib/python3.7/site-packages/obspy/clients/fdsn/client.py\u001b[0m in \u001b[0;36mget_waveforms\u001b[0;34m(self, network, station, location, channel, starttime, endtime, quality, minimumlength, longestonly, filename, attach_response, **kwargs)\u001b[0m\n\u001b[1;32m    839\u001b[0m         url = self._create_url_from_parameters(\n\u001b[0;32m--> 840\u001b[0;31m             \"dataselect\", DEFAULT_PARAMETERS['dataselect'], kwargs)\n\u001b[0m\u001b[1;32m    841\u001b[0m \u001b[0;34m\u001b[0m\u001b[0m\n",
      "\u001b[0;32m~/anaconda3/envs/obs/lib/python3.7/site-packages/obspy/clients/fdsn/client.py\u001b[0m in \u001b[0;36m_create_url_from_parameters\u001b[0;34m(self, service, default_params, parameters)\u001b[0m\n\u001b[1;32m   1225\u001b[0m                         \u001b[0;34m%\u001b[0m \u001b[0mkey\u001b[0m\u001b[0;34m\u001b[0m\u001b[0;34m\u001b[0m\u001b[0m\n\u001b[0;32m-> 1226\u001b[0;31m                     \u001b[0;32mraise\u001b[0m \u001b[0mTypeError\u001b[0m\u001b[0;34m(\u001b[0m\u001b[0mmsg\u001b[0m\u001b[0;34m)\u001b[0m\u001b[0;34m\u001b[0m\u001b[0;34m\u001b[0m\u001b[0m\n\u001b[0m\u001b[1;32m   1227\u001b[0m             \u001b[0;31m# Now attempt to convert the parameter to the correct type.\u001b[0m\u001b[0;34m\u001b[0m\u001b[0;34m\u001b[0m\u001b[0;34m\u001b[0m\u001b[0m\n",
      "\u001b[0;31mTypeError\u001b[0m: The parameter 'level' is not supported by the service.",
      "\nDuring handling of the above exception, another exception occurred:\n",
      "\u001b[0;31mFDSNNoDataException\u001b[0m                       Traceback (most recent call last)",
      "\u001b[0;32m<ipython-input-8-c524528ad1ce>\u001b[0m in \u001b[0;36m<module>\u001b[0;34m\u001b[0m\n\u001b[1;32m      8\u001b[0m                                \u001b[0mpath\u001b[0m\u001b[0;34m=\u001b[0m\u001b[0;32mNone\u001b[0m\u001b[0;34m,\u001b[0m\u001b[0;34m\u001b[0m\u001b[0;34m\u001b[0m\u001b[0m\n\u001b[1;32m      9\u001b[0m                                \u001b[0mrestitute\u001b[0m\u001b[0;34m=\u001b[0m\u001b[0;32mNone\u001b[0m\u001b[0;34m,\u001b[0m\u001b[0;34m\u001b[0m\u001b[0;34m\u001b[0m\u001b[0m\n\u001b[0;32m---> 10\u001b[0;31m                                \u001b[0mdetail\u001b[0m\u001b[0;34m=\u001b[0m\u001b[0;32mNone\u001b[0m\u001b[0;34m,\u001b[0m\u001b[0;34m\u001b[0m\u001b[0;34m\u001b[0m\u001b[0m\n\u001b[0m\u001b[1;32m     11\u001b[0m                              )\n\u001b[1;32m     12\u001b[0m \u001b[0;34m\u001b[0m\u001b[0m\n",
      "\u001b[0;32m~/anaconda3/envs/obs/lib/python3.7/site-packages/andbro__querrySeismoData.py\u001b[0m in \u001b[0;36m__querrySeismoData\u001b[0;34m(seed_id, starttime, endtime, where, path, restitute, detail)\u001b[0m\n\u001b[1;32m    185\u001b[0m                                                \u001b[0mstation\u001b[0m\u001b[0;34m=\u001b[0m\u001b[0msta\u001b[0m\u001b[0;34m,\u001b[0m\u001b[0;34m\u001b[0m\u001b[0;34m\u001b[0m\u001b[0m\n\u001b[1;32m    186\u001b[0m                                                \u001b[0mstarttime\u001b[0m\u001b[0;34m=\u001b[0m\u001b[0mtbeg\u001b[0m\u001b[0;34m,\u001b[0m\u001b[0;34m\u001b[0m\u001b[0;34m\u001b[0m\u001b[0m\n\u001b[0;32m--> 187\u001b[0;31m                                                \u001b[0mendtime\u001b[0m\u001b[0;34m=\u001b[0m\u001b[0mtend\u001b[0m\u001b[0;34m,\u001b[0m\u001b[0;34m\u001b[0m\u001b[0;34m\u001b[0m\u001b[0m\n\u001b[0m\u001b[1;32m    188\u001b[0m                                           \t);              \n\u001b[1;32m    189\u001b[0m \u001b[0;34m\u001b[0m\u001b[0m\n",
      "\u001b[0;32m~/anaconda3/envs/obs/lib/python3.7/site-packages/obspy/clients/fdsn/client.py\u001b[0m in \u001b[0;36mget_waveforms\u001b[0;34m(self, network, station, location, channel, starttime, endtime, quality, minimumlength, longestonly, filename, attach_response, **kwargs)\u001b[0m\n\u001b[1;32m    842\u001b[0m         \u001b[0;31m# Gzip not worth it for MiniSEED and most likely disabled for this\u001b[0m\u001b[0;34m\u001b[0m\u001b[0;34m\u001b[0m\u001b[0;34m\u001b[0m\u001b[0m\n\u001b[1;32m    843\u001b[0m         \u001b[0;31m# route in any case.\u001b[0m\u001b[0;34m\u001b[0m\u001b[0;34m\u001b[0m\u001b[0;34m\u001b[0m\u001b[0m\n\u001b[0;32m--> 844\u001b[0;31m         \u001b[0mdata_stream\u001b[0m \u001b[0;34m=\u001b[0m \u001b[0mself\u001b[0m\u001b[0;34m.\u001b[0m\u001b[0m_download\u001b[0m\u001b[0;34m(\u001b[0m\u001b[0murl\u001b[0m\u001b[0;34m,\u001b[0m \u001b[0muse_gzip\u001b[0m\u001b[0;34m=\u001b[0m\u001b[0;32mFalse\u001b[0m\u001b[0;34m)\u001b[0m\u001b[0;34m\u001b[0m\u001b[0;34m\u001b[0m\u001b[0m\n\u001b[0m\u001b[1;32m    845\u001b[0m         \u001b[0mdata_stream\u001b[0m\u001b[0;34m.\u001b[0m\u001b[0mseek\u001b[0m\u001b[0;34m(\u001b[0m\u001b[0;36m0\u001b[0m\u001b[0;34m,\u001b[0m \u001b[0;36m0\u001b[0m\u001b[0;34m)\u001b[0m\u001b[0;34m\u001b[0m\u001b[0;34m\u001b[0m\u001b[0m\n\u001b[1;32m    846\u001b[0m         \u001b[0;32mif\u001b[0m \u001b[0mfilename\u001b[0m\u001b[0;34m:\u001b[0m\u001b[0;34m\u001b[0m\u001b[0;34m\u001b[0m\u001b[0m\n",
      "\u001b[0;32m~/anaconda3/envs/obs/lib/python3.7/site-packages/obspy/clients/fdsn/client.py\u001b[0m in \u001b[0;36m_download\u001b[0;34m(self, url, return_string, data, use_gzip)\u001b[0m\n\u001b[1;32m   1395\u001b[0m             \u001b[0mdebug\u001b[0m\u001b[0;34m=\u001b[0m\u001b[0mself\u001b[0m\u001b[0;34m.\u001b[0m\u001b[0mdebug\u001b[0m\u001b[0;34m,\u001b[0m \u001b[0mreturn_string\u001b[0m\u001b[0;34m=\u001b[0m\u001b[0mreturn_string\u001b[0m\u001b[0;34m,\u001b[0m \u001b[0mdata\u001b[0m\u001b[0;34m=\u001b[0m\u001b[0mdata\u001b[0m\u001b[0;34m,\u001b[0m\u001b[0;34m\u001b[0m\u001b[0;34m\u001b[0m\u001b[0m\n\u001b[1;32m   1396\u001b[0m             timeout=self.timeout, use_gzip=use_gzip)\n\u001b[0;32m-> 1397\u001b[0;31m         \u001b[0mraise_on_error\u001b[0m\u001b[0;34m(\u001b[0m\u001b[0mcode\u001b[0m\u001b[0;34m,\u001b[0m \u001b[0mdata\u001b[0m\u001b[0;34m)\u001b[0m\u001b[0;34m\u001b[0m\u001b[0;34m\u001b[0m\u001b[0m\n\u001b[0m\u001b[1;32m   1398\u001b[0m         \u001b[0;32mreturn\u001b[0m \u001b[0mdata\u001b[0m\u001b[0;34m\u001b[0m\u001b[0;34m\u001b[0m\u001b[0m\n\u001b[1;32m   1399\u001b[0m \u001b[0;34m\u001b[0m\u001b[0m\n",
      "\u001b[0;32m~/anaconda3/envs/obs/lib/python3.7/site-packages/obspy/clients/fdsn/client.py\u001b[0m in \u001b[0;36mraise_on_error\u001b[0;34m(code, data)\u001b[0m\n\u001b[1;32m   1721\u001b[0m     \u001b[0;32mif\u001b[0m \u001b[0mcode\u001b[0m \u001b[0;34m==\u001b[0m \u001b[0;36m204\u001b[0m\u001b[0;34m:\u001b[0m\u001b[0;34m\u001b[0m\u001b[0;34m\u001b[0m\u001b[0m\n\u001b[1;32m   1722\u001b[0m         raise FDSNNoDataException(\"No data available for request.\",\n\u001b[0;32m-> 1723\u001b[0;31m                                   server_info)\n\u001b[0m\u001b[1;32m   1724\u001b[0m     \u001b[0;32melif\u001b[0m \u001b[0mcode\u001b[0m \u001b[0;34m==\u001b[0m \u001b[0;36m400\u001b[0m\u001b[0;34m:\u001b[0m\u001b[0;34m\u001b[0m\u001b[0;34m\u001b[0m\u001b[0m\n\u001b[1;32m   1725\u001b[0m         msg = (\"Bad request. If you think your request was valid \"\n",
      "\u001b[0;31mFDSNNoDataException\u001b[0m: No data available for request.\nDetailed response of server:\n\n"
     ]
    }
   ],
   "source": [
    "seed_id = \"BW.DROMY..FJZ\"\n",
    "\n",
    "fjz, inv = __querrySeismoData(  \n",
    "                               seed_id=seed_id, \n",
    "                               starttime=tbeg, \n",
    "                               endtime=tend, \n",
    "                               where=\"george\", \n",
    "                               path=None, \n",
    "                               restitute=None, \n",
    "                               detail=None,\n",
    "                             )\n",
    "\n",
    "## convert counts to volts\n",
    "fjz[0].data = fjz[0].data * 0.59604645e-6\n",
    "\n",
    "# fjz.resample(2500)\n",
    "\n",
    "## create time axis\n",
    "t_offset = __get_seconds(fjz[0].stats.starttime, mode=\"of_day\")\n",
    "\n",
    "fjz_time = arange(0, fjz[0].stats.npts)*fjz[0].stats.delta + t_offset"
   ]
  },
  {
   "cell_type": "code",
   "execution_count": 6,
   "metadata": {
    "ExecuteTime": {
     "end_time": "2021-04-18T09:50:18.087433Z",
     "start_time": "2021-04-18T09:50:17.753193Z"
    }
   },
   "outputs": [
    {
     "ename": "FDSNNoDataException",
     "evalue": "No data available for request.\nDetailed response of server:\n\n",
     "output_type": "error",
     "traceback": [
      "\u001b[0;31m---------------------------------------------------------------------------\u001b[0m",
      "\u001b[0;31mTypeError\u001b[0m                                 Traceback (most recent call last)",
      "\u001b[0;32m~/anaconda3/envs/obs/lib/python3.7/site-packages/andbro__querrySeismoData.py\u001b[0m in \u001b[0;36m__querrySeismoData\u001b[0;34m(seed_id, starttime, endtime, where, path, restitute, detail)\u001b[0m\n\u001b[1;32m    178\u001b[0m                                                \u001b[0mendtime\u001b[0m\u001b[0;34m=\u001b[0m\u001b[0mtend\u001b[0m\u001b[0;34m,\u001b[0m\u001b[0;34m\u001b[0m\u001b[0;34m\u001b[0m\u001b[0m\n\u001b[0;32m--> 179\u001b[0;31m                                                \u001b[0mlevel\u001b[0m\u001b[0;34m=\u001b[0m\u001b[0;34m'response'\u001b[0m\u001b[0;34m,\u001b[0m\u001b[0;34m\u001b[0m\u001b[0;34m\u001b[0m\u001b[0m\n\u001b[0m\u001b[1;32m    180\u001b[0m                                               );\n",
      "\u001b[0;32m~/anaconda3/envs/obs/lib/python3.7/site-packages/obspy/clients/fdsn/client.py\u001b[0m in \u001b[0;36mget_waveforms\u001b[0;34m(self, network, station, location, channel, starttime, endtime, quality, minimumlength, longestonly, filename, attach_response, **kwargs)\u001b[0m\n\u001b[1;32m    839\u001b[0m         url = self._create_url_from_parameters(\n\u001b[0;32m--> 840\u001b[0;31m             \"dataselect\", DEFAULT_PARAMETERS['dataselect'], kwargs)\n\u001b[0m\u001b[1;32m    841\u001b[0m \u001b[0;34m\u001b[0m\u001b[0m\n",
      "\u001b[0;32m~/anaconda3/envs/obs/lib/python3.7/site-packages/obspy/clients/fdsn/client.py\u001b[0m in \u001b[0;36m_create_url_from_parameters\u001b[0;34m(self, service, default_params, parameters)\u001b[0m\n\u001b[1;32m   1225\u001b[0m                         \u001b[0;34m%\u001b[0m \u001b[0mkey\u001b[0m\u001b[0;34m\u001b[0m\u001b[0;34m\u001b[0m\u001b[0m\n\u001b[0;32m-> 1226\u001b[0;31m                     \u001b[0;32mraise\u001b[0m \u001b[0mTypeError\u001b[0m\u001b[0;34m(\u001b[0m\u001b[0mmsg\u001b[0m\u001b[0;34m)\u001b[0m\u001b[0;34m\u001b[0m\u001b[0;34m\u001b[0m\u001b[0m\n\u001b[0m\u001b[1;32m   1227\u001b[0m             \u001b[0;31m# Now attempt to convert the parameter to the correct type.\u001b[0m\u001b[0;34m\u001b[0m\u001b[0;34m\u001b[0m\u001b[0;34m\u001b[0m\u001b[0m\n",
      "\u001b[0;31mTypeError\u001b[0m: The parameter 'level' is not supported by the service.",
      "\nDuring handling of the above exception, another exception occurred:\n",
      "\u001b[0;31mFDSNNoDataException\u001b[0m                       Traceback (most recent call last)",
      "\u001b[0;32m<ipython-input-6-f54a889472a6>\u001b[0m in \u001b[0;36m<module>\u001b[0;34m\u001b[0m\n\u001b[1;32m      8\u001b[0m                                \u001b[0mpath\u001b[0m\u001b[0;34m=\u001b[0m\u001b[0;32mNone\u001b[0m\u001b[0;34m,\u001b[0m\u001b[0;34m\u001b[0m\u001b[0;34m\u001b[0m\u001b[0m\n\u001b[1;32m      9\u001b[0m                                \u001b[0mrestitute\u001b[0m\u001b[0;34m=\u001b[0m\u001b[0;32mTrue\u001b[0m\u001b[0;34m,\u001b[0m\u001b[0;34m\u001b[0m\u001b[0;34m\u001b[0m\u001b[0m\n\u001b[0;32m---> 10\u001b[0;31m                                \u001b[0mdetail\u001b[0m\u001b[0;34m=\u001b[0m\u001b[0;32mTrue\u001b[0m\u001b[0;34m,\u001b[0m\u001b[0;34m\u001b[0m\u001b[0;34m\u001b[0m\u001b[0m\n\u001b[0m\u001b[1;32m     11\u001b[0m                              )\n\u001b[1;32m     12\u001b[0m \u001b[0;34m\u001b[0m\u001b[0m\n",
      "\u001b[0;32m~/anaconda3/envs/obs/lib/python3.7/site-packages/andbro__querrySeismoData.py\u001b[0m in \u001b[0;36m__querrySeismoData\u001b[0;34m(seed_id, starttime, endtime, where, path, restitute, detail)\u001b[0m\n\u001b[1;32m    185\u001b[0m                                                \u001b[0mstation\u001b[0m\u001b[0;34m=\u001b[0m\u001b[0msta\u001b[0m\u001b[0;34m,\u001b[0m\u001b[0;34m\u001b[0m\u001b[0;34m\u001b[0m\u001b[0m\n\u001b[1;32m    186\u001b[0m                                                \u001b[0mstarttime\u001b[0m\u001b[0;34m=\u001b[0m\u001b[0mtbeg\u001b[0m\u001b[0;34m,\u001b[0m\u001b[0;34m\u001b[0m\u001b[0;34m\u001b[0m\u001b[0m\n\u001b[0;32m--> 187\u001b[0;31m                                                \u001b[0mendtime\u001b[0m\u001b[0;34m=\u001b[0m\u001b[0mtend\u001b[0m\u001b[0;34m,\u001b[0m\u001b[0;34m\u001b[0m\u001b[0;34m\u001b[0m\u001b[0m\n\u001b[0m\u001b[1;32m    188\u001b[0m                                           \t);              \n\u001b[1;32m    189\u001b[0m \u001b[0;34m\u001b[0m\u001b[0m\n",
      "\u001b[0;32m~/anaconda3/envs/obs/lib/python3.7/site-packages/obspy/clients/fdsn/client.py\u001b[0m in \u001b[0;36mget_waveforms\u001b[0;34m(self, network, station, location, channel, starttime, endtime, quality, minimumlength, longestonly, filename, attach_response, **kwargs)\u001b[0m\n\u001b[1;32m    842\u001b[0m         \u001b[0;31m# Gzip not worth it for MiniSEED and most likely disabled for this\u001b[0m\u001b[0;34m\u001b[0m\u001b[0;34m\u001b[0m\u001b[0;34m\u001b[0m\u001b[0m\n\u001b[1;32m    843\u001b[0m         \u001b[0;31m# route in any case.\u001b[0m\u001b[0;34m\u001b[0m\u001b[0;34m\u001b[0m\u001b[0;34m\u001b[0m\u001b[0m\n\u001b[0;32m--> 844\u001b[0;31m         \u001b[0mdata_stream\u001b[0m \u001b[0;34m=\u001b[0m \u001b[0mself\u001b[0m\u001b[0;34m.\u001b[0m\u001b[0m_download\u001b[0m\u001b[0;34m(\u001b[0m\u001b[0murl\u001b[0m\u001b[0;34m,\u001b[0m \u001b[0muse_gzip\u001b[0m\u001b[0;34m=\u001b[0m\u001b[0;32mFalse\u001b[0m\u001b[0;34m)\u001b[0m\u001b[0;34m\u001b[0m\u001b[0;34m\u001b[0m\u001b[0m\n\u001b[0m\u001b[1;32m    845\u001b[0m         \u001b[0mdata_stream\u001b[0m\u001b[0;34m.\u001b[0m\u001b[0mseek\u001b[0m\u001b[0;34m(\u001b[0m\u001b[0;36m0\u001b[0m\u001b[0;34m,\u001b[0m \u001b[0;36m0\u001b[0m\u001b[0;34m)\u001b[0m\u001b[0;34m\u001b[0m\u001b[0;34m\u001b[0m\u001b[0m\n\u001b[1;32m    846\u001b[0m         \u001b[0;32mif\u001b[0m \u001b[0mfilename\u001b[0m\u001b[0;34m:\u001b[0m\u001b[0;34m\u001b[0m\u001b[0;34m\u001b[0m\u001b[0m\n",
      "\u001b[0;32m~/anaconda3/envs/obs/lib/python3.7/site-packages/obspy/clients/fdsn/client.py\u001b[0m in \u001b[0;36m_download\u001b[0;34m(self, url, return_string, data, use_gzip)\u001b[0m\n\u001b[1;32m   1395\u001b[0m             \u001b[0mdebug\u001b[0m\u001b[0;34m=\u001b[0m\u001b[0mself\u001b[0m\u001b[0;34m.\u001b[0m\u001b[0mdebug\u001b[0m\u001b[0;34m,\u001b[0m \u001b[0mreturn_string\u001b[0m\u001b[0;34m=\u001b[0m\u001b[0mreturn_string\u001b[0m\u001b[0;34m,\u001b[0m \u001b[0mdata\u001b[0m\u001b[0;34m=\u001b[0m\u001b[0mdata\u001b[0m\u001b[0;34m,\u001b[0m\u001b[0;34m\u001b[0m\u001b[0;34m\u001b[0m\u001b[0m\n\u001b[1;32m   1396\u001b[0m             timeout=self.timeout, use_gzip=use_gzip)\n\u001b[0;32m-> 1397\u001b[0;31m         \u001b[0mraise_on_error\u001b[0m\u001b[0;34m(\u001b[0m\u001b[0mcode\u001b[0m\u001b[0;34m,\u001b[0m \u001b[0mdata\u001b[0m\u001b[0;34m)\u001b[0m\u001b[0;34m\u001b[0m\u001b[0;34m\u001b[0m\u001b[0m\n\u001b[0m\u001b[1;32m   1398\u001b[0m         \u001b[0;32mreturn\u001b[0m \u001b[0mdata\u001b[0m\u001b[0;34m\u001b[0m\u001b[0;34m\u001b[0m\u001b[0m\n\u001b[1;32m   1399\u001b[0m \u001b[0;34m\u001b[0m\u001b[0m\n",
      "\u001b[0;32m~/anaconda3/envs/obs/lib/python3.7/site-packages/obspy/clients/fdsn/client.py\u001b[0m in \u001b[0;36mraise_on_error\u001b[0;34m(code, data)\u001b[0m\n\u001b[1;32m   1721\u001b[0m     \u001b[0;32mif\u001b[0m \u001b[0mcode\u001b[0m \u001b[0;34m==\u001b[0m \u001b[0;36m204\u001b[0m\u001b[0;34m:\u001b[0m\u001b[0;34m\u001b[0m\u001b[0;34m\u001b[0m\u001b[0m\n\u001b[1;32m   1722\u001b[0m         raise FDSNNoDataException(\"No data available for request.\",\n\u001b[0;32m-> 1723\u001b[0;31m                                   server_info)\n\u001b[0m\u001b[1;32m   1724\u001b[0m     \u001b[0;32melif\u001b[0m \u001b[0mcode\u001b[0m \u001b[0;34m==\u001b[0m \u001b[0;36m400\u001b[0m\u001b[0;34m:\u001b[0m\u001b[0;34m\u001b[0m\u001b[0;34m\u001b[0m\u001b[0m\n\u001b[1;32m   1725\u001b[0m         msg = (\"Bad request. If you think your request was valid \"\n",
      "\u001b[0;31mFDSNNoDataException\u001b[0m: No data available for request.\nDetailed response of server:\n\n"
     ]
    }
   ],
   "source": [
    "seed_id = \"BW.ROMY.10.BJZ\"\n",
    "\n",
    "bjz, inv = __querrySeismoData(  \n",
    "                               seed_id=seed_id, \n",
    "                               starttime=tbeg, \n",
    "                               endtime=tend, \n",
    "                               where=\"george\", \n",
    "                               path=None, \n",
    "                               restitute=True, \n",
    "                               detail=True,\n",
    "                             )\n",
    "\n",
    "\n",
    "## get offset of time window in seconds of day\n",
    "t_offset = __get_seconds(bjz[0].stats.starttime, mode=\"of_day\")\n",
    "\n",
    "## create a time axis\n",
    "bjz_time = arange(0, bjz[0].stats.npts)*bjz[0].stats.delta + t_offset"
   ]
  },
  {
   "cell_type": "code",
   "execution_count": null,
   "metadata": {
    "ExecuteTime": {
     "end_time": "2021-04-18T09:49:22.528814Z",
     "start_time": "2021-04-18T09:49:12.639Z"
    }
   },
   "outputs": [],
   "source": [
    "fjz, bjz"
   ]
  },
  {
   "cell_type": "markdown",
   "metadata": {},
   "source": [
    "## Get Q- and C-files "
   ]
  },
  {
   "cell_type": "code",
   "execution_count": null,
   "metadata": {
    "ExecuteTime": {
     "end_time": "2021-04-18T09:49:22.531247Z",
     "start_time": "2021-04-18T09:49:12.650Z"
    },
    "code_folding": [
     1,
     6,
     19
    ]
   },
   "outputs": [],
   "source": [
    "\n",
    "def __get_qdata(tbeg, tend, mode=mode):\n",
    "    \n",
    "    from pandas import read_csv\n",
    "    from obspy import UTCDateTime\n",
    "    \n",
    "    def __get_seconds(timestamp, mode=\"of_day\"):\n",
    "\n",
    "        timestamp = UTCDateTime(timestamp)\n",
    "\n",
    "        time_seconds = timestamp.hour*3600 + timestamp.minute*60 + timestamp.second + timestamp.microsecond*1e-6\n",
    "        date_seconds = timestamp.julday * 86400 + time_seconds\n",
    "\n",
    "        if mode == \"of_day\":\n",
    "            return time_seconds\n",
    "\n",
    "        elif mode == \"of_year\":\n",
    "            return date_seconds\n",
    "    \n",
    "    def __get_ymd(datetime):\n",
    "\n",
    "        if datetime.month < 10:\n",
    "            month = f\"0{datetime.month}\"\n",
    "        else: \n",
    "            month = datetime.month\n",
    "\n",
    "        if datetime.day < 10:\n",
    "            day = f\"0{datetime.day}\"\n",
    "        else: \n",
    "            day = datetime.day\n",
    "\n",
    "        return datetime.year, month, day\n",
    "    \n",
    "    ## split date to year, month, date\n",
    "    yy, mm, dd = __get_ymd(tbeg)\n",
    "    \n",
    "    ## define path to storage\n",
    "    pathwd = !pwd\n",
    "    user = str(pathwd).split(\"/\")[2]\n",
    "    \n",
    "    if user == \"andbro\":\n",
    "        path2qfiles = f\"/home/andbro/Documents/ROMY/QualityCheck/{mode}/Qfiles/{yy}-{mm}/{yy}-{mm}-{dd}.Q{seed_id.split('.')[3][2]}\"\n",
    "    elif user == \"brotzer\":\n",
    "        path2qfiles = f\"/scratch/brotzer/{mode}/Qfiles/{yy}-{mm}/{yy}-{mm}-{dd}.Q{seed_id.split('.')[3][2]}\"\n",
    "\n",
    "        \n",
    "    ## read header information \n",
    "    qfile = open(path2qfiles, 'r')\n",
    "    line = qfile.readline()\n",
    "    qfile.close()\n",
    "\n",
    "    ## extract parameters\n",
    "    param = int(line.split(\" \")[2]), int(line.split(\" \")[4]), float(line.split(\" \")[6])\n",
    "    print(param)\n",
    "    ## define time delta\n",
    "    dt = param[2]*param[1]\n",
    "        \n",
    "    ## read data \n",
    "    qdata = read_csv(path2qfiles, header=1, delimiter=\" \")\n",
    "\n",
    "    ## get limits of time window\n",
    "    sec1 = __get_seconds(tbeg, mode=\"of_day\")\n",
    "    sec2 = __get_seconds(tend, mode=\"of_day\")\n",
    "\n",
    "    ## select data section\n",
    "    qdata_select = qdata[(qdata.seconds >= sec1) & (qdata.seconds <= sec2)]\n",
    "\n",
    "    qdata_select.sort_values(by=\"seconds\")\n",
    "    \n",
    "    return qdata_select, param\n"
   ]
  },
  {
   "cell_type": "code",
   "execution_count": null,
   "metadata": {
    "ExecuteTime": {
     "end_time": "2021-04-18T09:49:22.539711Z",
     "start_time": "2021-04-18T09:49:12.652Z"
    },
    "code_folding": [
     1,
     7,
     20
    ]
   },
   "outputs": [],
   "source": [
    "\n",
    "def __get_cdata(tbeg, tend, mode=mode):\n",
    "    \n",
    "    from pandas import read_csv, DataFrame, concat\n",
    "    from obspy import UTCDateTime\n",
    "    from numpy import where\n",
    "    \n",
    "    def __get_seconds(timestamp, mode=\"of_day\"):\n",
    "\n",
    "        timestamp = UTCDateTime(timestamp)\n",
    "\n",
    "        time_seconds = timestamp.hour*3600 + timestamp.minute*60 + timestamp.second + timestamp.microsecond*1e-6\n",
    "        date_seconds = timestamp.julday * 86400 + time_seconds\n",
    "\n",
    "        if mode == \"of_day\":\n",
    "            return time_seconds\n",
    "\n",
    "        elif mode == \"of_year\":\n",
    "            return date_seconds\n",
    "\n",
    "    def __get_ymd(datetime):\n",
    "\n",
    "        if datetime.month < 10:\n",
    "            month = f\"0{datetime.month}\"\n",
    "        else: \n",
    "            month = datetime.month\n",
    "\n",
    "        if datetime.day < 10:\n",
    "            day = f\"0{datetime.day}\"\n",
    "        else: \n",
    "            day = datetime.day\n",
    "\n",
    "        return datetime.year, month, day\n",
    "    \n",
    "    ## split date to year, month, date\n",
    "    yy, mm, dd = __get_ymd(tbeg)\n",
    "    \n",
    "    ## define path to storage\n",
    "    pathwd = !pwd\n",
    "    user = str(pathwd).split(\"/\")[2]\n",
    "    \n",
    "    if user == \"andbro\":\n",
    "        path2cfiles = f\"/home/andbro/Documents/ROMY/QualityCheck/{mode}/Cfiles/{yy}-{mm}/{yy}-{mm}-{dd}.C{seed_id.split('.')[3][2]}\"\n",
    "    elif user == \"brotzer\":\n",
    "        path2cfiles = f\"/scratch/brotzer/{mode}/Cfiles/{yy}-{mm}/{yy}-{mm}-{dd}.C{seed_id.split('.')[3][2]}\"\n",
    "\n",
    "    ## read data \n",
    "    cdata = read_csv(path2cfiles, header=0, delimiter=\",\")\n",
    "\n",
    "    \n",
    "    ## get limits of time window\n",
    "    sec1 = __get_seconds(tbeg, mode=\"of_day\")\n",
    "    sec2 = __get_seconds(tend, mode=\"of_day\")\n",
    "    \n",
    "\n",
    "    ## select data section\n",
    "    cdata_select = cdata[(cdata.seconds >= sec1) & (cdata.seconds <= sec2)]\n",
    "    \n",
    "    \n",
    "    ## add entry for startpoint of selected window with same quality as previous value \n",
    "    idx1 = where(cdata['seconds'] >= sec1)[0][0]\n",
    "    if idx1 !=0:\n",
    "        tmp1 = DataFrame([[sec1, cdata.quality.iloc[idx1-1]]], columns=['seconds', 'quality'])\n",
    "    else:\n",
    "        tmp1 = DataFrame([], columns=['seconds', 'quality'])\n",
    "    \n",
    "    \n",
    "    ## add entry for endpoint of selected window with same quality as second last value\n",
    "    idx2 = where(cdata['seconds'] <= sec2)[0][-1]\n",
    "    if idx2 != len(cdata.seconds):\n",
    "        tmp2 = DataFrame([[sec2, cdata.quality.iloc[idx2]]], columns=['seconds', 'quality'])\n",
    "    else:\n",
    "        tmp2 = DataFrame([], columns=['seconds', 'quality'])\n",
    "\n",
    "        \n",
    "    ## join data frames and re-sort\n",
    "    cdata_select = concat([tmp1, cdata_select, tmp2], ignore_index=True)\n",
    "    cdata_select.sort_values(by=\"seconds\")\n",
    "    \n",
    "    \n",
    "    return cdata_select\n"
   ]
  },
  {
   "cell_type": "code",
   "execution_count": null,
   "metadata": {
    "ExecuteTime": {
     "end_time": "2021-04-18T09:49:22.540342Z",
     "start_time": "2021-04-18T09:49:12.656Z"
    }
   },
   "outputs": [],
   "source": [
    "## load Cfile and Qfile\n",
    "cdata = __get_cdata(tbeg, tend)\n",
    "\n",
    "qdata, param = __get_qdata(tbeg, tend)\n",
    "\n",
    "\n",
    "## conversion of units\n",
    "qdata.average   = qdata.average*0.59604645e-6\n",
    "qdata.delta_max = qdata.delta_max*0.59604645e-6\n",
    "qdata.delta_min = qdata.delta_min*0.59604645e-6\n",
    "qdata.avar      = qdata.avar * 0.59604645e-6\n",
    "\n",
    "## add daverage column to frame\n",
    "dt = param[1]*param[2]\n",
    "qdata['daverage'] = (qdata.average.diff(1)/dt).abs()\n",
    "\n",
    "## add difference of App \n",
    "qdata['Adiff'] = (qdata.delta_max - qdata.delta_min) \n",
    "\n",
    "## add contrast measure\n",
    "qdata['contrast'] = abs((abs(qdata.delta_max) - abs(qdata.delta_min))) / (abs(qdata.delta_min) + abs(qdata.delta_max))\n",
    "qdata['dcontrast'] = (qdata.contrast.diff(1)/dt).abs()\n",
    "\n",
    "## shift color windows to have 60 second samples centered... \n",
    "qdata.seconds = qdata.seconds + param[0]/2\n"
   ]
  },
  {
   "cell_type": "markdown",
   "metadata": {},
   "source": [
    "### Get  current thresholds"
   ]
  },
  {
   "cell_type": "code",
   "execution_count": null,
   "metadata": {
    "ExecuteTime": {
     "end_time": "2021-04-18T09:49:22.543329Z",
     "start_time": "2021-04-18T09:49:12.668Z"
    }
   },
   "outputs": [],
   "source": [
    "import pickle\n",
    "\n",
    "\n",
    "thresholds = pickle.load(open(\"thresholds.pick\", \"rb\"))\n",
    "# thresholds = unpickler.load(open(\"thresholds.pick\", \"rb\"))\n",
    "\n",
    "\n",
    "mean_thres_upper = thresholds['crt_avg_upper']\n",
    "mean_thres_lower = thresholds['crt_avg_lower']\n",
    "dmean_thres      = thresholds['crt_davg']\n",
    "dApp_thres       = thresholds['crt_avar']\n",
    "delta_f          = thresholds['crt_freq']\n",
    "f_sagnac         = thresholds['fsagnac']\n",
    "contrast_thres   = thresholds['crt_cont']\n",
    "\n",
    "## dermine component\n",
    "ring = [f'f{comp.lower()}'  for k, comp in enumerate(['Z','U','V','W']) if seed_id.split(\".\")[3][2] == comp]\n",
    "\n",
    "## get freqeuncy limits\n",
    "f1, f2 = f_sagnac[ring[0]]-delta_f, f_sagnac[ring[0]]+delta_f"
   ]
  },
  {
   "cell_type": "markdown",
   "metadata": {},
   "source": [
    "## Plotting"
   ]
  },
  {
   "cell_type": "code",
   "execution_count": null,
   "metadata": {
    "ExecuteTime": {
     "end_time": "2021-04-18T09:49:22.545164Z",
     "start_time": "2021-04-18T09:49:12.679Z"
    },
    "code_folding": [
     9
    ]
   },
   "outputs": [],
   "source": [
    "\n",
    "## split seed_id for labels\n",
    "seeds = seed_id.split('.')\n",
    "\n",
    "## get lower and upper bounds of x-axis\n",
    "x_lower = max(bjz_time[0], fjz_time[0])/60\n",
    "x_upper = min(bjz_time[-1], fjz_time[-1])/60\n",
    "\n",
    "\n",
    "def __makeplot():\n",
    "\n",
    "    ## ________________________________________________________________\n",
    "    ## Plotting\n",
    "\n",
    "\n",
    "    N = 8\n",
    "    fig, ax = plt.subplots(N,1, figsize=(15,16), sharex=True)\n",
    "\n",
    "\n",
    "    font = 15\n",
    "    \n",
    "    bbox = dict(boxstyle=\"round\", fc=\"white\")\n",
    "\n",
    "    for h in range(N):\n",
    "\n",
    "        if h == 0:\n",
    "            ax[h].plot(fjz_time/60, fjz[0].data, color=\"k\", lw=1.5)\n",
    "            \n",
    "            ax[h].set_ylabel(\"signal (V)\", fontsize=font)\n",
    "            ax[h].annotate('A', xy=(0.99, 0.95), xycoords='axes fraction', bbox=bbox, fontsize=font+1)\n",
    "\n",
    "        elif h == 1:\n",
    "            ax[h].plot(bjz_time/60,bjz[0].data*1e6, color=\"k\", lw=1.5)\n",
    "#             ax[h].semilogy(bjz_time/60,bjz[0].data*1e6, color=\"k\", lw=1.5)\n",
    "             \n",
    "            ax[h].set_ylabel(r\"$\\dot{\\Omega}$ ($\\mu$rad/s)\", fontsize=font)\n",
    "            ax[h].annotate('B', xy=(0.99, 0.95), xycoords='axes fraction', bbox=bbox, fontsize=font+1)\n",
    "#             ax[h].set_ylim(-5e6, 5e6)\n",
    "            \n",
    "        elif h == 2:\n",
    "            ax[h].plot(qdata.seconds/60, qdata.frequency, color='darkgreen', zorder=1)\n",
    "            ax[h].scatter(qdata.seconds/60, qdata.frequency, color='darkgreen', s=10, zorder=2, fc=\"white\")\n",
    "            \n",
    "#             ax[h].axhspan(f1, f2, color=\"grey\", zorder=1)\n",
    "            \n",
    "            ax[h].set_ylabel(r\"f$_{sagnac}$ (Hz)\", fontsize=font)\n",
    "            ax[h].annotate('C', xy=(0.99, 0.95), xycoords='axes fraction', bbox=bbox, fontsize=font+1)\n",
    "           \n",
    "            \n",
    "        elif h == 3:\n",
    "            ax[h].plot(qdata.seconds/60, qdata.average, color='k', zorder=1)\n",
    "            ax[h].scatter(qdata.seconds/60, qdata.average, color='k', s=10, zorder=2, fc=\"white\")\n",
    "            \n",
    "            ax[h].axhline(mean_thres_lower, color='grey', ls='--', label=f\"{mean_thres_lower}\", zorder=0)            \n",
    "            ax[h].axhline(mean_thres_upper, color='grey', ls='--', label=f\"{mean_thres_upper}\", zorder=0)            \n",
    "\n",
    "            ax[h].set_ylabel(\"M (V)\", fontsize=font)\n",
    "            ax[h].annotate('D', xy=(0.99, 0.95), xycoords='axes fraction', bbox=bbox, fontsize=font+1)\n",
    "            ax[h].legend(loc=\"lower left\", fontsize=font-2)\n",
    "\n",
    "        elif h == 4:\n",
    "            ax[h].plot(qdata.seconds/60, qdata.daverage, color='red', zorder=1)\n",
    "            ax[h].scatter(qdata.seconds/60, qdata.daverage, color='red', s=10, zorder=2, fc=\"white\")\n",
    "            \n",
    "            ax[h].axhline(dmean_thres, color='grey', ls='--', label=f\"{dmean_thres}\", zorder=0)            \n",
    "            \n",
    "            ax[h].set_ylabel(f\"$d_t$ M (V/s)\", fontsize=font)\n",
    "            ax[h].annotate('E', xy=(0.99, 0.95), xycoords='axes fraction', bbox=bbox, fontsize=font+1)\n",
    "            ax[h].legend(loc=\"upper left\", fontsize=font-2)\n",
    "\n",
    "        elif h == 5:\n",
    "            ax[h].plot(qdata.seconds/60, qdata.delta_max, color='darkblue', zorder=1, label=\"max\")\n",
    "            ax[h].scatter(qdata.seconds/60, qdata.delta_max, color='darkblue', s=10, zorder=2, fc=\"white\")\n",
    "            \n",
    "            ax[h].plot(qdata.seconds/60, qdata.delta_min, color='darkred', zorder=1, label=\"min\")\n",
    "            ax[h].scatter(qdata.seconds/60, qdata.delta_min, color='darkred', s=10, zorder=2, fc=\"white\")\n",
    "            \n",
    "\n",
    "            ax[h].set_ylabel(r\" A$_{pp}$ (V)\", fontsize=font)\n",
    "            ax[h].annotate('F', xy=(0.99, 0.95), xycoords='axes fraction', bbox=bbox, fontsize=font+1)\n",
    "#             ax[h].legend(loc=\"upper left\", fontsize=font-2)\n",
    "\n",
    "        elif h == 6:\n",
    "            ax[h].plot(qdata.seconds/60, qdata.avar, color='purple', zorder=1)\n",
    "            ax[h].scatter(qdata.seconds/60, qdata.avar, color='purple', s=10, zorder=2, fc=\"white\")\n",
    "        \n",
    "            ax[h].axhline(dApp_thres, color='grey', ls='--', label=f\"{dApp_thres}\", zorder=0)\n",
    "            \n",
    "            ax[h].set_ylabel(r\" $\\Delta$ A$_{ext}$ (V)\", fontsize=font)\n",
    "            ax[h].annotate('G', xy=(0.99, 0.95), xycoords='axes fraction', bbox=bbox, fontsize=font+1)\n",
    "            ax[h].legend(loc=\"upper left\", fontsize=font-2)\n",
    "        \n",
    "        elif h == 7:\n",
    "            ax[h].plot(qdata.seconds/60, qdata.contrast, color='darkorange', zorder=1)\n",
    "            ax[h].scatter(qdata.seconds/60, qdata.contrast, color='darkorange', s=10, zorder=2, fc=\"white\")\n",
    "            \n",
    "            ax[h].axhline(contrast_thres, color='grey', ls='--', label=f\"{contrast_thres}\", zorder=0)\n",
    "            ax[h].axhline(0.5, color='grey', ls='--', label=f\"0.5\", zorder=0)\n",
    "            \n",
    "            ax[h].set_ylabel(r\" $\\Gamma$\", fontsize=font)\n",
    "            ax[h].annotate('H', xy=(0.99, 0.95), xycoords='axes fraction', bbox=bbox, fontsize=font+1)\n",
    "            ax[h].legend(loc=\"upper left\", fontsize=font-2)\n",
    "            \n",
    "            \n",
    "#         elif h == 8:    \n",
    "#             ax[h].plot(qdata.seconds/60, qdata.dcontrast, color='pink', zorder=1)\n",
    "#             ax[h].scatter(qdata.seconds/60, qdata.dcontrast, color='pink', s=10, zorder=2, fc=\"white\")\n",
    "        \n",
    "#             ax[h].axhline(dcontrast_thres, color='grey', ls='--', label=f\"{dcontrast_thres}\", zorder=0)\n",
    "            \n",
    "#             ax[h].set_ylabel(r\"$\\partial_t \\Gamma$ (V/s)\", fontsize=font)\n",
    "#             ax[h].annotate('I ', xy=(0.99, 0.95), xycoords='axes fraction', bbox=bbox, fontsize=font+1)\n",
    "#             ax[h].legend(loc=\"upper left\", fontsize=font-2)\n",
    "                       \n",
    "            \n",
    "            \n",
    "            \n",
    "        ax[h].set_xlim(x_lower,x_upper)\n",
    "        ax[h].tick_params('y', labelsize=font-2)\n",
    "        ax[h].set_xticks(arange(x_lower, x_upper, 1), minor=True)\n",
    "\n",
    "        for j in range(len(cdata.seconds)-1):\n",
    "            if cdata.iloc[j,1] == 0:\n",
    "                ax[h].axvspan(cdata.iloc[j,0]/60,cdata.iloc[j+1,0]/60, facecolor='green', alpha=0.4, lw=0.001, edgecolor=None)\n",
    "            elif cdata.iloc[j,1] == 1:\n",
    "                ax[h].axvspan(cdata.iloc[j,0]/60,cdata.iloc[j+1,0]/60, facecolor='yellow', alpha=0.5, lw=0.001, edgecolor=None)\n",
    "            elif cdata.iloc[j,1] == 2:\n",
    "                ax[h].axvspan(cdata.iloc[j,0]/60,cdata.iloc[j+1,0]/60, facecolor='darkred', alpha=0.5, lw=0.001, edgecolor=None)\n",
    "\n",
    "\n",
    "    ax[N-1].set_xlabel(f\"Time (min)\", fontsize=font)\n",
    "\n",
    "    ax[0].set_title(f'{seeds[1]} {seeds[3][2]} on {tbeg.date}', fontsize=font+2, pad=10)\n",
    "\n",
    "    ax[N-1].tick_params('x', labelsize=font-2)\n",
    "\n",
    "\n",
    "    from matplotlib.patches import Patch\n",
    "    legend_elements = [\n",
    "                       Patch(facecolor='green', edgecolor='green', label='Q0', alpha=0.7),\n",
    "                       Patch(facecolor='gold', edgecolor='yellow', label='Q1', alpha=0.9),\n",
    "                       Patch(facecolor='darkred', edgecolor='darkred', label='Q2', alpha=0.5),\n",
    "                      ]        \n",
    "\n",
    "    ax[0].legend(handles=legend_elements, \n",
    "                 fontsize=font-3, \n",
    "                 ncol=3, \n",
    "                 bbox_to_anchor=[0.95, 1.4],\n",
    "                 loc=\"upper right\",\n",
    "                )\n",
    "\n",
    "    \n",
    "    plt.show();\n",
    "\n",
    "    return fig\n",
    "\n",
    "\n",
    "\n",
    "## _______________________________\n",
    "\n",
    "fig = __makeplot()\n",
    "\n",
    "\n",
    "if save: \n",
    "    from andbro__savefig import __savefig\n",
    "    __savefig(fig, outpath=\"/home/brotzer/Desktop/\", outname=f\"Quality_Zoomin_{tbeg.date}.png\", mode=\"png\")"
   ]
  },
  {
   "cell_type": "code",
   "execution_count": null,
   "metadata": {},
   "outputs": [],
   "source": []
  },
  {
   "cell_type": "code",
   "execution_count": null,
   "metadata": {},
   "outputs": [],
   "source": []
  }
 ],
 "metadata": {
  "kernelspec": {
   "display_name": "Python 3",
   "language": "python",
   "name": "python3"
  },
  "language_info": {
   "codemirror_mode": {
    "name": "ipython",
    "version": 3
   },
   "file_extension": ".py",
   "mimetype": "text/x-python",
   "name": "python",
   "nbconvert_exporter": "python",
   "pygments_lexer": "ipython3",
   "version": "3.7.8"
  }
 },
 "nbformat": 4,
 "nbformat_minor": 4
}
