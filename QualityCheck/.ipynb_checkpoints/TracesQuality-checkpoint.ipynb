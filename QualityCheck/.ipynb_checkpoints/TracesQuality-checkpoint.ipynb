{
 "cells": [
  {
   "cell_type": "code",
   "execution_count": 1,
   "metadata": {},
   "outputs": [],
   "source": [
    "import os\n",
    "import obspy \n",
    "import numpy as np\n",
    "import matplotlib.pyplot as plt\n",
    "\n",
    "from tqdm import tqdm\n",
    "from pandas import read_csv\n",
    "from obspy.clients.fdsn import RoutingClient"
   ]
  },
  {
   "cell_type": "code",
   "execution_count": 2,
   "metadata": {
    "code_folding": [
     1
    ]
   },
   "outputs": [],
   "source": [
    "\n",
    "def __showData(code, day, t1, t2):\n",
    "\n",
    "    \n",
    "    net, sta, loc, cha = code.split(\".\")\n",
    "    \n",
    "    tbeg = obspy.UTCDateTime(day) + t1*3600\n",
    "    tend = obspy.UTCDateTime(day) + t2*3600\n",
    "\n",
    "    inv = client.get_stations(network=net, station=sta, level='response')\n",
    "\n",
    "    st = client.get_waveforms(network=net,\n",
    "                              station=sta,\n",
    "                              location=loc,\n",
    "                              channel=cha,\n",
    "                              starttime=tbeg,\n",
    "                              endtime=tend\n",
    "                             )\n",
    "\n",
    "    st.remove_response(inventory=inv)\n",
    "\n",
    "    \n",
    "    st.detrend('simple')\n",
    "\n",
    "    st.filter('bandpass', freqmin=0.001, freqmax=5., corners=4, zerophase=True)\n",
    "\n",
    "    adata = abs(st[0].data)\n",
    "\n",
    "    five_percent = np.int(np.ceil(len(adata)*0.95))\n",
    "\n",
    "    adata_sort = np.sort(adata)\n",
    "\n",
    "    ylimit = adata_sort[five_percent]\n",
    "\n",
    "    fig, ax = plt.subplots(2,1, figsize=(15,5))\n",
    "\n",
    "    ax[0].plot(st[0].data,'k')\n",
    "    ax[1].plot(adata,'.', markersize=1)\n",
    "    ax[1].plot([0,len(adata)],[ylimit,ylimit],'k--')\n",
    "\n",
    "    plt.show();\n",
    "    return fig\n"
   ]
  },
  {
   "cell_type": "code",
   "execution_count": 3,
   "metadata": {
    "code_folding": [
     1
    ]
   },
   "outputs": [],
   "source": [
    "\n",
    "def __getQuality(code, day, tsteps, overlap, limit, output=None):\n",
    "\n",
    "    if output:\n",
    "        with open(opath+ofile, 'w') as out:\n",
    "            out.write(\"timecode time[sec] 95%limit\\n\")\n",
    "            \n",
    "    net, sta, loc, cha = code.split(\".\")\n",
    "\n",
    "    tdelta = overlap * tsteps\n",
    "\n",
    "        \n",
    "    ylimits  = np.zeros(int(1440/tdelta));\n",
    "    timeline = np.zeros(int(1440/tdelta));\n",
    "    \n",
    "    for k in tqdm(range(0,int(1440/tdelta))):\n",
    "\n",
    "        time = obspy.UTCDateTime(day) + k*tdelta*60\n",
    "        tbeg = time - tdelta*60\n",
    "        tend = time + tdelta*60 \n",
    "\n",
    "        inv = client.get_stations(network=net, station=sta, level='response');\n",
    "\n",
    "        st = client.get_waveforms(network=net,\n",
    "                                  station=sta,\n",
    "                                  location=loc,\n",
    "                                  channel=cha,\n",
    "                                  starttime=tbeg,\n",
    "                                  endtime=tend\n",
    "                                 );\n",
    "\n",
    "        st.remove_response(inventory=inv);\n",
    "\n",
    "        st.detrend('simple');\n",
    "\n",
    "        st.filter('bandpass', freqmin=0.001, freqmax=5., corners=4, zerophase=True);\n",
    "\n",
    "        adata = abs(st[0].data)\n",
    "\n",
    "        five_percent = np.int(np.ceil(len(adata)*limit))\n",
    "\n",
    "        adata_sort = np.sort(adata)\n",
    "\n",
    "        ylimits[k] = adata_sort[five_percent];\n",
    "        timeline[k] = k*tdelta*60;\n",
    "    if output:\n",
    "        with open(opath+ofile, 'a') as out:\n",
    "            out.write(f\"{time} {timeline[k]} {ylimits[k]}\\n\");\n",
    "        \n",
    "        out.close() \n",
    "    \n",
    "    else: \n",
    "        return ylimits\n",
    "    "
   ]
  },
  {
   "cell_type": "code",
   "execution_count": 9,
   "metadata": {},
   "outputs": [],
   "source": [
    "\n",
    "opath = \"/home/brotzer/Desktop/\"\n",
    "ofile = \"test.txt\"\n",
    "\n",
    "code = \"BW.ALFT..BHZ\"\n",
    "\n",
    "day = \"2019-11-11\"\n",
    "\n",
    "\n",
    "\n",
    "client = RoutingClient('eida-routing')\n",
    "\n",
    "\n",
    "tsteps = 20 # minutes\n",
    "overlap = 0.5\n",
    "\n",
    "limit = 0.95\n",
    "\n",
    "\n"
   ]
  },
  {
   "cell_type": "code",
   "execution_count": 5,
   "metadata": {},
   "outputs": [
    {
     "data": {
      "image/png": "[encoded data removed]",
      "text/plain": [
       "<Figure size 1080x360 with 2 Axes>"
      ]
     },
     "metadata": {
      "needs_background": "light"
     },
     "output_type": "display_data"
    }
   ],
   "source": [
    "\n",
    "__showData(code, day, 0, 24);\n"
   ]
  },
  {
   "cell_type": "code",
   "execution_count": 6,
   "metadata": {
    "code_folding": []
   },
   "outputs": [
    {
     "name": "stderr",
     "output_type": "stream",
     "text": [
      "100%|██████████| 144/144 [01:05<00:00,  2.21it/s]\n"
     ]
    }
   ],
   "source": [
    "   \n",
    "__getQuality(code, day, tsteps, overlap, limit, output=True);\n"
   ]
  },
  {
   "cell_type": "code",
   "execution_count": 7,
   "metadata": {},
   "outputs": [
    {
     "ename": "IndexError",
     "evalue": "single positional indexer is out-of-bounds",
     "output_type": "error",
     "traceback": [
      "\u001b[0;31m---------------------------------------------------------------------------\u001b[0m",
      "\u001b[0;31mIndexError\u001b[0m                                Traceback (most recent call last)",
      "\u001b[0;32m<ipython-input-7-660d5bc1e294>\u001b[0m in \u001b[0;36m<module>\u001b[0;34m\u001b[0m\n\u001b[1;32m      1\u001b[0m \u001b[0mdata\u001b[0m \u001b[0;34m=\u001b[0m \u001b[0mread_csv\u001b[0m\u001b[0;34m(\u001b[0m\u001b[0mopath\u001b[0m\u001b[0;34m+\u001b[0m\u001b[0mofile\u001b[0m\u001b[0;34m,\u001b[0m \u001b[0mdelimiter\u001b[0m\u001b[0;34m=\u001b[0m\u001b[0;34m\" \"\u001b[0m\u001b[0;34m)\u001b[0m\u001b[0;34m\u001b[0m\u001b[0;34m\u001b[0m\u001b[0m\n\u001b[0;32m----> 2\u001b[0;31m \u001b[0mdiv\u001b[0m \u001b[0;34m=\u001b[0m \u001b[0mint\u001b[0m\u001b[0;34m(\u001b[0m\u001b[0;36m3600\u001b[0m\u001b[0;34m/\u001b[0m\u001b[0;34m(\u001b[0m\u001b[0mdata\u001b[0m\u001b[0;34m.\u001b[0m\u001b[0miloc\u001b[0m\u001b[0;34m[\u001b[0m\u001b[0;36m1\u001b[0m\u001b[0;34m,\u001b[0m\u001b[0;36m1\u001b[0m\u001b[0;34m]\u001b[0m\u001b[0;34m-\u001b[0m\u001b[0mdata\u001b[0m\u001b[0;34m.\u001b[0m\u001b[0miloc\u001b[0m\u001b[0;34m[\u001b[0m\u001b[0;36m0\u001b[0m\u001b[0;34m,\u001b[0m\u001b[0;36m1\u001b[0m\u001b[0;34m]\u001b[0m\u001b[0;34m)\u001b[0m\u001b[0;34m)\u001b[0m\u001b[0;34m\u001b[0m\u001b[0;34m\u001b[0m\u001b[0m\n\u001b[0m\u001b[1;32m      3\u001b[0m \u001b[0;34m\u001b[0m\u001b[0m\n\u001b[1;32m      4\u001b[0m \u001b[0mlnames\u001b[0m \u001b[0;34m=\u001b[0m \u001b[0;34m[\u001b[0m\u001b[0mint\u001b[0m\u001b[0;34m(\u001b[0m\u001b[0mt\u001b[0m\u001b[0;34m/\u001b[0m\u001b[0;36m3600\u001b[0m\u001b[0;34m)\u001b[0m \u001b[0;32mif\u001b[0m \u001b[0mi\u001b[0m\u001b[0;34m%\u001b[0m\u001b[0mdiv\u001b[0m\u001b[0;34m==\u001b[0m\u001b[0;36m0\u001b[0m \u001b[0;32melse\u001b[0m \u001b[0;34m''\u001b[0m \u001b[0;32mfor\u001b[0m \u001b[0mi\u001b[0m\u001b[0;34m,\u001b[0m \u001b[0mt\u001b[0m \u001b[0;32min\u001b[0m \u001b[0menumerate\u001b[0m\u001b[0;34m(\u001b[0m\u001b[0mdata\u001b[0m\u001b[0;34m.\u001b[0m\u001b[0miloc\u001b[0m\u001b[0;34m[\u001b[0m\u001b[0;34m:\u001b[0m\u001b[0;34m,\u001b[0m\u001b[0;36m1\u001b[0m\u001b[0;34m]\u001b[0m\u001b[0;34m)\u001b[0m\u001b[0;34m]\u001b[0m\u001b[0;34m\u001b[0m\u001b[0;34m\u001b[0m\u001b[0m\n\u001b[1;32m      5\u001b[0m \u001b[0;34m\u001b[0m\u001b[0m\n",
      "\u001b[0;32m~/anaconda3/lib/python3.7/site-packages/pandas/core/indexing.py\u001b[0m in \u001b[0;36m__getitem__\u001b[0;34m(self, key)\u001b[0m\n\u001b[1;32m    871\u001b[0m                     \u001b[0;31m# AttributeError for IntervalTree get_value\u001b[0m\u001b[0;34m\u001b[0m\u001b[0;34m\u001b[0m\u001b[0;34m\u001b[0m\u001b[0m\n\u001b[1;32m    872\u001b[0m                     \u001b[0;32mpass\u001b[0m\u001b[0;34m\u001b[0m\u001b[0;34m\u001b[0m\u001b[0m\n\u001b[0;32m--> 873\u001b[0;31m             \u001b[0;32mreturn\u001b[0m \u001b[0mself\u001b[0m\u001b[0;34m.\u001b[0m\u001b[0m_getitem_tuple\u001b[0m\u001b[0;34m(\u001b[0m\u001b[0mkey\u001b[0m\u001b[0;34m)\u001b[0m\u001b[0;34m\u001b[0m\u001b[0;34m\u001b[0m\u001b[0m\n\u001b[0m\u001b[1;32m    874\u001b[0m         \u001b[0;32melse\u001b[0m\u001b[0;34m:\u001b[0m\u001b[0;34m\u001b[0m\u001b[0;34m\u001b[0m\u001b[0m\n\u001b[1;32m    875\u001b[0m             \u001b[0;31m# we by definition only have the 0th axis\u001b[0m\u001b[0;34m\u001b[0m\u001b[0;34m\u001b[0m\u001b[0;34m\u001b[0m\u001b[0m\n",
      "\u001b[0;32m~/anaconda3/lib/python3.7/site-packages/pandas/core/indexing.py\u001b[0m in \u001b[0;36m_getitem_tuple\u001b[0;34m(self, tup)\u001b[0m\n\u001b[1;32m   1441\u001b[0m     \u001b[0;32mdef\u001b[0m \u001b[0m_getitem_tuple\u001b[0m\u001b[0;34m(\u001b[0m\u001b[0mself\u001b[0m\u001b[0;34m,\u001b[0m \u001b[0mtup\u001b[0m\u001b[0;34m:\u001b[0m \u001b[0mTuple\u001b[0m\u001b[0;34m)\u001b[0m\u001b[0;34m:\u001b[0m\u001b[0;34m\u001b[0m\u001b[0;34m\u001b[0m\u001b[0m\n\u001b[1;32m   1442\u001b[0m \u001b[0;34m\u001b[0m\u001b[0m\n\u001b[0;32m-> 1443\u001b[0;31m         \u001b[0mself\u001b[0m\u001b[0;34m.\u001b[0m\u001b[0m_has_valid_tuple\u001b[0m\u001b[0;34m(\u001b[0m\u001b[0mtup\u001b[0m\u001b[0;34m)\u001b[0m\u001b[0;34m\u001b[0m\u001b[0;34m\u001b[0m\u001b[0m\n\u001b[0m\u001b[1;32m   1444\u001b[0m         \u001b[0;32mtry\u001b[0m\u001b[0;34m:\u001b[0m\u001b[0;34m\u001b[0m\u001b[0;34m\u001b[0m\u001b[0m\n\u001b[1;32m   1445\u001b[0m             \u001b[0;32mreturn\u001b[0m \u001b[0mself\u001b[0m\u001b[0;34m.\u001b[0m\u001b[0m_getitem_lowerdim\u001b[0m\u001b[0;34m(\u001b[0m\u001b[0mtup\u001b[0m\u001b[0;34m)\u001b[0m\u001b[0;34m\u001b[0m\u001b[0;34m\u001b[0m\u001b[0m\n",
      "\u001b[0;32m~/anaconda3/lib/python3.7/site-packages/pandas/core/indexing.py\u001b[0m in \u001b[0;36m_has_valid_tuple\u001b[0;34m(self, key)\u001b[0m\n\u001b[1;32m    700\u001b[0m                 \u001b[0;32mraise\u001b[0m \u001b[0mIndexingError\u001b[0m\u001b[0;34m(\u001b[0m\u001b[0;34m\"Too many indexers\"\u001b[0m\u001b[0;34m)\u001b[0m\u001b[0;34m\u001b[0m\u001b[0;34m\u001b[0m\u001b[0m\n\u001b[1;32m    701\u001b[0m             \u001b[0;32mtry\u001b[0m\u001b[0;34m:\u001b[0m\u001b[0;34m\u001b[0m\u001b[0;34m\u001b[0m\u001b[0m\n\u001b[0;32m--> 702\u001b[0;31m                 \u001b[0mself\u001b[0m\u001b[0;34m.\u001b[0m\u001b[0m_validate_key\u001b[0m\u001b[0;34m(\u001b[0m\u001b[0mk\u001b[0m\u001b[0;34m,\u001b[0m \u001b[0mi\u001b[0m\u001b[0;34m)\u001b[0m\u001b[0;34m\u001b[0m\u001b[0;34m\u001b[0m\u001b[0m\n\u001b[0m\u001b[1;32m    703\u001b[0m             \u001b[0;32mexcept\u001b[0m \u001b[0mValueError\u001b[0m \u001b[0;32mas\u001b[0m \u001b[0merr\u001b[0m\u001b[0;34m:\u001b[0m\u001b[0;34m\u001b[0m\u001b[0;34m\u001b[0m\u001b[0m\n\u001b[1;32m    704\u001b[0m                 raise ValueError(\n",
      "\u001b[0;32m~/anaconda3/lib/python3.7/site-packages/pandas/core/indexing.py\u001b[0m in \u001b[0;36m_validate_key\u001b[0;34m(self, key, axis)\u001b[0m\n\u001b[1;32m   1350\u001b[0m             \u001b[0;32mreturn\u001b[0m\u001b[0;34m\u001b[0m\u001b[0;34m\u001b[0m\u001b[0m\n\u001b[1;32m   1351\u001b[0m         \u001b[0;32melif\u001b[0m \u001b[0mis_integer\u001b[0m\u001b[0;34m(\u001b[0m\u001b[0mkey\u001b[0m\u001b[0;34m)\u001b[0m\u001b[0;34m:\u001b[0m\u001b[0;34m\u001b[0m\u001b[0;34m\u001b[0m\u001b[0m\n\u001b[0;32m-> 1352\u001b[0;31m             \u001b[0mself\u001b[0m\u001b[0;34m.\u001b[0m\u001b[0m_validate_integer\u001b[0m\u001b[0;34m(\u001b[0m\u001b[0mkey\u001b[0m\u001b[0;34m,\u001b[0m \u001b[0maxis\u001b[0m\u001b[0;34m)\u001b[0m\u001b[0;34m\u001b[0m\u001b[0;34m\u001b[0m\u001b[0m\n\u001b[0m\u001b[1;32m   1353\u001b[0m         \u001b[0;32melif\u001b[0m \u001b[0misinstance\u001b[0m\u001b[0;34m(\u001b[0m\u001b[0mkey\u001b[0m\u001b[0;34m,\u001b[0m \u001b[0mtuple\u001b[0m\u001b[0;34m)\u001b[0m\u001b[0;34m:\u001b[0m\u001b[0;34m\u001b[0m\u001b[0;34m\u001b[0m\u001b[0m\n\u001b[1;32m   1354\u001b[0m             \u001b[0;31m# a tuple should already have been caught by this point\u001b[0m\u001b[0;34m\u001b[0m\u001b[0;34m\u001b[0m\u001b[0;34m\u001b[0m\u001b[0m\n",
      "\u001b[0;32m~/anaconda3/lib/python3.7/site-packages/pandas/core/indexing.py\u001b[0m in \u001b[0;36m_validate_integer\u001b[0;34m(self, key, axis)\u001b[0m\n\u001b[1;32m   1435\u001b[0m         \u001b[0mlen_axis\u001b[0m \u001b[0;34m=\u001b[0m \u001b[0mlen\u001b[0m\u001b[0;34m(\u001b[0m\u001b[0mself\u001b[0m\u001b[0;34m.\u001b[0m\u001b[0mobj\u001b[0m\u001b[0;34m.\u001b[0m\u001b[0m_get_axis\u001b[0m\u001b[0;34m(\u001b[0m\u001b[0maxis\u001b[0m\u001b[0;34m)\u001b[0m\u001b[0;34m)\u001b[0m\u001b[0;34m\u001b[0m\u001b[0;34m\u001b[0m\u001b[0m\n\u001b[1;32m   1436\u001b[0m         \u001b[0;32mif\u001b[0m \u001b[0mkey\u001b[0m \u001b[0;34m>=\u001b[0m \u001b[0mlen_axis\u001b[0m \u001b[0;32mor\u001b[0m \u001b[0mkey\u001b[0m \u001b[0;34m<\u001b[0m \u001b[0;34m-\u001b[0m\u001b[0mlen_axis\u001b[0m\u001b[0;34m:\u001b[0m\u001b[0;34m\u001b[0m\u001b[0;34m\u001b[0m\u001b[0m\n\u001b[0;32m-> 1437\u001b[0;31m             \u001b[0;32mraise\u001b[0m \u001b[0mIndexError\u001b[0m\u001b[0;34m(\u001b[0m\u001b[0;34m\"single positional indexer is out-of-bounds\"\u001b[0m\u001b[0;34m)\u001b[0m\u001b[0;34m\u001b[0m\u001b[0;34m\u001b[0m\u001b[0m\n\u001b[0m\u001b[1;32m   1438\u001b[0m \u001b[0;34m\u001b[0m\u001b[0m\n\u001b[1;32m   1439\u001b[0m     \u001b[0;31m# -------------------------------------------------------------------\u001b[0m\u001b[0;34m\u001b[0m\u001b[0;34m\u001b[0m\u001b[0;34m\u001b[0m\u001b[0m\n",
      "\u001b[0;31mIndexError\u001b[0m: single positional indexer is out-of-bounds"
     ]
    }
   ],
   "source": [
    "\n",
    "data = read_csv(opath+ofile, delimiter=\" \")\n",
    "div = int(3600/(data.iloc[1,1]-data.iloc[0,1]))\n",
    "\n",
    "lnames = [int(t/3600) if i%div==0 else '' for i, t in enumerate(data.iloc[:,1])]\n",
    "\n",
    "\n",
    "## _______________________________________________\n",
    "##\n",
    "\n",
    "fig , ax = plt.subplots(1,1, figsize=(14,4))\n",
    "\n",
    "fs = 12\n",
    "\n",
    "ax.plot(data.iloc[:,1],data.iloc[:,2], 'k--')\n",
    "ax.plot(data.iloc[:,1],data.iloc[:,2], 'r.', markersize=10)\n",
    "\n",
    "ax.set_xticks(data.iloc[:,1])\n",
    "ax.set_xticklabels(lnames)\n",
    "\n",
    "ax.axhline(np.median(data.iloc[:,2]), color=\"grey\", zorder=0)\n",
    "\n",
    "ax.set_xlabel(\"Time (hours)\", fontsize=fs)\n",
    "ax.set_ylabel(\"95%-Limit\", fontsize=fs)\n",
    "\n",
    "plt.show();"
   ]
  },
  {
   "cell_type": "code",
   "execution_count": null,
   "metadata": {
    "code_folding": []
   },
   "outputs": [],
   "source": [
    "\n",
    "__showData(code ,day, 3.5, 4.5);\n"
   ]
  },
  {
   "cell_type": "code",
   "execution_count": 26,
   "metadata": {},
   "outputs": [
    {
     "name": "stderr",
     "output_type": "stream",
     "text": [
      "/home/andbro/anaconda3/envs/obs/lib/python3.7/site-packages/seaborn/distributions.py:2551: FutureWarning: `distplot` is a deprecated function and will be removed in a future version. Please adapt your code to use either `displot` (a figure-level function with similar flexibility) or `histplot` (an axes-level function for histograms).\n",
      "  warnings.warn(msg, FutureWarning)\n",
      "/home/andbro/anaconda3/envs/obs/lib/python3.7/site-packages/seaborn/distributions.py:305: UserWarning: Dataset has 0 variance; skipping density estimate.\n",
      "  warnings.warn(msg, UserWarning)\n"
     ]
    },
    {
     "data": {
      "text/plain": [
       "<AxesSubplot:xlabel='medians', ylabel='Density'>"
      ]
     },
     "execution_count": 26,
     "metadata": {},
     "output_type": "execute_result"
    },
    {
     "data": {
      "image/png": "[encoded data removed]",
      "text/plain": [
       "<Figure size 432x288 with 1 Axes>"
      ]
     },
     "metadata": {
      "needs_background": "light"
     },
     "output_type": "display_data"
    }
   ],
   "source": [
    "import seaborn as sns\n",
    "sns.distplot(data.iloc[:,1])"
   ]
  },
  {
   "cell_type": "code",
   "execution_count": 51,
   "metadata": {
    "code_folding": []
   },
   "outputs": [
    {
     "name": "stdout",
     "output_type": "stream",
     "text": [
      "Using matplotlib backend: Qt5Agg\n"
     ]
    }
   ],
   "source": [
    "%matplotlib auto\n",
    "\n",
    "ipath = \"/home/brotzer/Desktop/\"\n",
    "ipath = \"/home/andbro/Desktop/OBS/QualityCheck/\"\n",
    "\n",
    "# ifile = \"ALFT-BHZ-2020\"\n",
    "ifile = \"ROMY-BJU-2019\"\n",
    "\n",
    "\n",
    "data = read_csv(ipath+ifile, delimiter=\" \", header=1)\n",
    "\n",
    "data.tail()\n",
    "\n",
    "threshold = data.medians.median() + 1*data.medians.std()\n",
    "\n",
    "days = [float(dat[8:10]) for i, dat in enumerate(data.datetime)]\n",
    "days = np.arange(1,len(data)+1,1)\n",
    "\n",
    "## __________________________________________\n",
    "##\n",
    "\n",
    "fig, ax = plt.subplots(3,1, figsize=(15,6))\n",
    "\n",
    "fs = 14\n",
    "\n",
    "fig.subplots_adjust(hspace=0.4)\n",
    "\n",
    "ax[0].plot(days, data.medians, color=\"darkred\", linestyle='--')\n",
    "ax[0].plot(days, data.medians, 'r.', markersize=7 , label=\"medians\")\n",
    "\n",
    "ax[0].axhline(threshold, color=\"blue\", linestyle=\"--\", label=\"{:.2e}\".format(threshold))\n",
    "\n",
    "ax[1].plot(days, data.maxima, color='grey', linestyle='--')\n",
    "ax[1].plot(days, data.maxima,  'k.', markersize=7, label=\"maxima\")\n",
    "\n",
    "ax[2].plot(days, data.minima, color='grey', linestyle='--')\n",
    "ax[2].plot(days, data.minima, 'k.', markersize=7, label=\"minima\")\n",
    "\n",
    "ax[0].legend(fontsize=fs-1)\n",
    "ax[1].legend(fontsize=fs-1)\n",
    "ax[2].legend(fontsize=fs-1)\n",
    "\n",
    "ax[2].set_xlabel(\"DoY\", fontsize=fs+2)\n",
    "ax[0].set_title(f\"{ifile}\", fontsize=fs+3)\n",
    "\n",
    "plt.show();\n"
   ]
  },
  {
   "cell_type": "code",
   "execution_count": 9,
   "metadata": {},
   "outputs": [
    {
     "data": {
      "text/html": [
       "<div>\n",
       "<style scoped>\n",
       "    .dataframe tbody tr th:only-of-type {\n",
       "        vertical-align: middle;\n",
       "    }\n",
       "\n",
       "    .dataframe tbody tr th {\n",
       "        vertical-align: top;\n",
       "    }\n",
       "\n",
       "    .dataframe thead th {\n",
       "        text-align: right;\n",
       "    }\n",
       "</style>\n",
       "<table border=\"1\" class=\"dataframe\">\n",
       "  <thead>\n",
       "    <tr style=\"text-align: right;\">\n",
       "      <th></th>\n",
       "      <th>datetime</th>\n",
       "      <th>medians</th>\n",
       "      <th>maxima</th>\n",
       "      <th>minima</th>\n",
       "    </tr>\n",
       "  </thead>\n",
       "  <tbody>\n",
       "    <tr>\n",
       "      <th>0</th>\n",
       "      <td>2019-01-01</td>\n",
       "      <td>1.990976e-09</td>\n",
       "      <td>5.965590e-09</td>\n",
       "      <td>7.089269e-10</td>\n",
       "    </tr>\n",
       "    <tr>\n",
       "      <th>1</th>\n",
       "      <td>2019-01-02</td>\n",
       "      <td>3.005273e-09</td>\n",
       "      <td>1.526625e-06</td>\n",
       "      <td>1.229830e-09</td>\n",
       "    </tr>\n",
       "    <tr>\n",
       "      <th>2</th>\n",
       "      <td>2019-01-03</td>\n",
       "      <td>2.828262e-09</td>\n",
       "      <td>2.465032e-06</td>\n",
       "      <td>8.053272e-10</td>\n",
       "    </tr>\n",
       "    <tr>\n",
       "      <th>3</th>\n",
       "      <td>2019-01-04</td>\n",
       "      <td>3.359637e-09</td>\n",
       "      <td>9.158373e-07</td>\n",
       "      <td>9.579367e-10</td>\n",
       "    </tr>\n",
       "    <tr>\n",
       "      <th>4</th>\n",
       "      <td>2019-01-05</td>\n",
       "      <td>2.552527e-09</td>\n",
       "      <td>2.421428e-06</td>\n",
       "      <td>1.252281e-09</td>\n",
       "    </tr>\n",
       "  </tbody>\n",
       "</table>\n",
       "</div>"
      ],
      "text/plain": [
       "     datetime       medians        maxima        minima\n",
       "0  2019-01-01  1.990976e-09  5.965590e-09  7.089269e-10\n",
       "1  2019-01-02  3.005273e-09  1.526625e-06  1.229830e-09\n",
       "2  2019-01-03  2.828262e-09  2.465032e-06  8.053272e-10\n",
       "3  2019-01-04  3.359637e-09  9.158373e-07  9.579367e-10\n",
       "4  2019-01-05  2.552527e-09  2.421428e-06  1.252281e-09"
      ]
     },
     "execution_count": 9,
     "metadata": {},
     "output_type": "execute_result"
    }
   ],
   "source": []
  },
  {
   "cell_type": "code",
   "execution_count": null,
   "metadata": {},
   "outputs": [],
   "source": []
  }
 ],
 "metadata": {
  "kernelspec": {
   "display_name": "Python 3",
   "language": "python",
   "name": "python3"
  },
  "language_info": {
   "codemirror_mode": {
    "name": "ipython",
    "version": 3
   },
   "file_extension": ".py",
   "mimetype": "text/x-python",
   "name": "python",
   "nbconvert_exporter": "python",
   "pygments_lexer": "ipython3",
   "version": "3.7.8"
  }
 },
 "nbformat": 4,
 "nbformat_minor": 4
}
