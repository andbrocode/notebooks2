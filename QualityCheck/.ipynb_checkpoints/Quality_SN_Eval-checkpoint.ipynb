{
 "cells": [
  {
   "cell_type": "code",
   "execution_count": 5,
   "id": "textile-edgar",
   "metadata": {
    "ExecuteTime": {
     "end_time": "2021-03-02T12:48:31.304684Z",
     "start_time": "2021-03-02T12:48:31.300477Z"
    }
   },
   "outputs": [],
   "source": [
    "import obspy\n",
    "import numpy as np\n",
    "\n",
    "from tqdm import tqdm\n",
    "from andbro__querrySeismoData import __querrySeismoData"
   ]
  },
  {
   "cell_type": "code",
   "execution_count": 6,
   "id": "alien-screen",
   "metadata": {
    "ExecuteTime": {
     "end_time": "2021-03-02T12:48:31.517820Z",
     "start_time": "2021-03-02T12:48:31.504858Z"
    },
    "code_folding": [
     1
    ]
   },
   "outputs": [],
   "source": [
    "\n",
    "def __create_and_write_SN_data(trace, opath, twin, over):\n",
    "    \n",
    "    \n",
    "    samples = trace[0].stats.npts\n",
    "    deltaT  = trace[0].stats.delta\n",
    "    steps = int(twin / deltaT) \n",
    "\n",
    "\n",
    "\n",
    "    binsize = twin / deltaT \n",
    "    overlap = int(binsize * over)\n",
    "\n",
    "\n",
    "    bins = np.arange(binsize/2, len(trace[0].data)-binsize/2+overlap, overlap)\n",
    "\n",
    "    \n",
    "    ## allocate variable memory\n",
    "    conf   = np.zeros(len(bins))\n",
    "    timeline = np.zeros(len(bins))\n",
    "\n",
    "    for l, xbin in enumerate(bins):\n",
    "#                 print(f'{(xbin-binsize/2)*deltaT-1}--{(xbin+binsize/2)*deltaT-1}')\n",
    "\n",
    "        wdata = trace[0].data[int(xbin-binsize/2):int(xbin+binsize/2)]\n",
    "\n",
    "        idx = int(len(wdata)*0.95)\n",
    "\n",
    "        conf[l] = np.sort(np.abs(wdata))[idx]\n",
    "\n",
    "        timeline[l] = l*twin*over + twin*over\n",
    "        \n",
    "    \n",
    "    ## writing output\n",
    "    \n",
    "    if trace[0].stats.starttime.month < 10:\n",
    "        mm = f\"0{trace[0].stats.starttime.month}\"\n",
    "    else:\n",
    "        mm = trace[0].stats.starttime.month\n",
    "          \n",
    "    if trace[0].stats.starttime.day < 10:\n",
    "        dd = f\"0{trace[0].stats.starttime.day}\"\n",
    "    else:\n",
    "        dd = trace[0].stats.starttime.day\n",
    "\n",
    "        \n",
    "    oname = f\"{trace[0].stats.channel}_{trace[0].stats.starttime.year}{mm}{dd}.SN95\"\n",
    "    out = open(opath + oname, \"a+\")\n",
    "    \n",
    "    for idx in range(0,len(conf)):\n",
    "        out.write(f\" {timeline[idx]} {conf[idx]} \\n\")\n",
    "    out.close()\n"
   ]
  },
  {
   "cell_type": "code",
   "execution_count": 9,
   "id": "legal-folder",
   "metadata": {
    "ExecuteTime": {
     "end_time": "2021-03-02T12:48:43.057375Z",
     "start_time": "2021-03-02T12:48:43.052579Z"
    }
   },
   "outputs": [],
   "source": [
    "tbeg = obspy.UTCDateTime(\"2020-01-01 00:00\")\n",
    "tend = obspy.UTCDateTime(\"2020-01-02 00:00\")\n",
    "\n",
    "seed_id = \"BW.ROMY..BJU\"\n",
    "\n",
    "opath = \"/home/andbro/Desktop/test/\"\n",
    "\n",
    "twin = 60 # seconds"
   ]
  },
  {
   "cell_type": "code",
   "execution_count": 10,
   "id": "unknown-clark",
   "metadata": {
    "ExecuteTime": {
     "end_time": "2021-03-02T13:39:21.565015Z",
     "start_time": "2021-03-02T12:48:43.349411Z"
    }
   },
   "outputs": [
    {
     "name": "stderr",
     "output_type": "stream",
     "text": [
      "100%|██████████| 366/366 [50:38<00:00,  8.30s/it]\n"
     ]
    }
   ],
   "source": [
    "for day in tqdm(range(0, 366)):\n",
    "\n",
    "\n",
    "    st, inv = __querrySeismoData(  seed_id=seed_id,\n",
    "                                   starttime=tbeg,\n",
    "                                   endtime=tend,\n",
    "                                   where=\"george\",\n",
    "                                   restitute=True,\n",
    "                                   detail=False,\n",
    "                                 )\n",
    "\n",
    "    __create_and_write_SN_data(st, opath, twin, 0.5)\n",
    "    \n",
    "    tbeg += 86400\n",
    "    tend += 86400\n",
    "    \n",
    "    del st, inv"
   ]
  }
 ],
 "metadata": {
  "kernelspec": {
   "display_name": "Python 3",
   "language": "python",
   "name": "python3"
  },
  "language_info": {
   "codemirror_mode": {
    "name": "ipython",
    "version": 3
   },
   "file_extension": ".py",
   "mimetype": "text/x-python",
   "name": "python",
   "nbconvert_exporter": "python",
   "pygments_lexer": "ipython3",
   "version": "3.7.8"
  }
 },
 "nbformat": 4,
 "nbformat_minor": 5
}
