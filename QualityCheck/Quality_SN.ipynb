{
 "cells": [
  {
   "cell_type": "code",
   "execution_count": 11,
   "id": "unauthorized-presence",
   "metadata": {
    "ExecuteTime": {
     "end_time": "2021-03-03T09:34:21.864738Z",
     "start_time": "2021-03-03T09:34:21.860269Z"
    }
   },
   "outputs": [],
   "source": [
    "import obspy\n",
    "import numpy as np\n",
    "\n",
    "from tqdm import tqdm\n",
    "from andbro__querrySeismoData import __querrySeismoData"
   ]
  },
  {
   "cell_type": "code",
   "execution_count": 12,
   "id": "popular-jungle",
   "metadata": {
    "ExecuteTime": {
     "end_time": "2021-03-03T09:34:22.144753Z",
     "start_time": "2021-03-03T09:34:22.134070Z"
    },
    "code_folding": [
     1
    ]
   },
   "outputs": [],
   "source": [
    "\n",
    "def __create_and_write_SN_data(trace, opath, twin, over):\n",
    "    \n",
    "    \n",
    "    samples = trace[0].stats.npts\n",
    "    deltaT  = trace[0].stats.delta\n",
    "    steps = int(twin / deltaT) \n",
    "\n",
    "\n",
    "\n",
    "    binsize = twin / deltaT \n",
    "    overlap = int(binsize * over)\n",
    "\n",
    "\n",
    "    bins = np.arange(binsize/2, len(trace[0].data)-binsize/2+overlap, overlap)\n",
    "\n",
    "    \n",
    "    ## allocate variable memory\n",
    "    conf   = np.zeros(len(bins))\n",
    "    timeline = np.zeros(len(bins))\n",
    "\n",
    "    for l, xbin in enumerate(bins):\n",
    "#                 print(f'{(xbin-binsize/2)*deltaT-1}--{(xbin+binsize/2)*deltaT-1}')\n",
    "\n",
    "        wdata = trace[0].data[int(xbin-binsize/2):int(xbin+binsize/2)]\n",
    "\n",
    "        idx = int(len(wdata)*0.95)\n",
    "\n",
    "        conf[l] = np.sort(np.abs(wdata))[idx]\n",
    "\n",
    "        timeline[l] = l*twin*over + twin*over\n",
    "        \n",
    "    \n",
    "    ## writing output\n",
    "    \n",
    "    if trace[0].stats.starttime.month < 10:\n",
    "        mm = f\"0{trace[0].stats.starttime.month}\"\n",
    "    else:\n",
    "        mm = trace[0].stats.starttime.month\n",
    "          \n",
    "    if trace[0].stats.starttime.day < 10:\n",
    "        dd = f\"0{trace[0].stats.starttime.day}\"\n",
    "    else:\n",
    "        dd = trace[0].stats.starttime.day\n",
    "\n",
    "        \n",
    "    oname = f\"{trace[0].stats.channel}_{trace[0].stats.starttime.year}{mm}{dd}.SN95\"\n",
    "    out = open(opath + oname, \"a+\")\n",
    "    \n",
    "    for idx in range(0,len(conf)):\n",
    "        out.write(f\"{timeline[idx]},{conf[idx]}\\n\")\n",
    "    out.close()\n"
   ]
  },
  {
   "cell_type": "code",
   "execution_count": 13,
   "id": "shaped-provincial",
   "metadata": {
    "ExecuteTime": {
     "end_time": "2021-03-03T09:34:27.012235Z",
     "start_time": "2021-03-03T09:34:27.007823Z"
    }
   },
   "outputs": [],
   "source": [
    "tbeg = obspy.UTCDateTime(\"2020-01-01 00:00\")\n",
    "tend = obspy.UTCDateTime(\"2020-01-02 00:00\")\n",
    "\n",
    "seed_id = \"BW.ROMY.10.BJZ\"\n",
    "\n",
    "opath = \"/home/andbro/Desktop/test/\"\n",
    "\n",
    "twin = 60 # seconds"
   ]
  },
  {
   "cell_type": "code",
   "execution_count": 14,
   "id": "impossible-taylor",
   "metadata": {
    "ExecuteTime": {
     "end_time": "2021-03-03T09:34:57.676324Z",
     "start_time": "2021-03-03T09:34:27.574498Z"
    }
   },
   "outputs": [
    {
     "name": "stderr",
     "output_type": "stream",
     "text": [
      "  0%|          | 0/366 [00:30<?, ?it/s]\n"
     ]
    },
    {
     "ename": "FDSNException",
     "evalue": "Service temporarily unavailable\nDetailed response of server:\n\n<!DOCTYPE HTML PUBLIC \"-//W3C//DTD HTML 4.01//EN\" \"http://www.w3.org/TR/html4/strict.dtd\">\n<html>\n<head>\n  <title>503 - Connect failed (Privoxy@localhost)</title>\n  <meta http-equiv=\"Content-Style-Type\" content=\"text/css\">\n  <meta http-equiv=\"Content-Script-Type\" content=\"text/javascript\">\n  <meta http-equiv=\"Content-Type\" content=\"text/html; charset=UTF-8\">\n  <meta name=\"robots\" content=\"noindex,nofollow\">\n  <link rel=\"shortcut icon\" href=\"http://config.privoxy.org/error-favicon.ico\">\n  <style type=\"text/css\">\n/*\n * CSS for Privoxy CGI and script output\n */\n/*\n * General rules: Font, Color, Headings, Margins, Links\n */\nbody,td,th { font-family: arial, helvetica, helv, sans-serif; }\nbody { background-color: #ffffff; color: #000000; }\nh1 { font-size: 140%; margin: 0px; }\nh2 { font-size: 120%; margin: 0px; }\nh3 { font-size: 110%; margin: 0px; }\np,pre  { margin-left: 15px; }\nli { margin: 2px 15px; }\ndl { margin: 2px 15px; }\na:link    { color: #0000dd; text-decoration: none; }\na:visited { color: #330099; text-decoration: none; }\na:active  { color: #3333ff; text-decoration: none; }\n/*\n * Boxen as Table elements:\n */\ntd.title   { border: solid black 1px; background-color: #dddddd; }\ntd.box     { border: solid black 1px; background-color: #eeeeee; }\ntd.info    { border: solid black 1px; background-color: #ccccff; }\ntd.warning { border: solid black 1px; background-color: #ffdddd; }\n/*\n * Special Table Boxen: for nesting, naked container and for\n * the Status field in CGI Output:\n */\ntd.wrapbox { border: solid black 1px; padding: 5px; }\ntd.container { padding: 0px; }\ntd.status  { border: solid black 1px; background-color: #ff0000; color: #ffffff; font-size: 300%; font-weight: bolder; }\n/*\n * Same Boxen as <div>s:\n */\ndiv.title    { border: solid black 1px; background-color: #dddddd; margin: 20px; padding: 20px; }\ndiv.box      { border: solid black 1px; background-color: #eeeeee; margin: 20px; padding: 20px; }\ndiv.info     { border: solid black 1px; background-color: #ccccff; margin: 20px; padding: 20px; }\ndiv.warning  { border: solid black 1px; background-color: #ffdddd; margin: 20px; padding: 20px; }\ndiv.wrapbox  { border: solid black 1px;                            margin: 20px; padding:  5px; }\n/*\n * Bold definitions in <dl>s, grey BG for table headings, transparent (no-bordered) table\n */\ndt { font-weight: bold; }\nth { background-color: #dddddd; }\ntable.transparent { border-style: none}\n/*\n * Special purpose paragraphs: Small for page footers,\n * Important for quoting wrong or dangerous examples,\n * Whiteframed for the toggle?mini=y CGI\n */\np.small { font-size: 10px; margin: 0px; }\np.important { border: solid black 1px; background-color: #ffdddd; font-weight: bold; padding: 2px; }\np.whiteframed { margin: 5px; padding: 5px; border: solid black 1px; text-align: center; background-color: #eeeeee; }\n/*\n * Links as buttons:\n */\ntd.buttons {\n  padding: 2px;\n}\na.cmd, td.indentbuttons a, td.buttons a {\n  white-space: nowrap;\n  width: auto;\n  padding: 2px;\n  background-color: #dddddd;\n  color:            #000000;\n  text-decoration: none;\n  border-top:    1px solid #ffffff;\n  border-left:   1px solid #ffffff;\n  border-bottom: 1px solid #000000;\n  border-right:  1px solid #000000;\n}\na.cmd:hover, td.indentbuttons a:hover, td.buttons a:hover {\n  background-color: #eeeeee;\n}\na.cmd:active, td.indentbuttons a:active, td.buttons a:active {\n  border-top:    1px solid #000000;\n  border-left:   1px solid #000000;\n  border-bottom: 1px solid #ffffff;\n  border-right:  1px solid #ffffff;\n}\n/*\n * Special red emphasis:\n */\nem.warning, strong.warning { color: #ff0000 }\n/*\n * In show-status we use tables directly behind headlines\n * and for some reason or another the headlines are set to\n * \"margin:0\" and leave the tables no air to breath.\n *\n * A proper fix would be to replace or remove the \"margin:0\",\n * but as this affects every cgi page we do it another time\n * and use this workaround until then.\n */\n.box table { margin-top: 1em; }\n/*\n * Let the URL and pattern input fields scale with the browser\n * width and try to prevent vertical scroll bars if the width\n * is less than 80 characters.\n */\ninput.url, input.pattern { width: 95%; }\n  </style>\n</head>\n<body>\n  <table summary=\"\" cellpadding=\"20\" cellspacing=\"10\" border=\"0\" width=\"100%\">\n    <tr>\n      <td class=\"status\">\n        503\n      </td>\n      <td class=\"title\" style=\"width: 100%\">\n        <h1>\n          This is <a href=\"https://www.privoxy.org/\">Privoxy</a> 3.0.28 on localhost (127.0.0.1), port 8118<!-- @if-can-toggle-start -->,\n          enabled<!-- if-can-toggle-end@ -->\n        </h1>\n      </td>\n    </tr>\n<!--  -->\n    <tr>\n      <td class=\"warning\" colspan=2>\n        <h2>Connect failed</h2>\n          <p>Your request for <a href=\"http://george/fdsnws/dataselect/1/query?starttime=2020-01-01T00%3A00%3A00.000000&amp;endtime=2020-01-02T00%3A00%3A00.000000&amp;network=BW&amp;station=ROMY&amp;location=10&amp;channel=BJZ\"><b>http://george/fdsnws/dataselect/1/query?starttime=2020-01-01T00%3A00%3A00.000000&amp;endtime=2020-01-02T00%3A00%3A00.000000&amp;network=BW&amp;station=ROMY&amp;location=10&amp;channel=BJZ</b></a> could\n            not be fulfilled, because the connection to <b>george</b> (2001:4ca0:4a03:2000::1:95) could not be established.\n          </p>\n          <p>This is often a temporary failure, so you might just\n            <a href=\"http://george/fdsnws/dataselect/1/query?starttime=2020-01-01T00%3A00%3A00.000000&amp;endtime=2020-01-02T00%3A00%3A00.000000&amp;network=BW&amp;station=ROMY&amp;location=10&amp;channel=BJZ\">try again</a>.\n         </p>\n      </td>\n    </tr>\n    <tr>\n      <td class=\"box\" colspan=\"2\">\n        <h2>More Privoxy:</h2>\n        <ul><li><a href=\"http://config.privoxy.org/\">Privoxy main page</a></li><li><a href=\"http://config.privoxy.org/show-status\">View &amp; change the current configuration</a></li><li><a href=\"http://config.privoxy.org/client-tags\">View or toggle the tags that can be set based on the clients address</a></li><li><a href=\"http://config.privoxy.org/show-request\">View the request headers</a></li><li><a href=\"http://config.privoxy.org/show-url-info\">Look up which actions apply to a URL and why</a></li><li><a href=\"http://config.privoxy.org/user-manual/\">Documentation</a></li></ul>\n      </td>\n    </tr>\n<!--  -->\n    <tr>\n      <td class=\"info\" colspan=\"2\">\n       <h2>Support and Service:</h2>\n        <p>\n          The Privoxy Team values your feedback.\n        </p>\n        <p>\n          Please have a look at the User Manual to learn how to\n          <a title=\"Privoxy User Manual: Contacting the developers, Bug Reporting and Feature Requests\"\n           href=\"http://config.privoxy.org/user-manual/contact.html\">get support or report problems</a>.\n        <p>\n          If you want to support the Privoxy Team, you can\n          <a href=\"https://www.privoxy.org/faq/general.html#PARTICIPATE\">participate</a>\n          or <a href=\"https://www.privoxy.org/faq/general.html#DONATE\">donate</a>.\n        </p>\n      </td>\n    </tr>\n  </table>\n</body>\n</html>",
     "output_type": "error",
     "traceback": [
      "\u001b[0;31m---------------------------------------------------------------------------\u001b[0m",
      "\u001b[0;31mTypeError\u001b[0m                                 Traceback (most recent call last)",
      "\u001b[0;32m~/anaconda3/envs/obs/lib/python3.7/site-packages/andbro__querrySeismoData.py\u001b[0m in \u001b[0;36m__querrySeismoData\u001b[0;34m(seed_id, starttime, endtime, where, path, restitute, detail)\u001b[0m\n\u001b[1;32m    157\u001b[0m                                                \u001b[0mendtime\u001b[0m\u001b[0;34m=\u001b[0m\u001b[0mtend\u001b[0m\u001b[0;34m,\u001b[0m\u001b[0;34m\u001b[0m\u001b[0;34m\u001b[0m\u001b[0m\n\u001b[0;32m--> 158\u001b[0;31m                                                \u001b[0mlevel\u001b[0m\u001b[0;34m=\u001b[0m\u001b[0;34m'response'\u001b[0m\u001b[0;34m,\u001b[0m\u001b[0;34m\u001b[0m\u001b[0;34m\u001b[0m\u001b[0m\n\u001b[0m\u001b[1;32m    159\u001b[0m                                               )\n",
      "\u001b[0;32m~/anaconda3/envs/obs/lib/python3.7/site-packages/obspy/clients/fdsn/client.py\u001b[0m in \u001b[0;36mget_waveforms\u001b[0;34m(self, network, station, location, channel, starttime, endtime, quality, minimumlength, longestonly, filename, attach_response, **kwargs)\u001b[0m\n\u001b[1;32m    839\u001b[0m         url = self._create_url_from_parameters(\n\u001b[0;32m--> 840\u001b[0;31m             \"dataselect\", DEFAULT_PARAMETERS['dataselect'], kwargs)\n\u001b[0m\u001b[1;32m    841\u001b[0m \u001b[0;34m\u001b[0m\u001b[0m\n",
      "\u001b[0;32m~/anaconda3/envs/obs/lib/python3.7/site-packages/obspy/clients/fdsn/client.py\u001b[0m in \u001b[0;36m_create_url_from_parameters\u001b[0;34m(self, service, default_params, parameters)\u001b[0m\n\u001b[1;32m   1225\u001b[0m                         \u001b[0;34m%\u001b[0m \u001b[0mkey\u001b[0m\u001b[0;34m\u001b[0m\u001b[0;34m\u001b[0m\u001b[0m\n\u001b[0;32m-> 1226\u001b[0;31m                     \u001b[0;32mraise\u001b[0m \u001b[0mTypeError\u001b[0m\u001b[0;34m(\u001b[0m\u001b[0mmsg\u001b[0m\u001b[0;34m)\u001b[0m\u001b[0;34m\u001b[0m\u001b[0;34m\u001b[0m\u001b[0m\n\u001b[0m\u001b[1;32m   1227\u001b[0m             \u001b[0;31m# Now attempt to convert the parameter to the correct type.\u001b[0m\u001b[0;34m\u001b[0m\u001b[0;34m\u001b[0m\u001b[0;34m\u001b[0m\u001b[0m\n",
      "\u001b[0;31mTypeError\u001b[0m: The parameter 'level' is not supported by the service.",
      "\nDuring handling of the above exception, another exception occurred:\n",
      "\u001b[0;31mFDSNException\u001b[0m                             Traceback (most recent call last)",
      "\u001b[0;32m<ipython-input-14-69d3beb99760>\u001b[0m in \u001b[0;36m<module>\u001b[0;34m\u001b[0m\n\u001b[1;32m      7\u001b[0m                                    \u001b[0mwhere\u001b[0m\u001b[0;34m=\u001b[0m\u001b[0;34m\"george\"\u001b[0m\u001b[0;34m,\u001b[0m\u001b[0;34m\u001b[0m\u001b[0;34m\u001b[0m\u001b[0m\n\u001b[1;32m      8\u001b[0m                                    \u001b[0mrestitute\u001b[0m\u001b[0;34m=\u001b[0m\u001b[0;32mTrue\u001b[0m\u001b[0;34m,\u001b[0m\u001b[0;34m\u001b[0m\u001b[0;34m\u001b[0m\u001b[0m\n\u001b[0;32m----> 9\u001b[0;31m                                    \u001b[0mdetail\u001b[0m\u001b[0;34m=\u001b[0m\u001b[0;32mFalse\u001b[0m\u001b[0;34m,\u001b[0m\u001b[0;34m\u001b[0m\u001b[0;34m\u001b[0m\u001b[0m\n\u001b[0m\u001b[1;32m     10\u001b[0m                                  )\n\u001b[1;32m     11\u001b[0m \u001b[0;34m\u001b[0m\u001b[0m\n",
      "\u001b[0;32m~/anaconda3/envs/obs/lib/python3.7/site-packages/andbro__querrySeismoData.py\u001b[0m in \u001b[0;36m__querrySeismoData\u001b[0;34m(seed_id, starttime, endtime, where, path, restitute, detail)\u001b[0m\n\u001b[1;32m    174\u001b[0m                                                \u001b[0mstation\u001b[0m\u001b[0;34m=\u001b[0m\u001b[0msta\u001b[0m\u001b[0;34m,\u001b[0m\u001b[0;34m\u001b[0m\u001b[0;34m\u001b[0m\u001b[0m\n\u001b[1;32m    175\u001b[0m                                                \u001b[0mstarttime\u001b[0m\u001b[0;34m=\u001b[0m\u001b[0mtbeg\u001b[0m\u001b[0;34m,\u001b[0m\u001b[0;34m\u001b[0m\u001b[0;34m\u001b[0m\u001b[0m\n\u001b[0;32m--> 176\u001b[0;31m                                                \u001b[0mendtime\u001b[0m\u001b[0;34m=\u001b[0m\u001b[0mtend\u001b[0m\u001b[0;34m,\u001b[0m\u001b[0;34m\u001b[0m\u001b[0;34m\u001b[0m\u001b[0m\n\u001b[0m\u001b[1;32m    177\u001b[0m                                               )            \n\u001b[1;32m    178\u001b[0m \u001b[0;34m\u001b[0m\u001b[0m\n",
      "\u001b[0;32m~/anaconda3/envs/obs/lib/python3.7/site-packages/obspy/clients/fdsn/client.py\u001b[0m in \u001b[0;36mget_waveforms\u001b[0;34m(self, network, station, location, channel, starttime, endtime, quality, minimumlength, longestonly, filename, attach_response, **kwargs)\u001b[0m\n\u001b[1;32m    842\u001b[0m         \u001b[0;31m# Gzip not worth it for MiniSEED and most likely disabled for this\u001b[0m\u001b[0;34m\u001b[0m\u001b[0;34m\u001b[0m\u001b[0;34m\u001b[0m\u001b[0m\n\u001b[1;32m    843\u001b[0m         \u001b[0;31m# route in any case.\u001b[0m\u001b[0;34m\u001b[0m\u001b[0;34m\u001b[0m\u001b[0;34m\u001b[0m\u001b[0m\n\u001b[0;32m--> 844\u001b[0;31m         \u001b[0mdata_stream\u001b[0m \u001b[0;34m=\u001b[0m \u001b[0mself\u001b[0m\u001b[0;34m.\u001b[0m\u001b[0m_download\u001b[0m\u001b[0;34m(\u001b[0m\u001b[0murl\u001b[0m\u001b[0;34m,\u001b[0m \u001b[0muse_gzip\u001b[0m\u001b[0;34m=\u001b[0m\u001b[0;32mFalse\u001b[0m\u001b[0;34m)\u001b[0m\u001b[0;34m\u001b[0m\u001b[0;34m\u001b[0m\u001b[0m\n\u001b[0m\u001b[1;32m    845\u001b[0m         \u001b[0mdata_stream\u001b[0m\u001b[0;34m.\u001b[0m\u001b[0mseek\u001b[0m\u001b[0;34m(\u001b[0m\u001b[0;36m0\u001b[0m\u001b[0;34m,\u001b[0m \u001b[0;36m0\u001b[0m\u001b[0;34m)\u001b[0m\u001b[0;34m\u001b[0m\u001b[0;34m\u001b[0m\u001b[0m\n\u001b[1;32m    846\u001b[0m         \u001b[0;32mif\u001b[0m \u001b[0mfilename\u001b[0m\u001b[0;34m:\u001b[0m\u001b[0;34m\u001b[0m\u001b[0;34m\u001b[0m\u001b[0m\n",
      "\u001b[0;32m~/anaconda3/envs/obs/lib/python3.7/site-packages/obspy/clients/fdsn/client.py\u001b[0m in \u001b[0;36m_download\u001b[0;34m(self, url, return_string, data, use_gzip)\u001b[0m\n\u001b[1;32m   1395\u001b[0m             \u001b[0mdebug\u001b[0m\u001b[0;34m=\u001b[0m\u001b[0mself\u001b[0m\u001b[0;34m.\u001b[0m\u001b[0mdebug\u001b[0m\u001b[0;34m,\u001b[0m \u001b[0mreturn_string\u001b[0m\u001b[0;34m=\u001b[0m\u001b[0mreturn_string\u001b[0m\u001b[0;34m,\u001b[0m \u001b[0mdata\u001b[0m\u001b[0;34m=\u001b[0m\u001b[0mdata\u001b[0m\u001b[0;34m,\u001b[0m\u001b[0;34m\u001b[0m\u001b[0;34m\u001b[0m\u001b[0m\n\u001b[1;32m   1396\u001b[0m             timeout=self.timeout, use_gzip=use_gzip)\n\u001b[0;32m-> 1397\u001b[0;31m         \u001b[0mraise_on_error\u001b[0m\u001b[0;34m(\u001b[0m\u001b[0mcode\u001b[0m\u001b[0;34m,\u001b[0m \u001b[0mdata\u001b[0m\u001b[0;34m)\u001b[0m\u001b[0;34m\u001b[0m\u001b[0;34m\u001b[0m\u001b[0m\n\u001b[0m\u001b[1;32m   1398\u001b[0m         \u001b[0;32mreturn\u001b[0m \u001b[0mdata\u001b[0m\u001b[0;34m\u001b[0m\u001b[0;34m\u001b[0m\u001b[0m\n\u001b[1;32m   1399\u001b[0m \u001b[0;34m\u001b[0m\u001b[0m\n",
      "\u001b[0;32m~/anaconda3/envs/obs/lib/python3.7/site-packages/obspy/clients/fdsn/client.py\u001b[0m in \u001b[0;36mraise_on_error\u001b[0;34m(code, data)\u001b[0m\n\u001b[1;32m   1748\u001b[0m                             server_info)\n\u001b[1;32m   1749\u001b[0m     \u001b[0;32melif\u001b[0m \u001b[0mcode\u001b[0m \u001b[0;34m==\u001b[0m \u001b[0;36m503\u001b[0m\u001b[0;34m:\u001b[0m\u001b[0;34m\u001b[0m\u001b[0;34m\u001b[0m\u001b[0m\n\u001b[0;32m-> 1750\u001b[0;31m         \u001b[0;32mraise\u001b[0m \u001b[0mFDSNException\u001b[0m\u001b[0;34m(\u001b[0m\u001b[0;34m\"Service temporarily unavailable\"\u001b[0m\u001b[0;34m,\u001b[0m \u001b[0mserver_info\u001b[0m\u001b[0;34m)\u001b[0m\u001b[0;34m\u001b[0m\u001b[0;34m\u001b[0m\u001b[0m\n\u001b[0m\u001b[1;32m   1751\u001b[0m     \u001b[0;32melif\u001b[0m \u001b[0mcode\u001b[0m \u001b[0;32mis\u001b[0m \u001b[0;32mNone\u001b[0m\u001b[0;34m:\u001b[0m\u001b[0;34m\u001b[0m\u001b[0;34m\u001b[0m\u001b[0m\n\u001b[1;32m   1752\u001b[0m         \u001b[0;32mif\u001b[0m \u001b[0;34m\"timeout\"\u001b[0m \u001b[0;32min\u001b[0m \u001b[0mstr\u001b[0m\u001b[0;34m(\u001b[0m\u001b[0mdata\u001b[0m\u001b[0;34m)\u001b[0m\u001b[0;34m.\u001b[0m\u001b[0mlower\u001b[0m\u001b[0;34m(\u001b[0m\u001b[0;34m)\u001b[0m\u001b[0;34m:\u001b[0m\u001b[0;34m\u001b[0m\u001b[0;34m\u001b[0m\u001b[0m\n",
      "\u001b[0;31mFDSNException\u001b[0m: Service temporarily unavailable\nDetailed response of server:\n\n<!DOCTYPE HTML PUBLIC \"-//W3C//DTD HTML 4.01//EN\" \"http://www.w3.org/TR/html4/strict.dtd\">\n<html>\n<head>\n  <title>503 - Connect failed (Privoxy@localhost)</title>\n  <meta http-equiv=\"Content-Style-Type\" content=\"text/css\">\n  <meta http-equiv=\"Content-Script-Type\" content=\"text/javascript\">\n  <meta http-equiv=\"Content-Type\" content=\"text/html; charset=UTF-8\">\n  <meta name=\"robots\" content=\"noindex,nofollow\">\n  <link rel=\"shortcut icon\" href=\"http://config.privoxy.org/error-favicon.ico\">\n  <style type=\"text/css\">\n/*\n * CSS for Privoxy CGI and script output\n */\n/*\n * General rules: Font, Color, Headings, Margins, Links\n */\nbody,td,th { font-family: arial, helvetica, helv, sans-serif; }\nbody { background-color: #ffffff; color: #000000; }\nh1 { font-size: 140%; margin: 0px; }\nh2 { font-size: 120%; margin: 0px; }\nh3 { font-size: 110%; margin: 0px; }\np,pre  { margin-left: 15px; }\nli { margin: 2px 15px; }\ndl { margin: 2px 15px; }\na:link    { color: #0000dd; text-decoration: none; }\na:visited { color: #330099; text-decoration: none; }\na:active  { color: #3333ff; text-decoration: none; }\n/*\n * Boxen as Table elements:\n */\ntd.title   { border: solid black 1px; background-color: #dddddd; }\ntd.box     { border: solid black 1px; background-color: #eeeeee; }\ntd.info    { border: solid black 1px; background-color: #ccccff; }\ntd.warning { border: solid black 1px; background-color: #ffdddd; }\n/*\n * Special Table Boxen: for nesting, naked container and for\n * the Status field in CGI Output:\n */\ntd.wrapbox { border: solid black 1px; padding: 5px; }\ntd.container { padding: 0px; }\ntd.status  { border: solid black 1px; background-color: #ff0000; color: #ffffff; font-size: 300%; font-weight: bolder; }\n/*\n * Same Boxen as <div>s:\n */\ndiv.title    { border: solid black 1px; background-color: #dddddd; margin: 20px; padding: 20px; }\ndiv.box      { border: solid black 1px; background-color: #eeeeee; margin: 20px; padding: 20px; }\ndiv.info     { border: solid black 1px; background-color: #ccccff; margin: 20px; padding: 20px; }\ndiv.warning  { border: solid black 1px; background-color: #ffdddd; margin: 20px; padding: 20px; }\ndiv.wrapbox  { border: solid black 1px;                            margin: 20px; padding:  5px; }\n/*\n * Bold definitions in <dl>s, grey BG for table headings, transparent (no-bordered) table\n */\ndt { font-weight: bold; }\nth { background-color: #dddddd; }\ntable.transparent { border-style: none}\n/*\n * Special purpose paragraphs: Small for page footers,\n * Important for quoting wrong or dangerous examples,\n * Whiteframed for the toggle?mini=y CGI\n */\np.small { font-size: 10px; margin: 0px; }\np.important { border: solid black 1px; background-color: #ffdddd; font-weight: bold; padding: 2px; }\np.whiteframed { margin: 5px; padding: 5px; border: solid black 1px; text-align: center; background-color: #eeeeee; }\n/*\n * Links as buttons:\n */\ntd.buttons {\n  padding: 2px;\n}\na.cmd, td.indentbuttons a, td.buttons a {\n  white-space: nowrap;\n  width: auto;\n  padding: 2px;\n  background-color: #dddddd;\n  color:            #000000;\n  text-decoration: none;\n  border-top:    1px solid #ffffff;\n  border-left:   1px solid #ffffff;\n  border-bottom: 1px solid #000000;\n  border-right:  1px solid #000000;\n}\na.cmd:hover, td.indentbuttons a:hover, td.buttons a:hover {\n  background-color: #eeeeee;\n}\na.cmd:active, td.indentbuttons a:active, td.buttons a:active {\n  border-top:    1px solid #000000;\n  border-left:   1px solid #000000;\n  border-bottom: 1px solid #ffffff;\n  border-right:  1px solid #ffffff;\n}\n/*\n * Special red emphasis:\n */\nem.warning, strong.warning { color: #ff0000 }\n/*\n * In show-status we use tables directly behind headlines\n * and for some reason or another the headlines are set to\n * \"margin:0\" and leave the tables no air to breath.\n *\n * A proper fix would be to replace or remove the \"margin:0\",\n * but as this affects every cgi page we do it another time\n * and use this workaround until then.\n */\n.box table { margin-top: 1em; }\n/*\n * Let the URL and pattern input fields scale with the browser\n * width and try to prevent vertical scroll bars if the width\n * is less than 80 characters.\n */\ninput.url, input.pattern { width: 95%; }\n  </style>\n</head>\n<body>\n  <table summary=\"\" cellpadding=\"20\" cellspacing=\"10\" border=\"0\" width=\"100%\">\n    <tr>\n      <td class=\"status\">\n        503\n      </td>\n      <td class=\"title\" style=\"width: 100%\">\n        <h1>\n          This is <a href=\"https://www.privoxy.org/\">Privoxy</a> 3.0.28 on localhost (127.0.0.1), port 8118<!-- @if-can-toggle-start -->,\n          enabled<!-- if-can-toggle-end@ -->\n        </h1>\n      </td>\n    </tr>\n<!--  -->\n    <tr>\n      <td class=\"warning\" colspan=2>\n        <h2>Connect failed</h2>\n          <p>Your request for <a href=\"http://george/fdsnws/dataselect/1/query?starttime=2020-01-01T00%3A00%3A00.000000&amp;endtime=2020-01-02T00%3A00%3A00.000000&amp;network=BW&amp;station=ROMY&amp;location=10&amp;channel=BJZ\"><b>http://george/fdsnws/dataselect/1/query?starttime=2020-01-01T00%3A00%3A00.000000&amp;endtime=2020-01-02T00%3A00%3A00.000000&amp;network=BW&amp;station=ROMY&amp;location=10&amp;channel=BJZ</b></a> could\n            not be fulfilled, because the connection to <b>george</b> (2001:4ca0:4a03:2000::1:95) could not be established.\n          </p>\n          <p>This is often a temporary failure, so you might just\n            <a href=\"http://george/fdsnws/dataselect/1/query?starttime=2020-01-01T00%3A00%3A00.000000&amp;endtime=2020-01-02T00%3A00%3A00.000000&amp;network=BW&amp;station=ROMY&amp;location=10&amp;channel=BJZ\">try again</a>.\n         </p>\n      </td>\n    </tr>\n    <tr>\n      <td class=\"box\" colspan=\"2\">\n        <h2>More Privoxy:</h2>\n        <ul><li><a href=\"http://config.privoxy.org/\">Privoxy main page</a></li><li><a href=\"http://config.privoxy.org/show-status\">View &amp; change the current configuration</a></li><li><a href=\"http://config.privoxy.org/client-tags\">View or toggle the tags that can be set based on the clients address</a></li><li><a href=\"http://config.privoxy.org/show-request\">View the request headers</a></li><li><a href=\"http://config.privoxy.org/show-url-info\">Look up which actions apply to a URL and why</a></li><li><a href=\"http://config.privoxy.org/user-manual/\">Documentation</a></li></ul>\n      </td>\n    </tr>\n<!--  -->\n    <tr>\n      <td class=\"info\" colspan=\"2\">\n       <h2>Support and Service:</h2>\n        <p>\n          The Privoxy Team values your feedback.\n        </p>\n        <p>\n          Please have a look at the User Manual to learn how to\n          <a title=\"Privoxy User Manual: Contacting the developers, Bug Reporting and Feature Requests\"\n           href=\"http://config.privoxy.org/user-manual/contact.html\">get support or report problems</a>.\n        <p>\n          If you want to support the Privoxy Team, you can\n          <a href=\"https://www.privoxy.org/faq/general.html#PARTICIPATE\">participate</a>\n          or <a href=\"https://www.privoxy.org/faq/general.html#DONATE\">donate</a>.\n        </p>\n      </td>\n    </tr>\n  </table>\n</body>\n</html>"
     ]
    }
   ],
   "source": [
    "for day in tqdm(range(0, 366)):\n",
    "\n",
    "\n",
    "    st, inv = __querrySeismoData(  seed_id=seed_id,\n",
    "                                   starttime=tbeg,\n",
    "                                   endtime=tend,\n",
    "                                   where=\"george\",\n",
    "                                   restitute=True,\n",
    "                                   detail=False,\n",
    "                                 )\n",
    "\n",
    "    __create_and_write_SN_data(st, opath, twin,  0.5)\n",
    "    \n",
    "    tbeg += 86400\n",
    "    tend += 86400\n",
    "    \n",
    "    del st, inv"
   ]
  },
  {
   "cell_type": "code",
   "execution_count": null,
   "id": "worldwide-dream",
   "metadata": {},
   "outputs": [],
   "source": []
  }
 ],
 "metadata": {
  "kernelspec": {
   "display_name": "Python 3",
   "language": "python",
   "name": "python3"
  },
  "language_info": {
   "codemirror_mode": {
    "name": "ipython",
    "version": 3
   },
   "file_extension": ".py",
   "mimetype": "text/x-python",
   "name": "python",
   "nbconvert_exporter": "python",
   "pygments_lexer": "ipython3",
   "version": "3.7.8"
  }
 },
 "nbformat": 4,
 "nbformat_minor": 5
}
