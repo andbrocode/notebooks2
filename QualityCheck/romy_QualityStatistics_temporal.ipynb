{
 "cells": [
  {
   "cell_type": "code",
   "execution_count": 3,
   "metadata": {
    "ExecuteTime": {
     "end_time": "2021-04-08T21:11:19.886717Z",
     "start_time": "2021-04-08T21:11:19.430183Z"
    }
   },
   "outputs": [],
   "source": [
    "import matplotlib.pyplot as plt\n",
    "import numpy as np\n",
    "\n",
    "from pandas import concat, read_csv, DataFrame"
   ]
  },
  {
   "cell_type": "markdown",
   "metadata": {},
   "source": [
    "## 2021 - Jan - Mar"
   ]
  },
  {
   "cell_type": "code",
   "execution_count": 84,
   "metadata": {
    "ExecuteTime": {
     "end_time": "2021-03-26T16:51:32.505053Z",
     "start_time": "2021-03-26T16:51:32.501539Z"
    }
   },
   "outputs": [],
   "source": [
    "year  = '2021'\n",
    "cha   = 'BJZ'\n",
    "mode  = 'runy'\n",
    " "
   ]
  },
  {
   "cell_type": "code",
   "execution_count": 85,
   "metadata": {
    "ExecuteTime": {
     "end_time": "2021-03-26T16:51:37.028915Z",
     "start_time": "2021-03-26T16:51:32.812640Z"
    },
    "code_folding": [
     0
    ],
    "scrolled": true
   },
   "outputs": [
    {
     "name": "stdout",
     "output_type": "stream",
     "text": [
      "skipped 02-29\n",
      "skipped 02-30\n",
      "skipped 02-31\n",
      "skipped 03-23\n",
      "skipped 03-24\n",
      "skipped 03-25\n",
      "skipped 03-26\n",
      "skipped 03-27\n",
      "skipped 03-28\n",
      "skipped 03-29\n",
      "skipped 03-30\n",
      "skipped 03-31\n"
     ]
    },
    {
     "data": {
      "image/png": "[encoded data removed]",
      "text/plain": [
       "<Figure size 1080x288 with 1 Axes>"
      ]
     },
     "metadata": {
      "needs_background": "light"
     },
     "output_type": "display_data"
    }
   ],
   "source": [
    "def __makeplot_2021():\n",
    "\n",
    "    fig, ax = plt.subplots(1,1, figsize=(15,4))\n",
    "\n",
    "    font = 16\n",
    "\n",
    "    j = 0\n",
    "    for month in range(1,4):\n",
    "\n",
    "        if month < 10:\n",
    "            month = f'0{month}'\n",
    "\n",
    "        for h, day in enumerate(range(1,32)):\n",
    "\n",
    "            if day < 10:\n",
    "                day = f'0{day}'\n",
    "\n",
    "\n",
    "            try:\n",
    "                path_to_cfiles = f\"/home/andbro/Documents/ROMY/QualityCheck/{mode}/Cfiles/{year}-{month}/{year}-{month}-{day}.C{cha[2]}\"\n",
    "\n",
    "                ## read daily C-file\n",
    "                df = read_csv(path_to_cfiles)\n",
    "\n",
    "\n",
    "                ## divide into bars of quality\n",
    "                bars = [df.seconds[l] - df.seconds[l-1] for l in range(df.seconds.size) if l > 0]\n",
    "                qual = df.quality[:-1]  \n",
    "\n",
    "                ## color dictionary\n",
    "                col_dict = {0:'green',1:'yellow', 2:'darkred'}\n",
    "\n",
    "                ## plotting\n",
    "                for i, val in enumerate(bars):\n",
    "\n",
    "                    ax.bar(f\"{year}-{month}-{day}\", val, bottom=sum(bars[:i]), color=col_dict[qual[i]], alpha=0.9)\n",
    "\n",
    "                j += 1\n",
    "\n",
    "            except:\n",
    "                print(f\"skipped {month}-{day}\")\n",
    "\n",
    "\n",
    "            ## tweak x axis    \n",
    "            ax.set_xticks([0,31,59])   \n",
    "            ax.set_xlim(-0.5,j)\n",
    "            ax.set_xticklabels(['Jan','Feb','Mar'], fontsize=font, rotation=30)\n",
    "\n",
    "            ## tweak y axis\n",
    "            ax.set_yticks(np.linspace(0,86400,5))\n",
    "            ax.set_yticklabels(np.linspace(0,24,5, dtype=int), fontsize=font-1)\n",
    "            ax.set_ylim(0, 86400)\n",
    "            ax.set_ylabel('Time (hours)', fontsize=font)\n",
    "\n",
    "            ax.set_title(f\"Quality Overview ROMY.{cha} {year}            \", fontsize=font+4)\n",
    "\n",
    "            \n",
    "            from matplotlib.patches import Polygon, Patch\n",
    "            legend_elements = [Patch(facecolor='green', edgecolor='green', label='Q0'),\n",
    "                               Patch(facecolor='yellow', edgecolor='yellow', label='Q1'),\n",
    "                               Patch(facecolor='darkred', edgecolor='darkred', label='Q2'),\n",
    "                              ]        \n",
    "\n",
    "            ax.legend(handles=legend_elements, fontsize=font-3, ncol=3, loc=\"upper right\", bbox_to_anchor=[0.99, 1.15])\n",
    "\n",
    "__makeplot_2021()"
   ]
  },
  {
   "cell_type": "markdown",
   "metadata": {},
   "source": [
    "## 2021 Feb - Mar"
   ]
  },
  {
   "cell_type": "code",
   "execution_count": 40,
   "metadata": {
    "ExecuteTime": {
     "end_time": "2021-04-08T21:37:48.972603Z",
     "start_time": "2021-04-08T21:37:48.970420Z"
    }
   },
   "outputs": [],
   "source": [
    "year  = '2021'\n",
    "cha   = 'BJZ'\n",
    "mode  = 'runy'\n",
    " "
   ]
  },
  {
   "cell_type": "code",
   "execution_count": 50,
   "metadata": {
    "ExecuteTime": {
     "end_time": "2021-04-08T21:41:20.042481Z",
     "start_time": "2021-04-08T21:41:19.719049Z"
    },
    "code_folding": [
     0
    ]
   },
   "outputs": [
    {
     "name": "stdout",
     "output_type": "stream",
     "text": [
      "skipped 02-01\n",
      "skipped 02-02\n",
      "skipped 02-03\n",
      "skipped 02-04\n",
      "skipped 02-05\n",
      "skipped 02-06\n",
      "skipped 02-07\n",
      "skipped 02-08\n",
      "skipped 02-09\n",
      "skipped 02-10\n",
      "skipped 02-11\n",
      "skipped 02-12\n",
      "skipped 02-13\n",
      "skipped 02-14\n",
      "skipped 02-15\n",
      "skipped 02-16\n",
      "skipped 02-17\n",
      "skipped 02-18\n",
      "skipped 02-19\n",
      "skipped 02-20\n",
      "skipped 02-21\n",
      "skipped 02-22\n",
      "skipped 02-23\n",
      "skipped 02-24\n",
      "skipped 02-25\n",
      "skipped 02-26\n",
      "skipped 02-27\n",
      "skipped 02-28\n",
      "skipped 02-29\n",
      "skipped 02-30\n",
      "skipped 02-31\n",
      "skipped 03-01\n",
      "skipped 03-02\n",
      "skipped 03-03\n",
      "skipped 03-04\n",
      "skipped 03-05\n",
      "skipped 03-06\n",
      "skipped 03-07\n",
      "skipped 03-08\n",
      "skipped 03-09\n",
      "skipped 03-10\n",
      "skipped 03-11\n",
      "skipped 03-12\n",
      "skipped 03-13\n",
      "skipped 03-14\n",
      "skipped 03-15\n",
      "skipped 03-16\n",
      "skipped 03-17\n",
      "skipped 03-18\n",
      "skipped 03-19\n",
      "skipped 03-20\n",
      "skipped 03-21\n",
      "skipped 03-22\n",
      "skipped 03-23\n",
      "skipped 03-24\n",
      "skipped 03-25\n",
      "skipped 03-26\n",
      "skipped 03-27\n",
      "skipped 03-28\n",
      "skipped 03-29\n",
      "skipped 03-30\n",
      "skipped 03-31\n"
     ]
    },
    {
     "data": {
      "image/png": "[encoded data removed]",
      "text/plain": [
       "<Figure size 1080x288 with 1 Axes>"
      ]
     },
     "metadata": {
      "needs_background": "light"
     },
     "output_type": "display_data"
    }
   ],
   "source": [
    "def __makeplot_2021_V2():\n",
    "\n",
    "    fig, ax = plt.subplots(1,1, figsize=(15,4))\n",
    "\n",
    "    font = 16\n",
    "\n",
    "    j = 0\n",
    "    for month in range(2,4):\n",
    "\n",
    "        if month < 10:\n",
    "            month = f'0{month}'\n",
    "\n",
    "        for h, day in enumerate(range(1,32)):\n",
    "\n",
    "            if day < 10:\n",
    "                day = f'0{day}'\n",
    "\n",
    "\n",
    "            try:\n",
    "                path_to_cfiles = f\"/home/andbro/Documents/ROMY/QualityCheck/{mode}/Cfiles/{year}-{month}/{year}-{month}-{day}.C{cha[2]}\"\n",
    "\n",
    "                ## read daily C-file\n",
    "                df = read_csv(path_to_cfiles)\n",
    "\n",
    "                \n",
    "                ## divide into bars of quality\n",
    "                bars = [df.seconds[l] - df.seconds[l-1] for l in range(df.seconds.size) if l > 0]\n",
    "                qual = df.quality[:-1]  \n",
    "\n",
    "                ## color dictionary\n",
    "                col_dict = {0:'green',1:'yellow', 2:'darkred'}\n",
    "\n",
    "                ## plotting\n",
    "                for i, val in enumerate(bars):\n",
    "\n",
    "                    ax.bar(f\"{year}-{month}-{day}\", val, bottom=sum(bars[:i]), color=col_dict[qual[i]], alpha=0.9)\n",
    "\n",
    "                j += 1\n",
    "\n",
    "            except:\n",
    "                print(f\"skipped {month}-{day}\")\n",
    "\n",
    "\n",
    "            ## tweak x axis    \n",
    "            ax.set_xticks([0,28])   \n",
    "            ax.set_xlim(-0.5,j)\n",
    "            ax.set_xticklabels(['Feb','Mar'], fontsize=font, rotation=30)\n",
    "\n",
    "            ## tweak y axis\n",
    "            ax.set_yticks(np.linspace(0,86400,5))\n",
    "            ax.set_yticklabels(np.linspace(0,24,5, dtype=int), fontsize=font-1)\n",
    "            ax.set_ylim(0, 86400)\n",
    "            ax.set_ylabel('Time (hours)', fontsize=font)\n",
    "\n",
    "            ax.set_title(f\"Quality Overview ROMY.{cha} {year}            \", fontsize=font+4)\n",
    "\n",
    "            \n",
    "            from matplotlib.patches import Polygon, Patch\n",
    "            legend_elements = [Patch(facecolor='green', edgecolor='green', label='Q0'),\n",
    "                               Patch(facecolor='yellow', edgecolor='orange', label='Q1'),\n",
    "                               Patch(facecolor='darkred', edgecolor='darkred', label='Q2'),\n",
    "                              ]        \n",
    "\n",
    "            ax.legend(handles=legend_elements, fontsize=font-3, ncol=3, loc=\"upper right\", bbox_to_anchor=[0.99, 1.15])\n",
    "\n",
    "__makeplot_2021_V2()"
   ]
  },
  {
   "cell_type": "markdown",
   "metadata": {},
   "source": [
    "## 2019-11"
   ]
  },
  {
   "cell_type": "code",
   "execution_count": 64,
   "metadata": {
    "ExecuteTime": {
     "end_time": "2021-04-09T18:59:23.198075Z",
     "start_time": "2021-04-09T18:59:23.191296Z"
    }
   },
   "outputs": [],
   "source": [
    "year = \"2019\"\n",
    "cha  = \"BJZ\"\n",
    "mode = \"runq\""
   ]
  },
  {
   "cell_type": "code",
   "execution_count": 65,
   "metadata": {
    "ExecuteTime": {
     "end_time": "2021-04-09T18:59:24.926399Z",
     "start_time": "2021-04-09T18:59:24.112270Z"
    },
    "code_folding": [
     0
    ]
   },
   "outputs": [
    {
     "name": "stdout",
     "output_type": "stream",
     "text": [
      "working on:  11 01\n",
      "working on:  11 02\n",
      "working on:  11 03\n",
      "working on:  11 04\n",
      "working on:  11 05\n",
      "working on:  11 06\n",
      "working on:  11 07\n",
      "working on:  11 08\n",
      "working on:  11 09\n",
      "working on:  11 10\n",
      "working on:  11 11\n",
      "working on:  11 12\n",
      "working on:  11 13\n",
      "working on:  11 14\n",
      "working on:  11 15\n",
      "working on:  11 16\n",
      "working on:  11 17\n",
      "working on:  11 18\n",
      "working on:  11 19\n",
      "working on:  11 20\n",
      "working on:  11 21\n",
      "working on:  11 22\n",
      "working on:  11 23\n",
      "working on:  11 24\n",
      "working on:  11 25\n",
      "working on:  11 26\n",
      "working on:  11 27\n",
      "skipped 11-27\n",
      "working on:  11 28\n",
      "working on:  11 29\n",
      "working on:  11 30\n"
     ]
    },
    {
     "data": {
      "image/png": "[encoded data removed]",
      "text/plain": [
       "<Figure size 1080x288 with 1 Axes>"
      ]
     },
     "metadata": {
      "needs_background": "light"
     },
     "output_type": "display_data"
    }
   ],
   "source": [
    "def __makeplot_2019():\n",
    "\n",
    "    if mode == \"runy\":\n",
    "        hsw = 30\n",
    "    elif mode == \"runx\":\n",
    "        hsw = 90\n",
    "    elif mode == \"runz\":\n",
    "        hsw = 1        \n",
    "    elif mode == \"runq\":\n",
    "        hsw = 1     \n",
    "        \n",
    "\n",
    "    fig, ax = plt.subplots(1,1, figsize=(15,4))\n",
    "\n",
    "    font = 16\n",
    "\n",
    "    daylabels, dayticks = [], []\n",
    "    \n",
    "    j = 0\n",
    "    for month in range(11,12):\n",
    "\n",
    "        if month < 10:\n",
    "            month = f'0{month}'\n",
    "\n",
    "        for h, day in enumerate(range(1,31)):\n",
    "\n",
    "            if day < 10:\n",
    "                day = f'0{day}'\n",
    "            \n",
    "\n",
    "            try:\n",
    "                print(\"working on: \", month, day)\n",
    "\n",
    "                daylabels.append(str(f\"{day}\"))\n",
    "                dayticks.append(int(day))                \n",
    "                \n",
    "                path_to_cfiles = f\"/home/andbro/Documents/ROMY/QualityCheck/{mode}/Cfiles/{year}-{month}/{year}-{month}-{day}.C{cha[-1]}\"\n",
    "\n",
    "                ## read daily C-file\n",
    "                df = read_csv(path_to_cfiles)\n",
    "\n",
    "                ## extend at the begin\n",
    "#                 if df.seconds.iloc[0] != 30:\n",
    "#                     tmp_beg = DataFrame([[30, df.quality.iloc[0]],[86400, df.quality.iloc[-1]]], columns=[\"seconds\", \"quality\"])\n",
    "#                     df = concat([tmp_beg, df], ignore_index=True).sort_values(by=\"seconds\")\n",
    "    \n",
    "                \n",
    "                ## extend at the end\n",
    "#                 if df.seconds.iloc[-1] != 86360:\n",
    "#                     tmp_end = DataFrame([[86360, df.quality.iloc[-1]],[86400, df.quality.iloc[-1]]], columns=[\"seconds\", \"quality\"])\n",
    "#                     df = concat([df, tmp_end], ignore_index=True).sort_values(by=\"seconds\")\n",
    "\n",
    "                \n",
    "                \n",
    "                ## divide into bars of quality\n",
    "                bars = []\n",
    "                for l in range(df.seconds.size):\n",
    "                    if l>0: \n",
    "                        bars.append(df.seconds[l] - df.seconds[l-1])\n",
    "\n",
    "                qual = df.quality[:-1]  \n",
    "\n",
    "                ## color dictionary\n",
    "                col_dict = {0:'green',1:'gold', 2:'darkred'}\n",
    "                alphas   = {0:0.6,1:0.8,2:0.7}\n",
    "\n",
    "                ## plotting\n",
    "                for i, val in enumerate(bars):\n",
    "\n",
    "                    ax.bar(f\"{year}-{month}-{day}\", val, bottom=sum(bars[:i]), color=col_dict[qual[i]], alpha=alphas[qual[i]])\n",
    "\n",
    "                j += 1\n",
    "                \n",
    "                del df\n",
    "            except:\n",
    "                print(f\"skipped {month}-{day}\")\n",
    "                ax.bar(f\"{year}-{month}-{day}\", 86400, color=\"white\")\n",
    "\n",
    "                \n",
    "            ## tweak x axis    \n",
    "            ax.set_xticks(range(0,len(dayticks)))   \n",
    "            ax.set_xlim(-0.5,j+0.5)\n",
    "            ax.set_xticklabels(daylabels, fontsize=font, rotation=30)\n",
    "            ax.set_xlabel(f\"days in November {year}\", fontsize=font+2)\n",
    "            \n",
    "            ## tweak y axis\n",
    "            ax.set_yticks(np.linspace(0,86400,5))\n",
    "            ax.set_yticklabels(np.linspace(0,24,5, dtype=int), fontsize=font-1)\n",
    "            ax.set_ylim(0, 86400)\n",
    "            ax.set_ylabel('time (hours)', fontsize=font)\n",
    "\n",
    "#             ax.set_title(f\"Quality Overview ROMY.{cha} {year}            \", fontsize=font+4)\n",
    "            ax.set_title(f\"Quality Overview ROMY {cha[-1]}-component         \", fontsize=font+4)\n",
    "            \n",
    "            \n",
    "            from matplotlib.patches import Polygon, Patch\n",
    "            legend_elements = [Patch(facecolor='green'    , edgecolor='green', label='Q0', alpha=0.6),\n",
    "                               Patch(facecolor='gold'    , edgecolor='orange', label='Q1', alpha=0.8),\n",
    "                               Patch(facecolor='darkred', edgecolor='darkred', label='Q2', aplha=0.7),\n",
    "                              ]        \n",
    "\n",
    "            ax.legend(handles=legend_elements, fontsize=font-3, ncol=3, loc=\"upper right\", bbox_to_anchor=[0.99, 1.15])      \n",
    "            \n",
    "__makeplot_2019()"
   ]
  },
  {
   "cell_type": "markdown",
   "metadata": {},
   "source": [
    "## load data as dataframe"
   ]
  },
  {
   "cell_type": "code",
   "execution_count": 38,
   "metadata": {
    "ExecuteTime": {
     "end_time": "2021-03-22T14:03:20.369396Z",
     "start_time": "2021-03-22T14:03:20.365856Z"
    }
   },
   "outputs": [],
   "source": [
    "# df0 = DataFrame()\n",
    "\n",
    "# for h, month in enumerate(range(1,3)):\n",
    "    \n",
    "#     if month < 10:\n",
    "#         month = f'0{month}'\n",
    "    \n",
    "#     for k, day in enumerate(range(1,32)):\n",
    "    \n",
    "\n",
    "#         if day < 10:\n",
    "#             day = f'0{day}'\n",
    "\n",
    "#         try:\n",
    "#             path_to_cfiles = f\"/home/andbro/Documents/ROMY/QualityCheck/{mode}/Cfiles/{year}-{month}/{year}-{month}-{day}.C{cha[2]}\"\n",
    "\n",
    "#             tmp = read_csv(path_to_cfiles)\n",
    "\n",
    "#             df_tmp = DataFrame([[0.0, tmp.iloc[0][1]], [86400, tmp.iloc[0][-1]]], columns=tmp.columns)\n",
    "\n",
    "#             df_tmp['date'] = [ f'{year}{month}{day}' for m in range(len(df_tmp.seconds))]\n",
    "\n",
    "\n",
    "#             df0 = concat([df0, df_tmp], ignore_index=True)\n",
    "\n",
    "\n",
    "#             del tmp, df_tmp\n",
    "                         \n",
    "#         except:\n",
    "#             print(f\"skipped {month}{day}\")\n",
    "# print(df0)"
   ]
  },
  {
   "cell_type": "code",
   "execution_count": null,
   "metadata": {},
   "outputs": [],
   "source": []
  },
  {
   "cell_type": "code",
   "execution_count": 4,
   "metadata": {
    "ExecuteTime": {
     "end_time": "2021-03-22T13:30:47.973489Z",
     "start_time": "2021-03-22T13:30:47.970692Z"
    }
   },
   "outputs": [],
   "source": [
    "# plt.figure()\n",
    "\n",
    "# for h, month in enumerate(range(1,2)):\n",
    "    \n",
    "#     if month < 10:\n",
    "#         month = f'0{month}'\n",
    "    \n",
    "#     for k, day in enumerate(range(1,5)):\n",
    "    \n",
    "\n",
    "#         if day < 10:\n",
    "#             day = f'0{day}'\n",
    "\n",
    "#         try:\n",
    "#             df = df0[df0.date == f\"{year}{month}{day}\"]\n",
    "#             print(df)\n",
    "\n",
    " \n",
    "#             col_dict = {0:'g',1:'y', 2:'darkred'}\n",
    "\n",
    "#             for i, val in enumerate(bars):\n",
    "\n",
    "#                 bars = [df.seconds[i]-df.seconds[i-1] for i in range(df.seconds.size) if i > 0]\n",
    "#                 qual = df.quality[:-1]\n",
    "\n",
    "#                 plt.bar(i+1, val, bottom=sum(bars[:i]), color=col_dict[qual[i]])\n",
    "            \n",
    "#             del df\n",
    "            \n",
    "#         except:\n",
    "#             print(\"error\")\n"
   ]
  }
 ],
 "metadata": {
  "kernelspec": {
   "display_name": "Python 3",
   "language": "python",
   "name": "python3"
  },
  "language_info": {
   "codemirror_mode": {
    "name": "ipython",
    "version": 3
   },
   "file_extension": ".py",
   "mimetype": "text/x-python",
   "name": "python",
   "nbconvert_exporter": "python",
   "pygments_lexer": "ipython3",
   "version": "3.7.8"
  }
 },
 "nbformat": 4,
 "nbformat_minor": 4
}
