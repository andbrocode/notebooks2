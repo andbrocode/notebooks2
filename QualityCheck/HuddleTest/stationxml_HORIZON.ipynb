{
 "cells": [
  {
   "cell_type": "markdown",
   "metadata": {},
   "source": [
    "## Obs Station Metadata"
   ]
  },
  {
   "cell_type": "code",
   "execution_count": 88,
   "metadata": {
    "ExecuteTime": {
     "end_time": "2021-02-22T10:25:25.024705Z",
     "start_time": "2021-02-22T10:25:25.020003Z"
    }
   },
   "outputs": [],
   "source": [
    "import re\n",
    "from obspy import UTCDateTime, read_inventory\n",
    "from obspy.clients.nrl import NRL\n",
    "from obspy.io.xseed import Parser\n",
    "from obspy.core.inventory import Inventory, Network, Station, Channel, Site\n",
    "from obspy.clients.fdsn import Client as FDSNClient\n"
   ]
  },
  {
   "cell_type": "code",
   "execution_count": 89,
   "metadata": {
    "ExecuteTime": {
     "end_time": "2021-02-22T10:25:25.561339Z",
     "start_time": "2021-02-22T10:25:25.498967Z"
    }
   },
   "outputs": [],
   "source": [
    "# could be replaced with a local download of NRL\n",
    "nrl = NRL()\n",
    "\n",
    "params=[]\n",
    "loggos=[]"
   ]
  },
  {
   "cell_type": "markdown",
   "metadata": {},
   "source": [
    "### Example to find out correct keys for given sensor in NRL"
   ]
  },
  {
   "cell_type": "code",
   "execution_count": 90,
   "metadata": {
    "ExecuteTime": {
     "end_time": "2021-02-22T10:25:26.913324Z",
     "start_time": "2021-02-22T10:25:26.906900Z"
    }
   },
   "outputs": [
    {
     "data": {
      "text/plain": [
       "Select the sensor manufacturer (37 items):\n",
       "  'CEA-DASE', 'CME (now R-Sensors)', 'Chaparral Physics',\n",
       "  'DTCC (manuafacturers of SmartSolo)', 'EQMet', 'Eentec', 'GEObit',\n",
       "  'GEOsig', 'Gem', 'Generic', 'Geo Space/OYO', 'Geodevice', 'Geotech'\n",
       "  'Guralp', 'HGS Products', 'High Tech', 'Hyperion', 'IESE',\n",
       "  'Johnson Infrasound', 'Kinemetrics', 'LaHusen', 'Lennartz',\n",
       "  'Lunitek', 'Magseis Fairfield', 'Metrozet', 'Nanometrics',\n",
       "  'R-Sensors (previously listed as CME', 'REF TEK',\n",
       "  'Raspberry Shake (formerly OSOP)', 'SARA', 'Seismo Wave',\n",
       "  'Sercel/Mark Products', 'Silicon Audio', 'SolGeo',\n",
       "  'Sprengnether (now Eentec)', 'Streckeisen', 'iTem'"
      ]
     },
     "execution_count": 90,
     "metadata": {},
     "output_type": "execute_result"
    }
   ],
   "source": [
    "nrl.sensors"
   ]
  },
  {
   "cell_type": "code",
   "execution_count": 91,
   "metadata": {
    "ExecuteTime": {
     "end_time": "2021-02-22T10:25:27.669094Z",
     "start_time": "2021-02-22T10:25:27.652337Z"
    }
   },
   "outputs": [
    {
     "data": {
      "text/plain": [
       "Select the Nanometrics sensor model (14 items):\n",
       "  'Meridian Compact Posthole', 'Meridian Posthole',\n",
       "  'Titan Accelerometer', 'Trillium 120 Horizon', 'Trillium 120P/PA',\n",
       "  'Trillium 120Q/QA,PH,BH (Vault, Posthole or Borehole)',\n",
       "  'Trillium 240', 'Trillium 360', 'Trillium 40',\n",
       "  'Trillium All-Terrain', 'Trillium Cascadia Accelerometer',\n",
       "  'Trillium Cascadia seismometer', 'Trillium Compact 120 (Vault,\n",
       "  Posthole, OBS)', 'Trillium Compact 20 (Vault, Posthole, OBS)'"
      ]
     },
     "execution_count": 91,
     "metadata": {},
     "output_type": "execute_result"
    }
   ],
   "source": [
    "para1 = 'Nanometrics'\n",
    "\n",
    "params.append(para1)\n",
    "nrl.sensors[para1]"
   ]
  },
  {
   "cell_type": "code",
   "execution_count": 92,
   "metadata": {
    "ExecuteTime": {
     "end_time": "2021-02-22T10:25:28.692084Z",
     "start_time": "2021-02-22T10:25:28.684152Z"
    }
   },
   "outputs": [
    {
     "data": {
      "text/plain": [
       "Select the Trillium Horizon 120 Version (2 items):\n",
       "  'Trillium 120 Horizon', 'Trillium 120 Horizon V2'"
      ]
     },
     "execution_count": 92,
     "metadata": {},
     "output_type": "execute_result"
    }
   ],
   "source": [
    "para2 = 'Trillium 120 Horizon'\n",
    "\n",
    "params.append(para2)\n",
    "nrl.sensors[para1][para2]"
   ]
  },
  {
   "cell_type": "code",
   "execution_count": 93,
   "metadata": {
    "ExecuteTime": {
     "end_time": "2021-02-22T10:25:30.697448Z",
     "start_time": "2021-02-22T10:25:30.691217Z"
    }
   },
   "outputs": [
    {
     "data": {
      "text/plain": [
       "('Trillium Horizon 120, 120 s, 1200 V/m/s',\n",
       " 'http://ds.iris.edu/NRL/sensors/nanometrics/RESP.XX.NS690..BHZ.TrilliumHorizon120.120.1203')"
      ]
     },
     "execution_count": 93,
     "metadata": {},
     "output_type": "execute_result"
    }
   ],
   "source": [
    "para3 = 'Trillium 120 Horizon'\n",
    "\n",
    "params.append(para3)\n",
    "nrl.sensors[para1][para2][para3]"
   ]
  },
  {
   "cell_type": "code",
   "execution_count": 80,
   "metadata": {
    "ExecuteTime": {
     "end_time": "2021-02-22T10:10:27.132628Z",
     "start_time": "2021-02-22T10:10:27.000431Z"
    }
   },
   "outputs": [
    {
     "ename": "TypeError",
     "evalue": "tuple indices must be integers or slices, not str",
     "output_type": "error",
     "traceback": [
      "\u001b[0;31m---------------------------------------------------------------------------\u001b[0m",
      "\u001b[0;31mTypeError\u001b[0m                                 Traceback (most recent call last)",
      "\u001b[0;32m<ipython-input-80-969b0f9b11f4>\u001b[0m in \u001b[0;36m<module>\u001b[0;34m\u001b[0m\n\u001b[1;32m      2\u001b[0m \u001b[0;34m\u001b[0m\u001b[0m\n\u001b[1;32m      3\u001b[0m \u001b[0mparams\u001b[0m\u001b[0;34m.\u001b[0m\u001b[0mappend\u001b[0m\u001b[0;34m(\u001b[0m\u001b[0mpara4\u001b[0m\u001b[0;34m)\u001b[0m\u001b[0;34m\u001b[0m\u001b[0;34m\u001b[0m\u001b[0m\n\u001b[0;32m----> 4\u001b[0;31m \u001b[0mnrl\u001b[0m\u001b[0;34m.\u001b[0m\u001b[0msensors\u001b[0m\u001b[0;34m[\u001b[0m\u001b[0mpara1\u001b[0m\u001b[0;34m]\u001b[0m\u001b[0;34m[\u001b[0m\u001b[0mpara2\u001b[0m\u001b[0;34m]\u001b[0m\u001b[0;34m[\u001b[0m\u001b[0mpara3\u001b[0m\u001b[0;34m]\u001b[0m\u001b[0;34m[\u001b[0m\u001b[0mpara4\u001b[0m\u001b[0;34m]\u001b[0m\u001b[0;34m\u001b[0m\u001b[0;34m\u001b[0m\u001b[0m\n\u001b[0m",
      "\u001b[0;31mTypeError\u001b[0m: tuple indices must be integers or slices, not str"
     ]
    }
   ],
   "source": [
    "para4 = '2000 V/M/S'\n",
    "\n",
    "params.append(para4)\n",
    "nrl.sensors[para1][para2][para3][para4]"
   ]
  },
  {
   "cell_type": "code",
   "execution_count": 94,
   "metadata": {
    "ExecuteTime": {
     "end_time": "2021-02-22T10:25:32.670783Z",
     "start_time": "2021-02-22T10:25:32.665746Z"
    }
   },
   "outputs": [
    {
     "data": {
      "text/plain": [
       "Select the datalogger manufacturer (25 items):\n",
       "  'Agecodagis', 'DAQ Systems (NetDAS)',\n",
       "  'DTCC (manufacturers of SmartSolo', 'DiGOS/Omnirecs', 'EQMet',\n",
       "  'Earth Data', 'Eentec', 'GEObit', 'Gem', 'Generic', 'GeoSIG',\n",
       "  'Geodevice', 'Geotech', 'Guralp', 'Kinemetrics', 'Lunitek',\n",
       "  'Magseis Fairfield', 'Nanometrics', 'Quanterra', 'R-Sensors',\n",
       "  'REF TEK', 'Raspberry Shake (formerly OSOP)', 'Seismic Source',\n",
       "  'Sercel', 'SolGeo'"
      ]
     },
     "execution_count": 94,
     "metadata": {},
     "output_type": "execute_result"
    }
   ],
   "source": [
    "nrl.dataloggers"
   ]
  },
  {
   "cell_type": "code",
   "execution_count": 95,
   "metadata": {
    "ExecuteTime": {
     "end_time": "2021-02-22T10:25:33.718480Z",
     "start_time": "2021-02-22T10:25:33.697789Z"
    }
   },
   "outputs": [
    {
     "data": {
      "text/plain": [
       "Select the Nanometrics model (11 items):\n",
       "  'Centaur', 'Centaur High Gain', 'Europa T', 'HRD-24',\n",
       "  'Meridian Compact', 'Meridian Posthole', 'Orion', 'Taurus',\n",
       "  'Titan SMA', 'Trident', 'Trident 305'"
      ]
     },
     "execution_count": 95,
     "metadata": {},
     "output_type": "execute_result"
    }
   ],
   "source": [
    "loggo1 = 'Nanometrics'\n",
    "\n",
    "loggos.append(loggo1)\n",
    "nrl.dataloggers[loggo1]"
   ]
  },
  {
   "cell_type": "code",
   "execution_count": 96,
   "metadata": {
    "ExecuteTime": {
     "end_time": "2021-02-22T10:25:35.011619Z",
     "start_time": "2021-02-22T10:25:35.002045Z"
    }
   },
   "outputs": [
    {
     "data": {
      "text/plain": [
       "Select the input range (gain) for this Centaur datalogger (6 items):\n",
       "  '1 Vpp (40)', '10 Vpp (4)', '2 Vpp (20)', '20 Vpp (2)', '4 Vpp (10)'\n",
       "  '40 Vpp (1)'"
      ]
     },
     "execution_count": 96,
     "metadata": {},
     "output_type": "execute_result"
    }
   ],
   "source": [
    "loggo2 = 'Centaur'\n",
    "\n",
    "loggos.append(loggo2)\n",
    "nrl.dataloggers[loggo1][loggo2]"
   ]
  },
  {
   "cell_type": "code",
   "execution_count": 97,
   "metadata": {
    "ExecuteTime": {
     "end_time": "2021-02-22T10:25:35.840364Z",
     "start_time": "2021-02-22T10:25:35.829272Z"
    }
   },
   "outputs": [
    {
     "data": {
      "text/plain": [
       "Select whether the DC removal filter is on (corner at 1 mHz) (2 items):\n",
       "  '1 mHz', 'Off'"
      ]
     },
     "execution_count": 97,
     "metadata": {},
     "output_type": "execute_result"
    }
   ],
   "source": [
    "loggo3 = '10 Vpp (4)'\n",
    "# loggo3 = '10 Vpp (4)'\n",
    "\n",
    "loggos.append(loggo3)\n",
    "nrl.dataloggers[loggo1][loggo2][loggo3]"
   ]
  },
  {
   "cell_type": "code",
   "execution_count": 98,
   "metadata": {
    "ExecuteTime": {
     "end_time": "2021-02-22T10:25:37.168358Z",
     "start_time": "2021-02-22T10:25:37.161607Z"
    }
   },
   "outputs": [
    {
     "data": {
      "text/plain": [
       "Select final filter type (2 items):\n",
       "  'Linear phase', 'Minimum phase'"
      ]
     },
     "execution_count": 98,
     "metadata": {},
     "output_type": "execute_result"
    }
   ],
   "source": [
    "loggo4 = 'Off'\n",
    "# loggo4 = '1 mHz'\n",
    "\n",
    "loggos.append(loggo4)\n",
    "nrl.dataloggers[loggo1][loggo2][loggo3][loggo4]"
   ]
  },
  {
   "cell_type": "code",
   "execution_count": 99,
   "metadata": {
    "ExecuteTime": {
     "end_time": "2021-02-22T10:25:37.585571Z",
     "start_time": "2021-02-22T10:25:37.569542Z"
    }
   },
   "outputs": [
    {
     "data": {
      "text/plain": [
       "Select the sample rate in samples per second (14 items):\n",
       "  '1', '10', '100', '1000', '125', '2', '20', '200', '250', '40', '5'\n",
       "  '50', '500', '5000'"
      ]
     },
     "execution_count": 99,
     "metadata": {},
     "output_type": "execute_result"
    }
   ],
   "source": [
    "loggo5 = 'Minimum phase'\n",
    "# loggo5 = 'Linear phase'\n",
    "\n",
    "loggos.append(loggo5)\n",
    "nrl.dataloggers[loggo1][loggo2][loggo3][loggo4][loggo5]"
   ]
  },
  {
   "cell_type": "code",
   "execution_count": 100,
   "metadata": {
    "ExecuteTime": {
     "end_time": "2021-02-22T10:25:38.853937Z",
     "start_time": "2021-02-22T10:25:38.841962Z"
    }
   },
   "outputs": [
    {
     "data": {
      "text/plain": [
       "('Centaur, 10 vpp (gain 4), 200 sps, DC removal filter off, Minimum phase',\n",
       " 'http://ds.iris.edu/NRL/dataloggers/nanometrics/centaur/RESP.XX.NN842..HHZ.CENTAUR.4.200.OFF.MP')"
      ]
     },
     "execution_count": 100,
     "metadata": {},
     "output_type": "execute_result"
    }
   ],
   "source": [
    "loggo6 = '200'\n",
    "\n",
    "loggos.append(loggo6)\n",
    "nrl.dataloggers[loggo1][loggo2][loggo3][loggo4][loggo5][loggo6]"
   ]
  },
  {
   "cell_type": "code",
   "execution_count": 101,
   "metadata": {
    "ExecuteTime": {
     "end_time": "2021-02-22T10:25:44.194882Z",
     "start_time": "2021-02-22T10:25:39.606682Z"
    }
   },
   "outputs": [
    {
     "name": "stderr",
     "output_type": "stream",
     "text": [
      "No handles with labels found to put in legend.\n"
     ]
    },
    {
     "data": {
      "image/png": "[encoded data removed]",
      "text/plain": [
       "<Figure size 432x288 with 2 Axes>"
      ]
     },
     "metadata": {
      "needs_background": "light"
     },
     "output_type": "display_data"
    }
   ],
   "source": [
    "response = nrl.get_response(\n",
    "                            datalogger_keys=loggos,\n",
    "                            sensor_keys=params\n",
    "                           )\n",
    "\n",
    "response.plot(0.001);"
   ]
  },
  {
   "cell_type": "markdown",
   "metadata": {},
   "source": [
    "### Prepare Writing XML-File"
   ]
  },
  {
   "cell_type": "code",
   "execution_count": 102,
   "metadata": {
    "ExecuteTime": {
     "end_time": "2021-02-22T10:26:09.330182Z",
     "start_time": "2021-02-22T10:25:46.439391Z"
    }
   },
   "outputs": [
    {
     "name": "stdout",
     "output_type": "stream",
     "text": [
      "\n",
      "Enter network: BW\n",
      "\n",
      "_______________________________\n",
      "\n",
      "Enter station name: \n",
      "\n",
      "_______________________________\n",
      "\n",
      "Enter site name: OBS\n",
      "\n",
      "_______________________________\n",
      "\n",
      "Enter serial number: horizon\n",
      "\n",
      "_______________________________\n",
      "\n",
      "Enter sampling rate: 200\n",
      "\n",
      "_______________________________\n",
      "\n",
      "Enter path of output file: /home/andbro/Desktop/Huddle_Test/\n",
      "\n",
      "_______________________________\n",
      "\n",
      "Specify location (y/n)? n\n"
     ]
    }
   ],
   "source": [
    "net = input(\"\\nEnter network: \");print(\"\\n_______________________________\")\n",
    "\n",
    "sta = input(\"\\nEnter station name: \");print(\"\\n_______________________________\")\n",
    "\n",
    "site_name = input(\"\\nEnter site name: \");print(\"\\n_______________________________\")\n",
    "\n",
    "serial_number = input(\"\\nEnter serial number: \");print(\"\\n_______________________________\")\n",
    "\n",
    "sampling_rate = input(\"\\nEnter sampling rate: \");print(\"\\n_______________________________\")\n",
    "\n",
    "outpath = input(\"\\nEnter path of output file: \");print(\"\\n_______________________________\")\n",
    "\n",
    "location = input(\"\\nSpecify location (y/n)? \")\n",
    "\n",
    "if location == \"y\" or location == \"yes\":\n",
    "    lat = input(\"Enter latitude: \")\n",
    "    lon = input(\"Enter longitude: \")\n",
    "    ele = input(\"Enter elevation: \")\n",
    "    \n",
    "else:\n",
    "    lat, lon, ele = 0.0, 0.0, 0.0\n",
    "\n",
    "outfile = f\"{serial_number}_{sta}.xml\""
   ]
  },
  {
   "cell_type": "code",
   "execution_count": 103,
   "metadata": {
    "ExecuteTime": {
     "end_time": "2021-02-22T10:26:11.529384Z",
     "start_time": "2021-02-22T10:26:11.516371Z"
    }
   },
   "outputs": [],
   "source": [
    "channel1 = Channel(code='HHZ', \n",
    "                   location_code='', \n",
    "                   latitude=lat, \n",
    "                   longitude=lon,\n",
    "                   elevation=ele, \n",
    "                   depth=0,\n",
    "#                    azimuth=0,\n",
    "#                    dip=-90,\n",
    "                   sample_rate=sampling_rate,\n",
    "                   response=response,\n",
    "                  )\n",
    "\n",
    "channel2 = Channel(code='HHN', \n",
    "                   location_code='', \n",
    "                   latitude=lat, \n",
    "                   longitude=lon,\n",
    "                   elevation=ele, \n",
    "                   depth=0,\n",
    "#                    azimuth=0,\n",
    "#                    dip=0,\n",
    "                   sample_rate=sampling_rate,\n",
    "                   response=response,\n",
    "                  )\n",
    "\n",
    "channel3 = Channel(code='HHE', \n",
    "                   location_code='', \n",
    "                   latitude=lat, \n",
    "                   longitude=lon,\n",
    "                   elevation=ele, \n",
    "                   depth=0,\n",
    "#                    azimuth=90,\n",
    "#                    dip=0,\n",
    "                   sample_rate=sampling_rate,\n",
    "                   response=response,\n",
    "                  )"
   ]
  },
  {
   "cell_type": "code",
   "execution_count": 104,
   "metadata": {
    "ExecuteTime": {
     "end_time": "2021-02-22T10:26:12.490784Z",
     "start_time": "2021-02-22T10:26:12.466069Z"
    }
   },
   "outputs": [],
   "source": [
    "site = Site(name=site_name)\n",
    "\n",
    "\n",
    "station = Station(code=sta, \n",
    "                  latitude=lat, \n",
    "                  longitude=lon,\n",
    "                  elevation=ele,\n",
    "                  channels=[channel1,channel2,channel3],\n",
    "                  site=site,\n",
    "                 )\n",
    "\n",
    "network = Network(code=net,\n",
    "                  stations=[station],\n",
    "                 )\n",
    "\n",
    "\n",
    "inv = Inventory(networks=[network], \n",
    "                source='LMU',\n",
    "               )\n",
    "\n",
    "\n",
    "if outpath[-1] == \"/\":\n",
    "    outpath = outpath[:-1]\n",
    "    \n",
    "inv.write(f\"{outpath}/{outfile}\", format='STATIONXML')"
   ]
  },
  {
   "cell_type": "code",
   "execution_count": 105,
   "metadata": {
    "ExecuteTime": {
     "end_time": "2021-02-22T10:26:13.732761Z",
     "start_time": "2021-02-22T10:26:13.698702Z"
    }
   },
   "outputs": [
    {
     "name": "stdout",
     "output_type": "stream",
     "text": [
      "\n",
      " DONE\n"
     ]
    }
   ],
   "source": [
    "try:\n",
    "    read_inventory(f\"{outpath}/{outfile}\")\n",
    "    print(\"\\n DONE\")\n",
    "except:\n",
    "    print(\"\\n Something went wrong! File: {outpath}/{outfile} could not be loaded!\")"
   ]
  },
  {
   "cell_type": "code",
   "execution_count": null,
   "metadata": {},
   "outputs": [],
   "source": []
  }
 ],
 "metadata": {
  "kernelspec": {
   "display_name": "Python 3",
   "language": "python",
   "name": "python3"
  },
  "language_info": {
   "codemirror_mode": {
    "name": "ipython",
    "version": 3
   },
   "file_extension": ".py",
   "mimetype": "text/x-python",
   "name": "python",
   "nbconvert_exporter": "python",
   "pygments_lexer": "ipython3",
   "version": "3.7.8"
  }
 },
 "nbformat": 4,
 "nbformat_minor": 2
}
