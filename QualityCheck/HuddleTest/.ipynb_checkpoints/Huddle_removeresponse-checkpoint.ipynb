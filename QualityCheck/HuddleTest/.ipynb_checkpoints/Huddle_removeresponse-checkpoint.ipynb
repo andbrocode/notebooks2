{
 "cells": [
  {
   "cell_type": "code",
   "execution_count": 2,
   "id": "particular-sharp",
   "metadata": {
    "ExecuteTime": {
     "end_time": "2021-02-16T16:51:31.656389Z",
     "start_time": "2021-02-16T16:51:30.616125Z"
    }
   },
   "outputs": [],
   "source": [
    "import obspy\n",
    "import obspy.signal.rotate\n",
    "\n",
    "from numpy import arange"
   ]
  },
  {
   "cell_type": "code",
   "execution_count": 3,
   "id": "political-vaccine",
   "metadata": {
    "ExecuteTime": {
     "end_time": "2021-02-16T16:51:31.668257Z",
     "start_time": "2021-02-16T16:51:31.660369Z"
    },
    "code_folding": [
     1
    ]
   },
   "outputs": [],
   "source": [
    "\n",
    "def __get_STS(seis, days, comp):\n",
    "\n",
    "    sts = obspy.core.stream.Stream()\n",
    "    for day in days:\n",
    "        sts0 = obspy.read(f\"{workdir}/STS2_{seis}/{day}/STS2_{seis}_{comp}.mseed\")\n",
    "        for j in range(3):\n",
    "            sts.append(sts0[j])\n",
    "            \n",
    "    sts.merge()       \n",
    "    \n",
    "    sts[0].stats.channel = \"HHZ\"\n",
    "    sts[1].stats.channel = \"HHN\"\n",
    "    sts[2].stats.channel = \"HHE\"       \n",
    "    \n",
    "    for i in range(3):\n",
    "        sts[i].stats.station = seis \n",
    "       \n",
    "    return sts\n"
   ]
  },
  {
   "cell_type": "code",
   "execution_count": 4,
   "id": "strong-trader",
   "metadata": {
    "ExecuteTime": {
     "end_time": "2021-02-16T16:51:31.677041Z",
     "start_time": "2021-02-16T16:51:31.671109Z"
    },
    "code_folding": [
     1
    ]
   },
   "outputs": [],
   "source": [
    "\n",
    "def __write_STS(sts, workdir):\n",
    "    \n",
    "    import os\n",
    "    \n",
    "    for i in range(3):\n",
    "        \n",
    "        net = sts[i].stats.network\n",
    "        sta = sts[i].stats.station\n",
    "        loc = sts[i].stats.location\n",
    "        cha = sts[i].stats.channel\n",
    "        \n",
    "        year = sts[i].stats.starttime.year\n",
    "        doy = sts[i].stats.starttime.julday\n",
    "        \n",
    "        if not os.path.exists(f\"{workdir}/STS2_{sta}/{cha}.D/\"):\n",
    "            os.makedirs(f\"{workdir}/STS2_{sta}/{cha}.D/\")\n",
    "            \n",
    "        sts.write(f\"{workdir}/STS2_{sta}/{cha}.D/{net}.{sta}.{loc}.{cha}.D.{year}.{doy}\", format=\"MSEED\")\n"
   ]
  },
  {
   "cell_type": "code",
   "execution_count": 5,
   "id": "driving-tumor",
   "metadata": {
    "ExecuteTime": {
     "end_time": "2021-02-16T16:51:31.892395Z",
     "start_time": "2021-02-16T16:51:31.884729Z"
    },
    "code_folding": [
     1
    ]
   },
   "outputs": [],
   "source": [
    "\n",
    "def __get_ZNE_from_UVW(st_in):\n",
    "    \n",
    "    from numpy import sqrt\n",
    "\n",
    "    E = -1* sqrt(2/3) * st_in[0].data + sqrt(1/6) * st_in[1].data + sqrt(1/6) * st_in[2].data\n",
    "    N = sqrt(1/2) * st_in[1].data - sqrt(1/2) * st_in[2].data\n",
    "    Z = sqrt(1/3) * st_in[0].data + sqrt(1/3) * st_in[1].data + sqrt(1/3) * st_in[2].data\n",
    "    \n",
    "    Z = obspy.core.trace.Trace(Z)\n",
    "    N = obspy.core.trace.Trace(N)\n",
    "    E = obspy.core.trace.Trace(E)\n",
    "    \n",
    "    st_in[0].data = Z.data; st_in[0].stats.channel = 'HHZ'\n",
    "    st_in[1].data = N.data; st_in[1].stats.channel = 'HHN'\n",
    "    st_in[2].data = E.data; st_in[2].stats.channel = 'HHE'\n",
    "    \n",
    "    return st_in\n"
   ]
  },
  {
   "cell_type": "code",
   "execution_count": null,
   "id": "supported-cattle",
   "metadata": {
    "ExecuteTime": {
     "end_time": "2021-02-16T15:34:06.992997Z",
     "start_time": "2021-02-16T15:34:06.988972Z"
    }
   },
   "outputs": [],
   "source": [
    "workdir=\"/home/andbro/Desktop/Huddle_Test/Huddle_Test_1\"\n",
    "\n",
    "seis1, code1 = '29422', 'HU3'\n",
    "seis2, code2 = '59811', 'HU1'\n",
    "seis3, code3 = '49507', 'HU1'\n",
    "\n",
    "comp = \"all\"\n",
    "\n",
    "# days = ['2021041', '2021042', '2021043']\n",
    "days = ['2021041']"
   ]
  },
  {
   "cell_type": "code",
   "execution_count": null,
   "id": "liked-israel",
   "metadata": {
    "ExecuteTime": {
     "end_time": "2021-02-16T15:34:09.308861Z",
     "start_time": "2021-02-16T15:34:09.051555Z"
    },
    "code_folding": []
   },
   "outputs": [],
   "source": [
    "sts1 = __get_STS(seis1, days)\n",
    "sts2 = __get_STS(seis2, days)\n",
    "sts3 = __get_STS(seis3, days)"
   ]
  },
  {
   "cell_type": "code",
   "execution_count": 6,
   "id": "loaded-reputation",
   "metadata": {
    "ExecuteTime": {
     "end_time": "2021-02-16T16:51:33.374164Z",
     "start_time": "2021-02-16T16:51:33.370086Z"
    }
   },
   "outputs": [],
   "source": [
    "workdir=\"/home/andbro/Desktop/Huddle_Test/Huddle_Test_1\"\n",
    "\n",
    "seis, code = '49507', 'HU1'\n",
    "\n",
    "comp = \"all\"\n",
    "\n",
    "days = ['2021041']"
   ]
  },
  {
   "cell_type": "code",
   "execution_count": 8,
   "id": "ranking-right",
   "metadata": {
    "ExecuteTime": {
     "end_time": "2021-02-16T16:52:30.874431Z",
     "start_time": "2021-02-16T16:52:30.762543Z"
    }
   },
   "outputs": [],
   "source": [
    "st = __get_STS(seis, days, comp)\n",
    "\n",
    "inv_st = obspy.read_inventory(f\"{workdir}/{seis}_{code}.xml\", format='STATIONXML')"
   ]
  },
  {
   "cell_type": "code",
   "execution_count": null,
   "id": "orange-matrix",
   "metadata": {
    "ExecuteTime": {
     "start_time": "2021-02-16T16:52:31.688Z"
    }
   },
   "outputs": [],
   "source": [
    "st.remove_response( inventory=inv_st, \n",
    "                    pre_filt=[0.001, 0.005, 45, 50], \n",
    "                    output=\"VEL\",\n",
    "                    water_level=60, \n",
    "                    plot=False,\n",
    "                   ) \n",
    "\n",
    "__write_STS(st, workdir)"
   ]
  },
  {
   "cell_type": "code",
   "execution_count": null,
   "id": "loving-hospital",
   "metadata": {},
   "outputs": [],
   "source": [
    "st.resample"
   ]
  },
  {
   "cell_type": "code",
   "execution_count": null,
   "id": "useful-probe",
   "metadata": {},
   "outputs": [],
   "source": []
  },
  {
   "cell_type": "code",
   "execution_count": null,
   "id": "restricted-ratio",
   "metadata": {
    "ExecuteTime": {
     "end_time": "2021-02-16T15:39:08.348247Z",
     "start_time": "2021-02-16T15:39:08.323733Z"
    }
   },
   "outputs": [],
   "source": [
    "Z = obspy.core.stream.Stream()\n",
    "Z.append(sts1[0])\n",
    "Z.append(sts2[0])\n",
    "Z.append(sts3[0])\n",
    "Z.plot();"
   ]
  },
  {
   "cell_type": "code",
   "execution_count": null,
   "id": "brown-michigan",
   "metadata": {
    "ExecuteTime": {
     "end_time": "2021-02-16T16:40:53.274877Z",
     "start_time": "2021-02-16T16:40:51.280841Z"
    }
   },
   "outputs": [],
   "source": [
    "horizon = obspy.read(f'{workdir}/Horizon/HHZ.D/BW.HUDD..HHZ.D.2021.041')\n",
    "horizon.merge()\n",
    "\n",
    "horizon.resample(20.0)\n",
    "horizon.plot();"
   ]
  },
  {
   "cell_type": "code",
   "execution_count": null,
   "id": "informal-object",
   "metadata": {
    "ExecuteTime": {
     "end_time": "2021-02-16T16:41:05.243168Z",
     "start_time": "2021-02-16T16:41:00.186478Z"
    }
   },
   "outputs": [],
   "source": [
    "inv_horizon = obspy.read_inventory(f\"{workdir}/1111_HUDD.xml\", format='STATIONXML')\n",
    "\n",
    "pre_filt = [0.001, 0.005, 45, 50]\n",
    "\n",
    "horizon.remove_response(inventory=inv_horizon, \n",
    "                        pre_filt=pre_filt, \n",
    "                        output=\"VEL\",\n",
    "                        water_level=60, \n",
    "                        plot=True,\n",
    "                       )  "
   ]
  },
  {
   "cell_type": "code",
   "execution_count": null,
   "id": "threatened-channels",
   "metadata": {
    "ExecuteTime": {
     "start_time": "2021-02-16T15:21:37.082Z"
    }
   },
   "outputs": [],
   "source": [
    "zne = __get_ZNE_from_UVW(sts1)"
   ]
  }
 ],
 "metadata": {
  "kernelspec": {
   "display_name": "Python 3",
   "language": "python",
   "name": "python3"
  },
  "language_info": {
   "codemirror_mode": {
    "name": "ipython",
    "version": 3
   },
   "file_extension": ".py",
   "mimetype": "text/x-python",
   "name": "python",
   "nbconvert_exporter": "python",
   "pygments_lexer": "ipython3",
   "version": "3.7.8"
  }
 },
 "nbformat": 4,
 "nbformat_minor": 5
}
