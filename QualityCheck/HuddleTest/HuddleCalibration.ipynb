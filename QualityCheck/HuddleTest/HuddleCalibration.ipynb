{
 "cells": [
  {
   "cell_type": "code",
   "execution_count": 1,
   "id": "hundred-yellow",
   "metadata": {
    "ExecuteTime": {
     "end_time": "2021-02-17T16:39:54.121527Z",
     "start_time": "2021-02-17T16:39:53.508378Z"
    }
   },
   "outputs": [],
   "source": [
    "import matplotlib.pyplot as plt\n",
    "import numpy as np\n",
    "\n",
    "from obspy.signal.util import next_pow_2\n",
    "from obspy.signal.invsim import simulate_seismometer as seisSim\n",
    "from obspy.core import AttribDict, Stream\n",
    "# for checks of response information type\n",
    "from obspy.core.inventory import Inventory\n",
    "from obspy.io.xseed import Parser\n",
    "from obspy import read_inventory"
   ]
  },
  {
   "cell_type": "code",
   "execution_count": 4,
   "id": "representative-conflict",
   "metadata": {
    "ExecuteTime": {
     "end_time": "2021-02-17T16:40:14.629342Z",
     "start_time": "2021-02-17T16:40:14.620029Z"
    },
    "code_folding": [
     0
    ]
   },
   "outputs": [],
   "source": [
    "def calib_stream(st0, inv, frange=[.3, 3]):  #frequency range\n",
    "    \n",
    "    st = st0.copy() # work on copy\n",
    "    st.detrend('demean') # needed because submitted data may be sliced from longer (demeaned) original\n",
    "\n",
    "\n",
    "    # remove poles and zeros ## but NOT sensitivity ## and replace data with its spectrum\n",
    "    NPTS = max([tr.stats.npts for tr in st])\n",
    "    nfft = next_pow_2(NPTS)\n",
    "    freqs = np.fft.fftfreq(nfft, st[0].stats.delta)[:nfft/2+1] # only real frequencies\n",
    "    freqs[-1] = np.abs(freqs[-1]) # max frequency should be positive\n",
    "\n",
    "    for tr in st:\n",
    "        inv = read_inventory(\"/home/skeil/Documents/PhD/Huddle_ADR/\" + tr.stats.station + \".xml\") #response files\n",
    "        r = inv[0][0][0].response.get_paz()\n",
    "        paz = {'poles': r.poles, 'zeros': r.zeros, 'gain': r.normalization_factor}\n",
    "\n",
    "        tr.simulate(paz_remove=paz, remove_sensitivity=False)\n",
    "        tr.data = np.fft.rfft(tr.data, nfft)\n",
    "        print(tr.stats.station + ' remove Response')\n",
    "\n",
    "    return calib_spec(st, freqs, frange=frange)"
   ]
  },
  {
   "cell_type": "code",
   "execution_count": 5,
   "id": "informational-exhaust",
   "metadata": {
    "ExecuteTime": {
     "end_time": "2021-02-17T16:40:16.724978Z",
     "start_time": "2021-02-17T16:40:16.715484Z"
    },
    "code_folding": [
     0
    ]
   },
   "outputs": [],
   "source": [
    "def calib_spec(sp, freqs, frange=[.3, 3]):  #enter frequency range\n",
    "    '''\n",
    "    calibrate relative sensitivity matrix of __SPECTRA__ in Stream object sp\n",
    "\n",
    "    sp: Stream, contains rfft spectra of traces to be calibrated against each other\n",
    "    freqs: np.array, frequencies corresponding to samples in Spectra sp\n",
    "\n",
    "    frange: list, frequency range in which the amplitude response of tr and trref will be compared, \n",
    "            commonly around calibration frequency, which is often 1Hz. Thus default is 3s to 3Hz\n",
    "\n",
    "    returns sensitivity matrix\n",
    "        each row is a reference instrument, each column abs(XCORR/ACORR), averaged over frequencies in frange\n",
    "        sensitivity is thus in each row RELATIVE to the reference instrument, i.e. diagonal of matrix = 1\n",
    "    '''\n",
    "\n",
    "    sens = np.zeros((sp.count(), sp.count()))\n",
    "    for i, tr in enumerate(sp):\n",
    "        acorr = tr.data * np.conj(tr.data) # is real, np.all(acorr.imag == 0) is True\n",
    "        for j in range(i, sp.count()):\n",
    "            xcorr = sp[j].data * np.conj(tr.data)\n",
    "            sens[i, j] = np.abs((xcorr/acorr)[np.where(np.logical_and(freqs>min(frange), freqs<max(frange)))]).mean()\n",
    "#           if i != j: sens[j, i] = 1 / sens[i, j] ## fill lower triangle of matrix\n",
    "            if i != j: sens[j, i] = np.nan\n",
    "    return sens"
   ]
  },
  {
   "cell_type": "code",
   "execution_count": 6,
   "id": "organic-sight",
   "metadata": {
    "ExecuteTime": {
     "end_time": "2021-02-17T16:40:17.553133Z",
     "start_time": "2021-02-17T16:40:17.547184Z"
    },
    "code_folding": [
     0
    ]
   },
   "outputs": [],
   "source": [
    "def myfmt(a):\n",
    "        if np.log10(abs(a)) > 3: return '%.0e' % a\n",
    "        elif np.log10(abs(a)) >= 0 or np.log10(abs(a)) == -np.inf: return '%i' % a # a>=1 or a=0\n",
    "        elif np.log10(abs(a)) >= -1: return '%.1f' % a \n",
    "        elif np.log10(abs(a)) >= -2: return '%.2f' % a\n",
    "        else: return '%.0e' % a"
   ]
  },
  {
   "cell_type": "code",
   "execution_count": 7,
   "id": "functioning-projection",
   "metadata": {
    "ExecuteTime": {
     "end_time": "2021-02-17T16:40:18.840214Z",
     "start_time": "2021-02-17T16:40:18.826117Z"
    },
    "code_folding": [
     0
    ]
   },
   "outputs": [],
   "source": [
    "def plot_calib_matrix(pct, title_str, lbls, fname=None, cmap=plt.get_cmap(), full=False, \n",
    "                      clabel='deviation in spectral amplitude [%]', vmax=None):\n",
    "    '''\n",
    "    plot calibration matrix\n",
    "\n",
    "    pct: np.array, 2D matrix of relative sensitivities (result from calib_stream)\n",
    "    title_str: str, title of figure\n",
    "    lbls: str, x- and y-axis labels\n",
    "\n",
    "    optional:\n",
    "        fname: str, filename of figure to be saved, if 'None' figure will be displayed\n",
    "        cmap: matplotlib.cmap\n",
    "        full: bool, fill up half matrix with inverse values, default: False\n",
    "        clabel: str, colorbar label, what is shown in matrix pct?\n",
    "        vmax: float or None, limit of colorbar or None (default) which determines it automatically from standard deviation\n",
    "    '''\n",
    "    flip = 0\n",
    "    if full:\n",
    "        m = pct.copy()\n",
    "        m[np.isnan(m)] = 0.\n",
    "        n = np.triu(1/m,1).T\n",
    "        n[np.isnan(n)] = 0.\n",
    "        pct = n+m\n",
    "\n",
    "    if np.isnan(pct[-1, 0]) or full: \n",
    "        pct = np.flipud(pct) # flip to lower triangle\n",
    "        flip = 1\n",
    "\n",
    "    plt.figure(figsize=(16,12))\n",
    "    if vmax is None: vmax = min(np.nanstd(pct), 30) # cap to 30%\n",
    "    plt.imshow(pct, origin=\"upper\", interpolation=\"nearest\", cmap=cmap, vmin=-vmax, vmax=vmax)\n",
    "    cb = plt.colorbar(shrink=.8)\n",
    "    cb.set_label(clabel)\n",
    "    plt.title(title_str)\n",
    "    plt.xlabel('Instrument ID')\n",
    "    plt.ylabel('Reference Instrument ID')\n",
    "\n",
    "    plt.xticks(range(len(lbls)), lbls, rotation=75, ha='center')\n",
    "    plt.yticks(range(len(lbls)), lbls[::-1] if flip else lbls)\n",
    "\n",
    "    # overlay values\n",
    "    #i = np.arange(pct.shape[0])\n",
    "    i = np.arange(len(lbls))\n",
    "    x, y = np.meshgrid(i, i)\n",
    "    for k, l in zip(x.flatten(), y.flatten()):\n",
    "        if not np.isnan(pct[l, k]): \n",
    "            plt.text(k, l, myfmt(pct[l, k]), fontsize=10, ha='center', color='w', \n",
    "                     bbox={'pad': 2, 'alpha': .07, 'color': 'k', 'edgecolor': \"none\"}) \n",
    "\n",
    "    # save or show\n",
    "    if fname is not None: \n",
    "        plt.savefig(fname)\n",
    "        plt.close()\n",
    "    else:\n",
    "        plt.show()\n",
    "\n",
    "    return"
   ]
  },
  {
   "cell_type": "code",
   "execution_count": null,
   "id": "baking-balloon",
   "metadata": {},
   "outputs": [],
   "source": []
  }
 ],
 "metadata": {
  "kernelspec": {
   "display_name": "Python 3",
   "language": "python",
   "name": "python3"
  },
  "language_info": {
   "codemirror_mode": {
    "name": "ipython",
    "version": 3
   },
   "file_extension": ".py",
   "mimetype": "text/x-python",
   "name": "python",
   "nbconvert_exporter": "python",
   "pygments_lexer": "ipython3",
   "version": "3.7.8"
  }
 },
 "nbformat": 4,
 "nbformat_minor": 5
}
