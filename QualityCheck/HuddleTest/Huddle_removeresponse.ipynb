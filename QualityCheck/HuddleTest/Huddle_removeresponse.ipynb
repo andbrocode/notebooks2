{
 "cells": [
  {
   "cell_type": "code",
   "execution_count": 1,
   "id": "particular-sharp",
   "metadata": {
    "ExecuteTime": {
     "end_time": "2021-02-22T07:45:25.479136Z",
     "start_time": "2021-02-22T07:45:24.957788Z"
    }
   },
   "outputs": [],
   "source": [
    "import obspy\n",
    "import obspy.signal.rotate\n",
    "\n",
    "from numpy import arange"
   ]
  },
  {
   "cell_type": "code",
   "execution_count": 2,
   "id": "political-vaccine",
   "metadata": {
    "ExecuteTime": {
     "end_time": "2021-02-22T07:45:25.488633Z",
     "start_time": "2021-02-22T07:45:25.481955Z"
    },
    "code_folding": [
     1
    ]
   },
   "outputs": [],
   "source": [
    "\n",
    "def __get_STS(seis, day, comp):\n",
    "\n",
    "    sts = obspy.core.stream.Stream()\n",
    "\n",
    "    sts0 = obspy.read(f\"{workdir}/STS2_{seis}/{day}/STS2_{seis}_{comp}.mseed\")\n",
    "    for j in range(3):\n",
    "        sts.append(sts0[j])\n",
    "\n",
    "    sts.merge()       \n",
    "    \n",
    "    sts[0].stats.channel = \"HHZ\"\n",
    "    sts[1].stats.channel = \"HHN\"\n",
    "    sts[2].stats.channel = \"HHE\"       \n",
    "    \n",
    "    for i in range(3):\n",
    "        sts[i].stats.station = seis \n",
    "       \n",
    "    return sts\n"
   ]
  },
  {
   "cell_type": "code",
   "execution_count": 3,
   "id": "strong-trader",
   "metadata": {
    "ExecuteTime": {
     "end_time": "2021-02-22T07:45:25.501170Z",
     "start_time": "2021-02-22T07:45:25.492455Z"
    },
    "code_folding": [
     1
    ]
   },
   "outputs": [],
   "source": [
    "\n",
    "def __write_STS(sts, workdir):\n",
    "    \n",
    "    import os\n",
    "    \n",
    "    for i in range(3):\n",
    "        \n",
    "        net = sts[i].stats.network\n",
    "        sta = sts[i].stats.station\n",
    "        loc = sts[i].stats.location\n",
    "        \n",
    "        year = sts[i].stats.starttime.year\n",
    "        doy = sts[i].stats.starttime.julday\n",
    "        \n",
    "        if doy < 10:\n",
    "            doy = f\"00{doy}\"\n",
    "        elif doy >= 10 and doy < 100:\n",
    "            doy = f\"0{doy}\"\n",
    "        \n",
    "        if sts[i].stats.sampling_rate == 20.0:\n",
    "            sts[i].stats.channel = f\"B{sts[i].stats.channel[1:]}\"\n",
    "    \n",
    "        elif sts[i].stats.sampling_rate == 200.0:\n",
    "            sts[i].stats.channel = f\"H{sts[i].stats.channel[1:]}\"\n",
    "        \n",
    "        cha = sts[i].stats.channel\n",
    "        \n",
    "        dirstruct = f\"{workdir}/{year}/{net}/{sta}/{cha}.D\"\n",
    "        \n",
    "        if not os.path.exists(dirstruct):\n",
    "            \n",
    "            print(f\"create directory: {dirstruct}\")\n",
    "            os.makedirs(dirstruct)\n",
    "        \n",
    "        print(f\"writing: {net}.{sta}.{loc}.{cha}.D.{year}.{doy}\")\n",
    "        sts[i].write(f\"{dirstruct}/{net}.{sta}.{loc}.{cha}.D.{year}.{doy}\", format=\"MSEED\")\n"
   ]
  },
  {
   "cell_type": "code",
   "execution_count": 14,
   "id": "driving-tumor",
   "metadata": {
    "ExecuteTime": {
     "end_time": "2021-02-17T18:40:25.538324Z",
     "start_time": "2021-02-17T18:40:25.533956Z"
    },
    "code_folding": [
     1
    ]
   },
   "outputs": [],
   "source": [
    "\n",
    "# def __get_ZNE_from_UVW(st_in):\n",
    "    \n",
    "#     from numpy import sqrt\n",
    "\n",
    "#     E = -1* sqrt(2/3) * st_in[0].data + sqrt(1/6) * st_in[1].data + sqrt(1/6) * st_in[2].data\n",
    "#     N = sqrt(1/2) * st_in[1].data - sqrt(1/2) * st_in[2].data\n",
    "#     Z = sqrt(1/3) * st_in[0].data + sqrt(1/3) * st_in[1].data + sqrt(1/3) * st_in[2].data\n",
    "    \n",
    "#     Z = obspy.core.trace.Trace(Z)\n",
    "#     N = obspy.core.trace.Trace(N)\n",
    "#     E = obspy.core.trace.Trace(E)\n",
    "    \n",
    "#     st_in[0].data = Z.data; st_in[0].stats.channel = 'HHZ'\n",
    "#     st_in[1].data = N.data; st_in[1].stats.channel = 'HHN'\n",
    "#     st_in[2].data = E.data; st_in[2].stats.channel = 'HHE'\n",
    "    \n",
    "#     return st_in\n"
   ]
  },
  {
   "cell_type": "code",
   "execution_count": 29,
   "id": "loaded-reputation",
   "metadata": {
    "ExecuteTime": {
     "end_time": "2021-02-22T08:06:13.177460Z",
     "start_time": "2021-02-22T08:06:13.174053Z"
    }
   },
   "outputs": [],
   "source": [
    "workdir=\"/home/andbro/Desktop/Huddle_Test/Huddle_Test_1\"\n",
    "\n",
    "comp = \"all\"\n",
    "\n",
    "sensors = ['29422', '59811','49507']\n",
    "\n",
    "days = ['2021041', '2021042', '2021043']"
   ]
  },
  {
   "cell_type": "code",
   "execution_count": 16,
   "id": "floating-lincoln",
   "metadata": {
    "ExecuteTime": {
     "end_time": "2021-02-17T18:40:25.545555Z",
     "start_time": "2021-02-17T18:40:25.543183Z"
    }
   },
   "outputs": [],
   "source": [
    "workdir=\"/home/andbro/Desktop/Huddle_Test/Huddle_Test_2\"\n",
    "\n",
    "comp = \"all\"\n",
    "\n",
    "sensors = ['109610','49510', '29422']\n",
    "\n",
    "days = ['2021043', '2021044', '2021045', '2021046']"
   ]
  },
  {
   "cell_type": "code",
   "execution_count": 30,
   "id": "ranking-right",
   "metadata": {
    "ExecuteTime": {
     "end_time": "2021-02-22T08:06:55.500811Z",
     "start_time": "2021-02-22T08:06:14.625198Z"
    },
    "code_folding": [],
    "scrolled": false
   },
   "outputs": [
    {
     "name": "stdout",
     "output_type": "stream",
     "text": [
      "29422 2021041\n",
      "writing: BW.29422..HHZ.D.2021.041\n",
      "writing: BW.29422..HHN.D.2021.041\n",
      "writing: BW.29422..HHE.D.2021.041\n",
      "writing: BW.29422..BHZ.D.2021.041\n",
      "writing: BW.29422..BHN.D.2021.041\n",
      "writing: BW.29422..BHE.D.2021.041\n",
      "29422 2021042\n"
     ]
    },
    {
     "name": "stderr",
     "output_type": "stream",
     "text": [
      "/home/andbro/anaconda3/envs/obs/lib/python3.7/site-packages/obspy/io/mseed/core.py:790: UserWarning: The encoding specified in trace.stats.mseed.encoding does not match the dtype of the data.\n",
      "A suitable encoding will be chosen.\n",
      "  warnings.warn(msg, UserWarning)\n"
     ]
    },
    {
     "name": "stdout",
     "output_type": "stream",
     "text": [
      "writing: BW.29422..HHZ.D.2021.042\n",
      "writing: BW.29422..HHN.D.2021.042\n",
      "writing: BW.29422..HHE.D.2021.042\n",
      "writing: BW.29422..BHZ.D.2021.042\n",
      "writing: BW.29422..BHN.D.2021.042\n",
      "writing: BW.29422..BHE.D.2021.042\n",
      "29422 2021043\n",
      "writing: BW.29422..HHZ.D.2021.043\n",
      "writing: BW.29422..HHN.D.2021.043\n",
      "writing: BW.29422..HHE.D.2021.043\n",
      "writing: BW.29422..BHZ.D.2021.043\n",
      "writing: BW.29422..BHN.D.2021.043\n",
      "writing: BW.29422..BHE.D.2021.043\n",
      "59811 2021041\n",
      "writing: BW.59811..HHZ.D.2021.041\n",
      "writing: BW.59811..HHN.D.2021.041\n",
      "writing: BW.59811..HHE.D.2021.041\n",
      "writing: BW.59811..BHZ.D.2021.041\n",
      "writing: BW.59811..BHN.D.2021.041\n",
      "writing: BW.59811..BHE.D.2021.041\n",
      "59811 2021042\n",
      "writing: BW.59811..HHZ.D.2021.042\n",
      "writing: BW.59811..HHN.D.2021.042\n",
      "writing: BW.59811..HHE.D.2021.042\n",
      "writing: BW.59811..BHZ.D.2021.042\n",
      "writing: BW.59811..BHN.D.2021.042\n",
      "writing: BW.59811..BHE.D.2021.042\n",
      "59811 2021043\n",
      "writing: BW.59811..HHZ.D.2021.043\n",
      "writing: BW.59811..HHN.D.2021.043\n",
      "writing: BW.59811..HHE.D.2021.043\n",
      "writing: BW.59811..BHZ.D.2021.043\n",
      "writing: BW.59811..BHN.D.2021.043\n",
      "writing: BW.59811..BHE.D.2021.043\n",
      "49507 2021041\n",
      "writing: BW.49507..HHZ.D.2021.041\n",
      "writing: BW.49507..HHN.D.2021.041\n",
      "writing: BW.49507..HHE.D.2021.041\n",
      "writing: BW.49507..BHZ.D.2021.041\n",
      "writing: BW.49507..BHN.D.2021.041\n",
      "writing: BW.49507..BHE.D.2021.041\n",
      "49507 2021042\n",
      "writing: BW.49507..HHZ.D.2021.042\n",
      "writing: BW.49507..HHN.D.2021.042\n",
      "writing: BW.49507..HHE.D.2021.042\n",
      "writing: BW.49507..BHZ.D.2021.042\n",
      "writing: BW.49507..BHN.D.2021.042\n",
      "writing: BW.49507..BHE.D.2021.042\n",
      "49507 2021043\n",
      "writing: BW.49507..HHZ.D.2021.043\n",
      "writing: BW.49507..HHN.D.2021.043\n",
      "writing: BW.49507..HHE.D.2021.043\n",
      "writing: BW.49507..BHZ.D.2021.043\n",
      "writing: BW.49507..BHN.D.2021.043\n",
      "writing: BW.49507..BHE.D.2021.043\n"
     ]
    }
   ],
   "source": [
    "for seis in sensors:\n",
    "    \n",
    "    for day in days:\n",
    "        \n",
    "        print(seis, day)\n",
    "        \n",
    "        st = __get_STS(seis, day, comp)\n",
    "\n",
    "#         inv_st = obspy.read_inventory(f\"{workdir}/{seis}.xml\", format='STATIONXML')\n",
    "\n",
    "\n",
    "#         st.remove_response( inventory=inv_st, \n",
    "#                             pre_filt=[0.001, 0.005, 45, 50], \n",
    "#                             output=\"VEL\",\n",
    "#                             water_level=60, \n",
    "#                             plot=False,\n",
    "#                            ) \n",
    "\n",
    "        __write_STS(st, workdir)\n",
    "\n",
    "        st.resample(20.0)\n",
    "\n",
    "        __write_STS(st, workdir)\n",
    "\n",
    "        del st"
   ]
  },
  {
   "cell_type": "code",
   "execution_count": 35,
   "id": "animated-format",
   "metadata": {
    "ExecuteTime": {
     "end_time": "2021-02-22T08:10:14.628471Z",
     "start_time": "2021-02-22T08:10:04.331268Z"
    },
    "code_folding": []
   },
   "outputs": [
    {
     "name": "stdout",
     "output_type": "stream",
     "text": [
      "41 HHZ\n",
      "41 HHN\n",
      "41 HHE\n",
      "42 HHZ\n",
      "42 HHN\n",
      "42 HHE\n",
      "43 HHZ\n",
      "43 HHN\n",
      "43 HHE\n"
     ]
    }
   ],
   "source": [
    "\n",
    "# for doy in [43, 44, 45]:\n",
    "for doy in [41, 42, 43]:\n",
    "    \n",
    "    horizon = obspy.core.stream.Stream()\n",
    "\n",
    "    for i in ['HHZ', 'HHN', 'HHE']:\n",
    "        print(doy, i)\n",
    "        \n",
    "        hor = obspy.read(f'{workdir}/Horizon/raw/{i}.D/BW.HUDD..{i}.D.2021.0{doy}')\n",
    "        horizon.append(hor[0])\n",
    "\n",
    "    horizon.merge()\n",
    "\n",
    "\n",
    "#     inv_horizon = obspy.read_inventory(f\"{workdir}/horizon.xml\", format='STATIONXML')\n",
    "\n",
    "#     pre_filt = [0.001, 0.005, 45, 50]\n",
    "\n",
    "#     horizon.remove_response(inventory=inv_horizon, \n",
    "#                             pre_filt=pre_filt, \n",
    "#                             output=\"VEL\",\n",
    "#                             water_level=60, \n",
    "#                             plot=False,\n",
    "#                            )  \n",
    "    \n",
    "    \n",
    "\n",
    "    for tr in horizon:\n",
    "        comp = tr.stats.channel[-1]\n",
    "        p = f\"{workdir}/2021/BW/horizon/HH{comp}.D/BW.horizon..HH{comp}.D.{year}.0{doy}\"\n",
    "\n",
    "        tr.stats.station = \"horizon\"\n",
    "        tr.write(p, format=\"MSEED\")\n",
    "\n",
    "#     __write_STS(horizon, workdir)\n",
    "\n",
    "    ## write also BH* channels (=20HZ)\n",
    "    horizon.resample(20.0)\n",
    "\n",
    "    \n",
    "    for tr in horizon:\n",
    "        comp = tr.stats.channel[-1]\n",
    "        p = f\"{workdir}/2021/BW/horizon/BH{comp}.D/BW.horizon..BH{comp}.D.{year}.0{doy}\"\n",
    "        tr.stats.station = \"horizon\"\n",
    "        tr.write(p, format=\"MSEED\")\n",
    "\n",
    "#     __write_STS(horizon, workdir)\n",
    "\n",
    "#     del horizon"
   ]
  },
  {
   "cell_type": "code",
   "execution_count": 28,
   "id": "continuing-madonna",
   "metadata": {
    "ExecuteTime": {
     "end_time": "2021-02-22T08:01:59.696397Z",
     "start_time": "2021-02-22T08:01:58.773292Z"
    }
   },
   "outputs": [
    {
     "name": "stdout",
     "output_type": "stream",
     "text": [
      "BW.horizon..HHE | 2021-02-12T00:00:00.000000Z - 2021-02-12T23:59:59.995000Z | 200.0 Hz, 17280000 samples\n",
      "BW.horizon..HHN | 2021-02-12T00:00:00.000000Z - 2021-02-12T23:59:59.995000Z | 200.0 Hz, 17280000 samples\n",
      "BW.horizon..HHZ | 2021-02-12T00:00:00.000000Z - 2021-02-12T23:59:59.995000Z | 200.0 Hz, 17280000 samples\n"
     ]
    }
   ],
   "source": [
    "for tr in horizon:\n",
    "    print(tr)\n",
    "    tr.stats.station = \"horizon\"\n",
    "    tr.write(pout, format=\"MSEED\")"
   ]
  },
  {
   "cell_type": "code",
   "execution_count": 5,
   "id": "labeled-wellington",
   "metadata": {
    "ExecuteTime": {
     "end_time": "2021-02-22T07:46:59.521049Z",
     "start_time": "2021-02-22T07:46:59.437888Z"
    },
    "code_folding": [
     9
    ]
   },
   "outputs": [
    {
     "ename": "FileNotFoundError",
     "evalue": "[Errno 2] No such file or directory: '/home/andbro/Desktop/Huddle_Test/Huddle_Test_2/2021/BW/horizon/HHZ.D/BW.HUDD..HHZ.D.2021.041'",
     "output_type": "error",
     "traceback": [
      "\u001b[0;31m---------------------------------------------------------------------------\u001b[0m",
      "\u001b[0;31mFileNotFoundError\u001b[0m                         Traceback (most recent call last)",
      "\u001b[0;32m<ipython-input-5-521c25d636ae>\u001b[0m in \u001b[0;36m<module>\u001b[0;34m\u001b[0m\n\u001b[1;32m      9\u001b[0m         \u001b[0mpout\u001b[0m \u001b[0;34m=\u001b[0m \u001b[0;34mf\"/home/andbro/Desktop/Huddle_Test/Huddle_Test_2/2021/BW/horizon/BH{comp}.D/BW.horizon..BH{comp}.D.{year}.{doy}\"\u001b[0m\u001b[0;34m\u001b[0m\u001b[0;34m\u001b[0m\u001b[0m\n\u001b[1;32m     10\u001b[0m \u001b[0;34m\u001b[0m\u001b[0m\n\u001b[0;32m---> 11\u001b[0;31m         \u001b[0mst\u001b[0m \u001b[0;34m=\u001b[0m \u001b[0mobspy\u001b[0m\u001b[0;34m.\u001b[0m\u001b[0mread\u001b[0m\u001b[0;34m(\u001b[0m\u001b[0mpin\u001b[0m\u001b[0;34m)\u001b[0m\u001b[0;34m\u001b[0m\u001b[0;34m\u001b[0m\u001b[0m\n\u001b[0m\u001b[1;32m     12\u001b[0m \u001b[0;34m\u001b[0m\u001b[0m\n\u001b[1;32m     13\u001b[0m         \u001b[0mst\u001b[0m\u001b[0;34m.\u001b[0m\u001b[0mmerge\u001b[0m\u001b[0;34m(\u001b[0m\u001b[0;34m)\u001b[0m\u001b[0;34m\u001b[0m\u001b[0;34m\u001b[0m\u001b[0m\n",
      "\u001b[0;32m<decorator-gen-147>\u001b[0m in \u001b[0;36mread\u001b[0;34m(pathname_or_url, format, headonly, starttime, endtime, nearest_sample, dtype, apply_calib, check_compression, **kwargs)\u001b[0m\n",
      "\u001b[0;32m~/anaconda3/envs/obs/lib/python3.7/site-packages/obspy/core/util/decorator.py\u001b[0m in \u001b[0;36m_map_example_filename\u001b[0;34m(func, *args, **kwargs)\u001b[0m\n\u001b[1;32m    298\u001b[0m                         \u001b[0;32mexcept\u001b[0m \u001b[0mIOError\u001b[0m\u001b[0;34m:\u001b[0m\u001b[0;34m\u001b[0m\u001b[0;34m\u001b[0m\u001b[0m\n\u001b[1;32m    299\u001b[0m                             \u001b[0;32mpass\u001b[0m\u001b[0;34m\u001b[0m\u001b[0;34m\u001b[0m\u001b[0m\n\u001b[0;32m--> 300\u001b[0;31m         \u001b[0;32mreturn\u001b[0m \u001b[0mfunc\u001b[0m\u001b[0;34m(\u001b[0m\u001b[0;34m*\u001b[0m\u001b[0margs\u001b[0m\u001b[0;34m,\u001b[0m \u001b[0;34m**\u001b[0m\u001b[0mkwargs\u001b[0m\u001b[0;34m)\u001b[0m\u001b[0;34m\u001b[0m\u001b[0;34m\u001b[0m\u001b[0m\n\u001b[0m\u001b[1;32m    301\u001b[0m     \u001b[0;32mreturn\u001b[0m \u001b[0m_map_example_filename\u001b[0m\u001b[0;34m\u001b[0m\u001b[0;34m\u001b[0m\u001b[0m\n\u001b[1;32m    302\u001b[0m \u001b[0;34m\u001b[0m\u001b[0m\n",
      "\u001b[0;32m~/anaconda3/envs/obs/lib/python3.7/site-packages/obspy/core/stream.py\u001b[0m in \u001b[0;36mread\u001b[0;34m(pathname_or_url, format, headonly, starttime, endtime, nearest_sample, dtype, apply_calib, check_compression, **kwargs)\u001b[0m\n\u001b[1;32m    210\u001b[0m         \u001b[0mst\u001b[0m \u001b[0;34m=\u001b[0m \u001b[0m_create_example_stream\u001b[0m\u001b[0;34m(\u001b[0m\u001b[0mheadonly\u001b[0m\u001b[0;34m=\u001b[0m\u001b[0mheadonly\u001b[0m\u001b[0;34m)\u001b[0m\u001b[0;34m\u001b[0m\u001b[0;34m\u001b[0m\u001b[0m\n\u001b[1;32m    211\u001b[0m     \u001b[0;32melse\u001b[0m\u001b[0;34m:\u001b[0m\u001b[0;34m\u001b[0m\u001b[0;34m\u001b[0m\u001b[0m\n\u001b[0;32m--> 212\u001b[0;31m         \u001b[0mst\u001b[0m \u001b[0;34m=\u001b[0m \u001b[0m_generic_reader\u001b[0m\u001b[0;34m(\u001b[0m\u001b[0mpathname_or_url\u001b[0m\u001b[0;34m,\u001b[0m \u001b[0m_read\u001b[0m\u001b[0;34m,\u001b[0m \u001b[0;34m**\u001b[0m\u001b[0mkwargs\u001b[0m\u001b[0;34m)\u001b[0m\u001b[0;34m\u001b[0m\u001b[0;34m\u001b[0m\u001b[0m\n\u001b[0m\u001b[1;32m    213\u001b[0m \u001b[0;34m\u001b[0m\u001b[0m\n\u001b[1;32m    214\u001b[0m     \u001b[0;32mif\u001b[0m \u001b[0mlen\u001b[0m\u001b[0;34m(\u001b[0m\u001b[0mst\u001b[0m\u001b[0;34m)\u001b[0m \u001b[0;34m==\u001b[0m \u001b[0;36m0\u001b[0m\u001b[0;34m:\u001b[0m\u001b[0;34m\u001b[0m\u001b[0;34m\u001b[0m\u001b[0m\n",
      "\u001b[0;32m~/anaconda3/envs/obs/lib/python3.7/site-packages/obspy/core/util/base.py\u001b[0m in \u001b[0;36m_generic_reader\u001b[0;34m(pathname_or_url, callback_func, **kwargs)\u001b[0m\n\u001b[1;32m    698\u001b[0m                 \u001b[0;32mraise\u001b[0m \u001b[0mException\u001b[0m\u001b[0;34m(\u001b[0m\u001b[0;34m\"No file matching file pattern: %s\"\u001b[0m \u001b[0;34m%\u001b[0m \u001b[0mpathname\u001b[0m\u001b[0;34m)\u001b[0m\u001b[0;34m\u001b[0m\u001b[0;34m\u001b[0m\u001b[0m\n\u001b[1;32m    699\u001b[0m             \u001b[0;32melif\u001b[0m \u001b[0;32mnot\u001b[0m \u001b[0mglob\u001b[0m\u001b[0;34m.\u001b[0m\u001b[0mhas_magic\u001b[0m\u001b[0;34m(\u001b[0m\u001b[0mpathname\u001b[0m\u001b[0;34m)\u001b[0m \u001b[0;32mand\u001b[0m \u001b[0;32mnot\u001b[0m \u001b[0mos\u001b[0m\u001b[0;34m.\u001b[0m\u001b[0mpath\u001b[0m\u001b[0;34m.\u001b[0m\u001b[0misfile\u001b[0m\u001b[0;34m(\u001b[0m\u001b[0mpathname\u001b[0m\u001b[0;34m)\u001b[0m\u001b[0;34m:\u001b[0m\u001b[0;34m\u001b[0m\u001b[0;34m\u001b[0m\u001b[0m\n\u001b[0;32m--> 700\u001b[0;31m                 \u001b[0;32mraise\u001b[0m \u001b[0mIOError\u001b[0m\u001b[0;34m(\u001b[0m\u001b[0;36m2\u001b[0m\u001b[0;34m,\u001b[0m \u001b[0;34m\"No such file or directory\"\u001b[0m\u001b[0;34m,\u001b[0m \u001b[0mpathname\u001b[0m\u001b[0;34m)\u001b[0m\u001b[0;34m\u001b[0m\u001b[0;34m\u001b[0m\u001b[0m\n\u001b[0m\u001b[1;32m    701\u001b[0m \u001b[0;34m\u001b[0m\u001b[0m\n\u001b[1;32m    702\u001b[0m         \u001b[0mgeneric\u001b[0m \u001b[0;34m=\u001b[0m \u001b[0mcallback_func\u001b[0m\u001b[0;34m(\u001b[0m\u001b[0mpathnames\u001b[0m\u001b[0;34m[\u001b[0m\u001b[0;36m0\u001b[0m\u001b[0;34m]\u001b[0m\u001b[0;34m,\u001b[0m \u001b[0;34m**\u001b[0m\u001b[0mkwargs\u001b[0m\u001b[0;34m)\u001b[0m\u001b[0;34m\u001b[0m\u001b[0;34m\u001b[0m\u001b[0m\n",
      "\u001b[0;31mFileNotFoundError\u001b[0m: [Errno 2] No such file or directory: '/home/andbro/Desktop/Huddle_Test/Huddle_Test_2/2021/BW/horizon/HHZ.D/BW.HUDD..HHZ.D.2021.041'"
     ]
    }
   ],
   "source": [
    "year='2021'\n",
    "doy='045'\n",
    "comp=\"Z\"\n",
    "\n",
    "for comp in ['Z', 'N','E']:\n",
    "    for doy in ['041','042','043']:\n",
    "\n",
    "        pin = f\"/home/andbro/Desktop/Huddle_Test/Huddle_Test_2/2021/BW/horizon/HH{comp}.D/BW.horizon..HH{comp}.D.{year}.{doy}\"\n",
    "        pout = f\"/home/andbro/Desktop/Huddle_Test/Huddle_Test_2/2021/BW/horizon/BH{comp}.D/BW.horizon..BH{comp}.D.{year}.{doy}\"\n",
    "\n",
    "        st = obspy.read(pin)\n",
    "\n",
    "        st.merge()\n",
    "        st.resample(20.0)\n",
    "\n",
    "        for tr in st:\n",
    "            tr.write(pout, format=\"MSEED\")\n",
    "\n",
    "        del st"
   ]
  },
  {
   "cell_type": "code",
   "execution_count": 20,
   "id": "quality-treasure",
   "metadata": {
    "ExecuteTime": {
     "end_time": "2021-02-17T18:41:25.668288Z",
     "start_time": "2021-02-17T18:41:25.645750Z"
    }
   },
   "outputs": [
    {
     "data": {
      "text/plain": [
       "1 Trace(s) in Stream:\n",
       "BW.29422..BHZ | 2021-02-10T14:21:49.000000Z - 2021-02-10T23:59:59.950000Z | 20.0 Hz, 693820 samples"
      ]
     },
     "execution_count": 20,
     "metadata": {},
     "output_type": "execute_result"
    }
   ],
   "source": [
    "st = obspy.read(f\"/home/andbro/Desktop/Huddle_Test/Huddle_Test_1/2021/BW/29422/BHZ.D/BW.29422..BHZ.D.2021.041\")\n",
    "st"
   ]
  },
  {
   "cell_type": "code",
   "execution_count": null,
   "id": "approximate-applicant",
   "metadata": {},
   "outputs": [],
   "source": []
  }
 ],
 "metadata": {
  "kernelspec": {
   "display_name": "Python 3",
   "language": "python",
   "name": "python3"
  },
  "language_info": {
   "codemirror_mode": {
    "name": "ipython",
    "version": 3
   },
   "file_extension": ".py",
   "mimetype": "text/x-python",
   "name": "python",
   "nbconvert_exporter": "python",
   "pygments_lexer": "ipython3",
   "version": "3.7.8"
  }
 },
 "nbformat": 4,
 "nbformat_minor": 5
}
