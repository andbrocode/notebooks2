{
 "cells": [
  {
   "cell_type": "markdown",
   "metadata": {},
   "source": [
    "## Plot Overview of Quality Data over an entire Year"
   ]
  },
  {
   "cell_type": "markdown",
   "metadata": {
    "ExecuteTime": {
     "end_time": "2021-04-12T08:06:39.567421Z",
     "start_time": "2021-04-12T08:06:39.563729Z"
    }
   },
   "source": [
    "### Load Libraries"
   ]
  },
  {
   "cell_type": "code",
   "execution_count": 26,
   "metadata": {
    "ExecuteTime": {
     "end_time": "2021-04-12T08:13:21.608783Z",
     "start_time": "2021-04-12T08:13:21.602687Z"
    }
   },
   "outputs": [],
   "source": [
    "import matplotlib.pyplot as plt\n",
    "import os\n",
    "\n",
    "\n",
    "from numpy import arange, array, cumsum\n",
    "from pandas import read_csv, DataFrame\n",
    "from numpy import zeros, median\n",
    "from obspy import UTCDateTime\n",
    "from numpy import isnan\n",
    "from obspy import UTCDateTime"
   ]
  },
  {
   "cell_type": "markdown",
   "metadata": {
    "ExecuteTime": {
     "end_time": "2021-04-12T08:06:54.452983Z",
     "start_time": "2021-04-12T08:06:54.450299Z"
    }
   },
   "source": [
    "### Configurations"
   ]
  },
  {
   "cell_type": "code",
   "execution_count": 27,
   "metadata": {
    "ExecuteTime": {
     "end_time": "2021-04-12T08:13:21.989166Z",
     "start_time": "2021-04-12T08:13:21.984000Z"
    }
   },
   "outputs": [],
   "source": [
    "save = True \n",
    "\n",
    "write_statistics = False\n",
    "\n",
    "year = '2019'\n",
    "cha  = 'BJZ'\n",
    "mode = 'runq'\n",
    "\n",
    "path = f'/home/andbro/Documents/ROMY/QualityCheck/{mode}/logs/'\n",
    "path2plot = f'/home/andbro/Documents/ROMY/QualityCheck/{mode}/'\n",
    "\n",
    "ifile = f'{year}_{cha}_overview'\n",
    "\n",
    "sgnc_freq = {'Z': 551.68, 'U': 302.96, 'V': 448.09,'W': 448.09}"
   ]
  },
  {
   "cell_type": "markdown",
   "metadata": {},
   "source": [
    "### Load Data"
   ]
  },
  {
   "cell_type": "code",
   "execution_count": 28,
   "metadata": {
    "ExecuteTime": {
     "end_time": "2021-04-12T08:13:22.396406Z",
     "start_time": "2021-04-12T08:13:22.338280Z"
    },
    "scrolled": true
   },
   "outputs": [
    {
     "name": "stdout",
     "output_type": "stream",
     "text": [
      "there are: 2 gaps\n"
     ]
    },
    {
     "data": {
      "text/html": [
       "<div>\n",
       "<style scoped>\n",
       "    .dataframe tbody tr th:only-of-type {\n",
       "        vertical-align: middle;\n",
       "    }\n",
       "\n",
       "    .dataframe tbody tr th {\n",
       "        vertical-align: top;\n",
       "    }\n",
       "\n",
       "    .dataframe thead th {\n",
       "        text-align: right;\n",
       "    }\n",
       "</style>\n",
       "<table border=\"1\" class=\"dataframe\">\n",
       "  <thead>\n",
       "    <tr style=\"text-align: right;\">\n",
       "      <th></th>\n",
       "      <th>date</th>\n",
       "      <th>doy</th>\n",
       "      <th>total_samples</th>\n",
       "      <th>Q0</th>\n",
       "      <th>Q1</th>\n",
       "      <th>Q2</th>\n",
       "      <th>dt_med</th>\n",
       "      <th>frequency_med</th>\n",
       "      <th>dt_difference_of_ratios</th>\n",
       "      <th>bad_areas</th>\n",
       "      <th>contrast</th>\n",
       "      <th>dcontrast</th>\n",
       "    </tr>\n",
       "  </thead>\n",
       "  <tbody>\n",
       "    <tr>\n",
       "      <th>0</th>\n",
       "      <td>2019-01-01</td>\n",
       "      <td>1</td>\n",
       "      <td>4275</td>\n",
       "      <td>4242</td>\n",
       "      <td>22</td>\n",
       "      <td>11</td>\n",
       "      <td>NaN</td>\n",
       "      <td>553.5</td>\n",
       "      <td>1.836340</td>\n",
       "      <td>5</td>\n",
       "      <td>0.856875</td>\n",
       "      <td>NaN</td>\n",
       "    </tr>\n",
       "    <tr>\n",
       "      <th>1</th>\n",
       "      <td>2019-01-02</td>\n",
       "      <td>2</td>\n",
       "      <td>4275</td>\n",
       "      <td>4225</td>\n",
       "      <td>36</td>\n",
       "      <td>14</td>\n",
       "      <td>NaN</td>\n",
       "      <td>553.5</td>\n",
       "      <td>1.872706</td>\n",
       "      <td>5</td>\n",
       "      <td>0.864587</td>\n",
       "      <td>NaN</td>\n",
       "    </tr>\n",
       "    <tr>\n",
       "      <th>2</th>\n",
       "      <td>2019-01-03</td>\n",
       "      <td>3</td>\n",
       "      <td>4275</td>\n",
       "      <td>4208</td>\n",
       "      <td>39</td>\n",
       "      <td>28</td>\n",
       "      <td>NaN</td>\n",
       "      <td>553.5</td>\n",
       "      <td>1.905060</td>\n",
       "      <td>9</td>\n",
       "      <td>0.866862</td>\n",
       "      <td>NaN</td>\n",
       "    </tr>\n",
       "    <tr>\n",
       "      <th>3</th>\n",
       "      <td>2019-01-04</td>\n",
       "      <td>4</td>\n",
       "      <td>4275</td>\n",
       "      <td>4227</td>\n",
       "      <td>31</td>\n",
       "      <td>17</td>\n",
       "      <td>NaN</td>\n",
       "      <td>553.5</td>\n",
       "      <td>1.865775</td>\n",
       "      <td>7</td>\n",
       "      <td>0.852359</td>\n",
       "      <td>NaN</td>\n",
       "    </tr>\n",
       "    <tr>\n",
       "      <th>4</th>\n",
       "      <td>2019-01-05</td>\n",
       "      <td>5</td>\n",
       "      <td>4275</td>\n",
       "      <td>4228</td>\n",
       "      <td>23</td>\n",
       "      <td>24</td>\n",
       "      <td>NaN</td>\n",
       "      <td>553.5</td>\n",
       "      <td>1.685421</td>\n",
       "      <td>8</td>\n",
       "      <td>0.817684</td>\n",
       "      <td>NaN</td>\n",
       "    </tr>\n",
       "    <tr>\n",
       "      <th>...</th>\n",
       "      <td>...</td>\n",
       "      <td>...</td>\n",
       "      <td>...</td>\n",
       "      <td>...</td>\n",
       "      <td>...</td>\n",
       "      <td>...</td>\n",
       "      <td>...</td>\n",
       "      <td>...</td>\n",
       "      <td>...</td>\n",
       "      <td>...</td>\n",
       "      <td>...</td>\n",
       "      <td>...</td>\n",
       "    </tr>\n",
       "    <tr>\n",
       "      <th>358</th>\n",
       "      <td>2019-12-27</td>\n",
       "      <td>361</td>\n",
       "      <td>4275</td>\n",
       "      <td>4074</td>\n",
       "      <td>201</td>\n",
       "      <td>0</td>\n",
       "      <td>NaN</td>\n",
       "      <td>553.5</td>\n",
       "      <td>1.242843</td>\n",
       "      <td>0</td>\n",
       "      <td>0.471340</td>\n",
       "      <td>NaN</td>\n",
       "    </tr>\n",
       "    <tr>\n",
       "      <th>359</th>\n",
       "      <td>2019-12-28</td>\n",
       "      <td>362</td>\n",
       "      <td>4275</td>\n",
       "      <td>3970</td>\n",
       "      <td>277</td>\n",
       "      <td>28</td>\n",
       "      <td>NaN</td>\n",
       "      <td>553.5</td>\n",
       "      <td>1.255972</td>\n",
       "      <td>10</td>\n",
       "      <td>0.470542</td>\n",
       "      <td>NaN</td>\n",
       "    </tr>\n",
       "    <tr>\n",
       "      <th>360</th>\n",
       "      <td>2019-12-29</td>\n",
       "      <td>363</td>\n",
       "      <td>4275</td>\n",
       "      <td>3910</td>\n",
       "      <td>341</td>\n",
       "      <td>24</td>\n",
       "      <td>NaN</td>\n",
       "      <td>553.5</td>\n",
       "      <td>1.265769</td>\n",
       "      <td>12</td>\n",
       "      <td>0.470187</td>\n",
       "      <td>NaN</td>\n",
       "    </tr>\n",
       "    <tr>\n",
       "      <th>361</th>\n",
       "      <td>2019-12-30</td>\n",
       "      <td>364</td>\n",
       "      <td>4275</td>\n",
       "      <td>3891</td>\n",
       "      <td>323</td>\n",
       "      <td>61</td>\n",
       "      <td>NaN</td>\n",
       "      <td>553.5</td>\n",
       "      <td>1.262472</td>\n",
       "      <td>20</td>\n",
       "      <td>0.469161</td>\n",
       "      <td>NaN</td>\n",
       "    </tr>\n",
       "    <tr>\n",
       "      <th>362</th>\n",
       "      <td>2019-12-31</td>\n",
       "      <td>365</td>\n",
       "      <td>4275</td>\n",
       "      <td>3809</td>\n",
       "      <td>342</td>\n",
       "      <td>124</td>\n",
       "      <td>NaN</td>\n",
       "      <td>553.5</td>\n",
       "      <td>1.258460</td>\n",
       "      <td>59</td>\n",
       "      <td>0.468004</td>\n",
       "      <td>NaN</td>\n",
       "    </tr>\n",
       "  </tbody>\n",
       "</table>\n",
       "<p>363 rows × 12 columns</p>\n",
       "</div>"
      ],
      "text/plain": [
       "           date  doy  total_samples    Q0   Q1   Q2  dt_med  frequency_med  \\\n",
       "0    2019-01-01    1           4275  4242   22   11     NaN          553.5   \n",
       "1    2019-01-02    2           4275  4225   36   14     NaN          553.5   \n",
       "2    2019-01-03    3           4275  4208   39   28     NaN          553.5   \n",
       "3    2019-01-04    4           4275  4227   31   17     NaN          553.5   \n",
       "4    2019-01-05    5           4275  4228   23   24     NaN          553.5   \n",
       "..          ...  ...            ...   ...  ...  ...     ...            ...   \n",
       "358  2019-12-27  361           4275  4074  201    0     NaN          553.5   \n",
       "359  2019-12-28  362           4275  3970  277   28     NaN          553.5   \n",
       "360  2019-12-29  363           4275  3910  341   24     NaN          553.5   \n",
       "361  2019-12-30  364           4275  3891  323   61     NaN          553.5   \n",
       "362  2019-12-31  365           4275  3809  342  124     NaN          553.5   \n",
       "\n",
       "     dt_difference_of_ratios  bad_areas  contrast  dcontrast  \n",
       "0                   1.836340          5  0.856875        NaN  \n",
       "1                   1.872706          5  0.864587        NaN  \n",
       "2                   1.905060          9  0.866862        NaN  \n",
       "3                   1.865775          7  0.852359        NaN  \n",
       "4                   1.685421          8  0.817684        NaN  \n",
       "..                       ...        ...       ...        ...  \n",
       "358                 1.242843          0  0.471340        NaN  \n",
       "359                 1.255972         10  0.470542        NaN  \n",
       "360                 1.265769         12  0.470187        NaN  \n",
       "361                 1.262472         20  0.469161        NaN  \n",
       "362                 1.258460         59  0.468004        NaN  \n",
       "\n",
       "[363 rows x 12 columns]"
      ]
     },
     "execution_count": 28,
     "metadata": {},
     "output_type": "execute_result"
    }
   ],
   "source": [
    "## read data to dataframe\n",
    "data = read_csv(path+ifile, delimiter=\",\")\n",
    "\n",
    "\n",
    "## sort data frame in case any mixup occured\n",
    "data = data.sort_values(by=['doy'], ascending=True, axis=0)\n",
    "\n",
    "\n",
    "## check for doubles in dataframe\n",
    "doubles = 0\n",
    "if data.doy.duplicated().any():\n",
    "    doubles +=1\n",
    "if doubles != 0:\n",
    "    print(f\"\\n {doubles} doubles found\")\n",
    "    sys.exit\n",
    "\n",
    "    \n",
    "## checking for data gaps in data frame\n",
    "gaps = [i for i in range(1, max_doys) if i not in list(data.doy)] \n",
    "print(f\"there are: {len(gaps)} gaps\")\n",
    "    \n",
    "    \n",
    "## calulate maximal days of the set year \n",
    "max_doys = UTCDateTime(f\"{year}-12-31\").julday\n",
    "\n",
    "## show dataframe\n",
    "data"
   ]
  },
  {
   "cell_type": "markdown",
   "metadata": {
    "ExecuteTime": {
     "end_time": "2021-04-12T08:09:02.414381Z",
     "start_time": "2021-04-12T08:09:02.412792Z"
    }
   },
   "source": [
    "## Calculate shares of quality levels"
   ]
  },
  {
   "cell_type": "code",
   "execution_count": 29,
   "metadata": {
    "ExecuteTime": {
     "end_time": "2021-04-12T08:13:22.667863Z",
     "start_time": "2021-04-12T08:13:22.658919Z"
    }
   },
   "outputs": [],
   "source": [
    "max_doys_of_year = UTCDateTime(f\"{year}-12-31\").julday\n",
    "\n",
    "max_samples_per_day = max(data.total_samples)\n",
    "\n",
    "q0p = data.Q0/max_samples_per_day*100\n",
    "q1p = data.Q1/max_samples_per_day*100\n",
    "q2p = data.Q2/max_samples_per_day*100"
   ]
  },
  {
   "cell_type": "markdown",
   "metadata": {},
   "source": [
    "Define lables for months"
   ]
  },
  {
   "cell_type": "code",
   "execution_count": 30,
   "metadata": {
    "ExecuteTime": {
     "end_time": "2021-04-12T08:13:23.516229Z",
     "start_time": "2021-04-12T08:13:23.511814Z"
    }
   },
   "outputs": [],
   "source": [
    "month_names = ['Jan', 'Feb', 'Mar', 'Apr', 'May', 'Jun', 'Jul', 'Aug','Sep', 'Oct', 'Nov', 'Dec']\n",
    "months = [0, 31, 28, 31, 30, 31, 30, 31, 31, 30 ,31, 30]\n",
    "m_cum = cumsum(months)+1\n"
   ]
  },
  {
   "cell_type": "markdown",
   "metadata": {},
   "source": [
    "# Check with Log File"
   ]
  },
  {
   "cell_type": "code",
   "execution_count": 31,
   "metadata": {
    "ExecuteTime": {
     "end_time": "2021-04-12T08:13:24.112537Z",
     "start_time": "2021-04-12T08:13:24.105177Z"
    }
   },
   "outputs": [
    {
     "name": "stdout",
     "output_type": "stream",
     "text": [
      "no log file found !\n"
     ]
    }
   ],
   "source": [
    "log_no_data = f\"{path}{year}-{cha}.log\"\n",
    "\n",
    "if os.path.isfile(f\"{path}{year}-{cha}.log\"):\n",
    "    \n",
    "    no_data = read_csv(log_no_data, header=0, names =[\"Date\", \"Channel\", \"Comment\"])\n",
    "\n",
    "    doy = []\n",
    "    for i in no_data.Date.to_list():\n",
    "        doy.append(UTCDateTime(i).julday)\n",
    "\n",
    "    no_data[\"doy\"] = doy    \n",
    "    \n",
    "else:\n",
    "    print(\"no log file found !\")\n",
    "    no_data = DataFrame()\n",
    "    no_data[\"doy\"] = []"
   ]
  },
  {
   "cell_type": "markdown",
   "metadata": {},
   "source": [
    "# Plot Quality Overview"
   ]
  },
  {
   "cell_type": "code",
   "execution_count": 41,
   "metadata": {
    "ExecuteTime": {
     "end_time": "2021-04-12T08:19:37.695579Z",
     "start_time": "2021-04-12T08:19:34.308475Z"
    },
    "code_folding": [
     1
    ]
   },
   "outputs": [
    {
     "data": {
      "image/png": "[encoded data removed]",
      "text/plain": [
       "<Figure size 1080x216 with 1 Axes>"
      ]
     },
     "metadata": {
      "needs_background": "light"
     },
     "output_type": "display_data"
    }
   ],
   "source": [
    "\n",
    "def __makeplot_quality_overview():\n",
    "\n",
    "    fig, ax = plt.subplots(1, 1, figsize=(15,3))\n",
    "\n",
    "    font=16\n",
    "\n",
    "    width=1.0\n",
    "    ax.bar(data.doy, q0p, width, color=\"forestgreen\", alpha=0.7, label=\"Q0\", edgecolor=None, aa=True)\n",
    "    ax.bar(data.doy, q1p, width,bottom=q0p, color=\"gold\", label=\"Q1\", edgecolor=None, aa=True)\n",
    "    ax.bar(data.doy, q2p, width,bottom=q0p+q1p, color=\"darkred\", alpha=0.8, label=\"Q2\", edgecolor=None, aa=True)\n",
    "\n",
    "    # ax.plot(data.doy, data.bad_areas/data.Q2*100, zorder=1, color='black', ls='--', lw=0.8)\n",
    "\n",
    "\n",
    "    for gap in gaps:\n",
    "        ax.bar(gap, 100, width=width, color=\"grey\", alpha=0.3, zorder=2, aa=True)\n",
    "\n",
    "    # for no in no_data.doy:\n",
    "    #     ax.bar(no, 100, width=width-0.1, color=\"black\", alpha=0.3, zorder=2, aa=True)\n",
    "\n",
    "    ax.set_ylim(0,100)\n",
    "    ax.set_xticks(arange(0,max_doys,1), minor=True)\n",
    "    ax.set_xticks(m_cum)\n",
    "    ax.set_xticklabels(month_names, rotation=20)\n",
    "\n",
    "    ax.axhline(95, color='black', ls=':', label=\"95%\")\n",
    "\n",
    "    ax.set_xlim(1, max_doys)\n",
    "    ax.set_ylabel(\"daily share (%)\", fontsize=font+2)\n",
    "\n",
    "    ax.tick_params(axis='both', labelsize=font-2)\n",
    "\n",
    "    ax.set_title(f\"Quality Overview ROMY.{cha} {year}\", fontsize=font+4)\n",
    "\n",
    "    ax.legend(fontsize=font-3, loc=\"lower right\")\n",
    "\n",
    "\n",
    "    plt.show();\n",
    "    return fig\n",
    "\n",
    "\n",
    "## _________________________________________\n",
    "\n",
    "fig = __makeplot_quality_overview()\n",
    "\n",
    "\n",
    "if save:\n",
    "    fig.savefig(path2plot+\"figs/\"+f\"{year}_{cha}_{mode}_statistics_overview.png\", \n",
    "                format=\"png\", \n",
    "                dpi=300,\n",
    "               )"
   ]
  },
  {
   "cell_type": "code",
   "execution_count": 79,
   "metadata": {
    "ExecuteTime": {
     "end_time": "2021-04-12T08:37:16.571363Z",
     "start_time": "2021-04-12T08:37:14.362641Z"
    },
    "code_folding": []
   },
   "outputs": [
    {
     "data": {
      "image/png": "[encoded data removed]",
      "text/plain": [
       "<Figure size 1080x216 with 2 Axes>"
      ]
     },
     "metadata": {
      "needs_background": "light"
     },
     "output_type": "display_data"
    }
   ],
   "source": [
    "\n",
    "def __makeplot_quality_overview_with_frequency():\n",
    "\n",
    "    fig, ax = plt.subplots(1, 1, figsize=(15,3))\n",
    "\n",
    "    font=15\n",
    "\n",
    "    width=1.0\n",
    "    ax.bar(data.doy, q0p, width, color=\"forestgreen\", alpha=0.7, label=\"Q0\", edgecolor=None, aa=True, zorder=1)\n",
    "    ax.bar(data.doy, q1p, width,bottom=q0p, color=\"gold\", label=\"Q1\", edgecolor=None, aa=True, zorder=1)\n",
    "    ax.bar(data.doy, q2p, width,bottom=q0p+q1p, color=\"darkred\", alpha=0.8, label=\"Q2\", edgecolor=None, aa=True, zorder=1)\n",
    "\n",
    "    # ax.plot(data.doy, data.bad_areas/data.Q2*100, zorder=1, color='black', ls='--', lw=0.8)\n",
    "\n",
    "\n",
    "    for gap in gaps:\n",
    "        ax.bar(gap, 100, width=width, color=\"grey\", alpha=0.3, zorder=2, aa=True)\n",
    "\n",
    "    # for no in no_data.doy:\n",
    "    #     ax.bar(no, 100, width=width, color=\"black\", alpha=0.3, zorder=2, aa=True)\n",
    "\n",
    "    ax.set_ylim(0,100)\n",
    "    ax.set_xticks(m_cum)\n",
    "    ax.set_xticklabels(month_names, rotation=20)\n",
    "\n",
    "#     ax.axhline(95, color='black', ls=':', label=\"95%\")\n",
    "\n",
    "    ax.set_xlim(1, max_doys)\n",
    "    ax.set_ylabel(\"daily share (%)\", fontsize=font+2)\n",
    "\n",
    "    ax.tick_params(axis='both', labelsize=font-2)\n",
    "\n",
    "    ax.set_title(f\"Quality Overview ROMY.{cha} {year}\", fontsize=font+4)\n",
    "\n",
    "    ax.legend(fontsize=font-3, loc=\"lower right\")\n",
    "\n",
    "\n",
    "    ## ____________________________________\n",
    "    ## 2. y-axis \n",
    "    \n",
    "    ax2 = ax.twinx()\n",
    "\n",
    "    ax2.plot(data.doy, data.frequency_med, color=\"darkblue\", ls='-', alpha=0.7, zorder=2)\n",
    "\n",
    "    ax2.tick_params(axis='y', labelsize=font-2, labelcolor=\"darkblue\")\n",
    "    ax2.set_ylabel(f\"daily frequency \\n median (Hz)\", fontsize=font+2, color=\"darkblue\",labelpad=10)\n",
    "\n",
    "    plt.show();\n",
    "    return fig\n",
    "\n",
    "\n",
    "## _________________________________________\n",
    "\n",
    "fig = __makeplot_quality_overview_with_frequency()\n",
    "\n",
    "\n",
    "if save:\n",
    "    fig.savefig(path2plot+\"figs/\"+f\"{year}_{cha}_{mode}_statistics_overview_frequency.png\", \n",
    "                format=\"png\", \n",
    "                dpi=300,\n",
    "               )"
   ]
  },
  {
   "cell_type": "markdown",
   "metadata": {},
   "source": [
    "# Plot Sagnac Frequency"
   ]
  },
  {
   "cell_type": "code",
   "execution_count": 78,
   "metadata": {
    "ExecuteTime": {
     "end_time": "2021-04-12T08:35:36.514289Z",
     "start_time": "2021-04-12T08:35:35.819406Z"
    },
    "code_folding": [
     16
    ]
   },
   "outputs": [
    {
     "data": {
      "image/png": "[encoded data removed]",
      "text/plain": [
       "<Figure size 1080x360 with 1 Axes>"
      ]
     },
     "metadata": {
      "needs_background": "light"
     },
     "output_type": "display_data"
    }
   ],
   "source": [
    "## remove NaN values\n",
    "replace_nan = False\n",
    "\n",
    "if replace_nan is True:\n",
    "    count = sum([ 1 for f in data.frequency_med if isnan(f) ])\n",
    "    print(f\"{count} NaN found\")\n",
    "\n",
    "    data_sub = data[['doy','frequency_med']]\n",
    "    data_sub = data_sub.dropna()\n",
    "else:\n",
    "    data_sub = data\n",
    "\n",
    "\n",
    "## _____________________\n",
    "## Plotting\n",
    "\n",
    "def __makeplot_frequency():\n",
    "    \n",
    "    fig, ax = plt.subplots(1, 1, figsize=(15,5))\n",
    "\n",
    "    width = 1.0\n",
    "    font = 16\n",
    "\n",
    "    ax.scatter(data_sub.doy, data_sub.frequency_med, color='darkred', s=4, label='daily frequency median', zorder=2)\n",
    "#     ax.plot(data_sub.doy, data_sub.frequency_med, color=\"darkred\", ls='--')\n",
    "    \n",
    "    mean_value = data_sub.frequency_med.mean()\n",
    "    ax.axhline(mean_value, color=\"pink\",ls='--', zorder=-1, label=f'mean of {year}: {round(mean_value,2)} Hz ')\n",
    "    ax.axhline(sgnc_freq[cha[-1]], color=\"purple\",ls='--', zorder=-2, label=r'theo. df$_{sagnac}$:   '+f'{sgnc_freq[cha[-1]]} Hz')\n",
    "\n",
    "    \n",
    "    for gap in gaps:\n",
    "        if gap == gaps[-1]:\n",
    "            ax.axvspan(gap-0.5, gap+0.5, color=\"darkgrey\", alpha=0.2, lw=0, label=\"data gap\")\n",
    "        else:\n",
    "            ax.axvspan(gap-0.5, gap+0.5, color=\"darkgrey\", alpha=0.2, lw=0)\n",
    "\n",
    "#     for no in no_data.doy:\n",
    "#     #     ax.bar(no, 100, width=width, color=\"black\", alpha=0.3, zorder=2, aa=True)\n",
    "#         ax.axvspan(no-0.5, no+0.5, color=\"black\", alpha=0.3, lw=0)\n",
    "    \n",
    "    \n",
    "    \n",
    "    ax.legend(loc=\"center right\", fontsize=font-3)\n",
    "\n",
    "    ax.grid(ls='--', zorder=0, color='darkgrey')\n",
    "\n",
    "    ax.set_xlim(0, max_doys)\n",
    "    ax.set_ylabel(\"daily frequency median (Hz)\", fontsize=font+2)\n",
    "\n",
    "    ax.set_xticks(m_cum)\n",
    "    ax.set_xticklabels(month_names, rotation=20)\n",
    "\n",
    "    ax.tick_params(axis='both', labelsize=font)\n",
    "\n",
    "    ax.set_title(f\"Quality Overview ROMY.{cha} {year}\", fontsize=font+4)\n",
    "\n",
    "    plt.show();\n",
    "    return fig \n",
    "\n",
    "## _________________________________________\n",
    "\n",
    "fig = __makeplot_frequency()\n",
    "\n",
    "\n",
    "if save:\n",
    "    fig.savefig(path2plot+\"figs/\"+f\"{year}_{cha}_{mode}_statistics_frequency.png\", \n",
    "                format=\"png\", \n",
    "                dpi=300,\n",
    "               )"
   ]
  },
  {
   "cell_type": "markdown",
   "metadata": {},
   "source": [
    "# Calculate and Print Statistics"
   ]
  },
  {
   "cell_type": "code",
   "execution_count": 71,
   "metadata": {
    "ExecuteTime": {
     "end_time": "2021-04-12T08:31:39.853328Z",
     "start_time": "2021-04-12T08:31:39.847540Z"
    }
   },
   "outputs": [],
   "source": [
    "\n",
    "gap_days = array(gaps).size\n",
    "\n",
    "gap_percent = round(gap_days / UTCDateTime(f\"{year}-12-31\").julday *100, 2)\n",
    "\n",
    "not_full_days = data[data.total_samples != max_samples_per_day].count()[0]\n"
   ]
  },
  {
   "cell_type": "code",
   "execution_count": 72,
   "metadata": {
    "ExecuteTime": {
     "end_time": "2021-04-12T08:31:40.178848Z",
     "start_time": "2021-04-12T08:31:40.171991Z"
    }
   },
   "outputs": [],
   "source": [
    "days_in_year = UTCDateTime(f\"{year}-12-31\").julday \n",
    "maximum_samples_of_year  = max_samples_per_day * days_in_year\n",
    "maximum_samples_of_year -= max_samples_per_day * gap_days \n",
    "maximum_samples_of_year -= max_samples_per_day * no_data.doy.count()\n",
    "\n",
    "maximum_days_of_year = UTCDateTime(f\"{year}-12-31\").julday\n",
    "maximum_days_of_year -= gap_days\n",
    "maximum_days_of_year -= no_data.doy.count()\n",
    "\n",
    "\n",
    "q0_percent = round(data.Q0.sum()/maximum_samples_of_year*100, 2)\n",
    "q0_days = round(data.Q0.sum()/maximum_days_of_year,1)\n",
    "\n",
    "q1_percent = round(data.Q1.sum()/maximum_samples_of_year*100, 2)\n",
    "q1_days = round(data.Q1.sum()/maximum_days_of_year,1)\n",
    "\n",
    "q2_percent = round(data.Q2.sum()/maximum_samples_of_year*100, 2)\n",
    "q2_days = round(data.Q2.sum()/maximum_days_of_year,1)\n"
   ]
  },
  {
   "cell_type": "code",
   "execution_count": 73,
   "metadata": {
    "ExecuteTime": {
     "end_time": "2021-04-12T08:31:40.368208Z",
     "start_time": "2021-04-12T08:31:40.350504Z"
    }
   },
   "outputs": [],
   "source": [
    "\n",
    "perfect_days = data[data.Q0 >= data.total_samples * 0.99].count()[0]\n",
    "\n",
    "good_days = data[data.Q0 >= data.total_samples * 0.95].count()[0]\n",
    "\n",
    "bad_days = data[data.Q2 >= data.total_samples * 0.5].count()[0]\n",
    "\n",
    "gone_days = data[data.Q2 >= data.total_samples * 0.99].count()[0]\n"
   ]
  },
  {
   "cell_type": "code",
   "execution_count": 75,
   "metadata": {
    "ExecuteTime": {
     "end_time": "2021-04-12T08:32:05.177443Z",
     "start_time": "2021-04-12T08:32:05.167907Z"
    }
   },
   "outputs": [
    {
     "name": "stdout",
     "output_type": "stream",
     "text": [
      "2019 BJZ: 20s/2s \n",
      "\n",
      "total days with data:   363 days \n",
      "total days of 2019:   365 days\n",
      "days with no data:   0 days\n",
      "days with error:   2 days\n",
      "days with < 4320 samples:   334 days \n",
      "\n",
      "Q0: 88.18 % (3809.4 days)\n",
      "Q1: 0.29 % (12.4 days)\n",
      "Q2: 10.44 % (451.2 days) \n",
      "\n",
      "Q0 > 99%: 215 days\n",
      "Q0 > 95%: 260 days \n",
      "\n",
      "Q2 > 99%: 3 days\n",
      "Q2 > 50%: 38 days\n"
     ]
    }
   ],
   "source": [
    "if mode == \"runy\":\n",
    "    code = \"60s/20s\"\n",
    "elif mode == \"runx\":\n",
    "    code = \"180s/60s\"\n",
    "elif mode == \"runq\":\n",
    "    code = \"20s/2s\"\n",
    "        \n",
    "    \n",
    "print(f\"{year} {cha}: {code} \\n\")\n",
    "\n",
    "print(f\"total days with data:   {data.doy.count()} days \")\n",
    "\n",
    "print(f\"total days of {year}:   {days_in_year} days\")\n",
    "\n",
    "print(f\"days with no data:   {no_data.doy.count()} days\")\n",
    "\n",
    "print(f\"days with error:   {gap_days} days\")\n",
    "\n",
    "print(f\"days with < {max_samples_per_day} samples:   {not_full_days} days \\n\")\n",
    "\n",
    "print(f\"Q0: {q0_percent} % ({q0_days} days)\")\n",
    "print(f\"Q1: {q1_percent} % ({q1_days} days)\")\n",
    "print(f\"Q2: {q2_percent} % ({q2_days} days) \\n\")\n",
    "\n",
    "print(f\"Q0 > 99%: {perfect_days} days\")\n",
    "print(f\"Q0 > 95%: {good_days} days \\n\")\n",
    "print(f\"Q2 > 99%: {gone_days} days\")\n",
    "print(f\"Q2 > 50%: {bad_days} days\")\n"
   ]
  },
  {
   "cell_type": "markdown",
   "metadata": {
    "ExecuteTime": {
     "end_time": "2021-04-12T08:33:14.186470Z",
     "start_time": "2021-04-12T08:33:14.182692Z"
    }
   },
   "source": [
    "#### Write statistics to output file"
   ]
  },
  {
   "cell_type": "code",
   "execution_count": null,
   "metadata": {
    "ExecuteTime": {
     "end_time": "2021-04-12T08:04:46.388995Z",
     "start_time": "2021-04-12T08:04:45.014Z"
    },
    "code_folding": []
   },
   "outputs": [],
   "source": [
    "if write_statistics:\n",
    "\n",
    "    f = open(f\"{path}{year}_{cha}_{mode}_statistics.txt\", \"w\")\n",
    "\n",
    "    f.write(f\"{year} {cha} {mode}\\n\")\n",
    "\n",
    "    f.write(f\"gaps: {gaps_percent}% ({gaps_days} days)\\n\")\n",
    "\n",
    "    f.write(f\"days with less than {total} samples: {not_full_days} days\\n\")\n",
    "\n",
    "    f.write(f\"Q0: {q0_percent} % ({q0_days} days) \\n\")\n",
    "    f.write(f\"Q1: {q1_percent} % ({q1_days} days) \\n\")\n",
    "    f.write(f\"Q2: {q2_percent} % ({q2_days} days)\\n\")\n",
    "\n",
    "    f.write(f\"Q0 > 99%: {perfect_days} days \\n\")\n",
    "    f.write(f\"Q0 > 95%: {good_days} days\\n\")\n",
    "    f.write(f\"Q2 > 99%: {gone_days} days \\n\")\n",
    "    f.write(f\"Q2 > 50%: {bad_days} days \\n\")\n",
    "\n",
    "    f.close()\n"
   ]
  }
 ],
 "metadata": {
  "kernelspec": {
   "display_name": "Python 3",
   "language": "python",
   "name": "python3"
  },
  "language_info": {
   "codemirror_mode": {
    "name": "ipython",
    "version": 3
   },
   "file_extension": ".py",
   "mimetype": "text/x-python",
   "name": "python",
   "nbconvert_exporter": "python",
   "pygments_lexer": "ipython3",
   "version": "3.7.8"
  }
 },
 "nbformat": 4,
 "nbformat_minor": 4
}
