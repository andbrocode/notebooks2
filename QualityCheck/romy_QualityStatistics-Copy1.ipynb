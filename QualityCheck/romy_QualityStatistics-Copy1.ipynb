{
 "cells": [
  {
   "cell_type": "code",
   "execution_count": 1,
   "metadata": {
    "ExecuteTime": {
     "end_time": "2021-02-23T10:16:48.085807Z",
     "start_time": "2021-02-23T10:16:47.375348Z"
    }
   },
   "outputs": [],
   "source": [
    "import matplotlib.pyplot as plt\n",
    "import os, sys\n",
    "\n",
    "\n",
    "from numpy import arange, array, cumsum, nan\n",
    "from pandas import read_csv, DataFrame\n",
    "from numpy import zeros, median\n",
    "from obspy import UTCDateTime\n",
    "from numpy import isnan\n",
    "from obspy import UTCDateTime"
   ]
  },
  {
   "cell_type": "code",
   "execution_count": 2,
   "metadata": {
    "ExecuteTime": {
     "end_time": "2021-02-23T10:16:48.090860Z",
     "start_time": "2021-02-23T10:16:48.088478Z"
    }
   },
   "outputs": [],
   "source": [
    "year = '2021'\n",
    "\n",
    "mode = 'runy'\n",
    "\n",
    "channels  = ['BJZ', 'BJU', 'BJV', 'BJW']\n",
    "\n",
    "path = f'/home/andbro/Documents/ROMY/QualityCheck/{mode}/logs/'"
   ]
  },
  {
   "cell_type": "code",
   "execution_count": 3,
   "metadata": {
    "ExecuteTime": {
     "end_time": "2021-02-23T10:16:48.116808Z",
     "start_time": "2021-02-23T10:16:48.093044Z"
    }
   },
   "outputs": [],
   "source": [
    "df = []\n",
    "for cha in channels:\n",
    "    \n",
    "    ifile = f'{year}_{cha}_overview'\n",
    "    ## read data\n",
    "    try:\n",
    "        data = read_csv(path+ifile, delimiter=\",\")\n",
    "        \n",
    "        ## sort data frame in case any mixup occured\n",
    "        data = data.sort_values(by=['doy'], ascending=True, axis=0)\n",
    "\n",
    "        ## check for doubles \n",
    "        doubles = 0\n",
    "        if data.doy.duplicated().any():\n",
    "            doubles +=1\n",
    "        if doubles != 0:\n",
    "            print(f\"\\n {doubles} doubles found\")\n",
    "    \n",
    "    except:\n",
    "        data = DataFrame()\n",
    "\n",
    "\n",
    "    df.append(data)\n"
   ]
  },
  {
   "cell_type": "code",
   "execution_count": 4,
   "metadata": {
    "ExecuteTime": {
     "end_time": "2021-02-23T10:16:48.170681Z",
     "start_time": "2021-02-23T10:16:48.118327Z"
    }
   },
   "outputs": [
    {
     "name": "stdout",
     "output_type": "stream",
     "text": [
      "<class 'pandas.core.frame.DataFrame'>\n",
      "<class 'pandas.core.frame.DataFrame'>\n",
      "<class 'pandas.core.frame.DataFrame'>\n",
      "<class 'pandas.core.frame.DataFrame'>\n"
     ]
    },
    {
     "data": {
      "text/html": [
       "<div>\n",
       "<style scoped>\n",
       "    .dataframe tbody tr th:only-of-type {\n",
       "        vertical-align: middle;\n",
       "    }\n",
       "\n",
       "    .dataframe tbody tr th {\n",
       "        vertical-align: top;\n",
       "    }\n",
       "\n",
       "    .dataframe thead th {\n",
       "        text-align: right;\n",
       "    }\n",
       "</style>\n",
       "<table border=\"1\" class=\"dataframe\">\n",
       "  <thead>\n",
       "    <tr style=\"text-align: right;\">\n",
       "      <th></th>\n",
       "      <th>channel</th>\n",
       "      <th>Q0</th>\n",
       "      <th>Q1</th>\n",
       "      <th>Q2</th>\n",
       "      <th>gaps</th>\n",
       "      <th>no_data</th>\n",
       "    </tr>\n",
       "  </thead>\n",
       "  <tbody>\n",
       "    <tr>\n",
       "      <th>0</th>\n",
       "      <td>BJZ</td>\n",
       "      <td>0.020015</td>\n",
       "      <td>0.000000</td>\n",
       "      <td>99.979985</td>\n",
       "      <td>85.205479</td>\n",
       "      <td>4.109589</td>\n",
       "    </tr>\n",
       "    <tr>\n",
       "      <th>1</th>\n",
       "      <td>BJU</td>\n",
       "      <td>0.000000</td>\n",
       "      <td>0.000000</td>\n",
       "      <td>100.000000</td>\n",
       "      <td>85.205479</td>\n",
       "      <td>4.109589</td>\n",
       "    </tr>\n",
       "    <tr>\n",
       "      <th>2</th>\n",
       "      <td>BJV</td>\n",
       "      <td>0.029282</td>\n",
       "      <td>0.001331</td>\n",
       "      <td>99.969387</td>\n",
       "      <td>85.205479</td>\n",
       "      <td>4.109589</td>\n",
       "    </tr>\n",
       "    <tr>\n",
       "      <th>3</th>\n",
       "      <td>BJW</td>\n",
       "      <td>0.000000</td>\n",
       "      <td>0.000000</td>\n",
       "      <td>100.000000</td>\n",
       "      <td>85.205479</td>\n",
       "      <td>4.109589</td>\n",
       "    </tr>\n",
       "  </tbody>\n",
       "</table>\n",
       "</div>"
      ],
      "text/plain": [
       "  channel        Q0        Q1          Q2       gaps   no_data\n",
       "0     BJZ  0.020015  0.000000   99.979985  85.205479  4.109589\n",
       "1     BJU  0.000000  0.000000  100.000000  85.205479  4.109589\n",
       "2     BJV  0.029282  0.001331   99.969387  85.205479  4.109589\n",
       "3     BJW  0.000000  0.000000  100.000000  85.205479  4.109589"
      ]
     },
     "execution_count": 4,
     "metadata": {},
     "output_type": "execute_result"
    }
   ],
   "source": [
    "max_samples_per_day = max(df[0].total_samples)\n",
    "max_days_of_year = UTCDateTime(f\"{year}-12-31\").julday\n",
    "\n",
    "\n",
    "stat = DataFrame()\n",
    "\n",
    "q0p, q1p, q2p = [], [], []\n",
    "gaps_all = []\n",
    "no_data = []\n",
    "\n",
    "dummy = 0.0\n",
    "\n",
    "for i, data in enumerate(df):\n",
    "    print(type(data))\n",
    "#     if str(type(data)) ==  \"<class 'list'>\":\n",
    "#         break\n",
    "    try:\n",
    "\n",
    "        ##__________________________________\n",
    "        ##\n",
    "        \n",
    "        q0p.append(sum(data.Q0)/sum(data.total_samples)*100)\n",
    "        q1p.append(sum(data.Q1)/sum(data.total_samples)*100)\n",
    "        q2p.append(sum(data.Q2)/sum(data.total_samples)*100)\n",
    "\n",
    "        ##__________________________________\n",
    "        ##\n",
    "        \n",
    "        gaps = []\n",
    "        for i in range(1, UTCDateTime(f\"{year}-12-31\").julday):\n",
    "            if i not in list(data.doy):\n",
    "                gaps.append(i)     \n",
    "        gaps_all.append(len(gaps)/ max_days_of_year *100)\n",
    "    \n",
    "        ##__________________________________\n",
    "        ##\n",
    "        log_no_data = f\"{path}{year}-{cha}.log\"\n",
    "        \n",
    "        doy=[]\n",
    "        if os.path.isfile(f\"{path}{year}-{cha}.log\"):\n",
    "\n",
    "            df_tmp = read_csv(log_no_data, header=0, names =[\"Date\", \"Channel\", \"Comment\"])\n",
    "\n",
    "            doy = []\n",
    "            for i in df_tmp.Date.to_list():\n",
    "                doy.append(UTCDateTime(i).julday)\n",
    "\n",
    "            no_data.append(len(doy)/ max_days_of_year *100)    \n",
    "\n",
    "        else:\n",
    "            no_data.append(dummy)\n",
    "            \n",
    "    except:\n",
    "    \n",
    "        q0p.append(dummy)\n",
    "        q1p.append(dummy)\n",
    "        q2p.append(dummy)\n",
    "    \n",
    "        gaps_all.append(dummy)\n",
    "    \n",
    "        no_data.append(dummy)\n",
    "        \n",
    "        \n",
    "stat['channel'] = channels    \n",
    "stat['Q0'] = q0p\n",
    "stat['Q1'] = q1p\n",
    "stat['Q2'] = q2p\n",
    "stat['gaps'] = gaps_all \n",
    "stat['no_data'] = no_data \n",
    "\n",
    "\n",
    "stat"
   ]
  },
  {
   "cell_type": "markdown",
   "metadata": {},
   "source": [
    "# Plot Statistics Overview"
   ]
  },
  {
   "cell_type": "code",
   "execution_count": 5,
   "metadata": {
    "ExecuteTime": {
     "end_time": "2021-02-23T10:16:48.176479Z",
     "start_time": "2021-02-23T10:16:48.172613Z"
    },
    "code_folding": [
     0
    ]
   },
   "outputs": [],
   "source": [
    "\n",
    "def autolabel(rects, col):\n",
    "    for rect in rects:\n",
    "        height = rect.get_height()\n",
    "        ax.annotate('{}'.format(round(height,2)),\n",
    "                    xy=(rect.get_x() + rect.get_width() / 2, height),\n",
    "                    xytext=(0, 7),  # 3 points vertical offset\n",
    "                    textcoords=\"offset points\",\n",
    "                    ha='center', va='bottom',\n",
    "                    color=col,\n",
    "                    bbox=dict(ec=\"w\", fc=\"w\"),\n",
    "                   )\n"
   ]
  },
  {
   "cell_type": "code",
   "execution_count": 6,
   "metadata": {
    "ExecuteTime": {
     "end_time": "2021-02-23T10:16:48.404895Z",
     "start_time": "2021-02-23T10:16:48.179026Z"
    }
   },
   "outputs": [
    {
     "data": {
      "text/plain": [
       "Text(0.5, 1.0, 'Statistics 2021')"
      ]
     },
     "execution_count": 6,
     "metadata": {},
     "output_type": "execute_result"
    },
    {
     "data": {
      "image/png": "[encoded data removed]",
      "text/plain": [
       "<Figure size 1080x360 with 1 Axes>"
      ]
     },
     "metadata": {
      "needs_background": "light"
     },
     "output_type": "display_data"
    }
   ],
   "source": [
    "# import seaborn as sns\n",
    "# sns.set()\n",
    "\n",
    "fig, ax =  plt.subplots(1, 1, figsize=(15,5))\n",
    "\n",
    "font=14\n",
    "\n",
    "bar_width = 0.5\n",
    "\n",
    "cols = ['green', 'darkorange', 'darkred', 'grey', 'black']\n",
    "labels = []\n",
    "locations=[]\n",
    "ticks = [1,5,9,13]\n",
    "for x in ticks:\n",
    "    locations.append([x-4/3, x-2/3, x, x+2/3, x+4/3])\n",
    "\n",
    "hands = []\n",
    "for j in range(5):\n",
    "    b1 = ax.bar(locations[0][j], stat.iloc[0][int(1+j)], width=bar_width, color=cols[j], zorder=2)\n",
    "    b2 = ax.bar(locations[1][j], stat.iloc[1][int(1+j)], width=bar_width, color=cols[j], zorder=2)\n",
    "    b3 = ax.bar(locations[2][j], stat.iloc[2][int(1+j)], width=bar_width, color=cols[j], zorder=2)\n",
    "    b4 = ax.bar(locations[3][j], stat.iloc[3][int(1+j)], width=bar_width, color=cols[j], zorder=2)\n",
    "    autolabel(b1, cols[j])\n",
    "    autolabel(b2, cols[j])\n",
    "    autolabel(b3, cols[j])  \n",
    "    autolabel(b4, cols[j])  \n",
    "\n",
    "    \n",
    "from matplotlib.patches import Polygon, Patch\n",
    "\n",
    "ax.set_xticks(ticks)\n",
    "ax.set_xticklabels(channels, fontsize=font)\n",
    "\n",
    "legend_elements = [Patch(facecolor=cols[0], edgecolor=cols[0], label='Q0'),\n",
    "                   Patch(facecolor=cols[1], edgecolor=cols[1], label='Q1'),\n",
    "                   Patch(facecolor=cols[2], edgecolor=cols[2], label='Q3'),\n",
    "                   Patch(facecolor=cols[3], edgecolor=cols[3], label='gaps'),\n",
    "                   Patch(facecolor=cols[4], edgecolor=cols[4], label='no data'),\n",
    "                  ]\n",
    "\n",
    "ax.legend(handles=legend_elements, \n",
    "          loc='lower right', \n",
    "          fontsize=font-2, \n",
    "          ncol=6, \n",
    "          edgecolor='black',\n",
    "          bbox_to_anchor=(.75,-0.2),\n",
    "         )\n",
    "\n",
    "fig.text(0.75, -0.02,  \n",
    "         f'days: {max_days_of_year}',   \n",
    "         fontsize = 12, \n",
    "         color = \"black\",\n",
    "        ) \n",
    "fig.text(0.75, 0.02,  \n",
    "         f'samples: {max_samples_per_day}',   \n",
    "         fontsize = 12, \n",
    "         color = \"black\",\n",
    "        ) \n",
    "\n",
    "ax.grid(axis=\"y\", zorder=1, ls='--')\n",
    "\n",
    "ax.set_ylabel(\"yearly share (%)\", fontsize=font)\n",
    "\n",
    "ax.set_title(f\"Statistics {year}\", fontsize=font+3, pad=20)"
   ]
  },
  {
   "cell_type": "code",
   "execution_count": null,
   "metadata": {
    "ExecuteTime": {
     "end_time": "2021-02-23T10:17:22.650361Z",
     "start_time": "2021-02-23T10:17:22.644556Z"
    }
   },
   "outputs": [],
   "source": []
  },
  {
   "cell_type": "code",
   "execution_count": null,
   "metadata": {},
   "outputs": [],
   "source": []
  }
 ],
 "metadata": {
  "kernelspec": {
   "display_name": "Python 3",
   "language": "python",
   "name": "python3"
  },
  "language_info": {
   "codemirror_mode": {
    "name": "ipython",
    "version": 3
   },
   "file_extension": ".py",
   "mimetype": "text/x-python",
   "name": "python",
   "nbconvert_exporter": "python",
   "pygments_lexer": "ipython3",
   "version": "3.7.8"
  }
 },
 "nbformat": 4,
 "nbformat_minor": 4
}
