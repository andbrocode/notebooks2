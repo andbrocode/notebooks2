{
 "cells": [
  {
   "cell_type": "code",
   "execution_count": 1,
   "metadata": {
    "ExecuteTime": {
     "end_time": "2021-04-01T08:57:17.945767Z",
     "start_time": "2021-04-01T08:57:17.282763Z"
    }
   },
   "outputs": [],
   "source": [
    "import matplotlib.pyplot as plt\n",
    "import os\n",
    "\n",
    "\n",
    "from numpy import arange, array, cumsum\n",
    "from pandas import read_csv, DataFrame\n",
    "from numpy import zeros, median\n",
    "from obspy import UTCDateTime\n",
    "from numpy import isnan\n",
    "from obspy import UTCDateTime"
   ]
  },
  {
   "cell_type": "code",
   "execution_count": 2,
   "metadata": {
    "ExecuteTime": {
     "end_time": "2021-04-01T08:57:17.950168Z",
     "start_time": "2021-04-01T08:57:17.947837Z"
    }
   },
   "outputs": [],
   "source": [
    "\n",
    "year = '2021'\n",
    "cha  = 'BJW'\n",
    "mode = 'runz'\n",
    "\n",
    "path = f'/home/andbro/Documents/ROMY/QualityCheck/{mode}/logs/'\n",
    "path2plots = f'/home/andbro/Documents/ROMY/QualityCheck/{mode}/'\n",
    "\n",
    "ifile = f'{year}_{cha}_overview'\n",
    "\n",
    "sgnc_freq = {'Z': 551.68, 'U': 302.96, 'V': 448.09,'W': 448.09}"
   ]
  },
  {
   "cell_type": "code",
   "execution_count": 3,
   "metadata": {
    "ExecuteTime": {
     "end_time": "2021-04-01T08:57:17.967458Z",
     "start_time": "2021-04-01T08:57:17.951436Z"
    },
    "scrolled": true
   },
   "outputs": [
    {
     "name": "stdout",
     "output_type": "stream",
     "text": [
      "\n",
      " 0 doubles found\n"
     ]
    }
   ],
   "source": [
    "## read data\n",
    "data = read_csv(path+ifile, delimiter=\",\")\n",
    "\n",
    "## sort data frame in case any mixup occured\n",
    "data = data.sort_values(by=['doy'], ascending=True, axis=0)\n",
    "\n",
    "## check for doubles \n",
    "doubles = 0\n",
    "if data.doy.duplicated().any():\n",
    "    doubles +=1\n",
    "print(f\"\\n {doubles} doubles found\")\n",
    "\n",
    "\n",
    "## select February and March\n",
    "data = data[(data.doy > 31) & (data.doy < 81)]\n",
    "x1, x2 = 31.5, 81.5\n"
   ]
  },
  {
   "cell_type": "code",
   "execution_count": 4,
   "metadata": {
    "ExecuteTime": {
     "end_time": "2021-04-01T08:57:17.973661Z",
     "start_time": "2021-04-01T08:57:17.969084Z"
    }
   },
   "outputs": [],
   "source": [
    "max_samples_per_day = max(data.total_samples)"
   ]
  },
  {
   "cell_type": "code",
   "execution_count": 5,
   "metadata": {
    "ExecuteTime": {
     "end_time": "2021-04-01T08:57:17.978154Z",
     "start_time": "2021-04-01T08:57:17.974964Z"
    }
   },
   "outputs": [],
   "source": [
    "q0p = data.Q0/max_samples_per_day*100\n",
    "q1p = data.Q1/max_samples_per_day*100\n",
    "q2p = data.Q2/max_samples_per_day*100"
   ]
  },
  {
   "cell_type": "code",
   "execution_count": 6,
   "metadata": {
    "ExecuteTime": {
     "end_time": "2021-04-01T08:57:17.983474Z",
     "start_time": "2021-04-01T08:57:17.979344Z"
    }
   },
   "outputs": [
    {
     "name": "stdout",
     "output_type": "stream",
     "text": [
      "there are: 41 gaps\n"
     ]
    }
   ],
   "source": [
    "gaps = []\n",
    "for i in range(1, 91):\n",
    "    if i not in list(data.doy):\n",
    "        gaps.append(i)\n",
    "print(f\"there are: {len(gaps)} gaps\")"
   ]
  },
  {
   "cell_type": "code",
   "execution_count": 7,
   "metadata": {
    "ExecuteTime": {
     "end_time": "2021-04-01T08:57:17.987895Z",
     "start_time": "2021-04-01T08:57:17.985252Z"
    }
   },
   "outputs": [],
   "source": [
    "\n",
    "month_names = ['Jan', 'Feb', 'Mar', 'Apr', 'May', 'Jun', 'Jul', 'Aug','Sep', 'Oct', 'Nov', 'Dec']\n",
    "months = [0, 31, 28, 31, 30, 31, 30, 31, 31, 30 ,31, 30]\n",
    "m_cum = cumsum(months)+1\n"
   ]
  },
  {
   "cell_type": "markdown",
   "metadata": {},
   "source": [
    "# Check with Log File"
   ]
  },
  {
   "cell_type": "code",
   "execution_count": 8,
   "metadata": {
    "ExecuteTime": {
     "end_time": "2021-04-01T08:57:17.994622Z",
     "start_time": "2021-04-01T08:57:17.989037Z"
    }
   },
   "outputs": [
    {
     "name": "stdout",
     "output_type": "stream",
     "text": [
      "no log file found !\n"
     ]
    }
   ],
   "source": [
    "log_no_data = f\"{path}{year}-{cha}.log\"\n",
    "\n",
    "if os.path.isfile(f\"{path}{year}-{cha}.log\"):\n",
    "    \n",
    "    no_data = read_csv(log_no_data, header=0, names =[\"Date\", \"Channel\", \"Comment\"])\n",
    "\n",
    "    doy = []\n",
    "    for i in no_data.Date.to_list():\n",
    "        doy.append(UTCDateTime(i).julday)\n",
    "\n",
    "    no_data[\"doy\"] = doy    \n",
    "    \n",
    "else:\n",
    "    print(\"no log file found !\")\n",
    "    no_data = DataFrame()\n",
    "    no_data[\"doy\"] = []"
   ]
  },
  {
   "cell_type": "markdown",
   "metadata": {},
   "source": [
    "# Plot Quality Overview"
   ]
  },
  {
   "cell_type": "code",
   "execution_count": 9,
   "metadata": {
    "ExecuteTime": {
     "end_time": "2021-04-01T08:57:18.762978Z",
     "start_time": "2021-04-01T08:57:17.995860Z"
    }
   },
   "outputs": [
    {
     "data": {
      "image/png": "[encoded data removed]",
      "text/plain": [
       "<Figure size 1080x288 with 2 Axes>"
      ]
     },
     "metadata": {
      "needs_background": "light"
     },
     "output_type": "display_data"
    }
   ],
   "source": [
    "\n",
    "fig, ax = plt.subplots(1, 1, figsize=(15,4))\n",
    "\n",
    "font=16\n",
    "\n",
    "width=0.8\n",
    "ax.bar(data.doy, q0p, width, color=\"forestgreen\", alpha=0.7, label=\"Q0\", edgecolor=None, aa=True)\n",
    "ax.bar(data.doy, q1p, width,bottom=q0p, color=\"yellow\", label=\"Q1\", edgecolor=None, aa=True)\n",
    "ax.bar(data.doy, q2p, width,bottom=q0p+q1p, color=\"darkred\", alpha=0.8, label=\"Q2\", edgecolor=None, aa=True)\n",
    "\n",
    "# ax.plot(data.doy, data.bad_areas/data.Q2*100, zorder=1, color='black', ls='--', lw=0.8)\n",
    "\n",
    "\n",
    "for gap in gaps:\n",
    "    ax.bar(gap, 100, width=width, color=\"grey\", alpha=0.3, zorder=2, aa=True)\n",
    "\n",
    "# for no in no_data.doy:\n",
    "#     ax.bar(no, 100, width=width, color=\"black\", alpha=0.3, zorder=2, aa=True)\n",
    "\n",
    "ax.set_ylim(0,100)\n",
    "ax.set_xticks(m_cum)\n",
    "ax.set_xticklabels(month_names, rotation=20)\n",
    "\n",
    "\n",
    "ax.axhline(95, color='black', ls=':', label=\"95%\")\n",
    "\n",
    "ax.set_ylabel(\"daily share (%)\", fontsize=font+2)\n",
    "\n",
    "ax.tick_params(axis='both', labelsize=font-1)\n",
    "\n",
    "ax.set_title(f\"Quality Overview ROMY.{cha} {year}\", fontsize=font+4)\n",
    "\n",
    "ax.legend(fontsize=font-3, loc=\"lower right\")\n",
    "\n",
    "ax.set_xlim(x1,x2)\n",
    "\n",
    "\n",
    "\n",
    "ax2 = ax.twinx()\n",
    "\n",
    "col2 = \"darkblue\"\n",
    "\n",
    "ax2.scatter(data.doy, data.frequency_med, color=col2, s=15, label=r\"f$_{median}$\")\n",
    "ax2.plot(data.doy, data.frequency_med, color=col2, ls='--')\n",
    "\n",
    "ax2.tick_params(axis='both', labelsize=font-3, labelcolor=col2)\n",
    "ax2.set_ylabel(\"median frequency (Hz)\", fontsize=font+2, color=col2)\n",
    "\n",
    "ax2.set_ylim(553.2, 553.3)\n",
    "\n",
    "ax2.set_yticks(arange(553.2, 553.3+0.02, 0.02))\n",
    "ax2.set_yticklabels(arange(553.2, 553.3+0.02, 0.02))\n",
    "\n",
    "\n",
    "plt.show();\n",
    "\n",
    "fig.savefig(path2plots+\"figs/\"+f\"{year}_{cha}_statistics_overview_zoomin.png\", format=\"png\", dpi=300)"
   ]
  },
  {
   "cell_type": "code",
   "execution_count": null,
   "metadata": {},
   "outputs": [],
   "source": []
  }
 ],
 "metadata": {
  "kernelspec": {
   "display_name": "Python 3",
   "language": "python",
   "name": "python3"
  },
  "language_info": {
   "codemirror_mode": {
    "name": "ipython",
    "version": 3
   },
   "file_extension": ".py",
   "mimetype": "text/x-python",
   "name": "python",
   "nbconvert_exporter": "python",
   "pygments_lexer": "ipython3",
   "version": "3.7.8"
  }
 },
 "nbformat": 4,
 "nbformat_minor": 4
}
