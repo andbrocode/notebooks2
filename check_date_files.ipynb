{
 "cells": [
  {
   "cell_type": "code",
   "execution_count": 75,
   "id": "d0c4fd34-b64b-4c66-9b79-1909201ae357",
   "metadata": {
    "tags": []
   },
   "outputs": [
    {
     "name": "stdin",
     "output_type": "stream",
     "text": [
      "Enter year:  2023\n",
      "Enter path:  /import/freenas-ffb-01-data/romy_autodata/2023/RU\n"
     ]
    }
   ],
   "source": [
    "import os\n",
    "import glob\n",
    "import numpy as np\n",
    "import matplotlib.pyplot as plt\n",
    "import pandas as pd\n",
    "import calplot\n",
    "import matplotlib.colors\n",
    "\n",
    "import warnings\n",
    "warnings.filterwarnings('ignore')\n",
    "\n",
    "if os.uname().nodename == 'lighthouse':\n",
    "    root_path = '/home/andbro/'\n",
    "    data_path = '/home/andbro/kilauea-data/'\n",
    "    archive_path = '/home/andbro/freenas/'\n",
    "    bay_path = '/home/andbro/bay200/'\n",
    "elif os.uname().nodename == 'kilauea':\n",
    "    root_path = '/home/brotzer/'\n",
    "    data_path = '/import/kilauea-data/'\n",
    "    archive_path = '/import/freenas-ffb-01-data/'\n",
    "    bay_path = '/bay200/'\n",
    "elif os.uname().nodename == 'lin-ffb-01':\n",
    "    root_path = '/home/brotzer/'\n",
    "    data_path = '/import/kilauea-data/'\n",
    "    archive_path = '/import/freenas-ffb-01-data/'\n",
    "    bay_path = '/bay200/'\n",
    "\n",
    "year = input(\"Enter year: \") or \"2023\"\n",
    "\n",
    "path = input(\"Enter path: \")\n",
    "\n",
    "if path[-1] != \"/\":\n",
    "    path = path+\"/\"\n",
    "\n",
    "# path = f\"/import/freenas-ffb-01-data/romy_autodata/{year}/RU/\"\n",
    "\n",
    "\n",
    "days_of_year = pd.date_range(f\"{year}-01-01\",  f\"{year}-12-31\", freq='D')\n",
    "\n",
    "file_exists = pd.Series(-1*np.ones(len(days_of_year)), index=days_of_year)"
   ]
  },
  {
   "cell_type": "code",
   "execution_count": null,
   "id": "00a9c79c-caad-4655-a743-2c6247951a96",
   "metadata": {
    "tags": []
   },
   "outputs": [],
   "source": []
  },
  {
   "cell_type": "code",
   "execution_count": 78,
   "id": "83ee6538-a291-4ada-84e2-6e706460fe10",
   "metadata": {
    "tags": []
   },
   "outputs": [
    {
     "name": "stdout",
     "output_type": "stream",
     "text": [
      "2023-01-01    1.0\n",
      "2023-01-02    1.0\n",
      "2023-01-03    1.0\n",
      "2023-01-04    1.0\n",
      "2023-01-05    1.0\n",
      "             ... \n",
      "2023-12-27    1.0\n",
      "2023-12-28    1.0\n",
      "2023-12-29    1.0\n",
      "2023-12-30    1.0\n",
      "2023-12-31    1.0\n",
      "Freq: D, Length: 365, dtype: float64\n"
     ]
    }
   ],
   "source": [
    "for doy in days_of_year:\n",
    "\n",
    "    doy = str(doy).split(\" \")[0]\n",
    "    _doy = doy.replace(\"-\", \"\")\n",
    "\n",
    "    # if os.path.isfile(path+f\"FJU_{_doy}.pkl\"):\n",
    "    if len(glob.glob(path+f'*{_doy}*')) == 1:\n",
    "        file_exists.loc[doy] = 1"
   ]
  },
  {
   "cell_type": "code",
   "execution_count": 82,
   "id": "85e8630d-ff7b-47d5-81bb-0b2001c95c5f",
   "metadata": {
    "tags": []
   },
   "outputs": [
    {
     "data": {
      "image/png": "[encoded data removed]",
      "text/plain": [
       "<Figure size 1000x170 with 1 Axes>"
      ]
     },
     "metadata": {},
     "output_type": "display_data"
    }
   ],
   "source": [
    "cmap = matplotlib.colors.ListedColormap(['darkred', 'green'])\n",
    "\n",
    "calplot.calplot(file_exists, cmap=cmap, edgecolor=\"k\", colorbar=False, yearlabel_kws={'fontname':'sans-serif'})\n",
    "\n",
    "plt.show();"
   ]
  },
  {
   "cell_type": "code",
   "execution_count": null,
   "id": "b54916c8-62e8-469a-99ac-274906e2dce5",
   "metadata": {},
   "outputs": [],
   "source": []
  },
  {
   "cell_type": "code",
   "execution_count": null,
   "id": "1fe29ea3-bf01-4702-8dfd-e4a627648219",
   "metadata": {},
   "outputs": [],
   "source": []
  },
  {
   "cell_type": "code",
   "execution_count": null,
   "id": "2e56c842-3ad5-4bf9-a0d5-7f331572affd",
   "metadata": {},
   "outputs": [],
   "source": []
  },
  {
   "cell_type": "code",
   "execution_count": null,
   "id": "a26ed34a-f041-445a-b1e7-6ba4f332f034",
   "metadata": {},
   "outputs": [],
   "source": []
  }
 ],
 "metadata": {
  "kernelspec": {
   "display_name": "Python 3 (ipykernel)",
   "language": "python",
   "name": "python3"
  },
  "language_info": {
   "codemirror_mode": {
    "name": "ipython",
    "version": 3
   },
   "file_extension": ".py",
   "mimetype": "text/x-python",
   "name": "python",
   "nbconvert_exporter": "python",
   "pygments_lexer": "ipython3",
   "version": "3.9.16"
  }
 },
 "nbformat": 4,
 "nbformat_minor": 5
}
