{
 "cells": [
  {
   "cell_type": "code",
   "execution_count": 1,
   "id": "perceived-advocacy",
   "metadata": {
    "ExecuteTime": {
     "end_time": "2021-03-10T09:40:17.882058Z",
     "start_time": "2021-03-10T09:40:17.324854Z"
    }
   },
   "outputs": [],
   "source": [
    "from andbro__querrySeismoData import __querrySeismoData\n",
    "from obspy import UTCDateTime, Stream\n",
    "\n",
    "import matplotlib.pyplot as plt"
   ]
  },
  {
   "cell_type": "code",
   "execution_count": 2,
   "id": "collect-witness",
   "metadata": {
    "ExecuteTime": {
     "end_time": "2021-03-10T09:40:17.886901Z",
     "start_time": "2021-03-10T09:40:17.884069Z"
    }
   },
   "outputs": [],
   "source": [
    "stationlist = ['GELB','GRMB','BIB','TON', 'ALFT', 'FFB1', 'FFB2', 'FFB3', 'FUR']\n",
    "\n",
    "tbeg = UTCDateTime(\"2021-03-04 18:30\")\n",
    "tend = UTCDateTime(\"2021-03-04 19:30\")\n"
   ]
  },
  {
   "cell_type": "code",
   "execution_count": null,
   "id": "pleased-carter",
   "metadata": {
    "ExecuteTime": {
     "end_time": "2021-03-10T10:18:22.331607Z",
     "start_time": "2021-03-10T10:17:59.233270Z"
    },
    "code_folding": [],
    "scrolled": true
   },
   "outputs": [
    {
     "name": "stdout",
     "output_type": "stream",
     "text": [
      "\n",
      "loading GELB ...\n"
     ]
    }
   ],
   "source": [
    "st = Stream()\n",
    "\n",
    "for station in stationlist: \n",
    "    \n",
    "    print(f\"\\nloading {station} ...\")\n",
    "    \n",
    "    if station == \"FUR\":\n",
    "        seed_id = f\"GR.{station}..BHZ\"\n",
    "    else:\n",
    "        seed_id = f\"BW.{station}..BHZ\"\n",
    "    \n",
    "    try:\n",
    "        st0, inv = __querrySeismoData(\n",
    "                                    seed_id=seed_id,\n",
    "                                    starttime=tbeg-1,\n",
    "                                    endtime=tend+2,\n",
    "                                    where=\"online\",\n",
    "                                    path=None,\n",
    "                                    restitute=False,\n",
    "                                    detail=None,\n",
    "                                    )\n",
    "        \n",
    "\n",
    "    except:\n",
    "        print(f\"-> failed obtaining data for station: {station}\")\n",
    "    \n",
    "    if 'st0' in globals():\n",
    "        try:\n",
    "            st0.remove_response(\n",
    "                        inventory=inv, \n",
    "                        pre_filt=[0.001, 0.004, 45, 50],\n",
    "                        output=\"DISP\",\n",
    "                        )\n",
    "        except:\n",
    "            print(f\"-> failed removing response for station: {station}\")\n",
    "\n",
    "        \n",
    "        ## merging to one stream\n",
    "        st += st0\n",
    "        del st0\n"
   ]
  },
  {
   "cell_type": "code",
   "execution_count": null,
   "id": "expected-feeding",
   "metadata": {
    "ExecuteTime": {
     "end_time": "2021-03-10T10:18:22.431913Z",
     "start_time": "2021-03-10T10:18:22.333547Z"
    }
   },
   "outputs": [],
   "source": [
    "st.trim(tbeg, tend) ## try to equalize amount of samples\n",
    "\n",
    "for tr in st:\n",
    "    tr.resample(20)\n",
    "    \n",
    "st"
   ]
  },
  {
   "cell_type": "code",
   "execution_count": null,
   "id": "moved-western",
   "metadata": {
    "ExecuteTime": {
     "end_time": "2021-03-10T10:20:55.307524Z",
     "start_time": "2021-03-10T10:20:55.295925Z"
    },
    "code_folding": [
     1
    ]
   },
   "outputs": [],
   "source": [
    "\n",
    "def __get_distance(st1, st2, unit=\"m\"):\n",
    "\n",
    "    from obspy.geodetics.base import gps2dist_azimuth\n",
    "    \n",
    "    if str(type(st[0])) == \"<class 'obspy.core.trace.Trace'>\":\n",
    "        lat1, lon1 = st1.stats.coordinates.latitude, st1.stats.coordinates.longitude\n",
    "        lat2, lon2 = st2.stats.coordinates.latitude, st2.stats.coordinates.longitude\n",
    "    elif str(type(st[0])) == \"<class 'obspy.core.stream.Stream'>\":\n",
    "        lat1, lon1 = st1[0].stats.coordinates.latitude, st1[0].stats.coordinates.longitude\n",
    "        lat2, lon2 = st2[0].stats.coordinates.latitude, st2[0].stats.coordinates.longitude        \n",
    "    \n",
    "    dist, az, baz = gps2dist_azimuth(lat1, lon1, lat2, lon2) # WGS84\n",
    "    \n",
    "    if unit == \"m\":\n",
    "        return dist\n",
    "    elif unit == \"km\":\n",
    "        return (dist / 1000) \n",
    "\n",
    "dist = __get_distance(st[0], st[1], unit=\"km\")\n",
    "\n",
    "\n"
   ]
  },
  {
   "cell_type": "code",
   "execution_count": null,
   "id": "arranged-excitement",
   "metadata": {
    "ExecuteTime": {
     "end_time": "2021-03-10T10:21:13.554785Z",
     "start_time": "2021-03-10T10:21:13.129206Z"
    }
   },
   "outputs": [],
   "source": [
    "fig, ax = plt.subplots(3, 1, figsize=(15,8))\n",
    "\n",
    "\n",
    "ax[0].plot(st[0].data)\n",
    "\n",
    "ax[1].plot(st[0].data)\n",
    "\n",
    "ax[2].plot((st[0].data - st[1].data) / __get_distance(st[0], st[1]))"
   ]
  },
  {
   "cell_type": "code",
   "execution_count": null,
   "id": "frank-prerequisite",
   "metadata": {},
   "outputs": [],
   "source": []
  }
 ],
 "metadata": {
  "kernelspec": {
   "display_name": "Python 3",
   "language": "python",
   "name": "python3"
  },
  "language_info": {
   "codemirror_mode": {
    "name": "ipython",
    "version": 3
   },
   "file_extension": ".py",
   "mimetype": "text/x-python",
   "name": "python",
   "nbconvert_exporter": "python",
   "pygments_lexer": "ipython3",
   "version": "3.7.7"
  }
 },
 "nbformat": 4,
 "nbformat_minor": 5
}
