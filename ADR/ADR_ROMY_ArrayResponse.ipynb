{
 "cells": [
  {
   "cell_type": "markdown",
   "metadata": {},
   "source": [
    "## ROMY Array"
   ]
  },
  {
   "cell_type": "markdown",
   "metadata": {},
   "source": [
    "### Importing"
   ]
  },
  {
   "cell_type": "code",
   "execution_count": 1,
   "metadata": {
    "ExecuteTime": {
     "end_time": "2022-06-03T09:44:13.686208Z",
     "start_time": "2022-06-03T09:44:11.187989Z"
    }
   },
   "outputs": [],
   "source": [
    "import os, subprocess\n",
    "import numpy as np\n",
    "import matplotlib.pyplot as plt \n",
    "import obspy\n",
    "import pandas as pd\n",
    "\n",
    "from obspy.clients.fdsn import Client, RoutingClient\n",
    "from obspy.signal.array_analysis import array_transff_wavenumber\n",
    "from obspy.imaging.cm import obspy_sequential\n",
    "from obspy.geodetics import locations2degrees\n",
    "from andbro__querrySeismoData import __querrySeismoData\n",
    "from tqdm import tqdm\n",
    "from obspy.core.util import AttribDict\n",
    "\n",
    "# frompydsm.relab import shiftdim\n",
    "\n",
    "#from andbro__save_to import __save_to\n",
    "#from andbro__get_data import __get_data\n"
   ]
  },
  {
   "cell_type": "markdown",
   "metadata": {},
   "source": [
    "### Setting Variables"
   ]
  },
  {
   "cell_type": "code",
   "execution_count": 2,
   "metadata": {
    "ExecuteTime": {
     "end_time": "2022-06-03T09:44:13.692209Z",
     "start_time": "2022-06-03T09:44:13.687441Z"
    },
    "code_folding": []
   },
   "outputs": [],
   "source": [
    "config = {}\n",
    "\n",
    "config['klim'] = 50.\n",
    "config['kstep'] = config['klim'] / 100.\n",
    "\n",
    "config['tbeg'] = obspy.UTCDateTime(\"2019-05-14T12:17:00.000\")\n",
    "config['tend'] = obspy.UTCDateTime(\"2019-05-14T14:00:10.000\")\n",
    "\n",
    "\n",
    "config['client'] = RoutingClient(\"eida-routing\")"
   ]
  },
  {
   "cell_type": "markdown",
   "metadata": {},
   "source": [
    "### Defining Methods"
   ]
  },
  {
   "cell_type": "code",
   "execution_count": 3,
   "metadata": {
    "ExecuteTime": {
     "end_time": "2022-06-03T09:44:13.710433Z",
     "start_time": "2022-06-03T09:44:13.693427Z"
    },
    "code_folding": [
     1
    ]
   },
   "outputs": [],
   "source": [
    "\n",
    "def __plotArrayGeometryAndResponse(array, transff, klim, kstep, names=None, unit=None):\n",
    "    \n",
    "    ## calulcate geometrical center of array\n",
    "    array_center = [np.median(array[:,0]), np.median(array[:,1])]\n",
    "    \n",
    "    ## find geometrical limits of array\n",
    "    lon_min, lon_max = np.min(array[:,0]), np.max(array[:,0])\n",
    "    lat_min, lat_max = np.min(array[:,1]), np.max(array[:,1])\n",
    "    \n",
    "    ## define bounds\n",
    "    kxmin, kxmax, kymin, kymax = -klim, klim, -klim, klim\n",
    "    \n",
    "    \n",
    "    ## _________________________________________________________\n",
    "    ##\n",
    "    fig, axes = plt.subplots(1,2, figsize=(16,6))\n",
    "\n",
    "    fs=12\n",
    "    \n",
    "    if unit is \"km\":\n",
    "        xdata = (array[:,0]-array_center[0])*111.\n",
    "        ydata = (array[:,1]-array_center[1])*111. * np.cos(array[:,1]/180.*np.pi)\n",
    "        x0, y0 = array_center[0]*111., array_center[1]*111. * np.cos(array[1]/180.*np.pi)\n",
    "    elif unit is \"deg\":\n",
    "        xdata = array[:,0]\n",
    "        ydata = array[:,1]\n",
    "        x0, y0 = array_center[0], array_center[1]\n",
    "        \n",
    "    ## ________________________________________________\n",
    "#     axes[0].plot(xdata, ydata,'kv')\n",
    "    axes[0].scatter(xdata, ydata, s=35, color='black', marker='v', zorder=3)\n",
    "    axes[0].scatter(x0, y0, color='red', marker='o', s=25, zorder=2)\n",
    "    \n",
    "    if unit is \"km\" or unit is None:\n",
    "        axes[0].set_xlabel('X (km)', fontsize=fs)\n",
    "        axes[0].set_ylabel('Y (km)', fontsize=fs)\n",
    "\n",
    "        axes[0].set_ylim([-max(abs(ydata)), max(abs(ydata))])\n",
    "        axes[0].set_ylim([-max(abs(ydata)), max(abs(ydata))])\n",
    "                 \n",
    "    elif unit is \"deg\":\n",
    "        axes[0].set_xlabel('Longitude (°)', fontsize=fs)\n",
    "        axes[0].set_ylabel('Latitude (°)', fontsize=fs)\n",
    "                 \n",
    "    axes[0].set_title('Square Array configuration', fontsize=fs+2)\n",
    "    \n",
    "    for x, y, s in zip(xdata, ydata, list(names)):\n",
    "        axes[0].text(x, y, s, ha=\"right\", va=\"top\")\n",
    "    \n",
    "    ## ________________________________________________\n",
    "    ax2 = axes[1].pcolor(np.arange(kxmin, kxmax + kstep * 1.1, kstep) - kstep / 2.,\n",
    "               np.arange(kymin, kymax + kstep * 1.1, kstep) - kstep / 2.,\n",
    "               transff.T, cmap=obspy_sequential)\n",
    "    \n",
    "    plt.colorbar(ax2, ax=axes[:])\n",
    "    ax2.set_clim(0., 1.)\n",
    "    \n",
    "    axes[1].set_xlim(kxmin, kxmax)\n",
    "    axes[1].set_ylim(kymin, kymax)\n",
    "    axes[1].set_xlabel('wave number (m$^{-1}$)', fontsize=fs)\n",
    "    axes[1].set_ylabel('wave number (m$^{-1}$)', fontsize=fs)\n",
    "    axes[1].set_title('ARF Square Array', fontsize=fs+2)\n",
    "    \n",
    "    plt.show()    \n"
   ]
  },
  {
   "cell_type": "code",
   "execution_count": 4,
   "metadata": {
    "ExecuteTime": {
     "end_time": "2022-06-03T09:44:13.732503Z",
     "start_time": "2022-06-03T09:44:13.711661Z"
    },
    "code_folding": [
     1
    ]
   },
   "outputs": [],
   "source": [
    "\n",
    "def __getArrayStations(seed_id, tbeg, tend, fur_coords):\n",
    "\n",
    "    net, sta, loc, cha  = seed_id.split(\".\")\n",
    "\n",
    "    route =  RoutingClient(\"eida-routing\")\n",
    "    inv_check =route.get_stations(\n",
    "                            network=net, \n",
    "                            station=sta,\n",
    "                            channel=cha,\n",
    "                            starttime=tbeg,\n",
    "                            endtime=tend,\n",
    "                            latitude=fur_coords[0],\n",
    "                            longitude=fur_coords[1],\n",
    "                            minradius=0,\n",
    "                            maxradius=0.1,\n",
    "                            )\n",
    "    \n",
    "    \n",
    "    inv_check.plot(projection=\"local\");\n",
    "    \n",
    "    \n",
    "    codes, lon, lat, elev = [], [], [], []\n",
    "    for h, network in enumerate(inv_check):\n",
    "        for i, station in enumerate(network):\n",
    "             \n",
    "            codes.append(f'{inv_check[h].code}.{station.code}')\n",
    "            lon.append(station.longitude)\n",
    "            lat.append(station.latitude)\n",
    "            elev.append(station.elevation/1000.)\n",
    "            \n",
    "    frame = pd.DataFrame({'codes': codes, 'lon': lon, 'lat': lat, 'elev':elev})\n",
    "    \n",
    "    return frame\n"
   ]
  },
  {
   "cell_type": "code",
   "execution_count": 5,
   "metadata": {
    "ExecuteTime": {
     "end_time": "2022-06-03T09:44:13.747963Z",
     "start_time": "2022-06-03T09:44:13.733438Z"
    },
    "code_folding": [
     1
    ]
   },
   "outputs": [],
   "source": [
    "\n",
    "def __calculateDistanceOfStations(array_stations):\n",
    "    '''\n",
    "    from obspy.geodetics import locations2degrees\n",
    "\n",
    "    '''\n",
    "    \n",
    "    N = len(array_stations)\n",
    "    \n",
    "    dist_in_deg = np.zeros((N, N))\n",
    "\n",
    "    for i, station1 in array_stations.iterrows():\n",
    "        for j, station2 in array_stations.iterrows():\n",
    "            dist_in_deg[i][j] = locations2degrees(lat1  = station1[2], \n",
    "                                                  long1 = station1[1], \n",
    "                                                  lat2  = station2[2], \n",
    "                                                  long2 = station2[1],\n",
    "                                                  )\n",
    "            \n",
    "    return dist_in_deg, np.max(dist_in_deg)*111.0\n"
   ]
  },
  {
   "cell_type": "code",
   "execution_count": 6,
   "metadata": {
    "ExecuteTime": {
     "end_time": "2022-06-03T09:44:13.761593Z",
     "start_time": "2022-06-03T09:44:13.748836Z"
    },
    "code_folding": [
     1
    ]
   },
   "outputs": [],
   "source": [
    "\n",
    "# def __plotArraySection(st_in, scal, comp=None): \n",
    "    \n",
    "#     if comp is not None:\n",
    "#         st_in = st_in.select(component = comp);\n",
    "#         title = f'{comp}-components of ROMY Array'\n",
    "        \n",
    "#     names = [tr.stats.station for tr in st_in]\n",
    "    \n",
    "#     fs = 14\n",
    "    \n",
    "#     ## _________________________________________\n",
    "#     ##\n",
    "#     fig, ax = plt.subplots(1,1, figsize=(13,6))\n",
    "    \n",
    "#     if len(st_in) > 50: \n",
    "#         print(f\"only 50 of {len(st_in)} traces are plotted!\")\n",
    "#         st_in = st_in[:30]\n",
    "        \n",
    "#     for istation in range(len(st_in)):\n",
    "#         tmp = st_in[istation].data\n",
    "        \n",
    "#         if len(tmp) == 0:\n",
    "#             print('no data for station:', st_in[istation].stats.station)\n",
    "        \n",
    "#         else:\n",
    "#             if scal > 0:\n",
    "#                 tmp1 = tmp/(np.max(tmp)-np.min(tmp))\n",
    "#             else:\n",
    "#                 tmp1 = tmp\n",
    "            \n",
    "#             timeline = np.arange(0,len(tmp1),1)*st_in[istation].stats.delta\n",
    "            \n",
    "#             ax.plot(timeline, tmp1*np.abs(scal)+istation*np.abs(scal),'k')\n",
    "    \n",
    "#     ax.set_yticks(np.arange(0,len(st_in), 1)*scal)\n",
    "#     ax.set_yticklabels(names, fontsize = fs)    \n",
    "# #     ax.set_yticklabels(np.arange(0,len(st_in),1)+1)\n",
    "#     ax.set_xlabel(f'Time from {st_in[0].stats.starttime.date} {st_in[0].stats.starttime.time} UTC (s)', fontsize = fs, labelpad=10)\n",
    "#     ax.set_title(title, fontsize = fs)\n",
    "    \n",
    "#     plt.show();\n",
    "#     return fig\n"
   ]
  },
  {
   "cell_type": "code",
   "execution_count": 7,
   "metadata": {
    "ExecuteTime": {
     "end_time": "2022-06-03T09:44:14.505253Z",
     "start_time": "2022-06-03T09:44:14.503251Z"
    },
    "code_folding": [
     1
    ]
   },
   "outputs": [],
   "source": [
    "\n",
    "# def __getStream(array_stations, tbeg, tend):\n",
    "    \n",
    "#     '''\n",
    "#     from obspy.core.util import AttribDict\n",
    "\n",
    "#     '''\n",
    "    \n",
    "#     ## request waveforms\n",
    "#     st = obspy.Stream(traces=None)\n",
    "#     for i, station in array_stations.iterrows():\n",
    "#         print(f\"requesting {station[0]}..BH* ...\")\n",
    "\n",
    "#         try:\n",
    "#             st0, st_inv = __querrySeismoData(f\"{station[0]}..BH*\", tbeg, tend, restitute = True, details=None)\n",
    "            \n",
    "        \n",
    "#         except:\n",
    "#             print(f'--> failed for {station[0]}!')\n",
    "        \n",
    "\n",
    "\n",
    "#         st += st0\n",
    "    \n",
    "    \n",
    "#     ## check for doubles\n",
    "#     codes = []; removed = 0\n",
    "#     for tr in st:\n",
    "#         code = f\"{tr.stats.network}.{tr.stats.station}.{tr.stats.channel}\"\n",
    "#         if code in codes:\n",
    "#             st.remove(tr)\n",
    "#             removed += 1\n",
    "#         else:\n",
    "#             codes.append(code)\n",
    "    \n",
    "#     st.merge(); \n",
    "#     print(f'\\n{removed} doubles have been removed!')\n",
    "    \n",
    "#     return st\n"
   ]
  },
  {
   "cell_type": "markdown",
   "metadata": {},
   "source": [
    "### Obtain Station Information"
   ]
  },
  {
   "cell_type": "code",
   "execution_count": 13,
   "metadata": {
    "ExecuteTime": {
     "end_time": "2022-06-03T09:45:16.339100Z",
     "start_time": "2022-06-03T09:45:16.125105Z"
    },
    "code_folding": []
   },
   "outputs": [
    {
     "data": {
      "text/plain": [
       "[48.1639, 11.2768, 565.0]"
      ]
     },
     "execution_count": 13,
     "metadata": {},
     "output_type": "execute_result"
    }
   ],
   "source": [
    "## get station info of FUR\n",
    "\n",
    "net, sta, loc, cha  = \"GR.FUR..BHZ\".split(\".\")\n",
    " \n",
    "inv_fur = config['client'].get_stations(\n",
    "                                        network = net, \n",
    "                                        station = sta,\n",
    "                                        channel = cha,\n",
    "                                        starttime = config['tbeg'],\n",
    "                                        endtime = config['tend']\n",
    "                                        ) \n",
    "\n",
    "fur_coords = [inv_fur[0][0].latitude, inv_fur[0][0].longitude, inv_fur[0][0].elevation]\n",
    "fur_coords"
   ]
  },
  {
   "cell_type": "code",
   "execution_count": 15,
   "metadata": {
    "ExecuteTime": {
     "end_time": "2022-06-03T09:45:34.933402Z",
     "start_time": "2022-06-03T09:45:30.501680Z"
    },
    "code_folding": []
   },
   "outputs": [
    {
     "ename": "FileNotFoundError",
     "evalue": "[Errno 2] No such file or directory: '/home/YOUR_USER/anaconda3/share/proj/epsg'",
     "output_type": "error",
     "traceback": [
      "\u001b[0;31m---------------------------------------------------------------------------\u001b[0m",
      "\u001b[0;31mFileNotFoundError\u001b[0m                         Traceback (most recent call last)",
      "\u001b[0;32m<ipython-input-15-76778550155b>\u001b[0m in \u001b[0;36m<module>\u001b[0;34m\u001b[0m\n\u001b[1;32m      1\u001b[0m \u001b[0;31m## get all stations around ROMY\u001b[0m\u001b[0;34m\u001b[0m\u001b[0;34m\u001b[0m\u001b[0;34m\u001b[0m\u001b[0m\n\u001b[1;32m      2\u001b[0m \u001b[0;34m\u001b[0m\u001b[0m\n\u001b[0;32m----> 3\u001b[0;31m \u001b[0marray_stations\u001b[0m \u001b[0;34m=\u001b[0m \u001b[0m__getArrayStations\u001b[0m\u001b[0;34m(\u001b[0m\u001b[0;34m\"*.*..B*Z\"\u001b[0m\u001b[0;34m,\u001b[0m \u001b[0mconfig\u001b[0m\u001b[0;34m[\u001b[0m\u001b[0;34m'tbeg'\u001b[0m\u001b[0;34m]\u001b[0m\u001b[0;34m,\u001b[0m \u001b[0mconfig\u001b[0m\u001b[0;34m[\u001b[0m\u001b[0;34m'tend'\u001b[0m\u001b[0;34m]\u001b[0m\u001b[0;34m,\u001b[0m \u001b[0mfur_coords\u001b[0m\u001b[0;34m)\u001b[0m\u001b[0;34m\u001b[0m\u001b[0;34m\u001b[0m\u001b[0m\n\u001b[0m\u001b[1;32m      4\u001b[0m \u001b[0;34m\u001b[0m\u001b[0m\n\u001b[1;32m      5\u001b[0m \u001b[0marray_stations\u001b[0m\u001b[0;34m\u001b[0m\u001b[0;34m\u001b[0m\u001b[0m\n",
      "\u001b[0;32m<ipython-input-4-dcc5d3eb89bd>\u001b[0m in \u001b[0;36m__getArrayStations\u001b[0;34m(seed_id, tbeg, tend, fur_coords)\u001b[0m\n\u001b[1;32m     17\u001b[0m \u001b[0;34m\u001b[0m\u001b[0m\n\u001b[1;32m     18\u001b[0m \u001b[0;34m\u001b[0m\u001b[0m\n\u001b[0;32m---> 19\u001b[0;31m     \u001b[0minv_check\u001b[0m\u001b[0;34m.\u001b[0m\u001b[0mplot\u001b[0m\u001b[0;34m(\u001b[0m\u001b[0mprojection\u001b[0m\u001b[0;34m=\u001b[0m\u001b[0;34m\"local\"\u001b[0m\u001b[0;34m)\u001b[0m\u001b[0;34m;\u001b[0m\u001b[0;34m\u001b[0m\u001b[0;34m\u001b[0m\u001b[0m\n\u001b[0m\u001b[1;32m     20\u001b[0m \u001b[0;34m\u001b[0m\u001b[0m\n\u001b[1;32m     21\u001b[0m \u001b[0;34m\u001b[0m\u001b[0m\n",
      "\u001b[0;32m~/anaconda3/lib/python3.7/site-packages/obspy/core/inventory/inventory.py\u001b[0m in \u001b[0;36mplot\u001b[0;34m(self, projection, resolution, continent_fill_color, water_fill_color, marker, size, label, color, color_per_network, colormap, legend, time, show, outfile, method, fig, **kwargs)\u001b[0m\n\u001b[1;32m    957\u001b[0m             \u001b[0mcat\u001b[0m\u001b[0;34m.\u001b[0m\u001b[0mplot\u001b[0m\u001b[0;34m(\u001b[0m\u001b[0mfig\u001b[0m\u001b[0;34m=\u001b[0m\u001b[0mfig\u001b[0m\u001b[0;34m)\u001b[0m\u001b[0;34m\u001b[0m\u001b[0;34m\u001b[0m\u001b[0m\n\u001b[1;32m    958\u001b[0m         \"\"\"\n\u001b[0;32m--> 959\u001b[0;31m         \u001b[0;32mfrom\u001b[0m \u001b[0mobspy\u001b[0m\u001b[0;34m.\u001b[0m\u001b[0mimaging\u001b[0m\u001b[0;34m.\u001b[0m\u001b[0mmaps\u001b[0m \u001b[0;32mimport\u001b[0m \u001b[0mplot_map\u001b[0m\u001b[0;34m\u001b[0m\u001b[0;34m\u001b[0m\u001b[0m\n\u001b[0m\u001b[1;32m    960\u001b[0m         \u001b[0;32mimport\u001b[0m \u001b[0mmatplotlib\u001b[0m\u001b[0;34m.\u001b[0m\u001b[0mpyplot\u001b[0m \u001b[0;32mas\u001b[0m \u001b[0mplt\u001b[0m\u001b[0;34m\u001b[0m\u001b[0;34m\u001b[0m\u001b[0m\n\u001b[1;32m    961\u001b[0m \u001b[0;34m\u001b[0m\u001b[0m\n",
      "\u001b[0;32m~/anaconda3/lib/python3.7/site-packages/obspy/imaging/maps.py\u001b[0m in \u001b[0;36m<module>\u001b[0;34m\u001b[0m\n\u001b[1;32m     31\u001b[0m \u001b[0;34m\u001b[0m\u001b[0m\n\u001b[1;32m     32\u001b[0m \u001b[0;32mif\u001b[0m \u001b[0mBASEMAP_VERSION\u001b[0m\u001b[0;34m:\u001b[0m\u001b[0;34m\u001b[0m\u001b[0;34m\u001b[0m\u001b[0m\n\u001b[0;32m---> 33\u001b[0;31m     \u001b[0;32mfrom\u001b[0m \u001b[0mmpl_toolkits\u001b[0m\u001b[0;34m.\u001b[0m\u001b[0mbasemap\u001b[0m \u001b[0;32mimport\u001b[0m \u001b[0mBasemap\u001b[0m\u001b[0;34m\u001b[0m\u001b[0;34m\u001b[0m\u001b[0m\n\u001b[0m\u001b[1;32m     34\u001b[0m     \u001b[0mHAS_BASEMAP\u001b[0m \u001b[0;34m=\u001b[0m \u001b[0;32mTrue\u001b[0m\u001b[0;34m\u001b[0m\u001b[0;34m\u001b[0m\u001b[0m\n\u001b[1;32m     35\u001b[0m     \u001b[0;32mif\u001b[0m \u001b[0mBASEMAP_VERSION\u001b[0m \u001b[0;34m<\u001b[0m \u001b[0;34m[\u001b[0m\u001b[0;36m1\u001b[0m\u001b[0;34m,\u001b[0m \u001b[0;36m0\u001b[0m\u001b[0;34m,\u001b[0m \u001b[0;36m4\u001b[0m\u001b[0;34m]\u001b[0m\u001b[0;34m:\u001b[0m\u001b[0;34m\u001b[0m\u001b[0;34m\u001b[0m\u001b[0m\n",
      "\u001b[0;32m~/anaconda3/lib/python3.7/site-packages/mpl_toolkits/basemap/__init__.py\u001b[0m in \u001b[0;36m<module>\u001b[0;34m\u001b[0m\n\u001b[1;32m    163\u001b[0m \u001b[0;31m# create dictionary that maps epsg codes to Basemap kwargs.\u001b[0m\u001b[0;34m\u001b[0m\u001b[0;34m\u001b[0m\u001b[0;34m\u001b[0m\u001b[0m\n\u001b[1;32m    164\u001b[0m \u001b[0mpyproj_datadir\u001b[0m \u001b[0;34m=\u001b[0m \u001b[0mos\u001b[0m\u001b[0;34m.\u001b[0m\u001b[0menviron\u001b[0m\u001b[0;34m[\u001b[0m\u001b[0;34m'PROJ_LIB'\u001b[0m\u001b[0;34m]\u001b[0m\u001b[0;34m\u001b[0m\u001b[0;34m\u001b[0m\u001b[0m\n\u001b[0;32m--> 165\u001b[0;31m \u001b[0mepsgf\u001b[0m \u001b[0;34m=\u001b[0m \u001b[0mopen\u001b[0m\u001b[0;34m(\u001b[0m\u001b[0mos\u001b[0m\u001b[0;34m.\u001b[0m\u001b[0mpath\u001b[0m\u001b[0;34m.\u001b[0m\u001b[0mjoin\u001b[0m\u001b[0;34m(\u001b[0m\u001b[0mpyproj_datadir\u001b[0m\u001b[0;34m,\u001b[0m\u001b[0;34m'epsg'\u001b[0m\u001b[0;34m)\u001b[0m\u001b[0;34m)\u001b[0m\u001b[0;34m\u001b[0m\u001b[0;34m\u001b[0m\u001b[0m\n\u001b[0m\u001b[1;32m    166\u001b[0m \u001b[0mepsg_dict\u001b[0m\u001b[0;34m=\u001b[0m\u001b[0;34m{\u001b[0m\u001b[0;34m}\u001b[0m\u001b[0;34m\u001b[0m\u001b[0;34m\u001b[0m\u001b[0m\n\u001b[1;32m    167\u001b[0m \u001b[0;32mfor\u001b[0m \u001b[0mline\u001b[0m \u001b[0;32min\u001b[0m \u001b[0mepsgf\u001b[0m\u001b[0;34m:\u001b[0m\u001b[0;34m\u001b[0m\u001b[0;34m\u001b[0m\u001b[0m\n",
      "\u001b[0;31mFileNotFoundError\u001b[0m: [Errno 2] No such file or directory: '/home/YOUR_USER/anaconda3/share/proj/epsg'"
     ]
    }
   ],
   "source": [
    "## get all stations around ROMY\n",
    "\n",
    "array_stations = __getArrayStations(\"*.*..B*Z\", config['tbeg'], config['tend'], fur_coords)\n",
    "\n",
    "array_stations"
   ]
  },
  {
   "cell_type": "markdown",
   "metadata": {},
   "source": [
    "### Calulcate Distances, Plot Array Geometry and Response"
   ]
  },
  {
   "cell_type": "code",
   "execution_count": 18,
   "metadata": {
    "ExecuteTime": {
     "end_time": "2022-06-03T09:46:57.696950Z",
     "start_time": "2022-06-03T09:46:57.687600Z"
    },
    "code_folding": []
   },
   "outputs": [
    {
     "ename": "NameError",
     "evalue": "name 'array_stations' is not defined",
     "output_type": "error",
     "traceback": [
      "\u001b[0;31m---------------------------------------------------------------------------\u001b[0m",
      "\u001b[0;31mNameError\u001b[0m                                 Traceback (most recent call last)",
      "\u001b[0;32m<ipython-input-18-7826a7ae5221>\u001b[0m in \u001b[0;36m<module>\u001b[0;34m\u001b[0m\n\u001b[0;32m----> 1\u001b[0;31m \u001b[0mdist\u001b[0m\u001b[0;34m,\u001b[0m \u001b[0mdist_max\u001b[0m \u001b[0;34m=\u001b[0m \u001b[0m__calculateDistanceOfStations\u001b[0m\u001b[0;34m(\u001b[0m\u001b[0marray_stations\u001b[0m\u001b[0;34m)\u001b[0m\u001b[0;34m\u001b[0m\u001b[0;34m\u001b[0m\u001b[0m\n\u001b[0m\u001b[1;32m      2\u001b[0m \u001b[0;34m\u001b[0m\u001b[0m\n\u001b[1;32m      3\u001b[0m \u001b[0;34m\u001b[0m\u001b[0m\n\u001b[1;32m      4\u001b[0m \u001b[0mlambda_min\u001b[0m \u001b[0;34m=\u001b[0m \u001b[0;36m.4\u001b[0m\u001b[0;34m*\u001b[0m\u001b[0mdist_max\u001b[0m \u001b[0;31m# in km\u001b[0m\u001b[0;34m\u001b[0m\u001b[0;34m\u001b[0m\u001b[0m\n\u001b[1;32m      5\u001b[0m \u001b[0;34m\u001b[0m\u001b[0m\n",
      "\u001b[0;31mNameError\u001b[0m: name 'array_stations' is not defined"
     ]
    }
   ],
   "source": [
    "\n",
    "dist, dist_max = __calculateDistanceOfStations(array_stations)\n",
    "\n",
    "\n",
    "lambda_min = .4*dist_max # in km\n",
    "\n",
    "config['k_max'] = 2*np.pi/lambda_min\n",
    "config['k_step'] = k_max / 100.\n",
    "\n",
    "coordinates = np.column_stack([array_stations.lon, array_stations.lat, array_stations.elev])\n",
    "\n",
    "## compute transfer function as a function of wavenumber difference\n",
    "transff = array_transff_wavenumber(coordinates, \n",
    "                                   config['k_max'], \n",
    "                                   config['k_step'], \n",
    "                                   coordsys='lonlat'\n",
    "                                   )\n",
    "\n",
    "    \n",
    "__plotArrayGeometryAndResponse(coordinates, \n",
    "                               transff, \n",
    "                               config['k_max'], \n",
    "                               config['k_step'], \n",
    "                               array_stations.codes,\n",
    "                               unit=\"deg\",\n",
    "                              )"
   ]
  },
  {
   "cell_type": "code",
   "execution_count": 19,
   "metadata": {
    "ExecuteTime": {
     "end_time": "2022-06-03T09:46:59.267924Z",
     "start_time": "2022-06-03T09:46:59.251451Z"
    },
    "code_folding": [
     2
    ]
   },
   "outputs": [
    {
     "ename": "NameError",
     "evalue": "name 'array_stations' is not defined",
     "output_type": "error",
     "traceback": [
      "\u001b[0;31m---------------------------------------------------------------------------\u001b[0m",
      "\u001b[0;31mNameError\u001b[0m                                 Traceback (most recent call last)",
      "\u001b[0;32m<ipython-input-19-ea8edab44bfc>\u001b[0m in \u001b[0;36m<module>\u001b[0;34m\u001b[0m\n\u001b[1;32m     17\u001b[0m     \u001b[0;32mreturn\u001b[0m \u001b[0mregion\u001b[0m\u001b[0;34m,\u001b[0m \u001b[0mprojection\u001b[0m\u001b[0;34m\u001b[0m\u001b[0;34m\u001b[0m\u001b[0m\n\u001b[1;32m     18\u001b[0m \u001b[0;34m\u001b[0m\u001b[0m\n\u001b[0;32m---> 19\u001b[0;31m \u001b[0mregion\u001b[0m\u001b[0;34m,\u001b[0m \u001b[0mprojection\u001b[0m \u001b[0;34m=\u001b[0m \u001b[0m__getMapParameters\u001b[0m\u001b[0;34m(\u001b[0m\u001b[0marray_stations\u001b[0m\u001b[0;34m.\u001b[0m\u001b[0mlat\u001b[0m\u001b[0;34m,\u001b[0m \u001b[0marray_stations\u001b[0m\u001b[0;34m.\u001b[0m\u001b[0mlon\u001b[0m\u001b[0;34m)\u001b[0m\u001b[0;34m\u001b[0m\u001b[0;34m\u001b[0m\u001b[0m\n\u001b[0m\u001b[1;32m     20\u001b[0m \u001b[0;34m\u001b[0m\u001b[0m\n\u001b[1;32m     21\u001b[0m \u001b[0mfig\u001b[0m \u001b[0;34m=\u001b[0m \u001b[0mpygmt\u001b[0m\u001b[0;34m.\u001b[0m\u001b[0mFigure\u001b[0m\u001b[0;34m(\u001b[0m\u001b[0;34m)\u001b[0m\u001b[0;34m\u001b[0m\u001b[0;34m\u001b[0m\u001b[0m\n",
      "\u001b[0;31mNameError\u001b[0m: name 'array_stations' is not defined"
     ]
    }
   ],
   "source": [
    "import pygmt\n",
    "\n",
    "def __getMapParameters(lats, lons):\n",
    "    \n",
    "    # Determine a nice, padded region\n",
    "    region = [np.min(lons), np.max(lons), np.min(lats), np.max(lats)]\n",
    "    x_pad = (region[1] - region[0]) * 0.3\n",
    "    y_pad = (region[3] - region[2]) * 0.3\n",
    "    region = [region[0] - x_pad, region[1] + x_pad, region[2] - y_pad, region[3] + y_pad]\n",
    "\n",
    "    # Determine a nice stereographic projection\n",
    "    lon_0 = np.mean(region[:2])\n",
    "    lat_0 = np.mean(region[2:])\n",
    "    ref_lat = 90 if lat_0 > 0 else -90\n",
    "    projection = f'S{lon_0}/{ref_lat}/6i'\n",
    "\n",
    "    return region, projection\n",
    "\n",
    "region, projection = __getMapParameters(array_stations.lat, array_stations.lon)\n",
    "\n",
    "fig = pygmt.Figure()\n",
    "\n",
    "\n",
    "fig.coast(\n",
    "        region=region,\n",
    "        projection=projection,\n",
    "        shorelines=True,\n",
    "        water='lightblue',\n",
    "        rivers=[1],\n",
    "        land='lightgrey',\n",
    "        borders=[1, 2],\n",
    "        frame='a',\n",
    ")\n",
    "\n",
    "KWARGS = dict(\n",
    "              grid='@srtm_relief_01s',\n",
    "              region=region,\n",
    "              projection=projection,\n",
    "              frame=False,\n",
    "              shading=True,\n",
    "              cmap='earth',\n",
    "             )\n",
    "fig.grdimage(**KWARGS)\n",
    "\n",
    "\n",
    "fig.plot(array_stations.lon, array_stations.lat, style='i0.2i', color='white', pen=True)\n",
    "\n",
    "fig.text(x=array_stations.lon, \n",
    "         y=array_stations.lat, \n",
    "         text=[code.split(\".\")[1] for code in array_stations.codes],\n",
    "         offset=[0.2, 0.5],\n",
    "         font=\"12p,Helvetica-Bold,white\"\n",
    "        )\n",
    "\n",
    "fig.colorbar()\n",
    "\n",
    "\n",
    "fig.show()"
   ]
  },
  {
   "cell_type": "code",
   "execution_count": null,
   "metadata": {
    "ExecuteTime": {
     "end_time": "2022-06-03T09:44:19.201813Z",
     "start_time": "2022-06-03T09:44:16.382Z"
    }
   },
   "outputs": [],
   "source": [
    "import xarray as xr\n",
    "\n",
    "axis = np.arange(-config['klim'], config['klim']+0.5,0.5)\n",
    "print( len(axis))\n",
    "\n",
    "model = xr.DataArray(transff.T, coords=(axis, axis), dims=('lat', 'lon'))\n",
    "\n",
    "\n",
    "fig = pygmt.Figure()\n",
    "\n",
    "\n",
    "fig.coast(\n",
    "        region=region,\n",
    "        projection=projection,\n",
    "        shorelines=True,\n",
    "        water='lightblue',\n",
    "        rivers=[1],\n",
    "        land='lightgrey',\n",
    "        borders=[1, 2],\n",
    "        frame='a',\n",
    ")\n",
    "\n",
    "KWARGS = dict(\n",
    "              grid=transff.T,\n",
    "              region=region,\n",
    "              projection=projection,\n",
    "              frame=False,\n",
    "              shading=True,\n",
    "              cmap='earth',\n",
    "             )\n",
    "fig.grdimage(**KWARGS)\n",
    "\n",
    "\n",
    "fig.plot(array_stations.lon, array_stations.lat, style='i0.2i', color='white', pen=True)\n",
    "\n",
    "fig.text(x=array_stations.lon, \n",
    "         y=array_stations.lat, \n",
    "         text=[code.split(\".\")[1] for code in array_stations.codes],\n",
    "         offset=[0.2, 0.5],\n",
    "         font=\"12p,Helvetica-Bold,white\"\n",
    "        )\n",
    "\n",
    "fig.colorbar()\n",
    "\n",
    "\n",
    "fig.show()"
   ]
  },
  {
   "cell_type": "code",
   "execution_count": 152,
   "metadata": {
    "ExecuteTime": {
     "end_time": "2021-10-07T15:35:43.351302Z",
     "start_time": "2021-10-07T15:35:43.345400Z"
    }
   },
   "outputs": [
    {
     "data": {
      "text/plain": [
       "(201, 201)"
      ]
     },
     "execution_count": 152,
     "metadata": {},
     "output_type": "execute_result"
    }
   ],
   "source": [
    "transff.T.shape"
   ]
  },
  {
   "cell_type": "code",
   "execution_count": null,
   "metadata": {},
   "outputs": [],
   "source": []
  }
 ],
 "metadata": {
  "kernelspec": {
   "display_name": "Python 3",
   "language": "python",
   "name": "python3"
  },
  "language_info": {
   "codemirror_mode": {
    "name": "ipython",
    "version": 3
   },
   "file_extension": ".py",
   "mimetype": "text/x-python",
   "name": "python",
   "nbconvert_exporter": "python",
   "pygments_lexer": "ipython3",
   "version": "3.7.7"
  }
 },
 "nbformat": 4,
 "nbformat_minor": 4
}
