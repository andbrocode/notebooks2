{
 "cells": [
  {
   "cell_type": "code",
   "execution_count": 1,
   "metadata": {},
   "outputs": [],
   "source": [
    "# Import \n",
    "%matplotlib inline\n",
    "\n",
    "from obspy import read, UTCDateTime, Stream, Trace\n",
    "import warnings\n",
    "warnings.filterwarnings('ignore')                  # do not show warnings\n",
    "import obspy\n",
    "from scipy import signal, fftpack\n",
    "import numpy as np\n",
    "import matplotlib.pylab as plt\n",
    "from obspy.signal import PPSD\n",
    "from obspy import read_inventory\n",
    "import matplotlib.mlab as mlab\n",
    "import pandas as pd\n",
    "from obspy.signal.array_analysis import array_rotation_strain"
   ]
  },
  {
   "cell_type": "code",
   "execution_count": 2,
   "metadata": {},
   "outputs": [],
   "source": [
    "def import_data(name,t1,t2):\n",
    "    stZ=read('\\\\Users\\\\bidy_\\\\OneDrive\\\\Dokumente\\\\PhD\\\\Daten\\\\mseed\\\\XX.{}..HHZ.D.2021.068'.format(name))\n",
    "    stN=read('\\\\Users\\\\bidy_\\\\OneDrive\\\\Dokumente\\\\PhD\\\\Daten\\\\mseed\\\\XX.{}..HHN.D.2021.068'.format(name))\n",
    "    stE=read('\\\\Users\\\\bidy_\\\\OneDrive\\\\Dokumente\\\\PhD\\\\Daten\\\\mseed\\\\XX.{}..HHE.D.2021.068'.format(name))\n",
    "    \n",
    "    print(stZ)\n",
    "    \n",
    "    inv=read_inventory('\\\\Users\\\\bidy_\\\\OneDrive\\\\Dokumente\\\\PhD\\\\Daten\\\\stationxml\\\\{}.xml'.format(name))\n",
    "    \n",
    "    trZ = stZ.copy()[0]\n",
    "    trN = stN.copy()[0]\n",
    "    trE = stE.copy()[0]\n",
    "\n",
    "    trZ.detrend('spline', order= 3, dspline=500)\n",
    "    trN.detrend('spline', order= 3, dspline=500)\n",
    "    trE.detrend('spline', order= 3, dspline=500)\n",
    "\n",
    "    trZ=trZ.remove_response(inventory=inv, output=\"VEL\") \n",
    "    trN=trN.remove_response(inventory=inv, output=\"VEL\")\n",
    "    trE=trE.remove_response(inventory=inv, output=\"VEL\")\n",
    "    \n",
    "    trZ = trZ.trim(t1, t2)\n",
    "    trZ.plot()\n",
    "\n",
    "    trN = trN.trim(t1, t2)\n",
    "    trN.plot()\n",
    "\n",
    "    trE = trE.trim(t1, t2)\n",
    "    trE.plot()\n",
    "    plt.show()\n",
    "    \n",
    "    return trZ, trN, trE"
   ]
  },
  {
   "cell_type": "code",
   "execution_count": 3,
   "metadata": {},
   "outputs": [],
   "source": [
    "#time window\n",
    "t1=UTCDateTime(\"2021-03-09T11:20:00.00\")\n",
    "t2=UTCDateTime(\"2021-03-09T13:20:00.00\")"
   ]
  },
  {
   "cell_type": "code",
   "execution_count": 4,
   "metadata": {
    "scrolled": true
   },
   "outputs": [
    {
     "ename": "FileNotFoundError",
     "evalue": "[Errno 2] No such file or directory: '\\\\Users\\\\bidy_\\\\OneDrive\\\\Dokumente\\\\PhD\\\\Daten\\\\mseed\\\\XX.EGTC..HHZ.D.2021.068'",
     "output_type": "error",
     "traceback": [
      "\u001b[0;31m---------------------------------------------------------------------------\u001b[0m",
      "\u001b[0;31mFileNotFoundError\u001b[0m                         Traceback (most recent call last)",
      "\u001b[0;32m<ipython-input-4-a62d23fd8bdc>\u001b[0m in \u001b[0;36m<module>\u001b[0;34m\u001b[0m\n\u001b[1;32m      1\u001b[0m \u001b[0;31m#import Trillium Compact data\u001b[0m\u001b[0;34m\u001b[0m\u001b[0;34m\u001b[0m\u001b[0;34m\u001b[0m\u001b[0m\n\u001b[0;32m----> 2\u001b[0;31m \u001b[0mtrZ_TC\u001b[0m\u001b[0;34m,\u001b[0m\u001b[0mtrN_TC\u001b[0m\u001b[0;34m,\u001b[0m\u001b[0mtrE_TC\u001b[0m \u001b[0;34m=\u001b[0m \u001b[0mimport_data\u001b[0m\u001b[0;34m(\u001b[0m\u001b[0;34m\"EGTC\"\u001b[0m\u001b[0;34m,\u001b[0m\u001b[0mt1\u001b[0m\u001b[0;34m,\u001b[0m\u001b[0mt2\u001b[0m\u001b[0;34m)\u001b[0m\u001b[0;34m\u001b[0m\u001b[0;34m\u001b[0m\u001b[0m\n\u001b[0m",
      "\u001b[0;32m<ipython-input-2-bedaf0e72e23>\u001b[0m in \u001b[0;36mimport_data\u001b[0;34m(name, t1, t2)\u001b[0m\n\u001b[1;32m      1\u001b[0m \u001b[0;32mdef\u001b[0m \u001b[0mimport_data\u001b[0m\u001b[0;34m(\u001b[0m\u001b[0mname\u001b[0m\u001b[0;34m,\u001b[0m\u001b[0mt1\u001b[0m\u001b[0;34m,\u001b[0m\u001b[0mt2\u001b[0m\u001b[0;34m)\u001b[0m\u001b[0;34m:\u001b[0m\u001b[0;34m\u001b[0m\u001b[0;34m\u001b[0m\u001b[0m\n\u001b[0;32m----> 2\u001b[0;31m     \u001b[0mstZ\u001b[0m\u001b[0;34m=\u001b[0m\u001b[0mread\u001b[0m\u001b[0;34m(\u001b[0m\u001b[0;34m'\\\\Users\\\\bidy_\\\\OneDrive\\\\Dokumente\\\\PhD\\\\Daten\\\\mseed\\\\XX.{}..HHZ.D.2021.068'\u001b[0m\u001b[0;34m.\u001b[0m\u001b[0mformat\u001b[0m\u001b[0;34m(\u001b[0m\u001b[0mname\u001b[0m\u001b[0;34m)\u001b[0m\u001b[0;34m)\u001b[0m\u001b[0;34m\u001b[0m\u001b[0;34m\u001b[0m\u001b[0m\n\u001b[0m\u001b[1;32m      3\u001b[0m     \u001b[0mstN\u001b[0m\u001b[0;34m=\u001b[0m\u001b[0mread\u001b[0m\u001b[0;34m(\u001b[0m\u001b[0;34m'\\\\Users\\\\bidy_\\\\OneDrive\\\\Dokumente\\\\PhD\\\\Daten\\\\mseed\\\\XX.{}..HHN.D.2021.068'\u001b[0m\u001b[0;34m.\u001b[0m\u001b[0mformat\u001b[0m\u001b[0;34m(\u001b[0m\u001b[0mname\u001b[0m\u001b[0;34m)\u001b[0m\u001b[0;34m)\u001b[0m\u001b[0;34m\u001b[0m\u001b[0;34m\u001b[0m\u001b[0m\n\u001b[1;32m      4\u001b[0m     \u001b[0mstE\u001b[0m\u001b[0;34m=\u001b[0m\u001b[0mread\u001b[0m\u001b[0;34m(\u001b[0m\u001b[0;34m'\\\\Users\\\\bidy_\\\\OneDrive\\\\Dokumente\\\\PhD\\\\Daten\\\\mseed\\\\XX.{}..HHE.D.2021.068'\u001b[0m\u001b[0;34m.\u001b[0m\u001b[0mformat\u001b[0m\u001b[0;34m(\u001b[0m\u001b[0mname\u001b[0m\u001b[0;34m)\u001b[0m\u001b[0;34m)\u001b[0m\u001b[0;34m\u001b[0m\u001b[0;34m\u001b[0m\u001b[0m\n\u001b[1;32m      5\u001b[0m \u001b[0;34m\u001b[0m\u001b[0m\n",
      "\u001b[0;32m~/anaconda3/lib/python3.7/site-packages/decorator.py\u001b[0m in \u001b[0;36mfun\u001b[0;34m(*args, **kw)\u001b[0m\n\u001b[1;32m    230\u001b[0m             \u001b[0;32mif\u001b[0m \u001b[0;32mnot\u001b[0m \u001b[0mkwsyntax\u001b[0m\u001b[0;34m:\u001b[0m\u001b[0;34m\u001b[0m\u001b[0;34m\u001b[0m\u001b[0m\n\u001b[1;32m    231\u001b[0m                 \u001b[0margs\u001b[0m\u001b[0;34m,\u001b[0m \u001b[0mkw\u001b[0m \u001b[0;34m=\u001b[0m \u001b[0mfix\u001b[0m\u001b[0;34m(\u001b[0m\u001b[0margs\u001b[0m\u001b[0;34m,\u001b[0m \u001b[0mkw\u001b[0m\u001b[0;34m,\u001b[0m \u001b[0msig\u001b[0m\u001b[0;34m)\u001b[0m\u001b[0;34m\u001b[0m\u001b[0;34m\u001b[0m\u001b[0m\n\u001b[0;32m--> 232\u001b[0;31m             \u001b[0;32mreturn\u001b[0m \u001b[0mcaller\u001b[0m\u001b[0;34m(\u001b[0m\u001b[0mfunc\u001b[0m\u001b[0;34m,\u001b[0m \u001b[0;34m*\u001b[0m\u001b[0;34m(\u001b[0m\u001b[0mextras\u001b[0m \u001b[0;34m+\u001b[0m \u001b[0margs\u001b[0m\u001b[0;34m)\u001b[0m\u001b[0;34m,\u001b[0m \u001b[0;34m**\u001b[0m\u001b[0mkw\u001b[0m\u001b[0;34m)\u001b[0m\u001b[0;34m\u001b[0m\u001b[0;34m\u001b[0m\u001b[0m\n\u001b[0m\u001b[1;32m    233\u001b[0m     \u001b[0mfun\u001b[0m\u001b[0;34m.\u001b[0m\u001b[0m__name__\u001b[0m \u001b[0;34m=\u001b[0m \u001b[0mfunc\u001b[0m\u001b[0;34m.\u001b[0m\u001b[0m__name__\u001b[0m\u001b[0;34m\u001b[0m\u001b[0;34m\u001b[0m\u001b[0m\n\u001b[1;32m    234\u001b[0m     \u001b[0mfun\u001b[0m\u001b[0;34m.\u001b[0m\u001b[0m__doc__\u001b[0m \u001b[0;34m=\u001b[0m \u001b[0mfunc\u001b[0m\u001b[0;34m.\u001b[0m\u001b[0m__doc__\u001b[0m\u001b[0;34m\u001b[0m\u001b[0;34m\u001b[0m\u001b[0m\n",
      "\u001b[0;32m~/anaconda3/lib/python3.7/site-packages/obspy/core/util/decorator.py\u001b[0m in \u001b[0;36m_map_example_filename\u001b[0;34m(func, *args, **kwargs)\u001b[0m\n\u001b[1;32m    298\u001b[0m                         \u001b[0;32mexcept\u001b[0m \u001b[0mIOError\u001b[0m\u001b[0;34m:\u001b[0m\u001b[0;34m\u001b[0m\u001b[0;34m\u001b[0m\u001b[0m\n\u001b[1;32m    299\u001b[0m                             \u001b[0;32mpass\u001b[0m\u001b[0;34m\u001b[0m\u001b[0;34m\u001b[0m\u001b[0m\n\u001b[0;32m--> 300\u001b[0;31m         \u001b[0;32mreturn\u001b[0m \u001b[0mfunc\u001b[0m\u001b[0;34m(\u001b[0m\u001b[0;34m*\u001b[0m\u001b[0margs\u001b[0m\u001b[0;34m,\u001b[0m \u001b[0;34m**\u001b[0m\u001b[0mkwargs\u001b[0m\u001b[0;34m)\u001b[0m\u001b[0;34m\u001b[0m\u001b[0;34m\u001b[0m\u001b[0m\n\u001b[0m\u001b[1;32m    301\u001b[0m     \u001b[0;32mreturn\u001b[0m \u001b[0m_map_example_filename\u001b[0m\u001b[0;34m\u001b[0m\u001b[0;34m\u001b[0m\u001b[0m\n\u001b[1;32m    302\u001b[0m \u001b[0;34m\u001b[0m\u001b[0m\n",
      "\u001b[0;32m~/anaconda3/lib/python3.7/site-packages/obspy/core/stream.py\u001b[0m in \u001b[0;36mread\u001b[0;34m(pathname_or_url, format, headonly, starttime, endtime, nearest_sample, dtype, apply_calib, check_compression, **kwargs)\u001b[0m\n\u001b[1;32m    210\u001b[0m         \u001b[0mst\u001b[0m \u001b[0;34m=\u001b[0m \u001b[0m_create_example_stream\u001b[0m\u001b[0;34m(\u001b[0m\u001b[0mheadonly\u001b[0m\u001b[0;34m=\u001b[0m\u001b[0mheadonly\u001b[0m\u001b[0;34m)\u001b[0m\u001b[0;34m\u001b[0m\u001b[0;34m\u001b[0m\u001b[0m\n\u001b[1;32m    211\u001b[0m     \u001b[0;32melse\u001b[0m\u001b[0;34m:\u001b[0m\u001b[0;34m\u001b[0m\u001b[0;34m\u001b[0m\u001b[0m\n\u001b[0;32m--> 212\u001b[0;31m         \u001b[0mst\u001b[0m \u001b[0;34m=\u001b[0m \u001b[0m_generic_reader\u001b[0m\u001b[0;34m(\u001b[0m\u001b[0mpathname_or_url\u001b[0m\u001b[0;34m,\u001b[0m \u001b[0m_read\u001b[0m\u001b[0;34m,\u001b[0m \u001b[0;34m**\u001b[0m\u001b[0mkwargs\u001b[0m\u001b[0;34m)\u001b[0m\u001b[0;34m\u001b[0m\u001b[0;34m\u001b[0m\u001b[0m\n\u001b[0m\u001b[1;32m    213\u001b[0m \u001b[0;34m\u001b[0m\u001b[0m\n\u001b[1;32m    214\u001b[0m     \u001b[0;32mif\u001b[0m \u001b[0mlen\u001b[0m\u001b[0;34m(\u001b[0m\u001b[0mst\u001b[0m\u001b[0;34m)\u001b[0m \u001b[0;34m==\u001b[0m \u001b[0;36m0\u001b[0m\u001b[0;34m:\u001b[0m\u001b[0;34m\u001b[0m\u001b[0;34m\u001b[0m\u001b[0m\n",
      "\u001b[0;32m~/anaconda3/lib/python3.7/site-packages/obspy/core/util/base.py\u001b[0m in \u001b[0;36m_generic_reader\u001b[0;34m(pathname_or_url, callback_func, **kwargs)\u001b[0m\n\u001b[1;32m    697\u001b[0m                 \u001b[0;32mraise\u001b[0m \u001b[0mException\u001b[0m\u001b[0;34m(\u001b[0m\u001b[0;34m\"No file matching file pattern: %s\"\u001b[0m \u001b[0;34m%\u001b[0m \u001b[0mpathname\u001b[0m\u001b[0;34m)\u001b[0m\u001b[0;34m\u001b[0m\u001b[0;34m\u001b[0m\u001b[0m\n\u001b[1;32m    698\u001b[0m             \u001b[0;32melif\u001b[0m \u001b[0;32mnot\u001b[0m \u001b[0mglob\u001b[0m\u001b[0;34m.\u001b[0m\u001b[0mhas_magic\u001b[0m\u001b[0;34m(\u001b[0m\u001b[0mpathname\u001b[0m\u001b[0;34m)\u001b[0m \u001b[0;32mand\u001b[0m \u001b[0;32mnot\u001b[0m \u001b[0mos\u001b[0m\u001b[0;34m.\u001b[0m\u001b[0mpath\u001b[0m\u001b[0;34m.\u001b[0m\u001b[0misfile\u001b[0m\u001b[0;34m(\u001b[0m\u001b[0mpathname\u001b[0m\u001b[0;34m)\u001b[0m\u001b[0;34m:\u001b[0m\u001b[0;34m\u001b[0m\u001b[0;34m\u001b[0m\u001b[0m\n\u001b[0;32m--> 699\u001b[0;31m                 \u001b[0;32mraise\u001b[0m \u001b[0mIOError\u001b[0m\u001b[0;34m(\u001b[0m\u001b[0;36m2\u001b[0m\u001b[0;34m,\u001b[0m \u001b[0;34m\"No such file or directory\"\u001b[0m\u001b[0;34m,\u001b[0m \u001b[0mpathname\u001b[0m\u001b[0;34m)\u001b[0m\u001b[0;34m\u001b[0m\u001b[0;34m\u001b[0m\u001b[0m\n\u001b[0m\u001b[1;32m    700\u001b[0m \u001b[0;34m\u001b[0m\u001b[0m\n\u001b[1;32m    701\u001b[0m         \u001b[0mgeneric\u001b[0m \u001b[0;34m=\u001b[0m \u001b[0mcallback_func\u001b[0m\u001b[0;34m(\u001b[0m\u001b[0mpathnames\u001b[0m\u001b[0;34m[\u001b[0m\u001b[0;36m0\u001b[0m\u001b[0;34m]\u001b[0m\u001b[0;34m,\u001b[0m \u001b[0;34m**\u001b[0m\u001b[0mkwargs\u001b[0m\u001b[0;34m)\u001b[0m\u001b[0;34m\u001b[0m\u001b[0;34m\u001b[0m\u001b[0m\n",
      "\u001b[0;31mFileNotFoundError\u001b[0m: [Errno 2] No such file or directory: '\\\\Users\\\\bidy_\\\\OneDrive\\\\Dokumente\\\\PhD\\\\Daten\\\\mseed\\\\XX.EGTC..HHZ.D.2021.068'"
     ]
    }
   ],
   "source": [
    "#import Trillium Compact data\n",
    "trZ_TC,trN_TC,trE_TC = import_data(\"EGTC\",t1,t2)"
   ]
  },
  {
   "cell_type": "code",
   "execution_count": null,
   "metadata": {
    "scrolled": true
   },
   "outputs": [],
   "source": [
    "#import LE3D 25 data\n",
    "trZ_25,trN_25,trE_25 = import_data(\"EG25\",t1,t2)"
   ]
  },
  {
   "cell_type": "code",
   "execution_count": null,
   "metadata": {
    "scrolled": true
   },
   "outputs": [],
   "source": [
    "#import LE3D 420 data\n",
    "trZ_420,trN_420,trE_420 = import_data(\"EG420\",t1,t2)"
   ]
  },
  {
   "cell_type": "code",
   "execution_count": null,
   "metadata": {
    "scrolled": true
   },
   "outputs": [],
   "source": [
    "#import LE3D 26 data\n",
    "trZ_26,trN_26,trE_26 = import_data(\"EG26\",t1,t2)"
   ]
  },
  {
   "cell_type": "code",
   "execution_count": null,
   "metadata": {
    "scrolled": true
   },
   "outputs": [],
   "source": [
    "#import LE3D 409 data\n",
    "trZ_409,trN_409,trE_409 = import_data(\"EG409\",t1,t2)"
   ]
  },
  {
   "cell_type": "code",
   "execution_count": null,
   "metadata": {
    "scrolled": true
   },
   "outputs": [],
   "source": [
    "#import LE3D 3 data\n",
    "trZ_3,trN_3,trE_3 = import_data(\"EG3\",t1,t2)"
   ]
  },
  {
   "cell_type": "code",
   "execution_count": null,
   "metadata": {
    "scrolled": true
   },
   "outputs": [],
   "source": [
    "# Import the trace ADR\n",
    "stZ_BL = read('\\\\Users\\\\bidy_\\\\OneDrive\\\\Dokumente\\\\PhD\\\\Daten\\\\mseed\\\\BW.ADR..HHZ.D.2021.068')\n",
    "stN_BL = read('\\\\Users\\\\bidy_\\\\OneDrive\\\\Dokumente\\\\PhD\\\\Daten\\\\mseed\\\\BW.ADR..HHN.D.2021.068')\n",
    "stE_BL = read('\\\\Users\\\\bidy_\\\\OneDrive\\\\Dokumente\\\\PhD\\\\Daten\\\\mseed\\\\BW.ADR..HHE.D.2021.068')\n",
    "\n",
    "print(stZ_BL)\n",
    "\n",
    "inv_BL= read_inventory('\\\\Users\\\\bidy_\\\\OneDrive\\\\Dokumente\\\\PhD\\\\Daten\\\\stationxml\\\\EGBL.xml')\n",
    "print(inv_BL)\n",
    "\n",
    "trZ_BL = stZ_BL.copy()[1]\n",
    "trZ_BL.stats.station=\"EGBL\"\n",
    "trZ_BL.stats.network='XX'\n",
    "\n",
    "trN_BL = stN_BL.copy()[1]\n",
    "trN_BL.stats.station=\"EGBL\"\n",
    "trN_BL.stats.network='XX'\n",
    "\n",
    "trE_BL = stE_BL.copy()[1]\n",
    "trE_BL.stats.station=\"EGBL\"\n",
    "trE_BL.stats.network='XX'\n",
    "\n",
    "#trZ_BL.plot()\n",
    "\n",
    "trZ_BL.detrend('spline', order= 3, dspline=500)\n",
    "trN_BL.detrend('spline', order= 3, dspline=500)\n",
    "trE_BL.detrend('spline', order= 3, dspline=500)\n",
    "\n",
    "trZ_BL=trZ_BL.remove_response(inventory=inv_BL, output=\"VEL\") \n",
    "trN_BL=trN_BL.remove_response(inventory=inv_BL, output=\"VEL\")\n",
    "trE_BL=trE_BL.remove_response(inventory=inv_BL, output=\"VEL\")\n",
    "\n",
    "#t1=UTCDateTime(\"2021-03-09T11:20:00.00\")\n",
    "#t2=UTCDateTime(\"2021-03-09T13:20:00.00\")\n",
    "\n",
    "Thickness=0.1\n",
    "\n",
    "trZ_BL = trZ_BL.trim(t1, t2)\n",
    "trZ_BL.plot(linewidth=Thickness)\n",
    "\n",
    "trN_BL = trN_BL.trim(t1, t2)\n",
    "trN_BL.plot(linewidth=Thickness)\n",
    "\n",
    "trE_BL = trE_BL.trim(t1, t2)\n",
    "trE_BL.plot(linewidth=Thickness)\n",
    "plt.show()"
   ]
  },
  {
   "cell_type": "code",
   "execution_count": null,
   "metadata": {},
   "outputs": [],
   "source": [
    "#write all traces in one stream\n",
    "st=obspy.Stream([trZ_TC,trN_TC,trE_TC,trZ_25,trN_25,trE_25,trZ_420,trN_420,trE_420,trZ_26,trN_26,trE_26,trZ_409,\n",
    "                trN_409,trE_409,trZ_3,trN_3,trE_3,trZ_BL,trN_BL,trE_BL])"
   ]
  },
  {
   "cell_type": "code",
   "execution_count": null,
   "metadata": {},
   "outputs": [],
   "source": [
    "print(st)"
   ]
  },
  {
   "cell_type": "markdown",
   "metadata": {},
   "source": [
    "# array_rotation_strain(subarray, ts1, ts2, ts3, vp, vs, array_coords, sigmau)\n",
    "\n",
    "## vp (float)\n",
    "P wave speed in the soil under the array (km/s)\n",
    "\n",
    "## vs (float)\n",
    "S wave speed in the soil under the array Note - vp and vs may be any unit (e.g. miles/week), and this unit need not be related to the units of the station coordinates or ground motions, but the units of vp and vs must be the SAME because only their ratio is used.\n",
    "\n",
    "## array_coords (numpy.ndarray)\n",
    "array of dimension na x 3, where na is the number of stations in the array. array_coords[i,j], i in arange(na), j in arange(3) is j coordinate of station i. units of array_coords may be anything, but see the “Discussion of input and output units” above. The origin of coordinates is arbitrary and does not affect the calculated strains and rotations. Stations may be entered in any order.\n",
    "\n",
    "## ts1 (numpy.ndarray)\n",
    "array of x1-component seismograms, dimension nt x na. ts1[j,k], j in arange(nt), k in arange(na) contains the k’th time sample of the x1 component ground motion at station k. NOTE that the seismogram in column k must correspond to the station whose coordinates are in row k of in.array_coords. nt is the number of time samples in the seismograms. Seismograms may be displacement, velocity, acceleration, jerk, etc. See the “Discussion of input and output units” below.\n",
    "\n",
    "## ts2 (numpy.ndarray)\n",
    "same as ts1, but for the x2 component of motion.\n",
    "\n",
    "## ts3 (numpy.ndarray)\n",
    "same as ts1, but for the x3 (UP or DOWN) component of motion.\n",
    "\n",
    "## sigmau (float or numpy.ndarray)\n",
    "standard deviation (NOT VARIANCE) of ground noise, corresponds to sigma-sub-u in S95 lines above eqn (A5). NOTE: This may be entered as a scalar, vector, or matrix!\n",
    "\n",
    "If sigmau is a scalar, it will be used for all components of all stations.\n",
    "If sigmau is a 1D array of length na, sigmau[i] will be the noise assigned to all components of the station corresponding to array_coords[i,:]\n",
    "If sigmau is a 2D array of dimension na x 3, then sigmau[i,j] is used as the noise of station i, component j.\n",
    "In all cases, this routine assumes that the noise covariance between different stations and/or components is zero.\n",
    "\n",
    "## subarray (numpy.ndarray)\n",
    "NumPy array of subarray stations to use. I.e. if subarray = array([1, 4, 10]), then only rows 1, 4, and 10 of array_coords will be used, and only ground motion time series in the first, fourth, and tenth columns of ts1 will be used. Nplus1 is the number of elements in the subarray vector, and N is set to Nplus1 - 1. To use all stations in the array, set in.subarray = arange(na), where na is the total number of stations in the array (equal to the number of rows of in.array_coords. Sequence of stations in the subarray vector is unimportant; i.e. subarray = array([1, 4, 10]) will yield essentially the same rotations and strains as subarray = array([10, 4, 1]). “Essentially” because permuting subarray sequence changes the d vector, yielding a slightly different numerical result."
   ]
  },
  {
   "cell_type": "code",
   "execution_count": null,
   "metadata": {},
   "outputs": [],
   "source": [
    "#calculate standard deviation for each trace\n",
    "stdev_N=[]\n",
    "i=1\n",
    "for n in range(len(st)-14):\n",
    "    std=np.std(np.array(st[i]))\n",
    "    stdev_N.append(std)\n",
    "    i=i+3\n",
    "    \n",
    "stdev_E=[]\n",
    "i=2\n",
    "for n in range(len(st)-14):\n",
    "    std=np.std(np.array(st[i]))\n",
    "    stdev_E.append(std)\n",
    "    i=i+3\n",
    "    \n",
    "stdev_Z=[]\n",
    "i=0\n",
    "for n in range(len(st)-14):\n",
    "    std=np.std(np.array(st[i]))\n",
    "    stdev_Z.append(std)\n",
    "    i=i+3   \n",
    "    \n",
    "print(np.shape(stdev_N))"
   ]
  },
  {
   "cell_type": "code",
   "execution_count": null,
   "metadata": {},
   "outputs": [],
   "source": [
    "sigmau=[]\n",
    "for i in (range(len(stdev_N))):\n",
    "    sig=[]\n",
    "    n=stdev_N[i]\n",
    "    e=stdev_E[i]\n",
    "    z=stdev_Z[i]\n",
    "    sig.append(z)\n",
    "    sig.append(n)\n",
    "    sig.append(e)\n",
    "    sigmau.append(sig)"
   ]
  },
  {
   "cell_type": "code",
   "execution_count": null,
   "metadata": {},
   "outputs": [],
   "source": [
    "print(np.shape(sigmau))  #7 stations with 3 traces each"
   ]
  },
  {
   "cell_type": "code",
   "execution_count": null,
   "metadata": {},
   "outputs": [],
   "source": [
    "#import coordinates of stations\n",
    "array_coords=pd.read_csv(\"C:\\\\Users\\\\bidy_\\\\OneDrive\\\\Dokumente\\\\PhD\\\\Messungen\\\\ADR_Messungen\\\\EGA_ADR_coords.csv\", delimiter=\",\")"
   ]
  },
  {
   "cell_type": "code",
   "execution_count": null,
   "metadata": {
    "scrolled": true
   },
   "outputs": [],
   "source": [
    "print(array_coords)"
   ]
  },
  {
   "cell_type": "code",
   "execution_count": null,
   "metadata": {},
   "outputs": [],
   "source": [
    "x_coord=np.array(array_coords[['x']][:].values[:,0], dtype=float)\n",
    "y_coord=np.array(array_coords[['y']][:].values[:,0], dtype=float)\n",
    "z_coord=np.array(array_coords[['z']][:].values[:,0], dtype=float)"
   ]
  },
  {
   "cell_type": "code",
   "execution_count": null,
   "metadata": {},
   "outputs": [],
   "source": [
    "#shape has to be (number of stations, three components each)\n",
    "\n",
    "coordinates=[]\n",
    "for n in range(len(x_coord)):\n",
    "    station=[]\n",
    "    x=x_coord[n]\n",
    "    y=y_coord[n]\n",
    "    z=z_coord[n]\n",
    "    station.append(x)\n",
    "    station.append(y)\n",
    "    station.append(z)\n",
    "    coordinates.append(station)\n",
    "    \n",
    "coordinates=np.array(coordinates)"
   ]
  },
  {
   "cell_type": "code",
   "execution_count": null,
   "metadata": {},
   "outputs": [],
   "source": [
    "print(np.shape(coordinates))\n",
    "print(np.shape(st))"
   ]
  },
  {
   "cell_type": "code",
   "execution_count": null,
   "metadata": {},
   "outputs": [],
   "source": [
    "#order seismograms, separate arrays for all N, E and Z components\n",
    "\n",
    "seismograms_ts1=[]\n",
    "i=2\n",
    "for n in range(len(st)-14):\n",
    "    seismograms_ts1.append(st[i][:])\n",
    "    i=i+3\n",
    "    \n",
    "seismograms_ts2=[]\n",
    "i=1\n",
    "for n in range(len(st)-14):\n",
    "    seismograms_ts2.append(st[i][:])\n",
    "    i=i+3\n",
    "    \n",
    "seismograms_ts3=[]\n",
    "i=0\n",
    "for n in range(len(st)-14):\n",
    "    seismograms_ts3.append(st[i][:])\n",
    "    i=i+3\n",
    "    \n",
    "print(np.shape(seismograms_ts1))"
   ]
  },
  {
   "cell_type": "code",
   "execution_count": null,
   "metadata": {},
   "outputs": [],
   "source": [
    "#order input ts1, ts2, ts3\n",
    "#shape has to be (number of sampling points, number of stations)\n",
    "\n",
    "def order_seismograms(component):\n",
    "    ts=[]\n",
    "    for n in range(len(component[0])):\n",
    "        row=[]\n",
    "        for i in range(len(component)):\n",
    "            row.append(component[i][n])\n",
    "        ts.append(row)\n",
    "    ts=np.array(ts)\n",
    "    print(np.shape(ts))\n",
    "    \n",
    "    return ts\n",
    "            "
   ]
  },
  {
   "cell_type": "code",
   "execution_count": null,
   "metadata": {},
   "outputs": [],
   "source": [
    "ts1=order_seismograms(seismograms_ts1)\n",
    "ts2=order_seismograms(seismograms_ts2)\n",
    "ts3=order_seismograms(seismograms_ts3)"
   ]
  },
  {
   "cell_type": "code",
   "execution_count": null,
   "metadata": {},
   "outputs": [],
   "source": [
    "#inputs for obspy function\n",
    "vp=0.400 \n",
    "vs=0.200  \n",
    "subarray=np.array([0,1,2,3,4,5,6])\n",
    "sigmau=np.array(sigmau)"
   ]
  },
  {
   "cell_type": "code",
   "execution_count": null,
   "metadata": {},
   "outputs": [],
   "source": [
    "adr=array_rotation_strain(subarray=subarray,ts1=ts1,ts2=ts2,ts3=ts3,vp=vp,vs=vs,array_coords=coordinates,sigmau=sigmau)"
   ]
  },
  {
   "cell_type": "code",
   "execution_count": null,
   "metadata": {},
   "outputs": [],
   "source": [
    "#output: if input in velocity, then output in rad/s\n",
    "\n",
    "rots_x=adr[\"ts_w1\"]\n",
    "t=np.linspace(0,len(ts1),len(ts1))\n",
    "\n",
    "plt.figure(figsize=(12,8))\n",
    "plt.plot(t,rots_x)\n",
    "plt.show()"
   ]
  },
  {
   "cell_type": "code",
   "execution_count": null,
   "metadata": {},
   "outputs": [],
   "source": [
    "rots_y=adr[\"ts_w2\"]\n",
    "\n",
    "plt.figure(figsize=(12,8))\n",
    "plt.plot(t,rots_y)\n",
    "plt.show()"
   ]
  },
  {
   "cell_type": "code",
   "execution_count": null,
   "metadata": {},
   "outputs": [],
   "source": [
    "rots_z=adr[\"ts_w3\"]\n",
    "\n",
    "plt.figure(figsize=(12,8))\n",
    "plt.plot(t,rots_z)\n",
    "plt.show()"
   ]
  },
  {
   "cell_type": "code",
   "execution_count": null,
   "metadata": {},
   "outputs": [],
   "source": [
    "tr_wx=obspy.Trace()\n",
    "array=np.array(rots_x)\n",
    "tr_wx.data=np.array(array)\n",
    "tr_wx.stats.starttime=(\"2021-03-09T11:20:00.00\")\n",
    "#tr_wx.stats.endtime=(\"2020-05-29T16:24:00.00\")\n",
    "tr_wx.stats.station=\"EGA\"\n",
    "tr_wx.stats.network='XX'\n",
    "tr_wx.stats.channel=\"HJ1\"\n",
    "tr_wx.stats.sampling_rate=200\n",
    "#st=obspy.Stream([tr_wx])\n"
   ]
  },
  {
   "cell_type": "code",
   "execution_count": null,
   "metadata": {},
   "outputs": [],
   "source": [
    "tr_wy=obspy.Trace()\n",
    "array=np.array(rots_y)\n",
    "tr_wy.data=np.array(array)\n",
    "tr_wy.stats.starttime=(\"2021-03-09T11:20:00.00\")\n",
    "#tr_wx.stats.endtime=(\"2020-05-29T16:24:00.00\")\n",
    "tr_wy.stats.station=\"EGA\"\n",
    "tr_wy.stats.network='XX'\n",
    "tr_wy.stats.channel=\"HJ2\"\n",
    "tr_wy.stats.sampling_rate=200\n",
    "#st=obspy.Stream([tr_wy])"
   ]
  },
  {
   "cell_type": "code",
   "execution_count": null,
   "metadata": {},
   "outputs": [],
   "source": [
    "tr_wz=obspy.Trace()\n",
    "array=np.array(rots_z)\n",
    "tr_wz.data=np.array(array)\n",
    "tr_wz.stats.starttime=(\"2021-03-09T11:20:00.00\")\n",
    "#tr_wx.stats.endtime=(\"2020-05-29T16:24:00.00\")\n",
    "tr_wz.stats.station=\"EGA\"\n",
    "tr_wz.stats.network='XX'\n",
    "tr_wz.stats.channel=\"HJ3\"\n",
    "tr_wz.stats.sampling_rate=200\n",
    "\n",
    "st=obspy.Stream([tr_wz,tr_wx,tr_wy])"
   ]
  },
  {
   "cell_type": "code",
   "execution_count": null,
   "metadata": {},
   "outputs": [],
   "source": [
    "tr_wx.write('\\\\Users\\\\bidy_\\\\OneDrive\\\\Dokumente\\\\PhD\\\\Daten\\\\ROLODE\\\\Array\\\\EGA\\\\2021\\\\XX\\\\EGA\\\\HJ1.D\\\\XX.EGA..HJ1.D.2021.068', format ='MSEED')\n",
    "tr_wy.write('\\\\Users\\\\bidy_\\\\OneDrive\\\\Dokumente\\\\PhD\\\\Daten\\\\ROLODE\\\\Array\\\\EGA\\\\2021\\\\XX\\\\EGA\\\\HJ2.D\\\\XX.EGA..HJ2.D.2021.068', format ='MSEED')\n",
    "tr_wz.write('\\\\Users\\\\bidy_\\\\OneDrive\\\\Dokumente\\\\PhD\\\\Daten\\\\ROLODE\\\\Array\\\\EGA\\\\2021\\\\XX\\\\EGA\\\\HJ3.D\\\\XX.EGA..HJ3.D.2021.068', format ='MSEED')"
   ]
  },
  {
   "cell_type": "code",
   "execution_count": null,
   "metadata": {
    "scrolled": true
   },
   "outputs": [],
   "source": [
    "#import rotational data from BS\n",
    "path4 = '\\\\Users\\\\bidy_\\\\OneDrive\\\\Dokumente\\\\PhD\\\\Daten\\\\deramped1\\\\XX.BS3..HJ1.D.2021.068'\n",
    "path5 = '\\\\Users\\\\bidy_\\\\OneDrive\\\\Dokumente\\\\PhD\\\\Daten\\\\deramped1\\\\XX.BS3..HJ2.D.2021.068'\n",
    "path6 = '\\\\Users\\\\bidy_\\\\OneDrive\\\\Dokumente\\\\PhD\\\\Daten\\\\deramped1\\\\XX.BS3..HJ3.D.2021.068'\n",
    "\n",
    "stE_BS3 = read(path4)\n",
    "stN_BS3 = read(path5)\n",
    "stZ_BS3 = read(path6)\n",
    "\n",
    "stE_BS3.plot()\n",
    "stN_BS3.plot()\n",
    "stZ_BS3.plot()\n",
    "plt.show()"
   ]
  },
  {
   "cell_type": "code",
   "execution_count": null,
   "metadata": {},
   "outputs": [],
   "source": [
    "inv_BS= read_inventory('\\\\Users\\\\bidy_\\\\OneDrive\\\\Dokumente\\\\PhD\\\\Daten\\\\stationxml\\\\EGTC.xml')"
   ]
  },
  {
   "cell_type": "code",
   "execution_count": null,
   "metadata": {
    "scrolled": true
   },
   "outputs": [],
   "source": [
    "trE_BS3 = stE_BS3.copy()[0]\n",
    "trE_BS3.stats.station=\"EGTC\"\n",
    "trE_BS3.stats.network='XX'\n",
    "\n",
    "trN_BS3 = stN_BS3.copy()[0]\n",
    "trN_BS3.stats.station=\"EGTC\"\n",
    "trN_BS3.stats.network='XX'\n",
    "\n",
    "trZ_BS3 = stZ_BS3.copy()[0]\n",
    "trZ_BS3.stats.station=\"EGTC\"\n",
    "trZ_BS3.stats.network='XX'\n",
    "\n",
    "# remove the trend on the trace\n",
    "trE_BS3.detrend('spline', order= 3, dspline=500)\n",
    "trN_BS3.detrend('spline', order= 3, dspline=500)\n",
    "trZ_BS3.detrend('spline', order= 3, dspline=500)\n",
    "\n",
    "# Remove Instrument Response\n",
    "trE_BS3=trE_BS3.remove_response(inventory=inv_BS, output=\"VEL\")\n",
    "trN_BS3=trN_BS3.remove_response(inventory=inv_BS, output=\"VEL\")\n",
    "trZ_BS3=trZ_BS3.remove_response(inventory=inv_BS, output=\"VEL\")\n",
    "\n",
    "Thickness=0.1\n",
    "\n",
    "trE_BS3 = trE_BS3.trim(t1, t2)\n",
    "trE_BS3.plot(linewidth=Thickness)\n",
    "\n",
    "trN_BS3 = trN_BS3.trim(t1, t2)\n",
    "trN_BS3.plot(linewidth=Thickness)\n",
    "\n",
    "trZ_BS3 = trZ_BS3.trim(t1, t2)\n",
    "trZ_BS3.plot(linewidth=Thickness)\n",
    "plt.show()"
   ]
  },
  {
   "cell_type": "code",
   "execution_count": null,
   "metadata": {},
   "outputs": [],
   "source": [
    "fig, ax = plt.subplots(figsize=(15, 7))\n",
    "ax.plot(tr_wx,color=\"blue\",zorder=2, label=\"ADR\")\n",
    "ax.plot(trE_BS3,color=\"orange\",zorder=1,label=\"BS\")\n",
    "plt.legend()\n",
    "plt.title(\"HJ1\")\n",
    "plt.show()"
   ]
  },
  {
   "cell_type": "code",
   "execution_count": null,
   "metadata": {},
   "outputs": [],
   "source": [
    "fig, ax = plt.subplots(figsize=(15, 7))\n",
    "ax.plot(tr_wy,color=\"blue\",zorder=2, label=\"ADR\")\n",
    "ax.plot(trN_BS3,color=\"orange\",zorder=1,label=\"BS\")\n",
    "plt.legend()\n",
    "plt.title(\"HJ2\")\n",
    "plt.show()"
   ]
  },
  {
   "cell_type": "code",
   "execution_count": null,
   "metadata": {},
   "outputs": [],
   "source": [
    "fig, ax = plt.subplots(figsize=(15, 7))\n",
    "ax.plot(tr_wz,color=\"blue\",zorder=2, label=\"ADR\")\n",
    "ax.plot(trZ_BS3,color=\"orange\",zorder=1,label=\"BS\")\n",
    "plt.legend()\n",
    "plt.title(\"HJ3\")\n",
    "plt.show()"
   ]
  },
  {
   "cell_type": "code",
   "execution_count": null,
   "metadata": {},
   "outputs": [],
   "source": [
    "import math as M\n",
    "def nearestPow2(x):\n",
    "    \"\"\"\n",
    "    Find power of two nearest to x\n",
    "\n",
    "    >>> nearestPow2(3)\n",
    "    2\n",
    "    >>> nearestPow2(15)\n",
    "    4\n",
    "\n",
    "    :type x: Float\n",
    "    :param x: Number\n",
    "    :rtype: Int\n",
    "    :return: Nearest power of 2 to x\n",
    "    \"\"\"\n",
    "    a = M.pow(2, M.ceil(np.log2(x)))\n",
    "    b = M.pow(2, M.floor(np.log2(x)))\n",
    "    if abs(a - x) < abs(b - x):\n",
    "        return a\n",
    "    else:\n",
    "        return b"
   ]
  },
  {
   "cell_type": "code",
   "execution_count": null,
   "metadata": {},
   "outputs": [],
   "source": [
    "freq_min=0.01\n",
    "T = 3./freq_min\n",
    "df = tr_wx.stats.sampling_rate\n",
    "nfft = int(nearestPow2(int(T/tr_wx.stats.delta)))\n",
    "nlap = 0.5*nfft\n",
    "spec, freq = mlab.psd(trE_BS3.data, nfft, df, detrend=mlab.detrend_mean,window=mlab.window_hanning, noverlap=nlap,pad_to=None, sides='onesided', scale_by_freq=True)\n",
    "ospec, freq = mlab.psd(trN_BS3.data, nfft, df, detrend=mlab.detrend_mean,window=mlab.window_hanning, noverlap=nlap,pad_to=None, sides='onesided', scale_by_freq=True)\n",
    "aspec, freq = mlab.psd(trZ_BS3.data, brotzer@geophysik.uni-muenchen.denfft, df, detrend=mlab.detrend_mean,window=mlab.window_hanning, noverlap=nlap,pad_to=None, sides='onesided', scale_by_freq=True)\n",
    "jspec, freq2 = mlab.psd(tr_wx.data, nfft, df, detrend=mlab.detrend_mean,window=mlab.window_hanning, noverlap=nlap,pad_to=None, sides='onesided', scale_by_freq=True)\n",
    "jospec, freq2 = mlab.psd(tr_wy.data, nfft, df, detrend=mlab.detrend_mean,window=mlab.window_hanning, noverlap=nlap,pad_to=None, sides='onesided', scale_by_freq=True)\n",
    "jaspec, freq2 = mlab.psd(tr_wz.data, nfft, df, detrend=mlab.detrend_mean,window=mlab.window_hanning, noverlap=nlap,pad_to=None, sides='onesided', scale_by_freq=True)"
   ]
  },
  {
   "cell_type": "code",
   "execution_count": null,
   "metadata": {},
   "outputs": [],
   "source": [
    "plt.figure(figsize=(12,8))\n",
    "ax = plt.subplot(111)\n",
    "ax.loglog(freq,np.sqrt(spec),'g',label=\"BS HJ1\",zorder=1) #E\n",
    "ax.loglog(freq,np.sqrt(ospec),'o',label=\"BS HJ2\",zorder=1) #N\n",
    "ax.loglog(freq,np.sqrt(aspec),'y',label=\"BS HJ3\",zorder=1) #Z\n",
    "ax.loglog(freq2,np.sqrt(jspec),'r--',label=\"ADR HJ1\",zorder=2)\n",
    "ax.loglog(freq2,np.sqrt(jospec),'k--',label=\"ADR HJ2\",zorder=2)\n",
    "ax.loglog(freq2,np.sqrt(jaspec),'b--',label=\"ADR HJ3\",zorder=2)\n",
    "ax.grid(b=True, which='major', color='k', linestyle='-', alpha=0.6)\n",
    "ax.grid(b=True, which='minor', color='k', linestyle='--', alpha=0.4)\n",
    "ax.set_ylim(10e-12,10e-5)\n",
    "ax.set_xlim(10e-2,10e1)\n",
    "    \n",
    "plt.legend(loc='upper left')\n",
    "plt.xlabel('Frequency [Hz]')\n",
    "#plt.title(\"PSD %s\"%(tr1.stats.station))\n",
    "#plt.savefig(\"PSD_%s.png\"%(tr1.stats.station))\n",
    "plt.show()"
   ]
  },
  {
   "cell_type": "code",
   "execution_count": null,
   "metadata": {},
   "outputs": [],
   "source": []
  }
 ],
 "metadata": {
  "kernelspec": {
   "display_name": "Python 3",
   "language": "python",
   "name": "python3"
  },
  "language_info": {
   "codemirror_mode": {
    "name": "ipython",
    "version": 3
   },
   "file_extension": ".py",
   "mimetype": "text/x-python",
   "name": "python",
   "nbconvert_exporter": "python",
   "pygments_lexer": "ipython3",
   "version": "3.7.7"
  }
 },
 "nbformat": 4,
 "nbformat_minor": 2
}
