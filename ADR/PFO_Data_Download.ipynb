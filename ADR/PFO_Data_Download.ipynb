{
 "cells": [
  {
   "cell_type": "markdown",
   "id": "ebf19dff",
   "metadata": {
    "ExecuteTime": {
     "end_time": "2022-06-08T12:30:17.450225Z",
     "start_time": "2022-06-08T12:30:17.448623Z"
    }
   },
   "source": [
    "# Data of PFO Array - Data Download"
   ]
  },
  {
   "cell_type": "markdown",
   "id": "874786b9",
   "metadata": {},
   "source": [
    "### Imports"
   ]
  },
  {
   "cell_type": "code",
   "execution_count": 1,
   "id": "ca581778",
   "metadata": {
    "ExecuteTime": {
     "end_time": "2022-07-11T19:46:01.851748Z",
     "start_time": "2022-07-11T19:46:00.587774Z"
    }
   },
   "outputs": [],
   "source": [
    "import obspy as obs\n",
    "import numpy as np\n",
    "import matplotlib.pyplot as plt\n",
    "\n",
    "from andbro__querrySeismoData import __querrySeismoData\n",
    "# from andbro__get_stream import __getStream"
   ]
  },
  {
   "cell_type": "markdown",
   "id": "8c86a449",
   "metadata": {},
   "source": [
    "### Configurations"
   ]
  },
  {
   "cell_type": "code",
   "execution_count": 4,
   "id": "2355dcbe",
   "metadata": {
    "ExecuteTime": {
     "end_time": "2022-07-11T19:46:35.006314Z",
     "start_time": "2022-07-11T19:46:34.996963Z"
    }
   },
   "outputs": [],
   "source": [
    "config = {}\n",
    "\n",
    "config['tbeg'] = obs.UTCDateTime(\"2019-08-20 00:00\")\n",
    "config['tend'] = config['tbeg'] + 86400\n",
    "\n",
    "config['seeds'] = [\n",
    "                    'PY.BPH01..BHZ', 'PY.BPH01..BHN', 'PY.BPH01..BHE',\n",
    "#                     'PY.BPH02..BHZ', 'PY.BPH02..BHN', 'PY.BPH02..BHE',\n",
    "#                     'PY.BPH03..BHZ', 'PY.BPH03..BHN', 'PY.BPH03..BHE',\n",
    "#                     'PY.BPH04..BHZ', 'PY.BPH04..BHN', 'PY.BPH04..BHE',\n",
    "#                     'PY.BPH05..BHZ', 'PY.BPH05..BHN', 'PY.BPH05..BHE',\n",
    "                    'PY.BPH06..BHZ', 'PY.BPH06..BHN', 'PY.BPH06..BHE',\n",
    "#                     'PY.BPH07..BHZ', 'PY.BPH07..BHN', 'PY.BPH07..BHE',\n",
    "#                     'PY.BPH08..BHZ', 'PY.BPH08..BHN', 'PY.BPH08..BHE',\n",
    "                    'PY.BPH09..BHZ', 'PY.BPH09..BHN', 'PY.BPH09..BHE',\n",
    "                    'PY.BPH10..BHZ', 'PY.BPH10..BHN', 'PY.BPH10..BHE',\n",
    "                    'PY.BPH11..BHZ', 'PY.BPH11..BHN', 'PY.BPH11..BHE',\n",
    "                    'PY.BPH12..BHZ', 'PY.BPH12..BHN', 'PY.BPH12..BHE',\n",
    "                    'PY.BPH13..BHZ', 'PY.BPH13..BHN', 'PY.BPH13..BHE',\n",
    "]\n",
    "\n",
    "config['outpath'] = \"/export/data/LNM/data/PFO/test/\"\n",
    "    \n",
    "config['repository'] = \"online\"\n",
    "\n",
    "config['channels'] = np.unique(np.array([i.split(\".\")[3] for i in config['seeds']]))\n",
    "config['stations'] = np.unique(np.array([i.split(\".\")[1] for i in config['seeds']]))\n",
    "    \n",
    "date_str = str(config['tbeg'].date).replace(\"-\",\"\")"
   ]
  },
  {
   "cell_type": "code",
   "execution_count": 5,
   "id": "4495c346",
   "metadata": {
    "ExecuteTime": {
     "end_time": "2022-07-11T19:46:52.349054Z",
     "start_time": "2022-07-11T19:46:52.336819Z"
    },
    "code_folding": [
     0
    ]
   },
   "outputs": [],
   "source": [
    "def __getStream(config, restitute=True):\n",
    "    \"\"\"\n",
    "    \n",
    "    CONFIG:     config['seeds'] list of seed names\n",
    "                config['tbeg'] startime as UTCDateTime\n",
    "                config['tend'] endtime as UTCDateTime\n",
    "                config['repository'] data repository to call [e.g. george, archive, jane,online]\n",
    "\n",
    "\n",
    "    st = __getStream(config, restitute=True)\n",
    "\n",
    "    \"\"\"\n",
    "\n",
    "    from andbro__querrySeismoData import __querrySeismoData\n",
    "    from andbro__empty_trace import __empty_trace\n",
    "    from obspy import Stream\n",
    "    \n",
    "    st = Stream()\n",
    "\n",
    "\n",
    "    for seed in config['seeds']:\n",
    "        \n",
    "        net, sta, loc, cha = seed.split(\".\")\n",
    "        \n",
    "        print(f\"loading {seed}...\")\n",
    "        \n",
    "        try:\n",
    "            st0, inv0 = __querrySeismoData(  \n",
    "                                            seed_id=seed,\n",
    "                                            starttime=config.get(\"tbeg\"),\n",
    "                                            endtime=config.get(\"tend\"),\n",
    "                                            repository=config.get(\"repository\"),\n",
    "                                            path=None,\n",
    "                                            restitute=False,\n",
    "                                            detail=None,\n",
    "                                            fill_value=None,\n",
    "                                            )\n",
    "            if restitute:\n",
    "                if cha[-2] == \"J\":\n",
    "                    print(\" -> removing sensitivity...\")\n",
    "                    st0.remove_sensitivity(inv0)\n",
    "                elif cha[-2] == \"H\":\n",
    "                    print(\" -> removing response...\")\n",
    "                    st0.remove_response(inventory=inv0, output=\"VEL\", zero_mean=True)\n",
    "\n",
    "            if len(st0) == 1:\n",
    "                st += st0\n",
    "            elif len(st0) > 1:\n",
    "                print(\" -> merging stream...\")\n",
    "                st += st0.merge()\n",
    "\n",
    "            print(\"resampling...\")\n",
    "            st.resample(20)\n",
    "                \n",
    "        except:\n",
    "            print(f\" -> failed to load {seed}!\")\n",
    "            print(f\" -> substituted {seed} with NaN values! \")\n",
    "            st_empty = Stream()\n",
    "            st_empty.append(__empty_trace(config, seed))\n",
    "            st += st_empty\n",
    "    \n",
    "    print(\"\\ncompleted loading\")\n",
    "    print(\" -> trimming stream...\")\n",
    "    st.trim(config['tbeg'], config['tend'])\n",
    "            \n",
    "    return st"
   ]
  },
  {
   "cell_type": "markdown",
   "id": "be154ffc",
   "metadata": {},
   "source": [
    "## Load Data"
   ]
  },
  {
   "cell_type": "code",
   "execution_count": 6,
   "id": "38aef50b",
   "metadata": {
    "ExecuteTime": {
     "end_time": "2022-07-11T19:48:23.370512Z",
     "start_time": "2022-07-11T19:46:52.752005Z"
    }
   },
   "outputs": [
    {
     "name": "stdout",
     "output_type": "stream",
     "text": [
      "\n",
      " working on 20190820 \n",
      "download data...\n",
      "loading PY.BPH01..BHZ...\n",
      " -> removing response...\n",
      "loading PY.BPH01..BHN...\n",
      " -> removing response...\n",
      "loading PY.BPH01..BHE...\n",
      " -> removing response...\n",
      "\n",
      "completed loading\n",
      " -> trimming stream...\n",
      "resampling...\n"
     ]
    },
    {
     "data": {
      "text/plain": [
       "3 Trace(s) in Stream:\n",
       "PY.BPH01..BHZ | 2019-08-20T00:00:00.000000Z - 2019-08-20T23:59:59.950000Z | 20.0 Hz, 1728000 samples\n",
       "PY.BPH01..BHN | 2019-08-20T00:00:00.000000Z - 2019-08-20T23:59:59.950000Z | 20.0 Hz, 1728000 samples\n",
       "PY.BPH01..BHE | 2019-08-20T00:00:00.000000Z - 2019-08-20T23:59:59.950000Z | 20.0 Hz, 1728000 samples"
      ]
     },
     "execution_count": 6,
     "metadata": {},
     "output_type": "execute_result"
    }
   ],
   "source": [
    "print(f\"\\nworking on {date_str} \\n\")\n",
    "\n",
    "st = __getStream(config)\n",
    "\n",
    "# st.plot(equal_scale=False);"
   ]
  },
  {
   "cell_type": "markdown",
   "id": "e0e54e7b",
   "metadata": {},
   "source": [
    "## Save Data"
   ]
  },
  {
   "cell_type": "code",
   "execution_count": 16,
   "id": "3f28a7bd",
   "metadata": {
    "ExecuteTime": {
     "end_time": "2022-07-11T21:41:31.988468Z",
     "start_time": "2022-07-11T21:41:31.842507Z"
    }
   },
   "outputs": [
    {
     "name": "stdout",
     "output_type": "stream",
     "text": [
      "writing data...\n"
     ]
    },
    {
     "name": "stderr",
     "output_type": "stream",
     "text": [
      "/home/andbro/anaconda3/envs/obs/lib/python3.7/site-packages/obspy/io/mseed/core.py:790: UserWarning: The encoding specified in trace.stats.mseed.encoding does not match the dtype of the data.\n",
      "A suitable encoding will be chosen.\n",
      "  warnings.warn(msg, UserWarning)\n"
     ]
    }
   ],
   "source": [
    "print(\"writing data...\")\n",
    "st.write(config['outpath']+date_str, format='MSEED')"
   ]
  },
  {
   "cell_type": "code",
   "execution_count": 21,
   "id": "d7613f28",
   "metadata": {
    "ExecuteTime": {
     "end_time": "2022-07-11T21:42:15.225969Z",
     "start_time": "2022-07-11T21:42:15.076159Z"
    }
   },
   "outputs": [],
   "source": []
  },
  {
   "cell_type": "code",
   "execution_count": null,
   "id": "b0a379ab",
   "metadata": {
    "ExecuteTime": {
     "end_time": "2022-07-11T21:41:58.590068Z",
     "start_time": "2022-07-11T21:41:58.432981Z"
    }
   },
   "outputs": [],
   "source": []
  },
  {
   "cell_type": "code",
   "execution_count": null,
   "id": "a9dbce76",
   "metadata": {},
   "outputs": [],
   "source": []
  }
 ],
 "metadata": {
  "kernelspec": {
   "display_name": "Python 3",
   "language": "python",
   "name": "python3"
  },
  "language_info": {
   "codemirror_mode": {
    "name": "ipython",
    "version": 3
   },
   "file_extension": ".py",
   "mimetype": "text/x-python",
   "name": "python",
   "nbconvert_exporter": "python",
   "pygments_lexer": "ipython3",
   "version": "3.7.8"
  },
  "latex_envs": {
   "LaTeX_envs_menu_present": true,
   "autoclose": false,
   "autocomplete": true,
   "bibliofile": "biblio.bib",
   "cite_by": "apalike",
   "current_citInitial": 1,
   "eqLabelWithNumbers": true,
   "eqNumInitial": 1,
   "hotkeys": {
    "equation": "Ctrl-E",
    "itemize": "Ctrl-I"
   },
   "labels_anchors": false,
   "latex_user_defs": false,
   "report_style_numbering": false,
   "user_envs_cfg": false
  },
  "toc": {
   "base_numbering": 1,
   "nav_menu": {},
   "number_sections": true,
   "sideBar": true,
   "skip_h1_title": false,
   "title_cell": "Table of Contents",
   "title_sidebar": "Contents",
   "toc_cell": false,
   "toc_position": {},
   "toc_section_display": true,
   "toc_window_display": false
  }
 },
 "nbformat": 4,
 "nbformat_minor": 5
}
