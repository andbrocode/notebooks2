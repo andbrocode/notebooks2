{
 "cells": [
  {
   "cell_type": "code",
   "execution_count": 1,
   "id": "87378648",
   "metadata": {
    "ExecuteTime": {
     "end_time": "2022-07-12T14:40:08.977665Z",
     "start_time": "2022-07-12T14:40:08.967450Z"
    }
   },
   "outputs": [
    {
     "data": {
      "text/plain": [
       "'\\n1. demonstration of Array-derived-rotation (for Python 2.7)\\n2. Data source from IRIS PFO array (http://www.fdsn.org/networks/detail/PY/)\\n3. more detail refer to https://doi.org/10.1785/0220160216\\n4. relationship between rotation and gradient\\n\\nrotation_X = -u_nz\\nrotation_Y =  u_ez\\nrotation_Z = 0.5*(u_ne-u_en)\\n'"
      ]
     },
     "execution_count": 1,
     "metadata": {},
     "output_type": "execute_result"
    }
   ],
   "source": [
    "#!/usr/bin/env python\n",
    "######################\n",
    "\"\"\"\n",
    "1. demonstration of Array-derived-rotation (for Python 2.7)\n",
    "2. Data source from IRIS PFO array (http://www.fdsn.org/networks/detail/PY/)\n",
    "3. more detail refer to https://doi.org/10.1785/0220160216\n",
    "4. relationship between rotation and gradient\n",
    "\n",
    "rotation_X = -u_nz\n",
    "rotation_Y =  u_ez\n",
    "rotation_Z = 0.5*(u_ne-u_en)\n",
    "\"\"\"\n",
    "######################"
   ]
  },
  {
   "cell_type": "code",
   "execution_count": 2,
   "id": "365b54b0",
   "metadata": {
    "ExecuteTime": {
     "end_time": "2022-07-12T14:40:10.273511Z",
     "start_time": "2022-07-12T14:40:08.978797Z"
    }
   },
   "outputs": [],
   "source": [
    "from obspy               import *\n",
    "from obspy.clients        import fdsn\n",
    "from matplotlib.colorbar import ColorbarBase\n",
    "from matplotlib.colors   import Normalize\n",
    "from obspy.geodetics.base       import gps2dist_azimuth\n",
    "from obspy.geodetics import locations2degrees\n",
    "from obspy.clients.fdsn    import Client, RoutingClient\n",
    "import os\n",
    "import sys\n",
    "import obspy.signal.array_analysis as AA\n",
    "import matplotlib.pyplot           as plt\n",
    "import matplotlib.cm               as cm\n",
    "import numpy                       as np\n",
    "import scipy                       as sp\n",
    "import scipy.odr                   as odr\n",
    "import math\n",
    "import obspy\n",
    "from obspy.core.util.obspy_types import CustomComplex\n",
    "from obspy.signal.rotate import rotate2zne"
   ]
  },
  {
   "cell_type": "code",
   "execution_count": 123,
   "id": "58d33024",
   "metadata": {
    "ExecuteTime": {
     "end_time": "2022-07-12T21:14:05.670421Z",
     "start_time": "2022-07-12T21:14:05.656435Z"
    }
   },
   "outputs": [],
   "source": [
    "config = {}\n",
    "\n",
    "config['fdsn_client'] = Client('BGR')\n",
    "\n",
    "\n",
    "#starttime for data process\n",
    "config['starttime'] = UTCDateTime(\"2019-08-20T00:00\")\n",
    "config['days'] = 1\n",
    "config['save_path'] = \"/home/andbro/kilauea-data/LNM/data/GRF/\"\n",
    "\n",
    "#PFO array information\n",
    "config['network'] = 'GR'\n",
    "config['array_stations'] = ['GRA1','GRB1','GRC2','GRC3','GRC4']\n",
    "config['misorientations'] =  [0.,0.,0.,0.]\n",
    "config['array_station'] =[]\n",
    "config['misorientation'] =[]\n",
    "\n",
    "config['subarray'] = [0,1,2] #all\n",
    "\n",
    "config['subarray_stations'] = [config['array_stations'][i] for i in config['subarray']]\n",
    "config['subarray_misorientation'] = [config['misorientations'][i] for i in config['subarray']]\n",
    "\n",
    "config['samples'] = 86400*20\n",
    "\n",
    "#parameter for array-derivation\n",
    "config['prefilt'] = (0.001, 0.01, 5, 10)\n",
    "config['freq1'] = 0.014   #0.014 for Spudich    and  0.073 for Langston\n",
    "config['freq2'] = 1.5\n",
    "config['bpf'] = True\n",
    "config['channel_resp'] = 'BHZ'\n",
    "config['debug'] = True\n",
    "\n",
    "# adr parameters\n",
    "config['vp'] = 6264. #1700\n",
    "config['vs'] = 3751. #1000\n",
    "config['sigmau'] = 0.001"
   ]
  },
  {
   "cell_type": "code",
   "execution_count": 124,
   "id": "ae5d5007",
   "metadata": {
    "ExecuteTime": {
     "end_time": "2022-07-12T21:14:07.025977Z",
     "start_time": "2022-07-12T21:14:05.674403Z"
    },
    "code_folding": [
     0
    ]
   },
   "outputs": [],
   "source": [
    "def __get_inventory_and_distances(config):\n",
    "    coo = []\n",
    "    for i, station in enumerate(config['subarray_stations']):\n",
    "        inven = config['fdsn_client'].get_stations(network=config['network'],\n",
    "                                                   station=station,\n",
    "                                                   channel='BHZ',\n",
    "                                                   starttime=config['starttime'],\n",
    "                                                   endtime=config['starttime']+86400,\n",
    "                                                   level='response'\n",
    "                                                  )\n",
    "        l_lon =  float(inven.get_coordinates('%s.%s..BHZ'%(config['network'],station))['longitude'])\n",
    "        l_lat =  float(inven.get_coordinates('%s.%s..BHZ'%(config['network'],station))['latitude'])\n",
    "        height = float(inven.get_coordinates('%s.%s..BHZ'%(config['network'],station))['elevation'])\n",
    "        if i == 0:\n",
    "            o_lon, o_lat, o_height = l_lon, l_lat, height\n",
    "            \n",
    "        lon, lat = obspy.signal.util.util_geo_km(o_lon,o_lat,l_lon,l_lat)\n",
    "        coo.append([lon*1000,lat*1000,height-o_height])  #convert unit from km to m\n",
    "        \n",
    "    return inven, np.array(coo)\n",
    "\n",
    "inv, coo = __get_inventory_and_distances(config)\n",
    "config['coo'] = coo"
   ]
  },
  {
   "cell_type": "code",
   "execution_count": 127,
   "id": "09fafc1f",
   "metadata": {
    "ExecuteTime": {
     "end_time": "2022-07-12T21:21:10.041849Z",
     "start_time": "2022-07-12T21:20:35.806037Z"
    },
    "code_folding": []
   },
   "outputs": [
    {
     "name": "stdout",
     "output_type": "stream",
     "text": [
      " GR.GRA1..BH* ...done\n",
      " GR.GRB1..BH* ...done\n",
      " GR.GRC2..BH* ...done\n",
      "(3, 1728000) (3, 1728000) (3, 1728000)\n",
      " Array data retrival is done...\n"
     ]
    }
   ],
   "source": [
    "def __get_data(config):\n",
    "\n",
    "    for i in range (0, config['days']): #daily data\n",
    "        t=config['starttime']+86400*i; e=t+86400 #daily data\n",
    "\n",
    "        tsz, tsn, tse = [],[],[]\n",
    "        for k, station in enumerate(config['subarray_stations']):\n",
    "            try:\n",
    "                stats = config['fdsn_client'].get_waveforms(network=config['network'],\n",
    "                                                  station=station,\n",
    "                                                  location='',\n",
    "                                                  channel='BH*',\n",
    "                                                  starttime=t-1,\n",
    "                                                  endtime=e+1,\n",
    "                                                  attach_response=True,\n",
    "                                                 )\n",
    "            except Exception as E:\n",
    "                print(E)\n",
    "                print(\" -> get_waveforms() failed...\")\n",
    "                \n",
    "            print(' '+config['network']+'.'+station+'..BH*'+' ...done' if config['debug'] ==True else None)\n",
    "            \n",
    "            stats.sort()\n",
    "            stats.reverse()\n",
    "            stats.remove_response(output=\"VEL\",\n",
    "                                  pre_filt=config['prefilt'],\n",
    "                                  taper=False,\n",
    "                                  zero_mean=True,\n",
    "                                 )\n",
    "            \n",
    "            \n",
    "            #correct mis-alignment\n",
    "            stats[0].data, stats[1].data, stats[2].data = rotate2zne(stats[0],0,-90,\n",
    "                                                                     stats[1],config['subarray_misorientation'][config['subarray_stations'].index(station)],0,\n",
    "                                                                     stats[2],90+config['subarray_misorientation'][config['subarray_stations'].index(station)],0\n",
    "                                                                    )   \n",
    "            stats.filter('bandpass',freqmin=config['freq1'],freqmax=config['freq2'],corners=4,zerophase=True) if config['bpf'] == True else None\n",
    "            \n",
    "            stats.trim(t,e,nearest_sample=False)\n",
    "            \n",
    "            if k == 0:\n",
    "                o_stats=stats.copy()     #information of the central station\n",
    "                acc = stats.copy()\n",
    "                acc.differentiate()\n",
    "                        \n",
    "            tsz.append(stats.select(station=station, channel=\"*Z\")[0].data)\n",
    "            tsn.append(stats.select(station=station, channel=\"*N\")[0].data)\n",
    "            tse.append(stats.select(station=station, channel=\"*E\")[0].data)\n",
    "#             st+=stats\n",
    "        \n",
    "#         for sta in config['subarray_stations']:\n",
    "#             tsz.append(st.select(station=sta, channel=\"*Z\")[0].data)\n",
    "#             tsn.append(st.select(station=sta, channel=\"*N\")[0].data)\n",
    "#             tse.append(st.select(station=sta, channel=\"*E\")[0].data)\n",
    "#         del st\n",
    "        \n",
    "        print(np.shape(tsz),np.shape(tsn),np.shape(tse))\n",
    "        print(' Array data retrival is done...') if config['debug'] else None\n",
    "      \n",
    "    return np.array(tse), np.array(tsn), np.array(tsz), o_stats\n",
    "\n",
    "tse, tsn, tsz, o_stats = __get_data(config)"
   ]
  },
  {
   "cell_type": "code",
   "execution_count": 126,
   "id": "4268a8b3",
   "metadata": {
    "ExecuteTime": {
     "end_time": "2022-07-12T21:20:35.798782Z",
     "start_time": "2022-07-12T21:14:41.643672Z"
    },
    "code_folding": [
     0
    ]
   },
   "outputs": [
    {
     "name": "stdout",
     "output_type": "stream",
     "text": [
      " ADR is executing...\n"
     ]
    },
    {
     "name": "stderr",
     "output_type": "stream",
     "text": [
      "/home/andbro/anaconda3/envs/obs/lib/python3.7/site-packages/obspy/signal/array_analysis.py:268: UserWarning: For a 3-station array the problem is even-determined\n",
      "  warnings.warn(msg)\n"
     ]
    }
   ],
   "source": [
    "def __compute_ADR(tse, tsn, tsz, config, st_template):\n",
    "\n",
    "    print(' ADR is executing...')\n",
    "\n",
    "    try:\n",
    "        result = AA.array_rotation_strain(np.array(config['subarray']), \n",
    "                                          np.transpose(tse), \n",
    "                                          np.transpose(tsn), \n",
    "                                          np.transpose(tsz), \n",
    "                                          config['vp'], \n",
    "                                          config['vs'], \n",
    "                                          config['coo'], \n",
    "                                          config['sigmau'],\n",
    "                                         )\n",
    "    except Exception as E:\n",
    "        print(E)\n",
    "        print(\" -> failed to compute ADR...\")\n",
    "        sys.exit()\n",
    "    \n",
    "    #(Rotation trace)\n",
    "    rotsa = o_stats                  #information of the central station\n",
    "    rotsa[0].data = result['ts_w3']\n",
    "    rotsa[1].data = result['ts_w2']\n",
    "    rotsa[2].data = result['ts_w1']\n",
    "    rotsa[0].stats.channel='BJZ'\n",
    "    rotsa[1].stats.channel='BJN'\n",
    "    rotsa[2].stats.channel='BJE'\n",
    "    \n",
    "#     gradient_ZNE = result['ts_ptilde'] #u1,1 u1,2 u1,3 u2,1 u2,2 u2,3\n",
    "#     u_ee=gradient_ZNE[:,0]\n",
    "#     u_en=gradient_ZNE[:,1]\n",
    "#     u_ez=gradient_ZNE[:,2]\n",
    "#     u_ne=gradient_ZNE[:,3]\n",
    "#     u_nn=gradient_ZNE[:,4]\n",
    "#     u_nz=gradient_ZNE[:,5]\n",
    "    \n",
    "\n",
    "    #(Gradient trace)\n",
    "    #      Gradient = o_stats.copy()        #information of the central station\n",
    "    #      Gradient.append(o_stats[0].copy())\n",
    "    #      Gradient.append(o_stats[0].copy())\n",
    "    #      Gradient.append(o_stats[0].copy())\n",
    "    #      Gradient[0].data = u_ee\n",
    "    #      Gradient[1].data = u_en\n",
    "    #      Gradient[2].data = u_ez\n",
    "    #      Gradient[3].data = u_ne\n",
    "    #      Gradient[4].data = u_nn\n",
    "    #      Gradient[5].data = u_nz\n",
    "    #      Gradient[0].stats.channel='uee'\n",
    "    #      Gradient[1].stats.channel='uen'\n",
    "    #      Gradient[2].stats.channel='uez'\n",
    "    #      Gradient[3].stats.channel='une'\n",
    "    #      Gradient[4].stats.channel='unn'\n",
    "    #      Gradient[5].stats.channel='unz'\n",
    "\n",
    "    return rotsa\n",
    "\n",
    "rot = __compute_ADR(tse, tsn, tsz, config, o_stats)"
   ]
  },
  {
   "cell_type": "code",
   "execution_count": 121,
   "id": "0753e279",
   "metadata": {
    "ExecuteTime": {
     "end_time": "2022-07-12T21:13:19.160951Z",
     "start_time": "2022-07-12T21:13:18.732364Z"
    }
   },
   "outputs": [
    {
     "name": "stdout",
     "output_type": "stream",
     "text": [
      " directory /home/andbro/kilauea-data/LNM/data/GRF/201908 exists\n"
     ]
    }
   ],
   "source": [
    "date_str = str(config['starttime'].date).replace(\"-\",\"\")\n",
    "config['filename'] = date_str[:6]\n",
    "\n",
    "#check if directory is nonexist, then creat\n",
    "if os.path.exists(config['save_path']+config['filename']):\n",
    "    print(' directory %s exists'%(config['save_path']+config['filename']))\n",
    "else:\n",
    "    print(' directory %s is creating...'%(config['save_path']+config['filename']))\n",
    "    # os.mkdir(save_path)\n",
    "    os.mkdir(config['save_path']+config['filename'])"
   ]
  },
  {
   "cell_type": "code",
   "execution_count": 122,
   "id": "9167f2a2",
   "metadata": {
    "ExecuteTime": {
     "end_time": "2022-07-12T21:14:05.654417Z",
     "start_time": "2022-07-12T21:13:19.163079Z"
    }
   },
   "outputs": [
    {
     "name": "stdout",
     "output_type": "stream",
     "text": [
      " data is written...\n"
     ]
    },
    {
     "name": "stderr",
     "output_type": "stream",
     "text": [
      "/home/andbro/anaconda3/envs/obs/lib/python3.7/site-packages/obspy/io/mseed/core.py:790: UserWarning: The encoding specified in trace.stats.mseed.encoding does not match the dtype of the data.\n",
      "A suitable encoding will be chosen.\n",
      "  warnings.warn(msg, UserWarning)\n"
     ]
    }
   ],
   "source": [
    "print(' data is written...')\n",
    "     \n",
    "rot.select(channel=\"*Z\").write(config['save_path']+config['filename']+'/rot_Z_%s.mseed'%(date_str),format='MSEED')\n",
    "rot.select(channel=\"*N\").write(config['save_path']+config['filename']+'/rot_N_%s.mseed'%(date_str),format='MSEED')\n",
    "rot.select(channel=\"*E\").write(config['save_path']+config['filename']+'/rot_E_%s.mseed'%(date_str),format='MSEED')"
   ]
  },
  {
   "cell_type": "code",
   "execution_count": null,
   "id": "bcb87b81",
   "metadata": {},
   "outputs": [],
   "source": []
  }
 ],
 "metadata": {
  "kernelspec": {
   "display_name": "Python 3",
   "language": "python",
   "name": "python3"
  },
  "language_info": {
   "codemirror_mode": {
    "name": "ipython",
    "version": 3
   },
   "file_extension": ".py",
   "mimetype": "text/x-python",
   "name": "python",
   "nbconvert_exporter": "python",
   "pygments_lexer": "ipython3",
   "version": "3.7.8"
  },
  "latex_envs": {
   "LaTeX_envs_menu_present": true,
   "autoclose": false,
   "autocomplete": true,
   "bibliofile": "biblio.bib",
   "cite_by": "apalike",
   "current_citInitial": 1,
   "eqLabelWithNumbers": true,
   "eqNumInitial": 1,
   "hotkeys": {
    "equation": "Ctrl-E",
    "itemize": "Ctrl-I"
   },
   "labels_anchors": false,
   "latex_user_defs": false,
   "report_style_numbering": false,
   "user_envs_cfg": false
  },
  "toc": {
   "base_numbering": 1,
   "nav_menu": {},
   "number_sections": true,
   "sideBar": true,
   "skip_h1_title": false,
   "title_cell": "Table of Contents",
   "title_sidebar": "Contents",
   "toc_cell": false,
   "toc_position": {},
   "toc_section_display": true,
   "toc_window_display": false
  }
 },
 "nbformat": 4,
 "nbformat_minor": 5
}
