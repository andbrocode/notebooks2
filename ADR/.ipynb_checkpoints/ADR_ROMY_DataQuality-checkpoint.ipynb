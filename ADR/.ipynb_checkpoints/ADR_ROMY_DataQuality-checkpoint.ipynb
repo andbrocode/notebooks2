{
 "cells": [
  {
   "cell_type": "markdown",
   "id": "874786b9",
   "metadata": {},
   "source": [
    "### Import libraries"
   ]
  },
  {
   "cell_type": "code",
   "execution_count": 15,
   "id": "ca581778",
   "metadata": {
    "ExecuteTime": {
     "end_time": "2022-06-03T14:04:25.026415Z",
     "start_time": "2022-06-03T14:04:25.024039Z"
    }
   },
   "outputs": [],
   "source": [
    "import obspy as obs\n",
    "import numpy as np\n",
    "import matplotlib.pyplot as plt\n",
    "\n",
    "from andbro__querrySeismoData import __querrySeismoData\n",
    "from andbro__get_timeaxis import __get_timeaxis"
   ]
  },
  {
   "cell_type": "code",
   "execution_count": 16,
   "id": "4501986c",
   "metadata": {
    "ExecuteTime": {
     "end_time": "2022-06-03T14:04:25.210627Z",
     "start_time": "2022-06-03T14:04:25.205852Z"
    },
    "code_folding": [
     0
    ]
   },
   "outputs": [],
   "source": [
    "def __get_stream(config):\n",
    "    \n",
    "    from andbro__empty_trace import __empty_trace\n",
    "    \n",
    "    st = obs.Stream()\n",
    "\n",
    "    for cha in config['cha']:\n",
    "\n",
    "        for i in range(len(config.get(\"sta\"))):\n",
    "\n",
    "            seed = f'{config.get(\"net\")[i]}.{config.get(\"sta\")[i]}.{config.get(\"loc\")}.{cha}'\n",
    "\n",
    "            print(f\"loading {seed}...\")\n",
    "            try:\n",
    "                st0, inv = __querrySeismoData(  \n",
    "                                            seed_id=seed,\n",
    "                                            starttime=config.get(\"tbeg\"),\n",
    "                                            endtime=config.get(\"tend\"),\n",
    "                                            repository=config.get(\"repository\"),\n",
    "                                            path=None,\n",
    "                                            restitute=True,\n",
    "                                            detail=None,\n",
    "                                            fill_value=None,\n",
    "                                            )\n",
    "                if len(st0) == 1:\n",
    "                    st += st0\n",
    "                elif len(st0) > 1:\n",
    "                    st += st0.merge()\n",
    "\n",
    "            except:\n",
    "                print(f\" -> failed to load {seed}!\")\n",
    "                print(f\" -> substituted {seed} with NaN values! \")\n",
    "                st_empty = obs.Stream()\n",
    "                st_empty.append(__empty_trace(config, seed))\n",
    "                st += st_empty\n",
    "\n",
    "    st.trim(config['tbeg'], config['tend'])\n",
    "            \n",
    "    return st"
   ]
  },
  {
   "cell_type": "markdown",
   "id": "8c86a449",
   "metadata": {},
   "source": [
    "### Configurations"
   ]
  },
  {
   "cell_type": "code",
   "execution_count": 17,
   "id": "2355dcbe",
   "metadata": {
    "ExecuteTime": {
     "end_time": "2022-06-03T14:04:25.512539Z",
     "start_time": "2022-06-03T14:04:25.509489Z"
    }
   },
   "outputs": [],
   "source": [
    "config = {}\n",
    "\n",
    "config['tbeg'] = obs.UTCDateTime(\"2019-08-30 00:00\")\n",
    "config['tend'] = obs.UTCDateTime(\"2019-08-30 00:00\")\n",
    "\n",
    "config['sta'] = ['GELB','GRMB','BIB','TON', 'ALFT', 'FFB1', 'FFB2', 'FFB3', 'FUR']\n",
    "config['net'] = ['BW','BW','BW','BW','BW','BW','BW','BW','GR']\n",
    "config['loc'] = ''\n",
    "config['cha'] = ['BHZ', 'BHN', 'BHE']\n",
    "\n",
    "config['repository'] = \"jane\""
   ]
  },
  {
   "cell_type": "code",
   "execution_count": 18,
   "id": "38aef50b",
   "metadata": {
    "ExecuteTime": {
     "end_time": "2022-06-03T14:05:00.519431Z",
     "start_time": "2022-06-03T14:04:25.681129Z"
    }
   },
   "outputs": [
    {
     "name": "stdout",
     "output_type": "stream",
     "text": [
      "loading BW.GELB..BHZ...\n",
      " -> failed to load BW.GELB..BHZ!\n",
      " -> substituted BW.GELB..BHZ with NaN values! \n",
      "loading BW.GRMB..BHZ...\n",
      " -> failed to load BW.GRMB..BHZ!\n",
      " -> substituted BW.GRMB..BHZ with NaN values! \n",
      "loading BW.BIB..BHZ...\n",
      "loading BW.TON..BHZ...\n",
      "loading BW.ALFT..BHZ...\n",
      "loading BW.FFB1..BHZ...\n",
      "loading BW.FFB2..BHZ...\n",
      "loading BW.FFB3..BHZ...\n",
      "loading GR.FUR..BHZ...\n",
      "loading BW.GELB..BHN...\n",
      " -> failed to load BW.GELB..BHN!\n",
      " -> substituted BW.GELB..BHN with NaN values! \n",
      "loading BW.GRMB..BHN...\n",
      " -> failed to load BW.GRMB..BHN!\n",
      " -> substituted BW.GRMB..BHN with NaN values! \n",
      "loading BW.BIB..BHN...\n",
      "loading BW.TON..BHN...\n",
      "loading BW.ALFT..BHN...\n",
      "loading BW.FFB1..BHN...\n",
      " -> failed to load BW.FFB1..BHN!\n",
      " -> substituted BW.FFB1..BHN with NaN values! \n",
      "loading BW.FFB2..BHN...\n",
      " -> failed to load BW.FFB2..BHN!\n",
      " -> substituted BW.FFB2..BHN with NaN values! \n",
      "loading BW.FFB3..BHN...\n",
      " -> failed to load BW.FFB3..BHN!\n",
      " -> substituted BW.FFB3..BHN with NaN values! \n",
      "loading GR.FUR..BHN...\n",
      "loading BW.GELB..BHE...\n",
      " -> failed to load BW.GELB..BHE!\n",
      " -> substituted BW.GELB..BHE with NaN values! \n",
      "loading BW.GRMB..BHE...\n",
      " -> failed to load BW.GRMB..BHE!\n",
      " -> substituted BW.GRMB..BHE with NaN values! \n",
      "loading BW.BIB..BHE...\n",
      "loading BW.TON..BHE...\n",
      "loading BW.ALFT..BHE...\n",
      "loading BW.FFB1..BHE...\n",
      " -> failed to load BW.FFB1..BHE!\n",
      " -> substituted BW.FFB1..BHE with NaN values! \n",
      "loading BW.FFB2..BHE...\n",
      " -> failed to load BW.FFB2..BHE!\n",
      " -> substituted BW.FFB2..BHE with NaN values! \n",
      "loading BW.FFB3..BHE...\n",
      " -> failed to load BW.FFB3..BHE!\n",
      " -> substituted BW.FFB3..BHE with NaN values! \n",
      "loading GR.FUR..BHE...\n"
     ]
    },
    {
     "ename": "ZeroDivisionError",
     "evalue": "float division by zero",
     "output_type": "error",
     "traceback": [
      "\u001b[0;31m---------------------------------------------------------------------------\u001b[0m",
      "\u001b[0;31mZeroDivisionError\u001b[0m                         Traceback (most recent call last)",
      "\u001b[0;32m<ipython-input-18-dfeff73eb62b>\u001b[0m in \u001b[0;36m<module>\u001b[0;34m\u001b[0m\n\u001b[1;32m      1\u001b[0m \u001b[0mst\u001b[0m \u001b[0;34m=\u001b[0m \u001b[0m__get_stream\u001b[0m\u001b[0;34m(\u001b[0m\u001b[0mconfig\u001b[0m\u001b[0;34m)\u001b[0m\u001b[0;34m\u001b[0m\u001b[0;34m\u001b[0m\u001b[0m\n\u001b[1;32m      2\u001b[0m \u001b[0;34m\u001b[0m\u001b[0m\n\u001b[0;32m----> 3\u001b[0;31m \u001b[0mst\u001b[0m\u001b[0;34m.\u001b[0m\u001b[0mresample\u001b[0m\u001b[0;34m(\u001b[0m\u001b[0;36m20\u001b[0m\u001b[0;34m)\u001b[0m\u001b[0;34m\u001b[0m\u001b[0;34m\u001b[0m\u001b[0m\n\u001b[0m",
      "\u001b[0;32m~/anaconda3/lib/python3.7/site-packages/obspy/core/stream.py\u001b[0m in \u001b[0;36mresample\u001b[0;34m(self, sampling_rate, window, no_filter, strict_length)\u001b[0m\n\u001b[1;32m   2334\u001b[0m         \u001b[0;32mfor\u001b[0m \u001b[0mtr\u001b[0m \u001b[0;32min\u001b[0m \u001b[0mself\u001b[0m\u001b[0;34m:\u001b[0m\u001b[0;34m\u001b[0m\u001b[0;34m\u001b[0m\u001b[0m\n\u001b[1;32m   2335\u001b[0m             tr.resample(sampling_rate, window=native_str(window),\n\u001b[0;32m-> 2336\u001b[0;31m                         no_filter=no_filter, strict_length=strict_length)\n\u001b[0m\u001b[1;32m   2337\u001b[0m         \u001b[0;32mreturn\u001b[0m \u001b[0mself\u001b[0m\u001b[0;34m\u001b[0m\u001b[0;34m\u001b[0m\u001b[0m\n\u001b[1;32m   2338\u001b[0m \u001b[0;34m\u001b[0m\u001b[0m\n",
      "\u001b[0;32m~/anaconda3/lib/python3.7/site-packages/decorator.py\u001b[0m in \u001b[0;36mfun\u001b[0;34m(*args, **kw)\u001b[0m\n\u001b[1;32m    230\u001b[0m             \u001b[0;32mif\u001b[0m \u001b[0;32mnot\u001b[0m \u001b[0mkwsyntax\u001b[0m\u001b[0;34m:\u001b[0m\u001b[0;34m\u001b[0m\u001b[0;34m\u001b[0m\u001b[0m\n\u001b[1;32m    231\u001b[0m                 \u001b[0margs\u001b[0m\u001b[0;34m,\u001b[0m \u001b[0mkw\u001b[0m \u001b[0;34m=\u001b[0m \u001b[0mfix\u001b[0m\u001b[0;34m(\u001b[0m\u001b[0margs\u001b[0m\u001b[0;34m,\u001b[0m \u001b[0mkw\u001b[0m\u001b[0;34m,\u001b[0m \u001b[0msig\u001b[0m\u001b[0;34m)\u001b[0m\u001b[0;34m\u001b[0m\u001b[0;34m\u001b[0m\u001b[0m\n\u001b[0;32m--> 232\u001b[0;31m             \u001b[0;32mreturn\u001b[0m \u001b[0mcaller\u001b[0m\u001b[0;34m(\u001b[0m\u001b[0mfunc\u001b[0m\u001b[0;34m,\u001b[0m \u001b[0;34m*\u001b[0m\u001b[0;34m(\u001b[0m\u001b[0mextras\u001b[0m \u001b[0;34m+\u001b[0m \u001b[0margs\u001b[0m\u001b[0;34m)\u001b[0m\u001b[0;34m,\u001b[0m \u001b[0;34m**\u001b[0m\u001b[0mkw\u001b[0m\u001b[0;34m)\u001b[0m\u001b[0;34m\u001b[0m\u001b[0;34m\u001b[0m\u001b[0m\n\u001b[0m\u001b[1;32m    233\u001b[0m     \u001b[0mfun\u001b[0m\u001b[0;34m.\u001b[0m\u001b[0m__name__\u001b[0m \u001b[0;34m=\u001b[0m \u001b[0mfunc\u001b[0m\u001b[0;34m.\u001b[0m\u001b[0m__name__\u001b[0m\u001b[0;34m\u001b[0m\u001b[0;34m\u001b[0m\u001b[0m\n\u001b[1;32m    234\u001b[0m     \u001b[0mfun\u001b[0m\u001b[0;34m.\u001b[0m\u001b[0m__doc__\u001b[0m \u001b[0;34m=\u001b[0m \u001b[0mfunc\u001b[0m\u001b[0;34m.\u001b[0m\u001b[0m__doc__\u001b[0m\u001b[0;34m\u001b[0m\u001b[0;34m\u001b[0m\u001b[0m\n",
      "\u001b[0;32m~/anaconda3/lib/python3.7/site-packages/obspy/core/util/decorator.py\u001b[0m in \u001b[0;36mskip_if_no_data\u001b[0;34m(func, *args, **kwargs)\u001b[0m\n\u001b[1;32m    243\u001b[0m     \u001b[0;32mif\u001b[0m \u001b[0;32mnot\u001b[0m \u001b[0margs\u001b[0m\u001b[0;34m[\u001b[0m\u001b[0;36m0\u001b[0m\u001b[0;34m]\u001b[0m\u001b[0;34m:\u001b[0m\u001b[0;34m\u001b[0m\u001b[0;34m\u001b[0m\u001b[0m\n\u001b[1;32m    244\u001b[0m         \u001b[0;32mreturn\u001b[0m\u001b[0;34m\u001b[0m\u001b[0;34m\u001b[0m\u001b[0m\n\u001b[0;32m--> 245\u001b[0;31m     \u001b[0;32mreturn\u001b[0m \u001b[0mfunc\u001b[0m\u001b[0;34m(\u001b[0m\u001b[0;34m*\u001b[0m\u001b[0margs\u001b[0m\u001b[0;34m,\u001b[0m \u001b[0;34m**\u001b[0m\u001b[0mkwargs\u001b[0m\u001b[0;34m)\u001b[0m\u001b[0;34m\u001b[0m\u001b[0;34m\u001b[0m\u001b[0m\n\u001b[0m\u001b[1;32m    246\u001b[0m \u001b[0;34m\u001b[0m\u001b[0m\n\u001b[1;32m    247\u001b[0m \u001b[0;34m\u001b[0m\u001b[0m\n",
      "\u001b[0;32m~/anaconda3/lib/python3.7/site-packages/decorator.py\u001b[0m in \u001b[0;36mfun\u001b[0;34m(*args, **kw)\u001b[0m\n\u001b[1;32m    230\u001b[0m             \u001b[0;32mif\u001b[0m \u001b[0;32mnot\u001b[0m \u001b[0mkwsyntax\u001b[0m\u001b[0;34m:\u001b[0m\u001b[0;34m\u001b[0m\u001b[0;34m\u001b[0m\u001b[0m\n\u001b[1;32m    231\u001b[0m                 \u001b[0margs\u001b[0m\u001b[0;34m,\u001b[0m \u001b[0mkw\u001b[0m \u001b[0;34m=\u001b[0m \u001b[0mfix\u001b[0m\u001b[0;34m(\u001b[0m\u001b[0margs\u001b[0m\u001b[0;34m,\u001b[0m \u001b[0mkw\u001b[0m\u001b[0;34m,\u001b[0m \u001b[0msig\u001b[0m\u001b[0;34m)\u001b[0m\u001b[0;34m\u001b[0m\u001b[0;34m\u001b[0m\u001b[0m\n\u001b[0;32m--> 232\u001b[0;31m             \u001b[0;32mreturn\u001b[0m \u001b[0mcaller\u001b[0m\u001b[0;34m(\u001b[0m\u001b[0mfunc\u001b[0m\u001b[0;34m,\u001b[0m \u001b[0;34m*\u001b[0m\u001b[0;34m(\u001b[0m\u001b[0mextras\u001b[0m \u001b[0;34m+\u001b[0m \u001b[0margs\u001b[0m\u001b[0;34m)\u001b[0m\u001b[0;34m,\u001b[0m \u001b[0;34m**\u001b[0m\u001b[0mkw\u001b[0m\u001b[0;34m)\u001b[0m\u001b[0;34m\u001b[0m\u001b[0;34m\u001b[0m\u001b[0m\n\u001b[0m\u001b[1;32m    233\u001b[0m     \u001b[0mfun\u001b[0m\u001b[0;34m.\u001b[0m\u001b[0m__name__\u001b[0m \u001b[0;34m=\u001b[0m \u001b[0mfunc\u001b[0m\u001b[0;34m.\u001b[0m\u001b[0m__name__\u001b[0m\u001b[0;34m\u001b[0m\u001b[0;34m\u001b[0m\u001b[0m\n\u001b[1;32m    234\u001b[0m     \u001b[0mfun\u001b[0m\u001b[0;34m.\u001b[0m\u001b[0m__doc__\u001b[0m \u001b[0;34m=\u001b[0m \u001b[0mfunc\u001b[0m\u001b[0;34m.\u001b[0m\u001b[0m__doc__\u001b[0m\u001b[0;34m\u001b[0m\u001b[0;34m\u001b[0m\u001b[0m\n",
      "\u001b[0;32m~/anaconda3/lib/python3.7/site-packages/obspy/core/trace.py\u001b[0m in \u001b[0;36m_add_processing_info\u001b[0;34m(func, *args, **kwargs)\u001b[0m\n\u001b[1;32m    271\u001b[0m     \u001b[0minfo\u001b[0m \u001b[0;34m=\u001b[0m \u001b[0minfo\u001b[0m \u001b[0;34m%\u001b[0m \u001b[0;34m\"::\"\u001b[0m\u001b[0;34m.\u001b[0m\u001b[0mjoin\u001b[0m\u001b[0;34m(\u001b[0m\u001b[0marguments\u001b[0m\u001b[0;34m)\u001b[0m\u001b[0;34m\u001b[0m\u001b[0;34m\u001b[0m\u001b[0m\n\u001b[1;32m    272\u001b[0m     \u001b[0mself\u001b[0m \u001b[0;34m=\u001b[0m \u001b[0margs\u001b[0m\u001b[0;34m[\u001b[0m\u001b[0;36m0\u001b[0m\u001b[0;34m]\u001b[0m\u001b[0;34m\u001b[0m\u001b[0;34m\u001b[0m\u001b[0m\n\u001b[0;32m--> 273\u001b[0;31m     \u001b[0mresult\u001b[0m \u001b[0;34m=\u001b[0m \u001b[0mfunc\u001b[0m\u001b[0;34m(\u001b[0m\u001b[0;34m*\u001b[0m\u001b[0margs\u001b[0m\u001b[0;34m,\u001b[0m \u001b[0;34m**\u001b[0m\u001b[0mkwargs\u001b[0m\u001b[0;34m)\u001b[0m\u001b[0;34m\u001b[0m\u001b[0;34m\u001b[0m\u001b[0m\n\u001b[0m\u001b[1;32m    274\u001b[0m     \u001b[0;31m# Attach after executing the function to avoid having it attached\u001b[0m\u001b[0;34m\u001b[0m\u001b[0;34m\u001b[0m\u001b[0;34m\u001b[0m\u001b[0m\n\u001b[1;32m    275\u001b[0m     \u001b[0;31m# while the operation failed.\u001b[0m\u001b[0;34m\u001b[0m\u001b[0;34m\u001b[0m\u001b[0;34m\u001b[0m\u001b[0m\n",
      "\u001b[0;32m~/anaconda3/lib/python3.7/site-packages/obspy/core/trace.py\u001b[0m in \u001b[0;36mresample\u001b[0;34m(self, sampling_rate, window, no_filter, strict_length)\u001b[0m\n\u001b[1;32m   1739\u001b[0m         \u001b[0mnum\u001b[0m \u001b[0;34m=\u001b[0m \u001b[0mint\u001b[0m\u001b[0;34m(\u001b[0m\u001b[0mself\u001b[0m\u001b[0;34m.\u001b[0m\u001b[0mstats\u001b[0m\u001b[0;34m.\u001b[0m\u001b[0mnpts\u001b[0m \u001b[0;34m/\u001b[0m \u001b[0mfactor\u001b[0m\u001b[0;34m)\u001b[0m\u001b[0;34m\u001b[0m\u001b[0;34m\u001b[0m\u001b[0m\n\u001b[1;32m   1740\u001b[0m         \u001b[0mdf\u001b[0m \u001b[0;34m=\u001b[0m \u001b[0;36m1.0\u001b[0m \u001b[0;34m/\u001b[0m \u001b[0;34m(\u001b[0m\u001b[0mself\u001b[0m\u001b[0;34m.\u001b[0m\u001b[0mstats\u001b[0m\u001b[0;34m.\u001b[0m\u001b[0mnpts\u001b[0m \u001b[0;34m*\u001b[0m \u001b[0mself\u001b[0m\u001b[0;34m.\u001b[0m\u001b[0mstats\u001b[0m\u001b[0;34m.\u001b[0m\u001b[0mdelta\u001b[0m\u001b[0;34m)\u001b[0m\u001b[0;34m\u001b[0m\u001b[0;34m\u001b[0m\u001b[0m\n\u001b[0;32m-> 1741\u001b[0;31m         \u001b[0md_large_f\u001b[0m \u001b[0;34m=\u001b[0m \u001b[0;36m1.0\u001b[0m \u001b[0;34m/\u001b[0m \u001b[0mnum\u001b[0m \u001b[0;34m*\u001b[0m \u001b[0msampling_rate\u001b[0m\u001b[0;34m\u001b[0m\u001b[0;34m\u001b[0m\u001b[0m\n\u001b[0m\u001b[1;32m   1742\u001b[0m         \u001b[0mf\u001b[0m \u001b[0;34m=\u001b[0m \u001b[0mdf\u001b[0m \u001b[0;34m*\u001b[0m \u001b[0mnp\u001b[0m\u001b[0;34m.\u001b[0m\u001b[0marange\u001b[0m\u001b[0;34m(\u001b[0m\u001b[0;36m0\u001b[0m\u001b[0;34m,\u001b[0m \u001b[0mself\u001b[0m\u001b[0;34m.\u001b[0m\u001b[0mstats\u001b[0m\u001b[0;34m.\u001b[0m\u001b[0mnpts\u001b[0m \u001b[0;34m//\u001b[0m \u001b[0;36m2\u001b[0m \u001b[0;34m+\u001b[0m \u001b[0;36m1\u001b[0m\u001b[0;34m,\u001b[0m \u001b[0mdtype\u001b[0m\u001b[0;34m=\u001b[0m\u001b[0mnp\u001b[0m\u001b[0;34m.\u001b[0m\u001b[0mint32\u001b[0m\u001b[0;34m)\u001b[0m\u001b[0;34m\u001b[0m\u001b[0;34m\u001b[0m\u001b[0m\n\u001b[1;32m   1743\u001b[0m         \u001b[0mn_large_f\u001b[0m \u001b[0;34m=\u001b[0m \u001b[0mnum\u001b[0m \u001b[0;34m//\u001b[0m \u001b[0;36m2\u001b[0m \u001b[0;34m+\u001b[0m \u001b[0;36m1\u001b[0m\u001b[0;34m\u001b[0m\u001b[0;34m\u001b[0m\u001b[0m\n",
      "\u001b[0;31mZeroDivisionError\u001b[0m: float division by zero"
     ]
    }
   ],
   "source": [
    "st = __get_stream(config)\n",
    "\n",
    "st.resample(20)"
   ]
  },
  {
   "cell_type": "code",
   "execution_count": null,
   "id": "6147e1a3",
   "metadata": {
    "ExecuteTime": {
     "end_time": "2022-06-03T14:05:00.521429Z",
     "start_time": "2022-06-03T14:04:25.837Z"
    }
   },
   "outputs": [],
   "source": [
    "# st.plot(equal_scale=False);"
   ]
  },
  {
   "cell_type": "markdown",
   "id": "e0e54e7b",
   "metadata": {},
   "source": [
    "### Plotting"
   ]
  },
  {
   "cell_type": "code",
   "execution_count": null,
   "id": "18fa1373",
   "metadata": {
    "ExecuteTime": {
     "end_time": "2022-06-03T14:05:00.522485Z",
     "start_time": "2022-06-03T14:04:27.245Z"
    }
   },
   "outputs": [],
   "source": [
    "fig, ax = plt.subplots(len(config['sta']),3, figsize=(15,10), sharex=True)\n",
    "\n",
    "for k, component in enumerate(['Z','N','E']):\n",
    "    for i, tr in enumerate(st.select(channel=f\"*{component}\")):\n",
    "        \n",
    "        if np.isnan(tr.data).all():\n",
    "            ax[i,k].fill_between(tr.times(), -1, 1, color='red', alpha=0.3)\n",
    "        else:\n",
    "            ax[i,k].plot(tr.times(),tr.data*1e6, color='k', label=f'{tr.stats.station}');\n",
    "        ax[i,k].legend(loc=\"upper right\")\n",
    "        \n",
    "    ax[0,k].set_title(tr.stats.channel)\n",
    "    \n",
    "    \n",
    "fig.show();"
   ]
  },
  {
   "cell_type": "code",
   "execution_count": null,
   "id": "b70090d9",
   "metadata": {
    "ExecuteTime": {
     "end_time": "2022-06-03T14:05:00.523311Z",
     "start_time": "2022-06-03T14:04:27.404Z"
    },
    "code_folding": [
     0
    ]
   },
   "outputs": [],
   "source": [
    "def __calculate_spectra(st, config, mode='dB'):\n",
    "\n",
    "    from datetime import datetime\n",
    "    from pandas import date_range\n",
    "    from obspy import UTCDateTime\n",
    "    from scipy.signal import welch\n",
    "    from numpy import where, array, zeros, log10\n",
    "\n",
    "    def __check_stream(st):\n",
    "        t1 = str(st[0].stats.starttime)\n",
    "        t2 = str(st[0].stats.endtime)\n",
    "        for tr in st:\n",
    "            if str(tr.stats.starttime) != t1 or str(tr.stats.endtime) != t2:\n",
    "                print(f\"ERROR: mismatch in start or endtime of trace: {tr.stats.id}\")\n",
    "                return\n",
    "\n",
    "    def __make_decibel(array, relative_value):\n",
    "        return 10*log10(array/relative_value)\n",
    "\n",
    "    ## check time consistency for all traces\n",
    "#     __check_stream(st)\n",
    "\n",
    "    ## check how many intervals are possible\n",
    "    if config['interval_overlap'] is None:\n",
    "        intervals = int((st[0].stats.endtime - st[0].stats.starttime)/config.get('interval'))\n",
    "        shift = config['interval']\n",
    "    else:\n",
    "        shift = int(config.get('interval')*config['interval_overlap']/100)\n",
    "        intervals = int((st[0].stats.endtime - st[0].stats.starttime)/shift)\n",
    "\n",
    "\n",
    "\n",
    "    ## pre-define psd array\n",
    "    size_psd = int(config.get('nperseg')/2)+1\n",
    "    psd = zeros([intervals, size_psd])\n",
    "\n",
    "    if size_psd >= len(st[0].data):\n",
    "        print(f\"ERROR: reduce nperseg or noverlap or segments! {size_psd} > {len(st[0].data)}\")\n",
    "        return\n",
    "\n",
    "    for i, tr in enumerate(st):\n",
    "\n",
    "        # initite variables for while loop\n",
    "        dt1 = st[0].stats.starttime\n",
    "        dt2 = st[0].stats.starttime + config['interval']\n",
    "        n = 0\n",
    "\n",
    "        while dt2 <= st[0].stats.endtime:\n",
    "\n",
    "            tr_tmp = tr.copy()\n",
    "            tr_tmp.trim(starttime = UTCDateTime(dt1), endtime=UTCDateTime(dt2))\n",
    "\n",
    "#             print(n, dt1, dt2, \"\\n\")\n",
    "\n",
    "#             print(config.get('nperseg'), config.get('noverlap'), len(tr_tmp.data))\n",
    "            try:\n",
    "                f, psd0 = welch(\n",
    "                            tr_tmp.data,\n",
    "                            fs=tr_tmp.stats.sampling_rate,\n",
    "                            window=config.get('taper'),\n",
    "                            nperseg=config.get('nperseg'),\n",
    "                            noverlap=config.get('noverlap'),\n",
    "                            nfft=config.get('nfft'),\n",
    "                            detrend=config.get('detrend'),\n",
    "                            return_onesided=config.get('onesided'),\n",
    "                            scaling=config.get('scaling'),\n",
    "                           )\n",
    "                psd[n] = psd0\n",
    "            except:\n",
    "                print(\"failed\")\n",
    "                break\n",
    "            \n",
    "            ## adjust variables\n",
    "            dt1 += shift\n",
    "            dt2 += shift\n",
    "            n += 1\n",
    "\n",
    "\n",
    "        if config.get('frequency_limits') is not None:\n",
    "            f1, f2 = config.get('frequency_limits')[0], config.get('frequency_limits')[1]\n",
    "            idx1, idx2 = int(where(f <= f1)[0][0]), int(where(f >= f2)[0][0])\n",
    "            ff = f[idx1:idx2]\n",
    "            tmp = zeros([intervals, len(ff)])\n",
    "            for j in range(intervals):\n",
    "                tmp[j] = psd[j,idx1:idx2]\n",
    "            psd = tmp\n",
    "        else:\n",
    "            ff = f\n",
    "\n",
    "\n",
    "    return ff, psd"
   ]
  },
  {
   "cell_type": "code",
   "execution_count": null,
   "id": "d8ad51d9",
   "metadata": {
    "ExecuteTime": {
     "end_time": "2022-06-03T14:05:00.523886Z",
     "start_time": "2022-06-03T14:04:27.948Z"
    },
    "code_folding": [
     0
    ]
   },
   "outputs": [],
   "source": [
    "def __get_median_psd(psds):\n",
    "\n",
    "    from numpy import median, zeros, isnan\n",
    "\n",
    "    med_psd = zeros(psds.shape[1])\n",
    "\n",
    "    for f in range(psds.shape[1]):\n",
    "        a = psds[:,f]\n",
    "        med_psd[f] = median(a[~isnan(a)])\n",
    "\n",
    "    return med_psd"
   ]
  },
  {
   "cell_type": "code",
   "execution_count": null,
   "id": "cee9eb19",
   "metadata": {
    "ExecuteTime": {
     "end_time": "2022-06-03T14:05:00.524480Z",
     "start_time": "2022-06-03T14:04:28.132Z"
    }
   },
   "outputs": [],
   "source": [
    "config['interval'] = 3600\n",
    "config['interval_overlap'] = 50 # in percent\n",
    "config['taper'] = 'hanning'\n",
    "config['segments'] = 1e2\n",
    "config['nperseg'] = 256*config.get('segments')\n",
    "config['noverlap'] = 64*config.get('segments')\n",
    "config['nfft'] = None\n",
    "config['detrend'] = 'constant'\n",
    "config['scaling'] = 'density'\n",
    "config['onesided'] = True\n",
    "config['frequency_limits'] = (0, 10) # in Hz\n",
    "\n",
    "psds, frequencies, stations = [], [], []\n",
    "\n",
    "for cha in config['cha']:\n",
    "    for sta in config['sta']:\n",
    "#         print(st.select(id=f\"*.{sta}.*.{cha}\"))\n",
    "        stations.append(f\"{sta}.{cha}\")\n",
    "        ff, psd = __calculate_spectra(st.select(id=f\"*.{sta}.*.{cha}\"), config, mode=None)\n",
    "\n",
    "        psd_median = __get_median_psd(psd)\n",
    "        \n",
    "        psds.append(psd_median)\n",
    "        frequencies.append(ff)"
   ]
  },
  {
   "cell_type": "code",
   "execution_count": null,
   "id": "27152c5b",
   "metadata": {
    "ExecuteTime": {
     "end_time": "2022-06-03T14:05:00.525134Z",
     "start_time": "2022-06-03T14:04:29.116Z"
    }
   },
   "outputs": [],
   "source": [
    "tmp = np.load(f\"/import/kilauea-data/LNM/data/MODELS/\"+\"noise_models.npz\")\n",
    "nm_periods, nlnm, nhnm = tmp['model_periods'], tmp['low_noise'], tmp['high_noise']; del tmp\n",
    "\n",
    "nlnm_psd = 10**(nlnm/10)\n",
    "nhnm_psd = 10**(nhnm/10)\n",
    "\n",
    "fig, ax = plt.subplots(3,1,figsize=(15,15), sharex=True)\n",
    "\n",
    "pp = np.zeros(len(ff))\n",
    "pp[:-1] = 1/ff[1:]\n",
    "\n",
    "for psd, station in zip(psds, stations):\n",
    "    if np.nonzero(psd)[0].size == 0:\n",
    "        continue\n",
    "        \n",
    "    if station[-1] == \"Z\":\n",
    "        ax[0].loglog(pp, psd, label=station)\n",
    "    elif station[-1] == \"N\":\n",
    "        ax[1].loglog(pp, psd, label=station)\n",
    "    elif station[-1] == \"E\":\n",
    "        ax[2].loglog(pp, psd, label=station)\n",
    "for jj in range(3):\n",
    "    ax[jj].loglog(nm_periods, nlnm_psd, ls=\"--\", color=\"black\")\n",
    "    ax[jj].loglog(nm_periods, nhnm_psd, ls=\"--\", color=\"black\")\n",
    "\n",
    "    ax[jj].legend(loc=\"upper right\")\n",
    "\n",
    "    ax[jj].set_xlim(1,200)\n",
    "    ax[jj].set_ylim(1e-19, 1e-9)\n",
    "    \n",
    "plt.show();"
   ]
  },
  {
   "cell_type": "markdown",
   "id": "3262e1d1",
   "metadata": {},
   "source": [
    "### Processing"
   ]
  },
  {
   "cell_type": "code",
   "execution_count": null,
   "id": "06585c7b",
   "metadata": {
    "ExecuteTime": {
     "end_time": "2022-06-03T14:05:00.525719Z",
     "start_time": "2022-06-03T14:04:30.077Z"
    }
   },
   "outputs": [],
   "source": [
    "st2 = st.copy();\n",
    "\n",
    "st2.detrend('simple');\n",
    "\n",
    "# for tr in st:\n",
    "#     if tr.stats.sampling_rate > 20:\n",
    "#         tr.resample(20);\n",
    "\n",
    "config['filter'] = {'type':'bandpass', \n",
    "                    'fmin':0.01, \n",
    "                    'fmax':1}\n",
    "\n",
    "if config['filter']:\n",
    "    st2.filter(config['filter']['type'], \n",
    "              freqmin=config['filter']['fmin'],\n",
    "              freqmax=config['filter']['fmax'], \n",
    "              corners=4, \n",
    "              zerophase=True);\n",
    "print(st2);"
   ]
  },
  {
   "cell_type": "code",
   "execution_count": null,
   "id": "6e628989",
   "metadata": {
    "ExecuteTime": {
     "end_time": "2022-06-03T14:05:00.526370Z",
     "start_time": "2022-06-03T14:04:30.245Z"
    }
   },
   "outputs": [],
   "source": [
    "fig, ax = plt.subplots(len(config['sta']),3, figsize=(15,10), sharex=True)\n",
    "\n",
    "for k, component in enumerate(['Z','N','E']):\n",
    "    for i, tr in enumerate(st2.select(channel=f\"*{component}\")):\n",
    "        \n",
    "        if np.isnan(tr.data).all():\n",
    "            ax[i,k].fill_between(tr.times(), -1, 1, color='red', alpha=0.3)\n",
    "        else:\n",
    "            ax[i,k].plot(tr.times(),tr.data*1e6, color='k', label=f'{tr.stats.station}');\n",
    "        ax[i,k].legend(loc=\"upper right\")\n",
    "        \n",
    "    ax[0,k].set_title(tr.stats.channel)\n",
    "    \n",
    "    \n",
    "fig.show();"
   ]
  },
  {
   "cell_type": "markdown",
   "id": "4d76d13b",
   "metadata": {},
   "source": [
    "## Compare RLAS, ROMY-Z, ADR and FFB1"
   ]
  },
  {
   "cell_type": "markdown",
   "id": "15095a75",
   "metadata": {},
   "source": [
    "### Configurations"
   ]
  },
  {
   "cell_type": "code",
   "execution_count": null,
   "id": "83215053",
   "metadata": {
    "ExecuteTime": {
     "end_time": "2022-06-03T14:05:00.526905Z",
     "start_time": "2022-06-03T14:04:30.812Z"
    }
   },
   "outputs": [],
   "source": [
    "# config2 = {}\n",
    "\n",
    "# config2['tbeg'] = obs.UTCDateTime(\"2021-09-27 06:17\")\n",
    "# config2['tend'] = obs.UTCDateTime(\"2021-09-27 06:40\")\n",
    "\n",
    "# config2['seeds'] = {#'FUR': 'GR.FUR..BHZ',\n",
    "#                     'FFB1':'BW.FFB1..BHZ', \n",
    "#                     'RLAS':'BW.RLAS..BJZ', \n",
    "#                     'ROMY':'BW.ROMY.10.BJZ', \n",
    "#                     'ADRZ':'BW.ROMY.20.BSZ',\n",
    "#                    }\n",
    "\n",
    "# config2['filter'] = {'type':'bandpass', 'fmin': 0.01, 'fmax': 0.2}\n",
    "\n",
    "# config2['repository'] = [\"online\", \"online\", \"archive\", \"archive\", \"archive\"]"
   ]
  },
  {
   "cell_type": "markdown",
   "id": "705af545",
   "metadata": {},
   "source": [
    "### Load data"
   ]
  },
  {
   "cell_type": "code",
   "execution_count": 14,
   "id": "e653edcb",
   "metadata": {
    "ExecuteTime": {
     "end_time": "2022-06-03T13:49:00.688636Z",
     "start_time": "2022-06-03T13:49:00.428945Z"
    },
    "code_folding": [
     0
    ]
   },
   "outputs": [
    {
     "name": "stdout",
     "output_type": "stream",
     "text": [
      "loading BW.FFB1..BHZ...\n"
     ]
    },
    {
     "ename": "TypeError",
     "evalue": "__querrySeismoData() got an unexpected keyword argument 'where'",
     "output_type": "error",
     "traceback": [
      "\u001b[0;31m---------------------------------------------------------------------------\u001b[0m",
      "\u001b[0;31mTypeError\u001b[0m                                 Traceback (most recent call last)",
      "\u001b[0;32m<ipython-input-14-524ef7381ed3>\u001b[0m in \u001b[0;36m<module>\u001b[0;34m\u001b[0m\n\u001b[1;32m     25\u001b[0m     \u001b[0;32mreturn\u001b[0m \u001b[0mst\u001b[0m\u001b[0;34m\u001b[0m\u001b[0;34m\u001b[0m\u001b[0m\n\u001b[1;32m     26\u001b[0m \u001b[0;34m\u001b[0m\u001b[0m\n\u001b[0;32m---> 27\u001b[0;31m \u001b[0mst0\u001b[0m \u001b[0;34m=\u001b[0m \u001b[0m__get_stream\u001b[0m\u001b[0;34m(\u001b[0m\u001b[0mconfig2\u001b[0m\u001b[0;34m)\u001b[0m\u001b[0;34m\u001b[0m\u001b[0;34m\u001b[0m\u001b[0m\n\u001b[0m",
      "\u001b[0;32m<ipython-input-14-524ef7381ed3>\u001b[0m in \u001b[0;36m__get_stream\u001b[0;34m(config)\u001b[0m\n\u001b[1;32m     17\u001b[0m                                     \u001b[0mrestitute\u001b[0m\u001b[0;34m=\u001b[0m\u001b[0;32mTrue\u001b[0m\u001b[0;34m,\u001b[0m\u001b[0;34m\u001b[0m\u001b[0;34m\u001b[0m\u001b[0m\n\u001b[1;32m     18\u001b[0m                                     \u001b[0mdetail\u001b[0m\u001b[0;34m=\u001b[0m\u001b[0;32mNone\u001b[0m\u001b[0;34m,\u001b[0m\u001b[0;34m\u001b[0m\u001b[0;34m\u001b[0m\u001b[0m\n\u001b[0;32m---> 19\u001b[0;31m                                     \u001b[0mfill_value\u001b[0m\u001b[0;34m=\u001b[0m\u001b[0;32mNone\u001b[0m\u001b[0;34m,\u001b[0m\u001b[0;34m\u001b[0m\u001b[0;34m\u001b[0m\u001b[0m\n\u001b[0m\u001b[1;32m     20\u001b[0m                                     )\n\u001b[1;32m     21\u001b[0m         \u001b[0;32mif\u001b[0m \u001b[0mst0\u001b[0m\u001b[0;34m[\u001b[0m\u001b[0;36m0\u001b[0m\u001b[0;34m]\u001b[0m\u001b[0;34m.\u001b[0m\u001b[0mstats\u001b[0m\u001b[0;34m.\u001b[0m\u001b[0mchannel\u001b[0m \u001b[0;34m==\u001b[0m \u001b[0;34m\"BSZ\"\u001b[0m\u001b[0;34m:\u001b[0m\u001b[0;34m\u001b[0m\u001b[0;34m\u001b[0m\u001b[0m\n",
      "\u001b[0;31mTypeError\u001b[0m: __querrySeismoData() got an unexpected keyword argument 'where'"
     ]
    }
   ],
   "source": [
    "# def __get_stream(config):\n",
    "    \n",
    "#     st = obs.Stream()\n",
    "\n",
    "#     for i, seed in enumerate(config.get(\"seeds\").keys()):\n",
    "\n",
    "#         seed = config.get(\"seeds\")[seed]\n",
    "\n",
    "#         print(f\"loading {seed}...\")\n",
    "\n",
    "#         st0, inv = __querrySeismoData(  \n",
    "#                                     seed_id=seed,\n",
    "#                                     starttime=config.get(\"tbeg\"),\n",
    "#                                     endtime=config.get(\"tend\"),\n",
    "#                                     where=config.get(\"repository\")[i],\n",
    "#                                     path=None,\n",
    "#                                     restitute=True,\n",
    "#                                     detail=None,\n",
    "#                                     fill_value=None,\n",
    "#                                     )\n",
    "#         if st0[0].stats.channel == \"BSZ\":\n",
    "#             st0[0].stats.station =\"ADRZ\"\n",
    "#         if len(st0) != 0:\n",
    "#             st += st0\n",
    "#     return st\n",
    "\n",
    "# st0 = __get_stream(config2)"
   ]
  },
  {
   "cell_type": "code",
   "execution_count": null,
   "id": "66d197b2",
   "metadata": {},
   "outputs": [],
   "source": []
  }
 ],
 "metadata": {
  "kernelspec": {
   "display_name": "Python 3",
   "language": "python",
   "name": "python3"
  },
  "language_info": {
   "codemirror_mode": {
    "name": "ipython",
    "version": 3
   },
   "file_extension": ".py",
   "mimetype": "text/x-python",
   "name": "python",
   "nbconvert_exporter": "python",
   "pygments_lexer": "ipython3",
   "version": "3.7.7"
  }
 },
 "nbformat": 4,
 "nbformat_minor": 5
}
