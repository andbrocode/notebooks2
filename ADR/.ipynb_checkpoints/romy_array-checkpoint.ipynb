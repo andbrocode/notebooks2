{
 "cells": [
  {
   "cell_type": "markdown",
   "metadata": {},
   "source": [
    "## ROMY Array"
   ]
  },
  {
   "cell_type": "markdown",
   "metadata": {},
   "source": [
    "### Importing"
   ]
  },
  {
   "cell_type": "code",
   "execution_count": 1,
   "metadata": {
    "ExecuteTime": {
     "end_time": "2021-10-07T11:55:37.463239Z",
     "start_time": "2021-10-07T11:55:36.095911Z"
    }
   },
   "outputs": [],
   "source": [
    "\n",
    "import os, subprocess\n",
    "import numpy as np\n",
    "import matplotlib.pyplot as plt \n",
    "import obspy\n",
    "import pandas as pd\n",
    "\n",
    "from obspy.clients.fdsn import Client, RoutingClient\n",
    "from obspy.signal.array_analysis import array_transff_wavenumber\n",
    "from obspy.imaging.cm import obspy_sequential\n",
    "from obspy.geodetics import locations2degrees\n",
    "from andbro__querrySeismoData import __querrySeismoData\n",
    "from tqdm import tqdm\n",
    "from obspy.core.util import AttribDict\n",
    "# frompydsm.relab import shiftdim\n",
    "\n",
    "#from andbro__save_to import __save_to\n",
    "#from andbro__get_data import __get_data\n"
   ]
  },
  {
   "cell_type": "markdown",
   "metadata": {},
   "source": [
    "### Initializing Settings"
   ]
  },
  {
   "cell_type": "code",
   "execution_count": 2,
   "metadata": {
    "ExecuteTime": {
     "end_time": "2021-10-07T11:55:37.889262Z",
     "start_time": "2021-10-07T11:55:37.886525Z"
    },
    "code_folding": []
   },
   "outputs": [],
   "source": [
    "# plt.style.use('default') # print(plt.style.available)   \n",
    "\n",
    "# %matplotlib inline"
   ]
  },
  {
   "cell_type": "markdown",
   "metadata": {},
   "source": [
    "### Setting Variables"
   ]
  },
  {
   "cell_type": "code",
   "execution_count": 3,
   "metadata": {
    "ExecuteTime": {
     "end_time": "2021-10-07T11:55:39.231467Z",
     "start_time": "2021-10-07T11:55:39.219326Z"
    },
    "code_folding": []
   },
   "outputs": [],
   "source": [
    "\n",
    "#ipath = '/home/brotzer/'\n",
    "#ifile = ''\n",
    "\n",
    "#opath = '/home/brotzer/'\n",
    "#ofile = ''\n",
    "\n",
    "\n",
    "klim = 50.\n",
    "kstep = klim / 100.\n",
    "\n",
    "tbeg = obspy.UTCDateTime(\"2019-05-14T12:17:00.000\")\n",
    "tend = obspy.UTCDateTime(\"2019-05-14T14:00:10.000\")\n",
    "\n",
    "\n",
    "#c = Client(\"IRIS\")\n",
    "c = RoutingClient(\"eida-routing\")"
   ]
  },
  {
   "cell_type": "markdown",
   "metadata": {},
   "source": [
    "### Defining Methods"
   ]
  },
  {
   "cell_type": "code",
   "execution_count": 4,
   "metadata": {
    "ExecuteTime": {
     "end_time": "2021-10-07T11:55:44.273651Z",
     "start_time": "2021-10-07T11:55:44.259582Z"
    },
    "code_folding": [
     1
    ]
   },
   "outputs": [],
   "source": [
    "\n",
    "def __plotArrayGeometryAndResponse(array, transff, klim, kstep, unit=None):\n",
    "    \n",
    "    ## calulcate geometrical center of array\n",
    "    array_center = [np.median(array[:,0]), np.median(array[:,1])]\n",
    "    \n",
    "    ## find geometrical limits of array\n",
    "    lon_min, lon_max = np.min(array[:,0]), np.max(array[:,0])\n",
    "    lat_min, lat_max = np.min(array[:,1]), np.max(array[:,1])\n",
    "    \n",
    "    ## define bounds\n",
    "    kxmin, kxmax, kymin, kymax = -klim, klim, -klim, klim\n",
    "    \n",
    "    \n",
    "    ## _________________________________________________________\n",
    "    ##\n",
    "    fig, axes = plt.subplots(1,2, figsize=(16,6))\n",
    "\n",
    "    fs=12\n",
    "    \n",
    "    if unit is \"km\":\n",
    "        xdata = (array[:,0]-array_center[0])*111.\n",
    "        ydata = (array[:,1]-array_center[1])*111. * np.cos(array[:,1]/180.*np.pi)\n",
    "        x0, y0 = 0.0, 0.0\n",
    "    elif unit is \"deg\":\n",
    "        xdata = array[:,0]\n",
    "        ydata = array[:,1]\n",
    "        x0, y0 = array_center[0], array_center[1]\n",
    "        \n",
    "    ## ________________________________________________\n",
    "    axes[0].plot(xdata, ydata,'kv')\n",
    "    axes[0].scatter(x0, y0, color='red', marker='o', s=15)\n",
    "    \n",
    "    if unit is \"km\" or unit is None:\n",
    "        axes[0].set_xlabel('X (km)', fontsize=fs)\n",
    "        axes[0].set_ylabel('Y (km)', fontsize=fs)\n",
    "\n",
    "        axes[0].set_ylim([-max(abs(ydata)), max(abs(ydata))])\n",
    "        axes[0].set_ylim([-max(abs(ydata)), max(abs(ydata))])\n",
    "                 \n",
    "    elif unit is \"deg\":\n",
    "        axes[0].set_xlabel('Longitude (°)', fontsize=fs)\n",
    "        axes[0].set_ylabel('Latitude (°)', fontsize=fs)\n",
    "                 \n",
    "    axes[0].set_title('Square Array configuration', fontsize=fs+2)\n",
    "\n",
    "    \n",
    "    ## ________________________________________________\n",
    "    ax2 = axes[1].pcolor(np.arange(kxmin, kxmax + kstep * 1.1, kstep) - kstep / 2.,\n",
    "               np.arange(kymin, kymax + kstep * 1.1, kstep) - kstep / 2.,\n",
    "               transff.T, cmap=obspy_sequential)\n",
    "    \n",
    "    plt.colorbar(ax2, ax=axes[:])\n",
    "    ax2.set_clim(0., 1.)\n",
    "    \n",
    "    axes[1].set_xlim(kxmin, kxmax)\n",
    "    axes[1].set_ylim(kymin, kymax)\n",
    "    axes[1].set_xlabel('wave number (m$^{-1}$)', fontsize=fs)\n",
    "    axes[1].set_ylabel('wave number (m$^{-1}$)', fontsize=fs)\n",
    "    axes[1].set_title('ARF Square Array', fontsize=fs+2)\n",
    "    \n",
    "    plt.show()    \n"
   ]
  },
  {
   "cell_type": "code",
   "execution_count": 5,
   "metadata": {
    "ExecuteTime": {
     "end_time": "2021-10-07T11:55:45.052686Z",
     "start_time": "2021-10-07T11:55:45.044311Z"
    },
    "code_folding": [
     1
    ]
   },
   "outputs": [],
   "source": [
    "\n",
    "def __getArrayStations(seed_id, tbeg, tend, fur_coords):\n",
    "\n",
    "    net, sta, loc, cha  = seed_id.split(\".\")\n",
    "\n",
    "    route =  RoutingClient(\"eida-routing\")\n",
    "    inv_check =route.get_stations(\n",
    "                            network=net, \n",
    "                            station=sta,\n",
    "                            channel=cha,\n",
    "                            starttime=tbeg,\n",
    "                            endtime=tend,\n",
    "                            latitude=fur_coords[0],\n",
    "                            longitude=fur_coords[1],\n",
    "                            minradius=0,\n",
    "                            maxradius=0.1,\n",
    "                            )\n",
    "    \n",
    "    \n",
    "    inv_check.plot(projection=\"local\");\n",
    "    \n",
    "    \n",
    "    codes, lon, lat, elev = [], [], [], []\n",
    "    for h, network in enumerate(inv_check):\n",
    "        for i, station in enumerate(network):\n",
    "             \n",
    "            codes.append(f'{inv_check[h].code}.{station.code}')\n",
    "            lon.append(station.longitude)\n",
    "            lat.append(station.latitude)\n",
    "            elev.append(station.elevation/1000.)\n",
    "            \n",
    "    frame = pd.DataFrame({'codes': codes, 'lon': lon, 'lat': lat, 'elev':elev})\n",
    "    \n",
    "    return frame\n"
   ]
  },
  {
   "cell_type": "code",
   "execution_count": 6,
   "metadata": {
    "ExecuteTime": {
     "end_time": "2021-10-07T11:55:45.341949Z",
     "start_time": "2021-10-07T11:55:45.336261Z"
    },
    "code_folding": [
     1
    ]
   },
   "outputs": [],
   "source": [
    "\n",
    "def __calculateDistanceOfStations(array_stations):\n",
    "    '''\n",
    "    from obspy.geodetics import locations2degrees\n",
    "\n",
    "    '''\n",
    "    \n",
    "    N = len(array_stations)\n",
    "    \n",
    "    dist_in_deg = np.zeros((N, N))\n",
    "\n",
    "    for i, station1 in array_stations.iterrows():\n",
    "        for j, station2 in array_stations.iterrows():\n",
    "            dist_in_deg[i][j] = locations2degrees(lat1  = station1[2], \n",
    "                                                  long1 = station1[1], \n",
    "                                                  lat2  = station2[2], \n",
    "                                                  long2 = station2[1],\n",
    "                                                  )\n",
    "            \n",
    "    return dist_in_deg, np.max(dist_in_deg)*111.0\n"
   ]
  },
  {
   "cell_type": "code",
   "execution_count": 7,
   "metadata": {
    "ExecuteTime": {
     "end_time": "2021-10-07T11:55:45.605222Z",
     "start_time": "2021-10-07T11:55:45.594008Z"
    },
    "code_folding": [
     1
    ]
   },
   "outputs": [],
   "source": [
    "\n",
    "def __plotArraySection(st_in, scal, comp=None): \n",
    "    \n",
    "    if comp is not None:\n",
    "        st_in = st_in.select(component = comp);\n",
    "        title = f'{comp}-components of ROMY Array'\n",
    "        \n",
    "    names = [tr.stats.station for tr in st_in]\n",
    "    \n",
    "    fs = 14\n",
    "    \n",
    "    ## _________________________________________\n",
    "    ##\n",
    "    fig, ax = plt.subplots(1,1, figsize=(13,6))\n",
    "    \n",
    "    if len(st_in) > 50: \n",
    "        print(f\"only 50 of {len(st_in)} traces are plotted!\")\n",
    "        st_in = st_in[:30]\n",
    "        \n",
    "    for istation in range(len(st_in)):\n",
    "        tmp = st_in[istation].data\n",
    "        \n",
    "        if len(tmp) == 0:\n",
    "            print('no data for station:', st_in[istation].stats.station)\n",
    "        \n",
    "        else:\n",
    "            if scal > 0:\n",
    "                tmp1 = tmp/(np.max(tmp)-np.min(tmp))\n",
    "            else:\n",
    "                tmp1 = tmp\n",
    "            \n",
    "            timeline = np.arange(0,len(tmp1),1)*st_in[istation].stats.delta\n",
    "            \n",
    "            ax.plot(timeline, tmp1*np.abs(scal)+istation*np.abs(scal),'k')\n",
    "    \n",
    "    ax.set_yticks(np.arange(0,len(st_in), 1)*scal)\n",
    "    ax.set_yticklabels(names, fontsize = fs)    \n",
    "#     ax.set_yticklabels(np.arange(0,len(st_in),1)+1)\n",
    "    ax.set_xlabel(f'Time from {st_in[0].stats.starttime.date} {st_in[0].stats.starttime.time} UTC (s)', fontsize = fs, labelpad=10)\n",
    "    ax.set_title(title, fontsize = fs)\n",
    "    \n",
    "    plt.show();\n",
    "    return fig\n"
   ]
  },
  {
   "cell_type": "code",
   "execution_count": 8,
   "metadata": {
    "ExecuteTime": {
     "end_time": "2021-10-07T11:55:45.880577Z",
     "start_time": "2021-10-07T11:55:45.873011Z"
    },
    "code_folding": [
     1
    ]
   },
   "outputs": [],
   "source": [
    "\n",
    "def __getStream(array_stations, tbeg, tend):\n",
    "    \n",
    "    '''\n",
    "    from obspy.core.util import AttribDict\n",
    "\n",
    "    '''\n",
    "    \n",
    "    ## request waveforms\n",
    "    st = obspy.Stream(traces=None)\n",
    "    for i, station in array_stations.iterrows():\n",
    "        print(f\"requesting {station[0]}..BH* ...\")\n",
    "\n",
    "        try:\n",
    "            st0, st_inv = __querrySeismoData(f\"{station[0]}..BH*\", tbeg, tend, restitute = True, details=None)\n",
    "            \n",
    "        \n",
    "        except:\n",
    "            print(f'--> failed for {station[0]}!')\n",
    "        \n",
    "\n",
    "\n",
    "        st += st0\n",
    "    \n",
    "    \n",
    "    ## check for doubles\n",
    "    codes = []; removed = 0\n",
    "    for tr in st:\n",
    "        code = f\"{tr.stats.network}.{tr.stats.station}.{tr.stats.channel}\"\n",
    "        if code in codes:\n",
    "            st.remove(tr)\n",
    "            removed += 1\n",
    "        else:\n",
    "            codes.append(code)\n",
    "    \n",
    "    st.merge(); \n",
    "    print(f'\\n{removed} doubles have been removed!')\n",
    "    \n",
    "    return st\n"
   ]
  },
  {
   "cell_type": "code",
   "execution_count": 9,
   "metadata": {
    "ExecuteTime": {
     "end_time": "2021-10-07T11:55:46.668356Z",
     "start_time": "2021-10-07T11:55:46.660378Z"
    },
    "code_folding": [
     1
    ]
   },
   "outputs": [],
   "source": [
    "\n",
    "def __TimeShift(st, timematrix): \n",
    "    \n",
    "    '''\n",
    "    timemaxtrix have same length as station\n",
    "    \n",
    "    '''\n",
    "    \n",
    "    ## create copy to not overwrite the stream\n",
    "    st_shift=st.copy()\n",
    "    \n",
    "    \n",
    "    ##all waveforms resampled to the same sampling rate\n",
    "    maximal_frequency = 1/st[0].stats.delta \n",
    "    \n",
    "    Nfft = st[0].stats.npts \n",
    "    \n",
    "    central_frequencies  = maximal_frequency/2*np.linspace(0,1,endpoint=True, num=np.int(Nfft/2+1)); \n",
    "    \n",
    "    \n",
    "    for i in range(len(st)):\n",
    "        \n",
    "        delay = timematrix[i] ##compute lag from slownesses \n",
    "        rep   = np.exp(1j*2*np.pi*central_frequencies*delay)\n",
    "        vehlp = np.fft.fft(st_shift[i].data)\n",
    "        shft  = shiftdim(vehlp[0:len(central_frequencies)],1,nargout=1)\n",
    "        dshft = rep.T*shft\n",
    "        s_sh  = np.double(2*np.real(np.fft.ifft(dshft, Nfft)))\n",
    "        \n",
    "        st_shift[i].data=s_sh\n",
    "    \n",
    "    \n",
    "    return st_shift\n"
   ]
  },
  {
   "cell_type": "code",
   "execution_count": 10,
   "metadata": {
    "ExecuteTime": {
     "end_time": "2021-10-07T11:55:47.831312Z",
     "start_time": "2021-10-07T11:55:47.826450Z"
    },
    "code_folding": [
     1
    ]
   },
   "outputs": [],
   "source": [
    "\n",
    "# def __calulcateBeamPower(st, sl_min, sl_max, sl_step):\n",
    "    \n",
    "#     '''\n",
    "#     from pydsm.relab import shiftdim\n",
    "\n",
    "#     '''\n",
    "    \n",
    "#     ## define slowness grid extensions\n",
    "#     Eslowness = np.arange(sl_min, sl_max+sl_step, sl_step)\n",
    "#     Nslowness = np.arange(sl_min, sl_max+sl_step, sl_step)\n",
    "    \n",
    "#     N_slow = len(Eslowness)\n",
    "    \n",
    "#     ## get distancens to center of array\n",
    "#     array_coords = np.zeros((len(st), 2))\n",
    "#     for i, tr in enumerate(st): \n",
    "#         array_coords[i][0] = tr.stats.coordinates.latitude\n",
    "#         array_coords[i][1] = tr.stats.coordinates.latitude\n",
    "    \n",
    "#     distN = (array_coords[:,0] - np.median(array_coords[:,0]))*111.0; \n",
    "#     distE = (array_coords[:,1] - np.median(array_coords[:,1]))*111.0 * np.cos(np.median(array_coords[:,1])/180*np.pi);\n",
    "\n",
    "    \n",
    "#     ## relevant parameters for frequency domain\n",
    "#     dt   = st[0].stats.delta  ## sampling interval\n",
    "#     Fmax = np.int(1/dt); ## maximum frequency\n",
    "#     Nfft = st[0].stats.npts ## number of sample in each chopped seismogram (i.e. number in fft)\n",
    "#     frq  = Fmax/2*np.linspace(0,1,endpoint=True, num=np.int(Nfft/2+1)); ## central frequencies\n",
    "\n",
    "#     beam = np.zeros([N_slow, N_slow])\n",
    "\n",
    "#     for ind1 in range(N_slow):\n",
    "\n",
    "#         for ind2 in range(N_slow):\n",
    "\n",
    "#             stdel = np.zeros([len(st)])\n",
    "\n",
    "#             for ind3 in np.arange(len(st)):\n",
    "\n",
    "#                 delay = -1*(distN[ind3]*Nslowness[ind1] + distE[ind3]*Eslowness[ind2]) ##compute lag from slownesses \n",
    "                \n",
    "#                 rep   = np.exp(1j*2*np.pi*frq*delay)\n",
    "                \n",
    "#                 vehlp = np.fft.fft(st[ind3].data)\n",
    "                \n",
    "#                 shft  = shiftdim(vehlp[0:len(frq)],1,nargout=1)\n",
    "                \n",
    "#                 dshft = rep.T*shft\n",
    "                \n",
    "#                 s_sh  = np.double(2*np.real(np.fft.ifft(dshft, Nfft)))\n",
    "                \n",
    "#                 stdel = stdel + s_sh/np.max(np.abs(s_sh))\n",
    "\n",
    "#             beam[ind1,ind2] = np.sum((stdel/len(inp))**2)\n",
    "\n",
    "\n",
    "#     ## determine peak\n",
    "#     indextuple = np.unravel_index(np.argmax(beam, axis=None), beam.shape)\n",
    "\n",
    "#     beampeak = beam[indextuple]\n",
    "\n",
    "#     beampeak_y = NsloV[indextuple[0]]\n",
    "#     beampeak_x = EsloV[indextuple[1]]\n",
    "\n",
    "#     ## calculate back azimuth\n",
    "#     baz = np.rad2deg(np.arctan2(beampeak_x,beampeak_y))\n",
    "    \n",
    "#     print('Slowness [s/km]: %g'%(np.sqrt(beampeak_x**2+beampeak_x**2) ))\n",
    "#     print(f'Back azimuth from North [degree]: {baz}')\n",
    "\n",
    "#     return beam, beampeak_x, beampeak_y, baz\n",
    "\n",
    "# __calulcateBeamPower(st, sl_min=-0.3, sl_max=0.3, sl_step=0.03)"
   ]
  },
  {
   "cell_type": "markdown",
   "metadata": {},
   "source": [
    "### Obtain Station Information"
   ]
  },
  {
   "cell_type": "code",
   "execution_count": 11,
   "metadata": {
    "ExecuteTime": {
     "end_time": "2021-10-07T11:55:49.564142Z",
     "start_time": "2021-10-07T11:55:48.881970Z"
    },
    "code_folding": []
   },
   "outputs": [],
   "source": [
    "## get station info of FUR\n",
    "\n",
    "net, sta, loc, cha  = \"GR.FUR..BHZ\".split(\".\")\n",
    " \n",
    "inv = c.get_stations(network = net, \n",
    "                    station = sta,\n",
    "                    channel = cha,\n",
    "                    starttime = tbeg,\n",
    "                    endtime = tend\n",
    "                    ) \n",
    "\n",
    "\n",
    "fur_coords = [inv[0][0].latitude, inv[0][0].longitude, inv[0][0].elevation]\n"
   ]
  },
  {
   "cell_type": "code",
   "execution_count": 12,
   "metadata": {
    "ExecuteTime": {
     "end_time": "2021-10-07T11:56:14.644159Z",
     "start_time": "2021-10-07T11:55:58.915488Z"
    },
    "code_folding": []
   },
   "outputs": [
    {
     "data": {
      "image/png": "[encoded data removed]",
      "text/plain": [
       "<Figure size 432x288 with 1 Axes>"
      ]
     },
     "metadata": {},
     "output_type": "display_data"
    },
    {
     "data": {
      "text/html": [
       "<div>\n",
       "<style scoped>\n",
       "    .dataframe tbody tr th:only-of-type {\n",
       "        vertical-align: middle;\n",
       "    }\n",
       "\n",
       "    .dataframe tbody tr th {\n",
       "        vertical-align: top;\n",
       "    }\n",
       "\n",
       "    .dataframe thead th {\n",
       "        text-align: right;\n",
       "    }\n",
       "</style>\n",
       "<table border=\"1\" class=\"dataframe\">\n",
       "  <thead>\n",
       "    <tr style=\"text-align: right;\">\n",
       "      <th></th>\n",
       "      <th>codes</th>\n",
       "      <th>lon</th>\n",
       "      <th>lat</th>\n",
       "      <th>elev</th>\n",
       "    </tr>\n",
       "  </thead>\n",
       "  <tbody>\n",
       "    <tr>\n",
       "      <th>0</th>\n",
       "      <td>GR.FUR</td>\n",
       "      <td>11.276800</td>\n",
       "      <td>48.163900</td>\n",
       "      <td>0.565</td>\n",
       "    </tr>\n",
       "    <tr>\n",
       "      <th>1</th>\n",
       "      <td>BW.FFB1</td>\n",
       "      <td>11.275065</td>\n",
       "      <td>48.162904</td>\n",
       "      <td>0.572</td>\n",
       "    </tr>\n",
       "    <tr>\n",
       "      <th>2</th>\n",
       "      <td>BW.FFB2</td>\n",
       "      <td>11.273684</td>\n",
       "      <td>48.164357</td>\n",
       "      <td>0.577</td>\n",
       "    </tr>\n",
       "    <tr>\n",
       "      <th>3</th>\n",
       "      <td>BW.FFB3</td>\n",
       "      <td>11.276289</td>\n",
       "      <td>48.164883</td>\n",
       "      <td>0.562</td>\n",
       "    </tr>\n",
       "    <tr>\n",
       "      <th>4</th>\n",
       "      <td>BW.TON</td>\n",
       "      <td>11.288809</td>\n",
       "      <td>48.173897</td>\n",
       "      <td>0.564</td>\n",
       "    </tr>\n",
       "    <tr>\n",
       "      <th>5</th>\n",
       "      <td>BW.GELB</td>\n",
       "      <td>11.251400</td>\n",
       "      <td>48.162900</td>\n",
       "      <td>0.628</td>\n",
       "    </tr>\n",
       "    <tr>\n",
       "      <th>6</th>\n",
       "      <td>BW.GRMB</td>\n",
       "      <td>11.263500</td>\n",
       "      <td>48.140600</td>\n",
       "      <td>0.656</td>\n",
       "    </tr>\n",
       "    <tr>\n",
       "      <th>7</th>\n",
       "      <td>BW.ROMY</td>\n",
       "      <td>11.275476</td>\n",
       "      <td>48.162941</td>\n",
       "      <td>0.571</td>\n",
       "    </tr>\n",
       "    <tr>\n",
       "      <th>8</th>\n",
       "      <td>BW.BIB</td>\n",
       "      <td>11.247300</td>\n",
       "      <td>48.152200</td>\n",
       "      <td>0.599</td>\n",
       "    </tr>\n",
       "    <tr>\n",
       "      <th>9</th>\n",
       "      <td>BW.ALFT</td>\n",
       "      <td>11.279500</td>\n",
       "      <td>48.142334</td>\n",
       "      <td>0.593</td>\n",
       "    </tr>\n",
       "    <tr>\n",
       "      <th>10</th>\n",
       "      <td>BW.DROMY</td>\n",
       "      <td>11.275476</td>\n",
       "      <td>48.162941</td>\n",
       "      <td>0.571</td>\n",
       "    </tr>\n",
       "  </tbody>\n",
       "</table>\n",
       "</div>"
      ],
      "text/plain": [
       "       codes        lon        lat   elev\n",
       "0     GR.FUR  11.276800  48.163900  0.565\n",
       "1    BW.FFB1  11.275065  48.162904  0.572\n",
       "2    BW.FFB2  11.273684  48.164357  0.577\n",
       "3    BW.FFB3  11.276289  48.164883  0.562\n",
       "4     BW.TON  11.288809  48.173897  0.564\n",
       "5    BW.GELB  11.251400  48.162900  0.628\n",
       "6    BW.GRMB  11.263500  48.140600  0.656\n",
       "7    BW.ROMY  11.275476  48.162941  0.571\n",
       "8     BW.BIB  11.247300  48.152200  0.599\n",
       "9    BW.ALFT  11.279500  48.142334  0.593\n",
       "10  BW.DROMY  11.275476  48.162941  0.571"
      ]
     },
     "execution_count": 12,
     "metadata": {},
     "output_type": "execute_result"
    }
   ],
   "source": [
    "## get all stations around ROMY\n",
    "\n",
    "array_stations = __getArrayStations(\"*.*..B*Z\", tbeg, tend, fur_coords)\n",
    "\n",
    "array_stations"
   ]
  },
  {
   "cell_type": "markdown",
   "metadata": {},
   "source": [
    "### Calulcate Distances, Plot Array Geometry and Response"
   ]
  },
  {
   "cell_type": "code",
   "execution_count": 18,
   "metadata": {
    "ExecuteTime": {
     "end_time": "2021-10-07T12:01:54.387462Z",
     "start_time": "2021-10-07T12:01:53.814026Z"
    },
    "code_folding": []
   },
   "outputs": [
    {
     "data": {
      "image/png": "[encoded data removed]",
      "text/plain": [
       "<Figure size 1152x432 with 3 Axes>"
      ]
     },
     "metadata": {
      "needs_background": "light"
     },
     "output_type": "display_data"
    }
   ],
   "source": [
    "\n",
    "dist, dist_max = __calculateDistanceOfStations(array_stations)\n",
    "\n",
    "\n",
    "lambda_min = .4*dist_max # in km\n",
    "\n",
    "k_max = 2*np.pi/lambda_min\n",
    "k_step = k_max / 100.\n",
    "\n",
    "coordinates = np.column_stack([array_stations.lon, array_stations.lat, array_stations.elev])\n",
    "\n",
    "## compute transfer function as a function of wavenumber difference\n",
    "transff = array_transff_wavenumber(coordinates, \n",
    "                                   k_max, \n",
    "                                   k_step, \n",
    "                                   coordsys='lonlat'\n",
    "                                  )\n",
    "\n",
    "    \n",
    "__plot_array_geometry_and_response(coordinates, transff, k_max, k_step, unit=\"deg\")"
   ]
  },
  {
   "cell_type": "markdown",
   "metadata": {},
   "source": [
    "### Obtain Waveforms"
   ]
  },
  {
   "cell_type": "code",
   "execution_count": null,
   "metadata": {},
   "outputs": [],
   "source": [
    "tstart = obspy.UTCDateTime('2020-11-30 23:25:00')\n",
    "tdelta = 3 # in minutes\n",
    "\n",
    "\n",
    "stream = __getStream(array_stations, tstart, tstart+tdelta*60)\n",
    "\n",
    "## plot traces for checkup\n",
    "__plotArraySection(stream, scal=1, comp='Z');"
   ]
  },
  {
   "cell_type": "markdown",
   "metadata": {},
   "source": [
    "### Process Waveforms"
   ]
  },
  {
   "cell_type": "code",
   "execution_count": null,
   "metadata": {},
   "outputs": [],
   "source": [
    "resampling_rate = 40.\n",
    "freq_max = 5\n",
    "freq_min = 0.5\n",
    "\n",
    "t1 = tstart + 50\n",
    "t2 = tstart + 150\n",
    "\n",
    "## ____________________________________\n",
    "## detrend, bandpass filtering, resampling, trimming\n",
    "\n",
    "st = stream.copy()\n",
    "\n",
    "st.detrend('demean')\n",
    "st.detrend()\n",
    "\n",
    "st.filter('bandpass', \n",
    "          freqmin=freq_min, \n",
    "          freqmax=freq_max, \n",
    "          corners=4, \n",
    "          zerophase=True\n",
    "         )\n",
    "\n",
    "st.trim(starttime = t1, \n",
    "        endtime = t2, \n",
    "#         pad = True, \n",
    "#         fill_value = 0\n",
    "       )\n",
    "\n",
    "st.resample(resampling_rate)\n",
    "\n",
    "## plot traces for checkup\n",
    "__plotArraySection(st, scal=1, comp='Z');"
   ]
  },
  {
   "cell_type": "markdown",
   "metadata": {},
   "source": [
    "### Beamforming / F-K Analysis"
   ]
  },
  {
   "cell_type": "code",
   "execution_count": null,
   "metadata": {
    "code_folding": [
     6
    ]
   },
   "outputs": [],
   "source": [
    "from obspy.signal.array_analysis import array_processing\n",
    "from matplotlib.colorbar import ColorbarBase\n",
    "from obspy.imaging.cm import obspy_sequential\n",
    "from matplotlib.colors import Normalize\n",
    "\n",
    "\n",
    "def __plotSlownessAndBackazimuth(out):\n",
    "    cmap = obspy_sequential\n",
    "\n",
    "    # make output human readable, adjust backazimuth to values between 0 and 360\n",
    "    t, rel_power, abs_power, baz, slow = out.T\n",
    "    baz[baz < 0.0] += 360\n",
    "\n",
    "    # choose number of fractions in plot (desirably 360 degree/N is an integer!)\n",
    "    N = 36\n",
    "    N2 = 30\n",
    "    abins = np.arange(N + 1) * 360. / N\n",
    "    sbins = np.linspace(0, 3, N2 + 1)\n",
    "\n",
    "    # sum rel power in bins given by abins and sbins\n",
    "    hist, baz_edges, sl_edges =  np.histogram2d(baz, slow, bins=[abins, sbins], weights=rel_power)\n",
    "\n",
    "    # transform to radian\n",
    "    baz_edges = np.radians(baz_edges)\n",
    "\n",
    "    # add polar and colorbar axes\n",
    "    fig = plt.figure(figsize=(8, 8))\n",
    "    cax = fig.add_axes([0.85, 0.2, 0.05, 0.5])\n",
    "    ax = fig.add_axes([0.10, 0.1, 0.70, 0.7], polar=True)\n",
    "    ax.set_theta_direction(-1)\n",
    "    ax.set_theta_zero_location(\"N\")\n",
    "\n",
    "    dh = abs(sl_edges[1] - sl_edges[0])\n",
    "    dw = abs(baz_edges[1] - baz_edges[0])\n",
    "\n",
    "    # circle through backazimuth\n",
    "    for i, row in enumerate(hist):\n",
    "        bars = ax.bar((i * dw) * np.ones(N2),\n",
    "                      height = dh * np.ones(N2),\n",
    "                      width = dw, bottom=dh * np.arange(N2),\n",
    "                      color = cmap(row / hist.max())\n",
    "                     )\n",
    "\n",
    "    ax.set_xticks(np.linspace(0, 2 * np.pi, 4, endpoint=False))\n",
    "    ax.set_xticklabels(['N', 'E', 'S', 'W'])\n",
    "\n",
    "    # set slowness limits\n",
    "    ax.set_ylim(0, 3)\n",
    "    [i.set_color('grey') for i in ax.get_yticklabels()]\n",
    "    ColorbarBase(cax, \n",
    "                 cmap=cmap,\n",
    "                 norm=Normalize(vmin=hist.min(), vmax=hist.max())\n",
    "                )\n",
    "\n",
    "    plt.show()\n",
    "\n",
    "## perfom a f-k analysis \n",
    "out = array_processing(st, \n",
    "                       win_len = 3., \n",
    "                       win_frac = 0.25, \n",
    "                       sll_x = -3.0, \n",
    "                       slm_x = 3.0, \n",
    "                       sll_y = -3.0, \n",
    "                       slm_y = 3.0, \n",
    "                       sl_s = 0.03, \n",
    "                       semb_thres = -1e9,\n",
    "                       vel_thres = -1e9, \n",
    "                       frqlow = 0.5, \n",
    "                       frqhigh = 5., \n",
    "                       stime = t1+1, \n",
    "                       etime = t2-1, \n",
    "                       prewhiten = 0,  \n",
    "                       coordsys='lonlat', \n",
    "                       timestamp='mlabday', \n",
    "                       method = 0, \n",
    "                      )\n",
    "\n",
    "## get quantities from output\n",
    "t, rel_power, abs_power, baz, slow = out.T\n",
    "\n",
    "\n",
    "## get slowness and back azimuth\n",
    "baz_max = baz[np.argmax(abs_power)]\n",
    "slow_max = slow[np.argmax(abs_power)]\n",
    "\n",
    "print(f'slowness: {round(slow_max, 2)} s/km')\n",
    "print(f'back azimuth: {round(baz_max, 2)} degrees')\n",
    "\n",
    "\n",
    "## Plot result of F-K Analysis\n",
    "__plotSlownessAndBackazimuth(out)   "
   ]
  },
  {
   "cell_type": "code",
   "execution_count": null,
   "metadata": {},
   "outputs": [],
   "source": [
    "stream[3].stats.coordinates"
   ]
  },
  {
   "cell_type": "code",
   "execution_count": null,
   "metadata": {},
   "outputs": [],
   "source": [
    "__TimeShift(st, timematrix)"
   ]
  },
  {
   "cell_type": "code",
   "execution_count": null,
   "metadata": {},
   "outputs": [],
   "source": []
  }
 ],
 "metadata": {
  "kernelspec": {
   "display_name": "Python 3",
   "language": "python",
   "name": "python3"
  },
  "language_info": {
   "codemirror_mode": {
    "name": "ipython",
    "version": 3
   },
   "file_extension": ".py",
   "mimetype": "text/x-python",
   "name": "python",
   "nbconvert_exporter": "python",
   "pygments_lexer": "ipython3",
   "version": "3.7.8"
  }
 },
 "nbformat": 4,
 "nbformat_minor": 4
}
