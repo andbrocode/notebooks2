{
 "cells": [
  {
   "cell_type": "code",
   "execution_count": 1,
   "id": "perceived-advocacy",
   "metadata": {
    "ExecuteTime": {
     "end_time": "2021-03-10T09:40:17.882058Z",
     "start_time": "2021-03-10T09:40:17.324854Z"
    }
   },
   "outputs": [],
   "source": [
    "from andbro__querrySeismoData import __querrySeismoData\n",
    "from obspy import UTCDateTime, Stream\n",
    "\n",
    "import matplotlib.pyplot as plt"
   ]
  },
  {
   "cell_type": "code",
   "execution_count": 2,
   "id": "collect-witness",
   "metadata": {
    "ExecuteTime": {
     "end_time": "2021-03-10T09:40:17.886901Z",
     "start_time": "2021-03-10T09:40:17.884069Z"
    }
   },
   "outputs": [],
   "source": [
    "stationlist = ['GELB','GRMB','BIB','TON', 'ALFT', 'FFB1', 'FFB2', 'FFB3', 'FUR']\n",
    "\n",
    "tbeg = UTCDateTime(\"2021-03-04 18:30\")\n",
    "tend = UTCDateTime(\"2021-03-04 19:30\")\n"
   ]
  },
  {
   "cell_type": "code",
   "execution_count": 16,
   "id": "pleased-carter",
   "metadata": {
    "ExecuteTime": {
     "end_time": "2021-03-10T09:48:29.263676Z",
     "start_time": "2021-03-10T09:48:02.445595Z"
    },
    "scrolled": true
   },
   "outputs": [
    {
     "name": "stdout",
     "output_type": "stream",
     "text": [
      "\n",
      "loading GELB ...\n",
      "-> failed obtaining data for station: GELB\n",
      "\n",
      "loading GRMB ...\n",
      "-> failed obtaining data for station: GRMB\n",
      "\n",
      "loading BIB ...\n",
      "\n",
      "loading TON ...\n",
      "\n",
      "loading ALFT ...\n",
      "\n",
      "loading FFB1 ...\n",
      "\n",
      "loading FFB2 ...\n",
      "\n",
      "loading FFB3 ...\n",
      "\n",
      "loading FUR ...\n"
     ]
    }
   ],
   "source": [
    "st = Stream()\n",
    "\n",
    "for station in stationlist: \n",
    "    \n",
    "    print(f\"\\nloading {station} ...\")\n",
    "    \n",
    "    if station == \"FUR\":\n",
    "        seed_id = f\"GR.{station}..BHZ\"\n",
    "    else:\n",
    "        seed_id = f\"BW.{station}..BHZ\"\n",
    "    \n",
    "    try:\n",
    "        st0, inv = __querrySeismoData(\n",
    "                                    seed_id=seed_id,\n",
    "                                    starttime=tbeg,\n",
    "                                    endtime=tend,\n",
    "                                    where=\"online\",\n",
    "                                    path=None,\n",
    "                                    restitute=False,\n",
    "                                    detail=None,\n",
    "                                    )\n",
    "        \n",
    "\n",
    "    except:\n",
    "        print(f\"-> failed obtaining data for station: {station}\")\n",
    "    \n",
    "    if 'st0' in globals():\n",
    "        try:\n",
    "            st0.remove_response(\n",
    "                        inventory=inv, \n",
    "                        pre_filt=[0.001, 0.004, 45, 50],\n",
    "                        output=\"DISP\",\n",
    "                        )\n",
    "        except:\n",
    "            print(f\"-> failed removing response for station: {station}\")\n",
    "\n",
    "            \n",
    "        ## merging to one stream\n",
    "        st += st0\n",
    "        del st0\n"
   ]
  },
  {
   "cell_type": "code",
   "execution_count": 4,
   "id": "expected-feeding",
   "metadata": {
    "ExecuteTime": {
     "end_time": "2021-03-10T09:40:46.345453Z",
     "start_time": "2021-03-10T09:40:46.255614Z"
    }
   },
   "outputs": [
    {
     "ename": "IndexError",
     "evalue": "Empty stream object",
     "output_type": "error",
     "traceback": [
      "\u001b[0;31m---------------------------------------------------------------------------\u001b[0m",
      "\u001b[0;31mIndexError\u001b[0m                                Traceback (most recent call last)",
      "\u001b[0;32m<ipython-input-4-44c33ebb971d>\u001b[0m in \u001b[0;36m<module>\u001b[0;34m\u001b[0m\n\u001b[0;32m----> 1\u001b[0;31m \u001b[0mst\u001b[0m\u001b[0;34m.\u001b[0m\u001b[0mplot\u001b[0m\u001b[0;34m(\u001b[0m\u001b[0;34m)\u001b[0m\u001b[0;34m;\u001b[0m\u001b[0;34m\u001b[0m\u001b[0;34m\u001b[0m\u001b[0m\n\u001b[0m",
      "\u001b[0;32m~/anaconda3/envs/obs/lib/python3.7/site-packages/obspy/core/stream.py\u001b[0m in \u001b[0;36mplot\u001b[0;34m(self, *args, **kwargs)\u001b[0m\n\u001b[1;32m   1158\u001b[0m         \"\"\"\n\u001b[1;32m   1159\u001b[0m         \u001b[0;32mfrom\u001b[0m \u001b[0mobspy\u001b[0m\u001b[0;34m.\u001b[0m\u001b[0mimaging\u001b[0m\u001b[0;34m.\u001b[0m\u001b[0mwaveform\u001b[0m \u001b[0;32mimport\u001b[0m \u001b[0mWaveformPlotting\u001b[0m\u001b[0;34m\u001b[0m\u001b[0;34m\u001b[0m\u001b[0m\n\u001b[0;32m-> 1160\u001b[0;31m         \u001b[0mwaveform\u001b[0m \u001b[0;34m=\u001b[0m \u001b[0mWaveformPlotting\u001b[0m\u001b[0;34m(\u001b[0m\u001b[0mstream\u001b[0m\u001b[0;34m=\u001b[0m\u001b[0mself\u001b[0m\u001b[0;34m,\u001b[0m \u001b[0;34m*\u001b[0m\u001b[0margs\u001b[0m\u001b[0;34m,\u001b[0m \u001b[0;34m**\u001b[0m\u001b[0mkwargs\u001b[0m\u001b[0;34m)\u001b[0m\u001b[0;34m\u001b[0m\u001b[0;34m\u001b[0m\u001b[0m\n\u001b[0m\u001b[1;32m   1161\u001b[0m         \u001b[0;32mreturn\u001b[0m \u001b[0mwaveform\u001b[0m\u001b[0;34m.\u001b[0m\u001b[0mplot_waveform\u001b[0m\u001b[0;34m(\u001b[0m\u001b[0;34m*\u001b[0m\u001b[0margs\u001b[0m\u001b[0;34m,\u001b[0m \u001b[0;34m**\u001b[0m\u001b[0mkwargs\u001b[0m\u001b[0;34m)\u001b[0m\u001b[0;34m\u001b[0m\u001b[0;34m\u001b[0m\u001b[0m\n\u001b[1;32m   1162\u001b[0m \u001b[0;34m\u001b[0m\u001b[0m\n",
      "\u001b[0;32m~/anaconda3/envs/obs/lib/python3.7/site-packages/obspy/imaging/waveform.py\u001b[0m in \u001b[0;36m__init__\u001b[0;34m(self, **kwargs)\u001b[0m\n\u001b[1;32m     81\u001b[0m         \u001b[0;32mif\u001b[0m \u001b[0mlen\u001b[0m\u001b[0;34m(\u001b[0m\u001b[0mself\u001b[0m\u001b[0;34m.\u001b[0m\u001b[0mstream\u001b[0m\u001b[0;34m)\u001b[0m \u001b[0;34m<\u001b[0m \u001b[0;36m1\u001b[0m\u001b[0;34m:\u001b[0m\u001b[0;34m\u001b[0m\u001b[0;34m\u001b[0m\u001b[0m\n\u001b[1;32m     82\u001b[0m             \u001b[0mmsg\u001b[0m \u001b[0;34m=\u001b[0m \u001b[0;34m\"Empty stream object\"\u001b[0m\u001b[0;34m\u001b[0m\u001b[0;34m\u001b[0m\u001b[0m\n\u001b[0;32m---> 83\u001b[0;31m             \u001b[0;32mraise\u001b[0m \u001b[0mIndexError\u001b[0m\u001b[0;34m(\u001b[0m\u001b[0mmsg\u001b[0m\u001b[0;34m)\u001b[0m\u001b[0;34m\u001b[0m\u001b[0;34m\u001b[0m\u001b[0m\n\u001b[0m\u001b[1;32m     84\u001b[0m         \u001b[0mself\u001b[0m\u001b[0;34m.\u001b[0m\u001b[0mstream\u001b[0m \u001b[0;34m=\u001b[0m \u001b[0mself\u001b[0m\u001b[0;34m.\u001b[0m\u001b[0mstream\u001b[0m\u001b[0;34m.\u001b[0m\u001b[0mcopy\u001b[0m\u001b[0;34m(\u001b[0m\u001b[0;34m)\u001b[0m\u001b[0;34m\u001b[0m\u001b[0;34m\u001b[0m\u001b[0m\n\u001b[1;32m     85\u001b[0m         \u001b[0;31m# Type of the plot.\u001b[0m\u001b[0;34m\u001b[0m\u001b[0;34m\u001b[0m\u001b[0;34m\u001b[0m\u001b[0m\n",
      "\u001b[0;31mIndexError\u001b[0m: Empty stream object"
     ]
    }
   ],
   "source": [
    "st.plot();"
   ]
  },
  {
   "cell_type": "code",
   "execution_count": 19,
   "id": "blessed-lyric",
   "metadata": {
    "ExecuteTime": {
     "end_time": "2021-03-10T09:51:13.131928Z",
     "start_time": "2021-03-10T09:51:09.852520Z"
    }
   },
   "outputs": [
    {
     "data": {
      "text/plain": [
       "1 Trace(s) in Stream:\n",
       "BW.FFB1..BHZ | 2021-03-04T18:30:00.000000Z - 2021-03-04T19:30:00.000000Z | 40.0 Hz, 144001 samples"
      ]
     },
     "execution_count": 19,
     "metadata": {},
     "output_type": "execute_result"
    }
   ],
   "source": [
    "st0, inv = __querrySeismoData(\n",
    "                            seed_id=\"BW.FFB1..BHZ\",\n",
    "                            starttime=tbeg,\n",
    "                            endtime=tend,\n",
    "                            where=\"online\",\n",
    "                            path=None,\n",
    "                            restitute=False,\n",
    "                            detail=None,\n",
    "                            )\n",
    "\n",
    "st0.remove_response(\n",
    "            inventory=inv, \n",
    "            pre_filt=[0.001, 0.004, 45, 50],\n",
    "            output=\"DISP\",\n",
    "            )"
   ]
  },
  {
   "cell_type": "code",
   "execution_count": 60,
   "id": "moved-western",
   "metadata": {
    "ExecuteTime": {
     "end_time": "2021-03-10T10:08:50.433557Z",
     "start_time": "2021-03-10T10:08:50.421265Z"
    }
   },
   "outputs": [
    {
     "data": {
      "text/plain": [
       "2.384018766049121"
      ]
     },
     "execution_count": 60,
     "metadata": {},
     "output_type": "execute_result"
    }
   ],
   "source": [
    "\n",
    "def __get_distance(st1, st2, unit=\"m\"):\n",
    "\n",
    "    from obspy.geodetics.base import gps2dist_azimuth\n",
    "    \n",
    "    if str(type(st[0])) == \"<class 'obspy.core.trace.Trace'>\":\n",
    "        lat1, lon1 = st1.stats.coordinates.latitude, st1.stats.coordinates.longitude\n",
    "        lat2, lon2 = st2.stats.coordinates.latitude, st2.stats.coordinates.longitude\n",
    "    elif str(type(st[0])) == \"<class 'obspy.core.stream.Stream'>\":\n",
    "        lat1, lon1 = st1[0].stats.coordinates.latitude, st1[0].stats.coordinates.longitude\n",
    "        lat2, lon2 = st2[0].stats.coordinates.latitude, st2[0].stats.coordinates.longitude        \n",
    "    \n",
    "    dist, az, baz = gps2dist_azimuth(lat1, lon1, lat2, lon2) # WGS84\n",
    "    \n",
    "    if unit == \"m\":\n",
    "        return dist\n",
    "    elif unit == \"km\":\n",
    "        return (dist / 1000) \n",
    "\n",
    "dist = __get_distance(st[0], st[1], unit=\"km\")\n",
    "\n",
    "dist\n"
   ]
  },
  {
   "cell_type": "code",
   "execution_count": 50,
   "id": "medical-complaint",
   "metadata": {
    "ExecuteTime": {
     "end_time": "2021-03-10T10:02:56.925339Z",
     "start_time": "2021-03-10T10:02:56.920974Z"
    }
   },
   "outputs": [
    {
     "name": "stdout",
     "output_type": "stream",
     "text": [
      "True\n"
     ]
    }
   ],
   "source": [
    "if str(type(st[0])) == \"<class 'obspy.core.trace.Trace'>\":\n",
    "    print(True)"
   ]
  },
  {
   "cell_type": "code",
   "execution_count": null,
   "id": "approved-civilian",
   "metadata": {},
   "outputs": [],
   "source": []
  }
 ],
 "metadata": {
  "kernelspec": {
   "display_name": "Python 3",
   "language": "python",
   "name": "python3"
  },
  "language_info": {
   "codemirror_mode": {
    "name": "ipython",
    "version": 3
   },
   "file_extension": ".py",
   "mimetype": "text/x-python",
   "name": "python",
   "nbconvert_exporter": "python",
   "pygments_lexer": "ipython3",
   "version": "3.7.8"
  }
 },
 "nbformat": 4,
 "nbformat_minor": 5
}
