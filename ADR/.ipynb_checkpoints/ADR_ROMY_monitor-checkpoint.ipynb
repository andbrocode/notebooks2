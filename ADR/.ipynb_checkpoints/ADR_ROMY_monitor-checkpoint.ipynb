{
 "cells": [
  {
   "cell_type": "markdown",
   "id": "3e9e7a5e",
   "metadata": {},
   "source": [
    "## Plot all traces of ROMY array"
   ]
  },
  {
   "cell_type": "markdown",
   "id": "b86b7b68",
   "metadata": {},
   "source": [
    "### Import"
   ]
  },
  {
   "cell_type": "code",
   "execution_count": 1,
   "id": "a280143e",
   "metadata": {},
   "outputs": [],
   "source": [
    "import obspy as obs\n",
    "import numpy as np\n",
    "import matplotlib.pyplot as plt\n",
    "\n",
    "from andbro__querrySeismoData import __querrySeismoData\n",
    "from andbro__get_timeaxis import __get_timeaxis"
   ]
  },
  {
   "cell_type": "markdown",
   "id": "e3e3a001",
   "metadata": {},
   "source": [
    "### Methods"
   ]
  },
  {
   "cell_type": "code",
   "execution_count": 2,
   "id": "e6a5555a",
   "metadata": {
    "code_folding": [
     0
    ]
   },
   "outputs": [],
   "source": [
    "def __get_stream(config):\n",
    "    st = obs.Stream()\n",
    "\n",
    "    for i in range(len(config.get(\"sta\"))):\n",
    "\n",
    "        seed = f'{config.get(\"net\")[i]}.{config.get(\"sta\")[i]}.{config.get(\"loc\")}.{config.get(\"cha\")}'\n",
    "\n",
    "        print(f\"loading {seed}...\")\n",
    "        try:\n",
    "            st0, inv = __querrySeismoData(  \n",
    "                                        seed_id=seed,\n",
    "                                        starttime=config.get(\"tbeg\"),\n",
    "                                        endtime=config.get(\"tend\"),\n",
    "                                        where=config.get(\"repository\"),\n",
    "                                        path=None,\n",
    "                                        restitute=True,\n",
    "                                        detail=None,\n",
    "                                        fill_value=None,\n",
    "                                        )\n",
    "            if len(st0) != 0:\n",
    "                st += st0\n",
    "        except: \n",
    "            print(\"  -> Failed!\")\n",
    "    return st"
   ]
  },
  {
   "cell_type": "code",
   "execution_count": 3,
   "id": "602902a6",
   "metadata": {
    "code_folding": [
     0
    ]
   },
   "outputs": [],
   "source": [
    "def __empty_trace(config, i):\n",
    "    tr = obs.Trace()\n",
    "    tr.stats.sampling_rate = 20\n",
    "    tr.data = np.zeros(int((config['tend']-config['tbeg'])*tr.stats.sampling_rate)+1) * np.nan\n",
    "    tr.stats.station = config['sta'][i]\n",
    "    tr.stats.network = config['net'][i]\n",
    "    tr.stats.channel = config['cha']\n",
    "    tr.stats.starttime = config['tbeg']\n",
    "    \n",
    "    return tr"
   ]
  },
  {
   "cell_type": "code",
   "execution_count": 8,
   "id": "675f345b",
   "metadata": {
    "code_folding": [
     0
    ]
   },
   "outputs": [],
   "source": [
    "def __makeplot_array_traces(st, config):\n",
    "    \n",
    "    N = len(config['sta'])\n",
    "\n",
    "    fig, axes = plt.subplots(N, 1, figsize=(15,20), sharex='col')\n",
    "\n",
    "    plt.subplots_adjust(hspace=0.2,wspace=0.2)\n",
    "    \n",
    "    for i, sta in enumerate(config['sta']):\n",
    "        \n",
    "        try:\n",
    "            tr = st.select(station=sta)[0]\n",
    "        except:\n",
    "            tr = __empty_trace(config, i)\n",
    "        \n",
    "        print(tr.stats.station)\n",
    "        \n",
    "        timeaxis, ticks, ticklabels, text = __get_timeaxis(\n",
    "                                                         utcdatetime=tr.times(type=\"utcdatetime\"),\n",
    "                                                         unit=\"minutes\",\n",
    "                                                         unitmode=\"relative\",\n",
    "                                                         dateformat=\"yyyymmdd\",\n",
    "                                                          )\n",
    "\n",
    "        sta_cha = f\"{tr.stats.station}.{tr.stats.channel}\"\n",
    "\n",
    "        axes[i].plot(timeaxis, tr.data, color='k', label=sta_cha, lw=0.6, zorder=2)\n",
    "        \n",
    "        axes[i].legend(loc=\"upper right\")\n",
    "    \n",
    "        if i == N-1:\n",
    "            axes[i].set_xticks(ticks)\n",
    "            axes[i].set_xticklabels(ticklabels)\n",
    "            axes[i].set_xlabel(text)\n",
    "            axes[i].set_xlim(timeaxis[0], timeaxis[-1])\n",
    "            \n",
    "    return fig"
   ]
  },
  {
   "cell_type": "markdown",
   "id": "4e2bafa8",
   "metadata": {},
   "source": [
    "### Configurations"
   ]
  },
  {
   "cell_type": "code",
   "execution_count": 9,
   "id": "fbc81cfc",
   "metadata": {},
   "outputs": [],
   "source": [
    "config = {}\n",
    "\n",
    "config['tbeg'] = obs.UTCDateTime().now() - 1*3600\n",
    "config['tend'] = obs.UTCDateTime().now() - 5*60\n",
    "\n",
    "config['sta'] = ['GELB','GRMB','BIB','TON', 'ALFT', 'FFB1', 'FFB2', 'FFB3', 'FUR']\n",
    "config['net'] = ['BW','BW','BW','BW','BW','BW','BW','BW','GR']\n",
    "config['loc'] = ''\n",
    "config['cha'] = 'BHZ'\n",
    "\n",
    "config['repository'] = \"jane\"\n"
   ]
  },
  {
   "cell_type": "markdown",
   "id": "1e87f354",
   "metadata": {},
   "source": [
    "### Load Data"
   ]
  },
  {
   "cell_type": "code",
   "execution_count": null,
   "id": "6eda9389",
   "metadata": {},
   "outputs": [
    {
     "name": "stdout",
     "output_type": "stream",
     "text": [
      "loading BW.GELB..BHZ...\n",
      "loading BW.GRMB..BHZ...\n",
      "loading BW.BIB..BHZ...\n",
      "loading BW.TON..BHZ...\n",
      "loading BW.ALFT..BHZ...\n",
      "loading BW.FFB1..BHZ...\n",
      "  -> Failed!\n",
      "loading BW.FFB2..BHZ...\n",
      "loading BW.FFB3..BHZ...\n"
     ]
    }
   ],
   "source": [
    "st = __get_stream(config)"
   ]
  },
  {
   "cell_type": "markdown",
   "id": "bbe8fd96",
   "metadata": {},
   "source": [
    "### Plot Data"
   ]
  },
  {
   "cell_type": "code",
   "execution_count": null,
   "id": "3bc7e083",
   "metadata": {},
   "outputs": [],
   "source": [
    "fig = __makeplot_array_traces(st, config);"
   ]
  }
 ],
 "metadata": {
  "kernelspec": {
   "display_name": "Python 3",
   "language": "python",
   "name": "python3"
  },
  "language_info": {
   "codemirror_mode": {
    "name": "ipython",
    "version": 3
   },
   "file_extension": ".py",
   "mimetype": "text/x-python",
   "name": "python",
   "nbconvert_exporter": "python",
   "pygments_lexer": "ipython3",
   "version": "3.7.7"
  }
 },
 "nbformat": 4,
 "nbformat_minor": 5
}
