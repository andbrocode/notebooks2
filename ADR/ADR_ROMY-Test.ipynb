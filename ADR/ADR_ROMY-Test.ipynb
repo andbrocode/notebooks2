{
 "cells": [
  {
   "cell_type": "markdown",
   "id": "874786b9",
   "metadata": {},
   "source": [
    "### Import libraries"
   ]
  },
  {
   "cell_type": "code",
   "execution_count": 4,
   "id": "ca581778",
   "metadata": {},
   "outputs": [],
   "source": [
    "import obspy as obs\n",
    "import numpy as np\n",
    "import matplotlib.pyplot as plt\n",
    "\n",
    "# from andbro__querrySeismoData import __querrySeismoData\n",
    "# from andbro__get_timeaxis import __get_timeaxis"
   ]
  },
  {
   "cell_type": "markdown",
   "id": "8c86a449",
   "metadata": {},
   "source": [
    "### Configurations"
   ]
  },
  {
   "cell_type": "code",
   "execution_count": 15,
   "id": "2355dcbe",
   "metadata": {},
   "outputs": [],
   "source": [
    "config = {}\n",
    "\n",
    "config['tbeg'] = obs.UTCDateTime(\"2021-09-27 06:17\")\n",
    "config['tend'] = obs.UTCDateTime(\"2021-09-27 06:45\")\n",
    "\n",
    "config['sta'] = ['GELB','GRMB','BIB','TON', 'ALFT', 'FFB1', 'FFB2', 'FFB3', 'FUR']\n",
    "config['net'] = ['BW','BW','BW','BW','BW','BW','BW','BW','GR']\n",
    "config['loc'] = ''\n",
    "config['cha'] = '?HZ'\n",
    "\n",
    "config['repository'] = \"jane\"\n",
    "\n",
    "config['event'] = {'t0':'2021-09-27 06:17', 'lat':35.252 , 'lon':25.259}"
   ]
  },
  {
   "cell_type": "markdown",
   "id": "3ce4fb6f",
   "metadata": {},
   "source": [
    "### GELB -> fails"
   ]
  },
  {
   "cell_type": "code",
   "execution_count": 16,
   "id": "eba78339",
   "metadata": {},
   "outputs": [
    {
     "data": {
      "text/plain": [
       "(Inventory created at 2021-10-08T10:48:01.032523Z\n",
       "\tSending institution: SeisComP (GOF)\n",
       "\tContains:\n",
       "\t\tNetworks (1):\n",
       "\t\t\tBW\n",
       "\t\tStations (1):\n",
       "\t\t\tBW.GELB (Gelbenholzen)\n",
       "\t\tChannels (1):\n",
       "\t\t\tBW.GELB..HHZ,\n",
       " {'networks': ['BW'],\n",
       "  'stations': ['BW.GELB (Gelbenholzen)'],\n",
       "  'channels': ['BW.GELB..HHZ']})"
      ]
     },
     "execution_count": 16,
     "metadata": {},
     "output_type": "execute_result"
    }
   ],
   "source": [
    "from obspy.clients.fdsn import RoutingClient, Client\n",
    "\n",
    "route1 = RoutingClient(\"eida-routing\")\n",
    "route2 = Client(base_url=\"http://jane\")\n",
    "route3 = Client(\"LMU\")\n",
    "\n",
    "\n",
    "for route in [route1, route2, route3]:\n",
    "    try:\n",
    "        inv = route.get_stations(network=config.get(\"net\")[0], \n",
    "                                 station=config.get(\"sta\")[0], \n",
    "                                 location=config.get(\"loc\"), \n",
    "                                 channel=config.get(\"cha\"),\n",
    "                                 starttime=config.get(\"tbeg\"),\n",
    "                                 endtime=config.get(\"tend\"),\n",
    "                                 level=\"channel\",\n",
    "                                );\n",
    "    except:\n",
    "        print(\"ERROR! \")\n",
    "        \n",
    "inv, inv.get_contents()"
   ]
  },
  {
   "cell_type": "markdown",
   "id": "b65c5463",
   "metadata": {},
   "source": [
    "### GRMB -> no channel info"
   ]
  },
  {
   "cell_type": "code",
   "execution_count": 19,
   "id": "14759c79",
   "metadata": {},
   "outputs": [
    {
     "data": {
      "text/plain": [
       "(Inventory created at 2021-10-08T10:48:30.922780Z\n",
       "\tSending institution: SeisComP (GOF)\n",
       "\tContains:\n",
       "\t\tNetworks (1):\n",
       "\t\t\tBW\n",
       "\t\tStations (1):\n",
       "\t\t\tBW.GRMB (Germannsberg)\n",
       "\t\tChannels (1):\n",
       "\t\t\tBW.GRMB..HHZ,\n",
       " {'networks': ['BW'],\n",
       "  'stations': ['BW.GRMB (Germannsberg)'],\n",
       "  'channels': ['BW.GRMB..HHZ']})"
      ]
     },
     "execution_count": 19,
     "metadata": {},
     "output_type": "execute_result"
    }
   ],
   "source": [
    "from obspy.clients.fdsn import RoutingClient, Client\n",
    "\n",
    "route1 = RoutingClient(\"eida-routing\")\n",
    "route2 = Client(base_url=\"http://jane\")\n",
    "route3 = Client(\"LMU\")\n",
    "\n",
    "\n",
    "for route in [route1, route2, route3]:\n",
    "    try:\n",
    "        inv = route.get_stations(network=config.get(\"net\")[1], \n",
    "                                 station=config.get(\"sta\")[1], \n",
    "                                 location=config.get(\"loc\"), \n",
    "                                 channel=config.get(\"cha\"),\n",
    "                                 starttime=config.get(\"tbeg\"),\n",
    "                                 endtime=config.get(\"tend\"),\n",
    "                                 level=\"response\",\n",
    "                                );\n",
    "    except:\n",
    "        print(\"ERROR! \")\n",
    "        \n",
    "inv, inv.get_contents()"
   ]
  },
  {
   "cell_type": "markdown",
   "id": "5f31b4d1",
   "metadata": {},
   "source": [
    "## BIB -> works"
   ]
  },
  {
   "cell_type": "code",
   "execution_count": 18,
   "id": "8e193548",
   "metadata": {},
   "outputs": [
    {
     "data": {
      "text/plain": [
       "(Inventory created at 2021-10-08T10:48:10.044194Z\n",
       "\tSending institution: SeisComP (GOF)\n",
       "\tContains:\n",
       "\t\tNetworks (1):\n",
       "\t\t\tBW\n",
       "\t\tStations (1):\n",
       "\t\t\tBW.BIB (Biburg, Scheune)\n",
       "\t\tChannels (2):\n",
       "\t\t\tBW.BIB..BHZ, BW.BIB..HHZ,\n",
       " {'networks': ['BW'],\n",
       "  'stations': ['BW.BIB (Biburg, Scheune)'],\n",
       "  'channels': ['BW.BIB..BHZ', 'BW.BIB..HHZ']})"
      ]
     },
     "execution_count": 18,
     "metadata": {},
     "output_type": "execute_result"
    }
   ],
   "source": [
    "from obspy.clients.fdsn import RoutingClient, Client\n",
    "\n",
    "route1 = RoutingClient(\"eida-routing\")\n",
    "route2 = Client(base_url=\"http://jane\")\n",
    "route3 = Client(\"LMU\")\n",
    "\n",
    "\n",
    "for route in [route1, route2, route3]:\n",
    "    try:\n",
    "        inv = route.get_stations(network=config.get(\"net\")[2], \n",
    "                                 station=config.get(\"sta\")[2], \n",
    "                                 location=config.get(\"loc\"), \n",
    "                                 channel=config.get(\"cha\"),\n",
    "                                 starttime=config.get(\"tbeg\"),\n",
    "                                 endtime=config.get(\"tend\"),\n",
    "                                 level=\"channel\",\n",
    "                                );\n",
    "    except:\n",
    "        print(\"ERROR! \")\n",
    "\n",
    "inv, inv.get_contents()"
   ]
  },
  {
   "cell_type": "markdown",
   "id": "5235d57b",
   "metadata": {},
   "source": [
    "## Waveforms BIB"
   ]
  },
  {
   "cell_type": "code",
   "execution_count": 51,
   "id": "3cfae1a3",
   "metadata": {},
   "outputs": [],
   "source": [
    "config['tbeg'] = obs.UTCDateTime(\"2021-08-30 00:00\")\n",
    "config['tend'] = obs.UTCDateTime(\"2021-09-02 23:00\")"
   ]
  },
  {
   "cell_type": "code",
   "execution_count": 52,
   "id": "903c37ae",
   "metadata": {},
   "outputs": [],
   "source": [
    "try:\n",
    "    st0 = route.get_waveforms(network=config.get(\"net\")[2], \n",
    "                             station=config.get(\"sta\")[2], \n",
    "                             location=config.get(\"loc\"), \n",
    "                             channel=config.get(\"cha\"),\n",
    "                             starttime=config.get(\"tbeg\"),\n",
    "                             endtime=config.get(\"tend\"),\n",
    "                            );\n",
    "except:\n",
    "    print(\"ERROR! \")"
   ]
  },
  {
   "cell_type": "code",
   "execution_count": 55,
   "id": "3ed4496c",
   "metadata": {},
   "outputs": [],
   "source": [
    "st = st0.copy()\n",
    "\n",
    "\n",
    "# st.detrend('demean')\n",
    "# st.filter('bandpass', freqmin=0.001, freqmax=0.1, corners=4, zerophase=True)"
   ]
  },
  {
   "cell_type": "code",
   "execution_count": 56,
   "id": "9d0ae2d2",
   "metadata": {},
   "outputs": [
    {
     "data": {
      "image/png": "[encoded data removed]",
      "text/plain": [
       "<Figure size 800x250 with 1 Axes>"
      ]
     },
     "metadata": {
      "needs_background": "light"
     },
     "output_type": "display_data"
    },
    {
     "data": {
      "image/png": "[encoded data removed]",
      "text/plain": [
       "<Figure size 800x250 with 1 Axes>"
      ]
     },
     "execution_count": 56,
     "metadata": {},
     "output_type": "execute_result"
    }
   ],
   "source": [
    "st.plot()"
   ]
  },
  {
   "cell_type": "code",
   "execution_count": 10,
   "id": "76fe74c7",
   "metadata": {},
   "outputs": [],
   "source": [
    "import obspy as obs\n",
    "st = obs.read('/bay200/mseed_online/archive/2021/BW/GRMB/BHZ.D/'+'BW.GRMB..BHZ.D.2021.281')"
   ]
  },
  {
   "cell_type": "code",
   "execution_count": 11,
   "id": "e199f099",
   "metadata": {},
   "outputs": [
    {
     "data": {
      "image/png": "[encoded data removed]",
      "text/plain": [
       "<Figure size 800x250 with 1 Axes>"
      ]
     },
     "metadata": {
      "needs_background": "light"
     },
     "output_type": "display_data"
    }
   ],
   "source": [
    "st.plot();"
   ]
  },
  {
   "cell_type": "code",
   "execution_count": 12,
   "id": "0d2a002e",
   "metadata": {},
   "outputs": [
    {
     "data": {
      "text/plain": [
       "1 Trace(s) in Stream:\n",
       "BW.GRMB..BHZ | 2021-10-08T00:00:15.462500Z - 2021-10-08T10:43:46.262500Z | 20.0 Hz, 772217 samples"
      ]
     },
     "execution_count": 12,
     "metadata": {},
     "output_type": "execute_result"
    }
   ],
   "source": [
    "st"
   ]
  },
  {
   "cell_type": "code",
   "execution_count": 9,
   "id": "f1743bb7",
   "metadata": {
    "ExecuteTime": {
     "end_time": "2022-06-07T16:46:09.249128Z",
     "start_time": "2022-06-07T16:46:09.241385Z"
    }
   },
   "outputs": [
    {
     "data": {
      "text/plain": [
       "1.1304209913163209e-06"
      ]
     },
     "execution_count": 9,
     "metadata": {},
     "output_type": "execute_result"
    }
   ],
   "source": [
    "r1 = ((384e6-6371e3)**2)\n",
    "r2 = ((384e6)**2)\n",
    "\n",
    "G = 6.674e-11\n",
    "mm = 7.34e22\n",
    "\n",
    "G*mm*(1/r1 - 1/r2)"
   ]
  },
  {
   "cell_type": "code",
   "execution_count": null,
   "id": "c8218958",
   "metadata": {},
   "outputs": [],
   "source": []
  }
 ],
 "metadata": {
  "kernelspec": {
   "display_name": "Python 3",
   "language": "python",
   "name": "python3"
  },
  "language_info": {
   "codemirror_mode": {
    "name": "ipython",
    "version": 3
   },
   "file_extension": ".py",
   "mimetype": "text/x-python",
   "name": "python",
   "nbconvert_exporter": "python",
   "pygments_lexer": "ipython3",
   "version": "3.7.7"
  },
  "latex_envs": {
   "LaTeX_envs_menu_present": true,
   "autoclose": false,
   "autocomplete": true,
   "bibliofile": "biblio.bib",
   "cite_by": "apalike",
   "current_citInitial": 1,
   "eqLabelWithNumbers": true,
   "eqNumInitial": 1,
   "hotkeys": {
    "equation": "Ctrl-E",
    "itemize": "Ctrl-I"
   },
   "labels_anchors": false,
   "latex_user_defs": false,
   "report_style_numbering": false,
   "user_envs_cfg": false
  },
  "toc": {
   "base_numbering": 1,
   "nav_menu": {},
   "number_sections": true,
   "sideBar": true,
   "skip_h1_title": false,
   "title_cell": "Table of Contents",
   "title_sidebar": "Contents",
   "toc_cell": false,
   "toc_position": {},
   "toc_section_display": true,
   "toc_window_display": false
  }
 },
 "nbformat": 4,
 "nbformat_minor": 5
}
