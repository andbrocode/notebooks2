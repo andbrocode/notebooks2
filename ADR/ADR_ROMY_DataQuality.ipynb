{
 "cells": [
  {
   "cell_type": "markdown",
   "id": "925743e2",
   "metadata": {
    "ExecuteTime": {
     "end_time": "2022-06-08T12:30:17.450225Z",
     "start_time": "2022-06-08T12:30:17.448623Z"
    }
   },
   "source": [
    "# ADR of ROMY Array - Data Quality"
   ]
  },
  {
   "cell_type": "markdown",
   "id": "874786b9",
   "metadata": {},
   "source": [
    "### Imports"
   ]
  },
  {
   "cell_type": "code",
   "execution_count": 1,
   "id": "ca581778",
   "metadata": {
    "ExecuteTime": {
     "end_time": "2022-07-22T15:43:41.998495Z",
     "start_time": "2022-07-22T15:43:36.506563Z"
    }
   },
   "outputs": [],
   "source": [
    "import obspy as obs\n",
    "import numpy as np\n",
    "import matplotlib.pyplot as plt\n",
    "\n",
    "from andbro__querrySeismoData import __querrySeismoData\n",
    "from andbro__get_timeaxis import __get_timeaxis\n",
    "from andbro__get_stream import __getStream"
   ]
  },
  {
   "cell_type": "code",
   "execution_count": 2,
   "id": "4501986c",
   "metadata": {
    "ExecuteTime": {
     "end_time": "2022-07-22T15:43:42.001292Z",
     "start_time": "2022-07-22T15:43:41.999598Z"
    },
    "code_folding": [
     0
    ]
   },
   "outputs": [],
   "source": [
    "# def __get_stream(config):\n",
    "    \n",
    "#     from andbro__empty_trace import __empty_trace\n",
    "    \n",
    "#     st = obs.Stream()\n",
    "\n",
    "#     for cha in config['cha']:\n",
    "\n",
    "#         for i in range(len(config.get(\"sta\"))):\n",
    "\n",
    "#             seed = f'{config.get(\"net\")[i]}.{config.get(\"sta\")[i]}.{config.get(\"loc\")}.{cha}'\n",
    "\n",
    "#             print(f\"loading {seed}...\")\n",
    "#             try:\n",
    "#                 st0, inv = __querrySeismoData(  \n",
    "#                                             seed_id=seed,\n",
    "#                                             starttime=config.get(\"tbeg\"),\n",
    "#                                             endtime=config.get(\"tend\"),\n",
    "#                                             repository=config.get(\"repository\"),\n",
    "#                                             path=None,\n",
    "#                                             restitute=True,\n",
    "#                                             detail=None,\n",
    "#                                             fill_value=None,\n",
    "#                                             )\n",
    "#                 if len(st0) == 1:\n",
    "#                     st += st0\n",
    "#                 elif len(st0) > 1:\n",
    "#                     st += st0.merge()\n",
    "\n",
    "#             except:\n",
    "#                 print(f\" -> failed to load {seed}!\")\n",
    "#                 print(f\" -> substituted {seed} with NaN values! \")\n",
    "#                 st_empty = obs.Stream()\n",
    "#                 st_empty.append(__empty_trace(config, seed))\n",
    "#                 st += st_empty\n",
    "\n",
    "#     st.trim(config['tbeg'], config['tend'])\n",
    "            \n",
    "#     return st"
   ]
  },
  {
   "cell_type": "markdown",
   "id": "8c86a449",
   "metadata": {},
   "source": [
    "### Configurations"
   ]
  },
  {
   "cell_type": "code",
   "execution_count": 3,
   "id": "2355dcbe",
   "metadata": {
    "ExecuteTime": {
     "end_time": "2022-07-22T15:43:44.889238Z",
     "start_time": "2022-07-22T15:43:42.002520Z"
    }
   },
   "outputs": [],
   "source": [
    "config = {}\n",
    "\n",
    "config['tbeg'] = obs.UTCDateTime(\"2022-04-08 00:00\")\n",
    "config['tend'] = obs.UTCDateTime(\"2022-04-09 00:00\")\n",
    "\n",
    "# config['sta'] = ['GELB','GRMB','BIB','TON', 'ALFT', 'FFB1', 'FFB2', 'FFB3', 'FUR']\n",
    "# config['net'] = ['BW','BW','BW','BW','BW','BW','BW','BW','GR']\n",
    "# config['loc'] = ''\n",
    "# config['cha'] = ['BHZ', 'BHN', 'BHE']\n",
    "\n",
    "config['seeds'] = [\n",
    "                    'GR.FUR..BHZ', 'GR.FUR..BHN', 'GR.FUR..BHE',\n",
    "                    'BW.GELB..BHZ', 'BW.GELB..BHN', 'BW.GELB..BHE',\n",
    "                    'BW.TON..BHZ', 'BW.TON..BHN', 'BW.TON..BHE',\n",
    "                    'BW.GRMB..BHZ', 'BW.GRMB..BHN', 'BW.GRMB..BHE',\n",
    "                    'BW.ALFT..BHZ', 'BW.ALFT..BHN', 'BW.ALFT..BHE',\n",
    "                    'BW.BIB..BHZ', 'BW.BIB..BHN', 'BW.BIB..BHE',\n",
    "                    'BW.FFB1..BHZ', 'BW.FFB1..BH1', 'BW.FFB1..BH2',\n",
    "                    'BW.FFB2..BHZ', 'BW.FFB2..BH1', 'BW.FFB2..BH2',\n",
    "                    'BW.FFB3..BHZ', 'BW.FFB3..BH1', 'BW.FFB3..BH2',\n",
    "]\n",
    "\n",
    "config['repository'] = \"jane\"\n",
    "\n",
    "\n",
    "config['channels'] = np.unique(np.array([i.split(\".\")[3] for i in config['seeds']]))\n",
    "config['stations'] = np.unique(np.array([i.split(\".\")[1] for i in config['seeds']]))\n",
    "\n",
    "\n",
    "import seaborn as sns\n",
    "colors = list(sns.color_palette(\"husl\", 10))\n",
    "config['colors'] = dict(zip(config['stations'], colors))"
   ]
  },
  {
   "cell_type": "code",
   "execution_count": 4,
   "id": "38aef50b",
   "metadata": {
    "ExecuteTime": {
     "end_time": "2022-07-22T15:53:11.119918Z",
     "start_time": "2022-07-22T15:43:44.890529Z"
    }
   },
   "outputs": [
    {
     "name": "stdout",
     "output_type": "stream",
     "text": [
      "loading GR.FUR..BHZ...\n",
      " -> removing response...\n",
      "loading GR.FUR..BHN...\n",
      " -> removing response...\n",
      "loading GR.FUR..BHE...\n",
      " -> removing response...\n",
      "loading BW.GELB..BHZ...\n",
      " -> removing response...\n",
      "loading BW.GELB..BHN...\n",
      " -> removing response...\n",
      "loading BW.GELB..BHE...\n",
      " -> removing response...\n",
      "loading BW.TON..BHZ...\n",
      " -> removing response...\n",
      "loading BW.TON..BHN...\n",
      " -> removing response...\n",
      "loading BW.TON..BHE...\n",
      " -> removing response...\n",
      "loading BW.GRMB..BHZ...\n",
      " -> removing response...\n",
      "loading BW.GRMB..BHN...\n",
      " -> removing response...\n",
      "loading BW.GRMB..BHE...\n",
      " -> removing response...\n",
      "loading BW.ALFT..BHZ...\n",
      " -> removing response...\n",
      "loading BW.ALFT..BHN...\n",
      " -> removing response...\n",
      "loading BW.ALFT..BHE...\n",
      " -> removing response...\n",
      "loading BW.BIB..BHZ...\n",
      " -> removing response...\n",
      "loading BW.BIB..BHN...\n",
      " -> removing response...\n",
      "loading BW.BIB..BHE...\n",
      " -> removing response...\n",
      "loading BW.FFB1..BHZ...\n",
      " -> removing response...\n",
      "loading BW.FFB1..BH1...\n",
      " -> removing response...\n",
      "loading BW.FFB1..BH2...\n",
      " -> removing response...\n",
      "loading BW.FFB2..BHZ...\n",
      " -> removing response...\n",
      "loading BW.FFB2..BH1...\n",
      " -> removing response...\n",
      " -> failed to load BW.FFB2..BH1!\n",
      " -> substituted BW.FFB2..BH1 with NaN values! \n",
      "loading BW.FFB2..BH2...\n",
      " -> removing response...\n",
      "loading BW.FFB3..BHZ...\n",
      " -> removing response...\n",
      "loading BW.FFB3..BH1...\n",
      " -> removing response...\n",
      "loading BW.FFB3..BH2...\n",
      " -> removing response...\n",
      "\n",
      "completed loading\n",
      " -> trimming stream...\n"
     ]
    },
    {
     "data": {
      "text/plain": [
       "27 Trace(s) in Stream:\n",
       "\n",
       "GR.FUR..BHZ | 2022-04-07T23:59:59.989999Z - 2022-04-08T23:59:59.989999Z | 20.0 Hz, 1728001 samples\n",
       "...\n",
       "(25 other traces)\n",
       "...\n",
       "BW.FFB3..BH2 | 2022-04-08T00:00:00.000000Z - 2022-04-08T23:59:59.950000Z | 20.0 Hz, 1728000 samples\n",
       "\n",
       "[Use \"print(Stream.__str__(extended=True))\" to print all Traces]"
      ]
     },
     "execution_count": 4,
     "metadata": {},
     "output_type": "execute_result"
    }
   ],
   "source": [
    "# st = __get_stream(config)\n",
    "st = __getStream(config)\n",
    "\n",
    "st.resample(20)"
   ]
  },
  {
   "cell_type": "code",
   "execution_count": 5,
   "id": "86cfe5d3",
   "metadata": {
    "ExecuteTime": {
     "end_time": "2022-07-22T15:53:11.122873Z",
     "start_time": "2022-07-22T15:53:11.121000Z"
    }
   },
   "outputs": [],
   "source": [
    "# st.plot(equal_scale=False);"
   ]
  },
  {
   "cell_type": "code",
   "execution_count": 6,
   "id": "f261e22e",
   "metadata": {
    "ExecuteTime": {
     "end_time": "2022-07-22T15:53:11.182293Z",
     "start_time": "2022-07-22T15:53:11.124243Z"
    }
   },
   "outputs": [
    {
     "name": "stdout",
     "output_type": "stream",
     "text": [
      "27 Trace(s) in Stream:\n",
      "GR.FUR..BHZ  | 2022-04-07T23:59:59.989999Z - 2022-04-08T23:59:59.989999Z | 20.0 Hz, 1728001 samples\n",
      "GR.FUR..BHN  | 2022-04-07T23:59:59.990000Z - 2022-04-08T23:59:59.990000Z | 20.0 Hz, 1728001 samples\n",
      "GR.FUR..BHE  | 2022-04-07T23:59:59.990000Z - 2022-04-08T23:59:59.990000Z | 20.0 Hz, 1728001 samples\n",
      "BW.GELB..BHZ | 2022-04-08T00:00:00.017500Z - 2022-04-08T23:59:59.967500Z | 20.0 Hz, 1728000 samples\n",
      "BW.GELB..BHN | 2022-04-08T00:00:00.017500Z - 2022-04-08T23:59:59.967500Z | 20.0 Hz, 1728000 samples\n",
      "BW.GELB..BHE | 2022-04-08T00:00:00.017500Z - 2022-04-08T23:59:59.967500Z | 20.0 Hz, 1728000 samples\n",
      "BW.TON..BHZ  | 2022-04-08T00:00:00.012500Z - 2022-04-09T00:00:00.012500Z | 20.0 Hz, 1728001 samples\n",
      "BW.TON..BHN  | 2022-04-08T00:00:00.012500Z - 2022-04-09T00:00:00.012500Z | 20.0 Hz, 1728001 samples\n",
      "BW.TON..BHE  | 2022-04-08T00:00:00.012500Z - 2022-04-09T00:00:00.012500Z | 20.0 Hz, 1728001 samples\n",
      "BW.GRMB..BHZ | 2022-04-08T00:00:00.012500Z - 2022-04-09T00:00:00.012500Z | 20.0 Hz, 1728001 samples\n",
      "BW.GRMB..BHN | 2022-04-08T00:00:00.012500Z - 2022-04-09T00:00:00.012500Z | 20.0 Hz, 1728001 samples\n",
      "BW.GRMB..BHE | 2022-04-08T00:00:00.012500Z - 2022-04-09T00:00:00.012500Z | 20.0 Hz, 1728001 samples\n",
      "BW.ALFT..BHZ | 2022-04-08T00:00:00.017500Z - 2022-04-08T23:59:59.967500Z | 20.0 Hz, 1728000 samples\n",
      "BW.ALFT..BHN | 2022-04-08T00:00:00.017500Z - 2022-04-08T23:59:59.967500Z | 20.0 Hz, 1728000 samples\n",
      "BW.ALFT..BHE | 2022-04-08T00:00:00.017500Z - 2022-04-08T23:59:59.967500Z | 20.0 Hz, 1728000 samples\n",
      "BW.BIB..BHZ  | 2022-04-08T00:00:00.000000Z - 2022-04-09T00:00:00.000000Z | 20.0 Hz, 1728001 samples\n",
      "BW.BIB..BHN  | 2022-04-08T00:00:00.000000Z - 2022-04-09T00:00:00.000000Z | 20.0 Hz, 1728001 samples\n",
      "BW.BIB..BHE  | 2022-04-08T00:00:00.000000Z - 2022-04-09T00:00:00.000000Z | 20.0 Hz, 1728001 samples\n",
      "BW.FFB1..BHZ | 2022-04-08T00:00:00.000000Z - 2022-04-08T23:59:59.950000Z | 20.0 Hz, 1728000 samples\n",
      "BW.FFB1..BH1 | 2022-04-08T00:00:00.000000Z - 2022-04-08T23:59:59.950000Z | 20.0 Hz, 1728000 samples\n",
      "BW.FFB1..BH2 | 2022-04-08T00:00:00.000000Z - 2022-04-08T23:59:59.950000Z | 20.0 Hz, 1728000 samples\n",
      "BW.FFB2..BHZ | 2022-04-08T00:00:00.000000Z - 2022-04-08T23:59:59.950000Z | 20.0 Hz, 1728000 samples\n",
      "BW.FFB2..BH1 | 2022-04-08T00:00:00.000000Z - 2022-04-09T00:00:00.000000Z | 20.0 Hz, 1728001 samples\n",
      "BW.FFB2..BH2 | 2022-04-08T00:00:00.000000Z - 2022-04-08T23:59:59.950000Z | 20.0 Hz, 1728000 samples\n",
      "BW.FFB3..BHZ | 2022-04-08T00:00:00.000000Z - 2022-04-08T23:59:59.950000Z | 20.0 Hz, 1728000 samples\n",
      "BW.FFB3..BH1 | 2022-04-08T00:00:00.000000Z - 2022-04-08T23:59:59.950000Z | 20.0 Hz, 1728000 samples\n",
      "BW.FFB3..BH2 | 2022-04-08T00:00:00.000000Z - 2022-04-08T23:59:59.950000Z | 20.0 Hz, 1728000 samples\n"
     ]
    }
   ],
   "source": [
    "print(st.__str__(extended=True))"
   ]
  },
  {
   "cell_type": "markdown",
   "id": "e0e54e7b",
   "metadata": {},
   "source": [
    "### Plotting"
   ]
  },
  {
   "cell_type": "code",
   "execution_count": 7,
   "id": "18fa1373",
   "metadata": {
    "ExecuteTime": {
     "end_time": "2022-07-22T15:53:19.218907Z",
     "start_time": "2022-07-22T15:53:11.183494Z"
    }
   },
   "outputs": [
    {
     "name": "stderr",
     "output_type": "stream",
     "text": [
      "/home/brotzer/anaconda3/lib/python3.7/site-packages/ipykernel_launcher.py:25: UserWarning: Matplotlib is currently using module://ipykernel.pylab.backend_inline, which is a non-GUI backend, so cannot show the figure.\n"
     ]
    },
    {
     "data": {
      "image/png": "[encoded data removed]",
      "text/plain": [
       "<Figure size 1080x720 with 27 Axes>"
      ]
     },
     "metadata": {
      "needs_background": "light"
     },
     "output_type": "display_data"
    }
   ],
   "source": [
    "fig, ax = plt.subplots(len(set(config['stations'])),3, figsize=(15,10), sharex=True)\n",
    "\n",
    "for k, component in enumerate(['Z','N','E']):\n",
    "    \n",
    "    select = st.select(channel=f\"*{component}\")\n",
    "    \n",
    "    ## add FFB BH1 and BH2 instead of BHN and BHE\n",
    "    if component == \"N\":\n",
    "        select += st.select(channel=\"*1\")\n",
    "    elif component == \"E\":\n",
    "        select += st.select(channel=\"*2\")\n",
    "    \n",
    "    for i, tr in enumerate(select):\n",
    "        if np.isnan(tr.data).all():\n",
    "            ax[i,k].fill_between(tr.times(), -1, 1, color='red', alpha=0.3, label=f'{tr.stats.station}')\n",
    "        else:\n",
    "            ax[i,k].plot(tr.times(),tr.data*1e6, color='k', label=f'{tr.stats.station}');\n",
    "        ax[i,k].legend(loc=\"upper right\")\n",
    "        \n",
    "    ax[0,0].set_title(\"BHZ\")\n",
    "    ax[0,1].set_title(\"BHN / BH1\")\n",
    "    ax[0,2].set_title(\"BHE / BH2\")\n",
    "\n",
    "    \n",
    "fig.show();"
   ]
  },
  {
   "cell_type": "code",
   "execution_count": 8,
   "id": "076dd49c",
   "metadata": {
    "ExecuteTime": {
     "end_time": "2022-07-22T15:53:19.230696Z",
     "start_time": "2022-07-22T15:53:19.221161Z"
    },
    "code_folding": [
     0
    ]
   },
   "outputs": [],
   "source": [
    "def __calculate_spectra(st, config, mode='dB'):\n",
    "\n",
    "    from datetime import datetime\n",
    "    from pandas import date_range\n",
    "    from obspy import UTCDateTime\n",
    "    from scipy.signal import welch\n",
    "    from numpy import where, array, zeros, log10\n",
    "\n",
    "    def __check_stream(st):\n",
    "        t1 = str(st[0].stats.starttime)\n",
    "        t2 = str(st[0].stats.endtime)\n",
    "        for tr in st:\n",
    "            if str(tr.stats.starttime) != t1 or str(tr.stats.endtime) != t2:\n",
    "                print(f\"ERROR: mismatch in start or endtime of trace: {tr.stats.id}\")\n",
    "                return\n",
    "\n",
    "    def __make_decibel(array, relative_value):\n",
    "        return 10*log10(array/relative_value)\n",
    "\n",
    "    ## check time consistency for all traces\n",
    "#     __check_stream(st)\n",
    "\n",
    "    ## check how many intervals are possible\n",
    "    if config['interval_overlap'] is None:\n",
    "        intervals = int((st[0].stats.endtime - st[0].stats.starttime)/config.get('interval'))\n",
    "        shift = config['interval']\n",
    "    else:\n",
    "        shift = int(config.get('interval')*config['interval_overlap']/100)\n",
    "        intervals = int((st[0].stats.endtime - st[0].stats.starttime)/shift)\n",
    "\n",
    "\n",
    "\n",
    "    ## pre-define psd array\n",
    "    size_psd = int(config.get('nperseg')/2)+1\n",
    "    psd = zeros([intervals, size_psd])\n",
    "\n",
    "    if size_psd >= len(st[0].data):\n",
    "        print(f\"ERROR: reduce nperseg or noverlap or segments! {size_psd} > {len(st[0].data)}\")\n",
    "        return\n",
    "\n",
    "    for i, tr in enumerate(st):\n",
    "\n",
    "        # initite variables for while loop\n",
    "        dt1 = st[0].stats.starttime\n",
    "        dt2 = st[0].stats.starttime + config['interval']\n",
    "        n = 0\n",
    "\n",
    "        while dt2 <= st[0].stats.endtime:\n",
    "\n",
    "            tr_tmp = tr.copy()\n",
    "            tr_tmp.trim(starttime = UTCDateTime(dt1), endtime=UTCDateTime(dt2))\n",
    "\n",
    "#             print(n, dt1, dt2, \"\\n\")\n",
    "\n",
    "#             print(config.get('nperseg'), config.get('noverlap'), len(tr_tmp.data))\n",
    "            try:\n",
    "                f, psd0 = welch(\n",
    "                            tr_tmp.data,\n",
    "                            fs=tr_tmp.stats.sampling_rate,\n",
    "                            window=config.get('taper'),\n",
    "                            nperseg=config.get('nperseg'),\n",
    "                            noverlap=config.get('noverlap'),\n",
    "                            nfft=config.get('nfft'),\n",
    "                            detrend=config.get('detrend'),\n",
    "                            return_onesided=config.get('onesided'),\n",
    "                            scaling=config.get('scaling'),\n",
    "                           )\n",
    "                psd[n] = psd0\n",
    "            except:\n",
    "                print(\"failed\")\n",
    "                break\n",
    "            \n",
    "            ## adjust variables\n",
    "            dt1 += shift\n",
    "            dt2 += shift\n",
    "            n += 1\n",
    "\n",
    "\n",
    "        if config.get('frequency_limits') is not None:\n",
    "            f1, f2 = config.get('frequency_limits')[0], config.get('frequency_limits')[1]\n",
    "            idx1, idx2 = int(where(f <= f1)[0][0]), int(where(f >= f2)[0][0])\n",
    "            ff = f[idx1:idx2]\n",
    "            tmp = zeros([intervals, len(ff)])\n",
    "            for j in range(intervals):\n",
    "                tmp[j] = psd[j,idx1:idx2]\n",
    "            psd = tmp\n",
    "        else:\n",
    "            ff = f\n",
    "\n",
    "\n",
    "    return ff, psd"
   ]
  },
  {
   "cell_type": "code",
   "execution_count": 9,
   "id": "21f09181",
   "metadata": {
    "ExecuteTime": {
     "end_time": "2022-07-22T15:53:19.244969Z",
     "start_time": "2022-07-22T15:53:19.232491Z"
    },
    "code_folding": [
     0
    ]
   },
   "outputs": [],
   "source": [
    "def __get_median_psd(psds):\n",
    "\n",
    "    from numpy import median, zeros, isnan\n",
    "\n",
    "    med_psd = zeros(psds.shape[1])\n",
    "\n",
    "    for f in range(psds.shape[1]):\n",
    "        a = psds[:,f]\n",
    "        med_psd[f] = median(a[~isnan(a)])\n",
    "\n",
    "    return med_psd"
   ]
  },
  {
   "cell_type": "code",
   "execution_count": 10,
   "id": "419ce60f",
   "metadata": {
    "ExecuteTime": {
     "end_time": "2022-07-22T15:53:19.257064Z",
     "start_time": "2022-07-22T15:53:19.245884Z"
    },
    "code_folding": []
   },
   "outputs": [],
   "source": [
    "def __get_psds(st, config):\n",
    "\n",
    "    config['interval'] = 3600\n",
    "    config['interval_overlap'] = 50 # in percent\n",
    "    config['taper'] = 'hanning'\n",
    "    config['segments'] = 1e2\n",
    "    config['nperseg'] = 256*config.get('segments')\n",
    "    config['noverlap'] = 64*config.get('segments')\n",
    "    config['nfft'] = None\n",
    "    config['detrend'] = 'constant'\n",
    "    config['scaling'] = 'density'\n",
    "    config['onesided'] = True\n",
    "    config['frequency_limits'] = (0, 10) # in Hz\n",
    "\n",
    "    \n",
    "    psds, frequencies, station_names = [], [], []\n",
    "    \n",
    "    for cha in config['channels']:\n",
    "        for sta in config['stations']:\n",
    "\n",
    "            station_select = st.select(id=f\"*.{sta}.*.{cha}\")\n",
    "\n",
    "            if len(station_select) == 1:\n",
    "    #             print(f\"*.{sta}.*.{cha}\")\n",
    "                station_names.append(f\"{sta}.{cha}\")\n",
    "                ff, psd = __calculate_spectra(station_select, config, mode=None)\n",
    "                psd_median = __get_median_psd(psd)\n",
    "\n",
    "                psds.append(psd_median)\n",
    "                frequencies.append(ff)  \n",
    "\n",
    "    config['station_names'] = station_names\n",
    "    return psds, frequencies, config"
   ]
  },
  {
   "cell_type": "code",
   "execution_count": 11,
   "id": "b212de2f",
   "metadata": {
    "ExecuteTime": {
     "end_time": "2022-07-22T15:53:19.268676Z",
     "start_time": "2022-07-22T15:53:19.257909Z"
    }
   },
   "outputs": [
    {
     "ename": "SyntaxError",
     "evalue": "invalid syntax (<ipython-input-11-7b18f4196bb8>, line 14)",
     "output_type": "error",
     "traceback": [
      "\u001b[0;36m  File \u001b[0;32m\"<ipython-input-11-7b18f4196bb8>\"\u001b[0;36m, line \u001b[0;32m14\u001b[0m\n\u001b[0;31m    psds, frequencies, config = __get_psds(st, config):\u001b[0m\n\u001b[0m                                                      ^\u001b[0m\n\u001b[0;31mSyntaxError\u001b[0m\u001b[0;31m:\u001b[0m invalid syntax\n"
     ]
    }
   ],
   "source": [
    "config['interval'] = 3600\n",
    "config['interval_overlap'] = 50 # in percent\n",
    "config['taper'] = 'hanning'\n",
    "config['segments'] = 1e2\n",
    "config['nperseg'] = 256*config.get('segments')\n",
    "config['noverlap'] = 64*config.get('segments')\n",
    "config['nfft'] = None\n",
    "config['detrend'] = 'constant'\n",
    "config['scaling'] = 'density'\n",
    "config['onesided'] = True\n",
    "config['frequency_limits'] = (0, 10) # in Hz\n",
    "\n",
    "\n",
    "psds, frequencies, config = __get_psds(st, config):\n",
    "\n",
    "# for cha in config['channels']:\n",
    "#     for sta in config['stations']:\n",
    "        \n",
    "#         station_select = st.select(id=f\"*.{sta}.*.{cha}\")\n",
    "            \n",
    "#         if len(station_select) == 1:\n",
    "# #             print(f\"*.{sta}.*.{cha}\")\n",
    "#             station_names.append(f\"{sta}.{cha}\")\n",
    "#             ff, psd = __calculate_spectra(station_select, config, mode=None)\n",
    "#             psd_median = __get_median_psd(psd)\n",
    "        \n",
    "#             psds.append(psd_median)\n",
    "#             frequencies.append(ff)        "
   ]
  },
  {
   "cell_type": "code",
   "execution_count": null,
   "id": "ccb9cd56",
   "metadata": {
    "ExecuteTime": {
     "end_time": "2022-07-22T15:53:19.269788Z",
     "start_time": "2022-07-22T15:43:36.528Z"
    },
    "code_folding": [
     0
    ]
   },
   "outputs": [],
   "source": [
    "def __makeplot_PSD_components(psds, frequencies, config):\n",
    "\n",
    "    tmp = np.load(f\"/import/kilauea-data/LNM/data/MODELS/\"+\"noise_models.npz\")\n",
    "    nm_periods, nlnm, nhnm = tmp['model_periods'], tmp['low_noise'], tmp['high_noise']; del tmp\n",
    "\n",
    "    nlnm_psd = 10**(nlnm/10)\n",
    "    nhnm_psd = 10**(nhnm/10)\n",
    "\n",
    "    fig, ax = plt.subplots(3,1,figsize=(15,15), sharex=True)\n",
    "\n",
    "    for psd, ff, station_name in zip(psds, frequencies, config['station_names']):\n",
    "        \n",
    "        pp = np.zeros(len(ff))\n",
    "        pp[:-1] = 1/ff[1:]        \n",
    "        \n",
    "        if np.nonzero(psd)[0].size == 0:\n",
    "            continue\n",
    "\n",
    "        if station_name[-1] == \"Z\":\n",
    "            ax[0].loglog(pp, psd, label=station_name, color=config['colors'][station_name.split('.')[0]])\n",
    "        elif station_name[-1] in [\"N\",\"1\"]:\n",
    "            ax[1].loglog(pp, psd, label=station_name, color=config['colors'][station_name.split('.')[0]])\n",
    "        elif station_name[-1] in [\"E\",\"2\"]:\n",
    "            ax[2].loglog(pp, psd, label=station_name, color=config['colors'][station_name.split('.')[0]])\n",
    "\n",
    "    for jj in range(3):\n",
    "        ax[jj].loglog(nm_periods, nlnm_psd, ls=\"--\", color=\"black\")\n",
    "        ax[jj].loglog(nm_periods, nhnm_psd, ls=\"--\", color=\"black\")\n",
    "\n",
    "        ax[jj].legend(loc=\"upper right\")\n",
    "\n",
    "        ax[jj].set_ylabel(r\"PSD ($m^2 / s^4 / Hz$)\", fontsize=14)\n",
    "\n",
    "        ax[jj].grid(True, which=\"both\", ls=\"-\", alpha=0.5)\n",
    "\n",
    "        \n",
    "        ax[jj].set_xlim(0.2,200)\n",
    "        ax[jj].set_ylim(1e-19, 1e-9)\n",
    "\n",
    "    ax[jj].set_xlabel(\"Period (s)\", fontsize=14)\n",
    "    plt.show();\n",
    "    return fig"
   ]
  },
  {
   "cell_type": "code",
   "execution_count": null,
   "id": "6a91b9ee",
   "metadata": {
    "ExecuteTime": {
     "end_time": "2022-07-22T15:53:19.270390Z",
     "start_time": "2022-07-22T15:43:36.529Z"
    },
    "code_folding": []
   },
   "outputs": [],
   "source": [
    "fig = __makeplot_PSD_components(psds, frequencies, config)"
   ]
  },
  {
   "cell_type": "markdown",
   "id": "6144d052",
   "metadata": {
    "ExecuteTime": {
     "end_time": "2022-06-10T15:10:23.158861Z",
     "start_time": "2022-06-10T15:10:23.156859Z"
    }
   },
   "source": [
    "## Get ADR ROMY array"
   ]
  },
  {
   "cell_type": "code",
   "execution_count": null,
   "id": "30869f6c",
   "metadata": {
    "ExecuteTime": {
     "end_time": "2022-07-22T15:53:19.270931Z",
     "start_time": "2022-07-22T15:43:36.531Z"
    }
   },
   "outputs": [],
   "source": [
    "config_adr  = config.copy()\n",
    "\n",
    "config_adr['repository'] = \"archive\"\n",
    "\n",
    "config_adr['seeds'] = [\n",
    "                    'BW.ROMY.20.BJZ', 'BW.ROMY.20.BJN', 'BW.ROMY.20.BJE',\n",
    "\n",
    "]\n",
    "\n",
    "config_adr['channels'] = np.unique(np.array([i.split(\".\")[3] for i in config_adr['seeds']]))\n",
    "config_adr['stations'] = np.unique(np.array([i.split(\".\")[1] for i in config_adr['seeds']]))"
   ]
  },
  {
   "cell_type": "code",
   "execution_count": null,
   "id": "9d1f0e31",
   "metadata": {
    "ExecuteTime": {
     "end_time": "2022-07-22T15:53:19.271500Z",
     "start_time": "2022-07-22T15:43:36.534Z"
    }
   },
   "outputs": [],
   "source": [
    "st_adr = __getStream(config_adr, restitute=False)"
   ]
  },
  {
   "cell_type": "code",
   "execution_count": null,
   "id": "314f194b",
   "metadata": {
    "ExecuteTime": {
     "end_time": "2022-07-22T15:53:19.272112Z",
     "start_time": "2022-07-22T15:43:36.536Z"
    }
   },
   "outputs": [],
   "source": [
    "st_adr.plot(equal_scale=False);"
   ]
  },
  {
   "cell_type": "code",
   "execution_count": null,
   "id": "26c4117f",
   "metadata": {
    "ExecuteTime": {
     "end_time": "2022-07-22T15:53:19.272688Z",
     "start_time": "2022-07-22T15:43:36.538Z"
    }
   },
   "outputs": [],
   "source": [
    "psds_adr, frequencies_adr, config_adr = __get_psds(st_adr, config_adr)"
   ]
  },
  {
   "cell_type": "code",
   "execution_count": null,
   "id": "c1f2ffb7",
   "metadata": {
    "ExecuteTime": {
     "end_time": "2022-07-22T15:53:19.273231Z",
     "start_time": "2022-07-22T15:43:36.540Z"
    }
   },
   "outputs": [],
   "source": [
    "fig = __makeplot_PSD_components(psds_adr, frequencies_adr, config_adr)"
   ]
  },
  {
   "cell_type": "markdown",
   "id": "3262e1d1",
   "metadata": {},
   "source": [
    "### Processing"
   ]
  },
  {
   "cell_type": "code",
   "execution_count": null,
   "id": "06585c7b",
   "metadata": {
    "ExecuteTime": {
     "end_time": "2022-07-22T15:53:19.273914Z",
     "start_time": "2022-07-22T15:43:36.542Z"
    }
   },
   "outputs": [],
   "source": [
    "st2 = st.copy();\n",
    "\n",
    "st2.detrend('simple');\n",
    "\n",
    "# for tr in st:\n",
    "#     if tr.stats.sampling_rate > 20:\n",
    "#         tr.resample(20);\n",
    "\n",
    "st2.taper(0.1)\n",
    "\n",
    "config['filter'] = {'type':'bandpass', \n",
    "                    'fmin':0.01, \n",
    "                    'fmax':1}\n",
    "\n",
    "if config['filter']:\n",
    "    st2.filter(config['filter']['type'], \n",
    "              freqmin=config['filter']['fmin'],\n",
    "              freqmax=config['filter']['fmax'], \n",
    "              corners=4, \n",
    "              zerophase=True);\n",
    "print(st2);"
   ]
  },
  {
   "cell_type": "code",
   "execution_count": null,
   "id": "bd52cf41",
   "metadata": {
    "ExecuteTime": {
     "end_time": "2022-07-22T15:53:19.274506Z",
     "start_time": "2022-07-22T15:43:36.543Z"
    }
   },
   "outputs": [],
   "source": [
    "fig, ax = plt.subplots(len(config['stations']),3, figsize=(15,10), sharex=True)\n",
    "\n",
    "for k, component in enumerate(['Z','N','E']):\n",
    "    for i, tr in enumerate(st2.select(channel=f\"*{component}\")):\n",
    "        \n",
    "        if np.isnan(tr.data).all():\n",
    "            ax[i,k].fill_between(tr.times(), -1, 1, color='red', alpha=0.3, label=f'{tr.stats.station}')\n",
    "        else:\n",
    "            ax[i,k].plot(tr.times(),tr.data*1e6, color='k', label=f'{tr.stats.station}');\n",
    "        ax[i,k].legend(loc=\"upper right\")\n",
    "        \n",
    "    ax[0,k].set_title(tr.stats.channel)\n",
    "    \n",
    "    \n",
    "fig.show();"
   ]
  },
  {
   "cell_type": "code",
   "execution_count": null,
   "id": "69be5fd0",
   "metadata": {},
   "outputs": [],
   "source": []
  },
  {
   "cell_type": "code",
   "execution_count": null,
   "id": "76789ec4",
   "metadata": {},
   "outputs": [],
   "source": []
  },
  {
   "cell_type": "code",
   "execution_count": null,
   "id": "64201ff6",
   "metadata": {},
   "outputs": [],
   "source": []
  }
 ],
 "metadata": {
  "kernelspec": {
   "display_name": "Python 3",
   "language": "python",
   "name": "python3"
  },
  "language_info": {
   "codemirror_mode": {
    "name": "ipython",
    "version": 3
   },
   "file_extension": ".py",
   "mimetype": "text/x-python",
   "name": "python",
   "nbconvert_exporter": "python",
   "pygments_lexer": "ipython3",
   "version": "3.7.7"
  }
 },
 "nbformat": 4,
 "nbformat_minor": 5
}
