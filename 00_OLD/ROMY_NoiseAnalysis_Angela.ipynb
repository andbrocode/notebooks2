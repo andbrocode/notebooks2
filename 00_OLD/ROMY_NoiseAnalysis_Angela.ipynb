{
 "cells": [
  {
   "cell_type": "code",
   "execution_count": null,
   "id": "775f0bff",
   "metadata": {},
   "outputs": [],
   "source": []
  },
  {
   "cell_type": "markdown",
   "id": "3d93b9fc",
   "metadata": {},
   "source": [
    "## Imports"
   ]
  },
  {
   "cell_type": "code",
   "execution_count": 1,
   "id": "8775ca83",
   "metadata": {
    "ExecuteTime": {
     "end_time": "2023-02-10T15:49:53.369120Z",
     "start_time": "2023-02-10T15:49:46.140473Z"
    }
   },
   "outputs": [],
   "source": [
    "import os\n",
    "import matplotlib.pyplot as plt\n",
    "import pandas as pd\n",
    "import numpy as np\n",
    "\n",
    "from obspy import UTCDateTime\n",
    "from andbro__querrySeismoData import __querrySeismoData"
   ]
  },
  {
   "cell_type": "code",
   "execution_count": 2,
   "id": "c3e61010",
   "metadata": {
    "ExecuteTime": {
     "end_time": "2023-02-10T15:49:53.372948Z",
     "start_time": "2023-02-10T15:49:53.370240Z"
    }
   },
   "outputs": [],
   "source": [
    "if os.uname().nodename == 'lighthouse':\n",
    "    root_path = '/home/andbro/'\n",
    "    data_path = '/home/andbro/kilauea-data/'\n",
    "    archive_path = '/home/andbro/freenas/'\n",
    "elif os.uname().nodename == 'kilauea':\n",
    "    root_path = '/home/brotzer/'\n",
    "    data_path = '/import/kilauea-data/'\n",
    "    archive_path = '/import/freenas-ffb-01-data/'"
   ]
  },
  {
   "cell_type": "markdown",
   "id": "166550bc",
   "metadata": {},
   "source": [
    "## Configurations"
   ]
  },
  {
   "cell_type": "code",
   "execution_count": 14,
   "id": "6da7b5b1",
   "metadata": {
    "ExecuteTime": {
     "end_time": "2023-02-10T15:54:08.956878Z",
     "start_time": "2023-02-10T15:54:08.953361Z"
    }
   },
   "outputs": [],
   "source": [
    "## Configurations\n",
    "\n",
    "config = {}\n",
    "\n",
    "config['tbeg'] = UTCDateTime(\"2022-08-16 00:00\")\n",
    "config['tend'] = UTCDateTime(\"2022-08-16 23:00\")\n",
    "\n",
    "# config['seed'] = \"BW.ROMY.10.BJZ\"\n",
    "config['seed'] = \"BW.DROMY..FJZ\"\n",
    "\n",
    "\n",
    "config['repository'] = \"george\"\n",
    "\n",
    "config['outpath'] = f''\n",
    "config['outfile'] = f''\n",
    "\n",
    "config['outfigs'] = f''"
   ]
  },
  {
   "cell_type": "markdown",
   "id": "ac50da8a",
   "metadata": {},
   "source": [
    "## Load Rotation Data"
   ]
  },
  {
   "cell_type": "code",
   "execution_count": 15,
   "id": "4f337628",
   "metadata": {
    "ExecuteTime": {
     "end_time": "2023-02-10T15:54:09.673867Z",
     "start_time": "2023-02-10T15:54:09.665289Z"
    },
    "code_folding": [
     0
    ]
   },
   "outputs": [],
   "source": [
    "def __load_romy_raw(seed, starttime, endtime):\n",
    "\n",
    "    import obspy\n",
    "    import io\n",
    "    from pandas import date_range\n",
    "    from os import path\n",
    "    \n",
    "    tbeg = obspy.UTCDateTime(starttime-10)\n",
    "    tend = obspy.UTCDateTime(endtime+10)\n",
    "\n",
    "    net, sta, loc, cha = seed.split(\".\")\n",
    "    \n",
    "    reclen = 512\n",
    "    chunksize = 100000 * reclen # Around 50 MB\n",
    "    \n",
    "    st0 = obspy.Stream()\n",
    "\n",
    "    for dt in date_range(tbeg.date, tend.date):\n",
    "    \n",
    "        doy = UTCDateTime(dt).julday\n",
    "        year = UTCDateTime(dt).year\n",
    "        \n",
    "        print(doy)\n",
    "    \n",
    "        archive= f\"/import/freenas-ffb-01-data/romy_archive/{year}/{net}/{sta}/{cha}.D/\"\n",
    "        file = f\"{net}.{sta}.{loc}.{cha}.D.{year}.{doy}\"\n",
    "        \n",
    "        if not path.exists(archive+file):\n",
    "            print(f\" -> file for {doy} does not exist!\")\n",
    "        \n",
    "        with io.open(archive+file, \"rb\") as fh:\n",
    "            while True:\n",
    "                with io.BytesIO() as buf:\n",
    "                    c = fh.read(chunksize);\n",
    "                    if not c:\n",
    "                        break\n",
    "                    buf.write(c);\n",
    "                    buf.seek(0, 0);\n",
    "                    st = obspy.read(buf);\n",
    "        st0 += st\n",
    "        \n",
    "    st0.merge()\n",
    "\n",
    "    st0.trim(tbeg, tend)\n",
    "    \n",
    "    return st0 "
   ]
  },
  {
   "cell_type": "code",
   "execution_count": 16,
   "id": "9cb2ea1e",
   "metadata": {
    "ExecuteTime": {
     "end_time": "2023-02-10T15:54:44.758464Z",
     "start_time": "2023-02-10T15:54:09.888723Z"
    }
   },
   "outputs": [
    {
     "name": "stdout",
     "output_type": "stream",
     "text": [
      "227\n",
      "228\n"
     ]
    }
   ],
   "source": [
    "st0 = __load_romy_raw(\"BW.DROMY..FJZ\", config['tbeg'], config['tend'])"
   ]
  },
  {
   "cell_type": "code",
   "execution_count": 19,
   "id": "f9697268",
   "metadata": {
    "ExecuteTime": {
     "end_time": "2023-02-10T15:55:18.758574Z",
     "start_time": "2023-02-10T15:55:09.109197Z"
    }
   },
   "outputs": [
    {
     "name": "stderr",
     "output_type": "stream",
     "text": [
      "/home/brotzer/anaconda3/lib/python3.7/site-packages/obspy/imaging/waveform.py:772: UserWarning: Warning: converting a masked element to nan.\n",
      "  tr.data[-remaining_samples:].min() * tr.stats.calib\n",
      "/home/brotzer/anaconda3/lib/python3.7/site-packages/obspy/imaging/waveform.py:774: UserWarning: Warning: converting a masked element to nan.\n",
      "  tr.data[-remaining_samples:].max() * tr.stats.calib\n"
     ]
    },
    {
     "data": {
      "image/png": "[encoded data removed]",
      "text/plain": [
       "<Figure size 800x250 with 1 Axes>"
      ]
     },
     "metadata": {
      "needs_background": "light"
     },
     "output_type": "display_data"
    },
    {
     "data": {
      "image/png": "[encoded data removed]",
      "text/plain": [
       "<Figure size 800x250 with 1 Axes>"
      ]
     },
     "execution_count": 19,
     "metadata": {},
     "output_type": "execute_result"
    }
   ],
   "source": [
    "st0.plot();"
   ]
  },
  {
   "cell_type": "code",
   "execution_count": 18,
   "id": "d8d629c2",
   "metadata": {
    "ExecuteTime": {
     "end_time": "2023-02-10T15:55:07.387631Z",
     "start_time": "2023-02-10T15:55:07.044235Z"
    }
   },
   "outputs": [
    {
     "data": {
      "text/plain": [
       "1 Trace(s) in Stream:\n",
       "BW.DROMY..FJZ | 2022-08-16T00:05:00.000000Z - 2022-08-16T23:00:00.000000Z | 5000.0 Hz, 412500001 samples (masked)"
      ]
     },
     "execution_count": 18,
     "metadata": {},
     "output_type": "execute_result"
    }
   ],
   "source": [
    "st0.trim(config['tbeg']+300, config['tend'])"
   ]
  },
  {
   "cell_type": "code",
   "execution_count": null,
   "id": "02f99013",
   "metadata": {
    "ExecuteTime": {
     "start_time": "2023-02-10T16:06:16.155Z"
    }
   },
   "outputs": [],
   "source": [
    "from andbro__makeplot_trace_spectrum import __makeplot_trace_and_spectrum\n",
    "\n",
    "__makeplot_trace_and_spectrum(st0[0], axis_scale=\"loglog\");\n"
   ]
  },
  {
   "cell_type": "code",
   "execution_count": null,
   "id": "ea8e898a",
   "metadata": {
    "ExecuteTime": {
     "start_time": "2023-02-10T15:48:05.777Z"
    }
   },
   "outputs": [],
   "source": [
    "# st, inv = __querrySeismoData(\n",
    "#                             seed_id=config['seed'],\n",
    "#                             starttime=config['tbeg']-10,\n",
    "#                             endtime=config['tend']+10,\n",
    "#                             repository=config['repository'],\n",
    "#                             path=None,\n",
    "#                             restitute=False,\n",
    "#                             detail=None,\n",
    "#                             fill_value=None,\n",
    "# )\n",
    "\n",
    "\n",
    "# st.trim(config['tbeg'], config['tend'])\n",
    "\n",
    "# st.remove_sensitivity(inv)\n",
    "\n",
    "# st.detrend(\"demean\")"
   ]
  }
 ],
 "metadata": {
  "kernelspec": {
   "display_name": "Python 3 (ipykernel)",
   "language": "python",
   "name": "python3"
  },
  "language_info": {
   "codemirror_mode": {
    "name": "ipython",
    "version": 3
   },
   "file_extension": ".py",
   "mimetype": "text/x-python",
   "name": "python",
   "nbconvert_exporter": "python",
   "pygments_lexer": "ipython3",
   "version": "3.9.19"
  },
  "toc": {
   "base_numbering": 1,
   "nav_menu": {},
   "number_sections": true,
   "sideBar": true,
   "skip_h1_title": false,
   "title_cell": "Table of Contents",
   "title_sidebar": "Contents",
   "toc_cell": false,
   "toc_position": {},
   "toc_section_display": true,
   "toc_window_display": false
  },
  "varInspector": {
   "cols": {
    "lenName": 16,
    "lenType": 16,
    "lenVar": 40
   },
   "kernels_config": {
    "python": {
     "delete_cmd_postfix": "",
     "delete_cmd_prefix": "del ",
     "library": "var_list.py",
     "varRefreshCmd": "print(var_dic_list())"
    },
    "r": {
     "delete_cmd_postfix": ") ",
     "delete_cmd_prefix": "rm(",
     "library": "var_list.r",
     "varRefreshCmd": "cat(var_dic_list()) "
    }
   },
   "types_to_exclude": [
    "module",
    "function",
    "builtin_function_or_method",
    "instance",
    "_Feature"
   ],
   "window_display": false
  }
 },
 "nbformat": 4,
 "nbformat_minor": 5
}
