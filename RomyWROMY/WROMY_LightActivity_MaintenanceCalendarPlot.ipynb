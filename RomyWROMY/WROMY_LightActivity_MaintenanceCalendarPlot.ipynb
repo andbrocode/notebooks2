{
 "cells": [
  {
   "cell_type": "markdown",
   "id": "aebdb3cc",
   "metadata": {},
   "source": [
    "# Generate Log for Maintenance Activitiy based on WROMY LightSensors"
   ]
  },
  {
   "cell_type": "markdown",
   "id": "1819f3e0",
   "metadata": {},
   "source": [
    "Use the light sensors of WROMY to identify maintenance activity and plot them as calendar plots "
   ]
  },
  {
   "cell_type": "code",
   "execution_count": 1,
   "id": "ac6eb9b0",
   "metadata": {
    "ExecuteTime": {
     "end_time": "2022-08-16T15:07:53.981736Z",
     "start_time": "2022-08-16T15:07:53.979755Z"
    },
    "tags": []
   },
   "outputs": [],
   "source": [
    "import os\n",
    "import pandas as pd\n",
    "import matplotlib.pyplot as plt\n",
    "import numpy as np\n",
    "import calplot\n",
    "\n",
    "from pathlib import Path"
   ]
  },
  {
   "cell_type": "code",
   "execution_count": 2,
   "id": "33a828c5-8c84-4883-9f6e-80ae8d36274a",
   "metadata": {
    "tags": []
   },
   "outputs": [],
   "source": [
    "if os.uname().nodename == 'lighthouse':\n",
    "    root_path = '/home/andbro/'\n",
    "    data_path = '/home/andbro/kilauea-data/'\n",
    "    archive_path = '/home/andbro/freenas/'\n",
    "    bay_path = '/home/andbro/bay200/'\n",
    "elif os.uname().nodename == 'kilauea':\n",
    "    root_path = '/home/brotzer/'\n",
    "    data_path = '/import/kilauea-data/'\n",
    "    archive_path = '/import/freenas-ffb-01-data/'\n",
    "    bay_path = '/bay200/'\n",
    "elif os.uname().nodename == 'lin-ffb-01':\n",
    "    root_path = '/home/brotzer/'\n",
    "    data_path = '/import/kilauea-data/'\n",
    "    archive_path = '/import/freenas-ffb-01-data/'\n",
    "    bay_path = '/bay200/'"
   ]
  },
  {
   "cell_type": "markdown",
   "id": "45252103-c831-4a7f-a3f3-9e96c21e37aa",
   "metadata": {},
   "source": [
    "### Configurations"
   ]
  },
  {
   "cell_type": "code",
   "execution_count": 8,
   "id": "6c88a61a",
   "metadata": {
    "ExecuteTime": {
     "end_time": "2022-08-16T15:07:54.003624Z",
     "start_time": "2022-08-16T15:07:53.982629Z"
    },
    "tags": []
   },
   "outputs": [],
   "source": [
    "config = {}\n",
    "\n",
    "config['threshold'] = 5 ## light threshold to classify as <light on> / <light off>\n",
    "\n",
    "config['path_to_LX_data'] = archive_path+\"romy_archive/\"\n",
    "\n",
    "config['start_date'] = '01/01/2024' ## MM/DD/YYYY\n",
    "config['end_date']   = '12/31/2024' ## MM/DD/YYYY\n",
    "\n",
    "config['year'] = config['start_date'][-4:]\n",
    "\n",
    "config['path_to_outdata'] = archive_path+f\"wromy_files/{config['year']}_maintenance_lx_sensors.csv\"\n",
    "\n",
    "config['path_to_figs'] = archive_path+f\"romy_plots/{config['year']}/logs/\"\n"
   ]
  },
  {
   "cell_type": "code",
   "execution_count": 9,
   "id": "4cc35b20",
   "metadata": {
    "ExecuteTime": {
     "end_time": "2022-08-16T15:07:54.016055Z",
     "start_time": "2022-08-16T15:07:54.004610Z"
    },
    "code_folding": [
     0
    ],
    "tags": []
   },
   "outputs": [],
   "source": [
    "def __update_maintenance_protocoll(config):\n",
    "\n",
    "    ## make new output file with header\n",
    "    with open(config['path_to_outdata'], mode=\"w\") as f:\n",
    "        f.write(\"Sensor,Timestamp,Date,Time,State\\n\")\n",
    "\n",
    "    ## iterate for dates\n",
    "    for date in pd.date_range(start=config['start_date'], end=config['end_date']):\n",
    "\n",
    "        fdate = str(date)[:10].replace(\"-\", \"\")\n",
    "\n",
    "        ## interate for all sensors of WROMY\n",
    "        for sensor in [1,4,5,6,7,8,9]:\n",
    "\n",
    "            filename = f'WS{sensor}_{fdate}.txt'\n",
    "            datapath = f'/import/freenas-ffb-01-data/romy_archive/{date.year}/BW/WROMY/LX{sensor}.D/'\n",
    "\n",
    "            ## read file\n",
    "            if Path(datapath+filename).exists():\n",
    "                df = pd.read_csv(datapath+filename, names=['Date', 'Time', 'State'])\n",
    "            else:\n",
    "                # print(f\" -> {datapath+filename} does not exists!\")\n",
    "                continue\n",
    "\n",
    "            ## smooth the light sensor data\n",
    "            df['smoothed'] = df['State'].rolling(10, center=True).mean()\n",
    "\n",
    "            ## apply threshold\n",
    "            df['smoothed'] = df['smoothed'].where(df.smoothed > config['threshold']).fillna(0)\n",
    "            df['smoothed'] = df['smoothed'].clip(lower=None, upper=config['threshold'])\n",
    "\n",
    "            ## calculate differences for picking\n",
    "            df['State'] = df.smoothed.diff()/config['threshold']\n",
    "\n",
    "            ## get start and end points of light period\n",
    "            select = df.where(abs(df.State) > 0).dropna()\n",
    "\n",
    "            ## modify data\n",
    "            select.drop(columns=[\"smoothed\"], inplace=True)\n",
    "            select = select.astype(int)\n",
    "            select['State'] = select['State'].replace(-1, 0)\n",
    "\n",
    "            ## format and write to output file\n",
    "            with open(config['path_to_outdata'], mode=\"a\") as f:\n",
    "                for idx, row in select.iterrows():\n",
    "                    dd = str(row.Date)\n",
    "                    tt = str(row.Time).zfill(6)\n",
    "                    ts = f\"{dd[:4]}-{dd[4:6]}-{dd[6:8]}T{tt[:2]}:{tt[2:4]}:{tt[4:6]}\"\n",
    "                    f.write(f\"WS{sensor},{ts},{row.Date},{row.Time},{row.State}\\n\");"
   ]
  },
  {
   "cell_type": "code",
   "execution_count": 10,
   "id": "b3961a32",
   "metadata": {
    "ExecuteTime": {
     "end_time": "2022-08-16T15:08:15.045547Z",
     "start_time": "2022-08-16T15:07:54.017079Z"
    },
    "code_folding": [],
    "tags": []
   },
   "outputs": [],
   "source": [
    "__update_maintenance_protocoll(config)"
   ]
  },
  {
   "cell_type": "markdown",
   "id": "52323b11",
   "metadata": {},
   "source": [
    "### Make Calendar Plots"
   ]
  },
  {
   "cell_type": "code",
   "execution_count": 11,
   "id": "f532ea47",
   "metadata": {
    "ExecuteTime": {
     "end_time": "2022-08-16T15:08:15.057780Z",
     "start_time": "2022-08-16T15:08:15.046907Z"
    },
    "tags": []
   },
   "outputs": [],
   "source": [
    "## load the compressed maintenance file\n",
    "df = pd.read_csv(config['path_to_outdata'])\n",
    "\n",
    "## convert to datetime objects\n",
    "df['Timestamp'] = pd.to_datetime(df['Timestamp'].replace(\"T\", \" \"))\n",
    "\n",
    "## reset the index\n",
    "df.set_index('Timestamp', inplace=True)\n",
    "\n",
    "## group by dates and sum the states\n",
    "df_compressed = df.groupby(['Date', 'Sensor'])['State'].sum().reset_index()\n",
    "\n",
    "## count sensors\n",
    "df_compressed['sensor_count'] = np.ones(len(df_compressed))\n",
    "df_compressed = df_compressed.groupby(['Date'])['sensor_count'].sum().reset_index()\n",
    "df_compressed['Date'] = pd.to_datetime(df_compressed['Date'].astype(str), format=\"%Y%m%d\")\n",
    "\n",
    "## reset the index\n",
    "df_compressed.set_index('Date', inplace=True)\n"
   ]
  },
  {
   "cell_type": "code",
   "execution_count": 12,
   "id": "da3a738c",
   "metadata": {
    "ExecuteTime": {
     "end_time": "2022-08-16T15:08:15.268396Z",
     "start_time": "2022-08-16T15:08:15.059492Z"
    },
    "tags": []
   },
   "outputs": [
    {
     "data": {
      "image/png": "[encoded data removed]",
      "text/plain": [
       "<Figure size 1250x170 with 2 Axes>"
      ]
     },
     "metadata": {},
     "output_type": "display_data"
    }
   ],
   "source": [
    "\n",
    "pl1 = calplot.calplot(data = df_compressed['sensor_count'],\n",
    "                      how = 'sum',\n",
    "                      cmap = plt.get_cmap('viridis', 7),\n",
    "                      colorbar = True,\n",
    "                      suptitle = \"Count of triggered light sensors per day\",\n",
    "                      yearlabel_kws={'fontname':'sans-serif'},\n",
    "                      vmin=0, vmax=7,\n",
    "                     )\n",
    "\n",
    "# pl1[0].savefig(config['path_to_figs']+f\"{config['year']}_LX_maintenance_overview.png\", format=\"png\", dpi=150, bbox_inches='tight')"
   ]
  },
  {
   "cell_type": "code",
   "execution_count": null,
   "id": "80ebf56c-417c-4179-9a0c-e5312c60ede9",
   "metadata": {
    "tags": []
   },
   "outputs": [],
   "source": []
  }
 ],
 "metadata": {
  "kernelspec": {
   "display_name": "Python 3 (ipykernel)",
   "language": "python",
   "name": "python3"
  },
  "language_info": {
   "codemirror_mode": {
    "name": "ipython",
    "version": 3
   },
   "file_extension": ".py",
   "mimetype": "text/x-python",
   "name": "python",
   "nbconvert_exporter": "python",
   "pygments_lexer": "ipython3",
   "version": "3.9.16"
  }
 },
 "nbformat": 4,
 "nbformat_minor": 5
}
