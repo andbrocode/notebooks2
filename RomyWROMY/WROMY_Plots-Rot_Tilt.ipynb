{
 "cells": [
  {
   "cell_type": "markdown",
   "id": "e9ee9386",
   "metadata": {},
   "source": [
    "## Plot WROMY  with Rotation / Tilt"
   ]
  },
  {
   "cell_type": "code",
   "execution_count": 1,
   "id": "f27a8ba0",
   "metadata": {},
   "outputs": [],
   "source": [
    "import os\n",
    "import pandas as pd\n",
    "import matplotlib.pyplot as plt\n",
    "import numpy as np\n",
    "\n",
    "from numpy import nan\n",
    "from pathlib import Path\n",
    "from obspy import UTCDateTime, Stream\n",
    "\n",
    "from andbro__get_timeaxis import __get_timeaxis"
   ]
  },
  {
   "cell_type": "code",
   "execution_count": 2,
   "id": "4cd3bd1f-d6ee-4d68-8a58-5236029dd4ef",
   "metadata": {
    "tags": []
   },
   "outputs": [],
   "source": [
    "if os.uname().nodename == 'lighthouse':\n",
    "    root_path = '/home/andbro/'\n",
    "    data_path = '/home/andbro/kilauea-data/'\n",
    "    archive_path = '/home/andbro/freenas/'\n",
    "    bay_path = '/home/andbro/bay200/'\n",
    "elif os.uname().nodename == 'kilauea':\n",
    "    root_path = '/home/brotzer/'\n",
    "    data_path = '/import/kilauea-data/'\n",
    "    archive_path = '/import/freenas-ffb-01-data/'\n",
    "    bay_path = '/bay200/'\n",
    "elif os.uname().nodename == 'lin-ffb-01':\n",
    "    root_path = '/home/brotzer/'\n",
    "    data_path = '/import/kilauea-data/'\n",
    "    archive_path = '/import/freenas-ffb-01-data/'\n",
    "    bay_path = '/bay200/'"
   ]
  },
  {
   "cell_type": "markdown",
   "id": "a09ecf84",
   "metadata": {},
   "source": [
    "### Configurations"
   ]
  },
  {
   "cell_type": "code",
   "execution_count": 131,
   "id": "598bc2c0",
   "metadata": {},
   "outputs": [],
   "source": [
    "config = {}\n",
    "\n",
    "config['channel'] = None\n",
    "\n",
    "config['tbeg'] = UTCDateTime(\"2022-03-27 00:00\")\n",
    "config['tend'] = UTCDateTime(\"2022-03-30 00:00\")\n",
    "\n",
    "config['path_to_sds'] = archive_path+\"romy_archive/\"\n",
    "\n",
    "config['path_to_figs'] = data_path+\"wromy/figures/\"\n",
    "\n",
    "config['resample'] = 20\n",
    "\n",
    "config['colors'] = {  'WS1':'darkgreen', \n",
    "                      'WS4':'purple', \n",
    "                      'WS5':'darkred',\n",
    "                      'WS6':'darkblue',\n",
    "                      'WS7':'darkorange',\n",
    "                      'WS8':'darkcyan',\n",
    "                      'WS9':'cyan',\n",
    "                     }"
   ]
  },
  {
   "cell_type": "markdown",
   "id": "faf1a2ff",
   "metadata": {},
   "source": [
    "### Methods"
   ]
  },
  {
   "cell_type": "code",
   "execution_count": 4,
   "id": "af934955",
   "metadata": {
    "code_folding": [
     0
    ]
   },
   "outputs": [],
   "source": [
    "def __indicate_gaps_with_nan(df, config):\n",
    "\n",
    "    differences = np.diff(df.totalSeconds, n=1)\n",
    "\n",
    "\n",
    "    ## ______________\n",
    "\n",
    "    sample_time_errors = [j for j in differences if j != config['resample']]\n",
    "\n",
    "    if len(sample_time_errors) != 0:\n",
    "        print(f\"  -> ERROR: Found {len(sample_time_errors)} errors for the sampling time!\\n\")\n",
    "\n",
    "\n",
    "    ## ______________\n",
    "\n",
    "    gaps = [list(differences).index(k) for k in differences if k > 2*config['resample']] or []\n",
    "    if gaps and gaps[0] in [0, 0.0]:\n",
    "        gaps.pop(0)\n",
    "    del differences\n",
    "\n",
    "    for x in gaps:\n",
    "        fill_row = [i+config['resample'] if n not in [3,4,5] else np.nan for n, i in enumerate(df.iloc[x,:])]\n",
    "        fill_row[0] = int(df.iloc[x,0])\n",
    "        fill_row[1] = int(df.iloc[x,1])\n",
    "        fill_row[2] = int(df.iloc[x,2])\n",
    "        df.loc[x+0.5] = fill_row\n",
    "\n",
    "\n",
    "    df = df.sort_index().reset_index(drop=True).convert_dtypes()\n",
    "\n",
    "    print(f\"  -> Marked {len(gaps)} gaps with NaN values!\\n\")\n",
    "\n",
    "    return df"
   ]
  },
  {
   "cell_type": "markdown",
   "id": "59122fbe-93a6-4350-831f-c8ce3d360319",
   "metadata": {},
   "source": [
    "## Load FURT data"
   ]
  },
  {
   "cell_type": "code",
   "execution_count": 87,
   "id": "deaee888-450c-4a9e-9785-ef744dc010fb",
   "metadata": {
    "tags": []
   },
   "outputs": [
    {
     "name": "stderr",
     "output_type": "stream",
     "text": [
      "/home/andbro/andbro_python/andbro__load_FURT_stream.py:63: SettingWithCopyWarning: \n",
      "A value is trying to be set on a copy of a slice from a DataFrame.\n",
      "Try using .loc[row_indexer,col_indexer] = value instead\n",
      "\n",
      "See the caveats in the documentation: https://pandas.pydata.org/pandas-docs/stable/user_guide/indexing.html#returning-a-view-versus-a-copy\n",
      "  df['datetime'] = to_datetime(df['datetime'], format=\"%d%m%y %H%M%S\", errors=\"ignore\")\n"
     ]
    }
   ],
   "source": [
    "from andbro__load_FURT_stream import __load_furt_stream\n",
    "\n",
    "furt = __load_furt_stream(config['tbeg'], config['tend'], path_to_archive=bay_path+\"gif_online/FURT/WETTER/\")"
   ]
  },
  {
   "cell_type": "markdown",
   "id": "0f82073b",
   "metadata": {},
   "source": [
    "### Load WROMY data"
   ]
  },
  {
   "cell_type": "code",
   "execution_count": 89,
   "id": "567bd6b8-a1d2-4874-ad94-76872ece4ba1",
   "metadata": {
    "tags": []
   },
   "outputs": [
    {
     "name": "stdout",
     "output_type": "stream",
     "text": [
      "Specified end: 2022-03-30T00:00:00.000000Z \n",
      "Trace end:     2022-03-29T23:59:59.000000Z\n",
      "Specified end: 2022-03-30T00:00:00.000000Z \n",
      "Trace end:     2022-03-29T23:59:59.000000Z\n",
      "Specified end: 2022-03-30T00:00:00.000000Z \n",
      "Trace end:     2022-03-29T23:59:59.000000Z\n",
      "Specified end: 2022-03-30T00:00:00.000000Z \n",
      "Trace end:     2022-03-29T23:59:59.000000Z\n",
      "Specified end: 2022-03-30T00:00:00.000000Z \n",
      "Trace end:     2022-03-29T23:59:59.000000Z\n",
      "Specified end: 2022-03-30T00:00:00.000000Z \n",
      "Trace end:     2022-03-29T23:59:59.000000Z\n",
      "Specified end: 2022-03-30T00:00:00.000000Z \n",
      "Trace end:     2022-03-29T23:59:59.000000Z\n"
     ]
    }
   ],
   "source": [
    "from andbro__load_WROMY_stream import __load_wromy_stream\n",
    "\n",
    "ws = Stream()\n",
    "\n",
    "for i in [1,4,5,6,7,8,9]:\n",
    "\n",
    "    ws += __load_wromy_stream(config['path_to_sds'], f\"BW.WROMY..WS{i}\", config['tbeg'], config['tend'])"
   ]
  },
  {
   "cell_type": "markdown",
   "id": "19766377",
   "metadata": {},
   "source": [
    "## Load Tilt"
   ]
  },
  {
   "cell_type": "code",
   "execution_count": 90,
   "id": "b6058734-b006-40bc-9d7c-9cf0cc2deb4f",
   "metadata": {
    "tags": []
   },
   "outputs": [
    {
     "data": {
      "text/plain": [
       "3 Trace(s) in Stream:\n",
       "BW.DROMY..LAE | 2022-03-27T00:00:00.000000Z - 2022-03-30T00:00:00.000000Z | 1.0 Hz, 259201 samples\n",
       "BW.DROMY..LAN | 2022-03-27T00:00:00.000000Z - 2022-03-30T00:00:00.000000Z | 1.0 Hz, 259201 samples\n",
       "BW.DROMY..LAT | 2022-03-27T00:00:00.000000Z - 2022-03-30T00:00:00.000000Z | 1.0 Hz, 259201 samples"
      ]
     },
     "execution_count": 90,
     "metadata": {},
     "output_type": "execute_result"
    }
   ],
   "source": [
    "from andbro__readYaml import __readYaml\n",
    "from andbro__read_sds import __read_sds\n",
    "\n",
    "## tiltmeter configurations\n",
    "confTilt = __readYaml(f\"{root_path}Documents/ROMY/tiltmeter/\", \"tiltmeter.conf\")\n",
    "\n",
    "\n",
    "# ROMYT0 = __read_sds(config['path_to_sds'], \"BW.ROMYT..MA*\", config['tbeg'], config['tend'])\n",
    "# ROMYT0.sort();\n",
    "# ROMYT0.resample(1.0, no_filter=False)\n",
    "# ROMYT0.merge();\n",
    "\n",
    "\n",
    "# TROMY0 = __read_sds(config['path_to_sds'], \"BW.TROMY..MA*\", config['tbeg'], config['tend'])\n",
    "# TROMY0.sort();\n",
    "# TROMY0.resample(1.0, no_filter=False);\n",
    "# TROMY0.merge();\n",
    "\n",
    "\n",
    "BROMY0 = __read_sds(config['path_to_sds'], \"BW.DROMY..LA*\", config['tbeg'], config['tend'])\n",
    "BROMY0.sort()\n",
    "BROMY0.merge()"
   ]
  },
  {
   "cell_type": "code",
   "execution_count": 123,
   "id": "e40d0146-54b8-4177-8ee4-8faaa782e782",
   "metadata": {
    "tags": []
   },
   "outputs": [],
   "source": [
    "def __conversion_to_tilt(st, conf):\n",
    "\n",
    "    st0 = st.copy()\n",
    "\n",
    "    def convertTemp(trace):\n",
    "        Tvolt = trace.data * conf.get('gainTemp')\n",
    "        coeff = conf.get('calcTempCoefficients')\n",
    "        return coeff[0] + coeff[1]*Tvolt + coeff[2]*Tvolt**2 + coeff[3]*Tvolt**3\n",
    "\n",
    "    def convertTilt(trace, conversion, sensitivity):\n",
    "        return trace.data * conversion * sensitivity\n",
    "\n",
    "    for tr in st0:\n",
    "        if tr.stats.channel[-1] == 'T':\n",
    "            tr.data = convertTemp(tr)\n",
    "        elif tr.stats.channel[-1] == 'N':\n",
    "            tr.data = convertTilt(tr, conf['convTN'], conf['gainTilt'])\n",
    "        elif tr.stats.channel[-1] == 'E':\n",
    "            tr.data = convertTilt(tr, conf['convTE'], conf['gainTilt'])\n",
    "        else:\n",
    "            print(\"no match\")\n",
    "\n",
    "    print(f\"  -> converted data of {st[0].stats.station}\")\n",
    "    return st0"
   ]
  },
  {
   "cell_type": "code",
   "execution_count": 125,
   "id": "c4debc8f-6311-467f-905c-e62ed5648d65",
   "metadata": {
    "tags": []
   },
   "outputs": [
    {
     "name": "stdout",
     "output_type": "stream",
     "text": [
      "  -> converted data of DROMY\n"
     ]
    }
   ],
   "source": [
    "BROMY = __conversion_to_tilt(BROMY0, confTilt['BROMY'])"
   ]
  },
  {
   "cell_type": "markdown",
   "id": "8b391adb-b06e-449a-a60a-9d8ac68dd14c",
   "metadata": {},
   "source": [
    "## Plot WROMY and Tilt"
   ]
  },
  {
   "cell_type": "code",
   "execution_count": 132,
   "id": "0f2e4136-cf04-4eac-8144-c891b73ebb6a",
   "metadata": {
    "tags": []
   },
   "outputs": [],
   "source": [
    "def __makeplot_WROMY_FURT_TILT():\n",
    "\n",
    "    from numpy import mean\n",
    "\n",
    "    Nrow, Ncol = 4, 1\n",
    "\n",
    "    font = 12\n",
    "\n",
    "    tilt_scaling = 1e6\n",
    "    time_scaling = 3600\n",
    "\n",
    "    fig, ax = plt.subplots(Nrow, Ncol, figsize=(15, 8), sharex=True)\n",
    "\n",
    "    for _i in [1,4,5,6,7,8,9]:\n",
    "\n",
    "        ax[0].plot(ws.select(location=f\"*{_i}\", channel=\"*T\")[0].times()/time_scaling, ws.select(location=f\"*{_i}\", channel=\"*T\")[0].data,\n",
    "                   color=config['colors'][f'WS{_i}'], alpha=0.7, label=f\"WS{_i}\")\n",
    "        ax[1].plot(ws.select(location=f\"*{_i}\", channel=\"*P\")[0].times()/time_scaling, ws.select(location=f\"*{_i}\", channel=\"*P\")[0].data,\n",
    "                   color=config['colors'][f'WS{_i}'], alpha=0.7)\n",
    "        ax[2].plot(ws.select(location=f\"*{_i}\", channel=\"*H\")[0].times()/time_scaling, ws.select(location=f\"*{_i}\", channel=\"*H\")[0].data,\n",
    "                   color=config['colors'][f'WS{_i}'], alpha=0.7)\n",
    "\n",
    "    ax[0].plot(furt[0].times()/time_scaling, furt.select(channel=\"*T\")[0].data, color=\"lightgrey\", zorder=0, label=\"FURT\")\n",
    "    ax[1].plot(furt[0].times()/time_scaling, furt.select(channel=\"*P\")[0].data, color=\"lightgrey\", zorder=0)\n",
    "    ax[2].plot(furt[0].times()/time_scaling, furt.select(channel=\"*H\")[0].data, color=\"lightgrey\", zorder=0)\n",
    "\n",
    "    tilt_N = ( BROMY.select(channel=\"*N\")[0].data - mean(BROMY.select(channel=\"*N\")[0].data[:100]) ) * tilt_scaling\n",
    "    tilt_E = ( BROMY.select(channel=\"*E\")[0].data - mean(BROMY.select(channel=\"*E\")[0].data[:100]) ) * tilt_scaling\n",
    "\n",
    "    ax[3].plot(BROMY.select(channel=\"*N\")[0].times()/time_scaling, tilt_N, label=\"N-S\")\n",
    "    ax[3].plot(BROMY.select(channel=\"*E\")[0].times()/time_scaling, tilt_E, label=\"E-W\")\n",
    "\n",
    "    ax[3].legend(loc=1)\n",
    "\n",
    "    ax[0].legend(loc='upper center', ncol=7+1, bbox_to_anchor=(0.5, 1.3), fancybox=True, fontsize=font-2)\n",
    "\n",
    "    for _n in range(Nrow):\n",
    "        ax[_n].grid(ls=\":\", zorder=0)\n",
    "        ax[_n].set_xlim(left=0)\n",
    "\n",
    "    ax[0].set_ylabel(\"Temperature (°C)\",fontsize=font)\n",
    "    ax[1].set_ylabel(\"Air Pressure (hPa)\",fontsize=font)\n",
    "    ax[2].set_ylabel(\"rel. Humidity (%)\",fontsize=font)\n",
    "    ax[3].set_ylabel(\"Tilt ($\\mu$rad)\", fontsize=font)\n",
    "    ax[3].set_xlabel(\"Time (hours)\", fontsize=font)\n",
    "\n",
    "    plt.show();\n",
    "    return fig"
   ]
  },
  {
   "cell_type": "code",
   "execution_count": null,
   "id": "460a3c0a-c100-4723-96a1-1462b8351ad7",
   "metadata": {
    "tags": []
   },
   "outputs": [],
   "source": [
    "fig = __makeplot_WROMY_FURT_TILT()\n",
    "\n",
    "fig.savefig(config['path_to_figs']+f\"WROMY_Tilt_effected_by_temperature.png\", format=\"png\", dpi=150, bbox_inches='tight')"
   ]
  },
  {
   "cell_type": "markdown",
   "id": "12916a3a",
   "metadata": {},
   "source": [
    "## WROMY & Rotation"
   ]
  },
  {
   "cell_type": "code",
   "execution_count": null,
   "id": "92f2928b",
   "metadata": {},
   "outputs": [],
   "source": [
    "config_rot = {}\n",
    "\n",
    "config_rot['seed'] = \"BW.ROMY.10.BJZ\"\n",
    "\n",
    "config_rot['tbeg'] = config['tbeg']\n",
    "config_rot['tend'] = config['tend']-300\n",
    "\n",
    "config_rot['repo'] = \"george\""
   ]
  },
  {
   "cell_type": "code",
   "execution_count": null,
   "id": "a143a09c",
   "metadata": {},
   "outputs": [],
   "source": [
    "st00, inv = __querrySeismoData(\n",
    "                            seed_id=config_rot.get(\"seed\"),\n",
    "                            starttime=config_rot.get(\"tbeg\"),\n",
    "                            endtime=config_rot.get(\"tend\"),\n",
    "                            repository=config_rot.get(\"repo\"),\n",
    "                            path=None,\n",
    "                            restitute=False,\n",
    "                            detail=False,\n",
    "                            fill_value=-9999,\n",
    "                            )"
   ]
  },
  {
   "cell_type": "code",
   "execution_count": null,
   "id": "b1416e38",
   "metadata": {},
   "outputs": [],
   "source": [
    "# st = st00.copy()\n",
    "\n",
    "# st.detrend('linear')\n",
    "\n",
    "# st.remove_response(inv, output=\"VEL\", zero_mean=True)\n",
    "\n",
    "# st.taper(0.1)\n",
    "\n",
    "# fmin, fmax = 0.01, 5.0\n",
    "# # st.filter('bandpass', freqmin=fmin, freqmax=fmax, corners=4, zerophase=True)\n",
    "# st.filter('lowpass', freq=fmax, corners=8, zerophase=True)\n",
    "\n",
    "# st.resample(fmax*2)\n",
    "\n",
    "# st.plot(equal_scale=False);"
   ]
  },
  {
   "cell_type": "code",
   "execution_count": null,
   "id": "a682ff77",
   "metadata": {
    "code_folding": [
     0
    ]
   },
   "outputs": [],
   "source": [
    "def __make_plot_all_stations_and_furt_and_rotation(data, furt, rota, config, events=None):\n",
    "    \n",
    "    N = 4\n",
    "    font = 13\n",
    "    datasize = 0\n",
    "    \n",
    "    fig, axes = plt.subplots(N,1, figsize=[15,13], sharex=True)\n",
    "    \n",
    "    plt.subplots_adjust(hspace=0.1)\n",
    "    \n",
    "    max_val, min_val = np.zeros(N)*np.nan, np.zeros(N)*np.nan\n",
    "    \n",
    "    timeaxis_furt, ticks_furt, ticklabels_furt, text_furt = __get_timeaxis(\n",
    "                                                                           dates=furt.iloc[:,0], \n",
    "                                                                           times=furt.iloc[:,1], \n",
    "                                                                           unit=\"date\", \n",
    "                                                                           unitmode=\"absolute\",\n",
    "                                                                           dateformat=\"ddmmyy\",\n",
    "                                                                          ) \n",
    "\n",
    "    timeaxis_rota, ticks_rota, ticklabels_rota, text_rota = __get_timeaxis(\n",
    "                                                                           streamstats=rota[0].stats,\n",
    "                                                                           unit=\"date\", \n",
    "                                                                           unitmode=\"absolute\",\n",
    "                                                                          )   \n",
    "    NN = 0\n",
    "    for station in data.keys():\n",
    "        \n",
    "        df = data.get(station)\n",
    "\n",
    "        for u in range(3):\n",
    "            maximum = df.iloc[:,u+3].dropna().max()\n",
    "            minimum = df.iloc[:,u+3].dropna().min()\n",
    "            if maximum > max_val[u] or np.isnan(max_val[u]):\n",
    "                max_val[u] = maximum\n",
    "            if minimum < min_val[u] or np.isnan(min_val[u]):\n",
    "                min_val[u] = minimum\n",
    "            \n",
    "        \n",
    "        if NN != len(df.iloc[:,1]): \n",
    "            timeaxis, ticks, ticklabels, text = __get_timeaxis(dates=df.iloc[:,1], \n",
    "                                                               times=df.iloc[:,2], \n",
    "                                                               unit=\"date\", \n",
    "                                                               unitmode=\"absolute\",\n",
    "                                                               dateformat=\"yyyymmdd\",\n",
    "                                                              )\n",
    "            \n",
    "        NN = len(df.iloc[:,1])\n",
    "        \n",
    "        ## select ticks and ticklabels for longest data series\n",
    "        if df.shape[0] > datasize:\n",
    "            datasize = df.shape[0]\n",
    "            xticks = ticks\n",
    "            xlabels = ticklabels\n",
    "            timeaxis_min, timeaxis_max = timeaxis[0], timeaxis[-1]\n",
    "\n",
    "\n",
    "        ## plot data and adjust axes automatically\n",
    "        for i in range(N):\n",
    "            \n",
    "            if i == N-1:\n",
    "                axes[i].plot(timeaxis_rota, rota.select(channel=\"*Z\")[0].data, color='k', lw=1.5, zorder=2, label=\"TROMY E\")\n",
    "                axes[i].set_ylim(-1e-7, 1e-7)\n",
    "            else:\n",
    "                axes[i].plot(timeaxis, df.iloc[:,i+3].rolling(60).mean(), color=config['colors'][station], lw=1.5, zorder=2, label=station)\n",
    "\n",
    "                if station == list(data.keys())[-1]:\n",
    "                    axes[i].plot(timeaxis_furt, furt.iloc[:,i+2], color='darkgrey', lw=1.5, zorder=1, label=\"FURT\")\n",
    "\n",
    "            axes[i].grid(ls=\"--\",color='grey', zorder=0)\n",
    "            \n",
    "            if i == 0:\n",
    "                axes[i].set_ylabel(\"Temperature (°C)\",fontsize=font)\n",
    "            elif i == 1:\n",
    "                axes[i].set_ylabel(\"Air Pressure (hPa)\",fontsize=font)\n",
    "            elif i == 2:\n",
    "                axes[i].set_ylabel(\"rel. Humidity (%)\",fontsize=font)\n",
    "                axes[i].set_xlim(timeaxis_min, timeaxis_max)\n",
    "            elif i == 3:\n",
    "                axes[i].set_ylabel(\"Rotation (rad/s)\", fontsize=font)\n",
    "                \n",
    "                \n",
    "#             axes[N-1].set_xticklabels(xlabels[::4], fontsize=font-2)\n",
    "#             axes[N-1].set_xticks(xticks[::4])\n",
    "            axes[N-1].set_xticks(xticks)\n",
    "            axes[N-1].set_xticklabels(xlabels, fontsize=font-2)\n",
    "            axes[N-1].set_xlabel(text, fontsize=font)\n",
    "            axes[N-2].legend(loc='upper center', ncol=7+1, bbox_to_anchor=(0.5, 3.4), fancybox=True, fontsize=font-2)\n",
    "\n",
    "            \n",
    "            if events:\n",
    "                for event in events:\n",
    "#                     axes[i].axvline(event, color='r', zorder=0, ls=\"-.\")\n",
    "                    axes[i].axvspan(event[0], event[1], color=\"lightgrey\", alpha=0.4, zorder=1)\n",
    "          \n",
    "        ## adjust y-limits\n",
    "#     for k in range(N):\n",
    "#         axes[k].set_ylim(min_val[k]-0.005*min_val[k], max_val[k]+0.005*min_val[k])\n",
    "        \n",
    "    plt.show();\n",
    "    return fig\n",
    "\n",
    "__make_plot_all_stations_and_furt_and_rotation(data, furt, st, config, events=None);"
   ]
  },
  {
   "cell_type": "code",
   "execution_count": null,
   "id": "9536cead",
   "metadata": {},
   "outputs": [],
   "source": []
  },
  {
   "cell_type": "code",
   "execution_count": null,
   "id": "86451ac6",
   "metadata": {},
   "outputs": [],
   "source": []
  },
  {
   "cell_type": "code",
   "execution_count": null,
   "id": "fa408a22",
   "metadata": {},
   "outputs": [],
   "source": []
  }
 ],
 "metadata": {
  "kernelspec": {
   "display_name": "Python 3 (ipykernel)",
   "language": "python",
   "name": "python3"
  },
  "language_info": {
   "codemirror_mode": {
    "name": "ipython",
    "version": 3
   },
   "file_extension": ".py",
   "mimetype": "text/x-python",
   "name": "python",
   "nbconvert_exporter": "python",
   "pygments_lexer": "ipython3",
   "version": "3.10.12"
  },
  "toc": {
   "base_numbering": 1,
   "nav_menu": {},
   "number_sections": true,
   "sideBar": true,
   "skip_h1_title": false,
   "title_cell": "Table of Contents",
   "title_sidebar": "Contents",
   "toc_cell": false,
   "toc_position": {},
   "toc_section_display": true,
   "toc_window_display": false
  }
 },
 "nbformat": 4,
 "nbformat_minor": 5
}
