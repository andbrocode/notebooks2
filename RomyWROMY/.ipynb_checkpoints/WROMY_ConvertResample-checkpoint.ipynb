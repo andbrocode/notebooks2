{
 "cells": [
  {
   "cell_type": "markdown",
   "id": "e9ee9386",
   "metadata": {},
   "source": [
    "## Plot WROMY data"
   ]
  },
  {
   "cell_type": "code",
   "execution_count": 12,
   "id": "f27a8ba0",
   "metadata": {
    "ExecuteTime": {
     "end_time": "2022-08-31T23:10:30.158220Z",
     "start_time": "2022-08-31T23:10:30.152653Z"
    }
   },
   "outputs": [],
   "source": [
    "import pandas as pd\n",
    "import matplotlib.pyplot as plt\n",
    "import numpy as np\n",
    "import pickle\n",
    "import os\n",
    "\n",
    "from numpy import nan\n",
    "from pathlib import Path\n",
    "from obspy import UTCDateTime\n",
    "from tqdm.notebook import tqdm_notebook\n",
    "from datetime import datetime\n",
    "\n",
    "\n",
    "from andbro__get_timeaxis import __get_timeaxis"
   ]
  },
  {
   "cell_type": "markdown",
   "id": "faf1a2ff",
   "metadata": {},
   "source": [
    "### Methods"
   ]
  },
  {
   "cell_type": "code",
   "execution_count": 21,
   "id": "fe700894",
   "metadata": {
    "ExecuteTime": {
     "end_time": "2022-08-31T23:11:30.768400Z",
     "start_time": "2022-08-31T23:11:30.758690Z"
    },
    "code_folding": []
   },
   "outputs": [],
   "source": [
    "def __read_wromy_data(config, date):\n",
    "    '''\n",
    "    reads data from T1 to T2\n",
    "    '''\n",
    "    \n",
    "    doy = str(date.timetuple().tm_yday).rjust(3,\"0\")\n",
    "\n",
    "    path = f\"{config['pathToData']}{date.year}/BW/WROMY/{config['channel']}.D/\"\n",
    "\n",
    "    if not Path(path).exists():\n",
    "        __reply(f\"Path: {path}, does not exists!\")\n",
    "        return\n",
    "\n",
    "\n",
    "    fileName = f\"BW.WROMY.{config['channel']}.D.{date.year}.{doy}\"\n",
    "\n",
    "#         print(f'   reading {fileName} ...')\n",
    "\n",
    "    try:\n",
    "        df0 = pd.read_csv(path+fileName)\n",
    "        ## replace error indicating values (-9999, 999.9) with NaN values\n",
    "        df0.replace(to_replace=-9999, value=nan, inplace=True)\n",
    "        df0.replace(to_replace=999.9, value=nan, inplace=True)\n",
    "\n",
    "#             ## change time from in to 6 character string\n",
    "        df0.iloc[:,2] = [str(ttt).rjust(6,\"0\") for ttt in df0.iloc[:,2]]\n",
    "\n",
    "    except:\n",
    "        __reply(f\"File: {fileName}, does not exists!\")\n",
    "\n",
    "    \n",
    "    df0.reset_index(inplace=True, drop=True)\n",
    "\n",
    "    ## add columns with total seconds\n",
    "    \n",
    "    if 'Seconds' in df0.columns:\n",
    "        time_reference = datetime(2019,1,1)\n",
    "        time_offset_seconds = (datetime(date.year,date.month,date.day) - time_reference).total_seconds()\n",
    "        df0['totalSeconds'] = time_offset_seconds + df0['Seconds']\n",
    "    \n",
    "    \n",
    "    return df0"
   ]
  },
  {
   "cell_type": "markdown",
   "id": "a09ecf84",
   "metadata": {},
   "source": [
    "### Configurations"
   ]
  },
  {
   "cell_type": "code",
   "execution_count": 22,
   "id": "598bc2c0",
   "metadata": {
    "ExecuteTime": {
     "end_time": "2022-08-31T23:11:31.250378Z",
     "start_time": "2022-08-31T23:11:31.244288Z"
    }
   },
   "outputs": [],
   "source": [
    "config = {}\n",
    "\n",
    "config['channel'] = \"WS8\"\n",
    "\n",
    "config['tbeg'] = UTCDateTime(\"2022-08-28\")\n",
    "config['tend'] = UTCDateTime(\"2022-08-29\")\n",
    "\n",
    "config['date_range']  = pd.date_range(config['tbeg'].date, config['tend'].date)\n",
    "\n",
    "config['pathToData'] = f\"/import/freenas-ffb-01-data/romy_archive/\"\n",
    "config['pathToData'] = f\"/home/andbro/Downloads/tmp/wromy/\"\n",
    "\n",
    "config['pathToOutput'] = f\"/import/kilauea-data/wromy/{config['channel']}\"\n",
    "config['pathToOutput'] = f\"/home/andbro/Downloads/tmp/wromy/\"\n",
    "\n",
    "config['resample'] = 600\n",
    "\n"
   ]
  },
  {
   "cell_type": "code",
   "execution_count": 23,
   "id": "104fd3a2",
   "metadata": {
    "ExecuteTime": {
     "end_time": "2022-08-31T23:11:38.405690Z",
     "start_time": "2022-08-31T23:11:31.401008Z"
    }
   },
   "outputs": [],
   "source": [
    "config['channel'] = \"WS8\"\n",
    "\n",
    "\n",
    "df = pd.DataFrame()\n",
    "    \n",
    "for n, date in enumerate(config['date_range']):    \n",
    "                         \n",
    "    df_data = __read_wromy_data(config, date)\n",
    "    \n",
    "    df_data['TimeStamp'] = pd.to_datetime(df_data['Date'].astype(str)+df_data['Time (UTC)'].astype(str))\n",
    "    \n",
    "    df_resampled = df_data.resample(f\"{config['resample']/60}T\", on=\"TimeStamp\").mean()\n",
    "    \n",
    "    df_resampled.reset_index(inplace=True)\n",
    "    \n",
    "    df_resampled.pop(\"Date\")\n",
    "    df_resampled.pop(\"Seconds\")\n",
    "\n",
    "    filename = config['pathToOutput']+str(config['channel'])+\"_\"+str(date)[:10].replace(\"-\",\"\")\n",
    "#     df_resampled.to_csv(filename+\".csv\")\n",
    "    df_resampled.to_pickle(filename+\".pkl\")"
   ]
  },
  {
   "cell_type": "code",
   "execution_count": null,
   "id": "b310d410",
   "metadata": {},
   "outputs": [],
   "source": []
  }
 ],
 "metadata": {
  "kernelspec": {
   "display_name": "Python 3",
   "language": "python",
   "name": "python3"
  },
  "language_info": {
   "codemirror_mode": {
    "name": "ipython",
    "version": 3
   },
   "file_extension": ".py",
   "mimetype": "text/x-python",
   "name": "python",
   "nbconvert_exporter": "python",
   "pygments_lexer": "ipython3",
   "version": "3.7.8"
  },
  "latex_envs": {
   "LaTeX_envs_menu_present": true,
   "autoclose": false,
   "autocomplete": true,
   "bibliofile": "biblio.bib",
   "cite_by": "apalike",
   "current_citInitial": 1,
   "eqLabelWithNumbers": true,
   "eqNumInitial": 1,
   "hotkeys": {
    "equation": "Ctrl-E",
    "itemize": "Ctrl-I"
   },
   "labels_anchors": false,
   "latex_user_defs": false,
   "report_style_numbering": false,
   "user_envs_cfg": false
  },
  "toc": {
   "base_numbering": 1,
   "nav_menu": {},
   "number_sections": true,
   "sideBar": true,
   "skip_h1_title": false,
   "title_cell": "Table of Contents",
   "title_sidebar": "Contents",
   "toc_cell": false,
   "toc_position": {},
   "toc_section_display": true,
   "toc_window_display": false
  }
 },
 "nbformat": 4,
 "nbformat_minor": 5
}
