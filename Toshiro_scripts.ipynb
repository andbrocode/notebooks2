{
 "cells": [
  {
   "cell_type": "code",
   "execution_count": 1,
   "metadata": {},
   "outputs": [],
   "source": [
    " import subprocess"
   ]
  },
  {
   "cell_type": "code",
   "execution_count": 2,
   "metadata": {},
   "outputs": [
    {
     "name": "stdout",
     "output_type": "stream",
     "text": [
      "/home/andbro/Desktop/GJI/For_GJI/Analysis/test.py\n"
     ]
    }
   ],
   "source": [
    "workpath = \"/home/andbro/Desktop/GJI/For_GJI/\"\n",
    "\n",
    "scripts = workpath + 'Analysis/scripts/'\n",
    "files   = workpath + 'Analysis/textfiles/'\n",
    "plots   = workpath + 'Analysis/plots/'\n",
    "data    = workpath + 'Data/'\n"
   ]
  },
  {
   "cell_type": "code",
   "execution_count": null,
   "metadata": {},
   "outputs": [],
   "source": [
    "# commands = {\n",
    "#     \"cmd1\":scripts+\"plotDB_RLAS.m\",\n",
    "#     \"cmd2\":scripts+\"plotDB_RLAS.m\",\n",
    "# #     \"cmd3\":scripts+\"test.py\",\n",
    "# }"
   ]
  },
  {
   "cell_type": "markdown",
   "metadata": {},
   "source": [
    "### Executing Matlab scripts in the bash "
   ]
  },
  {
   "cell_type": "markdown",
   "metadata": {},
   "source": [
    "First define the script's location, name and options in a list of lists. Then loop over all the matlab scripts, each reading and writing input and output files in \"/datafiles\". "
   ]
  },
  {
   "cell_type": "code",
   "execution_count": null,
   "metadata": {},
   "outputs": [],
   "source": [
    "\n",
    "m_scripts = [ \n",
    "    [scripts, \"plotDB_RLAS.m\", \"\"],\n",
    "]\n"
   ]
  },
  {
   "cell_type": "code",
   "execution_count": null,
   "metadata": {},
   "outputs": [],
   "source": [
    "\n",
    "for cmd in m_scripts:\n",
    "    print(f'{cmd[0]}{cmd[1]} {cmd[2]}')   \n",
    "    !cd '{cmd[0]}' && matlab '{cmd[0]}{cmd[1]}' '{cmd[2]}'\n",
    "    "
   ]
  },
  {
   "cell_type": "markdown",
   "metadata": {},
   "source": [
    "### Executing C scripts in the bash "
   ]
  },
  {
   "cell_type": "markdown",
   "metadata": {},
   "source": [
    "First define the scripts location, name and options in a list of lists. Then loop over all the C scripts, each reading and writing input and output files in \"/datafiles\". "
   ]
  },
  {
   "cell_type": "code",
   "execution_count": 103,
   "metadata": {},
   "outputs": [],
   "source": [
    "\n",
    "c_scripts = [ \n",
    "    [scripts, \"test_andi.c\", \"-lm\"],\n",
    "    [scripts, \"average_rotation.c\", \"-lm\"],\n",
    "]\n"
   ]
  },
  {
   "cell_type": "code",
   "execution_count": 105,
   "metadata": {
    "scrolled": true
   },
   "outputs": [
    {
     "name": "stdout",
     "output_type": "stream",
     "text": [
      "/home/andbro/Desktop/GJI/For_GJI/Analysis/scripts/test_andi.c -lm\n",
      "Hello World\n",
      "/home/andbro/Desktop/GJI/For_GJI/Analysis/scripts/average_rotation.c -lm\n",
      "     0  9.392113e-22\n",
      "     1  1.062084e-21\n",
      "     2  6.384537e-22\n",
      "     3  1.095358e-21\n",
      "     4  1.571911e-21\n",
      "     5  2.143225e-21\n",
      "     6  2.154363e-21\n",
      "     7  2.032583e-21\n",
      "     8  4.560650e-21\n",
      "     9  2.203195e-21\n",
      "    10  5.693884e-21\n",
      "    11  5.420304e-21\n",
      "    12  6.546555e-20\n",
      "    13  1.121572e-19\n",
      "    14  1.373665e-19\n",
      "nn= 2771\n"
     ]
    }
   ],
   "source": [
    "\n",
    "for cmd in c_scripts:\n",
    "    print(f'{cmd[0]}{cmd[1]} {cmd[2]}')   \n",
    "    !cd '{cmd[0]}' && gcc '{cmd[0]}{cmd[1]}' '{cmd[2]}' && ./a.out\n",
    "    "
   ]
  },
  {
   "cell_type": "code",
   "execution_count": 8,
   "metadata": {},
   "outputs": [
    {
     "name": "stdout",
     "output_type": "stream",
     "text": [
      "/home/andbro/Desktop/GJI/For_GJI/Analysis/scripts/plotDB_RLAS.m\n",
      "b'backprojections\\nCompareReceivers.ipynb\\ndata\\ndemodulation2.ipynb\\ndemodulation_test.ipynb\\nfigs\\nFrequency-Demodulation.ipynb\\nglobal_rotations\\nglobal_rotations.ipynb\\nglobal_rotations.py\\ninstaseis_test.ipynb\\nMLE.ipynb\\nModulation.ipynb\\nObsPy-Basics.ipynb\\nQualityCheck\\nreceivers.ipynb\\nromy_array.ipynb\\nromy_mono_beams.ipynb\\nROMY_pyqt.ipynb\\nSeismicDataQuerry.ipynb\\nSeismicDataQuerry.py\\ntest.txt\\nToshiro_scripts.ipynb\\n'\n",
      "/home/andbro/Desktop/GJI/For_GJI/Analysis/scripts/plotDB_RLAS.m\n",
      "b'backprojections\\nCompareReceivers.ipynb\\ndata\\ndemodulation2.ipynb\\ndemodulation_test.ipynb\\nfigs\\nFrequency-Demodulation.ipynb\\nglobal_rotations\\nglobal_rotations.ipynb\\nglobal_rotations.py\\ninstaseis_test.ipynb\\nMLE.ipynb\\nModulation.ipynb\\nObsPy-Basics.ipynb\\nQualityCheck\\nreceivers.ipynb\\nromy_array.ipynb\\nromy_mono_beams.ipynb\\nROMY_pyqt.ipynb\\nSeismicDataQuerry.ipynb\\nSeismicDataQuerry.py\\ntest.txt\\nToshiro_scripts.ipynb\\n'\n"
     ]
    }
   ],
   "source": [
    "# for cmd in commands.values():\n",
    "#     print(cmd)\n",
    "\n",
    "# #     p = subprocess.Popen(['matlab', f'{cmd}'], stdout=subprocess.PIPE, stderr=subprocess.PIPE, shell=True)\n",
    "# #     p = subprocess.Popen(['python3', f'{cmd}'], stdout=subprocess.PIPE, stderr=subprocess.PIPE, shell=True) \n",
    "# #     p = subprocess.Popen(['ls', '-l'], stdout=subprocess.PIPE, stderr=subprocess.PIPE, shell=True) \n",
    "# #     stdout, stderr = p.communicate()\n",
    "#     p = subprocess.check_call(['ls', '-l'], stdout=subprocess.PIPE, stderr=subprocess.PIPE, shell=True) \n",
    "      \n",
    "#     print(stdout)"
   ]
  },
  {
   "cell_type": "code",
   "execution_count": null,
   "metadata": {},
   "outputs": [],
   "source": []
  },
  {
   "cell_type": "code",
   "execution_count": null,
   "metadata": {},
   "outputs": [],
   "source": []
  }
 ],
 "metadata": {
  "kernelspec": {
   "display_name": "Python 3",
   "language": "python",
   "name": "python3"
  },
  "language_info": {
   "codemirror_mode": {
    "name": "ipython",
    "version": 3
   },
   "file_extension": ".py",
   "mimetype": "text/x-python",
   "name": "python",
   "nbconvert_exporter": "python",
   "pygments_lexer": "ipython3",
   "version": "3.7.6"
  }
 },
 "nbformat": 4,
 "nbformat_minor": 4
}
