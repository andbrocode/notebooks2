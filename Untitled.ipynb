{
 "cells": [
  {
   "cell_type": "code",
   "execution_count": 1,
   "id": "4d325fed",
   "metadata": {
    "ExecuteTime": {
     "end_time": "2023-07-17T12:18:51.735612Z",
     "start_time": "2023-07-17T12:18:50.817925Z"
    }
   },
   "outputs": [],
   "source": [
    "import os\n",
    "import obspy as obs"
   ]
  },
  {
   "cell_type": "code",
   "execution_count": 2,
   "id": "5ac791c9",
   "metadata": {
    "ExecuteTime": {
     "end_time": "2023-07-17T12:18:52.321265Z",
     "start_time": "2023-07-17T12:18:52.314802Z"
    }
   },
   "outputs": [],
   "source": [
    "from andbro__querrySeismoData import __querrySeismoData\n",
    "from andbro__load_FURT_stream import __load_furt_stream"
   ]
  },
  {
   "cell_type": "code",
   "execution_count": 3,
   "id": "833c3cdd",
   "metadata": {
    "ExecuteTime": {
     "end_time": "2023-07-17T12:18:53.010893Z",
     "start_time": "2023-07-17T12:18:53.002710Z"
    }
   },
   "outputs": [],
   "source": [
    "if os.uname().nodename == 'lighthouse':\n",
    "    root_path = '/home/andbro/'\n",
    "    data_path = '/home/andbro/kilauea-data/'\n",
    "    archive_path = '/home/andbro/freenas/'\n",
    "elif os.uname().nodename == 'kilauea':\n",
    "    root_path = '/home/brotzer/'\n",
    "    data_path = '/import/kilauea-data/'\n",
    "    archive_path = '/import/freenas-ffb-01-data/'"
   ]
  },
  {
   "cell_type": "code",
   "execution_count": 4,
   "id": "9b6dd9c2",
   "metadata": {
    "ExecuteTime": {
     "end_time": "2023-07-17T12:18:56.068254Z",
     "start_time": "2023-07-17T12:18:56.054918Z"
    }
   },
   "outputs": [
    {
     "ename": "TypeError",
     "evalue": "__load_furt_stream() missing 1 required positional argument: 'config'",
     "output_type": "error",
     "traceback": [
      "\u001b[0;31m---------------------------------------------------------------------------\u001b[0m",
      "\u001b[0;31mTypeError\u001b[0m                                 Traceback (most recent call last)",
      "\u001b[0;32m/tmp/ipykernel_563582/3979831190.py\u001b[0m in \u001b[0;36m<module>\u001b[0;34m\u001b[0m\n\u001b[0;32m----> 1\u001b[0;31m \u001b[0m__load_furt_stream\u001b[0m\u001b[0;34m(\u001b[0m\u001b[0;34m)\u001b[0m\u001b[0;34m\u001b[0m\u001b[0;34m\u001b[0m\u001b[0m\n\u001b[0m",
      "\u001b[0;31mTypeError\u001b[0m: __load_furt_stream() missing 1 required positional argument: 'config'"
     ]
    }
   ],
   "source": [
    "__load_furt_stream(config)"
   ]
  },
  {
   "cell_type": "code",
   "execution_count": null,
   "id": "d807bc44",
   "metadata": {
    "ExecuteTime": {
     "start_time": "2023-07-17T12:18:42.623Z"
    }
   },
   "outputs": [],
   "source": [
    "# from obspy.clients.fdsn import Client\n",
    "\n",
    "# client = Client(\"LMU\")\n",
    "\n",
    "# client.get_stations(t1, t2, network=\"BW\", station=\"FURT\")"
   ]
  },
  {
   "cell_type": "code",
   "execution_count": null,
   "id": "e17e1a16",
   "metadata": {
    "ExecuteTime": {
     "start_time": "2023-07-17T12:18:42.810Z"
    }
   },
   "outputs": [],
   "source": [
    "config = {}\n",
    "\n",
    "config['tbeg'] = obs.UTCDateTime(\"2023-07-11 00:00\")\n",
    "config['tend'] = obs.UTCDateTime(\"2023-07-11 01:00\")\n",
    "\n",
    "config['seed_romy'] = \"BW.ROMY.10.BJZ\"\n",
    "\n",
    "config['path_to_archive'] = archive_path+\"romy_archive\"\n",
    "\n",
    "furt = __load_furt_stream(config)"
   ]
  },
  {
   "cell_type": "code",
   "execution_count": null,
   "id": "bda62c84",
   "metadata": {
    "ExecuteTime": {
     "start_time": "2023-07-17T12:18:43.003Z"
    }
   },
   "outputs": [],
   "source": [
    "st, inv = __querrySeismoData(\n",
    "                            seed_id=\"BW.ROMY.10.BJZ\",\n",
    "                            starttime=t1,\n",
    "                            endtime=t2,\n",
    "                            repository=\"george\",\n",
    "                            path=None,\n",
    "                            restitute=True,\n",
    "                            detail=None,\n",
    "                            fill_value=None,\n",
    ")"
   ]
  },
  {
   "cell_type": "code",
   "execution_count": null,
   "id": "0281f04d",
   "metadata": {
    "ExecuteTime": {
     "end_time": "2023-07-17T12:09:52.382770Z",
     "start_time": "2023-07-17T12:09:52.377661Z"
    }
   },
   "outputs": [],
   "source": [
    "from andbro__read_sds import __read_sds"
   ]
  },
  {
   "cell_type": "code",
   "execution_count": null,
   "id": "eae0cfee",
   "metadata": {
    "ExecuteTime": {
     "start_time": "2023-07-17T12:09:52.599Z"
    }
   },
   "outputs": [],
   "source": [
    "st = __read_sds(config['path_to_archive'], config['seed_romy'], config['tbeg'], config['tend'], data_format='MSEED')"
   ]
  },
  {
   "cell_type": "code",
   "execution_count": null,
   "id": "04d9d2a0",
   "metadata": {
    "ExecuteTime": {
     "start_time": "2023-07-17T12:10:39.169Z"
    }
   },
   "outputs": [],
   "source": [
    "st.plot()"
   ]
  },
  {
   "cell_type": "code",
   "execution_count": null,
   "id": "329019db",
   "metadata": {},
   "outputs": [],
   "source": []
  },
  {
   "cell_type": "code",
   "execution_count": null,
   "id": "37d2768d",
   "metadata": {},
   "outputs": [],
   "source": []
  }
 ],
 "metadata": {
  "kernelspec": {
   "display_name": "Python 3 (ipykernel)",
   "language": "python",
   "name": "python3"
  },
  "language_info": {
   "codemirror_mode": {
    "name": "ipython",
    "version": 3
   },
   "file_extension": ".py",
   "mimetype": "text/x-python",
   "name": "python",
   "nbconvert_exporter": "python",
   "pygments_lexer": "ipython3",
   "version": "3.9.16"
  },
  "toc": {
   "base_numbering": 1,
   "nav_menu": {},
   "number_sections": true,
   "sideBar": true,
   "skip_h1_title": false,
   "title_cell": "Table of Contents",
   "title_sidebar": "Contents",
   "toc_cell": false,
   "toc_position": {},
   "toc_section_display": true,
   "toc_window_display": false
  },
  "varInspector": {
   "cols": {
    "lenName": 16,
    "lenType": 16,
    "lenVar": 40
   },
   "kernels_config": {
    "python": {
     "delete_cmd_postfix": "",
     "delete_cmd_prefix": "del ",
     "library": "var_list.py",
     "varRefreshCmd": "print(var_dic_list())"
    },
    "r": {
     "delete_cmd_postfix": ") ",
     "delete_cmd_prefix": "rm(",
     "library": "var_list.r",
     "varRefreshCmd": "cat(var_dic_list()) "
    }
   },
   "types_to_exclude": [
    "module",
    "function",
    "builtin_function_or_method",
    "instance",
    "_Feature"
   ],
   "window_display": false
  }
 },
 "nbformat": 4,
 "nbformat_minor": 5
}
