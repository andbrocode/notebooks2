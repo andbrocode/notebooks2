{
 "cells": [
  {
   "cell_type": "code",
   "execution_count": 2,
   "id": "cd96b997",
   "metadata": {
    "ExecuteTime": {
     "end_time": "2023-04-19T13:12:48.092971Z",
     "start_time": "2023-04-19T13:12:45.835367Z"
    }
   },
   "outputs": [],
   "source": [
    "import obspy as obs \n",
    "from obspy.clients.fdsn import Client\n",
    "\n",
    "seed = \"PY.BSPF..HJ*\"\n",
    "tbeg = obs.UTCDateTime(\"2022-10-01 00:00\")\n",
    "tend = obs.UTCDateTime(\"2022-10-01 00:00\") + 60\n",
    "\n",
    "\n",
    "client = Client(\"IRIS\")\n",
    "\n",
    "net, sta, loc, cha = seed.split(\".\")\n",
    "\n",
    "\n",
    "# inventory = client.get_stations(network=net,\n",
    "#                                  station=sta,\n",
    "#                                  starttime=tbeg-60,\n",
    "#                                  endtime=tend+60,\n",
    "#                                  level=\"response\",\n",
    "#                                  )\n",
    "waveform = client.get_waveforms(network=net,\n",
    "                               station=sta,\n",
    "                               location=loc,\n",
    "                               channel=cha,\n",
    "                               starttime=tbeg-60,\n",
    "                               endtime=tend+60,\n",
    "                               )"
   ]
  },
  {
   "cell_type": "code",
   "execution_count": 3,
   "id": "f82aa475",
   "metadata": {
    "ExecuteTime": {
     "end_time": "2023-04-19T13:12:52.761732Z",
     "start_time": "2023-04-19T13:12:52.750425Z"
    }
   },
   "outputs": [
    {
     "data": {
      "text/plain": [
       "3 Trace(s) in Stream:\n",
       "PY.BSPF..HJ1 | 2022-09-30T23:59:00.001400Z - 2022-10-01T00:01:59.996400Z | 200.0 Hz, 36000 samples\n",
       "PY.BSPF..HJ2 | 2022-09-30T23:59:00.001400Z - 2022-10-01T00:01:59.996400Z | 200.0 Hz, 36000 samples\n",
       "PY.BSPF..HJ3 | 2022-09-30T23:59:00.001400Z - 2022-10-01T00:01:59.996400Z | 200.0 Hz, 36000 samples"
      ]
     },
     "execution_count": 3,
     "metadata": {},
     "output_type": "execute_result"
    }
   ],
   "source": [
    "waveform"
   ]
  },
  {
   "cell_type": "code",
   "execution_count": null,
   "id": "3f9660f3",
   "metadata": {},
   "outputs": [],
   "source": []
  }
 ],
 "metadata": {
  "kernelspec": {
   "display_name": "Python 3 (ipykernel)",
   "language": "python",
   "name": "python3"
  },
  "language_info": {
   "codemirror_mode": {
    "name": "ipython",
    "version": 3
   },
   "file_extension": ".py",
   "mimetype": "text/x-python",
   "name": "python",
   "nbconvert_exporter": "python",
   "pygments_lexer": "ipython3",
   "version": "3.7.8"
  },
  "toc": {
   "base_numbering": 1,
   "nav_menu": {},
   "number_sections": true,
   "sideBar": true,
   "skip_h1_title": false,
   "title_cell": "Table of Contents",
   "title_sidebar": "Contents",
   "toc_cell": false,
   "toc_position": {},
   "toc_section_display": true,
   "toc_window_display": false
  },
  "varInspector": {
   "cols": {
    "lenName": 16,
    "lenType": 16,
    "lenVar": 40
   },
   "kernels_config": {
    "python": {
     "delete_cmd_postfix": "",
     "delete_cmd_prefix": "del ",
     "library": "var_list.py",
     "varRefreshCmd": "print(var_dic_list())"
    },
    "r": {
     "delete_cmd_postfix": ") ",
     "delete_cmd_prefix": "rm(",
     "library": "var_list.r",
     "varRefreshCmd": "cat(var_dic_list()) "
    }
   },
   "types_to_exclude": [
    "module",
    "function",
    "builtin_function_or_method",
    "instance",
    "_Feature"
   ],
   "window_display": false
  }
 },
 "nbformat": 4,
 "nbformat_minor": 5
}
