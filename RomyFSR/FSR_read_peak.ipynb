{
 "cells": [
  {
   "cell_type": "code",
   "execution_count": 1,
   "id": "d59721e0-6939-4c1b-b2ab-e4138dac813c",
   "metadata": {},
   "outputs": [],
   "source": [
    "import numpy as np\n",
    "import pyvisa\n",
    "import time\n",
    "import datetime\n",
    "import os"
   ]
  },
  {
   "cell_type": "code",
   "execution_count": 2,
   "id": "7bc419f3-94b4-4a66-b6db-bb8fd933479a",
   "metadata": {},
   "outputs": [],
   "source": [
    "def store(_out, _filename):\n",
    "\n",
    "    with open(_filename, \"a\") as file:\n",
    "        file.write(_out)"
   ]
  },
  {
   "cell_type": "code",
   "execution_count": 74,
   "id": "56eea82d-3605-4a9b-a878-b52e65bbafdb",
   "metadata": {},
   "outputs": [
    {
     "name": "stdout",
     "output_type": "stream",
     "text": [
      " -> not connected\n"
     ]
    },
    {
     "ename": "UnboundLocalError",
     "evalue": "local variable 'inst' referenced before assignment",
     "output_type": "error",
     "traceback": [
      "\u001b[0;31m---------------------------------------------------------------------------\u001b[0m",
      "\u001b[0;31mUnboundLocalError\u001b[0m                         Traceback (most recent call last)",
      "Cell \u001b[0;32mIn[74], line 67\u001b[0m\n\u001b[1;32m     64\u001b[0m         time\u001b[38;5;241m.\u001b[39msleep(\u001b[38;5;241m1\u001b[39m)\n\u001b[1;32m     66\u001b[0m \u001b[38;5;28;01mif\u001b[39;00m \u001b[38;5;18m__name__\u001b[39m \u001b[38;5;241m==\u001b[39m \u001b[38;5;124m\"\u001b[39m\u001b[38;5;124m__main__\u001b[39m\u001b[38;5;124m\"\u001b[39m:\n\u001b[0;32m---> 67\u001b[0m     \u001b[43mmain\u001b[49m\u001b[43m(\u001b[49m\u001b[43m)\u001b[49m\n",
      "Cell \u001b[0;32mIn[74], line 50\u001b[0m, in \u001b[0;36mmain\u001b[0;34m()\u001b[0m\n\u001b[1;32m     46\u001b[0m \u001b[38;5;28;01mwhile\u001b[39;00m elapsed_time \u001b[38;5;241m<\u001b[39m tmax_sec:\n\u001b[1;32m     47\u001b[0m \n\u001b[1;32m     48\u001b[0m     \u001b[38;5;66;03m# get data\u001b[39;00m\n\u001b[1;32m     49\u001b[0m     _t \u001b[38;5;241m=\u001b[39m datetime\u001b[38;5;241m.\u001b[39mdatetime\u001b[38;5;241m.\u001b[39mutcnow()\n\u001b[0;32m---> 50\u001b[0m     _x \u001b[38;5;241m=\u001b[39m \u001b[43minst\u001b[49m\u001b[38;5;241m.\u001b[39mquery_ascii_values(\u001b[38;5;124m'\u001b[39m\u001b[38;5;124mCALC:MARK:FUNC:FPE:X?\u001b[39m\u001b[38;5;124m'\u001b[39m)\n\u001b[1;32m     51\u001b[0m     _y \u001b[38;5;241m=\u001b[39m inst\u001b[38;5;241m.\u001b[39mquery_ascii_values(\u001b[38;5;124m'\u001b[39m\u001b[38;5;124mCALC:MARK:FUNC:FPE:Y?\u001b[39m\u001b[38;5;124m'\u001b[39m)\n\u001b[1;32m     53\u001b[0m     \u001b[38;5;66;03m# compute elapsed time since start\u001b[39;00m\n",
      "\u001b[0;31mUnboundLocalError\u001b[0m: local variable 'inst' referenced before assignment"
     ]
    }
   ],
   "source": [
    "def main():\n",
    "\n",
    "    try:\n",
    "        rm = pyvisa.ResourceManager()\n",
    "        print(' -> available ressources:', rm.list_resources())\n",
    "\n",
    "        # connect via ETH\n",
    "        inst = rm.open_resource('TCPIP0::10.5.5.5::inst0::INSTR')\n",
    "\n",
    "        # connect via USB\n",
    "        # inst = rm.open_resource('USB::0x0AAD::0x0119::022019943::INSTR')\n",
    "\n",
    "        inst.read_termination = '\\n'\n",
    "\n",
    "        inst.write_termination = '\\n'\n",
    "\n",
    "        # Query the Identification string\n",
    "        print(' -> connected to: ', inst.query('*IDN?'))\n",
    "\n",
    "        # Clear instrument io buffers and status\n",
    "        inst.clear()\n",
    "\n",
    "        inst.write('GTR')\n",
    "\n",
    "        inst.write('SYSTem:DISPlay:UPDate ON')\n",
    "\n",
    "        # inst.write('*RST') # Reset device\n",
    "        # inst.write('INIT:CONT OFF')  # Switch OFF the continuous sweep\n",
    "\n",
    "    except:\n",
    "        print(f\" -> not connected\")\n",
    "\n",
    "    tmax_sec = 3*86400\n",
    "\n",
    "    # get starttime as utc\n",
    "    starttime = datetime.datetime.now()\n",
    "\n",
    "    elapsed_time = 0\n",
    "\n",
    "    # specify filename\n",
    "    path = \"/home/brotzer/Downloads/\"\n",
    "    filename = path+f\"romy_fsr_{starttime.strftime('%Y%m%dT%H%M%S')}.csv\"\n",
    "\n",
    "    # create file with header if not existent\n",
    "    if not os.path.isfile(filename):\n",
    "        f = open(filename, \"w\")\n",
    "        f.write(\"datetime,x_hz,y_dbm\\n\")\n",
    "        f.close()\n",
    "\n",
    "    while elapsed_time < tmax_sec:\n",
    "\n",
    "        # get data\n",
    "        _t = datetime.datetime.utcnow()\n",
    "        try:\n",
    "            _x = inst.query_ascii_values('CALC:MARK:FUNC:FPE:X?')\n",
    "            _y = inst.query_ascii_values('CALC:MARK:FUNC:FPE:Y?')\n",
    "        except:\n",
    "            _x, _y = np.nan, np.nan\n",
    "\n",
    "        # compute elapsed time since start\n",
    "        _delta = datetime.datetime.now() - starttime\n",
    "        elapsed_time = _delta.seconds\n",
    "\n",
    "        # form output string\n",
    "        out = f\"{_t},{_x},{_y}\\n\"\n",
    "\n",
    "        # write output\n",
    "        store(out, filename)\n",
    "\n",
    "        # Wait for 1 second\n",
    "        time.sleep(1)\n",
    "\n",
    "if __name__ == \"__main__\":\n",
    "    main()\n"
   ]
  },
  {
   "cell_type": "code",
   "execution_count": null,
   "id": "6c286ffd-33ae-4846-a3d6-d1ef374ee016",
   "metadata": {},
   "outputs": [],
   "source": []
  }
 ],
 "metadata": {
  "kernelspec": {
   "display_name": "Python 3 (ipykernel)",
   "language": "python",
   "name": "python3"
  },
  "language_info": {
   "codemirror_mode": {
    "name": "ipython",
    "version": 3
   },
   "file_extension": ".py",
   "mimetype": "text/x-python",
   "name": "python",
   "nbconvert_exporter": "python",
   "pygments_lexer": "ipython3",
   "version": "3.9.19"
  }
 },
 "nbformat": 4,
 "nbformat_minor": 5
}
