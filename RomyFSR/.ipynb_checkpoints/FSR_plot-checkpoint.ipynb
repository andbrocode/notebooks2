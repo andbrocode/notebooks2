{
 "cells": [
  {
   "cell_type": "code",
   "execution_count": 24,
   "id": "70390599-8480-4f5c-98f9-477199ba9746",
   "metadata": {
    "tags": []
   },
   "outputs": [],
   "source": [
    "import os\n",
    "import pandas as pd\n",
    "import obspy as obs\n",
    "import numpy as np\n",
    "import matplotlib.pyplot as plt\n",
    "\n",
    "from datetime import datetime, timezone"
   ]
  },
  {
   "cell_type": "code",
   "execution_count": 25,
   "id": "c5c40b50-5b9a-4cd8-b4d2-ab0623f9edac",
   "metadata": {
    "tags": []
   },
   "outputs": [],
   "source": [
    "if os.uname().nodename == 'lighthouse':\n",
    "    root_path = '/home/andbro/'\n",
    "    data_path = '/home/andbro/kilauea-data/'\n",
    "    archive_path = '/home/andbro/freenas/'\n",
    "    bay_path = '/home/andbro/ontap-ffb-bay200/'\n",
    "    lamont_path = '/home/andbro/lamont/'\n",
    "elif os.uname().nodename == 'kilauea':\n",
    "    root_path = '/home/brotzer/'\n",
    "    data_path = '/import/kilauea-data/'\n",
    "    archive_path = '/import/freenas-ffb-01-data/'\n",
    "    bay_path = '/import/ontap-ffb-bay200/'\n",
    "    lamont_path = '/lamont/'\n",
    "elif os.uname().nodename in ['lin-ffb-01', 'ambrym', 'hochfelln']:\n",
    "    root_path = '/home/brotzer/'\n",
    "    data_path = '/import/kilauea-data/'\n",
    "    archive_path = '/import/freenas-ffb-01-data/'\n",
    "    bay_path = '/import/ontap-ffb-bay200/'\n",
    "    lamont_path = '/lamont/'"
   ]
  },
  {
   "cell_type": "code",
   "execution_count": 26,
   "id": "a5eb1228-bce4-4e72-b4bf-ef5293d43333",
   "metadata": {},
   "outputs": [],
   "source": [
    "def __reduce(dat, n_samples):\n",
    "    from numpy import nanmean, isnan\n",
    "    _dat = dat[~isnan(dat)]\n",
    "    return dat - nanmean(_dat[:n_samples])"
   ]
  },
  {
   "cell_type": "code",
   "execution_count": 27,
   "id": "583a8cc6-911a-43bf-ac53-7188c764569c",
   "metadata": {
    "tags": []
   },
   "outputs": [],
   "source": [
    "def __smooth(y, npts, win=\"hanning\", setpad=True):\n",
    "\n",
    "    from numpy import ones, convolve, hanning, nan, pad\n",
    "\n",
    "    if win == \"hanning\":\n",
    "        win = hanning(npts)\n",
    "    elif win == \"boxcar\":\n",
    "        win = ones(npts)\n",
    "\n",
    "    if setpad:\n",
    "        y = pad(y, npts, mode=\"edge\")\n",
    "\n",
    "    y_smooth = convolve(y, win/sum(win), mode='same')\n",
    "\n",
    "    if setpad:\n",
    "        y_smooth = y_smooth[npts:-npts]\n",
    "\n",
    "    return y_smooth"
   ]
  },
  {
   "cell_type": "code",
   "execution_count": 28,
   "id": "d81e213a-cd90-4c22-9ba0-af0c9232a4d3",
   "metadata": {
    "tags": []
   },
   "outputs": [],
   "source": [
    "def __load_fsr_data(tbeg, tend, path_to_data):\n",
    "\n",
    "    from obspy import UTCDateTime\n",
    "    from datetime import date\n",
    "    from pandas import read_csv, concat, DataFrame, date_range, to_datetime\n",
    "\n",
    "    t1 = date.fromisoformat(str(UTCDateTime(tbeg).date))\n",
    "    t2 = date.fromisoformat(str((UTCDateTime(tend)).date))\n",
    "\n",
    "    df = DataFrame()\n",
    "    for dat in date_range(t1, t2):\n",
    "        print(str(dat)[:10])\n",
    "        file = f\"romy_fsr_{str(dat)[:10].replace('-','')}.csv\"\n",
    "        try:\n",
    "            df0 = read_csv(path_to_data+file)\n",
    "            df = concat([df, df0])\n",
    "        except:\n",
    "            print(f\"error for {file}\")\n",
    "\n",
    "    # remove NaN from time column\n",
    "    # df.dropna(subset=['time'], inplace=True)\n",
    "\n",
    "    df = df[(df.datetime >= config['tbeg']) & (df.datetime <= config['tend'])]\n",
    "\n",
    "    # reset the index column\n",
    "    df.reset_index(inplace=True, drop=True)\n",
    "\n",
    "    # add column for relative time in seconds\n",
    "    df['time_sec'] = [UTCDateTime(str(_t)) - UTCDateTime(df.datetime.iloc[0]) for _t in df.datetime]\n",
    "\n",
    "    return df"
   ]
  },
  {
   "cell_type": "code",
   "execution_count": 29,
   "id": "a91f217a-4a8f-422f-a542-b0d066d2e9b9",
   "metadata": {
    "tags": []
   },
   "outputs": [],
   "source": [
    "config = {}\n",
    "\n",
    "# path to data\n",
    "# config['path'] = \"./data/\"\n",
    "config['path'] = data_path+\"/romy_fsr/data/\"\n",
    "\n",
    "# specify time period\n",
    "# config['name'] = \"ex1\"\n",
    "# config['tbeg'] = \"2024-08-21\"\n",
    "# config['tend'] = \"2024-08-29\"\n",
    "\n",
    "# specify time period\n",
    "config['name'] = \"ex2\"\n",
    "config['tbeg'] = \"2024-08-29 11:00\"\n",
    "config['tend'] = \"2024-09-05 00:00\"\n",
    "\n",
    "config['path_to_figs'] = data_path+\"romy_fsr/figures/\"\n"
   ]
  },
  {
   "cell_type": "code",
   "execution_count": 30,
   "id": "abc9cd13-0ab5-4292-bb58-1854dd58ce38",
   "metadata": {
    "tags": []
   },
   "outputs": [
    {
     "name": "stdout",
     "output_type": "stream",
     "text": [
      "2024-08-29\n",
      "2024-08-30\n",
      "2024-08-31\n",
      "2024-09-01\n",
      "2024-09-02\n",
      "2024-09-03\n",
      "2024-09-04\n",
      "error for romy_fsr_20240904.csv\n",
      "2024-09-05\n",
      "error for romy_fsr_20240905.csv\n"
     ]
    }
   ],
   "source": [
    "df0 = __load_fsr_data(config['tbeg'], config['tend'], config['path'])"
   ]
  },
  {
   "cell_type": "code",
   "execution_count": 31,
   "id": "51b3de18-2ae2-4e83-ac34-06addb968d6b",
   "metadata": {
    "tags": []
   },
   "outputs": [],
   "source": [
    "# df0['datetime'] = [datetime.fromisoformat(_dt).astimezone(timezone.utc) for _dt in df0.datetime]"
   ]
  },
  {
   "cell_type": "code",
   "execution_count": 32,
   "id": "b75ae6a2-a908-4f07-b288-c05e6f8d4089",
   "metadata": {
    "tags": []
   },
   "outputs": [],
   "source": [
    "# free spectral range of ROMY\n",
    "fsr = 8.94e6\n",
    "\n",
    "# nth FSR peak\n",
    "nth = 12\n",
    "\n",
    "# side length of cavity\n",
    "L = 11.2\n",
    "\n",
    "# perimeter of cavity\n",
    "P = 3*L\n",
    "\n",
    "# power threshold\n",
    "dbm_threshold = 110\n"
   ]
  },
  {
   "cell_type": "code",
   "execution_count": 33,
   "id": "190c7943-09f9-4c5a-bea8-dc1744388f83",
   "metadata": {
    "tags": []
   },
   "outputs": [],
   "source": [
    "\n",
    "# starttime = obs.UTCDateTime(df0.datetime.iloc[0])\n",
    "\n",
    "# df0['time_sec'] = np.array([obs.UTCDateTime(_dt) - starttime for _dt in df0.datetime])"
   ]
  },
  {
   "cell_type": "code",
   "execution_count": null,
   "id": "b00e9337-39cb-4237-97ea-31dd4dfe5261",
   "metadata": {
    "tags": []
   },
   "outputs": [],
   "source": [
    "df = df0.copy()\n",
    "\n",
    "df['time_utc'] = [obs.UTCDateTime(_t) for _t in df.datetime]\n",
    "\n",
    "fmode = round(df.x_hz.iloc[0]*1e-6, 10)\n",
    "\n",
    "df['x_mod'] = np.where(abs(df.y_dbm) < dbm_threshold, df.x_hz, np.nan)\n",
    "df['y_mod'] = np.where(abs(df.y_dbm) < dbm_threshold, df.y_dbm, np.nan)\n",
    "\n",
    "df['disp'] = (3e8 / (df.x_mod / nth))\n"
   ]
  },
  {
   "cell_type": "code",
   "execution_count": null,
   "id": "0aa38f7c-18d3-4897-99f3-0fe3b58c215b",
   "metadata": {},
   "outputs": [],
   "source": [
    "3e8/9*1e-6"
   ]
  },
  {
   "cell_type": "code",
   "execution_count": null,
   "id": "51f31aaf-3f43-4ae2-8033-8fd4626d7a27",
   "metadata": {},
   "outputs": [],
   "source": [
    "df = df.dropna()"
   ]
  },
  {
   "cell_type": "code",
   "execution_count": null,
   "id": "1f717e90-93db-40be-9b48-cb55137925b0",
   "metadata": {
    "tags": []
   },
   "outputs": [],
   "source": [
    "Nwin = 7200\n",
    "df['x_mod_avg'] = df['x_mod'].rolling(Nwin, center=True).mean()\n",
    "df['x_mod_std'] = df['x_mod'].rolling(Nwin, center=True).std()\n",
    "\n",
    "df['disp_avg'] = df['disp'].rolling(Nwin, center=True).mean()\n",
    "df['disp_std'] = df['disp'].rolling(Nwin, center=True).std()\n"
   ]
  },
  {
   "cell_type": "code",
   "execution_count": null,
   "id": "5dedfbc5-7c1e-494e-85a7-0a7c1521af24",
   "metadata": {},
   "outputs": [],
   "source": [
    "df['x_mod_rel'] = __reduce(df.x_mod, 10)\n",
    "\n",
    "# df['x_mod_avg_rel'] = __reduce(df.x_mod_avg, 10)\n",
    "# df['x_mod_std_rel'] = __reduce(df.x_mod_std, 10)\n",
    "\n",
    "# df['disp_avg_rel'] = __reduce(df.disp, 10)\n",
    "# df['disp_std_rel'] = __reduce(df.disp, 10)\n",
    "\n",
    "df['x_mod_avg_rel'] = df['x_mod_avg'] - np.nanmean(df.x_mod[:10])\n",
    "\n",
    "df['disp_avg_rel'] = df['disp_avg'] - np.nanmean(df.disp[:10])\n",
    "\n"
   ]
  },
  {
   "cell_type": "code",
   "execution_count": null,
   "id": "6504c8fb-c69c-4b18-b7ec-80f4049ac302",
   "metadata": {
    "tags": []
   },
   "outputs": [],
   "source": [
    "# tsec = 7200\n",
    "\n",
    "# df['x_mod_avg_rel_sth'] = __smooth(df.x_mod_avg_rel, tsec)\n",
    "\n",
    "# df['disp_rel_sth'] = __smooth(df.disp_rel, tsec)\n"
   ]
  },
  {
   "cell_type": "code",
   "execution_count": null,
   "id": "a8b373ed-e67e-49d6-8b74-b7ddd2254edc",
   "metadata": {
    "tags": []
   },
   "outputs": [],
   "source": [
    "def __makeplot(df):\n",
    "\n",
    "    import matplotlib.pyplot as plt\n",
    "    from matplotlib.ticker import (MultipleLocator, AutoMinorLocator)\n",
    "\n",
    "    Nrow, Ncol = 2, 1\n",
    "\n",
    "    xscale = 1\n",
    "\n",
    "    tscale, tunit = 1/86400, \"days\"\n",
    "\n",
    "    font = 12\n",
    "\n",
    "    fig, ax = plt.subplots(Nrow, Ncol, figsize=(12, 5), sharex=True)\n",
    "\n",
    "    plt.subplots_adjust(hspace=0.1)\n",
    "\n",
    "    ax[0].plot(df['time_sec']*tscale, df.x_mod_avg_rel, color=\"k\", label=f\"{nth}th FSR ({fmode} MHz)\")\n",
    "    ax[0].fill_between(df['time_sec']*tscale,\n",
    "                       df.x_mod_avg_rel-df.x_mod_std,\n",
    "                       df.x_mod_avg_rel+df.x_mod_std,\n",
    "                       color=\"tab:blue\", alpha=0.5)\n",
    "    # ax[0].plot(df['time_sec']*tscale, df.x_mod_avg_rel_sth, \"k\", label=f\"mov. avg. ({tsec} s)\", zorder=5)\n",
    "    ax[0].ticklabel_format(useOffset=False)\n",
    "\n",
    "    # ax[0].set_ylim(-220, 10)\n",
    "\n",
    "    ax[1].plot(df['time_sec']*tscale, df.y_dbm)\n",
    "    ax[1].axhline(-dbm_threshold, color=\"darkred\", ls=\"--\", label=\"mode threshold\")\n",
    "\n",
    "    for i in range(Nrow):\n",
    "        ax[i].grid(which=\"both\", ls=\"--\", color=\"grey\", alpha=0.5, zorder=0)\n",
    "        ax[i].legend(loc=1, fontsize=font-2)\n",
    "        ax[i].xaxis.set_major_locator(MultipleLocator(1))\n",
    "        ax[i].xaxis.set_minor_locator(MultipleLocator(.25))\n",
    "\n",
    "    ax[0].set_ylabel(\"relative Frequency (Hz)\", fontsize=font)\n",
    "    ax[1].set_ylabel(\"Peak Power (dBm)\", fontsize=font)\n",
    "    ax[1].set_xlabel(f\"Time ({tunit})\", fontsize=font)\n",
    "\n",
    "    plt.show();\n",
    "    return fig\n",
    "\n",
    "fig = __makeplot(df);\n"
   ]
  },
  {
   "cell_type": "code",
   "execution_count": null,
   "id": "d5b0cc27-1778-4684-93af-455f383aeb51",
   "metadata": {
    "tags": []
   },
   "outputs": [],
   "source": [
    "def __makeplot(df):\n",
    "\n",
    "    import matplotlib.pyplot as plt\n",
    "    from matplotlib.ticker import (MultipleLocator, AutoMinorLocator)\n",
    "\n",
    "    Nrow, Ncol = 3, 1\n",
    "\n",
    "    xscale = 1\n",
    "\n",
    "    tscale, tunit = 1/86400, \"days\"\n",
    "\n",
    "    dscale, dunit = 1e6, \"$\\mu$m\"\n",
    "\n",
    "    font = 12\n",
    "\n",
    "    fig, ax = plt.subplots(Nrow, Ncol, figsize=(12, 7), sharex=True)\n",
    "\n",
    "    plt.subplots_adjust(hspace=0.1)\n",
    "\n",
    "    # tsec = 7200\n",
    "    # ax[0].scatter(df['time_sec']*tscale, df.x_mod_rel, s=.5, color=\"grey\", label=f\"{n}th FSR ({fmode} MHz)\")\n",
    "    # ax[0].scatter(df['time_sec']*tscale, df.x_mod_avg_rel, s=.5, color=\"tab:blue\", label=f\"cleaned\")\n",
    "    # ax[0].plot(df['time_sec']*tscale, df.x_mod_avg_rel_sth, \"k\", label=f\"mov. avg. ({tsec} s)\", zorder=5)\n",
    "    ax[0].plot(df['time_sec']*tscale, df.x_mod_avg_rel, color=\"k\", label=f\"{nth}th FSR ({fmode} MHz)\")\n",
    "    ax[0].fill_between(df['time_sec']*tscale,\n",
    "                       df.x_mod_avg_rel-2*df.x_mod_std,\n",
    "                       df.x_mod_avg_rel+2*df.x_mod_std,\n",
    "                       color=\"tab:blue\", alpha=0.5)\n",
    "    ax[0].ticklabel_format(useOffset=False)\n",
    "    # ax[0].set_ylim(-250, 10)\n",
    "\n",
    "    # ax[1].scatter(df['time_sec']*tscale, df.disp_rel_avg*dscale, s=.5, color=\"tab:red\", label=f\"$\\Delta$P = c / $\\Delta$FSR\")\n",
    "    # ax[1].plot(df['time_sec']*tscale, df.disp_rel_sth*dscale, \"k\", label=f\"mov. avg. ({tsec} s)\", zorder=5)\n",
    "    ax[1].plot(df['time_sec']*tscale, df.disp_avg_rel*dscale, color=\"k\", label=f\"$\\Delta$P = c / $\\Delta$FSR\")\n",
    "    ax[1].fill_between(df['time_sec']*tscale,\n",
    "                       df.disp_avg_rel*dscale-2*df.disp_std*dscale,\n",
    "                       df.disp_avg_rel*dscale+2*df.disp_std*dscale,\n",
    "                       color=\"tab:red\", alpha=0.5)\n",
    "    ax[1].ticklabel_format(useOffset=False)\n",
    "    # ax[1].set_ylim(-2, 80)\n",
    "\n",
    "    ax[2].plot(df['time_sec']*tscale, df.y_dbm, alpha=0.5)\n",
    "    ax[2].plot(df['time_sec']*tscale, df.y_mod, color=\"tab:blue\")\n",
    "    ax[2].axhline(-dbm_threshold, color=\"darkred\", ls=\"--\", label=\"mode threshold\")\n",
    "\n",
    "    for i in range(Nrow):\n",
    "        ax[i].grid(which=\"both\", ls=\"--\", color=\"grey\", alpha=0.5, zorder=0)\n",
    "        ax[i].legend(loc=1, fontsize=font-2)\n",
    "        ax[i].xaxis.set_major_locator(MultipleLocator(1))\n",
    "        ax[i].xaxis.set_minor_locator(MultipleLocator(0.25))\n",
    "\n",
    "    ax[1].legend(loc=4, fontsize=font-2)\n",
    "\n",
    "    ax[0].set_ylabel(f\"rel. Frequency (Hz)\", fontsize=font)\n",
    "    ax[1].set_ylabel(f\"rel. Perimeter ({dunit})\", fontsize=font)\n",
    "    ax[2].set_ylabel(f\"Peak Power (dBm)\", fontsize=font)\n",
    "    ax[2].set_xlabel(f\"Time ({tunit})\", fontsize=font)\n",
    "\n",
    "    for _k, ll in enumerate(['(a)','(b)','(c)']):\n",
    "        ax[_k].text(0.005, 0.97, ll, ha=\"left\", va=\"top\", transform=ax[_k].transAxes, fontsize=font+1)\n",
    "\n",
    "    plt.show();\n",
    "    return fig\n",
    "\n",
    "fig = __makeplot(df);\n",
    "\n",
    "fig.savefig(config['path_to_figs']+f\"RomyFSR_{config['name']}.png\", format=\"png\", dpi=150, bbox_inches='tight')\n"
   ]
  },
  {
   "cell_type": "code",
   "execution_count": null,
   "id": "493b13aa-6260-46be-b1e3-9a7c4e9663bd",
   "metadata": {},
   "outputs": [],
   "source": [
    "dL = 7e-6 / 3\n",
    "gf = np.sqrt(3)/3\n",
    "lamda = 632.8e-9\n",
    "omegaE = 2*np.pi/86400\n",
    "L = 33.5/3\n",
    "\n",
    "df = omegaE * gf * dL / lamda\n",
    "\n",
    "df * 1e3"
   ]
  },
  {
   "cell_type": "code",
   "execution_count": null,
   "id": "b6c056df-298a-4333-b13e-a2257eced454",
   "metadata": {
    "tags": []
   },
   "outputs": [],
   "source": [
    "def __makeplot(df):\n",
    "\n",
    "    import matplotlib.pyplot as plt\n",
    "    from matplotlib.ticker import (MultipleLocator, AutoMinorLocator)\n",
    "\n",
    "    Nrow, Ncol = 3, 1\n",
    "\n",
    "    xscale = 1\n",
    "\n",
    "    tscale, tunit = 1/86400, \"days\"\n",
    "\n",
    "    dscale, dunit = 1e6, \"$\\mu$m\"\n",
    "\n",
    "    font = 12\n",
    "\n",
    "    fig, ax = plt.subplots(Nrow, Ncol, figsize=(12, 7), sharex=True)\n",
    "\n",
    "    plt.subplots_adjust(hspace=0.1)\n",
    "\n",
    "    ax[0].scatter(df['time_sec']*tscale, df.x_mod_rel, s=1, color=\"grey\", label=f\"{n}th FSR ({fmode} MHz)\")\n",
    "    ax[0].scatter(df['time_sec']*tscale, df.x_mod_avg_rel, s=1, color=\"tab:blue\", label=f\"cleaned\")\n",
    "    # ax[0].plot(df['time_sec']*tscale, df.x_mod_avg_rel_sth, \"k\", label=f\"mov. avg. ({tsec} s)\", zorder=5)\n",
    "    ax[0].ticklabel_format(useOffset=False)\n",
    "    ax[0].set_ylim(-250, 10)\n",
    "\n",
    "    ax[1].scatter(df['time_sec']*tscale, df.disp_avg_rel*dscale, s=1, color=\"tab:red\", label=f\"$\\Delta$P = c / $\\Delta$FSR\")\n",
    "    # ax[1].plot(df['time_sec']*tscale, df.disp_rel_sth*dscale, \"k\", label=f\"mov. avg. ({tsec} s)\", zorder=5)\n",
    "    ax[1].ticklabel_format(useOffset=False)\n",
    "    ax[1].set_ylim(-2, 90)\n",
    "\n",
    "    ax[2].plot(df['time_sec']*tscale, df.y_dbm, alpha=0.5)\n",
    "    ax[2].plot(df['time_sec']*tscale, df.y_mod, color=\"tab:blue\")\n",
    "    ax[2].axhline(-dbm_threshold, color=\"darkred\", ls=\"--\", label=\"mode threshold\")\n",
    "\n",
    "    for i in range(Nrow):\n",
    "        ax[i].grid(which=\"both\", ls=\"--\", color=\"grey\", alpha=0.5, zorder=0)\n",
    "        ax[i].legend(loc=1, fontsize=font-2)\n",
    "        ax[i].xaxis.set_major_locator(MultipleLocator(1))\n",
    "        ax[i].xaxis.set_minor_locator(MultipleLocator(0.25))\n",
    "\n",
    "    ax[1].legend(loc=4, fontsize=font-2)\n",
    "\n",
    "    ax[0].set_ylabel(f\"rel. Frequency (Hz)\", fontsize=font)\n",
    "    ax[1].set_ylabel(f\"rel. Perimeter ({dunit})\", fontsize=font)\n",
    "    ax[2].set_ylabel(f\"Peak Power (dBm)\", fontsize=font)\n",
    "    ax[2].set_xlabel(f\"Time ({tunit})\", fontsize=font)\n",
    "\n",
    "    for _k, ll in enumerate(['(a)','(b)','(c)']):\n",
    "        ax[_k].text(0.005, 0.97, ll, ha=\"left\", va=\"top\", transform=ax[_k].transAxes, fontsize=font+1)\n",
    "\n",
    "        ax[_k].set_xlim(110/24, 160/24)\n",
    "\n",
    "    ax[0].set_ylim(-220, -190)\n",
    "    ax[1].set_ylim(60, 70)\n",
    "    ax[1].yaxis.set_minor_locator(MultipleLocator(0.633))\n",
    "    ax[1].yaxis.set_major_locator(MultipleLocator(3*0.633))\n",
    "\n",
    "    plt.show();\n",
    "    return fig\n",
    "\n",
    "# fig = __makeplot(df);\n",
    "\n",
    "# fig.savefig(config['path_to_figs']+f\"RomyFSR_{config['name']}_zoomin.png\", format=\"png\", dpi=150, bbox_inches='tight')\n"
   ]
  },
  {
   "cell_type": "code",
   "execution_count": null,
   "id": "6c286ffd-33ae-4846-a3d6-d1ef374ee016",
   "metadata": {},
   "outputs": [],
   "source": [
    "opath = data_path+\"manuscripts/manuscript_romy_drifts/data/\"\n",
    "\n",
    "df.to_pickle(opath+f\"romy_fsr_{config['name']}.pkl\")"
   ]
  },
  {
   "cell_type": "code",
   "execution_count": null,
   "id": "c93691c5-94c1-4ddb-a73a-b9f87e25815a",
   "metadata": {},
   "outputs": [],
   "source": []
  }
 ],
 "metadata": {
  "kernelspec": {
   "display_name": "Python 3 (ipykernel)",
   "language": "python",
   "name": "python3"
  },
  "language_info": {
   "codemirror_mode": {
    "name": "ipython",
    "version": 3
   },
   "file_extension": ".py",
   "mimetype": "text/x-python",
   "name": "python",
   "nbconvert_exporter": "python",
   "pygments_lexer": "ipython3",
   "version": "3.9.19"
  }
 },
 "nbformat": 4,
 "nbformat_minor": 5
}
