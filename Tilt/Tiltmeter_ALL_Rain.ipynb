{
 "cells": [
  {
   "cell_type": "markdown",
   "id": "extensive-movement",
   "metadata": {},
   "source": [
    "# Tiltmeter ALL Overview"
   ]
  },
  {
   "cell_type": "markdown",
   "id": "noted-resort",
   "metadata": {
    "ExecuteTime": {
     "end_time": "2021-02-19T15:09:20.288504Z",
     "start_time": "2021-02-19T15:09:20.284413Z"
    }
   },
   "source": [
    "## Import Libraries"
   ]
  },
  {
   "cell_type": "code",
   "execution_count": null,
   "id": "animal-despite",
   "metadata": {
    "ExecuteTime": {
     "end_time": "2023-06-05T16:01:14.387779Z",
     "start_time": "2023-06-05T16:01:09.012165Z"
    }
   },
   "outputs": [],
   "source": [
    "import os\n",
    "import obspy\n",
    "import matplotlib.pyplot as plt\n",
    "import pandas as pd\n",
    "\n",
    "from numpy import arange, linspace, sqrt, diff, nan, gradient, nanmax, nanmean\n",
    "from pandas import read_csv, DataFrame\n",
    "from mpl_toolkits.axes_grid1.inset_locator import inset_axes\n",
    "from numpy.ma import filled, isMaskedArray, masked\n",
    "from matplotlib.ticker import (MultipleLocator, AutoMinorLocator)\n",
    "from obspy import UTCDateTime\n",
    "from pathlib import Path\n",
    "\n",
    "from andbro__querrySeismoData import __querrySeismoData\n",
    "from andbro__get_seconds import __get_seconds\n",
    "from andbro__readYaml import __readYaml\n",
    "from andbro__get_timeaxis import __get_timeaxis"
   ]
  },
  {
   "cell_type": "code",
   "execution_count": null,
   "id": "5de643ef",
   "metadata": {
    "ExecuteTime": {
     "end_time": "2023-06-05T16:01:14.391174Z",
     "start_time": "2023-06-05T16:01:14.388876Z"
    }
   },
   "outputs": [],
   "source": [
    "if os.uname().nodename == \"lighthouse\":\n",
    "    root_path = \"/home/andbro/\"\n",
    "    data_path = \"/home/andbro/kilauea-data/\"\n",
    "    archive_path = \"/home/andbro/freenas/\"\n",
    "elif os.uname().nodename == \"kilauea\":\n",
    "    root_path = \"/home/brotzer/\"\n",
    "    data_path = \"/import/kilauea-data/\"\n",
    "    archive_path = \"/import/freenas-ffb-01-data/\""
   ]
  },
  {
   "cell_type": "markdown",
   "id": "mounted-throat",
   "metadata": {},
   "source": [
    "## Define Functions"
   ]
  },
  {
   "cell_type": "markdown",
   "id": "clean-hacker",
   "metadata": {},
   "source": [
    "## Configurations"
   ]
  },
  {
   "cell_type": "code",
   "execution_count": null,
   "id": "superior-memorial",
   "metadata": {
    "ExecuteTime": {
     "end_time": "2023-06-05T16:08:50.500165Z",
     "start_time": "2023-06-05T16:08:50.469902Z"
    }
   },
   "outputs": [],
   "source": [
    "## configurations\n",
    "config={}\n",
    "\n",
    "# path = \"/home/andbro/Desktop/tiltmeter/\"\n",
    "# path2 = '/home/andbro/Desktop/tiltmeter/WETTER/*ex'\n",
    "# config['name'] = 'tiltmeter'\n",
    "# config['set_filter'] = 'n'\n",
    "\n",
    "## decide to store figures\n",
    "config['save'] = False\n",
    "\n",
    "## set time period\n",
    "config['tbeg'] = UTCDateTime(\"2021-03-10 00:00\")\n",
    "config['tend'] = UTCDateTime(\"2023-05-31 00:00\")\n",
    "\n",
    "\n",
    "\n",
    "\n",
    "## specify paths\n",
    "config['path_to_wromy'] = archive_path+\"romy_archive/\"\n",
    "\n",
    "config['path_to_data'] = data_path+\"TiltmeterDataBackup/Tilt_downsampled/\"\n",
    "\n",
    "config['path_to_figs'] = root_path+\"Documents/ROMY/tiltmeter/figures/\"\n",
    "\n",
    "\n",
    "## tiltmeter configurations\n",
    "confTilt = __readYaml(f\"{root_path}Documents/ROMY/tiltmeter/\",\"tiltmeter.conf\")\n",
    "\n",
    "## correction of offset (e.g. reset mass)\n",
    "# offset_correction = __readYaml(f\"{root_path}Documents/ROMY/tiltmeter/\", \"tiltmeter_steps.yml\")\n",
    "offset_correction = __readYaml(f\"{root_path}Documents/ROMY/tiltmeter/\", \"tiltmeter_offsets.yml\")\n",
    "\n",
    "## correction for temperature trends\n",
    "## based on MAT\n",
    "temperature_correction = __readYaml(f\"{root_path}Documents/ROMY/tiltmeter/\",\"tiltmeter_temperature_correction.yml\")\n",
    "## based on WSX\n",
    "# temperature_correction = __readYaml(f\"{root_path}Documents/ROMY/tiltmeter/\",\"temperature_correction_new.yml\")\n",
    "\n"
   ]
  },
  {
   "cell_type": "code",
   "execution_count": null,
   "id": "ddaa0853-eaf1-4191-962e-9966aa3f59b3",
   "metadata": {},
   "outputs": [],
   "source": [
    "from functions.plot_all_tilt import __plot_all_tilt"
   ]
  },
  {
   "cell_type": "markdown",
   "id": "charming-shuttle",
   "metadata": {},
   "source": [
    "## Load Tiltmeter Data"
   ]
  },
  {
   "cell_type": "code",
   "execution_count": null,
   "id": "4c45ea10-0959-4915-9718-d343e5fa06a1",
   "metadata": {},
   "outputs": [],
   "source": [
    "from andbro__read_sds import __read_sds"
   ]
  },
  {
   "cell_type": "code",
   "execution_count": null,
   "id": "ca469b47",
   "metadata": {
    "ExecuteTime": {
     "end_time": "2023-06-05T16:08:54.066630Z",
     "start_time": "2023-06-05T16:08:51.937013Z"
    }
   },
   "outputs": [],
   "source": [
    "ROMYT0 = __read_sds(config['path_to_data'], \"BW.ROMYT..MA*\", config['tbeg'], config['tend'])\n",
    "\n",
    "ROMYT0 = ROMYT0.sort()\n",
    "\n",
    "ROMYT0 = ROMYT0.merge()\n",
    "\n",
    "# ROMYT0 = ROMYT0.resample(1.0, no_filter=False)"
   ]
  },
  {
   "cell_type": "code",
   "execution_count": null,
   "id": "younger-tower",
   "metadata": {
    "ExecuteTime": {
     "end_time": "2023-06-05T16:08:58.582382Z",
     "start_time": "2023-06-05T16:08:54.067793Z"
    }
   },
   "outputs": [],
   "source": [
    "TROMY0 = __read_sds(config['path_to_data'], \"BW.TROMY..MA*\", config['tbeg'], config['tend'])\n",
    "\n",
    "TROMY0 = TROMY0.sort()\n",
    "\n",
    "TROMY0 = TROMY0.merge()\n",
    "\n",
    "# TROMY0 = TROMY0.resample(1.0, no_filter=False)"
   ]
  },
  {
   "cell_type": "code",
   "execution_count": null,
   "id": "alike-timeline",
   "metadata": {
    "ExecuteTime": {
     "end_time": "2023-06-05T16:09:06.624523Z",
     "start_time": "2023-06-05T16:08:58.583516Z"
    }
   },
   "outputs": [],
   "source": [
    "BROMY0 = __read_sds(config['path_to_data'], \"BW.DROMY..LA*\", config['tbeg'], config['tend'])\n",
    "\n",
    "BROMY0 = BROMY0.sort()\n",
    "\n",
    "BROMY0 = BROMY0.merge()"
   ]
  },
  {
   "cell_type": "markdown",
   "id": "1de84c04",
   "metadata": {},
   "source": [
    "## Correct for known offsets"
   ]
  },
  {
   "cell_type": "code",
   "execution_count": null,
   "id": "d71ab720-ca06-44a7-9f9f-eb30dae0a419",
   "metadata": {},
   "outputs": [],
   "source": [
    "from functions.correct_offsets import __correct_offsets"
   ]
  },
  {
   "cell_type": "code",
   "execution_count": null,
   "id": "11dee195",
   "metadata": {
    "ExecuteTime": {
     "end_time": "2023-06-05T16:09:06.692819Z",
     "start_time": "2023-06-05T16:09:06.637689Z"
    }
   },
   "outputs": [],
   "source": [
    "TROMY = __correct_offsets(TROMY0, offset_correction['TROMY'], plot=False)\n",
    "ROMYT = __correct_offsets(ROMYT0, offset_correction['ROMYT'], plot=False)\n",
    "BROMY = __correct_offsets(BROMY0, offset_correction['BROMY'], plot=False)"
   ]
  },
  {
   "cell_type": "code",
   "execution_count": null,
   "id": "521cf787",
   "metadata": {
    "ExecuteTime": {
     "end_time": "2023-06-05T16:09:06.695245Z",
     "start_time": "2023-06-05T16:09:06.693762Z"
    }
   },
   "outputs": [],
   "source": [
    "fig = __plot_all_tilt(TROMY, ROMYT, BROMY);"
   ]
  },
  {
   "cell_type": "markdown",
   "id": "ba601767-e7e1-4059-a8a5-13645bac0c9d",
   "metadata": {},
   "source": [
    "## Correct polarity of TROMY E component"
   ]
  },
  {
   "cell_type": "code",
   "execution_count": null,
   "id": "c7149d5d-b20f-4d29-8dd9-e5d4e1c72bed",
   "metadata": {},
   "outputs": [],
   "source": [
    "TROMY.select(channel=\"*E\")[0].data *= -1"
   ]
  },
  {
   "cell_type": "markdown",
   "id": "af96ad7e",
   "metadata": {},
   "source": [
    "## Covert Data Counts to Rad"
   ]
  },
  {
   "cell_type": "code",
   "execution_count": null,
   "id": "37a7eb3c-2337-4b30-a62f-1d7122c464ec",
   "metadata": {},
   "outputs": [],
   "source": [
    "from functions.converstion_to_tilt import __conversion_to_tilt"
   ]
  },
  {
   "cell_type": "code",
   "execution_count": null,
   "id": "513fce1a",
   "metadata": {
    "ExecuteTime": {
     "end_time": "2023-06-05T16:09:06.742829Z",
     "start_time": "2023-06-05T16:09:06.712199Z"
    }
   },
   "outputs": [],
   "source": [
    "TROMY = __conversion_to_tilt(TROMY, confTilt['TROMY'])\n",
    "ROMYT = __conversion_to_tilt(ROMYT, confTilt['ROMYT'])\n",
    "BROMY = __conversion_to_tilt(BROMY, confTilt['BROMY'])"
   ]
  },
  {
   "cell_type": "code",
   "execution_count": null,
   "id": "d3f99e00",
   "metadata": {
    "ExecuteTime": {
     "end_time": "2023-06-05T16:09:06.745726Z",
     "start_time": "2023-06-05T16:09:06.744223Z"
    }
   },
   "outputs": [],
   "source": [
    "fig = __plot_all_tilt(TROMY, ROMYT, BROMY);\n",
    "\n",
    "if config['save']:\n",
    "    fig.savefig(config['path_to_figs']+\"TILT_all_overview_converted.png\", format=\"png\", dpi=200, bbox_inches='tight')"
   ]
  },
  {
   "cell_type": "markdown",
   "id": "535803cb",
   "metadata": {},
   "source": [
    "## Correct for Linear Temperature Trend"
   ]
  },
  {
   "cell_type": "code",
   "execution_count": null,
   "id": "a67c4cb8-82c3-4b38-a58c-f0d2579d9905",
   "metadata": {},
   "outputs": [],
   "source": [
    "from functions.correct_temperature_trend import __correct_temperature_trend"
   ]
  },
  {
   "cell_type": "code",
   "execution_count": null,
   "id": "fd87faaa",
   "metadata": {
    "ExecuteTime": {
     "end_time": "2023-06-05T15:52:46.166373Z",
     "start_time": "2023-06-05T15:51:20.455Z"
    }
   },
   "outputs": [],
   "source": [
    "## apply correction model\n",
    "# TROMY = __correct_temperature_trend(TROMY, temperature_correction['TROMY'])\n",
    "# ROMYT = __correct_temperature_trend(ROMYT, temperature_correction['ROMYT'])\n",
    "# # BROMY = __correct_temperature_trend(BROMY, temperature_correction['BROMY'])"
   ]
  },
  {
   "cell_type": "code",
   "execution_count": null,
   "id": "dcc9fe97",
   "metadata": {
    "ExecuteTime": {
     "end_time": "2023-06-05T15:52:46.166858Z",
     "start_time": "2023-06-05T15:51:20.457Z"
    },
    "scrolled": true
   },
   "outputs": [],
   "source": [
    "fig = __plot_all_tilt(TROMY, ROMYT, BROMY);\n",
    "\n",
    "if config['save']:\n",
    "    fig.savefig(config['path_to_figs']+\"TILT_all_overview_Tcorrected.png\", format=\"png\", dpi=200, bbox_inches='tight')"
   ]
  },
  {
   "cell_type": "markdown",
   "id": "5f28e898",
   "metadata": {},
   "source": [
    "## Tilt Reset at Start"
   ]
  },
  {
   "cell_type": "code",
   "execution_count": null,
   "id": "a70ebc72",
   "metadata": {
    "ExecuteTime": {
     "end_time": "2023-06-05T16:09:06.760930Z",
     "start_time": "2023-06-05T16:09:06.746742Z"
    }
   },
   "outputs": [],
   "source": [
    "## Reset start to Zero\n",
    "for st in [TROMY, ROMYT, BROMY]:\n",
    "    for tr in st:\n",
    "        if not tr.stats.channel[-1] == \"T\" or tr.stats.channel[0] == \"W\":\n",
    "            tr.data -= nanmean(tr.data[:200])"
   ]
  },
  {
   "cell_type": "code",
   "execution_count": null,
   "id": "f1a33066-5e94-4bae-ab20-348e24af5cfa",
   "metadata": {},
   "outputs": [],
   "source": [
    "## Reset ROMYT with TROMY\n",
    "romyt_utc = str(ROMYT[0].times(\"utcdatetime\")[0].date)\n",
    "tromy_utc = [str(t.date) for t in TROMY[0].times(\"utcdatetime\")]\n",
    "\n",
    "idx = tromy_utc.index(romyt_utc)\n",
    "\n",
    "for tr in ROMYT:\n",
    "    if \"N\" in tr.stats.channel:\n",
    "        tr.data += TROMY.select(channel=\"*N\")[0].data[idx]\n",
    "    if \"E\" in tr.stats.channel:\n",
    "        tr.data += TROMY.select(channel=\"*E\")[0].data[idx]\n"
   ]
  },
  {
   "cell_type": "code",
   "execution_count": null,
   "id": "d188a6f2",
   "metadata": {
    "ExecuteTime": {
     "end_time": "2023-06-05T16:09:07.179573Z",
     "start_time": "2023-06-05T16:09:06.761967Z"
    }
   },
   "outputs": [],
   "source": [
    "fig = __plot_all_tilt(TROMY, ROMYT, BROMY)\n",
    "\n",
    "if config['save']:\n",
    "    fig.savefig(config['path_to_figs']+\"TILT_all_overview_reset.png\", format=\"png\", dpi=200, bbox_inches='tight')"
   ]
  },
  {
   "cell_type": "markdown",
   "id": "ef5bbb70",
   "metadata": {
    "ExecuteTime": {
     "end_time": "2022-12-08T11:02:30.748219Z",
     "start_time": "2022-12-08T11:02:30.746440Z"
    }
   },
   "source": [
    "## Add WROMY Data"
   ]
  },
  {
   "cell_type": "code",
   "execution_count": null,
   "id": "3b35de8c",
   "metadata": {
    "ExecuteTime": {
     "end_time": "2023-06-05T15:52:46.168124Z",
     "start_time": "2023-06-05T15:51:20.461Z"
    }
   },
   "outputs": [],
   "source": [
    "from andbro__load_WROMY_stream import __load_wromy_stream"
   ]
  },
  {
   "cell_type": "code",
   "execution_count": null,
   "id": "06c92b0b",
   "metadata": {
    "ExecuteTime": {
     "end_time": "2023-06-05T15:52:46.169124Z",
     "start_time": "2023-06-05T15:51:20.465Z"
    }
   },
   "outputs": [],
   "source": [
    "# from numpy import isfinite, array\n",
    "# import numpy.ma as ma\n",
    "\n",
    "# arr = ws5.select(channel=\"*T\")[0].data\n",
    "# # arr = array([1,2,3,nan,3,4])\n",
    "# # mask = isfinite(arr)\n",
    "# # ma_arr = ma.masked_array(arr, mask=mask)\n",
    "\n",
    "# ma_arr = ma.masked_invalid(arr)\n",
    "# ws5.select(channel=\"*T\")[0].data = ma.masked_invalid(arr)\n",
    "\n",
    "# plt.plot(ma_arr)"
   ]
  },
  {
   "cell_type": "markdown",
   "id": "obvious-imaging",
   "metadata": {
    "ExecuteTime": {
     "end_time": "2021-02-23T08:42:57.050040Z",
     "start_time": "2021-02-23T08:42:57.046253Z"
    }
   },
   "source": [
    "### Load FURT Data"
   ]
  },
  {
   "cell_type": "code",
   "execution_count": null,
   "id": "6cd52d14",
   "metadata": {
    "ExecuteTime": {
     "end_time": "2023-06-05T15:52:46.169667Z",
     "start_time": "2023-06-05T15:51:20.467Z"
    }
   },
   "outputs": [],
   "source": [
    "from andbro__load_FURT_stream import __load_furt_stream"
   ]
  },
  {
   "cell_type": "code",
   "execution_count": null,
   "id": "79b59159-a3a6-416f-a0d8-d37a5b3203dd",
   "metadata": {},
   "outputs": [],
   "source": [
    "furt = __load_furt_stream(config['tbeg'], config['tend'])"
   ]
  },
  {
   "cell_type": "markdown",
   "id": "80850a6b-d494-4892-a4d9-db5051adb370",
   "metadata": {},
   "source": [
    "# Plotting Rain"
   ]
  },
  {
   "cell_type": "code",
   "execution_count": null,
   "id": "e7ecd6b0-bc1b-4791-b5f4-6d2bab55d5e3",
   "metadata": {},
   "outputs": [],
   "source": []
  },
  {
   "cell_type": "code",
   "execution_count": null,
   "id": "703ea8c6-5643-4826-b509-4327188473de",
   "metadata": {},
   "outputs": [],
   "source": []
  }
 ],
 "metadata": {
  "kernelspec": {
   "display_name": "Python 3 (ipykernel)",
   "language": "python",
   "name": "python3"
  },
  "language_info": {
   "codemirror_mode": {
    "name": "ipython",
    "version": 3
   },
   "file_extension": ".py",
   "mimetype": "text/x-python",
   "name": "python",
   "nbconvert_exporter": "python",
   "pygments_lexer": "ipython3",
   "version": "3.10.12"
  },
  "latex_envs": {
   "LaTeX_envs_menu_present": true,
   "autoclose": false,
   "autocomplete": true,
   "bibliofile": "biblio.bib",
   "cite_by": "apalike",
   "current_citInitial": 1,
   "eqLabelWithNumbers": true,
   "eqNumInitial": 1,
   "hotkeys": {
    "equation": "Ctrl-E",
    "itemize": "Ctrl-I"
   },
   "labels_anchors": false,
   "latex_user_defs": false,
   "report_style_numbering": false,
   "user_envs_cfg": false
  },
  "toc": {
   "base_numbering": 1,
   "nav_menu": {},
   "number_sections": true,
   "sideBar": true,
   "skip_h1_title": false,
   "title_cell": "Table of Contents",
   "title_sidebar": "Contents",
   "toc_cell": false,
   "toc_position": {},
   "toc_section_display": true,
   "toc_window_display": false
  }
 },
 "nbformat": 4,
 "nbformat_minor": 5
}
