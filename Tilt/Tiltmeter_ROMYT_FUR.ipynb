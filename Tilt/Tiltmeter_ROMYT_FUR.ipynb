{
 "cells": [
  {
   "cell_type": "markdown",
   "id": "extensive-movement",
   "metadata": {},
   "source": [
    "## Tiltmeter - ROMYT (with Pot & IsodurBox) and FUR"
   ]
  },
  {
   "cell_type": "markdown",
   "id": "noted-resort",
   "metadata": {
    "ExecuteTime": {
     "end_time": "2021-02-19T15:09:20.288504Z",
     "start_time": "2021-02-19T15:09:20.284413Z"
    }
   },
   "source": [
    "### Import Libraries"
   ]
  },
  {
   "cell_type": "code",
   "execution_count": null,
   "id": "animal-despite",
   "metadata": {
    "ExecuteTime": {
     "end_time": "2022-10-28T14:20:34.290520Z",
     "start_time": "2022-10-28T14:20:34.287407Z"
    },
    "tags": []
   },
   "outputs": [],
   "source": [
    "import os\n",
    "import gc\n",
    "import obspy\n",
    "import matplotlib.pyplot as plt\n",
    "import pandas as pd\n",
    "\n",
    "from numpy import arange, linspace, sqrt, diff, nan, gradient, nanmax, nanmean, array\n",
    "from pandas import read_csv, DataFrame\n",
    "from mpl_toolkits.axes_grid1.inset_locator import inset_axes\n",
    "from numpy.ma import filled, isMaskedArray, masked\n",
    "from matplotlib.ticker import (MultipleLocator, AutoMinorLocator)\n",
    "from obspy import UTCDateTime\n",
    "from pathlib import Path\n",
    "\n",
    "from andbro__readYaml import __readYaml\n",
    "from andbro__read_sds import __read_sds"
   ]
  },
  {
   "cell_type": "code",
   "execution_count": null,
   "id": "42897ed7",
   "metadata": {
    "ExecuteTime": {
     "end_time": "2022-10-28T14:20:34.308428Z",
     "start_time": "2022-10-28T14:20:34.291615Z"
    },
    "tags": []
   },
   "outputs": [],
   "source": [
    "if os.uname().nodename == 'lighthouse':\n",
    "    root_path = '/home/andbro/'\n",
    "    data_path = '/home/andbro/kilauea-data/'\n",
    "    archive_path = '/home/andbro/freenas/'\n",
    "    bay_path = '/home/andbro/bay200/'\n",
    "elif os.uname().nodename == 'kilauea':\n",
    "    root_path = '/home/brotzer/'\n",
    "    data_path = '/import/kilauea-data/'\n",
    "    archive_path = '/import/freenas-ffb-01-data/'\n",
    "    bay_path = '/bay200/'\n",
    "elif os.uname().nodename in ['lin-ffb-01', 'ambrym', 'hochfelln']:\n",
    "    root_path = '/home/brotzer/'\n",
    "    data_path = '/import/kilauea-data/'\n",
    "    archive_path = '/import/freenas-ffb-01-data/'\n",
    "    bay_path = '/bay200/'"
   ]
  },
  {
   "cell_type": "code",
   "execution_count": null,
   "id": "cb5bf991-3adf-4fa2-8416-3d01c5abe412",
   "metadata": {
    "tags": []
   },
   "outputs": [],
   "source": [
    "from functions.smoothing import __smooth\n",
    "from functions.reduce import __reduce\n",
    "from functions.converstion_to_tilt import __conversion_to_tilt\n",
    "from functions.plot_all_tilt import __plot_all_tilt"
   ]
  },
  {
   "cell_type": "markdown",
   "id": "clean-hacker",
   "metadata": {},
   "source": [
    "### Configurations"
   ]
  },
  {
   "cell_type": "code",
   "execution_count": null,
   "id": "7ceff18f",
   "metadata": {
    "ExecuteTime": {
     "end_time": "2022-10-28T14:20:34.383178Z",
     "start_time": "2022-10-28T14:20:34.368994Z"
    },
    "tags": []
   },
   "outputs": [],
   "source": [
    "config = {}\n",
    "\n",
    "## decide to store figures\n",
    "config['save'] = False\n",
    "\n",
    "## set time period\n",
    "# config['tbeg'] = UTCDateTime(\"2024-02-23 12:00\")\n",
    "# config['tend'] = UTCDateTime(\"2024-03-07 12:00\")\n",
    "\n",
    "# in southern shaft\n",
    "config['tbeg'] = UTCDateTime(\"2024-03-09 12:00\")\n",
    "config['tend'] = UTCDateTime(\"2024-05-09 00:00\")\n",
    "\n",
    "## specify paths\n",
    "config['path_to_sds'] = archive_path+\"romy_archive/\"\n",
    "\n",
    "config['path_to_data'] = data_path+\"TiltmeterDataBackup/Tilt_downsampled/\"\n",
    "\n",
    "config['path_to_figs'] = data_path+\"tiltmeter/figures/\"\n",
    "\n",
    "\n",
    "## tiltmeter configurations\n",
    "confTilt = __readYaml(f\"{root_path}Documents/ROMY/tiltmeter/\", \"tiltmeter.conf\")\n",
    "\n",
    "## correction of offset (e.g. reset mass)\n",
    "# offset_correction = __readYaml(f\"{root_path}Documents/ROMY/tiltmeter/\", \"tiltmeter_steps.yml\")\n",
    "offset_correction = __readYaml(f\"{root_path}Documents/ROMY/tiltmeter/\", \"tiltmeter_offsets.yml\")\n",
    "\n",
    "## correction for temperature trends\n",
    "## based on MAT\n",
    "temperature_correction = __readYaml(f\"{root_path}Documents/ROMY/tiltmeter/\",\"tiltmeter_temperature_correction.yml\")\n",
    "## based on WSX\n",
    "# temperature_correction = __readYaml(f\"{root_path}Documents/ROMY/tiltmeter/\",\"temperature_correction_new.yml\")\n",
    "\n"
   ]
  },
  {
   "cell_type": "markdown",
   "id": "7eb503c6-aa2b-48e2-93bf-d680965a2ff9",
   "metadata": {},
   "source": [
    "### Load Tilt Data"
   ]
  },
  {
   "cell_type": "code",
   "execution_count": null,
   "id": "22fc0628-7b1b-4b5b-87ed-28be6dddcadf",
   "metadata": {
    "tags": []
   },
   "outputs": [],
   "source": [
    "ROMYT0 = __read_sds(config['path_to_sds'], \"BW.ROMYT..MA*\", config['tbeg'], config['tend'])\n",
    "\n",
    "ROMYT0 = ROMYT0.sort()\n",
    "\n",
    "ROMYT0 = ROMYT0.merge(fill_value=\"interpolate\")\n",
    "\n",
    "ROMYT0 = ROMYT0.resample(1.0, no_filter=False)"
   ]
  },
  {
   "cell_type": "code",
   "execution_count": null,
   "id": "e1495f0c-0154-41b2-8ae6-77d0eb0b131e",
   "metadata": {
    "tags": []
   },
   "outputs": [],
   "source": [
    "ROMYT = __conversion_to_tilt(ROMYT0, confTilt['ROMYT'])\n",
    "\n",
    "del ROMYT0"
   ]
  },
  {
   "cell_type": "code",
   "execution_count": null,
   "id": "2648544a-05ce-4d8b-86c4-00ba0504fb71",
   "metadata": {
    "tags": []
   },
   "outputs": [],
   "source": [
    "ROMYT.plot();"
   ]
  },
  {
   "cell_type": "code",
   "execution_count": null,
   "id": "a6965af0-5054-4fa2-a840-d11fc9283178",
   "metadata": {
    "tags": []
   },
   "outputs": [],
   "source": [
    "gc.collect();"
   ]
  },
  {
   "cell_type": "markdown",
   "id": "af96ad7e",
   "metadata": {},
   "source": [
    "### Covert Data"
   ]
  },
  {
   "cell_type": "code",
   "execution_count": null,
   "id": "0b1abd88-c829-42ec-99bf-3f3a4ef61e89",
   "metadata": {
    "tags": []
   },
   "outputs": [],
   "source": [
    "def __makeplot_overview():\n",
    "\n",
    "    Nrow, Ncol = 4, 1\n",
    "\n",
    "    font = 12\n",
    "\n",
    "    fig, ax = plt.subplots(Nrow, Ncol, figsize=(15, 8), sharex=True)\n",
    "\n",
    "    time_scaling = 1\n",
    "    tilt_scaling = 1e6\n",
    "\n",
    "    ref_time = config['tbeg']\n",
    "\n",
    "    # ax[0].plot(TROMY.select(channel=\"*N\")[0].times(reftime=config['tbeg'])*time_scaling,\n",
    "    #            TROMY.select(channel=\"*N\")[0].data*tilt_scaling, label=\"TROMY\", color=\"tab:blue\")\n",
    "\n",
    "    ax[0].plot(ROMYT.select(channel=\"*N\")[0].times(reftime=config['tbeg'])*time_scaling,\n",
    "               ROMYT.select(channel=\"*N\")[0].data*tilt_scaling, label=\"ROMYT\", color=\"tab:orange\")\n",
    "\n",
    "    # ax[1].plot(TROMY.select(channel=\"*E\")[0].times(reftime=config['tbeg'])*time_scaling,\n",
    "    #            TROMY.select(channel=\"*E\")[0].data*tilt_scaling, label=\"TROMY\", color=\"tab:blue\")\n",
    "\n",
    "    ax[1].plot(ROMYT.select(channel=\"*E\")[0].times(reftime=config['tbeg'])*time_scaling,\n",
    "               ROMYT.select(channel=\"*E\")[0].data*tilt_scaling, label=\"ROMYT\", color=\"tab:orange\")\n",
    "\n",
    "    # ax[0].plot(TROMY.select(channel=\"*N\")[0].times(reftime=config['tbeg'])*time_scaling,\n",
    "    #            __smooth(TROMY.select(channel=\"*N\")[0].data*tilt_scaling, 600), color=\"k\", ls=\"--\")\n",
    "    ax[0].plot(ROMYT.select(channel=\"*N\")[0].times(reftime=config['tbeg'])*time_scaling,\n",
    "               __smooth(ROMYT.select(channel=\"*N\")[0].data*tilt_scaling, 600), color=\"k\", ls=\"--\")\n",
    "    # ax[1].plot(TROMY.select(channel=\"*E\")[0].times(reftime=config['tbeg'])*time_scaling,\n",
    "    #            __smooth(TROMY.select(channel=\"*E\")[0].data*tilt_scaling, 600), color=\"k\", ls=\"--\")\n",
    "    ax[1].plot(ROMYT.select(channel=\"*E\")[0].times(reftime=config['tbeg'])*time_scaling,\n",
    "               __smooth(ROMYT.select(channel=\"*E\")[0].data*tilt_scaling, 600), color=\"k\", ls=\"--\")\n",
    "\n",
    "    # ax[2].plot(TROMY.select(channel=\"*T\")[0].times()*time_scaling,\n",
    "    #            TROMY.select(channel=\"*T\")[0].data, label=\"TROMY\")\n",
    "    ax22 = ax[2].twinx()\n",
    "    ax22.plot(ROMYT.select(channel=\"*T\")[0].times(reftime=config['tbeg'])*time_scaling,\n",
    "              __smooth(ROMYT.select(channel=\"*T\")[0].data, 600), label=\"ROMYT\", color=\"tab:blue\")\n",
    "    ax22.set_ylabel(\"Temperature (°C)\", fontsize=font, color=\"tab:blue\")\n",
    "    ax22.ticklabel_format(useOffset=False)\n",
    "    ax22.xaxis.label.set_color('tab:blue')\n",
    "    ax22.tick_params(axis='y', colors='tab:blue')\n",
    "    ax22.legend(loc=4)\n",
    "\n",
    "    # ax[2].plot(ROMYT.select(channel=\"*T\")[0].times(reftime=config['tbeg'])*time_scaling,\n",
    "    #            ROMYT.select(channel=\"*T\")[0].data, label=\"ROMYT\", color=\"tab:orange\")\n",
    "\n",
    "    ax[2].plot(ws.select(channel=\"*T\")[0].times(reftime=config['tbeg'])*time_scaling,\n",
    "               __smooth(ws.select(channel=\"*T\")[0].data, 600), label=\"WS7\", color=\"tab:green\")\n",
    "\n",
    "    ax[2].plot(ps.select(channel=\"*KI\")[0].times(reftime=config['tbeg'])*time_scaling,\n",
    "               __smooth(ps.select(channel=\"*KI\")[0].data, 600), label=\"PS7\", color=\"tab:red\")\n",
    "\n",
    "    # ax[2].plot(htp.time_seconds*time_scaling,\n",
    "    #            __smooth(htp.C, 15), label=\"stick\", color=\"tab:purple\")\n",
    "\n",
    "\n",
    "    ax[3].plot(ws.select(channel=\"*P\")[0].times(reftime=config['tbeg'])*time_scaling,\n",
    "               __smooth(ws.select(channel=\"*P\")[0].data, 600), label=\"WS7\", color=\"tab:green\")\n",
    "\n",
    "    ax[3].plot(ps.select(channel=\"*DI\")[0].times(reftime=config['tbeg'])*time_scaling,\n",
    "               __smooth(ps.select(channel=\"*DI\")[0].data, 600), label=\"PS7\", color=\"tab:red\")\n",
    "\n",
    "    # ax[3].plot(htp.time_seconds*time_scaling,\n",
    "    #            __smooth(htp.hPa, 15), label=\"stick\", color=\"tab:purple\")\n",
    "\n",
    "\n",
    "    for _n in range(Nrow):\n",
    "        ax[_n].grid(ls=\":\", zorder=0)\n",
    "        ax[_n].legend(loc=1)\n",
    "        ax[_n].set_xlim(left=0)\n",
    "\n",
    "    ax[0].set_ylabel(\"N-S Tilt ($\\mu$rad)\", fontsize=font)\n",
    "    ax[1].set_ylabel(\"E-W Tilt ($\\mu$rad)\", fontsize=font)\n",
    "    ax[2].set_ylabel(\"Temperature (°C)\", fontsize=font)\n",
    "    ax[3].set_ylabel(\"Air Pressure (hPa)\", fontsize=font)\n",
    "\n",
    "    # ax[3].set_xlabel(f\"Time (days) from {config['tbeg'].date} {str(config['tbeg'].time).split('.')[0]} UTC\", fontsize=font)\n",
    "\n",
    "    tcks = ax[Nrow-1].get_xticks()\n",
    "    tcklbls = [f\"{UTCDateTime(UTCDateTime(ref_time)+t).date} \\n {UTCDateTime(UTCDateTime(ref_time)+t).time}\" for t in tcks]\n",
    "    ax[Nrow-1].set_xticklabels(tcklbls)\n",
    "\n",
    "    ax[0].set_ylim(-20, 5)\n",
    "    ax[1].set_ylim(-5, 5)\n",
    "\n",
    "    plt.show();\n",
    "\n",
    "    gc.collect()\n",
    "    return fig\n",
    "\n",
    "# fig = __makeplot_overview();\n",
    "\n",
    "# fig.savefig(config['path_to_figs']+f\"Tilt_ROMYT_POT_Isodur_isolation_check.png\", format=\"png\", dpi=150, bbox_inches='tight')\n",
    "\n",
    "# del fig"
   ]
  },
  {
   "cell_type": "code",
   "execution_count": null,
   "id": "00024df6-09e6-4e3d-9ed2-dd20f3a3f020",
   "metadata": {
    "tags": []
   },
   "outputs": [],
   "source": [
    "gc.collect()"
   ]
  },
  {
   "cell_type": "markdown",
   "id": "24336093",
   "metadata": {
    "tags": []
   },
   "source": [
    "### Plot Spectra"
   ]
  },
  {
   "cell_type": "code",
   "execution_count": null,
   "id": "52ea4a72",
   "metadata": {
    "ExecuteTime": {
     "end_time": "2022-10-28T14:40:32.112203Z",
     "start_time": "2022-10-28T14:40:32.091794Z"
    },
    "tags": []
   },
   "outputs": [],
   "source": [
    "st_new = obspy.Stream()\n",
    "\n",
    "st_new += ROMYT.copy().select(channel=\"*T\")\n",
    "st_new += ROMYT.copy().select(channel=\"*N\")\n",
    "st_new += ROMYT.copy().select(channel=\"*E\")\n",
    "\n",
    "# st_new += TROMY.copy().select(channel=\"*T\")\n",
    "# st_new += TROMY.copy().select(channel=\"*N\")\n",
    "# st_new += TROMY.copy().select(channel=\"*E\")\n",
    "\n",
    "st_new = st_new.split();\n",
    "st_new = st_new.detrend(\"demean\");\n",
    "st_new = st_new.detrend(\"linear\");\n",
    "st_new = st_new.taper(0.01);\n",
    "\n",
    "# st_new.filter(\"bandpass\", freqmin=1/(25*3600), freqmax=1/(23*3600), corners=4, zerophase=True);\n",
    "# st_new.filter(\"bandpass\", freqmin=1/(13*3600), freqmax=1/(11*3600), corners=4, zerophase=True);\n",
    "# st_new.filter(\"lowpass\", freq=0.01, corners=4, zerophase=True);\n",
    "# st_new.resample(0.02, no_filter=True);\n",
    "\n",
    "st_new = st_new.merge()\n"
   ]
  },
  {
   "cell_type": "code",
   "execution_count": null,
   "id": "5c87e521-45cb-4c1b-a10f-df04c501bf51",
   "metadata": {
    "tags": []
   },
   "outputs": [],
   "source": [
    "def __makeplotStreamSpectra(st, config):\n",
    "\n",
    "    from scipy import fftpack\n",
    "    from numpy import abs\n",
    "\n",
    "    Nrow, Ncol = 3, 2\n",
    "\n",
    "    font = 12\n",
    "\n",
    "    fig, axes = plt.subplots(Nrow, Ncol,figsize=(15, 5), sharex='col')\n",
    "\n",
    "    plt.subplots_adjust(hspace=0.2)\n",
    "\n",
    "    ## _______________________________________________\n",
    "\n",
    "    st.sort(keys=['channel'], reverse=True)\n",
    "\n",
    "    for ii, tr in enumerate(st):\n",
    "        if \"T\" in tr.stats.channel:\n",
    "            i = 0\n",
    "        elif \"N\" in tr.stats.channel:\n",
    "            i = 1\n",
    "        else:\n",
    "            i = 2\n",
    "\n",
    "        _tr = tr.copy()\n",
    "        _tr = _tr.detrend(\"demean\")\n",
    "        _tr = _tr.detrend(\"linear\")\n",
    "        _tr = _tr.taper(0.01, type=\"cosine\")\n",
    "\n",
    "        comp_fft = abs(fftpack.fft(_tr.data))\n",
    "        ff       = fftpack.fftfreq(comp_fft.size, d=1/_tr.stats.sampling_rate)\n",
    "        comp_fft = fftpack.fftshift(comp_fft)\n",
    "\n",
    "\n",
    "        ## _________________________________________________________________\n",
    "        if \"T\" in tr.stats.channel:\n",
    "            axes[i,0].plot(\n",
    "                            tr.times()/86400,\n",
    "                            tr.data,\n",
    "                            # color='black',\n",
    "                            label='{}'.format(tr.stats.station),\n",
    "                            lw=1.0,\n",
    "            )\n",
    "        else:\n",
    "            axes[i,0].plot(\n",
    "                            tr.times()/86400,\n",
    "                            tr.data*1e6,\n",
    "                            # color='black',\n",
    "                            label='{}'.format(tr.stats.station),\n",
    "                            lw=1.0,\n",
    "            )\n",
    "\n",
    "\n",
    "        ## _________________________________________________________________\n",
    "        fxx = abs(fftpack.fft(tr.data)[1:len(ff)//2])\n",
    "        axes[i,1].loglog(\n",
    "                        ff[1:len(ff)//2],\n",
    "                        fxx,\n",
    "                        # color='black',\n",
    "                        lw=1.0,\n",
    "        )\n",
    "\n",
    "        axes[i,1].vlines(1/86400, min(fxx[:]), max(fxx[:]), color=\"darkgrey\", alpha=1.0, zorder=0)\n",
    "        axes[i,1].vlines(2/86400, min(fxx[:]), max(fxx[:]), color=\"darkgrey\", alpha=1.0, zorder=0)\n",
    "\n",
    "        axes[Nrow-1,0].set_xlabel(\"Time (days)\")\n",
    "        axes[Nrow-1,1].set_xlabel(\"Frequency (Hz)\")\n",
    "\n",
    "        labels = [r'Temperature. (°C)', r'N-S Tilt ($\\mu$rad)', r'E-W Tilt ($\\mu$rad)']\n",
    "        axes[i,0].set_ylabel(labels[i])\n",
    "\n",
    "        axes[0,0].legend(loc='upper left',bbox_to_anchor=(0.8, 1.35), ncol=2, framealpha=1.0, fontsize=font-2)\n",
    "\n",
    "        axes[i,0].ticklabel_format(useOffset=False)\n",
    "\n",
    "\n",
    "#         axes[i,0].ticklabel_format(axis='y', style='sci', scilimits=(0,0))\n",
    "#         axes[i,1].ticklabel_format(axis='y', style='sci', scilimits=(0,0))\n",
    "\n",
    "#         axes[i,1].set_xlim(1e-5, 0.001)\n",
    "#         axes[i,1].set_ylim(0,max(fxx[200:]))\n",
    "    axes[0,1].set_ylabel(r'ASD (°C/$\\sqrt{Hz}$)')\n",
    "    axes[1,1].set_ylabel(r'ASD (rad/$\\sqrt{Hz}$)')\n",
    "    axes[2,1].set_ylabel(r'ASD (rad/$\\sqrt{Hz}$)')\n",
    "\n",
    "    return fig\n",
    "\n",
    "fig = __makeplotStreamSpectra(st_new, config);\n",
    "\n",
    "# fig.savefig(config['path_to_figs']+f\"Tilt_ROMYT_POT_Isodur_isolation_check_spectra.png\", format=\"png\", dpi=150, bbox_inches='tight')\n"
   ]
  },
  {
   "cell_type": "code",
   "execution_count": null,
   "id": "a95a23df-5307-42bc-bf98-bcc726ea2744",
   "metadata": {
    "tags": []
   },
   "outputs": [],
   "source": [
    "gc.collect();"
   ]
  },
  {
   "cell_type": "markdown",
   "id": "8dba6a81-0d81-4de9-a89b-e461464b9b4e",
   "metadata": {
    "tags": []
   },
   "source": [
    "## Load STS-2"
   ]
  },
  {
   "cell_type": "code",
   "execution_count": null,
   "id": "61ce50b0-90ab-4739-8996-19bc1f3d5846",
   "metadata": {
    "tags": []
   },
   "outputs": [],
   "source": [
    "from andbro__read_sds import __read_sds"
   ]
  },
  {
   "cell_type": "code",
   "execution_count": null,
   "id": "1261bb7a-c6d9-4f7a-9f72-1840e35beda6",
   "metadata": {
    "tags": []
   },
   "outputs": [],
   "source": [
    "fur = __read_sds(bay_path+\"mseed_online/archive/\", \"GR.FUR..BH*\", config['tbeg'], config['tend'])\n",
    "\n",
    "fur_inv = obspy.read_inventory(root_path+\"/Documents/ROMY/stationxml_ringlaser/dataless/dataless.seed.GR_FUR\")"
   ]
  },
  {
   "cell_type": "code",
   "execution_count": null,
   "id": "1e981eb0-f94d-4970-904f-efbbdab6448a",
   "metadata": {
    "tags": []
   },
   "outputs": [],
   "source": [
    "fur = fur.remove_response(inventory=fur_inv, output=\"ACC\")\n",
    "\n",
    "fur = fur.merge(fill_value=\"interpolate\")\n"
   ]
  },
  {
   "cell_type": "code",
   "execution_count": null,
   "id": "9c4a8875-db22-4c96-b299-8cbc343674e0",
   "metadata": {
    "tags": []
   },
   "outputs": [],
   "source": [
    "stt = obspy.Stream()\n",
    "\n",
    "stt += ROMYT.copy()\n",
    "stt += fur.copy()\n",
    "\n",
    "for tr in stt:\n",
    "    if tr.stats.station == \"ROMYT\" and \"T\" not in tr.stats.channel:\n",
    "        tr.data = __reduce(tr.data, 1000)\n",
    "        tr.data = tr.data*-9.81\n",
    "\n",
    "# stt = stt.detrend(\"demean\");\n",
    "stt = stt.detrend(\"linear\");\n",
    "# stt = stt.detrend(\"simple\");\n",
    "\n",
    "stt = stt.taper(0.05);\n",
    "\n",
    "# ff = 0.25\n",
    "# stt = stt.filter(\"lowpass\", freq=ff, corners=4, zerophase=True);\n",
    "# stt = stt.resample(4*ff, no_filter=True);\n",
    "\n",
    "stt = stt.resample(1, no_filter=True);\n",
    "\n",
    "\n",
    "stt.plot(equal_scale=False);"
   ]
  },
  {
   "cell_type": "markdown",
   "id": "bbb1b986-5404-4aa8-9f3f-1714dd88d799",
   "metadata": {
    "tags": []
   },
   "source": [
    "### Plot Comparison with FUR"
   ]
  },
  {
   "cell_type": "code",
   "execution_count": null,
   "id": "fca27266",
   "metadata": {
    "tags": []
   },
   "outputs": [],
   "source": [
    "def __makeplot(st0):\n",
    "\n",
    "    from functions.get_fband_average import __get_fband_average\n",
    "    from functions.multitaper_coherence import __multitaper_coherence\n",
    "    from functions.welch_coherence import __welch_coherence\n",
    "    from functions.reduce import __reduce\n",
    "    from functions.get_fft import __get_fft\n",
    "\n",
    "    dat01 = st0.select(station=\"ROMYT\", channel=\"*N\")[0].data\n",
    "    dat02 = st0.select(station=\"ROMYT\", channel=\"*E\")[0].data\n",
    "\n",
    "    dat21 = st0.select(station=\"FUR\", channel=\"*N\")[0].data\n",
    "    dat22 = st0.select(station=\"FUR\", channel=\"*E\")[0].data\n",
    "\n",
    "\n",
    "    dt, df = st0[0].stats.delta, st0[0].stats.sampling_rate\n",
    "\n",
    "    win = 20*86400\n",
    "    # win = 6*86400\n",
    "\n",
    "    # compute multitaper spectrum\n",
    "    # out01 = __multitaper_coherence(dat01, dat21, dt, n_taper=15, time_bandwidth=3., method=0)\n",
    "    out01 = __welch_coherence(dat01, dat21, dt, twin_sec=win)\n",
    "\n",
    "    # ff11, psd11 = out01['ff1'][1:], out01['psd1'][1:]\n",
    "    # ff12, psd12 = out01['ff2'][1:], out01['psd2'][1:]\n",
    "    ff1_coh, coh1 = out01['fcoh'][1:], out01['coh'][1:]\n",
    "\n",
    "    # out02 = __multitaper_coherence(dat02, dat22, dt, n_taper=15, time_bandwidth=3., method=0)\n",
    "    out02 = __welch_coherence(dat02, dat22, dt, twin_sec=win)\n",
    "\n",
    "    # ff21, psd21 = out02['ff1'][1:], out02['psd1'][1:]\n",
    "    # ff22, psd22 = out02['ff2'][1:], out02['psd2'][1:]\n",
    "    ff2_coh, coh2 = out02['fcoh'][1:], out02['coh'][1:]\n",
    "\n",
    "    # compute FFT spectrum\n",
    "    ff11, psd11, pha11 = __get_fft(dat01, df)\n",
    "    ff12, psd12, pha12 = __get_fft(dat21, df)\n",
    "    ff21, psd21, pha21 = __get_fft(dat02, df)\n",
    "    ff22, psd22, pha22 = __get_fft(dat22, df)\n",
    "\n",
    "    # compute average on octave bands\n",
    "    octa11 = __get_fband_average(ff11, psd11, faction_of_octave=12, fmin=1e-6, average=\"mean\")\n",
    "    ff11, psd11 = octa11['fcenter'], octa11['psd_means']\n",
    "\n",
    "    octa12 = __get_fband_average(ff12, psd12, faction_of_octave=12, fmin=1e-6, average=\"mean\")\n",
    "    ff12, psd12 = octa12['fcenter'], octa12['psd_means']\n",
    "\n",
    "    octa21 = __get_fband_average(ff21, psd21, faction_of_octave=12, fmin=1e-6, average=\"mean\")\n",
    "    ff21, psd21 = octa21['fcenter'], octa21['psd_means']\n",
    "\n",
    "    octa22 = __get_fband_average(ff22, psd22, faction_of_octave=12, fmin=1e-6, average=\"mean\")\n",
    "    ff22, psd22 = octa22['fcenter'], octa22['psd_means']\n",
    "\n",
    "    octa_coh1 = __get_fband_average(ff1_coh, coh1, faction_of_octave=12, fmin=1e-6, average=\"mean\")\n",
    "    ff1_coh, coh1 = octa_coh1['fcenter'], octa_coh1['psd_means']\n",
    "\n",
    "    octa_coh2 = __get_fband_average(ff2_coh, coh2, faction_of_octave=12, fmin=1e-6, average=\"mean\")\n",
    "    ff2_coh, coh2 = octa_coh2['fcenter'], octa_coh2['psd_means']\n",
    "\n",
    "    # ________________________________________________________________________\n",
    "    # plotting\n",
    "\n",
    "    Nrow, Ncol = 4, 1\n",
    "\n",
    "    font = 12\n",
    "\n",
    "    ref_date = config['tbeg'].date\n",
    "\n",
    "    fig, ax = plt.subplots(Nrow, Ncol, figsize=(15, 12), sharex=False)\n",
    "\n",
    "    plt.subplots_adjust(hspace=0.25)\n",
    "\n",
    "    # time_scaling = 1/86400\n",
    "    time_scaling = 1\n",
    "    acc_scaling = 1e6\n",
    "\n",
    "    # ________________________________________________________________________\n",
    "    #\n",
    "    ax[0].plot(st0.select(station=\"ROMYT\", channel=\"*N\")[0].times(reftime=UTCDateTime(ref_date)),\n",
    "               st0.select(station=\"ROMYT\", channel=\"*N\")[0].data*acc_scaling, color=\"darkblue\", label=\"ROMYT-N\", lw=1)\n",
    "\n",
    "    ax[0].plot(st0.select(station=\"FUR\", channel=\"*N\")[0].times(reftime=UTCDateTime(ref_date)),\n",
    "               st0.select(station=\"FUR\", channel=\"*N\")[0].data*acc_scaling, color=\"tab:blue\", label=\"FUR-N\", lw=1, ls=\"--\")\n",
    "\n",
    "    ax[0].plot(st0.select(station=\"ROMYT\", channel=\"*N\")[0].times(reftime=UTCDateTime(ref_date)),\n",
    "               __smooth(st0.select(station=\"ROMYT\", channel=\"*N\")[0].data, 500)*acc_scaling, color=\"white\", lw=1)\n",
    "    ax[0].plot(st0.select(station=\"FUR\", channel=\"*N\")[0].times(reftime=UTCDateTime(ref_date)),\n",
    "               __smooth(st0.select(station=\"FUR\", channel=\"*N\")[0].data, 500)*acc_scaling, color=\"white\", lw=1, ls=\"--\")\n",
    "\n",
    "    ax[0].ticklabel_format(useOffset=False)\n",
    "    ax[0].set_ylabel(\"Acc ($\\mu$m/s$^2$)\", fontsize=font)\n",
    "    ax[0].legend(loc=1, ncol=4)\n",
    "\n",
    "    # ________________________________________________________________________\n",
    "    #\n",
    "    ax[1].plot(st0.select(station=\"ROMYT\", channel=\"*E\")[0].times(reftime=UTCDateTime(ref_date)),\n",
    "               st0.select(station=\"ROMYT\", channel=\"*E\")[0].data*acc_scaling, color=\"darkred\", label=\"ROMYT-E\", lw=1)\n",
    "    ax[1].plot(st0.select(station=\"FUR\", channel=\"*E\")[0].times(reftime=UTCDateTime(ref_date)),\n",
    "               st0.select(station=\"FUR\", channel=\"*E\")[0].data*acc_scaling, color=\"tab:red\", label=\"FUR-E\", lw=1, ls=\"--\")\n",
    "\n",
    "    ax[1].plot(st0.select(station=\"ROMYT\", channel=\"*E\")[0].times(reftime=UTCDateTime(ref_date)),\n",
    "               __smooth(st0.select(station=\"ROMYT\", channel=\"*E\")[0].data, 500)*acc_scaling, color=\"white\", lw=1)\n",
    "    ax[1].plot(st0.select(station=\"FUR\", channel=\"*E\")[0].times(reftime=UTCDateTime(ref_date)),\n",
    "               __smooth(st0.select(station=\"FUR\", channel=\"*E\")[0].data, 500)*acc_scaling, color=\"white\", lw=1, ls=\"--\")\n",
    "\n",
    "    ax[1].ticklabel_format(useOffset=False)\n",
    "    ax[1].set_ylabel(\"Acc ($\\mu$m/s$^2$)\", fontsize=font)\n",
    "    ax[1].legend(loc=4, ncol=4)\n",
    "\n",
    "\n",
    "    # ________________________________________________________________________\n",
    "    #\n",
    "    ax[2].plot(ff11, psd11, color=\"darkblue\", label=\"ROMYT-N\")\n",
    "    ax[2].plot(ff12, psd12, color=\"tab:blue\", label=\"FUR-N\", ls=\"--\")\n",
    "    ax[2].plot(ff21, psd21, color=\"darkred\", label=\"ROMYT-E\")\n",
    "    ax[2].plot(ff22, psd22, color=\"tab:red\", label=\"FUR-E\", ls=\"--\")\n",
    "\n",
    "    # ax[2].axvline(1/86400, min(psd11), max(psd11), color=\"grey\", alpha=0.7, zorder=1)\n",
    "    # ax[2].axvline(2/86400, min(psd11), max(psd11), color=\"grey\", alpha=0.7, zorder=1)\n",
    "    ax[2].axvline(1/86400, 1e-20, 1e10, color=\"grey\", alpha=0.7, zorder=1)\n",
    "    ax[2].axvline(2/86400, 1e-20, 1e10, color=\"grey\", alpha=0.7, zorder=1)\n",
    "\n",
    "    ax[2].set_xscale(\"log\")\n",
    "    ax[2].set_yscale(\"log\")\n",
    "    ax[2].legend(loc=1, ncol=4)\n",
    "    ax[2].set_ylabel(f\"PSD (m$^2$/s$^4$/Hz)\", fontsize=font)\n",
    "\n",
    "    # _______________________________________________________________________\n",
    "    #\n",
    "    ax[3].plot(ff1_coh, coh1, color=\"tab:blue\", label=\"N\")\n",
    "    ax[3].plot(ff2_coh, coh2, color=\"tab:red\", label=\"E\")\n",
    "\n",
    "    # ax[3].plot(out01['fcoh'][1:], __smooth(out01['coh'][1:], 200), color=\"k\", lw=0.5)\n",
    "    # ax[3].plot(out02['fcoh'][1:], __smooth(out02['coh'][1:], 200), color=\"k\", lw=0.5, ls=\"--\")\n",
    "\n",
    "    ax[3].axvline(1/86400, 0, 1.1, color=\"grey\", alpha=0.7, zorder=1)\n",
    "    ax[3].axvline(2/86400, 0, 1.1, color=\"grey\", alpha=0.7, zorder=1)\n",
    "\n",
    "    ax[3].set_xscale(\"log\")\n",
    "    ax[3].set_ylabel(\"Coherence\", fontsize=font)\n",
    "    ax[3].set_xlabel(\"Frequency (Hz)\", fontsize=font)\n",
    "    ax[3].set_ylim(0, 1.1)\n",
    "    ax[3].legend(loc=4, ncol=1)\n",
    "\n",
    "\n",
    "    for _n in range(Nrow):\n",
    "        ax[_n].grid(ls=\":\", zorder=0)\n",
    "        # ax[_n].set_xlim(left=0)\n",
    "\n",
    "\n",
    "\n",
    "    # add dates to x-axis\n",
    "    tcks = ax[0].get_xticks()\n",
    "    tcklbls = [f\"{UTCDateTime(UTCDateTime(ref_date)+t).date} \\n {UTCDateTime(UTCDateTime(ref_date)+t).time}\" for t in tcks]\n",
    "    ax[0].set_xticklabels(tcklbls, fontsize=font-3)\n",
    "    tcks = ax[1].get_xticks()\n",
    "    tcklbls = [f\"{UTCDateTime(UTCDateTime(ref_date)+t).date} \\n {UTCDateTime(UTCDateTime(ref_date)+t).time}\" for t in tcks]\n",
    "    ax[1].set_xticklabels(tcklbls, fontsize=font-3)\n",
    "\n",
    "\n",
    "    # add labels for subplots\n",
    "    for _k, ll in enumerate(['(a)', '(b)', '(c)', '(d)']):\n",
    "        ax[_k].text(.005, .97, ll, ha='left', va='top', transform=ax[_k].transAxes, fontsize=font+2)\n",
    "\n",
    "    # set axis limits\n",
    "    ax[0].set_ylim(-12, 12)\n",
    "    ax[1].set_ylim(-12, 12)\n",
    "\n",
    "    gc.collect()\n",
    "\n",
    "    plt.show();\n",
    "    return fig\n",
    "\n",
    "fig = __makeplot(stt)\n",
    "\n",
    "# fig.savefig(config['path_to_figs']+f\"Tilt_ROMYT_POT_Isodur_FUR_spectra.png\", format=\"png\", dpi=150, bbox_inches='tight')\n"
   ]
  },
  {
   "cell_type": "code",
   "execution_count": null,
   "id": "aeda4a37-3368-4a08-a61a-300a37b9bc03",
   "metadata": {},
   "outputs": [],
   "source": [
    "# fig.savefig(config['path_to_figs']+f\"Tilt_ROMYT_POT_Isodur_FUR_spectra.png\", format=\"png\", dpi=150, bbox_inches='tight')\n"
   ]
  },
  {
   "cell_type": "code",
   "execution_count": null,
   "id": "9cf48130-60bf-481e-a43c-ba4be2f934d9",
   "metadata": {},
   "outputs": [],
   "source": []
  }
 ],
 "metadata": {
  "kernelspec": {
   "display_name": "Python 3 (ipykernel)",
   "language": "python",
   "name": "python3"
  },
  "language_info": {
   "codemirror_mode": {
    "name": "ipython",
    "version": 3
   },
   "file_extension": ".py",
   "mimetype": "text/x-python",
   "name": "python",
   "nbconvert_exporter": "python",
   "pygments_lexer": "ipython3",
   "version": "3.9.19"
  },
  "latex_envs": {
   "LaTeX_envs_menu_present": true,
   "autoclose": false,
   "autocomplete": true,
   "bibliofile": "biblio.bib",
   "cite_by": "apalike",
   "current_citInitial": 1,
   "eqLabelWithNumbers": true,
   "eqNumInitial": 1,
   "hotkeys": {
    "equation": "Ctrl-E",
    "itemize": "Ctrl-I"
   },
   "labels_anchors": false,
   "latex_user_defs": false,
   "report_style_numbering": false,
   "user_envs_cfg": false
  },
  "toc": {
   "base_numbering": 1,
   "nav_menu": {},
   "number_sections": true,
   "sideBar": true,
   "skip_h1_title": false,
   "title_cell": "Table of Contents",
   "title_sidebar": "Contents",
   "toc_cell": false,
   "toc_position": {},
   "toc_section_display": true,
   "toc_window_display": false
  }
 },
 "nbformat": 4,
 "nbformat_minor": 5
}
