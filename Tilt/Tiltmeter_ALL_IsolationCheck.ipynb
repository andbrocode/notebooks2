{
 "cells": [
  {
   "cell_type": "markdown",
   "id": "extensive-movement",
   "metadata": {},
   "source": [
    "## Tiltmeter ALL Isolation Check"
   ]
  },
  {
   "cell_type": "markdown",
   "id": "dc68da01",
   "metadata": {
    "ExecuteTime": {
     "end_time": "2023-01-16T14:15:41.799335Z",
     "start_time": "2023-01-16T14:15:41.793850Z"
    }
   },
   "source": [
    "Check if significant difference can be observed after isolating both platfform tiltmeter with cotton on 2022-12-02"
   ]
  },
  {
   "cell_type": "markdown",
   "id": "noted-resort",
   "metadata": {
    "ExecuteTime": {
     "end_time": "2021-02-19T15:09:20.288504Z",
     "start_time": "2021-02-19T15:09:20.284413Z"
    }
   },
   "source": [
    "### Import Libraries"
   ]
  },
  {
   "cell_type": "code",
   "execution_count": 1,
   "id": "animal-despite",
   "metadata": {
    "ExecuteTime": {
     "end_time": "2023-06-08T19:17:00.060180Z",
     "start_time": "2023-06-08T19:16:55.313613Z"
    }
   },
   "outputs": [],
   "source": [
    "import os\n",
    "import obspy\n",
    "import matplotlib.pyplot as plt\n",
    "import pandas as pd\n",
    "\n",
    "from numpy import arange, linspace, sqrt, diff, nan, gradient, nanmax\n",
    "from pandas import read_csv, DataFrame\n",
    "from mpl_toolkits.axes_grid1.inset_locator import inset_axes\n",
    "from numpy.ma import filled, isMaskedArray, masked\n",
    "from matplotlib.ticker import (MultipleLocator, AutoMinorLocator)\n",
    "from obspy import UTCDateTime\n",
    "from pathlib import Path\n",
    "\n",
    "from andbro__querrySeismoData import __querrySeismoData\n",
    "from andbro__get_seconds import __get_seconds\n",
    "from andbro__readYaml import __readYaml\n",
    "from andbro__get_timeaxis import __get_timeaxis"
   ]
  },
  {
   "cell_type": "code",
   "execution_count": 2,
   "id": "5de643ef",
   "metadata": {
    "ExecuteTime": {
     "end_time": "2023-06-08T19:17:00.063336Z",
     "start_time": "2023-06-08T19:17:00.061172Z"
    }
   },
   "outputs": [],
   "source": [
    "if os.uname().nodename == \"lighthouse\":\n",
    "    root_path = \"/home/andbro/\"\n",
    "    data_path = \"/home/andbro/kilauea-data/\"\n",
    "    archive_path = \"/home/andbro/freenas/\"\n",
    "elif os.uname().nodename == \"kilauea\":\n",
    "    root_path = \"/home/brotzer/\"\n",
    "    data_path = \"/import/kilauea-data/\"\n",
    "    archive_path = \"/import/freenas-ffb-01-data/\""
   ]
  },
  {
   "cell_type": "markdown",
   "id": "mounted-throat",
   "metadata": {},
   "source": [
    "### Define Functions"
   ]
  },
  {
   "cell_type": "code",
   "execution_count": 3,
   "id": "bc16e5bf",
   "metadata": {
    "ExecuteTime": {
     "end_time": "2023-06-08T19:17:00.079958Z",
     "start_time": "2023-06-08T19:17:00.064511Z"
    },
    "code_folding": [
     0
    ]
   },
   "outputs": [],
   "source": [
    "def __plot_all_tilt(st1, st2, st3):\n",
    "\n",
    "    from datetime import datetime\n",
    "    \n",
    "    NN=3\n",
    "    \n",
    "    fig, ax = plt.subplots(NN,1, figsize=(15,8), sharex=True)\n",
    "\n",
    "    font = 14\n",
    "    \n",
    "    tilt_scaling, tilt_unit = 1e-6, r\"$\\mu$rad\"\n",
    "    time_scaling, time_unit = 86400, \"days\"\n",
    "    \n",
    "    ax[0].plot(st1.select(channel=\"*N\")[0].times(reftime=UTCDateTime(\"2019-01-01T00\"))/time_scaling, \n",
    "               st1.select(channel=\"*N\")[0].data/tilt_scaling, label=\"TROMY\")\n",
    "    ax[0].plot(st2.select(channel=\"*N\")[0].times(reftime=UTCDateTime(\"2019-01-01T00\"))/time_scaling, \n",
    "               st2.select(channel=\"*N\")[0].data/tilt_scaling, label=\"ROMYT\")\n",
    "    ax[0].plot(st3.select(channel=\"*N\")[0].times(reftime=UTCDateTime(\"2019-01-01T00\"))/time_scaling, \n",
    "               st3.select(channel=\"*N\")[0].data/tilt_scaling, label=\"BROMY\")\n",
    "\n",
    "    ax[1].plot(st1.select(channel=\"*E\")[0].times(reftime=UTCDateTime(\"2019-01-01T00\"))/time_scaling, \n",
    "               st1.select(channel=\"*E\")[0].data/tilt_scaling)\n",
    "    ax[1].plot(st2.select(channel=\"*E\")[0].times(reftime=UTCDateTime(\"2019-01-01T00\"))/time_scaling, \n",
    "               st2.select(channel=\"*E\")[0].data/tilt_scaling)\n",
    "    ax[1].plot(st3.select(channel=\"*E\")[0].times(reftime=UTCDateTime(\"2019-01-01T00\"))/time_scaling, \n",
    "               st3.select(channel=\"*E\")[0].data/tilt_scaling)\n",
    "\n",
    "    ax[2].plot(st1.select(channel=\"*T\")[0].times(reftime=UTCDateTime(\"2019-01-01T00\"))/time_scaling, \n",
    "               st1.select(channel=\"*T\")[0].data)\n",
    "    ax[2].plot(st2.select(channel=\"*T\")[0].times(reftime=UTCDateTime(\"2019-01-01T00\"))/time_scaling, \n",
    "               st2.select(channel=\"*T\")[0].data)\n",
    "    ax[2].plot(st3.select(channel=\"*T\")[0].times(reftime=UTCDateTime(\"2019-01-01T00\"))/time_scaling, \n",
    "               st3.select(channel=\"*T\")[0].data)\n",
    "\n",
    "    ax[0].set_ylabel(f\"N ({tilt_unit})\", fontsize=font)\n",
    "    ax[1].set_ylabel(f\"E ({tilt_unit})\", fontsize=font)\n",
    "    ax[2].set_ylabel(f\"T (°C)\", fontsize=font)\n",
    "#     ax[2].set_xlabel(f\"Time ({time_unit})\", fontsize=font)\n",
    "    \n",
    "    for o in range(3):\n",
    "        ax[o].grid()\n",
    "    \n",
    "    ax[0].legend(loc=1, fontsize=font-2, bbox_to_anchor=(0.7, 1.1), ncol=3, framealpha=1)\n",
    "    \n",
    "    tcks= ax[NN-1].get_xticks()\n",
    "    tcklbls = [datetime.fromtimestamp(t*time_scaling+datetime(2019,1,1).timestamp()).strftime(\"%Y-%m-%d\") for t in tcks]\n",
    "    ax[NN-1].set_xticklabels(tcklbls)\n",
    "    \n",
    "    plt.show();\n",
    "    return fig"
   ]
  },
  {
   "cell_type": "markdown",
   "id": "clean-hacker",
   "metadata": {},
   "source": [
    "### Configurations"
   ]
  },
  {
   "cell_type": "code",
   "execution_count": 4,
   "id": "superior-memorial",
   "metadata": {
    "ExecuteTime": {
     "end_time": "2023-06-08T19:17:00.234375Z",
     "start_time": "2023-06-08T19:17:00.080963Z"
    }
   },
   "outputs": [],
   "source": [
    "## configurations\n",
    "config={}\n",
    "\n",
    "path = \"/home/andbro/Desktop/tiltmeter/\"\n",
    "# path2 = '/home/andbro/Desktop/tiltmeter/WETTER/*ex'\n",
    "\n",
    "config['save'] = False\n",
    "\n",
    "config['tbeg'] = UTCDateTime(\"2022-11-01 00:00\")\n",
    "config['tend'] = UTCDateTime(\"2022-12-31 00:00\")\n",
    "\n",
    "\n",
    "# config['seed_id'] = [\"BW.TROMY..MA*\", \"BW.ROMYT..MA*\", \"BW.DROMY..LA*\"]\n",
    "\n",
    "config['repository'] = 'george'\n",
    "config['datapath'] =  None\n",
    "\n",
    "config['name'] = 'tiltmeter'\n",
    "config['set_filter'] = 'n'\n",
    "\n",
    "## specify path to SDS data archive\n",
    "config['path_to_data'] = \"/import/freenas-ffb-01-data/romy_archive/\"\n",
    "\n",
    "## specify path to wromy data\n",
    "# config['path_to_wromy'] = f\"{data_path}wromy/\"\n",
    "config['path_to_wromy'] = f\"{archive_path}romy_archive/2022/BW/WROMY/\"\n",
    "\n",
    "## tiltmeter configurations\n",
    "confTilt = __readYaml(f\"{root_path}Documents/ROMY/tiltmeter/\",\"tiltmeter.conf\")\n",
    "\n",
    "## correction of offset (e.g. reset mass)\n",
    "offset_correction = __readYaml(f\"{root_path}Documents/ROMY/tiltmeter/\", \"tiltmeter_steps.yml\")\n",
    "\n",
    "## correction for temperature trends\n",
    "## based on MAT\n",
    "temperature_correction = __readYaml(f\"{root_path}Documents/ROMY/tiltmeter/\",\"tiltmeter_temperature_correction.yml\")\n",
    "## based on WSX\n",
    "# temperature_correction = __readYaml(f\"{root_path}Documents/ROMY/tiltmeter/\",\"temperature_correction_new.yml\")\n",
    "\n"
   ]
  },
  {
   "cell_type": "code",
   "execution_count": 5,
   "id": "60789a70",
   "metadata": {
    "ExecuteTime": {
     "end_time": "2023-06-08T19:17:00.244053Z",
     "start_time": "2023-06-08T19:17:00.235522Z"
    },
    "code_folding": [
     0
    ]
   },
   "outputs": [],
   "source": [
    "def __plot_all_tilt(st1, st2, st3):\n",
    "\n",
    "    from datetime import datetime\n",
    "    \n",
    "    NN=3\n",
    "    \n",
    "    fig, ax = plt.subplots(NN,1, figsize=(15,8), sharex=True)\n",
    "\n",
    "    font = 14\n",
    "    \n",
    "    tilt_scaling, tilt_unit = 1e-6, r\"$\\mu$rad\"\n",
    "    time_scaling, time_unit = 86400, \"days\"\n",
    "    \n",
    "    ax[0].plot(st1.select(channel=\"*N\")[0].times(reftime=UTCDateTime(\"2019-01-01T00\"))/time_scaling, \n",
    "               st1.select(channel=\"*N\")[0].data/tilt_scaling, label=\"TROMY\")\n",
    "    ax[0].plot(st2.select(channel=\"*N\")[0].times(reftime=UTCDateTime(\"2019-01-01T00\"))/time_scaling, \n",
    "               st2.select(channel=\"*N\")[0].data/tilt_scaling, label=\"ROMYT\")\n",
    "    ax[0].plot(st3.select(channel=\"*N\")[0].times(reftime=UTCDateTime(\"2019-01-01T00\"))/time_scaling, \n",
    "               st3.select(channel=\"*N\")[0].data/tilt_scaling, label=\"BROMY\")\n",
    "\n",
    "    ax[1].plot(st1.select(channel=\"*E\")[0].times(reftime=UTCDateTime(\"2019-01-01T00\"))/time_scaling, \n",
    "               st1.select(channel=\"*E\")[0].data/tilt_scaling)\n",
    "    ax[1].plot(st2.select(channel=\"*E\")[0].times(reftime=UTCDateTime(\"2019-01-01T00\"))/time_scaling, \n",
    "               st2.select(channel=\"*E\")[0].data/tilt_scaling)\n",
    "    ax[1].plot(st3.select(channel=\"*E\")[0].times(reftime=UTCDateTime(\"2019-01-01T00\"))/time_scaling, \n",
    "               st3.select(channel=\"*E\")[0].data/tilt_scaling)\n",
    "\n",
    "    ax[2].plot(st1.select(channel=\"*T\")[0].times(reftime=UTCDateTime(\"2019-01-01T00\"))/time_scaling, \n",
    "               st1.select(channel=\"*T\")[0].data)\n",
    "    ax[2].plot(st2.select(channel=\"*T\")[0].times(reftime=UTCDateTime(\"2019-01-01T00\"))/time_scaling, \n",
    "               st2.select(channel=\"*T\")[0].data)\n",
    "    ax[2].plot(st3.select(channel=\"*T\")[0].times(reftime=UTCDateTime(\"2019-01-01T00\"))/time_scaling, \n",
    "               st3.select(channel=\"*T\")[0].data)\n",
    "\n",
    "    ax[0].set_ylabel(f\"N ({tilt_unit})\", fontsize=font)\n",
    "    ax[1].set_ylabel(f\"E ({tilt_unit})\", fontsize=font)\n",
    "    ax[2].set_ylabel(f\"T (°C)\", fontsize=font)\n",
    "#     ax[2].set_xlabel(f\"Time ({time_unit})\", fontsize=font)\n",
    "    \n",
    "    for o in range(3):\n",
    "        ax[o].grid()\n",
    "    \n",
    "    ax[0].legend(loc=1, fontsize=font-2, bbox_to_anchor=(0.7, 1.1), ncol=3, framealpha=1)\n",
    "    \n",
    "    tcks= ax[NN-1].get_xticks()\n",
    "    tcklbls = [datetime.fromtimestamp(t*time_scaling+datetime(2019,1,1).timestamp()).strftime(\"%Y-%m-%d\") for t in tcks]\n",
    "    ax[NN-1].set_xticklabels(tcklbls)\n",
    "    \n",
    "    plt.show();\n",
    "    return fig"
   ]
  },
  {
   "cell_type": "markdown",
   "id": "charming-shuttle",
   "metadata": {},
   "source": [
    "### Load Tiltmeter Data"
   ]
  },
  {
   "cell_type": "code",
   "execution_count": 6,
   "id": "07660d7b",
   "metadata": {
    "ExecuteTime": {
     "end_time": "2023-06-08T19:17:00.260440Z",
     "start_time": "2023-06-08T19:17:00.244890Z"
    },
    "code_folding": [
     0
    ]
   },
   "outputs": [],
   "source": [
    "def __load_local(config, seed_id):\n",
    "    \n",
    "    from tqdm.notebook import tqdm\n",
    "    from obspy.clients.filesystem.sds import Client\n",
    "    \n",
    "    net, sta, loc, cha = seed_id.split(\".\")\n",
    "    \n",
    "    tbeg, tend = config['tbeg'], config['tend']\n",
    "\n",
    "    st0 = Client(config['path_to_data'], fileborder_samples=1000).get_waveforms(net, sta, loc, cha, tbeg, tend)\n",
    "    \n",
    "    st0.merge()\n",
    "    \n",
    "    return st0"
   ]
  },
  {
   "cell_type": "code",
   "execution_count": 7,
   "id": "ca469b47",
   "metadata": {
    "ExecuteTime": {
     "end_time": "2023-06-08T19:17:07.553224Z",
     "start_time": "2023-06-08T19:17:00.261332Z"
    }
   },
   "outputs": [
    {
     "data": {
      "text/plain": [
       "3 Trace(s) in Stream:\n",
       "BW.ROMYT..MAE | 2022-11-01T00:00:00.140000Z - 2022-12-30T23:59:59.940000Z | 5.0 Hz, 25920000 samples (masked)\n",
       "BW.ROMYT..MAN | 2022-11-01T00:00:00.140000Z - 2022-12-30T23:59:59.940000Z | 5.0 Hz, 25920000 samples (masked)\n",
       "BW.ROMYT..MAT | 2022-11-01T00:00:00.140000Z - 2022-12-30T23:59:59.940000Z | 5.0 Hz, 25920000 samples (masked)"
      ]
     },
     "execution_count": 7,
     "metadata": {},
     "output_type": "execute_result"
    },
    {
     "data": {
      "text/plain": [
       "3 Trace(s) in Stream:\n",
       "BW.ROMYT..MAE | 2022-11-01T00:00:00.140000Z - 2022-12-30T23:59:59.940000Z | 5.0 Hz, 25920000 samples (masked)\n",
       "BW.ROMYT..MAN | 2022-11-01T00:00:00.140000Z - 2022-12-30T23:59:59.940000Z | 5.0 Hz, 25920000 samples (masked)\n",
       "BW.ROMYT..MAT | 2022-11-01T00:00:00.140000Z - 2022-12-30T23:59:59.940000Z | 5.0 Hz, 25920000 samples (masked)"
      ]
     },
     "execution_count": 7,
     "metadata": {},
     "output_type": "execute_result"
    }
   ],
   "source": [
    "ROMYT0 = __load_local(config, \"BW.ROMYT..MA*\")\n",
    "\n",
    "ROMYT0.sort()\n",
    "ROMYT0.merge()\n",
    "# ROMYT0.resample(1.0, no_filter=False)"
   ]
  },
  {
   "cell_type": "code",
   "execution_count": 8,
   "id": "younger-tower",
   "metadata": {
    "ExecuteTime": {
     "end_time": "2023-06-08T19:17:16.910595Z",
     "start_time": "2023-06-08T19:17:07.554972Z"
    }
   },
   "outputs": [
    {
     "data": {
      "text/plain": [
       "3 Trace(s) in Stream:\n",
       "BW.TROMY..MAE | 2022-11-01T00:00:00.040000Z - 2022-12-31T00:00:00.040000Z | 5.0 Hz, 25920001 samples\n",
       "BW.TROMY..MAN | 2022-11-01T00:00:00.039999Z - 2022-12-31T00:00:00.039999Z | 5.0 Hz, 25920001 samples\n",
       "BW.TROMY..MAT | 2022-11-01T00:00:00.040000Z - 2022-12-31T00:00:00.040000Z | 5.0 Hz, 25920001 samples"
      ]
     },
     "execution_count": 8,
     "metadata": {},
     "output_type": "execute_result"
    },
    {
     "data": {
      "text/plain": [
       "3 Trace(s) in Stream:\n",
       "BW.TROMY..MAE | 2022-11-01T00:00:00.040000Z - 2022-12-31T00:00:00.040000Z | 5.0 Hz, 25920001 samples\n",
       "BW.TROMY..MAN | 2022-11-01T00:00:00.039999Z - 2022-12-31T00:00:00.039999Z | 5.0 Hz, 25920001 samples\n",
       "BW.TROMY..MAT | 2022-11-01T00:00:00.040000Z - 2022-12-31T00:00:00.040000Z | 5.0 Hz, 25920001 samples"
      ]
     },
     "execution_count": 8,
     "metadata": {},
     "output_type": "execute_result"
    }
   ],
   "source": [
    "TROMY0 = __load_local(config, \"BW.TROMY..MA*\")\n",
    "\n",
    "TROMY0.sort()\n",
    "TROMY0.merge()\n",
    "# TROMY0.resample(1.0, no_filter=False)"
   ]
  },
  {
   "cell_type": "code",
   "execution_count": 9,
   "id": "alike-timeline",
   "metadata": {
    "ExecuteTime": {
     "end_time": "2023-06-08T19:17:25.340131Z",
     "start_time": "2023-06-08T19:17:16.911865Z"
    }
   },
   "outputs": [
    {
     "data": {
      "text/plain": [
       "3 Trace(s) in Stream:\n",
       "BW.DROMY..LAE | 2022-11-01T00:00:00.000000Z - 2022-12-31T00:00:00.000000Z | 1.0 Hz, 5184001 samples\n",
       "BW.DROMY..LAN | 2022-11-01T00:00:00.000000Z - 2022-12-31T00:00:00.000000Z | 1.0 Hz, 5184001 samples\n",
       "BW.DROMY..LAT | 2022-11-01T00:00:00.000000Z - 2022-12-31T00:00:00.000000Z | 1.0 Hz, 5184001 samples"
      ]
     },
     "execution_count": 9,
     "metadata": {},
     "output_type": "execute_result"
    },
    {
     "data": {
      "text/plain": [
       "3 Trace(s) in Stream:\n",
       "BW.DROMY..LAE | 2022-11-01T00:00:00.000000Z - 2022-12-31T00:00:00.000000Z | 1.0 Hz, 5184001 samples\n",
       "BW.DROMY..LAN | 2022-11-01T00:00:00.000000Z - 2022-12-31T00:00:00.000000Z | 1.0 Hz, 5184001 samples\n",
       "BW.DROMY..LAT | 2022-11-01T00:00:00.000000Z - 2022-12-31T00:00:00.000000Z | 1.0 Hz, 5184001 samples"
      ]
     },
     "execution_count": 9,
     "metadata": {},
     "output_type": "execute_result"
    }
   ],
   "source": [
    "BROMY0 = __load_local(config, \"BW.DROMY..LA*\")\n",
    "\n",
    "BROMY0.sort()\n",
    "BROMY0.merge()"
   ]
  },
  {
   "cell_type": "markdown",
   "id": "1de84c04",
   "metadata": {},
   "source": [
    "## Correct for known offsets"
   ]
  },
  {
   "cell_type": "code",
   "execution_count": 10,
   "id": "d0c491d2",
   "metadata": {
    "ExecuteTime": {
     "end_time": "2023-06-08T19:17:25.348748Z",
     "start_time": "2023-06-08T19:17:25.341080Z"
    }
   },
   "outputs": [],
   "source": [
    "from functions.correct_offsets import __correct_offsets"
   ]
  },
  {
   "cell_type": "code",
   "execution_count": 11,
   "id": "84c1c21b",
   "metadata": {
    "ExecuteTime": {
     "end_time": "2023-06-08T19:17:25.358879Z",
     "start_time": "2023-06-08T19:17:25.349770Z"
    },
    "code_folding": [
     0
    ]
   },
   "outputs": [],
   "source": [
    "# def __correct_offsets(st, offset_correction, plot=False):\n",
    "    \n",
    "#     from numpy import nanmedian, nanmean\n",
    "#     from obspy import UTCDateTime, Stream\n",
    "    \n",
    "#     st_out = Stream()\n",
    "    \n",
    "#     for cc in [\"N\", \"E\", \"T\"]:\n",
    "\n",
    "#         if cc not in offset_correction.keys():\n",
    "#             st_out += st.select(channel=f\"*{cc}\").copy()\n",
    "#             continue\n",
    "        \n",
    "#         st0 = st.select(channel=f\"*{cc}\").copy()\n",
    "\n",
    "#         tbeg, tend = st0[0].stats.starttime, st0[0].stats.endtime\n",
    "        \n",
    "#         for nn in range(len(offset_correction[cc])):\n",
    "#             nn +=1\n",
    "\n",
    "#             if offset_correction[cc][nn]['time_reset'] < tbeg or offset_correction[cc][nn]['time_reset'] > tend:\n",
    "#                 continue\n",
    "                        \n",
    "#             step_time = UTCDateTime(offset_correction[cc][nn]['time_reset'])\n",
    "#             offset_time_before = offset_correction[cc][nn]['time_before']\n",
    "#             offset_time_after = offset_correction[cc][nn]['time_after']\n",
    "\n",
    "#             st0_before = st0.copy()\n",
    "#             st0_before.trim(tbeg, step_time-offset_time_before)\n",
    "\n",
    "#             st0_after  = st0.copy()\n",
    "#             st0_after.trim(step_time+offset_time_after, tend)    \n",
    "\n",
    "#             median_before = nanmean(st0_before[0].data[-100:])\n",
    "#             median_after  = nanmean(st0_after[0].data[:100]) \n",
    "            \n",
    "            \n",
    "#             if (median_after - median_before) < 0: \n",
    "#                 st0_after[0].data += abs(median_after - median_before)\n",
    "#             elif (median_after - median_before) >= 0: \n",
    "#                 st0_after[0].data -= abs(median_after - median_before)\n",
    "\n",
    "#             st0_before += st0_after\n",
    "            \n",
    "#             st0 = st0_before.merge(fill_value=nan)\n",
    "\n",
    "#         st_out += st0\n",
    "        \n",
    "# #     st_out.trim(tbeg, tend, nearest_sample=False)\n",
    "\n",
    "#     if plot:\n",
    "#         fig, ax = plt.subplots(3,1, figsize=(15,8), sharex=True)\n",
    "\n",
    "#         ax[0].plot(st.select(channel=\"*N\")[0].times()/86400, st.select(channel=\"*N\")[0].data)\n",
    "#         ax[0].plot(st_out.select(channel=\"*N\")[0].times()/86400, st_out.select(channel=\"*N\")[0].data)\n",
    "\n",
    "#         ax[1].plot(st.select(channel=\"*E\")[0].times()/86400, st.select(channel=\"*E\")[0].data)\n",
    "#         ax[1].plot(st_out.select(channel=\"*E\")[0].times()/86400, st_out.select(channel=\"*E\")[0].data)\n",
    "\n",
    "#         ax[2].plot(st.select(channel=\"*T\")[0].times()/86400, st.select(channel=\"*T\")[0].data)\n",
    "#         ax[2].plot(st_out.select(channel=\"*T\")[0].times()/86400, st_out.select(channel=\"*T\")[0].data)\n",
    "\n",
    "#         ax[0].set_ylabel(\"MAN (counts)\")\n",
    "#         ax[1].set_ylabel(\"MAE (counts)\")\n",
    "#         ax[2].set_ylabel(\"MAT (counts)\")\n",
    "#         ax[2].set_xlabel(\"Time (days)\")\n",
    "        \n",
    "#         plt.show();\n",
    "\n",
    "\n",
    "#     return st_out"
   ]
  },
  {
   "cell_type": "code",
   "execution_count": 12,
   "id": "11dee195",
   "metadata": {
    "ExecuteTime": {
     "end_time": "2023-06-08T19:17:25.373884Z",
     "start_time": "2023-06-08T19:17:25.359727Z"
    }
   },
   "outputs": [],
   "source": [
    "# TROMY = __correct_offsets(TROMY0, offset_correction['TROMY'], plot=False)\n",
    "# ROMYT = __correct_offsets(ROMYT0, offset_correction['ROMYT'], plot=False)\n",
    "# BROMY = __correct_offsets(BROMY0, offset_correction['BROMY'], plot=False)"
   ]
  },
  {
   "cell_type": "code",
   "execution_count": 13,
   "id": "521cf787",
   "metadata": {
    "ExecuteTime": {
     "end_time": "2023-06-08T19:17:25.387448Z",
     "start_time": "2023-06-08T19:17:25.374791Z"
    }
   },
   "outputs": [],
   "source": [
    "# fig = __plot_all_tilt(TROMY, ROMYT, BROMY)"
   ]
  },
  {
   "cell_type": "markdown",
   "id": "af96ad7e",
   "metadata": {},
   "source": [
    "## Covert Data Counts to Rad"
   ]
  },
  {
   "cell_type": "code",
   "execution_count": 14,
   "id": "aca012ad",
   "metadata": {
    "ExecuteTime": {
     "end_time": "2023-06-08T19:17:25.403227Z",
     "start_time": "2023-06-08T19:17:25.388288Z"
    }
   },
   "outputs": [],
   "source": [
    "from functions.converstion_to_tilt import __conversion_to_tilt"
   ]
  },
  {
   "cell_type": "code",
   "execution_count": 15,
   "id": "7f7f0ee4",
   "metadata": {
    "ExecuteTime": {
     "end_time": "2023-06-08T19:17:25.416008Z",
     "start_time": "2023-06-08T19:17:25.404106Z"
    },
    "code_folding": [
     0
    ]
   },
   "outputs": [],
   "source": [
    "# def __conversion(st, conf):\n",
    "\n",
    "#     st0 = st.copy()\n",
    "    \n",
    "#     def convertTemp(trace):\n",
    "#         Tvolt = trace.data * conf.get('gainTemp')\n",
    "#         coeff = conf.get('calcTempCoefficients')\n",
    "#         return coeff[0] + coeff[1]*Tvolt + coeff[2]*Tvolt**2 + coeff[3]*Tvolt**3\n",
    "    \n",
    "#     def convertTilt(trace, conversion, sensitivity):\n",
    "#         return trace.data * conversion * sensitivity\n",
    "\n",
    "#     for tr in st0:\n",
    "#         if tr.stats.channel[-1] == 'T':\n",
    "#             tr.data = convertTemp(tr)\n",
    "#         elif tr.stats.channel[-1] == 'N':\n",
    "#             tr.data = convertTilt(tr, conf['convTN'], conf['gainTilt'])\n",
    "#         elif tr.stats.channel[-1] == 'E':\n",
    "#             tr.data = convertTilt(tr, conf['convTE'], conf['gainTilt'])\n",
    "#         else:\n",
    "#             print(\"no match\")\n",
    "            \n",
    "#     print(f\"  -> converted data of {st[0].stats.station}\")\n",
    "#     return st0"
   ]
  },
  {
   "cell_type": "code",
   "execution_count": 16,
   "id": "513fce1a",
   "metadata": {
    "ExecuteTime": {
     "end_time": "2023-06-08T19:17:28.042531Z",
     "start_time": "2023-06-08T19:17:25.416998Z"
    }
   },
   "outputs": [
    {
     "name": "stdout",
     "output_type": "stream",
     "text": [
      "  -> converted data of TROMY\n",
      "  -> converted data of ROMYT\n",
      "  -> converted data of DROMY\n"
     ]
    }
   ],
   "source": [
    "TROMY = __conversion_to_tilt(TROMY0, confTilt['TROMY'])\n",
    "ROMYT = __conversion_to_tilt(ROMYT0, confTilt['ROMYT'])\n",
    "BROMY = __conversion_to_tilt(BROMY0, confTilt['BROMY'])"
   ]
  },
  {
   "cell_type": "code",
   "execution_count": 17,
   "id": "d3f99e00",
   "metadata": {
    "ExecuteTime": {
     "end_time": "2023-06-08T19:17:28.045140Z",
     "start_time": "2023-06-08T19:17:28.043545Z"
    }
   },
   "outputs": [],
   "source": [
    "# fig = __plot_all_tilt(TROMY, ROMYT, BROMY)"
   ]
  },
  {
   "cell_type": "markdown",
   "id": "5f28e898",
   "metadata": {},
   "source": [
    "## Tilt Reset at Start"
   ]
  },
  {
   "cell_type": "code",
   "execution_count": 18,
   "id": "a70ebc72",
   "metadata": {
    "ExecuteTime": {
     "end_time": "2023-06-08T19:17:28.221951Z",
     "start_time": "2023-06-08T19:17:28.046019Z"
    }
   },
   "outputs": [],
   "source": [
    "## Reset start to Zero\n",
    "for st in [TROMY, ROMYT, BROMY]:\n",
    "    for tr in st:\n",
    "        if not tr.stats.channel[-1] == \"T\" or tr.stats.channel[0] == \"W\":\n",
    "            tr.data -= tr.data[1]"
   ]
  },
  {
   "cell_type": "code",
   "execution_count": 19,
   "id": "d188a6f2",
   "metadata": {
    "ExecuteTime": {
     "end_time": "2023-06-08T19:17:28.224535Z",
     "start_time": "2023-06-08T19:17:28.222982Z"
    }
   },
   "outputs": [],
   "source": [
    "# fig = __plot_all_tilt(TROMY, ROMYT, BROMY)"
   ]
  },
  {
   "cell_type": "markdown",
   "id": "535803cb",
   "metadata": {},
   "source": [
    "## Correct for Linear Temperature Trend"
   ]
  },
  {
   "cell_type": "code",
   "execution_count": 20,
   "id": "50d5a906",
   "metadata": {
    "ExecuteTime": {
     "end_time": "2023-06-08T19:17:28.240272Z",
     "start_time": "2023-06-08T19:17:28.225519Z"
    },
    "code_folding": [
     0
    ]
   },
   "outputs": [],
   "source": [
    "def __correct_temperature_trend(st, correction):\n",
    "    \n",
    "    st0 = st.copy()\n",
    "    temperature = st0.select(channel=\"*T\")[0].data\n",
    "    \n",
    "#     st0.select(channel=\"*N\")[0].data -= (correction['N_slope']* temperature + correction['N_intercept'])\n",
    "#     st0.select(channel=\"*E\")[0].data -= (correction['E_slope']* temperature + correction['N_intercept'])\n",
    "    st0.select(channel=\"*N\")[0].data -= (correction['N_slope']* temperature)\n",
    "    st0.select(channel=\"*E\")[0].data -= (correction['E_slope']* temperature)\n",
    "    \n",
    "    return st0"
   ]
  },
  {
   "cell_type": "code",
   "execution_count": 21,
   "id": "fd87faaa",
   "metadata": {
    "ExecuteTime": {
     "end_time": "2023-06-08T19:17:28.254473Z",
     "start_time": "2023-06-08T19:17:28.241265Z"
    }
   },
   "outputs": [],
   "source": [
    "## apply correction model\n",
    "# TROMY = __correct_temperature_trend(TROMY, temperature_correction['TROMY'])\n",
    "# ROMYT = __correct_temperature_trend(ROMYT, temperature_correction['ROMYT'])\n",
    "# BROMY = __correct_temperature_trend(BROMY, temperature_correction['BROMY'])"
   ]
  },
  {
   "cell_type": "code",
   "execution_count": 22,
   "id": "dcc9fe97",
   "metadata": {
    "ExecuteTime": {
     "end_time": "2023-06-08T19:17:28.269720Z",
     "start_time": "2023-06-08T19:17:28.255603Z"
    }
   },
   "outputs": [],
   "source": [
    "# fig = __plot_all_tilt(TROMY, ROMYT, BROMY)"
   ]
  },
  {
   "cell_type": "markdown",
   "id": "ef5bbb70",
   "metadata": {
    "ExecuteTime": {
     "end_time": "2022-12-08T11:02:30.748219Z",
     "start_time": "2022-12-08T11:02:30.746440Z"
    }
   },
   "source": [
    "## Add WROMY Data"
   ]
  },
  {
   "cell_type": "code",
   "execution_count": 23,
   "id": "5069dd78",
   "metadata": {
    "ExecuteTime": {
     "end_time": "2023-06-08T19:17:28.286744Z",
     "start_time": "2023-06-08T19:17:28.271402Z"
    },
    "code_folding": [
     0
    ]
   },
   "outputs": [],
   "source": [
    "def __read_wromy_stream(config, path_to_data, seed_id):\n",
    "    \n",
    "    '''\n",
    "    reads data from T1 to T2\n",
    "    '''\n",
    "\n",
    "    from pandas import date_range\n",
    "    from tqdm.notebook import tqdm_notebook\n",
    "    from obspy import Stream\n",
    "    from numpy import nan, inf\n",
    "    \n",
    "    def __add_trace(cha, tbeg, dat):\n",
    "\n",
    "        from obspy import Trace, UTCDateTime\n",
    "        from numpy import array\n",
    "        from numpy.ma import masked_invalid\n",
    "\n",
    "        tr = Trace()\n",
    "        tr.stats.station = 'WROMY'\n",
    "        tr.stats.channel = str(cha)\n",
    "        tr.stats.sampling_rate = 1.0\n",
    "        tr.stats.starttime = UTCDateTime(tbeg)\n",
    "        tr.data = masked_invalid(array(dat))\n",
    "\n",
    "        return tr\n",
    "    \n",
    "    \n",
    "    t1 = config['tbeg']\n",
    "    t2 = config['tend'] + 86410\n",
    "    \n",
    "    net, sta, loc, cha = seed_id.split(\".\")\n",
    "    \n",
    "    df = pd.DataFrame()\n",
    "    \n",
    "    for n, date in enumerate(tqdm_notebook(date_range(t1.date, t2.date))):    \n",
    "        doy = str(date.timetuple().tm_yday).rjust(3,\"0\")\n",
    "        \n",
    "        path = f\"/import/freenas-ffb-01-data/romy_archive/{date.year}/{net}/{sta}/{cha}.D/\"\n",
    "\n",
    "        if not Path(path).exists():\n",
    "            __reply(f\"Path: {path}, does not exists!\")\n",
    "            return\n",
    "\n",
    "    \n",
    "        fileName = f\"BW.WROMY.{cha}.D.{date.year}.{doy}\"\n",
    "\n",
    "#         print(f'   reading {fileName} ...')\n",
    "\n",
    "        try:\n",
    "            df0 = pd.read_csv(path+fileName)\n",
    "            \n",
    "            ## replace error indicating values (-9999, 999.9) with NaN values\n",
    "            df0.replace(to_replace=-9999, value=nan, inplace=True)\n",
    "            df0.replace(to_replace=999.9, value=nan, inplace=True)\n",
    "            df0.replace(to_replace=inf, value=nan, inplace=True)\n",
    "              \n",
    "#             ## change time from in to 6 character string\n",
    "            df0.iloc[:,2] = [str(ttt).rjust(6,\"0\") for ttt in df0.iloc[:,2]]\n",
    "          \n",
    "            if n == 1:\n",
    "                df = df0\n",
    "            else: \n",
    "                df = pd.concat([df,df0])\n",
    "        except:\n",
    "            print(f\"File: {fileName}, does not exists!\")\n",
    "       \n",
    "    print(df)\n",
    "    \n",
    "    df.reset_index(inplace=True, drop=True)\n",
    "    \n",
    "    \n",
    "    df_starttime = UTCDateTime(f\"{df['Date'][0]} {df['Time (UTC)'][0]}\")\n",
    "    \n",
    "    print(df_starttime)\n",
    "    \n",
    "    ## add columns with total seconds\n",
    "    if 'Seconds' in df.columns:\n",
    "        totalSeconds = df.Seconds + (df.Date - df.Date.iloc[0]) * 86400\n",
    "        df['totalSeconds'] = totalSeconds\n",
    "    \n",
    "    st0 = Stream()\n",
    "    st0 += __add_trace(\"LAT\", df_starttime, df['Temperature (°C)'])\n",
    "    st0 += __add_trace(\"LAP\", df_starttime, df['Pressure (hPa)'])\n",
    "    st0 += __add_trace(\"LAH\", df_starttime, df['rel. Humidity (%)'])\n",
    "        \n",
    "        \n",
    "    st0.trim(config['tbeg'], config['tend'])\n",
    "    \n",
    "    print(f\"Specified end: {config['tend']} \\nTrace end:     {st0.select(channel='LAT')[0].stats.endtime}\")\n",
    "    \n",
    "    return st0"
   ]
  },
  {
   "cell_type": "code",
   "execution_count": 24,
   "id": "c8972a63",
   "metadata": {
    "ExecuteTime": {
     "end_time": "2023-06-08T19:17:36.470045Z",
     "start_time": "2023-06-08T19:17:28.287857Z"
    }
   },
   "outputs": [
    {
     "data": {
      "application/vnd.jupyter.widget-view+json": {
       "model_id": "5cc2aa30618b47a8be7b7dfd381942b8",
       "version_major": 2,
       "version_minor": 0
      },
      "text/plain": [
       "  0%|          | 0/62 [00:00<?, ?it/s]"
      ]
     },
     "metadata": {},
     "output_type": "display_data"
    },
    {
     "name": "stdout",
     "output_type": "stream",
     "text": [
      "File: BW.WROMY.WS5.D.2022.361, does not exists!\n",
      "File: BW.WROMY.WS5.D.2022.362, does not exists!\n",
      "File: BW.WROMY.WS5.D.2022.363, does not exists!\n",
      "File: BW.WROMY.WS5.D.2022.364, does not exists!\n",
      "File: BW.WROMY.WS5.D.2022.365, does not exists!\n",
      "File: BW.WROMY.WS5.D.2023.001, does not exists!\n",
      "      Seconds      Date Time (UTC)  Temperature (°C)  Pressure (hPa)  \\\n",
      "0           0  20221102     000000              15.8           956.7   \n",
      "1           1  20221102     000001              15.8           956.7   \n",
      "2           2  20221102     000002              15.8           956.7   \n",
      "3           3  20221102     000003              15.8           956.7   \n",
      "4           4  20221102     000004              15.8           956.7   \n",
      "...       ...       ...        ...               ...             ...   \n",
      "1812     1812  20221226     003012              10.7           951.7   \n",
      "1813     1813  20221226     003013              10.7           951.7   \n",
      "1814     1814  20221226     003014              10.7           951.7   \n",
      "1815     1815  20221226     003015              10.7           951.7   \n",
      "1816     1816  20221226     003016              10.7           951.7   \n",
      "\n",
      "      rel. Humidity (%)  \n",
      "0                  87.1  \n",
      "1                  87.1  \n",
      "2                  87.1  \n",
      "3                  87.1  \n",
      "4                  87.1  \n",
      "...                 ...  \n",
      "1812               84.1  \n",
      "1813               84.1  \n",
      "1814               84.1  \n",
      "1815               84.1  \n",
      "1816               84.1  \n",
      "\n",
      "[4667418 rows x 6 columns]\n",
      "2022-11-02T00:00:00.000000Z\n",
      "Specified end: 2022-12-31T00:00:00.000000Z \n",
      "Trace end:     2022-12-26T00:30:17.000000Z\n"
     ]
    }
   ],
   "source": [
    "ws5 = __read_wromy_stream(config, config['path_to_wromy'], \"BW.WROMY..WS5\")"
   ]
  },
  {
   "cell_type": "code",
   "execution_count": 25,
   "id": "06c92b0b",
   "metadata": {
    "ExecuteTime": {
     "end_time": "2023-06-08T19:17:36.911578Z",
     "start_time": "2023-06-08T19:17:36.471136Z"
    }
   },
   "outputs": [
    {
     "data": {
      "text/plain": [
       "[<matplotlib.lines.Line2D at 0x7f5e7ca1d050>]"
      ]
     },
     "execution_count": 25,
     "metadata": {},
     "output_type": "execute_result"
    },
    {
     "data": {
      "image/png": "[encoded data removed]",
      "text/plain": [
       "<Figure size 432x288 with 1 Axes>"
      ]
     },
     "metadata": {
      "needs_background": "light"
     },
     "output_type": "display_data"
    }
   ],
   "source": [
    "from numpy import isfinite, array\n",
    "import numpy.ma as ma\n",
    "\n",
    "arr = ws5.select(channel=\"*T\")[0].data\n",
    "# arr = array([1,2,3,nan,3,4])\n",
    "# mask = isfinite(arr)\n",
    "# ma_arr = ma.masked_array(arr, mask=mask)\n",
    "\n",
    "ma_arr = ma.masked_invalid(arr)\n",
    "ws5.select(channel=\"*T\")[0].data = ma.masked_invalid(arr)\n",
    "\n",
    "plt.plot(ma_arr)"
   ]
  },
  {
   "cell_type": "markdown",
   "id": "obvious-imaging",
   "metadata": {
    "ExecuteTime": {
     "end_time": "2021-02-23T08:42:57.050040Z",
     "start_time": "2021-02-23T08:42:57.046253Z"
    }
   },
   "source": [
    "### Load FURT Data"
   ]
  },
  {
   "cell_type": "code",
   "execution_count": 26,
   "id": "8b8df4c1",
   "metadata": {
    "ExecuteTime": {
     "end_time": "2023-06-08T19:17:36.923910Z",
     "start_time": "2023-06-08T19:17:36.912696Z"
    },
    "code_folding": [
     0
    ]
   },
   "outputs": [],
   "source": [
    "def __read_furt_stream(config, show_raw=False, path_to_archive = '/bay200/gif_online/FURT/WETTER/'):\n",
    "    \n",
    "    '''\n",
    "    Load a selection of data of FURT weather station for certain times and return an obspy stream\n",
    "    \n",
    "    \n",
    "    PARAMETERS:\n",
    "        - config:    configuration dictionary\n",
    "        - show_raw:  bool (True/False) -> shows raw data FURT head\n",
    "\n",
    "\n",
    "    RETURN:\n",
    "        - stream\n",
    "        \n",
    "    '''\n",
    "    \n",
    "    from pathlib import Path\n",
    "    from obspy import UTCDateTime\n",
    "    from tqdm.notebook import tqdm_notebook\n",
    "    from numpy import arange\n",
    "    from obspy import Stream\n",
    "    \n",
    "    def __add_trace(cha, tbeg, dat, dt=1):\n",
    "\n",
    "        from obspy import Trace, UTCDateTime\n",
    "        from numpy import array\n",
    "\n",
    "        tr = Trace()\n",
    "        tr.stats.station = 'FURT'\n",
    "        tr.stats.channel = str(cha)\n",
    "        tr.stats.sampling_rate = 1/dt\n",
    "        tr.stats.starttime = UTCDateTime(tbeg)\n",
    "        tr.data = array(dat)\n",
    "\n",
    "        return tr\n",
    "    \n",
    "    \n",
    "    def __resample(df, freq='1S'):\n",
    "\n",
    "        ## make column with datetime\n",
    "        df['datetime'] = df['date'].astype(str).str.rjust(6,\"0\")+\" \"+df['time'].astype(str).str.rjust(6,\"0\")\n",
    "\n",
    "        ## drop datetime duplicates\n",
    "        df = df[df.duplicated(\"datetime\", keep=\"first\") != True]\n",
    "\n",
    "        ## convert to pandas datetime object\n",
    "        df['datetime'] = pd.to_datetime(df['datetime'], format=\"%d%m%y %H%M%S\", errors=\"coerce\")\n",
    "\n",
    "        ## set datetime column as index\n",
    "        df.set_index('datetime', inplace=True)\n",
    "\n",
    "        ## remove duplicates\n",
    "        df = df[~df.index.duplicated()]\n",
    "\n",
    "        ## resample\n",
    "        df = df.asfreq(freq=freq)\n",
    "\n",
    "        return df \n",
    "    \n",
    "\n",
    "    \n",
    "    config['tbeg'] = UTCDateTime(config['tbeg'])\n",
    "    config['tend'] = UTCDateTime(config['tend'])\n",
    "    \n",
    "    output_text = []\n",
    "    \n",
    "    new_delta = 10\n",
    "    \n",
    "    if not Path(path_to_archive).exists():\n",
    "        output_text.append(f\"  -> Path: {path_to_archive}, does not exists!\")\n",
    "#         print(f\"  -> Path: {path_to_archive}, does not exists!\")\n",
    "        return    \n",
    "    \n",
    "    \n",
    "    ## list of parameters requried in configurations\n",
    "    params = ['tbeg', 'tend']\n",
    "    for param in params:\n",
    "        if not param in config.keys():\n",
    "            output_text.append(f\"ERROR: {param} not in config but required!\")\n",
    "#             print(f\"ERROR: {param} not in config but required!\")\n",
    "            return\n",
    "    \n",
    "    \n",
    "    ## declare empyt dataframe\n",
    "    df = pd.DataFrame()\n",
    "    \n",
    "    for i, date in enumerate(tqdm_notebook(arange(config['tbeg'].date, (config['tend']+86410).date))):\n",
    "        \n",
    "        date = UTCDateTime(str(date)).date\n",
    "        filename = f'FURT.WSX.D.{str(date.day).rjust(2,\"0\")}{str(date.month).rjust(2,\"0\")}{str(date.year).rjust(2,\"0\")[-2:]}.0000'\n",
    "        \n",
    "#         print(f'   reading {filename} ...')\n",
    "\n",
    "        try:\n",
    "            if show_raw:\n",
    "                df0 = pd.read_csv(path_to_archive+filename)            \n",
    "                print(df0.columns.tolist())\n",
    "                return\n",
    "            else:\n",
    "                df0 = pd.read_csv(path_to_archive+filename, usecols=[0,1,10,12,13,14], names=['date', 'time', 'T', 'H', 'P','Rc'])            \n",
    "            \n",
    "            ## substitute strings with floats\n",
    "            df0['T']  = df0['T'].str.split(\"=\", expand=True)[1].str.split(\"C\", expand=True)[0].astype(float)\n",
    "            df0['P']  = df0['P'].str.split(\"=\", expand=True)[1].str.split(\"H\", expand=True)[0].astype(float)\n",
    "            df0['H']  = df0['H'].str.split(\"=\", expand=True)[1].str.split(\"P\", expand=True)[0].astype(float)\n",
    "            df0['Rc'] = df0['Rc'].str.split(\"=\", expand=True)[1].str.split(\"M\", expand=True)[0].astype(float)\n",
    "           \n",
    "            \n",
    "            ## replace error indicating values (-9999, 999.9) with NaN values\n",
    "#             df0.replace(to_replace=-9999, value=nan, inplace=True)\n",
    "#             df0.replace(to_replace=999.9, value=nan, inplace=True)\n",
    "            \n",
    "            \n",
    "            if df.empty:\n",
    "                df = df0\n",
    "            else: \n",
    "                df = pd.concat([df, df0])\n",
    "        except:\n",
    "            output_text.append(f\"  -> File: {filename}, does not exists!\")\n",
    "#             print(f\"  -> File: {filename}, does not exists!\")\n",
    "   \n",
    "    ## reset the index for the joined frame\n",
    "    df.reset_index(inplace=True, drop=True)\n",
    "\n",
    "    \n",
    "    ## resample dataframe and avoid data gaps\n",
    "    df = __resample(df, freq=f'{new_delta}S')\n",
    "\n",
    "    \n",
    "    for text in output_text:\n",
    "        print(text)    \n",
    "\n",
    "    df_starttime = UTCDateTime(df.index[0])\n",
    "    \n",
    "    ## create stream and attach traces\n",
    "    st0 = Stream()\n",
    "    st0 += __add_trace(\"LAT\", df_starttime, df['T'], dt=new_delta)\n",
    "    st0 += __add_trace(\"LAP\", df_starttime, df['P'], dt=new_delta)\n",
    "    st0 += __add_trace(\"LAH\", df_starttime, df['H'], dt=new_delta)\n",
    "    st0 += __add_trace(\"LAR\", df_starttime, df['Rc'], dt=new_delta)\n",
    "        \n",
    "    ## trim to specfied time period\n",
    "    st0.trim(config['tbeg'], config['tend'])\n",
    "        \n",
    "    print(f\"Specified end: {config['tend']} \\nTrace end:     {st0.select(channel='LAT')[0].stats.endtime}\")\n",
    "    \n",
    "    return st0"
   ]
  },
  {
   "cell_type": "code",
   "execution_count": null,
   "id": "348ab9e5",
   "metadata": {
    "ExecuteTime": {
     "start_time": "2023-06-08T19:16:55.356Z"
    }
   },
   "outputs": [
    {
     "data": {
      "application/vnd.jupyter.widget-view+json": {
       "model_id": "0de4d58a65964dc4ba437e3d7e6d8ef6",
       "version_major": 2,
       "version_minor": 0
      },
      "text/plain": [
       "  0%|          | 0/61 [00:00<?, ?it/s]"
      ]
     },
     "metadata": {},
     "output_type": "display_data"
    }
   ],
   "source": [
    "furt = __read_furt_stream(config)"
   ]
  },
  {
   "cell_type": "markdown",
   "id": "c3283112",
   "metadata": {
    "ExecuteTime": {
     "end_time": "2023-01-16T13:54:26.985141Z",
     "start_time": "2023-01-16T13:54:26.973413Z"
    }
   },
   "source": [
    "## Plotting "
   ]
  },
  {
   "cell_type": "code",
   "execution_count": null,
   "id": "9104fc6d",
   "metadata": {
    "ExecuteTime": {
     "start_time": "2023-06-08T19:16:55.359Z"
    },
    "scrolled": true
   },
   "outputs": [],
   "source": [
    "tromy_cp = TROMY.copy()\n",
    "ws5_cp = ws5.copy()\n",
    "furt_cp = furt.copy()\n",
    "\n",
    "tromy_cp2 = tromy_cp.copy().detrend(\"simple\")\n",
    "ws5_cp2 = ws5_cp.copy().split().detrend(\"simple\").merge()\n",
    "# furt_cp2 = furt_cp.copy().split().detrend(\"linear\").merge()\n",
    "\n",
    "\n",
    "font = 15\n",
    "\n",
    "fig, ax = plt.subplots(2,1, figsize=(15,8), sharex=True)\n",
    "\n",
    "ax[0].plot(furt_cp.select(channel=\"LAT\")[0].times()/86400, furt_cp.select(channel=\"LAT\")[0].data, color=\"darkred\")\n",
    "ax[0].plot(tromy_cp.select(channel=\"MAT\")[0].times()/86400, tromy_cp.select(channel=\"MAT\")[0].data)\n",
    "ax[0].plot(ws5_cp.select(channel=\"LAT\")[0].times()/86400, ws5_cp.select(channel=\"LAT\")[0].data, color=\"grey\")\n",
    "\n",
    "ax[1].plot(ws5_cp2.select(channel=\"LAT\")[0].times()/86400, ws5_cp2.select(channel=\"LAT\")[0].data, color=\"grey\")\n",
    "\n",
    "ax[1].plot(tromy_cp2.select(channel=\"MAT\")[0].times()/86400, tromy_cp2.select(channel=\"MAT\")[0].data)\n",
    "\n",
    "# ax[1].set_ylim(-1,0.5)\n",
    "ax[1].set_ylim(-0.4,0.5)\n",
    "\n",
    "ax[0].set_ylabel(\"T (°C)\", fontsize=font)\n",
    "ax[1].set_ylabel(\"T (°C)\", fontsize=font)\n",
    "\n",
    "ax[1].set_xlabel(f\"Time (days) from {config['tbeg']}\", fontsize=font)\n",
    "\n",
    "for i in range(2):\n",
    "    ax[i].grid()\n",
    "\n",
    "plt.show();"
   ]
  },
  {
   "cell_type": "code",
   "execution_count": null,
   "id": "94ab28b6",
   "metadata": {
    "ExecuteTime": {
     "end_time": "2022-09-14T01:10:31.639543Z",
     "start_time": "2022-09-14T01:10:31.156989Z"
    }
   },
   "outputs": [],
   "source": []
  },
  {
   "cell_type": "code",
   "execution_count": null,
   "id": "d6fcbcea",
   "metadata": {},
   "outputs": [],
   "source": []
  }
 ],
 "metadata": {
  "kernelspec": {
   "display_name": "Python 3",
   "language": "python",
   "name": "python3"
  },
  "language_info": {
   "codemirror_mode": {
    "name": "ipython",
    "version": 3
   },
   "file_extension": ".py",
   "mimetype": "text/x-python",
   "name": "python",
   "nbconvert_exporter": "python",
   "pygments_lexer": "ipython3",
   "version": "3.7.7"
  },
  "latex_envs": {
   "LaTeX_envs_menu_present": true,
   "autoclose": false,
   "autocomplete": true,
   "bibliofile": "biblio.bib",
   "cite_by": "apalike",
   "current_citInitial": 1,
   "eqLabelWithNumbers": true,
   "eqNumInitial": 1,
   "hotkeys": {
    "equation": "Ctrl-E",
    "itemize": "Ctrl-I"
   },
   "labels_anchors": false,
   "latex_user_defs": false,
   "report_style_numbering": false,
   "user_envs_cfg": false
  },
  "toc": {
   "base_numbering": 1,
   "nav_menu": {},
   "number_sections": true,
   "sideBar": true,
   "skip_h1_title": false,
   "title_cell": "Table of Contents",
   "title_sidebar": "Contents",
   "toc_cell": false,
   "toc_position": {},
   "toc_section_display": true,
   "toc_window_display": false
  }
 },
 "nbformat": 4,
 "nbformat_minor": 5
}
