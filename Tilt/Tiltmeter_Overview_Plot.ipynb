{
 "cells": [
  {
   "cell_type": "markdown",
   "id": "extensive-movement",
   "metadata": {},
   "source": [
    "## Tiltmeter Overview Plot"
   ]
  },
  {
   "cell_type": "markdown",
   "id": "noted-resort",
   "metadata": {
    "ExecuteTime": {
     "end_time": "2021-02-19T15:09:20.288504Z",
     "start_time": "2021-02-19T15:09:20.284413Z"
    }
   },
   "source": [
    "### Import Libraries"
   ]
  },
  {
   "cell_type": "code",
   "execution_count": 1,
   "id": "animal-despite",
   "metadata": {
    "ExecuteTime": {
     "end_time": "2023-06-08T14:24:53.508585Z",
     "start_time": "2023-06-08T14:24:51.101084Z"
    }
   },
   "outputs": [],
   "source": [
    "import os\n",
    "import obspy\n",
    "import matplotlib.pyplot as plt\n",
    "import pandas as pd\n",
    "\n",
    "from numpy import arange, linspace, sqrt, diff, nan, gradient, nanmax\n",
    "from pandas import read_csv, DataFrame\n",
    "from mpl_toolkits.axes_grid1.inset_locator import inset_axes\n",
    "from numpy.ma import filled, isMaskedArray, masked\n",
    "from matplotlib.ticker import (MultipleLocator, AutoMinorLocator)\n",
    "from obspy import UTCDateTime\n",
    "from pathlib import Path\n",
    "\n",
    "from andbro__querrySeismoData import __querrySeismoData\n",
    "from andbro__get_seconds import __get_seconds\n",
    "from andbro__readYaml import __readYaml\n",
    "from andbro__get_timeaxis import __get_timeaxis"
   ]
  },
  {
   "cell_type": "markdown",
   "id": "mounted-throat",
   "metadata": {},
   "source": [
    "### Define Functions"
   ]
  },
  {
   "cell_type": "code",
   "execution_count": 2,
   "id": "de01887f",
   "metadata": {
    "ExecuteTime": {
     "end_time": "2023-06-08T14:24:53.514087Z",
     "start_time": "2023-06-08T14:24:53.509680Z"
    },
    "code_folding": [
     0
    ]
   },
   "outputs": [],
   "source": [
    "def __makeplot(pt, bt, config):\n",
    "    \n",
    "    fig, axes = plt.subplots(3,2, figsize=(15,5), sharex=True)\n",
    "    \n",
    "    for i in range(3):\n",
    "        \n",
    "        axes[i,0].plot(pt[i].times()/60, pt[i].data)\n",
    "        axes[i,1].plot(bt[i].times()/60, bt[i].data)\n",
    "        \n",
    "        axes[i,0].grid()\n",
    "        axes[i,1].grid()\n",
    "        \n",
    "    axes[2,0].set_xlabel(\"Time (min)\")\n",
    "    axes[2,1].set_xlabel(\"Time (min)\")\n",
    "    \n",
    "    axes[0,0].set_ylabel(\"$\\Omega$ (rad)\")\n",
    "    axes[1,0].set_ylabel(\"$\\Omega$ (rad)\")\n",
    "    axes[2,0].set_ylabel(\"Temp (°C)\")\n",
    "    \n",
    "    axes[0,1].set_ylabel(\"$\\Omega$ (rad)\")\n",
    "    axes[1,1].set_ylabel(\"$\\Omega$ (rad)\")\n",
    "    axes[2,1].set_ylabel(\"Temp (°C)\")\n",
    "    \n",
    "    return fig "
   ]
  },
  {
   "cell_type": "markdown",
   "id": "clean-hacker",
   "metadata": {},
   "source": [
    "### Configurations"
   ]
  },
  {
   "cell_type": "code",
   "execution_count": 3,
   "id": "superior-memorial",
   "metadata": {
    "ExecuteTime": {
     "end_time": "2023-06-08T14:24:53.566437Z",
     "start_time": "2023-06-08T14:24:53.515286Z"
    }
   },
   "outputs": [],
   "source": [
    "## configurations\n",
    "config={}\n",
    "\n",
    "path = \"/home/andbro/Desktop/tiltmeter/\"\n",
    "# path2 = '/home/andbro/Desktop/tiltmeter/WETTER/*ex'\n",
    "\n",
    "config['save'] = False\n",
    "\n",
    "config['seed_id'] = [\"BW.TROMY..MA*\", \"BW.DROMY..LA*\"]\n",
    "config['repository'] = 'george'\n",
    "config['datapath'] =  None\n",
    "config['name'] = 'tiltmeter'\n",
    "config['set_filter'] = 'n'\n",
    "\n",
    "\n",
    "## tiltmeter configurations\n",
    "try:\n",
    "    confTilt = __readYaml('/home/brotzer/Documents/ROMY/','tiltmeter.conf')\n",
    "except:\n",
    "    confTilt = __readYaml('./','tiltmeter.conf')\n",
    "\n",
    "confPT = confTilt['PT']\n",
    "confBT = confTilt['BT']\n",
    "\n"
   ]
  },
  {
   "cell_type": "code",
   "execution_count": 4,
   "id": "4a527aea",
   "metadata": {
    "ExecuteTime": {
     "end_time": "2023-06-08T14:24:53.570252Z",
     "start_time": "2023-06-08T14:24:53.567464Z"
    }
   },
   "outputs": [],
   "source": [
    "# config['tend'] = UTCDateTime.now() - 10*60\n",
    "# config['tbeg'] = config['tend'] - 15*86400\n",
    "\n",
    "## long period\n",
    "config['tbeg'] = UTCDateTime(\"2021-02-15 00:00\")\n",
    "config['tend'] = UTCDateTime(\"2021-11-24 00:00\")\n",
    "\n",
    "## strong rain\n",
    "# config['tbeg'] = UTCDateTime(\"2021-08-20 00:00\")\n",
    "# config['tend'] = UTCDateTime(\"2021-09-15 00:00\")\n",
    "\n",
    "## after reset\n",
    "config['tbeg'] = UTCDateTime(\"2021-08-01 00:00\")\n",
    "config['tend'] = UTCDateTime(\"2021-11-20 00:00\")\n",
    "\n",
    "\n",
    "## gain for Temperature channel of PT was not set correctly prior to 2021-03-03\n",
    "correct_settings_temp_PT = (\"2021-03-05\", config['tend'])"
   ]
  },
  {
   "cell_type": "markdown",
   "id": "charming-shuttle",
   "metadata": {},
   "source": [
    "### Load Tiltmeter Data"
   ]
  },
  {
   "cell_type": "code",
   "execution_count": 5,
   "id": "younger-tower",
   "metadata": {
    "ExecuteTime": {
     "end_time": "2023-06-08T14:24:53.664005Z",
     "start_time": "2023-06-08T14:24:53.571136Z"
    }
   },
   "outputs": [
    {
     "ename": "TypeError",
     "evalue": "__querrySeismoData() got an unexpected keyword argument 'where'",
     "output_type": "error",
     "traceback": [
      "\u001b[0;31m---------------------------------------------------------------------------\u001b[0m",
      "\u001b[0;31mTypeError\u001b[0m                                 Traceback (most recent call last)",
      "\u001b[0;32m<ipython-input-5-742cc485585b>\u001b[0m in \u001b[0;36m<module>\u001b[0;34m\u001b[0m\n\u001b[1;32m      7\u001b[0m                             \u001b[0mrestitute\u001b[0m\u001b[0;34m=\u001b[0m\u001b[0;32mFalse\u001b[0m\u001b[0;34m,\u001b[0m\u001b[0;34m\u001b[0m\u001b[0;34m\u001b[0m\u001b[0m\n\u001b[1;32m      8\u001b[0m                             \u001b[0mdetail\u001b[0m\u001b[0;34m=\u001b[0m\u001b[0;32mNone\u001b[0m\u001b[0;34m,\u001b[0m\u001b[0;34m\u001b[0m\u001b[0;34m\u001b[0m\u001b[0m\n\u001b[0;32m----> 9\u001b[0;31m                             \u001b[0mfill_value\u001b[0m\u001b[0;34m=\u001b[0m\u001b[0;34m-\u001b[0m\u001b[0;36m9999\u001b[0m\u001b[0;34m,\u001b[0m\u001b[0;34m\u001b[0m\u001b[0;34m\u001b[0m\u001b[0m\n\u001b[0m\u001b[1;32m     10\u001b[0m                             )\n\u001b[1;32m     11\u001b[0m \u001b[0;34m\u001b[0m\u001b[0m\n",
      "\u001b[0;31mTypeError\u001b[0m: __querrySeismoData() got an unexpected keyword argument 'where'"
     ]
    }
   ],
   "source": [
    "pt, inv0 = __querrySeismoData(    \n",
    "                            seed_id=config.get(\"seed_id\")[0],\n",
    "                            starttime=config.get(\"tbeg\"),\n",
    "                            endtime=config.get(\"tend\"),\n",
    "                            where=config.get(\"repository\"),\n",
    "                            path=config.get(\"datapath\"),\n",
    "                            restitute=False,\n",
    "                            detail=None,\n",
    "                            fill_value=-9999, \n",
    "                            )\n",
    "\n",
    "pt.resample(1.0)\n",
    "\n",
    "pt"
   ]
  },
  {
   "cell_type": "code",
   "execution_count": null,
   "id": "alike-timeline",
   "metadata": {
    "ExecuteTime": {
     "end_time": "2023-06-08T14:24:53.665755Z",
     "start_time": "2023-06-08T14:24:51.112Z"
    }
   },
   "outputs": [],
   "source": [
    "bt, inv0 = __querrySeismoData(    \n",
    "                            seed_id=config.get(\"seed_id\")[1],\n",
    "                            starttime=config.get(\"tbeg\"),\n",
    "                            endtime=config.get(\"tend\"),\n",
    "                            where=config.get(\"repository\"),\n",
    "                            path=config.get(\"datapath\"),\n",
    "                            restitute=True,\n",
    "                            detail=None,\n",
    "                            fill_value=-9999, \n",
    "                            )\n",
    "\n",
    "bt.resample(0.1)\n",
    "\n",
    "bt"
   ]
  },
  {
   "cell_type": "markdown",
   "id": "af96ad7e",
   "metadata": {},
   "source": [
    "### Covert Data"
   ]
  },
  {
   "cell_type": "code",
   "execution_count": null,
   "id": "9969b211",
   "metadata": {
    "ExecuteTime": {
     "end_time": "2023-06-08T14:24:53.666287Z",
     "start_time": "2023-06-08T14:24:51.114Z"
    },
    "code_folding": [
     0
    ]
   },
   "outputs": [],
   "source": [
    "def __conversion(st, confBT, confPT):\n",
    "\n",
    "    def convertTemp(trace, gain):\n",
    "        Tvolt = trace.data * gain\n",
    "        return 10.18 - 11.59*Tvolt + 0.3335*Tvolt**2 - 0.5316*Tvolt**3\n",
    "\n",
    "    def convertTilt(trace, conversion, sensitivity):\n",
    "        return trace.data * conversion * sensitivity\n",
    "        # print( type(conversion), type(sensitivity), type(trace.data) )\n",
    "\n",
    "    for tr in st:\n",
    "        if tr.stats.channel == 'MAT':\n",
    "            tr.data = convertTemp(tr, confPT['gainTemp'])\n",
    "        elif tr.stats.channel == 'MAN':\n",
    "            tr.data = convertTilt(tr, confPT['convPTN'], confPT['gainTilt'])\n",
    "        elif tr.stats.channel == 'MAE':\n",
    "            tr.data = convertTilt(tr, confPT['convPTE'], confPT['gainTilt'])\n",
    "\n",
    "        elif tr.stats.channel == 'LAT':\n",
    "            tr.data = convertTemp(tr, confBT['gainTemp'])\n",
    "        elif tr.stats.channel == 'LAN':\n",
    "            tr.data = convertTilt(tr, confBT['convBTN'], confBT['gainTilt'])\n",
    "        elif tr.stats.channel == 'LAE':\n",
    "            tr.data = convertTilt(tr, confBT['convBTE'], confBT['gainTilt'])\n",
    "\n",
    "    print(\"  -> converted data\")\n",
    "    return st"
   ]
  },
  {
   "cell_type": "code",
   "execution_count": null,
   "id": "513fce1a",
   "metadata": {
    "ExecuteTime": {
     "end_time": "2023-06-08T14:24:53.666800Z",
     "start_time": "2023-06-08T14:24:51.116Z"
    }
   },
   "outputs": [],
   "source": [
    "pt = __conversion(pt, confBT, confPT)\n",
    "\n",
    "bt = __conversion(bt, confBT, confPT)"
   ]
  },
  {
   "cell_type": "code",
   "execution_count": null,
   "id": "2fdc112d",
   "metadata": {
    "ExecuteTime": {
     "end_time": "2023-06-08T14:24:53.667423Z",
     "start_time": "2023-06-08T14:24:51.117Z"
    }
   },
   "outputs": [],
   "source": [
    "fig = __makeplot(pt, bt, config);"
   ]
  },
  {
   "cell_type": "markdown",
   "id": "1de84c04",
   "metadata": {},
   "source": [
    "## find corrupt periods"
   ]
  },
  {
   "cell_type": "code",
   "execution_count": null,
   "id": "18668ca3",
   "metadata": {
    "ExecuteTime": {
     "end_time": "2023-06-08T14:24:53.667939Z",
     "start_time": "2023-06-08T14:24:51.120Z"
    }
   },
   "outputs": [],
   "source": [
    "\n",
    "# n1 = 125_000\n",
    "# n2 = n1 + 310_000\n",
    "\n",
    "# plt.figure()\n",
    "# plt.plot(pt[0].data[n1:n2])\n",
    "\n",
    "# pt[0].times(type=\"utcdatetime\")[n1]\n",
    "# pt[0].times(type=\"utcdatetime\")[n2]"
   ]
  },
  {
   "cell_type": "markdown",
   "id": "published-apparel",
   "metadata": {},
   "source": [
    "#### cutout maintenance work and unreliable data"
   ]
  },
  {
   "cell_type": "code",
   "execution_count": null,
   "id": "everyday-brand",
   "metadata": {
    "ExecuteTime": {
     "end_time": "2023-06-08T14:24:53.668438Z",
     "start_time": "2023-06-08T14:24:51.123Z"
    }
   },
   "outputs": [],
   "source": [
    "# ## maintenance interruption \n",
    "# maintenancePT = [\n",
    "#                 (\"2021-03-02 16:00\", \"2021-03-02 19:00\"),\n",
    "#                 (\"2021-03-04 15:00\", \"2021-03-04 17:00\"),\n",
    "#                 (\"2021-03-04 23:30\", \"2021-03-05 00:30\"),\n",
    "#                 ]\n",
    "\n",
    "# maintenanceBT = [\n",
    "#                 (\"2021-03-04 13:15\", \"2021-03-04 16:00\"),\n",
    "#                 (\"2021-03-09 10:45\", \"2021-03-09 11:30\"),\n",
    "#                 ]\n",
    "\n",
    "# ## data influenced probably py dehumidifier\n",
    "# corrupt_data = [\n",
    "#                 (\"2021-02-15 16:00\", \"2021-02-24 14:00\" ),\n",
    "#                 (\"2021-03-02 14:00\", \"2021-03-09 17:00\"),\n",
    "#                ]"
   ]
  },
  {
   "cell_type": "markdown",
   "id": "e95295b1",
   "metadata": {},
   "source": [
    "### Cut Corrupt Periods"
   ]
  },
  {
   "cell_type": "code",
   "execution_count": null,
   "id": "2156120b",
   "metadata": {
    "ExecuteTime": {
     "end_time": "2023-06-08T14:24:53.668944Z",
     "start_time": "2023-06-08T14:24:51.125Z"
    },
    "code_folding": [
     0
    ]
   },
   "outputs": [],
   "source": [
    "def __cut_corrupt_data(st, name, log, config):\n",
    "\n",
    "    from obspy import UTCDateTime\n",
    "    from numpy import nan\n",
    "    \n",
    "    for i in range(len(log.starttime)):\n",
    "        \n",
    "        val1_utc, val2_utc = UTCDateTime(log.starttime[i]), UTCDateTime(log.endtime[i])\n",
    "        \n",
    "        \n",
    "        if val1_utc > st[0].stats.starttime and val2_utc < st[0].stats.endtime:\n",
    "            print(f\"cutting corrupt data: {i}...\")\n",
    "            \n",
    "            if log.device[i] in [name, \" \"]:\n",
    "                st0 = st.slice(UTCDateTime(config['tbeg']), val1_utc )\n",
    "                st0 += st.slice(val2_utc, UTCDateTime(config['tend']))\n",
    "\n",
    "                st0.merge(fill_value = nan)\n",
    "\n",
    "                st = st0\n",
    "        \n",
    "    return st"
   ]
  },
  {
   "cell_type": "code",
   "execution_count": null,
   "id": "108d3db7",
   "metadata": {
    "ExecuteTime": {
     "end_time": "2023-06-08T14:24:53.669397Z",
     "start_time": "2023-06-08T14:24:51.126Z"
    },
    "code_folding": []
   },
   "outputs": [],
   "source": [
    "config['path_to_maintenance_log'] = \"/home/brotzer/Documents/ROMY/tiltmeter/tiltmeter_maintenance.log\"\n",
    "\n",
    "tiltmeter_maintenance_log = pd.read_csv(config['path_to_maintenance_log'], header=1, names=[\"starttime\", \"endtime\", \"device\", \"remark\"])\n",
    "\n",
    "\n",
    "pt = __cut_corrupt_data(pt, 'pt', tiltmeter_maintenance_log, config) \n",
    "bt = __cut_corrupt_data(bt, 'bt', tiltmeter_maintenance_log, config) "
   ]
  },
  {
   "cell_type": "code",
   "execution_count": null,
   "id": "946dcc9c",
   "metadata": {
    "ExecuteTime": {
     "end_time": "2023-06-08T14:24:53.669876Z",
     "start_time": "2023-06-08T14:24:51.128Z"
    }
   },
   "outputs": [],
   "source": [
    "tiltmeter_maintenance_log"
   ]
  },
  {
   "cell_type": "code",
   "execution_count": null,
   "id": "6dd51457",
   "metadata": {
    "ExecuteTime": {
     "end_time": "2023-06-08T14:24:53.670329Z",
     "start_time": "2023-06-08T14:24:51.131Z"
    }
   },
   "outputs": [],
   "source": [
    "fig = __makeplot(pt, bt, config);"
   ]
  },
  {
   "cell_type": "markdown",
   "id": "535803cb",
   "metadata": {},
   "source": [
    "### Correct for LongTerm Temperature Trend"
   ]
  },
  {
   "cell_type": "code",
   "execution_count": null,
   "id": "50d5a906",
   "metadata": {
    "ExecuteTime": {
     "end_time": "2023-06-08T14:24:53.670951Z",
     "start_time": "2023-06-08T14:24:51.133Z"
    }
   },
   "outputs": [],
   "source": [
    "correction_LT_pt = __readYaml(\"./\", \"correction_longterm_pt.yml\")\n",
    "correction_LT_bt = __readYaml(\"./\", \"correction_longterm_bt.yml\")\n",
    "\n",
    "## correct with regression slope and temperature\n",
    "pt[0].data = pt[0].data - float(correction_LT_pt.get('slopes').get('C1')) * pt[2].data\n",
    "pt[1].data = pt[1].data - float(correction_LT_pt.get('slopes').get('C2')) * pt[2].data\n",
    "\n",
    "## correct with regression slope and temperature\n",
    "bt[0].data = bt[0].data - float(correction_LT_bt.get('slopes').get('C1')) * bt[2].data\n",
    "bt[1].data = bt[1].data - float(correction_LT_bt.get('slopes').get('C2')) * bt[2].data"
   ]
  },
  {
   "cell_type": "code",
   "execution_count": null,
   "id": "9104fc6d",
   "metadata": {
    "ExecuteTime": {
     "end_time": "2023-06-08T14:24:53.671481Z",
     "start_time": "2023-06-08T14:24:51.134Z"
    }
   },
   "outputs": [],
   "source": [
    "fig = __makeplot(pt, bt, config);"
   ]
  },
  {
   "cell_type": "markdown",
   "id": "obvious-imaging",
   "metadata": {
    "ExecuteTime": {
     "end_time": "2021-02-23T08:42:57.050040Z",
     "start_time": "2021-02-23T08:42:57.046253Z"
    }
   },
   "source": [
    "### Load FURT Data"
   ]
  },
  {
   "cell_type": "code",
   "execution_count": null,
   "id": "b2773285",
   "metadata": {
    "ExecuteTime": {
     "end_time": "2023-06-08T14:24:53.672068Z",
     "start_time": "2023-06-08T14:24:51.137Z"
    },
    "code_folding": [
     0
    ]
   },
   "outputs": [],
   "source": [
    "def __read_furt_data(config, show_raw=False):\n",
    "    '''\n",
    "    Load a selection of data of FURT weather station for time period\n",
    "    \n",
    "    \n",
    "    PARAMETERS:\n",
    "        - config:    configuration dictionary\n",
    "        - show_raw:  bool (True/False) -> shows raw data FURT head\n",
    "\n",
    "\n",
    "    RETURN:\n",
    "        - dataframe\n",
    "        \n",
    "    '''\n",
    "    \n",
    "    from tqdm import tqdm\n",
    "    from numpy import arange\n",
    "        \n",
    "        \n",
    "    ## define path_to_archive -> directory with data\n",
    "    if 'path_to_archive' in config.keys():\n",
    "        path_to_archive = config['path_to_archive']\n",
    "    else:\n",
    "        path_to_archive = '/bay200/gif_online/FURT/WETTER/'\n",
    "        \n",
    "    ## check if path with data exists\n",
    "    if not Path(path_to_archive).exists():\n",
    "        print(f\"  -> Path: {path_to_archive}, does not exists!\")\n",
    "        return    \n",
    "    \n",
    "    \n",
    "    ## list of parameters requried in configurations\n",
    "    params = ['tbeg', 'tend']\n",
    "    for param in params:\n",
    "        if not param in config.keys():\n",
    "            print(f\"ERROR: {param} not in config but required!\")\n",
    "            return\n",
    "    \n",
    "    \n",
    "    ## declare empyt dataframe\n",
    "    df = pd.DataFrame()\n",
    "    \n",
    "    ## loop over day files and load data\n",
    "    for i, date in tqdm(enumerate(arange(config['tbeg'].date, (config['tend']+86400).date))):\n",
    "        \n",
    "        date = UTCDateTime(str(date)).date\n",
    "        filename = f'FURT.WSX.D.{str(date.day).rjust(2,\"0\")}{str(date.month).rjust(2,\"0\")}{str(date.year).rjust(2,\"0\")[-2:]}.0000'\n",
    "        \n",
    "#         print(f'   reading {filename} ...')\n",
    "\n",
    "        try:\n",
    "            if show_raw:\n",
    "                df0 = pd.read_csv(path_to_archive+filename)            \n",
    "                print(df0.columns.tolist())\n",
    "                return\n",
    "            else:\n",
    "                df0 = pd.read_csv(path_to_archive+filename, usecols=[0,1,10,12,13,14], names=['date', 'time', 'T', 'H', 'P','Rc'])            \n",
    "            \n",
    "            ## substitute strings with floats\n",
    "            df0['T']  = df0['T'].str.split(\"=\", expand=True)[1].str.split(\"C\", expand=True)[0].astype(float)\n",
    "            df0['P']  = df0['P'].str.split(\"=\", expand=True)[1].str.split(\"H\", expand=True)[0].astype(float)\n",
    "            df0['H']  = df0['H'].str.split(\"=\", expand=True)[1].str.split(\"P\", expand=True)[0].astype(float)\n",
    "            df0['Rc'] = df0['Rc'].str.split(\"=\", expand=True)[1].str.split(\"M\", expand=True)[0].astype(float)\n",
    "           \n",
    "            \n",
    "            ## replace error indicating values (-9999, 999.9) with NaN values\n",
    "            df0.replace(to_replace=-9999, value=nan, inplace=True)\n",
    "            df0.replace(to_replace=999.9, value=nan, inplace=True)\n",
    "            \n",
    "            \n",
    "            if df.empty:\n",
    "                df = df0\n",
    "            else: \n",
    "                df = pd.concat([df, df0])\n",
    "        except:\n",
    "            print(f\"  -> File: {filename}, does not exists!\")\n",
    "   \n",
    "    df.reset_index(inplace=True, drop=True)\n",
    "        \n",
    "    return df"
   ]
  },
  {
   "cell_type": "code",
   "execution_count": null,
   "id": "86915748",
   "metadata": {
    "ExecuteTime": {
     "end_time": "2023-06-08T14:24:53.672560Z",
     "start_time": "2023-06-08T14:24:51.138Z"
    },
    "code_folding": [
     0
    ]
   },
   "outputs": [],
   "source": [
    "def __processing_FURT(data, config):\n",
    "    \n",
    "    filter_length = 10*config['resample']\n",
    "    \n",
    "    data.iloc[:,3:6] = data.iloc[:,3:6].rolling(filter_length).mean() \n",
    "    print(f\"Filter: rooling mean {filter_length}!\")\n",
    "    \n",
    "    data = data[data.index % config['resample'] == 0]\n",
    "    print(f\"Resampling: keep every {config['resample']}nth sample!\")\n",
    "    \n",
    "    return data"
   ]
  },
  {
   "cell_type": "code",
   "execution_count": null,
   "id": "6d12174f",
   "metadata": {
    "ExecuteTime": {
     "end_time": "2023-06-08T14:24:53.673033Z",
     "start_time": "2023-06-08T14:24:51.139Z"
    }
   },
   "outputs": [],
   "source": [
    "FURT = __read_furt_data(config)"
   ]
  },
  {
   "cell_type": "code",
   "execution_count": null,
   "id": "dc90604e",
   "metadata": {
    "ExecuteTime": {
     "end_time": "2023-06-08T14:24:53.673553Z",
     "start_time": "2023-06-08T14:24:51.141Z"
    }
   },
   "outputs": [],
   "source": [
    "## set column headers\n",
    "FURT = FURT[['date', 'time', 'T', 'P', 'H', 'Rc']]\n",
    "\n",
    "## resampling \n",
    "config['resample'] = 10\n",
    "FURT = __processing_FURT(FURT, config)\n",
    "\n",
    "\n",
    "## check if date column consists of integers\n",
    "if str(FURT['date'].dtype) == 'float64':\n",
    "    FURT['date'] = FURT['date'].astype('int')\n",
    "\n",
    "    \n",
    "## add a column with day of year\n",
    "FURT['doy'] = [int(UTCDateTime(f'20{str(int(dat)).rjust(6,\"0\")[-2:]}-{str(int(dat)).rjust(6,\"0\")[-4:-2]}-{str(int(dat)).rjust(6,\"0\")[-6:-4]}').julday) for dat in FURT.date]"
   ]
  },
  {
   "cell_type": "code",
   "execution_count": null,
   "id": "ignored-eating",
   "metadata": {
    "ExecuteTime": {
     "end_time": "2023-06-08T14:24:53.674066Z",
     "start_time": "2023-06-08T14:24:51.143Z"
    },
    "code_folding": [
     0
    ]
   },
   "outputs": [],
   "source": [
    "def __get_vector(N, E, Twin=3600):\n",
    "\n",
    "    from numpy import median, sqrt, arctan, degrees, mod, array, append, rad2deg\n",
    "\n",
    "    \n",
    "    dt = N[0].stats.delta\n",
    "    t1 = N[0].stats.starttime\n",
    "    t1 = 0\n",
    "\n",
    "    Ndata = N[0].data\n",
    "    Edata = E[0].data\n",
    "\n",
    "    vnorm, vdir, timeline = [], [], []\n",
    "    while (t1 + Twin*dt) < N[0].stats.npts:\n",
    "\n",
    "\n",
    "        Nmed = median(Ndata[int(t1*dt):int((t1+Twin)*dt)])\n",
    "        Emed = median(Edata[int(t1*dt):int((t1+Twin)*dt)])\n",
    "\n",
    "        vnorm.append(sqrt(Nmed**2 + Emed**2))\n",
    "    #     vdir.append(mod(degrees(arctan(Nmed/Emed)), 360))\n",
    "        vdir.append(rad2deg(arctan(Nmed/Emed)))\n",
    "\n",
    "        t1 += Twin/2*dt\n",
    "    \n",
    "        timeline.append(t1*dt)\n",
    "    \n",
    "    \n",
    "    time_offset = N[0].stats.starttime.hour*3600+ N[0].stats.starttime.minute*60 + N[0].stats.starttime.second\n",
    "    timeline = ( array(timeline) + time_offset ) / 3600 /24 # in hours\n",
    "    \n",
    "    return timeline, array(vdir), array(vnorm)\n",
    "\n",
    "bt_vtimeline, bt_vdir, bt_vnorm = __get_vector(bt.select(channel=\"*N\"), bt.select(channel=\"*E\"), Twin=3600)\n",
    "pt_vtimeline, pt_vdir, pt_vnorm = __get_vector(pt.select(channel=\"*N\"), pt.select(channel=\"*E\"), Twin=3600)"
   ]
  },
  {
   "cell_type": "markdown",
   "id": "detailed-france",
   "metadata": {},
   "source": [
    "### Plotting"
   ]
  },
  {
   "cell_type": "code",
   "execution_count": null,
   "id": "municipal-chicago",
   "metadata": {
    "ExecuteTime": {
     "end_time": "2023-06-08T14:24:53.674609Z",
     "start_time": "2023-06-08T14:24:51.144Z"
    },
    "code_folding": [
     0
    ]
   },
   "outputs": [],
   "source": [
    "def __makeplote_overview(pt, bt, FURT):\n",
    "    \n",
    "    fig, ax = plt.subplots(8, 1, figsize=(15,10), sharex=True)\n",
    "\n",
    "    font=14\n",
    "\n",
    "    timeline_furt, ticks_furt, ticklabels_furt, text_furt = __get_timeaxis(\n",
    "                                                                            dates=FURT['date'],\n",
    "                                                                            times=FURT['time'],\n",
    "                                                                            unit='date',\n",
    "                                                                            unitmode='relative',\n",
    "                                                                            dateformat='ddmmyy',\n",
    "                                                                          )\n",
    "    utcdatetimes = bt[0].times(type=\"utcdatetime\")\n",
    "    \n",
    "    timeline, ticks, ticklabels, text = __get_timeaxis(\n",
    "                                                        utcdatetime=utcdatetimes,\n",
    "                                                        unit='date',\n",
    "                                                        unitmode='relative',\n",
    "                                                        dateformat='ddmmyy',\n",
    "                                                      )    \n",
    "    \n",
    "    \n",
    "    \n",
    "    \n",
    "    ax[0].plot(timeline, bt[0].data)\n",
    "    \n",
    "    ax[6].plot(timeline_furt, FURT['T']) \n",
    "\n",
    "\n",
    "    plt.show();\n",
    "    return fig\n",
    "    \n",
    "# __makeplote_overview(pt, bt, FURT);"
   ]
  },
  {
   "cell_type": "code",
   "execution_count": null,
   "id": "emotional-checklist",
   "metadata": {
    "ExecuteTime": {
     "end_time": "2023-06-08T14:24:53.675179Z",
     "start_time": "2023-06-08T14:24:51.145Z"
    },
    "code_folding": [
     0
    ]
   },
   "outputs": [],
   "source": [
    "def __makeplote_platform(st, FURT):\n",
    "    \n",
    "    N = 6\n",
    "    \n",
    "    fig, ax = plt.subplots(N, 1, figsize=(15,10), sharex=True)\n",
    "\n",
    "    font=14\n",
    "\n",
    "    timeline_furt, ticks_furt, ticklabels_furt, text_furt = __get_timeaxis(\n",
    "                                                                            dates=FURT['date'],\n",
    "                                                                            times=FURT['time'],\n",
    "                                                                            unit='date',\n",
    "                                                                            unitmode='relative',\n",
    "                                                                            dateformat='ddmmyy',\n",
    "                                                                          )\n",
    "    \n",
    "    timeline, ticks, ticklabels, text = __get_timeaxis(\n",
    "                                                        utcdatetime=st[0].times(type=\"utcdatetime\"),\n",
    "                                                        unit='date',\n",
    "                                                        unitmode='relative',\n",
    "                                                        dateformat='ddmmyy',\n",
    "                                                      )    \n",
    "    \n",
    "    \n",
    "    \n",
    "    ## plotting\n",
    "\n",
    "    ax[0].plot(timeline, st[0].data, zorder=2, label=\"E-W\", color='k')\n",
    "    ax[1].plot(timeline, st[1].data, zorder=2,label=\"N-S\", color='k')\n",
    "    ax[2].plot(timeline, st[2].data, zorder=2, label=\"int. Temperature\", color='darkred')\n",
    "    ax[3].plot(timeline_furt, FURT['T'], zorder=2, label=\"FURT T\", color='darkred')\n",
    "    ax[4].plot(timeline_furt, FURT['P'], zorder=2, label=\"FURT P\", color='purple') \n",
    "#     ax[5].semilogy(timeline_furt, FURT['Rc'], zorder=2, label=\"FURT Rain\", color='darkblue') \n",
    "    ax[5].fill_between(timeline_furt, FURT['Rc'], zorder=2, color='blue', alpha=0.6, label=\"FURT Rain\") \n",
    "\n",
    "    \n",
    "    ax[0].set_ylabel(\"$\\Omega$ (rad)\")\n",
    "    ax[1].set_ylabel(\"$\\Omega$ (rad)\")\n",
    "    ax[2].set_ylabel(\"T (°C)\")\n",
    "    ax[3].set_ylabel(\"T (°C)\")\n",
    "    ax[4].set_ylabel(\"P (hPa)\")\n",
    "    ax[5].set_ylabel(\"Rain (mm)\")\n",
    "    \n",
    "    ax[N-1].set_xticklabels(ticklabels[::8], fontsize=font-2)\n",
    "    ax[N-1].set_xticks(ticks[::8])\n",
    "    ax[N-1].set_xlabel(text, fontsize=font)\n",
    "    ax[N-1].set_xlim(timeline[0], timeline[-1])\n",
    "    \n",
    "    ax[5].set_ylim(0, nanmax(FURT['Rc']))\n",
    "    \n",
    "    for i in range(N):\n",
    "        ax[i].legend(loc=\"upper right\")\n",
    "        ax[i].grid(True, ls=\"--\", alpha=0.7, zorder=0)\n",
    "        \n",
    "\n",
    "    plt.show();\n",
    "    return fig,\n",
    "    \n",
    "__makeplote_platform(pt, FURT);"
   ]
  },
  {
   "cell_type": "markdown",
   "id": "29ba3b39",
   "metadata": {},
   "source": [
    "## Tilt Vector"
   ]
  },
  {
   "cell_type": "code",
   "execution_count": null,
   "id": "d02ef632",
   "metadata": {
    "ExecuteTime": {
     "end_time": "2023-06-08T14:24:53.675702Z",
     "start_time": "2023-06-08T14:24:51.148Z"
    },
    "code_folding": [
     0
    ]
   },
   "outputs": [],
   "source": [
    "def __get_movement(N, E, Twin=3600):\n",
    "\n",
    "    from numpy import median, sqrt, arctan, degrees, mod, array, append, rad2deg, nan\n",
    "    from numpy import ma\n",
    "    \n",
    "    dt = N[0].stats.delta\n",
    "#     t1 = N[0].stats.starttime\n",
    "    t1 = 0\n",
    "\n",
    "    Ndata = N[0].data\n",
    "    Edata = E[0].data\n",
    "\n",
    "    if ma.is_masked(Ndata):\n",
    "        Ndata = ma.filled(Ndata, fill_value=nan)\n",
    "    if ma.is_masked(Edata):\n",
    "        Edata = ma.filled(Edata, fill_value=nan)\n",
    "        \n",
    "    vnorm, vdir, timeline = [], [], []\n",
    "    while (t1 + Twin) < N[0].stats.npts*dt:\n",
    "        \n",
    "        Nmed = median(Ndata[int(t1/dt):int((t1+Twin)/dt)])\n",
    "        Emed = median(Edata[int(t1/dt):int((t1+Twin)/dt)])\n",
    "\n",
    "        \n",
    "        vnorm.append(sqrt(Nmed**2 + Emed**2))\n",
    "        \n",
    "        if Nmed > 0 and Emed > 0:\n",
    "            vdir.append(90-abs(rad2deg(arctan(abs(Nmed/Emed)))))\n",
    "        \n",
    "        elif Nmed < 0 and Emed > 0:\n",
    "            vdir.append(90+abs(rad2deg(arctan(abs(Nmed/Emed)))))\n",
    "        \n",
    "        elif Nmed < 0 and Emed < 0:\n",
    "            vdir.append(270-abs(rad2deg(arctan(abs(Nmed/Emed)))))\n",
    "        \n",
    "        elif Nmed > 0 and Emed < 0:\n",
    "            vdir.append(270+abs(rad2deg(arctan(abs(Nmed/Emed)))))\n",
    "        \n",
    "        else:\n",
    "            vdir.append(nan)\n",
    "            \n",
    "        t1 += Twin/2\n",
    "    \n",
    "        timeline.append(t1)\n",
    "    \n",
    "    time_offset = N[0].stats.starttime.julday\n",
    "    timeline = array(timeline)/3600 /24 + time_offset# in days\n",
    "    \n",
    "    return timeline, array(vdir), array(vnorm)"
   ]
  },
  {
   "cell_type": "code",
   "execution_count": null,
   "id": "f193ee68",
   "metadata": {
    "ExecuteTime": {
     "end_time": "2023-06-08T14:24:53.676235Z",
     "start_time": "2023-06-08T14:24:51.150Z"
    },
    "code_folding": []
   },
   "outputs": [],
   "source": [
    "def __makeplot_normal_vector_movement(vdirH, vnormH, vdirV, vnormV, vtimelineH, vtimelineV):\n",
    "    \n",
    "    #-- Plot... ------------------------------------------------\n",
    "    fig, ax = plt.subplots(1, 2, subplot_kw=dict(projection='polar'), figsize=(15,5))\n",
    "\n",
    "    font=12\n",
    "\n",
    "\n",
    "    p1 = ax[0].scatter(deg2rad(vdirH), vnormH, c=vtimelineH, cmap='plasma', alpha=0.75, s=4, zorder=2)\n",
    "    p2 = ax[1].scatter(deg2rad(vdirV), vnormV, c=vtimelineV, cmap='plasma', alpha=0.75, s=4, zorder=2)\n",
    "\n",
    "    cbar1 = plt.colorbar(p1, ax=ax[0], pad=0.1)\n",
    "    cbar1.set_label('Time in days', rotation=270, fontsize=font, labelpad=18)\n",
    "\n",
    "    cbar2 = plt.colorbar(p2, ax=ax[1],  pad=0.1)\n",
    "    cbar2.set_label('Time in days of 2021', rotation=270, fontsize=font, labelpad=18)\n",
    "\n",
    "\n",
    "#     ax[0].set_ylim(min(vnormH)-0.1*min(vnormH), max(vnormH)+0.05*max(vnormH))\n",
    "\n",
    "#     ax[1].set_ylim(min(vnormV)-0.05*min(vnormV), max(vnormV)+0.01*max(vnormV))\n",
    "\n",
    "    ax[0].set_ylim(0.15, 0.18)\n",
    "    ax[1].set_ylim(0.2, 0.24)\n",
    "\n",
    "    ax[0].set_theta_zero_location('N')\n",
    "    ax[0].set_theta_direction(-1)\n",
    "\n",
    "    ax[1].set_theta_zero_location('N')\n",
    "    ax[1].set_theta_direction(-1)\n",
    "    \n",
    "    ax[0].text(deg2rad(25),93,r\"$\\mu$rad\")\n",
    "    ax[1].text(deg2rad(25),93,r\"$\\mu$rad\")\n",
    "    \n",
    "#     ax[0].set_rgrids(arange(15, 50, 5), angle=60., zorder=0)\n",
    "#     ax[1].set_rgrids(arange(22.5, 40.0, 2.5), angle=60., zorder=0)\n",
    "\n",
    "    ax[0].set_title(\"Platform Tiltmeter\",fontsize=font)\n",
    "    ax[1].set_title(\"Borehole Tiltmeter\",fontsize=font)"
   ]
  },
  {
   "cell_type": "code",
   "execution_count": null,
   "id": "824f534e",
   "metadata": {
    "ExecuteTime": {
     "end_time": "2023-06-08T14:24:53.676814Z",
     "start_time": "2023-06-08T14:24:51.152Z"
    },
    "code_folding": [
     0
    ]
   },
   "outputs": [],
   "source": [
    "def __makeplot_vector(vdirH, vnormH, vdirV, vnormV, vtimelineH, vtimelineV):\n",
    "    \n",
    "    N = 2\n",
    "    font = 12\n",
    " \n",
    "    fig, ax = plt.subplots(N, 2, figsize=(15,6), sharex=True)\n",
    "    \n",
    "#     ax[0][0].plot(vtimelineH, vnormH)\n",
    "    ax[0][0].scatter(vtimelineH, vnormH, c=vtimelineH, cmap=\"plasma\", s=0.7)\n",
    "    \n",
    "#     ax[0][1].plot(vtimelineV, vnormV)\n",
    "    ax[0][1].scatter(vtimelineV, vnormV, c=vtimelineH, cmap=\"plasma\", s=0.7)\n",
    "    \n",
    "#     ax[1][0].plot(vtimelineH, vdirH)\n",
    "    ax[1][0].scatter(vtimelineH, vdirH, c=vtimelineH, cmap=\"plasma\", s=0.7)\n",
    "\n",
    "#     ax[1][1].plot(vtimelineV, vdirV)\n",
    "    ax[1][1].scatter(vtimelineV, vdirV, c=vtimelineH, cmap=\"plasma\", s=0.7)\n",
    "   \n",
    "    ax[0][0].grid(zorder=0, alpha=0.7, color=\"grey\", ls=\":\")\n",
    "    ax[0][1].grid(zorder=0, alpha=0.7, color=\"grey\", ls=\":\")\n",
    "    ax[1][0].grid(zorder=0, alpha=0.7, color=\"grey\", ls=\":\")\n",
    "    ax[1][1].grid(zorder=0, alpha=0.7, color=\"grey\", ls=\":\")\n",
    "    \n",
    "    ax[0][0].set_title('Platform Tiltmeter', fontsize=font)\n",
    "    ax[0][1].set_title('Borehole Tiltmeter', fontsize=font)\n",
    "    \n",
    "    ax[0][0].set_ylabel(\"Vector Norm (mrad)\", fontsize=font)\n",
    "    ax[1][0].set_ylabel(\"Degrees (°)\", fontsize=font)\n",
    "    \n",
    "    ax[N-1][0].set_xlabel(\"Day of Year\", fontsize=font)\n",
    "    ax[N-1][1].set_xlabel(\"Day of Year\", fontsize=font)\n",
    "    \n",
    "    return fig"
   ]
  },
  {
   "cell_type": "code",
   "execution_count": null,
   "id": "a45a9348",
   "metadata": {
    "ExecuteTime": {
     "end_time": "2023-06-08T14:24:53.677308Z",
     "start_time": "2023-06-08T14:24:51.153Z"
    }
   },
   "outputs": [],
   "source": [
    "from numpy import deg2rad\n",
    "\n",
    "vtimelineH, vdirH, vnormH = __get_movement(pt.select(channel=\"*N\"), pt.select(channel=\"*E\"), Twin=3600)\n",
    "vtimelineV, vdirV, vnormV = __get_movement(bt.select(channel=\"*N\"), bt.select(channel=\"*E\"), Twin=3600)\n",
    "\n",
    "vnormH *= 1e3 # convert to milli rad\n",
    "vnormV *= 1e3 # convert to milli rad"
   ]
  },
  {
   "cell_type": "code",
   "execution_count": null,
   "id": "7c86cc8c",
   "metadata": {
    "ExecuteTime": {
     "end_time": "2023-06-08T14:24:53.677795Z",
     "start_time": "2023-06-08T14:24:51.156Z"
    }
   },
   "outputs": [],
   "source": [
    "__makeplot_normal_vector_movement(vdirH, vnormH, vdirV, vnormV, vtimelineH, vtimelineV)"
   ]
  },
  {
   "cell_type": "code",
   "execution_count": null,
   "id": "7a3b5ce7",
   "metadata": {
    "ExecuteTime": {
     "end_time": "2023-06-08T14:24:53.678327Z",
     "start_time": "2023-06-08T14:24:51.158Z"
    },
    "code_folding": []
   },
   "outputs": [],
   "source": [
    "__makeplot_vector(vdirH, vnormH, vdirV, vnormV, vtimelineH, vtimelineV);"
   ]
  },
  {
   "cell_type": "code",
   "execution_count": null,
   "id": "602a3a2d",
   "metadata": {
    "ExecuteTime": {
     "end_time": "2023-06-08T14:24:53.678886Z",
     "start_time": "2023-06-08T14:24:51.160Z"
    }
   },
   "outputs": [],
   "source": [
    "from obspy.signal.freqattributes import spectrum\n",
    "from numpy import hanning\n",
    "from andbro__fft import __fft\n",
    "\n",
    "import matplotlib.pyplot as plt\n",
    "import obspy"
   ]
  },
  {
   "cell_type": "code",
   "execution_count": null,
   "id": "c8137664",
   "metadata": {},
   "outputs": [],
   "source": []
  },
  {
   "cell_type": "code",
   "execution_count": null,
   "id": "44870862",
   "metadata": {
    "ExecuteTime": {
     "end_time": "2023-06-08T14:24:53.679368Z",
     "start_time": "2023-06-08T14:24:51.162Z"
    }
   },
   "outputs": [],
   "source": [
    "\n",
    "datapath = f\"/home/andbro/freenas/romy_archive/2022/BW/ROMYT/MAN.D/*\"\n",
    "\n",
    "N = obspy.read(datapath);\n",
    "N.merge(fill_value='interpolate')\n",
    "\n",
    "datapath = f\"/home/andbro/freenas/romy_archive/2022/BW/ROMYT/MAE.D/*\"\n",
    "\n",
    "E = obspy.read(datapath);\n",
    "E.merge(fill_value='interpolate')\n"
   ]
  },
  {
   "cell_type": "code",
   "execution_count": null,
   "id": "71443161",
   "metadata": {
    "ExecuteTime": {
     "end_time": "2023-06-08T14:24:53.679871Z",
     "start_time": "2023-06-08T14:24:51.163Z"
    }
   },
   "outputs": [],
   "source": [
    "TRII = obspy.Stream()\n",
    "TRII += N\n",
    "TRII += E"
   ]
  },
  {
   "cell_type": "code",
   "execution_count": null,
   "id": "3d19dfc7",
   "metadata": {
    "ExecuteTime": {
     "end_time": "2023-06-08T14:24:53.680404Z",
     "start_time": "2023-06-08T14:24:51.164Z"
    }
   },
   "outputs": [],
   "source": [
    "TRII.plot();"
   ]
  },
  {
   "cell_type": "code",
   "execution_count": null,
   "id": "ce4c0714",
   "metadata": {
    "ExecuteTime": {
     "end_time": "2023-06-08T14:24:53.680916Z",
     "start_time": "2023-06-08T14:24:51.167Z"
    }
   },
   "outputs": [],
   "source": [
    "TRII"
   ]
  },
  {
   "cell_type": "code",
   "execution_count": null,
   "id": "8955c30c",
   "metadata": {
    "ExecuteTime": {
     "end_time": "2023-06-08T14:24:53.681494Z",
     "start_time": "2023-06-08T14:24:51.167Z"
    },
    "code_folding": [
     0
    ]
   },
   "outputs": [],
   "source": [
    "def __makeplotStreamPSD(st, config):\n",
    "\n",
    "    from scipy import fftpack\n",
    "    from numpy import abs\n",
    "    from scipy.signal import welch, hann\n",
    "\n",
    "\n",
    "    nblock =  4096*100\n",
    "    overlap = 1028\n",
    "    win = hann(nblock, True)\n",
    "\n",
    "    fig, axes = plt.subplots(len(st),2,figsize=(15,10), sharex='col')\n",
    "\n",
    "    plt.subplots_adjust(hspace=0.3)\n",
    "\n",
    "    ## _______________________________________________\n",
    "\n",
    "    st.sort(keys=['channel'], reverse=True)\n",
    "    \n",
    "    for i, tr in enumerate(st):\n",
    "\n",
    "        ff, Pxx = welch(tr.data, fs=tr.stats.sampling_rate, \n",
    "                        window=win, noverlap=overlap, nfft=nblock,\n",
    "                        scaling=\"density\",\n",
    "                        return_onesided=True)\n",
    "\n",
    "        ## _________________________________________________________________\n",
    "        axes[i,0].plot(\n",
    "                    tr.times(),\n",
    "                    tr.data,\n",
    "                    color='black',\n",
    "                    label='{} {}'.format(tr.stats.station, tr.stats.channel),\n",
    "                    lw=1.0,\n",
    "                    )\n",
    "\n",
    "\n",
    "        ## _________________________________________________________________\n",
    "        axes[i,1].loglog(\n",
    "                    ff,\n",
    "                    Pxx,\n",
    "                    color='black',\n",
    "                    lw=1.0,\n",
    "                    )\n",
    "\n",
    "\n",
    "        \n",
    "        axes[i,0].set_ylabel(r'$\\Omega$ (rad/s)')    \n",
    "        axes[i,1].set_ylabel(r'PSD (rad$^2$/Hz)')        \n",
    "        axes[i,0].legend(loc='upper left',bbox_to_anchor=(0.8, 1.10), framealpha=1.0)\n",
    "        \n",
    "#         axes[i,0].ticklabel_format(axis='y', style='sci', scilimits=(0,0))\n",
    "#         axes[i,1].ticklabel_format(axis='y', style='sci', scilimits=(0,0))\n",
    "\n",
    "        axes[i,1].set_xlim(1e-7,0.25)\n",
    "#         axes[i,1].set_ylim(1e-12,1e-9)\n",
    "\n",
    "    return fig"
   ]
  },
  {
   "cell_type": "code",
   "execution_count": null,
   "id": "7cf0ce3a",
   "metadata": {
    "ExecuteTime": {
     "end_time": "2023-06-08T14:24:53.681982Z",
     "start_time": "2023-06-08T14:24:51.169Z"
    }
   },
   "outputs": [],
   "source": [
    "config = {}\n",
    "\n",
    "__makeplotStreamPSD(TRII, config);"
   ]
  },
  {
   "cell_type": "code",
   "execution_count": null,
   "id": "94ab28b6",
   "metadata": {
    "ExecuteTime": {
     "end_time": "2022-09-14T01:10:31.639543Z",
     "start_time": "2022-09-14T01:10:31.156989Z"
    }
   },
   "outputs": [],
   "source": []
  },
  {
   "cell_type": "code",
   "execution_count": null,
   "id": "d6fcbcea",
   "metadata": {},
   "outputs": [],
   "source": []
  }
 ],
 "metadata": {
  "kernelspec": {
   "display_name": "Python 3",
   "language": "python",
   "name": "python3"
  },
  "language_info": {
   "codemirror_mode": {
    "name": "ipython",
    "version": 3
   },
   "file_extension": ".py",
   "mimetype": "text/x-python",
   "name": "python",
   "nbconvert_exporter": "python",
   "pygments_lexer": "ipython3",
   "version": "3.7.7"
  },
  "latex_envs": {
   "LaTeX_envs_menu_present": true,
   "autoclose": false,
   "autocomplete": true,
   "bibliofile": "biblio.bib",
   "cite_by": "apalike",
   "current_citInitial": 1,
   "eqLabelWithNumbers": true,
   "eqNumInitial": 1,
   "hotkeys": {
    "equation": "Ctrl-E",
    "itemize": "Ctrl-I"
   },
   "labels_anchors": false,
   "latex_user_defs": false,
   "report_style_numbering": false,
   "user_envs_cfg": false
  },
  "toc": {
   "base_numbering": 1,
   "nav_menu": {},
   "number_sections": true,
   "sideBar": true,
   "skip_h1_title": false,
   "title_cell": "Table of Contents",
   "title_sidebar": "Contents",
   "toc_cell": false,
   "toc_position": {},
   "toc_section_display": true,
   "toc_window_display": false
  }
 },
 "nbformat": 4,
 "nbformat_minor": 5
}
