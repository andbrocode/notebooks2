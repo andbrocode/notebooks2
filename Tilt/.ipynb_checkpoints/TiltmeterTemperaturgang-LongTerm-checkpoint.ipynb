{
 "cells": [
  {
   "cell_type": "markdown",
   "id": "a5cd185a",
   "metadata": {},
   "source": [
    "# Tiltmeter - Correction for Long-Term Temperature Variation"
   ]
  },
  {
   "cell_type": "markdown",
   "id": "26aa0b70",
   "metadata": {},
   "source": [
    "### Libraries"
   ]
  },
  {
   "cell_type": "code",
   "execution_count": 1,
   "id": "869eb4ed",
   "metadata": {
    "ExecuteTime": {
     "end_time": "2022-10-25T15:22:24.066881Z",
     "start_time": "2022-10-25T15:22:23.174004Z"
    }
   },
   "outputs": [],
   "source": [
    "from andbro__querrySeismoData import __querrySeismoData\n",
    "from andbro__readYaml import __readYaml\n",
    "\n",
    "from scipy import signal\n",
    "from obspy import UTCDateTime\n",
    "\n",
    "\n",
    "import pandas as pd\n",
    "import numpy as np\n",
    "import matplotlib.pyplot as plt\n",
    "import scipy.optimize"
   ]
  },
  {
   "cell_type": "markdown",
   "id": "eee82b03",
   "metadata": {},
   "source": [
    "### Methods"
   ]
  },
  {
   "cell_type": "code",
   "execution_count": 2,
   "id": "70425bec",
   "metadata": {
    "ExecuteTime": {
     "end_time": "2022-10-24T17:44:57.032299Z",
     "start_time": "2022-10-24T17:44:56.989654Z"
    },
    "code_folding": [
     0
    ]
   },
   "outputs": [],
   "source": [
    "def __conversion(st, confBT, confPT):\n",
    "\n",
    "    def convertTemp(trace, gain):\n",
    "        Tvolt = trace.data * gain\n",
    "        return 10.18 - 11.59*Tvolt + 0.3335*Tvolt**2 - 0.5316*Tvolt**3\n",
    "\n",
    "    def convertTilt(trace, conversion, sensitivity):\n",
    "        return trace.data * conversion * sensitivity\n",
    "        # print( type(conversion), type(sensitivity), type(trace.data) )\n",
    "\n",
    "    for tr in st:\n",
    "        if tr.stats.channel == 'MAT':\n",
    "            tr.data = convertTemp(tr, confPT['gainTemp'])\n",
    "        elif tr.stats.channel == 'MAN':\n",
    "            tr.data = convertTilt(tr, confPT['convPTN'], confPT['gainTilt'])\n",
    "        elif tr.stats.channel == 'MAE':\n",
    "            tr.data = convertTilt(tr, confPT['convPTE'], confPT['gainTilt'])\n",
    "\n",
    "        elif tr.stats.channel == 'LAT':\n",
    "            tr.data = convertTemp(tr, confBT['gainTemp'])\n",
    "        elif tr.stats.channel == 'LAN':\n",
    "            tr.data = convertTilt(tr, confBT['convBTN'], confBT['gainTilt'])\n",
    "        elif tr.stats.channel == 'LAE':\n",
    "            tr.data = convertTilt(tr, confBT['convBTE'], confBT['gainTilt'])\n",
    "\n",
    "    print(\"  -> converted data\")\n",
    "    return st"
   ]
  },
  {
   "cell_type": "code",
   "execution_count": 3,
   "id": "9513134b",
   "metadata": {
    "ExecuteTime": {
     "end_time": "2022-10-24T17:44:57.050560Z",
     "start_time": "2022-10-24T17:44:57.033918Z"
    },
    "code_folding": [
     0
    ]
   },
   "outputs": [],
   "source": [
    "def __makeplot(pt, bt, config):\n",
    "    \n",
    "    fig, axes = plt.subplots(3,2, figsize=(15,5), sharex=True)\n",
    "    \n",
    "    for i in range(3):\n",
    "        \n",
    "        axes[i,0].plot(pt[i].times()/60, pt[i].data)\n",
    "        axes[i,1].plot(bt[i].times()/60, bt[i].data)\n",
    "        \n",
    "        axes[i,0].grid()\n",
    "        axes[i,1].grid()\n",
    "        \n",
    "    axes[0,0].set_title('Platform Tiltmeter')\n",
    "    axes[0,1].set_title('Borehole Tiltmeter')\n",
    "    \n",
    "    axes[2,0].set_xlabel(\"Time (min)\")\n",
    "    axes[2,1].set_xlabel(\"Time (min)\")\n",
    "    \n",
    "    axes[0,0].set_ylabel(\"$\\Omega$ (rad)\")\n",
    "    axes[1,0].set_ylabel(\"$\\Omega$ (rad)\")\n",
    "    axes[2,0].set_ylabel(\"Temp (°C)\")\n",
    "    \n",
    "    axes[0,1].set_ylabel(\"$\\Omega$ (rad)\")\n",
    "    axes[1,1].set_ylabel(\"$\\Omega$ (rad)\")\n",
    "    axes[2,1].set_ylabel(\"Temp (°C)\")\n",
    "    \n",
    "    return fig "
   ]
  },
  {
   "cell_type": "code",
   "execution_count": 4,
   "id": "0f651621",
   "metadata": {
    "ExecuteTime": {
     "end_time": "2022-10-24T17:44:57.112416Z",
     "start_time": "2022-10-24T17:44:57.051926Z"
    },
    "code_folding": [
     0
    ]
   },
   "outputs": [],
   "source": [
    "def __removeLinearTrend(data):\n",
    "\n",
    "    for i in range(2):\n",
    "        N = data[i].stats.npts\n",
    "        m = (data[i].data[-1] - data[i].data[0]) / (data[i].stats.delta * N)\n",
    "        data[i].data = data[i].data - np.arange(0, N) * m\n",
    "    return data"
   ]
  },
  {
   "cell_type": "code",
   "execution_count": 5,
   "id": "dc2cc123",
   "metadata": {
    "ExecuteTime": {
     "end_time": "2022-10-24T17:44:57.128822Z",
     "start_time": "2022-10-24T17:44:57.113427Z"
    },
    "code_folding": [
     0
    ]
   },
   "outputs": [],
   "source": [
    "def __remove_nan_values(st):\n",
    "    idx = []\n",
    "    [idx.append(i) for i, value in enumerate(st[0].data) if not np.isnan(value)]\n",
    "    st[0].data  = np.array([st[0].data[j] for j in idx])\n",
    "    st[1].data  = np.array([st[1].data[j] for j in idx])\n",
    "    st[2].data  = np.array([st[2].data[j] for j in idx])\n",
    "    \n",
    "    return st"
   ]
  },
  {
   "cell_type": "code",
   "execution_count": 6,
   "id": "ed95efdd",
   "metadata": {
    "ExecuteTime": {
     "end_time": "2022-10-24T17:44:57.145284Z",
     "start_time": "2022-10-24T17:44:57.129699Z"
    },
    "code_folding": [
     0
    ]
   },
   "outputs": [],
   "source": [
    "def __smooth(y, box_pts):\n",
    "    box = np.ones(box_pts)/box_pts\n",
    "    y_smooth = np.convolve(y, box, mode='same')\n",
    "    return y_smooth"
   ]
  },
  {
   "cell_type": "code",
   "execution_count": 7,
   "id": "eadb3b00",
   "metadata": {
    "ExecuteTime": {
     "end_time": "2022-10-24T17:44:57.166043Z",
     "start_time": "2022-10-24T17:44:57.146190Z"
    },
    "code_folding": [
     0
    ]
   },
   "outputs": [],
   "source": [
    "def __makeplot_compare(st, slopes, intercepts, derive=None, poly=None, smooth=None, coeff=None):\n",
    "    \n",
    "    if derive:\n",
    "        x_temp = np.gradient(st[2].data, 2)\n",
    "    else:\n",
    "        x_temp = st[2].data     \n",
    "        \n",
    "        \n",
    "    if smooth:\n",
    "        x_temp = __smooth(x_temp, smooth)\n",
    "\n",
    "    \n",
    "    fig, ax = plt.subplots(3, 2, figsize=(15,10))\n",
    "\n",
    "    plt.subplots_adjust(hspace=0.3)\n",
    "    \n",
    "    ax[0][0].plot(st[0].times()/86400, st[2].data, label=\"Temp\")\n",
    "    \n",
    "    if derive:\n",
    "        axes1 = ax[0][0].twinx()\n",
    "        axes1.plot(st[0].times()/86400, x_temp, 'g', label=\"dT/dt\")\n",
    "    \n",
    "    ax[0][1].plot(st[0].times()/86400, st[2].data, label=\"Temp\")\n",
    "    \n",
    "    if derive:\n",
    "        axes2 = ax[0][1].twinx()\n",
    "        axes2.plot(st[0].times()/86400, x_temp, 'g', label=\"dT/dt\")\n",
    "    \n",
    "    for i in range(2):\n",
    "        \n",
    "        ax[1][i].plot(x_temp, st[i].data, 'k.', ms=0.2)\n",
    "\n",
    "        if not poly:        \n",
    "            ax[1][i].plot(x_temp, slopes[i]*x_temp + intercepts[i], 'r', label=f\"{slopes[i]:.2e}*x\")\n",
    "            \n",
    "            correction = slopes[i] * x_temp + intercepts[i]\n",
    "\n",
    "            ax[2][i].plot(st[i].times()/86400, st[i].data - correction, label=\"corrected\")\n",
    "            ax[2][i].plot(st[i].times()/86400, st[i].data, color='grey', alpha=0.5, label=\"observed\")\n",
    "\n",
    "        else: \n",
    "            ax[1][i].plot(x_temp, ffit[i], 'r')\n",
    "            ax[2][i].plot(st[i].times()/86400, st[i].data - poly[i], label=\"corrected\")\n",
    "            ax[2][i].plot(st[i].times()/86400, st[i].data - coeff[i][0], color='grey', alpha=0.5, label=\"observed\")\n",
    "            \n",
    "    ax[0][0].set_title(\"Component 1\")\n",
    "    ax[0][1].set_title(\"Component 2\")\n",
    "    \n",
    "    if derive:\n",
    "        ax[1][0].set_xlabel(\"Derivative of Temperature (°C)\")\n",
    "        ax[1][1].set_xlabel(\"Derivative of Temperature (°C)\")\n",
    "    else:\n",
    "        ax[1][0].set_xlabel(\"Temperature (°C)\")\n",
    "        ax[1][1].set_xlabel(\"Temperature (°C)\")\n",
    "        \n",
    "    ax[0][0].set_xlabel(\"Time (days)\")\n",
    "    ax[0][1].set_xlabel(\"Time (days)\")\n",
    "    \n",
    "    ax[2][0].set_xlabel(\"Time (days)\")\n",
    "    ax[2][1].set_xlabel(\"Time (days)\")\n",
    "    \n",
    "    ax[0][0].set_ylabel(\"Temperature (°C)\")\n",
    "    \n",
    "    ax[1][0].set_ylabel(\"Tilt (rad)\")\n",
    "    ax[2][0].set_ylabel(\"Tilt (rad)\")\n",
    "\n",
    "    \n",
    "    ax[0][1].legend()\n",
    "    ax[0][0].legend()\n",
    "    ax[1][0].legend()\n",
    "    ax[1][1].legend()\n",
    "    ax[2][0].legend()\n",
    "   \n",
    "    if derive:\n",
    "        axes1.legend()\n",
    "        axes2.legend()\n",
    "        axes2.set_ylabel(\"dT/dt \")\n",
    "    \n",
    "    plt.show();\n",
    "    return fig"
   ]
  },
  {
   "cell_type": "markdown",
   "id": "b1a83185",
   "metadata": {},
   "source": [
    "### Configurations"
   ]
  },
  {
   "cell_type": "code",
   "execution_count": 9,
   "id": "4c7893e6",
   "metadata": {
    "ExecuteTime": {
     "end_time": "2022-10-24T17:45:19.225603Z",
     "start_time": "2022-10-24T17:45:19.219992Z"
    },
    "code_folding": []
   },
   "outputs": [],
   "source": [
    "## Paramter Settings\n",
    "config ={\n",
    "         'seed_id': [\"BW.TROMY..MA*\", \"BW.DROMY..LA*\"],\n",
    "         'repos': 'george',\n",
    "         'datapath': None,\n",
    "         'name': 'test',\n",
    "         'set_filter': 'n'\n",
    "        }\n",
    "\n",
    "\n",
    "## very long selection\n",
    "config['tbeg'] = \"2021-09-01T06:00:00.000000Z\"\n",
    "config['tend'] = \"2021-11-20T12:00:00.000000Z\"\n",
    "\n",
    "## linear part of above selection\n",
    "# config['tbeg'] = \"2021-10-15T06:00:00.000000Z\"\n",
    "# config['tend'] = \"2021-11-20T12:00:00.000000Z\"\n",
    "\n",
    "\n",
    "## select tiltmeter\n",
    "config['tiltmeter'] ='pt'\n",
    "# config['tiltmeter'] ='bt' \n",
    "\n",
    "\n",
    "## choose to save obtain correction to output yaml file\n",
    "config['save'] = False\n",
    "\n",
    "## tiltmeter configuration\n",
    "try:\n",
    "    confTilt = __readYaml('/home/brotzer/Documents/ROMY/','tiltmeter.conf')\n",
    "except:\n",
    "    confTilt = __readYaml('./','tiltmeter.conf')\n",
    "    \n",
    "confPT = confTilt['PT']\n",
    "confBT = confTilt['BT']"
   ]
  },
  {
   "cell_type": "markdown",
   "id": "d81cd86a",
   "metadata": {},
   "source": [
    "### Load Tilt Data"
   ]
  },
  {
   "cell_type": "markdown",
   "id": "1d52c42e",
   "metadata": {},
   "source": [
    "load data for the platform tiltmeter"
   ]
  },
  {
   "cell_type": "code",
   "execution_count": 13,
   "id": "fda3871a",
   "metadata": {
    "ExecuteTime": {
     "end_time": "2022-10-24T17:46:01.014208Z",
     "start_time": "2022-10-24T17:45:35.306414Z"
    }
   },
   "outputs": [
    {
     "data": {
      "text/plain": [
       "24 Trace(s) in Stream:\n",
       "\n",
       "BW.TROMY..MAT | 2021-09-01T06:03:00.040000Z - 2021-09-30T12:50:32.640000Z | 5.0 Hz, 12650264 samples\n",
       "...\n",
       "(22 other traces)\n",
       "...\n",
       "BW.TROMY..MAN | 2021-11-15T13:08:57.039999Z - 2021-11-20T11:57:00.039999Z | 5.0 Hz, 2138416 samples\n",
       "\n",
       "[Use \"print(Stream.__str__(extended=True))\" to print all Traces]"
      ]
     },
     "execution_count": 13,
     "metadata": {},
     "output_type": "execute_result"
    },
    {
     "data": {
      "text/plain": [
       "24 Trace(s) in Stream:\n",
       "\n",
       "BW.TROMY..MAT | 2021-09-01T06:03:00.040000Z - 2021-09-30T12:50:32.640000Z | 5.0 Hz, 12650264 samples\n",
       "...\n",
       "(22 other traces)\n",
       "...\n",
       "BW.TROMY..MAN | 2021-11-15T13:08:57.039999Z - 2021-11-20T11:57:00.039999Z | 5.0 Hz, 2138416 samples\n",
       "\n",
       "[Use \"print(Stream.__str__(extended=True))\" to print all Traces]"
      ]
     },
     "execution_count": 13,
     "metadata": {},
     "output_type": "execute_result"
    }
   ],
   "source": [
    "if config['tiltmeter'] == 'pt':\n",
    "    pt, inv0 = __querrySeismoData(    \n",
    "                                seed_id=config.get(\"seed_id\")[0],\n",
    "                                starttime=config.get(\"tbeg\"),\n",
    "                                endtime=config.get(\"tend\"),\n",
    "                                repository=config.get(\"repos\"),\n",
    "                                path=config.get(\"datapath\"),\n",
    "                                restitute=False,\n",
    "                                detail=None,\n",
    "                                fill_value=-9999,\n",
    "                                )\n",
    "\n",
    "#     pt.resample(0.1)\n",
    "#     pt.filter('lowpass', freq=0.001, corners=4, zerophase=True)\n",
    "    \n",
    "    pt.trim(starttime=UTCDateTime(config['tbeg'])+180, endtime=UTCDateTime(config['tend'])-180)\n",
    "\n",
    "    pt"
   ]
  },
  {
   "cell_type": "markdown",
   "id": "11cb432f",
   "metadata": {},
   "source": [
    "load data for borehole tiltmeter"
   ]
  },
  {
   "cell_type": "code",
   "execution_count": 14,
   "id": "4a087992",
   "metadata": {
    "ExecuteTime": {
     "end_time": "2022-10-24T17:46:01.018728Z",
     "start_time": "2022-10-24T17:46:01.015349Z"
    }
   },
   "outputs": [],
   "source": [
    "if config['tiltmeter'] == 'bt':\n",
    "    bt, inv0 = __querrySeismoData(    \n",
    "                                seed_id=config.get(\"seed_id\")[1],\n",
    "                                starttime=config.get(\"tbeg\"),\n",
    "                                endtime=config.get(\"tend\"),\n",
    "                                repository=config.get(\"repos\"),\n",
    "                                path=config.get(\"datapath\"),\n",
    "                                restitute=False,\n",
    "                                detail=None,\n",
    "                                fill_value=-9999,\n",
    "                                )\n",
    "\n",
    "    bt.resample(0.01)\n",
    "\n",
    "    bt.trim(starttime=config['tbeg']+180, endtime=config['tend']-180)\n",
    "    \n",
    "    bt"
   ]
  },
  {
   "cell_type": "markdown",
   "id": "b99f8bde",
   "metadata": {},
   "source": [
    "### Convert Data"
   ]
  },
  {
   "cell_type": "markdown",
   "id": "f6bcad4a",
   "metadata": {},
   "source": [
    "Convert data using the specifications of the tiltmeters"
   ]
  },
  {
   "cell_type": "code",
   "execution_count": 11,
   "id": "3c14d3a3",
   "metadata": {},
   "outputs": [
    {
     "name": "stdout",
     "output_type": "stream",
     "text": [
      "  -> converted data\n"
     ]
    }
   ],
   "source": [
    "if config['tiltmeter'] == 'pt':\n",
    "    pt = __conversion(pt, confBT, confPT)\n",
    "if config['tiltmeter'] == 'bt':\n",
    "    bt = __conversion(bt, confBT, confPT)"
   ]
  },
  {
   "cell_type": "markdown",
   "id": "cadf0065",
   "metadata": {},
   "source": [
    "### Remove Corrupt Data"
   ]
  },
  {
   "cell_type": "code",
   "execution_count": 12,
   "id": "5ea5eadb",
   "metadata": {
    "code_folding": [
     0
    ]
   },
   "outputs": [],
   "source": [
    "def __cut_corrupt_data(st, log, config):\n",
    "\n",
    "    from obspy import UTCDateTime\n",
    "    from numpy import nan\n",
    "    \n",
    "    for i in range(len(log.starttime)):\n",
    "        \n",
    "        val1_utc, val2_utc = UTCDateTime(log.starttime[i]), UTCDateTime(log.endtime[i])\n",
    "        \n",
    "        \n",
    "        if val1_utc > st[0].stats.starttime and val2_utc < st[0].stats.endtime:\n",
    "            print(f\"cutting corrupt data: {i}...\")\n",
    "\n",
    "            pt0 = st.slice(UTCDateTime(config['tbeg']), val1_utc )\n",
    "            pt0 += st.slice(val2_utc, UTCDateTime(config['tend']))\n",
    "\n",
    "            pt0.merge(fill_value = nan)\n",
    "\n",
    "            st = pt0\n",
    "        \n",
    "    return st"
   ]
  },
  {
   "cell_type": "code",
   "execution_count": 13,
   "id": "407e57bc",
   "metadata": {},
   "outputs": [
    {
     "name": "stdout",
     "output_type": "stream",
     "text": [
      "cutting corrupt data: 0...\n"
     ]
    }
   ],
   "source": [
    "config['path_to_maintenance_log'] = \"/home/brotzer/Documents/ROMY/tiltmeter/tiltmeter_maintenance.log\"\n",
    "\n",
    "tiltmeter_maintenance_log = pd.read_csv(config['path_to_maintenance_log'], header=1, names=[\"starttime\", \"endtime\", \"device\", \"remark\"])\n",
    "\n",
    "if config['tiltmeter'] == 'pt':\n",
    "    pt = __cut_corrupt_data(pt, tiltmeter_maintenance_log, config) \n",
    "if config['tiltmeter'] == 'bt':\n",
    "    bt = __cut_corrupt_data(bt, tiltmeter_maintenance_log, config) "
   ]
  },
  {
   "cell_type": "code",
   "execution_count": 14,
   "id": "c4e63cdd",
   "metadata": {
    "code_folding": []
   },
   "outputs": [],
   "source": [
    "# fig = __makeplot(pt, bt, config);"
   ]
  },
  {
   "cell_type": "markdown",
   "id": "f5aa5ae0",
   "metadata": {},
   "source": [
    "## Load external Temperature Data"
   ]
  },
  {
   "cell_type": "code",
   "execution_count": 35,
   "id": "002315d6",
   "metadata": {
    "code_folding": [
     0
    ]
   },
   "outputs": [],
   "source": [
    "def __read_wromy_data(config):\n",
    "    '''\n",
    "    reads data from T1 to T2\n",
    "    '''\n",
    "    \n",
    "    path = f\"{config['pathToData']}{config['tbeg'].year}/BW/WROMY/{config['channel']}.D/\"\n",
    "    \n",
    "    if not Path(path).exists():\n",
    "        __reply(f\"Path: {path}, does not exists!\")\n",
    "        return\n",
    "    \n",
    "    j1, j2  = config['tbeg'].julday, config['tend'].julday\n",
    "    year    = config['tbeg'].year\n",
    "    cha     = config['channel']\n",
    "    df = pd.DataFrame()\n",
    "    \n",
    "    for doy in range(j1, j2+1):\n",
    "        \n",
    "        fileName = f'BW.WROMY.{cha}.D.{year}.{doy}'\n",
    "\n",
    "        print(f'   reading {fileName} ...')\n",
    "\n",
    "        try:\n",
    "            df0 = pd.read_csv(path+fileName)\n",
    "            \n",
    "            ## replace error indicating values (-9999, 999.9) with NaN values\n",
    "            df0.replace(to_replace=-9999, value=nan, inplace=True)\n",
    "            df0.replace(to_replace=999.9, value=nan, inplace=True)\n",
    "            \n",
    "\n",
    "            if doy == j1:\n",
    "                df = df0\n",
    "            else: \n",
    "                df = pd.concat([df,df0])\n",
    "        except:\n",
    "            __reply(f\"File: {fileName}, does not exists!\")\n",
    "   \n",
    "    df.reset_index(inplace=True, drop=True)\n",
    "\n",
    "    ## add columns with total seconds\n",
    "    if 'Seconds' in df.columns:\n",
    "        totalSeconds = df.Seconds + (df.Date - df.Date.iloc[0]) * 86400\n",
    "        df['totalSeconds'] = totalSeconds\n",
    "    \n",
    "\n",
    "    __reply(\"Done \\n\")\n",
    "    \n",
    "    return df "
   ]
  },
  {
   "cell_type": "code",
   "execution_count": 36,
   "id": "4f223eb5",
   "metadata": {},
   "outputs": [
    {
     "ename": "KeyError",
     "evalue": "'pathToData'",
     "output_type": "error",
     "traceback": [
      "\u001b[0;31m---------------------------------------------------------------------------\u001b[0m",
      "\u001b[0;31mKeyError\u001b[0m                                  Traceback (most recent call last)",
      "\u001b[0;32m<ipython-input-36-0e4b93a69da6>\u001b[0m in \u001b[0;36m<module>\u001b[0;34m\u001b[0m\n\u001b[1;32m      6\u001b[0m \u001b[0;34m\u001b[0m\u001b[0m\n\u001b[1;32m      7\u001b[0m     \u001b[0;31m## load data as DataFrame\u001b[0m\u001b[0;34m\u001b[0m\u001b[0;34m\u001b[0m\u001b[0;34m\u001b[0m\u001b[0m\n\u001b[0;32m----> 8\u001b[0;31m     \u001b[0mdf_new\u001b[0m \u001b[0;34m=\u001b[0m \u001b[0m__read_wromy_data\u001b[0m\u001b[0;34m(\u001b[0m\u001b[0mconfig\u001b[0m\u001b[0;34m)\u001b[0m\u001b[0;34m\u001b[0m\u001b[0;34m\u001b[0m\u001b[0m\n\u001b[0m\u001b[1;32m      9\u001b[0m \u001b[0;34m\u001b[0m\u001b[0m\n\u001b[1;32m     10\u001b[0m     \u001b[0;31m## check for gaps\u001b[0m\u001b[0;34m\u001b[0m\u001b[0;34m\u001b[0m\u001b[0;34m\u001b[0m\u001b[0m\n",
      "\u001b[0;32m<ipython-input-35-33545ec55962>\u001b[0m in \u001b[0;36m__read_wromy_data\u001b[0;34m(config)\u001b[0m\n\u001b[1;32m      4\u001b[0m     '''\n\u001b[1;32m      5\u001b[0m \u001b[0;34m\u001b[0m\u001b[0m\n\u001b[0;32m----> 6\u001b[0;31m     \u001b[0mpath\u001b[0m \u001b[0;34m=\u001b[0m \u001b[0;34mf\"{config['pathToData']}{config['tbeg'].year}/BW/WROMY/{config['channel']}.D/\"\u001b[0m\u001b[0;34m\u001b[0m\u001b[0;34m\u001b[0m\u001b[0m\n\u001b[0m\u001b[1;32m      7\u001b[0m \u001b[0;34m\u001b[0m\u001b[0m\n\u001b[1;32m      8\u001b[0m     \u001b[0;32mif\u001b[0m \u001b[0;32mnot\u001b[0m \u001b[0mPath\u001b[0m\u001b[0;34m(\u001b[0m\u001b[0mpath\u001b[0m\u001b[0;34m)\u001b[0m\u001b[0;34m.\u001b[0m\u001b[0mexists\u001b[0m\u001b[0;34m(\u001b[0m\u001b[0;34m)\u001b[0m\u001b[0;34m:\u001b[0m\u001b[0;34m\u001b[0m\u001b[0;34m\u001b[0m\u001b[0m\n",
      "\u001b[0;31mKeyError\u001b[0m: 'pathToData'"
     ]
    }
   ],
   "source": [
    "data = {}\n",
    "\n",
    "for i in [5]:\n",
    "    \n",
    "    config['channel'] = 'WS'+str(i)\n",
    "    \n",
    "    ## load data as DataFrame\n",
    "    df_new = __read_wromy_data(config)\n",
    "    \n",
    "    ## check for gaps\n",
    "    df_new = __indicate_gaps_with_nan(df_new, config)\n",
    "    \n",
    "    ## processing\n",
    "    df_new = __processing(df_new, config)\n",
    "\n",
    "    \n",
    "    ## add to dictionary\n",
    "    data[config.get('channel')] = df_new; del df_new\n",
    "    "
   ]
  },
  {
   "cell_type": "markdown",
   "id": "4ec8aa05",
   "metadata": {},
   "source": [
    "## Linear Regression"
   ]
  },
  {
   "cell_type": "code",
   "execution_count": 15,
   "id": "d0f0284e",
   "metadata": {
    "code_folding": [
     0
    ]
   },
   "outputs": [],
   "source": [
    "def __estimate_linear_trend(st, derive=None, smooth=None):\n",
    "    \n",
    "    from scipy.stats import linregress\n",
    "    \n",
    "    temp = st.select(channel=\"*T\")[0].data\n",
    "    \n",
    "    if derive:\n",
    "        temp = np.gradient(temp, 2)\n",
    "        \n",
    "    if smooth:\n",
    "        temp = __smooth(temp, smooth)\n",
    "\n",
    "    ## compute linear regression of data\n",
    "    out1 = linregress(temp, st.select(channel=\"*N\")[0].data)\n",
    "    out2 = linregress(temp, st.select(channel=\"*E\")[0].data)\n",
    "    \n",
    "    ## prepare output dictionary\n",
    "    output = {}\n",
    "    output['slope'] = [out1.slope, out2.slope]\n",
    "    output['intercept'] = [out1.intercept, out2.intercept]\n",
    "    \n",
    "    return output"
   ]
  },
  {
   "cell_type": "code",
   "execution_count": 16,
   "id": "58f6aa71",
   "metadata": {},
   "outputs": [
    {
     "name": "stdout",
     "output_type": "stream",
     "text": [
      "slopes: [1.308356396293076e-05, 5.6124599113820856e-06] \n",
      "intercepts: [-0.00013648542959339858, -9.7762922107140905e-05]\n"
     ]
    },
    {
     "data": {
      "image/png": "[encoded data removed]",
      "text/plain": [
       "<Figure size 1080x720 with 6 Axes>"
      ]
     },
     "metadata": {
      "needs_background": "light"
     },
     "output_type": "display_data"
    }
   ],
   "source": [
    "if config['tiltmeter'] == 'pt':\n",
    "    st = pt.copy()\n",
    "if config['tiltmeter'] == 'bt':\n",
    "    st = bt.copy()\n",
    "\n",
    "st0 = st[0].data\n",
    "st1 = st[1].data\n",
    "\n",
    "st = __remove_nan_values(st)\n",
    "\n",
    "## define smoothing factor\n",
    "smoothing = None\n",
    "\n",
    "## compute linear regression \n",
    "out = __estimate_linear_trend(st, derive=False, smooth=smoothing)\n",
    "\n",
    "print(f\"slopes: {out.get('slope')} \\nintercepts: {out.get('intercept')}\")\n",
    "\n",
    "__makeplot_compare(st, out.get('slope'), out.get('intercept'), derive=False, smooth=smoothing);"
   ]
  },
  {
   "cell_type": "markdown",
   "id": "f81047f6",
   "metadata": {},
   "source": [
    "## Orthogonal Distance Regression"
   ]
  },
  {
   "cell_type": "code",
   "execution_count": 17,
   "id": "3c24aa57",
   "metadata": {
    "code_folding": [
     0
    ]
   },
   "outputs": [],
   "source": [
    "def __get_odr_estimate(st, std=[1, 1], derive=None, smooth=None):\n",
    "\n",
    "    from scipy import odr\n",
    "\n",
    "    def f(B, x):\n",
    "        '''Linear function y = m*x + b'''\n",
    "        return B[0]*x + B[1]\n",
    "    \n",
    "    output = {}\n",
    "    output['slope'] = []\n",
    "    output['intercept'] = []\n",
    "    \n",
    "    for i in range(2):\n",
    "        \n",
    "        y = st[i].data\n",
    "        x = st[2].data\n",
    "\n",
    "        if derive: \n",
    "            x = np.gradient(x, 2)\n",
    "        \n",
    "        if smooth:\n",
    "            x = __smooth(x, smooth)\n",
    "        \n",
    "        sx = std[0]\n",
    "        sy = std[1]\n",
    "\n",
    "        linear = odr.Model(f)\n",
    "\n",
    "        mydata = odr.Data(x, y, wd=1./np.power(sx,2), we=1./np.power(sy,2))\n",
    "\n",
    "#         myodr = odr.ODR(mydata, linear, beta0=[1., 1.])\n",
    "        myodr = odr.ODR(mydata, linear, beta0=[1e-8, 1e-8])\n",
    "\n",
    "        myoutput = myodr.run()\n",
    "        \n",
    "        output['slope'].append(myoutput.beta[0])\n",
    "        output['intercept'].append(myoutput.beta[1])\n",
    "        \n",
    "    return output"
   ]
  },
  {
   "cell_type": "code",
   "execution_count": 18,
   "id": "cdcae16e",
   "metadata": {},
   "outputs": [
    {
     "name": "stdout",
     "output_type": "stream",
     "text": [
      "slopes: [1.3083563966491476e-05, 5.6124599110639595e-06] \n",
      "intercepts: [-0.00013648542963190085, -9.7762922103700826e-05]\n"
     ]
    },
    {
     "data": {
      "image/png": "[encoded data removed]",
      "text/plain": [
       "<Figure size 1080x720 with 6 Axes>"
      ]
     },
     "metadata": {
      "needs_background": "light"
     },
     "output_type": "display_data"
    }
   ],
   "source": [
    "if config['tiltmeter'] == 'pt':\n",
    "    st = pt.copy()\n",
    "if config['tiltmeter'] == 'bt':\n",
    "    st = bt.copy()\n",
    "\n",
    "st = __remove_nan_values(st)\n",
    "\n",
    "## define smoothing factor\n",
    "smoothing = None\n",
    "\n",
    "## compute linear regression \n",
    "out = __get_odr_estimate(st, std=[5e-6, 0.5], derive=False, smooth=smoothing)\n",
    "\n",
    "print(f\"slopes: {out.get('slope')} \\nintercepts: {out.get('intercept')}\")\n",
    "\n",
    "__makeplot_compare(st, out.get('slope'), out.get('intercept'), derive=False, smooth=smoothing);"
   ]
  },
  {
   "cell_type": "markdown",
   "id": "04d07a8f",
   "metadata": {},
   "source": [
    "## Dump Correction Parameters"
   ]
  },
  {
   "cell_type": "code",
   "execution_count": 19,
   "id": "0155a930",
   "metadata": {},
   "outputs": [],
   "source": [
    "import yaml\n",
    "\n",
    "correction = {'Tiltmeter': config.get(\"tiltmeter\"),\n",
    "              'correction': 'LongTermTrendTemperature',\n",
    "              'slopes':  {'C1': str(out.get('slope')[0]), 'C2': str(out.get('slope')[1])},\n",
    "              'intercepts':  {'C1': str(out.get('intercept')[0]), 'C2': str(out.get('intercept')[1])},\n",
    "             }\n",
    "\n",
    "filename = f\"correction_longterm_{config.get('tiltmeter')}\"\n",
    "\n",
    "if config['save']:\n",
    "    with open(f'{filename}.yml', 'w') as yaml_file:\n",
    "        yaml.dump(correction, yaml_file, default_flow_style=False)"
   ]
  },
  {
   "cell_type": "markdown",
   "id": "aa28642b",
   "metadata": {},
   "source": [
    "## CrossCorrelation"
   ]
  },
  {
   "cell_type": "code",
   "execution_count": 20,
   "id": "af12c7a6",
   "metadata": {
    "code_folding": [
     0
    ]
   },
   "outputs": [],
   "source": [
    "def __cross_correlation(y1, y2, norm=False, plot=True):\n",
    "    \"\"\"Calculates the cross correlation and lags.\n",
    "\n",
    "    Args:\n",
    "        y1, y2: Should have the same length.\n",
    "        norm:   Boolean (False | True) for normalization \n",
    "    Returns:\n",
    "        max_corr: Maximum correlation without normalization.\n",
    "        lag: The lag in terms of the index.\n",
    "    \"\"\"\n",
    "    \n",
    "    from scipy.signal import correlate\n",
    "    \n",
    "    if len(y1) != len(y2):\n",
    "        raise ValueError('The lengths of the inputs should be the same.')\n",
    "\n",
    "    ## calulate autocorrelation\n",
    "    y1_auto_corr = np.dot(y1, y1) / len(y1)\n",
    "    y2_auto_corr = np.dot(y2, y2) / len(y1)\n",
    "    \n",
    "    ## normalize input traces ?!\n",
    "#     y1 /= np.max(abs(y1))\n",
    "#     y2 /= np.max(abs(y2))\n",
    "    \n",
    "    ## calculate crorrelation function\n",
    "    corr = correlate(y1, y2, mode='same')\n",
    "    \n",
    "    # The unbiased sample size is N - lag.\n",
    "    unbiased_sample_size = signal.correlate(np.ones(len(y1)), np.ones(len(y1)), mode='same')\n",
    "\n",
    "    ## \n",
    "    corr = corr / unbiased_sample_size / np.sqrt(y1_auto_corr * y2_auto_corr)\n",
    "    \n",
    "    ## normalize\n",
    "    if norm:\n",
    "        corr /= np.max(abs(corr))\n",
    "        \n",
    "    ## calculate lag times \n",
    "    xlags = np.arange(-corr.size//2, corr.size//2, 1)\n",
    "\n",
    "    ## get maximum    \n",
    "#     corr_max_y = np.max(abs(corr))\n",
    "    corr_max_x = np.argmax(abs(corr))-corr.size//2\n",
    "    corr_max_y = corr[int(corr_max_x + corr.size//2)]\n",
    "    \n",
    "    \n",
    "    shifted = np.roll(y2*corr_max_y, corr_max_x)\n",
    "\n",
    "    \n",
    "    ## Plotting\n",
    "    if plot == True:\n",
    "        fig, ax = plt.subplots(3, 1, figsize=(15,8))\n",
    "\n",
    "        ax[0].plot(y1)\n",
    "\n",
    "        ax[1].plot(y2)\n",
    "        ax[1].plot(shifted)\n",
    "\n",
    "        ax[2].plot(xlags, corr)\n",
    "\n",
    "        ax[2].scatter(corr_max_x, corr_max_y, color='orange', zorder=3)\n",
    "        ax[2].axvline(corr_max_x, color='k', ls=\":\")\n",
    "        ax[2].axhline(corr_max_y, color='k', ls=\":\")\n",
    "\n",
    "        for i in range(3):\n",
    "            ax[i].grid(ls=\":\", zorder=1)\n",
    "            \n",
    "        plt.show();\n",
    "\n",
    "    return corr, xlags, (corr_max_x, corr_max_y)"
   ]
  },
  {
   "cell_type": "markdown",
   "id": "78bc79af",
   "metadata": {},
   "source": [
    "Creating data frames and removing linear/constant trend "
   ]
  },
  {
   "cell_type": "code",
   "execution_count": 21,
   "id": "e911a28e",
   "metadata": {},
   "outputs": [],
   "source": [
    "# if config['tiltmeter'] == 'pt':\n",
    "#     st = pt.copy()\n",
    "# if config['tiltmeter'] == 'bt':\n",
    "#     st = bt.copy()\n",
    "\n",
    "# st = __remove_nan_values(st)\n",
    "\n",
    "# ## create dataframe\n",
    "# df_bt = pd.DataFrame({'c1':st[0].data, \n",
    "#                       'c2':st[1].data, \n",
    "#                       't': st[2].data\n",
    "#                      })\n",
    "\n",
    "# ## linear detrend\n",
    "# detrend_type = 'constant' \n",
    "# df_bt.c1 = signal.detrend(df_bt.c1.values, type=detrend_type)\n",
    "# df_bt.c2 = signal.detrend(df_bt.c2.values, type=detrend_type)\n",
    "# df_bt.t  = signal.detrend(df_bt.t.values, type=detrend_type)    \n",
    "\n",
    "# ## select component\n",
    "# s0 = df_pt.c1\n",
    "# s1 = df_pt.c2\n",
    "# s2 = df_pt.t\n",
    "\n",
    "# ## compute the derivative\n",
    "# # s2 = np.gradient(s2, 2)\n",
    "\n",
    "# ## smooth the derivative\n",
    "# # s2 = __smooth(s2, 100)\n",
    "\n",
    "# ## compute cross-correlation\n",
    "# cc0, cc_lags0, cc_max0 = __cross_correlation(s0, s2 , norm=True)\n",
    "# cc1, cc_lags1, cc_max1 = __cross_correlation(s1, s2 , norm=True)\n",
    "\n",
    "# cc = [cc0, cc1]\n",
    "# cc_lags = [cc_lags0, cc_lags1]\n",
    "# cc_max = [cc_max0, cc_max1]\n",
    "\n",
    "# print(f\"Maximum Correltation for C1 at: \\n x: {cc_max[0][0]} \\n y: {cc_max[0][1]}\")\n",
    "# print(f\"Maximum Correltation for C2 at: \\n x: {cc_max[1][0]} \\n y: {cc_max[1][1]}\")"
   ]
  }
 ],
 "metadata": {
  "kernelspec": {
   "display_name": "Python 3",
   "language": "python",
   "name": "python3"
  },
  "language_info": {
   "codemirror_mode": {
    "name": "ipython",
    "version": 3
   },
   "file_extension": ".py",
   "mimetype": "text/x-python",
   "name": "python",
   "nbconvert_exporter": "python",
   "pygments_lexer": "ipython3",
   "version": "3.7.8"
  },
  "latex_envs": {
   "LaTeX_envs_menu_present": true,
   "autoclose": false,
   "autocomplete": true,
   "bibliofile": "biblio.bib",
   "cite_by": "apalike",
   "current_citInitial": 1,
   "eqLabelWithNumbers": true,
   "eqNumInitial": 1,
   "hotkeys": {
    "equation": "Ctrl-E",
    "itemize": "Ctrl-I"
   },
   "labels_anchors": false,
   "latex_user_defs": false,
   "report_style_numbering": false,
   "user_envs_cfg": false
  },
  "toc": {
   "base_numbering": 1,
   "nav_menu": {},
   "number_sections": true,
   "sideBar": true,
   "skip_h1_title": false,
   "title_cell": "Table of Contents",
   "title_sidebar": "Contents",
   "toc_cell": false,
   "toc_position": {},
   "toc_section_display": true,
   "toc_window_display": false
  }
 },
 "nbformat": 4,
 "nbformat_minor": 5
}
