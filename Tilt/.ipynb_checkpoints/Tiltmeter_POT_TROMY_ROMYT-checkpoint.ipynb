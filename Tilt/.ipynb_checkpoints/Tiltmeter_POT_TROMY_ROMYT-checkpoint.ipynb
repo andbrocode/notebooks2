{
 "cells": [
  {
   "cell_type": "markdown",
   "id": "extensive-movement",
   "metadata": {},
   "source": [
    "## Tiltmeter - Compare Co-Located TROMY und ROMYT (with Pot)"
   ]
  },
  {
   "cell_type": "markdown",
   "id": "9775e788",
   "metadata": {},
   "source": [
    "Experiment when TRII was situated at same corner as TROMY (NE) for several days"
   ]
  },
  {
   "cell_type": "markdown",
   "id": "noted-resort",
   "metadata": {
    "ExecuteTime": {
     "end_time": "2021-02-19T15:09:20.288504Z",
     "start_time": "2021-02-19T15:09:20.284413Z"
    }
   },
   "source": [
    "### Import Libraries"
   ]
  },
  {
   "cell_type": "code",
   "execution_count": 2,
   "id": "animal-despite",
   "metadata": {
    "ExecuteTime": {
     "end_time": "2022-10-28T14:20:34.290520Z",
     "start_time": "2022-10-28T14:20:34.287407Z"
    },
    "tags": []
   },
   "outputs": [
    {
     "ename": "AttributeError",
     "evalue": "partially initialized module 'pandas' has no attribute 'core' (most likely due to a circular import)",
     "output_type": "error",
     "traceback": [
      "\u001b[0;31m---------------------------------------------------------------------------\u001b[0m",
      "\u001b[0;31mAttributeError\u001b[0m                            Traceback (most recent call last)",
      "Cell \u001b[0;32mIn[2], line 5\u001b[0m\n\u001b[1;32m      3\u001b[0m \u001b[38;5;28;01mimport\u001b[39;00m \u001b[38;5;21;01mobspy\u001b[39;00m\n\u001b[1;32m      4\u001b[0m \u001b[38;5;28;01mimport\u001b[39;00m \u001b[38;5;21;01mmatplotlib\u001b[39;00m\u001b[38;5;21;01m.\u001b[39;00m\u001b[38;5;21;01mpyplot\u001b[39;00m \u001b[38;5;28;01mas\u001b[39;00m \u001b[38;5;21;01mplt\u001b[39;00m\n\u001b[0;32m----> 5\u001b[0m \u001b[38;5;28;01mimport\u001b[39;00m \u001b[38;5;21;01mpandas\u001b[39;00m \u001b[38;5;28;01mas\u001b[39;00m \u001b[38;5;21;01mpd\u001b[39;00m\n\u001b[1;32m      7\u001b[0m \u001b[38;5;28;01mfrom\u001b[39;00m \u001b[38;5;21;01mnumpy\u001b[39;00m \u001b[38;5;28;01mimport\u001b[39;00m arange, linspace, sqrt, diff, nan, gradient, nanmax, nanmean, array\n\u001b[1;32m      8\u001b[0m \u001b[38;5;28;01mfrom\u001b[39;00m \u001b[38;5;21;01mpandas\u001b[39;00m \u001b[38;5;28;01mimport\u001b[39;00m read_csv, DataFrame\n",
      "File \u001b[0;32m~/anaconda3/envs/obs2/lib/python3.10/site-packages/pandas/__init__.py:138\u001b[0m\n\u001b[1;32m    120\u001b[0m \u001b[38;5;28;01mfrom\u001b[39;00m \u001b[38;5;21;01mpandas\u001b[39;00m\u001b[38;5;21;01m.\u001b[39;00m\u001b[38;5;21;01mcore\u001b[39;00m\u001b[38;5;21;01m.\u001b[39;00m\u001b[38;5;21;01mreshape\u001b[39;00m\u001b[38;5;21;01m.\u001b[39;00m\u001b[38;5;21;01mapi\u001b[39;00m \u001b[38;5;28;01mimport\u001b[39;00m (\n\u001b[1;32m    121\u001b[0m     concat,\n\u001b[1;32m    122\u001b[0m     lreshape,\n\u001b[0;32m   (...)\u001b[0m\n\u001b[1;32m    134\u001b[0m     qcut,\n\u001b[1;32m    135\u001b[0m )\n\u001b[1;32m    137\u001b[0m \u001b[38;5;28;01mfrom\u001b[39;00m \u001b[38;5;21;01mpandas\u001b[39;00m \u001b[38;5;28;01mimport\u001b[39;00m api, arrays, errors, io, plotting, tseries\n\u001b[0;32m--> 138\u001b[0m \u001b[38;5;28;01mfrom\u001b[39;00m \u001b[38;5;21;01mpandas\u001b[39;00m \u001b[38;5;28;01mimport\u001b[39;00m testing\n\u001b[1;32m    139\u001b[0m \u001b[38;5;28;01mfrom\u001b[39;00m \u001b[38;5;21;01mpandas\u001b[39;00m\u001b[38;5;21;01m.\u001b[39;00m\u001b[38;5;21;01mutil\u001b[39;00m\u001b[38;5;21;01m.\u001b[39;00m\u001b[38;5;21;01m_print_versions\u001b[39;00m \u001b[38;5;28;01mimport\u001b[39;00m show_versions\n\u001b[1;32m    141\u001b[0m \u001b[38;5;28;01mfrom\u001b[39;00m \u001b[38;5;21;01mpandas\u001b[39;00m\u001b[38;5;21;01m.\u001b[39;00m\u001b[38;5;21;01mio\u001b[39;00m\u001b[38;5;21;01m.\u001b[39;00m\u001b[38;5;21;01mapi\u001b[39;00m \u001b[38;5;28;01mimport\u001b[39;00m (\n\u001b[1;32m    142\u001b[0m     \u001b[38;5;66;03m# excel\u001b[39;00m\n\u001b[1;32m    143\u001b[0m     ExcelFile,\n\u001b[0;32m   (...)\u001b[0m\n\u001b[1;32m    171\u001b[0m     read_spss,\n\u001b[1;32m    172\u001b[0m )\n",
      "File \u001b[0;32m~/anaconda3/envs/obs2/lib/python3.10/site-packages/pandas/testing.py:6\u001b[0m\n\u001b[1;32m      1\u001b[0m \u001b[38;5;124;03m\"\"\"\u001b[39;00m\n\u001b[1;32m      2\u001b[0m \u001b[38;5;124;03mPublic testing utility functions.\u001b[39;00m\n\u001b[1;32m      3\u001b[0m \u001b[38;5;124;03m\"\"\"\u001b[39;00m\n\u001b[0;32m----> 6\u001b[0m \u001b[38;5;28;01mfrom\u001b[39;00m \u001b[38;5;21;01mpandas\u001b[39;00m\u001b[38;5;21;01m.\u001b[39;00m\u001b[38;5;21;01m_testing\u001b[39;00m \u001b[38;5;28;01mimport\u001b[39;00m (\n\u001b[1;32m      7\u001b[0m     assert_extension_array_equal,\n\u001b[1;32m      8\u001b[0m     assert_frame_equal,\n\u001b[1;32m      9\u001b[0m     assert_index_equal,\n\u001b[1;32m     10\u001b[0m     assert_series_equal,\n\u001b[1;32m     11\u001b[0m )\n\u001b[1;32m     13\u001b[0m __all__ \u001b[38;5;241m=\u001b[39m [\n\u001b[1;32m     14\u001b[0m     \u001b[38;5;124m\"\u001b[39m\u001b[38;5;124massert_extension_array_equal\u001b[39m\u001b[38;5;124m\"\u001b[39m,\n\u001b[1;32m     15\u001b[0m     \u001b[38;5;124m\"\u001b[39m\u001b[38;5;124massert_frame_equal\u001b[39m\u001b[38;5;124m\"\u001b[39m,\n\u001b[1;32m     16\u001b[0m     \u001b[38;5;124m\"\u001b[39m\u001b[38;5;124massert_series_equal\u001b[39m\u001b[38;5;124m\"\u001b[39m,\n\u001b[1;32m     17\u001b[0m     \u001b[38;5;124m\"\u001b[39m\u001b[38;5;124massert_index_equal\u001b[39m\u001b[38;5;124m\"\u001b[39m,\n\u001b[1;32m     18\u001b[0m ]\n",
      "File \u001b[0;32m~/anaconda3/envs/obs2/lib/python3.10/site-packages/pandas/_testing/__init__.py:914\u001b[0m\n\u001b[1;32m    909\u001b[0m     \u001b[38;5;28;01mimport\u001b[39;00m \u001b[38;5;21;01mpytest\u001b[39;00m\n\u001b[1;32m    911\u001b[0m     \u001b[38;5;28;01mreturn\u001b[39;00m pytest\u001b[38;5;241m.\u001b[39mraises(expected_exception, match\u001b[38;5;241m=\u001b[39m\u001b[38;5;28;01mNone\u001b[39;00m)\n\u001b[0;32m--> 914\u001b[0m cython_table \u001b[38;5;241m=\u001b[39m \u001b[43mpd\u001b[49m\u001b[38;5;241;43m.\u001b[39;49m\u001b[43mcore\u001b[49m\u001b[38;5;241m.\u001b[39mcommon\u001b[38;5;241m.\u001b[39m_cython_table\u001b[38;5;241m.\u001b[39mitems()\n\u001b[1;32m    917\u001b[0m \u001b[38;5;28;01mdef\u001b[39;00m \u001b[38;5;21mget_cython_table_params\u001b[39m(ndframe, func_names_and_expected):\n\u001b[1;32m    918\u001b[0m \u001b[38;5;250m    \u001b[39m\u001b[38;5;124;03m\"\"\"\u001b[39;00m\n\u001b[1;32m    919\u001b[0m \u001b[38;5;124;03m    Combine frame, functions from com._cython_table\u001b[39;00m\n\u001b[1;32m    920\u001b[0m \u001b[38;5;124;03m    keys and expected result.\u001b[39;00m\n\u001b[0;32m   (...)\u001b[0m\n\u001b[1;32m    932\u001b[0m \u001b[38;5;124;03m        List of three items (DataFrame, function, expected result)\u001b[39;00m\n\u001b[1;32m    933\u001b[0m \u001b[38;5;124;03m    \"\"\"\u001b[39;00m\n",
      "\u001b[0;31mAttributeError\u001b[0m: partially initialized module 'pandas' has no attribute 'core' (most likely due to a circular import)"
     ]
    }
   ],
   "source": [
    "import os\n",
    "import gc\n",
    "import obspy\n",
    "import matplotlib.pyplot as plt\n",
    "import pandas as pd\n",
    "\n",
    "from numpy import arange, linspace, sqrt, diff, nan, gradient, nanmax, nanmean, array\n",
    "from pandas import read_csv, DataFrame\n",
    "from mpl_toolkits.axes_grid1.inset_locator import inset_axes\n",
    "from numpy.ma import filled, isMaskedArray, masked\n",
    "from matplotlib.ticker import (MultipleLocator, AutoMinorLocator)\n",
    "from obspy import UTCDateTime\n",
    "from pathlib import Path\n",
    "\n",
    "from andbro__readYaml import __readYaml\n",
    "from andbro__read_sds import __read_sds"
   ]
  },
  {
   "cell_type": "code",
   "execution_count": null,
   "id": "42897ed7",
   "metadata": {
    "ExecuteTime": {
     "end_time": "2022-10-28T14:20:34.308428Z",
     "start_time": "2022-10-28T14:20:34.291615Z"
    },
    "tags": []
   },
   "outputs": [],
   "source": [
    "if os.uname().nodename == 'lighthouse':\n",
    "    root_path = '/home/andbro/'\n",
    "    data_path = '/home/andbro/kilauea-data/'\n",
    "    archive_path = '/home/andbro/freenas/'\n",
    "    bay_path = '/home/andbro/bay200/'\n",
    "elif os.uname().nodename == 'kilauea':\n",
    "    root_path = '/home/brotzer/'\n",
    "    data_path = '/import/kilauea-data/'\n",
    "    archive_path = '/import/freenas-ffb-01-data/'\n",
    "    bay_path = '/bay200/'\n",
    "elif os.uname().nodename == 'lin-ffb-01':\n",
    "    root_path = '/home/brotzer/'\n",
    "    data_path = '/import/kilauea-data/'\n",
    "    archive_path = '/import/freenas-ffb-01-data/'\n",
    "    bay_path = '/bay200/'"
   ]
  },
  {
   "cell_type": "code",
   "execution_count": null,
   "id": "cb5bf991-3adf-4fa2-8416-3d01c5abe412",
   "metadata": {
    "tags": []
   },
   "outputs": [],
   "source": [
    "from functions.smoothing import __smooth"
   ]
  },
  {
   "cell_type": "markdown",
   "id": "mounted-throat",
   "metadata": {},
   "source": [
    "### Define Functions"
   ]
  },
  {
   "cell_type": "code",
   "execution_count": null,
   "id": "abe109a2-c37f-40b8-9b3c-ac06a3562e9e",
   "metadata": {
    "tags": []
   },
   "outputs": [],
   "source": [
    "from functions.converstion_to_tilt import __conversion_to_tilt\n",
    "from functions.plot_all_tilt import __plot_all_tilt"
   ]
  },
  {
   "cell_type": "markdown",
   "id": "clean-hacker",
   "metadata": {},
   "source": [
    "### Configurations"
   ]
  },
  {
   "cell_type": "code",
   "execution_count": null,
   "id": "7ceff18f",
   "metadata": {
    "ExecuteTime": {
     "end_time": "2022-10-28T14:20:34.383178Z",
     "start_time": "2022-10-28T14:20:34.368994Z"
    },
    "tags": []
   },
   "outputs": [],
   "source": [
    "config = {}\n",
    "\n",
    "## decide to store figures\n",
    "config['save'] = False\n",
    "\n",
    "## set time period\n",
    "config['tbeg'] = UTCDateTime(\"2023-12-23 14:00\")\n",
    "config['tend'] = UTCDateTime(\"2024-01-07 00:00\")\n",
    "\n",
    "\n",
    "## specify paths\n",
    "config['path_to_sds'] = archive_path+\"romy_archive/\"\n",
    "\n",
    "config['path_to_data'] = data_path+\"TiltmeterDataBackup/Tilt_downsampled/\"\n",
    "\n",
    "config['path_to_figs'] = root_path+\"Documents/ROMY/tiltmeter/figures/\"\n",
    "\n",
    "\n",
    "## tiltmeter configurations\n",
    "confTilt = __readYaml(f\"{root_path}Documents/ROMY/tiltmeter/\", \"tiltmeter.conf\")\n",
    "\n",
    "## correction of offset (e.g. reset mass)\n",
    "# offset_correction = __readYaml(f\"{root_path}Documents/ROMY/tiltmeter/\", \"tiltmeter_steps.yml\")\n",
    "offset_correction = __readYaml(f\"{root_path}Documents/ROMY/tiltmeter/\", \"tiltmeter_offsets.yml\")\n",
    "\n",
    "## correction for temperature trends\n",
    "## based on MAT\n",
    "temperature_correction = __readYaml(f\"{root_path}Documents/ROMY/tiltmeter/\",\"tiltmeter_temperature_correction.yml\")\n",
    "## based on WSX\n",
    "# temperature_correction = __readYaml(f\"{root_path}Documents/ROMY/tiltmeter/\",\"temperature_correction_new.yml\")\n",
    "\n"
   ]
  },
  {
   "cell_type": "markdown",
   "id": "7eb503c6-aa2b-48e2-93bf-d680965a2ff9",
   "metadata": {},
   "source": [
    "### Load Tilt Data"
   ]
  },
  {
   "cell_type": "code",
   "execution_count": null,
   "id": "22fc0628-7b1b-4b5b-87ed-28be6dddcadf",
   "metadata": {
    "tags": []
   },
   "outputs": [],
   "source": [
    "ROMYT0 = __read_sds(config['path_to_sds'], \"BW.ROMYT..MA*\", config['tbeg'], config['tend'])\n",
    "\n",
    "ROMYT0 = ROMYT0.sort()\n",
    "\n",
    "ROMYT0 = ROMYT0.merge()\n",
    "\n",
    "# ROMYT0 = ROMYT0.resample(1.0, no_filter=False)"
   ]
  },
  {
   "cell_type": "code",
   "execution_count": null,
   "id": "cca242cf-165c-4439-8f8e-9be7f33c14a0",
   "metadata": {
    "tags": []
   },
   "outputs": [],
   "source": [
    "TROMY0 = __read_sds(config['path_to_sds'], \"BW.TROMY..MA*\", config['tbeg'], config['tend'])\n",
    "\n",
    "TROMY0 = TROMY0.sort()\n",
    "\n",
    "TROMY0 = TROMY0.merge()\n",
    "\n",
    "# TROMY0 = TROMY0.resample(1.0, no_filter=False)"
   ]
  },
  {
   "cell_type": "code",
   "execution_count": null,
   "id": "2648544a-05ce-4d8b-86c4-00ba0504fb71",
   "metadata": {
    "tags": []
   },
   "outputs": [],
   "source": [
    "ROMYT0.plot();\n",
    "TROMY0.plot();"
   ]
  },
  {
   "cell_type": "code",
   "execution_count": null,
   "id": "a6965af0-5054-4fa2-a840-d11fc9283178",
   "metadata": {
    "tags": []
   },
   "outputs": [],
   "source": [
    "gc.collect();"
   ]
  },
  {
   "cell_type": "markdown",
   "id": "af96ad7e",
   "metadata": {},
   "source": [
    "### Covert Data"
   ]
  },
  {
   "cell_type": "code",
   "execution_count": null,
   "id": "513fce1a",
   "metadata": {
    "ExecuteTime": {
     "end_time": "2022-10-28T14:20:40.544380Z",
     "start_time": "2022-10-28T14:20:40.443871Z"
    },
    "tags": []
   },
   "outputs": [],
   "source": [
    "TROMY = __conversion_to_tilt(TROMY0, confTilt['TROMY'])\n",
    "ROMYT = __conversion_to_tilt(ROMYT0, confTilt['ROMYT'])"
   ]
  },
  {
   "cell_type": "code",
   "execution_count": null,
   "id": "ee4fb52e-ca18-4c32-8756-fd7124cd9244",
   "metadata": {
    "tags": []
   },
   "outputs": [],
   "source": [
    "fig = __plot_all_tilt(TROMY, ROMYT, TROMY);"
   ]
  },
  {
   "cell_type": "markdown",
   "id": "00cae1c2-c75d-4dd6-94d9-a2efab2ebe82",
   "metadata": {},
   "source": [
    "### Load Temperature Data"
   ]
  },
  {
   "cell_type": "code",
   "execution_count": null,
   "id": "eb89b8c3-69a4-4ce9-90cc-f1f6204827f8",
   "metadata": {},
   "outputs": [],
   "source": [
    "def __interpolate_nan(array_like):\n",
    "\n",
    "    from numpy import isnan, interp\n",
    "\n",
    "    array = array_like.copy()\n",
    "\n",
    "    nans = isnan(array)\n",
    "\n",
    "    def get_x(a):\n",
    "        return a.nonzero()[0]\n",
    "\n",
    "    array[nans] = interp(get_x(nans), get_x(~nans), array[~nans])\n",
    "\n",
    "    return array"
   ]
  },
  {
   "cell_type": "code",
   "execution_count": null,
   "id": "e060c010-a9d5-444f-9b51-80b729753834",
   "metadata": {
    "tags": []
   },
   "outputs": [],
   "source": [
    "ps4 = __read_sds(archive_path+\"temp_archive/\", \"BW.PROMY.04.L*\", config['tbeg'], config['tend'], data_format=\"MSEED\")"
   ]
  },
  {
   "cell_type": "code",
   "execution_count": null,
   "id": "f93afded-c228-4d73-adb5-ac034a143953",
   "metadata": {
    "tags": []
   },
   "outputs": [],
   "source": [
    "for tr in ps4:\n",
    "    tr.data = __interpolate_nan(tr.data)"
   ]
  },
  {
   "cell_type": "code",
   "execution_count": null,
   "id": "dc105dc2-3c61-4d5c-8194-0400b389f55e",
   "metadata": {
    "tags": []
   },
   "outputs": [],
   "source": [
    "from andbro__load_WROMY_stream import __load_wromy_stream\n",
    "\n",
    "ws4 = __load_wromy_stream(config['path_to_sds'], \"BW.WROMY..WS4\", config['tbeg'], config['tend'])\n",
    "\n",
    "ws4.trim(config['tbeg'], UTCDateTime(\"2024-01-01\"))"
   ]
  },
  {
   "cell_type": "code",
   "execution_count": null,
   "id": "2811f622-0380-4f8f-88bb-27210ccfdda2",
   "metadata": {
    "tags": []
   },
   "outputs": [],
   "source": [
    "## Reset start to Zero\n",
    "for st in [TROMY, ROMYT]:\n",
    "    for tr in st:\n",
    "        if not tr.stats.channel[-1] == \"T\" or tr.stats.channel[0] == \"W\":\n",
    "            tr.data -= nanmean(tr.data[:200])"
   ]
  },
  {
   "cell_type": "code",
   "execution_count": null,
   "id": "0314e889-8ed0-44cf-bd72-885d2a7fb6f3",
   "metadata": {
    "tags": []
   },
   "outputs": [],
   "source": [
    "htp = read_csv(archive_path+\"temp_archive/ROMY_HTP/htp.txt\", delimiter=\" \")\n",
    "\n",
    "htp.dropna(inplace=True)"
   ]
  },
  {
   "cell_type": "code",
   "execution_count": null,
   "id": "ec37cacb-4d2a-403d-913e-1ef003a591d7",
   "metadata": {
    "tags": []
   },
   "outputs": [],
   "source": [
    "\n",
    "htp['DateTimeUTC'] =  array([UTCDateTime(_t)-3600 for _t in htp.DateTimeT])\n",
    "htp['time_seconds'] = array([abs(config['tbeg'] - UTCDateTime(str(_t))) for _t in htp.DateTimeUTC])\n",
    "\n",
    "htp = htp[htp.DateTimeT >= config['tbeg']]\n",
    "htp = htp[htp.DateTimeT <= config['tend']]"
   ]
  },
  {
   "cell_type": "markdown",
   "id": "c54a2ceb-b12a-4896-afb5-75cf17a91b5e",
   "metadata": {
    "tags": []
   },
   "source": [
    "### Plotting"
   ]
  },
  {
   "cell_type": "code",
   "execution_count": null,
   "id": "0b1abd88-c829-42ec-99bf-3f3a4ef61e89",
   "metadata": {
    "tags": []
   },
   "outputs": [],
   "source": [
    "def __makeplot_overview():\n",
    "\n",
    "    Nrow, Ncol = 4, 1\n",
    "\n",
    "    font = 12\n",
    "\n",
    "    fig, ax = plt.subplots(Nrow, Ncol, figsize=(15, 8), sharex=True)\n",
    "\n",
    "    time_scaling = 1\n",
    "    tilt_scaling = 1e6\n",
    "\n",
    "    ref_time = config['tbeg']\n",
    "\n",
    "    ax[0].plot(TROMY.select(channel=\"*N\")[0].times(reftime=config['tbeg'])*time_scaling,\n",
    "               TROMY.select(channel=\"*N\")[0].data*tilt_scaling, label=\"TROMY\", color=\"tab:blue\")\n",
    "\n",
    "    ax[0].plot(ROMYT.select(channel=\"*N\")[0].times(reftime=config['tbeg'])*time_scaling,\n",
    "               ROMYT.select(channel=\"*N\")[0].data*tilt_scaling, label=\"ROMYT\", color=\"tab:orange\")\n",
    "\n",
    "    ax[1].plot(TROMY.select(channel=\"*E\")[0].times(reftime=config['tbeg'])*time_scaling,\n",
    "               TROMY.select(channel=\"*E\")[0].data*tilt_scaling, label=\"TROMY\", color=\"tab:blue\")\n",
    "\n",
    "    ax[1].plot(ROMYT.select(channel=\"*E\")[0].times(reftime=config['tbeg'])*time_scaling,\n",
    "               ROMYT.select(channel=\"*E\")[0].data*tilt_scaling, label=\"ROMYT\", color=\"tab:orange\")\n",
    "\n",
    "    ax[0].plot(TROMY.select(channel=\"*N\")[0].times(reftime=config['tbeg'])*time_scaling,\n",
    "               __smooth(TROMY.select(channel=\"*N\")[0].data*tilt_scaling, 600), color=\"k\", ls=\"--\")\n",
    "    ax[0].plot(ROMYT.select(channel=\"*N\")[0].times(reftime=config['tbeg'])*time_scaling,\n",
    "               __smooth(ROMYT.select(channel=\"*N\")[0].data*tilt_scaling, 600), color=\"k\", ls=\"--\")\n",
    "    ax[1].plot(TROMY.select(channel=\"*E\")[0].times(reftime=config['tbeg'])*time_scaling,\n",
    "               __smooth(TROMY.select(channel=\"*E\")[0].data*tilt_scaling, 600), color=\"k\", ls=\"--\")\n",
    "    ax[1].plot(ROMYT.select(channel=\"*E\")[0].times(reftime=config['tbeg'])*time_scaling,\n",
    "               __smooth(ROMYT.select(channel=\"*E\")[0].data*tilt_scaling, 600), color=\"k\", ls=\"--\")\n",
    "\n",
    "    # ax[2].plot(TROMY.select(channel=\"*T\")[0].times()*time_scaling,\n",
    "    #            TROMY.select(channel=\"*T\")[0].data, label=\"TROMY\")\n",
    "    ax22 = ax[2].twinx()\n",
    "    ax22.plot(TROMY.select(channel=\"*T\")[0].times(reftime=config['tbeg'])*time_scaling,\n",
    "              __smooth(TROMY.select(channel=\"*T\")[0].data, 600), label=\"TROMY\", color=\"tab:blue\")\n",
    "    ax22.set_ylabel(\"Temperature (°C)\", fontsize=font, color=\"tab:blue\")\n",
    "    ax22.legend(loc=4)\n",
    "\n",
    "    ax[2].plot(ROMYT.select(channel=\"*T\")[0].times(reftime=config['tbeg'])*time_scaling,\n",
    "               ROMYT.select(channel=\"*T\")[0].data, label=\"ROMYT\", color=\"tab:orange\")\n",
    "\n",
    "    ax[2].plot(ws4.select(channel=\"*T\")[0].times(reftime=config['tbeg'])*time_scaling,\n",
    "               __smooth(ws4.select(channel=\"*T\")[0].data, 600), label=\"WS4\", color=\"tab:green\")\n",
    "\n",
    "    ax[2].plot(ps4.select(channel=\"*KI\")[0].times(reftime=config['tbeg'])*time_scaling,\n",
    "               __smooth(ps4.select(channel=\"*KI\")[0].data, 600), label=\"PS4\", color=\"tab:red\")\n",
    "\n",
    "    ax[2].plot(htp.time_seconds*time_scaling,\n",
    "               __smooth(htp.C, 15), label=\"stick\", color=\"tab:purple\")\n",
    "\n",
    "\n",
    "    ax[3].plot(ws4.select(channel=\"*P\")[0].times(reftime=config['tbeg'])*time_scaling,\n",
    "               __smooth(ws4.select(channel=\"*P\")[0].data, 600), label=\"WS4\", color=\"tab:green\")\n",
    "\n",
    "    ax[3].plot(ps4.select(channel=\"*DI\")[0].times(reftime=config['tbeg'])*time_scaling,\n",
    "               __smooth(ps4.select(channel=\"*DI\")[0].data, 600), label=\"PS4\", color=\"tab:red\")\n",
    "\n",
    "    ax[3].plot(htp.time_seconds*time_scaling,\n",
    "               __smooth(htp.hPa, 15), label=\"stick\", color=\"tab:purple\")\n",
    "\n",
    "\n",
    "    for _n in range(Nrow):\n",
    "        ax[_n].grid(ls=\":\", zorder=0)\n",
    "        ax[_n].legend(loc=1)\n",
    "        ax[_n].set_xlim(left=0)\n",
    "\n",
    "    ax[0].set_ylabel(\"N-S Tilt ($\\mu$rad)\", fontsize=font)\n",
    "    ax[1].set_ylabel(\"E-W Tilt ($\\mu$rad)\", fontsize=font)\n",
    "    ax[2].set_ylabel(\"Temperature (°C)\", fontsize=font)\n",
    "    ax[3].set_ylabel(\"Air Pressure (hPa)\", fontsize=font)\n",
    "\n",
    "    # ax[3].set_xlabel(f\"Time (days) from {config['tbeg'].date} {str(config['tbeg'].time).split('.')[0]} UTC\", fontsize=font)\n",
    "\n",
    "    tcks = ax[Nrow-1].get_xticks()\n",
    "    tcklbls = [str(UTCDateTime(ref_time+t).date) for t in tcks]\n",
    "    ax[Nrow-1].set_xticklabels(tcklbls)\n",
    "\n",
    "    ax[0].set_ylim(-8, 2.5)\n",
    "    ax[1].set_ylim(-10, 5)\n",
    "\n",
    "    plt.show();\n",
    "\n",
    "    gc.collect()\n",
    "    return fig\n",
    "\n",
    "fig = __makeplot_overview();\n",
    "\n",
    "fig.savefig(config['path_to_figs']+f\"Tilt_Comparison_POT.png\", format=\"png\", dpi=150, bbox_inches='tight')\n"
   ]
  },
  {
   "cell_type": "code",
   "execution_count": null,
   "id": "7079550e-1a8c-4c64-83b9-f08c07bbcf23",
   "metadata": {},
   "outputs": [],
   "source": []
  },
  {
   "cell_type": "code",
   "execution_count": null,
   "id": "00024df6-09e6-4e3d-9ed2-dd20f3a3f020",
   "metadata": {},
   "outputs": [],
   "source": []
  },
  {
   "cell_type": "markdown",
   "id": "24336093",
   "metadata": {
    "tags": []
   },
   "source": [
    "### Plot Spectra"
   ]
  },
  {
   "cell_type": "code",
   "execution_count": null,
   "id": "52ea4a72",
   "metadata": {
    "ExecuteTime": {
     "end_time": "2022-10-28T14:40:32.112203Z",
     "start_time": "2022-10-28T14:40:32.091794Z"
    },
    "tags": []
   },
   "outputs": [],
   "source": [
    "st_new = obspy.Stream()\n",
    "\n",
    "st_new += ROMYT.copy().select(channel=\"*T\")\n",
    "st_new += ROMYT.copy().select(channel=\"*N\")\n",
    "st_new += ROMYT.copy().select(channel=\"*E\")\n",
    "\n",
    "st_new += TROMY.copy().select(channel=\"*T\")\n",
    "st_new += TROMY.copy().select(channel=\"*N\")\n",
    "st_new += TROMY.copy().select(channel=\"*E\")\n",
    "\n",
    "st_new.detrend(\"demean\");\n",
    "st_new.detrend(\"linear\");\n",
    "st_new.taper(0.1);\n",
    "\n",
    "# st_new.filter(\"bandpass\", freqmin=1/(25*3600), freqmax=1/(23*3600), corners=4, zerophase=True);\n",
    "# st_new.filter(\"bandpass\", freqmin=1/(13*3600), freqmax=1/(11*3600), corners=4, zerophase=True);\n",
    "st_new.filter(\"lowpass\", freq=1/3600, corners=4, zerophase=True);\n",
    "st_new.resample(1/3600, no_filter=True);\n"
   ]
  },
  {
   "cell_type": "code",
   "execution_count": null,
   "id": "cadd3ead",
   "metadata": {
    "ExecuteTime": {
     "end_time": "2022-10-28T14:40:32.593251Z",
     "start_time": "2022-10-28T14:40:32.585965Z"
    },
    "code_folding": [
     0
    ],
    "tags": []
   },
   "outputs": [],
   "source": [
    "def __makeplotStreamSpectra(st, config):\n",
    "\n",
    "    from scipy import fftpack\n",
    "    from numpy import abs\n",
    "\n",
    "    NN = len(st)\n",
    "\n",
    "    fig, axes = plt.subplots(NN,2,figsize=(15,10), sharex='col')\n",
    "\n",
    "    plt.subplots_adjust(hspace=0.3)\n",
    "\n",
    "    ## _______________________________________________\n",
    "\n",
    "    st.sort(keys=['channel'], reverse=True)\n",
    "\n",
    "    for i, tr in enumerate(st):\n",
    "\n",
    "        comp_fft = abs(fftpack.fft(tr.data))\n",
    "        ff       = fftpack.fftfreq(comp_fft.size, d=1/tr.stats.sampling_rate)\n",
    "        comp_fft = fftpack.fftshift(comp_fft)\n",
    "\n",
    "\n",
    "        ## _________________________________________________________________\n",
    "        axes[i,0].plot(\n",
    "                    tr.times()/86400,\n",
    "                    tr.data*1e6,\n",
    "                    color='black',\n",
    "                    label='{} {}'.format(tr.stats.station, tr.stats.channel),\n",
    "                    lw=1.0,\n",
    "                    )\n",
    "\n",
    "\n",
    "        ## _________________________________________________________________\n",
    "        fxx = abs(fftpack.fft(tr.data)[1:len(ff)//2])\n",
    "        axes[i,1].loglog(\n",
    "                    ff[1:len(ff)//2],\n",
    "                    fxx,\n",
    "                    color='black',\n",
    "                    lw=1.0,\n",
    "                    )\n",
    "\n",
    "        axes[i,1].vlines(1/86400, min(fxx[:]), max(fxx[:]), color=\"darkgrey\", alpha=1.0, zorder=0)\n",
    "        axes[i,1].vlines(2/86400, min(fxx[:]), max(fxx[:]), color=\"darkgrey\", alpha=1.0, zorder=0)\n",
    "\n",
    "        axes[NN-1,0].set_xlabel(\"Time (days)\")\n",
    "        axes[NN-1,1].set_xlabel(\"Frequency (Hz)\")\n",
    "\n",
    "        axes[i,0].set_ylabel(r'$\\Omega$ ($\\mu$rad)')\n",
    "        axes[i,1].set_ylabel(r'ASD (rad/Hz)')        \n",
    "        axes[i,0].legend(loc='upper left',bbox_to_anchor=(0.8, 1.10), framealpha=1.0)\n",
    "\n",
    "#         axes[i,0].ticklabel_format(axis='y', style='sci', scilimits=(0,0))\n",
    "#         axes[i,1].ticklabel_format(axis='y', style='sci', scilimits=(0,0))\n",
    "\n",
    "#         axes[i,1].set_xlim(1e-5, 0.001)\n",
    "#         axes[i,1].set_ylim(0,max(fxx[200:]))\n",
    "\n",
    "    return fig\n",
    "\n",
    "# __makeplotStreamSpectra(st_new, config);"
   ]
  },
  {
   "cell_type": "code",
   "execution_count": null,
   "id": "5c87e521-45cb-4c1b-a10f-df04c501bf51",
   "metadata": {
    "tags": []
   },
   "outputs": [],
   "source": [
    "def __makeplotStreamSpectra(st, config):\n",
    "\n",
    "    from scipy import fftpack\n",
    "    from numpy import abs\n",
    "\n",
    "    Nrow, Ncol = 3, 2\n",
    "\n",
    "    font = 12\n",
    "\n",
    "    fig, axes = plt.subplots(Nrow, Ncol,figsize=(15, 5), sharex='col')\n",
    "\n",
    "    plt.subplots_adjust(hspace=0.2)\n",
    "\n",
    "    ## _______________________________________________\n",
    "\n",
    "    st.sort(keys=['channel'], reverse=True)\n",
    "\n",
    "    for ii, tr in enumerate(st):\n",
    "        if \"T\" in tr.stats.channel:\n",
    "            i = 0\n",
    "        elif \"N\" in tr.stats.channel:\n",
    "            i = 1\n",
    "        else:\n",
    "            i = 2\n",
    "\n",
    "        comp_fft = abs(fftpack.fft(tr.data))\n",
    "        ff       = fftpack.fftfreq(comp_fft.size, d=1/tr.stats.sampling_rate)\n",
    "        comp_fft = fftpack.fftshift(comp_fft)\n",
    "\n",
    "\n",
    "        ## _________________________________________________________________\n",
    "        if \"T\" in tr.stats.channel:\n",
    "            axes[i,0].plot(\n",
    "                            tr.times()/86400,\n",
    "                            tr.data,\n",
    "                            # color='black',\n",
    "                            label='{}'.format(tr.stats.station),\n",
    "                            lw=1.0,\n",
    "            )\n",
    "        else:\n",
    "            axes[i,0].plot(\n",
    "                            tr.times()/86400,\n",
    "                            tr.data*1e6,\n",
    "                            # color='black',\n",
    "                            label='{}'.format(tr.stats.station),\n",
    "                            lw=1.0,\n",
    "            )\n",
    "\n",
    "\n",
    "        ## _________________________________________________________________\n",
    "        fxx = abs(fftpack.fft(tr.data)[1:len(ff)//2])\n",
    "        axes[i,1].loglog(\n",
    "                        ff[1:len(ff)//2],\n",
    "                        fxx,\n",
    "                        # color='black',\n",
    "                        lw=1.0,\n",
    "        )\n",
    "\n",
    "        axes[i,1].vlines(1/86400, min(fxx[:]), max(fxx[:]), color=\"darkgrey\", alpha=1.0, zorder=0)\n",
    "        axes[i,1].vlines(2/86400, min(fxx[:]), max(fxx[:]), color=\"darkgrey\", alpha=1.0, zorder=0)\n",
    "\n",
    "        axes[Nrow-1,0].set_xlabel(\"Time (days)\")\n",
    "        axes[Nrow-1,1].set_xlabel(\"Frequency (Hz)\")\n",
    "\n",
    "        labels = [r'Temperature. (°C)', r'N-S Tilt ($\\mu$rad)', r'E-W Tilt ($\\mu$rad)']\n",
    "        axes[i,0].set_ylabel(labels[i])\n",
    "\n",
    "        axes[i,1].set_ylabel(r'ASD (rad/Hz)')\n",
    "        axes[0,0].legend(loc='upper left',bbox_to_anchor=(0.8, 1.35), ncol=2, framealpha=1.0, fontsize=font-2)\n",
    "\n",
    "#         axes[i,0].ticklabel_format(axis='y', style='sci', scilimits=(0,0))\n",
    "#         axes[i,1].ticklabel_format(axis='y', style='sci', scilimits=(0,0))\n",
    "\n",
    "#         axes[i,1].set_xlim(1e-5, 0.001)\n",
    "#         axes[i,1].set_ylim(0,max(fxx[200:]))\n",
    "\n",
    "    return fig\n",
    "\n",
    "fig = __makeplotStreamSpectra(st_new, config);\n",
    "\n",
    "fig.savefig(config['path_to_figs']+f\"Tilt_Comparison_POT_spectra.png\", format=\"png\", dpi=150, bbox_inches='tight')\n"
   ]
  },
  {
   "cell_type": "code",
   "execution_count": null,
   "id": "53d199df-013c-4816-a05b-7ae3bc6d8aa3",
   "metadata": {
    "tags": []
   },
   "outputs": [],
   "source": [
    "import numpy as np\n",
    "\n",
    "def __interpolate_nan(array_like):\n",
    "\n",
    "    from numpy import isnan, interp\n",
    "\n",
    "    array = array_like.copy()\n",
    "\n",
    "    nans = isnan(array)\n",
    "\n",
    "    def get_x(a):\n",
    "        return a.nonzero()[0]\n",
    "\n",
    "    array[nans] = interp(get_x(nans), get_x(~nans), array[~nans])\n",
    "\n",
    "    return array"
   ]
  },
  {
   "cell_type": "code",
   "execution_count": null,
   "id": "2ce9cb87-3f13-41c9-975f-e4b087c42b33",
   "metadata": {
    "tags": []
   },
   "outputs": [],
   "source": [
    "import numpy as np\n",
    "\n",
    "def __interpolate_nan(array_like):\n",
    "\n",
    "    from numpy import isnan, interp\n",
    "\n",
    "    array = array_like.copy()\n",
    "\n",
    "    nans = isnan(array)\n",
    "\n",
    "    def get_x(a):\n",
    "        return a.nonzero()[0]\n",
    "\n",
    "    array[nans] = interp(get_x(nans), get_x(~nans), array[~nans])\n",
    "\n",
    "    return array\n",
    "\n",
    "\n",
    "ps4_new = ps4.copy();\n",
    "\n",
    "ps4_new[0].data\n",
    "\n",
    "for tr in ps4_new:\n",
    "    # tr.data -= np.nanmean(tr.data)\n",
    "    # tr.data = np.nan_to_num(tr.data)\n",
    "    tr.data = __interpolate_nan(tr.data)\n",
    "\n",
    "ps4_new.detrend(\"linear\");\n",
    "\n",
    "ps4_new.taper(0.1);\n",
    "\n",
    "ps4_new.filter(\"lowpass\", freq=1/3600, corners=4, zerophase=True);\n",
    "ps4_new.resample(1/3600, no_filter=True);\n",
    "\n",
    "ps4_new.plot(equal_scale=False);"
   ]
  },
  {
   "cell_type": "code",
   "execution_count": null,
   "id": "cf201cb7-c769-4974-8ec9-c5a4aff6e6b1",
   "metadata": {
    "tags": []
   },
   "outputs": [],
   "source": []
  },
  {
   "cell_type": "code",
   "execution_count": null,
   "id": "cdff1f34-53e4-4460-8607-0bb85dc0ceeb",
   "metadata": {
    "tags": []
   },
   "outputs": [],
   "source": [
    "stt = obspy.Stream()\n",
    "\n",
    "stt += ROMYT.copy()\n",
    "stt += TROMY.copy()\n",
    "stt += ps4.copy()\n",
    "\n",
    "stt.detrend(\"linear\");\n",
    "\n",
    "stt.taper(0.1);\n",
    "\n",
    "ff = 1/(1*3600)\n",
    "stt.filter(\"lowpass\", freq=ff, corners=4, zerophase=True);\n",
    "stt.resample(ff, no_filter=True);\n",
    "\n",
    "# stt.plot(equal_scale=False);"
   ]
  },
  {
   "cell_type": "code",
   "execution_count": null,
   "id": "1364a6b9-3eea-4c99-b538-9296a1ac59f6",
   "metadata": {
    "tags": []
   },
   "outputs": [],
   "source": [
    "def __makeplotStreamSpectra(st):\n",
    "\n",
    "    from scipy import fftpack\n",
    "    from numpy import abs\n",
    "\n",
    "    Nrow, Ncol = 4, 2\n",
    "\n",
    "    font = 12\n",
    "\n",
    "    fig, axes = plt.subplots(Nrow, Ncol,figsize=(15, 7), sharex='col')\n",
    "\n",
    "    plt.subplots_adjust(hspace=0.2, wspace=0.15)\n",
    "\n",
    "    ## _______________________________________________\n",
    "\n",
    "    st.sort(keys=['channel'], reverse=True)\n",
    "\n",
    "    for ii, tr in enumerate(st):\n",
    "        if \"T\" in tr.stats.channel:\n",
    "            i = 0\n",
    "        elif \"N\" in tr.stats.channel:\n",
    "            i = 1\n",
    "        elif \"E\" in tr.stats.channel:\n",
    "            i = 2\n",
    "        elif \"D\" in tr.stats.channel:\n",
    "            i = 3\n",
    "        elif \"K\" in tr.stats.channel:\n",
    "            i = 0\n",
    "\n",
    "        comp_fft = abs(fftpack.fft(tr.data))\n",
    "        ff       = fftpack.fftfreq(comp_fft.size, d=1/tr.stats.sampling_rate)\n",
    "        comp_fft = fftpack.fftshift(comp_fft)\n",
    "\n",
    "\n",
    "        ## _________________________________________________________________\n",
    "        if \"T\" in tr.stats.channel or \"K\" in tr.stats.channel or \"D\" in tr.stats.channel:\n",
    "            axes[i,0].plot(\n",
    "                            tr.times()/86400,\n",
    "                            tr.data,\n",
    "                            # color='black',\n",
    "                            label='{}'.format(tr.stats.station),\n",
    "                            lw=1.0,\n",
    "            )\n",
    "        else:\n",
    "            axes[i,0].plot(\n",
    "                            tr.times()/86400,\n",
    "                            tr.data*1e6,\n",
    "                            # color='black',\n",
    "                            label='{}'.format(tr.stats.station),\n",
    "                            lw=1.0,\n",
    "            )\n",
    "\n",
    "\n",
    "        ## _________________________________________________________________\n",
    "        fxx = abs(fftpack.fft(tr.data)[1:len(ff)//2])\n",
    "        axes[i,1].loglog(\n",
    "                        ff[1:len(ff)//2],\n",
    "                        fxx,\n",
    "                        # color='black',\n",
    "                        lw=1.0,\n",
    "        )\n",
    "\n",
    "        axes[i,1].vlines(1/86400, min(fxx[:]), max(fxx[:]), color=\"darkgrey\", alpha=1.0, zorder=0)\n",
    "        axes[i,1].vlines(2/86400, min(fxx[:]), max(fxx[:]), color=\"darkgrey\", alpha=1.0, zorder=0)\n",
    "\n",
    "        axes[Nrow-1,0].set_xlabel(\"Time (days)\")\n",
    "        axes[Nrow-1,1].set_xlabel(\"Frequency (Hz)\")\n",
    "\n",
    "        labels = [r'Temperature. (°C)', r'N-S Tilt ($\\mu$rad)', r'E-W Tilt ($\\mu$rad)', r' Pressure (hPa)']\n",
    "        axes[i,0].set_ylabel(labels[i])\n",
    "\n",
    "        axes[i,1].set_ylabel(r'ASD (rad/Hz)')\n",
    "        axes[0,0].legend(loc='upper left',bbox_to_anchor=(0.8, 1.35), ncol=3, framealpha=1.0, fontsize=font-2)\n",
    "\n",
    "        axes[i,0].grid(axis=\"both\", color=\"grey\", alpha=0.3, zorder=0, ls=\"--\")\n",
    "        axes[i,1].grid(axis=\"both\", color=\"grey\", alpha=0.3, zorder=0, ls=\"--\")\n",
    "\n",
    "    return fig\n",
    "\n",
    "fig = __makeplotStreamSpectra(stt);\n",
    "\n",
    "fig.savefig(config['path_to_figs']+f\"Tilt_Comparison_POT_spectra_promy.png\", format=\"png\", dpi=150, bbox_inches='tight')\n"
   ]
  },
  {
   "cell_type": "code",
   "execution_count": null,
   "id": "efde9921-bee8-4604-bcd4-9026ac95fc78",
   "metadata": {
    "tags": []
   },
   "outputs": [],
   "source": []
  },
  {
   "cell_type": "markdown",
   "id": "61bd2788",
   "metadata": {
    "tags": []
   },
   "source": [
    "### Comparison"
   ]
  },
  {
   "cell_type": "code",
   "execution_count": null,
   "id": "7bd7b713-da6c-4856-ae74-dc0a10bdbd85",
   "metadata": {
    "tags": []
   },
   "outputs": [],
   "source": [
    "TROMY1 = TROMY.copy();\n",
    "\n",
    "TROMY1.detrend(\"linear\");\n",
    "TROMY1.taper(0.1);\n",
    "TROMY1.resample(1.0, no_filter=False);"
   ]
  },
  {
   "cell_type": "code",
   "execution_count": null,
   "id": "282a6d4d-2d87-487d-876a-306b5cca8425",
   "metadata": {
    "tags": []
   },
   "outputs": [],
   "source": [
    "import numpy as np\n",
    "\n",
    "from obspy.signal.tf_misfit import plot_tfr\n",
    "\n",
    "dt = TROMY1[0].stats.delta\n",
    "\n",
    "fmin = 0.01\n",
    "fmax = 0.1\n",
    "\n",
    "signal = TROMY1[0].data\n",
    "\n",
    "plot_tfr(signal, dt=dt, fmin=fmin, fmax=fmax)"
   ]
  },
  {
   "cell_type": "code",
   "execution_count": null,
   "id": "92f8cfdd",
   "metadata": {
    "ExecuteTime": {
     "end_time": "2022-10-28T14:20:41.862504Z",
     "start_time": "2022-10-28T14:20:41.860864Z"
    },
    "tags": []
   },
   "outputs": [],
   "source": []
  },
  {
   "cell_type": "code",
   "execution_count": null,
   "id": "e145dec0",
   "metadata": {
    "ExecuteTime": {
     "end_time": "2022-10-28T14:20:42.108058Z",
     "start_time": "2022-10-28T14:20:41.863376Z"
    },
    "tags": []
   },
   "outputs": [],
   "source": [
    "from andbro__crosscorrelation import __crosscorrelation\n",
    "\n",
    "T1 = TROMY.copy()\n",
    "T2 = ROMYT.copy()\n",
    "\n",
    "T1.detrend('demean')\n",
    "T2.detrend('demean')\n",
    "\n",
    "T1.taper(0.1)\n",
    "T2.taper(0.1)\n",
    "\n",
    "T1.filter(\"bandpass\", freqmin=0.00001, freqmax=0.1, corners=4, zerophase=True)\n",
    "T2.filter(\"bandpass\", freqmin=0.00001, freqmax=0.1, corners=4, zerophase=True)\n",
    "\n",
    "# T1.normalize()\n",
    "# T2.normalize()\n",
    "\n",
    "__crosscorrelation(\n",
    "                   T1.select(channel=\"*N\")[0].data,\n",
    "                   T2.select(channel=\"*N\")[0].data,\n",
    "                   plot=True,\n",
    "                   deltaT=T1[0].stats.delta,\n",
    "                   labels=['TROMY', 'ROMYT']\n",
    ");\n"
   ]
  },
  {
   "cell_type": "code",
   "execution_count": null,
   "id": "0ec59074-2819-4a41-abfd-c01be9bbd8af",
   "metadata": {},
   "outputs": [],
   "source": []
  },
  {
   "cell_type": "code",
   "execution_count": null,
   "id": "9120de22-ffeb-4327-a3d3-f241929f2153",
   "metadata": {},
   "outputs": [],
   "source": []
  },
  {
   "cell_type": "code",
   "execution_count": null,
   "id": "3b2866ee",
   "metadata": {
    "ExecuteTime": {
     "end_time": "2022-10-28T14:03:17.896410Z",
     "start_time": "2022-10-28T14:01:42.474018Z"
    }
   },
   "outputs": [],
   "source": []
  },
  {
   "cell_type": "code",
   "execution_count": null,
   "id": "2dcffbe0",
   "metadata": {
    "ExecuteTime": {
     "end_time": "2022-10-28T14:03:17.940224Z",
     "start_time": "2022-10-28T14:03:17.897576Z"
    }
   },
   "outputs": [],
   "source": [
    "import numpy as np\n",
    "from scipy.signal import hilbert\n",
    "from obspy.signal.tf_misfit import plot_tf_misfits\n",
    "\n",
    "fmin = 0.0001\n",
    "fmax = 0.1\n",
    "\n",
    "# amplitude and phase error\n",
    "phase_shift = 0.1\n",
    "amp_fac = 1\n",
    "\n",
    "# reference signal\n",
    "st1 = TROMY.select(channel=\"*N\")[0].data\n",
    "st2 = ROMYT.select(channel=\"*N\")[0].data\n",
    "\n",
    "# generate analytical signal (hilbert transform) and add phase shift\n",
    "st1p = hilbert(st1)\n",
    "st1p = np.real(np.abs(st1p) * \\\n",
    "        np.exp((np.angle(st1p) + phase_shift * np.pi) * 1j))\n",
    "\n",
    "# signal with amplitude error\n",
    "st1a = st1 * amp_fac\n",
    "\n",
    "dt = TROMY[0].stats.delta\n",
    "\n",
    "plot_tf_misfits(st1a, st2, dt=dt, fmin=fmin, fmax=fmax, show=False)\n",
    "plot_tf_misfits(st1p, st2, dt=dt, fmin=fmin, fmax=fmax, show=False)\n",
    "\n",
    "plt.show()\n"
   ]
  },
  {
   "cell_type": "code",
   "execution_count": null,
   "id": "42abe278",
   "metadata": {},
   "outputs": [],
   "source": []
  },
  {
   "cell_type": "code",
   "execution_count": null,
   "id": "c3545e88",
   "metadata": {},
   "outputs": [],
   "source": []
  },
  {
   "cell_type": "code",
   "execution_count": null,
   "id": "c8137664",
   "metadata": {
    "ExecuteTime": {
     "end_time": "2022-10-28T14:03:17.942089Z",
     "start_time": "2022-10-28T14:01:57.483Z"
    }
   },
   "outputs": [],
   "source": [
    "import numpy as np\n",
    "import matplotlib.pyplot as plt\n",
    "\n",
    "import obspy\n",
    "from obspy.imaging.cm import obspy_sequential\n",
    "from obspy.signal.tf_misfit import cwt\n",
    "\n",
    "\n",
    "tr = TROMY[0]\n",
    "npts = tr.stats.npts\n",
    "dt = tr.stats.delta\n",
    "t = np.linspace(0, dt * npts, npts)\n",
    "f_min = 0.01\n",
    "f_max = 0.1\n",
    "\n",
    "scalogram = cwt(tr.data, dt, 8, f_min, f_max)\n",
    "\n",
    "\n",
    "\n",
    "fig = plt.figure()\n",
    "ax = fig.add_subplot(111)\n",
    "\n",
    "x, y = np.meshgrid(t, np.logspace(np.log10(f_min), np.log10(f_max), scalogram.shape[0]))\n",
    "\n",
    "ax.pcolormesh(x, y, np.abs(scalogram), cmap=obspy_sequential)\n",
    "ax.set_xlabel(\"Time after %s [s]\" % tr.stats.starttime)\n",
    "ax.set_ylabel(\"Frequency [Hz]\")\n",
    "ax.set_yscale('log')\n",
    "ax.set_ylim(f_min, f_max)\n",
    "\n",
    "plt.show()"
   ]
  },
  {
   "cell_type": "code",
   "execution_count": null,
   "id": "44870862",
   "metadata": {
    "ExecuteTime": {
     "end_time": "2022-10-28T14:03:17.942805Z",
     "start_time": "2022-10-28T14:01:57.652Z"
    }
   },
   "outputs": [],
   "source": [
    "import numpy as np\n",
    "import matplotlib.pyplot as plt\n",
    "\n",
    "try:\n",
    "    import mlpy\n",
    "except ModuleNotFoundError:\n",
    "    import warnings\n",
    "    warnings.warn(\"mlpy not installed, code snippet skipped\")\n",
    "    exit(1)\n",
    "\n",
    "import obspy\n",
    "\n",
    "from obspy.imaging.cm import obspy_sequential\n",
    "\n",
    "\n",
    "\n",
    "tr = obspy.read(\"https://examples.obspy.org/a02i.2008.240.mseed\")[0]\n",
    "\n",
    "omega0 = 8\n",
    "wavelet_fct = \"morlet\"\n",
    "scales = mlpy.wavelet.autoscales(N=len(tr.data), dt=tr.stats.delta, dj=0.05,\n",
    "                                 wf=wavelet_fct, p=omega0)\n",
    "spec = mlpy.wavelet.cwt(tr.data, dt=tr.stats.delta, scales=scales,\n",
    "                        wf=wavelet_fct, p=omega0)\n",
    "# approximate scales through frequencies\n",
    "freq = (omega0 + np.sqrt(2.0 + omega0 ** 2)) / (4 * np.pi * scales[1:])\n",
    "\n",
    "fig = plt.figure()\n",
    "ax1 = fig.add_axes([0.1, 0.75, 0.7, 0.2])\n",
    "ax2 = fig.add_axes([0.1, 0.1, 0.7, 0.60], sharex=ax1)\n",
    "ax3 = fig.add_axes([0.83, 0.1, 0.03, 0.6])\n",
    "\n",
    "t = np.arange(tr.stats.npts) / tr.stats.sampling_rate\n",
    "ax1.plot(t, tr.data, 'k')\n",
    "\n",
    "img = ax2.imshow(np.abs(spec), extent=[t[0], t[-1], freq[-1], freq[0]],\n",
    "                 aspect='auto', interpolation='nearest', cmap=obspy_sequential)\n",
    "# Hackish way to overlay a logarithmic scale over a linearly scaled image.\n",
    "twin_ax = ax2.twinx()\n",
    "twin_ax.set_yscale('log')\n",
    "twin_ax.set_xlim(t[0], t[-1])\n",
    "twin_ax.set_ylim(freq[-1], freq[0])\n",
    "ax2.tick_params(which='both', labelleft=False, left=False)\n",
    "twin_ax.tick_params(which='both', labelleft=True, left=True, labelright=False)\n",
    "\n",
    "fig.colorbar(img, cax=ax3)\n",
    "\n",
    "plt.show()"
   ]
  },
  {
   "cell_type": "code",
   "execution_count": null,
   "id": "9fa077f6",
   "metadata": {},
   "outputs": [],
   "source": []
  },
  {
   "cell_type": "code",
   "execution_count": null,
   "id": "7196fae5",
   "metadata": {},
   "outputs": [],
   "source": []
  },
  {
   "cell_type": "code",
   "execution_count": null,
   "id": "71c76998",
   "metadata": {},
   "outputs": [],
   "source": []
  },
  {
   "cell_type": "code",
   "execution_count": null,
   "id": "fca27266",
   "metadata": {},
   "outputs": [],
   "source": []
  }
 ],
 "metadata": {
  "kernelspec": {
   "display_name": "Python 3 (ipykernel)",
   "language": "python",
   "name": "python3"
  },
  "language_info": {
   "codemirror_mode": {
    "name": "ipython",
    "version": 3
   },
   "file_extension": ".py",
   "mimetype": "text/x-python",
   "name": "python",
   "nbconvert_exporter": "python",
   "pygments_lexer": "ipython3",
   "version": "3.10.12"
  },
  "latex_envs": {
   "LaTeX_envs_menu_present": true,
   "autoclose": false,
   "autocomplete": true,
   "bibliofile": "biblio.bib",
   "cite_by": "apalike",
   "current_citInitial": 1,
   "eqLabelWithNumbers": true,
   "eqNumInitial": 1,
   "hotkeys": {
    "equation": "Ctrl-E",
    "itemize": "Ctrl-I"
   },
   "labels_anchors": false,
   "latex_user_defs": false,
   "report_style_numbering": false,
   "user_envs_cfg": false
  },
  "toc": {
   "base_numbering": 1,
   "nav_menu": {},
   "number_sections": true,
   "sideBar": true,
   "skip_h1_title": false,
   "title_cell": "Table of Contents",
   "title_sidebar": "Contents",
   "toc_cell": false,
   "toc_position": {},
   "toc_section_display": true,
   "toc_window_display": false
  }
 },
 "nbformat": 4,
 "nbformat_minor": 5
}
