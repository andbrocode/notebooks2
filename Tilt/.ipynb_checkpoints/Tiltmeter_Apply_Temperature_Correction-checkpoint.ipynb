{
 "cells": [
  {
   "cell_type": "markdown",
   "id": "extensive-movement",
   "metadata": {},
   "source": [
    "## Tiltmeter Evaluation"
   ]
  },
  {
   "cell_type": "markdown",
   "id": "noted-resort",
   "metadata": {
    "ExecuteTime": {
     "end_time": "2021-02-19T15:09:20.288504Z",
     "start_time": "2021-02-19T15:09:20.284413Z"
    }
   },
   "source": [
    "### Import Libraries"
   ]
  },
  {
   "cell_type": "code",
   "execution_count": 1,
   "id": "animal-despite",
   "metadata": {
    "ExecuteTime": {
     "end_time": "2021-11-25T15:24:21.391350Z",
     "start_time": "2021-11-25T15:24:20.680536Z"
    }
   },
   "outputs": [],
   "source": [
    "import os\n",
    "import obspy\n",
    "import matplotlib.pyplot as plt\n",
    "import pandas as pd\n",
    "\n",
    "from numpy import arange, linspace, sqrt, diff, nan, gradient\n",
    "from pandas import read_csv, DataFrame\n",
    "from mpl_toolkits.axes_grid1.inset_locator import inset_axes\n",
    "from numpy.ma import filled, isMaskedArray, masked\n",
    "from matplotlib.ticker import (MultipleLocator, AutoMinorLocator)\n",
    "from obspy import UTCDateTime\n",
    "from pathlib import Path\n",
    "\n",
    "from andbro__querrySeismoData import __querrySeismoData\n",
    "from andbro__get_seconds import __get_seconds\n",
    "from andbro__readYaml import __readYaml"
   ]
  },
  {
   "cell_type": "markdown",
   "id": "mounted-throat",
   "metadata": {},
   "source": [
    "### Define Functions"
   ]
  },
  {
   "cell_type": "code",
   "execution_count": 2,
   "id": "passing-canberra",
   "metadata": {
    "ExecuteTime": {
     "end_time": "2021-11-25T15:24:21.395139Z",
     "start_time": "2021-11-25T15:24:21.392839Z"
    },
    "code_folding": [
     1
    ]
   },
   "outputs": [],
   "source": [
    "# def __get_timeline(st):\n",
    "    \n",
    "#     days = abs(st[0].stats.starttime.julday - st[0].stats.endtime.julday)\n",
    "    \n",
    "#     t1 = st[0].stats.starttime.hour*3600+ st[0].stats.starttime.minute*60 + st[0].stats.starttime.second+E[0].stats.starttime.microsecond*1e-6\n",
    "#     t2 = days*86400+st[0].stats.endtime.hour*3600+ st[0].stats.endtime.minute*60 + st[0].stats.endtime.second+E[0].stats.starttime.microsecond*1e-6\n",
    "\n",
    "# #     timeline = arange(t1, t2+1*st[0].stats.delta, st[0].stats.delta)/3600/24\n",
    "#     timeline = linspace(t1, t2, st[0].stats.npts)/3600/24 + st[0].stats.starttime.julday\n",
    "    \n",
    "#     return timeline"
   ]
  },
  {
   "cell_type": "code",
   "execution_count": 10,
   "id": "8be381ce",
   "metadata": {
    "ExecuteTime": {
     "end_time": "2021-11-25T15:25:57.969403Z",
     "start_time": "2021-11-25T15:25:57.960913Z"
    },
    "code_folding": [
     0
    ]
   },
   "outputs": [],
   "source": [
    "def __makeplot(pt, bt, config):\n",
    "    \n",
    "    fig, axes = plt.subplots(3,2, figsize=(15,5), sharex=True)\n",
    "    \n",
    "    for i in range(3):\n",
    "        \n",
    "        axes[i,0].plot(pt[i].times()/60, pt[i].data)\n",
    "        axes[i,1].plot(bt[i].times()/60, bt[i].data)\n",
    "        \n",
    "        axes[i,0].grid()\n",
    "        axes[i,1].grid()\n",
    "    \n",
    "    axes[0,0].set_title(\"Plattform Tiltmeter\")\n",
    "    axes[0,1].set_title(\"Borehole Tiltmeter\")\n",
    "    \n",
    "    axes[2,0].set_xlabel(\"Time (min)\")\n",
    "    axes[2,1].set_xlabel(\"Time (min)\")\n",
    "    \n",
    "    axes[0,0].set_ylabel(\"$\\Omega$ (rad)\")\n",
    "    axes[1,0].set_ylabel(\"$\\Omega$ (rad)\")\n",
    "    axes[2,0].set_ylabel(\"Temp (°C)\")\n",
    "    \n",
    "    axes[0,1].set_ylabel(\"$\\Omega$ (rad)\")\n",
    "    axes[1,1].set_ylabel(\"$\\Omega$ (rad)\")\n",
    "    axes[2,1].set_ylabel(\"Temp (°C)\")\n",
    "    \n",
    "    return fig "
   ]
  },
  {
   "cell_type": "markdown",
   "id": "clean-hacker",
   "metadata": {},
   "source": [
    "### Configurations"
   ]
  },
  {
   "cell_type": "code",
   "execution_count": 4,
   "id": "superior-memorial",
   "metadata": {
    "ExecuteTime": {
     "end_time": "2021-11-25T15:24:22.602329Z",
     "start_time": "2021-11-25T15:24:22.575468Z"
    }
   },
   "outputs": [],
   "source": [
    "## configurations\n",
    "config={}\n",
    "\n",
    "path = \"/home/andbro/Desktop/tiltmeter/\"\n",
    "# path2 = '/home/andbro/Desktop/tiltmeter/WETTER/*ex'\n",
    "\n",
    "config['tend'] = UTCDateTime.now()\n",
    "config['tbeg'] = config['tend'] - 5*86400\n",
    "\n",
    "config['save'] = True\n",
    "\n",
    "config['seed_id'] = [\"BW.TROMY..MA*\", \"BW.DROMY..LA*\"]\n",
    "config['repository'] = 'george'\n",
    "config['datapath'] =  None\n",
    "config['name'] = 'tiltmeter'\n",
    "config['set_filter'] = 'n'\n",
    "\n",
    "\n",
    "## tiltmeter configurations\n",
    "try:\n",
    "    confTilt = __readYaml('/home/brotzer/Documents/ROMY/','tiltmeter.conf')\n",
    "except:\n",
    "    confTilt = __readYaml('./','tiltmeter.conf')\n",
    "confPT = confTilt['PT']\n",
    "confBT = confTilt['BT']\n",
    "\n",
    "\n",
    "## gain for Temperature channel of PT was not set correctly prior to 2021-03-03\n",
    "correct_settings_temp_PT = (\"2021-03-05\", config['tend'])"
   ]
  },
  {
   "cell_type": "markdown",
   "id": "charming-shuttle",
   "metadata": {},
   "source": [
    "### Load Tiltmeter Data"
   ]
  },
  {
   "cell_type": "code",
   "execution_count": 12,
   "id": "younger-tower",
   "metadata": {
    "ExecuteTime": {
     "end_time": "2021-11-25T15:26:50.860765Z",
     "start_time": "2021-11-25T15:26:39.579144Z"
    }
   },
   "outputs": [
    {
     "name": "stdout",
     "output_type": "stream",
     "text": [
      "Coordinates could not be attached! Inventory not complete!\n"
     ]
    },
    {
     "data": {
      "text/plain": [
       "3 Trace(s) in Stream:\n",
       "BW.TROMY..MAE | 2021-11-20T15:24:22.640000Z - 2021-11-24T00:00:13.640000Z | 1.0 Hz, 290152 samples\n",
       "BW.TROMY..MAN | 2021-11-20T15:24:22.640000Z - 2021-11-24T00:00:29.640000Z | 1.0 Hz, 290168 samples\n",
       "BW.TROMY..MAT | 2021-11-20T15:24:22.640000Z - 2021-11-24T00:01:45.640000Z | 1.0 Hz, 290244 samples"
      ]
     },
     "execution_count": 12,
     "metadata": {},
     "output_type": "execute_result"
    }
   ],
   "source": [
    "pt, inv0 = __querrySeismoData(    \n",
    "                            seed_id=config.get(\"seed_id\")[0],\n",
    "                            starttime=config.get(\"tbeg\"),\n",
    "                            endtime=config.get(\"tend\"),\n",
    "                            where=config.get(\"repository\"),\n",
    "                            path=config.get(\"datapath\"),\n",
    "                            restitute=False,\n",
    "                            detail=None,\n",
    "                            fill_value=-9999, \n",
    "                            )\n",
    "\n",
    "## downsampled with 5Hz -> 1Hz\n",
    "pt.resample(1)\n",
    "\n",
    "pt"
   ]
  },
  {
   "cell_type": "code",
   "execution_count": 6,
   "id": "alike-timeline",
   "metadata": {
    "ExecuteTime": {
     "end_time": "2021-11-25T15:24:38.879541Z",
     "start_time": "2021-11-25T15:24:35.807129Z"
    }
   },
   "outputs": [
    {
     "name": "stdout",
     "output_type": "stream",
     "text": [
      "Coordinates could not be attached! Inventory not complete!\n"
     ]
    },
    {
     "data": {
      "text/plain": [
       "3 Trace(s) in Stream:\n",
       "BW.DROMY..LAE | 2021-11-20T15:24:23.000000Z - 2021-11-24T00:03:00.000000Z | 1.0 Hz, 290318 samples\n",
       "BW.DROMY..LAN | 2021-11-20T15:24:23.000000Z - 2021-11-24T00:01:33.000000Z | 1.0 Hz, 290231 samples\n",
       "BW.DROMY..LAT | 2021-11-20T15:24:23.000000Z - 2021-11-24T00:02:55.000000Z | 1.0 Hz, 290313 samples"
      ]
     },
     "execution_count": 6,
     "metadata": {},
     "output_type": "execute_result"
    }
   ],
   "source": [
    "bt, inv0 = __querrySeismoData(    \n",
    "                            seed_id=config.get(\"seed_id\")[1],\n",
    "                            starttime=config.get(\"tbeg\"),\n",
    "                            endtime=config.get(\"tend\"),\n",
    "                            where=config.get(\"repository\"),\n",
    "                            path=config.get(\"datapath\"),\n",
    "                            restitute=True,\n",
    "                            detail=None,\n",
    "                            fill_value=-9999, \n",
    "                            )\n",
    "bt"
   ]
  },
  {
   "cell_type": "markdown",
   "id": "af96ad7e",
   "metadata": {},
   "source": [
    "### Covert Data"
   ]
  },
  {
   "cell_type": "code",
   "execution_count": 13,
   "id": "9969b211",
   "metadata": {
    "ExecuteTime": {
     "end_time": "2021-11-25T15:27:25.913311Z",
     "start_time": "2021-11-25T15:27:25.904495Z"
    },
    "code_folding": [
     0
    ]
   },
   "outputs": [],
   "source": [
    "def __conversion(st, confBT, confPT):\n",
    "\n",
    "    def convertTemp(trace, gain):\n",
    "        Tvolt = trace.data * gain\n",
    "        return 10.18 - 11.59*Tvolt + 0.3335*Tvolt**2 - 0.5316*Tvolt**3\n",
    "\n",
    "    def convertTilt(trace, conversion, sensitivity):\n",
    "        return trace.data * conversion * sensitivity\n",
    "        # print( type(conversion), type(sensitivity), type(trace.data) )\n",
    "\n",
    "    for tr in st:\n",
    "        if tr.stats.channel == 'MAT':\n",
    "            tr.data = convertTemp(tr, confPT['gainTemp'])\n",
    "        elif tr.stats.channel == 'MAN':\n",
    "            tr.data = convertTilt(tr, confPT['convPTN'], confPT['gainTilt'])\n",
    "        elif tr.stats.channel == 'MAE':\n",
    "            tr.data = convertTilt(tr, confPT['convPTE'], confPT['gainTilt'])\n",
    "\n",
    "        elif tr.stats.channel == 'LAT':\n",
    "            tr.data = convertTemp(tr, confBT['gainTemp'])\n",
    "        elif tr.stats.channel == 'LAN':\n",
    "            tr.data = convertTilt(tr, confBT['convBTN'], confBT['gainTilt'])\n",
    "        elif tr.stats.channel == 'LAE':\n",
    "            tr.data = convertTilt(tr, confBT['convBTE'], confBT['gainTilt'])\n",
    "\n",
    "    print(\"  -> converted data\")\n",
    "    return st"
   ]
  },
  {
   "cell_type": "code",
   "execution_count": 14,
   "id": "513fce1a",
   "metadata": {
    "ExecuteTime": {
     "end_time": "2021-11-25T15:27:26.196827Z",
     "start_time": "2021-11-25T15:27:26.174503Z"
    }
   },
   "outputs": [
    {
     "name": "stdout",
     "output_type": "stream",
     "text": [
      "  -> converted data\n",
      "  -> converted data\n"
     ]
    }
   ],
   "source": [
    "pt = __conversion(pt, confBT, confPT)\n",
    "\n",
    "bt = __conversion(bt, confBT, confPT)"
   ]
  },
  {
   "cell_type": "code",
   "execution_count": 15,
   "id": "2fdc112d",
   "metadata": {
    "ExecuteTime": {
     "end_time": "2021-11-25T15:27:27.933428Z",
     "start_time": "2021-11-25T15:27:27.408194Z"
    }
   },
   "outputs": [
    {
     "data": {
      "image/png": "[encoded data removed]",
      "text/plain": [
       "<Figure size 1080x360 with 6 Axes>"
      ]
     },
     "metadata": {
      "needs_background": "light"
     },
     "output_type": "display_data"
    }
   ],
   "source": [
    "fig = __makeplot(pt, bt, config);"
   ]
  },
  {
   "cell_type": "markdown",
   "id": "84bbabbb",
   "metadata": {},
   "source": [
    "### Some correction for temperature gradient!"
   ]
  },
  {
   "cell_type": "code",
   "execution_count": 10,
   "id": "nuclear-finish",
   "metadata": {
    "ExecuteTime": {
     "start_time": "2021-07-01T16:44:22.557Z"
    }
   },
   "outputs": [],
   "source": [
    "# resampling = 0.1\n",
    "\n",
    "# pt.resample(resampling)\n",
    "# bt.resample(resampling)\n",
    "\n",
    "# fig = __makeplot(pt, bt, config);"
   ]
  },
  {
   "cell_type": "markdown",
   "id": "published-apparel",
   "metadata": {},
   "source": [
    "#### cutout maintenance work and unreliable data"
   ]
  },
  {
   "cell_type": "code",
   "execution_count": 11,
   "id": "everyday-brand",
   "metadata": {
    "ExecuteTime": {
     "start_time": "2021-07-01T16:44:22.565Z"
    }
   },
   "outputs": [],
   "source": [
    "# ## maintenance interruption \n",
    "# maintenancePT = [\n",
    "#                 (\"2021-03-02 16:00\", \"2021-03-02 19:00\"),\n",
    "#                 (\"2021-03-04 15:00\", \"2021-03-04 17:00\"),\n",
    "#                 (\"2021-03-04 23:30\", \"2021-03-05 00:30\"),\n",
    "#                 ]\n",
    "\n",
    "# maintenanceBT = [\n",
    "#                 (\"2021-03-04 13:15\", \"2021-03-04 16:00\"),\n",
    "#                 (\"2021-03-09 10:45\", \"2021-03-09 11:30\"),\n",
    "#                 ]\n",
    "\n",
    "# ## data influenced probably py dehumidifier\n",
    "# corrupt_data = [\n",
    "#                 (\"2021-02-15 16:00\", \"2021-02-24 14:00\" ),\n",
    "#                 (\"2021-03-02 14:00\", \"2021-03-09 17:00\"),\n",
    "#                ]"
   ]
  },
  {
   "cell_type": "markdown",
   "id": "obvious-imaging",
   "metadata": {
    "ExecuteTime": {
     "end_time": "2021-02-23T08:42:57.050040Z",
     "start_time": "2021-02-23T08:42:57.046253Z"
    }
   },
   "source": [
    "### Load FURT Data"
   ]
  },
  {
   "cell_type": "code",
   "execution_count": 16,
   "id": "b2773285",
   "metadata": {
    "ExecuteTime": {
     "end_time": "2021-11-25T15:28:33.918207Z",
     "start_time": "2021-11-25T15:28:33.905937Z"
    },
    "code_folding": [
     0
    ]
   },
   "outputs": [],
   "source": [
    "def __read_furt_data(config):\n",
    "    '''\n",
    "    Load data of FURT wather station\n",
    "    \n",
    "    '''\n",
    "    \n",
    "    import pandas as pd\n",
    "    from pathlib import Path\n",
    "    from numpy import arange\n",
    "    \n",
    "    \n",
    "    path_to_archive = '/bay200/gif_online/FURT/WETTER/'\n",
    "        \n",
    "    if not Path(path_to_archive).exists():\n",
    "        print(f\"  -> Path: {path_to_archive}, does not exists!\")\n",
    "        return    \n",
    "    \n",
    "    \n",
    "    df = pd.DataFrame()\n",
    "    \n",
    "    for i, date in enumerate(arange(config['tbeg'].date, (config['tend']+86400).date)):\n",
    "        \n",
    "        date = UTCDateTime(str(date)).date\n",
    "        filename = f'FURT.WSX.D.{str(date.day).rjust(2,\"0\")}{str(date.month).rjust(2,\"0\")}{str(date.year).rjust(2,\"0\")[-2:]}.0000'\n",
    "        \n",
    "        print(f'   reading {filename} ...')\n",
    "\n",
    "        try:\n",
    "\n",
    "            df0 = pd.read_csv(path_to_archive+filename, usecols=[0,1,10,12,13], names=['date', 'time', 'T', 'H', 'P'])\n",
    "            \n",
    "            ## substitute strings with floats\n",
    "            df0['T'] = df0['T'].str.split(\"=\", expand=True)[1].str.split(\"C\", expand=True)[0].astype(float)\n",
    "            df0['P'] = df0['P'].str.split(\"=\", expand=True)[1].str.split(\"H\", expand=True)[0].astype(float)\n",
    "            df0['H'] = df0['H'].str.split(\"=\", expand=True)[1].str.split(\"P\", expand=True)[0].astype(float)\n",
    "            \n",
    "            \n",
    "            ## replace error indicating values (-9999, 999.9) with NaN values\n",
    "            df0.replace(to_replace=-9999, value=nan, inplace=True)\n",
    "            df0.replace(to_replace=999.9, value=nan, inplace=True)\n",
    "            \n",
    "            \n",
    "            if df.empty:\n",
    "                df = df0\n",
    "            else: \n",
    "                df = pd.concat([df, df0])\n",
    "        except:\n",
    "            print(f\"  -> File: {filename}, does not exists!\")\n",
    "   \n",
    "    df.reset_index(inplace=True, drop=True)\n",
    "    \n",
    "    return df"
   ]
  },
  {
   "cell_type": "code",
   "execution_count": 17,
   "id": "86915748",
   "metadata": {
    "ExecuteTime": {
     "end_time": "2021-11-25T15:28:34.118335Z",
     "start_time": "2021-11-25T15:28:34.113687Z"
    },
    "code_folding": [
     0
    ]
   },
   "outputs": [],
   "source": [
    "def __processing_FURT(data, config):\n",
    "    \n",
    "    filter_length = 10*config['resample']\n",
    "    \n",
    "    data.iloc[:,3:6] = data.iloc[:,3:6].rolling(filter_length).mean() \n",
    "    print(f\"Filter: rooling mean {filter_length}!\")\n",
    "    \n",
    "    data = data[data.index % config['resample'] == 0]\n",
    "    print(f\"Resampling: keep every {config['resample']}nth sample!\")\n",
    "    \n",
    "    return data"
   ]
  },
  {
   "cell_type": "code",
   "execution_count": 18,
   "id": "6d12174f",
   "metadata": {
    "ExecuteTime": {
     "end_time": "2021-11-25T15:28:34.492819Z",
     "start_time": "2021-11-25T15:28:34.487899Z"
    }
   },
   "outputs": [
    {
     "name": "stdout",
     "output_type": "stream",
     "text": [
      "  -> Path: /bay200/gif_online/FURT/WETTER/, does not exists!\n"
     ]
    }
   ],
   "source": [
    "FURT = __read_furt_data(config)"
   ]
  },
  {
   "cell_type": "code",
   "execution_count": 19,
   "id": "dc90604e",
   "metadata": {
    "ExecuteTime": {
     "end_time": "2021-11-25T15:28:43.740845Z",
     "start_time": "2021-11-25T15:28:43.626401Z"
    }
   },
   "outputs": [
    {
     "ename": "TypeError",
     "evalue": "'NoneType' object is not subscriptable",
     "output_type": "error",
     "traceback": [
      "\u001b[0;31m---------------------------------------------------------------------------\u001b[0m",
      "\u001b[0;31mTypeError\u001b[0m                                 Traceback (most recent call last)",
      "\u001b[0;32m<ipython-input-19-fd84f1e5c309>\u001b[0m in \u001b[0;36m<module>\u001b[0;34m\u001b[0m\n\u001b[0;32m----> 1\u001b[0;31m \u001b[0mFURT\u001b[0m \u001b[0;34m=\u001b[0m \u001b[0mFURT\u001b[0m\u001b[0;34m[\u001b[0m\u001b[0;34m[\u001b[0m\u001b[0;34m'date'\u001b[0m\u001b[0;34m,\u001b[0m \u001b[0;34m'time'\u001b[0m\u001b[0;34m,\u001b[0m \u001b[0;34m'T'\u001b[0m\u001b[0;34m,\u001b[0m \u001b[0;34m'P'\u001b[0m\u001b[0;34m,\u001b[0m \u001b[0;34m'H'\u001b[0m\u001b[0;34m]\u001b[0m\u001b[0;34m]\u001b[0m\u001b[0;34m\u001b[0m\u001b[0;34m\u001b[0m\u001b[0m\n\u001b[0m\u001b[1;32m      2\u001b[0m \u001b[0;34m\u001b[0m\u001b[0m\n\u001b[1;32m      3\u001b[0m \u001b[0mconfig\u001b[0m\u001b[0;34m[\u001b[0m\u001b[0;34m'resample'\u001b[0m\u001b[0;34m]\u001b[0m \u001b[0;34m=\u001b[0m \u001b[0;36m10\u001b[0m\u001b[0;34m\u001b[0m\u001b[0;34m\u001b[0m\u001b[0m\n\u001b[1;32m      4\u001b[0m \u001b[0mFURT\u001b[0m \u001b[0;34m=\u001b[0m \u001b[0m__processing_FURT\u001b[0m\u001b[0;34m(\u001b[0m\u001b[0mFURT\u001b[0m\u001b[0;34m,\u001b[0m \u001b[0mconfig\u001b[0m\u001b[0;34m)\u001b[0m\u001b[0;34m\u001b[0m\u001b[0;34m\u001b[0m\u001b[0m\n\u001b[1;32m      5\u001b[0m \u001b[0;34m\u001b[0m\u001b[0m\n",
      "\u001b[0;31mTypeError\u001b[0m: 'NoneType' object is not subscriptable"
     ]
    }
   ],
   "source": [
    "FURT = FURT[['date', 'time', 'T', 'P', 'H']]\n",
    "\n",
    "config['resample'] = 10\n",
    "FURT = __processing_FURT(FURT, config)\n",
    "\n",
    "## add a column with day of year\n",
    "FURT['doy'] = [int(UTCDateTime(f'20{str(dat).rjust(6,\"0\")[-2:]}-{str(dat).rjust(6,\"0\")[-4:-2]}-{str(dat).rjust(6,\"0\")[-6:-4]}').julday) for dat in FURT.date]"
   ]
  },
  {
   "cell_type": "code",
   "execution_count": 16,
   "id": "ignored-eating",
   "metadata": {
    "ExecuteTime": {
     "start_time": "2021-07-01T16:44:22.596Z"
    },
    "code_folding": [
     0
    ]
   },
   "outputs": [],
   "source": [
    "def __get_vector(N, E, Twin=3600):\n",
    "\n",
    "    from numpy import median, sqrt, arctan, degrees, mod, array, append, rad2deg\n",
    "\n",
    "    \n",
    "    dt = N[0].stats.delta\n",
    "    t1 = N[0].stats.starttime\n",
    "    t1 = 0\n",
    "\n",
    "    Ndata = N[0].data\n",
    "    Edata = E[0].data\n",
    "\n",
    "    vnorm, vdir, timeline = [], [], []\n",
    "    while (t1 + Twin*dt) < N[0].stats.npts:\n",
    "\n",
    "\n",
    "        Nmed = median(Ndata[int(t1*dt):int((t1+Twin)*dt)])\n",
    "        Emed = median(Edata[int(t1*dt):int((t1+Twin)*dt)])\n",
    "\n",
    "        vnorm.append(sqrt(Nmed**2 + Emed**2))\n",
    "    #     vdir.append(mod(degrees(arctan(Nmed/Emed)), 360))\n",
    "        vdir.append(rad2deg(arctan(Nmed/Emed)))\n",
    "\n",
    "        t1 += Twin/2*dt\n",
    "    \n",
    "        timeline.append(t1*dt)\n",
    "    \n",
    "    \n",
    "    time_offset = N[0].stats.starttime.hour*3600+ N[0].stats.starttime.minute*60 + N[0].stats.starttime.second\n",
    "    timeline = ( array(timeline) + time_offset ) / 3600 /24 # in hours\n",
    "    \n",
    "    return timeline, array(vdir), array(vnorm)\n",
    "\n",
    "bt_vtimeline, bt_vdir, bt_vnorm = __get_vector(bt.select(channel=\"*N\"), bt.select(channel=\"*E\"), Twin=3600)\n",
    "pt_vtimeline, pt_vdir, pt_vnorm = __get_vector(pt.select(channel=\"*N\"), pt.select(channel=\"*E\"), Twin=3600)"
   ]
  },
  {
   "cell_type": "markdown",
   "id": "detailed-france",
   "metadata": {},
   "source": [
    "### Plotting"
   ]
  },
  {
   "cell_type": "code",
   "execution_count": 17,
   "id": "a80d5978",
   "metadata": {},
   "outputs": [],
   "source": [
    "from andbro__get_timeaxis import __get_timeaxis"
   ]
  },
  {
   "cell_type": "code",
   "execution_count": 18,
   "id": "0710bd03",
   "metadata": {},
   "outputs": [
    {
     "data": {
      "text/plain": [
       "0               0\n",
       "10             10\n",
       "20             20\n",
       "30             30\n",
       "40             40\n",
       "            ...  \n",
       "1363170    183921\n",
       "1363180    183931\n",
       "1363190    183941\n",
       "1363200    183951\n",
       "1363210    184001\n",
       "Name: time, Length: 136322, dtype: int64"
      ]
     },
     "execution_count": 18,
     "metadata": {},
     "output_type": "execute_result"
    }
   ],
   "source": [
    "FURT['time']"
   ]
  },
  {
   "cell_type": "code",
   "execution_count": 22,
   "id": "5b4b9e55",
   "metadata": {},
   "outputs": [
    {
     "name": "stdout",
     "output_type": "stream",
     "text": [
      " -> Formating: date <ddmmyy> -> <yyyymmdd>\n"
     ]
    }
   ],
   "source": []
  },
  {
   "cell_type": "code",
   "execution_count": 23,
   "id": "b51193c9",
   "metadata": {},
   "outputs": [
    {
     "data": {
      "text/html": [
       "<div>\n",
       "<style scoped>\n",
       "    .dataframe tbody tr th:only-of-type {\n",
       "        vertical-align: middle;\n",
       "    }\n",
       "\n",
       "    .dataframe tbody tr th {\n",
       "        vertical-align: top;\n",
       "    }\n",
       "\n",
       "    .dataframe thead th {\n",
       "        text-align: right;\n",
       "    }\n",
       "</style>\n",
       "<table border=\"1\" class=\"dataframe\">\n",
       "  <thead>\n",
       "    <tr style=\"text-align: right;\">\n",
       "      <th></th>\n",
       "      <th>date</th>\n",
       "      <th>time</th>\n",
       "      <th>T</th>\n",
       "      <th>P</th>\n",
       "      <th>H</th>\n",
       "      <th>doy</th>\n",
       "    </tr>\n",
       "  </thead>\n",
       "  <tbody>\n",
       "    <tr>\n",
       "      <th>0</th>\n",
       "      <td>251021</td>\n",
       "      <td>0</td>\n",
       "      <td>3.0</td>\n",
       "      <td>NaN</td>\n",
       "      <td>NaN</td>\n",
       "      <td>298</td>\n",
       "    </tr>\n",
       "    <tr>\n",
       "      <th>10</th>\n",
       "      <td>251021</td>\n",
       "      <td>10</td>\n",
       "      <td>3.0</td>\n",
       "      <td>NaN</td>\n",
       "      <td>NaN</td>\n",
       "      <td>298</td>\n",
       "    </tr>\n",
       "    <tr>\n",
       "      <th>20</th>\n",
       "      <td>251021</td>\n",
       "      <td>20</td>\n",
       "      <td>3.0</td>\n",
       "      <td>NaN</td>\n",
       "      <td>NaN</td>\n",
       "      <td>298</td>\n",
       "    </tr>\n",
       "    <tr>\n",
       "      <th>30</th>\n",
       "      <td>251021</td>\n",
       "      <td>30</td>\n",
       "      <td>3.0</td>\n",
       "      <td>NaN</td>\n",
       "      <td>NaN</td>\n",
       "      <td>298</td>\n",
       "    </tr>\n",
       "    <tr>\n",
       "      <th>40</th>\n",
       "      <td>251021</td>\n",
       "      <td>40</td>\n",
       "      <td>3.0</td>\n",
       "      <td>NaN</td>\n",
       "      <td>NaN</td>\n",
       "      <td>298</td>\n",
       "    </tr>\n",
       "    <tr>\n",
       "      <th>...</th>\n",
       "      <td>...</td>\n",
       "      <td>...</td>\n",
       "      <td>...</td>\n",
       "      <td>...</td>\n",
       "      <td>...</td>\n",
       "      <td>...</td>\n",
       "    </tr>\n",
       "    <tr>\n",
       "      <th>1363170</th>\n",
       "      <td>91121</td>\n",
       "      <td>183921</td>\n",
       "      <td>3.4</td>\n",
       "      <td>957.2</td>\n",
       "      <td>79.515</td>\n",
       "      <td>313</td>\n",
       "    </tr>\n",
       "    <tr>\n",
       "      <th>1363180</th>\n",
       "      <td>91121</td>\n",
       "      <td>183931</td>\n",
       "      <td>3.4</td>\n",
       "      <td>957.2</td>\n",
       "      <td>79.532</td>\n",
       "      <td>313</td>\n",
       "    </tr>\n",
       "    <tr>\n",
       "      <th>1363190</th>\n",
       "      <td>91121</td>\n",
       "      <td>183941</td>\n",
       "      <td>3.4</td>\n",
       "      <td>957.2</td>\n",
       "      <td>79.532</td>\n",
       "      <td>313</td>\n",
       "    </tr>\n",
       "    <tr>\n",
       "      <th>1363200</th>\n",
       "      <td>91121</td>\n",
       "      <td>183951</td>\n",
       "      <td>3.4</td>\n",
       "      <td>957.2</td>\n",
       "      <td>79.536</td>\n",
       "      <td>313</td>\n",
       "    </tr>\n",
       "    <tr>\n",
       "      <th>1363210</th>\n",
       "      <td>91121</td>\n",
       "      <td>184001</td>\n",
       "      <td>3.4</td>\n",
       "      <td>957.2</td>\n",
       "      <td>79.533</td>\n",
       "      <td>313</td>\n",
       "    </tr>\n",
       "  </tbody>\n",
       "</table>\n",
       "<p>136322 rows × 6 columns</p>\n",
       "</div>"
      ],
      "text/plain": [
       "           date    time    T      P       H  doy\n",
       "0        251021       0  3.0    NaN     NaN  298\n",
       "10       251021      10  3.0    NaN     NaN  298\n",
       "20       251021      20  3.0    NaN     NaN  298\n",
       "30       251021      30  3.0    NaN     NaN  298\n",
       "40       251021      40  3.0    NaN     NaN  298\n",
       "...         ...     ...  ...    ...     ...  ...\n",
       "1363170   91121  183921  3.4  957.2  79.515  313\n",
       "1363180   91121  183931  3.4  957.2  79.532  313\n",
       "1363190   91121  183941  3.4  957.2  79.532  313\n",
       "1363200   91121  183951  3.4  957.2  79.536  313\n",
       "1363210   91121  184001  3.4  957.2  79.533  313\n",
       "\n",
       "[136322 rows x 6 columns]"
      ]
     },
     "execution_count": 23,
     "metadata": {},
     "output_type": "execute_result"
    }
   ],
   "source": [
    "FURT"
   ]
  },
  {
   "cell_type": "code",
   "execution_count": 34,
   "id": "municipal-chicago",
   "metadata": {
    "ExecuteTime": {
     "start_time": "2021-07-01T16:44:22.609Z"
    },
    "code_folding": []
   },
   "outputs": [
    {
     "name": "stdout",
     "output_type": "stream",
     "text": [
      " -> Formating: date <ddmmyy> -> <yyyymmdd>\n",
      " -> Formating: date <ddmmyy> -> <yyyymmdd>\n"
     ]
    },
    {
     "data": {
      "image/png": "[encoded data removed]",
      "text/plain": [
       "<Figure size 1080x720 with 8 Axes>"
      ]
     },
     "metadata": {
      "needs_background": "light"
     },
     "output_type": "display_data"
    }
   ],
   "source": [
    "\n",
    "def __makeplote_overview(pt, bt, FURT):\n",
    "    \n",
    "    fig, ax = plt.subplots(8, 1, figsize=(15,10), sharex=True)\n",
    "\n",
    "    font=14\n",
    "\n",
    "    timeline_furt, ticks_furt, ticklabels_furt, text_furt = __get_timeaxis(\n",
    "                                                                            dates=FURT['date'],\n",
    "                                                                            times=FURT['time'],\n",
    "                                                                            unit='date',\n",
    "                                                                            unitmode='relative',\n",
    "                                                                            dateformat='ddmmyy',\n",
    "                                                                          )\n",
    "    utcdatetimes = bt[0].times(type=\"utcdatetime\")\n",
    "    \n",
    "    timeline, ticks, ticklabels, text = __get_timeaxis(\n",
    "                                                        utcdatetime=utcdatetimes,\n",
    "                                                        unit='date',\n",
    "                                                        unitmode='relative',\n",
    "                                                        dateformat='ddmmyy',\n",
    "                                                      )    \n",
    "    \n",
    "    \n",
    "    ax[0].plot(timeline, bt[0].data)\n",
    "    \n",
    "    ax[6].plot(timeline_furt, FURT['T']) \n",
    "\n",
    "\n",
    "    plt.show();\n",
    "    return fig\n",
    "    \n",
    "__makeplote_overview(pt, bt, FURT);"
   ]
  },
  {
   "cell_type": "code",
   "execution_count": null,
   "id": "emotional-checklist",
   "metadata": {},
   "outputs": [],
   "source": []
  }
 ],
 "metadata": {
  "kernelspec": {
   "display_name": "Python 3",
   "language": "python",
   "name": "python3"
  },
  "language_info": {
   "codemirror_mode": {
    "name": "ipython",
    "version": 3
   },
   "file_extension": ".py",
   "mimetype": "text/x-python",
   "name": "python",
   "nbconvert_exporter": "python",
   "pygments_lexer": "ipython3",
   "version": "3.7.8"
  }
 },
 "nbformat": 4,
 "nbformat_minor": 5
}
