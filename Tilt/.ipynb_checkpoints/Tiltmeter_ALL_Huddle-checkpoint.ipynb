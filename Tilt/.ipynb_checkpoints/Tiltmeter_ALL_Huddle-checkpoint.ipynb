{
 "cells": [
  {
   "cell_type": "markdown",
   "id": "extensive-movement",
   "metadata": {},
   "source": [
    "## Tiltmeter ALL Huddle"
   ]
  },
  {
   "cell_type": "markdown",
   "id": "dc68da01",
   "metadata": {
    "ExecuteTime": {
     "end_time": "2023-01-16T14:15:41.799335Z",
     "start_time": "2023-01-16T14:15:41.793850Z"
    }
   },
   "source": [
    "Check if significant difference can be observed between borehole tiltmeter (BROMY) and platformtiltmeters TROMY and ROMYT. All are located at central tip of ROMY. ROMYT is isolated with foam, cotton and foil, TROMY only with cotton and foil and BROMY not at all."
   ]
  },
  {
   "cell_type": "markdown",
   "id": "noted-resort",
   "metadata": {
    "ExecuteTime": {
     "end_time": "2021-02-19T15:09:20.288504Z",
     "start_time": "2021-02-19T15:09:20.284413Z"
    }
   },
   "source": [
    "### Import Libraries"
   ]
  },
  {
   "cell_type": "code",
   "execution_count": 1,
   "id": "animal-despite",
   "metadata": {
    "ExecuteTime": {
     "end_time": "2023-06-08T19:17:00.060180Z",
     "start_time": "2023-06-08T19:16:55.313613Z"
    },
    "tags": []
   },
   "outputs": [],
   "source": [
    "import os\n",
    "import obspy\n",
    "import matplotlib.pyplot as plt\n",
    "import pandas as pd\n",
    "\n",
    "from numpy import arange, linspace, sqrt, diff, nan, gradient, nanmax, mean\n",
    "from pandas import read_csv, DataFrame\n",
    "\n",
    "from mpl_toolkits.axes_grid1.inset_locator import inset_axes\n",
    "from numpy.ma import filled, isMaskedArray, masked\n",
    "from matplotlib.ticker import (MultipleLocator, AutoMinorLocator)\n",
    "from obspy import UTCDateTime\n",
    "from pathlib import Path\n",
    "\n",
    "from andbro__querrySeismoData import __querrySeismoData\n",
    "from andbro__get_seconds import __get_seconds\n",
    "from andbro__readYaml import __readYaml\n",
    "from andbro__get_timeaxis import __get_timeaxis\n",
    "\n",
    "import warnings\n",
    "warnings.filterwarnings('ignore')"
   ]
  },
  {
   "cell_type": "code",
   "execution_count": 2,
   "id": "5de643ef",
   "metadata": {
    "ExecuteTime": {
     "end_time": "2023-06-08T19:17:00.063336Z",
     "start_time": "2023-06-08T19:17:00.061172Z"
    },
    "tags": []
   },
   "outputs": [],
   "source": [
    "if os.uname().nodename == \"lighthouse\":\n",
    "    root_path = \"/home/andbro/\"\n",
    "    data_path = \"/home/andbro/kilauea-data/\"\n",
    "    archive_path = \"/home/andbro/freenas/\"\n",
    "elif os.uname().nodename == \"kilauea\":\n",
    "    root_path = \"/home/brotzer/\"\n",
    "    data_path = \"/import/kilauea-data/\"\n",
    "    archive_path = \"/import/freenas-ffb-01-data/\""
   ]
  },
  {
   "cell_type": "markdown",
   "id": "mounted-throat",
   "metadata": {},
   "source": [
    "### Define Functions"
   ]
  },
  {
   "cell_type": "code",
   "execution_count": 3,
   "id": "bc16e5bf",
   "metadata": {
    "ExecuteTime": {
     "end_time": "2023-06-08T19:17:00.079958Z",
     "start_time": "2023-06-08T19:17:00.064511Z"
    },
    "code_folding": [
     0
    ],
    "tags": []
   },
   "outputs": [],
   "source": [
    "def __plot_all_tilt(st1, st2, st3):\n",
    "\n",
    "    from datetime import datetime\n",
    "\n",
    "    NN=3\n",
    "\n",
    "    fig, ax = plt.subplots(NN,1, figsize=(15,8), sharex=True)\n",
    "\n",
    "    font = 14\n",
    "\n",
    "    tilt_scaling, tilt_unit = 1e-6, r\"$\\mu$rad\"\n",
    "    time_scaling, time_unit = 86400, \"days\"\n",
    "\n",
    "    ax[0].plot(st1.select(channel=\"*N\")[0].times(reftime=UTCDateTime(\"2019-01-01T00\"))/time_scaling,\n",
    "               st1.select(channel=\"*N\")[0].data/tilt_scaling, label=\"TROMY\")\n",
    "    ax[0].plot(st2.select(channel=\"*N\")[0].times(reftime=UTCDateTime(\"2019-01-01T00\"))/time_scaling,\n",
    "               st2.select(channel=\"*N\")[0].data/tilt_scaling, label=\"ROMYT\")\n",
    "    ax[0].plot(st3.select(channel=\"*N\")[0].times(reftime=UTCDateTime(\"2019-01-01T00\"))/time_scaling,\n",
    "               st3.select(channel=\"*N\")[0].data/tilt_scaling, label=\"BROMY\")\n",
    "\n",
    "    ax[1].plot(st1.select(channel=\"*E\")[0].times(reftime=UTCDateTime(\"2019-01-01T00\"))/time_scaling,\n",
    "               st1.select(channel=\"*E\")[0].data/tilt_scaling)\n",
    "    ax[1].plot(st2.select(channel=\"*E\")[0].times(reftime=UTCDateTime(\"2019-01-01T00\"))/time_scaling,\n",
    "               st2.select(channel=\"*E\")[0].data/tilt_scaling)\n",
    "    ax[1].plot(st3.select(channel=\"*E\")[0].times(reftime=UTCDateTime(\"2019-01-01T00\"))/time_scaling,\n",
    "               st3.select(channel=\"*E\")[0].data/tilt_scaling)\n",
    "\n",
    "    ax[1].plot(st1.select(channel=\"*E\")[0].times(reftime=UTCDateTime(\"2019-01-01T00\"))/time_scaling,\n",
    "               st1.select(channel=\"*E\")[0].data/tilt_scaling*-1, color=\"grey\")\n",
    "\n",
    "    ax[2].plot(st1.select(channel=\"*T\")[0].times(reftime=UTCDateTime(\"2019-01-01T00\"))/time_scaling,\n",
    "               st1.select(channel=\"*T\")[0].data)\n",
    "    ax[2].plot(st2.select(channel=\"*T\")[0].times(reftime=UTCDateTime(\"2019-01-01T00\"))/time_scaling,\n",
    "               st2.select(channel=\"*T\")[0].data)\n",
    "    ax[2].plot(st3.select(channel=\"*T\")[0].times(reftime=UTCDateTime(\"2019-01-01T00\"))/time_scaling,\n",
    "               st3.select(channel=\"*T\")[0].data)\n",
    "\n",
    "    ax[0].set_ylabel(f\"N ({tilt_unit})\", fontsize=font)\n",
    "    ax[1].set_ylabel(f\"E ({tilt_unit})\", fontsize=font)\n",
    "    ax[2].set_ylabel(f\"T (°C)\", fontsize=font)\n",
    "#     ax[2].set_xlabel(f\"Time ({time_unit})\", fontsize=font)\n",
    "\n",
    "    for o in range(3):\n",
    "        ax[o].grid()\n",
    "\n",
    "    ax[0].legend(loc=1, fontsize=font-2, bbox_to_anchor=(0.7, 1.1), ncol=3, framealpha=1)\n",
    "\n",
    "    tcks= ax[NN-1].get_xticks()\n",
    "    tcklbls = [datetime.fromtimestamp(t*time_scaling+datetime(2019,1,1).timestamp()).strftime(\"%Y-%m-%d\") for t in tcks]\n",
    "    ax[NN-1].set_xticklabels(tcklbls)\n",
    "\n",
    "    plt.show();\n",
    "    return fig"
   ]
  },
  {
   "cell_type": "markdown",
   "id": "clean-hacker",
   "metadata": {},
   "source": [
    "### Configurations"
   ]
  },
  {
   "cell_type": "code",
   "execution_count": 4,
   "id": "superior-memorial",
   "metadata": {
    "ExecuteTime": {
     "end_time": "2023-06-08T19:17:00.234375Z",
     "start_time": "2023-06-08T19:17:00.080963Z"
    },
    "tags": []
   },
   "outputs": [],
   "source": [
    "## configurations\n",
    "config={}\n",
    "\n",
    "config['save'] = False\n",
    "\n",
    "config['tbeg'] = UTCDateTime(\"2023-07-08 00:00\")\n",
    "# config['tend'] = UTCDateTime(\"2023-07-28 00:00\")\n",
    "\n",
    "## finally ended on 2023-11-17 by recovering TROMY and ROMYT from central shaft\n",
    "config['tend'] = UTCDateTime(\"2023-11-16 00:00\")\n",
    "\n",
    "config['name'] = 'tiltmeter'\n",
    "config['set_filter'] = 'n'\n",
    "\n",
    "## specify path to SDS data archive\n",
    "# config['path_to_data'] = archive_path+\"romy_archive/\"\n",
    "config['path_to_data'] = data_path+\"TiltmeterDataBackup/TROMY_ROMYT_BROMY_colocated/\"\n",
    "\n",
    "config['path_to_figs'] = root_path+\"Documents/ROMY/tiltmeter/figures/\"\n",
    "\n",
    "## specify path to wromy data\n",
    "# config['path_to_wromy'] = f\"{data_path}wromy/\"\n",
    "config['path_to_wromy'] = f\"{archive_path}romy_archive/\"\n",
    "\n",
    "## tiltmeter configurations\n",
    "confTilt = __readYaml(f\"{root_path}Documents/ROMY/tiltmeter/\", \"tiltmeter.conf\")\n",
    "\n",
    "## correction of offset (e.g. reset mass)\n",
    "offset_correction = __readYaml(f\"{root_path}Documents/ROMY/tiltmeter/\", \"tiltmeter_steps.yml\")\n",
    "\n",
    "## correction for temperature trends\n",
    "## based on MAT\n",
    "temperature_correction = __readYaml(f\"{root_path}Documents/ROMY/tiltmeter/\", \"tiltmeter_temperature_correction.yml\")\n",
    "\n",
    "## based on WSX\n",
    "# temperature_correction = __readYaml(f\"{root_path}Documents/ROMY/tiltmeter/\", \"temperature_correction_new.yml\")\n",
    "\n"
   ]
  },
  {
   "cell_type": "markdown",
   "id": "charming-shuttle",
   "metadata": {},
   "source": [
    "### Load Tiltmeter Data"
   ]
  },
  {
   "cell_type": "code",
   "execution_count": 5,
   "id": "5fa05701-007e-4abc-b83f-15710e41e845",
   "metadata": {
    "tags": []
   },
   "outputs": [],
   "source": [
    "from andbro__read_sds import __read_sds"
   ]
  },
  {
   "cell_type": "code",
   "execution_count": 6,
   "id": "ca469b47",
   "metadata": {
    "ExecuteTime": {
     "end_time": "2023-06-08T19:17:07.553224Z",
     "start_time": "2023-06-08T19:17:00.261332Z"
    },
    "tags": []
   },
   "outputs": [],
   "source": [
    "ROMYT0 = __read_sds(config['path_to_data'], \"BW.ROMYT..MA*\", config['tbeg'], config['tend'])\n",
    "\n",
    "ROMYT0.sort();\n",
    "ROMYT0.resample(1.0, no_filter=False)\n",
    "ROMYT0.merge();"
   ]
  },
  {
   "cell_type": "code",
   "execution_count": null,
   "id": "younger-tower",
   "metadata": {
    "ExecuteTime": {
     "end_time": "2023-06-08T19:17:16.910595Z",
     "start_time": "2023-06-08T19:17:07.554972Z"
    },
    "tags": []
   },
   "outputs": [],
   "source": [
    "TROMY0 = __read_sds(config['path_to_data'], \"BW.TROMY..MA*\", config['tbeg'], config['tend'])\n",
    "\n",
    "TROMY0.sort();\n",
    "TROMY0.resample(1.0, no_filter=False);\n",
    "TROMY0.merge();"
   ]
  },
  {
   "cell_type": "code",
   "execution_count": null,
   "id": "alike-timeline",
   "metadata": {
    "ExecuteTime": {
     "end_time": "2023-06-08T19:17:25.340131Z",
     "start_time": "2023-06-08T19:17:16.911865Z"
    },
    "tags": []
   },
   "outputs": [],
   "source": [
    "BROMY0 = __read_sds(config['path_to_data'], \"BW.DROMY..LA*\", config['tbeg'], config['tend'])\n",
    "\n",
    "BROMY0.sort()\n",
    "BROMY0.merge()"
   ]
  },
  {
   "cell_type": "code",
   "execution_count": null,
   "id": "0c1e544f-d4b1-4134-b1f8-f557b5af2b69",
   "metadata": {
    "tags": []
   },
   "outputs": [],
   "source": [
    "# __plot_all_tilt(ROMYT0, TROMY0, BROMY0);"
   ]
  },
  {
   "cell_type": "markdown",
   "id": "1de84c04",
   "metadata": {},
   "source": [
    "## Correct for known offsets"
   ]
  },
  {
   "cell_type": "code",
   "execution_count": null,
   "id": "d0c491d2",
   "metadata": {
    "ExecuteTime": {
     "end_time": "2023-06-08T19:17:25.348748Z",
     "start_time": "2023-06-08T19:17:25.341080Z"
    },
    "tags": []
   },
   "outputs": [],
   "source": [
    "from functions.correct_offsets import __correct_offsets"
   ]
  },
  {
   "cell_type": "code",
   "execution_count": null,
   "id": "11dee195",
   "metadata": {
    "ExecuteTime": {
     "end_time": "2023-06-08T19:17:25.373884Z",
     "start_time": "2023-06-08T19:17:25.359727Z"
    },
    "tags": []
   },
   "outputs": [],
   "source": [
    "TROMY = __correct_offsets(TROMY0, offset_correction['TROMY'], plot=False)\n",
    "ROMYT = __correct_offsets(ROMYT0, offset_correction['ROMYT'], plot=False)\n",
    "BROMY = __correct_offsets(BROMY0, offset_correction['BROMY'], plot=False)"
   ]
  },
  {
   "cell_type": "code",
   "execution_count": null,
   "id": "521cf787",
   "metadata": {
    "ExecuteTime": {
     "end_time": "2023-06-08T19:17:25.387448Z",
     "start_time": "2023-06-08T19:17:25.374791Z"
    },
    "tags": []
   },
   "outputs": [],
   "source": [
    "# fig = __plot_all_tilt(TROMY, ROMYT, BROMY);"
   ]
  },
  {
   "cell_type": "markdown",
   "id": "af96ad7e",
   "metadata": {},
   "source": [
    "## Covert Data Counts to Rad"
   ]
  },
  {
   "cell_type": "code",
   "execution_count": null,
   "id": "aca012ad",
   "metadata": {
    "ExecuteTime": {
     "end_time": "2023-06-08T19:17:25.403227Z",
     "start_time": "2023-06-08T19:17:25.388288Z"
    },
    "tags": []
   },
   "outputs": [],
   "source": [
    "from functions.converstion_to_tilt import __conversion_to_tilt"
   ]
  },
  {
   "cell_type": "code",
   "execution_count": null,
   "id": "513fce1a",
   "metadata": {
    "ExecuteTime": {
     "end_time": "2023-06-08T19:17:28.042531Z",
     "start_time": "2023-06-08T19:17:25.416998Z"
    },
    "tags": []
   },
   "outputs": [],
   "source": [
    "TROMY = __conversion_to_tilt(TROMY, confTilt['TROMY'])\n",
    "ROMYT = __conversion_to_tilt(ROMYT, confTilt['ROMYT'])\n",
    "BROMY = __conversion_to_tilt(BROMY, confTilt['BROMY'])"
   ]
  },
  {
   "cell_type": "code",
   "execution_count": null,
   "id": "d3f99e00",
   "metadata": {
    "ExecuteTime": {
     "end_time": "2023-06-08T19:17:28.045140Z",
     "start_time": "2023-06-08T19:17:28.043545Z"
    },
    "tags": []
   },
   "outputs": [],
   "source": [
    "# fig = __plot_all_tilt(TROMY, ROMYT, BROMY);"
   ]
  },
  {
   "cell_type": "markdown",
   "id": "5f28e898",
   "metadata": {},
   "source": [
    "## Tilt Reset at Start"
   ]
  },
  {
   "cell_type": "code",
   "execution_count": null,
   "id": "a70ebc72",
   "metadata": {
    "ExecuteTime": {
     "end_time": "2023-06-08T19:17:28.221951Z",
     "start_time": "2023-06-08T19:17:28.046019Z"
    },
    "tags": []
   },
   "outputs": [],
   "source": [
    "## Reset start to Zero\n",
    "for st in [TROMY, ROMYT, BROMY]:\n",
    "    for tr in st:\n",
    "        if not tr.stats.channel[-1] == \"T\" or tr.stats.channel[0] == \"W\":\n",
    "            tr.data -= mean(tr.data[:100])"
   ]
  },
  {
   "cell_type": "code",
   "execution_count": null,
   "id": "dc0fb6c4-9a3e-4d46-bbdf-e97229df5a6a",
   "metadata": {
    "tags": []
   },
   "outputs": [],
   "source": [
    "def __plot_all_tilt2(st1, st2, st3):\n",
    "\n",
    "    from datetime import datetime\n",
    "\n",
    "    NN=3\n",
    "\n",
    "    fig, ax = plt.subplots(NN,1, figsize=(15,8), sharex=True)\n",
    "\n",
    "    font = 14\n",
    "\n",
    "    tilt_scaling, tilt_unit = 1e-6, r\"$\\mu$rad\"\n",
    "    time_scaling, time_unit = 86400, \"days\"\n",
    "\n",
    "    ax[0].plot(st1.select(channel=\"*N\")[0].times(reftime=UTCDateTime(\"2019-01-01T00\"))/time_scaling,\n",
    "               st1.select(channel=\"*N\")[0].data/tilt_scaling, label=\"TROMY\")\n",
    "    ax[0].plot(st2.select(channel=\"*N\")[0].times(reftime=UTCDateTime(\"2019-01-01T00\"))/time_scaling,\n",
    "               st2.select(channel=\"*N\")[0].data/tilt_scaling, label=\"ROMYT\")\n",
    "    ax[0].plot(st3.select(channel=\"*N\")[0].times(reftime=UTCDateTime(\"2019-01-01T00\"))/time_scaling,\n",
    "               st3.select(channel=\"*N\")[0].data/tilt_scaling, label=\"BROMY\")\n",
    "\n",
    "    ax[1].plot(st1.select(channel=\"*E\")[0].times(reftime=UTCDateTime(\"2019-01-01T00\"))/time_scaling,\n",
    "               st1.select(channel=\"*E\")[0].data/tilt_scaling)\n",
    "    ax[1].plot(st2.select(channel=\"*E\")[0].times(reftime=UTCDateTime(\"2019-01-01T00\"))/time_scaling,\n",
    "               st2.select(channel=\"*E\")[0].data/tilt_scaling)\n",
    "    ax[1].plot(st3.select(channel=\"*E\")[0].times(reftime=UTCDateTime(\"2019-01-01T00\"))/time_scaling,\n",
    "               st3.select(channel=\"*E\")[0].data/tilt_scaling)\n",
    "\n",
    "    ax[1].plot(st1.select(channel=\"*E\")[0].times(reftime=UTCDateTime(\"2019-01-01T00\"))/time_scaling,\n",
    "               st1.select(channel=\"*E\")[0].data/tilt_scaling*-1, color=\"grey\")\n",
    "\n",
    "    ax[2].plot(st1.select(channel=\"*T\")[0].times(reftime=UTCDateTime(\"2019-01-01T00\"))/time_scaling,\n",
    "               st1.select(channel=\"*T\")[0].data)\n",
    "    ax[2].plot(st2.select(channel=\"*T\")[0].times(reftime=UTCDateTime(\"2019-01-01T00\"))/time_scaling,\n",
    "               st2.select(channel=\"*T\")[0].data)\n",
    "    ax[2].plot(st3.select(channel=\"*T\")[0].times(reftime=UTCDateTime(\"2019-01-01T00\"))/time_scaling,\n",
    "               st3.select(channel=\"*T\")[0].data)\n",
    "\n",
    "    ax[0].set_ylabel(f\"N ({tilt_unit})\", fontsize=font)\n",
    "    ax[1].set_ylabel(f\"E ({tilt_unit})\", fontsize=font)\n",
    "    ax[2].set_ylabel(f\"T (°C)\", fontsize=font)\n",
    "#     ax[2].set_xlabel(f\"Time ({time_unit})\", fontsize=font)\n",
    "\n",
    "    for o in range(3):\n",
    "        ax[o].grid()\n",
    "\n",
    "    ax[0].legend(loc=1, fontsize=font-2, bbox_to_anchor=(0.7, 1.1), ncol=3, framealpha=1)\n",
    "\n",
    "    tcks= ax[NN-1].get_xticks()\n",
    "    tcklbls = [datetime.fromtimestamp(t*time_scaling+datetime(2019,1,1).timestamp()).strftime(\"%Y-%m-%d\") for t in tcks]\n",
    "    ax[NN-1].set_xticklabels(tcklbls)\n",
    "\n",
    "    ax[0].set_ylim(-50, 50)\n",
    "    ax[1].set_ylim(-50, 50)\n",
    "    ax[2].set_ylim(5, 30)\n",
    "\n",
    "    plt.show();\n",
    "    return fig"
   ]
  },
  {
   "cell_type": "code",
   "execution_count": null,
   "id": "d188a6f2",
   "metadata": {
    "ExecuteTime": {
     "end_time": "2023-06-08T19:17:28.224535Z",
     "start_time": "2023-06-08T19:17:28.222982Z"
    },
    "tags": []
   },
   "outputs": [],
   "source": [
    "fig = __plot_all_tilt2(TROMY, ROMYT, BROMY);\n",
    "\n",
    "\n",
    "if config['save']:\n",
    "    fig.savefig(config['path_to_figs']+\"TILT_Huddle_all.png\", format=\"png\", dpi=200, bbox_inches='tight')"
   ]
  },
  {
   "cell_type": "markdown",
   "id": "e8e378ca-92ef-4416-b40d-c477179165e1",
   "metadata": {},
   "source": [
    "## Compare Internal Temperature of Tiltmeter"
   ]
  },
  {
   "cell_type": "code",
   "execution_count": null,
   "id": "49eaf123-fba4-4ae9-8dbf-d19901ac2501",
   "metadata": {
    "tags": []
   },
   "outputs": [],
   "source": [
    "def __compare_temperature():\n",
    "\n",
    "    fig, ax = plt.subplots(2,1, figsize=(15,8))\n",
    "\n",
    "    tr_tromy = TROMY.select(channel=\"*T\")[0]\n",
    "    tr_romyt = ROMYT.select(channel=\"*T\")[0]\n",
    "    tr_bromy = BROMY.select(channel=\"*T\")[0]\n",
    "\n",
    "    time_scaling = 86400\n",
    "\n",
    "    ax[0].plot(tr_tromy.times()/time_scaling, tr_tromy.data, color=\"tab:blue\")\n",
    "    ax[0].plot(tr_romyt.times()/time_scaling, tr_romyt.data, color=\"tab:orange\")\n",
    "    ax[0].plot(tr_bromy.times()/time_scaling, tr_bromy.data, color=\"tab:green\")\n",
    "    ax[0].set_ylabel(\"Temperature (°C)\")\n",
    "\n",
    "\n",
    "    p0, = ax[1].plot(tr_tromy.times()/time_scaling, tr_tromy.data, color=\"tab:blue\", label=\"TROMY\")\n",
    "    ax[1].plot(tr_romyt.times()/time_scaling, tr_romyt.data*nan, color=\"tab:orange\", label=\"ROMYT\")\n",
    "    ax[1].plot(tr_bromy.times()/time_scaling, tr_bromy.data*nan, color=\"tab:green\", label=\"BROMY\")\n",
    "\n",
    "    ax[1].tick_params(axis='y', colors=p0.get_color())\n",
    "\n",
    "    ax1 = ax[1].twinx()\n",
    "    p1, = ax1.plot(tr_romyt.times()/time_scaling, tr_romyt.data, color=\"tab:orange\", label=\"ROMYT\")\n",
    "    ax1.tick_params(axis='y', colors=p1.get_color())\n",
    "\n",
    "    ax2 = ax[1].twinx()\n",
    "    ax2.spines['right'].set_position((\"axes\", 1.06))\n",
    "    p2, = ax2.plot(tr_bromy.times()/time_scaling, tr_bromy.data , color=\"tab:green\", label=\"BROMY\")\n",
    "    ax2.tick_params(axis='y', colors=p2.get_color())\n",
    "\n",
    "    ax[1].legend(loc=1)\n",
    "    ax[1].set_xlabel(\"Time (days)\")\n",
    "    ax[1].set_ylabel(\"Temperature (°C)\")\n",
    "\n",
    "    plt.show();\n",
    "    return fig"
   ]
  },
  {
   "cell_type": "code",
   "execution_count": null,
   "id": "edf0bb65-7e54-4eae-8c00-5660f5eeca16",
   "metadata": {},
   "outputs": [],
   "source": [
    "fig = __compare_temperature();\n",
    "\n",
    "if config['save']:\n",
    "    fig.savefig(config['path_to_figs']+\"TILT_Huddle_all_temperatures.png\", format=\"png\", dpi=200, bbox_inches='tight')"
   ]
  },
  {
   "cell_type": "markdown",
   "id": "535803cb",
   "metadata": {},
   "source": [
    "## Correct for Linear Temperature Trend"
   ]
  },
  {
   "cell_type": "code",
   "execution_count": null,
   "id": "50d5a906",
   "metadata": {
    "ExecuteTime": {
     "end_time": "2023-06-08T19:17:28.240272Z",
     "start_time": "2023-06-08T19:17:28.225519Z"
    },
    "code_folding": [
     0
    ]
   },
   "outputs": [],
   "source": [
    "def __correct_temperature_trend(st, correction):\n",
    "\n",
    "    st0 = st.copy()\n",
    "    temperature = st0.select(channel=\"*T\")[0].data\n",
    "\n",
    "#     st0.select(channel=\"*N\")[0].data -= (correction['N_slope']* temperature + correction['N_intercept'])\n",
    "#     st0.select(channel=\"*E\")[0].data -= (correction['E_slope']* temperature + correction['N_intercept'])\n",
    "    st0.select(channel=\"*N\")[0].data -= (correction['N_slope']* temperature)\n",
    "    st0.select(channel=\"*E\")[0].data -= (correction['E_slope']* temperature)\n",
    "\n",
    "    return st0"
   ]
  },
  {
   "cell_type": "code",
   "execution_count": null,
   "id": "fd87faaa",
   "metadata": {
    "ExecuteTime": {
     "end_time": "2023-06-08T19:17:28.254473Z",
     "start_time": "2023-06-08T19:17:28.241265Z"
    }
   },
   "outputs": [],
   "source": [
    "## apply correction model\n",
    "TROMY = __correct_temperature_trend(TROMY, temperature_correction['TROMY'])\n",
    "ROMYT = __correct_temperature_trend(ROMYT, temperature_correction['ROMYT'])\n",
    "# BROMY = __correct_temperature_trend(BROMY, temperature_correction['BROMY'])"
   ]
  },
  {
   "cell_type": "code",
   "execution_count": null,
   "id": "14a5fbf5-1b8d-46c9-9a9e-f6504f4d2118",
   "metadata": {},
   "outputs": [],
   "source": [
    "## Reset start to Zero\n",
    "for st in [TROMY, ROMYT, BROMY]:\n",
    "    for tr in st:\n",
    "        if not tr.stats.channel[-1] == \"T\" or tr.stats.channel[0] == \"W\":\n",
    "            tr.data -= tr.data[1]"
   ]
  },
  {
   "cell_type": "code",
   "execution_count": null,
   "id": "dcc9fe97",
   "metadata": {
    "ExecuteTime": {
     "end_time": "2023-06-08T19:17:28.269720Z",
     "start_time": "2023-06-08T19:17:28.255603Z"
    }
   },
   "outputs": [],
   "source": [
    "fig = __plot_all_tilt(TROMY, ROMYT, BROMY);\n",
    "\n",
    "if config['save']:\n",
    "    fig.savefig(config['path_to_figs']+\"TILT_Huddle_all.png\", format=\"png\", dpi=200, bbox_inches='tight')"
   ]
  },
  {
   "cell_type": "code",
   "execution_count": null,
   "id": "3ac5a627-6e46-4ef5-8756-5e4c71bc94f4",
   "metadata": {},
   "outputs": [],
   "source": []
  },
  {
   "cell_type": "markdown",
   "id": "ef5bbb70",
   "metadata": {
    "ExecuteTime": {
     "end_time": "2022-12-08T11:02:30.748219Z",
     "start_time": "2022-12-08T11:02:30.746440Z"
    }
   },
   "source": [
    "## Add WROMY Data"
   ]
  },
  {
   "cell_type": "code",
   "execution_count": null,
   "id": "6ab7761d-8b72-4265-911f-226b1177ac27",
   "metadata": {},
   "outputs": [],
   "source": [
    "from andbro__load_WROMY_stream import __load_wromy_stream"
   ]
  },
  {
   "cell_type": "code",
   "execution_count": null,
   "id": "fd5304f7-0c08-4574-9ecb-f7fa642fad30",
   "metadata": {},
   "outputs": [],
   "source": [
    "ws1 = __load_wromy_stream(config['path_to_wromy'], \"BW.WROMY..WS1\", config['tbeg'], config['tend'])"
   ]
  },
  {
   "cell_type": "code",
   "execution_count": null,
   "id": "06c92b0b",
   "metadata": {
    "ExecuteTime": {
     "end_time": "2023-06-08T19:17:36.911578Z",
     "start_time": "2023-06-08T19:17:36.471136Z"
    }
   },
   "outputs": [],
   "source": [
    "from numpy import isfinite, array\n",
    "import numpy.ma as ma\n",
    "\n",
    "arr = ws1.select(channel=\"*T\")[0].data\n",
    "# arr = array([1,2,3,nan,3,4])\n",
    "# mask = isfinite(arr)\n",
    "# ma_arr = ma.masked_array(arr, mask=mask)\n",
    "\n",
    "ma_arr = ma.masked_invalid(arr)\n",
    "ws1.select(channel=\"*T\")[0].data = ma.masked_invalid(arr)\n",
    "\n",
    "plt.plot(ma_arr)"
   ]
  },
  {
   "cell_type": "markdown",
   "id": "obvious-imaging",
   "metadata": {
    "ExecuteTime": {
     "end_time": "2021-02-23T08:42:57.050040Z",
     "start_time": "2021-02-23T08:42:57.046253Z"
    }
   },
   "source": [
    "### Load FURT Data"
   ]
  },
  {
   "cell_type": "code",
   "execution_count": null,
   "id": "f7186dcf-06c2-4a54-bee5-c9f268a2ea50",
   "metadata": {},
   "outputs": [],
   "source": [
    "from andbro__load_FURT_stream import __load_furt_stream"
   ]
  },
  {
   "cell_type": "code",
   "execution_count": null,
   "id": "64525338-9ad0-4c45-be2f-3577dc2cd48e",
   "metadata": {},
   "outputs": [],
   "source": [
    "# furt = __load_furt_stream(config['tbeg'], config['tend'])"
   ]
  },
  {
   "cell_type": "code",
   "execution_count": null,
   "id": "9a003d4b-c340-4ac3-b3d1-6a18bc2b6c17",
   "metadata": {},
   "outputs": [],
   "source": []
  },
  {
   "cell_type": "markdown",
   "id": "631ee2c0-be77-4be4-803b-804e8e48c468",
   "metadata": {},
   "source": [
    "## Check effect of Lüftungsventil"
   ]
  },
  {
   "cell_type": "code",
   "execution_count": null,
   "id": "564e9111-63d0-4ae5-9e94-c57dc4edc3fc",
   "metadata": {},
   "outputs": [],
   "source": [
    "config['tbeg'] = \"2023-01-01\"\n",
    "\n",
    "ws1 = __load_wromy_stream(config['path_to_wromy'], \"BW.WROMY..WS1\", config['tbeg'], config['tend'])"
   ]
  },
  {
   "cell_type": "code",
   "execution_count": null,
   "id": "b1285bff-ee37-4fe9-ab0d-9345e671c42b",
   "metadata": {},
   "outputs": [],
   "source": [
    "ws1.select(channel=\"*T\")[0].plot();"
   ]
  },
  {
   "cell_type": "code",
   "execution_count": null,
   "id": "0021162e-0196-4691-acb2-a03171411c7c",
   "metadata": {},
   "outputs": [],
   "source": [
    "config['tbeg'] = UTCDateTime(\"2023-01-01\")\n",
    "\n",
    "BROMY0 = __read_sds(\"/import/freenas-ffb-01-data/romy_archive/\", \"BW.DROMY..LA*\", config['tbeg'], config['tend'])\n",
    "\n",
    "BROMY0.sort()\n",
    "BROMY0.merge()"
   ]
  },
  {
   "cell_type": "code",
   "execution_count": null,
   "id": "67a71c54-fb15-4403-9fec-c8e36d83288b",
   "metadata": {},
   "outputs": [],
   "source": [
    "BROMY0 = __conversion_to_tilt(BROMY0, confTilt['BROMY'])"
   ]
  },
  {
   "cell_type": "code",
   "execution_count": null,
   "id": "7ca58d4e-d898-426d-a81a-c70905dc8042",
   "metadata": {},
   "outputs": [],
   "source": [
    "tr = BROMY0.select(channel=\"*T\")[0].trim(config['tbeg'], UTCDateTime(\"2023-06-15\"))\n",
    "\n",
    "plt.plot(tr.times(), tr.data)\n",
    "plt.ylim(12, 13.5)"
   ]
  },
  {
   "cell_type": "code",
   "execution_count": null,
   "id": "032b8d94-9edc-4ea0-8d4f-c3931fbff720",
   "metadata": {},
   "outputs": [],
   "source": []
  },
  {
   "cell_type": "code",
   "execution_count": null,
   "id": "fdf66100-7c7c-46c5-8372-b80bf5c73bcc",
   "metadata": {},
   "outputs": [],
   "source": []
  }
 ],
 "metadata": {
  "kernelspec": {
   "display_name": "Python 3 (ipykernel)",
   "language": "python",
   "name": "python3"
  },
  "language_info": {
   "codemirror_mode": {
    "name": "ipython",
    "version": 3
   },
   "file_extension": ".py",
   "mimetype": "text/x-python",
   "name": "python",
   "nbconvert_exporter": "python",
   "pygments_lexer": "ipython3",
   "version": "3.10.12"
  },
  "latex_envs": {
   "LaTeX_envs_menu_present": true,
   "autoclose": false,
   "autocomplete": true,
   "bibliofile": "biblio.bib",
   "cite_by": "apalike",
   "current_citInitial": 1,
   "eqLabelWithNumbers": true,
   "eqNumInitial": 1,
   "hotkeys": {
    "equation": "Ctrl-E",
    "itemize": "Ctrl-I"
   },
   "labels_anchors": false,
   "latex_user_defs": false,
   "report_style_numbering": false,
   "user_envs_cfg": false
  },
  "toc": {
   "base_numbering": 1,
   "nav_menu": {},
   "number_sections": true,
   "sideBar": true,
   "skip_h1_title": false,
   "title_cell": "Table of Contents",
   "title_sidebar": "Contents",
   "toc_cell": false,
   "toc_position": {},
   "toc_section_display": true,
   "toc_window_display": false
  }
 },
 "nbformat": 4,
 "nbformat_minor": 5
}
