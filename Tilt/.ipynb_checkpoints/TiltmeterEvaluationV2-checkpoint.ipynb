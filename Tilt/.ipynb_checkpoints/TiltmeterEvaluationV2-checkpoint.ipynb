{
 "cells": [
  {
   "cell_type": "markdown",
   "id": "extensive-movement",
   "metadata": {},
   "source": [
    "## Tiltmeter Evaluation"
   ]
  },
  {
   "cell_type": "markdown",
   "id": "noted-resort",
   "metadata": {
    "ExecuteTime": {
     "end_time": "2021-02-19T15:09:20.288504Z",
     "start_time": "2021-02-19T15:09:20.284413Z"
    }
   },
   "source": [
    "### Import Libraries"
   ]
  },
  {
   "cell_type": "code",
   "execution_count": 1,
   "id": "animal-despite",
   "metadata": {
    "ExecuteTime": {
     "end_time": "2022-09-13T22:35:53.282335Z",
     "start_time": "2022-09-13T22:35:52.550959Z"
    }
   },
   "outputs": [],
   "source": [
    "import os\n",
    "import obspy\n",
    "import matplotlib.pyplot as plt\n",
    "import pandas as pd\n",
    "\n",
    "from numpy import arange, linspace, sqrt, diff, nan, gradient\n",
    "from pandas import read_csv, DataFrame\n",
    "from mpl_toolkits.axes_grid1.inset_locator import inset_axes\n",
    "from numpy.ma import filled, isMaskedArray, masked\n",
    "from matplotlib.ticker import (MultipleLocator, AutoMinorLocator)\n",
    "from obspy import UTCDateTime\n",
    "from pathlib import Path\n",
    "\n",
    "from andbro__querrySeismoData import __querrySeismoData\n",
    "from andbro__get_seconds import __get_seconds\n",
    "from andbro__readYaml import __readYaml"
   ]
  },
  {
   "cell_type": "markdown",
   "id": "mounted-throat",
   "metadata": {},
   "source": [
    "### Define Functions"
   ]
  },
  {
   "cell_type": "code",
   "execution_count": 2,
   "id": "transsexual-former",
   "metadata": {
    "ExecuteTime": {
     "end_time": "2022-09-13T22:35:54.422624Z",
     "start_time": "2022-09-13T22:35:54.417581Z"
    },
    "code_folding": [
     1
    ]
   },
   "outputs": [],
   "source": [
    "\n",
    "def __convert_Temp(st, conversion):\n",
    "    \n",
    "    Tvolt = st[0].data * conversion \n",
    "\n",
    "    Temp = 10.18 - 11.59* Tvolt + 0.3335* Tvolt**2 - 0.5316* Tvolt**3\n",
    "\n",
    "    st[0].data = Temp\n",
    "    \n",
    "    return st\n"
   ]
  },
  {
   "cell_type": "code",
   "execution_count": 3,
   "id": "large-garlic",
   "metadata": {
    "ExecuteTime": {
     "end_time": "2022-09-13T22:35:54.612733Z",
     "start_time": "2022-09-13T22:35:54.609289Z"
    },
    "code_folding": [
     1
    ]
   },
   "outputs": [],
   "source": [
    "\n",
    "def __convert_Tilt(st, conversion, sensitivity):\n",
    "    st[0].data = st[0].data * conversion  * sensitivity\n",
    "    return st\n"
   ]
  },
  {
   "cell_type": "code",
   "execution_count": 4,
   "id": "passing-canberra",
   "metadata": {
    "ExecuteTime": {
     "end_time": "2022-09-13T22:35:54.774450Z",
     "start_time": "2022-09-13T22:35:54.768034Z"
    },
    "code_folding": [
     1
    ]
   },
   "outputs": [],
   "source": [
    "\n",
    "def __get_timeline(st):\n",
    "    \n",
    "    days = abs(st[0].stats.starttime.julday - st[0].stats.endtime.julday)\n",
    "    \n",
    "    t1 = st[0].stats.starttime.hour*3600+ st[0].stats.starttime.minute*60 + st[0].stats.starttime.second+E[0].stats.starttime.microsecond*1e-6\n",
    "    t2 = days*86400+st[0].stats.endtime.hour*3600+ st[0].stats.endtime.minute*60 + st[0].stats.endtime.second+E[0].stats.starttime.microsecond*1e-6\n",
    "\n",
    "#     timeline = arange(t1, t2+1*st[0].stats.delta, st[0].stats.delta)/3600/24\n",
    "    timeline = linspace(t1, t2, st[0].stats.npts)/3600/24 + st[0].stats.starttime.julday\n",
    "    \n",
    "    return timeline\n"
   ]
  },
  {
   "cell_type": "code",
   "execution_count": 168,
   "id": "mobile-plasma",
   "metadata": {
    "ExecuteTime": {
     "end_time": "2021-07-01T16:44:23.762995Z",
     "start_time": "2021-07-01T16:44:23.750499Z"
    },
    "code_folding": [
     1
    ]
   },
   "outputs": [],
   "source": [
    "\n",
    "def __get_tilt_data(path, starttime, endtime, tiltmeter='PT', where=\"local\"):\n",
    "\n",
    "    from obspy import UTCDateTime, Stream\n",
    "    from numpy import nan\n",
    "    from numpy.ma import filled, isMaskedArray\n",
    "    \n",
    "\n",
    "    if tiltmeter == 'PT':\n",
    "        path_add = 'Plattform_Tiltmeter_ROMY/'\n",
    "        mode = 'M'\n",
    "        letter = 'T'\n",
    "        \n",
    "    elif tiltmeter == 'BT':\n",
    "        path_add = 'Borehole_Tiltmeter/'\n",
    "        mode = 'L'\n",
    "        letter = 'D'\n",
    "        \n",
    "    starttime = UTCDateTime(starttime)\n",
    "    endtime   = UTCDateTime(endtime)\n",
    "    \n",
    "    doy1 = starttime.julday\n",
    "    doy2 = endtime.julday\n",
    "    \n",
    "    year = starttime.year\n",
    "    \n",
    "    T, N, E = Stream(), Stream(), Stream()\n",
    "    \n",
    "    if where == \"george\":\n",
    "        \n",
    "        from obspy import UTCDateTime\n",
    "        from obspy.clients.fdsn import Client\n",
    "\n",
    "        T, inv = __querrySeismoData(\n",
    "            seed_id=f\"BW.{letter}ROMY..{mode}AT\",\n",
    "            starttime=starttime,\n",
    "            endtime=endtime,\n",
    "            where=\"george\",\n",
    "            path=None,\n",
    "            restitute=False,\n",
    "            detail=False,\n",
    "            )\n",
    "\n",
    "        N, inv = __querrySeismoData(\n",
    "            seed_id=f\"BW.{letter}ROMY..{mode}AN\",\n",
    "            starttime=starttime,\n",
    "            endtime=endtime,\n",
    "            where=\"george\",\n",
    "            path=None,\n",
    "            restitute=False,\n",
    "            detail=False,\n",
    "            )\n",
    "        \n",
    "        E, inv = __querrySeismoData(\n",
    "            seed_id=f\"BW.{letter}ROMY..{mode}AE\",\n",
    "            starttime=starttime,\n",
    "            endtime=endtime,\n",
    "            where=\"george\",\n",
    "            path=None,\n",
    "            restitute=False,\n",
    "            detail=False,\n",
    "            )\n",
    "        \n",
    "    elif where == \"local\":     \n",
    "        \n",
    "        for doy in range(doy1, doy2):\n",
    "\n",
    "            if doy < 10:\n",
    "                doy = f'00{doy}'\n",
    "            elif doy >= 10 and doy < 100:\n",
    "                doy = f'0{doy}'\n",
    "\n",
    "            try:\n",
    "                t = obspy.read(path+path_add+f'{mode}AT.D/BW.{letter}ROMY..{mode}AT.D.{year}.{doy}')\n",
    "                T += t \n",
    "            except:\n",
    "                print(f\"no data for T on doy: {doy}\")\n",
    "\n",
    "            try:\n",
    "                n = obspy.read(path+path_add+f'{mode}AN.D/BW.{letter}ROMY..{mode}AN.D.{year}.{doy}')\n",
    "                N += n\n",
    "            except:\n",
    "                print(f\"no data for N on doy: {doy}\")\n",
    "\n",
    "            try:\n",
    "                e = obspy.read(path+path_add+f'{mode}AE.D/BW.{letter}ROMY..{mode}AE.D.{year}.{doy}')\n",
    "                E += e\n",
    "            except:\n",
    "                print(f\"no data for E on doy: {doy}\")\n",
    "\n",
    "    T.merge()\n",
    "    N.merge()\n",
    "    E.merge()\n",
    "    \n",
    "    T.trim(starttime, endtime)\n",
    "    N.trim(starttime, endtime)\n",
    "    E.trim(starttime, endtime)\n",
    "           \n",
    "    for i in [T, N, E]:\n",
    "        if i:\n",
    "            if isMaskedArray(i[0].data):\n",
    "                print(f\"masked array {i[0].stats.channel[-1]} filled with NaN\")\n",
    "                i[0].data = filled(i[0].data, fill_value=nan)\n",
    "\n",
    "#     T.trim(starttime, endtime)\n",
    "#     N.trim(starttime, endtime)\n",
    "#     E.trim(starttime, endtime)\n",
    "    \n",
    "    return T, N, E\n"
   ]
  },
  {
   "cell_type": "markdown",
   "id": "clean-hacker",
   "metadata": {},
   "source": [
    "### Configurations"
   ]
  },
  {
   "cell_type": "code",
   "execution_count": 169,
   "id": "superior-memorial",
   "metadata": {
    "ExecuteTime": {
     "end_time": "2021-07-01T16:44:23.769669Z",
     "start_time": "2021-07-01T16:44:23.765328Z"
    }
   },
   "outputs": [],
   "source": [
    "path = \"/home/andbro/Desktop/tiltmeter/\"\n",
    "path2 = '/home/andbro/Desktop/tiltmeter/WETTER/*ex'\n",
    "\n",
    "tend = UTCDateTime.now()\n",
    "\n",
    "tbeg = tend - 15*86400\n",
    "# tbeg = UTCDateTime(\"2021-02-15 16:00\")\n",
    "\n",
    "save = True\n",
    "\n",
    "\n",
    "## gain for Temperature channel of PT was not set correctly prior to 2021-03-03\n",
    "correct_settings_temp_PT = (\"2021-03-05\", tend)\n",
    "\n",
    "## configurations\n",
    "config={\n",
    "        'seed_id': [\"BW.TROMY..MA*\", \"BW.DROMY..LA*\"],\n",
    "         'repos': 'george',\n",
    "         'datapath': None,\n",
    "         'name': 'tiltmeter',\n",
    "         'tbeg': tbeg,\n",
    "         'tend': tend,\n",
    "         'set_filter': 'n'\n",
    "        }\n",
    "\n",
    "## tiltmeter configurations\n",
    "confTilt = __readYaml('/home/brotzer/Documents/ROMY/','tiltmeter.conf')\n",
    "confPT = confTilt['PT']\n",
    "confBT = confTilt['BT']\n"
   ]
  },
  {
   "cell_type": "markdown",
   "id": "charming-shuttle",
   "metadata": {},
   "source": [
    "### Load Tiltmeter Data"
   ]
  },
  {
   "cell_type": "code",
   "execution_count": 170,
   "id": "younger-tower",
   "metadata": {
    "ExecuteTime": {
     "end_time": "2021-07-01T16:59:22.082898Z",
     "start_time": "2021-07-01T16:44:23.771633Z"
    }
   },
   "outputs": [
    {
     "name": "stdout",
     "output_type": "stream",
     "text": [
      "Coordinates could not be attached! Inventory not complete!\n"
     ]
    }
   ],
   "source": [
    "\n",
    "pt, inv0 = __querrySeismoData(    \n",
    "                            seed_id=config.get(\"seed_id\")[0],\n",
    "                            starttime=config.get(\"tbeg\"),\n",
    "                            endtime=config.get(\"tend\"),\n",
    "                            where=config.get(\"repos\"),\n",
    "                            path=config.get(\"datapath\"),\n",
    "                            restitute=False,\n",
    "                            detail=None,\n",
    "                            fill_value=-9999, \n",
    "                            )\n",
    "\n",
    "T, N, E = pt[2], pt[1], pt[0]"
   ]
  },
  {
   "cell_type": "code",
   "execution_count": 171,
   "id": "alike-timeline",
   "metadata": {
    "ExecuteTime": {
     "end_time": "2021-07-01T17:01:21.711939Z",
     "start_time": "2021-07-01T16:59:22.085693Z"
    }
   },
   "outputs": [
    {
     "name": "stdout",
     "output_type": "stream",
     "text": [
      "Coordinates could not be attached! Inventory not complete!\n"
     ]
    }
   ],
   "source": [
    "\n",
    "bt, inv0 = __querrySeismoData(    \n",
    "                            seed_id=config.get(\"seed_id\")[1],\n",
    "                            starttime=config.get(\"tbeg\"),\n",
    "                            endtime=config.get(\"tend\"),\n",
    "                            where=config.get(\"repos\"),\n",
    "                            path=config.get(\"datapath\"),\n",
    "                            restitute=True,\n",
    "                            detail=None,\n",
    "                            fill_value=-9999, \n",
    "                            )\n",
    "\n"
   ]
  },
  {
   "cell_type": "markdown",
   "id": "af96ad7e",
   "metadata": {},
   "source": [
    "### Covert Data"
   ]
  },
  {
   "cell_type": "code",
   "execution_count": 172,
   "id": "9969b211",
   "metadata": {
    "code_folding": [
     0
    ]
   },
   "outputs": [],
   "source": [
    "def __conversion(st, confBT, confPT):\n",
    "\n",
    "    def convertTemp(trace, gain):\n",
    "        Tvolt = trace.data * gain\n",
    "        return 10.18 - 11.59*Tvolt + 0.3335*Tvolt**2 - 0.5316*Tvolt**3\n",
    "\n",
    "    def convertTilt(trace, conversion, sensitivity):\n",
    "        return trace.data * conversion * sensitivity\n",
    "        # print( type(conversion), type(sensitivity), type(trace.data) )\n",
    "\n",
    "    for tr in st:\n",
    "        if tr.stats.channel == 'MAT':\n",
    "            tr.data = convertTemp(tr, confPT['gainTemp'])\n",
    "        elif tr.stats.channel == 'MAN':\n",
    "            tr.data = convertTilt(tr, confPT['convPTN'], confPT['gainTilt'])\n",
    "        elif tr.stats.channel == 'MAE':\n",
    "            tr.data = convertTilt(tr, confPT['convPTE'], confPT['gainTilt'])\n",
    "\n",
    "        elif tr.stats.channel == 'LAT':\n",
    "            tr.data = convertTemp(tr, confBT['gainTemp'])\n",
    "        elif tr.stats.channel == 'LAN':\n",
    "            tr.data = convertTilt(tr, confBT['convBTN'], confBT['gainTilt'])\n",
    "        elif tr.stats.channel == 'LAE':\n",
    "            tr.data = convertTilt(tr, confBT['convBTE'], confBT['gainTilt'])\n",
    "\n",
    "    print(\"  -> converted data\")\n",
    "    return st"
   ]
  },
  {
   "cell_type": "code",
   "execution_count": 173,
   "id": "513fce1a",
   "metadata": {},
   "outputs": [
    {
     "name": "stdout",
     "output_type": "stream",
     "text": [
      "  -> converted data\n",
      "  -> converted data\n"
     ]
    }
   ],
   "source": [
    "pt = __conversion(pt, confBT, confPT)\n",
    "\n",
    "bt = __conversion(bt, confBT, confPT)"
   ]
  },
  {
   "cell_type": "code",
   "execution_count": 174,
   "id": "2fdc112d",
   "metadata": {},
   "outputs": [
    {
     "data": {
      "text/plain": [
       "3 Trace(s) in Stream:\n",
       "BW.DROMY..LAE | 2021-11-11T15:13:14.000000Z - 2021-11-24T00:03:00.000000Z | 1.0 Hz, 1068587 samples\n",
       "BW.DROMY..LAN | 2021-11-11T15:13:14.000000Z - 2021-11-24T00:01:33.000000Z | 1.0 Hz, 1068500 samples\n",
       "BW.DROMY..LAT | 2021-11-11T15:13:14.000000Z - 2021-11-24T00:02:55.000000Z | 1.0 Hz, 1068582 samples"
      ]
     },
     "execution_count": 174,
     "metadata": {},
     "output_type": "execute_result"
    }
   ],
   "source": [
    "bt"
   ]
  },
  {
   "cell_type": "code",
   "execution_count": 175,
   "id": "least-nurse",
   "metadata": {
    "ExecuteTime": {
     "end_time": "2021-07-01T17:01:21.967782Z",
     "start_time": "2021-07-01T17:01:21.715667Z"
    }
   },
   "outputs": [
    {
     "data": {
      "text/plain": [
       "(1 Trace(s) in Stream:\n",
       "BW.TROMY..MAT | 2021-11-11T15:13:14.240000Z - 2021-11-24T00:01:46.840000Z | 5.0 Hz, 5342564 samples,\n",
       " 1 Trace(s) in Stream:\n",
       "BW.TROMY..MAN | 2021-11-11T15:13:14.240000Z - 2021-11-24T00:00:30.440000Z | 5.0 Hz, 5342182 samples,\n",
       " 1 Trace(s) in Stream:\n",
       "BW.TROMY..MAN | 2021-11-11T15:13:14.240000Z - 2021-11-24T00:00:30.440000Z | 5.0 Hz, 5342182 samples,\n",
       " 1 Trace(s) in Stream:\n",
       "BW.DROMY..LAT | 2021-11-11T15:13:14.000000Z - 2021-11-24T00:02:55.000000Z | 1.0 Hz, 1068582 samples,\n",
       " 1 Trace(s) in Stream:\n",
       "BW.DROMY..LAN | 2021-11-11T15:13:14.000000Z - 2021-11-24T00:01:33.000000Z | 1.0 Hz, 1068500 samples,\n",
       " 1 Trace(s) in Stream:\n",
       "BW.DROMY..LAE | 2021-11-11T15:13:14.000000Z - 2021-11-24T00:03:00.000000Z | 1.0 Hz, 1068587 samples)"
      ]
     },
     "execution_count": 175,
     "metadata": {},
     "output_type": "execute_result"
    }
   ],
   "source": [
    "T, N, E = pt.select(channel='MAT'), pt.select(channel='MAN'), pt.select(channel='MAN')\n",
    "\n",
    "VT, VN, VE = bt.select(channel='LAT'), bt.select(channel='LAN'), bt.select(channel='LAE')\n",
    "\n",
    "T, N, E, VT, VN, VE"
   ]
  },
  {
   "cell_type": "code",
   "execution_count": 176,
   "id": "nuclear-finish",
   "metadata": {
    "ExecuteTime": {
     "start_time": "2021-07-01T16:44:22.557Z"
    }
   },
   "outputs": [],
   "source": [
    "f_new = 0.1\n",
    "\n",
    "N = N.resample(f_new)\n",
    "T = T.resample(f_new)\n",
    "E = E.resample(f_new)\n",
    "\n",
    "VN = VN.resample(f_new)\n",
    "VT = VT.resample(f_new)\n",
    "VE = VE.resample(f_new)"
   ]
  },
  {
   "cell_type": "markdown",
   "id": "published-apparel",
   "metadata": {},
   "source": [
    "#### cutout maintenance work and unreliable data"
   ]
  },
  {
   "cell_type": "code",
   "execution_count": 177,
   "id": "everyday-brand",
   "metadata": {
    "ExecuteTime": {
     "start_time": "2021-07-01T16:44:22.565Z"
    }
   },
   "outputs": [],
   "source": [
    "## maintenance interruption \n",
    "maintenancePT = [\n",
    "                (\"2021-03-02 16:00\", \"2021-03-02 19:00\"),\n",
    "                (\"2021-03-04 15:00\", \"2021-03-04 17:00\"),\n",
    "                (\"2021-03-04 23:30\", \"2021-03-05 00:30\"),\n",
    "                ]\n",
    "\n",
    "maintenanceBT = [\n",
    "                (\"2021-03-04 13:15\", \"2021-03-04 16:00\"),\n",
    "                (\"2021-03-09 10:45\", \"2021-03-09 11:30\"),\n",
    "                ]\n",
    "\n",
    "## data influenced probably py dehumidifier\n",
    "corrupt_data = [\n",
    "                (\"2021-02-15 16:00\", \"2021-02-24 14:00\" ),\n",
    "                (\"2021-03-02 14:00\", \"2021-03-09 17:00\"),\n",
    "               ]"
   ]
  },
  {
   "cell_type": "code",
   "execution_count": 178,
   "id": "attractive-entertainment",
   "metadata": {
    "ExecuteTime": {
     "start_time": "2021-07-01T16:44:22.569Z"
    }
   },
   "outputs": [
    {
     "data": {
      "text/plain": [
       "1 Trace(s) in Stream:\n",
       "BW.TROMY..MAT | 2021-11-11T15:13:14.240000Z - 2021-11-24T00:01:34.240000Z | 0.1 Hz, 106851 samples"
      ]
     },
     "execution_count": 178,
     "metadata": {},
     "output_type": "execute_result"
    },
    {
     "data": {
      "text/plain": [
       "1 Trace(s) in Stream:\n",
       "BW.TROMY..MAN | 2021-11-11T15:13:14.240000Z - 2021-11-24T00:00:14.240000Z | 0.1 Hz, 106843 samples"
      ]
     },
     "execution_count": 178,
     "metadata": {},
     "output_type": "execute_result"
    },
    {
     "data": {
      "text/plain": [
       "1 Trace(s) in Stream:\n",
       "BW.TROMY..MAN | 2021-11-11T15:13:14.240000Z - 2021-11-24T00:00:14.240000Z | 0.1 Hz, 106843 samples"
      ]
     },
     "execution_count": 178,
     "metadata": {},
     "output_type": "execute_result"
    },
    {
     "data": {
      "text/plain": [
       "1 Trace(s) in Stream:\n",
       "BW.TROMY..MAN | 2021-11-11T15:13:14.240000Z - 2021-11-24T00:00:14.240000Z | 0.1 Hz, 106843 samples"
      ]
     },
     "execution_count": 178,
     "metadata": {},
     "output_type": "execute_result"
    },
    {
     "data": {
      "text/plain": [
       "1 Trace(s) in Stream:\n",
       "BW.TROMY..MAN | 2021-11-11T15:13:14.240000Z - 2021-11-24T00:00:14.240000Z | 0.1 Hz, 106843 samples"
      ]
     },
     "execution_count": 178,
     "metadata": {},
     "output_type": "execute_result"
    },
    {
     "data": {
      "text/plain": [
       "1 Trace(s) in Stream:\n",
       "BW.TROMY..MAN | 2021-11-11T15:13:14.240000Z - 2021-11-24T00:00:14.240000Z | 0.1 Hz, 106843 samples"
      ]
     },
     "execution_count": 178,
     "metadata": {},
     "output_type": "execute_result"
    },
    {
     "data": {
      "text/plain": [
       "1 Trace(s) in Stream:\n",
       "BW.TROMY..MAN | 2021-11-11T15:13:14.240000Z - 2021-11-24T00:00:14.240000Z | 0.1 Hz, 106843 samples"
      ]
     },
     "execution_count": 178,
     "metadata": {},
     "output_type": "execute_result"
    },
    {
     "data": {
      "text/plain": [
       "1 Trace(s) in Stream:\n",
       "BW.TROMY..MAN | 2021-11-11T15:13:14.240000Z - 2021-11-24T00:00:14.240000Z | 0.1 Hz, 106843 samples"
      ]
     },
     "execution_count": 178,
     "metadata": {},
     "output_type": "execute_result"
    },
    {
     "data": {
      "text/plain": [
       "1 Trace(s) in Stream:\n",
       "BW.TROMY..MAN | 2021-11-11T15:13:14.240000Z - 2021-11-24T00:00:14.240000Z | 0.1 Hz, 106843 samples"
      ]
     },
     "execution_count": 178,
     "metadata": {},
     "output_type": "execute_result"
    },
    {
     "data": {
      "text/plain": [
       "1 Trace(s) in Stream:\n",
       "BW.TROMY..MAN | 2021-11-11T15:13:14.240000Z - 2021-11-24T00:00:14.240000Z | 0.1 Hz, 106843 samples"
      ]
     },
     "execution_count": 178,
     "metadata": {},
     "output_type": "execute_result"
    },
    {
     "data": {
      "text/plain": [
       "1 Trace(s) in Stream:\n",
       "BW.TROMY..MAN | 2021-11-11T15:13:14.240000Z - 2021-11-24T00:00:14.240000Z | 0.1 Hz, 106843 samples"
      ]
     },
     "execution_count": 178,
     "metadata": {},
     "output_type": "execute_result"
    },
    {
     "data": {
      "text/plain": [
       "1 Trace(s) in Stream:\n",
       "BW.TROMY..MAN | 2021-11-11T15:13:14.240000Z - 2021-11-24T00:00:14.240000Z | 0.1 Hz, 106843 samples"
      ]
     },
     "execution_count": 178,
     "metadata": {},
     "output_type": "execute_result"
    },
    {
     "data": {
      "text/plain": [
       "1 Trace(s) in Stream:\n",
       "BW.TROMY..MAN | 2021-11-11T15:13:14.240000Z - 2021-11-24T00:00:14.240000Z | 0.1 Hz, 106843 samples"
      ]
     },
     "execution_count": 178,
     "metadata": {},
     "output_type": "execute_result"
    },
    {
     "data": {
      "text/plain": [
       "1 Trace(s) in Stream:\n",
       "BW.DROMY..LAN | 2021-11-11T15:13:14.000000Z - 2021-11-24T00:01:24.000000Z | 0.1 Hz, 106850 samples"
      ]
     },
     "execution_count": 178,
     "metadata": {},
     "output_type": "execute_result"
    },
    {
     "data": {
      "text/plain": [
       "1 Trace(s) in Stream:\n",
       "BW.DROMY..LAN | 2021-11-11T15:13:14.000000Z - 2021-11-24T00:01:24.000000Z | 0.1 Hz, 106850 samples"
      ]
     },
     "execution_count": 178,
     "metadata": {},
     "output_type": "execute_result"
    },
    {
     "data": {
      "text/plain": [
       "1 Trace(s) in Stream:\n",
       "BW.DROMY..LAE | 2021-11-11T15:13:14.000000Z - 2021-11-24T00:02:44.000000Z | 0.1 Hz, 106858 samples"
      ]
     },
     "execution_count": 178,
     "metadata": {},
     "output_type": "execute_result"
    },
    {
     "data": {
      "text/plain": [
       "1 Trace(s) in Stream:\n",
       "BW.DROMY..LAE | 2021-11-11T15:13:14.000000Z - 2021-11-24T00:02:44.000000Z | 0.1 Hz, 106858 samples"
      ]
     },
     "execution_count": 178,
     "metadata": {},
     "output_type": "execute_result"
    },
    {
     "data": {
      "text/plain": [
       "1 Trace(s) in Stream:\n",
       "BW.DROMY..LAT | 2021-11-11T15:13:14.000000Z - 2021-11-24T00:02:44.000000Z | 0.1 Hz, 106858 samples"
      ]
     },
     "execution_count": 178,
     "metadata": {},
     "output_type": "execute_result"
    },
    {
     "data": {
      "text/plain": [
       "1 Trace(s) in Stream:\n",
       "BW.DROMY..LAT | 2021-11-11T15:13:14.000000Z - 2021-11-24T00:02:44.000000Z | 0.1 Hz, 106858 samples"
      ]
     },
     "execution_count": 178,
     "metadata": {},
     "output_type": "execute_result"
    },
    {
     "data": {
      "text/plain": [
       "1 Trace(s) in Stream:\n",
       "BW.DROMY..LAN | 2021-11-11T15:13:14.000000Z - 2021-11-24T00:01:24.000000Z | 0.1 Hz, 106850 samples"
      ]
     },
     "execution_count": 178,
     "metadata": {},
     "output_type": "execute_result"
    },
    {
     "data": {
      "text/plain": [
       "1 Trace(s) in Stream:\n",
       "BW.DROMY..LAN | 2021-11-11T15:13:14.000000Z - 2021-11-24T00:01:24.000000Z | 0.1 Hz, 106850 samples"
      ]
     },
     "execution_count": 178,
     "metadata": {},
     "output_type": "execute_result"
    },
    {
     "data": {
      "text/plain": [
       "1 Trace(s) in Stream:\n",
       "BW.DROMY..LAE | 2021-11-11T15:13:14.000000Z - 2021-11-24T00:02:44.000000Z | 0.1 Hz, 106858 samples"
      ]
     },
     "execution_count": 178,
     "metadata": {},
     "output_type": "execute_result"
    },
    {
     "data": {
      "text/plain": [
       "1 Trace(s) in Stream:\n",
       "BW.DROMY..LAE | 2021-11-11T15:13:14.000000Z - 2021-11-24T00:02:44.000000Z | 0.1 Hz, 106858 samples"
      ]
     },
     "execution_count": 178,
     "metadata": {},
     "output_type": "execute_result"
    },
    {
     "data": {
      "text/plain": [
       "1 Trace(s) in Stream:\n",
       "BW.DROMY..LAT | 2021-11-11T15:13:14.000000Z - 2021-11-24T00:02:44.000000Z | 0.1 Hz, 106858 samples"
      ]
     },
     "execution_count": 178,
     "metadata": {},
     "output_type": "execute_result"
    },
    {
     "data": {
      "text/plain": [
       "1 Trace(s) in Stream:\n",
       "BW.DROMY..LAT | 2021-11-11T15:13:14.000000Z - 2021-11-24T00:02:44.000000Z | 0.1 Hz, 106858 samples"
      ]
     },
     "execution_count": 178,
     "metadata": {},
     "output_type": "execute_result"
    }
   ],
   "source": [
    "## gain for Temperature channel of PT was not set correctly prior to 2021-03-03\n",
    "if T:\n",
    "    T.trim(UTCDateTime(correct_settings_temp_PT[0]), UTCDateTime(correct_settings_temp_PT[1]))\n",
    "\n",
    "    \n",
    "for service in maintenancePT:\n",
    "    \n",
    "    if N: \n",
    "        N.cutout(UTCDateTime(service[0]), UTCDateTime(service[1])); N.merge()\n",
    "\n",
    "    if E:\n",
    "        E.cutout(UTCDateTime(service[0]), UTCDateTime(service[1])); E.merge()\n",
    "\n",
    "        \n",
    "for service in maintenanceBT:\n",
    "    \n",
    "    if VN: \n",
    "        VN.cutout(UTCDateTime(service[0]), UTCDateTime(service[1])); VN.merge()\n",
    "\n",
    "    if VE:\n",
    "        VE.cutout(UTCDateTime(service[0]), UTCDateTime(service[1])); VE.merge()\n",
    "\n",
    "    if VT:\n",
    "        VT.cutout(UTCDateTime(service[0]), UTCDateTime(service[1])); VT.merge()\n",
    "        \n",
    "               "
   ]
  },
  {
   "cell_type": "code",
   "execution_count": 179,
   "id": "reduced-table",
   "metadata": {
    "ExecuteTime": {
     "start_time": "2021-07-01T16:44:22.572Z"
    }
   },
   "outputs": [],
   "source": [
    "# VT.trim(UTCDateTime(\"2021-03-02 12:00\"), UTCDateTime(\"2021-03-09 00:00\"))\n",
    "# plt.plot(VT)"
   ]
  },
  {
   "cell_type": "markdown",
   "id": "standing-float",
   "metadata": {
    "ExecuteTime": {
     "end_time": "2021-02-25T12:20:21.196290Z",
     "start_time": "2021-02-25T12:20:21.192658Z"
    }
   },
   "source": [
    "#### Filter Data"
   ]
  },
  {
   "cell_type": "code",
   "execution_count": 180,
   "id": "pending-frederick",
   "metadata": {
    "ExecuteTime": {
     "start_time": "2021-07-01T16:44:22.582Z"
    }
   },
   "outputs": [],
   "source": [
    "# Nc = N.copy()\n",
    "# Ec = E.copy()\n",
    "\n",
    "# f_upper = 0.1\n",
    "# Nc.filter('lowpass', freq=f_upper, corners=4, zerophase=True)\n",
    "# Ec.filter('lowpass', freq=f_upper, corners=4, zerophase=True)\n",
    "\n",
    "\n",
    "# # Vc = V.copy()\n",
    "# VNc = VN.copy()\n",
    "# VEc = VE.copy()\n",
    "\n",
    "# # Vc.filter('lowpass', freq=f_upper, corners=4, zerophase=True)\n",
    "# VNc.filter('lowpass', freq=f_upper, corners=4, zerophase=True)\n",
    "# VEc.filter('lowpass', freq=f_upper, corners=4, zerophase=True)\n"
   ]
  },
  {
   "cell_type": "markdown",
   "id": "obvious-imaging",
   "metadata": {
    "ExecuteTime": {
     "end_time": "2021-02-23T08:42:57.050040Z",
     "start_time": "2021-02-23T08:42:57.046253Z"
    }
   },
   "source": [
    "### Load Environmental Data"
   ]
  },
  {
   "cell_type": "code",
   "execution_count": 181,
   "id": "b2773285",
   "metadata": {
    "code_folding": [
     0
    ]
   },
   "outputs": [],
   "source": [
    "def __read_furt_data(config):\n",
    "    '''\n",
    "    Load data of FURT wather station\n",
    "    \n",
    "    '''\n",
    "    \n",
    "    import pandas as pd\n",
    "    from pathlib import Path\n",
    "    from numpy import arange\n",
    "    \n",
    "    \n",
    "    path_to_archive = '/bay200/gif_online/FURT/WETTER/'\n",
    "        \n",
    "    if not Path(path_to_archive).exists():\n",
    "        print(f\"  -> Path: {path_to_archive}, does not exists!\")\n",
    "        return    \n",
    "    \n",
    "    \n",
    "    df = pd.DataFrame()\n",
    "    \n",
    "    for i, date in enumerate(arange(config['tbeg'].date, (config['tend']+86400).date)):\n",
    "        \n",
    "        date = UTCDateTime(str(date)).date\n",
    "        filename = f'FURT.WSX.D.{str(date.day).rjust(2,\"0\")}{str(date.month).rjust(2,\"0\")}{str(date.year).rjust(2,\"0\")[-2:]}.0000'\n",
    "        \n",
    "        print(f'   reading {filename} ...')\n",
    "\n",
    "        try:\n",
    "\n",
    "            df0 = pd.read_csv(path_to_archive+filename, usecols=[0,1,10,12,13], names=['date', 'time', 'T', 'H', 'P'])\n",
    "            \n",
    "            ## substitute strings with floats\n",
    "            df0['T'] = df0['T'].str.split(\"=\", expand=True)[1].str.split(\"C\", expand=True)[0].astype(float)\n",
    "            df0['P'] = df0['P'].str.split(\"=\", expand=True)[1].str.split(\"H\", expand=True)[0].astype(float)\n",
    "            df0['H'] = df0['H'].str.split(\"=\", expand=True)[1].str.split(\"P\", expand=True)[0].astype(float)\n",
    "            \n",
    "            \n",
    "            ## replace error indicating values (-9999, 999.9) with NaN values\n",
    "            df0.replace(to_replace=-9999, value=nan, inplace=True)\n",
    "            df0.replace(to_replace=999.9, value=nan, inplace=True)\n",
    "            \n",
    "            \n",
    "            if df.empty:\n",
    "                df = df0\n",
    "            else: \n",
    "                df = pd.concat([df, df0])\n",
    "        except:\n",
    "            print(f\"  -> File: {filename}, does not exists!\")\n",
    "   \n",
    "    df.reset_index(inplace=True, drop=True)\n",
    "    \n",
    "    return df"
   ]
  },
  {
   "cell_type": "code",
   "execution_count": 182,
   "id": "86915748",
   "metadata": {
    "code_folding": [
     0
    ]
   },
   "outputs": [],
   "source": [
    "def __processing_FURT(data, config):\n",
    "    \n",
    "    filter_length = 10*config['resample']\n",
    "    \n",
    "    data.iloc[:,3:6] = data.iloc[:,3:6].rolling(filter_length).mean() \n",
    "    print(f\"Filter: rooling mean {filter_length}!\")\n",
    "    \n",
    "    data = data[data.index % config['resample'] == 0]\n",
    "    print(f\"Resampling: keep every {config['resample']}nth sample!\")\n",
    "    \n",
    "    return data"
   ]
  },
  {
   "cell_type": "code",
   "execution_count": 183,
   "id": "6d12174f",
   "metadata": {},
   "outputs": [
    {
     "name": "stdout",
     "output_type": "stream",
     "text": [
      "   reading FURT.WSX.D.111121.0000 ...\n",
      "   reading FURT.WSX.D.121121.0000 ...\n",
      "   reading FURT.WSX.D.131121.0000 ...\n",
      "   reading FURT.WSX.D.141121.0000 ...\n",
      "   reading FURT.WSX.D.151121.0000 ...\n",
      "   reading FURT.WSX.D.161121.0000 ...\n",
      "   reading FURT.WSX.D.171121.0000 ...\n",
      "   reading FURT.WSX.D.181121.0000 ...\n",
      "   reading FURT.WSX.D.191121.0000 ...\n",
      "   reading FURT.WSX.D.201121.0000 ...\n",
      "   reading FURT.WSX.D.211121.0000 ...\n",
      "   reading FURT.WSX.D.221121.0000 ...\n",
      "   reading FURT.WSX.D.231121.0000 ...\n",
      "   reading FURT.WSX.D.241121.0000 ...\n",
      "   reading FURT.WSX.D.251121.0000 ...\n",
      "   reading FURT.WSX.D.261121.0000 ...\n"
     ]
    }
   ],
   "source": [
    "FURT = __read_furt_data(config)"
   ]
  },
  {
   "cell_type": "code",
   "execution_count": 112,
   "id": "dc90604e",
   "metadata": {},
   "outputs": [
    {
     "name": "stderr",
     "output_type": "stream",
     "text": [
      "/home/brotzer/anaconda3/lib/python3.7/site-packages/pandas/core/indexing.py:1717: SettingWithCopyWarning: \n",
      "A value is trying to be set on a copy of a slice from a DataFrame.\n",
      "Try using .loc[row_indexer,col_indexer] = value instead\n",
      "\n",
      "See the caveats in the documentation: https://pandas.pydata.org/pandas-docs/stable/user_guide/indexing.html#returning-a-view-versus-a-copy\n",
      "  isetter(loc, v)\n"
     ]
    },
    {
     "name": "stdout",
     "output_type": "stream",
     "text": [
      "Filter: rooling mean 100!\n",
      "Resampling: keep every 10nth sample!\n"
     ]
    }
   ],
   "source": [
    "FURT = FURT[['date', 'time', 'T', 'P', 'H']]\n",
    "\n",
    "config['resample'] = 10\n",
    "FURT = __processing_FURT(FURT, config)\n",
    "\n",
    "## add a column with day of year\n",
    "FURT['doy'] = [int(UTCDateTime(f'20{str(dat).rjust(6,\"0\")[-2:]}-{str(dat).rjust(6,\"0\")[-4:-2]}-{str(dat).rjust(6,\"0\")[-6:-4]}').julday) for dat in FURT.date]"
   ]
  },
  {
   "cell_type": "code",
   "execution_count": 114,
   "id": "prescribed-meditation",
   "metadata": {
    "ExecuteTime": {
     "start_time": "2021-07-01T16:44:22.590Z"
    },
    "code_folding": [
     0
    ],
    "scrolled": true
   },
   "outputs": [],
   "source": [
    "# files = !ls $path2\n",
    "# for j, file in enumerate(files): \n",
    "    \n",
    "#     every_nth=10\n",
    "\n",
    "#     if j == 0: \n",
    "#         df = read_csv(file, delimiter=\" \")\n",
    "#         df = df[::every_nth]\n",
    "        \n",
    "#         doy=[]\n",
    "#         for date in df.date:\n",
    "\n",
    "#             date=str(date)\n",
    "#             doy.append(int(obspy.UTCDateTime(f\"20{date[-2:]}-{date[-4:-2]}-{date[:-4]}\").julday))\n",
    "#         df['doy'] = doy\n",
    "#         FURT = df\n",
    "#     else:\n",
    "#         df = read_csv(file, delimiter=\" \")\n",
    "#         df = df[::every_nth]\n",
    "        \n",
    "#         doy = []\n",
    "#         for date in df.date:\n",
    "\n",
    "#             date=str(date)\n",
    "#             doy.append(int(obspy.UTCDateTime(f\"20{date[-2:]}-{date[-4:-2]}-{date[:-4]}\").julday))\n",
    "#         df['doy'] = doy       \n",
    "    \n",
    "#         FURT = FURT.append(df, ignore_index=True)\n",
    "#         del df\n",
    "        \n",
    "#     print(j, file, len(FURT))\n"
   ]
  },
  {
   "cell_type": "code",
   "execution_count": 115,
   "id": "answering-disposal",
   "metadata": {
    "ExecuteTime": {
     "start_time": "2021-07-01T16:44:22.593Z"
    }
   },
   "outputs": [],
   "source": [
    "# FURT = FURT[FURT.doy >= obspy.UTCDateTime(tbeg).julday]\n",
    "# FURT = FURT.reset_index(drop=True)"
   ]
  },
  {
   "cell_type": "code",
   "execution_count": 116,
   "id": "ignored-eating",
   "metadata": {
    "ExecuteTime": {
     "start_time": "2021-07-01T16:44:22.596Z"
    },
    "code_folding": [
     0
    ]
   },
   "outputs": [
    {
     "name": "stderr",
     "output_type": "stream",
     "text": [
      "/home/brotzer/anaconda3/lib/python3.7/site-packages/numpy/core/fromnumeric.py:3420: RuntimeWarning: Mean of empty slice.\n",
      "  out=out, **kwargs)\n",
      "/home/brotzer/anaconda3/lib/python3.7/site-packages/numpy/core/_methods.py:188: RuntimeWarning: invalid value encountered in double_scalars\n",
      "  ret = ret.dtype.type(ret / rcount)\n"
     ]
    }
   ],
   "source": [
    "def __get_vector(N, E, Twin=3600):\n",
    "\n",
    "    from numpy import median, sqrt, arctan, degrees, mod, array, append, rad2deg\n",
    "\n",
    "    \n",
    "    dt = N[0].stats.delta\n",
    "    t1 = N[0].stats.starttime\n",
    "    t1 = 0\n",
    "\n",
    "    Ndata = N[0].data\n",
    "    Edata = E[0].data\n",
    "\n",
    "    vnorm, vdir, timeline = [], [], []\n",
    "    while (t1 + Twin*dt) < N[0].stats.npts:\n",
    "\n",
    "\n",
    "        Nmed = median(Ndata[int(t1*dt):int((t1+Twin)*dt)])\n",
    "        Emed = median(Edata[int(t1*dt):int((t1+Twin)*dt)])\n",
    "\n",
    "        vnorm.append(sqrt(Nmed**2 + Emed**2))\n",
    "    #     vdir.append(mod(degrees(arctan(Nmed/Emed)), 360))\n",
    "        vdir.append(rad2deg(arctan(Nmed/Emed)))\n",
    "\n",
    "        t1 += Twin/2*dt\n",
    "    \n",
    "        timeline.append(t1*dt)\n",
    "    \n",
    "    \n",
    "    time_offset = N[0].stats.starttime.hour*3600+ N[0].stats.starttime.minute*60 + N[0].stats.starttime.second\n",
    "    timeline = ( array(timeline) + time_offset ) / 3600 /24 # in hours\n",
    "    \n",
    "    return timeline, array(vdir), array(vnorm)\n",
    "\n",
    "vtimeline, vdir, vnorm = __get_vector(N, E, Twin=3600)"
   ]
  },
  {
   "cell_type": "markdown",
   "id": "detailed-france",
   "metadata": {},
   "source": [
    "### Plotting"
   ]
  },
  {
   "cell_type": "markdown",
   "id": "given-browser",
   "metadata": {},
   "source": [
    "#### Plot 25.01.21 - 15.02.21  Southern Shaft"
   ]
  },
  {
   "cell_type": "code",
   "execution_count": 184,
   "id": "municipal-chicago",
   "metadata": {
    "ExecuteTime": {
     "start_time": "2021-07-01T16:44:22.609Z"
    },
    "code_folding": [
     1
    ]
   },
   "outputs": [],
   "source": [
    "\n",
    "def __makeplote_tilt_southshaft():\n",
    "    fig, ax = plt.subplots(6, 1, figsize=(15,10), sharex=True)\n",
    "\n",
    "    font=14\n",
    "\n",
    "    ## creat timeline for environmental data\n",
    "    TT = N[0].stats.delta*N[0].stats.npts\n",
    "    dt = (FURT.time[3]-FURT.time[2])\n",
    "    timeline1 = linspace(0, TT, FURT.time.size)/3600/24\n",
    "\n",
    "    ## create a timeline for the traces starting from 14:00\n",
    "    t1 = N[0].stats.starttime.hour*3600+ N[0].stats.starttime.minute*60 + N[0].stats.starttime.second\n",
    "    days = abs(N[0].stats.starttime.julday - N[0].stats.endtime.julday)\n",
    "    t2 = days*86400+N[0].stats.endtime.hour*3600+ N[0].stats.endtime.minute*60 + N[0].stats.endtime.second\n",
    "\n",
    "    timelineN = arange(t1, t2+1*N[0].stats.delta, N[0].stats.delta)/3600/24\n",
    "\n",
    "\n",
    "    t1 = E[0].stats.starttime.hour*3600+ E[0].stats.starttime.minute*60 + E[0].stats.starttime.second\n",
    "    days = abs(E[0].stats.starttime.julday - E[0].stats.endtime.julday)\n",
    "    t2 = days*86400+E[0].stats.endtime.hour*3600+ E[0].stats.endtime.minute*60 + E[0].stats.endtime.second\n",
    "\n",
    "    timelineE = arange(t1, t2+2*E[0].stats.delta, E[0].stats.delta)/3600/24\n",
    "\n",
    "\n",
    "\n",
    "    ## actual plotting\n",
    "\n",
    "    ax[0].plot(timelineN, N[0].data*1e6, color='black', label=\"raw\")\n",
    "    ax[0].plot(timelineN, Nc[0].data*1e6, color='orange', lw=0.5, label=\"lowpass 1 Hz\")\n",
    "\n",
    "    ax[1].plot(timelineE, E[0].data*1e6, color='black', label=\"raw\")\n",
    "    ax[1].plot(timelineE, Ec[0].data*1e6, color='orange', lw=0.5, label=\"lowpass 1 Hz\")\n",
    "\n",
    "\n",
    "    vec = ax[2].scatter(vtimeline, vdir, c=vnorm, s=3)\n",
    "\n",
    "\n",
    "    ax[3].plot(timeline1, FURT.ta, color='darkred')\n",
    "    ax[4].plot(timeline1, FURT.pa, color='darkblue')\n",
    "    ax[5].plot(timeline1, FURT.rc, color='purple')\n",
    "\n",
    "    ax[0].set_ylabel(r\"Tilt ($\\mu$rad)\", fontsize=font)\n",
    "    ax[1].set_ylabel(r\"Tilt ($\\mu$rad)\", fontsize=font)\n",
    "    ax[2].set_ylabel(\"2D Vector (°)\", fontsize=font)\n",
    "    ax[3].set_ylabel(\"Temp. (°C)\", fontsize=font)\n",
    "    ax[4].set_ylabel(\"Pressure (hPa)\", fontsize=font)\n",
    "    ax[5].set_ylabel(\"Rain (mm)\", fontsize=font)\n",
    "\n",
    "    ax[0].legend(loc=\"upper left\")\n",
    "    ax[1].legend(loc=\"upper left\")\n",
    "\n",
    "    for i in range(6):\n",
    "        ax[i].grid(color='grey', alpha=0.5, ls='--')\n",
    "\n",
    "    ax[4].set_xticks(arange(0,22,1))\n",
    "    ax[4].set_xticklabels(FURT.doy.sort_values().unique())\n",
    "\n",
    "    ax[5].set_xlabel(f\"Day of year 2021\", fontsize=font)\n",
    "\n",
    "    ax[4].set_xlim(timeline1[0]-0.1, timeline1[-1]+0.1)\n",
    "\n",
    "    ax[0].set_ylim(-12, 10)\n",
    "\n",
    "    ax[1].set_ylim(-15, 0)\n",
    "\n",
    "\n",
    "    cbaxes = fig.add_axes([0.73, 0.58, 0.15, 0.02])\n",
    "    plt.colorbar(vec, ax=ax[2],  cax=cbaxes, orientation='horizontal')\n",
    "\n",
    "    fig.text(0.75, 0.605,  \n",
    "             'Vector length ($\\mu$rad)',   \n",
    "             fontsize = 12, \n",
    "             color = \"black\",\n",
    "            ) \n",
    "\n",
    "    plt.show();\n"
   ]
  },
  {
   "cell_type": "code",
   "execution_count": 121,
   "id": "included-japan",
   "metadata": {
    "ExecuteTime": {
     "start_time": "2021-07-01T16:44:22.612Z"
    }
   },
   "outputs": [
    {
     "ename": "KeyError",
     "evalue": "3",
     "output_type": "error",
     "traceback": [
      "\u001b[0;31m---------------------------------------------------------------------------\u001b[0m",
      "\u001b[0;31mKeyError\u001b[0m                                  Traceback (most recent call last)",
      "\u001b[0;32m~/anaconda3/lib/python3.7/site-packages/pandas/core/indexes/base.py\u001b[0m in \u001b[0;36mget_loc\u001b[0;34m(self, key, method, tolerance)\u001b[0m\n\u001b[1;32m   2888\u001b[0m             \u001b[0;32mtry\u001b[0m\u001b[0;34m:\u001b[0m\u001b[0;34m\u001b[0m\u001b[0;34m\u001b[0m\u001b[0m\n\u001b[0;32m-> 2889\u001b[0;31m                 \u001b[0;32mreturn\u001b[0m \u001b[0mself\u001b[0m\u001b[0;34m.\u001b[0m\u001b[0m_engine\u001b[0m\u001b[0;34m.\u001b[0m\u001b[0mget_loc\u001b[0m\u001b[0;34m(\u001b[0m\u001b[0mcasted_key\u001b[0m\u001b[0;34m)\u001b[0m\u001b[0;34m\u001b[0m\u001b[0;34m\u001b[0m\u001b[0m\n\u001b[0m\u001b[1;32m   2890\u001b[0m             \u001b[0;32mexcept\u001b[0m \u001b[0mKeyError\u001b[0m \u001b[0;32mas\u001b[0m \u001b[0merr\u001b[0m\u001b[0;34m:\u001b[0m\u001b[0;34m\u001b[0m\u001b[0;34m\u001b[0m\u001b[0m\n",
      "\u001b[0;32mpandas/_libs/index.pyx\u001b[0m in \u001b[0;36mpandas._libs.index.IndexEngine.get_loc\u001b[0;34m()\u001b[0m\n",
      "\u001b[0;32mpandas/_libs/index.pyx\u001b[0m in \u001b[0;36mpandas._libs.index.IndexEngine.get_loc\u001b[0;34m()\u001b[0m\n",
      "\u001b[0;32mpandas/_libs/hashtable_class_helper.pxi\u001b[0m in \u001b[0;36mpandas._libs.hashtable.Int64HashTable.get_item\u001b[0;34m()\u001b[0m\n",
      "\u001b[0;32mpandas/_libs/hashtable_class_helper.pxi\u001b[0m in \u001b[0;36mpandas._libs.hashtable.Int64HashTable.get_item\u001b[0;34m()\u001b[0m\n",
      "\u001b[0;31mKeyError\u001b[0m: 3",
      "\nThe above exception was the direct cause of the following exception:\n",
      "\u001b[0;31mKeyError\u001b[0m                                  Traceback (most recent call last)",
      "\u001b[0;32m<ipython-input-121-70dc429ca415>\u001b[0m in \u001b[0;36m<module>\u001b[0;34m\u001b[0m\n\u001b[0;32m----> 1\u001b[0;31m \u001b[0m__makeplote_tilt_southshaft\u001b[0m\u001b[0;34m(\u001b[0m\u001b[0;34m)\u001b[0m\u001b[0;34m\u001b[0m\u001b[0;34m\u001b[0m\u001b[0m\n\u001b[0m",
      "\u001b[0;32m<ipython-input-120-7e0a71da46e4>\u001b[0m in \u001b[0;36m__makeplote_tilt_southshaft\u001b[0;34m()\u001b[0m\n\u001b[1;32m      6\u001b[0m     \u001b[0;31m## creat timeline for environmental data\u001b[0m\u001b[0;34m\u001b[0m\u001b[0;34m\u001b[0m\u001b[0;34m\u001b[0m\u001b[0m\n\u001b[1;32m      7\u001b[0m     \u001b[0mTT\u001b[0m \u001b[0;34m=\u001b[0m \u001b[0mN\u001b[0m\u001b[0;34m[\u001b[0m\u001b[0;36m0\u001b[0m\u001b[0;34m]\u001b[0m\u001b[0;34m.\u001b[0m\u001b[0mstats\u001b[0m\u001b[0;34m.\u001b[0m\u001b[0mdelta\u001b[0m\u001b[0;34m*\u001b[0m\u001b[0mN\u001b[0m\u001b[0;34m[\u001b[0m\u001b[0;36m0\u001b[0m\u001b[0;34m]\u001b[0m\u001b[0;34m.\u001b[0m\u001b[0mstats\u001b[0m\u001b[0;34m.\u001b[0m\u001b[0mnpts\u001b[0m\u001b[0;34m\u001b[0m\u001b[0;34m\u001b[0m\u001b[0m\n\u001b[0;32m----> 8\u001b[0;31m     \u001b[0mdt\u001b[0m \u001b[0;34m=\u001b[0m \u001b[0;34m(\u001b[0m\u001b[0mFURT\u001b[0m\u001b[0;34m.\u001b[0m\u001b[0mtime\u001b[0m\u001b[0;34m[\u001b[0m\u001b[0;36m3\u001b[0m\u001b[0;34m]\u001b[0m\u001b[0;34m-\u001b[0m\u001b[0mFURT\u001b[0m\u001b[0;34m.\u001b[0m\u001b[0mtime\u001b[0m\u001b[0;34m[\u001b[0m\u001b[0;36m2\u001b[0m\u001b[0;34m]\u001b[0m\u001b[0;34m)\u001b[0m\u001b[0;34m\u001b[0m\u001b[0;34m\u001b[0m\u001b[0m\n\u001b[0m\u001b[1;32m      9\u001b[0m     \u001b[0mtimeline1\u001b[0m \u001b[0;34m=\u001b[0m \u001b[0mlinspace\u001b[0m\u001b[0;34m(\u001b[0m\u001b[0;36m0\u001b[0m\u001b[0;34m,\u001b[0m \u001b[0mTT\u001b[0m\u001b[0;34m,\u001b[0m \u001b[0mFURT\u001b[0m\u001b[0;34m.\u001b[0m\u001b[0mtime\u001b[0m\u001b[0;34m.\u001b[0m\u001b[0msize\u001b[0m\u001b[0;34m)\u001b[0m\u001b[0;34m/\u001b[0m\u001b[0;36m3600\u001b[0m\u001b[0;34m/\u001b[0m\u001b[0;36m24\u001b[0m\u001b[0;34m\u001b[0m\u001b[0;34m\u001b[0m\u001b[0m\n\u001b[1;32m     10\u001b[0m \u001b[0;34m\u001b[0m\u001b[0m\n",
      "\u001b[0;32m~/anaconda3/lib/python3.7/site-packages/pandas/core/series.py\u001b[0m in \u001b[0;36m__getitem__\u001b[0;34m(self, key)\u001b[0m\n\u001b[1;32m    880\u001b[0m \u001b[0;34m\u001b[0m\u001b[0m\n\u001b[1;32m    881\u001b[0m         \u001b[0;32melif\u001b[0m \u001b[0mkey_is_scalar\u001b[0m\u001b[0;34m:\u001b[0m\u001b[0;34m\u001b[0m\u001b[0;34m\u001b[0m\u001b[0m\n\u001b[0;32m--> 882\u001b[0;31m             \u001b[0;32mreturn\u001b[0m \u001b[0mself\u001b[0m\u001b[0;34m.\u001b[0m\u001b[0m_get_value\u001b[0m\u001b[0;34m(\u001b[0m\u001b[0mkey\u001b[0m\u001b[0;34m)\u001b[0m\u001b[0;34m\u001b[0m\u001b[0;34m\u001b[0m\u001b[0m\n\u001b[0m\u001b[1;32m    883\u001b[0m \u001b[0;34m\u001b[0m\u001b[0m\n\u001b[1;32m    884\u001b[0m         if (\n",
      "\u001b[0;32m~/anaconda3/lib/python3.7/site-packages/pandas/core/series.py\u001b[0m in \u001b[0;36m_get_value\u001b[0;34m(self, label, takeable)\u001b[0m\n\u001b[1;32m    989\u001b[0m \u001b[0;34m\u001b[0m\u001b[0m\n\u001b[1;32m    990\u001b[0m         \u001b[0;31m# Similar to Index.get_value, but we do not fall back to positional\u001b[0m\u001b[0;34m\u001b[0m\u001b[0;34m\u001b[0m\u001b[0;34m\u001b[0m\u001b[0m\n\u001b[0;32m--> 991\u001b[0;31m         \u001b[0mloc\u001b[0m \u001b[0;34m=\u001b[0m \u001b[0mself\u001b[0m\u001b[0;34m.\u001b[0m\u001b[0mindex\u001b[0m\u001b[0;34m.\u001b[0m\u001b[0mget_loc\u001b[0m\u001b[0;34m(\u001b[0m\u001b[0mlabel\u001b[0m\u001b[0;34m)\u001b[0m\u001b[0;34m\u001b[0m\u001b[0;34m\u001b[0m\u001b[0m\n\u001b[0m\u001b[1;32m    992\u001b[0m         \u001b[0;32mreturn\u001b[0m \u001b[0mself\u001b[0m\u001b[0;34m.\u001b[0m\u001b[0mindex\u001b[0m\u001b[0;34m.\u001b[0m\u001b[0m_get_values_for_loc\u001b[0m\u001b[0;34m(\u001b[0m\u001b[0mself\u001b[0m\u001b[0;34m,\u001b[0m \u001b[0mloc\u001b[0m\u001b[0;34m,\u001b[0m \u001b[0mlabel\u001b[0m\u001b[0;34m)\u001b[0m\u001b[0;34m\u001b[0m\u001b[0;34m\u001b[0m\u001b[0m\n\u001b[1;32m    993\u001b[0m \u001b[0;34m\u001b[0m\u001b[0m\n",
      "\u001b[0;32m~/anaconda3/lib/python3.7/site-packages/pandas/core/indexes/base.py\u001b[0m in \u001b[0;36mget_loc\u001b[0;34m(self, key, method, tolerance)\u001b[0m\n\u001b[1;32m   2889\u001b[0m                 \u001b[0;32mreturn\u001b[0m \u001b[0mself\u001b[0m\u001b[0;34m.\u001b[0m\u001b[0m_engine\u001b[0m\u001b[0;34m.\u001b[0m\u001b[0mget_loc\u001b[0m\u001b[0;34m(\u001b[0m\u001b[0mcasted_key\u001b[0m\u001b[0;34m)\u001b[0m\u001b[0;34m\u001b[0m\u001b[0;34m\u001b[0m\u001b[0m\n\u001b[1;32m   2890\u001b[0m             \u001b[0;32mexcept\u001b[0m \u001b[0mKeyError\u001b[0m \u001b[0;32mas\u001b[0m \u001b[0merr\u001b[0m\u001b[0;34m:\u001b[0m\u001b[0;34m\u001b[0m\u001b[0;34m\u001b[0m\u001b[0m\n\u001b[0;32m-> 2891\u001b[0;31m                 \u001b[0;32mraise\u001b[0m \u001b[0mKeyError\u001b[0m\u001b[0;34m(\u001b[0m\u001b[0mkey\u001b[0m\u001b[0;34m)\u001b[0m \u001b[0;32mfrom\u001b[0m \u001b[0merr\u001b[0m\u001b[0;34m\u001b[0m\u001b[0;34m\u001b[0m\u001b[0m\n\u001b[0m\u001b[1;32m   2892\u001b[0m \u001b[0;34m\u001b[0m\u001b[0m\n\u001b[1;32m   2893\u001b[0m         \u001b[0;32mif\u001b[0m \u001b[0mtolerance\u001b[0m \u001b[0;32mis\u001b[0m \u001b[0;32mnot\u001b[0m \u001b[0;32mNone\u001b[0m\u001b[0;34m:\u001b[0m\u001b[0;34m\u001b[0m\u001b[0;34m\u001b[0m\u001b[0m\n",
      "\u001b[0;31mKeyError\u001b[0m: 3"
     ]
    },
    {
     "data": {
      "image/png": "[encoded data removed]",
      "text/plain": [
       "<Figure size 1080x720 with 6 Axes>"
      ]
     },
     "metadata": {
      "needs_background": "light"
     },
     "output_type": "display_data"
    }
   ],
   "source": [
    "# __makeplote_tilt_southshaft()"
   ]
  },
  {
   "cell_type": "markdown",
   "id": "least-canberra",
   "metadata": {},
   "source": [
    "#### Plot 15.02.21 - 22.02.21  NE-Shaft"
   ]
  },
  {
   "cell_type": "code",
   "execution_count": null,
   "id": "dc1fac2c",
   "metadata": {},
   "outputs": [],
   "source": []
  },
  {
   "cell_type": "code",
   "execution_count": 185,
   "id": "invisible-wages",
   "metadata": {
    "ExecuteTime": {
     "start_time": "2021-07-01T16:44:22.622Z"
    },
    "code_folding": [
     1
    ]
   },
   "outputs": [
    {
     "ename": "AttributeError",
     "evalue": "'DataFrame' object has no attribute 'doy'",
     "output_type": "error",
     "traceback": [
      "\u001b[0;31m---------------------------------------------------------------------------\u001b[0m",
      "\u001b[0;31mAttributeError\u001b[0m                            Traceback (most recent call last)",
      "\u001b[0;32m<ipython-input-185-88335cc46b1c>\u001b[0m in \u001b[0;36m<module>\u001b[0;34m\u001b[0m\n\u001b[1;32m    133\u001b[0m \u001b[0;34m\u001b[0m\u001b[0m\n\u001b[1;32m    134\u001b[0m \u001b[0;34m\u001b[0m\u001b[0m\n\u001b[0;32m--> 135\u001b[0;31m \u001b[0mfig\u001b[0m \u001b[0;34m=\u001b[0m \u001b[0m__makeplot_tilt_NEshaft\u001b[0m\u001b[0;34m(\u001b[0m\u001b[0;34m)\u001b[0m\u001b[0;34m\u001b[0m\u001b[0;34m\u001b[0m\u001b[0m\n\u001b[0m\u001b[1;32m    136\u001b[0m \u001b[0;34m\u001b[0m\u001b[0m\n\u001b[1;32m    137\u001b[0m \u001b[0;31m# if save:\u001b[0m\u001b[0;34m\u001b[0m\u001b[0;34m\u001b[0m\u001b[0;34m\u001b[0m\u001b[0m\n",
      "\u001b[0;32m<ipython-input-185-88335cc46b1c>\u001b[0m in \u001b[0;36m__makeplot_tilt_NEshaft\u001b[0;34m()\u001b[0m\n\u001b[1;32m      8\u001b[0m     \u001b[0;31m## creat timeline for environmental data\u001b[0m\u001b[0;34m\u001b[0m\u001b[0;34m\u001b[0m\u001b[0;34m\u001b[0m\u001b[0m\n\u001b[1;32m      9\u001b[0m     \u001b[0mdt\u001b[0m \u001b[0;34m=\u001b[0m \u001b[0;36m1.0\u001b[0m \u001b[0;31m# (FURT.time[3]-FURT.time[2])\u001b[0m\u001b[0;34m\u001b[0m\u001b[0;34m\u001b[0m\u001b[0m\n\u001b[0;32m---> 10\u001b[0;31m     \u001b[0mtimeline1\u001b[0m \u001b[0;34m=\u001b[0m \u001b[0mlinspace\u001b[0m\u001b[0;34m(\u001b[0m\u001b[0;36m0\u001b[0m\u001b[0;34m,\u001b[0m \u001b[0mFURT\u001b[0m\u001b[0;34m.\u001b[0m\u001b[0mtime\u001b[0m\u001b[0;34m.\u001b[0m\u001b[0msize\u001b[0m\u001b[0;34m*\u001b[0m\u001b[0mdt\u001b[0m \u001b[0;34m,\u001b[0m \u001b[0mFURT\u001b[0m\u001b[0;34m.\u001b[0m\u001b[0mtime\u001b[0m\u001b[0;34m.\u001b[0m\u001b[0msize\u001b[0m\u001b[0;34m)\u001b[0m\u001b[0;34m/\u001b[0m\u001b[0;36m3600\u001b[0m\u001b[0;34m/\u001b[0m\u001b[0;36m24\u001b[0m \u001b[0;34m+\u001b[0m \u001b[0mFURT\u001b[0m\u001b[0;34m.\u001b[0m\u001b[0mdoy\u001b[0m\u001b[0;34m[\u001b[0m\u001b[0;36m0\u001b[0m\u001b[0;34m]\u001b[0m\u001b[0;34m\u001b[0m\u001b[0;34m\u001b[0m\u001b[0m\n\u001b[0m\u001b[1;32m     11\u001b[0m \u001b[0;34m\u001b[0m\u001b[0m\n\u001b[1;32m     12\u001b[0m     \u001b[0;31m## create a timeline for the traces starting from 14:00\u001b[0m\u001b[0;34m\u001b[0m\u001b[0;34m\u001b[0m\u001b[0;34m\u001b[0m\u001b[0m\n",
      "\u001b[0;32m~/anaconda3/lib/python3.7/site-packages/pandas/core/generic.py\u001b[0m in \u001b[0;36m__getattr__\u001b[0;34m(self, name)\u001b[0m\n\u001b[1;32m   5128\u001b[0m             \u001b[0;32mif\u001b[0m \u001b[0mself\u001b[0m\u001b[0;34m.\u001b[0m\u001b[0m_info_axis\u001b[0m\u001b[0;34m.\u001b[0m\u001b[0m_can_hold_identifiers_and_holds_name\u001b[0m\u001b[0;34m(\u001b[0m\u001b[0mname\u001b[0m\u001b[0;34m)\u001b[0m\u001b[0;34m:\u001b[0m\u001b[0;34m\u001b[0m\u001b[0;34m\u001b[0m\u001b[0m\n\u001b[1;32m   5129\u001b[0m                 \u001b[0;32mreturn\u001b[0m \u001b[0mself\u001b[0m\u001b[0;34m[\u001b[0m\u001b[0mname\u001b[0m\u001b[0;34m]\u001b[0m\u001b[0;34m\u001b[0m\u001b[0;34m\u001b[0m\u001b[0m\n\u001b[0;32m-> 5130\u001b[0;31m             \u001b[0;32mreturn\u001b[0m \u001b[0mobject\u001b[0m\u001b[0;34m.\u001b[0m\u001b[0m__getattribute__\u001b[0m\u001b[0;34m(\u001b[0m\u001b[0mself\u001b[0m\u001b[0;34m,\u001b[0m \u001b[0mname\u001b[0m\u001b[0;34m)\u001b[0m\u001b[0;34m\u001b[0m\u001b[0;34m\u001b[0m\u001b[0m\n\u001b[0m\u001b[1;32m   5131\u001b[0m \u001b[0;34m\u001b[0m\u001b[0m\n\u001b[1;32m   5132\u001b[0m     \u001b[0;32mdef\u001b[0m \u001b[0m__setattr__\u001b[0m\u001b[0;34m(\u001b[0m\u001b[0mself\u001b[0m\u001b[0;34m,\u001b[0m \u001b[0mname\u001b[0m\u001b[0;34m:\u001b[0m \u001b[0mstr\u001b[0m\u001b[0;34m,\u001b[0m \u001b[0mvalue\u001b[0m\u001b[0;34m)\u001b[0m \u001b[0;34m->\u001b[0m \u001b[0;32mNone\u001b[0m\u001b[0;34m:\u001b[0m\u001b[0;34m\u001b[0m\u001b[0;34m\u001b[0m\u001b[0m\n",
      "\u001b[0;31mAttributeError\u001b[0m: 'DataFrame' object has no attribute 'doy'"
     ]
    },
    {
     "data": {
      "image/png": "[encoded data removed]",
      "text/plain": [
       "<Figure size 1080x1008 with 9 Axes>"
      ]
     },
     "metadata": {
      "needs_background": "light"
     },
     "output_type": "display_data"
    }
   ],
   "source": [
    "\n",
    "def __makeplot_tilt_NEshaft():\n",
    "\n",
    "    NNN=9\n",
    "    fig, ax = plt.subplots(NNN, 1, figsize=(15,14), sharex=True)\n",
    "\n",
    "    font=14\n",
    "\n",
    "    ## creat timeline for environmental data\n",
    "    dt = 1.0 # (FURT.time[3]-FURT.time[2])\n",
    "    timeline1 = linspace(0, FURT.time.size*dt , FURT.time.size)/3600/24 + FURT.doy[0]\n",
    "\n",
    "    ## create a timeline for the traces starting from 14:00\n",
    "\n",
    "    timelineN = __get_timeline(N)\n",
    "\n",
    "    timelineE = __get_timeline(E)\n",
    "\n",
    "    timelineVN = __get_timeline(VN)\n",
    "    \n",
    "    timelineVE = __get_timeline(VE)\n",
    "\n",
    "    timelineVT = __get_timeline(VT)\n",
    "\n",
    "    timelineT = __get_timeline(T)\n",
    "\n",
    "\n",
    "\n",
    "    ## _____________________________________________\n",
    "    ## actual plotting\n",
    "\n",
    "    if f_new: \n",
    "        labelBT=f\"{f_new} Hz\"\n",
    "        labelPT=f\"{f_new} Hz\"\n",
    "    else:\n",
    "        labelBT=\"raw 1 Hz\"\n",
    "        labelPT=\"raw 5 Hz\"\n",
    "        \n",
    "    ax[0].plot(timelineVN, VN[0].data*1e6, color='black', label=labelBT)\n",
    "#     ax[0].plot(timelineVN, VNc[0].data*1e6, color='orange', lw=0.2, label=f\"lowpass {f_upper} Hz\")\n",
    "\n",
    "    ax[1].plot(timelineVE, VE[0].data*1e6, color='black', label=labelBT)\n",
    "#     ax[1].plot(timelineVE, VEc[0].data*1e6, color='orange', lw=0.2, label=f\"lowpass {f_upper} Hz\")\n",
    "\n",
    "    ax[2].plot(timelineN, N[0].data*1e6, color='black', label=labelBT)\n",
    "#     ax[2].plot(timelineN, Nc[0].data*1e6, color='orange', lw=0.6, label=f\"lowpass {f_upper} Hz\")\n",
    "\n",
    "    ax[3].plot(timelineE, E[0].data*1e6, color='black', label=labelBT)\n",
    "#     ax[3].plot(timelineE, Ec[0].data*1e6, color='orange', lw=0.7, label=f\"lowpass {f_upper} Hz\")\n",
    "\n",
    "\n",
    "#     ec = ax[4].scatter(vtimeline, vdir, c=vnorm*1e6, s=5)\n",
    "    ax[4].plot(timelineVT, VT[0].data, label=\"integrated sensor BT\", color='red')\n",
    "\n",
    "    ax[5].plot(timelineT, T[0], color='darkorange', ls='-', label=\"integrated sensor PT\")\n",
    "\n",
    "\n",
    "    ax[6].plot(timeline1, FURT['T'], color='darkred', label=\"FURT\")\n",
    "    ax[6].plot(timelineVT, VT[0].data, color='red', ls='--', label=\"integrated sensor BT\")\n",
    "    ax[6].plot(timelineT, T[0], color='darkgreen', ls='-.', label=\"integrated sensor PT\")\n",
    "    ax[6].set_ylim(min(FURT['T']), max(FURT['T']))\n",
    "\n",
    "    ax[7].plot(timeline1, FURT['P'], color='darkblue')\n",
    "    \n",
    "#     ax[8].plot(timeline1, FURT.R, color='purple')\n",
    "\n",
    "\n",
    "\n",
    "    ax[0].set_ylabel(r\"VN Tilt ($\\mu$rad)\", fontsize=font)\n",
    "    ax[1].set_ylabel(r\"VE Tilt ($\\mu$rad)\", fontsize=font)\n",
    "    ax[2].set_ylabel(r\"N Tilt ($\\mu$rad)\", fontsize=font)\n",
    "    ax[3].set_ylabel(r\"E Tilt ($\\mu$rad)\", fontsize=font)\n",
    "    ax[4].set_ylabel(\"Temp. (°C)\", fontsize=font)\n",
    "    ax[5].set_ylabel(\"Temp. (°C)\", fontsize=font)\n",
    "    ax[6].set_ylabel(\"Air Press. (hPa)\", fontsize=font)\n",
    "    ax[7].set_ylabel(\"daily cum. \\n rain (mm)\", fontsize=font)\n",
    "\n",
    "\n",
    "    ax[0].legend(loc=\"upper left\")\n",
    "    ax[1].legend(loc=\"upper left\")\n",
    "    ax[2].legend(loc=\"upper left\")\n",
    "\n",
    "    ax[3].legend(loc=\"upper left\")\n",
    "    ax[4].legend(loc=\"lower left\")\n",
    "\n",
    "    ax[5].legend(loc=\"lower right\")\n",
    "\n",
    "\n",
    "\n",
    "\n",
    "#     ## inlcude periods with unreliable data\n",
    "#     for k in corrupt_data:\n",
    "#         k1 = UTCDateTime(k[0]).julday + __get_seconds(k[0], mode=\"of_day\")/86400\n",
    "#         k2 = UTCDateTime(k[1]).julday + __get_seconds(k[1], mode=\"of_day\")/86400\n",
    "        \n",
    "#         ax[0].axvspan(k1, k2, color='lightgrey', alpha=0.4, zorder=0)\n",
    "#         ax[1].axvspan(k1, k2, color='lightgrey', alpha=0.4, zorder=0)\n",
    "    \n",
    "#     doy1 = min([min(FURT.doy), N[0].stats.starttime.julday, VN[0].stats.starttime.julday])\n",
    "#     doy2 = max([max(FURT.doy), N[0].stats.endtime.julday, VN[0].stats.endtime.julday])\n",
    "    \n",
    "#     ax[7].set_xticks(arange(doy1, doy2+1, 2))\n",
    "#     ax[7].set_xticklabels(arange(doy1, doy2+1, 2))\n",
    "\n",
    "\n",
    "    \n",
    "#     ax[7].set_xlabel(f\"Day of year 2021\", fontsize=font)\n",
    "#     ax[7].set_xlim(doy1, doy2+1)\n",
    "\n",
    "#     for i in range(N):\n",
    "#         ax[i].xaxis.set_major_locator(MultipleLocator(2)) \n",
    "#         ax[i].xaxis.set_minor_locator(MultipleLocator(1))\n",
    "#         ax[i].grid(color='grey', alpha=0.5, ls='--', which='both')\n",
    "        \n",
    "    \n",
    "#     ax[0].set_ylim(10, 50)\n",
    "\n",
    "#     ax[1].set_ylim(-15, 30)\n",
    "\n",
    "# #     ax[2].set_ylim(20, 45)\n",
    "\n",
    "# #     ax[3].set_ylim(14, 25)\n",
    "    \n",
    "#     ax[4].set_ylim(12.5, 15.5)\n",
    "\n",
    "    \n",
    "\n",
    "    plt.show();\n",
    "    \n",
    "    return fig\n",
    "\n",
    "\n",
    "## _____________________________________\n",
    "\n",
    "\n",
    "fig = __makeplot_tilt_NEshaft()\n",
    "\n",
    "# if save:\n",
    "#     fig.savefig(path+\"Plot_NE.png\", dpi=300, facecolor='w', edgecolor='w',\n",
    "#               orientation='portrait', format=\"png\",\n",
    "#               transparent=False, bbox_inches=\"tight\", pad_inches=0.2,\n",
    "#               )\n"
   ]
  },
  {
   "cell_type": "code",
   "execution_count": 186,
   "id": "3b6de0e3",
   "metadata": {},
   "outputs": [
    {
     "data": {
      "text/plain": [
       "0          1.6\n",
       "1          1.6\n",
       "2          1.6\n",
       "3          1.6\n",
       "4          1.6\n",
       "          ... \n",
       "1350005   -0.6\n",
       "1350006   -0.6\n",
       "1350007   -0.6\n",
       "1350008   -0.6\n",
       "1350009   -0.6\n",
       "Name: T, Length: 1350010, dtype: float64"
      ]
     },
     "execution_count": 186,
     "metadata": {},
     "output_type": "execute_result"
    }
   ],
   "source": [
    "FURT['T']"
   ]
  },
  {
   "cell_type": "code",
   "execution_count": null,
   "id": "solid-estate",
   "metadata": {
    "ExecuteTime": {
     "start_time": "2021-07-01T16:44:22.627Z"
    }
   },
   "outputs": [],
   "source": [
    "# diff_pa = diff(FURT.pa, n=1, append=nan)/10\n",
    "\n",
    "# fig, ax = plt.subplots(2,1, figsize=(15,5))\n",
    "\n",
    "# ax[0].plot(timeline1, FURT.pa, color='darkblue')\n",
    "# ax[1].plot(timeline1, diff_pa, color='darkblue')\n"
   ]
  },
  {
   "cell_type": "code",
   "execution_count": 124,
   "id": "amino-institute",
   "metadata": {
    "ExecuteTime": {
     "start_time": "2021-07-01T16:44:22.630Z"
    },
    "code_folding": [
     1
    ]
   },
   "outputs": [
    {
     "ename": "NameError",
     "evalue": "name 'VNc' is not defined",
     "output_type": "error",
     "traceback": [
      "\u001b[0;31m---------------------------------------------------------------------------\u001b[0m",
      "\u001b[0;31mNameError\u001b[0m                                 Traceback (most recent call last)",
      "\u001b[0;32m<ipython-input-124-0485a1292507>\u001b[0m in \u001b[0;36m<module>\u001b[0;34m\u001b[0m\n\u001b[1;32m    119\u001b[0m \u001b[0;34m\u001b[0m\u001b[0m\n\u001b[1;32m    120\u001b[0m \u001b[0;34m\u001b[0m\u001b[0m\n\u001b[0;32m--> 121\u001b[0;31m \u001b[0mfig\u001b[0m \u001b[0;34m=\u001b[0m \u001b[0m__makeplote_tilt_and_rate\u001b[0m\u001b[0;34m(\u001b[0m\u001b[0;34m)\u001b[0m\u001b[0;34m\u001b[0m\u001b[0;34m\u001b[0m\u001b[0m\n\u001b[0m",
      "\u001b[0;32m<ipython-input-124-0485a1292507>\u001b[0m in \u001b[0;36m__makeplote_tilt_and_rate\u001b[0;34m()\u001b[0m\n\u001b[1;32m     41\u001b[0m \u001b[0;34m\u001b[0m\u001b[0m\n\u001b[1;32m     42\u001b[0m     \u001b[0max\u001b[0m\u001b[0;34m[\u001b[0m\u001b[0;36m0\u001b[0m\u001b[0;34m]\u001b[0m\u001b[0;34m.\u001b[0m\u001b[0mplot\u001b[0m\u001b[0;34m(\u001b[0m\u001b[0mtimelineVN\u001b[0m\u001b[0;34m,\u001b[0m \u001b[0mVN\u001b[0m\u001b[0;34m[\u001b[0m\u001b[0;36m0\u001b[0m\u001b[0;34m]\u001b[0m\u001b[0;34m.\u001b[0m\u001b[0mdata\u001b[0m\u001b[0;34m*\u001b[0m\u001b[0;36m1e6\u001b[0m\u001b[0;34m,\u001b[0m \u001b[0mcolor\u001b[0m\u001b[0;34m=\u001b[0m\u001b[0;34m'black'\u001b[0m\u001b[0;34m,\u001b[0m \u001b[0mlabel\u001b[0m\u001b[0;34m=\u001b[0m\u001b[0;34m\"raw 1 Hz\"\u001b[0m\u001b[0;34m)\u001b[0m\u001b[0;34m\u001b[0m\u001b[0;34m\u001b[0m\u001b[0m\n\u001b[0;32m---> 43\u001b[0;31m     \u001b[0max\u001b[0m\u001b[0;34m[\u001b[0m\u001b[0;36m0\u001b[0m\u001b[0;34m]\u001b[0m\u001b[0;34m.\u001b[0m\u001b[0mplot\u001b[0m\u001b[0;34m(\u001b[0m\u001b[0mtimelineVN\u001b[0m\u001b[0;34m[\u001b[0m\u001b[0mnn\u001b[0m\u001b[0;34m:\u001b[0m\u001b[0;34m-\u001b[0m\u001b[0mnn\u001b[0m\u001b[0;34m]\u001b[0m\u001b[0;34m,\u001b[0m \u001b[0mVNc\u001b[0m\u001b[0;34m[\u001b[0m\u001b[0;36m0\u001b[0m\u001b[0;34m]\u001b[0m\u001b[0;34m.\u001b[0m\u001b[0mdata\u001b[0m\u001b[0;34m[\u001b[0m\u001b[0mnn\u001b[0m\u001b[0;34m:\u001b[0m\u001b[0;34m-\u001b[0m\u001b[0mnn\u001b[0m\u001b[0;34m]\u001b[0m\u001b[0;34m*\u001b[0m\u001b[0;36m1e6\u001b[0m\u001b[0;34m,\u001b[0m \u001b[0mcolor\u001b[0m\u001b[0;34m=\u001b[0m\u001b[0;34m'orange'\u001b[0m\u001b[0;34m,\u001b[0m \u001b[0mlw\u001b[0m\u001b[0;34m=\u001b[0m\u001b[0;36m0.2\u001b[0m\u001b[0;34m,\u001b[0m \u001b[0mlabel\u001b[0m\u001b[0;34m=\u001b[0m\u001b[0;34mf\"lowpass {f_upper} Hz\"\u001b[0m\u001b[0;34m)\u001b[0m\u001b[0;34m\u001b[0m\u001b[0;34m\u001b[0m\u001b[0m\n\u001b[0m\u001b[1;32m     44\u001b[0m \u001b[0;34m\u001b[0m\u001b[0m\n\u001b[1;32m     45\u001b[0m     \u001b[0max\u001b[0m\u001b[0;34m[\u001b[0m\u001b[0;36m1\u001b[0m\u001b[0;34m]\u001b[0m\u001b[0;34m.\u001b[0m\u001b[0mplot\u001b[0m\u001b[0;34m(\u001b[0m\u001b[0mtimelineVN\u001b[0m\u001b[0;34m,\u001b[0m \u001b[0mdiff_VN\u001b[0m\u001b[0;34m,\u001b[0m \u001b[0mcolor\u001b[0m\u001b[0;34m=\u001b[0m\u001b[0;34m'black'\u001b[0m\u001b[0;34m,\u001b[0m \u001b[0mlabel\u001b[0m\u001b[0;34m=\u001b[0m\u001b[0;34m\"tilt rate\"\u001b[0m\u001b[0;34m)\u001b[0m\u001b[0;34m\u001b[0m\u001b[0;34m\u001b[0m\u001b[0m\n",
      "\u001b[0;31mNameError\u001b[0m: name 'VNc' is not defined"
     ]
    },
    {
     "data": {
      "image/png": "[encoded data removed]",
      "text/plain": [
       "<Figure size 1080x864 with 8 Axes>"
      ]
     },
     "metadata": {
      "needs_background": "light"
     },
     "output_type": "display_data"
    }
   ],
   "source": [
    "\n",
    "def __makeplote_tilt_and_rate():\n",
    "\n",
    "    fig, ax = plt.subplots(8, 1, figsize=(15,12), sharex=True)\n",
    "\n",
    "    font=14\n",
    "\n",
    "    ## creat timeline for environmental data\n",
    "    dt = 1.0\n",
    "#     dt = (FURT.time[3]-FURT.time[2])\n",
    "    timeline1 = linspace(0, FURT.time.size*dt , FURT.time.size)/3600/24 + FURT.doy[0]\n",
    "\n",
    "    ## create a timeline for the traces starting from 14:00\n",
    "\n",
    "    timelineN = __get_timeline(N)\n",
    "\n",
    "    timelineE = __get_timeline(E)\n",
    "\n",
    "    timelineVN = __get_timeline(VN)\n",
    "\n",
    "    timelineVE = __get_timeline(VE)\n",
    "\n",
    "    timelineT = __get_timeline(VT)\n",
    "\n",
    "\n",
    "    ## _____________________________________________\n",
    "    ## actual plotting\n",
    "\n",
    "    dt = 10 # minutes\n",
    "\n",
    "    diff_VN = gradient(VN[0].data, dt, edge_order=1)*1e6\n",
    "    diff_VE = gradient(VE[0].data, dt, edge_order=1)*1e6\n",
    "\n",
    "    \n",
    "    # diff_N = diff(N[0].data, n=1, append=nan)/dt*1e6\n",
    "    diff_N = gradient(N[0].data, dt, edge_order=1)*1e6\n",
    "\n",
    "    # diff_E = diff(E[0].data, n=1, append=nan)/dt*1e6\n",
    "    diff_E= gradient(E[0].data, dt, edge_order=1)*1e6\n",
    "\n",
    "    nn = 40\n",
    "\n",
    "    ax[0].plot(timelineVN, VN[0].data*1e6, color='black', label=\"raw 1 Hz\")\n",
    "    ax[0].plot(timelineVN[nn:-nn], VNc[0].data[nn:-nn]*1e6, color='orange', lw=0.2, label=f\"lowpass {f_upper} Hz\")\n",
    "\n",
    "    ax[1].plot(timelineVN, diff_VN, color='black', label=\"tilt rate\")\n",
    "\n",
    "    \n",
    "    ax[2].plot(timelineVE, VE[0].data*1e6, color='black', label=\"raw 1 Hz\")\n",
    "    ax[2].plot(timelineVE[nn:-nn], VEc[0].data[nn:-nn]*1e6, color='orange', lw=0.2, label=f\"lowpass {f_upper} Hz\")\n",
    "\n",
    "    ax[3].plot(timelineVE, diff_VE, color='black', label=\"tilt raw\")\n",
    "\n",
    "\n",
    "    ax[4].plot(timelineN, N[0].data*1e6, color='black', label=\"raw 5 Hz\")\n",
    "    ax[4].plot(timelineN[nn:-nn], Nc[0].data[nn:-nn]*1e6, color='orange', lw=0.6, label=f\"lowpass {f_upper} Hz\")\n",
    "\n",
    "    ax[5].plot(timelineN, diff_N, color='black', label=\"tilt rate\")\n",
    "\n",
    "\n",
    "    ax[6].plot(timelineE, E[0].data*1e6, color='black', label=\"raw 5 Hz\")\n",
    "    ax[6].plot(timelineE[nn:-nn], Ec[0].data[nn:-nn]*1e6, color='orange', lw=0.7, label=f\"lowpass {f_upper} Hz\")\n",
    "\n",
    "    ax[7].plot(timelineE, diff_E, color='black', label=\"raw\")\n",
    "\n",
    "\n",
    "\n",
    "    ax[0].set_ylabel(f\"VN tilt \\n ($\\mu$rad)\", fontsize=font)\n",
    "    ax[1].set_ylabel(f\"Vn tilt rate \\n ($\\mu$rad/s)\", fontsize=font)\n",
    "\n",
    "    ax[2].set_ylabel(f\"VE tilt \\n ($\\mu$rad)\", fontsize=font)\n",
    "    ax[3].set_ylabel(f\"VE tilt rate \\n ($\\mu$rad/s)\", fontsize=font)\n",
    "\n",
    "    \n",
    "    ax[4].set_ylabel(f\"N tilt \\n ($\\mu$rad)\", fontsize=font)\n",
    "    ax[5].set_ylabel(f\"N tilt rate \\n ($\\mu$rad/s)\", fontsize=font)\n",
    "\n",
    "    ax[6].set_ylabel(f\"E tilt \\n ($\\mu$rad)\", fontsize=font)\n",
    "    ax[7].set_ylabel(f\"E tilt rate \\n ($\\mu$rad/s)\", fontsize=font)\n",
    "\n",
    "\n",
    "\n",
    "    ax[0].legend(loc=\"upper left\")\n",
    "    ax[2].legend(loc=\"upper left\")\n",
    "    ax[4].legend(loc=\"upper left\")\n",
    "    ax[6].legend(loc=\"upper left\")\n",
    "\n",
    "    if N[0].stats.npts > VN[0].stats.npts:\n",
    "        ref = N.copy()\n",
    "    else:\n",
    "        ref = VN.copy()\n",
    "        \n",
    "    doy1 = min([N[0].stats.starttime.julday, VN[0].stats.starttime.julday])\n",
    "    doy2 = max([N[0].stats.endtime.julday, VN[0].stats.endtime.julday])\n",
    "    \n",
    "    for i in range(8):\n",
    "        ax[i].grid(color='grey', alpha=0.5, ls='--')\n",
    "        ax[i].set_xticks(arange(doy1, doy2+1, 1))\n",
    "\n",
    "        \n",
    "    ax[7].set_xticklabels(arange(doy1, doy2+1, 1))\n",
    "\n",
    "    ax[7].set_xlabel(f\"day of year 2021\", fontsize=font)\n",
    "\n",
    "\n",
    "\n",
    "#     ax[0].set_ylim(7.5, 10)\n",
    "\n",
    "#     ax[2].set_ylim(-7.5, -2.5)\n",
    "\n",
    "    ax[4].set_ylim(5, 40)\n",
    "\n",
    "    ax[6].set_ylim(14, 25)\n",
    "\n",
    "    \n",
    "    plt.show();\n",
    "    \n",
    "    return fig\n",
    "\n",
    "\n",
    "\n",
    "fig = __makeplote_tilt_and_rate()  "
   ]
  },
  {
   "cell_type": "code",
   "execution_count": 52,
   "id": "interior-tuition",
   "metadata": {
    "ExecuteTime": {
     "start_time": "2021-07-01T16:44:22.632Z"
    }
   },
   "outputs": [
    {
     "data": {
      "text/plain": [
       "1 Trace(s) in Stream:\n",
       "BW.DROMY..LAN | 2021-10-25T17:40:12.000000Z - 2021-11-09T17:34:42.000000Z | 0.1 Hz, 129568 samples"
      ]
     },
     "execution_count": 52,
     "metadata": {},
     "output_type": "execute_result"
    },
    {
     "data": {
      "text/plain": [
       "1 Trace(s) in Stream:\n",
       "BW.DROMY..LAN | 2021-10-25T17:40:12.000000Z - 2021-11-09T17:34:42.000000Z | 0.1 Hz, 129568 samples"
      ]
     },
     "execution_count": 52,
     "metadata": {},
     "output_type": "execute_result"
    },
    {
     "data": {
      "text/plain": [
       "1 Trace(s) in Stream:\n",
       "BW.DROMY..LAE | 2021-10-25T17:40:12.000000Z - 2021-11-09T17:35:52.000000Z | 0.1 Hz, 129575 samples"
      ]
     },
     "execution_count": 52,
     "metadata": {},
     "output_type": "execute_result"
    },
    {
     "data": {
      "text/plain": [
       "1 Trace(s) in Stream:\n",
       "BW.DROMY..LAE | 2021-10-25T17:40:12.000000Z - 2021-11-09T17:35:52.000000Z | 0.1 Hz, 129575 samples"
      ]
     },
     "execution_count": 52,
     "metadata": {},
     "output_type": "execute_result"
    },
    {
     "data": {
      "text/plain": [
       "1 Trace(s) in Stream:\n",
       "BW.DROMY..LAN | 2021-10-25T17:40:12.000000Z - 2021-11-09T17:34:42.000000Z | 0.1 Hz, 129568 samples"
      ]
     },
     "execution_count": 52,
     "metadata": {},
     "output_type": "execute_result"
    },
    {
     "data": {
      "text/plain": [
       "1 Trace(s) in Stream:\n",
       "BW.DROMY..LAN | 2021-10-25T17:40:12.000000Z - 2021-11-09T17:34:42.000000Z | 0.1 Hz, 129568 samples"
      ]
     },
     "execution_count": 52,
     "metadata": {},
     "output_type": "execute_result"
    },
    {
     "data": {
      "text/plain": [
       "1 Trace(s) in Stream:\n",
       "BW.DROMY..LAE | 2021-10-25T17:40:12.000000Z - 2021-11-09T17:35:52.000000Z | 0.1 Hz, 129575 samples"
      ]
     },
     "execution_count": 52,
     "metadata": {},
     "output_type": "execute_result"
    },
    {
     "data": {
      "text/plain": [
       "1 Trace(s) in Stream:\n",
       "BW.DROMY..LAE | 2021-10-25T17:40:12.000000Z - 2021-11-09T17:35:52.000000Z | 0.1 Hz, 129575 samples"
      ]
     },
     "execution_count": 52,
     "metadata": {},
     "output_type": "execute_result"
    }
   ],
   "source": [
    "## cut away the unreliable patches \n",
    "\n",
    "for bad in corrupt_data:\n",
    "    \n",
    "    if VN: \n",
    "        VN.cutout(UTCDateTime(bad[0]), UTCDateTime(bad[1])); VN.merge()\n",
    "\n",
    "    if VE:\n",
    "        VE.cutout(UTCDateTime(bad[0]), UTCDateTime(bad[1])); VE.merge()\n"
   ]
  },
  {
   "cell_type": "code",
   "execution_count": 62,
   "id": "touched-meaning",
   "metadata": {
    "ExecuteTime": {
     "start_time": "2021-07-01T16:44:22.635Z"
    },
    "code_folding": [
     1
    ]
   },
   "outputs": [],
   "source": [
    "\n",
    "def __get_movement(N, E, Twin=3600):\n",
    "\n",
    "    from numpy import median, sqrt, arctan, degrees, mod, array, append, rad2deg, nan\n",
    "    from numpy import ma\n",
    "    \n",
    "    dt = N[0].stats.delta\n",
    "#     t1 = N[0].stats.starttime\n",
    "    t1 = 0\n",
    "\n",
    "    Ndata = N[0].data\n",
    "    Edata = E[0].data\n",
    "\n",
    "    if ma.is_masked(Ndata):\n",
    "        Ndata = ma.filled(Ndata, fill_value=nan)\n",
    "    if ma.is_masked(Edata):\n",
    "        Edata = ma.filled(Edata, fill_value=nan)\n",
    "        \n",
    "    vnorm, vdir, timeline = [], [], []\n",
    "    while (t1 + Twin) < N[0].stats.npts*dt:\n",
    "        \n",
    "        Nmed = median(Ndata[int(t1/dt):int((t1+Twin)/dt)])\n",
    "        Emed = median(Edata[int(t1/dt):int((t1+Twin)/dt)])\n",
    "\n",
    "        \n",
    "        vnorm.append(sqrt(Nmed**2 + Emed**2))\n",
    "        \n",
    "        if Nmed > 0 and Emed > 0:\n",
    "            vdir.append(90-abs(rad2deg(arctan(abs(Nmed/Emed)))))\n",
    "        \n",
    "        elif Nmed < 0 and Emed > 0:\n",
    "            vdir.append(90+abs(rad2deg(arctan(abs(Nmed/Emed)))))\n",
    "        \n",
    "        elif Nmed < 0 and Emed < 0:\n",
    "            vdir.append(270-abs(rad2deg(arctan(abs(Nmed/Emed)))))\n",
    "        \n",
    "        elif Nmed > 0 and Emed < 0:\n",
    "            vdir.append(270+abs(rad2deg(arctan(abs(Nmed/Emed)))))\n",
    "        \n",
    "        else:\n",
    "            vdir.append(nan)\n",
    "            \n",
    "        t1 += Twin/2\n",
    "    \n",
    "        timeline.append(t1)\n",
    "    \n",
    "    time_offset = N[0].stats.starttime.julday\n",
    "    timeline = array(timeline)/3600 /24 + time_offset# in days\n",
    "    \n",
    "    return timeline, array(vdir), array(vnorm)\n"
   ]
  },
  {
   "cell_type": "code",
   "execution_count": 63,
   "id": "recognized-vessel",
   "metadata": {
    "ExecuteTime": {
     "start_time": "2021-07-01T16:44:22.638Z"
    },
    "code_folding": [
     1
    ]
   },
   "outputs": [],
   "source": [
    "\n",
    "def __makeplot_normal_vector_movement(vdirH, vnormH, vdirV, vnormV, vtimelineH, vtimelineV):\n",
    "    \n",
    "    #-- Plot... ------------------------------------------------\n",
    "    fig, ax = plt.subplots(1, 2, subplot_kw=dict(projection='polar'), figsize=(15,5))\n",
    "\n",
    "    font=12\n",
    "\n",
    "\n",
    "    p1 = ax[0].scatter(deg2rad(vdirH), vnormH, c=vtimelineH, cmap='plasma', alpha=0.75, s=8, zorder=2)\n",
    "    p2 = ax[1].scatter(deg2rad(vdirV), vnormV, c=vtimelineV, cmap='plasma', alpha=0.75, s=8, zorder=2)\n",
    "\n",
    "    cbar1 = plt.colorbar(p1, ax=ax[0], pad=0.1)\n",
    "    cbar1.set_label('Time in days', rotation=270, fontsize=font, labelpad=18)\n",
    "\n",
    "    cbar2 = plt.colorbar(p2, ax=ax[1],  pad=0.1)\n",
    "    cbar2.set_label('Time in days of 2021', rotation=270, fontsize=font, labelpad=18)\n",
    "\n",
    "\n",
    "#     ax[0].set_ylim(min(vnormH)-0.1*min(vnormH), max(vnormH)+0.05*max(vnormH))\n",
    "\n",
    "#     ax[1].set_ylim(min(vnormV)-0.05*min(vnormV), max(vnormV)+0.01*max(vnormV))\n",
    "\n",
    "\n",
    "    ax[0].set_ylim(15, 50)\n",
    "    ax[1].set_ylim(22, 40)\n",
    "\n",
    "    ax[0].set_theta_zero_location('N')\n",
    "    ax[0].set_theta_direction(-1)\n",
    "\n",
    "    ax[1].set_theta_zero_location('N')\n",
    "    ax[1].set_theta_direction(-1)\n",
    "    \n",
    "    ax[0].set_rgrids(arange(15, 50, 5), angle=60., zorder=0)\n",
    "    ax[1].set_rgrids(arange(22.5, 40.0, 2.5), angle=60., zorder=0)\n",
    "\n",
    "    ax[0].set_title(\"Platform Tiltmeter\",fontsize=font)\n",
    "    ax[1].set_title(\"Borehole Tiltmeter\",fontsize=font)\n"
   ]
  },
  {
   "cell_type": "code",
   "execution_count": 64,
   "id": "celtic-opera",
   "metadata": {
    "ExecuteTime": {
     "start_time": "2021-07-01T16:44:22.640Z"
    },
    "code_folding": [
     0
    ]
   },
   "outputs": [],
   "source": [
    "def __adjust_time_period(st1, st2):\n",
    "\n",
    "    t_min = max(st1[0].stats.starttime, st2[0].stats.starttime)\n",
    "    t_max = min(st1[0].stats.endtime, st2[0].stats.endtime)\n",
    "    \n",
    "    return st1.trim(t_min, t_max), st2.trim(t_min, t_max)\n",
    "\n",
    "N, E = __adjust_time_period(N, E)\n",
    "VN, VE = __adjust_time_period(VN, VE)\n"
   ]
  },
  {
   "cell_type": "code",
   "execution_count": 65,
   "id": "formed-identification",
   "metadata": {
    "ExecuteTime": {
     "start_time": "2021-07-01T16:44:22.644Z"
    },
    "code_folding": []
   },
   "outputs": [
    {
     "data": {
      "image/png": "[encoded data removed]",
      "text/plain": [
       "<Figure size 1080x360 with 4 Axes>"
      ]
     },
     "metadata": {
      "needs_background": "light"
     },
     "output_type": "display_data"
    }
   ],
   "source": [
    "from numpy import deg2rad\n",
    "\n",
    "vtimelineH, vdirH, vnormH = __get_movement(N, E, Twin=3600)\n",
    "vtimelineV, vdirV, vnormV = __get_movement(VN, VE, Twin=3600)\n",
    "\n",
    "vnormH *= 1e6 # convert to micro rad\n",
    "vnormV *= 1e6 # convert to micro rad\n",
    "\n",
    "\n",
    "\n",
    "__makeplot_normal_vector_movement(vdirH, vnormH, vdirV, vnormV, vtimelineH, vtimelineV)"
   ]
  },
  {
   "cell_type": "markdown",
   "id": "vocational-mount",
   "metadata": {},
   "source": [
    "## Anomaly for borehole tiltmeter tilt - temperature correlation"
   ]
  },
  {
   "cell_type": "code",
   "execution_count": 57,
   "id": "headed-twins",
   "metadata": {
    "ExecuteTime": {
     "start_time": "2021-07-01T16:44:22.651Z"
    }
   },
   "outputs": [
    {
     "data": {
      "text/plain": [
       "[<matplotlib.lines.Line2D at 0x7f139d956ad0>]"
      ]
     },
     "execution_count": 57,
     "metadata": {},
     "output_type": "execute_result"
    },
    {
     "data": {
      "text/plain": [
       "Text(0, 0.5, 'Temperature (°C)')"
      ]
     },
     "execution_count": 57,
     "metadata": {},
     "output_type": "execute_result"
    },
    {
     "data": {
      "text/plain": [
       "[<matplotlib.lines.Line2D at 0x7f139e17fc50>]"
      ]
     },
     "execution_count": 57,
     "metadata": {},
     "output_type": "execute_result"
    },
    {
     "data": {
      "text/plain": [
       "Text(0, 0.5, 'Tilt N (rad)')"
      ]
     },
     "execution_count": 57,
     "metadata": {},
     "output_type": "execute_result"
    },
    {
     "data": {
      "text/plain": [
       "[<matplotlib.lines.Line2D at 0x7f139d7b41d0>]"
      ]
     },
     "execution_count": 57,
     "metadata": {},
     "output_type": "execute_result"
    },
    {
     "data": {
      "text/plain": [
       "Text(0, 0.5, 'Tilt E (rad)')"
      ]
     },
     "execution_count": 57,
     "metadata": {},
     "output_type": "execute_result"
    },
    {
     "data": {
      "text/plain": [
       "Text(0.5, 0, 'Day of year 2021')"
      ]
     },
     "execution_count": 57,
     "metadata": {},
     "output_type": "execute_result"
    },
    {
     "data": {
      "text/plain": [
       "Text(0.5, 1.0, 'Anomaly of borehole tiltmeter ')"
      ]
     },
     "execution_count": 57,
     "metadata": {},
     "output_type": "execute_result"
    },
    {
     "data": {
      "image/png": "[encoded data removed]",
      "text/plain": [
       "<Figure size 1080x360 with 3 Axes>"
      ]
     },
     "metadata": {
      "needs_background": "light"
     },
     "output_type": "display_data"
    }
   ],
   "source": [
    "\n",
    "## ___________________________________________________\n",
    "\n",
    "fig, ax = plt.subplots(3, 1, figsize=(15,5), sharex=True)\n",
    "\n",
    "font = 12\n",
    "\n",
    "timeline = __get_timeline(VT)\n",
    "\n",
    "\n",
    "n1 = int(-9e4)\n",
    "n2 = int(-5e4)\n",
    "\n",
    "# timeline = timeline * 24 - timeline[n1] * 24\n",
    "\n",
    "ax[0].plot(timeline[n1:n2], VT[0].data[n1:n2],'r')\n",
    "ax[0].set_ylabel(\"Temperature (°C)\",fontsize=font)\n",
    "\n",
    "ax[1].plot(timeline[n1:n2],VN[0].data[n1:n2])\n",
    "ax[1].set_ylabel(\"Tilt N (rad)\",fontsize=font)\n",
    "\n",
    "ax[2].plot(timeline[n1:n2],VE[0].data[n1:n2])\n",
    "ax[2].set_ylabel(\"Tilt E (rad)\",fontsize=font)\n",
    "\n",
    "ax[2].set_xlabel(\"Day of year 2021\",fontsize=font)\n",
    "\n",
    "\n",
    "ax[0].set_title(f\"Anomaly of borehole tiltmeter \",fontsize=font+2)\n",
    "\n",
    "# fig.savefig(path+\"Plot_NE_zoomin.png\", dpi=300, facecolor='w', edgecolor='w',\n",
    "#           orientation='portrait', format=\"png\",\n",
    "#           transparent=False, bbox_inches=\"tight\", pad_inches=0.2,\n",
    "#           )\n"
   ]
  },
  {
   "cell_type": "code",
   "execution_count": 58,
   "id": "eligible-elevation",
   "metadata": {
    "ExecuteTime": {
     "start_time": "2021-07-01T16:44:22.653Z"
    }
   },
   "outputs": [
    {
     "data": {
      "text/plain": [
       "[<matplotlib.lines.Line2D at 0x7f139d3f8090>]"
      ]
     },
     "execution_count": 58,
     "metadata": {},
     "output_type": "execute_result"
    },
    {
     "data": {
      "text/plain": [
       "Text(0, 0.5, 'Temperature (°C)')"
      ]
     },
     "execution_count": 58,
     "metadata": {},
     "output_type": "execute_result"
    },
    {
     "ename": "ValueError",
     "evalue": "x and y must have same first dimension, but have shapes (129574,) and (129567,)",
     "output_type": "error",
     "traceback": [
      "\u001b[0;31m---------------------------------------------------------------------------\u001b[0m",
      "\u001b[0;31mValueError\u001b[0m                                Traceback (most recent call last)",
      "\u001b[0;32m<ipython-input-58-5a0ffa9f3ebf>\u001b[0m in \u001b[0;36m<module>\u001b[0;34m\u001b[0m\n\u001b[1;32m     23\u001b[0m \u001b[0max\u001b[0m\u001b[0;34m[\u001b[0m\u001b[0;36m0\u001b[0m\u001b[0;34m]\u001b[0m\u001b[0;34m.\u001b[0m\u001b[0mset_ylabel\u001b[0m\u001b[0;34m(\u001b[0m\u001b[0;34m\"Temperature (°C)\"\u001b[0m\u001b[0;34m,\u001b[0m\u001b[0mfontsize\u001b[0m\u001b[0;34m=\u001b[0m\u001b[0mfont\u001b[0m\u001b[0;34m)\u001b[0m\u001b[0;34m\u001b[0m\u001b[0;34m\u001b[0m\u001b[0m\n\u001b[1;32m     24\u001b[0m \u001b[0;34m\u001b[0m\u001b[0m\n\u001b[0;32m---> 25\u001b[0;31m \u001b[0max\u001b[0m\u001b[0;34m[\u001b[0m\u001b[0;36m1\u001b[0m\u001b[0;34m]\u001b[0m\u001b[0;34m.\u001b[0m\u001b[0mplot\u001b[0m\u001b[0;34m(\u001b[0m\u001b[0mtimeline\u001b[0m\u001b[0;34m[\u001b[0m\u001b[0mn1\u001b[0m\u001b[0;34m:\u001b[0m\u001b[0mn2\u001b[0m\u001b[0;34m]\u001b[0m\u001b[0;34m,\u001b[0m\u001b[0mVN\u001b[0m\u001b[0;34m[\u001b[0m\u001b[0;36m0\u001b[0m\u001b[0;34m]\u001b[0m\u001b[0;34m.\u001b[0m\u001b[0mdata\u001b[0m\u001b[0;34m[\u001b[0m\u001b[0mn1\u001b[0m\u001b[0;34m:\u001b[0m\u001b[0mn2\u001b[0m\u001b[0;34m]\u001b[0m\u001b[0;34m)\u001b[0m\u001b[0;34m\u001b[0m\u001b[0;34m\u001b[0m\u001b[0m\n\u001b[0m\u001b[1;32m     26\u001b[0m \u001b[0max\u001b[0m\u001b[0;34m[\u001b[0m\u001b[0;36m1\u001b[0m\u001b[0;34m]\u001b[0m\u001b[0;34m.\u001b[0m\u001b[0mset_ylabel\u001b[0m\u001b[0;34m(\u001b[0m\u001b[0;34m\"Tilt N (rad)\"\u001b[0m\u001b[0;34m,\u001b[0m\u001b[0mfontsize\u001b[0m\u001b[0;34m=\u001b[0m\u001b[0mfont\u001b[0m\u001b[0;34m)\u001b[0m\u001b[0;34m\u001b[0m\u001b[0;34m\u001b[0m\u001b[0m\n\u001b[1;32m     27\u001b[0m \u001b[0;34m\u001b[0m\u001b[0m\n",
      "\u001b[0;32m~/anaconda3/lib/python3.7/site-packages/matplotlib/axes/_axes.py\u001b[0m in \u001b[0;36mplot\u001b[0;34m(self, scalex, scaley, data, *args, **kwargs)\u001b[0m\n\u001b[1;32m   1645\u001b[0m         \"\"\"\n\u001b[1;32m   1646\u001b[0m         \u001b[0mkwargs\u001b[0m \u001b[0;34m=\u001b[0m \u001b[0mcbook\u001b[0m\u001b[0;34m.\u001b[0m\u001b[0mnormalize_kwargs\u001b[0m\u001b[0;34m(\u001b[0m\u001b[0mkwargs\u001b[0m\u001b[0;34m,\u001b[0m \u001b[0mmlines\u001b[0m\u001b[0;34m.\u001b[0m\u001b[0mLine2D\u001b[0m\u001b[0;34m)\u001b[0m\u001b[0;34m\u001b[0m\u001b[0;34m\u001b[0m\u001b[0m\n\u001b[0;32m-> 1647\u001b[0;31m         \u001b[0mlines\u001b[0m \u001b[0;34m=\u001b[0m \u001b[0;34m[\u001b[0m\u001b[0;34m*\u001b[0m\u001b[0mself\u001b[0m\u001b[0;34m.\u001b[0m\u001b[0m_get_lines\u001b[0m\u001b[0;34m(\u001b[0m\u001b[0;34m*\u001b[0m\u001b[0margs\u001b[0m\u001b[0;34m,\u001b[0m \u001b[0mdata\u001b[0m\u001b[0;34m=\u001b[0m\u001b[0mdata\u001b[0m\u001b[0;34m,\u001b[0m \u001b[0;34m**\u001b[0m\u001b[0mkwargs\u001b[0m\u001b[0;34m)\u001b[0m\u001b[0;34m]\u001b[0m\u001b[0;34m\u001b[0m\u001b[0;34m\u001b[0m\u001b[0m\n\u001b[0m\u001b[1;32m   1648\u001b[0m         \u001b[0;32mfor\u001b[0m \u001b[0mline\u001b[0m \u001b[0;32min\u001b[0m \u001b[0mlines\u001b[0m\u001b[0;34m:\u001b[0m\u001b[0;34m\u001b[0m\u001b[0;34m\u001b[0m\u001b[0m\n\u001b[1;32m   1649\u001b[0m             \u001b[0mself\u001b[0m\u001b[0;34m.\u001b[0m\u001b[0madd_line\u001b[0m\u001b[0;34m(\u001b[0m\u001b[0mline\u001b[0m\u001b[0;34m)\u001b[0m\u001b[0;34m\u001b[0m\u001b[0;34m\u001b[0m\u001b[0m\n",
      "\u001b[0;32m~/anaconda3/lib/python3.7/site-packages/matplotlib/axes/_base.py\u001b[0m in \u001b[0;36m__call__\u001b[0;34m(self, *args, **kwargs)\u001b[0m\n\u001b[1;32m    214\u001b[0m                 \u001b[0mthis\u001b[0m \u001b[0;34m+=\u001b[0m \u001b[0margs\u001b[0m\u001b[0;34m[\u001b[0m\u001b[0;36m0\u001b[0m\u001b[0;34m]\u001b[0m\u001b[0;34m,\u001b[0m\u001b[0;34m\u001b[0m\u001b[0;34m\u001b[0m\u001b[0m\n\u001b[1;32m    215\u001b[0m                 \u001b[0margs\u001b[0m \u001b[0;34m=\u001b[0m \u001b[0margs\u001b[0m\u001b[0;34m[\u001b[0m\u001b[0;36m1\u001b[0m\u001b[0;34m:\u001b[0m\u001b[0;34m]\u001b[0m\u001b[0;34m\u001b[0m\u001b[0;34m\u001b[0m\u001b[0m\n\u001b[0;32m--> 216\u001b[0;31m             \u001b[0;32myield\u001b[0m \u001b[0;32mfrom\u001b[0m \u001b[0mself\u001b[0m\u001b[0;34m.\u001b[0m\u001b[0m_plot_args\u001b[0m\u001b[0;34m(\u001b[0m\u001b[0mthis\u001b[0m\u001b[0;34m,\u001b[0m \u001b[0mkwargs\u001b[0m\u001b[0;34m)\u001b[0m\u001b[0;34m\u001b[0m\u001b[0;34m\u001b[0m\u001b[0m\n\u001b[0m\u001b[1;32m    217\u001b[0m \u001b[0;34m\u001b[0m\u001b[0m\n\u001b[1;32m    218\u001b[0m     \u001b[0;32mdef\u001b[0m \u001b[0mget_next_color\u001b[0m\u001b[0;34m(\u001b[0m\u001b[0mself\u001b[0m\u001b[0;34m)\u001b[0m\u001b[0;34m:\u001b[0m\u001b[0;34m\u001b[0m\u001b[0;34m\u001b[0m\u001b[0m\n",
      "\u001b[0;32m~/anaconda3/lib/python3.7/site-packages/matplotlib/axes/_base.py\u001b[0m in \u001b[0;36m_plot_args\u001b[0;34m(self, tup, kwargs)\u001b[0m\n\u001b[1;32m    340\u001b[0m \u001b[0;34m\u001b[0m\u001b[0m\n\u001b[1;32m    341\u001b[0m         \u001b[0;32mif\u001b[0m \u001b[0mx\u001b[0m\u001b[0;34m.\u001b[0m\u001b[0mshape\u001b[0m\u001b[0;34m[\u001b[0m\u001b[0;36m0\u001b[0m\u001b[0;34m]\u001b[0m \u001b[0;34m!=\u001b[0m \u001b[0my\u001b[0m\u001b[0;34m.\u001b[0m\u001b[0mshape\u001b[0m\u001b[0;34m[\u001b[0m\u001b[0;36m0\u001b[0m\u001b[0;34m]\u001b[0m\u001b[0;34m:\u001b[0m\u001b[0;34m\u001b[0m\u001b[0;34m\u001b[0m\u001b[0m\n\u001b[0;32m--> 342\u001b[0;31m             raise ValueError(f\"x and y must have same first dimension, but \"\n\u001b[0m\u001b[1;32m    343\u001b[0m                              f\"have shapes {x.shape} and {y.shape}\")\n\u001b[1;32m    344\u001b[0m         \u001b[0;32mif\u001b[0m \u001b[0mx\u001b[0m\u001b[0;34m.\u001b[0m\u001b[0mndim\u001b[0m \u001b[0;34m>\u001b[0m \u001b[0;36m2\u001b[0m \u001b[0;32mor\u001b[0m \u001b[0my\u001b[0m\u001b[0;34m.\u001b[0m\u001b[0mndim\u001b[0m \u001b[0;34m>\u001b[0m \u001b[0;36m2\u001b[0m\u001b[0;34m:\u001b[0m\u001b[0;34m\u001b[0m\u001b[0;34m\u001b[0m\u001b[0m\n",
      "\u001b[0;31mValueError\u001b[0m: x and y must have same first dimension, but have shapes (129574,) and (129567,)"
     ]
    },
    {
     "data": {
      "image/png": "[encoded data removed]",
      "text/plain": [
       "<Figure size 1080x360 with 3 Axes>"
      ]
     },
     "metadata": {
      "needs_background": "light"
     },
     "output_type": "display_data"
    }
   ],
   "source": [
    "from andbro__get_seconds import __get_seconds\n",
    "\n",
    "stop_of_dehumidifier = \"2021-03-09 16:10\" # UTC !!!\n",
    "\n",
    "stop = __get_seconds(stop_of_dehumidifier, mode=\"of_year\") \n",
    "stop /= 86400\n",
    "\n",
    "## ___________________________________________________\n",
    "\n",
    "fig, ax = plt.subplots(3, 1, figsize=(15,5), sharex=True)\n",
    "\n",
    "font = 12\n",
    "\n",
    "timeline = __get_timeline(VT)\n",
    "\n",
    "\n",
    "n1 = int(-2e5)\n",
    "n2 = int(-1)\n",
    "\n",
    "# timeline = timeline * 24 - timeline[n1] * 24\n",
    "\n",
    "ax[0].plot(timeline[n1:n2], VT[0].data[n1:n2],'r')\n",
    "ax[0].set_ylabel(\"Temperature (°C)\",fontsize=font)\n",
    "\n",
    "ax[1].plot(timeline[n1:n2],VN[0].data[n1:n2])\n",
    "ax[1].set_ylabel(\"Tilt N (rad)\",fontsize=font)\n",
    "\n",
    "ax[2].plot(timeline[n1:n2],VE[0].data[n1:n2])\n",
    "ax[2].set_ylabel(\"Tilt E (rad)\",fontsize=font)\n",
    "\n",
    "ax[2].set_xlabel(\"Day of year 2021\",fontsize=font)\n",
    "\n",
    "for i in range(3):\n",
    "    ax[i].axvline(stop, color='grey', zorder=0)\n",
    "\n",
    "    \n",
    "# ax[0].set_ylim(12.0, 12.4)\n",
    "# ax[1].set_ylim(-4e-6, 2e-6)\n",
    "# ax[2].set_ylim(12.0, 12.4)\n",
    "\n",
    "ax[0].set_title(f\"Shutdown of dehumidifier at {stop_of_dehumidifier} UTC\",fontsize=font+2)\n",
    "\n",
    "fig.savefig(path+\"Plot_dehumidifier_shutdown.png\", dpi=300, facecolor='w', edgecolor='w',\n",
    "          orientation='portrait', format=\"png\",\n",
    "          transparent=False, bbox_inches=\"tight\", pad_inches=0.2,\n",
    "          )\n"
   ]
  },
  {
   "cell_type": "markdown",
   "id": "southwest-evidence",
   "metadata": {},
   "source": [
    "## Kermadec Islands event 2021-03-04 "
   ]
  },
  {
   "cell_type": "code",
   "execution_count": 59,
   "id": "polish-spotlight",
   "metadata": {
    "ExecuteTime": {
     "start_time": "2021-07-01T16:44:22.661Z"
    }
   },
   "outputs": [
    {
     "data": {
      "text/plain": [
       "0 Trace(s) in Stream:\n"
      ]
     },
     "execution_count": 59,
     "metadata": {},
     "output_type": "execute_result"
    },
    {
     "data": {
      "text/plain": [
       "0 Trace(s) in Stream:\n"
      ]
     },
     "execution_count": 59,
     "metadata": {},
     "output_type": "execute_result"
    },
    {
     "data": {
      "text/plain": [
       "0 Trace(s) in Stream:\n"
      ]
     },
     "execution_count": 59,
     "metadata": {},
     "output_type": "execute_result"
    },
    {
     "data": {
      "text/plain": [
       "0 Trace(s) in Stream:\n"
      ]
     },
     "execution_count": 59,
     "metadata": {},
     "output_type": "execute_result"
    }
   ],
   "source": [
    "Nn = N.copy()\n",
    "Ee = E.copy()\n",
    "VNn = VN.copy()\n",
    "VEe = VE.copy()\n",
    "\n",
    "t1 = UTCDateTime(\"2021-03-04 18:30\")\n",
    "t2 = UTCDateTime(\"2021-03-04 21:30\")\n",
    "\n",
    "Nn.trim(t1, t2)\n",
    "Ee.trim(t1, t2)\n",
    "VNn.trim(t1, t2)\n",
    "VEe.trim(t1, t2)\n"
   ]
  },
  {
   "cell_type": "code",
   "execution_count": 60,
   "id": "seeing-parcel",
   "metadata": {
    "ExecuteTime": {
     "start_time": "2021-07-01T16:44:22.663Z"
    }
   },
   "outputs": [
    {
     "ename": "IndexError",
     "evalue": "list index out of range",
     "output_type": "error",
     "traceback": [
      "\u001b[0;31m---------------------------------------------------------------------------\u001b[0m",
      "\u001b[0;31mIndexError\u001b[0m                                Traceback (most recent call last)",
      "\u001b[0;32m<ipython-input-60-44fa7d3ae19a>\u001b[0m in \u001b[0;36m<module>\u001b[0;34m\u001b[0m\n\u001b[0;32m----> 1\u001b[0;31m \u001b[0mtimeNn\u001b[0m \u001b[0;34m=\u001b[0m \u001b[0m__get_timeline\u001b[0m\u001b[0;34m(\u001b[0m\u001b[0mNn\u001b[0m\u001b[0;34m)\u001b[0m\u001b[0;34m*\u001b[0m\u001b[0;36m86400\u001b[0m\u001b[0;34m/\u001b[0m\u001b[0;36m60\u001b[0m\u001b[0;34m\u001b[0m\u001b[0;34m\u001b[0m\u001b[0m\n\u001b[0m\u001b[1;32m      2\u001b[0m \u001b[0mtimeEe\u001b[0m \u001b[0;34m=\u001b[0m \u001b[0m__get_timeline\u001b[0m\u001b[0;34m(\u001b[0m\u001b[0mEe\u001b[0m\u001b[0;34m)\u001b[0m\u001b[0;34m*\u001b[0m\u001b[0;36m86400\u001b[0m\u001b[0;34m/\u001b[0m\u001b[0;36m60\u001b[0m\u001b[0;34m\u001b[0m\u001b[0;34m\u001b[0m\u001b[0m\n\u001b[1;32m      3\u001b[0m \u001b[0mtimeVNn\u001b[0m \u001b[0;34m=\u001b[0m \u001b[0m__get_timeline\u001b[0m\u001b[0;34m(\u001b[0m\u001b[0mVNn\u001b[0m\u001b[0;34m)\u001b[0m\u001b[0;34m*\u001b[0m\u001b[0;36m86400\u001b[0m\u001b[0;34m/\u001b[0m\u001b[0;36m60\u001b[0m\u001b[0;34m\u001b[0m\u001b[0;34m\u001b[0m\u001b[0m\n\u001b[1;32m      4\u001b[0m \u001b[0mtimeVEe\u001b[0m \u001b[0;34m=\u001b[0m \u001b[0m__get_timeline\u001b[0m\u001b[0;34m(\u001b[0m\u001b[0mVEe\u001b[0m\u001b[0;34m)\u001b[0m\u001b[0;34m*\u001b[0m\u001b[0;36m86400\u001b[0m\u001b[0;34m/\u001b[0m\u001b[0;36m60\u001b[0m\u001b[0;34m\u001b[0m\u001b[0;34m\u001b[0m\u001b[0m\n\u001b[1;32m      5\u001b[0m \u001b[0;34m\u001b[0m\u001b[0m\n",
      "\u001b[0;32m<ipython-input-4-11ffed6a6795>\u001b[0m in \u001b[0;36m__get_timeline\u001b[0;34m(st)\u001b[0m\n\u001b[1;32m      1\u001b[0m \u001b[0;32mdef\u001b[0m \u001b[0m__get_timeline\u001b[0m\u001b[0;34m(\u001b[0m\u001b[0mst\u001b[0m\u001b[0;34m)\u001b[0m\u001b[0;34m:\u001b[0m\u001b[0;34m\u001b[0m\u001b[0;34m\u001b[0m\u001b[0m\n\u001b[1;32m      2\u001b[0m \u001b[0;34m\u001b[0m\u001b[0m\n\u001b[0;32m----> 3\u001b[0;31m     \u001b[0mdays\u001b[0m \u001b[0;34m=\u001b[0m \u001b[0mabs\u001b[0m\u001b[0;34m(\u001b[0m\u001b[0mst\u001b[0m\u001b[0;34m[\u001b[0m\u001b[0;36m0\u001b[0m\u001b[0;34m]\u001b[0m\u001b[0;34m.\u001b[0m\u001b[0mstats\u001b[0m\u001b[0;34m.\u001b[0m\u001b[0mstarttime\u001b[0m\u001b[0;34m.\u001b[0m\u001b[0mjulday\u001b[0m \u001b[0;34m-\u001b[0m \u001b[0mst\u001b[0m\u001b[0;34m[\u001b[0m\u001b[0;36m0\u001b[0m\u001b[0;34m]\u001b[0m\u001b[0;34m.\u001b[0m\u001b[0mstats\u001b[0m\u001b[0;34m.\u001b[0m\u001b[0mendtime\u001b[0m\u001b[0;34m.\u001b[0m\u001b[0mjulday\u001b[0m\u001b[0;34m)\u001b[0m\u001b[0;34m\u001b[0m\u001b[0;34m\u001b[0m\u001b[0m\n\u001b[0m\u001b[1;32m      4\u001b[0m \u001b[0;34m\u001b[0m\u001b[0m\n\u001b[1;32m      5\u001b[0m     \u001b[0mt1\u001b[0m \u001b[0;34m=\u001b[0m \u001b[0mst\u001b[0m\u001b[0;34m[\u001b[0m\u001b[0;36m0\u001b[0m\u001b[0;34m]\u001b[0m\u001b[0;34m.\u001b[0m\u001b[0mstats\u001b[0m\u001b[0;34m.\u001b[0m\u001b[0mstarttime\u001b[0m\u001b[0;34m.\u001b[0m\u001b[0mhour\u001b[0m\u001b[0;34m*\u001b[0m\u001b[0;36m3600\u001b[0m\u001b[0;34m+\u001b[0m \u001b[0mst\u001b[0m\u001b[0;34m[\u001b[0m\u001b[0;36m0\u001b[0m\u001b[0;34m]\u001b[0m\u001b[0;34m.\u001b[0m\u001b[0mstats\u001b[0m\u001b[0;34m.\u001b[0m\u001b[0mstarttime\u001b[0m\u001b[0;34m.\u001b[0m\u001b[0mminute\u001b[0m\u001b[0;34m*\u001b[0m\u001b[0;36m60\u001b[0m \u001b[0;34m+\u001b[0m \u001b[0mst\u001b[0m\u001b[0;34m[\u001b[0m\u001b[0;36m0\u001b[0m\u001b[0;34m]\u001b[0m\u001b[0;34m.\u001b[0m\u001b[0mstats\u001b[0m\u001b[0;34m.\u001b[0m\u001b[0mstarttime\u001b[0m\u001b[0;34m.\u001b[0m\u001b[0msecond\u001b[0m\u001b[0;34m+\u001b[0m\u001b[0mE\u001b[0m\u001b[0;34m[\u001b[0m\u001b[0;36m0\u001b[0m\u001b[0;34m]\u001b[0m\u001b[0;34m.\u001b[0m\u001b[0mstats\u001b[0m\u001b[0;34m.\u001b[0m\u001b[0mstarttime\u001b[0m\u001b[0;34m.\u001b[0m\u001b[0mmicrosecond\u001b[0m\u001b[0;34m*\u001b[0m\u001b[0;36m1e-6\u001b[0m\u001b[0;34m\u001b[0m\u001b[0;34m\u001b[0m\u001b[0m\n",
      "\u001b[0;32m~/anaconda3/lib/python3.7/site-packages/obspy/core/stream.py\u001b[0m in \u001b[0;36m__getitem__\u001b[0;34m(self, index)\u001b[0m\n\u001b[1;32m    647\u001b[0m             \u001b[0;32mreturn\u001b[0m \u001b[0mself\u001b[0m\u001b[0;34m.\u001b[0m\u001b[0m__class__\u001b[0m\u001b[0;34m(\u001b[0m\u001b[0mtraces\u001b[0m\u001b[0;34m=\u001b[0m\u001b[0mself\u001b[0m\u001b[0;34m.\u001b[0m\u001b[0mtraces\u001b[0m\u001b[0;34m.\u001b[0m\u001b[0m__getitem__\u001b[0m\u001b[0;34m(\u001b[0m\u001b[0mindex\u001b[0m\u001b[0;34m)\u001b[0m\u001b[0;34m)\u001b[0m\u001b[0;34m\u001b[0m\u001b[0;34m\u001b[0m\u001b[0m\n\u001b[1;32m    648\u001b[0m         \u001b[0;32melse\u001b[0m\u001b[0;34m:\u001b[0m\u001b[0;34m\u001b[0m\u001b[0;34m\u001b[0m\u001b[0m\n\u001b[0;32m--> 649\u001b[0;31m             \u001b[0;32mreturn\u001b[0m \u001b[0mself\u001b[0m\u001b[0;34m.\u001b[0m\u001b[0mtraces\u001b[0m\u001b[0;34m.\u001b[0m\u001b[0m__getitem__\u001b[0m\u001b[0;34m(\u001b[0m\u001b[0mindex\u001b[0m\u001b[0;34m)\u001b[0m\u001b[0;34m\u001b[0m\u001b[0;34m\u001b[0m\u001b[0m\n\u001b[0m\u001b[1;32m    650\u001b[0m \u001b[0;34m\u001b[0m\u001b[0m\n\u001b[1;32m    651\u001b[0m     \u001b[0;32mdef\u001b[0m \u001b[0m__delitem__\u001b[0m\u001b[0;34m(\u001b[0m\u001b[0mself\u001b[0m\u001b[0;34m,\u001b[0m \u001b[0mindex\u001b[0m\u001b[0;34m)\u001b[0m\u001b[0;34m:\u001b[0m\u001b[0;34m\u001b[0m\u001b[0;34m\u001b[0m\u001b[0m\n",
      "\u001b[0;31mIndexError\u001b[0m: list index out of range"
     ]
    }
   ],
   "source": [
    "timeNn = __get_timeline(Nn)*86400/60\n",
    "timeEe = __get_timeline(Ee)*86400/60\n",
    "timeVNn = __get_timeline(VNn)*86400/60\n",
    "timeVEe = __get_timeline(VEe)*86400/60\n",
    "\n",
    "fig, ax = plt.subplots(4, 1, figsize=(15,10), sharex=True)\n",
    "\n",
    "font=16\n",
    "\n",
    "n1 = int(-8e4)\n",
    "n2 = int(-1e4)\n",
    "\n",
    "ax[0].plot(timeVNn-timeVNn[0], VNn[0].data)\n",
    "ax[0].set_ylabel(\"Tilt BT-N (rad)\", fontsize=font)\n",
    "\n",
    "ax[1].plot(timeVEe-timeVNn[0], VEe[0].data)\n",
    "ax[1].set_ylabel(\"Tilt BT-E (rad)\", fontsize=font)\n",
    "\n",
    "ax[2].plot(timeNn-timeVNn[0], Nn[0].data)\n",
    "ax[2].set_ylabel(\"Tilt PT-N (rad)\", fontsize=font)\n",
    "\n",
    "ax[3].plot(timeEe-timeVNn[0], Ee[0].data)\n",
    "ax[3].set_ylabel(\"Tilt PT-E (rad)\", fontsize=font)\n",
    "\n",
    "ax[3].set_xlabel(f\"Time from {Nn[0].stats.starttime.date} {str(Nn[0].stats.starttime.time)[0:8]} UTC (min)\", fontsize=font)\n",
    "\n",
    "\n",
    "for i in range(4):\n",
    "    ax[i].grid(ls='--')\n",
    "#\n",
    "# fig.savefig(path+\"Plot_NE_zoomin.png\", dpi=300, facecolor='w', edgecolor='w',\n",
    "#           orientation='portrait', format=\"png\",\n",
    "#           transparent=False, bbox_inches=\"tight\", pad_inches=0.2,\n",
    "#           )"
   ]
  },
  {
   "cell_type": "code",
   "execution_count": 61,
   "id": "statutory-gasoline",
   "metadata": {
    "ExecuteTime": {
     "start_time": "2021-07-01T16:44:22.665Z"
    }
   },
   "outputs": [
    {
     "ename": "IndexError",
     "evalue": "list index out of range",
     "output_type": "error",
     "traceback": [
      "\u001b[0;31m---------------------------------------------------------------------------\u001b[0m",
      "\u001b[0;31mIndexError\u001b[0m                                Traceback (most recent call last)",
      "\u001b[0;32m<ipython-input-61-3cf2cbbe1d24>\u001b[0m in \u001b[0;36m<module>\u001b[0;34m\u001b[0m\n\u001b[0;32m----> 1\u001b[0;31m \u001b[0mdt\u001b[0m \u001b[0;34m=\u001b[0m \u001b[0mNn\u001b[0m\u001b[0;34m[\u001b[0m\u001b[0;36m0\u001b[0m\u001b[0;34m]\u001b[0m\u001b[0;34m.\u001b[0m\u001b[0mstats\u001b[0m\u001b[0;34m.\u001b[0m\u001b[0mdelta\u001b[0m \u001b[0;31m# minutes\u001b[0m\u001b[0;34m\u001b[0m\u001b[0;34m\u001b[0m\u001b[0m\n\u001b[0m\u001b[1;32m      2\u001b[0m \u001b[0;34m\u001b[0m\u001b[0m\n\u001b[1;32m      3\u001b[0m \u001b[0mdiff_Nn\u001b[0m \u001b[0;34m=\u001b[0m \u001b[0mgradient\u001b[0m\u001b[0;34m(\u001b[0m\u001b[0mNn\u001b[0m\u001b[0;34m[\u001b[0m\u001b[0;36m0\u001b[0m\u001b[0;34m]\u001b[0m\u001b[0;34m.\u001b[0m\u001b[0mdata\u001b[0m\u001b[0;34m,\u001b[0m \u001b[0mdt\u001b[0m\u001b[0;34m,\u001b[0m \u001b[0medge_order\u001b[0m\u001b[0;34m=\u001b[0m\u001b[0;36m1\u001b[0m\u001b[0;34m)\u001b[0m\u001b[0;34m*\u001b[0m\u001b[0;36m1e6\u001b[0m\u001b[0;34m\u001b[0m\u001b[0;34m\u001b[0m\u001b[0m\n\u001b[1;32m      4\u001b[0m \u001b[0mdiff_Ee\u001b[0m \u001b[0;34m=\u001b[0m \u001b[0mgradient\u001b[0m\u001b[0;34m(\u001b[0m\u001b[0mEe\u001b[0m\u001b[0;34m[\u001b[0m\u001b[0;36m0\u001b[0m\u001b[0;34m]\u001b[0m\u001b[0;34m.\u001b[0m\u001b[0mdata\u001b[0m\u001b[0;34m,\u001b[0m \u001b[0mdt\u001b[0m\u001b[0;34m,\u001b[0m \u001b[0medge_order\u001b[0m\u001b[0;34m=\u001b[0m\u001b[0;36m1\u001b[0m\u001b[0;34m)\u001b[0m\u001b[0;34m*\u001b[0m\u001b[0;36m1e6\u001b[0m\u001b[0;34m\u001b[0m\u001b[0;34m\u001b[0m\u001b[0m\n\u001b[1;32m      5\u001b[0m \u001b[0mdiff_VNn\u001b[0m \u001b[0;34m=\u001b[0m \u001b[0mgradient\u001b[0m\u001b[0;34m(\u001b[0m\u001b[0mVNn\u001b[0m\u001b[0;34m[\u001b[0m\u001b[0;36m0\u001b[0m\u001b[0;34m]\u001b[0m\u001b[0;34m.\u001b[0m\u001b[0mdata\u001b[0m\u001b[0;34m,\u001b[0m \u001b[0mdt\u001b[0m\u001b[0;34m,\u001b[0m \u001b[0medge_order\u001b[0m\u001b[0;34m=\u001b[0m\u001b[0;36m1\u001b[0m\u001b[0;34m)\u001b[0m\u001b[0;34m*\u001b[0m\u001b[0;36m1e6\u001b[0m\u001b[0;34m\u001b[0m\u001b[0;34m\u001b[0m\u001b[0m\n",
      "\u001b[0;32m~/anaconda3/lib/python3.7/site-packages/obspy/core/stream.py\u001b[0m in \u001b[0;36m__getitem__\u001b[0;34m(self, index)\u001b[0m\n\u001b[1;32m    647\u001b[0m             \u001b[0;32mreturn\u001b[0m \u001b[0mself\u001b[0m\u001b[0;34m.\u001b[0m\u001b[0m__class__\u001b[0m\u001b[0;34m(\u001b[0m\u001b[0mtraces\u001b[0m\u001b[0;34m=\u001b[0m\u001b[0mself\u001b[0m\u001b[0;34m.\u001b[0m\u001b[0mtraces\u001b[0m\u001b[0;34m.\u001b[0m\u001b[0m__getitem__\u001b[0m\u001b[0;34m(\u001b[0m\u001b[0mindex\u001b[0m\u001b[0;34m)\u001b[0m\u001b[0;34m)\u001b[0m\u001b[0;34m\u001b[0m\u001b[0;34m\u001b[0m\u001b[0m\n\u001b[1;32m    648\u001b[0m         \u001b[0;32melse\u001b[0m\u001b[0;34m:\u001b[0m\u001b[0;34m\u001b[0m\u001b[0;34m\u001b[0m\u001b[0m\n\u001b[0;32m--> 649\u001b[0;31m             \u001b[0;32mreturn\u001b[0m \u001b[0mself\u001b[0m\u001b[0;34m.\u001b[0m\u001b[0mtraces\u001b[0m\u001b[0;34m.\u001b[0m\u001b[0m__getitem__\u001b[0m\u001b[0;34m(\u001b[0m\u001b[0mindex\u001b[0m\u001b[0;34m)\u001b[0m\u001b[0;34m\u001b[0m\u001b[0;34m\u001b[0m\u001b[0m\n\u001b[0m\u001b[1;32m    650\u001b[0m \u001b[0;34m\u001b[0m\u001b[0m\n\u001b[1;32m    651\u001b[0m     \u001b[0;32mdef\u001b[0m \u001b[0m__delitem__\u001b[0m\u001b[0;34m(\u001b[0m\u001b[0mself\u001b[0m\u001b[0;34m,\u001b[0m \u001b[0mindex\u001b[0m\u001b[0;34m)\u001b[0m\u001b[0;34m:\u001b[0m\u001b[0;34m\u001b[0m\u001b[0;34m\u001b[0m\u001b[0m\n",
      "\u001b[0;31mIndexError\u001b[0m: list index out of range"
     ]
    }
   ],
   "source": [
    "dt = Nn[0].stats.delta # minutes\n",
    "\n",
    "diff_Nn = gradient(Nn[0].data, dt, edge_order=1)*1e6\n",
    "diff_Ee = gradient(Ee[0].data, dt, edge_order=1)*1e6\n",
    "diff_VNn = gradient(VNn[0].data, dt, edge_order=1)*1e6\n",
    "diff_VEe = gradient(VEe[0].data, dt, edge_order=1)*1e6\n",
    "\n",
    "\n",
    "timeNn = __get_timeline(Nn)*86400/60\n",
    "timeEe = __get_timeline(Ee)*86400/60\n",
    "timeVNn = __get_timeline(VNn)*86400/60\n",
    "timeVEe = __get_timeline(VEe)*86400/60\n",
    "\n",
    "fig, ax = plt.subplots(4, 1, figsize=(15,10), sharex=True)\n",
    "\n",
    "font=16\n",
    "\n",
    "n1 = int(-8e4)\n",
    "n2 = int(-1e4)\n",
    "\n",
    "ax[0].plot(timeVNn-timeVNn[0], diff_VNn)\n",
    "ax[0].set_ylabel(\"Tilt BT-N (rad)\", fontsize=font)\n",
    "\n",
    "ax[1].plot(timeVEe-timeVNn[0], diff_VEe)\n",
    "ax[1].set_ylabel(\"Tilt BT-E (rad)\", fontsize=font)\n",
    "\n",
    "ax[2].plot(timeNn-timeVNn[0], diff_Nn)\n",
    "ax[2].set_ylabel(\"Tilt PT-N (rad)\", fontsize=font)\n",
    "\n",
    "ax[3].plot(timeEe-timeVNn[0], diff_Ee)\n",
    "ax[3].set_ylabel(\"Tilt PT-E (rad)\", fontsize=font)\n",
    "\n",
    "ax[3].set_xlabel(f\"Time from {Nn[0].stats.starttime.date} {str(Nn[0].stats.starttime.time)[0:8]} UTC (min)\", fontsize=font)\n",
    "\n",
    "\n",
    "for i in range(4):\n",
    "    ax[i].grid(ls='--')\n",
    "#\n",
    "# fig.savefig(path+\"Plot_NE_zoomin.png\", dpi=300, facecolor='w', edgecolor='w',\n",
    "#           orientation='portrait', format=\"png\",\n",
    "#           transparent=False, bbox_inches=\"tight\", pad_inches=0.2,\n",
    "#           )"
   ]
  },
  {
   "cell_type": "code",
   "execution_count": null,
   "id": "emotional-checklist",
   "metadata": {},
   "outputs": [],
   "source": []
  }
 ],
 "metadata": {
  "kernelspec": {
   "display_name": "Python 3",
   "language": "python",
   "name": "python3"
  },
  "language_info": {
   "codemirror_mode": {
    "name": "ipython",
    "version": 3
   },
   "file_extension": ".py",
   "mimetype": "text/x-python",
   "name": "python",
   "nbconvert_exporter": "python",
   "pygments_lexer": "ipython3",
   "version": "3.7.8"
  },
  "latex_envs": {
   "LaTeX_envs_menu_present": true,
   "autoclose": false,
   "autocomplete": true,
   "bibliofile": "biblio.bib",
   "cite_by": "apalike",
   "current_citInitial": 1,
   "eqLabelWithNumbers": true,
   "eqNumInitial": 1,
   "hotkeys": {
    "equation": "Ctrl-E",
    "itemize": "Ctrl-I"
   },
   "labels_anchors": false,
   "latex_user_defs": false,
   "report_style_numbering": false,
   "user_envs_cfg": false
  },
  "toc": {
   "base_numbering": 1,
   "nav_menu": {},
   "number_sections": true,
   "sideBar": true,
   "skip_h1_title": false,
   "title_cell": "Table of Contents",
   "title_sidebar": "Contents",
   "toc_cell": false,
   "toc_position": {},
   "toc_section_display": true,
   "toc_window_display": false
  }
 },
 "nbformat": 4,
 "nbformat_minor": 5
}
