{
 "cells": [
  {
   "cell_type": "markdown",
   "id": "extensive-movement",
   "metadata": {},
   "source": [
    "## Tiltmeter Evaluation"
   ]
  },
  {
   "cell_type": "markdown",
   "id": "noted-resort",
   "metadata": {
    "ExecuteTime": {
     "end_time": "2021-02-19T15:09:20.288504Z",
     "start_time": "2021-02-19T15:09:20.284413Z"
    }
   },
   "source": [
    "### Import Libraries"
   ]
  },
  {
   "cell_type": "code",
   "execution_count": 1,
   "id": "animal-despite",
   "metadata": {
    "ExecuteTime": {
     "end_time": "2021-07-01T16:44:23.726639Z",
     "start_time": "2021-07-01T16:44:22.475604Z"
    }
   },
   "outputs": [],
   "source": [
    "import os\n",
    "import obspy\n",
    "import matplotlib.pyplot as plt\n",
    "import pandas as pd\n",
    "\n",
    "from numpy import arange, linspace, sqrt, diff, nan, gradient, nan\n",
    "from pandas import read_csv, DataFrame\n",
    "from mpl_toolkits.axes_grid1.inset_locator import inset_axes\n",
    "from numpy.ma import filled, isMaskedArray, masked\n",
    "from matplotlib.ticker import (MultipleLocator, AutoMinorLocator)\n",
    "from obspy import UTCDateTime\n",
    "from pathlib import Path\n",
    "\n",
    "from andbro__querrySeismoData import __querrySeismoData\n",
    "from andbro__get_seconds import __get_seconds\n",
    "from andbro__readYaml import __readYaml\n",
    "from andbro__get_timeaxis import __get_timeaxis"
   ]
  },
  {
   "cell_type": "markdown",
   "id": "mounted-throat",
   "metadata": {},
   "source": [
    "### Define Functions"
   ]
  },
  {
   "cell_type": "code",
   "execution_count": 2,
   "id": "de01887f",
   "metadata": {
    "code_folding": [
     0
    ]
   },
   "outputs": [],
   "source": [
    "def __makeplot(pt, bt, config):\n",
    "    \n",
    "    fig, axes = plt.subplots(3,2, figsize=(15,5), sharex=True)\n",
    "    \n",
    "    for i in range(3):\n",
    "        \n",
    "        axes[i,0].plot(pt[i].times()/60, pt[i].data)\n",
    "        axes[i,1].plot(bt[i].times()/60, bt[i].data)\n",
    "        \n",
    "        axes[i,0].grid()\n",
    "        axes[i,1].grid()\n",
    "        \n",
    "    axes[2,0].set_xlabel(\"Time (min)\")\n",
    "    axes[2,1].set_xlabel(\"Time (min)\")\n",
    "    \n",
    "    axes[0,0].set_ylabel(\"$\\Omega$ (rad)\")\n",
    "    axes[1,0].set_ylabel(\"$\\Omega$ (rad)\")\n",
    "    axes[2,0].set_ylabel(\"Temp (°C)\")\n",
    "    \n",
    "    axes[0,1].set_ylabel(\"$\\Omega$ (rad)\")\n",
    "    axes[1,1].set_ylabel(\"$\\Omega$ (rad)\")\n",
    "    axes[2,1].set_ylabel(\"Temp (°C)\")\n",
    "    \n",
    "    return fig "
   ]
  },
  {
   "cell_type": "markdown",
   "id": "clean-hacker",
   "metadata": {},
   "source": [
    "### Configurations"
   ]
  },
  {
   "cell_type": "code",
   "execution_count": 3,
   "id": "superior-memorial",
   "metadata": {
    "ExecuteTime": {
     "end_time": "2021-07-01T16:44:23.769669Z",
     "start_time": "2021-07-01T16:44:23.765328Z"
    }
   },
   "outputs": [],
   "source": [
    "## configurations\n",
    "config={}\n",
    "\n",
    "path = \"/home/andbro/Desktop/tiltmeter/\"\n",
    "# path2 = '/home/andbro/Desktop/tiltmeter/WETTER/*ex'\n",
    "\n",
    "# config['tend'] = UTCDateTime.now() - 10*60\n",
    "# config['tbeg'] = config['tend'] - 15*86400\n",
    "\n",
    "config['tbeg'] = UTCDateTime(\"2021-04-01 00:00\")\n",
    "config['tend'] = UTCDateTime(\"2021-11-24 00:00\")\n",
    "\n",
    "config['save'] = True\n",
    "\n",
    "config['seed_id'] = [\"BW.TROMY..MA*\", \"BW.DROMY..LA*\"]\n",
    "config['repository'] = 'george'\n",
    "config['datapath'] =  None\n",
    "config['name'] = 'tiltmeter'\n",
    "config['set_filter'] = 'n'\n",
    "\n",
    "\n",
    "## tiltmeter configurations\n",
    "confTilt = __readYaml('/home/brotzer/Documents/ROMY/','tiltmeter.conf')\n",
    "confPT = confTilt['PT']\n",
    "confBT = confTilt['BT']\n",
    "\n",
    "\n",
    "## gain for Temperature channel of PT was not set correctly prior to 2021-03-03\n",
    "correct_settings_temp_PT = (\"2021-03-05\", config['tend'])"
   ]
  },
  {
   "cell_type": "markdown",
   "id": "charming-shuttle",
   "metadata": {},
   "source": [
    "### Load Tiltmeter Data"
   ]
  },
  {
   "cell_type": "code",
   "execution_count": 5,
   "id": "younger-tower",
   "metadata": {
    "ExecuteTime": {
     "end_time": "2021-07-01T16:59:22.082898Z",
     "start_time": "2021-07-01T16:44:23.771633Z"
    }
   },
   "outputs": [
    {
     "name": "stdout",
     "output_type": "stream",
     "text": [
      "Coordinates could not be attached! Inventory not complete!\n"
     ]
    },
    {
     "data": {
      "text/plain": [
       "3 Trace(s) in Stream:\n",
       "BW.TROMY..MAE | 2021-04-01T00:00:00.039999Z - 2021-11-23T23:59:50.039999Z | 0.1 Hz, 2047680 samples\n",
       "BW.TROMY..MAN | 2021-04-01T00:00:00.040000Z - 2021-11-23T23:59:50.040000Z | 0.1 Hz, 2047680 samples\n",
       "BW.TROMY..MAT | 2021-04-01T00:00:00.040000Z - 2021-11-23T23:59:50.040000Z | 0.1 Hz, 2047680 samples"
      ]
     },
     "execution_count": 5,
     "metadata": {},
     "output_type": "execute_result"
    },
    {
     "data": {
      "text/plain": [
       "3 Trace(s) in Stream:\n",
       "BW.TROMY..MAE | 2021-04-01T00:00:00.039999Z - 2021-11-23T23:59:50.039999Z | 0.1 Hz, 2047680 samples\n",
       "BW.TROMY..MAN | 2021-04-01T00:00:00.040000Z - 2021-11-23T23:59:50.040000Z | 0.1 Hz, 2047680 samples\n",
       "BW.TROMY..MAT | 2021-04-01T00:00:00.040000Z - 2021-11-23T23:59:50.040000Z | 0.1 Hz, 2047680 samples"
      ]
     },
     "execution_count": 5,
     "metadata": {},
     "output_type": "execute_result"
    }
   ],
   "source": [
    "pt, inv0 = __querrySeismoData(    \n",
    "                            seed_id=config.get(\"seed_id\")[0],\n",
    "                            starttime=config.get(\"tbeg\"),\n",
    "                            endtime=config.get(\"tend\"),\n",
    "                            where=config.get(\"repository\"),\n",
    "                            path=config.get(\"datapath\"),\n",
    "                            restitute=False,\n",
    "                            detail=None,\n",
    "                            fill_value=-9999, \n",
    "                            )\n",
    "\n",
    "pt.resample(0.1)\n",
    "\n",
    "pt"
   ]
  },
  {
   "cell_type": "code",
   "execution_count": null,
   "id": "alike-timeline",
   "metadata": {
    "ExecuteTime": {
     "end_time": "2021-07-01T17:01:21.711939Z",
     "start_time": "2021-07-01T16:59:22.085693Z"
    }
   },
   "outputs": [],
   "source": [
    "bt, inv0 = __querrySeismoData(    \n",
    "                            seed_id=config.get(\"seed_id\")[1],\n",
    "                            starttime=config.get(\"tbeg\"),\n",
    "                            endtime=config.get(\"tend\"),\n",
    "                            where=config.get(\"repository\"),\n",
    "                            path=config.get(\"datapath\"),\n",
    "                            restitute=True,\n",
    "                            detail=None,\n",
    "                            fill_value=-9999, \n",
    "                            )\n",
    "bt"
   ]
  },
  {
   "cell_type": "markdown",
   "id": "af96ad7e",
   "metadata": {},
   "source": [
    "### Covert Data"
   ]
  },
  {
   "cell_type": "code",
   "execution_count": 6,
   "id": "9969b211",
   "metadata": {
    "code_folding": [
     0
    ]
   },
   "outputs": [],
   "source": [
    "def __conversion(st, confBT, confPT):\n",
    "\n",
    "    def convertTemp(trace, gain):\n",
    "        Tvolt = trace.data * gain\n",
    "        return 10.18 - 11.59*Tvolt + 0.3335*Tvolt**2 - 0.5316*Tvolt**3\n",
    "\n",
    "    def convertTilt(trace, conversion, sensitivity):\n",
    "        return trace.data * conversion * sensitivity\n",
    "        # print( type(conversion), type(sensitivity), type(trace.data) )\n",
    "\n",
    "    for tr in st:\n",
    "        if tr.stats.channel == 'MAT':\n",
    "            tr.data = convertTemp(tr, confPT['gainTemp'])\n",
    "        elif tr.stats.channel == 'MAN':\n",
    "            tr.data = convertTilt(tr, confPT['convPTN'], confPT['gainTilt'])\n",
    "        elif tr.stats.channel == 'MAE':\n",
    "            tr.data = convertTilt(tr, confPT['convPTE'], confPT['gainTilt'])\n",
    "\n",
    "        elif tr.stats.channel == 'LAT':\n",
    "            tr.data = convertTemp(tr, confBT['gainTemp'])\n",
    "        elif tr.stats.channel == 'LAN':\n",
    "            tr.data = convertTilt(tr, confBT['convBTN'], confBT['gainTilt'])\n",
    "        elif tr.stats.channel == 'LAE':\n",
    "            tr.data = convertTilt(tr, confBT['convBTE'], confBT['gainTilt'])\n",
    "\n",
    "    print(\"  -> converted data\")\n",
    "    return st"
   ]
  },
  {
   "cell_type": "code",
   "execution_count": 9,
   "id": "513fce1a",
   "metadata": {},
   "outputs": [
    {
     "name": "stdout",
     "output_type": "stream",
     "text": [
      "  -> converted data\n"
     ]
    }
   ],
   "source": [
    "pt = __conversion(pt, confBT, confPT)\n",
    "\n",
    "# bt = __conversion(bt, confBT, confPT)"
   ]
  },
  {
   "cell_type": "code",
   "execution_count": 8,
   "id": "2fdc112d",
   "metadata": {},
   "outputs": [
    {
     "ename": "NameError",
     "evalue": "name 'bt' is not defined",
     "output_type": "error",
     "traceback": [
      "\u001b[0;31m---------------------------------------------------------------------------\u001b[0m",
      "\u001b[0;31mNameError\u001b[0m                                 Traceback (most recent call last)",
      "\u001b[0;32m<ipython-input-8-87b3606398da>\u001b[0m in \u001b[0;36m<module>\u001b[0;34m\u001b[0m\n\u001b[0;32m----> 1\u001b[0;31m \u001b[0mfig\u001b[0m \u001b[0;34m=\u001b[0m \u001b[0m__makeplot\u001b[0m\u001b[0;34m(\u001b[0m\u001b[0mpt\u001b[0m\u001b[0;34m,\u001b[0m \u001b[0mbt\u001b[0m\u001b[0;34m,\u001b[0m \u001b[0mconfig\u001b[0m\u001b[0;34m)\u001b[0m\u001b[0;34m;\u001b[0m\u001b[0;34m\u001b[0m\u001b[0;34m\u001b[0m\u001b[0m\n\u001b[0m",
      "\u001b[0;31mNameError\u001b[0m: name 'bt' is not defined"
     ]
    }
   ],
   "source": [
    "fig = __makeplot(pt, bt, config);"
   ]
  },
  {
   "cell_type": "code",
   "execution_count": 10,
   "id": "c66ab990",
   "metadata": {},
   "outputs": [
    {
     "data": {
      "text/plain": [
       "[<matplotlib.lines.Line2D at 0x7faf0b143450>]"
      ]
     },
     "execution_count": 10,
     "metadata": {},
     "output_type": "execute_result"
    },
    {
     "data": {
      "image/png": "[encoded data removed]",
      "text/plain": [
       "<Figure size 432x288 with 1 Axes>"
      ]
     },
     "metadata": {
      "needs_background": "light"
     },
     "output_type": "display_data"
    }
   ],
   "source": [
    "# values = pt[0].data\n",
    "\n",
    "# for i, val in enumerate(values):\n",
    "#     if val == 0:\n",
    "#         values[i] = nan\n",
    "# pt[0].data = values\n",
    "\n",
    "plt.plot(pt[0].data)"
   ]
  },
  {
   "cell_type": "code",
   "execution_count": 11,
   "id": "1c83561c",
   "metadata": {},
   "outputs": [
    {
     "data": {
      "text/plain": [
       "[<matplotlib.lines.Line2D at 0x7faf0ad138d0>]"
      ]
     },
     "execution_count": 11,
     "metadata": {},
     "output_type": "execute_result"
    },
    {
     "data": {
      "image/png": "[encoded data removed]",
      "text/plain": [
       "<Figure size 432x288 with 1 Axes>"
      ]
     },
     "metadata": {
      "needs_background": "light"
     },
     "output_type": "display_data"
    }
   ],
   "source": [
    "n1 = 503_000\n",
    "n2 = n1 + 2_000\n",
    "\n",
    "# for i, val in enumerate(pt[0].data):\n",
    "#     if i > n1 and i < n2:\n",
    "#         pt[0].data[i] = nan\n",
    "\n",
    "plt.plot(pt[0].data[n1:n2])"
   ]
  },
  {
   "cell_type": "code",
   "execution_count": 12,
   "id": "b5fddae5",
   "metadata": {},
   "outputs": [
    {
     "data": {
      "text/plain": [
       "2021-05-29T05:13:20.039999Z"
      ]
     },
     "execution_count": 12,
     "metadata": {},
     "output_type": "execute_result"
    },
    {
     "data": {
      "text/plain": [
       "2021-05-29T10:46:40.039999Z"
      ]
     },
     "execution_count": 12,
     "metadata": {},
     "output_type": "execute_result"
    }
   ],
   "source": [
    "pt[0].times(type=\"utcdatetime\")[n1]\n",
    "pt[0].times(type=\"utcdatetime\")[n2]"
   ]
  },
  {
   "cell_type": "markdown",
   "id": "published-apparel",
   "metadata": {},
   "source": [
    "#### cutout maintenance work and unreliable data"
   ]
  },
  {
   "cell_type": "code",
   "execution_count": 13,
   "id": "everyday-brand",
   "metadata": {
    "ExecuteTime": {
     "start_time": "2021-07-01T16:44:22.565Z"
    }
   },
   "outputs": [],
   "source": [
    "# ## maintenance interruption \n",
    "# maintenancePT = [\n",
    "#                 (\"2021-03-02 16:00\", \"2021-03-02 19:00\"),\n",
    "#                 (\"2021-03-04 15:00\", \"2021-03-04 17:00\"),\n",
    "#                 (\"2021-03-04 23:30\", \"2021-03-05 00:30\"),\n",
    "#                 ]\n",
    "\n",
    "# maintenanceBT = [\n",
    "#                 (\"2021-03-04 13:15\", \"2021-03-04 16:00\"),\n",
    "#                 (\"2021-03-09 10:45\", \"2021-03-09 11:30\"),\n",
    "#                 ]\n",
    "\n",
    "# ## data influenced probably py dehumidifier\n",
    "# corrupt_data = [\n",
    "#                 (\"2021-02-15 16:00\", \"2021-02-24 14:00\" ),\n",
    "#                 (\"2021-03-02 14:00\", \"2021-03-09 17:00\"),\n",
    "#                ]"
   ]
  },
  {
   "cell_type": "code",
   "execution_count": 14,
   "id": "3cea05a9",
   "metadata": {
    "code_folding": [
     0
    ]
   },
   "outputs": [],
   "source": [
    "def __cut_corrupt_data(st, corrupt_data, config):\n",
    "\n",
    "    for i, (val1,val2) in enumerate(corrupt_data):\n",
    "\n",
    "        print(f\"cutting corrupt data: {i}...\")\n",
    "        \n",
    "        pt0 = st.slice(config['tbeg'], UTCDateTime(val1))\n",
    "        pt0 += st.slice(UTCDateTime(val2), config['tend'])\n",
    "                \n",
    "        pt0.merge(fill_value = nan)\n",
    "        \n",
    "        st = pt0\n",
    "        \n",
    "    return st"
   ]
  },
  {
   "cell_type": "code",
   "execution_count": 16,
   "id": "69b4517a",
   "metadata": {
    "code_folding": []
   },
   "outputs": [
    {
     "name": "stdout",
     "output_type": "stream",
     "text": [
      "cutting corrupt data: 0...\n",
      "cutting corrupt data: 1...\n",
      "cutting corrupt data: 2...\n",
      "cutting corrupt data: 3...\n",
      "cutting corrupt data: 4...\n",
      "cutting corrupt data: 5...\n"
     ]
    }
   ],
   "source": [
    "corrupt_data = [(\"2021-11-15 12:53\", \"2021-11-15 13:18\"),\n",
    "                (\"2021-10-07 09:20\", \"2021-10-07 15:27\"),\n",
    "                (\"2021-10-12 08:13\", \"2021-10-12 08:47\"),\n",
    "                (\"2021-09-30 12:36\", \"2021-09-30 14:00\"),\n",
    "                (\"2021-07-27 10:43\", \"2021-07-27 11:50\"),\n",
    "                (\"2021-06-06 19:00\", \"2021-07-23 02:00\"),\n",
    "               ]\n",
    "\n",
    "\n",
    "pt = __cut_corrupt_data(pt, corrupt_data, config) \n",
    "# bt = __cut_corrupt_data(bt, corrupt_data, config) "
   ]
  },
  {
   "cell_type": "code",
   "execution_count": 17,
   "id": "b612dc6d",
   "metadata": {},
   "outputs": [
    {
     "ename": "NameError",
     "evalue": "name 'bt' is not defined",
     "output_type": "error",
     "traceback": [
      "\u001b[0;31m---------------------------------------------------------------------------\u001b[0m",
      "\u001b[0;31mNameError\u001b[0m                                 Traceback (most recent call last)",
      "\u001b[0;32m<ipython-input-17-87b3606398da>\u001b[0m in \u001b[0;36m<module>\u001b[0;34m\u001b[0m\n\u001b[0;32m----> 1\u001b[0;31m \u001b[0mfig\u001b[0m \u001b[0;34m=\u001b[0m \u001b[0m__makeplot\u001b[0m\u001b[0;34m(\u001b[0m\u001b[0mpt\u001b[0m\u001b[0;34m,\u001b[0m \u001b[0mbt\u001b[0m\u001b[0;34m,\u001b[0m \u001b[0mconfig\u001b[0m\u001b[0;34m)\u001b[0m\u001b[0;34m;\u001b[0m\u001b[0;34m\u001b[0m\u001b[0;34m\u001b[0m\u001b[0m\n\u001b[0m",
      "\u001b[0;31mNameError\u001b[0m: name 'bt' is not defined"
     ]
    }
   ],
   "source": [
    "fig = __makeplot(pt, bt, config);"
   ]
  },
  {
   "cell_type": "markdown",
   "id": "obvious-imaging",
   "metadata": {
    "ExecuteTime": {
     "end_time": "2021-02-23T08:42:57.050040Z",
     "start_time": "2021-02-23T08:42:57.046253Z"
    }
   },
   "source": [
    "### Load FURT Data"
   ]
  },
  {
   "cell_type": "code",
   "execution_count": 18,
   "id": "b2773285",
   "metadata": {
    "code_folding": [
     0
    ]
   },
   "outputs": [],
   "source": [
    "def __read_furt_data(config, show_raw=False):\n",
    "    '''\n",
    "    Load a selection of data of FURT weather station for time period\n",
    "    \n",
    "    \n",
    "    PARAMETERS:\n",
    "        - config:    configuration dictionary\n",
    "        - show_raw:  bool (True/False) -> shows raw data FURT head\n",
    "\n",
    "\n",
    "    RETURN:\n",
    "        - dataframe\n",
    "        \n",
    "    '''\n",
    "    \n",
    "    from tqdm import tqdm\n",
    "    from numpy import arange\n",
    "        \n",
    "        \n",
    "    ## define path_to_archive -> directory with data\n",
    "    if 'path_to_archive' in config.keys():\n",
    "        path_to_archive = config['path_to_archive']\n",
    "    else:\n",
    "        path_to_archive = '/bay200/gif_online/FURT/WETTER/'\n",
    "        \n",
    "    ## check if path with data exists\n",
    "    if not Path(path_to_archive).exists():\n",
    "        print(f\"  -> Path: {path_to_archive}, does not exists!\")\n",
    "        return    \n",
    "    \n",
    "    \n",
    "    ## list of parameters requried in configurations\n",
    "    params = ['tbeg', 'tend']\n",
    "    for param in params:\n",
    "        if not param in config.keys():\n",
    "            print(f\"ERROR: {param} not in config but required!\")\n",
    "            return\n",
    "    \n",
    "    \n",
    "    ## declare empyt dataframe\n",
    "    df = pd.DataFrame()\n",
    "    \n",
    "    ## loop over day files and load data\n",
    "    for i, date in tqdm(enumerate(arange(config['tbeg'].date, (config['tend']+86400).date))):\n",
    "        \n",
    "        date = UTCDateTime(str(date)).date\n",
    "        filename = f'FURT.WSX.D.{str(date.day).rjust(2,\"0\")}{str(date.month).rjust(2,\"0\")}{str(date.year).rjust(2,\"0\")[-2:]}.0000'\n",
    "        \n",
    "#         print(f'   reading {filename} ...')\n",
    "\n",
    "        try:\n",
    "            if show_raw:\n",
    "                df0 = pd.read_csv(path_to_archive+filename)            \n",
    "                print(df0.columns.tolist())\n",
    "                return\n",
    "            else:\n",
    "                df0 = pd.read_csv(path_to_archive+filename, usecols=[0,1,10,12,13,14], names=['date', 'time', 'T', 'H', 'P','Rc'])            \n",
    "            \n",
    "            ## substitute strings with floats\n",
    "            df0['T']  = df0['T'].str.split(\"=\", expand=True)[1].str.split(\"C\", expand=True)[0].astype(float)\n",
    "            df0['P']  = df0['P'].str.split(\"=\", expand=True)[1].str.split(\"H\", expand=True)[0].astype(float)\n",
    "            df0['H']  = df0['H'].str.split(\"=\", expand=True)[1].str.split(\"P\", expand=True)[0].astype(float)\n",
    "            df0['Rc'] = df0['Rc'].str.split(\"=\", expand=True)[1].str.split(\"M\", expand=True)[0].astype(float)\n",
    "           \n",
    "            \n",
    "            ## replace error indicating values (-9999, 999.9) with NaN values\n",
    "            df0.replace(to_replace=-9999, value=nan, inplace=True)\n",
    "            df0.replace(to_replace=999.9, value=nan, inplace=True)\n",
    "            \n",
    "            \n",
    "            if df.empty:\n",
    "                df = df0\n",
    "            else: \n",
    "                df = pd.concat([df, df0])\n",
    "        except:\n",
    "            print(f\"  -> File: {filename}, does not exists!\")\n",
    "   \n",
    "    df.reset_index(inplace=True, drop=True)\n",
    "        \n",
    "    return df"
   ]
  },
  {
   "cell_type": "code",
   "execution_count": 19,
   "id": "86915748",
   "metadata": {
    "code_folding": [
     0
    ]
   },
   "outputs": [],
   "source": [
    "def __processing_FURT(data, config):\n",
    "    \n",
    "    filter_length = 10*config['resample']\n",
    "    \n",
    "    data.iloc[:,3:6] = data.iloc[:,3:6].rolling(filter_length).mean() \n",
    "    print(f\"Filter: rooling mean {filter_length}!\")\n",
    "    \n",
    "    data = data[data.index % config['resample'] == 0]\n",
    "    print(f\"Resampling: keep every {config['resample']}nth sample!\")\n",
    "    \n",
    "    return data"
   ]
  },
  {
   "cell_type": "code",
   "execution_count": null,
   "id": "6d12174f",
   "metadata": {},
   "outputs": [
    {
     "name": "stderr",
     "output_type": "stream",
     "text": [
      "81it [01:31,  1.14s/it]/home/brotzer/anaconda3/lib/python3.7/site-packages/IPython/core/interactiveshell.py:3337: DtypeWarning: Columns (1) have mixed types.Specify dtype option on import or set low_memory=False.\n",
      "  if (await self.run_code(code, result,  async_=asy)):\n",
      "84it [01:35,  1.27s/it]"
     ]
    },
    {
     "name": "stdout",
     "output_type": "stream",
     "text": [
      "  -> File: FURT.WSX.D.240621.0000, does not exists!\n"
     ]
    },
    {
     "name": "stderr",
     "output_type": "stream",
     "text": [
      "170it [03:38,  1.57s/it]"
     ]
    }
   ],
   "source": [
    "FURT = __read_furt_data(config)"
   ]
  },
  {
   "cell_type": "code",
   "execution_count": null,
   "id": "dc90604e",
   "metadata": {},
   "outputs": [],
   "source": [
    "FURT = FURT[['date', 'time', 'T', 'P', 'H', 'Rc']]\n",
    "\n",
    "config['resample'] = 10\n",
    "FURT = __processing_FURT(FURT, config)\n",
    "\n",
    "## add a column with day of year\n",
    "FURT['doy'] = [int(UTCDateTime(f'20{str(dat).rjust(6,\"0\")[-2:]}-{str(dat).rjust(6,\"0\")[-4:-2]}-{str(dat).rjust(6,\"0\")[-6:-4]}').julday) for dat in FURT.date]"
   ]
  },
  {
   "cell_type": "code",
   "execution_count": null,
   "id": "ignored-eating",
   "metadata": {
    "ExecuteTime": {
     "start_time": "2021-07-01T16:44:22.596Z"
    },
    "code_folding": [
     0
    ]
   },
   "outputs": [],
   "source": [
    "def __get_vector(N, E, Twin=3600):\n",
    "\n",
    "    from numpy import median, sqrt, arctan, degrees, mod, array, append, rad2deg\n",
    "\n",
    "    \n",
    "    dt = N[0].stats.delta\n",
    "    t1 = N[0].stats.starttime\n",
    "    t1 = 0\n",
    "\n",
    "    Ndata = N[0].data\n",
    "    Edata = E[0].data\n",
    "\n",
    "    vnorm, vdir, timeline = [], [], []\n",
    "    while (t1 + Twin*dt) < N[0].stats.npts:\n",
    "\n",
    "\n",
    "        Nmed = median(Ndata[int(t1*dt):int((t1+Twin)*dt)])\n",
    "        Emed = median(Edata[int(t1*dt):int((t1+Twin)*dt)])\n",
    "\n",
    "        vnorm.append(sqrt(Nmed**2 + Emed**2))\n",
    "    #     vdir.append(mod(degrees(arctan(Nmed/Emed)), 360))\n",
    "        vdir.append(rad2deg(arctan(Nmed/Emed)))\n",
    "\n",
    "        t1 += Twin/2*dt\n",
    "    \n",
    "        timeline.append(t1*dt)\n",
    "    \n",
    "    \n",
    "    time_offset = N[0].stats.starttime.hour*3600+ N[0].stats.starttime.minute*60 + N[0].stats.starttime.second\n",
    "    timeline = ( array(timeline) + time_offset ) / 3600 /24 # in hours\n",
    "    \n",
    "    return timeline, array(vdir), array(vnorm)\n",
    "\n",
    "bt_vtimeline, bt_vdir, bt_vnorm = __get_vector(bt.select(channel=\"*N\"), bt.select(channel=\"*E\"), Twin=3600)\n",
    "pt_vtimeline, pt_vdir, pt_vnorm = __get_vector(pt.select(channel=\"*N\"), pt.select(channel=\"*E\"), Twin=3600)"
   ]
  },
  {
   "cell_type": "markdown",
   "id": "detailed-france",
   "metadata": {},
   "source": [
    "### Plotting"
   ]
  },
  {
   "cell_type": "code",
   "execution_count": null,
   "id": "municipal-chicago",
   "metadata": {
    "ExecuteTime": {
     "start_time": "2021-07-01T16:44:22.609Z"
    },
    "code_folding": [
     1
    ]
   },
   "outputs": [],
   "source": [
    "def __makeplote_overview(pt, bt, FURT):\n",
    "    \n",
    "    fig, ax = plt.subplots(8, 1, figsize=(15,10), sharex=True)\n",
    "\n",
    "    font=14\n",
    "\n",
    "    timeline_furt, ticks_furt, ticklabels_furt, text_furt = __get_timeaxis(\n",
    "                                                                            dates=FURT['date'],\n",
    "                                                                            times=FURT['time'],\n",
    "                                                                            unit='date',\n",
    "                                                                            unitmode='relative',\n",
    "                                                                            dateformat='ddmmyy',\n",
    "                                                                          )\n",
    "    utcdatetimes = bt[0].times(type=\"utcdatetime\")\n",
    "    \n",
    "    timeline, ticks, ticklabels, text = __get_timeaxis(\n",
    "                                                        utcdatetime=utcdatetimes,\n",
    "                                                        unit='date',\n",
    "                                                        unitmode='relative',\n",
    "                                                        dateformat='ddmmyy',\n",
    "                                                      )    \n",
    "    \n",
    "    \n",
    "    \n",
    "    \n",
    "    ax[0].plot(timeline, bt[0].data)\n",
    "    \n",
    "    ax[6].plot(timeline_furt, FURT['T']) \n",
    "\n",
    "\n",
    "    plt.show();\n",
    "    return fig\n",
    "    \n",
    "# __makeplote_overview(pt, bt, FURT);"
   ]
  },
  {
   "cell_type": "code",
   "execution_count": 22,
   "id": "emotional-checklist",
   "metadata": {
    "code_folding": [
     0
    ]
   },
   "outputs": [
    {
     "name": "stdout",
     "output_type": "stream",
     "text": [
      " -> Formating: date <ddmmyy> -> <yyyymmdd>\n"
     ]
    },
    {
     "ename": "ValueError",
     "evalue": "time data '20' does not match format '%Y%m%d%H%M%S'",
     "output_type": "error",
     "traceback": [
      "\u001b[0;31m---------------------------------------------------------------------------\u001b[0m",
      "\u001b[0;31mValueError\u001b[0m                                Traceback (most recent call last)",
      "\u001b[0;32m<ipython-input-22-d6e7e97be42e>\u001b[0m in \u001b[0;36m<module>\u001b[0;34m\u001b[0m\n\u001b[1;32m     55\u001b[0m     \u001b[0;32mreturn\u001b[0m \u001b[0mfig\u001b[0m\u001b[0;34m\u001b[0m\u001b[0;34m\u001b[0m\u001b[0m\n\u001b[1;32m     56\u001b[0m \u001b[0;34m\u001b[0m\u001b[0m\n\u001b[0;32m---> 57\u001b[0;31m \u001b[0m__makeplote_platform\u001b[0m\u001b[0;34m(\u001b[0m\u001b[0mpt\u001b[0m\u001b[0;34m,\u001b[0m \u001b[0mFURT\u001b[0m\u001b[0;34m)\u001b[0m\u001b[0;34m;\u001b[0m\u001b[0;34m\u001b[0m\u001b[0;34m\u001b[0m\u001b[0m\n\u001b[0m",
      "\u001b[0;32m<ipython-input-22-d6e7e97be42e>\u001b[0m in \u001b[0;36m__makeplote_platform\u001b[0;34m(st, FURT)\u001b[0m\n\u001b[1;32m     12\u001b[0m                                                                             \u001b[0munit\u001b[0m\u001b[0;34m=\u001b[0m\u001b[0;34m'date'\u001b[0m\u001b[0;34m,\u001b[0m\u001b[0;34m\u001b[0m\u001b[0;34m\u001b[0m\u001b[0m\n\u001b[1;32m     13\u001b[0m                                                                             \u001b[0munitmode\u001b[0m\u001b[0;34m=\u001b[0m\u001b[0;34m'relative'\u001b[0m\u001b[0;34m,\u001b[0m\u001b[0;34m\u001b[0m\u001b[0;34m\u001b[0m\u001b[0m\n\u001b[0;32m---> 14\u001b[0;31m                                                                             \u001b[0mdateformat\u001b[0m\u001b[0;34m=\u001b[0m\u001b[0;34m'ddmmyy'\u001b[0m\u001b[0;34m,\u001b[0m\u001b[0;34m\u001b[0m\u001b[0;34m\u001b[0m\u001b[0m\n\u001b[0m\u001b[1;32m     15\u001b[0m                                                                           )\n\u001b[1;32m     16\u001b[0m \u001b[0;34m\u001b[0m\u001b[0m\n",
      "\u001b[0;32m~/anaconda3/lib/python3.7/site-packages/andbro__get_timeaxis.py\u001b[0m in \u001b[0;36m__get_timeaxis\u001b[0;34m(dates, times, utcdatetime, timestamp, unit, unitmode, dateformat)\u001b[0m\n\u001b[1;32m     93\u001b[0m         \u001b[0mdates\u001b[0m\u001b[0;34m,\u001b[0m \u001b[0mtimes\u001b[0m \u001b[0;34m=\u001b[0m \u001b[0marray\u001b[0m\u001b[0;34m(\u001b[0m\u001b[0mdates\u001b[0m\u001b[0;34m)\u001b[0m\u001b[0;34m,\u001b[0m \u001b[0marray\u001b[0m\u001b[0;34m(\u001b[0m\u001b[0mtimes\u001b[0m\u001b[0;34m)\u001b[0m\u001b[0;34m\u001b[0m\u001b[0;34m\u001b[0m\u001b[0m\n\u001b[1;32m     94\u001b[0m \u001b[0;34m\u001b[0m\u001b[0m\n\u001b[0;32m---> 95\u001b[0;31m         \u001b[0mdate0_time0\u001b[0m \u001b[0;34m=\u001b[0m \u001b[0mUTCDateTime\u001b[0m\u001b[0;34m(\u001b[0m\u001b[0;34mf'{dates[0]} {str(times[0]).rjust(6,\"0\")}'\u001b[0m\u001b[0;34m)\u001b[0m\u001b[0;34m\u001b[0m\u001b[0;34m\u001b[0m\u001b[0m\n\u001b[0m\u001b[1;32m     96\u001b[0m         \u001b[0mdate0\u001b[0m \u001b[0;34m=\u001b[0m \u001b[0mdate0_time0\u001b[0m\u001b[0;34m.\u001b[0m\u001b[0mdate\u001b[0m\u001b[0;34m.\u001b[0m\u001b[0mstrftime\u001b[0m\u001b[0;34m(\u001b[0m\u001b[0;34m\"%Y-%m-%d\"\u001b[0m\u001b[0;34m)\u001b[0m\u001b[0;34m\u001b[0m\u001b[0;34m\u001b[0m\u001b[0m\n\u001b[1;32m     97\u001b[0m         \u001b[0mtime0\u001b[0m \u001b[0;34m=\u001b[0m \u001b[0mdate0_time0\u001b[0m\u001b[0;34m.\u001b[0m\u001b[0mtime\u001b[0m\u001b[0;34m.\u001b[0m\u001b[0mstrftime\u001b[0m\u001b[0;34m(\u001b[0m\u001b[0;34m\"%H:%M:%S\"\u001b[0m\u001b[0;34m)\u001b[0m\u001b[0;34m\u001b[0m\u001b[0;34m\u001b[0m\u001b[0m\n",
      "\u001b[0;32m~/anaconda3/lib/python3.7/site-packages/obspy/core/utcdatetime.py\u001b[0m in \u001b[0;36m__init__\u001b[0;34m(self, *args, **kwargs)\u001b[0m\n\u001b[1;32m    422\u001b[0m                     \u001b[0mself\u001b[0m\u001b[0;34m.\u001b[0m\u001b[0m_from_datetime\u001b[0m\u001b[0;34m(\u001b[0m\u001b[0mdt\u001b[0m\u001b[0;34m)\u001b[0m\u001b[0;34m\u001b[0m\u001b[0;34m\u001b[0m\u001b[0m\n\u001b[1;32m    423\u001b[0m                     \u001b[0;32mreturn\u001b[0m\u001b[0;34m\u001b[0m\u001b[0;34m\u001b[0m\u001b[0m\n\u001b[0;32m--> 424\u001b[0;31m                 \u001b[0mdt\u001b[0m \u001b[0;34m=\u001b[0m \u001b[0mdatetime\u001b[0m\u001b[0;34m.\u001b[0m\u001b[0mdatetime\u001b[0m\u001b[0;34m.\u001b[0m\u001b[0mstrptime\u001b[0m\u001b[0;34m(\u001b[0m\u001b[0mvalue\u001b[0m\u001b[0;34m,\u001b[0m \u001b[0mpattern\u001b[0m\u001b[0;34m)\u001b[0m\u001b[0;34m\u001b[0m\u001b[0;34m\u001b[0m\u001b[0m\n\u001b[0m\u001b[1;32m    425\u001b[0m                 \u001b[0mdt\u001b[0m \u001b[0;34m+=\u001b[0m \u001b[0mdatetime\u001b[0m\u001b[0;34m.\u001b[0m\u001b[0mtimedelta\u001b[0m\u001b[0;34m(\u001b[0m\u001b[0mseconds\u001b[0m\u001b[0;34m=\u001b[0m\u001b[0mms\u001b[0m\u001b[0;34m)\u001b[0m\u001b[0;34m\u001b[0m\u001b[0;34m\u001b[0m\u001b[0m\n\u001b[1;32m    426\u001b[0m                 \u001b[0mself\u001b[0m\u001b[0;34m.\u001b[0m\u001b[0m_from_datetime\u001b[0m\u001b[0;34m(\u001b[0m\u001b[0mdt\u001b[0m\u001b[0;34m)\u001b[0m\u001b[0;34m\u001b[0m\u001b[0;34m\u001b[0m\u001b[0m\n",
      "\u001b[0;32m~/anaconda3/lib/python3.7/_strptime.py\u001b[0m in \u001b[0;36m_strptime_datetime\u001b[0;34m(cls, data_string, format)\u001b[0m\n\u001b[1;32m    575\u001b[0m     \"\"\"Return a class cls instance based on the input string and the\n\u001b[1;32m    576\u001b[0m     format string.\"\"\"\n\u001b[0;32m--> 577\u001b[0;31m     \u001b[0mtt\u001b[0m\u001b[0;34m,\u001b[0m \u001b[0mfraction\u001b[0m\u001b[0;34m,\u001b[0m \u001b[0mgmtoff_fraction\u001b[0m \u001b[0;34m=\u001b[0m \u001b[0m_strptime\u001b[0m\u001b[0;34m(\u001b[0m\u001b[0mdata_string\u001b[0m\u001b[0;34m,\u001b[0m \u001b[0mformat\u001b[0m\u001b[0;34m)\u001b[0m\u001b[0;34m\u001b[0m\u001b[0;34m\u001b[0m\u001b[0m\n\u001b[0m\u001b[1;32m    578\u001b[0m     \u001b[0mtzname\u001b[0m\u001b[0;34m,\u001b[0m \u001b[0mgmtoff\u001b[0m \u001b[0;34m=\u001b[0m \u001b[0mtt\u001b[0m\u001b[0;34m[\u001b[0m\u001b[0;34m-\u001b[0m\u001b[0;36m2\u001b[0m\u001b[0;34m:\u001b[0m\u001b[0;34m]\u001b[0m\u001b[0;34m\u001b[0m\u001b[0;34m\u001b[0m\u001b[0m\n\u001b[1;32m    579\u001b[0m     \u001b[0margs\u001b[0m \u001b[0;34m=\u001b[0m \u001b[0mtt\u001b[0m\u001b[0;34m[\u001b[0m\u001b[0;34m:\u001b[0m\u001b[0;36m6\u001b[0m\u001b[0;34m]\u001b[0m \u001b[0;34m+\u001b[0m \u001b[0;34m(\u001b[0m\u001b[0mfraction\u001b[0m\u001b[0;34m,\u001b[0m\u001b[0;34m)\u001b[0m\u001b[0;34m\u001b[0m\u001b[0;34m\u001b[0m\u001b[0m\n",
      "\u001b[0;32m~/anaconda3/lib/python3.7/_strptime.py\u001b[0m in \u001b[0;36m_strptime\u001b[0;34m(data_string, format)\u001b[0m\n\u001b[1;32m    357\u001b[0m     \u001b[0;32mif\u001b[0m \u001b[0;32mnot\u001b[0m \u001b[0mfound\u001b[0m\u001b[0;34m:\u001b[0m\u001b[0;34m\u001b[0m\u001b[0;34m\u001b[0m\u001b[0m\n\u001b[1;32m    358\u001b[0m         raise ValueError(\"time data %r does not match format %r\" %\n\u001b[0;32m--> 359\u001b[0;31m                          (data_string, format))\n\u001b[0m\u001b[1;32m    360\u001b[0m     \u001b[0;32mif\u001b[0m \u001b[0mlen\u001b[0m\u001b[0;34m(\u001b[0m\u001b[0mdata_string\u001b[0m\u001b[0;34m)\u001b[0m \u001b[0;34m!=\u001b[0m \u001b[0mfound\u001b[0m\u001b[0;34m.\u001b[0m\u001b[0mend\u001b[0m\u001b[0;34m(\u001b[0m\u001b[0;34m)\u001b[0m\u001b[0;34m:\u001b[0m\u001b[0;34m\u001b[0m\u001b[0;34m\u001b[0m\u001b[0m\n\u001b[1;32m    361\u001b[0m         raise ValueError(\"unconverted data remains: %s\" %\n",
      "\u001b[0;31mValueError\u001b[0m: time data '20' does not match format '%Y%m%d%H%M%S'"
     ]
    },
    {
     "data": {
      "image/png": "[encoded data removed]",
      "text/plain": [
       "<Figure size 1080x720 with 6 Axes>"
      ]
     },
     "metadata": {
      "needs_background": "light"
     },
     "output_type": "display_data"
    }
   ],
   "source": [
    "def __makeplote_platform(st, FURT):\n",
    "    \n",
    "    N = 6\n",
    "    \n",
    "    fig, ax = plt.subplots(N, 1, figsize=(15,10), sharex=True)\n",
    "\n",
    "    font=14\n",
    "\n",
    "    timeline_furt, ticks_furt, ticklabels_furt, text_furt = __get_timeaxis(\n",
    "                                                                            dates=FURT['date'],\n",
    "                                                                            times=FURT['time'],\n",
    "                                                                            unit='date',\n",
    "                                                                            unitmode='relative',\n",
    "                                                                            dateformat='ddmmyy',\n",
    "                                                                          )\n",
    "    \n",
    "    timeline, ticks, ticklabels, text = __get_timeaxis(\n",
    "                                                        utcdatetime=st[0].times(type=\"utcdatetime\"),\n",
    "                                                        unit='date',\n",
    "                                                        unitmode='relative',\n",
    "                                                        dateformat='ddmmyy',\n",
    "                                                      )    \n",
    "    \n",
    "    \n",
    "    \n",
    "    ## plotting\n",
    "\n",
    "    ax[0].plot(timeline, st[0].data, zorder=2, label=\"E-W\", color='k')\n",
    "    ax[1].plot(timeline, st[1].data, zorder=2,label=\"N-S\", color='k')\n",
    "    ax[2].plot(timeline, st[2].data, zorder=2, label=\"int. Temperature\", color='darkred')\n",
    "    ax[3].plot(timeline_furt, FURT['T'], zorder=2, label=\"FURT T\", color='darkred')\n",
    "    ax[4].plot(timeline_furt, FURT['P'], zorder=2, label=\"FURT P\", color='purple') \n",
    "    ax[5].semilogy(timeline_furt, FURT['Rc'], zorder=2, label=\"FURT Rain\", color='darkblue') \n",
    "    ax[5].fill_between(timeline_furt, FURT['Rc'], zorder=2, color='blue', alpha=0.6) \n",
    "\n",
    "    \n",
    "    ax[0].set_ylabel(\"$\\Omega$ (rad)\")\n",
    "    ax[1].set_ylabel(\"$\\Omega$ (rad)\")\n",
    "    ax[2].set_ylabel(\"T (°C)\")\n",
    "    ax[3].set_ylabel(\"T (°C)\")\n",
    "    ax[4].set_ylabel(\"P (hPa)\")\n",
    "    ax[5].set_ylabel(\"Rain (mm)\")\n",
    "    \n",
    "    ax[N-1].set_xticklabels(ticklabels, fontsize=font-2)\n",
    "    ax[N-1].set_xticks(ticks)\n",
    "    ax[N-1].set_xlabel(text, fontsize=font)\n",
    "    ax[N-1].set_xlim(timeline[0], timeline[-1])\n",
    "    \n",
    "    for i in range(N):\n",
    "        ax[i].legend(loc=\"upper right\")\n",
    "        ax[i].grid(True, ls=\"--\", alpha=0.7, zorder=0)\n",
    "        \n",
    "\n",
    "    plt.show();\n",
    "    return fig\n",
    "    \n",
    "__makeplote_platform(pt, FURT);"
   ]
  },
  {
   "cell_type": "code",
   "execution_count": 31,
   "id": "ac5f1dcc",
   "metadata": {},
   "outputs": [
    {
     "data": {
      "text/html": [
       "<div>\n",
       "<style scoped>\n",
       "    .dataframe tbody tr th:only-of-type {\n",
       "        vertical-align: middle;\n",
       "    }\n",
       "\n",
       "    .dataframe tbody tr th {\n",
       "        vertical-align: top;\n",
       "    }\n",
       "\n",
       "    .dataframe thead th {\n",
       "        text-align: right;\n",
       "    }\n",
       "</style>\n",
       "<table border=\"1\" class=\"dataframe\">\n",
       "  <thead>\n",
       "    <tr style=\"text-align: right;\">\n",
       "      <th></th>\n",
       "      <th>date</th>\n",
       "      <th>time</th>\n",
       "      <th>T</th>\n",
       "      <th>P</th>\n",
       "      <th>H</th>\n",
       "      <th>Rc</th>\n",
       "    </tr>\n",
       "  </thead>\n",
       "  <tbody>\n",
       "    <tr>\n",
       "      <th>0</th>\n",
       "      <td>10421.0</td>\n",
       "      <td>0</td>\n",
       "      <td>9.5</td>\n",
       "      <td>NaN</td>\n",
       "      <td>NaN</td>\n",
       "      <td>NaN</td>\n",
       "    </tr>\n",
       "    <tr>\n",
       "      <th>10</th>\n",
       "      <td>10421.0</td>\n",
       "      <td>10</td>\n",
       "      <td>9.5</td>\n",
       "      <td>NaN</td>\n",
       "      <td>NaN</td>\n",
       "      <td>NaN</td>\n",
       "    </tr>\n",
       "    <tr>\n",
       "      <th>20</th>\n",
       "      <td>10421.0</td>\n",
       "      <td>20</td>\n",
       "      <td>9.5</td>\n",
       "      <td>NaN</td>\n",
       "      <td>NaN</td>\n",
       "      <td>NaN</td>\n",
       "    </tr>\n",
       "    <tr>\n",
       "      <th>30</th>\n",
       "      <td>10421.0</td>\n",
       "      <td>30</td>\n",
       "      <td>9.5</td>\n",
       "      <td>NaN</td>\n",
       "      <td>NaN</td>\n",
       "      <td>NaN</td>\n",
       "    </tr>\n",
       "    <tr>\n",
       "      <th>40</th>\n",
       "      <td>10421.0</td>\n",
       "      <td>40</td>\n",
       "      <td>9.5</td>\n",
       "      <td>NaN</td>\n",
       "      <td>NaN</td>\n",
       "      <td>NaN</td>\n",
       "    </tr>\n",
       "    <tr>\n",
       "      <th>...</th>\n",
       "      <td>...</td>\n",
       "      <td>...</td>\n",
       "      <td>...</td>\n",
       "      <td>...</td>\n",
       "      <td>...</td>\n",
       "      <td>...</td>\n",
       "    </tr>\n",
       "    <tr>\n",
       "      <th>20476980</th>\n",
       "      <td>241121.0</td>\n",
       "      <td>235919</td>\n",
       "      <td>-1.7</td>\n",
       "      <td>945.457</td>\n",
       "      <td>92.106</td>\n",
       "      <td>0.0</td>\n",
       "    </tr>\n",
       "    <tr>\n",
       "      <th>20476990</th>\n",
       "      <td>241121.0</td>\n",
       "      <td>235929</td>\n",
       "      <td>-1.7</td>\n",
       "      <td>945.462</td>\n",
       "      <td>92.102</td>\n",
       "      <td>0.0</td>\n",
       "    </tr>\n",
       "    <tr>\n",
       "      <th>20477000</th>\n",
       "      <td>241121.0</td>\n",
       "      <td>235939</td>\n",
       "      <td>-1.7</td>\n",
       "      <td>945.463</td>\n",
       "      <td>92.100</td>\n",
       "      <td>0.0</td>\n",
       "    </tr>\n",
       "    <tr>\n",
       "      <th>20477010</th>\n",
       "      <td>241121.0</td>\n",
       "      <td>235949</td>\n",
       "      <td>-1.7</td>\n",
       "      <td>945.458</td>\n",
       "      <td>92.100</td>\n",
       "      <td>0.0</td>\n",
       "    </tr>\n",
       "    <tr>\n",
       "      <th>20477020</th>\n",
       "      <td>241121.0</td>\n",
       "      <td>235959</td>\n",
       "      <td>-1.7</td>\n",
       "      <td>945.454</td>\n",
       "      <td>92.100</td>\n",
       "      <td>0.0</td>\n",
       "    </tr>\n",
       "  </tbody>\n",
       "</table>\n",
       "<p>2047703 rows × 6 columns</p>\n",
       "</div>"
      ],
      "text/plain": [
       "              date    time    T        P       H   Rc\n",
       "0          10421.0       0  9.5      NaN     NaN  NaN\n",
       "10         10421.0      10  9.5      NaN     NaN  NaN\n",
       "20         10421.0      20  9.5      NaN     NaN  NaN\n",
       "30         10421.0      30  9.5      NaN     NaN  NaN\n",
       "40         10421.0      40  9.5      NaN     NaN  NaN\n",
       "...            ...     ...  ...      ...     ...  ...\n",
       "20476980  241121.0  235919 -1.7  945.457  92.106  0.0\n",
       "20476990  241121.0  235929 -1.7  945.462  92.102  0.0\n",
       "20477000  241121.0  235939 -1.7  945.463  92.100  0.0\n",
       "20477010  241121.0  235949 -1.7  945.458  92.100  0.0\n",
       "20477020  241121.0  235959 -1.7  945.454  92.100  0.0\n",
       "\n",
       "[2047703 rows x 6 columns]"
      ]
     },
     "execution_count": 31,
     "metadata": {},
     "output_type": "execute_result"
    },
    {
     "data": {
      "text/plain": [
       "[<matplotlib.lines.Line2D at 0x7faedc43c890>]"
      ]
     },
     "execution_count": 31,
     "metadata": {},
     "output_type": "execute_result"
    },
    {
     "data": {
      "image/png": "[encoded data removed]",
      "text/plain": [
       "<Figure size 432x288 with 1 Axes>"
      ]
     },
     "metadata": {
      "needs_background": "light"
     },
     "output_type": "display_data"
    }
   ],
   "source": [
    "FURT\n",
    "plt.plot(FURT['date'])"
   ]
  },
  {
   "cell_type": "code",
   "execution_count": null,
   "id": "e9df9a55",
   "metadata": {},
   "outputs": [],
   "source": []
  }
 ],
 "metadata": {
  "kernelspec": {
   "display_name": "Python 3",
   "language": "python",
   "name": "python3"
  },
  "language_info": {
   "codemirror_mode": {
    "name": "ipython",
    "version": 3
   },
   "file_extension": ".py",
   "mimetype": "text/x-python",
   "name": "python",
   "nbconvert_exporter": "python",
   "pygments_lexer": "ipython3",
   "version": "3.7.7"
  }
 },
 "nbformat": 4,
 "nbformat_minor": 5
}
