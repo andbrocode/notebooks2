{
 "cells": [
  {
   "cell_type": "markdown",
   "id": "extensive-movement",
   "metadata": {},
   "source": [
    "## Tiltmeter and Sagnac Frequency"
   ]
  },
  {
   "cell_type": "markdown",
   "id": "noted-resort",
   "metadata": {
    "ExecuteTime": {
     "end_time": "2021-02-19T15:09:20.288504Z",
     "start_time": "2021-02-19T15:09:20.284413Z"
    }
   },
   "source": [
    "### Import Libraries"
   ]
  },
  {
   "cell_type": "code",
   "execution_count": 1,
   "id": "animal-despite",
   "metadata": {
    "ExecuteTime": {
     "end_time": "2023-06-08T14:58:00.852436Z",
     "start_time": "2023-06-08T14:57:55.740954Z"
    }
   },
   "outputs": [
    {
     "data": {
      "application/javascript": [
       "IPython.notebook.set_autosave_interval(120000)"
      ]
     },
     "metadata": {},
     "output_type": "display_data"
    },
    {
     "name": "stdout",
     "output_type": "stream",
     "text": [
      "Autosaving every 120 seconds\n"
     ]
    }
   ],
   "source": [
    "%autosave 120\n",
    "\n",
    "import os\n",
    "import yaml\n",
    "import matplotlib.pyplot as plt\n",
    "\n",
    "from pandas import read_csv, DataFrame, date_range\n",
    "from obspy import UTCDateTime, read, Stream\n",
    "from numpy import nanmean \n",
    "\n",
    "from andbro__readYaml import __readYaml\n",
    "from andbro__savefig import __savefig"
   ]
  },
  {
   "cell_type": "code",
   "execution_count": 2,
   "id": "6b386714",
   "metadata": {
    "ExecuteTime": {
     "end_time": "2023-06-08T14:58:00.855808Z",
     "start_time": "2023-06-08T14:58:00.853563Z"
    }
   },
   "outputs": [],
   "source": [
    "if os.uname().nodename == \"lighthouse\":\n",
    "    root_path = \"/home/andbro/\"\n",
    "    data_path = \"/home/andbro/kilauea-data/\"\n",
    "    archive_path = \"/home/andbro/freenas/\"\n",
    "elif os.uname().nodename == \"kilauea\":\n",
    "    root_path = \"/home/brotzer/\"\n",
    "    data_path = \"/import/kilauea-data/\"\n",
    "    archive_path = \"/import/freenas-ffb-01-data/\""
   ]
  },
  {
   "cell_type": "markdown",
   "id": "mounted-throat",
   "metadata": {},
   "source": [
    "### Define Functions"
   ]
  },
  {
   "cell_type": "code",
   "execution_count": 3,
   "id": "de01887f",
   "metadata": {
    "ExecuteTime": {
     "end_time": "2023-06-08T14:58:00.905908Z",
     "start_time": "2023-06-08T14:58:00.857076Z"
    },
    "code_folding": [
     0
    ]
   },
   "outputs": [],
   "source": [
    "def __makeplot(pt, bt, config):\n",
    "    \n",
    "    fig, axes = plt.subplots(3,2, figsize=(15,5), sharex=True)\n",
    "    \n",
    "    font = 14\n",
    "    \n",
    "    pt.sort()\n",
    "    bt.sort()\n",
    "\n",
    "    for i in range(3):\n",
    "        \n",
    "        axes[i,0].plot(pt[i].times(reftime=UTCDateTime(\"2019-01-01T00\"))/3600, pt[i].data, label=pt[i].stats.channel)\n",
    "        axes[i,1].plot(bt[i].times(reftime=UTCDateTime(\"2019-01-01T00\"))/3600, bt[i].data, label=pt[i].stats.channel)\n",
    "        \n",
    "        axes[i,0].grid()\n",
    "        axes[i,1].grid()\n",
    "        \n",
    "        axes[i,0].legend(loc=1)\n",
    "        axes[i,1].legend(loc=1)\n",
    "        \n",
    "        axes[i,0].ticklabel_format(axis=\"y\", style=\"sci\", scilimits=(0,0))\n",
    "        axes[i,1].ticklabel_format(axis=\"y\", style=\"sci\", scilimits=(0,0))\n",
    "\n",
    "    axes[2,0].ticklabel_format(axis=\"y\", style=\"plain\")\n",
    "    axes[2,1].ticklabel_format(axis=\"y\", style=\"plain\")    \n",
    "        \n",
    "    axes[2,0].set_xlabel(\"Time (hours)\", fontsize=font)\n",
    "    axes[2,1].set_xlabel(\"Time (hours)\", fontsize=font)\n",
    "    \n",
    "    axes[0,0].set_ylabel(\"E (rad)\", fontsize=font)\n",
    "    axes[1,0].set_ylabel(\"N (rad)\", fontsize=font)\n",
    "    axes[2,0].set_ylabel(\"Temp (°C)\", fontsize=font)\n",
    "    \n",
    "    axes[0,0].set_title(f\"{pt[0].stats.station}\")\n",
    "    axes[0,1].set_title(f\"{bt[0].stats.station}\")\n",
    "    \n",
    "    return fig "
   ]
  },
  {
   "cell_type": "code",
   "execution_count": 4,
   "id": "9969b211",
   "metadata": {
    "ExecuteTime": {
     "end_time": "2023-06-08T14:58:00.921021Z",
     "start_time": "2023-06-08T14:58:00.906951Z"
    },
    "code_folding": [
     0
    ]
   },
   "outputs": [],
   "source": [
    "def __conversion(st, conf):\n",
    "\n",
    "    st0 = st.copy()\n",
    "    \n",
    "    def convertTemp(trace):\n",
    "        Tvolt = trace.data * conf.get('gainTemp')\n",
    "        coeff = conf.get('calcTempCoefficients')\n",
    "        return coeff[0] + coeff[1]*Tvolt + coeff[2]*Tvolt**2 + coeff[3]*Tvolt**3\n",
    "    \n",
    "    def convertTilt(trace, conversion, sensitivity):\n",
    "        return trace.data * conversion * sensitivity\n",
    "\n",
    "    for tr in st0:\n",
    "        if tr.stats.channel[-1] == 'T':\n",
    "            tr.data = convertTemp(tr)\n",
    "        elif tr.stats.channel[-1] == 'N':\n",
    "            tr.data = convertTilt(tr, conf['convTN'], conf['gainTilt'])\n",
    "        elif tr.stats.channel[-1] == 'E':\n",
    "            tr.data = convertTilt(tr, conf['convTE'], conf['gainTilt'])\n",
    "        else:\n",
    "            print(\"no match\")\n",
    "            \n",
    "    print(f\"  -> converted data of {st[0].stats.station}\")\n",
    "    return st0"
   ]
  },
  {
   "cell_type": "code",
   "execution_count": 5,
   "id": "99c89a4d",
   "metadata": {
    "ExecuteTime": {
     "end_time": "2023-06-08T14:58:00.935035Z",
     "start_time": "2023-06-08T14:58:00.921904Z"
    },
    "code_folding": [
     0
    ]
   },
   "outputs": [],
   "source": [
    "def __smooth(y, box_pts):\n",
    "    from numpy import ones, convolve, hanning\n",
    "\n",
    "#     win = ones(box_pts)/box_pts\n",
    "    win = hanning(box_pts)\n",
    "    y_smooth = convolve(y, win/sum(win), mode='same')\n",
    "\n",
    "    return y_smooth"
   ]
  },
  {
   "cell_type": "markdown",
   "id": "clean-hacker",
   "metadata": {},
   "source": [
    "### Configurations"
   ]
  },
  {
   "cell_type": "code",
   "execution_count": 6,
   "id": "d21146f6",
   "metadata": {
    "ExecuteTime": {
     "end_time": "2023-06-08T14:58:00.971308Z",
     "start_time": "2023-06-08T14:58:00.935957Z"
    },
    "code_folding": []
   },
   "outputs": [],
   "source": [
    "## configurations\n",
    "config={}\n",
    "\n",
    "config['save'] = False\n",
    "\n",
    "## get 'raw' data from romy archive\n",
    "# config['datapath'] = f\"{archive_path}/romy_archive\"\n",
    "\n",
    "## get downsampled data \n",
    "config['datapath'] = f\"{data_path}TiltmeterDataBackup/Tilt_downsampled\"\n",
    "\n",
    "## time selection\n",
    "config['tbeg'] = UTCDateTime(\"2022-04-24 00:00\")\n",
    "# config['tend'] = UTCDateTime(\"2022-05-31 00:00\")\n",
    "config['tend'] = UTCDateTime(\"2022-06-12 00:00\")\n",
    "\n",
    "## specify output directory for figures\n",
    "config['output_figures'] = f\"{root_path}Documents/ROMY/tiltmeter/figures/\"\n",
    "\n",
    "## indicate path to wromy data\n",
    "config['pathToWromy'] = f\"{data_path}wromy/\"\n",
    "\n",
    "## gain for Temperature channel of PT was not set correctly prior to 2021-03-03\n",
    "correct_settings_temp_PT = (\"2021-03-05\", config['tend'])\n",
    "\n",
    "## tiltmeter configurations\n",
    "confTilt = __readYaml(f\"{root_path}Documents/ROMY/tiltmeter/\",\"tiltmeter.conf\")\n",
    "\n",
    "## correction of offset (e.g. reset mass)\n",
    "offset_correction = __readYaml(f\"{root_path}Documents/ROMY/tiltmeter/\", \"tiltmeter_steps.yml\")\n",
    "\n",
    "## correction for temperature trends\n",
    "## based on MAT\n",
    "temperature_correction = __readYaml(f\"{root_path}Documents/ROMY/tiltmeter/\",\"temperature_correction.yml\")\n",
    "## based on WSX\n",
    "# temperature_correction = __readYaml(f\"{root_path}Documents/ROMY/tiltmeter/\",\"temperature_correction_new.yml\")\n"
   ]
  },
  {
   "cell_type": "code",
   "execution_count": 7,
   "id": "4a527aea",
   "metadata": {
    "ExecuteTime": {
     "end_time": "2023-06-08T14:58:00.974893Z",
     "start_time": "2023-06-08T14:58:00.972155Z"
    },
    "code_folding": [
     0
    ]
   },
   "outputs": [],
   "source": [
    "def __load_local(config, seed_id):\n",
    "    \n",
    "    from tqdm.notebook import tqdm\n",
    "    from obspy.clients.filesystem.sds import Client\n",
    "    \n",
    "    net, sta, loc, cha = seed_id.split(\".\")\n",
    "    \n",
    "    tbeg, tend = config['tbeg'], config['tend']\n",
    "\n",
    "    st0 = Client(config['datapath'],fileborder_samples=1000).get_waveforms(net, sta, loc, cha, tbeg, tend)\n",
    "    \n",
    "    st0.merge()\n",
    "    \n",
    "    return st0"
   ]
  },
  {
   "cell_type": "markdown",
   "id": "1a9c6f6e",
   "metadata": {},
   "source": [
    "### Load ROMY Saganac Frequency"
   ]
  },
  {
   "cell_type": "code",
   "execution_count": 8,
   "id": "14d4d2d8",
   "metadata": {
    "ExecuteTime": {
     "end_time": "2023-06-08T14:58:00.989557Z",
     "start_time": "2023-06-08T14:58:00.976487Z"
    },
    "code_folding": [
     0
    ]
   },
   "outputs": [],
   "source": [
    "def __load_data(config):\n",
    "    \n",
    "    from datetime import date\n",
    "    from pandas import read_pickle, concat\n",
    "\n",
    "    t1 = date.fromisoformat(str(config['tbeg'].date))\n",
    "    t2 = date.fromisoformat(str(config['tend'].date))\n",
    "\n",
    "    df = DataFrame()\n",
    "    for dat in date_range(t1,t2):\n",
    "        file = str(dat)[:10].replace(\"-\",\"\")+\".pkl\"\n",
    "        try:\n",
    "            df0 = read_pickle(config['datadir']+file)\n",
    "            df = concat([df, df0])\n",
    "        except:\n",
    "            print(f\"error for {file}\")\n",
    "            \n",
    "    return df"
   ]
  },
  {
   "cell_type": "code",
   "execution_count": 9,
   "id": "02776adc",
   "metadata": {
    "ExecuteTime": {
     "end_time": "2023-06-08T14:58:01.404933Z",
     "start_time": "2023-06-08T14:58:00.990695Z"
    }
   },
   "outputs": [
    {
     "name": "stdout",
     "output_type": "stream",
     "text": [
      "error for 20220424.pkl\n",
      "error for 20220425.pkl\n",
      "error for 20220426.pkl\n",
      "error for 20220427.pkl\n",
      "error for 20220428.pkl\n",
      "error for 20220429.pkl\n",
      "error for 20220430.pkl\n",
      "error for 20220501.pkl\n",
      "error for 20220502.pkl\n",
      "error for 20220503.pkl\n",
      "error for 20220504.pkl\n",
      "error for 20220505.pkl\n",
      "error for 20220506.pkl\n",
      "error for 20220507.pkl\n",
      "error for 20220508.pkl\n",
      "error for 20220509.pkl\n",
      "error for 20220510.pkl\n",
      "error for 20220511.pkl\n",
      "error for 20220512.pkl\n",
      "error for 20220513.pkl\n",
      "error for 20220514.pkl\n",
      "error for 20220515.pkl\n",
      "error for 20220516.pkl\n",
      "error for 20220517.pkl\n",
      "error for 20220518.pkl\n",
      "error for 20220519.pkl\n",
      "error for 20220520.pkl\n",
      "error for 20220521.pkl\n",
      "error for 20220522.pkl\n",
      "error for 20220523.pkl\n",
      "error for 20220524.pkl\n",
      "error for 20220525.pkl\n",
      "error for 20220526.pkl\n",
      "error for 20220527.pkl\n",
      "error for 20220528.pkl\n",
      "error for 20220529.pkl\n",
      "error for 20220530.pkl\n",
      "error for 20220531.pkl\n",
      "error for 20220601.pkl\n",
      "error for 20220602.pkl\n",
      "error for 20220603.pkl\n",
      "error for 20220604.pkl\n",
      "error for 20220605.pkl\n",
      "error for 20220606.pkl\n",
      "error for 20220607.pkl\n",
      "error for 20220608.pkl\n",
      "error for 20220609.pkl\n",
      "error for 20220610.pkl\n",
      "error for 20220611.pkl\n",
      "error for 20220612.pkl\n"
     ]
    },
    {
     "ename": "KeyError",
     "evalue": "'psd_max'",
     "output_type": "error",
     "traceback": [
      "\u001b[0;31m---------------------------------------------------------------------------\u001b[0m",
      "\u001b[0;31mKeyError\u001b[0m                                  Traceback (most recent call last)",
      "\u001b[0;32m~/anaconda3/lib/python3.7/site-packages/pandas/core/indexes/base.py\u001b[0m in \u001b[0;36mget_loc\u001b[0;34m(self, key, method, tolerance)\u001b[0m\n\u001b[1;32m   3360\u001b[0m             \u001b[0;32mtry\u001b[0m\u001b[0;34m:\u001b[0m\u001b[0;34m\u001b[0m\u001b[0;34m\u001b[0m\u001b[0m\n\u001b[0;32m-> 3361\u001b[0;31m                 \u001b[0;32mreturn\u001b[0m \u001b[0mself\u001b[0m\u001b[0;34m.\u001b[0m\u001b[0m_engine\u001b[0m\u001b[0;34m.\u001b[0m\u001b[0mget_loc\u001b[0m\u001b[0;34m(\u001b[0m\u001b[0mcasted_key\u001b[0m\u001b[0;34m)\u001b[0m\u001b[0;34m\u001b[0m\u001b[0;34m\u001b[0m\u001b[0m\n\u001b[0m\u001b[1;32m   3362\u001b[0m             \u001b[0;32mexcept\u001b[0m \u001b[0mKeyError\u001b[0m \u001b[0;32mas\u001b[0m \u001b[0merr\u001b[0m\u001b[0;34m:\u001b[0m\u001b[0;34m\u001b[0m\u001b[0;34m\u001b[0m\u001b[0m\n",
      "\u001b[0;32m~/anaconda3/lib/python3.7/site-packages/pandas/_libs/index.pyx\u001b[0m in \u001b[0;36mpandas._libs.index.IndexEngine.get_loc\u001b[0;34m()\u001b[0m\n",
      "\u001b[0;32m~/anaconda3/lib/python3.7/site-packages/pandas/_libs/index.pyx\u001b[0m in \u001b[0;36mpandas._libs.index.IndexEngine.get_loc\u001b[0;34m()\u001b[0m\n",
      "\u001b[0;32mpandas/_libs/hashtable_class_helper.pxi\u001b[0m in \u001b[0;36mpandas._libs.hashtable.PyObjectHashTable.get_item\u001b[0;34m()\u001b[0m\n",
      "\u001b[0;32mpandas/_libs/hashtable_class_helper.pxi\u001b[0m in \u001b[0;36mpandas._libs.hashtable.PyObjectHashTable.get_item\u001b[0;34m()\u001b[0m\n",
      "\u001b[0;31mKeyError\u001b[0m: 'psd_max'",
      "\nThe above exception was the direct cause of the following exception:\n",
      "\u001b[0;31mKeyError\u001b[0m                                  Traceback (most recent call last)",
      "\u001b[0;32m<ipython-input-9-0a02aaee6c18>\u001b[0m in \u001b[0;36m<module>\u001b[0;34m\u001b[0m\n\u001b[1;32m      5\u001b[0m \u001b[0;32mfrom\u001b[0m \u001b[0mnumpy\u001b[0m \u001b[0;32mimport\u001b[0m \u001b[0mwhere\u001b[0m\u001b[0;34m,\u001b[0m \u001b[0mnan\u001b[0m\u001b[0;34m,\u001b[0m \u001b[0marray\u001b[0m\u001b[0;34m\u001b[0m\u001b[0;34m\u001b[0m\u001b[0m\n\u001b[1;32m      6\u001b[0m \u001b[0;32mfrom\u001b[0m \u001b[0mobspy\u001b[0m \u001b[0;32mimport\u001b[0m \u001b[0mTrace\u001b[0m\u001b[0;34m\u001b[0m\u001b[0;34m\u001b[0m\u001b[0m\n\u001b[0;32m----> 7\u001b[0;31m \u001b[0mdf1\u001b[0m\u001b[0;34m[\u001b[0m\u001b[0;34m'freqs'\u001b[0m\u001b[0;34m]\u001b[0m \u001b[0;34m=\u001b[0m \u001b[0mwhere\u001b[0m\u001b[0;34m(\u001b[0m\u001b[0mdf1\u001b[0m\u001b[0;34m[\u001b[0m\u001b[0;34m'psd_max'\u001b[0m\u001b[0;34m]\u001b[0m \u001b[0;34m>\u001b[0m \u001b[0;36m1e5\u001b[0m\u001b[0;34m,\u001b[0m \u001b[0mdf1\u001b[0m\u001b[0;34m[\u001b[0m\u001b[0;34m'freqs'\u001b[0m\u001b[0;34m]\u001b[0m\u001b[0;34m,\u001b[0m \u001b[0mnan\u001b[0m\u001b[0;34m)\u001b[0m\u001b[0;34m\u001b[0m\u001b[0;34m\u001b[0m\u001b[0m\n\u001b[0m\u001b[1;32m      8\u001b[0m \u001b[0;34m\u001b[0m\u001b[0m\n\u001b[1;32m      9\u001b[0m \u001b[0mbeat\u001b[0m \u001b[0;34m=\u001b[0m \u001b[0mTrace\u001b[0m\u001b[0;34m(\u001b[0m\u001b[0;34m)\u001b[0m\u001b[0;34m\u001b[0m\u001b[0;34m\u001b[0m\u001b[0m\n",
      "\u001b[0;32m~/anaconda3/lib/python3.7/site-packages/pandas/core/frame.py\u001b[0m in \u001b[0;36m__getitem__\u001b[0;34m(self, key)\u001b[0m\n\u001b[1;32m   3456\u001b[0m             \u001b[0;32mif\u001b[0m \u001b[0mself\u001b[0m\u001b[0;34m.\u001b[0m\u001b[0mcolumns\u001b[0m\u001b[0;34m.\u001b[0m\u001b[0mnlevels\u001b[0m \u001b[0;34m>\u001b[0m \u001b[0;36m1\u001b[0m\u001b[0;34m:\u001b[0m\u001b[0;34m\u001b[0m\u001b[0;34m\u001b[0m\u001b[0m\n\u001b[1;32m   3457\u001b[0m                 \u001b[0;32mreturn\u001b[0m \u001b[0mself\u001b[0m\u001b[0;34m.\u001b[0m\u001b[0m_getitem_multilevel\u001b[0m\u001b[0;34m(\u001b[0m\u001b[0mkey\u001b[0m\u001b[0;34m)\u001b[0m\u001b[0;34m\u001b[0m\u001b[0;34m\u001b[0m\u001b[0m\n\u001b[0;32m-> 3458\u001b[0;31m             \u001b[0mindexer\u001b[0m \u001b[0;34m=\u001b[0m \u001b[0mself\u001b[0m\u001b[0;34m.\u001b[0m\u001b[0mcolumns\u001b[0m\u001b[0;34m.\u001b[0m\u001b[0mget_loc\u001b[0m\u001b[0;34m(\u001b[0m\u001b[0mkey\u001b[0m\u001b[0;34m)\u001b[0m\u001b[0;34m\u001b[0m\u001b[0;34m\u001b[0m\u001b[0m\n\u001b[0m\u001b[1;32m   3459\u001b[0m             \u001b[0;32mif\u001b[0m \u001b[0mis_integer\u001b[0m\u001b[0;34m(\u001b[0m\u001b[0mindexer\u001b[0m\u001b[0;34m)\u001b[0m\u001b[0;34m:\u001b[0m\u001b[0;34m\u001b[0m\u001b[0;34m\u001b[0m\u001b[0m\n\u001b[1;32m   3460\u001b[0m                 \u001b[0mindexer\u001b[0m \u001b[0;34m=\u001b[0m \u001b[0;34m[\u001b[0m\u001b[0mindexer\u001b[0m\u001b[0;34m]\u001b[0m\u001b[0;34m\u001b[0m\u001b[0;34m\u001b[0m\u001b[0m\n",
      "\u001b[0;32m~/anaconda3/lib/python3.7/site-packages/pandas/core/indexes/base.py\u001b[0m in \u001b[0;36mget_loc\u001b[0;34m(self, key, method, tolerance)\u001b[0m\n\u001b[1;32m   3361\u001b[0m                 \u001b[0;32mreturn\u001b[0m \u001b[0mself\u001b[0m\u001b[0;34m.\u001b[0m\u001b[0m_engine\u001b[0m\u001b[0;34m.\u001b[0m\u001b[0mget_loc\u001b[0m\u001b[0;34m(\u001b[0m\u001b[0mcasted_key\u001b[0m\u001b[0;34m)\u001b[0m\u001b[0;34m\u001b[0m\u001b[0;34m\u001b[0m\u001b[0m\n\u001b[1;32m   3362\u001b[0m             \u001b[0;32mexcept\u001b[0m \u001b[0mKeyError\u001b[0m \u001b[0;32mas\u001b[0m \u001b[0merr\u001b[0m\u001b[0;34m:\u001b[0m\u001b[0;34m\u001b[0m\u001b[0;34m\u001b[0m\u001b[0m\n\u001b[0;32m-> 3363\u001b[0;31m                 \u001b[0;32mraise\u001b[0m \u001b[0mKeyError\u001b[0m\u001b[0;34m(\u001b[0m\u001b[0mkey\u001b[0m\u001b[0;34m)\u001b[0m \u001b[0;32mfrom\u001b[0m \u001b[0merr\u001b[0m\u001b[0;34m\u001b[0m\u001b[0;34m\u001b[0m\u001b[0m\n\u001b[0m\u001b[1;32m   3364\u001b[0m \u001b[0;34m\u001b[0m\u001b[0m\n\u001b[1;32m   3365\u001b[0m         \u001b[0;32mif\u001b[0m \u001b[0mis_scalar\u001b[0m\u001b[0;34m(\u001b[0m\u001b[0mkey\u001b[0m\u001b[0;34m)\u001b[0m \u001b[0;32mand\u001b[0m \u001b[0misna\u001b[0m\u001b[0;34m(\u001b[0m\u001b[0mkey\u001b[0m\u001b[0;34m)\u001b[0m \u001b[0;32mand\u001b[0m \u001b[0;32mnot\u001b[0m \u001b[0mself\u001b[0m\u001b[0;34m.\u001b[0m\u001b[0mhasnans\u001b[0m\u001b[0;34m:\u001b[0m\u001b[0;34m\u001b[0m\u001b[0;34m\u001b[0m\u001b[0m\n",
      "\u001b[0;31mKeyError\u001b[0m: 'psd_max'"
     ]
    }
   ],
   "source": [
    "config['datadir'] = \"/home/andbro/kilauea-data/sagnac_frequency/hilbert_60_tilt/\"\n",
    "\n",
    "df1 = __load_data(config)\n",
    "     \n",
    "from numpy import where, nan, array\n",
    "from obspy import Trace\n",
    "df1['freqs'] = where(df1['psd_max'] > 1e5, df1['freqs'], nan)\n",
    "\n",
    "beat = Trace()\n",
    "beat.data = array(df1['freqs'])\n",
    "beat.stats.starttime = config['tbeg']\n",
    "beat.stats.sampling_rate = 1/60"
   ]
  },
  {
   "cell_type": "markdown",
   "id": "charming-shuttle",
   "metadata": {},
   "source": [
    "\n",
    "### Load Tiltmeter Data"
   ]
  },
  {
   "cell_type": "code",
   "execution_count": null,
   "id": "younger-tower",
   "metadata": {
    "ExecuteTime": {
     "end_time": "2023-06-08T14:58:01.407295Z",
     "start_time": "2023-06-08T14:57:55.762Z"
    }
   },
   "outputs": [],
   "source": [
    "TROMY0 = __load_local(config, \"BW.TROMY..MA*\")\n",
    "TROMY0.sort()\n",
    "print(TROMY0)\n",
    "TROMY0.plot(equal_scale=False);"
   ]
  },
  {
   "cell_type": "code",
   "execution_count": null,
   "id": "4fedcf5f",
   "metadata": {
    "ExecuteTime": {
     "end_time": "2023-06-08T14:58:01.408035Z",
     "start_time": "2023-06-08T14:57:55.764Z"
    }
   },
   "outputs": [],
   "source": [
    "ROMYT0 = __load_local(config, \"BW.ROMYT..MA*\")\n",
    "ROMYT0.sort()\n",
    "print(ROMYT0)\n",
    "ROMYT0.plot(equal_scale=False);"
   ]
  },
  {
   "cell_type": "code",
   "execution_count": null,
   "id": "e3a3bc19",
   "metadata": {
    "ExecuteTime": {
     "end_time": "2023-06-08T14:58:01.408657Z",
     "start_time": "2023-06-08T14:57:55.766Z"
    }
   },
   "outputs": [],
   "source": [
    "BROMY0 = __load_local(config, \"BW.DROMY..LA*\")\n",
    "BROMY0.sort()\n",
    "print(BROMY0)\n",
    "BROMY0.plot(equal_scale=False);"
   ]
  },
  {
   "cell_type": "markdown",
   "id": "af96ad7e",
   "metadata": {},
   "source": [
    "### Data Conversion to rad"
   ]
  },
  {
   "cell_type": "code",
   "execution_count": null,
   "id": "513fce1a",
   "metadata": {
    "ExecuteTime": {
     "end_time": "2023-06-08T14:58:01.409173Z",
     "start_time": "2023-06-08T14:57:55.768Z"
    }
   },
   "outputs": [],
   "source": [
    "TROMY = __conversion(TROMY0, confTilt['TROMY'])\n",
    "ROMYT = __conversion(ROMYT0, confTilt['ROMYT'])\n",
    "BROMY = __conversion(BROMY0, confTilt['BROMY'])"
   ]
  },
  {
   "cell_type": "markdown",
   "id": "70903811",
   "metadata": {},
   "source": [
    "### Reset Tilt at Start"
   ]
  },
  {
   "cell_type": "code",
   "execution_count": null,
   "id": "eefb6846",
   "metadata": {
    "ExecuteTime": {
     "end_time": "2023-06-08T14:58:01.409669Z",
     "start_time": "2023-06-08T14:57:55.770Z"
    }
   },
   "outputs": [],
   "source": [
    "## Reset start to Zero\n",
    "for st in [TROMY, ROMYT, BROMY]:\n",
    "    for tr in st:\n",
    "        if not tr.stats.channel[-1] == \"T\" or tr.stats.channel[0] == \"W\":\n",
    "            tr.data -= tr.data[1]"
   ]
  },
  {
   "cell_type": "code",
   "execution_count": null,
   "id": "cc229f92",
   "metadata": {
    "ExecuteTime": {
     "end_time": "2023-06-08T14:58:01.410187Z",
     "start_time": "2023-06-08T14:57:55.772Z"
    },
    "code_folding": [
     0
    ]
   },
   "outputs": [],
   "source": [
    "def __plot_all_tilt(st1, st2, st3):\n",
    "\n",
    "    from datetime import datetime\n",
    "    \n",
    "    NN=3\n",
    "    \n",
    "    fig, ax = plt.subplots(NN,1, figsize=(15,8), sharex=True)\n",
    "\n",
    "    font = 14\n",
    "    \n",
    "    tilt_scaling, tilt_unit = 1e-6, r\"$\\mu$rad\"\n",
    "    time_scaling, time_unit = 86400, \"days\"\n",
    "    \n",
    "    ax[0].plot(st1.select(channel=\"*N\")[0].times(reftime=UTCDateTime(\"2019-01-01T00\"))/time_scaling, \n",
    "               st1.select(channel=\"*N\")[0].data/tilt_scaling, label=\"TROMY\")\n",
    "    ax[0].plot(st2.select(channel=\"*N\")[0].times(reftime=UTCDateTime(\"2019-01-01T00\"))/time_scaling, \n",
    "               st2.select(channel=\"*N\")[0].data/tilt_scaling, label=\"ROMYT\")\n",
    "    ax[0].plot(st3.select(channel=\"*N\")[0].times(reftime=UTCDateTime(\"2019-01-01T00\"))/time_scaling, \n",
    "               st3.select(channel=\"*N\")[0].data/tilt_scaling, label=\"BROMY\")\n",
    "\n",
    "    ax[1].plot(st1.select(channel=\"*E\")[0].times(reftime=UTCDateTime(\"2019-01-01T00\"))/time_scaling, \n",
    "               st1.select(channel=\"*E\")[0].data/tilt_scaling)\n",
    "    ax[1].plot(st2.select(channel=\"*E\")[0].times(reftime=UTCDateTime(\"2019-01-01T00\"))/time_scaling, \n",
    "               st2.select(channel=\"*E\")[0].data/tilt_scaling)\n",
    "    ax[1].plot(st3.select(channel=\"*E\")[0].times(reftime=UTCDateTime(\"2019-01-01T00\"))/time_scaling, \n",
    "               st3.select(channel=\"*E\")[0].data/tilt_scaling)\n",
    "\n",
    "    ax[2].plot(st1.select(channel=\"*T\")[0].times(reftime=UTCDateTime(\"2019-01-01T00\"))/time_scaling, \n",
    "               st1.select(channel=\"*T\")[0].data)\n",
    "    ax[2].plot(st2.select(channel=\"*T\")[0].times(reftime=UTCDateTime(\"2019-01-01T00\"))/time_scaling, \n",
    "               st2.select(channel=\"*T\")[0].data)\n",
    "    ax[2].plot(st3.select(channel=\"*T\")[0].times(reftime=UTCDateTime(\"2019-01-01T00\"))/time_scaling, \n",
    "               st3.select(channel=\"*T\")[0].data)\n",
    "\n",
    "    ax[0].set_ylabel(f\"N ({tilt_unit})\", fontsize=font)\n",
    "    ax[1].set_ylabel(f\"E ({tilt_unit})\", fontsize=font)\n",
    "    ax[2].set_ylabel(f\"T (°C)\", fontsize=font)\n",
    "#     ax[2].set_xlabel(f\"Time ({time_unit})\", fontsize=font)\n",
    "    \n",
    "    for o in range(3):\n",
    "        ax[o].grid()\n",
    "    \n",
    "    ax[0].legend(loc=1, fontsize=font-2, bbox_to_anchor=(0.7, 1.1), ncol=3, framealpha=1)\n",
    "    \n",
    "    tcks= ax[NN-1].get_xticks()\n",
    "    tcklbls = [datetime.fromtimestamp(t*time_scaling+datetime(2019,1,1).timestamp()).strftime(\"%Y-%m-%d\") for t in tcks]\n",
    "    ax[NN-1].set_xticklabels(tcklbls)\n",
    "    \n",
    "    plt.show();\n",
    "    return fig"
   ]
  },
  {
   "cell_type": "code",
   "execution_count": null,
   "id": "fdde1367",
   "metadata": {
    "ExecuteTime": {
     "end_time": "2023-06-08T14:58:01.410678Z",
     "start_time": "2023-06-08T14:57:55.773Z"
    }
   },
   "outputs": [],
   "source": [
    "fig = __plot_all_tilt(TROMY, ROMYT, BROMY)   "
   ]
  },
  {
   "cell_type": "markdown",
   "id": "5e6105b5",
   "metadata": {},
   "source": [
    "### Correct for linear temperature effect on components"
   ]
  },
  {
   "cell_type": "code",
   "execution_count": null,
   "id": "de274eb8",
   "metadata": {
    "ExecuteTime": {
     "end_time": "2023-06-08T14:58:01.411149Z",
     "start_time": "2023-06-08T14:57:55.776Z"
    },
    "code_folding": [
     0
    ]
   },
   "outputs": [],
   "source": [
    "def __correct_temperature_trend(st, correction):\n",
    "    \n",
    "    st0 = st.copy()\n",
    "    temperature = st0.select(channel=\"*T\")[0].data\n",
    "    \n",
    "#     st0.select(channel=\"*N\")[0].data -= (correction['N_slope']* temperature + correction['N_intercept'])\n",
    "#     st0.select(channel=\"*E\")[0].data -= (correction['E_slope']* temperature + correction['N_intercept'])\n",
    "    st0.select(channel=\"*N\")[0].data -= (correction['N_slope']* temperature)\n",
    "    st0.select(channel=\"*E\")[0].data -= (correction['E_slope']* temperature)\n",
    "    \n",
    "    return st0"
   ]
  },
  {
   "cell_type": "code",
   "execution_count": null,
   "id": "ae83beb8",
   "metadata": {
    "ExecuteTime": {
     "end_time": "2023-06-08T14:58:01.411594Z",
     "start_time": "2023-06-08T14:57:55.778Z"
    },
    "code_folding": []
   },
   "outputs": [],
   "source": [
    "## load correction model\n",
    "# temperature_correction = __readYaml(f\"{root_path}Documents/ROMY/tiltmeter/\",\"temperature_correction.yml\")\n",
    "\n",
    "## apply correction model\n",
    "TROMY = __correct_temperature_trend(TROMY, temperature_correction['TROMY'])\n",
    "ROMYT = __correct_temperature_trend(ROMYT, temperature_correction['ROMYT'])\n",
    "BROMY = __correct_temperature_trend(BROMY, temperature_correction['BROMY'])"
   ]
  },
  {
   "cell_type": "code",
   "execution_count": null,
   "id": "e493e81b",
   "metadata": {
    "ExecuteTime": {
     "end_time": "2023-06-08T14:58:01.412124Z",
     "start_time": "2023-06-08T14:57:55.780Z"
    }
   },
   "outputs": [],
   "source": [
    "## Reset start to Zero\n",
    "for st in [TROMY, ROMYT, BROMY]:\n",
    "    for tr in st:\n",
    "        if not tr.stats.channel[-1] == \"T\" or tr.stats.channel[0] == \"W\":\n",
    "            tr.data -= tr.data[1]"
   ]
  },
  {
   "cell_type": "code",
   "execution_count": null,
   "id": "16c5e208",
   "metadata": {
    "ExecuteTime": {
     "end_time": "2023-06-08T14:58:01.412589Z",
     "start_time": "2023-06-08T14:57:55.782Z"
    }
   },
   "outputs": [],
   "source": [
    "fig = __plot_all_tilt(TROMY, ROMYT, BROMY)   "
   ]
  },
  {
   "cell_type": "markdown",
   "id": "861de6e2",
   "metadata": {},
   "source": [
    "### Manipulate Components"
   ]
  },
  {
   "cell_type": "code",
   "execution_count": null,
   "id": "560f0ffc",
   "metadata": {
    "ExecuteTime": {
     "end_time": "2023-06-08T14:58:01.413058Z",
     "start_time": "2023-06-08T14:57:55.784Z"
    }
   },
   "outputs": [],
   "source": [
    "## change polarity of Channel\n",
    "# TRII.select(channel=\"*E\")[0].data *= -1\n",
    "\n",
    "## exchange N and E\n",
    "# TRII.select(channel=\"*E\")[0].stats.channel = \"MAP\"\n",
    "# TRII.select(channel=\"*N\")[0].stats.channel = \"MAE\"\n",
    "# TRII.select(channel=\"*P\")[0].stats.channel = \"MAN\"\n",
    "\n",
    "# fig = __makeplot(TROMY, TRII, config);"
   ]
  },
  {
   "cell_type": "markdown",
   "id": "16e36ec2",
   "metadata": {},
   "source": [
    "### Join "
   ]
  },
  {
   "cell_type": "code",
   "execution_count": null,
   "id": "278f76e1",
   "metadata": {
    "ExecuteTime": {
     "end_time": "2023-06-08T14:58:01.413614Z",
     "start_time": "2023-06-08T14:57:55.786Z"
    }
   },
   "outputs": [],
   "source": [
    "st_all = Stream()\n",
    "\n",
    "st_all += ROMYT.copy().select(channel=\"*N\").split()\n",
    "st_all += ROMYT.copy().select(channel=\"*E\").split()\n",
    "\n",
    "st_all += TROMY.copy().select(channel=\"*N\").split()\n",
    "st_all += TROMY.copy().select(channel=\"*E\").split()\n",
    "\n",
    "st_all += BROMY.copy().select(channel=\"*N\").split()\n",
    "st_all += BROMY.copy().select(channel=\"*E\").split()\n",
    "\n",
    "st_all.merge(method=1, fill_value='interpolate')\n",
    "\n",
    "\n",
    "st_all_pp = st_all.copy()\n",
    "\n",
    "# st_all_pp.detrend('simple')\n",
    "# st_all_pp.taper(0.05);"
   ]
  },
  {
   "cell_type": "code",
   "execution_count": null,
   "id": "b0e8df85",
   "metadata": {
    "ExecuteTime": {
     "end_time": "2023-06-08T14:58:01.414108Z",
     "start_time": "2023-06-08T14:57:55.788Z"
    }
   },
   "outputs": [],
   "source": [
    "st_f1 = st_all_pp.copy()\n",
    "\n",
    "\n",
    "st_f2 = st_all_pp.copy()\n",
    "\n",
    "# fmin, fmax = 1/(2*86400), 1/(0.1*86400)\n",
    "# filter_str = f\"bp: {fmin:.2e} - {fmax:.2e} Hz\"\n",
    "# st_f2.filter(\"bandpass\", freqmin=fmin, freqmax=fmax, corners=4, zerophase=True);"
   ]
  },
  {
   "cell_type": "markdown",
   "id": "c2561ea2",
   "metadata": {},
   "source": [
    "### Load Estimated Earth Tides"
   ]
  },
  {
   "cell_type": "code",
   "execution_count": null,
   "id": "809bcb87",
   "metadata": {
    "ExecuteTime": {
     "end_time": "2023-06-08T14:58:01.414610Z",
     "start_time": "2023-06-08T14:57:55.790Z"
    },
    "code_folding": [
     0
    ]
   },
   "outputs": [],
   "source": [
    "def __load_theoretical_tilt():\n",
    "\n",
    "    from pandas import read_csv\n",
    "    from obspy import Trace, Stream\n",
    "    from numpy import array\n",
    "\n",
    "    ## load dataframe\n",
    "    df = read_csv(config['datapath']+\"/../../tilts_theory.csv\")\n",
    "    df.head()\n",
    "\n",
    "    ## prepare traces\n",
    "    tr_tilt = Trace()\n",
    "    tr_tilt.stats.starttime = UTCDateTime(df['times'][0])\n",
    "    tr_tilt.stats.delta = 600\n",
    "\n",
    "    tr_tilt_N = tr_tilt.copy()\n",
    "    tr_tilt_N.stats.channel = \"NNN\"\n",
    "    tr_tilt_N.data = array(df['tiltN'])\n",
    "\n",
    "    tr_tilt_E = tr_tilt.copy()\n",
    "    tr_tilt_E.stats.channel = \"EEE\"\n",
    "    tr_tilt_E.data = array(df['tiltE'])\n",
    "\n",
    "    # form stream\n",
    "    tilt_theo = Stream()\n",
    "    tilt_theo += tr_tilt_N\n",
    "    tilt_theo += tr_tilt_E\n",
    "    \n",
    "    return tilt_theo"
   ]
  },
  {
   "cell_type": "code",
   "execution_count": null,
   "id": "ce1005e2",
   "metadata": {
    "ExecuteTime": {
     "end_time": "2023-06-08T14:58:01.415106Z",
     "start_time": "2023-06-08T14:57:55.792Z"
    }
   },
   "outputs": [],
   "source": [
    "tilt_theo = __load_theoretical_tilt()\n",
    "\n",
    "# tilt_theo.detrend(\"simple\")\n",
    "# tilt_theo.taper(0.05)\n",
    "# tilt_theo.filter(\"bandpass\", freqmin=fmin, freqmax=fmax, corners=4, zerophase=True)\n",
    "\n",
    "## double amplitudes for better match.. not yet understood!\n",
    "# for tr in tilt_theo:\n",
    "#     tr.data *= 2"
   ]
  },
  {
   "cell_type": "markdown",
   "id": "3347e283",
   "metadata": {},
   "source": [
    "## Plot Tide Load"
   ]
  },
  {
   "cell_type": "code",
   "execution_count": null,
   "id": "a001242f",
   "metadata": {
    "ExecuteTime": {
     "end_time": "2023-06-08T14:58:01.416044Z",
     "start_time": "2023-06-08T14:57:55.794Z"
    },
    "code_folding": [
     0
    ]
   },
   "outputs": [],
   "source": [
    "def __makeplot_earth_tides():\n",
    "    NN = 6\n",
    "\n",
    "    font = 14\n",
    "    linew = 1.3\n",
    "    \n",
    "    fig, ax = plt.subplots(NN, 1, figsize=(15,12), sharex=True)\n",
    "\n",
    "    scaling = 1e6 ## micro strain\n",
    "    scaling_time = 86400\n",
    "\n",
    "    ## not filtered\n",
    "    tromy_n_trace = st_all.select(station=\"TROMY\", channel=\"MAN\")[0]\n",
    "    tromy_e_trace = st_all.select(station=\"TROMY\", channel=\"MAE\")[0]\n",
    "    romyt_n_trace = st_all.select(station=\"ROMYT\", channel=\"MAN\")[0]\n",
    "    romyt_e_trace = st_all.select(station=\"ROMYT\", channel=\"MAE\")[0]\n",
    "    bromy_n_trace = st_all.select(station=\"DROMY\", channel=\"LAN\")[0]\n",
    "    bromy_e_trace = st_all.select(station=\"DROMY\", channel=\"LAE\")[0]\n",
    "    \n",
    "    ## bandpass 1\n",
    "    tromy_n_trace_pp = st_f1.select(station=\"TROMY\", channel=\"MAN\")[0]\n",
    "    romyt_n_trace_pp = st_f1.select(station=\"ROMYT\", channel=\"MAN\")[0]\n",
    "    tromy_e_trace_pp = st_f1.select(station=\"TROMY\", channel=\"MAE\")[0]\n",
    "    romyt_e_trace_pp = st_f1.select(station=\"ROMYT\", channel=\"MAE\")[0]\n",
    "    bromy_n_trace_pp = st_f1.select(station=\"DROMY\", channel=\"LAN\")[0]\n",
    "    bromy_e_trace_pp = st_f1.select(station=\"DROMY\", channel=\"LAE\")[0]\n",
    "    \n",
    "    ## bandpass 2\n",
    "    tromy_n_trace_bp = st_f2.select(station=\"TROMY\", channel=\"MAN\")[0]\n",
    "    romyt_n_trace_bp = st_f2.select(station=\"ROMYT\", channel=\"MAN\")[0]\n",
    "    tromy_e_trace_bp = st_f2.select(station=\"TROMY\", channel=\"MAE\")[0]\n",
    "    romyt_e_trace_bp = st_f2.select(station=\"ROMYT\", channel=\"MAE\")[0]\n",
    "    bromy_n_trace_bp = st_f2.select(station=\"DROMY\", channel=\"LAN\")[0]\n",
    "    bromy_e_trace_bp = st_f2.select(station=\"DROMY\", channel=\"LAE\")[0]\n",
    "    \n",
    "\n",
    "    ax[0].plot(tromy_n_trace.times()/scaling_time, tromy_n_trace.data*scaling, label=\"TROMY\", lw=linew, zorder=3)\n",
    "    ax[0].plot(romyt_n_trace.times()/scaling_time, romyt_n_trace.data*scaling, label=\"ROMYT\", lw=linew, zorder=2)\n",
    "    ax[0].plot(bromy_n_trace.times()/scaling_time, bromy_n_trace.data*scaling, label=\"BROMY\", lw=linew, zorder=1)\n",
    "\n",
    "    ax[1].plot(tromy_n_trace_pp.times()/scaling_time, tromy_n_trace_lp.data*scaling, label=\"{filter_str}\", lw=linew, zorder=3)\n",
    "    ax[1].plot(romyt_n_trace_pp.times()/scaling_time, romyt_n_trace_lp.data*scaling, label=\"{filter_str}\", lw=linew, zorder=2)\n",
    "    ax[1].plot(bromy_n_trace_pp.times()/scaling_time, bromy_n_trace_lp.data*scaling, label=\"{filter_str}\", lw=linew, zorder=1)\n",
    "    \n",
    "    ax[2].plot(tromy_n_trace_bp.times()/scaling_time, tromy_n_trace_bp.data*scaling, label=f\"{filter_str} Hz\", lw=linew, zorder=3)\n",
    "    ax[2].plot(romyt_n_trace_bp.times()/scaling_time, romyt_n_trace_bp.data*scaling, label=f\"{filter_str} Hz\", lw=linew, zorder=2)   \n",
    "    ax[2].plot(bromy_n_trace_bp.times()/scaling_time, bromy_n_trace_bp.data*scaling, label=f\"{filter_str} Hz\", lw=linew, zorder=1)   \n",
    "\n",
    "    ax[3].plot(tromy_e_trace.times()/scaling_time, tromy_e_trace.data*scaling, label=f\"{filter_str} Hz\", lw=linew, zorder=3)\n",
    "    ax[3].plot(romyt_e_trace.times()/scaling_time, romyt_e_trace.data*scaling, label=f\"{filter_str} Hz\", lw=linew, zorder=2)\n",
    "    ax[3].plot(bromy_e_trace.times()/scaling_time, bromy_e_trace.data*scaling, label=f\"{filter_str} Hz\", lw=linew, zorder=1)\n",
    "    \n",
    "    ax[4].plot(tromy_e_trace_pp.times()/scaling_time, tromy_e_trace_lp.data*scaling, label=f\"{filter_str}\", lw=linew, zorder=3)\n",
    "    ax[4].plot(romyt_e_trace_pp.times()/scaling_time, romyt_e_trace_lp.data*scaling, label=f\"{filter_str}\", lw=linew, zorder=2)\n",
    "    ax[4].plot(bromy_e_trace_pp.times()/scaling_time, bromy_e_trace_lp.data*scaling, label=f\"{filter_str}\", lw=linew, zorder=1)\n",
    "    \n",
    "    ax[5].plot(tromy_e_trace_bp.times()/scaling_time, tromy_e_trace_bp.data*scaling, label=\"test\", lw=linew, zorder=3)\n",
    "    ax[5].plot(romyt_e_trace_bp.times()/scaling_time, romyt_e_trace_bp.data*scaling, label=\"test\", lw=linew, zorder=2)\n",
    "    ax[5].plot(bromy_e_trace_bp.times()/scaling_time, bromy_e_trace_bp.data*scaling, label=\"test\", lw=linew, zorder=1)\n",
    "    \n",
    "    ax[2].plot(tilt_theo.select(channel=\"*N\")[0].times()/scaling_time, tilt_theo.select(channel=\"*N\")[0].data*scaling, 'k', zorder=0)\n",
    "    ax[5].plot(tilt_theo.select(channel=\"*E\")[0].times()/scaling_time, tilt_theo.select(channel=\"*E\")[0].data*scaling, 'k', zorder=0)\n",
    "\n",
    "    ax[1].set_title(\"detrend & taper \", loc=\"right\", fontsize=font-1, pad=2)\n",
    "    ax[2].set_title(\"highpass 2 days \", loc=\"right\", fontsize=font-1, pad=2)\n",
    "    ax[4].set_title(\"detrend & taper \", loc=\"right\", fontsize=font-1, pad=2)\n",
    "    ax[5].set_title(\"highpass 2 days \", loc=\"right\", fontsize=font-1, pad=2)\n",
    "\n",
    "        \n",
    "    ax[0].set_ylabel(\"North ($\\mu$rad)\", fontsize=font)\n",
    "    ax[1].set_ylabel(\"North ($\\mu$rad)\", fontsize=font)\n",
    "    ax[2].set_ylabel(\"North ($\\mu$rad)\", fontsize=font)\n",
    "    ax[3].set_ylabel(\"East ($\\mu$rad)\", fontsize=font)\n",
    "    ax[4].set_ylabel(\"East ($\\mu$rad)\", fontsize=font)\n",
    "    ax[5].set_ylabel(\"East ($\\mu$rad)\", fontsize=font)\n",
    "\n",
    "    ax[NN-1].set_xlabel(f\"Time from {tromy_n_trace.stats.starttime.date} (days)\", fontsize=font)\n",
    "\n",
    "    ax[0].legend(loc=1, fontsize=font-2, bbox_to_anchor=(0.65, 1.2), ncol=3, framealpha=1)\n",
    "\n",
    "\n",
    "    \n",
    "#     lim = 5\n",
    "#     ax[0].set_ylim(-lim,lim)\n",
    "#     ax[3].set_ylim(-lim,lim)   \n",
    "    \n",
    "    lim = .4\n",
    "    ax[1].set_ylim(-lim,lim)\n",
    "    ax[4].set_ylim(-lim,lim)\n",
    "\n",
    "    lim = .4\n",
    "    ax[2].set_ylim(-lim,lim)\n",
    "    ax[5].set_ylim(-lim,lim)\n",
    "    \n",
    "    \n",
    "    plt.show();\n",
    "    return fig\n",
    "\n",
    "# __makeplot_earth_tides();"
   ]
  },
  {
   "cell_type": "code",
   "execution_count": null,
   "id": "35d61403",
   "metadata": {
    "ExecuteTime": {
     "end_time": "2023-06-08T14:58:01.417018Z",
     "start_time": "2023-06-08T14:57:55.796Z"
    }
   },
   "outputs": [],
   "source": [
    "# __savefig(fig, outpath=config['output_figures'], outname=\"Tilt_ALL_EarthTides_NO_TempCorrect\", mode=\"png\", dpi=None)"
   ]
  },
  {
   "cell_type": "code",
   "execution_count": null,
   "id": "eeedf899",
   "metadata": {
    "ExecuteTime": {
     "end_time": "2023-06-08T14:58:01.417643Z",
     "start_time": "2023-06-08T14:57:55.799Z"
    },
    "code_folding": [
     0
    ]
   },
   "outputs": [],
   "source": [
    "def __makeplot_earth_tides2():\n",
    "    NN = 4\n",
    "\n",
    "    font = 14\n",
    "    linew = 1.3\n",
    "    \n",
    "    fig, ax = plt.subplots(NN, 1, figsize=(15,12), sharex=True)\n",
    "\n",
    "    scaling = 1e6 ## micro strain\n",
    "    scaling_time = 86400\n",
    "\n",
    "    ## not filtered\n",
    "    tromy_n_trace = st_all.select(station=\"TROMY\", channel=\"MAN\")[0]\n",
    "    tromy_e_trace = st_all.select(station=\"TROMY\", channel=\"MAE\")[0]\n",
    "    romyt_n_trace = st_all.select(station=\"ROMYT\", channel=\"MAN\")[0]\n",
    "    romyt_e_trace = st_all.select(station=\"ROMYT\", channel=\"MAE\")[0]\n",
    "    bromy_n_trace = st_all.select(station=\"DROMY\", channel=\"LAN\")[0]\n",
    "    bromy_e_trace = st_all.select(station=\"DROMY\", channel=\"LAE\")[0]\n",
    "    \n",
    "    ## bandpass 1\n",
    "    tromy_n_trace_bp = st_f1.select(station=\"TROMY\", channel=\"MAN\")[0]\n",
    "    romyt_n_trace_bp = st_f1.select(station=\"ROMYT\", channel=\"MAN\")[0]\n",
    "    tromy_e_trace_bp = st_f1.select(station=\"TROMY\", channel=\"MAE\")[0]\n",
    "    romyt_e_trace_bp = st_f1.select(station=\"ROMYT\", channel=\"MAE\")[0]\n",
    "    bromy_n_trace_bp = st_f1.select(station=\"DROMY\", channel=\"LAN\")[0]\n",
    "    bromy_e_trace_bp = st_f1.select(station=\"DROMY\", channel=\"LAE\")[0]\n",
    "    \n",
    "    ## bandpass 2\n",
    "    tromy_n_trace_lp = st_f2.select(station=\"TROMY\", channel=\"MAN\")[0]\n",
    "    romyt_n_trace_lp = st_f2.select(station=\"ROMYT\", channel=\"MAN\")[0]\n",
    "    tromy_e_trace_lp = st_f2.select(station=\"TROMY\", channel=\"MAE\")[0]\n",
    "    romyt_e_trace_lp = st_f2.select(station=\"ROMYT\", channel=\"MAE\")[0]\n",
    "    bromy_n_trace_lp = st_f2.select(station=\"DROMY\", channel=\"LAN\")[0]\n",
    "    bromy_e_trace_lp = st_f2.select(station=\"DROMY\", channel=\"LAE\")[0]\n",
    "    \n",
    "\n",
    "    ax[0].plot(tromy_n_trace.times()/scaling_time, tromy_n_trace.data*scaling, label=\"TROMY\", lw=linew, zorder=3)\n",
    "    ax[0].plot(romyt_n_trace.times()/scaling_time, romyt_n_trace.data*scaling, label=\"ROMYT\", lw=linew, zorder=2)\n",
    "    ax[0].plot(bromy_n_trace.times()/scaling_time, bromy_n_trace.data*scaling, label=\"BROMY\", lw=linew, zorder=1)\n",
    "\n",
    "    ax[1].plot(tromy_n_trace_bp.times()/scaling_time, tromy_n_trace_bp.data*scaling, label=f\"{filter_str} Hz\", lw=linew, zorder=3)\n",
    "    ax[1].plot(romyt_n_trace_bp.times()/scaling_time, romyt_n_trace_bp.data*scaling, label=f\"{filter_str} Hz\", lw=linew, zorder=2)   \n",
    "    ax[1].plot(bromy_n_trace_bp.times()/scaling_time, bromy_n_trace_bp.data*scaling, label=f\"{filter_str} Hz\", lw=linew, zorder=1)   \n",
    "\n",
    "    ax[2].plot(tromy_e_trace.times()/scaling_time, tromy_e_trace.data*scaling, label=f\"{filter_str} Hz\", lw=linew, zorder=3)\n",
    "    ax[2].plot(romyt_e_trace.times()/scaling_time, romyt_e_trace.data*scaling, label=f\"{filter_str} Hz\", lw=linew, zorder=2)\n",
    "    ax[2].plot(bromy_e_trace.times()/scaling_time, bromy_e_trace.data*scaling, label=f\"{filter_str} Hz\", lw=linew, zorder=1)\n",
    "    \n",
    "    ax[3].plot(tromy_e_trace_bp.times()/scaling_time, tromy_e_trace_bp.data*scaling, label=\"test\", lw=linew, zorder=3)\n",
    "    ax[3].plot(romyt_e_trace_bp.times()/scaling_time, romyt_e_trace_bp.data*scaling, label=\"test\", lw=linew, zorder=2)\n",
    "    ax[3].plot(bromy_e_trace_bp.times()/scaling_time, bromy_e_trace_bp.data*scaling, label=\"test\", lw=linew, zorder=1)\n",
    "    \n",
    "\n",
    "    ax[1].set_title(\"highpass 2 days \", loc=\"right\", fontsize=font-1, pad=2)\n",
    "    ax[3].set_title(\"highpass 2 days \", loc=\"right\", fontsize=font-1, pad=2)\n",
    "        \n",
    "    ax[0].set_ylabel(\"North ($\\mu$rad)\", fontsize=font)\n",
    "    ax[1].set_ylabel(\"North ($\\mu$rad)\", fontsize=font)\n",
    "    ax[2].set_ylabel(\"East ($\\mu$rad)\", fontsize=font)\n",
    "    ax[3].set_ylabel(\"East ($\\mu$rad)\", fontsize=font)\n",
    "\n",
    "    ax[NN-1].set_xlabel(f\"Time from {st[0].stats.starttime.date} (days)\", fontsize=font)\n",
    "\n",
    "    ax[0].legend(loc=1, fontsize=font-2, bbox_to_anchor=(0.65, 1.2), ncol=3, framealpha=1)\n",
    "   \n",
    "\n",
    "    lim = 1\n",
    "    ax[1].set_ylim(-lim,lim)\n",
    "    ax[3].set_ylim(-lim,lim)\n",
    "    \n",
    "    \n",
    "    plt.show();\n",
    "    return fig\n",
    "\n",
    "# __makeplot_earth_tides2();"
   ]
  },
  {
   "cell_type": "code",
   "execution_count": null,
   "id": "e0fc1cb9",
   "metadata": {
    "ExecuteTime": {
     "end_time": "2023-06-08T14:58:01.418287Z",
     "start_time": "2023-06-08T14:57:55.800Z"
    },
    "code_folding": [
     0
    ]
   },
   "outputs": [],
   "source": [
    "def __makeplot():\n",
    "\n",
    "    fig, ax = plt.subplots(2,1, figsize=(15,8),sharex=True)\n",
    "\n",
    "    plt.subplots_adjust(hspace=0.1)\n",
    "    \n",
    "    font = 14\n",
    "    linew = 1.3\n",
    "    scaling, unit = 1e6, r\"$\\mu$rad\" ## micro strain\n",
    "    scaling_time = 86400\n",
    "\n",
    "\n",
    "    tromy_n_trace_lp = st_f2.select(station=\"TROMY\", channel=\"MAN\")[0]\n",
    "    romyt_n_trace_lp = st_f2.select(station=\"ROMYT\", channel=\"MAN\")[0]\n",
    "    tromy_e_trace_lp = st_f2.select(station=\"TROMY\", channel=\"MAE\")[0]\n",
    "    romyt_e_trace_lp = st_f2.select(station=\"ROMYT\", channel=\"MAE\")[0]\n",
    "    bromy_n_trace_lp = st_f2.select(station=\"DROMY\", channel=\"LAN\")[0]\n",
    "    bromy_e_trace_lp = st_f2.select(station=\"DROMY\", channel=\"LAE\")[0]\n",
    "\n",
    "    ax[0].plot(tromy_n_trace_lp.times()/scaling_time, tromy_n_trace_lp.data*scaling, label=f\"TROMY\", lw=linew, zorder=3)\n",
    "    ax[0].plot(romyt_n_trace_lp.times()/scaling_time, romyt_n_trace_lp.data*scaling, label=f\"ROMYT\", lw=linew, zorder=2)   \n",
    "    ax[0].plot(bromy_n_trace_lp.times()/scaling_time, bromy_n_trace_lp.data*scaling, label=f\"BROMY\", lw=linew, zorder=1)   \n",
    "\n",
    "    ax[1].plot(tromy_e_trace_lp.times()/scaling_time, tromy_e_trace_lp.data*scaling, label=f\"TROMY\", lw=linew, zorder=3)\n",
    "    ax[1].plot(romyt_e_trace_lp.times()/scaling_time, romyt_e_trace_lp.data*scaling, label=f\"ROMYT\", lw=linew, zorder=2)   \n",
    "    ax[1].plot(bromy_e_trace_lp.times()/scaling_time, bromy_e_trace_lp.data*scaling, label=f\"BROMY\", lw=linew, zorder=1)   \n",
    "\n",
    "    ax[0].plot(tilt_theo.select(channel=\"*N\")[0].times()/scaling_time, tilt_theo.select(channel=\"*N\")[0].data*scaling, 'k', label=\"Est. North\", zorder=0)\n",
    "    ax[1].plot(tilt_theo.select(channel=\"*E\")[0].times()/scaling_time, tilt_theo.select(channel=\"*E\")[0].data*scaling, 'k', label=\"Est. East\", zorder=0)\n",
    "\n",
    "    ax[0].set_ylabel(f\"North-South Tilt  ({unit})\", fontsize=font)\n",
    "    ax[1].set_ylabel(f\"East-West Tilt ({unit})\", fontsize=font)\n",
    "\n",
    "    ax[0].legend(loc=1, fontsize=font-2, ncol=2)\n",
    "    ax[1].legend(loc=1, fontsize=font-2, ncol=2)\n",
    "        \n",
    "    ax[1].set_xlabel(f\"Time from {tromy_n_trace_lp.stats.starttime.date} (days)\", fontsize=font)\n",
    "    \n",
    "    ax[0].set_ylim(-.25, .25)\n",
    "    ax[1].set_ylim(-.25, .25)\n",
    "\n",
    "    ax[0].set_xlim(2,25)\n",
    "    ax[1].set_xlim(2,25)\n",
    "\n",
    "    \n",
    "    plt.show();\n",
    "    return fig\n",
    "    \n",
    "# fig = __makeplot()"
   ]
  },
  {
   "cell_type": "code",
   "execution_count": null,
   "id": "010f21a8",
   "metadata": {
    "ExecuteTime": {
     "end_time": "2023-06-08T14:58:01.418786Z",
     "start_time": "2023-06-08T14:57:55.802Z"
    }
   },
   "outputs": [],
   "source": [
    "from numpy import arcsin, sin, deg2rad, pi\n",
    "\n",
    "def __to_tilt(arr):\n",
    "    return arcsin(deg2rad(arr * 33.6 * 632.8e-9 / 4 / 53.93 / (2*pi/86400)))\n",
    "\n",
    "def __to_P(arr):\n",
    "    return 4*53.93/632.8e-9/arr * sin(deg2rad(48.7)) * (2*pi/86400)\n",
    "\n",
    "def __to_H(arr):\n",
    "    return 3*632.8e-9*arr /2 /sin(deg2rad(48.7)) / (2*pi/86400)\n"
   ]
  },
  {
   "cell_type": "code",
   "execution_count": null,
   "id": "656e820d",
   "metadata": {
    "ExecuteTime": {
     "end_time": "2023-06-08T14:58:01.419394Z",
     "start_time": "2023-06-08T14:57:55.804Z"
    },
    "code_folding": [
     0
    ]
   },
   "outputs": [],
   "source": [
    "def __makeplot_residuals():\n",
    "    \n",
    "    from numpy import corrcoef, nan, correlate\n",
    "    \n",
    "    NN = 10\n",
    "    \n",
    "    fig = plt.figure(figsize=(12,12))\n",
    "    ax1 = plt.subplot2grid((NN,1), (0,0), rowspan=2)\n",
    "    ax2 = plt.subplot2grid((NN,1), (2,0), sharex=ax1)\n",
    "    ax3 = plt.subplot2grid((NN,1), (3,0), rowspan=2, sharex=ax1)\n",
    "    ax4 = plt.subplot2grid((NN,1), (5,0), sharex=ax1)\n",
    "    ax5 = plt.subplot2grid((NN,1), (6,0), rowspan=2, sharex=ax1)\n",
    "    ax6 = plt.subplot2grid((NN,1), (8,0), rowspan=2, sharex=ax1)\n",
    "\n",
    "    fig.subplots_adjust(hspace=0.02)\n",
    "    \n",
    "    font = 14\n",
    "    linew = 1.3\n",
    "    scaling, unit = 1e6, r\"$\\mu$rad\" ## micro strain\n",
    "    scaling_time = 86400\n",
    "\n",
    "    t1 = UTCDateTime(\"2022-04-26\")\n",
    "    t2 = UTCDateTime(\"2022-05-20\")\n",
    "    \n",
    "\n",
    "    tromy_n_trace_lp = st_f2.select(station=\"TROMY\", channel=\"MAN\")[0].trim(t1, t2)\n",
    "    tromy_e_trace_lp = st_f2.select(station=\"TROMY\", channel=\"MAE\")[0].trim(t1, t2)\n",
    "    romyt_n_trace_lp = st_f2.select(station=\"ROMYT\", channel=\"MAN\")[0].trim(t1, t2)\n",
    "    romyt_e_trace_lp = st_f2.select(station=\"ROMYT\", channel=\"MAE\")[0].trim(t1, t2)\n",
    "    bromy_n_trace_lp = st_f2.select(station=\"DROMY\", channel=\"LAN\")[0].trim(t1, t2)\n",
    "    bromy_e_trace_lp = st_f2.select(station=\"DROMY\", channel=\"LAE\")[0].trim(t1, t2)\n",
    "    \n",
    "    tilt_n_theo = tilt_theo.select(channel=\"*N\")[0].trim(t1, t2)\n",
    "    tilt_e_theo = tilt_theo.select(channel=\"*E\")[0].trim(t1, t2)\n",
    "    \n",
    "    \n",
    "    \n",
    "    out_tromy_n_cc = corrcoef(tromy_n_trace_lp.data, tilt_n_theo.data)\n",
    "    out_romyt_n_cc = corrcoef(romyt_n_trace_lp.data, tilt_n_theo.data)\n",
    "    out_bromy_n_cc = corrcoef(bromy_n_trace_lp.data, tilt_n_theo.data)\n",
    "    \n",
    "    out_tromy_e_cc = corrcoef(tromy_e_trace_lp.data, tilt_e_theo.data)\n",
    "    out_romyt_e_cc = corrcoef(romyt_e_trace_lp.data, tilt_e_theo.data)\n",
    "    out_bromy_e_cc = corrcoef(bromy_e_trace_lp.data, tilt_e_theo.data)\n",
    "    \n",
    "    \n",
    "    ## -------------------------------------\n",
    "    \n",
    "    ax1.plot(tromy_n_trace_lp.times()/scaling_time, tromy_n_trace_lp.data*scaling, label=f\"TROMY\", lw=linew, zorder=3)\n",
    "    ax1.plot(romyt_n_trace_lp.times()/scaling_time, romyt_n_trace_lp.data*scaling, label=f\"ROMYT\", lw=linew, zorder=2)   \n",
    "    ax1.plot(bromy_n_trace_lp.times()/scaling_time, bromy_n_trace_lp.data*scaling, label=f\"BROMY\", lw=linew, zorder=1)   \n",
    "\n",
    "    ax1_1 = ax1.twinx()\n",
    "    ax1_1.get_yaxis().set_visible(False)\n",
    "    \n",
    "    ax1_1.plot(tromy_n_trace_lp.times()/scaling_time, tromy_n_trace_lp.data*scaling*nan, label=f\"cc={round(out_tromy_n_cc[0][1],2)}\", lw=linew, zorder=3)\n",
    "    ax1_1.plot(romyt_n_trace_lp.times()/scaling_time, romyt_n_trace_lp.data*scaling*nan, label=f\"cc={round(out_romyt_n_cc[0][1],2)}\", lw=linew, zorder=2)   \n",
    "    ax1_1.plot(bromy_n_trace_lp.times()/scaling_time, bromy_n_trace_lp.data*scaling*nan, label=f\"cc={round(out_bromy_n_cc[0][1],2)}\", lw=linew, zorder=1)   \n",
    "    \n",
    "    \n",
    "    ax2.plot(tromy_n_trace_lp.times()/scaling_time, (tromy_n_trace_lp.data-tilt_n_theo.data)*scaling, label=f\"\", lw=linew, zorder=3)\n",
    "    ax2.plot(romyt_n_trace_lp.times()/scaling_time, (romyt_n_trace_lp.data-tilt_n_theo.data)*scaling, label=f\"\", lw=linew, zorder=2)   \n",
    "    ax2.plot(bromy_n_trace_lp.times()/scaling_time, (bromy_n_trace_lp.data-tilt_n_theo.data)*scaling, label=f\"\", lw=linew, zorder=1)   \n",
    "\n",
    "    ax3.plot(tromy_e_trace_lp.times()/scaling_time, tromy_e_trace_lp.data*scaling, label=f\"cc={round(out_tromy_e_cc[0][1],2)}\", lw=linew, zorder=3)\n",
    "    ax3.plot(romyt_e_trace_lp.times()/scaling_time, romyt_e_trace_lp.data*scaling, label=f\"cc={round(out_romyt_e_cc[0][1],2)}\", lw=linew, zorder=2)\n",
    "    ax3.plot(bromy_e_trace_lp.times()/scaling_time, bromy_e_trace_lp.data*scaling, label=f\"cc={round(out_bromy_e_cc[0][1],2)}\", lw=linew, zorder=1)\n",
    "\n",
    "    ax4.plot(tromy_e_trace_lp.times()/scaling_time, (tromy_e_trace_lp.data-tilt_e_theo.data)*scaling, label=f\"\", lw=linew, zorder=3)\n",
    "    ax4.plot(romyt_e_trace_lp.times()/scaling_time, (romyt_e_trace_lp.data-tilt_e_theo.data)*scaling, label=f\"\", lw=linew, zorder=2)   \n",
    "    ax4.plot(bromy_e_trace_lp.times()/scaling_time, (bromy_e_trace_lp.data-tilt_e_theo.data)*scaling, label=f\"\", lw=linew, zorder=1)   \n",
    "\n",
    "    \n",
    "    ## Theo Tilt\n",
    "    ax1.plot(tilt_theo.select(channel=\"*N\")[0].times()/scaling_time, tilt_theo.select(channel=\"*N\")[0].data*scaling, 'k', label=\"Theory\", zorder=0)\n",
    "    ax3.plot(tilt_theo.select(channel=\"*E\")[0].times()/scaling_time, tilt_theo.select(channel=\"*E\")[0].data*scaling, 'k', zorder=0)\n",
    "    \n",
    "    ## beat frequency\n",
    "    smoothing = 5\n",
    "    cut_off = int(smoothing/2)\n",
    "    beat.trim(t1,t2)\n",
    "#     ax5.scatter(beat.times()/scaling_time, beat.data, s=0.2)\n",
    "#     ax5.plot(beat.times()[cut_off:-cut_off]/scaling_time, __smooth(beat.data, smoothing)[cut_off:-cut_off], \"k\", zorder=2)\n",
    "    tilt = __to_tilt(beat.data)\n",
    "    tilt -= tilt[0]\n",
    "    tilt_cp = tilt * 1e6\n",
    "    \n",
    "    tilt_theo2 = tilt_n_theo.copy().resample(1/60).data[:-9]\n",
    "    tilt_tromy_n_2 = st_f2.copy().select(station=\"TROMY\", channel=\"MAN\")[0].resample(1/60).data[:-9]\n",
    "    \n",
    "    tilt = tilt + (tilt_tromy_n_2 - tilt_theo2)\n",
    "    \n",
    "    tilt *= scaling\n",
    "    ax5.plot(beat.times()/scaling_time, __smooth(tilt,5), \"r\", zorder=2)\n",
    "    ax5.plot(beat.times()/scaling_time, __smooth(tilt_cp,5), \"k\", zorder=2)\n",
    "\n",
    "    ax5.set_ylim(-1, 1)\n",
    "#     ax5.set_ylim(553.37, 553.41)\n",
    "    \n",
    "    \n",
    "    \n",
    "    P = __to_H(beat.data)\n",
    "    ax6.plot(beat.times()/scaling_time, __smooth(P,5), \"k\", zorder=2)\n",
    "#     ax6.set_ylim(33.654, 33.657)\n",
    "    ax6.set_ylim(9.614, 9.615)\n",
    "    \n",
    "    ax6.ticklabel_format(useOffset=False, style='plain')    \n",
    "\n",
    "    ax1.set_ylabel(f\"North-South Tilt  ({unit})\", fontsize=font)\n",
    "    ax2.set_ylabel(f\"Res. ({unit})\", fontsize=font)\n",
    "    ax3.set_ylabel(f\"East-West Tilt ({unit})\", fontsize=font)\n",
    "    ax4.set_ylabel(f\"Res. ({unit})\", fontsize=font)\n",
    "#     ax5.set_ylabel(f\"Beat note (Hz)\",fontsize=font)\n",
    "    ax5.set_ylabel(f\"tilt ($\\mu$rad)\",fontsize=font)\n",
    "    \n",
    "#     ax1.legend(loc=1, fontsize=font-2, ncol=3, bbox_to_anchor=(0.85, 1.))\n",
    "    ax1_1.legend(loc=4, fontsize=font-4, ncol=3)\n",
    "    ax3.legend(loc=4, fontsize=font-4, ncol=3)\n",
    "        \n",
    "    \n",
    "#     ax1.set_ylim(-.25, .25)\n",
    "#     ax2.set_ylim(-.2, .2)\n",
    "#     ax3.set_ylim(-.25, .25)\n",
    "#     ax4.set_ylim(-.1, .1)\n",
    "\n",
    "    dx1, dx2 = 0, 25\n",
    "#     ax1.set_xlim(dx1, dx2)\n",
    "#     ax2.set_xlim(dx1, dx2)\n",
    "#     ax3.set_xlim(dx1, dx2)\n",
    "#     ax4.set_xlim(dx1, dx2)\n",
    "    \n",
    "    ax5.set_xlabel(f\"Time from {(tromy_n_trace_lp.stats.starttime + dx1*86400).date} (days)\", fontsize=font)\n",
    "    \n",
    "    ax1.legend(loc=1, fontsize=font-2, bbox_to_anchor=(0.75, 1.18), ncol=4, framealpha=0, facecolor=\"w\")\n",
    "\n",
    "    fig.tight_layout()\n",
    "    return fig \n",
    "\n",
    "fig = __makeplot_residuals()"
   ]
  },
  {
   "cell_type": "code",
   "execution_count": null,
   "id": "7887217f",
   "metadata": {
    "ExecuteTime": {
     "end_time": "2023-06-08T14:58:01.419879Z",
     "start_time": "2023-06-08T14:57:55.806Z"
    }
   },
   "outputs": [],
   "source": [
    "t1 = UTCDateTime(\"2022-04-26\")\n",
    "t2 = UTCDateTime(\"2022-05-20\")\n",
    "\n",
    "temp = TROMY.copy().select(channel=\"*T\")[0].resample(1/60).trim(t1, t2).data\n",
    "temp -= nanmean(temp[:20])\n",
    "\n",
    "H = __to_H(beat.data)\n",
    "\n",
    "H_expected = 2*53.93/11.3\n",
    "\n",
    "H_rel = abs(H-H[0])/H_expected \n",
    "\n",
    "plt.scatter(temp, H_rel)\n",
    "\n",
    "print(np.nanmedian(H_rel/temp), \" /°C\")"
   ]
  },
  {
   "cell_type": "code",
   "execution_count": null,
   "id": "2b0b11e0",
   "metadata": {
    "ExecuteTime": {
     "end_time": "2023-06-08T14:58:01.420396Z",
     "start_time": "2023-06-08T14:57:55.807Z"
    }
   },
   "outputs": [],
   "source": [
    "# __savefig(fig, outpath=config['output_figures'], outname=\"Tilt_ALL_EarthTides_TempCorrect_TheoResiduals_BeatNote\", mode=\"png\", dpi=None)"
   ]
  },
  {
   "cell_type": "code",
   "execution_count": null,
   "id": "8f6818b6",
   "metadata": {
    "ExecuteTime": {
     "end_time": "2023-06-08T14:58:01.420843Z",
     "start_time": "2023-06-08T14:57:55.810Z"
    }
   },
   "outputs": [],
   "source": [
    "# import numpy as np\n",
    "# w1 = np.arcsin(np.deg2rad(553.375 * 33.6 * 632.8e-9 / 4 / 53.93 / (2*np.pi/86400)))\n",
    "\n",
    "# w2 = np.arcsin(np.deg2rad(553.41 * 33.6 * 632.8e-9 / 4 / 53.93 / (2*np.pi/86400)))\n",
    "\n",
    "# abs(w1-w2)*1e6"
   ]
  },
  {
   "cell_type": "code",
   "execution_count": null,
   "id": "a6c8b801",
   "metadata": {
    "ExecuteTime": {
     "end_time": "2023-06-08T14:58:01.421384Z",
     "start_time": "2023-06-08T14:57:55.811Z"
    },
    "code_folding": [
     0
    ]
   },
   "outputs": [],
   "source": [
    "def __makeplot_residuals2():\n",
    "    \n",
    "    fig = plt.figure(figsize=(12,8))\n",
    "    ax1 = plt.subplot2grid((6,1), (0,0), rowspan=2)\n",
    "    ax2 = plt.subplot2grid((6,1), (2,0), sharex=ax1)\n",
    "    ax3 = plt.subplot2grid((6,1), (3,0), rowspan=2, sharex=ax1)\n",
    "    ax4 = plt.subplot2grid((6,1), (5,0), sharex=ax1)\n",
    "\n",
    "    fig.subplots_adjust(hspace=0.05)\n",
    "    \n",
    "    font = 14\n",
    "    linew = 1.3\n",
    "    scaling, unit = 1e6, r\"$\\mu$rad\" ## micro strain\n",
    "    scaling_time = 86400\n",
    "\n",
    "    t1 = UTCDateTime(\"2022-04-26\")\n",
    "    t2 = UTCDateTime(\"2022-05-20\")\n",
    "    \n",
    "\n",
    "    tromy_n_trace_lp = st_f2.select(station=\"TROMY\", channel=\"MAN\")[0].trim(t1, t2)\n",
    "    tromy_e_trace_lp = st_f2.select(station=\"TROMY\", channel=\"MAE\")[0].trim(t1, t2)\n",
    "    romyt_n_trace_lp = st_f2.select(station=\"ROMYT\", channel=\"MAN\")[0].trim(t1, t2)\n",
    "    romyt_e_trace_lp = st_f2.select(station=\"ROMYT\", channel=\"MAE\")[0].trim(t1, t2)\n",
    "    bromy_n_trace_lp = st_f2.select(station=\"DROMY\", channel=\"LAN\")[0].trim(t1, t2)\n",
    "    bromy_e_trace_lp = st_f2.select(station=\"DROMY\", channel=\"LAE\")[0].trim(t1, t2)\n",
    "    \n",
    "    tilt_n_theo = tilt_theo.select(channel=\"*N\")[0].trim(t1, t2)\n",
    "    tilt_e_theo = tilt_theo.select(channel=\"*E\")[0].trim(t1, t2)\n",
    "    \n",
    "    \n",
    "    from numpy import corrcoef, nan, correlate\n",
    "    out_tromy_n_cc = corrcoef(tromy_n_trace_lp.data, tilt_n_theo.data)\n",
    "    out_romyt_n_cc = corrcoef(romyt_n_trace_lp.data, tilt_n_theo.data)\n",
    "    out_bromy_n_cc = corrcoef(bromy_n_trace_lp.data, tilt_n_theo.data)\n",
    "    \n",
    "    out_tromy_e_cc = corrcoef(tromy_e_trace_lp.data, tilt_e_theo.data)\n",
    "    out_romyt_e_cc = corrcoef(romyt_e_trace_lp.data, tilt_e_theo.data)\n",
    "    out_bromy_e_cc = corrcoef(bromy_e_trace_lp.data, tilt_e_theo.data)\n",
    "    \n",
    "    \n",
    "    ## -------------------------------------\n",
    "    \n",
    "    ax1.plot(tromy_n_trace_lp.times()/scaling_time, tromy_n_trace_lp.data*scaling, label=f\"TROMY\", lw=linew, zorder=3)\n",
    "    ax1.plot(romyt_n_trace_lp.times()/scaling_time, romyt_n_trace_lp.data*scaling, label=f\"ROMYT\", lw=linew, zorder=2)   \n",
    "    ax1.plot(bromy_n_trace_lp.times()/scaling_time, bromy_n_trace_lp.data*scaling, label=f\"BROMY\", lw=linew, zorder=1)   \n",
    "\n",
    "    ax1_0 = ax1.twinx()\n",
    "    ax1_0.get_yaxis().set_visible(False)\n",
    "    \n",
    "    ax1_0.plot(tromy_n_trace_lp.times()/scaling_time, tromy_n_trace_lp.data*scaling*nan, label=f\"cc={round(out_tromy_n_cc[0][1],2)}\", lw=linew, zorder=3)\n",
    "    ax1_0.plot(romyt_n_trace_lp.times()/scaling_time, romyt_n_trace_lp.data*scaling*nan, label=f\"cc={round(out_romyt_n_cc[0][1],2)}\", lw=linew, zorder=2)   \n",
    "    ax1_0.plot(bromy_n_trace_lp.times()/scaling_time, bromy_n_trace_lp.data*scaling*nan, label=f\"cc={round(out_bromy_n_cc[0][1],2)}\", lw=linew, zorder=1)   \n",
    "    \n",
    "    ax2.plot(tromy_n_trace_lp.times()/scaling_time, (tromy_n_trace_lp.data-tilt_n_theo.data)*scaling, label=f\"\", lw=linew, zorder=3)\n",
    "    ax2.plot(romyt_n_trace_lp.times()/scaling_time, (romyt_n_trace_lp.data-tilt_n_theo.data)*scaling, label=f\"\", lw=linew, zorder=2)   \n",
    "    ax2.plot(bromy_n_trace_lp.times()/scaling_time, (bromy_n_trace_lp.data-tilt_n_theo.data)*scaling, label=f\"\", lw=linew, zorder=1)   \n",
    "\n",
    "    ax3.plot(tromy_e_trace_lp.times()/scaling_time, tromy_e_trace_lp.data*scaling, label=f\"cc={round(out_tromy_e_cc[0][1],2)}\", lw=linew, zorder=3)\n",
    "    ax3.plot(romyt_e_trace_lp.times()/scaling_time, romyt_e_trace_lp.data*scaling, label=f\"cc={round(out_romyt_e_cc[0][1],2)}\", lw=linew, zorder=2)\n",
    "    ax3.plot(bromy_e_trace_lp.times()/scaling_time, bromy_e_trace_lp.data*scaling, label=f\"cc={round(out_bromy_e_cc[0][1],2)}\", lw=linew, zorder=1)\n",
    "\n",
    "    ax4.plot(tromy_e_trace_lp.times()/scaling_time, (tromy_e_trace_lp.data-tilt_e_theo.data)*scaling, label=f\"\", lw=linew, zorder=3)\n",
    "    ax4.plot(romyt_e_trace_lp.times()/scaling_time, (romyt_e_trace_lp.data-tilt_e_theo.data)*scaling, label=f\"\", lw=linew, zorder=2)   \n",
    "    ax4.plot(bromy_e_trace_lp.times()/scaling_time, (bromy_e_trace_lp.data-tilt_e_theo.data)*scaling, label=f\"\", lw=linew, zorder=1)   \n",
    "\n",
    "    ax1.plot(tilt_theo.select(channel=\"*N\")[0].times()/scaling_time, tilt_theo.select(channel=\"*N\")[0].data*nan, 'k', label=\"Theory\", zorder=0, alpha=1)\n",
    "\n",
    "    \n",
    "    ax1_1 = ax1.twinx()\n",
    "    ax1_1.plot(tilt_theo.select(channel=\"*N\")[0].times()/scaling_time, tilt_theo.select(channel=\"*N\")[0].data*scaling*1e3, 'k', zorder=0, alpha=0.5)\n",
    "    ax1_1.set_ylabel(\"Theo. Tilt (nrad)\", fontsize=font)\n",
    "    \n",
    "    ax3_1 = ax3.twinx()\n",
    "    ax3_1.plot(tilt_theo.select(channel=\"*E\")[0].times()/scaling_time, tilt_theo.select(channel=\"*E\")[0].data*scaling*1e3, 'k', zorder=0, alpha=0.5)\n",
    "    ax3_1.set_ylabel(\"Theo. Tilt (nrad)\", fontsize=font)\n",
    "    \n",
    "    ax1.set_ylabel(f\"North-South Tilt  ({unit})\", fontsize=font)\n",
    "    ax2.set_ylabel(f\"Res. ({unit})\", fontsize=font)\n",
    "    ax3.set_ylabel(f\"East-West Tilt ({unit})\", fontsize=font)\n",
    "    ax4.set_ylabel(f\"Res. ({unit})\", fontsize=font)\n",
    "\n",
    "#     ax1.legend(loc=1, fontsize=font-2, ncol=3, bbox_to_anchor=(0.85, 1.))\n",
    "    ax1_0.legend(loc=4, fontsize=font-4, ncol=3)\n",
    "    ax3.legend(loc=4, fontsize=font-4, ncol=3)\n",
    "        \n",
    "    \n",
    "#     ax1.set_ylim(-.25, .25)\n",
    "#     ax2.set_ylim(-.2, .2)\n",
    "#     ax3.set_ylim(-.25, .25)\n",
    "#     ax4.set_ylim(-.1, .1)\n",
    "\n",
    "    dx1, dx2 = 0, 25\n",
    "#     ax1.set_xlim(dx1, dx2)\n",
    "#     ax2.set_xlim(dx1, dx2)\n",
    "#     ax3.set_xlim(dx1, dx2)\n",
    "#     ax4.set_xlim(dx1, dx2)\n",
    "    \n",
    "    ax4.set_xlabel(f\"Time from {(tromy_n_trace_lp.stats.starttime + dx1*86400).date} (days)\", fontsize=font)\n",
    "    \n",
    "    ax1.legend(loc=1, fontsize=font-2, bbox_to_anchor=(0.75, 1.18), ncol=4, framealpha=0, facecolor=\"w\")\n",
    "\n",
    "    fig.tight_layout()\n",
    "    return fig\n",
    "\n",
    "fig = __makeplot_residuals2()"
   ]
  },
  {
   "cell_type": "code",
   "execution_count": null,
   "id": "eff37ad7",
   "metadata": {
    "ExecuteTime": {
     "end_time": "2023-06-08T14:58:01.421863Z",
     "start_time": "2023-06-08T14:57:55.812Z"
    }
   },
   "outputs": [],
   "source": [
    "# __savefig(fig, outpath=config['output_figures'], outname=\"Tilt_ALL_EarthTides_TempCorrect_TheoResiduals2\", mode=\"png\", dpi=None)"
   ]
  },
  {
   "cell_type": "markdown",
   "id": "7a002169",
   "metadata": {},
   "source": [
    "## Compare with Ambient Air Pressure"
   ]
  },
  {
   "cell_type": "code",
   "execution_count": null,
   "id": "d1389a48",
   "metadata": {
    "ExecuteTime": {
     "end_time": "2023-06-08T14:58:01.422364Z",
     "start_time": "2023-06-08T14:57:55.815Z"
    }
   },
   "outputs": [],
   "source": [
    "from numpy import nan\n",
    "BROMY \n",
    "# BROMY = BROMY.split().merge(fill_value=nan)\n",
    "BROMY = BROMY.split().merge(fill_value=\"interpolate\")\n",
    "BROMY"
   ]
  },
  {
   "cell_type": "code",
   "execution_count": null,
   "id": "7d04bc04",
   "metadata": {
    "ExecuteTime": {
     "end_time": "2023-06-08T14:58:01.422812Z",
     "start_time": "2023-06-08T14:57:55.816Z"
    },
    "code_folding": [
     0
    ]
   },
   "outputs": [],
   "source": [
    "def __load_wromy_data(channel, config):\n",
    "    \n",
    "    from os import listdir\n",
    "    from tqdm.notebook import tqdm\n",
    "    from pandas import read_pickle, concat\n",
    "\n",
    "    files = listdir(config['pathToWromy']+channel)\n",
    "    \n",
    "    for n, file in enumerate(tqdm(files)):\n",
    "        df0 = read_pickle(config['pathToWromy']+channel+\"/\"+file)\n",
    "        if n == 0:\n",
    "            df_raw = df0\n",
    "        else: \n",
    "            df_raw = concat([df_raw,df0])\n",
    "    df_raw.reset_index()\n",
    "    return df_raw"
   ]
  },
  {
   "cell_type": "code",
   "execution_count": null,
   "id": "5567ab7a",
   "metadata": {
    "ExecuteTime": {
     "end_time": "2023-06-08T14:58:01.423323Z",
     "start_time": "2023-06-08T14:57:55.818Z"
    },
    "code_folding": [
     0
    ]
   },
   "outputs": [],
   "source": [
    "def __add_wromy_trace(stream, ws):\n",
    "\n",
    "    df0 = __load_wromy_data(ws, config)\n",
    "    df0.dropna(inplace=True)\n",
    "    df0.sort_values('TimeStamp', inplace=True)\n",
    "    df0.reset_index(drop=True, inplace=True)\n",
    "    wsx = df0\n",
    "\n",
    "    ## limit to tbeg - tend\n",
    "    times_absolut = stream.select(channel=\"*T\")[0].times(reftime=UTCDateTime(\"2019-01-01T00\"))\n",
    "    wsx = wsx[(wsx['totalSeconds'] >= times_absolut[0]) & (wsx['totalSeconds'] <= times_absolut[-1]+500)]\n",
    "\n",
    "    if len(wsx['totalSeconds']) != stream[0].stats.npts:\n",
    "        print(f\"-> npts don't match: {len(wsx['totalSeconds'])} != {stream[0].stats.npts}\")\n",
    "    \n",
    "    ## create trace and addto stream\n",
    "    tr_wsx = stream.select(channel=\"*T\")[0].copy()\n",
    "    tr_wsx.data = array(wsx['Pressure (hPa)'])\n",
    "    tr_wsx.stats.channel = ws\n",
    "    stream += tr_wsx"
   ]
  },
  {
   "cell_type": "code",
   "execution_count": null,
   "id": "eab65058",
   "metadata": {
    "ExecuteTime": {
     "end_time": "2023-06-08T14:58:01.423773Z",
     "start_time": "2023-06-08T14:57:55.820Z"
    }
   },
   "outputs": [],
   "source": [
    "__add_wromy_trace(ROMYT, \"WS9\")\n",
    "__add_wromy_trace(TROMY, \"WS5\")\n",
    "__add_wromy_trace(BROMY, \"WS1\")"
   ]
  },
  {
   "cell_type": "code",
   "execution_count": null,
   "id": "df9df0db",
   "metadata": {
    "ExecuteTime": {
     "end_time": "2023-06-08T14:58:01.424359Z",
     "start_time": "2023-06-08T14:57:55.821Z"
    }
   },
   "outputs": [],
   "source": [
    "st_all2 = Stream()\n",
    "\n",
    "st_all2 += ROMYT.copy().select(channel=\"*N\").split()\n",
    "st_all2 += ROMYT.copy().select(channel=\"*E\").split()\n",
    "st_all2 += ROMYT.copy().select(channel=\"WS*\").split()\n",
    "\n",
    "st_all2 += TROMY.copy().select(channel=\"*N\").split()\n",
    "st_all2 += TROMY.copy().select(channel=\"*E\").split()\n",
    "st_all2 += TROMY.copy().select(channel=\"*WS*\").split()\n",
    "\n",
    "st_all2 += BROMY.copy().select(channel=\"*N\").split()\n",
    "st_all2 += BROMY.copy().select(channel=\"*E\").split()\n",
    "st_all2 += BROMY.copy().select(channel=\"*WS*\").split()\n",
    "\n",
    "st_all2.merge(method=1, fill_value='interpolate')\n",
    "\n",
    "\n",
    "st_all2_pp = st_all2.copy()\n",
    "\n",
    "st_all2_pp.detrend('demean')\n",
    "st_all2_pp.taper(0.1);\n",
    "\n",
    "\n",
    "st_f = st_all2_pp.copy()\n",
    "\n",
    "# fmin, fmax = 1/(10*86400), 1/(0.1*86400)\n",
    "# filter_str = f\"bp: {fmin:.2e} - {fmax:.2e} Hz\"\n",
    "# st_f.filter(\"bandpass\", freqmin=fmin, freqmax=fmax, corners=4, zerophase=True);\n",
    "\n",
    "st_f.filter(\"highpass\", freq=1e-5, corners=4, zerophase=True);\n",
    "\n",
    "st_f.detrend(\"demean\")"
   ]
  },
  {
   "cell_type": "code",
   "execution_count": null,
   "id": "05a6045a",
   "metadata": {
    "ExecuteTime": {
     "end_time": "2023-06-08T14:58:01.424905Z",
     "start_time": "2023-06-08T14:57:55.824Z"
    }
   },
   "outputs": [],
   "source": [
    "t1 = UTCDateTime(\"2022-04-30\")\n",
    "t2 = UTCDateTime(\"2022-05-30\")\n",
    "\n",
    "\n",
    "tilt_theo = __load_theoretical_tilt()\n",
    "\n",
    "## double amplitudes for better match.. not yet understood!\n",
    "for tr in tilt_theo:\n",
    "    tr.data *= 2\n",
    "\n",
    "tromy_n_trace_lp = st_f.copy().select(station=\"TROMY\", channel=\"MAN\")[0].trim(t1, t2)\n",
    "tromy_e_trace_lp = st_f.copy().select(station=\"TROMY\", channel=\"MAE\")[0].trim(t1, t2)\n",
    "romyt_n_trace_lp = st_f.copy().select(station=\"ROMYT\", channel=\"MAN\")[0].trim(t1, t2)\n",
    "romyt_e_trace_lp = st_f.copy().select(station=\"ROMYT\", channel=\"MAE\")[0].trim(t1, t2)\n",
    "bromy_n_trace_lp = st_f.copy().select(station=\"DROMY\", channel=\"LAN\")[0].trim(t1, t2)\n",
    "bromy_e_trace_lp = st_f.copy().select(station=\"DROMY\", channel=\"LAE\")[0].trim(t1, t2)\n",
    "\n",
    "tromy_w = st_f.copy().select(channel=\"WS5\")[0].trim(t1,t2)\n",
    "romyt_w = st_f.copy().select(channel=\"WS9\")[0].trim(t1,t2)\n",
    "bromy_w = st_f.copy().select(channel=\"WS1\")[0].trim(t1,t2)\n",
    "\n",
    "tilt_n_theo = tilt_theo.copy().select(channel=\"*N\")[0].trim(t1, t2)\n",
    "tilt_e_theo = tilt_theo.copy().select(channel=\"*E\")[0].trim(t1, t2)\n",
    "\n",
    "factor = 1\n",
    "\n",
    "tromy_n_res = tromy_n_trace_lp.data - tilt_n_theo.data*factor\n",
    "romyt_n_res = romyt_n_trace_lp.data - tilt_n_theo.data*factor\n",
    "bromy_n_res = bromy_n_trace_lp.data - tilt_n_theo.data*factor\n",
    "\n",
    "tromy_e_res = tromy_e_trace_lp.data - tilt_e_theo.data*factor\n",
    "romyt_e_res = romyt_e_trace_lp.data - tilt_e_theo.data*factor\n",
    "bromy_e_res = bromy_e_trace_lp.data - tilt_e_theo.data*factor\n"
   ]
  },
  {
   "cell_type": "code",
   "execution_count": null,
   "id": "fcbcf989",
   "metadata": {
    "ExecuteTime": {
     "end_time": "2023-06-08T14:58:01.425800Z",
     "start_time": "2023-06-08T14:57:55.825Z"
    },
    "code_folding": [
     0
    ]
   },
   "outputs": [],
   "source": [
    "def __estimate_linear_trend(x_arr, y_arr, derive=None, smooth=None, relative=None, set_odr=None):\n",
    "    \n",
    "    '''\n",
    "    \n",
    "    >>> output = __estimate_linear_trend(x, y, derive=None, smooth=None, relative=None, odr=None)\n",
    "  \n",
    "    INPUT: \n",
    "        - x_array:       array: data for x-axis as numpy array\n",
    "        - y_array:       array: data for y-axis as numpy array \n",
    "        - derive:        bool: (if x is derived or not) \n",
    "        - smooth:        integer: degree of smoothing \n",
    "        - relative:      bool: relative to x[0]\n",
    "        - odr:           bool: select orthogonal distance regression (ODR) instead of linear regression\n",
    "\n",
    "        \n",
    "    OUTPUT:\n",
    "        - output:        dictionary with output values and information\n",
    "        \n",
    "    '''\n",
    "    \n",
    "    from scipy import odr\n",
    "    from scipy.stats import linregress\n",
    "    from numpy import gradient, power\n",
    "    \n",
    "    ## prepare output dictionary\n",
    "    output = {}\n",
    "    \n",
    "    if derive:\n",
    "        x_arr = gradient(x_arr, 2)\n",
    "        \n",
    "    if smooth:\n",
    "        x_arr = __smooth(x_arr, smooth)\n",
    "\n",
    "    if relative:\n",
    "        x_arr -= x_arr[1]\n",
    "        \n",
    "    ## compute linear regression of data\n",
    "    out = linregress(x_arr, y_arr)    \n",
    "    \n",
    "    ## extract to output\n",
    "    output['slope'] = out.slope\n",
    "    output['intercept'] = out.intercept  \n",
    "    \n",
    "\n",
    "    \n",
    "    ## use an orthogonal distance regression (odr) for trend estimate\n",
    "    if set_odr is not None:\n",
    "        \n",
    "        def f(B, x):\n",
    "            '''Linear function y = m*x + b'''\n",
    "            return B[0]*x + B[1]   \n",
    "        \n",
    "        s_x, s_y = 1, 1\n",
    "        print(f\" -> std x and y set to: {s_x} and {s_y}\")\n",
    "\n",
    "        beta_x, beta_y = 1e-8, 1e-8\n",
    "        print(f\" -> beta x and y set to: {beta_x} and {beta_y}\")\n",
    "\n",
    "        linear = odr.Model(f)\n",
    "        mydata = odr.Data(x_arr, y_arr, wd=1./power(s_x,2), we=1./power(s_y,2))\n",
    "        myodr = odr.ODR(mydata, linear, beta0=[beta_x, beta_y])\n",
    "        myoutput = myodr.run()\n",
    "    \n",
    "        ## extract to output        \n",
    "        output['slope'] = myoutput.beta[0]\n",
    "        output['intercept'] = myoutput.beta[1]\n",
    "    \n",
    "    \n",
    "    return output"
   ]
  },
  {
   "cell_type": "code",
   "execution_count": null,
   "id": "5313cf32",
   "metadata": {
    "ExecuteTime": {
     "end_time": "2023-06-08T14:58:01.426393Z",
     "start_time": "2023-06-08T14:57:55.827Z"
    },
    "code_folding": [
     0,
     4
    ]
   },
   "outputs": [],
   "source": [
    "def __makeplot_tilt_pressure(n_trace_lp, n_res, e_trace_lp, e_res, w):\n",
    "\n",
    "    from numpy import roll\n",
    "\n",
    "    def __add_colorbar(mappable):\n",
    "        from mpl_toolkits.axes_grid1 import make_axes_locatable\n",
    "        from matplotlib import colors, ticker\n",
    "\n",
    "        last_axes = plt.gca()\n",
    "        ax = mappable.axes\n",
    "        fig = ax.figure\n",
    "        divider = make_axes_locatable(ax)\n",
    "        cax = divider.append_axes(\"right\", size=\"5%\", pad=0.05)\n",
    "        cbar = fig.colorbar(mappable, cax=cax)\n",
    "        cbar.set_label(\"Time (days)\", fontsize=font-1, labelpad=-40, color=\"white\")\n",
    "        cbar.ax.xaxis.set_major_formatter(ticker.ScalarFormatter())        \n",
    "        plt.sca(last_axes)\n",
    "        return cbar\n",
    "\n",
    "\n",
    "\n",
    "    time_scaling, time_unit = 86400, \"days\"\n",
    "    tilt_scaling, tilt_unit = 1e6, r\"$\\mu$rad\"\n",
    "\n",
    "    font = 14\n",
    "    \n",
    "    \n",
    "    ## comput linear trends\n",
    "    trend_n = __estimate_linear_trend(w.data, n_res, derive=None, smooth=None, relative=None, set_odr=None)\n",
    "    trend_e = __estimate_linear_trend(w.data, e_res, derive=None, smooth=None, relative=None, set_odr=None)\n",
    "    \n",
    "    trend_n_slope = f\"{round(trend_n.get('slope')*1e9, 1)} nrad/hPa\"\n",
    "    trend_e_slope = f\"{round(trend_e.get('slope')*1e9, 1)} nrad/hPa\"\n",
    "    \n",
    "    ## ----------------\n",
    "\n",
    "    fig, ax = plt.subplots(4,1, figsize=(15,10))\n",
    "\n",
    "    plt.subplots_adjust(hspace=0.4)\n",
    "\n",
    "    \n",
    "    ## ----\n",
    "\n",
    "    ax[0].plot(n_trace_lp.times()/time_scaling, n_res*tilt_scaling, zorder=2)\n",
    "    ax[0].plot(n_trace_lp.times()/time_scaling, n_trace_lp.data*tilt_scaling, color=\"grey\", zorder=1, alpha=0.5)\n",
    "\n",
    "    shift = 0\n",
    "\n",
    "    ## make second axis for pressure\n",
    "    ax1_1 = ax[0].twinx()\n",
    "    ax1_1.plot(w.times()/time_scaling, roll(w.data,shift), \"k\")\n",
    "    \n",
    "    ## scatter plot pressure vs. tilt\n",
    "    cb1 = ax[1].scatter(roll(w.data,shift), n_res*tilt_scaling, s=2, c=w.times()/time_scaling)\n",
    "  \n",
    "    ## plot regression\n",
    "    regression_n = (trend_n.get('intercept')+ trend_n.get('slope')*w.data)*tilt_scaling\n",
    "#     ax[1].plot(w.data, regression_n, color='k', ls=':', label=trend_n_slope)\n",
    "    \n",
    "    corrected_n = (n_res-trend_n.get('slope')*w.data)*tilt_scaling\n",
    "    ax[0].plot(n_trace_lp.times()/time_scaling, corrected_n, color=\"r\", zorder=3, alpha=0.5)   \n",
    "\n",
    "\n",
    "    ## ----\n",
    "    \n",
    "    ax[2].plot(e_trace_lp.times()/time_scaling, e_res*tilt_scaling, zorder=2)\n",
    "    ax[2].plot(e_trace_lp.times()/time_scaling, e_trace_lp.data*tilt_scaling, color=\"grey\", zorder=1, alpha=0.5)\n",
    "\n",
    "    ## make second axis for pressure\n",
    "    ax2_1 = ax[2].twinx()\n",
    "    ax2_1.plot(w.times()/time_scaling, roll(w.data, shift), \"k\")\n",
    "\n",
    "    ## scatter plot pressure vs. tilt\n",
    "    cb2 = ax[3].scatter(roll(w.data,shift), e_res*tilt_scaling, s=2, c=w.times()/time_scaling)\n",
    "    \n",
    "    ## plot regression    \n",
    "    regression_e = (trend_e.get('intercept')+ trend_e.get('slope')*w.data)*tilt_scaling\n",
    "#     ax[3].plot(w.data, regression_e, color='k', ls=':', label=trend_e_slope)\n",
    "    \n",
    "    corrected_e = (e_res-trend_e.get('slope')*w.data)*tilt_scaling\n",
    "    ax[2].plot(e_trace_lp.times()/time_scaling, corrected_e, color=\"r\", zorder=3, alpha=0.5)\n",
    "    \n",
    "    \n",
    "    ## ----\n",
    "    \n",
    "    cbar1 = __add_colorbar(cb1)\n",
    "    cbar2 = __add_colorbar(cb2)\n",
    "\n",
    "    ax[1].legend(loc=2)\n",
    "    ax[3].legend(loc=2)\n",
    "    \n",
    "    ax[0].set_ylabel(f\"Tilt N-S ({tilt_unit})\", fontsize=font)\n",
    "    ax1_1.set_ylabel(f\"Pressure (hPa)\", fontsize=font)\n",
    "    ax[0].set_xlabel(f\"Time ({time_unit})\", fontsize=font, labelpad=-0)\n",
    "    ax[1].set_ylabel(f\"Tilt N-S ({tilt_unit})\", fontsize=font)\n",
    "    ax[2].set_ylabel(f\"Tilt E-W ({tilt_unit})\", fontsize=font)\n",
    "    ax[1].set_xlabel(f\"Pressure (hPa)\", fontsize=font, labelpad=-0)\n",
    "    ax2_1.set_ylabel(f\"Pressure (hPa)\", fontsize=font)\n",
    "    ax[2].set_xlabel(f\"Time ({time_unit})\", fontsize=font, labelpad=-0)\n",
    "    ax[3].set_ylabel(f\"Tilt E-W ({tilt_unit})\", fontsize=font)\n",
    "    ax[3].set_xlabel(f\"Pressure (hPa)\", fontsize=font, labelpad=-0)\n",
    "\n",
    "    plt.show();\n",
    "    return fig"
   ]
  },
  {
   "cell_type": "code",
   "execution_count": null,
   "id": "4fd761c5",
   "metadata": {
    "ExecuteTime": {
     "end_time": "2023-06-08T14:58:01.426935Z",
     "start_time": "2023-06-08T14:57:55.829Z"
    },
    "code_folding": [
     0
    ]
   },
   "outputs": [],
   "source": [
    "fig = __makeplot_tilt_pressure(tromy_n_trace_lp, tromy_n_res, tromy_e_trace_lp, tromy_e_res, tromy_w);\n",
    "# __savefig(fig, outpath=config['output_figures'], outname=\"Tilt_TROMY_EarthTides_TempCorrect_Pressure\", mode=\"png\", dpi=None)"
   ]
  },
  {
   "cell_type": "code",
   "execution_count": null,
   "id": "4e568455",
   "metadata": {
    "ExecuteTime": {
     "end_time": "2023-06-08T14:58:01.427406Z",
     "start_time": "2023-06-08T14:57:55.831Z"
    }
   },
   "outputs": [],
   "source": [
    "fig = __makeplot_tilt_pressure(romyt_n_trace_lp, romyt_n_res, romyt_e_trace_lp, romyt_e_res, romyt_w);\n",
    "# __savefig(fig, outpath=config['output_figures'], outname=\"Tilt_ROMYT_EarthTides_TempCorrect_Pressure\", mode=\"png\", dpi=None);"
   ]
  },
  {
   "cell_type": "code",
   "execution_count": null,
   "id": "9ba8df29",
   "metadata": {
    "ExecuteTime": {
     "end_time": "2023-06-08T14:58:01.427987Z",
     "start_time": "2023-06-08T14:57:55.832Z"
    }
   },
   "outputs": [],
   "source": [
    "fig = __makeplot_tilt_pressure(bromy_n_trace_lp, bromy_n_res, bromy_e_trace_lp, bromy_e_res, bromy_w);\n",
    "# __savefig(fig, outpath=config['output_figures'], outname=\"Tilt_BROMY_EarthTides_TempCorrect_Pressure\", mode=\"png\", dpi=None);"
   ]
  },
  {
   "cell_type": "code",
   "execution_count": null,
   "id": "81e25085",
   "metadata": {},
   "outputs": [],
   "source": []
  },
  {
   "cell_type": "code",
   "execution_count": null,
   "id": "d6fdcb56",
   "metadata": {},
   "outputs": [],
   "source": []
  },
  {
   "cell_type": "code",
   "execution_count": null,
   "id": "7ab55a6e",
   "metadata": {
    "ExecuteTime": {
     "end_time": "2023-06-08T14:58:01.428505Z",
     "start_time": "2023-06-08T14:57:55.837Z"
    }
   },
   "outputs": [],
   "source": [
    "# from andbro__crosscorrelation import __crosscorrelation\n",
    "\n",
    "# y1 = (tromy_w.data)/max(tromy_w.data)\n",
    "# y2 = tromy_n_res/max(tromy_n_res)\n",
    "\n",
    "# # __crosscorrelation(y1, y2, deltaT=600)"
   ]
  },
  {
   "cell_type": "code",
   "execution_count": null,
   "id": "7416e27f",
   "metadata": {
    "ExecuteTime": {
     "end_time": "2023-06-08T14:58:01.429065Z",
     "start_time": "2023-06-08T14:57:55.839Z"
    },
    "code_folding": [
     0
    ]
   },
   "outputs": [],
   "source": [
    "def __makeplotStreamPSD(config, st, st2=None):\n",
    "\n",
    "    from scipy import fftpack\n",
    "    from numpy import log10, median\n",
    "    from scipy.signal import welch, periodogram, hann\n",
    "\n",
    "    \n",
    "    nblock =  1028\n",
    "    overlap = None\n",
    "    win = hann(nblock, True)\n",
    "\n",
    "    NN = len(st)\n",
    "    \n",
    "    fig, axes = plt.subplots(NN,2,figsize=(15,15), sharex='col')\n",
    "\n",
    "    plt.subplots_adjust(hspace=0.3)\n",
    "\n",
    "    ## _______________________________________________\n",
    "\n",
    "    st.sort(keys=['station','channel'], reverse=True)\n",
    "    \n",
    "    for i, tr in enumerate(st):\n",
    "\n",
    "#         ff, Pxx = welch(tr.data, \n",
    "#                         fs=tr.stats.sampling_rate, \n",
    "#                         window=win, \n",
    "#                         noverlap=overlap, \n",
    "#                         nfft=nblock,\n",
    "#                         scaling=\"density\",\n",
    "#                         return_onesided=True,\n",
    "#                        )\n",
    "        ff, Pxx = periodogram(tr.data, \n",
    "                              fs=tr.stats.sampling_rate, \n",
    "                              window=None,\n",
    "                              scaling=\"density\",\n",
    "                              return_onesided=True,\n",
    "                             )\n",
    "        \n",
    "        if st2 is not None:\n",
    "            ff2, Pxx2 = welch(st2[i].data, \n",
    "                              fs=st2[i].stats.sampling_rate, \n",
    "                              window=win,\n",
    "                              noverlap=overlap, \n",
    "                              nfft=nblock,\n",
    "                              scaling=\"density\", \n",
    "                              return_onesided=True,\n",
    "                             )\n",
    "        \n",
    "        ## _________________________________________________________________\n",
    "        axes[i,0].plot(\n",
    "                    tr.times()/86400,\n",
    "                    tr.data*1e6,\n",
    "                    color='black',\n",
    "                    label='{} {}'.format(tr.stats.station, tr.stats.channel),\n",
    "                    lw=1.0,\n",
    "                    )\n",
    "\n",
    "\n",
    "        ## _________________________________________________________________\n",
    "#         axes[i,1].loglog(ff, Pxx, color='black', lw=1.0,)\n",
    "        axes[i,1].semilogx(ff, Pxx, color='black', lw=1.0,)\n",
    "        \n",
    "        if st2 is not None:\n",
    "#             axes[i,1].loglog(ff2, Pxx2, color='red', lw=1.0,)       \n",
    "            axes[i,1].semilogx(ff2, Pxx2, color='red', lw=1.0,)       \n",
    "        \n",
    "        \n",
    "        axes[i,1].vlines(1/86400,min(Pxx[:]), max(Pxx[:]), color=\"darkgrey\", alpha=1.0, zorder=0)\n",
    "        axes[i,1].vlines(2/86400,min(Pxx[:]), max(Pxx[:]), color=\"darkgrey\", alpha=1.0, zorder=0)\n",
    "        \n",
    "        axes[NN-1,0].set_xlabel(\"Time (days)\")\n",
    "        axes[NN-1,1].set_xlabel(\"Frequency (Hz)\")\n",
    "        \n",
    "        axes[i,1].set_ylim(min(Pxx[:]), max(Pxx[:]))\n",
    "        \n",
    "        axes[i,0].set_ylabel(r'$\\Omega$ ($\\mu$rad)')    \n",
    "        axes[i,1].set_ylabel(r'PSD (rad$^2$/Hz)')        \n",
    "        axes[i,0].legend(loc='upper left',bbox_to_anchor=(0.8, 1.10), framealpha=1.0)\n",
    "        \n",
    "#         axes[i,0].ticklabel_format(axis='y', style='sci', scilimits=(0,0))\n",
    "#         axes[i,1].ticklabel_format(axis='y', style='sci', scilimits=(0,0))\n",
    "\n",
    "#         axes[i,1].set_xlim(3e-6,1e-4)\n",
    "        axes[i,1].set_xlim(1e-5,5e-5)\n",
    "        \n",
    "        axes[0,1].set_ylim(0, 2e6)\n",
    "        axes[3,1].set_ylim(0, 2e6)\n",
    "        axes[6,1].set_ylim(0, 2e6)\n",
    "        \n",
    "        axes[1,1].set_ylim(0, 5e-9)\n",
    "        axes[2,1].set_ylim(0, 5e-8)\n",
    "        axes[4,1].set_ylim(0, 3e-8)\n",
    "        axes[5,1].set_ylim(0, 1e-8)\n",
    "        axes[7,1].set_ylim(0, 9e-8)\n",
    "        axes[8,1].set_ylim(0, 9e-8)\n",
    "        \n",
    "    return fig"
   ]
  },
  {
   "cell_type": "code",
   "execution_count": null,
   "id": "0f3051ea",
   "metadata": {
    "ExecuteTime": {
     "end_time": "2023-06-08T14:58:01.429593Z",
     "start_time": "2023-06-08T14:57:55.840Z"
    }
   },
   "outputs": [],
   "source": [
    "fig = __makeplotStreamPSD(config, st_f, st2=None);"
   ]
  },
  {
   "cell_type": "markdown",
   "id": "500226e3",
   "metadata": {
    "ExecuteTime": {
     "end_time": "2022-09-14T17:35:59.269231Z",
     "start_time": "2022-09-14T17:35:59.266192Z"
    }
   },
   "source": [
    "## Compare with PSD"
   ]
  },
  {
   "cell_type": "markdown",
   "id": "ca48e58d",
   "metadata": {
    "ExecuteTime": {
     "end_time": "2022-09-14T17:36:16.190374Z",
     "start_time": "2022-09-14T17:36:16.185108Z"
    }
   },
   "source": [
    "Check if earth tides are visible"
   ]
  },
  {
   "cell_type": "code",
   "execution_count": null,
   "id": "22467f95",
   "metadata": {
    "ExecuteTime": {
     "end_time": "2023-06-08T14:58:01.430169Z",
     "start_time": "2023-06-08T14:57:55.843Z"
    },
    "code_folding": [
     0
    ]
   },
   "outputs": [],
   "source": [
    "def __makeplotStreamPSD(config, st, st2=None):\n",
    "\n",
    "    from scipy import fftpack\n",
    "    from numpy import log10, median\n",
    "    from scipy.signal import welch, periodogram, hann\n",
    "\n",
    "\n",
    "    nblock =  4096\n",
    "    overlap = None\n",
    "    win = hann(nblock, True)\n",
    "\n",
    "    NN = len(st)\n",
    "    \n",
    "    fig, axes = plt.subplots(NN,2,figsize=(15,10), sharex='col')\n",
    "\n",
    "    plt.subplots_adjust(hspace=0.3)\n",
    "\n",
    "    ## _______________________________________________\n",
    "\n",
    "    st.sort(keys=['channel'], reverse=True)\n",
    "    \n",
    "    for i, tr in enumerate(st):\n",
    "\n",
    "        ff, Pxx = welch(tr.data, \n",
    "                        fs=tr.stats.sampling_rate, \n",
    "                        window=win, \n",
    "                        noverlap=overlap, \n",
    "                        nfft=nblock,\n",
    "                        scaling=\"density\",\n",
    "                        return_onesided=True,\n",
    "                       )\n",
    "#         ff, Pxx = periodogram(tr.data, \n",
    "#                               fs=tr.stats.sampling_rate, \n",
    "#                               window=win,\n",
    "#                               scaling=\"density\",\n",
    "#                               return_onesided=True,\n",
    "#                              )\n",
    "        \n",
    "        if st2 is not None:\n",
    "            ff2, Pxx2 = welch(st2[i].data, \n",
    "                              fs=st2[i].stats.sampling_rate, \n",
    "                              window=win,\n",
    "                              noverlap=overlap, \n",
    "                              nfft=nblock,\n",
    "                              scaling=\"density\", \n",
    "                              return_onesided=True,\n",
    "                             )\n",
    "        \n",
    "        ## _________________________________________________________________\n",
    "        axes[i,0].plot(\n",
    "                    tr.times()/86400,\n",
    "                    tr.data*1e6,\n",
    "                    color='black',\n",
    "                    label='{} {}'.format(tr.stats.station, tr.stats.channel),\n",
    "                    lw=1.0,\n",
    "                    )\n",
    "\n",
    "\n",
    "        ## _________________________________________________________________\n",
    "        axes[i,1].loglog(ff, Pxx, color='black', lw=1.0,)\n",
    "        \n",
    "        if st2 is not None:\n",
    "            axes[i,1].loglog(ff2, Pxx2, color='red', lw=1.0,)       \n",
    "        \n",
    "        \n",
    "        axes[i,1].vlines(1/86400,min(Pxx[:]), max(Pxx[:]), color=\"darkgrey\", alpha=1.0, zorder=0)\n",
    "        axes[i,1].vlines(2/86400,min(Pxx[:]), max(Pxx[:]), color=\"darkgrey\", alpha=1.0, zorder=0)\n",
    "        \n",
    "        axes[NN-1,0].set_xlabel(\"Time (days)\")\n",
    "        axes[NN-1,1].set_xlabel(\"Frequency (Hz)\")\n",
    "        \n",
    "        axes[i,1].set_ylim(min(Pxx[:]), max(Pxx[:]))\n",
    "        \n",
    "        axes[i,0].set_ylabel(r'$\\Omega$ ($\\mu$rad)')    \n",
    "        axes[i,1].set_ylabel(r'PSD (rad$^2$/Hz)')        \n",
    "        axes[i,0].legend(loc='upper left',bbox_to_anchor=(0.8, 1.10), framealpha=1.0)\n",
    "#         axes[i,0].ticklabel_format(axis='y', style='sci', scilimits=(0,0))\n",
    "#         axes[i,1].ticklabel_format(axis='y', style='sci', scilimits=(0,0))\n",
    "        axes[i,1].set_xlim(1e-6,1e-3)\n",
    "\n",
    "    return fig"
   ]
  },
  {
   "cell_type": "code",
   "execution_count": null,
   "id": "84e3370d",
   "metadata": {
    "ExecuteTime": {
     "end_time": "2023-06-08T14:58:01.430646Z",
     "start_time": "2023-06-08T14:57:55.844Z"
    }
   },
   "outputs": [],
   "source": [
    "fig = __makeplotStreamPSD(config, st_all, st2=None);"
   ]
  },
  {
   "cell_type": "code",
   "execution_count": null,
   "id": "6ef53f93",
   "metadata": {
    "ExecuteTime": {
     "end_time": "2023-06-08T14:58:01.431202Z",
     "start_time": "2023-06-08T14:57:55.847Z"
    }
   },
   "outputs": [],
   "source": [
    "# __savefig(fig, outpath=config['output_figures'], outname=\"Tilt_ALL_EarthTides_PSD\", mode=\"png\", dpi=None)"
   ]
  },
  {
   "cell_type": "code",
   "execution_count": null,
   "id": "75be2728",
   "metadata": {
    "ExecuteTime": {
     "end_time": "2023-06-08T14:58:01.431837Z",
     "start_time": "2023-06-08T14:57:55.847Z"
    },
    "code_folding": [
     0
    ]
   },
   "outputs": [],
   "source": [
    "def __makeplotStreamSpectra(st, config):\n",
    "\n",
    "    from scipy import fftpack\n",
    "    from numpy import abs\n",
    "\n",
    "    NN = len(st)\n",
    "\n",
    "    fig, axes = plt.subplots(NN,2,figsize=(15,10), sharex='col')\n",
    "\n",
    "    plt.subplots_adjust(hspace=0.3)\n",
    "\n",
    "    ## _______________________________________________\n",
    "\n",
    "    st.sort(keys=['channel'], reverse=True)\n",
    "    \n",
    "    for i, tr in enumerate(st):\n",
    "\n",
    "        comp_fft = abs(fftpack.fft(tr.data))\n",
    "        ff       = fftpack.fftfreq(comp_fft.size, d=1/tr.stats.sampling_rate)\n",
    "        comp_fft = fftpack.fftshift(comp_fft)\n",
    "\n",
    "\n",
    "        ## _________________________________________________________________\n",
    "        axes[i,0].plot(\n",
    "                    tr.times()/86400,\n",
    "                    tr.data*1e6,\n",
    "                    color='black',\n",
    "                    label='{} {}'.format(tr.stats.station, tr.stats.channel),\n",
    "                    lw=1.0,\n",
    "                    )\n",
    "\n",
    "\n",
    "        ## _________________________________________________________________\n",
    "        fxx = abs(fftpack.fft(tr.data)[1:len(ff)//2])\n",
    "        axes[i,1].loglog(\n",
    "                    ff[1:len(ff)//2],\n",
    "                    fxx,\n",
    "                    color='black',\n",
    "                    lw=1.0,\n",
    "                    )\n",
    "        \n",
    "        axes[i,1].vlines(1/86400,min(fxx[:]), max(fxx[:]), color=\"darkgrey\", alpha=1.0, zorder=0)\n",
    "        axes[i,1].vlines(2/86400,min(fxx[:]), max(fxx[:]), color=\"darkgrey\", alpha=1.0, zorder=0)\n",
    "        \n",
    "        axes[NN-1,0].set_xlabel(\"Time (days)\")\n",
    "        axes[NN-1,1].set_xlabel(\"Frequency (Hz)\")\n",
    "                      \n",
    "        axes[i,0].set_ylabel(r'$\\Omega$ ($\\mu$rad)')    \n",
    "        axes[i,1].set_ylabel(r'ASD (rad/Hz)')        \n",
    "        axes[i,0].legend(loc='upper left',bbox_to_anchor=(0.8, 1.10), framealpha=1.0)\n",
    "#         axes[i,0].ticklabel_format(axis='y', style='sci', scilimits=(0,0))\n",
    "#         axes[i,1].ticklabel_format(axis='y', style='sci', scilimits=(0,0))\n",
    "#         axes[i,1].set_xlim(1e-7,0.25)\n",
    "#         axes[i,1].set_ylim(1e-12,1e-9)\n",
    "\n",
    "    return fig"
   ]
  },
  {
   "cell_type": "code",
   "execution_count": null,
   "id": "69b771f5",
   "metadata": {
    "ExecuteTime": {
     "end_time": "2023-06-08T14:58:01.432386Z",
     "start_time": "2023-06-08T14:57:55.850Z"
    }
   },
   "outputs": [],
   "source": [
    "fig = __makeplotStreamSpectra(st_all, config);"
   ]
  },
  {
   "cell_type": "code",
   "execution_count": null,
   "id": "05dfea26",
   "metadata": {
    "ExecuteTime": {
     "end_time": "2022-11-03T12:44:29.953864Z",
     "start_time": "2022-11-03T12:44:29.803957Z"
    }
   },
   "outputs": [],
   "source": []
  },
  {
   "cell_type": "code",
   "execution_count": null,
   "id": "0c809deb",
   "metadata": {},
   "outputs": [],
   "source": []
  }
 ],
 "metadata": {
  "kernelspec": {
   "display_name": "Python 3",
   "language": "python",
   "name": "python3"
  },
  "language_info": {
   "codemirror_mode": {
    "name": "ipython",
    "version": 3
   },
   "file_extension": ".py",
   "mimetype": "text/x-python",
   "name": "python",
   "nbconvert_exporter": "python",
   "pygments_lexer": "ipython3",
   "version": "3.7.7"
  },
  "latex_envs": {
   "LaTeX_envs_menu_present": true,
   "autoclose": false,
   "autocomplete": true,
   "bibliofile": "biblio.bib",
   "cite_by": "apalike",
   "current_citInitial": 1,
   "eqLabelWithNumbers": true,
   "eqNumInitial": 1,
   "hotkeys": {
    "equation": "Ctrl-E",
    "itemize": "Ctrl-I"
   },
   "labels_anchors": false,
   "latex_user_defs": false,
   "report_style_numbering": false,
   "user_envs_cfg": false
  },
  "toc": {
   "base_numbering": 1,
   "nav_menu": {},
   "number_sections": true,
   "sideBar": true,
   "skip_h1_title": false,
   "title_cell": "Table of Contents",
   "title_sidebar": "Contents",
   "toc_cell": false,
   "toc_position": {},
   "toc_section_display": true,
   "toc_window_display": false
  }
 },
 "nbformat": 4,
 "nbformat_minor": 5
}
