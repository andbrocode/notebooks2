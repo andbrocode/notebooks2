{
 "cells": [
  {
   "cell_type": "markdown",
   "id": "a5cd185a",
   "metadata": {},
   "source": [
    "# Tiltmeter - Calibration - Test Run 4"
   ]
  },
  {
   "cell_type": "markdown",
   "id": "26aa0b70",
   "metadata": {},
   "source": [
    "### Libraries"
   ]
  },
  {
   "cell_type": "code",
   "execution_count": 1,
   "id": "869eb4ed",
   "metadata": {
    "ExecuteTime": {
     "end_time": "2022-10-27T13:26:55.065084Z",
     "start_time": "2022-10-27T13:26:52.478949Z"
    }
   },
   "outputs": [],
   "source": [
    "from andbro__querrySeismoData import __querrySeismoData\n",
    "from andbro__readYaml import __readYaml\n",
    "from andbro__get_seconds import __get_seconds\n",
    "from andbro__calculate_polynomial_fit import __calculate_polynomial_fit\n",
    "from andbro__calculate_linear_regression import __calculate_linear_regression\n",
    "\n",
    "from scipy import signal\n",
    "from obspy import UTCDateTime, read, Stream, Trace\n",
    "\n",
    "\n",
    "import pandas as pd\n",
    "import numpy as np\n",
    "import matplotlib.pyplot as plt\n",
    "import scipy.optimize"
   ]
  },
  {
   "cell_type": "markdown",
   "id": "eee82b03",
   "metadata": {},
   "source": [
    "### Methods"
   ]
  },
  {
   "cell_type": "code",
   "execution_count": 2,
   "id": "0f651621",
   "metadata": {
    "ExecuteTime": {
     "end_time": "2022-10-27T13:26:55.069970Z",
     "start_time": "2022-10-27T13:26:55.066342Z"
    },
    "code_folding": [
     0
    ]
   },
   "outputs": [],
   "source": [
    "def __removeLinearTrend(data):\n",
    "\n",
    "    for i in range(2):\n",
    "        N = data[i].stats.npts\n",
    "        m = (data[i].data[-1] - data[i].data[0]) / (data[i].stats.delta * N)\n",
    "        data[i].data = data[i].data - np.arange(0, N) * m\n",
    "    return data"
   ]
  },
  {
   "cell_type": "code",
   "execution_count": 3,
   "id": "dc2cc123",
   "metadata": {
    "ExecuteTime": {
     "end_time": "2022-10-27T13:26:55.116128Z",
     "start_time": "2022-10-27T13:26:55.071608Z"
    },
    "code_folding": [
     0
    ]
   },
   "outputs": [],
   "source": [
    "def __remove_nan_values(st):\n",
    "    idx = []\n",
    "    [idx.append(i) for i, value in enumerate(st[0].data) if not np.isnan(value)]\n",
    "    st[0].data  = np.array([st[0].data[j] for j in idx])\n",
    "    st[1].data  = np.array([st[1].data[j] for j in idx])\n",
    "    st[2].data  = np.array([st[2].data[j] for j in idx])\n",
    "    \n",
    "    return st"
   ]
  },
  {
   "cell_type": "code",
   "execution_count": 4,
   "id": "ed95efdd",
   "metadata": {
    "ExecuteTime": {
     "end_time": "2022-10-27T13:26:55.132745Z",
     "start_time": "2022-10-27T13:26:55.117469Z"
    },
    "code_folding": [
     0
    ]
   },
   "outputs": [],
   "source": [
    "def __smooth(y, box_pts):\n",
    "    box = np.ones(box_pts)/box_pts\n",
    "    y_smooth = np.convolve(y, box, mode='same')\n",
    "    return y_smooth"
   ]
  },
  {
   "cell_type": "code",
   "execution_count": 5,
   "id": "eadb3b00",
   "metadata": {
    "ExecuteTime": {
     "end_time": "2022-10-27T13:26:55.195522Z",
     "start_time": "2022-10-27T13:26:55.133740Z"
    },
    "code_folding": [
     0
    ]
   },
   "outputs": [],
   "source": [
    "def __makeplot_calibration(st, slopes=None, intercepts=None, tf=None, setT=None, derive=None, poly=None, smooth=None, coeff=None):\n",
    "    \n",
    "    if derive:\n",
    "        x_temp = np.gradient(st[2].data, 2)\n",
    "    else:\n",
    "        x_temp = st[2].data     \n",
    "          \n",
    "    if smooth:\n",
    "        x_temp = __smooth(x_temp, smooth)\n",
    "\n",
    "    ## adjust time axis\n",
    "    diff = 86400\n",
    "    \n",
    "    \n",
    "    fig, ax = plt.subplots(3, 2, figsize=(15,10))\n",
    "\n",
    "    plt.subplots_adjust(hspace=0.3)\n",
    "    \n",
    "    ax[0][0].plot(st[0].times()/diff, st[2].data, label=\"Temp\")\n",
    "    ax[0][1].plot(st[0].times()/diff, st[2].data, label=\"Temp\")\n",
    "    \n",
    "    \n",
    "    if tf is not None:\n",
    "        if str(type(tf)) == \"<class 'pandas.core.frame.DataFrame'>\":\n",
    "            ax[0][0].plot(tf['Seconds']/diff, tf['Temperature (°C)'])\n",
    "            ax[0][1].plot(tf['Seconds']/diff, tf['Temperature (°C)'])\n",
    "\n",
    "        if str(type(tf)) == \"<class 'obspy.core.stream.Stream'>\":\n",
    "            ax[0][0].plot(tf[0].times()/diff, tf[0].data)\n",
    "            ax[0][1].plot(tf[0].times()/diff, tf[0].data)\n",
    "    \n",
    "    if setT is not None:  \n",
    "        \n",
    "        ax[0][0].plot(setT['Seconds']/diff, setT['Temperature'])\n",
    "\n",
    "        \n",
    "    if derive:\n",
    "        axes1 = ax[0][0].twinx()\n",
    "        axes1.plot(st[0].times()/diff, x_temp, 'g', label=\"dT/dt\")\n",
    "    \n",
    "        axes2 = ax[0][1].twinx()\n",
    "        axes2.plot(st[0].times()/diff, x_temp, 'g', label=\"dT/dt\")\n",
    "    \n",
    "    \n",
    "    for i in range(2):\n",
    "        \n",
    "        ax[1][i].plot(x_temp, st[i].data, 'k.', ms=0.2)\n",
    "\n",
    "        if not poly:        \n",
    "            ax[1][i].plot(x_temp, slopes[i]*x_temp + intercepts[i], 'r', label=f\"{slopes[i]:.2e}*x\")\n",
    "#             ax[1][i].plot(x_temp, slopes[i]*x_temp, 'r', label=f\"{slopes[i]:.2e}*x\")\n",
    "            \n",
    "            correction = slopes[i] * x_temp + intercepts[i]\n",
    "#             correction = slopes[i] * x_temp\n",
    "            \n",
    "            ax[2][i].plot(st[i].times()/diff, st[i].data - correction, label=\"corrected\", zorder=2)\n",
    "            ax[2][i].plot(st[i].times()/diff, st[i].data, color='grey', alpha=0.5, label=\"observed\")\n",
    "\n",
    "        else: \n",
    "            ax[1][i].plot(x_temp, ffit[i], 'r')\n",
    "            ax[2][i].plot(st[i].times()/diff, st[i].data - poly[i], label=\"corrected\", zorder=2)\n",
    "            ax[2][i].plot(st[i].times()/diff, st[i].data - coeff[i][0], color='grey', alpha=0.5, label=\"observed\")\n",
    "            \n",
    "    \n",
    "    if derive:\n",
    "        ax[1][0].set_xlabel(\"Derivative of Temperature (°C)\")\n",
    "        ax[1][1].set_xlabel(\"Derivative of Temperature (°C)\")\n",
    "    else:\n",
    "        ax[1][0].set_xlabel(\"Temperature (°C)\")\n",
    "        ax[1][1].set_xlabel(\"Temperature (°C)\")\n",
    "\n",
    "    ax[0][0].set_title(\"Component 1\")\n",
    "    ax[0][1].set_title(\"Component 2\")             \n",
    "\n",
    "    ax[0][0].set_xlabel(\"Time (days)\")\n",
    "    ax[0][1].set_xlabel(\"Time (days)\")\n",
    "    \n",
    "    ax[2][0].set_xlabel(\"Time (days)\")\n",
    "    ax[2][1].set_xlabel(\"Time (days)\")\n",
    "    \n",
    "    ax[0][0].set_ylabel(\"Temperature (°C)\")\n",
    "    \n",
    "    ax[1][0].set_ylabel(\"Tilt (rad)\")\n",
    "    ax[2][0].set_ylabel(\"Tilt (rad)\")\n",
    "\n",
    "    \n",
    "    ax[0][1].legend()\n",
    "    ax[0][0].legend()\n",
    "    ax[1][0].legend()\n",
    "    ax[1][1].legend()\n",
    "    ax[2][0].legend()\n",
    "   \n",
    "    if derive:\n",
    "        axes1.legend()\n",
    "        axes2.legend()\n",
    "        axes2.set_ylabel(\"dT/dt \")\n",
    "    \n",
    "    plt.plot();\n",
    "    return fig"
   ]
  },
  {
   "cell_type": "code",
   "execution_count": 6,
   "id": "cb532b89",
   "metadata": {
    "ExecuteTime": {
     "end_time": "2022-10-27T13:26:55.215451Z",
     "start_time": "2022-10-27T13:26:55.196518Z"
    },
    "code_folding": [
     0
    ]
   },
   "outputs": [],
   "source": [
    "def __calculate_polynomial_fit(x_array, y_array, order_of_fit=2, gradient=False, smoothing=False, cc_shift=False):\n",
    "    '''\n",
    "    __calculate_polynomial_fit(x_array, y_array, order_of_fit=2, gradient=False, smoothing=False, cc_shift=False)\n",
    "    \n",
    "    INPUT: \n",
    "        - x_array:       data for x-axis as numpy array\n",
    "        - y_array:       data for y-axis as numpy array\n",
    "        - order_of_fit:  highest order of polynom\n",
    "        - gradient:      bool\n",
    "        - smoothing:     value of smoothing+\n",
    "        - cc_shift:      cross-correlation lag \n",
    "    OUTPUT:\n",
    "        - output directory\n",
    "    '''\n",
    "    \n",
    "    import numpy.polynomial.polynomial as poly\n",
    "    from numpy import gradient\n",
    "    \n",
    "    output = {}\n",
    "    output['gradient'] = gradient\n",
    "    output['order_of_fit'] = order_of_fit\n",
    "    output['smoothing'] = smoothing\n",
    "    \n",
    "    ## apply time shift according to crosscorrelation lag\n",
    "    if cc_shift:\n",
    "        y_array = roll(y_array, -cc_shift)\n",
    "    \n",
    "    ## calcuate gradient, if selected\n",
    "    if gradient:\n",
    "        x_array = gradient(x_array, 2)\n",
    "        \n",
    "    ## smoothing gradient\n",
    "    if smoothing:\n",
    "        x_array = __smooth(x_array,  smoothing)\n",
    "\n",
    "    ## get poly coefficients\n",
    "    output['coefficients'] = poly.polyfit(x_array, y_array, order_of_fit)\n",
    "\n",
    "    ## calulate polynomial function\n",
    "    output['fit'] = poly.polyval(x_array, output['coefficients'])\n",
    "\n",
    "    return output"
   ]
  },
  {
   "cell_type": "code",
   "execution_count": 7,
   "id": "2a9a53eb",
   "metadata": {
    "ExecuteTime": {
     "end_time": "2022-10-27T13:26:55.241018Z",
     "start_time": "2022-10-27T13:26:55.216460Z"
    },
    "code_folding": [
     0
    ]
   },
   "outputs": [],
   "source": [
    "def __calculate_linear_regression(x_array, y_array, odr_mode=None, odr_std=[None, None], derive=None, smoothing=None, cc_shift=None):\n",
    "    '''\n",
    "    __calculate_linear_regression(x_array, y_array, odr=None, odr_std=[None, None] derive=None, smooth=None)\n",
    "  \n",
    "    INPUT: \n",
    "        - x_array:       data for x-axis as numpy array\n",
    "        - y_array:       data for y-axis as numpy array\n",
    "        - gradient:      bool\n",
    "        - smoothing:     value of smoothing+\n",
    "        - odr_mode:      select orthogonal distance regression (ODR) instead of linear regression\n",
    "        - odr_std:       standard deviations for x-axis data and y-axis data [std_x, std_y]\n",
    "        - cc_shift:      cross-correlation lag \n",
    "    OUTPUT:\n",
    "        - output:        dictionary with output values and information\n",
    "    '''\n",
    "    \n",
    "    from scipy import odr\n",
    "    from numpy import gradient, roll, power, ones, convolve\n",
    "    \n",
    "    def __smooth(y, box_pts):\n",
    "        box = ones(box_pts)/box_pts\n",
    "        y_smooth = convolve(y, box, mode='same')\n",
    "        return y_smooth\n",
    "    \n",
    "    def f(B, x):\n",
    "        '''Linear function y = m*x + b'''\n",
    "        return B[0]*x + B[1]\n",
    "\n",
    "    ## avoid error change to dummy\n",
    "    if odr_std[0] is None and odr_std[1] is None:\n",
    "        odr_std = [1,1]\n",
    "        \n",
    "    ## define output dictionary\n",
    "    output = {}\n",
    "    output['gradient']  = gradient\n",
    "    output['smoothing'] = smoothing\n",
    "    output['cc_shift']  = cc_shift\n",
    "    \n",
    "    ## apply time shift according to crosscorrelation lag\n",
    "    if cc_shift is not None:\n",
    "        y_array = roll(y_array, -cc_shift)\n",
    "    \n",
    "#     ## calcuate gradient, if selected\n",
    "    if derive is not None:\n",
    "        x_array = gradient(x_array, 2)\n",
    "        \n",
    "#     ## smoothing gradient\n",
    "    if smoothing is not None:\n",
    "        x_array = __smooth(x_array,  smoothing)\n",
    "\n",
    "    if odr_mode is not None: \n",
    "        sx, sy = odr_std[0], odr_std[1]\n",
    "        linear = odr.Model(f)\n",
    "        mydata = odr.Data(x_array, y_array, wd=1./power(sx,2), we=1./power(sy,2))\n",
    "        myodr = odr.ODR(mydata, linear, beta0=[1e-8, 1e-8])\n",
    "        myoutput = myodr.run()\n",
    "        \n",
    "        output['slope'] = myoutput.beta[0]\n",
    "        output['intercept'] = myoutput.beta[1]\n",
    "        \n",
    "    else:\n",
    "        linreg = scipy.stats.linregress(x_array, y_array)\n",
    "        output['slope'] = linreg.slope\n",
    "        output['intercept'] = linreg.intercept\n",
    "\n",
    "    return output"
   ]
  },
  {
   "cell_type": "code",
   "execution_count": 8,
   "id": "d0f0284e",
   "metadata": {
    "ExecuteTime": {
     "end_time": "2022-10-27T13:26:55.258475Z",
     "start_time": "2022-10-27T13:26:55.242676Z"
    },
    "code_folding": [
     0
    ]
   },
   "outputs": [],
   "source": [
    "# def __estimate_linear_trend(st, derive=None, smooth=None):\n",
    "    \n",
    "#     temp = st[2].data\n",
    "    \n",
    "#     if derive:\n",
    "#         temp = np.gradient(temp, 2)\n",
    "        \n",
    "#     if smooth:\n",
    "#         temp = __smooth(temp, smooth)\n",
    "\n",
    "#     ## compute linear regression of data\n",
    "#     out1 = scipy.stats.linregress(temp, st[0].data)\n",
    "#     out2 = scipy.stats.linregress(temp, st[1].data)\n",
    "    \n",
    "#     ## prepare output dictionary\n",
    "#     output = {}\n",
    "#     output['slope'] = [out1.slope, out2.slope]\n",
    "#     output['intercept'] = [out1.intercept, out2.intercept]\n",
    "    \n",
    "#     return output"
   ]
  },
  {
   "cell_type": "code",
   "execution_count": 9,
   "id": "3c24aa57",
   "metadata": {
    "ExecuteTime": {
     "end_time": "2022-10-27T13:26:55.276505Z",
     "start_time": "2022-10-27T13:26:55.259728Z"
    },
    "code_folding": [
     0
    ]
   },
   "outputs": [],
   "source": [
    "# def __get_odr_estimate(st, std=[1, 1], derive=None, smooth=None):\n",
    "\n",
    "#     from scipy import odr\n",
    "\n",
    "#     def f(B, x):\n",
    "#         '''Linear function y = m*x + b'''\n",
    "#         return B[0]*x + B[1]\n",
    "    \n",
    "#     output = {}\n",
    "#     output['slope'] = []\n",
    "#     output['intercept'] = []\n",
    "    \n",
    "#     for i in range(2):\n",
    "        \n",
    "#         y = st[i].data\n",
    "#         x = st[2].data\n",
    "\n",
    "#         if derive: \n",
    "#             x = np.gradient(x, 2)\n",
    "        \n",
    "#         if smooth:\n",
    "#             x = __smooth(x, smooth)\n",
    "        \n",
    "#         sx = std[0]\n",
    "#         sy = std[1]\n",
    "\n",
    "#         linear = odr.Model(f)\n",
    "\n",
    "#         mydata = odr.Data(x, y, wd=1./np.power(sx,2), we=1./np.power(sy,2))\n",
    "\n",
    "# #         myodr = odr.ODR(mydata, linear, beta0=[1., 1.])\n",
    "#         myodr = odr.ODR(mydata, linear, beta0=[1e-8, 1e-8])\n",
    "\n",
    "#         myoutput = myodr.run()\n",
    "        \n",
    "#         output['slope'].append(myoutput.beta[0])\n",
    "#         output['intercept'].append(myoutput.beta[1])\n",
    "        \n",
    "#     return output"
   ]
  },
  {
   "cell_type": "markdown",
   "id": "b1a83185",
   "metadata": {},
   "source": [
    "### Configurations"
   ]
  },
  {
   "cell_type": "code",
   "execution_count": 10,
   "id": "4c7893e6",
   "metadata": {
    "ExecuteTime": {
     "end_time": "2022-10-27T13:26:55.410757Z",
     "start_time": "2022-10-27T13:26:55.277494Z"
    },
    "code_folding": []
   },
   "outputs": [
    {
     "ename": "FileNotFoundError",
     "evalue": "[Errno 2] No such file or directory: './tiltmeter_romy.conf'",
     "output_type": "error",
     "traceback": [
      "\u001b[0;31m---------------------------------------------------------------------------\u001b[0m",
      "\u001b[0;31mFileNotFoundError\u001b[0m                         Traceback (most recent call last)",
      "\u001b[0;32m<ipython-input-10-9ae52746cb20>\u001b[0m in \u001b[0;36m<module>\u001b[0;34m\u001b[0m\n\u001b[1;32m     14\u001b[0m \u001b[0;32mtry\u001b[0m\u001b[0;34m:\u001b[0m\u001b[0;34m\u001b[0m\u001b[0;34m\u001b[0m\u001b[0m\n\u001b[0;32m---> 15\u001b[0;31m     \u001b[0mconfTilt\u001b[0m \u001b[0;34m=\u001b[0m \u001b[0m__readYaml\u001b[0m\u001b[0;34m(\u001b[0m\u001b[0;34m'/home/brotzer/Documents/ROMY/tiltmeter/'\u001b[0m\u001b[0;34m,\u001b[0m\u001b[0;34m'tiltmeter_romy.conf'\u001b[0m\u001b[0;34m)\u001b[0m\u001b[0;34m\u001b[0m\u001b[0;34m\u001b[0m\u001b[0m\n\u001b[0m\u001b[1;32m     16\u001b[0m     \u001b[0mconfPT\u001b[0m \u001b[0;34m=\u001b[0m \u001b[0mconfTilt\u001b[0m\u001b[0;34m[\u001b[0m\u001b[0;34m'PT'\u001b[0m\u001b[0;34m]\u001b[0m\u001b[0;34m\u001b[0m\u001b[0;34m\u001b[0m\u001b[0m\n",
      "\u001b[0;32m~/anaconda3/lib/python3.7/site-packages/andbro__readYaml.py\u001b[0m in \u001b[0;36m__readYaml\u001b[0;34m(path, filename)\u001b[0m\n\u001b[1;32m      8\u001b[0m \u001b[0;34m\u001b[0m\u001b[0m\n\u001b[0;32m----> 9\u001b[0;31m         \u001b[0;32mwith\u001b[0m \u001b[0mopen\u001b[0m\u001b[0;34m(\u001b[0m\u001b[0mpath\u001b[0m\u001b[0;34m+\u001b[0m\u001b[0mfilename\u001b[0m\u001b[0;34m,\u001b[0m\u001b[0;34m'r'\u001b[0m\u001b[0;34m)\u001b[0m \u001b[0;32mas\u001b[0m \u001b[0mfile\u001b[0m\u001b[0;34m:\u001b[0m\u001b[0;34m\u001b[0m\u001b[0;34m\u001b[0m\u001b[0m\n\u001b[0m\u001b[1;32m     10\u001b[0m                 \u001b[0mstream\u001b[0m \u001b[0;34m=\u001b[0m \u001b[0myaml\u001b[0m\u001b[0;34m.\u001b[0m\u001b[0mload\u001b[0m\u001b[0;34m(\u001b[0m\u001b[0mfile\u001b[0m\u001b[0;34m,\u001b[0m \u001b[0mLoader\u001b[0m\u001b[0;34m=\u001b[0m\u001b[0myaml\u001b[0m\u001b[0;34m.\u001b[0m\u001b[0mFullLoader\u001b[0m\u001b[0;34m)\u001b[0m\u001b[0;34m\u001b[0m\u001b[0;34m\u001b[0m\u001b[0m\n",
      "\u001b[0;31mFileNotFoundError\u001b[0m: [Errno 2] No such file or directory: '/home/brotzer/Documents/ROMY/tiltmeter/tiltmeter_romy.conf'",
      "\nDuring handling of the above exception, another exception occurred:\n",
      "\u001b[0;31mFileNotFoundError\u001b[0m                         Traceback (most recent call last)",
      "\u001b[0;32m<ipython-input-10-9ae52746cb20>\u001b[0m in \u001b[0;36m<module>\u001b[0;34m\u001b[0m\n\u001b[1;32m     16\u001b[0m     \u001b[0mconfPT\u001b[0m \u001b[0;34m=\u001b[0m \u001b[0mconfTilt\u001b[0m\u001b[0;34m[\u001b[0m\u001b[0;34m'PT'\u001b[0m\u001b[0;34m]\u001b[0m\u001b[0;34m\u001b[0m\u001b[0;34m\u001b[0m\u001b[0m\n\u001b[1;32m     17\u001b[0m \u001b[0;32mexcept\u001b[0m\u001b[0;34m:\u001b[0m\u001b[0;34m\u001b[0m\u001b[0;34m\u001b[0m\u001b[0m\n\u001b[0;32m---> 18\u001b[0;31m     \u001b[0mconfTilt\u001b[0m \u001b[0;34m=\u001b[0m \u001b[0m__readYaml\u001b[0m\u001b[0;34m(\u001b[0m\u001b[0;34m'./'\u001b[0m\u001b[0;34m,\u001b[0m\u001b[0;34m'tiltmeter_romy.conf'\u001b[0m\u001b[0;34m)\u001b[0m\u001b[0;34m\u001b[0m\u001b[0;34m\u001b[0m\u001b[0m\n\u001b[0m\u001b[1;32m     19\u001b[0m     \u001b[0mconfPT\u001b[0m \u001b[0;34m=\u001b[0m \u001b[0mconfTilt\u001b[0m\u001b[0;34m[\u001b[0m\u001b[0;34m'PT'\u001b[0m\u001b[0;34m]\u001b[0m\u001b[0;34m\u001b[0m\u001b[0;34m\u001b[0m\u001b[0m\n",
      "\u001b[0;32m~/anaconda3/lib/python3.7/site-packages/andbro__readYaml.py\u001b[0m in \u001b[0;36m__readYaml\u001b[0;34m(path, filename)\u001b[0m\n\u001b[1;32m      7\u001b[0m \u001b[0;34m\u001b[0m\u001b[0m\n\u001b[1;32m      8\u001b[0m \u001b[0;34m\u001b[0m\u001b[0m\n\u001b[0;32m----> 9\u001b[0;31m         \u001b[0;32mwith\u001b[0m \u001b[0mopen\u001b[0m\u001b[0;34m(\u001b[0m\u001b[0mpath\u001b[0m\u001b[0;34m+\u001b[0m\u001b[0mfilename\u001b[0m\u001b[0;34m,\u001b[0m\u001b[0;34m'r'\u001b[0m\u001b[0;34m)\u001b[0m \u001b[0;32mas\u001b[0m \u001b[0mfile\u001b[0m\u001b[0;34m:\u001b[0m\u001b[0;34m\u001b[0m\u001b[0;34m\u001b[0m\u001b[0m\n\u001b[0m\u001b[1;32m     10\u001b[0m                 \u001b[0mstream\u001b[0m \u001b[0;34m=\u001b[0m \u001b[0myaml\u001b[0m\u001b[0;34m.\u001b[0m\u001b[0mload\u001b[0m\u001b[0;34m(\u001b[0m\u001b[0mfile\u001b[0m\u001b[0;34m,\u001b[0m \u001b[0mLoader\u001b[0m\u001b[0;34m=\u001b[0m\u001b[0myaml\u001b[0m\u001b[0;34m.\u001b[0m\u001b[0mFullLoader\u001b[0m\u001b[0;34m)\u001b[0m\u001b[0;34m\u001b[0m\u001b[0;34m\u001b[0m\u001b[0m\n\u001b[1;32m     11\u001b[0m                 \u001b[0mfile\u001b[0m\u001b[0;34m.\u001b[0m\u001b[0mclose\u001b[0m\u001b[0;34m(\u001b[0m\u001b[0;34m)\u001b[0m\u001b[0;34m\u001b[0m\u001b[0;34m\u001b[0m\u001b[0m\n",
      "\u001b[0;31mFileNotFoundError\u001b[0m: [Errno 2] No such file or directory: './tiltmeter_romy.conf'"
     ]
    }
   ],
   "source": [
    "## configurations\n",
    "config={}\n",
    "\n",
    "path = \"/home/andbro/Desktop/tiltmeter/\"\n",
    "\n",
    "config['save'] = False\n",
    "\n",
    "config['name'] = 'tiltmeter'\n",
    "\n",
    "config['set_filter'] = 'n'\n",
    "\n",
    "\n",
    "## tiltmeter configurations\n",
    "try:\n",
    "    confTilt = __readYaml('/home/brotzer/Documents/ROMY/tiltmeter/','tiltmeter_romy.conf')\n",
    "    confPT = confTilt['PT']\n",
    "except:\n",
    "    confTilt = __readYaml('./','tiltmeter_romy.conf')\n",
    "    confPT = confTilt['PT']"
   ]
  },
  {
   "cell_type": "markdown",
   "id": "d81cd86a",
   "metadata": {},
   "source": [
    "### Load Tilt Data"
   ]
  },
  {
   "cell_type": "markdown",
   "id": "1d52c42e",
   "metadata": {},
   "source": [
    "load data for the platform tiltmeter"
   ]
  },
  {
   "cell_type": "code",
   "execution_count": null,
   "id": "d2fa4d03",
   "metadata": {
    "ExecuteTime": {
     "end_time": "2022-10-27T13:26:55.412020Z",
     "start_time": "2022-10-27T13:26:52.499Z"
    }
   },
   "outputs": [],
   "source": [
    "# name = \"TestRun1_30min_intervals\"\n",
    "# name = \"TestRun2_2hour_intervals\"\n",
    "name = \"TestRun4_longIntervals\"\n",
    "\n",
    "\n",
    "st =  read(f\"/home/brotzer/Documents/ROMY/tiltmeter/Temperature_Calibration/{name}/mseed/MAE.D/*\")\n",
    "st += read(f\"/home/brotzer/Documents/ROMY/tiltmeter/Temperature_Calibration/{name}/mseed/MAN.D/*\")\n",
    "st += read(f\"/home/brotzer/Documents/ROMY/tiltmeter/Temperature_Calibration/{name}/mseed/MAT.D/*\")\n",
    "st.merge()\n",
    "\n",
    "## resampel to 1 Hz - high frequency changes don't really matter\n",
    "st.resample(1.0)\n",
    "\n",
    "## cutoff edges of tiltmeter data to avoid fast ambient adjustments\n",
    "cutoff = 600 ## seconds \n",
    "st.trim(st[0].stats.starttime+cutoff, st[0].stats.endtime-cutoff)\n",
    "\n",
    "timeFrameBeg = st[0].stats.starttime\n",
    "timeFrameEnd = st[0].stats.endtime;"
   ]
  },
  {
   "cell_type": "markdown",
   "id": "412c64a5",
   "metadata": {},
   "source": [
    "### Load Temperature Data"
   ]
  },
  {
   "cell_type": "code",
   "execution_count": null,
   "id": "0c4067e9",
   "metadata": {
    "ExecuteTime": {
     "end_time": "2022-10-27T13:26:55.412552Z",
     "start_time": "2022-10-27T13:26:52.501Z"
    }
   },
   "outputs": [],
   "source": [
    "path_to_files = f\"/home/brotzer/Documents/ROMY/tiltmeter/Temperature_Calibration/{name}/temperature/\"\n",
    "\n",
    "filenames = [\"BW.WROMY.WS9.D.2021.349\",\"BW.WROMY.WS9.D.2021.350\"]\n",
    "\n",
    "## read data files\n",
    "for i, num in enumerate(range(49,56)):\n",
    "    \n",
    "    filename = f'BW.WROMY.WS9.D.2021.3{num}'\n",
    "    \n",
    "    if i == 0:\n",
    "        tf = pd.read_csv(path_to_files+filename)\n",
    "    else:\n",
    "        tf0 = pd.read_csv(path_to_files+filename)\n",
    "        tf = pd.concat([tf, tf0], ignore_index=True)\n",
    "\n",
    "tf.reindex()\n",
    "        \n",
    "## adjust Seconds vector for multiple days\n",
    "tf['Seconds'] = [tf['Seconds'][i] + int(str(tf['Date'][i])[-2:])*86400 for i in range(tf['Date'].size)]\n",
    "tf['Seconds'] -= int(str(tf['Date'][0])[-2:])*86400\n",
    "\n",
    "## correct for onset of tilmeter recording\n",
    "tf['Seconds'] -= __get_seconds(st[0].stats.starttime, mode='of_day')\n",
    "\n",
    "## cut to tiltmeter recording periodf\n",
    "tf = tf[tf['Seconds'] > 0]\n",
    "tf.reset_index(inplace=True)\n",
    "\n",
    "plt.scatter(tf['Seconds']/3600, tf['Temperature (°C)'], s=0.5);"
   ]
  },
  {
   "cell_type": "code",
   "execution_count": null,
   "id": "00281324",
   "metadata": {
    "ExecuteTime": {
     "end_time": "2022-10-27T13:26:55.413364Z",
     "start_time": "2022-10-27T13:26:52.502Z"
    }
   },
   "outputs": [],
   "source": [
    "tr = Trace(data=np.array(tf['Temperature (°C)']))\n",
    "\n",
    "temp = Stream(traces=tr)\n",
    "\n",
    "temp[0].stats.network = \"BW\"\n",
    "temp[0].stats.station = \"TEMP\"\n",
    "temp[0].stats.channel = \"T\"\n",
    "temp[0].stats.starttime = UTCDateTime(f\"{tf['Date'][0]} {tf['Time (UTC)'][0]}\")\n",
    "temp[0].stats.sampling_rate = 1.0\n",
    "\n",
    "temp = temp.trim(timeFrameBeg, timeFrameEnd)\n",
    "\n",
    "temp"
   ]
  },
  {
   "cell_type": "markdown",
   "id": "cfc423f0",
   "metadata": {},
   "source": [
    "## Set Temperature"
   ]
  },
  {
   "cell_type": "code",
   "execution_count": null,
   "id": "4a12fa42",
   "metadata": {
    "ExecuteTime": {
     "end_time": "2022-10-27T13:26:55.413954Z",
     "start_time": "2022-10-27T13:26:52.504Z"
    },
    "code_folding": [
     0
    ]
   },
   "outputs": [],
   "source": [
    "def __make_set_temperature(steps, dt):\n",
    "        \n",
    "        temperature = np.array([])\n",
    "        for i, step in enumerate(steps):\n",
    "            \n",
    "            if i != 0:\n",
    "                slope = np.linspace(Tval, step[2], int(60/dt)) \n",
    "                temperature = np.append(temperature, slope)\n",
    "            \n",
    "            T = UTCDateTime(step[1])-UTCDateTime(step[0])\n",
    "            data = np.ones(int(T/dt)) * step[2]\n",
    "            temperature = np.append(temperature, data)\n",
    "            \n",
    "            Tval = step[2]\n",
    "        \n",
    "        totalT = UTCDateTime(steps[len(steps)-1][1]) - UTCDateTime(steps[0][0])\n",
    "        taxis = np.arange(0, totalT, dt)\n",
    "            \n",
    "        return taxis, temperature"
   ]
  },
  {
   "cell_type": "code",
   "execution_count": null,
   "id": "6d838507",
   "metadata": {
    "ExecuteTime": {
     "end_time": "2022-10-27T13:26:55.414455Z",
     "start_time": "2022-10-27T13:26:52.506Z"
    }
   },
   "outputs": [],
   "source": [
    "## sampling time for calibration data\n",
    "dt = 10.0 ## seconds\n",
    "\n",
    "## set intervals for calibration data manually\n",
    "steps = [[\"2021-12-15 14:44\", \"2021-12-16 08:41\", 10], \n",
    "         [\"2021-12-16 08:42\", \"2021-12-17 09:36\", 20],\n",
    "         [\"2021-12-17 09:37\", \"2021-12-17 14:29\", 30]]\n",
    "\n",
    "\n",
    "## generate calibration temperature curve\n",
    "taxis, setTemperature = __make_set_temperature(steps, dt)\n",
    "\n",
    "## reference to starttime of tiltmeter recordings\n",
    "taxis -= st[0].stats.starttime - UTCDateTime(steps[0][0])\n",
    "\n",
    "## transfer to data frame\n",
    "setT = pd.DataFrame(data=None, columns = [\"Seconds\", \"Temperature\"])\n",
    "setT['Seconds'] = taxis\n",
    "setT['Temperature'] = setTemperature"
   ]
  },
  {
   "cell_type": "markdown",
   "id": "b99f8bde",
   "metadata": {},
   "source": [
    "### Convert Data"
   ]
  },
  {
   "cell_type": "markdown",
   "id": "f6bcad4a",
   "metadata": {},
   "source": [
    "Convert data using the specifications of the tiltmeters"
   ]
  },
  {
   "cell_type": "code",
   "execution_count": null,
   "id": "abce81a3",
   "metadata": {
    "ExecuteTime": {
     "end_time": "2022-10-27T13:26:55.415053Z",
     "start_time": "2022-10-27T13:26:52.508Z"
    },
    "code_folding": [
     0
    ]
   },
   "outputs": [],
   "source": [
    "def __conversion(st, confPT):\n",
    "\n",
    "    def convertTemp(trace, gain):\n",
    "        Tvolt = trace.data * gain\n",
    "        return confPT['calcTempCoefficients'][0] + confPT['calcTempCoefficients'][1] * Tvolt + confPT['calcTempCoefficients'][2] * Tvolt**2 + confPT['calcTempCoefficients'][3] * Tvolt**3    \n",
    "        \n",
    "    def convertTilt(trace, conversion, sensitivity):\n",
    "        return trace.data * conversion * sensitivity\n",
    "        # print( type(conversion), type(sensitivity), type(trace.data) )\n",
    "\n",
    "    for tr in st:\n",
    "        if tr.stats.channel == 'MAT':\n",
    "            tr.data = convertTemp(tr, confPT['gainTemp'])\n",
    "        elif tr.stats.channel == 'MAN':\n",
    "            tr.data = convertTilt(tr, confPT['convPTN'], confPT['gainTilt'])\n",
    "        elif tr.stats.channel == 'MAE':\n",
    "            tr.data = convertTilt(tr, confPT['convPTE'], confPT['gainTilt'])\n",
    "\n",
    "        elif tr.stats.channel == 'LAT':\n",
    "            tr.data = convertTemp(tr, confBT['gainTemp'])\n",
    "        elif tr.stats.channel == 'LAN':\n",
    "            tr.data = convertTilt(tr, confBT['convBTN'], confBT['gainTilt'])\n",
    "        elif tr.stats.channel == 'LAE':\n",
    "            tr.data = convertTilt(tr, confBT['convBTE'], confBT['gainTilt'])\n",
    "\n",
    "    print(\"  -> converted data\")\n",
    "    return st"
   ]
  },
  {
   "cell_type": "code",
   "execution_count": null,
   "id": "87c48ba9",
   "metadata": {
    "ExecuteTime": {
     "end_time": "2022-10-27T13:26:55.415648Z",
     "start_time": "2022-10-27T13:26:52.509Z"
    }
   },
   "outputs": [],
   "source": [
    "st = __conversion(st, confPT)"
   ]
  },
  {
   "cell_type": "markdown",
   "id": "24659877",
   "metadata": {},
   "source": [
    "### Plot Data"
   ]
  },
  {
   "cell_type": "code",
   "execution_count": null,
   "id": "9513134b",
   "metadata": {
    "ExecuteTime": {
     "end_time": "2022-10-27T13:26:55.416162Z",
     "start_time": "2022-10-27T13:26:52.512Z"
    },
    "code_folding": [
     0
    ]
   },
   "outputs": [],
   "source": [
    "def __makeplot_data(pt, config, tf=None, setT=None):\n",
    "    \n",
    "    time_scale = 60\n",
    "    \n",
    "    font = 14\n",
    "    \n",
    "    \n",
    "    ## _______________________\n",
    "    \n",
    "    fig, axes = plt.subplots(3, 1, figsize=(15,10), sharex=True)\n",
    "    \n",
    "    for i in range(3):        \n",
    "        axes[i].grid(ls=\":\", color=\"grey\", zorder=0)\n",
    "    \n",
    "    axes[0].plot(pt[0].times()/time_scale, pt[0].data)\n",
    "    axes[1].plot(pt[1].times()/time_scale, pt[1].data)\n",
    "    \n",
    "    \n",
    "    axes[2].plot(pt[2].times()/time_scale, pt[2].data, label=\"internal temperature\")\n",
    "    if tf is not None:\n",
    "        axes[2].plot(tf['Seconds']/time_scale, tf['Temperature (°C)'], label=\"THP sensor\")\n",
    "    if setT is not None:\n",
    "        axes[2].plot(setT['Seconds']/time_scale, setT['Temperature'], label=\"calibration temperature\")\n",
    "    \n",
    "    axes[2].legend()\n",
    "    \n",
    "    axes[0].set_title('Platform Tiltmeter ROMY', fontsize=font+2)\n",
    "    \n",
    "    axes[2].set_xlabel(\"Time (min)\", fontsize=font)\n",
    "    \n",
    "    axes[0].set_ylabel(\"$\\Omega_{east}$ (rad)\", fontsize=font)\n",
    "    axes[1].set_ylabel(\"$\\Omega_{north}$ (rad)\", fontsize=font)\n",
    "    axes[2].set_ylabel(\"Temp (°C)\", fontsize=font)\n",
    "    \n",
    "    return fig "
   ]
  },
  {
   "cell_type": "code",
   "execution_count": null,
   "id": "8c572233",
   "metadata": {
    "ExecuteTime": {
     "end_time": "2022-10-27T13:26:55.416690Z",
     "start_time": "2022-10-27T13:26:52.513Z"
    }
   },
   "outputs": [],
   "source": [
    "fig = __makeplot_data(st, config, tf, setT);"
   ]
  },
  {
   "cell_type": "markdown",
   "id": "056e1fe9",
   "metadata": {},
   "source": [
    "## Selection 1"
   ]
  },
  {
   "cell_type": "code",
   "execution_count": null,
   "id": "dee81741",
   "metadata": {
    "ExecuteTime": {
     "end_time": "2022-10-27T13:26:55.417248Z",
     "start_time": "2022-10-27T13:26:52.514Z"
    }
   },
   "outputs": [],
   "source": [
    "st_selection1 = st.copy()\n",
    "temp_selection1 = temp.copy()\n",
    "\n",
    "st_selection1 = __remove_nan_values(st_selection1)\n",
    "\n",
    "\n",
    "sel1_beg = UTCDateTime(\"2021-12-16 08:50\")\n",
    "sel1_end = UTCDateTime(\"2021-12-16 10:41\")\n",
    "\n",
    "st_selection1.trim(sel1_beg, sel1_end)\n",
    "\n",
    "temp_selection1.trim(sel1_beg, sel1_end)\n",
    "\n",
    "fig = __makeplot_data(st_selection1, config, tf=None, setT=None);"
   ]
  },
  {
   "cell_type": "markdown",
   "id": "e830d98e",
   "metadata": {},
   "source": [
    "### Polynomial Fit"
   ]
  },
  {
   "cell_type": "code",
   "execution_count": null,
   "id": "a41f44ce",
   "metadata": {
    "ExecuteTime": {
     "end_time": "2022-10-27T13:26:55.417727Z",
     "start_time": "2022-10-27T13:26:52.516Z"
    }
   },
   "outputs": [],
   "source": [
    "x_array   = st_selection1[2].data\n",
    "y_array_1 = st_selection1[0].data\n",
    "y_array_2 = st_selection1[1].data\n",
    "\n",
    "output1 = __calculate_polynomial_fit(x_array, y_array_1, order_of_fit=4, gradient=True, smoothing=100)\n",
    "output2 = __calculate_polynomial_fit(x_array, y_array_2, order_of_fit=4, gradient=True, smoothing=100)\n",
    "\n",
    "coefficients = [output1['coefficients'], output2['coefficients']]\n",
    "ffit = [output1['fit'], output2['fit']]\n",
    "\n",
    "__makeplot_calibration(st_selection1, \n",
    "                       slopes=None, \n",
    "                       intercepts=None, \n",
    "                       tf=None,\n",
    "                       setT=None, \n",
    "                       derive=True, \n",
    "                       smooth=100, \n",
    "                       poly=ffit, \n",
    "                       coeff=coefficients,\n",
    "                      );"
   ]
  },
  {
   "cell_type": "markdown",
   "id": "2f1e269d",
   "metadata": {},
   "source": [
    "## Selection 2"
   ]
  },
  {
   "cell_type": "code",
   "execution_count": null,
   "id": "658018de",
   "metadata": {
    "ExecuteTime": {
     "end_time": "2022-10-27T13:26:55.418207Z",
     "start_time": "2022-10-27T13:26:52.518Z"
    }
   },
   "outputs": [],
   "source": [
    "st_selection2 = st.copy()\n",
    "temp_selection2 = temp.copy()\n",
    "\n",
    "st_selection2 = __remove_nan_values(st_selection2)\n",
    "\n",
    "## slow adjustment at the end\n",
    "sel2_beg = UTCDateTime(\"2021-12-18 00:00\")\n",
    "sel2_end = UTCDateTime(\"2021-12-21 00:00\")\n",
    "\n",
    "## constant plateau inbetween\n",
    "# sel2_beg = UTCDateTime(\"2021-12-15 18:00\")\n",
    "# sel2_end = UTCDateTime(\"2021-12-16 08:00\")\n",
    "\n",
    "## increasing temperature\n",
    "# sel2_beg = UTCDateTime(\"2021-12-15 14:00\")\n",
    "# sel2_end = UTCDateTime(\"2021-12-15 16:00\")\n",
    "\n",
    "st_selection2.trim(sel2_beg, sel2_end)\n",
    "\n",
    "temp_selection2.trim(sel2_beg, sel2_end)\n",
    "\n",
    "fig = __makeplot_data(st_selection2, config, tf=None, setT=None);"
   ]
  },
  {
   "cell_type": "markdown",
   "id": "4ec8aa05",
   "metadata": {},
   "source": [
    "### Linear Regression"
   ]
  },
  {
   "cell_type": "code",
   "execution_count": null,
   "id": "ad676b74",
   "metadata": {
    "ExecuteTime": {
     "end_time": "2022-10-27T13:26:55.418712Z",
     "start_time": "2022-10-27T13:26:52.520Z"
    }
   },
   "outputs": [],
   "source": [
    "x_array   = st_selection2[2].data\n",
    "y_array_1 = st_selection2[0].data\n",
    "y_array_2 = st_selection2[1].data\n",
    "\n",
    "\n",
    "output1 = __calculate_linear_regression(x_array, y_array_1, odr_mode=None, odr_std=[None, None], derive=None, smoothing=None, cc_shift=None)\n",
    "output2 = __calculate_linear_regression(x_array, y_array_2, odr_mode=None, odr_std=[None, None], derive=None, smoothing=None, cc_shift=None)\n",
    "\n",
    "slopes     = [output1.get('slope'), output2.get('slope')]\n",
    "intercepts = [output1.get('intercept'), output2.get('intercept')]\n",
    "\n",
    "print(f\"slopes: {slopes} \\nintercepts: {intercepts}\")\n",
    "\n",
    "__makeplot_calibration(st_selection2, \n",
    "                       slopes=slopes, \n",
    "                       intercepts=intercepts, \n",
    "                       tf=None,\n",
    "                       setT=None,\n",
    "                       derive=False,\n",
    "                       smooth=None);"
   ]
  },
  {
   "cell_type": "markdown",
   "id": "92949805",
   "metadata": {},
   "source": [
    "## Selection 3"
   ]
  },
  {
   "cell_type": "code",
   "execution_count": null,
   "id": "cc8aa378",
   "metadata": {
    "ExecuteTime": {
     "end_time": "2022-10-27T13:26:55.419298Z",
     "start_time": "2022-10-27T13:26:52.522Z"
    }
   },
   "outputs": [],
   "source": [
    "st_selection3 = st.copy()\n",
    "temp_selection3 = temp.copy()\n",
    "\n",
    "st_selection3 = __remove_nan_values(st_selection3)\n",
    "\n",
    "\n",
    "sel3_beg = UTCDateTime(\"2021-12-16 08:42\")\n",
    "sel3_end = UTCDateTime(\"2021-12-16 08:44\")\n",
    "\n",
    "st_selection3.trim(sel3_beg, sel3_end)\n",
    "\n",
    "temp_selection3.trim(sel3_beg, sel3_end)\n",
    "\n",
    "fig = __makeplot_data(st_selection3, config, tf=None, setT=None);"
   ]
  },
  {
   "cell_type": "markdown",
   "id": "9cbf186d",
   "metadata": {},
   "source": [
    "### Polynomial Fit"
   ]
  },
  {
   "cell_type": "code",
   "execution_count": null,
   "id": "6822ea9a",
   "metadata": {
    "ExecuteTime": {
     "end_time": "2022-10-27T13:26:55.419791Z",
     "start_time": "2022-10-27T13:26:52.524Z"
    }
   },
   "outputs": [],
   "source": [
    "x_array   = st_selection3[2].data\n",
    "y_array_1 = st_selection3[0].data\n",
    "y_array_2 = st_selection3[1].data\n",
    "\n",
    "## correct for the already determined linear trend on absolute temperature\n",
    "slopes     = [-5.7213704115443028e-06, 2.3228481759269141e-06] \n",
    "intercepts = [3.7118519864895699e-05, -2.7996873715913916e-05]\n",
    "y_array_1 -= (slopes[0]* st_selection3[2].data + intercepts[0])\n",
    "y_array_2 -= (slopes[1]* st_selection3[2].data + intercepts[1])\n",
    "\n",
    "\n",
    "output1 = __calculate_polynomial_fit(x_array, y_array_1, order_of_fit=3, gradient=True, smoothing=None)\n",
    "output2 = __calculate_polynomial_fit(x_array, y_array_2, order_of_fit=3, gradient=True, smoothing=None)\n",
    "\n",
    "print(f\" component 1: {output1['coefficients']} \\n component 2: {output2['coefficients']}\")\n",
    "\n",
    "coefficients = [output1['coefficients'], output2['coefficients']]\n",
    "ffit = [output1['fit'], output2['fit']]\n",
    "\n",
    "__makeplot_calibration(st_selection3, \n",
    "                       slopes=None, \n",
    "                       intercepts=None, \n",
    "                       tf=None,\n",
    "                       setT=None, \n",
    "                       derive=True, \n",
    "                       smooth=None, \n",
    "                       poly=ffit, \n",
    "                       coeff=coefficients,\n",
    "                      );"
   ]
  },
  {
   "cell_type": "code",
   "execution_count": null,
   "id": "1d78d18c",
   "metadata": {
    "ExecuteTime": {
     "end_time": "2022-10-27T13:26:55.420309Z",
     "start_time": "2022-10-27T13:26:52.525Z"
    }
   },
   "outputs": [],
   "source": [
    "x_array   = st_selection3[2].data\n",
    "y_array_1 = st_selection3[0].data\n",
    "y_array_2 = st_selection3[1].data\n",
    "\n",
    "## correct for the already determined linear trend on absolute temperature\n",
    "# slopes     = [-5.7213704115443028e-06, 2.3228481759269141e-06] \n",
    "# intercepts = [3.7118519864895699e-05, -2.7996873715913916e-05]\n",
    "# y_array_1 -= (slopes[0]* st_selection3[2].data + intercepts[0])\n",
    "# y_array_2 -= (slopes[1]* st_selection3[2].data + intercepts[1])\n",
    "\n",
    "\n",
    "output1 = __calculate_linear_regression(x_array, y_array_1, odr_mode=None, odr_std=[None, None], derive=True, smoothing=None, cc_shift=None)\n",
    "output2 = __calculate_linear_regression(x_array, y_array_2, odr_mode=None, odr_std=[None, None], derive=True, smoothing=None, cc_shift=None)\n",
    "\n",
    "slopes     = [output1.get('slope'), output2.get('slope')]\n",
    "intercepts = [output1.get('intercept'), output2.get('intercept')]\n",
    "\n",
    "print(f\"slopes: {slopes} \\nintercepts: {intercepts}\")\n",
    "\n",
    "__makeplot_calibration(st_selection3, \n",
    "                       slopes=slopes, \n",
    "                       intercepts=intercepts, \n",
    "                       tf=None,\n",
    "                       setT=None,\n",
    "                       derive=True,\n",
    "                       smooth=None);"
   ]
  },
  {
   "cell_type": "markdown",
   "id": "135929e6",
   "metadata": {},
   "source": [
    "### Correct ALL"
   ]
  },
  {
   "cell_type": "code",
   "execution_count": null,
   "id": "f014ec8d",
   "metadata": {
    "ExecuteTime": {
     "end_time": "2022-10-27T13:26:55.420803Z",
     "start_time": "2022-10-27T13:26:52.527Z"
    },
    "code_folding": [
     0
    ]
   },
   "outputs": [],
   "source": [
    "def __correction(temperature, mode):\n",
    "    \n",
    "    import numpy.polynomial.polynomial as poly\n",
    "    \n",
    "    def __smooth(y, box_pts):\n",
    "        box = np.ones(box_pts)/box_pts\n",
    "        y_smooth = np.convolve(y, box, mode='same')\n",
    "        return y_smooth\n",
    "    \n",
    "    dt_temperature = np.gradient(temperature, 2)/1.0 # 1 Hz\n",
    "    dt_temperature = __smooth(dt_temperature, 5)\n",
    "        \n",
    "    slopes     = [-5.7213704115443028e-06, 2.3228481759269141e-06] \n",
    "    intercepts = [3.7118519864895699e-05, -2.7996873715913916e-05]\n",
    "    \n",
    "    ## section 1\n",
    "    component1 = [ -1.29070103e-05,   1.17506699e+00,   7.82954151e+04,   2.04435691e+09] \n",
    "    component2 = [ -7.46312739e-06,  -2.51982477e-01,  -1.10367487e+03,   1.30426291e+08]\n",
    "    ## section 3\n",
    "    component1 = [ -1.37554302e-05,  -4.06760215e-04,  -1.11930295e-01,   1.11625920e+02] \n",
    "    component2 = [ -7.41299125e-06,   4.91276111e-03,  -4.73974487e+00,   1.37157381e+03]  \n",
    "    \n",
    "    polyfit1 = poly.polyval(dt_temperature, component1)\n",
    "    polyfit2 = poly.polyval(dt_temperature, component2)\n",
    "    \n",
    "    if mode == 'lin':\n",
    "        correction1 = slopes[0]* temperature + intercepts[0]\n",
    "        correction2 = slopes[1]* temperature + intercepts[1]\n",
    "    if mode == 'lin+poly':\n",
    "        correction1 = slopes[0]* temperature + intercepts[0] + polyfit1\n",
    "        correction2 = slopes[1]* temperature + intercepts[1] + polyfit2\n",
    "    \n",
    "    ## test linear dt fit\n",
    "    dt_slopes     = [-0.00017277688239036794, -0.0003238346385749619] \n",
    "    dt_intercepts = [-1.3977405041720336e-05, -5.5667712989062741e-06]\n",
    "    \n",
    "    if mode == 'lin+lin':\n",
    "        correction1 = slopes[0]* temperature + intercepts[0] + dt_slopes[0] * dt_temperature + dt_intercepts[0]\n",
    "        correction2 = slopes[1]* temperature + intercepts[1] + dt_slopes[0] * dt_temperature + dt_intercepts[0] \n",
    "\n",
    "    return correction1, correction2, dt_temperature"
   ]
  },
  {
   "cell_type": "code",
   "execution_count": null,
   "id": "0896cbd8",
   "metadata": {
    "ExecuteTime": {
     "end_time": "2022-10-27T13:26:55.421328Z",
     "start_time": "2022-10-27T13:26:52.528Z"
    },
    "code_folding": [
     0
    ]
   },
   "outputs": [],
   "source": [
    "def __makeplot_correction(st, corrections, config, tf=None, setT=None, dtT=None):\n",
    "    \n",
    "    time_scale = 60\n",
    "    \n",
    "    font = 14\n",
    "    \n",
    "    \n",
    "    ## _______________________\n",
    "    \n",
    "    fig, axes = plt.subplots(3, 1, figsize=(15,10), sharex=True)\n",
    "    \n",
    "    for i in range(3):        \n",
    "        axes[i].grid(ls=\":\", color=\"grey\", zorder=0)\n",
    "    \n",
    "    ## panel 0\n",
    "    axes[0].plot(st[0].times()/time_scale, st[0].data, label=\"original\")\n",
    "    axes[0].plot(st[0].times()/time_scale, st[0].data - corrections[0], color=\"green\", label=\"corrected\")\n",
    "\n",
    "    ## panel 1\n",
    "    axes[1].plot(st[1].times()/time_scale, st[1].data, label=\"original\")\n",
    "    axes[1].plot(st[1].times()/time_scale, st[1].data - corrections[1], color=\"green\", label=\"corrected\")\n",
    "    \n",
    "    ## panel 2\n",
    "    axes[2].plot(st[2].times()/time_scale, st[2].data, label=\"internal temperature\")\n",
    "    \n",
    "    \n",
    "    if tf is not None:\n",
    "        axes[2].plot(tf['Seconds']/time_scale, tf['Temperature (°C)'], label=\"THP sensor\")\n",
    "    if setT is not None:\n",
    "        axes[2].plot(setT['Seconds']/time_scale, setT['Temperature'], label=\"calibration temperature\")\n",
    "    if dtT is not None:\n",
    "        axes[2].plot(st[1].times()/time_scale, dtT, label=\"dt temperature\")\n",
    "        \n",
    "    axes[0].legend()\n",
    "    axes[1].legend()\n",
    "    axes[2].legend()\n",
    "    \n",
    "    axes[0].set_title('Platform Tiltmeter ROMY', fontsize=font+2)\n",
    "    \n",
    "    axes[2].set_xlabel(\"Time (min)\", fontsize=font)\n",
    "    \n",
    "    axes[0].set_ylabel(\"$\\Omega_{east}$ (rad)\", fontsize=font)\n",
    "    axes[1].set_ylabel(\"$\\Omega_{north}$ (rad)\", fontsize=font)\n",
    "    axes[2].set_ylabel(\"Temp (°C)\", fontsize=font)\n",
    "    \n",
    "    \n",
    "    axes[0].set_ylim(-3e-5, 10e-5)\n",
    "    axes[1].set_ylim(-8e-5, 8e-5)\n",
    "    \n",
    "    return fig "
   ]
  },
  {
   "cell_type": "code",
   "execution_count": null,
   "id": "835b9aee",
   "metadata": {
    "ExecuteTime": {
     "end_time": "2022-10-27T13:26:55.421808Z",
     "start_time": "2022-10-27T13:26:52.530Z"
    }
   },
   "outputs": [],
   "source": [
    "corr1, corr2, dtT = __correction(st[2].data, mode='lin+poly')\n",
    "\n",
    "timeaxis = st[0].times()\n",
    "\n",
    "\n",
    "__makeplot_correction(st, [corr1, corr2], config, tf=None, setT=None, dtT=dtT*10000);"
   ]
  },
  {
   "cell_type": "markdown",
   "id": "04d07a8f",
   "metadata": {},
   "source": [
    "## Dump Correction Parameters"
   ]
  },
  {
   "cell_type": "code",
   "execution_count": null,
   "id": "0155a930",
   "metadata": {
    "ExecuteTime": {
     "end_time": "2022-10-27T13:26:55.422382Z",
     "start_time": "2022-10-27T13:26:52.531Z"
    }
   },
   "outputs": [],
   "source": [
    "# import yaml\n",
    "\n",
    "# correction = {'Tiltmeter': config.get(\"tiltmeter\"),\n",
    "#               'correction': 'LongTermTrendTemperature',\n",
    "#               'slopes':  {'C1': str(out.get('slope')[0]), 'C2': str(out.get('slope')[1])},\n",
    "#               'intercepts':  {'C1': str(out.get('intercept')[0]), 'C2': str(out.get('intercept')[1])},\n",
    "#              }\n",
    "\n",
    "# filename = f\"correction_longterm_{config.get('tiltmeter')}\"\n",
    "\n",
    "# if config['save']:\n",
    "#     with open(f'{filename}.yml', 'w') as yaml_file:\n",
    "#         yaml.dump(correction, yaml_file, default_flow_style=False)"
   ]
  },
  {
   "cell_type": "markdown",
   "id": "aa28642b",
   "metadata": {},
   "source": [
    "## CrossCorrelation"
   ]
  },
  {
   "cell_type": "code",
   "execution_count": null,
   "id": "af12c7a6",
   "metadata": {
    "ExecuteTime": {
     "end_time": "2022-10-27T13:26:55.423030Z",
     "start_time": "2022-10-27T13:26:52.533Z"
    },
    "code_folding": [
     0
    ]
   },
   "outputs": [],
   "source": [
    "# def __cross_correlation(y1, y2, norm=False, plot=True):\n",
    "#     \"\"\"Calculates the cross correlation and lags.\n",
    "\n",
    "#     Args:\n",
    "#         y1, y2: Should have the same length.\n",
    "#         norm:   Boolean (False | True) for normalization \n",
    "#     Returns:\n",
    "#         max_corr: Maximum correlation without normalization.\n",
    "#         lag: The lag in terms of the index.\n",
    "#     \"\"\"\n",
    "    \n",
    "#     from scipy.signal import correlate\n",
    "    \n",
    "#     if len(y1) != len(y2):\n",
    "#         raise ValueError('The lengths of the inputs should be the same.')\n",
    "\n",
    "#     ## calulate autocorrelation\n",
    "#     y1_auto_corr = np.dot(y1, y1) / len(y1)\n",
    "#     y2_auto_corr = np.dot(y2, y2) / len(y1)\n",
    "    \n",
    "#     ## normalize input traces ?!\n",
    "# #     y1 /= np.max(abs(y1))\n",
    "# #     y2 /= np.max(abs(y2))\n",
    "    \n",
    "#     ## calculate crorrelation function\n",
    "#     corr = correlate(y1, y2, mode='same')\n",
    "    \n",
    "#     # The unbiased sample size is N - lag.\n",
    "#     unbiased_sample_size = signal.correlate(np.ones(len(y1)), np.ones(len(y1)), mode='same')\n",
    "\n",
    "#     ## \n",
    "#     corr = corr / unbiased_sample_size / np.sqrt(y1_auto_corr * y2_auto_corr)\n",
    "    \n",
    "#     ## normalize\n",
    "#     if norm:\n",
    "#         corr /= np.max(abs(corr))\n",
    "        \n",
    "#     ## calculate lag times \n",
    "#     xlags = np.arange(-corr.size//2, corr.size//2, 1)\n",
    "\n",
    "#     ## get maximum    \n",
    "# #     corr_max_y = np.max(abs(corr))\n",
    "#     corr_max_x = np.argmax(abs(corr))-corr.size//2\n",
    "#     corr_max_y = corr[int(corr_max_x + corr.size//2)]\n",
    "    \n",
    "    \n",
    "#     shifted = np.roll(y2*corr_max_y, corr_max_x)\n",
    "\n",
    "    \n",
    "#     ## Plotting\n",
    "#     if plot == True:\n",
    "#         fig, ax = plt.subplots(3, 1, figsize=(15,8))\n",
    "\n",
    "#         ax[0].plot(y1)\n",
    "\n",
    "#         ax[1].plot(y2)\n",
    "#         ax[1].plot(shifted)\n",
    "\n",
    "#         ax[2].plot(xlags, corr)\n",
    "\n",
    "#         ax[2].scatter(corr_max_x, corr_max_y, color='orange', zorder=3)\n",
    "#         ax[2].axvline(corr_max_x, color='k', ls=\":\")\n",
    "#         ax[2].axhline(corr_max_y, color='k', ls=\":\")\n",
    "\n",
    "#         for i in range(3):\n",
    "#             ax[i].grid(ls=\":\", zorder=1)\n",
    "            \n",
    "#         plt.show();\n",
    "\n",
    "#     return corr, xlags, (corr_max_x, corr_max_y)"
   ]
  },
  {
   "cell_type": "code",
   "execution_count": null,
   "id": "97a784d6",
   "metadata": {
    "ExecuteTime": {
     "end_time": "2022-10-27T13:26:55.423641Z",
     "start_time": "2022-10-27T13:26:52.534Z"
    }
   },
   "outputs": [],
   "source": [
    "from andbro__crosscorrelation import __crosscorrelation"
   ]
  },
  {
   "cell_type": "code",
   "execution_count": 11,
   "id": "e29f4203",
   "metadata": {
    "ExecuteTime": {
     "end_time": "2022-10-27T13:27:27.440390Z",
     "start_time": "2022-10-27T13:27:27.426156Z"
    }
   },
   "outputs": [
    {
     "ename": "NameError",
     "evalue": "name 'st' is not defined",
     "output_type": "error",
     "traceback": [
      "\u001b[0;31m---------------------------------------------------------------------------\u001b[0m",
      "\u001b[0;31mNameError\u001b[0m                                 Traceback (most recent call last)",
      "\u001b[0;32m<ipython-input-11-a8762294eed5>\u001b[0m in \u001b[0;36m<module>\u001b[0;34m\u001b[0m\n\u001b[0;32m----> 1\u001b[0;31m \u001b[0mst_new\u001b[0m \u001b[0;34m=\u001b[0m \u001b[0mst\u001b[0m\u001b[0;34m.\u001b[0m\u001b[0mcopy\u001b[0m\u001b[0;34m(\u001b[0m\u001b[0;34m)\u001b[0m\u001b[0;34m\u001b[0m\u001b[0;34m\u001b[0m\u001b[0m\n\u001b[0m\u001b[1;32m      2\u001b[0m \u001b[0;34m\u001b[0m\u001b[0m\n\u001b[1;32m      3\u001b[0m \u001b[0mst_new\u001b[0m\u001b[0;34m.\u001b[0m\u001b[0mdetrend\u001b[0m\u001b[0;34m(\u001b[0m\u001b[0;34m'constant'\u001b[0m\u001b[0;34m)\u001b[0m\u001b[0;34m\u001b[0m\u001b[0;34m\u001b[0m\u001b[0m\n\u001b[1;32m      4\u001b[0m \u001b[0;34m\u001b[0m\u001b[0m\n\u001b[1;32m      5\u001b[0m \u001b[0;31m# cc, cc_lags, cc_max = __cross_correlation(st_new[2].data, st_new[1].data , norm=True, plot=True)\u001b[0m\u001b[0;34m\u001b[0m\u001b[0;34m\u001b[0m\u001b[0;34m\u001b[0m\u001b[0m\n",
      "\u001b[0;31mNameError\u001b[0m: name 'st' is not defined"
     ]
    }
   ],
   "source": [
    "st_new = st.copy()\n",
    "\n",
    "st_new.detrend('constant')\n",
    "\n",
    "# cc, cc_lags, cc_max = __cross_correlation(st_new[2].data, st_new[1].data , norm=True, plot=True)\n",
    "cc, cc_lags, cc_max = __crosscorrelation(st_new[2].data, st_new[1].data, plot=True)"
   ]
  },
  {
   "cell_type": "markdown",
   "id": "fed07209",
   "metadata": {},
   "source": [
    "## Selection 5"
   ]
  },
  {
   "cell_type": "code",
   "execution_count": null,
   "id": "8c808660",
   "metadata": {
    "ExecuteTime": {
     "end_time": "2022-10-27T13:26:55.424672Z",
     "start_time": "2022-10-27T13:26:52.537Z"
    }
   },
   "outputs": [],
   "source": [
    "st_selection5 = st.copy()\n",
    "temp_selection5 = temp.copy()\n",
    "\n",
    "st_selection5 = __remove_nan_values(st_selection5)\n"
   ]
  },
  {
   "cell_type": "code",
   "execution_count": null,
   "id": "fe17b6bc",
   "metadata": {
    "ExecuteTime": {
     "end_time": "2022-10-27T13:26:55.425174Z",
     "start_time": "2022-10-27T13:26:52.538Z"
    }
   },
   "outputs": [],
   "source": [
    "x_array   = st_selection5[2].data\n",
    "y_array_1 = st_selection5[0].data\n",
    "y_array_2 = st_selection5[1].data\n",
    "\n",
    "\n",
    "y_array_1 = np.roll(y_array_1, -9617)\n",
    "y_array_2 = np.roll(y_array_2, -9617)\n",
    "\n",
    "# st_selection5[0].data = y_array_1\n",
    "# st_selection5[1].data = y_array_2\n",
    "\n",
    "output1 = __calculate_linear_regression(x_array, y_array_1, odr_mode=None, odr_std=[None, None], derive=False, smoothing=None, cc_shift=None)\n",
    "output2 = __calculate_linear_regression(x_array, y_array_2, odr_mode=None, odr_std=[None, None], derive=False, smoothing=None, cc_shift=None)\n",
    "\n",
    "slopes     = [output1.get('slope'), output2.get('slope')]\n",
    "intercepts = [output1.get('intercept'), output2.get('intercept')]\n",
    "\n",
    "print(f\"slopes: {slopes} \\nintercepts: {intercepts}\")\n",
    "\n",
    "__makeplot_calibration(st_selection5, \n",
    "                       slopes=slopes, \n",
    "                       intercepts=intercepts, \n",
    "                       tf=None,\n",
    "                       setT=None,\n",
    "                       derive=None,\n",
    "                       smooth=None);"
   ]
  },
  {
   "cell_type": "code",
   "execution_count": null,
   "id": "afab3494",
   "metadata": {},
   "outputs": [],
   "source": []
  }
 ],
 "metadata": {
  "kernelspec": {
   "display_name": "Python 3",
   "language": "python",
   "name": "python3"
  },
  "language_info": {
   "codemirror_mode": {
    "name": "ipython",
    "version": 3
   },
   "file_extension": ".py",
   "mimetype": "text/x-python",
   "name": "python",
   "nbconvert_exporter": "python",
   "pygments_lexer": "ipython3",
   "version": "3.7.7"
  }
 },
 "nbformat": 4,
 "nbformat_minor": 5
}
