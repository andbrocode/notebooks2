{
 "cells": [
  {
   "cell_type": "code",
   "execution_count": 1,
   "metadata": {
    "ExecuteTime": {
     "end_time": "2022-12-20T10:21:45.375344Z",
     "start_time": "2022-12-20T10:21:45.365617Z"
    }
   },
   "outputs": [],
   "source": [
    "## -----------------------\n",
    "## import libraries\n",
    "\n",
    "import argparse\n",
    "import sys\n",
    "\n",
    "from andbro__querrySeismoData import __querrySeismoData\n",
    "from andbro__savefig import __savefig"
   ]
  },
  {
   "cell_type": "code",
   "execution_count": 2,
   "metadata": {
    "ExecuteTime": {
     "end_time": "2022-12-20T10:21:45.577745Z",
     "start_time": "2022-12-20T10:21:45.575821Z"
    }
   },
   "outputs": [],
   "source": [
    "## -----------------------\n",
    "## define or gather options \n",
    "\n",
    "# parser = argparse.ArgumentParser(description=\"Plot single data trace.\")\n",
    "# parser.add_argument(\"-f\", \"--filter\", help=\"define a filter\",action=\"store_true\")\n",
    "# parser.add_argument(\"-s\", \"--save\", help=\"save figure\",action=\"store_true\")\n",
    "\n",
    "# args = parser.parse_args()"
   ]
  },
  {
   "cell_type": "code",
   "execution_count": 3,
   "metadata": {
    "ExecuteTime": {
     "end_time": "2022-12-20T10:21:45.757203Z",
     "start_time": "2022-12-20T10:21:45.752335Z"
    },
    "code_folding": [
     3
    ]
   },
   "outputs": [
    {
     "ename": "IndentationError",
     "evalue": "unexpected indent (<ipython-input-3-4a4299877526>, line 10)",
     "output_type": "error",
     "traceback": [
      "\u001b[0;36m  File \u001b[0;32m\"<ipython-input-3-4a4299877526>\"\u001b[0;36m, line \u001b[0;32m10\u001b[0m\n\u001b[0;31m    if len(tbeg) < 11:\u001b[0m\n\u001b[0m    ^\u001b[0m\n\u001b[0;31mIndentationError\u001b[0m\u001b[0;31m:\u001b[0m unexpected indent\n"
     ]
    }
   ],
   "source": [
    "## -----------------------\n",
    "## user interaction\n",
    "\n",
    "def __user_interaction():\n",
    "    \n",
    "    repos   = input(\"\\nEnter station code ('local' | 'george' | 'archive' | 'online'):  \") or 'george'\n",
    "    \n",
    "    ## time period is determined\n",
    "    tbeg = input(\"\\nEnter starttime (e.g. 2021-03-04 18:35):  \")\n",
    "        if len(tbeg) < 11:\n",
    "            print(f\"  No time specified -> assuming {tbeg} 00:00\\n\")\n",
    "            tbeg +=\" 00:00\"\n",
    "            \n",
    "    tend = input(\"\\nEnter endtime (e.g. 2021-03-04 19:35):  \")\n",
    "        if len(tend) < 11:\n",
    "            print(f\"  No time specified -> assuming {tend} 23:59\\n\")\n",
    "            tend += \" 23:59\"\n",
    "            \n",
    "    ## if respository is local, path to files is determined \n",
    "    if repos == \"local\":\n",
    "        datapath = input(\"\\nEnter path to local data file:  \")\n",
    "    else:\n",
    "        datapath = None\n",
    "\n",
    "    ## if arguments include filter options, specifications are determined\n",
    "        if args.filter:\n",
    "            f_type = input(\"\\nEnter filter type (lp, bp, hp): \")\n",
    "\n",
    "            if f_type == 'lp':\n",
    "                freq = float(input(\"\\nEnter upper corner frequency: \"))\n",
    "            elif f_type == 'hp':\t\n",
    "                freq = float(input(\"\\nEnter lower corner frequency: \"))\n",
    "            elif f_type == 'bp':\t\n",
    "                freqs = input(\"\\nEnter corner frequencies (e.g. 0.1,1.0): \").split(\",\")\n",
    "                freqs = [float(ff) for ff in freqs]\n",
    "\n",
    "\n",
    "    ## create a dictionary of the specified parameters\n",
    "    parameters = {\n",
    "        repos: repos,\n",
    "        tbeg: tbeg,\n",
    "        tend: tend, \n",
    "        datapath: datapath, \n",
    "        f_type: f_type, \n",
    "        freqs: freqs,        \n",
    "        }\n",
    "    \n",
    "    return parameters\n"
   ]
  },
  {
   "cell_type": "code",
   "execution_count": 4,
   "metadata": {
    "ExecuteTime": {
     "end_time": "2022-12-20T10:21:46.148184Z",
     "start_time": "2022-12-20T10:21:45.934799Z"
    }
   },
   "outputs": [
    {
     "ename": "NameError",
     "evalue": "name 'read' is not defined",
     "output_type": "error",
     "traceback": [
      "\u001b[0;31m---------------------------------------------------------------------------\u001b[0m",
      "\u001b[0;31mNameError\u001b[0m                                 Traceback (most recent call last)",
      "\u001b[0;32m<ipython-input-4-d25f162eedc3>\u001b[0m in \u001b[0;36m<module>\u001b[0;34m\u001b[0m\n\u001b[1;32m      1\u001b[0m \u001b[0mss\u001b[0m \u001b[0;34m=\u001b[0m \u001b[0;34m'MAT'\u001b[0m\u001b[0;34m\u001b[0m\u001b[0;34m\u001b[0m\u001b[0m\n\u001b[1;32m      2\u001b[0m \u001b[0;34m\u001b[0m\u001b[0m\n\u001b[0;32m----> 3\u001b[0;31m \u001b[0mst\u001b[0m \u001b[0;34m=\u001b[0m \u001b[0mread\u001b[0m\u001b[0;34m(\u001b[0m\u001b[0;34mf\"/home/brotzer/Desktop/test/mseed/{ss}.D/BW.TROMY..{ss}.D.2021.061\"\u001b[0m\u001b[0;34m)\u001b[0m\u001b[0;34m\u001b[0m\u001b[0;34m\u001b[0m\u001b[0m\n\u001b[0m\u001b[1;32m      4\u001b[0m \u001b[0mst\u001b[0m \u001b[0;34m+=\u001b[0m \u001b[0mread\u001b[0m\u001b[0;34m(\u001b[0m\u001b[0;34mf\"/home/brotzer/Desktop/plattform_tiltmeter/mseed/{ss}.D/BW.TROMY..{ss}.D.2021.061\"\u001b[0m\u001b[0;34m)\u001b[0m\u001b[0;34m\u001b[0m\u001b[0;34m\u001b[0m\u001b[0m\n\u001b[1;32m      5\u001b[0m \u001b[0mst\u001b[0m\u001b[0;34m.\u001b[0m\u001b[0mmerge\u001b[0m\u001b[0;34m(\u001b[0m\u001b[0;34m)\u001b[0m\u001b[0;34m\u001b[0m\u001b[0;34m\u001b[0m\u001b[0m\n",
      "\u001b[0;31mNameError\u001b[0m: name 'read' is not defined"
     ]
    }
   ],
   "source": [
    "\n",
    "\n",
    "ss = 'MAT'\n",
    "\n",
    "st = read(f\"/home/brotzer/Desktop/test/mseed/{ss}.D/BW.TROMY..{ss}.D.2021.061\")\n",
    "st += read(f\"/home/brotzer/Desktop/plattform_tiltmeter/mseed/{ss}.D/BW.TROMY..{ss}.D.2021.061\")\n",
    "st.merge()\n",
    "\n",
    "st[0].data = filled(st[0].data, fill_value=0)\n",
    "print(st)\n",
    "st.write(f\"/home/brotzer/Desktop/BW.TROMY..{ss}.D.2021.061\", format=\"MSEED\")\n",
    "st.plot();"
   ]
  },
  {
   "cell_type": "code",
   "execution_count": null,
   "metadata": {
    "ExecuteTime": {
     "end_time": "2022-12-20T10:21:46.149422Z",
     "start_time": "2022-12-20T10:21:46.068Z"
    }
   },
   "outputs": [],
   "source": [
    "st2 = read(\"/home/brotzer/Desktop/BW.TROMY..MAE.D.2021.061\")\n",
    "print(st2)\n",
    "st2.plot();"
   ]
  },
  {
   "cell_type": "code",
   "execution_count": 5,
   "metadata": {
    "ExecuteTime": {
     "end_time": "2022-12-20T10:21:46.234949Z",
     "start_time": "2022-12-20T10:21:46.228890Z"
    }
   },
   "outputs": [
    {
     "ename": "NameError",
     "evalue": "name 'read' is not defined",
     "output_type": "error",
     "traceback": [
      "\u001b[0;31m---------------------------------------------------------------------------\u001b[0m",
      "\u001b[0;31mNameError\u001b[0m                                 Traceback (most recent call last)",
      "\u001b[0;32m<ipython-input-5-46c46c8c1dfa>\u001b[0m in \u001b[0;36m<module>\u001b[0;34m\u001b[0m\n\u001b[0;32m----> 1\u001b[0;31m \u001b[0mst\u001b[0m \u001b[0;34m=\u001b[0m \u001b[0mread\u001b[0m\u001b[0;34m(\u001b[0m\u001b[0;34m\"/home/brotzer/Desktop/test/mseed/MAN.D/BW.TROMY..MAN.D.2021.061\"\u001b[0m\u001b[0;34m)\u001b[0m\u001b[0;34m\u001b[0m\u001b[0;34m\u001b[0m\u001b[0m\n\u001b[0m\u001b[1;32m      2\u001b[0m \u001b[0mst\u001b[0m \u001b[0;34m+=\u001b[0m \u001b[0mread\u001b[0m\u001b[0;34m(\u001b[0m\u001b[0;34m\"/home/brotzer/Desktop/test/mseed/MAN.D/BW.TROMY..MAN.D.2021.062\"\u001b[0m\u001b[0;34m)\u001b[0m\u001b[0;34m\u001b[0m\u001b[0;34m\u001b[0m\u001b[0m\n\u001b[1;32m      3\u001b[0m \u001b[0mst\u001b[0m \u001b[0;34m+=\u001b[0m \u001b[0mread\u001b[0m\u001b[0;34m(\u001b[0m\u001b[0;34m\"/home/brotzer/Desktop/test/mseed/MAN.D/BW.TROMY..MAN.D.2021.063\"\u001b[0m\u001b[0;34m)\u001b[0m\u001b[0;34m\u001b[0m\u001b[0;34m\u001b[0m\u001b[0m\n\u001b[1;32m      4\u001b[0m \u001b[0;34m\u001b[0m\u001b[0m\n\u001b[1;32m      5\u001b[0m \u001b[0mst\u001b[0m\u001b[0;34m.\u001b[0m\u001b[0mplot\u001b[0m\u001b[0;34m(\u001b[0m\u001b[0;34m)\u001b[0m\u001b[0;34m;\u001b[0m\u001b[0;34m\u001b[0m\u001b[0;34m\u001b[0m\u001b[0m\n",
      "\u001b[0;31mNameError\u001b[0m: name 'read' is not defined"
     ]
    }
   ],
   "source": [
    "st = read(\"/home/brotzer/Desktop/test/mseed/MAN.D/BW.TROMY..MAN.D.2021.061\")\n",
    "st += read(\"/home/brotzer/Desktop/test/mseed/MAN.D/BW.TROMY..MAN.D.2021.062\")\n",
    "st += read(\"/home/brotzer/Desktop/test/mseed/MAN.D/BW.TROMY..MAN.D.2021.063\")\n",
    "\n",
    "st.plot();\n",
    "st"
   ]
  },
  {
   "cell_type": "code",
   "execution_count": 6,
   "metadata": {
    "ExecuteTime": {
     "end_time": "2022-12-20T10:21:46.393589Z",
     "start_time": "2022-12-20T10:21:46.388764Z"
    }
   },
   "outputs": [
    {
     "ename": "NameError",
     "evalue": "name '__main__' is not defined",
     "output_type": "error",
     "traceback": [
      "\u001b[0;31m---------------------------------------------------------------------------\u001b[0m",
      "\u001b[0;31mNameError\u001b[0m                                 Traceback (most recent call last)",
      "\u001b[0;32m<ipython-input-6-158c11767e00>\u001b[0m in \u001b[0;36m<module>\u001b[0;34m\u001b[0m\n\u001b[0;32m----> 1\u001b[0;31m \u001b[0;32mif\u001b[0m \u001b[0m__main__\u001b[0m \u001b[0;34m==\u001b[0m \u001b[0;34m\"__main__\"\u001b[0m\u001b[0;34m:\u001b[0m\u001b[0;34m\u001b[0m\u001b[0;34m\u001b[0m\u001b[0m\n\u001b[0m\u001b[1;32m      2\u001b[0m \u001b[0;34m\u001b[0m\u001b[0m\n\u001b[1;32m      3\u001b[0m     \u001b[0muser_params\u001b[0m \u001b[0;34m=\u001b[0m \u001b[0m__user_interaction\u001b[0m\u001b[0;34m(\u001b[0m\u001b[0;34m)\u001b[0m\u001b[0;34m\u001b[0m\u001b[0;34m\u001b[0m\u001b[0m\n",
      "\u001b[0;31mNameError\u001b[0m: name '__main__' is not defined"
     ]
    }
   ],
   "source": [
    "if __main__ == \"__main__\":\n",
    "    \n",
    "    user_params = __user_interaction()"
   ]
  },
  {
   "cell_type": "code",
   "execution_count": null,
   "metadata": {},
   "outputs": [],
   "source": []
  }
 ],
 "metadata": {
  "kernelspec": {
   "display_name": "Python 3",
   "language": "python",
   "name": "python3"
  },
  "language_info": {
   "codemirror_mode": {
    "name": "ipython",
    "version": 3
   },
   "file_extension": ".py",
   "mimetype": "text/x-python",
   "name": "python",
   "nbconvert_exporter": "python",
   "pygments_lexer": "ipython3",
   "version": "3.7.7"
  },
  "toc": {
   "base_numbering": 1,
   "nav_menu": {},
   "number_sections": true,
   "sideBar": true,
   "skip_h1_title": false,
   "title_cell": "Table of Contents",
   "title_sidebar": "Contents",
   "toc_cell": false,
   "toc_position": {},
   "toc_section_display": true,
   "toc_window_display": false
  }
 },
 "nbformat": 4,
 "nbformat_minor": 4
}
